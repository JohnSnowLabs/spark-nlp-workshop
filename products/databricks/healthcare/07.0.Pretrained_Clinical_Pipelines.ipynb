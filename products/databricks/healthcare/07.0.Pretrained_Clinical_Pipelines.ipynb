{
 "cells": [
  {
   "cell_type": "markdown",
   "metadata": {
    "application/vnd.databricks.v1+cell": {
     "cellMetadata": {
      "byteLimit": 2048000,
      "rowLimit": 10000
     },
     "inputWidgets": {},
     "nuid": "e8539446-c404-4371-b399-5cffddca4bf2",
     "showTitle": false,
     "tableResultSettingsMap": {},
     "title": ""
    },
    "id": "SymssfV7IcQ7"
   },
   "source": [
    "![JohnSnowLabs](https://nlp.johnsnowlabs.com/assets/images/logo.png)"
   ]
  },
  {
   "cell_type": "markdown",
   "metadata": {
    "application/vnd.databricks.v1+cell": {
     "cellMetadata": {
      "byteLimit": 2048000,
      "rowLimit": 10000
     },
     "inputWidgets": {},
     "nuid": "6ff6d64c-9e6c-4f0b-b1fa-94621f817f8f",
     "showTitle": false,
     "tableResultSettingsMap": {},
     "title": ""
    },
    "id": "v4uN8ZP_Itdo"
   },
   "source": [
    "# Detect clinical entities, relations and assertion status with pretrained pipelines"
   ]
  },
  {
   "cell_type": "code",
   "execution_count": 0,
   "metadata": {
    "application/vnd.databricks.v1+cell": {
     "cellMetadata": {
      "byteLimit": 2048000,
      "rowLimit": 10000
     },
     "inputWidgets": {},
     "nuid": "a6be679a-9fa4-4c5b-b9de-2e415135e7b7",
     "showTitle": false,
     "tableResultSettingsMap": {},
     "title": ""
    },
    "id": "R6iawCF1hDtv"
   },
   "outputs": [],
   "source": [
    "from johnsnowlabs import nlp, medical"
   ]
  },
  {
   "cell_type": "code",
   "execution_count": 0,
   "metadata": {
    "application/vnd.databricks.v1+cell": {
     "cellMetadata": {
      "byteLimit": 2048000,
      "rowLimit": 10000
     },
     "inputWidgets": {},
     "nuid": "04cccc79-f417-416b-b5b6-84bff66bc8b8",
     "showTitle": false,
     "tableResultSettingsMap": {},
     "title": ""
    },
    "colab": {
     "base_uri": "https://localhost:8080/",
     "height": 271
    },
    "executionInfo": {
     "elapsed": 16,
     "status": "ok",
     "timestamp": 1708015147354,
     "user": {
      "displayName": "Akar Öztürk",
      "userId": "07602883577262601067"
     },
     "user_tz": -60
    },
    "id": "xzNgN33jNHTe",
    "outputId": "86043e74-22a3-4fd0-f3d3-a8215804dea9"
   },
   "outputs": [
    {
     "output_type": "execute_result",
     "data": {
      "text/html": [
       "\n",
       "            <div>\n",
       "                <p><b>SparkSession - hive</b></p>\n",
       "                \n",
       "        <div>\n",
       "            <p><b>SparkContext</b></p>\n",
       "\n",
       "            <p><a href=\"/?o=7956323724731612#setting/sparkui/0923-153902-en71jub8/driver-8088391083002632245\">Spark UI</a></p>\n",
       "\n",
       "            <dl>\n",
       "              <dt>Version</dt>\n",
       "                <dd><code>v3.5.0</code></dd>\n",
       "              <dt>Master</dt>\n",
       "                <dd><code>spark://10.139.64.10:7077</code></dd>\n",
       "              <dt>AppName</dt>\n",
       "                <dd><code>Databricks Shell</code></dd>\n",
       "            </dl>\n",
       "        </div>\n",
       "        \n",
       "            </div>\n",
       "        "
      ],
      "text/plain": [
       "<pyspark.sql.session.SparkSession at 0x7f8476172950>"
      ]
     },
     "execution_count": 2,
     "metadata": {},
     "output_type": "execute_result"
    }
   ],
   "source": [
    "from pyspark.sql import DataFrame\n",
    "import pyspark.sql.functions as F\n",
    "import pyspark.sql.types as T\n",
    "import pyspark.sql as SQL\n",
    "from pyspark import keyword_only\n",
    "\n",
    "import os\n",
    "import json\n",
    "import string\n",
    "import numpy as np\n",
    "import pandas as pd\n",
    "\n",
    "\n",
    "\n",
    "from pyspark.ml import Pipeline, PipelineModel\n",
    "\n",
    "pd.set_option('max_colwidth', 100)\n",
    "pd.set_option('display.max_columns', 100)  \n",
    "pd.set_option('display.expand_frame_repr', False)\n",
    "\n",
    "spark"
   ]
  },
  {
   "cell_type": "markdown",
   "metadata": {
    "application/vnd.databricks.v1+cell": {
     "cellMetadata": {
      "byteLimit": 2048000,
      "rowLimit": 10000
     },
     "inputWidgets": {},
     "nuid": "c19771d0-1c2f-45bb-8d7d-4fd28ad152f0",
     "showTitle": false,
     "tableResultSettingsMap": {},
     "title": ""
    }
   },
   "source": [
    "## Healthcare NLP for Data Scientists Course\n",
    "\n",
    "If you are not familiar with the components in this notebook, you can check [Healthcare NLP for Data Scientists Udemy Course](https://www.udemy.com/course/healthcare-nlp-for-data-scientists/) and the [MOOC Notebooks](https://github.com/JohnSnowLabs/spark-nlp-workshop/tree/master/Spark_NLP_Udemy_MOOC/Healthcare_NLP) for each components."
   ]
  },
  {
   "cell_type": "markdown",
   "metadata": {
    "application/vnd.databricks.v1+cell": {
     "cellMetadata": {
      "byteLimit": 2048000,
      "rowLimit": 10000
     },
     "inputWidgets": {},
     "nuid": "c72b8dac-155f-4957-8a81-1fd05af803c4",
     "showTitle": false,
     "tableResultSettingsMap": {},
     "title": ""
    },
    "id": "OFZ-kItg7GZQ"
   },
   "source": [
    "## Listing Models, Pipelines and Annotators"
   ]
  },
  {
   "cell_type": "markdown",
   "metadata": {
    "application/vnd.databricks.v1+cell": {
     "cellMetadata": {
      "byteLimit": 2048000,
      "rowLimit": 10000
     },
     "inputWidgets": {},
     "nuid": "19be261b-381f-4e74-a00e-027fbce0aa24",
     "showTitle": false,
     "tableResultSettingsMap": {},
     "title": ""
    },
    "id": "tChnGM-R7gaN"
   },
   "source": [
    "**You can print the list of clinical pretrained models/pipelines and annotators in Spark NLP with one-line code:**"
   ]
  },
  {
   "cell_type": "code",
   "execution_count": 0,
   "metadata": {
    "application/vnd.databricks.v1+cell": {
     "cellMetadata": {
      "byteLimit": 2048000,
      "rowLimit": 10000
     },
     "inputWidgets": {},
     "nuid": "b28be62c-462b-4ebe-a2a8-9e0e55f07d3b",
     "showTitle": false,
     "tableResultSettingsMap": {},
     "title": ""
    },
    "colab": {
     "base_uri": "https://localhost:8080/"
    },
    "executionInfo": {
     "elapsed": 3453,
     "status": "ok",
     "timestamp": 1708007745041,
     "user": {
      "displayName": "Akar Öztürk",
      "userId": "07602883577262601067"
     },
     "user_tz": -60
    },
    "id": "QZ0Wsr7zIySZ",
    "outputId": "302014b3-0988-4600-f581-0599d8c41012"
   },
   "outputs": [
    {
     "output_type": "stream",
     "name": "stdout",
     "output_type": "stream",
     "text": [
      "+--------------------------------------------------------------+------+---------+\n| Pipeline                                                     | lang | version |\n+--------------------------------------------------------------+------+---------+\n| clinical_analysis                                            |  en  | 2.4.0   |\n| clinical_ner_assertion                                       |  en  | 2.4.0   |\n| clinical_deidentification                                    |  en  | 2.4.0   |\n| explain_clinical_doc_ade                                     |  en  | 2.7.3   |\n| recognize_entities_posology                                  |  en  | 3.0.0   |\n| explain_clinical_doc_carp                                    |  en  | 3.0.0   |\n| explain_clinical_doc_ade                                     |  en  | 3.0.0   |\n| explain_clinical_doc_era                                     |  en  | 3.0.0   |\n| icd10cm_snomed_mapping                                       |  en  | 3.0.2   |\n| snomed_icd10cm_mapping                                       |  en  | 3.0.2   |\n| icd10cm_umls_mapping                                         |  en  | 3.0.2   |\n| snomed_umls_mapping                                          |  en  | 3.0.2   |\n| rxnorm_umls_mapping                                          |  en  | 3.0.2   |\n| mesh_umls_mapping                                            |  en  | 3.0.2   |\n| rxnorm_mesh_mapping                                          |  en  | 3.0.2   |\n| clinical_deidentification                                    |  en  | 3.0.3   |\n| clinical_deidentification_glove                              |  en  | 3.0.4   |\n| rxnorm_mesh_mapping                                          |  en  | 3.1.0   |\n| snomed_umls_mapping                                          |  en  | 3.1.0   |\n| rxnorm_umls_mapping                                          |  en  | 3.1.0   |\n| mesh_umls_mapping                                            |  en  | 3.1.0   |\n| icd10cm_umls_mapping                                         |  en  | 3.1.0   |\n| explain_clinical_doc_ade                                     |  en  | 3.1.2   |\n| ner_profiling_biobert                                        |  en  | 3.2.3   |\n| ner_profiling_clinical                                       |  en  | 3.2.3   |\n| ner_profiling_biobert                                        |  en  | 3.3.1   |\n| ner_profiling_clinical                                       |  en  | 3.3.1   |\n| ner_model_finder                                             |  en  | 3.3.2   |\n| icd10_icd9_mapping                                           |  en  | 3.3.4   |\n| clinical_deidentification                                    |  en  | 3.4.1   |\n| clinical_deidentification_glove                              |  en  | 3.4.1   |\n| bert_token_classifier_ner_cellular_pipeline                  |  en  | 3.4.1   |\n| bert_token_classifier_ner_chemprot_pipeline                  |  en  | 3.4.1   |\n| bert_token_classifier_ner_clinical_pipeline                  |  en  | 3.4.1   |\n| bert_token_classifier_ner_chemicals_pipeline                 |  en  | 3.4.1   |\n| bert_token_classifier_ner_anatomy_pipeline                   |  en  | 3.4.1   |\n| bert_token_classifier_ner_ade_pipeline                       |  en  | 3.4.1   |\n| clinical_deidentification_glove_augmented                    |  en  | 3.4.1   |\n| ner_bacterial_species_pipeline                               |  en  | 3.4.1   |\n| ner_measurements_clinical_pipeline                           |  en  | 3.4.1   |\n| ner_medmentions_coarse_pipeline                              |  en  | 3.4.1   |\n| bert_token_classifier_drug_development_trials_pipeline       |  en  | 3.4.1   |\n| ner_events_healthcare_pipeline                               |  en  | 3.4.1   |\n| ner_healthcare_pipeline                                      |  en  | 3.4.1   |\n| ner_posology_healthcare_pipeline                             |  en  | 3.4.1   |\n| ner_clinical_biobert_pipeline                                |  en  | 3.4.1   |\n| ner_abbreviation_clinical_pipeline                           |  en  | 3.4.1   |\n| ner_ade_biobert_pipeline                                     |  en  | 3.4.1   |\n| ner_radiology_wip_clinical_pipeline                          |  en  | 3.4.1   |\n| ner_ade_clinicalbert_pipeline                                |  en  | 3.4.1   |\n| ner_events_biobert_pipeline                                  |  en  | 3.4.1   |\n| ner_posology_large_biobert_pipeline                          |  en  | 3.4.1   |\n| ner_anatomy_coarse_biobert_pipeline                          |  en  | 3.4.1   |\n| ner_posology_small_pipeline                                  |  en  | 3.4.1   |\n| ner_anatomy_coarse_pipeline                                  |  en  | 3.4.1   |\n| ner_drugs_greedy_pipeline                                    |  en  | 3.4.1   |\n| ner_posology_large_pipeline                                  |  en  | 3.4.1   |\n| ner_clinical_large_pipeline                                  |  en  | 3.4.1   |\n| ner_drugs_large_pipeline                                     |  en  | 3.4.1   |\n| ner_drugs_pipeline                                           |  en  | 3.4.1   |\n| ner_posology_greedy_pipeline                                 |  en  | 3.4.1   |\n| ner_drugprot_clinical_pipeline                               |  en  | 3.4.1   |\n| ner_genetic_variants_pipeline                                |  en  | 3.4.1   |\n| ner_posology_experimental_pipeline                           |  en  | 3.4.1   |\n| ner_biomarker_pipeline                                       |  en  | 3.4.1   |\n| ner_posology_biobert_pipeline                                |  en  | 3.4.1   |\n| ner_posology_pipeline                                        |  en  | 3.4.1   |\n| ner_risk_factors_biobert_pipeline                            |  en  | 3.4.1   |\n| ner_deidentify_dl_pipeline                                   |  en  | 3.4.1   |\n| ner_deid_subentity_augmented_i2b2_pipeline                   |  en  | 3.4.1   |\n| ner_deid_subentity_augmented_pipeline                        |  en  | 3.4.1   |\n| ner_cellular_biobert_pipeline                                |  en  | 3.4.1   |\n| ner_jsl_slim_pipeline                                        |  en  | 3.4.1   |\n| ner_cellular_pipeline                                        |  en  | 3.4.1   |\n| ner_deid_sd_large_pipeline                                   |  en  | 3.4.1   |\n| ner_nihss_pipeline                                           |  en  | 3.4.1   |\n| ner_jsl_greedy_biobert_pipeline                              |  en  | 3.4.1   |\n| ner_deid_sd_pipeline                                         |  en  | 3.4.1   |\n| ner_chemicals_pipeline                                       |  en  | 3.4.1   |\n| ner_jsl_greedy_pipeline                                      |  en  | 3.4.1   |\n| ner_jsl_enriched_biobert_pipeline                            |  en  | 3.4.1   |\n| ner_jsl_enriched_pipeline                                    |  en  | 3.4.1   |\n| ner_jsl_pipeline                                             |  en  | 3.4.1   |\n| ner_chemprot_biobert_pipeline                                |  en  | 3.4.1   |\n| ner_deid_enriched_biobert_pipeline                           |  en  | 3.4.1   |\n| ner_human_phenotype_go_biobert_pipeline                      |  en  | 3.4.1   |\n| ner_human_phenotype_go_clinical_pipeline                     |  en  | 3.4.1   |\n| ner_chemprot_clinical_pipeline                               |  en  | 3.4.1   |\n| ner_human_phenotype_gene_clinical_pipeline                   |  en  | 3.4.1   |\n| jsl_rd_ner_wip_greedy_clinical_pipeline                      |  en  | 3.4.1   |\n| ner_human_phenotype_gene_biobert_pipeline                    |  en  | 3.4.1   |\n| jsl_rd_ner_wip_greedy_biobert_pipeline                       |  en  | 3.4.1   |\n| jsl_ner_wip_modifier_clinical_pipeline                       |  en  | 3.4.1   |\n| ner_deid_biobert_pipeline                                    |  en  | 3.4.1   |\n| jsl_ner_wip_greedy_clinical_pipeline                         |  en  | 3.4.1   |\n| jsl_ner_wip_greedy_biobert_pipeline                          |  en  | 3.4.1   |\n| jsl_ner_wip_clinical_pipeline                                |  en  | 3.4.1   |\n| bert_token_classifier_ner_jsl_slim_pipeline                  |  en  | 3.4.1   |\n| ner_deid_augmented_pipeline                                  |  en  | 3.4.1   |\n| bert_token_classifier_ner_drugs_pipeline                     |  en  | 3.4.1   |\n| bert_token_classifier_ner_deid_pipeline                      |  en  | 3.4.1   |\n| bert_token_classifier_ner_bionlp_pipeline                    |  en  | 3.4.1   |\n| ner_cancer_genetics_pipeline                                 |  en  | 3.4.1   |\n| ner_clinical_pipeline                                        |  en  | 3.4.1   |\n| ner_deid_enriched_pipeline                                   |  en  | 3.4.1   |\n| ner_deid_generic_augmented_pipeline                          |  en  | 3.4.1   |\n| ner_deid_large_pipeline                                      |  en  | 3.4.1   |\n| ner_diseases_pipeline                                        |  en  | 3.4.1   |\n| ner_diseases_large_pipeline                                  |  en  | 3.4.1   |\n| ner_diseases_biobert_pipeline                                |  en  | 3.4.1   |\n| ner_events_admission_clinical_pipeline                       |  en  | 3.4.1   |\n| ner_events_clinical_pipeline                                 |  en  | 3.4.1   |\n| bert_token_classifier_ner_jsl_pipeline                       |  en  | 3.4.1   |\n| ner_jsl_biobert_pipeline                                     |  en  | 3.4.1   |\n| ner_anatomy_pipeline                                         |  en  | 3.4.1   |\n| ner_bionlp_pipeline                                          |  en  | 3.4.1   |\n| ner_bionlp_biobert_pipeline                                  |  en  | 3.4.1   |\n| ner_chexpert_pipeline                                        |  en  | 3.4.1   |\n| ner_radiology_pipeline                                       |  en  | 3.4.1   |\n| ner_risk_factors_pipeline                                    |  en  | 3.4.1   |\n| bert_token_classifier_ner_bacteria_pipeline                  |  en  | 3.4.1   |\n| ner_anatomy_biobert_pipeline                                 |  en  | 3.4.1   |\n| ner_ade_healthcare_pipeline                                  |  en  | 3.4.1   |\n| ner_ade_clinical_pipeline                                    |  en  | 3.4.1   |\n| re_temporal_events_enriched_clinical_pipeline                |  en  | 3.4.1   |\n| re_date_clinical_pipeline                                    |  en  | 3.4.1   |\n| re_human_phenotype_gene_clinical_pipeline                    |  en  | 3.4.1   |\n| re_test_result_date_pipeline                                 |  en  | 3.4.1   |\n| re_temporal_events_clinical_pipeline                         |  en  | 3.4.1   |\n| re_bodypart_proceduretest_pipeline                           |  en  | 3.4.1   |\n| re_test_problem_finding_pipeline                             |  en  | 3.4.1   |\n| re_bodypart_directions_pipeline                              |  en  | 3.4.1   |\n| explain_clinical_doc_radiology                               |  en  | 3.4.2   |\n| explain_clinical_doc_medication                              |  en  | 3.4.2   |\n| spellcheck_clinical_pipeline                                 |  en  | 3.4.1   |\n| spellcheck_clinical_pipeline                                 |  en  | 3.4.2   |\n| rct_binary_classifier_biobert_pipeline                       |  en  | 3.4.2   |\n| bert_sequence_classifier_binary_rct_biobert_pipeline         |  en  | 3.4.2   |\n| rct_binary_classifier_use_pipeline                           |  en  | 3.4.2   |\n| ner_biomedical_bc2gm_pipeline                                |  en  | 3.5.3   |\n| ner_clinical_trials_abstracts_pipeline                       |  en  | 3.5.3   |\n| icd10cm_snomed_mapping                                       |  en  | 3.5.3   |\n| rxnorm_ndc_mapping                                           |  en  | 3.5.3   |\n| snomed_umls_mapping                                          |  en  | 3.5.3   |\n| rxnorm_umls_mapping                                          |  en  | 3.5.3   |\n| mesh_umls_mapping                                            |  en  | 3.5.3   |\n| icd10cm_umls_mapping                                         |  en  | 3.5.3   |\n| snomed_icdo_mapping                                          |  en  | 3.5.3   |\n| icdo_snomed_mapping                                          |  en  | 3.5.3   |\n| snomed_icd10cm_mapping                                       |  en  | 3.5.3   |\n| ner_pathogen_pipeline                                        |  en  | 4.0.0   |\n| explain_clinical_doc_ade                                     |  en  | 4.0.0   |\n| clinical_deidentification_glove_augmented                    |  en  | 4.0.0   |\n| clinical_deidentification_wip                                |  en  | 4.0.0   |\n| clinical_deidentification                                    |  en  | 4.0.0   |\n| clinical_deidentification_slim                               |  en  | 4.0.0   |\n| umls_drug_substance_resolver_pipeline                        |  en  | 4.0.0   |\n| umls_disease_syndrome_resolver_pipeline                      |  en  | 4.0.0   |\n| umls_clinical_findings_resolver_pipeline                     |  en  | 4.0.0   |\n| umls_drug_resolver_pipeline                                  |  en  | 4.0.0   |\n| umls_major_concepts_resolver_pipeline                        |  en  | 4.0.0   |\n| ner_medication_pipeline                                      |  en  | 4.0.0   |\n| explain_clinical_doc_radiology                               |  en  | 4.0.0   |\n| explain_clinical_doc_medication                              |  en  | 4.0.0   |\n| ner_profiling_biobert                                        |  en  | 4.0.2   |\n| ner_profiling_clinical                                       |  en  | 4.0.2   |\n| medication_resolver_pipeline                                 |  en  | 4.0.2   |\n| medication_resolver_transform_pipeline                       |  en  | 4.0.2   |\n| ner_model_finder                                             |  en  | 4.1.0   |\n| clinical_deidentification                                    |  en  | 4.1.0   |\n| clinical_deidentification_glove_augmented                    |  en  | 4.1.0   |\n| icd9_resolver_pipeline                                       |  en  | 4.1.0   |\n| icd10_icd9_mapping                                           |  en  | 4.1.0   |\n| cvx_resolver_pipeline                                        |  en  | 4.1.0   |\n| icd10cm_resolver_pipeline                                    |  en  | 4.2.1   |\n| oncology_general_pipeline                                    |  en  | 4.1.0   |\n| cvx_resolver_pipeline                                        |  en  | 4.2.1   |\n| oncology_biomarker_pipeline                                  |  en  | 4.2.2   |\n| oncology_therapy_pipeline                                    |  en  | 4.2.2   |\n| oncology_diagnosis_pipeline                                  |  en  | 4.2.2   |\n| oncology_general_pipeline                                    |  en  | 4.2.2   |\n| ner_jsl_slim_pipeline                                        |  en  | 4.3.1   |\n| ner_eu_clinical_case_pipeline                                |  en  | 4.3.0   |\n| ner_oncology_posology_pipeline                               |  en  | 4.3.0   |\n| ner_eu_clinical_condition_pipeline                           |  en  | 4.3.0   |\n| ner_oncology_anatomy_general_healthcare_pipeline             |  en  | 4.3.0   |\n| ner_oncology_biomarker_pipeline                              |  en  | 4.3.0   |\n| ner_covid_trials_pipeline                                    |  en  | 4.3.0   |\n| ner_oncology_unspecific_posology_healthcare_pipeline         |  en  | 4.3.0   |\n| ner_oncology_therapy_pipeline                                |  en  | 4.3.0   |\n| ner_oncology_pipeline                                        |  en  | 4.3.0   |\n| ner_oncology_unspecific_posology_pipeline                    |  en  | 4.3.0   |\n| ner_oncology_anatomy_granular_pipeline                       |  en  | 4.3.0   |\n| ner_oncology_anatomy_general_pipeline                        |  en  | 4.3.0   |\n| ner_oncology_diagnosis_pipeline                              |  en  | 4.3.0   |\n| ner_sdoh_mentions_test_pipeline                              |  en  | 4.3.0   |\n| ner_jsl_pipeline                                             |  en  | 4.3.0   |\n| ner_oncology_test_pipeline                                   |  en  | 4.3.0   |\n| ner_oncology_tnm_pipeline                                    |  en  | 4.3.0   |\n| ner_sdoh_mentions_pipeline                                   |  en  | 4.3.0   |\n| ner_oncology_biomarker_healthcare_pipeline                   |  en  | 4.3.0   |\n| ner_oncology_demographics_pipeline                           |  en  | 4.3.0   |\n| ner_oncology_response_to_treatment_pipeline                  |  en  | 4.3.0   |\n| ner_clinical_trials_abstracts_pipeline                       |  en  | 4.3.0   |\n| ner_pathogen_pipeline                                        |  en  | 4.3.0   |\n| umls_clinical_findings_resolver_pipeline                     |  en  | 4.3.0   |\n| ner_radiology_wip_clinical_pipeline                          |  en  | 4.3.0   |\n| ner_deid_augmented_pipeline                                  |  en  | 4.3.0   |\n| ner_ade_clinical_pipeline                                    |  en  | 4.3.0   |\n| ner_jsl_enriched_pipeline                                    |  en  | 4.3.0   |\n| ner_chemd_clinical_pipeline                                  |  en  | 4.3.0   |\n| ner_deid_subentity_augmented_i2b2_pipeline                   |  en  | 4.3.0   |\n| ner_anatomy_coarse_pipeline                                  |  en  | 4.3.0   |\n| ner_deid_synthetic_pipeline                                  |  en  | 4.3.0   |\n| jsl_ner_wip_modifier_clinical_pipeline                       |  en  | 4.3.0   |\n| ner_abbreviation_clinical_pipeline                           |  en  | 4.3.0   |\n| ner_ade_clinicalbert_pipeline                                |  en  | 4.3.0   |\n| ner_cellular_pipeline                                        |  en  | 4.3.0   |\n| ner_deid_subentity_glove_pipeline                            |  en  | 4.3.0   |\n| ner_deid_sd_large_pipeline                                   |  en  | 4.3.0   |\n| ner_cancer_genetics_pipeline                                 |  en  | 4.3.0   |\n| ner_nihss_pipeline                                           |  en  | 4.3.0   |\n| ner_deid_subentity_augmented_pipeline                        |  en  | 4.3.0   |\n| ner_events_healthcare_pipeline                               |  en  | 4.3.0   |\n| ner_healthcare_pipeline                                      |  en  | 4.3.0   |\n| ner_deid_generic_glove_pipeline                              |  en  | 4.3.0   |\n| ner_jsl_greedy_pipeline                                      |  en  | 4.3.0   |\n| ner_medmentions_coarse_pipeline                              |  en  | 4.3.0   |\n| ner_chemicals_pipeline                                       |  en  | 4.3.0   |\n| jsl_ner_wip_greedy_clinical_pipeline                         |  en  | 4.3.0   |\n| ner_biomedical_bc2gm_pipeline                                |  en  | 4.3.0   |\n| ner_genetic_variants_pipeline                                |  en  | 4.3.0   |\n| ner_deid_enriched_pipeline                                   |  en  | 4.3.0   |\n| ner_drugs_pipeline                                           |  en  | 4.3.0   |\n| ner_deid_sd_pipeline                                         |  en  | 4.3.0   |\n| ner_biomarker_pipeline                                       |  en  | 4.3.0   |\n| ner_posology_large_pipeline                                  |  en  | 4.3.0   |\n| ner_living_species_pipeline                                  |  en  | 4.3.0   |\n| ner_chemprot_clinical_pipeline                               |  en  | 4.3.0   |\n| ner_bacterial_species_pipeline                               |  en  | 4.3.0   |\n| ner_radiology_pipeline                                       |  en  | 4.3.0   |\n| ner_human_phenotype_gene_clinical_pipeline                   |  en  | 4.3.0   |\n| ner_clinical_pipeline                                        |  en  | 4.3.0   |\n| nerdl_tumour_demo_pipeline                                   |  en  | 4.3.0   |\n| ner_posology_small_pipeline                                  |  en  | 4.3.0   |\n| ner_posology_greedy_pipeline                                 |  en  | 4.3.0   |\n| ner_diseases_pipeline                                        |  en  | 4.3.0   |\n| ner_clinical_large_pipeline                                  |  en  | 4.3.0   |\n| ner_posology_experimental_pipeline                           |  en  | 4.3.0   |\n| ner_events_admission_clinical_pipeline                       |  en  | 4.3.0   |\n| ner_events_clinical_pipeline                                 |  en  | 4.3.0   |\n| jsl_ner_wip_clinical_pipeline                                |  en  | 4.3.0   |\n| ner_deid_large_pipeline                                      |  en  | 4.3.0   |\n| ner_bionlp_pipeline                                          |  en  | 4.3.0   |\n| ner_drugprot_clinical_pipeline                               |  en  | 4.3.0   |\n| ner_anatomy_pipeline                                         |  en  | 4.3.0   |\n| ner_diseases_large_pipeline                                  |  en  | 4.3.0   |\n| ner_posology_pipeline                                        |  en  | 4.3.0   |\n| ner_nature_nero_clinical_pipeline                            |  en  | 4.3.0   |\n| ner_deidentify_dl_pipeline                                   |  en  | 4.3.0   |\n| ner_ade_healthcare_pipeline                                  |  en  | 4.3.0   |\n| ner_chexpert_pipeline                                        |  en  | 4.3.0   |\n| ner_drugs_large_pipeline                                     |  en  | 4.3.0   |\n| ner_supplement_clinical_pipeline                             |  en  | 4.3.0   |\n| jsl_rd_ner_wip_greedy_clinical_pipeline                      |  en  | 4.3.0   |\n| ner_human_phenotype_go_clinical_pipeline                     |  en  | 4.3.0   |\n| ner_measurements_clinical_pipeline                           |  en  | 4.3.0   |\n| ner_drugs_greedy_pipeline                                    |  en  | 4.3.0   |\n| ner_posology_healthcare_pipeline                             |  en  | 4.3.0   |\n| ner_risk_factors_pipeline                                    |  en  | 4.3.0   |\n| ner_clinical_biobert_pipeline                                |  en  | 4.3.0   |\n| ner_jsl_greedy_biobert_pipeline                              |  en  | 4.3.0   |\n| ner_cellular_biobert_pipeline                                |  en  | 4.3.0   |\n| ner_ade_biobert_pipeline                                     |  en  | 4.3.0   |\n| bert_token_classifier_ner_linnaeus_species_pipeline          |  en  | 4.3.0   |\n| bert_token_classifier_ner_clinical_trials_abstracts_pipeline |  en  | 4.3.0   |\n| bert_token_classifier_ner_bc4chemd_chemicals_pipeline        |  en  | 4.3.0   |\n| ner_deid_biobert_pipeline                                    |  en  | 4.3.0   |\n| bert_token_classifier_ner_deid_pipeline                      |  en  | 4.3.0   |\n| ner_human_phenotype_gene_biobert_pipeline                    |  en  | 4.3.0   |\n| ner_posology_biobert_pipeline                                |  en  | 4.3.0   |\n| ner_anatomy_coarse_biobert_pipeline                          |  en  | 4.3.0   |\n| bert_token_classifier_ner_bacteria_pipeline                  |  en  | 4.3.0   |\n| bert_token_classifier_ner_bc5cdr_disease_pipeline            |  en  | 4.3.0   |\n| bert_token_classifier_ner_chemprot_pipeline                  |  en  | 4.3.0   |\n| ner_living_species_biobert_pipeline                          |  en  | 4.3.0   |\n| bert_token_classifier_ner_jsl_slim_pipeline                  |  en  | 4.3.0   |\n| ner_diseases_biobert_pipeline                                |  en  | 4.3.0   |\n| bert_token_classifier_ner_anatomy_pipeline                   |  en  | 4.3.0   |\n| bert_token_classifier_ner_clinical_pipeline                  |  en  | 4.3.0   |\n| jsl_ner_wip_greedy_biobert_pipeline                          |  en  | 4.3.0   |\n| ner_posology_large_biobert_pipeline                          |  en  | 4.3.0   |\n| bert_token_classifier_ner_species_pipeline                   |  en  | 4.3.0   |\n| bert_token_classifier_ner_bc5cdr_chemicals_pipeline          |  en  | 4.3.0   |\n| bert_token_classifier_ner_ncbi_disease_pipeline              |  en  | 4.3.0   |\n| ner_jsl_biobert_pipeline                                     |  en  | 4.3.0   |\n| bert_token_classifier_ner_bionlp_pipeline                    |  en  | 4.3.0   |\n| bert_token_classifier_drug_development_trials_pipeline       |  en  | 4.3.0   |\n| bert_token_classifier_ner_chemicals_pipeline                 |  en  | 4.3.0   |\n| ner_deid_enriched_biobert_pipeline                           |  en  | 4.3.0   |\n| ner_bionlp_biobert_pipeline                                  |  en  | 4.3.0   |\n| bert_token_classifier_ner_ade_binary_pipeline                |  en  | \n\n*** WARNING: max output size exceeded, skipping output. ***\n\nntify_dl_pipeline                                   |  en  | 4.4.4   |\n| ner_jsl_enriched_pipeline                                    |  en  | 4.4.4   |\n| ner_risk_factors_biobert_pipeline                            |  en  | 4.4.4   |\n| ner_cellular_pipeline                                        |  en  | 4.4.4   |\n| ner_deid_large_pipeline                                      |  en  | 4.4.4   |\n| ner_deid_sd_large_pipeline                                   |  en  | 4.4.4   |\n| ner_medmentions_coarse_pipeline                              |  en  | 4.4.4   |\n| ner_events_clinical_pipeline                                 |  en  | 4.4.4   |\n| ner_events_admission_clinical_pipeline                       |  en  | 4.4.4   |\n| ner_posology_greedy_pipeline                                 |  en  | 4.4.4   |\n| bert_token_classifier_ner_ade_pipeline                       |  en  | 4.4.4   |\n| ner_genetic_variants_pipeline                                |  en  | 4.4.4   |\n| ner_deid_enriched_biobert_pipeline                           |  en  | 4.4.4   |\n| ner_events_biobert_pipeline                                  |  en  | 4.4.4   |\n| ner_drugs_pipeline                                           |  en  | 4.4.4   |\n| bert_token_classifier_ner_jsl_slim_pipeline                  |  en  | 4.4.4   |\n| ner_clinical_trials_abstracts_pipeline                       |  en  | 4.4.4   |\n| bert_token_classifier_ner_drugs_pipeline                     |  en  | 4.4.4   |\n| clinical_deidentification_wip                                |  en  | 4.4.4   |\n| ner_anatomy_coarse_biobert_pipeline                          |  en  | 4.4.4   |\n| ner_human_phenotype_go_clinical_pipeline                     |  en  | 4.4.4   |\n| ner_bionlp_pipeline                                          |  en  | 4.4.4   |\n| ner_posology_pipeline                                        |  en  | 4.4.4   |\n| jsl_ner_wip_modifier_clinical_pipeline                       |  en  | 4.4.4   |\n| ner_jsl_pipeline                                             |  en  | 4.4.4   |\n| ner_anatomy_coarse_pipeline                                  |  en  | 4.4.4   |\n| spellcheck_clinical_pipeline                                 |  en  | 4.4.4   |\n| ner_deid_subentity_augmented_pipeline                        |  en  | 4.4.4   |\n| bert_token_classifier_ner_bionlp_pipeline                    |  en  | 4.4.4   |\n| ner_posology_healthcare_pipeline                             |  en  | 4.4.4   |\n| ner_biomedical_bc2gm_pipeline                                |  en  | 4.4.4   |\n| jsl_rd_ner_wip_greedy_clinical_pipeline                      |  en  | 4.4.4   |\n| ner_human_phenotype_go_biobert_pipeline                      |  en  | 4.4.4   |\n| ner_human_phenotype_gene_clinical_pipeline                   |  en  | 4.4.4   |\n| ner_deid_subentity_augmented_i2b2_pipeline                   |  en  | 4.4.4   |\n| ner_chemprot_clinical_pipeline                               |  en  | 4.4.4   |\n| oncology_therapy_pipeline                                    |  en  | 4.4.4   |\n| ner_ade_clinicalbert_pipeline                                |  en  | 4.4.4   |\n| ner_jsl_enriched_biobert_pipeline                            |  en  | 4.4.4   |\n| summarizer_clinical_questions_pipeline                       |  en  | 4.4.4   |\n| icd10cm_resolver_pipeline                                    |  en  | 4.4.4   |\n| ner_vop_clinical_dept_pipeline                               |  en  | 4.4.4   |\n| bert_sequence_classifier_vop_drug_side_effect_pipeline       |  en  | 4.4.4   |\n| ner_vop_demographic_pipeline                                 |  en  | 4.4.4   |\n| bert_sequence_classifier_vop_sound_medical_pipeline          |  en  | 4.4.4   |\n| ner_vop_problem_pipeline                                     |  en  | 4.4.4   |\n| ner_vop_pipeline                                             |  en  | 4.4.4   |\n| summarizer_biomedical_pubmed_pipeline                        |  en  | 4.4.4   |\n| bert_sequence_classifier_vop_self_report_pipeline            |  en  | 4.4.4   |\n| ner_vop_problem_reduced_pipeline                             |  en  | 4.4.4   |\n| ner_vop_treatment_pipeline                                   |  en  | 4.4.4   |\n| bert_sequence_classifier_vop_side_effect_pipeline            |  en  | 4.4.4   |\n| cvx_resolver_pipeline                                        |  en  | 4.4.4   |\n| summarizer_clinical_guidelines_large_pipeline                |  en  | 4.4.4   |\n| ner_vop_test_pipeline                                        |  en  | 4.4.4   |\n| umls_clinical_findings_resolver_pipeline                     |  en  | 4.4.4   |\n| icd9_resolver_pipeline                                       |  en  | 4.4.4   |\n| summarizer_clinical_jsl_augmented_pipeline                   |  en  | 4.4.4   |\n| bert_sequence_classifier_vop_hcp_consult_pipeline            |  en  | 4.4.4   |\n| rct_binary_classifier_use_pipeline                           |  en  | 4.4.4   |\n| ner_vop_anatomy_pipeline                                     |  en  | 4.4.4   |\n| ner_profiling_clinical                                       |  en  | 4.4.4   |\n| summarizer_clinical_laymen_pipeline                          |  en  | 4.4.4   |\n| medication_resolver_pipeline                                 |  en  | 4.4.4   |\n| summarizer_clinical_jsl_pipeline                             |  en  | 4.4.4   |\n| rct_binary_classifier_biobert_pipeline                       |  en  | 4.4.4   |\n| summarizer_radiology_pipeline                                |  en  | 4.4.4   |\n| ner_vop_temporal_pipeline                                    |  en  | 4.4.4   |\n| umls_major_concepts_resolver_pipeline                        |  en  | 4.4.4   |\n| umls_disease_syndrome_resolver_pipeline                      |  en  | 4.4.4   |\n| umls_drug_resolver_pipeline                                  |  en  | 4.4.4   |\n| summarizer_generic_jsl_pipeline                              |  en  | 4.4.4   |\n| umls_drug_substance_resolver_pipeline                        |  en  | 4.4.4   |\n| ner_profiling_oncology                                       |  en  | 4.4.4   |\n| ner_profiling_vop                                            |  en  | 4.4.4   |\n| ner_profiling_sdoh                                           |  en  | 4.4.4   |\n| clinical_deidentification                                    |  en  | 5.0.0   |\n| rxnorm_multi_mapper_pipeline                                 |  en  | 5.0.1   |\n| rxnorm_resolver_pipeline                                     |  en  | 5.0.1   |\n| icd10cm_multi_mapper_pipeline                                |  en  | 5.0.1   |\n| abbreviation_pipeline                                        |  en  | 5.0.1   |\n| snomed_multi_mapper_pipeline                                 |  en  | 5.0.1   |\n| ner_oncology_anatomy_general_langtest_pipeline               |  en  | 5.1.0   |\n| ner_posology_langtest_pipeline                               |  en  | 5.1.0   |\n| ner_jsl_langtest_pipeline                                    |  en  | 5.1.0   |\n| ner_sdoh_langtest_pipeline                                   |  en  | 5.1.0   |\n| ner_oncology_demographics_langtest_pipeline                  |  en  | 5.1.0   |\n| ner_ade_clinical_langtest_pipeline                           |  en  | 5.1.0   |\n| ner_events_clinical_langtest_pipeline                        |  en  | 5.1.0   |\n| ner_oncology_anatomy_granular_langtest_pipeline              |  en  | 5.1.0   |\n| ner_oncology_response_to_treatment_langtest_pipeline         |  en  | 5.1.0   |\n| ner_oncology_posology_langtest_pipeline                      |  en  | 5.1.0   |\n| oncology_diagnosis_pipeline                                  |  en  | 5.2.0   |\n| ner_oncology_pipeline                                        |  en  | 5.2.0   |\n| summarizer_clinical_laymen_onnx_pipeline                     |  en  | 5.2.0   |\n| ner_vop_pipeline                                             |  en  | 5.2.0   |\n| clinical_notes_qa_base_onnx_pipeline                         |  en  | 5.2.0   |\n| medical_qa_biogpt_pipeline                                   |  en  | 5.2.0   |\n| flan_t5_base_jsl_qa_pipeline                                 |  en  | 5.2.0   |\n| clinical_deidentification_langtest                           |  en  | 5.2.0   |\n| clinical_notes_qa_large_onnx_pipeline                        |  en  | 5.2.0   |\n| explain_clinical_doc_vop                                     |  en  | 5.2.1   |\n| hcc_resolver_pipeline                                        |  en  | 5.2.1   |\n| atc_resolver_pipeline                                        |  en  | 5.2.1   |\n| hpo_resolver_pipeline                                        |  en  | 5.2.1   |\n| explain_clinical_doc_radiology                               |  en  | 5.2.1   |\n| ndc_resolver_pipeline                                        |  en  | 5.2.1   |\n| mesh_resolver_pipeline                                       |  en  | 5.2.1   |\n| icd10cm_generalised_resolver_pipeline                        |  en  | 5.2.1   |\n| loinc_numeric_resolver_pipeline                              |  en  | 5.2.1   |\n| hcpcs_resolver_pipeline                                      |  en  | 5.2.1   |\n| hgnc_resolver_pipeline                                       |  en  | 5.2.1   |\n| ncit_resolver_pipeline                                       |  en  | 5.2.1   |\n| rxcui_resolver_pipeline                                      |  en  | 5.2.1   |\n| snomed_procedures_measurements_resolver_pipeline             |  en  | 5.2.1   |\n| icdo_resolver_pipeline                                       |  en  | 5.2.1   |\n| loinc_resolver_pipeline                                      |  en  | 5.2.1   |\n| icd10pcs_resolver_pipeline                                   |  en  | 5.2.1   |\n| clinical_deidentification_obfuscation_small                  |  en  | 5.2.1   |\n| clinical_deidentification_obfuscation_medium                 |  en  | 5.2.1   |\n| clinical_deidentification_subentity                          |  en  | 5.2.1   |\n| clinical_deidentification_generic                            |  en  | 5.2.1   |\n| clinical_deidentification                                    |  en  | 5.2.0   |\n| medication_resolver_pipeline                                 |  en  | 5.2.1   |\n| medication_resolver_transform_pipeline                       |  en  | 5.2.1   |\n| snomed_findings_resolver_pipeline                            |  en  | 5.3.0   |\n| snomed_body_structure_resolver_pipeline                      |  en  | 5.3.0   |\n| icd10cm_rxnorm_resolver_pipeline                             |  en  | 5.3.0   |\n| snomed_conditions_resolver_pipeline                          |  en  | 5.3.0   |\n| snomed_resolver_pipeline                                     |  en  | 5.3.0   |\n| explain_clinical_doc_biomarker                               |  en  | 5.3.0   |\n| snomed_drug_resolver_pipeline                                |  en  | 5.3.0   |\n| snomed_auxConcepts_resolver_pipeline                         |  en  | 5.3.0   |\n| clinical_deidentification_generic_optimized                  |  en  | 5.3.0   |\n| clinical_deidentification_subentity_nameAugmented            |  en  | 5.3.0   |\n| clinical_deidentification_subentity_optimized                |  en  | 5.3.0   |\n| explain_clinical_doc_public_health                           |  en  | 5.3.0   |\n| medication_resolver_pipeline                                 |  en  | 5.3.0   |\n| explain_clinical_doc_ade                                     |  en  | 5.3.0   |\n| medication_resolver_transform_pipeline                       |  en  | 5.3.0   |\n| snomed_term_resolver_pipeline                                |  en  | 5.3.1   |\n| ner_medication_pipeline                                      |  en  | 5.3.0   |\n| explain_clinical_doc_risk_factors                            |  en  | 5.3.0   |\n| clinical_deidentification_multi_mode_output                  |  en  | 5.3.1   |\n| clinical_deidentification                                    |  en  | 5.3.1   |\n| ner_profiling_deidentification                               |  en  | 5.3.1   |\n| ner_medication_generic_pipeline                              |  en  | 5.3.1   |\n| explain_clinical_doc_generic                                 |  en  | 5.2.1   |\n| explain_clinical_doc_sdoh                                    |  en  | 5.3.1   |\n| explain_clinical_doc_mental_health                           |  en  | 5.3.1   |\n| explain_clinical_doc_granular                                |  en  | 5.2.1   |\n| explain_clinical_doc_oncology                                |  en  | 5.2.1   |\n| ner_deid_context_augmented_pipeline                          |  en  | 5.3.2   |\n| ner_deid_generic_context_augmented_pipeline                  |  en  | 5.3.2   |\n| ner_deid_subentity_context_augmented_pipeline                |  en  | 5.3.2   |\n| ner_deid_context_nameAugmented_pipeline                      |  en  | 5.3.2   |\n| clinical_deidentification                                    |  en  | 5.3.3   |\n| clinical_deidentification_multi_mode_output                  |  en  | 5.3.3   |\n| ner_profiling_vop                                            |  en  | 5.3.2   |\n| pdf_deid_subentity_context_augmented_pipeline                |  en  | 5.3.2   |\n| pdf_deid_subentity_context_augmented_pipeline                |  en  | 5.4.1   |\n| medication_resolver_transform_pipeline                       |  en  | 5.3.3   |\n| rxnorm_resolver_pipeline                                     |  en  | 5.3.3   |\n| explain_clinical_doc_medication                              |  en  | 5.3.3   |\n| medication_resolver_pipeline                                 |  en  | 5.3.3   |\n| ner_profiling_oncology                                       |  en  | 5.3.2   |\n| ner_profiling_sdoh                                           |  en  | 5.3.2   |\n| explain_clinical_doc_radiology                               |  en  | 5.3.3   |\n| explain_clinical_doc_granular                                |  en  | 5.3.3   |\n| ner_profiling_clinical                                       |  en  | 5.4.0   |\n| icd10cm_resolver_pipeline                                    |  en  | 5.4.0   |\n| icd10cm_rxnorm_resolver_pipeline                             |  en  | 5.4.0   |\n| medication_resolver_pipeline                                 |  en  | 5.4.0   |\n| rxnorm_resolver_pipeline                                     |  en  | 5.4.0   |\n| medication_resolver_transform_pipeline                       |  en  | 5.4.0   |\n| dicom_deid_pipeline                                          |  en  | 5.3.3   |\n| meddra_llt_resolver_pipeline                                 |  en  | 5.4.1   |\n| explain_clinical_doc_vop_small                               |  en  | 5.4.1   |\n| explain_clinical_doc_cancer_type                             |  en  | 5.4.1   |\n| explain_clinical_doc_oncology                                |  en  | 5.4.1   |\n| ndc_resolver_pipeline                                        |  en  | 5.4.1   |\n| rxnorm_resolver_pipeline                                     |  en  | 5.4.1   |\n| oncology_biomarker_pipeline                                  |  en  | 5.4.1   |\n| medication_resolver_pipeline                                 |  en  | 5.4.1   |\n| icd10cm_rxnorm_resolver_pipeline                             |  en  | 5.4.1   |\n| medication_resolver_transform_pipeline                       |  en  | 5.4.1   |\n| clinical_deidentification_docwise_wip                        |  en  | 5.4.1   |\n| clinical_deidentification_v2_wip                             |  en  | 5.4.1   |\n| explain_clinical_doc_sdoh_small                              |  en  | 5.4.1   |\n| clinical_deidentification_nameAugmented_v2                   |  en  | 5.4.1   |\n| clinical_deidentification_docwise_wip                        |  en  | 5.5.0   |\n| clinical_deidentification_v2_wip                             |  en  | 5.5.0   |\n| clinical_deidentification_nameAugmented_v2                   |  en  | 5.5.0   |\n| clinical_deidentification_nameAugmented_v2                   |  en  | 5.4.0   |\n| loinc_resolver_pipeline                                      |  en  | 5.5.0   |\n| loinc_numeric_resolver_pipeline                              |  en  | 5.5.0   |\n| explain_clinical_doc_oncology                                |  en  | 5.5.0   |\n| clinical_deidentification_docwise_wip_v2                     |  en  | 5.5.0   |\n| clinical_deidentification_docwise_wip_v2                     |  en  | 5.5.1   |\n| clinical_deidentification_docwise_medium_wip                 |  en  | 5.5.1   |\n| clinical_deidentification_docwise_large_wip                  |  en  | 5.5.1   |\n| clinical_deidentification_zeroshot_medium                    |  en  | 5.5.0   |\n| clinical_deidentification_zeroshot_large                     |  en  | 5.5.0   |\n| umls_major_concepts_resolver_pipeline                        |  en  | 5.5.1   |\n| umls_disease_syndrome_resolver_pipeline                      |  en  | 5.5.1   |\n| medication_resolver_transform_pipeline                       |  en  | 5.5.1   |\n| medication_resolver_pipeline                                 |  en  | 5.5.1   |\n| snomed_multi_mapper_pipeline                                 |  en  | 5.5.1   |\n| umls_drug_resolver_pipeline                                  |  en  | 5.5.1   |\n| umls_drug_substance_resolver_pipeline                        |  en  | 5.5.1   |\n| umls_clinical_findings_resolver_pipeline                     |  en  | 5.5.1   |\n| clinical_deidentification_light                              |  en  | 5.5.1   |\n| clinical_deidentification_multi_mode_output                  |  en  | 5.5.1   |\n| clinical_deidentification_docwise_benchmark                  |  en  | 5.5.1   |\n| clinical_deidentification_docwise_benchmark                  |  en  | 5.5.2   |\n| explain_clinical_doc_oncology_slim                           |  en  | 5.5.2   |\n| clinical_deidentification_nameAugmented_docwise              |  en  | 5.5.3   |\n| clinical_deidentification_nameAugmented_v3                   |  en  | 5.5.3   |\n| clinical_deidentification_docwise_wip                        |  en  | 5.5.3   |\n| ner_deid_subentity_docwise_augmented_pipeline_v2             |  en  | 5.5.3   |\n| ner_deid_nameAugmented_docwise_pipeline                      |  en  | 5.5.3   |\n| ner_deid_nameAugmented_pipeline_v3                           |  en  | 5.5.3   |\n| ner_substance_use_benchmark_pipeline                         |  en  | 5.5.3   |\n| ner_symptom_or_sign_benchmark_pipeline                       |  en  | 5.5.3   |\n| ner_drug_benchmark_pipeline                                  |  en  | 5.5.3   |\n| ner_alcohol_use_benchmark_pipeline                           |  en  | 5.5.3   |\n| ner_test_benchmark_pipeline                                  |  en  | 5.5.3   |\n| ner_admission_discharge_benchmark_pipeline                   |  en  | 5.5.3   |\n| ner_tobaco_use_benchmark_pipeline                            |  en  | 5.5.3   |\n| ner_problem_benchmark_pipeline                               |  en  | 5.5.3   |\n| ner_treatment_benchmark_pipeline                             |  en  | 5.5.3   |\n| ner_grade_stage_severity_benchmark_pipeline                  |  en  | 5.5.3   |\n| ner_procedure_benchmark_pipeline                             |  en  | 5.5.3   |\n| ner_medical_condition_disorder_benchmark_pipeline            |  en  | 5.5.3   |\n| ner_consumption_benchmark_pipeline                           |  en  | 5.5.3   |\n| ner_body_part_benchmark_pipeline                             |  en  | 5.5.3   |\n| clinical_deidentification_docwise_large_v3                   |  en  | 5.5.1   |\n| clinical_deidentification_docwise_benchmark                  |  en  | 5.5.3   |\n| hpo_mapper_pipeline                                          |  en  | 6.0.0   |\n| clinical_deidentification_docwise_benchmark_light            |  en  | 6.0.2   |\n| clinical_deidentification_docwise_benchmark_light_v2         |  en  | 6.0.2   |\n| ner_profiling_deidentification                               |  en  | 6.0.2   |\n| svs_pipe                                                     |  en  | 5.5.0   |\n| ner_deid_docwise_benchmark_optimized                         |  en  | 6.0.2   |\n| ner_deid_docwise_benchmark_optimized_zeroshot_partial        |  en  | 6.0.2   |\n| clinical_deidentification_docwise_benchmark_optimized        |  en  | 6.0.2   |\n| hpo_mapper_pipeline_v2                                       |  en  | 6.0.2   |\n| explain_clinical_doc_generic_light                           |  en  | 6.0.2   |\n| explain_clinical_doc_oncology_light                          |  en  | 6.0.2   |\n| explain_clinical_doc_biomarker_light                         |  en  | 6.0.2   |\n| explain_clinical_doc_medication_generic_light                |  en  | 6.0.2   |\n| explain_clinical_doc_vop_light                               |  en  | 6.0.2   |\n| explain_clinical_doc_public_health_light                     |  en  | 6.0.2   |\n| explain_clinical_doc_radiology_light                         |  en  | 6.0.2   |\n| explain_clinical_doc_mental_health_light                     |  en  | 6.0.2   |\n| explain_clinical_doc_medication_light                        |  en  | 6.0.2   |\n| explain_clinical_doc_sdoh_light                              |  en  | 6.0.2   |\n| explain_clinical_doc_risk_factors_light                      |  en  | 6.0.2   |\n| ner_ade_age_meddra_test_pipeline                             |  en  | 6.0.3   |\n| clinical_deidentification_docwise_benchmark_optimized        |  en  | 5.5.3   |\n| ner_snomed_drug_pipeline                                     |  en  | 6.0.2   |\n| ner_icdo_pipeline                                            |  en  | 6.0.2   |\n| ner_ncit_pipeline                                            |  en  | 6.0.2   |\n| ner_umls_drug_substance_pipeline                             |  en  | 6.0.2   |\n| ner_umls_disease_syndrome_pipeline                           |  en  | 6.0.2   |\n| ner_snomed_term_pipeline                                     |  en  | 6.0.2   |\n| ner_snomed_conditions_pipeline                               |  en  | 6.0.2   |\n| ner_snomed_findings_pipeline                                 |  en  | 6.0.2   |\n| ner_meddra_pt_pipeline                                       |  en  | 6.0.2   |\n| ner_hgnc_pipeline                                            |  en  | 6.0.2   |\n| ner_meddra_llt_pipeline                                      |  en  | 6.0.2   |\n| ner_umls_clinical_drugs_pipeline                             |  en  | 6.0.2   |\n| ner_rxnorm_pipeline                                          |  en  | 6.0.2   |\n| ner_icd10pcs_pipeline                                        |  en  | 6.0.2   |\n| ner_snomed_auxConcepts_pipeline                              |  en  | 6.0.2   |\n| ner_snomed_procedures_measurements_pipeline                  |  en  | 6.0.2   |\n| ner_umls_major_concepts_pipeline                             |  en  | 6.0.2   |\n| ner_atc_pipeline                                             |  en  | 6.0.2   |\n| ner_hcpcs_pipeline                                           |  en  | 6.0.2   |\n| ner_mesh_pipeline                                            |  en  | 6.0.2   |\n| ner_snomed_auxConcepts_findings_pipeline                     |  en  | 6.0.2   |\n| ner_icd10cm_pipeline                                         |  en  | 6.0.2   |\n| ner_umls_clinical_findings_pipeline                          |  en  | 6.0.2   |\n| ner_rxcui_pipeline                                           |  en  | 6.0.2   |\n| ner_hcc_pipeline                                             |  en  | 6.0.2   |\n| ner_hpo_pipeline                                             |  en  | 6.0.2   |\n| ner_loinc_pipeline                                           |  en  | 6.0.2   |\n| ner_snomed_bodyStructure_pipeline                            |  en  | 6.0.2   |\n| ner_ndc_pipeline                                             |  en  | 6.0.2   |\n| ner_cpt_pipeline                                             |  en  | 6.0.2   |\n| explain_clinical_doc_ade_light                               |  en  | 6.0.2   |\n| vaccine_names                                                |  en  | 6.0.3   |\n| ner_vaccine_types_pipeline                                   |  en  | 6.0.3   |\n| clinical_deidentification_docwise_benchmark_large            |  en  | 6.0.4   |\n| ner_docwise_benchmark_large                                  |  en  | 6.0.4   |\n| clinical_deidentification_docwise_benchmark_medium           |  en  | 6.0.4   |\n| ner_docwise_benchmark_medium                                 |  en  | 6.0.4   |\n| hpo_mapper_pipeline_v3                                       |  en  | 6.0.4   |\n| jsl_meds_ner_2b_q16_v2_pipeline                              |  en  | 6.1.0   |\n| jsl_meds_ner_q16_v4_pipeline                                 |  en  | 6.1.0   |\n| jsl_meds_8b_q8_v4_pipeline                                   |  en  | 6.1.0   |\n| jsl_meds_4b_q16_v4_pipeline                                  |  en  | 6.1.0   |\n| jsl_meds_ner_vlm_2b_q16_v2_pipeline                          |  en  | 6.1.0   |\n| hpo_mapper_pipeline_v4                                       |  en  | 6.1.0   |\n+--------------------------------------------------------------+------+---------+\n\n"
     ]
    }
   ],
   "source": [
    "from sparknlp_jsl.pretrained import InternalResourceDownloader\n",
    "\n",
    "# print PretrainedPipelines\n",
    "InternalResourceDownloader.showPrivatePipelines(lang='en')\n",
    "\n",
    "# print models\n",
    "#InternalResourceDownloader.showPrivateModels(annotator=\"MedicalNerModel\", lang='en')\n",
    "\n",
    "# print annotators\n",
    "# InternalResourceDownloader.showAvailableAnnotators()"
   ]
  },
  {
   "cell_type": "markdown",
   "metadata": {
    "application/vnd.databricks.v1+cell": {
     "cellMetadata": {
      "byteLimit": 2048000,
      "rowLimit": 10000
     },
     "inputWidgets": {},
     "nuid": "cb7d82d3-9bff-4e45-aa38-d5b886911b36",
     "showTitle": false,
     "tableResultSettingsMap": {},
     "title": ""
    },
    "id": "hmhC6kMHKYyh"
   },
   "source": [
    "## Pretrained Pipelines"
   ]
  },
  {
   "cell_type": "markdown",
   "metadata": {
    "application/vnd.databricks.v1+cell": {
     "cellMetadata": {
      "byteLimit": 2048000,
      "rowLimit": 10000
     },
     "inputWidgets": {},
     "nuid": "ca5b524e-78f9-4acf-8358-f61e59ca0a5e",
     "showTitle": false,
     "tableResultSettingsMap": {},
     "title": ""
    },
    "id": "dLFDvuupKeGH"
   },
   "source": [
    "In order to save you from creating a pipeline from scratch, Spark NLP also has a pre-trained pipelines that are already fitted using certain annotators and transformers according to various use cases.\n",
    "\n",
    "**1.   explain_clinical_doc_granular** :\n",
    "\n",
    "> A pipeline with `ner_jsl`, `assertion_jsl` and `re_test_result_date`. It will extract clinical and medication entities, assign assertion status and find relationships between clinical entities.\n",
    "\n",
    "**2.   explain_clinical_doc_carp** :\n",
    "\n",
    "> A pipeline with `ner_clinical`, `assertion_dl`, `re_clinical` and `ner_posology`. It will extract clinical and medication entities, assign assertion status and find relationships between clinical entities.\n",
    "\n",
    "**3.   explain_clinical_doc_era** :\n",
    "\n",
    "> A pipeline with `ner_clinical_events`, `assertion_dl` and `re_temporal_events_clinical`. It will extract clinical entities, assign assertion status and find temporal relationships between clinical entities.\n",
    "\n",
    "**4.   explain_clinical_doc_ade** :\n",
    "\n",
    "> A pipeline for `Adverse Drug Events (ADE)` with `ner_ade_biobert`, `assertiondl_biobert`, `classifierdl_ade_conversational_biobert` and `re_ade_biobert`. It will classify the document, extract `ADE` and `DRUG` entities, assign assertion status to `ADE` entities, and relate them with `DRUG` entities, then assign ADE status to a text (`True` means ADE, `False` means not related to ADE).\n",
    "\n",
    "**letter codes in the naming conventions:**\n",
    "\n",
    "> c : ner_clinical\n",
    "\n",
    "> e : ner_clinical_events\n",
    "\n",
    "> r : relation extraction\n",
    "\n",
    "> p : ner_posology\n",
    "\n",
    "> a : assertion\n",
    "\n",
    "> ade : adverse drug events\n",
    "\n",
    "**Relation Extraction types:**\n",
    "\n",
    "`re_clinical` >> TrIP (improved), TrWP (worsened), TrCP (caused problem), TrAP (administered), TrNAP (avoided), TeRP (revealed problem), TeCP (investigate problem), PIP (problems related)\n",
    "\n",
    "`re_temporal_events_clinical` >> `AFTER`, `BEFORE`, `OVERLAP`\n",
    "\n",
    "**5. explain_clinical_doc_medication:**\n",
    "\n",
    "> A pipeline for detecting posology entities with the `ner_posology_large` NER model, assigning their assertion status with `assertion_jsl` model, and extracting relations between posology-related terminology with `posology_re` relation extraction model.\n",
    "\n",
    "\n",
    "**6. explain_clinical_doc_radiology**\n",
    "\n",
    "> A pipeline for detecting radiology entities with the `ner_radiology` NER model, assigning their assertion status with `assertion_dl_radiology` model, and extracting relations between the diagnosis, test, and findings with `re_test_problem_finding` relation extraction model.\n",
    "\n",
    "**7. Clinical Deidentification** :\n",
    "\n",
    ">This pipeline can be used to deidentify PHI information from medical texts. The PHI information will be masked and obfuscated in the resulting text. The pipeline can mask and obfuscate `AGE`, `CONTACT`, `DATE`, `ID`, `LOCATION`, `NAME`, `PROFESSION`, `CITY`, `COUNTRY`, `DOCTOR`, `HOSPITAL`, `IDNUM`, `MEDICALRECORD`, `ORGANIZATION`, `PATIENT`, `PHONE`, `PROFESSION`, `STREET`, `USERNAME`, `ZIP`, `ACCOUNT`, `LICENSE`, `VIN`, `SSN`, `DLN`, `PLATE`, `IPADDR` entities.\n",
    "\n",
    "**8.   explain_clinical_doc_generic** :\n",
    "\n",
    "> A pipeline with `ner_clinical`, `assertion_dl` and `re_clinical`. It will extract clinical and medication entities, assign assertion status and find relationships between clinical entities.\n",
    "\n",
    "- Clinical Entity Labels: `PROBLEM`, `TEST`, `TREATMENT`\n",
    "\n",
    "- Assertion Status Labels: `Present`, `Absent`, `Possible`, `Planned`, `Past`, `Family`, `Hypotetical`, `SomeoneElse`\n",
    "\n",
    "- Relation Extraction Labels: `TrAP`, `TeRP`, `TrIP`, `TrWP`, `TrCP`, `TrAP`, `TrNAP`, `TeCP`, `PIP`\n",
    "\n",
    "**9.   explain_clinical_doc_oncology** :\n",
    "\n",
    "> Pipelines include Named-Entity Recognition, Assertion Status and Relation Extraction models to extract information from oncology texts.\n",
    "\n",
    "\n",
    "**10.   explain_clinical_doc_vop** :\n",
    "\n",
    "> Pipelines include Named-Entity Recognition, Assertion Status, Relation Extraction and Entity Resolution models to extract information from clinical texts.\n",
    "\n",
    "**11.   explain_clinical_doc_public_health** :\n",
    "\n",
    "> Pipelines include Named-Entity Recognition, Assertion Status and Relation Extraction models to extract information from clinical texts.\n",
    "\n",
    "**12.   explain_clinical_doc_biomarker** :\n",
    "\n",
    "> Pipelines include Named-Entity Recognition, Text Matcher, Sentence Classifier and Relation Extraction models to extract information from clinical texts.\n",
    "\n",
    "**13.   explain_clinical_doc_sdoh** :\n",
    "\n",
    "> This pipeline is designed to extract all clinical/medical entities, assertion status, and relation informations which may be considered as Social Determinants of Health (SDOH) entities from text.\n",
    "\n",
    "**14.   explain_clinical_doc_mental_health** :\n",
    "\n",
    "> This pipeline is designed to extract all mental health-related entities, assertion status, and relation information from text.\n",
    "\n",
    "**15.   ner_medication_generic_pipeline** :\n",
    "\n",
    "> This pre-trained pipeline is designed to identify generic `DRUG` entities in clinical texts. It was built on top of the `ner_posology_greedy`, `ner_jsl_greedy`, `ner_drugs_large` and `drug_matcher` models to detect the entities `DRUG`, `DOSAGE`, `ROUTE` and `STRENGTH`, chunking them into a larger entity as `DRUG` when they appear together.\n",
    "\n",
    "**16. NER Pipelines:**\n",
    "\n",
    "> Pipelines for all the available pretrained NER models.\n",
    "\n",
    "**17. BERT Based NER Pipelines**\n",
    "\n",
    "> Pipelines for all the available Bert token classification models.\n",
    "\n",
    "**18. ner_profiling_clinical and ner_profiling_biobert:**\n",
    "\n",
    "> Pipelines for exploring all the available pretrained NER models at once.\n",
    "\n",
    "**19. ner_model_finder**\n",
    "\n",
    "> A pipeline trained with bert embeddings that can be used to find the most appropriate NER model given the entity name.\n",
    "\n",
    "**20. Resolver Pipelines**\n",
    "\n",
    "> Pipelines for converting clinical entities to their UMLS CUI codes and medication entities to their ADE, Action, Treatment, UMLS, RxNorm, ICD9, SNOMED and NDC codes.\n",
    "\n",
    "**21. Oncology Pipelines**\n",
    "\n",
    "> Pipelines include Named-Entity Recognition, Assertion Status, Relation Extraction and Entity Resolution models to extract information from oncology texts.\n",
    "\n",
    "\n",
    "**Also, you can find clinical CODE MAPPING pretrained pipelines in this notebook: [Healthcare Code Mapping Notebook](https://github.com/JohnSnowLabs/spark-nlp-workshop/blob/master/tutorials/Certification_Trainings/Healthcare/11.1.Healthcare_Code_Mapping.ipynb)**\n",
    "\n",
    "\n"
   ]
  },
  {
   "cell_type": "markdown",
   "metadata": {
    "application/vnd.databricks.v1+cell": {
     "cellMetadata": {
      "byteLimit": 2048000,
      "rowLimit": 10000
     },
     "inputWidgets": {},
     "nuid": "5cefa43d-3957-46a5-9e98-37786a654c1f",
     "showTitle": false,
     "tableResultSettingsMap": {},
     "title": ""
    },
    "id": "_ehsryw_e4Ba"
   },
   "source": [
    "\n",
    "# Task Based Pretrained Pipelines\n",
    "\n",
    "|index|pipeline|description|\n",
    "|-----:|:-----|:-----|\n",
    "| 1| [explain_clinical_doc_generic](https://nlp.johnsnowlabs.com/2024/01/17/explain_clinical_doc_generic_en.html)  |This pipeline is designed to extract all clinical/medical entities,<br> assign assertion status to the extracted entities,<br> establish relations between the extracted entities from the clinical texts.|\n",
    "| 2| [explain_clinical_doc_granular](https://nlp.johnsnowlabs.com/2024/01/26/explain_clinical_doc_granular_en.html)  |This pipeline is designed to extract all clinical/medical entities,<br> assign assertion status to the extracted entities,<br> establish relations between the extracted entities from the clinical texts.|\n",
    "| 3| [explain_clinical_doc_biomarker](https://nlp.johnsnowlabs.com/2024/03/11/explain_clinical_doc_biomarker_en.html)  |This specialized biomarker pipeline can extract biomarker entities,<br>classify sentences whether they contain biomarker entities or not,<br>establish relations between the extracted biomarker and biomarker<br>results from the clinical documents.|\n",
    "| 4| [explain_clinical_doc_oncology](https://nlp.johnsnowlabs.com/2024/01/18/explain_clinical_doc_oncology_en.html)  |This specialized oncology pipeline can extract oncological entities,<br>  assign assertion status to the extracted entities, <br> establish relations between the extracted entities from the clinical documents.|\n",
    "| 5| [explain_clinical_doc_radiology](https://nlp.johnsnowlabs.com/2024/01/18/explain_clinical_doc_radiology_en.html) |This pipeline is designed to extract all clinical/medical entities,<br> assign assertion status to the extracted entities,<br> establish relations between the extracted entities from the clinical texts.|\n",
    "| 6| [explain_clinical_doc_vop](https://nlp.johnsnowlabs.com/2024/01/16/explain_clinical_doc_vop_en.html)|This pipeline is designed to extract healthcare-related terms entities,<br> assign assertion status to the extracted entities, establish relations<br> between the extracted entities from the documents transferred from the patient’s sentences.|\n",
    "| 7| [explain_clinical_doc_carp](https://nlp.johnsnowlabs.com/2023/06/17/explain_clinical_doc_carp_en.html) |A pipeline with `ner_clinical`, `assertion_dl`, `re_clinical` and `ner_posology`. <br>It will extract clinical and medication entities, <br>assign assertion status and find relationships between clinical entities.|\n",
    "| 8| [explain_clinical_doc_era](https://nlp.johnsnowlabs.com/2023/06/17/explain_clinical_doc_era_en.html)  |A pipeline with `ner_clinical_events`, `assertion_dl` and `re_temporal_events_clinical`. <br>It will extract clinical entities, assign assertion status and find <br>temporal relationships between clinical entities.|\n",
    "| 9| [explain_clinical_doc_ade](https://nlp.johnsnowlabs.com/2023/06/17/explain_clinical_doc_ade_en.html)|A pipeline for Adverse Drug Events (ADE) with `ner_ade_biobert`, `assertion_dl_biobert`, <br>`classifierdl_ade_conversational_biobert`, and `re_ade_biobert` . <br>It will classify the document, extract ADE and DRUG clinical<br> entities, assign assertion status to ADE entities, <br>and relate Drugs with their ADEs.|\n",
    "| 10| [explain_clinical_doc_medication](https://nlp.johnsnowlabs.com/2023/06/17/explain_clinical_doc_medication_en.html)|A pipeline for detecting posology entities with the `ner_posology_large` <br>NER model, assigning their assertion status with `assertion_jsl` model<br>, and extracting relations between posology-related terminology<br> with `posology_re` relation extraction model.|\n",
    "| 11| [explain_clinical_doc_risk_factors](https://nlp.johnsnowlabs.com/2024/03/25/explain_clinical_doc_risk_factors_en.html)|This pipeline is designed to extract all clinical/medical entities,<br> which may be considered as risk factors from text, <br>assign assertion status to the extracted entities, establish relations between the extracted entities.|\n",
    "| 12| [explain_clinical_doc_public_health](https://nlp.johnsnowlabs.com/2024/03/19/explain_clinical_doc_public_health_en.html)|This specialized public health pipeline can extract public health-related entities,<br> assign assertion status to the extracted entities,<br> establish relations between the extracted entities <br>from the clinical documents. In this pipeline, five NER, one assertion, <br>and one relation extraction model were used to achieve those tasks.|\n",
    "| 13| [explain_clinical_doc_sdoh](https://nlp.johnsnowlabs.com/2024/05/01/explain_clinical_doc_sdoh_en.html)|This pipeline is designed to extract all clinical/medical entities, <br>assertion status, and relation informations which may be considered as <br>Social Determinants of Health (SDOH) entities from text.|\n",
    "| 14| [explain_clinical_doc_mental_health](https://nlp.johnsnowlabs.com/2024/05/06/explain_clinical_doc_mental_health_en.html)|This pipeline is designed to extract all mental health-related entities, <br>assertion status, and relation information from text.|\n",
    "| 15| [ner_medication_generic_pipeline](https://nlp.johnsnowlabs.com/2024/04/25/ner_medication_generic_pipeline_en.html)|This pre-trained pipeline is designed to identify generic<br> `DRUG` entities in clinical texts. It was built on top of the `ner_posology_greedy`, `ner_jsl_greedy`, <br>`ner_drugs_large` and `drug_matcher` models to detect the entities <br>`DRUG`, `DOSAGE`, `ROUTE` and `STRENGTH`, chunking<br> them into a larger entity as `DRUG` when they appear together.|\n",
    "| 16| [explain_clinical_doc_oncology_slim](https://nlp.johnsnowlabs.com/2025/02/06/explain_clinical_doc_oncology_slim_en.html)|This specialized oncology pipeline can extract oncological and cancer type entities,<br> assign assertion status to these entities, and establish<br> relationships between the extracted entities from clinical documents.|\n",
    "| 17| [explain_clinical_doc_generic_light](https://nlp.johnsnowlabs.com/2025/06/26/explain_clinical_doc_generic_light_en.html)|This pipeline is designed to extract clinical/medical entities.<br> In this pipeline, four NER models are used to extract these Clinical Entity Labels: `PROBLEM`, `TEST`, `TREATMENT`|\n",
    "| 18| [explain_clinical_doc_biomarker_light](https://nlp.johnsnowlabs.com/2025/06/27/explain_clinical_doc_biomarker_light_en.html)|This pipeline is designed to extract biomarker-related entities from text. <br>In this pipeline, three NER models and a Text Matcher are used to extract the biomarkers and their results.|\n",
    "| 19| [explain_clinical_doc_medication_generic_light](https://nlp.johnsnowlabs.com/2025/06/27/explain_clinical_doc_medication_generic_light_en.html)|This pipeline is designed to extract medication entities in generic form from texts. <br>In this pipeline, two NER models and a Text Matcher are used to extract the medication entities.|\n",
    "| 20| [explain_clinical_doc_medication_light](https://nlp.johnsnowlabs.com/2025/06/27/explain_clinical_doc_medication_light_en.html)|This pipeline is designed to extract medication entities from texts. <br>In this pipeline, two NER models and a Text Matcher are used to extract these entities.|\n",
    "| 21| [explain_clinical_doc_mental_health_light](https://nlp.johnsnowlabs.com/2025/06/27/explain_clinical_doc_mental_health_light_en.html)|This pipeline is designed to extract mental health-related clinical/medical entities from text. <br>In this pipeline, two NER models and a Text Matcher are used to extract the clinical entities.|\n",
    "| 22| [explain_clinical_doc_oncology_light](https://nlp.johnsnowlabs.com/2025/06/27/explain_clinical_doc_oncology_light_en.html)|This pipeline is designed to extract oncology-related clinical/medical entities. <br>In this pipeline, four NER models and two Text Matchers are used to extract the clinical entity labels.|\n",
    "| 23| [explain_clinical_doc_public_health_light](https://nlp.johnsnowlabs.com/2025/06/27/explain_clinical_doc_public_health_light_en.html)|This pipeline is designed to extract public health-related clinical/medical entities from text. <br>In this pipeline, three NER models and a Text Matcher are used to extract the clinical entity labels.|\n",
    "| 24| [explain_clinical_doc_radiology_light](https://nlp.johnsnowlabs.com/2025/06/27/explain_clinical_doc_radiology_light_en.html)|This pipeline is designed to extract radiology-related clinical/medical entities. <br>In this pipeline, three NER models are used to extract the clinical entity labels.|\n",
    "| 25| [explain_clinical_doc_risk_factors_light](https://nlp.johnsnowlabs.com/2025/06/27/explain_clinical_doc_risk_factors_light_en.html)|This pipeline is designed to extract entities that may be considered as risk factors from text. <br>In this pipeline, three NER models and two Text Matchers are used to extract the related clinical/medical entity labels.|\n",
    "| 26| [explain_clinical_doc_sdoh_light](https://nlp.johnsnowlabs.com/2025/06/27/explain_clinical_doc_sdoh_light_en.html)|This pipeline is designed to extract social determinants of health-related clinical/medical entities from text. <br>In this pipeline, three NER models and two Text Matchers are used to extract the related entities from text.|\n",
    "| 27| [explain_clinical_doc_vop_light](https://nlp.johnsnowlabs.com/2025/06/27/explain_clinical_doc_vop_light_en.html)|This pipeline is designed to extract clinical/medical entities from texts written by non-healthcare professionals. <br>In this pipeline, three NER models and two Text Matchers are used to extract the clinical entity labels.|\n",
    "| 28 | [explain_clinical_doc_ade_light](https://nlp.johnsnowlabs.com/2025/06/30/explain_clinical_doc_ade_light_en.html) | This pipeline is designed to extract `ADE` and `DRUG` entities and establish relations between the extracted `DRUG` and `ADE` results from the clinical documents. <br>Two NER models and a Text Matcher are used to accomplish the designated tasks. |\n",
    "| 29 | [explain_clinical_doc_granular_light](https://nlp.johnsnowlabs.com/2025/06/30/explain_clinical_doc_granular_light_en.html) | This pipeline is designed to extract clinical entities and establish relations between the extracted entities. |\n",
    "| 30 | [explain_clinical_doc_vop_small](https://nlp.johnsnowlabs.com/2024/09/09/explain_clinical_doc_vop_small_en.html) | This pipeline is designed to extract all clinical/medical entities, assertion status, and relation informations which may be considered as Voice Of Patient (VOP) entities from text. |\n",
    "| 31 | [explain_clinical_doc_cancer_type](https://nlp.johnsnowlabs.com/2024/09/16/explain_clinical_doc_cancer_type_en.html) | This pipeline is designed to extract all clinical/medical entities, assertion status, and relation informations which may be considered as extract oncological and cancer type entities from text. |\n",
    "| 32 | [explain_clinical_doc_sdoh_small](https://nlp.johnsnowlabs.com/2024/09/27/explain_clinical_doc_sdoh_small_en.html) | This pipeline is designed to extract all social determinants of health (SDOH) entities from text, assign assertion status to the extracted entities, establish relations between the extracted entities. |"
   ]
  },
  {
   "cell_type": "markdown",
   "metadata": {
    "application/vnd.databricks.v1+cell": {
     "cellMetadata": {
      "byteLimit": 2048000,
      "rowLimit": 10000
     },
     "inputWidgets": {},
     "nuid": "bc37b8bf-1c9a-4fd0-8ca4-080d8062be42",
     "showTitle": false,
     "tableResultSettingsMap": {},
     "title": ""
    },
    "id": "YztSM-3--HvO"
   },
   "source": [
    "### explain_clinical_doc_granular\n",
    "\n",
    "A pipeline with ner_jsl, assertion_jsl and re_test_result_date. It will extract clinical and medication entities, assign assertion status and find relationships between clinical entities.\n",
    "\n",
    "- Clinical Entity Labels: `Admission_Discharge`, `Age`, `Alcohol`, `Allergen`, `BMI`, `Birth_Entity`, `Blood_Pressure`, `Cerebrovascular_Disease`, `Clinical_Dept`, `Communicable_Disease`, `Date`, `Death_Entity`, `Diabetes`, `Diet`, `Direction`, `Disease_Syndrome_Disorder`, `Dosage`, `Drug_BrandName`, `Drug_Ingredient`, `Duration`, `EKG_Findings`, `Employment`, `External_body_part_or_region`, `Family_History_Header`, `Fetus_NewBorn`, `Form`, `Frequency`, `Gender`, `HDL`, `Heart_Disease`, `Height`, `Hyperlipidemia`, `Hypertension`, `ImagingFindings`, `Imaging_Technique`, `Injury_or_Poisoning`, `Internal_organ_or_component`, `Kidney_Disease`, `LDL`, `Labour_Delivery`, `Medical_Device`, `Medical_History_Header`, `Modifier`, `O2_Saturation`, `Obesity`, `Oncological`, `Overweight`, `Oxygen_Therapy`, `Pregnancy`, `Procedure`, `Psychological_Condition`, `Pulse`, `Race_Ethnicity`, `Relationship_Status`, `RelativeDate`, `RelativeTime`, `Respiration`, `Route`, `Section_Header`, `Sexually_Active_or_Sexual_Orientation`, `Smoking`, `Social_History_Header`, `Strength`, `Substance`, `Substance_Quantity`, `Symptom`, `Temperature`, `Test`, `Test_Result`, `Time`, `Total_Cholesterol`, `Treatment`, `Triglycerides`, `VS_Finding`, `Vaccine`, `Vaccine_Name`, `Vital_Signs_Header`, `Weight`\n",
    "\n",
    "- Assertion Status Labels: `Hypothetical`, `Someoneelse`, `Past`, `Absent`, `Family`, `Planned`, `Possible`, `Present`\n",
    "\n",
    "- Relation Extraction Labels: `is_finding_of`, `is_date_of`, `is_result_of`, `O`\n"
   ]
  },
  {
   "cell_type": "code",
   "execution_count": 0,
   "metadata": {
    "application/vnd.databricks.v1+cell": {
     "cellMetadata": {
      "byteLimit": 2048000,
      "rowLimit": 10000
     },
     "inputWidgets": {},
     "nuid": "b0b0bf84-ab42-4d4d-afc8-662fd248ea45",
     "showTitle": false,
     "tableResultSettingsMap": {},
     "title": ""
    },
    "id": "voikNnVm-WUd"
   },
   "outputs": [],
   "source": [
    "from sparknlp.pretrained import PretrainedPipeline"
   ]
  },
  {
   "cell_type": "code",
   "execution_count": 0,
   "metadata": {
    "application/vnd.databricks.v1+cell": {
     "cellMetadata": {
      "byteLimit": 2048000,
      "rowLimit": 10000
     },
     "inputWidgets": {},
     "nuid": "2d3202bf-7364-4aee-85d1-ef2c7927b9d2",
     "showTitle": false,
     "tableResultSettingsMap": {},
     "title": ""
    },
    "colab": {
     "base_uri": "https://localhost:8080/"
    },
    "executionInfo": {
     "elapsed": 177890,
     "status": "ok",
     "timestamp": 1708007936490,
     "user": {
      "displayName": "Akar Öztürk",
      "userId": "07602883577262601067"
     },
     "user_tz": -60
    },
    "id": "lcH_0WLE-WP5",
    "outputId": "855b9ba4-0dc4-4792-de76-486013e84e90"
   },
   "outputs": [
    {
     "output_type": "stream",
     "name": "stdout",
     "output_type": "stream",
     "text": [
      "explain_clinical_doc_granular download started this may take some time.\nApprox size to download 1.6 GB\n\r[ | ]\r[ / ]\r[ — ]\r[ \\ ]\r[ | ]\r[ / ]\r[ — ]\r[ \\ ]\r[ | ]\r[ / ]\r[ — ]\r[ \\ ]\r[ | ]\r[ / ]\r[ — ]\r[ \\ ]\r[ | ]\r[ / ]\r[ — ]\r[ \\ ]\r[ | ]\r[ / ]\r[ — ]\r[ \\ ]\r[ | ]\r[ / ]\r[ — ]\r[ \\ ]\r[ | ]\r[ / ]\r[ — ]\r[ \\ ]\r[ | ]\r[ / ]\r[ — ]\r[ \\ ]\r[ | ]\r[ / ]\r[ — ]\r[ \\ ]\r[ | ]\r[ / ]\r[ — ]\r[ \\ ]\r[ | ]\r[ / ]\r[ — ]\r[ \\ ]\r[ | ]\r[ / ]\r[ — ]\r[ \\ ]\r[ | ]\r[ / ]\r[ — ]\r[ \\ ]\r[ | ]\r[ / ]\r[ — ]\r[ \\ ]\r[ | ]\r[ / ]\r[ — ]\r[ \\ ]\r[ | ]\r[ / ]\r[ — ]\r[ \\ ]\r[ | ]\r[ / ]\r[ — ]\r[ \\ ]\r[ | ]\r[ / ]\r[ — ]\r[ \\ ]\r[ | ]\r[ / ]\r[ — ]\r[ \\ ]\r[ | ]\r[OK!]\n"
     ]
    }
   ],
   "source": [
    "pipeline = nlp.PretrainedPipeline(\"explain_clinical_doc_granular\", \"en\", \"clinical/models\")"
   ]
  },
  {
   "cell_type": "code",
   "execution_count": 0,
   "metadata": {
    "application/vnd.databricks.v1+cell": {
     "cellMetadata": {
      "byteLimit": 2048000,
      "rowLimit": 10000
     },
     "inputWidgets": {},
     "nuid": "e3187f1d-d569-459c-b7f4-974aebbea816",
     "showTitle": false,
     "tableResultSettingsMap": {},
     "title": ""
    },
    "colab": {
     "base_uri": "https://localhost:8080/"
    },
    "executionInfo": {
     "elapsed": 438,
     "status": "ok",
     "timestamp": 1708008062534,
     "user": {
      "displayName": "Akar Öztürk",
      "userId": "07602883577262601067"
     },
     "user_tz": -60
    },
    "id": "thweETgu-WHw",
    "outputId": "ff7c89ef-077a-4927-bd2c-04de3cfbc575"
   },
   "outputs": [
    {
     "output_type": "execute_result",
     "data": {
      "text/plain": [
       "[DocumentAssembler_303213c0081e,\n",
       " SentenceDetectorDLModel_6bafc4746ea5,\n",
       " REGEX_TOKENIZER_c22a01cc8d15,\n",
       " WORD_EMBEDDINGS_MODEL_9004b1d00302,\n",
       " MedicalNerModel_c89cbceb1028,\n",
       " NER_CONVERTER_45a759a88cab,\n",
       " NER_CONVERTER_61818d1722ef,\n",
       " ASSERTION_DL_46798c01711e,\n",
       " POS_6f55785005bf,\n",
       " dependency_e7755462ba78,\n",
       " RelationExtractionModel_ce79d77d1bf1,\n",
       " PosologyREModel_97f30e947e43,\n",
       " AnnotationMerger_54286a4bee17]"
      ]
     },
     "execution_count": 6,
     "metadata": {},
     "output_type": "execute_result"
    }
   ],
   "source": [
    "pipeline.model.stages"
   ]
  },
  {
   "cell_type": "code",
   "execution_count": 0,
   "metadata": {
    "application/vnd.databricks.v1+cell": {
     "cellMetadata": {
      "byteLimit": 2048000,
      "rowLimit": 10000
     },
     "inputWidgets": {},
     "nuid": "6f77675f-9810-4543-bb69-2f0151e9b32e",
     "showTitle": false,
     "tableResultSettingsMap": {},
     "title": ""
    },
    "id": "d9eRK3IKUurq"
   },
   "outputs": [],
   "source": [
    "# Load pretrained pipeline from local disk:\n",
    "\n",
    "# >> pipeline_local = PretrainedPipeline.from_disk('/root/cache_pretrained/explain_clinical_doc_granular_en_5.2.1_3.4_1706289187844')"
   ]
  },
  {
   "cell_type": "markdown",
   "metadata": {
    "application/vnd.databricks.v1+cell": {
     "cellMetadata": {
      "byteLimit": 2048000,
      "rowLimit": 10000
     },
     "inputWidgets": {},
     "nuid": "4f5d1d4e-a3a3-4f24-9ca2-ac857f264bd1",
     "showTitle": false,
     "tableResultSettingsMap": {},
     "title": ""
    },
    "id": "8vjeka3-NGRW"
   },
   "source": [
    "#### with fullAnnotate()"
   ]
  },
  {
   "cell_type": "code",
   "execution_count": 0,
   "metadata": {
    "application/vnd.databricks.v1+cell": {
     "cellMetadata": {
      "byteLimit": 2048000,
      "rowLimit": 10000
     },
     "inputWidgets": {},
     "nuid": "2afbd8d3-76ae-480d-9a9f-d403ac7a8e33",
     "showTitle": false,
     "tableResultSettingsMap": {},
     "title": ""
    },
    "id": "1kCZx5j5_gvQ"
   },
   "outputs": [],
   "source": [
    "result = pipeline.fullAnnotate(\"\"\"The patient admitted for gastrointestinal pathology, under working treatment.\n",
    "History of prior heart murmur with echocardiogram findings as above on March 1998.\n",
    "According to the latest echocardiogram, basically revealed normal left ventricular function with left atrial enlargement .\n",
    "Based on the above findings, we will treat her medically with ACE inhibitors and diuretics and see how she fares.\"\"\")"
   ]
  },
  {
   "cell_type": "code",
   "execution_count": 0,
   "metadata": {
    "application/vnd.databricks.v1+cell": {
     "cellMetadata": {
      "byteLimit": 2048000,
      "rowLimit": 10000
     },
     "inputWidgets": {},
     "nuid": "de800df4-055d-467c-bc62-a214fbcdc79b",
     "showTitle": false,
     "tableResultSettingsMap": {},
     "title": ""
    },
    "colab": {
     "base_uri": "https://localhost:8080/"
    },
    "executionInfo": {
     "elapsed": 838,
     "status": "ok",
     "timestamp": 1708008113375,
     "user": {
      "displayName": "Akar Öztürk",
      "userId": "07602883577262601067"
     },
     "user_tz": -60
    },
    "id": "qWx_2QKn-V7H",
    "outputId": "08f6c357-1f4b-4420-ebd9-26b844cbe810"
   },
   "outputs": [
    {
     "output_type": "execute_result",
     "data": {
      "text/plain": [
       "dict_keys(['assertion_ner_chunk', 'test_result_date_relations', 'document', 'posology_relations', 'jsl_ner_chunk', 'assertion', 'all_relations', 'jsl_ner', 'token', 'embeddings', 'pos_tags', 'dependencies', 'sentence'])"
      ]
     },
     "execution_count": 9,
     "metadata": {},
     "output_type": "execute_result"
    }
   ],
   "source": [
    "result[0].keys()"
   ]
  },
  {
   "cell_type": "markdown",
   "metadata": {
    "application/vnd.databricks.v1+cell": {
     "cellMetadata": {
      "byteLimit": 2048000,
      "rowLimit": 10000
     },
     "inputWidgets": {},
     "nuid": "5870455d-0814-46c9-8a66-e41dc01afe6d",
     "showTitle": false,
     "tableResultSettingsMap": {},
     "title": ""
    },
    "id": "sBFZUKqSWG8z"
   },
   "source": [
    "**NER Results**"
   ]
  },
  {
   "cell_type": "code",
   "execution_count": 0,
   "metadata": {
    "application/vnd.databricks.v1+cell": {
     "cellMetadata": {
      "byteLimit": 2048000,
      "rowLimit": 10000
     },
     "inputWidgets": {},
     "nuid": "51b2b181-9f42-48aa-bbf7-f1e8ab7d55eb",
     "showTitle": false,
     "tableResultSettingsMap": {},
     "title": ""
    },
    "colab": {
     "base_uri": "https://localhost:8080/",
     "height": 457
    },
    "executionInfo": {
     "elapsed": 1551,
     "status": "ok",
     "timestamp": 1708008118630,
     "user": {
      "displayName": "Akar Öztürk",
      "userId": "07602883577262601067"
     },
     "user_tz": -60
    },
    "id": "QbxzGzPN_xAM",
    "outputId": "37e680d5-e233-4f42-bc7c-8aa99156058c"
   },
   "outputs": [
    {
     "output_type": "execute_result",
     "data": {
      "text/html": [
       "<div>\n",
       "<style scoped>\n",
       "    .dataframe tbody tr th:only-of-type {\n",
       "        vertical-align: middle;\n",
       "    }\n",
       "\n",
       "    .dataframe tbody tr th {\n",
       "        vertical-align: top;\n",
       "    }\n",
       "\n",
       "    .dataframe thead th {\n",
       "        text-align: right;\n",
       "    }\n",
       "</style>\n",
       "<table border=\"1\" class=\"dataframe\">\n",
       "  <thead>\n",
       "    <tr style=\"text-align: right;\">\n",
       "      <th></th>\n",
       "      <th>chunks</th>\n",
       "      <th>begin</th>\n",
       "      <th>end</th>\n",
       "      <th>entities</th>\n",
       "    </tr>\n",
       "  </thead>\n",
       "  <tbody>\n",
       "    <tr>\n",
       "      <th>0</th>\n",
       "      <td>admitted</td>\n",
       "      <td>12</td>\n",
       "      <td>19</td>\n",
       "      <td>Admission_Discharge</td>\n",
       "    </tr>\n",
       "    <tr>\n",
       "      <th>1</th>\n",
       "      <td>gastrointestinal pathology</td>\n",
       "      <td>25</td>\n",
       "      <td>50</td>\n",
       "      <td>Clinical_Dept</td>\n",
       "    </tr>\n",
       "    <tr>\n",
       "      <th>2</th>\n",
       "      <td>heart murmur</td>\n",
       "      <td>95</td>\n",
       "      <td>106</td>\n",
       "      <td>Heart_Disease</td>\n",
       "    </tr>\n",
       "    <tr>\n",
       "      <th>3</th>\n",
       "      <td>echocardiogram</td>\n",
       "      <td>113</td>\n",
       "      <td>126</td>\n",
       "      <td>Test</td>\n",
       "    </tr>\n",
       "    <tr>\n",
       "      <th>4</th>\n",
       "      <td>March 1998</td>\n",
       "      <td>149</td>\n",
       "      <td>158</td>\n",
       "      <td>Date</td>\n",
       "    </tr>\n",
       "    <tr>\n",
       "      <th>5</th>\n",
       "      <td>echocardiogram</td>\n",
       "      <td>185</td>\n",
       "      <td>198</td>\n",
       "      <td>Test</td>\n",
       "    </tr>\n",
       "    <tr>\n",
       "      <th>6</th>\n",
       "      <td>normal</td>\n",
       "      <td>220</td>\n",
       "      <td>225</td>\n",
       "      <td>Test_Result</td>\n",
       "    </tr>\n",
       "    <tr>\n",
       "      <th>7</th>\n",
       "      <td>left ventricular function</td>\n",
       "      <td>227</td>\n",
       "      <td>251</td>\n",
       "      <td>Test</td>\n",
       "    </tr>\n",
       "    <tr>\n",
       "      <th>8</th>\n",
       "      <td>left atrial enlargement</td>\n",
       "      <td>258</td>\n",
       "      <td>280</td>\n",
       "      <td>Heart_Disease</td>\n",
       "    </tr>\n",
       "    <tr>\n",
       "      <th>9</th>\n",
       "      <td>her</td>\n",
       "      <td>327</td>\n",
       "      <td>329</td>\n",
       "      <td>Gender</td>\n",
       "    </tr>\n",
       "    <tr>\n",
       "      <th>10</th>\n",
       "      <td>ACE inhibitors</td>\n",
       "      <td>346</td>\n",
       "      <td>359</td>\n",
       "      <td>Drug_Ingredient</td>\n",
       "    </tr>\n",
       "    <tr>\n",
       "      <th>11</th>\n",
       "      <td>diuretics</td>\n",
       "      <td>365</td>\n",
       "      <td>373</td>\n",
       "      <td>Drug_Ingredient</td>\n",
       "    </tr>\n",
       "    <tr>\n",
       "      <th>12</th>\n",
       "      <td>she</td>\n",
       "      <td>387</td>\n",
       "      <td>389</td>\n",
       "      <td>Gender</td>\n",
       "    </tr>\n",
       "  </tbody>\n",
       "</table>\n",
       "</div>"
      ],
      "text/plain": [
       "                        chunks  begin  end             entities\n",
       "0                     admitted     12   19  Admission_Discharge\n",
       "1   gastrointestinal pathology     25   50        Clinical_Dept\n",
       "2                 heart murmur     95  106        Heart_Disease\n",
       "3               echocardiogram    113  126                 Test\n",
       "4                   March 1998    149  158                 Date\n",
       "5               echocardiogram    185  198                 Test\n",
       "6                       normal    220  225          Test_Result\n",
       "7    left ventricular function    227  251                 Test\n",
       "8      left atrial enlargement    258  280        Heart_Disease\n",
       "9                          her    327  329               Gender\n",
       "10              ACE inhibitors    346  359      Drug_Ingredient\n",
       "11                   diuretics    365  373      Drug_Ingredient\n",
       "12                         she    387  389               Gender"
      ]
     },
     "execution_count": 10,
     "metadata": {},
     "output_type": "execute_result"
    }
   ],
   "source": [
    "import pandas as pd\n",
    "chunks=[]\n",
    "entities=[]\n",
    "begins=[]\n",
    "ends=[]\n",
    "\n",
    "for n in result[0]['jsl_ner_chunk']:\n",
    "\n",
    "    chunks.append(n.result)\n",
    "    begins.append(n.begin)\n",
    "    ends.append(n.end)\n",
    "    entities.append(n.metadata['entity'])\n",
    "\n",
    "df = pd.DataFrame({'chunks':chunks, 'begin':begins, 'end':ends, 'entities':entities})\n",
    "\n",
    "df"
   ]
  },
  {
   "cell_type": "markdown",
   "metadata": {
    "application/vnd.databricks.v1+cell": {
     "cellMetadata": {
      "byteLimit": 2048000,
      "rowLimit": 10000
     },
     "inputWidgets": {},
     "nuid": "40051d6b-a870-4c70-b875-ec3ce2c4557d",
     "showTitle": false,
     "tableResultSettingsMap": {},
     "title": ""
    },
    "id": "I5XcU3RjXCzG"
   },
   "source": [
    "**Assertion Status Results**"
   ]
  },
  {
   "cell_type": "code",
   "execution_count": 0,
   "metadata": {
    "application/vnd.databricks.v1+cell": {
     "cellMetadata": {
      "byteLimit": 2048000,
      "rowLimit": 10000
     },
     "inputWidgets": {},
     "nuid": "5bf745c1-f116-4d24-b662-af2a78727fd2",
     "showTitle": false,
     "tableResultSettingsMap": {},
     "title": ""
    },
    "colab": {
     "base_uri": "https://localhost:8080/",
     "height": 300
    },
    "executionInfo": {
     "elapsed": 389,
     "status": "ok",
     "timestamp": 1708008122673,
     "user": {
      "displayName": "Akar Öztürk",
      "userId": "07602883577262601067"
     },
     "user_tz": -60
    },
    "id": "SPTQC9od_w2E",
    "outputId": "e39a64b1-2590-4450-8cca-779f7a98178e"
   },
   "outputs": [
    {
     "output_type": "execute_result",
     "data": {
      "text/html": [
       "<div>\n",
       "<style scoped>\n",
       "    .dataframe tbody tr th:only-of-type {\n",
       "        vertical-align: middle;\n",
       "    }\n",
       "\n",
       "    .dataframe tbody tr th {\n",
       "        vertical-align: top;\n",
       "    }\n",
       "\n",
       "    .dataframe thead th {\n",
       "        text-align: right;\n",
       "    }\n",
       "</style>\n",
       "<table border=\"1\" class=\"dataframe\">\n",
       "  <thead>\n",
       "    <tr style=\"text-align: right;\">\n",
       "      <th></th>\n",
       "      <th>chunks</th>\n",
       "      <th>entities</th>\n",
       "      <th>assertion</th>\n",
       "    </tr>\n",
       "  </thead>\n",
       "  <tbody>\n",
       "    <tr>\n",
       "      <th>0</th>\n",
       "      <td>heart murmur</td>\n",
       "      <td>Heart_Disease</td>\n",
       "      <td>Past</td>\n",
       "    </tr>\n",
       "    <tr>\n",
       "      <th>1</th>\n",
       "      <td>echocardiogram</td>\n",
       "      <td>Test</td>\n",
       "      <td>Past</td>\n",
       "    </tr>\n",
       "    <tr>\n",
       "      <th>2</th>\n",
       "      <td>echocardiogram</td>\n",
       "      <td>Test</td>\n",
       "      <td>Past</td>\n",
       "    </tr>\n",
       "    <tr>\n",
       "      <th>3</th>\n",
       "      <td>normal</td>\n",
       "      <td>Test_Result</td>\n",
       "      <td>Present</td>\n",
       "    </tr>\n",
       "    <tr>\n",
       "      <th>4</th>\n",
       "      <td>left ventricular function</td>\n",
       "      <td>Test</td>\n",
       "      <td>Past</td>\n",
       "    </tr>\n",
       "    <tr>\n",
       "      <th>5</th>\n",
       "      <td>left atrial enlargement</td>\n",
       "      <td>Heart_Disease</td>\n",
       "      <td>Present</td>\n",
       "    </tr>\n",
       "    <tr>\n",
       "      <th>6</th>\n",
       "      <td>ACE inhibitors</td>\n",
       "      <td>Drug_Ingredient</td>\n",
       "      <td>Planned</td>\n",
       "    </tr>\n",
       "    <tr>\n",
       "      <th>7</th>\n",
       "      <td>diuretics</td>\n",
       "      <td>Drug_Ingredient</td>\n",
       "      <td>Hypothetical</td>\n",
       "    </tr>\n",
       "  </tbody>\n",
       "</table>\n",
       "</div>"
      ],
      "text/plain": [
       "                      chunks         entities     assertion\n",
       "0               heart murmur    Heart_Disease          Past\n",
       "1             echocardiogram             Test          Past\n",
       "2             echocardiogram             Test          Past\n",
       "3                     normal      Test_Result       Present\n",
       "4  left ventricular function             Test          Past\n",
       "5    left atrial enlargement    Heart_Disease       Present\n",
       "6             ACE inhibitors  Drug_Ingredient       Planned\n",
       "7                  diuretics  Drug_Ingredient  Hypothetical"
      ]
     },
     "execution_count": 11,
     "metadata": {},
     "output_type": "execute_result"
    }
   ],
   "source": [
    "chunks=[]\n",
    "entities=[]\n",
    "status=[]\n",
    "\n",
    "for n,m in zip(result[0]['assertion_ner_chunk'],result[0]['assertion']):\n",
    "\n",
    "    chunks.append(n.result)\n",
    "    entities.append(n.metadata['entity'])\n",
    "    status.append(m.result)\n",
    "\n",
    "df = pd.DataFrame({'chunks':chunks, 'entities':entities, 'assertion':status})\n",
    "\n",
    "df"
   ]
  },
  {
   "cell_type": "markdown",
   "metadata": {
    "application/vnd.databricks.v1+cell": {
     "cellMetadata": {
      "byteLimit": 2048000,
      "rowLimit": 10000
     },
     "inputWidgets": {},
     "nuid": "2a5caba1-2bf3-4497-8c4e-1d5ce3486817",
     "showTitle": false,
     "tableResultSettingsMap": {},
     "title": ""
    },
    "id": "KA6RxzLHXJjs"
   },
   "source": [
    "**Relation Extraction Results**"
   ]
  },
  {
   "cell_type": "code",
   "execution_count": 0,
   "metadata": {
    "application/vnd.databricks.v1+cell": {
     "cellMetadata": {
      "byteLimit": 2048000,
      "rowLimit": 10000
     },
     "inputWidgets": {},
     "nuid": "1edf2525-2da4-4ffc-842c-2c98e97e986f",
     "showTitle": false,
     "tableResultSettingsMap": {},
     "title": ""
    },
    "colab": {
     "base_uri": "https://localhost:8080/",
     "height": 309
    },
    "executionInfo": {
     "elapsed": 6,
     "status": "ok",
     "timestamp": 1708008126428,
     "user": {
      "displayName": "Akar Öztürk",
      "userId": "07602883577262601067"
     },
     "user_tz": -60
    },
    "id": "-E2jbesG_wzJ",
    "outputId": "afefd652-9e60-4d5b-ebdc-8904ff9f991a"
   },
   "outputs": [
    {
     "output_type": "execute_result",
     "data": {
      "text/html": [
       "<div>\n",
       "<style scoped>\n",
       "    .dataframe tbody tr th:only-of-type {\n",
       "        vertical-align: middle;\n",
       "    }\n",
       "\n",
       "    .dataframe tbody tr th {\n",
       "        vertical-align: top;\n",
       "    }\n",
       "\n",
       "    .dataframe thead th {\n",
       "        text-align: right;\n",
       "    }\n",
       "</style>\n",
       "<table border=\"1\" class=\"dataframe\">\n",
       "  <thead>\n",
       "    <tr style=\"text-align: right;\">\n",
       "      <th></th>\n",
       "      <th>relation</th>\n",
       "      <th>entity1</th>\n",
       "      <th>entity1_begin</th>\n",
       "      <th>entity1_end</th>\n",
       "      <th>chunk1</th>\n",
       "      <th>entity2</th>\n",
       "      <th>entity2_begin</th>\n",
       "      <th>entity2_end</th>\n",
       "      <th>chunk2</th>\n",
       "      <th>confidence</th>\n",
       "    </tr>\n",
       "  </thead>\n",
       "  <tbody>\n",
       "    <tr>\n",
       "      <th>0</th>\n",
       "      <td>is_finding_of</td>\n",
       "      <td>Heart_Disease</td>\n",
       "      <td>95</td>\n",
       "      <td>106</td>\n",
       "      <td>heart murmur</td>\n",
       "      <td>Test</td>\n",
       "      <td>113</td>\n",
       "      <td>126</td>\n",
       "      <td>echocardiogram</td>\n",
       "      <td>1.0</td>\n",
       "    </tr>\n",
       "    <tr>\n",
       "      <th>1</th>\n",
       "      <td>is_date_of</td>\n",
       "      <td>Heart_Disease</td>\n",
       "      <td>95</td>\n",
       "      <td>106</td>\n",
       "      <td>heart murmur</td>\n",
       "      <td>Date</td>\n",
       "      <td>149</td>\n",
       "      <td>158</td>\n",
       "      <td>March 1998</td>\n",
       "      <td>1.0</td>\n",
       "    </tr>\n",
       "    <tr>\n",
       "      <th>2</th>\n",
       "      <td>is_date_of</td>\n",
       "      <td>Test</td>\n",
       "      <td>113</td>\n",
       "      <td>126</td>\n",
       "      <td>echocardiogram</td>\n",
       "      <td>Date</td>\n",
       "      <td>149</td>\n",
       "      <td>158</td>\n",
       "      <td>March 1998</td>\n",
       "      <td>1.0</td>\n",
       "    </tr>\n",
       "    <tr>\n",
       "      <th>4</th>\n",
       "      <td>is_finding_of</td>\n",
       "      <td>Test</td>\n",
       "      <td>185</td>\n",
       "      <td>198</td>\n",
       "      <td>echocardiogram</td>\n",
       "      <td>Heart_Disease</td>\n",
       "      <td>258</td>\n",
       "      <td>280</td>\n",
       "      <td>left atrial enlargement</td>\n",
       "      <td>1.0</td>\n",
       "    </tr>\n",
       "    <tr>\n",
       "      <th>5</th>\n",
       "      <td>is_result_of</td>\n",
       "      <td>Test_Result</td>\n",
       "      <td>220</td>\n",
       "      <td>225</td>\n",
       "      <td>normal</td>\n",
       "      <td>Test</td>\n",
       "      <td>227</td>\n",
       "      <td>251</td>\n",
       "      <td>left ventricular function</td>\n",
       "      <td>1.0</td>\n",
       "    </tr>\n",
       "    <tr>\n",
       "      <th>6</th>\n",
       "      <td>is_finding_of</td>\n",
       "      <td>Test</td>\n",
       "      <td>227</td>\n",
       "      <td>251</td>\n",
       "      <td>left ventricular function</td>\n",
       "      <td>Heart_Disease</td>\n",
       "      <td>258</td>\n",
       "      <td>280</td>\n",
       "      <td>left atrial enlargement</td>\n",
       "      <td>1.0</td>\n",
       "    </tr>\n",
       "  </tbody>\n",
       "</table>\n",
       "</div>"
      ],
      "text/plain": [
       "        relation        entity1 entity1_begin entity1_end                     chunk1        entity2 entity2_begin entity2_end                     chunk2  confidence\n",
       "0  is_finding_of  Heart_Disease            95         106               heart murmur           Test           113         126             echocardiogram         1.0\n",
       "1     is_date_of  Heart_Disease            95         106               heart murmur           Date           149         158                 March 1998         1.0\n",
       "2     is_date_of           Test           113         126             echocardiogram           Date           149         158                 March 1998         1.0\n",
       "4  is_finding_of           Test           185         198             echocardiogram  Heart_Disease           258         280    left atrial enlargement         1.0\n",
       "5   is_result_of    Test_Result           220         225                     normal           Test           227         251  left ventricular function         1.0\n",
       "6  is_finding_of           Test           227         251  left ventricular function  Heart_Disease           258         280    left atrial enlargement         1.0"
      ]
     },
     "execution_count": 12,
     "metadata": {},
     "output_type": "execute_result"
    }
   ],
   "source": [
    "rel_pairs=[]\n",
    "for rel in result[0][\"all_relations\"]:\n",
    "    rel_pairs.append((\n",
    "        rel.result,\n",
    "        rel.metadata['entity1'],\n",
    "        rel.metadata['entity1_begin'],\n",
    "        rel.metadata['entity1_end'],\n",
    "        rel.metadata['chunk1'],\n",
    "        rel.metadata['entity2'],\n",
    "        rel.metadata['entity2_begin'],\n",
    "        rel.metadata['entity2_end'],\n",
    "        rel.metadata['chunk2'],\n",
    "        rel.metadata['confidence']\n",
    "    ))\n",
    "\n",
    "rel_df = pd.DataFrame(rel_pairs, columns=['relation',\n",
    "                                          'entity1',\n",
    "                                          'entity1_begin',\n",
    "                                          'entity1_end',\n",
    "                                          'chunk1',\n",
    "                                          'entity2',\n",
    "                                          'entity2_begin',\n",
    "                                          'entity2_end',\n",
    "                                          'chunk2',\n",
    "                                          'confidence'])\n",
    "\n",
    "rel_df.confidence = rel_df.confidence.astype(float)\n",
    "rel_df[rel_df.relation!=\"O\"]"
   ]
  },
  {
   "cell_type": "markdown",
   "metadata": {
    "application/vnd.databricks.v1+cell": {
     "cellMetadata": {
      "byteLimit": 2048000,
      "rowLimit": 10000
     },
     "inputWidgets": {},
     "nuid": "14dabb25-dbd9-48ce-9585-1049b0e513fd",
     "showTitle": false,
     "tableResultSettingsMap": {},
     "title": ""
    },
    "id": "gTHrWc5iNXeZ"
   },
   "source": [
    "#### with transform()"
   ]
  },
  {
   "cell_type": "code",
   "execution_count": 0,
   "metadata": {
    "application/vnd.databricks.v1+cell": {
     "cellMetadata": {
      "byteLimit": 2048000,
      "rowLimit": 10000
     },
     "inputWidgets": {},
     "nuid": "89c4d39e-4b7e-4eca-a137-ba55a0288cbe",
     "showTitle": false,
     "tableResultSettingsMap": {},
     "title": ""
    },
    "colab": {
     "base_uri": "https://localhost:8080/"
    },
    "executionInfo": {
     "elapsed": 1565,
     "status": "ok",
     "timestamp": 1708008523421,
     "user": {
      "displayName": "Akar Öztürk",
      "userId": "07602883577262601067"
     },
     "user_tz": -60
    },
    "id": "rX13H3SPNYzy",
    "outputId": "d43c09d8-8929-49a4-8e78-8936a48bca3d"
   },
   "outputs": [
    {
     "output_type": "stream",
     "name": "stdout",
     "output_type": "stream",
     "text": [
      "+--------------------------+-----+---+-------------------+\n|chunk                     |begin|end|ner_label          |\n+--------------------------+-----+---+-------------------+\n|admitted                  |13   |20 |Admission_Discharge|\n|gastrointestinal pathology|26   |51 |Clinical_Dept      |\n|heart murmur              |96   |107|Heart_Disease      |\n|echocardiogram            |114  |127|Test               |\n|March 1998                |150  |159|Date               |\n|echocardiogram            |186  |199|Test               |\n|normal                    |221  |226|Test_Result        |\n|left ventricular function |228  |252|Test               |\n|left atrial enlargement   |259  |281|Heart_Disease      |\n|her                       |328  |330|Gender             |\n|ACE inhibitors            |347  |360|Drug_Ingredient    |\n|diuretics                 |366  |374|Drug_Ingredient    |\n|she                       |388  |390|Gender             |\n+--------------------------+-----+---+-------------------+\n\n"
     ]
    }
   ],
   "source": [
    "from pyspark.sql import functions as F\n",
    "data = spark.createDataFrame([[\"\"\"\n",
    "The patient admitted for gastrointestinal pathology, under working treatment.\n",
    "History of prior heart murmur with echocardiogram findings as above on March 1998.\n",
    "According to the latest echocardiogram, basically revealed normal left ventricular function with left atrial enlargement .\n",
    "Based on the above findings, we will treat her medically with ACE inhibitors and diuretics and see how she fares.\n",
    "\"\"\"]]).toDF(\"text\")\n",
    "\n",
    "result = pipeline.transform(data)\n",
    "\n",
    "result_df = result.select(\n",
    "    F.explode(\n",
    "        F.arrays_zip(\n",
    "            \"jsl_ner_chunk.result\",\n",
    "            \"jsl_ner_chunk.begin\",\n",
    "            \"jsl_ner_chunk.end\",\n",
    "            \"jsl_ner_chunk.metadata\"\n",
    "        )\n",
    "    ).alias(\"cols\")\n",
    ")\n",
    "\n",
    "\n",
    "result_df.select(\n",
    "    F.col(\"cols.result\").alias(\"chunk\"),\n",
    "    F.col(\"cols.begin\").alias(\"begin\"),\n",
    "    F.col(\"cols.end\").alias(\"end\"),\n",
    "    F.col(\"cols.metadata.entity\").alias(\"ner_label\")\n",
    ").show(truncate=False)\n"
   ]
  },
  {
   "cell_type": "code",
   "execution_count": 0,
   "metadata": {
    "application/vnd.databricks.v1+cell": {
     "cellMetadata": {
      "byteLimit": 2048000,
      "rowLimit": 10000
     },
     "inputWidgets": {},
     "nuid": "5e85d4fb-f084-4a3e-a6ef-f3cb9383cb9d",
     "showTitle": false,
     "tableResultSettingsMap": {},
     "title": ""
    },
    "colab": {
     "base_uri": "https://localhost:8080/"
    },
    "executionInfo": {
     "elapsed": 511,
     "status": "ok",
     "timestamp": 1708008600878,
     "user": {
      "displayName": "Akar Öztürk",
      "userId": "07602883577262601067"
     },
     "user_tz": -60
    },
    "id": "kQTm2emrNY2x",
    "outputId": "ab34fbbd-789e-429c-c739-0782ac8653ee"
   },
   "outputs": [
    {
     "output_type": "stream",
     "name": "stdout",
     "output_type": "stream",
     "text": [
      "+--------------------------+-----+---+-------------------+\n|chunk                     |begin|end|ner_label          |\n+--------------------------+-----+---+-------------------+\n|admitted                  |13   |20 |Admission_Discharge|\n|gastrointestinal pathology|26   |51 |Clinical_Dept      |\n|heart murmur              |96   |107|Heart_Disease      |\n|echocardiogram            |114  |127|Test               |\n|March 1998                |150  |159|Date               |\n|echocardiogram            |186  |199|Test               |\n|normal                    |221  |226|Test_Result        |\n|left ventricular function |228  |252|Test               |\n|left atrial enlargement   |259  |281|Heart_Disease      |\n|her                       |328  |330|Gender             |\n|ACE inhibitors            |347  |360|Drug_Ingredient    |\n|diuretics                 |366  |374|Drug_Ingredient    |\n|she                       |388  |390|Gender             |\n+--------------------------+-----+---+-------------------+\n\n"
     ]
    }
   ],
   "source": [
    "from pyspark.sql import functions as F\n",
    "\n",
    "# Explode the zipped arrays from the correct column\n",
    "result_df = result.select(\n",
    "    F.explode(\n",
    "        F.arrays_zip(\n",
    "            \"jsl_ner_chunk.result\",\n",
    "            \"jsl_ner_chunk.begin\",\n",
    "            \"jsl_ner_chunk.end\",\n",
    "            \"jsl_ner_chunk.metadata\"\n",
    "        )\n",
    "    ).alias(\"cols\")\n",
    ")\n",
    "\n",
    "# Select fields from the struct\n",
    "result_df.select(\n",
    "    F.col(\"cols.result\").alias(\"chunk\"),\n",
    "    F.col(\"cols.begin\").alias(\"begin\"),\n",
    "    F.col(\"cols.end\").alias(\"end\"),\n",
    "    F.col(\"cols.metadata.entity\").alias(\"ner_label\")\n",
    ").show(truncate=False)\n"
   ]
  },
  {
   "cell_type": "code",
   "execution_count": 0,
   "metadata": {
    "application/vnd.databricks.v1+cell": {
     "cellMetadata": {
      "byteLimit": 2048000,
      "rowLimit": 10000
     },
     "inputWidgets": {},
     "nuid": "7b50f5c4-993e-4c6c-90d6-69e60706a72e",
     "showTitle": false,
     "tableResultSettingsMap": {},
     "title": ""
    },
    "colab": {
     "base_uri": "https://localhost:8080/"
    },
    "executionInfo": {
     "elapsed": 1427,
     "status": "ok",
     "timestamp": 1708009009674,
     "user": {
      "displayName": "Akar Öztürk",
      "userId": "07602883577262601067"
     },
     "user_tz": -60
    },
    "id": "nNrqqmzuNY5m",
    "outputId": "11986e7c-3d1f-4ec1-a707-3ba977a84621"
   },
   "outputs": [
    {
     "output_type": "stream",
     "name": "stdout",
     "output_type": "stream",
     "text": [
      "+------------------------------------------------------+-----------------------------------------------------------------------------------------------------------+----------------------------------------------------------------+\n|tokens                                                |ner                                                                                                        |pos                                                             |\n+------------------------------------------------------+-----------------------------------------------------------------------------------------------------------+----------------------------------------------------------------+\n|{token, 1, 3, The, {sentence -> 0}, []}               |{named_entity, 1, 3, O, {word -> The, confidence -> 0.9996, sentence -> 0}, []}                            |{pos, 1, 3, DD, {word -> The, sentence -> 0}, []}               |\n|{token, 5, 11, patient, {sentence -> 0}, []}          |{named_entity, 5, 11, O, {word -> patient, confidence -> 0.9759, sentence -> 0}, []}                       |{pos, 5, 11, NN, {word -> patient, sentence -> 0}, []}          |\n|{token, 13, 20, admitted, {sentence -> 0}, []}        |{named_entity, 13, 20, B-Admission_Discharge, {word -> admitted, confidence -> 0.9993, sentence -> 0}, []} |{pos, 13, 20, VVN, {word -> admitted, sentence -> 0}, []}       |\n|{token, 22, 24, for, {sentence -> 0}, []}             |{named_entity, 22, 24, O, {word -> for, confidence -> 0.9819, sentence -> 0}, []}                          |{pos, 22, 24, II, {word -> for, sentence -> 0}, []}             |\n|{token, 26, 41, gastrointestinal, {sentence -> 0}, []}|{named_entity, 26, 41, B-Clinical_Dept, {word -> gastrointestinal, confidence -> 0.606, sentence -> 0}, []}|{pos, 26, 41, JJ, {word -> gastrointestinal, sentence -> 0}, []}|\n|{token, 43, 51, pathology, {sentence -> 0}, []}       |{named_entity, 43, 51, I-Clinical_Dept, {word -> pathology, confidence -> 0.8336, sentence -> 0}, []}      |{pos, 43, 51, NN, {word -> pathology, sentence -> 0}, []}       |\n|{token, 52, 52, ,, {sentence -> 0}, []}               |{named_entity, 52, 52, O, {word -> ,, confidence -> 0.9997, sentence -> 0}, []}                            |{pos, 52, 52, NN, {word -> ,, sentence -> 0}, []}               |\n|{token, 54, 58, under, {sentence -> 0}, []}           |{named_entity, 54, 58, O, {word -> under, confidence -> 0.9563, sentence -> 0}, []}                        |{pos, 54, 58, II, {word -> under, sentence -> 0}, []}           |\n|{token, 60, 66, working, {sentence -> 0}, []}         |{named_entity, 60, 66, O, {word -> working, confidence -> 0.5424, sentence -> 0}, []}                      |{pos, 60, 66, VVGJ, {word -> working, sentence -> 0}, []}       |\n|{token, 68, 76, treatment, {sentence -> 0}, []}       |{named_entity, 68, 76, O, {word -> treatment, confidence -> 0.5295, sentence -> 0}, []}                    |{pos, 68, 76, NN, {word -> treatment, sentence -> 0}, []}       |\n|{token, 77, 77, ., {sentence -> 0}, []}               |{named_entity, 77, 77, O, {word -> ., confidence -> 0.9982, sentence -> 0}, []}                            |{pos, 77, 77, NN, {word -> ., sentence -> 0}, []}               |\n|{token, 79, 85, History, {sentence -> 1}, []}         |{named_entity, 79, 85, O, {word -> History, confidence -> 0.9763, sentence -> 1}, []}                      |{pos, 79, 85, NN, {word -> History, sentence -> 1}, []}         |\n|{token, 87, 88, of, {sentence -> 1}, []}              |{named_entity, 87, 88, O, {word -> of, confidence -> 0.9375, sentence -> 1}, []}                           |{pos, 87, 88, II, {word -> of, sentence -> 1}, []}              |\n|{token, 90, 94, prior, {sentence -> 1}, []}           |{named_entity, 90, 94, O, {word -> prior, confidence -> 0.7642, sentence -> 1}, []}                        |{pos, 90, 94, JJ, {word -> prior, sentence -> 1}, []}           |\n|{token, 96, 100, heart, {sentence -> 1}, []}          |{named_entity, 96, 100, B-Heart_Disease, {word -> heart, confidence -> 0.6753, sentence -> 1}, []}         |{pos, 96, 100, NN, {word -> heart, sentence -> 1}, []}          |\n|{token, 102, 107, murmur, {sentence -> 1}, []}        |{named_entity, 102, 107, I-Heart_Disease, {word -> murmur, confidence -> 0.3825, sentence -> 1}, []}       |{pos, 102, 107, NNS, {word -> murmur, sentence -> 1}, []}       |\n|{token, 109, 112, with, {sentence -> 1}, []}          |{named_entity, 109, 112, O, {word -> with, confidence -> 0.9981, sentence -> 1}, []}                       |{pos, 109, 112, II, {word -> with, sentence -> 1}, []}          |\n|{token, 114, 127, echocardiogram, {sentence -> 1}, []}|{named_entity, 114, 127, B-Test, {word -> echocardiogram, confidence -> 0.9935, sentence -> 1}, []}        |{pos, 114, 127, NN, {word -> echocardiogram, sentence -> 1}, []}|\n|{token, 129, 136, findings, {sentence -> 1}, []}      |{named_entity, 129, 136, O, {word -> findings, confidence -> 0.978, sentence -> 1}, []}                    |{pos, 129, 136, NNS, {word -> findings, sentence -> 1}, []}     |\n|{token, 138, 139, as, {sentence -> 1}, []}            |{named_entity, 138, 139, O, {word -> as, confidence -> 0.9821, sentence -> 1}, []}                         |{pos, 138, 139, II, {word -> as, sentence -> 1}, []}            |\n+------------------------------------------------------+-----------------------------------------------------------------------------------------------------------+----------------------------------------------------------------+\nonly showing top 20 rows\n\n"
     ]
    }
   ],
   "source": [
    "from pyspark.sql import functions as F\n",
    "\n",
    "result_df = result.select(\n",
    "    F.explode(\n",
    "        F.arrays_zip(\n",
    "            F.col(\"token\"),\n",
    "            F.col(\"jsl_ner\"),\n",
    "            F.col(\"pos_tags\")\n",
    "        )\n",
    "    ).alias(\"cols\")\n",
    ")\n",
    "\n",
    "result_df.select(\n",
    "    F.col(\"cols.token\").alias(\"tokens\"),\n",
    "    F.col(\"cols.jsl_ner\").alias(\"ner\"),\n",
    "    F.col(\"cols.pos_tags\").alias(\"pos\")\n",
    ").show(truncate=False)"
   ]
  },
  {
   "cell_type": "markdown",
   "metadata": {
    "application/vnd.databricks.v1+cell": {
     "cellMetadata": {
      "byteLimit": 2048000,
      "rowLimit": 10000
     },
     "inputWidgets": {},
     "nuid": "852015ea-1748-4604-aece-8e10b189704b",
     "showTitle": false,
     "tableResultSettingsMap": {},
     "title": ""
    },
    "id": "pK2Tt0ZuRy2B"
   },
   "source": [
    "### explain_clinical_doc_carp\n",
    "\n",
    "A pipeline with ner_clinical, assertion_dl, re_clinical and ner_posology. It will extract clinical and medication entities, assign assertion status and find relationships between clinical entities."
   ]
  },
  {
   "cell_type": "code",
   "execution_count": 0,
   "metadata": {
    "application/vnd.databricks.v1+cell": {
     "cellMetadata": {
      "byteLimit": 2048000,
      "rowLimit": 10000
     },
     "inputWidgets": {},
     "nuid": "9f4e178a-9b8c-42c4-b446-ecbfb1ff99c4",
     "showTitle": false,
     "tableResultSettingsMap": {},
     "title": ""
    },
    "colab": {
     "base_uri": "https://localhost:8080/"
    },
    "executionInfo": {
     "elapsed": 172627,
     "status": "ok",
     "timestamp": 1707940408338,
     "user": {
      "displayName": "Akar Öztürk",
      "userId": "07602883577262601067"
     },
     "user_tz": -60
    },
    "id": "4rg3oe37R1wX",
    "outputId": "f56be43b-22ed-48b8-b57a-c3ce304bfede"
   },
   "outputs": [
    {
     "output_type": "stream",
     "name": "stdout",
     "output_type": "stream",
     "text": [
      "explain_clinical_doc_carp download started this may take some time.\nApprox size to download 1.6 GB\n\r[ | ]\r[ / ]\r[ — ]\r[ \\ ]\r[ | ]\r[ / ]\r[ — ]\r[ \\ ]\r[ | ]\r[ / ]\r[OK!]\n"
     ]
    }
   ],
   "source": [
    "pipeline = nlp.PretrainedPipeline('explain_clinical_doc_carp', 'en', 'clinical/models')"
   ]
  },
  {
   "cell_type": "code",
   "execution_count": 0,
   "metadata": {
    "application/vnd.databricks.v1+cell": {
     "cellMetadata": {
      "byteLimit": 2048000,
      "rowLimit": 10000
     },
     "inputWidgets": {},
     "nuid": "1fda2e7f-df84-457a-b4ae-bcc731d6e576",
     "showTitle": false,
     "tableResultSettingsMap": {},
     "title": ""
    },
    "colab": {
     "base_uri": "https://localhost:8080/"
    },
    "executionInfo": {
     "elapsed": 13,
     "status": "ok",
     "timestamp": 1707940408338,
     "user": {
      "displayName": "Akar Öztürk",
      "userId": "07602883577262601067"
     },
     "user_tz": -60
    },
    "id": "V7OaKtxjvA7f",
    "outputId": "b531ee4f-7d53-44b8-cf5a-92414542e6dc"
   },
   "outputs": [
    {
     "output_type": "execute_result",
     "data": {
      "text/plain": [
       "[DocumentAssembler_9619f8fd837c,\n",
       " SentenceDetector_c0b14c755033,\n",
       " REGEX_TOKENIZER_3087df5b9e9d,\n",
       " POS_6f55785005bf,\n",
       " dependency_d5a8da6c9093,\n",
       " WORD_EMBEDDINGS_MODEL_9004b1d00302,\n",
       " MedicalNerModel_cd5ce67b529f,\n",
       " NER_CONVERTER_2f1dcb61b142,\n",
       " MedicalNerModel_4a303d875127,\n",
       " NER_CONVERTER_a8cff4d56af8,\n",
       " ASSERTION_DL_25881ab6309e,\n",
       " RelationExtractionModel_9c255241fec3]"
      ]
     },
     "execution_count": 17,
     "metadata": {},
     "output_type": "execute_result"
    }
   ],
   "source": [
    "pipeline.model.stages"
   ]
  },
  {
   "cell_type": "code",
   "execution_count": 0,
   "metadata": {
    "application/vnd.databricks.v1+cell": {
     "cellMetadata": {
      "byteLimit": 2048000,
      "rowLimit": 10000
     },
     "inputWidgets": {},
     "nuid": "8bba842a-bb27-42fe-b1a9-3fe09abbf068",
     "showTitle": false,
     "tableResultSettingsMap": {},
     "title": ""
    },
    "colab": {
     "base_uri": "https://localhost:8080/"
    },
    "executionInfo": {
     "elapsed": 1556,
     "status": "ok",
     "timestamp": 1707940409892,
     "user": {
      "displayName": "Akar Öztürk",
      "userId": "07602883577262601067"
     },
     "user_tz": -60
    },
    "id": "3xmhwW2MVKYa",
    "outputId": "cc03bfc9-346d-4a6b-fc83-58152f78fbe4"
   },
   "outputs": [
    {
     "output_type": "execute_result",
     "data": {
      "text/plain": [
       "dict_keys(['sentences', 'clinical_ner_tags', 'document', 'clinical_ner_chunks', 'assertion', 'clinical_relations', 'posology_ner_tags', 'tokens', 'posology_ner_chunks', 'embeddings', 'pos_tags', 'dependencies'])"
      ]
     },
     "execution_count": 18,
     "metadata": {},
     "output_type": "execute_result"
    }
   ],
   "source": [
    "text =\"\"\"A 28-year-old female with a history of gestational diabetes mellitus, used to take metformin 1000 mg two times a day, presented with a one-week history of polyuria , polydipsia , poor appetite , and vomiting .\n",
    "She was seen by the endocrinology service and discharged on 40 units of insulin glargine at night, 12 units of insulin lispro with meals.\n",
    "\"\"\"\n",
    "\n",
    "annotations = pipeline.annotate(text)\n",
    "\n",
    "annotations.keys()\n"
   ]
  },
  {
   "cell_type": "code",
   "execution_count": 0,
   "metadata": {
    "application/vnd.databricks.v1+cell": {
     "cellMetadata": {
      "byteLimit": 2048000,
      "rowLimit": 10000
     },
     "inputWidgets": {},
     "nuid": "434fbbf7-8961-42ee-8eb6-2025dee9a9ab",
     "showTitle": false,
     "tableResultSettingsMap": {},
     "title": ""
    },
    "colab": {
     "base_uri": "https://localhost:8080/",
     "height": 676
    },
    "executionInfo": {
     "elapsed": 8,
     "status": "ok",
     "timestamp": 1707940409894,
     "user": {
      "displayName": "Akar Öztürk",
      "userId": "07602883577262601067"
     },
     "user_tz": -60
    },
    "id": "X4z-RbyZVvgR",
    "outputId": "5ca0781f-fe44-4262-f4cc-3aa50ea2bcb3"
   },
   "outputs": [
    {
     "output_type": "execute_result",
     "data": {
      "text/html": [
       "<div>\n",
       "<style scoped>\n",
       "    .dataframe tbody tr th:only-of-type {\n",
       "        vertical-align: middle;\n",
       "    }\n",
       "\n",
       "    .dataframe tbody tr th {\n",
       "        vertical-align: top;\n",
       "    }\n",
       "\n",
       "    .dataframe thead th {\n",
       "        text-align: right;\n",
       "    }\n",
       "</style>\n",
       "<table border=\"1\" class=\"dataframe\">\n",
       "  <thead>\n",
       "    <tr style=\"text-align: right;\">\n",
       "      <th></th>\n",
       "      <th>tokens</th>\n",
       "      <th>clinical_ner_tags</th>\n",
       "      <th>posology_ner_tags</th>\n",
       "      <th>POS_tags</th>\n",
       "      <th>dependencies</th>\n",
       "    </tr>\n",
       "  </thead>\n",
       "  <tbody>\n",
       "    <tr>\n",
       "      <th>0</th>\n",
       "      <td>A</td>\n",
       "      <td>O</td>\n",
       "      <td>O</td>\n",
       "      <td>DD</td>\n",
       "      <td>female</td>\n",
       "    </tr>\n",
       "    <tr>\n",
       "      <th>1</th>\n",
       "      <td>28-year-old</td>\n",
       "      <td>O</td>\n",
       "      <td>O</td>\n",
       "      <td>NN</td>\n",
       "      <td>female</td>\n",
       "    </tr>\n",
       "    <tr>\n",
       "      <th>2</th>\n",
       "      <td>female</td>\n",
       "      <td>O</td>\n",
       "      <td>O</td>\n",
       "      <td>NN</td>\n",
       "      <td>ROOT</td>\n",
       "    </tr>\n",
       "    <tr>\n",
       "      <th>3</th>\n",
       "      <td>with</td>\n",
       "      <td>O</td>\n",
       "      <td>O</td>\n",
       "      <td>II</td>\n",
       "      <td>history</td>\n",
       "    </tr>\n",
       "    <tr>\n",
       "      <th>4</th>\n",
       "      <td>a</td>\n",
       "      <td>O</td>\n",
       "      <td>O</td>\n",
       "      <td>DD</td>\n",
       "      <td>history</td>\n",
       "    </tr>\n",
       "    <tr>\n",
       "      <th>5</th>\n",
       "      <td>history</td>\n",
       "      <td>O</td>\n",
       "      <td>O</td>\n",
       "      <td>NN</td>\n",
       "      <td>female</td>\n",
       "    </tr>\n",
       "    <tr>\n",
       "      <th>6</th>\n",
       "      <td>of</td>\n",
       "      <td>O</td>\n",
       "      <td>O</td>\n",
       "      <td>II</td>\n",
       "      <td>history</td>\n",
       "    </tr>\n",
       "    <tr>\n",
       "      <th>7</th>\n",
       "      <td>gestational</td>\n",
       "      <td>B-PROBLEM</td>\n",
       "      <td>O</td>\n",
       "      <td>JJ</td>\n",
       "      <td>of</td>\n",
       "    </tr>\n",
       "    <tr>\n",
       "      <th>8</th>\n",
       "      <td>diabetes</td>\n",
       "      <td>I-PROBLEM</td>\n",
       "      <td>O</td>\n",
       "      <td>NN</td>\n",
       "      <td>mellitus</td>\n",
       "    </tr>\n",
       "    <tr>\n",
       "      <th>9</th>\n",
       "      <td>mellitus</td>\n",
       "      <td>I-PROBLEM</td>\n",
       "      <td>O</td>\n",
       "      <td>NN</td>\n",
       "      <td>gestational</td>\n",
       "    </tr>\n",
       "    <tr>\n",
       "      <th>10</th>\n",
       "      <td>,</td>\n",
       "      <td>O</td>\n",
       "      <td>O</td>\n",
       "      <td>NN</td>\n",
       "      <td>used</td>\n",
       "    </tr>\n",
       "    <tr>\n",
       "      <th>11</th>\n",
       "      <td>used</td>\n",
       "      <td>O</td>\n",
       "      <td>O</td>\n",
       "      <td>VVN</td>\n",
       "      <td>mellitus</td>\n",
       "    </tr>\n",
       "    <tr>\n",
       "      <th>12</th>\n",
       "      <td>to</td>\n",
       "      <td>O</td>\n",
       "      <td>O</td>\n",
       "      <td>TO</td>\n",
       "      <td>take</td>\n",
       "    </tr>\n",
       "    <tr>\n",
       "      <th>13</th>\n",
       "      <td>take</td>\n",
       "      <td>O</td>\n",
       "      <td>O</td>\n",
       "      <td>VVI</td>\n",
       "      <td>used</td>\n",
       "    </tr>\n",
       "    <tr>\n",
       "      <th>14</th>\n",
       "      <td>metformin</td>\n",
       "      <td>B-TREATMENT</td>\n",
       "      <td>B-DRUG</td>\n",
       "      <td>NN</td>\n",
       "      <td>take</td>\n",
       "    </tr>\n",
       "    <tr>\n",
       "      <th>15</th>\n",
       "      <td>1000</td>\n",
       "      <td>O</td>\n",
       "      <td>B-STRENGTH</td>\n",
       "      <td>MC</td>\n",
       "      <td>metformin</td>\n",
       "    </tr>\n",
       "    <tr>\n",
       "      <th>16</th>\n",
       "      <td>mg</td>\n",
       "      <td>O</td>\n",
       "      <td>I-STRENGTH</td>\n",
       "      <td>NN</td>\n",
       "      <td>1000</td>\n",
       "    </tr>\n",
       "    <tr>\n",
       "      <th>17</th>\n",
       "      <td>two</td>\n",
       "      <td>O</td>\n",
       "      <td>B-FREQUENCY</td>\n",
       "      <td>MC</td>\n",
       "      <td>times</td>\n",
       "    </tr>\n",
       "    <tr>\n",
       "      <th>18</th>\n",
       "      <td>times</td>\n",
       "      <td>O</td>\n",
       "      <td>I-FREQUENCY</td>\n",
       "      <td>NNS</td>\n",
       "      <td>mg</td>\n",
       "    </tr>\n",
       "    <tr>\n",
       "      <th>19</th>\n",
       "      <td>a</td>\n",
       "      <td>O</td>\n",
       "      <td>I-FREQUENCY</td>\n",
       "      <td>DD</td>\n",
       "      <td>day</td>\n",
       "    </tr>\n",
       "  </tbody>\n",
       "</table>\n",
       "</div>"
      ],
      "text/plain": [
       "         tokens clinical_ner_tags posology_ner_tags POS_tags dependencies\n",
       "0             A                 O                 O       DD       female\n",
       "1   28-year-old                 O                 O       NN       female\n",
       "2        female                 O                 O       NN         ROOT\n",
       "3          with                 O                 O       II      history\n",
       "4             a                 O                 O       DD      history\n",
       "5       history                 O                 O       NN       female\n",
       "6            of                 O                 O       II      history\n",
       "7   gestational         B-PROBLEM                 O       JJ           of\n",
       "8      diabetes         I-PROBLEM                 O       NN     mellitus\n",
       "9      mellitus         I-PROBLEM                 O       NN  gestational\n",
       "10            ,                 O                 O       NN         used\n",
       "11         used                 O                 O      VVN     mellitus\n",
       "12           to                 O                 O       TO         take\n",
       "13         take                 O                 O      VVI         used\n",
       "14    metformin       B-TREATMENT            B-DRUG       NN         take\n",
       "15         1000                 O        B-STRENGTH       MC    metformin\n",
       "16           mg                 O        I-STRENGTH       NN         1000\n",
       "17          two                 O       B-FREQUENCY       MC        times\n",
       "18        times                 O       I-FREQUENCY      NNS           mg\n",
       "19            a                 O       I-FREQUENCY       DD          day"
      ]
     },
     "execution_count": 19,
     "metadata": {},
     "output_type": "execute_result"
    }
   ],
   "source": [
    "import pandas as pd\n",
    "\n",
    "rows = list(zip(annotations['tokens'], annotations['clinical_ner_tags'], annotations['posology_ner_tags'], annotations['pos_tags'], annotations['dependencies']))\n",
    "\n",
    "df = pd.DataFrame(rows, columns = ['tokens','clinical_ner_tags','posology_ner_tags','POS_tags','dependencies'])\n",
    "\n",
    "df.head(20)"
   ]
  },
  {
   "cell_type": "code",
   "execution_count": 0,
   "metadata": {
    "application/vnd.databricks.v1+cell": {
     "cellMetadata": {
      "byteLimit": 2048000,
      "rowLimit": 10000
     },
     "inputWidgets": {},
     "nuid": "b75db2a7-4722-4f22-83f6-dcb43b85cfab",
     "showTitle": false,
     "tableResultSettingsMap": {},
     "title": ""
    },
    "colab": {
     "base_uri": "https://localhost:8080/",
     "height": 175
    },
    "executionInfo": {
     "elapsed": 537,
     "status": "ok",
     "timestamp": 1707940410425,
     "user": {
      "displayName": "Akar Öztürk",
      "userId": "07602883577262601067"
     },
     "user_tz": -60
    },
    "id": "5Hlwc2M2Xl_y",
    "outputId": "147aaf2d-dfb1-432e-bb9a-5c7a49ab0837"
   },
   "outputs": [
    {
     "output_type": "execute_result",
     "data": {
      "text/html": [
       "<div>\n",
       "<style scoped>\n",
       "    .dataframe tbody tr th:only-of-type {\n",
       "        vertical-align: middle;\n",
       "    }\n",
       "\n",
       "    .dataframe tbody tr th {\n",
       "        vertical-align: top;\n",
       "    }\n",
       "\n",
       "    .dataframe thead th {\n",
       "        text-align: right;\n",
       "    }\n",
       "</style>\n",
       "<table border=\"1\" class=\"dataframe\">\n",
       "  <thead>\n",
       "    <tr style=\"text-align: right;\">\n",
       "      <th></th>\n",
       "      <th>chunks</th>\n",
       "      <th>entities</th>\n",
       "      <th>assertion</th>\n",
       "    </tr>\n",
       "  </thead>\n",
       "  <tbody>\n",
       "    <tr>\n",
       "      <th>0</th>\n",
       "      <td>a headache</td>\n",
       "      <td>PROBLEM</td>\n",
       "      <td>present</td>\n",
       "    </tr>\n",
       "    <tr>\n",
       "      <th>1</th>\n",
       "      <td>anxious</td>\n",
       "      <td>PROBLEM</td>\n",
       "      <td>present</td>\n",
       "    </tr>\n",
       "    <tr>\n",
       "      <th>2</th>\n",
       "      <td>alopecia</td>\n",
       "      <td>PROBLEM</td>\n",
       "      <td>absent</td>\n",
       "    </tr>\n",
       "    <tr>\n",
       "      <th>3</th>\n",
       "      <td>pain</td>\n",
       "      <td>PROBLEM</td>\n",
       "      <td>absent</td>\n",
       "    </tr>\n",
       "  </tbody>\n",
       "</table>\n",
       "</div>"
      ],
      "text/plain": [
       "       chunks entities assertion\n",
       "0  a headache  PROBLEM   present\n",
       "1     anxious  PROBLEM   present\n",
       "2    alopecia  PROBLEM    absent\n",
       "3        pain  PROBLEM    absent"
      ]
     },
     "execution_count": 20,
     "metadata": {},
     "output_type": "execute_result"
    }
   ],
   "source": [
    "text = 'Patient has a headache for the last 2 weeks and appears anxious when she walks fast. No alopecia noted. She denies pain'\n",
    "\n",
    "result = pipeline.fullAnnotate(text)[0]\n",
    "\n",
    "chunks=[]\n",
    "entities=[]\n",
    "status=[]\n",
    "\n",
    "for n,m in zip(result['clinical_ner_chunks'],result['assertion']):\n",
    "\n",
    "    chunks.append(n.result)\n",
    "    entities.append(n.metadata['entity'])\n",
    "    status.append(m.result)\n",
    "\n",
    "df = pd.DataFrame({'chunks':chunks, 'entities':entities, 'assertion':status})\n",
    "\n",
    "df"
   ]
  },
  {
   "cell_type": "code",
   "execution_count": 0,
   "metadata": {
    "application/vnd.databricks.v1+cell": {
     "cellMetadata": {
      "byteLimit": 2048000,
      "rowLimit": 10000
     },
     "inputWidgets": {},
     "nuid": "2dbaf735-e710-4dc7-b269-9ec8e310d473",
     "showTitle": false,
     "tableResultSettingsMap": {},
     "title": ""
    },
    "colab": {
     "base_uri": "https://localhost:8080/",
     "height": 519
    },
    "executionInfo": {
     "elapsed": 656,
     "status": "ok",
     "timestamp": 1707940411076,
     "user": {
      "displayName": "Akar Öztürk",
      "userId": "07602883577262601067"
     },
     "user_tz": -60
    },
    "id": "wF9PCC18Y7eE",
    "outputId": "5c411f99-6f31-4902-a380-505b306a5d59"
   },
   "outputs": [
    {
     "output_type": "execute_result",
     "data": {
      "text/html": [
       "<div>\n",
       "<style scoped>\n",
       "    .dataframe tbody tr th:only-of-type {\n",
       "        vertical-align: middle;\n",
       "    }\n",
       "\n",
       "    .dataframe tbody tr th {\n",
       "        vertical-align: top;\n",
       "    }\n",
       "\n",
       "    .dataframe thead th {\n",
       "        text-align: right;\n",
       "    }\n",
       "</style>\n",
       "<table border=\"1\" class=\"dataframe\">\n",
       "  <thead>\n",
       "    <tr style=\"text-align: right;\">\n",
       "      <th></th>\n",
       "      <th>chunks</th>\n",
       "      <th>begin</th>\n",
       "      <th>end</th>\n",
       "      <th>entities</th>\n",
       "    </tr>\n",
       "  </thead>\n",
       "  <tbody>\n",
       "    <tr>\n",
       "      <th>0</th>\n",
       "      <td>1 unit</td>\n",
       "      <td>28</td>\n",
       "      <td>33</td>\n",
       "      <td>DOSAGE</td>\n",
       "    </tr>\n",
       "    <tr>\n",
       "      <th>1</th>\n",
       "      <td>Advil</td>\n",
       "      <td>38</td>\n",
       "      <td>42</td>\n",
       "      <td>DRUG</td>\n",
       "    </tr>\n",
       "    <tr>\n",
       "      <th>2</th>\n",
       "      <td>for 5 days</td>\n",
       "      <td>44</td>\n",
       "      <td>53</td>\n",
       "      <td>DURATION</td>\n",
       "    </tr>\n",
       "    <tr>\n",
       "      <th>3</th>\n",
       "      <td>1 unit</td>\n",
       "      <td>95</td>\n",
       "      <td>100</td>\n",
       "      <td>DOSAGE</td>\n",
       "    </tr>\n",
       "    <tr>\n",
       "      <th>4</th>\n",
       "      <td>Metformin</td>\n",
       "      <td>105</td>\n",
       "      <td>113</td>\n",
       "      <td>DRUG</td>\n",
       "    </tr>\n",
       "    <tr>\n",
       "      <th>5</th>\n",
       "      <td>daily</td>\n",
       "      <td>115</td>\n",
       "      <td>119</td>\n",
       "      <td>FREQUENCY</td>\n",
       "    </tr>\n",
       "    <tr>\n",
       "      <th>6</th>\n",
       "      <td>40 units</td>\n",
       "      <td>189</td>\n",
       "      <td>196</td>\n",
       "      <td>DOSAGE</td>\n",
       "    </tr>\n",
       "    <tr>\n",
       "      <th>7</th>\n",
       "      <td>insulin glargine</td>\n",
       "      <td>201</td>\n",
       "      <td>216</td>\n",
       "      <td>DRUG</td>\n",
       "    </tr>\n",
       "    <tr>\n",
       "      <th>8</th>\n",
       "      <td>at night</td>\n",
       "      <td>218</td>\n",
       "      <td>225</td>\n",
       "      <td>FREQUENCY</td>\n",
       "    </tr>\n",
       "    <tr>\n",
       "      <th>9</th>\n",
       "      <td>12 units</td>\n",
       "      <td>229</td>\n",
       "      <td>236</td>\n",
       "      <td>DOSAGE</td>\n",
       "    </tr>\n",
       "    <tr>\n",
       "      <th>10</th>\n",
       "      <td>insulin lispro</td>\n",
       "      <td>241</td>\n",
       "      <td>254</td>\n",
       "      <td>DRUG</td>\n",
       "    </tr>\n",
       "    <tr>\n",
       "      <th>11</th>\n",
       "      <td>with meals</td>\n",
       "      <td>256</td>\n",
       "      <td>265</td>\n",
       "      <td>FREQUENCY</td>\n",
       "    </tr>\n",
       "    <tr>\n",
       "      <th>12</th>\n",
       "      <td>metformin</td>\n",
       "      <td>273</td>\n",
       "      <td>281</td>\n",
       "      <td>DRUG</td>\n",
       "    </tr>\n",
       "    <tr>\n",
       "      <th>13</th>\n",
       "      <td>1000 mg</td>\n",
       "      <td>283</td>\n",
       "      <td>289</td>\n",
       "      <td>STRENGTH</td>\n",
       "    </tr>\n",
       "    <tr>\n",
       "      <th>14</th>\n",
       "      <td>two times a day</td>\n",
       "      <td>291</td>\n",
       "      <td>305</td>\n",
       "      <td>FREQUENCY</td>\n",
       "    </tr>\n",
       "  </tbody>\n",
       "</table>\n",
       "</div>"
      ],
      "text/plain": [
       "              chunks  begin  end   entities\n",
       "0             1 unit     28   33     DOSAGE\n",
       "1              Advil     38   42       DRUG\n",
       "2         for 5 days     44   53   DURATION\n",
       "3             1 unit     95  100     DOSAGE\n",
       "4          Metformin    105  113       DRUG\n",
       "5              daily    115  119  FREQUENCY\n",
       "6           40 units    189  196     DOSAGE\n",
       "7   insulin glargine    201  216       DRUG\n",
       "8           at night    218  225  FREQUENCY\n",
       "9           12 units    229  236     DOSAGE\n",
       "10    insulin lispro    241  254       DRUG\n",
       "11        with meals    256  265  FREQUENCY\n",
       "12         metformin    273  281       DRUG\n",
       "13           1000 mg    283  289   STRENGTH\n",
       "14   two times a day    291  305  FREQUENCY"
      ]
     },
     "execution_count": 21,
     "metadata": {},
     "output_type": "execute_result"
    }
   ],
   "source": [
    "text = \"\"\"\n",
    "The patient was prescribed 1 unit of Advil for 5 days after meals. The patient was also\n",
    "given 1 unit of Metformin daily.\n",
    "He was seen by the endocrinology service and she was discharged on 40 units of insulin glargine at night ,\n",
    "12 units of insulin lispro with meals , and metformin 1000 mg two times a day.\n",
    "\"\"\"\n",
    "\n",
    "result = pipeline.fullAnnotate(text)[0]\n",
    "\n",
    "chunks=[]\n",
    "entities=[]\n",
    "begins=[]\n",
    "ends=[]\n",
    "\n",
    "for n in result['posology_ner_chunks']:\n",
    "\n",
    "    chunks.append(n.result)\n",
    "    begins.append(n.begin)\n",
    "    ends.append(n.end)\n",
    "    entities.append(n.metadata['entity'])\n",
    "\n",
    "df = pd.DataFrame({'chunks':chunks, 'begin':begins, 'end':ends, 'entities':entities})\n",
    "\n",
    "df"
   ]
  },
  {
   "cell_type": "markdown",
   "metadata": {
    "application/vnd.databricks.v1+cell": {
     "cellMetadata": {
      "byteLimit": 2048000,
      "rowLimit": 10000
     },
     "inputWidgets": {},
     "nuid": "20b01c66-6fd0-4f6c-a52e-3456246f8ecc",
     "showTitle": false,
     "tableResultSettingsMap": {},
     "title": ""
    },
    "id": "ljp4EmCxaDNd"
   },
   "source": [
    "### explain_clinical_doc_oncology\n",
    "\n",
    "> This pipeline includes Named-Entity Recognition, Assertion Status and Relation Extraction models to extract information from oncology texts.\n",
    "\n",
    "\n",
    "- Clinical Entity Labels: `Adenopathy`, `Age`, `Biomarker`,`Biomarker_Result`, `Cancer_Dx`, `Cancer_Score` ,`Cancer_Surgery`, `Chemotherapy`, `Cycle_Count` ,`Cycle_Day`, `Cycle_Number`, `Date` ,`Death_Entity`, `Direction`, `Dosage` ,`Duration`, `Frequency`, `Gender` ,`Grade`, `Histological_Type`, `Hormonal_Therapy` ,`Imaging_Test`, `Immunotherapy`, `Invasion` ,`Line_Of_Therapy`, `Metastasis`, `Oncogene` ,`PROBLEM`, `Pathology_Result`, `Pathology_Test` ,`PROBLEM`, `Performance_Status`, `Race_Ethnicity` ,`Radiotherapy`, `Response_To_Treatment`, `Relative_Date` ,`Route`, `Site_Bone`, `Site_Brain` ,`Site_Breast`, `Site_Liver`, `Site_Lung` ,`Site_Lymph_Node`, `Site_Other_Body_Part`, `Smoking_Status` ,`Staging`, `Targeted_Therapy`, `Tumor_Finding` ,`Tumor_Size`, `Unspecific_Therapy`, `Radiation_Dose` ,`Anatomical_Site`, `Cancer_Therapy`, `Size_Trend` ,`Lymph_Node`, `Tumor_Description`,`Lymph_Node_Modifier`, `Posology_Information`, `Oncological`,`Weight`,`Alcohol`,`Communicable_Disease`,`BMI`,`Obesity`,`Diabetes`\n",
    "\n",
    "- Assertion Status Labels: `Present`, `Absent`, `Possible`, `Past`, `Family`, `Hypotetical`\n",
    "\n",
    "- Relation Extraction Labels: `is_size_of`, `is_finding_of`, `is_date_of`, `is_location_of`\n"
   ]
  },
  {
   "cell_type": "code",
   "execution_count": 0,
   "metadata": {
    "application/vnd.databricks.v1+cell": {
     "cellMetadata": {
      "byteLimit": 2048000,
      "rowLimit": 10000
     },
     "inputWidgets": {},
     "nuid": "32a6f024-8ae2-4892-8b16-a38e9d798018",
     "showTitle": false,
     "tableResultSettingsMap": {},
     "title": ""
    },
    "colab": {
     "base_uri": "https://localhost:8080/"
    },
    "executionInfo": {
     "elapsed": 204762,
     "status": "ok",
     "timestamp": 1707940625598,
     "user": {
      "displayName": "Akar Öztürk",
      "userId": "07602883577262601067"
     },
     "user_tz": -60
    },
    "id": "BMWEfu1QuXY5",
    "outputId": "a50a84e2-3e74-4651-e4fa-01a1c7eb3d99"
   },
   "outputs": [
    {
     "output_type": "stream",
     "name": "stdout",
     "output_type": "stream",
     "text": [
      "explain_clinical_doc_oncology download started this may take some time.\nApprox size to download 1.8 GB\n\r[ | ]\r[ / ]\r[ — ]\r[ \\ ]\r[ | ]\r[ / ]\r[ — ]\r[ \\ ]\r[ | ]\r[ / ]\r[ — ]\r[ \\ ]\r[ | ]\r[ / ]\r[ — ]\r[ \\ ]\r[ | ]\r[ / ]\r[ — ]\r[ \\ ]\r[ | ]\r[ / ]\r[ — ]\r[OK!]\n"
     ]
    }
   ],
   "source": [
    "ner_pipeline = nlp.PretrainedPipeline(\"explain_clinical_doc_oncology\", \"en\", \"clinical/models\")"
   ]
  },
  {
   "cell_type": "code",
   "execution_count": 0,
   "metadata": {
    "application/vnd.databricks.v1+cell": {
     "cellMetadata": {
      "byteLimit": 2048000,
      "rowLimit": 10000
     },
     "inputWidgets": {},
     "nuid": "b4882f59-7194-49aa-9108-f7e2f2d5d241",
     "showTitle": false,
     "tableResultSettingsMap": {},
     "title": ""
    },
    "colab": {
     "base_uri": "https://localhost:8080/"
    },
    "executionInfo": {
     "elapsed": 12,
     "status": "ok",
     "timestamp": 1707940625598,
     "user": {
      "displayName": "Akar Öztürk",
      "userId": "07602883577262601067"
     },
     "user_tz": -60
    },
    "id": "xWhFRqvpvIOl",
    "outputId": "4b2b2b2e-177d-485c-e930-0eb107155b6e"
   },
   "outputs": [
    {
     "output_type": "execute_result",
     "data": {
      "text/plain": [
       "[DocumentAssembler_c87f754f30a5,\n",
       " SentenceDetectorDLModel_6bafc4746ea5,\n",
       " REGEX_TOKENIZER_99be4a04da74,\n",
       " WORD_EMBEDDINGS_MODEL_9004b1d00302,\n",
       " MedicalNerModel_8c59079bd37d,\n",
       " NER_CONVERTER_b4412c365ed7,\n",
       " MedicalNerModel_f17b93cea1f2,\n",
       " NER_CONVERTER_257714ea4f94,\n",
       " MedicalNerModel_58233645f160,\n",
       " NER_CONVERTER_d681d37ca98d,\n",
       " MedicalNerModel_185d3fbf617b,\n",
       " NER_CONVERTER_d374ed043a37,\n",
       " MedicalNerModel_ceff3f64ab20,\n",
       " NER_CONVERTER_2b6456f7a65e,\n",
       " MedicalNerModel_003a41401784,\n",
       " NER_CONVERTER_0cba989aacd1,\n",
       " MedicalNerModel_c89cbceb1028,\n",
       " NER_CONVERTER_4392e0c2b05e,\n",
       " MedicalNerModel_d674613cb476,\n",
       " NER_CONVERTER_cb00a2bafc28,\n",
       " MedicalNerModel_fd1b709ca66a,\n",
       " NER_CONVERTER_580e14b464d0,\n",
       " MedicalNerModel_299a97740594,\n",
       " NER_CONVERTER_bcd609854cb1,\n",
       " ENTITY_EXTRACTOR_580b61c0ff9d,\n",
       " ENTITY_EXTRACTOR_97d5ccc4aacb,\n",
       " MERGE_f8bd00c11215,\n",
       " MERGE_e15189677f3c,\n",
       " ASSERTION_DL_d9d32f5f411d,\n",
       " POS_6f55785005bf,\n",
       " dependency_e7755462ba78,\n",
       " RelationExtractionModel_68ebe11369b6,\n",
       " PosologyREModel_583a49a5b62b,\n",
       " AnnotationMerger_e20f3e56ebeb]"
      ]
     },
     "execution_count": 23,
     "metadata": {},
     "output_type": "execute_result"
    }
   ],
   "source": [
    "ner_pipeline.model.stages"
   ]
  },
  {
   "cell_type": "code",
   "execution_count": 0,
   "metadata": {
    "application/vnd.databricks.v1+cell": {
     "cellMetadata": {
      "byteLimit": 2048000,
      "rowLimit": 10000
     },
     "inputWidgets": {},
     "nuid": "01e346a9-1f19-4152-a9c9-75a5d8e6b87e",
     "showTitle": false,
     "tableResultSettingsMap": {},
     "title": ""
    },
    "id": "O9cTLFNUaQNU"
   },
   "outputs": [],
   "source": [
    "text =\"\"\"The Patient underwent a computed tomography (CT) scan of the abdomen and pelvis,\n",
    "which showed a complex ovarian mass. A Pap smear performed one month later was positive for\n",
    "atypical glandular cells suspicious for adenocarcinoma. The pathologic specimen showed extension\n",
    "of the tumor throughout the fallopian tubes, appendix, omentum, and 5 out of 5 enlarged lymph nodes.\n",
    "The final pathologic diagnosis of the tumor was stage IIIC papillary serous ovarian adenocarcinoma.\n",
    "Two months later, the patient was diagnosed with lung metastases.\n",
    "\"\"\"\n",
    "\n",
    "result = ner_pipeline.fullAnnotate(text)[0]\n"
   ]
  },
  {
   "cell_type": "code",
   "execution_count": 0,
   "metadata": {
    "application/vnd.databricks.v1+cell": {
     "cellMetadata": {
      "byteLimit": 2048000,
      "rowLimit": 10000
     },
     "inputWidgets": {},
     "nuid": "797f543a-371a-4247-a483-c08217a06a3b",
     "showTitle": false,
     "tableResultSettingsMap": {},
     "title": ""
    },
    "colab": {
     "base_uri": "https://localhost:8080/"
    },
    "executionInfo": {
     "elapsed": 10,
     "status": "ok",
     "timestamp": 1707940630091,
     "user": {
      "displayName": "Akar Öztürk",
      "userId": "07602883577262601067"
     },
     "user_tz": -60
    },
    "id": "1igwWvsgu7z6",
    "outputId": "3b1714af-2e4e-43fb-9835-e3adaf860489"
   },
   "outputs": [
    {
     "output_type": "execute_result",
     "data": {
      "text/plain": [
       "dict_keys(['entity_biomarker', 'ner_cancer_type_chunk', 'ner_oncology_unspecific_posology_chunk', 'ner_oncology_anatomy_general_chunk', 'ner_biomarker_chunk', 'ner_oncology', 'document', 're_posology_granular', 'ner_biomarker_langtest_chunk', 'merged_chunk', 'entity_cancer_dx', 'ner_biomarker', 'merged_chunk_for_assertion', 're_oncology_granular', 'ner_biomarker_langtest', 'ner_oncology_anatomy_general', 'assertion', 'all_relations', 'ner_posology_chunk', 'ner_oncology_response_to_treatment', 'ner_oncology_chunk', 'token', 'ner_oncology_tnm_chunk', 'ner_jsl_chunk', 'embeddings', 'ner_oncology_tnm', 'pos_tags', 'ner_jsl', 'dependencies', 'ner_oncology_unspecific_posology', 'ner_posology', 'ner_oncology_response_to_treatment_chunk', 'sentence', 'ner_cancer_type'])"
      ]
     },
     "execution_count": 25,
     "metadata": {},
     "output_type": "execute_result"
    }
   ],
   "source": [
    "result.keys()"
   ]
  },
  {
   "cell_type": "code",
   "execution_count": 0,
   "metadata": {
    "application/vnd.databricks.v1+cell": {
     "cellMetadata": {
      "byteLimit": 2048000,
      "rowLimit": 10000
     },
     "inputWidgets": {},
     "nuid": "2782b45b-b100-476b-84f7-0a1b3b74c0cd",
     "showTitle": false,
     "tableResultSettingsMap": {},
     "title": ""
    },
    "colab": {
     "base_uri": "https://localhost:8080/",
     "height": 770
    },
    "executionInfo": {
     "elapsed": 8,
     "status": "ok",
     "timestamp": 1707940630091,
     "user": {
      "displayName": "Akar Öztürk",
      "userId": "07602883577262601067"
     },
     "user_tz": -60
    },
    "id": "6rejwSLjyW8S",
    "outputId": "d382e3ab-e221-434e-e0f6-7b51810eae2d"
   },
   "outputs": [
    {
     "output_type": "execute_result",
     "data": {
      "text/html": [
       "<div>\n",
       "<style scoped>\n",
       "    .dataframe tbody tr th:only-of-type {\n",
       "        vertical-align: middle;\n",
       "    }\n",
       "\n",
       "    .dataframe tbody tr th {\n",
       "        vertical-align: top;\n",
       "    }\n",
       "\n",
       "    .dataframe thead th {\n",
       "        text-align: right;\n",
       "    }\n",
       "</style>\n",
       "<table border=\"1\" class=\"dataframe\">\n",
       "  <thead>\n",
       "    <tr style=\"text-align: right;\">\n",
       "      <th></th>\n",
       "      <th>chunks</th>\n",
       "      <th>begin</th>\n",
       "      <th>end</th>\n",
       "      <th>entities</th>\n",
       "    </tr>\n",
       "  </thead>\n",
       "  <tbody>\n",
       "    <tr>\n",
       "      <th>0</th>\n",
       "      <td>computed tomography</td>\n",
       "      <td>24</td>\n",
       "      <td>42</td>\n",
       "      <td>Imaging_Test</td>\n",
       "    </tr>\n",
       "    <tr>\n",
       "      <th>1</th>\n",
       "      <td>CT</td>\n",
       "      <td>45</td>\n",
       "      <td>46</td>\n",
       "      <td>Imaging_Test</td>\n",
       "    </tr>\n",
       "    <tr>\n",
       "      <th>2</th>\n",
       "      <td>abdomen</td>\n",
       "      <td>61</td>\n",
       "      <td>67</td>\n",
       "      <td>Site_Other_Body_Part</td>\n",
       "    </tr>\n",
       "    <tr>\n",
       "      <th>3</th>\n",
       "      <td>pelvis</td>\n",
       "      <td>73</td>\n",
       "      <td>78</td>\n",
       "      <td>Site_Other_Body_Part</td>\n",
       "    </tr>\n",
       "    <tr>\n",
       "      <th>4</th>\n",
       "      <td>ovarian</td>\n",
       "      <td>104</td>\n",
       "      <td>110</td>\n",
       "      <td>Site_Other_Body_Part</td>\n",
       "    </tr>\n",
       "    <tr>\n",
       "      <th>5</th>\n",
       "      <td>mass</td>\n",
       "      <td>112</td>\n",
       "      <td>115</td>\n",
       "      <td>Tumor_Finding</td>\n",
       "    </tr>\n",
       "    <tr>\n",
       "      <th>6</th>\n",
       "      <td>Pap smear</td>\n",
       "      <td>120</td>\n",
       "      <td>128</td>\n",
       "      <td>Pathology_Test</td>\n",
       "    </tr>\n",
       "    <tr>\n",
       "      <th>7</th>\n",
       "      <td>one month later</td>\n",
       "      <td>140</td>\n",
       "      <td>154</td>\n",
       "      <td>Relative_Date</td>\n",
       "    </tr>\n",
       "    <tr>\n",
       "      <th>8</th>\n",
       "      <td>atypical glandular cells</td>\n",
       "      <td>173</td>\n",
       "      <td>196</td>\n",
       "      <td>Pathology_Result</td>\n",
       "    </tr>\n",
       "    <tr>\n",
       "      <th>9</th>\n",
       "      <td>adenocarcinoma</td>\n",
       "      <td>213</td>\n",
       "      <td>226</td>\n",
       "      <td>Cancer_Dx</td>\n",
       "    </tr>\n",
       "    <tr>\n",
       "      <th>10</th>\n",
       "      <td>pathologic specimen</td>\n",
       "      <td>233</td>\n",
       "      <td>251</td>\n",
       "      <td>Pathology_Test</td>\n",
       "    </tr>\n",
       "    <tr>\n",
       "      <th>11</th>\n",
       "      <td>extension</td>\n",
       "      <td>260</td>\n",
       "      <td>268</td>\n",
       "      <td>Invasion</td>\n",
       "    </tr>\n",
       "    <tr>\n",
       "      <th>12</th>\n",
       "      <td>tumor</td>\n",
       "      <td>277</td>\n",
       "      <td>281</td>\n",
       "      <td>Tumor_Finding</td>\n",
       "    </tr>\n",
       "    <tr>\n",
       "      <th>13</th>\n",
       "      <td>fallopian tubes</td>\n",
       "      <td>298</td>\n",
       "      <td>312</td>\n",
       "      <td>Site_Other_Body_Part</td>\n",
       "    </tr>\n",
       "    <tr>\n",
       "      <th>14</th>\n",
       "      <td>appendix</td>\n",
       "      <td>315</td>\n",
       "      <td>322</td>\n",
       "      <td>Site_Other_Body_Part</td>\n",
       "    </tr>\n",
       "    <tr>\n",
       "      <th>15</th>\n",
       "      <td>omentum</td>\n",
       "      <td>325</td>\n",
       "      <td>331</td>\n",
       "      <td>Site_Other_Body_Part</td>\n",
       "    </tr>\n",
       "    <tr>\n",
       "      <th>16</th>\n",
       "      <td>enlarged</td>\n",
       "      <td>349</td>\n",
       "      <td>356</td>\n",
       "      <td>Lymph_Node_Modifier</td>\n",
       "    </tr>\n",
       "    <tr>\n",
       "      <th>17</th>\n",
       "      <td>lymph nodes</td>\n",
       "      <td>358</td>\n",
       "      <td>368</td>\n",
       "      <td>Site_Lymph_Node</td>\n",
       "    </tr>\n",
       "    <tr>\n",
       "      <th>18</th>\n",
       "      <td>tumor</td>\n",
       "      <td>409</td>\n",
       "      <td>413</td>\n",
       "      <td>Tumor_Finding</td>\n",
       "    </tr>\n",
       "    <tr>\n",
       "      <th>19</th>\n",
       "      <td>stage IIIC</td>\n",
       "      <td>419</td>\n",
       "      <td>428</td>\n",
       "      <td>Staging</td>\n",
       "    </tr>\n",
       "    <tr>\n",
       "      <th>20</th>\n",
       "      <td>papillary serous ovarian adenocarcinoma</td>\n",
       "      <td>430</td>\n",
       "      <td>468</td>\n",
       "      <td>Oncological</td>\n",
       "    </tr>\n",
       "    <tr>\n",
       "      <th>21</th>\n",
       "      <td>Two months later</td>\n",
       "      <td>471</td>\n",
       "      <td>486</td>\n",
       "      <td>Relative_Date</td>\n",
       "    </tr>\n",
       "    <tr>\n",
       "      <th>22</th>\n",
       "      <td>lung metastases</td>\n",
       "      <td>520</td>\n",
       "      <td>534</td>\n",
       "      <td>Oncological</td>\n",
       "    </tr>\n",
       "  </tbody>\n",
       "</table>\n",
       "</div>"
      ],
      "text/plain": [
       "                                     chunks  begin  end              entities\n",
       "0                       computed tomography     24   42          Imaging_Test\n",
       "1                                        CT     45   46          Imaging_Test\n",
       "2                                   abdomen     61   67  Site_Other_Body_Part\n",
       "3                                    pelvis     73   78  Site_Other_Body_Part\n",
       "4                                   ovarian    104  110  Site_Other_Body_Part\n",
       "5                                      mass    112  115         Tumor_Finding\n",
       "6                                 Pap smear    120  128        Pathology_Test\n",
       "7                           one month later    140  154         Relative_Date\n",
       "8                  atypical glandular cells    173  196      Pathology_Result\n",
       "9                            adenocarcinoma    213  226             Cancer_Dx\n",
       "10                      pathologic specimen    233  251        Pathology_Test\n",
       "11                                extension    260  268              Invasion\n",
       "12                                    tumor    277  281         Tumor_Finding\n",
       "13                          fallopian tubes    298  312  Site_Other_Body_Part\n",
       "14                                 appendix    315  322  Site_Other_Body_Part\n",
       "15                                  omentum    325  331  Site_Other_Body_Part\n",
       "16                                 enlarged    349  356   Lymph_Node_Modifier\n",
       "17                              lymph nodes    358  368       Site_Lymph_Node\n",
       "18                                    tumor    409  413         Tumor_Finding\n",
       "19                               stage IIIC    419  428               Staging\n",
       "20  papillary serous ovarian adenocarcinoma    430  468           Oncological\n",
       "21                         Two months later    471  486         Relative_Date\n",
       "22                          lung metastases    520  534           Oncological"
      ]
     },
     "execution_count": 26,
     "metadata": {},
     "output_type": "execute_result"
    }
   ],
   "source": [
    "import pandas as pd\n",
    "\n",
    "chunks=[]\n",
    "entities=[]\n",
    "begins=[]\n",
    "ends=[]\n",
    "\n",
    "for n in result['merged_chunk']:\n",
    "\n",
    "    chunks.append(n.result)\n",
    "    begins.append(n.begin)\n",
    "    ends.append(n.end)\n",
    "    entities.append(n.metadata['entity'])\n",
    "\n",
    "df = pd.DataFrame({'chunks':chunks, 'begin':begins, 'end':ends, 'entities':entities})\n",
    "\n",
    "df"
   ]
  },
  {
   "cell_type": "code",
   "execution_count": 0,
   "metadata": {
    "application/vnd.databricks.v1+cell": {
     "cellMetadata": {
      "byteLimit": 2048000,
      "rowLimit": 10000
     },
     "inputWidgets": {},
     "nuid": "a993238f-8f3d-48c2-9c46-a300b82fcdbe",
     "showTitle": false,
     "tableResultSettingsMap": {},
     "title": ""
    },
    "colab": {
     "base_uri": "https://localhost:8080/",
     "height": 457
    },
    "executionInfo": {
     "elapsed": 7,
     "status": "ok",
     "timestamp": 1707940630091,
     "user": {
      "displayName": "Akar Öztürk",
      "userId": "07602883577262601067"
     },
     "user_tz": -60
    },
    "id": "2pKbjUxEv9z3",
    "outputId": "eafdca5c-1f66-481c-826c-caf8f8020366"
   },
   "outputs": [
    {
     "output_type": "execute_result",
     "data": {
      "text/html": [
       "<div>\n",
       "<style scoped>\n",
       "    .dataframe tbody tr th:only-of-type {\n",
       "        vertical-align: middle;\n",
       "    }\n",
       "\n",
       "    .dataframe tbody tr th {\n",
       "        vertical-align: top;\n",
       "    }\n",
       "\n",
       "    .dataframe thead th {\n",
       "        text-align: right;\n",
       "    }\n",
       "</style>\n",
       "<table border=\"1\" class=\"dataframe\">\n",
       "  <thead>\n",
       "    <tr style=\"text-align: right;\">\n",
       "      <th></th>\n",
       "      <th>chunks</th>\n",
       "      <th>entities</th>\n",
       "      <th>assertion</th>\n",
       "    </tr>\n",
       "  </thead>\n",
       "  <tbody>\n",
       "    <tr>\n",
       "      <th>0</th>\n",
       "      <td>computed tomography</td>\n",
       "      <td>Imaging_Test</td>\n",
       "      <td>Past</td>\n",
       "    </tr>\n",
       "    <tr>\n",
       "      <th>1</th>\n",
       "      <td>CT</td>\n",
       "      <td>Imaging_Test</td>\n",
       "      <td>Present</td>\n",
       "    </tr>\n",
       "    <tr>\n",
       "      <th>2</th>\n",
       "      <td>mass</td>\n",
       "      <td>Tumor_Finding</td>\n",
       "      <td>Present</td>\n",
       "    </tr>\n",
       "    <tr>\n",
       "      <th>3</th>\n",
       "      <td>Pap smear</td>\n",
       "      <td>Pathology_Test</td>\n",
       "      <td>Past</td>\n",
       "    </tr>\n",
       "    <tr>\n",
       "      <th>4</th>\n",
       "      <td>atypical glandular cells</td>\n",
       "      <td>Pathology_Result</td>\n",
       "      <td>Present</td>\n",
       "    </tr>\n",
       "    <tr>\n",
       "      <th>5</th>\n",
       "      <td>adenocarcinoma</td>\n",
       "      <td>Cancer_Dx</td>\n",
       "      <td>Possible</td>\n",
       "    </tr>\n",
       "    <tr>\n",
       "      <th>6</th>\n",
       "      <td>pathologic specimen</td>\n",
       "      <td>Pathology_Test</td>\n",
       "      <td>Past</td>\n",
       "    </tr>\n",
       "    <tr>\n",
       "      <th>7</th>\n",
       "      <td>extension</td>\n",
       "      <td>Invasion</td>\n",
       "      <td>Present</td>\n",
       "    </tr>\n",
       "    <tr>\n",
       "      <th>8</th>\n",
       "      <td>tumor</td>\n",
       "      <td>Tumor_Finding</td>\n",
       "      <td>Present</td>\n",
       "    </tr>\n",
       "    <tr>\n",
       "      <th>9</th>\n",
       "      <td>enlarged</td>\n",
       "      <td>Lymph_Node_Modifier</td>\n",
       "      <td>Present</td>\n",
       "    </tr>\n",
       "    <tr>\n",
       "      <th>10</th>\n",
       "      <td>tumor</td>\n",
       "      <td>Tumor_Finding</td>\n",
       "      <td>Present</td>\n",
       "    </tr>\n",
       "    <tr>\n",
       "      <th>11</th>\n",
       "      <td>papillary serous ovarian adenocarcinoma</td>\n",
       "      <td>Oncological</td>\n",
       "      <td>Present</td>\n",
       "    </tr>\n",
       "    <tr>\n",
       "      <th>12</th>\n",
       "      <td>lung metastases</td>\n",
       "      <td>Oncological</td>\n",
       "      <td>Present</td>\n",
       "    </tr>\n",
       "  </tbody>\n",
       "</table>\n",
       "</div>"
      ],
      "text/plain": [
       "                                     chunks             entities assertion\n",
       "0                       computed tomography         Imaging_Test      Past\n",
       "1                                        CT         Imaging_Test   Present\n",
       "2                                      mass        Tumor_Finding   Present\n",
       "3                                 Pap smear       Pathology_Test      Past\n",
       "4                  atypical glandular cells     Pathology_Result   Present\n",
       "5                            adenocarcinoma            Cancer_Dx  Possible\n",
       "6                       pathologic specimen       Pathology_Test      Past\n",
       "7                                 extension             Invasion   Present\n",
       "8                                     tumor        Tumor_Finding   Present\n",
       "9                                  enlarged  Lymph_Node_Modifier   Present\n",
       "10                                    tumor        Tumor_Finding   Present\n",
       "11  papillary serous ovarian adenocarcinoma          Oncological   Present\n",
       "12                          lung metastases          Oncological   Present"
      ]
     },
     "execution_count": 27,
     "metadata": {},
     "output_type": "execute_result"
    }
   ],
   "source": [
    "chunks=[]\n",
    "entities=[]\n",
    "status=[]\n",
    "\n",
    "for n,m in zip(result['merged_chunk_for_assertion'],result['assertion']):\n",
    "\n",
    "    chunks.append(n.result)\n",
    "    entities.append(n.metadata['entity'])\n",
    "    status.append(m.result)\n",
    "\n",
    "df = pd.DataFrame({'chunks':chunks, 'entities':entities, 'assertion':status})\n",
    "\n",
    "df"
   ]
  },
  {
   "cell_type": "code",
   "execution_count": 0,
   "metadata": {
    "application/vnd.databricks.v1+cell": {
     "cellMetadata": {
      "byteLimit": 2048000,
      "rowLimit": 10000
     },
     "inputWidgets": {},
     "nuid": "fd65d559-fbf2-482e-a100-acf45cb61844",
     "showTitle": false,
     "tableResultSettingsMap": {},
     "title": ""
    },
    "id": "2OUKeMndIoK3"
   },
   "outputs": [],
   "source": [
    "import pandas as pd\n",
    "\n",
    "def get_relations_df (results, col='relations'):\n",
    "  rel_pairs=[]\n",
    "  for rel in results[0][col]:\n",
    "      rel_pairs.append((\n",
    "          rel.result,\n",
    "          rel.metadata['entity1'],\n",
    "          rel.metadata['entity1_begin'],\n",
    "          rel.metadata['entity1_end'],\n",
    "          rel.metadata['chunk1'],\n",
    "          rel.metadata['entity2'],\n",
    "          rel.metadata['entity2_begin'],\n",
    "          rel.metadata['entity2_end'],\n",
    "          rel.metadata['chunk2'],\n",
    "          rel.metadata['confidence']\n",
    "      ))\n",
    "\n",
    "  rel_df = pd.DataFrame(rel_pairs, columns=['relation','entity1','entity1_begin','entity1_end','chunk1','entity2','entity2_begin','entity2_end','chunk2', 'confidence'])\n",
    "\n",
    "  rel_df.confidence = rel_df.confidence.astype(float)\n",
    "\n",
    "  return rel_df"
   ]
  },
  {
   "cell_type": "code",
   "execution_count": 0,
   "metadata": {
    "application/vnd.databricks.v1+cell": {
     "cellMetadata": {
      "byteLimit": 2048000,
      "rowLimit": 10000
     },
     "inputWidgets": {},
     "nuid": "9314a059-2e59-43e2-afb2-43b802437a3d",
     "showTitle": false,
     "tableResultSettingsMap": {},
     "title": ""
    },
    "colab": {
     "base_uri": "https://localhost:8080/",
     "height": 212
    },
    "executionInfo": {
     "elapsed": 2209,
     "status": "ok",
     "timestamp": 1707940632294,
     "user": {
      "displayName": "Akar Öztürk",
      "userId": "07602883577262601067"
     },
     "user_tz": -60
    },
    "id": "VuNbl1nKIpao",
    "outputId": "0570fe82-0c34-47c2-9cb2-a066d4dcac26"
   },
   "outputs": [
    {
     "output_type": "execute_result",
     "data": {
      "text/html": [
       "<div>\n",
       "<style scoped>\n",
       "    .dataframe tbody tr th:only-of-type {\n",
       "        vertical-align: middle;\n",
       "    }\n",
       "\n",
       "    .dataframe tbody tr th {\n",
       "        vertical-align: top;\n",
       "    }\n",
       "\n",
       "    .dataframe thead th {\n",
       "        text-align: right;\n",
       "    }\n",
       "</style>\n",
       "<table border=\"1\" class=\"dataframe\">\n",
       "  <thead>\n",
       "    <tr style=\"text-align: right;\">\n",
       "      <th></th>\n",
       "      <th>relation</th>\n",
       "      <th>entity1</th>\n",
       "      <th>entity1_begin</th>\n",
       "      <th>entity1_end</th>\n",
       "      <th>chunk1</th>\n",
       "      <th>entity2</th>\n",
       "      <th>entity2_begin</th>\n",
       "      <th>entity2_end</th>\n",
       "      <th>chunk2</th>\n",
       "      <th>confidence</th>\n",
       "    </tr>\n",
       "  </thead>\n",
       "  <tbody>\n",
       "    <tr>\n",
       "      <th>2</th>\n",
       "      <td>is_location_of</td>\n",
       "      <td>Site_Other_Body_Part</td>\n",
       "      <td>104</td>\n",
       "      <td>110</td>\n",
       "      <td>ovarian</td>\n",
       "      <td>Tumor_Finding</td>\n",
       "      <td>112</td>\n",
       "      <td>115</td>\n",
       "      <td>mass</td>\n",
       "      <td>0.922661</td>\n",
       "    </tr>\n",
       "    <tr>\n",
       "      <th>3</th>\n",
       "      <td>is_finding_of</td>\n",
       "      <td>Pathology_Test</td>\n",
       "      <td>120</td>\n",
       "      <td>128</td>\n",
       "      <td>Pap smear</td>\n",
       "      <td>Cancer_Dx</td>\n",
       "      <td>213</td>\n",
       "      <td>226</td>\n",
       "      <td>adenocarcinoma</td>\n",
       "      <td>0.525421</td>\n",
       "    </tr>\n",
       "    <tr>\n",
       "      <th>4</th>\n",
       "      <td>is_location_of</td>\n",
       "      <td>Tumor_Finding</td>\n",
       "      <td>277</td>\n",
       "      <td>281</td>\n",
       "      <td>tumor</td>\n",
       "      <td>Site_Other_Body_Part</td>\n",
       "      <td>298</td>\n",
       "      <td>312</td>\n",
       "      <td>fallopian tubes</td>\n",
       "      <td>0.902630</td>\n",
       "    </tr>\n",
       "    <tr>\n",
       "      <th>5</th>\n",
       "      <td>is_location_of</td>\n",
       "      <td>Tumor_Finding</td>\n",
       "      <td>277</td>\n",
       "      <td>281</td>\n",
       "      <td>tumor</td>\n",
       "      <td>Site_Other_Body_Part</td>\n",
       "      <td>315</td>\n",
       "      <td>322</td>\n",
       "      <td>appendix</td>\n",
       "      <td>0.664927</td>\n",
       "    </tr>\n",
       "  </tbody>\n",
       "</table>\n",
       "</div>"
      ],
      "text/plain": [
       "         relation               entity1 entity1_begin entity1_end     chunk1               entity2 entity2_begin entity2_end           chunk2  confidence\n",
       "2  is_location_of  Site_Other_Body_Part           104         110    ovarian         Tumor_Finding           112         115             mass    0.922661\n",
       "3   is_finding_of        Pathology_Test           120         128  Pap smear             Cancer_Dx           213         226   adenocarcinoma    0.525421\n",
       "4  is_location_of         Tumor_Finding           277         281      tumor  Site_Other_Body_Part           298         312  fallopian tubes    0.902630\n",
       "5  is_location_of         Tumor_Finding           277         281      tumor  Site_Other_Body_Part           315         322         appendix    0.664927"
      ]
     },
     "execution_count": 29,
     "metadata": {},
     "output_type": "execute_result"
    }
   ],
   "source": [
    "annotations = ner_pipeline.fullAnnotate(text)\n",
    "\n",
    "rel_df = get_relations_df (annotations, 'all_relations')\n",
    "\n",
    "rel_df[rel_df.relation!=\"O\"]"
   ]
  },
  {
   "cell_type": "code",
   "execution_count": 0,
   "metadata": {
    "application/vnd.databricks.v1+cell": {
     "cellMetadata": {
      "byteLimit": 2048000,
      "rowLimit": 10000
     },
     "inputWidgets": {},
     "nuid": "63a17b65-320c-447f-91ef-9558e0c8c93d",
     "showTitle": false,
     "tableResultSettingsMap": {},
     "title": ""
    },
    "colab": {
     "base_uri": "https://localhost:8080/"
    },
    "executionInfo": {
     "elapsed": 9,
     "status": "ok",
     "timestamp": 1707940632295,
     "user": {
      "displayName": "Akar Öztürk",
      "userId": "07602883577262601067"
     },
     "user_tz": -60
    },
    "id": "BloDyf6ZIxY0",
    "outputId": "166b6c46-043d-4233-ed5c-85b1d5d2921a"
   },
   "outputs": [
    {
     "output_type": "execute_result",
     "data": {
      "text/plain": [
       "[Annotation(category, 61, 115, O, {'chunk2': 'mass', 'confidence': '0.9439166', 'entity2_end': '115', 'chunk1': 'abdomen', 'entity1': 'Site_Other_Body_Part', 'entity2_begin': '112', 'chunk2_confidence': '0.9557', 'entity1_begin': '61', 'sentence': '0', 'direction': 'both', 'entity1_end': '67', 'entity2': 'Tumor_Finding', 'chunk1_confidence': '0.9446'}, []),\n",
       " Annotation(category, 73, 115, O, {'chunk2': 'mass', 'confidence': '0.9611397', 'entity2_end': '115', 'chunk1': 'pelvis', 'entity1': 'Site_Other_Body_Part', 'entity2_begin': '112', 'chunk2_confidence': '0.9557', 'entity1_begin': '73', 'sentence': '0', 'direction': 'both', 'entity1_end': '78', 'entity2': 'Tumor_Finding', 'chunk1_confidence': '0.6514'}, []),\n",
       " Annotation(category, 104, 115, is_location_of, {'chunk2': 'mass', 'confidence': '0.922661', 'entity2_end': '115', 'chunk1': 'ovarian', 'entity1': 'Site_Other_Body_Part', 'entity2_begin': '112', 'chunk2_confidence': '0.9557', 'entity1_begin': '104', 'sentence': '0', 'direction': 'both', 'entity1_end': '110', 'entity2': 'Tumor_Finding', 'chunk1_confidence': '0.7915'}, []),\n",
       " Annotation(category, 120, 226, is_finding_of, {'chunk2': 'adenocarcinoma', 'confidence': '0.52542114', 'entity2_end': '226', 'chunk1': 'Pap smear', 'entity1': 'Pathology_Test', 'entity2_begin': '213', 'chunk2_confidence': '0.9992', 'entity1_begin': '120', 'sentence': '1', 'direction': 'both', 'entity1_end': '128', 'entity2': 'Cancer_Dx', 'chunk1_confidence': '0.96725'}, []),\n",
       " Annotation(category, 277, 312, is_location_of, {'chunk2': 'fallopian tubes', 'confidence': '0.9026299', 'entity2_end': '312', 'chunk1': 'tumor', 'entity1': 'Tumor_Finding', 'entity2_begin': '298', 'chunk2_confidence': '0.9492', 'entity1_begin': '277', 'sentence': '2', 'direction': 'both', 'entity1_end': '281', 'entity2': 'Site_Other_Body_Part', 'chunk1_confidence': '0.9077'}, []),\n",
       " Annotation(category, 277, 322, is_location_of, {'chunk2': 'appendix', 'confidence': '0.6649267', 'entity2_end': '322', 'chunk1': 'tumor', 'entity1': 'Tumor_Finding', 'entity2_begin': '315', 'chunk2_confidence': '0.9971', 'entity1_begin': '277', 'sentence': '2', 'direction': 'both', 'entity1_end': '281', 'entity2': 'Site_Other_Body_Part', 'chunk1_confidence': '0.9077'}, []),\n",
       " Annotation(category, 277, 331, O, {'chunk2': 'omentum', 'confidence': '0.80328876', 'entity2_end': '331', 'chunk1': 'tumor', 'entity1': 'Tumor_Finding', 'entity2_begin': '325', 'chunk2_confidence': '0.9937', 'entity1_begin': '277', 'sentence': '2', 'direction': 'both', 'entity1_end': '281', 'entity2': 'Site_Other_Body_Part', 'chunk1_confidence': '0.9077'}, [])]"
      ]
     },
     "execution_count": 30,
     "metadata": {},
     "output_type": "execute_result"
    }
   ],
   "source": [
    "annotations[0]['all_relations']"
   ]
  },
  {
   "cell_type": "markdown",
   "metadata": {
    "application/vnd.databricks.v1+cell": {
     "cellMetadata": {
      "byteLimit": 2048000,
      "rowLimit": 10000
     },
     "inputWidgets": {},
     "nuid": "f6e3e9ea-125c-4268-ae92-658f0b868bf0",
     "showTitle": false,
     "tableResultSettingsMap": {},
     "title": ""
    },
    "id": "TFBWJmXlMue8"
   },
   "source": [
    "### explain_clinical_doc_ade\n",
    "\n",
    "A pipeline for `Adverse Drug Events (ADE)` with `ner_ade_healthcare`, and `classifierdl_ade_biobert`. It will extract `ADE` and `DRUG` clinical entities, and then assign ADE status to a text(`True` means ADE, `False` means not related to ADE). Also extracts relations between `DRUG` and `ADE` entities (`1` means the adverse event and drug entities are related, `0` is not related)."
   ]
  },
  {
   "cell_type": "code",
   "execution_count": 0,
   "metadata": {
    "application/vnd.databricks.v1+cell": {
     "cellMetadata": {
      "byteLimit": 2048000,
      "rowLimit": 10000
     },
     "inputWidgets": {},
     "nuid": "d519d312-193d-4eb0-a01c-77ed878c3ac3",
     "showTitle": false,
     "tableResultSettingsMap": {},
     "title": ""
    },
    "colab": {
     "base_uri": "https://localhost:8080/"
    },
    "executionInfo": {
     "elapsed": 72454,
     "status": "ok",
     "timestamp": 1707940704744,
     "user": {
      "displayName": "Akar Öztürk",
      "userId": "07602883577262601067"
     },
     "user_tz": -60
    },
    "id": "oYaFInzXM0Gw",
    "outputId": "a2274532-1fb5-400b-e7e6-390b21e0fab1"
   },
   "outputs": [
    {
     "output_type": "stream",
     "name": "stdout",
     "output_type": "stream",
     "text": [
      "explain_clinical_doc_ade download started this may take some time.\nApprox size to download 2 GB\n\r[ | ]\r[ / ]\r[ — ]\r[ \\ ]\r[ | ]\r[ / ]\r[ — ]\r[ \\ ]\r[ | ]\r[ / ]\r[ — ]\r[ \\ ]\r[ | ]\r[ / ]\r[ — ]\r[ \\ ]\r[ | ]\r[ / ]\r[ — ]\r[ \\ ]\r[ | ]\r[ / ]\r[ — ]\r[ \\ ]\r[ | ]\r[ / ]\r[ — ]\r[ \\ ]\r[ | ]\r[ / ]\r[OK!]\n"
     ]
    }
   ],
   "source": [
    "ade_pipeline = nlp.PretrainedPipeline('explain_clinical_doc_ade', 'en', 'clinical/models')"
   ]
  },
  {
   "cell_type": "code",
   "execution_count": 0,
   "metadata": {
    "application/vnd.databricks.v1+cell": {
     "cellMetadata": {
      "byteLimit": 2048000,
      "rowLimit": 10000
     },
     "inputWidgets": {},
     "nuid": "f289b32d-1cbd-4d60-883d-0cd1f8df6c8a",
     "showTitle": false,
     "tableResultSettingsMap": {},
     "title": ""
    },
    "colab": {
     "base_uri": "https://localhost:8080/"
    },
    "executionInfo": {
     "elapsed": 1276,
     "status": "ok",
     "timestamp": 1707940706009,
     "user": {
      "displayName": "Akar Öztürk",
      "userId": "07602883577262601067"
     },
     "user_tz": -60
    },
    "id": "D4MaO6YIsbS5",
    "outputId": "8bc9ae30-7ed8-4968-d9be-f862ee86fad1"
   },
   "outputs": [
    {
     "output_type": "execute_result",
     "data": {
      "text/plain": [
       "dict_keys(['document', 'assertion', 'drug_ner_chunk', 'ner_posology_chunk', 'token', 'ner_chunks_ade', 'relations', 'ade_clinica_ner', 'ade_mappings', 'class', 'embeddings', 'pos_tags', 'dependencies', 'ner_posology', 'sentence', 'ner_ade_clinical_chunk', 'matcher_chunk'])"
      ]
     },
     "execution_count": 32,
     "metadata": {},
     "output_type": "execute_result"
    }
   ],
   "source": [
    "result = ade_pipeline.fullAnnotate(\"The main adverse effects of Leflunomide consist of diarrhea, nausea, liver enzyme elevation, hypertension, alopecia, and allergic skin reactions.\")\n",
    "\n",
    "result[0].keys()"
   ]
  },
  {
   "cell_type": "code",
   "execution_count": 0,
   "metadata": {
    "application/vnd.databricks.v1+cell": {
     "cellMetadata": {
      "byteLimit": 2048000,
      "rowLimit": 10000
     },
     "inputWidgets": {},
     "nuid": "d15469d5-f733-4c37-9121-c7b77befe2cd",
     "showTitle": false,
     "tableResultSettingsMap": {},
     "title": ""
    },
    "colab": {
     "base_uri": "https://localhost:8080/"
    },
    "executionInfo": {
     "elapsed": 4,
     "status": "ok",
     "timestamp": 1707940706010,
     "user": {
      "displayName": "Akar Öztürk",
      "userId": "07602883577262601067"
     },
     "user_tz": -60
    },
    "id": "ACvoR5uZfV1x",
    "outputId": "79592e83-e12d-4545-e012-5b0d8d8f5724"
   },
   "outputs": [
    {
     "output_type": "execute_result",
     "data": {
      "text/plain": [
       "{'sentence': '0', 'Some(ADE)': '0.9999942', 'Some(noADE)': '5.7812E-6'}"
      ]
     },
     "execution_count": 33,
     "metadata": {},
     "output_type": "execute_result"
    }
   ],
   "source": [
    "result[0]['class'][0].metadata"
   ]
  },
  {
   "cell_type": "markdown",
   "metadata": {
    "application/vnd.databricks.v1+cell": {
     "cellMetadata": {
      "byteLimit": 2048000,
      "rowLimit": 10000
     },
     "inputWidgets": {},
     "nuid": "f87d67b8-0423-4df0-894b-ecf93c31736d",
     "showTitle": false,
     "tableResultSettingsMap": {},
     "title": ""
    },
    "id": "o4BI8cgvfZpD"
   },
   "source": [
    "**NER Results**"
   ]
  },
  {
   "cell_type": "code",
   "execution_count": 0,
   "metadata": {
    "application/vnd.databricks.v1+cell": {
     "cellMetadata": {
      "byteLimit": 2048000,
      "rowLimit": 10000
     },
     "inputWidgets": {},
     "nuid": "c868db95-bfbd-4042-a4f0-4eb1a9e35040",
     "showTitle": false,
     "tableResultSettingsMap": {},
     "title": ""
    },
    "colab": {
     "base_uri": "https://localhost:8080/",
     "height": 261
    },
    "executionInfo": {
     "elapsed": 1061,
     "status": "ok",
     "timestamp": 1707940707069,
     "user": {
      "displayName": "Akar Öztürk",
      "userId": "07602883577262601067"
     },
     "user_tz": -60
    },
    "id": "uiZWyLFuum9g",
    "outputId": "ed497e24-a645-4e7d-8e38-03deb96bbec1"
   },
   "outputs": [
    {
     "output_type": "stream",
     "name": "stdout",
     "output_type": "stream",
     "text": [
      "sentence: Been taking Lipitor for 15 years , have experienced severe fatigue a lot!!! .\nDoctor moved me to voltaren 2 months ago , so far , have only experienced cramps\n\nADE status: ADE\nprediction probability>> True :  None False:  None\n"
     ]
    },
    {
     "output_type": "execute_result",
     "data": {
      "text/html": [
       "<div>\n",
       "<style scoped>\n",
       "    .dataframe tbody tr th:only-of-type {\n",
       "        vertical-align: middle;\n",
       "    }\n",
       "\n",
       "    .dataframe tbody tr th {\n",
       "        vertical-align: top;\n",
       "    }\n",
       "\n",
       "    .dataframe thead th {\n",
       "        text-align: right;\n",
       "    }\n",
       "</style>\n",
       "<table border=\"1\" class=\"dataframe\">\n",
       "  <thead>\n",
       "    <tr style=\"text-align: right;\">\n",
       "      <th></th>\n",
       "      <th>chunks</th>\n",
       "      <th>entities</th>\n",
       "      <th>begin</th>\n",
       "      <th>end</th>\n",
       "    </tr>\n",
       "  </thead>\n",
       "  <tbody>\n",
       "    <tr>\n",
       "      <th>0</th>\n",
       "      <td>Lipitor</td>\n",
       "      <td>DRUG</td>\n",
       "      <td>12</td>\n",
       "      <td>18</td>\n",
       "    </tr>\n",
       "    <tr>\n",
       "      <th>1</th>\n",
       "      <td>severe fatigue</td>\n",
       "      <td>ADE</td>\n",
       "      <td>52</td>\n",
       "      <td>65</td>\n",
       "    </tr>\n",
       "    <tr>\n",
       "      <th>2</th>\n",
       "      <td>voltaren</td>\n",
       "      <td>DRUG</td>\n",
       "      <td>97</td>\n",
       "      <td>104</td>\n",
       "    </tr>\n",
       "    <tr>\n",
       "      <th>3</th>\n",
       "      <td>cramps</td>\n",
       "      <td>ADE</td>\n",
       "      <td>152</td>\n",
       "      <td>157</td>\n",
       "    </tr>\n",
       "  </tbody>\n",
       "</table>\n",
       "</div>"
      ],
      "text/plain": [
       "           chunks entities  begin  end\n",
       "0         Lipitor     DRUG     12   18\n",
       "1  severe fatigue      ADE     52   65\n",
       "2        voltaren     DRUG     97  104\n",
       "3          cramps      ADE    152  157"
      ]
     },
     "execution_count": 34,
     "metadata": {},
     "output_type": "execute_result"
    }
   ],
   "source": [
    "text = \"\"\"Been taking Lipitor for 15 years , have experienced severe fatigue a lot!!! .\n",
    "Doctor moved me to voltaren 2 months ago , so far , have only experienced cramps\"\"\"\n",
    "\n",
    "import pandas as pd\n",
    "\n",
    "chunks = []\n",
    "entities = []\n",
    "begin =[]\n",
    "end = []\n",
    "\n",
    "print ('sentence:', text)\n",
    "print()\n",
    "\n",
    "result = ade_pipeline.fullAnnotate(text)\n",
    "\n",
    "print ('ADE status:', result[0]['class'][0].result)\n",
    "\n",
    "print ('prediction probability>> True : ', result[0]['class'][0].metadata['True'], \\\n",
    "        'False: ', result[0]['class'][0].metadata['False'])\n",
    "\n",
    "for n in result[0]['ner_chunks_ade']:\n",
    "\n",
    "    begin.append(n.begin)\n",
    "    end.append(n.end)\n",
    "    chunks.append(n.result)\n",
    "    entities.append(n.metadata['entity'])\n",
    "\n",
    "df = pd.DataFrame({'chunks':chunks, 'entities':entities,\n",
    "                'begin': begin, 'end': end})\n",
    "\n",
    "df\n"
   ]
  },
  {
   "cell_type": "markdown",
   "metadata": {
    "application/vnd.databricks.v1+cell": {
     "cellMetadata": {
      "byteLimit": 2048000,
      "rowLimit": 10000
     },
     "inputWidgets": {},
     "nuid": "3fc326a9-ec8a-4d9a-a3dd-b3f17280b9d4",
     "showTitle": false,
     "tableResultSettingsMap": {},
     "title": ""
    },
    "id": "u3ZaUbUkiF77"
   },
   "source": [
    "**Assertion Status Results**"
   ]
  },
  {
   "cell_type": "code",
   "execution_count": 0,
   "metadata": {
    "application/vnd.databricks.v1+cell": {
     "cellMetadata": {
      "byteLimit": 2048000,
      "rowLimit": 10000
     },
     "inputWidgets": {},
     "nuid": "207ab9de-a944-463f-b9b8-7ad51665a2e7",
     "showTitle": false,
     "tableResultSettingsMap": {},
     "title": ""
    },
    "colab": {
     "base_uri": "https://localhost:8080/",
     "height": 147
    },
    "executionInfo": {
     "elapsed": 589,
     "status": "ok",
     "timestamp": 1707940707653,
     "user": {
      "displayName": "Akar Öztürk",
      "userId": "07602883577262601067"
     },
     "user_tz": -60
    },
    "id": "P9UcxSIBg9C-",
    "outputId": "9568cb4f-4a1c-476e-8d5e-a78c30569f20"
   },
   "outputs": [
    {
     "output_type": "stream",
     "name": "stdout",
     "output_type": "stream",
     "text": [
      "The side effects of 5-FU in a colon cancer patient who suffered severe mucositis,\ndesquamating dermatitis and prolonged myelosuppression. Last week the patient experienced anterior\nlumbosacral radiculopathy and blurred vision after intrathecal methotrexate treatment.\n"
     ]
    },
    {
     "output_type": "execute_result",
     "data": {
      "text/html": [
       "<div>\n",
       "<style scoped>\n",
       "    .dataframe tbody tr th:only-of-type {\n",
       "        vertical-align: middle;\n",
       "    }\n",
       "\n",
       "    .dataframe tbody tr th {\n",
       "        vertical-align: top;\n",
       "    }\n",
       "\n",
       "    .dataframe thead th {\n",
       "        text-align: right;\n",
       "    }\n",
       "</style>\n",
       "<table border=\"1\" class=\"dataframe\">\n",
       "  <thead>\n",
       "    <tr style=\"text-align: right;\">\n",
       "      <th></th>\n",
       "      <th>chunks</th>\n",
       "      <th>entities</th>\n",
       "      <th>assertion</th>\n",
       "    </tr>\n",
       "  </thead>\n",
       "  <tbody>\n",
       "    <tr>\n",
       "      <th>0</th>\n",
       "      <td>5-FU</td>\n",
       "      <td>DRUG</td>\n",
       "      <td>Past</td>\n",
       "    </tr>\n",
       "    <tr>\n",
       "      <th>1</th>\n",
       "      <td>severe mucositis</td>\n",
       "      <td>ADE</td>\n",
       "      <td>Past</td>\n",
       "    </tr>\n",
       "    <tr>\n",
       "      <th>2</th>\n",
       "      <td>desquamating dermatitis</td>\n",
       "      <td>ADE</td>\n",
       "      <td>Past</td>\n",
       "    </tr>\n",
       "    <tr>\n",
       "      <th>3</th>\n",
       "      <td>myelosuppression</td>\n",
       "      <td>ADE</td>\n",
       "      <td>Past</td>\n",
       "    </tr>\n",
       "    <tr>\n",
       "      <th>4</th>\n",
       "      <td>anterior\\nlumbosacral radiculopathy</td>\n",
       "      <td>ADE</td>\n",
       "      <td>Past</td>\n",
       "    </tr>\n",
       "    <tr>\n",
       "      <th>5</th>\n",
       "      <td>blurred vision</td>\n",
       "      <td>ADE</td>\n",
       "      <td>Past</td>\n",
       "    </tr>\n",
       "    <tr>\n",
       "      <th>6</th>\n",
       "      <td>methotrexate</td>\n",
       "      <td>DRUG</td>\n",
       "      <td>Past</td>\n",
       "    </tr>\n",
       "  </tbody>\n",
       "</table>\n",
       "</div>"
      ],
      "text/plain": [
       "                                chunks entities assertion\n",
       "0                                 5-FU     DRUG      Past\n",
       "1                     severe mucositis      ADE      Past\n",
       "2              desquamating dermatitis      ADE      Past\n",
       "3                     myelosuppression      ADE      Past\n",
       "4  anterior\\nlumbosacral radiculopathy      ADE      Past\n",
       "5                       blurred vision      ADE      Past\n",
       "6                         methotrexate     DRUG      Past"
      ]
     },
     "execution_count": 35,
     "metadata": {},
     "output_type": "execute_result"
    }
   ],
   "source": [
    "import pandas as pd\n",
    "\n",
    "text = \"\"\"The side effects of 5-FU in a colon cancer patient who suffered severe mucositis,\n",
    "desquamating dermatitis and prolonged myelosuppression. Last week the patient experienced anterior\n",
    "lumbosacral radiculopathy and blurred vision after intrathecal methotrexate treatment.\"\"\"\n",
    "\n",
    "print (text)\n",
    "\n",
    "light_result = ade_pipeline.fullAnnotate(text)[0]\n",
    "\n",
    "chunks=[]\n",
    "entities=[]\n",
    "status=[]\n",
    "\n",
    "for n,m in zip(light_result['ner_chunks_ade'],light_result['assertion']):\n",
    "\n",
    "    chunks.append(n.result)\n",
    "    entities.append(n.metadata['entity'])\n",
    "    status.append(m.result)\n",
    "\n",
    "df = pd.DataFrame({'chunks':chunks, 'entities':entities, 'assertion':status})\n",
    "\n",
    "df"
   ]
  },
  {
   "cell_type": "markdown",
   "metadata": {
    "application/vnd.databricks.v1+cell": {
     "cellMetadata": {
      "byteLimit": 2048000,
      "rowLimit": 10000
     },
     "inputWidgets": {},
     "nuid": "5d6e9ca4-ff55-4969-b2c6-0ec57c5d4bb9",
     "showTitle": false,
     "tableResultSettingsMap": {},
     "title": ""
    },
    "id": "GhzptcbPvtbw"
   },
   "source": [
    "**Relation Extraction Results**"
   ]
  },
  {
   "cell_type": "code",
   "execution_count": 0,
   "metadata": {
    "application/vnd.databricks.v1+cell": {
     "cellMetadata": {
      "byteLimit": 2048000,
      "rowLimit": 10000
     },
     "inputWidgets": {},
     "nuid": "44d33b0c-7a72-4953-9d76-e8e9712fe7d9",
     "showTitle": false,
     "tableResultSettingsMap": {},
     "title": ""
    },
    "colab": {
     "base_uri": "https://localhost:8080/",
     "height": 261
    },
    "executionInfo": {
     "elapsed": 7,
     "status": "ok",
     "timestamp": 1707940707654,
     "user": {
      "displayName": "Akar Öztürk",
      "userId": "07602883577262601067"
     },
     "user_tz": -60
    },
    "id": "FFb1mhTmwEJB",
    "outputId": "762f1f30-3ffd-49cb-b777-8203e4d51ac5"
   },
   "outputs": [
    {
     "output_type": "stream",
     "name": "stdout",
     "output_type": "stream",
     "text": [
      "Been taking Lipitor for 3 months, have experienced severe fatigue a lot!!! ,\nI have only experienced cramps so far, after Doctor moved me to voltaren 2 months ago.\n\n"
     ]
    },
    {
     "output_type": "execute_result",
     "data": {
      "text/html": [
       "<div>\n",
       "<style scoped>\n",
       "    .dataframe tbody tr th:only-of-type {\n",
       "        vertical-align: middle;\n",
       "    }\n",
       "\n",
       "    .dataframe tbody tr th {\n",
       "        vertical-align: top;\n",
       "    }\n",
       "\n",
       "    .dataframe thead th {\n",
       "        text-align: right;\n",
       "    }\n",
       "</style>\n",
       "<table border=\"1\" class=\"dataframe\">\n",
       "  <thead>\n",
       "    <tr style=\"text-align: right;\">\n",
       "      <th></th>\n",
       "      <th>relation</th>\n",
       "      <th>entity1</th>\n",
       "      <th>entity1_begin</th>\n",
       "      <th>entity1_end</th>\n",
       "      <th>chunk1</th>\n",
       "      <th>entity2</th>\n",
       "      <th>entity2_begin</th>\n",
       "      <th>entity2_end</th>\n",
       "      <th>chunk2</th>\n",
       "      <th>confidence</th>\n",
       "    </tr>\n",
       "  </thead>\n",
       "  <tbody>\n",
       "    <tr>\n",
       "      <th>0</th>\n",
       "      <td>1</td>\n",
       "      <td>DRUG</td>\n",
       "      <td>12</td>\n",
       "      <td>18</td>\n",
       "      <td>Lipitor</td>\n",
       "      <td>ADE</td>\n",
       "      <td>51</td>\n",
       "      <td>64</td>\n",
       "      <td>severe fatigue</td>\n",
       "      <td>1.0</td>\n",
       "    </tr>\n",
       "    <tr>\n",
       "      <th>1</th>\n",
       "      <td>0</td>\n",
       "      <td>ADE</td>\n",
       "      <td>101</td>\n",
       "      <td>106</td>\n",
       "      <td>cramps</td>\n",
       "      <td>DRUG</td>\n",
       "      <td>141</td>\n",
       "      <td>148</td>\n",
       "      <td>voltaren</td>\n",
       "      <td>0.81595194</td>\n",
       "    </tr>\n",
       "  </tbody>\n",
       "</table>\n",
       "</div>"
      ],
      "text/plain": [
       "  relation entity1 entity1_begin entity1_end   chunk1 entity2 entity2_begin entity2_end          chunk2  confidence\n",
       "0        1    DRUG            12          18  Lipitor     ADE            51          64  severe fatigue         1.0\n",
       "1        0     ADE           101         106   cramps    DRUG           141         148        voltaren  0.81595194"
      ]
     },
     "execution_count": 36,
     "metadata": {},
     "output_type": "execute_result"
    }
   ],
   "source": [
    "import pandas as pd\n",
    "\n",
    "text = \"\"\"Been taking Lipitor for 3 months, have experienced severe fatigue a lot!!! ,\n",
    "I have only experienced cramps so far, after Doctor moved me to voltaren 2 months ago.\n",
    "\"\"\"\n",
    "\n",
    "print (text)\n",
    "\n",
    "results = ade_pipeline.fullAnnotate(text)\n",
    "\n",
    "rel_pairs=[]\n",
    "\n",
    "for rel in results[0][\"relations\"]:\n",
    "    rel_pairs.append((\n",
    "        rel.result,\n",
    "        rel.metadata['entity1'],\n",
    "        rel.metadata['entity1_begin'],\n",
    "        rel.metadata['entity1_end'],\n",
    "        rel.metadata['chunk1'],\n",
    "        rel.metadata['entity2'],\n",
    "        rel.metadata['entity2_begin'],\n",
    "        rel.metadata['entity2_end'],\n",
    "        rel.metadata['chunk2'],\n",
    "        rel.metadata['confidence']\n",
    "    ))\n",
    "\n",
    "rel_df = pd.DataFrame(rel_pairs, columns=['relation','entity1','entity1_begin','entity1_end','chunk1','entity2','entity2_begin','entity2_end','chunk2', 'confidence'])\n",
    "rel_df"
   ]
  },
  {
   "cell_type": "markdown",
   "metadata": {
    "application/vnd.databricks.v1+cell": {
     "cellMetadata": {
      "byteLimit": 2048000,
      "rowLimit": 10000
     },
     "inputWidgets": {},
     "nuid": "f943f03a-2cce-4237-93ac-781a0e402a6a",
     "showTitle": false,
     "tableResultSettingsMap": {},
     "title": ""
    },
    "id": "dbws3XaBhGnJ"
   },
   "source": [
    "### exlain_clinical_doc_medication\n",
    "\n",
    "> A pipeline for detecting posology entities with the `ner_posology_large` NER model, assigning their assertion status with `assertion_jsl` model, and extracting relations between posology-related terminology with `posology_re` relation extraction model."
   ]
  },
  {
   "cell_type": "code",
   "execution_count": 0,
   "metadata": {
    "application/vnd.databricks.v1+cell": {
     "cellMetadata": {
      "byteLimit": 2048000,
      "rowLimit": 10000
     },
     "inputWidgets": {},
     "nuid": "a8603a15-01b2-48aa-94ae-29647bf14ce8",
     "showTitle": false,
     "tableResultSettingsMap": {},
     "title": ""
    },
    "colab": {
     "base_uri": "https://localhost:8080/"
    },
    "executionInfo": {
     "elapsed": 167836,
     "status": "ok",
     "timestamp": 1707940875485,
     "user": {
      "displayName": "Akar Öztürk",
      "userId": "07602883577262601067"
     },
     "user_tz": -60
    },
    "id": "8TS6khzVh3RK",
    "outputId": "69a9d17c-bcd5-4fd9-de4b-2eb4f084d183"
   },
   "outputs": [
    {
     "output_type": "stream",
     "name": "stdout",
     "output_type": "stream",
     "text": [
      "explain_clinical_doc_medication download started this may take some time.\nApprox size to download 1.6 GB\n\r[ | ]\r[ / ]\r[ — ]\r[ \\ ]\r[ | ]\r[ / ]\r[ — ]\r[ \\ ]\r[ | ]\r[ / ]\r[ — ]\r[ \\ ]\r[ | ]\r[ / ]\r[ — ]\r[ \\ ]\r[ | ]\r[OK!]\n"
     ]
    }
   ],
   "source": [
    "medication_pipeline = nlp.PretrainedPipeline('explain_clinical_doc_medication', 'en', 'clinical/models')"
   ]
  },
  {
   "cell_type": "code",
   "execution_count": 0,
   "metadata": {
    "application/vnd.databricks.v1+cell": {
     "cellMetadata": {
      "byteLimit": 2048000,
      "rowLimit": 10000
     },
     "inputWidgets": {},
     "nuid": "59552d46-4179-4f64-820d-78e3a28ade71",
     "showTitle": false,
     "tableResultSettingsMap": {},
     "title": ""
    },
    "colab": {
     "base_uri": "https://localhost:8080/"
    },
    "executionInfo": {
     "elapsed": 12,
     "status": "ok",
     "timestamp": 1707940875485,
     "user": {
      "displayName": "Akar Öztürk",
      "userId": "07602883577262601067"
     },
     "user_tz": -60
    },
    "id": "YRH9Jz-nh6X1",
    "outputId": "44c8c286-4249-4f06-f470-a29ef35e67d4"
   },
   "outputs": [
    {
     "output_type": "execute_result",
     "data": {
      "text/plain": [
       "[DocumentAssembler_54400872e595,\n",
       " SentenceDetectorDLModel_6bafc4746ea5,\n",
       " REGEX_TOKENIZER_ca584bb84cf2,\n",
       " WORD_EMBEDDINGS_MODEL_9004b1d00302,\n",
       " MedicalNerModel_5e6f59103f25,\n",
       " NerConverter_a3da9eede8e3,\n",
       " NER_CONVERTER_9c72525c1035,\n",
       " ASSERTION_DL_8d77f383c928,\n",
       " POS_6f55785005bf,\n",
       " dependency_e7755462ba78,\n",
       " PosologyREModel_d3003d90160f]"
      ]
     },
     "execution_count": 38,
     "metadata": {},
     "output_type": "execute_result"
    }
   ],
   "source": [
    "medication_pipeline.model.stages"
   ]
  },
  {
   "cell_type": "code",
   "execution_count": 0,
   "metadata": {
    "application/vnd.databricks.v1+cell": {
     "cellMetadata": {
      "byteLimit": 2048000,
      "rowLimit": 10000
     },
     "inputWidgets": {},
     "nuid": "7a8f34f3-2abd-4107-bc06-8171e0954687",
     "showTitle": false,
     "tableResultSettingsMap": {},
     "title": ""
    },
    "id": "UbKdDN71xUfm"
   },
   "outputs": [],
   "source": [
    "text = \"\"\"The patient is a 30-year-old female with a long history of insulin dependent diabetes, type 2. She received a course of Bactrim for 14 days for UTI.\n",
    "She was prescribed 5000 units of Fragmin  subcutaneously daily, and along with Lantus 40 units subcutaneously at bedtime.\"\"\"\n",
    "\n",
    "result = medication_pipeline.fullAnnotate(text)[0]"
   ]
  },
  {
   "cell_type": "code",
   "execution_count": 0,
   "metadata": {
    "application/vnd.databricks.v1+cell": {
     "cellMetadata": {
      "byteLimit": 2048000,
      "rowLimit": 10000
     },
     "inputWidgets": {},
     "nuid": "14919fc3-f653-404d-9c1c-3da36602fced",
     "showTitle": false,
     "tableResultSettingsMap": {},
     "title": ""
    },
    "colab": {
     "base_uri": "https://localhost:8080/"
    },
    "executionInfo": {
     "elapsed": 9,
     "status": "ok",
     "timestamp": 1707940876521,
     "user": {
      "displayName": "Akar Öztürk",
      "userId": "07602883577262601067"
     },
     "user_tz": -60
    },
    "id": "8k-1smiK1RyQ",
    "outputId": "a80fa33f-8bc5-4a01-ad91-52068a408b55"
   },
   "outputs": [
    {
     "output_type": "execute_result",
     "data": {
      "text/plain": [
       "dict_keys(['assertion_ner_chunk', 'document', 'assertion', 'ner_posology_chunk', 'token', 'relations', 'embeddings_clinical', 'pos_tags', 'dependencies', 'ner_posology', 'sentence'])"
      ]
     },
     "execution_count": 40,
     "metadata": {},
     "output_type": "execute_result"
    }
   ],
   "source": [
    "result.keys()"
   ]
  },
  {
   "cell_type": "code",
   "execution_count": 0,
   "metadata": {
    "application/vnd.databricks.v1+cell": {
     "cellMetadata": {
      "byteLimit": 2048000,
      "rowLimit": 10000
     },
     "inputWidgets": {},
     "nuid": "5db96905-5a5b-42a2-be68-f5b6cc662e67",
     "showTitle": false,
     "tableResultSettingsMap": {},
     "title": ""
    },
    "colab": {
     "base_uri": "https://localhost:8080/",
     "height": 394
    },
    "executionInfo": {
     "elapsed": 8,
     "status": "ok",
     "timestamp": 1707940876521,
     "user": {
      "displayName": "Akar Öztürk",
      "userId": "07602883577262601067"
     },
     "user_tz": -60
    },
    "id": "nzoBvABV1c_F",
    "outputId": "7ef945c8-0f85-4f12-8dab-4759a21c75d9"
   },
   "outputs": [
    {
     "output_type": "execute_result",
     "data": {
      "text/html": [
       "<div>\n",
       "<style scoped>\n",
       "    .dataframe tbody tr th:only-of-type {\n",
       "        vertical-align: middle;\n",
       "    }\n",
       "\n",
       "    .dataframe tbody tr th {\n",
       "        vertical-align: top;\n",
       "    }\n",
       "\n",
       "    .dataframe thead th {\n",
       "        text-align: right;\n",
       "    }\n",
       "</style>\n",
       "<table border=\"1\" class=\"dataframe\">\n",
       "  <thead>\n",
       "    <tr style=\"text-align: right;\">\n",
       "      <th></th>\n",
       "      <th>chunks</th>\n",
       "      <th>begin</th>\n",
       "      <th>end</th>\n",
       "      <th>entities</th>\n",
       "    </tr>\n",
       "  </thead>\n",
       "  <tbody>\n",
       "    <tr>\n",
       "      <th>0</th>\n",
       "      <td>insulin</td>\n",
       "      <td>59</td>\n",
       "      <td>65</td>\n",
       "      <td>DRUG</td>\n",
       "    </tr>\n",
       "    <tr>\n",
       "      <th>1</th>\n",
       "      <td>Bactrim</td>\n",
       "      <td>120</td>\n",
       "      <td>126</td>\n",
       "      <td>DRUG</td>\n",
       "    </tr>\n",
       "    <tr>\n",
       "      <th>2</th>\n",
       "      <td>for 14 days</td>\n",
       "      <td>128</td>\n",
       "      <td>138</td>\n",
       "      <td>DURATION</td>\n",
       "    </tr>\n",
       "    <tr>\n",
       "      <th>3</th>\n",
       "      <td>5000 units</td>\n",
       "      <td>168</td>\n",
       "      <td>177</td>\n",
       "      <td>DOSAGE</td>\n",
       "    </tr>\n",
       "    <tr>\n",
       "      <th>4</th>\n",
       "      <td>Fragmin</td>\n",
       "      <td>182</td>\n",
       "      <td>188</td>\n",
       "      <td>DRUG</td>\n",
       "    </tr>\n",
       "    <tr>\n",
       "      <th>5</th>\n",
       "      <td>subcutaneously</td>\n",
       "      <td>191</td>\n",
       "      <td>204</td>\n",
       "      <td>ROUTE</td>\n",
       "    </tr>\n",
       "    <tr>\n",
       "      <th>6</th>\n",
       "      <td>daily</td>\n",
       "      <td>206</td>\n",
       "      <td>210</td>\n",
       "      <td>FREQUENCY</td>\n",
       "    </tr>\n",
       "    <tr>\n",
       "      <th>7</th>\n",
       "      <td>Lantus</td>\n",
       "      <td>228</td>\n",
       "      <td>233</td>\n",
       "      <td>DRUG</td>\n",
       "    </tr>\n",
       "    <tr>\n",
       "      <th>8</th>\n",
       "      <td>40 units</td>\n",
       "      <td>235</td>\n",
       "      <td>242</td>\n",
       "      <td>DOSAGE</td>\n",
       "    </tr>\n",
       "    <tr>\n",
       "      <th>9</th>\n",
       "      <td>subcutaneously</td>\n",
       "      <td>244</td>\n",
       "      <td>257</td>\n",
       "      <td>ROUTE</td>\n",
       "    </tr>\n",
       "    <tr>\n",
       "      <th>10</th>\n",
       "      <td>at bedtime</td>\n",
       "      <td>259</td>\n",
       "      <td>268</td>\n",
       "      <td>FREQUENCY</td>\n",
       "    </tr>\n",
       "  </tbody>\n",
       "</table>\n",
       "</div>"
      ],
      "text/plain": [
       "            chunks  begin  end   entities\n",
       "0          insulin     59   65       DRUG\n",
       "1          Bactrim    120  126       DRUG\n",
       "2      for 14 days    128  138   DURATION\n",
       "3       5000 units    168  177     DOSAGE\n",
       "4          Fragmin    182  188       DRUG\n",
       "5   subcutaneously    191  204      ROUTE\n",
       "6            daily    206  210  FREQUENCY\n",
       "7           Lantus    228  233       DRUG\n",
       "8         40 units    235  242     DOSAGE\n",
       "9   subcutaneously    244  257      ROUTE\n",
       "10      at bedtime    259  268  FREQUENCY"
      ]
     },
     "execution_count": 41,
     "metadata": {},
     "output_type": "execute_result"
    }
   ],
   "source": [
    "chunks=[]\n",
    "entities=[]\n",
    "begins=[]\n",
    "ends=[]\n",
    "\n",
    "for n in result['ner_posology_chunk']:\n",
    "\n",
    "    chunks.append(n.result)\n",
    "    begins.append(n.begin)\n",
    "    ends.append(n.end)\n",
    "    entities.append(n.metadata['entity'])\n",
    "\n",
    "df = pd.DataFrame({'chunks':chunks, 'begin':begins, 'end':ends, 'entities':entities})\n",
    "\n",
    "df"
   ]
  },
  {
   "cell_type": "code",
   "execution_count": 0,
   "metadata": {
    "application/vnd.databricks.v1+cell": {
     "cellMetadata": {
      "byteLimit": 2048000,
      "rowLimit": 10000
     },
     "inputWidgets": {},
     "nuid": "7ece749e-08bb-428a-87b6-36287e8b5211",
     "showTitle": false,
     "tableResultSettingsMap": {},
     "title": ""
    },
    "colab": {
     "base_uri": "https://localhost:8080/",
     "height": 175
    },
    "executionInfo": {
     "elapsed": 6,
     "status": "ok",
     "timestamp": 1707940876521,
     "user": {
      "displayName": "Akar Öztürk",
      "userId": "07602883577262601067"
     },
     "user_tz": -60
    },
    "id": "Dq2lgqMl1XdA",
    "outputId": "53f6292f-0234-4b50-ffa0-16b9b45e178e"
   },
   "outputs": [
    {
     "output_type": "execute_result",
     "data": {
      "text/html": [
       "<div>\n",
       "<style scoped>\n",
       "    .dataframe tbody tr th:only-of-type {\n",
       "        vertical-align: middle;\n",
       "    }\n",
       "\n",
       "    .dataframe tbody tr th {\n",
       "        vertical-align: top;\n",
       "    }\n",
       "\n",
       "    .dataframe thead th {\n",
       "        text-align: right;\n",
       "    }\n",
       "</style>\n",
       "<table border=\"1\" class=\"dataframe\">\n",
       "  <thead>\n",
       "    <tr style=\"text-align: right;\">\n",
       "      <th></th>\n",
       "      <th>chunks</th>\n",
       "      <th>entities</th>\n",
       "      <th>assertion</th>\n",
       "    </tr>\n",
       "  </thead>\n",
       "  <tbody>\n",
       "    <tr>\n",
       "      <th>0</th>\n",
       "      <td>insulin</td>\n",
       "      <td>DRUG</td>\n",
       "      <td>Present</td>\n",
       "    </tr>\n",
       "    <tr>\n",
       "      <th>1</th>\n",
       "      <td>Bactrim</td>\n",
       "      <td>DRUG</td>\n",
       "      <td>Past</td>\n",
       "    </tr>\n",
       "    <tr>\n",
       "      <th>2</th>\n",
       "      <td>Fragmin</td>\n",
       "      <td>DRUG</td>\n",
       "      <td>Present</td>\n",
       "    </tr>\n",
       "    <tr>\n",
       "      <th>3</th>\n",
       "      <td>Lantus</td>\n",
       "      <td>DRUG</td>\n",
       "      <td>Past</td>\n",
       "    </tr>\n",
       "  </tbody>\n",
       "</table>\n",
       "</div>"
      ],
      "text/plain": [
       "    chunks entities assertion\n",
       "0  insulin     DRUG   Present\n",
       "1  Bactrim     DRUG      Past\n",
       "2  Fragmin     DRUG   Present\n",
       "3   Lantus     DRUG      Past"
      ]
     },
     "execution_count": 42,
     "metadata": {},
     "output_type": "execute_result"
    }
   ],
   "source": [
    "chunks=[]\n",
    "entities=[]\n",
    "status=[]\n",
    "\n",
    "for n,m in zip(result['assertion_ner_chunk'],result['assertion']):\n",
    "\n",
    "    chunks.append(n.result)\n",
    "    entities.append(n.metadata['entity'])\n",
    "    status.append(m.result)\n",
    "\n",
    "df = pd.DataFrame({'chunks':chunks, 'entities':entities, 'assertion':status})\n",
    "\n",
    "df"
   ]
  },
  {
   "cell_type": "code",
   "execution_count": 0,
   "metadata": {
    "application/vnd.databricks.v1+cell": {
     "cellMetadata": {
      "byteLimit": 2048000,
      "rowLimit": 10000
     },
     "inputWidgets": {},
     "nuid": "89d29c46-9bf5-42c9-9a09-3a8c3bd223ff",
     "showTitle": false,
     "tableResultSettingsMap": {},
     "title": ""
    },
    "colab": {
     "base_uri": "https://localhost:8080/",
     "height": 410
    },
    "executionInfo": {
     "elapsed": 584,
     "status": "ok",
     "timestamp": 1707940877100,
     "user": {
      "displayName": "Akar Öztürk",
      "userId": "07602883577262601067"
     },
     "user_tz": -60
    },
    "id": "UWlcqeoM1ZQG",
    "outputId": "b6830865-abb6-4f02-bc1f-6e9c06c60a8f"
   },
   "outputs": [
    {
     "output_type": "execute_result",
     "data": {
      "text/html": [
       "<div>\n",
       "<style scoped>\n",
       "    .dataframe tbody tr th:only-of-type {\n",
       "        vertical-align: middle;\n",
       "    }\n",
       "\n",
       "    .dataframe tbody tr th {\n",
       "        vertical-align: top;\n",
       "    }\n",
       "\n",
       "    .dataframe thead th {\n",
       "        text-align: right;\n",
       "    }\n",
       "</style>\n",
       "<table border=\"1\" class=\"dataframe\">\n",
       "  <thead>\n",
       "    <tr style=\"text-align: right;\">\n",
       "      <th></th>\n",
       "      <th>relation</th>\n",
       "      <th>entity1</th>\n",
       "      <th>entity1_begin</th>\n",
       "      <th>entity1_end</th>\n",
       "      <th>chunk1</th>\n",
       "      <th>entity2</th>\n",
       "      <th>entity2_begin</th>\n",
       "      <th>entity2_end</th>\n",
       "      <th>chunk2</th>\n",
       "      <th>confidence</th>\n",
       "    </tr>\n",
       "  </thead>\n",
       "  <tbody>\n",
       "    <tr>\n",
       "      <th>0</th>\n",
       "      <td>DRUG-DURATION</td>\n",
       "      <td>DRUG</td>\n",
       "      <td>120</td>\n",
       "      <td>126</td>\n",
       "      <td>Bactrim</td>\n",
       "      <td>DURATION</td>\n",
       "      <td>128</td>\n",
       "      <td>138</td>\n",
       "      <td>for 14 days</td>\n",
       "      <td>1.0</td>\n",
       "    </tr>\n",
       "    <tr>\n",
       "      <th>1</th>\n",
       "      <td>DOSAGE-DRUG</td>\n",
       "      <td>DOSAGE</td>\n",
       "      <td>168</td>\n",
       "      <td>177</td>\n",
       "      <td>5000 units</td>\n",
       "      <td>DRUG</td>\n",
       "      <td>182</td>\n",
       "      <td>188</td>\n",
       "      <td>Fragmin</td>\n",
       "      <td>1.0</td>\n",
       "    </tr>\n",
       "    <tr>\n",
       "      <th>2</th>\n",
       "      <td>DRUG-ROUTE</td>\n",
       "      <td>DRUG</td>\n",
       "      <td>182</td>\n",
       "      <td>188</td>\n",
       "      <td>Fragmin</td>\n",
       "      <td>ROUTE</td>\n",
       "      <td>191</td>\n",
       "      <td>204</td>\n",
       "      <td>subcutaneously</td>\n",
       "      <td>1.0</td>\n",
       "    </tr>\n",
       "    <tr>\n",
       "      <th>3</th>\n",
       "      <td>DRUG-FREQUENCY</td>\n",
       "      <td>DRUG</td>\n",
       "      <td>182</td>\n",
       "      <td>188</td>\n",
       "      <td>Fragmin</td>\n",
       "      <td>FREQUENCY</td>\n",
       "      <td>206</td>\n",
       "      <td>210</td>\n",
       "      <td>daily</td>\n",
       "      <td>1.0</td>\n",
       "    </tr>\n",
       "    <tr>\n",
       "      <th>4</th>\n",
       "      <td>DRUG-DOSAGE</td>\n",
       "      <td>DRUG</td>\n",
       "      <td>228</td>\n",
       "      <td>233</td>\n",
       "      <td>Lantus</td>\n",
       "      <td>DOSAGE</td>\n",
       "      <td>235</td>\n",
       "      <td>242</td>\n",
       "      <td>40 units</td>\n",
       "      <td>1.0</td>\n",
       "    </tr>\n",
       "    <tr>\n",
       "      <th>5</th>\n",
       "      <td>DRUG-ROUTE</td>\n",
       "      <td>DRUG</td>\n",
       "      <td>228</td>\n",
       "      <td>233</td>\n",
       "      <td>Lantus</td>\n",
       "      <td>ROUTE</td>\n",
       "      <td>244</td>\n",
       "      <td>257</td>\n",
       "      <td>subcutaneously</td>\n",
       "      <td>1.0</td>\n",
       "    </tr>\n",
       "    <tr>\n",
       "      <th>6</th>\n",
       "      <td>DRUG-FREQUENCY</td>\n",
       "      <td>DRUG</td>\n",
       "      <td>228</td>\n",
       "      <td>233</td>\n",
       "      <td>Lantus</td>\n",
       "      <td>FREQUENCY</td>\n",
       "      <td>259</td>\n",
       "      <td>268</td>\n",
       "      <td>at bedtime</td>\n",
       "      <td>1.0</td>\n",
       "    </tr>\n",
       "  </tbody>\n",
       "</table>\n",
       "</div>"
      ],
      "text/plain": [
       "         relation entity1 entity1_begin entity1_end      chunk1    entity2 entity2_begin entity2_end          chunk2  confidence\n",
       "0   DRUG-DURATION    DRUG           120         126     Bactrim   DURATION           128         138     for 14 days         1.0\n",
       "1     DOSAGE-DRUG  DOSAGE           168         177  5000 units       DRUG           182         188         Fragmin         1.0\n",
       "2      DRUG-ROUTE    DRUG           182         188     Fragmin      ROUTE           191         204  subcutaneously         1.0\n",
       "3  DRUG-FREQUENCY    DRUG           182         188     Fragmin  FREQUENCY           206         210           daily         1.0\n",
       "4     DRUG-DOSAGE    DRUG           228         233      Lantus     DOSAGE           235         242        40 units         1.0\n",
       "5      DRUG-ROUTE    DRUG           228         233      Lantus      ROUTE           244         257  subcutaneously         1.0\n",
       "6  DRUG-FREQUENCY    DRUG           228         233      Lantus  FREQUENCY           259         268      at bedtime         1.0"
      ]
     },
     "execution_count": 43,
     "metadata": {},
     "output_type": "execute_result"
    }
   ],
   "source": [
    "annotations = medication_pipeline.fullAnnotate(text)\n",
    "\n",
    "rel_df = get_relations_df(annotations, 'relations')\n",
    "\n",
    "rel_df"
   ]
  },
  {
   "cell_type": "code",
   "execution_count": 0,
   "metadata": {
    "application/vnd.databricks.v1+cell": {
     "cellMetadata": {
      "byteLimit": 2048000,
      "rowLimit": 10000
     },
     "inputWidgets": {},
     "nuid": "df790aa5-6f8c-43b5-8952-49a78fd8faaf",
     "showTitle": false,
     "tableResultSettingsMap": {},
     "title": ""
    },
    "colab": {
     "base_uri": "https://localhost:8080/"
    },
    "executionInfo": {
     "elapsed": 5,
     "status": "ok",
     "timestamp": 1707940877100,
     "user": {
      "displayName": "Akar Öztürk",
      "userId": "07602883577262601067"
     },
     "user_tz": -60
    },
    "id": "GqS8bh2U1bkG",
    "outputId": "dadb95b9-0a4b-4d79-8ebb-57890bd48e11"
   },
   "outputs": [
    {
     "output_type": "execute_result",
     "data": {
      "text/plain": [
       "[Annotation(category, 120, 138, DRUG-DURATION, {'chunk2': 'for 14 days', 'confidence': '1.0', 'entity2_end': '138', 'chunk1': 'Bactrim', 'entity1': 'DRUG', 'entity2_begin': '128', 'chunk2_confidence': '0.79349995', 'entity1_begin': '120', 'sentence': '1', 'direction': 'both', 'entity1_end': '126', 'entity2': 'DURATION', 'chunk1_confidence': '0.9994'}, []),\n",
       " Annotation(category, 168, 188, DOSAGE-DRUG, {'chunk2': 'Fragmin', 'confidence': '1.0', 'entity2_end': '188', 'chunk1': '5000 units', 'entity1': 'DOSAGE', 'entity2_begin': '182', 'chunk2_confidence': '0.9996', 'entity1_begin': '168', 'sentence': '2', 'direction': 'both', 'entity1_end': '177', 'entity2': 'DRUG', 'chunk1_confidence': '0.80009997'}, []),\n",
       " Annotation(category, 182, 204, DRUG-ROUTE, {'chunk2': 'subcutaneously', 'confidence': '1.0', 'entity2_end': '204', 'chunk1': 'Fragmin', 'entity1': 'DRUG', 'entity2_begin': '191', 'chunk2_confidence': '0.9994', 'entity1_begin': '182', 'sentence': '2', 'direction': 'both', 'entity1_end': '188', 'entity2': 'ROUTE', 'chunk1_confidence': '0.9996'}, []),\n",
       " Annotation(category, 182, 210, DRUG-FREQUENCY, {'chunk2': 'daily', 'confidence': '1.0', 'entity2_end': '210', 'chunk1': 'Fragmin', 'entity1': 'DRUG', 'entity2_begin': '206', 'chunk2_confidence': '0.9991', 'entity1_begin': '182', 'sentence': '2', 'direction': 'both', 'entity1_end': '188', 'entity2': 'FREQUENCY', 'chunk1_confidence': '0.9996'}, []),\n",
       " Annotation(category, 228, 242, DRUG-DOSAGE, {'chunk2': '40 units', 'confidence': '1.0', 'entity2_end': '242', 'chunk1': 'Lantus', 'entity1': 'DRUG', 'entity2_begin': '235', 'chunk2_confidence': '0.8326', 'entity1_begin': '228', 'sentence': '2', 'direction': 'both', 'entity1_end': '233', 'entity2': 'DOSAGE', 'chunk1_confidence': '0.9986'}, []),\n",
       " Annotation(category, 228, 257, DRUG-ROUTE, {'chunk2': 'subcutaneously', 'confidence': '1.0', 'entity2_end': '257', 'chunk1': 'Lantus', 'entity1': 'DRUG', 'entity2_begin': '244', 'chunk2_confidence': '0.9969', 'entity1_begin': '228', 'sentence': '2', 'direction': 'both', 'entity1_end': '233', 'entity2': 'ROUTE', 'chunk1_confidence': '0.9986'}, []),\n",
       " Annotation(category, 228, 268, DRUG-FREQUENCY, {'chunk2': 'at bedtime', 'confidence': '1.0', 'entity2_end': '268', 'chunk1': 'Lantus', 'entity1': 'DRUG', 'entity2_begin': '259', 'chunk2_confidence': '0.8706', 'entity1_begin': '228', 'sentence': '2', 'direction': 'both', 'entity1_end': '233', 'entity2': 'FREQUENCY', 'chunk1_confidence': '0.9986'}, [])]"
      ]
     },
     "execution_count": 44,
     "metadata": {},
     "output_type": "execute_result"
    }
   ],
   "source": [
    "annotations[0]['relations']"
   ]
  },
  {
   "cell_type": "markdown",
   "metadata": {
    "application/vnd.databricks.v1+cell": {
     "cellMetadata": {
      "byteLimit": 2048000,
      "rowLimit": 10000
     },
     "inputWidgets": {},
     "nuid": "17a62977-e30e-4d2a-bbae-b78a731d583f",
     "showTitle": false,
     "tableResultSettingsMap": {},
     "title": ""
    },
    "id": "laR_ppkG1fcz"
   },
   "source": [
    "### explain_clinical_doc_radiology\n",
    "\n",
    "> A pipeline for detecting radiology entities with the `ner_radiology` NER model, assigning their assertion status with `assertion_dl_radiology` model, and extracting relations between the diagnosis, test, and findings with `re_test_problem_finding` relation extraction model."
   ]
  },
  {
   "cell_type": "code",
   "execution_count": 0,
   "metadata": {
    "application/vnd.databricks.v1+cell": {
     "cellMetadata": {
      "byteLimit": 2048000,
      "rowLimit": 10000
     },
     "inputWidgets": {},
     "nuid": "0becc53e-531d-4480-9d53-64788f25c01d",
     "showTitle": false,
     "tableResultSettingsMap": {},
     "title": ""
    },
    "colab": {
     "base_uri": "https://localhost:8080/"
    },
    "executionInfo": {
     "elapsed": 180286,
     "status": "ok",
     "timestamp": 1707941057383,
     "user": {
      "displayName": "Akar Öztürk",
      "userId": "07602883577262601067"
     },
     "user_tz": -60
    },
    "id": "UKdbqT5j1hwn",
    "outputId": "c7d8201c-8212-4b27-b72a-c794852dbf3e"
   },
   "outputs": [
    {
     "output_type": "stream",
     "name": "stdout",
     "output_type": "stream",
     "text": [
      "explain_clinical_doc_radiology download started this may take some time.\nApprox size to download 1.7 GB\n\r[ | ]\r[ / ]\r[ — ]\r[ \\ ]\r[ | ]\r[ / ]\r[ — ]\r[ \\ ]\r[ | ]\r[ / ]\r[ — ]\r[ \\ ]\r[ | ]\r[ / ]\r[ — ]\r[ \\ ]\r[ | ]\r[ / ]\r[ — ]\r[ \\ ]\r[ | ]\r[ / ]\r[ — ]\r[ \\ ]\r[ | ]\r[ / ]\r[ — ]\r[ \\ ]\r[ | ]\r[ / ]\r[ — ]\r[ \\ ]\r[ | ]\r[ / ]\r[ — ]\r[ \\ ]\r[OK!]\n"
     ]
    }
   ],
   "source": [
    "radiology_pipeline = nlp.PretrainedPipeline('explain_clinical_doc_radiology', 'en', 'clinical/models')"
   ]
  },
  {
   "cell_type": "code",
   "execution_count": 0,
   "metadata": {
    "application/vnd.databricks.v1+cell": {
     "cellMetadata": {
      "byteLimit": 2048000,
      "rowLimit": 10000
     },
     "inputWidgets": {},
     "nuid": "78536183-b902-436f-a5a7-900b03f08b80",
     "showTitle": false,
     "tableResultSettingsMap": {},
     "title": ""
    },
    "colab": {
     "base_uri": "https://localhost:8080/"
    },
    "executionInfo": {
     "elapsed": 15,
     "status": "ok",
     "timestamp": 1707941057384,
     "user": {
      "displayName": "Akar Öztürk",
      "userId": "07602883577262601067"
     },
     "user_tz": -60
    },
    "id": "hyTOoMj31h3a",
    "outputId": "f46aa9f3-f66c-4f21-9328-57cc458e7e98"
   },
   "outputs": [
    {
     "output_type": "execute_result",
     "data": {
      "text/plain": [
       "[DocumentAssembler_1e251400f05b,\n",
       " SentenceDetectorDLModel_6bafc4746ea5,\n",
       " REGEX_TOKENIZER_5350385cdb03,\n",
       " WORD_EMBEDDINGS_MODEL_9004b1d00302,\n",
       " MedicalNerModel_f7f58f2addf7,\n",
       " NER_CONVERTER_e89388e2f0fe,\n",
       " MedicalNerModel_32430beeafc0,\n",
       " NER_CONVERTER_e40bc4137e64,\n",
       " MedicalNerModel_5e6f59103f25,\n",
       " NER_CONVERTER_10c6f1c1f982,\n",
       " MedicalNerModel_8c59079bd37d,\n",
       " NER_CONVERTER_c69535539c93,\n",
       " MedicalNerModel_c89cbceb1028,\n",
       " NER_CONVERTER_950639e22149,\n",
       " MERGE_36b985d254fe,\n",
       " MERGE_f804cc8df33b,\n",
       " ASSERTION_DL_50d2c028e615,\n",
       " POS_6f55785005bf,\n",
       " dependency_e7755462ba78,\n",
       " RelationExtractionModel_853993778cd5]"
      ]
     },
     "execution_count": 46,
     "metadata": {},
     "output_type": "execute_result"
    }
   ],
   "source": [
    "radiology_pipeline.model.stages"
   ]
  },
  {
   "cell_type": "code",
   "execution_count": 0,
   "metadata": {
    "application/vnd.databricks.v1+cell": {
     "cellMetadata": {
      "byteLimit": 2048000,
      "rowLimit": 10000
     },
     "inputWidgets": {},
     "nuid": "d2976c12-01c3-4bd2-a732-6122b9c491b1",
     "showTitle": false,
     "tableResultSettingsMap": {},
     "title": ""
    },
    "id": "fdXX5eOX1h6Q"
   },
   "outputs": [],
   "source": [
    "text = \"\"\"Bilateral breast ultrasound was subsequently performed, which demonstrated an ovoid mass measuring approximately 0.5 x 0.5 x 0.4 cm in diameter located within the anteromedial aspect of the left shoulder.\n",
    "This mass demonstrates isoechoic echotexture to the adjacent muscle, with no evidence of internal color flow.\n",
    "This may represent benign fibrous tissue or a lipoma.\"\"\"\n",
    "\n",
    "result = radiology_pipeline.fullAnnotate(text)[0]"
   ]
  },
  {
   "cell_type": "code",
   "execution_count": 0,
   "metadata": {
    "application/vnd.databricks.v1+cell": {
     "cellMetadata": {
      "byteLimit": 2048000,
      "rowLimit": 10000
     },
     "inputWidgets": {},
     "nuid": "f05fd6e9-a068-4110-a02a-942bb5eb7623",
     "showTitle": false,
     "tableResultSettingsMap": {},
     "title": ""
    },
    "colab": {
     "base_uri": "https://localhost:8080/"
    },
    "executionInfo": {
     "elapsed": 8,
     "status": "ok",
     "timestamp": 1707941060343,
     "user": {
      "displayName": "Akar Öztürk",
      "userId": "07602883577262601067"
     },
     "user_tz": -60
    },
    "id": "R6fskZJz1h9M",
    "outputId": "60e001ec-c9eb-4b5c-bfe5-5c872f93c865"
   },
   "outputs": [
    {
     "output_type": "execute_result",
     "data": {
      "text/plain": [
       "dict_keys(['radiology_ner_chunk', 'ner_chexpert_chunk', 'posology_ner', 'ner_oncology', 'document', 'ner_chexpert', 'merged_chunk', 'posology_ner_chunk', 'merged_chunk_for_assertion', 'jsl_ner_chunk', 'radiology_ner', 'assertion', 'jsl_ner', 'ner_oncology_chunk', 'token', 'relations', 'embeddings', 'pos_tags', 'dependencies', 'sentence'])"
      ]
     },
     "execution_count": 48,
     "metadata": {},
     "output_type": "execute_result"
    }
   ],
   "source": [
    "result.keys()"
   ]
  },
  {
   "cell_type": "code",
   "execution_count": 0,
   "metadata": {
    "application/vnd.databricks.v1+cell": {
     "cellMetadata": {
      "byteLimit": 2048000,
      "rowLimit": 10000
     },
     "inputWidgets": {},
     "nuid": "6f0be2ff-67ed-4912-898a-12bb9524a1db",
     "showTitle": false,
     "tableResultSettingsMap": {},
     "title": ""
    },
    "colab": {
     "base_uri": "https://localhost:8080/",
     "height": 425
    },
    "executionInfo": {
     "elapsed": 7,
     "status": "ok",
     "timestamp": 1707941060344,
     "user": {
      "displayName": "Akar Öztürk",
      "userId": "07602883577262601067"
     },
     "user_tz": -60
    },
    "id": "dBZjB7wA1ops",
    "outputId": "82ef163b-66b2-497b-dfcb-c12104fd5422"
   },
   "outputs": [
    {
     "output_type": "execute_result",
     "data": {
      "text/html": [
       "<div>\n",
       "<style scoped>\n",
       "    .dataframe tbody tr th:only-of-type {\n",
       "        vertical-align: middle;\n",
       "    }\n",
       "\n",
       "    .dataframe tbody tr th {\n",
       "        vertical-align: top;\n",
       "    }\n",
       "\n",
       "    .dataframe thead th {\n",
       "        text-align: right;\n",
       "    }\n",
       "</style>\n",
       "<table border=\"1\" class=\"dataframe\">\n",
       "  <thead>\n",
       "    <tr style=\"text-align: right;\">\n",
       "      <th></th>\n",
       "      <th>chunks</th>\n",
       "      <th>begin</th>\n",
       "      <th>end</th>\n",
       "      <th>entities</th>\n",
       "    </tr>\n",
       "  </thead>\n",
       "  <tbody>\n",
       "    <tr>\n",
       "      <th>0</th>\n",
       "      <td>Bilateral breast</td>\n",
       "      <td>0</td>\n",
       "      <td>15</td>\n",
       "      <td>BodyPart</td>\n",
       "    </tr>\n",
       "    <tr>\n",
       "      <th>1</th>\n",
       "      <td>ultrasound</td>\n",
       "      <td>17</td>\n",
       "      <td>26</td>\n",
       "      <td>Imaging_Test</td>\n",
       "    </tr>\n",
       "    <tr>\n",
       "      <th>2</th>\n",
       "      <td>ovoid mass</td>\n",
       "      <td>78</td>\n",
       "      <td>87</td>\n",
       "      <td>ImagingFindings</td>\n",
       "    </tr>\n",
       "    <tr>\n",
       "      <th>3</th>\n",
       "      <td>0.5 x 0.5 x 0.4</td>\n",
       "      <td>113</td>\n",
       "      <td>127</td>\n",
       "      <td>Measurements</td>\n",
       "    </tr>\n",
       "    <tr>\n",
       "      <th>4</th>\n",
       "      <td>cm</td>\n",
       "      <td>129</td>\n",
       "      <td>130</td>\n",
       "      <td>Units</td>\n",
       "    </tr>\n",
       "    <tr>\n",
       "      <th>5</th>\n",
       "      <td>anteromedial aspect of the left shoulder</td>\n",
       "      <td>163</td>\n",
       "      <td>202</td>\n",
       "      <td>BodyPart</td>\n",
       "    </tr>\n",
       "    <tr>\n",
       "      <th>6</th>\n",
       "      <td>mass</td>\n",
       "      <td>210</td>\n",
       "      <td>213</td>\n",
       "      <td>ImagingFindings</td>\n",
       "    </tr>\n",
       "    <tr>\n",
       "      <th>7</th>\n",
       "      <td>isoechoic echotexture</td>\n",
       "      <td>228</td>\n",
       "      <td>248</td>\n",
       "      <td>ImagingFindings</td>\n",
       "    </tr>\n",
       "    <tr>\n",
       "      <th>8</th>\n",
       "      <td>muscle</td>\n",
       "      <td>266</td>\n",
       "      <td>271</td>\n",
       "      <td>BodyPart</td>\n",
       "    </tr>\n",
       "    <tr>\n",
       "      <th>9</th>\n",
       "      <td>internal color flow</td>\n",
       "      <td>294</td>\n",
       "      <td>312</td>\n",
       "      <td>ImagingFindings</td>\n",
       "    </tr>\n",
       "    <tr>\n",
       "      <th>10</th>\n",
       "      <td>benign fibrous tissue</td>\n",
       "      <td>334</td>\n",
       "      <td>354</td>\n",
       "      <td>ImagingFindings</td>\n",
       "    </tr>\n",
       "    <tr>\n",
       "      <th>11</th>\n",
       "      <td>lipoma</td>\n",
       "      <td>361</td>\n",
       "      <td>366</td>\n",
       "      <td>Disease_Syndrome_Disorder</td>\n",
       "    </tr>\n",
       "  </tbody>\n",
       "</table>\n",
       "</div>"
      ],
      "text/plain": [
       "                                      chunks  begin  end                   entities\n",
       "0                           Bilateral breast      0   15                   BodyPart\n",
       "1                                 ultrasound     17   26               Imaging_Test\n",
       "2                                 ovoid mass     78   87            ImagingFindings\n",
       "3                            0.5 x 0.5 x 0.4    113  127               Measurements\n",
       "4                                         cm    129  130                      Units\n",
       "5   anteromedial aspect of the left shoulder    163  202                   BodyPart\n",
       "6                                       mass    210  213            ImagingFindings\n",
       "7                      isoechoic echotexture    228  248            ImagingFindings\n",
       "8                                     muscle    266  271                   BodyPart\n",
       "9                        internal color flow    294  312            ImagingFindings\n",
       "10                     benign fibrous tissue    334  354            ImagingFindings\n",
       "11                                    lipoma    361  366  Disease_Syndrome_Disorder"
      ]
     },
     "execution_count": 49,
     "metadata": {},
     "output_type": "execute_result"
    }
   ],
   "source": [
    "chunks=[]\n",
    "entities=[]\n",
    "begins=[]\n",
    "ends=[]\n",
    "\n",
    "for n in result['radiology_ner_chunk']:\n",
    "\n",
    "    chunks.append(n.result)\n",
    "    begins.append(n.begin)\n",
    "    ends.append(n.end)\n",
    "    entities.append(n.metadata['entity'])\n",
    "\n",
    "df = pd.DataFrame({'chunks':chunks, 'begin':begins, 'end':ends, 'entities':entities})\n",
    "\n",
    "df"
   ]
  },
  {
   "cell_type": "code",
   "execution_count": 0,
   "metadata": {
    "application/vnd.databricks.v1+cell": {
     "cellMetadata": {
      "byteLimit": 2048000,
      "rowLimit": 10000
     },
     "inputWidgets": {},
     "nuid": "f8cce78e-1ecd-4845-8696-5a62bf48c6b1",
     "showTitle": false,
     "tableResultSettingsMap": {},
     "title": ""
    },
    "colab": {
     "base_uri": "https://localhost:8080/",
     "height": 237
    },
    "executionInfo": {
     "elapsed": 6,
     "status": "ok",
     "timestamp": 1707941060344,
     "user": {
      "displayName": "Akar Öztürk",
      "userId": "07602883577262601067"
     },
     "user_tz": -60
    },
    "id": "mHrDYnHX1ovO",
    "outputId": "7fb87532-634a-4b7e-e369-129148583c7b"
   },
   "outputs": [
    {
     "output_type": "execute_result",
     "data": {
      "text/html": [
       "<div>\n",
       "<style scoped>\n",
       "    .dataframe tbody tr th:only-of-type {\n",
       "        vertical-align: middle;\n",
       "    }\n",
       "\n",
       "    .dataframe tbody tr th {\n",
       "        vertical-align: top;\n",
       "    }\n",
       "\n",
       "    .dataframe thead th {\n",
       "        text-align: right;\n",
       "    }\n",
       "</style>\n",
       "<table border=\"1\" class=\"dataframe\">\n",
       "  <thead>\n",
       "    <tr style=\"text-align: right;\">\n",
       "      <th></th>\n",
       "      <th>chunks</th>\n",
       "      <th>entities</th>\n",
       "      <th>assertion</th>\n",
       "    </tr>\n",
       "  </thead>\n",
       "  <tbody>\n",
       "    <tr>\n",
       "      <th>0</th>\n",
       "      <td>ovoid mass</td>\n",
       "      <td>ImagingFindings</td>\n",
       "      <td>Confirmed</td>\n",
       "    </tr>\n",
       "    <tr>\n",
       "      <th>1</th>\n",
       "      <td>mass</td>\n",
       "      <td>ImagingFindings</td>\n",
       "      <td>Confirmed</td>\n",
       "    </tr>\n",
       "    <tr>\n",
       "      <th>2</th>\n",
       "      <td>isoechoic echotexture</td>\n",
       "      <td>ImagingFindings</td>\n",
       "      <td>Confirmed</td>\n",
       "    </tr>\n",
       "    <tr>\n",
       "      <th>3</th>\n",
       "      <td>internal color flow</td>\n",
       "      <td>ImagingFindings</td>\n",
       "      <td>Negative</td>\n",
       "    </tr>\n",
       "    <tr>\n",
       "      <th>4</th>\n",
       "      <td>benign fibrous tissue</td>\n",
       "      <td>ImagingFindings</td>\n",
       "      <td>Suspected</td>\n",
       "    </tr>\n",
       "    <tr>\n",
       "      <th>5</th>\n",
       "      <td>lipoma</td>\n",
       "      <td>Disease_Syndrome_Disorder</td>\n",
       "      <td>Suspected</td>\n",
       "    </tr>\n",
       "  </tbody>\n",
       "</table>\n",
       "</div>"
      ],
      "text/plain": [
       "                  chunks                   entities  assertion\n",
       "0             ovoid mass            ImagingFindings  Confirmed\n",
       "1                   mass            ImagingFindings  Confirmed\n",
       "2  isoechoic echotexture            ImagingFindings  Confirmed\n",
       "3    internal color flow            ImagingFindings   Negative\n",
       "4  benign fibrous tissue            ImagingFindings  Suspected\n",
       "5                 lipoma  Disease_Syndrome_Disorder  Suspected"
      ]
     },
     "execution_count": 50,
     "metadata": {},
     "output_type": "execute_result"
    }
   ],
   "source": [
    "chunks=[]\n",
    "entities=[]\n",
    "status=[]\n",
    "\n",
    "for n,m in zip(result['merged_chunk_for_assertion'],result['assertion']):\n",
    "\n",
    "    chunks.append(n.result)\n",
    "    entities.append(n.metadata['entity'])\n",
    "    status.append(m.result)\n",
    "\n",
    "df = pd.DataFrame({'chunks':chunks, 'entities':entities, 'assertion':status})\n",
    "\n",
    "df"
   ]
  },
  {
   "cell_type": "code",
   "execution_count": 0,
   "metadata": {
    "application/vnd.databricks.v1+cell": {
     "cellMetadata": {
      "byteLimit": 2048000,
      "rowLimit": 10000
     },
     "inputWidgets": {},
     "nuid": "8515b3ca-5b97-411a-9c91-caa47602057b",
     "showTitle": false,
     "tableResultSettingsMap": {},
     "title": ""
    },
    "colab": {
     "base_uri": "https://localhost:8080/",
     "height": 361
    },
    "executionInfo": {
     "elapsed": 1247,
     "status": "ok",
     "timestamp": 1707941061586,
     "user": {
      "displayName": "Akar Öztürk",
      "userId": "07602883577262601067"
     },
     "user_tz": -60
    },
    "id": "qGAmKrcX1s6J",
    "outputId": "2eddeec5-f73a-4f45-914b-ad184d67596e"
   },
   "outputs": [
    {
     "output_type": "execute_result",
     "data": {
      "text/html": [
       "<div>\n",
       "<style scoped>\n",
       "    .dataframe tbody tr th:only-of-type {\n",
       "        vertical-align: middle;\n",
       "    }\n",
       "\n",
       "    .dataframe tbody tr th {\n",
       "        vertical-align: top;\n",
       "    }\n",
       "\n",
       "    .dataframe thead th {\n",
       "        text-align: right;\n",
       "    }\n",
       "</style>\n",
       "<table border=\"1\" class=\"dataframe\">\n",
       "  <thead>\n",
       "    <tr style=\"text-align: right;\">\n",
       "      <th></th>\n",
       "      <th>relation</th>\n",
       "      <th>entity1</th>\n",
       "      <th>entity1_begin</th>\n",
       "      <th>entity1_end</th>\n",
       "      <th>chunk1</th>\n",
       "      <th>entity2</th>\n",
       "      <th>entity2_begin</th>\n",
       "      <th>entity2_end</th>\n",
       "      <th>chunk2</th>\n",
       "      <th>confidence</th>\n",
       "    </tr>\n",
       "  </thead>\n",
       "  <tbody>\n",
       "    <tr>\n",
       "      <th>0</th>\n",
       "      <td>is_related</td>\n",
       "      <td>BodyPart</td>\n",
       "      <td>0</td>\n",
       "      <td>15</td>\n",
       "      <td>Bilateral breast</td>\n",
       "      <td>Imaging_Test</td>\n",
       "      <td>17</td>\n",
       "      <td>26</td>\n",
       "      <td>ultrasound</td>\n",
       "      <td>1.000000</td>\n",
       "    </tr>\n",
       "    <tr>\n",
       "      <th>1</th>\n",
       "      <td>is_related</td>\n",
       "      <td>BodyPart</td>\n",
       "      <td>0</td>\n",
       "      <td>15</td>\n",
       "      <td>Bilateral breast</td>\n",
       "      <td>ImagingFindings</td>\n",
       "      <td>78</td>\n",
       "      <td>87</td>\n",
       "      <td>ovoid mass</td>\n",
       "      <td>0.999997</td>\n",
       "    </tr>\n",
       "    <tr>\n",
       "      <th>2</th>\n",
       "      <td>is_related</td>\n",
       "      <td>Imaging_Test</td>\n",
       "      <td>17</td>\n",
       "      <td>26</td>\n",
       "      <td>ultrasound</td>\n",
       "      <td>ImagingFindings</td>\n",
       "      <td>78</td>\n",
       "      <td>87</td>\n",
       "      <td>ovoid mass</td>\n",
       "      <td>0.999569</td>\n",
       "    </tr>\n",
       "    <tr>\n",
       "      <th>3</th>\n",
       "      <td>is_related</td>\n",
       "      <td>ImagingFindings</td>\n",
       "      <td>78</td>\n",
       "      <td>87</td>\n",
       "      <td>ovoid mass</td>\n",
       "      <td>Measurements</td>\n",
       "      <td>113</td>\n",
       "      <td>130</td>\n",
       "      <td>0.5 x 0.5 x 0.4 cm</td>\n",
       "      <td>1.000000</td>\n",
       "    </tr>\n",
       "    <tr>\n",
       "      <th>4</th>\n",
       "      <td>is_related</td>\n",
       "      <td>ImagingFindings</td>\n",
       "      <td>210</td>\n",
       "      <td>213</td>\n",
       "      <td>mass</td>\n",
       "      <td>BodyPart</td>\n",
       "      <td>257</td>\n",
       "      <td>271</td>\n",
       "      <td>adjacent muscle</td>\n",
       "      <td>0.997639</td>\n",
       "    </tr>\n",
       "    <tr>\n",
       "      <th>5</th>\n",
       "      <td>is_related</td>\n",
       "      <td>ImagingFindings</td>\n",
       "      <td>228</td>\n",
       "      <td>248</td>\n",
       "      <td>isoechoic echotexture</td>\n",
       "      <td>BodyPart</td>\n",
       "      <td>257</td>\n",
       "      <td>271</td>\n",
       "      <td>adjacent muscle</td>\n",
       "      <td>0.999999</td>\n",
       "    </tr>\n",
       "  </tbody>\n",
       "</table>\n",
       "</div>"
      ],
      "text/plain": [
       "     relation          entity1 entity1_begin entity1_end                 chunk1          entity2 entity2_begin entity2_end              chunk2  confidence\n",
       "0  is_related         BodyPart             0          15       Bilateral breast     Imaging_Test            17          26          ultrasound    1.000000\n",
       "1  is_related         BodyPart             0          15       Bilateral breast  ImagingFindings            78          87          ovoid mass    0.999997\n",
       "2  is_related     Imaging_Test            17          26             ultrasound  ImagingFindings            78          87          ovoid mass    0.999569\n",
       "3  is_related  ImagingFindings            78          87             ovoid mass     Measurements           113         130  0.5 x 0.5 x 0.4 cm    1.000000\n",
       "4  is_related  ImagingFindings           210         213                   mass         BodyPart           257         271     adjacent muscle    0.997639\n",
       "5  is_related  ImagingFindings           228         248  isoechoic echotexture         BodyPart           257         271     adjacent muscle    0.999999"
      ]
     },
     "execution_count": 51,
     "metadata": {},
     "output_type": "execute_result"
    }
   ],
   "source": [
    "annotations = radiology_pipeline.fullAnnotate(text)\n",
    "\n",
    "rel_df = get_relations_df(annotations, 'relations')\n",
    "\n",
    "rel_df"
   ]
  },
  {
   "cell_type": "code",
   "execution_count": 0,
   "metadata": {
    "application/vnd.databricks.v1+cell": {
     "cellMetadata": {
      "byteLimit": 2048000,
      "rowLimit": 10000
     },
     "inputWidgets": {},
     "nuid": "1a607779-cbb3-4d37-84d6-ede2981fa100",
     "showTitle": false,
     "tableResultSettingsMap": {},
     "title": ""
    },
    "colab": {
     "base_uri": "https://localhost:8080/"
    },
    "executionInfo": {
     "elapsed": 7,
     "status": "ok",
     "timestamp": 1707941061587,
     "user": {
      "displayName": "Akar Öztürk",
      "userId": "07602883577262601067"
     },
     "user_tz": -60
    },
    "id": "mq2Dav841tFA",
    "outputId": "7aa8a5ee-4256-47ff-e810-95eea88b7c4d"
   },
   "outputs": [
    {
     "output_type": "execute_result",
     "data": {
      "text/plain": [
       "[Annotation(category, 0, 26, is_related, {'chunk2': 'ultrasound', 'confidence': '1.0', 'entity2_end': '26', 'chunk1': 'Bilateral breast', 'entity1': 'BodyPart', 'entity2_begin': '17', 'chunk2_confidence': '0.6734', 'entity1_begin': '0', 'sentence': '0', 'direction': 'both', 'entity1_end': '15', 'entity2': 'Imaging_Test', 'chunk1_confidence': '0.945'}, []),\n",
       " Annotation(category, 0, 87, is_related, {'chunk2': 'ovoid mass', 'confidence': '0.99999714', 'entity2_end': '87', 'chunk1': 'Bilateral breast', 'entity1': 'BodyPart', 'entity2_begin': '78', 'chunk2_confidence': '0.6095', 'entity1_begin': '0', 'sentence': '0', 'direction': 'both', 'entity1_end': '15', 'entity2': 'ImagingFindings', 'chunk1_confidence': '0.945'}, []),\n",
       " Annotation(category, 17, 87, is_related, {'chunk2': 'ovoid mass', 'confidence': '0.99956936', 'entity2_end': '87', 'chunk1': 'ultrasound', 'entity1': 'Imaging_Test', 'entity2_begin': '78', 'chunk2_confidence': '0.6095', 'entity1_begin': '17', 'sentence': '0', 'direction': 'both', 'entity1_end': '26', 'entity2': 'ImagingFindings', 'chunk1_confidence': '0.6734'}, []),\n",
       " Annotation(category, 78, 130, is_related, {'chunk2': '0.5 x 0.5 x 0.4 cm', 'confidence': '1.0', 'entity2_end': '130', 'chunk1': 'ovoid mass', 'entity1': 'ImagingFindings', 'entity2_begin': '113', 'chunk2_confidence': '0.9908667', 'entity1_begin': '78', 'sentence': '0', 'direction': 'both', 'entity1_end': '87', 'entity2': 'Measurements', 'chunk1_confidence': '0.6095'}, []),\n",
       " Annotation(category, 210, 271, is_related, {'chunk2': 'adjacent muscle', 'confidence': '0.9976392', 'entity2_end': '271', 'chunk1': 'mass', 'entity1': 'ImagingFindings', 'entity2_begin': '257', 'chunk2_confidence': '0.5201', 'entity1_begin': '210', 'sentence': '1', 'direction': 'both', 'entity1_end': '213', 'entity2': 'BodyPart', 'chunk1_confidence': '0.9711'}, []),\n",
       " Annotation(category, 228, 271, is_related, {'chunk2': 'adjacent muscle', 'confidence': '0.9999993', 'entity2_end': '271', 'chunk1': 'isoechoic echotexture', 'entity1': 'ImagingFindings', 'entity2_begin': '257', 'chunk2_confidence': '0.5201', 'entity1_begin': '228', 'sentence': '1', 'direction': 'both', 'entity1_end': '248', 'entity2': 'BodyPart', 'chunk1_confidence': '0.80104995'}, [])]"
      ]
     },
     "execution_count": 52,
     "metadata": {},
     "output_type": "execute_result"
    }
   ],
   "source": [
    "annotations[0]['relations']"
   ]
  },
  {
   "cell_type": "markdown",
   "metadata": {
    "application/vnd.databricks.v1+cell": {
     "cellMetadata": {
      "byteLimit": 2048000,
      "rowLimit": 10000
     },
     "inputWidgets": {},
     "nuid": "88facc4d-cedc-4da5-a14b-db27ff49541c",
     "showTitle": false,
     "tableResultSettingsMap": {},
     "title": ""
    },
    "id": "tztC3oci1z3P"
   },
   "source": [
    "### Clinical Deidentification\n",
    "\n",
    "This pipeline can be used to deidentify PHI information from medical texts. The PHI information will be masked and obfuscated in the resulting text. The pipeline can mask and obfuscate `AGE`, `CONTACT`, `DATE`, `ID`, `LOCATION`, `NAME`, `PROFESSION`, `CITY`, `COUNTRY`, `DOCTOR`, `HOSPITAL`, `IDNUM`, `MEDICALRECORD`, `ORGANIZATION`, `PATIENT`, `PHONE`, `PROFESSION`, `STREET`, `USERNAME`, `ZIP`, `ACCOUNT`, `LICENSE`, `VIN`, `SSN`, `DLN`, `PLATE`, `IPADDR` entities."
   ]
  },
  {
   "cell_type": "markdown",
   "metadata": {
    "application/vnd.databricks.v1+cell": {
     "cellMetadata": {
      "byteLimit": 2048000,
      "rowLimit": 10000
     },
     "inputWidgets": {},
     "nuid": "bfd57db4-f230-40be-a3cb-0b5df00208ef",
     "showTitle": false,
     "tableResultSettingsMap": {},
     "title": ""
    },
    "id": "sAywzAqo12wX"
   },
   "source": [
    "|index|model|lang|\n",
    "|-----:|:-----|----|\n",
    "| 1 | [clinical_deidentification](https://nlp.johnsnowlabs.com/2022/09/14/clinical_deidentification_en.html) | ar, de, en, es, fr, it, pt, ro |\n",
    "| 2 | [clinical_deidentification_augmented](https://nlp.johnsnowlabs.com/2022/03/03/clinical_deidentification_augmented_es_2_4.html) | es |\n",
    "| 3 | [clinical_deidentification_docwise_benchmark](https://nlp.johnsnowlabs.com/2025/01/16/clinical_deidentification_docwise_benchmark_en.html) | en |\n",
    "| 4 | [clinical_deidentification_docwise_benchmark_large](https://nlp.johnsnowlabs.com/2025/07/25/clinical_deidentification_docwise_benchmark_large_en.html) | en |\n",
    "| 5 | [clinical_deidentification_docwise_benchmark_light](https://nlp.johnsnowlabs.com/2025/06/10/clinical_deidentification_docwise_benchmark_light_en.html) | en |\n",
    "| 6 | [clinical_deidentification_docwise_benchmark_light_v2](https://nlp.johnsnowlabs.com/2025/06/11/clinical_deidentification_docwise_benchmark_light_v2_en.html) | en |\n",
    "| 7 | [clinical_deidentification_docwise_benchmark_medium](https://nlp.johnsnowlabs.com/2025/07/31/clinical_deidentification_docwise_benchmark_medium_en.html) | en |\n",
    "| 8 | [clinical_deidentification_docwise_benchmark_optimized](https://nlp.johnsnowlabs.com/2025/06/19/clinical_deidentification_docwise_benchmark_optimized_en.html) | en |\n",
    "| 9 | [clinical_deidentification_docwise_large_wip](https://nlp.johnsnowlabs.com/2024/11/29/clinical_deidentification_docwise_large_wip_de.html) | de |\n",
    "| 10 | [clinical_deidentification_docwise_medium_wip](https://nlp.johnsnowlabs.com/2024/12/03/clinical_deidentification_docwise_medium_wip_en.html) | en |\n",
    "| 11 | [clinical_deidentification_docwise_wip](https://nlp.johnsnowlabs.com/2024/11/29/clinical_deidentification_docwise_wip_de.html) | de |\n",
    "| 12 | [clinical_deidentification_generic](https://nlp.johnsnowlabs.com/2024/02/21/clinical_deidentification_generic_en.html) | en |\n",
    "| 13 | [clinical_deidentification_generic_optimized](https://nlp.johnsnowlabs.com/2024/03/14/clinical_deidentification_generic_optimized_en.html) | en |\n",
    "| 14 | [clinical_deidentification_glove](https://nlp.johnsnowlabs.com/2022/03/04/clinical_deidentification_glove_en_3_0.html) | en |\n",
    "| 15 | [clinical_deidentification_glove_augmented](https://nlp.johnsnowlabs.com/2022/09/16/clinical_deidentification_glove_augmented_en.html) | en |\n",
    "| 16 | [clinical_deidentification_langtest](https://nlp.johnsnowlabs.com/2024/01/10/clinical_deidentification_langtest_en.html) | en |\n",
    "| 17 | [clinical_deidentification_light](https://nlp.johnsnowlabs.com/2025/01/06/clinical_deidentification_light_en.html) | en |\n",
    "| 18 | [clinical_deidentification_multi_mode_output](https://nlp.johnsnowlabs.com/2024/03/27/clinical_deidentification_multi_mode_output_en.html) | en |\n",
    "| 19 | [clinical_deidentification_nameAugmented_docwise](https://nlp.johnsnowlabs.com/2025/03/14/clinical_deidentification_nameAugmented_docwise_en.html) | en |\n",
    "| 20 | [clinical_deidentification_nameAugmented_v2](https://nlp.johnsnowlabs.com/2024/10/03/clinical_deidentification_nameAugmented_v2_en.html) | en |\n",
    "| 21 | [clinical_deidentification_nameAugmented_v3](https://nlp.johnsnowlabs.com/2025/03/13/clinical_deidentification_nameAugmented_v3_en.html) | en |\n",
    "| 22 | [clinical_deidentification_obfuscation_medium](https://nlp.johnsnowlabs.com/2024/02/09/clinical_deidentification_obfuscation_medium_en.html) | en |\n",
    "| 23 | [clinical_deidentification_obfuscation_small](https://nlp.johnsnowlabs.com/2024/02/09/clinical_deidentification_obfuscation_small_en.html) | en |\n",
    "| 24 | [clinical_deidentification_slim](https://nlp.johnsnowlabs.com/2023/06/17/clinical_deidentification_slim_en.html) | en |\n",
    "| 25 | [clinical_deidentification_subentity](https://nlp.johnsnowlabs.com/2024/02/21/clinical_deidentification_subentity_en.html) | en |\n",
    "| 26 | [clinical_deidentification_subentity_enriched_ar](https://nlp.johnsnowlabs.com/2025/03/13/clinical_deidentification_subentity_enriched_ar.html) | ar |\n",
    "| 27 | [clinical_deidentification_subentity_nameAugmented](https://nlp.johnsnowlabs.com/2024/03/14/clinical_deidentification_subentity_nameAugmented_en.html) | en |\n",
    "| 28 | [clinical_deidentification_subentity_optimized](https://nlp.johnsnowlabs.com/2024/03/14/clinical_deidentification_subentity_optimized_en.html) | en |\n",
    "| 29 | [clinical_deidentification_v2_wip](https://nlp.johnsnowlabs.com/2024/10/03/clinical_deidentification_v2_wip_en.html) | en |\n",
    "| 30 | [clinical_deidentification_wip](https://nlp.johnsnowlabs.com/2023/06/17/clinical_deidentification_wip_en.html) | en |\n",
    "| 31 | [clinical_deidentification_zeroshot_large](https://nlp.johnsnowlabs.com/2024/12/04/clinical_deidentification_zeroshot_large_en.html) | en |\n",
    "| 32 | [clinical_deidentification_zeroshot_medium](https://nlp.johnsnowlabs.com/2024/12/04/clinical_deidentification_zeroshot_medium_en.html) | en |\n"
   ]
  },
  {
   "cell_type": "markdown",
   "metadata": {
    "application/vnd.databricks.v1+cell": {
     "cellMetadata": {
      "byteLimit": 2048000,
      "rowLimit": 10000
     },
     "inputWidgets": {},
     "nuid": "4fa65657-0eee-4cb6-b515-22ee7191e14e",
     "showTitle": false,
     "tableResultSettingsMap": {},
     "title": ""
    },
    "id": "SEj8PjHS15jV"
   },
   "source": [
    "You can find **`German`, `Spanish`, `French`, `Italian`, `Portuguese`, `Romanian`**  and **`Arabic`**  deidentification models and pretrained pipeline examples in this notebook:   [Clinical Multi Language Deidentification Notebook](https://github.com/JohnSnowLabs/spark-nlp-workshop/blob/master/tutorials/Certification_Trainings/Healthcare/4.1.Clinical_Multi_Language_Deidentification.ipynb)\n"
   ]
  },
  {
   "cell_type": "markdown",
   "metadata": {
    "application/vnd.databricks.v1+cell": {
     "cellMetadata": {
      "byteLimit": 2048000,
      "rowLimit": 10000
     },
     "inputWidgets": {},
     "nuid": "69657d03-5c48-4096-879b-2c481e235897",
     "showTitle": false,
     "tableResultSettingsMap": {},
     "title": ""
    }
   },
   "source": [
    "We have also NER pipelines:\n",
    "\n",
    "| index | model | lang |\n",
    "|------:|:------|:-----|\n",
    "| 1  | [ner_deid_augmented_pipeline](https://nlp.johnsnowlabs.com/2022/03/21/ner_deid_augmented_pipeline_en_3_0.html) | en |\n",
    "| 2  | [ner_deid_biobert_pipeline](https://nlp.johnsnowlabs.com/2022/03/21/ner_deid_biobert_pipeline_en_3_0.html) | en |\n",
    "| 3  | [ner_deid_enriched_biobert_pipeline](https://nlp.johnsnowlabs.com/2022/03/21/ner_deid_enriched_biobert_pipeline_en_3_0.html) | en |\n",
    "| 4  | [ner_deid_enriched_pipeline](https://nlp.johnsnowlabs.com/2022/03/21/ner_deid_enriched_pipeline_en_3_0.html) | en |\n",
    "| 5  | [ner_deid_generic_augmented_pipeline](https://nlp.johnsnowlabs.com/2022/03/21/ner_deid_generic_augmented_pipeline_en_3_0.html) | en |\n",
    "| 6  | [ner_deid_generic_bert_pipeline](https://nlp.johnsnowlabs.com/2023/03/09/ner_deid_generic_bert_pipeline_ro.html) | ro |\n",
    "| 7  | [ner_deid_generic_glove_pipeline](https://nlp.johnsnowlabs.com/2023/03/13/ner_deid_generic_glove_pipeline_en.html) | en |\n",
    "| 8  | [ner_deid_generic_pipeline](https://nlp.johnsnowlabs.com/2023/05/31/ner_deid_generic_pipeline_ar.html) | ar, de, it, ro |\n",
    "| 9  | [ner_deid_large_pipeline](https://nlp.johnsnowlabs.com/2022/03/21/ner_deid_large_pipeline_en_3_0.html) | en |\n",
    "| 10 | [ner_deid_sd_large_pipeline](https://nlp.johnsnowlabs.com/2022/03/21/ner_deid_sd_large_pipeline_en_3_0.html) | en |\n",
    "| 11 | [ner_deid_sd_pipeline](https://nlp.johnsnowlabs.com/2022/03/21/ner_deid_sd_pipeline_en_3_0.html) | en |\n",
    "| 12 | [ner_deid_subentity_augmented_i2b2_pipeline](https://nlp.johnsnowlabs.com/2022/03/21/ner_deid_subentity_augmented_i2b2_pipeline_en_3_0.html) | en |\n",
    "| 13 | [ner_deid_subentity_augmented_pipeline](https://nlp.johnsnowlabs.com/2022/03/21/ner_deid_subentity_augmented_pipeline_en_3_0.html) | en |\n",
    "| 14 | [ner_deid_subentity_bert_pipeline](https://nlp.johnsnowlabs.com/2023/03/09/ner_deid_subentity_bert_pipeline_ro.html) | ro |\n",
    "| 15 | [ner_deid_subentity_glove_pipeline](https://nlp.johnsnowlabs.com/2023/03/13/ner_deid_subentity_glove_pipeline_en.html) | en |\n",
    "| 16 | [ner_deid_subentity_pipeline](https://nlp.johnsnowlabs.com/2023/05/31/ner_deid_subentity_pipeline_ar.html) | ar, de, it, ro |\n",
    "| 17 | [ner_deid_synthetic_pipeline](https://nlp.johnsnowlabs.com/2023/03/13/ner_deid_synthetic_pipeline_en.html) | en |\n",
    "| 18 | [ner_deidentify_dl_pipeline](https://nlp.johnsnowlabs.com/2022/03/21/ner_deidentify_dl_pipeline_en_3_0.html) | en |\n",
    "| 19 | [zeroshot_ner_deid_subentity_docwise_large](https://nlp.johnsnowlabs.com/2024/11/29/zeroshot_ner_deid_subentity_docwise_large_en.html) | en |\n",
    "| 20 | [zeroshot_ner_deid_generic_docwise_large](https://nlp.johnsnowlabs.com/2024/11/28/zeroshot_ner_deid_generic_docwise_large_en.html) | en |\n",
    "| 21 | [zeroshot_ner_deid_generic_docwise_medium](https://nlp.johnsnowlabs.com/2024/11/28/zeroshot_ner_deid_generic_docwise_medium_en.html) | en |\n",
    "| 22 | [zeroshot_ner_deid_subentity_docwise_medium](https://nlp.johnsnowlabs.com/2024/11/28/zeroshot_ner_deid_subentity_docwise_medium_en.html) | en |\n",
    "| 23 | [zeroshot_ner_deid_subentity_merged_medium](https://nlp.johnsnowlabs.com/2024/11/27/zeroshot_ner_deid_subentity_merged_medium_en.html) | en |\n",
    "| 24 | [zeroshot_ner_deid_generic_docwise_large](https://nlp.johnsnowlabs.com/2024/11/28/zeroshot_ner_deid_generic_docwise_large_de.html) | de |\n",
    "| 25 | [ner_deid_docwise_benchmark_optimized](https://nlp.johnsnowlabs.com/2025/06/17/ner_deid_docwise_benchmark_optimized_en.html) | en |\n",
    "| 26 | [ner_deid_docwise_benchmark_optimized_zeroshot_partial](https://nlp.johnsnowlabs.com/2025/06/17/ner_deid_docwise_benchmark_optimized_zeroshot_partial_en.html) | en |\n",
    "| 27 | [ner_deid_nameAugmented_docwise_pipeline](https://nlp.johnsnowlabs.com/2025/03/25/ner_deid_nameAugmented_docwise_pipeline_en.html) | en |\n",
    "| 28 | [ner_deid_nameAugmented_pipeline_v3](https://nlp.johnsnowlabs.com/2025/03/25/ner_deid_nameAugmented_pipeline_v3_en.html) | en |\n",
    "| 29 | [ner_deid_subentity_docwise_augmented_pipeline_v2](https://nlp.johnsnowlabs.com/2025/03/24/ner_deid_subentity_docwise_augmented_pipeline_v2_en.html) | en |\n",
    "| 30 | [ner_deid_generic_docwise](https://nlp.johnsnowlabs.com/2024/10/24/ner_deid_generic_docwise_de.html) | de |\n",
    "| 31 | [ner_deid_subentity_langtest](https://nlp.johnsnowlabs.com/2024/10/24/ner_deid_subentity_langtest_de.html) | de |"
   ]
  },
  {
   "cell_type": "code",
   "execution_count": 0,
   "metadata": {
    "application/vnd.databricks.v1+cell": {
     "cellMetadata": {
      "byteLimit": 2048000,
      "rowLimit": 10000
     },
     "inputWidgets": {},
     "nuid": "a1a5cab6-1c51-48e4-91f0-625ce68c0781",
     "showTitle": false,
     "tableResultSettingsMap": {},
     "title": ""
    },
    "colab": {
     "base_uri": "https://localhost:8080/"
    },
    "executionInfo": {
     "elapsed": 167848,
     "status": "ok",
     "timestamp": 1707941229430,
     "user": {
      "displayName": "Akar Öztürk",
      "userId": "07602883577262601067"
     },
     "user_tz": -60
    },
    "id": "sc2H51JE1772",
    "outputId": "9b525b79-04c9-4086-e035-5f5c95311ff7"
   },
   "outputs": [
    {
     "output_type": "stream",
     "name": "stdout",
     "output_type": "stream",
     "text": [
      "clinical_deidentification_multi_mode_output download started this may take some time.\nApprox size to download 1.6 GB\n\r[ | ]\r[ / ]\r[ — ]\r[ \\ ]\r[ | ]\r[ / ]\r[ — ]\r[ \\ ]\r[ | ]\r[ / ]\r[ — ]\r[ \\ ]\r[ | ]\r[ / ]\r[ — ]\r[ \\ ]\r[ | ]\r[ / ]\r[ — ]\r[ \\ ]\r[OK!]\n"
     ]
    }
   ],
   "source": [
    "deid_pipeline = nlp.PretrainedPipeline(\"clinical_deidentification_multi_mode_output\", \"en\", \"clinical/models\")"
   ]
  },
  {
   "cell_type": "code",
   "execution_count": 0,
   "metadata": {
    "application/vnd.databricks.v1+cell": {
     "cellMetadata": {
      "byteLimit": 2048000,
      "rowLimit": 10000
     },
     "inputWidgets": {},
     "nuid": "ef4ce9ed-b553-4a5f-8005-c6634cfa3c36",
     "showTitle": false,
     "tableResultSettingsMap": {},
     "title": ""
    },
    "id": "HCHWGek717-1"
   },
   "outputs": [],
   "source": [
    "deid_res = deid_pipeline.annotate(\"Record date : 2093-01-13 , David Hale , M.D .  Name : Hendrickson , Ora MR 25 years-old . # 719435 Date : 01/13/93 . Signed by Oliveira Sander . Record date : 2079-11-09 . Cocke County Baptist Hospital . 0295 Keats Street. Phone 302-786-5227.\")"
   ]
  },
  {
   "cell_type": "code",
   "execution_count": 0,
   "metadata": {
    "application/vnd.databricks.v1+cell": {
     "cellMetadata": {
      "byteLimit": 2048000,
      "rowLimit": 10000
     },
     "inputWidgets": {},
     "nuid": "d57084ad-b514-4d68-aaed-046aa346e634",
     "showTitle": false,
     "tableResultSettingsMap": {},
     "title": ""
    },
    "colab": {
     "base_uri": "https://localhost:8080/"
    },
    "executionInfo": {
     "elapsed": 16,
     "status": "ok",
     "timestamp": 1707941233573,
     "user": {
      "displayName": "Akar Öztürk",
      "userId": "07602883577262601067"
     },
     "user_tz": -60
    },
    "id": "4jM0JvmE18B5",
    "outputId": "22eb93ac-e134-4abd-e12e-2948b703cae1"
   },
   "outputs": [
    {
     "output_type": "execute_result",
     "data": {
      "text/plain": [
       "dict_keys(['masked', 'obfuscated', 'ner_chunk', 'masked_fixed_length_chars', 'sentence', 'masked_with_chars'])"
      ]
     },
     "execution_count": 55,
     "metadata": {},
     "output_type": "execute_result"
    }
   ],
   "source": [
    "deid_res.keys()"
   ]
  },
  {
   "cell_type": "code",
   "execution_count": 0,
   "metadata": {
    "application/vnd.databricks.v1+cell": {
     "cellMetadata": {
      "byteLimit": 2048000,
      "rowLimit": 10000
     },
     "inputWidgets": {},
     "nuid": "dd65f139-f867-45c9-8e46-682d72f27a92",
     "showTitle": false,
     "tableResultSettingsMap": {},
     "title": ""
    },
    "colab": {
     "base_uri": "https://localhost:8080/",
     "height": 477
    },
    "executionInfo": {
     "elapsed": 14,
     "status": "ok",
     "timestamp": 1707941233573,
     "user": {
      "displayName": "Akar Öztürk",
      "userId": "07602883577262601067"
     },
     "user_tz": -60
    },
    "id": "eAnS6Cc418GO",
    "outputId": "30edeea0-f14f-4182-f206-140479503302"
   },
   "outputs": [
    {
     "output_type": "execute_result",
     "data": {
      "text/html": [
       "<div>\n",
       "<style scoped>\n",
       "    .dataframe tbody tr th:only-of-type {\n",
       "        vertical-align: middle;\n",
       "    }\n",
       "\n",
       "    .dataframe tbody tr th {\n",
       "        vertical-align: top;\n",
       "    }\n",
       "\n",
       "    .dataframe thead th {\n",
       "        text-align: right;\n",
       "    }\n",
       "</style>\n",
       "<table border=\"1\" class=\"dataframe\">\n",
       "  <thead>\n",
       "    <tr style=\"text-align: right;\">\n",
       "      <th></th>\n",
       "      <th>Sentence</th>\n",
       "      <th>Masked</th>\n",
       "      <th>Masked with Chars</th>\n",
       "      <th>Masked with Fixed Chars</th>\n",
       "      <th>Obfuscated</th>\n",
       "    </tr>\n",
       "  </thead>\n",
       "  <tbody>\n",
       "    <tr>\n",
       "      <th>0</th>\n",
       "      <td>Record date : 2093-01-13 , David Hale , M.D .</td>\n",
       "      <td>Record date : &lt;DATE&gt; , &lt;DOCTOR&gt; , M.D .</td>\n",
       "      <td>Record date : [********] , [********] , M.D .</td>\n",
       "      <td>Record date : **** , **** , M.D .</td>\n",
       "      <td>Record date : 2093-02-02 , Chaney Hal , M.D .</td>\n",
       "    </tr>\n",
       "    <tr>\n",
       "      <th>1</th>\n",
       "      <td>Name : Hendrickson , Ora MR 25 years-old .</td>\n",
       "      <td>Name : &lt;PATIENT&gt; MR &lt;AGE&gt; years-old .</td>\n",
       "      <td>Name : [***************] MR ** years-old .</td>\n",
       "      <td>Name : **** MR **** years-old .</td>\n",
       "      <td>Name : Liz Blackbird MR 22 years-old .</td>\n",
       "    </tr>\n",
       "    <tr>\n",
       "      <th>2</th>\n",
       "      <td># 719435 Date : 01/13/93 .</td>\n",
       "      <td># &lt;PHONE&gt; Date : &lt;DATE&gt; .</td>\n",
       "      <td># [****] Date : [******] .</td>\n",
       "      <td># **** Date : **** .</td>\n",
       "      <td># 640582 Date : 02/02/93 .</td>\n",
       "    </tr>\n",
       "    <tr>\n",
       "      <th>3</th>\n",
       "      <td>Signed by Oliveira Sander .</td>\n",
       "      <td>Signed by &lt;DOCTOR&gt; .</td>\n",
       "      <td>Signed by [*************] .</td>\n",
       "      <td>Signed by **** .</td>\n",
       "      <td>Signed by Rubie Rile .</td>\n",
       "    </tr>\n",
       "    <tr>\n",
       "      <th>4</th>\n",
       "      <td>Record date : 2079-11-09 .</td>\n",
       "      <td>Record date : &lt;DATE&gt; .</td>\n",
       "      <td>Record date : [********] .</td>\n",
       "      <td>Record date : **** .</td>\n",
       "      <td>Record date : 2079-11-29 .</td>\n",
       "    </tr>\n",
       "    <tr>\n",
       "      <th>5</th>\n",
       "      <td>Cocke County Baptist Hospital . 0295 Keats Street.</td>\n",
       "      <td>&lt;HOSPITAL&gt; . &lt;STREET&gt;.</td>\n",
       "      <td>[***************************] . [***************].</td>\n",
       "      <td>**** . ****.</td>\n",
       "      <td>Manhattan Psychiatric Center . 5050 County Road 472.</td>\n",
       "    </tr>\n",
       "    <tr>\n",
       "      <th>6</th>\n",
       "      <td>Phone 302-786-5227.</td>\n",
       "      <td>Phone &lt;PHONE&gt;.</td>\n",
       "      <td>Phone [**********].</td>\n",
       "      <td>Phone ****.</td>\n",
       "      <td>Phone 871-639-2116.</td>\n",
       "    </tr>\n",
       "  </tbody>\n",
       "</table>\n",
       "</div>"
      ],
      "text/plain": [
       "                                             Sentence                                   Masked                                   Masked with Chars            Masked with Fixed Chars                                            Obfuscated\n",
       "0       Record date : 2093-01-13 , David Hale , M.D .  Record date : <DATE> , <DOCTOR> , M.D .       Record date : [********] , [********] , M.D .  Record date : **** , **** , M.D .         Record date : 2093-02-02 , Chaney Hal , M.D .\n",
       "1          Name : Hendrickson , Ora MR 25 years-old .    Name : <PATIENT> MR <AGE> years-old .          Name : [***************] MR ** years-old .    Name : **** MR **** years-old .                Name : Liz Blackbird MR 22 years-old .\n",
       "2                          # 719435 Date : 01/13/93 .                # <PHONE> Date : <DATE> .                          # [****] Date : [******] .               # **** Date : **** .                            # 640582 Date : 02/02/93 .\n",
       "3                         Signed by Oliveira Sander .                     Signed by <DOCTOR> .                         Signed by [*************] .                   Signed by **** .                                Signed by Rubie Rile .\n",
       "4                          Record date : 2079-11-09 .                   Record date : <DATE> .                          Record date : [********] .               Record date : **** .                            Record date : 2079-11-29 .\n",
       "5  Cocke County Baptist Hospital . 0295 Keats Street.                   <HOSPITAL> . <STREET>.  [***************************] . [***************].                       **** . ****.  Manhattan Psychiatric Center . 5050 County Road 472.\n",
       "6                                 Phone 302-786-5227.                           Phone <PHONE>.                                 Phone [**********].                        Phone ****.                                   Phone 871-639-2116."
      ]
     },
     "execution_count": 56,
     "metadata": {},
     "output_type": "execute_result"
    }
   ],
   "source": [
    "pd.set_option(\"display.max_colwidth\", 100)\n",
    "\n",
    "df= pd.DataFrame(list(zip(deid_res[\"sentence\"],\n",
    "                          deid_res[\"masked\"],\n",
    "                          deid_res[\"masked_with_chars\"],\n",
    "                          deid_res[\"masked_fixed_length_chars\"],\n",
    "                          deid_res[\"obfuscated\"])),\n",
    "                 columns= [\"Sentence\", \"Masked\", \"Masked with Chars\", \"Masked with Fixed Chars\", \"Obfuscated\"])\n",
    "\n",
    "df"
   ]
  },
  {
   "cell_type": "markdown",
   "metadata": {
    "application/vnd.databricks.v1+cell": {
     "cellMetadata": {
      "byteLimit": 2048000,
      "rowLimit": 10000
     },
     "inputWidgets": {},
     "nuid": "ee6ecda3-a7a6-4d9b-995b-d93fb52ba23e",
     "showTitle": false,
     "tableResultSettingsMap": {},
     "title": ""
    },
    "id": "we4BG36TDBBQ"
   },
   "source": [
    "## NER Pipelines"
   ]
  },
  {
   "cell_type": "markdown",
   "metadata": {
    "application/vnd.databricks.v1+cell": {
     "cellMetadata": {
      "byteLimit": 2048000,
      "rowLimit": 10000
     },
     "inputWidgets": {},
     "nuid": "0a5dbae9-74f3-44e0-af7c-652ad53e44fd",
     "showTitle": false,
     "tableResultSettingsMap": {},
     "title": ""
    },
    "id": "_dWNX1Npkv4P"
   },
   "source": [
    "**`NER pretrained ` Model List**\n",
    "\n",
    "|index|model|index|model|index|model|index|model|\n",
    "|-----:|:-----|-----:|:-----|-----:|:-----|-----:|:-----|\n",
    "| 1| [jsl_ner_wip_clinical_pipeline](https://nlp.johnsnowlabs.com/2022/03/21/jsl_ner_wip_clinical_pipeline_en_3_0.html) | 2| [jsl_ner_wip_greedy_biobert_pipeline](https://nlp.johnsnowlabs.com/2022/03/21/jsl_ner_wip_greedy_biobert_pipeline_en_3_0.html) | 3| [jsl_ner_wip_greedy_clinical_pipeline](https://nlp.johnsnowlabs.com/2022/03/21/jsl_ner_wip_greedy_clinical_pipeline_en_3_0.html) | 4| [jsl_ner_wip_modifier_clinical_pipeline](https://nlp.johnsnowlabs.com/2022/03/21/jsl_ner_wip_modifier_clinical_pipeline_en_3_0.html) |\n",
    "| 5| [jsl_rd_ner_wip_greedy_biobert_pipeline](https://nlp.johnsnowlabs.com/2022/03/21/jsl_rd_ner_wip_greedy_biobert_pipeline_en_3_0.html) | 6| [jsl_rd_ner_wip_greedy_clinical_pipeline](https://nlp.johnsnowlabs.com/2022/03/21/jsl_rd_ner_wip_greedy_clinical_pipeline_en_3_0.html) | 7| [ner_abbreviation_clinical_pipeline](https://nlp.johnsnowlabs.com/2022/03/21/ner_abbreviation_clinical_pipeline_en_3_0.html) | 8| [ner_ade_biobert_pipeline](https://nlp.johnsnowlabs.com/2022/03/21/ner_ade_biobert_pipeline_en_3_0.html) |\n",
    "| 9| [ner_ade_clinical_langtest_pipeline](https://nlp.johnsnowlabs.com/2023/09/09/ner_ade_clinical_langtest_pipeline_en.html) | 10| [ner_ade_clinical_pipeline](https://nlp.johnsnowlabs.com/2022/03/21/ner_ade_clinical_pipeline_en_3_0.html) | 11| [ner_ade_clinicalbert_pipeline](https://nlp.johnsnowlabs.com/2022/03/21/ner_ade_clinicalbert_pipeline_en_3_0.html) | 12| [ner_ade_healthcare_pipeline](https://nlp.johnsnowlabs.com/2022/03/22/ner_ade_healthcare_pipeline_en_3_0.html) |\n",
    "| 13| [ner_anatomy_biobert_pipeline](https://nlp.johnsnowlabs.com/2022/03/21/ner_anatomy_biobert_pipeline_en_3_0.html) | 14| [ner_anatomy_coarse_biobert_pipeline](https://nlp.johnsnowlabs.com/2022/03/21/ner_anatomy_coarse_biobert_pipeline_en_3_0.html) | 15| [ner_anatomy_coarse_pipeline](https://nlp.johnsnowlabs.com/2022/03/21/ner_anatomy_coarse_pipeline_en_3_0.html) | 16| [ner_anatomy_pipeline](https://nlp.johnsnowlabs.com/2022/03/21/ner_anatomy_pipeline_en_3_0.html) |\n",
    "| 17| [ner_bacterial_species_pipeline](https://nlp.johnsnowlabs.com/2022/03/21/ner_bacterial_species_pipeline_en_3_0.html) | 18| [ner_biomarker_pipeline](https://nlp.johnsnowlabs.com/2022/03/21/ner_biomarker_pipeline_en_3_0.html) | 19| [ner_biomedical_bc2gm_pipeline](https://nlp.johnsnowlabs.com/2023/03/14/ner_biomedical_bc2gm_pipeline_en.html) | 20| [ner_bionlp_biobert_pipeline](https://nlp.johnsnowlabs.com/2022/03/21/ner_bionlp_biobert_pipeline_en_3_0.html) |\n",
    "| 21| [ner_bionlp_pipeline](https://nlp.johnsnowlabs.com/2022/03/21/ner_bionlp_pipeline_en_3_0.html) | 22| [ner_cancer_genetics_pipeline](https://nlp.johnsnowlabs.com/2022/03/21/ner_cancer_genetics_pipeline_en_3_0.html) | 23| [ner_cellular_biobert_pipeline](https://nlp.johnsnowlabs.com/2022/03/21/ner_cellular_biobert_pipeline_en_3_0.html) | 24| [ner_cellular_pipeline](https://nlp.johnsnowlabs.com/2022/03/21/ner_cellular_pipeline_en_3_0.html) |\n",
    "| 25| [ner_chemd_clinical_pipeline](https://nlp.johnsnowlabs.com/2023/03/14/ner_chemd_clinical_pipeline_en.html) | 26| [ner_chemicals_pipeline](https://nlp.johnsnowlabs.com/2022/03/21/ner_chemicals_pipeline_en_3_0.html) | 27| [ner_chemprot_biobert_pipeline](https://nlp.johnsnowlabs.com/2022/03/21/ner_chemprot_biobert_pipeline_en_3_0.html) | 28| [ner_chemprot_clinical_pipeline](https://nlp.johnsnowlabs.com/2022/03/21/ner_chemprot_clinical_pipeline_en_3_0.html) |\n",
    "| 29| [ner_chexpert_pipeline](https://nlp.johnsnowlabs.com/2022/03/21/ner_chexpert_pipeline_en_3_0.html) | 30| [ner_clinical_bert_pipeline](https://nlp.johnsnowlabs.com/2023/03/09/ner_clinical_bert_pipeline_ro.html) | 31| [ner_clinical_biobert_pipeline](https://nlp.johnsnowlabs.com/2022/03/21/ner_clinical_biobert_pipeline_en_3_0.html) | 32| [ner_clinical_large_pipeline](https://nlp.johnsnowlabs.com/2022/03/21/ner_clinical_large_pipeline_en_3_0.html) |\n",
    "| 33| [ner_clinical_pipeline](https://nlp.johnsnowlabs.com/2023/09/02/ner_clinical_pipeline_es.html) | 34| [ner_clinical_trials_abstracts_pipeline](https://nlp.johnsnowlabs.com/2023/03/09/ner_clinical_trials_abstracts_pipeline_en.html) | 35| [ner_covid_trials_pipeline](https://nlp.johnsnowlabs.com/2023/03/09/ner_covid_trials_pipeline_en.html) | 36| [ner_diag_proc_pipeline](https://nlp.johnsnowlabs.com/2023/03/15/ner_diag_proc_pipeline_es.html) |\n",
    "| 37| [ner_diseases_biobert_pipeline](https://nlp.johnsnowlabs.com/2022/03/21/ner_diseases_biobert_pipeline_en_3_0.html) | 38| [ner_diseases_large_pipeline](https://nlp.johnsnowlabs.com/2022/03/21/ner_diseases_large_pipeline_en_3_0.html) | 39| [ner_diseases_pipeline](https://nlp.johnsnowlabs.com/2022/03/21/ner_diseases_pipeline_en_3_0.html) | 40| [ner_drugprot_clinical_pipeline](https://nlp.johnsnowlabs.com/2022/03/21/ner_drugprot_clinical_pipeline_en_3_0.html) |\n",
    "| 41| [ner_drugs_greedy_pipeline](https://nlp.johnsnowlabs.com/2022/03/21/ner_drugs_greedy_pipeline_en_3_0.html) | 42| [ner_drugs_large_pipeline](https://nlp.johnsnowlabs.com/2022/03/21/ner_drugs_large_pipeline_en_3_0.html) | 43| [ner_drugs_pipeline](https://nlp.johnsnowlabs.com/2022/03/21/ner_drugs_pipeline_en_3_0.html) | 44| [ner_eu_clinical_case_pipeline](https://nlp.johnsnowlabs.com/2023/03/08/ner_eu_clinical_case_pipeline_en.html) |\n",
    "| 45| [ner_eu_clinical_condition_pipeline](https://nlp.johnsnowlabs.com/2023/03/08/ner_eu_clinical_condition_pipeline_es.html) | 46| [ner_events_admission_clinical_pipeline](https://nlp.johnsnowlabs.com/2022/03/21/ner_events_admission_clinical_pipeline_en_3_0.html) | 47| [ner_events_biobert_pipeline](https://nlp.johnsnowlabs.com/2022/03/21/ner_events_biobert_pipeline_en_3_0.html) | 48| [ner_events_clinical_langtest_pipeline](https://nlp.johnsnowlabs.com/2023/09/09/ner_events_clinical_langtest_pipeline_en.html) |\n",
    "| 49| [ner_events_clinical_pipeline](https://nlp.johnsnowlabs.com/2022/03/21/ner_events_clinical_pipeline_en_3_0.html) | 50| [ner_events_healthcare_pipeline](https://nlp.johnsnowlabs.com/2022/03/22/ner_events_healthcare_pipeline_en_3_0.html) | 51| [ner_genetic_variants_pipeline](https://nlp.johnsnowlabs.com/2022/03/21/ner_genetic_variants_pipeline_en_3_0.html) | 52| [ner_healthcare_pipeline](https://nlp.johnsnowlabs.com/2022/03/22/ner_healthcare_pipeline_en_3_0.html) |\n",
    "| 53| [ner_healthcare_slim_pipeline](https://nlp.johnsnowlabs.com/2023/03/15/ner_healthcare_slim_pipeline_de.html) | 54| [ner_human_phenotype_gene_biobert_pipeline](https://nlp.johnsnowlabs.com/2022/03/21/ner_human_phenotype_gene_biobert_pipeline_en_3_0.html) | 55| [ner_human_phenotype_gene_clinical_pipeline](https://nlp.johnsnowlabs.com/2022/03/21/ner_human_phenotype_gene_clinical_pipeline_en_3_0.html) | 56| [ner_human_phenotype_go_biobert_pipeline](https://nlp.johnsnowlabs.com/2022/03/21/ner_human_phenotype_go_biobert_pipeline_en_3_0.html) |\n",
    "| 57| [ner_human_phenotype_go_clinical_pipeline](https://nlp.johnsnowlabs.com/2022/03/21/ner_human_phenotype_go_clinical_pipeline_en_3_0.html) | 58| [ner_jsl_biobert_pipeline](https://nlp.johnsnowlabs.com/2022/03/21/ner_jsl_biobert_pipeline_en_3_0.html) | 59| [ner_jsl_enriched_biobert_pipeline](https://nlp.johnsnowlabs.com/2022/03/21/ner_jsl_enriched_biobert_pipeline_en_3_0.html) | 60| [ner_jsl_enriched_pipeline](https://nlp.johnsnowlabs.com/2022/03/21/ner_jsl_enriched_pipeline_en_3_0.html) |\n",
    "| 61| [ner_jsl_greedy_biobert_pipeline](https://nlp.johnsnowlabs.com/2022/03/21/ner_jsl_greedy_biobert_pipeline_en_3_0.html) | 62| [ner_jsl_greedy_pipeline](https://nlp.johnsnowlabs.com/2022/03/21/ner_jsl_greedy_pipeline_en_3_0.html) | 63| [ner_jsl_langtest_pipeline](https://nlp.johnsnowlabs.com/2023/09/09/ner_jsl_langtest_pipeline_en.html) | 64| [ner_jsl_pipeline](https://nlp.johnsnowlabs.com/2022/03/21/ner_jsl_pipeline_en_3_0.html) |\n",
    "| 65| [ner_jsl_slim_pipeline](https://nlp.johnsnowlabs.com/2022/03/21/ner_jsl_slim_pipeline_en_3_0.html) | 66| [ner_living_species_300_pipeline](https://nlp.johnsnowlabs.com/2023/03/09/ner_living_species_300_pipeline_es.html) | 67| [ner_living_species_bert_pipeline](https://nlp.johnsnowlabs.com/2023/03/13/ner_living_species_bert_pipeline_es.html) | 68| [ner_living_species_biobert_pipeline](https://nlp.johnsnowlabs.com/2023/03/20/ner_living_species_biobert_pipeline_en.html) |\n",
    "| 69| [ner_living_species_pipeline](https://nlp.johnsnowlabs.com/2023/03/13/ner_living_species_pipeline_en.html) | 70| [ner_living_species_roberta_pipeline](https://nlp.johnsnowlabs.com/2023/03/13/ner_living_species_roberta_pipeline_es.html) | 71| [ner_measurements_clinical_pipeline](https://nlp.johnsnowlabs.com/2022/03/21/ner_measurements_clinical_pipeline_en_3_0.html) | 72| [ner_medication_pipeline](https://nlp.johnsnowlabs.com/2023/06/17/ner_medication_pipeline_en.html) |\n",
    "| 73| [ner_medmentions_coarse_pipeline](https://nlp.johnsnowlabs.com/2022/03/21/ner_medmentions_coarse_pipeline_en_3_0.html) | 74| [ner_nature_nero_clinical_pipeline](https://nlp.johnsnowlabs.com/2023/03/14/ner_nature_nero_clinical_pipeline_en.html) | 75| [ner_negation_uncertainty_pipeline](https://nlp.johnsnowlabs.com/2023/03/09/ner_negation_uncertainty_pipeline_es.html) | 76| [ner_neoplasms_pipeline](https://nlp.johnsnowlabs.com/2023/03/15/ner_neoplasms_pipeline_es.html) |\n",
    "| 77| [ner_nihss_pipeline](https://nlp.johnsnowlabs.com/2022/03/21/ner_nihss_pipeline_en_3_0.html) | 78| [ner_oncology_anatomy_general_healthcare_pipeline](https://nlp.johnsnowlabs.com/2023/03/08/ner_oncology_anatomy_general_healthcare_pipeline_en.html) | 79| [ner_oncology_anatomy_general_langtest_pipeline](https://nlp.johnsnowlabs.com/2023/09/09/ner_oncology_anatomy_general_langtest_pipeline_en.html) | 80| [ner_oncology_anatomy_general_pipeline](https://nlp.johnsnowlabs.com/2023/03/08/ner_oncology_anatomy_general_pipeline_en.html) |\n",
    "| 81| [ner_oncology_anatomy_granular_langtest_pipeline](https://nlp.johnsnowlabs.com/2023/09/09/ner_oncology_anatomy_granular_langtest_pipeline_en.html) | 82| [ner_oncology_anatomy_granular_pipeline](https://nlp.johnsnowlabs.com/2023/03/08/ner_oncology_anatomy_granular_pipeline_en.html) | 83| [ner_oncology_biomarker_healthcare_pipeline](https://nlp.johnsnowlabs.com/2023/03/08/ner_oncology_biomarker_healthcare_pipeline_en.html) | 84| [ner_oncology_biomarker_pipeline](https://nlp.johnsnowlabs.com/2023/03/09/ner_oncology_biomarker_pipeline_en.html) |\n",
    "| 85| [ner_oncology_demographics_langtest_pipeline](https://nlp.johnsnowlabs.com/2023/09/09/ner_oncology_demographics_langtest_pipeline_en.html) | 86| [ner_oncology_demographics_pipeline](https://nlp.johnsnowlabs.com/2023/03/09/ner_oncology_demographics_pipeline_en.html) | 87| [ner_oncology_diagnosis_pipeline](https://nlp.johnsnowlabs.com/2023/03/09/ner_oncology_diagnosis_pipeline_en.html) | 88| [ner_oncology_pipeline](https://nlp.johnsnowlabs.com/2023/03/08/ner_oncology_pipeline_en.html) |\n",
    "| 89| [ner_oncology_posology_langtest_pipeline](https://nlp.johnsnowlabs.com/2023/09/09/ner_oncology_posology_langtest_pipeline_en.html) | 90| [ner_oncology_posology_pipeline](https://nlp.johnsnowlabs.com/2023/03/08/ner_oncology_posology_pipeline_en.html) | 91| [ner_oncology_response_to_treatment_langtest_pipeline](https://nlp.johnsnowlabs.com/2023/09/09/ner_oncology_response_to_treatment_langtest_pipeline_en.html) | 92| [ner_oncology_response_to_treatment_pipeline](https://nlp.johnsnowlabs.com/2023/03/09/ner_oncology_response_to_treatment_pipeline_en.html) |\n",
    "| 93| [ner_oncology_risk_pipeline](https://nlp.johnsnowlabs.com/2023/03/08/ner_oncology_risk_pipeline_en.html) | 94| [ner_oncology_treatment_healthcare_pipeline](https://nlp.johnsnowlabs.com/2023/03/09/ner_oncology_treatment_healthcare_pipeline_en.html) | 95| [ner_oncology_treatment_pipeline](https://nlp.johnsnowlabs.com/2023/03/09/ner_oncology_treatment_pipeline_en.html) | 96| [ner_posology_pipeline](https://nlp.johnsnowlabs.com/2023/03/09/ner_posology_pipeline_es.html) |\n",
    "| 97| [ner_procedure_clinical_pipeline](https://nlp.johnsnowlabs.com/2022/03/21/ner_procedure_clinical_pipeline_en_3_0.html) | 98| [ner_procedure_healthcare_pipeline](https://nlp.johnsnowlabs.com/2022/03/22/ner_procedure_healthcare_pipeline_en_3_0.html) | 99| [ner_procedure_large_pipeline](https://nlp.johnsnowlabs.com/2022/03/21/ner_procedure_large_pipeline_en_3_0.html) | 100| [ner_procedure_pipeline](https://nlp.johnsnowlabs.com/2023/03/15/ner_procedure_pipeline_es.html) |\n",
    "| 101| [ner_protein_biobert_pipeline](https://nlp.johnsnowlabs.com/2022/03/21/ner_protein_biobert_pipeline_en_3_0.html) | 102| [ner_protein_biomedical_pipeline](https://nlp.johnsnowlabs.com/2022/03/21/ner_protein_biomedical_pipeline_en_3_0.html) | 103| [ner_protein_pipeline](https://nlp.johnsnowlabs.com/2022/03/21/ner_protein_pipeline_en_3_0.html) | 104| [ner_protein_secondary_pipeline](https://nlp.johnsnowlabs.com/2022/03/21/ner_protein_secondary_pipeline_en_3_0.html) |\n",
    "| 105| [ner_proteins_pipeline](https://nlp.johnsnowlabs.com/2022/03/21/ner_proteins_pipeline_en_3_0.html) | 106| [ner_risk_factors_pipeline](https://nlp.johnsnowlabs.com/2022/03/22/ner_risk_factors_pipeline_en_3_0.html) | 107| [ner_rxnorm_pipeline](https://nlp.johnsnowlabs.com/2022/03/22/ner_rxnorm_pipeline_en_3_0.html) | 108| [ner_sdoh_biobert_pipeline](https://nlp.johnsnowlabs.com/2023/06/17/ner_sdoh_biobert_pipeline_en.html) |\n",
    "| 109| [ner_sdoh_demographic_pipeline](https://nlp.johnsnowlabs.com/2023/06/17/ner_sdoh_demographic_pipeline_en.html) | 110| [ner_sdoh_diet_pipeline](https://nlp.johnsnowlabs.com/2023/06/17/ner_sdoh_diet_pipeline_en.html) | 111| [ner_sdoh_housing_pipeline](https://nlp.johnsnowlabs.com/2023/06/17/ner_sdoh_housing_pipeline_en.html) | 112| [ner_sdoh_langtest_pipeline](https://nlp.johnsnowlabs.com/2023/09/09/ner_sdoh_langtest_pipeline_en.html) |\n",
    "| 113| [ner_sdoh_mentions_pipeline](https://nlp.johnsnowlabs.com/2023/06/17/ner_sdoh_mentions_pipeline_en.html) | 114| [ner_sdoh_mentions_pipeline](https://nlp.johnsnowlabs.com/2023/03/08/ner_sdoh_mentions_pipeline_en.html) | 115| [ner_supplement_clinical_pipeline](https://nlp.johnsnowlabs.com/2023/03/14/ner_supplement_clinical_pipeline_en.html) | 116| [ner_supplement_pipeline](https://nlp.johnsnowlabs.com/2023/03/13/ner_supplement_pipeline_en.html) |\n",
    "| 117| [ner_symptoms_biobert_pipeline](https://nlp.johnsnowlabs.com/2022/03/22/ner_symptoms_biobert_pipeline_en_3_0.html) | 118| [ner_symptoms_clinical_pipeline](https://nlp.johnsnowlabs.com/2022/03/22/ner_symptoms_clinical_pipeline_en_3_0.html) | 119| [ner_symptoms_healthcare_pipeline](https://nlp.johnsnowlabs.com/2022/03/22/ner_symptoms_healthcare_pipeline_en_3_0.html) | 120| [ner_symptoms_large_pipeline](https://nlp.johnsnowlabs.com/2022/03/22/ner_symptoms_large_pipeline_en_3_0.html) |\n",
    "| 121| [ner_vop_problem_pipeline](https://nlp.johnsnowlabs.com/2023/06/22/ner_vop_problem_pipeline_en.html) | 122| [ner_vop_problem_reduced_pipeline](https://nlp.johnsnowlabs.com/2023/06/22/ner_vop_problem_reduced_pipeline_en.html) | 123| [ner_vop_temporal_pipeline](https://nlp.johnsnowlabs.com/2023/06/22/ner_vop_temporal_pipeline_en.html) | 124| [ner_vop_test_pipeline](https://nlp.johnsnowlabs.com/2023/06/22/ner_vop_test_pipeline_en.html) |\n",
    "| 125| [ner_vop_treatment_pipeline](https://nlp.johnsnowlabs.com/2023/06/22/ner_vop_treatment_pipeline_en.html) | 126| [ner_vaccine_types_pipeline](https://nlp.johnsnowlabs.com/2025/07/14/ner_vaccine_types_pipeline_en.html) | 127| [ner_admission_discharge_benchmark_pipeline](https://nlp.johnsnowlabs.com/2025/03/27/ner_admission_discharge_benchmark_pipeline_en.html) | 128| [ner_body_part_benchmark_pipeline](https://nlp.johnsnowlabs.com/2025/03/27/ner_body_part_benchmark_pipeline_en.html) |\n",
    "| 129| [ner_drug_benchmark_pipeline](https://nlp.johnsnowlabs.com/2025/03/27/ner_drug_benchmark_pipeline_en.html) | 130| [ner_procedure_benchmark_pipeline](https://nlp.johnsnowlabs.com/2025/03/27/ner_procedure_benchmark_pipeline_en.html) | 131| [ner_test_benchmark_pipeline](https://nlp.johnsnowlabs.com/2025/03/27/ner_test_benchmark_pipeline_en.html) | 132| [ner_treatment_benchmark_pipeline](https://nlp.johnsnowlabs.com/2025/03/27/ner_treatment_benchmark_pipeline_en.html) |133| [ner_consumption_benchmark_pipeline](https://nlp.johnsnowlabs.com/2025/03/28/ner_consumption_benchmark_pipeline_en.html) |134| [ner_grade_stage_severity_benchmark_pipeline](https://nlp.johnsnowlabs.com/2025/03/28/ner_grade_stage_severity_benchmark_pipeline_en.html) |135| [ner_problem_benchmark_pipeline](https://nlp.johnsnowlabs.com/2025/03/28/ner_problem_benchmark_pipeline_en.html) |136| [ner_docwise_benchmark_medium](https://nlp.johnsnowlabs.com/2025/07/31/ner_docwise_benchmark_medium_en.html) |\n",
    "|137| [ner_docwise_benchmark_large](https://nlp.johnsnowlabs.com/2025/07/31/ner_docwise_benchmark_large_en.html) |138| [ner_atc_pipeline](https://nlp.johnsnowlabs.com/2025/06/24/ner_atc_pipeline_en.html) |139| [ner_hcc_pipeline](https://nlp.johnsnowlabs.com/2025/06/24/ner_hcc_pipeline_en.html) |140| [ner_icd10cm_pipeline](https://nlp.johnsnowlabs.com/2025/06/24/ner_icd10cm_pipeline_en.html) |\n",
    "|141| [ner_cpt_pipeline](https://nlp.johnsnowlabs.com/2025/06/24/ner_cpt_pipeline_en.html) |142| [ner_hgnc_pipeline](https://nlp.johnsnowlabs.com/2025/06/24/ner_hgnc_pipeline_en.html) |143| [ner_icd10pcs_pipeline](https://nlp.johnsnowlabs.com/2025/06/24/ner_icd10pcs_pipeline_en.html) |144| [ner_icdo_pipeline](https://nlp.johnsnowlabs.com/2025/06/24/ner_icdo_pipeline_en.html) |\n",
    "|145| [ner_loinc_pipeline](https://nlp.johnsnowlabs.com/2025/06/24/ner_loinc_pipeline_en.html) |146| [ner_mesh_pipeline](https://nlp.johnsnowlabs.com/2025/06/24/ner_mesh_pipeline_en.html) |147| [ner_ncit_pipeline](https://nlp.johnsnowlabs.com/2025/06/24/ner_ncit_pipeline_en.html) |148| [ner_ndc_pipeline](https://nlp.johnsnowlabs.com/2025/06/24/ner_ndc_pipeline_en.html) |\n",
    "|149| [ner_rxcui_pipeline](https://nlp.johnsnowlabs.com/2025/06/24/ner_rxcui_pipeline_en.html) |150| [ner_rxnorm_pipeline](https://nlp.johnsnowlabs.com/2025/06/24/ner_rxnorm_pipeline_en.html) |151| [ner_hcpcs_pipeline](https://nlp.johnsnowlabs.com/2025/06/25/ner_hcpcs_pipeline_en.html) |152| [ner_hpo_pipeline](https://nlp.johnsnowlabs.com/2025/06/25/ner_hpo_pipeline_en.html) |\n",
    "|153| [ner_meddra_llt_pipeline](https://nlp.johnsnowlabs.com/2025/06/25/ner_meddra_llt_pipeline_en.html) |154| [ner_meddra_pt_pipeline](https://nlp.johnsnowlabs.com/2025/06/25/ner_meddra_pt_pipeline_en.html) |155| [ner_snomed_auxConcepts_findings_pipeline](https://nlp.johnsnowlabs.com/2025/06/25/ner_snomed_auxConcepts_findings_pipeline_en.html) |156| [ner_snomed_auxConcepts_pipeline](https://nlp.johnsnowlabs.com/2025/06/25/ner_snomed_auxConcepts_pipeline_en.html) |\n",
    "|157| [ner_snomed_bodyStructure_pipeline](https://nlp.johnsnowlabs.com/2025/06/25/ner_snomed_bodyStructure_pipeline_en.html) |158| [ner_snomed_conditions_pipeline](https://nlp.johnsnowlabs.com/2025/06/25/ner_snomed_conditions_pipeline_en.html) |159| [ner_snomed_drug_pipeline](https://nlp.johnsnowlabs.com/2025/06/25/ner_snomed_drug_pipeline_en.html) |160| [ner_snomed_findings_pipeline](https://nlp.johnsnowlabs.com/2025/06/25/ner_snomed_findings_pipeline_en.html) |\n",
    "|161| [ner_snomed_procedures_measurements_pipeline](https://nlp.johnsnowlabs.com/2025/06/25/ner_snomed_procedures_measurements_pipeline_en.html) |162| [ner_snomed_term_pipeline](https://nlp.johnsnowlabs.com/2025/06/25/ner_snomed_term_pipeline_en.html) |163| [ner_umls_clinical_drugs_pipeline](https://nlp.johnsnowlabs.com/2025/06/25/ner_umls_clinical_drugs_pipeline_en.html) |164| [ner_umls_clinical_findings_pipeline](https://nlp.johnsnowlabs.com/2025/06/25/ner_umls_clinical_findings_pipeline_en.html) |\n",
    "|165| [ner_umls_disease_syndrome_pipeline](https://nlp.johnsnowlabs.com/2025/06/25/ner_umls_disease_syndrome_pipeline_en.html) |166| [ner_umls_drug_substance_pipeline](https://nlp.johnsnowlabs.com/2025/06/25/ner_umls_drug_substance_pipeline_en.html) |167| [ner_umls_major_concepts_pipeline](https://nlp.johnsnowlabs.com/2025/06/25/ner_umls_major_concepts_pipeline_en.html) |168| [ner_ade_age_meddra_test_pipeline](https://nlp.johnsnowlabs.com/2025/06/29/ner_ade_age_meddra_test_pipeline_en.html) |\n"
   ]
  },
  {
   "cell_type": "markdown",
   "metadata": {
    "application/vnd.databricks.v1+cell": {
     "cellMetadata": {
      "byteLimit": 2048000,
      "rowLimit": 10000
     },
     "inputWidgets": {},
     "nuid": "931d294a-4cee-446f-843d-a55406b4190c",
     "showTitle": false,
     "tableResultSettingsMap": {},
     "title": ""
    },
    "id": "Oa9dLHDeEinJ"
   },
   "source": [
    "**Let's show an example of `ner_jsl_pipeline` can label clinical entities with about 80 different labels.**"
   ]
  },
  {
   "cell_type": "code",
   "execution_count": 0,
   "metadata": {
    "application/vnd.databricks.v1+cell": {
     "cellMetadata": {
      "byteLimit": 2048000,
      "rowLimit": 10000
     },
     "inputWidgets": {},
     "nuid": "d7423c77-85eb-4350-8091-296bfb0e2408",
     "showTitle": false,
     "tableResultSettingsMap": {},
     "title": ""
    },
    "colab": {
     "base_uri": "https://localhost:8080/"
    },
    "executionInfo": {
     "elapsed": 152976,
     "status": "ok",
     "timestamp": 1707941386536,
     "user": {
      "displayName": "Akar Öztürk",
      "userId": "07602883577262601067"
     },
     "user_tz": -60
    },
    "id": "ElYiCaKCJiEw",
    "outputId": "e4033d11-f08d-48b4-bc68-9728da2552c3"
   },
   "outputs": [
    {
     "output_type": "stream",
     "name": "stdout",
     "output_type": "stream",
     "text": [
      "ner_jsl_pipeline download started this may take some time.\nApprox size to download 1.6 GB\n\r[ | ]\r[ / ]\r[ — ]\r[ \\ ]\r[ | ]\r[ / ]\r[OK!]\n"
     ]
    }
   ],
   "source": [
    "ner_pipeline = nlp.PretrainedPipeline('ner_jsl_pipeline', 'en', 'clinical/models')"
   ]
  },
  {
   "cell_type": "code",
   "execution_count": 0,
   "metadata": {
    "application/vnd.databricks.v1+cell": {
     "cellMetadata": {
      "byteLimit": 2048000,
      "rowLimit": 10000
     },
     "inputWidgets": {},
     "nuid": "2365bdb5-282b-47a9-8b65-59db09581bc4",
     "showTitle": false,
     "tableResultSettingsMap": {},
     "title": ""
    },
    "colab": {
     "base_uri": "https://localhost:8080/"
    },
    "executionInfo": {
     "elapsed": 12,
     "status": "ok",
     "timestamp": 1707941386536,
     "user": {
      "displayName": "Akar Öztürk",
      "userId": "07602883577262601067"
     },
     "user_tz": -60
    },
    "id": "WgUtLMViW4F8",
    "outputId": "59b40d02-7f5b-4beb-dd9d-cd86e7d4de59"
   },
   "outputs": [
    {
     "output_type": "execute_result",
     "data": {
      "text/plain": [
       "[DocumentAssembler_cefadf0e0f93,\n",
       " SentenceDetectorDLModel_c83c27f46b97,\n",
       " REGEX_TOKENIZER_cef816a12166,\n",
       " WORD_EMBEDDINGS_MODEL_9004b1d00302,\n",
       " MedicalNerModel_c89cbceb1028,\n",
       " NER_CONVERTER_42a801d9e143]"
      ]
     },
     "execution_count": 58,
     "metadata": {},
     "output_type": "execute_result"
    }
   ],
   "source": [
    "ner_pipeline.model.stages"
   ]
  },
  {
   "cell_type": "code",
   "execution_count": 0,
   "metadata": {
    "application/vnd.databricks.v1+cell": {
     "cellMetadata": {
      "byteLimit": 2048000,
      "rowLimit": 10000
     },
     "inputWidgets": {},
     "nuid": "c5503ccc-5120-4659-ba07-9cbc8e3fb65a",
     "showTitle": false,
     "tableResultSettingsMap": {},
     "title": ""
    },
    "id": "TWhy_jhAJiCS"
   },
   "outputs": [],
   "source": [
    "text = \"\"\"A 28-year-old female with a history of gestational diabetes mellitus diagnosed eight years prior to presentation and subsequent type two diabetes mellitus ( T2DM ), one prior episode of HTG-induced pancreatitis three years prior to presentation , associated with an acute hepatitis , and obesity with a body mass index ( BMI ) of 33.5 kg/m2 , presented with a one-week history of polyuria , polydipsia , poor appetite , and vomiting .\n",
    "Two weeks prior to presentation , she was treated with a five-day course of amoxicillin for a respiratory tract infection . She was on metformin , glipizide , and dapagliflozin for T2DM and atorvastatin and gemfibrozil for HTG . She had been on dapagliflozin for six months at the time of presentation . Physical examination on presentation was significant for dry oral mucosa ; significantly , her abdominal examination was benign with no tenderness , guarding , or rigidity .\n",
    "Pertinent laboratory findings on admission were : serum glucose 111 mg/dl , bicarbonate 18 mmol/l , anion gap 20 , creatinine 0.4 mg/dL , triglycerides 508 mg/dL , total cholesterol 122 mg/dL , glycated hemoglobin ( HbA1c ) 10% , and venous pH 7.27 . Serum lipase was normal at 43 U/L . Serum acetone levels could not be assessed as blood samples kept hemolyzing due to significant lipemia .\n",
    "The patient was initially admitted for starvation ketosis , as she reported poor oral intake for three days prior to admission . However , serum chemistry obtained six hours after presentation revealed her glucose was 186 mg/dL , the anion gap was still elevated at 21 , serum bicarbonate was 16 mmol/L , triglyceride level peaked at 2050 mg/dL , and lipase was 52 U/L .\n",
    "The β-hydroxybutyrate level was obtained and found to be elevated at 5.29 mmol/L - the original sample was centrifuged and the chylomicron layer removed prior to analysis due to interference from turbidity caused by lipemia again . The patient was treated with an insulin drip for euDKA and HTG with a reduction in the anion gap to 13 and triglycerides to 1400 mg/dL , within 24 hours .\n",
    "Her euDKA was thought to be precipitated by her respiratory tract infection in the setting of SGLT2 inhibitor use . The patient was seen by the endocrinology service and she was discharged on 40 units of insulin glargine at night , 12 units of insulin lispro with meals , and metformin 1000 mg two times a day .\n",
    "It was determined that all SGLT2 inhibitors should be discontinued indefinitely . She had close follow-up with endocrinology post discharge .\"\"\"\n",
    "\n",
    "greedy_result = ner_pipeline.fullAnnotate(text)[0]"
   ]
  },
  {
   "cell_type": "code",
   "execution_count": 0,
   "metadata": {
    "application/vnd.databricks.v1+cell": {
     "cellMetadata": {
      "byteLimit": 2048000,
      "rowLimit": 10000
     },
     "inputWidgets": {},
     "nuid": "736a21e0-6311-466f-8867-85c5233db227",
     "showTitle": false,
     "tableResultSettingsMap": {},
     "title": ""
    },
    "colab": {
     "base_uri": "https://localhost:8080/"
    },
    "executionInfo": {
     "elapsed": 15,
     "status": "ok",
     "timestamp": 1707941391374,
     "user": {
      "displayName": "Akar Öztürk",
      "userId": "07602883577262601067"
     },
     "user_tz": -60
    },
    "id": "mYTauVMrYXWy",
    "outputId": "df5bf3fe-af7a-4ebb-c831-ad987852c74a"
   },
   "outputs": [
    {
     "output_type": "execute_result",
     "data": {
      "text/plain": [
       "dict_keys(['document', 'ner_chunk', 'token', 'ner', 'embeddings', 'sentence'])"
      ]
     },
     "execution_count": 60,
     "metadata": {},
     "output_type": "execute_result"
    }
   ],
   "source": [
    "greedy_result.keys()"
   ]
  },
  {
   "cell_type": "code",
   "execution_count": 0,
   "metadata": {
    "application/vnd.databricks.v1+cell": {
     "cellMetadata": {
      "byteLimit": 2048000,
      "rowLimit": 10000
     },
     "inputWidgets": {},
     "nuid": "76c348ab-7306-4750-8860-522422a295df",
     "showTitle": false,
     "tableResultSettingsMap": {},
     "title": ""
    },
    "colab": {
     "base_uri": "https://localhost:8080/",
     "height": 423
    },
    "executionInfo": {
     "elapsed": 15,
     "status": "ok",
     "timestamp": 1707941391375,
     "user": {
      "displayName": "Akar Öztürk",
      "userId": "07602883577262601067"
     },
     "user_tz": -60
    },
    "id": "SLVEyNtOJh_v",
    "outputId": "03346010-898c-4a47-80cc-4a1472883e6c"
   },
   "outputs": [
    {
     "output_type": "execute_result",
     "data": {
      "text/html": [
       "<div>\n",
       "<style scoped>\n",
       "    .dataframe tbody tr th:only-of-type {\n",
       "        vertical-align: middle;\n",
       "    }\n",
       "\n",
       "    .dataframe tbody tr th {\n",
       "        vertical-align: top;\n",
       "    }\n",
       "\n",
       "    .dataframe thead th {\n",
       "        text-align: right;\n",
       "    }\n",
       "</style>\n",
       "<table border=\"1\" class=\"dataframe\">\n",
       "  <thead>\n",
       "    <tr style=\"text-align: right;\">\n",
       "      <th></th>\n",
       "      <th>chunks</th>\n",
       "      <th>begin</th>\n",
       "      <th>end</th>\n",
       "      <th>entities</th>\n",
       "    </tr>\n",
       "  </thead>\n",
       "  <tbody>\n",
       "    <tr>\n",
       "      <th>0</th>\n",
       "      <td>28-year-old</td>\n",
       "      <td>2</td>\n",
       "      <td>12</td>\n",
       "      <td>Age</td>\n",
       "    </tr>\n",
       "    <tr>\n",
       "      <th>1</th>\n",
       "      <td>female</td>\n",
       "      <td>14</td>\n",
       "      <td>19</td>\n",
       "      <td>Gender</td>\n",
       "    </tr>\n",
       "    <tr>\n",
       "      <th>2</th>\n",
       "      <td>gestational diabetes mellitus</td>\n",
       "      <td>39</td>\n",
       "      <td>67</td>\n",
       "      <td>Diabetes</td>\n",
       "    </tr>\n",
       "    <tr>\n",
       "      <th>3</th>\n",
       "      <td>eight years prior</td>\n",
       "      <td>79</td>\n",
       "      <td>95</td>\n",
       "      <td>RelativeDate</td>\n",
       "    </tr>\n",
       "    <tr>\n",
       "      <th>4</th>\n",
       "      <td>type two diabetes mellitus</td>\n",
       "      <td>128</td>\n",
       "      <td>153</td>\n",
       "      <td>Diabetes</td>\n",
       "    </tr>\n",
       "    <tr>\n",
       "      <th>...</th>\n",
       "      <td>...</td>\n",
       "      <td>...</td>\n",
       "      <td>...</td>\n",
       "      <td>...</td>\n",
       "    </tr>\n",
       "    <tr>\n",
       "      <th>116</th>\n",
       "      <td>two times a day</td>\n",
       "      <td>2357</td>\n",
       "      <td>2371</td>\n",
       "      <td>Frequency</td>\n",
       "    </tr>\n",
       "    <tr>\n",
       "      <th>117</th>\n",
       "      <td>SGLT2 inhibitors</td>\n",
       "      <td>2402</td>\n",
       "      <td>2417</td>\n",
       "      <td>Drug_Ingredient</td>\n",
       "    </tr>\n",
       "    <tr>\n",
       "      <th>118</th>\n",
       "      <td>She</td>\n",
       "      <td>2457</td>\n",
       "      <td>2459</td>\n",
       "      <td>Gender</td>\n",
       "    </tr>\n",
       "    <tr>\n",
       "      <th>119</th>\n",
       "      <td>endocrinology</td>\n",
       "      <td>2486</td>\n",
       "      <td>2498</td>\n",
       "      <td>Clinical_Dept</td>\n",
       "    </tr>\n",
       "    <tr>\n",
       "      <th>120</th>\n",
       "      <td>discharge</td>\n",
       "      <td>2505</td>\n",
       "      <td>2513</td>\n",
       "      <td>Admission_Discharge</td>\n",
       "    </tr>\n",
       "  </tbody>\n",
       "</table>\n",
       "<p>121 rows × 4 columns</p>\n",
       "</div>"
      ],
      "text/plain": [
       "                            chunks  begin   end             entities\n",
       "0                      28-year-old      2    12                  Age\n",
       "1                           female     14    19               Gender\n",
       "2    gestational diabetes mellitus     39    67             Diabetes\n",
       "3                eight years prior     79    95         RelativeDate\n",
       "4       type two diabetes mellitus    128   153             Diabetes\n",
       "..                             ...    ...   ...                  ...\n",
       "116                two times a day   2357  2371            Frequency\n",
       "117               SGLT2 inhibitors   2402  2417      Drug_Ingredient\n",
       "118                            She   2457  2459               Gender\n",
       "119                  endocrinology   2486  2498        Clinical_Dept\n",
       "120                      discharge   2505  2513  Admission_Discharge\n",
       "\n",
       "[121 rows x 4 columns]"
      ]
     },
     "execution_count": 61,
     "metadata": {},
     "output_type": "execute_result"
    }
   ],
   "source": [
    "import pandas as pd\n",
    "\n",
    "chunks=[]\n",
    "entities=[]\n",
    "begins=[]\n",
    "ends=[]\n",
    "\n",
    "for n in greedy_result['ner_chunk']:\n",
    "\n",
    "    chunks.append(n.result)\n",
    "    begins.append(n.begin)\n",
    "    ends.append(n.end)\n",
    "    entities.append(n.metadata['entity'])\n",
    "\n",
    "df = pd.DataFrame({'chunks':chunks, 'begin':begins, 'end':ends, 'entities':entities})\n",
    "\n",
    "df"
   ]
  },
  {
   "cell_type": "markdown",
   "metadata": {
    "application/vnd.databricks.v1+cell": {
     "cellMetadata": {
      "byteLimit": 2048000,
      "rowLimit": 10000
     },
     "inputWidgets": {},
     "nuid": "949998d0-9b90-4a9d-b02c-669027bd86f4",
     "showTitle": false,
     "tableResultSettingsMap": {},
     "title": ""
    },
    "id": "K9H6QZZdcNXH"
   },
   "source": [
    "## Bert Based NER Pipelines\n"
   ]
  },
  {
   "cell_type": "markdown",
   "metadata": {
    "application/vnd.databricks.v1+cell": {
     "cellMetadata": {
      "byteLimit": 2048000,
      "rowLimit": 10000
     },
     "inputWidgets": {},
     "nuid": "ad84a86f-960e-40bc-bd16-bdf94304d3e8",
     "showTitle": false,
     "tableResultSettingsMap": {},
     "title": ""
    },
    "id": "T8uB2IfRHYZ3"
   },
   "source": [
    "**`bert token classification pretrained ` Pipeline List**\n",
    "\n",
    "| Index | Model | Index | Model | Index | Model | Index | Model |\n",
    "|------:|:------|------:|:------|------:|:------|------:|:------|\n",
    "| 1 | [bert_token_classifier_ade_tweet_binary_pipeline](https://nlp.johnsnowlabs.com/2023/03/20/bert_token_classifier_ade_tweet_binary_pipeline_en.html) | 2 | [bert_token_classifier_disease_mentions_tweet_pipeline](https://nlp.johnsnowlabs.com/2023/03/20/bert_token_classifier_disease_mentions_tweet_pipeline_es.html) | 3 | [bert_token_classifier_ner_jsl](https://nlp.johnsnowlabs.com/2021/08/28/bert_token_classifier_ner_jsl_en.html) | 4 | [bert_token_classifier_drug_development_trials_pipeline](https://nlp.johnsnowlabs.com/2022/03/23/bert_token_classifier_drug_development_trials_pipeline_en_3_0.html) |\n",
    "| 5 | [bert_token_classifier_dutch_udlassy_ner_pipeline](https://nlp.johnsnowlabs.com/2022/04/19/bert_token_classifier_dutch_udlassy_ner_pipeline_nl_3_0.html) | 6 | [bert_token_classifier_hi_en_ner_pipeline](https://nlp.johnsnowlabs.com/2022/03/22/bert_token_classifier_hi_en_ner_pipeline_hi_3_0.html) | 7 | [bert_token_classifier_negation_uncertainty_pipeline](https://nlp.johnsnowlabs.com/2023/03/20/bert_token_classifier_negation_uncertainty_pipeline_es.html) | 8 | [bert_token_classifier_ner_ade_binary_pipeline](https://nlp.johnsnowlabs.com/2023/03/20/bert_token_classifier_ner_ade_binary_pipeline_en.html) |\n",
    "| 9 | [bert_token_classifier_ner_ade_pipeline](https://nlp.johnsnowlabs.com/2022/03/21/bert_token_classifier_ner_ade_pipeline_en_3_0.html) | 10 | [bert_token_classifier_ner_anatem_pipeline](https://nlp.johnsnowlabs.com/2023/03/20/bert_token_classifier_ner_anatem_pipeline_en.html) | 11 | [bert_token_classifier_ner_anatomy_pipeline](https://nlp.johnsnowlabs.com/2022/03/21/bert_token_classifier_ner_anatomy_pipeline_en_3_0.html) | 12 | [bert_token_classifier_ner_bacteria_pipeline](https://nlp.johnsnowlabs.com/2022/03/21/bert_token_classifier_ner_bacteria_pipeline_en_3_0.html) |\n",
    "| 13 | [bert_token_classifier_ner_bc2gm_gene_pipeline](https://nlp.johnsnowlabs.com/2023/03/20/bert_token_classifier_ner_bc2gm_gene_pipeline_en.html) | 14 | [bert_token_classifier_ner_bc4chemd_chemicals_pipeline](https://nlp.johnsnowlabs.com/2023/03/20/bert_token_classifier_ner_bc4chemd_chemicals_pipeline_en.html) | 15 | [bert_token_classifier_ner_bc5cdr_chemicals_pipeline](https://nlp.johnsnowlabs.com/2023/03/20/bert_token_classifier_ner_bc5cdr_chemicals_pipeline_en.html) | 16 | [bert_token_classifier_ner_bc5cdr_disease_pipeline](https://nlp.johnsnowlabs.com/2023/03/20/bert_token_classifier_ner_bc5cdr_disease_pipeline_en.html) |\n",
    "| 17 | [bert_token_classifier_ner_bionlp_pipeline](https://nlp.johnsnowlabs.com/2022/03/21/bert_token_classifier_ner_bionlp_pipeline_en_3_0.html) | 18 | [bert_token_classifier_ner_cellular_pipeline](https://nlp.johnsnowlabs.com/2022/03/09/bert_token_classifier_ner_cellular_pipeline_en_3_0.html) | 19 | [bert_token_classifier_ner_chemicals_pipeline](https://nlp.johnsnowlabs.com/2022/03/14/bert_token_classifier_ner_chemicals_pipeline_en_2_4.html) | 20 | [bert_token_classifier_ner_chemprot_pipeline](https://nlp.johnsnowlabs.com/2022/03/15/bert_token_classifier_ner_chemprot_pipeline_en_2_4.html) |\n",
    "| 21 | [bert_token_classifier_ner_clinical_pipeline](https://nlp.johnsnowlabs.com/2022/03/15/bert_token_classifier_ner_clinical_pipeline_en_2_4.html) | 22 | [bert_token_classifier_ner_clinical_trials_abstracts_pipeline](https://nlp.johnsnowlabs.com/2023/03/20/bert_token_classifier_ner_clinical_trials_abstracts_pipeline_en.html) | 23 | [bert_token_classifier_ner_deid_pipeline](https://nlp.johnsnowlabs.com/2022/03/21/bert_token_classifier_ner_deid_pipeline_en_3_0.html) | 24 | [bert_token_classifier_drug_development_trials](https://nlp.johnsnowlabs.com/2021/12/17/bert_token_classifier_drug_development_trials_en.html) |\n",
    "| 25 | [bert_token_classifier_ner_drugs_pipeline](https://nlp.johnsnowlabs.com/2022/03/21/bert_token_classifier_ner_drugs_pipeline_en_3_0.html) | 26 | [bert_token_classifier_ner_jnlpba_cellular_pipeline](https://nlp.johnsnowlabs.com/2023/03/20/bert_token_classifier_ner_jnlpba_cellular_pipeline_en.html) | 27 | [bert_token_classifier_ner_jsl_pipeline](https://nlp.johnsnowlabs.com/2022/03/23/bert_token_classifier_ner_jsl_pipeline_en_3_0.html) | 28 | [bert_token_classifier_ner_jsl_slim_pipeline](https://nlp.johnsnowlabs.com/2022/03/21/bert_token_classifier_ner_jsl_slim_pipeline_en_3_0.html) |\n",
    "| 29 | [bert_token_classifier_ner_linnaeus_species_pipeline](https://nlp.johnsnowlabs.com/2023/03/20/bert_token_classifier_ner_linnaeus_species_pipeline_en.html) | 30 | [bert_token_classifier_ner_living_species_pipeline](https://nlp.johnsnowlabs.com/2023/03/20/bert_token_classifier_ner_living_species_pipeline_en.html) | 31 | [bert_token_classifier_ner_ncbi_disease_pipeline](https://nlp.johnsnowlabs.com/2023/03/20/bert_token_classifier_ner_ncbi_disease_pipeline_en.html) | 32 | [bert_token_classifier_ner_pathogen_pipeline](https://nlp.johnsnowlabs.com/2023/03/20/bert_token_classifier_ner_pathogen_pipeline_en.html) |\n",
    "| 33 | [bert_token_classifier_ner_species_pipeline](https://nlp.johnsnowlabs.com/2023/03/20/bert_token_classifier_ner_species_pipeline_en.html) | 34 | [bert_token_classifier_pharmacology_pipeline](https://nlp.johnsnowlabs.com/2023/03/20/bert_token_classifier_pharmacology_pipeline_es.html) | 35 | [bert_token_classifier_scandi_ner_pipeline](https://nlp.johnsnowlabs.com/2022/02/15/bert_token_classifier_scandi_ner_pipeline_xx.html) |   |   |\n"
   ]
  },
  {
   "cell_type": "markdown",
   "metadata": {
    "application/vnd.databricks.v1+cell": {
     "cellMetadata": {
      "byteLimit": 2048000,
      "rowLimit": 10000
     },
     "inputWidgets": {},
     "nuid": "e9c165a2-ecbc-4a74-b9bd-fd70f43b1b47",
     "showTitle": false,
     "tableResultSettingsMap": {},
     "title": ""
    },
    "id": "1Ly5RjJ8Gy6c"
   },
   "source": [
    "**Let's show an example of `bert_token_classifier_ner_drugs_pipeline` can extract `DRUG` entities in clinical texts.**"
   ]
  },
  {
   "cell_type": "code",
   "execution_count": 0,
   "metadata": {
    "application/vnd.databricks.v1+cell": {
     "cellMetadata": {
      "byteLimit": 2048000,
      "rowLimit": 10000
     },
     "inputWidgets": {},
     "nuid": "1227962c-0ceb-4c82-9256-b2133fb94118",
     "showTitle": false,
     "tableResultSettingsMap": {},
     "title": ""
    },
    "colab": {
     "base_uri": "https://localhost:8080/"
    },
    "executionInfo": {
     "elapsed": 44801,
     "status": "ok",
     "timestamp": 1707941436170,
     "user": {
      "displayName": "Akar Öztürk",
      "userId": "07602883577262601067"
     },
     "user_tz": -60
    },
    "id": "H6RziJjqcNXH",
    "outputId": "723a345a-fbf0-453d-b632-32866ff27152"
   },
   "outputs": [
    {
     "output_type": "stream",
     "name": "stdout",
     "output_type": "stream",
     "text": [
      "bert_token_classifier_ner_drugs_pipeline download started this may take some time.\nApprox size to download 386.1 MB\n\r[ | ]\r[ / ]\r[ — ]\r[ \\ ]\r[ | ]\r[ / ]\r[ — ]\r[ \\ ]\r[ | ]\r[ / ]\r[ — ]\r[OK!]\n"
     ]
    }
   ],
   "source": [
    "bert_token_pipeline = nlp.PretrainedPipeline(\"bert_token_classifier_ner_drugs_pipeline\", \"en\", \"clinical/models\")"
   ]
  },
  {
   "cell_type": "code",
   "execution_count": 0,
   "metadata": {
    "application/vnd.databricks.v1+cell": {
     "cellMetadata": {
      "byteLimit": 2048000,
      "rowLimit": 10000
     },
     "inputWidgets": {},
     "nuid": "8c51dbf3-0b08-45b0-99dc-bb608343e04e",
     "showTitle": false,
     "tableResultSettingsMap": {},
     "title": ""
    },
    "colab": {
     "base_uri": "https://localhost:8080/"
    },
    "executionInfo": {
     "elapsed": 13,
     "status": "ok",
     "timestamp": 1707941436171,
     "user": {
      "displayName": "Akar Öztürk",
      "userId": "07602883577262601067"
     },
     "user_tz": -60
    },
    "id": "I23XFfDccNXH",
    "outputId": "9704f6ef-f7f3-420e-da64-2e94d4779292"
   },
   "outputs": [
    {
     "output_type": "execute_result",
     "data": {
      "text/plain": [
       "[DocumentAssembler_fbb1736f8270,\n",
       " SentenceDetectorDLModel_8aaebf7e098e,\n",
       " REGEX_TOKENIZER_bd5df3943e2f,\n",
       " BERT_FOR_TOKEN_CLASSIFICATION_3fa6213c0542,\n",
       " NER_CONVERTER_70b935c1d6d8]"
      ]
     },
     "execution_count": 63,
     "metadata": {},
     "output_type": "execute_result"
    }
   ],
   "source": [
    "bert_token_pipeline.model.stages"
   ]
  },
  {
   "cell_type": "code",
   "execution_count": 0,
   "metadata": {
    "application/vnd.databricks.v1+cell": {
     "cellMetadata": {
      "byteLimit": 2048000,
      "rowLimit": 10000
     },
     "inputWidgets": {},
     "nuid": "ffe2b317-bd59-4e71-beb4-517d436fd433",
     "showTitle": false,
     "tableResultSettingsMap": {},
     "title": ""
    },
    "id": "WoldKg4mcNXH"
   },
   "outputs": [],
   "source": [
    "test_sentence = \"\"\"The human KCNJ9 (Kir 3.3, GIRK3) is a member of the G-protein-activated inwardly rectifying potassium (GIRK) channel family. Here we describe the genomicorganization of the KCNJ9 locus on chromosome 1q21-23 as a candidate gene forType II diabetes mellitus in the Pima Indian population. The gene spansapproximately 7.6 kb and contains one noncoding and two coding exons separated byapproximately 2.2 and approximately 2.6 kb introns, respectively. We identified14 single nucleotide polymorphisms (SNPs), including one that predicts aVal366Ala substitution, and an 8 base-pair (bp) insertion/deletion. Ourexpression studies revealed the presence of the transcript in various humantissues including pancreas, and two major insulin-responsive tissues: fat andskeletal muscle. The characterization of the KCNJ9 gene should facilitate furtherstudies on the function of the KCNJ9 protein and allow evaluation of thepotential role of the locus in Type II diabetes.BACKGROUND: At present, it is one of the most important issues for the treatment of breast cancer to develop the standard therapy for patients previously treated with anthracyclines and taxanes. With the objective of determining the usefulnessof vinorelbine monotherapy in patients with advanced or recurrent breast cancerafter standard therapy, we evaluated the efficacy and safety of vinorelbine inpatients previously treated with anthracyclines and taxanes.\"\"\"\n",
    "\n",
    "bert_result = bert_token_pipeline.fullAnnotate(test_sentence)[0]"
   ]
  },
  {
   "cell_type": "code",
   "execution_count": 0,
   "metadata": {
    "application/vnd.databricks.v1+cell": {
     "cellMetadata": {
      "byteLimit": 2048000,
      "rowLimit": 10000
     },
     "inputWidgets": {},
     "nuid": "a4a7cc07-b314-407a-b7b5-3b29b9351ba7",
     "showTitle": false,
     "tableResultSettingsMap": {},
     "title": ""
    },
    "colab": {
     "base_uri": "https://localhost:8080/"
    },
    "executionInfo": {
     "elapsed": 8,
     "status": "ok",
     "timestamp": 1707941438130,
     "user": {
      "displayName": "Akar Öztürk",
      "userId": "07602883577262601067"
     },
     "user_tz": -60
    },
    "id": "L88b673V3wat",
    "outputId": "a402d938-b16a-4a5b-fd14-46071f305018"
   },
   "outputs": [
    {
     "output_type": "execute_result",
     "data": {
      "text/plain": [
       "dict_keys(['document', 'ner_chunk', 'token', 'ner', 'sentence'])"
      ]
     },
     "execution_count": 65,
     "metadata": {},
     "output_type": "execute_result"
    }
   ],
   "source": [
    "bert_result.keys()"
   ]
  },
  {
   "cell_type": "code",
   "execution_count": 0,
   "metadata": {
    "application/vnd.databricks.v1+cell": {
     "cellMetadata": {
      "byteLimit": 2048000,
      "rowLimit": 10000
     },
     "inputWidgets": {},
     "nuid": "8d6a7d2f-9ff1-4a76-8279-7f0255d56b8f",
     "showTitle": false,
     "tableResultSettingsMap": {},
     "title": ""
    },
    "colab": {
     "base_uri": "https://localhost:8080/"
    },
    "executionInfo": {
     "elapsed": 8,
     "status": "ok",
     "timestamp": 1707941438131,
     "user": {
      "displayName": "Akar Öztürk",
      "userId": "07602883577262601067"
     },
     "user_tz": -60
    },
    "id": "_ljtOKsv3wdM",
    "outputId": "2600bf71-37fe-4be6-96a9-ee16f68463f8"
   },
   "outputs": [
    {
     "output_type": "execute_result",
     "data": {
      "text/plain": [
       "Annotation(chunk, 92, 100, potassium, {'entity': 'DrugChem', 'confidence': '0.99056387', 'ner_source': 'ner_chunk', 'chunk': '0', 'sentence': '0'}, [])"
      ]
     },
     "execution_count": 66,
     "metadata": {},
     "output_type": "execute_result"
    }
   ],
   "source": [
    "bert_result[\"ner_chunk\"][0]"
   ]
  },
  {
   "cell_type": "code",
   "execution_count": 0,
   "metadata": {
    "application/vnd.databricks.v1+cell": {
     "cellMetadata": {
      "byteLimit": 2048000,
      "rowLimit": 10000
     },
     "inputWidgets": {},
     "nuid": "a4f851d0-b761-44b0-acec-47f3f4aa2bf7",
     "showTitle": false,
     "tableResultSettingsMap": {},
     "title": ""
    },
    "colab": {
     "base_uri": "https://localhost:8080/",
     "height": 300
    },
    "executionInfo": {
     "elapsed": 6,
     "status": "ok",
     "timestamp": 1707941438131,
     "user": {
      "displayName": "Akar Öztürk",
      "userId": "07602883577262601067"
     },
     "user_tz": -60
    },
    "id": "be8n6mEB3wf9",
    "outputId": "52863807-c9bf-483c-90a6-50688ea8be37"
   },
   "outputs": [
    {
     "output_type": "execute_result",
     "data": {
      "text/html": [
       "<div>\n",
       "<style scoped>\n",
       "    .dataframe tbody tr th:only-of-type {\n",
       "        vertical-align: middle;\n",
       "    }\n",
       "\n",
       "    .dataframe tbody tr th {\n",
       "        vertical-align: top;\n",
       "    }\n",
       "\n",
       "    .dataframe thead th {\n",
       "        text-align: right;\n",
       "    }\n",
       "</style>\n",
       "<table border=\"1\" class=\"dataframe\">\n",
       "  <thead>\n",
       "    <tr style=\"text-align: right;\">\n",
       "      <th></th>\n",
       "      <th>chunks</th>\n",
       "      <th>begin</th>\n",
       "      <th>end</th>\n",
       "      <th>entities</th>\n",
       "    </tr>\n",
       "  </thead>\n",
       "  <tbody>\n",
       "    <tr>\n",
       "      <th>0</th>\n",
       "      <td>potassium</td>\n",
       "      <td>92</td>\n",
       "      <td>100</td>\n",
       "      <td>DrugChem</td>\n",
       "    </tr>\n",
       "    <tr>\n",
       "      <th>1</th>\n",
       "      <td>nucleotide</td>\n",
       "      <td>471</td>\n",
       "      <td>480</td>\n",
       "      <td>DrugChem</td>\n",
       "    </tr>\n",
       "    <tr>\n",
       "      <th>2</th>\n",
       "      <td>anthracyclines</td>\n",
       "      <td>1124</td>\n",
       "      <td>1137</td>\n",
       "      <td>DrugChem</td>\n",
       "    </tr>\n",
       "    <tr>\n",
       "      <th>3</th>\n",
       "      <td>taxanes</td>\n",
       "      <td>1143</td>\n",
       "      <td>1149</td>\n",
       "      <td>DrugChem</td>\n",
       "    </tr>\n",
       "    <tr>\n",
       "      <th>4</th>\n",
       "      <td>vinorelbine</td>\n",
       "      <td>1203</td>\n",
       "      <td>1213</td>\n",
       "      <td>DrugChem</td>\n",
       "    </tr>\n",
       "    <tr>\n",
       "      <th>5</th>\n",
       "      <td>vinorelbine</td>\n",
       "      <td>1343</td>\n",
       "      <td>1353</td>\n",
       "      <td>DrugChem</td>\n",
       "    </tr>\n",
       "    <tr>\n",
       "      <th>6</th>\n",
       "      <td>anthracyclines</td>\n",
       "      <td>1390</td>\n",
       "      <td>1403</td>\n",
       "      <td>DrugChem</td>\n",
       "    </tr>\n",
       "    <tr>\n",
       "      <th>7</th>\n",
       "      <td>taxanes</td>\n",
       "      <td>1409</td>\n",
       "      <td>1415</td>\n",
       "      <td>DrugChem</td>\n",
       "    </tr>\n",
       "  </tbody>\n",
       "</table>\n",
       "</div>"
      ],
      "text/plain": [
       "           chunks  begin   end  entities\n",
       "0       potassium     92   100  DrugChem\n",
       "1      nucleotide    471   480  DrugChem\n",
       "2  anthracyclines   1124  1137  DrugChem\n",
       "3         taxanes   1143  1149  DrugChem\n",
       "4     vinorelbine   1203  1213  DrugChem\n",
       "5     vinorelbine   1343  1353  DrugChem\n",
       "6  anthracyclines   1390  1403  DrugChem\n",
       "7         taxanes   1409  1415  DrugChem"
      ]
     },
     "execution_count": 67,
     "metadata": {},
     "output_type": "execute_result"
    }
   ],
   "source": [
    "import pandas as pd\n",
    "\n",
    "chunks=[]\n",
    "entities=[]\n",
    "begins=[]\n",
    "ends=[]\n",
    "\n",
    "for n in bert_result['ner_chunk']:\n",
    "\n",
    "    chunks.append(n.result)\n",
    "    begins.append(n.begin)\n",
    "    ends.append(n.end)\n",
    "    entities.append(n.metadata['entity'])\n",
    "\n",
    "df = pd.DataFrame({'chunks':chunks, 'begin':begins, 'end':ends, 'entities':entities})\n",
    "\n",
    "df"
   ]
  },
  {
   "cell_type": "markdown",
   "metadata": {
    "application/vnd.databricks.v1+cell": {
     "cellMetadata": {
      "byteLimit": 2048000,
      "rowLimit": 10000
     },
     "inputWidgets": {},
     "nuid": "6fa450de-3a72-4b19-8e6d-9a8f7cc27298",
     "showTitle": false,
     "tableResultSettingsMap": {},
     "title": ""
    },
    "id": "QBDG2m3z_A0M"
   },
   "source": [
    "## NER Profiling Pipelines\n",
    "\n",
    "We can use pretrained NER profiling pipelines for exploring all the available pretrained NER models at once. In Spark NLP we have two different NER profiling pipelines;\n",
    "\n",
    "- `ner_profiling_clinical` : Returns results for clinical NER models trained with `embeddings_clinical`.\n",
    "\n",
    "\n",
    "|| | | |\n",
    "|--------------|-----------------|-----------------|-----------------|\n",
    "| jsl_ner_wip_clinical | jsl_ner_wip_greedy_clinical | jsl_ner_wip_modifier_clinical | jsl_rd_ner_wip_greedy_clinical |\n",
    "| ner_abbreviation_clinical | ner_ade_binary | ner_ade_clinical | ner_anatomy |\n",
    "| ner_anatomy_coarse | ner_bacterial_species | ner_biomarker | ner_biomedical_bc2gm |\n",
    "| ner_bionlp | ner_cancer_genetics | ner_cellular | ner_chemd_clinical |\n",
    "| ner_chemicals | ner_chemprot_clinical | ner_chexpert | ner_clinical |\n",
    "| ner_clinical_large | ner_clinical_trials_abstracts | ner_covid_trials | ner_deid_augmented |\n",
    "| ner_deid_enriched | ner_deid_generic_augmented | ner_deid_large | ner_deid_sd |\n",
    "| ner_deid_sd_large | ner_deid_subentity_augmented | ner_deid_subentity_augmented_i2b2 | ner_deid_synthetic |\n",
    "| ner_deidentify_dl | ner_diseases | ner_diseases_large | ner_drugprot_clinical |\n",
    "| ner_drugs | ner_drugs_greedy | ner_drugs_large | ner_events_admission_clinical |\n",
    "| ner_events_clinical | ner_genetic_variants | ner_human_phenotype_gene_clinical | ner_human_phenotype_go_clinical |\n",
    "| ner_jsl | ner_jsl_enriched | ner_jsl_greedy | ner_jsl_slim |\n",
    "| ner_living_species | ner_measurements_clinical | ner_medmentions_coarse | ner_nature_nero_clinical |\n",
    "| ner_nihss | ner_pathogen | ner_posology | ner_posology_experimental |\n",
    "| ner_posology_greedy | ner_posology_large | ner_posology_small | ner_radiology |\n",
    "| ner_radiology_wip_clinical | ner_risk_factors | ner_supplement_clinical | nerdl_tumour_demo |\n",
    "\n",
    "\n",
    "\n",
    "\n",
    "- `ner_profiling_biobert` : Returns results for clinical NER models trained with `biobert_pubmed_base_cased`.\n",
    "\n",
    "| | |\n",
    "|-|-|\n",
    "| ner_cellular_biobert           | ner_clinical_biobert             |\n",
    "| ner_diseases_biobert           | ner_anatomy_coarse_biobert       |\n",
    "| ner_events_biobert             | ner_human_phenotype_gene_biobert |\n",
    "| ner_bionlp_biobert             | ner_posology_large_biobert       |\n",
    "| ner_jsl_greedy_biobert         | jsl_rd_ner_wip_greedy_biobert    |\n",
    "| ner_jsl_biobert                | ner_posology_biobert             |\n",
    "| ner_anatomy_biobert            | jsl_ner_wip_greedy_biobert       |\n",
    "| ner_jsl_enriched_biobert       | ner_chemprot_biobert             |\n",
    "| ner_human_phenotype_go_biobert | ner_ade_biobert                  |\n",
    "| ner_deid_biobert               | ner_risk_factors_biobert         |\n",
    "| ner_deid_enriched_biobert      | ner_living_species_biobert                                |\n",
    "\n",
    "\n",
    "- `ner_profiling_oncology` :This pipeline can be used to explore all the available pretrained NER models at once for Oncology. When you run this pipeline over your text, you will end up with the predictions coming out of each pretrained clinical NER model trained with embeddings_clinical\n",
    "\n",
    "\n",
    "|                 |                 |                 |                 |\n",
    "| --------------- | --------------- | --------------- | --------------- |\n",
    "| 1. ner_oncology_unspecific_posology      | 2. ner_oncology_tnm                      | 3. ner_oncology_therapy                  | 4. ner_oncology_test                     |\n",
    "| 5. ner_oncology_response_to_treatment    | 6. ner_oncology_posology                 | 7. ner_oncology                          | 8. ner_oncology_limited_80p_for_benchmarks|\n",
    "| 9. ner_oncology_diagnosis                | 10. ner_oncology_demographics             | 11. ner_oncology_biomarker                | 12. ner_oncology_anatomy_granular         |\n",
    "| 13. ner_oncology_anatomy_general          |                 |                 |                 |\n",
    "\n",
    "\n",
    "- `ner_profiling_vop` : This pipeline can be used to explore all the available pretrained NER models at once for Voice of Patients. When you run this pipeline over your text, you will end up with the predictions coming out of each pretrained clinical NER model trained with embeddings_clinical.\n",
    "\n",
    "\n",
    "|                 |                 |                 |                 |\n",
    "| --------------- | --------------- | --------------- | --------------- |\n",
    "| 1. ner_oncology_unspecific_posology         | 2. ner_oncology_tnm                       | 3. ner_oncology_therapy                   | 4. ner_oncology_test                      |\n",
    "| 5. ner_oncology_response_to_treatment       | 6. ner_oncology_posology                  | 7. ner_oncology                           | 8. ner_oncology_limited_80p_for_benchmarks |\n",
    "| 9. ner_oncology_diagnosis                   | 10. ner_oncology_demographics             | 11. ner_oncology_biomarker                | 12. ner_oncology_anatomy_granular          |\n",
    "| 13. ner_oncology_anatomy_general            |                                           |                                            |                                           |\n",
    "\n",
    "\n",
    "\n",
    "\n",
    "- `ner_profiling_sdoh` :This pipeline can be used to explore all the available pretrained NER models at once for Social Determinants of Health. When you run this pipeline over your text, you will end up with the predictions coming out of each pretrained clinical NER model trained with embeddings_clinical.\n",
    "\n",
    "|                 |                 |                 |                 |\n",
    "| --------------- | --------------- | --------------- | --------------- |\n",
    "| 1. ner_sdoh                                   | 2. ner_sdoh_social_environment_wip             | 3. ner_sdoh_mentions                             | 4. ner_sdoh_demographics_wip                    |\n",
    "| 5. ner_sdoh_community_condition_wip           | 6. ner_sdoh_substance_usage_wip                | 7. ner_sdoh_access_to_healthcare_wip            | 8. ner_sdoh_health_behaviours_problems_wip     |\n",
    "| 9. ner_sdoh_income_social_status_wip         |                                                 |                                                  |                                                  |\n",
    "\n",
    "\n",
    "For more examples, please check [this notebook](https://github.com/JohnSnowLabs/spark-nlp-workshop/blob/master/tutorials/Certification_Trainings/Healthcare/11.2.Pretrained_NER_Profiling_Pipelines.ipynb).\n",
    "\n",
    "\n",
    "\n",
    "\n",
    "\n"
   ]
  },
  {
   "cell_type": "markdown",
   "metadata": {
    "application/vnd.databricks.v1+cell": {
     "cellMetadata": {
      "byteLimit": 2048000,
      "rowLimit": 10000
     },
     "inputWidgets": {},
     "nuid": "a6a6ca4b-ae57-4887-84b3-62922535b6f4",
     "showTitle": false,
     "tableResultSettingsMap": {},
     "title": ""
    },
    "id": "wUoe5mEEO5Fv"
   },
   "source": [
    "\n",
    "\n",
    "You can check [Models Hub](https://nlp.johnsnowlabs.com/models) page for more information about all these models and more."
   ]
  },
  {
   "cell_type": "code",
   "execution_count": 0,
   "metadata": {
    "application/vnd.databricks.v1+cell": {
     "cellMetadata": {
      "byteLimit": 2048000,
      "rowLimit": 10000
     },
     "inputWidgets": {},
     "nuid": "bdbe4783-bcb0-4b8b-b92a-529c341822cb",
     "showTitle": false,
     "tableResultSettingsMap": {},
     "title": ""
    }
   },
   "outputs": [
    {
     "output_type": "stream",
     "name": "stdout",
     "output_type": "stream",
     "text": [
      "ner_profiling_clinical download started this may take some time.\nApprox size to download 3.6 GB\n\r[ | ]\r[ / ]\r[ — ]\r[ \\ ]\r[ | ]\r[ / ]\r[ — ]\r[ \\ ]\r[ | ]\r[ / ]\r[ — ]\r[ \\ ]\r[ | ]\r[ / ]\r[ — ]\r[ \\ ]\r[ | ]\r[ / ]\r[ — ]\r[ \\ ]\r[ | ]\r[ / ]\r[ — ]\r[ \\ ]\r[ | ]\r[ / ]\r[ — ]\r[ \\ ]\r[ | ]\r[ / ]\r[ — ]\r[ \\ ]\r[ | ]\r[ / ]\r[ — ]\r[ \\ ]\r[ | ]\r[ / ]\r[ — ]\r[ \\ ]\r[ | ]\r[ / ]\r[ — ]\r[ \\ ]\r[ | ]\r[ / ]\r[ — ]\r[ \\ ]\r[ | ]\r[ / ]\r[ — ]\r[ \\ ]\r[ | ]\r[ / ]\r[ — ]\r[ \\ ]\r[ | ]\r[ / ]\r[ — ]\r[ \\ ]\r[ | ]\r[ / ]\r[ — ]\r[ \\ ]\r[ | ]\r[ / ]\r[ — ]\r[ \\ ]\r[ | ]\r[ / ]\r[ — ]\r[ \\ ]\r[ | ]\r[ / ]\r[ — ]\r[ \\ ]\r[ | ]\r[ / ]\r[ — ]\r[ \\ ]\r[ | ]\r[ / ]\r[ — ]\r[ \\ ]\r[ | ]\r[ / ]\r[ — ]\r[ \\ ]\r[ | ]\r[ / ]\r[ — ]\r[ \\ ]\r[ | ]\r[ / ]\r[ — ]\r[ \\ ]\r[ | ]\r[ / ]\r[ — ]\r[ \\ ]\r[ | ]\r[ / ]\r[ — ]\r[ \\ ]\r[ | ]\r[ / ]\r[ — ]\r[ \\ ]\r[ | ]\r[ / ]\r[ — ]\r[ \\ ]\r[ | ]\r[ / ]\r[ — ]\r[ \\ ]\r[ | ]\r[ / ]\r[ — ]\r[ \\ ]\r[ | ]\r[ / ]\r[ — ]\r[ \\ ]\r[ | ]\r[ / ]\r[ — ]\r[ \\ ]\r[ | ]\r[ / ]\r[ — ]\r[ \\ ]\r[ | ]\r[ / ]\r[ — ]\r[ \\ ]\r[ | ]\r[ / ]\r[ — ]\r[ \\ ]\r[ | ]\r[ / ]\r[ — ]\r[ \\ ]\r[ | ]\r[ / ]\r[ — ]\r[ \\ ]\r[ | ]\r[ / ]\r[ — ]\r[ \\ ]\r[ | ]\r[ / ]\r[ — ]\r[ \\ ]\r[ | ]\r[ / ]\r[ — ]\r[ \\ ]\r[ | ]\r[ / ]\r[ — ]\r[ \\ ]\r[ | ]\r[ / ]\r[ — ]\r[ \\ ]\r[ | ]\r[ / ]\r[ — ]\r[ \\ ]\r[ | ]\r[ / ]\r[ — ]\r[ \\ ]\r[ | ]\r[ / ]\r[ — ]\r[ \\ ]\r[ | ]\r[ / ]\r[ — ]\r[ \\ ]\r[ | ]\r[ / ]\r[ — ]\r[ \\ ]\r[ | ]\r[ / ]\r[ — ]\r[ \\ ]\r[ | ]\r[ / ]\r[ — ]\r[ \\ ]\r[ | ]\r[ / ]\r[ — ]\r[ \\ ]\r[ | ]\r[ / ]\r[ — ]\r[ \\ ]\r[ | ]\r[ / ]\r[ — ]\r[ \\ ]\r[ | ]\r[ / ]\r[ — ]\r[ \\ ]\r[ | ]\r[ / ]\r[ — ]\r[ \\ ]\r[ | ]\r[ / ]\r[ — ]\r[ \\ ]\r[ | ]\r[ / ]\r[ — ]\r[ \\ ]\r[ | ]\r[ / ]\r[ — ]\r[ \\ ]\r[ | ]\r[ / ]\r[ — ]\r[ \\ ]\r[ | ]\r[ / ]\r[ — ]\r[ \\ ]\r[ | ]\r[ / ]\r[ — ]\r[ \\ ]\r[ | ]\r[ / ]\r[ — ]\r[ \\ ]\r[ | ]\r[ / ]\r[ — ]\r[ \\ ]\r[ | ]\r[ / ]\r[ — ]\r[ \\ ]\r[ | ]\r[ / ]\r[ — ]\r[ \\ ]\r[ | ]\r[ / ]\r[ — ]\r[ \\ ]\r[ | ]\r[ / ]\r[ — ]\r[ \\ ]\r[ | ]\r[ / ]\r[ — ]\r[ \\ ]\r[ | ]\r[ / ]\r[ — ]\r[ \\ ]\r[ | ]\r[ / ]\r[ — ]\r[ \\ ]\r[ | ]\r[ / ]\r[ — ]\r[ \\ ]\r[ | ]\r[ / ]\r[ — ]\r[ \\ ]\r[ | ]\r[ / ]\r[ — ]\r[ \\ ]\r[ | ]\r[ / ]\r[ — ]\r[ \\ ]\r[ | ]\r[ / ]\r[ — ]\r[ \\ ]\r[ | ]\r[ / ]\r[ — ]\r[ \\ ]\r[ | ]\r[ / ]\r[ — ]\r[ \\ ]\r[ | ]\r[ / ]\r[ — ]\r[ \\ ]\r[ | ]\r[ / ]\r[ — ]\r[ \\ ]\r[ | ]\r[ / ]\r[ — ]\r[ \\ ]\r[ | ]\r[ / ]\r[ — ]\r[ \\ ]\r[ | ]\r[ / ]\r[ — ]\r[ \\ ]\r[ | ]\r[ / ]\r[ — ]\r[ \\ ]\r[ | ]\r[ / ]\r[ — ]\r[ \\ ]\r[ | ]\r[ / ]\r[ — ]\r[ \\ ]\r[ | ]\r[ / ]\r[ — ]\r[ \\ ]\r[ | ]\r[ / ]\r[ — ]\r[ \\ ]\r[ | ]\r[ / ]\r[ — ]\r[ \\ ]\r[ | ]\r[ / ]\r[ — ]\r[ \\ ]\r[ | ]\r[ / ]\r[ — ]\r[ \\ ]\r[ | ]\r[ / ]\r[OK!]\n"
     ]
    }
   ],
   "source": [
    "clinical_profiling_pipeline = nlp.PretrainedPipeline(\"ner_profiling_clinical\", \"en\", \"clinical/models\")"
   ]
  },
  {
   "cell_type": "code",
   "execution_count": 0,
   "metadata": {
    "application/vnd.databricks.v1+cell": {
     "cellMetadata": {
      "byteLimit": 2048000,
      "rowLimit": 10000
     },
     "inputWidgets": {},
     "nuid": "f4c1f7bf-3e2a-456a-8b72-41a799bc6621",
     "showTitle": false,
     "tableResultSettingsMap": {},
     "title": ""
    }
   },
   "outputs": [],
   "source": [
    "text = '''A 28-year-old female with a history of gestational diabetes mellitus diagnosed eight years prior to presentation and subsequent type two diabetes mellitus ( T2DM ), one prior episode of HTG-induced pancreatitis three years prior to presentation , associated with an acute hepatitis , and obesity with a body mass index ( BMI ) of 33.5 kg/m2 , presented with a one-week history of polyuria , polydipsia , poor appetite , and vomiting .'''"
   ]
  },
  {
   "cell_type": "code",
   "execution_count": 0,
   "metadata": {
    "application/vnd.databricks.v1+cell": {
     "cellMetadata": {
      "byteLimit": 2048000,
      "rowLimit": 10000
     },
     "inputWidgets": {},
     "nuid": "118b60a6-7fd2-4a86-83ab-526376e7f118",
     "showTitle": false,
     "tableResultSettingsMap": {},
     "title": ""
    }
   },
   "outputs": [
    {
     "output_type": "execute_result",
     "data": {
      "text/plain": [
       "dict_keys(['ner_oncology_tnm_langtest', 'ner_ade_clinical_chunks', 'ner_deid_augmented', 'ner_deid_subentity_augmented_i2b2', 'ner_posology_greedy_chunks', 'ner_risk_factors_langtest_chunks', 'ner_sdoh_substance_usage_chunks', 'ner_sdoh_demographics_chunks', 'ner_vop_clinical_dept_langtest', 'ner_human_phenotype_gene_clinical_langtest_chunks', 'ner_clinical_abbreviation_langtest_chunks', 'ner_risk_factors_langtest', 'ner_radiology_wip_clinical', 'ner_deidentify_dl', 'ner_oncology_diagnosis_chunks', 'ner_vop_v2', 'ner_vop_treatment_langtest_chunks', 'ner_jsl_slim', 'ner_vop_anatomy_langtest_chunks', 'ner_vop_clinical_dept_chunks', 'ner_ade_clinical_langtest', 'ner_vop_langtest_chunks', 'ner_risk_factors_chunks', 'jsl_ner_wip_clinical_chunks', 'ner_deid_subentity_augmented_langtest', 'ner_oncology_unspecific_posology_chunks', 'ner_oncology_demographics_langtest_chunks', 'ner_eu_clinical_case_chunks', 'ner_deid_large_langtest_chunks', 'ner_oncology_test_chunks', 'ner_vop_demographic_chunks', 'ner_vop_anatomy_langtest', 'ner_deid_synthetic', 'ner_oncology_posology_chunks', 'ner_diseases_langtest', 'ner_oncology_tnm_chunks', 'ner_oncology_anatomy_general_chunks', 'ner_drugs_greedy', 'ner_opioid', 'ner_abbreviation_clinical_chunks', 'ner_covid_trials_chunks', 'ner_vop_chunks', 'ner_vop_test_langtest', 'ner_vop_clinical_dept', 'ner_human_phenotype_gene_clinical_chunks', 'ner_events_admission_clinical', 'jsl_ner_wip_greedy_clinical_chunks', 'ner_posology_greedy', 'ner_vop_problem_chunks', 'ner_cellular_chunks', 'ner_vop_temporal', 'ner_cancer_genetics_chunks', 'ner_biomedical_bc2gm_chunks', 'ner_deid_enriched_langtest_chunks', 'ner_sdoh_social_environment', 'ner_oncology', 'ner_jsl_greedy', 'jsl_ner_wip_modifier_clinical_chunks', 'ner_bionlp_langtest_chunks', 'ner_posology_langtest_chunks', 'ner_drugs_greedy_chunks', 'ner_eu_clinical_condition_langtest_chunks', 'ner_deid_subentity_augmented_langtest_chunks', 'ner_deid_sd_large_chunks', 'ner_diseases_chunks', 'ner_alcohol_smoking', 'ner_diseases_large', 'ner_chemprot_clinical', 'ner_events_clinical_langtest_chunks', 'ner_posology_large', 'ner_oncology_limited_80p_for_benchmarks_chunks', 'ner_oncology_anatomy_granular_langtest', 'ner_clinical_large_langtest', 'ner_jsl_limited_80p_for_benchmarks', 'nerdl_tumour_demo_chunks', 'ner_oncology_chunks', 'ner_deid_subentity_augmented_chunks', 'ner_sdoh_mentions_test', 'ner_vop_test', 'ner_vop', 'ner_clinical_abbreviation_langtest', 'ner_jsl_enriched_chunks', 'ner_oncology_langtest', 'ner_genetic_variants_chunks', 'ner_oncology_unspecific_posology_langtest_chunks', 'ner_clinical_large_langtest_chunks', 'ner_chexpert', 'ner_bionlp_chunks', 'ner_vop_problem_langtest_chunks', 'ner_vop_problem', 'ner_oncology_test_langtest_chunks', 'ner_eu_clinical_condition_chunks', 'ner_measurements_clinical_chunks', 'ner_section_header_diagnosis', 'ner_bionlp_langtest', 'ner_diseases_langtest_chunks', 'ner_diseases_large_chunks', 'ner_drugs_large', 'ner_oncology_response_to_treatment_langtest_chunks', 'ner_living_species_chunks', 'ner_vop_problem_reduced', 'ner_oncology_therapy_chunks', 'ner_clinical_large', 'ner_bacterial_species_langtest', 'ner_opioid_chunks', 'ner_chemicals', 'ner_radiology_chunks', 'ner_bacterial_species', 'ner_deid_large_langtest', 'ner_sdoh_langtest', 'ner_deid_generic_augmented_langtest_chunks', 'ner_deid_augmented_chunks', 'ner_bionlp', 'ner_drugprot_clinical', 'ner_oncology_unspecific_posology_langtest', 'ner_anatomy_chunks', 'ner_vop_treatment', 'ner_oncology_therapy_langtest', 'ner_deid_subentity_augmented_i2b2_chunks', 'ner_deid_large', 'jsl_ner_wip_modifier_clinical', 'ner_section_header_diagnosis_chunks', 'ner_vop_demographic_langtest', 'ner_chemprot_clinical_chunks', 'ner_eu_clinical_condition', 'nerdl_tumour_demo', 'ner_posology_experimental_chunks', 'ner_cancer_genetics', 'ner_vop_treatment_langtest', 'ner_biomarker', 'ner_drugprot_clinical_chunks', 'ner_chemprot_clinical_langtest', 'ner_sdoh_mentions', 'ner_posology_small', 'ner_vop_temporal_langtest_chunks', 'ner_oncology_biomarker_chunks', 'ner_drugs_chunks', 'ner_human_phenotype_go_clinical_langtest', 'ner_deid_sd_chunks', 'ner_chemd_clinical', 'ner_human_phenotype_gene_clinical', 'ner_sdoh_community_condition', 'ner_ade_clinical', 'ner_human_phenotype_go_clinical', 'ner_cellular_langtest', 'ner_snomed_term_chunks', 'ner_sdoh_core', 'ner_vop_problem_reduced_langtest_chunks', 'ner_sdoh_demographics', 'ner_sdoh_mentions_chunks', 'ner_risk_factors', 'ner_clinical', 'ner_sdoh', 'ner_posology_large_chunks', 'ner_jsl_limited_80p_for_benchmarks_chunks', 'ner_cellular', 'ner_nature_nero_clinical_chunks', 'ner_deid_large_chunks', 'ner_clinical_trials_abstracts_chunks', 'ner_biomarker_langtest', 'ner_ade_clinical_langtest_chunks', 'ner_sdoh_income_social_status_chunks', 'ner_deid_generic_augmented_chunks', 'ner_posology_chunks', 'ner_oncology_therapy_langtest_chunks', 'ner_oncology_anatomy_general', 'ner_vop_v2_chunks', 'ner_vop_demographic_langtest_chunks', 'ner_deidentify_dl_chunks', 'ner_biomarker_langtest_chunks', 'ner_events_clinical_langtest', 'ner_supplement_clinical_chunks', 'ner_vop_demographic', 'ner_eu_clinical_condition_langtest', 'ner_oncology_response_to_treatment_chunks', 'ner_oncology_posology_langtest', 'ner_deid_enriched_chunks', 'ner_chemd_clinical_chunks', 'ner_deid_sd_large', 'ner_vop_langtest', 'ner_oncology_biomarker', 'ner_deid_enriched_langtest', 'ner_oncology_biomarker_langtest_chunks', 'ner_deid_generic_augmented_allUpperCased_langtest_chunks', 'jsl_ner_wip_greedy_clinical', 'ner_cellular_langtest_chunks', 'ner_bacterial_species_chunks', 'ner_sdoh_langtest_chunks', 'ner_jsl_langtest', 'ner_living_species', 'ner_abbreviation_clinical', 'ner_oncology_test', 'ner_sdoh_access_to_healthcare', 'ner_diseases', 'jsl_rd_ner_wip_greedy_clinical', 'ner_oncology_response_to_treatment', 'ner_oncology_langtest_chunks', 'ner_drugs', 'ner_drugs_large_chunks', 'ner_snomed_term', 'ner_oncology_anatomy_general_langtest', 'ner_sdoh_health_behaviours_problems', 'ner_biomarker_chunks', 'ner_human_phenotype_go_clinical_langtest_chunks', 'ner_vop_problem_reduced_chunks', 'ner_clinical_trials_abstracts', 'ner_clinical_large_chunks', 'ner_vop_problem_langtest', 'ner_anatomy_coarse', 'ner_oncology_demographics_langtest', 'ner_nature_nero_clinical', 'ner_chemprot_clinical_langtest_chunks', 'token', 'ner_oncology_anatomy_granular', 'ner_medmentions_coarse', 'ner_oncology_therapy', 'ner_vop_test_langtest_chunks', 'ner_deid_sd', 'jsl_rd_ner_wip_greedy_clinical_chunks', 'ner_oncology_response_to_treatment_langtest', 'ner_clinical_langtest_chunks', 'ner_oncology_demographics', 'ner_deid_generic_augmented', 'ner_pathogen_chunks', 'ner_vop_clinical_dept_langtest_chunks', 'ner_medmentions_coarse_chunks', 'ner_anatomy', 'ner_jsl_langtest_chunks', 'ner_vop_test_chunks', 'ner_deid_enriched', 'ner_living_species_langtest', 'ner_oncology_posology_langtest_chunks', 'ner_deid_generic_augmented_langtest', 'ner_deid_subentity_augmented', 'ner_radiology_wip_clinical_chunks', 'ner_clinical_chunks', 'ner_oncology_diagnosis', 'ner_sdoh_chunks', 'ner_oncology_diagnosis_langtest', 'ner_oncology_limited_80p_for_benchmarks', 'ner_sdoh_substance_usage', 'ner_measurements_clinical', 'ner_menopause_core', 'ner_ade_binary', 'ner_oncology_diagnosis_langtest_chunks', 'ner_nihss', 'ner_chexpert_chunks', 'ner_sdoh_social_environment_chunks', 'ner_sdoh_community_condition_chunks', 'ner_chemicals_chunks', 'ner_pathogen', 'ner_vop_treatment_chunks', 'ner_oncology_demographics_chunks', 'ner_jsl_enriched', 'ner_oncology_tnm', 'ner_deid_synthetic_chunks', 'ner_events_clinical_chunks', 'ner_posology_experimental', 'ner_oncology_biomarker_langtest', 'ner_vop_temporal_langtest', 'ner_alcohol_smoking_chunks', 'jsl_ner_wip_clinical', 'ner_sdoh_income_social_status', 'ner_sdoh_access_to_healthcare_chunks', 'ner_oncology_tnm_langtest_chunks', 'ner_oncology_anatomy_granular_chunks', 'ner_biomedical_bc2gm', 'ner_human_phenotype_gene_clinical_langtest', 'ner_bacterial_species_langtest_chunks', 'ner_posology_small_chunks', 'ner_nihss_chunks', 'ner_anatomy_coarse_chunks', 'ner_human_phenotype_go_clinical_chunks', 'ner_vop_anatomy', 'ner_jsl', 'ner_events_clinical', 'ner_supplement_clinical', 'ner_oncology_anatomy_general_langtest_chunks', 'ner_oncology_test_langtest', 'ner_jsl_slim_chunks', 'ner_deid_generic_augmented_allUpperCased_langtest', 'ner_jsl_chunks', 'ner_jsl_greedy_chunks', 'ner_clinical_langtest', 'ner_oncology_unspecific_posology', 'ner_genetic_variants', 'ner_menopause_core_chunks', 'ner_vop_temporal_chunks', 'ner_sdoh_mentions_test_chunks', 'ner_radiology', 'ner_eu_clinical_case', 'ner_posology', 'sentence', 'ner_living_species_langtest_chunks', 'ner_oncology_anatomy_granular_langtest_chunks', 'ner_oncology_posology', 'ner_covid_trials', 'ner_vop_anatomy_chunks', 'ner_ade_binary_chunks', 'ner_sdoh_health_behaviours_problems_chunks', 'ner_sdoh_core_chunks', 'ner_vop_problem_reduced_langtest', 'ner_events_admission_clinical_chunks', 'ner_posology_langtest'])"
      ]
     },
     "execution_count": 70,
     "metadata": {},
     "output_type": "execute_result"
    }
   ],
   "source": [
    "clinical_result = clinical_profiling_pipeline.fullAnnotate(text)[0]\n",
    "clinical_result.keys()"
   ]
  },
  {
   "cell_type": "code",
   "execution_count": 0,
   "metadata": {
    "application/vnd.databricks.v1+cell": {
     "cellMetadata": {
      "byteLimit": 2048000,
      "rowLimit": 10000
     },
     "inputWidgets": {},
     "nuid": "8c3cc431-f4c7-45ad-8a3b-675e0daeab16",
     "showTitle": false,
     "tableResultSettingsMap": {},
     "title": ""
    },
    "id": "C99PTQiNKZtw"
   },
   "outputs": [],
   "source": [
    "import pandas as pd\n",
    "\n",
    "def get_token_results(light_result):\n",
    "\n",
    "  tokens = [j.result for j in light_result[\"token\"]]\n",
    "  sentences = [j.metadata[\"sentence\"] for j in light_result[\"token\"]]\n",
    "  begins = [j.begin for j in light_result[\"token\"]]\n",
    "  ends = [j.end for j in light_result[\"token\"]]\n",
    "  model_list = [ a for a in light_result.keys() if (a not in [\"sentence\", \"token\"] and \"_chunks\" not in a)]\n",
    "\n",
    "  df = pd.DataFrame({'sentence':sentences, 'begin': begins, 'end': ends, 'token':tokens})\n",
    "\n",
    "  for model_name in model_list:\n",
    "\n",
    "    temp_df = pd.DataFrame(light_result[model_name])\n",
    "    temp_df[\"jsl_label\"] = temp_df.iloc[:,0].apply(lambda x : x.result)\n",
    "    temp_df = temp_df[[\"jsl_label\"]]\n",
    "\n",
    "    # temp_df = get_ner_result(model_name)\n",
    "    temp_df.columns = [model_name]\n",
    "    df = pd.concat([df, temp_df], axis=1)\n",
    "\n",
    "  return df"
   ]
  },
  {
   "cell_type": "code",
   "execution_count": 0,
   "metadata": {
    "application/vnd.databricks.v1+cell": {
     "cellMetadata": {
      "byteLimit": 2048000,
      "rowLimit": 10000
     },
     "inputWidgets": {},
     "nuid": "166927c5-d98e-4f51-a534-6d8a44de3bb7",
     "showTitle": false,
     "tableResultSettingsMap": {},
     "title": ""
    },
    "colab": {
     "base_uri": "https://localhost:8080/",
     "height": 478
    },
    "executionInfo": {
     "elapsed": 604,
     "status": "ok",
     "timestamp": 1707941974482,
     "user": {
      "displayName": "Akar Öztürk",
      "userId": "07602883577262601067"
     },
     "user_tz": -60
    },
    "id": "trBEKiZRLiff",
    "outputId": "be289153-a1c0-47c8-9d72-9033fea2b995"
   },
   "outputs": [
    {
     "output_type": "execute_result",
     "data": {
      "text/html": [
       "<div>\n",
       "<style scoped>\n",
       "    .dataframe tbody tr th:only-of-type {\n",
       "        vertical-align: middle;\n",
       "    }\n",
       "\n",
       "    .dataframe tbody tr th {\n",
       "        vertical-align: top;\n",
       "    }\n",
       "\n",
       "    .dataframe thead th {\n",
       "        text-align: right;\n",
       "    }\n",
       "</style>\n",
       "<table border=\"1\" class=\"dataframe\">\n",
       "  <thead>\n",
       "    <tr style=\"text-align: right;\">\n",
       "      <th></th>\n",
       "      <th>sentence</th>\n",
       "      <th>begin</th>\n",
       "      <th>end</th>\n",
       "      <th>token</th>\n",
       "      <th>ner_oncology_tnm_langtest</th>\n",
       "      <th>ner_deid_augmented</th>\n",
       "      <th>ner_deid_subentity_augmented_i2b2</th>\n",
       "      <th>ner_vop_clinical_dept_langtest</th>\n",
       "      <th>ner_risk_factors_langtest</th>\n",
       "      <th>ner_radiology_wip_clinical</th>\n",
       "      <th>ner_deidentify_dl</th>\n",
       "      <th>ner_vop_v2</th>\n",
       "      <th>ner_jsl_slim</th>\n",
       "      <th>ner_ade_clinical_langtest</th>\n",
       "      <th>ner_deid_subentity_augmented_langtest</th>\n",
       "      <th>ner_vop_anatomy_langtest</th>\n",
       "      <th>ner_deid_synthetic</th>\n",
       "      <th>ner_diseases_langtest</th>\n",
       "      <th>ner_drugs_greedy</th>\n",
       "      <th>ner_opioid</th>\n",
       "      <th>ner_vop_test_langtest</th>\n",
       "      <th>ner_vop_clinical_dept</th>\n",
       "      <th>ner_events_admission_clinical</th>\n",
       "      <th>ner_posology_greedy</th>\n",
       "      <th>ner_vop_temporal</th>\n",
       "      <th>ner_sdoh_social_environment</th>\n",
       "      <th>ner_oncology</th>\n",
       "      <th>ner_jsl_greedy</th>\n",
       "      <th>ner_alcohol_smoking</th>\n",
       "      <th>ner_diseases_large</th>\n",
       "      <th>ner_chemprot_clinical</th>\n",
       "      <th>ner_posology_large</th>\n",
       "      <th>ner_oncology_anatomy_granular_langtest</th>\n",
       "      <th>ner_clinical_large_langtest</th>\n",
       "      <th>ner_jsl_limited_80p_for_benchmarks</th>\n",
       "      <th>ner_sdoh_mentions_test</th>\n",
       "      <th>ner_vop_test</th>\n",
       "      <th>ner_vop</th>\n",
       "      <th>ner_clinical_abbreviation_langtest</th>\n",
       "      <th>ner_oncology_langtest</th>\n",
       "      <th>ner_chexpert</th>\n",
       "      <th>ner_vop_problem</th>\n",
       "      <th>ner_section_header_diagnosis</th>\n",
       "      <th>ner_bionlp_langtest</th>\n",
       "      <th>ner_drugs_large</th>\n",
       "      <th>ner_vop_problem_reduced</th>\n",
       "      <th>ner_clinical_large</th>\n",
       "      <th>ner_bacterial_species_langtest</th>\n",
       "      <th>ner_chemicals</th>\n",
       "      <th>ner_bacterial_species</th>\n",
       "      <th>...</th>\n",
       "      <th>ner_vop_problem_langtest</th>\n",
       "      <th>ner_anatomy_coarse</th>\n",
       "      <th>ner_oncology_demographics_langtest</th>\n",
       "      <th>ner_nature_nero_clinical</th>\n",
       "      <th>ner_oncology_anatomy_granular</th>\n",
       "      <th>ner_medmentions_coarse</th>\n",
       "      <th>ner_oncology_therapy</th>\n",
       "      <th>ner_deid_sd</th>\n",
       "      <th>ner_oncology_response_to_treatment_langtest</th>\n",
       "      <th>ner_oncology_demographics</th>\n",
       "      <th>ner_deid_generic_augmented</th>\n",
       "      <th>ner_anatomy</th>\n",
       "      <th>ner_deid_enriched</th>\n",
       "      <th>ner_living_species_langtest</th>\n",
       "      <th>ner_deid_generic_augmented_langtest</th>\n",
       "      <th>ner_deid_subentity_augmented</th>\n",
       "      <th>ner_oncology_diagnosis</th>\n",
       "      <th>ner_oncology_diagnosis_langtest</th>\n",
       "      <th>ner_oncology_limited_80p_for_benchmarks</th>\n",
       "      <th>ner_sdoh_substance_usage</th>\n",
       "      <th>ner_measurements_clinical</th>\n",
       "      <th>ner_menopause_core</th>\n",
       "      <th>ner_ade_binary</th>\n",
       "      <th>ner_nihss</th>\n",
       "      <th>ner_pathogen</th>\n",
       "      <th>ner_jsl_enriched</th>\n",
       "      <th>ner_oncology_tnm</th>\n",
       "      <th>ner_posology_experimental</th>\n",
       "      <th>ner_oncology_biomarker_langtest</th>\n",
       "      <th>ner_vop_temporal_langtest</th>\n",
       "      <th>jsl_ner_wip_clinical</th>\n",
       "      <th>ner_sdoh_income_social_status</th>\n",
       "      <th>ner_biomedical_bc2gm</th>\n",
       "      <th>ner_human_phenotype_gene_clinical_langtest</th>\n",
       "      <th>ner_vop_anatomy</th>\n",
       "      <th>ner_jsl</th>\n",
       "      <th>ner_events_clinical</th>\n",
       "      <th>ner_supplement_clinical</th>\n",
       "      <th>ner_oncology_test_langtest</th>\n",
       "      <th>ner_deid_generic_augmented_allUpperCased_langtest</th>\n",
       "      <th>ner_clinical_langtest</th>\n",
       "      <th>ner_oncology_unspecific_posology</th>\n",
       "      <th>ner_genetic_variants</th>\n",
       "      <th>ner_radiology</th>\n",
       "      <th>ner_eu_clinical_case</th>\n",
       "      <th>ner_posology</th>\n",
       "      <th>ner_oncology_posology</th>\n",
       "      <th>ner_covid_trials</th>\n",
       "      <th>ner_vop_problem_reduced_langtest</th>\n",
       "      <th>ner_posology_langtest</th>\n",
       "    </tr>\n",
       "  </thead>\n",
       "  <tbody>\n",
       "    <tr>\n",
       "      <th>0</th>\n",
       "      <td>0</td>\n",
       "      <td>0</td>\n",
       "      <td>0</td>\n",
       "      <td>A</td>\n",
       "      <td>O</td>\n",
       "      <td>O</td>\n",
       "      <td>O</td>\n",
       "      <td>O</td>\n",
       "      <td>O</td>\n",
       "      <td>O</td>\n",
       "      <td>O</td>\n",
       "      <td>O</td>\n",
       "      <td>O</td>\n",
       "      <td>O</td>\n",
       "      <td>O</td>\n",
       "      <td>O</td>\n",
       "      <td>O</td>\n",
       "      <td>O</td>\n",
       "      <td>O</td>\n",
       "      <td>O</td>\n",
       "      <td>O</td>\n",
       "      <td>O</td>\n",
       "      <td>O</td>\n",
       "      <td>O</td>\n",
       "      <td>O</td>\n",
       "      <td>O</td>\n",
       "      <td>O</td>\n",
       "      <td>O</td>\n",
       "      <td>O</td>\n",
       "      <td>O</td>\n",
       "      <td>O</td>\n",
       "      <td>O</td>\n",
       "      <td>O</td>\n",
       "      <td>O</td>\n",
       "      <td>O</td>\n",
       "      <td>O</td>\n",
       "      <td>O</td>\n",
       "      <td>O</td>\n",
       "      <td>O</td>\n",
       "      <td>O</td>\n",
       "      <td>O</td>\n",
       "      <td>O</td>\n",
       "      <td>O</td>\n",
       "      <td>O</td>\n",
       "      <td>O</td>\n",
       "      <td>O</td>\n",
       "      <td>O</td>\n",
       "      <td>O</td>\n",
       "      <td>O</td>\n",
       "      <td>O</td>\n",
       "      <td>...</td>\n",
       "      <td>O</td>\n",
       "      <td>O</td>\n",
       "      <td>O</td>\n",
       "      <td>O</td>\n",
       "      <td>O</td>\n",
       "      <td>O</td>\n",
       "      <td>O</td>\n",
       "      <td>O</td>\n",
       "      <td>O</td>\n",
       "      <td>O</td>\n",
       "      <td>O</td>\n",
       "      <td>O</td>\n",
       "      <td>O</td>\n",
       "      <td>O</td>\n",
       "      <td>O</td>\n",
       "      <td>O</td>\n",
       "      <td>O</td>\n",
       "      <td>O</td>\n",
       "      <td>O</td>\n",
       "      <td>O</td>\n",
       "      <td>O</td>\n",
       "      <td>O</td>\n",
       "      <td>O</td>\n",
       "      <td>O</td>\n",
       "      <td>O</td>\n",
       "      <td>O</td>\n",
       "      <td>O</td>\n",
       "      <td>O</td>\n",
       "      <td>O</td>\n",
       "      <td>O</td>\n",
       "      <td>O</td>\n",
       "      <td>O</td>\n",
       "      <td>O</td>\n",
       "      <td>O</td>\n",
       "      <td>O</td>\n",
       "      <td>O</td>\n",
       "      <td>O</td>\n",
       "      <td>O</td>\n",
       "      <td>O</td>\n",
       "      <td>O</td>\n",
       "      <td>O</td>\n",
       "      <td>O</td>\n",
       "      <td>O</td>\n",
       "      <td>O</td>\n",
       "      <td>B-patient</td>\n",
       "      <td>O</td>\n",
       "      <td>O</td>\n",
       "      <td>O</td>\n",
       "      <td>O</td>\n",
       "      <td>O</td>\n",
       "    </tr>\n",
       "    <tr>\n",
       "      <th>1</th>\n",
       "      <td>0</td>\n",
       "      <td>2</td>\n",
       "      <td>12</td>\n",
       "      <td>28-year-old</td>\n",
       "      <td>O</td>\n",
       "      <td>O</td>\n",
       "      <td>O</td>\n",
       "      <td>O</td>\n",
       "      <td>O</td>\n",
       "      <td>O</td>\n",
       "      <td>O</td>\n",
       "      <td>B-Age</td>\n",
       "      <td>B-Age</td>\n",
       "      <td>O</td>\n",
       "      <td>B-AGE</td>\n",
       "      <td>O</td>\n",
       "      <td>O</td>\n",
       "      <td>O</td>\n",
       "      <td>O</td>\n",
       "      <td>O</td>\n",
       "      <td>O</td>\n",
       "      <td>O</td>\n",
       "      <td>O</td>\n",
       "      <td>O</td>\n",
       "      <td>O</td>\n",
       "      <td>O</td>\n",
       "      <td>B-Gender</td>\n",
       "      <td>B-Age</td>\n",
       "      <td>O</td>\n",
       "      <td>O</td>\n",
       "      <td>O</td>\n",
       "      <td>O</td>\n",
       "      <td>O</td>\n",
       "      <td>O</td>\n",
       "      <td>B-Age</td>\n",
       "      <td>O</td>\n",
       "      <td>O</td>\n",
       "      <td>B-Age</td>\n",
       "      <td>O</td>\n",
       "      <td>O</td>\n",
       "      <td>O</td>\n",
       "      <td>O</td>\n",
       "      <td>O</td>\n",
       "      <td>O</td>\n",
       "      <td>O</td>\n",
       "      <td>O</td>\n",
       "      <td>O</td>\n",
       "      <td>O</td>\n",
       "      <td>O</td>\n",
       "      <td>O</td>\n",
       "      <td>...</td>\n",
       "      <td>O</td>\n",
       "      <td>O</td>\n",
       "      <td>B-Gender</td>\n",
       "      <td>B-Person</td>\n",
       "      <td>O</td>\n",
       "      <td>O</td>\n",
       "      <td>O</td>\n",
       "      <td>O</td>\n",
       "      <td>O</td>\n",
       "      <td>B-Gender</td>\n",
       "      <td>B-AGE</td>\n",
       "      <td>O</td>\n",
       "      <td>O</td>\n",
       "      <td>O</td>\n",
       "      <td>B-AGE</td>\n",
       "      <td>B-AGE</td>\n",
       "      <td>O</td>\n",
       "      <td>O</td>\n",
       "      <td>B-Gender</td>\n",
       "      <td>O</td>\n",
       "      <td>O</td>\n",
       "      <td>O</td>\n",
       "      <td>O</td>\n",
       "      <td>O</td>\n",
       "      <td>O</td>\n",
       "      <td>B-Age</td>\n",
       "      <td>O</td>\n",
       "      <td>O</td>\n",
       "      <td>O</td>\n",
       "      <td>O</td>\n",
       "      <td>B-Age</td>\n",
       "      <td>O</td>\n",
       "      <td>O</td>\n",
       "      <td>O</td>\n",
       "      <td>O</td>\n",
       "      <td>B-Age</td>\n",
       "      <td>O</td>\n",
       "      <td>O</td>\n",
       "      <td>O</td>\n",
       "      <td>B-AGE</td>\n",
       "      <td>O</td>\n",
       "      <td>O</td>\n",
       "      <td>O</td>\n",
       "      <td>O</td>\n",
       "      <td>I-patient</td>\n",
       "      <td>O</td>\n",
       "      <td>O</td>\n",
       "      <td>B-Gender</td>\n",
       "      <td>O</td>\n",
       "      <td>O</td>\n",
       "    </tr>\n",
       "    <tr>\n",
       "      <th>2</th>\n",
       "      <td>0</td>\n",
       "      <td>14</td>\n",
       "      <td>19</td>\n",
       "      <td>female</td>\n",
       "      <td>O</td>\n",
       "      <td>O</td>\n",
       "      <td>O</td>\n",
       "      <td>O</td>\n",
       "      <td>O</td>\n",
       "      <td>O</td>\n",
       "      <td>O</td>\n",
       "      <td>B-Gender</td>\n",
       "      <td>B-Demographics</td>\n",
       "      <td>O</td>\n",
       "      <td>O</td>\n",
       "      <td>O</td>\n",
       "      <td>O</td>\n",
       "      <td>O</td>\n",
       "      <td>O</td>\n",
       "      <td>O</td>\n",
       "      <td>O</td>\n",
       "      <td>O</td>\n",
       "      <td>O</td>\n",
       "      <td>O</td>\n",
       "      <td>O</td>\n",
       "      <td>O</td>\n",
       "      <td>B-Gender</td>\n",
       "      <td>B-Gender</td>\n",
       "      <td>O</td>\n",
       "      <td>O</td>\n",
       "      <td>O</td>\n",
       "      <td>O</td>\n",
       "      <td>O</td>\n",
       "      <td>O</td>\n",
       "      <td>B-Gender</td>\n",
       "      <td>O</td>\n",
       "      <td>O</td>\n",
       "      <td>B-Gender</td>\n",
       "      <td>O</td>\n",
       "      <td>B-Gender</td>\n",
       "      <td>O</td>\n",
       "      <td>O</td>\n",
       "      <td>O</td>\n",
       "      <td>O</td>\n",
       "      <td>O</td>\n",
       "      <td>O</td>\n",
       "      <td>O</td>\n",
       "      <td>O</td>\n",
       "      <td>O</td>\n",
       "      <td>O</td>\n",
       "      <td>...</td>\n",
       "      <td>O</td>\n",
       "      <td>O</td>\n",
       "      <td>B-Gender</td>\n",
       "      <td>I-Person</td>\n",
       "      <td>O</td>\n",
       "      <td>B-Organism_Attribute</td>\n",
       "      <td>O</td>\n",
       "      <td>O</td>\n",
       "      <td>O</td>\n",
       "      <td>B-Gender</td>\n",
       "      <td>O</td>\n",
       "      <td>O</td>\n",
       "      <td>O</td>\n",
       "      <td>B-HUMAN</td>\n",
       "      <td>O</td>\n",
       "      <td>O</td>\n",
       "      <td>O</td>\n",
       "      <td>O</td>\n",
       "      <td>B-Gender</td>\n",
       "      <td>O</td>\n",
       "      <td>O</td>\n",
       "      <td>O</td>\n",
       "      <td>O</td>\n",
       "      <td>O</td>\n",
       "      <td>O</td>\n",
       "      <td>B-Gender</td>\n",
       "      <td>O</td>\n",
       "      <td>O</td>\n",
       "      <td>O</td>\n",
       "      <td>O</td>\n",
       "      <td>B-Gender</td>\n",
       "      <td>O</td>\n",
       "      <td>O</td>\n",
       "      <td>O</td>\n",
       "      <td>O</td>\n",
       "      <td>B-Gender</td>\n",
       "      <td>O</td>\n",
       "      <td>O</td>\n",
       "      <td>O</td>\n",
       "      <td>O</td>\n",
       "      <td>O</td>\n",
       "      <td>O</td>\n",
       "      <td>O</td>\n",
       "      <td>O</td>\n",
       "      <td>I-patient</td>\n",
       "      <td>O</td>\n",
       "      <td>O</td>\n",
       "      <td>B-Gender</td>\n",
       "      <td>O</td>\n",
       "      <td>O</td>\n",
       "    </tr>\n",
       "    <tr>\n",
       "      <th>3</th>\n",
       "      <td>0</td>\n",
       "      <td>21</td>\n",
       "      <td>24</td>\n",
       "      <td>with</td>\n",
       "      <td>O</td>\n",
       "      <td>O</td>\n",
       "      <td>O</td>\n",
       "      <td>O</td>\n",
       "      <td>O</td>\n",
       "      <td>O</td>\n",
       "      <td>O</td>\n",
       "      <td>O</td>\n",
       "      <td>O</td>\n",
       "      <td>O</td>\n",
       "      <td>O</td>\n",
       "      <td>O</td>\n",
       "      <td>O</td>\n",
       "      <td>O</td>\n",
       "      <td>O</td>\n",
       "      <td>O</td>\n",
       "      <td>O</td>\n",
       "      <td>O</td>\n",
       "      <td>O</td>\n",
       "      <td>O</td>\n",
       "      <td>O</td>\n",
       "      <td>O</td>\n",
       "      <td>O</td>\n",
       "      <td>O</td>\n",
       "      <td>O</td>\n",
       "      <td>O</td>\n",
       "      <td>O</td>\n",
       "      <td>O</td>\n",
       "      <td>O</td>\n",
       "      <td>O</td>\n",
       "      <td>O</td>\n",
       "      <td>O</td>\n",
       "      <td>O</td>\n",
       "      <td>O</td>\n",
       "      <td>O</td>\n",
       "      <td>O</td>\n",
       "      <td>O</td>\n",
       "      <td>O</td>\n",
       "      <td>O</td>\n",
       "      <td>O</td>\n",
       "      <td>O</td>\n",
       "      <td>O</td>\n",
       "      <td>O</td>\n",
       "      <td>O</td>\n",
       "      <td>O</td>\n",
       "      <td>O</td>\n",
       "      <td>...</td>\n",
       "      <td>O</td>\n",
       "      <td>O</td>\n",
       "      <td>O</td>\n",
       "      <td>O</td>\n",
       "      <td>O</td>\n",
       "      <td>O</td>\n",
       "      <td>O</td>\n",
       "      <td>O</td>\n",
       "      <td>O</td>\n",
       "      <td>O</td>\n",
       "      <td>O</td>\n",
       "      <td>O</td>\n",
       "      <td>O</td>\n",
       "      <td>O</td>\n",
       "      <td>O</td>\n",
       "      <td>O</td>\n",
       "      <td>O</td>\n",
       "      <td>O</td>\n",
       "      <td>O</td>\n",
       "      <td>O</td>\n",
       "      <td>O</td>\n",
       "      <td>O</td>\n",
       "      <td>O</td>\n",
       "      <td>O</td>\n",
       "      <td>O</td>\n",
       "      <td>O</td>\n",
       "      <td>O</td>\n",
       "      <td>O</td>\n",
       "      <td>O</td>\n",
       "      <td>O</td>\n",
       "      <td>O</td>\n",
       "      <td>O</td>\n",
       "      <td>O</td>\n",
       "      <td>O</td>\n",
       "      <td>O</td>\n",
       "      <td>O</td>\n",
       "      <td>O</td>\n",
       "      <td>O</td>\n",
       "      <td>O</td>\n",
       "      <td>O</td>\n",
       "      <td>O</td>\n",
       "      <td>O</td>\n",
       "      <td>O</td>\n",
       "      <td>O</td>\n",
       "      <td>O</td>\n",
       "      <td>O</td>\n",
       "      <td>O</td>\n",
       "      <td>O</td>\n",
       "      <td>O</td>\n",
       "      <td>O</td>\n",
       "    </tr>\n",
       "    <tr>\n",
       "      <th>4</th>\n",
       "      <td>0</td>\n",
       "      <td>26</td>\n",
       "      <td>26</td>\n",
       "      <td>a</td>\n",
       "      <td>O</td>\n",
       "      <td>O</td>\n",
       "      <td>O</td>\n",
       "      <td>O</td>\n",
       "      <td>O</td>\n",
       "      <td>O</td>\n",
       "      <td>O</td>\n",
       "      <td>O</td>\n",
       "      <td>O</td>\n",
       "      <td>O</td>\n",
       "      <td>O</td>\n",
       "      <td>O</td>\n",
       "      <td>O</td>\n",
       "      <td>O</td>\n",
       "      <td>O</td>\n",
       "      <td>O</td>\n",
       "      <td>O</td>\n",
       "      <td>O</td>\n",
       "      <td>O</td>\n",
       "      <td>O</td>\n",
       "      <td>O</td>\n",
       "      <td>O</td>\n",
       "      <td>O</td>\n",
       "      <td>O</td>\n",
       "      <td>O</td>\n",
       "      <td>O</td>\n",
       "      <td>O</td>\n",
       "      <td>O</td>\n",
       "      <td>O</td>\n",
       "      <td>O</td>\n",
       "      <td>O</td>\n",
       "      <td>O</td>\n",
       "      <td>O</td>\n",
       "      <td>O</td>\n",
       "      <td>O</td>\n",
       "      <td>O</td>\n",
       "      <td>O</td>\n",
       "      <td>O</td>\n",
       "      <td>O</td>\n",
       "      <td>O</td>\n",
       "      <td>O</td>\n",
       "      <td>O</td>\n",
       "      <td>O</td>\n",
       "      <td>O</td>\n",
       "      <td>O</td>\n",
       "      <td>O</td>\n",
       "      <td>...</td>\n",
       "      <td>O</td>\n",
       "      <td>O</td>\n",
       "      <td>O</td>\n",
       "      <td>O</td>\n",
       "      <td>O</td>\n",
       "      <td>O</td>\n",
       "      <td>O</td>\n",
       "      <td>O</td>\n",
       "      <td>O</td>\n",
       "      <td>O</td>\n",
       "      <td>O</td>\n",
       "      <td>O</td>\n",
       "      <td>O</td>\n",
       "      <td>O</td>\n",
       "      <td>O</td>\n",
       "      <td>O</td>\n",
       "      <td>O</td>\n",
       "      <td>O</td>\n",
       "      <td>O</td>\n",
       "      <td>O</td>\n",
       "      <td>O</td>\n",
       "      <td>O</td>\n",
       "      <td>O</td>\n",
       "      <td>O</td>\n",
       "      <td>O</td>\n",
       "      <td>O</td>\n",
       "      <td>O</td>\n",
       "      <td>O</td>\n",
       "      <td>O</td>\n",
       "      <td>O</td>\n",
       "      <td>O</td>\n",
       "      <td>O</td>\n",
       "      <td>O</td>\n",
       "      <td>O</td>\n",
       "      <td>O</td>\n",
       "      <td>O</td>\n",
       "      <td>O</td>\n",
       "      <td>O</td>\n",
       "      <td>O</td>\n",
       "      <td>O</td>\n",
       "      <td>O</td>\n",
       "      <td>O</td>\n",
       "      <td>O</td>\n",
       "      <td>O</td>\n",
       "      <td>O</td>\n",
       "      <td>O</td>\n",
       "      <td>O</td>\n",
       "      <td>O</td>\n",
       "      <td>O</td>\n",
       "      <td>O</td>\n",
       "    </tr>\n",
       "    <tr>\n",
       "      <th>...</th>\n",
       "      <td>...</td>\n",
       "      <td>...</td>\n",
       "      <td>...</td>\n",
       "      <td>...</td>\n",
       "      <td>...</td>\n",
       "      <td>...</td>\n",
       "      <td>...</td>\n",
       "      <td>...</td>\n",
       "      <td>...</td>\n",
       "      <td>...</td>\n",
       "      <td>...</td>\n",
       "      <td>...</td>\n",
       "      <td>...</td>\n",
       "      <td>...</td>\n",
       "      <td>...</td>\n",
       "      <td>...</td>\n",
       "      <td>...</td>\n",
       "      <td>...</td>\n",
       "      <td>...</td>\n",
       "      <td>...</td>\n",
       "      <td>...</td>\n",
       "      <td>...</td>\n",
       "      <td>...</td>\n",
       "      <td>...</td>\n",
       "      <td>...</td>\n",
       "      <td>...</td>\n",
       "      <td>...</td>\n",
       "      <td>...</td>\n",
       "      <td>...</td>\n",
       "      <td>...</td>\n",
       "      <td>...</td>\n",
       "      <td>...</td>\n",
       "      <td>...</td>\n",
       "      <td>...</td>\n",
       "      <td>...</td>\n",
       "      <td>...</td>\n",
       "      <td>...</td>\n",
       "      <td>...</td>\n",
       "      <td>...</td>\n",
       "      <td>...</td>\n",
       "      <td>...</td>\n",
       "      <td>...</td>\n",
       "      <td>...</td>\n",
       "      <td>...</td>\n",
       "      <td>...</td>\n",
       "      <td>...</td>\n",
       "      <td>...</td>\n",
       "      <td>...</td>\n",
       "      <td>...</td>\n",
       "      <td>...</td>\n",
       "      <td>...</td>\n",
       "      <td>...</td>\n",
       "      <td>...</td>\n",
       "      <td>...</td>\n",
       "      <td>...</td>\n",
       "      <td>...</td>\n",
       "      <td>...</td>\n",
       "      <td>...</td>\n",
       "      <td>...</td>\n",
       "      <td>...</td>\n",
       "      <td>...</td>\n",
       "      <td>...</td>\n",
       "      <td>...</td>\n",
       "      <td>...</td>\n",
       "      <td>...</td>\n",
       "      <td>...</td>\n",
       "      <td>...</td>\n",
       "      <td>...</td>\n",
       "      <td>...</td>\n",
       "      <td>...</td>\n",
       "      <td>...</td>\n",
       "      <td>...</td>\n",
       "      <td>...</td>\n",
       "      <td>...</td>\n",
       "      <td>...</td>\n",
       "      <td>...</td>\n",
       "      <td>...</td>\n",
       "      <td>...</td>\n",
       "      <td>...</td>\n",
       "      <td>...</td>\n",
       "      <td>...</td>\n",
       "      <td>...</td>\n",
       "      <td>...</td>\n",
       "      <td>...</td>\n",
       "      <td>...</td>\n",
       "      <td>...</td>\n",
       "      <td>...</td>\n",
       "      <td>...</td>\n",
       "      <td>...</td>\n",
       "      <td>...</td>\n",
       "      <td>...</td>\n",
       "      <td>...</td>\n",
       "      <td>...</td>\n",
       "      <td>...</td>\n",
       "      <td>...</td>\n",
       "      <td>...</td>\n",
       "      <td>...</td>\n",
       "      <td>...</td>\n",
       "      <td>...</td>\n",
       "      <td>...</td>\n",
       "      <td>...</td>\n",
       "    </tr>\n",
       "    <tr>\n",
       "      <th>68</th>\n",
       "      <td>0</td>\n",
       "      <td>409</td>\n",
       "      <td>416</td>\n",
       "      <td>appetite</td>\n",
       "      <td>O</td>\n",
       "      <td>O</td>\n",
       "      <td>O</td>\n",
       "      <td>O</td>\n",
       "      <td>O</td>\n",
       "      <td>I-Symptom</td>\n",
       "      <td>O</td>\n",
       "      <td>I-Symptom</td>\n",
       "      <td>I-Symptom</td>\n",
       "      <td>I-ADE</td>\n",
       "      <td>O</td>\n",
       "      <td>O</td>\n",
       "      <td>O</td>\n",
       "      <td>O</td>\n",
       "      <td>O</td>\n",
       "      <td>I-general_symptoms</td>\n",
       "      <td>O</td>\n",
       "      <td>O</td>\n",
       "      <td>I-PROBLEM</td>\n",
       "      <td>O</td>\n",
       "      <td>O</td>\n",
       "      <td>O</td>\n",
       "      <td>O</td>\n",
       "      <td>I-Symptom</td>\n",
       "      <td>I-GUT_Issues</td>\n",
       "      <td>O</td>\n",
       "      <td>O</td>\n",
       "      <td>O</td>\n",
       "      <td>O</td>\n",
       "      <td>I-PROBLEM</td>\n",
       "      <td>I-Symptom</td>\n",
       "      <td>O</td>\n",
       "      <td>O</td>\n",
       "      <td>I-Symptom</td>\n",
       "      <td>O</td>\n",
       "      <td>O</td>\n",
       "      <td>O</td>\n",
       "      <td>I-Symptom</td>\n",
       "      <td>O</td>\n",
       "      <td>O</td>\n",
       "      <td>O</td>\n",
       "      <td>I-Problem</td>\n",
       "      <td>I-PROBLEM</td>\n",
       "      <td>O</td>\n",
       "      <td>O</td>\n",
       "      <td>O</td>\n",
       "      <td>...</td>\n",
       "      <td>I-Symptom</td>\n",
       "      <td>O</td>\n",
       "      <td>O</td>\n",
       "      <td>I-Medicalfinding</td>\n",
       "      <td>O</td>\n",
       "      <td>I-Sign_or_Symptom</td>\n",
       "      <td>O</td>\n",
       "      <td>O</td>\n",
       "      <td>O</td>\n",
       "      <td>O</td>\n",
       "      <td>O</td>\n",
       "      <td>O</td>\n",
       "      <td>O</td>\n",
       "      <td>O</td>\n",
       "      <td>O</td>\n",
       "      <td>O</td>\n",
       "      <td>O</td>\n",
       "      <td>O</td>\n",
       "      <td>O</td>\n",
       "      <td>O</td>\n",
       "      <td>O</td>\n",
       "      <td>I-Other_Symptom</td>\n",
       "      <td>I-ADE</td>\n",
       "      <td>O</td>\n",
       "      <td>I-MedicalCondition</td>\n",
       "      <td>I-Symptom</td>\n",
       "      <td>O</td>\n",
       "      <td>O</td>\n",
       "      <td>O</td>\n",
       "      <td>O</td>\n",
       "      <td>I-Symptom</td>\n",
       "      <td>O</td>\n",
       "      <td>O</td>\n",
       "      <td>O</td>\n",
       "      <td>O</td>\n",
       "      <td>I-Symptom</td>\n",
       "      <td>I-PROBLEM</td>\n",
       "      <td>O</td>\n",
       "      <td>O</td>\n",
       "      <td>O</td>\n",
       "      <td>I-PROBLEM</td>\n",
       "      <td>O</td>\n",
       "      <td>O</td>\n",
       "      <td>I-Symptom</td>\n",
       "      <td>I-clinical_condition</td>\n",
       "      <td>O</td>\n",
       "      <td>O</td>\n",
       "      <td>O</td>\n",
       "      <td>I-Problem</td>\n",
       "      <td>O</td>\n",
       "    </tr>\n",
       "    <tr>\n",
       "      <th>69</th>\n",
       "      <td>0</td>\n",
       "      <td>418</td>\n",
       "      <td>418</td>\n",
       "      <td>,</td>\n",
       "      <td>O</td>\n",
       "      <td>O</td>\n",
       "      <td>O</td>\n",
       "      <td>O</td>\n",
       "      <td>O</td>\n",
       "      <td>O</td>\n",
       "      <td>O</td>\n",
       "      <td>O</td>\n",
       "      <td>O</td>\n",
       "      <td>O</td>\n",
       "      <td>O</td>\n",
       "      <td>O</td>\n",
       "      <td>O</td>\n",
       "      <td>O</td>\n",
       "      <td>O</td>\n",
       "      <td>O</td>\n",
       "      <td>O</td>\n",
       "      <td>O</td>\n",
       "      <td>O</td>\n",
       "      <td>O</td>\n",
       "      <td>O</td>\n",
       "      <td>O</td>\n",
       "      <td>O</td>\n",
       "      <td>O</td>\n",
       "      <td>O</td>\n",
       "      <td>O</td>\n",
       "      <td>O</td>\n",
       "      <td>O</td>\n",
       "      <td>O</td>\n",
       "      <td>O</td>\n",
       "      <td>O</td>\n",
       "      <td>O</td>\n",
       "      <td>O</td>\n",
       "      <td>O</td>\n",
       "      <td>O</td>\n",
       "      <td>O</td>\n",
       "      <td>O</td>\n",
       "      <td>O</td>\n",
       "      <td>O</td>\n",
       "      <td>O</td>\n",
       "      <td>O</td>\n",
       "      <td>O</td>\n",
       "      <td>O</td>\n",
       "      <td>O</td>\n",
       "      <td>O</td>\n",
       "      <td>O</td>\n",
       "      <td>...</td>\n",
       "      <td>O</td>\n",
       "      <td>O</td>\n",
       "      <td>O</td>\n",
       "      <td>O</td>\n",
       "      <td>O</td>\n",
       "      <td>O</td>\n",
       "      <td>O</td>\n",
       "      <td>O</td>\n",
       "      <td>O</td>\n",
       "      <td>O</td>\n",
       "      <td>O</td>\n",
       "      <td>O</td>\n",
       "      <td>O</td>\n",
       "      <td>O</td>\n",
       "      <td>O</td>\n",
       "      <td>O</td>\n",
       "      <td>O</td>\n",
       "      <td>O</td>\n",
       "      <td>O</td>\n",
       "      <td>O</td>\n",
       "      <td>O</td>\n",
       "      <td>O</td>\n",
       "      <td>O</td>\n",
       "      <td>O</td>\n",
       "      <td>O</td>\n",
       "      <td>O</td>\n",
       "      <td>O</td>\n",
       "      <td>O</td>\n",
       "      <td>O</td>\n",
       "      <td>O</td>\n",
       "      <td>O</td>\n",
       "      <td>O</td>\n",
       "      <td>O</td>\n",
       "      <td>O</td>\n",
       "      <td>O</td>\n",
       "      <td>O</td>\n",
       "      <td>O</td>\n",
       "      <td>O</td>\n",
       "      <td>O</td>\n",
       "      <td>O</td>\n",
       "      <td>O</td>\n",
       "      <td>O</td>\n",
       "      <td>O</td>\n",
       "      <td>O</td>\n",
       "      <td>O</td>\n",
       "      <td>O</td>\n",
       "      <td>O</td>\n",
       "      <td>O</td>\n",
       "      <td>O</td>\n",
       "      <td>O</td>\n",
       "    </tr>\n",
       "    <tr>\n",
       "      <th>70</th>\n",
       "      <td>0</td>\n",
       "      <td>420</td>\n",
       "      <td>422</td>\n",
       "      <td>and</td>\n",
       "      <td>O</td>\n",
       "      <td>O</td>\n",
       "      <td>O</td>\n",
       "      <td>O</td>\n",
       "      <td>O</td>\n",
       "      <td>O</td>\n",
       "      <td>O</td>\n",
       "      <td>O</td>\n",
       "      <td>O</td>\n",
       "      <td>O</td>\n",
       "      <td>O</td>\n",
       "      <td>O</td>\n",
       "      <td>O</td>\n",
       "      <td>O</td>\n",
       "      <td>O</td>\n",
       "      <td>O</td>\n",
       "      <td>O</td>\n",
       "      <td>O</td>\n",
       "      <td>O</td>\n",
       "      <td>O</td>\n",
       "      <td>O</td>\n",
       "      <td>O</td>\n",
       "      <td>O</td>\n",
       "      <td>O</td>\n",
       "      <td>O</td>\n",
       "      <td>O</td>\n",
       "      <td>O</td>\n",
       "      <td>O</td>\n",
       "      <td>O</td>\n",
       "      <td>O</td>\n",
       "      <td>O</td>\n",
       "      <td>O</td>\n",
       "      <td>O</td>\n",
       "      <td>O</td>\n",
       "      <td>O</td>\n",
       "      <td>O</td>\n",
       "      <td>O</td>\n",
       "      <td>O</td>\n",
       "      <td>O</td>\n",
       "      <td>O</td>\n",
       "      <td>O</td>\n",
       "      <td>O</td>\n",
       "      <td>O</td>\n",
       "      <td>O</td>\n",
       "      <td>O</td>\n",
       "      <td>O</td>\n",
       "      <td>...</td>\n",
       "      <td>O</td>\n",
       "      <td>O</td>\n",
       "      <td>O</td>\n",
       "      <td>O</td>\n",
       "      <td>O</td>\n",
       "      <td>O</td>\n",
       "      <td>O</td>\n",
       "      <td>O</td>\n",
       "      <td>O</td>\n",
       "      <td>O</td>\n",
       "      <td>O</td>\n",
       "      <td>O</td>\n",
       "      <td>O</td>\n",
       "      <td>O</td>\n",
       "      <td>O</td>\n",
       "      <td>O</td>\n",
       "      <td>O</td>\n",
       "      <td>O</td>\n",
       "      <td>O</td>\n",
       "      <td>O</td>\n",
       "      <td>O</td>\n",
       "      <td>O</td>\n",
       "      <td>O</td>\n",
       "      <td>O</td>\n",
       "      <td>O</td>\n",
       "      <td>O</td>\n",
       "      <td>O</td>\n",
       "      <td>O</td>\n",
       "      <td>O</td>\n",
       "      <td>O</td>\n",
       "      <td>O</td>\n",
       "      <td>O</td>\n",
       "      <td>O</td>\n",
       "      <td>O</td>\n",
       "      <td>O</td>\n",
       "      <td>O</td>\n",
       "      <td>O</td>\n",
       "      <td>O</td>\n",
       "      <td>O</td>\n",
       "      <td>O</td>\n",
       "      <td>O</td>\n",
       "      <td>O</td>\n",
       "      <td>O</td>\n",
       "      <td>O</td>\n",
       "      <td>O</td>\n",
       "      <td>O</td>\n",
       "      <td>O</td>\n",
       "      <td>O</td>\n",
       "      <td>O</td>\n",
       "      <td>O</td>\n",
       "    </tr>\n",
       "    <tr>\n",
       "      <th>71</th>\n",
       "      <td>0</td>\n",
       "      <td>424</td>\n",
       "      <td>431</td>\n",
       "      <td>vomiting</td>\n",
       "      <td>O</td>\n",
       "      <td>O</td>\n",
       "      <td>O</td>\n",
       "      <td>O</td>\n",
       "      <td>O</td>\n",
       "      <td>B-Symptom</td>\n",
       "      <td>O</td>\n",
       "      <td>B-Symptom</td>\n",
       "      <td>B-Symptom</td>\n",
       "      <td>B-ADE</td>\n",
       "      <td>O</td>\n",
       "      <td>O</td>\n",
       "      <td>O</td>\n",
       "      <td>B-Disease</td>\n",
       "      <td>O</td>\n",
       "      <td>B-general_symptoms</td>\n",
       "      <td>O</td>\n",
       "      <td>O</td>\n",
       "      <td>B-PROBLEM</td>\n",
       "      <td>O</td>\n",
       "      <td>O</td>\n",
       "      <td>O</td>\n",
       "      <td>O</td>\n",
       "      <td>B-Symptom</td>\n",
       "      <td>B-GUT_Issues</td>\n",
       "      <td>B-Disease</td>\n",
       "      <td>O</td>\n",
       "      <td>O</td>\n",
       "      <td>O</td>\n",
       "      <td>B-PROBLEM</td>\n",
       "      <td>B-Symptom</td>\n",
       "      <td>O</td>\n",
       "      <td>O</td>\n",
       "      <td>B-Symptom</td>\n",
       "      <td>O</td>\n",
       "      <td>O</td>\n",
       "      <td>O</td>\n",
       "      <td>B-Symptom</td>\n",
       "      <td>O</td>\n",
       "      <td>O</td>\n",
       "      <td>O</td>\n",
       "      <td>B-Problem</td>\n",
       "      <td>B-PROBLEM</td>\n",
       "      <td>O</td>\n",
       "      <td>O</td>\n",
       "      <td>O</td>\n",
       "      <td>...</td>\n",
       "      <td>B-Symptom</td>\n",
       "      <td>O</td>\n",
       "      <td>O</td>\n",
       "      <td>B-Medicalfinding</td>\n",
       "      <td>O</td>\n",
       "      <td>B-Sign_or_Symptom</td>\n",
       "      <td>O</td>\n",
       "      <td>O</td>\n",
       "      <td>O</td>\n",
       "      <td>O</td>\n",
       "      <td>O</td>\n",
       "      <td>O</td>\n",
       "      <td>O</td>\n",
       "      <td>O</td>\n",
       "      <td>O</td>\n",
       "      <td>O</td>\n",
       "      <td>O</td>\n",
       "      <td>O</td>\n",
       "      <td>O</td>\n",
       "      <td>O</td>\n",
       "      <td>O</td>\n",
       "      <td>B-Other_Symptom</td>\n",
       "      <td>B-ADE</td>\n",
       "      <td>O</td>\n",
       "      <td>B-MedicalCondition</td>\n",
       "      <td>B-Symptom</td>\n",
       "      <td>O</td>\n",
       "      <td>O</td>\n",
       "      <td>O</td>\n",
       "      <td>O</td>\n",
       "      <td>B-Symptom</td>\n",
       "      <td>O</td>\n",
       "      <td>O</td>\n",
       "      <td>B-HP</td>\n",
       "      <td>O</td>\n",
       "      <td>B-Symptom</td>\n",
       "      <td>B-PROBLEM</td>\n",
       "      <td>B-CONDITION</td>\n",
       "      <td>O</td>\n",
       "      <td>O</td>\n",
       "      <td>B-PROBLEM</td>\n",
       "      <td>O</td>\n",
       "      <td>O</td>\n",
       "      <td>B-Symptom</td>\n",
       "      <td>B-clinical_condition</td>\n",
       "      <td>O</td>\n",
       "      <td>O</td>\n",
       "      <td>O</td>\n",
       "      <td>B-Problem</td>\n",
       "      <td>O</td>\n",
       "    </tr>\n",
       "    <tr>\n",
       "      <th>72</th>\n",
       "      <td>0</td>\n",
       "      <td>433</td>\n",
       "      <td>433</td>\n",
       "      <td>.</td>\n",
       "      <td>O</td>\n",
       "      <td>O</td>\n",
       "      <td>O</td>\n",
       "      <td>O</td>\n",
       "      <td>O</td>\n",
       "      <td>O</td>\n",
       "      <td>O</td>\n",
       "      <td>O</td>\n",
       "      <td>O</td>\n",
       "      <td>O</td>\n",
       "      <td>O</td>\n",
       "      <td>O</td>\n",
       "      <td>O</td>\n",
       "      <td>O</td>\n",
       "      <td>O</td>\n",
       "      <td>O</td>\n",
       "      <td>O</td>\n",
       "      <td>O</td>\n",
       "      <td>O</td>\n",
       "      <td>O</td>\n",
       "      <td>O</td>\n",
       "      <td>O</td>\n",
       "      <td>O</td>\n",
       "      <td>O</td>\n",
       "      <td>O</td>\n",
       "      <td>O</td>\n",
       "      <td>O</td>\n",
       "      <td>O</td>\n",
       "      <td>O</td>\n",
       "      <td>O</td>\n",
       "      <td>O</td>\n",
       "      <td>O</td>\n",
       "      <td>O</td>\n",
       "      <td>O</td>\n",
       "      <td>O</td>\n",
       "      <td>O</td>\n",
       "      <td>O</td>\n",
       "      <td>O</td>\n",
       "      <td>O</td>\n",
       "      <td>O</td>\n",
       "      <td>O</td>\n",
       "      <td>O</td>\n",
       "      <td>O</td>\n",
       "      <td>O</td>\n",
       "      <td>O</td>\n",
       "      <td>O</td>\n",
       "      <td>...</td>\n",
       "      <td>O</td>\n",
       "      <td>O</td>\n",
       "      <td>O</td>\n",
       "      <td>O</td>\n",
       "      <td>O</td>\n",
       "      <td>O</td>\n",
       "      <td>O</td>\n",
       "      <td>O</td>\n",
       "      <td>O</td>\n",
       "      <td>O</td>\n",
       "      <td>O</td>\n",
       "      <td>O</td>\n",
       "      <td>O</td>\n",
       "      <td>O</td>\n",
       "      <td>O</td>\n",
       "      <td>O</td>\n",
       "      <td>O</td>\n",
       "      <td>O</td>\n",
       "      <td>O</td>\n",
       "      <td>O</td>\n",
       "      <td>O</td>\n",
       "      <td>O</td>\n",
       "      <td>O</td>\n",
       "      <td>O</td>\n",
       "      <td>O</td>\n",
       "      <td>O</td>\n",
       "      <td>O</td>\n",
       "      <td>O</td>\n",
       "      <td>O</td>\n",
       "      <td>O</td>\n",
       "      <td>O</td>\n",
       "      <td>O</td>\n",
       "      <td>O</td>\n",
       "      <td>O</td>\n",
       "      <td>O</td>\n",
       "      <td>O</td>\n",
       "      <td>O</td>\n",
       "      <td>O</td>\n",
       "      <td>O</td>\n",
       "      <td>O</td>\n",
       "      <td>O</td>\n",
       "      <td>O</td>\n",
       "      <td>O</td>\n",
       "      <td>O</td>\n",
       "      <td>O</td>\n",
       "      <td>O</td>\n",
       "      <td>O</td>\n",
       "      <td>O</td>\n",
       "      <td>O</td>\n",
       "      <td>O</td>\n",
       "    </tr>\n",
       "  </tbody>\n",
       "</table>\n",
       "<p>73 rows × 155 columns</p>\n",
       "</div>"
      ],
      "text/plain": [
       "   sentence  begin  end        token ner_oncology_tnm_langtest ner_deid_augmented ner_deid_subentity_augmented_i2b2 ner_vop_clinical_dept_langtest ner_risk_factors_langtest ner_radiology_wip_clinical ner_deidentify_dl ner_vop_v2    ner_jsl_slim ner_ade_clinical_langtest ner_deid_subentity_augmented_langtest ner_vop_anatomy_langtest ner_deid_synthetic ner_diseases_langtest ner_drugs_greedy          ner_opioid ner_vop_test_langtest ner_vop_clinical_dept ner_events_admission_clinical ner_posology_greedy ner_vop_temporal ner_sdoh_social_environment ner_oncology ner_jsl_greedy ner_alcohol_smoking ner_diseases_large ner_chemprot_clinical ner_posology_large ner_oncology_anatomy_granular_langtest ner_clinical_large_langtest ner_jsl_limited_80p_for_benchmarks ner_sdoh_mentions_test ner_vop_test    ner_vop ner_clinical_abbreviation_langtest ner_oncology_langtest ner_chexpert ner_vop_problem ner_section_header_diagnosis ner_bionlp_langtest ner_drugs_large ner_vop_problem_reduced ner_clinical_large ner_bacterial_species_langtest ner_chemicals ner_bacterial_species  ... ner_vop_problem_langtest ner_anatomy_coarse ner_oncology_demographics_langtest ner_nature_nero_clinical ner_oncology_anatomy_granular ner_medmentions_coarse ner_oncology_therapy ner_deid_sd ner_oncology_response_to_treatment_langtest ner_oncology_demographics ner_deid_generic_augmented ner_anatomy ner_deid_enriched ner_living_species_langtest ner_deid_generic_augmented_langtest ner_deid_subentity_augmented ner_oncology_diagnosis ner_oncology_diagnosis_langtest ner_oncology_limited_80p_for_benchmarks ner_sdoh_substance_usage ner_measurements_clinical ner_menopause_core ner_ade_binary ner_nihss        ner_pathogen ner_jsl_enriched ner_oncology_tnm ner_posology_experimental ner_oncology_biomarker_langtest ner_vop_temporal_langtest jsl_ner_wip_clinical ner_sdoh_income_social_status ner_biomedical_bc2gm ner_human_phenotype_gene_clinical_langtest ner_vop_anatomy    ner_jsl ner_events_clinical ner_supplement_clinical ner_oncology_test_langtest ner_deid_generic_augmented_allUpperCased_langtest ner_clinical_langtest ner_oncology_unspecific_posology ner_genetic_variants ner_radiology  ner_eu_clinical_case ner_posology ner_oncology_posology ner_covid_trials ner_vop_problem_reduced_langtest ner_posology_langtest\n",
       "0         0      0    0            A                         O                  O                                 O                              O                         O                          O                 O          O               O                         O                                     O                        O                  O                     O                O                   O                     O                     O                             O                   O                O                           O            O              O                   O                  O                     O                  O                                      O                           O                                  O                      O            O          O                                  O                     O            O               O                            O                   O               O                       O                  O                              O             O                     O  ...                        O                  O                                  O                        O                             O                      O                    O           O                                           O                         O                          O           O                 O                           O                                   O                            O                      O                               O                                       O                        O                         O                  O              O         O                   O                O                O                         O                               O                         O                    O                             O                    O                                          O               O          O                   O                       O                          O                                                 O                     O                                O                    O             O             B-patient            O                     O                O                                O                     O\n",
       "1         0      2   12  28-year-old                         O                  O                                 O                              O                         O                          O                 O      B-Age           B-Age                         O                                 B-AGE                        O                  O                     O                O                   O                     O                     O                             O                   O                O                           O     B-Gender          B-Age                   O                  O                     O                  O                                      O                           O                              B-Age                      O            O      B-Age                                  O                     O            O               O                            O                   O               O                       O                  O                              O             O                     O  ...                        O                  O                           B-Gender                 B-Person                             O                      O                    O           O                                           O                  B-Gender                      B-AGE           O                 O                           O                               B-AGE                        B-AGE                      O                               O                                B-Gender                        O                         O                  O              O         O                   O            B-Age                O                         O                               O                         O                B-Age                             O                    O                                          O               O      B-Age                   O                       O                          O                                             B-AGE                     O                                O                    O             O             I-patient            O                     O         B-Gender                                O                     O\n",
       "2         0     14   19       female                         O                  O                                 O                              O                         O                          O                 O   B-Gender  B-Demographics                         O                                     O                        O                  O                     O                O                   O                     O                     O                             O                   O                O                           O     B-Gender       B-Gender                   O                  O                     O                  O                                      O                           O                           B-Gender                      O            O   B-Gender                                  O              B-Gender            O               O                            O                   O               O                       O                  O                              O             O                     O  ...                        O                  O                           B-Gender                 I-Person                             O   B-Organism_Attribute                    O           O                                           O                  B-Gender                          O           O                 O                     B-HUMAN                                   O                            O                      O                               O                                B-Gender                        O                         O                  O              O         O                   O         B-Gender                O                         O                               O                         O             B-Gender                             O                    O                                          O               O   B-Gender                   O                       O                          O                                                 O                     O                                O                    O             O             I-patient            O                     O         B-Gender                                O                     O\n",
       "3         0     21   24         with                         O                  O                                 O                              O                         O                          O                 O          O               O                         O                                     O                        O                  O                     O                O                   O                     O                     O                             O                   O                O                           O            O              O                   O                  O                     O                  O                                      O                           O                                  O                      O            O          O                                  O                     O            O               O                            O                   O               O                       O                  O                              O             O                     O  ...                        O                  O                                  O                        O                             O                      O                    O           O                                           O                         O                          O           O                 O                           O                                   O                            O                      O                               O                                       O                        O                         O                  O              O         O                   O                O                O                         O                               O                         O                    O                             O                    O                                          O               O          O                   O                       O                          O                                                 O                     O                                O                    O             O                     O            O                     O                O                                O                     O\n",
       "4         0     26   26            a                         O                  O                                 O                              O                         O                          O                 O          O               O                         O                                     O                        O                  O                     O                O                   O                     O                     O                             O                   O                O                           O            O              O                   O                  O                     O                  O                                      O                           O                                  O                      O            O          O                                  O                     O            O               O                            O                   O               O                       O                  O                              O             O                     O  ...                        O                  O                                  O                        O                             O                      O                    O           O                                           O                         O                          O           O                 O                           O                                   O                            O                      O                               O                                       O                        O                         O                  O              O         O                   O                O                O                         O                               O                         O                    O                             O                    O                                          O               O          O                   O                       O                          O                                                 O                     O                                O                    O             O                     O            O                     O                O                                O                     O\n",
       "..      ...    ...  ...          ...                       ...                ...                               ...                            ...                       ...                        ...               ...        ...             ...                       ...                                   ...                      ...                ...                   ...              ...                 ...                   ...                   ...                           ...                 ...              ...                         ...          ...            ...                 ...                ...                   ...                ...                                    ...                         ...                                ...                    ...          ...        ...                                ...                   ...          ...             ...                          ...                 ...             ...                     ...                ...                            ...           ...                   ...  ...                      ...                ...                                ...                      ...                           ...                    ...                  ...         ...                                         ...                       ...                        ...         ...               ...                         ...                                 ...                          ...                    ...                             ...                                     ...                      ...                       ...                ...            ...       ...                 ...              ...              ...                       ...                             ...                       ...                  ...                           ...                  ...                                        ...             ...        ...                 ...                     ...                        ...                                               ...                   ...                              ...                  ...           ...                   ...          ...                   ...              ...                              ...                   ...\n",
       "68        0    409  416     appetite                         O                  O                                 O                              O                         O                  I-Symptom                 O  I-Symptom       I-Symptom                     I-ADE                                     O                        O                  O                     O                O  I-general_symptoms                     O                     O                     I-PROBLEM                   O                O                           O            O      I-Symptom        I-GUT_Issues                  O                     O                  O                                      O                   I-PROBLEM                          I-Symptom                      O            O  I-Symptom                                  O                     O            O       I-Symptom                            O                   O               O               I-Problem          I-PROBLEM                              O             O                     O  ...                I-Symptom                  O                                  O         I-Medicalfinding                             O      I-Sign_or_Symptom                    O           O                                           O                         O                          O           O                 O                           O                                   O                            O                      O                               O                                       O                        O                         O    I-Other_Symptom          I-ADE         O  I-MedicalCondition        I-Symptom                O                         O                               O                         O            I-Symptom                             O                    O                                          O               O  I-Symptom           I-PROBLEM                       O                          O                                                 O             I-PROBLEM                                O                    O     I-Symptom  I-clinical_condition            O                     O                O                        I-Problem                     O\n",
       "69        0    418  418            ,                         O                  O                                 O                              O                         O                          O                 O          O               O                         O                                     O                        O                  O                     O                O                   O                     O                     O                             O                   O                O                           O            O              O                   O                  O                     O                  O                                      O                           O                                  O                      O            O          O                                  O                     O            O               O                            O                   O               O                       O                  O                              O             O                     O  ...                        O                  O                                  O                        O                             O                      O                    O           O                                           O                         O                          O           O                 O                           O                                   O                            O                      O                               O                                       O                        O                         O                  O              O         O                   O                O                O                         O                               O                         O                    O                             O                    O                                          O               O          O                   O                       O                          O                                                 O                     O                                O                    O             O                     O            O                     O                O                                O                     O\n",
       "70        0    420  422          and                         O                  O                                 O                              O                         O                          O                 O          O               O                         O                                     O                        O                  O                     O                O                   O                     O                     O                             O                   O                O                           O            O              O                   O                  O                     O                  O                                      O                           O                                  O                      O            O          O                                  O                     O            O               O                            O                   O               O                       O                  O                              O             O                     O  ...                        O                  O                                  O                        O                             O                      O                    O           O                                           O                         O                          O           O                 O                           O                                   O                            O                      O                               O                                       O                        O                         O                  O              O         O                   O                O                O                         O                               O                         O                    O                             O                    O                                          O               O          O                   O                       O                          O                                                 O                     O                                O                    O             O                     O            O                     O                O                                O                     O\n",
       "71        0    424  431     vomiting                         O                  O                                 O                              O                         O                  B-Symptom                 O  B-Symptom       B-Symptom                     B-ADE                                     O                        O                  O             B-Disease                O  B-general_symptoms                     O                     O                     B-PROBLEM                   O                O                           O            O      B-Symptom        B-GUT_Issues          B-Disease                     O                  O                                      O                   B-PROBLEM                          B-Symptom                      O            O  B-Symptom                                  O                     O            O       B-Symptom                            O                   O               O               B-Problem          B-PROBLEM                              O             O                     O  ...                B-Symptom                  O                                  O         B-Medicalfinding                             O      B-Sign_or_Symptom                    O           O                                           O                         O                          O           O                 O                           O                                   O                            O                      O                               O                                       O                        O                         O    B-Other_Symptom          B-ADE         O  B-MedicalCondition        B-Symptom                O                         O                               O                         O            B-Symptom                             O                    O                                       B-HP               O  B-Symptom           B-PROBLEM             B-CONDITION                          O                                                 O             B-PROBLEM                                O                    O     B-Symptom  B-clinical_condition            O                     O                O                        B-Problem                     O\n",
       "72        0    433  433            .                         O                  O                                 O                              O                         O                          O                 O          O               O                         O                                     O                        O                  O                     O                O                   O                     O                     O                             O                   O                O                           O            O              O                   O                  O                     O                  O                                      O                           O                                  O                      O            O          O                                  O                     O            O               O                            O                   O               O                       O                  O                              O             O                     O  ...                        O                  O                                  O                        O                             O                      O                    O           O                                           O                         O                          O           O                 O                           O                                   O                            O                      O                               O                                       O                        O                         O                  O              O         O                   O                O                O                         O                               O                         O                    O                             O                    O                                          O               O          O                   O                       O                          O                                                 O                     O                                O                    O             O                     O            O                     O                O                                O                     O\n",
       "\n",
       "[73 rows x 155 columns]"
      ]
     },
     "execution_count": 72,
     "metadata": {},
     "output_type": "execute_result"
    }
   ],
   "source": [
    "get_token_results(clinical_result)"
   ]
  },
  {
   "cell_type": "markdown",
   "metadata": {
    "application/vnd.databricks.v1+cell": {
     "cellMetadata": {
      "byteLimit": 2048000,
      "rowLimit": 10000
     },
     "inputWidgets": {},
     "nuid": "1d79ce8b-c48f-4ac7-bc23-1c467ccb77ff",
     "showTitle": false,
     "tableResultSettingsMap": {},
     "title": ""
    },
    "id": "P40wIaZ3GDwI"
   },
   "source": [
    "## NER Model Finder Pretrained Pipeline\n",
    "`ner_model_finder`  pretrained pipeline trained with bert embeddings that can be used to find the most appropriate NER model given the entity name."
   ]
  },
  {
   "cell_type": "code",
   "execution_count": 0,
   "metadata": {
    "application/vnd.databricks.v1+cell": {
     "cellMetadata": {
      "byteLimit": 2048000,
      "rowLimit": 10000
     },
     "inputWidgets": {},
     "nuid": "abaa24d8-de57-448f-b544-241973d966c5",
     "showTitle": false,
     "tableResultSettingsMap": {},
     "title": ""
    },
    "colab": {
     "base_uri": "https://localhost:8080/"
    },
    "executionInfo": {
     "elapsed": 22166,
     "status": "ok",
     "timestamp": 1707941996644,
     "user": {
      "displayName": "Akar Öztürk",
      "userId": "07602883577262601067"
     },
     "user_tz": -60
    },
    "id": "SLqkp-9NGJG5",
    "outputId": "f360a274-3831-429a-9083-095dad50d03a"
   },
   "outputs": [
    {
     "output_type": "stream",
     "name": "stdout",
     "output_type": "stream",
     "text": [
      "ner_model_finder download started this may take some time.\nApprox size to download 148.7 MB\n\r[ | ]\r[ / ]\r[ — ]\r[ \\ ]\r[ | ]\r[OK!]\n"
     ]
    }
   ],
   "source": [
    "finder_pipeline = nlp.PretrainedPipeline(\"ner_model_finder\", \"en\", \"clinical/models\")"
   ]
  },
  {
   "cell_type": "code",
   "execution_count": 0,
   "metadata": {
    "application/vnd.databricks.v1+cell": {
     "cellMetadata": {
      "byteLimit": 2048000,
      "rowLimit": 10000
     },
     "inputWidgets": {},
     "nuid": "006b5072-41a2-41fd-8193-19b9dd65b29a",
     "showTitle": false,
     "tableResultSettingsMap": {},
     "title": ""
    },
    "colab": {
     "base_uri": "https://localhost:8080/"
    },
    "executionInfo": {
     "elapsed": 1186,
     "status": "ok",
     "timestamp": 1707941997817,
     "user": {
      "displayName": "Akar Öztürk",
      "userId": "07602883577262601067"
     },
     "user_tz": -60
    },
    "id": "5PGY9hNAGJrI",
    "outputId": "5772bed6-a5eb-470d-ecbb-ced9b667e665"
   },
   "outputs": [
    {
     "output_type": "execute_result",
     "data": {
      "text/plain": [
       "dict_keys(['model_names'])"
      ]
     },
     "execution_count": 74,
     "metadata": {},
     "output_type": "execute_result"
    }
   ],
   "source": [
    "result = finder_pipeline.fullAnnotate(\"oncology\")[0]\n",
    "result.keys()"
   ]
  },
  {
   "cell_type": "markdown",
   "metadata": {
    "application/vnd.databricks.v1+cell": {
     "cellMetadata": {
      "byteLimit": 2048000,
      "rowLimit": 10000
     },
     "inputWidgets": {},
     "nuid": "1d9df4e2-70e8-4cfe-a904-d3ed60566e53",
     "showTitle": false,
     "tableResultSettingsMap": {},
     "title": ""
    },
    "id": "aR5Y9XU7Gjg1"
   },
   "source": [
    "From the metadata in the 'model_names' column, we'll get to the top models to the given 'oncology' entity and oncology related categories."
   ]
  },
  {
   "cell_type": "code",
   "execution_count": 0,
   "metadata": {
    "application/vnd.databricks.v1+cell": {
     "cellMetadata": {
      "byteLimit": 2048000,
      "rowLimit": 10000
     },
     "inputWidgets": {},
     "nuid": "ac9652f9-54b1-44e8-bd24-31bd3898d14d",
     "showTitle": false,
     "tableResultSettingsMap": {},
     "title": ""
    },
    "id": "ARzyEhjUGQba"
   },
   "outputs": [],
   "source": [
    "df= pd.DataFrame(zip(result[\"model_names\"][0].metadata[\"all_k_resolutions\"].split(\":::\"),\n",
    "                     result[\"model_names\"][0].metadata[\"all_k_results\"].split(\":::\")),\n",
    "                 columns=[\"category\", \"top_models\"])"
   ]
  },
  {
   "cell_type": "code",
   "execution_count": 0,
   "metadata": {
    "application/vnd.databricks.v1+cell": {
     "cellMetadata": {
      "byteLimit": 2048000,
      "rowLimit": 10000
     },
     "inputWidgets": {},
     "nuid": "4d9155ff-4879-4a55-9677-5cc9d2d671bd",
     "showTitle": false,
     "tableResultSettingsMap": {},
     "title": ""
    },
    "colab": {
     "base_uri": "https://localhost:8080/",
     "height": 206
    },
    "executionInfo": {
     "elapsed": 9,
     "status": "ok",
     "timestamp": 1707941997819,
     "user": {
      "displayName": "Akar Öztürk",
      "userId": "07602883577262601067"
     },
     "user_tz": -60
    },
    "id": "KxqfpQ4mNvEj",
    "outputId": "dad5a905-94e8-4537-ef12-63dc65aa37ff"
   },
   "outputs": [
    {
     "output_type": "execute_result",
     "data": {
      "text/html": [
       "<div>\n",
       "<style scoped>\n",
       "    .dataframe tbody tr th:only-of-type {\n",
       "        vertical-align: middle;\n",
       "    }\n",
       "\n",
       "    .dataframe tbody tr th {\n",
       "        vertical-align: top;\n",
       "    }\n",
       "\n",
       "    .dataframe thead th {\n",
       "        text-align: right;\n",
       "    }\n",
       "</style>\n",
       "<table border=\"1\" class=\"dataframe\">\n",
       "  <thead>\n",
       "    <tr style=\"text-align: right;\">\n",
       "      <th></th>\n",
       "      <th>category</th>\n",
       "      <th>top_models</th>\n",
       "    </tr>\n",
       "  </thead>\n",
       "  <tbody>\n",
       "    <tr>\n",
       "      <th>0</th>\n",
       "      <td>oncology therapy</td>\n",
       "      <td>['ner_jsl', 'jsl_rd_ner_wip_greedy_clinical', 'jsl_ner_wip_modifier_clinical', 'ner_jsl_enriched...</td>\n",
       "    </tr>\n",
       "    <tr>\n",
       "      <th>1</th>\n",
       "      <td>clinical department</td>\n",
       "      <td>['ner_jsl', 'jsl_rd_ner_wip_greedy_clinical', 'jsl_ner_wip_modifier_clinical', 'ner_events_clini...</td>\n",
       "    </tr>\n",
       "    <tr>\n",
       "      <th>2</th>\n",
       "      <td>biomedical unit</td>\n",
       "      <td>['ner_clinical_trials_abstracts']</td>\n",
       "    </tr>\n",
       "    <tr>\n",
       "      <th>3</th>\n",
       "      <td>cancer genetics</td>\n",
       "      <td>['ner_cancer_genetics']</td>\n",
       "    </tr>\n",
       "    <tr>\n",
       "      <th>4</th>\n",
       "      <td>anatomy</td>\n",
       "      <td>['ner_bionlp', 'ner_medmentions_coarse', 'ner_chexpert', 'ner_anatomy_coarse', 'ner_anatomy', 'n...</td>\n",
       "    </tr>\n",
       "  </tbody>\n",
       "</table>\n",
       "</div>"
      ],
      "text/plain": [
       "              category                                                                                           top_models\n",
       "0     oncology therapy  ['ner_jsl', 'jsl_rd_ner_wip_greedy_clinical', 'jsl_ner_wip_modifier_clinical', 'ner_jsl_enriched...\n",
       "1  clinical department  ['ner_jsl', 'jsl_rd_ner_wip_greedy_clinical', 'jsl_ner_wip_modifier_clinical', 'ner_events_clini...\n",
       "2      biomedical unit                                                                    ['ner_clinical_trials_abstracts']\n",
       "3      cancer genetics                                                                              ['ner_cancer_genetics']\n",
       "4              anatomy  ['ner_bionlp', 'ner_medmentions_coarse', 'ner_chexpert', 'ner_anatomy_coarse', 'ner_anatomy', 'n..."
      ]
     },
     "execution_count": 76,
     "metadata": {},
     "output_type": "execute_result"
    }
   ],
   "source": [
    "df.head()"
   ]
  },
  {
   "cell_type": "markdown",
   "metadata": {
    "application/vnd.databricks.v1+cell": {
     "cellMetadata": {
      "byteLimit": 2048000,
      "rowLimit": 10000
     },
     "inputWidgets": {},
     "nuid": "c5807f5d-9d1d-47f9-8520-bf4ce57b2a00",
     "showTitle": false,
     "tableResultSettingsMap": {},
     "title": ""
    },
    "id": "aVyotv_RoUOB"
   },
   "source": [
    "\n",
    "## Resolver Pipelines\n",
    "\n",
    "We have **Resolver pipelines** for converting clinical entities to their UMLS CUI codes. You will just feed your text and it will return the corresponding UMLS codes.\n",
    "\n",
    "**Resolver Pipelines:**\n",
    "\n",
    "| index | pipeline | Entity | Target |\n",
    "|-:|:-|:-|:-|\n",
    "| 1 | [umls_disease_syndrome_resolver_pipeline](https://nlp.johnsnowlabs.com/2022/07/26/umls_disease_syndrome_resolver_pipeline_en_3_0.html) | Disease and Syndromes | UMLS CUI |\n",
    "| 2 | [umls_drug_resolver_pipeline](https://nlp.johnsnowlabs.com/2022/07/26/umls_drug_resolver_pipeline_en_3_0.html) | Drug | UMLS CUI |\n",
    "| 3 | [umls_drug_substance_resolver_pipeline](https://nlp.johnsnowlabs.com/2022/07/25/umls_drug_substance_resolver_pipeline_en_3_0.html) | Drug Substance | UMLS CUI |\n",
    "| 4 | [medication_resolver_pipeline](https://nlp.johnsnowlabs.com/2022/09/01/medication_resolver_pipeline_en.html) | Drug | Adverse Reaction, RxNorm, UMLS<br>NDC, SNOMED CT |\n",
    "| 5 | [medication_resolver_transform_pipeline](https://nlp.johnsnowlabs.com/2022/09/01/medication_resolver_transform_pipeline_en.html) | Drug | Adverse Reaction, RxNorm<br>UMLS, NDC, SNOMED CT |\n",
    "| 6 | [umls_major_concepts_resolver_pipeline](https://nlp.johnsnowlabs.com/2022/07/25/umls_major_concepts_resolver_pipeline_en_3_0.html) | Clinical Major Concepts | UMLS CUI |\n",
    "| 7 | [umls_clinical_findings_resolver_pipeline](https://nlp.johnsnowlabs.com/2022/07/26/umls_clinical_findings_resolver_pipeline_en_3_0.html) | Clinical Findings | UMLS CUI |\n",
    "| 8 | [icd9_resolver_pipeline](https://nlp.johnsnowlabs.com/2022/09/30/icd9_resolver_pipeline_en.html) | Clinical Findings | ICD-9 |\n",
    "| 9 | [atc_resolver_pipeline](https://nlp.johnsnowlabs.com/2024/01/17/atc_resolver_pipeline_en.html) | Drug | ATC |\n",
    "| 10 | [cpt_procedures_measurements_resolver_pipeline](https://nlp.johnsnowlabs.com/2024/01/17/cpt_procedures_measurements_resolver_pipeline_en.html) | Procedure, Measurement | CPT |\n",
    "| 11 | [hcc_resolver_pipeline](https://nlp.johnsnowlabs.com/2024/01/17/hcc_resolver_pipeline_en.html) | Clinical Findings | HCC |\n",
    "| 12 | [hpo_resolver_pipeline](https://nlp.johnsnowlabs.com/2024/01/17/hpo_resolver_pipeline_en.html) | Human Phenotype | HPO |\n",
    "| 13 | [cvx_resolver_pipeline](https://nlp.johnsnowlabs.com/2022/10/12/cvx_resolver_pipeline_en.html) | Vaccine | CVX |\n",
    "| 14 | [icd10cm_resolver_pipeline](https://nlp.johnsnowlabs.com/2022/11/02/icd10cm_resolver_pipeline_en.html) | Problem | ICD-10 |\n",
    "| 15 | [icd10pcs_resolver_pipeline](https://nlp.johnsnowlabs.com/2024/02/02/icd10pcs_resolver_pipeline_en.html) | Procedure | ICD-10-PCS |\n",
    "| 16 | [icdo_resolver_pipeline](https://nlp.johnsnowlabs.com/2024/02/02/icdo_resolver_pipeline_en.html) | Problem | ICD-O |\n",
    "| 17 | [loinc_resolver_pipeline](https://nlp.johnsnowlabs.com/2024/02/02/loinc_resolver_pipeline_en.html) | Test | LOINC |\n",
    "| 18 | [loinc_numeric_resolver_pipeline](https://nlp.johnsnowlabs.com/2024/01/30/loinc_numeric_resolver_pipeline_en.html) | Test | LOINC |\n",
    "| 19 | [snomed_body_structure_resolver_pipeline](https://nlp.johnsnowlabs.com/2024/01/17/snomed_body_structure_resolver_pipeline_en.html) | Clinical Findings | SNOMED |\n",
    "| 20 | [snomed_findings_resolver_pipeline](https://nlp.johnsnowlabs.com/2024/01/17/snomed_findings_resolver_pipeline_en.html) | Clinical Findings | SNOMED CT |\n",
    "| 21 | [snomed_procedures_measurements_resolver_pipeline](https://nlp.johnsnowlabs.com/2024/01/31/snomed_findings_resolver_pipelin_en.html) | Procedure, Test | SNOMED |\n",
    "| 22 | [mesh_resolver_pipeline](https://nlp.johnsnowlabs.com/2024/01/25/mesh_resolver_pipeline_en.html) | Clinical Findings | MeSH |\n",
    "| 23 | [ndc_resolver_pipeline](https://nlp.johnsnowlabs.com/2024/01/25/ndc_resolver_pipeline_en.html) | Drug | NDC |\n",
    "| 24 | [ncit_resolver_pipeline](https://nlp.johnsnowlabs.com/2024/01/25/ncit_resolver_pipeline_en.html) | Clinical Findings | NCIt |\n",
    "| 25 | [rxcui_resolver_pipeline](https://nlp.johnsnowlabs.com/2024/02/01/rxcui_resolver_pipeline_en.html) | Clinical Findings | RxCUI |\n",
    "| 26 | [hcpcs_resolver_pipeline](https://nlp.johnsnowlabs.com/2024/01/30/hcpcs_resolver_pipeline_en.html) | Procedure | HCPCS |\n",
    "| 27 | [hgnc_resolver_pipeline](https://nlp.johnsnowlabs.com/2024/01/30/hgnc_resolver_pipeline_en.html) | Gene | HGNC |\n",
    "| 28 | [icd10cm_generalised_resolver_pipeline](https://nlp.johnsnowlabs.com/2024/01/30/icd10cm_generalised_resolver_pipeline_en.html) | Clinical Findings | ICD-10-CM |\n",
    "| 29 | [abbreviation_pipeline](https://nlp.johnsnowlabs.com/2023/08/16/abbreviation_pipeline_en.html) | ABBR | Definitions and Categories |\n",
    "| 30 | [icd10cm_multi_mapper_pipeline](https://nlp.johnsnowlabs.com/2023/08/16/icd10cm_multi_mapper_pipeline_en.html) | ICD-10-CM | Billable Mappings, HCC Codes<br>Cause Mappings, Claim Mappings<br>SNOMED Codes, UMLS Codes<br> ICD-9 Codes |\n",
    "| 31 | [rxnorm_multi_mapper_pipeline](https://nlp.johnsnowlabs.com/2023/08/16/rxnorm_multi_mapper_pipeline_en.html) | RxNorm | Drug Brand Names, RxNorm Extension Brand Names<br> Action Mappings, Treatment Mappings<br> UMLS Codes, NDC Product Codes<br> NDC Package Codes |\n",
    "| 32 | [rxnorm_resolver_pipeline](https://nlp.johnsnowlabs.com/2023/08/16/rxnorm_resolver_pipeline_en.html) | Drug | RxNorm |\n",
    "| 33 | [snomed_multi_mapper_pipeline](https://nlp.johnsnowlabs.com/2023/08/16/snomed_multi_mapper_pipeline_en.html) | SNOMED Codes | ICD-10, ICD-O, UMLS |\n",
    "| 34 | [icd10cm_rxnorm_resolver_pipeline](https://nlp.johnsnowlabs.com/2024/03/07/icd10cm_rxnorm_resolver_pipeline_en.html) | Drug | ICD-10, RxNorm |\n",
    "| 35 | [snomed_term_resolver_pipeline](https://nlp.johnsnowlabs.com/2024/03/22/snomed_term_resolver_pipeline_en.html) | SNOMED Codes | SNOMED terms |\n",
    "| 36 | [snomed_auxConcepts_resolver_pipeline](https://nlp.johnsnowlabs.com/2024/03/12/snomed_auxConcepts_resolver_pipeline_en.html) | Morph Abnormality, Clinical Drug<br>Clinical Drug Form, Procedure<br> Substance, Physical Object<br> Body Structure | SNOMED Codes |\n",
    "| 37 | [snomed_conditions_resolver_pipeline](https://nlp.johnsnowlabs.com/2024/03/11/snomed_conditions_resolver_pipeline_en.html) | Clinical Findings | SNOMED Codes |\n",
    "| 38 | [snomed_drug_resolver_pipeline](https://nlp.johnsnowlabs.com/2024/03/11/snomed_drug_resolver_pipeline_en.html) | Drug | SNOMED Codes |\n",
    "| 39 | [snomed_resolver_pipeline](https://nlp.johnsnowlabs.com/2024/03/11/snomed_resolver_pipeline_en.html) | Clinical Findings, Morph Abnormality<br>Clinical Drug, Clinical Drug Form<br> Procedure, Substance<br>Physical Object, Body Structure | SNOMED Codes |\n",
    "| 40 | [icd10gm_resolver_pipeline](https://nlp.johnsnowlabs.com/2023/07/01/icd10gm_resolver_pipeline_de.html) | Clinical Findings | ICD-10-GM |\n",
    "| 41 | [meddra_llt_resolver_pipeline](https://nlp.johnsnowlabs.com/2024/03/26/meddra_llt_resolver_pipeline_en.html) | Clinical Findings | MedDRA LLT |\n",
    "| 42 | [meddra_pt_resolver_pipeline](https://nlp.johnsnowlabs.com/2024/03/26/meddra_pt_resolver_pipeline_en.html) | Clinical Findings | MedDRA PT |\n"
   ]
  },
  {
   "cell_type": "markdown",
   "metadata": {
    "application/vnd.databricks.v1+cell": {
     "cellMetadata": {
      "byteLimit": 2048000,
      "rowLimit": 10000
     },
     "inputWidgets": {},
     "nuid": "9de6f133-c5cc-456b-91cb-57dc432c8aed",
     "showTitle": false,
     "tableResultSettingsMap": {},
     "title": ""
    },
    "id": "atbBnX2I3qxn"
   },
   "source": [
    "**icd10cm_resolver_pipeline**\n",
    "\n",
    "This pretrained pipeline extracts clinical conditions and map them to their corresponding ICD-10-CM codes. You’ll just feed your text and it will detect the related entities and return their corresponding ICD-10-CM codes."
   ]
  },
  {
   "cell_type": "code",
   "execution_count": 0,
   "metadata": {
    "application/vnd.databricks.v1+cell": {
     "cellMetadata": {
      "byteLimit": 2048000,
      "rowLimit": 10000
     },
     "inputWidgets": {},
     "nuid": "df0343d8-867c-47e9-a402-4a816378fbae",
     "showTitle": false,
     "tableResultSettingsMap": {},
     "title": ""
    },
    "colab": {
     "base_uri": "https://localhost:8080/"
    },
    "executionInfo": {
     "elapsed": 5689,
     "status": "ok",
     "timestamp": 1708015159843,
     "user": {
      "displayName": "Akar Öztürk",
      "userId": "07602883577262601067"
     },
     "user_tz": -60
    },
    "id": "tczqY0rsoT_M",
    "outputId": "27c0603a-e3d4-4b4d-d640-d08cafbbc7b7"
   },
   "outputs": [
    {
     "output_type": "stream",
     "name": "stdout",
     "output_type": "stream",
     "text": [
      "icd10cm_resolver_pipeline download started this may take some time.\nApprox size to download 2.4 GB\n\r[ | ]\r[ / ]\r[ — ]\r[ \\ ]\r[ | ]\r[ / ]\r[ — ]\r[ \\ ]\r[ | ]\r[ / ]\r[ — ]\r[ \\ ]\r[ | ]\r[ / ]\r[ — ]\r[ \\ ]\r[ | ]\r[ / ]\r[ — ]\r[ \\ ]\r[ | ]\r[ / ]\r[ — ]\r[ \\ ]\r[ | ]\r[OK!]\n"
     ]
    }
   ],
   "source": [
    "resolver_pipeline = nlp.PretrainedPipeline(\"icd10cm_resolver_pipeline\", \"en\", \"clinical/models\")\n",
    "\n",
    "text = \"\"\"A 28-year-old female with a history of gestational diabetes mellitus diagnosed eight years and anisakiasis. Also, it was reported that fetal and neonatal hemorrhage\"\"\"\n",
    "\n",
    "result = resolver_pipeline.fullAnnotate(text)[0]"
   ]
  },
  {
   "cell_type": "code",
   "execution_count": 0,
   "metadata": {
    "application/vnd.databricks.v1+cell": {
     "cellMetadata": {
      "byteLimit": 2048000,
      "rowLimit": 10000
     },
     "inputWidgets": {},
     "nuid": "016ddb72-9d9b-4a74-9fab-d64bb0d84b44",
     "showTitle": false,
     "tableResultSettingsMap": {},
     "title": ""
    },
    "colab": {
     "base_uri": "https://localhost:8080/",
     "height": 143
    },
    "executionInfo": {
     "elapsed": 5,
     "status": "ok",
     "timestamp": 1708016121408,
     "user": {
      "displayName": "Akar Öztürk",
      "userId": "07602883577262601067"
     },
     "user_tz": -60
    },
    "id": "xQO_wtAnrnSt",
    "outputId": "b24749c5-492a-4236-fd28-6333006eb201"
   },
   "outputs": [
    {
     "output_type": "execute_result",
     "data": {
      "text/html": [
       "<div>\n",
       "<style scoped>\n",
       "    .dataframe tbody tr th:only-of-type {\n",
       "        vertical-align: middle;\n",
       "    }\n",
       "\n",
       "    .dataframe tbody tr th {\n",
       "        vertical-align: top;\n",
       "    }\n",
       "\n",
       "    .dataframe thead th {\n",
       "        text-align: right;\n",
       "    }\n",
       "</style>\n",
       "<table border=\"1\" class=\"dataframe\">\n",
       "  <thead>\n",
       "    <tr style=\"text-align: right;\">\n",
       "      <th></th>\n",
       "      <th>chunks</th>\n",
       "      <th>entities</th>\n",
       "      <th>icd10cm_code</th>\n",
       "    </tr>\n",
       "  </thead>\n",
       "  <tbody>\n",
       "    <tr>\n",
       "      <th>0</th>\n",
       "      <td>gestational diabetes mellitus</td>\n",
       "      <td>PROBLEM</td>\n",
       "      <td>O24.4</td>\n",
       "    </tr>\n",
       "    <tr>\n",
       "      <th>1</th>\n",
       "      <td>anisakiasis</td>\n",
       "      <td>PROBLEM</td>\n",
       "      <td>B81.0</td>\n",
       "    </tr>\n",
       "    <tr>\n",
       "      <th>2</th>\n",
       "      <td>fetal and neonatal hemorrhage</td>\n",
       "      <td>PROBLEM</td>\n",
       "      <td>P54.5</td>\n",
       "    </tr>\n",
       "  </tbody>\n",
       "</table>\n",
       "</div>"
      ],
      "text/plain": [
       "                          chunks entities icd10cm_code\n",
       "0  gestational diabetes mellitus  PROBLEM        O24.4\n",
       "1                    anisakiasis  PROBLEM        B81.0\n",
       "2  fetal and neonatal hemorrhage  PROBLEM        P54.5"
      ]
     },
     "execution_count": 78,
     "metadata": {},
     "output_type": "execute_result"
    }
   ],
   "source": [
    "import pandas as pd\n",
    "chunks=[]\n",
    "entities=[]\n",
    "icd10cm_code=[]\n",
    "\n",
    "\n",
    "for n,m in zip(result['clinical_ner_chunk'], result['icd10cm']):\n",
    "\n",
    "    chunks.append(n.result)\n",
    "    entities.append(n.metadata['entity'])\n",
    "    icd10cm_code.append(m.result)\n",
    "\n",
    "\n",
    "df = pd.DataFrame({'chunks':chunks,\n",
    "                   'entities':entities,\n",
    "                   'icd10cm_code':icd10cm_code})\n",
    "\n",
    "df"
   ]
  },
  {
   "cell_type": "markdown",
   "metadata": {
    "application/vnd.databricks.v1+cell": {
     "cellMetadata": {
      "byteLimit": 2048000,
      "rowLimit": 10000
     },
     "inputWidgets": {},
     "nuid": "a9b5fa4d-39aa-4837-a6d6-2a4d360d2cb5",
     "showTitle": false,
     "tableResultSettingsMap": {},
     "title": ""
    },
    "id": "CZgI9RRHFB_h"
   },
   "source": [
    "## Oncology Pipelines"
   ]
  },
  {
   "cell_type": "markdown",
   "metadata": {
    "application/vnd.databricks.v1+cell": {
     "cellMetadata": {
      "byteLimit": 2048000,
      "rowLimit": 10000
     },
     "inputWidgets": {},
     "nuid": "e7184945-86ac-45ba-b224-931f5d35a054",
     "showTitle": false,
     "tableResultSettingsMap": {},
     "title": ""
    },
    "id": "1fiJRkvBFWoa"
   },
   "source": [
    "**Oncology Pretrained Pipeline List:**\n",
    "\n",
    "\n",
    "|index|model|index|model|\n",
    "|-----:|:-----|-----:|:-----|\n",
    "| 1| [oncology_biomarker_pipeline](https://nlp.johnsnowlabs.com/2022/12/01/oncology_biomarker_pipeline_en.html)  | 2| [oncology_general_pipeline](https://nlp.johnsnowlabs.com/2022/12/01/oncology_general_pipeline_en.html)  |\n",
    "| 3| [oncology_therapy_pipeline](https://nlp.johnsnowlabs.com/2022/12/01/oncology_therapy_pipeline_en.html)  | 4| [oncology_diagnosis_pipeline](https://nlp.johnsnowlabs.com/2022/12/01/oncology_diagnosis_pipeline_en.html)  \n",
    "| 5| [explain_clinical_doc_oncology](https://nlp.johnsnowlabs.com/2024/01/18/explain_clinical_doc_oncology_en.html)  |"
   ]
  },
  {
   "cell_type": "code",
   "execution_count": 0,
   "metadata": {
    "application/vnd.databricks.v1+cell": {
     "cellMetadata": {
      "byteLimit": 2048000,
      "rowLimit": 10000
     },
     "inputWidgets": {},
     "nuid": "52ba322e-f27b-4f9a-a9f0-7730c9efb45c",
     "showTitle": false,
     "tableResultSettingsMap": {},
     "title": ""
    },
    "colab": {
     "base_uri": "https://localhost:8080/"
    },
    "executionInfo": {
     "elapsed": 192497,
     "status": "ok",
     "timestamp": 1707943314938,
     "user": {
      "displayName": "Akar Öztürk",
      "userId": "07602883577262601067"
     },
     "user_tz": -60
    },
    "id": "FKyKQPu3FTI1",
    "outputId": "50a0a358-d1c8-4ac5-a5ec-07344bd4cd05"
   },
   "outputs": [
    {
     "output_type": "stream",
     "name": "stdout",
     "output_type": "stream",
     "text": [
      "oncology_biomarker_pipeline download started this may take some time.\nApprox size to download 1.7 GB\n\r[ | ]\r[ / ]\r[ — ]\r[ \\ ]\r[ | ]\r[ / ]\r[ — ]\r[ \\ ]\r[ | ]\r[ / ]\r[ — ]\r[ \\ ]\r[ | ]\r[ / ]\r[ — ]\r[ \\ ]\r[ | ]\r[ / ]\r[ — ]\r[ \\ ]\r[ | ]\r[ / ]\r[ — ]\r[ \\ ]\r[OK!]\n"
     ]
    }
   ],
   "source": [
    "oncology_pipeline = nlp.PretrainedPipeline(\"oncology_biomarker_pipeline\", \"en\", \"clinical/models\")"
   ]
  },
  {
   "cell_type": "code",
   "execution_count": 0,
   "metadata": {
    "application/vnd.databricks.v1+cell": {
     "cellMetadata": {
      "byteLimit": 2048000,
      "rowLimit": 10000
     },
     "inputWidgets": {},
     "nuid": "1dd9dce6-02c3-4348-8397-8611a1498c52",
     "showTitle": false,
     "tableResultSettingsMap": {},
     "title": ""
    },
    "colab": {
     "base_uri": "https://localhost:8080/"
    },
    "executionInfo": {
     "elapsed": 6,
     "status": "ok",
     "timestamp": 1707943314938,
     "user": {
      "displayName": "Akar Öztürk",
      "userId": "07602883577262601067"
     },
     "user_tz": -60
    },
    "id": "Y3TbkbVUGW1x",
    "outputId": "258aa832-6adc-4b21-f2bc-10131c15a770"
   },
   "outputs": [
    {
     "output_type": "execute_result",
     "data": {
      "text/plain": [
       "[DocumentAssembler_eb57bf5cf30e,\n",
       " SentenceDetectorDLModel_6bafc4746ea5,\n",
       " REGEX_TOKENIZER_680255179420,\n",
       " WORD_EMBEDDINGS_MODEL_9004b1d00302,\n",
       " MedicalNerModel_8c59079bd37d,\n",
       " NER_CONVERTER_d79f163a7a32,\n",
       " MedicalNerModel_9fb8ec89af4a,\n",
       " NER_CONVERTER_fa7b541b0591,\n",
       " MedicalNerModel_74c49312f388,\n",
       " NER_CONVERTER_3a4f3eafbd08,\n",
       " MedicalNerModel_299a97740594,\n",
       " NER_CONVERTER_41fb99c5a464,\n",
       " ENTITY_EXTRACTOR_97d5ccc4aacb,\n",
       " MERGE_50eacd2b5f25,\n",
       " MERGE_1c1f6694a68e,\n",
       " ASSERTION_DL_d9d32f5f411d,\n",
       " ChunkFilterer_c0760fd4f0e6,\n",
       " ASSERTION_DL_163867728788,\n",
       " AssertionMerger_2841f135a8d0,\n",
       " POS_6f55785005bf,\n",
       " dependency_e7755462ba78,\n",
       " RelationExtractionModel_68ebe11369b6,\n",
       " RelationExtractionModel_513eb6317779,\n",
       " AnnotationMerger_8e6af0218865]"
      ]
     },
     "execution_count": 80,
     "metadata": {},
     "output_type": "execute_result"
    }
   ],
   "source": [
    "oncology_pipeline.model.stages"
   ]
  },
  {
   "cell_type": "code",
   "execution_count": 0,
   "metadata": {
    "application/vnd.databricks.v1+cell": {
     "cellMetadata": {
      "byteLimit": 2048000,
      "rowLimit": 10000
     },
     "inputWidgets": {},
     "nuid": "c2f6b57b-304d-43be-936f-a4553798df6c",
     "showTitle": false,
     "tableResultSettingsMap": {},
     "title": ""
    },
    "colab": {
     "base_uri": "https://localhost:8080/"
    },
    "executionInfo": {
     "elapsed": 3161,
     "status": "ok",
     "timestamp": 1707943318096,
     "user": {
      "displayName": "Akar Öztürk",
      "userId": "07602883577262601067"
     },
     "user_tz": -60
    },
    "id": "QP1lrVgwGaGJ",
    "outputId": "37a751e5-b273-48d6-d38a-23a659740037"
   },
   "outputs": [
    {
     "output_type": "execute_result",
     "data": {
      "text/plain": [
       "dict_keys(['ner_oncology_biomarker_chunk', 'cancer_dx', 'assertion_oncology', 'ner_biomarker_chunk', 'ner_oncology', 'document', 'merged_chunk', 'ner_biomarker', 're_oncology_granular', 'ner_oncology_biomarker', 'ner_oncology_test_chunk', 're_oncology_biomarker_result', 'all_relations', 'ner_oncology_test', 'ner_oncology_chunk', 'token', 'assertion_chunk_test', 'embeddings', 'pos_tags', 'assertion_chunk_oncology', 'assertion_merger', 'dependencies', 'assertion_oncology_test_binary', 'sentence'])"
      ]
     },
     "execution_count": 81,
     "metadata": {},
     "output_type": "execute_result"
    }
   ],
   "source": [
    "text = \"\"\"Immunohistochemistry was negative for thyroid transcription factor-1 and napsin A. The test was positive for ER and PR, and negative for HER2.\"\"\"\n",
    "\n",
    "result = oncology_pipeline.fullAnnotate(text)[0]\n",
    "\n",
    "result.keys()"
   ]
  },
  {
   "cell_type": "markdown",
   "metadata": {
    "application/vnd.databricks.v1+cell": {
     "cellMetadata": {
      "byteLimit": 2048000,
      "rowLimit": 10000
     },
     "inputWidgets": {},
     "nuid": "486dd01c-c5ec-447e-add2-4b2431744d24",
     "showTitle": false,
     "tableResultSettingsMap": {},
     "title": ""
    },
    "id": "i8gvhnpYwxyG"
   },
   "source": [
    "**NER Results**"
   ]
  },
  {
   "cell_type": "code",
   "execution_count": 0,
   "metadata": {
    "application/vnd.databricks.v1+cell": {
     "cellMetadata": {
      "byteLimit": 2048000,
      "rowLimit": 10000
     },
     "inputWidgets": {},
     "nuid": "b2808fa9-a4b7-422d-b2ea-155cfc520c27",
     "showTitle": false,
     "tableResultSettingsMap": {},
     "title": ""
    },
    "colab": {
     "base_uri": "https://localhost:8080/",
     "height": 331
    },
    "executionInfo": {
     "elapsed": 9,
     "status": "ok",
     "timestamp": 1707943318096,
     "user": {
      "displayName": "Akar Öztürk",
      "userId": "07602883577262601067"
     },
     "user_tz": -60
    },
    "id": "mognxRX9BJwZ",
    "outputId": "515bf365-039f-4f33-e532-c035e3f86598"
   },
   "outputs": [
    {
     "output_type": "execute_result",
     "data": {
      "text/html": [
       "<div>\n",
       "<style scoped>\n",
       "    .dataframe tbody tr th:only-of-type {\n",
       "        vertical-align: middle;\n",
       "    }\n",
       "\n",
       "    .dataframe tbody tr th {\n",
       "        vertical-align: top;\n",
       "    }\n",
       "\n",
       "    .dataframe thead th {\n",
       "        text-align: right;\n",
       "    }\n",
       "</style>\n",
       "<table border=\"1\" class=\"dataframe\">\n",
       "  <thead>\n",
       "    <tr style=\"text-align: right;\">\n",
       "      <th></th>\n",
       "      <th>chunks</th>\n",
       "      <th>begin</th>\n",
       "      <th>end</th>\n",
       "      <th>entities</th>\n",
       "      <th>confidence</th>\n",
       "    </tr>\n",
       "  </thead>\n",
       "  <tbody>\n",
       "    <tr>\n",
       "      <th>0</th>\n",
       "      <td>Immunohistochemistry</td>\n",
       "      <td>0</td>\n",
       "      <td>19</td>\n",
       "      <td>Pathology_Test</td>\n",
       "      <td>0.9986</td>\n",
       "    </tr>\n",
       "    <tr>\n",
       "      <th>1</th>\n",
       "      <td>negative</td>\n",
       "      <td>25</td>\n",
       "      <td>32</td>\n",
       "      <td>Biomarker_Result</td>\n",
       "      <td>0.9933</td>\n",
       "    </tr>\n",
       "    <tr>\n",
       "      <th>2</th>\n",
       "      <td>thyroid transcription factor-1</td>\n",
       "      <td>38</td>\n",
       "      <td>67</td>\n",
       "      <td>Biomarker</td>\n",
       "      <td>0.924675</td>\n",
       "    </tr>\n",
       "    <tr>\n",
       "      <th>3</th>\n",
       "      <td>napsin A</td>\n",
       "      <td>73</td>\n",
       "      <td>80</td>\n",
       "      <td>Biomarker</td>\n",
       "      <td>0.9865</td>\n",
       "    </tr>\n",
       "    <tr>\n",
       "      <th>4</th>\n",
       "      <td>positive</td>\n",
       "      <td>96</td>\n",
       "      <td>103</td>\n",
       "      <td>Biomarker_Result</td>\n",
       "      <td>0.9952</td>\n",
       "    </tr>\n",
       "    <tr>\n",
       "      <th>5</th>\n",
       "      <td>ER</td>\n",
       "      <td>109</td>\n",
       "      <td>110</td>\n",
       "      <td>Biomarker</td>\n",
       "      <td>0.9985</td>\n",
       "    </tr>\n",
       "    <tr>\n",
       "      <th>6</th>\n",
       "      <td>PR</td>\n",
       "      <td>116</td>\n",
       "      <td>117</td>\n",
       "      <td>Biomarker</td>\n",
       "      <td>0.9941</td>\n",
       "    </tr>\n",
       "    <tr>\n",
       "      <th>7</th>\n",
       "      <td>negative</td>\n",
       "      <td>124</td>\n",
       "      <td>131</td>\n",
       "      <td>Biomarker_Result</td>\n",
       "      <td>0.9985</td>\n",
       "    </tr>\n",
       "    <tr>\n",
       "      <th>8</th>\n",
       "      <td>HER2</td>\n",
       "      <td>137</td>\n",
       "      <td>140</td>\n",
       "      <td>Oncogene</td>\n",
       "      <td>0.9996</td>\n",
       "    </tr>\n",
       "  </tbody>\n",
       "</table>\n",
       "</div>"
      ],
      "text/plain": [
       "                           chunks  begin  end          entities confidence\n",
       "0            Immunohistochemistry      0   19    Pathology_Test     0.9986\n",
       "1                        negative     25   32  Biomarker_Result     0.9933\n",
       "2  thyroid transcription factor-1     38   67         Biomarker   0.924675\n",
       "3                        napsin A     73   80         Biomarker     0.9865\n",
       "4                        positive     96  103  Biomarker_Result     0.9952\n",
       "5                              ER    109  110         Biomarker     0.9985\n",
       "6                              PR    116  117         Biomarker     0.9941\n",
       "7                        negative    124  131  Biomarker_Result     0.9985\n",
       "8                            HER2    137  140          Oncogene     0.9996"
      ]
     },
     "execution_count": 82,
     "metadata": {},
     "output_type": "execute_result"
    }
   ],
   "source": [
    "chunks=[]\n",
    "entities=[]\n",
    "begins=[]\n",
    "ends=[]\n",
    "confidence=[]\n",
    "for n in result['merged_chunk']:\n",
    "\n",
    "    chunks.append(n.result)\n",
    "    begins.append(n.begin)\n",
    "    ends.append(n.end)\n",
    "    entities.append(n.metadata['entity'])\n",
    "    confidence.append(n.metadata['confidence'])\n",
    "\n",
    "df = pd.DataFrame({'chunks':chunks, 'begin':begins, 'end':ends, 'entities':entities, 'confidence':confidence})\n",
    "\n",
    "df"
   ]
  },
  {
   "cell_type": "markdown",
   "metadata": {
    "application/vnd.databricks.v1+cell": {
     "cellMetadata": {
      "byteLimit": 2048000,
      "rowLimit": 10000
     },
     "inputWidgets": {},
     "nuid": "5007ec10-14da-4f59-a902-aa47956aef62",
     "showTitle": false,
     "tableResultSettingsMap": {},
     "title": ""
    },
    "id": "WPgXdSQlw1oS"
   },
   "source": [
    "**Assertion Status Results**"
   ]
  },
  {
   "cell_type": "code",
   "execution_count": 0,
   "metadata": {
    "application/vnd.databricks.v1+cell": {
     "cellMetadata": {
      "byteLimit": 2048000,
      "rowLimit": 10000
     },
     "inputWidgets": {},
     "nuid": "15f485ab-3197-4b2c-bcc3-99b55e7820a8",
     "showTitle": false,
     "tableResultSettingsMap": {},
     "title": ""
    },
    "colab": {
     "base_uri": "https://localhost:8080/",
     "height": 237
    },
    "executionInfo": {
     "elapsed": 7,
     "status": "ok",
     "timestamp": 1707943318096,
     "user": {
      "displayName": "Akar Öztürk",
      "userId": "07602883577262601067"
     },
     "user_tz": -60
    },
    "id": "mpSWkSo1BJrQ",
    "outputId": "c0a34079-785e-409f-89a5-86f12c7ff86c"
   },
   "outputs": [
    {
     "output_type": "execute_result",
     "data": {
      "text/html": [
       "<div>\n",
       "<style scoped>\n",
       "    .dataframe tbody tr th:only-of-type {\n",
       "        vertical-align: middle;\n",
       "    }\n",
       "\n",
       "    .dataframe tbody tr th {\n",
       "        vertical-align: top;\n",
       "    }\n",
       "\n",
       "    .dataframe thead th {\n",
       "        text-align: right;\n",
       "    }\n",
       "</style>\n",
       "<table border=\"1\" class=\"dataframe\">\n",
       "  <thead>\n",
       "    <tr style=\"text-align: right;\">\n",
       "      <th></th>\n",
       "      <th>chunks</th>\n",
       "      <th>entities</th>\n",
       "      <th>assertion</th>\n",
       "      <th>confidence</th>\n",
       "    </tr>\n",
       "  </thead>\n",
       "  <tbody>\n",
       "    <tr>\n",
       "      <th>0</th>\n",
       "      <td>Immunohistochemistry</td>\n",
       "      <td>Pathology_Test</td>\n",
       "      <td>Past</td>\n",
       "      <td>1.0</td>\n",
       "    </tr>\n",
       "    <tr>\n",
       "      <th>1</th>\n",
       "      <td>negative</td>\n",
       "      <td>Biomarker_Result</td>\n",
       "      <td>Past</td>\n",
       "      <td>0.9908</td>\n",
       "    </tr>\n",
       "    <tr>\n",
       "      <th>2</th>\n",
       "      <td>thyroid transcription factor-1</td>\n",
       "      <td>Biomarker</td>\n",
       "      <td>Present</td>\n",
       "      <td>0.999</td>\n",
       "    </tr>\n",
       "    <tr>\n",
       "      <th>3</th>\n",
       "      <td>napsin A</td>\n",
       "      <td>Biomarker</td>\n",
       "      <td>Present</td>\n",
       "      <td>0.9999</td>\n",
       "    </tr>\n",
       "    <tr>\n",
       "      <th>4</th>\n",
       "      <td>positive</td>\n",
       "      <td>Biomarker_Result</td>\n",
       "      <td>Present</td>\n",
       "      <td>0.9999</td>\n",
       "    </tr>\n",
       "    <tr>\n",
       "      <th>5</th>\n",
       "      <td>ER</td>\n",
       "      <td>Biomarker</td>\n",
       "      <td>Present</td>\n",
       "      <td>0.9999</td>\n",
       "    </tr>\n",
       "    <tr>\n",
       "      <th>6</th>\n",
       "      <td>PR</td>\n",
       "      <td>Biomarker</td>\n",
       "      <td>Present</td>\n",
       "      <td>0.9999</td>\n",
       "    </tr>\n",
       "    <tr>\n",
       "      <th>7</th>\n",
       "      <td>negative</td>\n",
       "      <td>Biomarker_Result</td>\n",
       "      <td>Present</td>\n",
       "      <td>0.9998</td>\n",
       "    </tr>\n",
       "    <tr>\n",
       "      <th>8</th>\n",
       "      <td>HER2</td>\n",
       "      <td>Oncogene</td>\n",
       "      <td>Present</td>\n",
       "      <td>0.9999</td>\n",
       "    </tr>\n",
       "  </tbody>\n",
       "</table>\n",
       "</div>"
      ],
      "text/plain": [
       "                           chunks          entities assertion confidence\n",
       "0            Immunohistochemistry    Pathology_Test      Past        1.0\n",
       "1                        negative  Biomarker_Result      Past     0.9908\n",
       "2  thyroid transcription factor-1         Biomarker   Present      0.999\n",
       "3                        napsin A         Biomarker   Present     0.9999\n",
       "4                        positive  Biomarker_Result   Present     0.9999\n",
       "5                              ER         Biomarker   Present     0.9999\n",
       "6                              PR         Biomarker   Present     0.9999\n",
       "7                        negative  Biomarker_Result   Present     0.9998\n",
       "8                            HER2          Oncogene   Present     0.9999"
      ]
     },
     "execution_count": 83,
     "metadata": {},
     "output_type": "execute_result"
    }
   ],
   "source": [
    "chunks=[]\n",
    "entities=[]\n",
    "status=[]\n",
    "confidence=[]\n",
    "\n",
    "for n,m in zip(result['merged_chunk'],result['assertion_oncology']):\n",
    "\n",
    "    chunks.append(n.result)\n",
    "    entities.append(n.metadata['entity'])\n",
    "    status.append(m.result)\n",
    "    confidence.append(m.metadata['confidence'])\n",
    "\n",
    "df = pd.DataFrame({'chunks':chunks, 'entities':entities, 'assertion':status, 'confidence':confidence})\n",
    "\n",
    "df"
   ]
  },
  {
   "cell_type": "markdown",
   "metadata": {
    "application/vnd.databricks.v1+cell": {
     "cellMetadata": {
      "byteLimit": 2048000,
      "rowLimit": 10000
     },
     "inputWidgets": {},
     "nuid": "cdbed525-4e31-4c53-b64f-9db0e5e69552",
     "showTitle": false,
     "tableResultSettingsMap": {},
     "title": ""
    },
    "id": "a8z6YsX5xAJY"
   },
   "source": [
    "**Relation Extraction Results**"
   ]
  },
  {
   "cell_type": "code",
   "execution_count": 0,
   "metadata": {
    "application/vnd.databricks.v1+cell": {
     "cellMetadata": {
      "byteLimit": 2048000,
      "rowLimit": 10000
     },
     "inputWidgets": {},
     "nuid": "cdf89fae-947a-4d3b-a300-45b34e3c148e",
     "showTitle": false,
     "tableResultSettingsMap": {},
     "title": ""
    },
    "colab": {
     "base_uri": "https://localhost:8080/",
     "height": 261
    },
    "executionInfo": {
     "elapsed": 559,
     "status": "ok",
     "timestamp": 1707943318649,
     "user": {
      "displayName": "Akar Öztürk",
      "userId": "07602883577262601067"
     },
     "user_tz": -60
    },
    "id": "1DZQb8aDCFug",
    "outputId": "d7bf2dc3-6791-4398-dd3f-e235d1add950"
   },
   "outputs": [
    {
     "output_type": "execute_result",
     "data": {
      "text/html": [
       "<div>\n",
       "<style scoped>\n",
       "    .dataframe tbody tr th:only-of-type {\n",
       "        vertical-align: middle;\n",
       "    }\n",
       "\n",
       "    .dataframe tbody tr th {\n",
       "        vertical-align: top;\n",
       "    }\n",
       "\n",
       "    .dataframe thead th {\n",
       "        text-align: right;\n",
       "    }\n",
       "</style>\n",
       "<table border=\"1\" class=\"dataframe\">\n",
       "  <thead>\n",
       "    <tr style=\"text-align: right;\">\n",
       "      <th></th>\n",
       "      <th>relation</th>\n",
       "      <th>entity1</th>\n",
       "      <th>entity1_begin</th>\n",
       "      <th>entity1_end</th>\n",
       "      <th>chunk1</th>\n",
       "      <th>entity2</th>\n",
       "      <th>entity2_begin</th>\n",
       "      <th>entity2_end</th>\n",
       "      <th>chunk2</th>\n",
       "      <th>confidence</th>\n",
       "    </tr>\n",
       "  </thead>\n",
       "  <tbody>\n",
       "    <tr>\n",
       "      <th>0</th>\n",
       "      <td>is_finding_of</td>\n",
       "      <td>Biomarker_Result</td>\n",
       "      <td>25</td>\n",
       "      <td>32</td>\n",
       "      <td>negative</td>\n",
       "      <td>Biomarker</td>\n",
       "      <td>38</td>\n",
       "      <td>67</td>\n",
       "      <td>thyroid transcription factor-1</td>\n",
       "      <td>0.999216</td>\n",
       "    </tr>\n",
       "    <tr>\n",
       "      <th>1</th>\n",
       "      <td>is_finding_of</td>\n",
       "      <td>Biomarker_Result</td>\n",
       "      <td>25</td>\n",
       "      <td>32</td>\n",
       "      <td>negative</td>\n",
       "      <td>Biomarker</td>\n",
       "      <td>73</td>\n",
       "      <td>80</td>\n",
       "      <td>napsin A</td>\n",
       "      <td>0.976307</td>\n",
       "    </tr>\n",
       "    <tr>\n",
       "      <th>2</th>\n",
       "      <td>is_finding_of</td>\n",
       "      <td>Biomarker_Result</td>\n",
       "      <td>96</td>\n",
       "      <td>103</td>\n",
       "      <td>positive</td>\n",
       "      <td>Biomarker</td>\n",
       "      <td>109</td>\n",
       "      <td>110</td>\n",
       "      <td>ER</td>\n",
       "      <td>0.987886</td>\n",
       "    </tr>\n",
       "    <tr>\n",
       "      <th>3</th>\n",
       "      <td>is_finding_of</td>\n",
       "      <td>Biomarker_Result</td>\n",
       "      <td>96</td>\n",
       "      <td>103</td>\n",
       "      <td>positive</td>\n",
       "      <td>Biomarker</td>\n",
       "      <td>116</td>\n",
       "      <td>117</td>\n",
       "      <td>PR</td>\n",
       "      <td>0.959301</td>\n",
       "    </tr>\n",
       "    <tr>\n",
       "      <th>7</th>\n",
       "      <td>is_finding_of</td>\n",
       "      <td>Biomarker_Result</td>\n",
       "      <td>124</td>\n",
       "      <td>131</td>\n",
       "      <td>negative</td>\n",
       "      <td>Biomarker</td>\n",
       "      <td>137</td>\n",
       "      <td>140</td>\n",
       "      <td>HER2</td>\n",
       "      <td>0.992596</td>\n",
       "    </tr>\n",
       "  </tbody>\n",
       "</table>\n",
       "</div>"
      ],
      "text/plain": [
       "        relation           entity1 entity1_begin entity1_end    chunk1    entity2 entity2_begin entity2_end                          chunk2  confidence\n",
       "0  is_finding_of  Biomarker_Result            25          32  negative  Biomarker            38          67  thyroid transcription factor-1    0.999216\n",
       "1  is_finding_of  Biomarker_Result            25          32  negative  Biomarker            73          80                        napsin A    0.976307\n",
       "2  is_finding_of  Biomarker_Result            96         103  positive  Biomarker           109         110                              ER    0.987886\n",
       "3  is_finding_of  Biomarker_Result            96         103  positive  Biomarker           116         117                              PR    0.959301\n",
       "7  is_finding_of  Biomarker_Result           124         131  negative  Biomarker           137         140                            HER2    0.992596"
      ]
     },
     "execution_count": 84,
     "metadata": {},
     "output_type": "execute_result"
    }
   ],
   "source": [
    "result = oncology_pipeline.fullAnnotate(text)\n",
    "\n",
    "rel_df = get_relations_df(result, 're_oncology_biomarker_result')\n",
    "\n",
    "rel_df[rel_df.relation!= \"O\"]"
   ]
  },
  {
   "cell_type": "code",
   "execution_count": 0,
   "metadata": {
    "application/vnd.databricks.v1+cell": {
     "cellMetadata": {
      "byteLimit": 2048000,
      "rowLimit": 10000
     },
     "inputWidgets": {},
     "nuid": "e36188f1-b845-446a-b9bf-d98fd8be0710",
     "showTitle": false,
     "tableResultSettingsMap": {},
     "title": ""
    },
    "colab": {
     "base_uri": "https://localhost:8080/"
    },
    "executionInfo": {
     "elapsed": 734,
     "status": "ok",
     "timestamp": 1707943319378,
     "user": {
      "displayName": "Akar Öztürk",
      "userId": "07602883577262601067"
     },
     "user_tz": -60
    },
    "id": "b_M85A-UBJov",
    "outputId": "543e4912-2c87-440a-ff34-f5dd8eddc7f6"
   },
   "outputs": [
    {
     "output_type": "execute_result",
     "data": {
      "text/plain": [
       "[Annotation(category, 25, 67, is_finding_of, {'chunk2': 'thyroid transcription factor-1', 'confidence': '0.9992163', 'entity2_end': '67', 'chunk1': 'negative', 'entity1': 'Biomarker_Result', 'entity2_begin': '38', 'chunk2_confidence': '0.994225', 'entity1_begin': '25', 'sentence': '0', 'direction': 'both', 'entity1_end': '32', 'entity2': 'Biomarker', 'chunk1_confidence': '0.9973'}, []),\n",
       " Annotation(category, 25, 80, is_finding_of, {'chunk2': 'napsin A', 'confidence': '0.9763071', 'entity2_end': '80', 'chunk1': 'negative', 'entity1': 'Biomarker_Result', 'entity2_begin': '73', 'chunk2_confidence': '0.99775004', 'entity1_begin': '25', 'sentence': '0', 'direction': 'both', 'entity1_end': '32', 'entity2': 'Biomarker', 'chunk1_confidence': '0.9973'}, []),\n",
       " Annotation(category, 96, 110, is_finding_of, {'chunk2': 'ER', 'confidence': '0.9878857', 'entity2_end': '110', 'chunk1': 'positive', 'entity1': 'Biomarker_Result', 'entity2_begin': '109', 'chunk2_confidence': '0.9999', 'entity1_begin': '96', 'sentence': '1', 'direction': 'both', 'entity1_end': '103', 'entity2': 'Biomarker', 'chunk1_confidence': '0.9919'}, []),\n",
       " Annotation(category, 96, 117, is_finding_of, {'chunk2': 'PR', 'confidence': '0.95930105', 'entity2_end': '117', 'chunk1': 'positive', 'entity1': 'Biomarker_Result', 'entity2_begin': '116', 'chunk2_confidence': '1.0', 'entity1_begin': '96', 'sentence': '1', 'direction': 'both', 'entity1_end': '103', 'entity2': 'Biomarker', 'chunk1_confidence': '0.9919'}, []),\n",
       " Annotation(category, 96, 140, O, {'chunk2': 'HER2', 'confidence': '0.9813495', 'entity2_end': '140', 'chunk1': 'positive', 'entity1': 'Biomarker_Result', 'entity2_begin': '137', 'chunk2_confidence': '0.9999', 'entity1_begin': '96', 'sentence': '1', 'direction': 'both', 'entity1_end': '103', 'entity2': 'Biomarker', 'chunk1_confidence': '0.9919'}, []),\n",
       " Annotation(category, 109, 131, O, {'chunk2': 'negative', 'confidence': '0.9981871', 'entity2_end': '131', 'chunk1': 'ER', 'entity1': 'Biomarker', 'entity2_begin': '124', 'chunk2_confidence': '0.9987', 'entity1_begin': '109', 'sentence': '1', 'direction': 'both', 'entity1_end': '110', 'entity2': 'Biomarker_Result', 'chunk1_confidence': '0.9999'}, []),\n",
       " Annotation(category, 116, 131, O, {'chunk2': 'negative', 'confidence': '0.984683', 'entity2_end': '131', 'chunk1': 'PR', 'entity1': 'Biomarker', 'entity2_begin': '124', 'chunk2_confidence': '0.9987', 'entity1_begin': '116', 'sentence': '1', 'direction': 'both', 'entity1_end': '117', 'entity2': 'Biomarker_Result', 'chunk1_confidence': '1.0'}, []),\n",
       " Annotation(category, 124, 140, is_finding_of, {'chunk2': 'HER2', 'confidence': '0.99259573', 'entity2_end': '140', 'chunk1': 'negative', 'entity1': 'Biomarker_Result', 'entity2_begin': '137', 'chunk2_confidence': '0.9999', 'entity1_begin': '124', 'sentence': '1', 'direction': 'both', 'entity1_end': '131', 'entity2': 'Biomarker', 'chunk1_confidence': '0.9987'}, [])]"
      ]
     },
     "execution_count": 85,
     "metadata": {},
     "output_type": "execute_result"
    }
   ],
   "source": [
    "result[0]['re_oncology_biomarker_result']"
   ]
  }
 ],
 "metadata": {
  "accelerator": "GPU",
  "application/vnd.databricks.v1+notebook": {
   "computePreferences": null,
   "dashboards": [],
   "environmentMetadata": null,
   "inputWidgetPreferences": null,
   "language": "python",
   "notebookMetadata": {
    "pythonIndentUnit": 2
   },
   "notebookName": "07.0.Pretrained_Clinical_Pipelines",
   "widgets": {}
  },
  "colab": {
   "gpuType": "T4",
   "machine_shape": "hm",
   "provenance": [
    {
     "file_id": "https://github.com/JohnSnowLabs/spark-nlp-workshop/blob/master/tutorials/Certification_Trainings/Healthcare/11.Pretrained_Clinical_Pipelines.ipynb",
     "timestamp": 1707912617875
    },
    {
     "file_id": "https://github.com/JohnSnowLabs/spark-nlp-workshop/blob/master/tutorials/Certification_Trainings/Healthcare/11.Pretrained_Clinical_Pipelines.ipynb",
     "timestamp": 1707141745971
    }
   ],
   "toc_visible": true
  },
  "kernelspec": {
   "display_name": "Python 3",
   "name": "python3"
  },
  "language_info": {
   "name": "python"
  }
 },
 "nbformat": 4,
 "nbformat_minor": 0
}
{
 "cells": [
  {
   "cell_type": "markdown",
   "metadata": {
    "application/vnd.databricks.v1+cell": {
     "cellMetadata": {
      "byteLimit": 2048000,
      "rowLimit": 10000
     },
     "inputWidgets": {},
     "nuid": "e8ef95e8-5870-4529-9015-844189b072b0",
     "showTitle": false,
     "title": ""
    }
   },
   "source": [
    "![JohnSnowLabs](https://nlp.johnsnowlabs.com/assets/images/logo.png)"
   ]
  },
  {
   "cell_type": "markdown",
   "metadata": {
    "application/vnd.databricks.v1+cell": {
     "cellMetadata": {
      "byteLimit": 2048000,
      "rowLimit": 10000
     },
     "inputWidgets": {},
     "nuid": "c61af834-3011-4520-bfde-295cdd9bc99d",
     "showTitle": false,
     "title": ""
    }
   },
   "source": [
    "# Detect clinical entities, relations and assertion status with pretrained pipelines"
   ]
  },
  {
   "cell_type": "code",
   "execution_count": 0,
   "metadata": {
    "application/vnd.databricks.v1+cell": {
     "cellMetadata": {
      "byteLimit": 2048000,
      "rowLimit": 10000
     },
     "inputWidgets": {},
     "nuid": "6b3bc3fa-f48b-445d-8f0a-889c30f53798",
     "showTitle": false,
     "title": ""
    }
   },
   "outputs": [],
   "source": [
    "from johnsnowlabs import nlp, medical\n",
    "\n",
    "#nlp.install()"
   ]
  },
  {
   "cell_type": "code",
   "execution_count": 0,
   "metadata": {
    "application/vnd.databricks.v1+cell": {
     "cellMetadata": {
      "byteLimit": 2048000,
      "rowLimit": 10000
     },
     "inputWidgets": {},
     "nuid": "15dc33e9-c7e1-4f80-8a88-8f29efbfe00d",
     "showTitle": false,
     "title": ""
    }
   },
   "outputs": [
    {
     "output_type": "display_data",
     "data": {
      "application/vnd.databricks.v1+bamboolib_hint": "{\"pd.DataFrames\": [], \"version\": \"0.0.1\"}",
      "text/plain": []
     },
     "metadata": {},
     "output_type": "display_data"
    },
    {
     "output_type": "display_data",
     "data": {
      "text/html": [
       "\n",
       "            <div>\n",
       "                <p><b>SparkSession - hive</b></p>\n",
       "                \n",
       "        <div>\n",
       "            <p><b>SparkContext</b></p>\n",
       "\n",
       "            <p><a href=\"/?o=7956323724731612#setting/sparkui/1112-201629-lg699ln8/driver-4241423587546312968\">Spark UI</a></p>\n",
       "\n",
       "            <dl>\n",
       "              <dt>Version</dt>\n",
       "                <dd><code>v3.3.0</code></dd>\n",
       "              <dt>Master</dt>\n",
       "                <dd><code>spark://10.139.64.10:7077</code></dd>\n",
       "              <dt>AppName</dt>\n",
       "                <dd><code>Databricks Shell</code></dd>\n",
       "            </dl>\n",
       "        </div>\n",
       "        \n",
       "            </div>\n",
       "        "
      ]
     },
     "metadata": {
      "application/vnd.databricks.v1+output": {
       "addedWidgets": {},
       "arguments": {},
       "data": "\n            <div>\n                <p><b>SparkSession - hive</b></p>\n                \n        <div>\n            <p><b>SparkContext</b></p>\n\n            <p><a href=\"/?o=7956323724731612#setting/sparkui/1112-201629-lg699ln8/driver-4241423587546312968\">Spark UI</a></p>\n\n            <dl>\n              <dt>Version</dt>\n                <dd><code>v3.3.0</code></dd>\n              <dt>Master</dt>\n                <dd><code>spark://10.139.64.10:7077</code></dd>\n              <dt>AppName</dt>\n                <dd><code>Databricks Shell</code></dd>\n            </dl>\n        </div>\n        \n            </div>\n        ",
       "datasetInfos": [],
       "metadata": {},
       "removedWidgets": [],
       "textData": null,
       "type": "htmlSandbox"
      }
     },
     "output_type": "display_data"
    }
   ],
   "source": [
    "\n",
    "from pyspark.sql import DataFrame\n",
    "import pyspark.sql.functions as F\n",
    "import pyspark.sql.types as T\n",
    "import pyspark.sql as SQL\n",
    "from pyspark import keyword_only\n",
    "\n",
    "import os\n",
    "import json\n",
    "import string\n",
    "import numpy as np\n",
    "import pandas as pd\n",
    "\n",
    "\n",
    "\n",
    "from pyspark.ml import Pipeline, PipelineModel\n",
    "\n",
    "pd.set_option('max_colwidth', 100)\n",
    "pd.set_option('display.max_columns', 100)  \n",
    "pd.set_option('display.expand_frame_repr', False)\n",
    "\n",
    "spark"
   ]
  },
  {
   "cell_type": "markdown",
   "metadata": {
    "application/vnd.databricks.v1+cell": {
     "cellMetadata": {
      "byteLimit": 2048000,
      "rowLimit": 10000
     },
     "inputWidgets": {},
     "nuid": "4246d1b9-a5b4-40e5-83b1-91ab7bd8dd00",
     "showTitle": false,
     "title": ""
    }
   },
   "source": [
    "## Listing Models, Pipelines and Annotators"
   ]
  },
  {
   "cell_type": "markdown",
   "metadata": {
    "application/vnd.databricks.v1+cell": {
     "cellMetadata": {
      "byteLimit": 2048000,
      "rowLimit": 10000
     },
     "inputWidgets": {},
     "nuid": "7f1801c3-66a6-42b0-8b80-edff0e6de879",
     "showTitle": false,
     "title": ""
    }
   },
   "source": [
    "**You can print the list of clinical pretrained models/pipelines and annotators in Spark NLP with one-line code:**"
   ]
  },
  {
   "cell_type": "code",
   "execution_count": 0,
   "metadata": {
    "application/vnd.databricks.v1+cell": {
     "cellMetadata": {
      "byteLimit": 2048000,
      "rowLimit": 10000
     },
     "inputWidgets": {},
     "nuid": "40b2718c-e114-4cd0-a578-3b8fe146ce0a",
     "showTitle": false,
     "title": ""
    }
   },
   "outputs": [
    {
     "output_type": "stream",
     "name": "stdout",
     "output_type": "stream",
     "text": [
      "+--------------------------------------------------------------+------+---------+\n| Pipeline                                                     | lang | version |\n+--------------------------------------------------------------+------+---------+\n| clinical_analysis                                            |  en  | 2.4.0   |\n| clinical_ner_assertion                                       |  en  | 2.4.0   |\n| clinical_deidentification                                    |  en  | 2.4.0   |\n| explain_clinical_doc_ade                                     |  en  | 2.7.3   |\n| recognize_entities_posology                                  |  en  | 3.0.0   |\n| explain_clinical_doc_carp                                    |  en  | 3.0.0   |\n| explain_clinical_doc_ade                                     |  en  | 3.0.0   |\n| explain_clinical_doc_era                                     |  en  | 3.0.0   |\n| icd10cm_snomed_mapping                                       |  en  | 3.0.2   |\n| snomed_icd10cm_mapping                                       |  en  | 3.0.2   |\n| icd10cm_umls_mapping                                         |  en  | 3.0.2   |\n| snomed_umls_mapping                                          |  en  | 3.0.2   |\n| rxnorm_umls_mapping                                          |  en  | 3.0.2   |\n| mesh_umls_mapping                                            |  en  | 3.0.2   |\n| rxnorm_mesh_mapping                                          |  en  | 3.0.2   |\n| clinical_deidentification                                    |  en  | 3.0.3   |\n| clinical_deidentification_glove                              |  en  | 3.0.4   |\n| rxnorm_mesh_mapping                                          |  en  | 3.1.0   |\n| snomed_umls_mapping                                          |  en  | 3.1.0   |\n| rxnorm_umls_mapping                                          |  en  | 3.1.0   |\n| mesh_umls_mapping                                            |  en  | 3.1.0   |\n| icd10cm_umls_mapping                                         |  en  | 3.1.0   |\n| explain_clinical_doc_ade                                     |  en  | 3.1.2   |\n| ner_profiling_biobert                                        |  en  | 3.2.3   |\n| ner_profiling_clinical                                       |  en  | 3.2.3   |\n| ner_profiling_biobert                                        |  en  | 3.3.1   |\n| ner_profiling_clinical                                       |  en  | 3.3.1   |\n| ner_model_finder                                             |  en  | 3.3.2   |\n| icd10_icd9_mapping                                           |  en  | 3.3.4   |\n| clinical_deidentification                                    |  en  | 3.4.1   |\n| clinical_deidentification_glove                              |  en  | 3.4.1   |\n| bert_token_classifier_ner_cellular_pipeline                  |  en  | 3.4.1   |\n| bert_token_classifier_ner_chemprot_pipeline                  |  en  | 3.4.1   |\n| bert_token_classifier_ner_clinical_pipeline                  |  en  | 3.4.1   |\n| bert_token_classifier_ner_chemicals_pipeline                 |  en  | 3.4.1   |\n| bert_token_classifier_ner_anatomy_pipeline                   |  en  | 3.4.1   |\n| bert_token_classifier_ner_ade_pipeline                       |  en  | 3.4.1   |\n| clinical_deidentification_glove_augmented                    |  en  | 3.4.1   |\n| ner_bacterial_species_pipeline                               |  en  | 3.4.1   |\n| ner_measurements_clinical_pipeline                           |  en  | 3.4.1   |\n| ner_medmentions_coarse_pipeline                              |  en  | 3.4.1   |\n| bert_token_classifier_drug_development_trials_pipeline       |  en  | 3.4.1   |\n| ner_events_healthcare_pipeline                               |  en  | 3.4.1   |\n| ner_healthcare_pipeline                                      |  en  | 3.4.1   |\n| ner_posology_healthcare_pipeline                             |  en  | 3.4.1   |\n| ner_clinical_biobert_pipeline                                |  en  | 3.4.1   |\n| ner_abbreviation_clinical_pipeline                           |  en  | 3.4.1   |\n| ner_ade_biobert_pipeline                                     |  en  | 3.4.1   |\n| ner_radiology_wip_clinical_pipeline                          |  en  | 3.4.1   |\n| ner_ade_clinicalbert_pipeline                                |  en  | 3.4.1   |\n| ner_events_biobert_pipeline                                  |  en  | 3.4.1   |\n| ner_posology_large_biobert_pipeline                          |  en  | 3.4.1   |\n| ner_anatomy_coarse_biobert_pipeline                          |  en  | 3.4.1   |\n| ner_posology_small_pipeline                                  |  en  | 3.4.1   |\n| ner_anatomy_coarse_pipeline                                  |  en  | 3.4.1   |\n| ner_drugs_greedy_pipeline                                    |  en  | 3.4.1   |\n| ner_posology_large_pipeline                                  |  en  | 3.4.1   |\n| ner_clinical_large_pipeline                                  |  en  | 3.4.1   |\n| ner_drugs_large_pipeline                                     |  en  | 3.4.1   |\n| ner_drugs_pipeline                                           |  en  | 3.4.1   |\n| ner_posology_greedy_pipeline                                 |  en  | 3.4.1   |\n| ner_drugprot_clinical_pipeline                               |  en  | 3.4.1   |\n| ner_genetic_variants_pipeline                                |  en  | 3.4.1   |\n| ner_posology_experimental_pipeline                           |  en  | 3.4.1   |\n| ner_biomarker_pipeline                                       |  en  | 3.4.1   |\n| ner_posology_biobert_pipeline                                |  en  | 3.4.1   |\n| ner_posology_pipeline                                        |  en  | 3.4.1   |\n| ner_risk_factors_biobert_pipeline                            |  en  | 3.4.1   |\n| ner_deidentify_dl_pipeline                                   |  en  | 3.4.1   |\n| ner_deid_subentity_augmented_i2b2_pipeline                   |  en  | 3.4.1   |\n| ner_deid_subentity_augmented_pipeline                        |  en  | 3.4.1   |\n| ner_cellular_biobert_pipeline                                |  en  | 3.4.1   |\n| ner_jsl_slim_pipeline                                        |  en  | 3.4.1   |\n| ner_cellular_pipeline                                        |  en  | 3.4.1   |\n| ner_deid_sd_large_pipeline                                   |  en  | 3.4.1   |\n| ner_nihss_pipeline                                           |  en  | 3.4.1   |\n| ner_jsl_greedy_biobert_pipeline                              |  en  | 3.4.1   |\n| ner_deid_sd_pipeline                                         |  en  | 3.4.1   |\n| ner_chemicals_pipeline                                       |  en  | 3.4.1   |\n| ner_jsl_greedy_pipeline                                      |  en  | 3.4.1   |\n| ner_jsl_enriched_biobert_pipeline                            |  en  | 3.4.1   |\n| ner_jsl_enriched_pipeline                                    |  en  | 3.4.1   |\n| ner_jsl_pipeline                                             |  en  | 3.4.1   |\n| ner_chemprot_biobert_pipeline                                |  en  | 3.4.1   |\n| ner_deid_enriched_biobert_pipeline                           |  en  | 3.4.1   |\n| ner_human_phenotype_go_biobert_pipeline                      |  en  | 3.4.1   |\n| ner_human_phenotype_go_clinical_pipeline                     |  en  | 3.4.1   |\n| ner_chemprot_clinical_pipeline                               |  en  | 3.4.1   |\n| ner_human_phenotype_gene_clinical_pipeline                   |  en  | 3.4.1   |\n| jsl_rd_ner_wip_greedy_clinical_pipeline                      |  en  | 3.4.1   |\n| ner_human_phenotype_gene_biobert_pipeline                    |  en  | 3.4.1   |\n| jsl_rd_ner_wip_greedy_biobert_pipeline                       |  en  | 3.4.1   |\n| jsl_ner_wip_modifier_clinical_pipeline                       |  en  | 3.4.1   |\n| ner_deid_biobert_pipeline                                    |  en  | 3.4.1   |\n| jsl_ner_wip_greedy_clinical_pipeline                         |  en  | 3.4.1   |\n| jsl_ner_wip_greedy_biobert_pipeline                          |  en  | 3.4.1   |\n| jsl_ner_wip_clinical_pipeline                                |  en  | 3.4.1   |\n| bert_token_classifier_ner_jsl_slim_pipeline                  |  en  | 3.4.1   |\n| ner_deid_augmented_pipeline                                  |  en  | 3.4.1   |\n| bert_token_classifier_ner_drugs_pipeline                     |  en  | 3.4.1   |\n| bert_token_classifier_ner_deid_pipeline                      |  en  | 3.4.1   |\n| bert_token_classifier_ner_bionlp_pipeline                    |  en  | 3.4.1   |\n| ner_cancer_genetics_pipeline                                 |  en  | 3.4.1   |\n| ner_clinical_pipeline                                        |  en  | 3.4.1   |\n| ner_deid_enriched_pipeline                                   |  en  | 3.4.1   |\n| ner_deid_generic_augmented_pipeline                          |  en  | 3.4.1   |\n| ner_deid_large_pipeline                                      |  en  | 3.4.1   |\n| ner_diseases_pipeline                                        |  en  | 3.4.1   |\n| ner_diseases_large_pipeline                                  |  en  | 3.4.1   |\n| ner_diseases_biobert_pipeline                                |  en  | 3.4.1   |\n| ner_events_admission_clinical_pipeline                       |  en  | 3.4.1   |\n| ner_events_clinical_pipeline                                 |  en  | 3.4.1   |\n| bert_token_classifier_ner_jsl_pipeline                       |  en  | 3.4.1   |\n| ner_jsl_biobert_pipeline                                     |  en  | 3.4.1   |\n| ner_anatomy_pipeline                                         |  en  | 3.4.1   |\n| ner_bionlp_pipeline                                          |  en  | 3.4.1   |\n| ner_bionlp_biobert_pipeline                                  |  en  | 3.4.1   |\n| ner_chexpert_pipeline                                        |  en  | 3.4.1   |\n| ner_radiology_pipeline                                       |  en  | 3.4.1   |\n| ner_risk_factors_pipeline                                    |  en  | 3.4.1   |\n| bert_token_classifier_ner_bacteria_pipeline                  |  en  | 3.4.1   |\n| ner_anatomy_biobert_pipeline                                 |  en  | 3.4.1   |\n| ner_ade_healthcare_pipeline                                  |  en  | 3.4.1   |\n| ner_ade_clinical_pipeline                                    |  en  | 3.4.1   |\n| re_temporal_events_enriched_clinical_pipeline                |  en  | 3.4.1   |\n| re_date_clinical_pipeline                                    |  en  | 3.4.1   |\n| re_human_phenotype_gene_clinical_pipeline                    |  en  | 3.4.1   |\n| re_test_result_date_pipeline                                 |  en  | 3.4.1   |\n| re_temporal_events_clinical_pipeline                         |  en  | 3.4.1   |\n| re_bodypart_proceduretest_pipeline                           |  en  | 3.4.1   |\n| re_test_problem_finding_pipeline                             |  en  | 3.4.1   |\n| re_bodypart_directions_pipeline                              |  en  | 3.4.1   |\n| explain_clinical_doc_radiology                               |  en  | 3.4.2   |\n| explain_clinical_doc_medication                              |  en  | 3.4.2   |\n| spellcheck_clinical_pipeline                                 |  en  | 3.4.1   |\n| spellcheck_clinical_pipeline                                 |  en  | 3.4.2   |\n| rct_binary_classifier_biobert_pipeline                       |  en  | 3.4.2   |\n| bert_sequence_classifier_binary_rct_biobert_pipeline         |  en  | 3.4.2   |\n| rct_binary_classifier_use_pipeline                           |  en  | 3.4.2   |\n| ner_biomedical_bc2gm_pipeline                                |  en  | 3.5.3   |\n| ner_clinical_trials_abstracts_pipeline                       |  en  | 3.5.3   |\n| icd10cm_snomed_mapping                                       |  en  | 3.5.3   |\n| rxnorm_ndc_mapping                                           |  en  | 3.5.3   |\n| snomed_umls_mapping                                          |  en  | 3.5.3   |\n| rxnorm_umls_mapping                                          |  en  | 3.5.3   |\n| mesh_umls_mapping                                            |  en  | 3.5.3   |\n| icd10cm_umls_mapping                                         |  en  | 3.5.3   |\n| snomed_icdo_mapping                                          |  en  | 3.5.3   |\n| icdo_snomed_mapping                                          |  en  | 3.5.3   |\n| snomed_icd10cm_mapping                                       |  en  | 3.5.3   |\n| ner_pathogen_pipeline                                        |  en  | 4.0.0   |\n| explain_clinical_doc_ade                                     |  en  | 4.0.0   |\n| clinical_deidentification_glove_augmented                    |  en  | 4.0.0   |\n| clinical_deidentification_wip                                |  en  | 4.0.0   |\n| clinical_deidentification                                    |  en  | 4.0.0   |\n| clinical_deidentification_slim                               |  en  | 4.0.0   |\n| umls_drug_substance_resolver_pipeline                        |  en  | 4.0.0   |\n| umls_disease_syndrome_resolver_pipeline                      |  en  | 4.0.0   |\n| umls_clinical_findings_resolver_pipeline                     |  en  | 4.0.0   |\n| umls_drug_resolver_pipeline                                  |  en  | 4.0.0   |\n| umls_major_concepts_resolver_pipeline                        |  en  | 4.0.0   |\n| ner_medication_pipeline                                      |  en  | 4.0.0   |\n| explain_clinical_doc_radiology                               |  en  | 4.0.0   |\n| explain_clinical_doc_medication                              |  en  | 4.0.0   |\n| ner_profiling_biobert                                        |  en  | 4.0.2   |\n| ner_profiling_clinical                                       |  en  | 4.0.2   |\n| medication_resolver_pipeline                                 |  en  | 4.0.2   |\n| medication_resolver_transform_pipeline                       |  en  | 4.0.2   |\n| ner_model_finder                                             |  en  | 4.1.0   |\n| clinical_deidentification                                    |  en  | 4.1.0   |\n| clinical_deidentification_glove_augmented                    |  en  | 4.1.0   |\n| icd9_resolver_pipeline                                       |  en  | 4.1.0   |\n| icd10_icd9_mapping                                           |  en  | 4.1.0   |\n| cvx_resolver_pipeline                                        |  en  | 4.1.0   |\n| icd10cm_resolver_pipeline                                    |  en  | 4.2.1   |\n| oncology_general_pipeline                                    |  en  | 4.1.0   |\n| cvx_resolver_pipeline                                        |  en  | 4.2.1   |\n| oncology_biomarker_pipeline                                  |  en  | 4.2.2   |\n| oncology_therapy_pipeline                                    |  en  | 4.2.2   |\n| oncology_diagnosis_pipeline                                  |  en  | 4.2.2   |\n| oncology_general_pipeline                                    |  en  | 4.2.2   |\n| ner_jsl_slim_pipeline                                        |  en  | 4.3.1   |\n| ner_eu_clinical_case_pipeline                                |  en  | 4.3.0   |\n| ner_oncology_posology_pipeline                               |  en  | 4.3.0   |\n| ner_eu_clinical_condition_pipeline                           |  en  | 4.3.0   |\n| ner_oncology_anatomy_general_healthcare_pipeline             |  en  | 4.3.0   |\n| ner_oncology_biomarker_pipeline                              |  en  | 4.3.0   |\n| ner_covid_trials_pipeline                                    |  en  | 4.3.0   |\n| ner_oncology_unspecific_posology_healthcare_pipeline         |  en  | 4.3.0   |\n| ner_oncology_therapy_pipeline                                |  en  | 4.3.0   |\n| ner_oncology_pipeline                                        |  en  | 4.3.0   |\n| ner_oncology_unspecific_posology_pipeline                    |  en  | 4.3.0   |\n| ner_oncology_anatomy_granular_pipeline                       |  en  | 4.3.0   |\n| ner_oncology_anatomy_general_pipeline                        |  en  | 4.3.0   |\n| ner_oncology_diagnosis_pipeline                              |  en  | 4.3.0   |\n| ner_sdoh_mentions_test_pipeline                              |  en  | 4.3.0   |\n| ner_jsl_pipeline                                             |  en  | 4.3.0   |\n| ner_oncology_test_pipeline                                   |  en  | 4.3.0   |\n| ner_oncology_tnm_pipeline                                    |  en  | 4.3.0   |\n| ner_sdoh_mentions_pipeline                                   |  en  | 4.3.0   |\n| ner_oncology_biomarker_healthcare_pipeline                   |  en  | 4.3.0   |\n| ner_oncology_demographics_pipeline                           |  en  | 4.3.0   |\n| ner_oncology_response_to_treatment_pipeline                  |  en  | 4.3.0   |\n| ner_clinical_trials_abstracts_pipeline                       |  en  | 4.3.0   |\n| ner_pathogen_pipeline                                        |  en  | 4.3.0   |\n| umls_clinical_findings_resolver_pipeline                     |  en  | 4.3.0   |\n| ner_radiology_wip_clinical_pipeline                          |  en  | 4.3.0   |\n| ner_deid_augmented_pipeline                                  |  en  | 4.3.0   |\n| ner_ade_clinical_pipeline                                    |  en  | 4.3.0   |\n| ner_jsl_enriched_pipeline                                    |  en  | 4.3.0   |\n| ner_chemd_clinical_pipeline                                  |  en  | 4.3.0   |\n| ner_deid_subentity_augmented_i2b2_pipeline                   |  en  | 4.3.0   |\n| ner_anatomy_coarse_pipeline                                  |  en  | 4.3.0   |\n| ner_deid_synthetic_pipeline                                  |  en  | 4.3.0   |\n| jsl_ner_wip_modifier_clinical_pipeline                       |  en  | 4.3.0   |\n| ner_abbreviation_clinical_pipeline                           |  en  | 4.3.0   |\n| ner_ade_clinicalbert_pipeline                                |  en  | 4.3.0   |\n| ner_cellular_pipeline                                        |  en  | 4.3.0   |\n| ner_deid_subentity_glove_pipeline                            |  en  | 4.3.0   |\n| ner_deid_sd_large_pipeline                                   |  en  | 4.3.0   |\n| ner_cancer_genetics_pipeline                                 |  en  | 4.3.0   |\n| ner_nihss_pipeline                                           |  en  | 4.3.0   |\n| ner_deid_subentity_augmented_pipeline                        |  en  | 4.3.0   |\n| ner_events_healthcare_pipeline                               |  en  | 4.3.0   |\n| ner_healthcare_pipeline                                      |  en  | 4.3.0   |\n| ner_deid_generic_glove_pipeline                              |  en  | 4.3.0   |\n| ner_jsl_greedy_pipeline                                      |  en  | 4.3.0   |\n| ner_medmentions_coarse_pipeline                              |  en  | 4.3.0   |\n| ner_chemicals_pipeline                                       |  en  | 4.3.0   |\n| jsl_ner_wip_greedy_clinical_pipeline                         |  en  | 4.3.0   |\n| ner_biomedical_bc2gm_pipeline                                |  en  | 4.3.0   |\n| ner_genetic_variants_pipeline                                |  en  | 4.3.0   |\n| ner_deid_enriched_pipeline                                   |  en  | 4.3.0   |\n| ner_drugs_pipeline                                           |  en  | 4.3.0   |\n| ner_deid_sd_pipeline                                         |  en  | 4.3.0   |\n| ner_biomarker_pipeline                                       |  en  | 4.3.0   |\n| ner_posology_large_pipeline                                  |  en  | 4.3.0   |\n| ner_living_species_pipeline                                  |  en  | 4.3.0   |\n| ner_chemprot_clinical_pipeline                               |  en  | 4.3.0   |\n| ner_bacterial_species_pipeline                               |  en  | 4.3.0   |\n| ner_radiology_pipeline                                       |  en  | 4.3.0   |\n| ner_human_phenotype_gene_clinical_pipeline                   |  en  | 4.3.0   |\n| ner_clinical_pipeline                                        |  en  | 4.3.0   |\n| nerdl_tumour_demo_pipeline                                   |  en  | 4.3.0   |\n| ner_posology_small_pipeline                                  |  en  | 4.3.0   |\n| ner_posology_greedy_pipeline                                 |  en  | 4.3.0   |\n| ner_diseases_pipeline                                        |  en  | 4.3.0   |\n| ner_clinical_large_pipeline                                  |  en  | 4.3.0   |\n| ner_posology_experimental_pipeline                           |  en  | 4.3.0   |\n| ner_events_admission_clinical_pipeline                       |  en  | 4.3.0   |\n| ner_events_clinical_pipeline                                 |  en  | 4.3.0   |\n| jsl_ner_wip_clinical_pipeline                                |  en  | 4.3.0   |\n| ner_deid_large_pipeline                                      |  en  | 4.3.0   |\n| ner_bionlp_pipeline                                          |  en  | 4.3.0   |\n| ner_drugprot_clinical_pipeline                               |  en  | 4.3.0   |\n| ner_anatomy_pipeline                                         |  en  | 4.3.0   |\n| ner_diseases_large_pipeline                                  |  en  | 4.3.0   |\n| ner_posology_pipeline                                        |  en  | 4.3.0   |\n| ner_nature_nero_clinical_pipeline                            |  en  | 4.3.0   |\n| ner_deidentify_dl_pipeline                                   |  en  | 4.3.0   |\n| ner_ade_healthcare_pipeline                                  |  en  | 4.3.0   |\n| ner_chexpert_pipeline                                        |  en  | 4.3.0   |\n| ner_drugs_large_pipeline                                     |  en  | 4.3.0   |\n| ner_supplement_clinical_pipeline                             |  en  | 4.3.0   |\n| jsl_rd_ner_wip_greedy_clinical_pipeline                      |  en  | 4.3.0   |\n| ner_human_phenotype_go_clinical_pipeline                     |  en  | 4.3.0   |\n| ner_measurements_clinical_pipeline                           |  en  | 4.3.0   |\n| ner_drugs_greedy_pipeline                                    |  en  | 4.3.0   |\n| ner_posology_healthcare_pipeline                             |  en  | 4.3.0   |\n| ner_risk_factors_pipeline                                    |  en  | 4.3.0   |\n| ner_clinical_biobert_pipeline                                |  en  | 4.3.0   |\n| ner_jsl_greedy_biobert_pipeline                              |  en  | 4.3.0   |\n| ner_cellular_biobert_pipeline                                |  en  | 4.3.0   |\n| ner_ade_biobert_pipeline                                     |  en  | 4.3.0   |\n| bert_token_classifier_ner_linnaeus_species_pipeline          |  en  | 4.3.0   |\n| bert_token_classifier_ner_clinical_trials_abstracts_pipeline |  en  | 4.3.0   |\n| bert_token_classifier_ner_bc4chemd_chemicals_pipeline        |  en  | 4.3.0   |\n| ner_deid_biobert_pipeline                                    |  en  | 4.3.0   |\n| bert_token_classifier_ner_deid_pipeline                      |  en  | 4.3.0   |\n| ner_human_phenotype_gene_biobert_pipeline                    |  en  | 4.3.0   |\n| ner_posology_biobert_pipeline                                |  en  | 4.3.0   |\n| ner_anatomy_coarse_biobert_pipeline                          |  en  | 4.3.0   |\n| bert_token_classifier_ner_bacteria_pipeline                  |  en  | 4.3.0   |\n| bert_token_classifier_ner_bc5cdr_disease_pipeline            |  en  | 4.3.0   |\n| bert_token_classifier_ner_chemprot_pipeline                  |  en  | 4.3.0   |\n| ner_living_species_biobert_pipeline                          |  en  | 4.3.0   |\n| bert_token_classifier_ner_jsl_slim_pipeline                  |  en  | 4.3.0   |\n| ner_diseases_biobert_pipeline                                |  en  | 4.3.0   |\n| bert_token_classifier_ner_anatomy_pipeline                   |  en  | 4.3.0   |\n| bert_token_classifier_ner_clinical_pipeline                  |  en  | 4.3.0   |\n| jsl_ner_wip_greedy_biobert_pipeline                          |  en  | 4.3.0   |\n| ner_posology_large_biobert_pipeline                          |  en  | 4.3.0   |\n| bert_token_classifier_ner_species_pipeline                   |  en  | 4.3.0   |\n| bert_token_classifier_ner_bc5cdr_chemicals_pipeline          |  en  | 4.3.0   |\n| bert_token_classifier_ner_ncbi_disease_pipeline              |  en  | 4.3.0   |\n| ner_jsl_biobert_pipeline                                     |  en  | 4.3.0   |\n| bert_token_classifier_ner_bionlp_pipeline                    |  en  | 4.3.0   |\n| bert_token_classifier_drug_development_trials_pipeline       |  en  | 4.3.0   |\n| bert_token_classifier_ner_chemicals_pipeline                 |  en  | 4.3.0   |\n| ner_deid_enriched_biobert_pipeline                           |  en  | 4.3.0   |\n| ner_bionlp_biobert_pipeline                                  |  en  | 4.3.0   |\n| bert_token_classifier_ner_ade_binary_pipeline                |  en  | \n\n*** WARNING: max output size exceeded, skipping output. ***\n\n_resolver_pipeline                                  |  en  | 4.3.2   |\n| spellcheck_clinical_pipeline                                 |  en  | 4.3.2   |\n| cvx_resolver_pipeline                                        |  en  | 4.3.2   |\n| umls_disease_syndrome_resolver_pipeline                      |  en  | 4.3.2   |\n| medication_resolver_pipeline                                 |  en  | 4.3.2   |\n| umls_drug_substance_resolver_pipeline                        |  en  | 4.3.2   |\n| medication_resolver_transform_pipeline                       |  en  | 4.3.2   |\n| umls_major_concepts_resolver_pipeline                        |  en  | 4.3.2   |\n| umls_clinical_findings_resolver_pipeline                     |  en  | 4.3.2   |\n| explain_clinical_doc_era                                     |  en  | 4.3.0   |\n| explain_clinical_doc_radiology                               |  en  | 4.3.0   |\n| explain_clinical_doc_medication                              |  en  | 4.3.0   |\n| explain_clinical_doc_ade                                     |  en  | 4.3.0   |\n| explain_clinical_doc_carp                                    |  en  | 4.3.0   |\n| ner_profiling_clinical                                       |  en  | 4.4.0   |\n| ner_profiling_biobert                                        |  en  | 4.4.0   |\n| summarizer_clinical_jsl_pipeline                             |  en  | 4.4.2   |\n| summarizer_generic_jsl_pipeline                              |  en  | 4.4.2   |\n| summarizer_radiology_pipeline                                |  en  | 4.4.2   |\n| summarizer_clinical_questions_pipeline                       |  en  | 4.4.2   |\n| summarizer_clinical_guidelines_large_pipeline                |  en  | 4.4.2   |\n| summarizer_clinical_jsl_augmented_pipeline                   |  en  | 4.4.2   |\n| summarizer_biomedical_pubmed_pipeline                        |  en  | 4.4.2   |\n| summarizer_clinical_jsl_pipeline                             |  en  | 4.4.1   |\n| summarizer_clinical_jsl_augmented_pipeline                   |  en  | 4.4.1   |\n| summarizer_radiology_pipeline                                |  en  | 4.4.1   |\n| summarizer_biomedical_pubmed_pipeline                        |  en  | 4.4.1   |\n| summarizer_generic_jsl_pipeline                              |  en  | 4.4.1   |\n| summarizer_clinical_questions_pipeline                       |  en  | 4.4.1   |\n| summarizer_clinical_guidelines_large_pipeline                |  en  | 4.4.1   |\n| summarizer_clinical_laymen_pipeline                          |  en  | 4.4.1   |\n| ner_profiling_biobert                                        |  en  | 4.4.4   |\n| ner_vop_test_pipeline                                        |  en  | 4.4.3   |\n| ner_vop_clinical_dept_pipeline                               |  en  | 4.4.3   |\n| ner_vop_demographic_pipeline                                 |  en  | 4.4.3   |\n| ner_vop_anatomy_pipeline                                     |  en  | 4.4.3   |\n| ner_vop_problem_reduced_pipeline                             |  en  | 4.4.3   |\n| ner_vop_temporal_pipeline                                    |  en  | 4.4.3   |\n| ner_vop_pipeline                                             |  en  | 4.4.3   |\n| ner_vop_problem_pipeline                                     |  en  | 4.4.3   |\n| ner_vop_treatment_pipeline                                   |  en  | 4.4.3   |\n| icd10cm_umls_mapping                                         |  en  | 4.4.4   |\n| ner_oncology_anatomy_general_pipeline                        |  en  | 4.4.4   |\n| ner_oncology_biomarker_healthcare_pipeline                   |  en  | 4.4.4   |\n| ner_deid_synthetic_pipeline                                  |  en  | 4.4.4   |\n| ner_oncology_anatomy_general_healthcare_pipeline             |  en  | 4.4.4   |\n| ner_oncology_test_pipeline                                   |  en  | 4.4.4   |\n| ner_oncology_therapy_pipeline                                |  en  | 4.4.4   |\n| ner_oncology_demographics_pipeline                           |  en  | 4.4.4   |\n| explain_clinical_doc_era                                     |  en  | 4.4.4   |\n| snomed_icd10cm_mapping                                       |  en  | 4.4.4   |\n| ner_deid_subentity_glove_pipeline                            |  en  | 4.4.4   |\n| ner_chemd_clinical_pipeline                                  |  en  | 4.4.4   |\n| ner_supplement_clinical_pipeline                             |  en  | 4.4.4   |\n| ner_living_species_biobert_pipeline                          |  en  | 4.4.4   |\n| re_temporal_events_clinical_pipeline                         |  en  | 4.4.4   |\n| ner_eu_clinical_case_pipeline                                |  en  | 4.4.4   |\n| bert_token_classifier_ner_ade_binary_pipeline                |  en  | 4.4.4   |\n| ner_oncology_unspecific_posology_pipeline                    |  en  | 4.4.4   |\n| re_bodypart_directions_pipeline                              |  en  | 4.4.4   |\n| icdo_snomed_mapping                                          |  en  | 4.4.4   |\n| bert_token_classifier_ner_species_pipeline                   |  en  | 4.4.4   |\n| oncology_general_pipeline                                    |  en  | 4.4.4   |\n| bert_token_classifier_ner_linnaeus_species_pipeline          |  en  | 4.4.4   |\n| explain_clinical_doc_medication                              |  en  | 4.4.4   |\n| ner_oncology_biomarker_pipeline                              |  en  | 4.4.4   |\n| re_test_result_date_pipeline                                 |  en  | 4.4.4   |\n| re_temporal_events_enriched_clinical_pipeline                |  en  | 4.4.4   |\n| bert_token_classifier_ner_anatem_pipeline                    |  en  | 4.4.4   |\n| bert_token_classifier_ner_bc2gm_gene_pipeline                |  en  | 4.4.4   |\n| re_test_problem_finding_pipeline                             |  en  | 4.4.4   |\n| ner_covid_trials_pipeline                                    |  en  | 4.4.4   |\n| bert_token_classifier_ner_bc5cdr_chemicals_pipeline          |  en  | 4.4.4   |\n| mesh_umls_mapping                                            |  en  | 4.4.4   |\n| ner_oncology_response_to_treatment_pipeline                  |  en  | 4.4.4   |\n| rxnorm_ndc_mapping                                           |  en  | 4.4.4   |\n| bert_token_classifier_ner_living_species_pipeline            |  en  | 4.4.4   |\n| ner_living_species_pipeline                                  |  en  | 4.4.4   |\n| bert_token_classifier_ner_bc4chemd_chemicals_pipeline        |  en  | 4.4.4   |\n| bert_token_classifier_ner_ncbi_disease_pipeline              |  en  | 4.4.4   |\n| bert_token_classifier_ner_pathogen_pipeline                  |  en  | 4.4.4   |\n| bert_token_classifier_ner_clinical_trials_abstracts_pipeline |  en  | 4.4.4   |\n| ner_sdoh_mentions_pipeline                                   |  en  | 4.4.4   |\n| re_human_phenotype_gene_clinical_pipeline                    |  en  | 4.4.4   |\n| ner_oncology_tnm_pipeline                                    |  en  | 4.4.4   |\n| icd10_icd9_mapping                                           |  en  | 4.4.4   |\n| re_bodypart_proceduretest_pipeline                           |  en  | 4.4.4   |\n| explain_clinical_doc_carp                                    |  en  | 4.4.4   |\n| ner_oncology_unspecific_posology_healthcare_pipeline         |  en  | 4.4.4   |\n| snomed_umls_mapping                                          |  en  | 4.4.4   |\n| snomed_icdo_mapping                                          |  en  | 4.4.4   |\n| ner_nature_nero_clinical_pipeline                            |  en  | 4.4.4   |\n| ner_deid_generic_glove_pipeline                              |  en  | 4.4.4   |\n| bert_token_classifier_ade_tweet_binary_pipeline              |  en  | 4.4.4   |\n| bert_token_classifier_ner_bc5cdr_disease_pipeline            |  en  | 4.4.4   |\n| bert_token_classifier_ner_jnlpba_cellular_pipeline           |  en  | 4.4.4   |\n| oncology_biomarker_pipeline                                  |  en  | 4.4.4   |\n| nerdl_tumour_demo_pipeline                                   |  en  | 4.4.4   |\n| ner_oncology_posology_pipeline                               |  en  | 4.4.4   |\n| ner_oncology_diagnosis_pipeline                              |  en  | 4.4.4   |\n| clinical_deidentification_slim                               |  en  | 4.4.4   |\n| clinical_deidentification_glove                              |  en  | 4.4.4   |\n| bert_token_classifier_ner_jsl_pipeline                       |  en  | 4.4.4   |\n| recognize_entities_posology                                  |  en  | 4.4.4   |\n| bert_sequence_classifier_binary_rct_biobert_pipeline         |  en  | 4.4.4   |\n| icd10cm_snomed_mapping                                       |  en  | 4.4.4   |\n| rxnorm_umls_mapping                                          |  en  | 4.4.4   |\n| rxnorm_mesh_mapping                                          |  en  | 4.4.4   |\n| ner_medication_pipeline                                      |  en  | 4.4.4   |\n| ner_deid_generic_augmented_pipeline                          |  en  | 4.4.4   |\n| bert_sequence_classifier_vop_hcp_consult_pipeline            |  en  | 4.4.3   |\n| bert_sequence_classifier_vop_side_effect_pipeline            |  en  | 4.4.3   |\n| bert_sequence_classifier_vop_drug_side_effect_pipeline       |  en  | 4.4.3   |\n| bert_sequence_classifier_vop_self_report_pipeline            |  en  | 4.4.3   |\n| bert_sequence_classifier_vop_sound_medical_pipeline          |  en  | 4.4.3   |\n| clinical_deidentification                                    |  en  | 4.4.4   |\n| explain_clinical_doc_ade                                     |  en  | 4.4.4   |\n| bert_token_classifier_ner_cellular_pipeline                  |  en  | 4.4.4   |\n| bert_token_classifier_ner_chemicals_pipeline                 |  en  | 4.4.4   |\n| bert_token_classifier_ner_chemprot_pipeline                  |  en  | 4.4.4   |\n| bert_token_classifier_ner_anatomy_pipeline                   |  en  | 4.4.4   |\n| bert_token_classifier_ner_clinical_pipeline                  |  en  | 4.4.4   |\n| ner_posology_large_biobert_pipeline                          |  en  | 4.4.4   |\n| ner_cellular_biobert_pipeline                                |  en  | 4.4.4   |\n| jsl_rd_ner_wip_greedy_biobert_pipeline                       |  en  | 4.4.4   |\n| ner_bionlp_biobert_pipeline                                  |  en  | 4.4.4   |\n| ner_cancer_genetics_pipeline                                 |  en  | 4.4.4   |\n| jsl_ner_wip_clinical_pipeline                                |  en  | 4.4.4   |\n| bert_token_classifier_drug_development_trials_pipeline       |  en  | 4.4.4   |\n| ner_deid_biobert_pipeline                                    |  en  | 4.4.4   |\n| ner_drugprot_clinical_pipeline                               |  en  | 4.4.4   |\n| ner_diseases_large_pipeline                                  |  en  | 4.4.4   |\n| explain_clinical_doc_radiology                               |  en  | 4.4.4   |\n| ner_measurements_clinical_pipeline                           |  en  | 4.4.4   |\n| bert_token_classifier_ner_bacteria_pipeline                  |  en  | 4.4.4   |\n| ner_healthcare_pipeline                                      |  en  | 4.4.4   |\n| ner_jsl_greedy_pipeline                                      |  en  | 4.4.4   |\n| ner_drugs_large_pipeline                                     |  en  | 4.4.4   |\n| ner_jsl_slim_pipeline                                        |  en  | 4.4.4   |\n| ner_chexpert_pipeline                                        |  en  | 4.4.4   |\n| ner_events_healthcare_pipeline                               |  en  | 4.4.4   |\n| ner_eu_clinical_condition_pipeline                           |  en  | 4.4.4   |\n| ner_jsl_greedy_biobert_pipeline                              |  en  | 4.4.4   |\n| ner_drugs_greedy_pipeline                                    |  en  | 4.4.4   |\n| ner_posology_experimental_pipeline                           |  en  | 4.4.4   |\n| ner_chemprot_biobert_pipeline                                |  en  | 4.4.4   |\n| ner_jsl_biobert_pipeline                                     |  en  | 4.4.4   |\n| ner_radiology_pipeline                                       |  en  | 4.4.4   |\n| ner_deid_enriched_pipeline                                   |  en  | 4.4.4   |\n| ner_posology_small_pipeline                                  |  en  | 4.4.4   |\n| ner_ade_clinical_pipeline                                    |  en  | 4.4.4   |\n| ner_posology_large_pipeline                                  |  en  | 4.4.4   |\n| ner_chemicals_pipeline                                       |  en  | 4.4.4   |\n| ner_ade_biobert_pipeline                                     |  en  | 4.4.4   |\n| ner_diseases_biobert_pipeline                                |  en  | 4.4.4   |\n| ner_anatomy_biobert_pipeline                                 |  en  | 4.4.4   |\n| ner_clinical_pipeline                                        |  en  | 4.4.4   |\n| ner_deid_augmented_pipeline                                  |  en  | 4.4.4   |\n| ner_risk_factors_pipeline                                    |  en  | 4.4.4   |\n| ner_diseases_pipeline                                        |  en  | 4.4.4   |\n| bert_token_classifier_ner_deid_pipeline                      |  en  | 4.4.4   |\n| ner_posology_biobert_pipeline                                |  en  | 4.4.4   |\n| ner_radiology_wip_clinical_pipeline                          |  en  | 4.4.4   |\n| ner_clinical_large_pipeline                                  |  en  | 4.4.4   |\n| ner_bacterial_species_pipeline                               |  en  | 4.4.4   |\n| ner_pathogen_pipeline                                        |  en  | 4.4.4   |\n| ner_deid_sd_pipeline                                         |  en  | 4.4.4   |\n| ner_biomarker_pipeline                                       |  en  | 4.4.4   |\n| clinical_deidentification_glove_augmented                    |  en  | 4.4.4   |\n| ner_clinical_biobert_pipeline                                |  en  | 4.4.4   |\n| ner_abbreviation_clinical_pipeline                           |  en  | 4.4.4   |\n| ner_nihss_pipeline                                           |  en  | 4.4.4   |\n| ner_ade_healthcare_pipeline                                  |  en  | 4.4.4   |\n| jsl_ner_wip_greedy_clinical_pipeline                         |  en  | 4.4.4   |\n| ner_human_phenotype_gene_biobert_pipeline                    |  en  | 4.4.4   |\n| ner_anatomy_pipeline                                         |  en  | 4.4.4   |\n| jsl_ner_wip_greedy_biobert_pipeline                          |  en  | 4.4.4   |\n| ner_deidentify_dl_pipeline                                   |  en  | 4.4.4   |\n| ner_jsl_enriched_pipeline                                    |  en  | 4.4.4   |\n| ner_risk_factors_biobert_pipeline                            |  en  | 4.4.4   |\n| ner_cellular_pipeline                                        |  en  | 4.4.4   |\n| ner_deid_large_pipeline                                      |  en  | 4.4.4   |\n| ner_deid_sd_large_pipeline                                   |  en  | 4.4.4   |\n| ner_medmentions_coarse_pipeline                              |  en  | 4.4.4   |\n| ner_events_clinical_pipeline                                 |  en  | 4.4.4   |\n| ner_events_admission_clinical_pipeline                       |  en  | 4.4.4   |\n| ner_posology_greedy_pipeline                                 |  en  | 4.4.4   |\n| bert_token_classifier_ner_ade_pipeline                       |  en  | 4.4.4   |\n| ner_genetic_variants_pipeline                                |  en  | 4.4.4   |\n| ner_deid_enriched_biobert_pipeline                           |  en  | 4.4.4   |\n| ner_events_biobert_pipeline                                  |  en  | 4.4.4   |\n| ner_drugs_pipeline                                           |  en  | 4.4.4   |\n| bert_token_classifier_ner_jsl_slim_pipeline                  |  en  | 4.4.4   |\n| ner_clinical_trials_abstracts_pipeline                       |  en  | 4.4.4   |\n| bert_token_classifier_ner_drugs_pipeline                     |  en  | 4.4.4   |\n| clinical_deidentification_wip                                |  en  | 4.4.4   |\n| ner_anatomy_coarse_biobert_pipeline                          |  en  | 4.4.4   |\n| ner_human_phenotype_go_clinical_pipeline                     |  en  | 4.4.4   |\n| ner_bionlp_pipeline                                          |  en  | 4.4.4   |\n| ner_posology_pipeline                                        |  en  | 4.4.4   |\n| jsl_ner_wip_modifier_clinical_pipeline                       |  en  | 4.4.4   |\n| ner_jsl_pipeline                                             |  en  | 4.4.4   |\n| ner_anatomy_coarse_pipeline                                  |  en  | 4.4.4   |\n| spellcheck_clinical_pipeline                                 |  en  | 4.4.4   |\n| ner_deid_subentity_augmented_pipeline                        |  en  | 4.4.4   |\n| bert_token_classifier_ner_bionlp_pipeline                    |  en  | 4.4.4   |\n| ner_posology_healthcare_pipeline                             |  en  | 4.4.4   |\n| ner_biomedical_bc2gm_pipeline                                |  en  | 4.4.4   |\n| jsl_rd_ner_wip_greedy_clinical_pipeline                      |  en  | 4.4.4   |\n| ner_human_phenotype_go_biobert_pipeline                      |  en  | 4.4.4   |\n| ner_human_phenotype_gene_clinical_pipeline                   |  en  | 4.4.4   |\n| ner_deid_subentity_augmented_i2b2_pipeline                   |  en  | 4.4.4   |\n| ner_chemprot_clinical_pipeline                               |  en  | 4.4.4   |\n| oncology_therapy_pipeline                                    |  en  | 4.4.4   |\n| ner_ade_clinicalbert_pipeline                                |  en  | 4.4.4   |\n| ner_jsl_enriched_biobert_pipeline                            |  en  | 4.4.4   |\n| summarizer_clinical_questions_pipeline                       |  en  | 4.4.4   |\n| icd10cm_resolver_pipeline                                    |  en  | 4.4.4   |\n| ner_vop_clinical_dept_pipeline                               |  en  | 4.4.4   |\n| bert_sequence_classifier_vop_drug_side_effect_pipeline       |  en  | 4.4.4   |\n| ner_vop_demographic_pipeline                                 |  en  | 4.4.4   |\n| bert_sequence_classifier_vop_sound_medical_pipeline          |  en  | 4.4.4   |\n| ner_vop_problem_pipeline                                     |  en  | 4.4.4   |\n| ner_vop_pipeline                                             |  en  | 4.4.4   |\n| summarizer_biomedical_pubmed_pipeline                        |  en  | 4.4.4   |\n| bert_sequence_classifier_vop_self_report_pipeline            |  en  | 4.4.4   |\n| ner_vop_problem_reduced_pipeline                             |  en  | 4.4.4   |\n| ner_vop_treatment_pipeline                                   |  en  | 4.4.4   |\n| bert_sequence_classifier_vop_side_effect_pipeline            |  en  | 4.4.4   |\n| cvx_resolver_pipeline                                        |  en  | 4.4.4   |\n| summarizer_clinical_guidelines_large_pipeline                |  en  | 4.4.4   |\n| ner_vop_test_pipeline                                        |  en  | 4.4.4   |\n| umls_clinical_findings_resolver_pipeline                     |  en  | 4.4.4   |\n| icd9_resolver_pipeline                                       |  en  | 4.4.4   |\n| summarizer_clinical_jsl_augmented_pipeline                   |  en  | 4.4.4   |\n| bert_sequence_classifier_vop_hcp_consult_pipeline            |  en  | 4.4.4   |\n| rct_binary_classifier_use_pipeline                           |  en  | 4.4.4   |\n| ner_vop_anatomy_pipeline                                     |  en  | 4.4.4   |\n| ner_profiling_clinical                                       |  en  | 4.4.4   |\n| summarizer_clinical_laymen_pipeline                          |  en  | 4.4.4   |\n| medication_resolver_pipeline                                 |  en  | 4.4.4   |\n| summarizer_clinical_jsl_pipeline                             |  en  | 4.4.4   |\n| rct_binary_classifier_biobert_pipeline                       |  en  | 4.4.4   |\n| summarizer_radiology_pipeline                                |  en  | 4.4.4   |\n| ner_vop_temporal_pipeline                                    |  en  | 4.4.4   |\n| umls_major_concepts_resolver_pipeline                        |  en  | 4.4.4   |\n| umls_disease_syndrome_resolver_pipeline                      |  en  | 4.4.4   |\n| umls_drug_resolver_pipeline                                  |  en  | 4.4.4   |\n| summarizer_generic_jsl_pipeline                              |  en  | 4.4.4   |\n| umls_drug_substance_resolver_pipeline                        |  en  | 4.4.4   |\n| ner_profiling_oncology                                       |  en  | 4.4.4   |\n| ner_profiling_vop                                            |  en  | 4.4.4   |\n| ner_profiling_sdoh                                           |  en  | 4.4.4   |\n| clinical_deidentification                                    |  en  | 5.0.0   |\n| rxnorm_multi_mapper_pipeline                                 |  en  | 5.0.1   |\n| rxnorm_resolver_pipeline                                     |  en  | 5.0.1   |\n| icd10cm_multi_mapper_pipeline                                |  en  | 5.0.1   |\n| abbreviation_pipeline                                        |  en  | 5.0.1   |\n| snomed_multi_mapper_pipeline                                 |  en  | 5.0.1   |\n| ner_oncology_anatomy_general_langtest_pipeline               |  en  | 5.1.0   |\n| ner_posology_langtest_pipeline                               |  en  | 5.1.0   |\n| ner_jsl_langtest_pipeline                                    |  en  | 5.1.0   |\n| ner_sdoh_langtest_pipeline                                   |  en  | 5.1.0   |\n| ner_oncology_demographics_langtest_pipeline                  |  en  | 5.1.0   |\n| ner_ade_clinical_langtest_pipeline                           |  en  | 5.1.0   |\n| ner_events_clinical_langtest_pipeline                        |  en  | 5.1.0   |\n| ner_oncology_anatomy_granular_langtest_pipeline              |  en  | 5.1.0   |\n| ner_oncology_response_to_treatment_langtest_pipeline         |  en  | 5.1.0   |\n| ner_oncology_posology_langtest_pipeline                      |  en  | 5.1.0   |\n| oncology_diagnosis_pipeline                                  |  en  | 5.2.0   |\n| ner_oncology_pipeline                                        |  en  | 5.2.0   |\n| summarizer_clinical_laymen_onnx_pipeline                     |  en  | 5.2.0   |\n| ner_vop_pipeline                                             |  en  | 5.2.0   |\n| clinical_notes_qa_base_onnx_pipeline                         |  en  | 5.2.0   |\n| clinical_deidentification                                    |  en  | 5.2.0   |\n| medical_qa_biogpt_pipeline                                   |  en  | 5.2.0   |\n| flan_t5_base_jsl_qa_pipeline                                 |  en  | 5.2.0   |\n| clinical_deidentification_langtest                           |  en  | 5.2.0   |\n| clinical_notes_qa_large_onnx_pipeline                        |  en  | 5.2.0   |\n| explain_clinical_doc_vop                                     |  en  | 5.2.1   |\n| hcc_resolver_pipeline                                        |  en  | 5.2.1   |\n| atc_resolver_pipeline                                        |  en  | 5.2.1   |\n| cpt_procedures_measurements_resolver_pipeline                |  en  | 5.2.1   |\n| snomed_body_structure_resolver_pipeline                      |  en  | 5.2.1   |\n| explain_clinical_doc_generic                                 |  en  | 5.2.1   |\n| snomed_findings_resolver_pipeline                            |  en  | 5.2.1   |\n| hpo_resolver_pipeline                                        |  en  | 5.2.1   |\n| explain_clinical_doc_radiology                               |  en  | 5.2.1   |\n| explain_clinical_doc_oncology                                |  en  | 5.2.1   |\n| ndc_resolver_pipeline                                        |  en  | 5.2.1   |\n| mesh_resolver_pipeline                                       |  en  | 5.2.1   |\n| explain_clinical_doc_granular                                |  en  | 5.2.1   |\n| icd10cm_generalised_resolver_pipeline                        |  en  | 5.2.1   |\n| loinc_numeric_resolver_pipeline                              |  en  | 5.2.1   |\n| hcpcs_resolver_pipeline                                      |  en  | 5.2.1   |\n| hgnc_resolver_pipeline                                       |  en  | 5.2.1   |\n| ncit_resolver_pipeline                                       |  en  | 5.2.1   |\n| rxcui_resolver_pipeline                                      |  en  | 5.2.1   |\n| snomed_procedures_measurements_resolver_pipeline             |  en  | 5.2.1   |\n| icdo_resolver_pipeline                                       |  en  | 5.2.1   |\n| loinc_resolver_pipeline                                      |  en  | 5.2.1   |\n| icd10pcs_resolver_pipeline                                   |  en  | 5.2.1   |\n| clinical_deidentification_obfuscation_small                  |  en  | 5.2.1   |\n| clinical_deidentification_obfuscation_medium                 |  en  | 5.2.1   |\n+--------------------------------------------------------------+------+---------+\n\n"
     ]
    }
   ],
   "source": [
    "# print PretrainedPipelines\n",
    "medical.InternalResourceDownloader.showPrivatePipelines(lang='en')\n",
    "\n",
    "# print models \n",
    "#medical.InternalResourceDownloader.showPrivateModels(annotator=\"MedicalNerModel\", lang='en')\n",
    "\n",
    "# print annotators\n",
    "# medical.InternalResourceDownloader.showAvailableAnnotators()"
   ]
  },
  {
   "cell_type": "markdown",
   "metadata": {
    "application/vnd.databricks.v1+cell": {
     "cellMetadata": {
      "byteLimit": 2048000,
      "rowLimit": 10000
     },
     "inputWidgets": {},
     "nuid": "8d7d13af-411e-4a99-9c45-af9c8fa71e36",
     "showTitle": false,
     "title": ""
    }
   },
   "source": [
    "## Pretrained Pipelines"
   ]
  },
  {
   "cell_type": "markdown",
   "metadata": {
    "application/vnd.databricks.v1+cell": {
     "cellMetadata": {
      "byteLimit": 2048000,
      "rowLimit": 10000
     },
     "inputWidgets": {},
     "nuid": "c9dc8d7c-0039-4511-9532-eb30a5623bbe",
     "showTitle": false,
     "title": ""
    }
   },
   "source": [
    "In order to save you from creating a pipeline from scratch, Spark NLP also has a pre-trained pipelines that are already fitted using certain annotators and transformers according to various use cases.\n",
    "\n",
    "Here is the list of clinical pre-trained pipelines: \n",
    "\n",
    "**1.   explain_clinical_doc_carp** :\n",
    "\n",
    "> A pipeline with `ner_clinical`, `assertion_dl`, `re_clinical` and `ner_posology`. It will extract clinical and medication entities, assign assertion status and find relationships between clinical entities.\n",
    "\n",
    "**2.   explain_clinical_doc_era** :\n",
    "\n",
    "> A pipeline with `ner_clinical_events`, `assertion_dl` and `re_temporal_events_clinical`. It will extract clinical entities, assign assertion status and find temporal relationships between clinical entities.\n",
    "\n",
    "**3.   explain_clinical_doc_ade** :\n",
    "\n",
    "> A pipeline for `Adverse Drug Events (ADE)` with `ner_ade_biobert`, `assertiondl_biobert`, `classifierdl_ade_conversational_biobert` and `re_ade_biobert`. It will classify the document, extract `ADE` and `DRUG` entities, assign assertion status to `ADE` entities, and relate them with `DRUG` entities, then assign ADE status to a text (`True` means ADE, `False` means not related to ADE).\n",
    "\n",
    "**letter codes in the naming conventions:**\n",
    "\n",
    "> c : ner_clinical\n",
    "\n",
    "> e : ner_clinical_events\n",
    "\n",
    "> r : relation extraction\n",
    "\n",
    "> p : ner_posology\n",
    "\n",
    "> a : assertion\n",
    "\n",
    "> ade : adverse drug events\n",
    "\n",
    "**Relation Extraction types:**\n",
    "\n",
    "`re_clinical` >> TrIP (improved), TrWP (worsened), TrCP (caused problem), TrAP (administered), TrNAP (avoided), TeRP (revealed problem), TeCP (investigate problem), PIP (problems related)\n",
    "\n",
    "`re_temporal_events_clinical` >> `AFTER`, `BEFORE`, `OVERLAP`\n",
    "\n",
    "**4. explain_clinical_doc_medication:**\n",
    "\n",
    "> A pipeline for detecting posology entities with the `ner_posology_large` NER model, assigning their assertion status with `assertion_jsl` model, and extracting relations between posology-related terminology with `posology_re` relation extraction model.\n",
    "\n",
    "\n",
    "**5. explain_clinical_doc_radiology**\n",
    "\n",
    "> A pipeline for detecting radiology entities with the `ner_radiology` NER model, assigning their assertion status with `assertion_dl_radiology` model, and extracting relations between the diagnosis, test, and findings with `re_test_problem_finding` relation extraction model.\n",
    "\n",
    "**6. Clinical Deidentification** :\n",
    "\n",
    ">This pipeline can be used to deidentify PHI information from medical texts. The PHI information will be masked and obfuscated in the resulting text. The pipeline can mask and obfuscate `AGE`, `CONTACT`, `DATE`, `ID`, `LOCATION`, `NAME`, `PROFESSION`, `CITY`, `COUNTRY`, `DOCTOR`, `HOSPITAL`, `IDNUM`, `MEDICALRECORD`, `ORGANIZATION`, `PATIENT`, `PHONE`, `PROFESSION`, `STREET`, `USERNAME`, `ZIP`, `ACCOUNT`, `LICENSE`, `VIN`, `SSN`, `DLN`, `PLATE`, `IPADDR` entities.\n",
    "\n",
    "**7. NER Pipelines:**\n",
    "\n",
    "> Pipelines for all the available pretrained NER models.\n",
    "\n",
    "**8. BERT Based NER Pipelines**\n",
    "\n",
    "> Pipelines for all the available Bert token classification models.\n",
    "\n",
    "**9. ner_profiling_clinical and ner_profiling_biobert:**\n",
    "\n",
    "> Pipelines for exploring all the available pretrained NER models at once.\n",
    "\n",
    "**10. ner_model_finder**\n",
    "\n",
    "> A pipeline trained with bert embeddings that can be used to find the most appropriate NER model given the entity name.\n",
    "\n",
    "**11. Resolver Pipelines**\n",
    "\n",
    "> Pipelines for converting clinical entities to their UMLS CUI codes and medication entities to their ADE, Action, Treatment, UMLS, RxNorm, ICD9, SNOMED and NDC codes.\n",
    "\n",
    "**12. Oncology Pipelines**\n",
    "\n",
    "> Pipelines includes Named-Entity Recognition, Assertion Status, Relation Extraction and Entity Resolution models to extract information from oncology texts.\n",
    "\n",
    "\n",
    "**Also, you can find clinical CODE MAPPING pretrained pipelines in this notebook: [Healthcare Code Mapping Notebook](https://colab.research.google.com/github/JohnSnowLabs/spark-nlp-workshop/blob/master/tutorials/Certification_Trainings_JSL/Healthcare/11.1.Healthcare_Code_Mapping.ipynb)**"
   ]
  },
  {
   "cell_type": "markdown",
   "metadata": {
    "application/vnd.databricks.v1+cell": {
     "cellMetadata": {
      "byteLimit": 2048000,
      "rowLimit": 10000
     },
     "inputWidgets": {},
     "nuid": "50730a6a-d363-47cb-9d3e-a0e4e985fcfe",
     "showTitle": false,
     "title": ""
    }
   },
   "source": [
    "## 1.explain_clinical_doc_carp \n",
    "\n",
    "A pipeline with ner_clinical, assertion_dl, re_clinical and ner_posology. It will extract clinical and medication entities, assign assertion status and find relationships between clinical entities."
   ]
  },
  {
   "cell_type": "code",
   "execution_count": 0,
   "metadata": {
    "application/vnd.databricks.v1+cell": {
     "cellMetadata": {
      "byteLimit": 2048000,
      "rowLimit": 10000
     },
     "inputWidgets": {},
     "nuid": "9c38cc0c-fbaf-4c57-8984-9c12aa32e4b9",
     "showTitle": false,
     "title": ""
    }
   },
   "outputs": [
    {
     "output_type": "stream",
     "name": "stdout",
     "output_type": "stream",
     "text": [
      "explain_clinical_doc_carp download started this may take some time.\nApprox size to download 1.6 GB\n\r[ | ]\r[ / ]\r[ — ]\r[ \\ ]\r[ | ]\r[ / ]\r[ — ]\r[ \\ ]\r[ | ]\r[ / ]\r[ — ]\r[ \\ ]\r[ | ]\r[ / ]\r[ — ]\r[ \\ ]\r[ | ]\r[ / ]\r[ — ]\r[ \\ ]\r[ | ]\r[ / ]\r[ — ]\r[ \\ ]\r[ | ]\r[ / ]\r[ — ]\r[ \\ ]\r[ | ]\r[ / ]\r[ — ]\r[ \\ ]\r[ | ]\r[ / ]\r[ — ]\r[ \\ ]\r[ | ]\r[ / ]\r[ — ]\r[ \\ ]\r[ | ]\r[ / ]\r[ — ]\r[ \\ ]\r[ | ]\r[ / ]\r[ — ]\r[ \\ ]\r[ | ]\r[ / ]\r[ — ]\r[ \\ ]\r[ | ]\r[ / ]\r[ — ]\r[ \\ ]\r[ | ]\r[ / ]\r[ — ]\r[ \\ ]\r[ | ]\r[ / ]\r[ — ]\r[ \\ ]\r[ | ]\r[ / ]\r[ — ]\r[ \\ ]\r[ | ]\r[ / ]\r[ — ]\r[ \\ ]\r[ | ]\r[ / ]\r[ — ]\r[ \\ ]\r[ | ]\r[ / ]\r[ — ]\r[ \\ ]\r[ | ]\r[ / ]\r[ — ]\r[ \\ ]\r[ | ]\r[ / ]\r[ — ]\r[ \\ ]\r[ | ]\r[ / ]\r[ — ]\r[ \\ ]\r[ | ]\r[ / ]\r[ — ]\r[ \\ ]\r[ | ]\r[ / ]\r[ — ]\r[ \\ ]\r[ | ]\r[ / ]\r[ — ]\r[ \\ ]\r[ | ]\r[ / ]\r[ — ]\r[ \\ ]\r[ | ]\r[ / ]\r[ — ]\r[ \\ ]\r[ | ]\r[ / ]\r[ — ]\r[ \\ ]\r[ | ]\r[ / ]\r[ — ]\r[ \\ ]\r[ | ]\r[ / ]\r[ — ]\r[ \\ ]\r[ | ]\r[ / ]\r[ — ]\r[ \\ ]\r[ | ]\r[ / ]\r[ — ]\r[ \\ ]\r[ | ]\r[ / ]\r[ — ]\r[ \\ ]\r[ | ]\r[ / ]\r[ — ]\r[ \\ ]\r[ | ]\r[ / ]\r[ — ]\r[ \\ ]\r[ | ]\r[ / ]\r[ — ]\r[ \\ ]\r[ | ]\r[ / ]\r[ — ]\r[ \\ ]\r[ | ]\r[ / ]\r[ — ]\r[ \\ ]\r[ | ]\r[ / ]\r[ — ]\r[ \\ ]\r[ | ]\r[ / ]\r[ — ]\r[ \\ ]\r[ | ]\r[ / ]\r[ — ]\r[ \\ ]\r[ | ]\r[ / ]\r[ — ]\r[ \\ ]\r[ | ]\r[ / ]\r[ — ]\r[ \\ ]\r[ | ]\r[ / ]\r[ — ]\r[ \\ ]\r[ | ]\r[ / ]\r[ — ]\r[ \\ ]\r[ | ]\r[ / ]\r[ — ]\r[ \\ ]\r[ | ]\r[ / ]\r[ — ]\r[ \\ ]\r[ | ]\r[ / ]\r[ — ]\r[ \\ ]\r[ | ]\r[ / ]\r[ — ]\r[ \\ ]\r[ | ]\r[ / ]\r[ — ]\r[ \\ ]\r[ | ]\r[ / ]\r[ — ]\r[ \\ ]\r[ | ]\r[ / ]\r[ — ]\r[ \\ ]\r[ | ]\r[ / ]\r[ — ]\r[ \\ ]\r[ | ]\r[ / ]\r[ — ]\r[ \\ ]\r[ | ]\r[ / ]\r[ — ]\r[ \\ ]\r[ | ]\r[ / ]\r[ — ]\r[ \\ ]\r[ | ]\r[ / ]\r[ — ]\r[ \\ ]\r[ | ]\r[ / ]\r[ — ]\r[ \\ ]\r[ | ]\r[ / ]\r[ — ]\r[ \\ ]\r[ | ]\r[OK!]\n"
     ]
    }
   ],
   "source": [
    "pipeline = nlp.PretrainedPipeline('explain_clinical_doc_carp', 'en', 'clinical/models')"
   ]
  },
  {
   "cell_type": "code",
   "execution_count": 0,
   "metadata": {
    "application/vnd.databricks.v1+cell": {
     "cellMetadata": {
      "byteLimit": 2048000,
      "rowLimit": 10000
     },
     "inputWidgets": {},
     "nuid": "e0e5413e-13ae-48ea-a55e-a1b9d4c19d90",
     "showTitle": false,
     "title": ""
    }
   },
   "outputs": [
    {
     "output_type": "stream",
     "name": "stdout",
     "output_type": "stream",
     "text": [
      "Out[5]: [DocumentAssembler_9619f8fd837c,\n SentenceDetector_c0b14c755033,\n REGEX_TOKENIZER_7c616f0cb7a5,\n POS_6f55785005bf,\n dependency_d5a8da6c9093,\n WORD_EMBEDDINGS_MODEL_9004b1d00302,\n MedicalNerModel_cd5ce67b529f,\n NER_CONVERTER_2f1dcb61b142,\n MedicalNerModel_4a303d875127,\n NER_CONVERTER_a8cff4d56af8,\n ASSERTION_DL_25881ab6309e,\n RelationExtractionModel_9c255241fec3]"
     ]
    }
   ],
   "source": [
    "pipeline.model.stages"
   ]
  },
  {
   "cell_type": "code",
   "execution_count": 0,
   "metadata": {
    "application/vnd.databricks.v1+cell": {
     "cellMetadata": {
      "byteLimit": 2048000,
      "rowLimit": 10000
     },
     "inputWidgets": {},
     "nuid": "1c222c7b-c3df-4283-9fad-a751a4ba468e",
     "showTitle": false,
     "title": ""
    }
   },
   "outputs": [],
   "source": [
    "# Load pretrained pipeline from local disk:\n",
    "\n",
    "# >> pipeline_local = PretrainedPipeline.from_disk('/root/cache_pretrained/explain_clinical_doc_carp_en_2.5.5_2.4_1597841630062')"
   ]
  },
  {
   "cell_type": "markdown",
   "metadata": {
    "application/vnd.databricks.v1+cell": {
     "cellMetadata": {},
     "inputWidgets": {},
     "nuid": "c2efffc1-1e7f-4e53-a40c-6786a9f3da76",
     "showTitle": false,
     "title": ""
    }
   },
   "source": [
    "#### with fullAnnotate()"
   ]
  },
  {
   "cell_type": "code",
   "execution_count": 0,
   "metadata": {
    "application/vnd.databricks.v1+cell": {
     "cellMetadata": {
      "byteLimit": 2048000,
      "rowLimit": 10000
     },
     "inputWidgets": {},
     "nuid": "bd740490-64b3-439e-9fdb-1f9cd6a7a79f",
     "showTitle": false,
     "title": ""
    }
   },
   "outputs": [
    {
     "output_type": "stream",
     "name": "stdout",
     "output_type": "stream",
     "text": [
      "Out[6]: dict_keys(['sentences', 'clinical_ner_tags', 'document', 'clinical_ner_chunks', 'assertion', 'clinical_relations', 'posology_ner_tags', 'tokens', 'posology_ner_chunks', 'embeddings', 'pos_tags', 'dependencies'])"
     ]
    }
   ],
   "source": [
    "text =\"\"\"A 28-year-old female with a history of gestational diabetes mellitus, used to take metformin 1000 mg two times a day, #presented with a one-week history of polyuria , polydipsia , poor appetite , and vomiting .\n",
    "She was seen by the endocrinology service and discharged on 40 units of insulin glargine at night, 12 units of insulin lispro with #meals.\n",
    "\"\"\"\n",
    "\n",
    "annotations = pipeline.annotate(text)\n",
    "\n",
    "annotations.keys()\n"
   ]
  },
  {
   "cell_type": "code",
   "execution_count": 0,
   "metadata": {
    "application/vnd.databricks.v1+cell": {
     "cellMetadata": {
      "byteLimit": 2048000,
      "rowLimit": 10000
     },
     "inputWidgets": {},
     "nuid": "89af0785-c32e-44bf-847d-aa3767d1f5b8",
     "showTitle": false,
     "title": ""
    }
   },
   "outputs": [
    {
     "output_type": "display_data",
     "data": {
      "text/html": [
       "<div>\n",
       "<style scoped>\n",
       "    .dataframe tbody tr th:only-of-type {\n",
       "        vertical-align: middle;\n",
       "    }\n",
       "\n",
       "    .dataframe tbody tr th {\n",
       "        vertical-align: top;\n",
       "    }\n",
       "\n",
       "    .dataframe thead th {\n",
       "        text-align: right;\n",
       "    }\n",
       "</style>\n",
       "<table border=\"1\" class=\"dataframe\">\n",
       "  <thead>\n",
       "    <tr style=\"text-align: right;\">\n",
       "      <th></th>\n",
       "      <th>tokens</th>\n",
       "      <th>clinical_ner_tags</th>\n",
       "      <th>posology_ner_tags</th>\n",
       "      <th>POS_tags</th>\n",
       "      <th>dependencies</th>\n",
       "    </tr>\n",
       "  </thead>\n",
       "  <tbody>\n",
       "    <tr>\n",
       "      <th>0</th>\n",
       "      <td>A</td>\n",
       "      <td>O</td>\n",
       "      <td>O</td>\n",
       "      <td>DD</td>\n",
       "      <td>female</td>\n",
       "    </tr>\n",
       "    <tr>\n",
       "      <th>1</th>\n",
       "      <td>28-year-old</td>\n",
       "      <td>O</td>\n",
       "      <td>O</td>\n",
       "      <td>NN</td>\n",
       "      <td>female</td>\n",
       "    </tr>\n",
       "    <tr>\n",
       "      <th>2</th>\n",
       "      <td>female</td>\n",
       "      <td>O</td>\n",
       "      <td>O</td>\n",
       "      <td>NN</td>\n",
       "      <td>ROOT</td>\n",
       "    </tr>\n",
       "    <tr>\n",
       "      <th>3</th>\n",
       "      <td>with</td>\n",
       "      <td>O</td>\n",
       "      <td>O</td>\n",
       "      <td>II</td>\n",
       "      <td>history</td>\n",
       "    </tr>\n",
       "    <tr>\n",
       "      <th>4</th>\n",
       "      <td>a</td>\n",
       "      <td>O</td>\n",
       "      <td>O</td>\n",
       "      <td>DD</td>\n",
       "      <td>history</td>\n",
       "    </tr>\n",
       "    <tr>\n",
       "      <th>5</th>\n",
       "      <td>history</td>\n",
       "      <td>O</td>\n",
       "      <td>O</td>\n",
       "      <td>NN</td>\n",
       "      <td>female</td>\n",
       "    </tr>\n",
       "    <tr>\n",
       "      <th>6</th>\n",
       "      <td>of</td>\n",
       "      <td>O</td>\n",
       "      <td>O</td>\n",
       "      <td>II</td>\n",
       "      <td>history</td>\n",
       "    </tr>\n",
       "    <tr>\n",
       "      <th>7</th>\n",
       "      <td>gestational</td>\n",
       "      <td>B-PROBLEM</td>\n",
       "      <td>O</td>\n",
       "      <td>JJ</td>\n",
       "      <td>of</td>\n",
       "    </tr>\n",
       "    <tr>\n",
       "      <th>8</th>\n",
       "      <td>diabetes</td>\n",
       "      <td>I-PROBLEM</td>\n",
       "      <td>O</td>\n",
       "      <td>NN</td>\n",
       "      <td>mellitus</td>\n",
       "    </tr>\n",
       "    <tr>\n",
       "      <th>9</th>\n",
       "      <td>mellitus</td>\n",
       "      <td>I-PROBLEM</td>\n",
       "      <td>O</td>\n",
       "      <td>NN</td>\n",
       "      <td>gestational</td>\n",
       "    </tr>\n",
       "    <tr>\n",
       "      <th>10</th>\n",
       "      <td>,</td>\n",
       "      <td>O</td>\n",
       "      <td>O</td>\n",
       "      <td>NN</td>\n",
       "      <td>used</td>\n",
       "    </tr>\n",
       "    <tr>\n",
       "      <th>11</th>\n",
       "      <td>used</td>\n",
       "      <td>O</td>\n",
       "      <td>O</td>\n",
       "      <td>VVN</td>\n",
       "      <td>mellitus</td>\n",
       "    </tr>\n",
       "    <tr>\n",
       "      <th>12</th>\n",
       "      <td>to</td>\n",
       "      <td>O</td>\n",
       "      <td>O</td>\n",
       "      <td>TO</td>\n",
       "      <td>take</td>\n",
       "    </tr>\n",
       "    <tr>\n",
       "      <th>13</th>\n",
       "      <td>take</td>\n",
       "      <td>O</td>\n",
       "      <td>O</td>\n",
       "      <td>VVI</td>\n",
       "      <td>used</td>\n",
       "    </tr>\n",
       "    <tr>\n",
       "      <th>14</th>\n",
       "      <td>metformin</td>\n",
       "      <td>B-TREATMENT</td>\n",
       "      <td>B-DRUG</td>\n",
       "      <td>NN</td>\n",
       "      <td>take</td>\n",
       "    </tr>\n",
       "    <tr>\n",
       "      <th>15</th>\n",
       "      <td>1000</td>\n",
       "      <td>O</td>\n",
       "      <td>B-STRENGTH</td>\n",
       "      <td>MC</td>\n",
       "      <td>metformin</td>\n",
       "    </tr>\n",
       "    <tr>\n",
       "      <th>16</th>\n",
       "      <td>mg</td>\n",
       "      <td>O</td>\n",
       "      <td>I-STRENGTH</td>\n",
       "      <td>NN</td>\n",
       "      <td>1000</td>\n",
       "    </tr>\n",
       "    <tr>\n",
       "      <th>17</th>\n",
       "      <td>two</td>\n",
       "      <td>O</td>\n",
       "      <td>B-FREQUENCY</td>\n",
       "      <td>MC</td>\n",
       "      <td>times</td>\n",
       "    </tr>\n",
       "    <tr>\n",
       "      <th>18</th>\n",
       "      <td>times</td>\n",
       "      <td>O</td>\n",
       "      <td>I-FREQUENCY</td>\n",
       "      <td>NNS</td>\n",
       "      <td>mg</td>\n",
       "    </tr>\n",
       "    <tr>\n",
       "      <th>19</th>\n",
       "      <td>a</td>\n",
       "      <td>O</td>\n",
       "      <td>I-FREQUENCY</td>\n",
       "      <td>DD</td>\n",
       "      <td>day</td>\n",
       "    </tr>\n",
       "  </tbody>\n",
       "</table>\n",
       "</div>"
      ]
     },
     "metadata": {
      "application/vnd.databricks.v1+output": {
       "addedWidgets": {},
       "arguments": {},
       "data": "<div>\n<style scoped>\n    .dataframe tbody tr th:only-of-type {\n        vertical-align: middle;\n    }\n\n    .dataframe tbody tr th {\n        vertical-align: top;\n    }\n\n    .dataframe thead th {\n        text-align: right;\n    }\n</style>\n<table border=\"1\" class=\"dataframe\">\n  <thead>\n    <tr style=\"text-align: right;\">\n      <th></th>\n      <th>tokens</th>\n      <th>clinical_ner_tags</th>\n      <th>posology_ner_tags</th>\n      <th>POS_tags</th>\n      <th>dependencies</th>\n    </tr>\n  </thead>\n  <tbody>\n    <tr>\n      <th>0</th>\n      <td>A</td>\n      <td>O</td>\n      <td>O</td>\n      <td>DD</td>\n      <td>female</td>\n    </tr>\n    <tr>\n      <th>1</th>\n      <td>28-year-old</td>\n      <td>O</td>\n      <td>O</td>\n      <td>NN</td>\n      <td>female</td>\n    </tr>\n    <tr>\n      <th>2</th>\n      <td>female</td>\n      <td>O</td>\n      <td>O</td>\n      <td>NN</td>\n      <td>ROOT</td>\n    </tr>\n    <tr>\n      <th>3</th>\n      <td>with</td>\n      <td>O</td>\n      <td>O</td>\n      <td>II</td>\n      <td>history</td>\n    </tr>\n    <tr>\n      <th>4</th>\n      <td>a</td>\n      <td>O</td>\n      <td>O</td>\n      <td>DD</td>\n      <td>history</td>\n    </tr>\n    <tr>\n      <th>5</th>\n      <td>history</td>\n      <td>O</td>\n      <td>O</td>\n      <td>NN</td>\n      <td>female</td>\n    </tr>\n    <tr>\n      <th>6</th>\n      <td>of</td>\n      <td>O</td>\n      <td>O</td>\n      <td>II</td>\n      <td>history</td>\n    </tr>\n    <tr>\n      <th>7</th>\n      <td>gestational</td>\n      <td>B-PROBLEM</td>\n      <td>O</td>\n      <td>JJ</td>\n      <td>of</td>\n    </tr>\n    <tr>\n      <th>8</th>\n      <td>diabetes</td>\n      <td>I-PROBLEM</td>\n      <td>O</td>\n      <td>NN</td>\n      <td>mellitus</td>\n    </tr>\n    <tr>\n      <th>9</th>\n      <td>mellitus</td>\n      <td>I-PROBLEM</td>\n      <td>O</td>\n      <td>NN</td>\n      <td>gestational</td>\n    </tr>\n    <tr>\n      <th>10</th>\n      <td>,</td>\n      <td>O</td>\n      <td>O</td>\n      <td>NN</td>\n      <td>used</td>\n    </tr>\n    <tr>\n      <th>11</th>\n      <td>used</td>\n      <td>O</td>\n      <td>O</td>\n      <td>VVN</td>\n      <td>mellitus</td>\n    </tr>\n    <tr>\n      <th>12</th>\n      <td>to</td>\n      <td>O</td>\n      <td>O</td>\n      <td>TO</td>\n      <td>take</td>\n    </tr>\n    <tr>\n      <th>13</th>\n      <td>take</td>\n      <td>O</td>\n      <td>O</td>\n      <td>VVI</td>\n      <td>used</td>\n    </tr>\n    <tr>\n      <th>14</th>\n      <td>metformin</td>\n      <td>B-TREATMENT</td>\n      <td>B-DRUG</td>\n      <td>NN</td>\n      <td>take</td>\n    </tr>\n    <tr>\n      <th>15</th>\n      <td>1000</td>\n      <td>O</td>\n      <td>B-STRENGTH</td>\n      <td>MC</td>\n      <td>metformin</td>\n    </tr>\n    <tr>\n      <th>16</th>\n      <td>mg</td>\n      <td>O</td>\n      <td>I-STRENGTH</td>\n      <td>NN</td>\n      <td>1000</td>\n    </tr>\n    <tr>\n      <th>17</th>\n      <td>two</td>\n      <td>O</td>\n      <td>B-FREQUENCY</td>\n      <td>MC</td>\n      <td>times</td>\n    </tr>\n    <tr>\n      <th>18</th>\n      <td>times</td>\n      <td>O</td>\n      <td>I-FREQUENCY</td>\n      <td>NNS</td>\n      <td>mg</td>\n    </tr>\n    <tr>\n      <th>19</th>\n      <td>a</td>\n      <td>O</td>\n      <td>I-FREQUENCY</td>\n      <td>DD</td>\n      <td>day</td>\n    </tr>\n  </tbody>\n</table>\n</div>",
       "datasetInfos": [],
       "metadata": {},
       "removedWidgets": [],
       "textData": null,
       "type": "htmlSandbox"
      }
     },
     "output_type": "display_data"
    }
   ],
   "source": [
    "import pandas as pd\n",
    "\n",
    "rows = list(zip(annotations['tokens'], annotations['clinical_ner_tags'], annotations['posology_ner_tags'], annotations['pos_tags'], annotations['dependencies']))\n",
    "\n",
    "df = pd.DataFrame(rows, columns = ['tokens','clinical_ner_tags','posology_ner_tags','POS_tags','dependencies'])\n",
    "\n",
    "df.head(20)"
   ]
  },
  {
   "cell_type": "code",
   "execution_count": 0,
   "metadata": {
    "application/vnd.databricks.v1+cell": {
     "cellMetadata": {
      "byteLimit": 2048000,
      "rowLimit": 10000
     },
     "inputWidgets": {},
     "nuid": "1a8f8c70-e860-4f55-af5e-f582653d126b",
     "showTitle": false,
     "title": ""
    }
   },
   "outputs": [
    {
     "output_type": "display_data",
     "data": {
      "text/html": [
       "<div>\n",
       "<style scoped>\n",
       "    .dataframe tbody tr th:only-of-type {\n",
       "        vertical-align: middle;\n",
       "    }\n",
       "\n",
       "    .dataframe tbody tr th {\n",
       "        vertical-align: top;\n",
       "    }\n",
       "\n",
       "    .dataframe thead th {\n",
       "        text-align: right;\n",
       "    }\n",
       "</style>\n",
       "<table border=\"1\" class=\"dataframe\">\n",
       "  <thead>\n",
       "    <tr style=\"text-align: right;\">\n",
       "      <th></th>\n",
       "      <th>chunks</th>\n",
       "      <th>entities</th>\n",
       "      <th>assertion</th>\n",
       "    </tr>\n",
       "  </thead>\n",
       "  <tbody>\n",
       "    <tr>\n",
       "      <th>0</th>\n",
       "      <td>a headache</td>\n",
       "      <td>PROBLEM</td>\n",
       "      <td>present</td>\n",
       "    </tr>\n",
       "    <tr>\n",
       "      <th>1</th>\n",
       "      <td>anxious</td>\n",
       "      <td>PROBLEM</td>\n",
       "      <td>present</td>\n",
       "    </tr>\n",
       "    <tr>\n",
       "      <th>2</th>\n",
       "      <td>alopecia</td>\n",
       "      <td>PROBLEM</td>\n",
       "      <td>absent</td>\n",
       "    </tr>\n",
       "    <tr>\n",
       "      <th>3</th>\n",
       "      <td>pain</td>\n",
       "      <td>PROBLEM</td>\n",
       "      <td>absent</td>\n",
       "    </tr>\n",
       "  </tbody>\n",
       "</table>\n",
       "</div>"
      ]
     },
     "metadata": {
      "application/vnd.databricks.v1+output": {
       "addedWidgets": {},
       "arguments": {},
       "data": "<div>\n<style scoped>\n    .dataframe tbody tr th:only-of-type {\n        vertical-align: middle;\n    }\n\n    .dataframe tbody tr th {\n        vertical-align: top;\n    }\n\n    .dataframe thead th {\n        text-align: right;\n    }\n</style>\n<table border=\"1\" class=\"dataframe\">\n  <thead>\n    <tr style=\"text-align: right;\">\n      <th></th>\n      <th>chunks</th>\n      <th>entities</th>\n      <th>assertion</th>\n    </tr>\n  </thead>\n  <tbody>\n    <tr>\n      <th>0</th>\n      <td>a headache</td>\n      <td>PROBLEM</td>\n      <td>present</td>\n    </tr>\n    <tr>\n      <th>1</th>\n      <td>anxious</td>\n      <td>PROBLEM</td>\n      <td>present</td>\n    </tr>\n    <tr>\n      <th>2</th>\n      <td>alopecia</td>\n      <td>PROBLEM</td>\n      <td>absent</td>\n    </tr>\n    <tr>\n      <th>3</th>\n      <td>pain</td>\n      <td>PROBLEM</td>\n      <td>absent</td>\n    </tr>\n  </tbody>\n</table>\n</div>",
       "datasetInfos": [],
       "metadata": {},
       "removedWidgets": [],
       "textData": null,
       "type": "htmlSandbox"
      }
     },
     "output_type": "display_data"
    }
   ],
   "source": [
    "text = 'Patient has a headache for the last 2 weeks and appears anxious when she walks fast. No alopecia noted. She denies pain'\n",
    "\n",
    "result = pipeline.fullAnnotate(text)[0]\n",
    "\n",
    "chunks=[]\n",
    "entities=[]\n",
    "status=[]\n",
    "\n",
    "for n,m in zip(result['clinical_ner_chunks'],result['assertion']):\n",
    "   \n",
    "    chunks.append(n.result)\n",
    "    entities.append(n.metadata['entity']) \n",
    "    status.append(m.result)\n",
    "       \n",
    "df = pd.DataFrame({'chunks':chunks, 'entities':entities, 'assertion':status})\n",
    "\n",
    "df"
   ]
  },
  {
   "cell_type": "code",
   "execution_count": 0,
   "metadata": {
    "application/vnd.databricks.v1+cell": {
     "cellMetadata": {
      "byteLimit": 2048000,
      "rowLimit": 10000
     },
     "inputWidgets": {},
     "nuid": "bb7b3bea-dff4-4d3a-a1e9-03b80fa81b32",
     "showTitle": false,
     "title": ""
    }
   },
   "outputs": [
    {
     "output_type": "display_data",
     "data": {
      "text/html": [
       "<div>\n",
       "<style scoped>\n",
       "    .dataframe tbody tr th:only-of-type {\n",
       "        vertical-align: middle;\n",
       "    }\n",
       "\n",
       "    .dataframe tbody tr th {\n",
       "        vertical-align: top;\n",
       "    }\n",
       "\n",
       "    .dataframe thead th {\n",
       "        text-align: right;\n",
       "    }\n",
       "</style>\n",
       "<table border=\"1\" class=\"dataframe\">\n",
       "  <thead>\n",
       "    <tr style=\"text-align: right;\">\n",
       "      <th></th>\n",
       "      <th>chunks</th>\n",
       "      <th>begin</th>\n",
       "      <th>end</th>\n",
       "      <th>entities</th>\n",
       "    </tr>\n",
       "  </thead>\n",
       "  <tbody>\n",
       "    <tr>\n",
       "      <th>0</th>\n",
       "      <td>1 unit</td>\n",
       "      <td>28</td>\n",
       "      <td>33</td>\n",
       "      <td>DOSAGE</td>\n",
       "    </tr>\n",
       "    <tr>\n",
       "      <th>1</th>\n",
       "      <td>Advil</td>\n",
       "      <td>38</td>\n",
       "      <td>42</td>\n",
       "      <td>DRUG</td>\n",
       "    </tr>\n",
       "    <tr>\n",
       "      <th>2</th>\n",
       "      <td>for 5 days</td>\n",
       "      <td>44</td>\n",
       "      <td>53</td>\n",
       "      <td>DURATION</td>\n",
       "    </tr>\n",
       "    <tr>\n",
       "      <th>3</th>\n",
       "      <td>1 unit</td>\n",
       "      <td>96</td>\n",
       "      <td>101</td>\n",
       "      <td>DOSAGE</td>\n",
       "    </tr>\n",
       "    <tr>\n",
       "      <th>4</th>\n",
       "      <td>Metformin</td>\n",
       "      <td>106</td>\n",
       "      <td>114</td>\n",
       "      <td>DRUG</td>\n",
       "    </tr>\n",
       "    <tr>\n",
       "      <th>5</th>\n",
       "      <td>daily</td>\n",
       "      <td>116</td>\n",
       "      <td>120</td>\n",
       "      <td>FREQUENCY</td>\n",
       "    </tr>\n",
       "    <tr>\n",
       "      <th>6</th>\n",
       "      <td>40 units</td>\n",
       "      <td>190</td>\n",
       "      <td>197</td>\n",
       "      <td>DOSAGE</td>\n",
       "    </tr>\n",
       "    <tr>\n",
       "      <th>7</th>\n",
       "      <td>insulin glargine</td>\n",
       "      <td>202</td>\n",
       "      <td>217</td>\n",
       "      <td>DRUG</td>\n",
       "    </tr>\n",
       "    <tr>\n",
       "      <th>8</th>\n",
       "      <td>at night</td>\n",
       "      <td>219</td>\n",
       "      <td>226</td>\n",
       "      <td>FREQUENCY</td>\n",
       "    </tr>\n",
       "    <tr>\n",
       "      <th>9</th>\n",
       "      <td>12 units</td>\n",
       "      <td>231</td>\n",
       "      <td>238</td>\n",
       "      <td>DOSAGE</td>\n",
       "    </tr>\n",
       "    <tr>\n",
       "      <th>10</th>\n",
       "      <td>insulin lispro</td>\n",
       "      <td>243</td>\n",
       "      <td>256</td>\n",
       "      <td>DRUG</td>\n",
       "    </tr>\n",
       "    <tr>\n",
       "      <th>11</th>\n",
       "      <td>with meals</td>\n",
       "      <td>258</td>\n",
       "      <td>267</td>\n",
       "      <td>FREQUENCY</td>\n",
       "    </tr>\n",
       "    <tr>\n",
       "      <th>12</th>\n",
       "      <td>metformin</td>\n",
       "      <td>275</td>\n",
       "      <td>283</td>\n",
       "      <td>DRUG</td>\n",
       "    </tr>\n",
       "    <tr>\n",
       "      <th>13</th>\n",
       "      <td>1000 mg</td>\n",
       "      <td>285</td>\n",
       "      <td>291</td>\n",
       "      <td>STRENGTH</td>\n",
       "    </tr>\n",
       "    <tr>\n",
       "      <th>14</th>\n",
       "      <td>two times a day</td>\n",
       "      <td>293</td>\n",
       "      <td>307</td>\n",
       "      <td>FREQUENCY</td>\n",
       "    </tr>\n",
       "  </tbody>\n",
       "</table>\n",
       "</div>"
      ]
     },
     "metadata": {
      "application/vnd.databricks.v1+output": {
       "addedWidgets": {},
       "arguments": {},
       "data": "<div>\n<style scoped>\n    .dataframe tbody tr th:only-of-type {\n        vertical-align: middle;\n    }\n\n    .dataframe tbody tr th {\n        vertical-align: top;\n    }\n\n    .dataframe thead th {\n        text-align: right;\n    }\n</style>\n<table border=\"1\" class=\"dataframe\">\n  <thead>\n    <tr style=\"text-align: right;\">\n      <th></th>\n      <th>chunks</th>\n      <th>begin</th>\n      <th>end</th>\n      <th>entities</th>\n    </tr>\n  </thead>\n  <tbody>\n    <tr>\n      <th>0</th>\n      <td>1 unit</td>\n      <td>28</td>\n      <td>33</td>\n      <td>DOSAGE</td>\n    </tr>\n    <tr>\n      <th>1</th>\n      <td>Advil</td>\n      <td>38</td>\n      <td>42</td>\n      <td>DRUG</td>\n    </tr>\n    <tr>\n      <th>2</th>\n      <td>for 5 days</td>\n      <td>44</td>\n      <td>53</td>\n      <td>DURATION</td>\n    </tr>\n    <tr>\n      <th>3</th>\n      <td>1 unit</td>\n      <td>96</td>\n      <td>101</td>\n      <td>DOSAGE</td>\n    </tr>\n    <tr>\n      <th>4</th>\n      <td>Metformin</td>\n      <td>106</td>\n      <td>114</td>\n      <td>DRUG</td>\n    </tr>\n    <tr>\n      <th>5</th>\n      <td>daily</td>\n      <td>116</td>\n      <td>120</td>\n      <td>FREQUENCY</td>\n    </tr>\n    <tr>\n      <th>6</th>\n      <td>40 units</td>\n      <td>190</td>\n      <td>197</td>\n      <td>DOSAGE</td>\n    </tr>\n    <tr>\n      <th>7</th>\n      <td>insulin glargine</td>\n      <td>202</td>\n      <td>217</td>\n      <td>DRUG</td>\n    </tr>\n    <tr>\n      <th>8</th>\n      <td>at night</td>\n      <td>219</td>\n      <td>226</td>\n      <td>FREQUENCY</td>\n    </tr>\n    <tr>\n      <th>9</th>\n      <td>12 units</td>\n      <td>231</td>\n      <td>238</td>\n      <td>DOSAGE</td>\n    </tr>\n    <tr>\n      <th>10</th>\n      <td>insulin lispro</td>\n      <td>243</td>\n      <td>256</td>\n      <td>DRUG</td>\n    </tr>\n    <tr>\n      <th>11</th>\n      <td>with meals</td>\n      <td>258</td>\n      <td>267</td>\n      <td>FREQUENCY</td>\n    </tr>\n    <tr>\n      <th>12</th>\n      <td>metformin</td>\n      <td>275</td>\n      <td>283</td>\n      <td>DRUG</td>\n    </tr>\n    <tr>\n      <th>13</th>\n      <td>1000 mg</td>\n      <td>285</td>\n      <td>291</td>\n      <td>STRENGTH</td>\n    </tr>\n    <tr>\n      <th>14</th>\n      <td>two times a day</td>\n      <td>293</td>\n      <td>307</td>\n      <td>FREQUENCY</td>\n    </tr>\n  </tbody>\n</table>\n</div>",
       "datasetInfos": [],
       "metadata": {},
       "removedWidgets": [],
       "textData": null,
       "type": "htmlSandbox"
      }
     },
     "output_type": "display_data"
    }
   ],
   "source": [
    "text = \"\"\"\n",
    "The patient was prescribed 1 unit of Advil for 5 days after meals. The patient was also \n",
    "given 1 unit of Metformin daily.\n",
    "He was seen by the endocrinology service and she was discharged on 40 units of insulin glargine at night , \n",
    "12 units of insulin lispro with meals , and metformin 1000 mg two times a day.\n",
    "\"\"\"\n",
    "\n",
    "result = pipeline.fullAnnotate(text)[0]\n",
    "\n",
    "chunks=[]\n",
    "entities=[]\n",
    "begins=[]\n",
    "ends=[]\n",
    "\n",
    "for n in result['posology_ner_chunks']:\n",
    "    \n",
    "    chunks.append(n.result)\n",
    "    begins.append(n.begin)\n",
    "    ends.append(n.end)\n",
    "    entities.append(n.metadata['entity']) \n",
    "        \n",
    "df = pd.DataFrame({'chunks':chunks, 'begin':begins, 'end':ends, 'entities':entities})\n",
    "\n",
    "df"
   ]
  },
  {
   "cell_type": "markdown",
   "metadata": {
    "application/vnd.databricks.v1+cell": {
     "cellMetadata": {},
     "inputWidgets": {},
     "nuid": "f28ca4ad-82e6-4f04-8faa-d65ca4749c33",
     "showTitle": false,
     "title": ""
    }
   },
   "source": [
    "#### with transform()"
   ]
  },
  {
   "cell_type": "code",
   "execution_count": 0,
   "metadata": {
    "application/vnd.databricks.v1+cell": {
     "cellMetadata": {
      "byteLimit": 2048000,
      "rowLimit": 10000
     },
     "inputWidgets": {},
     "nuid": "a65515a0-9b9a-4d87-a42c-4d06a855a8f8",
     "showTitle": false,
     "title": ""
    }
   },
   "outputs": [
    {
     "output_type": "stream",
     "name": "stdout",
     "output_type": "stream",
     "text": [
      "+-----------+-----------------+-----------------+--------+------------+\n|     tokens|clinical_ner_tags|posology_ner_tags|pos_tags|dependencies|\n+-----------+-----------------+-----------------+--------+------------+\n|          A|                O|                O|      DD|      female|\n|28-year-old|                O|                O|      NN|      female|\n|     female|                O|                O|      NN|        ROOT|\n|       with|                O|                O|      II|     history|\n|          a|                O|                O|      DD|     history|\n|    history|                O|                O|      NN|      female|\n|         of|                O|                O|      II|     history|\n|gestational|        B-PROBLEM|                O|      JJ|          of|\n|   diabetes|        I-PROBLEM|                O|      NN|    mellitus|\n|   mellitus|        I-PROBLEM|                O|      NN| gestational|\n|          ,|                O|                O|      NN|        used|\n|       used|                O|                O|     VVN|    mellitus|\n|         to|                O|                O|      TO|        take|\n|       take|                O|                O|     VVI|        used|\n|  metformin|      B-TREATMENT|           B-DRUG|      NN|        take|\n|       1000|                O|       B-STRENGTH|      MC|   metformin|\n|         mg|                O|       I-STRENGTH|      NN|        1000|\n|        two|                O|      B-FREQUENCY|      MC|       times|\n|      times|                O|      I-FREQUENCY|     NNS|          mg|\n|          a|                O|      I-FREQUENCY|      DD|         day|\n+-----------+-----------------+-----------------+--------+------------+\nonly showing top 20 rows\n\n"
     ]
    }
   ],
   "source": [
    "data = spark.createDataFrame([[\"\"\"A 28-year-old female with a history of gestational diabetes mellitus, used to take metformin 1000 mg two times a day, presented with a one-week history of polyuria , polydipsia , poor appetite , and vomiting .\n",
    "She was seen by the endocrinology service and discharged on 40 units of insulin glargine at night, 12 units of insulin lispro with meals.\n",
    "\"\"\"]]).toDF(\"text\")\n",
    "\n",
    "result = pipeline.transform(data)\n",
    "\n",
    "result.select(F.explode(F.arrays_zip(result.tokens.result,\n",
    "                                     result.clinical_ner_tags.result,\n",
    "                                     result.posology_ner_tags.result,\n",
    "                                     result.pos_tags.result,\n",
    "                                     result.dependencies.result)).alias(\"cols\"))\\\n",
    "        .select(F.expr(\"cols['0']\").alias(\"tokens\"),\n",
    "                F.expr(\"cols['1']\").alias(\"clinical_ner_tags\"),\n",
    "                F.expr(\"cols['2']\").alias(\"posology_ner_tags\"),\n",
    "                F.expr(\"cols['3']\").alias(\"pos_tags\"),\n",
    "                F.expr(\"cols['4']\").alias(\"dependencies\")).show()"
   ]
  },
  {
   "cell_type": "code",
   "execution_count": 0,
   "metadata": {
    "application/vnd.databricks.v1+cell": {
     "cellMetadata": {
      "byteLimit": 2048000,
      "rowLimit": 10000
     },
     "inputWidgets": {},
     "nuid": "48a033d2-096f-41ab-9017-dd096cc88c16",
     "showTitle": false,
     "title": ""
    }
   },
   "outputs": [
    {
     "output_type": "stream",
     "name": "stdout",
     "output_type": "stream",
     "text": [
      "+----------+-----+---+---------+-------+\n|     chunk|begin|end|ner_label| status|\n+----------+-----+---+---------+-------+\n|a headache|   12| 21|  PROBLEM|present|\n|   anxious|   56| 62|  PROBLEM|present|\n|  alopecia|   88| 95|  PROBLEM| absent|\n|      pain|  115|118|  PROBLEM| absent|\n+----------+-----+---+---------+-------+\n\n"
     ]
    }
   ],
   "source": [
    "data = spark.createDataFrame([[\"\"\"Patient has a headache for the last 2 weeks and appears anxious when she walks fast. No alopecia noted. She denies pain.\n",
    "\"\"\"]]).toDF(\"text\")\n",
    "\n",
    "result = pipeline.transform(data)\n",
    "\n",
    "result.select(F.explode(F.arrays_zip(result.clinical_ner_chunks.result,\n",
    "                                     result.clinical_ner_chunks.begin,\n",
    "                                     result.clinical_ner_chunks.end,\n",
    "                                     result.clinical_ner_chunks.metadata,\n",
    "                                     result.assertion.result)).alias(\"cols\"))\\\n",
    "        .select(F.expr(\"cols['0']\").alias(\"chunk\"),\n",
    "                F.expr(\"cols['1']\").alias(\"begin\"),\n",
    "                F.expr(\"cols['2']\").alias(\"end\"),\n",
    "                F.expr(\"cols['3']['entity']\").alias(\"ner_label\"),\n",
    "                F.expr(\"cols['4']\").alias(\"status\")).show()"
   ]
  },
  {
   "cell_type": "code",
   "execution_count": 0,
   "metadata": {
    "application/vnd.databricks.v1+cell": {
     "cellMetadata": {
      "byteLimit": 2048000,
      "rowLimit": 10000
     },
     "inputWidgets": {},
     "nuid": "088e1f79-6b3d-4edf-bd28-605b305d3359",
     "showTitle": false,
     "title": ""
    }
   },
   "outputs": [
    {
     "output_type": "stream",
     "name": "stdout",
     "output_type": "stream",
     "text": [
      "+----------------+-----+---+---------+\n|           chunk|begin|end|ner_label|\n+----------------+-----+---+---------+\n|          1 unit|   28| 33|   DOSAGE|\n|           Advil|   38| 42|     DRUG|\n|      for 5 days|   44| 53| DURATION|\n|          1 unit|   95|100|   DOSAGE|\n|       Metformin|  105|113|     DRUG|\n|           daily|  115|119|FREQUENCY|\n|        40 units|  189|196|   DOSAGE|\n|insulin glargine|  201|216|     DRUG|\n|        at night|  218|225|FREQUENCY|\n|        12 units|  229|236|   DOSAGE|\n|  insulin lispro|  241|254|     DRUG|\n|      with meals|  256|265|FREQUENCY|\n|       metformin|  273|281|     DRUG|\n|         1000 mg|  283|289| STRENGTH|\n| two times a day|  291|305|FREQUENCY|\n+----------------+-----+---+---------+\n\n"
     ]
    }
   ],
   "source": [
    "data = spark.createDataFrame([[\"\"\"\n",
    "The patient was prescribed 1 unit of Advil for 5 days after meals. The patient was also\n",
    "given 1 unit of Metformin daily.\n",
    "He was seen by the endocrinology service and she was discharged on 40 units of insulin glargine at night ,\n",
    "12 units of insulin lispro with meals , and metformin 1000 mg two times a day.\n",
    "\"\"\"]]).toDF(\"text\")\n",
    "\n",
    "result = pipeline.transform(data)\n",
    "\n",
    "result.select(F.explode(F.arrays_zip(result.posology_ner_chunks.result,\n",
    "                                     result.posology_ner_chunks.begin,\n",
    "                                     result.posology_ner_chunks.end,\n",
    "                                     result.posology_ner_chunks.metadata)).alias(\"cols\"))\\\n",
    "        .select(F.expr(\"cols['0']\").alias(\"chunk\"),\n",
    "                F.expr(\"cols['1']\").alias(\"begin\"),\n",
    "                F.expr(\"cols['2']\").alias(\"end\"),\n",
    "                F.expr(\"cols['3']['entity']\").alias(\"ner_label\")).show()"
   ]
  },
  {
   "cell_type": "markdown",
   "metadata": {
    "application/vnd.databricks.v1+cell": {
     "cellMetadata": {
      "byteLimit": 2048000,
      "rowLimit": 10000
     },
     "inputWidgets": {},
     "nuid": "56cfaff7-5bd6-46ed-b4ef-d1dbf69935a7",
     "showTitle": false,
     "title": ""
    }
   },
   "source": [
    "## 2.   explain_clinical_doc_era\n",
    "\n",
    "> A pipeline with `ner_clinical_events`, `assertion_dl` and `re_temporal_events_clinical`. It will extract clinical entities, assign assertion status and find temporal relationships between clinical entities."
   ]
  },
  {
   "cell_type": "code",
   "execution_count": 0,
   "metadata": {
    "application/vnd.databricks.v1+cell": {
     "cellMetadata": {
      "byteLimit": 2048000,
      "rowLimit": 10000
     },
     "inputWidgets": {},
     "nuid": "677c8515-e570-43bf-82d7-16bd211296eb",
     "showTitle": false,
     "title": ""
    }
   },
   "outputs": [
    {
     "output_type": "stream",
     "name": "stdout",
     "output_type": "stream",
     "text": [
      "explain_clinical_doc_era download started this may take some time.\nApprox size to download 1.6 GB\n\r[ | ]\r[ / ]\r[ — ]\r[ \\ ]\r[ | ]\r[ / ]\r[ — ]\r[ \\ ]\r[ | ]\r[ / ]\r[ — ]\r[ \\ ]\r[ | ]\r[OK!]\n"
     ]
    }
   ],
   "source": [
    "era_pipeline = nlp.PretrainedPipeline('explain_clinical_doc_era', 'en', 'clinical/models')"
   ]
  },
  {
   "cell_type": "code",
   "execution_count": 0,
   "metadata": {
    "application/vnd.databricks.v1+cell": {
     "cellMetadata": {
      "byteLimit": 2048000,
      "rowLimit": 10000
     },
     "inputWidgets": {},
     "nuid": "25f2b676-ab73-430e-b3d6-c020bf95f121",
     "showTitle": false,
     "title": ""
    }
   },
   "outputs": [
    {
     "output_type": "stream",
     "name": "stdout",
     "output_type": "stream",
     "text": [
      "Out[12]: [DocumentAssembler_81ef1f17c7c1,\n SentenceDetector_0b67d45c215f,\n REGEX_TOKENIZER_19531f0884fd,\n POS_6f55785005bf,\n dependency_d5a8da6c9093,\n WORD_EMBEDDINGS_MODEL_9004b1d00302,\n MedicalNerModel_7cb29c8c904c,\n NER_CONVERTER_c619eb00b46c,\n RelationExtractionModel_14b00157fc1a,\n ASSERTION_DL_25881ab6309e]"
     ]
    }
   ],
   "source": [
    "era_pipeline.model.stages"
   ]
  },
  {
   "cell_type": "code",
   "execution_count": 0,
   "metadata": {
    "application/vnd.databricks.v1+cell": {
     "cellMetadata": {
      "byteLimit": 2048000,
      "rowLimit": 10000
     },
     "inputWidgets": {},
     "nuid": "a84cbed0-1039-4b6f-b77a-2df1a3b26c69",
     "showTitle": false,
     "title": ""
    }
   },
   "outputs": [],
   "source": [
    "text =\"\"\"She is admitted to The John Hopkins Hospital 2 days ago with a history of gestational diabetes mellitus diagnosed. She denied pain and any headache.\n",
    "She was seen by the endocrinology service and she was discharged on 03/02/2018 on 40 units of insulin glargine, \n",
    "12 units of insulin lispro, and metformin 1000 mg two times a day. She had close follow-up with endocrinology post discharge. \n",
    "\"\"\"\n",
    "\n",
    "\n",
    "result = era_pipeline.fullAnnotate(text)[0]\n"
   ]
  },
  {
   "cell_type": "code",
   "execution_count": 0,
   "metadata": {
    "application/vnd.databricks.v1+cell": {
     "cellMetadata": {
      "byteLimit": 2048000,
      "rowLimit": 10000
     },
     "inputWidgets": {},
     "nuid": "d5be98fb-644b-4a2d-ba0a-420d68594036",
     "showTitle": false,
     "title": ""
    }
   },
   "outputs": [
    {
     "output_type": "stream",
     "name": "stdout",
     "output_type": "stream",
     "text": [
      "Out[14]: dict_keys(['sentences', 'clinical_ner_tags', 'document', 'clinical_ner_chunks', 'assertion', 'clinical_relations', 'tokens', 'embeddings', 'pos_tags', 'dependencies'])"
     ]
    }
   ],
   "source": [
    "result.keys()"
   ]
  },
  {
   "cell_type": "code",
   "execution_count": 0,
   "metadata": {
    "application/vnd.databricks.v1+cell": {
     "cellMetadata": {
      "byteLimit": 2048000,
      "rowLimit": 10000
     },
     "inputWidgets": {},
     "nuid": "1cee32f1-a497-454d-a1e4-e3d6a19d2ae9",
     "showTitle": false,
     "title": ""
    }
   },
   "outputs": [
    {
     "output_type": "display_data",
     "data": {
      "text/html": [
       "<div>\n",
       "<style scoped>\n",
       "    .dataframe tbody tr th:only-of-type {\n",
       "        vertical-align: middle;\n",
       "    }\n",
       "\n",
       "    .dataframe tbody tr th {\n",
       "        vertical-align: top;\n",
       "    }\n",
       "\n",
       "    .dataframe thead th {\n",
       "        text-align: right;\n",
       "    }\n",
       "</style>\n",
       "<table border=\"1\" class=\"dataframe\">\n",
       "  <thead>\n",
       "    <tr style=\"text-align: right;\">\n",
       "      <th></th>\n",
       "      <th>chunks</th>\n",
       "      <th>begin</th>\n",
       "      <th>end</th>\n",
       "      <th>entities</th>\n",
       "    </tr>\n",
       "  </thead>\n",
       "  <tbody>\n",
       "    <tr>\n",
       "      <th>0</th>\n",
       "      <td>admitted</td>\n",
       "      <td>7</td>\n",
       "      <td>14</td>\n",
       "      <td>OCCURRENCE</td>\n",
       "    </tr>\n",
       "    <tr>\n",
       "      <th>1</th>\n",
       "      <td>The John Hopkins Hospital</td>\n",
       "      <td>19</td>\n",
       "      <td>43</td>\n",
       "      <td>CLINICAL_DEPT</td>\n",
       "    </tr>\n",
       "    <tr>\n",
       "      <th>2</th>\n",
       "      <td>2 days ago</td>\n",
       "      <td>45</td>\n",
       "      <td>54</td>\n",
       "      <td>DATE</td>\n",
       "    </tr>\n",
       "    <tr>\n",
       "      <th>3</th>\n",
       "      <td>gestational diabetes mellitus</td>\n",
       "      <td>74</td>\n",
       "      <td>102</td>\n",
       "      <td>PROBLEM</td>\n",
       "    </tr>\n",
       "    <tr>\n",
       "      <th>4</th>\n",
       "      <td>denied</td>\n",
       "      <td>119</td>\n",
       "      <td>124</td>\n",
       "      <td>EVIDENTIAL</td>\n",
       "    </tr>\n",
       "    <tr>\n",
       "      <th>5</th>\n",
       "      <td>pain</td>\n",
       "      <td>126</td>\n",
       "      <td>129</td>\n",
       "      <td>PROBLEM</td>\n",
       "    </tr>\n",
       "    <tr>\n",
       "      <th>6</th>\n",
       "      <td>any headache</td>\n",
       "      <td>135</td>\n",
       "      <td>146</td>\n",
       "      <td>PROBLEM</td>\n",
       "    </tr>\n",
       "    <tr>\n",
       "      <th>7</th>\n",
       "      <td>the endocrinology service</td>\n",
       "      <td>165</td>\n",
       "      <td>189</td>\n",
       "      <td>CLINICAL_DEPT</td>\n",
       "    </tr>\n",
       "    <tr>\n",
       "      <th>8</th>\n",
       "      <td>discharged</td>\n",
       "      <td>203</td>\n",
       "      <td>212</td>\n",
       "      <td>OCCURRENCE</td>\n",
       "    </tr>\n",
       "    <tr>\n",
       "      <th>9</th>\n",
       "      <td>03/02/2018</td>\n",
       "      <td>217</td>\n",
       "      <td>226</td>\n",
       "      <td>DATE</td>\n",
       "    </tr>\n",
       "    <tr>\n",
       "      <th>10</th>\n",
       "      <td>insulin glargine</td>\n",
       "      <td>243</td>\n",
       "      <td>258</td>\n",
       "      <td>TREATMENT</td>\n",
       "    </tr>\n",
       "    <tr>\n",
       "      <th>11</th>\n",
       "      <td>insulin lispro</td>\n",
       "      <td>274</td>\n",
       "      <td>287</td>\n",
       "      <td>TREATMENT</td>\n",
       "    </tr>\n",
       "    <tr>\n",
       "      <th>12</th>\n",
       "      <td>metformin</td>\n",
       "      <td>294</td>\n",
       "      <td>302</td>\n",
       "      <td>TREATMENT</td>\n",
       "    </tr>\n",
       "    <tr>\n",
       "      <th>13</th>\n",
       "      <td>two times a day</td>\n",
       "      <td>312</td>\n",
       "      <td>326</td>\n",
       "      <td>FREQUENCY</td>\n",
       "    </tr>\n",
       "    <tr>\n",
       "      <th>14</th>\n",
       "      <td>follow-up with endocrinology post discharge</td>\n",
       "      <td>343</td>\n",
       "      <td>385</td>\n",
       "      <td>OCCURRENCE</td>\n",
       "    </tr>\n",
       "  </tbody>\n",
       "</table>\n",
       "</div>"
      ]
     },
     "metadata": {
      "application/vnd.databricks.v1+output": {
       "addedWidgets": {},
       "arguments": {},
       "data": "<div>\n<style scoped>\n    .dataframe tbody tr th:only-of-type {\n        vertical-align: middle;\n    }\n\n    .dataframe tbody tr th {\n        vertical-align: top;\n    }\n\n    .dataframe thead th {\n        text-align: right;\n    }\n</style>\n<table border=\"1\" class=\"dataframe\">\n  <thead>\n    <tr style=\"text-align: right;\">\n      <th></th>\n      <th>chunks</th>\n      <th>begin</th>\n      <th>end</th>\n      <th>entities</th>\n    </tr>\n  </thead>\n  <tbody>\n    <tr>\n      <th>0</th>\n      <td>admitted</td>\n      <td>7</td>\n      <td>14</td>\n      <td>OCCURRENCE</td>\n    </tr>\n    <tr>\n      <th>1</th>\n      <td>The John Hopkins Hospital</td>\n      <td>19</td>\n      <td>43</td>\n      <td>CLINICAL_DEPT</td>\n    </tr>\n    <tr>\n      <th>2</th>\n      <td>2 days ago</td>\n      <td>45</td>\n      <td>54</td>\n      <td>DATE</td>\n    </tr>\n    <tr>\n      <th>3</th>\n      <td>gestational diabetes mellitus</td>\n      <td>74</td>\n      <td>102</td>\n      <td>PROBLEM</td>\n    </tr>\n    <tr>\n      <th>4</th>\n      <td>denied</td>\n      <td>119</td>\n      <td>124</td>\n      <td>EVIDENTIAL</td>\n    </tr>\n    <tr>\n      <th>5</th>\n      <td>pain</td>\n      <td>126</td>\n      <td>129</td>\n      <td>PROBLEM</td>\n    </tr>\n    <tr>\n      <th>6</th>\n      <td>any headache</td>\n      <td>135</td>\n      <td>146</td>\n      <td>PROBLEM</td>\n    </tr>\n    <tr>\n      <th>7</th>\n      <td>the endocrinology service</td>\n      <td>165</td>\n      <td>189</td>\n      <td>CLINICAL_DEPT</td>\n    </tr>\n    <tr>\n      <th>8</th>\n      <td>discharged</td>\n      <td>203</td>\n      <td>212</td>\n      <td>OCCURRENCE</td>\n    </tr>\n    <tr>\n      <th>9</th>\n      <td>03/02/2018</td>\n      <td>217</td>\n      <td>226</td>\n      <td>DATE</td>\n    </tr>\n    <tr>\n      <th>10</th>\n      <td>insulin glargine</td>\n      <td>243</td>\n      <td>258</td>\n      <td>TREATMENT</td>\n    </tr>\n    <tr>\n      <th>11</th>\n      <td>insulin lispro</td>\n      <td>274</td>\n      <td>287</td>\n      <td>TREATMENT</td>\n    </tr>\n    <tr>\n      <th>12</th>\n      <td>metformin</td>\n      <td>294</td>\n      <td>302</td>\n      <td>TREATMENT</td>\n    </tr>\n    <tr>\n      <th>13</th>\n      <td>two times a day</td>\n      <td>312</td>\n      <td>326</td>\n      <td>FREQUENCY</td>\n    </tr>\n    <tr>\n      <th>14</th>\n      <td>follow-up with endocrinology post discharge</td>\n      <td>343</td>\n      <td>385</td>\n      <td>OCCURRENCE</td>\n    </tr>\n  </tbody>\n</table>\n</div>",
       "datasetInfos": [],
       "metadata": {},
       "removedWidgets": [],
       "textData": null,
       "type": "htmlSandbox"
      }
     },
     "output_type": "display_data"
    }
   ],
   "source": [
    "import pandas as pd\n",
    "\n",
    "chunks=[]\n",
    "entities=[]\n",
    "begins=[]\n",
    "ends=[]\n",
    "\n",
    "for n in result['clinical_ner_chunks']:\n",
    "    \n",
    "    chunks.append(n.result)\n",
    "    begins.append(n.begin)\n",
    "    ends.append(n.end)\n",
    "    entities.append(n.metadata['entity']) \n",
    "        \n",
    "df = pd.DataFrame({'chunks':chunks, 'begin':begins, 'end':ends, 'entities':entities})\n",
    "\n",
    "df"
   ]
  },
  {
   "cell_type": "code",
   "execution_count": 0,
   "metadata": {
    "application/vnd.databricks.v1+cell": {
     "cellMetadata": {
      "byteLimit": 2048000,
      "rowLimit": 10000
     },
     "inputWidgets": {},
     "nuid": "7a394f8e-4808-45e9-a74e-8b181b2b7d0e",
     "showTitle": false,
     "title": ""
    }
   },
   "outputs": [
    {
     "output_type": "display_data",
     "data": {
      "text/html": [
       "<div>\n",
       "<style scoped>\n",
       "    .dataframe tbody tr th:only-of-type {\n",
       "        vertical-align: middle;\n",
       "    }\n",
       "\n",
       "    .dataframe tbody tr th {\n",
       "        vertical-align: top;\n",
       "    }\n",
       "\n",
       "    .dataframe thead th {\n",
       "        text-align: right;\n",
       "    }\n",
       "</style>\n",
       "<table border=\"1\" class=\"dataframe\">\n",
       "  <thead>\n",
       "    <tr style=\"text-align: right;\">\n",
       "      <th></th>\n",
       "      <th>chunks</th>\n",
       "      <th>entities</th>\n",
       "      <th>assertion</th>\n",
       "    </tr>\n",
       "  </thead>\n",
       "  <tbody>\n",
       "    <tr>\n",
       "      <th>0</th>\n",
       "      <td>admitted</td>\n",
       "      <td>OCCURRENCE</td>\n",
       "      <td>present</td>\n",
       "    </tr>\n",
       "    <tr>\n",
       "      <th>1</th>\n",
       "      <td>The John Hopkins Hospital</td>\n",
       "      <td>CLINICAL_DEPT</td>\n",
       "      <td>present</td>\n",
       "    </tr>\n",
       "    <tr>\n",
       "      <th>2</th>\n",
       "      <td>2 days ago</td>\n",
       "      <td>DATE</td>\n",
       "      <td>present</td>\n",
       "    </tr>\n",
       "    <tr>\n",
       "      <th>3</th>\n",
       "      <td>gestational diabetes mellitus</td>\n",
       "      <td>PROBLEM</td>\n",
       "      <td>present</td>\n",
       "    </tr>\n",
       "    <tr>\n",
       "      <th>4</th>\n",
       "      <td>denied</td>\n",
       "      <td>EVIDENTIAL</td>\n",
       "      <td>absent</td>\n",
       "    </tr>\n",
       "    <tr>\n",
       "      <th>5</th>\n",
       "      <td>pain</td>\n",
       "      <td>PROBLEM</td>\n",
       "      <td>absent</td>\n",
       "    </tr>\n",
       "    <tr>\n",
       "      <th>6</th>\n",
       "      <td>any headache</td>\n",
       "      <td>PROBLEM</td>\n",
       "      <td>absent</td>\n",
       "    </tr>\n",
       "    <tr>\n",
       "      <th>7</th>\n",
       "      <td>the endocrinology service</td>\n",
       "      <td>CLINICAL_DEPT</td>\n",
       "      <td>present</td>\n",
       "    </tr>\n",
       "    <tr>\n",
       "      <th>8</th>\n",
       "      <td>discharged</td>\n",
       "      <td>OCCURRENCE</td>\n",
       "      <td>present</td>\n",
       "    </tr>\n",
       "    <tr>\n",
       "      <th>9</th>\n",
       "      <td>03/02/2018</td>\n",
       "      <td>DATE</td>\n",
       "      <td>present</td>\n",
       "    </tr>\n",
       "    <tr>\n",
       "      <th>10</th>\n",
       "      <td>insulin glargine</td>\n",
       "      <td>TREATMENT</td>\n",
       "      <td>present</td>\n",
       "    </tr>\n",
       "    <tr>\n",
       "      <th>11</th>\n",
       "      <td>insulin lispro</td>\n",
       "      <td>TREATMENT</td>\n",
       "      <td>present</td>\n",
       "    </tr>\n",
       "    <tr>\n",
       "      <th>12</th>\n",
       "      <td>metformin</td>\n",
       "      <td>TREATMENT</td>\n",
       "      <td>present</td>\n",
       "    </tr>\n",
       "    <tr>\n",
       "      <th>13</th>\n",
       "      <td>two times a day</td>\n",
       "      <td>FREQUENCY</td>\n",
       "      <td>present</td>\n",
       "    </tr>\n",
       "    <tr>\n",
       "      <th>14</th>\n",
       "      <td>follow-up with endocrinology post discharge</td>\n",
       "      <td>OCCURRENCE</td>\n",
       "      <td>present</td>\n",
       "    </tr>\n",
       "  </tbody>\n",
       "</table>\n",
       "</div>"
      ]
     },
     "metadata": {
      "application/vnd.databricks.v1+output": {
       "addedWidgets": {},
       "arguments": {},
       "data": "<div>\n<style scoped>\n    .dataframe tbody tr th:only-of-type {\n        vertical-align: middle;\n    }\n\n    .dataframe tbody tr th {\n        vertical-align: top;\n    }\n\n    .dataframe thead th {\n        text-align: right;\n    }\n</style>\n<table border=\"1\" class=\"dataframe\">\n  <thead>\n    <tr style=\"text-align: right;\">\n      <th></th>\n      <th>chunks</th>\n      <th>entities</th>\n      <th>assertion</th>\n    </tr>\n  </thead>\n  <tbody>\n    <tr>\n      <th>0</th>\n      <td>admitted</td>\n      <td>OCCURRENCE</td>\n      <td>present</td>\n    </tr>\n    <tr>\n      <th>1</th>\n      <td>The John Hopkins Hospital</td>\n      <td>CLINICAL_DEPT</td>\n      <td>present</td>\n    </tr>\n    <tr>\n      <th>2</th>\n      <td>2 days ago</td>\n      <td>DATE</td>\n      <td>present</td>\n    </tr>\n    <tr>\n      <th>3</th>\n      <td>gestational diabetes mellitus</td>\n      <td>PROBLEM</td>\n      <td>present</td>\n    </tr>\n    <tr>\n      <th>4</th>\n      <td>denied</td>\n      <td>EVIDENTIAL</td>\n      <td>absent</td>\n    </tr>\n    <tr>\n      <th>5</th>\n      <td>pain</td>\n      <td>PROBLEM</td>\n      <td>absent</td>\n    </tr>\n    <tr>\n      <th>6</th>\n      <td>any headache</td>\n      <td>PROBLEM</td>\n      <td>absent</td>\n    </tr>\n    <tr>\n      <th>7</th>\n      <td>the endocrinology service</td>\n      <td>CLINICAL_DEPT</td>\n      <td>present</td>\n    </tr>\n    <tr>\n      <th>8</th>\n      <td>discharged</td>\n      <td>OCCURRENCE</td>\n      <td>present</td>\n    </tr>\n    <tr>\n      <th>9</th>\n      <td>03/02/2018</td>\n      <td>DATE</td>\n      <td>present</td>\n    </tr>\n    <tr>\n      <th>10</th>\n      <td>insulin glargine</td>\n      <td>TREATMENT</td>\n      <td>present</td>\n    </tr>\n    <tr>\n      <th>11</th>\n      <td>insulin lispro</td>\n      <td>TREATMENT</td>\n      <td>present</td>\n    </tr>\n    <tr>\n      <th>12</th>\n      <td>metformin</td>\n      <td>TREATMENT</td>\n      <td>present</td>\n    </tr>\n    <tr>\n      <th>13</th>\n      <td>two times a day</td>\n      <td>FREQUENCY</td>\n      <td>present</td>\n    </tr>\n    <tr>\n      <th>14</th>\n      <td>follow-up with endocrinology post discharge</td>\n      <td>OCCURRENCE</td>\n      <td>present</td>\n    </tr>\n  </tbody>\n</table>\n</div>",
       "datasetInfos": [],
       "metadata": {},
       "removedWidgets": [],
       "textData": null,
       "type": "htmlSandbox"
      }
     },
     "output_type": "display_data"
    }
   ],
   "source": [
    "chunks=[]\n",
    "entities=[]\n",
    "status=[]\n",
    "\n",
    "for n,m in zip(result['clinical_ner_chunks'],result['assertion']):\n",
    "    \n",
    "    chunks.append(n.result)\n",
    "    entities.append(n.metadata['entity']) \n",
    "    status.append(m.result)\n",
    "        \n",
    "df = pd.DataFrame({'chunks':chunks, 'entities':entities, 'assertion':status})\n",
    "\n",
    "df"
   ]
  },
  {
   "cell_type": "code",
   "execution_count": 0,
   "metadata": {
    "application/vnd.databricks.v1+cell": {
     "cellMetadata": {
      "byteLimit": 2048000,
      "rowLimit": 10000
     },
     "inputWidgets": {},
     "nuid": "6439ffa5-a9b5-4879-9341-c25b15588df6",
     "showTitle": false,
     "title": ""
    }
   },
   "outputs": [],
   "source": [
    "import pandas as pd\n",
    "\n",
    "def get_relations_df (results, col='relations'):\n",
    "  rel_pairs=[]\n",
    "  for rel in results[0][col]:\n",
    "      rel_pairs.append((\n",
    "          rel.result, \n",
    "          rel.metadata['entity1'], \n",
    "          rel.metadata['entity1_begin'],\n",
    "          rel.metadata['entity1_end'],\n",
    "          rel.metadata['chunk1'], \n",
    "          rel.metadata['entity2'],\n",
    "          rel.metadata['entity2_begin'],\n",
    "          rel.metadata['entity2_end'],\n",
    "          rel.metadata['chunk2'], \n",
    "          rel.metadata['confidence']\n",
    "      ))\n",
    "\n",
    "  rel_df = pd.DataFrame(rel_pairs, columns=['relation','entity1','entity1_begin','entity1_end','chunk1','entity2','entity2_begin','entity2_end','chunk2', 'confidence'])\n",
    "\n",
    "  rel_df.confidence = rel_df.confidence.astype(float)\n",
    "  \n",
    "  return rel_df"
   ]
  },
  {
   "cell_type": "code",
   "execution_count": 0,
   "metadata": {
    "application/vnd.databricks.v1+cell": {
     "cellMetadata": {
      "byteLimit": 2048000,
      "rowLimit": 10000
     },
     "inputWidgets": {},
     "nuid": "bd5eaa4b-d76a-4215-b20c-cffcb2757d50",
     "showTitle": false,
     "title": ""
    }
   },
   "outputs": [
    {
     "output_type": "display_data",
     "data": {
      "text/html": [
       "<div>\n",
       "<style scoped>\n",
       "    .dataframe tbody tr th:only-of-type {\n",
       "        vertical-align: middle;\n",
       "    }\n",
       "\n",
       "    .dataframe tbody tr th {\n",
       "        vertical-align: top;\n",
       "    }\n",
       "\n",
       "    .dataframe thead th {\n",
       "        text-align: right;\n",
       "    }\n",
       "</style>\n",
       "<table border=\"1\" class=\"dataframe\">\n",
       "  <thead>\n",
       "    <tr style=\"text-align: right;\">\n",
       "      <th></th>\n",
       "      <th>relation</th>\n",
       "      <th>entity1</th>\n",
       "      <th>entity1_begin</th>\n",
       "      <th>entity1_end</th>\n",
       "      <th>chunk1</th>\n",
       "      <th>entity2</th>\n",
       "      <th>entity2_begin</th>\n",
       "      <th>entity2_end</th>\n",
       "      <th>chunk2</th>\n",
       "      <th>confidence</th>\n",
       "    </tr>\n",
       "  </thead>\n",
       "  <tbody>\n",
       "    <tr>\n",
       "      <th>0</th>\n",
       "      <td>AFTER</td>\n",
       "      <td>OCCURRENCE</td>\n",
       "      <td>7</td>\n",
       "      <td>14</td>\n",
       "      <td>admitted</td>\n",
       "      <td>CLINICAL_DEPT</td>\n",
       "      <td>19</td>\n",
       "      <td>43</td>\n",
       "      <td>The John Hopkins Hospital</td>\n",
       "      <td>0.962110</td>\n",
       "    </tr>\n",
       "    <tr>\n",
       "      <th>1</th>\n",
       "      <td>OVERLAP</td>\n",
       "      <td>OCCURRENCE</td>\n",
       "      <td>7</td>\n",
       "      <td>14</td>\n",
       "      <td>admitted</td>\n",
       "      <td>DATE</td>\n",
       "      <td>45</td>\n",
       "      <td>54</td>\n",
       "      <td>2 days ago</td>\n",
       "      <td>0.999708</td>\n",
       "    </tr>\n",
       "    <tr>\n",
       "      <th>2</th>\n",
       "      <td>BEFORE</td>\n",
       "      <td>OCCURRENCE</td>\n",
       "      <td>7</td>\n",
       "      <td>14</td>\n",
       "      <td>admitted</td>\n",
       "      <td>PROBLEM</td>\n",
       "      <td>74</td>\n",
       "      <td>102</td>\n",
       "      <td>gestational diabetes mellitus</td>\n",
       "      <td>0.999855</td>\n",
       "    </tr>\n",
       "    <tr>\n",
       "      <th>3</th>\n",
       "      <td>OVERLAP</td>\n",
       "      <td>CLINICAL_DEPT</td>\n",
       "      <td>19</td>\n",
       "      <td>43</td>\n",
       "      <td>The John Hopkins Hospital</td>\n",
       "      <td>DATE</td>\n",
       "      <td>45</td>\n",
       "      <td>54</td>\n",
       "      <td>2 days ago</td>\n",
       "      <td>0.857712</td>\n",
       "    </tr>\n",
       "    <tr>\n",
       "      <th>4</th>\n",
       "      <td>BEFORE</td>\n",
       "      <td>CLINICAL_DEPT</td>\n",
       "      <td>19</td>\n",
       "      <td>43</td>\n",
       "      <td>The John Hopkins Hospital</td>\n",
       "      <td>PROBLEM</td>\n",
       "      <td>74</td>\n",
       "      <td>102</td>\n",
       "      <td>gestational diabetes mellitus</td>\n",
       "      <td>0.905534</td>\n",
       "    </tr>\n",
       "    <tr>\n",
       "      <th>5</th>\n",
       "      <td>OVERLAP</td>\n",
       "      <td>DATE</td>\n",
       "      <td>45</td>\n",
       "      <td>54</td>\n",
       "      <td>2 days ago</td>\n",
       "      <td>PROBLEM</td>\n",
       "      <td>74</td>\n",
       "      <td>102</td>\n",
       "      <td>gestational diabetes mellitus</td>\n",
       "      <td>0.912592</td>\n",
       "    </tr>\n",
       "    <tr>\n",
       "      <th>6</th>\n",
       "      <td>BEFORE</td>\n",
       "      <td>EVIDENTIAL</td>\n",
       "      <td>119</td>\n",
       "      <td>124</td>\n",
       "      <td>denied</td>\n",
       "      <td>PROBLEM</td>\n",
       "      <td>126</td>\n",
       "      <td>129</td>\n",
       "      <td>pain</td>\n",
       "      <td>1.000000</td>\n",
       "    </tr>\n",
       "    <tr>\n",
       "      <th>7</th>\n",
       "      <td>BEFORE</td>\n",
       "      <td>EVIDENTIAL</td>\n",
       "      <td>119</td>\n",
       "      <td>124</td>\n",
       "      <td>denied</td>\n",
       "      <td>PROBLEM</td>\n",
       "      <td>135</td>\n",
       "      <td>146</td>\n",
       "      <td>any headache</td>\n",
       "      <td>1.000000</td>\n",
       "    </tr>\n",
       "    <tr>\n",
       "      <th>8</th>\n",
       "      <td>OVERLAP</td>\n",
       "      <td>PROBLEM</td>\n",
       "      <td>126</td>\n",
       "      <td>129</td>\n",
       "      <td>pain</td>\n",
       "      <td>PROBLEM</td>\n",
       "      <td>135</td>\n",
       "      <td>146</td>\n",
       "      <td>any headache</td>\n",
       "      <td>1.000000</td>\n",
       "    </tr>\n",
       "    <tr>\n",
       "      <th>9</th>\n",
       "      <td>OVERLAP</td>\n",
       "      <td>CLINICAL_DEPT</td>\n",
       "      <td>165</td>\n",
       "      <td>189</td>\n",
       "      <td>the endocrinology service</td>\n",
       "      <td>OCCURRENCE</td>\n",
       "      <td>203</td>\n",
       "      <td>212</td>\n",
       "      <td>discharged</td>\n",
       "      <td>0.587001</td>\n",
       "    </tr>\n",
       "    <tr>\n",
       "      <th>10</th>\n",
       "      <td>OVERLAP</td>\n",
       "      <td>CLINICAL_DEPT</td>\n",
       "      <td>165</td>\n",
       "      <td>189</td>\n",
       "      <td>the endocrinology service</td>\n",
       "      <td>DATE</td>\n",
       "      <td>217</td>\n",
       "      <td>226</td>\n",
       "      <td>03/02/2018</td>\n",
       "      <td>0.993726</td>\n",
       "    </tr>\n",
       "    <tr>\n",
       "      <th>11</th>\n",
       "      <td>OVERLAP</td>\n",
       "      <td>CLINICAL_DEPT</td>\n",
       "      <td>165</td>\n",
       "      <td>189</td>\n",
       "      <td>the endocrinology service</td>\n",
       "      <td>TREATMENT</td>\n",
       "      <td>243</td>\n",
       "      <td>258</td>\n",
       "      <td>insulin glargine</td>\n",
       "      <td>0.814127</td>\n",
       "    </tr>\n",
       "    <tr>\n",
       "      <th>12</th>\n",
       "      <td>OVERLAP</td>\n",
       "      <td>CLINICAL_DEPT</td>\n",
       "      <td>165</td>\n",
       "      <td>189</td>\n",
       "      <td>the endocrinology service</td>\n",
       "      <td>TREATMENT</td>\n",
       "      <td>274</td>\n",
       "      <td>287</td>\n",
       "      <td>insulin lispro</td>\n",
       "      <td>0.999097</td>\n",
       "    </tr>\n",
       "    <tr>\n",
       "      <th>13</th>\n",
       "      <td>OVERLAP</td>\n",
       "      <td>CLINICAL_DEPT</td>\n",
       "      <td>165</td>\n",
       "      <td>189</td>\n",
       "      <td>the endocrinology service</td>\n",
       "      <td>TREATMENT</td>\n",
       "      <td>294</td>\n",
       "      <td>302</td>\n",
       "      <td>metformin</td>\n",
       "      <td>0.998701</td>\n",
       "    </tr>\n",
       "    <tr>\n",
       "      <th>14</th>\n",
       "      <td>OVERLAP</td>\n",
       "      <td>CLINICAL_DEPT</td>\n",
       "      <td>165</td>\n",
       "      <td>189</td>\n",
       "      <td>the endocrinology service</td>\n",
       "      <td>FREQUENCY</td>\n",
       "      <td>312</td>\n",
       "      <td>326</td>\n",
       "      <td>two times a day</td>\n",
       "      <td>0.993038</td>\n",
       "    </tr>\n",
       "    <tr>\n",
       "      <th>15</th>\n",
       "      <td>OVERLAP</td>\n",
       "      <td>OCCURRENCE</td>\n",
       "      <td>203</td>\n",
       "      <td>212</td>\n",
       "      <td>discharged</td>\n",
       "      <td>DATE</td>\n",
       "      <td>217</td>\n",
       "      <td>226</td>\n",
       "      <td>03/02/2018</td>\n",
       "      <td>1.000000</td>\n",
       "    </tr>\n",
       "    <tr>\n",
       "      <th>16</th>\n",
       "      <td>BEFORE</td>\n",
       "      <td>OCCURRENCE</td>\n",
       "      <td>203</td>\n",
       "      <td>212</td>\n",
       "      <td>discharged</td>\n",
       "      <td>TREATMENT</td>\n",
       "      <td>243</td>\n",
       "      <td>258</td>\n",
       "      <td>insulin glargine</td>\n",
       "      <td>0.508158</td>\n",
       "    </tr>\n",
       "    <tr>\n",
       "      <th>17</th>\n",
       "      <td>AFTER</td>\n",
       "      <td>OCCURRENCE</td>\n",
       "      <td>203</td>\n",
       "      <td>212</td>\n",
       "      <td>discharged</td>\n",
       "      <td>TREATMENT</td>\n",
       "      <td>274</td>\n",
       "      <td>287</td>\n",
       "      <td>insulin lispro</td>\n",
       "      <td>0.952934</td>\n",
       "    </tr>\n",
       "    <tr>\n",
       "      <th>18</th>\n",
       "      <td>AFTER</td>\n",
       "      <td>OCCURRENCE</td>\n",
       "      <td>203</td>\n",
       "      <td>212</td>\n",
       "      <td>discharged</td>\n",
       "      <td>TREATMENT</td>\n",
       "      <td>294</td>\n",
       "      <td>302</td>\n",
       "      <td>metformin</td>\n",
       "      <td>0.998197</td>\n",
       "    </tr>\n",
       "    <tr>\n",
       "      <th>19</th>\n",
       "      <td>OVERLAP</td>\n",
       "      <td>OCCURRENCE</td>\n",
       "      <td>203</td>\n",
       "      <td>212</td>\n",
       "      <td>discharged</td>\n",
       "      <td>FREQUENCY</td>\n",
       "      <td>312</td>\n",
       "      <td>326</td>\n",
       "      <td>two times a day</td>\n",
       "      <td>0.607644</td>\n",
       "    </tr>\n",
       "    <tr>\n",
       "      <th>20</th>\n",
       "      <td>OVERLAP</td>\n",
       "      <td>DATE</td>\n",
       "      <td>217</td>\n",
       "      <td>226</td>\n",
       "      <td>03/02/2018</td>\n",
       "      <td>TREATMENT</td>\n",
       "      <td>243</td>\n",
       "      <td>258</td>\n",
       "      <td>insulin glargine</td>\n",
       "      <td>0.954291</td>\n",
       "    </tr>\n",
       "    <tr>\n",
       "      <th>21</th>\n",
       "      <td>OVERLAP</td>\n",
       "      <td>DATE</td>\n",
       "      <td>217</td>\n",
       "      <td>226</td>\n",
       "      <td>03/02/2018</td>\n",
       "      <td>TREATMENT</td>\n",
       "      <td>274</td>\n",
       "      <td>287</td>\n",
       "      <td>insulin lispro</td>\n",
       "      <td>0.994294</td>\n",
       "    </tr>\n",
       "    <tr>\n",
       "      <th>22</th>\n",
       "      <td>AFTER</td>\n",
       "      <td>DATE</td>\n",
       "      <td>217</td>\n",
       "      <td>226</td>\n",
       "      <td>03/02/2018</td>\n",
       "      <td>TREATMENT</td>\n",
       "      <td>294</td>\n",
       "      <td>302</td>\n",
       "      <td>metformin</td>\n",
       "      <td>0.669087</td>\n",
       "    </tr>\n",
       "    <tr>\n",
       "      <th>23</th>\n",
       "      <td>OVERLAP</td>\n",
       "      <td>DATE</td>\n",
       "      <td>217</td>\n",
       "      <td>226</td>\n",
       "      <td>03/02/2018</td>\n",
       "      <td>FREQUENCY</td>\n",
       "      <td>312</td>\n",
       "      <td>326</td>\n",
       "      <td>two times a day</td>\n",
       "      <td>0.994890</td>\n",
       "    </tr>\n",
       "    <tr>\n",
       "      <th>24</th>\n",
       "      <td>OVERLAP</td>\n",
       "      <td>TREATMENT</td>\n",
       "      <td>243</td>\n",
       "      <td>258</td>\n",
       "      <td>insulin glargine</td>\n",
       "      <td>TREATMENT</td>\n",
       "      <td>274</td>\n",
       "      <td>287</td>\n",
       "      <td>insulin lispro</td>\n",
       "      <td>1.000000</td>\n",
       "    </tr>\n",
       "    <tr>\n",
       "      <th>25</th>\n",
       "      <td>OVERLAP</td>\n",
       "      <td>TREATMENT</td>\n",
       "      <td>243</td>\n",
       "      <td>258</td>\n",
       "      <td>insulin glargine</td>\n",
       "      <td>TREATMENT</td>\n",
       "      <td>294</td>\n",
       "      <td>302</td>\n",
       "      <td>metformin</td>\n",
       "      <td>0.999996</td>\n",
       "    </tr>\n",
       "    <tr>\n",
       "      <th>26</th>\n",
       "      <td>OVERLAP</td>\n",
       "      <td>TREATMENT</td>\n",
       "      <td>243</td>\n",
       "      <td>258</td>\n",
       "      <td>insulin glargine</td>\n",
       "      <td>FREQUENCY</td>\n",
       "      <td>312</td>\n",
       "      <td>326</td>\n",
       "      <td>two times a day</td>\n",
       "      <td>0.927772</td>\n",
       "    </tr>\n",
       "    <tr>\n",
       "      <th>27</th>\n",
       "      <td>OVERLAP</td>\n",
       "      <td>TREATMENT</td>\n",
       "      <td>274</td>\n",
       "      <td>287</td>\n",
       "      <td>insulin lispro</td>\n",
       "      <td>TREATMENT</td>\n",
       "      <td>294</td>\n",
       "      <td>302</td>\n",
       "      <td>metformin</td>\n",
       "      <td>1.000000</td>\n",
       "    </tr>\n",
       "    <tr>\n",
       "      <th>28</th>\n",
       "      <td>OVERLAP</td>\n",
       "      <td>TREATMENT</td>\n",
       "      <td>274</td>\n",
       "      <td>287</td>\n",
       "      <td>insulin lispro</td>\n",
       "      <td>FREQUENCY</td>\n",
       "      <td>312</td>\n",
       "      <td>326</td>\n",
       "      <td>two times a day</td>\n",
       "      <td>1.000000</td>\n",
       "    </tr>\n",
       "    <tr>\n",
       "      <th>29</th>\n",
       "      <td>OVERLAP</td>\n",
       "      <td>TREATMENT</td>\n",
       "      <td>294</td>\n",
       "      <td>302</td>\n",
       "      <td>metformin</td>\n",
       "      <td>FREQUENCY</td>\n",
       "      <td>312</td>\n",
       "      <td>326</td>\n",
       "      <td>two times a day</td>\n",
       "      <td>1.000000</td>\n",
       "    </tr>\n",
       "  </tbody>\n",
       "</table>\n",
       "</div>"
      ]
     },
     "metadata": {
      "application/vnd.databricks.v1+output": {
       "addedWidgets": {},
       "arguments": {},
       "data": "<div>\n<style scoped>\n    .dataframe tbody tr th:only-of-type {\n        vertical-align: middle;\n    }\n\n    .dataframe tbody tr th {\n        vertical-align: top;\n    }\n\n    .dataframe thead th {\n        text-align: right;\n    }\n</style>\n<table border=\"1\" class=\"dataframe\">\n  <thead>\n    <tr style=\"text-align: right;\">\n      <th></th>\n      <th>relation</th>\n      <th>entity1</th>\n      <th>entity1_begin</th>\n      <th>entity1_end</th>\n      <th>chunk1</th>\n      <th>entity2</th>\n      <th>entity2_begin</th>\n      <th>entity2_end</th>\n      <th>chunk2</th>\n      <th>confidence</th>\n    </tr>\n  </thead>\n  <tbody>\n    <tr>\n      <th>0</th>\n      <td>AFTER</td>\n      <td>OCCURRENCE</td>\n      <td>7</td>\n      <td>14</td>\n      <td>admitted</td>\n      <td>CLINICAL_DEPT</td>\n      <td>19</td>\n      <td>43</td>\n      <td>The John Hopkins Hospital</td>\n      <td>0.962110</td>\n    </tr>\n    <tr>\n      <th>1</th>\n      <td>OVERLAP</td>\n      <td>OCCURRENCE</td>\n      <td>7</td>\n      <td>14</td>\n      <td>admitted</td>\n      <td>DATE</td>\n      <td>45</td>\n      <td>54</td>\n      <td>2 days ago</td>\n      <td>0.999708</td>\n    </tr>\n    <tr>\n      <th>2</th>\n      <td>BEFORE</td>\n      <td>OCCURRENCE</td>\n      <td>7</td>\n      <td>14</td>\n      <td>admitted</td>\n      <td>PROBLEM</td>\n      <td>74</td>\n      <td>102</td>\n      <td>gestational diabetes mellitus</td>\n      <td>0.999855</td>\n    </tr>\n    <tr>\n      <th>3</th>\n      <td>OVERLAP</td>\n      <td>CLINICAL_DEPT</td>\n      <td>19</td>\n      <td>43</td>\n      <td>The John Hopkins Hospital</td>\n      <td>DATE</td>\n      <td>45</td>\n      <td>54</td>\n      <td>2 days ago</td>\n      <td>0.857712</td>\n    </tr>\n    <tr>\n      <th>4</th>\n      <td>BEFORE</td>\n      <td>CLINICAL_DEPT</td>\n      <td>19</td>\n      <td>43</td>\n      <td>The John Hopkins Hospital</td>\n      <td>PROBLEM</td>\n      <td>74</td>\n      <td>102</td>\n      <td>gestational diabetes mellitus</td>\n      <td>0.905534</td>\n    </tr>\n    <tr>\n      <th>5</th>\n      <td>OVERLAP</td>\n      <td>DATE</td>\n      <td>45</td>\n      <td>54</td>\n      <td>2 days ago</td>\n      <td>PROBLEM</td>\n      <td>74</td>\n      <td>102</td>\n      <td>gestational diabetes mellitus</td>\n      <td>0.912592</td>\n    </tr>\n    <tr>\n      <th>6</th>\n      <td>BEFORE</td>\n      <td>EVIDENTIAL</td>\n      <td>119</td>\n      <td>124</td>\n      <td>denied</td>\n      <td>PROBLEM</td>\n      <td>126</td>\n      <td>129</td>\n      <td>pain</td>\n      <td>1.000000</td>\n    </tr>\n    <tr>\n      <th>7</th>\n      <td>BEFORE</td>\n      <td>EVIDENTIAL</td>\n      <td>119</td>\n      <td>124</td>\n      <td>denied</td>\n      <td>PROBLEM</td>\n      <td>135</td>\n      <td>146</td>\n      <td>any headache</td>\n      <td>1.000000</td>\n    </tr>\n    <tr>\n      <th>8</th>\n      <td>OVERLAP</td>\n      <td>PROBLEM</td>\n      <td>126</td>\n      <td>129</td>\n      <td>pain</td>\n      <td>PROBLEM</td>\n      <td>135</td>\n      <td>146</td>\n      <td>any headache</td>\n      <td>1.000000</td>\n    </tr>\n    <tr>\n      <th>9</th>\n      <td>OVERLAP</td>\n      <td>CLINICAL_DEPT</td>\n      <td>165</td>\n      <td>189</td>\n      <td>the endocrinology service</td>\n      <td>OCCURRENCE</td>\n      <td>203</td>\n      <td>212</td>\n      <td>discharged</td>\n      <td>0.587001</td>\n    </tr>\n    <tr>\n      <th>10</th>\n      <td>OVERLAP</td>\n      <td>CLINICAL_DEPT</td>\n      <td>165</td>\n      <td>189</td>\n      <td>the endocrinology service</td>\n      <td>DATE</td>\n      <td>217</td>\n      <td>226</td>\n      <td>03/02/2018</td>\n      <td>0.993726</td>\n    </tr>\n    <tr>\n      <th>11</th>\n      <td>OVERLAP</td>\n      <td>CLINICAL_DEPT</td>\n      <td>165</td>\n      <td>189</td>\n      <td>the endocrinology service</td>\n      <td>TREATMENT</td>\n      <td>243</td>\n      <td>258</td>\n      <td>insulin glargine</td>\n      <td>0.814127</td>\n    </tr>\n    <tr>\n      <th>12</th>\n      <td>OVERLAP</td>\n      <td>CLINICAL_DEPT</td>\n      <td>165</td>\n      <td>189</td>\n      <td>the endocrinology service</td>\n      <td>TREATMENT</td>\n      <td>274</td>\n      <td>287</td>\n      <td>insulin lispro</td>\n      <td>0.999097</td>\n    </tr>\n    <tr>\n      <th>13</th>\n      <td>OVERLAP</td>\n      <td>CLINICAL_DEPT</td>\n      <td>165</td>\n      <td>189</td>\n      <td>the endocrinology service</td>\n      <td>TREATMENT</td>\n      <td>294</td>\n      <td>302</td>\n      <td>metformin</td>\n      <td>0.998701</td>\n    </tr>\n    <tr>\n      <th>14</th>\n      <td>OVERLAP</td>\n      <td>CLINICAL_DEPT</td>\n      <td>165</td>\n      <td>189</td>\n      <td>the endocrinology service</td>\n      <td>FREQUENCY</td>\n      <td>312</td>\n      <td>326</td>\n      <td>two times a day</td>\n      <td>0.993038</td>\n    </tr>\n    <tr>\n      <th>15</th>\n      <td>OVERLAP</td>\n      <td>OCCURRENCE</td>\n      <td>203</td>\n      <td>212</td>\n      <td>discharged</td>\n      <td>DATE</td>\n      <td>217</td>\n      <td>226</td>\n      <td>03/02/2018</td>\n      <td>1.000000</td>\n    </tr>\n    <tr>\n      <th>16</th>\n      <td>BEFORE</td>\n      <td>OCCURRENCE</td>\n      <td>203</td>\n      <td>212</td>\n      <td>discharged</td>\n      <td>TREATMENT</td>\n      <td>243</td>\n      <td>258</td>\n      <td>insulin glargine</td>\n      <td>0.508158</td>\n    </tr>\n    <tr>\n      <th>17</th>\n      <td>AFTER</td>\n      <td>OCCURRENCE</td>\n      <td>203</td>\n      <td>212</td>\n      <td>discharged</td>\n      <td>TREATMENT</td>\n      <td>274</td>\n      <td>287</td>\n      <td>insulin lispro</td>\n      <td>0.952934</td>\n    </tr>\n    <tr>\n      <th>18</th>\n      <td>AFTER</td>\n      <td>OCCURRENCE</td>\n      <td>203</td>\n      <td>212</td>\n      <td>discharged</td>\n      <td>TREATMENT</td>\n      <td>294</td>\n      <td>302</td>\n      <td>metformin</td>\n      <td>0.998197</td>\n    </tr>\n    <tr>\n      <th>19</th>\n      <td>OVERLAP</td>\n      <td>OCCURRENCE</td>\n      <td>203</td>\n      <td>212</td>\n      <td>discharged</td>\n      <td>FREQUENCY</td>\n      <td>312</td>\n      <td>326</td>\n      <td>two times a day</td>\n      <td>0.607644</td>\n    </tr>\n    <tr>\n      <th>20</th>\n      <td>OVERLAP</td>\n      <td>DATE</td>\n      <td>217</td>\n      <td>226</td>\n      <td>03/02/2018</td>\n      <td>TREATMENT</td>\n      <td>243</td>\n      <td>258</td>\n      <td>insulin glargine</td>\n      <td>0.954291</td>\n    </tr>\n    <tr>\n      <th>21</th>\n      <td>OVERLAP</td>\n      <td>DATE</td>\n      <td>217</td>\n      <td>226</td>\n      <td>03/02/2018</td>\n      <td>TREATMENT</td>\n      <td>274</td>\n      <td>287</td>\n      <td>insulin lispro</td>\n      <td>0.994294</td>\n    </tr>\n    <tr>\n      <th>22</th>\n      <td>AFTER</td>\n      <td>DATE</td>\n      <td>217</td>\n      <td>226</td>\n      <td>03/02/2018</td>\n      <td>TREATMENT</td>\n      <td>294</td>\n      <td>302</td>\n      <td>metformin</td>\n      <td>0.669087</td>\n    </tr>\n    <tr>\n      <th>23</th>\n      <td>OVERLAP</td>\n      <td>DATE</td>\n      <td>217</td>\n      <td>226</td>\n      <td>03/02/2018</td>\n      <td>FREQUENCY</td>\n      <td>312</td>\n      <td>326</td>\n      <td>two times a day</td>\n      <td>0.994890</td>\n    </tr>\n    <tr>\n      <th>24</th>\n      <td>OVERLAP</td>\n      <td>TREATMENT</td>\n      <td>243</td>\n      <td>258</td>\n      <td>insulin glargine</td>\n      <td>TREATMENT</td>\n      <td>274</td>\n      <td>287</td>\n      <td>insulin lispro</td>\n      <td>1.000000</td>\n    </tr>\n    <tr>\n      <th>25</th>\n      <td>OVERLAP</td>\n      <td>TREATMENT</td>\n      <td>243</td>\n      <td>258</td>\n      <td>insulin glargine</td>\n      <td>TREATMENT</td>\n      <td>294</td>\n      <td>302</td>\n      <td>metformin</td>\n      <td>0.999996</td>\n    </tr>\n    <tr>\n      <th>26</th>\n      <td>OVERLAP</td>\n      <td>TREATMENT</td>\n      <td>243</td>\n      <td>258</td>\n      <td>insulin glargine</td>\n      <td>FREQUENCY</td>\n      <td>312</td>\n      <td>326</td>\n      <td>two times a day</td>\n      <td>0.927772</td>\n    </tr>\n    <tr>\n      <th>27</th>\n      <td>OVERLAP</td>\n      <td>TREATMENT</td>\n      <td>274</td>\n      <td>287</td>\n      <td>insulin lispro</td>\n      <td>TREATMENT</td>\n      <td>294</td>\n      <td>302</td>\n      <td>metformin</td>\n      <td>1.000000</td>\n    </tr>\n    <tr>\n      <th>28</th>\n      <td>OVERLAP</td>\n      <td>TREATMENT</td>\n      <td>274</td>\n      <td>287</td>\n      <td>insulin lispro</td>\n      <td>FREQUENCY</td>\n      <td>312</td>\n      <td>326</td>\n      <td>two times a day</td>\n      <td>1.000000</td>\n    </tr>\n    <tr>\n      <th>29</th>\n      <td>OVERLAP</td>\n      <td>TREATMENT</td>\n      <td>294</td>\n      <td>302</td>\n      <td>metformin</td>\n      <td>FREQUENCY</td>\n      <td>312</td>\n      <td>326</td>\n      <td>two times a day</td>\n      <td>1.000000</td>\n    </tr>\n  </tbody>\n</table>\n</div>",
       "datasetInfos": [],
       "metadata": {},
       "removedWidgets": [],
       "textData": null,
       "type": "htmlSandbox"
      }
     },
     "output_type": "display_data"
    }
   ],
   "source": [
    "annotations = era_pipeline.fullAnnotate(text)\n",
    "\n",
    "rel_df = get_relations_df (annotations, 'clinical_relations')\n",
    "\n",
    "rel_df\n"
   ]
  },
  {
   "cell_type": "code",
   "execution_count": 0,
   "metadata": {
    "application/vnd.databricks.v1+cell": {
     "cellMetadata": {
      "byteLimit": 2048000,
      "rowLimit": 10000
     },
     "inputWidgets": {},
     "nuid": "350e945a-43e6-4213-8310-7b8a39faf3dd",
     "showTitle": false,
     "title": ""
    }
   },
   "outputs": [
    {
     "output_type": "stream",
     "name": "stdout",
     "output_type": "stream",
     "text": [
      "Out[19]: [Annotation(category, 7, 43, AFTER, {'chunk2': 'The John Hopkins Hospital', 'confidence': '0.9621104', 'entity2_end': '43', 'chunk1': 'admitted', 'entity1': 'OCCURRENCE', 'entity2_begin': '19', 'chunk2_confidence': '0.859', 'entity1_begin': '7', 'sentence': '0', 'direction': 'both', 'entity1_end': '14', 'entity2': 'CLINICAL_DEPT', 'chunk1_confidence': '0.9958'}, []),\n Annotation(category, 7, 54, OVERLAP, {'chunk2': '2 days ago', 'confidence': '0.99970835', 'entity2_end': '54', 'chunk1': 'admitted', 'entity1': 'OCCURRENCE', 'entity2_begin': '45', 'chunk2_confidence': '0.80329996', 'entity1_begin': '7', 'sentence': '0', 'direction': 'both', 'entity1_end': '14', 'entity2': 'DATE', 'chunk1_confidence': '0.9958'}, []),\n Annotation(category, 7, 102, BEFORE, {'chunk2': 'gestational diabetes mellitus', 'confidence': '0.99985516', 'entity2_end': '102', 'chunk1': 'admitted', 'entity1': 'OCCURRENCE', 'entity2_begin': '74', 'chunk2_confidence': '0.8622667', 'entity1_begin': '7', 'sentence': '0', 'direction': 'both', 'entity1_end': '14', 'entity2': 'PROBLEM', 'chunk1_confidence': '0.9958'}, []),\n Annotation(category, 19, 54, OVERLAP, {'chunk2': '2 days ago', 'confidence': '0.85771245', 'entity2_end': '54', 'chunk1': 'The John Hopkins Hospital', 'entity1': 'CLINICAL_DEPT', 'entity2_begin': '45', 'chunk2_confidence': '0.80329996', 'entity1_begin': '19', 'sentence': '0', 'direction': 'both', 'entity1_end': '43', 'entity2': 'DATE', 'chunk1_confidence': '0.859'}, []),\n Annotation(category, 19, 102, BEFORE, {'chunk2': 'gestational diabetes mellitus', 'confidence': '0.90553373', 'entity2_end': '102', 'chunk1': 'The John Hopkins Hospital', 'entity1': 'CLINICAL_DEPT', 'entity2_begin': '74', 'chunk2_confidence': '0.8622667', 'entity1_begin': '19', 'sentence': '0', 'direction': 'both', 'entity1_end': '43', 'entity2': 'PROBLEM', 'chunk1_confidence': '0.859'}, []),\n Annotation(category, 45, 102, OVERLAP, {'chunk2': 'gestational diabetes mellitus', 'confidence': '0.91259193', 'entity2_end': '102', 'chunk1': '2 days ago', 'entity1': 'DATE', 'entity2_begin': '74', 'chunk2_confidence': '0.8622667', 'entity1_begin': '45', 'sentence': '0', 'direction': 'both', 'entity1_end': '54', 'entity2': 'PROBLEM', 'chunk1_confidence': '0.80329996'}, []),\n Annotation(category, 119, 129, BEFORE, {'chunk2': 'pain', 'confidence': '0.9999995', 'entity2_end': '129', 'chunk1': 'denied', 'entity1': 'EVIDENTIAL', 'entity2_begin': '126', 'chunk2_confidence': '0.9996', 'entity1_begin': '119', 'sentence': '1', 'direction': 'both', 'entity1_end': '124', 'entity2': 'PROBLEM', 'chunk1_confidence': '0.9585'}, []),\n Annotation(category, 119, 146, BEFORE, {'chunk2': 'any headache', 'confidence': '1.0', 'entity2_end': '146', 'chunk1': 'denied', 'entity1': 'EVIDENTIAL', 'entity2_begin': '135', 'chunk2_confidence': '0.93675', 'entity1_begin': '119', 'sentence': '1', 'direction': 'both', 'entity1_end': '124', 'entity2': 'PROBLEM', 'chunk1_confidence': '0.9585'}, []),\n Annotation(category, 126, 146, OVERLAP, {'chunk2': 'any headache', 'confidence': '1.0', 'entity2_end': '146', 'chunk1': 'pain', 'entity1': 'PROBLEM', 'entity2_begin': '135', 'chunk2_confidence': '0.93675', 'entity1_begin': '126', 'sentence': '1', 'direction': 'both', 'entity1_end': '129', 'entity2': 'PROBLEM', 'chunk1_confidence': '0.9996'}, []),\n Annotation(category, 165, 212, OVERLAP, {'chunk2': 'discharged', 'confidence': '0.58700085', 'entity2_end': '212', 'chunk1': 'the endocrinology service', 'entity1': 'CLINICAL_DEPT', 'entity2_begin': '203', 'chunk2_confidence': '0.9679', 'entity1_begin': '165', 'sentence': '2', 'direction': 'both', 'entity1_end': '189', 'entity2': 'OCCURRENCE', 'chunk1_confidence': '0.58563334'}, []),\n Annotation(category, 165, 226, OVERLAP, {'chunk2': '03/02/2018', 'confidence': '0.9937257', 'entity2_end': '226', 'chunk1': 'the endocrinology service', 'entity1': 'CLINICAL_DEPT', 'entity2_begin': '217', 'chunk2_confidence': '0.9979', 'entity1_begin': '165', 'sentence': '2', 'direction': 'both', 'entity1_end': '189', 'entity2': 'DATE', 'chunk1_confidence': '0.58563334'}, []),\n Annotation(category, 165, 258, OVERLAP, {'chunk2': 'insulin glargine', 'confidence': '0.81412697', 'entity2_end': '258', 'chunk1': 'the endocrinology service', 'entity1': 'CLINICAL_DEPT', 'entity2_begin': '243', 'chunk2_confidence': '0.80145', 'entity1_begin': '165', 'sentence': '2', 'direction': 'both', 'entity1_end': '189', 'entity2': 'TREATMENT', 'chunk1_confidence': '0.58563334'}, []),\n Annotation(category, 165, 287, OVERLAP, {'chunk2': 'insulin lispro', 'confidence': '0.9990965', 'entity2_end': '287', 'chunk1': 'the endocrinology service', 'entity1': 'CLINICAL_DEPT', 'entity2_begin': '274', 'chunk2_confidence': '0.9448', 'entity1_begin': '165', 'sentence': '2', 'direction': 'both', 'entity1_end': '189', 'entity2': 'TREATMENT', 'chunk1_confidence': '0.58563334'}, []),\n Annotation(category, 165, 302, OVERLAP, {'chunk2': 'metformin', 'confidence': '0.99870074', 'entity2_end': '302', 'chunk1': 'the endocrinology service', 'entity1': 'CLINICAL_DEPT', 'entity2_begin': '294', 'chunk2_confidence': '0.9993', 'entity1_begin': '165', 'sentence': '2', 'direction': 'both', 'entity1_end': '189', 'entity2': 'TREATMENT', 'chunk1_confidence': '0.58563334'}, []),\n Annotation(category, 165, 326, OVERLAP, {'chunk2': 'two times a day', 'confidence': '0.993038', 'entity2_end': '326', 'chunk1': 'the endocrinology service', 'entity1': 'CLINICAL_DEPT', 'entity2_begin': '312', 'chunk2_confidence': '0.9330751', 'entity1_begin': '165', 'sentence': '2', 'direction': 'both', 'entity1_end': '189', 'entity2': 'FREQUENCY', 'chunk1_confidence': '0.58563334'}, []),\n Annotation(category, 203, 226, OVERLAP, {'chunk2': '03/02/2018', 'confidence': '1.0', 'entity2_end': '226', 'chunk1': 'discharged', 'entity1': 'OCCURRENCE', 'entity2_begin': '217', 'chunk2_confidence': '0.9979', 'entity1_begin': '203', 'sentence': '2', 'direction': 'both', 'entity1_end': '212', 'entity2': 'DATE', 'chunk1_confidence': '0.9679'}, []),\n Annotation(category, 203, 258, BEFORE, {'chunk2': 'insulin glargine', 'confidence': '0.50815845', 'entity2_end': '258', 'chunk1': 'discharged', 'entity1': 'OCCURRENCE', 'entity2_begin': '243', 'chunk2_confidence': '0.80145', 'entity1_begin': '203', 'sentence': '2', 'direction': 'both', 'entity1_end': '212', 'entity2': 'TREATMENT', 'chunk1_confidence': '0.9679'}, []),\n Annotation(category, 203, 287, AFTER, {'chunk2': 'insulin lispro', 'confidence': '0.9529337', 'entity2_end': '287', 'chunk1': 'discharged', 'entity1': 'OCCURRENCE', 'entity2_begin': '274', 'chunk2_confidence': '0.9448', 'entity1_begin': '203', 'sentence': '2', 'direction': 'both', 'entity1_end': '212', 'entity2': 'TREATMENT', 'chunk1_confidence': '0.9679'}, []),\n Annotation(category, 203, 302, AFTER, {'chunk2': 'metformin', 'confidence': '0.99819666', 'entity2_end': '302', 'chunk1': 'discharged', 'entity1': 'OCCURRENCE', 'entity2_begin': '294', 'chunk2_confidence': '0.9993', 'entity1_begin': '203', 'sentence': '2', 'direction': 'both', 'entity1_end': '212', 'entity2': 'TREATMENT', 'chunk1_confidence': '0.9679'}, []),\n Annotation(category, 203, 326, OVERLAP, {'chunk2': 'two times a day', 'confidence': '0.6076438', 'entity2_end': '326', 'chunk1': 'discharged', 'entity1': 'OCCURRENCE', 'entity2_begin': '312', 'chunk2_confidence': '0.9330751', 'entity1_begin': '203', 'sentence': '2', 'direction': 'both', 'entity1_end': '212', 'entity2': 'FREQUENCY', 'chunk1_confidence': '0.9679'}, []),\n Annotation(category, 217, 258, OVERLAP, {'chunk2': 'insulin glargine', 'confidence': '0.9542913', 'entity2_end': '258', 'chunk1': '03/02/2018', 'entity1': 'DATE', 'entity2_begin': '243', 'chunk2_confidence': '0.80145', 'entity1_begin': '217', 'sentence': '2', 'direction': 'both', 'entity1_end': '226', 'entity2': 'TREATMENT', 'chunk1_confidence': '0.9979'}, []),\n Annotation(category, 217, 287, OVERLAP, {'chunk2': 'insulin lispro', 'confidence': '0.99429446', 'entity2_end': '287', 'chunk1': '03/02/2018', 'entity1': 'DATE', 'entity2_begin': '274', 'chunk2_confidence': '0.9448', 'entity1_begin': '217', 'sentence': '2', 'direction': 'both', 'entity1_end': '226', 'entity2': 'TREATMENT', 'chunk1_confidence': '0.9979'}, []),\n Annotation(category, 217, 302, AFTER, {'chunk2': 'metformin', 'confidence': '0.66908693', 'entity2_end': '302', 'chunk1': '03/02/2018', 'entity1': 'DATE', 'entity2_begin': '294', 'chunk2_confidence': '0.9993', 'entity1_begin': '217', 'sentence': '2', 'direction': 'both', 'entity1_end': '226', 'entity2': 'TREATMENT', 'chunk1_confidence': '0.9979'}, []),\n Annotation(category, 217, 326, OVERLAP, {'chunk2': 'two times a day', 'confidence': '0.99489', 'entity2_end': '326', 'chunk1': '03/02/2018', 'entity1': 'DATE', 'entity2_begin': '312', 'chunk2_confidence': '0.9330751', 'entity1_begin': '217', 'sentence': '2', 'direction': 'both', 'entity1_end': '226', 'entity2': 'FREQUENCY', 'chunk1_confidence': '0.9979'}, []),\n Annotation(category, 243, 287, OVERLAP, {'chunk2': 'insulin lispro', 'confidence': '1.0', 'entity2_end': '287', 'chunk1': 'insulin glargine', 'entity1': 'TREATMENT', 'entity2_begin': '274', 'chunk2_confidence': '0.9448', 'entity1_begin': '243', 'sentence': '2', 'direction': 'both', 'entity1_end': '258', 'entity2': 'TREATMENT', 'chunk1_confidence': '0.80145'}, []),\n Annotation(category, 243, 302, OVERLAP, {'chunk2': 'metformin', 'confidence': '0.9999963', 'entity2_end': '302', 'chunk1': 'insulin glargine', 'entity1': 'TREATMENT', 'entity2_begin': '294', 'chunk2_confidence': '0.9993', 'entity1_begin': '243', 'sentence': '2', 'direction': 'both', 'entity1_end': '258', 'entity2': 'TREATMENT', 'chunk1_confidence': '0.80145'}, []),\n Annotation(category, 243, 326, OVERLAP, {'chunk2': 'two times a day', 'confidence': '0.92777205', 'entity2_end': '326', 'chunk1': 'insulin glargine', 'entity1': 'TREATMENT', 'entity2_begin': '312', 'chunk2_confidence': '0.9330751', 'entity1_begin': '243', 'sentence': '2', 'direction': 'both', 'entity1_end': '258', 'entity2': 'FREQUENCY', 'chunk1_confidence': '0.80145'}, []),\n Annotation(category, 274, 302, OVERLAP, {'chunk2': 'metformin', 'confidence': '1.0', 'entity2_end': '302', 'chunk1': 'insulin lispro', 'entity1': 'TREATMENT', 'entity2_begin': '294', 'chunk2_confidence': '0.9993', 'entity1_begin': '274', 'sentence': '2', 'direction': 'both', 'entity1_end': '287', 'entity2': 'TREATMENT', 'chunk1_confidence': '0.9448'}, []),\n Annotation(category, 274, 326, OVERLAP, {'chunk2': 'two times a day', 'confidence': '1.0', 'entity2_end': '326', 'chunk1': 'insulin lispro', 'entity1': 'TREATMENT', 'entity2_begin': '312', 'chunk2_confidence': '0.9330751', 'entity1_begin': '274', 'sentence': '2', 'direction': 'both', 'entity1_end': '287', 'entity2': 'FREQUENCY', 'chunk1_confidence': '0.9448'}, []),\n Annotation(category, 294, 326, OVERLAP, {'chunk2': 'two times a day', 'confidence': '1.0', 'entity2_end': '326', 'chunk1': 'metformin', 'entity1': 'TREATMENT', 'entity2_begin': '312', 'chunk2_confidence': '0.9330751', 'entity1_begin': '294', 'sentence': '2', 'direction': 'both', 'entity1_end': '302', 'entity2': 'FREQUENCY', 'chunk1_confidence': '0.9993'}, [])]"
     ]
    }
   ],
   "source": [
    "annotations[0]['clinical_relations']"
   ]
  },
  {
   "cell_type": "markdown",
   "metadata": {
    "application/vnd.databricks.v1+cell": {
     "cellMetadata": {
      "byteLimit": 2048000,
      "rowLimit": 10000
     },
     "inputWidgets": {},
     "nuid": "3cef598c-19bd-4104-ac9e-7c156efeaa25",
     "showTitle": false,
     "title": ""
    }
   },
   "source": [
    "## 3.explain_clinical_doc_ade \n",
    "\n",
    "A pipeline for `Adverse Drug Events (ADE)` with `ner_ade_healthcare`, and `classifierdl_ade_biobert`. It will extract `ADE` and `DRUG` clinical entities, and then assign ADE status to a text(`True` means ADE, `False` means not related to ADE). Also extracts relations between `DRUG` and `ADE` entities (`1` means the adverse event and drug entities are related, `0` is not related)."
   ]
  },
  {
   "cell_type": "code",
   "execution_count": 0,
   "metadata": {
    "application/vnd.databricks.v1+cell": {
     "cellMetadata": {
      "byteLimit": 2048000,
      "rowLimit": 10000
     },
     "inputWidgets": {},
     "nuid": "4c924f87-68ee-4a62-83e9-ab57cadb4cc0",
     "showTitle": false,
     "title": ""
    }
   },
   "outputs": [
    {
     "output_type": "stream",
     "name": "stdout",
     "output_type": "stream",
     "text": [
      "explain_clinical_doc_ade download started this may take some time.\nApprox size to download 462.6 MB\n\r[ | ]\r[ / ]\r[ — ]\r[ \\ ]\r[ | ]\r[ / ]\r[ — ]\r[ \\ ]\r[ | ]\r[ / ]\r[ — ]\r[ \\ ]\r[ | ]\r[ / ]\r[ — ]\r[ \\ ]\r[ | ]\r[ / ]\r[ — ]\r[ \\ ]\r[ | ]\r[ / ]\r[ — ]\r[ \\ ]\r[ | ]\r[OK!]\n"
     ]
    }
   ],
   "source": [
    "ade_pipeline = nlp.PretrainedPipeline('explain_clinical_doc_ade', 'en', 'clinical/models')"
   ]
  },
  {
   "cell_type": "code",
   "execution_count": 0,
   "metadata": {
    "application/vnd.databricks.v1+cell": {
     "cellMetadata": {
      "byteLimit": 2048000,
      "rowLimit": 10000
     },
     "inputWidgets": {},
     "nuid": "3895d77e-563b-46cc-9f9e-64e707d9ab0e",
     "showTitle": false,
     "title": ""
    }
   },
   "outputs": [],
   "source": [
    "result = ade_pipeline.fullAnnotate(\"Been taking Lipitor for 15 years , have experienced severe fatigue a lot!!! . Doctor moved me to voltaren 2 months ago , so far , have only experienced cramps\")"
   ]
  },
  {
   "cell_type": "code",
   "execution_count": 0,
   "metadata": {
    "application/vnd.databricks.v1+cell": {
     "cellMetadata": {
      "byteLimit": 2048000,
      "rowLimit": 10000
     },
     "inputWidgets": {},
     "nuid": "f81b957a-5c36-4e55-9442-83d54a308871",
     "showTitle": false,
     "title": ""
    }
   },
   "outputs": [
    {
     "output_type": "stream",
     "name": "stdout",
     "output_type": "stream",
     "text": [
      "Out[22]: dict_keys(['bert_sentence_embeddings', 'bert_embeddings', 'document', 'ner_chunks_ade_assertion', 'ner_tags_ade', 'relations_ade_drug', 'ner_chunks_ade', 'assertion_ade', 'tokens', 'class', 'pos_tags', 'dependencies'])"
     ]
    }
   ],
   "source": [
    "result[0].keys()"
   ]
  },
  {
   "cell_type": "code",
   "execution_count": 0,
   "metadata": {
    "application/vnd.databricks.v1+cell": {
     "cellMetadata": {
      "byteLimit": 2048000,
      "rowLimit": 10000
     },
     "inputWidgets": {},
     "nuid": "f1711a23-25d6-46c2-ba2b-8988bcc8ee0f",
     "showTitle": false,
     "title": ""
    }
   },
   "outputs": [
    {
     "output_type": "stream",
     "name": "stdout",
     "output_type": "stream",
     "text": [
      "Out[23]: {'sentence': '0', 'False': '0.0031648325', 'True': '0.9968352'}"
     ]
    }
   ],
   "source": [
    "result[0]['class'][0].metadata"
   ]
  },
  {
   "cell_type": "code",
   "execution_count": 0,
   "metadata": {
    "application/vnd.databricks.v1+cell": {
     "cellMetadata": {
      "byteLimit": 2048000,
      "rowLimit": 10000
     },
     "inputWidgets": {},
     "nuid": "720f6aa9-5731-4313-90ff-24f43b9be7be",
     "showTitle": false,
     "title": ""
    }
   },
   "outputs": [
    {
     "output_type": "stream",
     "name": "stdout",
     "output_type": "stream",
     "text": [
      "sentence: Been taking Lipitor for 15 years , have experienced severe fatigue a lot!!! . Doctor moved me to voltaren 2 months ago , so far , have only experienced cramps\n\nADE status: True\nprediction probability>> True :  0.9968352 False:  0.0031648325\n"
     ]
    },
    {
     "output_type": "display_data",
     "data": {
      "text/html": [
       "<div>\n",
       "<style scoped>\n",
       "    .dataframe tbody tr th:only-of-type {\n",
       "        vertical-align: middle;\n",
       "    }\n",
       "\n",
       "    .dataframe tbody tr th {\n",
       "        vertical-align: top;\n",
       "    }\n",
       "\n",
       "    .dataframe thead th {\n",
       "        text-align: right;\n",
       "    }\n",
       "</style>\n",
       "<table border=\"1\" class=\"dataframe\">\n",
       "  <thead>\n",
       "    <tr style=\"text-align: right;\">\n",
       "      <th></th>\n",
       "      <th>chunks</th>\n",
       "      <th>entities</th>\n",
       "      <th>begin</th>\n",
       "      <th>end</th>\n",
       "    </tr>\n",
       "  </thead>\n",
       "  <tbody>\n",
       "    <tr>\n",
       "      <th>0</th>\n",
       "      <td>Lipitor</td>\n",
       "      <td>DRUG</td>\n",
       "      <td>12</td>\n",
       "      <td>18</td>\n",
       "    </tr>\n",
       "    <tr>\n",
       "      <th>1</th>\n",
       "      <td>severe fatigue</td>\n",
       "      <td>ADE</td>\n",
       "      <td>52</td>\n",
       "      <td>65</td>\n",
       "    </tr>\n",
       "    <tr>\n",
       "      <th>2</th>\n",
       "      <td>voltaren</td>\n",
       "      <td>DRUG</td>\n",
       "      <td>97</td>\n",
       "      <td>104</td>\n",
       "    </tr>\n",
       "    <tr>\n",
       "      <th>3</th>\n",
       "      <td>cramps</td>\n",
       "      <td>ADE</td>\n",
       "      <td>152</td>\n",
       "      <td>157</td>\n",
       "    </tr>\n",
       "  </tbody>\n",
       "</table>\n",
       "</div>"
      ]
     },
     "metadata": {
      "application/vnd.databricks.v1+output": {
       "addedWidgets": {},
       "arguments": {},
       "data": "<div>\n<style scoped>\n    .dataframe tbody tr th:only-of-type {\n        vertical-align: middle;\n    }\n\n    .dataframe tbody tr th {\n        vertical-align: top;\n    }\n\n    .dataframe thead th {\n        text-align: right;\n    }\n</style>\n<table border=\"1\" class=\"dataframe\">\n  <thead>\n    <tr style=\"text-align: right;\">\n      <th></th>\n      <th>chunks</th>\n      <th>entities</th>\n      <th>begin</th>\n      <th>end</th>\n    </tr>\n  </thead>\n  <tbody>\n    <tr>\n      <th>0</th>\n      <td>Lipitor</td>\n      <td>DRUG</td>\n      <td>12</td>\n      <td>18</td>\n    </tr>\n    <tr>\n      <th>1</th>\n      <td>severe fatigue</td>\n      <td>ADE</td>\n      <td>52</td>\n      <td>65</td>\n    </tr>\n    <tr>\n      <th>2</th>\n      <td>voltaren</td>\n      <td>DRUG</td>\n      <td>97</td>\n      <td>104</td>\n    </tr>\n    <tr>\n      <th>3</th>\n      <td>cramps</td>\n      <td>ADE</td>\n      <td>152</td>\n      <td>157</td>\n    </tr>\n  </tbody>\n</table>\n</div>",
       "datasetInfos": [],
       "metadata": {},
       "removedWidgets": [],
       "textData": null,
       "type": "htmlSandbox"
      }
     },
     "output_type": "display_data"
    }
   ],
   "source": [
    "text = \"Been taking Lipitor for 15 years , have experienced severe fatigue a lot!!! . Doctor moved me to voltaren 2 months ago , so far , have only experienced cramps\"\n",
    "\n",
    "import pandas as pd\n",
    "\n",
    "chunks = []\n",
    "entities = []\n",
    "begin =[]\n",
    "end = []\n",
    "\n",
    "print ('sentence:', text)\n",
    "print()\n",
    "\n",
    "result = ade_pipeline.fullAnnotate(text)\n",
    "\n",
    "print ('ADE status:', result[0]['class'][0].result)\n",
    "\n",
    "print ('prediction probability>> True : ', result[0]['class'][0].metadata['True'], \\\n",
    "        'False: ', result[0]['class'][0].metadata['False'])\n",
    "\n",
    "for n in result[0]['ner_chunks_ade']:\n",
    "\n",
    "    begin.append(n.begin)\n",
    "    end.append(n.end)\n",
    "    chunks.append(n.result)\n",
    "    entities.append(n.metadata['entity']) \n",
    "\n",
    "df = pd.DataFrame({'chunks':chunks, 'entities':entities,\n",
    "                'begin': begin, 'end': end})\n",
    "\n",
    "df\n"
   ]
  },
  {
   "cell_type": "markdown",
   "metadata": {
    "application/vnd.databricks.v1+cell": {
     "cellMetadata": {
      "byteLimit": 2048000,
      "rowLimit": 10000
     },
     "inputWidgets": {},
     "nuid": "8e2bc0c4-7a56-4b43-a13e-878196853e17",
     "showTitle": false,
     "title": ""
    }
   },
   "source": [
    "#### with AssertionDL"
   ]
  },
  {
   "cell_type": "code",
   "execution_count": 0,
   "metadata": {
    "application/vnd.databricks.v1+cell": {
     "cellMetadata": {
      "byteLimit": 2048000,
      "rowLimit": 10000
     },
     "inputWidgets": {},
     "nuid": "725f748d-a2cb-4ad3-b62c-aa5d42541d12",
     "showTitle": false,
     "title": ""
    }
   },
   "outputs": [
    {
     "output_type": "stream",
     "name": "stdout",
     "output_type": "stream",
     "text": [
      "Been taking Lipitor for 15 years , have experienced severe fatigue a lot!!! . \nDoctor moved me to voltaren 2 months ago , so far , have only experienced cramps\n"
     ]
    },
    {
     "output_type": "display_data",
     "data": {
      "text/html": [
       "<div>\n",
       "<style scoped>\n",
       "    .dataframe tbody tr th:only-of-type {\n",
       "        vertical-align: middle;\n",
       "    }\n",
       "\n",
       "    .dataframe tbody tr th {\n",
       "        vertical-align: top;\n",
       "    }\n",
       "\n",
       "    .dataframe thead th {\n",
       "        text-align: right;\n",
       "    }\n",
       "</style>\n",
       "<table border=\"1\" class=\"dataframe\">\n",
       "  <thead>\n",
       "    <tr style=\"text-align: right;\">\n",
       "      <th></th>\n",
       "      <th>chunks</th>\n",
       "      <th>entities</th>\n",
       "      <th>assertion</th>\n",
       "    </tr>\n",
       "  </thead>\n",
       "  <tbody>\n",
       "    <tr>\n",
       "      <th>0</th>\n",
       "      <td>severe fatigue</td>\n",
       "      <td>ADE</td>\n",
       "      <td>conditional</td>\n",
       "    </tr>\n",
       "    <tr>\n",
       "      <th>1</th>\n",
       "      <td>cramps</td>\n",
       "      <td>ADE</td>\n",
       "      <td>present</td>\n",
       "    </tr>\n",
       "  </tbody>\n",
       "</table>\n",
       "</div>"
      ]
     },
     "metadata": {
      "application/vnd.databricks.v1+output": {
       "addedWidgets": {},
       "arguments": {},
       "data": "<div>\n<style scoped>\n    .dataframe tbody tr th:only-of-type {\n        vertical-align: middle;\n    }\n\n    .dataframe tbody tr th {\n        vertical-align: top;\n    }\n\n    .dataframe thead th {\n        text-align: right;\n    }\n</style>\n<table border=\"1\" class=\"dataframe\">\n  <thead>\n    <tr style=\"text-align: right;\">\n      <th></th>\n      <th>chunks</th>\n      <th>entities</th>\n      <th>assertion</th>\n    </tr>\n  </thead>\n  <tbody>\n    <tr>\n      <th>0</th>\n      <td>severe fatigue</td>\n      <td>ADE</td>\n      <td>conditional</td>\n    </tr>\n    <tr>\n      <th>1</th>\n      <td>cramps</td>\n      <td>ADE</td>\n      <td>present</td>\n    </tr>\n  </tbody>\n</table>\n</div>",
       "datasetInfos": [],
       "metadata": {},
       "removedWidgets": [],
       "textData": null,
       "type": "htmlSandbox"
      }
     },
     "output_type": "display_data"
    }
   ],
   "source": [
    "text = \"\"\"Been taking Lipitor for 15 years , have experienced severe fatigue a lot!!! . \n",
    "Doctor moved me to voltaren 2 months ago , so far , have only experienced cramps\"\"\"\n",
    "\n",
    "print (text)\n",
    "\n",
    "light_result = ade_pipeline.fullAnnotate(text)[0]\n",
    "\n",
    "chunks=[]\n",
    "entities=[]\n",
    "status=[]\n",
    "\n",
    "for n,m in zip(light_result['ner_chunks_ade_assertion'],light_result['assertion_ade']):\n",
    "    \n",
    "    chunks.append(n.result)\n",
    "    entities.append(n.metadata['entity']) \n",
    "    status.append(m.result)\n",
    "        \n",
    "df = pd.DataFrame({'chunks':chunks, 'entities':entities, 'assertion':status})\n",
    "\n",
    "df"
   ]
  },
  {
   "cell_type": "markdown",
   "metadata": {
    "application/vnd.databricks.v1+cell": {
     "cellMetadata": {
      "byteLimit": 2048000,
      "rowLimit": 10000
     },
     "inputWidgets": {},
     "nuid": "11ccdd1f-da8c-4eea-a4e1-a75208b51081",
     "showTitle": false,
     "title": ""
    }
   },
   "source": [
    "#### with Relation Extraction"
   ]
  },
  {
   "cell_type": "code",
   "execution_count": 0,
   "metadata": {
    "application/vnd.databricks.v1+cell": {
     "cellMetadata": {
      "byteLimit": 2048000,
      "rowLimit": 10000
     },
     "inputWidgets": {},
     "nuid": "f6a0edd6-4129-474e-9ec2-9ef568194874",
     "showTitle": false,
     "title": ""
    }
   },
   "outputs": [
    {
     "output_type": "stream",
     "name": "stdout",
     "output_type": "stream",
     "text": [
      "Been taking Lipitor for 15 years , have experienced severe fatigue a lot!!! . \nDoctor moved me to voltaren 2 months ago , so far , have only experienced cramps\n\n"
     ]
    },
    {
     "output_type": "display_data",
     "data": {
      "text/html": [
       "<div>\n",
       "<style scoped>\n",
       "    .dataframe tbody tr th:only-of-type {\n",
       "        vertical-align: middle;\n",
       "    }\n",
       "\n",
       "    .dataframe tbody tr th {\n",
       "        vertical-align: top;\n",
       "    }\n",
       "\n",
       "    .dataframe thead th {\n",
       "        text-align: right;\n",
       "    }\n",
       "</style>\n",
       "<table border=\"1\" class=\"dataframe\">\n",
       "  <thead>\n",
       "    <tr style=\"text-align: right;\">\n",
       "      <th></th>\n",
       "      <th>relation</th>\n",
       "      <th>entity1</th>\n",
       "      <th>entity1_begin</th>\n",
       "      <th>entity1_end</th>\n",
       "      <th>chunk1</th>\n",
       "      <th>entity2</th>\n",
       "      <th>entity2_begin</th>\n",
       "      <th>entity2_end</th>\n",
       "      <th>chunk2</th>\n",
       "      <th>confidence</th>\n",
       "    </tr>\n",
       "  </thead>\n",
       "  <tbody>\n",
       "    <tr>\n",
       "      <th>0</th>\n",
       "      <td>1</td>\n",
       "      <td>DRUG</td>\n",
       "      <td>12</td>\n",
       "      <td>18</td>\n",
       "      <td>Lipitor</td>\n",
       "      <td>ADE</td>\n",
       "      <td>52</td>\n",
       "      <td>65</td>\n",
       "      <td>severe fatigue</td>\n",
       "      <td>1.0</td>\n",
       "    </tr>\n",
       "    <tr>\n",
       "      <th>1</th>\n",
       "      <td>1</td>\n",
       "      <td>DRUG</td>\n",
       "      <td>12</td>\n",
       "      <td>18</td>\n",
       "      <td>Lipitor</td>\n",
       "      <td>ADE</td>\n",
       "      <td>153</td>\n",
       "      <td>158</td>\n",
       "      <td>cramps</td>\n",
       "      <td>1.0</td>\n",
       "    </tr>\n",
       "    <tr>\n",
       "      <th>2</th>\n",
       "      <td>1</td>\n",
       "      <td>ADE</td>\n",
       "      <td>52</td>\n",
       "      <td>65</td>\n",
       "      <td>severe fatigue</td>\n",
       "      <td>DRUG</td>\n",
       "      <td>98</td>\n",
       "      <td>105</td>\n",
       "      <td>voltaren</td>\n",
       "      <td>0.55157506</td>\n",
       "    </tr>\n",
       "    <tr>\n",
       "      <th>3</th>\n",
       "      <td>1</td>\n",
       "      <td>DRUG</td>\n",
       "      <td>98</td>\n",
       "      <td>105</td>\n",
       "      <td>voltaren</td>\n",
       "      <td>ADE</td>\n",
       "      <td>153</td>\n",
       "      <td>158</td>\n",
       "      <td>cramps</td>\n",
       "      <td>0.99999857</td>\n",
       "    </tr>\n",
       "  </tbody>\n",
       "</table>\n",
       "</div>"
      ]
     },
     "metadata": {
      "application/vnd.databricks.v1+output": {
       "addedWidgets": {},
       "arguments": {},
       "data": "<div>\n<style scoped>\n    .dataframe tbody tr th:only-of-type {\n        vertical-align: middle;\n    }\n\n    .dataframe tbody tr th {\n        vertical-align: top;\n    }\n\n    .dataframe thead th {\n        text-align: right;\n    }\n</style>\n<table border=\"1\" class=\"dataframe\">\n  <thead>\n    <tr style=\"text-align: right;\">\n      <th></th>\n      <th>relation</th>\n      <th>entity1</th>\n      <th>entity1_begin</th>\n      <th>entity1_end</th>\n      <th>chunk1</th>\n      <th>entity2</th>\n      <th>entity2_begin</th>\n      <th>entity2_end</th>\n      <th>chunk2</th>\n      <th>confidence</th>\n    </tr>\n  </thead>\n  <tbody>\n    <tr>\n      <th>0</th>\n      <td>1</td>\n      <td>DRUG</td>\n      <td>12</td>\n      <td>18</td>\n      <td>Lipitor</td>\n      <td>ADE</td>\n      <td>52</td>\n      <td>65</td>\n      <td>severe fatigue</td>\n      <td>1.0</td>\n    </tr>\n    <tr>\n      <th>1</th>\n      <td>1</td>\n      <td>DRUG</td>\n      <td>12</td>\n      <td>18</td>\n      <td>Lipitor</td>\n      <td>ADE</td>\n      <td>153</td>\n      <td>158</td>\n      <td>cramps</td>\n      <td>1.0</td>\n    </tr>\n    <tr>\n      <th>2</th>\n      <td>1</td>\n      <td>ADE</td>\n      <td>52</td>\n      <td>65</td>\n      <td>severe fatigue</td>\n      <td>DRUG</td>\n      <td>98</td>\n      <td>105</td>\n      <td>voltaren</td>\n      <td>0.55157506</td>\n    </tr>\n    <tr>\n      <th>3</th>\n      <td>1</td>\n      <td>DRUG</td>\n      <td>98</td>\n      <td>105</td>\n      <td>voltaren</td>\n      <td>ADE</td>\n      <td>153</td>\n      <td>158</td>\n      <td>cramps</td>\n      <td>0.99999857</td>\n    </tr>\n  </tbody>\n</table>\n</div>",
       "datasetInfos": [],
       "metadata": {},
       "removedWidgets": [],
       "textData": null,
       "type": "htmlSandbox"
      }
     },
     "output_type": "display_data"
    }
   ],
   "source": [
    "text = \"\"\"Been taking Lipitor for 15 years , have experienced severe fatigue a lot!!! . \n",
    "Doctor moved me to voltaren 2 months ago , so far , have only experienced cramps\n",
    "\"\"\"\n",
    " \n",
    "print (text)\n",
    "\n",
    "results = ade_pipeline.fullAnnotate(text)\n",
    "\n",
    "rel_pairs=[]\n",
    "\n",
    "for rel in results[0][\"relations_ade_drug\"]:\n",
    "    rel_pairs.append((\n",
    "        rel.result, \n",
    "        rel.metadata['entity1'], \n",
    "        rel.metadata['entity1_begin'],\n",
    "        rel.metadata['entity1_end'],\n",
    "        rel.metadata['chunk1'], \n",
    "        rel.metadata['entity2'],\n",
    "        rel.metadata['entity2_begin'],\n",
    "        rel.metadata['entity2_end'],\n",
    "        rel.metadata['chunk2'], \n",
    "        rel.metadata['confidence']\n",
    "    ))\n",
    "\n",
    "rel_df = pd.DataFrame(rel_pairs, columns=['relation','entity1','entity1_begin','entity1_end','chunk1','entity2','entity2_begin','entity2_end','chunk2', 'confidence'])\n",
    "rel_df"
   ]
  },
  {
   "cell_type": "markdown",
   "metadata": {
    "application/vnd.databricks.v1+cell": {
     "cellMetadata": {
      "byteLimit": 2048000,
      "rowLimit": 10000
     },
     "inputWidgets": {},
     "nuid": "6c718859-fa48-4443-8a1d-fb1c1f3c84d0",
     "showTitle": false,
     "title": ""
    }
   },
   "source": [
    "## 4.exlain_clinical_doc_medication\n",
    "\n",
    "> A pipeline for detecting posology entities with the `ner_posology_large` NER model, assigning their assertion status with `assertion_jsl` model, and extracting relations between posology-related terminology with `posology_re` relation extraction model."
   ]
  },
  {
   "cell_type": "code",
   "execution_count": 0,
   "metadata": {
    "application/vnd.databricks.v1+cell": {
     "cellMetadata": {
      "byteLimit": 2048000,
      "rowLimit": 10000
     },
     "inputWidgets": {},
     "nuid": "573c2523-8afb-4324-81ee-16fa5df56e75",
     "showTitle": false,
     "title": ""
    }
   },
   "outputs": [
    {
     "output_type": "stream",
     "name": "stdout",
     "output_type": "stream",
     "text": [
      "explain_clinical_doc_medication download started this may take some time.\nApprox size to download 1.6 GB\n\r[ | ]\r[ / ]\r[ — ]\r[ \\ ]\r[ | ]\r[ / ]\r[ — ]\r[ \\ ]\r[ | ]\r[ / ]\r[ — ]\r[ \\ ]\r[ | ]\r[ / ]\r[OK!]\n"
     ]
    }
   ],
   "source": [
    "medication_pipeline = nlp.PretrainedPipeline('explain_clinical_doc_medication', 'en', 'clinical/models')"
   ]
  },
  {
   "cell_type": "code",
   "execution_count": 0,
   "metadata": {
    "application/vnd.databricks.v1+cell": {
     "cellMetadata": {
      "byteLimit": 2048000,
      "rowLimit": 10000
     },
     "inputWidgets": {},
     "nuid": "fc4a697d-1f70-477e-bc65-456af01be543",
     "showTitle": false,
     "title": ""
    }
   },
   "outputs": [
    {
     "output_type": "stream",
     "name": "stdout",
     "output_type": "stream",
     "text": [
      "Out[28]: [DocumentAssembler_5b6b25ae3a32,\n SentenceDetectorDLModel_6bafc4746ea5,\n REGEX_TOKENIZER_0e175752e8cf,\n WORD_EMBEDDINGS_MODEL_9004b1d00302,\n MedicalNerModel_5e6f59103f25,\n NER_CONVERTER_c6fab90a28d5,\n NER_CONVERTER_3b6a5b14db49,\n ASSERTION_DL_e5e007602386,\n POS_6f55785005bf,\n dependency_e7755462ba78,\n PosologyREModel_d7fe3a9e8310]"
     ]
    }
   ],
   "source": [
    "medication_pipeline.model.stages"
   ]
  },
  {
   "cell_type": "code",
   "execution_count": 0,
   "metadata": {
    "application/vnd.databricks.v1+cell": {
     "cellMetadata": {
      "byteLimit": 2048000,
      "rowLimit": 10000
     },
     "inputWidgets": {},
     "nuid": "45885bbf-a7af-43ed-b7ab-e6bf3a293a9c",
     "showTitle": false,
     "title": ""
    }
   },
   "outputs": [],
   "source": [
    "text = \"\"\"The patient is a 30-year-old female with a long history of insulin dependent diabetes, type 2. She received a course of Bactrim for 14 days for UTI.  \n",
    "She was prescribed 5000 units of Fragmin  subcutaneously daily, and along with Lantus 40 units subcutaneously at bedtime.\"\"\"\n",
    "\n",
    "result = medication_pipeline.fullAnnotate(text)[0]"
   ]
  },
  {
   "cell_type": "code",
   "execution_count": 0,
   "metadata": {
    "application/vnd.databricks.v1+cell": {
     "cellMetadata": {
      "byteLimit": 2048000,
      "rowLimit": 10000
     },
     "inputWidgets": {},
     "nuid": "9ec25134-c535-4941-9b3b-bb58028845da",
     "showTitle": false,
     "title": ""
    }
   },
   "outputs": [
    {
     "output_type": "stream",
     "name": "stdout",
     "output_type": "stream",
     "text": [
      "Out[30]: dict_keys(['assertion_ner_chunk', 'document', 'assertion', 'ner_posology_chunk', 'token', 'relations', 'embeddings_clinical', 'pos_tags', 'dependencies', 'ner_posology', 'sentence'])"
     ]
    }
   ],
   "source": [
    "result.keys()"
   ]
  },
  {
   "cell_type": "code",
   "execution_count": 0,
   "metadata": {
    "application/vnd.databricks.v1+cell": {
     "cellMetadata": {
      "byteLimit": 2048000,
      "rowLimit": 10000
     },
     "inputWidgets": {},
     "nuid": "c3990979-9fdb-4e1f-a836-7fb93b7ddee4",
     "showTitle": false,
     "title": ""
    }
   },
   "outputs": [
    {
     "output_type": "display_data",
     "data": {
      "text/html": [
       "<div>\n",
       "<style scoped>\n",
       "    .dataframe tbody tr th:only-of-type {\n",
       "        vertical-align: middle;\n",
       "    }\n",
       "\n",
       "    .dataframe tbody tr th {\n",
       "        vertical-align: top;\n",
       "    }\n",
       "\n",
       "    .dataframe thead th {\n",
       "        text-align: right;\n",
       "    }\n",
       "</style>\n",
       "<table border=\"1\" class=\"dataframe\">\n",
       "  <thead>\n",
       "    <tr style=\"text-align: right;\">\n",
       "      <th></th>\n",
       "      <th>chunks</th>\n",
       "      <th>begin</th>\n",
       "      <th>end</th>\n",
       "      <th>entities</th>\n",
       "    </tr>\n",
       "  </thead>\n",
       "  <tbody>\n",
       "    <tr>\n",
       "      <th>0</th>\n",
       "      <td>insulin</td>\n",
       "      <td>59</td>\n",
       "      <td>65</td>\n",
       "      <td>DRUG</td>\n",
       "    </tr>\n",
       "    <tr>\n",
       "      <th>1</th>\n",
       "      <td>Bactrim</td>\n",
       "      <td>120</td>\n",
       "      <td>126</td>\n",
       "      <td>DRUG</td>\n",
       "    </tr>\n",
       "    <tr>\n",
       "      <th>2</th>\n",
       "      <td>for 14 days</td>\n",
       "      <td>128</td>\n",
       "      <td>138</td>\n",
       "      <td>DURATION</td>\n",
       "    </tr>\n",
       "    <tr>\n",
       "      <th>3</th>\n",
       "      <td>5000 units</td>\n",
       "      <td>170</td>\n",
       "      <td>179</td>\n",
       "      <td>DOSAGE</td>\n",
       "    </tr>\n",
       "    <tr>\n",
       "      <th>4</th>\n",
       "      <td>Fragmin</td>\n",
       "      <td>184</td>\n",
       "      <td>190</td>\n",
       "      <td>DRUG</td>\n",
       "    </tr>\n",
       "    <tr>\n",
       "      <th>5</th>\n",
       "      <td>subcutaneously</td>\n",
       "      <td>193</td>\n",
       "      <td>206</td>\n",
       "      <td>ROUTE</td>\n",
       "    </tr>\n",
       "    <tr>\n",
       "      <th>6</th>\n",
       "      <td>daily</td>\n",
       "      <td>208</td>\n",
       "      <td>212</td>\n",
       "      <td>FREQUENCY</td>\n",
       "    </tr>\n",
       "    <tr>\n",
       "      <th>7</th>\n",
       "      <td>Lantus</td>\n",
       "      <td>230</td>\n",
       "      <td>235</td>\n",
       "      <td>DRUG</td>\n",
       "    </tr>\n",
       "    <tr>\n",
       "      <th>8</th>\n",
       "      <td>40 units</td>\n",
       "      <td>237</td>\n",
       "      <td>244</td>\n",
       "      <td>DOSAGE</td>\n",
       "    </tr>\n",
       "    <tr>\n",
       "      <th>9</th>\n",
       "      <td>subcutaneously</td>\n",
       "      <td>246</td>\n",
       "      <td>259</td>\n",
       "      <td>ROUTE</td>\n",
       "    </tr>\n",
       "    <tr>\n",
       "      <th>10</th>\n",
       "      <td>at bedtime</td>\n",
       "      <td>261</td>\n",
       "      <td>270</td>\n",
       "      <td>FREQUENCY</td>\n",
       "    </tr>\n",
       "  </tbody>\n",
       "</table>\n",
       "</div>"
      ]
     },
     "metadata": {
      "application/vnd.databricks.v1+output": {
       "addedWidgets": {},
       "arguments": {},
       "data": "<div>\n<style scoped>\n    .dataframe tbody tr th:only-of-type {\n        vertical-align: middle;\n    }\n\n    .dataframe tbody tr th {\n        vertical-align: top;\n    }\n\n    .dataframe thead th {\n        text-align: right;\n    }\n</style>\n<table border=\"1\" class=\"dataframe\">\n  <thead>\n    <tr style=\"text-align: right;\">\n      <th></th>\n      <th>chunks</th>\n      <th>begin</th>\n      <th>end</th>\n      <th>entities</th>\n    </tr>\n  </thead>\n  <tbody>\n    <tr>\n      <th>0</th>\n      <td>insulin</td>\n      <td>59</td>\n      <td>65</td>\n      <td>DRUG</td>\n    </tr>\n    <tr>\n      <th>1</th>\n      <td>Bactrim</td>\n      <td>120</td>\n      <td>126</td>\n      <td>DRUG</td>\n    </tr>\n    <tr>\n      <th>2</th>\n      <td>for 14 days</td>\n      <td>128</td>\n      <td>138</td>\n      <td>DURATION</td>\n    </tr>\n    <tr>\n      <th>3</th>\n      <td>5000 units</td>\n      <td>170</td>\n      <td>179</td>\n      <td>DOSAGE</td>\n    </tr>\n    <tr>\n      <th>4</th>\n      <td>Fragmin</td>\n      <td>184</td>\n      <td>190</td>\n      <td>DRUG</td>\n    </tr>\n    <tr>\n      <th>5</th>\n      <td>subcutaneously</td>\n      <td>193</td>\n      <td>206</td>\n      <td>ROUTE</td>\n    </tr>\n    <tr>\n      <th>6</th>\n      <td>daily</td>\n      <td>208</td>\n      <td>212</td>\n      <td>FREQUENCY</td>\n    </tr>\n    <tr>\n      <th>7</th>\n      <td>Lantus</td>\n      <td>230</td>\n      <td>235</td>\n      <td>DRUG</td>\n    </tr>\n    <tr>\n      <th>8</th>\n      <td>40 units</td>\n      <td>237</td>\n      <td>244</td>\n      <td>DOSAGE</td>\n    </tr>\n    <tr>\n      <th>9</th>\n      <td>subcutaneously</td>\n      <td>246</td>\n      <td>259</td>\n      <td>ROUTE</td>\n    </tr>\n    <tr>\n      <th>10</th>\n      <td>at bedtime</td>\n      <td>261</td>\n      <td>270</td>\n      <td>FREQUENCY</td>\n    </tr>\n  </tbody>\n</table>\n</div>",
       "datasetInfos": [],
       "metadata": {},
       "removedWidgets": [],
       "textData": null,
       "type": "htmlSandbox"
      }
     },
     "output_type": "display_data"
    }
   ],
   "source": [
    "chunks=[]\n",
    "entities=[]\n",
    "begins=[]\n",
    "ends=[]\n",
    "\n",
    "for n in result['ner_posology_chunk']:\n",
    "    \n",
    "    chunks.append(n.result)\n",
    "    begins.append(n.begin)\n",
    "    ends.append(n.end)\n",
    "    entities.append(n.metadata['entity']) \n",
    "        \n",
    "df = pd.DataFrame({'chunks':chunks, 'begin':begins, 'end':ends, 'entities':entities})\n",
    "\n",
    "df"
   ]
  },
  {
   "cell_type": "code",
   "execution_count": 0,
   "metadata": {
    "application/vnd.databricks.v1+cell": {
     "cellMetadata": {
      "byteLimit": 2048000,
      "rowLimit": 10000
     },
     "inputWidgets": {},
     "nuid": "d05c5693-3f73-4562-851e-7594807d7a4e",
     "showTitle": false,
     "title": ""
    }
   },
   "outputs": [
    {
     "output_type": "display_data",
     "data": {
      "text/html": [
       "<div>\n",
       "<style scoped>\n",
       "    .dataframe tbody tr th:only-of-type {\n",
       "        vertical-align: middle;\n",
       "    }\n",
       "\n",
       "    .dataframe tbody tr th {\n",
       "        vertical-align: top;\n",
       "    }\n",
       "\n",
       "    .dataframe thead th {\n",
       "        text-align: right;\n",
       "    }\n",
       "</style>\n",
       "<table border=\"1\" class=\"dataframe\">\n",
       "  <thead>\n",
       "    <tr style=\"text-align: right;\">\n",
       "      <th></th>\n",
       "      <th>chunks</th>\n",
       "      <th>entities</th>\n",
       "      <th>assertion</th>\n",
       "    </tr>\n",
       "  </thead>\n",
       "  <tbody>\n",
       "    <tr>\n",
       "      <th>0</th>\n",
       "      <td>insulin</td>\n",
       "      <td>DRUG</td>\n",
       "      <td>Family</td>\n",
       "    </tr>\n",
       "    <tr>\n",
       "      <th>1</th>\n",
       "      <td>Bactrim</td>\n",
       "      <td>DRUG</td>\n",
       "      <td>Past</td>\n",
       "    </tr>\n",
       "    <tr>\n",
       "      <th>2</th>\n",
       "      <td>Fragmin</td>\n",
       "      <td>DRUG</td>\n",
       "      <td>Planned</td>\n",
       "    </tr>\n",
       "    <tr>\n",
       "      <th>3</th>\n",
       "      <td>Lantus</td>\n",
       "      <td>DRUG</td>\n",
       "      <td>Past</td>\n",
       "    </tr>\n",
       "  </tbody>\n",
       "</table>\n",
       "</div>"
      ]
     },
     "metadata": {
      "application/vnd.databricks.v1+output": {
       "addedWidgets": {},
       "arguments": {},
       "data": "<div>\n<style scoped>\n    .dataframe tbody tr th:only-of-type {\n        vertical-align: middle;\n    }\n\n    .dataframe tbody tr th {\n        vertical-align: top;\n    }\n\n    .dataframe thead th {\n        text-align: right;\n    }\n</style>\n<table border=\"1\" class=\"dataframe\">\n  <thead>\n    <tr style=\"text-align: right;\">\n      <th></th>\n      <th>chunks</th>\n      <th>entities</th>\n      <th>assertion</th>\n    </tr>\n  </thead>\n  <tbody>\n    <tr>\n      <th>0</th>\n      <td>insulin</td>\n      <td>DRUG</td>\n      <td>Family</td>\n    </tr>\n    <tr>\n      <th>1</th>\n      <td>Bactrim</td>\n      <td>DRUG</td>\n      <td>Past</td>\n    </tr>\n    <tr>\n      <th>2</th>\n      <td>Fragmin</td>\n      <td>DRUG</td>\n      <td>Planned</td>\n    </tr>\n    <tr>\n      <th>3</th>\n      <td>Lantus</td>\n      <td>DRUG</td>\n      <td>Past</td>\n    </tr>\n  </tbody>\n</table>\n</div>",
       "datasetInfos": [],
       "metadata": {},
       "removedWidgets": [],
       "textData": null,
       "type": "htmlSandbox"
      }
     },
     "output_type": "display_data"
    }
   ],
   "source": [
    "chunks=[]\n",
    "entities=[]\n",
    "status=[]\n",
    "\n",
    "for n,m in zip(result['assertion_ner_chunk'],result['assertion']):\n",
    "    \n",
    "    chunks.append(n.result)\n",
    "    entities.append(n.metadata['entity']) \n",
    "    status.append(m.result)\n",
    "        \n",
    "df = pd.DataFrame({'chunks':chunks, 'entities':entities, 'assertion':status})\n",
    "\n",
    "df"
   ]
  },
  {
   "cell_type": "code",
   "execution_count": 0,
   "metadata": {
    "application/vnd.databricks.v1+cell": {
     "cellMetadata": {
      "byteLimit": 2048000,
      "rowLimit": 10000
     },
     "inputWidgets": {},
     "nuid": "18e0da45-e37c-4f04-843d-05188282993b",
     "showTitle": false,
     "title": ""
    }
   },
   "outputs": [
    {
     "output_type": "display_data",
     "data": {
      "text/html": [
       "<div>\n",
       "<style scoped>\n",
       "    .dataframe tbody tr th:only-of-type {\n",
       "        vertical-align: middle;\n",
       "    }\n",
       "\n",
       "    .dataframe tbody tr th {\n",
       "        vertical-align: top;\n",
       "    }\n",
       "\n",
       "    .dataframe thead th {\n",
       "        text-align: right;\n",
       "    }\n",
       "</style>\n",
       "<table border=\"1\" class=\"dataframe\">\n",
       "  <thead>\n",
       "    <tr style=\"text-align: right;\">\n",
       "      <th></th>\n",
       "      <th>relation</th>\n",
       "      <th>entity1</th>\n",
       "      <th>entity1_begin</th>\n",
       "      <th>entity1_end</th>\n",
       "      <th>chunk1</th>\n",
       "      <th>entity2</th>\n",
       "      <th>entity2_begin</th>\n",
       "      <th>entity2_end</th>\n",
       "      <th>chunk2</th>\n",
       "      <th>confidence</th>\n",
       "    </tr>\n",
       "  </thead>\n",
       "  <tbody>\n",
       "    <tr>\n",
       "      <th>0</th>\n",
       "      <td>DRUG-DURATION</td>\n",
       "      <td>DRUG</td>\n",
       "      <td>120</td>\n",
       "      <td>126</td>\n",
       "      <td>Bactrim</td>\n",
       "      <td>DURATION</td>\n",
       "      <td>128</td>\n",
       "      <td>138</td>\n",
       "      <td>for 14 days</td>\n",
       "      <td>1.0</td>\n",
       "    </tr>\n",
       "    <tr>\n",
       "      <th>1</th>\n",
       "      <td>DOSAGE-DRUG</td>\n",
       "      <td>DOSAGE</td>\n",
       "      <td>170</td>\n",
       "      <td>179</td>\n",
       "      <td>5000 units</td>\n",
       "      <td>DRUG</td>\n",
       "      <td>184</td>\n",
       "      <td>190</td>\n",
       "      <td>Fragmin</td>\n",
       "      <td>1.0</td>\n",
       "    </tr>\n",
       "    <tr>\n",
       "      <th>2</th>\n",
       "      <td>DRUG-ROUTE</td>\n",
       "      <td>DRUG</td>\n",
       "      <td>184</td>\n",
       "      <td>190</td>\n",
       "      <td>Fragmin</td>\n",
       "      <td>ROUTE</td>\n",
       "      <td>193</td>\n",
       "      <td>206</td>\n",
       "      <td>subcutaneously</td>\n",
       "      <td>1.0</td>\n",
       "    </tr>\n",
       "    <tr>\n",
       "      <th>3</th>\n",
       "      <td>DRUG-FREQUENCY</td>\n",
       "      <td>DRUG</td>\n",
       "      <td>184</td>\n",
       "      <td>190</td>\n",
       "      <td>Fragmin</td>\n",
       "      <td>FREQUENCY</td>\n",
       "      <td>208</td>\n",
       "      <td>212</td>\n",
       "      <td>daily</td>\n",
       "      <td>1.0</td>\n",
       "    </tr>\n",
       "    <tr>\n",
       "      <th>4</th>\n",
       "      <td>DRUG-DOSAGE</td>\n",
       "      <td>DRUG</td>\n",
       "      <td>230</td>\n",
       "      <td>235</td>\n",
       "      <td>Lantus</td>\n",
       "      <td>DOSAGE</td>\n",
       "      <td>237</td>\n",
       "      <td>244</td>\n",
       "      <td>40 units</td>\n",
       "      <td>1.0</td>\n",
       "    </tr>\n",
       "    <tr>\n",
       "      <th>5</th>\n",
       "      <td>DRUG-ROUTE</td>\n",
       "      <td>DRUG</td>\n",
       "      <td>230</td>\n",
       "      <td>235</td>\n",
       "      <td>Lantus</td>\n",
       "      <td>ROUTE</td>\n",
       "      <td>246</td>\n",
       "      <td>259</td>\n",
       "      <td>subcutaneously</td>\n",
       "      <td>1.0</td>\n",
       "    </tr>\n",
       "    <tr>\n",
       "      <th>6</th>\n",
       "      <td>DRUG-FREQUENCY</td>\n",
       "      <td>DRUG</td>\n",
       "      <td>230</td>\n",
       "      <td>235</td>\n",
       "      <td>Lantus</td>\n",
       "      <td>FREQUENCY</td>\n",
       "      <td>261</td>\n",
       "      <td>270</td>\n",
       "      <td>at bedtime</td>\n",
       "      <td>1.0</td>\n",
       "    </tr>\n",
       "  </tbody>\n",
       "</table>\n",
       "</div>"
      ]
     },
     "metadata": {
      "application/vnd.databricks.v1+output": {
       "addedWidgets": {},
       "arguments": {},
       "data": "<div>\n<style scoped>\n    .dataframe tbody tr th:only-of-type {\n        vertical-align: middle;\n    }\n\n    .dataframe tbody tr th {\n        vertical-align: top;\n    }\n\n    .dataframe thead th {\n        text-align: right;\n    }\n</style>\n<table border=\"1\" class=\"dataframe\">\n  <thead>\n    <tr style=\"text-align: right;\">\n      <th></th>\n      <th>relation</th>\n      <th>entity1</th>\n      <th>entity1_begin</th>\n      <th>entity1_end</th>\n      <th>chunk1</th>\n      <th>entity2</th>\n      <th>entity2_begin</th>\n      <th>entity2_end</th>\n      <th>chunk2</th>\n      <th>confidence</th>\n    </tr>\n  </thead>\n  <tbody>\n    <tr>\n      <th>0</th>\n      <td>DRUG-DURATION</td>\n      <td>DRUG</td>\n      <td>120</td>\n      <td>126</td>\n      <td>Bactrim</td>\n      <td>DURATION</td>\n      <td>128</td>\n      <td>138</td>\n      <td>for 14 days</td>\n      <td>1.0</td>\n    </tr>\n    <tr>\n      <th>1</th>\n      <td>DOSAGE-DRUG</td>\n      <td>DOSAGE</td>\n      <td>170</td>\n      <td>179</td>\n      <td>5000 units</td>\n      <td>DRUG</td>\n      <td>184</td>\n      <td>190</td>\n      <td>Fragmin</td>\n      <td>1.0</td>\n    </tr>\n    <tr>\n      <th>2</th>\n      <td>DRUG-ROUTE</td>\n      <td>DRUG</td>\n      <td>184</td>\n      <td>190</td>\n      <td>Fragmin</td>\n      <td>ROUTE</td>\n      <td>193</td>\n      <td>206</td>\n      <td>subcutaneously</td>\n      <td>1.0</td>\n    </tr>\n    <tr>\n      <th>3</th>\n      <td>DRUG-FREQUENCY</td>\n      <td>DRUG</td>\n      <td>184</td>\n      <td>190</td>\n      <td>Fragmin</td>\n      <td>FREQUENCY</td>\n      <td>208</td>\n      <td>212</td>\n      <td>daily</td>\n      <td>1.0</td>\n    </tr>\n    <tr>\n      <th>4</th>\n      <td>DRUG-DOSAGE</td>\n      <td>DRUG</td>\n      <td>230</td>\n      <td>235</td>\n      <td>Lantus</td>\n      <td>DOSAGE</td>\n      <td>237</td>\n      <td>244</td>\n      <td>40 units</td>\n      <td>1.0</td>\n    </tr>\n    <tr>\n      <th>5</th>\n      <td>DRUG-ROUTE</td>\n      <td>DRUG</td>\n      <td>230</td>\n      <td>235</td>\n      <td>Lantus</td>\n      <td>ROUTE</td>\n      <td>246</td>\n      <td>259</td>\n      <td>subcutaneously</td>\n      <td>1.0</td>\n    </tr>\n    <tr>\n      <th>6</th>\n      <td>DRUG-FREQUENCY</td>\n      <td>DRUG</td>\n      <td>230</td>\n      <td>235</td>\n      <td>Lantus</td>\n      <td>FREQUENCY</td>\n      <td>261</td>\n      <td>270</td>\n      <td>at bedtime</td>\n      <td>1.0</td>\n    </tr>\n  </tbody>\n</table>\n</div>",
       "datasetInfos": [],
       "metadata": {},
       "removedWidgets": [],
       "textData": null,
       "type": "htmlSandbox"
      }
     },
     "output_type": "display_data"
    }
   ],
   "source": [
    "annotations = medication_pipeline.fullAnnotate(text)\n",
    "\n",
    "rel_df = get_relations_df(annotations, 'relations')\n",
    "\n",
    "rel_df"
   ]
  },
  {
   "cell_type": "code",
   "execution_count": 0,
   "metadata": {
    "application/vnd.databricks.v1+cell": {
     "cellMetadata": {
      "byteLimit": 2048000,
      "rowLimit": 10000
     },
     "inputWidgets": {},
     "nuid": "29f1acce-07e9-4504-b890-b082ba0dd662",
     "showTitle": false,
     "title": ""
    }
   },
   "outputs": [
    {
     "output_type": "stream",
     "name": "stdout",
     "output_type": "stream",
     "text": [
      "Out[34]: [Annotation(category, 120, 138, DRUG-DURATION, {'chunk2': 'for 14 days', 'confidence': '1.0', 'entity2_end': '138', 'chunk1': 'Bactrim', 'entity1': 'DRUG', 'entity2_begin': '128', 'chunk2_confidence': '0.79349995', 'entity1_begin': '120', 'sentence': '1', 'direction': 'both', 'entity1_end': '126', 'entity2': 'DURATION', 'chunk1_confidence': '0.9994'}, []),\n Annotation(category, 170, 190, DOSAGE-DRUG, {'chunk2': 'Fragmin', 'confidence': '1.0', 'entity2_end': '190', 'chunk1': '5000 units', 'entity1': 'DOSAGE', 'entity2_begin': '184', 'chunk2_confidence': '0.9996', 'entity1_begin': '170', 'sentence': '2', 'direction': 'both', 'entity1_end': '179', 'entity2': 'DRUG', 'chunk1_confidence': '0.80009997'}, []),\n Annotation(category, 184, 206, DRUG-ROUTE, {'chunk2': 'subcutaneously', 'confidence': '1.0', 'entity2_end': '206', 'chunk1': 'Fragmin', 'entity1': 'DRUG', 'entity2_begin': '193', 'chunk2_confidence': '0.9994', 'entity1_begin': '184', 'sentence': '2', 'direction': 'both', 'entity1_end': '190', 'entity2': 'ROUTE', 'chunk1_confidence': '0.9996'}, []),\n Annotation(category, 184, 212, DRUG-FREQUENCY, {'chunk2': 'daily', 'confidence': '1.0', 'entity2_end': '212', 'chunk1': 'Fragmin', 'entity1': 'DRUG', 'entity2_begin': '208', 'chunk2_confidence': '0.9991', 'entity1_begin': '184', 'sentence': '2', 'direction': 'both', 'entity1_end': '190', 'entity2': 'FREQUENCY', 'chunk1_confidence': '0.9996'}, []),\n Annotation(category, 230, 244, DRUG-DOSAGE, {'chunk2': '40 units', 'confidence': '1.0', 'entity2_end': '244', 'chunk1': 'Lantus', 'entity1': 'DRUG', 'entity2_begin': '237', 'chunk2_confidence': '0.8326', 'entity1_begin': '230', 'sentence': '2', 'direction': 'both', 'entity1_end': '235', 'entity2': 'DOSAGE', 'chunk1_confidence': '0.9986'}, []),\n Annotation(category, 230, 259, DRUG-ROUTE, {'chunk2': 'subcutaneously', 'confidence': '1.0', 'entity2_end': '259', 'chunk1': 'Lantus', 'entity1': 'DRUG', 'entity2_begin': '246', 'chunk2_confidence': '0.9969', 'entity1_begin': '230', 'sentence': '2', 'direction': 'both', 'entity1_end': '235', 'entity2': 'ROUTE', 'chunk1_confidence': '0.9986'}, []),\n Annotation(category, 230, 270, DRUG-FREQUENCY, {'chunk2': 'at bedtime', 'confidence': '1.0', 'entity2_end': '270', 'chunk1': 'Lantus', 'entity1': 'DRUG', 'entity2_begin': '261', 'chunk2_confidence': '0.8706', 'entity1_begin': '230', 'sentence': '2', 'direction': 'both', 'entity1_end': '235', 'entity2': 'FREQUENCY', 'chunk1_confidence': '0.9986'}, [])]"
     ]
    }
   ],
   "source": [
    "annotations[0]['relations']"
   ]
  },
  {
   "cell_type": "markdown",
   "metadata": {
    "application/vnd.databricks.v1+cell": {
     "cellMetadata": {
      "byteLimit": 2048000,
      "rowLimit": 10000
     },
     "inputWidgets": {},
     "nuid": "1ce135c8-58d2-4cda-a637-f8b1003c9d90",
     "showTitle": false,
     "title": ""
    }
   },
   "source": [
    "## 5.explain_clinical_doc_radiology\n",
    "\n",
    "> A pipeline for detecting radiology entities with the `ner_radiology` NER model, assigning their assertion status with `assertion_dl_radiology` model, and extracting relations between the diagnosis, test, and findings with `re_test_problem_finding` relation extraction model."
   ]
  },
  {
   "cell_type": "code",
   "execution_count": 0,
   "metadata": {
    "application/vnd.databricks.v1+cell": {
     "cellMetadata": {
      "byteLimit": 2048000,
      "rowLimit": 10000
     },
     "inputWidgets": {},
     "nuid": "80392777-39a6-4752-adea-b298455318ed",
     "showTitle": false,
     "title": ""
    }
   },
   "outputs": [
    {
     "output_type": "stream",
     "name": "stdout",
     "output_type": "stream",
     "text": [
      "explain_clinical_doc_radiology download started this may take some time.\nApprox size to download 1.7 GB\n\r[ | ]\r[ / ]\r[ — ]\r[ \\ ]\r[ | ]\r[ / ]\r[ — ]\r[ \\ ]\r[ | ]\r[ / ]\r[ — ]\r[ \\ ]\r[ | ]\r[ / ]\r[ — ]\r[ \\ ]\r[ | ]\r[ / ]\r[ — ]\r[ \\ ]\r[ | ]\r[ / ]\r[ — ]\r[ \\ ]\r[ | ]\r[ / ]\r[ — ]\r[ \\ ]\r[ | ]\r[ / ]\r[ — ]\r[ \\ ]\r[ | ]\r[ / ]\r[ — ]\r[ \\ ]\r[ | ]\r[ / ]\r[ — ]\r[ \\ ]\r[ | ]\r[ / ]\r[ — ]\r[ \\ ]\r[ | ]\r[ / ]\r[ — ]\r[ \\ ]\r[ | ]\r[ / ]\r[ — ]\r[ \\ ]\r[ | ]\r[ / ]\r[ — ]\r[ \\ ]\r[ | ]\r[ / ]\r[ — ]\r[ \\ ]\r[ | ]\r[ / ]\r[ — ]\r[ \\ ]\r[ | ]\r[ / ]\r[ — ]\r[ \\ ]\r[ | ]\r[ / ]\r[ — ]\r[ \\ ]\r[ | ]\r[ / ]\r[ — ]\r[ \\ ]\r[ | ]\r[ / ]\r[ — ]\r[ \\ ]\r[ | ]\r[ / ]\r[ — ]\r[ \\ ]\r[ | ]\r[ / ]\r[ — ]\r[ \\ ]\r[ | ]\r[ / ]\r[ — ]\r[ \\ ]\r[ | ]\r[ / ]\r[ — ]\r[ \\ ]\r[ | ]\r[ / ]\r[ — ]\r[ \\ ]\r[ | ]\r[ / ]\r[ — ]\r[ \\ ]\r[ | ]\r[ / ]\r[ — ]\r[ \\ ]\r[ | ]\r[ / ]\r[ — ]\r[ \\ ]\r[ | ]\r[OK!]\n"
     ]
    }
   ],
   "source": [
    "radiology_pipeline = nlp.PretrainedPipeline('explain_clinical_doc_radiology', 'en', 'clinical/models')"
   ]
  },
  {
   "cell_type": "code",
   "execution_count": 0,
   "metadata": {
    "application/vnd.databricks.v1+cell": {
     "cellMetadata": {
      "byteLimit": 2048000,
      "rowLimit": 10000
     },
     "inputWidgets": {},
     "nuid": "bda904a1-00fc-4170-b0e5-c23be5cc3217",
     "showTitle": false,
     "title": ""
    }
   },
   "outputs": [
    {
     "output_type": "stream",
     "name": "stdout",
     "output_type": "stream",
     "text": [
      "Out[36]: [DocumentAssembler_7be744fefcc1,\n SentenceDetectorDLModel_6bafc4746ea5,\n REGEX_TOKENIZER_a430ec88107f,\n WORD_EMBEDDINGS_MODEL_9004b1d00302,\n MedicalNerModel_f7f58f2addf7,\n NER_CONVERTER_054a7661a221,\n MedicalNerModel_32430beeafc0,\n NER_CONVERTER_c95e9906feb9,\n MedicalNerModel_5e6f59103f25,\n NER_CONVERTER_6555d615be71,\n MedicalNerModel_8c59079bd37d,\n NER_CONVERTER_fdf91325f85c,\n MedicalNerModel_c89cbceb1028,\n NER_CONVERTER_404f44a63e5b,\n MERGE_b2f5b8021e11,\n MERGE_c314756a9d4c,\n ASSERTION_DL_614cf4bf71de,\n POS_6f55785005bf,\n dependency_e7755462ba78,\n RelationExtractionModel_853993778cd5]"
     ]
    }
   ],
   "source": [
    "radiology_pipeline.model.stages"
   ]
  },
  {
   "cell_type": "code",
   "execution_count": 0,
   "metadata": {
    "application/vnd.databricks.v1+cell": {
     "cellMetadata": {
      "byteLimit": 2048000,
      "rowLimit": 10000
     },
     "inputWidgets": {},
     "nuid": "a5968071-1c5f-4cf5-891e-04add6a42c15",
     "showTitle": false,
     "title": ""
    }
   },
   "outputs": [],
   "source": [
    "text = \"\"\"Bilateral breast ultrasound was subsequently performed, which demonstrated an ovoid mass measuring approximately 0.5 x 0.5 x 0.4 cm in diameter located within the anteromedial aspect of the left shoulder. \n",
    "This mass demonstrates isoechoic echotexture to the adjacent muscle, with no evidence of internal color flow. \n",
    "This may represent benign fibrous tissue or a lipoma.\"\"\"\n",
    "\n",
    "result = radiology_pipeline.fullAnnotate(text)[0]"
   ]
  },
  {
   "cell_type": "code",
   "execution_count": 0,
   "metadata": {
    "application/vnd.databricks.v1+cell": {
     "cellMetadata": {
      "byteLimit": 2048000,
      "rowLimit": 10000
     },
     "inputWidgets": {},
     "nuid": "dc5a3b7a-7acb-4b99-9b2e-e2a2e4cdff86",
     "showTitle": false,
     "title": ""
    }
   },
   "outputs": [
    {
     "output_type": "stream",
     "name": "stdout",
     "output_type": "stream",
     "text": [
      "Out[38]: dict_keys(['radiology_ner_chunk', 'ner_chexpert_chunk', 'posology_ner', 'ner_oncology', 'document', 'ner_chexpert', 'merged_chunk', 'posology_ner_chunk', 'merged_chunk_for_assertion', 'jsl_ner_chunk', 'radiology_ner', 'assertion', 'jsl_ner', 'ner_oncology_chunk', 'token', 'relations', 'embeddings', 'pos_tags', 'dependencies', 'sentence'])"
     ]
    }
   ],
   "source": [
    "result.keys()"
   ]
  },
  {
   "cell_type": "code",
   "execution_count": 0,
   "metadata": {
    "application/vnd.databricks.v1+cell": {
     "cellMetadata": {
      "byteLimit": 2048000,
      "rowLimit": 10000
     },
     "inputWidgets": {},
     "nuid": "4b11a724-7e29-4d3b-9891-7b4595e910aa",
     "showTitle": false,
     "title": ""
    }
   },
   "outputs": [
    {
     "output_type": "display_data",
     "data": {
      "text/html": [
       "<div>\n",
       "<style scoped>\n",
       "    .dataframe tbody tr th:only-of-type {\n",
       "        vertical-align: middle;\n",
       "    }\n",
       "\n",
       "    .dataframe tbody tr th {\n",
       "        vertical-align: top;\n",
       "    }\n",
       "\n",
       "    .dataframe thead th {\n",
       "        text-align: right;\n",
       "    }\n",
       "</style>\n",
       "<table border=\"1\" class=\"dataframe\">\n",
       "  <thead>\n",
       "    <tr style=\"text-align: right;\">\n",
       "      <th></th>\n",
       "      <th>chunks</th>\n",
       "      <th>begin</th>\n",
       "      <th>end</th>\n",
       "      <th>entities</th>\n",
       "    </tr>\n",
       "  </thead>\n",
       "  <tbody>\n",
       "    <tr>\n",
       "      <th>0</th>\n",
       "      <td>Bilateral breast</td>\n",
       "      <td>0</td>\n",
       "      <td>15</td>\n",
       "      <td>BodyPart</td>\n",
       "    </tr>\n",
       "    <tr>\n",
       "      <th>1</th>\n",
       "      <td>ultrasound</td>\n",
       "      <td>17</td>\n",
       "      <td>26</td>\n",
       "      <td>Imaging_Test</td>\n",
       "    </tr>\n",
       "    <tr>\n",
       "      <th>2</th>\n",
       "      <td>ovoid mass</td>\n",
       "      <td>78</td>\n",
       "      <td>87</td>\n",
       "      <td>ImagingFindings</td>\n",
       "    </tr>\n",
       "    <tr>\n",
       "      <th>3</th>\n",
       "      <td>0.5 x 0.5 x 0.4</td>\n",
       "      <td>113</td>\n",
       "      <td>127</td>\n",
       "      <td>Measurements</td>\n",
       "    </tr>\n",
       "    <tr>\n",
       "      <th>4</th>\n",
       "      <td>cm</td>\n",
       "      <td>129</td>\n",
       "      <td>130</td>\n",
       "      <td>Units</td>\n",
       "    </tr>\n",
       "    <tr>\n",
       "      <th>5</th>\n",
       "      <td>anteromedial aspect of the left shoulder</td>\n",
       "      <td>163</td>\n",
       "      <td>202</td>\n",
       "      <td>BodyPart</td>\n",
       "    </tr>\n",
       "    <tr>\n",
       "      <th>6</th>\n",
       "      <td>mass</td>\n",
       "      <td>211</td>\n",
       "      <td>214</td>\n",
       "      <td>ImagingFindings</td>\n",
       "    </tr>\n",
       "    <tr>\n",
       "      <th>7</th>\n",
       "      <td>isoechoic echotexture</td>\n",
       "      <td>229</td>\n",
       "      <td>249</td>\n",
       "      <td>ImagingFindings</td>\n",
       "    </tr>\n",
       "    <tr>\n",
       "      <th>8</th>\n",
       "      <td>muscle</td>\n",
       "      <td>267</td>\n",
       "      <td>272</td>\n",
       "      <td>BodyPart</td>\n",
       "    </tr>\n",
       "    <tr>\n",
       "      <th>9</th>\n",
       "      <td>internal color flow</td>\n",
       "      <td>295</td>\n",
       "      <td>313</td>\n",
       "      <td>ImagingFindings</td>\n",
       "    </tr>\n",
       "    <tr>\n",
       "      <th>10</th>\n",
       "      <td>benign fibrous tissue</td>\n",
       "      <td>336</td>\n",
       "      <td>356</td>\n",
       "      <td>ImagingFindings</td>\n",
       "    </tr>\n",
       "    <tr>\n",
       "      <th>11</th>\n",
       "      <td>lipoma</td>\n",
       "      <td>363</td>\n",
       "      <td>368</td>\n",
       "      <td>Disease_Syndrome_Disorder</td>\n",
       "    </tr>\n",
       "  </tbody>\n",
       "</table>\n",
       "</div>"
      ]
     },
     "metadata": {
      "application/vnd.databricks.v1+output": {
       "addedWidgets": {},
       "arguments": {},
       "data": "<div>\n<style scoped>\n    .dataframe tbody tr th:only-of-type {\n        vertical-align: middle;\n    }\n\n    .dataframe tbody tr th {\n        vertical-align: top;\n    }\n\n    .dataframe thead th {\n        text-align: right;\n    }\n</style>\n<table border=\"1\" class=\"dataframe\">\n  <thead>\n    <tr style=\"text-align: right;\">\n      <th></th>\n      <th>chunks</th>\n      <th>begin</th>\n      <th>end</th>\n      <th>entities</th>\n    </tr>\n  </thead>\n  <tbody>\n    <tr>\n      <th>0</th>\n      <td>Bilateral breast</td>\n      <td>0</td>\n      <td>15</td>\n      <td>BodyPart</td>\n    </tr>\n    <tr>\n      <th>1</th>\n      <td>ultrasound</td>\n      <td>17</td>\n      <td>26</td>\n      <td>Imaging_Test</td>\n    </tr>\n    <tr>\n      <th>2</th>\n      <td>ovoid mass</td>\n      <td>78</td>\n      <td>87</td>\n      <td>ImagingFindings</td>\n    </tr>\n    <tr>\n      <th>3</th>\n      <td>0.5 x 0.5 x 0.4</td>\n      <td>113</td>\n      <td>127</td>\n      <td>Measurements</td>\n    </tr>\n    <tr>\n      <th>4</th>\n      <td>cm</td>\n      <td>129</td>\n      <td>130</td>\n      <td>Units</td>\n    </tr>\n    <tr>\n      <th>5</th>\n      <td>anteromedial aspect of the left shoulder</td>\n      <td>163</td>\n      <td>202</td>\n      <td>BodyPart</td>\n    </tr>\n    <tr>\n      <th>6</th>\n      <td>mass</td>\n      <td>211</td>\n      <td>214</td>\n      <td>ImagingFindings</td>\n    </tr>\n    <tr>\n      <th>7</th>\n      <td>isoechoic echotexture</td>\n      <td>229</td>\n      <td>249</td>\n      <td>ImagingFindings</td>\n    </tr>\n    <tr>\n      <th>8</th>\n      <td>muscle</td>\n      <td>267</td>\n      <td>272</td>\n      <td>BodyPart</td>\n    </tr>\n    <tr>\n      <th>9</th>\n      <td>internal color flow</td>\n      <td>295</td>\n      <td>313</td>\n      <td>ImagingFindings</td>\n    </tr>\n    <tr>\n      <th>10</th>\n      <td>benign fibrous tissue</td>\n      <td>336</td>\n      <td>356</td>\n      <td>ImagingFindings</td>\n    </tr>\n    <tr>\n      <th>11</th>\n      <td>lipoma</td>\n      <td>363</td>\n      <td>368</td>\n      <td>Disease_Syndrome_Disorder</td>\n    </tr>\n  </tbody>\n</table>\n</div>",
       "datasetInfos": [],
       "metadata": {},
       "removedWidgets": [],
       "textData": null,
       "type": "htmlSandbox"
      }
     },
     "output_type": "display_data"
    }
   ],
   "source": [
    "chunks=[]\n",
    "entities=[]\n",
    "begins=[]\n",
    "ends=[]\n",
    "\n",
    "for n in result['radiology_ner_chunk']:\n",
    "    \n",
    "    chunks.append(n.result)\n",
    "    begins.append(n.begin)\n",
    "    ends.append(n.end)\n",
    "    entities.append(n.metadata['entity']) \n",
    "        \n",
    "df = pd.DataFrame({'chunks':chunks, 'begin':begins, 'end':ends, 'entities':entities})\n",
    "\n",
    "df"
   ]
  },
  {
   "cell_type": "code",
   "execution_count": 0,
   "metadata": {
    "application/vnd.databricks.v1+cell": {
     "cellMetadata": {
      "byteLimit": 2048000,
      "rowLimit": 10000
     },
     "inputWidgets": {},
     "nuid": "0e836c24-c974-4cc6-962b-f094c7754dc5",
     "showTitle": false,
     "title": ""
    }
   },
   "outputs": [
    {
     "output_type": "display_data",
     "data": {
      "text/html": [
       "<div>\n",
       "<style scoped>\n",
       "    .dataframe tbody tr th:only-of-type {\n",
       "        vertical-align: middle;\n",
       "    }\n",
       "\n",
       "    .dataframe tbody tr th {\n",
       "        vertical-align: top;\n",
       "    }\n",
       "\n",
       "    .dataframe thead th {\n",
       "        text-align: right;\n",
       "    }\n",
       "</style>\n",
       "<table border=\"1\" class=\"dataframe\">\n",
       "  <thead>\n",
       "    <tr style=\"text-align: right;\">\n",
       "      <th></th>\n",
       "      <th>chunks</th>\n",
       "      <th>entities</th>\n",
       "      <th>assertion</th>\n",
       "    </tr>\n",
       "  </thead>\n",
       "  <tbody>\n",
       "    <tr>\n",
       "      <th>0</th>\n",
       "      <td>Bilateral</td>\n",
       "      <td>Direction</td>\n",
       "      <td>Confirmed</td>\n",
       "    </tr>\n",
       "    <tr>\n",
       "      <th>1</th>\n",
       "      <td>breast ultrasound</td>\n",
       "      <td>Test</td>\n",
       "      <td>Confirmed</td>\n",
       "    </tr>\n",
       "    <tr>\n",
       "      <th>2</th>\n",
       "      <td>mass</td>\n",
       "      <td>Symptom</td>\n",
       "      <td>Confirmed</td>\n",
       "    </tr>\n",
       "    <tr>\n",
       "      <th>3</th>\n",
       "      <td>anteromedial aspect</td>\n",
       "      <td>Direction</td>\n",
       "      <td>Negative</td>\n",
       "    </tr>\n",
       "    <tr>\n",
       "      <th>4</th>\n",
       "      <td>left</td>\n",
       "      <td>Direction</td>\n",
       "      <td>Suspected</td>\n",
       "    </tr>\n",
       "    <tr>\n",
       "      <th>5</th>\n",
       "      <td>mass</td>\n",
       "      <td>Symptom</td>\n",
       "      <td>Suspected</td>\n",
       "    </tr>\n",
       "  </tbody>\n",
       "</table>\n",
       "</div>"
      ]
     },
     "metadata": {
      "application/vnd.databricks.v1+output": {
       "addedWidgets": {},
       "arguments": {},
       "data": "<div>\n<style scoped>\n    .dataframe tbody tr th:only-of-type {\n        vertical-align: middle;\n    }\n\n    .dataframe tbody tr th {\n        vertical-align: top;\n    }\n\n    .dataframe thead th {\n        text-align: right;\n    }\n</style>\n<table border=\"1\" class=\"dataframe\">\n  <thead>\n    <tr style=\"text-align: right;\">\n      <th></th>\n      <th>chunks</th>\n      <th>entities</th>\n      <th>assertion</th>\n    </tr>\n  </thead>\n  <tbody>\n    <tr>\n      <th>0</th>\n      <td>Bilateral</td>\n      <td>Direction</td>\n      <td>Confirmed</td>\n    </tr>\n    <tr>\n      <th>1</th>\n      <td>breast ultrasound</td>\n      <td>Test</td>\n      <td>Confirmed</td>\n    </tr>\n    <tr>\n      <th>2</th>\n      <td>mass</td>\n      <td>Symptom</td>\n      <td>Confirmed</td>\n    </tr>\n    <tr>\n      <th>3</th>\n      <td>anteromedial aspect</td>\n      <td>Direction</td>\n      <td>Negative</td>\n    </tr>\n    <tr>\n      <th>4</th>\n      <td>left</td>\n      <td>Direction</td>\n      <td>Suspected</td>\n    </tr>\n    <tr>\n      <th>5</th>\n      <td>mass</td>\n      <td>Symptom</td>\n      <td>Suspected</td>\n    </tr>\n  </tbody>\n</table>\n</div>",
       "datasetInfos": [],
       "metadata": {},
       "removedWidgets": [],
       "textData": null,
       "type": "htmlSandbox"
      }
     },
     "output_type": "display_data"
    }
   ],
   "source": [
    "chunks=[]\n",
    "entities=[]\n",
    "status=[]\n",
    "\n",
    "for n,m in zip(result['jsl_ner_chunk'],result['assertion']):\n",
    "    \n",
    "    chunks.append(n.result)\n",
    "    entities.append(n.metadata['entity']) \n",
    "    status.append(m.result)\n",
    "        \n",
    "df = pd.DataFrame({'chunks':chunks, 'entities':entities, 'assertion':status})\n",
    "\n",
    "df"
   ]
  },
  {
   "cell_type": "code",
   "execution_count": 0,
   "metadata": {
    "application/vnd.databricks.v1+cell": {
     "cellMetadata": {
      "byteLimit": 2048000,
      "rowLimit": 10000
     },
     "inputWidgets": {},
     "nuid": "7f8e7642-307f-4474-b06f-c12ce75a7af5",
     "showTitle": false,
     "title": ""
    }
   },
   "outputs": [
    {
     "output_type": "display_data",
     "data": {
      "text/html": [
       "<div>\n",
       "<style scoped>\n",
       "    .dataframe tbody tr th:only-of-type {\n",
       "        vertical-align: middle;\n",
       "    }\n",
       "\n",
       "    .dataframe tbody tr th {\n",
       "        vertical-align: top;\n",
       "    }\n",
       "\n",
       "    .dataframe thead th {\n",
       "        text-align: right;\n",
       "    }\n",
       "</style>\n",
       "<table border=\"1\" class=\"dataframe\">\n",
       "  <thead>\n",
       "    <tr style=\"text-align: right;\">\n",
       "      <th></th>\n",
       "      <th>relation</th>\n",
       "      <th>entity1</th>\n",
       "      <th>entity1_begin</th>\n",
       "      <th>entity1_end</th>\n",
       "      <th>chunk1</th>\n",
       "      <th>entity2</th>\n",
       "      <th>entity2_begin</th>\n",
       "      <th>entity2_end</th>\n",
       "      <th>chunk2</th>\n",
       "      <th>confidence</th>\n",
       "    </tr>\n",
       "  </thead>\n",
       "  <tbody>\n",
       "    <tr>\n",
       "      <th>0</th>\n",
       "      <td>is_related</td>\n",
       "      <td>BodyPart</td>\n",
       "      <td>303</td>\n",
       "      <td>306</td>\n",
       "      <td>body</td>\n",
       "      <td>Symptom</td>\n",
       "      <td>308</td>\n",
       "      <td>317</td>\n",
       "      <td>mass index</td>\n",
       "      <td>0.999652</td>\n",
       "    </tr>\n",
       "    <tr>\n",
       "      <th>1</th>\n",
       "      <td>not_related</td>\n",
       "      <td>BodyPart</td>\n",
       "      <td>303</td>\n",
       "      <td>306</td>\n",
       "      <td>body</td>\n",
       "      <td>Symptom</td>\n",
       "      <td>391</td>\n",
       "      <td>400</td>\n",
       "      <td>polydipsia</td>\n",
       "      <td>0.996499</td>\n",
       "    </tr>\n",
       "    <tr>\n",
       "      <th>2</th>\n",
       "      <td>not_related</td>\n",
       "      <td>BodyPart</td>\n",
       "      <td>303</td>\n",
       "      <td>306</td>\n",
       "      <td>body</td>\n",
       "      <td>Symptom</td>\n",
       "      <td>424</td>\n",
       "      <td>431</td>\n",
       "      <td>vomiting</td>\n",
       "      <td>0.996043</td>\n",
       "    </tr>\n",
       "    <tr>\n",
       "      <th>3</th>\n",
       "      <td>not_related</td>\n",
       "      <td>BodyPart</td>\n",
       "      <td>835</td>\n",
       "      <td>843</td>\n",
       "      <td>abdominal</td>\n",
       "      <td>Symptom</td>\n",
       "      <td>876</td>\n",
       "      <td>885</td>\n",
       "      <td>tenderness</td>\n",
       "      <td>0.999931</td>\n",
       "    </tr>\n",
       "    <tr>\n",
       "      <th>4</th>\n",
       "      <td>not_related</td>\n",
       "      <td>BodyPart</td>\n",
       "      <td>835</td>\n",
       "      <td>843</td>\n",
       "      <td>abdominal</td>\n",
       "      <td>Symptom</td>\n",
       "      <td>889</td>\n",
       "      <td>896</td>\n",
       "      <td>guarding</td>\n",
       "      <td>1.000000</td>\n",
       "    </tr>\n",
       "    <tr>\n",
       "      <th>5</th>\n",
       "      <td>not_related</td>\n",
       "      <td>BodyPart</td>\n",
       "      <td>835</td>\n",
       "      <td>843</td>\n",
       "      <td>abdominal</td>\n",
       "      <td>Symptom</td>\n",
       "      <td>903</td>\n",
       "      <td>910</td>\n",
       "      <td>rigidity</td>\n",
       "      <td>0.999954</td>\n",
       "    </tr>\n",
       "  </tbody>\n",
       "</table>\n",
       "</div>"
      ]
     },
     "metadata": {
      "application/vnd.databricks.v1+output": {
       "addedWidgets": {},
       "arguments": {},
       "data": "<div>\n<style scoped>\n    .dataframe tbody tr th:only-of-type {\n        vertical-align: middle;\n    }\n\n    .dataframe tbody tr th {\n        vertical-align: top;\n    }\n\n    .dataframe thead th {\n        text-align: right;\n    }\n</style>\n<table border=\"1\" class=\"dataframe\">\n  <thead>\n    <tr style=\"text-align: right;\">\n      <th></th>\n      <th>relation</th>\n      <th>entity1</th>\n      <th>entity1_begin</th>\n      <th>entity1_end</th>\n      <th>chunk1</th>\n      <th>entity2</th>\n      <th>entity2_begin</th>\n      <th>entity2_end</th>\n      <th>chunk2</th>\n      <th>confidence</th>\n    </tr>\n  </thead>\n  <tbody>\n    <tr>\n      <th>0</th>\n      <td>is_related</td>\n      <td>BodyPart</td>\n      <td>303</td>\n      <td>306</td>\n      <td>body</td>\n      <td>Symptom</td>\n      <td>308</td>\n      <td>317</td>\n      <td>mass index</td>\n      <td>0.999652</td>\n    </tr>\n    <tr>\n      <th>1</th>\n      <td>not_related</td>\n      <td>BodyPart</td>\n      <td>303</td>\n      <td>306</td>\n      <td>body</td>\n      <td>Symptom</td>\n      <td>391</td>\n      <td>400</td>\n      <td>polydipsia</td>\n      <td>0.996499</td>\n    </tr>\n    <tr>\n      <th>2</th>\n      <td>not_related</td>\n      <td>BodyPart</td>\n      <td>303</td>\n      <td>306</td>\n      <td>body</td>\n      <td>Symptom</td>\n      <td>424</td>\n      <td>431</td>\n      <td>vomiting</td>\n      <td>0.996043</td>\n    </tr>\n    <tr>\n      <th>3</th>\n      <td>not_related</td>\n      <td>BodyPart</td>\n      <td>835</td>\n      <td>843</td>\n      <td>abdominal</td>\n      <td>Symptom</td>\n      <td>876</td>\n      <td>885</td>\n      <td>tenderness</td>\n      <td>0.999931</td>\n    </tr>\n    <tr>\n      <th>4</th>\n      <td>not_related</td>\n      <td>BodyPart</td>\n      <td>835</td>\n      <td>843</td>\n      <td>abdominal</td>\n      <td>Symptom</td>\n      <td>889</td>\n      <td>896</td>\n      <td>guarding</td>\n      <td>1.000000</td>\n    </tr>\n    <tr>\n      <th>5</th>\n      <td>not_related</td>\n      <td>BodyPart</td>\n      <td>835</td>\n      <td>843</td>\n      <td>abdominal</td>\n      <td>Symptom</td>\n      <td>903</td>\n      <td>910</td>\n      <td>rigidity</td>\n      <td>0.999954</td>\n    </tr>\n  </tbody>\n</table>\n</div>",
       "datasetInfos": [],
       "metadata": {},
       "removedWidgets": [],
       "textData": null,
       "type": "htmlSandbox"
      }
     },
     "output_type": "display_data"
    }
   ],
   "source": [
    "annotations = radiology_pipeline.fullAnnotate(text)\n",
    "\n",
    "rel_df = get_relations_df(annotations, 'relations')\n",
    "\n",
    "rel_df"
   ]
  },
  {
   "cell_type": "code",
   "execution_count": 0,
   "metadata": {
    "application/vnd.databricks.v1+cell": {
     "cellMetadata": {
      "byteLimit": 2048000,
      "rowLimit": 10000
     },
     "inputWidgets": {},
     "nuid": "89fded7e-6b60-44ec-a032-b1fe5c78233a",
     "showTitle": false,
     "title": ""
    }
   },
   "outputs": [
    {
     "output_type": "stream",
     "name": "stdout",
     "output_type": "stream",
     "text": [
      "Out[63]: [Annotation(category, 303, 317, is_related, {'chunk2': 'mass index', 'confidence': '0.9996518', 'entity2_end': '317', 'chunk1': 'body', 'entity1': 'BodyPart', 'entity2_begin': '308', 'chunk2_confidence': '0.3272', 'entity1_begin': '303', 'sentence': '0', 'direction': 'both', 'entity1_end': '306', 'entity2': 'Symptom', 'chunk1_confidence': '0.2208'}, []),\n Annotation(category, 303, 400, not_related, {'chunk2': 'polydipsia', 'confidence': '0.9964988', 'entity2_end': '400', 'chunk1': 'body', 'entity1': 'BodyPart', 'entity2_begin': '391', 'chunk2_confidence': '0.9871', 'entity1_begin': '303', 'sentence': '0', 'direction': 'both', 'entity1_end': '306', 'entity2': 'Symptom', 'chunk1_confidence': '0.2208'}, []),\n Annotation(category, 303, 431, not_related, {'chunk2': 'vomiting', 'confidence': '0.9960427', 'entity2_end': '431', 'chunk1': 'body', 'entity1': 'BodyPart', 'entity2_begin': '424', 'chunk2_confidence': '0.8983', 'entity1_begin': '303', 'sentence': '0', 'direction': 'both', 'entity1_end': '306', 'entity2': 'Symptom', 'chunk1_confidence': '0.2208'}, []),\n Annotation(category, 835, 885, not_related, {'chunk2': 'tenderness', 'confidence': '0.9999312', 'entity2_end': '885', 'chunk1': 'abdominal', 'entity1': 'BodyPart', 'entity2_begin': '876', 'chunk2_confidence': '0.8271', 'entity1_begin': '835', 'sentence': '4', 'direction': 'both', 'entity1_end': '843', 'entity2': 'Symptom', 'chunk1_confidence': '0.8717'}, []),\n Annotation(category, 835, 896, not_related, {'chunk2': 'guarding', 'confidence': '0.99999976', 'entity2_end': '896', 'chunk1': 'abdominal', 'entity1': 'BodyPart', 'entity2_begin': '889', 'chunk2_confidence': '0.9759', 'entity1_begin': '835', 'sentence': '4', 'direction': 'both', 'entity1_end': '843', 'entity2': 'Symptom', 'chunk1_confidence': '0.8717'}, []),\n Annotation(category, 835, 910, not_related, {'chunk2': 'rigidity', 'confidence': '0.99995387', 'entity2_end': '910', 'chunk1': 'abdominal', 'entity1': 'BodyPart', 'entity2_begin': '903', 'chunk2_confidence': '0.9843', 'entity1_begin': '835', 'sentence': '4', 'direction': 'both', 'entity1_end': '843', 'entity2': 'Symptom', 'chunk1_confidence': '0.8717'}, [])]"
     ]
    }
   ],
   "source": [
    "annotations[0]['relations']"
   ]
  },
  {
   "cell_type": "markdown",
   "metadata": {
    "application/vnd.databricks.v1+cell": {
     "cellMetadata": {
      "byteLimit": 2048000,
      "rowLimit": 10000
     },
     "inputWidgets": {},
     "nuid": "0df27a1b-6982-4815-b49a-12709a4cb3fc",
     "showTitle": false,
     "title": ""
    }
   },
   "source": [
    "## 6. Clinical Deidentification\n",
    "\n",
    "This pipeline can be used to deidentify PHI information from medical texts. The PHI information will be masked and obfuscated in the resulting text. The pipeline can mask and obfuscate `AGE`, `CONTACT`, `DATE`, `ID`, `LOCATION`, `NAME`, `PROFESSION`, `CITY`, `COUNTRY`, `DOCTOR`, `HOSPITAL`, `IDNUM`, `MEDICALRECORD`, `ORGANIZATION`, `PATIENT`, `PHONE`, `PROFESSION`, `STREET`, `USERNAME`, `ZIP`, `ACCOUNT`, `LICENSE`, `VIN`, `SSN`, `DLN`, `PLATE`, `IPADDR` entities."
   ]
  },
  {
   "cell_type": "markdown",
   "metadata": {
    "application/vnd.databricks.v1+cell": {
     "cellMetadata": {
      "byteLimit": 2048000,
      "rowLimit": 10000
     },
     "inputWidgets": {},
     "nuid": "c1768019-49cb-4d4a-a13d-5822ae304a17",
     "showTitle": false,
     "title": ""
    }
   },
   "source": [
    "**Clinical Deidentification Pretrained Pipeline List**\n",
    "\n",
    "\n",
    "|index|model|lang|\n",
    "|-----:|:-----|----|\n",
    "| 1| [clinical_deidentification](https://nlp.johnsnowlabs.com/2022/03/03/clinical_deidentification_de_3_0.html)  |de|\n",
    "| 2| [clinical_deidentification](https://nlp.johnsnowlabs.com/2021/05/27/clinical_deidentification_en.html)  |en|\n",
    "| 3| [clinical_deidentification_glove](https://nlp.johnsnowlabs.com/2022/03/04/clinical_deidentification_glove_en_3_0.html)  |en|\n",
    "| 4| [clinical_deidentification_glove_augmented](https://nlp.johnsnowlabs.com/2022/03/22/clinical_deidentification_glove_augmented_en_3_0.html)  |en|\n",
    "| 5| [clinical_deidentification](https://nlp.johnsnowlabs.com/2022/03/02/clinical_deidentification_es_2_4.html)  |es|\n",
    "| 6| [clinical_deidentification_augmented](https://nlp.johnsnowlabs.com/2022/03/03/clinical_deidentification_augmented_es_2_4.html)  |es|\n",
    "| 7| [clinical_deidentification](https://nlp.johnsnowlabs.com/2022/03/04/clinical_deidentification_fr_2_4.html)  |fr|\n",
    "| 8| [clinical_deidentification](https://nlp.johnsnowlabs.com/2022/03/28/clinical_deidentification_it_3_0.html)  |it|\n",
    "| 9| [clinical_deidentification](https://nlp.johnsnowlabs.com/2022/06/21/clinical_deidentification_pt_3_0.html)  |pt|\n",
    "| 10| [clinical_deidentification](https://nlp.johnsnowlabs.com/2022/06/28/clinical_deidentification_ro_3_0.html)  |ro|"
   ]
  },
  {
   "cell_type": "markdown",
   "metadata": {
    "application/vnd.databricks.v1+cell": {
     "cellMetadata": {
      "byteLimit": 2048000,
      "rowLimit": 10000
     },
     "inputWidgets": {},
     "nuid": "ef805622-fcc4-4734-90dd-cf7fa7609370",
     "showTitle": false,
     "title": ""
    }
   },
   "source": [
    "You can find German, Spanish, French, Italian, Portuguese and Romanian deidentification models and pretrained pipeline examples in this notebook:   [Clinical Multi Language Deidentification Notebook](https://github.com/JohnSnowLabs/spark-nlp-workshop/blob/master/tutorials/Certification_Trainings/Healthcare/4.1.Clinical_Multi_Language_Deidentification.ipynb)"
   ]
  },
  {
   "cell_type": "code",
   "execution_count": 0,
   "metadata": {
    "application/vnd.databricks.v1+cell": {
     "cellMetadata": {
      "byteLimit": 2048000,
      "rowLimit": 10000
     },
     "inputWidgets": {},
     "nuid": "3256d975-a99c-4423-8386-3e23728c76b5",
     "showTitle": false,
     "title": ""
    }
   },
   "outputs": [
    {
     "output_type": "stream",
     "name": "stdout",
     "output_type": "stream",
     "text": [
      "clinical_deidentification download started this may take some time.\nApprox size to download 1.6 GB\n\r[ | ]\r[OK!]\n"
     ]
    }
   ],
   "source": [
    "deid_pipeline = nlp.PretrainedPipeline(\"clinical_deidentification\", \"en\", \"clinical/models\")"
   ]
  },
  {
   "cell_type": "code",
   "execution_count": 0,
   "metadata": {
    "application/vnd.databricks.v1+cell": {
     "cellMetadata": {
      "byteLimit": 2048000,
      "rowLimit": 10000
     },
     "inputWidgets": {},
     "nuid": "699db42f-357b-4438-8571-74c5fb70e059",
     "showTitle": false,
     "title": ""
    }
   },
   "outputs": [],
   "source": [
    "deid_res = deid_pipeline.annotate(\"Record date : 2093-01-13 , David Hale , M.D .  Name : Hendrickson , Ora MR 25 years-old . # 719435 Date : 01/13/93 . Signed by Oliveira Sander . Record date : 2079-11-09 . Cocke County Baptist Hospital . 0295 Keats Street. Phone 302-786-5227.\")"
   ]
  },
  {
   "cell_type": "code",
   "execution_count": 0,
   "metadata": {
    "application/vnd.databricks.v1+cell": {
     "cellMetadata": {
      "byteLimit": 2048000,
      "rowLimit": 10000
     },
     "inputWidgets": {},
     "nuid": "9262d263-859a-4a27-b686-d20576083ee5",
     "showTitle": false,
     "title": ""
    }
   },
   "outputs": [
    {
     "output_type": "stream",
     "name": "stdout",
     "output_type": "stream",
     "text": [
      "Out[66]: dict_keys(['masked', 'obfuscated', 'ner_chunk', 'masked_fixed_length_chars', 'sentence', 'masked_with_chars'])"
     ]
    }
   ],
   "source": [
    "deid_res.keys()"
   ]
  },
  {
   "cell_type": "code",
   "execution_count": 0,
   "metadata": {
    "application/vnd.databricks.v1+cell": {
     "cellMetadata": {
      "byteLimit": 2048000,
      "rowLimit": 10000
     },
     "inputWidgets": {},
     "nuid": "505b5d92-fb00-456b-a85b-f49ba8a88055",
     "showTitle": false,
     "title": ""
    }
   },
   "outputs": [
    {
     "output_type": "display_data",
     "data": {
      "text/html": [
       "<div>\n",
       "<style scoped>\n",
       "    .dataframe tbody tr th:only-of-type {\n",
       "        vertical-align: middle;\n",
       "    }\n",
       "\n",
       "    .dataframe tbody tr th {\n",
       "        vertical-align: top;\n",
       "    }\n",
       "\n",
       "    .dataframe thead th {\n",
       "        text-align: right;\n",
       "    }\n",
       "</style>\n",
       "<table border=\"1\" class=\"dataframe\">\n",
       "  <thead>\n",
       "    <tr style=\"text-align: right;\">\n",
       "      <th></th>\n",
       "      <th>Sentence</th>\n",
       "      <th>Masked</th>\n",
       "      <th>Masked with Chars</th>\n",
       "      <th>Masked with Fixed Chars</th>\n",
       "      <th>Obfuscated</th>\n",
       "    </tr>\n",
       "  </thead>\n",
       "  <tbody>\n",
       "    <tr>\n",
       "      <th>0</th>\n",
       "      <td>Record date : 2093-01-13 , David Hale , M.D .</td>\n",
       "      <td>Record date : &lt;DATE&gt; , &lt;DOCTOR&gt; , M.D .</td>\n",
       "      <td>Record date : [********] , [********] , M.D .</td>\n",
       "      <td>Record date : **** , **** , M.D .</td>\n",
       "      <td>Record date : 2093-03-05 , Rozelle Logan , M.D .</td>\n",
       "    </tr>\n",
       "    <tr>\n",
       "      <th>1</th>\n",
       "      <td>Name : Hendrickson , Ora MR 25 years-old .</td>\n",
       "      <td>Name : &lt;PATIENT&gt; MR &lt;AGE&gt; years-old .</td>\n",
       "      <td>Name : [***************] MR ** years-old .</td>\n",
       "      <td>Name : **** MR **** years-old .</td>\n",
       "      <td>Name : Jerrol Banana MR 28 years-old .</td>\n",
       "    </tr>\n",
       "    <tr>\n",
       "      <th>2</th>\n",
       "      <td># 719435 Date : 01/13/93 .</td>\n",
       "      <td># &lt;MEDICALRECORD&gt; Date : &lt;DATE&gt; .</td>\n",
       "      <td># [****] Date : [******] .</td>\n",
       "      <td># **** Date : **** .</td>\n",
       "      <td># 147829 Date : 03/05/93 .</td>\n",
       "    </tr>\n",
       "    <tr>\n",
       "      <th>3</th>\n",
       "      <td>Signed by Oliveira Sander .</td>\n",
       "      <td>Signed by &lt;DOCTOR&gt; .</td>\n",
       "      <td>Signed by [*************] .</td>\n",
       "      <td>Signed by **** .</td>\n",
       "      <td>Signed by Katha Hamming .</td>\n",
       "    </tr>\n",
       "    <tr>\n",
       "      <th>4</th>\n",
       "      <td>Record date : 2079-11-09 .</td>\n",
       "      <td>Record date : &lt;DATE&gt; .</td>\n",
       "      <td>Record date : [********] .</td>\n",
       "      <td>Record date : **** .</td>\n",
       "      <td>Record date : 2079-12-30 .</td>\n",
       "    </tr>\n",
       "    <tr>\n",
       "      <th>5</th>\n",
       "      <td>Cocke County Baptist Hospital . 0295 Keats Street.</td>\n",
       "      <td>&lt;LOCATION&gt;.</td>\n",
       "      <td>[***********************************************].</td>\n",
       "      <td>****.</td>\n",
       "      <td>1559 Sparta Street.</td>\n",
       "    </tr>\n",
       "    <tr>\n",
       "      <th>6</th>\n",
       "      <td>Phone 302-786-5227.</td>\n",
       "      <td>Phone &lt;PHONE&gt;.</td>\n",
       "      <td>Phone [**********].</td>\n",
       "      <td>Phone ****.</td>\n",
       "      <td>Phone 562-130-8657.</td>\n",
       "    </tr>\n",
       "  </tbody>\n",
       "</table>\n",
       "</div>"
      ]
     },
     "metadata": {
      "application/vnd.databricks.v1+output": {
       "addedWidgets": {},
       "arguments": {},
       "data": "<div>\n<style scoped>\n    .dataframe tbody tr th:only-of-type {\n        vertical-align: middle;\n    }\n\n    .dataframe tbody tr th {\n        vertical-align: top;\n    }\n\n    .dataframe thead th {\n        text-align: right;\n    }\n</style>\n<table border=\"1\" class=\"dataframe\">\n  <thead>\n    <tr style=\"text-align: right;\">\n      <th></th>\n      <th>Sentence</th>\n      <th>Masked</th>\n      <th>Masked with Chars</th>\n      <th>Masked with Fixed Chars</th>\n      <th>Obfuscated</th>\n    </tr>\n  </thead>\n  <tbody>\n    <tr>\n      <th>0</th>\n      <td>Record date : 2093-01-13 , David Hale , M.D .</td>\n      <td>Record date : &lt;DATE&gt; , &lt;DOCTOR&gt; , M.D .</td>\n      <td>Record date : [********] , [********] , M.D .</td>\n      <td>Record date : **** , **** , M.D .</td>\n      <td>Record date : 2093-03-05 , Rozelle Logan , M.D .</td>\n    </tr>\n    <tr>\n      <th>1</th>\n      <td>Name : Hendrickson , Ora MR 25 years-old .</td>\n      <td>Name : &lt;PATIENT&gt; MR &lt;AGE&gt; years-old .</td>\n      <td>Name : [***************] MR ** years-old .</td>\n      <td>Name : **** MR **** years-old .</td>\n      <td>Name : Jerrol Banana MR 28 years-old .</td>\n    </tr>\n    <tr>\n      <th>2</th>\n      <td># 719435 Date : 01/13/93 .</td>\n      <td># &lt;MEDICALRECORD&gt; Date : &lt;DATE&gt; .</td>\n      <td># [****] Date : [******] .</td>\n      <td># **** Date : **** .</td>\n      <td># 147829 Date : 03/05/93 .</td>\n    </tr>\n    <tr>\n      <th>3</th>\n      <td>Signed by Oliveira Sander .</td>\n      <td>Signed by &lt;DOCTOR&gt; .</td>\n      <td>Signed by [*************] .</td>\n      <td>Signed by **** .</td>\n      <td>Signed by Katha Hamming .</td>\n    </tr>\n    <tr>\n      <th>4</th>\n      <td>Record date : 2079-11-09 .</td>\n      <td>Record date : &lt;DATE&gt; .</td>\n      <td>Record date : [********] .</td>\n      <td>Record date : **** .</td>\n      <td>Record date : 2079-12-30 .</td>\n    </tr>\n    <tr>\n      <th>5</th>\n      <td>Cocke County Baptist Hospital . 0295 Keats Street.</td>\n      <td>&lt;LOCATION&gt;.</td>\n      <td>[***********************************************].</td>\n      <td>****.</td>\n      <td>1559 Sparta Street.</td>\n    </tr>\n    <tr>\n      <th>6</th>\n      <td>Phone 302-786-5227.</td>\n      <td>Phone &lt;PHONE&gt;.</td>\n      <td>Phone [**********].</td>\n      <td>Phone ****.</td>\n      <td>Phone 562-130-8657.</td>\n    </tr>\n  </tbody>\n</table>\n</div>",
       "datasetInfos": [],
       "metadata": {},
       "removedWidgets": [],
       "textData": null,
       "type": "htmlSandbox"
      }
     },
     "output_type": "display_data"
    }
   ],
   "source": [
    "pd.set_option(\"display.max_colwidth\", 100)\n",
    "\n",
    "df= pd.DataFrame(list(zip(deid_res[\"sentence\"], \n",
    "                          deid_res[\"masked\"],\n",
    "                          deid_res[\"masked_with_chars\"], \n",
    "                          deid_res[\"masked_fixed_length_chars\"], \n",
    "                          deid_res[\"obfuscated\"])),\n",
    "                 columns= [\"Sentence\", \"Masked\", \"Masked with Chars\", \"Masked with Fixed Chars\", \"Obfuscated\"])\n",
    "\n",
    "df"
   ]
  },
  {
   "cell_type": "markdown",
   "metadata": {
    "application/vnd.databricks.v1+cell": {
     "cellMetadata": {
      "byteLimit": 2048000,
      "rowLimit": 10000
     },
     "inputWidgets": {},
     "nuid": "aadd930e-7414-4e89-acff-a1815ca82489",
     "showTitle": false,
     "title": ""
    }
   },
   "source": [
    "## 7.NER Pipelines"
   ]
  },
  {
   "cell_type": "markdown",
   "metadata": {
    "application/vnd.databricks.v1+cell": {
     "cellMetadata": {
      "byteLimit": 2048000,
      "rowLimit": 10000
     },
     "inputWidgets": {},
     "nuid": "2c0ead5f-6b3f-4e92-9717-02d743674ab1",
     "showTitle": false,
     "title": ""
    }
   },
   "source": [
    "**`NER pretrained ` Model List**\n",
    "\n",
    "|index|model|index|model|index|model|index|model|\n",
    "|-----:|:-----|-----:|:-----|-----:|:-----|-----:|:-----|\n",
    "| 1| [jsl_ner_wip_clinical_pipeline](https://nlp.johnsnowlabs.com/2022/03/21/jsl_ner_wip_clinical_pipeline_en_3_0.html)  | 2| [jsl_ner_wip_greedy_biobert_pipeline](https://nlp.johnsnowlabs.com/2022/03/21/jsl_ner_wip_greedy_biobert_pipeline_en_3_0.html)  | 3| [jsl_ner_wip_greedy_clinical_pipeline](https://nlp.johnsnowlabs.com/2022/03/21/jsl_ner_wip_greedy_clinical_pipeline_en_3_0.html)  | 4| [jsl_ner_wip_modifier_clinical_pipeline](https://nlp.johnsnowlabs.com/2022/03/21/jsl_ner_wip_modifier_clinical_pipeline_en_3_0.html)  |\n",
    "| 5| [jsl_rd_ner_wip_greedy_biobert_pipeline](https://nlp.johnsnowlabs.com/2022/03/21/jsl_rd_ner_wip_greedy_biobert_pipeline_en_3_0.html)  | 6| [jsl_rd_ner_wip_greedy_clinical_pipeline](https://nlp.johnsnowlabs.com/2022/03/21/jsl_rd_ner_wip_greedy_clinical_pipeline_en_3_0.html)  | 7| [ner_abbreviation_clinical_pipeline](https://nlp.johnsnowlabs.com/2022/03/21/ner_abbreviation_clinical_pipeline_en_3_0.html)  | 8| [ner_ade_biobert_pipeline](https://nlp.johnsnowlabs.com/2022/03/21/ner_ade_biobert_pipeline_en_3_0.html)  |\n",
    "| 9| [ner_ade_clinical_pipeline](https://nlp.johnsnowlabs.com/2022/03/21/ner_ade_clinical_pipeline_en_3_0.html)  | 10| [ner_ade_clinicalbert_pipeline](https://nlp.johnsnowlabs.com/2022/03/21/ner_ade_clinicalbert_pipeline_en_3_0.html)  | 11| [ner_ade_healthcare_pipeline](https://nlp.johnsnowlabs.com/2022/03/22/ner_ade_healthcare_pipeline_en_3_0.html)  | 12| [ner_anatomy_biobert_pipeline](https://nlp.johnsnowlabs.com/2022/03/21/ner_anatomy_biobert_pipeline_en_3_0.html)  |\n",
    "| 13| [ner_anatomy_coarse_biobert_pipeline](https://nlp.johnsnowlabs.com/2022/03/21/ner_anatomy_coarse_biobert_pipeline_en_3_0.html)  | 14| [ner_anatomy_coarse_pipeline](https://nlp.johnsnowlabs.com/2022/03/21/ner_anatomy_coarse_pipeline_en_3_0.html)  | 15| [ner_anatomy_pipeline](https://nlp.johnsnowlabs.com/2022/03/21/ner_anatomy_pipeline_en_3_0.html)  | 16| [ner_bacterial_species_pipeline](https://nlp.johnsnowlabs.com/2022/03/21/ner_bacterial_species_pipeline_en_3_0.html)  |\n",
    "| 17| [ner_biomarker_pipeline](https://nlp.johnsnowlabs.com/2022/03/21/ner_biomarker_pipeline_en_3_0.html)  | 18| [ner_biomedical_bc2gm_pipeline](https://nlp.johnsnowlabs.com/2022/06/22/ner_biomedical_bc2gm_pipeline_en_3_0.html)  | 19| [ner_bionlp_biobert_pipeline](https://nlp.johnsnowlabs.com/2022/03/21/ner_bionlp_biobert_pipeline_en_3_0.html)  | 20| [ner_bionlp_pipeline](https://nlp.johnsnowlabs.com/2022/03/21/ner_bionlp_pipeline_en_3_0.html)  |\n",
    "| 21| [ner_cancer_genetics_pipeline](https://nlp.johnsnowlabs.com/2022/03/21/ner_cancer_genetics_pipeline_en_3_0.html)  | 22| [ner_cellular_biobert_pipeline](https://nlp.johnsnowlabs.com/2022/03/21/ner_cellular_biobert_pipeline_en_3_0.html)  | 23| [ner_cellular_pipeline](https://nlp.johnsnowlabs.com/2022/03/21/ner_cellular_pipeline_en_3_0.html)  | 24| [ner_chemicals_pipeline](https://nlp.johnsnowlabs.com/2022/03/21/ner_chemicals_pipeline_en_3_0.html)  |\n",
    "| 25| [ner_chemprot_biobert_pipeline](https://nlp.johnsnowlabs.com/2022/03/21/ner_chemprot_biobert_pipeline_en_3_0.html)  | 26| [ner_chemprot_clinical_pipeline](https://nlp.johnsnowlabs.com/2022/03/21/ner_chemprot_clinical_pipeline_en_3_0.html)  | 27| [ner_chexpert_pipeline](https://nlp.johnsnowlabs.com/2022/03/21/ner_chexpert_pipeline_en_3_0.html)  | 28| [ner_clinical_biobert_pipeline](https://nlp.johnsnowlabs.com/2022/03/21/ner_clinical_biobert_pipeline_en_3_0.html)  |\n",
    "| 29| [ner_clinical_large_pipeline](https://nlp.johnsnowlabs.com/2022/03/21/ner_clinical_large_pipeline_en_3_0.html)  | 30| [ner_clinical_pipeline](https://nlp.johnsnowlabs.com/2022/03/21/ner_clinical_pipeline_en_3_0.html)  | 31| [ner_clinical_trials_abstracts_pipeline](https://nlp.johnsnowlabs.com/2022/06/27/ner_clinical_trials_abstracts_pipeline_en_3_0.html)  | 32| [ner_diseases_biobert_pipeline](https://nlp.johnsnowlabs.com/2022/03/21/ner_diseases_biobert_pipeline_en_3_0.html)  |\n",
    "| 33| [ner_diseases_large_pipeline](https://nlp.johnsnowlabs.com/2022/03/21/ner_diseases_large_pipeline_en_3_0.html)  | 34| [ner_diseases_pipeline](https://nlp.johnsnowlabs.com/2022/03/21/ner_diseases_pipeline_en_3_0.html)  | 35| [ner_drugprot_clinical_pipeline](https://nlp.johnsnowlabs.com/2022/03/21/ner_drugprot_clinical_pipeline_en_3_0.html)  | 36| [ner_drugs_greedy_pipeline](https://nlp.johnsnowlabs.com/2022/03/21/ner_drugs_greedy_pipeline_en_3_0.html)  |\n",
    "| 37| [ner_drugs_large_pipeline](https://nlp.johnsnowlabs.com/2022/03/21/ner_drugs_large_pipeline_en_3_0.html)  | 38| [ner_drugs_pipeline](https://nlp.johnsnowlabs.com/2022/03/21/ner_drugs_pipeline_en_3_0.html)  | 39| [ner_events_admission_clinical_pipeline](https://nlp.johnsnowlabs.com/2022/03/21/ner_events_admission_clinical_pipeline_en_3_0.html)  | 40| [ner_events_biobert_pipeline](https://nlp.johnsnowlabs.com/2022/03/21/ner_events_biobert_pipeline_en_3_0.html)  |\n",
    "| 41| [ner_events_clinical_pipeline](https://nlp.johnsnowlabs.com/2022/03/21/ner_events_clinical_pipeline_en_3_0.html)  | 42| [ner_events_healthcare_pipeline](https://nlp.johnsnowlabs.com/2022/03/22/ner_events_healthcare_pipeline_en_3_0.html)  | 43| [ner_genetic_variants_pipeline](https://nlp.johnsnowlabs.com/2022/03/21/ner_genetic_variants_pipeline_en_3_0.html)  | 44| [ner_healthcare_pipeline](https://nlp.johnsnowlabs.com/2022/03/22/ner_healthcare_pipeline_en_3_0.html)  |\n",
    "| 45| [ner_human_phenotype_gene_biobert_pipeline](https://nlp.johnsnowlabs.com/2022/03/21/ner_human_phenotype_gene_biobert_pipeline_en_3_0.html)  | 46| [ner_human_phenotype_gene_clinical_pipeline](https://nlp.johnsnowlabs.com/2022/03/21/ner_human_phenotype_gene_clinical_pipeline_en_3_0.html)  | 47| [ner_human_phenotype_go_biobert_pipeline](https://nlp.johnsnowlabs.com/2022/03/21/ner_human_phenotype_go_biobert_pipeline_en_3_0.html)  | 48| [ner_human_phenotype_go_clinical_pipeline](https://nlp.johnsnowlabs.com/2022/03/21/ner_human_phenotype_go_clinical_pipeline_en_3_0.html)  |\n",
    "| 49| [ner_jsl_biobert_pipeline](https://nlp.johnsnowlabs.com/2022/03/21/ner_jsl_biobert_pipeline_en_3_0.html)  | 50| [ner_jsl_enriched_biobert_pipeline](https://nlp.johnsnowlabs.com/2022/03/21/ner_jsl_enriched_biobert_pipeline_en_3_0.html)  | 51| [ner_jsl_enriched_pipeline](https://nlp.johnsnowlabs.com/2022/03/21/ner_jsl_enriched_pipeline_en_3_0.html)  | 52| [ner_jsl_greedy_biobert_pipeline](https://nlp.johnsnowlabs.com/2022/03/21/ner_jsl_greedy_biobert_pipeline_en_3_0.html)  |\n",
    "| 53| [ner_jsl_greedy_pipeline](https://nlp.johnsnowlabs.com/2022/03/21/ner_jsl_greedy_pipeline_en_3_0.html)  | 54| [ner_jsl_pipeline](https://nlp.johnsnowlabs.com/2022/03/21/ner_jsl_pipeline_en_3_0.html)  | 55| [ner_jsl_slim_pipeline](https://nlp.johnsnowlabs.com/2022/03/21/ner_jsl_slim_pipeline_en_3_0.html)  | 56| [ner_measurements_clinical_pipeline](https://nlp.johnsnowlabs.com/2022/03/21/ner_measurements_clinical_pipeline_en_3_0.html)  |\n",
    "| 57| [ner_medmentions_coarse_pipeline](https://nlp.johnsnowlabs.com/2022/03/21/ner_medmentions_coarse_pipeline_en_3_0.html)  | 58| [ner_nihss_pipeline](https://nlp.johnsnowlabs.com/2022/03/21/ner_nihss_pipeline_en_3_0.html)  | 59| [ner_pathogen_pipeline](https://nlp.johnsnowlabs.com/2022/06/29/ner_pathogen_pipeline_en_3_0.html)  | 60| [ner_posology_biobert_pipeline](https://nlp.johnsnowlabs.com/2022/03/21/ner_posology_biobert_pipeline_en_3_0.html)  |\n",
    "| 61| [ner_posology_experimental_pipeline](https://nlp.johnsnowlabs.com/2022/03/21/ner_posology_experimental_pipeline_en_3_0.html)  | 62| [ner_posology_greedy_pipeline](https://nlp.johnsnowlabs.com/2022/03/21/ner_posology_greedy_pipeline_en_3_0.html)  | 63| [ner_posology_healthcare_pipeline](https://nlp.johnsnowlabs.com/2022/03/22/ner_posology_healthcare_pipeline_en_3_0.html)  | 64| [ner_posology_large_biobert_pipeline](https://nlp.johnsnowlabs.com/2022/03/21/ner_posology_large_biobert_pipeline_en_3_0.html)  |\n",
    "| 65| [ner_posology_large_pipeline](https://nlp.johnsnowlabs.com/2022/03/21/ner_posology_large_pipeline_en_3_0.html)  | 66| [ner_posology_pipeline](https://nlp.johnsnowlabs.com/2022/03/21/ner_posology_pipeline_en_3_0.html)  | 67| [ner_posology_small_pipeline](https://nlp.johnsnowlabs.com/2022/03/21/ner_posology_small_pipeline_en_3_0.html)  | 68| [ner_radiology_pipeline](https://nlp.johnsnowlabs.com/2022/03/21/ner_radiology_pipeline_en_3_0.html)  |\n",
    "| 69| [ner_radiology_wip_clinical_pipeline](https://nlp.johnsnowlabs.com/2022/03/21/ner_radiology_wip_clinical_pipeline_en_3_0.html)  | 70| [ner_risk_factors_biobert_pipeline](https://nlp.johnsnowlabs.com/2022/03/21/ner_risk_factors_biobert_pipeline_en_3_0.html)  | 71| [ner_risk_factors_pipeline](https://nlp.johnsnowlabs.com/2022/03/21/ner_risk_factors_pipeline_en_3_0.html)  | 72| [ner_medication_pipeline](https://nlp.johnsnowlabs.com/2022/07/26/ner_medication_pipeline_en_3_0.html)|"
   ]
  },
  {
   "cell_type": "markdown",
   "metadata": {
    "application/vnd.databricks.v1+cell": {
     "cellMetadata": {
      "byteLimit": 2048000,
      "rowLimit": 10000
     },
     "inputWidgets": {},
     "nuid": "043fb60c-aac5-443d-acec-ba9d469d00f1",
     "showTitle": false,
     "title": ""
    }
   },
   "source": [
    "**Let's show an example of `ner_jsl_pipeline` can label clinical entities with about 80 different labels.**"
   ]
  },
  {
   "cell_type": "code",
   "execution_count": 0,
   "metadata": {
    "application/vnd.databricks.v1+cell": {
     "cellMetadata": {
      "byteLimit": 2048000,
      "rowLimit": 10000
     },
     "inputWidgets": {},
     "nuid": "f1b49339-824e-4c29-bc0d-40b02311f961",
     "showTitle": false,
     "title": ""
    }
   },
   "outputs": [
    {
     "output_type": "stream",
     "name": "stdout",
     "output_type": "stream",
     "text": [
      "ner_jsl_pipeline download started this may take some time.\nApprox size to download 1.6 GB\n\r[ | ]\r[OK!]\n"
     ]
    }
   ],
   "source": [
    "ner_pipeline = nlp.PretrainedPipeline('ner_jsl_pipeline', 'en', 'clinical/models')"
   ]
  },
  {
   "cell_type": "code",
   "execution_count": 0,
   "metadata": {
    "application/vnd.databricks.v1+cell": {
     "cellMetadata": {
      "byteLimit": 2048000,
      "rowLimit": 10000
     },
     "inputWidgets": {},
     "nuid": "aa0b5db8-c092-4c6a-b53a-39816943ebc0",
     "showTitle": false,
     "title": ""
    }
   },
   "outputs": [
    {
     "output_type": "stream",
     "name": "stdout",
     "output_type": "stream",
     "text": [
      "Out[69]: [DocumentAssembler_cefadf0e0f93,\n SentenceDetectorDLModel_c83c27f46b97,\n REGEX_TOKENIZER_9f3518f37649,\n WORD_EMBEDDINGS_MODEL_9004b1d00302,\n MedicalNerModel_c89cbceb1028,\n NER_CONVERTER_42a801d9e143]"
     ]
    }
   ],
   "source": [
    "ner_pipeline.model.stages"
   ]
  },
  {
   "cell_type": "code",
   "execution_count": 0,
   "metadata": {
    "application/vnd.databricks.v1+cell": {
     "cellMetadata": {
      "byteLimit": 2048000,
      "rowLimit": 10000
     },
     "inputWidgets": {},
     "nuid": "a4e21398-4cfd-47f9-9ba2-ef338baf0035",
     "showTitle": false,
     "title": ""
    }
   },
   "outputs": [],
   "source": [
    "text = \"\"\"A 28-year-old female with a history of gestational diabetes mellitus diagnosed eight years prior to presentation and subsequent type two diabetes mellitus ( T2DM ), one prior episode of HTG-induced pancreatitis three years prior to presentation , associated with an acute hepatitis , and obesity with a body mass index ( BMI ) of 33.5 kg/m2 , presented with a one-week history of polyuria , polydipsia , poor appetite , and vomiting . \n",
    "Two weeks prior to presentation , she was treated with a five-day course of amoxicillin for a respiratory tract infection . She was on metformin , glipizide , and dapagliflozin for T2DM and atorvastatin and gemfibrozil for HTG . She had been on dapagliflozin for six months at the time of presentation . Physical examination on presentation was significant for dry oral mucosa ; significantly , her abdominal examination was benign with no tenderness , guarding , or rigidity . \n",
    "Pertinent laboratory findings on admission were : serum glucose 111 mg/dl , bicarbonate 18 mmol/l , anion gap 20 , creatinine 0.4 mg/dL , triglycerides 508 mg/dL , total cholesterol 122 mg/dL , glycated hemoglobin ( HbA1c ) 10% , and venous pH 7.27 . Serum lipase was normal at 43 U/L . Serum acetone levels could not be assessed as blood samples kept hemolyzing due to significant lipemia . \n",
    "The patient was initially admitted for starvation ketosis , as she reported poor oral intake for three days prior to admission . However , serum chemistry obtained six hours after presentation revealed her glucose was 186 mg/dL , the anion gap was still elevated at 21 , serum bicarbonate was 16 mmol/L , triglyceride level peaked at 2050 mg/dL , and lipase was 52 U/L . \n",
    "The β-hydroxybutyrate level was obtained and found to be elevated at 5.29 mmol/L - the original sample was centrifuged and the chylomicron layer removed prior to analysis due to interference from turbidity caused by lipemia again . The patient was treated with an insulin drip for euDKA and HTG with a reduction in the anion gap to 13 and triglycerides to 1400 mg/dL , within 24 hours . \n",
    "Her euDKA was thought to be precipitated by her respiratory tract infection in the setting of SGLT2 inhibitor use . The patient was seen by the endocrinology service and she was discharged on 40 units of insulin glargine at night , 12 units of insulin lispro with meals , and metformin 1000 mg two times a day . \n",
    "It was determined that all SGLT2 inhibitors should be discontinued indefinitely . She had close follow-up with endocrinology post discharge .\"\"\"\n",
    "\n",
    "greedy_result = ner_pipeline.fullAnnotate(text)[0]"
   ]
  },
  {
   "cell_type": "code",
   "execution_count": 0,
   "metadata": {
    "application/vnd.databricks.v1+cell": {
     "cellMetadata": {
      "byteLimit": 2048000,
      "rowLimit": 10000
     },
     "inputWidgets": {},
     "nuid": "542f001f-0bde-4765-9c1f-fd9edb91bfc6",
     "showTitle": false,
     "title": ""
    }
   },
   "outputs": [
    {
     "output_type": "stream",
     "name": "stdout",
     "output_type": "stream",
     "text": [
      "Out[71]: dict_keys(['document', 'ner_chunk', 'token', 'ner', 'embeddings', 'sentence'])"
     ]
    }
   ],
   "source": [
    "greedy_result.keys()"
   ]
  },
  {
   "cell_type": "code",
   "execution_count": 0,
   "metadata": {
    "application/vnd.databricks.v1+cell": {
     "cellMetadata": {
      "byteLimit": 2048000,
      "rowLimit": 10000
     },
     "inputWidgets": {},
     "nuid": "b9c9b6fb-2cd2-4599-84dd-cc083c192bff",
     "showTitle": false,
     "title": ""
    }
   },
   "outputs": [
    {
     "output_type": "display_data",
     "data": {
      "text/html": [
       "<div>\n",
       "<style scoped>\n",
       "    .dataframe tbody tr th:only-of-type {\n",
       "        vertical-align: middle;\n",
       "    }\n",
       "\n",
       "    .dataframe tbody tr th {\n",
       "        vertical-align: top;\n",
       "    }\n",
       "\n",
       "    .dataframe thead th {\n",
       "        text-align: right;\n",
       "    }\n",
       "</style>\n",
       "<table border=\"1\" class=\"dataframe\">\n",
       "  <thead>\n",
       "    <tr style=\"text-align: right;\">\n",
       "      <th></th>\n",
       "      <th>chunks</th>\n",
       "      <th>begin</th>\n",
       "      <th>end</th>\n",
       "      <th>entities</th>\n",
       "    </tr>\n",
       "  </thead>\n",
       "  <tbody>\n",
       "    <tr>\n",
       "      <th>0</th>\n",
       "      <td>28-year-old</td>\n",
       "      <td>2</td>\n",
       "      <td>12</td>\n",
       "      <td>Age</td>\n",
       "    </tr>\n",
       "    <tr>\n",
       "      <th>1</th>\n",
       "      <td>female</td>\n",
       "      <td>14</td>\n",
       "      <td>19</td>\n",
       "      <td>Gender</td>\n",
       "    </tr>\n",
       "    <tr>\n",
       "      <th>2</th>\n",
       "      <td>gestational diabetes mellitus</td>\n",
       "      <td>39</td>\n",
       "      <td>67</td>\n",
       "      <td>Diabetes</td>\n",
       "    </tr>\n",
       "    <tr>\n",
       "      <th>3</th>\n",
       "      <td>eight years prior</td>\n",
       "      <td>79</td>\n",
       "      <td>95</td>\n",
       "      <td>RelativeDate</td>\n",
       "    </tr>\n",
       "    <tr>\n",
       "      <th>4</th>\n",
       "      <td>type two diabetes mellitus</td>\n",
       "      <td>128</td>\n",
       "      <td>153</td>\n",
       "      <td>Diabetes</td>\n",
       "    </tr>\n",
       "    <tr>\n",
       "      <th>...</th>\n",
       "      <td>...</td>\n",
       "      <td>...</td>\n",
       "      <td>...</td>\n",
       "      <td>...</td>\n",
       "    </tr>\n",
       "    <tr>\n",
       "      <th>116</th>\n",
       "      <td>two times a day</td>\n",
       "      <td>2362</td>\n",
       "      <td>2376</td>\n",
       "      <td>Frequency</td>\n",
       "    </tr>\n",
       "    <tr>\n",
       "      <th>117</th>\n",
       "      <td>SGLT2 inhibitors</td>\n",
       "      <td>2408</td>\n",
       "      <td>2423</td>\n",
       "      <td>Drug_Ingredient</td>\n",
       "    </tr>\n",
       "    <tr>\n",
       "      <th>118</th>\n",
       "      <td>She</td>\n",
       "      <td>2463</td>\n",
       "      <td>2465</td>\n",
       "      <td>Gender</td>\n",
       "    </tr>\n",
       "    <tr>\n",
       "      <th>119</th>\n",
       "      <td>endocrinology</td>\n",
       "      <td>2492</td>\n",
       "      <td>2504</td>\n",
       "      <td>Clinical_Dept</td>\n",
       "    </tr>\n",
       "    <tr>\n",
       "      <th>120</th>\n",
       "      <td>discharge</td>\n",
       "      <td>2511</td>\n",
       "      <td>2519</td>\n",
       "      <td>Admission_Discharge</td>\n",
       "    </tr>\n",
       "  </tbody>\n",
       "</table>\n",
       "<p>121 rows × 4 columns</p>\n",
       "</div>"
      ]
     },
     "metadata": {
      "application/vnd.databricks.v1+output": {
       "addedWidgets": {},
       "arguments": {},
       "data": "<div>\n<style scoped>\n    .dataframe tbody tr th:only-of-type {\n        vertical-align: middle;\n    }\n\n    .dataframe tbody tr th {\n        vertical-align: top;\n    }\n\n    .dataframe thead th {\n        text-align: right;\n    }\n</style>\n<table border=\"1\" class=\"dataframe\">\n  <thead>\n    <tr style=\"text-align: right;\">\n      <th></th>\n      <th>chunks</th>\n      <th>begin</th>\n      <th>end</th>\n      <th>entities</th>\n    </tr>\n  </thead>\n  <tbody>\n    <tr>\n      <th>0</th>\n      <td>28-year-old</td>\n      <td>2</td>\n      <td>12</td>\n      <td>Age</td>\n    </tr>\n    <tr>\n      <th>1</th>\n      <td>female</td>\n      <td>14</td>\n      <td>19</td>\n      <td>Gender</td>\n    </tr>\n    <tr>\n      <th>2</th>\n      <td>gestational diabetes mellitus</td>\n      <td>39</td>\n      <td>67</td>\n      <td>Diabetes</td>\n    </tr>\n    <tr>\n      <th>3</th>\n      <td>eight years prior</td>\n      <td>79</td>\n      <td>95</td>\n      <td>RelativeDate</td>\n    </tr>\n    <tr>\n      <th>4</th>\n      <td>type two diabetes mellitus</td>\n      <td>128</td>\n      <td>153</td>\n      <td>Diabetes</td>\n    </tr>\n    <tr>\n      <th>...</th>\n      <td>...</td>\n      <td>...</td>\n      <td>...</td>\n      <td>...</td>\n    </tr>\n    <tr>\n      <th>116</th>\n      <td>two times a day</td>\n      <td>2362</td>\n      <td>2376</td>\n      <td>Frequency</td>\n    </tr>\n    <tr>\n      <th>117</th>\n      <td>SGLT2 inhibitors</td>\n      <td>2408</td>\n      <td>2423</td>\n      <td>Drug_Ingredient</td>\n    </tr>\n    <tr>\n      <th>118</th>\n      <td>She</td>\n      <td>2463</td>\n      <td>2465</td>\n      <td>Gender</td>\n    </tr>\n    <tr>\n      <th>119</th>\n      <td>endocrinology</td>\n      <td>2492</td>\n      <td>2504</td>\n      <td>Clinical_Dept</td>\n    </tr>\n    <tr>\n      <th>120</th>\n      <td>discharge</td>\n      <td>2511</td>\n      <td>2519</td>\n      <td>Admission_Discharge</td>\n    </tr>\n  </tbody>\n</table>\n<p>121 rows × 4 columns</p>\n</div>",
       "datasetInfos": [],
       "metadata": {},
       "removedWidgets": [],
       "textData": null,
       "type": "htmlSandbox"
      }
     },
     "output_type": "display_data"
    }
   ],
   "source": [
    "import pandas as pd\n",
    "\n",
    "chunks=[]\n",
    "entities=[]\n",
    "begins=[]\n",
    "ends=[]\n",
    "\n",
    "for n in greedy_result['ner_chunk']:\n",
    "    \n",
    "    chunks.append(n.result)\n",
    "    begins.append(n.begin)\n",
    "    ends.append(n.end)\n",
    "    entities.append(n.metadata['entity']) \n",
    "        \n",
    "df = pd.DataFrame({'chunks':chunks, 'begin':begins, 'end':ends, 'entities':entities})\n",
    "\n",
    "df"
   ]
  },
  {
   "cell_type": "markdown",
   "metadata": {
    "application/vnd.databricks.v1+cell": {
     "cellMetadata": {
      "byteLimit": 2048000,
      "rowLimit": 10000
     },
     "inputWidgets": {},
     "nuid": "664957ec-fd67-4d25-8a8d-afa88691bb07",
     "showTitle": false,
     "title": ""
    }
   },
   "source": [
    "## 8.Bert Based NER Pipelines"
   ]
  },
  {
   "cell_type": "markdown",
   "metadata": {
    "application/vnd.databricks.v1+cell": {
     "cellMetadata": {
      "byteLimit": 2048000,
      "rowLimit": 10000
     },
     "inputWidgets": {},
     "nuid": "63fe0236-4f57-4d83-97c8-cbff87e4437a",
     "showTitle": false,
     "title": ""
    }
   },
   "source": [
    "**`bert token classification pretrained ` Model List**\n",
    "\n",
    "\n",
    "|index|model|index|model|\n",
    "|-----:|:-----|-----:|:-----|\n",
    "| 1| [bert_token_classifier_drug_development_trials_pipeline](https://nlp.johnsnowlabs.com/2022/03/23/bert_token_classifier_drug_development_trials_pipeline_en_3_0.html)  | 8| [bert_token_classifier_ner_chemprot_pipeline](https://nlp.johnsnowlabs.com/2022/03/21/bert_token_classifier_ner_chemprot_pipeline_en_3_0.html)  |\n",
    "| 2| [bert_token_classifier_ner_ade_pipeline](https://nlp.johnsnowlabs.com/2022/03/21/bert_token_classifier_ner_ade_pipeline_en_3_0.html)  | 9| [bert_token_classifier_ner_clinical_pipeline](https://nlp.johnsnowlabs.com/2022/03/21/bert_token_classifier_ner_clinical_pipeline_en_3_0.html)  |\n",
    "| 3| [bert_token_classifier_ner_anatomy_pipeline](https://nlp.johnsnowlabs.com/2022/03/21/bert_token_classifier_ner_anatomy_pipeline_en_3_0.html)  | 10| [bert_token_classifier_ner_deid_pipeline](https://nlp.johnsnowlabs.com/2022/03/21/bert_token_classifier_ner_deid_pipeline_en_3_0.html)  |\n",
    "| 4| [bert_token_classifier_ner_bacteria_pipeline](https://nlp.johnsnowlabs.com/2022/03/21/bert_token_classifier_ner_bacteria_pipeline_en_3_0.html)  | 11| [bert_token_classifier_ner_drugs_pipeline](https://nlp.johnsnowlabs.com/2022/03/21/bert_token_classifier_ner_drugs_pipeline_en_3_0.html)  |\n",
    "| 5| [bert_token_classifier_ner_bionlp_pipeline](https://nlp.johnsnowlabs.com/2022/03/21/bert_token_classifier_ner_bionlp_pipeline_en_3_0.html)  | 12| [bert_token_classifier_ner_jsl_pipeline](https://nlp.johnsnowlabs.com/2022/03/23/bert_token_classifier_ner_jsl_pipeline_en_3_0.html)  |\n",
    "| 6| [bert_token_classifier_ner_cellular_pipeline](https://nlp.johnsnowlabs.com/2022/03/21/bert_token_classifier_ner_cellular_pipeline_en_3_0.html)  | 13| [bert_token_classifier_ner_jsl_slim_pipeline](https://nlp.johnsnowlabs.com/2022/03/21/bert_token_classifier_ner_jsl_slim_pipeline_en_3_0.html)  |\n",
    "| 7| [bert_token_classifier_ner_chemicals_pipeline](https://nlp.johnsnowlabs.com/2022/03/21/bert_token_classifier_ner_chemicals_pipeline_en_3_0.html)  |"
   ]
  },
  {
   "cell_type": "markdown",
   "metadata": {
    "application/vnd.databricks.v1+cell": {
     "cellMetadata": {
      "byteLimit": 2048000,
      "rowLimit": 10000
     },
     "inputWidgets": {},
     "nuid": "e8b47be2-020a-41a5-924b-a4d11767cb04",
     "showTitle": false,
     "title": ""
    }
   },
   "source": [
    "**Let's show an example of `bert_token_classifier_ner_drugs_pipeline` can extract `DRUG` entities in clinical texts.**"
   ]
  },
  {
   "cell_type": "code",
   "execution_count": 0,
   "metadata": {
    "application/vnd.databricks.v1+cell": {
     "cellMetadata": {
      "byteLimit": 2048000,
      "rowLimit": 10000
     },
     "inputWidgets": {},
     "nuid": "ac5afc22-c608-449c-b937-800521270d02",
     "showTitle": false,
     "title": ""
    }
   },
   "outputs": [
    {
     "output_type": "stream",
     "name": "stdout",
     "output_type": "stream",
     "text": [
      "bert_token_classifier_ner_drugs_pipeline download started this may take some time.\nApprox size to download 386.1 MB\n\r[ | ]\r[OK!]\n"
     ]
    }
   ],
   "source": [
    "bert_token_pipeline = nlp.PretrainedPipeline(\"bert_token_classifier_ner_drugs_pipeline\", \"en\", \"clinical/models\")"
   ]
  },
  {
   "cell_type": "code",
   "execution_count": 0,
   "metadata": {
    "application/vnd.databricks.v1+cell": {
     "cellMetadata": {
      "byteLimit": 2048000,
      "rowLimit": 10000
     },
     "inputWidgets": {},
     "nuid": "ca2262c5-0cd1-4c52-9af9-c915c4b2fde0",
     "showTitle": false,
     "title": ""
    }
   },
   "outputs": [
    {
     "output_type": "stream",
     "name": "stdout",
     "output_type": "stream",
     "text": [
      "Out[74]: [DocumentAssembler_fbb1736f8270,\n SentenceDetectorDLModel_8aaebf7e098e,\n REGEX_TOKENIZER_850521bf52e3,\n BERT_FOR_TOKEN_CLASSIFICATION_3fa6213c0542,\n NER_CONVERTER_70b935c1d6d8]"
     ]
    }
   ],
   "source": [
    "bert_token_pipeline.model.stages"
   ]
  },
  {
   "cell_type": "code",
   "execution_count": 0,
   "metadata": {
    "application/vnd.databricks.v1+cell": {
     "cellMetadata": {
      "byteLimit": 2048000,
      "rowLimit": 10000
     },
     "inputWidgets": {},
     "nuid": "129171d4-a232-448b-8235-5d8eb4b73ba5",
     "showTitle": false,
     "title": ""
    }
   },
   "outputs": [],
   "source": [
    "test_sentence = \"\"\"The human KCNJ9 (Kir 3.3, GIRK3) is a member of the G-protein-activated inwardly rectifying potassium (GIRK) channel family. Here we describe the genomicorganization of the KCNJ9 locus on chromosome 1q21-23 as a candidate gene forType II diabetes mellitus in the Pima Indian population. The gene spansapproximately 7.6 kb and contains one noncoding and two coding exons separated byapproximately 2.2 and approximately 2.6 kb introns, respectively. We identified14 single nucleotide polymorphisms (SNPs), including one that predicts aVal366Ala substitution, and an 8 base-pair (bp) insertion/deletion. Ourexpression studies revealed the presence of the transcript in various humantissues including pancreas, and two major insulin-responsive tissues: fat andskeletal muscle. The characterization of the KCNJ9 gene should facilitate furtherstudies on the function of the KCNJ9 protein and allow evaluation of thepotential role of the locus in Type II diabetes.BACKGROUND: At present, it is one of the most important issues for the treatment of breast cancer to develop the standard therapy for patients previously treated with anthracyclines and taxanes. With the objective of determining the usefulnessof vinorelbine monotherapy in patients with advanced or recurrent breast cancerafter standard therapy, we evaluated the efficacy and safety of vinorelbine inpatients previously treated with anthracyclines and taxanes.\"\"\"\n",
    "\n",
    "bert_result = bert_token_pipeline.fullAnnotate(test_sentence)[0]"
   ]
  },
  {
   "cell_type": "code",
   "execution_count": 0,
   "metadata": {
    "application/vnd.databricks.v1+cell": {
     "cellMetadata": {
      "byteLimit": 2048000,
      "rowLimit": 10000
     },
     "inputWidgets": {},
     "nuid": "dc201eb3-4a0d-4254-b5fd-96fe7ec18a5c",
     "showTitle": false,
     "title": ""
    }
   },
   "outputs": [
    {
     "output_type": "stream",
     "name": "stdout",
     "output_type": "stream",
     "text": [
      "Out[76]: dict_keys(['document', 'ner_chunk', 'token', 'ner', 'sentence'])"
     ]
    }
   ],
   "source": [
    "bert_result.keys()"
   ]
  },
  {
   "cell_type": "code",
   "execution_count": 0,
   "metadata": {
    "application/vnd.databricks.v1+cell": {
     "cellMetadata": {
      "byteLimit": 2048000,
      "rowLimit": 10000
     },
     "inputWidgets": {},
     "nuid": "323e85e9-4cc7-413c-91df-c14f3ef5fdd0",
     "showTitle": false,
     "title": ""
    }
   },
   "outputs": [
    {
     "output_type": "stream",
     "name": "stdout",
     "output_type": "stream",
     "text": [
      "Out[77]: Annotation(chunk, 92, 100, potassium, {'chunk': '0', 'confidence': '0.9902544', 'ner_source': 'ner_chunk', 'entity': 'DrugChem', 'sentence': '0'}, [])"
     ]
    }
   ],
   "source": [
    "bert_result[\"ner_chunk\"][0]"
   ]
  },
  {
   "cell_type": "code",
   "execution_count": 0,
   "metadata": {
    "application/vnd.databricks.v1+cell": {
     "cellMetadata": {
      "byteLimit": 2048000,
      "rowLimit": 10000
     },
     "inputWidgets": {},
     "nuid": "99ff16cd-713f-4bc5-b201-1622a7dd5f1c",
     "showTitle": false,
     "title": ""
    }
   },
   "outputs": [
    {
     "output_type": "display_data",
     "data": {
      "text/html": [
       "<div>\n",
       "<style scoped>\n",
       "    .dataframe tbody tr th:only-of-type {\n",
       "        vertical-align: middle;\n",
       "    }\n",
       "\n",
       "    .dataframe tbody tr th {\n",
       "        vertical-align: top;\n",
       "    }\n",
       "\n",
       "    .dataframe thead th {\n",
       "        text-align: right;\n",
       "    }\n",
       "</style>\n",
       "<table border=\"1\" class=\"dataframe\">\n",
       "  <thead>\n",
       "    <tr style=\"text-align: right;\">\n",
       "      <th></th>\n",
       "      <th>chunks</th>\n",
       "      <th>begin</th>\n",
       "      <th>end</th>\n",
       "      <th>entities</th>\n",
       "    </tr>\n",
       "  </thead>\n",
       "  <tbody>\n",
       "    <tr>\n",
       "      <th>0</th>\n",
       "      <td>potassium</td>\n",
       "      <td>92</td>\n",
       "      <td>100</td>\n",
       "      <td>DrugChem</td>\n",
       "    </tr>\n",
       "    <tr>\n",
       "      <th>1</th>\n",
       "      <td>nucleotide</td>\n",
       "      <td>471</td>\n",
       "      <td>480</td>\n",
       "      <td>DrugChem</td>\n",
       "    </tr>\n",
       "    <tr>\n",
       "      <th>2</th>\n",
       "      <td>anthracyclines</td>\n",
       "      <td>1124</td>\n",
       "      <td>1137</td>\n",
       "      <td>DrugChem</td>\n",
       "    </tr>\n",
       "    <tr>\n",
       "      <th>3</th>\n",
       "      <td>taxanes</td>\n",
       "      <td>1143</td>\n",
       "      <td>1149</td>\n",
       "      <td>DrugChem</td>\n",
       "    </tr>\n",
       "    <tr>\n",
       "      <th>4</th>\n",
       "      <td>vinorelbine</td>\n",
       "      <td>1203</td>\n",
       "      <td>1213</td>\n",
       "      <td>DrugChem</td>\n",
       "    </tr>\n",
       "    <tr>\n",
       "      <th>5</th>\n",
       "      <td>vinorelbine</td>\n",
       "      <td>1343</td>\n",
       "      <td>1353</td>\n",
       "      <td>DrugChem</td>\n",
       "    </tr>\n",
       "    <tr>\n",
       "      <th>6</th>\n",
       "      <td>anthracyclines</td>\n",
       "      <td>1390</td>\n",
       "      <td>1403</td>\n",
       "      <td>DrugChem</td>\n",
       "    </tr>\n",
       "    <tr>\n",
       "      <th>7</th>\n",
       "      <td>taxanes</td>\n",
       "      <td>1409</td>\n",
       "      <td>1415</td>\n",
       "      <td>DrugChem</td>\n",
       "    </tr>\n",
       "  </tbody>\n",
       "</table>\n",
       "</div>"
      ]
     },
     "metadata": {
      "application/vnd.databricks.v1+output": {
       "addedWidgets": {},
       "arguments": {},
       "data": "<div>\n<style scoped>\n    .dataframe tbody tr th:only-of-type {\n        vertical-align: middle;\n    }\n\n    .dataframe tbody tr th {\n        vertical-align: top;\n    }\n\n    .dataframe thead th {\n        text-align: right;\n    }\n</style>\n<table border=\"1\" class=\"dataframe\">\n  <thead>\n    <tr style=\"text-align: right;\">\n      <th></th>\n      <th>chunks</th>\n      <th>begin</th>\n      <th>end</th>\n      <th>entities</th>\n    </tr>\n  </thead>\n  <tbody>\n    <tr>\n      <th>0</th>\n      <td>potassium</td>\n      <td>92</td>\n      <td>100</td>\n      <td>DrugChem</td>\n    </tr>\n    <tr>\n      <th>1</th>\n      <td>nucleotide</td>\n      <td>471</td>\n      <td>480</td>\n      <td>DrugChem</td>\n    </tr>\n    <tr>\n      <th>2</th>\n      <td>anthracyclines</td>\n      <td>1124</td>\n      <td>1137</td>\n      <td>DrugChem</td>\n    </tr>\n    <tr>\n      <th>3</th>\n      <td>taxanes</td>\n      <td>1143</td>\n      <td>1149</td>\n      <td>DrugChem</td>\n    </tr>\n    <tr>\n      <th>4</th>\n      <td>vinorelbine</td>\n      <td>1203</td>\n      <td>1213</td>\n      <td>DrugChem</td>\n    </tr>\n    <tr>\n      <th>5</th>\n      <td>vinorelbine</td>\n      <td>1343</td>\n      <td>1353</td>\n      <td>DrugChem</td>\n    </tr>\n    <tr>\n      <th>6</th>\n      <td>anthracyclines</td>\n      <td>1390</td>\n      <td>1403</td>\n      <td>DrugChem</td>\n    </tr>\n    <tr>\n      <th>7</th>\n      <td>taxanes</td>\n      <td>1409</td>\n      <td>1415</td>\n      <td>DrugChem</td>\n    </tr>\n  </tbody>\n</table>\n</div>",
       "datasetInfos": [],
       "metadata": {},
       "removedWidgets": [],
       "textData": null,
       "type": "htmlSandbox"
      }
     },
     "output_type": "display_data"
    }
   ],
   "source": [
    "import pandas as pd\n",
    "\n",
    "chunks=[]\n",
    "entities=[]\n",
    "begins=[]\n",
    "ends=[]\n",
    "\n",
    "for n in bert_result['ner_chunk']:\n",
    "    \n",
    "    chunks.append(n.result)\n",
    "    begins.append(n.begin)\n",
    "    ends.append(n.end)\n",
    "    entities.append(n.metadata['entity']) \n",
    "        \n",
    "df = pd.DataFrame({'chunks':chunks, 'begin':begins, 'end':ends, 'entities':entities})\n",
    "\n",
    "df"
   ]
  },
  {
   "cell_type": "markdown",
   "metadata": {
    "application/vnd.databricks.v1+cell": {
     "cellMetadata": {
      "byteLimit": 2048000,
      "rowLimit": 10000
     },
     "inputWidgets": {},
     "nuid": "64d1f181-e94f-4672-a31f-0d0e91e24857",
     "showTitle": false,
     "title": ""
    }
   },
   "source": [
    "## 9.NER Profiling Pipelines\n",
    "\n",
    "We can use pretrained NER profiling pipelines for exploring all the available pretrained NER models at once. In Spark NLP we have two different NER profiling pipelines;\n",
    "\n",
    "- `ner_profiling_clinical` : Returns results for clinical NER models trained with `embeddings_clinical`.\n",
    "- `ner_profiling_biobert` : Returns results for clinical NER models trained with `biobert_pubmed_base_cased`.\n",
    "\n",
    "For more examples, please check [this notebook](https://github.com/JohnSnowLabs/spark-nlp-workshop/blob/master/tutorials/Certification_Trainings/Healthcare/11.2.Pretrained_NER_Profiling_Pipelines.ipynb)."
   ]
  },
  {
   "cell_type": "markdown",
   "metadata": {
    "application/vnd.databricks.v1+cell": {
     "cellMetadata": {
      "byteLimit": 2048000,
      "rowLimit": 10000
     },
     "inputWidgets": {},
     "nuid": "b797eeaa-ba0e-4238-89e9-90df60909ae3",
     "showTitle": false,
     "title": ""
    }
   },
   "source": [
    "<center><b>NER Profiling Clinical Model List</b>\n",
    "\n",
    "|| | | |\n",
    "|--------------|-----------------|-----------------|-----------------|\n",
    "| jsl_ner_wip_clinical | jsl_ner_wip_greedy_clinical | jsl_ner_wip_modifier_clinical | jsl_rd_ner_wip_greedy_clinical |\n",
    "| ner_abbreviation_clinical | ner_ade_binary | ner_ade_clinical | ner_anatomy |\n",
    "| ner_anatomy_coarse | ner_bacterial_species | ner_biomarker | ner_biomedical_bc2gm |\n",
    "| ner_bionlp | ner_cancer_genetics | ner_cellular | ner_chemd_clinical |\n",
    "| ner_chemicals | ner_chemprot_clinical | ner_chexpert | ner_clinical |\n",
    "| ner_clinical_large | ner_clinical_trials_abstracts | ner_covid_trials | ner_deid_augmented |\n",
    "| ner_deid_enriched | ner_deid_generic_augmented | ner_deid_large | ner_deid_sd |\n",
    "| ner_deid_sd_large | ner_deid_subentity_augmented | ner_deid_subentity_augmented_i2b2 | ner_deid_synthetic |\n",
    "| ner_deidentify_dl | ner_diseases | ner_diseases_large | ner_drugprot_clinical |\n",
    "| ner_drugs | ner_drugs_greedy | ner_drugs_large | ner_events_admission_clinical |\n",
    "| ner_events_clinical | ner_genetic_variants | ner_human_phenotype_gene_clinical | ner_human_phenotype_go_clinical |\n",
    "| ner_jsl | ner_jsl_enriched | ner_jsl_greedy | ner_jsl_slim |\n",
    "| ner_living_species | ner_measurements_clinical | ner_medmentions_coarse | ner_nature_nero_clinical |\n",
    "| ner_nihss | ner_pathogen | ner_posology | ner_posology_experimental |\n",
    "| ner_posology_greedy | ner_posology_large | ner_posology_small | ner_radiology |\n",
    "| ner_radiology_wip_clinical | ner_risk_factors | ner_supplement_clinical | nerdl_tumour_demo |\n",
    "\n",
    "<b>NER Profiling BioBert Model List</b>\n",
    "\n",
    "| | |\n",
    "|-|-|\n",
    "| ner_cellular_biobert           | ner_clinical_biobert             |\n",
    "| ner_diseases_biobert           | ner_anatomy_coarse_biobert       |\n",
    "| ner_events_biobert             | ner_human_phenotype_gene_biobert |\n",
    "| ner_bionlp_biobert             | ner_posology_large_biobert       |\n",
    "| ner_jsl_greedy_biobert         | jsl_rd_ner_wip_greedy_biobert    |\n",
    "| ner_jsl_biobert                | ner_posology_biobert             |\n",
    "| ner_anatomy_biobert            | jsl_ner_wip_greedy_biobert       |\n",
    "| ner_jsl_enriched_biobert       | ner_chemprot_biobert             |\n",
    "| ner_human_phenotype_go_biobert | ner_ade_biobert                  |\n",
    "| ner_deid_biobert               | ner_risk_factors_biobert         |\n",
    "| ner_deid_enriched_biobert      | ner_living_species_biobert                                |\n",
    "\n",
    "\n",
    "</center>\n",
    "\n",
    "You can check [Models Hub](https://nlp.johnsnowlabs.com/models) page for more information about all these models and more."
   ]
  },
  {
   "cell_type": "code",
   "execution_count": 0,
   "metadata": {
    "application/vnd.databricks.v1+cell": {
     "cellMetadata": {
      "byteLimit": 2048000,
      "rowLimit": 10000
     },
     "inputWidgets": {},
     "nuid": "086f9bde-c640-48f1-905a-0162bcdbb98a",
     "showTitle": false,
     "title": ""
    }
   },
   "outputs": [
    {
     "output_type": "stream",
     "name": "stdout",
     "output_type": "stream",
     "text": [
      "ner_profiling_clinical download started this may take some time.\nApprox size to download 2.9 GB\n\r[ | ]\r[ / ]\r[ — ]\r[ \\ ]\r[ | ]\r[ / ]\r[ — ]\r[ \\ ]\r[ | ]\r[ / ]\r[ — ]\r[ \\ ]\r[ | ]\r[ / ]\r[ — ]\r[ \\ ]\r[ | ]\r[ / ]\r[ — ]\r[ \\ ]\r[ | ]\r[ / ]\r[ — ]\r[ \\ ]\r[ | ]\r[ / ]\r[ — ]\r[ \\ ]\r[ | ]\r[ / ]\r[ — ]\r[ \\ ]\r[ | ]\r[ / ]\r[ — ]\r[ \\ ]\r[ | ]\r[ / ]\r[ — ]\r[ \\ ]\r[ | ]\r[ / ]\r[ — ]\r[ \\ ]\r[ | ]\r[ / ]\r[ — ]\r[ \\ ]\r[ | ]\r[ / ]\r[ — ]\r[ \\ ]\r[ | ]\r[ / ]\r[ — ]\r[ \\ ]\r[ | ]\r[ / ]\r[ — ]\r[ \\ ]\r[ | ]\r[ / ]\r[ — ]\r[ \\ ]\r[ | ]\r[ / ]\r[ — ]\r[ \\ ]\r[ | ]\r[ / ]\r[ — ]\r[ \\ ]\r[ | ]\r[ / ]\r[ — ]\r[ \\ ]\r[ | ]\r[ / ]\r[ — ]\r[ \\ ]\r[ | ]\r[ / ]\r[ — ]\r[ \\ ]\r[ | ]\r[ / ]\r[ — ]\r[ \\ ]\r[ | ]\r[ / ]\r[ — ]\r[ \\ ]\r[ | ]\r[ / ]\r[ — ]\r[ \\ ]\r[ | ]\r[ / ]\r[ — ]\r[ \\ ]\r[ | ]\r[ / ]\r[ — ]\r[ \\ ]\r[ | ]\r[ / ]\r[ — ]\r[ \\ ]\r[ | ]\r[ / ]\r[ — ]\r[ \\ ]\r[ | ]\r[ / ]\r[ — ]\r[ \\ ]\r[ | ]\r[ / ]\r[ — ]\r[ \\ ]\r[ | ]\r[ / ]\r[ — ]\r[ \\ ]\r[ | ]\r[ / ]\r[ — ]\r[ \\ ]\r[ | ]\r[ / ]\r[ — ]\r[ \\ ]\r[ | ]\r[ / ]\r[ — ]\r[ \\ ]\r[ | ]\r[ / ]\r[ — ]\r[ \\ ]\r[ | ]\r[ / ]\r[ — ]\r[ \\ ]\r[ | ]\r[ / ]\r[ — ]\r[ \\ ]\r[ | ]\r[ / ]\r[ — ]\r[ \\ ]\r[ | ]\r[ / ]\r[ — ]\r[ \\ ]\r[ | ]\r[ / ]\r[ — ]\r[ \\ ]\r[ | ]\r[ / ]\r[ — ]\r[ \\ ]\r[ | ]\r[ / ]\r[ — ]\r[ \\ ]\r[ | ]\r[ / ]\r[ — ]\r[ \\ ]\r[ | ]\r[ / ]\r[ — ]\r[ \\ ]\r[ | ]\r[ / ]\r[ — ]\r[ \\ ]\r[ | ]\r[ / ]\r[ — ]\r[ \\ ]\r[ | ]\r[ / ]\r[ — ]\r[ \\ ]\r[ | ]\r[ / ]\r[ — ]\r[ \\ ]\r[ | ]\r[ / ]\r[ — ]\r[ \\ ]\r[ | ]\r[ / ]\r[ — ]\r[ \\ ]\r[ | ]\r[ / ]\r[ — ]\r[ \\ ]\r[ | ]\r[ / ]\r[ — ]\r[ \\ ]\r[ | ]\r[ / ]\r[ — ]\r[ \\ ]\r[ | ]\r[ / ]\r[ — ]\r[ \\ ]\r[ | ]\r[ / ]\r[ — ]\r[ \\ ]\r[ | ]\r[ / ]\r[ — ]\r[ \\ ]\r[ | ]\r[ / ]\r[ — ]\r[ \\ ]\r[ | ]\r[ / ]\r[ — ]\r[ \\ ]\r[ | ]\r[ / ]\r[ — ]\r[ \\ ]\r[ | ]\r[ / ]\r[ — ]\r[ \\ ]\r[ | ]\r[ / ]\r[ — ]\r[ \\ ]\r[ | ]\r[ / ]\r[ — ]\r[ \\ ]\r[ | ]\r[ / ]\r[ — ]\r[ \\ ]\r[ | ]\r[ / ]\r[ — ]\r[ \\ ]\r[ | ]\r[ / ]\r[ — ]\r[ \\ ]\r[ | ]\r[ / ]\r[ — ]\r[ \\ ]\r[ | ]\r[ / ]\r[ — ]\r[ \\ ]\r[ | ]\r[ / ]\r[ — ]\r[ \\ ]\r[ | ]\r[ / ]\r[ — ]\r[ \\ ]\r[ | ]\r[ / ]\r[ — ]\r[ \\ ]\r[ | ]\r[ / ]\r[ — ]\r[ \\ ]\r[ | ]\r[ / ]\r[ — ]\r[ \\ ]\r[ | ]\r[ / ]\r[ — ]\r[ \\ ]\r[ | ]\r[ / ]\r[ — ]\r[ \\ ]\r[ | ]\r[ / ]\r[OK!]\n"
     ]
    }
   ],
   "source": [
    "clinical_profiling_pipeline = nlp.PretrainedPipeline(\"ner_profiling_clinical\", \"en\", \"clinical/models\")"
   ]
  },
  {
   "cell_type": "code",
   "execution_count": 0,
   "metadata": {
    "application/vnd.databricks.v1+cell": {
     "cellMetadata": {
      "byteLimit": 2048000,
      "rowLimit": 10000
     },
     "inputWidgets": {},
     "nuid": "f4e58ad4-7bc7-491e-bab5-dc86830b52a4",
     "showTitle": false,
     "title": ""
    }
   },
   "outputs": [],
   "source": [
    "text = '''A 28-year-old female with a history of gestational diabetes mellitus diagnosed eight years prior to presentation and subsequent type two diabetes mellitus ( T2DM ), one prior episode of HTG-induced pancreatitis three years prior to presentation , associated with an acute hepatitis , and obesity with a body mass index ( BMI ) of 33.5 kg/m2 , presented with a one-week history of polyuria , polydipsia , poor appetite , and vomiting .'''"
   ]
  },
  {
   "cell_type": "code",
   "execution_count": 0,
   "metadata": {
    "application/vnd.databricks.v1+cell": {
     "cellMetadata": {
      "byteLimit": 2048000,
      "rowLimit": 10000
     },
     "inputWidgets": {},
     "nuid": "3d62bf0c-6185-44fa-adf8-9d8b77150ce6",
     "showTitle": false,
     "title": ""
    }
   },
   "outputs": [
    {
     "output_type": "stream",
     "name": "stdout",
     "output_type": "stream",
     "text": [
      "Out[5]: dict_keys(['ner_vop_problem_wip_chunks', 'ner_sdoh_demographics_wip_chunks', 'ner_ade_clinical_chunks', 'ner_deid_augmented', 'ner_deid_subentity_augmented_i2b2', 'ner_posology_greedy_chunks', 'ner_vop_demographic_wip_chunks', 'ner_sdoh_community_condition_wip_chunks', 'ner_radiology_wip_clinical', 'ner_vop_slim_wip', 'ner_oncology_diagnosis_chunks', 'ner_vop_test_wip_chunks', 'ner_jsl_slim', 'ner_vop_wip', 'ner_risk_factors_chunks', 'jsl_ner_wip_clinical_chunks', 'ner_oncology_unspecific_posology_chunks', 'ner_vop_problem_reduced_wip', 'ner_vop_anatomy_wip', 'ner_vop_problem_reduced_wip_chunks', 'ner_eu_clinical_case_chunks', 'ner_oncology_test_chunks', 'ner_deid_synthetic', 'ner_oncology_posology_chunks', 'ner_oncology_tnm_chunks', 'ner_oncology_anatomy_general_chunks', 'ner_drugs_greedy', 'ner_abbreviation_clinical_chunks', 'ner_covid_trials_chunks', 'ner_human_phenotype_gene_clinical_chunks', 'ner_events_admission_clinical', 'jsl_ner_wip_greedy_clinical_chunks', 'ner_posology_greedy', 'ner_cellular_chunks', 'ner_vop_clinical_dept_wip', 'ner_cancer_genetics_chunks', 'ner_biomedical_bc2gm_chunks', 'ner_oncology', 'ner_jsl_greedy', 'jsl_ner_wip_modifier_clinical_chunks', 'ner_drugs_greedy_chunks', 'ner_sdoh_access_to_healthcare_wip', 'ner_deid_sd_large_chunks', 'ner_diseases_chunks', 'ner_diseases_large', 'ner_chemprot_clinical', 'ner_posology_large', 'nerdl_tumour_demo_chunks', 'ner_oncology_chunks', 'ner_deid_subentity_augmented_chunks', 'ner_jsl_enriched_chunks', 'ner_genetic_variants_chunks', 'ner_sdoh_income_social_status_wip_chunks', 'ner_chexpert', 'ner_bionlp_chunks', 'ner_eu_clinical_condition_chunks', 'ner_measurements_clinical_chunks', 'ner_diseases_large_chunks', 'ner_drugs_large', 'ner_living_species_chunks', 'ner_oncology_therapy_chunks', 'ner_clinical_large', 'ner_chemicals', 'ner_sdoh_slim_wip', 'ner_radiology_chunks', 'ner_bacterial_species', 'ner_deid_augmented_chunks', 'ner_bionlp', 'ner_drugprot_clinical', 'ner_anatomy_chunks', 'ner_deid_subentity_augmented_i2b2_chunks', 'ner_deid_large', 'jsl_ner_wip_modifier_clinical', 'ner_vop_slim_wip_chunks', 'ner_chemprot_clinical_chunks', 'ner_eu_clinical_condition', 'nerdl_tumour_demo', 'ner_posology_experimental_chunks', 'ner_cancer_genetics', 'ner_biomarker', 'ner_drugprot_clinical_chunks', 'ner_vop_problem_wip', 'ner_sdoh_mentions', 'ner_posology_small', 'ner_vop_wip_chunks', 'ner_oncology_biomarker_chunks', 'ner_drugs_chunks', 'ner_deid_sd_chunks', 'ner_chemd_clinical', 'ner_human_phenotype_gene_clinical', 'ner_ade_clinical', 'ner_human_phenotype_go_clinical', 'ner_sdoh_wip_chunks', 'ner_sdoh_social_environment_wip', 'ner_sdoh_mentions_chunks', 'ner_risk_factors', 'ner_clinical', 'ner_posology_large_chunks', 'ner_cellular', 'ner_nature_nero_clinical_chunks', 'ner_deid_large_chunks', 'ner_clinical_trials_abstracts_chunks', 'ner_deid_generic_augmented_chunks', 'ner_posology_chunks', 'ner_oncology_anatomy_general', 'ner_sdoh_social_environment_wip_chunks', 'ner_supplement_clinical_chunks', 'ner_oncology_response_to_treatment_chunks', 'ner_deid_enriched_chunks', 'ner_chemd_clinical_chunks', 'ner_deid_sd_large', 'ner_oncology_biomarker', 'jsl_ner_wip_greedy_clinical', 'ner_sdoh_slim_wip_chunks', 'ner_bacterial_species_chunks', 'ner_sdoh_health_behaviours_problems_wip_chunks', 'ner_sdoh_demographics_wip', 'ner_sdoh_community_condition_wip', 'ner_vop_anatomy_wip_chunks', 'ner_living_species', 'ner_abbreviation_clinical', 'ner_oncology_test', 'ner_vop_temporal_wip_chunks', 'ner_diseases', 'jsl_rd_ner_wip_greedy_clinical', 'ner_oncology_response_to_treatment', 'ner_drugs', 'ner_drugs_large_chunks', 'ner_vop_treatment_wip', 'ner_biomarker_chunks', 'ner_clinical_trials_abstracts', 'ner_clinical_large_chunks', 'ner_anatomy_coarse', 'ner_nature_nero_clinical', 'token', 'ner_oncology_anatomy_granular', 'ner_medmentions_coarse', 'ner_oncology_therapy', 'ner_deid_sd', 'jsl_rd_ner_wip_greedy_clinical_chunks', 'ner_oncology_demographics', 'ner_deid_generic_augmented', 'ner_pathogen_chunks', 'ner_medmentions_coarse_chunks', 'ner_anatomy', 'ner_deid_enriched', 'ner_deid_subentity_augmented', 'ner_radiology_wip_clinical_chunks', 'ner_clinical_chunks', 'ner_oncology_diagnosis', 'ner_sdoh_health_behaviours_problems_wip', 'ner_measurements_clinical', 'ner_ade_binary', 'ner_nihss', 'ner_chexpert_chunks', 'ner_chemicals_chunks', 'ner_pathogen', 'ner_vop_test_wip', 'ner_oncology_demographics_chunks', 'ner_jsl_enriched', 'ner_sdoh_access_to_healthcare_wip_chunks', 'ner_oncology_tnm', 'ner_vop_treatment_wip_chunks', 'ner_deid_synthetic_chunks', 'ner_events_clinical_chunks', 'ner_posology_experimental', 'jsl_ner_wip_clinical', 'ner_oncology_anatomy_granular_chunks', 'ner_biomedical_bc2gm', 'ner_vop_temporal_wip', 'ner_posology_small_chunks', 'ner_oncology_wip', 'ner_nihss_chunks', 'ner_anatomy_coarse_chunks', 'ner_human_phenotype_go_clinical_chunks', 'ner_vop_demographic_wip', 'ner_sdoh_substance_usage_wip_chunks', 'ner_sdoh_income_social_status_wip', 'ner_jsl', 'ner_sdoh_substance_usage_wip', 'ner_events_clinical', 'ner_supplement_clinical', 'ner_jsl_slim_chunks', 'ner_jsl_chunks', 'ner_jsl_greedy_chunks', 'ner_oncology_wip_chunks', 'ner_oncology_unspecific_posology', 'ner_genetic_variants', 'ner_sdoh_wip', 'ner_radiology', 'ner_eu_clinical_case', 'ner_posology', 'ner_vop_clinical_dept_wip_chunks', 'sentence', 'ner_oncology_posology', 'ner_covid_trials', 'ner_ade_binary_chunks', 'ner_events_admission_clinical_chunks'])"
     ]
    }
   ],
   "source": [
    "clinical_result = clinical_profiling_pipeline.fullAnnotate(text)[0]\n",
    "clinical_result.keys()"
   ]
  },
  {
   "cell_type": "code",
   "execution_count": 0,
   "metadata": {
    "application/vnd.databricks.v1+cell": {
     "cellMetadata": {
      "byteLimit": 2048000,
      "rowLimit": 10000
     },
     "inputWidgets": {},
     "nuid": "008386d6-2f3e-42c6-b698-88f4252eed76",
     "showTitle": false,
     "title": ""
    }
   },
   "outputs": [],
   "source": [
    "import pandas as pd\n",
    "\n",
    "def get_token_results(light_result):\n",
    "\n",
    "  tokens = [j.result for j in light_result[\"token\"]]\n",
    "  sentences = [j.metadata[\"sentence\"] for j in light_result[\"token\"]]\n",
    "  begins = [j.begin for j in light_result[\"token\"]]\n",
    "  ends = [j.end for j in light_result[\"token\"]]\n",
    "  model_list = [ a for a in light_result.keys() if (a not in [\"sentence\", \"token\"] and \"_chunks\" not in a)]\n",
    "\n",
    "  df = pd.DataFrame({'sentence':sentences, 'begin': begins, 'end': ends, 'token':tokens})\n",
    "\n",
    "  for model_name in model_list:\n",
    "    \n",
    "    temp_df = pd.DataFrame(light_result[model_name])\n",
    "    temp_df[\"jsl_label\"] = temp_df.iloc[:,0].apply(lambda x : x.result)\n",
    "    temp_df = temp_df[[\"jsl_label\"]]\n",
    "\n",
    "    # temp_df = get_ner_result(model_name)\n",
    "    temp_df.columns = [model_name]\n",
    "    df = pd.concat([df, temp_df], axis=1)\n",
    "    \n",
    "  return df"
   ]
  },
  {
   "cell_type": "code",
   "execution_count": 0,
   "metadata": {
    "application/vnd.databricks.v1+cell": {
     "cellMetadata": {
      "byteLimit": 2048000,
      "rowLimit": 10000
     },
     "inputWidgets": {},
     "nuid": "28666261-bda7-4ebe-8c51-d591172b7cb1",
     "showTitle": false,
     "title": ""
    }
   },
   "outputs": [
    {
     "output_type": "display_data",
     "data": {
      "text/html": [
       "<div>\n",
       "<style scoped>\n",
       "    .dataframe tbody tr th:only-of-type {\n",
       "        vertical-align: middle;\n",
       "    }\n",
       "\n",
       "    .dataframe tbody tr th {\n",
       "        vertical-align: top;\n",
       "    }\n",
       "\n",
       "    .dataframe thead th {\n",
       "        text-align: right;\n",
       "    }\n",
       "</style>\n",
       "<table border=\"1\" class=\"dataframe\">\n",
       "  <thead>\n",
       "    <tr style=\"text-align: right;\">\n",
       "      <th></th>\n",
       "      <th>sentence</th>\n",
       "      <th>begin</th>\n",
       "      <th>end</th>\n",
       "      <th>token</th>\n",
       "      <th>ner_deid_augmented</th>\n",
       "      <th>ner_deid_subentity_augmented_i2b2</th>\n",
       "      <th>ner_radiology_wip_clinical</th>\n",
       "      <th>ner_vop_slim_wip</th>\n",
       "      <th>ner_jsl_slim</th>\n",
       "      <th>ner_vop_wip</th>\n",
       "      <th>ner_vop_problem_reduced_wip</th>\n",
       "      <th>ner_vop_anatomy_wip</th>\n",
       "      <th>ner_deid_synthetic</th>\n",
       "      <th>ner_drugs_greedy</th>\n",
       "      <th>ner_events_admission_clinical</th>\n",
       "      <th>ner_posology_greedy</th>\n",
       "      <th>ner_vop_clinical_dept_wip</th>\n",
       "      <th>ner_oncology</th>\n",
       "      <th>ner_jsl_greedy</th>\n",
       "      <th>ner_sdoh_access_to_healthcare_wip</th>\n",
       "      <th>ner_diseases_large</th>\n",
       "      <th>ner_chemprot_clinical</th>\n",
       "      <th>ner_posology_large</th>\n",
       "      <th>ner_chexpert</th>\n",
       "      <th>ner_drugs_large</th>\n",
       "      <th>ner_clinical_large</th>\n",
       "      <th>ner_chemicals</th>\n",
       "      <th>ner_sdoh_slim_wip</th>\n",
       "      <th>ner_bacterial_species</th>\n",
       "      <th>ner_bionlp</th>\n",
       "      <th>ner_drugprot_clinical</th>\n",
       "      <th>ner_deid_large</th>\n",
       "      <th>jsl_ner_wip_modifier_clinical</th>\n",
       "      <th>ner_eu_clinical_condition</th>\n",
       "      <th>nerdl_tumour_demo</th>\n",
       "      <th>ner_cancer_genetics</th>\n",
       "      <th>ner_biomarker</th>\n",
       "      <th>ner_vop_problem_wip</th>\n",
       "      <th>ner_sdoh_mentions</th>\n",
       "      <th>ner_posology_small</th>\n",
       "      <th>ner_chemd_clinical</th>\n",
       "      <th>ner_human_phenotype_gene_clinical</th>\n",
       "      <th>ner_ade_clinical</th>\n",
       "      <th>ner_human_phenotype_go_clinical</th>\n",
       "      <th>ner_sdoh_social_environment_wip</th>\n",
       "      <th>ner_risk_factors</th>\n",
       "      <th>ner_clinical</th>\n",
       "      <th>ner_cellular</th>\n",
       "      <th>ner_oncology_anatomy_general</th>\n",
       "      <th>ner_deid_sd_large</th>\n",
       "      <th>...</th>\n",
       "      <th>ner_sdoh_demographics_wip</th>\n",
       "      <th>ner_sdoh_community_condition_wip</th>\n",
       "      <th>ner_living_species</th>\n",
       "      <th>ner_abbreviation_clinical</th>\n",
       "      <th>ner_oncology_test</th>\n",
       "      <th>ner_diseases</th>\n",
       "      <th>jsl_rd_ner_wip_greedy_clinical</th>\n",
       "      <th>ner_oncology_response_to_treatment</th>\n",
       "      <th>ner_drugs</th>\n",
       "      <th>ner_vop_treatment_wip</th>\n",
       "      <th>ner_clinical_trials_abstracts</th>\n",
       "      <th>ner_anatomy_coarse</th>\n",
       "      <th>ner_nature_nero_clinical</th>\n",
       "      <th>ner_oncology_anatomy_granular</th>\n",
       "      <th>ner_medmentions_coarse</th>\n",
       "      <th>ner_oncology_therapy</th>\n",
       "      <th>ner_deid_sd</th>\n",
       "      <th>ner_oncology_demographics</th>\n",
       "      <th>ner_deid_generic_augmented</th>\n",
       "      <th>ner_anatomy</th>\n",
       "      <th>ner_deid_enriched</th>\n",
       "      <th>ner_deid_subentity_augmented</th>\n",
       "      <th>ner_oncology_diagnosis</th>\n",
       "      <th>ner_sdoh_health_behaviours_problems_wip</th>\n",
       "      <th>ner_measurements_clinical</th>\n",
       "      <th>ner_ade_binary</th>\n",
       "      <th>ner_nihss</th>\n",
       "      <th>ner_pathogen</th>\n",
       "      <th>ner_vop_test_wip</th>\n",
       "      <th>ner_jsl_enriched</th>\n",
       "      <th>ner_oncology_tnm</th>\n",
       "      <th>ner_posology_experimental</th>\n",
       "      <th>jsl_ner_wip_clinical</th>\n",
       "      <th>ner_biomedical_bc2gm</th>\n",
       "      <th>ner_vop_temporal_wip</th>\n",
       "      <th>ner_oncology_wip</th>\n",
       "      <th>ner_vop_demographic_wip</th>\n",
       "      <th>ner_sdoh_income_social_status_wip</th>\n",
       "      <th>ner_jsl</th>\n",
       "      <th>ner_sdoh_substance_usage_wip</th>\n",
       "      <th>ner_events_clinical</th>\n",
       "      <th>ner_supplement_clinical</th>\n",
       "      <th>ner_oncology_unspecific_posology</th>\n",
       "      <th>ner_genetic_variants</th>\n",
       "      <th>ner_sdoh_wip</th>\n",
       "      <th>ner_radiology</th>\n",
       "      <th>ner_eu_clinical_case</th>\n",
       "      <th>ner_posology</th>\n",
       "      <th>ner_oncology_posology</th>\n",
       "      <th>ner_covid_trials</th>\n",
       "    </tr>\n",
       "  </thead>\n",
       "  <tbody>\n",
       "    <tr>\n",
       "      <th>0</th>\n",
       "      <td>0</td>\n",
       "      <td>0</td>\n",
       "      <td>0</td>\n",
       "      <td>A</td>\n",
       "      <td>O</td>\n",
       "      <td>O</td>\n",
       "      <td>O</td>\n",
       "      <td>O</td>\n",
       "      <td>O</td>\n",
       "      <td>O</td>\n",
       "      <td>O</td>\n",
       "      <td>O</td>\n",
       "      <td>O</td>\n",
       "      <td>O</td>\n",
       "      <td>O</td>\n",
       "      <td>O</td>\n",
       "      <td>O</td>\n",
       "      <td>O</td>\n",
       "      <td>O</td>\n",
       "      <td>O</td>\n",
       "      <td>O</td>\n",
       "      <td>O</td>\n",
       "      <td>O</td>\n",
       "      <td>O</td>\n",
       "      <td>O</td>\n",
       "      <td>O</td>\n",
       "      <td>O</td>\n",
       "      <td>O</td>\n",
       "      <td>O</td>\n",
       "      <td>O</td>\n",
       "      <td>O</td>\n",
       "      <td>O</td>\n",
       "      <td>O</td>\n",
       "      <td>O</td>\n",
       "      <td>O</td>\n",
       "      <td>O</td>\n",
       "      <td>O</td>\n",
       "      <td>O</td>\n",
       "      <td>O</td>\n",
       "      <td>O</td>\n",
       "      <td>O</td>\n",
       "      <td>O</td>\n",
       "      <td>O</td>\n",
       "      <td>O</td>\n",
       "      <td>O</td>\n",
       "      <td>O</td>\n",
       "      <td>O</td>\n",
       "      <td>O</td>\n",
       "      <td>O</td>\n",
       "      <td>O</td>\n",
       "      <td>...</td>\n",
       "      <td>O</td>\n",
       "      <td>O</td>\n",
       "      <td>O</td>\n",
       "      <td>O</td>\n",
       "      <td>O</td>\n",
       "      <td>O</td>\n",
       "      <td>O</td>\n",
       "      <td>O</td>\n",
       "      <td>O</td>\n",
       "      <td>O</td>\n",
       "      <td>O</td>\n",
       "      <td>O</td>\n",
       "      <td>O</td>\n",
       "      <td>O</td>\n",
       "      <td>O</td>\n",
       "      <td>O</td>\n",
       "      <td>O</td>\n",
       "      <td>O</td>\n",
       "      <td>O</td>\n",
       "      <td>O</td>\n",
       "      <td>O</td>\n",
       "      <td>O</td>\n",
       "      <td>O</td>\n",
       "      <td>O</td>\n",
       "      <td>O</td>\n",
       "      <td>O</td>\n",
       "      <td>O</td>\n",
       "      <td>O</td>\n",
       "      <td>O</td>\n",
       "      <td>O</td>\n",
       "      <td>O</td>\n",
       "      <td>O</td>\n",
       "      <td>O</td>\n",
       "      <td>O</td>\n",
       "      <td>O</td>\n",
       "      <td>O</td>\n",
       "      <td>O</td>\n",
       "      <td>O</td>\n",
       "      <td>O</td>\n",
       "      <td>O</td>\n",
       "      <td>O</td>\n",
       "      <td>O</td>\n",
       "      <td>O</td>\n",
       "      <td>O</td>\n",
       "      <td>O</td>\n",
       "      <td>O</td>\n",
       "      <td>B-patient</td>\n",
       "      <td>O</td>\n",
       "      <td>O</td>\n",
       "      <td>O</td>\n",
       "    </tr>\n",
       "    <tr>\n",
       "      <th>1</th>\n",
       "      <td>0</td>\n",
       "      <td>2</td>\n",
       "      <td>12</td>\n",
       "      <td>28-year-old</td>\n",
       "      <td>O</td>\n",
       "      <td>O</td>\n",
       "      <td>O</td>\n",
       "      <td>O</td>\n",
       "      <td>B-Age</td>\n",
       "      <td>B-Age</td>\n",
       "      <td>O</td>\n",
       "      <td>O</td>\n",
       "      <td>O</td>\n",
       "      <td>O</td>\n",
       "      <td>O</td>\n",
       "      <td>O</td>\n",
       "      <td>O</td>\n",
       "      <td>B-Gender</td>\n",
       "      <td>B-Age</td>\n",
       "      <td>O</td>\n",
       "      <td>O</td>\n",
       "      <td>O</td>\n",
       "      <td>O</td>\n",
       "      <td>O</td>\n",
       "      <td>O</td>\n",
       "      <td>O</td>\n",
       "      <td>O</td>\n",
       "      <td>B-Marital_Status</td>\n",
       "      <td>O</td>\n",
       "      <td>O</td>\n",
       "      <td>O</td>\n",
       "      <td>O</td>\n",
       "      <td>B-Age</td>\n",
       "      <td>O</td>\n",
       "      <td>O</td>\n",
       "      <td>O</td>\n",
       "      <td>B-Age</td>\n",
       "      <td>O</td>\n",
       "      <td>O</td>\n",
       "      <td>O</td>\n",
       "      <td>O</td>\n",
       "      <td>O</td>\n",
       "      <td>O</td>\n",
       "      <td>O</td>\n",
       "      <td>O</td>\n",
       "      <td>O</td>\n",
       "      <td>O</td>\n",
       "      <td>O</td>\n",
       "      <td>O</td>\n",
       "      <td>O</td>\n",
       "      <td>...</td>\n",
       "      <td>B-Gender</td>\n",
       "      <td>O</td>\n",
       "      <td>O</td>\n",
       "      <td>O</td>\n",
       "      <td>O</td>\n",
       "      <td>O</td>\n",
       "      <td>B-Age</td>\n",
       "      <td>O</td>\n",
       "      <td>O</td>\n",
       "      <td>O</td>\n",
       "      <td>O</td>\n",
       "      <td>O</td>\n",
       "      <td>B-Person</td>\n",
       "      <td>O</td>\n",
       "      <td>O</td>\n",
       "      <td>O</td>\n",
       "      <td>O</td>\n",
       "      <td>B-Gender</td>\n",
       "      <td>B-AGE</td>\n",
       "      <td>O</td>\n",
       "      <td>O</td>\n",
       "      <td>B-AGE</td>\n",
       "      <td>O</td>\n",
       "      <td>O</td>\n",
       "      <td>O</td>\n",
       "      <td>O</td>\n",
       "      <td>O</td>\n",
       "      <td>O</td>\n",
       "      <td>O</td>\n",
       "      <td>B-Age</td>\n",
       "      <td>O</td>\n",
       "      <td>O</td>\n",
       "      <td>B-Age</td>\n",
       "      <td>O</td>\n",
       "      <td>O</td>\n",
       "      <td>B-Gender</td>\n",
       "      <td>B-Age</td>\n",
       "      <td>O</td>\n",
       "      <td>B-Age</td>\n",
       "      <td>O</td>\n",
       "      <td>O</td>\n",
       "      <td>O</td>\n",
       "      <td>O</td>\n",
       "      <td>O</td>\n",
       "      <td>B-Gender</td>\n",
       "      <td>O</td>\n",
       "      <td>I-patient</td>\n",
       "      <td>O</td>\n",
       "      <td>O</td>\n",
       "      <td>B-Gender</td>\n",
       "    </tr>\n",
       "    <tr>\n",
       "      <th>2</th>\n",
       "      <td>0</td>\n",
       "      <td>14</td>\n",
       "      <td>19</td>\n",
       "      <td>female</td>\n",
       "      <td>O</td>\n",
       "      <td>O</td>\n",
       "      <td>O</td>\n",
       "      <td>B-Gender</td>\n",
       "      <td>B-Demographics</td>\n",
       "      <td>B-Gender</td>\n",
       "      <td>O</td>\n",
       "      <td>O</td>\n",
       "      <td>O</td>\n",
       "      <td>O</td>\n",
       "      <td>O</td>\n",
       "      <td>O</td>\n",
       "      <td>O</td>\n",
       "      <td>B-Gender</td>\n",
       "      <td>B-Gender</td>\n",
       "      <td>O</td>\n",
       "      <td>O</td>\n",
       "      <td>O</td>\n",
       "      <td>O</td>\n",
       "      <td>O</td>\n",
       "      <td>O</td>\n",
       "      <td>O</td>\n",
       "      <td>O</td>\n",
       "      <td>B-Gender</td>\n",
       "      <td>O</td>\n",
       "      <td>B-Organism</td>\n",
       "      <td>O</td>\n",
       "      <td>O</td>\n",
       "      <td>B-Gender</td>\n",
       "      <td>O</td>\n",
       "      <td>O</td>\n",
       "      <td>O</td>\n",
       "      <td>B-Gender</td>\n",
       "      <td>O</td>\n",
       "      <td>O</td>\n",
       "      <td>O</td>\n",
       "      <td>O</td>\n",
       "      <td>O</td>\n",
       "      <td>O</td>\n",
       "      <td>O</td>\n",
       "      <td>O</td>\n",
       "      <td>O</td>\n",
       "      <td>O</td>\n",
       "      <td>O</td>\n",
       "      <td>O</td>\n",
       "      <td>O</td>\n",
       "      <td>...</td>\n",
       "      <td>B-Gender</td>\n",
       "      <td>O</td>\n",
       "      <td>B-HUMAN</td>\n",
       "      <td>O</td>\n",
       "      <td>O</td>\n",
       "      <td>O</td>\n",
       "      <td>B-Gender</td>\n",
       "      <td>O</td>\n",
       "      <td>O</td>\n",
       "      <td>O</td>\n",
       "      <td>O</td>\n",
       "      <td>O</td>\n",
       "      <td>I-Person</td>\n",
       "      <td>O</td>\n",
       "      <td>B-Organism_Attribute</td>\n",
       "      <td>O</td>\n",
       "      <td>O</td>\n",
       "      <td>B-Gender</td>\n",
       "      <td>O</td>\n",
       "      <td>O</td>\n",
       "      <td>O</td>\n",
       "      <td>O</td>\n",
       "      <td>O</td>\n",
       "      <td>O</td>\n",
       "      <td>O</td>\n",
       "      <td>O</td>\n",
       "      <td>O</td>\n",
       "      <td>O</td>\n",
       "      <td>O</td>\n",
       "      <td>B-Gender</td>\n",
       "      <td>O</td>\n",
       "      <td>O</td>\n",
       "      <td>B-Gender</td>\n",
       "      <td>O</td>\n",
       "      <td>O</td>\n",
       "      <td>B-Gender</td>\n",
       "      <td>B-Gender</td>\n",
       "      <td>O</td>\n",
       "      <td>B-Gender</td>\n",
       "      <td>O</td>\n",
       "      <td>O</td>\n",
       "      <td>O</td>\n",
       "      <td>O</td>\n",
       "      <td>O</td>\n",
       "      <td>B-Gender</td>\n",
       "      <td>O</td>\n",
       "      <td>I-patient</td>\n",
       "      <td>O</td>\n",
       "      <td>O</td>\n",
       "      <td>B-Gender</td>\n",
       "    </tr>\n",
       "    <tr>\n",
       "      <th>3</th>\n",
       "      <td>0</td>\n",
       "      <td>21</td>\n",
       "      <td>24</td>\n",
       "      <td>with</td>\n",
       "      <td>O</td>\n",
       "      <td>O</td>\n",
       "      <td>O</td>\n",
       "      <td>O</td>\n",
       "      <td>O</td>\n",
       "      <td>O</td>\n",
       "      <td>O</td>\n",
       "      <td>O</td>\n",
       "      <td>O</td>\n",
       "      <td>O</td>\n",
       "      <td>O</td>\n",
       "      <td>O</td>\n",
       "      <td>O</td>\n",
       "      <td>O</td>\n",
       "      <td>O</td>\n",
       "      <td>O</td>\n",
       "      <td>O</td>\n",
       "      <td>O</td>\n",
       "      <td>O</td>\n",
       "      <td>O</td>\n",
       "      <td>O</td>\n",
       "      <td>O</td>\n",
       "      <td>O</td>\n",
       "      <td>O</td>\n",
       "      <td>O</td>\n",
       "      <td>O</td>\n",
       "      <td>O</td>\n",
       "      <td>O</td>\n",
       "      <td>O</td>\n",
       "      <td>O</td>\n",
       "      <td>O</td>\n",
       "      <td>O</td>\n",
       "      <td>O</td>\n",
       "      <td>O</td>\n",
       "      <td>O</td>\n",
       "      <td>O</td>\n",
       "      <td>O</td>\n",
       "      <td>O</td>\n",
       "      <td>O</td>\n",
       "      <td>O</td>\n",
       "      <td>O</td>\n",
       "      <td>O</td>\n",
       "      <td>O</td>\n",
       "      <td>O</td>\n",
       "      <td>O</td>\n",
       "      <td>O</td>\n",
       "      <td>...</td>\n",
       "      <td>O</td>\n",
       "      <td>O</td>\n",
       "      <td>O</td>\n",
       "      <td>O</td>\n",
       "      <td>O</td>\n",
       "      <td>O</td>\n",
       "      <td>O</td>\n",
       "      <td>O</td>\n",
       "      <td>O</td>\n",
       "      <td>O</td>\n",
       "      <td>O</td>\n",
       "      <td>O</td>\n",
       "      <td>O</td>\n",
       "      <td>O</td>\n",
       "      <td>O</td>\n",
       "      <td>O</td>\n",
       "      <td>O</td>\n",
       "      <td>O</td>\n",
       "      <td>O</td>\n",
       "      <td>O</td>\n",
       "      <td>O</td>\n",
       "      <td>O</td>\n",
       "      <td>O</td>\n",
       "      <td>O</td>\n",
       "      <td>O</td>\n",
       "      <td>O</td>\n",
       "      <td>O</td>\n",
       "      <td>O</td>\n",
       "      <td>O</td>\n",
       "      <td>O</td>\n",
       "      <td>O</td>\n",
       "      <td>O</td>\n",
       "      <td>O</td>\n",
       "      <td>O</td>\n",
       "      <td>O</td>\n",
       "      <td>O</td>\n",
       "      <td>O</td>\n",
       "      <td>O</td>\n",
       "      <td>O</td>\n",
       "      <td>O</td>\n",
       "      <td>O</td>\n",
       "      <td>O</td>\n",
       "      <td>O</td>\n",
       "      <td>O</td>\n",
       "      <td>O</td>\n",
       "      <td>O</td>\n",
       "      <td>O</td>\n",
       "      <td>O</td>\n",
       "      <td>O</td>\n",
       "      <td>O</td>\n",
       "    </tr>\n",
       "    <tr>\n",
       "      <th>4</th>\n",
       "      <td>0</td>\n",
       "      <td>26</td>\n",
       "      <td>26</td>\n",
       "      <td>a</td>\n",
       "      <td>O</td>\n",
       "      <td>O</td>\n",
       "      <td>O</td>\n",
       "      <td>O</td>\n",
       "      <td>O</td>\n",
       "      <td>O</td>\n",
       "      <td>O</td>\n",
       "      <td>O</td>\n",
       "      <td>O</td>\n",
       "      <td>O</td>\n",
       "      <td>O</td>\n",
       "      <td>O</td>\n",
       "      <td>O</td>\n",
       "      <td>O</td>\n",
       "      <td>O</td>\n",
       "      <td>O</td>\n",
       "      <td>O</td>\n",
       "      <td>O</td>\n",
       "      <td>O</td>\n",
       "      <td>O</td>\n",
       "      <td>O</td>\n",
       "      <td>O</td>\n",
       "      <td>O</td>\n",
       "      <td>O</td>\n",
       "      <td>O</td>\n",
       "      <td>O</td>\n",
       "      <td>O</td>\n",
       "      <td>O</td>\n",
       "      <td>O</td>\n",
       "      <td>O</td>\n",
       "      <td>O</td>\n",
       "      <td>O</td>\n",
       "      <td>O</td>\n",
       "      <td>O</td>\n",
       "      <td>O</td>\n",
       "      <td>O</td>\n",
       "      <td>O</td>\n",
       "      <td>O</td>\n",
       "      <td>O</td>\n",
       "      <td>O</td>\n",
       "      <td>O</td>\n",
       "      <td>O</td>\n",
       "      <td>O</td>\n",
       "      <td>O</td>\n",
       "      <td>O</td>\n",
       "      <td>O</td>\n",
       "      <td>...</td>\n",
       "      <td>O</td>\n",
       "      <td>O</td>\n",
       "      <td>O</td>\n",
       "      <td>O</td>\n",
       "      <td>O</td>\n",
       "      <td>O</td>\n",
       "      <td>O</td>\n",
       "      <td>O</td>\n",
       "      <td>O</td>\n",
       "      <td>O</td>\n",
       "      <td>O</td>\n",
       "      <td>O</td>\n",
       "      <td>O</td>\n",
       "      <td>O</td>\n",
       "      <td>O</td>\n",
       "      <td>O</td>\n",
       "      <td>O</td>\n",
       "      <td>O</td>\n",
       "      <td>O</td>\n",
       "      <td>O</td>\n",
       "      <td>O</td>\n",
       "      <td>O</td>\n",
       "      <td>O</td>\n",
       "      <td>O</td>\n",
       "      <td>O</td>\n",
       "      <td>O</td>\n",
       "      <td>O</td>\n",
       "      <td>O</td>\n",
       "      <td>O</td>\n",
       "      <td>O</td>\n",
       "      <td>O</td>\n",
       "      <td>O</td>\n",
       "      <td>O</td>\n",
       "      <td>O</td>\n",
       "      <td>O</td>\n",
       "      <td>O</td>\n",
       "      <td>O</td>\n",
       "      <td>O</td>\n",
       "      <td>O</td>\n",
       "      <td>O</td>\n",
       "      <td>O</td>\n",
       "      <td>O</td>\n",
       "      <td>O</td>\n",
       "      <td>O</td>\n",
       "      <td>O</td>\n",
       "      <td>O</td>\n",
       "      <td>O</td>\n",
       "      <td>O</td>\n",
       "      <td>O</td>\n",
       "      <td>O</td>\n",
       "    </tr>\n",
       "    <tr>\n",
       "      <th>...</th>\n",
       "      <td>...</td>\n",
       "      <td>...</td>\n",
       "      <td>...</td>\n",
       "      <td>...</td>\n",
       "      <td>...</td>\n",
       "      <td>...</td>\n",
       "      <td>...</td>\n",
       "      <td>...</td>\n",
       "      <td>...</td>\n",
       "      <td>...</td>\n",
       "      <td>...</td>\n",
       "      <td>...</td>\n",
       "      <td>...</td>\n",
       "      <td>...</td>\n",
       "      <td>...</td>\n",
       "      <td>...</td>\n",
       "      <td>...</td>\n",
       "      <td>...</td>\n",
       "      <td>...</td>\n",
       "      <td>...</td>\n",
       "      <td>...</td>\n",
       "      <td>...</td>\n",
       "      <td>...</td>\n",
       "      <td>...</td>\n",
       "      <td>...</td>\n",
       "      <td>...</td>\n",
       "      <td>...</td>\n",
       "      <td>...</td>\n",
       "      <td>...</td>\n",
       "      <td>...</td>\n",
       "      <td>...</td>\n",
       "      <td>...</td>\n",
       "      <td>...</td>\n",
       "      <td>...</td>\n",
       "      <td>...</td>\n",
       "      <td>...</td>\n",
       "      <td>...</td>\n",
       "      <td>...</td>\n",
       "      <td>...</td>\n",
       "      <td>...</td>\n",
       "      <td>...</td>\n",
       "      <td>...</td>\n",
       "      <td>...</td>\n",
       "      <td>...</td>\n",
       "      <td>...</td>\n",
       "      <td>...</td>\n",
       "      <td>...</td>\n",
       "      <td>...</td>\n",
       "      <td>...</td>\n",
       "      <td>...</td>\n",
       "      <td>...</td>\n",
       "      <td>...</td>\n",
       "      <td>...</td>\n",
       "      <td>...</td>\n",
       "      <td>...</td>\n",
       "      <td>...</td>\n",
       "      <td>...</td>\n",
       "      <td>...</td>\n",
       "      <td>...</td>\n",
       "      <td>...</td>\n",
       "      <td>...</td>\n",
       "      <td>...</td>\n",
       "      <td>...</td>\n",
       "      <td>...</td>\n",
       "      <td>...</td>\n",
       "      <td>...</td>\n",
       "      <td>...</td>\n",
       "      <td>...</td>\n",
       "      <td>...</td>\n",
       "      <td>...</td>\n",
       "      <td>...</td>\n",
       "      <td>...</td>\n",
       "      <td>...</td>\n",
       "      <td>...</td>\n",
       "      <td>...</td>\n",
       "      <td>...</td>\n",
       "      <td>...</td>\n",
       "      <td>...</td>\n",
       "      <td>...</td>\n",
       "      <td>...</td>\n",
       "      <td>...</td>\n",
       "      <td>...</td>\n",
       "      <td>...</td>\n",
       "      <td>...</td>\n",
       "      <td>...</td>\n",
       "      <td>...</td>\n",
       "      <td>...</td>\n",
       "      <td>...</td>\n",
       "      <td>...</td>\n",
       "      <td>...</td>\n",
       "      <td>...</td>\n",
       "      <td>...</td>\n",
       "      <td>...</td>\n",
       "      <td>...</td>\n",
       "      <td>...</td>\n",
       "      <td>...</td>\n",
       "      <td>...</td>\n",
       "      <td>...</td>\n",
       "      <td>...</td>\n",
       "      <td>...</td>\n",
       "      <td>...</td>\n",
       "    </tr>\n",
       "    <tr>\n",
       "      <th>68</th>\n",
       "      <td>0</td>\n",
       "      <td>409</td>\n",
       "      <td>416</td>\n",
       "      <td>appetite</td>\n",
       "      <td>O</td>\n",
       "      <td>O</td>\n",
       "      <td>I-Symptom</td>\n",
       "      <td>I-Symptom</td>\n",
       "      <td>I-Symptom</td>\n",
       "      <td>I-Symptom</td>\n",
       "      <td>I-Problem</td>\n",
       "      <td>O</td>\n",
       "      <td>O</td>\n",
       "      <td>O</td>\n",
       "      <td>I-PROBLEM</td>\n",
       "      <td>O</td>\n",
       "      <td>O</td>\n",
       "      <td>O</td>\n",
       "      <td>I-Symptom</td>\n",
       "      <td>O</td>\n",
       "      <td>O</td>\n",
       "      <td>O</td>\n",
       "      <td>O</td>\n",
       "      <td>O</td>\n",
       "      <td>O</td>\n",
       "      <td>I-PROBLEM</td>\n",
       "      <td>O</td>\n",
       "      <td>O</td>\n",
       "      <td>O</td>\n",
       "      <td>O</td>\n",
       "      <td>O</td>\n",
       "      <td>O</td>\n",
       "      <td>I-Symptom</td>\n",
       "      <td>I-clinical_condition</td>\n",
       "      <td>O</td>\n",
       "      <td>O</td>\n",
       "      <td>O</td>\n",
       "      <td>I-Symptom</td>\n",
       "      <td>O</td>\n",
       "      <td>O</td>\n",
       "      <td>O</td>\n",
       "      <td>O</td>\n",
       "      <td>I-ADE</td>\n",
       "      <td>O</td>\n",
       "      <td>O</td>\n",
       "      <td>O</td>\n",
       "      <td>I-PROBLEM</td>\n",
       "      <td>O</td>\n",
       "      <td>O</td>\n",
       "      <td>O</td>\n",
       "      <td>...</td>\n",
       "      <td>O</td>\n",
       "      <td>I-Community_Living_Conditions</td>\n",
       "      <td>O</td>\n",
       "      <td>O</td>\n",
       "      <td>O</td>\n",
       "      <td>I-Disease</td>\n",
       "      <td>I-Symptom</td>\n",
       "      <td>O</td>\n",
       "      <td>O</td>\n",
       "      <td>O</td>\n",
       "      <td>O</td>\n",
       "      <td>O</td>\n",
       "      <td>I-Medicalfinding</td>\n",
       "      <td>O</td>\n",
       "      <td>I-Sign_or_Symptom</td>\n",
       "      <td>O</td>\n",
       "      <td>O</td>\n",
       "      <td>O</td>\n",
       "      <td>O</td>\n",
       "      <td>O</td>\n",
       "      <td>O</td>\n",
       "      <td>O</td>\n",
       "      <td>O</td>\n",
       "      <td>O</td>\n",
       "      <td>O</td>\n",
       "      <td>I-ADE</td>\n",
       "      <td>O</td>\n",
       "      <td>I-MedicalCondition</td>\n",
       "      <td>O</td>\n",
       "      <td>I-Symptom</td>\n",
       "      <td>O</td>\n",
       "      <td>O</td>\n",
       "      <td>I-Symptom</td>\n",
       "      <td>O</td>\n",
       "      <td>O</td>\n",
       "      <td>O</td>\n",
       "      <td>O</td>\n",
       "      <td>O</td>\n",
       "      <td>I-Symptom</td>\n",
       "      <td>O</td>\n",
       "      <td>I-PROBLEM</td>\n",
       "      <td>O</td>\n",
       "      <td>O</td>\n",
       "      <td>O</td>\n",
       "      <td>O</td>\n",
       "      <td>I-Symptom</td>\n",
       "      <td>I-clinical_condition</td>\n",
       "      <td>O</td>\n",
       "      <td>O</td>\n",
       "      <td>O</td>\n",
       "    </tr>\n",
       "    <tr>\n",
       "      <th>69</th>\n",
       "      <td>0</td>\n",
       "      <td>418</td>\n",
       "      <td>418</td>\n",
       "      <td>,</td>\n",
       "      <td>O</td>\n",
       "      <td>O</td>\n",
       "      <td>O</td>\n",
       "      <td>O</td>\n",
       "      <td>O</td>\n",
       "      <td>O</td>\n",
       "      <td>O</td>\n",
       "      <td>O</td>\n",
       "      <td>O</td>\n",
       "      <td>O</td>\n",
       "      <td>O</td>\n",
       "      <td>O</td>\n",
       "      <td>O</td>\n",
       "      <td>O</td>\n",
       "      <td>O</td>\n",
       "      <td>O</td>\n",
       "      <td>O</td>\n",
       "      <td>O</td>\n",
       "      <td>O</td>\n",
       "      <td>O</td>\n",
       "      <td>O</td>\n",
       "      <td>O</td>\n",
       "      <td>O</td>\n",
       "      <td>O</td>\n",
       "      <td>O</td>\n",
       "      <td>O</td>\n",
       "      <td>O</td>\n",
       "      <td>O</td>\n",
       "      <td>O</td>\n",
       "      <td>O</td>\n",
       "      <td>O</td>\n",
       "      <td>O</td>\n",
       "      <td>O</td>\n",
       "      <td>O</td>\n",
       "      <td>O</td>\n",
       "      <td>O</td>\n",
       "      <td>O</td>\n",
       "      <td>O</td>\n",
       "      <td>O</td>\n",
       "      <td>O</td>\n",
       "      <td>O</td>\n",
       "      <td>O</td>\n",
       "      <td>O</td>\n",
       "      <td>O</td>\n",
       "      <td>O</td>\n",
       "      <td>O</td>\n",
       "      <td>...</td>\n",
       "      <td>O</td>\n",
       "      <td>O</td>\n",
       "      <td>O</td>\n",
       "      <td>O</td>\n",
       "      <td>O</td>\n",
       "      <td>O</td>\n",
       "      <td>O</td>\n",
       "      <td>O</td>\n",
       "      <td>O</td>\n",
       "      <td>O</td>\n",
       "      <td>O</td>\n",
       "      <td>O</td>\n",
       "      <td>O</td>\n",
       "      <td>O</td>\n",
       "      <td>O</td>\n",
       "      <td>O</td>\n",
       "      <td>O</td>\n",
       "      <td>O</td>\n",
       "      <td>O</td>\n",
       "      <td>O</td>\n",
       "      <td>O</td>\n",
       "      <td>O</td>\n",
       "      <td>O</td>\n",
       "      <td>O</td>\n",
       "      <td>O</td>\n",
       "      <td>O</td>\n",
       "      <td>O</td>\n",
       "      <td>O</td>\n",
       "      <td>O</td>\n",
       "      <td>O</td>\n",
       "      <td>O</td>\n",
       "      <td>O</td>\n",
       "      <td>O</td>\n",
       "      <td>O</td>\n",
       "      <td>O</td>\n",
       "      <td>O</td>\n",
       "      <td>O</td>\n",
       "      <td>O</td>\n",
       "      <td>O</td>\n",
       "      <td>O</td>\n",
       "      <td>O</td>\n",
       "      <td>O</td>\n",
       "      <td>O</td>\n",
       "      <td>O</td>\n",
       "      <td>O</td>\n",
       "      <td>O</td>\n",
       "      <td>O</td>\n",
       "      <td>O</td>\n",
       "      <td>O</td>\n",
       "      <td>O</td>\n",
       "    </tr>\n",
       "    <tr>\n",
       "      <th>70</th>\n",
       "      <td>0</td>\n",
       "      <td>420</td>\n",
       "      <td>422</td>\n",
       "      <td>and</td>\n",
       "      <td>O</td>\n",
       "      <td>O</td>\n",
       "      <td>O</td>\n",
       "      <td>O</td>\n",
       "      <td>O</td>\n",
       "      <td>O</td>\n",
       "      <td>O</td>\n",
       "      <td>O</td>\n",
       "      <td>O</td>\n",
       "      <td>O</td>\n",
       "      <td>O</td>\n",
       "      <td>O</td>\n",
       "      <td>O</td>\n",
       "      <td>O</td>\n",
       "      <td>O</td>\n",
       "      <td>O</td>\n",
       "      <td>O</td>\n",
       "      <td>O</td>\n",
       "      <td>O</td>\n",
       "      <td>O</td>\n",
       "      <td>O</td>\n",
       "      <td>O</td>\n",
       "      <td>O</td>\n",
       "      <td>O</td>\n",
       "      <td>O</td>\n",
       "      <td>O</td>\n",
       "      <td>O</td>\n",
       "      <td>O</td>\n",
       "      <td>O</td>\n",
       "      <td>O</td>\n",
       "      <td>O</td>\n",
       "      <td>O</td>\n",
       "      <td>O</td>\n",
       "      <td>O</td>\n",
       "      <td>O</td>\n",
       "      <td>O</td>\n",
       "      <td>O</td>\n",
       "      <td>O</td>\n",
       "      <td>O</td>\n",
       "      <td>O</td>\n",
       "      <td>O</td>\n",
       "      <td>O</td>\n",
       "      <td>O</td>\n",
       "      <td>O</td>\n",
       "      <td>O</td>\n",
       "      <td>O</td>\n",
       "      <td>...</td>\n",
       "      <td>O</td>\n",
       "      <td>O</td>\n",
       "      <td>O</td>\n",
       "      <td>O</td>\n",
       "      <td>O</td>\n",
       "      <td>O</td>\n",
       "      <td>O</td>\n",
       "      <td>O</td>\n",
       "      <td>O</td>\n",
       "      <td>O</td>\n",
       "      <td>O</td>\n",
       "      <td>O</td>\n",
       "      <td>O</td>\n",
       "      <td>O</td>\n",
       "      <td>O</td>\n",
       "      <td>O</td>\n",
       "      <td>O</td>\n",
       "      <td>O</td>\n",
       "      <td>O</td>\n",
       "      <td>O</td>\n",
       "      <td>O</td>\n",
       "      <td>O</td>\n",
       "      <td>O</td>\n",
       "      <td>O</td>\n",
       "      <td>O</td>\n",
       "      <td>O</td>\n",
       "      <td>O</td>\n",
       "      <td>O</td>\n",
       "      <td>O</td>\n",
       "      <td>O</td>\n",
       "      <td>O</td>\n",
       "      <td>O</td>\n",
       "      <td>O</td>\n",
       "      <td>O</td>\n",
       "      <td>O</td>\n",
       "      <td>O</td>\n",
       "      <td>O</td>\n",
       "      <td>O</td>\n",
       "      <td>O</td>\n",
       "      <td>O</td>\n",
       "      <td>O</td>\n",
       "      <td>O</td>\n",
       "      <td>O</td>\n",
       "      <td>O</td>\n",
       "      <td>O</td>\n",
       "      <td>O</td>\n",
       "      <td>O</td>\n",
       "      <td>O</td>\n",
       "      <td>O</td>\n",
       "      <td>O</td>\n",
       "    </tr>\n",
       "    <tr>\n",
       "      <th>71</th>\n",
       "      <td>0</td>\n",
       "      <td>424</td>\n",
       "      <td>431</td>\n",
       "      <td>vomiting</td>\n",
       "      <td>O</td>\n",
       "      <td>O</td>\n",
       "      <td>B-Symptom</td>\n",
       "      <td>B-Symptom</td>\n",
       "      <td>B-Symptom</td>\n",
       "      <td>B-Symptom</td>\n",
       "      <td>B-Problem</td>\n",
       "      <td>O</td>\n",
       "      <td>O</td>\n",
       "      <td>O</td>\n",
       "      <td>B-PROBLEM</td>\n",
       "      <td>O</td>\n",
       "      <td>O</td>\n",
       "      <td>O</td>\n",
       "      <td>B-Symptom</td>\n",
       "      <td>O</td>\n",
       "      <td>B-Disease</td>\n",
       "      <td>O</td>\n",
       "      <td>O</td>\n",
       "      <td>O</td>\n",
       "      <td>O</td>\n",
       "      <td>B-PROBLEM</td>\n",
       "      <td>O</td>\n",
       "      <td>O</td>\n",
       "      <td>O</td>\n",
       "      <td>O</td>\n",
       "      <td>O</td>\n",
       "      <td>O</td>\n",
       "      <td>B-Symptom</td>\n",
       "      <td>B-clinical_condition</td>\n",
       "      <td>O</td>\n",
       "      <td>O</td>\n",
       "      <td>O</td>\n",
       "      <td>B-Symptom</td>\n",
       "      <td>O</td>\n",
       "      <td>O</td>\n",
       "      <td>O</td>\n",
       "      <td>O</td>\n",
       "      <td>B-ADE</td>\n",
       "      <td>B-HP</td>\n",
       "      <td>O</td>\n",
       "      <td>O</td>\n",
       "      <td>B-PROBLEM</td>\n",
       "      <td>O</td>\n",
       "      <td>O</td>\n",
       "      <td>O</td>\n",
       "      <td>...</td>\n",
       "      <td>O</td>\n",
       "      <td>O</td>\n",
       "      <td>O</td>\n",
       "      <td>O</td>\n",
       "      <td>O</td>\n",
       "      <td>B-Disease</td>\n",
       "      <td>B-Symptom</td>\n",
       "      <td>O</td>\n",
       "      <td>O</td>\n",
       "      <td>O</td>\n",
       "      <td>O</td>\n",
       "      <td>O</td>\n",
       "      <td>B-Medicalfinding</td>\n",
       "      <td>O</td>\n",
       "      <td>B-Sign_or_Symptom</td>\n",
       "      <td>O</td>\n",
       "      <td>O</td>\n",
       "      <td>O</td>\n",
       "      <td>O</td>\n",
       "      <td>O</td>\n",
       "      <td>O</td>\n",
       "      <td>O</td>\n",
       "      <td>O</td>\n",
       "      <td>O</td>\n",
       "      <td>O</td>\n",
       "      <td>B-ADE</td>\n",
       "      <td>O</td>\n",
       "      <td>B-MedicalCondition</td>\n",
       "      <td>O</td>\n",
       "      <td>B-Symptom</td>\n",
       "      <td>O</td>\n",
       "      <td>O</td>\n",
       "      <td>B-Symptom</td>\n",
       "      <td>O</td>\n",
       "      <td>O</td>\n",
       "      <td>O</td>\n",
       "      <td>O</td>\n",
       "      <td>O</td>\n",
       "      <td>B-Symptom</td>\n",
       "      <td>O</td>\n",
       "      <td>B-PROBLEM</td>\n",
       "      <td>B-CONDITION</td>\n",
       "      <td>O</td>\n",
       "      <td>O</td>\n",
       "      <td>O</td>\n",
       "      <td>B-Symptom</td>\n",
       "      <td>B-clinical_condition</td>\n",
       "      <td>O</td>\n",
       "      <td>O</td>\n",
       "      <td>O</td>\n",
       "    </tr>\n",
       "    <tr>\n",
       "      <th>72</th>\n",
       "      <td>0</td>\n",
       "      <td>433</td>\n",
       "      <td>433</td>\n",
       "      <td>.</td>\n",
       "      <td>O</td>\n",
       "      <td>O</td>\n",
       "      <td>O</td>\n",
       "      <td>O</td>\n",
       "      <td>O</td>\n",
       "      <td>O</td>\n",
       "      <td>O</td>\n",
       "      <td>O</td>\n",
       "      <td>O</td>\n",
       "      <td>O</td>\n",
       "      <td>O</td>\n",
       "      <td>O</td>\n",
       "      <td>O</td>\n",
       "      <td>O</td>\n",
       "      <td>O</td>\n",
       "      <td>O</td>\n",
       "      <td>O</td>\n",
       "      <td>O</td>\n",
       "      <td>O</td>\n",
       "      <td>O</td>\n",
       "      <td>O</td>\n",
       "      <td>O</td>\n",
       "      <td>O</td>\n",
       "      <td>O</td>\n",
       "      <td>O</td>\n",
       "      <td>O</td>\n",
       "      <td>O</td>\n",
       "      <td>O</td>\n",
       "      <td>O</td>\n",
       "      <td>O</td>\n",
       "      <td>O</td>\n",
       "      <td>O</td>\n",
       "      <td>O</td>\n",
       "      <td>O</td>\n",
       "      <td>O</td>\n",
       "      <td>O</td>\n",
       "      <td>O</td>\n",
       "      <td>O</td>\n",
       "      <td>O</td>\n",
       "      <td>O</td>\n",
       "      <td>O</td>\n",
       "      <td>O</td>\n",
       "      <td>O</td>\n",
       "      <td>O</td>\n",
       "      <td>O</td>\n",
       "      <td>O</td>\n",
       "      <td>...</td>\n",
       "      <td>O</td>\n",
       "      <td>O</td>\n",
       "      <td>O</td>\n",
       "      <td>O</td>\n",
       "      <td>O</td>\n",
       "      <td>O</td>\n",
       "      <td>O</td>\n",
       "      <td>O</td>\n",
       "      <td>O</td>\n",
       "      <td>O</td>\n",
       "      <td>O</td>\n",
       "      <td>O</td>\n",
       "      <td>O</td>\n",
       "      <td>O</td>\n",
       "      <td>O</td>\n",
       "      <td>O</td>\n",
       "      <td>O</td>\n",
       "      <td>O</td>\n",
       "      <td>O</td>\n",
       "      <td>O</td>\n",
       "      <td>O</td>\n",
       "      <td>O</td>\n",
       "      <td>O</td>\n",
       "      <td>O</td>\n",
       "      <td>O</td>\n",
       "      <td>O</td>\n",
       "      <td>O</td>\n",
       "      <td>O</td>\n",
       "      <td>O</td>\n",
       "      <td>O</td>\n",
       "      <td>O</td>\n",
       "      <td>O</td>\n",
       "      <td>O</td>\n",
       "      <td>O</td>\n",
       "      <td>O</td>\n",
       "      <td>O</td>\n",
       "      <td>O</td>\n",
       "      <td>O</td>\n",
       "      <td>O</td>\n",
       "      <td>O</td>\n",
       "      <td>O</td>\n",
       "      <td>O</td>\n",
       "      <td>O</td>\n",
       "      <td>O</td>\n",
       "      <td>O</td>\n",
       "      <td>O</td>\n",
       "      <td>O</td>\n",
       "      <td>O</td>\n",
       "      <td>O</td>\n",
       "      <td>O</td>\n",
       "    </tr>\n",
       "  </tbody>\n",
       "</table>\n",
       "<p>73 rows × 102 columns</p>\n",
       "</div>"
      ]
     },
     "metadata": {
      "application/vnd.databricks.v1+output": {
       "addedWidgets": {},
       "arguments": {},
       "data": "<div>\n<style scoped>\n    .dataframe tbody tr th:only-of-type {\n        vertical-align: middle;\n    }\n\n    .dataframe tbody tr th {\n        vertical-align: top;\n    }\n\n    .dataframe thead th {\n        text-align: right;\n    }\n</style>\n<table border=\"1\" class=\"dataframe\">\n  <thead>\n    <tr style=\"text-align: right;\">\n      <th></th>\n      <th>sentence</th>\n      <th>begin</th>\n      <th>end</th>\n      <th>token</th>\n      <th>ner_deid_augmented</th>\n      <th>ner_deid_subentity_augmented_i2b2</th>\n      <th>ner_radiology_wip_clinical</th>\n      <th>ner_vop_slim_wip</th>\n      <th>ner_jsl_slim</th>\n      <th>ner_vop_wip</th>\n      <th>ner_vop_problem_reduced_wip</th>\n      <th>ner_vop_anatomy_wip</th>\n      <th>ner_deid_synthetic</th>\n      <th>ner_drugs_greedy</th>\n      <th>ner_events_admission_clinical</th>\n      <th>ner_posology_greedy</th>\n      <th>ner_vop_clinical_dept_wip</th>\n      <th>ner_oncology</th>\n      <th>ner_jsl_greedy</th>\n      <th>ner_sdoh_access_to_healthcare_wip</th>\n      <th>ner_diseases_large</th>\n      <th>ner_chemprot_clinical</th>\n      <th>ner_posology_large</th>\n      <th>ner_chexpert</th>\n      <th>ner_drugs_large</th>\n      <th>ner_clinical_large</th>\n      <th>ner_chemicals</th>\n      <th>ner_sdoh_slim_wip</th>\n      <th>ner_bacterial_species</th>\n      <th>ner_bionlp</th>\n      <th>ner_drugprot_clinical</th>\n      <th>ner_deid_large</th>\n      <th>jsl_ner_wip_modifier_clinical</th>\n      <th>ner_eu_clinical_condition</th>\n      <th>nerdl_tumour_demo</th>\n      <th>ner_cancer_genetics</th>\n      <th>ner_biomarker</th>\n      <th>ner_vop_problem_wip</th>\n      <th>ner_sdoh_mentions</th>\n      <th>ner_posology_small</th>\n      <th>ner_chemd_clinical</th>\n      <th>ner_human_phenotype_gene_clinical</th>\n      <th>ner_ade_clinical</th>\n      <th>ner_human_phenotype_go_clinical</th>\n      <th>ner_sdoh_social_environment_wip</th>\n      <th>ner_risk_factors</th>\n      <th>ner_clinical</th>\n      <th>ner_cellular</th>\n      <th>ner_oncology_anatomy_general</th>\n      <th>ner_deid_sd_large</th>\n      <th>...</th>\n      <th>ner_sdoh_demographics_wip</th>\n      <th>ner_sdoh_community_condition_wip</th>\n      <th>ner_living_species</th>\n      <th>ner_abbreviation_clinical</th>\n      <th>ner_oncology_test</th>\n      <th>ner_diseases</th>\n      <th>jsl_rd_ner_wip_greedy_clinical</th>\n      <th>ner_oncology_response_to_treatment</th>\n      <th>ner_drugs</th>\n      <th>ner_vop_treatment_wip</th>\n      <th>ner_clinical_trials_abstracts</th>\n      <th>ner_anatomy_coarse</th>\n      <th>ner_nature_nero_clinical</th>\n      <th>ner_oncology_anatomy_granular</th>\n      <th>ner_medmentions_coarse</th>\n      <th>ner_oncology_therapy</th>\n      <th>ner_deid_sd</th>\n      <th>ner_oncology_demographics</th>\n      <th>ner_deid_generic_augmented</th>\n      <th>ner_anatomy</th>\n      <th>ner_deid_enriched</th>\n      <th>ner_deid_subentity_augmented</th>\n      <th>ner_oncology_diagnosis</th>\n      <th>ner_sdoh_health_behaviours_problems_wip</th>\n      <th>ner_measurements_clinical</th>\n      <th>ner_ade_binary</th>\n      <th>ner_nihss</th>\n      <th>ner_pathogen</th>\n      <th>ner_vop_test_wip</th>\n      <th>ner_jsl_enriched</th>\n      <th>ner_oncology_tnm</th>\n      <th>ner_posology_experimental</th>\n      <th>jsl_ner_wip_clinical</th>\n      <th>ner_biomedical_bc2gm</th>\n      <th>ner_vop_temporal_wip</th>\n      <th>ner_oncology_wip</th>\n      <th>ner_vop_demographic_wip</th>\n      <th>ner_sdoh_income_social_status_wip</th>\n      <th>ner_jsl</th>\n      <th>ner_sdoh_substance_usage_wip</th>\n      <th>ner_events_clinical</th>\n      <th>ner_supplement_clinical</th>\n      <th>ner_oncology_unspecific_posology</th>\n      <th>ner_genetic_variants</th>\n      <th>ner_sdoh_wip</th>\n      <th>ner_radiology</th>\n      <th>ner_eu_clinical_case</th>\n      <th>ner_posology</th>\n      <th>ner_oncology_posology</th>\n      <th>ner_covid_trials</th>\n    </tr>\n  </thead>\n  <tbody>\n    <tr>\n      <th>0</th>\n      <td>0</td>\n      <td>0</td>\n      <td>0</td>\n      <td>A</td>\n      <td>O</td>\n      <td>O</td>\n      <td>O</td>\n      <td>O</td>\n      <td>O</td>\n      <td>O</td>\n      <td>O</td>\n      <td>O</td>\n      <td>O</td>\n      <td>O</td>\n      <td>O</td>\n      <td>O</td>\n      <td>O</td>\n      <td>O</td>\n      <td>O</td>\n      <td>O</td>\n      <td>O</td>\n      <td>O</td>\n      <td>O</td>\n      <td>O</td>\n      <td>O</td>\n      <td>O</td>\n      <td>O</td>\n      <td>O</td>\n      <td>O</td>\n      <td>O</td>\n      <td>O</td>\n      <td>O</td>\n      <td>O</td>\n      <td>O</td>\n      <td>O</td>\n      <td>O</td>\n      <td>O</td>\n      <td>O</td>\n      <td>O</td>\n      <td>O</td>\n      <td>O</td>\n      <td>O</td>\n      <td>O</td>\n      <td>O</td>\n      <td>O</td>\n      <td>O</td>\n      <td>O</td>\n      <td>O</td>\n      <td>O</td>\n      <td>O</td>\n      <td>...</td>\n      <td>O</td>\n      <td>O</td>\n      <td>O</td>\n      <td>O</td>\n      <td>O</td>\n      <td>O</td>\n      <td>O</td>\n      <td>O</td>\n      <td>O</td>\n      <td>O</td>\n      <td>O</td>\n      <td>O</td>\n      <td>O</td>\n      <td>O</td>\n      <td>O</td>\n      <td>O</td>\n      <td>O</td>\n      <td>O</td>\n      <td>O</td>\n      <td>O</td>\n      <td>O</td>\n      <td>O</td>\n      <td>O</td>\n      <td>O</td>\n      <td>O</td>\n      <td>O</td>\n      <td>O</td>\n      <td>O</td>\n      <td>O</td>\n      <td>O</td>\n      <td>O</td>\n      <td>O</td>\n      <td>O</td>\n      <td>O</td>\n      <td>O</td>\n      <td>O</td>\n      <td>O</td>\n      <td>O</td>\n      <td>O</td>\n      <td>O</td>\n      <td>O</td>\n      <td>O</td>\n      <td>O</td>\n      <td>O</td>\n      <td>O</td>\n      <td>O</td>\n      <td>B-patient</td>\n      <td>O</td>\n      <td>O</td>\n      <td>O</td>\n    </tr>\n    <tr>\n      <th>1</th>\n      <td>0</td>\n      <td>2</td>\n      <td>12</td>\n      <td>28-year-old</td>\n      <td>O</td>\n      <td>O</td>\n      <td>O</td>\n      <td>O</td>\n      <td>B-Age</td>\n      <td>B-Age</td>\n      <td>O</td>\n      <td>O</td>\n      <td>O</td>\n      <td>O</td>\n      <td>O</td>\n      <td>O</td>\n      <td>O</td>\n      <td>B-Gender</td>\n      <td>B-Age</td>\n      <td>O</td>\n      <td>O</td>\n      <td>O</td>\n      <td>O</td>\n      <td>O</td>\n      <td>O</td>\n      <td>O</td>\n      <td>O</td>\n      <td>B-Marital_Status</td>\n      <td>O</td>\n      <td>O</td>\n      <td>O</td>\n      <td>O</td>\n      <td>B-Age</td>\n      <td>O</td>\n      <td>O</td>\n      <td>O</td>\n      <td>B-Age</td>\n      <td>O</td>\n      <td>O</td>\n      <td>O</td>\n      <td>O</td>\n      <td>O</td>\n      <td>O</td>\n      <td>O</td>\n      <td>O</td>\n      <td>O</td>\n      <td>O</td>\n      <td>O</td>\n      <td>O</td>\n      <td>O</td>\n      <td>...</td>\n      <td>B-Gender</td>\n      <td>O</td>\n      <td>O</td>\n      <td>O</td>\n      <td>O</td>\n      <td>O</td>\n      <td>B-Age</td>\n      <td>O</td>\n      <td>O</td>\n      <td>O</td>\n      <td>O</td>\n      <td>O</td>\n      <td>B-Person</td>\n      <td>O</td>\n      <td>O</td>\n      <td>O</td>\n      <td>O</td>\n      <td>B-Gender</td>\n      <td>B-AGE</td>\n      <td>O</td>\n      <td>O</td>\n      <td>B-AGE</td>\n      <td>O</td>\n      <td>O</td>\n      <td>O</td>\n      <td>O</td>\n      <td>O</td>\n      <td>O</td>\n      <td>O</td>\n      <td>B-Age</td>\n      <td>O</td>\n      <td>O</td>\n      <td>B-Age</td>\n      <td>O</td>\n      <td>O</td>\n      <td>B-Gender</td>\n      <td>B-Age</td>\n      <td>O</td>\n      <td>B-Age</td>\n      <td>O</td>\n      <td>O</td>\n      <td>O</td>\n      <td>O</td>\n      <td>O</td>\n      <td>B-Gender</td>\n      <td>O</td>\n      <td>I-patient</td>\n      <td>O</td>\n      <td>O</td>\n      <td>B-Gender</td>\n    </tr>\n    <tr>\n      <th>2</th>\n      <td>0</td>\n      <td>14</td>\n      <td>19</td>\n      <td>female</td>\n      <td>O</td>\n      <td>O</td>\n      <td>O</td>\n      <td>B-Gender</td>\n      <td>B-Demographics</td>\n      <td>B-Gender</td>\n      <td>O</td>\n      <td>O</td>\n      <td>O</td>\n      <td>O</td>\n      <td>O</td>\n      <td>O</td>\n      <td>O</td>\n      <td>B-Gender</td>\n      <td>B-Gender</td>\n      <td>O</td>\n      <td>O</td>\n      <td>O</td>\n      <td>O</td>\n      <td>O</td>\n      <td>O</td>\n      <td>O</td>\n      <td>O</td>\n      <td>B-Gender</td>\n      <td>O</td>\n      <td>B-Organism</td>\n      <td>O</td>\n      <td>O</td>\n      <td>B-Gender</td>\n      <td>O</td>\n      <td>O</td>\n      <td>O</td>\n      <td>B-Gender</td>\n      <td>O</td>\n      <td>O</td>\n      <td>O</td>\n      <td>O</td>\n      <td>O</td>\n      <td>O</td>\n      <td>O</td>\n      <td>O</td>\n      <td>O</td>\n      <td>O</td>\n      <td>O</td>\n      <td>O</td>\n      <td>O</td>\n      <td>...</td>\n      <td>B-Gender</td>\n      <td>O</td>\n      <td>B-HUMAN</td>\n      <td>O</td>\n      <td>O</td>\n      <td>O</td>\n      <td>B-Gender</td>\n      <td>O</td>\n      <td>O</td>\n      <td>O</td>\n      <td>O</td>\n      <td>O</td>\n      <td>I-Person</td>\n      <td>O</td>\n      <td>B-Organism_Attribute</td>\n      <td>O</td>\n      <td>O</td>\n      <td>B-Gender</td>\n      <td>O</td>\n      <td>O</td>\n      <td>O</td>\n      <td>O</td>\n      <td>O</td>\n      <td>O</td>\n      <td>O</td>\n      <td>O</td>\n      <td>O</td>\n      <td>O</td>\n      <td>O</td>\n      <td>B-Gender</td>\n      <td>O</td>\n      <td>O</td>\n      <td>B-Gender</td>\n      <td>O</td>\n      <td>O</td>\n      <td>B-Gender</td>\n      <td>B-Gender</td>\n      <td>O</td>\n      <td>B-Gender</td>\n      <td>O</td>\n      <td>O</td>\n      <td>O</td>\n      <td>O</td>\n      <td>O</td>\n      <td>B-Gender</td>\n      <td>O</td>\n      <td>I-patient</td>\n      <td>O</td>\n      <td>O</td>\n      <td>B-Gender</td>\n    </tr>\n    <tr>\n      <th>3</th>\n      <td>0</td>\n      <td>21</td>\n      <td>24</td>\n      <td>with</td>\n      <td>O</td>\n      <td>O</td>\n      <td>O</td>\n      <td>O</td>\n      <td>O</td>\n      <td>O</td>\n      <td>O</td>\n      <td>O</td>\n      <td>O</td>\n      <td>O</td>\n      <td>O</td>\n      <td>O</td>\n      <td>O</td>\n      <td>O</td>\n      <td>O</td>\n      <td>O</td>\n      <td>O</td>\n      <td>O</td>\n      <td>O</td>\n      <td>O</td>\n      <td>O</td>\n      <td>O</td>\n      <td>O</td>\n      <td>O</td>\n      <td>O</td>\n      <td>O</td>\n      <td>O</td>\n      <td>O</td>\n      <td>O</td>\n      <td>O</td>\n      <td>O</td>\n      <td>O</td>\n      <td>O</td>\n      <td>O</td>\n      <td>O</td>\n      <td>O</td>\n      <td>O</td>\n      <td>O</td>\n      <td>O</td>\n      <td>O</td>\n      <td>O</td>\n      <td>O</td>\n      <td>O</td>\n      <td>O</td>\n      <td>O</td>\n      <td>O</td>\n      <td>...</td>\n      <td>O</td>\n      <td>O</td>\n      <td>O</td>\n      <td>O</td>\n      <td>O</td>\n      <td>O</td>\n      <td>O</td>\n      <td>O</td>\n      <td>O</td>\n      <td>O</td>\n      <td>O</td>\n      <td>O</td>\n      <td>O</td>\n      <td>O</td>\n      <td>O</td>\n      <td>O</td>\n      <td>O</td>\n      <td>O</td>\n      <td>O</td>\n      <td>O</td>\n      <td>O</td>\n      <td>O</td>\n      <td>O</td>\n      <td>O</td>\n      <td>O</td>\n      <td>O</td>\n      <td>O</td>\n      <td>O</td>\n      <td>O</td>\n      <td>O</td>\n      <td>O</td>\n      <td>O</td>\n      <td>O</td>\n      <td>O</td>\n      <td>O</td>\n      <td>O</td>\n      <td>O</td>\n      <td>O</td>\n      <td>O</td>\n      <td>O</td>\n      <td>O</td>\n      <td>O</td>\n      <td>O</td>\n      <td>O</td>\n      <td>O</td>\n      <td>O</td>\n      <td>O</td>\n      <td>O</td>\n      <td>O</td>\n      <td>O</td>\n    </tr>\n    <tr>\n      <th>4</th>\n      <td>0</td>\n      <td>26</td>\n      <td>26</td>\n      <td>a</td>\n      <td>O</td>\n      <td>O</td>\n      <td>O</td>\n      <td>O</td>\n      <td>O</td>\n      <td>O</td>\n      <td>O</td>\n      <td>O</td>\n      <td>O</td>\n      <td>O</td>\n      <td>O</td>\n      <td>O</td>\n      <td>O</td>\n      <td>O</td>\n      <td>O</td>\n      <td>O</td>\n      <td>O</td>\n      <td>O</td>\n      <td>O</td>\n      <td>O</td>\n      <td>O</td>\n      <td>O</td>\n      <td>O</td>\n      <td>O</td>\n      <td>O</td>\n      <td>O</td>\n      <td>O</td>\n      <td>O</td>\n      <td>O</td>\n      <td>O</td>\n      <td>O</td>\n      <td>O</td>\n      <td>O</td>\n      <td>O</td>\n      <td>O</td>\n      <td>O</td>\n      <td>O</td>\n      <td>O</td>\n      <td>O</td>\n      <td>O</td>\n      <td>O</td>\n      <td>O</td>\n      <td>O</td>\n      <td>O</td>\n      <td>O</td>\n      <td>O</td>\n      <td>...</td>\n      <td>O</td>\n      <td>O</td>\n      <td>O</td>\n      <td>O</td>\n      <td>O</td>\n      <td>O</td>\n      <td>O</td>\n      <td>O</td>\n      <td>O</td>\n      <td>O</td>\n      <td>O</td>\n      <td>O</td>\n      <td>O</td>\n      <td>O</td>\n      <td>O</td>\n      <td>O</td>\n      <td>O</td>\n      <td>O</td>\n      <td>O</td>\n      <td>O</td>\n      <td>O</td>\n      <td>O</td>\n      <td>O</td>\n      <td>O</td>\n      <td>O</td>\n      <td>O</td>\n      <td>O</td>\n      <td>O</td>\n      <td>O</td>\n      <td>O</td>\n      <td>O</td>\n      <td>O</td>\n      <td>O</td>\n      <td>O</td>\n      <td>O</td>\n      <td>O</td>\n      <td>O</td>\n      <td>O</td>\n      <td>O</td>\n      <td>O</td>\n      <td>O</td>\n      <td>O</td>\n      <td>O</td>\n      <td>O</td>\n      <td>O</td>\n      <td>O</td>\n      <td>O</td>\n      <td>O</td>\n      <td>O</td>\n      <td>O</td>\n    </tr>\n    <tr>\n      <th>...</th>\n      <td>...</td>\n      <td>...</td>\n      <td>...</td>\n      <td>...</td>\n      <td>...</td>\n      <td>...</td>\n      <td>...</td>\n      <td>...</td>\n      <td>...</td>\n      <td>...</td>\n      <td>...</td>\n      <td>...</td>\n      <td>...</td>\n      <td>...</td>\n      <td>...</td>\n      <td>...</td>\n      <td>...</td>\n      <td>...</td>\n      <td>...</td>\n      <td>...</td>\n      <td>...</td>\n      <td>...</td>\n      <td>...</td>\n      <td>...</td>\n      <td>...</td>\n      <td>...</td>\n      <td>...</td>\n      <td>...</td>\n      <td>...</td>\n      <td>...</td>\n      <td>...</td>\n      <td>...</td>\n      <td>...</td>\n      <td>...</td>\n      <td>...</td>\n      <td>...</td>\n      <td>...</td>\n      <td>...</td>\n      <td>...</td>\n      <td>...</td>\n      <td>...</td>\n      <td>...</td>\n      <td>...</td>\n      <td>...</td>\n      <td>...</td>\n      <td>...</td>\n      <td>...</td>\n      <td>...</td>\n      <td>...</td>\n      <td>...</td>\n      <td>...</td>\n      <td>...</td>\n      <td>...</td>\n      <td>...</td>\n      <td>...</td>\n      <td>...</td>\n      <td>...</td>\n      <td>...</td>\n      <td>...</td>\n      <td>...</td>\n      <td>...</td>\n      <td>...</td>\n      <td>...</td>\n      <td>...</td>\n      <td>...</td>\n      <td>...</td>\n      <td>...</td>\n      <td>...</td>\n      <td>...</td>\n      <td>...</td>\n      <td>...</td>\n      <td>...</td>\n      <td>...</td>\n      <td>...</td>\n      <td>...</td>\n      <td>...</td>\n      <td>...</td>\n      <td>...</td>\n      <td>...</td>\n      <td>...</td>\n      <td>...</td>\n      <td>...</td>\n      <td>...</td>\n      <td>...</td>\n      <td>...</td>\n      <td>...</td>\n      <td>...</td>\n      <td>...</td>\n      <td>...</td>\n      <td>...</td>\n      <td>...</td>\n      <td>...</td>\n      <td>...</td>\n      <td>...</td>\n      <td>...</td>\n      <td>...</td>\n      <td>...</td>\n      <td>...</td>\n      <td>...</td>\n      <td>...</td>\n      <td>...</td>\n    </tr>\n    <tr>\n      <th>68</th>\n      <td>0</td>\n      <td>409</td>\n      <td>416</td>\n      <td>appetite</td>\n      <td>O</td>\n      <td>O</td>\n      <td>I-Symptom</td>\n      <td>I-Symptom</td>\n      <td>I-Symptom</td>\n      <td>I-Symptom</td>\n      <td>I-Problem</td>\n      <td>O</td>\n      <td>O</td>\n      <td>O</td>\n      <td>I-PROBLEM</td>\n      <td>O</td>\n      <td>O</td>\n      <td>O</td>\n      <td>I-Symptom</td>\n      <td>O</td>\n      <td>O</td>\n      <td>O</td>\n      <td>O</td>\n      <td>O</td>\n      <td>O</td>\n      <td>I-PROBLEM</td>\n      <td>O</td>\n      <td>O</td>\n      <td>O</td>\n      <td>O</td>\n      <td>O</td>\n      <td>O</td>\n      <td>I-Symptom</td>\n      <td>I-clinical_condition</td>\n      <td>O</td>\n      <td>O</td>\n      <td>O</td>\n      <td>I-Symptom</td>\n      <td>O</td>\n      <td>O</td>\n      <td>O</td>\n      <td>O</td>\n      <td>I-ADE</td>\n      <td>O</td>\n      <td>O</td>\n      <td>O</td>\n      <td>I-PROBLEM</td>\n      <td>O</td>\n      <td>O</td>\n      <td>O</td>\n      <td>...</td>\n      <td>O</td>\n      <td>I-Community_Living_Conditions</td>\n      <td>O</td>\n      <td>O</td>\n      <td>O</td>\n      <td>I-Disease</td>\n      <td>I-Symptom</td>\n      <td>O</td>\n      <td>O</td>\n      <td>O</td>\n      <td>O</td>\n      <td>O</td>\n      <td>I-Medicalfinding</td>\n      <td>O</td>\n      <td>I-Sign_or_Symptom</td>\n      <td>O</td>\n      <td>O</td>\n      <td>O</td>\n      <td>O</td>\n      <td>O</td>\n      <td>O</td>\n      <td>O</td>\n      <td>O</td>\n      <td>O</td>\n      <td>O</td>\n      <td>I-ADE</td>\n      <td>O</td>\n      <td>I-MedicalCondition</td>\n      <td>O</td>\n      <td>I-Symptom</td>\n      <td>O</td>\n      <td>O</td>\n      <td>I-Symptom</td>\n      <td>O</td>\n      <td>O</td>\n      <td>O</td>\n      <td>O</td>\n      <td>O</td>\n      <td>I-Symptom</td>\n      <td>O</td>\n      <td>I-PROBLEM</td>\n      <td>O</td>\n      <td>O</td>\n      <td>O</td>\n      <td>O</td>\n      <td>I-Symptom</td>\n      <td>I-clinical_condition</td>\n      <td>O</td>\n      <td>O</td>\n      <td>O</td>\n    </tr>\n    <tr>\n      <th>69</th>\n      <td>0</td>\n      <td>418</td>\n      <td>418</td>\n      <td>,</td>\n      <td>O</td>\n      <td>O</td>\n      <td>O</td>\n      <td>O</td>\n      <td>O</td>\n      <td>O</td>\n      <td>O</td>\n      <td>O</td>\n      <td>O</td>\n      <td>O</td>\n      <td>O</td>\n      <td>O</td>\n      <td>O</td>\n      <td>O</td>\n      <td>O</td>\n      <td>O</td>\n      <td>O</td>\n      <td>O</td>\n      <td>O</td>\n      <td>O</td>\n      <td>O</td>\n      <td>O</td>\n      <td>O</td>\n      <td>O</td>\n      <td>O</td>\n      <td>O</td>\n      <td>O</td>\n      <td>O</td>\n      <td>O</td>\n      <td>O</td>\n      <td>O</td>\n      <td>O</td>\n      <td>O</td>\n      <td>O</td>\n      <td>O</td>\n      <td>O</td>\n      <td>O</td>\n      <td>O</td>\n      <td>O</td>\n      <td>O</td>\n      <td>O</td>\n      <td>O</td>\n      <td>O</td>\n      <td>O</td>\n      <td>O</td>\n      <td>O</td>\n      <td>...</td>\n      <td>O</td>\n      <td>O</td>\n      <td>O</td>\n      <td>O</td>\n      <td>O</td>\n      <td>O</td>\n      <td>O</td>\n      <td>O</td>\n      <td>O</td>\n      <td>O</td>\n      <td>O</td>\n      <td>O</td>\n      <td>O</td>\n      <td>O</td>\n      <td>O</td>\n      <td>O</td>\n      <td>O</td>\n      <td>O</td>\n      <td>O</td>\n      <td>O</td>\n      <td>O</td>\n      <td>O</td>\n      <td>O</td>\n      <td>O</td>\n      <td>O</td>\n      <td>O</td>\n      <td>O</td>\n      <td>O</td>\n      <td>O</td>\n      <td>O</td>\n      <td>O</td>\n      <td>O</td>\n      <td>O</td>\n      <td>O</td>\n      <td>O</td>\n      <td>O</td>\n      <td>O</td>\n      <td>O</td>\n      <td>O</td>\n      <td>O</td>\n      <td>O</td>\n      <td>O</td>\n      <td>O</td>\n      <td>O</td>\n      <td>O</td>\n      <td>O</td>\n      <td>O</td>\n      <td>O</td>\n      <td>O</td>\n      <td>O</td>\n    </tr>\n    <tr>\n      <th>70</th>\n      <td>0</td>\n      <td>420</td>\n      <td>422</td>\n      <td>and</td>\n      <td>O</td>\n      <td>O</td>\n      <td>O</td>\n      <td>O</td>\n      <td>O</td>\n      <td>O</td>\n      <td>O</td>\n      <td>O</td>\n      <td>O</td>\n      <td>O</td>\n      <td>O</td>\n      <td>O</td>\n      <td>O</td>\n      <td>O</td>\n      <td>O</td>\n      <td>O</td>\n      <td>O</td>\n      <td>O</td>\n      <td>O</td>\n      <td>O</td>\n      <td>O</td>\n      <td>O</td>\n      <td>O</td>\n      <td>O</td>\n      <td>O</td>\n      <td>O</td>\n      <td>O</td>\n      <td>O</td>\n      <td>O</td>\n      <td>O</td>\n      <td>O</td>\n      <td>O</td>\n      <td>O</td>\n      <td>O</td>\n      <td>O</td>\n      <td>O</td>\n      <td>O</td>\n      <td>O</td>\n      <td>O</td>\n      <td>O</td>\n      <td>O</td>\n      <td>O</td>\n      <td>O</td>\n      <td>O</td>\n      <td>O</td>\n      <td>O</td>\n      <td>...</td>\n      <td>O</td>\n      <td>O</td>\n      <td>O</td>\n      <td>O</td>\n      <td>O</td>\n      <td>O</td>\n      <td>O</td>\n      <td>O</td>\n      <td>O</td>\n      <td>O</td>\n      <td>O</td>\n      <td>O</td>\n      <td>O</td>\n      <td>O</td>\n      <td>O</td>\n      <td>O</td>\n      <td>O</td>\n      <td>O</td>\n      <td>O</td>\n      <td>O</td>\n      <td>O</td>\n      <td>O</td>\n      <td>O</td>\n      <td>O</td>\n      <td>O</td>\n      <td>O</td>\n      <td>O</td>\n      <td>O</td>\n      <td>O</td>\n      <td>O</td>\n      <td>O</td>\n      <td>O</td>\n      <td>O</td>\n      <td>O</td>\n      <td>O</td>\n      <td>O</td>\n      <td>O</td>\n      <td>O</td>\n      <td>O</td>\n      <td>O</td>\n      <td>O</td>\n      <td>O</td>\n      <td>O</td>\n      <td>O</td>\n      <td>O</td>\n      <td>O</td>\n      <td>O</td>\n      <td>O</td>\n      <td>O</td>\n      <td>O</td>\n    </tr>\n    <tr>\n      <th>71</th>\n      <td>0</td>\n      <td>424</td>\n      <td>431</td>\n      <td>vomiting</td>\n      <td>O</td>\n      <td>O</td>\n      <td>B-Symptom</td>\n      <td>B-Symptom</td>\n      <td>B-Symptom</td>\n      <td>B-Symptom</td>\n      <td>B-Problem</td>\n      <td>O</td>\n      <td>O</td>\n      <td>O</td>\n      <td>B-PROBLEM</td>\n      <td>O</td>\n      <td>O</td>\n      <td>O</td>\n      <td>B-Symptom</td>\n      <td>O</td>\n      <td>B-Disease</td>\n      <td>O</td>\n      <td>O</td>\n      <td>O</td>\n      <td>O</td>\n      <td>B-PROBLEM</td>\n      <td>O</td>\n      <td>O</td>\n      <td>O</td>\n      <td>O</td>\n      <td>O</td>\n      <td>O</td>\n      <td>B-Symptom</td>\n      <td>B-clinical_condition</td>\n      <td>O</td>\n      <td>O</td>\n      <td>O</td>\n      <td>B-Symptom</td>\n      <td>O</td>\n      <td>O</td>\n      <td>O</td>\n      <td>O</td>\n      <td>B-ADE</td>\n      <td>B-HP</td>\n      <td>O</td>\n      <td>O</td>\n      <td>B-PROBLEM</td>\n      <td>O</td>\n      <td>O</td>\n      <td>O</td>\n      <td>...</td>\n      <td>O</td>\n      <td>O</td>\n      <td>O</td>\n      <td>O</td>\n      <td>O</td>\n      <td>B-Disease</td>\n      <td>B-Symptom</td>\n      <td>O</td>\n      <td>O</td>\n      <td>O</td>\n      <td>O</td>\n      <td>O</td>\n      <td>B-Medicalfinding</td>\n      <td>O</td>\n      <td>B-Sign_or_Symptom</td>\n      <td>O</td>\n      <td>O</td>\n      <td>O</td>\n      <td>O</td>\n      <td>O</td>\n      <td>O</td>\n      <td>O</td>\n      <td>O</td>\n      <td>O</td>\n      <td>O</td>\n      <td>B-ADE</td>\n      <td>O</td>\n      <td>B-MedicalCondition</td>\n      <td>O</td>\n      <td>B-Symptom</td>\n      <td>O</td>\n      <td>O</td>\n      <td>B-Symptom</td>\n      <td>O</td>\n      <td>O</td>\n      <td>O</td>\n      <td>O</td>\n      <td>O</td>\n      <td>B-Symptom</td>\n      <td>O</td>\n      <td>B-PROBLEM</td>\n      <td>B-CONDITION</td>\n      <td>O</td>\n      <td>O</td>\n      <td>O</td>\n      <td>B-Symptom</td>\n      <td>B-clinical_condition</td>\n      <td>O</td>\n      <td>O</td>\n      <td>O</td>\n    </tr>\n    <tr>\n      <th>72</th>\n      <td>0</td>\n      <td>433</td>\n      <td>433</td>\n      <td>.</td>\n      <td>O</td>\n      <td>O</td>\n      <td>O</td>\n      <td>O</td>\n      <td>O</td>\n      <td>O</td>\n      <td>O</td>\n      <td>O</td>\n      <td>O</td>\n      <td>O</td>\n      <td>O</td>\n      <td>O</td>\n      <td>O</td>\n      <td>O</td>\n      <td>O</td>\n      <td>O</td>\n      <td>O</td>\n      <td>O</td>\n      <td>O</td>\n      <td>O</td>\n      <td>O</td>\n      <td>O</td>\n      <td>O</td>\n      <td>O</td>\n      <td>O</td>\n      <td>O</td>\n      <td>O</td>\n      <td>O</td>\n      <td>O</td>\n      <td>O</td>\n      <td>O</td>\n      <td>O</td>\n      <td>O</td>\n      <td>O</td>\n      <td>O</td>\n      <td>O</td>\n      <td>O</td>\n      <td>O</td>\n      <td>O</td>\n      <td>O</td>\n      <td>O</td>\n      <td>O</td>\n      <td>O</td>\n      <td>O</td>\n      <td>O</td>\n      <td>O</td>\n      <td>...</td>\n      <td>O</td>\n      <td>O</td>\n      <td>O</td>\n      <td>O</td>\n      <td>O</td>\n      <td>O</td>\n      <td>O</td>\n      <td>O</td>\n      <td>O</td>\n      <td>O</td>\n      <td>O</td>\n      <td>O</td>\n      <td>O</td>\n      <td>O</td>\n      <td>O</td>\n      <td>O</td>\n      <td>O</td>\n      <td>O</td>\n      <td>O</td>\n      <td>O</td>\n      <td>O</td>\n      <td>O</td>\n      <td>O</td>\n      <td>O</td>\n      <td>O</td>\n      <td>O</td>\n      <td>O</td>\n      <td>O</td>\n      <td>O</td>\n      <td>O</td>\n      <td>O</td>\n      <td>O</td>\n      <td>O</td>\n      <td>O</td>\n      <td>O</td>\n      <td>O</td>\n      <td>O</td>\n      <td>O</td>\n      <td>O</td>\n      <td>O</td>\n      <td>O</td>\n      <td>O</td>\n      <td>O</td>\n      <td>O</td>\n      <td>O</td>\n      <td>O</td>\n      <td>O</td>\n      <td>O</td>\n      <td>O</td>\n      <td>O</td>\n    </tr>\n  </tbody>\n</table>\n<p>73 rows × 102 columns</p>\n</div>",
       "datasetInfos": [],
       "metadata": {},
       "removedWidgets": [],
       "textData": null,
       "type": "htmlSandbox"
      }
     },
     "output_type": "display_data"
    }
   ],
   "source": [
    "get_token_results(clinical_result)"
   ]
  },
  {
   "cell_type": "markdown",
   "metadata": {
    "application/vnd.databricks.v1+cell": {
     "cellMetadata": {
      "byteLimit": 2048000,
      "rowLimit": 10000
     },
     "inputWidgets": {},
     "nuid": "cf695846-149c-4b4a-9048-da17ab2e2cb2",
     "showTitle": false,
     "title": ""
    }
   },
   "source": [
    "## 10.NER Model Finder Pretrained Pipeline\n",
    "`ner_model_finder`  pretrained pipeline trained with bert embeddings that can be used to find the most appropriate NER model given the entity name."
   ]
  },
  {
   "cell_type": "code",
   "execution_count": 0,
   "metadata": {
    "application/vnd.databricks.v1+cell": {
     "cellMetadata": {
      "byteLimit": 2048000,
      "rowLimit": 10000
     },
     "inputWidgets": {},
     "nuid": "f4e0336b-25b2-4536-8882-752047799771",
     "showTitle": false,
     "title": ""
    }
   },
   "outputs": [
    {
     "output_type": "stream",
     "name": "stdout",
     "output_type": "stream",
     "text": [
      "ner_model_finder download started this may take some time.\nApprox size to download 148.7 MB\n\r[ | ]\r[ / ]\r[ — ]\r[ \\ ]\r[ | ]\r[ / ]\r[ — ]\r[ \\ ]\r[OK!]\n"
     ]
    }
   ],
   "source": [
    "finder_pipeline = nlp.PretrainedPipeline(\"ner_model_finder\", \"en\", \"clinical/models\")"
   ]
  },
  {
   "cell_type": "code",
   "execution_count": 0,
   "metadata": {
    "application/vnd.databricks.v1+cell": {
     "cellMetadata": {
      "byteLimit": 2048000,
      "rowLimit": 10000
     },
     "inputWidgets": {},
     "nuid": "94648860-8ab5-4034-b992-48d38b650b60",
     "showTitle": false,
     "title": ""
    }
   },
   "outputs": [
    {
     "output_type": "stream",
     "name": "stdout",
     "output_type": "stream",
     "text": [
      "Out[9]: dict_keys(['model_names'])"
     ]
    }
   ],
   "source": [
    "result = finder_pipeline.fullAnnotate(\"oncology\")[0]\n",
    "result.keys()"
   ]
  },
  {
   "cell_type": "markdown",
   "metadata": {
    "application/vnd.databricks.v1+cell": {
     "cellMetadata": {
      "byteLimit": 2048000,
      "rowLimit": 10000
     },
     "inputWidgets": {},
     "nuid": "188e64d0-0abb-49f8-8ae7-b722f0e7a101",
     "showTitle": false,
     "title": ""
    }
   },
   "source": [
    "From the metadata in the 'model_names' column, we'll get to the top models to the given 'oncology' entity and oncology related categories."
   ]
  },
  {
   "cell_type": "code",
   "execution_count": 0,
   "metadata": {
    "application/vnd.databricks.v1+cell": {
     "cellMetadata": {
      "byteLimit": 2048000,
      "rowLimit": 10000
     },
     "inputWidgets": {},
     "nuid": "70dd0c80-a36a-427b-ba26-fe691d3f3749",
     "showTitle": false,
     "title": ""
    }
   },
   "outputs": [],
   "source": [
    "df= pd.DataFrame(zip(result[\"model_names\"][0].metadata[\"all_k_resolutions\"].split(\":::\"), \n",
    "                     result[\"model_names\"][0].metadata[\"all_k_results\"].split(\":::\")), \n",
    "                 columns=[\"category\", \"top_models\"])"
   ]
  },
  {
   "cell_type": "code",
   "execution_count": 0,
   "metadata": {
    "application/vnd.databricks.v1+cell": {
     "cellMetadata": {
      "byteLimit": 2048000,
      "rowLimit": 10000
     },
     "inputWidgets": {},
     "nuid": "c697d581-580f-469a-85fa-3f163745ff3d",
     "showTitle": false,
     "title": ""
    }
   },
   "outputs": [
    {
     "output_type": "display_data",
     "data": {
      "text/html": [
       "<div>\n",
       "<style scoped>\n",
       "    .dataframe tbody tr th:only-of-type {\n",
       "        vertical-align: middle;\n",
       "    }\n",
       "\n",
       "    .dataframe tbody tr th {\n",
       "        vertical-align: top;\n",
       "    }\n",
       "\n",
       "    .dataframe thead th {\n",
       "        text-align: right;\n",
       "    }\n",
       "</style>\n",
       "<table border=\"1\" class=\"dataframe\">\n",
       "  <thead>\n",
       "    <tr style=\"text-align: right;\">\n",
       "      <th></th>\n",
       "      <th>category</th>\n",
       "      <th>top_models</th>\n",
       "    </tr>\n",
       "  </thead>\n",
       "  <tbody>\n",
       "    <tr>\n",
       "      <th>0</th>\n",
       "      <td>oncology therapy</td>\n",
       "      <td>['ner_jsl', 'jsl_rd_ner_wip_greedy_clinical', 'jsl_ner_wip_modifier_clinical', 'ner_jsl_enriched...</td>\n",
       "    </tr>\n",
       "    <tr>\n",
       "      <th>1</th>\n",
       "      <td>clinical department</td>\n",
       "      <td>['ner_jsl', 'jsl_rd_ner_wip_greedy_clinical', 'jsl_ner_wip_modifier_clinical', 'ner_events_clini...</td>\n",
       "    </tr>\n",
       "    <tr>\n",
       "      <th>2</th>\n",
       "      <td>biomedical unit</td>\n",
       "      <td>['ner_clinical_trials_abstracts']</td>\n",
       "    </tr>\n",
       "    <tr>\n",
       "      <th>3</th>\n",
       "      <td>cancer genetics</td>\n",
       "      <td>['ner_cancer_genetics']</td>\n",
       "    </tr>\n",
       "    <tr>\n",
       "      <th>4</th>\n",
       "      <td>anatomy</td>\n",
       "      <td>['ner_bionlp', 'ner_medmentions_coarse', 'ner_chexpert', 'ner_anatomy_coarse', 'ner_anatomy', 'n...</td>\n",
       "    </tr>\n",
       "  </tbody>\n",
       "</table>\n",
       "</div>"
      ]
     },
     "metadata": {
      "application/vnd.databricks.v1+output": {
       "addedWidgets": {},
       "arguments": {},
       "data": "<div>\n<style scoped>\n    .dataframe tbody tr th:only-of-type {\n        vertical-align: middle;\n    }\n\n    .dataframe tbody tr th {\n        vertical-align: top;\n    }\n\n    .dataframe thead th {\n        text-align: right;\n    }\n</style>\n<table border=\"1\" class=\"dataframe\">\n  <thead>\n    <tr style=\"text-align: right;\">\n      <th></th>\n      <th>category</th>\n      <th>top_models</th>\n    </tr>\n  </thead>\n  <tbody>\n    <tr>\n      <th>0</th>\n      <td>oncology therapy</td>\n      <td>['ner_jsl', 'jsl_rd_ner_wip_greedy_clinical', 'jsl_ner_wip_modifier_clinical', 'ner_jsl_enriched...</td>\n    </tr>\n    <tr>\n      <th>1</th>\n      <td>clinical department</td>\n      <td>['ner_jsl', 'jsl_rd_ner_wip_greedy_clinical', 'jsl_ner_wip_modifier_clinical', 'ner_events_clini...</td>\n    </tr>\n    <tr>\n      <th>2</th>\n      <td>biomedical unit</td>\n      <td>['ner_clinical_trials_abstracts']</td>\n    </tr>\n    <tr>\n      <th>3</th>\n      <td>cancer genetics</td>\n      <td>['ner_cancer_genetics']</td>\n    </tr>\n    <tr>\n      <th>4</th>\n      <td>anatomy</td>\n      <td>['ner_bionlp', 'ner_medmentions_coarse', 'ner_chexpert', 'ner_anatomy_coarse', 'ner_anatomy', 'n...</td>\n    </tr>\n  </tbody>\n</table>\n</div>",
       "datasetInfos": [],
       "metadata": {},
       "removedWidgets": [],
       "textData": null,
       "type": "htmlSandbox"
      }
     },
     "output_type": "display_data"
    }
   ],
   "source": [
    "df.head()"
   ]
  },
  {
   "cell_type": "markdown",
   "metadata": {
    "application/vnd.databricks.v1+cell": {
     "cellMetadata": {
      "byteLimit": 2048000,
      "rowLimit": 10000
     },
     "inputWidgets": {},
     "nuid": "c5142a3b-779e-444f-9894-12aedbc3cb53",
     "showTitle": false,
     "title": ""
    }
   },
   "source": [
    "## 11.Resolver Pipelines"
   ]
  },
  {
   "cell_type": "markdown",
   "metadata": {
    "application/vnd.databricks.v1+cell": {
     "cellMetadata": {
      "byteLimit": 2048000,
      "rowLimit": 10000
     },
     "inputWidgets": {},
     "nuid": "1a49ff63-27b6-4575-9027-62b646221b27",
     "showTitle": false,
     "title": ""
    }
   },
   "source": [
    "We have **Resolver pipelines** for converting clinical entities to their UMLS CUI codes. You will just feed your text and it will return the corresponding UMLS codes.\n",
    "\n",
    "\n",
    "\n",
    "**Resolver Pipelines Model List:**\n",
    "\n",
    "\n",
    "\n",
    "| Pipeline Name                                                                                                                            | Entity                  | Target   |\n",
    "|------------------------------------------------------------------------------------------------------------------------------------------|-------------------------|----------|\n",
    "| [umls_drug_resolver_pipeline](https://nlp.johnsnowlabs.com/2022/07/26/umls_drug_resolver_pipeline_en_3_0.html)                           | Drugs                   | UMLS CUI |\n",
    "| [umls_clinical_findings_resolver_pipeline](https://nlp.johnsnowlabs.com/2022/07/26/umls_clinical_findings_resolver_pipeline_en_3_0.html) | Clinical Findings       | UMLS CUI |\n",
    "| [umls_disease_syndrome_resolver_pipeline](https://nlp.johnsnowlabs.com/2022/07/26/umls_disease_syndrome_resolver_pipeline_en_3_0.html)   | Disease and Syndromes   | UMLS CUI |\n",
    "| [umls_major_concepts_resolver_pipeline](https://nlp.johnsnowlabs.com/2022/07/25/umls_major_concepts_resolver_pipeline_en_3_0.html)       | Clinical Major Concepts | UMLS CUI |\n",
    "| [umls_drug_substance_resolver_pipeline](https://nlp.johnsnowlabs.com/2022/07/25/umls_drug_substance_resolver_pipeline_en_3_0.html)       | Drug Substances         | UMLS CUI |\n",
    "| [medication_resolver_pipeline](https://nlp.johnsnowlabs.com/2022/09/01/medication_resolver_pipeline_en.html)                           | Drugs                   | RxNorm, UMLS, NDC, SNOMED CT |\n",
    "| [medication_resolver_transform_pipeline](https://nlp.johnsnowlabs.com/2022/09/01/medication_resolver_transform_pipeline_en.html)                           | Drugs                   | RxNorm, UMLS, NDC, SNOMED CT |\n",
    "| [icd9_resolver_pipeline](https://nlp.johnsnowlabs.com/2022/09/30/icd9_resolver_pipeline_en.html)                           | PROBLEM                   | ICD-9-CM |\n",
    "| [cvx_resolver_pipeline](https://nlp.johnsnowlabs.com/2022/10/12/cvx_resolver_pipeline_en.html)                           | Vaccine                   | CVX |\n",
    "| [icd10cm_resolver_pipeline](https://nlp.johnsnowlabs.com/2022/11/02/icd10cm_resolver_pipeline_en.html)                           | PROBLEM                     | ICD-10-CM |\n",
    "|[abbreviation_pipeline](https://nlp.johnsnowlabs.com/2023/08/16/abbreviation_pipeline_en.html)|ABBR|definitions and categories.|\n",
    "|[icd10cm_multi_mapper_pipeline](https://nlp.johnsnowlabs.com/2023/08/16/icd10cm_multi_mapper_pipeline_en.html)|ICD-10-CM|billable mappings, hcc codes, cause mappings, claim mappings, SNOMED codes, UMLS codes and ICD-9 codes|\n",
    "|[rxnorm_multi_mapper_pipeline](https://nlp.johnsnowlabs.com/2023/08/16/rxnorm_multi_mapper_pipeline_en.html)|RxNorm codes|drug brand names, rxnorm extension brand names, action mappings, treatment mappings, UMLS codes, NDC product codes and NDC package codes|\n",
    "|[rxnorm_resolver_pipeline](https://nlp.johnsnowlabs.com/2023/08/16/rxnorm_resolver_pipeline_en.html)|Drug|RxNorm codes|\n",
    "|[snomed_multi_mapper_pipeline](https://nlp.johnsnowlabs.com/2023/08/16/snomed_multi_mapper_pipeline_en.html)|SNOMED codes|ICD-10, ICD-O,UMLS|\n"
   ]
  },
  {
   "cell_type": "markdown",
   "metadata": {
    "application/vnd.databricks.v1+cell": {
     "cellMetadata": {
      "byteLimit": 2048000,
      "rowLimit": 10000
     },
     "inputWidgets": {},
     "nuid": "7313b149-23cb-41f6-bc8a-479f9a47ed2d",
     "showTitle": false,
     "title": ""
    }
   },
   "source": [
    "### umls_clinical_findings_resolver_pipeline"
   ]
  },
  {
   "cell_type": "code",
   "execution_count": 0,
   "metadata": {
    "application/vnd.databricks.v1+cell": {
     "cellMetadata": {
      "byteLimit": 2048000,
      "rowLimit": 10000
     },
     "inputWidgets": {},
     "nuid": "63c87267-d82f-4695-b7d9-d02672e815ef",
     "showTitle": false,
     "title": ""
    }
   },
   "outputs": [],
   "source": [
    "#pipeline= nlp.PretrainedPipeline(\"umls_clinical_findings_resolver_pipeline\", \"en\", \"clinical/models\")\n",
    "#result= pipeline.fullAnnotate(\"HTG-induced pancreatitis associated with an acute hepatitis, and obesity\")[0]"
   ]
  },
  {
   "cell_type": "code",
   "execution_count": 0,
   "metadata": {
    "application/vnd.databricks.v1+cell": {
     "cellMetadata": {
      "byteLimit": 2048000,
      "rowLimit": 10000
     },
     "inputWidgets": {},
     "nuid": "bd9d3198-842c-4c4c-a47c-d025bdd4798b",
     "showTitle": false,
     "title": ""
    }
   },
   "outputs": [],
   "source": [
    "# import pandas as pd\n",
    "\n",
    "# chunks=[]\n",
    "# entities=[]\n",
    "# resolver= []\n",
    "\n",
    "# for n, m in list(zip(result['chunk'], result[\"umls\"])):\n",
    "    \n",
    "#     chunks.append(n.result)\n",
    "#     entities.append(n.metadata['entity']) \n",
    "#     resolver.append(m.result)\n",
    "        \n",
    "# df = pd.DataFrame({'chunks':chunks, 'ner_label':entities, 'umls_code': resolver})\n",
    "\n",
    "# df"
   ]
  },
  {
   "cell_type": "markdown",
   "metadata": {
    "application/vnd.databricks.v1+cell": {
     "cellMetadata": {
      "byteLimit": 2048000,
      "rowLimit": 10000
     },
     "inputWidgets": {},
     "nuid": "acb07a0a-375d-4678-a7f4-61533005bab2",
     "showTitle": false,
     "title": ""
    }
   },
   "source": [
    "### medication_resolver_pipeline\n",
    "\n",
    "> A pretrained resolver pipeline to extract medications and resolve their adverse reactions (ADE), RxNorm, UMLS, NDC, SNOMED CT codes, and action/treatments in clinical text.\n",
    "\n",
    "> Action/treatments are available for branded medication, and SNOMED codes are available for non-branded medication.\n",
    "\n",
    "> This pipeline can be used as Lightpipeline (with `annotate/fullAnnotate`). You can use `medication_resolver_transform_pipeline` for Spark transform."
   ]
  },
  {
   "cell_type": "code",
   "execution_count": 0,
   "metadata": {
    "application/vnd.databricks.v1+cell": {
     "cellMetadata": {
      "byteLimit": 2048000,
      "rowLimit": 10000
     },
     "inputWidgets": {},
     "nuid": "9983e9c5-2722-46b4-a7bf-d0a734dbd496",
     "showTitle": false,
     "title": ""
    }
   },
   "outputs": [
    {
     "output_type": "stream",
     "name": "stdout",
     "output_type": "stream",
     "text": [
      "medication_resolver_pipeline download started this may take some time.\nApprox size to download 2.9 GB\n\r[ | ]\r[ / ]\r[ — ]\r[ \\ ]\r[ | ]\r[ / ]\r[ — ]\r[ \\ ]\r[ | ]\r[ / ]\r[ — ]\r[ \\ ]\r[ | ]\r[ / ]\r[ — ]\r[ \\ ]\r[ | ]\r[ / ]\r[ — ]\r[ \\ ]\r[ | ]\r[ / ]\r[ — ]\r[ \\ ]\r[ | ]\r[ / ]\r[ — ]\r[ \\ ]\r[ | ]\r[ / ]\r[ — ]\r[ \\ ]\r[ | ]\r[ / ]\r[ — ]\r[ \\ ]\r[ | ]\r[ / ]\r[ — ]\r[ \\ ]\r[ | ]\r[ / ]\r[ — ]\r[ \\ ]\r[ | ]\r[ / ]\r[ — ]\r[ \\ ]\r[ | ]\r[ / ]\r[ — ]\r[ \\ ]\r[ | ]\r[ / ]\r[ — ]\r[ \\ ]\r[ | ]\r[ / ]\r[ — ]\r[ \\ ]\r[ | ]\r[ / ]\r[ — ]\r[ \\ ]\r[ | ]\r[ / ]\r[ — ]\r[ \\ ]\r[ | ]\r[ / ]\r[ — ]\r[ \\ ]\r[ | ]\r[ / ]\r[ — ]\r[ \\ ]\r[ | ]\r[ / ]\r[ — ]\r[ \\ ]\r[OK!]\n"
     ]
    }
   ],
   "source": [
    "med_resolver_pipeline = nlp.PretrainedPipeline(\"medication_resolver_pipeline\", \"en\", \"clinical/models\")"
   ]
  },
  {
   "cell_type": "code",
   "execution_count": 0,
   "metadata": {
    "application/vnd.databricks.v1+cell": {
     "cellMetadata": {
      "byteLimit": 2048000,
      "rowLimit": 10000
     },
     "inputWidgets": {},
     "nuid": "4d792410-3bac-49ee-b8af-ae53eb8417af",
     "showTitle": false,
     "title": ""
    }
   },
   "outputs": [
    {
     "output_type": "stream",
     "name": "stdout",
     "output_type": "stream",
     "text": [
      "Out[5]: [DocumentAssembler_7d4e38a88296,\n SentenceDetectorDLModel_6bafc4746ea5,\n REGEX_TOKENIZER_89b12f151e80,\n WORD_EMBEDDINGS_MODEL_9004b1d00302,\n MedicalNerModel_419f5f2e48fa,\n NER_CONVERTER_ba94d6e86dfe,\n ENTITY_EXTRACTOR_0c544611124e,\n MERGE_62dd74c5c4e3,\n CHUNKER-MAPPER_7316b33a7307,\n CHUNKER-MAPPER_f4e3b6461abe,\n ChunkMapperFilterer_5bfebe5932cb,\n Chunk2Doc_6e9c804ebf11,\n BERT_SENTENCE_EMBEDDINGS_0bee53f1b2cc,\n ENTITY_6ce17d64b14a,\n ResolverMerger_1f9320b93d73,\n ResolverMerger_3e0c7de0f216,\n CHUNKER-MAPPER_980e34bece57,\n CHUNKER-MAPPER_980e34bece57,\n CHUNKER-MAPPER_5ac1d410c34d,\n CHUNKER-MAPPER_aa4297e14fc3,\n CHUNKER-MAPPER_2d7b0e176787,\n CHUNKER-MAPPER_2d7b0e176787,\n Finisher_20211406008c]"
     ]
    }
   ],
   "source": [
    "med_resolver_pipeline.model.stages"
   ]
  },
  {
   "cell_type": "code",
   "execution_count": 0,
   "metadata": {
    "application/vnd.databricks.v1+cell": {
     "cellMetadata": {
      "byteLimit": 2048000,
      "rowLimit": 10000
     },
     "inputWidgets": {},
     "nuid": "a30fcbaa-dbd2-4fe8-8eb0-0ed1dd061dbd",
     "showTitle": false,
     "title": ""
    }
   },
   "outputs": [],
   "source": [
    "text = \"\"\"The patient was prescribed Amlodopine Vallarta 10-320mg, Eviplera. The other patient is given Lescol 40 MG and Everolimus 1.5 mg tablet.\"\"\"\n",
    "\n",
    "result = med_resolver_pipeline.fullAnnotate(text)[0]"
   ]
  },
  {
   "cell_type": "code",
   "execution_count": 0,
   "metadata": {
    "application/vnd.databricks.v1+cell": {
     "cellMetadata": {
      "byteLimit": 2048000,
      "rowLimit": 10000
     },
     "inputWidgets": {},
     "nuid": "e2ff587d-cda2-4383-b109-30dae0dbcdb4",
     "showTitle": false,
     "title": ""
    }
   },
   "outputs": [
    {
     "output_type": "stream",
     "name": "stdout",
     "output_type": "stream",
     "text": [
      "Out[7]: dict_keys(['ner_chunk', 'NDC_Package', 'SNOMED_CT', 'RxNorm_Chunk', 'UMLS', 'Treatment', 'NDC_Product', 'ADE', 'Action', 'sentence'])"
     ]
    }
   ],
   "source": [
    "result.keys()"
   ]
  },
  {
   "cell_type": "code",
   "execution_count": 0,
   "metadata": {
    "application/vnd.databricks.v1+cell": {
     "cellMetadata": {
      "byteLimit": 2048000,
      "rowLimit": 10000
     },
     "inputWidgets": {},
     "nuid": "faff1c04-d233-48ed-b2a2-0e599eec0677",
     "showTitle": false,
     "title": ""
    }
   },
   "outputs": [
    {
     "output_type": "display_data",
     "data": {
      "text/html": [
       "<div>\n",
       "<style scoped>\n",
       "    .dataframe tbody tr th:only-of-type {\n",
       "        vertical-align: middle;\n",
       "    }\n",
       "\n",
       "    .dataframe tbody tr th {\n",
       "        vertical-align: top;\n",
       "    }\n",
       "\n",
       "    .dataframe thead th {\n",
       "        text-align: right;\n",
       "    }\n",
       "</style>\n",
       "<table border=\"1\" class=\"dataframe\">\n",
       "  <thead>\n",
       "    <tr style=\"text-align: right;\">\n",
       "      <th></th>\n",
       "      <th>chunks</th>\n",
       "      <th>label</th>\n",
       "      <th>Treatment</th>\n",
       "      <th>ADE</th>\n",
       "      <th>Action</th>\n",
       "      <th>snomed</th>\n",
       "      <th>rxnorm</th>\n",
       "      <th>umls</th>\n",
       "      <th>NDC_package</th>\n",
       "      <th>NDC_Product</th>\n",
       "    </tr>\n",
       "  </thead>\n",
       "  <tbody>\n",
       "    <tr>\n",
       "      <th>0</th>\n",
       "      <td>Amlodopine Vallarta 10-320mg</td>\n",
       "      <td>DRUG</td>\n",
       "      <td>NONE</td>\n",
       "      <td>Gynaecomastia</td>\n",
       "      <td>NONE</td>\n",
       "      <td>425838008</td>\n",
       "      <td>722131</td>\n",
       "      <td>C1949334</td>\n",
       "      <td>00093-7693-56</td>\n",
       "      <td>00093-7693</td>\n",
       "    </tr>\n",
       "    <tr>\n",
       "      <th>1</th>\n",
       "      <td>Eviplera</td>\n",
       "      <td>DRUG</td>\n",
       "      <td>NONE</td>\n",
       "      <td>Anxiety</td>\n",
       "      <td>NONE</td>\n",
       "      <td>NONE</td>\n",
       "      <td>217010</td>\n",
       "      <td>C0720318</td>\n",
       "      <td>NONE</td>\n",
       "      <td>NONE</td>\n",
       "    </tr>\n",
       "    <tr>\n",
       "      <th>2</th>\n",
       "      <td>Lescol 40 MG</td>\n",
       "      <td>DRUG</td>\n",
       "      <td>NONE</td>\n",
       "      <td>NONE</td>\n",
       "      <td>NONE</td>\n",
       "      <td>NONE</td>\n",
       "      <td>103919</td>\n",
       "      <td>C0353573</td>\n",
       "      <td>00078-0234-05</td>\n",
       "      <td>00078-0234</td>\n",
       "    </tr>\n",
       "    <tr>\n",
       "      <th>3</th>\n",
       "      <td>Everolimus 1.5 mg tablet</td>\n",
       "      <td>DRUG</td>\n",
       "      <td>NONE</td>\n",
       "      <td>Acute myocardial infarction</td>\n",
       "      <td>NONE</td>\n",
       "      <td>NONE</td>\n",
       "      <td>2056895</td>\n",
       "      <td>C4723581</td>\n",
       "      <td>00054-0604-21</td>\n",
       "      <td>00054-0604</td>\n",
       "    </tr>\n",
       "  </tbody>\n",
       "</table>\n",
       "</div>"
      ]
     },
     "metadata": {
      "application/vnd.databricks.v1+output": {
       "addedWidgets": {},
       "arguments": {},
       "data": "<div>\n<style scoped>\n    .dataframe tbody tr th:only-of-type {\n        vertical-align: middle;\n    }\n\n    .dataframe tbody tr th {\n        vertical-align: top;\n    }\n\n    .dataframe thead th {\n        text-align: right;\n    }\n</style>\n<table border=\"1\" class=\"dataframe\">\n  <thead>\n    <tr style=\"text-align: right;\">\n      <th></th>\n      <th>chunks</th>\n      <th>label</th>\n      <th>Treatment</th>\n      <th>ADE</th>\n      <th>Action</th>\n      <th>snomed</th>\n      <th>rxnorm</th>\n      <th>umls</th>\n      <th>NDC_package</th>\n      <th>NDC_Product</th>\n    </tr>\n  </thead>\n  <tbody>\n    <tr>\n      <th>0</th>\n      <td>Amlodopine Vallarta 10-320mg</td>\n      <td>DRUG</td>\n      <td>NONE</td>\n      <td>Gynaecomastia</td>\n      <td>NONE</td>\n      <td>425838008</td>\n      <td>722131</td>\n      <td>C1949334</td>\n      <td>00093-7693-56</td>\n      <td>00093-7693</td>\n    </tr>\n    <tr>\n      <th>1</th>\n      <td>Eviplera</td>\n      <td>DRUG</td>\n      <td>NONE</td>\n      <td>Anxiety</td>\n      <td>NONE</td>\n      <td>NONE</td>\n      <td>217010</td>\n      <td>C0720318</td>\n      <td>NONE</td>\n      <td>NONE</td>\n    </tr>\n    <tr>\n      <th>2</th>\n      <td>Lescol 40 MG</td>\n      <td>DRUG</td>\n      <td>NONE</td>\n      <td>NONE</td>\n      <td>NONE</td>\n      <td>NONE</td>\n      <td>103919</td>\n      <td>C0353573</td>\n      <td>00078-0234-05</td>\n      <td>00078-0234</td>\n    </tr>\n    <tr>\n      <th>3</th>\n      <td>Everolimus 1.5 mg tablet</td>\n      <td>DRUG</td>\n      <td>NONE</td>\n      <td>Acute myocardial infarction</td>\n      <td>NONE</td>\n      <td>NONE</td>\n      <td>2056895</td>\n      <td>C4723581</td>\n      <td>00054-0604-21</td>\n      <td>00054-0604</td>\n    </tr>\n  </tbody>\n</table>\n</div>",
       "datasetInfos": [],
       "metadata": {},
       "removedWidgets": [],
       "textData": null,
       "type": "htmlSandbox"
      }
     },
     "output_type": "display_data"
    }
   ],
   "source": [
    "chunks = []\n",
    "entities = []\n",
    "ndc_package = []\n",
    "ndc_product = []\n",
    "snomed = []\n",
    "rxnorm = []\n",
    "umls = []\n",
    "treatment = []\n",
    "ade = []\n",
    "action = []\n",
    "\n",
    "\n",
    "\n",
    "for a, b, c, d, e, f, g, h, j in zip(result['ner_chunk'], result['NDC_Package'], \n",
    "                                     result['SNOMED_CT'], result['RxNorm_Chunk'], \n",
    "                                     result['UMLS'], result['Treatment'], \n",
    "                                     result['NDC_Product'], result['ADE'],\n",
    "                                     result['Action']\n",
    "                                    ):\n",
    "    \n",
    "    chunks.append(a.result)\n",
    "    entities.append(a.metadata['entity']) \n",
    "    ndc_package.append(b.result)\n",
    "    snomed.append(c.result)\n",
    "    rxnorm.append(d.result)\n",
    "    umls.append(e.result)\n",
    "    treatment.append(f.result)\n",
    "    ndc_product.append(g.result)\n",
    "    ade.append(h.result)\n",
    "    action.append(j.result)\n",
    "\n",
    "        \n",
    "df = pd.DataFrame({'chunks':chunks, 'label':entities, 'Treatment':treatment, 'ADE':ade, 'Action':action,  \n",
    "                   'snomed':snomed, 'rxnorm':rxnorm, 'umls': umls, 'NDC_package':ndc_package, 'NDC_Product':ndc_product})\n",
    "\n",
    "df"
   ]
  },
  {
   "cell_type": "markdown",
   "metadata": {
    "application/vnd.databricks.v1+cell": {
     "cellMetadata": {
      "byteLimit": 2048000,
      "rowLimit": 10000
     },
     "inputWidgets": {},
     "nuid": "17279e48-ff89-4637-89dd-4339bccd9958",
     "showTitle": false,
     "title": ""
    }
   },
   "source": [
    "## 12.Oncology Pipelines"
   ]
  },
  {
   "cell_type": "markdown",
   "metadata": {
    "application/vnd.databricks.v1+cell": {
     "cellMetadata": {
      "byteLimit": 2048000,
      "rowLimit": 10000
     },
     "inputWidgets": {},
     "nuid": "d0197cee-c02c-456c-a7a2-4f8b4ca15ae8",
     "showTitle": false,
     "title": ""
    }
   },
   "source": [
    "**`oncology pretrained ` Model List**\n",
    "\n",
    "This pipeline includes Named-Entity Recognition, Assertion Status, Relation Extraction and Entity Resolution models to extract information from oncology texts.\n",
    "\n",
    "\n",
    "|index|model|index|model|\n",
    "|-----:|:-----|-----:|:-----|\n",
    "| 1| [oncology_biomarker_pipeline](https://nlp.johnsnowlabs.com/2022/12/01/oncology_biomarker_pipeline_en.html)  | 2| [oncology_general_pipeline](https://nlp.johnsnowlabs.com/2022/12/01/oncology_general_pipeline_en.html)  |\n",
    "| 3| [oncology_therapy_pipeline](https://nlp.johnsnowlabs.com/2022/12/01/oncology_therapy_pipeline_en.html)  | 4| [oncology_diagnosis_pipeline](https://nlp.johnsnowlabs.com/2022/12/01/oncology_diagnosis_pipeline_en.html)"
   ]
  },
  {
   "cell_type": "code",
   "execution_count": 0,
   "metadata": {
    "application/vnd.databricks.v1+cell": {
     "cellMetadata": {
      "byteLimit": 2048000,
      "rowLimit": 10000
     },
     "inputWidgets": {},
     "nuid": "1128871b-1add-4991-beaa-9f63f01f42ac",
     "showTitle": false,
     "title": ""
    }
   },
   "outputs": [
    {
     "output_type": "stream",
     "name": "stdout",
     "output_type": "stream",
     "text": [
      "oncology_biomarker_pipeline download started this may take some time.\nApprox size to download 1.6 GB\n\r[ | ]\r[ / ]\r[ — ]\r[ \\ ]\r[ | ]\r[ / ]\r[ — ]\r[ \\ ]\r[ | ]\r[ / ]\r[ — ]\r[ \\ ]\r[ | ]\r[ / ]\r[ — ]\r[ \\ ]\r[ | ]\r[ / ]\r[ — ]\r[ \\ ]\r[ | ]\r[ / ]\r[ — ]\r[ \\ ]\r[ | ]\r[ / ]\r[ — ]\r[ \\ ]\r[ | ]\r[ / ]\r[ — ]\r[ \\ ]\r[ | ]\r[ / ]\r[ — ]\r[ \\ ]\r[ | ]\r[ / ]\r[ — ]\r[ \\ ]\r[ | ]\r[ / ]\r[ — ]\r[ \\ ]\r[ | ]\r[ / ]\r[ — ]\r[ \\ ]\r[ | ]\r[ / ]\r[ — ]\r[ \\ ]\r[ | ]\r[ / ]\r[ — ]\r[ \\ ]\r[ | ]\r[ / ]\r[ — ]\r[ \\ ]\r[ | ]\r[ / ]\r[ — ]\r[ \\ ]\r[ | ]\r[ / ]\r[ — ]\r[ \\ ]\r[ | ]\r[ / ]\r[ — ]\r[ \\ ]\r[ | ]\r[ / ]\r[ — ]\r[ \\ ]\r[ | ]\r[ / ]\r[ — ]\r[ \\ ]\r[ | ]\r[ / ]\r[ — ]\r[ \\ ]\r[ | ]\r[ / ]\r[ — ]\r[ \\ ]\r[ | ]\r[ / ]\r[ — ]\r[OK!]\n"
     ]
    }
   ],
   "source": [
    "oncology_pipeline = nlp.PretrainedPipeline(\"oncology_biomarker_pipeline\", \"en\", \"clinical/models\")"
   ]
  },
  {
   "cell_type": "code",
   "execution_count": 0,
   "metadata": {
    "application/vnd.databricks.v1+cell": {
     "cellMetadata": {
      "byteLimit": 2048000,
      "rowLimit": 10000
     },
     "inputWidgets": {},
     "nuid": "96006b0b-6b63-4623-90a3-c4d64754d493",
     "showTitle": false,
     "title": ""
    }
   },
   "outputs": [
    {
     "output_type": "stream",
     "name": "stdout",
     "output_type": "stream",
     "text": [
      "Out[10]: [DocumentAssembler_dab6eeac879e,\n SentenceDetectorDLModel_6bafc4746ea5,\n REGEX_TOKENIZER_2e924d5e77a4,\n WORD_EMBEDDINGS_MODEL_9004b1d00302,\n MedicalNerModel_ecf280ca65e5,\n NerConverter_929f666beebc,\n MedicalNerModel_aeadb24f76a3,\n NerConverter_4f9b8da8c4c3,\n MedicalNerModel_eb9da4b9039b,\n NerConverter_40028785be7b,\n MedicalNerModel_299a97740594,\n NerConverter_a8bf552d0249,\n MERGE_acda18b976a6,\n MERGE_12af4df6fa27,\n ASSERTION_DL_8d77f383c928,\n ASSERTION_DL_163867728788,\n POS_6f55785005bf,\n dependency_e7755462ba78,\n RelationExtractionModel_d0af74510daa,\n RelationExtractionModel_68ebe11369b6,\n RelationExtractionModel_513eb6317779]"
     ]
    }
   ],
   "source": [
    "oncology_pipeline.model.stages"
   ]
  },
  {
   "cell_type": "code",
   "execution_count": 0,
   "metadata": {
    "application/vnd.databricks.v1+cell": {
     "cellMetadata": {
      "byteLimit": 2048000,
      "rowLimit": 10000
     },
     "inputWidgets": {},
     "nuid": "1f5e092f-ebb9-4e3f-9d02-2e1620af62c0",
     "showTitle": false,
     "title": ""
    }
   },
   "outputs": [
    {
     "output_type": "stream",
     "name": "stdout",
     "output_type": "stream",
     "text": [
      "Out[11]: dict_keys(['re_oncology_granular_wip', 'assertion_oncology_test_binary_wip', 're_oncology_wip', 'ner_oncology_biomarker_wip_chunk', 'ner_biomarker_chunk', 'ner_oncology_test_wip', 'document', 're_oncology_biomarker_result_wip', 'merged_chunk', 'ner_oncology_biomarker_wip', 'ner_biomarker', 'ner_oncology_test_wip_chunk', 'token', 'embeddings', 'pos_tags', 'assertion_oncology_wip', 'assertion_chunk', 'ner_oncology_wip', 'dependencies', 'ner_oncology_wip_chunk', 'sentence'])"
     ]
    }
   ],
   "source": [
    "text = \"\"\"Immunohistochemistry was negative for thyroid transcription factor-1 and napsin A. The test was positive for ER and PR, and negative for HER2.\"\"\"\n",
    "\n",
    "result = oncology_pipeline.fullAnnotate(text)[0]\n",
    "\n",
    "result.keys()"
   ]
  },
  {
   "cell_type": "markdown",
   "metadata": {
    "application/vnd.databricks.v1+cell": {
     "cellMetadata": {
      "byteLimit": 2048000,
      "rowLimit": 10000
     },
     "inputWidgets": {},
     "nuid": "b4e79bce-7ca9-424b-9643-ce2dcaea46a4",
     "showTitle": false,
     "title": ""
    }
   },
   "source": [
    "**NER Results**"
   ]
  },
  {
   "cell_type": "code",
   "execution_count": 0,
   "metadata": {
    "application/vnd.databricks.v1+cell": {
     "cellMetadata": {
      "byteLimit": 2048000,
      "rowLimit": 10000
     },
     "inputWidgets": {},
     "nuid": "e098e91f-b31f-40db-9dc5-44d7c4df39ac",
     "showTitle": false,
     "title": ""
    }
   },
   "outputs": [
    {
     "output_type": "display_data",
     "data": {
      "text/html": [
       "<div>\n",
       "<style scoped>\n",
       "    .dataframe tbody tr th:only-of-type {\n",
       "        vertical-align: middle;\n",
       "    }\n",
       "\n",
       "    .dataframe tbody tr th {\n",
       "        vertical-align: top;\n",
       "    }\n",
       "\n",
       "    .dataframe thead th {\n",
       "        text-align: right;\n",
       "    }\n",
       "</style>\n",
       "<table border=\"1\" class=\"dataframe\">\n",
       "  <thead>\n",
       "    <tr style=\"text-align: right;\">\n",
       "      <th></th>\n",
       "      <th>chunks</th>\n",
       "      <th>begin</th>\n",
       "      <th>end</th>\n",
       "      <th>entities</th>\n",
       "      <th>confidence</th>\n",
       "    </tr>\n",
       "  </thead>\n",
       "  <tbody>\n",
       "    <tr>\n",
       "      <th>0</th>\n",
       "      <td>Immunohistochemistry</td>\n",
       "      <td>0</td>\n",
       "      <td>19</td>\n",
       "      <td>Pathology_Test</td>\n",
       "      <td>0.9967</td>\n",
       "    </tr>\n",
       "    <tr>\n",
       "      <th>1</th>\n",
       "      <td>negative</td>\n",
       "      <td>25</td>\n",
       "      <td>32</td>\n",
       "      <td>Biomarker_Result</td>\n",
       "      <td>0.8323</td>\n",
       "    </tr>\n",
       "    <tr>\n",
       "      <th>2</th>\n",
       "      <td>thyroid transcription factor-1</td>\n",
       "      <td>38</td>\n",
       "      <td>67</td>\n",
       "      <td>Biomarker</td>\n",
       "      <td>0.296675</td>\n",
       "    </tr>\n",
       "    <tr>\n",
       "      <th>3</th>\n",
       "      <td>napsin A</td>\n",
       "      <td>73</td>\n",
       "      <td>80</td>\n",
       "      <td>Biomarker</td>\n",
       "      <td>0.64309996</td>\n",
       "    </tr>\n",
       "    <tr>\n",
       "      <th>4</th>\n",
       "      <td>positive</td>\n",
       "      <td>96</td>\n",
       "      <td>103</td>\n",
       "      <td>Biomarker_Result</td>\n",
       "      <td>0.8017</td>\n",
       "    </tr>\n",
       "    <tr>\n",
       "      <th>5</th>\n",
       "      <td>ER</td>\n",
       "      <td>109</td>\n",
       "      <td>110</td>\n",
       "      <td>Biomarker</td>\n",
       "      <td>0.948</td>\n",
       "    </tr>\n",
       "    <tr>\n",
       "      <th>6</th>\n",
       "      <td>PR</td>\n",
       "      <td>116</td>\n",
       "      <td>117</td>\n",
       "      <td>Biomarker</td>\n",
       "      <td>0.8711</td>\n",
       "    </tr>\n",
       "    <tr>\n",
       "      <th>7</th>\n",
       "      <td>negative</td>\n",
       "      <td>124</td>\n",
       "      <td>131</td>\n",
       "      <td>Biomarker_Result</td>\n",
       "      <td>0.8385</td>\n",
       "    </tr>\n",
       "    <tr>\n",
       "      <th>8</th>\n",
       "      <td>HER2</td>\n",
       "      <td>137</td>\n",
       "      <td>140</td>\n",
       "      <td>Oncogene</td>\n",
       "      <td>0.9359</td>\n",
       "    </tr>\n",
       "  </tbody>\n",
       "</table>\n",
       "</div>"
      ]
     },
     "metadata": {
      "application/vnd.databricks.v1+output": {
       "addedWidgets": {},
       "arguments": {},
       "data": "<div>\n<style scoped>\n    .dataframe tbody tr th:only-of-type {\n        vertical-align: middle;\n    }\n\n    .dataframe tbody tr th {\n        vertical-align: top;\n    }\n\n    .dataframe thead th {\n        text-align: right;\n    }\n</style>\n<table border=\"1\" class=\"dataframe\">\n  <thead>\n    <tr style=\"text-align: right;\">\n      <th></th>\n      <th>chunks</th>\n      <th>begin</th>\n      <th>end</th>\n      <th>entities</th>\n      <th>confidence</th>\n    </tr>\n  </thead>\n  <tbody>\n    <tr>\n      <th>0</th>\n      <td>Immunohistochemistry</td>\n      <td>0</td>\n      <td>19</td>\n      <td>Pathology_Test</td>\n      <td>0.9967</td>\n    </tr>\n    <tr>\n      <th>1</th>\n      <td>negative</td>\n      <td>25</td>\n      <td>32</td>\n      <td>Biomarker_Result</td>\n      <td>0.8323</td>\n    </tr>\n    <tr>\n      <th>2</th>\n      <td>thyroid transcription factor-1</td>\n      <td>38</td>\n      <td>67</td>\n      <td>Biomarker</td>\n      <td>0.296675</td>\n    </tr>\n    <tr>\n      <th>3</th>\n      <td>napsin A</td>\n      <td>73</td>\n      <td>80</td>\n      <td>Biomarker</td>\n      <td>0.64309996</td>\n    </tr>\n    <tr>\n      <th>4</th>\n      <td>positive</td>\n      <td>96</td>\n      <td>103</td>\n      <td>Biomarker_Result</td>\n      <td>0.8017</td>\n    </tr>\n    <tr>\n      <th>5</th>\n      <td>ER</td>\n      <td>109</td>\n      <td>110</td>\n      <td>Biomarker</td>\n      <td>0.948</td>\n    </tr>\n    <tr>\n      <th>6</th>\n      <td>PR</td>\n      <td>116</td>\n      <td>117</td>\n      <td>Biomarker</td>\n      <td>0.8711</td>\n    </tr>\n    <tr>\n      <th>7</th>\n      <td>negative</td>\n      <td>124</td>\n      <td>131</td>\n      <td>Biomarker_Result</td>\n      <td>0.8385</td>\n    </tr>\n    <tr>\n      <th>8</th>\n      <td>HER2</td>\n      <td>137</td>\n      <td>140</td>\n      <td>Oncogene</td>\n      <td>0.9359</td>\n    </tr>\n  </tbody>\n</table>\n</div>",
       "datasetInfos": [],
       "metadata": {},
       "removedWidgets": [],
       "textData": null,
       "type": "htmlSandbox"
      }
     },
     "output_type": "display_data"
    }
   ],
   "source": [
    "chunks=[]\n",
    "entities=[]\n",
    "begins=[]\n",
    "ends=[]\n",
    "confidence=[]\n",
    "for n in result['merged_chunk']:\n",
    "    \n",
    "    chunks.append(n.result)\n",
    "    begins.append(n.begin)\n",
    "    ends.append(n.end)\n",
    "    entities.append(n.metadata['entity'])\n",
    "    confidence.append(n.metadata['confidence']) \n",
    "        \n",
    "df = pd.DataFrame({'chunks':chunks, 'begin':begins, 'end':ends, 'entities':entities, 'confidence':confidence})\n",
    "\n",
    "df"
   ]
  },
  {
   "cell_type": "markdown",
   "metadata": {
    "application/vnd.databricks.v1+cell": {
     "cellMetadata": {
      "byteLimit": 2048000,
      "rowLimit": 10000
     },
     "inputWidgets": {},
     "nuid": "35d4d114-5d06-43c5-923c-9530dc4e2bfb",
     "showTitle": false,
     "title": ""
    }
   },
   "source": [
    "**Assertion Status Results**"
   ]
  },
  {
   "cell_type": "code",
   "execution_count": 0,
   "metadata": {
    "application/vnd.databricks.v1+cell": {
     "cellMetadata": {
      "byteLimit": 2048000,
      "rowLimit": 10000
     },
     "inputWidgets": {},
     "nuid": "2efe1d61-ade2-4fc2-b7ae-b9729da683dc",
     "showTitle": false,
     "title": ""
    }
   },
   "outputs": [
    {
     "output_type": "display_data",
     "data": {
      "text/html": [
       "<div>\n",
       "<style scoped>\n",
       "    .dataframe tbody tr th:only-of-type {\n",
       "        vertical-align: middle;\n",
       "    }\n",
       "\n",
       "    .dataframe tbody tr th {\n",
       "        vertical-align: top;\n",
       "    }\n",
       "\n",
       "    .dataframe thead th {\n",
       "        text-align: right;\n",
       "    }\n",
       "</style>\n",
       "<table border=\"1\" class=\"dataframe\">\n",
       "  <thead>\n",
       "    <tr style=\"text-align: right;\">\n",
       "      <th></th>\n",
       "      <th>chunks</th>\n",
       "      <th>entities</th>\n",
       "      <th>assertion</th>\n",
       "      <th>confidence</th>\n",
       "    </tr>\n",
       "  </thead>\n",
       "  <tbody>\n",
       "    <tr>\n",
       "      <th>0</th>\n",
       "      <td>Immunohistochemistry</td>\n",
       "      <td>Pathology_Test</td>\n",
       "      <td>Medical_History</td>\n",
       "      <td>0.9926</td>\n",
       "    </tr>\n",
       "    <tr>\n",
       "      <th>1</th>\n",
       "      <td>negative</td>\n",
       "      <td>Biomarker_Result</td>\n",
       "      <td>Medical_History</td>\n",
       "      <td>0.9951</td>\n",
       "    </tr>\n",
       "    <tr>\n",
       "      <th>2</th>\n",
       "      <td>thyroid transcription factor-1</td>\n",
       "      <td>Biomarker</td>\n",
       "      <td>Medical_History</td>\n",
       "      <td>0.9951</td>\n",
       "    </tr>\n",
       "    <tr>\n",
       "      <th>3</th>\n",
       "      <td>napsin A</td>\n",
       "      <td>Biomarker</td>\n",
       "      <td>Medical_History</td>\n",
       "      <td>0.9926</td>\n",
       "    </tr>\n",
       "    <tr>\n",
       "      <th>4</th>\n",
       "      <td>positive</td>\n",
       "      <td>Biomarker_Result</td>\n",
       "      <td>Medical_History</td>\n",
       "      <td>0.9931</td>\n",
       "    </tr>\n",
       "    <tr>\n",
       "      <th>5</th>\n",
       "      <td>ER</td>\n",
       "      <td>Biomarker</td>\n",
       "      <td>Medical_History</td>\n",
       "      <td>0.9938</td>\n",
       "    </tr>\n",
       "  </tbody>\n",
       "</table>\n",
       "</div>"
      ]
     },
     "metadata": {
      "application/vnd.databricks.v1+output": {
       "addedWidgets": {},
       "arguments": {},
       "data": "<div>\n<style scoped>\n    .dataframe tbody tr th:only-of-type {\n        vertical-align: middle;\n    }\n\n    .dataframe tbody tr th {\n        vertical-align: top;\n    }\n\n    .dataframe thead th {\n        text-align: right;\n    }\n</style>\n<table border=\"1\" class=\"dataframe\">\n  <thead>\n    <tr style=\"text-align: right;\">\n      <th></th>\n      <th>chunks</th>\n      <th>entities</th>\n      <th>assertion</th>\n      <th>confidence</th>\n    </tr>\n  </thead>\n  <tbody>\n    <tr>\n      <th>0</th>\n      <td>Immunohistochemistry</td>\n      <td>Pathology_Test</td>\n      <td>Medical_History</td>\n      <td>0.9926</td>\n    </tr>\n    <tr>\n      <th>1</th>\n      <td>negative</td>\n      <td>Biomarker_Result</td>\n      <td>Medical_History</td>\n      <td>0.9951</td>\n    </tr>\n    <tr>\n      <th>2</th>\n      <td>thyroid transcription factor-1</td>\n      <td>Biomarker</td>\n      <td>Medical_History</td>\n      <td>0.9951</td>\n    </tr>\n    <tr>\n      <th>3</th>\n      <td>napsin A</td>\n      <td>Biomarker</td>\n      <td>Medical_History</td>\n      <td>0.9926</td>\n    </tr>\n    <tr>\n      <th>4</th>\n      <td>positive</td>\n      <td>Biomarker_Result</td>\n      <td>Medical_History</td>\n      <td>0.9931</td>\n    </tr>\n    <tr>\n      <th>5</th>\n      <td>ER</td>\n      <td>Biomarker</td>\n      <td>Medical_History</td>\n      <td>0.9938</td>\n    </tr>\n  </tbody>\n</table>\n</div>",
       "datasetInfos": [],
       "metadata": {},
       "removedWidgets": [],
       "textData": null,
       "type": "htmlSandbox"
      }
     },
     "output_type": "display_data"
    }
   ],
   "source": [
    "chunks=[]\n",
    "entities=[]\n",
    "status=[]\n",
    "confidence=[]\n",
    "\n",
    "for n,m in zip(result['merged_chunk'],result['assertion_oncology_test_binary_wip']):\n",
    "    \n",
    "    chunks.append(n.result)\n",
    "    entities.append(n.metadata['entity']) \n",
    "    status.append(m.result)\n",
    "    confidence.append(m.metadata['confidence'])\n",
    "        \n",
    "df = pd.DataFrame({'chunks':chunks, 'entities':entities, 'assertion':status, 'confidence':confidence})\n",
    "\n",
    "df"
   ]
  },
  {
   "cell_type": "markdown",
   "metadata": {
    "application/vnd.databricks.v1+cell": {
     "cellMetadata": {
      "byteLimit": 2048000,
      "rowLimit": 10000
     },
     "inputWidgets": {},
     "nuid": "5ce99a0d-e357-40cc-bb39-a86eb687015d",
     "showTitle": false,
     "title": ""
    }
   },
   "source": [
    "**Relation Extraction Results**"
   ]
  },
  {
   "cell_type": "code",
   "execution_count": 0,
   "metadata": {
    "application/vnd.databricks.v1+cell": {
     "cellMetadata": {
      "byteLimit": 2048000,
      "rowLimit": 10000
     },
     "inputWidgets": {},
     "nuid": "51b0e480-ace3-4eed-982a-f4e504c5ebca",
     "showTitle": false,
     "title": ""
    }
   },
   "outputs": [
    {
     "output_type": "display_data",
     "data": {
      "text/html": [
       "<div>\n",
       "<style scoped>\n",
       "    .dataframe tbody tr th:only-of-type {\n",
       "        vertical-align: middle;\n",
       "    }\n",
       "\n",
       "    .dataframe tbody tr th {\n",
       "        vertical-align: top;\n",
       "    }\n",
       "\n",
       "    .dataframe thead th {\n",
       "        text-align: right;\n",
       "    }\n",
       "</style>\n",
       "<table border=\"1\" class=\"dataframe\">\n",
       "  <thead>\n",
       "    <tr style=\"text-align: right;\">\n",
       "      <th></th>\n",
       "      <th>relation</th>\n",
       "      <th>entity1</th>\n",
       "      <th>entity1_begin</th>\n",
       "      <th>entity1_end</th>\n",
       "      <th>chunk1</th>\n",
       "      <th>entity2</th>\n",
       "      <th>entity2_begin</th>\n",
       "      <th>entity2_end</th>\n",
       "      <th>chunk2</th>\n",
       "      <th>confidence</th>\n",
       "    </tr>\n",
       "  </thead>\n",
       "  <tbody>\n",
       "    <tr>\n",
       "      <th>1</th>\n",
       "      <td>is_related_to</td>\n",
       "      <td>Biomarker_Result</td>\n",
       "      <td>25</td>\n",
       "      <td>32</td>\n",
       "      <td>negative</td>\n",
       "      <td>Biomarker</td>\n",
       "      <td>38</td>\n",
       "      <td>67</td>\n",
       "      <td>thyroid transcription factor-1</td>\n",
       "      <td>0.997901</td>\n",
       "    </tr>\n",
       "    <tr>\n",
       "      <th>2</th>\n",
       "      <td>is_related_to</td>\n",
       "      <td>Biomarker_Result</td>\n",
       "      <td>25</td>\n",
       "      <td>32</td>\n",
       "      <td>negative</td>\n",
       "      <td>Biomarker</td>\n",
       "      <td>73</td>\n",
       "      <td>80</td>\n",
       "      <td>napsin A</td>\n",
       "      <td>0.999566</td>\n",
       "    </tr>\n",
       "    <tr>\n",
       "      <th>3</th>\n",
       "      <td>is_related_to</td>\n",
       "      <td>Biomarker_Result</td>\n",
       "      <td>96</td>\n",
       "      <td>103</td>\n",
       "      <td>positive</td>\n",
       "      <td>Biomarker</td>\n",
       "      <td>109</td>\n",
       "      <td>110</td>\n",
       "      <td>ER</td>\n",
       "      <td>0.987820</td>\n",
       "    </tr>\n",
       "    <tr>\n",
       "      <th>4</th>\n",
       "      <td>is_related_to</td>\n",
       "      <td>Biomarker_Result</td>\n",
       "      <td>96</td>\n",
       "      <td>103</td>\n",
       "      <td>positive</td>\n",
       "      <td>Biomarker</td>\n",
       "      <td>116</td>\n",
       "      <td>117</td>\n",
       "      <td>PR</td>\n",
       "      <td>0.897783</td>\n",
       "    </tr>\n",
       "    <tr>\n",
       "      <th>8</th>\n",
       "      <td>is_related_to</td>\n",
       "      <td>Biomarker_Result</td>\n",
       "      <td>124</td>\n",
       "      <td>131</td>\n",
       "      <td>negative</td>\n",
       "      <td>Oncogene</td>\n",
       "      <td>137</td>\n",
       "      <td>140</td>\n",
       "      <td>HER2</td>\n",
       "      <td>0.986855</td>\n",
       "    </tr>\n",
       "  </tbody>\n",
       "</table>\n",
       "</div>"
      ]
     },
     "metadata": {
      "application/vnd.databricks.v1+output": {
       "addedWidgets": {},
       "arguments": {},
       "data": "<div>\n<style scoped>\n    .dataframe tbody tr th:only-of-type {\n        vertical-align: middle;\n    }\n\n    .dataframe tbody tr th {\n        vertical-align: top;\n    }\n\n    .dataframe thead th {\n        text-align: right;\n    }\n</style>\n<table border=\"1\" class=\"dataframe\">\n  <thead>\n    <tr style=\"text-align: right;\">\n      <th></th>\n      <th>relation</th>\n      <th>entity1</th>\n      <th>entity1_begin</th>\n      <th>entity1_end</th>\n      <th>chunk1</th>\n      <th>entity2</th>\n      <th>entity2_begin</th>\n      <th>entity2_end</th>\n      <th>chunk2</th>\n      <th>confidence</th>\n    </tr>\n  </thead>\n  <tbody>\n    <tr>\n      <th>1</th>\n      <td>is_related_to</td>\n      <td>Biomarker_Result</td>\n      <td>25</td>\n      <td>32</td>\n      <td>negative</td>\n      <td>Biomarker</td>\n      <td>38</td>\n      <td>67</td>\n      <td>thyroid transcription factor-1</td>\n      <td>0.997901</td>\n    </tr>\n    <tr>\n      <th>2</th>\n      <td>is_related_to</td>\n      <td>Biomarker_Result</td>\n      <td>25</td>\n      <td>32</td>\n      <td>negative</td>\n      <td>Biomarker</td>\n      <td>73</td>\n      <td>80</td>\n      <td>napsin A</td>\n      <td>0.999566</td>\n    </tr>\n    <tr>\n      <th>3</th>\n      <td>is_related_to</td>\n      <td>Biomarker_Result</td>\n      <td>96</td>\n      <td>103</td>\n      <td>positive</td>\n      <td>Biomarker</td>\n      <td>109</td>\n      <td>110</td>\n      <td>ER</td>\n      <td>0.987820</td>\n    </tr>\n    <tr>\n      <th>4</th>\n      <td>is_related_to</td>\n      <td>Biomarker_Result</td>\n      <td>96</td>\n      <td>103</td>\n      <td>positive</td>\n      <td>Biomarker</td>\n      <td>116</td>\n      <td>117</td>\n      <td>PR</td>\n      <td>0.897783</td>\n    </tr>\n    <tr>\n      <th>8</th>\n      <td>is_related_to</td>\n      <td>Biomarker_Result</td>\n      <td>124</td>\n      <td>131</td>\n      <td>negative</td>\n      <td>Oncogene</td>\n      <td>137</td>\n      <td>140</td>\n      <td>HER2</td>\n      <td>0.986855</td>\n    </tr>\n  </tbody>\n</table>\n</div>",
       "datasetInfos": [],
       "metadata": {},
       "removedWidgets": [],
       "textData": null,
       "type": "htmlSandbox"
      }
     },
     "output_type": "display_data"
    }
   ],
   "source": [
    "result = oncology_pipeline.fullAnnotate(text)\n",
    "\n",
    "rel_df = get_relations_df(result, 're_oncology_wip')\n",
    "\n",
    "rel_df[rel_df.relation!= \"O\"]"
   ]
  },
  {
   "cell_type": "code",
   "execution_count": 0,
   "metadata": {
    "application/vnd.databricks.v1+cell": {
     "cellMetadata": {
      "byteLimit": 2048000,
      "rowLimit": 10000
     },
     "inputWidgets": {},
     "nuid": "f63c971d-bd22-4ea4-a765-0718279d0b2b",
     "showTitle": false,
     "title": ""
    }
   },
   "outputs": [
    {
     "output_type": "stream",
     "name": "stdout",
     "output_type": "stream",
     "text": [
      "Out[15]: [Annotation(category, 0, 32, O, {'chunk2': 'negative', 'confidence': '0.97084755', 'entity2_end': '32', 'chunk1': 'Immunohistochemistry', 'entity1': 'Pathology_Test', 'entity2_begin': '25', 'chunk2_confidence': '0.8323', 'entity1_begin': '0', 'sentence': '0', 'direction': 'both', 'entity1_end': '19', 'entity2': 'Biomarker_Result', 'chunk1_confidence': '0.9967'}, []),\n Annotation(category, 25, 67, is_related_to, {'chunk2': 'thyroid transcription factor-1', 'confidence': '0.99790084', 'entity2_end': '67', 'chunk1': 'negative', 'entity1': 'Biomarker_Result', 'entity2_begin': '38', 'chunk2_confidence': '0.296675', 'entity1_begin': '25', 'sentence': '0', 'direction': 'both', 'entity1_end': '32', 'entity2': 'Biomarker', 'chunk1_confidence': '0.8323'}, []),\n Annotation(category, 25, 80, is_related_to, {'chunk2': 'napsin A', 'confidence': '0.9995658', 'entity2_end': '80', 'chunk1': 'negative', 'entity1': 'Biomarker_Result', 'entity2_begin': '73', 'chunk2_confidence': '0.64309996', 'entity1_begin': '25', 'sentence': '0', 'direction': 'both', 'entity1_end': '32', 'entity2': 'Biomarker', 'chunk1_confidence': '0.8323'}, []),\n Annotation(category, 96, 110, is_related_to, {'chunk2': 'ER', 'confidence': '0.98782015', 'entity2_end': '110', 'chunk1': 'positive', 'entity1': 'Biomarker_Result', 'entity2_begin': '109', 'chunk2_confidence': '0.948', 'entity1_begin': '96', 'sentence': '1', 'direction': 'both', 'entity1_end': '103', 'entity2': 'Biomarker', 'chunk1_confidence': '0.8017'}, []),\n Annotation(category, 96, 117, is_related_to, {'chunk2': 'PR', 'confidence': '0.8977828', 'entity2_end': '117', 'chunk1': 'positive', 'entity1': 'Biomarker_Result', 'entity2_begin': '116', 'chunk2_confidence': '0.8711', 'entity1_begin': '96', 'sentence': '1', 'direction': 'both', 'entity1_end': '103', 'entity2': 'Biomarker', 'chunk1_confidence': '0.8017'}, []),\n Annotation(category, 96, 140, O, {'chunk2': 'HER2', 'confidence': '0.9943538', 'entity2_end': '140', 'chunk1': 'positive', 'entity1': 'Biomarker_Result', 'entity2_begin': '137', 'chunk2_confidence': '0.9359', 'entity1_begin': '96', 'sentence': '1', 'direction': 'both', 'entity1_end': '103', 'entity2': 'Oncogene', 'chunk1_confidence': '0.8017'}, []),\n Annotation(category, 109, 131, O, {'chunk2': 'negative', 'confidence': '0.99992025', 'entity2_end': '131', 'chunk1': 'ER', 'entity1': 'Biomarker', 'entity2_begin': '124', 'chunk2_confidence': '0.8385', 'entity1_begin': '109', 'sentence': '1', 'direction': 'both', 'entity1_end': '110', 'entity2': 'Biomarker_Result', 'chunk1_confidence': '0.948'}, []),\n Annotation(category, 116, 131, O, {'chunk2': 'negative', 'confidence': '0.99997044', 'entity2_end': '131', 'chunk1': 'PR', 'entity1': 'Biomarker', 'entity2_begin': '124', 'chunk2_confidence': '0.8385', 'entity1_begin': '116', 'sentence': '1', 'direction': 'both', 'entity1_end': '117', 'entity2': 'Biomarker_Result', 'chunk1_confidence': '0.8711'}, []),\n Annotation(category, 124, 140, is_related_to, {'chunk2': 'HER2', 'confidence': '0.98685515', 'entity2_end': '140', 'chunk1': 'negative', 'entity1': 'Biomarker_Result', 'entity2_begin': '137', 'chunk2_confidence': '0.9359', 'entity1_begin': '124', 'sentence': '1', 'direction': 'both', 'entity1_end': '131', 'entity2': 'Oncogene', 'chunk1_confidence': '0.8385'}, [])]"
     ]
    }
   ],
   "source": [
    "result[0]['re_oncology_wip']"
   ]
  },
  {
   "cell_type": "code",
   "execution_count": 0,
   "metadata": {
    "application/vnd.databricks.v1+cell": {
     "cellMetadata": {
      "byteLimit": 2048000,
      "rowLimit": 10000
     },
     "inputWidgets": {},
     "nuid": "462ee63a-7803-4d7b-b47c-0cf342049737",
     "showTitle": false,
     "title": ""
    }
   },
   "outputs": [],
   "source": []
  }
 ],
 "metadata": {
  "application/vnd.databricks.v1+notebook": {
   "dashboards": [],
   "language": "python",
   "notebookMetadata": {
    "mostRecentlyExecutedCommandWithImplicitDF": {
     "commandId": 1737277323179518,
     "dataframes": [
      "_sqldf"
     ]
    },
    "pythonIndentUnit": 2
   },
   "notebookName": "07.0.Pretrained_Clinical_Pipelines",
   "widgets": {}
  },
  "kernelspec": {
   "display_name": "Python 3",
   "language": "python",
   "name": "python3"
  },
  "language_info": {
   "codemirror_mode": {
    "name": "ipython",
    "version": 3
   },
   "file_extension": ".py",
   "mimetype": "text/x-python",
   "name": "python",
   "nbconvert_exporter": "python",
   "pygments_lexer": "ipython3",
   "version": "3.8.3"
  }
 },
 "nbformat": 4,
 "nbformat_minor": 0
}

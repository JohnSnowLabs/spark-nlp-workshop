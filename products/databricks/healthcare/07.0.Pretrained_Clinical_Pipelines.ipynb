{
 "cells": [
  {
   "cell_type": "markdown",
   "metadata": {
    "application/vnd.databricks.v1+cell": {
     "cellMetadata": {},
     "inputWidgets": {},
     "nuid": "e8539446-c404-4371-b399-5cffddca4bf2",
     "showTitle": false,
     "title": ""
    },
    "id": "SymssfV7IcQ7"
   },
   "source": [
    "![JohnSnowLabs](https://nlp.johnsnowlabs.com/assets/images/logo.png)"
   ]
  },
  {
   "cell_type": "markdown",
   "metadata": {
    "application/vnd.databricks.v1+cell": {
     "cellMetadata": {},
     "inputWidgets": {},
     "nuid": "6ff6d64c-9e6c-4f0b-b1fa-94621f817f8f",
     "showTitle": false,
     "title": ""
    },
    "id": "v4uN8ZP_Itdo"
   },
   "source": [
    "# Detect clinical entities, relations and assertion status with pretrained pipelines"
   ]
  },
  {
   "cell_type": "code",
   "execution_count": 0,
   "metadata": {
    "application/vnd.databricks.v1+cell": {
     "cellMetadata": {
      "byteLimit": 2048000,
      "rowLimit": 10000
     },
     "inputWidgets": {},
     "nuid": "a6be679a-9fa4-4c5b-b9de-2e415135e7b7",
     "showTitle": false,
     "title": ""
    },
    "id": "R6iawCF1hDtv"
   },
   "outputs": [],
   "source": [
    "from johnsnowlabs import nlp, medical\n",
    "\n",
    "#nlp.install()"
   ]
  },
  {
   "cell_type": "code",
   "execution_count": 0,
   "metadata": {
    "application/vnd.databricks.v1+cell": {
     "cellMetadata": {
      "byteLimit": 2048000,
      "rowLimit": 10000
     },
     "inputWidgets": {},
     "nuid": "04cccc79-f417-416b-b5b6-84bff66bc8b8",
     "showTitle": false,
     "title": ""
    },
    "colab": {
     "base_uri": "https://localhost:8080/",
     "height": 271
    },
    "executionInfo": {
     "elapsed": 16,
     "status": "ok",
     "timestamp": 1708015147354,
     "user": {
      "displayName": "Akar Öztürk",
      "userId": "07602883577262601067"
     },
     "user_tz": -60
    },
    "id": "xzNgN33jNHTe",
    "outputId": "86043e74-22a3-4fd0-f3d3-a8215804dea9"
   },
   "outputs": [
    {
     "output_type": "display_data",
     "data": {
      "application/vnd.databricks.v1+bamboolib_hint": "{\"pd.DataFrames\": [], \"version\": \"0.0.1\"}",
      "text/plain": []
     },
     "metadata": {},
     "output_type": "display_data"
    },
    {
     "output_type": "display_data",
     "data": {
      "text/html": [
       "\n",
       "            <div>\n",
       "                <p><b>SparkSession - hive</b></p>\n",
       "                \n",
       "        <div>\n",
       "            <p><b>SparkContext</b></p>\n",
       "\n",
       "            <p><a href=\"/?o=7956323724731612#setting/sparkui/1112-201629-lg699ln8/driver-4456648168114059067\">Spark UI</a></p>\n",
       "\n",
       "            <dl>\n",
       "              <dt>Version</dt>\n",
       "                <dd><code>v3.3.0</code></dd>\n",
       "              <dt>Master</dt>\n",
       "                <dd><code>spark://10.139.64.10:7077</code></dd>\n",
       "              <dt>AppName</dt>\n",
       "                <dd><code>Databricks Shell</code></dd>\n",
       "            </dl>\n",
       "        </div>\n",
       "        \n",
       "            </div>\n",
       "        "
      ]
     },
     "metadata": {
      "application/vnd.databricks.v1+output": {
       "addedWidgets": {},
       "arguments": {},
       "data": "\n            <div>\n                <p><b>SparkSession - hive</b></p>\n                \n        <div>\n            <p><b>SparkContext</b></p>\n\n            <p><a href=\"/?o=7956323724731612#setting/sparkui/1112-201629-lg699ln8/driver-4456648168114059067\">Spark UI</a></p>\n\n            <dl>\n              <dt>Version</dt>\n                <dd><code>v3.3.0</code></dd>\n              <dt>Master</dt>\n                <dd><code>spark://10.139.64.10:7077</code></dd>\n              <dt>AppName</dt>\n                <dd><code>Databricks Shell</code></dd>\n            </dl>\n        </div>\n        \n            </div>\n        ",
       "datasetInfos": [],
       "metadata": {},
       "removedWidgets": [],
       "textData": null,
       "type": "htmlSandbox"
      }
     },
     "output_type": "display_data"
    }
   ],
   "source": [
    "from pyspark.sql import DataFrame\n",
    "import pyspark.sql.functions as F\n",
    "import pyspark.sql.types as T\n",
    "import pyspark.sql as SQL\n",
    "from pyspark import keyword_only\n",
    "\n",
    "import os\n",
    "import json\n",
    "import string\n",
    "import numpy as np\n",
    "import pandas as pd\n",
    "\n",
    "\n",
    "\n",
    "from pyspark.ml import Pipeline, PipelineModel\n",
    "\n",
    "pd.set_option('max_colwidth', 100)\n",
    "pd.set_option('display.max_columns', 100)  \n",
    "pd.set_option('display.expand_frame_repr', False)\n",
    "\n",
    "spark"
   ]
  },
  {
   "cell_type": "markdown",
   "metadata": {
    "application/vnd.databricks.v1+cell": {
     "cellMetadata": {},
     "inputWidgets": {},
     "nuid": "c72b8dac-155f-4957-8a81-1fd05af803c4",
     "showTitle": false,
     "title": ""
    },
    "id": "OFZ-kItg7GZQ"
   },
   "source": [
    "## Listing Models, Pipelines and Annotators"
   ]
  },
  {
   "cell_type": "markdown",
   "metadata": {
    "application/vnd.databricks.v1+cell": {
     "cellMetadata": {},
     "inputWidgets": {},
     "nuid": "19be261b-381f-4e74-a00e-027fbce0aa24",
     "showTitle": false,
     "title": ""
    },
    "id": "tChnGM-R7gaN"
   },
   "source": [
    "**You can print the list of clinical pretrained models/pipelines and annotators in Spark NLP with one-line code:**"
   ]
  },
  {
   "cell_type": "code",
   "execution_count": 0,
   "metadata": {
    "application/vnd.databricks.v1+cell": {
     "cellMetadata": {
      "byteLimit": 2048000,
      "rowLimit": 10000
     },
     "inputWidgets": {},
     "nuid": "b28be62c-462b-4ebe-a2a8-9e0e55f07d3b",
     "showTitle": false,
     "title": ""
    },
    "colab": {
     "base_uri": "https://localhost:8080/"
    },
    "executionInfo": {
     "elapsed": 3453,
     "status": "ok",
     "timestamp": 1708007745041,
     "user": {
      "displayName": "Akar Öztürk",
      "userId": "07602883577262601067"
     },
     "user_tz": -60
    },
    "id": "QZ0Wsr7zIySZ",
    "outputId": "302014b3-0988-4600-f581-0599d8c41012"
   },
   "outputs": [
    {
     "output_type": "stream",
     "name": "stdout",
     "output_type": "stream",
     "text": [
      "+--------------------------------------------------------------+------+---------+\n| Pipeline                                                     | lang | version |\n+--------------------------------------------------------------+------+---------+\n| clinical_analysis                                            |  en  | 2.4.0   |\n| clinical_ner_assertion                                       |  en  | 2.4.0   |\n| clinical_deidentification                                    |  en  | 2.4.0   |\n| explain_clinical_doc_ade                                     |  en  | 2.7.3   |\n| recognize_entities_posology                                  |  en  | 3.0.0   |\n| explain_clinical_doc_carp                                    |  en  | 3.0.0   |\n| explain_clinical_doc_ade                                     |  en  | 3.0.0   |\n| explain_clinical_doc_era                                     |  en  | 3.0.0   |\n| icd10cm_snomed_mapping                                       |  en  | 3.0.2   |\n| snomed_icd10cm_mapping                                       |  en  | 3.0.2   |\n| icd10cm_umls_mapping                                         |  en  | 3.0.2   |\n| snomed_umls_mapping                                          |  en  | 3.0.2   |\n| rxnorm_umls_mapping                                          |  en  | 3.0.2   |\n| mesh_umls_mapping                                            |  en  | 3.0.2   |\n| rxnorm_mesh_mapping                                          |  en  | 3.0.2   |\n| clinical_deidentification                                    |  en  | 3.0.3   |\n| clinical_deidentification_glove                              |  en  | 3.0.4   |\n| rxnorm_mesh_mapping                                          |  en  | 3.1.0   |\n| snomed_umls_mapping                                          |  en  | 3.1.0   |\n| rxnorm_umls_mapping                                          |  en  | 3.1.0   |\n| mesh_umls_mapping                                            |  en  | 3.1.0   |\n| icd10cm_umls_mapping                                         |  en  | 3.1.0   |\n| explain_clinical_doc_ade                                     |  en  | 3.1.2   |\n| ner_profiling_biobert                                        |  en  | 3.2.3   |\n| ner_profiling_clinical                                       |  en  | 3.2.3   |\n| ner_profiling_biobert                                        |  en  | 3.3.1   |\n| ner_profiling_clinical                                       |  en  | 3.3.1   |\n| ner_model_finder                                             |  en  | 3.3.2   |\n| icd10_icd9_mapping                                           |  en  | 3.3.4   |\n| clinical_deidentification                                    |  en  | 3.4.1   |\n| clinical_deidentification_glove                              |  en  | 3.4.1   |\n| bert_token_classifier_ner_cellular_pipeline                  |  en  | 3.4.1   |\n| bert_token_classifier_ner_chemprot_pipeline                  |  en  | 3.4.1   |\n| bert_token_classifier_ner_clinical_pipeline                  |  en  | 3.4.1   |\n| bert_token_classifier_ner_chemicals_pipeline                 |  en  | 3.4.1   |\n| bert_token_classifier_ner_anatomy_pipeline                   |  en  | 3.4.1   |\n| bert_token_classifier_ner_ade_pipeline                       |  en  | 3.4.1   |\n| clinical_deidentification_glove_augmented                    |  en  | 3.4.1   |\n| ner_bacterial_species_pipeline                               |  en  | 3.4.1   |\n| ner_measurements_clinical_pipeline                           |  en  | 3.4.1   |\n| ner_medmentions_coarse_pipeline                              |  en  | 3.4.1   |\n| bert_token_classifier_drug_development_trials_pipeline       |  en  | 3.4.1   |\n| ner_events_healthcare_pipeline                               |  en  | 3.4.1   |\n| ner_healthcare_pipeline                                      |  en  | 3.4.1   |\n| ner_posology_healthcare_pipeline                             |  en  | 3.4.1   |\n| ner_clinical_biobert_pipeline                                |  en  | 3.4.1   |\n| ner_abbreviation_clinical_pipeline                           |  en  | 3.4.1   |\n| ner_ade_biobert_pipeline                                     |  en  | 3.4.1   |\n| ner_radiology_wip_clinical_pipeline                          |  en  | 3.4.1   |\n| ner_ade_clinicalbert_pipeline                                |  en  | 3.4.1   |\n| ner_events_biobert_pipeline                                  |  en  | 3.4.1   |\n| ner_posology_large_biobert_pipeline                          |  en  | 3.4.1   |\n| ner_anatomy_coarse_biobert_pipeline                          |  en  | 3.4.1   |\n| ner_posology_small_pipeline                                  |  en  | 3.4.1   |\n| ner_anatomy_coarse_pipeline                                  |  en  | 3.4.1   |\n| ner_drugs_greedy_pipeline                                    |  en  | 3.4.1   |\n| ner_posology_large_pipeline                                  |  en  | 3.4.1   |\n| ner_clinical_large_pipeline                                  |  en  | 3.4.1   |\n| ner_drugs_large_pipeline                                     |  en  | 3.4.1   |\n| ner_drugs_pipeline                                           |  en  | 3.4.1   |\n| ner_posology_greedy_pipeline                                 |  en  | 3.4.1   |\n| ner_drugprot_clinical_pipeline                               |  en  | 3.4.1   |\n| ner_genetic_variants_pipeline                                |  en  | 3.4.1   |\n| ner_posology_experimental_pipeline                           |  en  | 3.4.1   |\n| ner_biomarker_pipeline                                       |  en  | 3.4.1   |\n| ner_posology_biobert_pipeline                                |  en  | 3.4.1   |\n| ner_posology_pipeline                                        |  en  | 3.4.1   |\n| ner_risk_factors_biobert_pipeline                            |  en  | 3.4.1   |\n| ner_deidentify_dl_pipeline                                   |  en  | 3.4.1   |\n| ner_deid_subentity_augmented_i2b2_pipeline                   |  en  | 3.4.1   |\n| ner_deid_subentity_augmented_pipeline                        |  en  | 3.4.1   |\n| ner_cellular_biobert_pipeline                                |  en  | 3.4.1   |\n| ner_jsl_slim_pipeline                                        |  en  | 3.4.1   |\n| ner_cellular_pipeline                                        |  en  | 3.4.1   |\n| ner_deid_sd_large_pipeline                                   |  en  | 3.4.1   |\n| ner_nihss_pipeline                                           |  en  | 3.4.1   |\n| ner_jsl_greedy_biobert_pipeline                              |  en  | 3.4.1   |\n| ner_deid_sd_pipeline                                         |  en  | 3.4.1   |\n| ner_chemicals_pipeline                                       |  en  | 3.4.1   |\n| ner_jsl_greedy_pipeline                                      |  en  | 3.4.1   |\n| ner_jsl_enriched_biobert_pipeline                            |  en  | 3.4.1   |\n| ner_jsl_enriched_pipeline                                    |  en  | 3.4.1   |\n| ner_jsl_pipeline                                             |  en  | 3.4.1   |\n| ner_chemprot_biobert_pipeline                                |  en  | 3.4.1   |\n| ner_deid_enriched_biobert_pipeline                           |  en  | 3.4.1   |\n| ner_human_phenotype_go_biobert_pipeline                      |  en  | 3.4.1   |\n| ner_human_phenotype_go_clinical_pipeline                     |  en  | 3.4.1   |\n| ner_chemprot_clinical_pipeline                               |  en  | 3.4.1   |\n| ner_human_phenotype_gene_clinical_pipeline                   |  en  | 3.4.1   |\n| jsl_rd_ner_wip_greedy_clinical_pipeline                      |  en  | 3.4.1   |\n| ner_human_phenotype_gene_biobert_pipeline                    |  en  | 3.4.1   |\n| jsl_rd_ner_wip_greedy_biobert_pipeline                       |  en  | 3.4.1   |\n| jsl_ner_wip_modifier_clinical_pipeline                       |  en  | 3.4.1   |\n| ner_deid_biobert_pipeline                                    |  en  | 3.4.1   |\n| jsl_ner_wip_greedy_clinical_pipeline                         |  en  | 3.4.1   |\n| jsl_ner_wip_greedy_biobert_pipeline                          |  en  | 3.4.1   |\n| jsl_ner_wip_clinical_pipeline                                |  en  | 3.4.1   |\n| bert_token_classifier_ner_jsl_slim_pipeline                  |  en  | 3.4.1   |\n| ner_deid_augmented_pipeline                                  |  en  | 3.4.1   |\n| bert_token_classifier_ner_drugs_pipeline                     |  en  | 3.4.1   |\n| bert_token_classifier_ner_deid_pipeline                      |  en  | 3.4.1   |\n| bert_token_classifier_ner_bionlp_pipeline                    |  en  | 3.4.1   |\n| ner_cancer_genetics_pipeline                                 |  en  | 3.4.1   |\n| ner_clinical_pipeline                                        |  en  | 3.4.1   |\n| ner_deid_enriched_pipeline                                   |  en  | 3.4.1   |\n| ner_deid_generic_augmented_pipeline                          |  en  | 3.4.1   |\n| ner_deid_large_pipeline                                      |  en  | 3.4.1   |\n| ner_diseases_pipeline                                        |  en  | 3.4.1   |\n| ner_diseases_large_pipeline                                  |  en  | 3.4.1   |\n| ner_diseases_biobert_pipeline                                |  en  | 3.4.1   |\n| ner_events_admission_clinical_pipeline                       |  en  | 3.4.1   |\n| ner_events_clinical_pipeline                                 |  en  | 3.4.1   |\n| bert_token_classifier_ner_jsl_pipeline                       |  en  | 3.4.1   |\n| ner_jsl_biobert_pipeline                                     |  en  | 3.4.1   |\n| ner_anatomy_pipeline                                         |  en  | 3.4.1   |\n| ner_bionlp_pipeline                                          |  en  | 3.4.1   |\n| ner_bionlp_biobert_pipeline                                  |  en  | 3.4.1   |\n| ner_chexpert_pipeline                                        |  en  | 3.4.1   |\n| ner_radiology_pipeline                                       |  en  | 3.4.1   |\n| ner_risk_factors_pipeline                                    |  en  | 3.4.1   |\n| bert_token_classifier_ner_bacteria_pipeline                  |  en  | 3.4.1   |\n| ner_anatomy_biobert_pipeline                                 |  en  | 3.4.1   |\n| ner_ade_healthcare_pipeline                                  |  en  | 3.4.1   |\n| ner_ade_clinical_pipeline                                    |  en  | 3.4.1   |\n| re_temporal_events_enriched_clinical_pipeline                |  en  | 3.4.1   |\n| re_date_clinical_pipeline                                    |  en  | 3.4.1   |\n| re_human_phenotype_gene_clinical_pipeline                    |  en  | 3.4.1   |\n| re_test_result_date_pipeline                                 |  en  | 3.4.1   |\n| re_temporal_events_clinical_pipeline                         |  en  | 3.4.1   |\n| re_bodypart_proceduretest_pipeline                           |  en  | 3.4.1   |\n| re_test_problem_finding_pipeline                             |  en  | 3.4.1   |\n| re_bodypart_directions_pipeline                              |  en  | 3.4.1   |\n| explain_clinical_doc_radiology                               |  en  | 3.4.2   |\n| explain_clinical_doc_medication                              |  en  | 3.4.2   |\n| spellcheck_clinical_pipeline                                 |  en  | 3.4.1   |\n| spellcheck_clinical_pipeline                                 |  en  | 3.4.2   |\n| rct_binary_classifier_biobert_pipeline                       |  en  | 3.4.2   |\n| bert_sequence_classifier_binary_rct_biobert_pipeline         |  en  | 3.4.2   |\n| rct_binary_classifier_use_pipeline                           |  en  | 3.4.2   |\n| ner_biomedical_bc2gm_pipeline                                |  en  | 3.5.3   |\n| ner_clinical_trials_abstracts_pipeline                       |  en  | 3.5.3   |\n| icd10cm_snomed_mapping                                       |  en  | 3.5.3   |\n| rxnorm_ndc_mapping                                           |  en  | 3.5.3   |\n| snomed_umls_mapping                                          |  en  | 3.5.3   |\n| rxnorm_umls_mapping                                          |  en  | 3.5.3   |\n| mesh_umls_mapping                                            |  en  | 3.5.3   |\n| icd10cm_umls_mapping                                         |  en  | 3.5.3   |\n| snomed_icdo_mapping                                          |  en  | 3.5.3   |\n| icdo_snomed_mapping                                          |  en  | 3.5.3   |\n| snomed_icd10cm_mapping                                       |  en  | 3.5.3   |\n| ner_pathogen_pipeline                                        |  en  | 4.0.0   |\n| explain_clinical_doc_ade                                     |  en  | 4.0.0   |\n| clinical_deidentification_glove_augmented                    |  en  | 4.0.0   |\n| clinical_deidentification_wip                                |  en  | 4.0.0   |\n| clinical_deidentification                                    |  en  | 4.0.0   |\n| clinical_deidentification_slim                               |  en  | 4.0.0   |\n| umls_drug_substance_resolver_pipeline                        |  en  | 4.0.0   |\n| umls_disease_syndrome_resolver_pipeline                      |  en  | 4.0.0   |\n| umls_clinical_findings_resolver_pipeline                     |  en  | 4.0.0   |\n| umls_drug_resolver_pipeline                                  |  en  | 4.0.0   |\n| umls_major_concepts_resolver_pipeline                        |  en  | 4.0.0   |\n| ner_medication_pipeline                                      |  en  | 4.0.0   |\n| explain_clinical_doc_radiology                               |  en  | 4.0.0   |\n| explain_clinical_doc_medication                              |  en  | 4.0.0   |\n| ner_profiling_biobert                                        |  en  | 4.0.2   |\n| ner_profiling_clinical                                       |  en  | 4.0.2   |\n| medication_resolver_pipeline                                 |  en  | 4.0.2   |\n| medication_resolver_transform_pipeline                       |  en  | 4.0.2   |\n| ner_model_finder                                             |  en  | 4.1.0   |\n| clinical_deidentification                                    |  en  | 4.1.0   |\n| clinical_deidentification_glove_augmented                    |  en  | 4.1.0   |\n| icd9_resolver_pipeline                                       |  en  | 4.1.0   |\n| icd10_icd9_mapping                                           |  en  | 4.1.0   |\n| cvx_resolver_pipeline                                        |  en  | 4.1.0   |\n| icd10cm_resolver_pipeline                                    |  en  | 4.2.1   |\n| oncology_general_pipeline                                    |  en  | 4.1.0   |\n| cvx_resolver_pipeline                                        |  en  | 4.2.1   |\n| oncology_biomarker_pipeline                                  |  en  | 4.2.2   |\n| oncology_therapy_pipeline                                    |  en  | 4.2.2   |\n| oncology_diagnosis_pipeline                                  |  en  | 4.2.2   |\n| oncology_general_pipeline                                    |  en  | 4.2.2   |\n| ner_jsl_slim_pipeline                                        |  en  | 4.3.1   |\n| ner_eu_clinical_case_pipeline                                |  en  | 4.3.0   |\n| ner_oncology_posology_pipeline                               |  en  | 4.3.0   |\n| ner_eu_clinical_condition_pipeline                           |  en  | 4.3.0   |\n| ner_oncology_anatomy_general_healthcare_pipeline             |  en  | 4.3.0   |\n| ner_oncology_biomarker_pipeline                              |  en  | 4.3.0   |\n| ner_covid_trials_pipeline                                    |  en  | 4.3.0   |\n| ner_oncology_unspecific_posology_healthcare_pipeline         |  en  | 4.3.0   |\n| ner_oncology_therapy_pipeline                                |  en  | 4.3.0   |\n| ner_oncology_pipeline                                        |  en  | 4.3.0   |\n| ner_oncology_unspecific_posology_pipeline                    |  en  | 4.3.0   |\n| ner_oncology_anatomy_granular_pipeline                       |  en  | 4.3.0   |\n| ner_oncology_anatomy_general_pipeline                        |  en  | 4.3.0   |\n| ner_oncology_diagnosis_pipeline                              |  en  | 4.3.0   |\n| ner_sdoh_mentions_test_pipeline                              |  en  | 4.3.0   |\n| ner_jsl_pipeline                                             |  en  | 4.3.0   |\n| ner_oncology_test_pipeline                                   |  en  | 4.3.0   |\n| ner_oncology_tnm_pipeline                                    |  en  | 4.3.0   |\n| ner_sdoh_mentions_pipeline                                   |  en  | 4.3.0   |\n| ner_oncology_biomarker_healthcare_pipeline                   |  en  | 4.3.0   |\n| ner_oncology_demographics_pipeline                           |  en  | 4.3.0   |\n| ner_oncology_response_to_treatment_pipeline                  |  en  | 4.3.0   |\n| ner_clinical_trials_abstracts_pipeline                       |  en  | 4.3.0   |\n| ner_pathogen_pipeline                                        |  en  | 4.3.0   |\n| umls_clinical_findings_resolver_pipeline                     |  en  | 4.3.0   |\n| ner_radiology_wip_clinical_pipeline                          |  en  | 4.3.0   |\n| ner_deid_augmented_pipeline                                  |  en  | 4.3.0   |\n| ner_ade_clinical_pipeline                                    |  en  | 4.3.0   |\n| ner_jsl_enriched_pipeline                                    |  en  | 4.3.0   |\n| ner_chemd_clinical_pipeline                                  |  en  | 4.3.0   |\n| ner_deid_subentity_augmented_i2b2_pipeline                   |  en  | 4.3.0   |\n| ner_anatomy_coarse_pipeline                                  |  en  | 4.3.0   |\n| ner_deid_synthetic_pipeline                                  |  en  | 4.3.0   |\n| jsl_ner_wip_modifier_clinical_pipeline                       |  en  | 4.3.0   |\n| ner_abbreviation_clinical_pipeline                           |  en  | 4.3.0   |\n| ner_ade_clinicalbert_pipeline                                |  en  | 4.3.0   |\n| ner_cellular_pipeline                                        |  en  | 4.3.0   |\n| ner_deid_subentity_glove_pipeline                            |  en  | 4.3.0   |\n| ner_deid_sd_large_pipeline                                   |  en  | 4.3.0   |\n| ner_cancer_genetics_pipeline                                 |  en  | 4.3.0   |\n| ner_nihss_pipeline                                           |  en  | 4.3.0   |\n| ner_deid_subentity_augmented_pipeline                        |  en  | 4.3.0   |\n| ner_events_healthcare_pipeline                               |  en  | 4.3.0   |\n| ner_healthcare_pipeline                                      |  en  | 4.3.0   |\n| ner_deid_generic_glove_pipeline                              |  en  | 4.3.0   |\n| ner_jsl_greedy_pipeline                                      |  en  | 4.3.0   |\n| ner_medmentions_coarse_pipeline                              |  en  | 4.3.0   |\n| ner_chemicals_pipeline                                       |  en  | 4.3.0   |\n| jsl_ner_wip_greedy_clinical_pipeline                         |  en  | 4.3.0   |\n| ner_biomedical_bc2gm_pipeline                                |  en  | 4.3.0   |\n| ner_genetic_variants_pipeline                                |  en  | 4.3.0   |\n| ner_deid_enriched_pipeline                                   |  en  | 4.3.0   |\n| ner_drugs_pipeline                                           |  en  | 4.3.0   |\n| ner_deid_sd_pipeline                                         |  en  | 4.3.0   |\n| ner_biomarker_pipeline                                       |  en  | 4.3.0   |\n| ner_posology_large_pipeline                                  |  en  | 4.3.0   |\n| ner_living_species_pipeline                                  |  en  | 4.3.0   |\n| ner_chemprot_clinical_pipeline                               |  en  | 4.3.0   |\n| ner_bacterial_species_pipeline                               |  en  | 4.3.0   |\n| ner_radiology_pipeline                                       |  en  | 4.3.0   |\n| ner_human_phenotype_gene_clinical_pipeline                   |  en  | 4.3.0   |\n| ner_clinical_pipeline                                        |  en  | 4.3.0   |\n| nerdl_tumour_demo_pipeline                                   |  en  | 4.3.0   |\n| ner_posology_small_pipeline                                  |  en  | 4.3.0   |\n| ner_posology_greedy_pipeline                                 |  en  | 4.3.0   |\n| ner_diseases_pipeline                                        |  en  | 4.3.0   |\n| ner_clinical_large_pipeline                                  |  en  | 4.3.0   |\n| ner_posology_experimental_pipeline                           |  en  | 4.3.0   |\n| ner_events_admission_clinical_pipeline                       |  en  | 4.3.0   |\n| ner_events_clinical_pipeline                                 |  en  | 4.3.0   |\n| jsl_ner_wip_clinical_pipeline                                |  en  | 4.3.0   |\n| ner_deid_large_pipeline                                      |  en  | 4.3.0   |\n| ner_bionlp_pipeline                                          |  en  | 4.3.0   |\n| ner_drugprot_clinical_pipeline                               |  en  | 4.3.0   |\n| ner_anatomy_pipeline                                         |  en  | 4.3.0   |\n| ner_diseases_large_pipeline                                  |  en  | 4.3.0   |\n| ner_posology_pipeline                                        |  en  | 4.3.0   |\n| ner_nature_nero_clinical_pipeline                            |  en  | 4.3.0   |\n| ner_deidentify_dl_pipeline                                   |  en  | 4.3.0   |\n| ner_ade_healthcare_pipeline                                  |  en  | 4.3.0   |\n| ner_chexpert_pipeline                                        |  en  | 4.3.0   |\n| ner_drugs_large_pipeline                                     |  en  | 4.3.0   |\n| ner_supplement_clinical_pipeline                             |  en  | 4.3.0   |\n| jsl_rd_ner_wip_greedy_clinical_pipeline                      |  en  | 4.3.0   |\n| ner_human_phenotype_go_clinical_pipeline                     |  en  | 4.3.0   |\n| ner_measurements_clinical_pipeline                           |  en  | 4.3.0   |\n| ner_drugs_greedy_pipeline                                    |  en  | 4.3.0   |\n| ner_posology_healthcare_pipeline                             |  en  | 4.3.0   |\n| ner_risk_factors_pipeline                                    |  en  | 4.3.0   |\n| ner_clinical_biobert_pipeline                                |  en  | 4.3.0   |\n| ner_jsl_greedy_biobert_pipeline                              |  en  | 4.3.0   |\n| ner_cellular_biobert_pipeline                                |  en  | 4.3.0   |\n| ner_ade_biobert_pipeline                                     |  en  | 4.3.0   |\n| bert_token_classifier_ner_linnaeus_species_pipeline          |  en  | 4.3.0   |\n| bert_token_classifier_ner_clinical_trials_abstracts_pipeline |  en  | 4.3.0   |\n| bert_token_classifier_ner_bc4chemd_chemicals_pipeline        |  en  | 4.3.0   |\n| ner_deid_biobert_pipeline                                    |  en  | 4.3.0   |\n| bert_token_classifier_ner_deid_pipeline                      |  en  | 4.3.0   |\n| ner_human_phenotype_gene_biobert_pipeline                    |  en  | 4.3.0   |\n| ner_posology_biobert_pipeline                                |  en  | 4.3.0   |\n| ner_anatomy_coarse_biobert_pipeline                          |  en  | 4.3.0   |\n| bert_token_classifier_ner_bacteria_pipeline                  |  en  | 4.3.0   |\n| bert_token_classifier_ner_bc5cdr_disease_pipeline            |  en  | 4.3.0   |\n| bert_token_classifier_ner_chemprot_pipeline                  |  en  | 4.3.0   |\n| ner_living_species_biobert_pipeline                          |  en  | 4.3.0   |\n| bert_token_classifier_ner_jsl_slim_pipeline                  |  en  | 4.3.0   |\n| ner_diseases_biobert_pipeline                                |  en  | 4.3.0   |\n| bert_token_classifier_ner_anatomy_pipeline                   |  en  | 4.3.0   |\n| bert_token_classifier_ner_clinical_pipeline                  |  en  | 4.3.0   |\n| jsl_ner_wip_greedy_biobert_pipeline                          |  en  | 4.3.0   |\n| ner_posology_large_biobert_pipeline                          |  en  | 4.3.0   |\n| bert_token_classifier_ner_species_pipeline                   |  en  | 4.3.0   |\n| bert_token_classifier_ner_bc5cdr_chemicals_pipeline          |  en  | 4.3.0   |\n| bert_token_classifier_ner_ncbi_disease_pipeline              |  en  | 4.3.0   |\n| ner_jsl_biobert_pipeline                                     |  en  | 4.3.0   |\n| bert_token_classifier_ner_bionlp_pipeline                    |  en  | 4.3.0   |\n| bert_token_classifier_drug_development_trials_pipeline       |  en  | 4.3.0   |\n| bert_token_classifier_ner_chemicals_pipeline                 |  en  | 4.3.0   |\n| ner_deid_enriched_biobert_pipeline                           |  en  | 4.3.0   |\n| ner_bionlp_biobert_pipeline                                  |  en  | 4.3.0   |\n| bert_token_classifier_ner_ade_binary_pipeline                |  en  | \n\n*** WARNING: max output size exceeded, skipping output. ***\n\n_resolver_pipeline                                  |  en  | 4.3.2   |\n| spellcheck_clinical_pipeline                                 |  en  | 4.3.2   |\n| cvx_resolver_pipeline                                        |  en  | 4.3.2   |\n| umls_disease_syndrome_resolver_pipeline                      |  en  | 4.3.2   |\n| medication_resolver_pipeline                                 |  en  | 4.3.2   |\n| umls_drug_substance_resolver_pipeline                        |  en  | 4.3.2   |\n| medication_resolver_transform_pipeline                       |  en  | 4.3.2   |\n| umls_major_concepts_resolver_pipeline                        |  en  | 4.3.2   |\n| umls_clinical_findings_resolver_pipeline                     |  en  | 4.3.2   |\n| explain_clinical_doc_era                                     |  en  | 4.3.0   |\n| explain_clinical_doc_radiology                               |  en  | 4.3.0   |\n| explain_clinical_doc_medication                              |  en  | 4.3.0   |\n| explain_clinical_doc_ade                                     |  en  | 4.3.0   |\n| explain_clinical_doc_carp                                    |  en  | 4.3.0   |\n| ner_profiling_clinical                                       |  en  | 4.4.0   |\n| ner_profiling_biobert                                        |  en  | 4.4.0   |\n| summarizer_clinical_jsl_pipeline                             |  en  | 4.4.2   |\n| summarizer_generic_jsl_pipeline                              |  en  | 4.4.2   |\n| summarizer_radiology_pipeline                                |  en  | 4.4.2   |\n| summarizer_clinical_questions_pipeline                       |  en  | 4.4.2   |\n| summarizer_clinical_guidelines_large_pipeline                |  en  | 4.4.2   |\n| summarizer_clinical_jsl_augmented_pipeline                   |  en  | 4.4.2   |\n| summarizer_biomedical_pubmed_pipeline                        |  en  | 4.4.2   |\n| summarizer_clinical_jsl_pipeline                             |  en  | 4.4.1   |\n| summarizer_clinical_jsl_augmented_pipeline                   |  en  | 4.4.1   |\n| summarizer_radiology_pipeline                                |  en  | 4.4.1   |\n| summarizer_biomedical_pubmed_pipeline                        |  en  | 4.4.1   |\n| summarizer_generic_jsl_pipeline                              |  en  | 4.4.1   |\n| summarizer_clinical_questions_pipeline                       |  en  | 4.4.1   |\n| summarizer_clinical_guidelines_large_pipeline                |  en  | 4.4.1   |\n| summarizer_clinical_laymen_pipeline                          |  en  | 4.4.1   |\n| ner_profiling_biobert                                        |  en  | 4.4.4   |\n| ner_vop_test_pipeline                                        |  en  | 4.4.3   |\n| ner_vop_clinical_dept_pipeline                               |  en  | 4.4.3   |\n| ner_vop_demographic_pipeline                                 |  en  | 4.4.3   |\n| ner_vop_anatomy_pipeline                                     |  en  | 4.4.3   |\n| ner_vop_problem_reduced_pipeline                             |  en  | 4.4.3   |\n| ner_vop_temporal_pipeline                                    |  en  | 4.4.3   |\n| ner_vop_pipeline                                             |  en  | 4.4.3   |\n| ner_vop_problem_pipeline                                     |  en  | 4.4.3   |\n| ner_vop_treatment_pipeline                                   |  en  | 4.4.3   |\n| icd10cm_umls_mapping                                         |  en  | 4.4.4   |\n| ner_oncology_anatomy_general_pipeline                        |  en  | 4.4.4   |\n| ner_oncology_biomarker_healthcare_pipeline                   |  en  | 4.4.4   |\n| ner_deid_synthetic_pipeline                                  |  en  | 4.4.4   |\n| ner_oncology_anatomy_general_healthcare_pipeline             |  en  | 4.4.4   |\n| ner_oncology_test_pipeline                                   |  en  | 4.4.4   |\n| ner_oncology_therapy_pipeline                                |  en  | 4.4.4   |\n| ner_oncology_demographics_pipeline                           |  en  | 4.4.4   |\n| explain_clinical_doc_era                                     |  en  | 4.4.4   |\n| snomed_icd10cm_mapping                                       |  en  | 4.4.4   |\n| ner_deid_subentity_glove_pipeline                            |  en  | 4.4.4   |\n| ner_chemd_clinical_pipeline                                  |  en  | 4.4.4   |\n| ner_supplement_clinical_pipeline                             |  en  | 4.4.4   |\n| ner_living_species_biobert_pipeline                          |  en  | 4.4.4   |\n| re_temporal_events_clinical_pipeline                         |  en  | 4.4.4   |\n| ner_eu_clinical_case_pipeline                                |  en  | 4.4.4   |\n| bert_token_classifier_ner_ade_binary_pipeline                |  en  | 4.4.4   |\n| ner_oncology_unspecific_posology_pipeline                    |  en  | 4.4.4   |\n| re_bodypart_directions_pipeline                              |  en  | 4.4.4   |\n| icdo_snomed_mapping                                          |  en  | 4.4.4   |\n| bert_token_classifier_ner_species_pipeline                   |  en  | 4.4.4   |\n| oncology_general_pipeline                                    |  en  | 4.4.4   |\n| bert_token_classifier_ner_linnaeus_species_pipeline          |  en  | 4.4.4   |\n| explain_clinical_doc_medication                              |  en  | 4.4.4   |\n| ner_oncology_biomarker_pipeline                              |  en  | 4.4.4   |\n| re_test_result_date_pipeline                                 |  en  | 4.4.4   |\n| re_temporal_events_enriched_clinical_pipeline                |  en  | 4.4.4   |\n| bert_token_classifier_ner_anatem_pipeline                    |  en  | 4.4.4   |\n| bert_token_classifier_ner_bc2gm_gene_pipeline                |  en  | 4.4.4   |\n| re_test_problem_finding_pipeline                             |  en  | 4.4.4   |\n| ner_covid_trials_pipeline                                    |  en  | 4.4.4   |\n| bert_token_classifier_ner_bc5cdr_chemicals_pipeline          |  en  | 4.4.4   |\n| mesh_umls_mapping                                            |  en  | 4.4.4   |\n| ner_oncology_response_to_treatment_pipeline                  |  en  | 4.4.4   |\n| rxnorm_ndc_mapping                                           |  en  | 4.4.4   |\n| bert_token_classifier_ner_living_species_pipeline            |  en  | 4.4.4   |\n| ner_living_species_pipeline                                  |  en  | 4.4.4   |\n| bert_token_classifier_ner_bc4chemd_chemicals_pipeline        |  en  | 4.4.4   |\n| bert_token_classifier_ner_ncbi_disease_pipeline              |  en  | 4.4.4   |\n| bert_token_classifier_ner_pathogen_pipeline                  |  en  | 4.4.4   |\n| bert_token_classifier_ner_clinical_trials_abstracts_pipeline |  en  | 4.4.4   |\n| ner_sdoh_mentions_pipeline                                   |  en  | 4.4.4   |\n| re_human_phenotype_gene_clinical_pipeline                    |  en  | 4.4.4   |\n| ner_oncology_tnm_pipeline                                    |  en  | 4.4.4   |\n| icd10_icd9_mapping                                           |  en  | 4.4.4   |\n| re_bodypart_proceduretest_pipeline                           |  en  | 4.4.4   |\n| explain_clinical_doc_carp                                    |  en  | 4.4.4   |\n| ner_oncology_unspecific_posology_healthcare_pipeline         |  en  | 4.4.4   |\n| snomed_umls_mapping                                          |  en  | 4.4.4   |\n| snomed_icdo_mapping                                          |  en  | 4.4.4   |\n| ner_nature_nero_clinical_pipeline                            |  en  | 4.4.4   |\n| ner_deid_generic_glove_pipeline                              |  en  | 4.4.4   |\n| bert_token_classifier_ade_tweet_binary_pipeline              |  en  | 4.4.4   |\n| bert_token_classifier_ner_bc5cdr_disease_pipeline            |  en  | 4.4.4   |\n| bert_token_classifier_ner_jnlpba_cellular_pipeline           |  en  | 4.4.4   |\n| oncology_biomarker_pipeline                                  |  en  | 4.4.4   |\n| nerdl_tumour_demo_pipeline                                   |  en  | 4.4.4   |\n| ner_oncology_posology_pipeline                               |  en  | 4.4.4   |\n| ner_oncology_diagnosis_pipeline                              |  en  | 4.4.4   |\n| clinical_deidentification_slim                               |  en  | 4.4.4   |\n| clinical_deidentification_glove                              |  en  | 4.4.4   |\n| bert_token_classifier_ner_jsl_pipeline                       |  en  | 4.4.4   |\n| recognize_entities_posology                                  |  en  | 4.4.4   |\n| bert_sequence_classifier_binary_rct_biobert_pipeline         |  en  | 4.4.4   |\n| icd10cm_snomed_mapping                                       |  en  | 4.4.4   |\n| rxnorm_umls_mapping                                          |  en  | 4.4.4   |\n| rxnorm_mesh_mapping                                          |  en  | 4.4.4   |\n| ner_medication_pipeline                                      |  en  | 4.4.4   |\n| ner_deid_generic_augmented_pipeline                          |  en  | 4.4.4   |\n| bert_sequence_classifier_vop_hcp_consult_pipeline            |  en  | 4.4.3   |\n| bert_sequence_classifier_vop_side_effect_pipeline            |  en  | 4.4.3   |\n| bert_sequence_classifier_vop_drug_side_effect_pipeline       |  en  | 4.4.3   |\n| bert_sequence_classifier_vop_self_report_pipeline            |  en  | 4.4.3   |\n| bert_sequence_classifier_vop_sound_medical_pipeline          |  en  | 4.4.3   |\n| clinical_deidentification                                    |  en  | 4.4.4   |\n| explain_clinical_doc_ade                                     |  en  | 4.4.4   |\n| bert_token_classifier_ner_cellular_pipeline                  |  en  | 4.4.4   |\n| bert_token_classifier_ner_chemicals_pipeline                 |  en  | 4.4.4   |\n| bert_token_classifier_ner_chemprot_pipeline                  |  en  | 4.4.4   |\n| bert_token_classifier_ner_anatomy_pipeline                   |  en  | 4.4.4   |\n| bert_token_classifier_ner_clinical_pipeline                  |  en  | 4.4.4   |\n| ner_posology_large_biobert_pipeline                          |  en  | 4.4.4   |\n| ner_cellular_biobert_pipeline                                |  en  | 4.4.4   |\n| jsl_rd_ner_wip_greedy_biobert_pipeline                       |  en  | 4.4.4   |\n| ner_bionlp_biobert_pipeline                                  |  en  | 4.4.4   |\n| ner_cancer_genetics_pipeline                                 |  en  | 4.4.4   |\n| jsl_ner_wip_clinical_pipeline                                |  en  | 4.4.4   |\n| bert_token_classifier_drug_development_trials_pipeline       |  en  | 4.4.4   |\n| ner_deid_biobert_pipeline                                    |  en  | 4.4.4   |\n| ner_drugprot_clinical_pipeline                               |  en  | 4.4.4   |\n| ner_diseases_large_pipeline                                  |  en  | 4.4.4   |\n| explain_clinical_doc_radiology                               |  en  | 4.4.4   |\n| ner_measurements_clinical_pipeline                           |  en  | 4.4.4   |\n| bert_token_classifier_ner_bacteria_pipeline                  |  en  | 4.4.4   |\n| ner_healthcare_pipeline                                      |  en  | 4.4.4   |\n| ner_jsl_greedy_pipeline                                      |  en  | 4.4.4   |\n| ner_drugs_large_pipeline                                     |  en  | 4.4.4   |\n| ner_jsl_slim_pipeline                                        |  en  | 4.4.4   |\n| ner_chexpert_pipeline                                        |  en  | 4.4.4   |\n| ner_events_healthcare_pipeline                               |  en  | 4.4.4   |\n| ner_eu_clinical_condition_pipeline                           |  en  | 4.4.4   |\n| ner_jsl_greedy_biobert_pipeline                              |  en  | 4.4.4   |\n| ner_drugs_greedy_pipeline                                    |  en  | 4.4.4   |\n| ner_posology_experimental_pipeline                           |  en  | 4.4.4   |\n| ner_chemprot_biobert_pipeline                                |  en  | 4.4.4   |\n| ner_jsl_biobert_pipeline                                     |  en  | 4.4.4   |\n| ner_radiology_pipeline                                       |  en  | 4.4.4   |\n| ner_deid_enriched_pipeline                                   |  en  | 4.4.4   |\n| ner_posology_small_pipeline                                  |  en  | 4.4.4   |\n| ner_ade_clinical_pipeline                                    |  en  | 4.4.4   |\n| ner_posology_large_pipeline                                  |  en  | 4.4.4   |\n| ner_chemicals_pipeline                                       |  en  | 4.4.4   |\n| ner_ade_biobert_pipeline                                     |  en  | 4.4.4   |\n| ner_diseases_biobert_pipeline                                |  en  | 4.4.4   |\n| ner_anatomy_biobert_pipeline                                 |  en  | 4.4.4   |\n| ner_clinical_pipeline                                        |  en  | 4.4.4   |\n| ner_deid_augmented_pipeline                                  |  en  | 4.4.4   |\n| ner_risk_factors_pipeline                                    |  en  | 4.4.4   |\n| ner_diseases_pipeline                                        |  en  | 4.4.4   |\n| bert_token_classifier_ner_deid_pipeline                      |  en  | 4.4.4   |\n| ner_posology_biobert_pipeline                                |  en  | 4.4.4   |\n| ner_radiology_wip_clinical_pipeline                          |  en  | 4.4.4   |\n| ner_clinical_large_pipeline                                  |  en  | 4.4.4   |\n| ner_bacterial_species_pipeline                               |  en  | 4.4.4   |\n| ner_pathogen_pipeline                                        |  en  | 4.4.4   |\n| ner_deid_sd_pipeline                                         |  en  | 4.4.4   |\n| ner_biomarker_pipeline                                       |  en  | 4.4.4   |\n| clinical_deidentification_glove_augmented                    |  en  | 4.4.4   |\n| ner_clinical_biobert_pipeline                                |  en  | 4.4.4   |\n| ner_abbreviation_clinical_pipeline                           |  en  | 4.4.4   |\n| ner_nihss_pipeline                                           |  en  | 4.4.4   |\n| ner_ade_healthcare_pipeline                                  |  en  | 4.4.4   |\n| jsl_ner_wip_greedy_clinical_pipeline                         |  en  | 4.4.4   |\n| ner_human_phenotype_gene_biobert_pipeline                    |  en  | 4.4.4   |\n| ner_anatomy_pipeline                                         |  en  | 4.4.4   |\n| jsl_ner_wip_greedy_biobert_pipeline                          |  en  | 4.4.4   |\n| ner_deidentify_dl_pipeline                                   |  en  | 4.4.4   |\n| ner_jsl_enriched_pipeline                                    |  en  | 4.4.4   |\n| ner_risk_factors_biobert_pipeline                            |  en  | 4.4.4   |\n| ner_cellular_pipeline                                        |  en  | 4.4.4   |\n| ner_deid_large_pipeline                                      |  en  | 4.4.4   |\n| ner_deid_sd_large_pipeline                                   |  en  | 4.4.4   |\n| ner_medmentions_coarse_pipeline                              |  en  | 4.4.4   |\n| ner_events_clinical_pipeline                                 |  en  | 4.4.4   |\n| ner_events_admission_clinical_pipeline                       |  en  | 4.4.4   |\n| ner_posology_greedy_pipeline                                 |  en  | 4.4.4   |\n| bert_token_classifier_ner_ade_pipeline                       |  en  | 4.4.4   |\n| ner_genetic_variants_pipeline                                |  en  | 4.4.4   |\n| ner_deid_enriched_biobert_pipeline                           |  en  | 4.4.4   |\n| ner_events_biobert_pipeline                                  |  en  | 4.4.4   |\n| ner_drugs_pipeline                                           |  en  | 4.4.4   |\n| bert_token_classifier_ner_jsl_slim_pipeline                  |  en  | 4.4.4   |\n| ner_clinical_trials_abstracts_pipeline                       |  en  | 4.4.4   |\n| bert_token_classifier_ner_drugs_pipeline                     |  en  | 4.4.4   |\n| clinical_deidentification_wip                                |  en  | 4.4.4   |\n| ner_anatomy_coarse_biobert_pipeline                          |  en  | 4.4.4   |\n| ner_human_phenotype_go_clinical_pipeline                     |  en  | 4.4.4   |\n| ner_bionlp_pipeline                                          |  en  | 4.4.4   |\n| ner_posology_pipeline                                        |  en  | 4.4.4   |\n| jsl_ner_wip_modifier_clinical_pipeline                       |  en  | 4.4.4   |\n| ner_jsl_pipeline                                             |  en  | 4.4.4   |\n| ner_anatomy_coarse_pipeline                                  |  en  | 4.4.4   |\n| spellcheck_clinical_pipeline                                 |  en  | 4.4.4   |\n| ner_deid_subentity_augmented_pipeline                        |  en  | 4.4.4   |\n| bert_token_classifier_ner_bionlp_pipeline                    |  en  | 4.4.4   |\n| ner_posology_healthcare_pipeline                             |  en  | 4.4.4   |\n| ner_biomedical_bc2gm_pipeline                                |  en  | 4.4.4   |\n| jsl_rd_ner_wip_greedy_clinical_pipeline                      |  en  | 4.4.4   |\n| ner_human_phenotype_go_biobert_pipeline                      |  en  | 4.4.4   |\n| ner_human_phenotype_gene_clinical_pipeline                   |  en  | 4.4.4   |\n| ner_deid_subentity_augmented_i2b2_pipeline                   |  en  | 4.4.4   |\n| ner_chemprot_clinical_pipeline                               |  en  | 4.4.4   |\n| oncology_therapy_pipeline                                    |  en  | 4.4.4   |\n| ner_ade_clinicalbert_pipeline                                |  en  | 4.4.4   |\n| ner_jsl_enriched_biobert_pipeline                            |  en  | 4.4.4   |\n| summarizer_clinical_questions_pipeline                       |  en  | 4.4.4   |\n| icd10cm_resolver_pipeline                                    |  en  | 4.4.4   |\n| ner_vop_clinical_dept_pipeline                               |  en  | 4.4.4   |\n| bert_sequence_classifier_vop_drug_side_effect_pipeline       |  en  | 4.4.4   |\n| ner_vop_demographic_pipeline                                 |  en  | 4.4.4   |\n| bert_sequence_classifier_vop_sound_medical_pipeline          |  en  | 4.4.4   |\n| ner_vop_problem_pipeline                                     |  en  | 4.4.4   |\n| ner_vop_pipeline                                             |  en  | 4.4.4   |\n| summarizer_biomedical_pubmed_pipeline                        |  en  | 4.4.4   |\n| bert_sequence_classifier_vop_self_report_pipeline            |  en  | 4.4.4   |\n| ner_vop_problem_reduced_pipeline                             |  en  | 4.4.4   |\n| ner_vop_treatment_pipeline                                   |  en  | 4.4.4   |\n| bert_sequence_classifier_vop_side_effect_pipeline            |  en  | 4.4.4   |\n| cvx_resolver_pipeline                                        |  en  | 4.4.4   |\n| summarizer_clinical_guidelines_large_pipeline                |  en  | 4.4.4   |\n| ner_vop_test_pipeline                                        |  en  | 4.4.4   |\n| umls_clinical_findings_resolver_pipeline                     |  en  | 4.4.4   |\n| icd9_resolver_pipeline                                       |  en  | 4.4.4   |\n| summarizer_clinical_jsl_augmented_pipeline                   |  en  | 4.4.4   |\n| bert_sequence_classifier_vop_hcp_consult_pipeline            |  en  | 4.4.4   |\n| rct_binary_classifier_use_pipeline                           |  en  | 4.4.4   |\n| ner_vop_anatomy_pipeline                                     |  en  | 4.4.4   |\n| ner_profiling_clinical                                       |  en  | 4.4.4   |\n| summarizer_clinical_laymen_pipeline                          |  en  | 4.4.4   |\n| medication_resolver_pipeline                                 |  en  | 4.4.4   |\n| summarizer_clinical_jsl_pipeline                             |  en  | 4.4.4   |\n| rct_binary_classifier_biobert_pipeline                       |  en  | 4.4.4   |\n| summarizer_radiology_pipeline                                |  en  | 4.4.4   |\n| ner_vop_temporal_pipeline                                    |  en  | 4.4.4   |\n| umls_major_concepts_resolver_pipeline                        |  en  | 4.4.4   |\n| umls_disease_syndrome_resolver_pipeline                      |  en  | 4.4.4   |\n| umls_drug_resolver_pipeline                                  |  en  | 4.4.4   |\n| summarizer_generic_jsl_pipeline                              |  en  | 4.4.4   |\n| umls_drug_substance_resolver_pipeline                        |  en  | 4.4.4   |\n| ner_profiling_oncology                                       |  en  | 4.4.4   |\n| ner_profiling_vop                                            |  en  | 4.4.4   |\n| ner_profiling_sdoh                                           |  en  | 4.4.4   |\n| clinical_deidentification                                    |  en  | 5.0.0   |\n| rxnorm_multi_mapper_pipeline                                 |  en  | 5.0.1   |\n| rxnorm_resolver_pipeline                                     |  en  | 5.0.1   |\n| icd10cm_multi_mapper_pipeline                                |  en  | 5.0.1   |\n| abbreviation_pipeline                                        |  en  | 5.0.1   |\n| snomed_multi_mapper_pipeline                                 |  en  | 5.0.1   |\n| ner_oncology_anatomy_general_langtest_pipeline               |  en  | 5.1.0   |\n| ner_posology_langtest_pipeline                               |  en  | 5.1.0   |\n| ner_jsl_langtest_pipeline                                    |  en  | 5.1.0   |\n| ner_sdoh_langtest_pipeline                                   |  en  | 5.1.0   |\n| ner_oncology_demographics_langtest_pipeline                  |  en  | 5.1.0   |\n| ner_ade_clinical_langtest_pipeline                           |  en  | 5.1.0   |\n| ner_events_clinical_langtest_pipeline                        |  en  | 5.1.0   |\n| ner_oncology_anatomy_granular_langtest_pipeline              |  en  | 5.1.0   |\n| ner_oncology_response_to_treatment_langtest_pipeline         |  en  | 5.1.0   |\n| ner_oncology_posology_langtest_pipeline                      |  en  | 5.1.0   |\n| oncology_diagnosis_pipeline                                  |  en  | 5.2.0   |\n| ner_oncology_pipeline                                        |  en  | 5.2.0   |\n| summarizer_clinical_laymen_onnx_pipeline                     |  en  | 5.2.0   |\n| ner_vop_pipeline                                             |  en  | 5.2.0   |\n| clinical_notes_qa_base_onnx_pipeline                         |  en  | 5.2.0   |\n| clinical_deidentification                                    |  en  | 5.2.0   |\n| medical_qa_biogpt_pipeline                                   |  en  | 5.2.0   |\n| flan_t5_base_jsl_qa_pipeline                                 |  en  | 5.2.0   |\n| clinical_deidentification_langtest                           |  en  | 5.2.0   |\n| clinical_notes_qa_large_onnx_pipeline                        |  en  | 5.2.0   |\n| explain_clinical_doc_vop                                     |  en  | 5.2.1   |\n| hcc_resolver_pipeline                                        |  en  | 5.2.1   |\n| atc_resolver_pipeline                                        |  en  | 5.2.1   |\n| cpt_procedures_measurements_resolver_pipeline                |  en  | 5.2.1   |\n| snomed_body_structure_resolver_pipeline                      |  en  | 5.2.1   |\n| explain_clinical_doc_generic                                 |  en  | 5.2.1   |\n| snomed_findings_resolver_pipeline                            |  en  | 5.2.1   |\n| hpo_resolver_pipeline                                        |  en  | 5.2.1   |\n| explain_clinical_doc_radiology                               |  en  | 5.2.1   |\n| explain_clinical_doc_oncology                                |  en  | 5.2.1   |\n| ndc_resolver_pipeline                                        |  en  | 5.2.1   |\n| mesh_resolver_pipeline                                       |  en  | 5.2.1   |\n| explain_clinical_doc_granular                                |  en  | 5.2.1   |\n| icd10cm_generalised_resolver_pipeline                        |  en  | 5.2.1   |\n| loinc_numeric_resolver_pipeline                              |  en  | 5.2.1   |\n| hcpcs_resolver_pipeline                                      |  en  | 5.2.1   |\n| hgnc_resolver_pipeline                                       |  en  | 5.2.1   |\n| ncit_resolver_pipeline                                       |  en  | 5.2.1   |\n| rxcui_resolver_pipeline                                      |  en  | 5.2.1   |\n| snomed_procedures_measurements_resolver_pipeline             |  en  | 5.2.1   |\n| icdo_resolver_pipeline                                       |  en  | 5.2.1   |\n| loinc_resolver_pipeline                                      |  en  | 5.2.1   |\n| icd10pcs_resolver_pipeline                                   |  en  | 5.2.1   |\n| clinical_deidentification_obfuscation_small                  |  en  | 5.2.1   |\n| clinical_deidentification_obfuscation_medium                 |  en  | 5.2.1   |\n+--------------------------------------------------------------+------+---------+\n\n"
     ]
    }
   ],
   "source": [
    "from sparknlp_jsl.pretrained import InternalResourceDownloader\n",
    "\n",
    "# print PretrainedPipelines\n",
    "InternalResourceDownloader.showPrivatePipelines(lang='en')\n",
    "\n",
    "# print models\n",
    "#InternalResourceDownloader.showPrivateModels(annotator=\"MedicalNerModel\", lang='en')\n",
    "\n",
    "# print annotators\n",
    "# InternalResourceDownloader.showAvailableAnnotators()"
   ]
  },
  {
   "cell_type": "markdown",
   "metadata": {
    "application/vnd.databricks.v1+cell": {
     "cellMetadata": {},
     "inputWidgets": {},
     "nuid": "cb7d82d3-9bff-4e45-aa38-d5b886911b36",
     "showTitle": false,
     "title": ""
    },
    "id": "hmhC6kMHKYyh"
   },
   "source": [
    "## Pretrained Pipelines"
   ]
  },
  {
   "cell_type": "markdown",
   "metadata": {
    "application/vnd.databricks.v1+cell": {
     "cellMetadata": {},
     "inputWidgets": {},
     "nuid": "ca5b524e-78f9-4acf-8358-f61e59ca0a5e",
     "showTitle": false,
     "title": ""
    },
    "id": "dLFDvuupKeGH"
   },
   "source": [
    "In order to save you from creating a pipeline from scratch, Spark NLP also has a pre-trained pipelines that are already fitted using certain annotators and transformers according to various use cases.\n",
    "\n",
    "**1.   explain_clinical_doc_granular** :\n",
    "\n",
    "> A pipeline with `ner_jsl`, `assertion_jsl` and `re_test_result_date`. It will extract clinical and medication entities, assign assertion status and find relationships between clinical entities.\n",
    "\n",
    "**2.   explain_clinical_doc_carp** :\n",
    "\n",
    "> A pipeline with `ner_clinical`, `assertion_dl`, `re_clinical` and `ner_posology`. It will extract clinical and medication entities, assign assertion status and find relationships between clinical entities.\n",
    "\n",
    "**3.   explain_clinical_doc_era** :\n",
    "\n",
    "> A pipeline with `ner_clinical_events`, `assertion_dl` and `re_temporal_events_clinical`. It will extract clinical entities, assign assertion status and find temporal relationships between clinical entities.\n",
    "\n",
    "**4.   explain_clinical_doc_ade** :\n",
    "\n",
    "> A pipeline for `Adverse Drug Events (ADE)` with `ner_ade_biobert`, `assertiondl_biobert`, `classifierdl_ade_conversational_biobert` and `re_ade_biobert`. It will classify the document, extract `ADE` and `DRUG` entities, assign assertion status to `ADE` entities, and relate them with `DRUG` entities, then assign ADE status to a text (`True` means ADE, `False` means not related to ADE).\n",
    "\n",
    "**letter codes in the naming conventions:**\n",
    "\n",
    "> c : ner_clinical\n",
    "\n",
    "> e : ner_clinical_events\n",
    "\n",
    "> r : relation extraction\n",
    "\n",
    "> p : ner_posology\n",
    "\n",
    "> a : assertion\n",
    "\n",
    "> ade : adverse drug events\n",
    "\n",
    "**Relation Extraction types:**\n",
    "\n",
    "`re_clinical` >> TrIP (improved), TrWP (worsened), TrCP (caused problem), TrAP (administered), TrNAP (avoided), TeRP (revealed problem), TeCP (investigate problem), PIP (problems related)\n",
    "\n",
    "`re_temporal_events_clinical` >> `AFTER`, `BEFORE`, `OVERLAP`\n",
    "\n",
    "**5. explain_clinical_doc_medication:**\n",
    "\n",
    "> A pipeline for detecting posology entities with the `ner_posology_large` NER model, assigning their assertion status with `assertion_jsl` model, and extracting relations between posology-related terminology with `posology_re` relation extraction model.\n",
    "\n",
    "\n",
    "**6. explain_clinical_doc_radiology**\n",
    "\n",
    "> A pipeline for detecting radiology entities with the `ner_radiology` NER model, assigning their assertion status with `assertion_dl_radiology` model, and extracting relations between the diagnosis, test, and findings with `re_test_problem_finding` relation extraction model.\n",
    "\n",
    "**7. Clinical Deidentification** :\n",
    "\n",
    ">This pipeline can be used to deidentify PHI information from medical texts. The PHI information will be masked and obfuscated in the resulting text. The pipeline can mask and obfuscate `AGE`, `CONTACT`, `DATE`, `ID`, `LOCATION`, `NAME`, `PROFESSION`, `CITY`, `COUNTRY`, `DOCTOR`, `HOSPITAL`, `IDNUM`, `MEDICALRECORD`, `ORGANIZATION`, `PATIENT`, `PHONE`, `PROFESSION`, `STREET`, `USERNAME`, `ZIP`, `ACCOUNT`, `LICENSE`, `VIN`, `SSN`, `DLN`, `PLATE`, `IPADDR` entities.\n",
    "\n",
    "**8.   explain_clinical_doc_generic** :\n",
    "\n",
    "> A pipeline with `ner_clinical`, `assertion_dl` and `re_clinical`. It will extract clinical and medication entities, assign assertion status and find relationships between clinical entities.\n",
    "\n",
    "- Clinical Entity Labels: `PROBLEM`, `TEST`, `TREATMENT`\n",
    "\n",
    "- Assertion Status Labels: `Present`, `Absent`, `Possible`, `Planned`, `Past`, `Family`, `Hypotetical`, `SomeoneElse`\n",
    "\n",
    "- Relation Extraction Labels: `TrAP`, `TeRP`, `TrIP`, `TrWP`, `TrCP`, `TrAP`, `TrNAP`, `TeCP`, `PIP`\n",
    "\n",
    "**9.   explain_clinical_doc_oncology** :\n",
    "\n",
    "> Pipelines includes Named-Entity Recognition, Assertion Status and Relation Extraction models to extract information from oncology texts.\n",
    "\n",
    "\n",
    "**10.   explain_clinical_doc_vop** :\n",
    "\n",
    "> Pipelines includes Named-Entity Recognition, Assertion Status, Relation Extraction and Entity Resolution models to extract information from clinical texts.\n",
    "\n",
    "**11. NER Pipelines:**\n",
    "\n",
    "> Pipelines for all the available pretrained NER models.\n",
    "\n",
    "**12. BERT Based NER Pipelines**\n",
    "\n",
    "> Pipelines for all the available Bert token classification models.\n",
    "\n",
    "**13. ner_profiling_clinical and ner_profiling_biobert:**\n",
    "\n",
    "> Pipelines for exploring all the available pretrained NER models at once.\n",
    "\n",
    "**14. ner_model_finder**\n",
    "\n",
    "> A pipeline trained with bert embeddings that can be used to find the most appropriate NER model given the entity name.\n",
    "\n",
    "**15. Resolver Pipelines**\n",
    "\n",
    "> Pipelines for converting clinical entities to their UMLS CUI codes and medication entities to their ADE, Action, Treatment, UMLS, RxNorm, ICD9, SNOMED and NDC codes.\n",
    "\n",
    "**16. Oncology Pipelines**\n",
    "\n",
    "> Pipelines includes Named-Entity Recognition, Assertion Status, Relation Extraction and Entity Resolution models to extract information from oncology texts.\n",
    "\n",
    "\n",
    "**Also, you can find clinical CODE MAPPING pretrained pipelines in this notebook: [Healthcare Code Mapping Notebook](https://colab.research.google.com/github/JohnSnowLabs/spark-nlp-workshop/blob/master/tutorials/Certification_Trainings_JSL/Healthcare/11.1.Healthcare_Code_Mapping.ipynb)**\n",
    "\n",
    "\n"
   ]
  },
  {
   "cell_type": "markdown",
   "metadata": {
    "application/vnd.databricks.v1+cell": {
     "cellMetadata": {},
     "inputWidgets": {},
     "nuid": "5cefa43d-3957-46a5-9e98-37786a654c1f",
     "showTitle": false,
     "title": ""
    },
    "id": "_ehsryw_e4Ba"
   },
   "source": [
    "\n",
    "## Task Based Pretrained Pipelines\n",
    "\n",
    "\n",
    "|index|pipeline|index|pipeline|\n",
    "|-----:|:-----|-----:|:-----|\n",
    "| 1| [explain_clinical_doc_generic](https://nlp.johnsnowlabs.com/2024/01/17/explain_clinical_doc_generic_en.html)  | 2| [explain_clinical_doc_granular](https://nlp.johnsnowlabs.com/2024/01/26/explain_clinical_doc_granular_en.html)  |\n",
    "|3| [clinical_deidentification](https://nlp.johnsnowlabs.com/2024/01/10/clinical_deidentification_en.html)  | 4| [explain_clinical_doc_oncology](https://nlp.johnsnowlabs.com/2024/01/18/explain_clinical_doc_oncology_en.html)  |\n",
    "| 5| [explain_clinical_doc_radiology](https://nlp.johnsnowlabs.com/2024/01/18/explain_clinical_doc_radiology_en.html)  | 6| [explain_clinical_doc_vop](https://nlp.johnsnowlabs.com/2024/01/16/explain_clinical_doc_vop_en.html)\n",
    "| 7| [explain_clinical_doc_carp](https://nlp.johnsnowlabs.com/2023/06/17/explain_clinical_doc_carp_en.html)  | 8| [explain_clinical_doc_era](https://nlp.johnsnowlabs.com/2023/06/17/explain_clinical_doc_era_en.html)  |\n",
    "| 9| [explain_clinical_doc_ade](https://nlp.johnsnowlabs.com/2023/06/17/explain_clinical_doc_ade_en.html)| 10| [explain_clinical_doc_medication](https://nlp.johnsnowlabs.com/2023/06/17/explain_clinical_doc_medication_en.html)|\n",
    "\n",
    "\n"
   ]
  },
  {
   "cell_type": "markdown",
   "metadata": {
    "application/vnd.databricks.v1+cell": {
     "cellMetadata": {},
     "inputWidgets": {},
     "nuid": "bc37b8bf-1c9a-4fd0-8ca4-080d8062be42",
     "showTitle": false,
     "title": ""
    },
    "id": "YztSM-3--HvO"
   },
   "source": [
    "### explain_clinical_doc_granular\n",
    "\n",
    "A pipeline with ner_jsl, assertion_jsl and re_test_result_date. It will extract clinical and medication entities, assign assertion status and find relationships between clinical entities.\n",
    "\n",
    "- Clinical Entity Labels: `Admission_Discharge`, `Age`, `Alcohol`, `Allergen`, `BMI`, `Birth_Entity`, `Blood_Pressure`, `Cerebrovascular_Disease`, `Clinical_Dept`, `Communicable_Disease`, `Date`, `Death_Entity`, `Diabetes`, `Diet`, `Direction`, `Disease_Syndrome_Disorder`, `Dosage`, `Drug_BrandName`, `Drug_Ingredient`, `Duration`, `EKG_Findings`, `Employment`, `External_body_part_or_region`, `Family_History_Header`, `Fetus_NewBorn`, `Form`, `Frequency`, `Gender`, `HDL`, `Heart_Disease`, `Height`, `Hyperlipidemia`, `Hypertension`, `ImagingFindings`, `Imaging_Technique`, `Injury_or_Poisoning`, `Internal_organ_or_component`, `Kidney_Disease`, `LDL`, `Labour_Delivery`, `Medical_Device`, `Medical_History_Header`, `Modifier`, `O2_Saturation`, `Obesity`, `Oncological`, `Overweight`, `Oxygen_Therapy`, `Pregnancy`, `Procedure`, `Psychological_Condition`, `Pulse`, `Race_Ethnicity`, `Relationship_Status`, `RelativeDate`, `RelativeTime`, `Respiration`, `Route`, `Section_Header`, `Sexually_Active_or_Sexual_Orientation`, `Smoking`, `Social_History_Header`, `Strength`, `Substance`, `Substance_Quantity`, `Symptom`, `Temperature`, `Test`, `Test_Result`, `Time`, `Total_Cholesterol`, `Treatment`, `Triglycerides`, `VS_Finding`, `Vaccine`, `Vaccine_Name`, `Vital_Signs_Header`, `Weight`\n",
    "\n",
    "- Assertion Status Labels: `Hypothetical`, `Someoneelse`, `Past`, `Absent`, `Family`, `Planned`, `Possible`, `Present`\n",
    "\n",
    "- Relation Extraction Labels: `is_finding_of`, `is_date_of`, `is_result_of`, `O`\n"
   ]
  },
  {
   "cell_type": "code",
   "execution_count": 0,
   "metadata": {
    "application/vnd.databricks.v1+cell": {
     "cellMetadata": {
      "byteLimit": 2048000,
      "rowLimit": 10000
     },
     "inputWidgets": {},
     "nuid": "b0b0bf84-ab42-4d4d-afc8-662fd248ea45",
     "showTitle": false,
     "title": ""
    },
    "id": "voikNnVm-WUd"
   },
   "outputs": [],
   "source": [
    "from sparknlp.pretrained import PretrainedPipeline"
   ]
  },
  {
   "cell_type": "code",
   "execution_count": 0,
   "metadata": {
    "application/vnd.databricks.v1+cell": {
     "cellMetadata": {
      "byteLimit": 2048000,
      "rowLimit": 10000
     },
     "inputWidgets": {},
     "nuid": "2d3202bf-7364-4aee-85d1-ef2c7927b9d2",
     "showTitle": false,
     "title": ""
    },
    "colab": {
     "base_uri": "https://localhost:8080/"
    },
    "executionInfo": {
     "elapsed": 177890,
     "status": "ok",
     "timestamp": 1708007936490,
     "user": {
      "displayName": "Akar Öztürk",
      "userId": "07602883577262601067"
     },
     "user_tz": -60
    },
    "id": "lcH_0WLE-WP5",
    "outputId": "855b9ba4-0dc4-4792-de76-486013e84e90"
   },
   "outputs": [
    {
     "output_type": "stream",
     "name": "stdout",
     "output_type": "stream",
     "text": [
      "explain_clinical_doc_granular download started this may take some time.\nApprox size to download 1.6 GB\n\r[ | ]\r[ / ]\r[ — ]\r[ \\ ]\r[ | ]\r[ / ]\r[ — ]\r[ \\ ]\r[ | ]\r[ / ]\r[ — ]\r[ \\ ]\r[ | ]\r[ / ]\r[ — ]\r[ \\ ]\r[ | ]\r[ / ]\r[ — ]\r[ \\ ]\r[ | ]\r[OK!]\n"
     ]
    }
   ],
   "source": [
    "pipeline = nlp.PretrainedPipeline(\"explain_clinical_doc_granular\", \"en\", \"clinical/models\")"
   ]
  },
  {
   "cell_type": "code",
   "execution_count": 0,
   "metadata": {
    "application/vnd.databricks.v1+cell": {
     "cellMetadata": {
      "byteLimit": 2048000,
      "rowLimit": 10000
     },
     "inputWidgets": {},
     "nuid": "e3187f1d-d569-459c-b7f4-974aebbea816",
     "showTitle": false,
     "title": ""
    },
    "colab": {
     "base_uri": "https://localhost:8080/"
    },
    "executionInfo": {
     "elapsed": 438,
     "status": "ok",
     "timestamp": 1708008062534,
     "user": {
      "displayName": "Akar Öztürk",
      "userId": "07602883577262601067"
     },
     "user_tz": -60
    },
    "id": "thweETgu-WHw",
    "outputId": "ff7c89ef-077a-4927-bd2c-04de3cfbc575"
   },
   "outputs": [
    {
     "output_type": "stream",
     "name": "stdout",
     "output_type": "stream",
     "text": [
      "Out[7]: [DocumentAssembler_f9af801e11c6,\n SentenceDetectorDLModel_6bafc4746ea5,\n REGEX_TOKENIZER_51b08a0eb554,\n WORD_EMBEDDINGS_MODEL_9004b1d00302,\n MedicalNerModel_c89cbceb1028,\n NER_CONVERTER_e36b90b9773a,\n NER_CONVERTER_e3aa2840eea8,\n ASSERTION_DL_e5e007602386,\n POS_6f55785005bf,\n dependency_e7755462ba78,\n RelationExtractionModel_ce79d77d1bf1]"
     ]
    }
   ],
   "source": [
    "pipeline.model.stages"
   ]
  },
  {
   "cell_type": "code",
   "execution_count": 0,
   "metadata": {
    "application/vnd.databricks.v1+cell": {
     "cellMetadata": {},
     "inputWidgets": {},
     "nuid": "6f77675f-9810-4543-bb69-2f0151e9b32e",
     "showTitle": false,
     "title": ""
    },
    "id": "d9eRK3IKUurq"
   },
   "outputs": [],
   "source": [
    "# Load pretrained pipeline from local disk:\n",
    "\n",
    "# >> pipeline_local = PretrainedPipeline.from_disk('/root/cache_pretrained/explain_clinical_doc_granular_en_5.2.1_3.4_1706289187844')"
   ]
  },
  {
   "cell_type": "markdown",
   "metadata": {
    "application/vnd.databricks.v1+cell": {
     "cellMetadata": {},
     "inputWidgets": {},
     "nuid": "4f5d1d4e-a3a3-4f24-9ca2-ac857f264bd1",
     "showTitle": false,
     "title": ""
    },
    "id": "8vjeka3-NGRW"
   },
   "source": [
    "#### with fullAnnotate()"
   ]
  },
  {
   "cell_type": "code",
   "execution_count": 0,
   "metadata": {
    "application/vnd.databricks.v1+cell": {
     "cellMetadata": {
      "byteLimit": 2048000,
      "rowLimit": 10000
     },
     "inputWidgets": {},
     "nuid": "2afbd8d3-76ae-480d-9a9f-d403ac7a8e33",
     "showTitle": false,
     "title": ""
    },
    "id": "1kCZx5j5_gvQ"
   },
   "outputs": [],
   "source": [
    "result = pipeline.fullAnnotate(\"\"\"The patient admitted for gastrointestinal pathology, under working treatment.\n",
    "History of prior heart murmur with echocardiogram findings as above on March 1998.\n",
    "According to the latest echocardiogram, basically revealed normal left ventricular function with left atrial enlargement .\n",
    "Based on the above findings, we will treat her medically with ACE inhibitors and diuretics and see how she fares.\"\"\")"
   ]
  },
  {
   "cell_type": "code",
   "execution_count": 0,
   "metadata": {
    "application/vnd.databricks.v1+cell": {
     "cellMetadata": {
      "byteLimit": 2048000,
      "rowLimit": 10000
     },
     "inputWidgets": {},
     "nuid": "de800df4-055d-467c-bc62-a214fbcdc79b",
     "showTitle": false,
     "title": ""
    },
    "colab": {
     "base_uri": "https://localhost:8080/"
    },
    "executionInfo": {
     "elapsed": 838,
     "status": "ok",
     "timestamp": 1708008113375,
     "user": {
      "displayName": "Akar Öztürk",
      "userId": "07602883577262601067"
     },
     "user_tz": -60
    },
    "id": "qWx_2QKn-V7H",
    "outputId": "08f6c357-1f4b-4420-ebd9-26b844cbe810"
   },
   "outputs": [
    {
     "output_type": "stream",
     "name": "stdout",
     "output_type": "stream",
     "text": [
      "Out[9]: dict_keys(['assertion_ner_chunk', 'document', 'jsl_ner_chunk', 'assertion', 'jsl_ner', 'token', 'relations', 'embeddings', 'pos_tags', 'dependencies', 'sentence'])"
     ]
    }
   ],
   "source": [
    "result[0].keys()"
   ]
  },
  {
   "cell_type": "markdown",
   "metadata": {
    "application/vnd.databricks.v1+cell": {
     "cellMetadata": {},
     "inputWidgets": {},
     "nuid": "5870455d-0814-46c9-8a66-e41dc01afe6d",
     "showTitle": false,
     "title": ""
    },
    "id": "sBFZUKqSWG8z"
   },
   "source": [
    "**NER Results**"
   ]
  },
  {
   "cell_type": "code",
   "execution_count": 0,
   "metadata": {
    "application/vnd.databricks.v1+cell": {
     "cellMetadata": {
      "byteLimit": 2048000,
      "rowLimit": 10000
     },
     "inputWidgets": {},
     "nuid": "51b2b181-9f42-48aa-bbf7-f1e8ab7d55eb",
     "showTitle": false,
     "title": ""
    },
    "colab": {
     "base_uri": "https://localhost:8080/",
     "height": 457
    },
    "executionInfo": {
     "elapsed": 1551,
     "status": "ok",
     "timestamp": 1708008118630,
     "user": {
      "displayName": "Akar Öztürk",
      "userId": "07602883577262601067"
     },
     "user_tz": -60
    },
    "id": "QbxzGzPN_xAM",
    "outputId": "37e680d5-e233-4f42-bc7c-8aa99156058c"
   },
   "outputs": [
    {
     "output_type": "display_data",
     "data": {
      "text/html": [
       "<div>\n",
       "<style scoped>\n",
       "    .dataframe tbody tr th:only-of-type {\n",
       "        vertical-align: middle;\n",
       "    }\n",
       "\n",
       "    .dataframe tbody tr th {\n",
       "        vertical-align: top;\n",
       "    }\n",
       "\n",
       "    .dataframe thead th {\n",
       "        text-align: right;\n",
       "    }\n",
       "</style>\n",
       "<table border=\"1\" class=\"dataframe\">\n",
       "  <thead>\n",
       "    <tr style=\"text-align: right;\">\n",
       "      <th></th>\n",
       "      <th>chunks</th>\n",
       "      <th>begin</th>\n",
       "      <th>end</th>\n",
       "      <th>entities</th>\n",
       "    </tr>\n",
       "  </thead>\n",
       "  <tbody>\n",
       "    <tr>\n",
       "      <th>0</th>\n",
       "      <td>admitted</td>\n",
       "      <td>12</td>\n",
       "      <td>19</td>\n",
       "      <td>Admission_Discharge</td>\n",
       "    </tr>\n",
       "    <tr>\n",
       "      <th>1</th>\n",
       "      <td>gastrointestinal pathology</td>\n",
       "      <td>25</td>\n",
       "      <td>50</td>\n",
       "      <td>Clinical_Dept</td>\n",
       "    </tr>\n",
       "    <tr>\n",
       "      <th>2</th>\n",
       "      <td>heart murmur</td>\n",
       "      <td>95</td>\n",
       "      <td>106</td>\n",
       "      <td>Heart_Disease</td>\n",
       "    </tr>\n",
       "    <tr>\n",
       "      <th>3</th>\n",
       "      <td>echocardiogram</td>\n",
       "      <td>113</td>\n",
       "      <td>126</td>\n",
       "      <td>Test</td>\n",
       "    </tr>\n",
       "    <tr>\n",
       "      <th>4</th>\n",
       "      <td>March 1998</td>\n",
       "      <td>149</td>\n",
       "      <td>158</td>\n",
       "      <td>Date</td>\n",
       "    </tr>\n",
       "    <tr>\n",
       "      <th>5</th>\n",
       "      <td>echocardiogram</td>\n",
       "      <td>185</td>\n",
       "      <td>198</td>\n",
       "      <td>Test</td>\n",
       "    </tr>\n",
       "    <tr>\n",
       "      <th>6</th>\n",
       "      <td>normal</td>\n",
       "      <td>220</td>\n",
       "      <td>225</td>\n",
       "      <td>Test_Result</td>\n",
       "    </tr>\n",
       "    <tr>\n",
       "      <th>7</th>\n",
       "      <td>left ventricular function</td>\n",
       "      <td>227</td>\n",
       "      <td>251</td>\n",
       "      <td>Test</td>\n",
       "    </tr>\n",
       "    <tr>\n",
       "      <th>8</th>\n",
       "      <td>left atrial enlargement</td>\n",
       "      <td>258</td>\n",
       "      <td>280</td>\n",
       "      <td>Heart_Disease</td>\n",
       "    </tr>\n",
       "    <tr>\n",
       "      <th>9</th>\n",
       "      <td>her</td>\n",
       "      <td>327</td>\n",
       "      <td>329</td>\n",
       "      <td>Gender</td>\n",
       "    </tr>\n",
       "    <tr>\n",
       "      <th>10</th>\n",
       "      <td>ACE inhibitors</td>\n",
       "      <td>346</td>\n",
       "      <td>359</td>\n",
       "      <td>Drug_Ingredient</td>\n",
       "    </tr>\n",
       "    <tr>\n",
       "      <th>11</th>\n",
       "      <td>diuretics</td>\n",
       "      <td>365</td>\n",
       "      <td>373</td>\n",
       "      <td>Drug_Ingredient</td>\n",
       "    </tr>\n",
       "    <tr>\n",
       "      <th>12</th>\n",
       "      <td>she</td>\n",
       "      <td>387</td>\n",
       "      <td>389</td>\n",
       "      <td>Gender</td>\n",
       "    </tr>\n",
       "  </tbody>\n",
       "</table>\n",
       "</div>"
      ]
     },
     "metadata": {
      "application/vnd.databricks.v1+output": {
       "addedWidgets": {},
       "arguments": {},
       "data": "<div>\n<style scoped>\n    .dataframe tbody tr th:only-of-type {\n        vertical-align: middle;\n    }\n\n    .dataframe tbody tr th {\n        vertical-align: top;\n    }\n\n    .dataframe thead th {\n        text-align: right;\n    }\n</style>\n<table border=\"1\" class=\"dataframe\">\n  <thead>\n    <tr style=\"text-align: right;\">\n      <th></th>\n      <th>chunks</th>\n      <th>begin</th>\n      <th>end</th>\n      <th>entities</th>\n    </tr>\n  </thead>\n  <tbody>\n    <tr>\n      <th>0</th>\n      <td>admitted</td>\n      <td>12</td>\n      <td>19</td>\n      <td>Admission_Discharge</td>\n    </tr>\n    <tr>\n      <th>1</th>\n      <td>gastrointestinal pathology</td>\n      <td>25</td>\n      <td>50</td>\n      <td>Clinical_Dept</td>\n    </tr>\n    <tr>\n      <th>2</th>\n      <td>heart murmur</td>\n      <td>95</td>\n      <td>106</td>\n      <td>Heart_Disease</td>\n    </tr>\n    <tr>\n      <th>3</th>\n      <td>echocardiogram</td>\n      <td>113</td>\n      <td>126</td>\n      <td>Test</td>\n    </tr>\n    <tr>\n      <th>4</th>\n      <td>March 1998</td>\n      <td>149</td>\n      <td>158</td>\n      <td>Date</td>\n    </tr>\n    <tr>\n      <th>5</th>\n      <td>echocardiogram</td>\n      <td>185</td>\n      <td>198</td>\n      <td>Test</td>\n    </tr>\n    <tr>\n      <th>6</th>\n      <td>normal</td>\n      <td>220</td>\n      <td>225</td>\n      <td>Test_Result</td>\n    </tr>\n    <tr>\n      <th>7</th>\n      <td>left ventricular function</td>\n      <td>227</td>\n      <td>251</td>\n      <td>Test</td>\n    </tr>\n    <tr>\n      <th>8</th>\n      <td>left atrial enlargement</td>\n      <td>258</td>\n      <td>280</td>\n      <td>Heart_Disease</td>\n    </tr>\n    <tr>\n      <th>9</th>\n      <td>her</td>\n      <td>327</td>\n      <td>329</td>\n      <td>Gender</td>\n    </tr>\n    <tr>\n      <th>10</th>\n      <td>ACE inhibitors</td>\n      <td>346</td>\n      <td>359</td>\n      <td>Drug_Ingredient</td>\n    </tr>\n    <tr>\n      <th>11</th>\n      <td>diuretics</td>\n      <td>365</td>\n      <td>373</td>\n      <td>Drug_Ingredient</td>\n    </tr>\n    <tr>\n      <th>12</th>\n      <td>she</td>\n      <td>387</td>\n      <td>389</td>\n      <td>Gender</td>\n    </tr>\n  </tbody>\n</table>\n</div>",
       "datasetInfos": [],
       "metadata": {},
       "removedWidgets": [],
       "textData": null,
       "type": "htmlSandbox"
      }
     },
     "output_type": "display_data"
    }
   ],
   "source": [
    "import pandas as pd\n",
    "chunks=[]\n",
    "entities=[]\n",
    "begins=[]\n",
    "ends=[]\n",
    "\n",
    "for n in result[0]['jsl_ner_chunk']:\n",
    "\n",
    "    chunks.append(n.result)\n",
    "    begins.append(n.begin)\n",
    "    ends.append(n.end)\n",
    "    entities.append(n.metadata['entity'])\n",
    "\n",
    "df = pd.DataFrame({'chunks':chunks, 'begin':begins, 'end':ends, 'entities':entities})\n",
    "\n",
    "df"
   ]
  },
  {
   "cell_type": "markdown",
   "metadata": {
    "application/vnd.databricks.v1+cell": {
     "cellMetadata": {},
     "inputWidgets": {},
     "nuid": "40051d6b-a870-4c70-b875-ec3ce2c4557d",
     "showTitle": false,
     "title": ""
    },
    "id": "I5XcU3RjXCzG"
   },
   "source": [
    "**Assertion Status Results**"
   ]
  },
  {
   "cell_type": "code",
   "execution_count": 0,
   "metadata": {
    "application/vnd.databricks.v1+cell": {
     "cellMetadata": {
      "byteLimit": 2048000,
      "rowLimit": 10000
     },
     "inputWidgets": {},
     "nuid": "5bf745c1-f116-4d24-b662-af2a78727fd2",
     "showTitle": false,
     "title": ""
    },
    "colab": {
     "base_uri": "https://localhost:8080/",
     "height": 300
    },
    "executionInfo": {
     "elapsed": 389,
     "status": "ok",
     "timestamp": 1708008122673,
     "user": {
      "displayName": "Akar Öztürk",
      "userId": "07602883577262601067"
     },
     "user_tz": -60
    },
    "id": "SPTQC9od_w2E",
    "outputId": "e39a64b1-2590-4450-8cca-779f7a98178e"
   },
   "outputs": [
    {
     "output_type": "display_data",
     "data": {
      "text/html": [
       "<div>\n",
       "<style scoped>\n",
       "    .dataframe tbody tr th:only-of-type {\n",
       "        vertical-align: middle;\n",
       "    }\n",
       "\n",
       "    .dataframe tbody tr th {\n",
       "        vertical-align: top;\n",
       "    }\n",
       "\n",
       "    .dataframe thead th {\n",
       "        text-align: right;\n",
       "    }\n",
       "</style>\n",
       "<table border=\"1\" class=\"dataframe\">\n",
       "  <thead>\n",
       "    <tr style=\"text-align: right;\">\n",
       "      <th></th>\n",
       "      <th>chunks</th>\n",
       "      <th>entities</th>\n",
       "      <th>assertion</th>\n",
       "    </tr>\n",
       "  </thead>\n",
       "  <tbody>\n",
       "    <tr>\n",
       "      <th>0</th>\n",
       "      <td>heart murmur</td>\n",
       "      <td>Heart_Disease</td>\n",
       "      <td>Past</td>\n",
       "    </tr>\n",
       "    <tr>\n",
       "      <th>1</th>\n",
       "      <td>echocardiogram</td>\n",
       "      <td>Test</td>\n",
       "      <td>Past</td>\n",
       "    </tr>\n",
       "    <tr>\n",
       "      <th>2</th>\n",
       "      <td>echocardiogram</td>\n",
       "      <td>Test</td>\n",
       "      <td>Present</td>\n",
       "    </tr>\n",
       "    <tr>\n",
       "      <th>3</th>\n",
       "      <td>normal</td>\n",
       "      <td>Test_Result</td>\n",
       "      <td>Present</td>\n",
       "    </tr>\n",
       "    <tr>\n",
       "      <th>4</th>\n",
       "      <td>left ventricular function</td>\n",
       "      <td>Test</td>\n",
       "      <td>Present</td>\n",
       "    </tr>\n",
       "    <tr>\n",
       "      <th>5</th>\n",
       "      <td>left atrial enlargement</td>\n",
       "      <td>Heart_Disease</td>\n",
       "      <td>Present</td>\n",
       "    </tr>\n",
       "    <tr>\n",
       "      <th>6</th>\n",
       "      <td>ACE inhibitors</td>\n",
       "      <td>Drug_Ingredient</td>\n",
       "      <td>Planned</td>\n",
       "    </tr>\n",
       "    <tr>\n",
       "      <th>7</th>\n",
       "      <td>diuretics</td>\n",
       "      <td>Drug_Ingredient</td>\n",
       "      <td>Planned</td>\n",
       "    </tr>\n",
       "  </tbody>\n",
       "</table>\n",
       "</div>"
      ]
     },
     "metadata": {
      "application/vnd.databricks.v1+output": {
       "addedWidgets": {},
       "arguments": {},
       "data": "<div>\n<style scoped>\n    .dataframe tbody tr th:only-of-type {\n        vertical-align: middle;\n    }\n\n    .dataframe tbody tr th {\n        vertical-align: top;\n    }\n\n    .dataframe thead th {\n        text-align: right;\n    }\n</style>\n<table border=\"1\" class=\"dataframe\">\n  <thead>\n    <tr style=\"text-align: right;\">\n      <th></th>\n      <th>chunks</th>\n      <th>entities</th>\n      <th>assertion</th>\n    </tr>\n  </thead>\n  <tbody>\n    <tr>\n      <th>0</th>\n      <td>heart murmur</td>\n      <td>Heart_Disease</td>\n      <td>Past</td>\n    </tr>\n    <tr>\n      <th>1</th>\n      <td>echocardiogram</td>\n      <td>Test</td>\n      <td>Past</td>\n    </tr>\n    <tr>\n      <th>2</th>\n      <td>echocardiogram</td>\n      <td>Test</td>\n      <td>Present</td>\n    </tr>\n    <tr>\n      <th>3</th>\n      <td>normal</td>\n      <td>Test_Result</td>\n      <td>Present</td>\n    </tr>\n    <tr>\n      <th>4</th>\n      <td>left ventricular function</td>\n      <td>Test</td>\n      <td>Present</td>\n    </tr>\n    <tr>\n      <th>5</th>\n      <td>left atrial enlargement</td>\n      <td>Heart_Disease</td>\n      <td>Present</td>\n    </tr>\n    <tr>\n      <th>6</th>\n      <td>ACE inhibitors</td>\n      <td>Drug_Ingredient</td>\n      <td>Planned</td>\n    </tr>\n    <tr>\n      <th>7</th>\n      <td>diuretics</td>\n      <td>Drug_Ingredient</td>\n      <td>Planned</td>\n    </tr>\n  </tbody>\n</table>\n</div>",
       "datasetInfos": [],
       "metadata": {},
       "removedWidgets": [],
       "textData": null,
       "type": "htmlSandbox"
      }
     },
     "output_type": "display_data"
    }
   ],
   "source": [
    "chunks=[]\n",
    "entities=[]\n",
    "status=[]\n",
    "\n",
    "for n,m in zip(result[0]['assertion_ner_chunk'],result[0]['assertion']):\n",
    "\n",
    "    chunks.append(n.result)\n",
    "    entities.append(n.metadata['entity'])\n",
    "    status.append(m.result)\n",
    "\n",
    "df = pd.DataFrame({'chunks':chunks, 'entities':entities, 'assertion':status})\n",
    "\n",
    "df"
   ]
  },
  {
   "cell_type": "markdown",
   "metadata": {
    "application/vnd.databricks.v1+cell": {
     "cellMetadata": {},
     "inputWidgets": {},
     "nuid": "2a5caba1-2bf3-4497-8c4e-1d5ce3486817",
     "showTitle": false,
     "title": ""
    },
    "id": "KA6RxzLHXJjs"
   },
   "source": [
    "**Relation Extraction Results**"
   ]
  },
  {
   "cell_type": "code",
   "execution_count": 0,
   "metadata": {
    "application/vnd.databricks.v1+cell": {
     "cellMetadata": {
      "byteLimit": 2048000,
      "rowLimit": 10000
     },
     "inputWidgets": {},
     "nuid": "1edf2525-2da4-4ffc-842c-2c98e97e986f",
     "showTitle": false,
     "title": ""
    },
    "colab": {
     "base_uri": "https://localhost:8080/",
     "height": 309
    },
    "executionInfo": {
     "elapsed": 6,
     "status": "ok",
     "timestamp": 1708008126428,
     "user": {
      "displayName": "Akar Öztürk",
      "userId": "07602883577262601067"
     },
     "user_tz": -60
    },
    "id": "-E2jbesG_wzJ",
    "outputId": "afefd652-9e60-4d5b-ebdc-8904ff9f991a"
   },
   "outputs": [
    {
     "output_type": "display_data",
     "data": {
      "text/html": [
       "<div>\n",
       "<style scoped>\n",
       "    .dataframe tbody tr th:only-of-type {\n",
       "        vertical-align: middle;\n",
       "    }\n",
       "\n",
       "    .dataframe tbody tr th {\n",
       "        vertical-align: top;\n",
       "    }\n",
       "\n",
       "    .dataframe thead th {\n",
       "        text-align: right;\n",
       "    }\n",
       "</style>\n",
       "<table border=\"1\" class=\"dataframe\">\n",
       "  <thead>\n",
       "    <tr style=\"text-align: right;\">\n",
       "      <th></th>\n",
       "      <th>relation</th>\n",
       "      <th>entity1</th>\n",
       "      <th>entity1_begin</th>\n",
       "      <th>entity1_end</th>\n",
       "      <th>chunk1</th>\n",
       "      <th>entity2</th>\n",
       "      <th>entity2_begin</th>\n",
       "      <th>entity2_end</th>\n",
       "      <th>chunk2</th>\n",
       "      <th>confidence</th>\n",
       "    </tr>\n",
       "  </thead>\n",
       "  <tbody>\n",
       "    <tr>\n",
       "      <th>0</th>\n",
       "      <td>is_finding_of</td>\n",
       "      <td>Heart_Disease</td>\n",
       "      <td>95</td>\n",
       "      <td>106</td>\n",
       "      <td>heart murmur</td>\n",
       "      <td>Test</td>\n",
       "      <td>113</td>\n",
       "      <td>126</td>\n",
       "      <td>echocardiogram</td>\n",
       "      <td>1.0</td>\n",
       "    </tr>\n",
       "    <tr>\n",
       "      <th>1</th>\n",
       "      <td>is_date_of</td>\n",
       "      <td>Heart_Disease</td>\n",
       "      <td>95</td>\n",
       "      <td>106</td>\n",
       "      <td>heart murmur</td>\n",
       "      <td>Date</td>\n",
       "      <td>149</td>\n",
       "      <td>158</td>\n",
       "      <td>March 1998</td>\n",
       "      <td>1.0</td>\n",
       "    </tr>\n",
       "    <tr>\n",
       "      <th>2</th>\n",
       "      <td>is_date_of</td>\n",
       "      <td>Test</td>\n",
       "      <td>113</td>\n",
       "      <td>126</td>\n",
       "      <td>echocardiogram</td>\n",
       "      <td>Date</td>\n",
       "      <td>149</td>\n",
       "      <td>158</td>\n",
       "      <td>March 1998</td>\n",
       "      <td>1.0</td>\n",
       "    </tr>\n",
       "    <tr>\n",
       "      <th>4</th>\n",
       "      <td>is_finding_of</td>\n",
       "      <td>Test</td>\n",
       "      <td>185</td>\n",
       "      <td>198</td>\n",
       "      <td>echocardiogram</td>\n",
       "      <td>Heart_Disease</td>\n",
       "      <td>258</td>\n",
       "      <td>280</td>\n",
       "      <td>left atrial enlargement</td>\n",
       "      <td>1.0</td>\n",
       "    </tr>\n",
       "    <tr>\n",
       "      <th>5</th>\n",
       "      <td>is_result_of</td>\n",
       "      <td>Test_Result</td>\n",
       "      <td>220</td>\n",
       "      <td>225</td>\n",
       "      <td>normal</td>\n",
       "      <td>Test</td>\n",
       "      <td>227</td>\n",
       "      <td>251</td>\n",
       "      <td>left ventricular function</td>\n",
       "      <td>1.0</td>\n",
       "    </tr>\n",
       "    <tr>\n",
       "      <th>6</th>\n",
       "      <td>is_finding_of</td>\n",
       "      <td>Test</td>\n",
       "      <td>227</td>\n",
       "      <td>251</td>\n",
       "      <td>left ventricular function</td>\n",
       "      <td>Heart_Disease</td>\n",
       "      <td>258</td>\n",
       "      <td>280</td>\n",
       "      <td>left atrial enlargement</td>\n",
       "      <td>1.0</td>\n",
       "    </tr>\n",
       "  </tbody>\n",
       "</table>\n",
       "</div>"
      ]
     },
     "metadata": {
      "application/vnd.databricks.v1+output": {
       "addedWidgets": {},
       "arguments": {},
       "data": "<div>\n<style scoped>\n    .dataframe tbody tr th:only-of-type {\n        vertical-align: middle;\n    }\n\n    .dataframe tbody tr th {\n        vertical-align: top;\n    }\n\n    .dataframe thead th {\n        text-align: right;\n    }\n</style>\n<table border=\"1\" class=\"dataframe\">\n  <thead>\n    <tr style=\"text-align: right;\">\n      <th></th>\n      <th>relation</th>\n      <th>entity1</th>\n      <th>entity1_begin</th>\n      <th>entity1_end</th>\n      <th>chunk1</th>\n      <th>entity2</th>\n      <th>entity2_begin</th>\n      <th>entity2_end</th>\n      <th>chunk2</th>\n      <th>confidence</th>\n    </tr>\n  </thead>\n  <tbody>\n    <tr>\n      <th>0</th>\n      <td>is_finding_of</td>\n      <td>Heart_Disease</td>\n      <td>95</td>\n      <td>106</td>\n      <td>heart murmur</td>\n      <td>Test</td>\n      <td>113</td>\n      <td>126</td>\n      <td>echocardiogram</td>\n      <td>1.0</td>\n    </tr>\n    <tr>\n      <th>1</th>\n      <td>is_date_of</td>\n      <td>Heart_Disease</td>\n      <td>95</td>\n      <td>106</td>\n      <td>heart murmur</td>\n      <td>Date</td>\n      <td>149</td>\n      <td>158</td>\n      <td>March 1998</td>\n      <td>1.0</td>\n    </tr>\n    <tr>\n      <th>2</th>\n      <td>is_date_of</td>\n      <td>Test</td>\n      <td>113</td>\n      <td>126</td>\n      <td>echocardiogram</td>\n      <td>Date</td>\n      <td>149</td>\n      <td>158</td>\n      <td>March 1998</td>\n      <td>1.0</td>\n    </tr>\n    <tr>\n      <th>4</th>\n      <td>is_finding_of</td>\n      <td>Test</td>\n      <td>185</td>\n      <td>198</td>\n      <td>echocardiogram</td>\n      <td>Heart_Disease</td>\n      <td>258</td>\n      <td>280</td>\n      <td>left atrial enlargement</td>\n      <td>1.0</td>\n    </tr>\n    <tr>\n      <th>5</th>\n      <td>is_result_of</td>\n      <td>Test_Result</td>\n      <td>220</td>\n      <td>225</td>\n      <td>normal</td>\n      <td>Test</td>\n      <td>227</td>\n      <td>251</td>\n      <td>left ventricular function</td>\n      <td>1.0</td>\n    </tr>\n    <tr>\n      <th>6</th>\n      <td>is_finding_of</td>\n      <td>Test</td>\n      <td>227</td>\n      <td>251</td>\n      <td>left ventricular function</td>\n      <td>Heart_Disease</td>\n      <td>258</td>\n      <td>280</td>\n      <td>left atrial enlargement</td>\n      <td>1.0</td>\n    </tr>\n  </tbody>\n</table>\n</div>",
       "datasetInfos": [],
       "metadata": {},
       "removedWidgets": [],
       "textData": null,
       "type": "htmlSandbox"
      }
     },
     "output_type": "display_data"
    }
   ],
   "source": [
    "rel_pairs=[]\n",
    "for rel in result[0][\"relations\"]:\n",
    "    rel_pairs.append((\n",
    "        rel.result,\n",
    "        rel.metadata['entity1'],\n",
    "        rel.metadata['entity1_begin'],\n",
    "        rel.metadata['entity1_end'],\n",
    "        rel.metadata['chunk1'],\n",
    "        rel.metadata['entity2'],\n",
    "        rel.metadata['entity2_begin'],\n",
    "        rel.metadata['entity2_end'],\n",
    "        rel.metadata['chunk2'],\n",
    "        rel.metadata['confidence']\n",
    "    ))\n",
    "\n",
    "rel_df = pd.DataFrame(rel_pairs, columns=['relation',\n",
    "                                          'entity1',\n",
    "                                          'entity1_begin',\n",
    "                                          'entity1_end',\n",
    "                                          'chunk1',\n",
    "                                          'entity2',\n",
    "                                          'entity2_begin',\n",
    "                                          'entity2_end',\n",
    "                                          'chunk2',\n",
    "                                          'confidence'])\n",
    "\n",
    "rel_df.confidence = rel_df.confidence.astype(float)\n",
    "rel_df[rel_df.relation!=\"O\"]"
   ]
  },
  {
   "cell_type": "markdown",
   "metadata": {
    "application/vnd.databricks.v1+cell": {
     "cellMetadata": {},
     "inputWidgets": {},
     "nuid": "14dabb25-dbd9-48ce-9585-1049b0e513fd",
     "showTitle": false,
     "title": ""
    },
    "id": "gTHrWc5iNXeZ"
   },
   "source": [
    "#### with transform()"
   ]
  },
  {
   "cell_type": "code",
   "execution_count": 0,
   "metadata": {
    "application/vnd.databricks.v1+cell": {
     "cellMetadata": {
      "byteLimit": 2048000,
      "rowLimit": 10000
     },
     "inputWidgets": {},
     "nuid": "89c4d39e-4b7e-4eca-a137-ba55a0288cbe",
     "showTitle": false,
     "title": ""
    },
    "colab": {
     "base_uri": "https://localhost:8080/"
    },
    "executionInfo": {
     "elapsed": 1565,
     "status": "ok",
     "timestamp": 1708008523421,
     "user": {
      "displayName": "Akar Öztürk",
      "userId": "07602883577262601067"
     },
     "user_tz": -60
    },
    "id": "rX13H3SPNYzy",
    "outputId": "d43c09d8-8929-49a4-8e78-8936a48bca3d"
   },
   "outputs": [
    {
     "output_type": "stream",
     "name": "stdout",
     "output_type": "stream",
     "text": [
      "+--------------------+-----+---+-------------------+\n|               chunk|begin|end|          ner_label|\n+--------------------+-----+---+-------------------+\n|            admitted|   13| 20|Admission_Discharge|\n|gastrointestinal ...|   26| 51|      Clinical_Dept|\n|        heart murmur|   96|107|      Heart_Disease|\n|      echocardiogram|  114|127|               Test|\n|          March 1998|  150|159|               Date|\n|      echocardiogram|  186|199|               Test|\n|              normal|  221|226|        Test_Result|\n|left ventricular ...|  228|252|               Test|\n|left atrial enlar...|  259|281|      Heart_Disease|\n|                 her|  328|330|             Gender|\n|      ACE inhibitors|  347|360|    Drug_Ingredient|\n|           diuretics|  366|374|    Drug_Ingredient|\n|                 she|  388|390|             Gender|\n+--------------------+-----+---+-------------------+\n\n"
     ]
    }
   ],
   "source": [
    "data = spark.createDataFrame([[\"\"\"\n",
    "The patient admitted for gastrointestinal pathology, under working treatment.\n",
    "History of prior heart murmur with echocardiogram findings as above on March 1998.\n",
    "According to the latest echocardiogram, basically revealed normal left ventricular function with left atrial enlargement .\n",
    "Based on the above findings, we will treat her medically with ACE inhibitors and diuretics and see how she fares.\n",
    "\"\"\"]]).toDF(\"text\")\n",
    "\n",
    "result = pipeline.transform(data)\n",
    "\n",
    "result.select(F.explode(F.arrays_zip(result.jsl_ner_chunk.result,\n",
    "                                     result.jsl_ner_chunk.begin,\n",
    "                                     result.jsl_ner_chunk.end,\n",
    "                                     result.jsl_ner_chunk.metadata)).alias(\"cols\"))\\\n",
    "        .select(F.expr(\"cols['0']\").alias(\"chunk\"),\n",
    "                F.expr(\"cols['1']\").alias(\"begin\"),\n",
    "                F.expr(\"cols['2']\").alias(\"end\"),\n",
    "                F.expr(\"cols['3']['entity']\").alias(\"ner_label\")).show()"
   ]
  },
  {
   "cell_type": "code",
   "execution_count": 0,
   "metadata": {
    "application/vnd.databricks.v1+cell": {
     "cellMetadata": {
      "byteLimit": 2048000,
      "rowLimit": 10000
     },
     "inputWidgets": {},
     "nuid": "5e85d4fb-f084-4a3e-a6ef-f3cb9383cb9d",
     "showTitle": false,
     "title": ""
    },
    "colab": {
     "base_uri": "https://localhost:8080/"
    },
    "executionInfo": {
     "elapsed": 511,
     "status": "ok",
     "timestamp": 1708008600878,
     "user": {
      "displayName": "Akar Öztürk",
      "userId": "07602883577262601067"
     },
     "user_tz": -60
    },
    "id": "kQTm2emrNY2x",
    "outputId": "ab34fbbd-789e-429c-c739-0782ac8653ee"
   },
   "outputs": [
    {
     "output_type": "stream",
     "name": "stdout",
     "output_type": "stream",
     "text": [
      "+--------------------+-----+---+---------------+-------+\n|               chunk|begin|end|      ner_label| status|\n+--------------------+-----+---+---------------+-------+\n|        heart murmur|   96|107|  Heart_Disease|   Past|\n|      echocardiogram|  114|127|           Test|   Past|\n|      echocardiogram|  186|199|           Test|Present|\n|              normal|  221|226|    Test_Result|Present|\n|left ventricular ...|  228|252|           Test|Present|\n|left atrial enlar...|  259|281|  Heart_Disease|Present|\n|      ACE inhibitors|  347|360|Drug_Ingredient|Planned|\n|           diuretics|  366|374|Drug_Ingredient|Planned|\n+--------------------+-----+---+---------------+-------+\n\n"
     ]
    }
   ],
   "source": [
    "result.select(F.explode(F.arrays_zip(result.assertion_ner_chunk.result,\n",
    "                                     result.assertion_ner_chunk.begin,\n",
    "                                     result.assertion_ner_chunk.end,\n",
    "                                     result.assertion_ner_chunk.metadata,\n",
    "                                     result.assertion.result)).alias(\"cols\"))\\\n",
    "        .select(F.expr(\"cols['0']\").alias(\"chunk\"),\n",
    "                F.expr(\"cols['1']\").alias(\"begin\"),\n",
    "                F.expr(\"cols['2']\").alias(\"end\"),\n",
    "                F.expr(\"cols['3']['entity']\").alias(\"ner_label\"),\n",
    "                F.expr(\"cols['4']\").alias(\"status\")).show()"
   ]
  },
  {
   "cell_type": "code",
   "execution_count": 0,
   "metadata": {
    "application/vnd.databricks.v1+cell": {
     "cellMetadata": {
      "byteLimit": 2048000,
      "rowLimit": 10000
     },
     "inputWidgets": {},
     "nuid": "7b50f5c4-993e-4c6c-90d6-69e60706a72e",
     "showTitle": false,
     "title": ""
    },
    "colab": {
     "base_uri": "https://localhost:8080/"
    },
    "executionInfo": {
     "elapsed": 1427,
     "status": "ok",
     "timestamp": 1708009009674,
     "user": {
      "displayName": "Akar Öztürk",
      "userId": "07602883577262601067"
     },
     "user_tz": -60
    },
    "id": "nNrqqmzuNY5m",
    "outputId": "11986e7c-3d1f-4ec1-a707-3ba977a84621"
   },
   "outputs": [
    {
     "output_type": "stream",
     "name": "stdout",
     "output_type": "stream",
     "text": [
      "+----------------+--------------------+--------+------------+\n|          tokens|             jsl_ner|pos_tags|dependencies|\n+----------------+--------------------+--------+------------+\n|             The|                   O|      DD|    admitted|\n|         patient|                   O|      NN|    admitted|\n|        admitted|B-Admission_Disch...|     VVN|        ROOT|\n|             for|                   O|      II|   pathology|\n|gastrointestinal|     B-Clinical_Dept|      JJ|   pathology|\n|       pathology|     I-Clinical_Dept|      NN|    admitted|\n|               ,|                   O|      NN|    admitted|\n|           under|                   O|      II|   treatment|\n|         working|                   O|    VVGJ|   treatment|\n|       treatment|                   O|      NN|    admitted|\n|               .|                   O|      NN|    admitted|\n|         History|                   O|      NN|        ROOT|\n|              of|                   O|      II|       heart|\n|           prior|                   O|      JJ|       heart|\n|           heart|     B-Heart_Disease|      NN|     History|\n|          murmur|     I-Heart_Disease|     NNS|       heart|\n|            with|                   O|      II|    findings|\n|  echocardiogram|              B-Test|      NN|    findings|\n|        findings|                   O|     NNS|      murmur|\n|              as|                   O|      II|       March|\n+----------------+--------------------+--------+------------+\nonly showing top 20 rows\n\n"
     ]
    }
   ],
   "source": [
    "result.select(F.explode(F.arrays_zip(result.token.result,\n",
    "                                     result.jsl_ner.result,\n",
    "                                     result.pos_tags.result,\n",
    "                                     result.dependencies.result)).alias(\"cols\"))\\\n",
    "        .select(F.expr(\"cols['0']\").alias(\"tokens\"),\n",
    "                F.expr(\"cols['1']\").alias(\"jsl_ner\"),\n",
    "                F.expr(\"cols['2']\").alias(\"pos_tags\"),\n",
    "                F.expr(\"cols['3']\").alias(\"dependencies\")).show()"
   ]
  },
  {
   "cell_type": "markdown",
   "metadata": {
    "application/vnd.databricks.v1+cell": {
     "cellMetadata": {},
     "inputWidgets": {},
     "nuid": "852015ea-1748-4604-aece-8e10b189704b",
     "showTitle": false,
     "title": ""
    },
    "id": "pK2Tt0ZuRy2B"
   },
   "source": [
    "### explain_clinical_doc_carp\n",
    "\n",
    "A pipeline with ner_clinical, assertion_dl, re_clinical and ner_posology. It will extract clinical and medication entities, assign assertion status and find relationships between clinical entities."
   ]
  },
  {
   "cell_type": "code",
   "execution_count": 0,
   "metadata": {
    "application/vnd.databricks.v1+cell": {
     "cellMetadata": {
      "byteLimit": 2048000,
      "rowLimit": 10000
     },
     "inputWidgets": {},
     "nuid": "9f4e178a-9b8c-42c4-b446-ecbfb1ff99c4",
     "showTitle": false,
     "title": ""
    },
    "colab": {
     "base_uri": "https://localhost:8080/"
    },
    "executionInfo": {
     "elapsed": 172627,
     "status": "ok",
     "timestamp": 1707940408338,
     "user": {
      "displayName": "Akar Öztürk",
      "userId": "07602883577262601067"
     },
     "user_tz": -60
    },
    "id": "4rg3oe37R1wX",
    "outputId": "f56be43b-22ed-48b8-b57a-c3ce304bfede"
   },
   "outputs": [
    {
     "output_type": "stream",
     "name": "stdout",
     "output_type": "stream",
     "text": [
      "explain_clinical_doc_carp download started this may take some time.\nApprox size to download 1.6 GB\n\r[ | ]\r[ / ]\r[ — ]\r[ \\ ]\r[ | ]\r[ / ]\r[ — ]\r[ \\ ]\r[ | ]\r[ / ]\r[ — ]\r[ \\ ]\r[ | ]\r[ / ]\r[ — ]\r[ \\ ]\r[OK!]\n"
     ]
    }
   ],
   "source": [
    "pipeline = nlp.PretrainedPipeline('explain_clinical_doc_carp', 'en', 'clinical/models')"
   ]
  },
  {
   "cell_type": "code",
   "execution_count": 0,
   "metadata": {
    "application/vnd.databricks.v1+cell": {
     "cellMetadata": {
      "byteLimit": 2048000,
      "rowLimit": 10000
     },
     "inputWidgets": {},
     "nuid": "1fda2e7f-df84-457a-b4ae-bcc731d6e576",
     "showTitle": false,
     "title": ""
    },
    "colab": {
     "base_uri": "https://localhost:8080/"
    },
    "executionInfo": {
     "elapsed": 13,
     "status": "ok",
     "timestamp": 1707940408338,
     "user": {
      "displayName": "Akar Öztürk",
      "userId": "07602883577262601067"
     },
     "user_tz": -60
    },
    "id": "V7OaKtxjvA7f",
    "outputId": "b531ee4f-7d53-44b8-cf5a-92414542e6dc"
   },
   "outputs": [
    {
     "output_type": "stream",
     "name": "stdout",
     "output_type": "stream",
     "text": [
      "Out[18]: [DocumentAssembler_9619f8fd837c,\n SentenceDetector_c0b14c755033,\n REGEX_TOKENIZER_7c616f0cb7a5,\n POS_6f55785005bf,\n dependency_d5a8da6c9093,\n WORD_EMBEDDINGS_MODEL_9004b1d00302,\n MedicalNerModel_cd5ce67b529f,\n NER_CONVERTER_2f1dcb61b142,\n MedicalNerModel_4a303d875127,\n NER_CONVERTER_a8cff4d56af8,\n ASSERTION_DL_25881ab6309e,\n RelationExtractionModel_9c255241fec3]"
     ]
    }
   ],
   "source": [
    "pipeline.model.stages"
   ]
  },
  {
   "cell_type": "code",
   "execution_count": 0,
   "metadata": {
    "application/vnd.databricks.v1+cell": {
     "cellMetadata": {
      "byteLimit": 2048000,
      "rowLimit": 10000
     },
     "inputWidgets": {},
     "nuid": "8bba842a-bb27-42fe-b1a9-3fe09abbf068",
     "showTitle": false,
     "title": ""
    },
    "colab": {
     "base_uri": "https://localhost:8080/"
    },
    "executionInfo": {
     "elapsed": 1556,
     "status": "ok",
     "timestamp": 1707940409892,
     "user": {
      "displayName": "Akar Öztürk",
      "userId": "07602883577262601067"
     },
     "user_tz": -60
    },
    "id": "3xmhwW2MVKYa",
    "outputId": "cc03bfc9-346d-4a6b-fc83-58152f78fbe4"
   },
   "outputs": [
    {
     "output_type": "stream",
     "name": "stdout",
     "output_type": "stream",
     "text": [
      "Out[19]: dict_keys(['sentences', 'clinical_ner_tags', 'document', 'clinical_ner_chunks', 'assertion', 'clinical_relations', 'posology_ner_tags', 'tokens', 'posology_ner_chunks', 'embeddings', 'pos_tags', 'dependencies'])"
     ]
    }
   ],
   "source": [
    "text =\"\"\"A 28-year-old female with a history of gestational diabetes mellitus, used to take metformin 1000 mg two times a day, presented with a one-week history of polyuria , polydipsia , poor appetite , and vomiting .\n",
    "She was seen by the endocrinology service and discharged on 40 units of insulin glargine at night, 12 units of insulin lispro with meals.\n",
    "\"\"\"\n",
    "\n",
    "annotations = pipeline.annotate(text)\n",
    "\n",
    "annotations.keys()\n"
   ]
  },
  {
   "cell_type": "code",
   "execution_count": 0,
   "metadata": {
    "application/vnd.databricks.v1+cell": {
     "cellMetadata": {
      "byteLimit": 2048000,
      "rowLimit": 10000
     },
     "inputWidgets": {},
     "nuid": "434fbbf7-8961-42ee-8eb6-2025dee9a9ab",
     "showTitle": false,
     "title": ""
    },
    "colab": {
     "base_uri": "https://localhost:8080/",
     "height": 676
    },
    "executionInfo": {
     "elapsed": 8,
     "status": "ok",
     "timestamp": 1707940409894,
     "user": {
      "displayName": "Akar Öztürk",
      "userId": "07602883577262601067"
     },
     "user_tz": -60
    },
    "id": "X4z-RbyZVvgR",
    "outputId": "5ca0781f-fe44-4262-f4cc-3aa50ea2bcb3"
   },
   "outputs": [
    {
     "output_type": "display_data",
     "data": {
      "text/html": [
       "<div>\n",
       "<style scoped>\n",
       "    .dataframe tbody tr th:only-of-type {\n",
       "        vertical-align: middle;\n",
       "    }\n",
       "\n",
       "    .dataframe tbody tr th {\n",
       "        vertical-align: top;\n",
       "    }\n",
       "\n",
       "    .dataframe thead th {\n",
       "        text-align: right;\n",
       "    }\n",
       "</style>\n",
       "<table border=\"1\" class=\"dataframe\">\n",
       "  <thead>\n",
       "    <tr style=\"text-align: right;\">\n",
       "      <th></th>\n",
       "      <th>tokens</th>\n",
       "      <th>clinical_ner_tags</th>\n",
       "      <th>posology_ner_tags</th>\n",
       "      <th>POS_tags</th>\n",
       "      <th>dependencies</th>\n",
       "    </tr>\n",
       "  </thead>\n",
       "  <tbody>\n",
       "    <tr>\n",
       "      <th>0</th>\n",
       "      <td>A</td>\n",
       "      <td>O</td>\n",
       "      <td>O</td>\n",
       "      <td>DD</td>\n",
       "      <td>female</td>\n",
       "    </tr>\n",
       "    <tr>\n",
       "      <th>1</th>\n",
       "      <td>28-year-old</td>\n",
       "      <td>O</td>\n",
       "      <td>O</td>\n",
       "      <td>NN</td>\n",
       "      <td>female</td>\n",
       "    </tr>\n",
       "    <tr>\n",
       "      <th>2</th>\n",
       "      <td>female</td>\n",
       "      <td>O</td>\n",
       "      <td>O</td>\n",
       "      <td>NN</td>\n",
       "      <td>ROOT</td>\n",
       "    </tr>\n",
       "    <tr>\n",
       "      <th>3</th>\n",
       "      <td>with</td>\n",
       "      <td>O</td>\n",
       "      <td>O</td>\n",
       "      <td>II</td>\n",
       "      <td>history</td>\n",
       "    </tr>\n",
       "    <tr>\n",
       "      <th>4</th>\n",
       "      <td>a</td>\n",
       "      <td>O</td>\n",
       "      <td>O</td>\n",
       "      <td>DD</td>\n",
       "      <td>history</td>\n",
       "    </tr>\n",
       "    <tr>\n",
       "      <th>5</th>\n",
       "      <td>history</td>\n",
       "      <td>O</td>\n",
       "      <td>O</td>\n",
       "      <td>NN</td>\n",
       "      <td>female</td>\n",
       "    </tr>\n",
       "    <tr>\n",
       "      <th>6</th>\n",
       "      <td>of</td>\n",
       "      <td>O</td>\n",
       "      <td>O</td>\n",
       "      <td>II</td>\n",
       "      <td>history</td>\n",
       "    </tr>\n",
       "    <tr>\n",
       "      <th>7</th>\n",
       "      <td>gestational</td>\n",
       "      <td>B-PROBLEM</td>\n",
       "      <td>O</td>\n",
       "      <td>JJ</td>\n",
       "      <td>of</td>\n",
       "    </tr>\n",
       "    <tr>\n",
       "      <th>8</th>\n",
       "      <td>diabetes</td>\n",
       "      <td>I-PROBLEM</td>\n",
       "      <td>O</td>\n",
       "      <td>NN</td>\n",
       "      <td>mellitus</td>\n",
       "    </tr>\n",
       "    <tr>\n",
       "      <th>9</th>\n",
       "      <td>mellitus</td>\n",
       "      <td>I-PROBLEM</td>\n",
       "      <td>O</td>\n",
       "      <td>NN</td>\n",
       "      <td>gestational</td>\n",
       "    </tr>\n",
       "    <tr>\n",
       "      <th>10</th>\n",
       "      <td>,</td>\n",
       "      <td>O</td>\n",
       "      <td>O</td>\n",
       "      <td>NN</td>\n",
       "      <td>used</td>\n",
       "    </tr>\n",
       "    <tr>\n",
       "      <th>11</th>\n",
       "      <td>used</td>\n",
       "      <td>O</td>\n",
       "      <td>O</td>\n",
       "      <td>VVN</td>\n",
       "      <td>mellitus</td>\n",
       "    </tr>\n",
       "    <tr>\n",
       "      <th>12</th>\n",
       "      <td>to</td>\n",
       "      <td>O</td>\n",
       "      <td>O</td>\n",
       "      <td>TO</td>\n",
       "      <td>take</td>\n",
       "    </tr>\n",
       "    <tr>\n",
       "      <th>13</th>\n",
       "      <td>take</td>\n",
       "      <td>O</td>\n",
       "      <td>O</td>\n",
       "      <td>VVI</td>\n",
       "      <td>used</td>\n",
       "    </tr>\n",
       "    <tr>\n",
       "      <th>14</th>\n",
       "      <td>metformin</td>\n",
       "      <td>B-TREATMENT</td>\n",
       "      <td>B-DRUG</td>\n",
       "      <td>NN</td>\n",
       "      <td>take</td>\n",
       "    </tr>\n",
       "    <tr>\n",
       "      <th>15</th>\n",
       "      <td>1000</td>\n",
       "      <td>O</td>\n",
       "      <td>B-STRENGTH</td>\n",
       "      <td>MC</td>\n",
       "      <td>metformin</td>\n",
       "    </tr>\n",
       "    <tr>\n",
       "      <th>16</th>\n",
       "      <td>mg</td>\n",
       "      <td>O</td>\n",
       "      <td>I-STRENGTH</td>\n",
       "      <td>NN</td>\n",
       "      <td>1000</td>\n",
       "    </tr>\n",
       "    <tr>\n",
       "      <th>17</th>\n",
       "      <td>two</td>\n",
       "      <td>O</td>\n",
       "      <td>B-FREQUENCY</td>\n",
       "      <td>MC</td>\n",
       "      <td>times</td>\n",
       "    </tr>\n",
       "    <tr>\n",
       "      <th>18</th>\n",
       "      <td>times</td>\n",
       "      <td>O</td>\n",
       "      <td>I-FREQUENCY</td>\n",
       "      <td>NNS</td>\n",
       "      <td>mg</td>\n",
       "    </tr>\n",
       "    <tr>\n",
       "      <th>19</th>\n",
       "      <td>a</td>\n",
       "      <td>O</td>\n",
       "      <td>I-FREQUENCY</td>\n",
       "      <td>DD</td>\n",
       "      <td>day</td>\n",
       "    </tr>\n",
       "  </tbody>\n",
       "</table>\n",
       "</div>"
      ]
     },
     "metadata": {
      "application/vnd.databricks.v1+output": {
       "addedWidgets": {},
       "arguments": {},
       "data": "<div>\n<style scoped>\n    .dataframe tbody tr th:only-of-type {\n        vertical-align: middle;\n    }\n\n    .dataframe tbody tr th {\n        vertical-align: top;\n    }\n\n    .dataframe thead th {\n        text-align: right;\n    }\n</style>\n<table border=\"1\" class=\"dataframe\">\n  <thead>\n    <tr style=\"text-align: right;\">\n      <th></th>\n      <th>tokens</th>\n      <th>clinical_ner_tags</th>\n      <th>posology_ner_tags</th>\n      <th>POS_tags</th>\n      <th>dependencies</th>\n    </tr>\n  </thead>\n  <tbody>\n    <tr>\n      <th>0</th>\n      <td>A</td>\n      <td>O</td>\n      <td>O</td>\n      <td>DD</td>\n      <td>female</td>\n    </tr>\n    <tr>\n      <th>1</th>\n      <td>28-year-old</td>\n      <td>O</td>\n      <td>O</td>\n      <td>NN</td>\n      <td>female</td>\n    </tr>\n    <tr>\n      <th>2</th>\n      <td>female</td>\n      <td>O</td>\n      <td>O</td>\n      <td>NN</td>\n      <td>ROOT</td>\n    </tr>\n    <tr>\n      <th>3</th>\n      <td>with</td>\n      <td>O</td>\n      <td>O</td>\n      <td>II</td>\n      <td>history</td>\n    </tr>\n    <tr>\n      <th>4</th>\n      <td>a</td>\n      <td>O</td>\n      <td>O</td>\n      <td>DD</td>\n      <td>history</td>\n    </tr>\n    <tr>\n      <th>5</th>\n      <td>history</td>\n      <td>O</td>\n      <td>O</td>\n      <td>NN</td>\n      <td>female</td>\n    </tr>\n    <tr>\n      <th>6</th>\n      <td>of</td>\n      <td>O</td>\n      <td>O</td>\n      <td>II</td>\n      <td>history</td>\n    </tr>\n    <tr>\n      <th>7</th>\n      <td>gestational</td>\n      <td>B-PROBLEM</td>\n      <td>O</td>\n      <td>JJ</td>\n      <td>of</td>\n    </tr>\n    <tr>\n      <th>8</th>\n      <td>diabetes</td>\n      <td>I-PROBLEM</td>\n      <td>O</td>\n      <td>NN</td>\n      <td>mellitus</td>\n    </tr>\n    <tr>\n      <th>9</th>\n      <td>mellitus</td>\n      <td>I-PROBLEM</td>\n      <td>O</td>\n      <td>NN</td>\n      <td>gestational</td>\n    </tr>\n    <tr>\n      <th>10</th>\n      <td>,</td>\n      <td>O</td>\n      <td>O</td>\n      <td>NN</td>\n      <td>used</td>\n    </tr>\n    <tr>\n      <th>11</th>\n      <td>used</td>\n      <td>O</td>\n      <td>O</td>\n      <td>VVN</td>\n      <td>mellitus</td>\n    </tr>\n    <tr>\n      <th>12</th>\n      <td>to</td>\n      <td>O</td>\n      <td>O</td>\n      <td>TO</td>\n      <td>take</td>\n    </tr>\n    <tr>\n      <th>13</th>\n      <td>take</td>\n      <td>O</td>\n      <td>O</td>\n      <td>VVI</td>\n      <td>used</td>\n    </tr>\n    <tr>\n      <th>14</th>\n      <td>metformin</td>\n      <td>B-TREATMENT</td>\n      <td>B-DRUG</td>\n      <td>NN</td>\n      <td>take</td>\n    </tr>\n    <tr>\n      <th>15</th>\n      <td>1000</td>\n      <td>O</td>\n      <td>B-STRENGTH</td>\n      <td>MC</td>\n      <td>metformin</td>\n    </tr>\n    <tr>\n      <th>16</th>\n      <td>mg</td>\n      <td>O</td>\n      <td>I-STRENGTH</td>\n      <td>NN</td>\n      <td>1000</td>\n    </tr>\n    <tr>\n      <th>17</th>\n      <td>two</td>\n      <td>O</td>\n      <td>B-FREQUENCY</td>\n      <td>MC</td>\n      <td>times</td>\n    </tr>\n    <tr>\n      <th>18</th>\n      <td>times</td>\n      <td>O</td>\n      <td>I-FREQUENCY</td>\n      <td>NNS</td>\n      <td>mg</td>\n    </tr>\n    <tr>\n      <th>19</th>\n      <td>a</td>\n      <td>O</td>\n      <td>I-FREQUENCY</td>\n      <td>DD</td>\n      <td>day</td>\n    </tr>\n  </tbody>\n</table>\n</div>",
       "datasetInfos": [],
       "metadata": {},
       "removedWidgets": [],
       "textData": null,
       "type": "htmlSandbox"
      }
     },
     "output_type": "display_data"
    }
   ],
   "source": [
    "import pandas as pd\n",
    "\n",
    "rows = list(zip(annotations['tokens'], annotations['clinical_ner_tags'], annotations['posology_ner_tags'], annotations['pos_tags'], annotations['dependencies']))\n",
    "\n",
    "df = pd.DataFrame(rows, columns = ['tokens','clinical_ner_tags','posology_ner_tags','POS_tags','dependencies'])\n",
    "\n",
    "df.head(20)"
   ]
  },
  {
   "cell_type": "code",
   "execution_count": 0,
   "metadata": {
    "application/vnd.databricks.v1+cell": {
     "cellMetadata": {
      "byteLimit": 2048000,
      "rowLimit": 10000
     },
     "inputWidgets": {},
     "nuid": "b75db2a7-4722-4f22-83f6-dcb43b85cfab",
     "showTitle": false,
     "title": ""
    },
    "colab": {
     "base_uri": "https://localhost:8080/",
     "height": 175
    },
    "executionInfo": {
     "elapsed": 537,
     "status": "ok",
     "timestamp": 1707940410425,
     "user": {
      "displayName": "Akar Öztürk",
      "userId": "07602883577262601067"
     },
     "user_tz": -60
    },
    "id": "5Hlwc2M2Xl_y",
    "outputId": "147aaf2d-dfb1-432e-bb9a-5c7a49ab0837"
   },
   "outputs": [
    {
     "output_type": "display_data",
     "data": {
      "text/html": [
       "<div>\n",
       "<style scoped>\n",
       "    .dataframe tbody tr th:only-of-type {\n",
       "        vertical-align: middle;\n",
       "    }\n",
       "\n",
       "    .dataframe tbody tr th {\n",
       "        vertical-align: top;\n",
       "    }\n",
       "\n",
       "    .dataframe thead th {\n",
       "        text-align: right;\n",
       "    }\n",
       "</style>\n",
       "<table border=\"1\" class=\"dataframe\">\n",
       "  <thead>\n",
       "    <tr style=\"text-align: right;\">\n",
       "      <th></th>\n",
       "      <th>chunks</th>\n",
       "      <th>entities</th>\n",
       "      <th>assertion</th>\n",
       "    </tr>\n",
       "  </thead>\n",
       "  <tbody>\n",
       "    <tr>\n",
       "      <th>0</th>\n",
       "      <td>a headache</td>\n",
       "      <td>PROBLEM</td>\n",
       "      <td>present</td>\n",
       "    </tr>\n",
       "    <tr>\n",
       "      <th>1</th>\n",
       "      <td>anxious</td>\n",
       "      <td>PROBLEM</td>\n",
       "      <td>present</td>\n",
       "    </tr>\n",
       "    <tr>\n",
       "      <th>2</th>\n",
       "      <td>alopecia</td>\n",
       "      <td>PROBLEM</td>\n",
       "      <td>absent</td>\n",
       "    </tr>\n",
       "    <tr>\n",
       "      <th>3</th>\n",
       "      <td>pain</td>\n",
       "      <td>PROBLEM</td>\n",
       "      <td>absent</td>\n",
       "    </tr>\n",
       "  </tbody>\n",
       "</table>\n",
       "</div>"
      ]
     },
     "metadata": {
      "application/vnd.databricks.v1+output": {
       "addedWidgets": {},
       "arguments": {},
       "data": "<div>\n<style scoped>\n    .dataframe tbody tr th:only-of-type {\n        vertical-align: middle;\n    }\n\n    .dataframe tbody tr th {\n        vertical-align: top;\n    }\n\n    .dataframe thead th {\n        text-align: right;\n    }\n</style>\n<table border=\"1\" class=\"dataframe\">\n  <thead>\n    <tr style=\"text-align: right;\">\n      <th></th>\n      <th>chunks</th>\n      <th>entities</th>\n      <th>assertion</th>\n    </tr>\n  </thead>\n  <tbody>\n    <tr>\n      <th>0</th>\n      <td>a headache</td>\n      <td>PROBLEM</td>\n      <td>present</td>\n    </tr>\n    <tr>\n      <th>1</th>\n      <td>anxious</td>\n      <td>PROBLEM</td>\n      <td>present</td>\n    </tr>\n    <tr>\n      <th>2</th>\n      <td>alopecia</td>\n      <td>PROBLEM</td>\n      <td>absent</td>\n    </tr>\n    <tr>\n      <th>3</th>\n      <td>pain</td>\n      <td>PROBLEM</td>\n      <td>absent</td>\n    </tr>\n  </tbody>\n</table>\n</div>",
       "datasetInfos": [],
       "metadata": {},
       "removedWidgets": [],
       "textData": null,
       "type": "htmlSandbox"
      }
     },
     "output_type": "display_data"
    }
   ],
   "source": [
    "text = 'Patient has a headache for the last 2 weeks and appears anxious when she walks fast. No alopecia noted. She denies pain'\n",
    "\n",
    "result = pipeline.fullAnnotate(text)[0]\n",
    "\n",
    "chunks=[]\n",
    "entities=[]\n",
    "status=[]\n",
    "\n",
    "for n,m in zip(result['clinical_ner_chunks'],result['assertion']):\n",
    "\n",
    "    chunks.append(n.result)\n",
    "    entities.append(n.metadata['entity'])\n",
    "    status.append(m.result)\n",
    "\n",
    "df = pd.DataFrame({'chunks':chunks, 'entities':entities, 'assertion':status})\n",
    "\n",
    "df"
   ]
  },
  {
   "cell_type": "code",
   "execution_count": 0,
   "metadata": {
    "application/vnd.databricks.v1+cell": {
     "cellMetadata": {
      "byteLimit": 2048000,
      "rowLimit": 10000
     },
     "inputWidgets": {},
     "nuid": "2dbaf735-e710-4dc7-b269-9ec8e310d473",
     "showTitle": false,
     "title": ""
    },
    "colab": {
     "base_uri": "https://localhost:8080/",
     "height": 519
    },
    "executionInfo": {
     "elapsed": 656,
     "status": "ok",
     "timestamp": 1707940411076,
     "user": {
      "displayName": "Akar Öztürk",
      "userId": "07602883577262601067"
     },
     "user_tz": -60
    },
    "id": "wF9PCC18Y7eE",
    "outputId": "5c411f99-6f31-4902-a380-505b306a5d59"
   },
   "outputs": [
    {
     "output_type": "display_data",
     "data": {
      "text/html": [
       "<div>\n",
       "<style scoped>\n",
       "    .dataframe tbody tr th:only-of-type {\n",
       "        vertical-align: middle;\n",
       "    }\n",
       "\n",
       "    .dataframe tbody tr th {\n",
       "        vertical-align: top;\n",
       "    }\n",
       "\n",
       "    .dataframe thead th {\n",
       "        text-align: right;\n",
       "    }\n",
       "</style>\n",
       "<table border=\"1\" class=\"dataframe\">\n",
       "  <thead>\n",
       "    <tr style=\"text-align: right;\">\n",
       "      <th></th>\n",
       "      <th>chunks</th>\n",
       "      <th>begin</th>\n",
       "      <th>end</th>\n",
       "      <th>entities</th>\n",
       "    </tr>\n",
       "  </thead>\n",
       "  <tbody>\n",
       "    <tr>\n",
       "      <th>0</th>\n",
       "      <td>1 unit</td>\n",
       "      <td>28</td>\n",
       "      <td>33</td>\n",
       "      <td>DOSAGE</td>\n",
       "    </tr>\n",
       "    <tr>\n",
       "      <th>1</th>\n",
       "      <td>Advil</td>\n",
       "      <td>38</td>\n",
       "      <td>42</td>\n",
       "      <td>DRUG</td>\n",
       "    </tr>\n",
       "    <tr>\n",
       "      <th>2</th>\n",
       "      <td>for 5 days</td>\n",
       "      <td>44</td>\n",
       "      <td>53</td>\n",
       "      <td>DURATION</td>\n",
       "    </tr>\n",
       "    <tr>\n",
       "      <th>3</th>\n",
       "      <td>1 unit</td>\n",
       "      <td>95</td>\n",
       "      <td>100</td>\n",
       "      <td>DOSAGE</td>\n",
       "    </tr>\n",
       "    <tr>\n",
       "      <th>4</th>\n",
       "      <td>Metformin</td>\n",
       "      <td>105</td>\n",
       "      <td>113</td>\n",
       "      <td>DRUG</td>\n",
       "    </tr>\n",
       "    <tr>\n",
       "      <th>5</th>\n",
       "      <td>daily</td>\n",
       "      <td>115</td>\n",
       "      <td>119</td>\n",
       "      <td>FREQUENCY</td>\n",
       "    </tr>\n",
       "    <tr>\n",
       "      <th>6</th>\n",
       "      <td>40 units</td>\n",
       "      <td>189</td>\n",
       "      <td>196</td>\n",
       "      <td>DOSAGE</td>\n",
       "    </tr>\n",
       "    <tr>\n",
       "      <th>7</th>\n",
       "      <td>insulin glargine</td>\n",
       "      <td>201</td>\n",
       "      <td>216</td>\n",
       "      <td>DRUG</td>\n",
       "    </tr>\n",
       "    <tr>\n",
       "      <th>8</th>\n",
       "      <td>at night</td>\n",
       "      <td>218</td>\n",
       "      <td>225</td>\n",
       "      <td>FREQUENCY</td>\n",
       "    </tr>\n",
       "    <tr>\n",
       "      <th>9</th>\n",
       "      <td>12 units</td>\n",
       "      <td>229</td>\n",
       "      <td>236</td>\n",
       "      <td>DOSAGE</td>\n",
       "    </tr>\n",
       "    <tr>\n",
       "      <th>10</th>\n",
       "      <td>insulin lispro</td>\n",
       "      <td>241</td>\n",
       "      <td>254</td>\n",
       "      <td>DRUG</td>\n",
       "    </tr>\n",
       "    <tr>\n",
       "      <th>11</th>\n",
       "      <td>with meals</td>\n",
       "      <td>256</td>\n",
       "      <td>265</td>\n",
       "      <td>FREQUENCY</td>\n",
       "    </tr>\n",
       "    <tr>\n",
       "      <th>12</th>\n",
       "      <td>metformin</td>\n",
       "      <td>273</td>\n",
       "      <td>281</td>\n",
       "      <td>DRUG</td>\n",
       "    </tr>\n",
       "    <tr>\n",
       "      <th>13</th>\n",
       "      <td>1000 mg</td>\n",
       "      <td>283</td>\n",
       "      <td>289</td>\n",
       "      <td>STRENGTH</td>\n",
       "    </tr>\n",
       "    <tr>\n",
       "      <th>14</th>\n",
       "      <td>two times a day</td>\n",
       "      <td>291</td>\n",
       "      <td>305</td>\n",
       "      <td>FREQUENCY</td>\n",
       "    </tr>\n",
       "  </tbody>\n",
       "</table>\n",
       "</div>"
      ]
     },
     "metadata": {
      "application/vnd.databricks.v1+output": {
       "addedWidgets": {},
       "arguments": {},
       "data": "<div>\n<style scoped>\n    .dataframe tbody tr th:only-of-type {\n        vertical-align: middle;\n    }\n\n    .dataframe tbody tr th {\n        vertical-align: top;\n    }\n\n    .dataframe thead th {\n        text-align: right;\n    }\n</style>\n<table border=\"1\" class=\"dataframe\">\n  <thead>\n    <tr style=\"text-align: right;\">\n      <th></th>\n      <th>chunks</th>\n      <th>begin</th>\n      <th>end</th>\n      <th>entities</th>\n    </tr>\n  </thead>\n  <tbody>\n    <tr>\n      <th>0</th>\n      <td>1 unit</td>\n      <td>28</td>\n      <td>33</td>\n      <td>DOSAGE</td>\n    </tr>\n    <tr>\n      <th>1</th>\n      <td>Advil</td>\n      <td>38</td>\n      <td>42</td>\n      <td>DRUG</td>\n    </tr>\n    <tr>\n      <th>2</th>\n      <td>for 5 days</td>\n      <td>44</td>\n      <td>53</td>\n      <td>DURATION</td>\n    </tr>\n    <tr>\n      <th>3</th>\n      <td>1 unit</td>\n      <td>95</td>\n      <td>100</td>\n      <td>DOSAGE</td>\n    </tr>\n    <tr>\n      <th>4</th>\n      <td>Metformin</td>\n      <td>105</td>\n      <td>113</td>\n      <td>DRUG</td>\n    </tr>\n    <tr>\n      <th>5</th>\n      <td>daily</td>\n      <td>115</td>\n      <td>119</td>\n      <td>FREQUENCY</td>\n    </tr>\n    <tr>\n      <th>6</th>\n      <td>40 units</td>\n      <td>189</td>\n      <td>196</td>\n      <td>DOSAGE</td>\n    </tr>\n    <tr>\n      <th>7</th>\n      <td>insulin glargine</td>\n      <td>201</td>\n      <td>216</td>\n      <td>DRUG</td>\n    </tr>\n    <tr>\n      <th>8</th>\n      <td>at night</td>\n      <td>218</td>\n      <td>225</td>\n      <td>FREQUENCY</td>\n    </tr>\n    <tr>\n      <th>9</th>\n      <td>12 units</td>\n      <td>229</td>\n      <td>236</td>\n      <td>DOSAGE</td>\n    </tr>\n    <tr>\n      <th>10</th>\n      <td>insulin lispro</td>\n      <td>241</td>\n      <td>254</td>\n      <td>DRUG</td>\n    </tr>\n    <tr>\n      <th>11</th>\n      <td>with meals</td>\n      <td>256</td>\n      <td>265</td>\n      <td>FREQUENCY</td>\n    </tr>\n    <tr>\n      <th>12</th>\n      <td>metformin</td>\n      <td>273</td>\n      <td>281</td>\n      <td>DRUG</td>\n    </tr>\n    <tr>\n      <th>13</th>\n      <td>1000 mg</td>\n      <td>283</td>\n      <td>289</td>\n      <td>STRENGTH</td>\n    </tr>\n    <tr>\n      <th>14</th>\n      <td>two times a day</td>\n      <td>291</td>\n      <td>305</td>\n      <td>FREQUENCY</td>\n    </tr>\n  </tbody>\n</table>\n</div>",
       "datasetInfos": [],
       "metadata": {},
       "removedWidgets": [],
       "textData": null,
       "type": "htmlSandbox"
      }
     },
     "output_type": "display_data"
    }
   ],
   "source": [
    "text = \"\"\"\n",
    "The patient was prescribed 1 unit of Advil for 5 days after meals. The patient was also\n",
    "given 1 unit of Metformin daily.\n",
    "He was seen by the endocrinology service and she was discharged on 40 units of insulin glargine at night ,\n",
    "12 units of insulin lispro with meals , and metformin 1000 mg two times a day.\n",
    "\"\"\"\n",
    "\n",
    "result = pipeline.fullAnnotate(text)[0]\n",
    "\n",
    "chunks=[]\n",
    "entities=[]\n",
    "begins=[]\n",
    "ends=[]\n",
    "\n",
    "for n in result['posology_ner_chunks']:\n",
    "\n",
    "    chunks.append(n.result)\n",
    "    begins.append(n.begin)\n",
    "    ends.append(n.end)\n",
    "    entities.append(n.metadata['entity'])\n",
    "\n",
    "df = pd.DataFrame({'chunks':chunks, 'begin':begins, 'end':ends, 'entities':entities})\n",
    "\n",
    "df"
   ]
  },
  {
   "cell_type": "markdown",
   "metadata": {
    "application/vnd.databricks.v1+cell": {
     "cellMetadata": {},
     "inputWidgets": {},
     "nuid": "20b01c66-6fd0-4f6c-a52e-3456246f8ecc",
     "showTitle": false,
     "title": ""
    },
    "id": "ljp4EmCxaDNd"
   },
   "source": [
    "### explain_clinical_doc_oncology\n",
    "\n",
    "> This pipeline includes Named-Entity Recognition, Assertion Status and Relation Extraction models to extract information from oncology texts.\n",
    "\n",
    "\n",
    "- Clinical Entity Labels: `Adenopathy`, `Age`, `Biomarker`,`Biomarker_Result`, `Cancer_Dx`, `Cancer_Score` ,`Cancer_Surgery`, `Chemotherapy`, `Cycle_Count` ,`Cycle_Day`, `Cycle_Number`, `Date` ,`Death_Entity`, `Direction`, `Dosage` ,`Duration`, `Frequency`, `Gender` ,`Grade`, `Histological_Type`, `Hormonal_Therapy` ,`Imaging_Test`, `Immunotherapy`, `Invasion` ,`Line_Of_Therapy`, `Metastasis`, `Oncogene` ,`PROBLEM`, `Pathology_Result`, `Pathology_Test` ,`PROBLEM`, `Performance_Status`, `Race_Ethnicity` ,`Radiotherapy`, `Response_To_Treatment`, `Relative_Date` ,`Route`, `Site_Bone`, `Site_Brain` ,`Site_Breast`, `Site_Liver`, `Site_Lung` ,`Site_Lymph_Node`, `Site_Other_Body_Part`, `Smoking_Status` ,`Staging`, `Targeted_Therapy`, `Tumor_Finding` ,`Tumor_Size`, `Unspecific_Therapy`, `Radiation_Dose` ,`Anatomical_Site`, `Cancer_Therapy`, `Size_Trend` ,`Lymph_Node`, `Tumor_Description`,`Lymph_Node_Modifier`, `Posology_Information`, `Oncological`,`Weight`,`Alcohol`,`Communicable_Disease`,`BMI`,`Obesity`,`Diabetes`\n",
    "\n",
    "- Assertion Status Labels: `Present`, `Absent`, `Possible`, `Past`, `Family`, `Hypotetical`\n",
    "\n",
    "- Relation Extraction Labels: `is_size_of`, `is_finding_of`, `is_date_of`, `is_location_of`\n"
   ]
  },
  {
   "cell_type": "code",
   "execution_count": 0,
   "metadata": {
    "application/vnd.databricks.v1+cell": {
     "cellMetadata": {
      "byteLimit": 2048000,
      "rowLimit": 10000
     },
     "inputWidgets": {},
     "nuid": "32a6f024-8ae2-4892-8b16-a38e9d798018",
     "showTitle": false,
     "title": ""
    },
    "colab": {
     "base_uri": "https://localhost:8080/"
    },
    "executionInfo": {
     "elapsed": 204762,
     "status": "ok",
     "timestamp": 1707940625598,
     "user": {
      "displayName": "Akar Öztürk",
      "userId": "07602883577262601067"
     },
     "user_tz": -60
    },
    "id": "BMWEfu1QuXY5",
    "outputId": "a50a84e2-3e74-4651-e4fa-01a1c7eb3d99"
   },
   "outputs": [
    {
     "output_type": "stream",
     "name": "stdout",
     "output_type": "stream",
     "text": [
      "explain_clinical_doc_oncology download started this may take some time.\nApprox size to download 1.8 GB\n\r[ | ]\r[ / ]\r[ — ]\r[ \\ ]\r[ | ]\r[ / ]\r[ — ]\r[ \\ ]\r[ | ]\r[ / ]\r[ — ]\r[ \\ ]\r[ | ]\r[ / ]\r[ — ]\r[ \\ ]\r[ | ]\r[ / ]\r[ — ]\r[ \\ ]\r[ | ]\r[ / ]\r[ — ]\r[ \\ ]\r[ | ]\r[OK!]\n"
     ]
    }
   ],
   "source": [
    "ner_pipeline = nlp.PretrainedPipeline(\"explain_clinical_doc_oncology\", \"en\", \"clinical/models\")"
   ]
  },
  {
   "cell_type": "code",
   "execution_count": 0,
   "metadata": {
    "application/vnd.databricks.v1+cell": {
     "cellMetadata": {
      "byteLimit": 2048000,
      "rowLimit": 10000
     },
     "inputWidgets": {},
     "nuid": "b4882f59-7194-49aa-9108-f7e2f2d5d241",
     "showTitle": false,
     "title": ""
    },
    "colab": {
     "base_uri": "https://localhost:8080/"
    },
    "executionInfo": {
     "elapsed": 12,
     "status": "ok",
     "timestamp": 1707940625598,
     "user": {
      "displayName": "Akar Öztürk",
      "userId": "07602883577262601067"
     },
     "user_tz": -60
    },
    "id": "xWhFRqvpvIOl",
    "outputId": "4b2b2b2e-177d-485c-e930-0eb107155b6e"
   },
   "outputs": [
    {
     "output_type": "stream",
     "name": "stdout",
     "output_type": "stream",
     "text": [
      "Out[25]: [DocumentAssembler_a70034254885,\n SentenceDetectorDLModel_6bafc4746ea5,\n REGEX_TOKENIZER_db5325c018e1,\n WORD_EMBEDDINGS_MODEL_9004b1d00302,\n MedicalNerModel_8c59079bd37d,\n NER_CONVERTER_d44db70d0356,\n MedicalNerModel_f17b93cea1f2,\n NER_CONVERTER_3f1711349b1f,\n MedicalNerModel_58233645f160,\n NER_CONVERTER_67697148287e,\n MedicalNerModel_185d3fbf617b,\n NER_CONVERTER_e5f9606036ad,\n MedicalNerModel_ceff3f64ab20,\n NER_CONVERTER_241608e4a7ee,\n MedicalNerModel_c89cbceb1028,\n NER_CONVERTER_4b4ba0d4371c,\n MedicalNerModel_d674613cb476,\n NER_CONVERTER_4eb12c885cfd,\n MERGE_a905bcc07b50,\n MERGE_33e0102082fa,\n ASSERTION_DL_8d77f383c928,\n POS_6f55785005bf,\n dependency_e7755462ba78,\n RelationExtractionModel_68ebe11369b6,\n RelationExtractionModel_513eb6317779,\n AnnotationMerger_eb205c133eff]"
     ]
    }
   ],
   "source": [
    "ner_pipeline.model.stages"
   ]
  },
  {
   "cell_type": "code",
   "execution_count": 0,
   "metadata": {
    "application/vnd.databricks.v1+cell": {
     "cellMetadata": {
      "byteLimit": 2048000,
      "rowLimit": 10000
     },
     "inputWidgets": {},
     "nuid": "01e346a9-1f19-4152-a9c9-75a5d8e6b87e",
     "showTitle": false,
     "title": ""
    },
    "id": "O9cTLFNUaQNU"
   },
   "outputs": [],
   "source": [
    "text =\"\"\"The Patient underwent a computed tomography (CT) scan of the abdomen and pelvis,\n",
    "which showed a complex ovarian mass. A Pap smear performed one month later was positive for\n",
    "atypical glandular cells suspicious for adenocarcinoma. The pathologic specimen showed extension\n",
    "of the tumor throughout the fallopian tubes, appendix, omentum, and 5 out of 5 enlarged lymph nodes.\n",
    "The final pathologic diagnosis of the tumor was stage IIIC papillary serous ovarian adenocarcinoma.\n",
    "Two months later, the patient was diagnosed with lung metastases.\n",
    "\"\"\"\n",
    "\n",
    "result = ner_pipeline.fullAnnotate(text)[0]\n"
   ]
  },
  {
   "cell_type": "code",
   "execution_count": 0,
   "metadata": {
    "application/vnd.databricks.v1+cell": {
     "cellMetadata": {
      "byteLimit": 2048000,
      "rowLimit": 10000
     },
     "inputWidgets": {},
     "nuid": "797f543a-371a-4247-a483-c08217a06a3b",
     "showTitle": false,
     "title": ""
    },
    "colab": {
     "base_uri": "https://localhost:8080/"
    },
    "executionInfo": {
     "elapsed": 10,
     "status": "ok",
     "timestamp": 1707940630091,
     "user": {
      "displayName": "Akar Öztürk",
      "userId": "07602883577262601067"
     },
     "user_tz": -60
    },
    "id": "1igwWvsgu7z6",
    "outputId": "3b1714af-2e4e-43fb-9835-e3adaf860489"
   },
   "outputs": [
    {
     "output_type": "stream",
     "name": "stdout",
     "output_type": "stream",
     "text": [
      "Out[27]: dict_keys(['ner_oncology_unspecific_posology_chunk', 're_oncology_granular_wip', 'ner_oncology_anatomy_general_chunk', 'ner_oncology', 'document', 're_oncology_biomarker_result_wip', 'merged_chunk', 'merged_chunk_for_assertion', 'ner_oncology_anatomy_general', 'assertion', 'all_relations', 'ner_posology_chunk', 'ner_oncology_response_to_treatment', 'ner_oncology_chunk', 'token', 'ner_oncology_tnm_chunk', 'ner_jsl_chunk', 'embeddings', 'ner_oncology_tnm', 'pos_tags', 'ner_jsl', 'dependencies', 'ner_oncology_unspecific_posology', 'ner_posology', 'ner_oncology_response_to_treatment_chunk', 'sentence'])"
     ]
    }
   ],
   "source": [
    "result.keys()"
   ]
  },
  {
   "cell_type": "code",
   "execution_count": 0,
   "metadata": {
    "application/vnd.databricks.v1+cell": {
     "cellMetadata": {
      "byteLimit": 2048000,
      "rowLimit": 10000
     },
     "inputWidgets": {},
     "nuid": "2782b45b-b100-476b-84f7-0a1b3b74c0cd",
     "showTitle": false,
     "title": ""
    },
    "colab": {
     "base_uri": "https://localhost:8080/",
     "height": 770
    },
    "executionInfo": {
     "elapsed": 8,
     "status": "ok",
     "timestamp": 1707940630091,
     "user": {
      "displayName": "Akar Öztürk",
      "userId": "07602883577262601067"
     },
     "user_tz": -60
    },
    "id": "6rejwSLjyW8S",
    "outputId": "d382e3ab-e221-434e-e0f6-7b51810eae2d"
   },
   "outputs": [
    {
     "output_type": "display_data",
     "data": {
      "text/html": [
       "<div>\n",
       "<style scoped>\n",
       "    .dataframe tbody tr th:only-of-type {\n",
       "        vertical-align: middle;\n",
       "    }\n",
       "\n",
       "    .dataframe tbody tr th {\n",
       "        vertical-align: top;\n",
       "    }\n",
       "\n",
       "    .dataframe thead th {\n",
       "        text-align: right;\n",
       "    }\n",
       "</style>\n",
       "<table border=\"1\" class=\"dataframe\">\n",
       "  <thead>\n",
       "    <tr style=\"text-align: right;\">\n",
       "      <th></th>\n",
       "      <th>chunks</th>\n",
       "      <th>begin</th>\n",
       "      <th>end</th>\n",
       "      <th>entities</th>\n",
       "    </tr>\n",
       "  </thead>\n",
       "  <tbody>\n",
       "    <tr>\n",
       "      <th>0</th>\n",
       "      <td>computed tomography</td>\n",
       "      <td>24</td>\n",
       "      <td>42</td>\n",
       "      <td>Imaging_Test</td>\n",
       "    </tr>\n",
       "    <tr>\n",
       "      <th>1</th>\n",
       "      <td>CT</td>\n",
       "      <td>45</td>\n",
       "      <td>46</td>\n",
       "      <td>Imaging_Test</td>\n",
       "    </tr>\n",
       "    <tr>\n",
       "      <th>2</th>\n",
       "      <td>abdomen</td>\n",
       "      <td>61</td>\n",
       "      <td>67</td>\n",
       "      <td>Site_Other_Body_Part</td>\n",
       "    </tr>\n",
       "    <tr>\n",
       "      <th>3</th>\n",
       "      <td>pelvis</td>\n",
       "      <td>73</td>\n",
       "      <td>78</td>\n",
       "      <td>Site_Other_Body_Part</td>\n",
       "    </tr>\n",
       "    <tr>\n",
       "      <th>4</th>\n",
       "      <td>ovarian</td>\n",
       "      <td>104</td>\n",
       "      <td>110</td>\n",
       "      <td>Site_Other_Body_Part</td>\n",
       "    </tr>\n",
       "    <tr>\n",
       "      <th>5</th>\n",
       "      <td>mass</td>\n",
       "      <td>112</td>\n",
       "      <td>115</td>\n",
       "      <td>Tumor_Finding</td>\n",
       "    </tr>\n",
       "    <tr>\n",
       "      <th>6</th>\n",
       "      <td>Pap smear</td>\n",
       "      <td>120</td>\n",
       "      <td>128</td>\n",
       "      <td>Pathology_Test</td>\n",
       "    </tr>\n",
       "    <tr>\n",
       "      <th>7</th>\n",
       "      <td>one month later</td>\n",
       "      <td>140</td>\n",
       "      <td>154</td>\n",
       "      <td>Relative_Date</td>\n",
       "    </tr>\n",
       "    <tr>\n",
       "      <th>8</th>\n",
       "      <td>atypical glandular cells</td>\n",
       "      <td>173</td>\n",
       "      <td>196</td>\n",
       "      <td>Pathology_Result</td>\n",
       "    </tr>\n",
       "    <tr>\n",
       "      <th>9</th>\n",
       "      <td>adenocarcinoma</td>\n",
       "      <td>213</td>\n",
       "      <td>226</td>\n",
       "      <td>Cancer_Dx</td>\n",
       "    </tr>\n",
       "    <tr>\n",
       "      <th>10</th>\n",
       "      <td>pathologic specimen</td>\n",
       "      <td>233</td>\n",
       "      <td>251</td>\n",
       "      <td>Pathology_Test</td>\n",
       "    </tr>\n",
       "    <tr>\n",
       "      <th>11</th>\n",
       "      <td>extension</td>\n",
       "      <td>260</td>\n",
       "      <td>268</td>\n",
       "      <td>Invasion</td>\n",
       "    </tr>\n",
       "    <tr>\n",
       "      <th>12</th>\n",
       "      <td>tumor</td>\n",
       "      <td>277</td>\n",
       "      <td>281</td>\n",
       "      <td>Tumor_Finding</td>\n",
       "    </tr>\n",
       "    <tr>\n",
       "      <th>13</th>\n",
       "      <td>fallopian tubes</td>\n",
       "      <td>298</td>\n",
       "      <td>312</td>\n",
       "      <td>Site_Other_Body_Part</td>\n",
       "    </tr>\n",
       "    <tr>\n",
       "      <th>14</th>\n",
       "      <td>appendix</td>\n",
       "      <td>315</td>\n",
       "      <td>322</td>\n",
       "      <td>Site_Other_Body_Part</td>\n",
       "    </tr>\n",
       "    <tr>\n",
       "      <th>15</th>\n",
       "      <td>omentum</td>\n",
       "      <td>325</td>\n",
       "      <td>331</td>\n",
       "      <td>Site_Other_Body_Part</td>\n",
       "    </tr>\n",
       "    <tr>\n",
       "      <th>16</th>\n",
       "      <td>enlarged</td>\n",
       "      <td>349</td>\n",
       "      <td>356</td>\n",
       "      <td>Lymph_Node_Modifier</td>\n",
       "    </tr>\n",
       "    <tr>\n",
       "      <th>17</th>\n",
       "      <td>lymph nodes</td>\n",
       "      <td>358</td>\n",
       "      <td>368</td>\n",
       "      <td>Site_Lymph_Node</td>\n",
       "    </tr>\n",
       "    <tr>\n",
       "      <th>18</th>\n",
       "      <td>tumor</td>\n",
       "      <td>409</td>\n",
       "      <td>413</td>\n",
       "      <td>Tumor_Finding</td>\n",
       "    </tr>\n",
       "    <tr>\n",
       "      <th>19</th>\n",
       "      <td>stage IIIC</td>\n",
       "      <td>419</td>\n",
       "      <td>428</td>\n",
       "      <td>Staging</td>\n",
       "    </tr>\n",
       "    <tr>\n",
       "      <th>20</th>\n",
       "      <td>papillary serous ovarian adenocarcinoma</td>\n",
       "      <td>430</td>\n",
       "      <td>468</td>\n",
       "      <td>Oncological</td>\n",
       "    </tr>\n",
       "    <tr>\n",
       "      <th>21</th>\n",
       "      <td>Two months later</td>\n",
       "      <td>471</td>\n",
       "      <td>486</td>\n",
       "      <td>Relative_Date</td>\n",
       "    </tr>\n",
       "    <tr>\n",
       "      <th>22</th>\n",
       "      <td>lung metastases</td>\n",
       "      <td>520</td>\n",
       "      <td>534</td>\n",
       "      <td>Oncological</td>\n",
       "    </tr>\n",
       "  </tbody>\n",
       "</table>\n",
       "</div>"
      ]
     },
     "metadata": {
      "application/vnd.databricks.v1+output": {
       "addedWidgets": {},
       "arguments": {},
       "data": "<div>\n<style scoped>\n    .dataframe tbody tr th:only-of-type {\n        vertical-align: middle;\n    }\n\n    .dataframe tbody tr th {\n        vertical-align: top;\n    }\n\n    .dataframe thead th {\n        text-align: right;\n    }\n</style>\n<table border=\"1\" class=\"dataframe\">\n  <thead>\n    <tr style=\"text-align: right;\">\n      <th></th>\n      <th>chunks</th>\n      <th>begin</th>\n      <th>end</th>\n      <th>entities</th>\n    </tr>\n  </thead>\n  <tbody>\n    <tr>\n      <th>0</th>\n      <td>computed tomography</td>\n      <td>24</td>\n      <td>42</td>\n      <td>Imaging_Test</td>\n    </tr>\n    <tr>\n      <th>1</th>\n      <td>CT</td>\n      <td>45</td>\n      <td>46</td>\n      <td>Imaging_Test</td>\n    </tr>\n    <tr>\n      <th>2</th>\n      <td>abdomen</td>\n      <td>61</td>\n      <td>67</td>\n      <td>Site_Other_Body_Part</td>\n    </tr>\n    <tr>\n      <th>3</th>\n      <td>pelvis</td>\n      <td>73</td>\n      <td>78</td>\n      <td>Site_Other_Body_Part</td>\n    </tr>\n    <tr>\n      <th>4</th>\n      <td>ovarian</td>\n      <td>104</td>\n      <td>110</td>\n      <td>Site_Other_Body_Part</td>\n    </tr>\n    <tr>\n      <th>5</th>\n      <td>mass</td>\n      <td>112</td>\n      <td>115</td>\n      <td>Tumor_Finding</td>\n    </tr>\n    <tr>\n      <th>6</th>\n      <td>Pap smear</td>\n      <td>120</td>\n      <td>128</td>\n      <td>Pathology_Test</td>\n    </tr>\n    <tr>\n      <th>7</th>\n      <td>one month later</td>\n      <td>140</td>\n      <td>154</td>\n      <td>Relative_Date</td>\n    </tr>\n    <tr>\n      <th>8</th>\n      <td>atypical glandular cells</td>\n      <td>173</td>\n      <td>196</td>\n      <td>Pathology_Result</td>\n    </tr>\n    <tr>\n      <th>9</th>\n      <td>adenocarcinoma</td>\n      <td>213</td>\n      <td>226</td>\n      <td>Cancer_Dx</td>\n    </tr>\n    <tr>\n      <th>10</th>\n      <td>pathologic specimen</td>\n      <td>233</td>\n      <td>251</td>\n      <td>Pathology_Test</td>\n    </tr>\n    <tr>\n      <th>11</th>\n      <td>extension</td>\n      <td>260</td>\n      <td>268</td>\n      <td>Invasion</td>\n    </tr>\n    <tr>\n      <th>12</th>\n      <td>tumor</td>\n      <td>277</td>\n      <td>281</td>\n      <td>Tumor_Finding</td>\n    </tr>\n    <tr>\n      <th>13</th>\n      <td>fallopian tubes</td>\n      <td>298</td>\n      <td>312</td>\n      <td>Site_Other_Body_Part</td>\n    </tr>\n    <tr>\n      <th>14</th>\n      <td>appendix</td>\n      <td>315</td>\n      <td>322</td>\n      <td>Site_Other_Body_Part</td>\n    </tr>\n    <tr>\n      <th>15</th>\n      <td>omentum</td>\n      <td>325</td>\n      <td>331</td>\n      <td>Site_Other_Body_Part</td>\n    </tr>\n    <tr>\n      <th>16</th>\n      <td>enlarged</td>\n      <td>349</td>\n      <td>356</td>\n      <td>Lymph_Node_Modifier</td>\n    </tr>\n    <tr>\n      <th>17</th>\n      <td>lymph nodes</td>\n      <td>358</td>\n      <td>368</td>\n      <td>Site_Lymph_Node</td>\n    </tr>\n    <tr>\n      <th>18</th>\n      <td>tumor</td>\n      <td>409</td>\n      <td>413</td>\n      <td>Tumor_Finding</td>\n    </tr>\n    <tr>\n      <th>19</th>\n      <td>stage IIIC</td>\n      <td>419</td>\n      <td>428</td>\n      <td>Staging</td>\n    </tr>\n    <tr>\n      <th>20</th>\n      <td>papillary serous ovarian adenocarcinoma</td>\n      <td>430</td>\n      <td>468</td>\n      <td>Oncological</td>\n    </tr>\n    <tr>\n      <th>21</th>\n      <td>Two months later</td>\n      <td>471</td>\n      <td>486</td>\n      <td>Relative_Date</td>\n    </tr>\n    <tr>\n      <th>22</th>\n      <td>lung metastases</td>\n      <td>520</td>\n      <td>534</td>\n      <td>Oncological</td>\n    </tr>\n  </tbody>\n</table>\n</div>",
       "datasetInfos": [],
       "metadata": {},
       "removedWidgets": [],
       "textData": null,
       "type": "htmlSandbox"
      }
     },
     "output_type": "display_data"
    }
   ],
   "source": [
    "import pandas as pd\n",
    "\n",
    "chunks=[]\n",
    "entities=[]\n",
    "begins=[]\n",
    "ends=[]\n",
    "\n",
    "for n in result['merged_chunk']:\n",
    "\n",
    "    chunks.append(n.result)\n",
    "    begins.append(n.begin)\n",
    "    ends.append(n.end)\n",
    "    entities.append(n.metadata['entity'])\n",
    "\n",
    "df = pd.DataFrame({'chunks':chunks, 'begin':begins, 'end':ends, 'entities':entities})\n",
    "\n",
    "df"
   ]
  },
  {
   "cell_type": "code",
   "execution_count": 0,
   "metadata": {
    "application/vnd.databricks.v1+cell": {
     "cellMetadata": {
      "byteLimit": 2048000,
      "rowLimit": 10000
     },
     "inputWidgets": {},
     "nuid": "a993238f-8f3d-48c2-9c46-a300b82fcdbe",
     "showTitle": false,
     "title": ""
    },
    "colab": {
     "base_uri": "https://localhost:8080/",
     "height": 457
    },
    "executionInfo": {
     "elapsed": 7,
     "status": "ok",
     "timestamp": 1707940630091,
     "user": {
      "displayName": "Akar Öztürk",
      "userId": "07602883577262601067"
     },
     "user_tz": -60
    },
    "id": "2pKbjUxEv9z3",
    "outputId": "eafdca5c-1f66-481c-826c-caf8f8020366"
   },
   "outputs": [
    {
     "output_type": "display_data",
     "data": {
      "text/html": [
       "<div>\n",
       "<style scoped>\n",
       "    .dataframe tbody tr th:only-of-type {\n",
       "        vertical-align: middle;\n",
       "    }\n",
       "\n",
       "    .dataframe tbody tr th {\n",
       "        vertical-align: top;\n",
       "    }\n",
       "\n",
       "    .dataframe thead th {\n",
       "        text-align: right;\n",
       "    }\n",
       "</style>\n",
       "<table border=\"1\" class=\"dataframe\">\n",
       "  <thead>\n",
       "    <tr style=\"text-align: right;\">\n",
       "      <th></th>\n",
       "      <th>chunks</th>\n",
       "      <th>entities</th>\n",
       "      <th>assertion</th>\n",
       "    </tr>\n",
       "  </thead>\n",
       "  <tbody>\n",
       "    <tr>\n",
       "      <th>0</th>\n",
       "      <td>computed tomography</td>\n",
       "      <td>Imaging_Test</td>\n",
       "      <td>Past</td>\n",
       "    </tr>\n",
       "    <tr>\n",
       "      <th>1</th>\n",
       "      <td>CT</td>\n",
       "      <td>Imaging_Test</td>\n",
       "      <td>Past</td>\n",
       "    </tr>\n",
       "    <tr>\n",
       "      <th>2</th>\n",
       "      <td>mass</td>\n",
       "      <td>Tumor_Finding</td>\n",
       "      <td>Present</td>\n",
       "    </tr>\n",
       "    <tr>\n",
       "      <th>3</th>\n",
       "      <td>Pap smear</td>\n",
       "      <td>Pathology_Test</td>\n",
       "      <td>Past</td>\n",
       "    </tr>\n",
       "    <tr>\n",
       "      <th>4</th>\n",
       "      <td>atypical glandular cells</td>\n",
       "      <td>Pathology_Result</td>\n",
       "      <td>Present</td>\n",
       "    </tr>\n",
       "    <tr>\n",
       "      <th>5</th>\n",
       "      <td>adenocarcinoma</td>\n",
       "      <td>Cancer_Dx</td>\n",
       "      <td>Possible</td>\n",
       "    </tr>\n",
       "    <tr>\n",
       "      <th>6</th>\n",
       "      <td>pathologic specimen</td>\n",
       "      <td>Pathology_Test</td>\n",
       "      <td>Past</td>\n",
       "    </tr>\n",
       "    <tr>\n",
       "      <th>7</th>\n",
       "      <td>extension</td>\n",
       "      <td>Invasion</td>\n",
       "      <td>Present</td>\n",
       "    </tr>\n",
       "    <tr>\n",
       "      <th>8</th>\n",
       "      <td>tumor</td>\n",
       "      <td>Tumor_Finding</td>\n",
       "      <td>Present</td>\n",
       "    </tr>\n",
       "    <tr>\n",
       "      <th>9</th>\n",
       "      <td>enlarged</td>\n",
       "      <td>Lymph_Node_Modifier</td>\n",
       "      <td>Present</td>\n",
       "    </tr>\n",
       "    <tr>\n",
       "      <th>10</th>\n",
       "      <td>tumor</td>\n",
       "      <td>Tumor_Finding</td>\n",
       "      <td>Present</td>\n",
       "    </tr>\n",
       "    <tr>\n",
       "      <th>11</th>\n",
       "      <td>papillary serous ovarian adenocarcinoma</td>\n",
       "      <td>Oncological</td>\n",
       "      <td>Present</td>\n",
       "    </tr>\n",
       "    <tr>\n",
       "      <th>12</th>\n",
       "      <td>lung metastases</td>\n",
       "      <td>Oncological</td>\n",
       "      <td>Present</td>\n",
       "    </tr>\n",
       "  </tbody>\n",
       "</table>\n",
       "</div>"
      ]
     },
     "metadata": {
      "application/vnd.databricks.v1+output": {
       "addedWidgets": {},
       "arguments": {},
       "data": "<div>\n<style scoped>\n    .dataframe tbody tr th:only-of-type {\n        vertical-align: middle;\n    }\n\n    .dataframe tbody tr th {\n        vertical-align: top;\n    }\n\n    .dataframe thead th {\n        text-align: right;\n    }\n</style>\n<table border=\"1\" class=\"dataframe\">\n  <thead>\n    <tr style=\"text-align: right;\">\n      <th></th>\n      <th>chunks</th>\n      <th>entities</th>\n      <th>assertion</th>\n    </tr>\n  </thead>\n  <tbody>\n    <tr>\n      <th>0</th>\n      <td>computed tomography</td>\n      <td>Imaging_Test</td>\n      <td>Past</td>\n    </tr>\n    <tr>\n      <th>1</th>\n      <td>CT</td>\n      <td>Imaging_Test</td>\n      <td>Past</td>\n    </tr>\n    <tr>\n      <th>2</th>\n      <td>mass</td>\n      <td>Tumor_Finding</td>\n      <td>Present</td>\n    </tr>\n    <tr>\n      <th>3</th>\n      <td>Pap smear</td>\n      <td>Pathology_Test</td>\n      <td>Past</td>\n    </tr>\n    <tr>\n      <th>4</th>\n      <td>atypical glandular cells</td>\n      <td>Pathology_Result</td>\n      <td>Present</td>\n    </tr>\n    <tr>\n      <th>5</th>\n      <td>adenocarcinoma</td>\n      <td>Cancer_Dx</td>\n      <td>Possible</td>\n    </tr>\n    <tr>\n      <th>6</th>\n      <td>pathologic specimen</td>\n      <td>Pathology_Test</td>\n      <td>Past</td>\n    </tr>\n    <tr>\n      <th>7</th>\n      <td>extension</td>\n      <td>Invasion</td>\n      <td>Present</td>\n    </tr>\n    <tr>\n      <th>8</th>\n      <td>tumor</td>\n      <td>Tumor_Finding</td>\n      <td>Present</td>\n    </tr>\n    <tr>\n      <th>9</th>\n      <td>enlarged</td>\n      <td>Lymph_Node_Modifier</td>\n      <td>Present</td>\n    </tr>\n    <tr>\n      <th>10</th>\n      <td>tumor</td>\n      <td>Tumor_Finding</td>\n      <td>Present</td>\n    </tr>\n    <tr>\n      <th>11</th>\n      <td>papillary serous ovarian adenocarcinoma</td>\n      <td>Oncological</td>\n      <td>Present</td>\n    </tr>\n    <tr>\n      <th>12</th>\n      <td>lung metastases</td>\n      <td>Oncological</td>\n      <td>Present</td>\n    </tr>\n  </tbody>\n</table>\n</div>",
       "datasetInfos": [],
       "metadata": {},
       "removedWidgets": [],
       "textData": null,
       "type": "htmlSandbox"
      }
     },
     "output_type": "display_data"
    }
   ],
   "source": [
    "chunks=[]\n",
    "entities=[]\n",
    "status=[]\n",
    "\n",
    "for n,m in zip(result['merged_chunk_for_assertion'],result['assertion']):\n",
    "\n",
    "    chunks.append(n.result)\n",
    "    entities.append(n.metadata['entity'])\n",
    "    status.append(m.result)\n",
    "\n",
    "df = pd.DataFrame({'chunks':chunks, 'entities':entities, 'assertion':status})\n",
    "\n",
    "df"
   ]
  },
  {
   "cell_type": "code",
   "execution_count": 0,
   "metadata": {
    "application/vnd.databricks.v1+cell": {
     "cellMetadata": {
      "byteLimit": 2048000,
      "rowLimit": 10000
     },
     "inputWidgets": {},
     "nuid": "fd65d559-fbf2-482e-a100-acf45cb61844",
     "showTitle": false,
     "title": ""
    },
    "id": "2OUKeMndIoK3"
   },
   "outputs": [],
   "source": [
    "import pandas as pd\n",
    "\n",
    "def get_relations_df (results, col='relations'):\n",
    "  rel_pairs=[]\n",
    "  for rel in results[0][col]:\n",
    "      rel_pairs.append((\n",
    "          rel.result,\n",
    "          rel.metadata['entity1'],\n",
    "          rel.metadata['entity1_begin'],\n",
    "          rel.metadata['entity1_end'],\n",
    "          rel.metadata['chunk1'],\n",
    "          rel.metadata['entity2'],\n",
    "          rel.metadata['entity2_begin'],\n",
    "          rel.metadata['entity2_end'],\n",
    "          rel.metadata['chunk2'],\n",
    "          rel.metadata['confidence']\n",
    "      ))\n",
    "\n",
    "  rel_df = pd.DataFrame(rel_pairs, columns=['relation','entity1','entity1_begin','entity1_end','chunk1','entity2','entity2_begin','entity2_end','chunk2', 'confidence'])\n",
    "\n",
    "  rel_df.confidence = rel_df.confidence.astype(float)\n",
    "\n",
    "  return rel_df"
   ]
  },
  {
   "cell_type": "code",
   "execution_count": 0,
   "metadata": {
    "application/vnd.databricks.v1+cell": {
     "cellMetadata": {
      "byteLimit": 2048000,
      "rowLimit": 10000
     },
     "inputWidgets": {},
     "nuid": "9314a059-2e59-43e2-afb2-43b802437a3d",
     "showTitle": false,
     "title": ""
    },
    "colab": {
     "base_uri": "https://localhost:8080/",
     "height": 212
    },
    "executionInfo": {
     "elapsed": 2209,
     "status": "ok",
     "timestamp": 1707940632294,
     "user": {
      "displayName": "Akar Öztürk",
      "userId": "07602883577262601067"
     },
     "user_tz": -60
    },
    "id": "VuNbl1nKIpao",
    "outputId": "0570fe82-0c34-47c2-9cb2-a066d4dcac26"
   },
   "outputs": [
    {
     "output_type": "display_data",
     "data": {
      "text/html": [
       "<div>\n",
       "<style scoped>\n",
       "    .dataframe tbody tr th:only-of-type {\n",
       "        vertical-align: middle;\n",
       "    }\n",
       "\n",
       "    .dataframe tbody tr th {\n",
       "        vertical-align: top;\n",
       "    }\n",
       "\n",
       "    .dataframe thead th {\n",
       "        text-align: right;\n",
       "    }\n",
       "</style>\n",
       "<table border=\"1\" class=\"dataframe\">\n",
       "  <thead>\n",
       "    <tr style=\"text-align: right;\">\n",
       "      <th></th>\n",
       "      <th>relation</th>\n",
       "      <th>entity1</th>\n",
       "      <th>entity1_begin</th>\n",
       "      <th>entity1_end</th>\n",
       "      <th>chunk1</th>\n",
       "      <th>entity2</th>\n",
       "      <th>entity2_begin</th>\n",
       "      <th>entity2_end</th>\n",
       "      <th>chunk2</th>\n",
       "      <th>confidence</th>\n",
       "    </tr>\n",
       "  </thead>\n",
       "  <tbody>\n",
       "    <tr>\n",
       "      <th>2</th>\n",
       "      <td>is_location_of</td>\n",
       "      <td>Site_Other_Body_Part</td>\n",
       "      <td>104</td>\n",
       "      <td>110</td>\n",
       "      <td>ovarian</td>\n",
       "      <td>Tumor_Finding</td>\n",
       "      <td>112</td>\n",
       "      <td>115</td>\n",
       "      <td>mass</td>\n",
       "      <td>0.922661</td>\n",
       "    </tr>\n",
       "    <tr>\n",
       "      <th>3</th>\n",
       "      <td>is_finding_of</td>\n",
       "      <td>Pathology_Test</td>\n",
       "      <td>120</td>\n",
       "      <td>128</td>\n",
       "      <td>Pap smear</td>\n",
       "      <td>Cancer_Dx</td>\n",
       "      <td>213</td>\n",
       "      <td>226</td>\n",
       "      <td>adenocarcinoma</td>\n",
       "      <td>0.525421</td>\n",
       "    </tr>\n",
       "    <tr>\n",
       "      <th>4</th>\n",
       "      <td>is_location_of</td>\n",
       "      <td>Tumor_Finding</td>\n",
       "      <td>277</td>\n",
       "      <td>281</td>\n",
       "      <td>tumor</td>\n",
       "      <td>Site_Other_Body_Part</td>\n",
       "      <td>298</td>\n",
       "      <td>312</td>\n",
       "      <td>fallopian tubes</td>\n",
       "      <td>0.902630</td>\n",
       "    </tr>\n",
       "    <tr>\n",
       "      <th>5</th>\n",
       "      <td>is_location_of</td>\n",
       "      <td>Tumor_Finding</td>\n",
       "      <td>277</td>\n",
       "      <td>281</td>\n",
       "      <td>tumor</td>\n",
       "      <td>Site_Other_Body_Part</td>\n",
       "      <td>315</td>\n",
       "      <td>322</td>\n",
       "      <td>appendix</td>\n",
       "      <td>0.664927</td>\n",
       "    </tr>\n",
       "  </tbody>\n",
       "</table>\n",
       "</div>"
      ]
     },
     "metadata": {
      "application/vnd.databricks.v1+output": {
       "addedWidgets": {},
       "arguments": {},
       "data": "<div>\n<style scoped>\n    .dataframe tbody tr th:only-of-type {\n        vertical-align: middle;\n    }\n\n    .dataframe tbody tr th {\n        vertical-align: top;\n    }\n\n    .dataframe thead th {\n        text-align: right;\n    }\n</style>\n<table border=\"1\" class=\"dataframe\">\n  <thead>\n    <tr style=\"text-align: right;\">\n      <th></th>\n      <th>relation</th>\n      <th>entity1</th>\n      <th>entity1_begin</th>\n      <th>entity1_end</th>\n      <th>chunk1</th>\n      <th>entity2</th>\n      <th>entity2_begin</th>\n      <th>entity2_end</th>\n      <th>chunk2</th>\n      <th>confidence</th>\n    </tr>\n  </thead>\n  <tbody>\n    <tr>\n      <th>2</th>\n      <td>is_location_of</td>\n      <td>Site_Other_Body_Part</td>\n      <td>104</td>\n      <td>110</td>\n      <td>ovarian</td>\n      <td>Tumor_Finding</td>\n      <td>112</td>\n      <td>115</td>\n      <td>mass</td>\n      <td>0.922661</td>\n    </tr>\n    <tr>\n      <th>3</th>\n      <td>is_finding_of</td>\n      <td>Pathology_Test</td>\n      <td>120</td>\n      <td>128</td>\n      <td>Pap smear</td>\n      <td>Cancer_Dx</td>\n      <td>213</td>\n      <td>226</td>\n      <td>adenocarcinoma</td>\n      <td>0.525421</td>\n    </tr>\n    <tr>\n      <th>4</th>\n      <td>is_location_of</td>\n      <td>Tumor_Finding</td>\n      <td>277</td>\n      <td>281</td>\n      <td>tumor</td>\n      <td>Site_Other_Body_Part</td>\n      <td>298</td>\n      <td>312</td>\n      <td>fallopian tubes</td>\n      <td>0.902630</td>\n    </tr>\n    <tr>\n      <th>5</th>\n      <td>is_location_of</td>\n      <td>Tumor_Finding</td>\n      <td>277</td>\n      <td>281</td>\n      <td>tumor</td>\n      <td>Site_Other_Body_Part</td>\n      <td>315</td>\n      <td>322</td>\n      <td>appendix</td>\n      <td>0.664927</td>\n    </tr>\n  </tbody>\n</table>\n</div>",
       "datasetInfos": [],
       "metadata": {},
       "removedWidgets": [],
       "textData": null,
       "type": "htmlSandbox"
      }
     },
     "output_type": "display_data"
    }
   ],
   "source": [
    "annotations = ner_pipeline.fullAnnotate(text)\n",
    "\n",
    "rel_df = get_relations_df (annotations, 'all_relations')\n",
    "\n",
    "rel_df[rel_df.relation!=\"O\"]"
   ]
  },
  {
   "cell_type": "code",
   "execution_count": 0,
   "metadata": {
    "application/vnd.databricks.v1+cell": {
     "cellMetadata": {
      "byteLimit": 2048000,
      "rowLimit": 10000
     },
     "inputWidgets": {},
     "nuid": "63a17b65-320c-447f-91ef-9558e0c8c93d",
     "showTitle": false,
     "title": ""
    },
    "colab": {
     "base_uri": "https://localhost:8080/"
    },
    "executionInfo": {
     "elapsed": 9,
     "status": "ok",
     "timestamp": 1707940632295,
     "user": {
      "displayName": "Akar Öztürk",
      "userId": "07602883577262601067"
     },
     "user_tz": -60
    },
    "id": "BloDyf6ZIxY0",
    "outputId": "166b6c46-043d-4233-ed5c-85b1d5d2921a"
   },
   "outputs": [
    {
     "output_type": "stream",
     "name": "stdout",
     "output_type": "stream",
     "text": [
      "Out[32]: [Annotation(category, 61, 115, O, {'chunk2': 'mass', 'confidence': '0.9439166', 'entity2_end': '115', 'chunk1': 'abdomen', 'entity1': 'Site_Other_Body_Part', 'entity2_begin': '112', 'chunk2_confidence': '0.9557', 'entity1_begin': '61', 'sentence': '0', 'direction': 'both', 'entity1_end': '67', 'entity2': 'Tumor_Finding', 'chunk1_confidence': '0.9446'}, []),\n Annotation(category, 73, 115, O, {'chunk2': 'mass', 'confidence': '0.9611397', 'entity2_end': '115', 'chunk1': 'pelvis', 'entity1': 'Site_Other_Body_Part', 'entity2_begin': '112', 'chunk2_confidence': '0.9557', 'entity1_begin': '73', 'sentence': '0', 'direction': 'both', 'entity1_end': '78', 'entity2': 'Tumor_Finding', 'chunk1_confidence': '0.6514'}, []),\n Annotation(category, 104, 115, is_location_of, {'chunk2': 'mass', 'confidence': '0.922661', 'entity2_end': '115', 'chunk1': 'ovarian', 'entity1': 'Site_Other_Body_Part', 'entity2_begin': '112', 'chunk2_confidence': '0.9557', 'entity1_begin': '104', 'sentence': '0', 'direction': 'both', 'entity1_end': '110', 'entity2': 'Tumor_Finding', 'chunk1_confidence': '0.7915'}, []),\n Annotation(category, 120, 226, is_finding_of, {'chunk2': 'adenocarcinoma', 'confidence': '0.52542114', 'entity2_end': '226', 'chunk1': 'Pap smear', 'entity1': 'Pathology_Test', 'entity2_begin': '213', 'chunk2_confidence': '0.9992', 'entity1_begin': '120', 'sentence': '1', 'direction': 'both', 'entity1_end': '128', 'entity2': 'Cancer_Dx', 'chunk1_confidence': '0.96725'}, []),\n Annotation(category, 277, 312, is_location_of, {'chunk2': 'fallopian tubes', 'confidence': '0.9026299', 'entity2_end': '312', 'chunk1': 'tumor', 'entity1': 'Tumor_Finding', 'entity2_begin': '298', 'chunk2_confidence': '0.9492', 'entity1_begin': '277', 'sentence': '2', 'direction': 'both', 'entity1_end': '281', 'entity2': 'Site_Other_Body_Part', 'chunk1_confidence': '0.9077'}, []),\n Annotation(category, 277, 322, is_location_of, {'chunk2': 'appendix', 'confidence': '0.6649267', 'entity2_end': '322', 'chunk1': 'tumor', 'entity1': 'Tumor_Finding', 'entity2_begin': '315', 'chunk2_confidence': '0.9971', 'entity1_begin': '277', 'sentence': '2', 'direction': 'both', 'entity1_end': '281', 'entity2': 'Site_Other_Body_Part', 'chunk1_confidence': '0.9077'}, []),\n Annotation(category, 277, 331, O, {'chunk2': 'omentum', 'confidence': '0.80328876', 'entity2_end': '331', 'chunk1': 'tumor', 'entity1': 'Tumor_Finding', 'entity2_begin': '325', 'chunk2_confidence': '0.9937', 'entity1_begin': '277', 'sentence': '2', 'direction': 'both', 'entity1_end': '281', 'entity2': 'Site_Other_Body_Part', 'chunk1_confidence': '0.9077'}, [])]"
     ]
    }
   ],
   "source": [
    "annotations[0]['all_relations']"
   ]
  },
  {
   "cell_type": "markdown",
   "metadata": {
    "application/vnd.databricks.v1+cell": {
     "cellMetadata": {},
     "inputWidgets": {},
     "nuid": "f6e3e9ea-125c-4268-ae92-658f0b868bf0",
     "showTitle": false,
     "title": ""
    },
    "id": "TFBWJmXlMue8"
   },
   "source": [
    "### explain_clinical_doc_ade\n",
    "\n",
    "A pipeline for `Adverse Drug Events (ADE)` with `ner_ade_healthcare`, and `classifierdl_ade_biobert`. It will extract `ADE` and `DRUG` clinical entities, and then assign ADE status to a text(`True` means ADE, `False` means not related to ADE). Also extracts relations between `DRUG` and `ADE` entities (`1` means the adverse event and drug entities are related, `0` is not related)."
   ]
  },
  {
   "cell_type": "code",
   "execution_count": 0,
   "metadata": {
    "application/vnd.databricks.v1+cell": {
     "cellMetadata": {
      "byteLimit": 2048000,
      "rowLimit": 10000
     },
     "inputWidgets": {},
     "nuid": "d519d312-193d-4eb0-a01c-77ed878c3ac3",
     "showTitle": false,
     "title": ""
    },
    "colab": {
     "base_uri": "https://localhost:8080/"
    },
    "executionInfo": {
     "elapsed": 72454,
     "status": "ok",
     "timestamp": 1707940704744,
     "user": {
      "displayName": "Akar Öztürk",
      "userId": "07602883577262601067"
     },
     "user_tz": -60
    },
    "id": "oYaFInzXM0Gw",
    "outputId": "a2274532-1fb5-400b-e7e6-390b21e0fab1"
   },
   "outputs": [
    {
     "output_type": "stream",
     "name": "stdout",
     "output_type": "stream",
     "text": [
      "explain_clinical_doc_ade download started this may take some time.\nApprox size to download 462.6 MB\n\r[ | ]\r[ / ]\r[ — ]\r[ \\ ]\r[ | ]\r[ / ]\r[ — ]\r[ \\ ]\r[ | ]\r[ / ]\r[ — ]\r[ \\ ]\r[ | ]\r[ / ]\r[ — ]\r[ \\ ]\r[ | ]\r[ / ]\r[ — ]\r[ \\ ]\r[ | ]\r[ / ]\r[ — ]\r[ \\ ]\r[ | ]\r[ / ]\r[ — ]\r[ \\ ]\r[ | ]\r[ / ]\r[OK!]\n"
     ]
    }
   ],
   "source": [
    "ade_pipeline = nlp.PretrainedPipeline('explain_clinical_doc_ade', 'en', 'clinical/models')"
   ]
  },
  {
   "cell_type": "code",
   "execution_count": 0,
   "metadata": {
    "application/vnd.databricks.v1+cell": {
     "cellMetadata": {
      "byteLimit": 2048000,
      "rowLimit": 10000
     },
     "inputWidgets": {},
     "nuid": "f289b32d-1cbd-4d60-883d-0cd1f8df6c8a",
     "showTitle": false,
     "title": ""
    },
    "colab": {
     "base_uri": "https://localhost:8080/"
    },
    "executionInfo": {
     "elapsed": 1276,
     "status": "ok",
     "timestamp": 1707940706009,
     "user": {
      "displayName": "Akar Öztürk",
      "userId": "07602883577262601067"
     },
     "user_tz": -60
    },
    "id": "D4MaO6YIsbS5",
    "outputId": "8bc9ae30-7ed8-4968-d9be-f862ee86fad1"
   },
   "outputs": [
    {
     "output_type": "stream",
     "name": "stdout",
     "output_type": "stream",
     "text": [
      "Out[34]: dict_keys(['bert_sentence_embeddings', 'bert_embeddings', 'document', 'ner_chunks_ade_assertion', 'ner_tags_ade', 'relations_ade_drug', 'ner_chunks_ade', 'assertion_ade', 'tokens', 'class', 'pos_tags', 'dependencies'])"
     ]
    }
   ],
   "source": [
    "result = ade_pipeline.fullAnnotate(\"The main adverse effects of Leflunomide consist of diarrhea, nausea, liver enzyme elevation, hypertension, alopecia, and allergic skin reactions.\")\n",
    "\n",
    "result[0].keys()"
   ]
  },
  {
   "cell_type": "code",
   "execution_count": 0,
   "metadata": {
    "application/vnd.databricks.v1+cell": {
     "cellMetadata": {
      "byteLimit": 2048000,
      "rowLimit": 10000
     },
     "inputWidgets": {},
     "nuid": "d15469d5-f733-4c37-9121-c7b77befe2cd",
     "showTitle": false,
     "title": ""
    },
    "colab": {
     "base_uri": "https://localhost:8080/"
    },
    "executionInfo": {
     "elapsed": 4,
     "status": "ok",
     "timestamp": 1707940706010,
     "user": {
      "displayName": "Akar Öztürk",
      "userId": "07602883577262601067"
     },
     "user_tz": -60
    },
    "id": "ACvoR5uZfV1x",
    "outputId": "79592e83-e12d-4545-e012-5b0d8d8f5724"
   },
   "outputs": [
    {
     "output_type": "stream",
     "name": "stdout",
     "output_type": "stream",
     "text": [
      "Out[35]: {'sentence': '0', 'False': '0.0033158988', 'True': '0.99668413'}"
     ]
    }
   ],
   "source": [
    "result[0]['class'][0].metadata"
   ]
  },
  {
   "cell_type": "markdown",
   "metadata": {
    "application/vnd.databricks.v1+cell": {
     "cellMetadata": {},
     "inputWidgets": {},
     "nuid": "f87d67b8-0423-4df0-894b-ecf93c31736d",
     "showTitle": false,
     "title": ""
    },
    "id": "o4BI8cgvfZpD"
   },
   "source": [
    "**NER Results**"
   ]
  },
  {
   "cell_type": "code",
   "execution_count": 0,
   "metadata": {
    "application/vnd.databricks.v1+cell": {
     "cellMetadata": {
      "byteLimit": 2048000,
      "rowLimit": 10000
     },
     "inputWidgets": {},
     "nuid": "c868db95-bfbd-4042-a4f0-4eb1a9e35040",
     "showTitle": false,
     "title": ""
    },
    "colab": {
     "base_uri": "https://localhost:8080/",
     "height": 261
    },
    "executionInfo": {
     "elapsed": 1061,
     "status": "ok",
     "timestamp": 1707940707069,
     "user": {
      "displayName": "Akar Öztürk",
      "userId": "07602883577262601067"
     },
     "user_tz": -60
    },
    "id": "uiZWyLFuum9g",
    "outputId": "ed497e24-a645-4e7d-8e38-03deb96bbec1"
   },
   "outputs": [
    {
     "output_type": "stream",
     "name": "stdout",
     "output_type": "stream",
     "text": [
      "sentence: Been taking Lipitor for 15 years , have experienced severe fatigue a lot!!! .\nDoctor moved me to voltaren 2 months ago , so far , have only experienced cramps\n\nADE status: True\nprediction probability>> True :  0.9968352 False:  0.0031648325\n"
     ]
    },
    {
     "output_type": "display_data",
     "data": {
      "text/html": [
       "<div>\n",
       "<style scoped>\n",
       "    .dataframe tbody tr th:only-of-type {\n",
       "        vertical-align: middle;\n",
       "    }\n",
       "\n",
       "    .dataframe tbody tr th {\n",
       "        vertical-align: top;\n",
       "    }\n",
       "\n",
       "    .dataframe thead th {\n",
       "        text-align: right;\n",
       "    }\n",
       "</style>\n",
       "<table border=\"1\" class=\"dataframe\">\n",
       "  <thead>\n",
       "    <tr style=\"text-align: right;\">\n",
       "      <th></th>\n",
       "      <th>chunks</th>\n",
       "      <th>entities</th>\n",
       "      <th>begin</th>\n",
       "      <th>end</th>\n",
       "    </tr>\n",
       "  </thead>\n",
       "  <tbody>\n",
       "    <tr>\n",
       "      <th>0</th>\n",
       "      <td>Lipitor</td>\n",
       "      <td>DRUG</td>\n",
       "      <td>12</td>\n",
       "      <td>18</td>\n",
       "    </tr>\n",
       "    <tr>\n",
       "      <th>1</th>\n",
       "      <td>severe fatigue</td>\n",
       "      <td>ADE</td>\n",
       "      <td>52</td>\n",
       "      <td>65</td>\n",
       "    </tr>\n",
       "    <tr>\n",
       "      <th>2</th>\n",
       "      <td>voltaren</td>\n",
       "      <td>DRUG</td>\n",
       "      <td>97</td>\n",
       "      <td>104</td>\n",
       "    </tr>\n",
       "    <tr>\n",
       "      <th>3</th>\n",
       "      <td>cramps</td>\n",
       "      <td>ADE</td>\n",
       "      <td>152</td>\n",
       "      <td>157</td>\n",
       "    </tr>\n",
       "  </tbody>\n",
       "</table>\n",
       "</div>"
      ]
     },
     "metadata": {
      "application/vnd.databricks.v1+output": {
       "addedWidgets": {},
       "arguments": {},
       "data": "<div>\n<style scoped>\n    .dataframe tbody tr th:only-of-type {\n        vertical-align: middle;\n    }\n\n    .dataframe tbody tr th {\n        vertical-align: top;\n    }\n\n    .dataframe thead th {\n        text-align: right;\n    }\n</style>\n<table border=\"1\" class=\"dataframe\">\n  <thead>\n    <tr style=\"text-align: right;\">\n      <th></th>\n      <th>chunks</th>\n      <th>entities</th>\n      <th>begin</th>\n      <th>end</th>\n    </tr>\n  </thead>\n  <tbody>\n    <tr>\n      <th>0</th>\n      <td>Lipitor</td>\n      <td>DRUG</td>\n      <td>12</td>\n      <td>18</td>\n    </tr>\n    <tr>\n      <th>1</th>\n      <td>severe fatigue</td>\n      <td>ADE</td>\n      <td>52</td>\n      <td>65</td>\n    </tr>\n    <tr>\n      <th>2</th>\n      <td>voltaren</td>\n      <td>DRUG</td>\n      <td>97</td>\n      <td>104</td>\n    </tr>\n    <tr>\n      <th>3</th>\n      <td>cramps</td>\n      <td>ADE</td>\n      <td>152</td>\n      <td>157</td>\n    </tr>\n  </tbody>\n</table>\n</div>",
       "datasetInfos": [],
       "metadata": {},
       "removedWidgets": [],
       "textData": null,
       "type": "htmlSandbox"
      }
     },
     "output_type": "display_data"
    }
   ],
   "source": [
    "text = \"\"\"Been taking Lipitor for 15 years , have experienced severe fatigue a lot!!! .\n",
    "Doctor moved me to voltaren 2 months ago , so far , have only experienced cramps\"\"\"\n",
    "\n",
    "import pandas as pd\n",
    "\n",
    "chunks = []\n",
    "entities = []\n",
    "begin =[]\n",
    "end = []\n",
    "\n",
    "print ('sentence:', text)\n",
    "print()\n",
    "\n",
    "result = ade_pipeline.fullAnnotate(text)\n",
    "\n",
    "print ('ADE status:', result[0]['class'][0].result)\n",
    "\n",
    "print ('prediction probability>> True : ', result[0]['class'][0].metadata['True'], \\\n",
    "        'False: ', result[0]['class'][0].metadata['False'])\n",
    "\n",
    "for n in result[0]['ner_chunks_ade']:\n",
    "\n",
    "    begin.append(n.begin)\n",
    "    end.append(n.end)\n",
    "    chunks.append(n.result)\n",
    "    entities.append(n.metadata['entity'])\n",
    "\n",
    "df = pd.DataFrame({'chunks':chunks, 'entities':entities,\n",
    "                'begin': begin, 'end': end})\n",
    "\n",
    "df\n"
   ]
  },
  {
   "cell_type": "markdown",
   "metadata": {
    "application/vnd.databricks.v1+cell": {
     "cellMetadata": {},
     "inputWidgets": {},
     "nuid": "3fc326a9-ec8a-4d9a-a3dd-b3f17280b9d4",
     "showTitle": false,
     "title": ""
    },
    "id": "u3ZaUbUkiF77"
   },
   "source": [
    "**Assertion Status Results**"
   ]
  },
  {
   "cell_type": "code",
   "execution_count": 0,
   "metadata": {
    "application/vnd.databricks.v1+cell": {
     "cellMetadata": {
      "byteLimit": 2048000,
      "rowLimit": 10000
     },
     "inputWidgets": {},
     "nuid": "207ab9de-a944-463f-b9b8-7ad51665a2e7",
     "showTitle": false,
     "title": ""
    },
    "colab": {
     "base_uri": "https://localhost:8080/",
     "height": 147
    },
    "executionInfo": {
     "elapsed": 589,
     "status": "ok",
     "timestamp": 1707940707653,
     "user": {
      "displayName": "Akar Öztürk",
      "userId": "07602883577262601067"
     },
     "user_tz": -60
    },
    "id": "P9UcxSIBg9C-",
    "outputId": "9568cb4f-4a1c-476e-8d5e-a78c30569f20"
   },
   "outputs": [
    {
     "output_type": "stream",
     "name": "stdout",
     "output_type": "stream",
     "text": [
      "Been taking Lipitor for 15 years , have experienced severe fatigue a lot!!! .\nDoctor moved me to voltaren 2 months ago , so far , have only experienced cramps\n"
     ]
    },
    {
     "output_type": "display_data",
     "data": {
      "text/html": [
       "<div>\n",
       "<style scoped>\n",
       "    .dataframe tbody tr th:only-of-type {\n",
       "        vertical-align: middle;\n",
       "    }\n",
       "\n",
       "    .dataframe tbody tr th {\n",
       "        vertical-align: top;\n",
       "    }\n",
       "\n",
       "    .dataframe thead th {\n",
       "        text-align: right;\n",
       "    }\n",
       "</style>\n",
       "<table border=\"1\" class=\"dataframe\">\n",
       "  <thead>\n",
       "    <tr style=\"text-align: right;\">\n",
       "      <th></th>\n",
       "      <th>chunks</th>\n",
       "      <th>entities</th>\n",
       "      <th>assertion</th>\n",
       "    </tr>\n",
       "  </thead>\n",
       "  <tbody>\n",
       "    <tr>\n",
       "      <th>0</th>\n",
       "      <td>severe fatigue</td>\n",
       "      <td>ADE</td>\n",
       "      <td>conditional</td>\n",
       "    </tr>\n",
       "    <tr>\n",
       "      <th>1</th>\n",
       "      <td>cramps</td>\n",
       "      <td>ADE</td>\n",
       "      <td>present</td>\n",
       "    </tr>\n",
       "  </tbody>\n",
       "</table>\n",
       "</div>"
      ]
     },
     "metadata": {
      "application/vnd.databricks.v1+output": {
       "addedWidgets": {},
       "arguments": {},
       "data": "<div>\n<style scoped>\n    .dataframe tbody tr th:only-of-type {\n        vertical-align: middle;\n    }\n\n    .dataframe tbody tr th {\n        vertical-align: top;\n    }\n\n    .dataframe thead th {\n        text-align: right;\n    }\n</style>\n<table border=\"1\" class=\"dataframe\">\n  <thead>\n    <tr style=\"text-align: right;\">\n      <th></th>\n      <th>chunks</th>\n      <th>entities</th>\n      <th>assertion</th>\n    </tr>\n  </thead>\n  <tbody>\n    <tr>\n      <th>0</th>\n      <td>severe fatigue</td>\n      <td>ADE</td>\n      <td>conditional</td>\n    </tr>\n    <tr>\n      <th>1</th>\n      <td>cramps</td>\n      <td>ADE</td>\n      <td>present</td>\n    </tr>\n  </tbody>\n</table>\n</div>",
       "datasetInfos": [],
       "metadata": {},
       "removedWidgets": [],
       "textData": null,
       "type": "htmlSandbox"
      }
     },
     "output_type": "display_data"
    }
   ],
   "source": [
    "import pandas as pd\n",
    "\n",
    "text = \"\"\"Been taking Lipitor for 15 years , have experienced severe fatigue a lot!!! .\n",
    "Doctor moved me to voltaren 2 months ago , so far , have only experienced cramps\"\"\"\n",
    "\n",
    "print (text)\n",
    "\n",
    "light_result = ade_pipeline.fullAnnotate(text)[0]\n",
    "\n",
    "chunks=[]\n",
    "entities=[]\n",
    "status=[]\n",
    "\n",
    "for n,m in zip(light_result['ner_chunks_ade_assertion'],light_result['assertion_ade']):\n",
    "\n",
    "    chunks.append(n.result)\n",
    "    entities.append(n.metadata['entity'])\n",
    "    status.append(m.result)\n",
    "\n",
    "df = pd.DataFrame({'chunks':chunks, 'entities':entities, 'assertion':status})\n",
    "\n",
    "df"
   ]
  },
  {
   "cell_type": "markdown",
   "metadata": {
    "application/vnd.databricks.v1+cell": {
     "cellMetadata": {},
     "inputWidgets": {},
     "nuid": "5d6e9ca4-ff55-4969-b2c6-0ec57c5d4bb9",
     "showTitle": false,
     "title": ""
    },
    "id": "GhzptcbPvtbw"
   },
   "source": [
    "**Relation Extraction Results**"
   ]
  },
  {
   "cell_type": "code",
   "execution_count": 0,
   "metadata": {
    "application/vnd.databricks.v1+cell": {
     "cellMetadata": {
      "byteLimit": 2048000,
      "rowLimit": 10000
     },
     "inputWidgets": {},
     "nuid": "44d33b0c-7a72-4953-9d76-e8e9712fe7d9",
     "showTitle": false,
     "title": ""
    },
    "colab": {
     "base_uri": "https://localhost:8080/",
     "height": 261
    },
    "executionInfo": {
     "elapsed": 7,
     "status": "ok",
     "timestamp": 1707940707654,
     "user": {
      "displayName": "Akar Öztürk",
      "userId": "07602883577262601067"
     },
     "user_tz": -60
    },
    "id": "FFb1mhTmwEJB",
    "outputId": "762f1f30-3ffd-49cb-b777-8203e4d51ac5"
   },
   "outputs": [
    {
     "output_type": "stream",
     "name": "stdout",
     "output_type": "stream",
     "text": [
      "Been taking Lipitor for 15 years , have experienced severe fatigue a lot!!! .\nDoctor moved me to voltaren 2 months ago , so far , have only experienced cramps\n\n"
     ]
    },
    {
     "output_type": "display_data",
     "data": {
      "text/html": [
       "<div>\n",
       "<style scoped>\n",
       "    .dataframe tbody tr th:only-of-type {\n",
       "        vertical-align: middle;\n",
       "    }\n",
       "\n",
       "    .dataframe tbody tr th {\n",
       "        vertical-align: top;\n",
       "    }\n",
       "\n",
       "    .dataframe thead th {\n",
       "        text-align: right;\n",
       "    }\n",
       "</style>\n",
       "<table border=\"1\" class=\"dataframe\">\n",
       "  <thead>\n",
       "    <tr style=\"text-align: right;\">\n",
       "      <th></th>\n",
       "      <th>relation</th>\n",
       "      <th>entity1</th>\n",
       "      <th>entity1_begin</th>\n",
       "      <th>entity1_end</th>\n",
       "      <th>chunk1</th>\n",
       "      <th>entity2</th>\n",
       "      <th>entity2_begin</th>\n",
       "      <th>entity2_end</th>\n",
       "      <th>chunk2</th>\n",
       "      <th>confidence</th>\n",
       "    </tr>\n",
       "  </thead>\n",
       "  <tbody>\n",
       "    <tr>\n",
       "      <th>0</th>\n",
       "      <td>1</td>\n",
       "      <td>DRUG</td>\n",
       "      <td>12</td>\n",
       "      <td>18</td>\n",
       "      <td>Lipitor</td>\n",
       "      <td>ADE</td>\n",
       "      <td>52</td>\n",
       "      <td>65</td>\n",
       "      <td>severe fatigue</td>\n",
       "      <td>1.0</td>\n",
       "    </tr>\n",
       "    <tr>\n",
       "      <th>1</th>\n",
       "      <td>1</td>\n",
       "      <td>DRUG</td>\n",
       "      <td>12</td>\n",
       "      <td>18</td>\n",
       "      <td>Lipitor</td>\n",
       "      <td>ADE</td>\n",
       "      <td>152</td>\n",
       "      <td>157</td>\n",
       "      <td>cramps</td>\n",
       "      <td>1.0</td>\n",
       "    </tr>\n",
       "    <tr>\n",
       "      <th>2</th>\n",
       "      <td>0</td>\n",
       "      <td>ADE</td>\n",
       "      <td>52</td>\n",
       "      <td>65</td>\n",
       "      <td>severe fatigue</td>\n",
       "      <td>DRUG</td>\n",
       "      <td>97</td>\n",
       "      <td>104</td>\n",
       "      <td>voltaren</td>\n",
       "      <td>0.5006272</td>\n",
       "    </tr>\n",
       "    <tr>\n",
       "      <th>3</th>\n",
       "      <td>1</td>\n",
       "      <td>DRUG</td>\n",
       "      <td>97</td>\n",
       "      <td>104</td>\n",
       "      <td>voltaren</td>\n",
       "      <td>ADE</td>\n",
       "      <td>152</td>\n",
       "      <td>157</td>\n",
       "      <td>cramps</td>\n",
       "      <td>0.99999857</td>\n",
       "    </tr>\n",
       "  </tbody>\n",
       "</table>\n",
       "</div>"
      ]
     },
     "metadata": {
      "application/vnd.databricks.v1+output": {
       "addedWidgets": {},
       "arguments": {},
       "data": "<div>\n<style scoped>\n    .dataframe tbody tr th:only-of-type {\n        vertical-align: middle;\n    }\n\n    .dataframe tbody tr th {\n        vertical-align: top;\n    }\n\n    .dataframe thead th {\n        text-align: right;\n    }\n</style>\n<table border=\"1\" class=\"dataframe\">\n  <thead>\n    <tr style=\"text-align: right;\">\n      <th></th>\n      <th>relation</th>\n      <th>entity1</th>\n      <th>entity1_begin</th>\n      <th>entity1_end</th>\n      <th>chunk1</th>\n      <th>entity2</th>\n      <th>entity2_begin</th>\n      <th>entity2_end</th>\n      <th>chunk2</th>\n      <th>confidence</th>\n    </tr>\n  </thead>\n  <tbody>\n    <tr>\n      <th>0</th>\n      <td>1</td>\n      <td>DRUG</td>\n      <td>12</td>\n      <td>18</td>\n      <td>Lipitor</td>\n      <td>ADE</td>\n      <td>52</td>\n      <td>65</td>\n      <td>severe fatigue</td>\n      <td>1.0</td>\n    </tr>\n    <tr>\n      <th>1</th>\n      <td>1</td>\n      <td>DRUG</td>\n      <td>12</td>\n      <td>18</td>\n      <td>Lipitor</td>\n      <td>ADE</td>\n      <td>152</td>\n      <td>157</td>\n      <td>cramps</td>\n      <td>1.0</td>\n    </tr>\n    <tr>\n      <th>2</th>\n      <td>0</td>\n      <td>ADE</td>\n      <td>52</td>\n      <td>65</td>\n      <td>severe fatigue</td>\n      <td>DRUG</td>\n      <td>97</td>\n      <td>104</td>\n      <td>voltaren</td>\n      <td>0.5006272</td>\n    </tr>\n    <tr>\n      <th>3</th>\n      <td>1</td>\n      <td>DRUG</td>\n      <td>97</td>\n      <td>104</td>\n      <td>voltaren</td>\n      <td>ADE</td>\n      <td>152</td>\n      <td>157</td>\n      <td>cramps</td>\n      <td>0.99999857</td>\n    </tr>\n  </tbody>\n</table>\n</div>",
       "datasetInfos": [],
       "metadata": {},
       "removedWidgets": [],
       "textData": null,
       "type": "htmlSandbox"
      }
     },
     "output_type": "display_data"
    }
   ],
   "source": [
    "import pandas as pd\n",
    "\n",
    "text = \"\"\"Been taking Lipitor for 15 years , have experienced severe fatigue a lot!!! .\n",
    "Doctor moved me to voltaren 2 months ago , so far , have only experienced cramps\n",
    "\"\"\"\n",
    "\n",
    "print (text)\n",
    "\n",
    "results = ade_pipeline.fullAnnotate(text)\n",
    "\n",
    "rel_pairs=[]\n",
    "\n",
    "for rel in results[0][\"relations_ade_drug\"]:\n",
    "    rel_pairs.append((\n",
    "        rel.result,\n",
    "        rel.metadata['entity1'],\n",
    "        rel.metadata['entity1_begin'],\n",
    "        rel.metadata['entity1_end'],\n",
    "        rel.metadata['chunk1'],\n",
    "        rel.metadata['entity2'],\n",
    "        rel.metadata['entity2_begin'],\n",
    "        rel.metadata['entity2_end'],\n",
    "        rel.metadata['chunk2'],\n",
    "        rel.metadata['confidence']\n",
    "    ))\n",
    "\n",
    "rel_df = pd.DataFrame(rel_pairs, columns=['relation','entity1','entity1_begin','entity1_end','chunk1','entity2','entity2_begin','entity2_end','chunk2', 'confidence'])\n",
    "rel_df"
   ]
  },
  {
   "cell_type": "markdown",
   "metadata": {
    "application/vnd.databricks.v1+cell": {
     "cellMetadata": {},
     "inputWidgets": {},
     "nuid": "f943f03a-2cce-4237-93ac-781a0e402a6a",
     "showTitle": false,
     "title": ""
    },
    "id": "dbws3XaBhGnJ"
   },
   "source": [
    "### exlain_clinical_doc_medication\n",
    "\n",
    "> A pipeline for detecting posology entities with the `ner_posology_large` NER model, assigning their assertion status with `assertion_jsl` model, and extracting relations between posology-related terminology with `posology_re` relation extraction model."
   ]
  },
  {
   "cell_type": "code",
   "execution_count": 0,
   "metadata": {
    "application/vnd.databricks.v1+cell": {
     "cellMetadata": {
      "byteLimit": 2048000,
      "rowLimit": 10000
     },
     "inputWidgets": {},
     "nuid": "a8603a15-01b2-48aa-94ae-29647bf14ce8",
     "showTitle": false,
     "title": ""
    },
    "colab": {
     "base_uri": "https://localhost:8080/"
    },
    "executionInfo": {
     "elapsed": 167836,
     "status": "ok",
     "timestamp": 1707940875485,
     "user": {
      "displayName": "Akar Öztürk",
      "userId": "07602883577262601067"
     },
     "user_tz": -60
    },
    "id": "8TS6khzVh3RK",
    "outputId": "69a9d17c-bcd5-4fd9-de4b-2eb4f084d183"
   },
   "outputs": [
    {
     "output_type": "stream",
     "name": "stdout",
     "output_type": "stream",
     "text": [
      "explain_clinical_doc_medication download started this may take some time.\nApprox size to download 1.6 GB\n\r[ | ]\r[ / ]\r[ — ]\r[ \\ ]\r[ | ]\r[ / ]\r[ — ]\r[ \\ ]\r[ | ]\r[ / ]\r[ — ]\r[ \\ ]\r[ | ]\r[ / ]\r[OK!]\n"
     ]
    }
   ],
   "source": [
    "medication_pipeline = nlp.PretrainedPipeline('explain_clinical_doc_medication', 'en', 'clinical/models')"
   ]
  },
  {
   "cell_type": "code",
   "execution_count": 0,
   "metadata": {
    "application/vnd.databricks.v1+cell": {
     "cellMetadata": {
      "byteLimit": 2048000,
      "rowLimit": 10000
     },
     "inputWidgets": {},
     "nuid": "59552d46-4179-4f64-820d-78e3a28ade71",
     "showTitle": false,
     "title": ""
    },
    "colab": {
     "base_uri": "https://localhost:8080/"
    },
    "executionInfo": {
     "elapsed": 12,
     "status": "ok",
     "timestamp": 1707940875485,
     "user": {
      "displayName": "Akar Öztürk",
      "userId": "07602883577262601067"
     },
     "user_tz": -60
    },
    "id": "YRH9Jz-nh6X1",
    "outputId": "44c8c286-4249-4f06-f470-a29ef35e67d4"
   },
   "outputs": [
    {
     "output_type": "stream",
     "name": "stdout",
     "output_type": "stream",
     "text": [
      "Out[40]: [DocumentAssembler_5b6b25ae3a32,\n SentenceDetectorDLModel_6bafc4746ea5,\n REGEX_TOKENIZER_0e175752e8cf,\n WORD_EMBEDDINGS_MODEL_9004b1d00302,\n MedicalNerModel_5e6f59103f25,\n NER_CONVERTER_c6fab90a28d5,\n NER_CONVERTER_3b6a5b14db49,\n ASSERTION_DL_e5e007602386,\n POS_6f55785005bf,\n dependency_e7755462ba78,\n PosologyREModel_d7fe3a9e8310]"
     ]
    }
   ],
   "source": [
    "medication_pipeline.model.stages"
   ]
  },
  {
   "cell_type": "code",
   "execution_count": 0,
   "metadata": {
    "application/vnd.databricks.v1+cell": {
     "cellMetadata": {
      "byteLimit": 2048000,
      "rowLimit": 10000
     },
     "inputWidgets": {},
     "nuid": "7a8f34f3-2abd-4107-bc06-8171e0954687",
     "showTitle": false,
     "title": ""
    },
    "id": "UbKdDN71xUfm"
   },
   "outputs": [],
   "source": [
    "text = \"\"\"The patient is a 30-year-old female with a long history of insulin dependent diabetes, type 2. She received a course of Bactrim for 14 days for UTI.\n",
    "She was prescribed 5000 units of Fragmin  subcutaneously daily, and along with Lantus 40 units subcutaneously at bedtime.\"\"\"\n",
    "\n",
    "result = medication_pipeline.fullAnnotate(text)[0]"
   ]
  },
  {
   "cell_type": "code",
   "execution_count": 0,
   "metadata": {
    "application/vnd.databricks.v1+cell": {
     "cellMetadata": {
      "byteLimit": 2048000,
      "rowLimit": 10000
     },
     "inputWidgets": {},
     "nuid": "14919fc3-f653-404d-9c1c-3da36602fced",
     "showTitle": false,
     "title": ""
    },
    "colab": {
     "base_uri": "https://localhost:8080/"
    },
    "executionInfo": {
     "elapsed": 9,
     "status": "ok",
     "timestamp": 1707940876521,
     "user": {
      "displayName": "Akar Öztürk",
      "userId": "07602883577262601067"
     },
     "user_tz": -60
    },
    "id": "8k-1smiK1RyQ",
    "outputId": "a80fa33f-8bc5-4a01-ad91-52068a408b55"
   },
   "outputs": [
    {
     "output_type": "stream",
     "name": "stdout",
     "output_type": "stream",
     "text": [
      "Out[42]: dict_keys(['assertion_ner_chunk', 'document', 'assertion', 'ner_posology_chunk', 'token', 'relations', 'embeddings_clinical', 'pos_tags', 'dependencies', 'ner_posology', 'sentence'])"
     ]
    }
   ],
   "source": [
    "result.keys()"
   ]
  },
  {
   "cell_type": "code",
   "execution_count": 0,
   "metadata": {
    "application/vnd.databricks.v1+cell": {
     "cellMetadata": {
      "byteLimit": 2048000,
      "rowLimit": 10000
     },
     "inputWidgets": {},
     "nuid": "5db96905-5a5b-42a2-be68-f5b6cc662e67",
     "showTitle": false,
     "title": ""
    },
    "colab": {
     "base_uri": "https://localhost:8080/",
     "height": 394
    },
    "executionInfo": {
     "elapsed": 8,
     "status": "ok",
     "timestamp": 1707940876521,
     "user": {
      "displayName": "Akar Öztürk",
      "userId": "07602883577262601067"
     },
     "user_tz": -60
    },
    "id": "nzoBvABV1c_F",
    "outputId": "7ef945c8-0f85-4f12-8dab-4759a21c75d9"
   },
   "outputs": [
    {
     "output_type": "display_data",
     "data": {
      "text/html": [
       "<div>\n",
       "<style scoped>\n",
       "    .dataframe tbody tr th:only-of-type {\n",
       "        vertical-align: middle;\n",
       "    }\n",
       "\n",
       "    .dataframe tbody tr th {\n",
       "        vertical-align: top;\n",
       "    }\n",
       "\n",
       "    .dataframe thead th {\n",
       "        text-align: right;\n",
       "    }\n",
       "</style>\n",
       "<table border=\"1\" class=\"dataframe\">\n",
       "  <thead>\n",
       "    <tr style=\"text-align: right;\">\n",
       "      <th></th>\n",
       "      <th>chunks</th>\n",
       "      <th>begin</th>\n",
       "      <th>end</th>\n",
       "      <th>entities</th>\n",
       "    </tr>\n",
       "  </thead>\n",
       "  <tbody>\n",
       "    <tr>\n",
       "      <th>0</th>\n",
       "      <td>insulin</td>\n",
       "      <td>59</td>\n",
       "      <td>65</td>\n",
       "      <td>DRUG</td>\n",
       "    </tr>\n",
       "    <tr>\n",
       "      <th>1</th>\n",
       "      <td>Bactrim</td>\n",
       "      <td>120</td>\n",
       "      <td>126</td>\n",
       "      <td>DRUG</td>\n",
       "    </tr>\n",
       "    <tr>\n",
       "      <th>2</th>\n",
       "      <td>for 14 days</td>\n",
       "      <td>128</td>\n",
       "      <td>138</td>\n",
       "      <td>DURATION</td>\n",
       "    </tr>\n",
       "    <tr>\n",
       "      <th>3</th>\n",
       "      <td>5000 units</td>\n",
       "      <td>168</td>\n",
       "      <td>177</td>\n",
       "      <td>DOSAGE</td>\n",
       "    </tr>\n",
       "    <tr>\n",
       "      <th>4</th>\n",
       "      <td>Fragmin</td>\n",
       "      <td>182</td>\n",
       "      <td>188</td>\n",
       "      <td>DRUG</td>\n",
       "    </tr>\n",
       "    <tr>\n",
       "      <th>5</th>\n",
       "      <td>subcutaneously</td>\n",
       "      <td>191</td>\n",
       "      <td>204</td>\n",
       "      <td>ROUTE</td>\n",
       "    </tr>\n",
       "    <tr>\n",
       "      <th>6</th>\n",
       "      <td>daily</td>\n",
       "      <td>206</td>\n",
       "      <td>210</td>\n",
       "      <td>FREQUENCY</td>\n",
       "    </tr>\n",
       "    <tr>\n",
       "      <th>7</th>\n",
       "      <td>Lantus</td>\n",
       "      <td>228</td>\n",
       "      <td>233</td>\n",
       "      <td>DRUG</td>\n",
       "    </tr>\n",
       "    <tr>\n",
       "      <th>8</th>\n",
       "      <td>40 units</td>\n",
       "      <td>235</td>\n",
       "      <td>242</td>\n",
       "      <td>DOSAGE</td>\n",
       "    </tr>\n",
       "    <tr>\n",
       "      <th>9</th>\n",
       "      <td>subcutaneously</td>\n",
       "      <td>244</td>\n",
       "      <td>257</td>\n",
       "      <td>ROUTE</td>\n",
       "    </tr>\n",
       "    <tr>\n",
       "      <th>10</th>\n",
       "      <td>at bedtime</td>\n",
       "      <td>259</td>\n",
       "      <td>268</td>\n",
       "      <td>FREQUENCY</td>\n",
       "    </tr>\n",
       "  </tbody>\n",
       "</table>\n",
       "</div>"
      ]
     },
     "metadata": {
      "application/vnd.databricks.v1+output": {
       "addedWidgets": {},
       "arguments": {},
       "data": "<div>\n<style scoped>\n    .dataframe tbody tr th:only-of-type {\n        vertical-align: middle;\n    }\n\n    .dataframe tbody tr th {\n        vertical-align: top;\n    }\n\n    .dataframe thead th {\n        text-align: right;\n    }\n</style>\n<table border=\"1\" class=\"dataframe\">\n  <thead>\n    <tr style=\"text-align: right;\">\n      <th></th>\n      <th>chunks</th>\n      <th>begin</th>\n      <th>end</th>\n      <th>entities</th>\n    </tr>\n  </thead>\n  <tbody>\n    <tr>\n      <th>0</th>\n      <td>insulin</td>\n      <td>59</td>\n      <td>65</td>\n      <td>DRUG</td>\n    </tr>\n    <tr>\n      <th>1</th>\n      <td>Bactrim</td>\n      <td>120</td>\n      <td>126</td>\n      <td>DRUG</td>\n    </tr>\n    <tr>\n      <th>2</th>\n      <td>for 14 days</td>\n      <td>128</td>\n      <td>138</td>\n      <td>DURATION</td>\n    </tr>\n    <tr>\n      <th>3</th>\n      <td>5000 units</td>\n      <td>168</td>\n      <td>177</td>\n      <td>DOSAGE</td>\n    </tr>\n    <tr>\n      <th>4</th>\n      <td>Fragmin</td>\n      <td>182</td>\n      <td>188</td>\n      <td>DRUG</td>\n    </tr>\n    <tr>\n      <th>5</th>\n      <td>subcutaneously</td>\n      <td>191</td>\n      <td>204</td>\n      <td>ROUTE</td>\n    </tr>\n    <tr>\n      <th>6</th>\n      <td>daily</td>\n      <td>206</td>\n      <td>210</td>\n      <td>FREQUENCY</td>\n    </tr>\n    <tr>\n      <th>7</th>\n      <td>Lantus</td>\n      <td>228</td>\n      <td>233</td>\n      <td>DRUG</td>\n    </tr>\n    <tr>\n      <th>8</th>\n      <td>40 units</td>\n      <td>235</td>\n      <td>242</td>\n      <td>DOSAGE</td>\n    </tr>\n    <tr>\n      <th>9</th>\n      <td>subcutaneously</td>\n      <td>244</td>\n      <td>257</td>\n      <td>ROUTE</td>\n    </tr>\n    <tr>\n      <th>10</th>\n      <td>at bedtime</td>\n      <td>259</td>\n      <td>268</td>\n      <td>FREQUENCY</td>\n    </tr>\n  </tbody>\n</table>\n</div>",
       "datasetInfos": [],
       "metadata": {},
       "removedWidgets": [],
       "textData": null,
       "type": "htmlSandbox"
      }
     },
     "output_type": "display_data"
    }
   ],
   "source": [
    "chunks=[]\n",
    "entities=[]\n",
    "begins=[]\n",
    "ends=[]\n",
    "\n",
    "for n in result['ner_posology_chunk']:\n",
    "\n",
    "    chunks.append(n.result)\n",
    "    begins.append(n.begin)\n",
    "    ends.append(n.end)\n",
    "    entities.append(n.metadata['entity'])\n",
    "\n",
    "df = pd.DataFrame({'chunks':chunks, 'begin':begins, 'end':ends, 'entities':entities})\n",
    "\n",
    "df"
   ]
  },
  {
   "cell_type": "code",
   "execution_count": 0,
   "metadata": {
    "application/vnd.databricks.v1+cell": {
     "cellMetadata": {
      "byteLimit": 2048000,
      "rowLimit": 10000
     },
     "inputWidgets": {},
     "nuid": "7ece749e-08bb-428a-87b6-36287e8b5211",
     "showTitle": false,
     "title": ""
    },
    "colab": {
     "base_uri": "https://localhost:8080/",
     "height": 175
    },
    "executionInfo": {
     "elapsed": 6,
     "status": "ok",
     "timestamp": 1707940876521,
     "user": {
      "displayName": "Akar Öztürk",
      "userId": "07602883577262601067"
     },
     "user_tz": -60
    },
    "id": "Dq2lgqMl1XdA",
    "outputId": "53f6292f-0234-4b50-ffa0-16b9b45e178e"
   },
   "outputs": [
    {
     "output_type": "display_data",
     "data": {
      "text/html": [
       "<div>\n",
       "<style scoped>\n",
       "    .dataframe tbody tr th:only-of-type {\n",
       "        vertical-align: middle;\n",
       "    }\n",
       "\n",
       "    .dataframe tbody tr th {\n",
       "        vertical-align: top;\n",
       "    }\n",
       "\n",
       "    .dataframe thead th {\n",
       "        text-align: right;\n",
       "    }\n",
       "</style>\n",
       "<table border=\"1\" class=\"dataframe\">\n",
       "  <thead>\n",
       "    <tr style=\"text-align: right;\">\n",
       "      <th></th>\n",
       "      <th>chunks</th>\n",
       "      <th>entities</th>\n",
       "      <th>assertion</th>\n",
       "    </tr>\n",
       "  </thead>\n",
       "  <tbody>\n",
       "    <tr>\n",
       "      <th>0</th>\n",
       "      <td>insulin</td>\n",
       "      <td>DRUG</td>\n",
       "      <td>Family</td>\n",
       "    </tr>\n",
       "    <tr>\n",
       "      <th>1</th>\n",
       "      <td>Bactrim</td>\n",
       "      <td>DRUG</td>\n",
       "      <td>Past</td>\n",
       "    </tr>\n",
       "    <tr>\n",
       "      <th>2</th>\n",
       "      <td>Fragmin</td>\n",
       "      <td>DRUG</td>\n",
       "      <td>Planned</td>\n",
       "    </tr>\n",
       "    <tr>\n",
       "      <th>3</th>\n",
       "      <td>Lantus</td>\n",
       "      <td>DRUG</td>\n",
       "      <td>Past</td>\n",
       "    </tr>\n",
       "  </tbody>\n",
       "</table>\n",
       "</div>"
      ]
     },
     "metadata": {
      "application/vnd.databricks.v1+output": {
       "addedWidgets": {},
       "arguments": {},
       "data": "<div>\n<style scoped>\n    .dataframe tbody tr th:only-of-type {\n        vertical-align: middle;\n    }\n\n    .dataframe tbody tr th {\n        vertical-align: top;\n    }\n\n    .dataframe thead th {\n        text-align: right;\n    }\n</style>\n<table border=\"1\" class=\"dataframe\">\n  <thead>\n    <tr style=\"text-align: right;\">\n      <th></th>\n      <th>chunks</th>\n      <th>entities</th>\n      <th>assertion</th>\n    </tr>\n  </thead>\n  <tbody>\n    <tr>\n      <th>0</th>\n      <td>insulin</td>\n      <td>DRUG</td>\n      <td>Family</td>\n    </tr>\n    <tr>\n      <th>1</th>\n      <td>Bactrim</td>\n      <td>DRUG</td>\n      <td>Past</td>\n    </tr>\n    <tr>\n      <th>2</th>\n      <td>Fragmin</td>\n      <td>DRUG</td>\n      <td>Planned</td>\n    </tr>\n    <tr>\n      <th>3</th>\n      <td>Lantus</td>\n      <td>DRUG</td>\n      <td>Past</td>\n    </tr>\n  </tbody>\n</table>\n</div>",
       "datasetInfos": [],
       "metadata": {},
       "removedWidgets": [],
       "textData": null,
       "type": "htmlSandbox"
      }
     },
     "output_type": "display_data"
    }
   ],
   "source": [
    "chunks=[]\n",
    "entities=[]\n",
    "status=[]\n",
    "\n",
    "for n,m in zip(result['assertion_ner_chunk'],result['assertion']):\n",
    "\n",
    "    chunks.append(n.result)\n",
    "    entities.append(n.metadata['entity'])\n",
    "    status.append(m.result)\n",
    "\n",
    "df = pd.DataFrame({'chunks':chunks, 'entities':entities, 'assertion':status})\n",
    "\n",
    "df"
   ]
  },
  {
   "cell_type": "code",
   "execution_count": 0,
   "metadata": {
    "application/vnd.databricks.v1+cell": {
     "cellMetadata": {
      "byteLimit": 2048000,
      "rowLimit": 10000
     },
     "inputWidgets": {},
     "nuid": "89d29c46-9bf5-42c9-9a09-3a8c3bd223ff",
     "showTitle": false,
     "title": ""
    },
    "colab": {
     "base_uri": "https://localhost:8080/",
     "height": 410
    },
    "executionInfo": {
     "elapsed": 584,
     "status": "ok",
     "timestamp": 1707940877100,
     "user": {
      "displayName": "Akar Öztürk",
      "userId": "07602883577262601067"
     },
     "user_tz": -60
    },
    "id": "UWlcqeoM1ZQG",
    "outputId": "b6830865-abb6-4f02-bc1f-6e9c06c60a8f"
   },
   "outputs": [
    {
     "output_type": "display_data",
     "data": {
      "text/html": [
       "<div>\n",
       "<style scoped>\n",
       "    .dataframe tbody tr th:only-of-type {\n",
       "        vertical-align: middle;\n",
       "    }\n",
       "\n",
       "    .dataframe tbody tr th {\n",
       "        vertical-align: top;\n",
       "    }\n",
       "\n",
       "    .dataframe thead th {\n",
       "        text-align: right;\n",
       "    }\n",
       "</style>\n",
       "<table border=\"1\" class=\"dataframe\">\n",
       "  <thead>\n",
       "    <tr style=\"text-align: right;\">\n",
       "      <th></th>\n",
       "      <th>relation</th>\n",
       "      <th>entity1</th>\n",
       "      <th>entity1_begin</th>\n",
       "      <th>entity1_end</th>\n",
       "      <th>chunk1</th>\n",
       "      <th>entity2</th>\n",
       "      <th>entity2_begin</th>\n",
       "      <th>entity2_end</th>\n",
       "      <th>chunk2</th>\n",
       "      <th>confidence</th>\n",
       "    </tr>\n",
       "  </thead>\n",
       "  <tbody>\n",
       "    <tr>\n",
       "      <th>0</th>\n",
       "      <td>DRUG-DURATION</td>\n",
       "      <td>DRUG</td>\n",
       "      <td>120</td>\n",
       "      <td>126</td>\n",
       "      <td>Bactrim</td>\n",
       "      <td>DURATION</td>\n",
       "      <td>128</td>\n",
       "      <td>138</td>\n",
       "      <td>for 14 days</td>\n",
       "      <td>1.0</td>\n",
       "    </tr>\n",
       "    <tr>\n",
       "      <th>1</th>\n",
       "      <td>DOSAGE-DRUG</td>\n",
       "      <td>DOSAGE</td>\n",
       "      <td>168</td>\n",
       "      <td>177</td>\n",
       "      <td>5000 units</td>\n",
       "      <td>DRUG</td>\n",
       "      <td>182</td>\n",
       "      <td>188</td>\n",
       "      <td>Fragmin</td>\n",
       "      <td>1.0</td>\n",
       "    </tr>\n",
       "    <tr>\n",
       "      <th>2</th>\n",
       "      <td>DRUG-ROUTE</td>\n",
       "      <td>DRUG</td>\n",
       "      <td>182</td>\n",
       "      <td>188</td>\n",
       "      <td>Fragmin</td>\n",
       "      <td>ROUTE</td>\n",
       "      <td>191</td>\n",
       "      <td>204</td>\n",
       "      <td>subcutaneously</td>\n",
       "      <td>1.0</td>\n",
       "    </tr>\n",
       "    <tr>\n",
       "      <th>3</th>\n",
       "      <td>DRUG-FREQUENCY</td>\n",
       "      <td>DRUG</td>\n",
       "      <td>182</td>\n",
       "      <td>188</td>\n",
       "      <td>Fragmin</td>\n",
       "      <td>FREQUENCY</td>\n",
       "      <td>206</td>\n",
       "      <td>210</td>\n",
       "      <td>daily</td>\n",
       "      <td>1.0</td>\n",
       "    </tr>\n",
       "    <tr>\n",
       "      <th>4</th>\n",
       "      <td>DRUG-DOSAGE</td>\n",
       "      <td>DRUG</td>\n",
       "      <td>228</td>\n",
       "      <td>233</td>\n",
       "      <td>Lantus</td>\n",
       "      <td>DOSAGE</td>\n",
       "      <td>235</td>\n",
       "      <td>242</td>\n",
       "      <td>40 units</td>\n",
       "      <td>1.0</td>\n",
       "    </tr>\n",
       "    <tr>\n",
       "      <th>5</th>\n",
       "      <td>DRUG-ROUTE</td>\n",
       "      <td>DRUG</td>\n",
       "      <td>228</td>\n",
       "      <td>233</td>\n",
       "      <td>Lantus</td>\n",
       "      <td>ROUTE</td>\n",
       "      <td>244</td>\n",
       "      <td>257</td>\n",
       "      <td>subcutaneously</td>\n",
       "      <td>1.0</td>\n",
       "    </tr>\n",
       "    <tr>\n",
       "      <th>6</th>\n",
       "      <td>DRUG-FREQUENCY</td>\n",
       "      <td>DRUG</td>\n",
       "      <td>228</td>\n",
       "      <td>233</td>\n",
       "      <td>Lantus</td>\n",
       "      <td>FREQUENCY</td>\n",
       "      <td>259</td>\n",
       "      <td>268</td>\n",
       "      <td>at bedtime</td>\n",
       "      <td>1.0</td>\n",
       "    </tr>\n",
       "  </tbody>\n",
       "</table>\n",
       "</div>"
      ]
     },
     "metadata": {
      "application/vnd.databricks.v1+output": {
       "addedWidgets": {},
       "arguments": {},
       "data": "<div>\n<style scoped>\n    .dataframe tbody tr th:only-of-type {\n        vertical-align: middle;\n    }\n\n    .dataframe tbody tr th {\n        vertical-align: top;\n    }\n\n    .dataframe thead th {\n        text-align: right;\n    }\n</style>\n<table border=\"1\" class=\"dataframe\">\n  <thead>\n    <tr style=\"text-align: right;\">\n      <th></th>\n      <th>relation</th>\n      <th>entity1</th>\n      <th>entity1_begin</th>\n      <th>entity1_end</th>\n      <th>chunk1</th>\n      <th>entity2</th>\n      <th>entity2_begin</th>\n      <th>entity2_end</th>\n      <th>chunk2</th>\n      <th>confidence</th>\n    </tr>\n  </thead>\n  <tbody>\n    <tr>\n      <th>0</th>\n      <td>DRUG-DURATION</td>\n      <td>DRUG</td>\n      <td>120</td>\n      <td>126</td>\n      <td>Bactrim</td>\n      <td>DURATION</td>\n      <td>128</td>\n      <td>138</td>\n      <td>for 14 days</td>\n      <td>1.0</td>\n    </tr>\n    <tr>\n      <th>1</th>\n      <td>DOSAGE-DRUG</td>\n      <td>DOSAGE</td>\n      <td>168</td>\n      <td>177</td>\n      <td>5000 units</td>\n      <td>DRUG</td>\n      <td>182</td>\n      <td>188</td>\n      <td>Fragmin</td>\n      <td>1.0</td>\n    </tr>\n    <tr>\n      <th>2</th>\n      <td>DRUG-ROUTE</td>\n      <td>DRUG</td>\n      <td>182</td>\n      <td>188</td>\n      <td>Fragmin</td>\n      <td>ROUTE</td>\n      <td>191</td>\n      <td>204</td>\n      <td>subcutaneously</td>\n      <td>1.0</td>\n    </tr>\n    <tr>\n      <th>3</th>\n      <td>DRUG-FREQUENCY</td>\n      <td>DRUG</td>\n      <td>182</td>\n      <td>188</td>\n      <td>Fragmin</td>\n      <td>FREQUENCY</td>\n      <td>206</td>\n      <td>210</td>\n      <td>daily</td>\n      <td>1.0</td>\n    </tr>\n    <tr>\n      <th>4</th>\n      <td>DRUG-DOSAGE</td>\n      <td>DRUG</td>\n      <td>228</td>\n      <td>233</td>\n      <td>Lantus</td>\n      <td>DOSAGE</td>\n      <td>235</td>\n      <td>242</td>\n      <td>40 units</td>\n      <td>1.0</td>\n    </tr>\n    <tr>\n      <th>5</th>\n      <td>DRUG-ROUTE</td>\n      <td>DRUG</td>\n      <td>228</td>\n      <td>233</td>\n      <td>Lantus</td>\n      <td>ROUTE</td>\n      <td>244</td>\n      <td>257</td>\n      <td>subcutaneously</td>\n      <td>1.0</td>\n    </tr>\n    <tr>\n      <th>6</th>\n      <td>DRUG-FREQUENCY</td>\n      <td>DRUG</td>\n      <td>228</td>\n      <td>233</td>\n      <td>Lantus</td>\n      <td>FREQUENCY</td>\n      <td>259</td>\n      <td>268</td>\n      <td>at bedtime</td>\n      <td>1.0</td>\n    </tr>\n  </tbody>\n</table>\n</div>",
       "datasetInfos": [],
       "metadata": {},
       "removedWidgets": [],
       "textData": null,
       "type": "htmlSandbox"
      }
     },
     "output_type": "display_data"
    }
   ],
   "source": [
    "annotations = medication_pipeline.fullAnnotate(text)\n",
    "\n",
    "rel_df = get_relations_df(annotations, 'relations')\n",
    "\n",
    "rel_df"
   ]
  },
  {
   "cell_type": "code",
   "execution_count": 0,
   "metadata": {
    "application/vnd.databricks.v1+cell": {
     "cellMetadata": {
      "byteLimit": 2048000,
      "rowLimit": 10000
     },
     "inputWidgets": {},
     "nuid": "df790aa5-6f8c-43b5-8952-49a78fd8faaf",
     "showTitle": false,
     "title": ""
    },
    "colab": {
     "base_uri": "https://localhost:8080/"
    },
    "executionInfo": {
     "elapsed": 5,
     "status": "ok",
     "timestamp": 1707940877100,
     "user": {
      "displayName": "Akar Öztürk",
      "userId": "07602883577262601067"
     },
     "user_tz": -60
    },
    "id": "GqS8bh2U1bkG",
    "outputId": "dadb95b9-0a4b-4d79-8ebb-57890bd48e11"
   },
   "outputs": [
    {
     "output_type": "stream",
     "name": "stdout",
     "output_type": "stream",
     "text": [
      "Out[46]: [Annotation(category, 120, 138, DRUG-DURATION, {'chunk2': 'for 14 days', 'confidence': '1.0', 'entity2_end': '138', 'chunk1': 'Bactrim', 'entity1': 'DRUG', 'entity2_begin': '128', 'chunk2_confidence': '0.79349995', 'entity1_begin': '120', 'sentence': '1', 'direction': 'both', 'entity1_end': '126', 'entity2': 'DURATION', 'chunk1_confidence': '0.9994'}, []),\n Annotation(category, 168, 188, DOSAGE-DRUG, {'chunk2': 'Fragmin', 'confidence': '1.0', 'entity2_end': '188', 'chunk1': '5000 units', 'entity1': 'DOSAGE', 'entity2_begin': '182', 'chunk2_confidence': '0.9996', 'entity1_begin': '168', 'sentence': '2', 'direction': 'both', 'entity1_end': '177', 'entity2': 'DRUG', 'chunk1_confidence': '0.80009997'}, []),\n Annotation(category, 182, 204, DRUG-ROUTE, {'chunk2': 'subcutaneously', 'confidence': '1.0', 'entity2_end': '204', 'chunk1': 'Fragmin', 'entity1': 'DRUG', 'entity2_begin': '191', 'chunk2_confidence': '0.9994', 'entity1_begin': '182', 'sentence': '2', 'direction': 'both', 'entity1_end': '188', 'entity2': 'ROUTE', 'chunk1_confidence': '0.9996'}, []),\n Annotation(category, 182, 210, DRUG-FREQUENCY, {'chunk2': 'daily', 'confidence': '1.0', 'entity2_end': '210', 'chunk1': 'Fragmin', 'entity1': 'DRUG', 'entity2_begin': '206', 'chunk2_confidence': '0.9991', 'entity1_begin': '182', 'sentence': '2', 'direction': 'both', 'entity1_end': '188', 'entity2': 'FREQUENCY', 'chunk1_confidence': '0.9996'}, []),\n Annotation(category, 228, 242, DRUG-DOSAGE, {'chunk2': '40 units', 'confidence': '1.0', 'entity2_end': '242', 'chunk1': 'Lantus', 'entity1': 'DRUG', 'entity2_begin': '235', 'chunk2_confidence': '0.8326', 'entity1_begin': '228', 'sentence': '2', 'direction': 'both', 'entity1_end': '233', 'entity2': 'DOSAGE', 'chunk1_confidence': '0.9986'}, []),\n Annotation(category, 228, 257, DRUG-ROUTE, {'chunk2': 'subcutaneously', 'confidence': '1.0', 'entity2_end': '257', 'chunk1': 'Lantus', 'entity1': 'DRUG', 'entity2_begin': '244', 'chunk2_confidence': '0.9969', 'entity1_begin': '228', 'sentence': '2', 'direction': 'both', 'entity1_end': '233', 'entity2': 'ROUTE', 'chunk1_confidence': '0.9986'}, []),\n Annotation(category, 228, 268, DRUG-FREQUENCY, {'chunk2': 'at bedtime', 'confidence': '1.0', 'entity2_end': '268', 'chunk1': 'Lantus', 'entity1': 'DRUG', 'entity2_begin': '259', 'chunk2_confidence': '0.8706', 'entity1_begin': '228', 'sentence': '2', 'direction': 'both', 'entity1_end': '233', 'entity2': 'FREQUENCY', 'chunk1_confidence': '0.9986'}, [])]"
     ]
    }
   ],
   "source": [
    "annotations[0]['relations']"
   ]
  },
  {
   "cell_type": "markdown",
   "metadata": {
    "application/vnd.databricks.v1+cell": {
     "cellMetadata": {},
     "inputWidgets": {},
     "nuid": "17a62977-e30e-4d2a-bbae-b78a731d583f",
     "showTitle": false,
     "title": ""
    },
    "id": "laR_ppkG1fcz"
   },
   "source": [
    "### explain_clinical_doc_radiology\n",
    "\n",
    "> A pipeline for detecting radiology entities with the `ner_radiology` NER model, assigning their assertion status with `assertion_dl_radiology` model, and extracting relations between the diagnosis, test, and findings with `re_test_problem_finding` relation extraction model."
   ]
  },
  {
   "cell_type": "code",
   "execution_count": 0,
   "metadata": {
    "application/vnd.databricks.v1+cell": {
     "cellMetadata": {
      "byteLimit": 2048000,
      "rowLimit": 10000
     },
     "inputWidgets": {},
     "nuid": "0becc53e-531d-4480-9d53-64788f25c01d",
     "showTitle": false,
     "title": ""
    },
    "colab": {
     "base_uri": "https://localhost:8080/"
    },
    "executionInfo": {
     "elapsed": 180286,
     "status": "ok",
     "timestamp": 1707941057383,
     "user": {
      "displayName": "Akar Öztürk",
      "userId": "07602883577262601067"
     },
     "user_tz": -60
    },
    "id": "UKdbqT5j1hwn",
    "outputId": "c7d8201c-8212-4b27-b72a-c794852dbf3e"
   },
   "outputs": [
    {
     "output_type": "stream",
     "name": "stdout",
     "output_type": "stream",
     "text": [
      "explain_clinical_doc_radiology download started this may take some time.\nApprox size to download 1.7 GB\n\r[ | ]\r[ / ]\r[ — ]\r[ \\ ]\r[ | ]\r[ / ]\r[ — ]\r[ \\ ]\r[ | ]\r[ / ]\r[ — ]\r[ \\ ]\r[ | ]\r[ / ]\r[ — ]\r[ \\ ]\r[ | ]\r[ / ]\r[ — ]\r[ \\ ]\r[ | ]\r[ / ]\r[ — ]\r[ \\ ]\r[ | ]\r[ / ]\r[OK!]\n"
     ]
    }
   ],
   "source": [
    "radiology_pipeline = nlp.PretrainedPipeline('explain_clinical_doc_radiology', 'en', 'clinical/models')"
   ]
  },
  {
   "cell_type": "code",
   "execution_count": 0,
   "metadata": {
    "application/vnd.databricks.v1+cell": {
     "cellMetadata": {
      "byteLimit": 2048000,
      "rowLimit": 10000
     },
     "inputWidgets": {},
     "nuid": "78536183-b902-436f-a5a7-900b03f08b80",
     "showTitle": false,
     "title": ""
    },
    "colab": {
     "base_uri": "https://localhost:8080/"
    },
    "executionInfo": {
     "elapsed": 15,
     "status": "ok",
     "timestamp": 1707941057384,
     "user": {
      "displayName": "Akar Öztürk",
      "userId": "07602883577262601067"
     },
     "user_tz": -60
    },
    "id": "hyTOoMj31h3a",
    "outputId": "f46aa9f3-f66c-4f21-9328-57cc458e7e98"
   },
   "outputs": [
    {
     "output_type": "stream",
     "name": "stdout",
     "output_type": "stream",
     "text": [
      "Out[48]: [DocumentAssembler_7be744fefcc1,\n SentenceDetectorDLModel_6bafc4746ea5,\n REGEX_TOKENIZER_a430ec88107f,\n WORD_EMBEDDINGS_MODEL_9004b1d00302,\n MedicalNerModel_f7f58f2addf7,\n NER_CONVERTER_054a7661a221,\n MedicalNerModel_32430beeafc0,\n NER_CONVERTER_c95e9906feb9,\n MedicalNerModel_5e6f59103f25,\n NER_CONVERTER_6555d615be71,\n MedicalNerModel_8c59079bd37d,\n NER_CONVERTER_fdf91325f85c,\n MedicalNerModel_c89cbceb1028,\n NER_CONVERTER_404f44a63e5b,\n MERGE_b2f5b8021e11,\n MERGE_c314756a9d4c,\n ASSERTION_DL_614cf4bf71de,\n POS_6f55785005bf,\n dependency_e7755462ba78,\n RelationExtractionModel_853993778cd5]"
     ]
    }
   ],
   "source": [
    "radiology_pipeline.model.stages"
   ]
  },
  {
   "cell_type": "code",
   "execution_count": 0,
   "metadata": {
    "application/vnd.databricks.v1+cell": {
     "cellMetadata": {
      "byteLimit": 2048000,
      "rowLimit": 10000
     },
     "inputWidgets": {},
     "nuid": "d2976c12-01c3-4bd2-a732-6122b9c491b1",
     "showTitle": false,
     "title": ""
    },
    "id": "fdXX5eOX1h6Q"
   },
   "outputs": [],
   "source": [
    "text = \"\"\"Bilateral breast ultrasound was subsequently performed, which demonstrated an ovoid mass measuring approximately 0.5 x 0.5 x 0.4 cm in diameter located within the anteromedial aspect of the left shoulder.\n",
    "This mass demonstrates isoechoic echotexture to the adjacent muscle, with no evidence of internal color flow.\n",
    "This may represent benign fibrous tissue or a lipoma.\"\"\"\n",
    "\n",
    "result = radiology_pipeline.fullAnnotate(text)[0]"
   ]
  },
  {
   "cell_type": "code",
   "execution_count": 0,
   "metadata": {
    "application/vnd.databricks.v1+cell": {
     "cellMetadata": {
      "byteLimit": 2048000,
      "rowLimit": 10000
     },
     "inputWidgets": {},
     "nuid": "f05fd6e9-a068-4110-a02a-942bb5eb7623",
     "showTitle": false,
     "title": ""
    },
    "colab": {
     "base_uri": "https://localhost:8080/"
    },
    "executionInfo": {
     "elapsed": 8,
     "status": "ok",
     "timestamp": 1707941060343,
     "user": {
      "displayName": "Akar Öztürk",
      "userId": "07602883577262601067"
     },
     "user_tz": -60
    },
    "id": "R6fskZJz1h9M",
    "outputId": "60e001ec-c9eb-4b5c-bfe5-5c872f93c865"
   },
   "outputs": [
    {
     "output_type": "stream",
     "name": "stdout",
     "output_type": "stream",
     "text": [
      "Out[50]: dict_keys(['radiology_ner_chunk', 'ner_chexpert_chunk', 'posology_ner', 'ner_oncology', 'document', 'ner_chexpert', 'merged_chunk', 'posology_ner_chunk', 'merged_chunk_for_assertion', 'jsl_ner_chunk', 'radiology_ner', 'assertion', 'jsl_ner', 'ner_oncology_chunk', 'token', 'relations', 'embeddings', 'pos_tags', 'dependencies', 'sentence'])"
     ]
    }
   ],
   "source": [
    "result.keys()"
   ]
  },
  {
   "cell_type": "code",
   "execution_count": 0,
   "metadata": {
    "application/vnd.databricks.v1+cell": {
     "cellMetadata": {
      "byteLimit": 2048000,
      "rowLimit": 10000
     },
     "inputWidgets": {},
     "nuid": "6f0be2ff-67ed-4912-898a-12bb9524a1db",
     "showTitle": false,
     "title": ""
    },
    "colab": {
     "base_uri": "https://localhost:8080/",
     "height": 425
    },
    "executionInfo": {
     "elapsed": 7,
     "status": "ok",
     "timestamp": 1707941060344,
     "user": {
      "displayName": "Akar Öztürk",
      "userId": "07602883577262601067"
     },
     "user_tz": -60
    },
    "id": "dBZjB7wA1ops",
    "outputId": "82ef163b-66b2-497b-dfcb-c12104fd5422"
   },
   "outputs": [
    {
     "output_type": "display_data",
     "data": {
      "text/html": [
       "<div>\n",
       "<style scoped>\n",
       "    .dataframe tbody tr th:only-of-type {\n",
       "        vertical-align: middle;\n",
       "    }\n",
       "\n",
       "    .dataframe tbody tr th {\n",
       "        vertical-align: top;\n",
       "    }\n",
       "\n",
       "    .dataframe thead th {\n",
       "        text-align: right;\n",
       "    }\n",
       "</style>\n",
       "<table border=\"1\" class=\"dataframe\">\n",
       "  <thead>\n",
       "    <tr style=\"text-align: right;\">\n",
       "      <th></th>\n",
       "      <th>chunks</th>\n",
       "      <th>begin</th>\n",
       "      <th>end</th>\n",
       "      <th>entities</th>\n",
       "    </tr>\n",
       "  </thead>\n",
       "  <tbody>\n",
       "    <tr>\n",
       "      <th>0</th>\n",
       "      <td>Bilateral breast</td>\n",
       "      <td>0</td>\n",
       "      <td>15</td>\n",
       "      <td>BodyPart</td>\n",
       "    </tr>\n",
       "    <tr>\n",
       "      <th>1</th>\n",
       "      <td>ultrasound</td>\n",
       "      <td>17</td>\n",
       "      <td>26</td>\n",
       "      <td>Imaging_Test</td>\n",
       "    </tr>\n",
       "    <tr>\n",
       "      <th>2</th>\n",
       "      <td>ovoid mass</td>\n",
       "      <td>78</td>\n",
       "      <td>87</td>\n",
       "      <td>ImagingFindings</td>\n",
       "    </tr>\n",
       "    <tr>\n",
       "      <th>3</th>\n",
       "      <td>0.5 x 0.5 x 0.4</td>\n",
       "      <td>113</td>\n",
       "      <td>127</td>\n",
       "      <td>Measurements</td>\n",
       "    </tr>\n",
       "    <tr>\n",
       "      <th>4</th>\n",
       "      <td>cm</td>\n",
       "      <td>129</td>\n",
       "      <td>130</td>\n",
       "      <td>Units</td>\n",
       "    </tr>\n",
       "    <tr>\n",
       "      <th>5</th>\n",
       "      <td>anteromedial aspect of the left shoulder</td>\n",
       "      <td>163</td>\n",
       "      <td>202</td>\n",
       "      <td>BodyPart</td>\n",
       "    </tr>\n",
       "    <tr>\n",
       "      <th>6</th>\n",
       "      <td>mass</td>\n",
       "      <td>210</td>\n",
       "      <td>213</td>\n",
       "      <td>ImagingFindings</td>\n",
       "    </tr>\n",
       "    <tr>\n",
       "      <th>7</th>\n",
       "      <td>isoechoic echotexture</td>\n",
       "      <td>228</td>\n",
       "      <td>248</td>\n",
       "      <td>ImagingFindings</td>\n",
       "    </tr>\n",
       "    <tr>\n",
       "      <th>8</th>\n",
       "      <td>muscle</td>\n",
       "      <td>266</td>\n",
       "      <td>271</td>\n",
       "      <td>BodyPart</td>\n",
       "    </tr>\n",
       "    <tr>\n",
       "      <th>9</th>\n",
       "      <td>internal color flow</td>\n",
       "      <td>294</td>\n",
       "      <td>312</td>\n",
       "      <td>ImagingFindings</td>\n",
       "    </tr>\n",
       "    <tr>\n",
       "      <th>10</th>\n",
       "      <td>benign fibrous tissue</td>\n",
       "      <td>334</td>\n",
       "      <td>354</td>\n",
       "      <td>ImagingFindings</td>\n",
       "    </tr>\n",
       "    <tr>\n",
       "      <th>11</th>\n",
       "      <td>lipoma</td>\n",
       "      <td>361</td>\n",
       "      <td>366</td>\n",
       "      <td>Disease_Syndrome_Disorder</td>\n",
       "    </tr>\n",
       "  </tbody>\n",
       "</table>\n",
       "</div>"
      ]
     },
     "metadata": {
      "application/vnd.databricks.v1+output": {
       "addedWidgets": {},
       "arguments": {},
       "data": "<div>\n<style scoped>\n    .dataframe tbody tr th:only-of-type {\n        vertical-align: middle;\n    }\n\n    .dataframe tbody tr th {\n        vertical-align: top;\n    }\n\n    .dataframe thead th {\n        text-align: right;\n    }\n</style>\n<table border=\"1\" class=\"dataframe\">\n  <thead>\n    <tr style=\"text-align: right;\">\n      <th></th>\n      <th>chunks</th>\n      <th>begin</th>\n      <th>end</th>\n      <th>entities</th>\n    </tr>\n  </thead>\n  <tbody>\n    <tr>\n      <th>0</th>\n      <td>Bilateral breast</td>\n      <td>0</td>\n      <td>15</td>\n      <td>BodyPart</td>\n    </tr>\n    <tr>\n      <th>1</th>\n      <td>ultrasound</td>\n      <td>17</td>\n      <td>26</td>\n      <td>Imaging_Test</td>\n    </tr>\n    <tr>\n      <th>2</th>\n      <td>ovoid mass</td>\n      <td>78</td>\n      <td>87</td>\n      <td>ImagingFindings</td>\n    </tr>\n    <tr>\n      <th>3</th>\n      <td>0.5 x 0.5 x 0.4</td>\n      <td>113</td>\n      <td>127</td>\n      <td>Measurements</td>\n    </tr>\n    <tr>\n      <th>4</th>\n      <td>cm</td>\n      <td>129</td>\n      <td>130</td>\n      <td>Units</td>\n    </tr>\n    <tr>\n      <th>5</th>\n      <td>anteromedial aspect of the left shoulder</td>\n      <td>163</td>\n      <td>202</td>\n      <td>BodyPart</td>\n    </tr>\n    <tr>\n      <th>6</th>\n      <td>mass</td>\n      <td>210</td>\n      <td>213</td>\n      <td>ImagingFindings</td>\n    </tr>\n    <tr>\n      <th>7</th>\n      <td>isoechoic echotexture</td>\n      <td>228</td>\n      <td>248</td>\n      <td>ImagingFindings</td>\n    </tr>\n    <tr>\n      <th>8</th>\n      <td>muscle</td>\n      <td>266</td>\n      <td>271</td>\n      <td>BodyPart</td>\n    </tr>\n    <tr>\n      <th>9</th>\n      <td>internal color flow</td>\n      <td>294</td>\n      <td>312</td>\n      <td>ImagingFindings</td>\n    </tr>\n    <tr>\n      <th>10</th>\n      <td>benign fibrous tissue</td>\n      <td>334</td>\n      <td>354</td>\n      <td>ImagingFindings</td>\n    </tr>\n    <tr>\n      <th>11</th>\n      <td>lipoma</td>\n      <td>361</td>\n      <td>366</td>\n      <td>Disease_Syndrome_Disorder</td>\n    </tr>\n  </tbody>\n</table>\n</div>",
       "datasetInfos": [],
       "metadata": {},
       "removedWidgets": [],
       "textData": null,
       "type": "htmlSandbox"
      }
     },
     "output_type": "display_data"
    }
   ],
   "source": [
    "chunks=[]\n",
    "entities=[]\n",
    "begins=[]\n",
    "ends=[]\n",
    "\n",
    "for n in result['radiology_ner_chunk']:\n",
    "\n",
    "    chunks.append(n.result)\n",
    "    begins.append(n.begin)\n",
    "    ends.append(n.end)\n",
    "    entities.append(n.metadata['entity'])\n",
    "\n",
    "df = pd.DataFrame({'chunks':chunks, 'begin':begins, 'end':ends, 'entities':entities})\n",
    "\n",
    "df"
   ]
  },
  {
   "cell_type": "code",
   "execution_count": 0,
   "metadata": {
    "application/vnd.databricks.v1+cell": {
     "cellMetadata": {
      "byteLimit": 2048000,
      "rowLimit": 10000
     },
     "inputWidgets": {},
     "nuid": "f8cce78e-1ecd-4845-8696-5a62bf48c6b1",
     "showTitle": false,
     "title": ""
    },
    "colab": {
     "base_uri": "https://localhost:8080/",
     "height": 237
    },
    "executionInfo": {
     "elapsed": 6,
     "status": "ok",
     "timestamp": 1707941060344,
     "user": {
      "displayName": "Akar Öztürk",
      "userId": "07602883577262601067"
     },
     "user_tz": -60
    },
    "id": "mHrDYnHX1ovO",
    "outputId": "7fb87532-634a-4b7e-e369-129148583c7b"
   },
   "outputs": [
    {
     "output_type": "display_data",
     "data": {
      "text/html": [
       "<div>\n",
       "<style scoped>\n",
       "    .dataframe tbody tr th:only-of-type {\n",
       "        vertical-align: middle;\n",
       "    }\n",
       "\n",
       "    .dataframe tbody tr th {\n",
       "        vertical-align: top;\n",
       "    }\n",
       "\n",
       "    .dataframe thead th {\n",
       "        text-align: right;\n",
       "    }\n",
       "</style>\n",
       "<table border=\"1\" class=\"dataframe\">\n",
       "  <thead>\n",
       "    <tr style=\"text-align: right;\">\n",
       "      <th></th>\n",
       "      <th>chunks</th>\n",
       "      <th>entities</th>\n",
       "      <th>assertion</th>\n",
       "    </tr>\n",
       "  </thead>\n",
       "  <tbody>\n",
       "    <tr>\n",
       "      <th>0</th>\n",
       "      <td>ovoid mass</td>\n",
       "      <td>ImagingFindings</td>\n",
       "      <td>Confirmed</td>\n",
       "    </tr>\n",
       "    <tr>\n",
       "      <th>1</th>\n",
       "      <td>mass</td>\n",
       "      <td>ImagingFindings</td>\n",
       "      <td>Confirmed</td>\n",
       "    </tr>\n",
       "    <tr>\n",
       "      <th>2</th>\n",
       "      <td>isoechoic echotexture</td>\n",
       "      <td>ImagingFindings</td>\n",
       "      <td>Confirmed</td>\n",
       "    </tr>\n",
       "    <tr>\n",
       "      <th>3</th>\n",
       "      <td>internal color flow</td>\n",
       "      <td>ImagingFindings</td>\n",
       "      <td>Negative</td>\n",
       "    </tr>\n",
       "    <tr>\n",
       "      <th>4</th>\n",
       "      <td>benign fibrous tissue</td>\n",
       "      <td>ImagingFindings</td>\n",
       "      <td>Suspected</td>\n",
       "    </tr>\n",
       "    <tr>\n",
       "      <th>5</th>\n",
       "      <td>lipoma</td>\n",
       "      <td>Disease_Syndrome_Disorder</td>\n",
       "      <td>Suspected</td>\n",
       "    </tr>\n",
       "  </tbody>\n",
       "</table>\n",
       "</div>"
      ]
     },
     "metadata": {
      "application/vnd.databricks.v1+output": {
       "addedWidgets": {},
       "arguments": {},
       "data": "<div>\n<style scoped>\n    .dataframe tbody tr th:only-of-type {\n        vertical-align: middle;\n    }\n\n    .dataframe tbody tr th {\n        vertical-align: top;\n    }\n\n    .dataframe thead th {\n        text-align: right;\n    }\n</style>\n<table border=\"1\" class=\"dataframe\">\n  <thead>\n    <tr style=\"text-align: right;\">\n      <th></th>\n      <th>chunks</th>\n      <th>entities</th>\n      <th>assertion</th>\n    </tr>\n  </thead>\n  <tbody>\n    <tr>\n      <th>0</th>\n      <td>ovoid mass</td>\n      <td>ImagingFindings</td>\n      <td>Confirmed</td>\n    </tr>\n    <tr>\n      <th>1</th>\n      <td>mass</td>\n      <td>ImagingFindings</td>\n      <td>Confirmed</td>\n    </tr>\n    <tr>\n      <th>2</th>\n      <td>isoechoic echotexture</td>\n      <td>ImagingFindings</td>\n      <td>Confirmed</td>\n    </tr>\n    <tr>\n      <th>3</th>\n      <td>internal color flow</td>\n      <td>ImagingFindings</td>\n      <td>Negative</td>\n    </tr>\n    <tr>\n      <th>4</th>\n      <td>benign fibrous tissue</td>\n      <td>ImagingFindings</td>\n      <td>Suspected</td>\n    </tr>\n    <tr>\n      <th>5</th>\n      <td>lipoma</td>\n      <td>Disease_Syndrome_Disorder</td>\n      <td>Suspected</td>\n    </tr>\n  </tbody>\n</table>\n</div>",
       "datasetInfos": [],
       "metadata": {},
       "removedWidgets": [],
       "textData": null,
       "type": "htmlSandbox"
      }
     },
     "output_type": "display_data"
    }
   ],
   "source": [
    "chunks=[]\n",
    "entities=[]\n",
    "status=[]\n",
    "\n",
    "for n,m in zip(result['merged_chunk_for_assertion'],result['assertion']):\n",
    "\n",
    "    chunks.append(n.result)\n",
    "    entities.append(n.metadata['entity'])\n",
    "    status.append(m.result)\n",
    "\n",
    "df = pd.DataFrame({'chunks':chunks, 'entities':entities, 'assertion':status})\n",
    "\n",
    "df"
   ]
  },
  {
   "cell_type": "code",
   "execution_count": 0,
   "metadata": {
    "application/vnd.databricks.v1+cell": {
     "cellMetadata": {
      "byteLimit": 2048000,
      "rowLimit": 10000
     },
     "inputWidgets": {},
     "nuid": "8515b3ca-5b97-411a-9c91-caa47602057b",
     "showTitle": false,
     "title": ""
    },
    "colab": {
     "base_uri": "https://localhost:8080/",
     "height": 361
    },
    "executionInfo": {
     "elapsed": 1247,
     "status": "ok",
     "timestamp": 1707941061586,
     "user": {
      "displayName": "Akar Öztürk",
      "userId": "07602883577262601067"
     },
     "user_tz": -60
    },
    "id": "qGAmKrcX1s6J",
    "outputId": "2eddeec5-f73a-4f45-914b-ad184d67596e"
   },
   "outputs": [
    {
     "output_type": "display_data",
     "data": {
      "text/html": [
       "<div>\n",
       "<style scoped>\n",
       "    .dataframe tbody tr th:only-of-type {\n",
       "        vertical-align: middle;\n",
       "    }\n",
       "\n",
       "    .dataframe tbody tr th {\n",
       "        vertical-align: top;\n",
       "    }\n",
       "\n",
       "    .dataframe thead th {\n",
       "        text-align: right;\n",
       "    }\n",
       "</style>\n",
       "<table border=\"1\" class=\"dataframe\">\n",
       "  <thead>\n",
       "    <tr style=\"text-align: right;\">\n",
       "      <th></th>\n",
       "      <th>relation</th>\n",
       "      <th>entity1</th>\n",
       "      <th>entity1_begin</th>\n",
       "      <th>entity1_end</th>\n",
       "      <th>chunk1</th>\n",
       "      <th>entity2</th>\n",
       "      <th>entity2_begin</th>\n",
       "      <th>entity2_end</th>\n",
       "      <th>chunk2</th>\n",
       "      <th>confidence</th>\n",
       "    </tr>\n",
       "  </thead>\n",
       "  <tbody>\n",
       "    <tr>\n",
       "      <th>0</th>\n",
       "      <td>is_related</td>\n",
       "      <td>BodyPart</td>\n",
       "      <td>0</td>\n",
       "      <td>15</td>\n",
       "      <td>Bilateral breast</td>\n",
       "      <td>Imaging_Test</td>\n",
       "      <td>17</td>\n",
       "      <td>26</td>\n",
       "      <td>ultrasound</td>\n",
       "      <td>1.000000</td>\n",
       "    </tr>\n",
       "    <tr>\n",
       "      <th>1</th>\n",
       "      <td>is_related</td>\n",
       "      <td>BodyPart</td>\n",
       "      <td>0</td>\n",
       "      <td>15</td>\n",
       "      <td>Bilateral breast</td>\n",
       "      <td>ImagingFindings</td>\n",
       "      <td>78</td>\n",
       "      <td>87</td>\n",
       "      <td>ovoid mass</td>\n",
       "      <td>0.999997</td>\n",
       "    </tr>\n",
       "    <tr>\n",
       "      <th>2</th>\n",
       "      <td>is_related</td>\n",
       "      <td>Imaging_Test</td>\n",
       "      <td>17</td>\n",
       "      <td>26</td>\n",
       "      <td>ultrasound</td>\n",
       "      <td>ImagingFindings</td>\n",
       "      <td>78</td>\n",
       "      <td>87</td>\n",
       "      <td>ovoid mass</td>\n",
       "      <td>0.999569</td>\n",
       "    </tr>\n",
       "    <tr>\n",
       "      <th>3</th>\n",
       "      <td>is_related</td>\n",
       "      <td>ImagingFindings</td>\n",
       "      <td>78</td>\n",
       "      <td>87</td>\n",
       "      <td>ovoid mass</td>\n",
       "      <td>Measurements</td>\n",
       "      <td>113</td>\n",
       "      <td>130</td>\n",
       "      <td>0.5 x 0.5 x 0.4 cm</td>\n",
       "      <td>1.000000</td>\n",
       "    </tr>\n",
       "    <tr>\n",
       "      <th>4</th>\n",
       "      <td>is_related</td>\n",
       "      <td>ImagingFindings</td>\n",
       "      <td>210</td>\n",
       "      <td>213</td>\n",
       "      <td>mass</td>\n",
       "      <td>BodyPart</td>\n",
       "      <td>257</td>\n",
       "      <td>271</td>\n",
       "      <td>adjacent muscle</td>\n",
       "      <td>0.997639</td>\n",
       "    </tr>\n",
       "    <tr>\n",
       "      <th>5</th>\n",
       "      <td>is_related</td>\n",
       "      <td>ImagingFindings</td>\n",
       "      <td>228</td>\n",
       "      <td>248</td>\n",
       "      <td>isoechoic echotexture</td>\n",
       "      <td>BodyPart</td>\n",
       "      <td>257</td>\n",
       "      <td>271</td>\n",
       "      <td>adjacent muscle</td>\n",
       "      <td>0.999999</td>\n",
       "    </tr>\n",
       "  </tbody>\n",
       "</table>\n",
       "</div>"
      ]
     },
     "metadata": {
      "application/vnd.databricks.v1+output": {
       "addedWidgets": {},
       "arguments": {},
       "data": "<div>\n<style scoped>\n    .dataframe tbody tr th:only-of-type {\n        vertical-align: middle;\n    }\n\n    .dataframe tbody tr th {\n        vertical-align: top;\n    }\n\n    .dataframe thead th {\n        text-align: right;\n    }\n</style>\n<table border=\"1\" class=\"dataframe\">\n  <thead>\n    <tr style=\"text-align: right;\">\n      <th></th>\n      <th>relation</th>\n      <th>entity1</th>\n      <th>entity1_begin</th>\n      <th>entity1_end</th>\n      <th>chunk1</th>\n      <th>entity2</th>\n      <th>entity2_begin</th>\n      <th>entity2_end</th>\n      <th>chunk2</th>\n      <th>confidence</th>\n    </tr>\n  </thead>\n  <tbody>\n    <tr>\n      <th>0</th>\n      <td>is_related</td>\n      <td>BodyPart</td>\n      <td>0</td>\n      <td>15</td>\n      <td>Bilateral breast</td>\n      <td>Imaging_Test</td>\n      <td>17</td>\n      <td>26</td>\n      <td>ultrasound</td>\n      <td>1.000000</td>\n    </tr>\n    <tr>\n      <th>1</th>\n      <td>is_related</td>\n      <td>BodyPart</td>\n      <td>0</td>\n      <td>15</td>\n      <td>Bilateral breast</td>\n      <td>ImagingFindings</td>\n      <td>78</td>\n      <td>87</td>\n      <td>ovoid mass</td>\n      <td>0.999997</td>\n    </tr>\n    <tr>\n      <th>2</th>\n      <td>is_related</td>\n      <td>Imaging_Test</td>\n      <td>17</td>\n      <td>26</td>\n      <td>ultrasound</td>\n      <td>ImagingFindings</td>\n      <td>78</td>\n      <td>87</td>\n      <td>ovoid mass</td>\n      <td>0.999569</td>\n    </tr>\n    <tr>\n      <th>3</th>\n      <td>is_related</td>\n      <td>ImagingFindings</td>\n      <td>78</td>\n      <td>87</td>\n      <td>ovoid mass</td>\n      <td>Measurements</td>\n      <td>113</td>\n      <td>130</td>\n      <td>0.5 x 0.5 x 0.4 cm</td>\n      <td>1.000000</td>\n    </tr>\n    <tr>\n      <th>4</th>\n      <td>is_related</td>\n      <td>ImagingFindings</td>\n      <td>210</td>\n      <td>213</td>\n      <td>mass</td>\n      <td>BodyPart</td>\n      <td>257</td>\n      <td>271</td>\n      <td>adjacent muscle</td>\n      <td>0.997639</td>\n    </tr>\n    <tr>\n      <th>5</th>\n      <td>is_related</td>\n      <td>ImagingFindings</td>\n      <td>228</td>\n      <td>248</td>\n      <td>isoechoic echotexture</td>\n      <td>BodyPart</td>\n      <td>257</td>\n      <td>271</td>\n      <td>adjacent muscle</td>\n      <td>0.999999</td>\n    </tr>\n  </tbody>\n</table>\n</div>",
       "datasetInfos": [],
       "metadata": {},
       "removedWidgets": [],
       "textData": null,
       "type": "htmlSandbox"
      }
     },
     "output_type": "display_data"
    }
   ],
   "source": [
    "annotations = radiology_pipeline.fullAnnotate(text)\n",
    "\n",
    "rel_df = get_relations_df(annotations, 'relations')\n",
    "\n",
    "rel_df"
   ]
  },
  {
   "cell_type": "code",
   "execution_count": 0,
   "metadata": {
    "application/vnd.databricks.v1+cell": {
     "cellMetadata": {
      "byteLimit": 2048000,
      "rowLimit": 10000
     },
     "inputWidgets": {},
     "nuid": "1a607779-cbb3-4d37-84d6-ede2981fa100",
     "showTitle": false,
     "title": ""
    },
    "colab": {
     "base_uri": "https://localhost:8080/"
    },
    "executionInfo": {
     "elapsed": 7,
     "status": "ok",
     "timestamp": 1707941061587,
     "user": {
      "displayName": "Akar Öztürk",
      "userId": "07602883577262601067"
     },
     "user_tz": -60
    },
    "id": "mq2Dav841tFA",
    "outputId": "7aa8a5ee-4256-47ff-e810-95eea88b7c4d"
   },
   "outputs": [
    {
     "output_type": "stream",
     "name": "stdout",
     "output_type": "stream",
     "text": [
      "Out[54]: [Annotation(category, 0, 26, is_related, {'chunk2': 'ultrasound', 'confidence': '1.0', 'entity2_end': '26', 'chunk1': 'Bilateral breast', 'entity1': 'BodyPart', 'entity2_begin': '17', 'chunk2_confidence': '0.6734', 'entity1_begin': '0', 'sentence': '0', 'direction': 'both', 'entity1_end': '15', 'entity2': 'Imaging_Test', 'chunk1_confidence': '0.945'}, []),\n Annotation(category, 0, 87, is_related, {'chunk2': 'ovoid mass', 'confidence': '0.99999714', 'entity2_end': '87', 'chunk1': 'Bilateral breast', 'entity1': 'BodyPart', 'entity2_begin': '78', 'chunk2_confidence': '0.6095', 'entity1_begin': '0', 'sentence': '0', 'direction': 'both', 'entity1_end': '15', 'entity2': 'ImagingFindings', 'chunk1_confidence': '0.945'}, []),\n Annotation(category, 17, 87, is_related, {'chunk2': 'ovoid mass', 'confidence': '0.99956936', 'entity2_end': '87', 'chunk1': 'ultrasound', 'entity1': 'Imaging_Test', 'entity2_begin': '78', 'chunk2_confidence': '0.6095', 'entity1_begin': '17', 'sentence': '0', 'direction': 'both', 'entity1_end': '26', 'entity2': 'ImagingFindings', 'chunk1_confidence': '0.6734'}, []),\n Annotation(category, 78, 130, is_related, {'chunk2': '0.5 x 0.5 x 0.4 cm', 'confidence': '1.0', 'entity2_end': '130', 'chunk1': 'ovoid mass', 'entity1': 'ImagingFindings', 'entity2_begin': '113', 'chunk2_confidence': '0.9908667', 'entity1_begin': '78', 'sentence': '0', 'direction': 'both', 'entity1_end': '87', 'entity2': 'Measurements', 'chunk1_confidence': '0.6095'}, []),\n Annotation(category, 210, 271, is_related, {'chunk2': 'adjacent muscle', 'confidence': '0.9976392', 'entity2_end': '271', 'chunk1': 'mass', 'entity1': 'ImagingFindings', 'entity2_begin': '257', 'chunk2_confidence': '0.5201', 'entity1_begin': '210', 'sentence': '1', 'direction': 'both', 'entity1_end': '213', 'entity2': 'BodyPart', 'chunk1_confidence': '0.9711'}, []),\n Annotation(category, 228, 271, is_related, {'chunk2': 'adjacent muscle', 'confidence': '0.9999993', 'entity2_end': '271', 'chunk1': 'isoechoic echotexture', 'entity1': 'ImagingFindings', 'entity2_begin': '257', 'chunk2_confidence': '0.5201', 'entity1_begin': '228', 'sentence': '1', 'direction': 'both', 'entity1_end': '248', 'entity2': 'BodyPart', 'chunk1_confidence': '0.80104995'}, [])]"
     ]
    }
   ],
   "source": [
    "annotations[0]['relations']"
   ]
  },
  {
   "cell_type": "markdown",
   "metadata": {
    "application/vnd.databricks.v1+cell": {
     "cellMetadata": {},
     "inputWidgets": {},
     "nuid": "88facc4d-cedc-4da5-a14b-db27ff49541c",
     "showTitle": false,
     "title": ""
    },
    "id": "tztC3oci1z3P"
   },
   "source": [
    "### Clinical Deidentification\n",
    "\n",
    "This pipeline can be used to deidentify PHI information from medical texts. The PHI information will be masked and obfuscated in the resulting text. The pipeline can mask and obfuscate `AGE`, `CONTACT`, `DATE`, `ID`, `LOCATION`, `NAME`, `PROFESSION`, `CITY`, `COUNTRY`, `DOCTOR`, `HOSPITAL`, `IDNUM`, `MEDICALRECORD`, `ORGANIZATION`, `PATIENT`, `PHONE`, `PROFESSION`, `STREET`, `USERNAME`, `ZIP`, `ACCOUNT`, `LICENSE`, `VIN`, `SSN`, `DLN`, `PLATE`, `IPADDR` entities."
   ]
  },
  {
   "cell_type": "markdown",
   "metadata": {
    "application/vnd.databricks.v1+cell": {
     "cellMetadata": {},
     "inputWidgets": {},
     "nuid": "bfd57db4-f230-40be-a3cb-0b5df00208ef",
     "showTitle": false,
     "title": ""
    },
    "id": "sAywzAqo12wX"
   },
   "source": [
    "|index|model|lang|\n",
    "|-----:|:-----|----|\n",
    "| 1| [clinical_deidentification](https://nlp.johnsnowlabs.com/2022/03/03/clinical_deidentification_de_3_0.html)  |de|\n",
    "| 2| [clinical_deidentification](https://nlp.johnsnowlabs.com/2021/05/27/clinical_deidentification_en.html)  |en|\n",
    "| 3| [clinical_deidentification_glove](https://nlp.johnsnowlabs.com/2022/03/04/clinical_deidentification_glove_en_3_0.html)  |en|\n",
    "| 4| [clinical_deidentification_glove_augmented](https://nlp.johnsnowlabs.com/2022/03/22/clinical_deidentification_glove_augmented_en_3_0.html)  |en|\n",
    "| 5| [clinical_deidentification](https://nlp.johnsnowlabs.com/2022/03/02/clinical_deidentification_es_2_4.html)  |es|\n",
    "| 6| [clinical_deidentification_augmented](https://nlp.johnsnowlabs.com/2022/03/03/clinical_deidentification_augmented_es_2_4.html)  |es|\n",
    "| 7| [clinical_deidentification](https://nlp.johnsnowlabs.com/2022/03/04/clinical_deidentification_fr_2_4.html)  |fr|\n",
    "| 8| [clinical_deidentification](https://nlp.johnsnowlabs.com/2022/03/28/clinical_deidentification_it_3_0.html)  |it|\n",
    "| 9| [clinical_deidentification](https://nlp.johnsnowlabs.com/2022/06/21/clinical_deidentification_pt_3_0.html)  |pt|\n",
    "| 10| [clinical_deidentification](https://nlp.johnsnowlabs.com/2022/06/28/clinical_deidentification_ro_3_0.html)  |ro|\n",
    "| 11| [clinical_deidentification](https://nlp.johnsnowlabs.com/2023/06/22/clinical_deidentification_ar.html)  |ar|\n"
   ]
  },
  {
   "cell_type": "markdown",
   "metadata": {
    "application/vnd.databricks.v1+cell": {
     "cellMetadata": {},
     "inputWidgets": {},
     "nuid": "4fa65657-0eee-4cb6-b515-22ee7191e14e",
     "showTitle": false,
     "title": ""
    },
    "id": "SEj8PjHS15jV"
   },
   "source": [
    "You can find **`German`, `Spanish`, `French`, `Italian`, `Portuguese`, `Romanian`**  and **`Arabic`**  deidentification models and pretrained pipeline examples in this notebook:   [Clinical Multi Language Deidentification Notebook](https://github.com/JohnSnowLabs/spark-nlp-workshop/blob/master/tutorials/Certification_Trainings/Healthcare/4.1.Clinical_Multi_Language_Deidentification.ipynb)\n"
   ]
  },
  {
   "cell_type": "code",
   "execution_count": 0,
   "metadata": {
    "application/vnd.databricks.v1+cell": {
     "cellMetadata": {
      "byteLimit": 2048000,
      "rowLimit": 10000
     },
     "inputWidgets": {},
     "nuid": "a1a5cab6-1c51-48e4-91f0-625ce68c0781",
     "showTitle": false,
     "title": ""
    },
    "colab": {
     "base_uri": "https://localhost:8080/"
    },
    "executionInfo": {
     "elapsed": 167848,
     "status": "ok",
     "timestamp": 1707941229430,
     "user": {
      "displayName": "Akar Öztürk",
      "userId": "07602883577262601067"
     },
     "user_tz": -60
    },
    "id": "sc2H51JE1772",
    "outputId": "9b525b79-04c9-4086-e035-5f5c95311ff7"
   },
   "outputs": [
    {
     "output_type": "stream",
     "name": "stdout",
     "output_type": "stream",
     "text": [
      "clinical_deidentification download started this may take some time.\nApprox size to download 1.6 GB\n\r[ | ]\r[ / ]\r[ — ]\r[ \\ ]\r[ | ]\r[ / ]\r[ — ]\r[ \\ ]\r[ | ]\r[ / ]\r[ — ]\r[ \\ ]\r[ | ]\r[ / ]\r[OK!]\n"
     ]
    }
   ],
   "source": [
    "deid_pipeline = nlp.PretrainedPipeline(\"clinical_deidentification\", \"en\", \"clinical/models\")"
   ]
  },
  {
   "cell_type": "code",
   "execution_count": 0,
   "metadata": {
    "application/vnd.databricks.v1+cell": {
     "cellMetadata": {
      "byteLimit": 2048000,
      "rowLimit": 10000
     },
     "inputWidgets": {},
     "nuid": "ef4ce9ed-b553-4a5f-8005-c6634cfa3c36",
     "showTitle": false,
     "title": ""
    },
    "id": "HCHWGek717-1"
   },
   "outputs": [],
   "source": [
    "deid_res = deid_pipeline.annotate(\"Record date : 2093-01-13 , David Hale , M.D .  Name : Hendrickson , Ora MR 25 years-old . # 719435 Date : 01/13/93 . Signed by Oliveira Sander . Record date : 2079-11-09 . Cocke County Baptist Hospital . 0295 Keats Street. Phone 302-786-5227.\")"
   ]
  },
  {
   "cell_type": "code",
   "execution_count": 0,
   "metadata": {
    "application/vnd.databricks.v1+cell": {
     "cellMetadata": {
      "byteLimit": 2048000,
      "rowLimit": 10000
     },
     "inputWidgets": {},
     "nuid": "d57084ad-b514-4d68-aaed-046aa346e634",
     "showTitle": false,
     "title": ""
    },
    "colab": {
     "base_uri": "https://localhost:8080/"
    },
    "executionInfo": {
     "elapsed": 16,
     "status": "ok",
     "timestamp": 1707941233573,
     "user": {
      "displayName": "Akar Öztürk",
      "userId": "07602883577262601067"
     },
     "user_tz": -60
    },
    "id": "4jM0JvmE18B5",
    "outputId": "22eb93ac-e134-4abd-e12e-2948b703cae1"
   },
   "outputs": [
    {
     "output_type": "stream",
     "name": "stdout",
     "output_type": "stream",
     "text": [
      "Out[57]: dict_keys(['masked', 'obfuscated', 'ner_chunk', 'masked_fixed_length_chars', 'sentence', 'masked_with_chars'])"
     ]
    }
   ],
   "source": [
    "deid_res.keys()"
   ]
  },
  {
   "cell_type": "code",
   "execution_count": 0,
   "metadata": {
    "application/vnd.databricks.v1+cell": {
     "cellMetadata": {
      "byteLimit": 2048000,
      "rowLimit": 10000
     },
     "inputWidgets": {},
     "nuid": "dd65f139-f867-45c9-8e46-682d72f27a92",
     "showTitle": false,
     "title": ""
    },
    "colab": {
     "base_uri": "https://localhost:8080/",
     "height": 477
    },
    "executionInfo": {
     "elapsed": 14,
     "status": "ok",
     "timestamp": 1707941233573,
     "user": {
      "displayName": "Akar Öztürk",
      "userId": "07602883577262601067"
     },
     "user_tz": -60
    },
    "id": "eAnS6Cc418GO",
    "outputId": "30edeea0-f14f-4182-f206-140479503302"
   },
   "outputs": [
    {
     "output_type": "display_data",
     "data": {
      "text/html": [
       "<div>\n",
       "<style scoped>\n",
       "    .dataframe tbody tr th:only-of-type {\n",
       "        vertical-align: middle;\n",
       "    }\n",
       "\n",
       "    .dataframe tbody tr th {\n",
       "        vertical-align: top;\n",
       "    }\n",
       "\n",
       "    .dataframe thead th {\n",
       "        text-align: right;\n",
       "    }\n",
       "</style>\n",
       "<table border=\"1\" class=\"dataframe\">\n",
       "  <thead>\n",
       "    <tr style=\"text-align: right;\">\n",
       "      <th></th>\n",
       "      <th>Sentence</th>\n",
       "      <th>Masked</th>\n",
       "      <th>Masked with Chars</th>\n",
       "      <th>Masked with Fixed Chars</th>\n",
       "      <th>Obfuscated</th>\n",
       "    </tr>\n",
       "  </thead>\n",
       "  <tbody>\n",
       "    <tr>\n",
       "      <th>0</th>\n",
       "      <td>Record date : 2093-01-13 , David Hale , M.D .</td>\n",
       "      <td>Record date : &lt;DATE&gt; , &lt;DOCTOR&gt; , M.D .</td>\n",
       "      <td>Record date : [********] , [********] , M.D .</td>\n",
       "      <td>Record date : **** , **** , M.D .</td>\n",
       "      <td>Record date : 2093-03-05 , Rozelle Logan , M.D .</td>\n",
       "    </tr>\n",
       "    <tr>\n",
       "      <th>1</th>\n",
       "      <td>Name : Hendrickson , Ora MR 25 years-old .</td>\n",
       "      <td>Name : &lt;PATIENT&gt; MR &lt;AGE&gt; years-old .</td>\n",
       "      <td>Name : [***************] MR ** years-old .</td>\n",
       "      <td>Name : **** MR **** years-old .</td>\n",
       "      <td>Name : Jerrol Banana MR 28 years-old .</td>\n",
       "    </tr>\n",
       "    <tr>\n",
       "      <th>2</th>\n",
       "      <td># 719435 Date : 01/13/93 .</td>\n",
       "      <td># &lt;MEDICALRECORD&gt; Date : &lt;DATE&gt; .</td>\n",
       "      <td># [****] Date : [******] .</td>\n",
       "      <td># **** Date : **** .</td>\n",
       "      <td># 161096 Date : 03/05/93 .</td>\n",
       "    </tr>\n",
       "    <tr>\n",
       "      <th>3</th>\n",
       "      <td>Signed by Oliveira Sander .</td>\n",
       "      <td>Signed by &lt;DOCTOR&gt; .</td>\n",
       "      <td>Signed by [*************] .</td>\n",
       "      <td>Signed by **** .</td>\n",
       "      <td>Signed by Katha Hamming .</td>\n",
       "    </tr>\n",
       "    <tr>\n",
       "      <th>4</th>\n",
       "      <td>Record date : 2079-11-09 .</td>\n",
       "      <td>Record date : &lt;DATE&gt; .</td>\n",
       "      <td>Record date : [********] .</td>\n",
       "      <td>Record date : **** .</td>\n",
       "      <td>Record date : 2079-12-30 .</td>\n",
       "    </tr>\n",
       "    <tr>\n",
       "      <th>5</th>\n",
       "      <td>Cocke County Baptist Hospital . 0295 Keats Street.</td>\n",
       "      <td>&lt;LOCATION&gt;.</td>\n",
       "      <td>[***********************************************].</td>\n",
       "      <td>****.</td>\n",
       "      <td>1559 Sparta Street.</td>\n",
       "    </tr>\n",
       "    <tr>\n",
       "      <th>6</th>\n",
       "      <td>Phone 302-786-5227.</td>\n",
       "      <td>Phone &lt;PHONE&gt;.</td>\n",
       "      <td>Phone [**********].</td>\n",
       "      <td>Phone ****.</td>\n",
       "      <td>Phone 045-409-8119.</td>\n",
       "    </tr>\n",
       "  </tbody>\n",
       "</table>\n",
       "</div>"
      ]
     },
     "metadata": {
      "application/vnd.databricks.v1+output": {
       "addedWidgets": {},
       "arguments": {},
       "data": "<div>\n<style scoped>\n    .dataframe tbody tr th:only-of-type {\n        vertical-align: middle;\n    }\n\n    .dataframe tbody tr th {\n        vertical-align: top;\n    }\n\n    .dataframe thead th {\n        text-align: right;\n    }\n</style>\n<table border=\"1\" class=\"dataframe\">\n  <thead>\n    <tr style=\"text-align: right;\">\n      <th></th>\n      <th>Sentence</th>\n      <th>Masked</th>\n      <th>Masked with Chars</th>\n      <th>Masked with Fixed Chars</th>\n      <th>Obfuscated</th>\n    </tr>\n  </thead>\n  <tbody>\n    <tr>\n      <th>0</th>\n      <td>Record date : 2093-01-13 , David Hale , M.D .</td>\n      <td>Record date : &lt;DATE&gt; , &lt;DOCTOR&gt; , M.D .</td>\n      <td>Record date : [********] , [********] , M.D .</td>\n      <td>Record date : **** , **** , M.D .</td>\n      <td>Record date : 2093-03-05 , Rozelle Logan , M.D .</td>\n    </tr>\n    <tr>\n      <th>1</th>\n      <td>Name : Hendrickson , Ora MR 25 years-old .</td>\n      <td>Name : &lt;PATIENT&gt; MR &lt;AGE&gt; years-old .</td>\n      <td>Name : [***************] MR ** years-old .</td>\n      <td>Name : **** MR **** years-old .</td>\n      <td>Name : Jerrol Banana MR 28 years-old .</td>\n    </tr>\n    <tr>\n      <th>2</th>\n      <td># 719435 Date : 01/13/93 .</td>\n      <td># &lt;MEDICALRECORD&gt; Date : &lt;DATE&gt; .</td>\n      <td># [****] Date : [******] .</td>\n      <td># **** Date : **** .</td>\n      <td># 161096 Date : 03/05/93 .</td>\n    </tr>\n    <tr>\n      <th>3</th>\n      <td>Signed by Oliveira Sander .</td>\n      <td>Signed by &lt;DOCTOR&gt; .</td>\n      <td>Signed by [*************] .</td>\n      <td>Signed by **** .</td>\n      <td>Signed by Katha Hamming .</td>\n    </tr>\n    <tr>\n      <th>4</th>\n      <td>Record date : 2079-11-09 .</td>\n      <td>Record date : &lt;DATE&gt; .</td>\n      <td>Record date : [********] .</td>\n      <td>Record date : **** .</td>\n      <td>Record date : 2079-12-30 .</td>\n    </tr>\n    <tr>\n      <th>5</th>\n      <td>Cocke County Baptist Hospital . 0295 Keats Street.</td>\n      <td>&lt;LOCATION&gt;.</td>\n      <td>[***********************************************].</td>\n      <td>****.</td>\n      <td>1559 Sparta Street.</td>\n    </tr>\n    <tr>\n      <th>6</th>\n      <td>Phone 302-786-5227.</td>\n      <td>Phone &lt;PHONE&gt;.</td>\n      <td>Phone [**********].</td>\n      <td>Phone ****.</td>\n      <td>Phone 045-409-8119.</td>\n    </tr>\n  </tbody>\n</table>\n</div>",
       "datasetInfos": [],
       "metadata": {},
       "removedWidgets": [],
       "textData": null,
       "type": "htmlSandbox"
      }
     },
     "output_type": "display_data"
    }
   ],
   "source": [
    "pd.set_option(\"display.max_colwidth\", 100)\n",
    "\n",
    "df= pd.DataFrame(list(zip(deid_res[\"sentence\"],\n",
    "                          deid_res[\"masked\"],\n",
    "                          deid_res[\"masked_with_chars\"],\n",
    "                          deid_res[\"masked_fixed_length_chars\"],\n",
    "                          deid_res[\"obfuscated\"])),\n",
    "                 columns= [\"Sentence\", \"Masked\", \"Masked with Chars\", \"Masked with Fixed Chars\", \"Obfuscated\"])\n",
    "\n",
    "df"
   ]
  },
  {
   "cell_type": "markdown",
   "metadata": {
    "application/vnd.databricks.v1+cell": {
     "cellMetadata": {},
     "inputWidgets": {},
     "nuid": "ee6ecda3-a7a6-4d9b-995b-d93fb52ba23e",
     "showTitle": false,
     "title": ""
    },
    "id": "we4BG36TDBBQ"
   },
   "source": [
    "## NER Pipelines"
   ]
  },
  {
   "cell_type": "markdown",
   "metadata": {
    "application/vnd.databricks.v1+cell": {
     "cellMetadata": {},
     "inputWidgets": {},
     "nuid": "0a5dbae9-74f3-44e0-af7c-652ad53e44fd",
     "showTitle": false,
     "title": ""
    },
    "id": "_dWNX1Npkv4P"
   },
   "source": [
    "**`NER pretrained ` Model List**\n",
    "\n",
    "|index|model|index|model|index|model|index|model|\n",
    "|-----:|:-----|-----:|:-----|-----:|:-----|-----:|:-----|\n",
    "| 1| [jsl_ner_wip_clinical_pipeline](https://nlp.johnsnowlabs.com/2022/03/21/jsl_ner_wip_clinical_pipeline_en_3_0.html)  | 2| [jsl_ner_wip_greedy_biobert_pipeline](https://nlp.johnsnowlabs.com/2022/03/21/jsl_ner_wip_greedy_biobert_pipeline_en_3_0.html)  | 3| [jsl_ner_wip_greedy_clinical_pipeline](https://nlp.johnsnowlabs.com/2022/03/21/jsl_ner_wip_greedy_clinical_pipeline_en_3_0.html)  | 4| [jsl_ner_wip_modifier_clinical_pipeline](https://nlp.johnsnowlabs.com/2022/03/21/jsl_ner_wip_modifier_clinical_pipeline_en_3_0.html)  |\n",
    "| 5| [jsl_rd_ner_wip_greedy_biobert_pipeline](https://nlp.johnsnowlabs.com/2022/03/21/jsl_rd_ner_wip_greedy_biobert_pipeline_en_3_0.html)  | 6| [jsl_rd_ner_wip_greedy_clinical_pipeline](https://nlp.johnsnowlabs.com/2022/03/21/jsl_rd_ner_wip_greedy_clinical_pipeline_en_3_0.html)  | 7| [ner_abbreviation_clinical_pipeline](https://nlp.johnsnowlabs.com/2022/03/21/ner_abbreviation_clinical_pipeline_en_3_0.html)  | 8| [ner_ade_biobert_pipeline](https://nlp.johnsnowlabs.com/2022/03/21/ner_ade_biobert_pipeline_en_3_0.html)  |\n",
    "| 9| [ner_ade_clinical_pipeline](https://nlp.johnsnowlabs.com/2022/03/21/ner_ade_clinical_pipeline_en_3_0.html)  | 10| [ner_ade_clinicalbert_pipeline](https://nlp.johnsnowlabs.com/2022/03/21/ner_ade_clinicalbert_pipeline_en_3_0.html)  | 11| [ner_ade_healthcare_pipeline](https://nlp.johnsnowlabs.com/2022/03/22/ner_ade_healthcare_pipeline_en_3_0.html)  | 12| [ner_anatomy_biobert_pipeline](https://nlp.johnsnowlabs.com/2022/03/21/ner_anatomy_biobert_pipeline_en_3_0.html)  |\n",
    "| 13| [ner_anatomy_coarse_biobert_pipeline](https://nlp.johnsnowlabs.com/2022/03/21/ner_anatomy_coarse_biobert_pipeline_en_3_0.html)  | 14| [ner_anatomy_coarse_pipeline](https://nlp.johnsnowlabs.com/2022/03/21/ner_anatomy_coarse_pipeline_en_3_0.html)  | 15| [ner_anatomy_pipeline](https://nlp.johnsnowlabs.com/2022/03/21/ner_anatomy_pipeline_en_3_0.html)  | 16| [ner_bacterial_species_pipeline](https://nlp.johnsnowlabs.com/2022/03/21/ner_bacterial_species_pipeline_en_3_0.html)  |\n",
    "| 17| [ner_biomarker_pipeline](https://nlp.johnsnowlabs.com/2022/03/21/ner_biomarker_pipeline_en_3_0.html)  | 18| [ner_biomedical_bc2gm_pipeline](https://nlp.johnsnowlabs.com/2022/06/22/ner_biomedical_bc2gm_pipeline_en_3_0.html)  | 19| [ner_bionlp_biobert_pipeline](https://nlp.johnsnowlabs.com/2022/03/21/ner_bionlp_biobert_pipeline_en_3_0.html)  | 20| [ner_bionlp_pipeline](https://nlp.johnsnowlabs.com/2022/03/21/ner_bionlp_pipeline_en_3_0.html)  |\n",
    "| 21| [ner_cancer_genetics_pipeline](https://nlp.johnsnowlabs.com/2022/03/21/ner_cancer_genetics_pipeline_en_3_0.html)  | 22| [ner_cellular_biobert_pipeline](https://nlp.johnsnowlabs.com/2022/03/21/ner_cellular_biobert_pipeline_en_3_0.html)  | 23| [ner_cellular_pipeline](https://nlp.johnsnowlabs.com/2022/03/21/ner_cellular_pipeline_en_3_0.html)  | 24| [ner_chemicals_pipeline](https://nlp.johnsnowlabs.com/2022/03/21/ner_chemicals_pipeline_en_3_0.html)  |\n",
    "| 25| [ner_chemprot_biobert_pipeline](https://nlp.johnsnowlabs.com/2022/03/21/ner_chemprot_biobert_pipeline_en_3_0.html)  | 26| [ner_chemprot_clinical_pipeline](https://nlp.johnsnowlabs.com/2022/03/21/ner_chemprot_clinical_pipeline_en_3_0.html)  | 27| [ner_chexpert_pipeline](https://nlp.johnsnowlabs.com/2022/03/21/ner_chexpert_pipeline_en_3_0.html)  | 28| [ner_clinical_biobert_pipeline](https://nlp.johnsnowlabs.com/2022/03/21/ner_clinical_biobert_pipeline_en_3_0.html)  |\n",
    "| 29| [ner_clinical_large_pipeline](https://nlp.johnsnowlabs.com/2022/03/21/ner_clinical_large_pipeline_en_3_0.html)  | 30| [ner_clinical_pipeline](https://nlp.johnsnowlabs.com/2022/03/21/ner_clinical_pipeline_en_3_0.html)  | 31| [ner_clinical_trials_abstracts_pipeline](https://nlp.johnsnowlabs.com/2022/06/27/ner_clinical_trials_abstracts_pipeline_en_3_0.html)  | 32| [ner_diseases_biobert_pipeline](https://nlp.johnsnowlabs.com/2022/03/21/ner_diseases_biobert_pipeline_en_3_0.html)  |\n",
    "| 33| [ner_diseases_large_pipeline](https://nlp.johnsnowlabs.com/2022/03/21/ner_diseases_large_pipeline_en_3_0.html)  | 34| [ner_diseases_pipeline](https://nlp.johnsnowlabs.com/2022/03/21/ner_diseases_pipeline_en_3_0.html)  | 35| [ner_drugprot_clinical_pipeline](https://nlp.johnsnowlabs.com/2022/03/21/ner_drugprot_clinical_pipeline_en_3_0.html)  | 36| [ner_drugs_greedy_pipeline](https://nlp.johnsnowlabs.com/2022/03/21/ner_drugs_greedy_pipeline_en_3_0.html)  |\n",
    "| 37| [ner_drugs_large_pipeline](https://nlp.johnsnowlabs.com/2022/03/21/ner_drugs_large_pipeline_en_3_0.html)  | 38| [ner_drugs_pipeline](https://nlp.johnsnowlabs.com/2022/03/21/ner_drugs_pipeline_en_3_0.html)  | 39| [ner_events_admission_clinical_pipeline](https://nlp.johnsnowlabs.com/2022/03/21/ner_events_admission_clinical_pipeline_en_3_0.html)  | 40| [ner_events_biobert_pipeline](https://nlp.johnsnowlabs.com/2022/03/21/ner_events_biobert_pipeline_en_3_0.html)  |\n",
    "| 41| [ner_events_clinical_pipeline](https://nlp.johnsnowlabs.com/2022/03/21/ner_events_clinical_pipeline_en_3_0.html)  | 42| [ner_events_healthcare_pipeline](https://nlp.johnsnowlabs.com/2022/03/22/ner_events_healthcare_pipeline_en_3_0.html)  | 43| [ner_genetic_variants_pipeline](https://nlp.johnsnowlabs.com/2022/03/21/ner_genetic_variants_pipeline_en_3_0.html)  | 44| [ner_healthcare_pipeline](https://nlp.johnsnowlabs.com/2022/03/22/ner_healthcare_pipeline_en_3_0.html)  |\n",
    "| 45| [ner_human_phenotype_gene_biobert_pipeline](https://nlp.johnsnowlabs.com/2022/03/21/ner_human_phenotype_gene_biobert_pipeline_en_3_0.html)  | 46| [ner_human_phenotype_gene_clinical_pipeline](https://nlp.johnsnowlabs.com/2022/03/21/ner_human_phenotype_gene_clinical_pipeline_en_3_0.html)  | 47| [ner_human_phenotype_go_biobert_pipeline](https://nlp.johnsnowlabs.com/2022/03/21/ner_human_phenotype_go_biobert_pipeline_en_3_0.html)  | 48| [ner_human_phenotype_go_clinical_pipeline](https://nlp.johnsnowlabs.com/2022/03/21/ner_human_phenotype_go_clinical_pipeline_en_3_0.html)  |\n",
    "| 49| [ner_jsl_biobert_pipeline](https://nlp.johnsnowlabs.com/2022/03/21/ner_jsl_biobert_pipeline_en_3_0.html)  | 50| [ner_jsl_enriched_biobert_pipeline](https://nlp.johnsnowlabs.com/2022/03/21/ner_jsl_enriched_biobert_pipeline_en_3_0.html)  | 51| [ner_jsl_enriched_pipeline](https://nlp.johnsnowlabs.com/2022/03/21/ner_jsl_enriched_pipeline_en_3_0.html)  | 52| [ner_jsl_greedy_biobert_pipeline](https://nlp.johnsnowlabs.com/2022/03/21/ner_jsl_greedy_biobert_pipeline_en_3_0.html)  |\n",
    "| 53| [ner_jsl_greedy_pipeline](https://nlp.johnsnowlabs.com/2022/03/21/ner_jsl_greedy_pipeline_en_3_0.html)  | 54| [ner_jsl_pipeline](https://nlp.johnsnowlabs.com/2022/03/21/ner_jsl_pipeline_en_3_0.html)  | 55| [ner_jsl_slim_pipeline](https://nlp.johnsnowlabs.com/2022/03/21/ner_jsl_slim_pipeline_en_3_0.html)  | 56| [ner_measurements_clinical_pipeline](https://nlp.johnsnowlabs.com/2022/03/21/ner_measurements_clinical_pipeline_en_3_0.html)  |\n",
    "| 57| [ner_medmentions_coarse_pipeline](https://nlp.johnsnowlabs.com/2022/03/21/ner_medmentions_coarse_pipeline_en_3_0.html)  | 58| [ner_nihss_pipeline](https://nlp.johnsnowlabs.com/2022/03/21/ner_nihss_pipeline_en_3_0.html)  | 59| [ner_pathogen_pipeline](https://nlp.johnsnowlabs.com/2022/06/29/ner_pathogen_pipeline_en_3_0.html)  | 60| [ner_posology_biobert_pipeline](https://nlp.johnsnowlabs.com/2022/03/21/ner_posology_biobert_pipeline_en_3_0.html)  |\n",
    "| 61| [ner_posology_experimental_pipeline](https://nlp.johnsnowlabs.com/2022/03/21/ner_posology_experimental_pipeline_en_3_0.html)  | 62| [ner_posology_greedy_pipeline](https://nlp.johnsnowlabs.com/2022/03/21/ner_posology_greedy_pipeline_en_3_0.html)  | 63| [ner_posology_healthcare_pipeline](https://nlp.johnsnowlabs.com/2022/03/22/ner_posology_healthcare_pipeline_en_3_0.html)  | 64| [ner_posology_large_biobert_pipeline](https://nlp.johnsnowlabs.com/2022/03/21/ner_posology_large_biobert_pipeline_en_3_0.html)  |\n",
    "| 65| [ner_posology_large_pipeline](https://nlp.johnsnowlabs.com/2022/03/21/ner_posology_large_pipeline_en_3_0.html)  | 66| [ner_posology_pipeline](https://nlp.johnsnowlabs.com/2022/03/21/ner_posology_pipeline_en_3_0.html)  | 67| [ner_posology_small_pipeline](https://nlp.johnsnowlabs.com/2022/03/21/ner_posology_small_pipeline_en_3_0.html)  | 68| [ner_radiology_pipeline](https://nlp.johnsnowlabs.com/2022/03/21/ner_radiology_pipeline_en_3_0.html)  |\n",
    "| 69| [ner_radiology_wip_clinical_pipeline](https://nlp.johnsnowlabs.com/2022/03/21/ner_radiology_wip_clinical_pipeline_en_3_0.html)  | 70| [ner_risk_factors_biobert_pipeline](https://nlp.johnsnowlabs.com/2022/03/21/ner_risk_factors_biobert_pipeline_en_3_0.html)  | 71| [ner_risk_factors_pipeline](https://nlp.johnsnowlabs.com/2022/03/21/ner_risk_factors_pipeline_en_3_0.html)  | 72| [ner_medication_pipeline](https://nlp.johnsnowlabs.com/2022/07/26/ner_medication_pipeline_en_3_0.html)|\n"
   ]
  },
  {
   "cell_type": "markdown",
   "metadata": {
    "application/vnd.databricks.v1+cell": {
     "cellMetadata": {},
     "inputWidgets": {},
     "nuid": "931d294a-4cee-446f-843d-a55406b4190c",
     "showTitle": false,
     "title": ""
    },
    "id": "Oa9dLHDeEinJ"
   },
   "source": [
    "**Let's show an example of `ner_jsl_pipeline` can label clinical entities with about 80 different labels.**"
   ]
  },
  {
   "cell_type": "code",
   "execution_count": 0,
   "metadata": {
    "application/vnd.databricks.v1+cell": {
     "cellMetadata": {
      "byteLimit": 2048000,
      "rowLimit": 10000
     },
     "inputWidgets": {},
     "nuid": "d7423c77-85eb-4350-8091-296bfb0e2408",
     "showTitle": false,
     "title": ""
    },
    "colab": {
     "base_uri": "https://localhost:8080/"
    },
    "executionInfo": {
     "elapsed": 152976,
     "status": "ok",
     "timestamp": 1707941386536,
     "user": {
      "displayName": "Akar Öztürk",
      "userId": "07602883577262601067"
     },
     "user_tz": -60
    },
    "id": "ElYiCaKCJiEw",
    "outputId": "e4033d11-f08d-48b4-bc68-9728da2552c3"
   },
   "outputs": [
    {
     "output_type": "stream",
     "name": "stdout",
     "output_type": "stream",
     "text": [
      "ner_jsl_pipeline download started this may take some time.\nApprox size to download 1.6 GB\n\r[ | ]\r[ / ]\r[ — ]\r[OK!]\n"
     ]
    }
   ],
   "source": [
    "ner_pipeline = nlp.PretrainedPipeline('ner_jsl_pipeline', 'en', 'clinical/models')"
   ]
  },
  {
   "cell_type": "code",
   "execution_count": 0,
   "metadata": {
    "application/vnd.databricks.v1+cell": {
     "cellMetadata": {
      "byteLimit": 2048000,
      "rowLimit": 10000
     },
     "inputWidgets": {},
     "nuid": "2365bdb5-282b-47a9-8b65-59db09581bc4",
     "showTitle": false,
     "title": ""
    },
    "colab": {
     "base_uri": "https://localhost:8080/"
    },
    "executionInfo": {
     "elapsed": 12,
     "status": "ok",
     "timestamp": 1707941386536,
     "user": {
      "displayName": "Akar Öztürk",
      "userId": "07602883577262601067"
     },
     "user_tz": -60
    },
    "id": "WgUtLMViW4F8",
    "outputId": "59b40d02-7f5b-4beb-dd9d-cd86e7d4de59"
   },
   "outputs": [
    {
     "output_type": "stream",
     "name": "stdout",
     "output_type": "stream",
     "text": [
      "Out[60]: [DocumentAssembler_cefadf0e0f93,\n SentenceDetectorDLModel_c83c27f46b97,\n REGEX_TOKENIZER_9f3518f37649,\n WORD_EMBEDDINGS_MODEL_9004b1d00302,\n MedicalNerModel_c89cbceb1028,\n NER_CONVERTER_42a801d9e143]"
     ]
    }
   ],
   "source": [
    "ner_pipeline.model.stages"
   ]
  },
  {
   "cell_type": "code",
   "execution_count": 0,
   "metadata": {
    "application/vnd.databricks.v1+cell": {
     "cellMetadata": {
      "byteLimit": 2048000,
      "rowLimit": 10000
     },
     "inputWidgets": {},
     "nuid": "c5503ccc-5120-4659-ba07-9cbc8e3fb65a",
     "showTitle": false,
     "title": ""
    },
    "id": "TWhy_jhAJiCS"
   },
   "outputs": [],
   "source": [
    "text = \"\"\"A 28-year-old female with a history of gestational diabetes mellitus diagnosed eight years prior to presentation and subsequent type two diabetes mellitus ( T2DM ), one prior episode of HTG-induced pancreatitis three years prior to presentation , associated with an acute hepatitis , and obesity with a body mass index ( BMI ) of 33.5 kg/m2 , presented with a one-week history of polyuria , polydipsia , poor appetite , and vomiting .\n",
    "Two weeks prior to presentation , she was treated with a five-day course of amoxicillin for a respiratory tract infection . She was on metformin , glipizide , and dapagliflozin for T2DM and atorvastatin and gemfibrozil for HTG . She had been on dapagliflozin for six months at the time of presentation . Physical examination on presentation was significant for dry oral mucosa ; significantly , her abdominal examination was benign with no tenderness , guarding , or rigidity .\n",
    "Pertinent laboratory findings on admission were : serum glucose 111 mg/dl , bicarbonate 18 mmol/l , anion gap 20 , creatinine 0.4 mg/dL , triglycerides 508 mg/dL , total cholesterol 122 mg/dL , glycated hemoglobin ( HbA1c ) 10% , and venous pH 7.27 . Serum lipase was normal at 43 U/L . Serum acetone levels could not be assessed as blood samples kept hemolyzing due to significant lipemia .\n",
    "The patient was initially admitted for starvation ketosis , as she reported poor oral intake for three days prior to admission . However , serum chemistry obtained six hours after presentation revealed her glucose was 186 mg/dL , the anion gap was still elevated at 21 , serum bicarbonate was 16 mmol/L , triglyceride level peaked at 2050 mg/dL , and lipase was 52 U/L .\n",
    "The β-hydroxybutyrate level was obtained and found to be elevated at 5.29 mmol/L - the original sample was centrifuged and the chylomicron layer removed prior to analysis due to interference from turbidity caused by lipemia again . The patient was treated with an insulin drip for euDKA and HTG with a reduction in the anion gap to 13 and triglycerides to 1400 mg/dL , within 24 hours .\n",
    "Her euDKA was thought to be precipitated by her respiratory tract infection in the setting of SGLT2 inhibitor use . The patient was seen by the endocrinology service and she was discharged on 40 units of insulin glargine at night , 12 units of insulin lispro with meals , and metformin 1000 mg two times a day .\n",
    "It was determined that all SGLT2 inhibitors should be discontinued indefinitely . She had close follow-up with endocrinology post discharge .\"\"\"\n",
    "\n",
    "greedy_result = ner_pipeline.fullAnnotate(text)[0]"
   ]
  },
  {
   "cell_type": "code",
   "execution_count": 0,
   "metadata": {
    "application/vnd.databricks.v1+cell": {
     "cellMetadata": {
      "byteLimit": 2048000,
      "rowLimit": 10000
     },
     "inputWidgets": {},
     "nuid": "736a21e0-6311-466f-8867-85c5233db227",
     "showTitle": false,
     "title": ""
    },
    "colab": {
     "base_uri": "https://localhost:8080/"
    },
    "executionInfo": {
     "elapsed": 15,
     "status": "ok",
     "timestamp": 1707941391374,
     "user": {
      "displayName": "Akar Öztürk",
      "userId": "07602883577262601067"
     },
     "user_tz": -60
    },
    "id": "mYTauVMrYXWy",
    "outputId": "df5bf3fe-af7a-4ebb-c831-ad987852c74a"
   },
   "outputs": [
    {
     "output_type": "stream",
     "name": "stdout",
     "output_type": "stream",
     "text": [
      "Out[62]: dict_keys(['document', 'ner_chunk', 'token', 'ner', 'embeddings', 'sentence'])"
     ]
    }
   ],
   "source": [
    "greedy_result.keys()"
   ]
  },
  {
   "cell_type": "code",
   "execution_count": 0,
   "metadata": {
    "application/vnd.databricks.v1+cell": {
     "cellMetadata": {
      "byteLimit": 2048000,
      "rowLimit": 10000
     },
     "inputWidgets": {},
     "nuid": "76c348ab-7306-4750-8860-522422a295df",
     "showTitle": false,
     "title": ""
    },
    "colab": {
     "base_uri": "https://localhost:8080/",
     "height": 423
    },
    "executionInfo": {
     "elapsed": 15,
     "status": "ok",
     "timestamp": 1707941391375,
     "user": {
      "displayName": "Akar Öztürk",
      "userId": "07602883577262601067"
     },
     "user_tz": -60
    },
    "id": "SLVEyNtOJh_v",
    "outputId": "03346010-898c-4a47-80cc-4a1472883e6c"
   },
   "outputs": [
    {
     "output_type": "display_data",
     "data": {
      "text/html": [
       "<div>\n",
       "<style scoped>\n",
       "    .dataframe tbody tr th:only-of-type {\n",
       "        vertical-align: middle;\n",
       "    }\n",
       "\n",
       "    .dataframe tbody tr th {\n",
       "        vertical-align: top;\n",
       "    }\n",
       "\n",
       "    .dataframe thead th {\n",
       "        text-align: right;\n",
       "    }\n",
       "</style>\n",
       "<table border=\"1\" class=\"dataframe\">\n",
       "  <thead>\n",
       "    <tr style=\"text-align: right;\">\n",
       "      <th></th>\n",
       "      <th>chunks</th>\n",
       "      <th>begin</th>\n",
       "      <th>end</th>\n",
       "      <th>entities</th>\n",
       "    </tr>\n",
       "  </thead>\n",
       "  <tbody>\n",
       "    <tr>\n",
       "      <th>0</th>\n",
       "      <td>28-year-old</td>\n",
       "      <td>2</td>\n",
       "      <td>12</td>\n",
       "      <td>Age</td>\n",
       "    </tr>\n",
       "    <tr>\n",
       "      <th>1</th>\n",
       "      <td>female</td>\n",
       "      <td>14</td>\n",
       "      <td>19</td>\n",
       "      <td>Gender</td>\n",
       "    </tr>\n",
       "    <tr>\n",
       "      <th>2</th>\n",
       "      <td>gestational diabetes mellitus</td>\n",
       "      <td>39</td>\n",
       "      <td>67</td>\n",
       "      <td>Diabetes</td>\n",
       "    </tr>\n",
       "    <tr>\n",
       "      <th>3</th>\n",
       "      <td>eight years prior</td>\n",
       "      <td>79</td>\n",
       "      <td>95</td>\n",
       "      <td>RelativeDate</td>\n",
       "    </tr>\n",
       "    <tr>\n",
       "      <th>4</th>\n",
       "      <td>type two diabetes mellitus</td>\n",
       "      <td>128</td>\n",
       "      <td>153</td>\n",
       "      <td>Diabetes</td>\n",
       "    </tr>\n",
       "    <tr>\n",
       "      <th>...</th>\n",
       "      <td>...</td>\n",
       "      <td>...</td>\n",
       "      <td>...</td>\n",
       "      <td>...</td>\n",
       "    </tr>\n",
       "    <tr>\n",
       "      <th>116</th>\n",
       "      <td>two times a day</td>\n",
       "      <td>2357</td>\n",
       "      <td>2371</td>\n",
       "      <td>Frequency</td>\n",
       "    </tr>\n",
       "    <tr>\n",
       "      <th>117</th>\n",
       "      <td>SGLT2 inhibitors</td>\n",
       "      <td>2402</td>\n",
       "      <td>2417</td>\n",
       "      <td>Drug_Ingredient</td>\n",
       "    </tr>\n",
       "    <tr>\n",
       "      <th>118</th>\n",
       "      <td>She</td>\n",
       "      <td>2457</td>\n",
       "      <td>2459</td>\n",
       "      <td>Gender</td>\n",
       "    </tr>\n",
       "    <tr>\n",
       "      <th>119</th>\n",
       "      <td>endocrinology</td>\n",
       "      <td>2486</td>\n",
       "      <td>2498</td>\n",
       "      <td>Clinical_Dept</td>\n",
       "    </tr>\n",
       "    <tr>\n",
       "      <th>120</th>\n",
       "      <td>discharge</td>\n",
       "      <td>2505</td>\n",
       "      <td>2513</td>\n",
       "      <td>Admission_Discharge</td>\n",
       "    </tr>\n",
       "  </tbody>\n",
       "</table>\n",
       "<p>121 rows × 4 columns</p>\n",
       "</div>"
      ]
     },
     "metadata": {
      "application/vnd.databricks.v1+output": {
       "addedWidgets": {},
       "arguments": {},
       "data": "<div>\n<style scoped>\n    .dataframe tbody tr th:only-of-type {\n        vertical-align: middle;\n    }\n\n    .dataframe tbody tr th {\n        vertical-align: top;\n    }\n\n    .dataframe thead th {\n        text-align: right;\n    }\n</style>\n<table border=\"1\" class=\"dataframe\">\n  <thead>\n    <tr style=\"text-align: right;\">\n      <th></th>\n      <th>chunks</th>\n      <th>begin</th>\n      <th>end</th>\n      <th>entities</th>\n    </tr>\n  </thead>\n  <tbody>\n    <tr>\n      <th>0</th>\n      <td>28-year-old</td>\n      <td>2</td>\n      <td>12</td>\n      <td>Age</td>\n    </tr>\n    <tr>\n      <th>1</th>\n      <td>female</td>\n      <td>14</td>\n      <td>19</td>\n      <td>Gender</td>\n    </tr>\n    <tr>\n      <th>2</th>\n      <td>gestational diabetes mellitus</td>\n      <td>39</td>\n      <td>67</td>\n      <td>Diabetes</td>\n    </tr>\n    <tr>\n      <th>3</th>\n      <td>eight years prior</td>\n      <td>79</td>\n      <td>95</td>\n      <td>RelativeDate</td>\n    </tr>\n    <tr>\n      <th>4</th>\n      <td>type two diabetes mellitus</td>\n      <td>128</td>\n      <td>153</td>\n      <td>Diabetes</td>\n    </tr>\n    <tr>\n      <th>...</th>\n      <td>...</td>\n      <td>...</td>\n      <td>...</td>\n      <td>...</td>\n    </tr>\n    <tr>\n      <th>116</th>\n      <td>two times a day</td>\n      <td>2357</td>\n      <td>2371</td>\n      <td>Frequency</td>\n    </tr>\n    <tr>\n      <th>117</th>\n      <td>SGLT2 inhibitors</td>\n      <td>2402</td>\n      <td>2417</td>\n      <td>Drug_Ingredient</td>\n    </tr>\n    <tr>\n      <th>118</th>\n      <td>She</td>\n      <td>2457</td>\n      <td>2459</td>\n      <td>Gender</td>\n    </tr>\n    <tr>\n      <th>119</th>\n      <td>endocrinology</td>\n      <td>2486</td>\n      <td>2498</td>\n      <td>Clinical_Dept</td>\n    </tr>\n    <tr>\n      <th>120</th>\n      <td>discharge</td>\n      <td>2505</td>\n      <td>2513</td>\n      <td>Admission_Discharge</td>\n    </tr>\n  </tbody>\n</table>\n<p>121 rows × 4 columns</p>\n</div>",
       "datasetInfos": [],
       "metadata": {},
       "removedWidgets": [],
       "textData": null,
       "type": "htmlSandbox"
      }
     },
     "output_type": "display_data"
    }
   ],
   "source": [
    "import pandas as pd\n",
    "\n",
    "chunks=[]\n",
    "entities=[]\n",
    "begins=[]\n",
    "ends=[]\n",
    "\n",
    "for n in greedy_result['ner_chunk']:\n",
    "\n",
    "    chunks.append(n.result)\n",
    "    begins.append(n.begin)\n",
    "    ends.append(n.end)\n",
    "    entities.append(n.metadata['entity'])\n",
    "\n",
    "df = pd.DataFrame({'chunks':chunks, 'begin':begins, 'end':ends, 'entities':entities})\n",
    "\n",
    "df"
   ]
  },
  {
   "cell_type": "markdown",
   "metadata": {
    "application/vnd.databricks.v1+cell": {
     "cellMetadata": {},
     "inputWidgets": {},
     "nuid": "949998d0-9b90-4a9d-b02c-669027bd86f4",
     "showTitle": false,
     "title": ""
    },
    "id": "K9H6QZZdcNXH"
   },
   "source": [
    "## Bert Based NER Pipelines\n"
   ]
  },
  {
   "cell_type": "markdown",
   "metadata": {
    "application/vnd.databricks.v1+cell": {
     "cellMetadata": {},
     "inputWidgets": {},
     "nuid": "ad84a86f-960e-40bc-bd16-bdf94304d3e8",
     "showTitle": false,
     "title": ""
    },
    "id": "T8uB2IfRHYZ3"
   },
   "source": [
    "**`bert token classification pretrained ` Model List**\n",
    "\n",
    "| Index | Model                                                                                       | Index | Model                                                                                      |\n",
    "| ----  | ------------------------------------------------------------------------------------------- | ----  | ------------------------------------------------------------------------------------------ |\n",
    "| 1.    | [bert_token_classifier_ade_tweet_binary_pipeline](https://nlp.johnsnowlabs.com/2023/03/20/bert_token_classifier_ade_tweet_binary_pipeline_en.html)                                      | 19.   | [bert_token_classifier_ner_chemicals_pipeline](https://nlp.johnsnowlabs.com/2022/03/14/bert_token_classifier_ner_chemicals_pipeline_en_2_4.html)                                        |\n",
    "| 2.    | [bert_token_classifier_disease_mentions_tweet_pipeline](https://nlp.johnsnowlabs.com/2023/03/20/bert_token_classifier_disease_mentions_tweet_pipeline_es.html)                                | 20.   | [bert_token_classifier_ner_chemprot_pipeline](https://nlp.johnsnowlabs.com/2022/03/15/bert_token_classifier_ner_chemprot_pipeline_en_2_4.html)                                         |\n",
    "| 3.    | [bert_token_classifier_ner_jsl](https://nlp.johnsnowlabs.com/2021/08/28/bert_token_classifier_ner_jsl_en.html)                                                          | 21.   | [bert_token_classifier_ner_clinical_pipeline](https://nlp.johnsnowlabs.com/2022/03/15/bert_token_classifier_ner_clinical_pipeline_en_2_4.html)                                         |\n",
    "| 4.    | [bert_token_classifier_drug_development_trials_pipeline](https://nlp.johnsnowlabs.com/2022/03/23/bert_token_classifier_drug_development_trials_pipeline_en_3_0.html)                                | 22.   | [bert_token_classifier_ner_clinical_trials_abstracts_pipeline](https://nlp.johnsnowlabs.com/2023/03/20/bert_token_classifier_ner_clinical_trials_abstracts_pipeline_en.html)                                          |\n",
    "| 5.    | [bert_token_classifier_dutch_udlassy_ner_pipeline](https://nlp.johnsnowlabs.com/2022/04/19/bert_token_classifier_dutch_udlassy_ner_pipeline_nl_3_0.html)                                      | 23.   | [bert_token_classifier_ner_deid_pipeline](https://nlp.johnsnowlabs.com/2022/03/21/bert_token_classifier_ner_deid_pipeline_en_3_0.html)                                             |\n",
    "| 6.    | [bert_token_classifier_hi_en_ner_pipeline](https://nlp.johnsnowlabs.com/2022/03/22/bert_token_classifier_hi_en_ner_pipeline_hi_3_0.html)                                              | 24.   | [bert_token_classifier_drug_development_trials](https://nlp.johnsnowlabs.com/2021/12/17/bert_token_classifier_drug_development_trials_en.html)                                       |\n",
    "| 7.    | [bert_token_classifier_negation_uncertainty_pipeline](https://nlp.johnsnowlabs.com/2023/03/20/bert_token_classifier_negation_uncertainty_pipeline_es.html)                       | 25.   | [bert_token_classifier_ner_drugs_pipeline](https://nlp.johnsnowlabs.com/2022/03/21/bert_token_classifier_ner_drugs_pipeline_en_3_0.html)                                            |\n",
    "| 8.    | [bert_token_classifier_ner_ade_binary_pipeline](https://nlp.johnsnowlabs.com/2023/03/20/bert_token_classifier_ner_ade_binary_pipeline_en.html)                                  | 26.   | [bert_token_classifier_ner_jnlpba_cellular_pipeline](https://nlp.johnsnowlabs.com/2023/03/20/bert_token_classifier_ner_jnlpba_cellular_pipeline_en.html)                                  |\n",
    "| 9.    | [bert_token_classifier_ner_ade_pipeline](https://nlp.johnsnowlabs.com/2022/03/21/bert_token_classifier_ner_ade_pipeline_en_3_0.html)                                           | 27.   | [bert_token_classifier_ner_jsl_pipeline](https://nlp.johnsnowlabs.com/2022/03/23/bert_token_classifier_ner_jsl_pipeline_en_3_0.html)                                              |\n",
    "| 10.   | [bert_token_classifier_ner_anatem_pipeline](https://nlp.johnsnowlabs.com/2023/03/20/bert_token_classifier_ner_anatem_pipeline_en.html)                                      | 28.   | [bert_token_classifier_ner_jsl_slim_pipeline](https://nlp.johnsnowlabs.com/2022/03/21/bert_token_classifier_ner_jsl_slim_pipeline_en_3_0.html)                                 |\n",
    "| 11.   | [bert_token_classifier_ner_anatomy_pipeline](https://nlp.johnsnowlabs.com/2022/03/21/bert_token_classifier_ner_anatomy_pipeline_en_3_0.html)                                 | 29.   | [bert_token_classifier_ner_linnaeus_species_pipeline](https://nlp.johnsnowlabs.com/2023/03/20/bert_token_classifier_ner_linnaeus_species_pipeline_en.html)                          |\n",
    "| 12.   | [bert_token_classifier_ner_bacteria_pipeline](https://nlp.johnsnowlabs.com/2022/03/21/bert_token_classifier_ner_bacteria_pipeline_en_3_0.html)                               | 30.   | [bert_token_classifier_ner_living_species_pipeline](https://nlp.johnsnowlabs.com/2023/03/20/bert_token_classifier_ner_living_species_pipeline_en.html)                      |\n",
    "| 13.   | [bert_token_classifier_ner_bc2gm_gene_pipeline](https://nlp.johnsnowlabs.com/2023/03/20/bert_token_classifier_ner_bc2gm_gene_pipeline_en.html)                                   | 31.   | [bert_token_classifier_ner_ncbi_disease_pipeline](https://nlp.johnsnowlabs.com/2023/03/20/bert_token_classifier_ner_ncbi_disease_pipeline_en.html)                            |\n",
    "| 14.   | [bert_token_classifier_ner_bc4chemd_chemicals_pipeline](https://nlp.johnsnowlabs.com/2023/03/20/bert_token_classifier_ner_bc4chemd_chemicals_pipeline_en.html)                       | 32.   | [bert_token_classifier_ner_pathogen_pipeline](https://nlp.johnsnowlabs.com/2023/03/20/bert_token_classifier_ner_pathogen_pipeline_en.html)                                     |\n",
    "| 15.   | [bert_token_classifier_ner_bc5cdr_chemicals_pipeline](https://nlp.johnsnowlabs.com/2023/03/20/bert_token_classifier_ner_bc5cdr_chemicals_pipeline_en.html)                       | 33.   | [bert_token_classifier_ner_species_pipeline](https://nlp.johnsnowlabs.com/2023/03/20/bert_token_classifier_ner_species_pipeline_en.html)                                      |\n",
    "| 16.   | [bert_token_classifier_ner_bc5cdr_disease_pipeline](https://nlp.johnsnowlabs.com/2023/03/20/bert_token_classifier_ner_bc5cdr_disease_pipeline_en.html)                       | 34.   | [bert_token_classifier_pharmacology_pipeline](https://nlp.johnsnowlabs.com/2023/03/20/bert_token_classifier_pharmacology_pipeline_es.html)                                 |\n",
    "| 17.   | [bert_token_classifier_ner_bionlp_pipeline](https://nlp.johnsnowlabs.com/2022/03/21/bert_token_classifier_ner_bionlp_pipeline_en_3_0.html)                               | 35.   | [bert_token_classifier_scandi_ner_pipeline](https://nlp.johnsnowlabs.com/2022/02/15/bert_token_classifier_scandi_ner_pipeline_xx.html)                                    |\n",
    "| 18.   | [bert_token_classifier_ner_cellular_pipeline](https://nlp.johnsnowlabs.com/2022/03/09/bert_token_classifier_ner_cellular_pipeline_en_3_0.html)                               |                                                                                                                      |\n"
   ]
  },
  {
   "cell_type": "markdown",
   "metadata": {
    "application/vnd.databricks.v1+cell": {
     "cellMetadata": {},
     "inputWidgets": {},
     "nuid": "e9c165a2-ecbc-4a74-b9bd-fd70f43b1b47",
     "showTitle": false,
     "title": ""
    },
    "id": "1Ly5RjJ8Gy6c"
   },
   "source": [
    "**Let's show an example of `bert_token_classifier_ner_drugs_pipeline` can extract `DRUG` entities in clinical texts.**"
   ]
  },
  {
   "cell_type": "code",
   "execution_count": 0,
   "metadata": {
    "application/vnd.databricks.v1+cell": {
     "cellMetadata": {
      "byteLimit": 2048000,
      "rowLimit": 10000
     },
     "inputWidgets": {},
     "nuid": "1227962c-0ceb-4c82-9256-b2133fb94118",
     "showTitle": false,
     "title": ""
    },
    "colab": {
     "base_uri": "https://localhost:8080/"
    },
    "executionInfo": {
     "elapsed": 44801,
     "status": "ok",
     "timestamp": 1707941436170,
     "user": {
      "displayName": "Akar Öztürk",
      "userId": "07602883577262601067"
     },
     "user_tz": -60
    },
    "id": "H6RziJjqcNXH",
    "outputId": "723a345a-fbf0-453d-b632-32866ff27152"
   },
   "outputs": [
    {
     "output_type": "stream",
     "name": "stdout",
     "output_type": "stream",
     "text": [
      "bert_token_classifier_ner_drugs_pipeline download started this may take some time.\nApprox size to download 386.1 MB\n\r[ | ]\r[ / ]\r[ — ]\r[ \\ ]\r[ | ]\r[ / ]\r[ — ]\r[ \\ ]\r[ | ]\r[ / ]\r[ — ]\r[ \\ ]\r[ | ]\r[OK!]\n"
     ]
    }
   ],
   "source": [
    "bert_token_pipeline = nlp.PretrainedPipeline(\"bert_token_classifier_ner_drugs_pipeline\", \"en\", \"clinical/models\")"
   ]
  },
  {
   "cell_type": "code",
   "execution_count": 0,
   "metadata": {
    "application/vnd.databricks.v1+cell": {
     "cellMetadata": {
      "byteLimit": 2048000,
      "rowLimit": 10000
     },
     "inputWidgets": {},
     "nuid": "8c51dbf3-0b08-45b0-99dc-bb608343e04e",
     "showTitle": false,
     "title": ""
    },
    "colab": {
     "base_uri": "https://localhost:8080/"
    },
    "executionInfo": {
     "elapsed": 13,
     "status": "ok",
     "timestamp": 1707941436171,
     "user": {
      "displayName": "Akar Öztürk",
      "userId": "07602883577262601067"
     },
     "user_tz": -60
    },
    "id": "I23XFfDccNXH",
    "outputId": "9704f6ef-f7f3-420e-da64-2e94d4779292"
   },
   "outputs": [
    {
     "output_type": "stream",
     "name": "stdout",
     "output_type": "stream",
     "text": [
      "Out[65]: [DocumentAssembler_fbb1736f8270,\n SentenceDetectorDLModel_8aaebf7e098e,\n REGEX_TOKENIZER_850521bf52e3,\n BERT_FOR_TOKEN_CLASSIFICATION_3fa6213c0542,\n NER_CONVERTER_70b935c1d6d8]"
     ]
    }
   ],
   "source": [
    "bert_token_pipeline.model.stages"
   ]
  },
  {
   "cell_type": "code",
   "execution_count": 0,
   "metadata": {
    "application/vnd.databricks.v1+cell": {
     "cellMetadata": {
      "byteLimit": 2048000,
      "rowLimit": 10000
     },
     "inputWidgets": {},
     "nuid": "ffe2b317-bd59-4e71-beb4-517d436fd433",
     "showTitle": false,
     "title": ""
    },
    "id": "WoldKg4mcNXH"
   },
   "outputs": [],
   "source": [
    "test_sentence = \"\"\"The human KCNJ9 (Kir 3.3, GIRK3) is a member of the G-protein-activated inwardly rectifying potassium (GIRK) channel family. Here we describe the genomicorganization of the KCNJ9 locus on chromosome 1q21-23 as a candidate gene forType II diabetes mellitus in the Pima Indian population. The gene spansapproximately 7.6 kb and contains one noncoding and two coding exons separated byapproximately 2.2 and approximately 2.6 kb introns, respectively. We identified14 single nucleotide polymorphisms (SNPs), including one that predicts aVal366Ala substitution, and an 8 base-pair (bp) insertion/deletion. Ourexpression studies revealed the presence of the transcript in various humantissues including pancreas, and two major insulin-responsive tissues: fat andskeletal muscle. The characterization of the KCNJ9 gene should facilitate furtherstudies on the function of the KCNJ9 protein and allow evaluation of thepotential role of the locus in Type II diabetes.BACKGROUND: At present, it is one of the most important issues for the treatment of breast cancer to develop the standard therapy for patients previously treated with anthracyclines and taxanes. With the objective of determining the usefulnessof vinorelbine monotherapy in patients with advanced or recurrent breast cancerafter standard therapy, we evaluated the efficacy and safety of vinorelbine inpatients previously treated with anthracyclines and taxanes.\"\"\"\n",
    "\n",
    "bert_result = bert_token_pipeline.fullAnnotate(test_sentence)[0]"
   ]
  },
  {
   "cell_type": "code",
   "execution_count": 0,
   "metadata": {
    "application/vnd.databricks.v1+cell": {
     "cellMetadata": {
      "byteLimit": 2048000,
      "rowLimit": 10000
     },
     "inputWidgets": {},
     "nuid": "a4a7cc07-b314-407a-b7b5-3b29b9351ba7",
     "showTitle": false,
     "title": ""
    },
    "colab": {
     "base_uri": "https://localhost:8080/"
    },
    "executionInfo": {
     "elapsed": 8,
     "status": "ok",
     "timestamp": 1707941438130,
     "user": {
      "displayName": "Akar Öztürk",
      "userId": "07602883577262601067"
     },
     "user_tz": -60
    },
    "id": "L88b673V3wat",
    "outputId": "a402d938-b16a-4a5b-fd14-46071f305018"
   },
   "outputs": [
    {
     "output_type": "stream",
     "name": "stdout",
     "output_type": "stream",
     "text": [
      "Out[67]: dict_keys(['document', 'ner_chunk', 'token', 'ner', 'sentence'])"
     ]
    }
   ],
   "source": [
    "bert_result.keys()"
   ]
  },
  {
   "cell_type": "code",
   "execution_count": 0,
   "metadata": {
    "application/vnd.databricks.v1+cell": {
     "cellMetadata": {
      "byteLimit": 2048000,
      "rowLimit": 10000
     },
     "inputWidgets": {},
     "nuid": "8d6a7d2f-9ff1-4a76-8279-7f0255d56b8f",
     "showTitle": false,
     "title": ""
    },
    "colab": {
     "base_uri": "https://localhost:8080/"
    },
    "executionInfo": {
     "elapsed": 8,
     "status": "ok",
     "timestamp": 1707941438131,
     "user": {
      "displayName": "Akar Öztürk",
      "userId": "07602883577262601067"
     },
     "user_tz": -60
    },
    "id": "_ljtOKsv3wdM",
    "outputId": "2600bf71-37fe-4be6-96a9-ee16f68463f8"
   },
   "outputs": [
    {
     "output_type": "stream",
     "name": "stdout",
     "output_type": "stream",
     "text": [
      "Out[68]: Annotation(chunk, 92, 100, potassium, {'chunk': '0', 'confidence': '0.9902544', 'ner_source': 'ner_chunk', 'entity': 'DrugChem', 'sentence': '0'}, [])"
     ]
    }
   ],
   "source": [
    "bert_result[\"ner_chunk\"][0]"
   ]
  },
  {
   "cell_type": "code",
   "execution_count": 0,
   "metadata": {
    "application/vnd.databricks.v1+cell": {
     "cellMetadata": {
      "byteLimit": 2048000,
      "rowLimit": 10000
     },
     "inputWidgets": {},
     "nuid": "a4f851d0-b761-44b0-acec-47f3f4aa2bf7",
     "showTitle": false,
     "title": ""
    },
    "colab": {
     "base_uri": "https://localhost:8080/",
     "height": 300
    },
    "executionInfo": {
     "elapsed": 6,
     "status": "ok",
     "timestamp": 1707941438131,
     "user": {
      "displayName": "Akar Öztürk",
      "userId": "07602883577262601067"
     },
     "user_tz": -60
    },
    "id": "be8n6mEB3wf9",
    "outputId": "52863807-c9bf-483c-90a6-50688ea8be37"
   },
   "outputs": [
    {
     "output_type": "display_data",
     "data": {
      "text/html": [
       "<div>\n",
       "<style scoped>\n",
       "    .dataframe tbody tr th:only-of-type {\n",
       "        vertical-align: middle;\n",
       "    }\n",
       "\n",
       "    .dataframe tbody tr th {\n",
       "        vertical-align: top;\n",
       "    }\n",
       "\n",
       "    .dataframe thead th {\n",
       "        text-align: right;\n",
       "    }\n",
       "</style>\n",
       "<table border=\"1\" class=\"dataframe\">\n",
       "  <thead>\n",
       "    <tr style=\"text-align: right;\">\n",
       "      <th></th>\n",
       "      <th>chunks</th>\n",
       "      <th>begin</th>\n",
       "      <th>end</th>\n",
       "      <th>entities</th>\n",
       "    </tr>\n",
       "  </thead>\n",
       "  <tbody>\n",
       "    <tr>\n",
       "      <th>0</th>\n",
       "      <td>potassium</td>\n",
       "      <td>92</td>\n",
       "      <td>100</td>\n",
       "      <td>DrugChem</td>\n",
       "    </tr>\n",
       "    <tr>\n",
       "      <th>1</th>\n",
       "      <td>nucleotide</td>\n",
       "      <td>471</td>\n",
       "      <td>480</td>\n",
       "      <td>DrugChem</td>\n",
       "    </tr>\n",
       "    <tr>\n",
       "      <th>2</th>\n",
       "      <td>anthracyclines</td>\n",
       "      <td>1124</td>\n",
       "      <td>1137</td>\n",
       "      <td>DrugChem</td>\n",
       "    </tr>\n",
       "    <tr>\n",
       "      <th>3</th>\n",
       "      <td>taxanes</td>\n",
       "      <td>1143</td>\n",
       "      <td>1149</td>\n",
       "      <td>DrugChem</td>\n",
       "    </tr>\n",
       "    <tr>\n",
       "      <th>4</th>\n",
       "      <td>vinorelbine</td>\n",
       "      <td>1203</td>\n",
       "      <td>1213</td>\n",
       "      <td>DrugChem</td>\n",
       "    </tr>\n",
       "    <tr>\n",
       "      <th>5</th>\n",
       "      <td>vinorelbine</td>\n",
       "      <td>1343</td>\n",
       "      <td>1353</td>\n",
       "      <td>DrugChem</td>\n",
       "    </tr>\n",
       "    <tr>\n",
       "      <th>6</th>\n",
       "      <td>anthracyclines</td>\n",
       "      <td>1390</td>\n",
       "      <td>1403</td>\n",
       "      <td>DrugChem</td>\n",
       "    </tr>\n",
       "    <tr>\n",
       "      <th>7</th>\n",
       "      <td>taxanes</td>\n",
       "      <td>1409</td>\n",
       "      <td>1415</td>\n",
       "      <td>DrugChem</td>\n",
       "    </tr>\n",
       "  </tbody>\n",
       "</table>\n",
       "</div>"
      ]
     },
     "metadata": {
      "application/vnd.databricks.v1+output": {
       "addedWidgets": {},
       "arguments": {},
       "data": "<div>\n<style scoped>\n    .dataframe tbody tr th:only-of-type {\n        vertical-align: middle;\n    }\n\n    .dataframe tbody tr th {\n        vertical-align: top;\n    }\n\n    .dataframe thead th {\n        text-align: right;\n    }\n</style>\n<table border=\"1\" class=\"dataframe\">\n  <thead>\n    <tr style=\"text-align: right;\">\n      <th></th>\n      <th>chunks</th>\n      <th>begin</th>\n      <th>end</th>\n      <th>entities</th>\n    </tr>\n  </thead>\n  <tbody>\n    <tr>\n      <th>0</th>\n      <td>potassium</td>\n      <td>92</td>\n      <td>100</td>\n      <td>DrugChem</td>\n    </tr>\n    <tr>\n      <th>1</th>\n      <td>nucleotide</td>\n      <td>471</td>\n      <td>480</td>\n      <td>DrugChem</td>\n    </tr>\n    <tr>\n      <th>2</th>\n      <td>anthracyclines</td>\n      <td>1124</td>\n      <td>1137</td>\n      <td>DrugChem</td>\n    </tr>\n    <tr>\n      <th>3</th>\n      <td>taxanes</td>\n      <td>1143</td>\n      <td>1149</td>\n      <td>DrugChem</td>\n    </tr>\n    <tr>\n      <th>4</th>\n      <td>vinorelbine</td>\n      <td>1203</td>\n      <td>1213</td>\n      <td>DrugChem</td>\n    </tr>\n    <tr>\n      <th>5</th>\n      <td>vinorelbine</td>\n      <td>1343</td>\n      <td>1353</td>\n      <td>DrugChem</td>\n    </tr>\n    <tr>\n      <th>6</th>\n      <td>anthracyclines</td>\n      <td>1390</td>\n      <td>1403</td>\n      <td>DrugChem</td>\n    </tr>\n    <tr>\n      <th>7</th>\n      <td>taxanes</td>\n      <td>1409</td>\n      <td>1415</td>\n      <td>DrugChem</td>\n    </tr>\n  </tbody>\n</table>\n</div>",
       "datasetInfos": [],
       "metadata": {},
       "removedWidgets": [],
       "textData": null,
       "type": "htmlSandbox"
      }
     },
     "output_type": "display_data"
    }
   ],
   "source": [
    "import pandas as pd\n",
    "\n",
    "chunks=[]\n",
    "entities=[]\n",
    "begins=[]\n",
    "ends=[]\n",
    "\n",
    "for n in bert_result['ner_chunk']:\n",
    "\n",
    "    chunks.append(n.result)\n",
    "    begins.append(n.begin)\n",
    "    ends.append(n.end)\n",
    "    entities.append(n.metadata['entity'])\n",
    "\n",
    "df = pd.DataFrame({'chunks':chunks, 'begin':begins, 'end':ends, 'entities':entities})\n",
    "\n",
    "df"
   ]
  },
  {
   "cell_type": "markdown",
   "metadata": {
    "application/vnd.databricks.v1+cell": {
     "cellMetadata": {},
     "inputWidgets": {},
     "nuid": "6fa450de-3a72-4b19-8e6d-9a8f7cc27298",
     "showTitle": false,
     "title": ""
    },
    "id": "QBDG2m3z_A0M"
   },
   "source": [
    "## NER Profiling Pipelines\n",
    "\n",
    "We can use pretrained NER profiling pipelines for exploring all the available pretrained NER models at once. In Spark NLP we have two different NER profiling pipelines;\n",
    "\n",
    "- `ner_profiling_clinical` : Returns results for clinical NER models trained with `embeddings_clinical`.\n",
    "\n",
    "\n",
    "|| | | |\n",
    "|--------------|-----------------|-----------------|-----------------|\n",
    "| jsl_ner_wip_clinical | jsl_ner_wip_greedy_clinical | jsl_ner_wip_modifier_clinical | jsl_rd_ner_wip_greedy_clinical |\n",
    "| ner_abbreviation_clinical | ner_ade_binary | ner_ade_clinical | ner_anatomy |\n",
    "| ner_anatomy_coarse | ner_bacterial_species | ner_biomarker | ner_biomedical_bc2gm |\n",
    "| ner_bionlp | ner_cancer_genetics | ner_cellular | ner_chemd_clinical |\n",
    "| ner_chemicals | ner_chemprot_clinical | ner_chexpert | ner_clinical |\n",
    "| ner_clinical_large | ner_clinical_trials_abstracts | ner_covid_trials | ner_deid_augmented |\n",
    "| ner_deid_enriched | ner_deid_generic_augmented | ner_deid_large | ner_deid_sd |\n",
    "| ner_deid_sd_large | ner_deid_subentity_augmented | ner_deid_subentity_augmented_i2b2 | ner_deid_synthetic |\n",
    "| ner_deidentify_dl | ner_diseases | ner_diseases_large | ner_drugprot_clinical |\n",
    "| ner_drugs | ner_drugs_greedy | ner_drugs_large | ner_events_admission_clinical |\n",
    "| ner_events_clinical | ner_genetic_variants | ner_human_phenotype_gene_clinical | ner_human_phenotype_go_clinical |\n",
    "| ner_jsl | ner_jsl_enriched | ner_jsl_greedy | ner_jsl_slim |\n",
    "| ner_living_species | ner_measurements_clinical | ner_medmentions_coarse | ner_nature_nero_clinical |\n",
    "| ner_nihss | ner_pathogen | ner_posology | ner_posology_experimental |\n",
    "| ner_posology_greedy | ner_posology_large | ner_posology_small | ner_radiology |\n",
    "| ner_radiology_wip_clinical | ner_risk_factors | ner_supplement_clinical | nerdl_tumour_demo |\n",
    "\n",
    "\n",
    "\n",
    "\n",
    "- `ner_profiling_biobert` : Returns results for clinical NER models trained with `biobert_pubmed_base_cased`.\n",
    "\n",
    "| | |\n",
    "|-|-|\n",
    "| ner_cellular_biobert           | ner_clinical_biobert             |\n",
    "| ner_diseases_biobert           | ner_anatomy_coarse_biobert       |\n",
    "| ner_events_biobert             | ner_human_phenotype_gene_biobert |\n",
    "| ner_bionlp_biobert             | ner_posology_large_biobert       |\n",
    "| ner_jsl_greedy_biobert         | jsl_rd_ner_wip_greedy_biobert    |\n",
    "| ner_jsl_biobert                | ner_posology_biobert             |\n",
    "| ner_anatomy_biobert            | jsl_ner_wip_greedy_biobert       |\n",
    "| ner_jsl_enriched_biobert       | ner_chemprot_biobert             |\n",
    "| ner_human_phenotype_go_biobert | ner_ade_biobert                  |\n",
    "| ner_deid_biobert               | ner_risk_factors_biobert         |\n",
    "| ner_deid_enriched_biobert      | ner_living_species_biobert                                |\n",
    "\n",
    "\n",
    "- `ner_profiling_oncology` :This pipeline can be used to explore all the available pretrained NER models at once for Oncology. When you run this pipeline over your text, you will end up with the predictions coming out of each pretrained clinical NER model trained with embeddings_clinical\n",
    "\n",
    "\n",
    "|                 |                 |                 |                 |\n",
    "| --------------- | --------------- | --------------- | --------------- |\n",
    "| 1. ner_oncology_unspecific_posology      | 2. ner_oncology_tnm                      | 3. ner_oncology_therapy                  | 4. ner_oncology_test                     |\n",
    "| 5. ner_oncology_response_to_treatment    | 6. ner_oncology_posology                 | 7. ner_oncology                          | 8. ner_oncology_limited_80p_for_benchmarks|\n",
    "| 9. ner_oncology_diagnosis                | 10. ner_oncology_demographics             | 11. ner_oncology_biomarker                | 12. ner_oncology_anatomy_granular         |\n",
    "| 13. ner_oncology_anatomy_general          |                 |                 |                 |\n",
    "\n",
    "\n",
    "- `ner_profiling_vop` : This pipeline can be used to explore all the available pretrained NER models at once for Voice of Patients. When you run this pipeline over your text, you will end up with the predictions coming out of each pretrained clinical NER model trained with embeddings_clinical.\n",
    "\n",
    "\n",
    "|                 |                 |                 |                 |\n",
    "| --------------- | --------------- | --------------- | --------------- |\n",
    "| 1. ner_oncology_unspecific_posology         | 2. ner_oncology_tnm                       | 3. ner_oncology_therapy                   | 4. ner_oncology_test                      |\n",
    "| 5. ner_oncology_response_to_treatment       | 6. ner_oncology_posology                  | 7. ner_oncology                           | 8. ner_oncology_limited_80p_for_benchmarks |\n",
    "| 9. ner_oncology_diagnosis                   | 10. ner_oncology_demographics             | 11. ner_oncology_biomarker                | 12. ner_oncology_anatomy_granular          |\n",
    "| 13. ner_oncology_anatomy_general            |                                           |                                            |                                           |\n",
    "\n",
    "\n",
    "\n",
    "\n",
    "- `ner_profiling_sdoh` :This pipeline can be used to explore all the available pretrained NER models at once for Social Determinants of Health. When you run this pipeline over your text, you will end up with the predictions coming out of each pretrained clinical NER model trained with embeddings_clinical.\n",
    "\n",
    "|                 |                 |                 |                 |\n",
    "| --------------- | --------------- | --------------- | --------------- |\n",
    "| 1. ner_sdoh                                   | 2. ner_sdoh_social_environment_wip             | 3. ner_sdoh_mentions                             | 4. ner_sdoh_demographics_wip                    |\n",
    "| 5. ner_sdoh_community_condition_wip           | 6. ner_sdoh_substance_usage_wip                | 7. ner_sdoh_access_to_healthcare_wip            | 8. ner_sdoh_health_behaviours_problems_wip     |\n",
    "| 9. ner_sdoh_income_social_status_wip         |                                                 |                                                  |                                                  |\n",
    "\n",
    "\n",
    "For more examples, please check [this notebook](https://github.com/JohnSnowLabs/spark-nlp-workshop/blob/master/tutorials/Certification_Trainings/Healthcare/11.2.Pretrained_NER_Profiling_Pipelines.ipynb).\n",
    "\n",
    "\n",
    "\n",
    "\n",
    "\n"
   ]
  },
  {
   "cell_type": "markdown",
   "metadata": {
    "application/vnd.databricks.v1+cell": {
     "cellMetadata": {},
     "inputWidgets": {},
     "nuid": "a6a6ca4b-ae57-4887-84b3-62922535b6f4",
     "showTitle": false,
     "title": ""
    },
    "id": "wUoe5mEEO5Fv"
   },
   "source": [
    "\n",
    "\n",
    "You can check [Models Hub](https://nlp.johnsnowlabs.com/models) page for more information about all these models and more."
   ]
  },
  {
   "cell_type": "code",
   "execution_count": 0,
   "metadata": {
    "application/vnd.databricks.v1+cell": {
     "cellMetadata": {
      "byteLimit": 2048000,
      "rowLimit": 10000
     },
     "inputWidgets": {},
     "nuid": "42852746-3d81-410f-93ad-0bb16b837557",
     "showTitle": false,
     "title": ""
    },
    "colab": {
     "base_uri": "https://localhost:8080/"
    },
    "executionInfo": {
     "elapsed": 479135,
     "status": "ok",
     "timestamp": 1707941917261,
     "user": {
      "displayName": "Akar Öztürk",
      "userId": "07602883577262601067"
     },
     "user_tz": -60
    },
    "id": "y5VEZIdBINmn",
    "outputId": "41b4cbdd-3530-42b6-db80-0064de8ecd2a"
   },
   "outputs": [
    {
     "output_type": "stream",
     "name": "stdout",
     "output_type": "stream",
     "text": [
      "ner_profiling_clinical download started this may take some time.\nApprox size to download 2.9 GB\n\r[ | ]\r[ / ]\r[ — ]\r[ \\ ]\r[ | ]\r[ / ]\r[ — ]\r[ \\ ]\r[ | ]\r[ / ]\r[ — ]\r[ \\ ]\r[ | ]\r[ / ]\r[ — ]\r[ \\ ]\r[ | ]\r[ / ]\r[ — ]\r[ \\ ]\r[ | ]\r[ / ]\r[ — ]\r[ \\ ]\r[ | ]\r[ / ]\r[ — ]\r[ \\ ]\r[ | ]\r[ / ]\r[ — ]\r[ \\ ]\r[ | ]\r[ / ]\r[ — ]\r[ \\ ]\r[ | ]\r[ / ]\r[ — ]\r[ \\ ]\r[ | ]\r[ / ]\r[ — ]\r[ \\ ]\r[ | ]\r[ / ]\r[ — ]\r[ \\ ]\r[ | ]\r[ / ]\r[ — ]\r[ \\ ]\r[ | ]\r[ / ]\r[ — ]\r[ \\ ]\r[ | ]\r[ / ]\r[ — ]\r[ \\ ]\r[ | ]\r[ / ]\r[ — ]\r[ \\ ]\r[ | ]\r[ / ]\r[ — ]\r[ \\ ]\r[ | ]\r[ / ]\r[ — ]\r[ \\ ]\r[ | ]\r[ / ]\r[ — ]\r[ \\ ]\r[ | ]\r[ / ]\r[ — ]\r[ \\ ]\r[ | ]\r[ / ]\r[ — ]\r[ \\ ]\r[ | ]\r[ / ]\r[ — ]\r[ \\ ]\r[ | ]\r[ / ]\r[ — ]\r[ \\ ]\r[ | ]\r[ / ]\r[ — ]\r[ \\ ]\r[ | ]\r[ / ]\r[ — ]\r[ \\ ]\r[ | ]\r[ / ]\r[ — ]\r[ \\ ]\r[ | ]\r[ / ]\r[ — ]\r[ \\ ]\r[ | ]\r[ / ]\r[ — ]\r[ \\ ]\r[ | ]\r[ / ]\r[ — ]\r[ \\ ]\r[ | ]\r[ / ]\r[ — ]\r[ \\ ]\r[ | ]\r[ / ]\r[ — ]\r[ \\ ]\r[ | ]\r[ / ]\r[ — ]\r[ \\ ]\r[ | ]\r[ / ]\r[ — ]\r[ \\ ]\r[ | ]\r[ / ]\r[ — ]\r[ \\ ]\r[ | ]\r[ / ]\r[ — ]\r[ \\ ]\r[ | ]\r[ / ]\r[ — ]\r[ \\ ]\r[ | ]\r[ / ]\r[ — ]\r[ \\ ]\r[ | ]\r[ / ]\r[ — ]\r[ \\ ]\r[ | ]\r[ / ]\r[ — ]\r[ \\ ]\r[ | ]\r[ / ]\r[ — ]\r[ \\ ]\r[ | ]\r[ / ]\r[ — ]\r[ \\ ]\r[ | ]\r[ / ]\r[ — ]\r[ \\ ]\r[ | ]\r[ / ]\r[ — ]\r[ \\ ]\r[ | ]\r[ / ]\r[ — ]\r[ \\ ]\r[ | ]\r[ / ]\r[ — ]\r[ \\ ]\r[ | ]\r[ / ]\r[ — ]\r[ \\ ]\r[ | ]\r[ / ]\r[ — ]\r[ \\ ]\r[ | ]\r[ / ]\r[ — ]\r[ \\ ]\r[ | ]\r[ / ]\r[ — ]\r[ \\ ]\r[ | ]\r[ / ]\r[ — ]\r[ \\ ]\r[ | ]\r[ / ]\r[ — ]\r[ \\ ]\r[ | ]\r[ / ]\r[ — ]\r[ \\ ]\r[ | ]\r[ / ]\r[ — ]\r[ \\ ]\r[ | ]\r[ / ]\r[ — ]\r[ \\ ]\r[ | ]\r[ / ]\r[ — ]\r[ \\ ]\r[ | ]\r[ / ]\r[ — ]\r[ \\ ]\r[ | ]\r[ / ]\r[ — ]\r[ \\ ]\r[ | ]\r[ / ]\r[ — ]\r[ \\ ]\r[ | ]\r[ / ]\r[ — ]\r[ \\ ]\r[ | ]\r[ / ]\r[ — ]\r[ \\ ]\r[ | ]\r[ / ]\r[ — ]\r[ \\ ]\r[ | ]\r[ / ]\r[ — ]\r[ \\ ]\r[ | ]\r[ / ]\r[ — ]\r[ \\ ]\r[ | ]\r[ / ]\r[ — ]\r[ \\ ]\r[ | ]\r[ / ]\r[ — ]\r[ \\ ]\r[ | ]\r[ / ]\r[ — ]\r[ \\ ]\r[ | ]\r[ / ]\r[ — ]\r[ \\ ]\r[ | ]\r[ / ]\r[ — ]\r[ \\ ]\r[ | ]\r[ / ]\r[ — ]\r[ \\ ]\r[ | ]\r[ / ]\r[ — ]\r[ \\ ]\r[ | ]\r[ / ]\r[ — ]\r[ \\ ]\r[ | ]\r[ / ]\r[ — ]\r[ \\ ]\r[ | ]\r[ / ]\r[ — ]\r[ \\ ]\r[ | ]\r[ / ]\r[ — ]\r[ \\ ]\r[ | ]\r[ / ]\r[ — ]\r[ \\ ]\r[ | ]\r[ / ]\r[ — ]\r[ \\ ]\r[ | ]\r[ / ]\r[ — ]\r[ \\ ]\r[ | ]\r[ / ]\r[ — ]\r[ \\ ]\r[ | ]\r[ / ]\r[ — ]\r[ \\ ]\r[ | ]\r[ / ]\r[ — ]\r[ \\ ]\r[ | ]\r[ / ]\r[OK!]\n"
     ]
    }
   ],
   "source": [
    "clinical_profiling_pipeline = nlp.PretrainedPipeline(\"ner_profiling_clinical\", \"en\", \"clinical/models\")"
   ]
  },
  {
   "cell_type": "code",
   "execution_count": 0,
   "metadata": {
    "application/vnd.databricks.v1+cell": {
     "cellMetadata": {
      "byteLimit": 2048000,
      "rowLimit": 10000
     },
     "inputWidgets": {},
     "nuid": "a5fc2b0b-1033-4dc7-aa04-ac049db2a53e",
     "showTitle": false,
     "title": ""
    },
    "id": "8GYCnYmMnU-H"
   },
   "outputs": [],
   "source": [
    "text = '''A 28-year-old female with a history of gestational diabetes mellitus diagnosed eight years prior to presentation and subsequent type two diabetes mellitus ( T2DM ), one prior episode of HTG-induced pancreatitis three years prior to presentation , associated with an acute hepatitis , and obesity with a body mass index ( BMI ) of 33.5 kg/m2 , presented with a one-week history of polyuria , polydipsia , poor appetite , and vomiting .'''"
   ]
  },
  {
   "cell_type": "code",
   "execution_count": 0,
   "metadata": {
    "application/vnd.databricks.v1+cell": {
     "cellMetadata": {
      "byteLimit": 2048000,
      "rowLimit": 10000
     },
     "inputWidgets": {},
     "nuid": "743a4163-da46-4a12-9bd3-860b77e243e3",
     "showTitle": false,
     "title": ""
    },
    "colab": {
     "base_uri": "https://localhost:8080/"
    },
    "executionInfo": {
     "elapsed": 56632,
     "status": "ok",
     "timestamp": 1707941973891,
     "user": {
      "displayName": "Akar Öztürk",
      "userId": "07602883577262601067"
     },
     "user_tz": -60
    },
    "id": "5GJFg2AKpxam",
    "outputId": "42c24f94-f2d7-4afb-f0f4-70fae431e311"
   },
   "outputs": [
    {
     "output_type": "stream",
     "name": "stdout",
     "output_type": "stream",
     "text": [
      "Out[6]: dict_keys(['ner_vop_problem_wip_chunks', 'ner_sdoh_demographics_wip_chunks', 'ner_ade_clinical_chunks', 'ner_deid_augmented', 'ner_deid_subentity_augmented_i2b2', 'ner_posology_greedy_chunks', 'ner_vop_demographic_wip_chunks', 'ner_sdoh_community_condition_wip_chunks', 'ner_radiology_wip_clinical', 'ner_vop_slim_wip', 'ner_oncology_diagnosis_chunks', 'ner_vop_test_wip_chunks', 'ner_jsl_slim', 'ner_vop_wip', 'ner_risk_factors_chunks', 'jsl_ner_wip_clinical_chunks', 'ner_oncology_unspecific_posology_chunks', 'ner_vop_problem_reduced_wip', 'ner_vop_anatomy_wip', 'ner_vop_problem_reduced_wip_chunks', 'ner_eu_clinical_case_chunks', 'ner_oncology_test_chunks', 'ner_deid_synthetic', 'ner_oncology_posology_chunks', 'ner_oncology_tnm_chunks', 'ner_oncology_anatomy_general_chunks', 'ner_drugs_greedy', 'ner_abbreviation_clinical_chunks', 'ner_covid_trials_chunks', 'ner_human_phenotype_gene_clinical_chunks', 'ner_events_admission_clinical', 'jsl_ner_wip_greedy_clinical_chunks', 'ner_posology_greedy', 'ner_cellular_chunks', 'ner_vop_clinical_dept_wip', 'ner_cancer_genetics_chunks', 'ner_biomedical_bc2gm_chunks', 'ner_oncology', 'ner_jsl_greedy', 'jsl_ner_wip_modifier_clinical_chunks', 'ner_drugs_greedy_chunks', 'ner_sdoh_access_to_healthcare_wip', 'ner_deid_sd_large_chunks', 'ner_diseases_chunks', 'ner_diseases_large', 'ner_chemprot_clinical', 'ner_posology_large', 'nerdl_tumour_demo_chunks', 'ner_oncology_chunks', 'ner_deid_subentity_augmented_chunks', 'ner_jsl_enriched_chunks', 'ner_genetic_variants_chunks', 'ner_sdoh_income_social_status_wip_chunks', 'ner_chexpert', 'ner_bionlp_chunks', 'ner_eu_clinical_condition_chunks', 'ner_measurements_clinical_chunks', 'ner_diseases_large_chunks', 'ner_drugs_large', 'ner_living_species_chunks', 'ner_oncology_therapy_chunks', 'ner_clinical_large', 'ner_chemicals', 'ner_sdoh_slim_wip', 'ner_radiology_chunks', 'ner_bacterial_species', 'ner_deid_augmented_chunks', 'ner_bionlp', 'ner_drugprot_clinical', 'ner_anatomy_chunks', 'ner_deid_subentity_augmented_i2b2_chunks', 'ner_deid_large', 'jsl_ner_wip_modifier_clinical', 'ner_vop_slim_wip_chunks', 'ner_chemprot_clinical_chunks', 'ner_eu_clinical_condition', 'nerdl_tumour_demo', 'ner_posology_experimental_chunks', 'ner_cancer_genetics', 'ner_biomarker', 'ner_drugprot_clinical_chunks', 'ner_vop_problem_wip', 'ner_sdoh_mentions', 'ner_posology_small', 'ner_vop_wip_chunks', 'ner_oncology_biomarker_chunks', 'ner_drugs_chunks', 'ner_deid_sd_chunks', 'ner_chemd_clinical', 'ner_human_phenotype_gene_clinical', 'ner_ade_clinical', 'ner_human_phenotype_go_clinical', 'ner_sdoh_wip_chunks', 'ner_sdoh_social_environment_wip', 'ner_sdoh_mentions_chunks', 'ner_risk_factors', 'ner_clinical', 'ner_posology_large_chunks', 'ner_cellular', 'ner_nature_nero_clinical_chunks', 'ner_deid_large_chunks', 'ner_clinical_trials_abstracts_chunks', 'ner_deid_generic_augmented_chunks', 'ner_posology_chunks', 'ner_oncology_anatomy_general', 'ner_sdoh_social_environment_wip_chunks', 'ner_supplement_clinical_chunks', 'ner_oncology_response_to_treatment_chunks', 'ner_deid_enriched_chunks', 'ner_chemd_clinical_chunks', 'ner_deid_sd_large', 'ner_oncology_biomarker', 'jsl_ner_wip_greedy_clinical', 'ner_sdoh_slim_wip_chunks', 'ner_bacterial_species_chunks', 'ner_sdoh_health_behaviours_problems_wip_chunks', 'ner_sdoh_demographics_wip', 'ner_sdoh_community_condition_wip', 'ner_vop_anatomy_wip_chunks', 'ner_living_species', 'ner_abbreviation_clinical', 'ner_oncology_test', 'ner_vop_temporal_wip_chunks', 'ner_diseases', 'jsl_rd_ner_wip_greedy_clinical', 'ner_oncology_response_to_treatment', 'ner_drugs', 'ner_drugs_large_chunks', 'ner_vop_treatment_wip', 'ner_biomarker_chunks', 'ner_clinical_trials_abstracts', 'ner_clinical_large_chunks', 'ner_anatomy_coarse', 'ner_nature_nero_clinical', 'token', 'ner_oncology_anatomy_granular', 'ner_medmentions_coarse', 'ner_oncology_therapy', 'ner_deid_sd', 'jsl_rd_ner_wip_greedy_clinical_chunks', 'ner_oncology_demographics', 'ner_deid_generic_augmented', 'ner_pathogen_chunks', 'ner_medmentions_coarse_chunks', 'ner_anatomy', 'ner_deid_enriched', 'ner_deid_subentity_augmented', 'ner_radiology_wip_clinical_chunks', 'ner_clinical_chunks', 'ner_oncology_diagnosis', 'ner_sdoh_health_behaviours_problems_wip', 'ner_measurements_clinical', 'ner_ade_binary', 'ner_nihss', 'ner_chexpert_chunks', 'ner_chemicals_chunks', 'ner_pathogen', 'ner_vop_test_wip', 'ner_oncology_demographics_chunks', 'ner_jsl_enriched', 'ner_sdoh_access_to_healthcare_wip_chunks', 'ner_oncology_tnm', 'ner_vop_treatment_wip_chunks', 'ner_deid_synthetic_chunks', 'ner_events_clinical_chunks', 'ner_posology_experimental', 'jsl_ner_wip_clinical', 'ner_oncology_anatomy_granular_chunks', 'ner_biomedical_bc2gm', 'ner_vop_temporal_wip', 'ner_posology_small_chunks', 'ner_oncology_wip', 'ner_nihss_chunks', 'ner_anatomy_coarse_chunks', 'ner_human_phenotype_go_clinical_chunks', 'ner_vop_demographic_wip', 'ner_sdoh_substance_usage_wip_chunks', 'ner_sdoh_income_social_status_wip', 'ner_jsl', 'ner_sdoh_substance_usage_wip', 'ner_events_clinical', 'ner_supplement_clinical', 'ner_jsl_slim_chunks', 'ner_jsl_chunks', 'ner_jsl_greedy_chunks', 'ner_oncology_wip_chunks', 'ner_oncology_unspecific_posology', 'ner_genetic_variants', 'ner_sdoh_wip', 'ner_radiology', 'ner_eu_clinical_case', 'ner_posology', 'ner_vop_clinical_dept_wip_chunks', 'sentence', 'ner_oncology_posology', 'ner_covid_trials', 'ner_ade_binary_chunks', 'ner_events_admission_clinical_chunks'])"
     ]
    }
   ],
   "source": [
    "clinical_result = clinical_profiling_pipeline.fullAnnotate(text)[0]\n",
    "clinical_result.keys()"
   ]
  },
  {
   "cell_type": "code",
   "execution_count": 0,
   "metadata": {
    "application/vnd.databricks.v1+cell": {
     "cellMetadata": {
      "byteLimit": 2048000,
      "rowLimit": 10000
     },
     "inputWidgets": {},
     "nuid": "8c3cc431-f4c7-45ad-8a3b-675e0daeab16",
     "showTitle": false,
     "title": ""
    },
    "id": "C99PTQiNKZtw"
   },
   "outputs": [],
   "source": [
    "import pandas as pd\n",
    "\n",
    "def get_token_results(light_result):\n",
    "\n",
    "  tokens = [j.result for j in light_result[\"token\"]]\n",
    "  sentences = [j.metadata[\"sentence\"] for j in light_result[\"token\"]]\n",
    "  begins = [j.begin for j in light_result[\"token\"]]\n",
    "  ends = [j.end for j in light_result[\"token\"]]\n",
    "  model_list = [ a for a in light_result.keys() if (a not in [\"sentence\", \"token\"] and \"_chunks\" not in a)]\n",
    "\n",
    "  df = pd.DataFrame({'sentence':sentences, 'begin': begins, 'end': ends, 'token':tokens})\n",
    "\n",
    "  for model_name in model_list:\n",
    "\n",
    "    temp_df = pd.DataFrame(light_result[model_name])\n",
    "    temp_df[\"jsl_label\"] = temp_df.iloc[:,0].apply(lambda x : x.result)\n",
    "    temp_df = temp_df[[\"jsl_label\"]]\n",
    "\n",
    "    # temp_df = get_ner_result(model_name)\n",
    "    temp_df.columns = [model_name]\n",
    "    df = pd.concat([df, temp_df], axis=1)\n",
    "\n",
    "  return df"
   ]
  },
  {
   "cell_type": "code",
   "execution_count": 0,
   "metadata": {
    "application/vnd.databricks.v1+cell": {
     "cellMetadata": {
      "byteLimit": 2048000,
      "rowLimit": 10000
     },
     "inputWidgets": {},
     "nuid": "166927c5-d98e-4f51-a534-6d8a44de3bb7",
     "showTitle": false,
     "title": ""
    },
    "colab": {
     "base_uri": "https://localhost:8080/",
     "height": 478
    },
    "executionInfo": {
     "elapsed": 604,
     "status": "ok",
     "timestamp": 1707941974482,
     "user": {
      "displayName": "Akar Öztürk",
      "userId": "07602883577262601067"
     },
     "user_tz": -60
    },
    "id": "trBEKiZRLiff",
    "outputId": "be289153-a1c0-47c8-9d72-9033fea2b995"
   },
   "outputs": [
    {
     "output_type": "display_data",
     "data": {
      "text/html": [
       "<div>\n",
       "<style scoped>\n",
       "    .dataframe tbody tr th:only-of-type {\n",
       "        vertical-align: middle;\n",
       "    }\n",
       "\n",
       "    .dataframe tbody tr th {\n",
       "        vertical-align: top;\n",
       "    }\n",
       "\n",
       "    .dataframe thead th {\n",
       "        text-align: right;\n",
       "    }\n",
       "</style>\n",
       "<table border=\"1\" class=\"dataframe\">\n",
       "  <thead>\n",
       "    <tr style=\"text-align: right;\">\n",
       "      <th></th>\n",
       "      <th>sentence</th>\n",
       "      <th>begin</th>\n",
       "      <th>end</th>\n",
       "      <th>token</th>\n",
       "      <th>ner_deid_augmented</th>\n",
       "      <th>ner_deid_subentity_augmented_i2b2</th>\n",
       "      <th>ner_radiology_wip_clinical</th>\n",
       "      <th>ner_vop_slim_wip</th>\n",
       "      <th>ner_jsl_slim</th>\n",
       "      <th>ner_vop_wip</th>\n",
       "      <th>ner_vop_problem_reduced_wip</th>\n",
       "      <th>ner_vop_anatomy_wip</th>\n",
       "      <th>ner_deid_synthetic</th>\n",
       "      <th>ner_drugs_greedy</th>\n",
       "      <th>ner_events_admission_clinical</th>\n",
       "      <th>ner_posology_greedy</th>\n",
       "      <th>ner_vop_clinical_dept_wip</th>\n",
       "      <th>ner_oncology</th>\n",
       "      <th>ner_jsl_greedy</th>\n",
       "      <th>ner_sdoh_access_to_healthcare_wip</th>\n",
       "      <th>ner_diseases_large</th>\n",
       "      <th>ner_chemprot_clinical</th>\n",
       "      <th>ner_posology_large</th>\n",
       "      <th>ner_chexpert</th>\n",
       "      <th>ner_drugs_large</th>\n",
       "      <th>ner_clinical_large</th>\n",
       "      <th>ner_chemicals</th>\n",
       "      <th>ner_sdoh_slim_wip</th>\n",
       "      <th>ner_bacterial_species</th>\n",
       "      <th>ner_bionlp</th>\n",
       "      <th>ner_drugprot_clinical</th>\n",
       "      <th>ner_deid_large</th>\n",
       "      <th>jsl_ner_wip_modifier_clinical</th>\n",
       "      <th>ner_eu_clinical_condition</th>\n",
       "      <th>nerdl_tumour_demo</th>\n",
       "      <th>ner_cancer_genetics</th>\n",
       "      <th>ner_biomarker</th>\n",
       "      <th>ner_vop_problem_wip</th>\n",
       "      <th>ner_sdoh_mentions</th>\n",
       "      <th>ner_posology_small</th>\n",
       "      <th>ner_chemd_clinical</th>\n",
       "      <th>ner_human_phenotype_gene_clinical</th>\n",
       "      <th>ner_ade_clinical</th>\n",
       "      <th>ner_human_phenotype_go_clinical</th>\n",
       "      <th>ner_sdoh_social_environment_wip</th>\n",
       "      <th>ner_risk_factors</th>\n",
       "      <th>ner_clinical</th>\n",
       "      <th>ner_cellular</th>\n",
       "      <th>ner_oncology_anatomy_general</th>\n",
       "      <th>ner_deid_sd_large</th>\n",
       "      <th>...</th>\n",
       "      <th>ner_sdoh_demographics_wip</th>\n",
       "      <th>ner_sdoh_community_condition_wip</th>\n",
       "      <th>ner_living_species</th>\n",
       "      <th>ner_abbreviation_clinical</th>\n",
       "      <th>ner_oncology_test</th>\n",
       "      <th>ner_diseases</th>\n",
       "      <th>jsl_rd_ner_wip_greedy_clinical</th>\n",
       "      <th>ner_oncology_response_to_treatment</th>\n",
       "      <th>ner_drugs</th>\n",
       "      <th>ner_vop_treatment_wip</th>\n",
       "      <th>ner_clinical_trials_abstracts</th>\n",
       "      <th>ner_anatomy_coarse</th>\n",
       "      <th>ner_nature_nero_clinical</th>\n",
       "      <th>ner_oncology_anatomy_granular</th>\n",
       "      <th>ner_medmentions_coarse</th>\n",
       "      <th>ner_oncology_therapy</th>\n",
       "      <th>ner_deid_sd</th>\n",
       "      <th>ner_oncology_demographics</th>\n",
       "      <th>ner_deid_generic_augmented</th>\n",
       "      <th>ner_anatomy</th>\n",
       "      <th>ner_deid_enriched</th>\n",
       "      <th>ner_deid_subentity_augmented</th>\n",
       "      <th>ner_oncology_diagnosis</th>\n",
       "      <th>ner_sdoh_health_behaviours_problems_wip</th>\n",
       "      <th>ner_measurements_clinical</th>\n",
       "      <th>ner_ade_binary</th>\n",
       "      <th>ner_nihss</th>\n",
       "      <th>ner_pathogen</th>\n",
       "      <th>ner_vop_test_wip</th>\n",
       "      <th>ner_jsl_enriched</th>\n",
       "      <th>ner_oncology_tnm</th>\n",
       "      <th>ner_posology_experimental</th>\n",
       "      <th>jsl_ner_wip_clinical</th>\n",
       "      <th>ner_biomedical_bc2gm</th>\n",
       "      <th>ner_vop_temporal_wip</th>\n",
       "      <th>ner_oncology_wip</th>\n",
       "      <th>ner_vop_demographic_wip</th>\n",
       "      <th>ner_sdoh_income_social_status_wip</th>\n",
       "      <th>ner_jsl</th>\n",
       "      <th>ner_sdoh_substance_usage_wip</th>\n",
       "      <th>ner_events_clinical</th>\n",
       "      <th>ner_supplement_clinical</th>\n",
       "      <th>ner_oncology_unspecific_posology</th>\n",
       "      <th>ner_genetic_variants</th>\n",
       "      <th>ner_sdoh_wip</th>\n",
       "      <th>ner_radiology</th>\n",
       "      <th>ner_eu_clinical_case</th>\n",
       "      <th>ner_posology</th>\n",
       "      <th>ner_oncology_posology</th>\n",
       "      <th>ner_covid_trials</th>\n",
       "    </tr>\n",
       "  </thead>\n",
       "  <tbody>\n",
       "    <tr>\n",
       "      <th>0</th>\n",
       "      <td>0</td>\n",
       "      <td>0</td>\n",
       "      <td>0</td>\n",
       "      <td>A</td>\n",
       "      <td>O</td>\n",
       "      <td>O</td>\n",
       "      <td>O</td>\n",
       "      <td>O</td>\n",
       "      <td>O</td>\n",
       "      <td>O</td>\n",
       "      <td>O</td>\n",
       "      <td>O</td>\n",
       "      <td>O</td>\n",
       "      <td>O</td>\n",
       "      <td>O</td>\n",
       "      <td>O</td>\n",
       "      <td>O</td>\n",
       "      <td>O</td>\n",
       "      <td>O</td>\n",
       "      <td>O</td>\n",
       "      <td>O</td>\n",
       "      <td>O</td>\n",
       "      <td>O</td>\n",
       "      <td>O</td>\n",
       "      <td>O</td>\n",
       "      <td>O</td>\n",
       "      <td>O</td>\n",
       "      <td>O</td>\n",
       "      <td>O</td>\n",
       "      <td>O</td>\n",
       "      <td>O</td>\n",
       "      <td>O</td>\n",
       "      <td>O</td>\n",
       "      <td>O</td>\n",
       "      <td>O</td>\n",
       "      <td>O</td>\n",
       "      <td>O</td>\n",
       "      <td>O</td>\n",
       "      <td>O</td>\n",
       "      <td>O</td>\n",
       "      <td>O</td>\n",
       "      <td>O</td>\n",
       "      <td>O</td>\n",
       "      <td>O</td>\n",
       "      <td>O</td>\n",
       "      <td>O</td>\n",
       "      <td>O</td>\n",
       "      <td>O</td>\n",
       "      <td>O</td>\n",
       "      <td>O</td>\n",
       "      <td>...</td>\n",
       "      <td>O</td>\n",
       "      <td>O</td>\n",
       "      <td>O</td>\n",
       "      <td>O</td>\n",
       "      <td>O</td>\n",
       "      <td>O</td>\n",
       "      <td>O</td>\n",
       "      <td>O</td>\n",
       "      <td>O</td>\n",
       "      <td>O</td>\n",
       "      <td>O</td>\n",
       "      <td>O</td>\n",
       "      <td>O</td>\n",
       "      <td>O</td>\n",
       "      <td>O</td>\n",
       "      <td>O</td>\n",
       "      <td>O</td>\n",
       "      <td>O</td>\n",
       "      <td>O</td>\n",
       "      <td>O</td>\n",
       "      <td>O</td>\n",
       "      <td>O</td>\n",
       "      <td>O</td>\n",
       "      <td>O</td>\n",
       "      <td>O</td>\n",
       "      <td>O</td>\n",
       "      <td>O</td>\n",
       "      <td>O</td>\n",
       "      <td>O</td>\n",
       "      <td>O</td>\n",
       "      <td>O</td>\n",
       "      <td>O</td>\n",
       "      <td>O</td>\n",
       "      <td>O</td>\n",
       "      <td>O</td>\n",
       "      <td>O</td>\n",
       "      <td>O</td>\n",
       "      <td>O</td>\n",
       "      <td>O</td>\n",
       "      <td>O</td>\n",
       "      <td>O</td>\n",
       "      <td>O</td>\n",
       "      <td>O</td>\n",
       "      <td>O</td>\n",
       "      <td>O</td>\n",
       "      <td>O</td>\n",
       "      <td>B-patient</td>\n",
       "      <td>O</td>\n",
       "      <td>O</td>\n",
       "      <td>O</td>\n",
       "    </tr>\n",
       "    <tr>\n",
       "      <th>1</th>\n",
       "      <td>0</td>\n",
       "      <td>2</td>\n",
       "      <td>12</td>\n",
       "      <td>28-year-old</td>\n",
       "      <td>O</td>\n",
       "      <td>O</td>\n",
       "      <td>O</td>\n",
       "      <td>O</td>\n",
       "      <td>B-Age</td>\n",
       "      <td>B-Age</td>\n",
       "      <td>O</td>\n",
       "      <td>O</td>\n",
       "      <td>O</td>\n",
       "      <td>O</td>\n",
       "      <td>O</td>\n",
       "      <td>O</td>\n",
       "      <td>O</td>\n",
       "      <td>B-Gender</td>\n",
       "      <td>B-Age</td>\n",
       "      <td>O</td>\n",
       "      <td>O</td>\n",
       "      <td>O</td>\n",
       "      <td>O</td>\n",
       "      <td>O</td>\n",
       "      <td>O</td>\n",
       "      <td>O</td>\n",
       "      <td>O</td>\n",
       "      <td>B-Marital_Status</td>\n",
       "      <td>O</td>\n",
       "      <td>O</td>\n",
       "      <td>O</td>\n",
       "      <td>O</td>\n",
       "      <td>B-Age</td>\n",
       "      <td>O</td>\n",
       "      <td>O</td>\n",
       "      <td>O</td>\n",
       "      <td>B-Age</td>\n",
       "      <td>O</td>\n",
       "      <td>O</td>\n",
       "      <td>O</td>\n",
       "      <td>O</td>\n",
       "      <td>O</td>\n",
       "      <td>O</td>\n",
       "      <td>O</td>\n",
       "      <td>O</td>\n",
       "      <td>O</td>\n",
       "      <td>O</td>\n",
       "      <td>O</td>\n",
       "      <td>O</td>\n",
       "      <td>O</td>\n",
       "      <td>...</td>\n",
       "      <td>B-Gender</td>\n",
       "      <td>O</td>\n",
       "      <td>O</td>\n",
       "      <td>O</td>\n",
       "      <td>O</td>\n",
       "      <td>O</td>\n",
       "      <td>B-Age</td>\n",
       "      <td>O</td>\n",
       "      <td>O</td>\n",
       "      <td>O</td>\n",
       "      <td>O</td>\n",
       "      <td>O</td>\n",
       "      <td>B-Person</td>\n",
       "      <td>O</td>\n",
       "      <td>O</td>\n",
       "      <td>O</td>\n",
       "      <td>O</td>\n",
       "      <td>B-Gender</td>\n",
       "      <td>B-AGE</td>\n",
       "      <td>O</td>\n",
       "      <td>O</td>\n",
       "      <td>B-AGE</td>\n",
       "      <td>O</td>\n",
       "      <td>O</td>\n",
       "      <td>O</td>\n",
       "      <td>O</td>\n",
       "      <td>O</td>\n",
       "      <td>O</td>\n",
       "      <td>O</td>\n",
       "      <td>B-Age</td>\n",
       "      <td>O</td>\n",
       "      <td>O</td>\n",
       "      <td>B-Age</td>\n",
       "      <td>O</td>\n",
       "      <td>O</td>\n",
       "      <td>B-Gender</td>\n",
       "      <td>B-Age</td>\n",
       "      <td>O</td>\n",
       "      <td>B-Age</td>\n",
       "      <td>O</td>\n",
       "      <td>O</td>\n",
       "      <td>O</td>\n",
       "      <td>O</td>\n",
       "      <td>O</td>\n",
       "      <td>B-Gender</td>\n",
       "      <td>O</td>\n",
       "      <td>I-patient</td>\n",
       "      <td>O</td>\n",
       "      <td>O</td>\n",
       "      <td>B-Gender</td>\n",
       "    </tr>\n",
       "    <tr>\n",
       "      <th>2</th>\n",
       "      <td>0</td>\n",
       "      <td>14</td>\n",
       "      <td>19</td>\n",
       "      <td>female</td>\n",
       "      <td>O</td>\n",
       "      <td>O</td>\n",
       "      <td>O</td>\n",
       "      <td>B-Gender</td>\n",
       "      <td>B-Demographics</td>\n",
       "      <td>B-Gender</td>\n",
       "      <td>O</td>\n",
       "      <td>O</td>\n",
       "      <td>O</td>\n",
       "      <td>O</td>\n",
       "      <td>O</td>\n",
       "      <td>O</td>\n",
       "      <td>O</td>\n",
       "      <td>B-Gender</td>\n",
       "      <td>B-Gender</td>\n",
       "      <td>O</td>\n",
       "      <td>O</td>\n",
       "      <td>O</td>\n",
       "      <td>O</td>\n",
       "      <td>O</td>\n",
       "      <td>O</td>\n",
       "      <td>O</td>\n",
       "      <td>O</td>\n",
       "      <td>B-Gender</td>\n",
       "      <td>O</td>\n",
       "      <td>B-Organism</td>\n",
       "      <td>O</td>\n",
       "      <td>O</td>\n",
       "      <td>B-Gender</td>\n",
       "      <td>O</td>\n",
       "      <td>O</td>\n",
       "      <td>O</td>\n",
       "      <td>B-Gender</td>\n",
       "      <td>O</td>\n",
       "      <td>O</td>\n",
       "      <td>O</td>\n",
       "      <td>O</td>\n",
       "      <td>O</td>\n",
       "      <td>O</td>\n",
       "      <td>O</td>\n",
       "      <td>O</td>\n",
       "      <td>O</td>\n",
       "      <td>O</td>\n",
       "      <td>O</td>\n",
       "      <td>O</td>\n",
       "      <td>O</td>\n",
       "      <td>...</td>\n",
       "      <td>B-Gender</td>\n",
       "      <td>O</td>\n",
       "      <td>B-HUMAN</td>\n",
       "      <td>O</td>\n",
       "      <td>O</td>\n",
       "      <td>O</td>\n",
       "      <td>B-Gender</td>\n",
       "      <td>O</td>\n",
       "      <td>O</td>\n",
       "      <td>O</td>\n",
       "      <td>O</td>\n",
       "      <td>O</td>\n",
       "      <td>I-Person</td>\n",
       "      <td>O</td>\n",
       "      <td>B-Organism_Attribute</td>\n",
       "      <td>O</td>\n",
       "      <td>O</td>\n",
       "      <td>B-Gender</td>\n",
       "      <td>O</td>\n",
       "      <td>O</td>\n",
       "      <td>O</td>\n",
       "      <td>O</td>\n",
       "      <td>O</td>\n",
       "      <td>O</td>\n",
       "      <td>O</td>\n",
       "      <td>O</td>\n",
       "      <td>O</td>\n",
       "      <td>O</td>\n",
       "      <td>O</td>\n",
       "      <td>B-Gender</td>\n",
       "      <td>O</td>\n",
       "      <td>O</td>\n",
       "      <td>B-Gender</td>\n",
       "      <td>O</td>\n",
       "      <td>O</td>\n",
       "      <td>B-Gender</td>\n",
       "      <td>B-Gender</td>\n",
       "      <td>O</td>\n",
       "      <td>B-Gender</td>\n",
       "      <td>O</td>\n",
       "      <td>O</td>\n",
       "      <td>O</td>\n",
       "      <td>O</td>\n",
       "      <td>O</td>\n",
       "      <td>B-Gender</td>\n",
       "      <td>O</td>\n",
       "      <td>I-patient</td>\n",
       "      <td>O</td>\n",
       "      <td>O</td>\n",
       "      <td>B-Gender</td>\n",
       "    </tr>\n",
       "    <tr>\n",
       "      <th>3</th>\n",
       "      <td>0</td>\n",
       "      <td>21</td>\n",
       "      <td>24</td>\n",
       "      <td>with</td>\n",
       "      <td>O</td>\n",
       "      <td>O</td>\n",
       "      <td>O</td>\n",
       "      <td>O</td>\n",
       "      <td>O</td>\n",
       "      <td>O</td>\n",
       "      <td>O</td>\n",
       "      <td>O</td>\n",
       "      <td>O</td>\n",
       "      <td>O</td>\n",
       "      <td>O</td>\n",
       "      <td>O</td>\n",
       "      <td>O</td>\n",
       "      <td>O</td>\n",
       "      <td>O</td>\n",
       "      <td>O</td>\n",
       "      <td>O</td>\n",
       "      <td>O</td>\n",
       "      <td>O</td>\n",
       "      <td>O</td>\n",
       "      <td>O</td>\n",
       "      <td>O</td>\n",
       "      <td>O</td>\n",
       "      <td>O</td>\n",
       "      <td>O</td>\n",
       "      <td>O</td>\n",
       "      <td>O</td>\n",
       "      <td>O</td>\n",
       "      <td>O</td>\n",
       "      <td>O</td>\n",
       "      <td>O</td>\n",
       "      <td>O</td>\n",
       "      <td>O</td>\n",
       "      <td>O</td>\n",
       "      <td>O</td>\n",
       "      <td>O</td>\n",
       "      <td>O</td>\n",
       "      <td>O</td>\n",
       "      <td>O</td>\n",
       "      <td>O</td>\n",
       "      <td>O</td>\n",
       "      <td>O</td>\n",
       "      <td>O</td>\n",
       "      <td>O</td>\n",
       "      <td>O</td>\n",
       "      <td>O</td>\n",
       "      <td>...</td>\n",
       "      <td>O</td>\n",
       "      <td>O</td>\n",
       "      <td>O</td>\n",
       "      <td>O</td>\n",
       "      <td>O</td>\n",
       "      <td>O</td>\n",
       "      <td>O</td>\n",
       "      <td>O</td>\n",
       "      <td>O</td>\n",
       "      <td>O</td>\n",
       "      <td>O</td>\n",
       "      <td>O</td>\n",
       "      <td>O</td>\n",
       "      <td>O</td>\n",
       "      <td>O</td>\n",
       "      <td>O</td>\n",
       "      <td>O</td>\n",
       "      <td>O</td>\n",
       "      <td>O</td>\n",
       "      <td>O</td>\n",
       "      <td>O</td>\n",
       "      <td>O</td>\n",
       "      <td>O</td>\n",
       "      <td>O</td>\n",
       "      <td>O</td>\n",
       "      <td>O</td>\n",
       "      <td>O</td>\n",
       "      <td>O</td>\n",
       "      <td>O</td>\n",
       "      <td>O</td>\n",
       "      <td>O</td>\n",
       "      <td>O</td>\n",
       "      <td>O</td>\n",
       "      <td>O</td>\n",
       "      <td>O</td>\n",
       "      <td>O</td>\n",
       "      <td>O</td>\n",
       "      <td>O</td>\n",
       "      <td>O</td>\n",
       "      <td>O</td>\n",
       "      <td>O</td>\n",
       "      <td>O</td>\n",
       "      <td>O</td>\n",
       "      <td>O</td>\n",
       "      <td>O</td>\n",
       "      <td>O</td>\n",
       "      <td>O</td>\n",
       "      <td>O</td>\n",
       "      <td>O</td>\n",
       "      <td>O</td>\n",
       "    </tr>\n",
       "    <tr>\n",
       "      <th>4</th>\n",
       "      <td>0</td>\n",
       "      <td>26</td>\n",
       "      <td>26</td>\n",
       "      <td>a</td>\n",
       "      <td>O</td>\n",
       "      <td>O</td>\n",
       "      <td>O</td>\n",
       "      <td>O</td>\n",
       "      <td>O</td>\n",
       "      <td>O</td>\n",
       "      <td>O</td>\n",
       "      <td>O</td>\n",
       "      <td>O</td>\n",
       "      <td>O</td>\n",
       "      <td>O</td>\n",
       "      <td>O</td>\n",
       "      <td>O</td>\n",
       "      <td>O</td>\n",
       "      <td>O</td>\n",
       "      <td>O</td>\n",
       "      <td>O</td>\n",
       "      <td>O</td>\n",
       "      <td>O</td>\n",
       "      <td>O</td>\n",
       "      <td>O</td>\n",
       "      <td>O</td>\n",
       "      <td>O</td>\n",
       "      <td>O</td>\n",
       "      <td>O</td>\n",
       "      <td>O</td>\n",
       "      <td>O</td>\n",
       "      <td>O</td>\n",
       "      <td>O</td>\n",
       "      <td>O</td>\n",
       "      <td>O</td>\n",
       "      <td>O</td>\n",
       "      <td>O</td>\n",
       "      <td>O</td>\n",
       "      <td>O</td>\n",
       "      <td>O</td>\n",
       "      <td>O</td>\n",
       "      <td>O</td>\n",
       "      <td>O</td>\n",
       "      <td>O</td>\n",
       "      <td>O</td>\n",
       "      <td>O</td>\n",
       "      <td>O</td>\n",
       "      <td>O</td>\n",
       "      <td>O</td>\n",
       "      <td>O</td>\n",
       "      <td>...</td>\n",
       "      <td>O</td>\n",
       "      <td>O</td>\n",
       "      <td>O</td>\n",
       "      <td>O</td>\n",
       "      <td>O</td>\n",
       "      <td>O</td>\n",
       "      <td>O</td>\n",
       "      <td>O</td>\n",
       "      <td>O</td>\n",
       "      <td>O</td>\n",
       "      <td>O</td>\n",
       "      <td>O</td>\n",
       "      <td>O</td>\n",
       "      <td>O</td>\n",
       "      <td>O</td>\n",
       "      <td>O</td>\n",
       "      <td>O</td>\n",
       "      <td>O</td>\n",
       "      <td>O</td>\n",
       "      <td>O</td>\n",
       "      <td>O</td>\n",
       "      <td>O</td>\n",
       "      <td>O</td>\n",
       "      <td>O</td>\n",
       "      <td>O</td>\n",
       "      <td>O</td>\n",
       "      <td>O</td>\n",
       "      <td>O</td>\n",
       "      <td>O</td>\n",
       "      <td>O</td>\n",
       "      <td>O</td>\n",
       "      <td>O</td>\n",
       "      <td>O</td>\n",
       "      <td>O</td>\n",
       "      <td>O</td>\n",
       "      <td>O</td>\n",
       "      <td>O</td>\n",
       "      <td>O</td>\n",
       "      <td>O</td>\n",
       "      <td>O</td>\n",
       "      <td>O</td>\n",
       "      <td>O</td>\n",
       "      <td>O</td>\n",
       "      <td>O</td>\n",
       "      <td>O</td>\n",
       "      <td>O</td>\n",
       "      <td>O</td>\n",
       "      <td>O</td>\n",
       "      <td>O</td>\n",
       "      <td>O</td>\n",
       "    </tr>\n",
       "    <tr>\n",
       "      <th>...</th>\n",
       "      <td>...</td>\n",
       "      <td>...</td>\n",
       "      <td>...</td>\n",
       "      <td>...</td>\n",
       "      <td>...</td>\n",
       "      <td>...</td>\n",
       "      <td>...</td>\n",
       "      <td>...</td>\n",
       "      <td>...</td>\n",
       "      <td>...</td>\n",
       "      <td>...</td>\n",
       "      <td>...</td>\n",
       "      <td>...</td>\n",
       "      <td>...</td>\n",
       "      <td>...</td>\n",
       "      <td>...</td>\n",
       "      <td>...</td>\n",
       "      <td>...</td>\n",
       "      <td>...</td>\n",
       "      <td>...</td>\n",
       "      <td>...</td>\n",
       "      <td>...</td>\n",
       "      <td>...</td>\n",
       "      <td>...</td>\n",
       "      <td>...</td>\n",
       "      <td>...</td>\n",
       "      <td>...</td>\n",
       "      <td>...</td>\n",
       "      <td>...</td>\n",
       "      <td>...</td>\n",
       "      <td>...</td>\n",
       "      <td>...</td>\n",
       "      <td>...</td>\n",
       "      <td>...</td>\n",
       "      <td>...</td>\n",
       "      <td>...</td>\n",
       "      <td>...</td>\n",
       "      <td>...</td>\n",
       "      <td>...</td>\n",
       "      <td>...</td>\n",
       "      <td>...</td>\n",
       "      <td>...</td>\n",
       "      <td>...</td>\n",
       "      <td>...</td>\n",
       "      <td>...</td>\n",
       "      <td>...</td>\n",
       "      <td>...</td>\n",
       "      <td>...</td>\n",
       "      <td>...</td>\n",
       "      <td>...</td>\n",
       "      <td>...</td>\n",
       "      <td>...</td>\n",
       "      <td>...</td>\n",
       "      <td>...</td>\n",
       "      <td>...</td>\n",
       "      <td>...</td>\n",
       "      <td>...</td>\n",
       "      <td>...</td>\n",
       "      <td>...</td>\n",
       "      <td>...</td>\n",
       "      <td>...</td>\n",
       "      <td>...</td>\n",
       "      <td>...</td>\n",
       "      <td>...</td>\n",
       "      <td>...</td>\n",
       "      <td>...</td>\n",
       "      <td>...</td>\n",
       "      <td>...</td>\n",
       "      <td>...</td>\n",
       "      <td>...</td>\n",
       "      <td>...</td>\n",
       "      <td>...</td>\n",
       "      <td>...</td>\n",
       "      <td>...</td>\n",
       "      <td>...</td>\n",
       "      <td>...</td>\n",
       "      <td>...</td>\n",
       "      <td>...</td>\n",
       "      <td>...</td>\n",
       "      <td>...</td>\n",
       "      <td>...</td>\n",
       "      <td>...</td>\n",
       "      <td>...</td>\n",
       "      <td>...</td>\n",
       "      <td>...</td>\n",
       "      <td>...</td>\n",
       "      <td>...</td>\n",
       "      <td>...</td>\n",
       "      <td>...</td>\n",
       "      <td>...</td>\n",
       "      <td>...</td>\n",
       "      <td>...</td>\n",
       "      <td>...</td>\n",
       "      <td>...</td>\n",
       "      <td>...</td>\n",
       "      <td>...</td>\n",
       "      <td>...</td>\n",
       "      <td>...</td>\n",
       "      <td>...</td>\n",
       "      <td>...</td>\n",
       "      <td>...</td>\n",
       "    </tr>\n",
       "    <tr>\n",
       "      <th>68</th>\n",
       "      <td>0</td>\n",
       "      <td>409</td>\n",
       "      <td>416</td>\n",
       "      <td>appetite</td>\n",
       "      <td>O</td>\n",
       "      <td>O</td>\n",
       "      <td>I-Symptom</td>\n",
       "      <td>I-Symptom</td>\n",
       "      <td>I-Symptom</td>\n",
       "      <td>I-Symptom</td>\n",
       "      <td>I-Problem</td>\n",
       "      <td>O</td>\n",
       "      <td>O</td>\n",
       "      <td>O</td>\n",
       "      <td>I-PROBLEM</td>\n",
       "      <td>O</td>\n",
       "      <td>O</td>\n",
       "      <td>O</td>\n",
       "      <td>I-Symptom</td>\n",
       "      <td>O</td>\n",
       "      <td>O</td>\n",
       "      <td>O</td>\n",
       "      <td>O</td>\n",
       "      <td>O</td>\n",
       "      <td>O</td>\n",
       "      <td>I-PROBLEM</td>\n",
       "      <td>O</td>\n",
       "      <td>O</td>\n",
       "      <td>O</td>\n",
       "      <td>O</td>\n",
       "      <td>O</td>\n",
       "      <td>O</td>\n",
       "      <td>I-Symptom</td>\n",
       "      <td>I-clinical_condition</td>\n",
       "      <td>O</td>\n",
       "      <td>O</td>\n",
       "      <td>O</td>\n",
       "      <td>I-Symptom</td>\n",
       "      <td>O</td>\n",
       "      <td>O</td>\n",
       "      <td>O</td>\n",
       "      <td>O</td>\n",
       "      <td>I-ADE</td>\n",
       "      <td>O</td>\n",
       "      <td>O</td>\n",
       "      <td>O</td>\n",
       "      <td>I-PROBLEM</td>\n",
       "      <td>O</td>\n",
       "      <td>O</td>\n",
       "      <td>O</td>\n",
       "      <td>...</td>\n",
       "      <td>O</td>\n",
       "      <td>I-Community_Living_Conditions</td>\n",
       "      <td>O</td>\n",
       "      <td>O</td>\n",
       "      <td>O</td>\n",
       "      <td>I-Disease</td>\n",
       "      <td>I-Symptom</td>\n",
       "      <td>O</td>\n",
       "      <td>O</td>\n",
       "      <td>O</td>\n",
       "      <td>O</td>\n",
       "      <td>O</td>\n",
       "      <td>I-Medicalfinding</td>\n",
       "      <td>O</td>\n",
       "      <td>I-Sign_or_Symptom</td>\n",
       "      <td>O</td>\n",
       "      <td>O</td>\n",
       "      <td>O</td>\n",
       "      <td>O</td>\n",
       "      <td>O</td>\n",
       "      <td>O</td>\n",
       "      <td>O</td>\n",
       "      <td>O</td>\n",
       "      <td>O</td>\n",
       "      <td>O</td>\n",
       "      <td>I-ADE</td>\n",
       "      <td>O</td>\n",
       "      <td>I-MedicalCondition</td>\n",
       "      <td>O</td>\n",
       "      <td>I-Symptom</td>\n",
       "      <td>O</td>\n",
       "      <td>O</td>\n",
       "      <td>I-Symptom</td>\n",
       "      <td>O</td>\n",
       "      <td>O</td>\n",
       "      <td>O</td>\n",
       "      <td>O</td>\n",
       "      <td>O</td>\n",
       "      <td>I-Symptom</td>\n",
       "      <td>O</td>\n",
       "      <td>I-PROBLEM</td>\n",
       "      <td>O</td>\n",
       "      <td>O</td>\n",
       "      <td>O</td>\n",
       "      <td>O</td>\n",
       "      <td>I-Symptom</td>\n",
       "      <td>I-clinical_condition</td>\n",
       "      <td>O</td>\n",
       "      <td>O</td>\n",
       "      <td>O</td>\n",
       "    </tr>\n",
       "    <tr>\n",
       "      <th>69</th>\n",
       "      <td>0</td>\n",
       "      <td>418</td>\n",
       "      <td>418</td>\n",
       "      <td>,</td>\n",
       "      <td>O</td>\n",
       "      <td>O</td>\n",
       "      <td>O</td>\n",
       "      <td>O</td>\n",
       "      <td>O</td>\n",
       "      <td>O</td>\n",
       "      <td>O</td>\n",
       "      <td>O</td>\n",
       "      <td>O</td>\n",
       "      <td>O</td>\n",
       "      <td>O</td>\n",
       "      <td>O</td>\n",
       "      <td>O</td>\n",
       "      <td>O</td>\n",
       "      <td>O</td>\n",
       "      <td>O</td>\n",
       "      <td>O</td>\n",
       "      <td>O</td>\n",
       "      <td>O</td>\n",
       "      <td>O</td>\n",
       "      <td>O</td>\n",
       "      <td>O</td>\n",
       "      <td>O</td>\n",
       "      <td>O</td>\n",
       "      <td>O</td>\n",
       "      <td>O</td>\n",
       "      <td>O</td>\n",
       "      <td>O</td>\n",
       "      <td>O</td>\n",
       "      <td>O</td>\n",
       "      <td>O</td>\n",
       "      <td>O</td>\n",
       "      <td>O</td>\n",
       "      <td>O</td>\n",
       "      <td>O</td>\n",
       "      <td>O</td>\n",
       "      <td>O</td>\n",
       "      <td>O</td>\n",
       "      <td>O</td>\n",
       "      <td>O</td>\n",
       "      <td>O</td>\n",
       "      <td>O</td>\n",
       "      <td>O</td>\n",
       "      <td>O</td>\n",
       "      <td>O</td>\n",
       "      <td>O</td>\n",
       "      <td>...</td>\n",
       "      <td>O</td>\n",
       "      <td>O</td>\n",
       "      <td>O</td>\n",
       "      <td>O</td>\n",
       "      <td>O</td>\n",
       "      <td>O</td>\n",
       "      <td>O</td>\n",
       "      <td>O</td>\n",
       "      <td>O</td>\n",
       "      <td>O</td>\n",
       "      <td>O</td>\n",
       "      <td>O</td>\n",
       "      <td>O</td>\n",
       "      <td>O</td>\n",
       "      <td>O</td>\n",
       "      <td>O</td>\n",
       "      <td>O</td>\n",
       "      <td>O</td>\n",
       "      <td>O</td>\n",
       "      <td>O</td>\n",
       "      <td>O</td>\n",
       "      <td>O</td>\n",
       "      <td>O</td>\n",
       "      <td>O</td>\n",
       "      <td>O</td>\n",
       "      <td>O</td>\n",
       "      <td>O</td>\n",
       "      <td>O</td>\n",
       "      <td>O</td>\n",
       "      <td>O</td>\n",
       "      <td>O</td>\n",
       "      <td>O</td>\n",
       "      <td>O</td>\n",
       "      <td>O</td>\n",
       "      <td>O</td>\n",
       "      <td>O</td>\n",
       "      <td>O</td>\n",
       "      <td>O</td>\n",
       "      <td>O</td>\n",
       "      <td>O</td>\n",
       "      <td>O</td>\n",
       "      <td>O</td>\n",
       "      <td>O</td>\n",
       "      <td>O</td>\n",
       "      <td>O</td>\n",
       "      <td>O</td>\n",
       "      <td>O</td>\n",
       "      <td>O</td>\n",
       "      <td>O</td>\n",
       "      <td>O</td>\n",
       "    </tr>\n",
       "    <tr>\n",
       "      <th>70</th>\n",
       "      <td>0</td>\n",
       "      <td>420</td>\n",
       "      <td>422</td>\n",
       "      <td>and</td>\n",
       "      <td>O</td>\n",
       "      <td>O</td>\n",
       "      <td>O</td>\n",
       "      <td>O</td>\n",
       "      <td>O</td>\n",
       "      <td>O</td>\n",
       "      <td>O</td>\n",
       "      <td>O</td>\n",
       "      <td>O</td>\n",
       "      <td>O</td>\n",
       "      <td>O</td>\n",
       "      <td>O</td>\n",
       "      <td>O</td>\n",
       "      <td>O</td>\n",
       "      <td>O</td>\n",
       "      <td>O</td>\n",
       "      <td>O</td>\n",
       "      <td>O</td>\n",
       "      <td>O</td>\n",
       "      <td>O</td>\n",
       "      <td>O</td>\n",
       "      <td>O</td>\n",
       "      <td>O</td>\n",
       "      <td>O</td>\n",
       "      <td>O</td>\n",
       "      <td>O</td>\n",
       "      <td>O</td>\n",
       "      <td>O</td>\n",
       "      <td>O</td>\n",
       "      <td>O</td>\n",
       "      <td>O</td>\n",
       "      <td>O</td>\n",
       "      <td>O</td>\n",
       "      <td>O</td>\n",
       "      <td>O</td>\n",
       "      <td>O</td>\n",
       "      <td>O</td>\n",
       "      <td>O</td>\n",
       "      <td>O</td>\n",
       "      <td>O</td>\n",
       "      <td>O</td>\n",
       "      <td>O</td>\n",
       "      <td>O</td>\n",
       "      <td>O</td>\n",
       "      <td>O</td>\n",
       "      <td>O</td>\n",
       "      <td>...</td>\n",
       "      <td>O</td>\n",
       "      <td>O</td>\n",
       "      <td>O</td>\n",
       "      <td>O</td>\n",
       "      <td>O</td>\n",
       "      <td>O</td>\n",
       "      <td>O</td>\n",
       "      <td>O</td>\n",
       "      <td>O</td>\n",
       "      <td>O</td>\n",
       "      <td>O</td>\n",
       "      <td>O</td>\n",
       "      <td>O</td>\n",
       "      <td>O</td>\n",
       "      <td>O</td>\n",
       "      <td>O</td>\n",
       "      <td>O</td>\n",
       "      <td>O</td>\n",
       "      <td>O</td>\n",
       "      <td>O</td>\n",
       "      <td>O</td>\n",
       "      <td>O</td>\n",
       "      <td>O</td>\n",
       "      <td>O</td>\n",
       "      <td>O</td>\n",
       "      <td>O</td>\n",
       "      <td>O</td>\n",
       "      <td>O</td>\n",
       "      <td>O</td>\n",
       "      <td>O</td>\n",
       "      <td>O</td>\n",
       "      <td>O</td>\n",
       "      <td>O</td>\n",
       "      <td>O</td>\n",
       "      <td>O</td>\n",
       "      <td>O</td>\n",
       "      <td>O</td>\n",
       "      <td>O</td>\n",
       "      <td>O</td>\n",
       "      <td>O</td>\n",
       "      <td>O</td>\n",
       "      <td>O</td>\n",
       "      <td>O</td>\n",
       "      <td>O</td>\n",
       "      <td>O</td>\n",
       "      <td>O</td>\n",
       "      <td>O</td>\n",
       "      <td>O</td>\n",
       "      <td>O</td>\n",
       "      <td>O</td>\n",
       "    </tr>\n",
       "    <tr>\n",
       "      <th>71</th>\n",
       "      <td>0</td>\n",
       "      <td>424</td>\n",
       "      <td>431</td>\n",
       "      <td>vomiting</td>\n",
       "      <td>O</td>\n",
       "      <td>O</td>\n",
       "      <td>B-Symptom</td>\n",
       "      <td>B-Symptom</td>\n",
       "      <td>B-Symptom</td>\n",
       "      <td>B-Symptom</td>\n",
       "      <td>B-Problem</td>\n",
       "      <td>O</td>\n",
       "      <td>O</td>\n",
       "      <td>O</td>\n",
       "      <td>B-PROBLEM</td>\n",
       "      <td>O</td>\n",
       "      <td>O</td>\n",
       "      <td>O</td>\n",
       "      <td>B-Symptom</td>\n",
       "      <td>O</td>\n",
       "      <td>B-Disease</td>\n",
       "      <td>O</td>\n",
       "      <td>O</td>\n",
       "      <td>O</td>\n",
       "      <td>O</td>\n",
       "      <td>B-PROBLEM</td>\n",
       "      <td>O</td>\n",
       "      <td>O</td>\n",
       "      <td>O</td>\n",
       "      <td>O</td>\n",
       "      <td>O</td>\n",
       "      <td>O</td>\n",
       "      <td>B-Symptom</td>\n",
       "      <td>B-clinical_condition</td>\n",
       "      <td>O</td>\n",
       "      <td>O</td>\n",
       "      <td>O</td>\n",
       "      <td>B-Symptom</td>\n",
       "      <td>O</td>\n",
       "      <td>O</td>\n",
       "      <td>O</td>\n",
       "      <td>O</td>\n",
       "      <td>B-ADE</td>\n",
       "      <td>B-HP</td>\n",
       "      <td>O</td>\n",
       "      <td>O</td>\n",
       "      <td>B-PROBLEM</td>\n",
       "      <td>O</td>\n",
       "      <td>O</td>\n",
       "      <td>O</td>\n",
       "      <td>...</td>\n",
       "      <td>O</td>\n",
       "      <td>O</td>\n",
       "      <td>O</td>\n",
       "      <td>O</td>\n",
       "      <td>O</td>\n",
       "      <td>B-Disease</td>\n",
       "      <td>B-Symptom</td>\n",
       "      <td>O</td>\n",
       "      <td>O</td>\n",
       "      <td>O</td>\n",
       "      <td>O</td>\n",
       "      <td>O</td>\n",
       "      <td>B-Medicalfinding</td>\n",
       "      <td>O</td>\n",
       "      <td>B-Sign_or_Symptom</td>\n",
       "      <td>O</td>\n",
       "      <td>O</td>\n",
       "      <td>O</td>\n",
       "      <td>O</td>\n",
       "      <td>O</td>\n",
       "      <td>O</td>\n",
       "      <td>O</td>\n",
       "      <td>O</td>\n",
       "      <td>O</td>\n",
       "      <td>O</td>\n",
       "      <td>B-ADE</td>\n",
       "      <td>O</td>\n",
       "      <td>B-MedicalCondition</td>\n",
       "      <td>O</td>\n",
       "      <td>B-Symptom</td>\n",
       "      <td>O</td>\n",
       "      <td>O</td>\n",
       "      <td>B-Symptom</td>\n",
       "      <td>O</td>\n",
       "      <td>O</td>\n",
       "      <td>O</td>\n",
       "      <td>O</td>\n",
       "      <td>O</td>\n",
       "      <td>B-Symptom</td>\n",
       "      <td>O</td>\n",
       "      <td>B-PROBLEM</td>\n",
       "      <td>B-CONDITION</td>\n",
       "      <td>O</td>\n",
       "      <td>O</td>\n",
       "      <td>O</td>\n",
       "      <td>B-Symptom</td>\n",
       "      <td>B-clinical_condition</td>\n",
       "      <td>O</td>\n",
       "      <td>O</td>\n",
       "      <td>O</td>\n",
       "    </tr>\n",
       "    <tr>\n",
       "      <th>72</th>\n",
       "      <td>0</td>\n",
       "      <td>433</td>\n",
       "      <td>433</td>\n",
       "      <td>.</td>\n",
       "      <td>O</td>\n",
       "      <td>O</td>\n",
       "      <td>O</td>\n",
       "      <td>O</td>\n",
       "      <td>O</td>\n",
       "      <td>O</td>\n",
       "      <td>O</td>\n",
       "      <td>O</td>\n",
       "      <td>O</td>\n",
       "      <td>O</td>\n",
       "      <td>O</td>\n",
       "      <td>O</td>\n",
       "      <td>O</td>\n",
       "      <td>O</td>\n",
       "      <td>O</td>\n",
       "      <td>O</td>\n",
       "      <td>O</td>\n",
       "      <td>O</td>\n",
       "      <td>O</td>\n",
       "      <td>O</td>\n",
       "      <td>O</td>\n",
       "      <td>O</td>\n",
       "      <td>O</td>\n",
       "      <td>O</td>\n",
       "      <td>O</td>\n",
       "      <td>O</td>\n",
       "      <td>O</td>\n",
       "      <td>O</td>\n",
       "      <td>O</td>\n",
       "      <td>O</td>\n",
       "      <td>O</td>\n",
       "      <td>O</td>\n",
       "      <td>O</td>\n",
       "      <td>O</td>\n",
       "      <td>O</td>\n",
       "      <td>O</td>\n",
       "      <td>O</td>\n",
       "      <td>O</td>\n",
       "      <td>O</td>\n",
       "      <td>O</td>\n",
       "      <td>O</td>\n",
       "      <td>O</td>\n",
       "      <td>O</td>\n",
       "      <td>O</td>\n",
       "      <td>O</td>\n",
       "      <td>O</td>\n",
       "      <td>...</td>\n",
       "      <td>O</td>\n",
       "      <td>O</td>\n",
       "      <td>O</td>\n",
       "      <td>O</td>\n",
       "      <td>O</td>\n",
       "      <td>O</td>\n",
       "      <td>O</td>\n",
       "      <td>O</td>\n",
       "      <td>O</td>\n",
       "      <td>O</td>\n",
       "      <td>O</td>\n",
       "      <td>O</td>\n",
       "      <td>O</td>\n",
       "      <td>O</td>\n",
       "      <td>O</td>\n",
       "      <td>O</td>\n",
       "      <td>O</td>\n",
       "      <td>O</td>\n",
       "      <td>O</td>\n",
       "      <td>O</td>\n",
       "      <td>O</td>\n",
       "      <td>O</td>\n",
       "      <td>O</td>\n",
       "      <td>O</td>\n",
       "      <td>O</td>\n",
       "      <td>O</td>\n",
       "      <td>O</td>\n",
       "      <td>O</td>\n",
       "      <td>O</td>\n",
       "      <td>O</td>\n",
       "      <td>O</td>\n",
       "      <td>O</td>\n",
       "      <td>O</td>\n",
       "      <td>O</td>\n",
       "      <td>O</td>\n",
       "      <td>O</td>\n",
       "      <td>O</td>\n",
       "      <td>O</td>\n",
       "      <td>O</td>\n",
       "      <td>O</td>\n",
       "      <td>O</td>\n",
       "      <td>O</td>\n",
       "      <td>O</td>\n",
       "      <td>O</td>\n",
       "      <td>O</td>\n",
       "      <td>O</td>\n",
       "      <td>O</td>\n",
       "      <td>O</td>\n",
       "      <td>O</td>\n",
       "      <td>O</td>\n",
       "    </tr>\n",
       "  </tbody>\n",
       "</table>\n",
       "<p>73 rows × 102 columns</p>\n",
       "</div>"
      ]
     },
     "metadata": {
      "application/vnd.databricks.v1+output": {
       "addedWidgets": {},
       "arguments": {},
       "data": "<div>\n<style scoped>\n    .dataframe tbody tr th:only-of-type {\n        vertical-align: middle;\n    }\n\n    .dataframe tbody tr th {\n        vertical-align: top;\n    }\n\n    .dataframe thead th {\n        text-align: right;\n    }\n</style>\n<table border=\"1\" class=\"dataframe\">\n  <thead>\n    <tr style=\"text-align: right;\">\n      <th></th>\n      <th>sentence</th>\n      <th>begin</th>\n      <th>end</th>\n      <th>token</th>\n      <th>ner_deid_augmented</th>\n      <th>ner_deid_subentity_augmented_i2b2</th>\n      <th>ner_radiology_wip_clinical</th>\n      <th>ner_vop_slim_wip</th>\n      <th>ner_jsl_slim</th>\n      <th>ner_vop_wip</th>\n      <th>ner_vop_problem_reduced_wip</th>\n      <th>ner_vop_anatomy_wip</th>\n      <th>ner_deid_synthetic</th>\n      <th>ner_drugs_greedy</th>\n      <th>ner_events_admission_clinical</th>\n      <th>ner_posology_greedy</th>\n      <th>ner_vop_clinical_dept_wip</th>\n      <th>ner_oncology</th>\n      <th>ner_jsl_greedy</th>\n      <th>ner_sdoh_access_to_healthcare_wip</th>\n      <th>ner_diseases_large</th>\n      <th>ner_chemprot_clinical</th>\n      <th>ner_posology_large</th>\n      <th>ner_chexpert</th>\n      <th>ner_drugs_large</th>\n      <th>ner_clinical_large</th>\n      <th>ner_chemicals</th>\n      <th>ner_sdoh_slim_wip</th>\n      <th>ner_bacterial_species</th>\n      <th>ner_bionlp</th>\n      <th>ner_drugprot_clinical</th>\n      <th>ner_deid_large</th>\n      <th>jsl_ner_wip_modifier_clinical</th>\n      <th>ner_eu_clinical_condition</th>\n      <th>nerdl_tumour_demo</th>\n      <th>ner_cancer_genetics</th>\n      <th>ner_biomarker</th>\n      <th>ner_vop_problem_wip</th>\n      <th>ner_sdoh_mentions</th>\n      <th>ner_posology_small</th>\n      <th>ner_chemd_clinical</th>\n      <th>ner_human_phenotype_gene_clinical</th>\n      <th>ner_ade_clinical</th>\n      <th>ner_human_phenotype_go_clinical</th>\n      <th>ner_sdoh_social_environment_wip</th>\n      <th>ner_risk_factors</th>\n      <th>ner_clinical</th>\n      <th>ner_cellular</th>\n      <th>ner_oncology_anatomy_general</th>\n      <th>ner_deid_sd_large</th>\n      <th>...</th>\n      <th>ner_sdoh_demographics_wip</th>\n      <th>ner_sdoh_community_condition_wip</th>\n      <th>ner_living_species</th>\n      <th>ner_abbreviation_clinical</th>\n      <th>ner_oncology_test</th>\n      <th>ner_diseases</th>\n      <th>jsl_rd_ner_wip_greedy_clinical</th>\n      <th>ner_oncology_response_to_treatment</th>\n      <th>ner_drugs</th>\n      <th>ner_vop_treatment_wip</th>\n      <th>ner_clinical_trials_abstracts</th>\n      <th>ner_anatomy_coarse</th>\n      <th>ner_nature_nero_clinical</th>\n      <th>ner_oncology_anatomy_granular</th>\n      <th>ner_medmentions_coarse</th>\n      <th>ner_oncology_therapy</th>\n      <th>ner_deid_sd</th>\n      <th>ner_oncology_demographics</th>\n      <th>ner_deid_generic_augmented</th>\n      <th>ner_anatomy</th>\n      <th>ner_deid_enriched</th>\n      <th>ner_deid_subentity_augmented</th>\n      <th>ner_oncology_diagnosis</th>\n      <th>ner_sdoh_health_behaviours_problems_wip</th>\n      <th>ner_measurements_clinical</th>\n      <th>ner_ade_binary</th>\n      <th>ner_nihss</th>\n      <th>ner_pathogen</th>\n      <th>ner_vop_test_wip</th>\n      <th>ner_jsl_enriched</th>\n      <th>ner_oncology_tnm</th>\n      <th>ner_posology_experimental</th>\n      <th>jsl_ner_wip_clinical</th>\n      <th>ner_biomedical_bc2gm</th>\n      <th>ner_vop_temporal_wip</th>\n      <th>ner_oncology_wip</th>\n      <th>ner_vop_demographic_wip</th>\n      <th>ner_sdoh_income_social_status_wip</th>\n      <th>ner_jsl</th>\n      <th>ner_sdoh_substance_usage_wip</th>\n      <th>ner_events_clinical</th>\n      <th>ner_supplement_clinical</th>\n      <th>ner_oncology_unspecific_posology</th>\n      <th>ner_genetic_variants</th>\n      <th>ner_sdoh_wip</th>\n      <th>ner_radiology</th>\n      <th>ner_eu_clinical_case</th>\n      <th>ner_posology</th>\n      <th>ner_oncology_posology</th>\n      <th>ner_covid_trials</th>\n    </tr>\n  </thead>\n  <tbody>\n    <tr>\n      <th>0</th>\n      <td>0</td>\n      <td>0</td>\n      <td>0</td>\n      <td>A</td>\n      <td>O</td>\n      <td>O</td>\n      <td>O</td>\n      <td>O</td>\n      <td>O</td>\n      <td>O</td>\n      <td>O</td>\n      <td>O</td>\n      <td>O</td>\n      <td>O</td>\n      <td>O</td>\n      <td>O</td>\n      <td>O</td>\n      <td>O</td>\n      <td>O</td>\n      <td>O</td>\n      <td>O</td>\n      <td>O</td>\n      <td>O</td>\n      <td>O</td>\n      <td>O</td>\n      <td>O</td>\n      <td>O</td>\n      <td>O</td>\n      <td>O</td>\n      <td>O</td>\n      <td>O</td>\n      <td>O</td>\n      <td>O</td>\n      <td>O</td>\n      <td>O</td>\n      <td>O</td>\n      <td>O</td>\n      <td>O</td>\n      <td>O</td>\n      <td>O</td>\n      <td>O</td>\n      <td>O</td>\n      <td>O</td>\n      <td>O</td>\n      <td>O</td>\n      <td>O</td>\n      <td>O</td>\n      <td>O</td>\n      <td>O</td>\n      <td>O</td>\n      <td>...</td>\n      <td>O</td>\n      <td>O</td>\n      <td>O</td>\n      <td>O</td>\n      <td>O</td>\n      <td>O</td>\n      <td>O</td>\n      <td>O</td>\n      <td>O</td>\n      <td>O</td>\n      <td>O</td>\n      <td>O</td>\n      <td>O</td>\n      <td>O</td>\n      <td>O</td>\n      <td>O</td>\n      <td>O</td>\n      <td>O</td>\n      <td>O</td>\n      <td>O</td>\n      <td>O</td>\n      <td>O</td>\n      <td>O</td>\n      <td>O</td>\n      <td>O</td>\n      <td>O</td>\n      <td>O</td>\n      <td>O</td>\n      <td>O</td>\n      <td>O</td>\n      <td>O</td>\n      <td>O</td>\n      <td>O</td>\n      <td>O</td>\n      <td>O</td>\n      <td>O</td>\n      <td>O</td>\n      <td>O</td>\n      <td>O</td>\n      <td>O</td>\n      <td>O</td>\n      <td>O</td>\n      <td>O</td>\n      <td>O</td>\n      <td>O</td>\n      <td>O</td>\n      <td>B-patient</td>\n      <td>O</td>\n      <td>O</td>\n      <td>O</td>\n    </tr>\n    <tr>\n      <th>1</th>\n      <td>0</td>\n      <td>2</td>\n      <td>12</td>\n      <td>28-year-old</td>\n      <td>O</td>\n      <td>O</td>\n      <td>O</td>\n      <td>O</td>\n      <td>B-Age</td>\n      <td>B-Age</td>\n      <td>O</td>\n      <td>O</td>\n      <td>O</td>\n      <td>O</td>\n      <td>O</td>\n      <td>O</td>\n      <td>O</td>\n      <td>B-Gender</td>\n      <td>B-Age</td>\n      <td>O</td>\n      <td>O</td>\n      <td>O</td>\n      <td>O</td>\n      <td>O</td>\n      <td>O</td>\n      <td>O</td>\n      <td>O</td>\n      <td>B-Marital_Status</td>\n      <td>O</td>\n      <td>O</td>\n      <td>O</td>\n      <td>O</td>\n      <td>B-Age</td>\n      <td>O</td>\n      <td>O</td>\n      <td>O</td>\n      <td>B-Age</td>\n      <td>O</td>\n      <td>O</td>\n      <td>O</td>\n      <td>O</td>\n      <td>O</td>\n      <td>O</td>\n      <td>O</td>\n      <td>O</td>\n      <td>O</td>\n      <td>O</td>\n      <td>O</td>\n      <td>O</td>\n      <td>O</td>\n      <td>...</td>\n      <td>B-Gender</td>\n      <td>O</td>\n      <td>O</td>\n      <td>O</td>\n      <td>O</td>\n      <td>O</td>\n      <td>B-Age</td>\n      <td>O</td>\n      <td>O</td>\n      <td>O</td>\n      <td>O</td>\n      <td>O</td>\n      <td>B-Person</td>\n      <td>O</td>\n      <td>O</td>\n      <td>O</td>\n      <td>O</td>\n      <td>B-Gender</td>\n      <td>B-AGE</td>\n      <td>O</td>\n      <td>O</td>\n      <td>B-AGE</td>\n      <td>O</td>\n      <td>O</td>\n      <td>O</td>\n      <td>O</td>\n      <td>O</td>\n      <td>O</td>\n      <td>O</td>\n      <td>B-Age</td>\n      <td>O</td>\n      <td>O</td>\n      <td>B-Age</td>\n      <td>O</td>\n      <td>O</td>\n      <td>B-Gender</td>\n      <td>B-Age</td>\n      <td>O</td>\n      <td>B-Age</td>\n      <td>O</td>\n      <td>O</td>\n      <td>O</td>\n      <td>O</td>\n      <td>O</td>\n      <td>B-Gender</td>\n      <td>O</td>\n      <td>I-patient</td>\n      <td>O</td>\n      <td>O</td>\n      <td>B-Gender</td>\n    </tr>\n    <tr>\n      <th>2</th>\n      <td>0</td>\n      <td>14</td>\n      <td>19</td>\n      <td>female</td>\n      <td>O</td>\n      <td>O</td>\n      <td>O</td>\n      <td>B-Gender</td>\n      <td>B-Demographics</td>\n      <td>B-Gender</td>\n      <td>O</td>\n      <td>O</td>\n      <td>O</td>\n      <td>O</td>\n      <td>O</td>\n      <td>O</td>\n      <td>O</td>\n      <td>B-Gender</td>\n      <td>B-Gender</td>\n      <td>O</td>\n      <td>O</td>\n      <td>O</td>\n      <td>O</td>\n      <td>O</td>\n      <td>O</td>\n      <td>O</td>\n      <td>O</td>\n      <td>B-Gender</td>\n      <td>O</td>\n      <td>B-Organism</td>\n      <td>O</td>\n      <td>O</td>\n      <td>B-Gender</td>\n      <td>O</td>\n      <td>O</td>\n      <td>O</td>\n      <td>B-Gender</td>\n      <td>O</td>\n      <td>O</td>\n      <td>O</td>\n      <td>O</td>\n      <td>O</td>\n      <td>O</td>\n      <td>O</td>\n      <td>O</td>\n      <td>O</td>\n      <td>O</td>\n      <td>O</td>\n      <td>O</td>\n      <td>O</td>\n      <td>...</td>\n      <td>B-Gender</td>\n      <td>O</td>\n      <td>B-HUMAN</td>\n      <td>O</td>\n      <td>O</td>\n      <td>O</td>\n      <td>B-Gender</td>\n      <td>O</td>\n      <td>O</td>\n      <td>O</td>\n      <td>O</td>\n      <td>O</td>\n      <td>I-Person</td>\n      <td>O</td>\n      <td>B-Organism_Attribute</td>\n      <td>O</td>\n      <td>O</td>\n      <td>B-Gender</td>\n      <td>O</td>\n      <td>O</td>\n      <td>O</td>\n      <td>O</td>\n      <td>O</td>\n      <td>O</td>\n      <td>O</td>\n      <td>O</td>\n      <td>O</td>\n      <td>O</td>\n      <td>O</td>\n      <td>B-Gender</td>\n      <td>O</td>\n      <td>O</td>\n      <td>B-Gender</td>\n      <td>O</td>\n      <td>O</td>\n      <td>B-Gender</td>\n      <td>B-Gender</td>\n      <td>O</td>\n      <td>B-Gender</td>\n      <td>O</td>\n      <td>O</td>\n      <td>O</td>\n      <td>O</td>\n      <td>O</td>\n      <td>B-Gender</td>\n      <td>O</td>\n      <td>I-patient</td>\n      <td>O</td>\n      <td>O</td>\n      <td>B-Gender</td>\n    </tr>\n    <tr>\n      <th>3</th>\n      <td>0</td>\n      <td>21</td>\n      <td>24</td>\n      <td>with</td>\n      <td>O</td>\n      <td>O</td>\n      <td>O</td>\n      <td>O</td>\n      <td>O</td>\n      <td>O</td>\n      <td>O</td>\n      <td>O</td>\n      <td>O</td>\n      <td>O</td>\n      <td>O</td>\n      <td>O</td>\n      <td>O</td>\n      <td>O</td>\n      <td>O</td>\n      <td>O</td>\n      <td>O</td>\n      <td>O</td>\n      <td>O</td>\n      <td>O</td>\n      <td>O</td>\n      <td>O</td>\n      <td>O</td>\n      <td>O</td>\n      <td>O</td>\n      <td>O</td>\n      <td>O</td>\n      <td>O</td>\n      <td>O</td>\n      <td>O</td>\n      <td>O</td>\n      <td>O</td>\n      <td>O</td>\n      <td>O</td>\n      <td>O</td>\n      <td>O</td>\n      <td>O</td>\n      <td>O</td>\n      <td>O</td>\n      <td>O</td>\n      <td>O</td>\n      <td>O</td>\n      <td>O</td>\n      <td>O</td>\n      <td>O</td>\n      <td>O</td>\n      <td>...</td>\n      <td>O</td>\n      <td>O</td>\n      <td>O</td>\n      <td>O</td>\n      <td>O</td>\n      <td>O</td>\n      <td>O</td>\n      <td>O</td>\n      <td>O</td>\n      <td>O</td>\n      <td>O</td>\n      <td>O</td>\n      <td>O</td>\n      <td>O</td>\n      <td>O</td>\n      <td>O</td>\n      <td>O</td>\n      <td>O</td>\n      <td>O</td>\n      <td>O</td>\n      <td>O</td>\n      <td>O</td>\n      <td>O</td>\n      <td>O</td>\n      <td>O</td>\n      <td>O</td>\n      <td>O</td>\n      <td>O</td>\n      <td>O</td>\n      <td>O</td>\n      <td>O</td>\n      <td>O</td>\n      <td>O</td>\n      <td>O</td>\n      <td>O</td>\n      <td>O</td>\n      <td>O</td>\n      <td>O</td>\n      <td>O</td>\n      <td>O</td>\n      <td>O</td>\n      <td>O</td>\n      <td>O</td>\n      <td>O</td>\n      <td>O</td>\n      <td>O</td>\n      <td>O</td>\n      <td>O</td>\n      <td>O</td>\n      <td>O</td>\n    </tr>\n    <tr>\n      <th>4</th>\n      <td>0</td>\n      <td>26</td>\n      <td>26</td>\n      <td>a</td>\n      <td>O</td>\n      <td>O</td>\n      <td>O</td>\n      <td>O</td>\n      <td>O</td>\n      <td>O</td>\n      <td>O</td>\n      <td>O</td>\n      <td>O</td>\n      <td>O</td>\n      <td>O</td>\n      <td>O</td>\n      <td>O</td>\n      <td>O</td>\n      <td>O</td>\n      <td>O</td>\n      <td>O</td>\n      <td>O</td>\n      <td>O</td>\n      <td>O</td>\n      <td>O</td>\n      <td>O</td>\n      <td>O</td>\n      <td>O</td>\n      <td>O</td>\n      <td>O</td>\n      <td>O</td>\n      <td>O</td>\n      <td>O</td>\n      <td>O</td>\n      <td>O</td>\n      <td>O</td>\n      <td>O</td>\n      <td>O</td>\n      <td>O</td>\n      <td>O</td>\n      <td>O</td>\n      <td>O</td>\n      <td>O</td>\n      <td>O</td>\n      <td>O</td>\n      <td>O</td>\n      <td>O</td>\n      <td>O</td>\n      <td>O</td>\n      <td>O</td>\n      <td>...</td>\n      <td>O</td>\n      <td>O</td>\n      <td>O</td>\n      <td>O</td>\n      <td>O</td>\n      <td>O</td>\n      <td>O</td>\n      <td>O</td>\n      <td>O</td>\n      <td>O</td>\n      <td>O</td>\n      <td>O</td>\n      <td>O</td>\n      <td>O</td>\n      <td>O</td>\n      <td>O</td>\n      <td>O</td>\n      <td>O</td>\n      <td>O</td>\n      <td>O</td>\n      <td>O</td>\n      <td>O</td>\n      <td>O</td>\n      <td>O</td>\n      <td>O</td>\n      <td>O</td>\n      <td>O</td>\n      <td>O</td>\n      <td>O</td>\n      <td>O</td>\n      <td>O</td>\n      <td>O</td>\n      <td>O</td>\n      <td>O</td>\n      <td>O</td>\n      <td>O</td>\n      <td>O</td>\n      <td>O</td>\n      <td>O</td>\n      <td>O</td>\n      <td>O</td>\n      <td>O</td>\n      <td>O</td>\n      <td>O</td>\n      <td>O</td>\n      <td>O</td>\n      <td>O</td>\n      <td>O</td>\n      <td>O</td>\n      <td>O</td>\n    </tr>\n    <tr>\n      <th>...</th>\n      <td>...</td>\n      <td>...</td>\n      <td>...</td>\n      <td>...</td>\n      <td>...</td>\n      <td>...</td>\n      <td>...</td>\n      <td>...</td>\n      <td>...</td>\n      <td>...</td>\n      <td>...</td>\n      <td>...</td>\n      <td>...</td>\n      <td>...</td>\n      <td>...</td>\n      <td>...</td>\n      <td>...</td>\n      <td>...</td>\n      <td>...</td>\n      <td>...</td>\n      <td>...</td>\n      <td>...</td>\n      <td>...</td>\n      <td>...</td>\n      <td>...</td>\n      <td>...</td>\n      <td>...</td>\n      <td>...</td>\n      <td>...</td>\n      <td>...</td>\n      <td>...</td>\n      <td>...</td>\n      <td>...</td>\n      <td>...</td>\n      <td>...</td>\n      <td>...</td>\n      <td>...</td>\n      <td>...</td>\n      <td>...</td>\n      <td>...</td>\n      <td>...</td>\n      <td>...</td>\n      <td>...</td>\n      <td>...</td>\n      <td>...</td>\n      <td>...</td>\n      <td>...</td>\n      <td>...</td>\n      <td>...</td>\n      <td>...</td>\n      <td>...</td>\n      <td>...</td>\n      <td>...</td>\n      <td>...</td>\n      <td>...</td>\n      <td>...</td>\n      <td>...</td>\n      <td>...</td>\n      <td>...</td>\n      <td>...</td>\n      <td>...</td>\n      <td>...</td>\n      <td>...</td>\n      <td>...</td>\n      <td>...</td>\n      <td>...</td>\n      <td>...</td>\n      <td>...</td>\n      <td>...</td>\n      <td>...</td>\n      <td>...</td>\n      <td>...</td>\n      <td>...</td>\n      <td>...</td>\n      <td>...</td>\n      <td>...</td>\n      <td>...</td>\n      <td>...</td>\n      <td>...</td>\n      <td>...</td>\n      <td>...</td>\n      <td>...</td>\n      <td>...</td>\n      <td>...</td>\n      <td>...</td>\n      <td>...</td>\n      <td>...</td>\n      <td>...</td>\n      <td>...</td>\n      <td>...</td>\n      <td>...</td>\n      <td>...</td>\n      <td>...</td>\n      <td>...</td>\n      <td>...</td>\n      <td>...</td>\n      <td>...</td>\n      <td>...</td>\n      <td>...</td>\n      <td>...</td>\n      <td>...</td>\n    </tr>\n    <tr>\n      <th>68</th>\n      <td>0</td>\n      <td>409</td>\n      <td>416</td>\n      <td>appetite</td>\n      <td>O</td>\n      <td>O</td>\n      <td>I-Symptom</td>\n      <td>I-Symptom</td>\n      <td>I-Symptom</td>\n      <td>I-Symptom</td>\n      <td>I-Problem</td>\n      <td>O</td>\n      <td>O</td>\n      <td>O</td>\n      <td>I-PROBLEM</td>\n      <td>O</td>\n      <td>O</td>\n      <td>O</td>\n      <td>I-Symptom</td>\n      <td>O</td>\n      <td>O</td>\n      <td>O</td>\n      <td>O</td>\n      <td>O</td>\n      <td>O</td>\n      <td>I-PROBLEM</td>\n      <td>O</td>\n      <td>O</td>\n      <td>O</td>\n      <td>O</td>\n      <td>O</td>\n      <td>O</td>\n      <td>I-Symptom</td>\n      <td>I-clinical_condition</td>\n      <td>O</td>\n      <td>O</td>\n      <td>O</td>\n      <td>I-Symptom</td>\n      <td>O</td>\n      <td>O</td>\n      <td>O</td>\n      <td>O</td>\n      <td>I-ADE</td>\n      <td>O</td>\n      <td>O</td>\n      <td>O</td>\n      <td>I-PROBLEM</td>\n      <td>O</td>\n      <td>O</td>\n      <td>O</td>\n      <td>...</td>\n      <td>O</td>\n      <td>I-Community_Living_Conditions</td>\n      <td>O</td>\n      <td>O</td>\n      <td>O</td>\n      <td>I-Disease</td>\n      <td>I-Symptom</td>\n      <td>O</td>\n      <td>O</td>\n      <td>O</td>\n      <td>O</td>\n      <td>O</td>\n      <td>I-Medicalfinding</td>\n      <td>O</td>\n      <td>I-Sign_or_Symptom</td>\n      <td>O</td>\n      <td>O</td>\n      <td>O</td>\n      <td>O</td>\n      <td>O</td>\n      <td>O</td>\n      <td>O</td>\n      <td>O</td>\n      <td>O</td>\n      <td>O</td>\n      <td>I-ADE</td>\n      <td>O</td>\n      <td>I-MedicalCondition</td>\n      <td>O</td>\n      <td>I-Symptom</td>\n      <td>O</td>\n      <td>O</td>\n      <td>I-Symptom</td>\n      <td>O</td>\n      <td>O</td>\n      <td>O</td>\n      <td>O</td>\n      <td>O</td>\n      <td>I-Symptom</td>\n      <td>O</td>\n      <td>I-PROBLEM</td>\n      <td>O</td>\n      <td>O</td>\n      <td>O</td>\n      <td>O</td>\n      <td>I-Symptom</td>\n      <td>I-clinical_condition</td>\n      <td>O</td>\n      <td>O</td>\n      <td>O</td>\n    </tr>\n    <tr>\n      <th>69</th>\n      <td>0</td>\n      <td>418</td>\n      <td>418</td>\n      <td>,</td>\n      <td>O</td>\n      <td>O</td>\n      <td>O</td>\n      <td>O</td>\n      <td>O</td>\n      <td>O</td>\n      <td>O</td>\n      <td>O</td>\n      <td>O</td>\n      <td>O</td>\n      <td>O</td>\n      <td>O</td>\n      <td>O</td>\n      <td>O</td>\n      <td>O</td>\n      <td>O</td>\n      <td>O</td>\n      <td>O</td>\n      <td>O</td>\n      <td>O</td>\n      <td>O</td>\n      <td>O</td>\n      <td>O</td>\n      <td>O</td>\n      <td>O</td>\n      <td>O</td>\n      <td>O</td>\n      <td>O</td>\n      <td>O</td>\n      <td>O</td>\n      <td>O</td>\n      <td>O</td>\n      <td>O</td>\n      <td>O</td>\n      <td>O</td>\n      <td>O</td>\n      <td>O</td>\n      <td>O</td>\n      <td>O</td>\n      <td>O</td>\n      <td>O</td>\n      <td>O</td>\n      <td>O</td>\n      <td>O</td>\n      <td>O</td>\n      <td>O</td>\n      <td>...</td>\n      <td>O</td>\n      <td>O</td>\n      <td>O</td>\n      <td>O</td>\n      <td>O</td>\n      <td>O</td>\n      <td>O</td>\n      <td>O</td>\n      <td>O</td>\n      <td>O</td>\n      <td>O</td>\n      <td>O</td>\n      <td>O</td>\n      <td>O</td>\n      <td>O</td>\n      <td>O</td>\n      <td>O</td>\n      <td>O</td>\n      <td>O</td>\n      <td>O</td>\n      <td>O</td>\n      <td>O</td>\n      <td>O</td>\n      <td>O</td>\n      <td>O</td>\n      <td>O</td>\n      <td>O</td>\n      <td>O</td>\n      <td>O</td>\n      <td>O</td>\n      <td>O</td>\n      <td>O</td>\n      <td>O</td>\n      <td>O</td>\n      <td>O</td>\n      <td>O</td>\n      <td>O</td>\n      <td>O</td>\n      <td>O</td>\n      <td>O</td>\n      <td>O</td>\n      <td>O</td>\n      <td>O</td>\n      <td>O</td>\n      <td>O</td>\n      <td>O</td>\n      <td>O</td>\n      <td>O</td>\n      <td>O</td>\n      <td>O</td>\n    </tr>\n    <tr>\n      <th>70</th>\n      <td>0</td>\n      <td>420</td>\n      <td>422</td>\n      <td>and</td>\n      <td>O</td>\n      <td>O</td>\n      <td>O</td>\n      <td>O</td>\n      <td>O</td>\n      <td>O</td>\n      <td>O</td>\n      <td>O</td>\n      <td>O</td>\n      <td>O</td>\n      <td>O</td>\n      <td>O</td>\n      <td>O</td>\n      <td>O</td>\n      <td>O</td>\n      <td>O</td>\n      <td>O</td>\n      <td>O</td>\n      <td>O</td>\n      <td>O</td>\n      <td>O</td>\n      <td>O</td>\n      <td>O</td>\n      <td>O</td>\n      <td>O</td>\n      <td>O</td>\n      <td>O</td>\n      <td>O</td>\n      <td>O</td>\n      <td>O</td>\n      <td>O</td>\n      <td>O</td>\n      <td>O</td>\n      <td>O</td>\n      <td>O</td>\n      <td>O</td>\n      <td>O</td>\n      <td>O</td>\n      <td>O</td>\n      <td>O</td>\n      <td>O</td>\n      <td>O</td>\n      <td>O</td>\n      <td>O</td>\n      <td>O</td>\n      <td>O</td>\n      <td>...</td>\n      <td>O</td>\n      <td>O</td>\n      <td>O</td>\n      <td>O</td>\n      <td>O</td>\n      <td>O</td>\n      <td>O</td>\n      <td>O</td>\n      <td>O</td>\n      <td>O</td>\n      <td>O</td>\n      <td>O</td>\n      <td>O</td>\n      <td>O</td>\n      <td>O</td>\n      <td>O</td>\n      <td>O</td>\n      <td>O</td>\n      <td>O</td>\n      <td>O</td>\n      <td>O</td>\n      <td>O</td>\n      <td>O</td>\n      <td>O</td>\n      <td>O</td>\n      <td>O</td>\n      <td>O</td>\n      <td>O</td>\n      <td>O</td>\n      <td>O</td>\n      <td>O</td>\n      <td>O</td>\n      <td>O</td>\n      <td>O</td>\n      <td>O</td>\n      <td>O</td>\n      <td>O</td>\n      <td>O</td>\n      <td>O</td>\n      <td>O</td>\n      <td>O</td>\n      <td>O</td>\n      <td>O</td>\n      <td>O</td>\n      <td>O</td>\n      <td>O</td>\n      <td>O</td>\n      <td>O</td>\n      <td>O</td>\n      <td>O</td>\n    </tr>\n    <tr>\n      <th>71</th>\n      <td>0</td>\n      <td>424</td>\n      <td>431</td>\n      <td>vomiting</td>\n      <td>O</td>\n      <td>O</td>\n      <td>B-Symptom</td>\n      <td>B-Symptom</td>\n      <td>B-Symptom</td>\n      <td>B-Symptom</td>\n      <td>B-Problem</td>\n      <td>O</td>\n      <td>O</td>\n      <td>O</td>\n      <td>B-PROBLEM</td>\n      <td>O</td>\n      <td>O</td>\n      <td>O</td>\n      <td>B-Symptom</td>\n      <td>O</td>\n      <td>B-Disease</td>\n      <td>O</td>\n      <td>O</td>\n      <td>O</td>\n      <td>O</td>\n      <td>B-PROBLEM</td>\n      <td>O</td>\n      <td>O</td>\n      <td>O</td>\n      <td>O</td>\n      <td>O</td>\n      <td>O</td>\n      <td>B-Symptom</td>\n      <td>B-clinical_condition</td>\n      <td>O</td>\n      <td>O</td>\n      <td>O</td>\n      <td>B-Symptom</td>\n      <td>O</td>\n      <td>O</td>\n      <td>O</td>\n      <td>O</td>\n      <td>B-ADE</td>\n      <td>B-HP</td>\n      <td>O</td>\n      <td>O</td>\n      <td>B-PROBLEM</td>\n      <td>O</td>\n      <td>O</td>\n      <td>O</td>\n      <td>...</td>\n      <td>O</td>\n      <td>O</td>\n      <td>O</td>\n      <td>O</td>\n      <td>O</td>\n      <td>B-Disease</td>\n      <td>B-Symptom</td>\n      <td>O</td>\n      <td>O</td>\n      <td>O</td>\n      <td>O</td>\n      <td>O</td>\n      <td>B-Medicalfinding</td>\n      <td>O</td>\n      <td>B-Sign_or_Symptom</td>\n      <td>O</td>\n      <td>O</td>\n      <td>O</td>\n      <td>O</td>\n      <td>O</td>\n      <td>O</td>\n      <td>O</td>\n      <td>O</td>\n      <td>O</td>\n      <td>O</td>\n      <td>B-ADE</td>\n      <td>O</td>\n      <td>B-MedicalCondition</td>\n      <td>O</td>\n      <td>B-Symptom</td>\n      <td>O</td>\n      <td>O</td>\n      <td>B-Symptom</td>\n      <td>O</td>\n      <td>O</td>\n      <td>O</td>\n      <td>O</td>\n      <td>O</td>\n      <td>B-Symptom</td>\n      <td>O</td>\n      <td>B-PROBLEM</td>\n      <td>B-CONDITION</td>\n      <td>O</td>\n      <td>O</td>\n      <td>O</td>\n      <td>B-Symptom</td>\n      <td>B-clinical_condition</td>\n      <td>O</td>\n      <td>O</td>\n      <td>O</td>\n    </tr>\n    <tr>\n      <th>72</th>\n      <td>0</td>\n      <td>433</td>\n      <td>433</td>\n      <td>.</td>\n      <td>O</td>\n      <td>O</td>\n      <td>O</td>\n      <td>O</td>\n      <td>O</td>\n      <td>O</td>\n      <td>O</td>\n      <td>O</td>\n      <td>O</td>\n      <td>O</td>\n      <td>O</td>\n      <td>O</td>\n      <td>O</td>\n      <td>O</td>\n      <td>O</td>\n      <td>O</td>\n      <td>O</td>\n      <td>O</td>\n      <td>O</td>\n      <td>O</td>\n      <td>O</td>\n      <td>O</td>\n      <td>O</td>\n      <td>O</td>\n      <td>O</td>\n      <td>O</td>\n      <td>O</td>\n      <td>O</td>\n      <td>O</td>\n      <td>O</td>\n      <td>O</td>\n      <td>O</td>\n      <td>O</td>\n      <td>O</td>\n      <td>O</td>\n      <td>O</td>\n      <td>O</td>\n      <td>O</td>\n      <td>O</td>\n      <td>O</td>\n      <td>O</td>\n      <td>O</td>\n      <td>O</td>\n      <td>O</td>\n      <td>O</td>\n      <td>O</td>\n      <td>...</td>\n      <td>O</td>\n      <td>O</td>\n      <td>O</td>\n      <td>O</td>\n      <td>O</td>\n      <td>O</td>\n      <td>O</td>\n      <td>O</td>\n      <td>O</td>\n      <td>O</td>\n      <td>O</td>\n      <td>O</td>\n      <td>O</td>\n      <td>O</td>\n      <td>O</td>\n      <td>O</td>\n      <td>O</td>\n      <td>O</td>\n      <td>O</td>\n      <td>O</td>\n      <td>O</td>\n      <td>O</td>\n      <td>O</td>\n      <td>O</td>\n      <td>O</td>\n      <td>O</td>\n      <td>O</td>\n      <td>O</td>\n      <td>O</td>\n      <td>O</td>\n      <td>O</td>\n      <td>O</td>\n      <td>O</td>\n      <td>O</td>\n      <td>O</td>\n      <td>O</td>\n      <td>O</td>\n      <td>O</td>\n      <td>O</td>\n      <td>O</td>\n      <td>O</td>\n      <td>O</td>\n      <td>O</td>\n      <td>O</td>\n      <td>O</td>\n      <td>O</td>\n      <td>O</td>\n      <td>O</td>\n      <td>O</td>\n      <td>O</td>\n    </tr>\n  </tbody>\n</table>\n<p>73 rows × 102 columns</p>\n</div>",
       "datasetInfos": [],
       "metadata": {},
       "removedWidgets": [],
       "textData": null,
       "type": "htmlSandbox"
      }
     },
     "output_type": "display_data"
    }
   ],
   "source": [
    "get_token_results(clinical_result)"
   ]
  },
  {
   "cell_type": "markdown",
   "metadata": {
    "application/vnd.databricks.v1+cell": {
     "cellMetadata": {},
     "inputWidgets": {},
     "nuid": "1d79ce8b-c48f-4ac7-bc23-1c467ccb77ff",
     "showTitle": false,
     "title": ""
    },
    "id": "P40wIaZ3GDwI"
   },
   "source": [
    "## NER Model Finder Pretrained Pipeline\n",
    "`ner_model_finder`  pretrained pipeline trained with bert embeddings that can be used to find the most appropriate NER model given the entity name."
   ]
  },
  {
   "cell_type": "code",
   "execution_count": 0,
   "metadata": {
    "application/vnd.databricks.v1+cell": {
     "cellMetadata": {
      "byteLimit": 2048000,
      "rowLimit": 10000
     },
     "inputWidgets": {},
     "nuid": "abaa24d8-de57-448f-b544-241973d966c5",
     "showTitle": false,
     "title": ""
    },
    "colab": {
     "base_uri": "https://localhost:8080/"
    },
    "executionInfo": {
     "elapsed": 22166,
     "status": "ok",
     "timestamp": 1707941996644,
     "user": {
      "displayName": "Akar Öztürk",
      "userId": "07602883577262601067"
     },
     "user_tz": -60
    },
    "id": "SLqkp-9NGJG5",
    "outputId": "f360a274-3831-429a-9083-095dad50d03a"
   },
   "outputs": [
    {
     "output_type": "stream",
     "name": "stdout",
     "output_type": "stream",
     "text": [
      "ner_model_finder download started this may take some time.\nApprox size to download 148.7 MB\n\r[ | ]\r[ / ]\r[ — ]\r[ \\ ]\r[ | ]\r[ / ]\r[ — ]\r[ \\ ]\r[OK!]\n"
     ]
    }
   ],
   "source": [
    "finder_pipeline = nlp.PretrainedPipeline(\"ner_model_finder\", \"en\", \"clinical/models\")"
   ]
  },
  {
   "cell_type": "code",
   "execution_count": 0,
   "metadata": {
    "application/vnd.databricks.v1+cell": {
     "cellMetadata": {
      "byteLimit": 2048000,
      "rowLimit": 10000
     },
     "inputWidgets": {},
     "nuid": "006b5072-41a2-41fd-8193-19b9dd65b29a",
     "showTitle": false,
     "title": ""
    },
    "colab": {
     "base_uri": "https://localhost:8080/"
    },
    "executionInfo": {
     "elapsed": 1186,
     "status": "ok",
     "timestamp": 1707941997817,
     "user": {
      "displayName": "Akar Öztürk",
      "userId": "07602883577262601067"
     },
     "user_tz": -60
    },
    "id": "5PGY9hNAGJrI",
    "outputId": "5772bed6-a5eb-470d-ecbb-ced9b667e665"
   },
   "outputs": [
    {
     "output_type": "stream",
     "name": "stdout",
     "output_type": "stream",
     "text": [
      "Out[10]: dict_keys(['model_names'])"
     ]
    }
   ],
   "source": [
    "result = finder_pipeline.fullAnnotate(\"oncology\")[0]\n",
    "result.keys()"
   ]
  },
  {
   "cell_type": "markdown",
   "metadata": {
    "application/vnd.databricks.v1+cell": {
     "cellMetadata": {},
     "inputWidgets": {},
     "nuid": "1d9df4e2-70e8-4cfe-a904-d3ed60566e53",
     "showTitle": false,
     "title": ""
    },
    "id": "aR5Y9XU7Gjg1"
   },
   "source": [
    "From the metadata in the 'model_names' column, we'll get to the top models to the given 'oncology' entity and oncology related categories."
   ]
  },
  {
   "cell_type": "code",
   "execution_count": 0,
   "metadata": {
    "application/vnd.databricks.v1+cell": {
     "cellMetadata": {
      "byteLimit": 2048000,
      "rowLimit": 10000
     },
     "inputWidgets": {},
     "nuid": "ac9652f9-54b1-44e8-bd24-31bd3898d14d",
     "showTitle": false,
     "title": ""
    },
    "id": "ARzyEhjUGQba"
   },
   "outputs": [],
   "source": [
    "df= pd.DataFrame(zip(result[\"model_names\"][0].metadata[\"all_k_resolutions\"].split(\":::\"),\n",
    "                     result[\"model_names\"][0].metadata[\"all_k_results\"].split(\":::\")),\n",
    "                 columns=[\"category\", \"top_models\"])"
   ]
  },
  {
   "cell_type": "code",
   "execution_count": 0,
   "metadata": {
    "application/vnd.databricks.v1+cell": {
     "cellMetadata": {
      "byteLimit": 2048000,
      "rowLimit": 10000
     },
     "inputWidgets": {},
     "nuid": "4d9155ff-4879-4a55-9677-5cc9d2d671bd",
     "showTitle": false,
     "title": ""
    },
    "colab": {
     "base_uri": "https://localhost:8080/",
     "height": 206
    },
    "executionInfo": {
     "elapsed": 9,
     "status": "ok",
     "timestamp": 1707941997819,
     "user": {
      "displayName": "Akar Öztürk",
      "userId": "07602883577262601067"
     },
     "user_tz": -60
    },
    "id": "KxqfpQ4mNvEj",
    "outputId": "dad5a905-94e8-4537-ef12-63dc65aa37ff"
   },
   "outputs": [
    {
     "output_type": "display_data",
     "data": {
      "text/html": [
       "<div>\n",
       "<style scoped>\n",
       "    .dataframe tbody tr th:only-of-type {\n",
       "        vertical-align: middle;\n",
       "    }\n",
       "\n",
       "    .dataframe tbody tr th {\n",
       "        vertical-align: top;\n",
       "    }\n",
       "\n",
       "    .dataframe thead th {\n",
       "        text-align: right;\n",
       "    }\n",
       "</style>\n",
       "<table border=\"1\" class=\"dataframe\">\n",
       "  <thead>\n",
       "    <tr style=\"text-align: right;\">\n",
       "      <th></th>\n",
       "      <th>category</th>\n",
       "      <th>top_models</th>\n",
       "    </tr>\n",
       "  </thead>\n",
       "  <tbody>\n",
       "    <tr>\n",
       "      <th>0</th>\n",
       "      <td>oncology therapy</td>\n",
       "      <td>['ner_jsl', 'jsl_rd_ner_wip_greedy_clinical', 'jsl_ner_wip_modifier_clinical', 'ner_jsl_enriched...</td>\n",
       "    </tr>\n",
       "    <tr>\n",
       "      <th>1</th>\n",
       "      <td>clinical department</td>\n",
       "      <td>['ner_jsl', 'jsl_rd_ner_wip_greedy_clinical', 'jsl_ner_wip_modifier_clinical', 'ner_events_clini...</td>\n",
       "    </tr>\n",
       "    <tr>\n",
       "      <th>2</th>\n",
       "      <td>biomedical unit</td>\n",
       "      <td>['ner_clinical_trials_abstracts']</td>\n",
       "    </tr>\n",
       "    <tr>\n",
       "      <th>3</th>\n",
       "      <td>cancer genetics</td>\n",
       "      <td>['ner_cancer_genetics']</td>\n",
       "    </tr>\n",
       "    <tr>\n",
       "      <th>4</th>\n",
       "      <td>anatomy</td>\n",
       "      <td>['ner_bionlp', 'ner_medmentions_coarse', 'ner_chexpert', 'ner_anatomy_coarse', 'ner_anatomy', 'n...</td>\n",
       "    </tr>\n",
       "  </tbody>\n",
       "</table>\n",
       "</div>"
      ]
     },
     "metadata": {
      "application/vnd.databricks.v1+output": {
       "addedWidgets": {},
       "arguments": {},
       "data": "<div>\n<style scoped>\n    .dataframe tbody tr th:only-of-type {\n        vertical-align: middle;\n    }\n\n    .dataframe tbody tr th {\n        vertical-align: top;\n    }\n\n    .dataframe thead th {\n        text-align: right;\n    }\n</style>\n<table border=\"1\" class=\"dataframe\">\n  <thead>\n    <tr style=\"text-align: right;\">\n      <th></th>\n      <th>category</th>\n      <th>top_models</th>\n    </tr>\n  </thead>\n  <tbody>\n    <tr>\n      <th>0</th>\n      <td>oncology therapy</td>\n      <td>['ner_jsl', 'jsl_rd_ner_wip_greedy_clinical', 'jsl_ner_wip_modifier_clinical', 'ner_jsl_enriched...</td>\n    </tr>\n    <tr>\n      <th>1</th>\n      <td>clinical department</td>\n      <td>['ner_jsl', 'jsl_rd_ner_wip_greedy_clinical', 'jsl_ner_wip_modifier_clinical', 'ner_events_clini...</td>\n    </tr>\n    <tr>\n      <th>2</th>\n      <td>biomedical unit</td>\n      <td>['ner_clinical_trials_abstracts']</td>\n    </tr>\n    <tr>\n      <th>3</th>\n      <td>cancer genetics</td>\n      <td>['ner_cancer_genetics']</td>\n    </tr>\n    <tr>\n      <th>4</th>\n      <td>anatomy</td>\n      <td>['ner_bionlp', 'ner_medmentions_coarse', 'ner_chexpert', 'ner_anatomy_coarse', 'ner_anatomy', 'n...</td>\n    </tr>\n  </tbody>\n</table>\n</div>",
       "datasetInfos": [],
       "metadata": {},
       "removedWidgets": [],
       "textData": null,
       "type": "htmlSandbox"
      }
     },
     "output_type": "display_data"
    }
   ],
   "source": [
    "df.head()"
   ]
  },
  {
   "cell_type": "markdown",
   "metadata": {
    "application/vnd.databricks.v1+cell": {
     "cellMetadata": {},
     "inputWidgets": {},
     "nuid": "c5807f5d-9d1d-47f9-8520-bf4ce57b2a00",
     "showTitle": false,
     "title": ""
    },
    "id": "aVyotv_RoUOB"
   },
   "source": [
    "## Resolver Pipelines\n",
    "\n",
    "We have **Resolver pipelines** for converting clinical entities to their UMLS CUI codes. You will just feed your text and it will return the corresponding UMLS codes.\n",
    "\n",
    "\n",
    "\n",
    "**Resolver Pipelines:**\n",
    "\n",
    "|index|pipeline|Entity|Target\n",
    "|-|-|-|:-:|\n",
    "| 1|[umls_disease_syndrome_resolver_pipeline](https://nlp.johnsnowlabs.com/2022/07/26/umls_disease_syndrome_resolver_pipeline_en_3_0.html)|Disease and Syndromes|UMLS CUI|\n",
    "| 2|[umls_drug_resolver_pipeline](https://nlp.johnsnowlabs.com/2022/07/26/umls_drug_resolver_pipeline_en_3_0.html)|Drug|UMLS CUI|\n",
    "| 3|[umls_drug_substance_resolver_pipeline](https://nlp.johnsnowlabs.com/2022/07/25/umls_drug_substance_resolver_pipeline_en_3_0.html)|Drug Substance|UMLS CUI|\n",
    "| 4|[medication_resolver_pipeline](https://nlp.johnsnowlabs.com/2022/09/01/medication_resolver_pipeline_en.html)|Drug|Adverse Reaction, RxNorm, UMLS, NDC, SNOMED CT|\n",
    "| 5|[medication_resolver_transform_pipeline](https://nlp.johnsnowlabs.com/2022/09/01/medication_resolver_transform_pipeline_en.html)|Drug|Adverse Reaction, RxNorm, UMLS, NDC, SNOMED CT|\n",
    "| 6|[umls_major_concepts_resolver_pipeline](https://nlp.johnsnowlabs.com/2022/07/25/umls_major_concepts_resolver_pipeline_en_3_0.html)|Clinical Major Concepts| UMLS CUI|\n",
    "| 7|[umls_clinical_findings_resolver_pipeline](https://nlp.johnsnowlabs.com/2022/07/26/umls_clinical_findings_resolver_pipeline_en_3_0.html)|Clinical Findings|\tUMLS CUI|\n",
    "| 8|[icd9_resolver_pipeline](https://nlp.johnsnowlabs.com/2022/09/30/icd9_resolver_pipeline_en.html)|Clinical Findings|ICD-9|\n",
    "| 9|[atc_resolver_pipeline](https://nlp.johnsnowlabs.com/2024/01/17/atc_resolver_pipeline_en.html)|Drug|ATC|\n",
    "| 10|[cpt_procedures_measurements_resolver_pipeline](https://nlp.johnsnowlabs.com/2024/01/17/cpt_procedures_measurements_resolver_pipeline_en.html)|Procedure, Measurement|CPT|\n",
    "| 11|[hcc_resolver_pipeline](https://nlp.johnsnowlabs.com/2024/01/17/hcc_resolver_pipeline_en.html)|Clinical Findings|HCC|\n",
    "| 12|[hpo_resolver_pipeline](https://nlp.johnsnowlabs.com/2024/01/17/hpo_resolver_pipeline_en.html)|Human Phenotype|HPO|\n",
    "| 13|[cvx_resolver_pipeline](https://nlp.johnsnowlabs.com/2022/10/12/cvx_resolver_pipeline_en.html)|Vaccine|CVX|\n",
    "| 14|[icd10cm_resolver_pipeline](https://nlp.johnsnowlabs.com/2022/11/02/icd10cm_resolver_pipeline_en.html)|Problem|ICD-10|\n",
    "| 15|[icd10pcs_resolver_pipeline](https://nlp.johnsnowlabs.com/2024/02/02/icd10pcs_resolver_pipeline_en.html)|Procedure|ICD-10-PCS|\n",
    "| 16|[icdo_resolver_pipeline](https://nlp.johnsnowlabs.com/2024/02/02/icdo_resolver_pipeline_en.html)|Problem|ICD-O|\n",
    "| 17|[loinc_resolver_pipeline](https://nlp.johnsnowlabs.com/2024/02/02/loinc_resolver_pipeline_en.html)|Test|LOINC|\n",
    "| 17|[loinc_numeric_resolver_pipeline](https://nlp.johnsnowlabs.com/2024/01/30/loinc_numeric_resolver_pipeline_en.html)|Test|LOINC|\n",
    "| 18|[snomed_body_structure_resolver_pipeline](https://nlp.johnsnowlabs.com/2024/01/17/snomed_body_structure_resolver_pipeline_en.html)|Clinical Findings|SNOMED|\n",
    "| 19|[snomed_findings_resolver_pipeline](https://nlp.johnsnowlabs.com/2024/01/17/snomed_findings_resolver_pipeline_en.html)|Clinical Findings|SNOMED CT|\n",
    "| 20|[snomed_procedures_measurements_resolver_pipeline](https://nlp.johnsnowlabs.com/2024/01/31/snomed_findings_resolver_pipelin_en.html)|Procedure, Test|SNOMED|\n",
    "| 21|[mesh_resolver_pipeline](https://nlp.johnsnowlabs.com/2024/01/25/mesh_resolver_pipeline_en.html)|Clinical Findings|MeSH|\n",
    "| 22|[ndc_resolver_pipeline](https://nlp.johnsnowlabs.com/2024/01/25/ndc_resolver_pipeline_en.html)|Drug|NDC|\n",
    "| 23|[ncit_resolver_pipeline](https://nlp.johnsnowlabs.com/2024/01/25/ncit_resolver_pipeline_en.html)|Clinical Findings|NCIt|\n",
    "| 24|[rxcui_resolver_pipeline](https://nlp.johnsnowlabs.com/2024/02/01/rxcui_resolver_pipeline_en.html)|Clinical Findings|RxCUI|\n",
    "| 25|[hcpcs_resolver_pipeline](https://nlp.johnsnowlabs.com/2024/01/30/hcpcs_resolver_pipeline_en.html)|Procedure|HCPCS|\n",
    "| 26|[hgnc_resolver_pipeline](https://nlp.johnsnowlabs.com/2024/01/30/hgnc_resolver_pipeline_en.html)|Gene|HGNC|\n",
    "| 27|[icd10cm_generalised_resolver_pipeline](https://nlp.johnsnowlabs.com/2024/01/30/icd10cm_generalised_resolver_pipeline_en.html)|Clinical Findings|ICD-10-CM|\n",
    "| 28|[abbreviation_pipeline](https://nlp.johnsnowlabs.com/2023/08/16/abbreviation_pipeline_en.html)|ABBR|Definitions and Categories|\n",
    "| 29|[icd10cm_multi_mapper_pipeline](https://nlp.johnsnowlabs.com/2023/08/16/icd10cm_multi_mapper_pipeline_en.html)|ICD-10-CM|Billable Mappings, HCC Codes, Cause Mappings, Claim Mappings, SNOMED Codes, UMLS Codes and ICD-9 Codes|\n",
    "| 30|[rxnorm_multi_mapper_pipeline](https://nlp.johnsnowlabs.com/2023/08/16/rxnorm_multi_mapper_pipeline_en.html)|RxNorm|Drug Brand Names, RxNorm Extension Brand Names, Action Mappings, Treatment Mappings, UMLS Codes, NDC Product Codes and NDC Package Codes|\n",
    "| 31|[rxnorm_resolver_pipeline](https://nlp.johnsnowlabs.com/2023/08/16/rxnorm_resolver_pipeline_en.html)|Drug|RxNorm |\n",
    "| 32|[snomed_multi_mapper_pipeline](https://nlp.johnsnowlabs.com/2023/08/16/snomed_multi_mapper_pipeline_en.html)|SNOMED Codes|ICD-10, ICD-O,UMLS |\n"
   ]
  },
  {
   "cell_type": "markdown",
   "metadata": {
    "application/vnd.databricks.v1+cell": {
     "cellMetadata": {},
     "inputWidgets": {},
     "nuid": "9de6f133-c5cc-456b-91cb-57dc432c8aed",
     "showTitle": false,
     "title": ""
    },
    "id": "atbBnX2I3qxn"
   },
   "source": [
    "**icd10cm_resolver_pipeline**\n",
    "\n",
    "This pretrained pipeline extracts clinical conditions and map them to their corresponding ICD-10-CM codes. You’ll just feed your text and it will detect the related entities and return their corresponding ICD-10-CM codes."
   ]
  },
  {
   "cell_type": "code",
   "execution_count": 0,
   "metadata": {
    "application/vnd.databricks.v1+cell": {
     "cellMetadata": {
      "byteLimit": 2048000,
      "rowLimit": 10000
     },
     "inputWidgets": {},
     "nuid": "df0343d8-867c-47e9-a402-4a816378fbae",
     "showTitle": false,
     "title": ""
    },
    "colab": {
     "base_uri": "https://localhost:8080/"
    },
    "executionInfo": {
     "elapsed": 5689,
     "status": "ok",
     "timestamp": 1708015159843,
     "user": {
      "displayName": "Akar Öztürk",
      "userId": "07602883577262601067"
     },
     "user_tz": -60
    },
    "id": "tczqY0rsoT_M",
    "outputId": "27c0603a-e3d4-4b4d-d640-d08cafbbc7b7"
   },
   "outputs": [
    {
     "output_type": "stream",
     "name": "stdout",
     "output_type": "stream",
     "text": [
      "icd10cm_resolver_pipeline download started this may take some time.\nApprox size to download 3.3 GB\n\r[ | ]\r[ / ]\r[ — ]\r[ \\ ]\r[ | ]\r[ / ]\r[ — ]\r[ \\ ]\r[ | ]\r[ / ]\r[ — ]\r[ \\ ]\r[ | ]\r[ / ]\r[ — ]\r[ \\ ]\r[ | ]\r[ / ]\r[ — ]\r[ \\ ]\r[ | ]\r[ / ]\r[ — ]\r[ \\ ]\r[ | ]\r[ / ]\r[ — ]\r[ \\ ]\r[ | ]\r[ / ]\r[ — ]\r[ \\ ]\r[ | ]\r[ / ]\r[ — ]\r[ \\ ]\r[ | ]\r[ / ]\r[ — ]\r[ \\ ]\r[ | ]\r[ / ]\r[ — ]\r[ \\ ]\r[ | ]\r[ / ]\r[ — ]\r[ \\ ]\r[ | ]\r[ / ]\r[ — ]\r[ \\ ]\r[ | ]\r[ / ]\r[ — ]\r[ \\ ]\r[ | ]\r[ / ]\r[ — ]\r[ \\ ]\r[ | ]\r[ / ]\r[ — ]\r[ \\ ]\r[ | ]\r[ / ]\r[ — ]\r[ \\ ]\r[ | ]\r[ / ]\r[ — ]\r[ \\ ]\r[ | ]\r[ / ]\r[ — ]\r[ \\ ]\r[ | ]\r[ / ]\r[ — ]\r[ \\ ]\r[ | ]\r[ / ]\r[ — ]\r[ \\ ]\r[ | ]\r[ / ]\r[ — ]\r[ \\ ]\r[ | ]\r[ / ]\r[ — ]\r[ \\ ]\r[ | ]\r[ / ]\r[ — ]\r[ \\ ]\r[ | ]\r[ / ]\r[ — ]\r[ \\ ]\r[ | ]\r[ / ]\r[ — ]\r[ \\ ]\r[ | ]\r[ / ]\r[ — ]\r[ \\ ]\r[ | ]\r[ / ]\r[ — ]\r[ \\ ]\r[ | ]\r[ / ]\r[ — ]\r[ \\ ]\r[ | ]\r[ / ]\r[ — ]\r[ \\ ]\r[ | ]\r[ / ]\r[ — ]\r[ \\ ]\r[ | ]\r[ / ]\r[ — ]\r[ \\ ]\r[ | ]\r[ / ]\r[ — ]\r[ \\ ]\r[ | ]\r[ / ]\r[ — ]\r[ \\ ]\r[ | ]\r[ / ]\r[ — ]\r[ \\ ]\r[ | ]\r[ / ]\r[ — ]\r[ \\ ]\r[ | ]\r[ / ]\r[ — ]\r[ \\ ]\r[ | ]\r[ / ]\r[ — ]\r[ \\ ]\r[ | ]\r[ / ]\r[ — ]\r[ \\ ]\r[ | ]\r[ / ]\r[ — ]\r[ \\ ]\r[ | ]\r[ / ]\r[ — ]\r[ \\ ]\r[ | ]\r[ / ]\r[ — ]\r[ \\ ]\r[ | ]\r[ / ]\r[ — ]\r[ \\ ]\r[ | ]\r[ / ]\r[ — ]\r[ \\ ]\r[ | ]\r[ / ]\r[ — ]\r[ \\ ]\r[ | ]\r[ / ]\r[ — ]\r[ \\ ]\r[ | ]\r[ / ]\r[ — ]\r[ \\ ]\r[ | ]\r[ / ]\r[ — ]\r[ \\ ]\r[ | ]\r[ / ]\r[OK!]\n"
     ]
    }
   ],
   "source": [
    "resolver_pipeline = nlp.PretrainedPipeline(\"icd10cm_resolver_pipeline\", \"en\", \"clinical/models\")\n",
    "\n",
    "text = \"\"\"A 28-year-old female with a history of gestational diabetes mellitus diagnosed eight years and anisakiasis. Also, it was reported that fetal and neonatal hemorrhage\"\"\"\n",
    "\n",
    "result = resolver_pipeline.fullAnnotate(text)[0]"
   ]
  },
  {
   "cell_type": "code",
   "execution_count": 0,
   "metadata": {
    "application/vnd.databricks.v1+cell": {
     "cellMetadata": {
      "byteLimit": 2048000,
      "rowLimit": 10000
     },
     "inputWidgets": {},
     "nuid": "016ddb72-9d9b-4a74-9fab-d64bb0d84b44",
     "showTitle": false,
     "title": ""
    },
    "colab": {
     "base_uri": "https://localhost:8080/",
     "height": 143
    },
    "executionInfo": {
     "elapsed": 5,
     "status": "ok",
     "timestamp": 1708016121408,
     "user": {
      "displayName": "Akar Öztürk",
      "userId": "07602883577262601067"
     },
     "user_tz": -60
    },
    "id": "xQO_wtAnrnSt",
    "outputId": "b24749c5-492a-4236-fd28-6333006eb201"
   },
   "outputs": [
    {
     "output_type": "display_data",
     "data": {
      "text/html": [
       "<div>\n",
       "<style scoped>\n",
       "    .dataframe tbody tr th:only-of-type {\n",
       "        vertical-align: middle;\n",
       "    }\n",
       "\n",
       "    .dataframe tbody tr th {\n",
       "        vertical-align: top;\n",
       "    }\n",
       "\n",
       "    .dataframe thead th {\n",
       "        text-align: right;\n",
       "    }\n",
       "</style>\n",
       "<table border=\"1\" class=\"dataframe\">\n",
       "  <thead>\n",
       "    <tr style=\"text-align: right;\">\n",
       "      <th></th>\n",
       "      <th>chunks</th>\n",
       "      <th>entities</th>\n",
       "      <th>icd10cm_code</th>\n",
       "    </tr>\n",
       "  </thead>\n",
       "  <tbody>\n",
       "    <tr>\n",
       "      <th>0</th>\n",
       "      <td>gestational diabetes mellitus</td>\n",
       "      <td>PROBLEM</td>\n",
       "      <td>O24.919</td>\n",
       "    </tr>\n",
       "    <tr>\n",
       "      <th>1</th>\n",
       "      <td>anisakiasis</td>\n",
       "      <td>PROBLEM</td>\n",
       "      <td>B81.0</td>\n",
       "    </tr>\n",
       "    <tr>\n",
       "      <th>2</th>\n",
       "      <td>fetal and neonatal hemorrhage</td>\n",
       "      <td>PROBLEM</td>\n",
       "      <td>P549</td>\n",
       "    </tr>\n",
       "  </tbody>\n",
       "</table>\n",
       "</div>"
      ]
     },
     "metadata": {
      "application/vnd.databricks.v1+output": {
       "addedWidgets": {},
       "arguments": {},
       "data": "<div>\n<style scoped>\n    .dataframe tbody tr th:only-of-type {\n        vertical-align: middle;\n    }\n\n    .dataframe tbody tr th {\n        vertical-align: top;\n    }\n\n    .dataframe thead th {\n        text-align: right;\n    }\n</style>\n<table border=\"1\" class=\"dataframe\">\n  <thead>\n    <tr style=\"text-align: right;\">\n      <th></th>\n      <th>chunks</th>\n      <th>entities</th>\n      <th>icd10cm_code</th>\n    </tr>\n  </thead>\n  <tbody>\n    <tr>\n      <th>0</th>\n      <td>gestational diabetes mellitus</td>\n      <td>PROBLEM</td>\n      <td>O24.919</td>\n    </tr>\n    <tr>\n      <th>1</th>\n      <td>anisakiasis</td>\n      <td>PROBLEM</td>\n      <td>B81.0</td>\n    </tr>\n    <tr>\n      <th>2</th>\n      <td>fetal and neonatal hemorrhage</td>\n      <td>PROBLEM</td>\n      <td>P549</td>\n    </tr>\n  </tbody>\n</table>\n</div>",
       "datasetInfos": [],
       "metadata": {},
       "removedWidgets": [],
       "textData": null,
       "type": "htmlSandbox"
      }
     },
     "output_type": "display_data"
    }
   ],
   "source": [
    "import pandas as pd\n",
    "chunks=[]\n",
    "entities=[]\n",
    "icd10cm_code=[]\n",
    "\n",
    "\n",
    "for n,m in zip(result['chunk'], result['icd10cm']):\n",
    "\n",
    "    chunks.append(n.result)\n",
    "    entities.append(n.metadata['entity'])\n",
    "    icd10cm_code.append(m.result)\n",
    "\n",
    "\n",
    "df = pd.DataFrame({'chunks':chunks,\n",
    "                   'entities':entities,\n",
    "                   'icd10cm_code':icd10cm_code})\n",
    "\n",
    "df"
   ]
  },
  {
   "cell_type": "markdown",
   "metadata": {
    "application/vnd.databricks.v1+cell": {
     "cellMetadata": {},
     "inputWidgets": {},
     "nuid": "a9b5fa4d-39aa-4837-a6d6-2a4d360d2cb5",
     "showTitle": false,
     "title": ""
    },
    "id": "CZgI9RRHFB_h"
   },
   "source": [
    "## Oncology Pipelines"
   ]
  },
  {
   "cell_type": "markdown",
   "metadata": {
    "application/vnd.databricks.v1+cell": {
     "cellMetadata": {},
     "inputWidgets": {},
     "nuid": "e7184945-86ac-45ba-b224-931f5d35a054",
     "showTitle": false,
     "title": ""
    },
    "id": "1fiJRkvBFWoa"
   },
   "source": [
    "**Oncology Pretrained Pipeline List:**\n",
    "\n",
    "\n",
    "|index|model|index|model|\n",
    "|-----:|:-----|-----:|:-----|\n",
    "| 1| [oncology_biomarker_pipeline](https://nlp.johnsnowlabs.com/2022/12/01/oncology_biomarker_pipeline_en.html)  | 2| [oncology_general_pipeline](https://nlp.johnsnowlabs.com/2022/12/01/oncology_general_pipeline_en.html)  |\n",
    "| 3| [oncology_therapy_pipeline](https://nlp.johnsnowlabs.com/2022/12/01/oncology_therapy_pipeline_en.html)  | 4| [oncology_diagnosis_pipeline](https://nlp.johnsnowlabs.com/2022/12/01/oncology_diagnosis_pipeline_en.html)  \n",
    "| 5| [explain_clinical_doc_oncology](https://nlp.johnsnowlabs.com/2024/01/18/explain_clinical_doc_oncology_en.html)  |"
   ]
  },
  {
   "cell_type": "code",
   "execution_count": 0,
   "metadata": {
    "application/vnd.databricks.v1+cell": {
     "cellMetadata": {
      "byteLimit": 2048000,
      "rowLimit": 10000
     },
     "inputWidgets": {},
     "nuid": "52ba322e-f27b-4f9a-a9f0-7730c9efb45c",
     "showTitle": false,
     "title": ""
    },
    "colab": {
     "base_uri": "https://localhost:8080/"
    },
    "executionInfo": {
     "elapsed": 192497,
     "status": "ok",
     "timestamp": 1707943314938,
     "user": {
      "displayName": "Akar Öztürk",
      "userId": "07602883577262601067"
     },
     "user_tz": -60
    },
    "id": "FKyKQPu3FTI1",
    "outputId": "50a0a358-d1c8-4ac5-a5ec-07344bd4cd05"
   },
   "outputs": [
    {
     "output_type": "stream",
     "name": "stdout",
     "output_type": "stream",
     "text": [
      "oncology_biomarker_pipeline download started this may take some time.\nApprox size to download 1.6 GB\n\r[ | ]\r[ / ]\r[ — ]\r[ \\ ]\r[ | ]\r[ / ]\r[ — ]\r[ \\ ]\r[ | ]\r[ / ]\r[ — ]\r[ \\ ]\r[ | ]\r[ / ]\r[ — ]\r[ \\ ]\r[ | ]\r[ / ]\r[ — ]\r[ \\ ]\r[ | ]\r[ / ]\r[ — ]\r[ \\ ]\r[ | ]\r[ / ]\r[ — ]\r[ \\ ]\r[ | ]\r[ / ]\r[ — ]\r[ \\ ]\r[ | ]\r[ / ]\r[ — ]\r[OK!]\n"
     ]
    }
   ],
   "source": [
    "oncology_pipeline = nlp.PretrainedPipeline(\"oncology_biomarker_pipeline\", \"en\", \"clinical/models\")"
   ]
  },
  {
   "cell_type": "code",
   "execution_count": 0,
   "metadata": {
    "application/vnd.databricks.v1+cell": {
     "cellMetadata": {
      "byteLimit": 2048000,
      "rowLimit": 10000
     },
     "inputWidgets": {},
     "nuid": "1dd9dce6-02c3-4348-8397-8611a1498c52",
     "showTitle": false,
     "title": ""
    },
    "colab": {
     "base_uri": "https://localhost:8080/"
    },
    "executionInfo": {
     "elapsed": 6,
     "status": "ok",
     "timestamp": 1707943314938,
     "user": {
      "displayName": "Akar Öztürk",
      "userId": "07602883577262601067"
     },
     "user_tz": -60
    },
    "id": "Y3TbkbVUGW1x",
    "outputId": "258aa832-6adc-4b21-f2bc-10131c15a770"
   },
   "outputs": [
    {
     "output_type": "stream",
     "name": "stdout",
     "output_type": "stream",
     "text": [
      "Out[7]: [DocumentAssembler_dab6eeac879e,\n SentenceDetectorDLModel_6bafc4746ea5,\n REGEX_TOKENIZER_2e924d5e77a4,\n WORD_EMBEDDINGS_MODEL_9004b1d00302,\n MedicalNerModel_ecf280ca65e5,\n NerConverter_929f666beebc,\n MedicalNerModel_aeadb24f76a3,\n NerConverter_4f9b8da8c4c3,\n MedicalNerModel_eb9da4b9039b,\n NerConverter_40028785be7b,\n MedicalNerModel_299a97740594,\n NerConverter_a8bf552d0249,\n MERGE_acda18b976a6,\n MERGE_12af4df6fa27,\n ASSERTION_DL_8d77f383c928,\n ASSERTION_DL_163867728788,\n POS_6f55785005bf,\n dependency_e7755462ba78,\n RelationExtractionModel_d0af74510daa,\n RelationExtractionModel_68ebe11369b6,\n RelationExtractionModel_513eb6317779]"
     ]
    }
   ],
   "source": [
    "oncology_pipeline.model.stages"
   ]
  },
  {
   "cell_type": "code",
   "execution_count": 0,
   "metadata": {
    "application/vnd.databricks.v1+cell": {
     "cellMetadata": {
      "byteLimit": 2048000,
      "rowLimit": 10000
     },
     "inputWidgets": {},
     "nuid": "c2f6b57b-304d-43be-936f-a4553798df6c",
     "showTitle": false,
     "title": ""
    },
    "colab": {
     "base_uri": "https://localhost:8080/"
    },
    "executionInfo": {
     "elapsed": 3161,
     "status": "ok",
     "timestamp": 1707943318096,
     "user": {
      "displayName": "Akar Öztürk",
      "userId": "07602883577262601067"
     },
     "user_tz": -60
    },
    "id": "QP1lrVgwGaGJ",
    "outputId": "37a751e5-b273-48d6-d38a-23a659740037"
   },
   "outputs": [
    {
     "output_type": "stream",
     "name": "stdout",
     "output_type": "stream",
     "text": [
      "Out[8]: dict_keys(['re_oncology_granular_wip', 'assertion_oncology_test_binary_wip', 're_oncology_wip', 'ner_oncology_biomarker_wip_chunk', 'ner_biomarker_chunk', 'ner_oncology_test_wip', 'document', 're_oncology_biomarker_result_wip', 'merged_chunk', 'ner_oncology_biomarker_wip', 'ner_biomarker', 'ner_oncology_test_wip_chunk', 'token', 'embeddings', 'pos_tags', 'assertion_oncology_wip', 'assertion_chunk', 'ner_oncology_wip', 'dependencies', 'ner_oncology_wip_chunk', 'sentence'])"
     ]
    }
   ],
   "source": [
    "text = \"\"\"Immunohistochemistry was negative for thyroid transcription factor-1 and napsin A. The test was positive for ER and PR, and negative for HER2.\"\"\"\n",
    "\n",
    "result = oncology_pipeline.fullAnnotate(text)[0]\n",
    "\n",
    "result.keys()"
   ]
  },
  {
   "cell_type": "markdown",
   "metadata": {
    "application/vnd.databricks.v1+cell": {
     "cellMetadata": {},
     "inputWidgets": {},
     "nuid": "486dd01c-c5ec-447e-add2-4b2431744d24",
     "showTitle": false,
     "title": ""
    },
    "id": "i8gvhnpYwxyG"
   },
   "source": [
    "**NER Results**"
   ]
  },
  {
   "cell_type": "code",
   "execution_count": 0,
   "metadata": {
    "application/vnd.databricks.v1+cell": {
     "cellMetadata": {
      "byteLimit": 2048000,
      "rowLimit": 10000
     },
     "inputWidgets": {},
     "nuid": "b2808fa9-a4b7-422d-b2ea-155cfc520c27",
     "showTitle": false,
     "title": ""
    },
    "colab": {
     "base_uri": "https://localhost:8080/",
     "height": 331
    },
    "executionInfo": {
     "elapsed": 9,
     "status": "ok",
     "timestamp": 1707943318096,
     "user": {
      "displayName": "Akar Öztürk",
      "userId": "07602883577262601067"
     },
     "user_tz": -60
    },
    "id": "mognxRX9BJwZ",
    "outputId": "515bf365-039f-4f33-e532-c035e3f86598"
   },
   "outputs": [
    {
     "output_type": "display_data",
     "data": {
      "text/html": [
       "<div>\n",
       "<style scoped>\n",
       "    .dataframe tbody tr th:only-of-type {\n",
       "        vertical-align: middle;\n",
       "    }\n",
       "\n",
       "    .dataframe tbody tr th {\n",
       "        vertical-align: top;\n",
       "    }\n",
       "\n",
       "    .dataframe thead th {\n",
       "        text-align: right;\n",
       "    }\n",
       "</style>\n",
       "<table border=\"1\" class=\"dataframe\">\n",
       "  <thead>\n",
       "    <tr style=\"text-align: right;\">\n",
       "      <th></th>\n",
       "      <th>chunks</th>\n",
       "      <th>begin</th>\n",
       "      <th>end</th>\n",
       "      <th>entities</th>\n",
       "      <th>confidence</th>\n",
       "    </tr>\n",
       "  </thead>\n",
       "  <tbody>\n",
       "    <tr>\n",
       "      <th>0</th>\n",
       "      <td>Immunohistochemistry</td>\n",
       "      <td>0</td>\n",
       "      <td>19</td>\n",
       "      <td>Pathology_Test</td>\n",
       "      <td>0.9967</td>\n",
       "    </tr>\n",
       "    <tr>\n",
       "      <th>1</th>\n",
       "      <td>negative</td>\n",
       "      <td>25</td>\n",
       "      <td>32</td>\n",
       "      <td>Biomarker_Result</td>\n",
       "      <td>0.8323</td>\n",
       "    </tr>\n",
       "    <tr>\n",
       "      <th>2</th>\n",
       "      <td>thyroid transcription factor-1</td>\n",
       "      <td>38</td>\n",
       "      <td>67</td>\n",
       "      <td>Biomarker</td>\n",
       "      <td>0.296675</td>\n",
       "    </tr>\n",
       "    <tr>\n",
       "      <th>3</th>\n",
       "      <td>napsin A</td>\n",
       "      <td>73</td>\n",
       "      <td>80</td>\n",
       "      <td>Biomarker</td>\n",
       "      <td>0.64309996</td>\n",
       "    </tr>\n",
       "    <tr>\n",
       "      <th>4</th>\n",
       "      <td>positive</td>\n",
       "      <td>96</td>\n",
       "      <td>103</td>\n",
       "      <td>Biomarker_Result</td>\n",
       "      <td>0.8017</td>\n",
       "    </tr>\n",
       "    <tr>\n",
       "      <th>5</th>\n",
       "      <td>ER</td>\n",
       "      <td>109</td>\n",
       "      <td>110</td>\n",
       "      <td>Biomarker</td>\n",
       "      <td>0.948</td>\n",
       "    </tr>\n",
       "    <tr>\n",
       "      <th>6</th>\n",
       "      <td>PR</td>\n",
       "      <td>116</td>\n",
       "      <td>117</td>\n",
       "      <td>Biomarker</td>\n",
       "      <td>0.8711</td>\n",
       "    </tr>\n",
       "    <tr>\n",
       "      <th>7</th>\n",
       "      <td>negative</td>\n",
       "      <td>124</td>\n",
       "      <td>131</td>\n",
       "      <td>Biomarker_Result</td>\n",
       "      <td>0.8385</td>\n",
       "    </tr>\n",
       "    <tr>\n",
       "      <th>8</th>\n",
       "      <td>HER2</td>\n",
       "      <td>137</td>\n",
       "      <td>140</td>\n",
       "      <td>Oncogene</td>\n",
       "      <td>0.9359</td>\n",
       "    </tr>\n",
       "  </tbody>\n",
       "</table>\n",
       "</div>"
      ]
     },
     "metadata": {
      "application/vnd.databricks.v1+output": {
       "addedWidgets": {},
       "arguments": {},
       "data": "<div>\n<style scoped>\n    .dataframe tbody tr th:only-of-type {\n        vertical-align: middle;\n    }\n\n    .dataframe tbody tr th {\n        vertical-align: top;\n    }\n\n    .dataframe thead th {\n        text-align: right;\n    }\n</style>\n<table border=\"1\" class=\"dataframe\">\n  <thead>\n    <tr style=\"text-align: right;\">\n      <th></th>\n      <th>chunks</th>\n      <th>begin</th>\n      <th>end</th>\n      <th>entities</th>\n      <th>confidence</th>\n    </tr>\n  </thead>\n  <tbody>\n    <tr>\n      <th>0</th>\n      <td>Immunohistochemistry</td>\n      <td>0</td>\n      <td>19</td>\n      <td>Pathology_Test</td>\n      <td>0.9967</td>\n    </tr>\n    <tr>\n      <th>1</th>\n      <td>negative</td>\n      <td>25</td>\n      <td>32</td>\n      <td>Biomarker_Result</td>\n      <td>0.8323</td>\n    </tr>\n    <tr>\n      <th>2</th>\n      <td>thyroid transcription factor-1</td>\n      <td>38</td>\n      <td>67</td>\n      <td>Biomarker</td>\n      <td>0.296675</td>\n    </tr>\n    <tr>\n      <th>3</th>\n      <td>napsin A</td>\n      <td>73</td>\n      <td>80</td>\n      <td>Biomarker</td>\n      <td>0.64309996</td>\n    </tr>\n    <tr>\n      <th>4</th>\n      <td>positive</td>\n      <td>96</td>\n      <td>103</td>\n      <td>Biomarker_Result</td>\n      <td>0.8017</td>\n    </tr>\n    <tr>\n      <th>5</th>\n      <td>ER</td>\n      <td>109</td>\n      <td>110</td>\n      <td>Biomarker</td>\n      <td>0.948</td>\n    </tr>\n    <tr>\n      <th>6</th>\n      <td>PR</td>\n      <td>116</td>\n      <td>117</td>\n      <td>Biomarker</td>\n      <td>0.8711</td>\n    </tr>\n    <tr>\n      <th>7</th>\n      <td>negative</td>\n      <td>124</td>\n      <td>131</td>\n      <td>Biomarker_Result</td>\n      <td>0.8385</td>\n    </tr>\n    <tr>\n      <th>8</th>\n      <td>HER2</td>\n      <td>137</td>\n      <td>140</td>\n      <td>Oncogene</td>\n      <td>0.9359</td>\n    </tr>\n  </tbody>\n</table>\n</div>",
       "datasetInfos": [],
       "metadata": {},
       "removedWidgets": [],
       "textData": null,
       "type": "htmlSandbox"
      }
     },
     "output_type": "display_data"
    }
   ],
   "source": [
    "chunks=[]\n",
    "entities=[]\n",
    "begins=[]\n",
    "ends=[]\n",
    "confidence=[]\n",
    "for n in result['merged_chunk']:\n",
    "\n",
    "    chunks.append(n.result)\n",
    "    begins.append(n.begin)\n",
    "    ends.append(n.end)\n",
    "    entities.append(n.metadata['entity'])\n",
    "    confidence.append(n.metadata['confidence'])\n",
    "\n",
    "df = pd.DataFrame({'chunks':chunks, 'begin':begins, 'end':ends, 'entities':entities, 'confidence':confidence})\n",
    "\n",
    "df"
   ]
  },
  {
   "cell_type": "markdown",
   "metadata": {
    "application/vnd.databricks.v1+cell": {
     "cellMetadata": {},
     "inputWidgets": {},
     "nuid": "5007ec10-14da-4f59-a902-aa47956aef62",
     "showTitle": false,
     "title": ""
    },
    "id": "WPgXdSQlw1oS"
   },
   "source": [
    "**Assertion Status Results**"
   ]
  },
  {
   "cell_type": "code",
   "execution_count": 0,
   "metadata": {
    "application/vnd.databricks.v1+cell": {
     "cellMetadata": {
      "byteLimit": 2048000,
      "rowLimit": 10000
     },
     "inputWidgets": {},
     "nuid": "15f485ab-3197-4b2c-bcc3-99b55e7820a8",
     "showTitle": false,
     "title": ""
    },
    "colab": {
     "base_uri": "https://localhost:8080/",
     "height": 237
    },
    "executionInfo": {
     "elapsed": 7,
     "status": "ok",
     "timestamp": 1707943318096,
     "user": {
      "displayName": "Akar Öztürk",
      "userId": "07602883577262601067"
     },
     "user_tz": -60
    },
    "id": "mpSWkSo1BJrQ",
    "outputId": "c0a34079-785e-409f-89a5-86f12c7ff86c"
   },
   "outputs": [
    {
     "output_type": "display_data",
     "data": {
      "text/html": [
       "<div>\n",
       "<style scoped>\n",
       "    .dataframe tbody tr th:only-of-type {\n",
       "        vertical-align: middle;\n",
       "    }\n",
       "\n",
       "    .dataframe tbody tr th {\n",
       "        vertical-align: top;\n",
       "    }\n",
       "\n",
       "    .dataframe thead th {\n",
       "        text-align: right;\n",
       "    }\n",
       "</style>\n",
       "<table border=\"1\" class=\"dataframe\">\n",
       "  <thead>\n",
       "    <tr style=\"text-align: right;\">\n",
       "      <th></th>\n",
       "      <th>chunks</th>\n",
       "      <th>entities</th>\n",
       "      <th>assertion</th>\n",
       "      <th>confidence</th>\n",
       "    </tr>\n",
       "  </thead>\n",
       "  <tbody>\n",
       "    <tr>\n",
       "      <th>0</th>\n",
       "      <td>Immunohistochemistry</td>\n",
       "      <td>Pathology_Test</td>\n",
       "      <td>Medical_History</td>\n",
       "      <td>0.9926</td>\n",
       "    </tr>\n",
       "    <tr>\n",
       "      <th>1</th>\n",
       "      <td>negative</td>\n",
       "      <td>Biomarker_Result</td>\n",
       "      <td>Medical_History</td>\n",
       "      <td>0.9951</td>\n",
       "    </tr>\n",
       "    <tr>\n",
       "      <th>2</th>\n",
       "      <td>thyroid transcription factor-1</td>\n",
       "      <td>Biomarker</td>\n",
       "      <td>Medical_History</td>\n",
       "      <td>0.9951</td>\n",
       "    </tr>\n",
       "    <tr>\n",
       "      <th>3</th>\n",
       "      <td>napsin A</td>\n",
       "      <td>Biomarker</td>\n",
       "      <td>Medical_History</td>\n",
       "      <td>0.9926</td>\n",
       "    </tr>\n",
       "    <tr>\n",
       "      <th>4</th>\n",
       "      <td>positive</td>\n",
       "      <td>Biomarker_Result</td>\n",
       "      <td>Medical_History</td>\n",
       "      <td>0.9931</td>\n",
       "    </tr>\n",
       "    <tr>\n",
       "      <th>5</th>\n",
       "      <td>ER</td>\n",
       "      <td>Biomarker</td>\n",
       "      <td>Medical_History</td>\n",
       "      <td>0.9938</td>\n",
       "    </tr>\n",
       "  </tbody>\n",
       "</table>\n",
       "</div>"
      ]
     },
     "metadata": {
      "application/vnd.databricks.v1+output": {
       "addedWidgets": {},
       "arguments": {},
       "data": "<div>\n<style scoped>\n    .dataframe tbody tr th:only-of-type {\n        vertical-align: middle;\n    }\n\n    .dataframe tbody tr th {\n        vertical-align: top;\n    }\n\n    .dataframe thead th {\n        text-align: right;\n    }\n</style>\n<table border=\"1\" class=\"dataframe\">\n  <thead>\n    <tr style=\"text-align: right;\">\n      <th></th>\n      <th>chunks</th>\n      <th>entities</th>\n      <th>assertion</th>\n      <th>confidence</th>\n    </tr>\n  </thead>\n  <tbody>\n    <tr>\n      <th>0</th>\n      <td>Immunohistochemistry</td>\n      <td>Pathology_Test</td>\n      <td>Medical_History</td>\n      <td>0.9926</td>\n    </tr>\n    <tr>\n      <th>1</th>\n      <td>negative</td>\n      <td>Biomarker_Result</td>\n      <td>Medical_History</td>\n      <td>0.9951</td>\n    </tr>\n    <tr>\n      <th>2</th>\n      <td>thyroid transcription factor-1</td>\n      <td>Biomarker</td>\n      <td>Medical_History</td>\n      <td>0.9951</td>\n    </tr>\n    <tr>\n      <th>3</th>\n      <td>napsin A</td>\n      <td>Biomarker</td>\n      <td>Medical_History</td>\n      <td>0.9926</td>\n    </tr>\n    <tr>\n      <th>4</th>\n      <td>positive</td>\n      <td>Biomarker_Result</td>\n      <td>Medical_History</td>\n      <td>0.9931</td>\n    </tr>\n    <tr>\n      <th>5</th>\n      <td>ER</td>\n      <td>Biomarker</td>\n      <td>Medical_History</td>\n      <td>0.9938</td>\n    </tr>\n  </tbody>\n</table>\n</div>",
       "datasetInfos": [],
       "metadata": {},
       "removedWidgets": [],
       "textData": null,
       "type": "htmlSandbox"
      }
     },
     "output_type": "display_data"
    }
   ],
   "source": [
    "chunks=[]\n",
    "entities=[]\n",
    "status=[]\n",
    "confidence=[]\n",
    "\n",
    "for n,m in zip(result['merged_chunk'],result['assertion_oncology_test_binary_wip']):\n",
    "\n",
    "    chunks.append(n.result)\n",
    "    entities.append(n.metadata['entity'])\n",
    "    status.append(m.result)\n",
    "    confidence.append(m.metadata['confidence'])\n",
    "\n",
    "df = pd.DataFrame({'chunks':chunks, 'entities':entities, 'assertion':status, 'confidence':confidence})\n",
    "\n",
    "df"
   ]
  },
  {
   "cell_type": "markdown",
   "metadata": {
    "application/vnd.databricks.v1+cell": {
     "cellMetadata": {},
     "inputWidgets": {},
     "nuid": "cdbed525-4e31-4c53-b64f-9db0e5e69552",
     "showTitle": false,
     "title": ""
    },
    "id": "a8z6YsX5xAJY"
   },
   "source": [
    "**Relation Extraction Results**"
   ]
  },
  {
   "cell_type": "code",
   "execution_count": 0,
   "metadata": {
    "application/vnd.databricks.v1+cell": {
     "cellMetadata": {
      "byteLimit": 2048000,
      "rowLimit": 10000
     },
     "inputWidgets": {},
     "nuid": "cdf89fae-947a-4d3b-a300-45b34e3c148e",
     "showTitle": false,
     "title": ""
    },
    "colab": {
     "base_uri": "https://localhost:8080/",
     "height": 261
    },
    "executionInfo": {
     "elapsed": 559,
     "status": "ok",
     "timestamp": 1707943318649,
     "user": {
      "displayName": "Akar Öztürk",
      "userId": "07602883577262601067"
     },
     "user_tz": -60
    },
    "id": "1DZQb8aDCFug",
    "outputId": "d7bf2dc3-6791-4398-dd3f-e235d1add950"
   },
   "outputs": [
    {
     "output_type": "display_data",
     "data": {
      "text/html": [
       "<div>\n",
       "<style scoped>\n",
       "    .dataframe tbody tr th:only-of-type {\n",
       "        vertical-align: middle;\n",
       "    }\n",
       "\n",
       "    .dataframe tbody tr th {\n",
       "        vertical-align: top;\n",
       "    }\n",
       "\n",
       "    .dataframe thead th {\n",
       "        text-align: right;\n",
       "    }\n",
       "</style>\n",
       "<table border=\"1\" class=\"dataframe\">\n",
       "  <thead>\n",
       "    <tr style=\"text-align: right;\">\n",
       "      <th></th>\n",
       "      <th>relation</th>\n",
       "      <th>entity1</th>\n",
       "      <th>entity1_begin</th>\n",
       "      <th>entity1_end</th>\n",
       "      <th>chunk1</th>\n",
       "      <th>entity2</th>\n",
       "      <th>entity2_begin</th>\n",
       "      <th>entity2_end</th>\n",
       "      <th>chunk2</th>\n",
       "      <th>confidence</th>\n",
       "    </tr>\n",
       "  </thead>\n",
       "  <tbody>\n",
       "    <tr>\n",
       "      <th>1</th>\n",
       "      <td>is_related_to</td>\n",
       "      <td>Biomarker_Result</td>\n",
       "      <td>25</td>\n",
       "      <td>32</td>\n",
       "      <td>negative</td>\n",
       "      <td>Biomarker</td>\n",
       "      <td>38</td>\n",
       "      <td>67</td>\n",
       "      <td>thyroid transcription factor-1</td>\n",
       "      <td>0.997901</td>\n",
       "    </tr>\n",
       "    <tr>\n",
       "      <th>2</th>\n",
       "      <td>is_related_to</td>\n",
       "      <td>Biomarker_Result</td>\n",
       "      <td>25</td>\n",
       "      <td>32</td>\n",
       "      <td>negative</td>\n",
       "      <td>Biomarker</td>\n",
       "      <td>73</td>\n",
       "      <td>80</td>\n",
       "      <td>napsin A</td>\n",
       "      <td>0.999566</td>\n",
       "    </tr>\n",
       "    <tr>\n",
       "      <th>3</th>\n",
       "      <td>is_related_to</td>\n",
       "      <td>Biomarker_Result</td>\n",
       "      <td>96</td>\n",
       "      <td>103</td>\n",
       "      <td>positive</td>\n",
       "      <td>Biomarker</td>\n",
       "      <td>109</td>\n",
       "      <td>110</td>\n",
       "      <td>ER</td>\n",
       "      <td>0.987820</td>\n",
       "    </tr>\n",
       "    <tr>\n",
       "      <th>4</th>\n",
       "      <td>is_related_to</td>\n",
       "      <td>Biomarker_Result</td>\n",
       "      <td>96</td>\n",
       "      <td>103</td>\n",
       "      <td>positive</td>\n",
       "      <td>Biomarker</td>\n",
       "      <td>116</td>\n",
       "      <td>117</td>\n",
       "      <td>PR</td>\n",
       "      <td>0.897783</td>\n",
       "    </tr>\n",
       "    <tr>\n",
       "      <th>8</th>\n",
       "      <td>is_related_to</td>\n",
       "      <td>Biomarker_Result</td>\n",
       "      <td>124</td>\n",
       "      <td>131</td>\n",
       "      <td>negative</td>\n",
       "      <td>Oncogene</td>\n",
       "      <td>137</td>\n",
       "      <td>140</td>\n",
       "      <td>HER2</td>\n",
       "      <td>0.986855</td>\n",
       "    </tr>\n",
       "  </tbody>\n",
       "</table>\n",
       "</div>"
      ]
     },
     "metadata": {
      "application/vnd.databricks.v1+output": {
       "addedWidgets": {},
       "arguments": {},
       "data": "<div>\n<style scoped>\n    .dataframe tbody tr th:only-of-type {\n        vertical-align: middle;\n    }\n\n    .dataframe tbody tr th {\n        vertical-align: top;\n    }\n\n    .dataframe thead th {\n        text-align: right;\n    }\n</style>\n<table border=\"1\" class=\"dataframe\">\n  <thead>\n    <tr style=\"text-align: right;\">\n      <th></th>\n      <th>relation</th>\n      <th>entity1</th>\n      <th>entity1_begin</th>\n      <th>entity1_end</th>\n      <th>chunk1</th>\n      <th>entity2</th>\n      <th>entity2_begin</th>\n      <th>entity2_end</th>\n      <th>chunk2</th>\n      <th>confidence</th>\n    </tr>\n  </thead>\n  <tbody>\n    <tr>\n      <th>1</th>\n      <td>is_related_to</td>\n      <td>Biomarker_Result</td>\n      <td>25</td>\n      <td>32</td>\n      <td>negative</td>\n      <td>Biomarker</td>\n      <td>38</td>\n      <td>67</td>\n      <td>thyroid transcription factor-1</td>\n      <td>0.997901</td>\n    </tr>\n    <tr>\n      <th>2</th>\n      <td>is_related_to</td>\n      <td>Biomarker_Result</td>\n      <td>25</td>\n      <td>32</td>\n      <td>negative</td>\n      <td>Biomarker</td>\n      <td>73</td>\n      <td>80</td>\n      <td>napsin A</td>\n      <td>0.999566</td>\n    </tr>\n    <tr>\n      <th>3</th>\n      <td>is_related_to</td>\n      <td>Biomarker_Result</td>\n      <td>96</td>\n      <td>103</td>\n      <td>positive</td>\n      <td>Biomarker</td>\n      <td>109</td>\n      <td>110</td>\n      <td>ER</td>\n      <td>0.987820</td>\n    </tr>\n    <tr>\n      <th>4</th>\n      <td>is_related_to</td>\n      <td>Biomarker_Result</td>\n      <td>96</td>\n      <td>103</td>\n      <td>positive</td>\n      <td>Biomarker</td>\n      <td>116</td>\n      <td>117</td>\n      <td>PR</td>\n      <td>0.897783</td>\n    </tr>\n    <tr>\n      <th>8</th>\n      <td>is_related_to</td>\n      <td>Biomarker_Result</td>\n      <td>124</td>\n      <td>131</td>\n      <td>negative</td>\n      <td>Oncogene</td>\n      <td>137</td>\n      <td>140</td>\n      <td>HER2</td>\n      <td>0.986855</td>\n    </tr>\n  </tbody>\n</table>\n</div>",
       "datasetInfos": [],
       "metadata": {},
       "removedWidgets": [],
       "textData": null,
       "type": "htmlSandbox"
      }
     },
     "output_type": "display_data"
    }
   ],
   "source": [
    "result = oncology_pipeline.fullAnnotate(text)\n",
    "\n",
    "rel_df = get_relations_df(result, 're_oncology_wip')\n",
    "\n",
    "rel_df[rel_df.relation!= \"O\"]"
   ]
  },
  {
   "cell_type": "code",
   "execution_count": 0,
   "metadata": {
    "application/vnd.databricks.v1+cell": {
     "cellMetadata": {
      "byteLimit": 2048000,
      "rowLimit": 10000
     },
     "inputWidgets": {},
     "nuid": "e36188f1-b845-446a-b9bf-d98fd8be0710",
     "showTitle": false,
     "title": ""
    },
    "colab": {
     "base_uri": "https://localhost:8080/"
    },
    "executionInfo": {
     "elapsed": 734,
     "status": "ok",
     "timestamp": 1707943319378,
     "user": {
      "displayName": "Akar Öztürk",
      "userId": "07602883577262601067"
     },
     "user_tz": -60
    },
    "id": "b_M85A-UBJov",
    "outputId": "543e4912-2c87-440a-ff34-f5dd8eddc7f6"
   },
   "outputs": [
    {
     "output_type": "stream",
     "name": "stdout",
     "output_type": "stream",
     "text": [
      "Out[14]: [Annotation(category, 0, 32, O, {'chunk2': 'negative', 'confidence': '0.97084755', 'entity2_end': '32', 'chunk1': 'Immunohistochemistry', 'entity1': 'Pathology_Test', 'entity2_begin': '25', 'chunk2_confidence': '0.8323', 'entity1_begin': '0', 'sentence': '0', 'direction': 'both', 'entity1_end': '19', 'entity2': 'Biomarker_Result', 'chunk1_confidence': '0.9967'}, []),\n Annotation(category, 25, 67, is_related_to, {'chunk2': 'thyroid transcription factor-1', 'confidence': '0.99790084', 'entity2_end': '67', 'chunk1': 'negative', 'entity1': 'Biomarker_Result', 'entity2_begin': '38', 'chunk2_confidence': '0.296675', 'entity1_begin': '25', 'sentence': '0', 'direction': 'both', 'entity1_end': '32', 'entity2': 'Biomarker', 'chunk1_confidence': '0.8323'}, []),\n Annotation(category, 25, 80, is_related_to, {'chunk2': 'napsin A', 'confidence': '0.9995658', 'entity2_end': '80', 'chunk1': 'negative', 'entity1': 'Biomarker_Result', 'entity2_begin': '73', 'chunk2_confidence': '0.64309996', 'entity1_begin': '25', 'sentence': '0', 'direction': 'both', 'entity1_end': '32', 'entity2': 'Biomarker', 'chunk1_confidence': '0.8323'}, []),\n Annotation(category, 96, 110, is_related_to, {'chunk2': 'ER', 'confidence': '0.98782015', 'entity2_end': '110', 'chunk1': 'positive', 'entity1': 'Biomarker_Result', 'entity2_begin': '109', 'chunk2_confidence': '0.948', 'entity1_begin': '96', 'sentence': '1', 'direction': 'both', 'entity1_end': '103', 'entity2': 'Biomarker', 'chunk1_confidence': '0.8017'}, []),\n Annotation(category, 96, 117, is_related_to, {'chunk2': 'PR', 'confidence': '0.8977828', 'entity2_end': '117', 'chunk1': 'positive', 'entity1': 'Biomarker_Result', 'entity2_begin': '116', 'chunk2_confidence': '0.8711', 'entity1_begin': '96', 'sentence': '1', 'direction': 'both', 'entity1_end': '103', 'entity2': 'Biomarker', 'chunk1_confidence': '0.8017'}, []),\n Annotation(category, 96, 140, O, {'chunk2': 'HER2', 'confidence': '0.9943538', 'entity2_end': '140', 'chunk1': 'positive', 'entity1': 'Biomarker_Result', 'entity2_begin': '137', 'chunk2_confidence': '0.9359', 'entity1_begin': '96', 'sentence': '1', 'direction': 'both', 'entity1_end': '103', 'entity2': 'Oncogene', 'chunk1_confidence': '0.8017'}, []),\n Annotation(category, 109, 131, O, {'chunk2': 'negative', 'confidence': '0.99992025', 'entity2_end': '131', 'chunk1': 'ER', 'entity1': 'Biomarker', 'entity2_begin': '124', 'chunk2_confidence': '0.8385', 'entity1_begin': '109', 'sentence': '1', 'direction': 'both', 'entity1_end': '110', 'entity2': 'Biomarker_Result', 'chunk1_confidence': '0.948'}, []),\n Annotation(category, 116, 131, O, {'chunk2': 'negative', 'confidence': '0.99997044', 'entity2_end': '131', 'chunk1': 'PR', 'entity1': 'Biomarker', 'entity2_begin': '124', 'chunk2_confidence': '0.8385', 'entity1_begin': '116', 'sentence': '1', 'direction': 'both', 'entity1_end': '117', 'entity2': 'Biomarker_Result', 'chunk1_confidence': '0.8711'}, []),\n Annotation(category, 124, 140, is_related_to, {'chunk2': 'HER2', 'confidence': '0.98685515', 'entity2_end': '140', 'chunk1': 'negative', 'entity1': 'Biomarker_Result', 'entity2_begin': '137', 'chunk2_confidence': '0.9359', 'entity1_begin': '124', 'sentence': '1', 'direction': 'both', 'entity1_end': '131', 'entity2': 'Oncogene', 'chunk1_confidence': '0.8385'}, [])]"
     ]
    }
   ],
   "source": [
    "result[0]['re_oncology_wip']"
   ]
  },
  {
   "cell_type": "code",
   "execution_count": 0,
   "metadata": {
    "application/vnd.databricks.v1+cell": {
     "cellMetadata": {},
     "inputWidgets": {},
     "nuid": "91b64736-d881-49fc-9d8d-bd1cca8800ae",
     "showTitle": false,
     "title": ""
    }
   },
   "outputs": [],
   "source": []
  }
 ],
 "metadata": {
  "accelerator": "GPU",
  "application/vnd.databricks.v1+notebook": {
   "dashboards": [],
   "language": "python",
   "notebookMetadata": {
    "pythonIndentUnit": 2
   },
   "notebookName": "07.0.Pretrained_Clinical_Pipelines",
   "widgets": {}
  },
  "colab": {
   "gpuType": "T4",
   "machine_shape": "hm",
   "provenance": [
    {
     "file_id": "https://github.com/JohnSnowLabs/spark-nlp-workshop/blob/master/tutorials/Certification_Trainings/Healthcare/11.Pretrained_Clinical_Pipelines.ipynb",
     "timestamp": 1707912617875
    },
    {
     "file_id": "https://github.com/JohnSnowLabs/spark-nlp-workshop/blob/master/tutorials/Certification_Trainings/Healthcare/11.Pretrained_Clinical_Pipelines.ipynb",
     "timestamp": 1707141745971
    }
   ],
   "toc_visible": true
  },
  "kernelspec": {
   "display_name": "Python 3",
   "name": "python3"
  },
  "language_info": {
   "codemirror_mode": {
    "name": "ipython",
    "version": 3
   },
   "file_extension": ".py",
   "mimetype": "text/x-python",
   "name": "python",
   "nbconvert_exporter": "python",
   "pygments_lexer": "ipython3",
   "version": "3.7.6"
  }
 },
 "nbformat": 4,
 "nbformat_minor": 0
}

{
 "cells": [
  {
   "cell_type": "markdown",
   "metadata": {
    "application/vnd.databricks.v1+cell": {
     "cellMetadata": {
      "byteLimit": 2048000,
      "rowLimit": 10000
     },
     "inputWidgets": {},
     "nuid": "a847ee98-8854-4609-adb7-a62b08603153",
     "showTitle": false,
     "title": ""
    },
    "id": "I08sFJYCxR0Z"
   },
   "source": [
    "![JohnSnowLabs](https://nlp.johnsnowlabs.com/assets/images/logo.png)"
   ]
  },
  {
   "cell_type": "markdown",
   "metadata": {
    "application/vnd.databricks.v1+cell": {
     "cellMetadata": {
      "byteLimit": 2048000,
      "rowLimit": 10000
     },
     "inputWidgets": {},
     "nuid": "7bd5f29b-dc5e-4804-88bf-a0abae321db2",
     "showTitle": false,
     "title": ""
    },
    "id": "Niy3mZAjoayg"
   },
   "source": [
    "# Clinical Deidentification"
   ]
  },
  {
   "cell_type": "code",
   "execution_count": 0,
   "metadata": {
    "application/vnd.databricks.v1+cell": {
     "cellMetadata": {
      "byteLimit": 2048000,
      "rowLimit": 10000
     },
     "inputWidgets": {},
     "nuid": "4f44a7ba-da3d-4475-b6b4-469887e4a3a2",
     "showTitle": false,
     "title": ""
    }
   },
   "outputs": [
    {
     "output_type": "display_data",
     "data": {
      "text/html": [
       "<style scoped>\n",
       "  .ansiout {\n",
       "    display: block;\n",
       "    unicode-bidi: embed;\n",
       "    white-space: pre-wrap;\n",
       "    word-wrap: break-word;\n",
       "    word-break: break-all;\n",
       "    font-family: \"Source Code Pro\", \"Menlo\", monospace;;\n",
       "    font-size: 13px;\n",
       "    color: #555;\n",
       "    margin-left: 4px;\n",
       "    line-height: 19px;\n",
       "  }\n",
       "</style>\n",
       "<div class=\"ansiout\"></div>"
      ]
     },
     "metadata": {
      "application/vnd.databricks.v1+output": {
       "addedWidgets": {},
       "arguments": {},
       "data": "<div class=\"ansiout\"></div>",
       "datasetInfos": [],
       "metadata": {},
       "removedWidgets": [],
       "type": "html"
      }
     },
     "output_type": "display_data"
    }
   ],
   "source": [
    "from johnsnowlabs import nlp, medical\n",
    "\n",
    "# After uploading your license run this to install all licensed Python Wheels and pre-download Jars the Spark Session JVM\n",
    "#nlp.install()"
   ]
  },
  {
   "cell_type": "code",
   "execution_count": 0,
   "metadata": {
    "application/vnd.databricks.v1+cell": {
     "cellMetadata": {
      "byteLimit": 2048000,
      "rowLimit": 10000
     },
     "inputWidgets": {},
     "nuid": "a65ac37f-8bc6-4a3b-b59b-ebbd5b5346f1",
     "showTitle": false,
     "title": ""
    }
   },
   "outputs": [
    {
     "output_type": "display_data",
     "data": {
      "text/html": [
       "<style scoped>\n",
       "  .ansiout {\n",
       "    display: block;\n",
       "    unicode-bidi: embed;\n",
       "    white-space: pre-wrap;\n",
       "    word-wrap: break-word;\n",
       "    word-break: break-all;\n",
       "    font-family: \"Source Code Pro\", \"Menlo\", monospace;;\n",
       "    font-size: 13px;\n",
       "    color: #555;\n",
       "    margin-left: 4px;\n",
       "    line-height: 19px;\n",
       "  }\n",
       "</style>\n",
       "<div class=\"ansiout\">Out[2]: </div>"
      ]
     },
     "metadata": {
      "application/vnd.databricks.v1+output": {
       "addedWidgets": {},
       "arguments": {},
       "data": "<div class=\"ansiout\">Out[2]: </div>",
       "datasetInfos": [],
       "metadata": {},
       "removedWidgets": [],
       "type": "html"
      }
     },
     "output_type": "display_data"
    },
    {
     "output_type": "display_data",
     "data": {
      "text/html": [
       "\n",
       "            <div>\n",
       "                <p><b>SparkSession - hive</b></p>\n",
       "                \n",
       "        <div>\n",
       "            <p><b>SparkContext</b></p>\n",
       "\n",
       "            <p><a href=\"/?o=7956323724731612#setting/sparkui/0724-150307-m1phxes0/driver-429966450394240954\">Spark UI</a></p>\n",
       "\n",
       "            <dl>\n",
       "              <dt>Version</dt>\n",
       "                <dd><code>v3.2.1</code></dd>\n",
       "              <dt>Master</dt>\n",
       "                <dd><code>spark://10.139.64.4:7077</code></dd>\n",
       "              <dt>AppName</dt>\n",
       "                <dd><code>Databricks Shell</code></dd>\n",
       "            </dl>\n",
       "        </div>\n",
       "        \n",
       "            </div>\n",
       "        "
      ]
     },
     "metadata": {
      "application/vnd.databricks.v1+output": {
       "addedWidgets": {},
       "arguments": {},
       "data": "\n            <div>\n                <p><b>SparkSession - hive</b></p>\n                \n        <div>\n            <p><b>SparkContext</b></p>\n\n            <p><a href=\"/?o=7956323724731612#setting/sparkui/0724-150307-m1phxes0/driver-429966450394240954\">Spark UI</a></p>\n\n            <dl>\n              <dt>Version</dt>\n                <dd><code>v3.2.1</code></dd>\n              <dt>Master</dt>\n                <dd><code>spark://10.139.64.4:7077</code></dd>\n              <dt>AppName</dt>\n                <dd><code>Databricks Shell</code></dd>\n            </dl>\n        </div>\n        \n            </div>\n        ",
       "datasetInfos": [],
       "metadata": {},
       "removedWidgets": [],
       "textData": null,
       "type": "htmlSandbox"
      }
     },
     "output_type": "display_data"
    }
   ],
   "source": [
    "from pyspark.sql import DataFrame\n",
    "import pyspark.sql.functions as F\n",
    "import pyspark.sql.types as T\n",
    "import pyspark.sql as SQL\n",
    "\n",
    "import os\n",
    "import json\n",
    "import string\n",
    "import numpy as np\n",
    "import pandas as pd\n",
    "\n",
    "from pyspark.ml import Pipeline, PipelineModel\n",
    "\n",
    "pd.set_option('max_colwidth', 100)\n",
    "pd.set_option('display.max_columns', 100)  \n",
    "pd.set_option('display.expand_frame_repr', False)\n",
    "\n",
    "spark"
   ]
  },
  {
   "cell_type": "markdown",
   "metadata": {
    "application/vnd.databricks.v1+cell": {
     "cellMetadata": {},
     "inputWidgets": {},
     "nuid": "195ba845-f92d-4093-ae07-102c7b1843c8",
     "showTitle": false,
     "title": ""
    },
    "id": "rFQifkFYihOc"
   },
   "source": [
    "# Deidentification Model"
   ]
  },
  {
   "cell_type": "markdown",
   "metadata": {
    "application/vnd.databricks.v1+cell": {
     "cellMetadata": {},
     "inputWidgets": {},
     "nuid": "272b1bb4-15bf-4053-b4c3-9a89db87cda1",
     "showTitle": false,
     "title": ""
    },
    "id": "2eY0jM7kf88f"
   },
   "source": [
    "Protected Health Information: \n",
    "- individual’s past, present, or future physical or mental health or condition\n",
    "- provision of health care to the individual\n",
    "- past, present, or future payment for the health care \n",
    "\n",
    "Protected health information includes many common identifiers (e.g., name, address, birth date, Social Security Number) when they can be associated with the health information."
   ]
  },
  {
   "cell_type": "markdown",
   "metadata": {
    "application/vnd.databricks.v1+cell": {
     "cellMetadata": {},
     "inputWidgets": {},
     "nuid": "1307ea45-33fb-4945-9d2a-fdcd49a6afa1",
     "showTitle": false,
     "title": ""
    }
   },
   "source": [
    "<center><b>Deidentification NER Models for English</b></center>\n",
    "\n",
    "|index|model|lang|index|model|lang|index|model|lang|\n",
    "|-----:|:-----|----|-----:|:-----|----|-----:|:-----|----|\n",
    "| 1| [deidentify_dl](https://nlp.johnsnowlabs.com/2021/01/28/deidentify_dl_en.html)  |en| 7| [ner_deid_enriched_biobert](https://nlp.johnsnowlabs.com/2021/04/01/ner_deid_enriched_biobert_en.html)  |en| 13| [ner_deid_subentity_augmented](https://nlp.johnsnowlabs.com/2021/09/03/ner_deid_subentity_augmented_en.html)  |en|\n",
    "| 2| [deidentify_large](https://nlp.johnsnowlabs.com/2020/08/04/deidentify_large_en.html)  |en| 8| [ner_deid_generic_augmented](https://nlp.johnsnowlabs.com/2021/06/30/ner_deid_generic_augmented_en.html)  |en| 14| [ner_deid_subentity_augmented_i2b2](https://nlp.johnsnowlabs.com/2021/11/29/ner_deid_subentity_augmented_i2b2_en.html)  |en|\n",
    "| 3| [deidentify_rb](https://nlp.johnsnowlabs.com/2019/06/04/deidentify_rb_en.html)  |en| 9| [ner_deid_generic_glove](https://nlp.johnsnowlabs.com/2021/06/06/ner_deid_generic_glove_en.html)  |en| 15| [ner_deid_subentity_glove](https://nlp.johnsnowlabs.com/2021/06/06/ner_deid_subentity_glove_en.html)  |en|\n",
    "| 4| [ner_deid_augmented](https://nlp.johnsnowlabs.com/2021/03/31/ner_deid_augmented_en.html)  |en| 10| [ner_deid_large](https://nlp.johnsnowlabs.com/2021/03/31/ner_deid_large_en.html)  |en| 16| [ner_deid_synthetic](https://nlp.johnsnowlabs.com/2021/03/31/ner_deid_synthetic_en.html)  |en|\n",
    "| 5| [ner_deid_biobert](https://nlp.johnsnowlabs.com/2021/04/01/ner_deid_biobert_en.html)  |en| 11| [ner_deid_sd](https://nlp.johnsnowlabs.com/2021/04/01/ner_deid_sd_en.html)  |en| 17| [ner_deidentify_dl](https://nlp.johnsnowlabs.com/2021/03/31/ner_deidentify_dl_en.html)  |en|\n",
    "| 6| [ner_deid_enriched](https://nlp.johnsnowlabs.com/2021/03/31/ner_deid_enriched_en.html)  |en| 12| [ner_deid_sd_large](https://nlp.johnsnowlabs.com/2021/04/01/ner_deid_sd_large_en.html)  |en|"
   ]
  },
  {
   "cell_type": "markdown",
   "metadata": {
    "application/vnd.databricks.v1+cell": {
     "cellMetadata": {},
     "inputWidgets": {},
     "nuid": "86a54f19-009b-4141-8a4d-29cde5d9ba4b",
     "showTitle": false,
     "title": ""
    }
   },
   "source": [
    "<center><b>Deidentification NER Models for Other Languages</b></center>\n",
    "\n",
    "|index|model|lang|index|model|lang|\n",
    "|-----:|:-----|----|-----:|:-----|----|\n",
    "| 1| [ner_deid_generic](https://nlp.johnsnowlabs.com/2022/01/06/ner_deid_generic_de.html)  |de| 11| [ner_deid_generic](https://nlp.johnsnowlabs.com/2022/02/11/ner_deid_generic_fr.html)  |fr|\n",
    "| 2| [ner_deid_subentity](https://nlp.johnsnowlabs.com/2022/01/06/ner_deid_subentity_de.html)  |de| 12| [ner_deid_subentity](https://nlp.johnsnowlabs.com/2022/02/14/ner_deid_subentity_fr.html)  |fr|\n",
    "| 3| [ner_deid_generic](https://nlp.johnsnowlabs.com/2022/01/18/ner_deid_generic_es.html)  |es| 13| [ner_deid_generic](https://nlp.johnsnowlabs.com/2022/03/25/ner_deid_generic_it_3_0.html)  |it|\n",
    "| 4| [ner_deid_generic_augmented](https://nlp.johnsnowlabs.com/2022/02/16/ner_deid_generic_augmented_es.html)  |es| 14| [ner_deid_subentity](https://nlp.johnsnowlabs.com/2022/03/25/ner_deid_subentity_it_2_4.html)  |it|\n",
    "| 5| [ner_deid_generic_roberta](https://nlp.johnsnowlabs.com/2022/01/17/ner_deid_generic_roberta_es.html)  |es| 15| [ner_deid_generic](https://nlp.johnsnowlabs.com/2022/04/13/ner_deid_generic_pt_3_0.html)  |pt|\n",
    "| 6| [ner_deid_generic_roberta_augmented](https://nlp.johnsnowlabs.com/2022/02/16/ner_deid_generic_roberta_augmented_es.html)  |es| 16| [ner_deid_subentity](https://nlp.johnsnowlabs.com/2022/04/13/ner_deid_subentity_pt_3_0.html)  |pt|\n",
    "| 7| [ner_deid_subentity](https://nlp.johnsnowlabs.com/2022/01/18/ner_deid_subentity_es.html)  |es| 17| [ner_deid_subentity](https://nlp.johnsnowlabs.com/2022/06/27/ner_deid_subentity_ro_3_0.html)  |ro|\n",
    "| 8| [ner_deid_subentity_augmented](https://nlp.johnsnowlabs.com/2022/02/16/ner_deid_subentity_augmented_es.html)  |es| 18| [ner_deid_subentity_bert](https://nlp.johnsnowlabs.com/2022/06/27/ner_deid_subentity_bert_ro_3_0.html)  |ro|\n",
    "| 9| [ner_deid_subentity_roberta](https://nlp.johnsnowlabs.com/2022/01/17/ner_deid_subentity_roberta_es.html)  |es| 19| [ner_deid_generic](https://nlp.johnsnowlabs.com/models)  |ro|\n",
    "| 10| [ner_deid_subentity_roberta_augmented](https://nlp.johnsnowlabs.com/2022/02/16/ner_deid_subentity_roberta_augmented_es.html)  |es| 20| [ner_deid_generic_bert](https://nlp.johnsnowlabs.com/models)  |ro|\n",
    "| 11| [ner_deid_subentity](https://nlp.johnsnowlabs.com/2023/05/31/ner_deid_subentity_ar.html)  |ar| 21| [ner_deid_generic](https://nlp.johnsnowlabs.com/2023/05/30/ner_deid_generic_ar.html)  |ar|"
   ]
  },
  {
   "cell_type": "markdown",
   "metadata": {
    "application/vnd.databricks.v1+cell": {
     "cellMetadata": {},
     "inputWidgets": {},
     "nuid": "885bd02e-88af-4b84-9852-7d297f5b0acd",
     "showTitle": false,
     "title": ""
    }
   },
   "source": [
    "You can find German, Spanish, French, Italian, Portuguese and Romanian deidentification models and pretrained pipeline examples in this notebook:   [Clinical Multi Language Deidentification Notebook](https://github.com/JohnSnowLabs/spark-nlp-workshop/blob/master/tutorials/Certification_Trainings/Healthcare/4.1.Clinical_Multi_Language_Deidentification.ipynb)"
   ]
  },
  {
   "cell_type": "markdown",
   "metadata": {
    "application/vnd.databricks.v1+cell": {
     "cellMetadata": {},
     "inputWidgets": {},
     "nuid": "30e4eebf-d889-42c8-94af-024161d6b81f",
     "showTitle": false,
     "title": ""
    },
    "id": "ZKln9C7Ef88f"
   },
   "source": [
    "**Let's start!**\n",
    "\n",
    "Load NER pipeline to identify protected entities:"
   ]
  },
  {
   "cell_type": "code",
   "execution_count": 0,
   "metadata": {
    "application/vnd.databricks.v1+cell": {
     "cellMetadata": {
      "byteLimit": 2048000,
      "rowLimit": 10000
     },
     "inputWidgets": {},
     "nuid": "687d510c-ca2f-431f-9b9f-e760c9f4ff1c",
     "showTitle": false,
     "title": ""
    },
    "colab": {
     "base_uri": "https://localhost:8080/"
    },
    "id": "qHzG7Wvhgcex",
    "outputId": "dfeb2f01-12cd-41ea-9190-6a367b59ed22"
   },
   "outputs": [
    {
     "output_type": "display_data",
     "data": {
      "text/html": [
       "<style scoped>\n",
       "  .ansiout {\n",
       "    display: block;\n",
       "    unicode-bidi: embed;\n",
       "    white-space: pre-wrap;\n",
       "    word-wrap: break-word;\n",
       "    word-break: break-all;\n",
       "    font-family: \"Source Code Pro\", \"Menlo\", monospace;;\n",
       "    font-size: 13px;\n",
       "    color: #555;\n",
       "    margin-left: 4px;\n",
       "    line-height: 19px;\n",
       "  }\n",
       "</style>\n",
       "<div class=\"ansiout\">embeddings_clinical download started this may take some time.\n",
       "Approximate size to download 1.6 GB\n",
       "\r[ | ]\r[ / ]\r[ — ]\r[ \\ ]\r[ | ]\r[ / ]\r[ — ]\r[ \\ ]\r[ | ]\r[ / ]\r[ — ]\r[ \\ ]\r[ | ]\r[ / ]\r[ — ]\r[ \\ ]\r[ | ]\r[ / ]\r[ — ]\r[ \\ ]\r[ | ]\r[ / ]\r[ — ]\r[ \\ ]\r[ | ]\r[ / ]\r[ — ]\r[ \\ ]\r[ | ]\r[ / ]\r[ — ]\r[ \\ ]\r[ | ]\r[ / ]\r[ — ]\r[ \\ ]\r[ | ]\r[ / ]\r[ — ]\r[ \\ ]\r[ | ]\r[ / ]\r[ — ]\r[ \\ ]\r[ | ]\r[ / ]\r[ — ]\r[ \\ ]\r[ | ]\r[ / ]\r[ — ]\r[ \\ ]\r[ | ]\r[ / ]\r[ — ]\r[ \\ ]\r[ | ]\r[ / ]\r[ — ]\r[ \\ ]\r[ | ]\r[ / ]\r[ — ]\r[ \\ ]\r[ | ]\r[ / ]\r[ — ]\r[ \\ ]\r[ | ]\r[ / ]\r[ — ]\r[ \\ ]\r[ | ]\r[ / ]\r[ — ]\r[ \\ ]\r[ | ]\r[ / ]\r[ — ]\r[ \\ ]\r[ | ]\r[ / ]\r[ — ]\r[ \\ ]\r[ | ]\r[ / ]\r[OK!]\n",
       "ner_deid_generic_augmented download started this may take some time.\n",
       "\r[ | ]\r[ / ]\r[ — ]\r[ \\ ]\r[ | ]\r[ / ]\r[ — ]\r[ \\ ]\r[ | ]\r[ / ]\r[ — ]\r[ \\ ]\r[ | ]\r[ / ]\r[ — ]\r[ \\ ]\r[ | ]\r[ / ]\r[ — ]\r[ \\ ]\r[ | ]\r[ / ]\r[ — ]\r[ \\ ]\r[ | ]\r[ / ]\r[ — ]\r[ \\ ]\r[OK!]\n",
       "</div>"
      ]
     },
     "metadata": {
      "application/vnd.databricks.v1+output": {
       "addedWidgets": {},
       "arguments": {},
       "data": "<div class=\"ansiout\">embeddings_clinical download started this may take some time.\nApproximate size to download 1.6 GB\n\r[ | ]\r[ / ]\r[ — ]\r[ \\ ]\r[ | ]\r[ / ]\r[ — ]\r[ \\ ]\r[ | ]\r[ / ]\r[ — ]\r[ \\ ]\r[ | ]\r[ / ]\r[ — ]\r[ \\ ]\r[ | ]\r[ / ]\r[ — ]\r[ \\ ]\r[ | ]\r[ / ]\r[ — ]\r[ \\ ]\r[ | ]\r[ / ]\r[ — ]\r[ \\ ]\r[ | ]\r[ / ]\r[ — ]\r[ \\ ]\r[ | ]\r[ / ]\r[ — ]\r[ \\ ]\r[ | ]\r[ / ]\r[ — ]\r[ \\ ]\r[ | ]\r[ / ]\r[ — ]\r[ \\ ]\r[ | ]\r[ / ]\r[ — ]\r[ \\ ]\r[ | ]\r[ / ]\r[ — ]\r[ \\ ]\r[ | ]\r[ / ]\r[ — ]\r[ \\ ]\r[ | ]\r[ / ]\r[ — ]\r[ \\ ]\r[ | ]\r[ / ]\r[ — ]\r[ \\ ]\r[ | ]\r[ / ]\r[ — ]\r[ \\ ]\r[ | ]\r[ / ]\r[ — ]\r[ \\ ]\r[ | ]\r[ / ]\r[ — ]\r[ \\ ]\r[ | ]\r[ / ]\r[ — ]\r[ \\ ]\r[ | ]\r[ / ]\r[ — ]\r[ \\ ]\r[ | ]\r[ / ]\r[OK!]\nner_deid_generic_augmented download started this may take some time.\n\r[ | ]\r[ / ]\r[ — ]\r[ \\ ]\r[ | ]\r[ / ]\r[ — ]\r[ \\ ]\r[ | ]\r[ / ]\r[ — ]\r[ \\ ]\r[ | ]\r[ / ]\r[ — ]\r[ \\ ]\r[ | ]\r[ / ]\r[ — ]\r[ \\ ]\r[ | ]\r[ / ]\r[ — ]\r[ \\ ]\r[ | ]\r[ / ]\r[ — ]\r[ \\ ]\r[OK!]\n</div>",
       "datasetInfos": [],
       "metadata": {},
       "removedWidgets": [],
       "type": "html"
      }
     },
     "output_type": "display_data"
    }
   ],
   "source": [
    "documentAssembler = nlp.DocumentAssembler()\\\n",
    "    .setInputCol(\"text\")\\\n",
    "    .setOutputCol(\"document\")\n",
    "\n",
    "# Sentence Detector annotator, processes various sentences per line\n",
    "sentenceDetector = nlp.SentenceDetector()\\\n",
    "    .setInputCols([\"document\"])\\\n",
    "    .setOutputCol(\"sentence\")\n",
    "\n",
    "# Tokenizer splits words in a relevant format for NLP\n",
    "tokenizer = nlp.Tokenizer()\\\n",
    "    .setInputCols([\"sentence\"])\\\n",
    "    .setOutputCol(\"token\")\n",
    "\n",
    "# Clinical word embeddings trained on PubMED dataset\n",
    "word_embeddings = nlp.WordEmbeddingsModel.pretrained(\"embeddings_clinical\", \"en\", \"clinical/models\")\\\n",
    "    .setInputCols([\"sentence\", \"token\"])\\\n",
    "    .setOutputCol(\"embeddings\")\n",
    "\n",
    "# NER model trained on n2c2 (de-identification and Heart Disease Risk Factors Challenge) datasets)\n",
    "clinical_ner = medical.NerModel.pretrained(\"ner_deid_generic_augmented\", \"en\", \"clinical/models\") \\\n",
    "    .setInputCols([\"sentence\", \"token\", \"embeddings\"]) \\\n",
    "    .setOutputCol(\"ner\")\n",
    "\n",
    "ner_converter = medical.NerConverterInternal()\\\n",
    "    .setInputCols([\"sentence\", \"token\", \"ner\"])\\\n",
    "    .setOutputCol(\"ner_chunk\")\n",
    "\n",
    "nlpPipeline = nlp.Pipeline(stages=[\n",
    "      documentAssembler,\n",
    "      sentenceDetector,\n",
    "      tokenizer,\n",
    "      word_embeddings,\n",
    "      clinical_ner,\n",
    "      ner_converter])\n",
    "\n",
    "empty_data = spark.createDataFrame([[\"\"]]).toDF(\"text\")\n",
    "\n",
    "model = nlpPipeline.fit(empty_data)"
   ]
  },
  {
   "cell_type": "markdown",
   "metadata": {
    "application/vnd.databricks.v1+cell": {
     "cellMetadata": {},
     "inputWidgets": {},
     "nuid": "6836e870-7ecb-4d1f-a578-fe520f991403",
     "showTitle": false,
     "title": ""
    },
    "id": "woAJhVv6f88m"
   },
   "source": [
    "### Pretrained NER models extracts:\n",
    "\n",
    "- Name\n",
    "- Profession\n",
    "- Age\n",
    "- Date\n",
    "- Contact(Telephone numbers, FAX numbers, Email addresses)\n",
    "- Location (Address, City, Postal code, Hospital Name, Employment information)\n",
    "- Id (Social Security numbers, Medical record numbers, Internet protocol addresses)"
   ]
  },
  {
   "cell_type": "code",
   "execution_count": 0,
   "metadata": {
    "application/vnd.databricks.v1+cell": {
     "cellMetadata": {
      "byteLimit": 2048000,
      "rowLimit": 10000
     },
     "inputWidgets": {},
     "nuid": "9e453469-c115-4ded-a8ba-2d553b818085",
     "showTitle": false,
     "title": ""
    },
    "id": "Fxdh4CBBf88n"
   },
   "outputs": [
    {
     "output_type": "display_data",
     "data": {
      "text/html": [
       "<style scoped>\n",
       "  .ansiout {\n",
       "    display: block;\n",
       "    unicode-bidi: embed;\n",
       "    white-space: pre-wrap;\n",
       "    word-wrap: break-word;\n",
       "    word-break: break-all;\n",
       "    font-family: \"Source Code Pro\", \"Menlo\", monospace;;\n",
       "    font-size: 13px;\n",
       "    color: #555;\n",
       "    margin-left: 4px;\n",
       "    line-height: 19px;\n",
       "  }\n",
       "</style>\n",
       "<div class=\"ansiout\"></div>"
      ]
     },
     "metadata": {
      "application/vnd.databricks.v1+output": {
       "addedWidgets": {},
       "arguments": {},
       "data": "<div class=\"ansiout\"></div>",
       "datasetInfos": [],
       "metadata": {},
       "removedWidgets": [],
       "type": "html"
      }
     },
     "output_type": "display_data"
    }
   ],
   "source": [
    "text ='''\n",
    "Record date : 2093-01-13 , David Hale , M.D . , Name : Hendrickson Ora , MR # 7194334 Date : 01/13/93 . PCP : Oliveira , 25 years-old , Record date : 2079-11-09 . Cocke County Baptist Hospital , 0295 Keats Street , Phone 55-555-5555 .\n",
    "'''"
   ]
  },
  {
   "cell_type": "code",
   "execution_count": 0,
   "metadata": {
    "application/vnd.databricks.v1+cell": {
     "cellMetadata": {
      "byteLimit": 2048000,
      "rowLimit": 10000
     },
     "inputWidgets": {},
     "nuid": "ef1bde24-48c6-48b3-a7e9-da267e73eaae",
     "showTitle": false,
     "title": ""
    },
    "id": "AE7cILT6f88q"
   },
   "outputs": [
    {
     "output_type": "display_data",
     "data": {
      "text/html": [
       "<style scoped>\n",
       "  .ansiout {\n",
       "    display: block;\n",
       "    unicode-bidi: embed;\n",
       "    white-space: pre-wrap;\n",
       "    word-wrap: break-word;\n",
       "    word-break: break-all;\n",
       "    font-family: \"Source Code Pro\", \"Menlo\", monospace;;\n",
       "    font-size: 13px;\n",
       "    color: #555;\n",
       "    margin-left: 4px;\n",
       "    line-height: 19px;\n",
       "  }\n",
       "</style>\n",
       "<div class=\"ansiout\"></div>"
      ]
     },
     "metadata": {
      "application/vnd.databricks.v1+output": {
       "addedWidgets": {},
       "arguments": {},
       "data": "<div class=\"ansiout\"></div>",
       "datasetInfos": [],
       "metadata": {},
       "removedWidgets": [],
       "type": "html"
      }
     },
     "output_type": "display_data"
    }
   ],
   "source": [
    "result = model.transform(spark.createDataFrame([[text]]).toDF(\"text\"))"
   ]
  },
  {
   "cell_type": "code",
   "execution_count": 0,
   "metadata": {
    "application/vnd.databricks.v1+cell": {
     "cellMetadata": {
      "byteLimit": 2048000,
      "rowLimit": 10000
     },
     "inputWidgets": {},
     "nuid": "cd6645b6-87b6-4c32-a12b-8e28fe636265",
     "showTitle": false,
     "title": ""
    }
   },
   "outputs": [
    {
     "output_type": "display_data",
     "data": {
      "text/html": [
       "<style scoped>\n",
       "  .ansiout {\n",
       "    display: block;\n",
       "    unicode-bidi: embed;\n",
       "    white-space: pre-wrap;\n",
       "    word-wrap: break-word;\n",
       "    word-break: break-all;\n",
       "    font-family: \"Source Code Pro\", \"Menlo\", monospace;;\n",
       "    font-size: 13px;\n",
       "    color: #555;\n",
       "    margin-left: 4px;\n",
       "    line-height: 19px;\n",
       "  }\n",
       "</style>\n",
       "<div class=\"ansiout\"></div>"
      ]
     },
     "metadata": {
      "application/vnd.databricks.v1+output": {
       "addedWidgets": {},
       "arguments": {},
       "data": "<div class=\"ansiout\"></div>",
       "datasetInfos": [],
       "metadata": {},
       "removedWidgets": [],
       "type": "html"
      }
     },
     "output_type": "display_data"
    }
   ],
   "source": [
    "result_df = result.select(F.explode(F.arrays_zip(result.token.result, \n",
    "                                                 result.ner.result)).alias(\"cols\")) \\\n",
    "                  .select(F.expr(\"cols['0']\").alias(\"token\"),\n",
    "                          F.expr(\"cols['1']\").alias(\"ner_label\"))"
   ]
  },
  {
   "cell_type": "code",
   "execution_count": 0,
   "metadata": {
    "application/vnd.databricks.v1+cell": {
     "cellMetadata": {
      "byteLimit": 2048000,
      "rowLimit": 10000
     },
     "inputWidgets": {},
     "nuid": "21065e8e-a478-4507-bc05-5749a476a865",
     "showTitle": false,
     "title": ""
    },
    "colab": {
     "base_uri": "https://localhost:8080/"
    },
    "id": "Nunb_ZZpar4q",
    "outputId": "89a534ab-0ad1-40b8-e238-67e8676f92d8"
   },
   "outputs": [
    {
     "output_type": "display_data",
     "data": {
      "text/html": [
       "<style scoped>\n",
       "  .ansiout {\n",
       "    display: block;\n",
       "    unicode-bidi: embed;\n",
       "    white-space: pre-wrap;\n",
       "    word-wrap: break-word;\n",
       "    word-break: break-all;\n",
       "    font-family: \"Source Code Pro\", \"Menlo\", monospace;;\n",
       "    font-size: 13px;\n",
       "    color: #555;\n",
       "    margin-left: 4px;\n",
       "    line-height: 19px;\n",
       "  }\n",
       "</style>\n",
       "<div class=\"ansiout\">+----------+-----+\n",
       "ner_label |count|\n",
       "+----------+-----+\n",
       "O         |29   |\n",
       "I-LOCATION|5    |\n",
       "B-DATE    |3    |\n",
       "B-NAME    |3    |\n",
       "B-LOCATION|2    |\n",
       "I-NAME    |2    |\n",
       "B-ID      |1    |\n",
       "B-AGE     |1    |\n",
       "B-CONTACT |1    |\n",
       "+----------+-----+\n",
       "\n",
       "</div>"
      ]
     },
     "metadata": {
      "application/vnd.databricks.v1+output": {
       "addedWidgets": {},
       "arguments": {},
       "data": "<div class=\"ansiout\">+----------+-----+\n|ner_label |count|\n+----------+-----+\n|O         |29   |\n|I-LOCATION|5    |\n|B-DATE    |3    |\n|B-NAME    |3    |\n|B-LOCATION|2    |\n|I-NAME    |2    |\n|B-ID      |1    |\n|B-AGE     |1    |\n|B-CONTACT |1    |\n+----------+-----+\n\n</div>",
       "datasetInfos": [],
       "metadata": {},
       "removedWidgets": [],
       "type": "html"
      }
     },
     "output_type": "display_data"
    }
   ],
   "source": [
    "result_df.select(\"token\", \"ner_label\").groupBy('ner_label').count().orderBy('count', ascending=False).show(truncate=False)"
   ]
  },
  {
   "cell_type": "markdown",
   "metadata": {
    "application/vnd.databricks.v1+cell": {
     "cellMetadata": {},
     "inputWidgets": {},
     "nuid": "b8ccbead-4b00-44cd-af57-9f303405a631",
     "showTitle": false,
     "title": ""
    },
    "id": "DJvt31qlf880"
   },
   "source": [
    "### Check extracted sensitive entities"
   ]
  },
  {
   "cell_type": "code",
   "execution_count": 0,
   "metadata": {
    "application/vnd.databricks.v1+cell": {
     "cellMetadata": {
      "byteLimit": 2048000,
      "rowLimit": 10000
     },
     "inputWidgets": {},
     "nuid": "38af0986-eb0a-433f-9804-f1b706fcbbd2",
     "showTitle": false,
     "title": ""
    }
   },
   "outputs": [
    {
     "output_type": "display_data",
     "data": {
      "text/html": [
       "<style scoped>\n",
       "  .ansiout {\n",
       "    display: block;\n",
       "    unicode-bidi: embed;\n",
       "    white-space: pre-wrap;\n",
       "    word-wrap: break-word;\n",
       "    word-break: break-all;\n",
       "    font-family: \"Source Code Pro\", \"Menlo\", monospace;;\n",
       "    font-size: 13px;\n",
       "    color: #555;\n",
       "    margin-left: 4px;\n",
       "    line-height: 19px;\n",
       "  }\n",
       "</style>\n",
       "<div class=\"ansiout\">+-----------------------------+---------+\n",
       "chunk                        |ner_label|\n",
       "+-----------------------------+---------+\n",
       "2093-01-13                   |DATE     |\n",
       "David Hale                   |NAME     |\n",
       "Hendrickson Ora              |NAME     |\n",
       "7194334                      |ID       |\n",
       "01/13/93                     |DATE     |\n",
       "Oliveira                     |NAME     |\n",
       "25                           |AGE      |\n",
       "2079-11-09                   |DATE     |\n",
       "Cocke County Baptist Hospital|LOCATION |\n",
       "0295 Keats Street            |LOCATION |\n",
       "55-555-5555                  |CONTACT  |\n",
       "+-----------------------------+---------+\n",
       "\n",
       "</div>"
      ]
     },
     "metadata": {
      "application/vnd.databricks.v1+output": {
       "addedWidgets": {},
       "arguments": {},
       "data": "<div class=\"ansiout\">+-----------------------------+---------+\n|chunk                        |ner_label|\n+-----------------------------+---------+\n|2093-01-13                   |DATE     |\n|David Hale                   |NAME     |\n|Hendrickson Ora              |NAME     |\n|7194334                      |ID       |\n|01/13/93                     |DATE     |\n|Oliveira                     |NAME     |\n|25                           |AGE      |\n|2079-11-09                   |DATE     |\n|Cocke County Baptist Hospital|LOCATION |\n|0295 Keats Street            |LOCATION |\n|55-555-5555                  |CONTACT  |\n+-----------------------------+---------+\n\n</div>",
       "datasetInfos": [],
       "metadata": {},
       "removedWidgets": [],
       "type": "html"
      }
     },
     "output_type": "display_data"
    }
   ],
   "source": [
    "result.select(F.explode(F.arrays_zip(result.ner_chunk.result,\n",
    "                                     result.ner_chunk.metadata)).alias(\"cols\")) \\\n",
    "      .select(F.expr(\"cols['0']\").alias(\"chunk\"),\n",
    "              F.expr(\"cols['1']['entity']\").alias(\"ner_label\")).show(truncate=False)"
   ]
  },
  {
   "cell_type": "markdown",
   "metadata": {
    "application/vnd.databricks.v1+cell": {
     "cellMetadata": {},
     "inputWidgets": {},
     "nuid": "0686dbbc-61fa-4bcb-b41a-3377c50b5821",
     "showTitle": false,
     "title": ""
    },
    "id": "EkD3zogqf89Q"
   },
   "source": [
    "### Excluding entities from deidentification"
   ]
  },
  {
   "cell_type": "markdown",
   "metadata": {
    "application/vnd.databricks.v1+cell": {
     "cellMetadata": {},
     "inputWidgets": {},
     "nuid": "50828551-271e-45ea-8cdd-c74904f9e775",
     "showTitle": false,
     "title": ""
    },
    "id": "my04HL3rf89Q"
   },
   "source": [
    "Sometimes we need to leave some entities in the text, for example, if we want to analyze the frequency of the disease by the hospital. In this case, we need to use parameter **`setWhiteList()`** to modify `ner_chunk` output. This parameter having using a list of entities type to deidentify as an input. So, if we want to leave the location in the list we need to remove this tag from the list:"
   ]
  },
  {
   "cell_type": "code",
   "execution_count": 0,
   "metadata": {
    "application/vnd.databricks.v1+cell": {
     "cellMetadata": {
      "byteLimit": 2048000,
      "rowLimit": 10000
     },
     "inputWidgets": {},
     "nuid": "4caf3468-b0b8-42b0-bfc4-6f10a392aa85",
     "showTitle": false,
     "title": ""
    },
    "id": "3Bj066u9f89R"
   },
   "outputs": [
    {
     "output_type": "display_data",
     "data": {
      "text/html": [
       "<style scoped>\n",
       "  .ansiout {\n",
       "    display: block;\n",
       "    unicode-bidi: embed;\n",
       "    white-space: pre-wrap;\n",
       "    word-wrap: break-word;\n",
       "    word-break: break-all;\n",
       "    font-family: \"Source Code Pro\", \"Menlo\", monospace;;\n",
       "    font-size: 13px;\n",
       "    color: #555;\n",
       "    margin-left: 4px;\n",
       "    line-height: 19px;\n",
       "  }\n",
       "</style>\n",
       "<div class=\"ansiout\"></div>"
      ]
     },
     "metadata": {
      "application/vnd.databricks.v1+output": {
       "addedWidgets": {},
       "arguments": {},
       "data": "<div class=\"ansiout\"></div>",
       "datasetInfos": [],
       "metadata": {},
       "removedWidgets": [],
       "type": "html"
      }
     },
     "output_type": "display_data"
    }
   ],
   "source": [
    "ner_converter = medical.NerConverterInternal()\\\n",
    "    .setInputCols([\"sentence\", \"token\", \"ner\"])\\\n",
    "    .setOutputCol(\"ner_chunk\") \\\n",
    "    .setWhiteList(['NAME', 'PROFESSION', 'ID', 'AGE', 'DATE'])\n",
    "\n",
    "nlpPipeline = nlp.Pipeline(stages=[\n",
    "    documentAssembler,\n",
    "    sentenceDetector,\n",
    "    tokenizer,\n",
    "    word_embeddings,\n",
    "    clinical_ner,\n",
    "    ner_converter])\n",
    "\n",
    "empty_data = spark.createDataFrame([[\"\"]]).toDF(\"text\")\n",
    "\n",
    "model_with_white_list = nlpPipeline.fit(empty_data)"
   ]
  },
  {
   "cell_type": "code",
   "execution_count": 0,
   "metadata": {
    "application/vnd.databricks.v1+cell": {
     "cellMetadata": {
      "byteLimit": 2048000,
      "rowLimit": 10000
     },
     "inputWidgets": {},
     "nuid": "f82c4033-7404-4af8-9e53-e96f3d3269da",
     "showTitle": false,
     "title": ""
    },
    "id": "oWNZR2trf89U"
   },
   "outputs": [
    {
     "output_type": "display_data",
     "data": {
      "text/html": [
       "<style scoped>\n",
       "  .ansiout {\n",
       "    display: block;\n",
       "    unicode-bidi: embed;\n",
       "    white-space: pre-wrap;\n",
       "    word-wrap: break-word;\n",
       "    word-break: break-all;\n",
       "    font-family: \"Source Code Pro\", \"Menlo\", monospace;;\n",
       "    font-size: 13px;\n",
       "    color: #555;\n",
       "    margin-left: 4px;\n",
       "    line-height: 19px;\n",
       "  }\n",
       "</style>\n",
       "<div class=\"ansiout\"></div>"
      ]
     },
     "metadata": {
      "application/vnd.databricks.v1+output": {
       "addedWidgets": {},
       "arguments": {},
       "data": "<div class=\"ansiout\"></div>",
       "datasetInfos": [],
       "metadata": {},
       "removedWidgets": [],
       "type": "html"
      }
     },
     "output_type": "display_data"
    }
   ],
   "source": [
    "result_with_white_list = model_with_white_list.transform(spark.createDataFrame([[text]]).toDF(\"text\"))"
   ]
  },
  {
   "cell_type": "code",
   "execution_count": 0,
   "metadata": {
    "application/vnd.databricks.v1+cell": {
     "cellMetadata": {
      "byteLimit": 2048000,
      "rowLimit": 10000
     },
     "inputWidgets": {},
     "nuid": "da87a489-fa48-4804-bc56-84e675778fee",
     "showTitle": false,
     "title": ""
    }
   },
   "outputs": [
    {
     "output_type": "display_data",
     "data": {
      "text/html": [
       "<style scoped>\n",
       "  .ansiout {\n",
       "    display: block;\n",
       "    unicode-bidi: embed;\n",
       "    white-space: pre-wrap;\n",
       "    word-wrap: break-word;\n",
       "    word-break: break-all;\n",
       "    font-family: \"Source Code Pro\", \"Menlo\", monospace;;\n",
       "    font-size: 13px;\n",
       "    color: #555;\n",
       "    margin-left: 4px;\n",
       "    line-height: 19px;\n",
       "  }\n",
       "</style>\n",
       "<div class=\"ansiout\">All Labels :\n",
       "+-----------------------------+---------+\n",
       "chunk                        |ner_label|\n",
       "+-----------------------------+---------+\n",
       "2093-01-13                   |DATE     |\n",
       "David Hale                   |NAME     |\n",
       "Hendrickson Ora              |NAME     |\n",
       "7194334                      |ID       |\n",
       "01/13/93                     |DATE     |\n",
       "Oliveira                     |NAME     |\n",
       "25                           |AGE      |\n",
       "2079-11-09                   |DATE     |\n",
       "Cocke County Baptist Hospital|LOCATION |\n",
       "0295 Keats Street            |LOCATION |\n",
       "55-555-5555                  |CONTACT  |\n",
       "+-----------------------------+---------+\n",
       "\n",
       "WhiteListed Labels: \n",
       "+---------------+---------+\n",
       "chunk          |ner_label|\n",
       "+---------------+---------+\n",
       "2093-01-13     |DATE     |\n",
       "David Hale     |NAME     |\n",
       "Hendrickson Ora|NAME     |\n",
       "7194334        |ID       |\n",
       "01/13/93       |DATE     |\n",
       "Oliveira       |NAME     |\n",
       "25             |AGE      |\n",
       "2079-11-09     |DATE     |\n",
       "+---------------+---------+\n",
       "\n",
       "</div>"
      ]
     },
     "metadata": {
      "application/vnd.databricks.v1+output": {
       "addedWidgets": {},
       "arguments": {},
       "data": "<div class=\"ansiout\">All Labels :\n+-----------------------------+---------+\n|chunk                        |ner_label|\n+-----------------------------+---------+\n|2093-01-13                   |DATE     |\n|David Hale                   |NAME     |\n|Hendrickson Ora              |NAME     |\n|7194334                      |ID       |\n|01/13/93                     |DATE     |\n|Oliveira                     |NAME     |\n|25                           |AGE      |\n|2079-11-09                   |DATE     |\n|Cocke County Baptist Hospital|LOCATION |\n|0295 Keats Street            |LOCATION |\n|55-555-5555                  |CONTACT  |\n+-----------------------------+---------+\n\nWhiteListed Labels: \n+---------------+---------+\n|chunk          |ner_label|\n+---------------+---------+\n|2093-01-13     |DATE     |\n|David Hale     |NAME     |\n|Hendrickson Ora|NAME     |\n|7194334        |ID       |\n|01/13/93       |DATE     |\n|Oliveira       |NAME     |\n|25             |AGE      |\n|2079-11-09     |DATE     |\n+---------------+---------+\n\n</div>",
       "datasetInfos": [],
       "metadata": {},
       "removedWidgets": [],
       "type": "html"
      }
     },
     "output_type": "display_data"
    }
   ],
   "source": [
    "print(\"All Labels :\")\n",
    "result.select(F.explode(F.arrays_zip(result.ner_chunk.result,\n",
    "                                     result.ner_chunk.metadata)).alias(\"cols\")) \\\n",
    "      .select(F.expr(\"cols['0']\").alias(\"chunk\"),\n",
    "              F.expr(\"cols['1']['entity']\").alias(\"ner_label\")).show(truncate=False)\n",
    "\n",
    "print(\"WhiteListed Labels: \")\n",
    "result_with_white_list.select(F.explode(F.arrays_zip(result_with_white_list.ner_chunk.result,\n",
    "                                                     result_with_white_list.ner_chunk.metadata)).alias(\"cols\")) \\\n",
    "                      .select(F.expr(\"cols['0']\").alias(\"chunk\"),\n",
    "                              F.expr(\"cols['1']['entity']\").alias(\"ner_label\")).show(truncate=False)"
   ]
  },
  {
   "cell_type": "markdown",
   "metadata": {
    "application/vnd.databricks.v1+cell": {
     "cellMetadata": {},
     "inputWidgets": {},
     "nuid": "41594a79-cdcd-4358-8ec9-dc3d11689cda",
     "showTitle": false,
     "title": ""
    },
    "id": "rckvYUKVf89b"
   },
   "source": [
    "## Masking and Obfuscation"
   ]
  },
  {
   "cell_type": "markdown",
   "metadata": {
    "application/vnd.databricks.v1+cell": {
     "cellMetadata": {},
     "inputWidgets": {},
     "nuid": "c660c6de-f497-4e9a-9a5a-6b786c136a27",
     "showTitle": false,
     "title": ""
    },
    "id": "HLt9SFX5f89b"
   },
   "source": [
    "### Replace these entities with Tags"
   ]
  },
  {
   "cell_type": "code",
   "execution_count": 0,
   "metadata": {
    "application/vnd.databricks.v1+cell": {
     "cellMetadata": {
      "byteLimit": 2048000,
      "rowLimit": 10000
     },
     "inputWidgets": {},
     "nuid": "1fdda223-b09f-400e-9499-03ec9c140d0b",
     "showTitle": false,
     "title": ""
    },
    "id": "WaFe5bZzhEXT"
   },
   "outputs": [
    {
     "output_type": "display_data",
     "data": {
      "text/html": [
       "<style scoped>\n",
       "  .ansiout {\n",
       "    display: block;\n",
       "    unicode-bidi: embed;\n",
       "    white-space: pre-wrap;\n",
       "    word-wrap: break-word;\n",
       "    word-break: break-all;\n",
       "    font-family: \"Source Code Pro\", \"Menlo\", monospace;;\n",
       "    font-size: 13px;\n",
       "    color: #555;\n",
       "    margin-left: 4px;\n",
       "    line-height: 19px;\n",
       "  }\n",
       "</style>\n",
       "<div class=\"ansiout\"></div>"
      ]
     },
     "metadata": {
      "application/vnd.databricks.v1+output": {
       "addedWidgets": {},
       "arguments": {},
       "data": "<div class=\"ansiout\"></div>",
       "datasetInfos": [],
       "metadata": {},
       "removedWidgets": [],
       "type": "html"
      }
     },
     "output_type": "display_data"
    }
   ],
   "source": [
    "ner_converter = medical.NerConverterInternal()\\\n",
    "      .setInputCols([\"sentence\", \"token\", \"ner\"])\\\n",
    "      .setOutputCol(\"ner_chunk\") \n",
    "\n",
    "deidentification = medical.DeIdentification() \\\n",
    "      .setInputCols([\"sentence\", \"token\", \"ner_chunk\"]) \\\n",
    "      .setOutputCol(\"deidentified\") \\\n",
    "      .setMode(\"mask\")\\\n",
    "      .setReturnEntityMappings(True) #  return a new column to save the mappings between the mask/obfuscated entities and original entities.\n",
    "      #.setMappingsColumn(\"MappingCol\") # change the name of the column, 'aux' is default\n",
    "\n",
    "deidPipeline = nlp.Pipeline(stages=[\n",
    "      documentAssembler, \n",
    "      sentenceDetector,\n",
    "      tokenizer,\n",
    "      word_embeddings,\n",
    "      clinical_ner,\n",
    "      ner_converter,\n",
    "      deidentification])\n",
    "\n",
    "empty_data = spark.createDataFrame([[\"\"]]).toDF(\"text\")\n",
    "\n",
    "model_deid = deidPipeline.fit(empty_data)"
   ]
  },
  {
   "cell_type": "code",
   "execution_count": 0,
   "metadata": {
    "application/vnd.databricks.v1+cell": {
     "cellMetadata": {
      "byteLimit": 2048000,
      "rowLimit": 10000
     },
     "inputWidgets": {},
     "nuid": "292a5d8b-b667-44ad-9db0-713192930372",
     "showTitle": false,
     "title": ""
    },
    "id": "CZ3QgzH2AD-h"
   },
   "outputs": [
    {
     "output_type": "display_data",
     "data": {
      "text/html": [
       "<style scoped>\n",
       "  .ansiout {\n",
       "    display: block;\n",
       "    unicode-bidi: embed;\n",
       "    white-space: pre-wrap;\n",
       "    word-wrap: break-word;\n",
       "    word-break: break-all;\n",
       "    font-family: \"Source Code Pro\", \"Menlo\", monospace;;\n",
       "    font-size: 13px;\n",
       "    color: #555;\n",
       "    margin-left: 4px;\n",
       "    line-height: 19px;\n",
       "  }\n",
       "</style>\n",
       "<div class=\"ansiout\"></div>"
      ]
     },
     "metadata": {
      "application/vnd.databricks.v1+output": {
       "addedWidgets": {},
       "arguments": {},
       "data": "<div class=\"ansiout\"></div>",
       "datasetInfos": [],
       "metadata": {},
       "removedWidgets": [],
       "type": "html"
      }
     },
     "output_type": "display_data"
    }
   ],
   "source": [
    "result = model_deid.transform(spark.createDataFrame([[text]]).toDF(\"text\"))"
   ]
  },
  {
   "cell_type": "code",
   "execution_count": 0,
   "metadata": {
    "application/vnd.databricks.v1+cell": {
     "cellMetadata": {
      "byteLimit": 2048000,
      "rowLimit": 10000
     },
     "inputWidgets": {},
     "nuid": "630a04ff-6bba-47bf-b30e-d370c74b1d0d",
     "showTitle": false,
     "title": ""
    },
    "colab": {
     "base_uri": "https://localhost:8080/"
    },
    "id": "JR12_5hPdkg5",
    "outputId": "e12fc7a5-c875-41fb-e17a-dc1a1395411e"
   },
   "outputs": [
    {
     "output_type": "display_data",
     "data": {
      "text/html": [
       "<style scoped>\n",
       "  .ansiout {\n",
       "    display: block;\n",
       "    unicode-bidi: embed;\n",
       "    white-space: pre-wrap;\n",
       "    word-wrap: break-word;\n",
       "    word-break: break-all;\n",
       "    font-family: \"Source Code Pro\", \"Menlo\", monospace;;\n",
       "    font-size: 13px;\n",
       "    color: #555;\n",
       "    margin-left: 4px;\n",
       "    line-height: 19px;\n",
       "  }\n",
       "</style>\n",
       "<div class=\"ansiout\">+--------------------+--------------------+--------------------+--------------------+--------------------+--------------------+--------------------+--------------------+--------------------+\n",
       "                text|            document|            sentence|               token|          embeddings|                 ner|           ner_chunk|        deidentified|                 aux|\n",
       "+--------------------+--------------------+--------------------+--------------------+--------------------+--------------------+--------------------+--------------------+--------------------+\n",
       "\\nRecord date : 2...|[{document, 0, 23...|[{document, 1, 45...|[{token, 1, 6, Re...|[{word_embeddings...|[{named_entity, 1...|[{chunk, 15, 24, ...|[{document, 0, 36...|[{chunk, 14, 19, ...|\n",
       "+--------------------+--------------------+--------------------+--------------------+--------------------+--------------------+--------------------+--------------------+--------------------+\n",
       "\n",
       "</div>"
      ]
     },
     "metadata": {
      "application/vnd.databricks.v1+output": {
       "addedWidgets": {},
       "arguments": {},
       "data": "<div class=\"ansiout\">+--------------------+--------------------+--------------------+--------------------+--------------------+--------------------+--------------------+--------------------+--------------------+\n|                text|            document|            sentence|               token|          embeddings|                 ner|           ner_chunk|        deidentified|                 aux|\n+--------------------+--------------------+--------------------+--------------------+--------------------+--------------------+--------------------+--------------------+--------------------+\n|\\nRecord date : 2...|[{document, 0, 23...|[{document, 1, 45...|[{token, 1, 6, Re...|[{word_embeddings...|[{named_entity, 1...|[{chunk, 15, 24, ...|[{document, 0, 36...|[{chunk, 14, 19, ...|\n+--------------------+--------------------+--------------------+--------------------+--------------------+--------------------+--------------------+--------------------+--------------------+\n\n</div>",
       "datasetInfos": [],
       "metadata": {},
       "removedWidgets": [],
       "type": "html"
      }
     },
     "output_type": "display_data"
    }
   ],
   "source": [
    "result.show()"
   ]
  },
  {
   "cell_type": "code",
   "execution_count": 0,
   "metadata": {
    "application/vnd.databricks.v1+cell": {
     "cellMetadata": {
      "byteLimit": 2048000,
      "rowLimit": 10000
     },
     "inputWidgets": {},
     "nuid": "a0a764dc-ea6b-4d78-a1af-a60a5899c0e7",
     "showTitle": false,
     "title": ""
    },
    "colab": {
     "base_uri": "https://localhost:8080/",
     "height": 174
    },
    "id": "sI1C9hJzbyl3",
    "outputId": "7c9f7a43-fc29-4220-fb07-cdc0736e3770"
   },
   "outputs": [
    {
     "output_type": "display_data",
     "data": {
      "text/html": [
       "<style scoped>\n",
       "  .ansiout {\n",
       "    display: block;\n",
       "    unicode-bidi: embed;\n",
       "    white-space: pre-wrap;\n",
       "    word-wrap: break-word;\n",
       "    word-break: break-all;\n",
       "    font-family: \"Source Code Pro\", \"Menlo\", monospace;;\n",
       "    font-size: 13px;\n",
       "    color: #555;\n",
       "    margin-left: 4px;\n",
       "    line-height: 19px;\n",
       "  }\n",
       "</style>\n",
       "<div class=\"ansiout\">Out[15]: </div>"
      ]
     },
     "metadata": {
      "application/vnd.databricks.v1+output": {
       "addedWidgets": {},
       "arguments": {},
       "data": "<div class=\"ansiout\">Out[15]: </div>",
       "datasetInfos": [],
       "metadata": {},
       "removedWidgets": [],
       "type": "html"
      }
     },
     "output_type": "display_data"
    },
    {
     "output_type": "display_data",
     "data": {
      "text/html": [
       "<div>\n",
       "<style scoped>\n",
       "    .dataframe tbody tr th:only-of-type {\n",
       "        vertical-align: middle;\n",
       "    }\n",
       "\n",
       "    .dataframe tbody tr th {\n",
       "        vertical-align: top;\n",
       "    }\n",
       "\n",
       "    .dataframe thead th {\n",
       "        text-align: right;\n",
       "    }\n",
       "</style>\n",
       "<table border=\"1\" class=\"dataframe\">\n",
       "  <thead>\n",
       "    <tr style=\"text-align: right;\">\n",
       "      <th></th>\n",
       "      <th>sentence</th>\n",
       "      <th>deidentified</th>\n",
       "    </tr>\n",
       "  </thead>\n",
       "  <tbody>\n",
       "    <tr>\n",
       "      <th>0</th>\n",
       "      <td>Record date : 2093-01-13 , David Hale , M.D .</td>\n",
       "      <td>Record date : &lt;DATE&gt; , &lt;NAME&gt; , M.D .</td>\n",
       "    </tr>\n",
       "    <tr>\n",
       "      <th>1</th>\n",
       "      <td>, Name : Hendrickson Ora , MR # 7194334 Date : 01/13/93 .</td>\n",
       "      <td>, Name : &lt;NAME&gt; , MR # &lt;ID&gt; Date : &lt;DATE&gt; .</td>\n",
       "    </tr>\n",
       "    <tr>\n",
       "      <th>2</th>\n",
       "      <td>PCP : Oliveira , 25 years-old , Record date : 2079-11-09 .</td>\n",
       "      <td>PCP : &lt;NAME&gt; , &lt;AGE&gt; years-old , Record date : &lt;DATE&gt; .</td>\n",
       "    </tr>\n",
       "    <tr>\n",
       "      <th>3</th>\n",
       "      <td>Cocke County Baptist Hospital , 0295 Keats Street , Phone 55-555-5555 .</td>\n",
       "      <td>&lt;LOCATION&gt; , &lt;LOCATION&gt; , Phone &lt;CONTACT&gt; .</td>\n",
       "    </tr>\n",
       "  </tbody>\n",
       "</table>\n",
       "</div>"
      ]
     },
     "metadata": {
      "application/vnd.databricks.v1+output": {
       "addedWidgets": {},
       "arguments": {},
       "data": "<div>\n<style scoped>\n    .dataframe tbody tr th:only-of-type {\n        vertical-align: middle;\n    }\n\n    .dataframe tbody tr th {\n        vertical-align: top;\n    }\n\n    .dataframe thead th {\n        text-align: right;\n    }\n</style>\n<table border=\"1\" class=\"dataframe\">\n  <thead>\n    <tr style=\"text-align: right;\">\n      <th></th>\n      <th>sentence</th>\n      <th>deidentified</th>\n    </tr>\n  </thead>\n  <tbody>\n    <tr>\n      <th>0</th>\n      <td>Record date : 2093-01-13 , David Hale , M.D .</td>\n      <td>Record date : &lt;DATE&gt; , &lt;NAME&gt; , M.D .</td>\n    </tr>\n    <tr>\n      <th>1</th>\n      <td>, Name : Hendrickson Ora , MR # 7194334 Date : 01/13/93 .</td>\n      <td>, Name : &lt;NAME&gt; , MR # &lt;ID&gt; Date : &lt;DATE&gt; .</td>\n    </tr>\n    <tr>\n      <th>2</th>\n      <td>PCP : Oliveira , 25 years-old , Record date : 2079-11-09 .</td>\n      <td>PCP : &lt;NAME&gt; , &lt;AGE&gt; years-old , Record date : &lt;DATE&gt; .</td>\n    </tr>\n    <tr>\n      <th>3</th>\n      <td>Cocke County Baptist Hospital , 0295 Keats Street , Phone 55-555-5555 .</td>\n      <td>&lt;LOCATION&gt; , &lt;LOCATION&gt; , Phone &lt;CONTACT&gt; .</td>\n    </tr>\n  </tbody>\n</table>\n</div>",
       "datasetInfos": [],
       "metadata": {},
       "removedWidgets": [],
       "textData": null,
       "type": "htmlSandbox"
      }
     },
     "output_type": "display_data"
    }
   ],
   "source": [
    "result.select(F.explode(F.arrays_zip(result.sentence.result, \n",
    "                                     result.deidentified.result)).alias(\"cols\")) \\\n",
    "      .select(F.expr(\"cols['0']\").alias(\"sentence\"), \n",
    "              F.expr(\"cols['1']\").alias(\"deidentified\")).toPandas()"
   ]
  },
  {
   "cell_type": "markdown",
   "metadata": {
    "application/vnd.databricks.v1+cell": {
     "cellMetadata": {},
     "inputWidgets": {},
     "nuid": "c626ec2a-0b36-44f4-85e8-2bceec868c9b",
     "showTitle": false,
     "title": ""
    },
    "id": "GHx17rSxOPeJ"
   },
   "source": [
    "We have three modes to mask the entities in the Deidentification annotator. You can select the modes using the `.setMaskingPolicy()` parameter. The methods are the followings:\n",
    "\n",
    "**“entity_labels”**: Mask with the entity type of that chunk. (default) <br/>\n",
    "**“same_length_chars”**: Mask the deid entities with same length of asterix ( * ) with brackets ( [ , ] ) on both end. <br/>\n",
    "**“fixed_length_chars”**: Mask the deid entities with a fixed length of asterix ( * ). The length is setting up using the `setFixedMaskLength()` method. <br/>\n",
    "Let's try each of these and compare the results."
   ]
  },
  {
   "cell_type": "code",
   "execution_count": 0,
   "metadata": {
    "application/vnd.databricks.v1+cell": {
     "cellMetadata": {
      "byteLimit": 2048000,
      "rowLimit": 10000
     },
     "inputWidgets": {},
     "nuid": "49fc9d89-49e7-45d7-bc78-5c75561256e2",
     "showTitle": false,
     "title": ""
    },
    "id": "ULCxSmu6OIcE"
   },
   "outputs": [
    {
     "output_type": "display_data",
     "data": {
      "text/html": [
       "<style scoped>\n",
       "  .ansiout {\n",
       "    display: block;\n",
       "    unicode-bidi: embed;\n",
       "    white-space: pre-wrap;\n",
       "    word-wrap: break-word;\n",
       "    word-break: break-all;\n",
       "    font-family: \"Source Code Pro\", \"Menlo\", monospace;;\n",
       "    font-size: 13px;\n",
       "    color: #555;\n",
       "    margin-left: 4px;\n",
       "    line-height: 19px;\n",
       "  }\n",
       "</style>\n",
       "<div class=\"ansiout\"></div>"
      ]
     },
     "metadata": {
      "application/vnd.databricks.v1+output": {
       "addedWidgets": {},
       "arguments": {},
       "data": "<div class=\"ansiout\"></div>",
       "datasetInfos": [],
       "metadata": {},
       "removedWidgets": [],
       "type": "html"
      }
     },
     "output_type": "display_data"
    }
   ],
   "source": [
    "#deid model with \"entity_labels\"\n",
    "deid_entity_labels= medical.DeIdentification()\\\n",
    "    .setInputCols([\"sentence\", \"token\", \"ner_chunk\"])\\\n",
    "    .setOutputCol(\"deid_entity_label\")\\\n",
    "    .setMode(\"mask\")\\\n",
    "    .setReturnEntityMappings(True)\\\n",
    "    .setMaskingPolicy(\"entity_labels\")\n",
    "\n",
    "#deid model with \"same_length_chars\"\n",
    "deid_same_length= medical.DeIdentification()\\\n",
    "    .setInputCols([\"sentence\", \"token\", \"ner_chunk\"])\\\n",
    "    .setOutputCol(\"deid_same_length\")\\\n",
    "    .setMode(\"mask\")\\\n",
    "    .setReturnEntityMappings(True)\\\n",
    "    .setMaskingPolicy(\"same_length_chars\")\n",
    "\n",
    "#deid model with \"fixed_length_chars\"\n",
    "deid_fixed_length= medical.DeIdentification()\\\n",
    "    .setInputCols([\"sentence\", \"token\", \"ner_chunk\"])\\\n",
    "    .setOutputCol(\"deid_fixed_length\")\\\n",
    "    .setMode(\"mask\")\\\n",
    "    .setReturnEntityMappings(True)\\\n",
    "    .setMaskingPolicy(\"fixed_length_chars\")\\\n",
    "    .setFixedMaskLength(4)\n",
    "\n",
    "\n",
    "deidPipeline = nlp.Pipeline(stages=[\n",
    "      documentAssembler, \n",
    "      sentenceDetector,\n",
    "      tokenizer,\n",
    "      word_embeddings,\n",
    "      clinical_ner,\n",
    "      ner_converter,\n",
    "      deid_entity_labels,\n",
    "      deid_same_length,\n",
    "      deid_fixed_length])\n",
    "\n",
    "\n",
    "empty_data = spark.createDataFrame([[\"\"]]).toDF(\"text\")\n",
    "model_deid = deidPipeline.fit(empty_data)"
   ]
  },
  {
   "cell_type": "code",
   "execution_count": 0,
   "metadata": {
    "application/vnd.databricks.v1+cell": {
     "cellMetadata": {
      "byteLimit": 2048000,
      "rowLimit": 10000
     },
     "inputWidgets": {},
     "nuid": "3bbb2cf6-7094-49da-aa21-e484e9aa8b5a",
     "showTitle": false,
     "title": ""
    },
    "id": "i0dOky9hOIV4"
   },
   "outputs": [
    {
     "output_type": "display_data",
     "data": {
      "text/html": [
       "<style scoped>\n",
       "  .ansiout {\n",
       "    display: block;\n",
       "    unicode-bidi: embed;\n",
       "    white-space: pre-wrap;\n",
       "    word-wrap: break-word;\n",
       "    word-break: break-all;\n",
       "    font-family: \"Source Code Pro\", \"Menlo\", monospace;;\n",
       "    font-size: 13px;\n",
       "    color: #555;\n",
       "    margin-left: 4px;\n",
       "    line-height: 19px;\n",
       "  }\n",
       "</style>\n",
       "<div class=\"ansiout\"></div>"
      ]
     },
     "metadata": {
      "application/vnd.databricks.v1+output": {
       "addedWidgets": {},
       "arguments": {},
       "data": "<div class=\"ansiout\"></div>",
       "datasetInfos": [],
       "metadata": {},
       "removedWidgets": [],
       "type": "html"
      }
     },
     "output_type": "display_data"
    }
   ],
   "source": [
    "policy_result = model_deid.transform(spark.createDataFrame([[text]]).toDF(\"text\"))"
   ]
  },
  {
   "cell_type": "code",
   "execution_count": 0,
   "metadata": {
    "application/vnd.databricks.v1+cell": {
     "cellMetadata": {
      "byteLimit": 2048000,
      "rowLimit": 10000
     },
     "inputWidgets": {},
     "nuid": "f6a6775a-ce68-4998-b054-81eabda1ae2d",
     "showTitle": false,
     "title": ""
    },
    "colab": {
     "base_uri": "https://localhost:8080/"
    },
    "id": "SpGRUvM7OINj",
    "outputId": "1e463c61-61de-4410-af47-32ff1bc3d0d7"
   },
   "outputs": [
    {
     "output_type": "display_data",
     "data": {
      "text/html": [
       "<style scoped>\n",
       "  .ansiout {\n",
       "    display: block;\n",
       "    unicode-bidi: embed;\n",
       "    white-space: pre-wrap;\n",
       "    word-wrap: break-word;\n",
       "    word-break: break-all;\n",
       "    font-family: \"Source Code Pro\", \"Menlo\", monospace;;\n",
       "    font-size: 13px;\n",
       "    color: #555;\n",
       "    margin-left: 4px;\n",
       "    line-height: 19px;\n",
       "  }\n",
       "</style>\n",
       "<div class=\"ansiout\">+--------------------+--------------------+--------------------+--------------------+--------------------+--------------------+--------------------+--------------------+--------------------+--------------------+--------------------+\n",
       "                text|            document|            sentence|               token|          embeddings|                 ner|           ner_chunk|   deid_entity_label|                 aux|    deid_same_length|   deid_fixed_length|\n",
       "+--------------------+--------------------+--------------------+--------------------+--------------------+--------------------+--------------------+--------------------+--------------------+--------------------+--------------------+\n",
       "\\nRecord date : 2...|[{document, 0, 23...|[{document, 1, 45...|[{token, 1, 6, Re...|[{word_embeddings...|[{named_entity, 1...|[{chunk, 15, 24, ...|[{document, 0, 36...|[{chunk, 14, 17, ...|[{document, 0, 44...|[{document, 0, 32...|\n",
       "+--------------------+--------------------+--------------------+--------------------+--------------------+--------------------+--------------------+--------------------+--------------------+--------------------+--------------------+\n",
       "\n",
       "</div>"
      ]
     },
     "metadata": {
      "application/vnd.databricks.v1+output": {
       "addedWidgets": {},
       "arguments": {},
       "data": "<div class=\"ansiout\">+--------------------+--------------------+--------------------+--------------------+--------------------+--------------------+--------------------+--------------------+--------------------+--------------------+--------------------+\n|                text|            document|            sentence|               token|          embeddings|                 ner|           ner_chunk|   deid_entity_label|                 aux|    deid_same_length|   deid_fixed_length|\n+--------------------+--------------------+--------------------+--------------------+--------------------+--------------------+--------------------+--------------------+--------------------+--------------------+--------------------+\n|\\nRecord date : 2...|[{document, 0, 23...|[{document, 1, 45...|[{token, 1, 6, Re...|[{word_embeddings...|[{named_entity, 1...|[{chunk, 15, 24, ...|[{document, 0, 36...|[{chunk, 14, 17, ...|[{document, 0, 44...|[{document, 0, 32...|\n+--------------------+--------------------+--------------------+--------------------+--------------------+--------------------+--------------------+--------------------+--------------------+--------------------+--------------------+\n\n</div>",
       "datasetInfos": [],
       "metadata": {},
       "removedWidgets": [],
       "type": "html"
      }
     },
     "output_type": "display_data"
    }
   ],
   "source": [
    "policy_result.show()"
   ]
  },
  {
   "cell_type": "code",
   "execution_count": 0,
   "metadata": {
    "application/vnd.databricks.v1+cell": {
     "cellMetadata": {
      "byteLimit": 2048000,
      "rowLimit": 10000
     },
     "inputWidgets": {},
     "nuid": "c26ad42a-d55a-4933-87c3-a6a0bc02d932",
     "showTitle": false,
     "title": ""
    },
    "colab": {
     "base_uri": "https://localhost:8080/",
     "height": 253
    },
    "id": "AKXgnr8EOW3j",
    "outputId": "b64e7b96-4dad-4493-a4d6-04e481655ed1"
   },
   "outputs": [
    {
     "output_type": "display_data",
     "data": {
      "text/html": [
       "<style scoped>\n",
       "  .ansiout {\n",
       "    display: block;\n",
       "    unicode-bidi: embed;\n",
       "    white-space: pre-wrap;\n",
       "    word-wrap: break-word;\n",
       "    word-break: break-all;\n",
       "    font-family: \"Source Code Pro\", \"Menlo\", monospace;;\n",
       "    font-size: 13px;\n",
       "    color: #555;\n",
       "    margin-left: 4px;\n",
       "    line-height: 19px;\n",
       "  }\n",
       "</style>\n",
       "<div class=\"ansiout\">Out[19]: </div>"
      ]
     },
     "metadata": {
      "application/vnd.databricks.v1+output": {
       "addedWidgets": {},
       "arguments": {},
       "data": "<div class=\"ansiout\">Out[19]: </div>",
       "datasetInfos": [],
       "metadata": {},
       "removedWidgets": [],
       "type": "html"
      }
     },
     "output_type": "display_data"
    },
    {
     "output_type": "display_data",
     "data": {
      "text/html": [
       "<div>\n",
       "<style scoped>\n",
       "    .dataframe tbody tr th:only-of-type {\n",
       "        vertical-align: middle;\n",
       "    }\n",
       "\n",
       "    .dataframe tbody tr th {\n",
       "        vertical-align: top;\n",
       "    }\n",
       "\n",
       "    .dataframe thead th {\n",
       "        text-align: right;\n",
       "    }\n",
       "</style>\n",
       "<table border=\"1\" class=\"dataframe\">\n",
       "  <thead>\n",
       "    <tr style=\"text-align: right;\">\n",
       "      <th></th>\n",
       "      <th>sentence</th>\n",
       "      <th>deid_entity_label</th>\n",
       "      <th>deid_same_length</th>\n",
       "      <th>deid_fixed_length</th>\n",
       "    </tr>\n",
       "  </thead>\n",
       "  <tbody>\n",
       "    <tr>\n",
       "      <th>0</th>\n",
       "      <td>Record date : 2093-01-13 , David Hale , M.D .</td>\n",
       "      <td>Record date : &lt;DATE&gt; , &lt;NAME&gt; , M.D .</td>\n",
       "      <td>Record date : [********] , [********] , M.D .</td>\n",
       "      <td>Record date : **** , **** , M.D .</td>\n",
       "    </tr>\n",
       "    <tr>\n",
       "      <th>1</th>\n",
       "      <td>, Name : Hendrickson Ora , MR # 7194334 Date : 01/13/93 .</td>\n",
       "      <td>, Name : &lt;NAME&gt; , MR # &lt;ID&gt; Date : &lt;DATE&gt; .</td>\n",
       "      <td>, Name : [*************] , MR # [*****] Date : [******] .</td>\n",
       "      <td>, Name : **** , MR # **** Date : **** .</td>\n",
       "    </tr>\n",
       "    <tr>\n",
       "      <th>2</th>\n",
       "      <td>PCP : Oliveira , 25 years-old , Record date : 2079-11-09 .</td>\n",
       "      <td>PCP : &lt;NAME&gt; , &lt;AGE&gt; years-old , Record date : &lt;DATE&gt; .</td>\n",
       "      <td>PCP : [******] , ** years-old , Record date : [********] .</td>\n",
       "      <td>PCP : **** , **** years-old , Record date : **** .</td>\n",
       "    </tr>\n",
       "    <tr>\n",
       "      <th>3</th>\n",
       "      <td>Cocke County Baptist Hospital , 0295 Keats Street , Phone 55-555-5555 .</td>\n",
       "      <td>&lt;LOCATION&gt; , &lt;LOCATION&gt; , Phone &lt;CONTACT&gt; .</td>\n",
       "      <td>[***************************] , [***************] , Phone [*********] .</td>\n",
       "      <td>**** , **** , Phone **** .</td>\n",
       "    </tr>\n",
       "  </tbody>\n",
       "</table>\n",
       "</div>"
      ]
     },
     "metadata": {
      "application/vnd.databricks.v1+output": {
       "addedWidgets": {},
       "arguments": {},
       "data": "<div>\n<style scoped>\n    .dataframe tbody tr th:only-of-type {\n        vertical-align: middle;\n    }\n\n    .dataframe tbody tr th {\n        vertical-align: top;\n    }\n\n    .dataframe thead th {\n        text-align: right;\n    }\n</style>\n<table border=\"1\" class=\"dataframe\">\n  <thead>\n    <tr style=\"text-align: right;\">\n      <th></th>\n      <th>sentence</th>\n      <th>deid_entity_label</th>\n      <th>deid_same_length</th>\n      <th>deid_fixed_length</th>\n    </tr>\n  </thead>\n  <tbody>\n    <tr>\n      <th>0</th>\n      <td>Record date : 2093-01-13 , David Hale , M.D .</td>\n      <td>Record date : &lt;DATE&gt; , &lt;NAME&gt; , M.D .</td>\n      <td>Record date : [********] , [********] , M.D .</td>\n      <td>Record date : **** , **** , M.D .</td>\n    </tr>\n    <tr>\n      <th>1</th>\n      <td>, Name : Hendrickson Ora , MR # 7194334 Date : 01/13/93 .</td>\n      <td>, Name : &lt;NAME&gt; , MR # &lt;ID&gt; Date : &lt;DATE&gt; .</td>\n      <td>, Name : [*************] , MR # [*****] Date : [******] .</td>\n      <td>, Name : **** , MR # **** Date : **** .</td>\n    </tr>\n    <tr>\n      <th>2</th>\n      <td>PCP : Oliveira , 25 years-old , Record date : 2079-11-09 .</td>\n      <td>PCP : &lt;NAME&gt; , &lt;AGE&gt; years-old , Record date : &lt;DATE&gt; .</td>\n      <td>PCP : [******] , ** years-old , Record date : [********] .</td>\n      <td>PCP : **** , **** years-old , Record date : **** .</td>\n    </tr>\n    <tr>\n      <th>3</th>\n      <td>Cocke County Baptist Hospital , 0295 Keats Street , Phone 55-555-5555 .</td>\n      <td>&lt;LOCATION&gt; , &lt;LOCATION&gt; , Phone &lt;CONTACT&gt; .</td>\n      <td>[***************************] , [***************] , Phone [*********] .</td>\n      <td>**** , **** , Phone **** .</td>\n    </tr>\n  </tbody>\n</table>\n</div>",
       "datasetInfos": [],
       "metadata": {},
       "removedWidgets": [],
       "textData": null,
       "type": "htmlSandbox"
      }
     },
     "output_type": "display_data"
    }
   ],
   "source": [
    "policy_result.select(F.explode(F.arrays_zip(policy_result.sentence.result, \n",
    "                                            policy_result.deid_entity_label.result, \n",
    "                                            policy_result.deid_same_length.result, \n",
    "                                            policy_result.deid_fixed_length.result)).alias(\"cols\"))\\\n",
    "             .select(F.expr(\"cols['0']\").alias(\"sentence\"),\n",
    "                     F.expr(\"cols['1']\").alias(\"deid_entity_label\"),\n",
    "                     F.expr(\"cols['2']\").alias(\"deid_same_length\"),\n",
    "                     F.expr(\"cols['3']\").alias(\"deid_fixed_length\")).toPandas()"
   ]
  },
  {
   "cell_type": "markdown",
   "metadata": {
    "application/vnd.databricks.v1+cell": {
     "cellMetadata": {},
     "inputWidgets": {},
     "nuid": "e9f29561-9769-4b21-b05a-fd4372ae537e",
     "showTitle": false,
     "title": ""
    },
    "id": "yxv9bu4Ifweb"
   },
   "source": [
    "### Mapping Column"
   ]
  },
  {
   "cell_type": "code",
   "execution_count": 0,
   "metadata": {
    "application/vnd.databricks.v1+cell": {
     "cellMetadata": {
      "byteLimit": 2048000,
      "rowLimit": 10000
     },
     "inputWidgets": {},
     "nuid": "20d2e9e4-5c92-4eb9-a188-e46196d5f857",
     "showTitle": false,
     "title": ""
    },
    "colab": {
     "base_uri": "https://localhost:8080/"
    },
    "id": "zcaXaxRFd-n6",
    "outputId": "bf1ef8c4-d2da-4b3e-8f1e-1122927dc56e"
   },
   "outputs": [
    {
     "output_type": "display_data",
     "data": {
      "text/html": [
       "<style scoped>\n",
       "  .ansiout {\n",
       "    display: block;\n",
       "    unicode-bidi: embed;\n",
       "    white-space: pre-wrap;\n",
       "    word-wrap: break-word;\n",
       "    word-break: break-all;\n",
       "    font-family: \"Source Code Pro\", \"Menlo\", monospace;;\n",
       "    font-size: 13px;\n",
       "    color: #555;\n",
       "    margin-left: 4px;\n",
       "    line-height: 19px;\n",
       "  }\n",
       "</style>\n",
       "<div class=\"ansiout\">+--------------------------------------------------------------------------------------------------------------------------------------------------------------------------------------------------------------------------------------------------------------------------------------------------------------------------------------------------------------------------------------------------------------------------------------------------------------------------------------------------------------------------------------------------------------------------------------------------------------------------------------------------------------------------------------------------------------------------------------------------------------------------------------------------------------------------------------------------------------------------------------------------------------------------------------------------------------------------------------------------------------------------------------------------------------------------------------------------------------------------------------------------------------------------------------------------------------------------------------------------------------------------------------------------------------------------------------------------------------------------------------------------------------------------------------------------------------------------------------------------------------------------------------------------------------------------------------------------------------------------------------------------------------------------------------------------------------------------------------------------------------------------------------------------------------------------------------------------------------------------------------------------------------------------------------------------------------------------------------------------------------------------------------------------------------------------------------------------------------------------------------------------------------------------------------------------------------------------------------------------------------------------------------------------------------------------------------------+\n",
       "aux                                                                                                                                                                                                                                                                                                                                                                                                                                                                                                                                                                                                                                                                                                                                                                                                                                                                                                                                                                                                                                                                                                                                                                                                                                                                                                                                                                                                                                                                                                                                                                                                                                                                                                                                                                                                                                                                                                                                                                                                                                                                                                                                                                                                                                                                                                                                         |\n",
       "+--------------------------------------------------------------------------------------------------------------------------------------------------------------------------------------------------------------------------------------------------------------------------------------------------------------------------------------------------------------------------------------------------------------------------------------------------------------------------------------------------------------------------------------------------------------------------------------------------------------------------------------------------------------------------------------------------------------------------------------------------------------------------------------------------------------------------------------------------------------------------------------------------------------------------------------------------------------------------------------------------------------------------------------------------------------------------------------------------------------------------------------------------------------------------------------------------------------------------------------------------------------------------------------------------------------------------------------------------------------------------------------------------------------------------------------------------------------------------------------------------------------------------------------------------------------------------------------------------------------------------------------------------------------------------------------------------------------------------------------------------------------------------------------------------------------------------------------------------------------------------------------------------------------------------------------------------------------------------------------------------------------------------------------------------------------------------------------------------------------------------------------------------------------------------------------------------------------------------------------------------------------------------------------------------------------------------------------------+\n",
       "[{chunk, 14, 19, &lt;DATE&gt;, {originalChunk -&gt; 2093-01-13, chunk -&gt; 0, beginOriginalChunk -&gt; 15, confidence -&gt; 1.0, ner_source -&gt; ner_chunk, entity -&gt; DATE, endOriginalChunk -&gt; 24, sentence -&gt; 0}, []}, {chunk, 23, 28, &lt;NAME&gt;, {originalChunk -&gt; David Hale, chunk -&gt; 1, beginOriginalChunk -&gt; 28, confidence -&gt; 0.99665, ner_source -&gt; ner_chunk, entity -&gt; NAME, endOriginalChunk -&gt; 37, sentence -&gt; 0}, []}, {chunk, 46, 51, &lt;NAME&gt;, {originalChunk -&gt; Hendrickson Ora, chunk -&gt; 2, beginOriginalChunk -&gt; 56, confidence -&gt; 0.99315, ner_source -&gt; ner_chunk, entity -&gt; NAME, endOriginalChunk -&gt; 70, sentence -&gt; 1}, []}, {chunk, 60, 63, &lt;ID&gt;, {originalChunk -&gt; 7194334, chunk -&gt; 3, beginOriginalChunk -&gt; 79, confidence -&gt; 0.9998, ner_source -&gt; ner_chunk, entity -&gt; ID, endOriginalChunk -&gt; 85, sentence -&gt; 1}, []}, {chunk, 72, 77, &lt;DATE&gt;, {originalChunk -&gt; 01/13/93, chunk -&gt; 4, beginOriginalChunk -&gt; 94, confidence -&gt; 1.0, ner_source -&gt; ner_chunk, entity -&gt; DATE, endOriginalChunk -&gt; 101, sentence -&gt; 1}, []}, {chunk, 86, 91, &lt;NAME&gt;, {originalChunk -&gt; Oliveira, chunk -&gt; 5, beginOriginalChunk -&gt; 111, confidence -&gt; 0.9975, ner_source -&gt; ner_chunk, entity -&gt; NAME, endOriginalChunk -&gt; 118, sentence -&gt; 2}, []}, {chunk, 95, 99, &lt;AGE&gt;, {originalChunk -&gt; 25, chunk -&gt; 6, beginOriginalChunk -&gt; 122, confidence -&gt; 0.6737, ner_source -&gt; ner_chunk, entity -&gt; AGE, endOriginalChunk -&gt; 123, sentence -&gt; 2}, []}, {chunk, 127, 132, &lt;DATE&gt;, {originalChunk -&gt; 2079-11-09, chunk -&gt; 7, beginOriginalChunk -&gt; 151, confidence -&gt; 1.0, ner_source -&gt; ner_chunk, entity -&gt; DATE, endOriginalChunk -&gt; 160, sentence -&gt; 2}, []}, {chunk, 135, 144, &lt;LOCATION&gt;, {originalChunk -&gt; Cocke County Baptist Hospital, chunk -&gt; 8, beginOriginalChunk -&gt; 164, confidence -&gt; 0.96070004, ner_source -&gt; ner_chunk, entity -&gt; LOCATION, endOriginalChunk -&gt; 192, sentence -&gt; 3}, []}, {chunk, 148, 157, &lt;LOCATION&gt;, {originalChunk -&gt; 0295 Keats Street, chunk -&gt; 9, beginOriginalChunk -&gt; 196, confidence -&gt; 0.8911, ner_source -&gt; ner_chunk, entity -&gt; LOCATION, endOriginalChunk -&gt; 212, sentence -&gt; 3}, []}, {chunk, 167, 175, &lt;CONTACT&gt;, {originalChunk -&gt; 55-555-5555, chunk -&gt; 10, beginOriginalChunk -&gt; 222, confidence -&gt; 0.9998, ner_source -&gt; ner_chunk, entity -&gt; CONTACT, endOriginalChunk -&gt; 232, sentence -&gt; 3}, []}]|\n",
       "+--------------------------------------------------------------------------------------------------------------------------------------------------------------------------------------------------------------------------------------------------------------------------------------------------------------------------------------------------------------------------------------------------------------------------------------------------------------------------------------------------------------------------------------------------------------------------------------------------------------------------------------------------------------------------------------------------------------------------------------------------------------------------------------------------------------------------------------------------------------------------------------------------------------------------------------------------------------------------------------------------------------------------------------------------------------------------------------------------------------------------------------------------------------------------------------------------------------------------------------------------------------------------------------------------------------------------------------------------------------------------------------------------------------------------------------------------------------------------------------------------------------------------------------------------------------------------------------------------------------------------------------------------------------------------------------------------------------------------------------------------------------------------------------------------------------------------------------------------------------------------------------------------------------------------------------------------------------------------------------------------------------------------------------------------------------------------------------------------------------------------------------------------------------------------------------------------------------------------------------------------------------------------------------------------------------------------------------------+\n",
       "\n",
       "</div>"
      ]
     },
     "metadata": {
      "application/vnd.databricks.v1+output": {
       "addedWidgets": {},
       "arguments": {},
       "data": "<div class=\"ansiout\">+--------------------------------------------------------------------------------------------------------------------------------------------------------------------------------------------------------------------------------------------------------------------------------------------------------------------------------------------------------------------------------------------------------------------------------------------------------------------------------------------------------------------------------------------------------------------------------------------------------------------------------------------------------------------------------------------------------------------------------------------------------------------------------------------------------------------------------------------------------------------------------------------------------------------------------------------------------------------------------------------------------------------------------------------------------------------------------------------------------------------------------------------------------------------------------------------------------------------------------------------------------------------------------------------------------------------------------------------------------------------------------------------------------------------------------------------------------------------------------------------------------------------------------------------------------------------------------------------------------------------------------------------------------------------------------------------------------------------------------------------------------------------------------------------------------------------------------------------------------------------------------------------------------------------------------------------------------------------------------------------------------------------------------------------------------------------------------------------------------------------------------------------------------------------------------------------------------------------------------------------------------------------------------------------------------------------------------------------+\n|aux                                                                                                                                                                                                                                                                                                                                                                                                                                                                                                                                                                                                                                                                                                                                                                                                                                                                                                                                                                                                                                                                                                                                                                                                                                                                                                                                                                                                                                                                                                                                                                                                                                                                                                                                                                                                                                                                                                                                                                                                                                                                                                                                                                                                                                                                                                                                         |\n+--------------------------------------------------------------------------------------------------------------------------------------------------------------------------------------------------------------------------------------------------------------------------------------------------------------------------------------------------------------------------------------------------------------------------------------------------------------------------------------------------------------------------------------------------------------------------------------------------------------------------------------------------------------------------------------------------------------------------------------------------------------------------------------------------------------------------------------------------------------------------------------------------------------------------------------------------------------------------------------------------------------------------------------------------------------------------------------------------------------------------------------------------------------------------------------------------------------------------------------------------------------------------------------------------------------------------------------------------------------------------------------------------------------------------------------------------------------------------------------------------------------------------------------------------------------------------------------------------------------------------------------------------------------------------------------------------------------------------------------------------------------------------------------------------------------------------------------------------------------------------------------------------------------------------------------------------------------------------------------------------------------------------------------------------------------------------------------------------------------------------------------------------------------------------------------------------------------------------------------------------------------------------------------------------------------------------------------------+\n|[{chunk, 14, 19, &lt;DATE&gt;, {originalChunk -&gt; 2093-01-13, chunk -&gt; 0, beginOriginalChunk -&gt; 15, confidence -&gt; 1.0, ner_source -&gt; ner_chunk, entity -&gt; DATE, endOriginalChunk -&gt; 24, sentence -&gt; 0}, []}, {chunk, 23, 28, &lt;NAME&gt;, {originalChunk -&gt; David Hale, chunk -&gt; 1, beginOriginalChunk -&gt; 28, confidence -&gt; 0.99665, ner_source -&gt; ner_chunk, entity -&gt; NAME, endOriginalChunk -&gt; 37, sentence -&gt; 0}, []}, {chunk, 46, 51, &lt;NAME&gt;, {originalChunk -&gt; Hendrickson Ora, chunk -&gt; 2, beginOriginalChunk -&gt; 56, confidence -&gt; 0.99315, ner_source -&gt; ner_chunk, entity -&gt; NAME, endOriginalChunk -&gt; 70, sentence -&gt; 1}, []}, {chunk, 60, 63, &lt;ID&gt;, {originalChunk -&gt; 7194334, chunk -&gt; 3, beginOriginalChunk -&gt; 79, confidence -&gt; 0.9998, ner_source -&gt; ner_chunk, entity -&gt; ID, endOriginalChunk -&gt; 85, sentence -&gt; 1}, []}, {chunk, 72, 77, &lt;DATE&gt;, {originalChunk -&gt; 01/13/93, chunk -&gt; 4, beginOriginalChunk -&gt; 94, confidence -&gt; 1.0, ner_source -&gt; ner_chunk, entity -&gt; DATE, endOriginalChunk -&gt; 101, sentence -&gt; 1}, []}, {chunk, 86, 91, &lt;NAME&gt;, {originalChunk -&gt; Oliveira, chunk -&gt; 5, beginOriginalChunk -&gt; 111, confidence -&gt; 0.9975, ner_source -&gt; ner_chunk, entity -&gt; NAME, endOriginalChunk -&gt; 118, sentence -&gt; 2}, []}, {chunk, 95, 99, &lt;AGE&gt;, {originalChunk -&gt; 25, chunk -&gt; 6, beginOriginalChunk -&gt; 122, confidence -&gt; 0.6737, ner_source -&gt; ner_chunk, entity -&gt; AGE, endOriginalChunk -&gt; 123, sentence -&gt; 2}, []}, {chunk, 127, 132, &lt;DATE&gt;, {originalChunk -&gt; 2079-11-09, chunk -&gt; 7, beginOriginalChunk -&gt; 151, confidence -&gt; 1.0, ner_source -&gt; ner_chunk, entity -&gt; DATE, endOriginalChunk -&gt; 160, sentence -&gt; 2}, []}, {chunk, 135, 144, &lt;LOCATION&gt;, {originalChunk -&gt; Cocke County Baptist Hospital, chunk -&gt; 8, beginOriginalChunk -&gt; 164, confidence -&gt; 0.96070004, ner_source -&gt; ner_chunk, entity -&gt; LOCATION, endOriginalChunk -&gt; 192, sentence -&gt; 3}, []}, {chunk, 148, 157, &lt;LOCATION&gt;, {originalChunk -&gt; 0295 Keats Street, chunk -&gt; 9, beginOriginalChunk -&gt; 196, confidence -&gt; 0.8911, ner_source -&gt; ner_chunk, entity -&gt; LOCATION, endOriginalChunk -&gt; 212, sentence -&gt; 3}, []}, {chunk, 167, 175, &lt;CONTACT&gt;, {originalChunk -&gt; 55-555-5555, chunk -&gt; 10, beginOriginalChunk -&gt; 222, confidence -&gt; 0.9998, ner_source -&gt; ner_chunk, entity -&gt; CONTACT, endOriginalChunk -&gt; 232, sentence -&gt; 3}, []}]|\n+--------------------------------------------------------------------------------------------------------------------------------------------------------------------------------------------------------------------------------------------------------------------------------------------------------------------------------------------------------------------------------------------------------------------------------------------------------------------------------------------------------------------------------------------------------------------------------------------------------------------------------------------------------------------------------------------------------------------------------------------------------------------------------------------------------------------------------------------------------------------------------------------------------------------------------------------------------------------------------------------------------------------------------------------------------------------------------------------------------------------------------------------------------------------------------------------------------------------------------------------------------------------------------------------------------------------------------------------------------------------------------------------------------------------------------------------------------------------------------------------------------------------------------------------------------------------------------------------------------------------------------------------------------------------------------------------------------------------------------------------------------------------------------------------------------------------------------------------------------------------------------------------------------------------------------------------------------------------------------------------------------------------------------------------------------------------------------------------------------------------------------------------------------------------------------------------------------------------------------------------------------------------------------------------------------------------------------------------+\n\n</div>",
       "datasetInfos": [],
       "metadata": {},
       "removedWidgets": [],
       "type": "html"
      }
     },
     "output_type": "display_data"
    }
   ],
   "source": [
    "result.select(\"aux\").show(truncate=False)"
   ]
  },
  {
   "cell_type": "code",
   "execution_count": 0,
   "metadata": {
    "application/vnd.databricks.v1+cell": {
     "cellMetadata": {
      "byteLimit": 2048000,
      "rowLimit": 10000
     },
     "inputWidgets": {},
     "nuid": "204d1b5e-94f0-409a-9ed3-e359cb573cce",
     "showTitle": false,
     "title": ""
    },
    "colab": {
     "base_uri": "https://localhost:8080/"
    },
    "id": "rF1YR12bb7U3",
    "outputId": "ba337ab4-b159-4a67-c858-d69eefc0d95c"
   },
   "outputs": [
    {
     "output_type": "display_data",
     "data": {
      "text/html": [
       "<style scoped>\n",
       "  .ansiout {\n",
       "    display: block;\n",
       "    unicode-bidi: embed;\n",
       "    white-space: pre-wrap;\n",
       "    word-wrap: break-word;\n",
       "    word-break: break-all;\n",
       "    font-family: \"Source Code Pro\", \"Menlo\", monospace;;\n",
       "    font-size: 13px;\n",
       "    color: #555;\n",
       "    margin-left: 4px;\n",
       "    line-height: 19px;\n",
       "  }\n",
       "</style>\n",
       "<div class=\"ansiout\">+-----------------------------+----------+--------+----------+----------+--------+\n",
       "chunk                        |beginChunk|endChunk|label     |beginLabel|endLabel|\n",
       "+-----------------------------+----------+--------+----------+----------+--------+\n",
       "2093-01-13                   |15        |24      |&lt;DATE&gt;    |14        |19      |\n",
       "David Hale                   |28        |37      |&lt;NAME&gt;    |23        |28      |\n",
       "Hendrickson Ora              |56        |70      |&lt;NAME&gt;    |46        |51      |\n",
       "7194334                      |79        |85      |&lt;ID&gt;      |60        |63      |\n",
       "01/13/93                     |94        |101     |&lt;DATE&gt;    |72        |77      |\n",
       "Oliveira                     |111       |118     |&lt;NAME&gt;    |86        |91      |\n",
       "25                           |122       |123     |&lt;AGE&gt;     |95        |99      |\n",
       "2079-11-09                   |151       |160     |&lt;DATE&gt;    |127       |132     |\n",
       "Cocke County Baptist Hospital|164       |192     |&lt;LOCATION&gt;|135       |144     |\n",
       "0295 Keats Street            |196       |212     |&lt;LOCATION&gt;|148       |157     |\n",
       "55-555-5555                  |222       |232     |&lt;CONTACT&gt; |167       |175     |\n",
       "+-----------------------------+----------+--------+----------+----------+--------+\n",
       "\n",
       "</div>"
      ]
     },
     "metadata": {
      "application/vnd.databricks.v1+output": {
       "addedWidgets": {},
       "arguments": {},
       "data": "<div class=\"ansiout\">+-----------------------------+----------+--------+----------+----------+--------+\n|chunk                        |beginChunk|endChunk|label     |beginLabel|endLabel|\n+-----------------------------+----------+--------+----------+----------+--------+\n|2093-01-13                   |15        |24      |&lt;DATE&gt;    |14        |19      |\n|David Hale                   |28        |37      |&lt;NAME&gt;    |23        |28      |\n|Hendrickson Ora              |56        |70      |&lt;NAME&gt;    |46        |51      |\n|7194334                      |79        |85      |&lt;ID&gt;      |60        |63      |\n|01/13/93                     |94        |101     |&lt;DATE&gt;    |72        |77      |\n|Oliveira                     |111       |118     |&lt;NAME&gt;    |86        |91      |\n|25                           |122       |123     |&lt;AGE&gt;     |95        |99      |\n|2079-11-09                   |151       |160     |&lt;DATE&gt;    |127       |132     |\n|Cocke County Baptist Hospital|164       |192     |&lt;LOCATION&gt;|135       |144     |\n|0295 Keats Street            |196       |212     |&lt;LOCATION&gt;|148       |157     |\n|55-555-5555                  |222       |232     |&lt;CONTACT&gt; |167       |175     |\n+-----------------------------+----------+--------+----------+----------+--------+\n\n</div>",
       "datasetInfos": [],
       "metadata": {},
       "removedWidgets": [],
       "type": "html"
      }
     },
     "output_type": "display_data"
    }
   ],
   "source": [
    "result.select(F.explode(F.arrays_zip(result.aux.metadata, result.aux.result, result.aux.begin, result.aux.end)).alias(\"cols\")) \\\n",
    "      .select(F.expr(\"cols['0']['originalChunk']\").alias(\"chunk\"),\n",
    "              F.expr(\"cols['0']['beginOriginalChunk']\").alias(\"beginChunk\"),\n",
    "              F.expr(\"cols['0']['endOriginalChunk']\").alias(\"endChunk\"),\n",
    "              F.expr(\"cols['1']\").alias(\"label\"),\n",
    "              F.expr(\"cols['2']\").alias(\"beginLabel\"),\n",
    "              F.expr(\"cols['3']\").alias(\"endLabel\"),\n",
    "              ).show(truncate=False)"
   ]
  },
  {
   "cell_type": "markdown",
   "metadata": {
    "application/vnd.databricks.v1+cell": {
     "cellMetadata": {},
     "inputWidgets": {},
     "nuid": "68c029c6-a73e-464e-a83f-79b4e3749ce2",
     "showTitle": false,
     "title": ""
    },
    "id": "Kz7YLxOlpJPQ"
   },
   "source": [
    "## Reidentification\n",
    "\n",
    "We can use `ReIdentification` annotator to go back to the original sentence."
   ]
  },
  {
   "cell_type": "code",
   "execution_count": 0,
   "metadata": {
    "application/vnd.databricks.v1+cell": {
     "cellMetadata": {
      "byteLimit": 2048000,
      "rowLimit": 10000
     },
     "inputWidgets": {},
     "nuid": "0260cd9a-2f3d-45f2-af4b-0b837025a397",
     "showTitle": false,
     "title": ""
    },
    "id": "7HMTqWaApIw3"
   },
   "outputs": [
    {
     "output_type": "display_data",
     "data": {
      "text/html": [
       "<style scoped>\n",
       "  .ansiout {\n",
       "    display: block;\n",
       "    unicode-bidi: embed;\n",
       "    white-space: pre-wrap;\n",
       "    word-wrap: break-word;\n",
       "    word-break: break-all;\n",
       "    font-family: \"Source Code Pro\", \"Menlo\", monospace;;\n",
       "    font-size: 13px;\n",
       "    color: #555;\n",
       "    margin-left: 4px;\n",
       "    line-height: 19px;\n",
       "  }\n",
       "</style>\n",
       "<div class=\"ansiout\"></div>"
      ]
     },
     "metadata": {
      "application/vnd.databricks.v1+output": {
       "addedWidgets": {},
       "arguments": {},
       "data": "<div class=\"ansiout\"></div>",
       "datasetInfos": [],
       "metadata": {},
       "removedWidgets": [],
       "type": "html"
      }
     },
     "output_type": "display_data"
    }
   ],
   "source": [
    "reIdentification = medical.ReIdentification()\\\n",
    "     .setInputCols([\"aux\",\"deidentified\"])\\\n",
    "     .setOutputCol(\"original\")"
   ]
  },
  {
   "cell_type": "code",
   "execution_count": 0,
   "metadata": {
    "application/vnd.databricks.v1+cell": {
     "cellMetadata": {
      "byteLimit": 2048000,
      "rowLimit": 10000
     },
     "inputWidgets": {},
     "nuid": "a9c58197-a1c4-4be3-987b-4e764c7dbc91",
     "showTitle": false,
     "title": ""
    },
    "id": "Etn6kW6hqJGx"
   },
   "outputs": [
    {
     "output_type": "display_data",
     "data": {
      "text/html": [
       "<style scoped>\n",
       "  .ansiout {\n",
       "    display: block;\n",
       "    unicode-bidi: embed;\n",
       "    white-space: pre-wrap;\n",
       "    word-wrap: break-word;\n",
       "    word-break: break-all;\n",
       "    font-family: \"Source Code Pro\", \"Menlo\", monospace;;\n",
       "    font-size: 13px;\n",
       "    color: #555;\n",
       "    margin-left: 4px;\n",
       "    line-height: 19px;\n",
       "  }\n",
       "</style>\n",
       "<div class=\"ansiout\"></div>"
      ]
     },
     "metadata": {
      "application/vnd.databricks.v1+output": {
       "addedWidgets": {},
       "arguments": {},
       "data": "<div class=\"ansiout\"></div>",
       "datasetInfos": [],
       "metadata": {},
       "removedWidgets": [],
       "type": "html"
      }
     },
     "output_type": "display_data"
    }
   ],
   "source": [
    "reid_result = reIdentification.transform(result)"
   ]
  },
  {
   "cell_type": "code",
   "execution_count": 0,
   "metadata": {
    "application/vnd.databricks.v1+cell": {
     "cellMetadata": {
      "byteLimit": 2048000,
      "rowLimit": 10000
     },
     "inputWidgets": {},
     "nuid": "570b718d-4c0f-404f-b0f6-0a42a06f26d8",
     "showTitle": false,
     "title": ""
    },
    "colab": {
     "base_uri": "https://localhost:8080/"
    },
    "id": "vGLfKOGGqSwy",
    "outputId": "3782c2f3-d021-4159-ef98-af6c2bcec718"
   },
   "outputs": [
    {
     "output_type": "display_data",
     "data": {
      "text/html": [
       "<style scoped>\n",
       "  .ansiout {\n",
       "    display: block;\n",
       "    unicode-bidi: embed;\n",
       "    white-space: pre-wrap;\n",
       "    word-wrap: break-word;\n",
       "    word-break: break-all;\n",
       "    font-family: \"Source Code Pro\", \"Menlo\", monospace;;\n",
       "    font-size: 13px;\n",
       "    color: #555;\n",
       "    margin-left: 4px;\n",
       "    line-height: 19px;\n",
       "  }\n",
       "</style>\n",
       "<div class=\"ansiout\">+--------------------+--------------------+--------------------+--------------------+--------------------+--------------------+--------------------+--------------------+--------------------+--------------------+\n",
       "                text|            document|            sentence|               token|          embeddings|                 ner|           ner_chunk|        deidentified|                 aux|            original|\n",
       "+--------------------+--------------------+--------------------+--------------------+--------------------+--------------------+--------------------+--------------------+--------------------+--------------------+\n",
       "\\nRecord date : 2...|[{document, 0, 23...|[{document, 1, 45...|[{token, 1, 6, Re...|[{word_embeddings...|[{named_entity, 1...|[{chunk, 15, 24, ...|[{document, 0, 36...|[{chunk, 14, 19, ...|[{document, 1, 45...|\n",
       "+--------------------+--------------------+--------------------+--------------------+--------------------+--------------------+--------------------+--------------------+--------------------+--------------------+\n",
       "\n",
       "</div>"
      ]
     },
     "metadata": {
      "application/vnd.databricks.v1+output": {
       "addedWidgets": {},
       "arguments": {},
       "data": "<div class=\"ansiout\">+--------------------+--------------------+--------------------+--------------------+--------------------+--------------------+--------------------+--------------------+--------------------+--------------------+\n|                text|            document|            sentence|               token|          embeddings|                 ner|           ner_chunk|        deidentified|                 aux|            original|\n+--------------------+--------------------+--------------------+--------------------+--------------------+--------------------+--------------------+--------------------+--------------------+--------------------+\n|\\nRecord date : 2...|[{document, 0, 23...|[{document, 1, 45...|[{token, 1, 6, Re...|[{word_embeddings...|[{named_entity, 1...|[{chunk, 15, 24, ...|[{document, 0, 36...|[{chunk, 14, 19, ...|[{document, 1, 45...|\n+--------------------+--------------------+--------------------+--------------------+--------------------+--------------------+--------------------+--------------------+--------------------+--------------------+\n\n</div>",
       "datasetInfos": [],
       "metadata": {},
       "removedWidgets": [],
       "type": "html"
      }
     },
     "output_type": "display_data"
    }
   ],
   "source": [
    "reid_result.show()"
   ]
  },
  {
   "cell_type": "code",
   "execution_count": 0,
   "metadata": {
    "application/vnd.databricks.v1+cell": {
     "cellMetadata": {
      "byteLimit": 2048000,
      "rowLimit": 10000
     },
     "inputWidgets": {},
     "nuid": "d5d6c7a0-dc08-4f2a-bb5d-272aeae8696c",
     "showTitle": false,
     "title": ""
    },
    "colab": {
     "base_uri": "https://localhost:8080/"
    },
    "id": "cfhFb1aOcFgI",
    "outputId": "de553918-681e-425f-c601-65066a960163"
   },
   "outputs": [
    {
     "output_type": "display_data",
     "data": {
      "text/html": [
       "<style scoped>\n",
       "  .ansiout {\n",
       "    display: block;\n",
       "    unicode-bidi: embed;\n",
       "    white-space: pre-wrap;\n",
       "    word-wrap: break-word;\n",
       "    word-break: break-all;\n",
       "    font-family: \"Source Code Pro\", \"Menlo\", monospace;;\n",
       "    font-size: 13px;\n",
       "    color: #555;\n",
       "    margin-left: 4px;\n",
       "    line-height: 19px;\n",
       "  }\n",
       "</style>\n",
       "<div class=\"ansiout\">\n",
       "Record date : 2093-01-13 , David Hale , M.D . , Name : Hendrickson Ora , MR # 7194334 Date : 01/13/93 . PCP : Oliveira , 25 years-old , Record date : 2079-11-09 . Cocke County Baptist Hospital , 0295 Keats Street , Phone 55-555-5555 .\n",
       "\n",
       "+-----------------------------------------------------------------------------------------------------------------------------------------------------------------------------------------------------------------------------------------------+\n",
       "result                                                                                                                                                                                                                                         |\n",
       "+-----------------------------------------------------------------------------------------------------------------------------------------------------------------------------------------------------------------------------------------------+\n",
       "[Record date : 2093-01-13 , David Hale , M.D ., , Name : Hendrickson Ora , MR # 7194334 Date : 01/13/93 ., PCP : Oliveira , 25 years-old , Record date : 2079-11-09 ., Cocke County Baptist Hospital , 0295 Keats Street , Phone 55-555-5555 .]|\n",
       "+-----------------------------------------------------------------------------------------------------------------------------------------------------------------------------------------------------------------------------------------------+\n",
       "\n",
       "</div>"
      ]
     },
     "metadata": {
      "application/vnd.databricks.v1+output": {
       "addedWidgets": {},
       "arguments": {},
       "data": "<div class=\"ansiout\">\nRecord date : 2093-01-13 , David Hale , M.D . , Name : Hendrickson Ora , MR # 7194334 Date : 01/13/93 . PCP : Oliveira , 25 years-old , Record date : 2079-11-09 . Cocke County Baptist Hospital , 0295 Keats Street , Phone 55-555-5555 .\n\n+-----------------------------------------------------------------------------------------------------------------------------------------------------------------------------------------------------------------------------------------------+\n|result                                                                                                                                                                                                                                         |\n+-----------------------------------------------------------------------------------------------------------------------------------------------------------------------------------------------------------------------------------------------+\n|[Record date : 2093-01-13 , David Hale , M.D ., , Name : Hendrickson Ora , MR # 7194334 Date : 01/13/93 ., PCP : Oliveira , 25 years-old , Record date : 2079-11-09 ., Cocke County Baptist Hospital , 0295 Keats Street , Phone 55-555-5555 .]|\n+-----------------------------------------------------------------------------------------------------------------------------------------------------------------------------------------------------------------------------------------------+\n\n</div>",
       "datasetInfos": [],
       "metadata": {},
       "removedWidgets": [],
       "type": "html"
      }
     },
     "output_type": "display_data"
    }
   ],
   "source": [
    "print(text)\n",
    "\n",
    "reid_result.select('original.result').show(truncate=False)"
   ]
  },
  {
   "cell_type": "markdown",
   "metadata": {
    "application/vnd.databricks.v1+cell": {
     "cellMetadata": {},
     "inputWidgets": {},
     "nuid": "1977eff1-c44a-4301-a640-7233421f423c",
     "showTitle": false,
     "title": ""
    },
    "id": "OSKDCxV0NEJc"
   },
   "source": [
    "## Using multiple NER in the same pipeline"
   ]
  },
  {
   "cell_type": "code",
   "execution_count": 0,
   "metadata": {
    "application/vnd.databricks.v1+cell": {
     "cellMetadata": {
      "byteLimit": 2048000,
      "rowLimit": 10000
     },
     "inputWidgets": {},
     "nuid": "8c4e536e-a3db-4845-a209-43c838f687a9",
     "showTitle": false,
     "title": ""
    },
    "colab": {
     "base_uri": "https://localhost:8080/"
    },
    "id": "7lF9lrIWNJMi",
    "outputId": "b86e26e9-3160-4acc-eb35-be067be13bc0"
   },
   "outputs": [
    {
     "output_type": "display_data",
     "data": {
      "text/html": [
       "<style scoped>\n",
       "  .ansiout {\n",
       "    display: block;\n",
       "    unicode-bidi: embed;\n",
       "    white-space: pre-wrap;\n",
       "    word-wrap: break-word;\n",
       "    word-break: break-all;\n",
       "    font-family: \"Source Code Pro\", \"Menlo\", monospace;;\n",
       "    font-size: 13px;\n",
       "    color: #555;\n",
       "    margin-left: 4px;\n",
       "    line-height: 19px;\n",
       "  }\n",
       "</style>\n",
       "<div class=\"ansiout\">embeddings_clinical download started this may take some time.\n",
       "Approximate size to download 1.6 GB\n",
       "\r[ | ]\r[OK!]\n",
       "ner_deid_generic_augmented download started this may take some time.\n",
       "\r[ | ]\r[OK!]\n",
       "ner_deid_subentity_augmented download started this may take some time.\n",
       "\r[ | ]\r[ / ]\r[OK!]\n",
       "</div>"
      ]
     },
     "metadata": {
      "application/vnd.databricks.v1+output": {
       "addedWidgets": {},
       "arguments": {},
       "data": "<div class=\"ansiout\">embeddings_clinical download started this may take some time.\nApproximate size to download 1.6 GB\n\r[ | ]\r[OK!]\nner_deid_generic_augmented download started this may take some time.\n\r[ | ]\r[OK!]\nner_deid_subentity_augmented download started this may take some time.\n\r[ | ]\r[ / ]\r[OK!]\n</div>",
       "datasetInfos": [],
       "metadata": {},
       "removedWidgets": [],
       "type": "html"
      }
     },
     "output_type": "display_data"
    }
   ],
   "source": [
    "documentAssembler = nlp.DocumentAssembler()\\\n",
    "    .setInputCol(\"text\")\\\n",
    "    .setOutputCol(\"document\")\n",
    "\n",
    "sentenceDetector = nlp.SentenceDetector()\\\n",
    "    .setInputCols([\"document\"])\\\n",
    "    .setOutputCol(\"sentence\")\n",
    "\n",
    "tokenizer = nlp.Tokenizer()\\\n",
    "    .setInputCols([\"sentence\"])\\\n",
    "    .setOutputCol(\"token\")\n",
    "\n",
    "word_embeddings = nlp.WordEmbeddingsModel.pretrained(\"embeddings_clinical\", \"en\", \"clinical/models\")\\\n",
    "    .setInputCols([\"sentence\", \"token\"])\\\n",
    "    .setOutputCol(\"embeddings\")\n",
    "\n",
    "deid_ner = medical.NerModel.pretrained(\"ner_deid_generic_augmented\", \"en\", \"clinical/models\") \\\n",
    "    .setInputCols([\"sentence\", \"token\", \"embeddings\"]) \\\n",
    "    .setOutputCol(\"ner_generic\")\n",
    "\n",
    "ner_converter = medical.NerConverterInternal()\\\n",
    "    .setInputCols([\"sentence\", \"token\", \"ner_generic\"])\\\n",
    "    .setOutputCol(\"ner_generic_chunk\")\\\n",
    "    .setWhiteList(['ID', 'DATE', 'AGE', 'NAME', 'PROFESSION'])# CONTACT and LOCATION is removed\n",
    "\n",
    "deid_ner_enriched = medical.NerModel.pretrained(\"ner_deid_subentity_augmented\", \"en\", \"clinical/models\") \\\n",
    "    .setInputCols([\"sentence\", \"token\", \"embeddings\"]) \\\n",
    "    .setOutputCol(\"ner_subentity\")\n",
    "\n",
    "ner_converter_enriched = medical.NerConverterInternal() \\\n",
    "    .setInputCols([\"sentence\", \"token\", \"ner_subentity\"]) \\\n",
    "    .setOutputCol(\"ner_subentity_chunk\")\\\n",
    "    .setWhiteList(['COUNTRY', 'CITY', 'HOSPITAL', 'STATE', 'STREET', 'ZIP'])\n",
    "    # we can also add PATIENT and DOCTOR entities and remove NAME entity from the other NER model\n",
    "\n",
    "chunk_merge = medical.ChunkMergeApproach()\\\n",
    "    .setInputCols(\"ner_subentity_chunk\",\"ner_generic_chunk\")\\\n",
    "    .setOutputCol(\"deid_merged_chunk\")\n",
    "\n",
    "deidentification = medical.DeIdentification() \\\n",
    "    .setInputCols([\"sentence\", \"token\", \"deid_merged_chunk\"]) \\\n",
    "    .setOutputCol(\"deidentified\") \\\n",
    "    .setMode(\"mask\")\\\n",
    "    .setIgnoreRegex(True)\n",
    "\n",
    "\n",
    "nlpPipeline = nlp.Pipeline(stages=[\n",
    "      documentAssembler, \n",
    "      sentenceDetector,\n",
    "      tokenizer,\n",
    "      word_embeddings,\n",
    "      deid_ner,\n",
    "      ner_converter,\n",
    "      deid_ner_enriched,\n",
    "      ner_converter_enriched,\n",
    "      chunk_merge,\n",
    "      deidentification])\n",
    "\n",
    "empty_data = spark.createDataFrame([[\"\"]]).toDF(\"text\")\n",
    "\n",
    "model = nlpPipeline.fit(empty_data)"
   ]
  },
  {
   "cell_type": "code",
   "execution_count": 0,
   "metadata": {
    "application/vnd.databricks.v1+cell": {
     "cellMetadata": {
      "byteLimit": 2048000,
      "rowLimit": 10000
     },
     "inputWidgets": {},
     "nuid": "b0620bc0-2c8a-42c2-84d6-02a5b7f4dde1",
     "showTitle": false,
     "title": ""
    },
    "id": "b2rR2tTgP5N5"
   },
   "outputs": [
    {
     "output_type": "display_data",
     "data": {
      "text/html": [
       "<style scoped>\n",
       "  .ansiout {\n",
       "    display: block;\n",
       "    unicode-bidi: embed;\n",
       "    white-space: pre-wrap;\n",
       "    word-wrap: break-word;\n",
       "    word-break: break-all;\n",
       "    font-family: \"Source Code Pro\", \"Menlo\", monospace;;\n",
       "    font-size: 13px;\n",
       "    color: #555;\n",
       "    margin-left: 4px;\n",
       "    line-height: 19px;\n",
       "  }\n",
       "</style>\n",
       "<div class=\"ansiout\"></div>"
      ]
     },
     "metadata": {
      "application/vnd.databricks.v1+output": {
       "addedWidgets": {},
       "arguments": {},
       "data": "<div class=\"ansiout\"></div>",
       "datasetInfos": [],
       "metadata": {},
       "removedWidgets": [],
       "type": "html"
      }
     },
     "output_type": "display_data"
    }
   ],
   "source": [
    "text ='''\n",
    "Record date : 2093-01-13 , David Hale , M.D . , Name : Hendrickson Ora , MR # 7194334 Date : 01/13/93 . PCP : Oliveira , 25 years-old , Record date : 2079-11-09 . Cocke County Baptist Hospital , 0295 Keats Street , Phone 302-786-5227.\n",
    "'''"
   ]
  },
  {
   "cell_type": "code",
   "execution_count": 0,
   "metadata": {
    "application/vnd.databricks.v1+cell": {
     "cellMetadata": {
      "byteLimit": 2048000,
      "rowLimit": 10000
     },
     "inputWidgets": {},
     "nuid": "3653226d-d4b6-413f-be22-244f3c762146",
     "showTitle": false,
     "title": ""
    },
    "colab": {
     "base_uri": "https://localhost:8080/"
    },
    "id": "ByIjftyJd8iP",
    "outputId": "4e1d4c51-68d6-4b9f-ac46-7ef4c30e63ec"
   },
   "outputs": [
    {
     "output_type": "display_data",
     "data": {
      "text/html": [
       "<style scoped>\n",
       "  .ansiout {\n",
       "    display: block;\n",
       "    unicode-bidi: embed;\n",
       "    white-space: pre-wrap;\n",
       "    word-wrap: break-word;\n",
       "    word-break: break-all;\n",
       "    font-family: \"Source Code Pro\", \"Menlo\", monospace;;\n",
       "    font-size: 13px;\n",
       "    color: #555;\n",
       "    margin-left: 4px;\n",
       "    line-height: 19px;\n",
       "  }\n",
       "</style>\n",
       "<div class=\"ansiout\">+---------------+---------+\n",
       "chunk          |ner_label|\n",
       "+---------------+---------+\n",
       "2093-01-13     |DATE     |\n",
       "David Hale     |NAME     |\n",
       "Hendrickson Ora|NAME     |\n",
       "7194334        |ID       |\n",
       "01/13/93       |DATE     |\n",
       "Oliveira       |NAME     |\n",
       "25             |AGE      |\n",
       "2079-11-09     |DATE     |\n",
       "+---------------+---------+\n",
       "\n",
       "</div>"
      ]
     },
     "metadata": {
      "application/vnd.databricks.v1+output": {
       "addedWidgets": {},
       "arguments": {},
       "data": "<div class=\"ansiout\">+---------------+---------+\n|chunk          |ner_label|\n+---------------+---------+\n|2093-01-13     |DATE     |\n|David Hale     |NAME     |\n|Hendrickson Ora|NAME     |\n|7194334        |ID       |\n|01/13/93       |DATE     |\n|Oliveira       |NAME     |\n|25             |AGE      |\n|2079-11-09     |DATE     |\n+---------------+---------+\n\n</div>",
       "datasetInfos": [],
       "metadata": {},
       "removedWidgets": [],
       "type": "html"
      }
     },
     "output_type": "display_data"
    }
   ],
   "source": [
    "result = model.transform(spark.createDataFrame([[text]]).toDF(\"text\"))\n",
    "\n",
    "# ner_deid_generic_augmented\n",
    "result.select(F.explode(F.arrays_zip(result.ner_generic_chunk.result, result.ner_generic_chunk.metadata)).alias(\"cols\")) \\\n",
    "      .select(F.expr(\"cols['0']\").alias(\"chunk\"),\n",
    "              F.expr(\"cols['1']['entity']\").alias(\"ner_label\")).show(truncate=False)"
   ]
  },
  {
   "cell_type": "code",
   "execution_count": 0,
   "metadata": {
    "application/vnd.databricks.v1+cell": {
     "cellMetadata": {
      "byteLimit": 2048000,
      "rowLimit": 10000
     },
     "inputWidgets": {},
     "nuid": "aa1e0554-f790-44d4-a092-bb5260ea939a",
     "showTitle": false,
     "title": ""
    },
    "colab": {
     "base_uri": "https://localhost:8080/"
    },
    "id": "aKn2yotweUTS",
    "outputId": "73634633-58c9-4b85-9f47-1942dc943da1"
   },
   "outputs": [
    {
     "output_type": "display_data",
     "data": {
      "text/html": [
       "<style scoped>\n",
       "  .ansiout {\n",
       "    display: block;\n",
       "    unicode-bidi: embed;\n",
       "    white-space: pre-wrap;\n",
       "    word-wrap: break-word;\n",
       "    word-break: break-all;\n",
       "    font-family: \"Source Code Pro\", \"Menlo\", monospace;;\n",
       "    font-size: 13px;\n",
       "    color: #555;\n",
       "    margin-left: 4px;\n",
       "    line-height: 19px;\n",
       "  }\n",
       "</style>\n",
       "<div class=\"ansiout\">+-----------------------------+---------+\n",
       "chunk                        |ner_label|\n",
       "+-----------------------------+---------+\n",
       "Cocke County Baptist Hospital|HOSPITAL |\n",
       "0295 Keats Street            |STREET   |\n",
       "+-----------------------------+---------+\n",
       "\n",
       "</div>"
      ]
     },
     "metadata": {
      "application/vnd.databricks.v1+output": {
       "addedWidgets": {},
       "arguments": {},
       "data": "<div class=\"ansiout\">+-----------------------------+---------+\n|chunk                        |ner_label|\n+-----------------------------+---------+\n|Cocke County Baptist Hospital|HOSPITAL |\n|0295 Keats Street            |STREET   |\n+-----------------------------+---------+\n\n</div>",
       "datasetInfos": [],
       "metadata": {},
       "removedWidgets": [],
       "type": "html"
      }
     },
     "output_type": "display_data"
    }
   ],
   "source": [
    "# ner_deid_subentity_augmented\n",
    "result.select(F.explode(F.arrays_zip(result.ner_subentity_chunk.result, result.ner_subentity_chunk.metadata)).alias(\"cols\")) \\\n",
    "      .select(F.expr(\"cols['0']\").alias(\"chunk\"),\n",
    "              F.expr(\"cols['1']['entity']\").alias(\"ner_label\")).show(truncate=False)"
   ]
  },
  {
   "cell_type": "code",
   "execution_count": 0,
   "metadata": {
    "application/vnd.databricks.v1+cell": {
     "cellMetadata": {
      "byteLimit": 2048000,
      "rowLimit": 10000
     },
     "inputWidgets": {},
     "nuid": "e12ae999-dc28-40b3-abb1-f8253d6703a0",
     "showTitle": false,
     "title": ""
    },
    "colab": {
     "base_uri": "https://localhost:8080/"
    },
    "id": "ILAeyE39rudh",
    "outputId": "815b92c8-35b5-491b-f144-c2e7560fefa9"
   },
   "outputs": [
    {
     "output_type": "display_data",
     "data": {
      "text/html": [
       "<style scoped>\n",
       "  .ansiout {\n",
       "    display: block;\n",
       "    unicode-bidi: embed;\n",
       "    white-space: pre-wrap;\n",
       "    word-wrap: break-word;\n",
       "    word-break: break-all;\n",
       "    font-family: \"Source Code Pro\", \"Menlo\", monospace;;\n",
       "    font-size: 13px;\n",
       "    color: #555;\n",
       "    margin-left: 4px;\n",
       "    line-height: 19px;\n",
       "  }\n",
       "</style>\n",
       "<div class=\"ansiout\">+-----------------------------+---------+\n",
       "chunk                        |ner_label|\n",
       "+-----------------------------+---------+\n",
       "2093-01-13                   |DATE     |\n",
       "David Hale                   |NAME     |\n",
       "Hendrickson Ora              |NAME     |\n",
       "7194334                      |ID       |\n",
       "01/13/93                     |DATE     |\n",
       "Oliveira                     |NAME     |\n",
       "25                           |AGE      |\n",
       "2079-11-09                   |DATE     |\n",
       "Cocke County Baptist Hospital|HOSPITAL |\n",
       "0295 Keats Street            |STREET   |\n",
       "+-----------------------------+---------+\n",
       "\n",
       "</div>"
      ]
     },
     "metadata": {
      "application/vnd.databricks.v1+output": {
       "addedWidgets": {},
       "arguments": {},
       "data": "<div class=\"ansiout\">+-----------------------------+---------+\n|chunk                        |ner_label|\n+-----------------------------+---------+\n|2093-01-13                   |DATE     |\n|David Hale                   |NAME     |\n|Hendrickson Ora              |NAME     |\n|7194334                      |ID       |\n|01/13/93                     |DATE     |\n|Oliveira                     |NAME     |\n|25                           |AGE      |\n|2079-11-09                   |DATE     |\n|Cocke County Baptist Hospital|HOSPITAL |\n|0295 Keats Street            |STREET   |\n+-----------------------------+---------+\n\n</div>",
       "datasetInfos": [],
       "metadata": {},
       "removedWidgets": [],
       "type": "html"
      }
     },
     "output_type": "display_data"
    }
   ],
   "source": [
    "# merged chunk\n",
    "result.select(F.explode(F.arrays_zip(result.deid_merged_chunk.result, result.deid_merged_chunk.metadata)).alias(\"cols\")) \\\n",
    "      .select(F.expr(\"cols['0']\").alias(\"chunk\"),\n",
    "              F.expr(\"cols['1']['entity']\").alias(\"ner_label\")).show(truncate=False)"
   ]
  },
  {
   "cell_type": "code",
   "execution_count": 0,
   "metadata": {
    "application/vnd.databricks.v1+cell": {
     "cellMetadata": {
      "byteLimit": 2048000,
      "rowLimit": 10000
     },
     "inputWidgets": {},
     "nuid": "3b4a910e-bbbf-4231-a056-4bff2e1b4589",
     "showTitle": false,
     "title": ""
    },
    "colab": {
     "base_uri": "https://localhost:8080/",
     "height": 174
    },
    "id": "6dheTxaJeYg9",
    "outputId": "8a50bf26-22da-488b-ec24-dc8c16e1dfc0"
   },
   "outputs": [
    {
     "output_type": "display_data",
     "data": {
      "text/html": [
       "<style scoped>\n",
       "  .ansiout {\n",
       "    display: block;\n",
       "    unicode-bidi: embed;\n",
       "    white-space: pre-wrap;\n",
       "    word-wrap: break-word;\n",
       "    word-break: break-all;\n",
       "    font-family: \"Source Code Pro\", \"Menlo\", monospace;;\n",
       "    font-size: 13px;\n",
       "    color: #555;\n",
       "    margin-left: 4px;\n",
       "    line-height: 19px;\n",
       "  }\n",
       "</style>\n",
       "<div class=\"ansiout\">Out[31]: </div>"
      ]
     },
     "metadata": {
      "application/vnd.databricks.v1+output": {
       "addedWidgets": {},
       "arguments": {},
       "data": "<div class=\"ansiout\">Out[31]: </div>",
       "datasetInfos": [],
       "metadata": {},
       "removedWidgets": [],
       "type": "html"
      }
     },
     "output_type": "display_data"
    },
    {
     "output_type": "display_data",
     "data": {
      "text/html": [
       "<div>\n",
       "<style scoped>\n",
       "    .dataframe tbody tr th:only-of-type {\n",
       "        vertical-align: middle;\n",
       "    }\n",
       "\n",
       "    .dataframe tbody tr th {\n",
       "        vertical-align: top;\n",
       "    }\n",
       "\n",
       "    .dataframe thead th {\n",
       "        text-align: right;\n",
       "    }\n",
       "</style>\n",
       "<table border=\"1\" class=\"dataframe\">\n",
       "  <thead>\n",
       "    <tr style=\"text-align: right;\">\n",
       "      <th></th>\n",
       "      <th>sentence</th>\n",
       "      <th>deidentified</th>\n",
       "    </tr>\n",
       "  </thead>\n",
       "  <tbody>\n",
       "    <tr>\n",
       "      <th>0</th>\n",
       "      <td>Record date : 2093-01-13 , David Hale , M.D .</td>\n",
       "      <td>Record date : &lt;DATE&gt; , &lt;NAME&gt; , M.D .</td>\n",
       "    </tr>\n",
       "    <tr>\n",
       "      <th>1</th>\n",
       "      <td>, Name : Hendrickson Ora , MR # 7194334 Date : 01/13/93 .</td>\n",
       "      <td>, Name : &lt;NAME&gt; , MR # &lt;ID&gt; Date : &lt;DATE&gt; .</td>\n",
       "    </tr>\n",
       "    <tr>\n",
       "      <th>2</th>\n",
       "      <td>PCP : Oliveira , 25 years-old , Record date : 2079-11-09 .</td>\n",
       "      <td>PCP : &lt;NAME&gt; , &lt;AGE&gt; years-old , Record date : &lt;DATE&gt; .</td>\n",
       "    </tr>\n",
       "    <tr>\n",
       "      <th>3</th>\n",
       "      <td>Cocke County Baptist Hospital , 0295 Keats Street , Phone 302-786-5227.</td>\n",
       "      <td>&lt;HOSPITAL&gt; , &lt;STREET&gt; , Phone 302-786-5227.</td>\n",
       "    </tr>\n",
       "  </tbody>\n",
       "</table>\n",
       "</div>"
      ]
     },
     "metadata": {
      "application/vnd.databricks.v1+output": {
       "addedWidgets": {},
       "arguments": {},
       "data": "<div>\n<style scoped>\n    .dataframe tbody tr th:only-of-type {\n        vertical-align: middle;\n    }\n\n    .dataframe tbody tr th {\n        vertical-align: top;\n    }\n\n    .dataframe thead th {\n        text-align: right;\n    }\n</style>\n<table border=\"1\" class=\"dataframe\">\n  <thead>\n    <tr style=\"text-align: right;\">\n      <th></th>\n      <th>sentence</th>\n      <th>deidentified</th>\n    </tr>\n  </thead>\n  <tbody>\n    <tr>\n      <th>0</th>\n      <td>Record date : 2093-01-13 , David Hale , M.D .</td>\n      <td>Record date : &lt;DATE&gt; , &lt;NAME&gt; , M.D .</td>\n    </tr>\n    <tr>\n      <th>1</th>\n      <td>, Name : Hendrickson Ora , MR # 7194334 Date : 01/13/93 .</td>\n      <td>, Name : &lt;NAME&gt; , MR # &lt;ID&gt; Date : &lt;DATE&gt; .</td>\n    </tr>\n    <tr>\n      <th>2</th>\n      <td>PCP : Oliveira , 25 years-old , Record date : 2079-11-09 .</td>\n      <td>PCP : &lt;NAME&gt; , &lt;AGE&gt; years-old , Record date : &lt;DATE&gt; .</td>\n    </tr>\n    <tr>\n      <th>3</th>\n      <td>Cocke County Baptist Hospital , 0295 Keats Street , Phone 302-786-5227.</td>\n      <td>&lt;HOSPITAL&gt; , &lt;STREET&gt; , Phone 302-786-5227.</td>\n    </tr>\n  </tbody>\n</table>\n</div>",
       "datasetInfos": [],
       "metadata": {},
       "removedWidgets": [],
       "textData": null,
       "type": "htmlSandbox"
      }
     },
     "output_type": "display_data"
    }
   ],
   "source": [
    "result.select(F.explode(F.arrays_zip(result.sentence.result, \n",
    "                                     result.deidentified.result)).alias(\"cols\")) \\\n",
    "      .select(F.expr(\"cols['0']\").alias(\"sentence\"), \n",
    "              F.expr(\"cols['1']\").alias(\"deidentified\")).toPandas()"
   ]
  },
  {
   "cell_type": "markdown",
   "metadata": {
    "application/vnd.databricks.v1+cell": {
     "cellMetadata": {},
     "inputWidgets": {},
     "nuid": "66f013f7-16ba-453d-87a7-af0457806b93",
     "showTitle": false,
     "title": ""
    },
    "id": "1MvCZkTyN0rQ"
   },
   "source": [
    "### Enriching with Regex and Override NER"
   ]
  },
  {
   "cell_type": "code",
   "execution_count": 0,
   "metadata": {
    "application/vnd.databricks.v1+cell": {
     "cellMetadata": {
      "byteLimit": 2048000,
      "rowLimit": 10000
     },
     "inputWidgets": {},
     "nuid": "b21209cc-b7c5-4b06-9878-4d76009644ca",
     "showTitle": false,
     "title": ""
    },
    "id": "v3ws_gQRQ5FS"
   },
   "outputs": [
    {
     "output_type": "display_data",
     "data": {
      "text/html": [
       "<style scoped>\n",
       "  .ansiout {\n",
       "    display: block;\n",
       "    unicode-bidi: embed;\n",
       "    white-space: pre-wrap;\n",
       "    word-wrap: break-word;\n",
       "    word-break: break-all;\n",
       "    font-family: \"Source Code Pro\", \"Menlo\", monospace;;\n",
       "    font-size: 13px;\n",
       "    color: #555;\n",
       "    margin-left: 4px;\n",
       "    line-height: 19px;\n",
       "  }\n",
       "</style>\n",
       "<div class=\"ansiout\"></div>"
      ]
     },
     "metadata": {
      "application/vnd.databricks.v1+output": {
       "addedWidgets": {},
       "arguments": {},
       "data": "<div class=\"ansiout\"></div>",
       "datasetInfos": [],
       "metadata": {},
       "removedWidgets": [],
       "type": "html"
      }
     },
     "output_type": "display_data"
    }
   ],
   "source": [
    "# Text with MR number\n",
    "text ='''Record date : 2093-01-13 , David Hale , M.D . , Name : Hendrickson , Ora MR . # 7194334 Date : 01/13/93 PCP : Oliveira , 25 years-old , Record date : 2079-11-09 . Cocke County Baptist Hospital . 0295 Keats Street.'''"
   ]
  },
  {
   "cell_type": "code",
   "execution_count": 0,
   "metadata": {
    "application/vnd.databricks.v1+cell": {
     "cellMetadata": {
      "byteLimit": 2048000,
      "rowLimit": 10000
     },
     "inputWidgets": {},
     "nuid": "5ebbd18a-d120-4c8a-9ef3-2ad95b7f72de",
     "showTitle": false,
     "title": ""
    },
    "colab": {
     "base_uri": "https://localhost:8080/",
     "height": 174
    },
    "id": "tTKB14F7hX6a",
    "outputId": "e9824c00-c823-41ad-eb0f-14efd782db44"
   },
   "outputs": [
    {
     "output_type": "display_data",
     "data": {
      "text/html": [
       "<style scoped>\n",
       "  .ansiout {\n",
       "    display: block;\n",
       "    unicode-bidi: embed;\n",
       "    white-space: pre-wrap;\n",
       "    word-wrap: break-word;\n",
       "    word-break: break-all;\n",
       "    font-family: \"Source Code Pro\", \"Menlo\", monospace;;\n",
       "    font-size: 13px;\n",
       "    color: #555;\n",
       "    margin-left: 4px;\n",
       "    line-height: 19px;\n",
       "  }\n",
       "</style>\n",
       "<div class=\"ansiout\"></div>"
      ]
     },
     "metadata": {
      "application/vnd.databricks.v1+output": {
       "addedWidgets": {},
       "arguments": {},
       "data": "<div class=\"ansiout\"></div>",
       "datasetInfos": [],
       "metadata": {},
       "removedWidgets": [],
       "type": "html"
      }
     },
     "output_type": "display_data"
    }
   ],
   "source": [
    "deidentification = medical.DeIdentification()\\\n",
    "    .setInputCols([\"sentence\", \"token\", \"deid_merged_chunk\"])\\\n",
    "    .setOutputCol(\"deidentified\")\\\n",
    "    .setMode(\"mask\") \\\n",
    "    .setRegexOverride(False) # Prioritizing NER model\n",
    "\n",
    "pipeline = nlp.Pipeline(stages=[\n",
    "    nlpPipeline, \n",
    "    deidentification\n",
    "])\n",
    "\n",
    "model_default_rgx = pipeline.fit(empty_data)"
   ]
  },
  {
   "cell_type": "code",
   "execution_count": 0,
   "metadata": {
    "application/vnd.databricks.v1+cell": {
     "cellMetadata": {
      "byteLimit": 2048000,
      "rowLimit": 10000
     },
     "inputWidgets": {},
     "nuid": "ff8bbc33-924a-47af-91af-4d8462424e60",
     "showTitle": false,
     "title": ""
    },
    "colab": {
     "base_uri": "https://localhost:8080/"
    },
    "id": "CK0s144yN7Tp",
    "outputId": "ad853465-9249-4196-f975-e6ecdee38e87"
   },
   "outputs": [
    {
     "output_type": "display_data",
     "data": {
      "text/html": [
       "<style scoped>\n",
       "  .ansiout {\n",
       "    display: block;\n",
       "    unicode-bidi: embed;\n",
       "    white-space: pre-wrap;\n",
       "    word-wrap: break-word;\n",
       "    word-break: break-all;\n",
       "    font-family: \"Source Code Pro\", \"Menlo\", monospace;;\n",
       "    font-size: 13px;\n",
       "    color: #555;\n",
       "    margin-left: 4px;\n",
       "    line-height: 19px;\n",
       "  }\n",
       "</style>\n",
       "<div class=\"ansiout\">Out[34]: </div>"
      ]
     },
     "metadata": {
      "application/vnd.databricks.v1+output": {
       "addedWidgets": {},
       "arguments": {},
       "data": "<div class=\"ansiout\">Out[34]: </div>",
       "datasetInfos": [],
       "metadata": {},
       "removedWidgets": [],
       "type": "html"
      }
     },
     "output_type": "display_data"
    },
    {
     "output_type": "display_data",
     "data": {
      "text/html": [
       "<div>\n",
       "<style scoped>\n",
       "    .dataframe tbody tr th:only-of-type {\n",
       "        vertical-align: middle;\n",
       "    }\n",
       "\n",
       "    .dataframe tbody tr th {\n",
       "        vertical-align: top;\n",
       "    }\n",
       "\n",
       "    .dataframe thead th {\n",
       "        text-align: right;\n",
       "    }\n",
       "</style>\n",
       "<table border=\"1\" class=\"dataframe\">\n",
       "  <thead>\n",
       "    <tr style=\"text-align: right;\">\n",
       "      <th></th>\n",
       "      <th>sentence</th>\n",
       "      <th>deidentified</th>\n",
       "    </tr>\n",
       "  </thead>\n",
       "  <tbody>\n",
       "    <tr>\n",
       "      <th>0</th>\n",
       "      <td>Record date : 2093-01-13 , David Hale , M.D .</td>\n",
       "      <td>Record date : &lt;DATE&gt; , &lt;NAME&gt; , M.D .</td>\n",
       "    </tr>\n",
       "    <tr>\n",
       "      <th>1</th>\n",
       "      <td>, Name : Hendrickson , Ora MR .</td>\n",
       "      <td>, Name : &lt;NAME&gt; MR .</td>\n",
       "    </tr>\n",
       "    <tr>\n",
       "      <th>2</th>\n",
       "      <td># 7194334 Date : 01/13/93 PCP : Oliveira , 25 years-old , Record date : 2079-11-09 .</td>\n",
       "      <td># &lt;ID&gt; Date : &lt;DATE&gt; PCP : &lt;NAME&gt; , &lt;AGE&gt; years-old , Record date : &lt;DATE&gt; .</td>\n",
       "    </tr>\n",
       "    <tr>\n",
       "      <th>3</th>\n",
       "      <td>Cocke County Baptist Hospital .</td>\n",
       "      <td>&lt;HOSPITAL&gt; .</td>\n",
       "    </tr>\n",
       "    <tr>\n",
       "      <th>4</th>\n",
       "      <td>0295 Keats Street.</td>\n",
       "      <td>&lt;STREET&gt;</td>\n",
       "    </tr>\n",
       "  </tbody>\n",
       "</table>\n",
       "</div>"
      ]
     },
     "metadata": {
      "application/vnd.databricks.v1+output": {
       "addedWidgets": {},
       "arguments": {},
       "data": "<div>\n<style scoped>\n    .dataframe tbody tr th:only-of-type {\n        vertical-align: middle;\n    }\n\n    .dataframe tbody tr th {\n        vertical-align: top;\n    }\n\n    .dataframe thead th {\n        text-align: right;\n    }\n</style>\n<table border=\"1\" class=\"dataframe\">\n  <thead>\n    <tr style=\"text-align: right;\">\n      <th></th>\n      <th>sentence</th>\n      <th>deidentified</th>\n    </tr>\n  </thead>\n  <tbody>\n    <tr>\n      <th>0</th>\n      <td>Record date : 2093-01-13 , David Hale , M.D .</td>\n      <td>Record date : &lt;DATE&gt; , &lt;NAME&gt; , M.D .</td>\n    </tr>\n    <tr>\n      <th>1</th>\n      <td>, Name : Hendrickson , Ora MR .</td>\n      <td>, Name : &lt;NAME&gt; MR .</td>\n    </tr>\n    <tr>\n      <th>2</th>\n      <td># 7194334 Date : 01/13/93 PCP : Oliveira , 25 years-old , Record date : 2079-11-09 .</td>\n      <td># &lt;ID&gt; Date : &lt;DATE&gt; PCP : &lt;NAME&gt; , &lt;AGE&gt; years-old , Record date : &lt;DATE&gt; .</td>\n    </tr>\n    <tr>\n      <th>3</th>\n      <td>Cocke County Baptist Hospital .</td>\n      <td>&lt;HOSPITAL&gt; .</td>\n    </tr>\n    <tr>\n      <th>4</th>\n      <td>0295 Keats Street.</td>\n      <td>&lt;STREET&gt;</td>\n    </tr>\n  </tbody>\n</table>\n</div>",
       "datasetInfos": [],
       "metadata": {},
       "removedWidgets": [],
       "textData": null,
       "type": "htmlSandbox"
      }
     },
     "output_type": "display_data"
    }
   ],
   "source": [
    "result = model_default_rgx.transform(spark.createDataFrame([[text]]).toDF(\"text\"))\n",
    "\n",
    "result.select(F.explode(F.arrays_zip(result.sentence.result, \n",
    "                                     result.deidentified.result)).alias(\"cols\")) \\\n",
    "      .select(F.expr(\"cols['0']\").alias(\"sentence\"), F.expr(\"cols['1']\").alias(\"deidentified\")).toPandas()"
   ]
  },
  {
   "cell_type": "code",
   "execution_count": 0,
   "metadata": {
    "application/vnd.databricks.v1+cell": {
     "cellMetadata": {
      "byteLimit": 2048000,
      "rowLimit": 10000
     },
     "inputWidgets": {},
     "nuid": "01f4c437-2a6a-4c21-82ee-b228fc51099e",
     "showTitle": false,
     "title": ""
    }
   },
   "outputs": [
    {
     "output_type": "display_data",
     "data": {
      "text/html": [
       "<style scoped>\n",
       "  .ansiout {\n",
       "    display: block;\n",
       "    unicode-bidi: embed;\n",
       "    white-space: pre-wrap;\n",
       "    word-wrap: break-word;\n",
       "    word-break: break-all;\n",
       "    font-family: \"Source Code Pro\", \"Menlo\", monospace;;\n",
       "    font-size: 13px;\n",
       "    color: #555;\n",
       "    margin-left: 4px;\n",
       "    line-height: 19px;\n",
       "  }\n",
       "</style>\n",
       "<div class=\"ansiout\">NUMBER ([0-9]{2})\n",
       "NUMBER (\\d{7})\n",
       "</div>"
      ]
     },
     "metadata": {
      "application/vnd.databricks.v1+output": {
       "addedWidgets": {},
       "arguments": {},
       "data": "<div class=\"ansiout\">NUMBER ([0-9]{2})\nNUMBER (\\d{7})\n</div>",
       "datasetInfos": [],
       "metadata": {},
       "removedWidgets": [],
       "type": "html"
      }
     },
     "output_type": "display_data"
    }
   ],
   "source": [
    "# Creating regex rule for detecting MR number and AGE\n",
    "rgx = '''NUMBER ([0-9]{2})\n",
    "NUMBER (\\d{7})''' \n",
    "\n",
    "with open(\"/dbfs/databricks/driver/custom_regex.txt\", \"w\") as f:\n",
    "  f.write(rgx)\n",
    "\n",
    "f = open(\"/dbfs/databricks/driver/custom_regex.txt\", \"r\")\n",
    "\n",
    "print(f.read())"
   ]
  },
  {
   "cell_type": "markdown",
   "metadata": {
    "application/vnd.databricks.v1+cell": {
     "cellMetadata": {},
     "inputWidgets": {},
     "nuid": "c60b996c-cdda-4fd4-9b4a-35dc5eeeab92",
     "showTitle": false,
     "title": ""
    },
    "id": "Z771fExYOgiW"
   },
   "source": [
    "We see that two entities  have conflict between the regex and the NER. NER has the priroty as a default. We can change this `setRegexOverride` param"
   ]
  },
  {
   "cell_type": "code",
   "execution_count": 0,
   "metadata": {
    "application/vnd.databricks.v1+cell": {
     "cellMetadata": {
      "byteLimit": 2048000,
      "rowLimit": 10000
     },
     "inputWidgets": {},
     "nuid": "7e00fec9-8ca1-44f7-aba7-b6b5f3fb48d0",
     "showTitle": false,
     "title": ""
    },
    "id": "J8fl19b2OY1-"
   },
   "outputs": [
    {
     "output_type": "display_data",
     "data": {
      "text/html": [
       "<style scoped>\n",
       "  .ansiout {\n",
       "    display: block;\n",
       "    unicode-bidi: embed;\n",
       "    white-space: pre-wrap;\n",
       "    word-wrap: break-word;\n",
       "    word-break: break-all;\n",
       "    font-family: \"Source Code Pro\", \"Menlo\", monospace;;\n",
       "    font-size: 13px;\n",
       "    color: #555;\n",
       "    margin-left: 4px;\n",
       "    line-height: 19px;\n",
       "  }\n",
       "</style>\n",
       "<div class=\"ansiout\"></div>"
      ]
     },
     "metadata": {
      "application/vnd.databricks.v1+output": {
       "addedWidgets": {},
       "arguments": {},
       "data": "<div class=\"ansiout\"></div>",
       "datasetInfos": [],
       "metadata": {},
       "removedWidgets": [],
       "type": "html"
      }
     },
     "output_type": "display_data"
    }
   ],
   "source": [
    "deidentification_rgx = medical.DeIdentification()\\\n",
    "    .setInputCols([\"sentence\", \"token\", \"deid_merged_chunk\"])\\\n",
    "    .setOutputCol(\"deidentified\")\\\n",
    "    .setMode(\"mask\") \\\n",
    "    .setRegexPatternsDictionary(\"dbfs:/databricks/driver/custom_regex.txt\")\\\n",
    "    .setRegexOverride(True) # Prioritizing regex rules\n",
    "\n",
    "nlpPipeline_rgx = nlp.Pipeline(stages=[\n",
    "    documentAssembler, \n",
    "    sentenceDetector,\n",
    "    tokenizer,\n",
    "    word_embeddings,\n",
    "    deid_ner,\n",
    "    ner_converter,\n",
    "    deid_ner_enriched,\n",
    "    ner_converter_enriched,\n",
    "    chunk_merge,\n",
    "    deidentification_rgx])\n",
    "\n",
    "empty_data = spark.createDataFrame([[\"\"]]).toDF(\"text\")\n",
    "\n",
    "model_rgx = nlpPipeline_rgx.fit(empty_data)"
   ]
  },
  {
   "cell_type": "code",
   "execution_count": 0,
   "metadata": {
    "application/vnd.databricks.v1+cell": {
     "cellMetadata": {
      "byteLimit": 2048000,
      "rowLimit": 10000
     },
     "inputWidgets": {},
     "nuid": "4eacc04f-b87d-42e2-8c62-a43970b5a437",
     "showTitle": false,
     "title": ""
    },
    "colab": {
     "base_uri": "https://localhost:8080/",
     "height": 206
    },
    "id": "tifAsxnFiiWg",
    "outputId": "7aeba1e2-23fe-4abb-96bb-8a4d4faf9b17"
   },
   "outputs": [
    {
     "output_type": "display_data",
     "data": {
      "text/html": [
       "<style scoped>\n",
       "  .ansiout {\n",
       "    display: block;\n",
       "    unicode-bidi: embed;\n",
       "    white-space: pre-wrap;\n",
       "    word-wrap: break-word;\n",
       "    word-break: break-all;\n",
       "    font-family: \"Source Code Pro\", \"Menlo\", monospace;;\n",
       "    font-size: 13px;\n",
       "    color: #555;\n",
       "    margin-left: 4px;\n",
       "    line-height: 19px;\n",
       "  }\n",
       "</style>\n",
       "<div class=\"ansiout\">Out[37]: </div>"
      ]
     },
     "metadata": {
      "application/vnd.databricks.v1+output": {
       "addedWidgets": {},
       "arguments": {},
       "data": "<div class=\"ansiout\">Out[37]: </div>",
       "datasetInfos": [],
       "metadata": {},
       "removedWidgets": [],
       "type": "html"
      }
     },
     "output_type": "display_data"
    },
    {
     "output_type": "display_data",
     "data": {
      "text/html": [
       "<div>\n",
       "<style scoped>\n",
       "    .dataframe tbody tr th:only-of-type {\n",
       "        vertical-align: middle;\n",
       "    }\n",
       "\n",
       "    .dataframe tbody tr th {\n",
       "        vertical-align: top;\n",
       "    }\n",
       "\n",
       "    .dataframe thead th {\n",
       "        text-align: right;\n",
       "    }\n",
       "</style>\n",
       "<table border=\"1\" class=\"dataframe\">\n",
       "  <thead>\n",
       "    <tr style=\"text-align: right;\">\n",
       "      <th></th>\n",
       "      <th>sentence</th>\n",
       "      <th>deidentified</th>\n",
       "    </tr>\n",
       "  </thead>\n",
       "  <tbody>\n",
       "    <tr>\n",
       "      <th>0</th>\n",
       "      <td>Record date : 2093-01-13 , David Hale , M.D .</td>\n",
       "      <td>Record date : &lt;DATE&gt; , &lt;NAME&gt; , M.D .</td>\n",
       "    </tr>\n",
       "    <tr>\n",
       "      <th>1</th>\n",
       "      <td>, Name : Hendrickson , Ora MR .</td>\n",
       "      <td>, Name : &lt;NAME&gt; MR .</td>\n",
       "    </tr>\n",
       "    <tr>\n",
       "      <th>2</th>\n",
       "      <td># 7194334 Date : 01/13/93 PCP : Oliveira , 25 years-old , Record date : 2079-11-09 .</td>\n",
       "      <td># &lt;NUMBER&gt; Date : &lt;DATE&gt; PCP : &lt;NAME&gt; , &lt;NUMBER&gt; years-old , Record date : &lt;DATE&gt; .</td>\n",
       "    </tr>\n",
       "    <tr>\n",
       "      <th>3</th>\n",
       "      <td>Cocke County Baptist Hospital .</td>\n",
       "      <td>&lt;HOSPITAL&gt; .</td>\n",
       "    </tr>\n",
       "    <tr>\n",
       "      <th>4</th>\n",
       "      <td>0295 Keats Street.</td>\n",
       "      <td>&lt;STREET&gt;</td>\n",
       "    </tr>\n",
       "  </tbody>\n",
       "</table>\n",
       "</div>"
      ]
     },
     "metadata": {
      "application/vnd.databricks.v1+output": {
       "addedWidgets": {},
       "arguments": {},
       "data": "<div>\n<style scoped>\n    .dataframe tbody tr th:only-of-type {\n        vertical-align: middle;\n    }\n\n    .dataframe tbody tr th {\n        vertical-align: top;\n    }\n\n    .dataframe thead th {\n        text-align: right;\n    }\n</style>\n<table border=\"1\" class=\"dataframe\">\n  <thead>\n    <tr style=\"text-align: right;\">\n      <th></th>\n      <th>sentence</th>\n      <th>deidentified</th>\n    </tr>\n  </thead>\n  <tbody>\n    <tr>\n      <th>0</th>\n      <td>Record date : 2093-01-13 , David Hale , M.D .</td>\n      <td>Record date : &lt;DATE&gt; , &lt;NAME&gt; , M.D .</td>\n    </tr>\n    <tr>\n      <th>1</th>\n      <td>, Name : Hendrickson , Ora MR .</td>\n      <td>, Name : &lt;NAME&gt; MR .</td>\n    </tr>\n    <tr>\n      <th>2</th>\n      <td># 7194334 Date : 01/13/93 PCP : Oliveira , 25 years-old , Record date : 2079-11-09 .</td>\n      <td># &lt;NUMBER&gt; Date : &lt;DATE&gt; PCP : &lt;NAME&gt; , &lt;NUMBER&gt; years-old , Record date : &lt;DATE&gt; .</td>\n    </tr>\n    <tr>\n      <th>3</th>\n      <td>Cocke County Baptist Hospital .</td>\n      <td>&lt;HOSPITAL&gt; .</td>\n    </tr>\n    <tr>\n      <th>4</th>\n      <td>0295 Keats Street.</td>\n      <td>&lt;STREET&gt;</td>\n    </tr>\n  </tbody>\n</table>\n</div>",
       "datasetInfos": [],
       "metadata": {},
       "removedWidgets": [],
       "textData": null,
       "type": "htmlSandbox"
      }
     },
     "output_type": "display_data"
    }
   ],
   "source": [
    "result = model_rgx.transform(spark.createDataFrame([[text]]).toDF(\"text\"))\n",
    "\n",
    "result.select(F.explode(F.arrays_zip(result.sentence.result, \n",
    "                                     result.deidentified.result)).alias(\"cols\")) \\\n",
    "      .select(F.expr(\"cols['0']\").alias(\"sentence\"), F.expr(\"cols['1']\").alias(\"deidentified\")).toPandas()"
   ]
  },
  {
   "cell_type": "markdown",
   "metadata": {
    "application/vnd.databricks.v1+cell": {
     "cellMetadata": {},
     "inputWidgets": {},
     "nuid": "02e951ed-87ea-4aef-93e1-643907d32999",
     "showTitle": false,
     "title": ""
    },
    "id": "0mkstH6JIuQr"
   },
   "source": [
    "`.setBlackList()` parameter so that not deidentifiy the labels that are specified in the list. This parameter filters just the detected Regex Entities."
   ]
  },
  {
   "cell_type": "code",
   "execution_count": 0,
   "metadata": {
    "application/vnd.databricks.v1+cell": {
     "cellMetadata": {
      "byteLimit": 2048000,
      "rowLimit": 10000
     },
     "inputWidgets": {},
     "nuid": "c5a5d38b-d831-47dc-a28e-d7477bbce3bb",
     "showTitle": false,
     "title": ""
    },
    "id": "eKuVjZDlIsG7"
   },
   "outputs": [
    {
     "output_type": "display_data",
     "data": {
      "text/html": [
       "<style scoped>\n",
       "  .ansiout {\n",
       "    display: block;\n",
       "    unicode-bidi: embed;\n",
       "    white-space: pre-wrap;\n",
       "    word-wrap: break-word;\n",
       "    word-break: break-all;\n",
       "    font-family: \"Source Code Pro\", \"Menlo\", monospace;;\n",
       "    font-size: 13px;\n",
       "    color: #555;\n",
       "    margin-left: 4px;\n",
       "    line-height: 19px;\n",
       "  }\n",
       "</style>\n",
       "<div class=\"ansiout\"></div>"
      ]
     },
     "metadata": {
      "application/vnd.databricks.v1+output": {
       "addedWidgets": {},
       "arguments": {},
       "data": "<div class=\"ansiout\"></div>",
       "datasetInfos": [],
       "metadata": {},
       "removedWidgets": [],
       "type": "html"
      }
     },
     "output_type": "display_data"
    }
   ],
   "source": [
    "ner_converter = medical.NerConverterInternal()\\\n",
    "    .setInputCols([\"sentence\", \"token\", \"ner\"])\\\n",
    "    .setOutputCol(\"ner_chunk\")\\\n",
    "    .setWhiteList([\"NAME\", \"LOCATION\"])\n",
    "\n",
    "# DATE, PHONE, URL, EMAIL, ZIP, DATE, SSN, PASSPORT, DLN, NPI, C_CARD, EMAIL, IBAN, DEA\n",
    "deidentification = medical.DeIdentification() \\\n",
    "    .setInputCols([\"sentence\", \"token\", \"ner_chunk\"]) \\\n",
    "    .setOutputCol(\"deidentified\") \\\n",
    "    .setMode(\"mask\")\\\n",
    "    .setRegexOverride(True)\\\n",
    "    .setBlackList([\"DATE\", \"PHONE\"]) # List of entities ignored for masking or obfuscation, default listed above\n",
    "\n",
    "deidPipeline = nlp.Pipeline(stages=[\n",
    "    documentAssembler, \n",
    "    sentenceDetector,\n",
    "    tokenizer,\n",
    "    word_embeddings,\n",
    "    clinical_ner,\n",
    "    ner_converter,\n",
    "    deidentification])\n",
    "\n",
    "empty_data = spark.createDataFrame([[\"\"]]).toDF(\"text\")\n",
    "\n",
    "model_deid = deidPipeline.fit(empty_data)"
   ]
  },
  {
   "cell_type": "code",
   "execution_count": 0,
   "metadata": {
    "application/vnd.databricks.v1+cell": {
     "cellMetadata": {
      "byteLimit": 2048000,
      "rowLimit": 10000
     },
     "inputWidgets": {},
     "nuid": "a37b5261-2fe2-4321-81f5-708ba28cc1d1",
     "showTitle": false,
     "title": ""
    },
    "id": "8M49yTi8Ir9n"
   },
   "outputs": [
    {
     "output_type": "display_data",
     "data": {
      "text/html": [
       "<style scoped>\n",
       "  .ansiout {\n",
       "    display: block;\n",
       "    unicode-bidi: embed;\n",
       "    white-space: pre-wrap;\n",
       "    word-wrap: break-word;\n",
       "    word-break: break-all;\n",
       "    font-family: \"Source Code Pro\", \"Menlo\", monospace;;\n",
       "    font-size: 13px;\n",
       "    color: #555;\n",
       "    margin-left: 4px;\n",
       "    line-height: 19px;\n",
       "  }\n",
       "</style>\n",
       "<div class=\"ansiout\"></div>"
      ]
     },
     "metadata": {
      "application/vnd.databricks.v1+output": {
       "addedWidgets": {},
       "arguments": {},
       "data": "<div class=\"ansiout\"></div>",
       "datasetInfos": [],
       "metadata": {},
       "removedWidgets": [],
       "type": "html"
      }
     },
     "output_type": "display_data"
    }
   ],
   "source": [
    "text ='''\n",
    "Record date : 2093-01-13 , David Hale , M.D . , Name : Hendrickson , Ora MR . # 7194334 Date : 01/13/93 PCP : Oliveira , 25 years-old , Record date : 2079-11-09 . Cocke County Baptist Hospital . 0295 Keats Street. Phone (302) 786-5227.\n",
    "'''\n",
    "result = model_deid.transform(spark.createDataFrame([[text]]).toDF(\"text\"))"
   ]
  },
  {
   "cell_type": "code",
   "execution_count": 0,
   "metadata": {
    "application/vnd.databricks.v1+cell": {
     "cellMetadata": {
      "byteLimit": 2048000,
      "rowLimit": 10000
     },
     "inputWidgets": {},
     "nuid": "7bdacfea-1e8f-4148-8bbe-a32338ee73e9",
     "showTitle": false,
     "title": ""
    },
    "colab": {
     "base_uri": "https://localhost:8080/",
     "height": 237
    },
    "id": "nSYNou-aIr4o",
    "outputId": "525d68a1-28e8-42dd-9761-022c0e3a954d"
   },
   "outputs": [
    {
     "output_type": "display_data",
     "data": {
      "text/html": [
       "<style scoped>\n",
       "  .ansiout {\n",
       "    display: block;\n",
       "    unicode-bidi: embed;\n",
       "    white-space: pre-wrap;\n",
       "    word-wrap: break-word;\n",
       "    word-break: break-all;\n",
       "    font-family: \"Source Code Pro\", \"Menlo\", monospace;;\n",
       "    font-size: 13px;\n",
       "    color: #555;\n",
       "    margin-left: 4px;\n",
       "    line-height: 19px;\n",
       "  }\n",
       "</style>\n",
       "<div class=\"ansiout\">Out[40]: </div>"
      ]
     },
     "metadata": {
      "application/vnd.databricks.v1+output": {
       "addedWidgets": {},
       "arguments": {},
       "data": "<div class=\"ansiout\">Out[40]: </div>",
       "datasetInfos": [],
       "metadata": {},
       "removedWidgets": [],
       "type": "html"
      }
     },
     "output_type": "display_data"
    },
    {
     "output_type": "display_data",
     "data": {
      "text/html": [
       "<div>\n",
       "<style scoped>\n",
       "    .dataframe tbody tr th:only-of-type {\n",
       "        vertical-align: middle;\n",
       "    }\n",
       "\n",
       "    .dataframe tbody tr th {\n",
       "        vertical-align: top;\n",
       "    }\n",
       "\n",
       "    .dataframe thead th {\n",
       "        text-align: right;\n",
       "    }\n",
       "</style>\n",
       "<table border=\"1\" class=\"dataframe\">\n",
       "  <thead>\n",
       "    <tr style=\"text-align: right;\">\n",
       "      <th></th>\n",
       "      <th>sentence</th>\n",
       "      <th>deidentified</th>\n",
       "    </tr>\n",
       "  </thead>\n",
       "  <tbody>\n",
       "    <tr>\n",
       "      <th>0</th>\n",
       "      <td>Record date : 2093-01-13 , David Hale , M.D .</td>\n",
       "      <td>Record date : 2093-01-13 , &lt;NAME&gt; , M.D .</td>\n",
       "    </tr>\n",
       "    <tr>\n",
       "      <th>1</th>\n",
       "      <td>, Name : Hendrickson , Ora MR .</td>\n",
       "      <td>, Name : &lt;NAME&gt; MR .</td>\n",
       "    </tr>\n",
       "    <tr>\n",
       "      <th>2</th>\n",
       "      <td># 7194334 Date : 01/13/93 PCP : Oliveira , 25 years-old , Record date : 2079-11-09 .</td>\n",
       "      <td># 7194334 Date : 01/13/93 PCP : &lt;NAME&gt; , 25 years-old , Record date : 2079-11-09 .</td>\n",
       "    </tr>\n",
       "    <tr>\n",
       "      <th>3</th>\n",
       "      <td>Cocke County Baptist Hospital .</td>\n",
       "      <td>&lt;LOCATION&gt; .</td>\n",
       "    </tr>\n",
       "    <tr>\n",
       "      <th>4</th>\n",
       "      <td>0295 Keats Street.</td>\n",
       "      <td>&lt;LOCATION&gt;.</td>\n",
       "    </tr>\n",
       "    <tr>\n",
       "      <th>5</th>\n",
       "      <td>Phone (302) 786-5227.</td>\n",
       "      <td>Phone (302) 786-5227.</td>\n",
       "    </tr>\n",
       "  </tbody>\n",
       "</table>\n",
       "</div>"
      ]
     },
     "metadata": {
      "application/vnd.databricks.v1+output": {
       "addedWidgets": {},
       "arguments": {},
       "data": "<div>\n<style scoped>\n    .dataframe tbody tr th:only-of-type {\n        vertical-align: middle;\n    }\n\n    .dataframe tbody tr th {\n        vertical-align: top;\n    }\n\n    .dataframe thead th {\n        text-align: right;\n    }\n</style>\n<table border=\"1\" class=\"dataframe\">\n  <thead>\n    <tr style=\"text-align: right;\">\n      <th></th>\n      <th>sentence</th>\n      <th>deidentified</th>\n    </tr>\n  </thead>\n  <tbody>\n    <tr>\n      <th>0</th>\n      <td>Record date : 2093-01-13 , David Hale , M.D .</td>\n      <td>Record date : 2093-01-13 , &lt;NAME&gt; , M.D .</td>\n    </tr>\n    <tr>\n      <th>1</th>\n      <td>, Name : Hendrickson , Ora MR .</td>\n      <td>, Name : &lt;NAME&gt; MR .</td>\n    </tr>\n    <tr>\n      <th>2</th>\n      <td># 7194334 Date : 01/13/93 PCP : Oliveira , 25 years-old , Record date : 2079-11-09 .</td>\n      <td># 7194334 Date : 01/13/93 PCP : &lt;NAME&gt; , 25 years-old , Record date : 2079-11-09 .</td>\n    </tr>\n    <tr>\n      <th>3</th>\n      <td>Cocke County Baptist Hospital .</td>\n      <td>&lt;LOCATION&gt; .</td>\n    </tr>\n    <tr>\n      <th>4</th>\n      <td>0295 Keats Street.</td>\n      <td>&lt;LOCATION&gt;.</td>\n    </tr>\n    <tr>\n      <th>5</th>\n      <td>Phone (302) 786-5227.</td>\n      <td>Phone (302) 786-5227.</td>\n    </tr>\n  </tbody>\n</table>\n</div>",
       "datasetInfos": [],
       "metadata": {},
       "removedWidgets": [],
       "textData": null,
       "type": "htmlSandbox"
      }
     },
     "output_type": "display_data"
    }
   ],
   "source": [
    "result.select(F.explode(F.arrays_zip(result.sentence.result, \n",
    "                                     result.deidentified.result)).alias(\"cols\")) \\\n",
    "      .select(F.expr(\"cols['0']\").alias(\"sentence\"), F.expr(\"cols['1']\").alias(\"deidentified\")).toPandas()"
   ]
  },
  {
   "cell_type": "markdown",
   "metadata": {
    "application/vnd.databricks.v1+cell": {
     "cellMetadata": {},
     "inputWidgets": {},
     "nuid": "f4ab0f4b-51b8-4425-b051-3c40f29afbea",
     "showTitle": false,
     "title": ""
    },
    "id": "HJokGuGxf89k"
   },
   "source": [
    "## Obfuscation mode"
   ]
  },
  {
   "cell_type": "markdown",
   "metadata": {
    "application/vnd.databricks.v1+cell": {
     "cellMetadata": {},
     "inputWidgets": {},
     "nuid": "58ebba72-6594-4d86-9f85-ec5b05ff38d6",
     "showTitle": false,
     "title": ""
    },
    "id": "KG0Bvua7f89l"
   },
   "source": [
    "In the obfuscation mode **DeIdentificationModel** will replace sensetive entities with random values of the same type."
   ]
  },
  {
   "cell_type": "code",
   "execution_count": 0,
   "metadata": {
    "application/vnd.databricks.v1+cell": {
     "cellMetadata": {
      "byteLimit": 2048000,
      "rowLimit": 10000
     },
     "inputWidgets": {},
     "nuid": "2c7f04fe-cdd5-4aea-a8e8-7afd696789cd",
     "showTitle": false,
     "title": ""
    },
    "id": "TOYTW3ryTVOI"
   },
   "outputs": [
    {
     "output_type": "display_data",
     "data": {
      "text/html": [
       "<style scoped>\n",
       "  .ansiout {\n",
       "    display: block;\n",
       "    unicode-bidi: embed;\n",
       "    white-space: pre-wrap;\n",
       "    word-wrap: break-word;\n",
       "    word-break: break-all;\n",
       "    font-family: \"Source Code Pro\", \"Menlo\", monospace;;\n",
       "    font-size: 13px;\n",
       "    color: #555;\n",
       "    margin-left: 4px;\n",
       "    line-height: 19px;\n",
       "  }\n",
       "</style>\n",
       "<div class=\"ansiout\"></div>"
      ]
     },
     "metadata": {
      "application/vnd.databricks.v1+output": {
       "addedWidgets": {},
       "arguments": {},
       "data": "<div class=\"ansiout\"></div>",
       "datasetInfos": [],
       "metadata": {},
       "removedWidgets": [],
       "type": "html"
      }
     },
     "output_type": "display_data"
    }
   ],
   "source": [
    "obs_lines = \"\"\"Marvin MARSHALL#PATIENT\n",
    "Hubert GROGAN#PATIENT\n",
    "ALTHEA COLBURN#PATIENT\n",
    "Kalil AMIN#PATIENT\n",
    "Inci FOUNTAIN#PATIENT\n",
    "Ekaterina Rosa#DOCTOR\n",
    "Rudiger Chao#DOCTOR\n",
    "COLLETTE KOHLER#DOCTOR\n",
    "Mufi HIGGS#DOCTOR\"\"\"\n",
    "\n",
    "\n",
    "with open ('/dbfs/databricks/driver/obfuscation.txt', 'w') as f:\n",
    "  f.write(obs_lines)"
   ]
  },
  {
   "cell_type": "code",
   "execution_count": 0,
   "metadata": {
    "application/vnd.databricks.v1+cell": {
     "cellMetadata": {
      "byteLimit": 2048000,
      "rowLimit": 10000
     },
     "inputWidgets": {},
     "nuid": "1699c1e9-bf8a-4320-8ef0-832bf795ad2c",
     "showTitle": false,
     "title": ""
    },
    "colab": {
     "base_uri": "https://localhost:8080/"
    },
    "id": "s6OKIrTUSz0O",
    "outputId": "f9a6c1a9-0c54-4332-b890-62427e5d239d"
   },
   "outputs": [
    {
     "output_type": "display_data",
     "data": {
      "text/html": [
       "<style scoped>\n",
       "  .ansiout {\n",
       "    display: block;\n",
       "    unicode-bidi: embed;\n",
       "    white-space: pre-wrap;\n",
       "    word-wrap: break-word;\n",
       "    word-break: break-all;\n",
       "    font-family: \"Source Code Pro\", \"Menlo\", monospace;;\n",
       "    font-size: 13px;\n",
       "    color: #555;\n",
       "    margin-left: 4px;\n",
       "    line-height: 19px;\n",
       "  }\n",
       "</style>\n",
       "<div class=\"ansiout\">ner_deid_subentity_augmented download started this may take some time.\n",
       "\r[ | ]\r[OK!]\n",
       "</div>"
      ]
     },
     "metadata": {
      "application/vnd.databricks.v1+output": {
       "addedWidgets": {},
       "arguments": {},
       "data": "<div class=\"ansiout\">ner_deid_subentity_augmented download started this may take some time.\n\r[ | ]\r[OK!]\n</div>",
       "datasetInfos": [],
       "metadata": {},
       "removedWidgets": [],
       "type": "html"
      }
     },
     "output_type": "display_data"
    }
   ],
   "source": [
    "deid_ner_enriched = medical.NerModel.pretrained(\"ner_deid_subentity_augmented\", \"en\", \"clinical/models\") \\\n",
    "    .setInputCols([\"sentence\", \"token\", \"embeddings\"]) \\\n",
    "    .setOutputCol(\"ner_subentity\")\n",
    "\n",
    "ner_converter_enriched = medical.NerConverterInternal() \\\n",
    "    .setInputCols([\"sentence\", \"token\", \"ner_subentity\"]) \\\n",
    "    .setOutputCol(\"ner_subentity_chunk\")\\\n",
    "\n",
    "obfuscation = medical.DeIdentification()\\\n",
    "    .setInputCols([\"sentence\", \"token\", \"ner_subentity_chunk\"]) \\\n",
    "    .setOutputCol(\"deidentified\") \\\n",
    "    .setMode(\"obfuscate\")\\\n",
    "    .setObfuscateDate(True)\\\n",
    "    #.setObfuscateRefFile('obfuscation.txt')\\\n",
    "    #.setObfuscateRefSource(\"both\") #default: \"faker\"\n",
    "\n",
    "pipeline = nlp.Pipeline(stages=[\n",
    "    documentAssembler, \n",
    "    sentenceDetector,\n",
    "    tokenizer,\n",
    "    word_embeddings,\n",
    "    deid_ner_enriched,\n",
    "    ner_converter_enriched,\n",
    "    obfuscation\n",
    "])\n",
    "\n",
    "obfuscation_model = pipeline.fit(empty_data)"
   ]
  },
  {
   "cell_type": "code",
   "execution_count": 0,
   "metadata": {
    "application/vnd.databricks.v1+cell": {
     "cellMetadata": {
      "byteLimit": 2048000,
      "rowLimit": 10000
     },
     "inputWidgets": {},
     "nuid": "7f964c58-a218-47b9-8fcc-df747de5cc76",
     "showTitle": false,
     "title": ""
    },
    "colab": {
     "base_uri": "https://localhost:8080/",
     "height": 206
    },
    "id": "dW2y14eCpm2A",
    "outputId": "c9a06bc5-892e-45bb-b29b-3b835b0002da"
   },
   "outputs": [
    {
     "output_type": "display_data",
     "data": {
      "text/html": [
       "<style scoped>\n",
       "  .ansiout {\n",
       "    display: block;\n",
       "    unicode-bidi: embed;\n",
       "    white-space: pre-wrap;\n",
       "    word-wrap: break-word;\n",
       "    word-break: break-all;\n",
       "    font-family: \"Source Code Pro\", \"Menlo\", monospace;;\n",
       "    font-size: 13px;\n",
       "    color: #555;\n",
       "    margin-left: 4px;\n",
       "    line-height: 19px;\n",
       "  }\n",
       "</style>\n",
       "<div class=\"ansiout\">Out[43]: </div>"
      ]
     },
     "metadata": {
      "application/vnd.databricks.v1+output": {
       "addedWidgets": {},
       "arguments": {},
       "data": "<div class=\"ansiout\">Out[43]: </div>",
       "datasetInfos": [],
       "metadata": {},
       "removedWidgets": [],
       "type": "html"
      }
     },
     "output_type": "display_data"
    },
    {
     "output_type": "display_data",
     "data": {
      "text/html": [
       "<div>\n",
       "<style scoped>\n",
       "    .dataframe tbody tr th:only-of-type {\n",
       "        vertical-align: middle;\n",
       "    }\n",
       "\n",
       "    .dataframe tbody tr th {\n",
       "        vertical-align: top;\n",
       "    }\n",
       "\n",
       "    .dataframe thead th {\n",
       "        text-align: right;\n",
       "    }\n",
       "</style>\n",
       "<table border=\"1\" class=\"dataframe\">\n",
       "  <thead>\n",
       "    <tr style=\"text-align: right;\">\n",
       "      <th></th>\n",
       "      <th>sentence</th>\n",
       "      <th>deidentified</th>\n",
       "    </tr>\n",
       "  </thead>\n",
       "  <tbody>\n",
       "    <tr>\n",
       "      <th>0</th>\n",
       "      <td>Record date : 2093-01-13 , David Hale , M.D .</td>\n",
       "      <td>Record date : 2093-01-14 , Vella Redhead , M.D .</td>\n",
       "    </tr>\n",
       "    <tr>\n",
       "      <th>1</th>\n",
       "      <td>, Name : Hendrickson , Ora MR # 7194334 Date : 01/13/93 .</td>\n",
       "      <td>, Name : Nelly Laurence MR # 9180013 Date : 01/14/93 .</td>\n",
       "    </tr>\n",
       "    <tr>\n",
       "      <th>2</th>\n",
       "      <td>Patient : Oliveira, 25 years-old , Record date : 2079-11-09 .</td>\n",
       "      <td>Patient : Arbutus Ped, 21 years-old , Record date : 2079-11-10 .</td>\n",
       "    </tr>\n",
       "    <tr>\n",
       "      <th>3</th>\n",
       "      <td>Cocke County Baptist Hospital .</td>\n",
       "      <td>VAL VERDE REGIONAL MEDICAL CENTER .</td>\n",
       "    </tr>\n",
       "    <tr>\n",
       "      <th>4</th>\n",
       "      <td>0295 Keats Street</td>\n",
       "      <td>2900 N River Rd</td>\n",
       "    </tr>\n",
       "  </tbody>\n",
       "</table>\n",
       "</div>"
      ]
     },
     "metadata": {
      "application/vnd.databricks.v1+output": {
       "addedWidgets": {},
       "arguments": {},
       "data": "<div>\n<style scoped>\n    .dataframe tbody tr th:only-of-type {\n        vertical-align: middle;\n    }\n\n    .dataframe tbody tr th {\n        vertical-align: top;\n    }\n\n    .dataframe thead th {\n        text-align: right;\n    }\n</style>\n<table border=\"1\" class=\"dataframe\">\n  <thead>\n    <tr style=\"text-align: right;\">\n      <th></th>\n      <th>sentence</th>\n      <th>deidentified</th>\n    </tr>\n  </thead>\n  <tbody>\n    <tr>\n      <th>0</th>\n      <td>Record date : 2093-01-13 , David Hale , M.D .</td>\n      <td>Record date : 2093-01-14 , Vella Redhead , M.D .</td>\n    </tr>\n    <tr>\n      <th>1</th>\n      <td>, Name : Hendrickson , Ora MR # 7194334 Date : 01/13/93 .</td>\n      <td>, Name : Nelly Laurence MR # 9180013 Date : 01/14/93 .</td>\n    </tr>\n    <tr>\n      <th>2</th>\n      <td>Patient : Oliveira, 25 years-old , Record date : 2079-11-09 .</td>\n      <td>Patient : Arbutus Ped, 21 years-old , Record date : 2079-11-10 .</td>\n    </tr>\n    <tr>\n      <th>3</th>\n      <td>Cocke County Baptist Hospital .</td>\n      <td>VAL VERDE REGIONAL MEDICAL CENTER .</td>\n    </tr>\n    <tr>\n      <th>4</th>\n      <td>0295 Keats Street</td>\n      <td>2900 N River Rd</td>\n    </tr>\n  </tbody>\n</table>\n</div>",
       "datasetInfos": [],
       "metadata": {},
       "removedWidgets": [],
       "textData": null,
       "type": "htmlSandbox"
      }
     },
     "output_type": "display_data"
    }
   ],
   "source": [
    "text ='''\n",
    "Record date : 2093-01-13 , David Hale , M.D . , Name : Hendrickson , Ora MR # 7194334 Date : 01/13/93 . Patient : Oliveira, 25 years-old , Record date : 2079-11-09 . Cocke County Baptist Hospital . 0295 Keats Street\n",
    "'''\n",
    "\n",
    "result = obfuscation_model.transform(spark.createDataFrame([[text]]).toDF(\"text\"))\n",
    "\n",
    "result.select(F.explode(F.arrays_zip(result.sentence.result, result.deidentified.result)).alias(\"cols\")) \\\n",
    "      .select(F.expr(\"cols['0']\").alias(\"sentence\"), F.expr(\"cols['1']\").alias(\"deidentified\")).toPandas()"
   ]
  },
  {
   "cell_type": "code",
   "execution_count": 0,
   "metadata": {
    "application/vnd.databricks.v1+cell": {
     "cellMetadata": {
      "byteLimit": 2048000,
      "rowLimit": 10000
     },
     "inputWidgets": {},
     "nuid": "c490ffcb-9e73-4a88-ae6d-6725c3d7f447",
     "showTitle": false,
     "title": ""
    },
    "colab": {
     "base_uri": "https://localhost:8080/"
    },
    "id": "lkQ4ojPftJh0",
    "outputId": "6f220a9e-1f78-4f7e-cff2-c9bc27011298"
   },
   "outputs": [
    {
     "output_type": "display_data",
     "data": {
      "text/html": [
       "<style scoped>\n",
       "  .ansiout {\n",
       "    display: block;\n",
       "    unicode-bidi: embed;\n",
       "    white-space: pre-wrap;\n",
       "    word-wrap: break-word;\n",
       "    word-break: break-all;\n",
       "    font-family: \"Source Code Pro\", \"Menlo\", monospace;;\n",
       "    font-size: 13px;\n",
       "    color: #555;\n",
       "    margin-left: 4px;\n",
       "    line-height: 19px;\n",
       "  }\n",
       "</style>\n",
       "<div class=\"ansiout\">Out[44]: [Row(ner_subentity_chunk=[Row(annotatorType=&#39;chunk&#39;, begin=15, end=24, result=&#39;2093-01-13&#39;, metadata={&#39;sentence&#39;: &#39;0&#39;, &#39;chunk&#39;: &#39;0&#39;, &#39;ner_source&#39;: &#39;ner_subentity_chunk&#39;, &#39;entity&#39;: &#39;DATE&#39;, &#39;confidence&#39;: &#39;1.0&#39;}, embeddings=[]), Row(annotatorType=&#39;chunk&#39;, begin=28, end=37, result=&#39;David Hale&#39;, metadata={&#39;sentence&#39;: &#39;0&#39;, &#39;chunk&#39;: &#39;1&#39;, &#39;ner_source&#39;: &#39;ner_subentity_chunk&#39;, &#39;entity&#39;: &#39;DOCTOR&#39;, &#39;confidence&#39;: &#39;0.9992&#39;}, embeddings=[]), Row(annotatorType=&#39;chunk&#39;, begin=56, end=72, result=&#39;Hendrickson , Ora&#39;, metadata={&#39;sentence&#39;: &#39;1&#39;, &#39;chunk&#39;: &#39;2&#39;, &#39;ner_source&#39;: &#39;ner_subentity_chunk&#39;, &#39;entity&#39;: &#39;PATIENT&#39;, &#39;confidence&#39;: &#39;0.97753334&#39;}, embeddings=[]), Row(annotatorType=&#39;chunk&#39;, begin=79, end=85, result=&#39;7194334&#39;, metadata={&#39;sentence&#39;: &#39;1&#39;, &#39;chunk&#39;: &#39;3&#39;, &#39;ner_source&#39;: &#39;ner_subentity_chunk&#39;, &#39;entity&#39;: &#39;MEDICALRECORD&#39;, &#39;confidence&#39;: &#39;0.9981&#39;}, embeddings=[]), Row(annotatorType=&#39;chunk&#39;, begin=94, end=101, result=&#39;01/13/93&#39;, metadata={&#39;sentence&#39;: &#39;1&#39;, &#39;chunk&#39;: &#39;4&#39;, &#39;ner_source&#39;: &#39;ner_subentity_chunk&#39;, &#39;entity&#39;: &#39;DATE&#39;, &#39;confidence&#39;: &#39;1.0&#39;}, embeddings=[]), Row(annotatorType=&#39;chunk&#39;, begin=115, end=122, result=&#39;Oliveira&#39;, metadata={&#39;sentence&#39;: &#39;2&#39;, &#39;chunk&#39;: &#39;5&#39;, &#39;ner_source&#39;: &#39;ner_subentity_chunk&#39;, &#39;entity&#39;: &#39;PATIENT&#39;, &#39;confidence&#39;: &#39;0.9991&#39;}, embeddings=[]), Row(annotatorType=&#39;chunk&#39;, begin=125, end=126, result=&#39;25&#39;, metadata={&#39;sentence&#39;: &#39;2&#39;, &#39;chunk&#39;: &#39;6&#39;, &#39;ner_source&#39;: &#39;ner_subentity_chunk&#39;, &#39;entity&#39;: &#39;AGE&#39;, &#39;confidence&#39;: &#39;0.9241&#39;}, embeddings=[]), Row(annotatorType=&#39;chunk&#39;, begin=154, end=163, result=&#39;2079-11-09&#39;, metadata={&#39;sentence&#39;: &#39;2&#39;, &#39;chunk&#39;: &#39;7&#39;, &#39;ner_source&#39;: &#39;ner_subentity_chunk&#39;, &#39;entity&#39;: &#39;DATE&#39;, &#39;confidence&#39;: &#39;0.9999&#39;}, embeddings=[]), Row(annotatorType=&#39;chunk&#39;, begin=167, end=195, result=&#39;Cocke County Baptist Hospital&#39;, metadata={&#39;sentence&#39;: &#39;3&#39;, &#39;chunk&#39;: &#39;8&#39;, &#39;ner_source&#39;: &#39;ner_subentity_chunk&#39;, &#39;entity&#39;: &#39;HOSPITAL&#39;, &#39;confidence&#39;: &#39;0.987475&#39;}, embeddings=[]), Row(annotatorType=&#39;chunk&#39;, begin=199, end=215, result=&#39;0295 Keats Street&#39;, metadata={&#39;sentence&#39;: &#39;4&#39;, &#39;chunk&#39;: &#39;9&#39;, &#39;ner_source&#39;: &#39;ner_subentity_chunk&#39;, &#39;entity&#39;: &#39;STREET&#39;, &#39;confidence&#39;: &#39;0.9998&#39;}, embeddings=[])])]</div>"
      ]
     },
     "metadata": {
      "application/vnd.databricks.v1+output": {
       "addedWidgets": {},
       "arguments": {},
       "data": "<div class=\"ansiout\">Out[44]: [Row(ner_subentity_chunk=[Row(annotatorType=&#39;chunk&#39;, begin=15, end=24, result=&#39;2093-01-13&#39;, metadata={&#39;sentence&#39;: &#39;0&#39;, &#39;chunk&#39;: &#39;0&#39;, &#39;ner_source&#39;: &#39;ner_subentity_chunk&#39;, &#39;entity&#39;: &#39;DATE&#39;, &#39;confidence&#39;: &#39;1.0&#39;}, embeddings=[]), Row(annotatorType=&#39;chunk&#39;, begin=28, end=37, result=&#39;David Hale&#39;, metadata={&#39;sentence&#39;: &#39;0&#39;, &#39;chunk&#39;: &#39;1&#39;, &#39;ner_source&#39;: &#39;ner_subentity_chunk&#39;, &#39;entity&#39;: &#39;DOCTOR&#39;, &#39;confidence&#39;: &#39;0.9992&#39;}, embeddings=[]), Row(annotatorType=&#39;chunk&#39;, begin=56, end=72, result=&#39;Hendrickson , Ora&#39;, metadata={&#39;sentence&#39;: &#39;1&#39;, &#39;chunk&#39;: &#39;2&#39;, &#39;ner_source&#39;: &#39;ner_subentity_chunk&#39;, &#39;entity&#39;: &#39;PATIENT&#39;, &#39;confidence&#39;: &#39;0.97753334&#39;}, embeddings=[]), Row(annotatorType=&#39;chunk&#39;, begin=79, end=85, result=&#39;7194334&#39;, metadata={&#39;sentence&#39;: &#39;1&#39;, &#39;chunk&#39;: &#39;3&#39;, &#39;ner_source&#39;: &#39;ner_subentity_chunk&#39;, &#39;entity&#39;: &#39;MEDICALRECORD&#39;, &#39;confidence&#39;: &#39;0.9981&#39;}, embeddings=[]), Row(annotatorType=&#39;chunk&#39;, begin=94, end=101, result=&#39;01/13/93&#39;, metadata={&#39;sentence&#39;: &#39;1&#39;, &#39;chunk&#39;: &#39;4&#39;, &#39;ner_source&#39;: &#39;ner_subentity_chunk&#39;, &#39;entity&#39;: &#39;DATE&#39;, &#39;confidence&#39;: &#39;1.0&#39;}, embeddings=[]), Row(annotatorType=&#39;chunk&#39;, begin=115, end=122, result=&#39;Oliveira&#39;, metadata={&#39;sentence&#39;: &#39;2&#39;, &#39;chunk&#39;: &#39;5&#39;, &#39;ner_source&#39;: &#39;ner_subentity_chunk&#39;, &#39;entity&#39;: &#39;PATIENT&#39;, &#39;confidence&#39;: &#39;0.9991&#39;}, embeddings=[]), Row(annotatorType=&#39;chunk&#39;, begin=125, end=126, result=&#39;25&#39;, metadata={&#39;sentence&#39;: &#39;2&#39;, &#39;chunk&#39;: &#39;6&#39;, &#39;ner_source&#39;: &#39;ner_subentity_chunk&#39;, &#39;entity&#39;: &#39;AGE&#39;, &#39;confidence&#39;: &#39;0.9241&#39;}, embeddings=[]), Row(annotatorType=&#39;chunk&#39;, begin=154, end=163, result=&#39;2079-11-09&#39;, metadata={&#39;sentence&#39;: &#39;2&#39;, &#39;chunk&#39;: &#39;7&#39;, &#39;ner_source&#39;: &#39;ner_subentity_chunk&#39;, &#39;entity&#39;: &#39;DATE&#39;, &#39;confidence&#39;: &#39;0.9999&#39;}, embeddings=[]), Row(annotatorType=&#39;chunk&#39;, begin=167, end=195, result=&#39;Cocke County Baptist Hospital&#39;, metadata={&#39;sentence&#39;: &#39;3&#39;, &#39;chunk&#39;: &#39;8&#39;, &#39;ner_source&#39;: &#39;ner_subentity_chunk&#39;, &#39;entity&#39;: &#39;HOSPITAL&#39;, &#39;confidence&#39;: &#39;0.987475&#39;}, embeddings=[]), Row(annotatorType=&#39;chunk&#39;, begin=199, end=215, result=&#39;0295 Keats Street&#39;, metadata={&#39;sentence&#39;: &#39;4&#39;, &#39;chunk&#39;: &#39;9&#39;, &#39;ner_source&#39;: &#39;ner_subentity_chunk&#39;, &#39;entity&#39;: &#39;STREET&#39;, &#39;confidence&#39;: &#39;0.9998&#39;}, embeddings=[])])]</div>",
       "datasetInfos": [],
       "metadata": {},
       "removedWidgets": [],
       "type": "html"
      }
     },
     "output_type": "display_data"
    }
   ],
   "source": [
    "result.select(\"ner_subentity_chunk\").collect()"
   ]
  },
  {
   "cell_type": "code",
   "execution_count": 0,
   "metadata": {
    "application/vnd.databricks.v1+cell": {
     "cellMetadata": {
      "byteLimit": 2048000,
      "rowLimit": 10000
     },
     "inputWidgets": {},
     "nuid": "93100bd7-0d53-483e-8732-8bda4410a185",
     "showTitle": false,
     "title": ""
    }
   },
   "outputs": [
    {
     "output_type": "display_data",
     "data": {
      "text/html": [
       "<style scoped>\n",
       "  .ansiout {\n",
       "    display: block;\n",
       "    unicode-bidi: embed;\n",
       "    white-space: pre-wrap;\n",
       "    word-wrap: break-word;\n",
       "    word-break: break-all;\n",
       "    font-family: \"Source Code Pro\", \"Menlo\", monospace;;\n",
       "    font-size: 13px;\n",
       "    color: #555;\n",
       "    margin-left: 4px;\n",
       "    line-height: 19px;\n",
       "  }\n",
       "</style>\n",
       "<div class=\"ansiout\">Out[45]: </div>"
      ]
     },
     "metadata": {
      "application/vnd.databricks.v1+output": {
       "addedWidgets": {},
       "arguments": {},
       "data": "<div class=\"ansiout\">Out[45]: </div>",
       "datasetInfos": [],
       "metadata": {},
       "removedWidgets": [],
       "type": "html"
      }
     },
     "output_type": "display_data"
    },
    {
     "output_type": "display_data",
     "data": {
      "text/html": [
       "<div>\n",
       "<style scoped>\n",
       "    .dataframe tbody tr th:only-of-type {\n",
       "        vertical-align: middle;\n",
       "    }\n",
       "\n",
       "    .dataframe tbody tr th {\n",
       "        vertical-align: top;\n",
       "    }\n",
       "\n",
       "    .dataframe thead th {\n",
       "        text-align: right;\n",
       "    }\n",
       "</style>\n",
       "<table border=\"1\" class=\"dataframe\">\n",
       "  <thead>\n",
       "    <tr style=\"text-align: right;\">\n",
       "      <th></th>\n",
       "      <th>sentence</th>\n",
       "      <th>deidentified</th>\n",
       "    </tr>\n",
       "  </thead>\n",
       "  <tbody>\n",
       "    <tr>\n",
       "      <th>0</th>\n",
       "      <td>Record date : 2093-01-13 , David Hale , M.D .</td>\n",
       "      <td>Record date : 2093-02-05 , Mufi HIGGS , M.D .</td>\n",
       "    </tr>\n",
       "    <tr>\n",
       "      <th>1</th>\n",
       "      <td>, Name : Hendrickson , Ora MR # 7194334 Date : 01/13/93 .</td>\n",
       "      <td>, Name : Hubert GROGAN MR # 4540946 Date : 02/05/93 .</td>\n",
       "    </tr>\n",
       "    <tr>\n",
       "      <th>2</th>\n",
       "      <td>Patient : Oliveira, 25 years-old , Record date : 2079-11-09 .</td>\n",
       "      <td>Patient : Hubert GROGAN, &lt;AGE&gt; years-old , Record date : 2079-12-02 .</td>\n",
       "    </tr>\n",
       "    <tr>\n",
       "      <th>3</th>\n",
       "      <td>Cocke County Baptist Hospital .</td>\n",
       "      <td>&lt;HOSPITAL&gt; .</td>\n",
       "    </tr>\n",
       "    <tr>\n",
       "      <th>4</th>\n",
       "      <td>0295 Keats Street</td>\n",
       "      <td>&lt;STREET&gt;</td>\n",
       "    </tr>\n",
       "  </tbody>\n",
       "</table>\n",
       "</div>"
      ]
     },
     "metadata": {
      "application/vnd.databricks.v1+output": {
       "addedWidgets": {},
       "arguments": {},
       "data": "<div>\n<style scoped>\n    .dataframe tbody tr th:only-of-type {\n        vertical-align: middle;\n    }\n\n    .dataframe tbody tr th {\n        vertical-align: top;\n    }\n\n    .dataframe thead th {\n        text-align: right;\n    }\n</style>\n<table border=\"1\" class=\"dataframe\">\n  <thead>\n    <tr style=\"text-align: right;\">\n      <th></th>\n      <th>sentence</th>\n      <th>deidentified</th>\n    </tr>\n  </thead>\n  <tbody>\n    <tr>\n      <th>0</th>\n      <td>Record date : 2093-01-13 , David Hale , M.D .</td>\n      <td>Record date : 2093-02-05 , Mufi HIGGS , M.D .</td>\n    </tr>\n    <tr>\n      <th>1</th>\n      <td>, Name : Hendrickson , Ora MR # 7194334 Date : 01/13/93 .</td>\n      <td>, Name : Hubert GROGAN MR # 4540946 Date : 02/05/93 .</td>\n    </tr>\n    <tr>\n      <th>2</th>\n      <td>Patient : Oliveira, 25 years-old , Record date : 2079-11-09 .</td>\n      <td>Patient : Hubert GROGAN, &lt;AGE&gt; years-old , Record date : 2079-12-02 .</td>\n    </tr>\n    <tr>\n      <th>3</th>\n      <td>Cocke County Baptist Hospital .</td>\n      <td>&lt;HOSPITAL&gt; .</td>\n    </tr>\n    <tr>\n      <th>4</th>\n      <td>0295 Keats Street</td>\n      <td>&lt;STREET&gt;</td>\n    </tr>\n  </tbody>\n</table>\n</div>",
       "datasetInfos": [],
       "metadata": {},
       "removedWidgets": [],
       "textData": null,
       "type": "htmlSandbox"
      }
     },
     "output_type": "display_data"
    }
   ],
   "source": [
    "obfuscation = medical.DeIdentification()\\\n",
    "    .setInputCols([\"sentence\", \"token\", \"ner_subentity_chunk\"]) \\\n",
    "    .setOutputCol(\"deidentified\") \\\n",
    "    .setMode(\"obfuscate\")\\\n",
    "    .setObfuscateDate(True)\\\n",
    "    .setObfuscateRefFile('/dbfs/databricks/driver/obfuscation.txt')\\\n",
    "    .setObfuscateRefSource(\"file\")\n",
    "\n",
    "pipeline = nlp.Pipeline(stages=[\n",
    "    documentAssembler, \n",
    "    sentenceDetector,\n",
    "    tokenizer,\n",
    "    word_embeddings,\n",
    "    deid_ner_enriched,\n",
    "    ner_converter_enriched,\n",
    "    obfuscation\n",
    "])\n",
    "\n",
    "obfuscation_model = pipeline.fit(empty_data)      \n",
    "      \n",
    "      \n",
    "result = obfuscation_model.transform(spark.createDataFrame([[text]]).toDF(\"text\"))\n",
    "\n",
    "result.select(F.explode(F.arrays_zip(result.sentence.result, \n",
    "                                     result.deidentified.result)).alias(\"cols\")) \\\n",
    "      .select(F.expr(\"cols['0']\").alias(\"sentence\"), \n",
    "              F.expr(\"cols['1']\").alias(\"deidentified\")).toPandas()"
   ]
  },
  {
   "cell_type": "markdown",
   "metadata": {
    "application/vnd.databricks.v1+cell": {
     "cellMetadata": {},
     "inputWidgets": {},
     "nuid": "2f98c1d9-776c-436e-82ce-b94c0dc2436d",
     "showTitle": false,
     "title": ""
    },
    "id": "9vL7_bDHWZw8"
   },
   "source": [
    "## Faker mode"
   ]
  },
  {
   "cell_type": "markdown",
   "metadata": {
    "application/vnd.databricks.v1+cell": {
     "cellMetadata": {},
     "inputWidgets": {},
     "nuid": "012be163-bf94-4a39-b007-0c710ac14ac1",
     "showTitle": false,
     "title": ""
    },
    "id": "sE0P0vXWuJAS"
   },
   "source": [
    "The faker module allow to the user to use a set of fake entities that are in the memory of the spark-nlp-internal. You can setting up this module using the the following property setObfuscateRefSource('faker').\n",
    "\n",
    "If we select the setObfuscateRefSource('both') then we choose randomly the entities using the faker and the fakes entities from the obfuscateRefFile.\n",
    "\n",
    "\n",
    "The entities that are allowed right now are the followings:\n",
    "\n",
    "* Location\n",
    "* Location-other\n",
    "* Hospital\n",
    "* City\n",
    "* State\n",
    "* Zip\n",
    "* Country\n",
    "* Contact\n",
    "* Username\n",
    "* Phone\n",
    "* Fax\n",
    "* Url\n",
    "* Email\n",
    "* Profession\n",
    "* Name\n",
    "* Doctor\n",
    "* Patient\n",
    "* Id\n",
    "* Idnum\n",
    "* Bioid\n",
    "* Age\n",
    "* Organization\n",
    "* Healthplan\n",
    "* Medicalrecord\n",
    "* Ssn\n",
    "* Passport\n",
    "* DLN\n",
    "* NPI\n",
    "* C_card\n",
    "* IBAN\n",
    "* DEA\n",
    "* Device"
   ]
  },
  {
   "cell_type": "code",
   "execution_count": 0,
   "metadata": {
    "application/vnd.databricks.v1+cell": {
     "cellMetadata": {
      "byteLimit": 2048000,
      "rowLimit": 10000
     },
     "inputWidgets": {},
     "nuid": "81249733-ca60-428d-bcab-e975d4a323c7",
     "showTitle": false,
     "title": ""
    },
    "id": "w5P97F6jVkNB"
   },
   "outputs": [
    {
     "output_type": "display_data",
     "data": {
      "text/html": [
       "<style scoped>\n",
       "  .ansiout {\n",
       "    display: block;\n",
       "    unicode-bidi: embed;\n",
       "    white-space: pre-wrap;\n",
       "    word-wrap: break-word;\n",
       "    word-break: break-all;\n",
       "    font-family: \"Source Code Pro\", \"Menlo\", monospace;;\n",
       "    font-size: 13px;\n",
       "    color: #555;\n",
       "    margin-left: 4px;\n",
       "    line-height: 19px;\n",
       "  }\n",
       "</style>\n",
       "<div class=\"ansiout\"></div>"
      ]
     },
     "metadata": {
      "application/vnd.databricks.v1+output": {
       "addedWidgets": {},
       "arguments": {},
       "data": "<div class=\"ansiout\"></div>",
       "datasetInfos": [],
       "metadata": {},
       "removedWidgets": [],
       "type": "html"
      }
     },
     "output_type": "display_data"
    }
   ],
   "source": [
    "obfuscation = medical.DeIdentification()\\\n",
    "    .setInputCols([\"sentence\", \"token\", \"ner_subentity_chunk\"]) \\\n",
    "    .setOutputCol(\"deidentified\") \\\n",
    "    .setMode(\"obfuscate\")\\\n",
    "    .setObfuscateDate(True)\\\n",
    "    .setObfuscateRefSource(\"faker\") \\\n",
    "\n",
    "pipeline = nlp.Pipeline(stages=[\n",
    "    documentAssembler, \n",
    "    sentenceDetector,\n",
    "    tokenizer,\n",
    "    word_embeddings,\n",
    "    deid_ner_enriched,\n",
    "    ner_converter_enriched,\n",
    "    obfuscation\n",
    "])\n",
    "\n",
    "obfuscation_model = pipeline.fit(empty_data)"
   ]
  },
  {
   "cell_type": "code",
   "execution_count": 0,
   "metadata": {
    "application/vnd.databricks.v1+cell": {
     "cellMetadata": {
      "byteLimit": 2048000,
      "rowLimit": 10000
     },
     "inputWidgets": {},
     "nuid": "cf831a5a-e7a1-499d-8c67-3d4208d6a897",
     "showTitle": false,
     "title": ""
    },
    "colab": {
     "base_uri": "https://localhost:8080/",
     "height": 206
    },
    "id": "lf6OBIjvjWFd",
    "outputId": "a155ef7f-13b8-4e8e-e686-7287e8319518"
   },
   "outputs": [
    {
     "output_type": "display_data",
     "data": {
      "text/html": [
       "<style scoped>\n",
       "  .ansiout {\n",
       "    display: block;\n",
       "    unicode-bidi: embed;\n",
       "    white-space: pre-wrap;\n",
       "    word-wrap: break-word;\n",
       "    word-break: break-all;\n",
       "    font-family: \"Source Code Pro\", \"Menlo\", monospace;;\n",
       "    font-size: 13px;\n",
       "    color: #555;\n",
       "    margin-left: 4px;\n",
       "    line-height: 19px;\n",
       "  }\n",
       "</style>\n",
       "<div class=\"ansiout\">Out[47]: </div>"
      ]
     },
     "metadata": {
      "application/vnd.databricks.v1+output": {
       "addedWidgets": {},
       "arguments": {},
       "data": "<div class=\"ansiout\">Out[47]: </div>",
       "datasetInfos": [],
       "metadata": {},
       "removedWidgets": [],
       "type": "html"
      }
     },
     "output_type": "display_data"
    },
    {
     "output_type": "display_data",
     "data": {
      "text/html": [
       "<div>\n",
       "<style scoped>\n",
       "    .dataframe tbody tr th:only-of-type {\n",
       "        vertical-align: middle;\n",
       "    }\n",
       "\n",
       "    .dataframe tbody tr th {\n",
       "        vertical-align: top;\n",
       "    }\n",
       "\n",
       "    .dataframe thead th {\n",
       "        text-align: right;\n",
       "    }\n",
       "</style>\n",
       "<table border=\"1\" class=\"dataframe\">\n",
       "  <thead>\n",
       "    <tr style=\"text-align: right;\">\n",
       "      <th></th>\n",
       "      <th>sentence</th>\n",
       "      <th>deidentified</th>\n",
       "    </tr>\n",
       "  </thead>\n",
       "  <tbody>\n",
       "    <tr>\n",
       "      <th>0</th>\n",
       "      <td>Record date : 2093-01-13 , David Hale , M.D .</td>\n",
       "      <td>Record date : 2093-01-28 , Lowry Ram , M.D .</td>\n",
       "    </tr>\n",
       "    <tr>\n",
       "      <th>1</th>\n",
       "      <td>, Name : Hendrickson , Ora MR # 7194334 Date : 01/13/93 .</td>\n",
       "      <td>, Name : Pamala Duffel MR # 4142708 Date : 01/28/93 .</td>\n",
       "    </tr>\n",
       "    <tr>\n",
       "      <th>2</th>\n",
       "      <td>Patient : Oliveira, 25 years-old , Record date : 2079-11-09 .</td>\n",
       "      <td>Patient : Brown Human, 29 years-old , Record date : 2079-11-24 .</td>\n",
       "    </tr>\n",
       "    <tr>\n",
       "      <th>3</th>\n",
       "      <td>Cocke County Baptist Hospital .</td>\n",
       "      <td>TRADITION MEDICAL CENTER .</td>\n",
       "    </tr>\n",
       "    <tr>\n",
       "      <th>4</th>\n",
       "      <td>0295 Keats Street</td>\n",
       "      <td>P.O. Box 149</td>\n",
       "    </tr>\n",
       "  </tbody>\n",
       "</table>\n",
       "</div>"
      ]
     },
     "metadata": {
      "application/vnd.databricks.v1+output": {
       "addedWidgets": {},
       "arguments": {},
       "data": "<div>\n<style scoped>\n    .dataframe tbody tr th:only-of-type {\n        vertical-align: middle;\n    }\n\n    .dataframe tbody tr th {\n        vertical-align: top;\n    }\n\n    .dataframe thead th {\n        text-align: right;\n    }\n</style>\n<table border=\"1\" class=\"dataframe\">\n  <thead>\n    <tr style=\"text-align: right;\">\n      <th></th>\n      <th>sentence</th>\n      <th>deidentified</th>\n    </tr>\n  </thead>\n  <tbody>\n    <tr>\n      <th>0</th>\n      <td>Record date : 2093-01-13 , David Hale , M.D .</td>\n      <td>Record date : 2093-01-28 , Lowry Ram , M.D .</td>\n    </tr>\n    <tr>\n      <th>1</th>\n      <td>, Name : Hendrickson , Ora MR # 7194334 Date : 01/13/93 .</td>\n      <td>, Name : Pamala Duffel MR # 4142708 Date : 01/28/93 .</td>\n    </tr>\n    <tr>\n      <th>2</th>\n      <td>Patient : Oliveira, 25 years-old , Record date : 2079-11-09 .</td>\n      <td>Patient : Brown Human, 29 years-old , Record date : 2079-11-24 .</td>\n    </tr>\n    <tr>\n      <th>3</th>\n      <td>Cocke County Baptist Hospital .</td>\n      <td>TRADITION MEDICAL CENTER .</td>\n    </tr>\n    <tr>\n      <th>4</th>\n      <td>0295 Keats Street</td>\n      <td>P.O. Box 149</td>\n    </tr>\n  </tbody>\n</table>\n</div>",
       "datasetInfos": [],
       "metadata": {},
       "removedWidgets": [],
       "textData": null,
       "type": "htmlSandbox"
      }
     },
     "output_type": "display_data"
    }
   ],
   "source": [
    "text ='''\n",
    "Record date : 2093-01-13 , David Hale , M.D . , Name : Hendrickson , Ora MR # 7194334 Date : 01/13/93 . Patient : Oliveira, 25 years-old , Record date : 2079-11-09 . Cocke County Baptist Hospital . 0295 Keats Street\n",
    "'''\n",
    "\n",
    "result = obfuscation_model.transform(spark.createDataFrame([[text]]).toDF(\"text\"))\n",
    "\n",
    "result.select(F.explode(F.arrays_zip(result.sentence.result, \n",
    "                                     result.deidentified.result)).alias(\"cols\")) \\\n",
    "      .select(F.expr(\"cols['0']\").alias(\"sentence\"), F.expr(\"cols['1']\").alias(\"deidentified\")).toPandas()"
   ]
  },
  {
   "cell_type": "markdown",
   "metadata": {
    "application/vnd.databricks.v1+cell": {
     "cellMetadata": {},
     "inputWidgets": {},
     "nuid": "d7ff2b25-e8bd-425b-b0ef-b6b8420a8352",
     "showTitle": false,
     "title": ""
    },
    "id": "9jAMC21Hf89v"
   },
   "source": [
    "## Use full pipeline in the Light model"
   ]
  },
  {
   "cell_type": "code",
   "execution_count": 0,
   "metadata": {
    "application/vnd.databricks.v1+cell": {
     "cellMetadata": {
      "byteLimit": 2048000,
      "rowLimit": 10000
     },
     "inputWidgets": {},
     "nuid": "71a58527-7233-48be-8261-565824dda153",
     "showTitle": false,
     "title": ""
    },
    "colab": {
     "base_uri": "https://localhost:8080/"
    },
    "id": "q4mg2R-yW4nz",
    "outputId": "25ad7678-012d-4c1d-81e7-a4b7eb39365c"
   },
   "outputs": [
    {
     "output_type": "display_data",
     "data": {
      "text/html": [
       "<style scoped>\n",
       "  .ansiout {\n",
       "    display: block;\n",
       "    unicode-bidi: embed;\n",
       "    white-space: pre-wrap;\n",
       "    word-wrap: break-word;\n",
       "    word-break: break-all;\n",
       "    font-family: \"Source Code Pro\", \"Menlo\", monospace;;\n",
       "    font-size: 13px;\n",
       "    color: #555;\n",
       "    margin-left: 4px;\n",
       "    line-height: 19px;\n",
       "  }\n",
       "</style>\n",
       "<div class=\"ansiout\">Out[48]: [&#39;Record date : &lt;DATE&gt; , &lt;NAME&gt; , M.D .&#39;,\n",
       " &#39;, Name : &lt;NAME&gt; MR # &lt;ID&gt; Date : &lt;DATE&gt; .&#39;,\n",
       " &#39;Patient : &lt;NAME&gt;, &lt;AGE&gt; years-old , Record date : &lt;DATE&gt; .&#39;,\n",
       " &#39;&lt;HOSPITAL&gt; .&#39;,\n",
       " &#39;&lt;STREET&gt;&#39;]</div>"
      ]
     },
     "metadata": {
      "application/vnd.databricks.v1+output": {
       "addedWidgets": {},
       "arguments": {},
       "data": "<div class=\"ansiout\">Out[48]: [&#39;Record date : &lt;DATE&gt; , &lt;NAME&gt; , M.D .&#39;,\n &#39;, Name : &lt;NAME&gt; MR # &lt;ID&gt; Date : &lt;DATE&gt; .&#39;,\n &#39;Patient : &lt;NAME&gt;, &lt;AGE&gt; years-old , Record date : &lt;DATE&gt; .&#39;,\n &#39;&lt;HOSPITAL&gt; .&#39;,\n &#39;&lt;STREET&gt;&#39;]</div>",
       "datasetInfos": [],
       "metadata": {},
       "removedWidgets": [],
       "type": "html"
      }
     },
     "output_type": "display_data"
    }
   ],
   "source": [
    "light_model = nlp.LightPipeline(model)\n",
    "annotated_text = light_model.annotate(text)\n",
    "annotated_text['deidentified']"
   ]
  },
  {
   "cell_type": "code",
   "execution_count": 0,
   "metadata": {
    "application/vnd.databricks.v1+cell": {
     "cellMetadata": {
      "byteLimit": 2048000,
      "rowLimit": 10000
     },
     "inputWidgets": {},
     "nuid": "e8ca1e6d-ec44-4094-93e4-71fe64445e74",
     "showTitle": false,
     "title": ""
    },
    "colab": {
     "base_uri": "https://localhost:8080/"
    },
    "id": "rGALkSGQjf4h",
    "outputId": "12c86f09-5474-405e-a879-76b3e3d111cb"
   },
   "outputs": [
    {
     "output_type": "display_data",
     "data": {
      "text/html": [
       "<style scoped>\n",
       "  .ansiout {\n",
       "    display: block;\n",
       "    unicode-bidi: embed;\n",
       "    white-space: pre-wrap;\n",
       "    word-wrap: break-word;\n",
       "    word-break: break-all;\n",
       "    font-family: \"Source Code Pro\", \"Menlo\", monospace;;\n",
       "    font-size: 13px;\n",
       "    color: #555;\n",
       "    margin-left: 4px;\n",
       "    line-height: 19px;\n",
       "  }\n",
       "</style>\n",
       "<div class=\"ansiout\">Out[49]: [&#39;Record date : 2093-01-28 , Lowry Ram , M.D .&#39;,\n",
       " &#39;, Name : Pamala Duffel MR # 1279074 Date : 01/28/93 .&#39;,\n",
       " &#39;Patient : Brown Human, 29 years-old , Record date : 2079-11-24 .&#39;,\n",
       " &#39;TRADITION MEDICAL CENTER .&#39;,\n",
       " &#39;P.O. Box 149&#39;]</div>"
      ]
     },
     "metadata": {
      "application/vnd.databricks.v1+output": {
       "addedWidgets": {},
       "arguments": {},
       "data": "<div class=\"ansiout\">Out[49]: [&#39;Record date : 2093-01-28 , Lowry Ram , M.D .&#39;,\n &#39;, Name : Pamala Duffel MR # 1279074 Date : 01/28/93 .&#39;,\n &#39;Patient : Brown Human, 29 years-old , Record date : 2079-11-24 .&#39;,\n &#39;TRADITION MEDICAL CENTER .&#39;,\n &#39;P.O. Box 149&#39;]</div>",
       "datasetInfos": [],
       "metadata": {},
       "removedWidgets": [],
       "type": "html"
      }
     },
     "output_type": "display_data"
    }
   ],
   "source": [
    "obf_light_model = nlp.LightPipeline(obfuscation_model)\n",
    "annotated_text = obf_light_model.annotate(text)\n",
    "annotated_text['deidentified']"
   ]
  },
  {
   "cell_type": "markdown",
   "metadata": {
    "application/vnd.databricks.v1+cell": {
     "cellMetadata": {},
     "inputWidgets": {},
     "nuid": "7a7b2542-6866-4a35-bfe9-498eb2b14072",
     "showTitle": false,
     "title": ""
    }
   },
   "source": [
    "## Age Groups Obfuscation"
   ]
  },
  {
   "cell_type": "code",
   "execution_count": 0,
   "metadata": {
    "application/vnd.databricks.v1+cell": {
     "cellMetadata": {
      "byteLimit": 2048000,
      "rowLimit": 10000
     },
     "inputWidgets": {},
     "nuid": "79ed8bad-414a-40a8-8c3e-2abfd8a8cf3a",
     "showTitle": false,
     "title": ""
    }
   },
   "outputs": [
    {
     "output_type": "display_data",
     "data": {
      "text/html": [
       "<style scoped>\n",
       "  .ansiout {\n",
       "    display: block;\n",
       "    unicode-bidi: embed;\n",
       "    white-space: pre-wrap;\n",
       "    word-wrap: break-word;\n",
       "    word-break: break-all;\n",
       "    font-family: \"Source Code Pro\", \"Menlo\", monospace;;\n",
       "    font-size: 13px;\n",
       "    color: #555;\n",
       "    margin-left: 4px;\n",
       "    line-height: 19px;\n",
       "  }\n",
       "</style>\n",
       "<div class=\"ansiout\"></div>"
      ]
     },
     "metadata": {
      "application/vnd.databricks.v1+output": {
       "addedWidgets": {},
       "arguments": {},
       "data": "<div class=\"ansiout\"></div>",
       "datasetInfos": [],
       "metadata": {},
       "removedWidgets": [],
       "type": "html"
      }
     },
     "output_type": "display_data"
    }
   ],
   "source": [
    "ner_converter = medical.NerConverterInternal()\\\n",
    "    .setInputCols([\"sentence\", \"token\", \"ner\"])\\\n",
    "    .setOutputCol(\"age_chunk\")\\\n",
    "    .setWhiteList([\"AGE\"])\n",
    "\n",
    "obfuscation = medical.DeIdentification()\\\n",
    "    .setInputCols([\"sentence\", \"token\", \"age_chunk\"]) \\\n",
    "    .setOutputCol(\"obfuscation\") \\\n",
    "    .setMode(\"obfuscate\")\\\n",
    "    .setObfuscateDate(True)\\\n",
    "    .setObfuscateRefSource(\"faker\") \\\n",
    "    .setAgeRanges([1, 4, 12, 20, 40, 60, 80])\n",
    "\n",
    "nlpPipeline = nlp.Pipeline(stages=[\n",
    "      documentAssembler, \n",
    "      sentenceDetector,\n",
    "      tokenizer,\n",
    "      word_embeddings,\n",
    "      clinical_ner,\n",
    "      ner_converter,\n",
    "      obfuscation\n",
    "      ])\n",
    "\n",
    "empty_data = spark.createDataFrame([[\"\"]]).toDF(\"text\")\n",
    "\n",
    "model_agerange = nlpPipeline.fit(empty_data)"
   ]
  },
  {
   "cell_type": "code",
   "execution_count": 0,
   "metadata": {
    "application/vnd.databricks.v1+cell": {
     "cellMetadata": {
      "byteLimit": 2048000,
      "rowLimit": 10000
     },
     "inputWidgets": {},
     "nuid": "d7ee5dc5-9051-418b-a66a-805fb761e2b8",
     "showTitle": false,
     "title": ""
    }
   },
   "outputs": [
    {
     "output_type": "display_data",
     "data": {
      "text/html": [
       "<style scoped>\n",
       "  .ansiout {\n",
       "    display: block;\n",
       "    unicode-bidi: embed;\n",
       "    white-space: pre-wrap;\n",
       "    word-wrap: break-word;\n",
       "    word-break: break-all;\n",
       "    font-family: \"Source Code Pro\", \"Menlo\", monospace;;\n",
       "    font-size: 13px;\n",
       "    color: #555;\n",
       "    margin-left: 4px;\n",
       "    line-height: 19px;\n",
       "  }\n",
       "</style>\n",
       "<div class=\"ansiout\">+--------------------------------+---------+--------------------------------+\n",
       "text                            |age_chunk|obfuscation                     |\n",
       "+--------------------------------+---------+--------------------------------+\n",
       "1 year old baby                 |1        |2 year old baby                 |\n",
       "4 year old kids                 |4        |11 year old kids                |\n",
       "A 15 year old female with       |15       |A 16 year old female with       |\n",
       "Record date: 2093-01-13, Age: 25|25       |Record date: 2093-02-03, Age: 29|\n",
       "Patient is 45 years-old         |45       |Patient is 43 years-old         |\n",
       "He is 65 years-old male         |65       |He is 74 years-old male         |\n",
       "+--------------------------------+---------+--------------------------------+\n",
       "\n",
       "</div>"
      ]
     },
     "metadata": {
      "application/vnd.databricks.v1+output": {
       "addedWidgets": {},
       "arguments": {},
       "data": "<div class=\"ansiout\">+--------------------------------+---------+--------------------------------+\n|text                            |age_chunk|obfuscation                     |\n+--------------------------------+---------+--------------------------------+\n|1 year old baby                 |1        |2 year old baby                 |\n|4 year old kids                 |4        |11 year old kids                |\n|A 15 year old female with       |15       |A 16 year old female with       |\n|Record date: 2093-01-13, Age: 25|25       |Record date: 2093-02-03, Age: 29|\n|Patient is 45 years-old         |45       |Patient is 43 years-old         |\n|He is 65 years-old male         |65       |He is 74 years-old male         |\n+--------------------------------+---------+--------------------------------+\n\n</div>",
       "datasetInfos": [],
       "metadata": {},
       "removedWidgets": [],
       "type": "html"
      }
     },
     "output_type": "display_data"
    }
   ],
   "source": [
    "# Infant = 0-1 year.\n",
    "# Toddler = 2-4 yrs.\n",
    "# Child = 5-12 yrs.\n",
    "# Teen = 13-19 yrs.\n",
    "# Adult = 20-39 yrs.\n",
    "# Middle Age Adult = 40-59 yrs.\n",
    "# Senior Adult = 60+\n",
    "\n",
    "dates = [\n",
    "'1 year old baby',\n",
    "'4 year old kids',\n",
    "'A 15 year old female with',\n",
    "'Record date: 2093-01-13, Age: 25',\n",
    "'Patient is 45 years-old',\n",
    "'He is 65 years-old male'\n",
    "]\n",
    "from pyspark.sql.types import StringType\n",
    "df_dates = spark.createDataFrame(dates,StringType()).toDF('text')\n",
    "\n",
    "\n",
    "result = model_agerange.transform(df_dates)\n",
    "\n",
    "result_df = result.select(\"text\",F.explode(F.arrays_zip(result.age_chunk.result, \n",
    "                                                        result.obfuscation.result)).alias(\"cols\")) \\\n",
    "                  .select(\"text\",F.expr(\"cols['0']\").alias(\"age_chunk\"),\n",
    "                                 F.expr(\"cols['1']\").alias(\"obfuscation\"))\n",
    "                  \n",
    "result_df.show(truncate=False)"
   ]
  },
  {
   "cell_type": "markdown",
   "metadata": {
    "application/vnd.databricks.v1+cell": {
     "cellMetadata": {},
     "inputWidgets": {},
     "nuid": "ac8343f2-9e3a-4af3-9dbc-b98cca952a8f",
     "showTitle": false,
     "title": ""
    }
   },
   "source": [
    "## NameChunkObfuscatorApproach"
   ]
  },
  {
   "cell_type": "code",
   "execution_count": 0,
   "metadata": {
    "application/vnd.databricks.v1+cell": {
     "cellMetadata": {
      "byteLimit": 2048000,
      "rowLimit": 10000
     },
     "inputWidgets": {},
     "nuid": "19ac1302-977c-4ec2-a1fc-5482d1f5d1d2",
     "showTitle": false,
     "title": ""
    }
   },
   "outputs": [
    {
     "output_type": "display_data",
     "data": {
      "text/html": [
       "<style scoped>\n",
       "  .ansiout {\n",
       "    display: block;\n",
       "    unicode-bidi: embed;\n",
       "    white-space: pre-wrap;\n",
       "    word-wrap: break-word;\n",
       "    word-break: break-all;\n",
       "    font-family: \"Source Code Pro\", \"Menlo\", monospace;;\n",
       "    font-size: 13px;\n",
       "    color: #555;\n",
       "    margin-left: 4px;\n",
       "    line-height: 19px;\n",
       "  }\n",
       "</style>\n",
       "<div class=\"ansiout\"></div>"
      ]
     },
     "metadata": {
      "application/vnd.databricks.v1+output": {
       "addedWidgets": {},
       "arguments": {},
       "data": "<div class=\"ansiout\"></div>",
       "datasetInfos": [],
       "metadata": {},
       "removedWidgets": [],
       "type": "html"
      }
     },
     "output_type": "display_data"
    }
   ],
   "source": [
    "names = \"\"\"Mitchell#NAME\n",
    "Clifford#NAME\n",
    "Jeremiah#NAME\n",
    "Lawrence#NAME\n",
    "Brittany#NAME\n",
    "Patricia#NAME\n",
    "Samantha#NAME\n",
    "Jennifer#NAME\n",
    "Jackson#NAME\n",
    "Leonard#NAME\n",
    "Randall#NAME\n",
    "Camacho#NAME\n",
    "Ferrell#NAME\n",
    "Mueller#NAME\n",
    "Bowman#NAME\n",
    "Hansen#NAME\n",
    "Acosta#NAME\n",
    "Gillespie#NAME\n",
    "Zimmerman#NAME\n",
    "Gillespie#NAME\n",
    "Chandler#NAME\n",
    "Bradshaw#NAME\n",
    "Ferguson#NAME\n",
    "Jacobson#NAME\n",
    "Figueroa#NAME\n",
    "Chandler#NAME\n",
    "Schaefer#NAME\n",
    "Matthews#NAME\n",
    "Ferguson#NAME\n",
    "Bradshaw#NAME\n",
    "Figueroa#NAME\n",
    "Delacruz#NAME\n",
    "Gallegos#NAME\n",
    "Villarreal#NAME\n",
    "Williamson#NAME\n",
    "Montgomery#NAME\n",
    "Mclaughlin#NAME\n",
    "Blankenship#NAME\n",
    "Fitzpatrick#NAME\n",
    "\"\"\"\n",
    "\n",
    "with open('names_test.txt', 'w') as file:\n",
    "    file.write(names)"
   ]
  },
  {
   "cell_type": "code",
   "execution_count": 0,
   "metadata": {
    "application/vnd.databricks.v1+cell": {
     "cellMetadata": {
      "byteLimit": 2048000,
      "rowLimit": 10000
     },
     "inputWidgets": {},
     "nuid": "80399894-7d8c-499f-a4d6-12a19211b49b",
     "showTitle": false,
     "title": ""
    }
   },
   "outputs": [
    {
     "output_type": "display_data",
     "data": {
      "text/html": [
       "<style scoped>\n",
       "  .ansiout {\n",
       "    display: block;\n",
       "    unicode-bidi: embed;\n",
       "    white-space: pre-wrap;\n",
       "    word-wrap: break-word;\n",
       "    word-break: break-all;\n",
       "    font-family: \"Source Code Pro\", \"Menlo\", monospace;;\n",
       "    font-size: 13px;\n",
       "    color: #555;\n",
       "    margin-left: 4px;\n",
       "    line-height: 19px;\n",
       "  }\n",
       "</style>\n",
       "<div class=\"ansiout\">embeddings_clinical download started this may take some time.\n",
       "Approximate size to download 1.6 GB\n",
       "\r[ | ]\r[OK!]\n",
       "ner_deid_generic_augmented download started this may take some time.\n",
       "\r[ | ]\r[OK!]\n",
       "</div>"
      ]
     },
     "metadata": {
      "application/vnd.databricks.v1+output": {
       "addedWidgets": {},
       "arguments": {},
       "data": "<div class=\"ansiout\">embeddings_clinical download started this may take some time.\nApproximate size to download 1.6 GB\n\r[ | ]\r[OK!]\nner_deid_generic_augmented download started this may take some time.\n\r[ | ]\r[OK!]\n</div>",
       "datasetInfos": [],
       "metadata": {},
       "removedWidgets": [],
       "type": "html"
      }
     },
     "output_type": "display_data"
    }
   ],
   "source": [
    "documentAssembler = nlp.DocumentAssembler()\\\n",
    "  .setInputCol(\"text\")\\\n",
    "  .setOutputCol(\"sentence\")\\\n",
    "\n",
    "tokenizer = nlp.Tokenizer()\\\n",
    "  .setInputCols(\"sentence\")\\\n",
    "  .setOutputCol(\"token\")\\\n",
    "\n",
    "# Clinical word embeddings trained on PubMED dataset\n",
    "word_embeddings = nlp.WordEmbeddingsModel.pretrained(\"embeddings_clinical\", \"en\", \"clinical/models\")\\\n",
    "    .setInputCols([\"sentence\", \"token\"])\\\n",
    "    .setOutputCol(\"embeddings\")\n",
    "\n",
    "# NER model trained on n2c2 (de-identification and Heart Disease Risk Factors Challenge) datasets)\n",
    "clinical_ner = medical.NerModel.pretrained(\"ner_deid_generic_augmented\", \"en\", \"clinical/models\") \\\n",
    "    .setInputCols([\"sentence\", \"token\", \"embeddings\"]) \\\n",
    "    .setOutputCol(\"ner\")\n",
    "\n",
    "ner_converter_name = medical.NerConverterInternal()\\\n",
    "    .setInputCols([\"sentence\",\"token\",\"ner\"])\\\n",
    "    .setOutputCol(\"ner_chunk\")\n",
    "\n",
    "nameChunkObfuscator = medical.NameChunkObfuscatorApproach()\\\n",
    "  .setInputCols(\"ner_chunk\")\\\n",
    "  .setOutputCol(\"replacement\")\\\n",
    "  .setRefFileFormat(\"csv\")\\\n",
    "  .setObfuscateRefFile(\"names_test.txt\")\\\n",
    "  .setRefSep(\"#\")\\\n",
    "\n",
    "replacer_name = medical.Replacer()\\\n",
    "  .setInputCols(\"replacement\",\"sentence\")\\\n",
    "  .setOutputCol(\"obfuscated_document_name\")\\\n",
    "  .setUseReplacement(True)\n",
    "\n",
    "nlpPipeline = nlp.Pipeline(stages=[\n",
    "    documentAssembler,\n",
    "    tokenizer,\n",
    "    word_embeddings,\n",
    "    clinical_ner,\n",
    "    ner_converter_name,\n",
    "    nameChunkObfuscator,\n",
    "    replacer_name,\n",
    "    ])\n",
    "\n",
    "empty_data = spark.createDataFrame([[\"\"]]).toDF(\"text\")\n",
    "model_chunck_obfuscator = nlpPipeline.fit(empty_data)"
   ]
  },
  {
   "cell_type": "code",
   "execution_count": 0,
   "metadata": {
    "application/vnd.databricks.v1+cell": {
     "cellMetadata": {
      "byteLimit": 2048000,
      "rowLimit": 10000
     },
     "inputWidgets": {},
     "nuid": "3fe8c9d2-e633-4095-9dab-10f8804b9c26",
     "showTitle": false,
     "title": ""
    }
   },
   "outputs": [
    {
     "output_type": "display_data",
     "data": {
      "text/html": [
       "<style scoped>\n",
       "  .ansiout {\n",
       "    display: block;\n",
       "    unicode-bidi: embed;\n",
       "    white-space: pre-wrap;\n",
       "    word-wrap: break-word;\n",
       "    word-break: break-all;\n",
       "    font-family: \"Source Code Pro\", \"Menlo\", monospace;;\n",
       "    font-size: 13px;\n",
       "    color: #555;\n",
       "    margin-left: 4px;\n",
       "    line-height: 19px;\n",
       "  }\n",
       "</style>\n",
       "<div class=\"ansiout\"></div>"
      ]
     },
     "metadata": {
      "application/vnd.databricks.v1+output": {
       "addedWidgets": {},
       "arguments": {},
       "data": "<div class=\"ansiout\"></div>",
       "datasetInfos": [],
       "metadata": {},
       "removedWidgets": [],
       "type": "html"
      }
     },
     "output_type": "display_data"
    }
   ],
   "source": [
    "sample_text = '''John Davies is a 62 y.o. patient admitted. Mr. Davies was seen by attending physician Dr. Lorand and was scheduled for emergency assessment.'''\n",
    "\n",
    "lmodel = nlp.LightPipeline(model_chunck_obfuscator)\n",
    "\n",
    "res = lmodel.fullAnnotate(sample_text)"
   ]
  },
  {
   "cell_type": "code",
   "execution_count": 0,
   "metadata": {
    "application/vnd.databricks.v1+cell": {
     "cellMetadata": {
      "byteLimit": 2048000,
      "rowLimit": 10000
     },
     "inputWidgets": {},
     "nuid": "9f088d91-9e34-4588-98b6-3716413ed5d3",
     "showTitle": false,
     "title": ""
    }
   },
   "outputs": [
    {
     "output_type": "display_data",
     "data": {
      "text/html": [
       "<style scoped>\n",
       "  .ansiout {\n",
       "    display: block;\n",
       "    unicode-bidi: embed;\n",
       "    white-space: pre-wrap;\n",
       "    word-wrap: break-word;\n",
       "    word-break: break-all;\n",
       "    font-family: \"Source Code Pro\", \"Menlo\", monospace;;\n",
       "    font-size: 13px;\n",
       "    color: #555;\n",
       "    margin-left: 4px;\n",
       "    line-height: 19px;\n",
       "  }\n",
       "</style>\n",
       "<div class=\"ansiout\">Original text.  :  John Davies is a 62 y.o. patient admitted. Mr. Davies was seen by attending physician Dr. Lorand and was scheduled for emergency assessment.\n",
       "Obfuscated text :  Wilhelminia is a 62 y.o. patient admitted. Mr. Nathen was seen by attending physician Dr. Lannis and was scheduled for emergency assessment.\n",
       "</div>"
      ]
     },
     "metadata": {
      "application/vnd.databricks.v1+output": {
       "addedWidgets": {},
       "arguments": {},
       "data": "<div class=\"ansiout\">Original text.  :  John Davies is a 62 y.o. patient admitted. Mr. Davies was seen by attending physician Dr. Lorand and was scheduled for emergency assessment.\nObfuscated text :  Wilhelminia is a 62 y.o. patient admitted. Mr. Nathen was seen by attending physician Dr. Lannis and was scheduled for emergency assessment.\n</div>",
       "datasetInfos": [],
       "metadata": {},
       "removedWidgets": [],
       "type": "html"
      }
     },
     "output_type": "display_data"
    }
   ],
   "source": [
    "print(\"Original text.  : \", res[0]['sentence'][0].result)\n",
    "print(\"Obfuscated text : \", res[0]['obfuscated_document_name'][0].result)"
   ]
  },
  {
   "cell_type": "markdown",
   "metadata": {
    "application/vnd.databricks.v1+cell": {
     "cellMetadata": {},
     "inputWidgets": {},
     "nuid": "daf45f5d-52cc-4eb4-ac00-319ac8f66aaf",
     "showTitle": false,
     "title": ""
    }
   },
   "source": [
    "## Shifting Days\n",
    "\n",
    "In the examples above, we replaced date entities with another date randomly. Instead of that, we can shift the date according to any column."
   ]
  },
  {
   "cell_type": "code",
   "execution_count": 0,
   "metadata": {
    "application/vnd.databricks.v1+cell": {
     "cellMetadata": {
      "byteLimit": 2048000,
      "rowLimit": 10000
     },
     "inputWidgets": {},
     "nuid": "53346fc3-2006-4c4b-bce5-5970ba9a4795",
     "showTitle": false,
     "title": ""
    }
   },
   "outputs": [
    {
     "output_type": "display_data",
     "data": {
      "text/html": [
       "<style scoped>\n",
       "  .ansiout {\n",
       "    display: block;\n",
       "    unicode-bidi: embed;\n",
       "    white-space: pre-wrap;\n",
       "    word-wrap: break-word;\n",
       "    word-break: break-all;\n",
       "    font-family: \"Source Code Pro\", \"Menlo\", monospace;;\n",
       "    font-size: 13px;\n",
       "    color: #555;\n",
       "    margin-left: 4px;\n",
       "    line-height: 19px;\n",
       "  }\n",
       "</style>\n",
       "<div class=\"ansiout\">+---------+----------------------------------------+\n",
       "patientID|text                                    |\n",
       "+---------+----------------------------------------+\n",
       "A001     |Chris Brown was discharged on 10/02/2022|\n",
       "A001     |Mark White was discharged on 02/28/2020 |\n",
       "A002     |John was discharged on 03/15/2022       |\n",
       "A002     |John Moore was discharged on 12/31/2022 |\n",
       "+---------+----------------------------------------+\n",
       "\n",
       "</div>"
      ]
     },
     "metadata": {
      "application/vnd.databricks.v1+output": {
       "addedWidgets": {},
       "arguments": {},
       "data": "<div class=\"ansiout\">+---------+----------------------------------------+\n|patientID|text                                    |\n+---------+----------------------------------------+\n|A001     |Chris Brown was discharged on 10/02/2022|\n|A001     |Mark White was discharged on 02/28/2020 |\n|A002     |John was discharged on 03/15/2022       |\n|A002     |John Moore was discharged on 12/31/2022 |\n+---------+----------------------------------------+\n\n</div>",
       "datasetInfos": [],
       "metadata": {},
       "removedWidgets": [],
       "type": "html"
      }
     },
     "output_type": "display_data"
    }
   ],
   "source": [
    "data = pd.DataFrame(\n",
    "    {'patientID' : ['A001', 'A001', 'A002', 'A002'],\n",
    "     'text' : ['Chris Brown was discharged on 10/02/2022', \n",
    "               'Mark White was discharged on 02/28/2020', \n",
    "               'John was discharged on 03/15/2022',\n",
    "               'John Moore was discharged on 12/31/2022'\n",
    "              ]\n",
    "    }\n",
    ")\n",
    "\n",
    "my_input_df = spark.createDataFrame(data)\n",
    "\n",
    "my_input_df.show(truncate = False)"
   ]
  },
  {
   "cell_type": "markdown",
   "metadata": {
    "application/vnd.databricks.v1+cell": {
     "cellMetadata": {},
     "inputWidgets": {},
     "nuid": "bb11cc91-9757-4b7e-a1d9-a3393e2faede",
     "showTitle": false,
     "title": ""
    }
   },
   "source": [
    "### Shifting days according to the ID column\n",
    "\n",
    "We use the `DocumentHashCoder()` annotator to determine shifting days. This annotator gets the hash of the specified column and creates a new document column containing day shift information. And then, the `DeIdentification` annotator deidentifies this new doc. We should set the seed parameter to hash consistently."
   ]
  },
  {
   "cell_type": "code",
   "execution_count": 0,
   "metadata": {
    "application/vnd.databricks.v1+cell": {
     "cellMetadata": {
      "byteLimit": 2048000,
      "rowLimit": 10000
     },
     "inputWidgets": {},
     "nuid": "2482a8fc-72d9-433c-9c61-ac02ad86f0e9",
     "showTitle": false,
     "title": ""
    }
   },
   "outputs": [
    {
     "output_type": "display_data",
     "data": {
      "text/html": [
       "<style scoped>\n",
       "  .ansiout {\n",
       "    display: block;\n",
       "    unicode-bidi: embed;\n",
       "    white-space: pre-wrap;\n",
       "    word-wrap: break-word;\n",
       "    word-break: break-all;\n",
       "    font-family: \"Source Code Pro\", \"Menlo\", monospace;;\n",
       "    font-size: 13px;\n",
       "    color: #555;\n",
       "    margin-left: 4px;\n",
       "    line-height: 19px;\n",
       "  }\n",
       "</style>\n",
       "<div class=\"ansiout\">embeddings_clinical download started this may take some time.\n",
       "Approximate size to download 1.6 GB\n",
       "\r[ | ]\r[OK!]\n",
       "ner_deid_subentity_augmented download started this may take some time.\n",
       "\r[ | ]\r[OK!]\n",
       "</div>"
      ]
     },
     "metadata": {
      "application/vnd.databricks.v1+output": {
       "addedWidgets": {},
       "arguments": {},
       "data": "<div class=\"ansiout\">embeddings_clinical download started this may take some time.\nApproximate size to download 1.6 GB\n\r[ | ]\r[OK!]\nner_deid_subentity_augmented download started this may take some time.\n\r[ | ]\r[OK!]\n</div>",
       "datasetInfos": [],
       "metadata": {},
       "removedWidgets": [],
       "type": "html"
      }
     },
     "output_type": "display_data"
    }
   ],
   "source": [
    "documentAssembler = nlp.DocumentAssembler()\\\n",
    "    .setInputCol(\"text\")\\\n",
    "    .setOutputCol(\"document\")\n",
    "\n",
    "documentHasher = medical.DocumentHashCoder()\\\n",
    "    .setInputCols(\"document\")\\\n",
    "    .setOutputCol(\"document2\")\\\n",
    "    .setPatientIdColumn(\"patientID\")\\\n",
    "    .setRangeDays(100)\\\n",
    "    .setNewDateShift(\"shift_days\")\\\n",
    "    .setSeed(100)\n",
    "\n",
    "tokenizer = nlp.Tokenizer()\\\n",
    "    .setInputCols([\"document2\"])\\\n",
    "    .setOutputCol(\"token\")\n",
    "\n",
    "embeddings = nlp.WordEmbeddingsModel.pretrained(\"embeddings_clinical\", \"en\", \"clinical/models\")\\\n",
    "    .setInputCols([\"document2\", \"token\"])\\\n",
    "    .setOutputCol(\"word_embeddings\")\n",
    "\n",
    "clinical_ner = medical.NerModel\\\n",
    "    .pretrained(\"ner_deid_subentity_augmented\", \"en\", \"clinical/models\")\\\n",
    "    .setInputCols([\"document2\",\"token\", \"word_embeddings\"])\\\n",
    "    .setOutputCol(\"ner\")\n",
    "\n",
    "ner_converter = medical.NerConverterInternal()\\\n",
    "    .setInputCols([\"document2\", \"token\", \"ner\"])\\\n",
    "    .setOutputCol(\"ner_chunk\")\n",
    "\n",
    "de_identification = medical.DeIdentification() \\\n",
    "    .setInputCols([\"ner_chunk\", \"token\", \"document2\"]) \\\n",
    "    .setOutputCol(\"deid_text\") \\\n",
    "    .setMode(\"obfuscate\") \\\n",
    "    .setObfuscateDate(True) \\\n",
    "    .setDateTag(\"DATE\") \\\n",
    "    .setLanguage(\"en\") \\\n",
    "    .setObfuscateRefSource('faker') \\\n",
    "    .setRegion(\"us\") \\\n",
    "    .setUseShifDays(True)\n",
    "\n",
    "pipeline = nlp.Pipeline().setStages([\n",
    "    documentAssembler,\n",
    "    documentHasher,\n",
    "    tokenizer,\n",
    "    embeddings,\n",
    "    clinical_ner,\n",
    "    ner_converter,\n",
    "    de_identification\n",
    "    \n",
    "])\n",
    "\n",
    "empty_data = spark.createDataFrame([[\"\", \"\"]]).toDF(\"text\", \"patientID\")\n",
    "\n",
    "pipeline_model = pipeline.fit(empty_data)"
   ]
  },
  {
   "cell_type": "code",
   "execution_count": 0,
   "metadata": {
    "application/vnd.databricks.v1+cell": {
     "cellMetadata": {
      "byteLimit": 2048000,
      "rowLimit": 10000
     },
     "inputWidgets": {},
     "nuid": "791c6d14-fb1a-477d-a461-bfaa4fd1cd8d",
     "showTitle": false,
     "title": ""
    }
   },
   "outputs": [
    {
     "output_type": "display_data",
     "data": {
      "text/html": [
       "<style scoped>\n",
       "  .ansiout {\n",
       "    display: block;\n",
       "    unicode-bidi: embed;\n",
       "    white-space: pre-wrap;\n",
       "    word-wrap: break-word;\n",
       "    word-break: break-all;\n",
       "    font-family: \"Source Code Pro\", \"Menlo\", monospace;;\n",
       "    font-size: 13px;\n",
       "    color: #555;\n",
       "    margin-left: 4px;\n",
       "    line-height: 19px;\n",
       "  }\n",
       "</style>\n",
       "<div class=\"ansiout\">+---------+----------------------------------------+----------+----------------------------------------------+\n",
       "patientID|text                                    |shift_days|result                                        |\n",
       "+---------+----------------------------------------+----------+----------------------------------------------+\n",
       "A001     |Chris Brown was discharged on 10/02/2022|-5        |[Tonette Bihari was discharged on 09/27/2022] |\n",
       "A001     |Mark White was discharged on 02/28/2020 |-5        |[Sherin Quarry was discharged on 02/23/2020]  |\n",
       "A002     |John was discharged on 03/15/2022       |29        |[Jamal Collin was discharged on 04/13/2022]   |\n",
       "A002     |John Moore was discharged on 12/31/2022 |29        |[Henreitta Leber was discharged on 01/29/2023]|\n",
       "+---------+----------------------------------------+----------+----------------------------------------------+\n",
       "\n",
       "</div>"
      ]
     },
     "metadata": {
      "application/vnd.databricks.v1+output": {
       "addedWidgets": {},
       "arguments": {},
       "data": "<div class=\"ansiout\">+---------+----------------------------------------+----------+----------------------------------------------+\n|patientID|text                                    |shift_days|result                                        |\n+---------+----------------------------------------+----------+----------------------------------------------+\n|A001     |Chris Brown was discharged on 10/02/2022|-5        |[Tonette Bihari was discharged on 09/27/2022] |\n|A001     |Mark White was discharged on 02/28/2020 |-5        |[Sherin Quarry was discharged on 02/23/2020]  |\n|A002     |John was discharged on 03/15/2022       |29        |[Jamal Collin was discharged on 04/13/2022]   |\n|A002     |John Moore was discharged on 12/31/2022 |29        |[Henreitta Leber was discharged on 01/29/2023]|\n+---------+----------------------------------------+----------+----------------------------------------------+\n\n</div>",
       "datasetInfos": [],
       "metadata": {},
       "removedWidgets": [],
       "type": "html"
      }
     },
     "output_type": "display_data"
    }
   ],
   "source": [
    "output = pipeline_model.transform(my_input_df)\n",
    "\n",
    "output.select('patientID','text', 'shift_days', 'deid_text.result').show(truncate = False)"
   ]
  },
  {
   "cell_type": "markdown",
   "metadata": {
    "application/vnd.databricks.v1+cell": {
     "cellMetadata": {},
     "inputWidgets": {},
     "nuid": "b9e89daa-c83d-40cc-a8f3-a5f3549babed",
     "showTitle": false,
     "title": ""
    }
   },
   "source": [
    "### Shifting days according to specified values\n",
    "\n",
    "Instead of shifting days according to ID column, we can specify shifting values with another column.\n",
    "\n",
    "```python\n",
    "documentHasher = DocumentHashCoder()\\\n",
    "    .setInputCols(\"document\")\\\n",
    "    .setOutputCol(\"document2\")\\\n",
    "    .setDateShiftColumn(\"dateshift\")\\\n",
    "```"
   ]
  },
  {
   "cell_type": "code",
   "execution_count": 0,
   "metadata": {
    "application/vnd.databricks.v1+cell": {
     "cellMetadata": {
      "byteLimit": 2048000,
      "rowLimit": 10000
     },
     "inputWidgets": {},
     "nuid": "8b8b99ae-92b4-458d-a23d-0f7a1417e6b3",
     "showTitle": false,
     "title": ""
    }
   },
   "outputs": [
    {
     "output_type": "display_data",
     "data": {
      "text/html": [
       "<style scoped>\n",
       "  .ansiout {\n",
       "    display: block;\n",
       "    unicode-bidi: embed;\n",
       "    white-space: pre-wrap;\n",
       "    word-wrap: break-word;\n",
       "    word-break: break-all;\n",
       "    font-family: \"Source Code Pro\", \"Menlo\", monospace;;\n",
       "    font-size: 13px;\n",
       "    color: #555;\n",
       "    margin-left: 4px;\n",
       "    line-height: 19px;\n",
       "  }\n",
       "</style>\n",
       "<div class=\"ansiout\">+---------+----------------------------------------+---------+\n",
       "patientID|text                                    |dateshift|\n",
       "+---------+----------------------------------------+---------+\n",
       "A001     |Chris Brown was discharged on 10/02/2022|10       |\n",
       "A002     |Mark White was discharged on 03/01/2020 |-2       |\n",
       "A003     |John was discharged on 03/15/2022       |30       |\n",
       "A004     |John Moore was discharged on 12/31/2022 |-8       |\n",
       "+---------+----------------------------------------+---------+\n",
       "\n",
       "</div>"
      ]
     },
     "metadata": {
      "application/vnd.databricks.v1+output": {
       "addedWidgets": {},
       "arguments": {},
       "data": "<div class=\"ansiout\">+---------+----------------------------------------+---------+\n|patientID|text                                    |dateshift|\n+---------+----------------------------------------+---------+\n|A001     |Chris Brown was discharged on 10/02/2022|10       |\n|A002     |Mark White was discharged on 03/01/2020 |-2       |\n|A003     |John was discharged on 03/15/2022       |30       |\n|A004     |John Moore was discharged on 12/31/2022 |-8       |\n+---------+----------------------------------------+---------+\n\n</div>",
       "datasetInfos": [],
       "metadata": {},
       "removedWidgets": [],
       "type": "html"
      }
     },
     "output_type": "display_data"
    }
   ],
   "source": [
    "data = pd.DataFrame(\n",
    "    {'patientID' : ['A001', 'A002', 'A003', 'A004'],\n",
    "     'text' : ['Chris Brown was discharged on 10/02/2022', \n",
    "               'Mark White was discharged on 03/01/2020', \n",
    "               'John was discharged on 03/15/2022',\n",
    "               'John Moore was discharged on 12/31/2022'\n",
    "              ],\n",
    "     'dateshift' : ['10', '-2', '30', '-8']\n",
    "    }\n",
    ")\n",
    "\n",
    "my_input_df = spark.createDataFrame(data)\n",
    "\n",
    "my_input_df.show(truncate=False)"
   ]
  },
  {
   "cell_type": "code",
   "execution_count": 0,
   "metadata": {
    "application/vnd.databricks.v1+cell": {
     "cellMetadata": {
      "byteLimit": 2048000,
      "rowLimit": 10000
     },
     "inputWidgets": {},
     "nuid": "815577c8-c4b4-4bb1-bc0e-1ae6666cf1d8",
     "showTitle": false,
     "title": ""
    }
   },
   "outputs": [
    {
     "output_type": "display_data",
     "data": {
      "text/html": [
       "<style scoped>\n",
       "  .ansiout {\n",
       "    display: block;\n",
       "    unicode-bidi: embed;\n",
       "    white-space: pre-wrap;\n",
       "    word-wrap: break-word;\n",
       "    word-break: break-all;\n",
       "    font-family: \"Source Code Pro\", \"Menlo\", monospace;;\n",
       "    font-size: 13px;\n",
       "    color: #555;\n",
       "    margin-left: 4px;\n",
       "    line-height: 19px;\n",
       "  }\n",
       "</style>\n",
       "<div class=\"ansiout\">embeddings_clinical download started this may take some time.\n",
       "Approximate size to download 1.6 GB\n",
       "\r[ | ]\r[OK!]\n",
       "ner_deid_subentity_augmented download started this may take some time.\n",
       "\r[ | ]\r[OK!]\n",
       "</div>"
      ]
     },
     "metadata": {
      "application/vnd.databricks.v1+output": {
       "addedWidgets": {},
       "arguments": {},
       "data": "<div class=\"ansiout\">embeddings_clinical download started this may take some time.\nApproximate size to download 1.6 GB\n\r[ | ]\r[OK!]\nner_deid_subentity_augmented download started this may take some time.\n\r[ | ]\r[OK!]\n</div>",
       "datasetInfos": [],
       "metadata": {},
       "removedWidgets": [],
       "type": "html"
      }
     },
     "output_type": "display_data"
    }
   ],
   "source": [
    "documentAssembler = nlp.DocumentAssembler()\\\n",
    "    .setInputCol(\"text\")\\\n",
    "    .setOutputCol(\"document\")\n",
    "\n",
    "documentHasher = medical.DocumentHashCoder()\\\n",
    "    .setInputCols(\"document\")\\\n",
    "    .setOutputCol(\"document2\")\\\n",
    "    .setDateShiftColumn(\"dateshift\")\\\n",
    "\n",
    "tokenizer = nlp.Tokenizer()\\\n",
    "    .setInputCols([\"document2\"])\\\n",
    "    .setOutputCol(\"token\")\n",
    "\n",
    "embeddings = nlp.WordEmbeddingsModel.pretrained(\"embeddings_clinical\", \"en\", \"clinical/models\")\\\n",
    "    .setInputCols([\"document2\", \"token\"])\\\n",
    "    .setOutputCol(\"word_embeddings\")\n",
    "\n",
    "clinical_ner = medical.NerModel\\\n",
    "    .pretrained(\"ner_deid_subentity_augmented\", \"en\", \"clinical/models\")\\\n",
    "    .setInputCols([\"document2\",\"token\", \"word_embeddings\"])\\\n",
    "    .setOutputCol(\"ner\")\n",
    "\n",
    "ner_converter = medical.NerConverterInternal()\\\n",
    "    .setInputCols([\"document2\", \"token\", \"ner\"])\\\n",
    "    .setOutputCol(\"ner_chunk\")\n",
    "\n",
    "de_identification = medical.DeIdentification() \\\n",
    "    .setInputCols([\"ner_chunk\", \"token\", \"document2\"]) \\\n",
    "    .setOutputCol(\"deid_text\") \\\n",
    "    .setMode(\"obfuscate\") \\\n",
    "    .setObfuscateDate(True) \\\n",
    "    .setDateTag(\"DATE\") \\\n",
    "    .setLanguage(\"en\") \\\n",
    "    .setObfuscateRefSource('faker') \\\n",
    "    .setRegion('us') \\\n",
    "    .setUseShifDays(True) \n",
    "\n",
    "pipeline_col = nlp.Pipeline().setStages([\n",
    "    documentAssembler,\n",
    "    documentHasher,\n",
    "    tokenizer,\n",
    "    embeddings,\n",
    "    clinical_ner,\n",
    "    ner_converter,\n",
    "    de_identification\n",
    "    \n",
    "])\n",
    "\n",
    "empty_data = spark.createDataFrame([[\"\", \"\", \"\"]]).toDF(\"patientID\",\"text\", \"dateshift\")\n",
    "\n",
    "pipeline_col_model = pipeline_col.fit(empty_data)"
   ]
  },
  {
   "cell_type": "code",
   "execution_count": 0,
   "metadata": {
    "application/vnd.databricks.v1+cell": {
     "cellMetadata": {
      "byteLimit": 2048000,
      "rowLimit": 10000
     },
     "inputWidgets": {},
     "nuid": "1924e97e-c679-4569-9edc-8efc91a4e03f",
     "showTitle": false,
     "title": ""
    }
   },
   "outputs": [
    {
     "output_type": "display_data",
     "data": {
      "text/html": [
       "<style scoped>\n",
       "  .ansiout {\n",
       "    display: block;\n",
       "    unicode-bidi: embed;\n",
       "    white-space: pre-wrap;\n",
       "    word-wrap: break-word;\n",
       "    word-break: break-all;\n",
       "    font-family: \"Source Code Pro\", \"Menlo\", monospace;;\n",
       "    font-size: 13px;\n",
       "    color: #555;\n",
       "    margin-left: 4px;\n",
       "    line-height: 19px;\n",
       "  }\n",
       "</style>\n",
       "<div class=\"ansiout\">+----------------------------------------+---------+-----------------------------------------------+\n",
       "text                                    |dateshift|result                                         |\n",
       "+----------------------------------------+---------+-----------------------------------------------+\n",
       "Chris Brown was discharged on 10/02/2022|10       |[Hulen Luster was discharged on 10/12/2022]    |\n",
       "Mark White was discharged on 03/01/2020 |-2       |[Roger Kill was discharged on 02/28/2020]      |\n",
       "John was discharged on 03/15/2022       |30       |[Allene Dillon was discharged on 04/14/2022]   |\n",
       "John Moore was discharged on 12/31/2022 |-8       |[Debbora Lacrosse was discharged on 12/23/2022]|\n",
       "+----------------------------------------+---------+-----------------------------------------------+\n",
       "\n",
       "</div>"
      ]
     },
     "metadata": {
      "application/vnd.databricks.v1+output": {
       "addedWidgets": {},
       "arguments": {},
       "data": "<div class=\"ansiout\">+----------------------------------------+---------+-----------------------------------------------+\n|text                                    |dateshift|result                                         |\n+----------------------------------------+---------+-----------------------------------------------+\n|Chris Brown was discharged on 10/02/2022|10       |[Hulen Luster was discharged on 10/12/2022]    |\n|Mark White was discharged on 03/01/2020 |-2       |[Roger Kill was discharged on 02/28/2020]      |\n|John was discharged on 03/15/2022       |30       |[Allene Dillon was discharged on 04/14/2022]   |\n|John Moore was discharged on 12/31/2022 |-8       |[Debbora Lacrosse was discharged on 12/23/2022]|\n+----------------------------------------+---------+-----------------------------------------------+\n\n</div>",
       "datasetInfos": [],
       "metadata": {},
       "removedWidgets": [],
       "type": "html"
      }
     },
     "output_type": "display_data"
    }
   ],
   "source": [
    "output = pipeline_col_model.transform(my_input_df)\n",
    "\n",
    "output.select('text', 'dateshift', 'deid_text.result').show(truncate = False)"
   ]
  },
  {
   "cell_type": "markdown",
   "metadata": {
    "application/vnd.databricks.v1+cell": {
     "cellMetadata": {},
     "inputWidgets": {},
     "nuid": "b30318f0-6771-4412-9436-c2014c47e437",
     "showTitle": false,
     "title": ""
    }
   },
   "source": [
    "Here, dates were shifted according to `dateshift` column"
   ]
  },
  {
   "cell_type": "markdown",
   "metadata": {
    "application/vnd.databricks.v1+cell": {
     "cellMetadata": {},
     "inputWidgets": {},
     "nuid": "b812f711-ca80-41a0-b869-c2010e23024b",
     "showTitle": false,
     "title": ""
    }
   },
   "source": [
    "### Masking Unnormalized Date Formats\n",
    "\n",
    "`setUnnormalizedDateMode()` parameter is used to mask the DATE entities that can not be normalized. In the example below, please check `03Apr2022` which couldn't be normalized and it is masked in the output. <br/>\n",
    "- `setUnnormalizedDateMode(mask)` parameter is used to mask the DATE entities that can not be normalized.\n",
    "- `setUnnormalizedDateMode(obfuscate)` parameter is used to obfuscate the DATE entities that can not be normalized."
   ]
  },
  {
   "cell_type": "code",
   "execution_count": 0,
   "metadata": {
    "application/vnd.databricks.v1+cell": {
     "cellMetadata": {
      "byteLimit": 2048000,
      "rowLimit": 10000
     },
     "inputWidgets": {},
     "nuid": "f1f01ecf-df50-416f-8d63-dd87b2cee844",
     "showTitle": false,
     "title": ""
    }
   },
   "outputs": [
    {
     "output_type": "display_data",
     "data": {
      "text/html": [
       "<style scoped>\n",
       "  .ansiout {\n",
       "    display: block;\n",
       "    unicode-bidi: embed;\n",
       "    white-space: pre-wrap;\n",
       "    word-wrap: break-word;\n",
       "    word-break: break-all;\n",
       "    font-family: \"Source Code Pro\", \"Menlo\", monospace;;\n",
       "    font-size: 13px;\n",
       "    color: #555;\n",
       "    margin-left: 4px;\n",
       "    line-height: 19px;\n",
       "  }\n",
       "</style>\n",
       "<div class=\"ansiout\">+----------------------------------------+---------+-------------------------------------------+----------------------------------------------+\n",
       "text                                    |dateshift|result                                     |result                                        |\n",
       "+----------------------------------------+---------+-------------------------------------------+----------------------------------------------+\n",
       "Chris Brown was discharged on 10/02/2022|-5       |[Jeani Sow was discharged on 09/27/2022]   |[Anthoney Harada was discharged on 09/27/2022]|\n",
       "Mark White was discharged on 02/28/2020 |-2       |[Renaee Munda was discharged on 02/26/2020]|[Maryln Gottron was discharged on 02/26/2020] |\n",
       "John was discharged on 03 Apr2022       |10       |[Russ Halo was discharged on &lt;DATE&gt;]       |[Skip Estimable was discharged on 10-18-1975] |\n",
       "John Moore was discharged on 12/31/2022 |20       |[Helane Rima was discharged on 01/20/2023] |[Jacques Earthly was discharged on 01/20/2023]|\n",
       "+----------------------------------------+---------+-------------------------------------------+----------------------------------------------+\n",
       "\n",
       "</div>"
      ]
     },
     "metadata": {
      "application/vnd.databricks.v1+output": {
       "addedWidgets": {},
       "arguments": {},
       "data": "<div class=\"ansiout\">+----------------------------------------+---------+-------------------------------------------+----------------------------------------------+\n|text                                    |dateshift|result                                     |result                                        |\n+----------------------------------------+---------+-------------------------------------------+----------------------------------------------+\n|Chris Brown was discharged on 10/02/2022|-5       |[Jeani Sow was discharged on 09/27/2022]   |[Anthoney Harada was discharged on 09/27/2022]|\n|Mark White was discharged on 02/28/2020 |-2       |[Renaee Munda was discharged on 02/26/2020]|[Maryln Gottron was discharged on 02/26/2020] |\n|John was discharged on 03 Apr2022       |10       |[Russ Halo was discharged on &lt;DATE&gt;]       |[Skip Estimable was discharged on 10-18-1975] |\n|John Moore was discharged on 12/31/2022 |20       |[Helane Rima was discharged on 01/20/2023] |[Jacques Earthly was discharged on 01/20/2023]|\n+----------------------------------------+---------+-------------------------------------------+----------------------------------------------+\n\n</div>",
       "datasetInfos": [],
       "metadata": {},
       "removedWidgets": [],
       "type": "html"
      }
     },
     "output_type": "display_data"
    }
   ],
   "source": [
    "data = pd.DataFrame(\n",
    "    {'patientID' : ['A001', 'A001', 'A002', 'A002'],\n",
    "     'text' : ['Chris Brown was discharged on 10/02/2022',\n",
    "               'Mark White was discharged on 02/28/2020',\n",
    "               'John was discharged on 03 Apr2022',          # check this\n",
    "               'John Moore was discharged on 12/31/2022'\n",
    "              ],\n",
    "     'dateshift' : ['-5', '-2', '10', '20']\n",
    "    }\n",
    ")\n",
    "\n",
    "my_input_df = spark.createDataFrame(data)\n",
    "\n",
    "de_identification_mask = medical.DeIdentification() \\\n",
    "    .setInputCols([\"ner_chunk\", \"token\", \"document2\"]) \\\n",
    "    .setOutputCol(\"deid_text_mask\") \\\n",
    "    .setMode(\"obfuscate\") \\\n",
    "    .setObfuscateDate(True) \\\n",
    "    .setDateTag(\"DATE\") \\\n",
    "    .setLanguage(\"en\") \\\n",
    "    .setObfuscateRefSource('faker') \\\n",
    "    .setUseShifDays(True)\\\n",
    "    .setRegion('us')\\\n",
    "    .setUnnormalizedDateMode(\"mask\")\n",
    "\n",
    "de_identification_obf = medical.DeIdentification() \\\n",
    "    .setInputCols([\"ner_chunk\", \"token\", \"document2\"]) \\\n",
    "    .setOutputCol(\"deid_text_obs\") \\\n",
    "    .setMode(\"obfuscate\") \\\n",
    "    .setObfuscateDate(True) \\\n",
    "    .setDateTag(\"DATE\") \\\n",
    "    .setLanguage(\"en\") \\\n",
    "    .setObfuscateRefSource('faker') \\\n",
    "    .setUseShifDays(True)\\\n",
    "    .setRegion('us')\\\n",
    "    .setUnnormalizedDateMode(\"obfuscation\")\n",
    "\n",
    "\n",
    "pipeline = nlp.Pipeline().setStages([\n",
    "    documentAssembler,\n",
    "    documentHasher,\n",
    "    tokenizer,\n",
    "    embeddings,\n",
    "    clinical_ner,\n",
    "    ner_converter,\n",
    "    de_identification_mask,\n",
    "    de_identification_obf\n",
    "\n",
    "])\n",
    "\n",
    "\n",
    "output = pipeline.fit(my_input_df).transform(my_input_df)\n",
    "\n",
    "output.select('text', 'dateshift', 'deid_text_mask.result','deid_text_obs.result').show(truncate = False)"
   ]
  },
  {
   "cell_type": "markdown",
   "metadata": {
    "application/vnd.databricks.v1+cell": {
     "cellMetadata": {},
     "inputWidgets": {},
     "nuid": "500b353c-ed18-4718-9b01-fdf09b4c6b75",
     "showTitle": false,
     "title": ""
    }
   },
   "source": [
    "## Multi-Mode Deidentification"
   ]
  },
  {
   "cell_type": "markdown",
   "metadata": {
    "application/vnd.databricks.v1+cell": {
     "cellMetadata": {},
     "inputWidgets": {},
     "nuid": "bac20cd4-4eaa-4739-9a4c-e9d8c8420fc8",
     "showTitle": false,
     "title": ""
    }
   },
   "source": [
    "We have multi-mode functionality in the `DeIdentification()`.\n",
    "\n",
    "By providing a json file to the `setSelectiveObfuscationModes(\"a JSON path\")` parameter, we are able to use multi-mode in de-identification. <br/>\n",
    "\n",
    "\n",
    "\n",
    "Example JSON file can be like following:\n",
    "```\n",
    "{\n",
    "\t\"obfuscate\": [\"PHONE\"] ,\n",
    "\t\"mask_entity_labels\": [\"ID\"],\n",
    "\t\"skip\": [\"DATE\"],\n",
    "\t\"mask_same_length_chars\":[\"NAME\"],\n",
    "\t\"mask_fixed_length_chars\":[\"zip\", \"location\"]\n",
    "}\n",
    "```\n",
    "\n",
    "Description of possible modes to enable multi-mode deidentification:\n",
    "\n",
    "```\n",
    "   * 'obfuscate': Replace the values with random values.\n",
    "   * 'mask_same_length_chars': Replace the name with the minus two same lengths asterix, plus one bracket on both ends.\n",
    "   * 'mask_entity_labels': Replace the values with the entity value.\n",
    "   * 'mask_fixed_length_chars': Replace the name with the asterix with fixed length. You can also invoke \"setFixedMaskLength()\"\n",
    "   * 'skip': Skip the entities (intact)\n",
    "```"
   ]
  },
  {
   "cell_type": "markdown",
   "metadata": {
    "application/vnd.databricks.v1+cell": {
     "cellMetadata": {},
     "inputWidgets": {},
     "nuid": "d2a47d61-a933-48ae-9984-a1aea552cd27",
     "showTitle": false,
     "title": ""
    }
   },
   "source": [
    "The entities which have not been given in dictionary will be deidentified according to the `setMode()` parameter."
   ]
  },
  {
   "cell_type": "markdown",
   "metadata": {
    "application/vnd.databricks.v1+cell": {
     "cellMetadata": {},
     "inputWidgets": {},
     "nuid": "b6fc50b3-9c76-4429-b225-4dcd64a12cd0",
     "showTitle": false,
     "title": ""
    }
   },
   "source": [
    "Let's create the json file first."
   ]
  },
  {
   "cell_type": "code",
   "execution_count": 0,
   "metadata": {
    "application/vnd.databricks.v1+cell": {
     "cellMetadata": {
      "byteLimit": 2048000,
      "rowLimit": 10000
     },
     "inputWidgets": {},
     "nuid": "8d1bfdb7-bd52-4554-a210-22fcd59d303b",
     "showTitle": false,
     "title": ""
    }
   },
   "outputs": [
    {
     "output_type": "display_data",
     "data": {
      "text/html": [
       "<style scoped>\n",
       "  .ansiout {\n",
       "    display: block;\n",
       "    unicode-bidi: embed;\n",
       "    white-space: pre-wrap;\n",
       "    word-wrap: break-word;\n",
       "    word-break: break-all;\n",
       "    font-family: \"Source Code Pro\", \"Menlo\", monospace;;\n",
       "    font-size: 13px;\n",
       "    color: #555;\n",
       "    margin-left: 4px;\n",
       "    line-height: 19px;\n",
       "  }\n",
       "</style>\n",
       "<div class=\"ansiout\"></div>"
      ]
     },
     "metadata": {
      "application/vnd.databricks.v1+output": {
       "addedWidgets": {},
       "arguments": {},
       "data": "<div class=\"ansiout\"></div>",
       "datasetInfos": [],
       "metadata": {},
       "removedWidgets": [],
       "type": "html"
      }
     },
     "output_type": "display_data"
    }
   ],
   "source": [
    "#json to choose deid modes\n",
    "sample_json= {\n",
    "\t\"obfuscate\": [\"PHONE\"] ,\n",
    "\t\"mask_entity_labels\": [\"ID\"],\n",
    "\t\"skip\": [\"DATE\"],\n",
    "\t\"mask_same_length_chars\":[\"NAME\"],\n",
    "\t\"mask_fixed_length_chars\":[\"zip\", \"location\"]\n",
    "}\n",
    "\n",
    "import json\n",
    "with open('sample_multi-mode.json', 'w', encoding='utf-8') as f:\n",
    "    json.dump(sample_json, f, ensure_ascii=False, indent=4)"
   ]
  },
  {
   "cell_type": "markdown",
   "metadata": {
    "application/vnd.databricks.v1+cell": {
     "cellMetadata": {},
     "inputWidgets": {},
     "nuid": "f61bdca4-c654-4803-a3d8-2ebd75ad9b3c",
     "showTitle": false,
     "title": ""
    }
   },
   "source": [
    "De-identification pipeline"
   ]
  },
  {
   "cell_type": "code",
   "execution_count": 0,
   "metadata": {
    "application/vnd.databricks.v1+cell": {
     "cellMetadata": {
      "byteLimit": 2048000,
      "rowLimit": 10000
     },
     "inputWidgets": {},
     "nuid": "4a6d302e-a090-486e-b197-2e30971191ff",
     "showTitle": false,
     "title": ""
    }
   },
   "outputs": [
    {
     "output_type": "display_data",
     "data": {
      "text/html": [
       "<style scoped>\n",
       "  .ansiout {\n",
       "    display: block;\n",
       "    unicode-bidi: embed;\n",
       "    white-space: pre-wrap;\n",
       "    word-wrap: break-word;\n",
       "    word-break: break-all;\n",
       "    font-family: \"Source Code Pro\", \"Menlo\", monospace;;\n",
       "    font-size: 13px;\n",
       "    color: #555;\n",
       "    margin-left: 4px;\n",
       "    line-height: 19px;\n",
       "  }\n",
       "</style>\n",
       "<div class=\"ansiout\">sentence_detector_dl_healthcare download started this may take some time.\n",
       "Approximate size to download 367.3 KB\n",
       "\r[ | ]\r[OK!]\n",
       "embeddings_clinical download started this may take some time.\n",
       "Approximate size to download 1.6 GB\n",
       "\r[ | ]\r[OK!]\n",
       "ner_deid_generic_augmented download started this may take some time.\n",
       "\r[ | ]\r[OK!]\n",
       "</div>"
      ]
     },
     "metadata": {
      "application/vnd.databricks.v1+output": {
       "addedWidgets": {},
       "arguments": {},
       "data": "<div class=\"ansiout\">sentence_detector_dl_healthcare download started this may take some time.\nApproximate size to download 367.3 KB\n\r[ | ]\r[OK!]\nembeddings_clinical download started this may take some time.\nApproximate size to download 1.6 GB\n\r[ | ]\r[OK!]\nner_deid_generic_augmented download started this may take some time.\n\r[ | ]\r[OK!]\n</div>",
       "datasetInfos": [],
       "metadata": {},
       "removedWidgets": [],
       "type": "html"
      }
     },
     "output_type": "display_data"
    }
   ],
   "source": [
    "documentAssembler = nlp.DocumentAssembler()\\\n",
    "    .setInputCol(\"text\")\\\n",
    "    .setOutputCol(\"document\")\n",
    "\n",
    "# Sentence Detector annotator, processes various sentences per line\n",
    "sentenceDetector = nlp.SentenceDetectorDLModel.pretrained(\"sentence_detector_dl_healthcare\",\"en\",\"clinical/models\")\\\n",
    "    .setInputCols([\"document\"])\\\n",
    "    .setOutputCol(\"sentence\")\n",
    "\n",
    "# Tokenizer splits words in a relevant format for NLP\n",
    "tokenizer = nlp.Tokenizer()\\\n",
    "    .setInputCols([\"sentence\"])\\\n",
    "    .setOutputCol(\"token\")\n",
    "\n",
    "# Clinical word embeddings trained on PubMED dataset\n",
    "word_embeddings = nlp.WordEmbeddingsModel.pretrained(\"embeddings_clinical\", \"en\", \"clinical/models\")\\\n",
    "    .setInputCols([\"sentence\", \"token\"])\\\n",
    "    .setOutputCol(\"embeddings\")\n",
    "\n",
    "# NER model trained on n2c2 (de-identification and Heart Disease Risk Factors Challenge) datasets)\n",
    "clinical_ner = medical.NerModel.pretrained(\"ner_deid_generic_augmented\", \"en\", \"clinical/models\") \\\n",
    "    .setInputCols([\"sentence\", \"token\", \"embeddings\"]) \\\n",
    "    .setOutputCol(\"ner\")\n",
    "\n",
    "ner_converter = medical.NerConverterInternal()\\\n",
    "    .setInputCols([\"sentence\", \"token\", \"ner\"])\\\n",
    "    .setOutputCol(\"ner_chunk\")\\\n",
    "    .setBlackList([\"CONTACT\"])\n",
    "\n",
    "deid_doc = medical.DeIdentification() \\\n",
    "      .setInputCols([\"sentence\", \"token\", \"ner_chunk\"]) \\\n",
    "      .setOutputCol(\"deidentified\") \\\n",
    "      .setMode(\"mask\")\\\n",
    "      .setSelectiveObfuscationModesPath(\"dbfs:/databricks/driver/sample_multi-mode.json\")\\\n",
    "      .setSameLengthFormattedEntities([\"PHONE\"])\\\n",
    "      .setFixedMaskLength(2)\n",
    "\n",
    "deidPipeline = nlp.Pipeline(stages=[\n",
    "      documentAssembler,\n",
    "      sentenceDetector,\n",
    "      tokenizer,\n",
    "      word_embeddings,\n",
    "      clinical_ner,\n",
    "      ner_converter,\n",
    "      deid_doc])\n",
    "\n",
    "empty_data = spark.createDataFrame([[\"\"]]).toDF(\"text\")\n",
    "\n",
    "text ='''\n",
    "Record date : 2093-01-13 , David Hale , M.D . , Name : Hendrickson Ora , MR # 7194334 Date : 01/13/93 . PCP : Oliveira , 25 years-old , Record date : 2079-11-09 . Cocke County Baptist Hospital , 0295 Keats Street , Phone 55-555-5555 .\n",
    "'''\n",
    "\n",
    "model_deid = deidPipeline.fit(empty_data)\n",
    "result = model_deid.transform(spark.createDataFrame([[text]]).toDF(\"text\"))\n"
   ]
  },
  {
   "cell_type": "code",
   "execution_count": 0,
   "metadata": {
    "application/vnd.databricks.v1+cell": {
     "cellMetadata": {
      "byteLimit": 2048000,
      "rowLimit": 10000
     },
     "inputWidgets": {},
     "nuid": "9ff807a5-7b64-4fd9-a7f2-3c2ceae7685b",
     "showTitle": false,
     "title": ""
    }
   },
   "outputs": [
    {
     "output_type": "display_data",
     "data": {
      "text/html": [
       "<style scoped>\n",
       "  .ansiout {\n",
       "    display: block;\n",
       "    unicode-bidi: embed;\n",
       "    white-space: pre-wrap;\n",
       "    word-wrap: break-word;\n",
       "    word-break: break-all;\n",
       "    font-family: \"Source Code Pro\", \"Menlo\", monospace;;\n",
       "    font-size: 13px;\n",
       "    color: #555;\n",
       "    margin-left: 4px;\n",
       "    line-height: 19px;\n",
       "  }\n",
       "</style>\n",
       "<div class=\"ansiout\">+-------------------------------------------------------------------------------------------------------+----------------------------------------------------------------------------------------------------+\n",
       "sentence                                                                                               |deidentified                                                                                        |\n",
       "+-------------------------------------------------------------------------------------------------------+----------------------------------------------------------------------------------------------------+\n",
       "Record date : 2093-01-13 , David Hale , M.D . , Name : Hendrickson Ora , MR # 7194334 Date : 01/13/93 .|Record date : 2093-01-13 , [********] , M.D . , Name : [*************] , MR # &lt;ID&gt; Date : 01/13/93 .|\n",
       "PCP : Oliveira , 25 years-old , Record date : 2079-11-09 .                                             |PCP : [******] , &lt;AGE&gt; years-old , Record date : 2079-11-09 .                                       |\n",
       "Cocke County Baptist Hospital , 0295 Keats Street , Phone 55-555-5555 .                                |** , ** , Phone 61-034-9645 .                                                                       |\n",
       "+-------------------------------------------------------------------------------------------------------+----------------------------------------------------------------------------------------------------+\n",
       "\n",
       "</div>"
      ]
     },
     "metadata": {
      "application/vnd.databricks.v1+output": {
       "addedWidgets": {},
       "arguments": {},
       "data": "<div class=\"ansiout\">+-------------------------------------------------------------------------------------------------------+----------------------------------------------------------------------------------------------------+\n|sentence                                                                                               |deidentified                                                                                        |\n+-------------------------------------------------------------------------------------------------------+----------------------------------------------------------------------------------------------------+\n|Record date : 2093-01-13 , David Hale , M.D . , Name : Hendrickson Ora , MR # 7194334 Date : 01/13/93 .|Record date : 2093-01-13 , [********] , M.D . , Name : [*************] , MR # &lt;ID&gt; Date : 01/13/93 .|\n|PCP : Oliveira , 25 years-old , Record date : 2079-11-09 .                                             |PCP : [******] , &lt;AGE&gt; years-old , Record date : 2079-11-09 .                                       |\n|Cocke County Baptist Hospital , 0295 Keats Street , Phone 55-555-5555 .                                |** , ** , Phone 61-034-9645 .                                                                       |\n+-------------------------------------------------------------------------------------------------------+----------------------------------------------------------------------------------------------------+\n\n</div>",
       "datasetInfos": [],
       "metadata": {},
       "removedWidgets": [],
       "type": "html"
      }
     },
     "output_type": "display_data"
    }
   ],
   "source": [
    "result.select(F.explode(F.arrays_zip(result.sentence.result, result.deidentified.result)).alias(\"cols\")) \\\n",
    "      .select(F.expr(\"cols['0']\").alias(\"sentence\"),\n",
    "              F.expr(\"cols['1']\").alias(\"deidentified\")).show(truncate=False)"
   ]
  },
  {
   "cell_type": "markdown",
   "metadata": {
    "application/vnd.databricks.v1+cell": {
     "cellMetadata": {},
     "inputWidgets": {},
     "nuid": "e1a44647-0118-4341-826a-b2b3907ab664",
     "showTitle": false,
     "title": ""
    }
   },
   "source": [
    "# Not to Deidentify a Part of an Entity\n",
    "\n",
    "Sometimes we may want not to deidentify some entities. For example, according to the HIPAA rules, we don't have to deidentify years. So lets show an example how we can skip the deidentification of an entity. \n",
    "\n",
    "Pretrained NER models deidentify years as `DATE`. So we will create a contextual parser for extracting `YEAR` entities only, and will merge its results with NER results by using `setBlackList` parameter.\n",
    "\n",
    "You can check [ContextualParser Notebook](https://github.com/JohnSnowLabs/spark-nlp-workshop/blob/master/tutorials/Certification_Trainings/Healthcare/1.2.Contextual_Parser_Rule_Based_NER.ipynb) to understand its logic better."
   ]
  },
  {
   "cell_type": "code",
   "execution_count": 0,
   "metadata": {
    "application/vnd.databricks.v1+cell": {
     "cellMetadata": {
      "byteLimit": 2048000,
      "rowLimit": 10000
     },
     "inputWidgets": {},
     "nuid": "5d806b52-3600-4886-b73c-3556ef503ca8",
     "showTitle": false,
     "title": ""
    }
   },
   "outputs": [
    {
     "output_type": "display_data",
     "data": {
      "text/html": [
       "<style scoped>\n",
       "  .ansiout {\n",
       "    display: block;\n",
       "    unicode-bidi: embed;\n",
       "    white-space: pre-wrap;\n",
       "    word-wrap: break-word;\n",
       "    word-break: break-all;\n",
       "    font-family: \"Source Code Pro\", \"Menlo\", monospace;;\n",
       "    font-size: 13px;\n",
       "    color: #555;\n",
       "    margin-left: 4px;\n",
       "    line-height: 19px;\n",
       "  }\n",
       "</style>\n",
       "<div class=\"ansiout\">Out[67]: {&#39;document&#39;: [&#39;Patient ID: 6515426. My brother was admitted to the hospital in 2005. I will go to spain in 2025. &#39;],\n",
       " &#39;sentence&#39;: [&#39;Patient ID: 6515426.&#39;,\n",
       "  &#39;My brother was admitted to the hospital in 2005.&#39;,\n",
       "  &#39;I will go to spain in 2025.&#39;],\n",
       " &#39;token&#39;: [&#39;Patient&#39;,\n",
       "  &#39;ID&#39;,\n",
       "  &#39;:&#39;,\n",
       "  &#39;6515426&#39;,\n",
       "  &#39;.&#39;,\n",
       "  &#39;My&#39;,\n",
       "  &#39;brother&#39;,\n",
       "  &#39;was&#39;,\n",
       "  &#39;admitted&#39;,\n",
       "  &#39;to&#39;,\n",
       "  &#39;the&#39;,\n",
       "  &#39;hospital&#39;,\n",
       "  &#39;in&#39;,\n",
       "  &#39;2005&#39;,\n",
       "  &#39;.&#39;,\n",
       "  &#39;I&#39;,\n",
       "  &#39;will&#39;,\n",
       "  &#39;go&#39;,\n",
       "  &#39;to&#39;,\n",
       "  &#39;spain&#39;,\n",
       "  &#39;in&#39;,\n",
       "  &#39;2025&#39;,\n",
       "  &#39;.&#39;],\n",
       " &#39;entity_year&#39;: [&#39;2005&#39;, &#39;2025&#39;]}</div>"
      ]
     },
     "metadata": {
      "application/vnd.databricks.v1+output": {
       "addedWidgets": {},
       "arguments": {},
       "data": "<div class=\"ansiout\">Out[67]: {&#39;document&#39;: [&#39;Patient ID: 6515426. My brother was admitted to the hospital in 2005. I will go to spain in 2025. &#39;],\n &#39;sentence&#39;: [&#39;Patient ID: 6515426.&#39;,\n  &#39;My brother was admitted to the hospital in 2005.&#39;,\n  &#39;I will go to spain in 2025.&#39;],\n &#39;token&#39;: [&#39;Patient&#39;,\n  &#39;ID&#39;,\n  &#39;:&#39;,\n  &#39;6515426&#39;,\n  &#39;.&#39;,\n  &#39;My&#39;,\n  &#39;brother&#39;,\n  &#39;was&#39;,\n  &#39;admitted&#39;,\n  &#39;to&#39;,\n  &#39;the&#39;,\n  &#39;hospital&#39;,\n  &#39;in&#39;,\n  &#39;2005&#39;,\n  &#39;.&#39;,\n  &#39;I&#39;,\n  &#39;will&#39;,\n  &#39;go&#39;,\n  &#39;to&#39;,\n  &#39;spain&#39;,\n  &#39;in&#39;,\n  &#39;2025&#39;,\n  &#39;.&#39;],\n &#39;entity_year&#39;: [&#39;2005&#39;, &#39;2025&#39;]}</div>",
       "datasetInfos": [],
       "metadata": {},
       "removedWidgets": [],
       "type": "html"
      }
     },
     "output_type": "display_data"
    }
   ],
   "source": [
    "year = {\n",
    "  \"entity\": \"YEAR\",\n",
    "  \"ruleScope\": \"sentence\",\n",
    "  \"matchScope\":\"token\",\n",
    "  \"regex\": \"^[12][0-9]{3}$\",\n",
    "  \"valuesDefinition\":[],\n",
    "#   \"prefix\": [\"in\"],\n",
    "  \"contextLength\": 100,\n",
    "  \"context\": []\n",
    "}\n",
    "\n",
    "with open('/dbfs/databricks/driver/year.json', 'w') as f:\n",
    "    json.dump(year, f)\n",
    "\n",
    "tokenizer = nlp.Tokenizer()\\\n",
    "    .setInputCols([\"sentence\"])\\\n",
    "    .setOutputCol(\"token\")\n",
    "\n",
    "year_contextual_parser = medical.ContextualParserApproach() \\\n",
    "    .setInputCols([\"sentence\", \"token\"]) \\\n",
    "    .setOutputCol(\"entity_year\") \\\n",
    "    .setJsonPath(\"/dbfs/databricks/driver/year.json\") \\\n",
    "    .setCaseSensitive(False) \\\n",
    "    .setPrefixAndSuffixMatch(False)\n",
    "\n",
    "year_model = nlp.Pipeline(stages=[documentAssembler, sentenceDetector, tokenizer, year_contextual_parser]).fit(spark.createDataFrame([[\"\"]]).toDF(\"text\"))\n",
    "\n",
    "sample_text = \"Patient ID: 6515426. My brother was admitted to the hospital in 2005. I will go to spain in 2025. \"\n",
    "\n",
    "lyear = nlp.LightPipeline(year_model)\n",
    "lyear.annotate(sample_text)"
   ]
  },
  {
   "cell_type": "markdown",
   "metadata": {
    "application/vnd.databricks.v1+cell": {
     "cellMetadata": {},
     "inputWidgets": {},
     "nuid": "5b30e024-dc32-4aeb-9a9b-13050eca536b",
     "showTitle": false,
     "title": ""
    }
   },
   "source": [
    "As you can see, 2005 and 2025 year entities are extracted as `YEAR`. \n",
    "\n",
    "You can define stronger contextual parser for detecting year entities by  setting a stronger regex rule or playing with the parameters of CP (like `prefix -> in`)"
   ]
  },
  {
   "cell_type": "code",
   "execution_count": 0,
   "metadata": {
    "application/vnd.databricks.v1+cell": {
     "cellMetadata": {
      "byteLimit": 2048000,
      "rowLimit": 10000
     },
     "inputWidgets": {},
     "nuid": "fb801e05-0e06-4a62-bb06-d5c400c628cc",
     "showTitle": false,
     "title": ""
    }
   },
   "outputs": [
    {
     "output_type": "display_data",
     "data": {
      "text/html": [
       "<style scoped>\n",
       "  .ansiout {\n",
       "    display: block;\n",
       "    unicode-bidi: embed;\n",
       "    white-space: pre-wrap;\n",
       "    word-wrap: break-word;\n",
       "    word-break: break-all;\n",
       "    font-family: \"Source Code Pro\", \"Menlo\", monospace;;\n",
       "    font-size: 13px;\n",
       "    color: #555;\n",
       "    margin-left: 4px;\n",
       "    line-height: 19px;\n",
       "  }\n",
       "</style>\n",
       "<div class=\"ansiout\">embeddings_clinical download started this may take some time.\n",
       "Approximate size to download 1.6 GB\n",
       "\r[ | ]\r[OK!]\n",
       "ner_deid_generic_augmented download started this may take some time.\n",
       "\r[ | ]\r[OK!]\n",
       "ner_deid_subentity_augmented download started this may take some time.\n",
       "\r[ | ]\r[OK!]\n",
       "</div>"
      ]
     },
     "metadata": {
      "application/vnd.databricks.v1+output": {
       "addedWidgets": {},
       "arguments": {},
       "data": "<div class=\"ansiout\">embeddings_clinical download started this may take some time.\nApproximate size to download 1.6 GB\n\r[ | ]\r[OK!]\nner_deid_generic_augmented download started this may take some time.\n\r[ | ]\r[OK!]\nner_deid_subentity_augmented download started this may take some time.\n\r[ | ]\r[OK!]\n</div>",
       "datasetInfos": [],
       "metadata": {},
       "removedWidgets": [],
       "type": "html"
      }
     },
     "output_type": "display_data"
    }
   ],
   "source": [
    "documentAssembler = nlp.DocumentAssembler()\\\n",
    "    .setInputCol(\"text\")\\\n",
    "    .setOutputCol(\"document\")\n",
    "\n",
    "sentenceDetector = nlp.SentenceDetector()\\\n",
    "    .setInputCols([\"document\"])\\\n",
    "    .setOutputCol(\"sentence\")\n",
    "\n",
    "tokenizer = nlp.Tokenizer()\\\n",
    "    .setInputCols([\"sentence\"])\\\n",
    "    .setOutputCol(\"token\")\n",
    "\n",
    "word_embeddings = nlp.WordEmbeddingsModel.pretrained(\"embeddings_clinical\", \"en\", \"clinical/models\")\\\n",
    "    .setInputCols([\"sentence\", \"token\"])\\\n",
    "    .setOutputCol(\"embeddings\")\n",
    "\n",
    "clinical_ner = medical.NerModel.pretrained(\"ner_deid_generic_augmented\", \"en\", \"clinical/models\") \\\n",
    "    .setInputCols([\"sentence\", \"token\", \"embeddings\"]) \\\n",
    "    .setOutputCol(\"ner_generic\")\n",
    "\n",
    "ner_converter = medical.NerConverterInternal()\\\n",
    "    .setInputCols([\"sentence\", \"token\", \"ner_generic\"])\\\n",
    "    .setOutputCol(\"ner_generic_chunk\")\n",
    "\n",
    "year_contextual_parser = medical.ContextualParserApproach() \\\n",
    "    .setInputCols([\"sentence\", \"token\"]) \\\n",
    "    .setOutputCol(\"entity_year\") \\\n",
    "    .setJsonPath(\"/dbfs/databricks/driver/year.json\") \\\n",
    "    .setCaseSensitive(False) \\\n",
    "    .setPrefixAndSuffixMatch(False)\n",
    "\n",
    "chunks_year= medical.ChunkConverter()\\\n",
    "    .setInputCols(\"entity_year\")\\\n",
    "    .setOutputCol(\"chunk_year\")\n",
    "\n",
    "# First we will merge chunk_year and ner_generic_chunk\n",
    "# chunk merger will give the precedence to year_chunk\n",
    "# if they extract the same year entities. \n",
    "chunk_merge_1 = medical.ChunkMergeApproach()\\\n",
    "    .setInputCols(\"chunk_year\",\"ner_generic_chunk\")\\\n",
    "    .setOutputCol(\"deid_merged_chunk\")\n",
    "\n",
    "\n",
    "deid_ner_enriched = medical.NerModel.pretrained(\"ner_deid_subentity_augmented\", \"en\", \"clinical/models\") \\\n",
    "    .setInputCols([\"sentence\", \"token\", \"embeddings\"]) \\\n",
    "    .setOutputCol(\"ner_subentity\")\n",
    "\n",
    "# we will block DATE entities coming from this model\n",
    "# the dates will already been detected by ner_deid_generic_augmented\n",
    "ner_converter_enriched = medical.NerConverterInternal() \\\n",
    "    .setInputCols([\"sentence\", \"token\", \"ner_subentity\"]) \\\n",
    "    .setOutputCol(\"ner_subentity_chunk\")\\\n",
    "    .setBlackList(['DATE'])\n",
    "\n",
    "# now we will merge ner_subentity_chunk with deid_merged_chunk\n",
    "# and will block YEAR entities \n",
    "# in this way YEAR entities will not appear in the results\n",
    "chunk_merge_2 = medical.ChunkMergeApproach()\\\n",
    "    .setInputCols(\"deid_merged_chunk\",\"ner_subentity_chunk\")\\\n",
    "    .setOutputCol(\"final_merged_chunk\")\\\n",
    "    .setBlackList([\"YEAR\"])\n",
    "\n",
    "deid_entity_labels= medical.DeIdentification()\\\n",
    "    .setInputCols([\"sentence\", \"token\", \"final_merged_chunk\"])\\\n",
    "    .setOutputCol(\"deid_entity_label\")\\\n",
    "    .setMode(\"mask\")\\\n",
    "    .setReturnEntityMappings(True)\\\n",
    "    .setMaskingPolicy(\"entity_labels\")\n",
    "\n",
    "nlpPipeline = nlp.Pipeline(stages=[\n",
    "      documentAssembler, \n",
    "      sentenceDetector,\n",
    "      tokenizer,\n",
    "      word_embeddings,\n",
    "      clinical_ner,\n",
    "      ner_converter,\n",
    "      year_contextual_parser,\n",
    "      chunks_year,\n",
    "      chunk_merge_1,\n",
    "      deid_ner_enriched,\n",
    "      ner_converter_enriched,\n",
    "      chunk_merge_2,\n",
    "      deid_entity_labels\n",
    "      ])\n",
    "\n",
    "empty_data = spark.createDataFrame([[\"\"]]).toDF(\"text\")\n",
    "model = nlpPipeline.fit(empty_data)"
   ]
  },
  {
   "cell_type": "markdown",
   "metadata": {
    "application/vnd.databricks.v1+cell": {
     "cellMetadata": {},
     "inputWidgets": {},
     "nuid": "93d1f374-7fd7-4696-9c66-98a916bd7fd5",
     "showTitle": false,
     "title": ""
    }
   },
   "source": [
    "We will use the sample text below, and we wait single YEAR entities (2008 and 2009) not to deidentify. But if there is months or days with year, they will be deidentified in any case."
   ]
  },
  {
   "cell_type": "code",
   "execution_count": 0,
   "metadata": {
    "application/vnd.databricks.v1+cell": {
     "cellMetadata": {
      "byteLimit": 2048000,
      "rowLimit": 10000
     },
     "inputWidgets": {},
     "nuid": "011e7f1f-c6d9-4936-ab1a-e2a150219be6",
     "showTitle": false,
     "title": ""
    }
   },
   "outputs": [
    {
     "output_type": "display_data",
     "data": {
      "text/html": [
       "<style scoped>\n",
       "  .ansiout {\n",
       "    display: block;\n",
       "    unicode-bidi: embed;\n",
       "    white-space: pre-wrap;\n",
       "    word-wrap: break-word;\n",
       "    word-break: break-all;\n",
       "    font-family: \"Source Code Pro\", \"Menlo\", monospace;;\n",
       "    font-size: 13px;\n",
       "    color: #555;\n",
       "    margin-left: 4px;\n",
       "    line-height: 19px;\n",
       "  }\n",
       "</style>\n",
       "<div class=\"ansiout\"></div>"
      ]
     },
     "metadata": {
      "application/vnd.databricks.v1+output": {
       "addedWidgets": {},
       "arguments": {},
       "data": "<div class=\"ansiout\"></div>",
       "datasetInfos": [],
       "metadata": {},
       "removedWidgets": [],
       "type": "html"
      }
     },
     "output_type": "display_data"
    }
   ],
   "source": [
    "sample_text = \"\"\"A 28 year old female with a history of gestational diabetes mellitus diagnosed eight years prior to \n",
    "presentation and subsequent type two diabetes mellitus ( T2DM ), one prior episode of HTG-induced pancreatitis \n",
    "three years prior to presentation , associated with an acute hepatitis , and obesity with a body mass index \n",
    "( BMI ) of 33.5 kg/m2 , presented with a one-week history of polyuria , polydipsia , poor appetite , and vomiting.\n",
    "Two weeks prior to presentation , she was treated with a five-day course of amoxicillin for a respiratory tract infection . \n",
    "She was on metformin , glipizide , and dapagliflozin for T2DM and atorvastatin and gemfibrozil for HTG . \n",
    "She had been on dapagliflozin since May 2006 . On 30 June 2007 , her physical examination on presentation was \n",
    "significant for dry oral mucosa ; significantly , her abdominal examination was benign with no tenderness , guarding , \n",
    "or rigidity . In 2008 laboratory findings on admission were : serum glucose 111 mg/dl , bicarbonate 18 mmol/l , \n",
    "anion gap 20 , creatinine 0.4 mg/dL , triglycerides 508 mg/dL , total cholesterol 122 mg/dL , glycated hemoglobin \n",
    "( HbA1c ) 10% , and venous pH 7.27 . Serum lipase was normal at 43 U/L . Serum acetone levels could not be assessed \n",
    "as blood samples kept hemolyzing due to significant lipemia .\n",
    "The patient was initially admitted for starvation ketosis , as she reported poor oral intake for three days prior \n",
    "to admission in 2009. However , serum chemistry obtained six hours after presentation revealed her glucose was 186 mg/dL , \n",
    "the anion gap was still elevated at 21 , serum bicarbonate was 16 mmol/L , triglyceride level peaked at 950 mg/dL , \n",
    "and lipase was 52 U/L . She was discharged on 05 June 2012 . \n",
    "\n",
    "Her euDKA was thought to be precipitated by her respiratory tract infection in the setting of SGLT2 inhibitor use . \n",
    "At birth the typical boy is growing slightly faster than the typical girl, but the velocities become equal at about \n",
    "seven months, and then the girl grows faster until four years. \n",
    "From then until adolescence no differences in velocity \n",
    "can be detected. 21-02-2020 \n",
    "21/04/2020\n",
    "\"\"\""
   ]
  },
  {
   "cell_type": "code",
   "execution_count": 0,
   "metadata": {
    "application/vnd.databricks.v1+cell": {
     "cellMetadata": {
      "byteLimit": 2048000,
      "rowLimit": 10000
     },
     "inputWidgets": {},
     "nuid": "bdd5d6f0-3a92-44ec-af0b-040225fcbaa7",
     "showTitle": false,
     "title": ""
    }
   },
   "outputs": [
    {
     "output_type": "display_data",
     "data": {
      "text/html": [
       "<style scoped>\n",
       "  .ansiout {\n",
       "    display: block;\n",
       "    unicode-bidi: embed;\n",
       "    white-space: pre-wrap;\n",
       "    word-wrap: break-word;\n",
       "    word-break: break-all;\n",
       "    font-family: \"Source Code Pro\", \"Menlo\", monospace;;\n",
       "    font-size: 13px;\n",
       "    color: #555;\n",
       "    margin-left: 4px;\n",
       "    line-height: 19px;\n",
       "  }\n",
       "</style>\n",
       "<div class=\"ansiout\"></div>"
      ]
     },
     "metadata": {
      "application/vnd.databricks.v1+output": {
       "addedWidgets": {},
       "arguments": {},
       "data": "<div class=\"ansiout\"></div>",
       "datasetInfos": [],
       "metadata": {},
       "removedWidgets": [],
       "type": "html"
      }
     },
     "output_type": "display_data"
    }
   ],
   "source": [
    "lmodel= nlp.LightPipeline(model)\n",
    "lresult= lmodel.fullAnnotate(sample_text)[0]"
   ]
  },
  {
   "cell_type": "code",
   "execution_count": 0,
   "metadata": {
    "application/vnd.databricks.v1+cell": {
     "cellMetadata": {
      "byteLimit": 2048000,
      "rowLimit": 10000
     },
     "inputWidgets": {},
     "nuid": "c9932e7a-d584-4e82-9cf6-a0e5999f2850",
     "showTitle": false,
     "title": ""
    }
   },
   "outputs": [
    {
     "output_type": "display_data",
     "data": {
      "text/html": [
       "<style scoped>\n",
       "  .ansiout {\n",
       "    display: block;\n",
       "    unicode-bidi: embed;\n",
       "    white-space: pre-wrap;\n",
       "    word-wrap: break-word;\n",
       "    word-break: break-all;\n",
       "    font-family: \"Source Code Pro\", \"Menlo\", monospace;;\n",
       "    font-size: 13px;\n",
       "    color: #555;\n",
       "    margin-left: 4px;\n",
       "    line-height: 19px;\n",
       "  }\n",
       "</style>\n",
       "<div class=\"ansiout\">Out[70]: [Annotation(chunk, 708, 711, 2006, {&#39;field&#39;: &#39;YEAR&#39;, &#39;tokenIndex&#39;: &#39;7&#39;, &#39;ner_source&#39;: &#39;chunk_year&#39;, &#39;normalized&#39;: &#39;&#39;, &#39;confidenceValue&#39;: &#39;0.50&#39;, &#39;entity&#39;: &#39;YEAR&#39;, &#39;sentence&#39;: &#39;3&#39;}, []),\n",
       " Annotation(chunk, 726, 729, 2007, {&#39;field&#39;: &#39;YEAR&#39;, &#39;tokenIndex&#39;: &#39;3&#39;, &#39;ner_source&#39;: &#39;chunk_year&#39;, &#39;normalized&#39;: &#39;&#39;, &#39;confidenceValue&#39;: &#39;0.50&#39;, &#39;entity&#39;: &#39;YEAR&#39;, &#39;sentence&#39;: &#39;4&#39;}, []),\n",
       " Annotation(chunk, 916, 919, 2008, {&#39;field&#39;: &#39;YEAR&#39;, &#39;tokenIndex&#39;: &#39;1&#39;, &#39;ner_source&#39;: &#39;chunk_year&#39;, &#39;normalized&#39;: &#39;&#39;, &#39;confidenceValue&#39;: &#39;0.50&#39;, &#39;entity&#39;: &#39;YEAR&#39;, &#39;sentence&#39;: &#39;6&#39;}, []),\n",
       " Annotation(chunk, 1437, 1440, 2009, {&#39;field&#39;: &#39;YEAR&#39;, &#39;tokenIndex&#39;: &#39;22&#39;, &#39;ner_source&#39;: &#39;chunk_year&#39;, &#39;normalized&#39;: &#39;&#39;, &#39;confidenceValue&#39;: &#39;0.50&#39;, &#39;entity&#39;: &#39;YEAR&#39;, &#39;sentence&#39;: &#39;9&#39;}, []),\n",
       " Annotation(chunk, 1716, 1719, 2012, {&#39;field&#39;: &#39;YEAR&#39;, &#39;tokenIndex&#39;: &#39;6&#39;, &#39;ner_source&#39;: &#39;chunk_year&#39;, &#39;normalized&#39;: &#39;&#39;, &#39;confidenceValue&#39;: &#39;0.50&#39;, &#39;entity&#39;: &#39;YEAR&#39;, &#39;sentence&#39;: &#39;11&#39;}, [])]</div>"
      ]
     },
     "metadata": {
      "application/vnd.databricks.v1+output": {
       "addedWidgets": {},
       "arguments": {},
       "data": "<div class=\"ansiout\">Out[70]: [Annotation(chunk, 708, 711, 2006, {&#39;field&#39;: &#39;YEAR&#39;, &#39;tokenIndex&#39;: &#39;7&#39;, &#39;ner_source&#39;: &#39;chunk_year&#39;, &#39;normalized&#39;: &#39;&#39;, &#39;confidenceValue&#39;: &#39;0.50&#39;, &#39;entity&#39;: &#39;YEAR&#39;, &#39;sentence&#39;: &#39;3&#39;}, []),\n Annotation(chunk, 726, 729, 2007, {&#39;field&#39;: &#39;YEAR&#39;, &#39;tokenIndex&#39;: &#39;3&#39;, &#39;ner_source&#39;: &#39;chunk_year&#39;, &#39;normalized&#39;: &#39;&#39;, &#39;confidenceValue&#39;: &#39;0.50&#39;, &#39;entity&#39;: &#39;YEAR&#39;, &#39;sentence&#39;: &#39;4&#39;}, []),\n Annotation(chunk, 916, 919, 2008, {&#39;field&#39;: &#39;YEAR&#39;, &#39;tokenIndex&#39;: &#39;1&#39;, &#39;ner_source&#39;: &#39;chunk_year&#39;, &#39;normalized&#39;: &#39;&#39;, &#39;confidenceValue&#39;: &#39;0.50&#39;, &#39;entity&#39;: &#39;YEAR&#39;, &#39;sentence&#39;: &#39;6&#39;}, []),\n Annotation(chunk, 1437, 1440, 2009, {&#39;field&#39;: &#39;YEAR&#39;, &#39;tokenIndex&#39;: &#39;22&#39;, &#39;ner_source&#39;: &#39;chunk_year&#39;, &#39;normalized&#39;: &#39;&#39;, &#39;confidenceValue&#39;: &#39;0.50&#39;, &#39;entity&#39;: &#39;YEAR&#39;, &#39;sentence&#39;: &#39;9&#39;}, []),\n Annotation(chunk, 1716, 1719, 2012, {&#39;field&#39;: &#39;YEAR&#39;, &#39;tokenIndex&#39;: &#39;6&#39;, &#39;ner_source&#39;: &#39;chunk_year&#39;, &#39;normalized&#39;: &#39;&#39;, &#39;confidenceValue&#39;: &#39;0.50&#39;, &#39;entity&#39;: &#39;YEAR&#39;, &#39;sentence&#39;: &#39;11&#39;}, [])]</div>",
       "datasetInfos": [],
       "metadata": {},
       "removedWidgets": [],
       "type": "html"
      }
     },
     "output_type": "display_data"
    }
   ],
   "source": [
    "# YEAR chunks detected by CP\n",
    "\n",
    "lresult[\"chunk_year\"]"
   ]
  },
  {
   "cell_type": "code",
   "execution_count": 0,
   "metadata": {
    "application/vnd.databricks.v1+cell": {
     "cellMetadata": {},
     "inputWidgets": {},
     "nuid": "ef6cf2b8-9a98-4144-ae17-f211bb1279df",
     "showTitle": false,
     "title": ""
    }
   },
   "outputs": [
    {
     "output_type": "display_data",
     "data": {
      "text/html": [
       "<style scoped>\n",
       "  .ansiout {\n",
       "    display: block;\n",
       "    unicode-bidi: embed;\n",
       "    white-space: pre-wrap;\n",
       "    word-wrap: break-word;\n",
       "    word-break: break-all;\n",
       "    font-family: \"Source Code Pro\", \"Menlo\", monospace;;\n",
       "    font-size: 13px;\n",
       "    color: #555;\n",
       "    margin-left: 4px;\n",
       "    line-height: 19px;\n",
       "  }\n",
       "</style>\n",
       "<div class=\"ansiout\">Out[65]: [Annotation(chunk, 2, 3, 28, {&#39;chunk&#39;: &#39;0&#39;, &#39;confidence&#39;: &#39;0.9993&#39;, &#39;ner_source&#39;: &#39;ner_generic_chunk&#39;, &#39;entity&#39;: &#39;AGE&#39;, &#39;sentence&#39;: &#39;0&#39;}),\n",
       " Annotation(chunk, 704, 711, May 2006, {&#39;chunk&#39;: &#39;1&#39;, &#39;confidence&#39;: &#39;0.9971&#39;, &#39;ner_source&#39;: &#39;ner_generic_chunk&#39;, &#39;entity&#39;: &#39;DATE&#39;, &#39;sentence&#39;: &#39;3&#39;}),\n",
       " Annotation(chunk, 718, 729, 30 June 2007, {&#39;chunk&#39;: &#39;2&#39;, &#39;confidence&#39;: &#39;0.9192667&#39;, &#39;ner_source&#39;: &#39;ner_generic_chunk&#39;, &#39;entity&#39;: &#39;DATE&#39;, &#39;sentence&#39;: &#39;4&#39;}),\n",
       " Annotation(chunk, 916, 919, 2008, {&#39;chunk&#39;: &#39;3&#39;, &#39;confidence&#39;: &#39;0.9979&#39;, &#39;ner_source&#39;: &#39;ner_generic_chunk&#39;, &#39;entity&#39;: &#39;DATE&#39;, &#39;sentence&#39;: &#39;6&#39;}),\n",
       " Annotation(chunk, 1437, 1440, 2009, {&#39;chunk&#39;: &#39;4&#39;, &#39;confidence&#39;: &#39;0.9965&#39;, &#39;ner_source&#39;: &#39;ner_generic_chunk&#39;, &#39;entity&#39;: &#39;DATE&#39;, &#39;sentence&#39;: &#39;9&#39;}),\n",
       " Annotation(chunk, 1708, 1719, 05 June 2012, {&#39;chunk&#39;: &#39;5&#39;, &#39;confidence&#39;: &#39;0.9552&#39;, &#39;ner_source&#39;: &#39;ner_generic_chunk&#39;, &#39;entity&#39;: &#39;DATE&#39;, &#39;sentence&#39;: &#39;11&#39;}),\n",
       " Annotation(chunk, 2096, 2105, 21-02-2020, {&#39;chunk&#39;: &#39;6&#39;, &#39;confidence&#39;: &#39;1.0&#39;, &#39;ner_source&#39;: &#39;ner_generic_chunk&#39;, &#39;entity&#39;: &#39;DATE&#39;, &#39;sentence&#39;: &#39;15&#39;}),\n",
       " Annotation(chunk, 2108, 2117, 21/04/2020, {&#39;chunk&#39;: &#39;7&#39;, &#39;confidence&#39;: &#39;0.6495&#39;, &#39;ner_source&#39;: &#39;ner_generic_chunk&#39;, &#39;entity&#39;: &#39;DATE&#39;, &#39;sentence&#39;: &#39;15&#39;})]</div>"
      ]
     },
     "metadata": {
      "application/vnd.databricks.v1+output": {
       "addedWidgets": {},
       "arguments": {},
       "data": "<div class=\"ansiout\">Out[65]: [Annotation(chunk, 2, 3, 28, {&#39;chunk&#39;: &#39;0&#39;, &#39;confidence&#39;: &#39;0.9993&#39;, &#39;ner_source&#39;: &#39;ner_generic_chunk&#39;, &#39;entity&#39;: &#39;AGE&#39;, &#39;sentence&#39;: &#39;0&#39;}),\n Annotation(chunk, 704, 711, May 2006, {&#39;chunk&#39;: &#39;1&#39;, &#39;confidence&#39;: &#39;0.9971&#39;, &#39;ner_source&#39;: &#39;ner_generic_chunk&#39;, &#39;entity&#39;: &#39;DATE&#39;, &#39;sentence&#39;: &#39;3&#39;}),\n Annotation(chunk, 718, 729, 30 June 2007, {&#39;chunk&#39;: &#39;2&#39;, &#39;confidence&#39;: &#39;0.9192667&#39;, &#39;ner_source&#39;: &#39;ner_generic_chunk&#39;, &#39;entity&#39;: &#39;DATE&#39;, &#39;sentence&#39;: &#39;4&#39;}),\n Annotation(chunk, 916, 919, 2008, {&#39;chunk&#39;: &#39;3&#39;, &#39;confidence&#39;: &#39;0.9979&#39;, &#39;ner_source&#39;: &#39;ner_generic_chunk&#39;, &#39;entity&#39;: &#39;DATE&#39;, &#39;sentence&#39;: &#39;6&#39;}),\n Annotation(chunk, 1437, 1440, 2009, {&#39;chunk&#39;: &#39;4&#39;, &#39;confidence&#39;: &#39;0.9965&#39;, &#39;ner_source&#39;: &#39;ner_generic_chunk&#39;, &#39;entity&#39;: &#39;DATE&#39;, &#39;sentence&#39;: &#39;9&#39;}),\n Annotation(chunk, 1708, 1719, 05 June 2012, {&#39;chunk&#39;: &#39;5&#39;, &#39;confidence&#39;: &#39;0.9552&#39;, &#39;ner_source&#39;: &#39;ner_generic_chunk&#39;, &#39;entity&#39;: &#39;DATE&#39;, &#39;sentence&#39;: &#39;11&#39;}),\n Annotation(chunk, 2096, 2105, 21-02-2020, {&#39;chunk&#39;: &#39;6&#39;, &#39;confidence&#39;: &#39;1.0&#39;, &#39;ner_source&#39;: &#39;ner_generic_chunk&#39;, &#39;entity&#39;: &#39;DATE&#39;, &#39;sentence&#39;: &#39;15&#39;}),\n Annotation(chunk, 2108, 2117, 21/04/2020, {&#39;chunk&#39;: &#39;7&#39;, &#39;confidence&#39;: &#39;0.6495&#39;, &#39;ner_source&#39;: &#39;ner_generic_chunk&#39;, &#39;entity&#39;: &#39;DATE&#39;, &#39;sentence&#39;: &#39;15&#39;})]</div>",
       "datasetInfos": [],
       "metadata": {},
       "removedWidgets": [],
       "type": "html"
      }
     },
     "output_type": "display_data"
    }
   ],
   "source": [
    "# chunks are detected by ner_deid_generic_augmented\n",
    "\n",
    "lresult[\"ner_generic_chunk\"]"
   ]
  },
  {
   "cell_type": "code",
   "execution_count": 0,
   "metadata": {
    "application/vnd.databricks.v1+cell": {
     "cellMetadata": {
      "byteLimit": 2048000,
      "rowLimit": 10000
     },
     "inputWidgets": {},
     "nuid": "e4760db4-bf1a-4a97-a48b-9d29b85735b3",
     "showTitle": false,
     "title": ""
    }
   },
   "outputs": [
    {
     "output_type": "display_data",
     "data": {
      "text/html": [
       "<style scoped>\n",
       "  .ansiout {\n",
       "    display: block;\n",
       "    unicode-bidi: embed;\n",
       "    white-space: pre-wrap;\n",
       "    word-wrap: break-word;\n",
       "    word-break: break-all;\n",
       "    font-family: \"Source Code Pro\", \"Menlo\", monospace;;\n",
       "    font-size: 13px;\n",
       "    color: #555;\n",
       "    margin-left: 4px;\n",
       "    line-height: 19px;\n",
       "  }\n",
       "</style>\n",
       "<div class=\"ansiout\">Out[71]: [Annotation(chunk, 2, 3, 28, {&#39;entity&#39;: &#39;AGE&#39;, &#39;confidence&#39;: &#39;0.9993&#39;, &#39;ner_source&#39;: &#39;ner_generic_chunk&#39;, &#39;chunk&#39;: &#39;0&#39;, &#39;sentence&#39;: &#39;0&#39;}, []),\n",
       " Annotation(chunk, 704, 711, May 2006, {&#39;entity&#39;: &#39;DATE&#39;, &#39;confidence&#39;: &#39;0.9971&#39;, &#39;ner_source&#39;: &#39;ner_generic_chunk&#39;, &#39;chunk&#39;: &#39;1&#39;, &#39;sentence&#39;: &#39;3&#39;}, []),\n",
       " Annotation(chunk, 718, 729, 30 June 2007, {&#39;entity&#39;: &#39;DATE&#39;, &#39;confidence&#39;: &#39;0.9192667&#39;, &#39;ner_source&#39;: &#39;ner_generic_chunk&#39;, &#39;chunk&#39;: &#39;2&#39;, &#39;sentence&#39;: &#39;4&#39;}, []),\n",
       " Annotation(chunk, 916, 919, 2008, {&#39;tokenIndex&#39;: &#39;1&#39;, &#39;entity&#39;: &#39;YEAR&#39;, &#39;field&#39;: &#39;YEAR&#39;, &#39;ner_source&#39;: &#39;chunk_year&#39;, &#39;chunk&#39;: &#39;3&#39;, &#39;normalized&#39;: &#39;&#39;, &#39;sentence&#39;: &#39;6&#39;, &#39;confidenceValue&#39;: &#39;0.50&#39;}, []),\n",
       " Annotation(chunk, 1437, 1440, 2009, {&#39;tokenIndex&#39;: &#39;22&#39;, &#39;entity&#39;: &#39;YEAR&#39;, &#39;field&#39;: &#39;YEAR&#39;, &#39;ner_source&#39;: &#39;chunk_year&#39;, &#39;chunk&#39;: &#39;4&#39;, &#39;normalized&#39;: &#39;&#39;, &#39;sentence&#39;: &#39;9&#39;, &#39;confidenceValue&#39;: &#39;0.50&#39;}, []),\n",
       " Annotation(chunk, 1708, 1719, 05 June 2012, {&#39;entity&#39;: &#39;DATE&#39;, &#39;confidence&#39;: &#39;0.9552&#39;, &#39;ner_source&#39;: &#39;ner_generic_chunk&#39;, &#39;chunk&#39;: &#39;5&#39;, &#39;sentence&#39;: &#39;11&#39;}, []),\n",
       " Annotation(chunk, 2096, 2105, 21-02-2020, {&#39;entity&#39;: &#39;DATE&#39;, &#39;confidence&#39;: &#39;1.0&#39;, &#39;ner_source&#39;: &#39;ner_generic_chunk&#39;, &#39;chunk&#39;: &#39;6&#39;, &#39;sentence&#39;: &#39;15&#39;}, []),\n",
       " Annotation(chunk, 2108, 2117, 21/04/2020, {&#39;entity&#39;: &#39;DATE&#39;, &#39;confidence&#39;: &#39;0.6495&#39;, &#39;ner_source&#39;: &#39;ner_generic_chunk&#39;, &#39;chunk&#39;: &#39;7&#39;, &#39;sentence&#39;: &#39;15&#39;}, [])]</div>"
      ]
     },
     "metadata": {
      "application/vnd.databricks.v1+output": {
       "addedWidgets": {},
       "arguments": {},
       "data": "<div class=\"ansiout\">Out[71]: [Annotation(chunk, 2, 3, 28, {&#39;entity&#39;: &#39;AGE&#39;, &#39;confidence&#39;: &#39;0.9993&#39;, &#39;ner_source&#39;: &#39;ner_generic_chunk&#39;, &#39;chunk&#39;: &#39;0&#39;, &#39;sentence&#39;: &#39;0&#39;}, []),\n Annotation(chunk, 704, 711, May 2006, {&#39;entity&#39;: &#39;DATE&#39;, &#39;confidence&#39;: &#39;0.9971&#39;, &#39;ner_source&#39;: &#39;ner_generic_chunk&#39;, &#39;chunk&#39;: &#39;1&#39;, &#39;sentence&#39;: &#39;3&#39;}, []),\n Annotation(chunk, 718, 729, 30 June 2007, {&#39;entity&#39;: &#39;DATE&#39;, &#39;confidence&#39;: &#39;0.9192667&#39;, &#39;ner_source&#39;: &#39;ner_generic_chunk&#39;, &#39;chunk&#39;: &#39;2&#39;, &#39;sentence&#39;: &#39;4&#39;}, []),\n Annotation(chunk, 916, 919, 2008, {&#39;tokenIndex&#39;: &#39;1&#39;, &#39;entity&#39;: &#39;YEAR&#39;, &#39;field&#39;: &#39;YEAR&#39;, &#39;ner_source&#39;: &#39;chunk_year&#39;, &#39;chunk&#39;: &#39;3&#39;, &#39;normalized&#39;: &#39;&#39;, &#39;sentence&#39;: &#39;6&#39;, &#39;confidenceValue&#39;: &#39;0.50&#39;}, []),\n Annotation(chunk, 1437, 1440, 2009, {&#39;tokenIndex&#39;: &#39;22&#39;, &#39;entity&#39;: &#39;YEAR&#39;, &#39;field&#39;: &#39;YEAR&#39;, &#39;ner_source&#39;: &#39;chunk_year&#39;, &#39;chunk&#39;: &#39;4&#39;, &#39;normalized&#39;: &#39;&#39;, &#39;sentence&#39;: &#39;9&#39;, &#39;confidenceValue&#39;: &#39;0.50&#39;}, []),\n Annotation(chunk, 1708, 1719, 05 June 2012, {&#39;entity&#39;: &#39;DATE&#39;, &#39;confidence&#39;: &#39;0.9552&#39;, &#39;ner_source&#39;: &#39;ner_generic_chunk&#39;, &#39;chunk&#39;: &#39;5&#39;, &#39;sentence&#39;: &#39;11&#39;}, []),\n Annotation(chunk, 2096, 2105, 21-02-2020, {&#39;entity&#39;: &#39;DATE&#39;, &#39;confidence&#39;: &#39;1.0&#39;, &#39;ner_source&#39;: &#39;ner_generic_chunk&#39;, &#39;chunk&#39;: &#39;6&#39;, &#39;sentence&#39;: &#39;15&#39;}, []),\n Annotation(chunk, 2108, 2117, 21/04/2020, {&#39;entity&#39;: &#39;DATE&#39;, &#39;confidence&#39;: &#39;0.6495&#39;, &#39;ner_source&#39;: &#39;ner_generic_chunk&#39;, &#39;chunk&#39;: &#39;7&#39;, &#39;sentence&#39;: &#39;15&#39;}, [])]</div>",
       "datasetInfos": [],
       "metadata": {},
       "removedWidgets": [],
       "type": "html"
      }
     },
     "output_type": "display_data"
    }
   ],
   "source": [
    "# 2008 and 2009 entities are labelled as YEAR in merged chunk\n",
    "\n",
    "lresult[\"deid_merged_chunk\"]"
   ]
  },
  {
   "cell_type": "code",
   "execution_count": 0,
   "metadata": {
    "application/vnd.databricks.v1+cell": {
     "cellMetadata": {
      "byteLimit": 2048000,
      "rowLimit": 10000
     },
     "inputWidgets": {},
     "nuid": "6c81713b-f01d-43f3-b45e-92af27d2629c",
     "showTitle": false,
     "title": ""
    }
   },
   "outputs": [
    {
     "output_type": "display_data",
     "data": {
      "text/html": [
       "<style scoped>\n",
       "  .ansiout {\n",
       "    display: block;\n",
       "    unicode-bidi: embed;\n",
       "    white-space: pre-wrap;\n",
       "    word-wrap: break-word;\n",
       "    word-break: break-all;\n",
       "    font-family: \"Source Code Pro\", \"Menlo\", monospace;;\n",
       "    font-size: 13px;\n",
       "    color: #555;\n",
       "    margin-left: 4px;\n",
       "    line-height: 19px;\n",
       "  }\n",
       "</style>\n",
       "<div class=\"ansiout\">Out[72]: [Annotation(chunk, 2, 3, 28, {&#39;entity&#39;: &#39;AGE&#39;, &#39;confidence&#39;: &#39;0.9993&#39;, &#39;ner_source&#39;: &#39;ner_generic_chunk&#39;, &#39;chunk&#39;: &#39;0&#39;, &#39;sentence&#39;: &#39;0&#39;}, []),\n",
       " Annotation(chunk, 704, 711, May 2006, {&#39;entity&#39;: &#39;DATE&#39;, &#39;confidence&#39;: &#39;0.9971&#39;, &#39;ner_source&#39;: &#39;ner_generic_chunk&#39;, &#39;chunk&#39;: &#39;1&#39;, &#39;sentence&#39;: &#39;3&#39;}, []),\n",
       " Annotation(chunk, 718, 729, 30 June 2007, {&#39;entity&#39;: &#39;DATE&#39;, &#39;confidence&#39;: &#39;0.9192667&#39;, &#39;ner_source&#39;: &#39;ner_generic_chunk&#39;, &#39;chunk&#39;: &#39;2&#39;, &#39;sentence&#39;: &#39;4&#39;}, []),\n",
       " Annotation(chunk, 1708, 1719, 05 June 2012, {&#39;entity&#39;: &#39;DATE&#39;, &#39;confidence&#39;: &#39;0.9552&#39;, &#39;ner_source&#39;: &#39;ner_generic_chunk&#39;, &#39;chunk&#39;: &#39;3&#39;, &#39;sentence&#39;: &#39;11&#39;}, []),\n",
       " Annotation(chunk, 2096, 2105, 21-02-2020, {&#39;entity&#39;: &#39;DATE&#39;, &#39;confidence&#39;: &#39;1.0&#39;, &#39;ner_source&#39;: &#39;ner_generic_chunk&#39;, &#39;chunk&#39;: &#39;4&#39;, &#39;sentence&#39;: &#39;15&#39;}, []),\n",
       " Annotation(chunk, 2108, 2117, 21/04/2020, {&#39;entity&#39;: &#39;DATE&#39;, &#39;confidence&#39;: &#39;0.6495&#39;, &#39;ner_source&#39;: &#39;ner_generic_chunk&#39;, &#39;chunk&#39;: &#39;5&#39;, &#39;sentence&#39;: &#39;15&#39;}, [])]</div>"
      ]
     },
     "metadata": {
      "application/vnd.databricks.v1+output": {
       "addedWidgets": {},
       "arguments": {},
       "data": "<div class=\"ansiout\">Out[72]: [Annotation(chunk, 2, 3, 28, {&#39;entity&#39;: &#39;AGE&#39;, &#39;confidence&#39;: &#39;0.9993&#39;, &#39;ner_source&#39;: &#39;ner_generic_chunk&#39;, &#39;chunk&#39;: &#39;0&#39;, &#39;sentence&#39;: &#39;0&#39;}, []),\n Annotation(chunk, 704, 711, May 2006, {&#39;entity&#39;: &#39;DATE&#39;, &#39;confidence&#39;: &#39;0.9971&#39;, &#39;ner_source&#39;: &#39;ner_generic_chunk&#39;, &#39;chunk&#39;: &#39;1&#39;, &#39;sentence&#39;: &#39;3&#39;}, []),\n Annotation(chunk, 718, 729, 30 June 2007, {&#39;entity&#39;: &#39;DATE&#39;, &#39;confidence&#39;: &#39;0.9192667&#39;, &#39;ner_source&#39;: &#39;ner_generic_chunk&#39;, &#39;chunk&#39;: &#39;2&#39;, &#39;sentence&#39;: &#39;4&#39;}, []),\n Annotation(chunk, 1708, 1719, 05 June 2012, {&#39;entity&#39;: &#39;DATE&#39;, &#39;confidence&#39;: &#39;0.9552&#39;, &#39;ner_source&#39;: &#39;ner_generic_chunk&#39;, &#39;chunk&#39;: &#39;3&#39;, &#39;sentence&#39;: &#39;11&#39;}, []),\n Annotation(chunk, 2096, 2105, 21-02-2020, {&#39;entity&#39;: &#39;DATE&#39;, &#39;confidence&#39;: &#39;1.0&#39;, &#39;ner_source&#39;: &#39;ner_generic_chunk&#39;, &#39;chunk&#39;: &#39;4&#39;, &#39;sentence&#39;: &#39;15&#39;}, []),\n Annotation(chunk, 2108, 2117, 21/04/2020, {&#39;entity&#39;: &#39;DATE&#39;, &#39;confidence&#39;: &#39;0.6495&#39;, &#39;ner_source&#39;: &#39;ner_generic_chunk&#39;, &#39;chunk&#39;: &#39;5&#39;, &#39;sentence&#39;: &#39;15&#39;}, [])]</div>",
       "datasetInfos": [],
       "metadata": {},
       "removedWidgets": [],
       "type": "html"
      }
     },
     "output_type": "display_data"
    }
   ],
   "source": [
    "lresult[\"final_merged_chunk\"]"
   ]
  },
  {
   "cell_type": "markdown",
   "metadata": {
    "application/vnd.databricks.v1+cell": {
     "cellMetadata": {},
     "inputWidgets": {},
     "nuid": "4cf3bd9b-fdad-480b-ac73-6cb261651cbe",
     "showTitle": false,
     "title": ""
    }
   },
   "source": [
    "`YEAR` entities were in `deid_merged_chunk`, but they are not in `final_merged_chunk`."
   ]
  },
  {
   "cell_type": "code",
   "execution_count": 0,
   "metadata": {
    "application/vnd.databricks.v1+cell": {
     "cellMetadata": {
      "byteLimit": 2048000,
      "rowLimit": 10000
     },
     "inputWidgets": {},
     "nuid": "7550dee7-2ac8-49db-a4ab-08921594c1b7",
     "showTitle": false,
     "title": ""
    }
   },
   "outputs": [
    {
     "output_type": "display_data",
     "data": {
      "text/html": [
       "<style scoped>\n",
       "  .ansiout {\n",
       "    display: block;\n",
       "    unicode-bidi: embed;\n",
       "    white-space: pre-wrap;\n",
       "    word-wrap: break-word;\n",
       "    word-break: break-all;\n",
       "    font-family: \"Source Code Pro\", \"Menlo\", monospace;;\n",
       "    font-size: 13px;\n",
       "    color: #555;\n",
       "    margin-left: 4px;\n",
       "    line-height: 19px;\n",
       "  }\n",
       "</style>\n",
       "<div class=\"ansiout\"></div>"
      ]
     },
     "metadata": {
      "application/vnd.databricks.v1+output": {
       "addedWidgets": {},
       "arguments": {},
       "data": "<div class=\"ansiout\"></div>",
       "datasetInfos": [],
       "metadata": {},
       "removedWidgets": [],
       "type": "html"
      }
     },
     "output_type": "display_data"
    }
   ],
   "source": [
    "result_df = model.transform(spark.createDataFrame([[sample_text]]).toDF(\"text\"))"
   ]
  },
  {
   "cell_type": "code",
   "execution_count": 0,
   "metadata": {
    "application/vnd.databricks.v1+cell": {
     "cellMetadata": {
      "byteLimit": 2048000,
      "rowLimit": 10000
     },
     "inputWidgets": {},
     "nuid": "6ae76b09-14fc-44e9-adf0-8a7207ecf6d0",
     "showTitle": false,
     "title": ""
    }
   },
   "outputs": [
    {
     "output_type": "display_data",
     "data": {
      "text/html": [
       "<style scoped>\n",
       "  .ansiout {\n",
       "    display: block;\n",
       "    unicode-bidi: embed;\n",
       "    white-space: pre-wrap;\n",
       "    word-wrap: break-word;\n",
       "    word-break: break-all;\n",
       "    font-family: \"Source Code Pro\", \"Menlo\", monospace;;\n",
       "    font-size: 13px;\n",
       "    color: #555;\n",
       "    margin-left: 4px;\n",
       "    line-height: 19px;\n",
       "  }\n",
       "</style>\n",
       "<div class=\"ansiout\">Out[74]: </div>"
      ]
     },
     "metadata": {
      "application/vnd.databricks.v1+output": {
       "addedWidgets": {},
       "arguments": {},
       "data": "<div class=\"ansiout\">Out[74]: </div>",
       "datasetInfos": [],
       "metadata": {},
       "removedWidgets": [],
       "type": "html"
      }
     },
     "output_type": "display_data"
    },
    {
     "output_type": "display_data",
     "data": {
      "text/html": [
       "<div>\n",
       "<style scoped>\n",
       "    .dataframe tbody tr th:only-of-type {\n",
       "        vertical-align: middle;\n",
       "    }\n",
       "\n",
       "    .dataframe tbody tr th {\n",
       "        vertical-align: top;\n",
       "    }\n",
       "\n",
       "    .dataframe thead th {\n",
       "        text-align: right;\n",
       "    }\n",
       "</style>\n",
       "<table border=\"1\" class=\"dataframe\">\n",
       "  <thead>\n",
       "    <tr style=\"text-align: right;\">\n",
       "      <th></th>\n",
       "      <th>sentence</th>\n",
       "      <th>deid_entity_label</th>\n",
       "    </tr>\n",
       "  </thead>\n",
       "  <tbody>\n",
       "    <tr>\n",
       "      <th>0</th>\n",
       "      <td>A 28 year old female with a history of gestational diabetes mellitus diagnosed eight years prior to \\npresentation and subsequent type two diabetes mellitus ( T2DM ), one prior episode of HTG-induced pancreatitis \\nthree years prior to presentation , associated with an acute hepatitis , and obesity with a body mass index \\n( BMI ) of 33.5 kg/m2 , presented with a one-week history of polyuria , polydipsia , poor appetite , and vomiting.</td>\n",
       "      <td>A &lt;AGE&gt; year old female with a history of gestational diabetes mellitus diagnosed eight years prior to \\npresentation and subsequent type two diabetes mellitus ( T2DM ), one prior episode of HTG-induced pancreatitis \\nthree years prior to presentation , associated with an acute hepatitis , and obesity with a body mass index \\n( BMI ) of 33.5 kg/m2 , presented with a one-week history of polyuria , polydipsia , poor appetite , and vomiting.</td>\n",
       "    </tr>\n",
       "    <tr>\n",
       "      <th>1</th>\n",
       "      <td>Two weeks prior to presentation , she was treated with a five-day course of amoxicillin for a respiratory tract infection .</td>\n",
       "      <td>Two weeks prior to presentation , she was treated with a five-day course of amoxicillin for a respiratory tract infection .</td>\n",
       "    </tr>\n",
       "    <tr>\n",
       "      <th>2</th>\n",
       "      <td>She was on metformin , glipizide , and dapagliflozin for T2DM and atorvastatin and gemfibrozil for HTG .</td>\n",
       "      <td>She was on metformin , glipizide , and dapagliflozin for T2DM and atorvastatin and gemfibrozil for HTG .</td>\n",
       "    </tr>\n",
       "    <tr>\n",
       "      <th>3</th>\n",
       "      <td>She had been on dapagliflozin since May 2006 .</td>\n",
       "      <td>She had been on dapagliflozin since &lt;DATE&gt; .</td>\n",
       "    </tr>\n",
       "    <tr>\n",
       "      <th>4</th>\n",
       "      <td>On 30 June 2007 , her physical examination on presentation was \\nsignificant for dry oral mucosa ;</td>\n",
       "      <td>On &lt;DATE&gt; , her physical examination on presentation was \\nsignificant for dry oral mucosa ;</td>\n",
       "    </tr>\n",
       "    <tr>\n",
       "      <th>5</th>\n",
       "      <td>significantly , her abdominal examination was benign with no tenderness , guarding , \\nor rigidity .</td>\n",
       "      <td>significantly , her abdominal examination was benign with no tenderness , guarding , \\nor rigidity .</td>\n",
       "    </tr>\n",
       "    <tr>\n",
       "      <th>6</th>\n",
       "      <td>In 2008 laboratory findings on admission were : serum glucose 111 mg/dl , bicarbonate 18 mmol/l , \\nanion gap 20 , creatinine 0.4 mg/dL , triglycerides 508 mg/dL , total cholesterol 122 mg/dL , glycated hemoglobin \\n( HbA1c ) 10% , and venous pH 7.27 .</td>\n",
       "      <td>In 2008 laboratory findings on admission were : serum glucose 111 mg/dl , bicarbonate 18 mmol/l , \\nanion gap 20 , creatinine 0.4 mg/dL , triglycerides 508 mg/dL , total cholesterol 122 mg/dL , glycated hemoglobin \\n( HbA1c ) 10% , and venous pH 7.27 .</td>\n",
       "    </tr>\n",
       "    <tr>\n",
       "      <th>7</th>\n",
       "      <td>Serum lipase was normal at 43 U/L .</td>\n",
       "      <td>Serum lipase was normal at 43 U/L .</td>\n",
       "    </tr>\n",
       "    <tr>\n",
       "      <th>8</th>\n",
       "      <td>Serum acetone levels could not be assessed \\nas blood samples kept hemolyzing due to significant lipemia .</td>\n",
       "      <td>Serum acetone levels could not be assessed \\nas blood samples kept hemolyzing due to significant lipemia .</td>\n",
       "    </tr>\n",
       "    <tr>\n",
       "      <th>9</th>\n",
       "      <td>The patient was initially admitted for starvation ketosis , as she reported poor oral intake for three days prior \\nto admission in 2009.</td>\n",
       "      <td>The patient was initially admitted for starvation ketosis , as she reported poor oral intake for three days prior \\nto admission in 2009.</td>\n",
       "    </tr>\n",
       "    <tr>\n",
       "      <th>10</th>\n",
       "      <td>However , serum chemistry obtained six hours after presentation revealed her glucose was 186 mg/dL , \\nthe anion gap was still elevated at 21 , serum bicarbonate was 16 mmol/L , triglyceride level peaked at 950 mg/dL , \\nand lipase was 52 U/L .</td>\n",
       "      <td>However , serum chemistry obtained six hours after presentation revealed her glucose was 186 mg/dL , \\nthe anion gap was still elevated at 21 , serum bicarbonate was 16 mmol/L , triglyceride level peaked at 950 mg/dL , \\nand lipase was 52 U/L .</td>\n",
       "    </tr>\n",
       "    <tr>\n",
       "      <th>11</th>\n",
       "      <td>She was discharged on 05 June 2012 .</td>\n",
       "      <td>She was discharged on &lt;DATE&gt; .</td>\n",
       "    </tr>\n",
       "    <tr>\n",
       "      <th>12</th>\n",
       "      <td>Her euDKA was thought to be precipitated by her respiratory tract infection in the setting of SGLT2 inhibitor use .</td>\n",
       "      <td>Her euDKA was thought to be precipitated by her respiratory tract infection in the setting of SGLT2 inhibitor use .</td>\n",
       "    </tr>\n",
       "    <tr>\n",
       "      <th>13</th>\n",
       "      <td>At birth the typical boy is growing slightly faster than the typical girl, but the velocities become equal at about \\nseven months, and then the girl grows faster until four years.</td>\n",
       "      <td>At birth the typical boy is growing slightly faster than the typical girl, but the velocities become equal at about \\nseven months, and then the girl grows faster until four years.</td>\n",
       "    </tr>\n",
       "    <tr>\n",
       "      <th>14</th>\n",
       "      <td>From then until adolescence no differences in velocity \\ncan be detected.</td>\n",
       "      <td>From then until adolescence no differences in velocity \\ncan be detected.</td>\n",
       "    </tr>\n",
       "    <tr>\n",
       "      <th>15</th>\n",
       "      <td>21-02-2020 \\n21/04/2020</td>\n",
       "      <td>&lt;DATE&gt; \\n&lt;DATE&gt;</td>\n",
       "    </tr>\n",
       "  </tbody>\n",
       "</table>\n",
       "</div>"
      ]
     },
     "metadata": {
      "application/vnd.databricks.v1+output": {
       "addedWidgets": {},
       "arguments": {},
       "data": "<div>\n<style scoped>\n    .dataframe tbody tr th:only-of-type {\n        vertical-align: middle;\n    }\n\n    .dataframe tbody tr th {\n        vertical-align: top;\n    }\n\n    .dataframe thead th {\n        text-align: right;\n    }\n</style>\n<table border=\"1\" class=\"dataframe\">\n  <thead>\n    <tr style=\"text-align: right;\">\n      <th></th>\n      <th>sentence</th>\n      <th>deid_entity_label</th>\n    </tr>\n  </thead>\n  <tbody>\n    <tr>\n      <th>0</th>\n      <td>A 28 year old female with a history of gestational diabetes mellitus diagnosed eight years prior to \\npresentation and subsequent type two diabetes mellitus ( T2DM ), one prior episode of HTG-induced pancreatitis \\nthree years prior to presentation , associated with an acute hepatitis , and obesity with a body mass index \\n( BMI ) of 33.5 kg/m2 , presented with a one-week history of polyuria , polydipsia , poor appetite , and vomiting.</td>\n      <td>A &lt;AGE&gt; year old female with a history of gestational diabetes mellitus diagnosed eight years prior to \\npresentation and subsequent type two diabetes mellitus ( T2DM ), one prior episode of HTG-induced pancreatitis \\nthree years prior to presentation , associated with an acute hepatitis , and obesity with a body mass index \\n( BMI ) of 33.5 kg/m2 , presented with a one-week history of polyuria , polydipsia , poor appetite , and vomiting.</td>\n    </tr>\n    <tr>\n      <th>1</th>\n      <td>Two weeks prior to presentation , she was treated with a five-day course of amoxicillin for a respiratory tract infection .</td>\n      <td>Two weeks prior to presentation , she was treated with a five-day course of amoxicillin for a respiratory tract infection .</td>\n    </tr>\n    <tr>\n      <th>2</th>\n      <td>She was on metformin , glipizide , and dapagliflozin for T2DM and atorvastatin and gemfibrozil for HTG .</td>\n      <td>She was on metformin , glipizide , and dapagliflozin for T2DM and atorvastatin and gemfibrozil for HTG .</td>\n    </tr>\n    <tr>\n      <th>3</th>\n      <td>She had been on dapagliflozin since May 2006 .</td>\n      <td>She had been on dapagliflozin since &lt;DATE&gt; .</td>\n    </tr>\n    <tr>\n      <th>4</th>\n      <td>On 30 June 2007 , her physical examination on presentation was \\nsignificant for dry oral mucosa ;</td>\n      <td>On &lt;DATE&gt; , her physical examination on presentation was \\nsignificant for dry oral mucosa ;</td>\n    </tr>\n    <tr>\n      <th>5</th>\n      <td>significantly , her abdominal examination was benign with no tenderness , guarding , \\nor rigidity .</td>\n      <td>significantly , her abdominal examination was benign with no tenderness , guarding , \\nor rigidity .</td>\n    </tr>\n    <tr>\n      <th>6</th>\n      <td>In 2008 laboratory findings on admission were : serum glucose 111 mg/dl , bicarbonate 18 mmol/l , \\nanion gap 20 , creatinine 0.4 mg/dL , triglycerides 508 mg/dL , total cholesterol 122 mg/dL , glycated hemoglobin \\n( HbA1c ) 10% , and venous pH 7.27 .</td>\n      <td>In 2008 laboratory findings on admission were : serum glucose 111 mg/dl , bicarbonate 18 mmol/l , \\nanion gap 20 , creatinine 0.4 mg/dL , triglycerides 508 mg/dL , total cholesterol 122 mg/dL , glycated hemoglobin \\n( HbA1c ) 10% , and venous pH 7.27 .</td>\n    </tr>\n    <tr>\n      <th>7</th>\n      <td>Serum lipase was normal at 43 U/L .</td>\n      <td>Serum lipase was normal at 43 U/L .</td>\n    </tr>\n    <tr>\n      <th>8</th>\n      <td>Serum acetone levels could not be assessed \\nas blood samples kept hemolyzing due to significant lipemia .</td>\n      <td>Serum acetone levels could not be assessed \\nas blood samples kept hemolyzing due to significant lipemia .</td>\n    </tr>\n    <tr>\n      <th>9</th>\n      <td>The patient was initially admitted for starvation ketosis , as she reported poor oral intake for three days prior \\nto admission in 2009.</td>\n      <td>The patient was initially admitted for starvation ketosis , as she reported poor oral intake for three days prior \\nto admission in 2009.</td>\n    </tr>\n    <tr>\n      <th>10</th>\n      <td>However , serum chemistry obtained six hours after presentation revealed her glucose was 186 mg/dL , \\nthe anion gap was still elevated at 21 , serum bicarbonate was 16 mmol/L , triglyceride level peaked at 950 mg/dL , \\nand lipase was 52 U/L .</td>\n      <td>However , serum chemistry obtained six hours after presentation revealed her glucose was 186 mg/dL , \\nthe anion gap was still elevated at 21 , serum bicarbonate was 16 mmol/L , triglyceride level peaked at 950 mg/dL , \\nand lipase was 52 U/L .</td>\n    </tr>\n    <tr>\n      <th>11</th>\n      <td>She was discharged on 05 June 2012 .</td>\n      <td>She was discharged on &lt;DATE&gt; .</td>\n    </tr>\n    <tr>\n      <th>12</th>\n      <td>Her euDKA was thought to be precipitated by her respiratory tract infection in the setting of SGLT2 inhibitor use .</td>\n      <td>Her euDKA was thought to be precipitated by her respiratory tract infection in the setting of SGLT2 inhibitor use .</td>\n    </tr>\n    <tr>\n      <th>13</th>\n      <td>At birth the typical boy is growing slightly faster than the typical girl, but the velocities become equal at about \\nseven months, and then the girl grows faster until four years.</td>\n      <td>At birth the typical boy is growing slightly faster than the typical girl, but the velocities become equal at about \\nseven months, and then the girl grows faster until four years.</td>\n    </tr>\n    <tr>\n      <th>14</th>\n      <td>From then until adolescence no differences in velocity \\ncan be detected.</td>\n      <td>From then until adolescence no differences in velocity \\ncan be detected.</td>\n    </tr>\n    <tr>\n      <th>15</th>\n      <td>21-02-2020 \\n21/04/2020</td>\n      <td>&lt;DATE&gt; \\n&lt;DATE&gt;</td>\n    </tr>\n  </tbody>\n</table>\n</div>",
       "datasetInfos": [],
       "metadata": {},
       "removedWidgets": [],
       "textData": null,
       "type": "htmlSandbox"
      }
     },
     "output_type": "display_data"
    }
   ],
   "source": [
    "pd.set_option(\"display.max_colwidth\",0)\n",
    "\n",
    "pd_result = result_df.select(F.explode(F.arrays_zip(result_df.sentence.result, result_df.deid_entity_label.result)).alias(\"cols\")) \\\n",
    "                     .select(F.expr(\"cols['0']\").alias(\"sentence\"),\n",
    "                             F.expr(\"cols['1']\").alias(\"deid_entity_label\")).toPandas()\n",
    "\n",
    "pd_result"
   ]
  },
  {
   "cell_type": "markdown",
   "metadata": {
    "application/vnd.databricks.v1+cell": {
     "cellMetadata": {},
     "inputWidgets": {},
     "nuid": "dd440767-6fcd-426a-96a7-47134d49f9cf",
     "showTitle": false,
     "title": ""
    }
   },
   "source": [
    "When you check the 6th and 9th lines, you can see that the YEAR only entities are not deidentified."
   ]
  },
  {
   "cell_type": "markdown",
   "metadata": {
    "application/vnd.databricks.v1+cell": {
     "cellMetadata": {},
     "inputWidgets": {},
     "nuid": "5a4f7534-1194-4848-aa60-370e9a52a569",
     "showTitle": false,
     "title": ""
    },
    "id": "zwM9GsKnXPOg"
   },
   "source": [
    "# Structured Deidentification"
   ]
  },
  {
   "cell_type": "code",
   "execution_count": 0,
   "metadata": {
    "application/vnd.databricks.v1+cell": {
     "cellMetadata": {
      "byteLimit": 2048000,
      "rowLimit": 10000
     },
     "inputWidgets": {},
     "nuid": "ca639fef-490b-4a75-8223-8751b1da4140",
     "showTitle": false,
     "title": ""
    },
    "colab": {
     "base_uri": "https://localhost:8080/"
    },
    "id": "JLY-pfeYXQAY",
    "outputId": "babe0e83-8652-4ff3-d345-ceb7629de5da"
   },
   "outputs": [
    {
     "output_type": "display_data",
     "data": {
      "text/html": [
       "<style scoped>\n",
       "  .ansiout {\n",
       "    display: block;\n",
       "    unicode-bidi: embed;\n",
       "    white-space: pre-wrap;\n",
       "    word-wrap: break-word;\n",
       "    word-break: break-all;\n",
       "    font-family: \"Source Code Pro\", \"Menlo\", monospace;;\n",
       "    font-size: 13px;\n",
       "    color: #555;\n",
       "    margin-left: 4px;\n",
       "    line-height: 19px;\n",
       "  }\n",
       "</style>\n",
       "<div class=\"ansiout\">Out[75]: True</div>"
      ]
     },
     "metadata": {
      "application/vnd.databricks.v1+output": {
       "addedWidgets": {},
       "arguments": {},
       "data": "<div class=\"ansiout\">Out[75]: True</div>",
       "datasetInfos": [],
       "metadata": {},
       "removedWidgets": [],
       "type": "html"
      }
     },
     "output_type": "display_data"
    }
   ],
   "source": [
    "!wget -q https://raw.githubusercontent.com/JohnSnowLabs/spark-nlp-workshop/master/tutorials/Certification_Trainings/Healthcare/data/hipaa-table-001.txt\n",
    "  \n",
    "dbutils.fs.cp(\"file:/databricks/driver/hipaa-table-001.txt\", \"dbfs:/\")"
   ]
  },
  {
   "cell_type": "code",
   "execution_count": 0,
   "metadata": {
    "application/vnd.databricks.v1+cell": {
     "cellMetadata": {
      "byteLimit": 2048000,
      "rowLimit": 10000
     },
     "inputWidgets": {},
     "nuid": "df96ce93-aae0-4aee-94bd-c87f526c641a",
     "showTitle": false,
     "title": ""
    }
   },
   "outputs": [
    {
     "output_type": "display_data",
     "data": {
      "text/html": [
       "<style scoped>\n",
       "  .ansiout {\n",
       "    display: block;\n",
       "    unicode-bidi: embed;\n",
       "    white-space: pre-wrap;\n",
       "    word-wrap: break-word;\n",
       "    word-break: break-all;\n",
       "    font-family: \"Source Code Pro\", \"Menlo\", monospace;;\n",
       "    font-size: 13px;\n",
       "    color: #555;\n",
       "    margin-left: 4px;\n",
       "    line-height: 19px;\n",
       "  }\n",
       "</style>\n",
       "<div class=\"ansiout\">+---------------+----------+---+----------------------------------------------------+-------+--------------+---+---+\n",
       "NAME           |DOB       |AGE|ADDRESS                                             |ZIPCODE|TEL           |SBP|DBP|\n",
       "+---------------+----------+---+----------------------------------------------------+-------+--------------+---+---+\n",
       "Cecilia Chapman|04/02/1935|83 |711-2880 Nulla St. Mankato Mississippi              |69200  |(257) 563-7401|101|42 |\n",
       "Iris Watson    |03/10/2009|9  |P.O. Box 283 8562 Fusce Rd. Frederick Nebraska      |20620  |(372) 587-2335|159|122|\n",
       "Bryar Pitts    |11/01/1921|98 |5543 Aliquet St. Fort Dodge GA                      |20783  |(717) 450-4729|149|52 |\n",
       "Theodore Lowe  |13/02/2002|16 |Ap #867-859 Sit Rd. Azusa New York                  |39531  |(793) 151-6230|134|115|\n",
       "Calista Wise   |20/08/1942|76 |7292 Dictum Av. San Antonio MI                      |47096  |(492) 709-6392|139|78 |\n",
       "Kyla Olsen     |12/05/1973|45 |Ap #651-8679 Sodales Av. Tamuning PA                |10855  |(654) 393-5734|120|112|\n",
       "Forrest Ray    |11/01/1991|27 |191-103 Integer Rd. Corona New Mexico               |8219   |(404) 960-3807|143|126|\n",
       "Hiroko Potter  |18/11/1937|81 |P.O. Box 887 2508 Dolor. Av. Muskegon KY            |12482  |(314) 244-6306|147|75 |\n",
       "Celeste Slater |12/05/1980|38 |606-3727 Ullamcorper. Street Roseville NH           |11523  |(786) 713-8616|147|123|\n",
       "Nyssa Vazquez  |24/09/1956|62 |511-5762 At Rd. Chelsea MI                          |67708  |(947) 278-5929|129|50 |\n",
       "Lawrence Moreno|26/12/1906|112|935-9940 Tortor. Street Santa Rosa MN               |98804  |(684) 579-1879|133|102|\n",
       "Ina Moran      |26/10/1983|35 |P.O. Box 929 4189 Nunc Road Lebanon KY              |69409  |(389) 737-2852|101|67 |\n",
       "Aaron Hawkins  |26/09/2009|9  |5587 Nunc. Avenue Erie Rhode Island                 |24975  |(660) 663-4518|87 |81 |\n",
       "Hedy Greene    |03/10/1920|98 |Ap #696-3279 Viverra. Avenue Latrobe DE             |38100  |(608) 265-2215|128|123|\n",
       "Melvin Porter  |14/08/1911|107|P.O. Box 132 1599 Curabitur Rd. Bandera South Dakota|45149  |(959) 119-8364|83 |43 |\n",
       "Keefe Sellers  |16/05/1937|81 |347-7666 Iaculis St. Woodruff SC                    |49854  |(468) 353-2641|148|109|\n",
       "Joan Romero    |08/12/2004|14 |666-4366 Lacinia Avenue Idaho Falls Ohio            |19253  |(248) 675-4007|75 |53 |\n",
       "Davis Patrick  |09/01/1956|63 |P.O. Box 147 2546 Sociosqu Rd. Bethlehem Utah       |2913   |(939) 353-1107|142|62 |\n",
       "Leilani Boyer  |18/10/1934|84 |557-6308 Lacinia Road San Bernardino ND             |9289   |(570) 873-7090|137|48 |\n",
       "Colby Bernard  |02/10/1905|113|Ap #285-7193 Ullamcorper Avenue Amesbury HI         |93373  |(302) 259-2375|84 |41 |\n",
       "+---------------+----------+---+----------------------------------------------------+-------+--------------+---+---+\n",
       "only showing top 20 rows\n",
       "\n",
       "</div>"
      ]
     },
     "metadata": {
      "application/vnd.databricks.v1+output": {
       "addedWidgets": {},
       "arguments": {},
       "data": "<div class=\"ansiout\">+---------------+----------+---+----------------------------------------------------+-------+--------------+---+---+\n|NAME           |DOB       |AGE|ADDRESS                                             |ZIPCODE|TEL           |SBP|DBP|\n+---------------+----------+---+----------------------------------------------------+-------+--------------+---+---+\n|Cecilia Chapman|04/02/1935|83 |711-2880 Nulla St. Mankato Mississippi              |69200  |(257) 563-7401|101|42 |\n|Iris Watson    |03/10/2009|9  |P.O. Box 283 8562 Fusce Rd. Frederick Nebraska      |20620  |(372) 587-2335|159|122|\n|Bryar Pitts    |11/01/1921|98 |5543 Aliquet St. Fort Dodge GA                      |20783  |(717) 450-4729|149|52 |\n|Theodore Lowe  |13/02/2002|16 |Ap #867-859 Sit Rd. Azusa New York                  |39531  |(793) 151-6230|134|115|\n|Calista Wise   |20/08/1942|76 |7292 Dictum Av. San Antonio MI                      |47096  |(492) 709-6392|139|78 |\n|Kyla Olsen     |12/05/1973|45 |Ap #651-8679 Sodales Av. Tamuning PA                |10855  |(654) 393-5734|120|112|\n|Forrest Ray    |11/01/1991|27 |191-103 Integer Rd. Corona New Mexico               |8219   |(404) 960-3807|143|126|\n|Hiroko Potter  |18/11/1937|81 |P.O. Box 887 2508 Dolor. Av. Muskegon KY            |12482  |(314) 244-6306|147|75 |\n|Celeste Slater |12/05/1980|38 |606-3727 Ullamcorper. Street Roseville NH           |11523  |(786) 713-8616|147|123|\n|Nyssa Vazquez  |24/09/1956|62 |511-5762 At Rd. Chelsea MI                          |67708  |(947) 278-5929|129|50 |\n|Lawrence Moreno|26/12/1906|112|935-9940 Tortor. Street Santa Rosa MN               |98804  |(684) 579-1879|133|102|\n|Ina Moran      |26/10/1983|35 |P.O. Box 929 4189 Nunc Road Lebanon KY              |69409  |(389) 737-2852|101|67 |\n|Aaron Hawkins  |26/09/2009|9  |5587 Nunc. Avenue Erie Rhode Island                 |24975  |(660) 663-4518|87 |81 |\n|Hedy Greene    |03/10/1920|98 |Ap #696-3279 Viverra. Avenue Latrobe DE             |38100  |(608) 265-2215|128|123|\n|Melvin Porter  |14/08/1911|107|P.O. Box 132 1599 Curabitur Rd. Bandera South Dakota|45149  |(959) 119-8364|83 |43 |\n|Keefe Sellers  |16/05/1937|81 |347-7666 Iaculis St. Woodruff SC                    |49854  |(468) 353-2641|148|109|\n|Joan Romero    |08/12/2004|14 |666-4366 Lacinia Avenue Idaho Falls Ohio            |19253  |(248) 675-4007|75 |53 |\n|Davis Patrick  |09/01/1956|63 |P.O. Box 147 2546 Sociosqu Rd. Bethlehem Utah       |2913   |(939) 353-1107|142|62 |\n|Leilani Boyer  |18/10/1934|84 |557-6308 Lacinia Road San Bernardino ND             |9289   |(570) 873-7090|137|48 |\n|Colby Bernard  |02/10/1905|113|Ap #285-7193 Ullamcorper Avenue Amesbury HI         |93373  |(302) 259-2375|84 |41 |\n+---------------+----------+---+----------------------------------------------------+-------+--------------+---+---+\nonly showing top 20 rows\n\n</div>",
       "datasetInfos": [],
       "metadata": {},
       "removedWidgets": [],
       "type": "html"
      }
     },
     "output_type": "display_data"
    }
   ],
   "source": [
    "df = spark.read.format(\"csv\") \\\n",
    "    .option(\"sep\", \"\\t\") \\\n",
    "    .option(\"inferSchema\", \"true\") \\\n",
    "    .option(\"header\", \"true\") \\\n",
    "    .load(\"/hipaa-table-001.txt\")\n",
    "\n",
    "df = df.withColumnRenamed(\"PATIENT\",\"NAME\")\n",
    "df.show(truncate=False)"
   ]
  },
  {
   "cell_type": "code",
   "execution_count": 0,
   "metadata": {
    "application/vnd.databricks.v1+cell": {
     "cellMetadata": {
      "byteLimit": 2048000,
      "rowLimit": 10000
     },
     "inputWidgets": {},
     "nuid": "bc89a1b3-5023-4da5-bee1-efd657619c6a",
     "showTitle": false,
     "title": ""
    },
    "colab": {
     "base_uri": "https://localhost:8080/"
    },
    "id": "PQ84IQTGcFAd",
    "outputId": "5e1c1e1d-de91-437e-9c80-2beebe860b2d"
   },
   "outputs": [
    {
     "output_type": "display_data",
     "data": {
      "text/html": [
       "<style scoped>\n",
       "  .ansiout {\n",
       "    display: block;\n",
       "    unicode-bidi: embed;\n",
       "    white-space: pre-wrap;\n",
       "    word-wrap: break-word;\n",
       "    word-break: break-all;\n",
       "    font-family: \"Source Code Pro\", \"Menlo\", monospace;;\n",
       "    font-size: 13px;\n",
       "    color: #555;\n",
       "    margin-left: 4px;\n",
       "    line-height: 19px;\n",
       "  }\n",
       "</style>\n",
       "<div class=\"ansiout\">+--------------------+-----+\n",
       "NAME                |AGE  |\n",
       "+--------------------+-----+\n",
       "[Odessa Fleming]    |[94] |\n",
       "[Raynelle Fanning]  |[10] |\n",
       "[Jeanine Luz]       |[83] |\n",
       "[Erven Colla]       |[18] |\n",
       "[Maryln Manuel]     |[70] |\n",
       "[Marvia Pickles]    |[42] |\n",
       "[Aliene Altes]      |[37] |\n",
       "[Alinda Sierras]    |[93] |\n",
       "[Rockne Coons]      |[22] |\n",
       "[Marlowe Sax]       |[64] |\n",
       "[Arletha Grippe]    |[100]|\n",
       "[Lehman Prom]       |[29] |\n",
       "[Lerry Paterson]    |[10] |\n",
       "[Nedra Hai]         |[83] |\n",
       "[Yvonna Alanis]     |[116]|\n",
       "[Lorelle Gibbs]     |[93] |\n",
       "[Benita Gutter]     |[16] |\n",
       "[Celedonio Miyamoto]|[69] |\n",
       "[Bernita Raisin]    |[89] |\n",
       "[Berniece Salines]  |[118]|\n",
       "+--------------------+-----+\n",
       "only showing top 20 rows\n",
       "\n",
       "</div>"
      ]
     },
     "metadata": {
      "application/vnd.databricks.v1+output": {
       "addedWidgets": {},
       "arguments": {},
       "data": "<div class=\"ansiout\">+--------------------+-----+\n|NAME                |AGE  |\n+--------------------+-----+\n|[Odessa Fleming]    |[94] |\n|[Raynelle Fanning]  |[10] |\n|[Jeanine Luz]       |[83] |\n|[Erven Colla]       |[18] |\n|[Maryln Manuel]     |[70] |\n|[Marvia Pickles]    |[42] |\n|[Aliene Altes]      |[37] |\n|[Alinda Sierras]    |[93] |\n|[Rockne Coons]      |[22] |\n|[Marlowe Sax]       |[64] |\n|[Arletha Grippe]    |[100]|\n|[Lehman Prom]       |[29] |\n|[Lerry Paterson]    |[10] |\n|[Nedra Hai]         |[83] |\n|[Yvonna Alanis]     |[116]|\n|[Lorelle Gibbs]     |[93] |\n|[Benita Gutter]     |[16] |\n|[Celedonio Miyamoto]|[69] |\n|[Bernita Raisin]    |[89] |\n|[Berniece Salines]  |[118]|\n+--------------------+-----+\nonly showing top 20 rows\n\n</div>",
       "datasetInfos": [],
       "metadata": {},
       "removedWidgets": [],
       "type": "html"
      }
     },
     "output_type": "display_data"
    }
   ],
   "source": [
    "obfuscator = medical.StructuredDeidentification(spark,{\"NAME\":\"PATIENT\",\"AGE\":\"AGE\"}, obfuscateRefSource = \"faker\")\n",
    "obfuscator_df = obfuscator.obfuscateColumns(df)\n",
    "obfuscator_df.select(\"NAME\",\"AGE\").show(truncate=False)"
   ]
  },
  {
   "cell_type": "markdown",
   "metadata": {
    "application/vnd.databricks.v1+cell": {
     "cellMetadata": {},
     "inputWidgets": {},
     "nuid": "5700e7b3-f794-4907-a2a8-98a3653dc282",
     "showTitle": false,
     "title": ""
    }
   },
   "source": [
    "Setting obfuscateRefSource parameter as \"file\""
   ]
  },
  {
   "cell_type": "code",
   "execution_count": 0,
   "metadata": {
    "application/vnd.databricks.v1+cell": {
     "cellMetadata": {
      "byteLimit": 2048000,
      "rowLimit": 10000
     },
     "inputWidgets": {},
     "nuid": "3d45f32c-c168-4d75-b293-50d18774e39e",
     "showTitle": false,
     "title": ""
    },
    "id": "-GmMv8T-I0CX"
   },
   "outputs": [
    {
     "output_type": "display_data",
     "data": {
      "text/html": [
       "<style scoped>\n",
       "  .ansiout {\n",
       "    display: block;\n",
       "    unicode-bidi: embed;\n",
       "    white-space: pre-wrap;\n",
       "    word-wrap: break-word;\n",
       "    word-break: break-all;\n",
       "    font-family: \"Source Code Pro\", \"Menlo\", monospace;;\n",
       "    font-size: 13px;\n",
       "    color: #555;\n",
       "    margin-left: 4px;\n",
       "    line-height: 19px;\n",
       "  }\n",
       "</style>\n",
       "<div class=\"ansiout\"></div>"
      ]
     },
     "metadata": {
      "application/vnd.databricks.v1+output": {
       "addedWidgets": {},
       "arguments": {},
       "data": "<div class=\"ansiout\"></div>",
       "datasetInfos": [],
       "metadata": {},
       "removedWidgets": [],
       "type": "html"
      }
     },
     "output_type": "display_data"
    }
   ],
   "source": [
    "obfuscator_unique_ref_test = '''Will Perry#PATIENT\n",
    "John Smith#PATIENT\n",
    "Marvin MARSHALL#PATIENT\n",
    "Hubert GROGAN#PATIENT\n",
    "ALTHEA COLBURN#PATIENT\n",
    "Kalil AMIN#PATIENT\n",
    "Inci FOUNTAIN#PATIENT\n",
    "Jackson WILLE#PATIENT\n",
    "Jack SANTOS#PATIENT\n",
    "Mahmood ALBURN#PATIENT\n",
    "Marnie MELINGTON#PATIENT\n",
    "Aysha GHAZI#PATIENT\n",
    "Maryland CODER#PATIENT\n",
    "Darene GEORGIOUS#PATIENT\n",
    "Shelly WELLBECK#PATIENT\n",
    "Min Kun JAE#PATIENT\n",
    "Thomson THOMAS#PATIENT\n",
    "Christian SUDDINBURG#PATIENT\n",
    "Aberdeen#CITY\n",
    "Louisburg St#STREET\n",
    "France#LOC\n",
    "Nick Riviera#DOCTOR\n",
    "5552312#PHONE\n",
    "St James Hospital#HOSPITAL\n",
    "Calle del Libertador#ADDRESS\n",
    "111#ID\n",
    "Will#DOCTOR\n",
    "20#AGE\n",
    "30#AGE\n",
    "40#AGE\n",
    "50#AGE\n",
    "60#AGE\n",
    "'''\n",
    "\n",
    "with open('/dbfs/obfuscator_unique_ref_test.txt', 'w') as f:\n",
    "  f.write(obfuscator_unique_ref_test)"
   ]
  },
  {
   "cell_type": "code",
   "execution_count": 0,
   "metadata": {
    "application/vnd.databricks.v1+cell": {
     "cellMetadata": {
      "byteLimit": 2048000,
      "rowLimit": 10000
     },
     "inputWidgets": {},
     "nuid": "46e5adec-3ab0-441b-94b6-c1e94780fe10",
     "showTitle": false,
     "title": ""
    },
    "colab": {
     "base_uri": "https://localhost:8080/"
    },
    "id": "PTwdR034I70n",
    "outputId": "7388d3a5-fcb0-43ad-eb0f-a83fd81ce12e"
   },
   "outputs": [
    {
     "output_type": "display_data",
     "data": {
      "text/html": [
       "<style scoped>\n",
       "  .ansiout {\n",
       "    display: block;\n",
       "    unicode-bidi: embed;\n",
       "    white-space: pre-wrap;\n",
       "    word-wrap: break-word;\n",
       "    word-break: break-all;\n",
       "    font-family: \"Source Code Pro\", \"Menlo\", monospace;;\n",
       "    font-size: 13px;\n",
       "    color: #555;\n",
       "    margin-left: 4px;\n",
       "    line-height: 19px;\n",
       "  }\n",
       "</style>\n",
       "<div class=\"ansiout\">+------------------+----+\n",
       "NAME              |AGE |\n",
       "+------------------+----+\n",
       "[Inci FOUNTAIN]   |[60]|\n",
       "[Jack SANTOS]     |[30]|\n",
       "[Darene GEORGIOUS]|[30]|\n",
       "[Shelly WELLBECK] |[40]|\n",
       "[Hubert GROGAN]   |[40]|\n",
       "[Kalil AMIN]      |[40]|\n",
       "[ALTHEA COLBURN]  |[60]|\n",
       "[Thomson THOMAS]  |[60]|\n",
       "[Jack SANTOS]     |[60]|\n",
       "[Will Perry]      |[20]|\n",
       "[Jackson WILLE]   |[60]|\n",
       "[Shelly WELLBECK] |[40]|\n",
       "[Kalil AMIN]      |[30]|\n",
       "[Marnie MELINGTON]|[30]|\n",
       "[Min Kun JAE]     |[30]|\n",
       "[Marvin MARSHALL] |[60]|\n",
       "[Marvin MARSHALL] |[50]|\n",
       "[Min Kun JAE]     |[30]|\n",
       "[Maryland CODER]  |[20]|\n",
       "[Marnie MELINGTON]|[20]|\n",
       "+------------------+----+\n",
       "only showing top 20 rows\n",
       "\n",
       "</div>"
      ]
     },
     "metadata": {
      "application/vnd.databricks.v1+output": {
       "addedWidgets": {},
       "arguments": {},
       "data": "<div class=\"ansiout\">+------------------+----+\n|NAME              |AGE |\n+------------------+----+\n|[Inci FOUNTAIN]   |[60]|\n|[Jack SANTOS]     |[30]|\n|[Darene GEORGIOUS]|[30]|\n|[Shelly WELLBECK] |[40]|\n|[Hubert GROGAN]   |[40]|\n|[Kalil AMIN]      |[40]|\n|[ALTHEA COLBURN]  |[60]|\n|[Thomson THOMAS]  |[60]|\n|[Jack SANTOS]     |[60]|\n|[Will Perry]      |[20]|\n|[Jackson WILLE]   |[60]|\n|[Shelly WELLBECK] |[40]|\n|[Kalil AMIN]      |[30]|\n|[Marnie MELINGTON]|[30]|\n|[Min Kun JAE]     |[30]|\n|[Marvin MARSHALL] |[60]|\n|[Marvin MARSHALL] |[50]|\n|[Min Kun JAE]     |[30]|\n|[Maryland CODER]  |[20]|\n|[Marnie MELINGTON]|[20]|\n+------------------+----+\nonly showing top 20 rows\n\n</div>",
       "datasetInfos": [],
       "metadata": {},
       "removedWidgets": [],
       "type": "html"
      }
     },
     "output_type": "display_data"
    }
   ],
   "source": [
    "# obfuscateRefSource = \"file\"\n",
    "\n",
    "obfuscator = medical.StructuredDeidentification(spark,{\"NAME\":\"PATIENT\",\"AGE\":\"AGE\"}, \n",
    "                                        obfuscateRefFile=\"/dbfs/obfuscator_unique_ref_test.txt\", \n",
    "                                        obfuscateRefSource = \"file\",\n",
    "                                        columnsSeed={\"NAME\": 23, \"AGE\": 23})\n",
    "\n",
    "obfuscator_df = obfuscator.obfuscateColumns(df)\n",
    "obfuscator_df.select(\"NAME\",\"AGE\").show(truncate=False)"
   ]
  },
  {
   "cell_type": "markdown",
   "metadata": {
    "application/vnd.databricks.v1+cell": {
     "cellMetadata": {},
     "inputWidgets": {},
     "nuid": "a8696441-3676-476c-9048-f8672c210fd9",
     "showTitle": false,
     "title": ""
    },
    "id": "w8tW5fFafQmL"
   },
   "source": [
    "We can shift n days in the structured deidentification through \"days\" parameter when the column is a Date."
   ]
  },
  {
   "cell_type": "code",
   "execution_count": 0,
   "metadata": {
    "application/vnd.databricks.v1+cell": {
     "cellMetadata": {
      "byteLimit": 2048000,
      "rowLimit": 10000
     },
     "inputWidgets": {},
     "nuid": "5a6f3cf4-2bda-4a3b-a149-cf73d10d681f",
     "showTitle": false,
     "title": ""
    },
    "colab": {
     "base_uri": "https://localhost:8080/"
    },
    "id": "iBzoNufMfYCn",
    "outputId": "b73d664d-d38e-4bf1-f700-e5f9098a6d95"
   },
   "outputs": [
    {
     "output_type": "display_data",
     "data": {
      "text/html": [
       "<style scoped>\n",
       "  .ansiout {\n",
       "    display: block;\n",
       "    unicode-bidi: embed;\n",
       "    white-space: pre-wrap;\n",
       "    word-wrap: break-word;\n",
       "    word-break: break-all;\n",
       "    font-family: \"Source Code Pro\", \"Menlo\", monospace;;\n",
       "    font-size: 13px;\n",
       "    color: #555;\n",
       "    margin-left: 4px;\n",
       "    line-height: 19px;\n",
       "  }\n",
       "</style>\n",
       "<div class=\"ansiout\">+-------------+----------+-----------------------+---+----------------+\n",
       "NAME         |DOB       |ADDRESS                |SBP|TEL             |\n",
       "+-------------+----------+-----------------------+---+----------------+\n",
       "Juan García  |13/02/1977|711 Nulla St.          |140|673 431234      |\n",
       "Will Smith   |23/02/1977|1 Green Avenue.        |140|+23 (673) 431234|\n",
       "Pedro Ximénez|11/04/1900|Calle del Libertador, 7|100|912 345623      |\n",
       "+-------------+----------+-----------------------+---+----------------+\n",
       "\n",
       "</div>"
      ]
     },
     "metadata": {
      "application/vnd.databricks.v1+output": {
       "addedWidgets": {},
       "arguments": {},
       "data": "<div class=\"ansiout\">+-------------+----------+-----------------------+---+----------------+\n|NAME         |DOB       |ADDRESS                |SBP|TEL             |\n+-------------+----------+-----------------------+---+----------------+\n|Juan García  |13/02/1977|711 Nulla St.          |140|673 431234      |\n|Will Smith   |23/02/1977|1 Green Avenue.        |140|+23 (673) 431234|\n|Pedro Ximénez|11/04/1900|Calle del Libertador, 7|100|912 345623      |\n+-------------+----------+-----------------------+---+----------------+\n\n</div>",
       "datasetInfos": [],
       "metadata": {},
       "removedWidgets": [],
       "type": "html"
      }
     },
     "output_type": "display_data"
    }
   ],
   "source": [
    "df = spark.createDataFrame([\n",
    "            [\"Juan García\", \"13/02/1977\", \"711 Nulla St.\", \"140\", \"673 431234\"],\n",
    "            [\"Will Smith\", \"23/02/1977\", \"1 Green Avenue.\", \"140\", \"+23 (673) 431234\"],\n",
    "            [\"Pedro Ximénez\", \"11/04/1900\", \"Calle del Libertador, 7\", \"100\", \"912 345623\"]\n",
    "        ]).toDF(\"NAME\", \"DOB\", \"ADDRESS\", \"SBP\", \"TEL\")\n",
    "df.show(truncate=False)"
   ]
  },
  {
   "cell_type": "code",
   "execution_count": 0,
   "metadata": {
    "application/vnd.databricks.v1+cell": {
     "cellMetadata": {
      "byteLimit": 2048000,
      "rowLimit": 10000
     },
     "inputWidgets": {},
     "nuid": "5ee19478-643c-4e20-b28e-48acd005cfb5",
     "showTitle": false,
     "title": ""
    },
    "id": "Fez0Rqq_fX3C"
   },
   "outputs": [
    {
     "output_type": "display_data",
     "data": {
      "text/html": [
       "<style scoped>\n",
       "  .ansiout {\n",
       "    display: block;\n",
       "    unicode-bidi: embed;\n",
       "    white-space: pre-wrap;\n",
       "    word-wrap: break-word;\n",
       "    word-break: break-all;\n",
       "    font-family: \"Source Code Pro\", \"Menlo\", monospace;;\n",
       "    font-size: 13px;\n",
       "    color: #555;\n",
       "    margin-left: 4px;\n",
       "    line-height: 19px;\n",
       "  }\n",
       "</style>\n",
       "<div class=\"ansiout\"></div>"
      ]
     },
     "metadata": {
      "application/vnd.databricks.v1+output": {
       "addedWidgets": {},
       "arguments": {},
       "data": "<div class=\"ansiout\"></div>",
       "datasetInfos": [],
       "metadata": {},
       "removedWidgets": [],
       "type": "html"
      }
     },
     "output_type": "display_data"
    }
   ],
   "source": [
    "obfuscator = medical.StructuredDeidentification(spark=spark, columns={\"NAME\": \"ID\", \"DOB\": \"DATE\"},\n",
    "                                                     columnsSeed={\"NAME\": 23, \"DOB\": 23},\n",
    "                                                     obfuscateRefSource=\"faker\",\n",
    "                                                     days=5\n",
    "                                         )"
   ]
  },
  {
   "cell_type": "code",
   "execution_count": 0,
   "metadata": {
    "application/vnd.databricks.v1+cell": {
     "cellMetadata": {
      "byteLimit": 2048000,
      "rowLimit": 10000
     },
     "inputWidgets": {},
     "nuid": "94476b03-841d-4f6d-85f8-e4d9cc5150f8",
     "showTitle": false,
     "title": ""
    },
    "colab": {
     "base_uri": "https://localhost:8080/"
    },
    "id": "HgNuMKhngFq2",
    "outputId": "133e942e-dbc1-43f1-b840-830659171d1f"
   },
   "outputs": [
    {
     "output_type": "display_data",
     "data": {
      "text/html": [
       "<style scoped>\n",
       "  .ansiout {\n",
       "    display: block;\n",
       "    unicode-bidi: embed;\n",
       "    white-space: pre-wrap;\n",
       "    word-wrap: break-word;\n",
       "    word-break: break-all;\n",
       "    font-family: \"Source Code Pro\", \"Menlo\", monospace;;\n",
       "    font-size: 13px;\n",
       "    color: #555;\n",
       "    margin-left: 4px;\n",
       "    line-height: 19px;\n",
       "  }\n",
       "</style>\n",
       "<div class=\"ansiout\">+---------------+------------+-----------------------+---+----------------+\n",
       "NAME           |DOB         |ADDRESS                |SBP|TEL             |\n",
       "+---------------+------------+-----------------------+---+----------------+\n",
       "[KONJ PGNBID]  |[18/02/1977]|711 Nulla St.          |140|673 431234      |\n",
       "[FESV PYKNL]   |[28/02/1977]|1 Green Avenue.        |140|+23 (673) 431234|\n",
       "[IBKKO IXJVMQC]|[16/04/1900]|Calle del Libertador, 7|100|912 345623      |\n",
       "+---------------+------------+-----------------------+---+----------------+\n",
       "\n",
       "</div>"
      ]
     },
     "metadata": {
      "application/vnd.databricks.v1+output": {
       "addedWidgets": {},
       "arguments": {},
       "data": "<div class=\"ansiout\">+---------------+------------+-----------------------+---+----------------+\n|NAME           |DOB         |ADDRESS                |SBP|TEL             |\n+---------------+------------+-----------------------+---+----------------+\n|[KONJ PGNBID]  |[18/02/1977]|711 Nulla St.          |140|673 431234      |\n|[FESV PYKNL]   |[28/02/1977]|1 Green Avenue.        |140|+23 (673) 431234|\n|[IBKKO IXJVMQC]|[16/04/1900]|Calle del Libertador, 7|100|912 345623      |\n+---------------+------------+-----------------------+---+----------------+\n\n</div>",
       "datasetInfos": [],
       "metadata": {},
       "removedWidgets": [],
       "type": "html"
      }
     },
     "output_type": "display_data"
    }
   ],
   "source": [
    "result = obfuscator.obfuscateColumns(df)\n",
    "result.show(truncate=False)"
   ]
  },
  {
   "cell_type": "markdown",
   "metadata": {
    "application/vnd.databricks.v1+cell": {
     "cellMetadata": {},
     "inputWidgets": {},
     "nuid": "20c77260-f674-42e6-949a-516941935a9d",
     "showTitle": false,
     "title": ""
    }
   },
   "source": [
    "# Pretrained Deidentification Pipeline"
   ]
  },
  {
   "cell_type": "markdown",
   "metadata": {
    "application/vnd.databricks.v1+cell": {
     "cellMetadata": {},
     "inputWidgets": {},
     "nuid": "ca224812-4517-4ab9-9c11-de61df23b110",
     "showTitle": false,
     "title": ""
    }
   },
   "source": [
    "`clinical_deidentification` pipeline can be used to deidentify PHI information from medical texts. The PHI information will be masked and obfuscated in the resulting text. The pipeline can mask and obfuscate `AGE`, `CONTACT`, `DATE`, `ID`, `LOCATION`, `NAME`, `PROFESSION`, `CITY`, `COUNTRY`, `DOCTOR`, `HOSPITAL`, `IDNUM`, `MEDICALRECORD`, `ORGANIZATION`, `PATIENT`, `PHONE`, `PROFESSION`, `STREET`, `USERNAME`, `ZIP`, `ACCOUNT`, `LICENSE`, `VIN`, `SSN`, `DLN`, `PLATE`, `IPADDR` entities. There is also a slim version of deidentificaiton pipeline, `clinical_deidentification_slim`"
   ]
  },
  {
   "cell_type": "code",
   "execution_count": 0,
   "metadata": {
    "application/vnd.databricks.v1+cell": {
     "cellMetadata": {
      "byteLimit": 2048000,
      "rowLimit": 10000
     },
     "inputWidgets": {},
     "nuid": "25954e0d-27a2-48b4-bf90-0bfad094d876",
     "showTitle": false,
     "title": ""
    }
   },
   "outputs": [
    {
     "output_type": "display_data",
     "data": {
      "text/html": [
       "<style scoped>\n",
       "  .ansiout {\n",
       "    display: block;\n",
       "    unicode-bidi: embed;\n",
       "    white-space: pre-wrap;\n",
       "    word-wrap: break-word;\n",
       "    word-break: break-all;\n",
       "    font-family: \"Source Code Pro\", \"Menlo\", monospace;;\n",
       "    font-size: 13px;\n",
       "    color: #555;\n",
       "    margin-left: 4px;\n",
       "    line-height: 19px;\n",
       "  }\n",
       "</style>\n",
       "<div class=\"ansiout\">clinical_deidentification download started this may take some time.\n",
       "Approx size to download 1.6 GB\n",
       "\r[ | ]\r[ / ]\r[ — ]\r[ \\ ]\r[ | ]\r[ / ]\r[ — ]\r[ \\ ]\r[ | ]\r[ / ]\r[ — ]\r[ \\ ]\r[ | ]\r[ / ]\r[ — ]\r[ \\ ]\r[ | ]\r[ / ]\r[ — ]\r[ \\ ]\r[ | ]\r[ / ]\r[ — ]\r[ \\ ]\r[ | ]\r[ / ]\r[ — ]\r[ \\ ]\r[ | ]\r[ / ]\r[ — ]\r[ \\ ]\r[ | ]\r[ / ]\r[ — ]\r[ \\ ]\r[ | ]\r[ / ]\r[ — ]\r[ \\ ]\r[ | ]\r[ / ]\r[ — ]\r[ \\ ]\r[ | ]\r[ / ]\r[ — ]\r[ \\ ]\r[ | ]\r[ / ]\r[ — ]\r[ \\ ]\r[ | ]\r[ / ]\r[ — ]\r[ \\ ]\r[ | ]\r[ / ]\r[ — ]\r[ \\ ]\r[ | ]\r[ / ]\r[ — ]\r[ \\ ]\r[ | ]\r[ / ]\r[ — ]\r[ \\ ]\r[ | ]\r[ / ]\r[ — ]\r[ \\ ]\r[ | ]\r[ / ]\r[ — ]\r[ \\ ]\r[ | ]\r[ / ]\r[ — ]\r[ \\ ]\r[ | ]\r[ / ]\r[ — ]\r[ \\ ]\r[ | ]\r[ / ]\r[ — ]\r[ \\ ]\r[ | ]\r[ / ]\r[ — ]\r[ \\ ]\r[ | ]\r[ / ]\r[ — ]\r[ \\ ]\r[ | ]\r[OK!]\n",
       "</div>"
      ]
     },
     "metadata": {
      "application/vnd.databricks.v1+output": {
       "addedWidgets": {},
       "arguments": {},
       "data": "<div class=\"ansiout\">clinical_deidentification download started this may take some time.\nApprox size to download 1.6 GB\n\r[ | ]\r[ / ]\r[ — ]\r[ \\ ]\r[ | ]\r[ / ]\r[ — ]\r[ \\ ]\r[ | ]\r[ / ]\r[ — ]\r[ \\ ]\r[ | ]\r[ / ]\r[ — ]\r[ \\ ]\r[ | ]\r[ / ]\r[ — ]\r[ \\ ]\r[ | ]\r[ / ]\r[ — ]\r[ \\ ]\r[ | ]\r[ / ]\r[ — ]\r[ \\ ]\r[ | ]\r[ / ]\r[ — ]\r[ \\ ]\r[ | ]\r[ / ]\r[ — ]\r[ \\ ]\r[ | ]\r[ / ]\r[ — ]\r[ \\ ]\r[ | ]\r[ / ]\r[ — ]\r[ \\ ]\r[ | ]\r[ / ]\r[ — ]\r[ \\ ]\r[ | ]\r[ / ]\r[ — ]\r[ \\ ]\r[ | ]\r[ / ]\r[ — ]\r[ \\ ]\r[ | ]\r[ / ]\r[ — ]\r[ \\ ]\r[ | ]\r[ / ]\r[ — ]\r[ \\ ]\r[ | ]\r[ / ]\r[ — ]\r[ \\ ]\r[ | ]\r[ / ]\r[ — ]\r[ \\ ]\r[ | ]\r[ / ]\r[ — ]\r[ \\ ]\r[ | ]\r[ / ]\r[ — ]\r[ \\ ]\r[ | ]\r[ / ]\r[ — ]\r[ \\ ]\r[ | ]\r[ / ]\r[ — ]\r[ \\ ]\r[ | ]\r[ / ]\r[ — ]\r[ \\ ]\r[ | ]\r[ / ]\r[ — ]\r[ \\ ]\r[ | ]\r[OK!]\n</div>",
       "datasetInfos": [],
       "metadata": {},
       "removedWidgets": [],
       "type": "html"
      }
     },
     "output_type": "display_data"
    }
   ],
   "source": [
    "deid_pipeline = nlp.PretrainedPipeline(\"clinical_deidentification\", \"en\", \"clinical/models\")"
   ]
  },
  {
   "cell_type": "code",
   "execution_count": 0,
   "metadata": {
    "application/vnd.databricks.v1+cell": {
     "cellMetadata": {
      "byteLimit": 2048000,
      "rowLimit": 10000
     },
     "inputWidgets": {},
     "nuid": "292d4c07-5566-46d9-aa7a-975874f52c24",
     "showTitle": false,
     "title": ""
    }
   },
   "outputs": [
    {
     "output_type": "display_data",
     "data": {
      "text/html": [
       "<style scoped>\n",
       "  .ansiout {\n",
       "    display: block;\n",
       "    unicode-bidi: embed;\n",
       "    white-space: pre-wrap;\n",
       "    word-wrap: break-word;\n",
       "    word-break: break-all;\n",
       "    font-family: \"Source Code Pro\", \"Menlo\", monospace;;\n",
       "    font-size: 13px;\n",
       "    color: #555;\n",
       "    margin-left: 4px;\n",
       "    line-height: 19px;\n",
       "  }\n",
       "</style>\n",
       "<div class=\"ansiout\">Out[84]: [DocumentAssembler_8a57d822a7ce,\n",
       " SentenceDetectorDLModel_6bafc4746ea5,\n",
       " REGEX_TOKENIZER_abecab99e327,\n",
       " WORD_EMBEDDINGS_MODEL_9004b1d00302,\n",
       " MedicalNerModel_e8178a1262cc,\n",
       " NerConverter_4a729464bde5,\n",
       " MedicalNerModel_cb1ebd97c79c,\n",
       " NerConverter_fac59c55ab65,\n",
       " MERGE_d096b210dfcb,\n",
       " CONTEXTUAL-PARSER_3b72e11a3d0e,\n",
       " CONTEXTUAL-PARSER_da05c820c3e1,\n",
       " CONTEXTUAL-PARSER_21057aa997c9,\n",
       " CONTEXTUAL-PARSER_b30c682f3e88,\n",
       " CONTEXTUAL-PARSER_2e6558d597f5,\n",
       " CONTEXTUAL-PARSER_5ea2fa3cd839,\n",
       " ENTITY_EXTRACTOR_962b919bc1d5,\n",
       " CONTEXTUAL-PARSER_ceb994b5a1ec,\n",
       " REGEX_MATCHER_532487d749a2,\n",
       " CONTEXTUAL-PARSER_97ed8b42abbd,\n",
       " CONTEXTUAL-PARSER_ae9a6fa57b01,\n",
       " CONTEXTUAL-PARSER_7d04739023ad,\n",
       " CONTEXTUAL-PARSER_d9a318ea47aa,\n",
       " CONTEXTUAL-PARSER_b02af9559ee8,\n",
       " CONTEXTUAL-PARSER_d3511fb176c9,\n",
       " MERGE_1364755ae450,\n",
       " MERGE_b7ed7a44f0fc,\n",
       " DE-IDENTIFICATION_d30f0f188371,\n",
       " DE-IDENTIFICATION_aa8788f98145,\n",
       " DE-IDENTIFICATION_bcab2e588dd7,\n",
       " DE-IDENTIFICATION_9259fb14bcc5,\n",
       " Finisher_4bdc3ed6a7ca]</div>"
      ]
     },
     "metadata": {
      "application/vnd.databricks.v1+output": {
       "addedWidgets": {},
       "arguments": {},
       "data": "<div class=\"ansiout\">Out[84]: [DocumentAssembler_8a57d822a7ce,\n SentenceDetectorDLModel_6bafc4746ea5,\n REGEX_TOKENIZER_abecab99e327,\n WORD_EMBEDDINGS_MODEL_9004b1d00302,\n MedicalNerModel_e8178a1262cc,\n NerConverter_4a729464bde5,\n MedicalNerModel_cb1ebd97c79c,\n NerConverter_fac59c55ab65,\n MERGE_d096b210dfcb,\n CONTEXTUAL-PARSER_3b72e11a3d0e,\n CONTEXTUAL-PARSER_da05c820c3e1,\n CONTEXTUAL-PARSER_21057aa997c9,\n CONTEXTUAL-PARSER_b30c682f3e88,\n CONTEXTUAL-PARSER_2e6558d597f5,\n CONTEXTUAL-PARSER_5ea2fa3cd839,\n ENTITY_EXTRACTOR_962b919bc1d5,\n CONTEXTUAL-PARSER_ceb994b5a1ec,\n REGEX_MATCHER_532487d749a2,\n CONTEXTUAL-PARSER_97ed8b42abbd,\n CONTEXTUAL-PARSER_ae9a6fa57b01,\n CONTEXTUAL-PARSER_7d04739023ad,\n CONTEXTUAL-PARSER_d9a318ea47aa,\n CONTEXTUAL-PARSER_b02af9559ee8,\n CONTEXTUAL-PARSER_d3511fb176c9,\n MERGE_1364755ae450,\n MERGE_b7ed7a44f0fc,\n DE-IDENTIFICATION_d30f0f188371,\n DE-IDENTIFICATION_aa8788f98145,\n DE-IDENTIFICATION_bcab2e588dd7,\n DE-IDENTIFICATION_9259fb14bcc5,\n Finisher_4bdc3ed6a7ca]</div>",
       "datasetInfos": [],
       "metadata": {},
       "removedWidgets": [],
       "type": "html"
      }
     },
     "output_type": "display_data"
    }
   ],
   "source": [
    "deid_pipeline.model.stages"
   ]
  },
  {
   "cell_type": "code",
   "execution_count": 0,
   "metadata": {
    "application/vnd.databricks.v1+cell": {
     "cellMetadata": {
      "byteLimit": 2048000,
      "rowLimit": 10000
     },
     "inputWidgets": {},
     "nuid": "d2fd0333-b91d-4398-87aa-14c016a9c5c9",
     "showTitle": false,
     "title": ""
    }
   },
   "outputs": [
    {
     "output_type": "display_data",
     "data": {
      "text/html": [
       "<style scoped>\n",
       "  .ansiout {\n",
       "    display: block;\n",
       "    unicode-bidi: embed;\n",
       "    white-space: pre-wrap;\n",
       "    word-wrap: break-word;\n",
       "    word-break: break-all;\n",
       "    font-family: \"Source Code Pro\", \"Menlo\", monospace;;\n",
       "    font-size: 13px;\n",
       "    color: #555;\n",
       "    margin-left: 4px;\n",
       "    line-height: 19px;\n",
       "  }\n",
       "</style>\n",
       "<div class=\"ansiout\"></div>"
      ]
     },
     "metadata": {
      "application/vnd.databricks.v1+output": {
       "addedWidgets": {},
       "arguments": {},
       "data": "<div class=\"ansiout\"></div>",
       "datasetInfos": [],
       "metadata": {},
       "removedWidgets": [],
       "type": "html"
      }
     },
     "output_type": "display_data"
    }
   ],
   "source": [
    "text= \"\"\"Name : Hendrickson, Ora, Record date: 2093-01-13, Age: 25, # 719435. Dr. John Green, ID: 1231511863, IP 203.120.223.13. He is a 60-year-old male was admitted to the Day Hospital for cystectomy on 01/13/93. Patient's VIN : 1HGBH41JXMN109286, SSN #333-44-6666, Driver's license no:A334455B. Phone (302) 786-5227, 0295 Keats Street, San Francisco.\"\"\""
   ]
  },
  {
   "cell_type": "code",
   "execution_count": 0,
   "metadata": {
    "application/vnd.databricks.v1+cell": {
     "cellMetadata": {
      "byteLimit": 2048000,
      "rowLimit": 10000
     },
     "inputWidgets": {},
     "nuid": "65af99a0-faf2-4868-8e72-7b71700bacea",
     "showTitle": false,
     "title": ""
    }
   },
   "outputs": [
    {
     "output_type": "display_data",
     "data": {
      "text/html": [
       "<style scoped>\n",
       "  .ansiout {\n",
       "    display: block;\n",
       "    unicode-bidi: embed;\n",
       "    white-space: pre-wrap;\n",
       "    word-wrap: break-word;\n",
       "    word-break: break-all;\n",
       "    font-family: \"Source Code Pro\", \"Menlo\", monospace;;\n",
       "    font-size: 13px;\n",
       "    color: #555;\n",
       "    margin-left: 4px;\n",
       "    line-height: 19px;\n",
       "  }\n",
       "</style>\n",
       "<div class=\"ansiout\"></div>"
      ]
     },
     "metadata": {
      "application/vnd.databricks.v1+output": {
       "addedWidgets": {},
       "arguments": {},
       "data": "<div class=\"ansiout\"></div>",
       "datasetInfos": [],
       "metadata": {},
       "removedWidgets": [],
       "type": "html"
      }
     },
     "output_type": "display_data"
    }
   ],
   "source": [
    "deid_res = deid_pipeline.annotate(text)"
   ]
  },
  {
   "cell_type": "code",
   "execution_count": 0,
   "metadata": {
    "application/vnd.databricks.v1+cell": {
     "cellMetadata": {
      "byteLimit": 2048000,
      "rowLimit": 10000
     },
     "inputWidgets": {},
     "nuid": "27de18a6-ef7c-4b98-9e73-3ad37429dc34",
     "showTitle": false,
     "title": ""
    }
   },
   "outputs": [
    {
     "output_type": "display_data",
     "data": {
      "text/html": [
       "<style scoped>\n",
       "  .ansiout {\n",
       "    display: block;\n",
       "    unicode-bidi: embed;\n",
       "    white-space: pre-wrap;\n",
       "    word-wrap: break-word;\n",
       "    word-break: break-all;\n",
       "    font-family: \"Source Code Pro\", \"Menlo\", monospace;;\n",
       "    font-size: 13px;\n",
       "    color: #555;\n",
       "    margin-left: 4px;\n",
       "    line-height: 19px;\n",
       "  }\n",
       "</style>\n",
       "<div class=\"ansiout\">Out[87]: dict_keys([&#39;masked&#39;, &#39;obfuscated&#39;, &#39;ner_chunk&#39;, &#39;masked_fixed_length_chars&#39;, &#39;sentence&#39;, &#39;masked_with_chars&#39;])</div>"
      ]
     },
     "metadata": {
      "application/vnd.databricks.v1+output": {
       "addedWidgets": {},
       "arguments": {},
       "data": "<div class=\"ansiout\">Out[87]: dict_keys([&#39;masked&#39;, &#39;obfuscated&#39;, &#39;ner_chunk&#39;, &#39;masked_fixed_length_chars&#39;, &#39;sentence&#39;, &#39;masked_with_chars&#39;])</div>",
       "datasetInfos": [],
       "metadata": {},
       "removedWidgets": [],
       "type": "html"
      }
     },
     "output_type": "display_data"
    }
   ],
   "source": [
    "deid_res.keys()"
   ]
  },
  {
   "cell_type": "code",
   "execution_count": 0,
   "metadata": {
    "application/vnd.databricks.v1+cell": {
     "cellMetadata": {
      "byteLimit": 2048000,
      "rowLimit": 10000
     },
     "inputWidgets": {},
     "nuid": "5bdd48bb-6d92-4f06-848a-7d7fba673c50",
     "showTitle": false,
     "title": ""
    }
   },
   "outputs": [
    {
     "output_type": "display_data",
     "data": {
      "text/html": [
       "<style scoped>\n",
       "  .ansiout {\n",
       "    display: block;\n",
       "    unicode-bidi: embed;\n",
       "    white-space: pre-wrap;\n",
       "    word-wrap: break-word;\n",
       "    word-break: break-all;\n",
       "    font-family: \"Source Code Pro\", \"Menlo\", monospace;;\n",
       "    font-size: 13px;\n",
       "    color: #555;\n",
       "    margin-left: 4px;\n",
       "    line-height: 19px;\n",
       "  }\n",
       "</style>\n",
       "<div class=\"ansiout\">Out[88]: </div>"
      ]
     },
     "metadata": {
      "application/vnd.databricks.v1+output": {
       "addedWidgets": {},
       "arguments": {},
       "data": "<div class=\"ansiout\">Out[88]: </div>",
       "datasetInfos": [],
       "metadata": {},
       "removedWidgets": [],
       "type": "html"
      }
     },
     "output_type": "display_data"
    },
    {
     "output_type": "display_data",
     "data": {
      "text/html": [
       "<div>\n",
       "<style scoped>\n",
       "    .dataframe tbody tr th:only-of-type {\n",
       "        vertical-align: middle;\n",
       "    }\n",
       "\n",
       "    .dataframe tbody tr th {\n",
       "        vertical-align: top;\n",
       "    }\n",
       "\n",
       "    .dataframe thead th {\n",
       "        text-align: right;\n",
       "    }\n",
       "</style>\n",
       "<table border=\"1\" class=\"dataframe\">\n",
       "  <thead>\n",
       "    <tr style=\"text-align: right;\">\n",
       "      <th></th>\n",
       "      <th>Sentence</th>\n",
       "      <th>Masked</th>\n",
       "      <th>Masked with Chars</th>\n",
       "      <th>Masked with Fixed Chars</th>\n",
       "      <th>Obfuscated</th>\n",
       "    </tr>\n",
       "  </thead>\n",
       "  <tbody>\n",
       "    <tr>\n",
       "      <th>0</th>\n",
       "      <td>Name : Hendrickson, Ora, Record date: 2093-01-13, Age: 25, # 719435.</td>\n",
       "      <td>Name : &lt;PATIENT&gt;, Record date: &lt;DATE&gt;, Age: &lt;AGE&gt;, # &lt;ZIP&gt;.</td>\n",
       "      <td>Name : [**************], Record date: [********], Age: **, # [****].</td>\n",
       "      <td>Name : ****, Record date: ****, Age: ****, # ****.</td>\n",
       "      <td>Name : Carlyon Shadow, Record date: 2093-01-26, Age: 34, # 206495.</td>\n",
       "    </tr>\n",
       "    <tr>\n",
       "      <th>1</th>\n",
       "      <td>Dr. John Green, ID: 1231511863, IP 203.120.223.13.</td>\n",
       "      <td>Dr. &lt;DOCTOR&gt;, ID&lt;IDNUM&gt;, IP &lt;IPADDR&gt;.</td>\n",
       "      <td>Dr. [********], ID[**********], IP [************].</td>\n",
       "      <td>Dr. ****, ID****, IP ****.</td>\n",
       "      <td>Dr. Annamarie Dawley, ID: 1717315115, IP 333.333.333.333.</td>\n",
       "    </tr>\n",
       "    <tr>\n",
       "      <th>2</th>\n",
       "      <td>He is a 60-year-old male was admitted to the Day Hospital for cystectomy on 01/13/93.</td>\n",
       "      <td>He is a &lt;AGE&gt;-year-old male was admitted to the &lt;LOCATION&gt; for cystectomy on &lt;DATE&gt;.</td>\n",
       "      <td>He is a **-year-old male was admitted to the [**********] for cystectomy on [******].</td>\n",
       "      <td>He is a ****-year-old male was admitted to the **** for cystectomy on ****.</td>\n",
       "      <td>He is a 64-year-old male was admitted to the 6200 Sw 73Rd St for cystectomy on 01/26/93.</td>\n",
       "    </tr>\n",
       "    <tr>\n",
       "      <th>3</th>\n",
       "      <td>Patient's VIN : 1HGBH41JXMN109286, SSN #333-44-6666, Driver's license no:A334455B.</td>\n",
       "      <td>Patient's VIN : &lt;VIN&gt;, SSN &lt;SSN&gt;, Driver's license &lt;DLN&gt;.</td>\n",
       "      <td>Patient's VIN : [***************], SSN [**********], Driver's license [*********].</td>\n",
       "      <td>Patient's VIN : ****, SSN ****, Driver's license ****.</td>\n",
       "      <td>Patient's VIN : 0UAKR89NQWK757753, SSN #824-00-3491, Driver's license HK:A023528F.</td>\n",
       "    </tr>\n",
       "    <tr>\n",
       "      <th>4</th>\n",
       "      <td>Phone (302) 786-5227, 0295 Keats Street, San Francisco.</td>\n",
       "      <td>Phone &lt;PHONE&gt;, &lt;STREET&gt;, &lt;CITY&gt;.</td>\n",
       "      <td>Phone [************], [***************], [***********].</td>\n",
       "      <td>Phone ****, ****, ****.</td>\n",
       "      <td>Phone (031) 585-2709, 1453 E Bert Kouns Industrial Loop, Paamiut.</td>\n",
       "    </tr>\n",
       "  </tbody>\n",
       "</table>\n",
       "</div>"
      ]
     },
     "metadata": {
      "application/vnd.databricks.v1+output": {
       "addedWidgets": {},
       "arguments": {},
       "data": "<div>\n<style scoped>\n    .dataframe tbody tr th:only-of-type {\n        vertical-align: middle;\n    }\n\n    .dataframe tbody tr th {\n        vertical-align: top;\n    }\n\n    .dataframe thead th {\n        text-align: right;\n    }\n</style>\n<table border=\"1\" class=\"dataframe\">\n  <thead>\n    <tr style=\"text-align: right;\">\n      <th></th>\n      <th>Sentence</th>\n      <th>Masked</th>\n      <th>Masked with Chars</th>\n      <th>Masked with Fixed Chars</th>\n      <th>Obfuscated</th>\n    </tr>\n  </thead>\n  <tbody>\n    <tr>\n      <th>0</th>\n      <td>Name : Hendrickson, Ora, Record date: 2093-01-13, Age: 25, # 719435.</td>\n      <td>Name : &lt;PATIENT&gt;, Record date: &lt;DATE&gt;, Age: &lt;AGE&gt;, # &lt;ZIP&gt;.</td>\n      <td>Name : [**************], Record date: [********], Age: **, # [****].</td>\n      <td>Name : ****, Record date: ****, Age: ****, # ****.</td>\n      <td>Name : Carlyon Shadow, Record date: 2093-01-26, Age: 34, # 206495.</td>\n    </tr>\n    <tr>\n      <th>1</th>\n      <td>Dr. John Green, ID: 1231511863, IP 203.120.223.13.</td>\n      <td>Dr. &lt;DOCTOR&gt;, ID&lt;IDNUM&gt;, IP &lt;IPADDR&gt;.</td>\n      <td>Dr. [********], ID[**********], IP [************].</td>\n      <td>Dr. ****, ID****, IP ****.</td>\n      <td>Dr. Annamarie Dawley, ID: 1717315115, IP 333.333.333.333.</td>\n    </tr>\n    <tr>\n      <th>2</th>\n      <td>He is a 60-year-old male was admitted to the Day Hospital for cystectomy on 01/13/93.</td>\n      <td>He is a &lt;AGE&gt;-year-old male was admitted to the &lt;LOCATION&gt; for cystectomy on &lt;DATE&gt;.</td>\n      <td>He is a **-year-old male was admitted to the [**********] for cystectomy on [******].</td>\n      <td>He is a ****-year-old male was admitted to the **** for cystectomy on ****.</td>\n      <td>He is a 64-year-old male was admitted to the 6200 Sw 73Rd St for cystectomy on 01/26/93.</td>\n    </tr>\n    <tr>\n      <th>3</th>\n      <td>Patient's VIN : 1HGBH41JXMN109286, SSN #333-44-6666, Driver's license no:A334455B.</td>\n      <td>Patient's VIN : &lt;VIN&gt;, SSN &lt;SSN&gt;, Driver's license &lt;DLN&gt;.</td>\n      <td>Patient's VIN : [***************], SSN [**********], Driver's license [*********].</td>\n      <td>Patient's VIN : ****, SSN ****, Driver's license ****.</td>\n      <td>Patient's VIN : 0UAKR89NQWK757753, SSN #824-00-3491, Driver's license HK:A023528F.</td>\n    </tr>\n    <tr>\n      <th>4</th>\n      <td>Phone (302) 786-5227, 0295 Keats Street, San Francisco.</td>\n      <td>Phone &lt;PHONE&gt;, &lt;STREET&gt;, &lt;CITY&gt;.</td>\n      <td>Phone [************], [***************], [***********].</td>\n      <td>Phone ****, ****, ****.</td>\n      <td>Phone (031) 585-2709, 1453 E Bert Kouns Industrial Loop, Paamiut.</td>\n    </tr>\n  </tbody>\n</table>\n</div>",
       "datasetInfos": [],
       "metadata": {},
       "removedWidgets": [],
       "textData": null,
       "type": "htmlSandbox"
      }
     },
     "output_type": "display_data"
    }
   ],
   "source": [
    "pd.set_option(\"display.max_colwidth\", 100)\n",
    "\n",
    "df= pd.DataFrame(list(zip(deid_res[\"sentence\"], \n",
    "                          deid_res[\"masked\"],\n",
    "                          deid_res[\"masked_with_chars\"],\n",
    "                          deid_res[\"masked_fixed_length_chars\"], \n",
    "                          deid_res[\"obfuscated\"])),\n",
    "                 columns= [\"Sentence\", \"Masked\", \"Masked with Chars\", \"Masked with Fixed Chars\", \"Obfuscated\"])\n",
    "\n",
    "df"
   ]
  },
  {
   "cell_type": "code",
   "execution_count": 0,
   "metadata": {
    "application/vnd.databricks.v1+cell": {
     "cellMetadata": {},
     "inputWidgets": {},
     "nuid": "117bd759-0acb-49e3-9442-fffa56a2db66",
     "showTitle": false,
     "title": ""
    }
   },
   "outputs": [],
   "source": []
  }
 ],
 "metadata": {
  "application/vnd.databricks.v1+notebook": {
   "dashboards": [],
   "language": "python",
   "notebookMetadata": {
    "pythonIndentUnit": 2
   },
   "notebookName": "04.0.Clinical_DeIdentification",
   "widgets": {}
  },
  "colab": {
   "collapsed_sections": [],
   "name": "4.Clinical_DeIdentification.ipynb",
   "provenance": [],
   "toc_visible": true
  },
  "kernelspec": {
   "display_name": "Python 3 (ipykernel)",
   "language": "python",
   "name": "python3"
  },
  "language_info": {
   "codemirror_mode": {
    "name": "ipython",
    "version": 3
   },
   "file_extension": ".py",
   "mimetype": "text/x-python",
   "name": "python",
   "nbconvert_exporter": "python",
   "pygments_lexer": "ipython3",
   "version": "3.9.1"
  }
 },
 "nbformat": 4,
 "nbformat_minor": 0
}

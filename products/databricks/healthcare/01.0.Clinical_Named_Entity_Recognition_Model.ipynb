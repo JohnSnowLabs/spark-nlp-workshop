{
 "cells": [
  {
   "cell_type": "markdown",
   "metadata": {
    "application/vnd.databricks.v1+cell": {
     "cellMetadata": {},
     "inputWidgets": {},
     "nuid": "7c263afb-de80-4220-8ed9-c8e87c5af9f1",
     "showTitle": false,
     "tableResultSettingsMap": {},
     "title": ""
    }
   },
   "source": [
    "![JohnSnowLabs](https://nlp.johnsnowlabs.com/assets/images/logo.png)"
   ]
  },
  {
   "cell_type": "markdown",
   "metadata": {
    "application/vnd.databricks.v1+cell": {
     "cellMetadata": {},
     "inputWidgets": {},
     "nuid": "328c339e-a337-40e3-a8fb-7377c176690f",
     "showTitle": false,
     "tableResultSettingsMap": {},
     "title": ""
    }
   },
   "source": [
    "# Training and Reusing Clinical Named Entity Recognition Models"
   ]
  },
  {
   "cell_type": "markdown",
   "metadata": {
    "application/vnd.databricks.v1+cell": {
     "cellMetadata": {},
     "inputWidgets": {},
     "nuid": "adba3bd3-4761-44e0-aa9c-4d817e88e9fe",
     "showTitle": false,
     "tableResultSettingsMap": {},
     "title": ""
    }
   },
   "source": [
    "Please make sure that your cluster is setup properly according to https://nlp.johnsnowlabs.com/docs/en/licensed_install#install-spark-nlp-for-healthcare-on-databricks"
   ]
  },
  {
   "cell_type": "markdown",
   "metadata": {
    "application/vnd.databricks.v1+cell": {
     "cellMetadata": {},
     "inputWidgets": {},
     "nuid": "a4286e47-f86a-454f-afda-f9ebdcbf5560",
     "showTitle": false,
     "tableResultSettingsMap": {},
     "title": ""
    }
   },
   "source": [
    "**NER Model Implementation in Spark NLP**\n",
    "\n",
    "  The deep neural network architecture for NER model in\n",
    "Spark NLP is BiLSTM-CNN-Char framework. a slightly modified version of the architecture proposed by Jason PC Chiu and Eric Nichols ([Named Entity Recognition with Bidirectional LSTM-CNNs\n",
    "](https://arxiv.org/abs/1511.08308)). It is a neural network architecture that\n",
    "automatically detects word and character-level features using a\n",
    "hybrid bidirectional LSTM and CNN architecture, eliminating\n",
    "the need for most feature engineering steps.\n",
    "\n",
    "  In the original framework, the CNN extracts a fixed length\n",
    "feature vector from character-level features. For each word,\n",
    "these vectors are concatenated and fed to the BLSTM network\n",
    "and then to the output layers. They employed a stacked\n",
    "bi-directional recurrent neural network with long short-term\n",
    "memory units to transform word features into named entity\n",
    "tag scores. The extracted features of each word are fed into a\n",
    "forward LSTM network and a backward LSTM network. The\n",
    "output of each network at each time step is decoded by a linear\n",
    "layer and a log-softmax layer into log-probabilities for each tag\n",
    "category. These two vectors are then simply added together to\n",
    "produce the final output. In the architecture of the proposed framework in the original paper, 50-dimensional pretrained word\n",
    "embeddings is used for word features, 25-dimension character\n",
    "embeddings is used for char features, and capitalization features\n",
    "(allCaps, upperInitial, lowercase, mixedCaps, noinfo) are used\n",
    "for case features."
   ]
  },
  {
   "cell_type": "markdown",
   "metadata": {
    "application/vnd.databricks.v1+cell": {
     "cellMetadata": {},
     "inputWidgets": {},
     "nuid": "2cabc9d7-b5ae-43a5-992a-eea4b6a40763",
     "showTitle": false,
     "tableResultSettingsMap": {},
     "title": ""
    }
   },
   "source": [
    "## Blogposts and videos:\n",
    "\n",
    "- [How to Setup Spark NLP for HEALTHCARE on UBUNTU - Video](https://www.youtube.com/watch?v=yKnF-_oz0GE)\n",
    "\n",
    "- [Named Entity Recognition (NER) with BERT in Spark NLP](https://towardsdatascience.com/named-entity-recognition-ner-with-bert-in-spark-nlp-874df20d1d77)\n",
    "\n",
    "- [State of the art Clinical Named Entity Recognition in Spark NLP - Youtube](https://www.youtube.com/watch?v=YM-e4eOiQ34)\n",
    "\n",
    "- [Named Entity Recognition for Healthcare with SparkNLP NerDL and NerCRF](https://medium.com/spark-nlp/named-entity-recognition-for-healthcare-with-sparknlp-nerdl-and-nercrf-a7751b6ad571)\n",
    "\n",
    "- [Named Entity Recognition for Clinical Text](https://medium.com/atlas-research/ner-for-clinical-text-7c73caddd180)"
   ]
  },
  {
   "cell_type": "markdown",
   "metadata": {
    "application/vnd.databricks.v1+cell": {
     "cellMetadata": {},
     "inputWidgets": {},
     "nuid": "d0b9666f-ea04-478a-8c47-affebe23f793",
     "showTitle": false,
     "tableResultSettingsMap": {},
     "title": ""
    }
   },
   "source": [
    "## Healthcare NLP for Data Scientists Course\n",
    "\n",
    "If you are not familiar with the components in this notebook, you can check [Healthcare NLP for Data Scientists Udemy Course](https://www.udemy.com/course/healthcare-nlp-for-data-scientists/) and the [MOOC Notebooks](https://github.com/JohnSnowLabs/spark-nlp-workshop/tree/master/Spark_NLP_Udemy_MOOC/Healthcare_NLP) for each components."
   ]
  },
  {
   "cell_type": "code",
   "execution_count": 0,
   "metadata": {
    "application/vnd.databricks.v1+cell": {
     "cellMetadata": {
      "byteLimit": 2048000,
      "rowLimit": 10000
     },
     "inputWidgets": {},
     "nuid": "bd363862-9cf2-4fa8-b2ea-271dbdcbf943",
     "showTitle": false,
     "tableResultSettingsMap": {},
     "title": ""
    }
   },
   "outputs": [],
   "source": [
    "from johnsnowlabs import nlp, medical\n",
    "nlp.settings.enforce_versions=False\n",
    "\n",
    "#We have already initiated the session, and the nlp.start() function is being utilized to update the credentials.\n",
    "nlp.start()"
   ]
  },
  {
   "cell_type": "code",
   "execution_count": 0,
   "metadata": {
    "application/vnd.databricks.v1+cell": {
     "cellMetadata": {
      "byteLimit": 2048000,
      "rowLimit": 10000
     },
     "inputWidgets": {},
     "nuid": "03bab63b-e2fa-47ba-b3f9-a92ad6b6ef9b",
     "showTitle": false,
     "tableResultSettingsMap": {},
     "title": ""
    }
   },
   "outputs": [
    {
     "output_type": "execute_result",
     "data": {
      "text/html": [
       "\n",
       "            <div>\n",
       "                <p><b>SparkSession - hive</b></p>\n",
       "                \n",
       "        <div>\n",
       "            <p><b>SparkContext</b></p>\n",
       "\n",
       "            <p><a href=\"/?o=7956323724731612#setting/sparkui/1230-114112-h1by7jy8/driver-8060772260333278519\">Spark UI</a></p>\n",
       "\n",
       "            <dl>\n",
       "              <dt>Version</dt>\n",
       "                <dd><code>v3.4.1</code></dd>\n",
       "              <dt>Master</dt>\n",
       "                <dd><code>spark://10.139.64.10:7077</code></dd>\n",
       "              <dt>AppName</dt>\n",
       "                <dd><code>Databricks Shell</code></dd>\n",
       "            </dl>\n",
       "        </div>\n",
       "        \n",
       "            </div>\n",
       "        "
      ],
      "text/plain": [
       "<pyspark.sql.session.SparkSession at 0x7f4f993c4b80>"
      ]
     },
     "execution_count": 2,
     "metadata": {},
     "output_type": "execute_result"
    }
   ],
   "source": [
    "from pyspark.sql import DataFrame\n",
    "import pyspark.sql.functions as F\n",
    "import pyspark.sql.types as T\n",
    "import pyspark.sql as SQL\n",
    "from pyspark import keyword_only\n",
    "\n",
    "import os\n",
    "import json\n",
    "import string\n",
    "import numpy as np\n",
    "import pandas as pd\n",
    "\n",
    "from pyspark.ml import Pipeline, PipelineModel\n",
    "\n",
    "pd.set_option('max_colwidth', 100)\n",
    "pd.set_option('display.max_columns', 100)  \n",
    "pd.set_option('display.expand_frame_repr', False)\n",
    "\n",
    "spark"
   ]
  },
  {
   "cell_type": "markdown",
   "metadata": {
    "application/vnd.databricks.v1+cell": {
     "cellMetadata": {},
     "inputWidgets": {},
     "nuid": "7736d0b6-ebc9-4793-8a97-0ebbeb3b49f3",
     "showTitle": false,
     "tableResultSettingsMap": {},
     "title": ""
    }
   },
   "source": [
    "# Clinical NER Pipeline (with pretrained models)"
   ]
  },
  {
   "cell_type": "markdown",
   "metadata": {
    "application/vnd.databricks.v1+cell": {
     "cellMetadata": {},
     "inputWidgets": {},
     "nuid": "1089b83d-aa21-4be2-b2cb-d9e3a418777a",
     "showTitle": false,
     "tableResultSettingsMap": {},
     "title": ""
    }
   },
   "source": [
    "\n",
    "\n",
    "\n",
    "\n",
    "## Clinical NER Models\n",
    "|index|model|index|model|index|model|index|model|\n",
    "|-----:|:-----|-----:|:-----|-----:|:-----|-----:|:-----|\n",
    "| 1| [jsl_ner_wip_clinical](https://nlp.johnsnowlabs.com/2021/03/31/jsl_ner_wip_clinical_en.html)  | 2| [jsl_ner_wip_greedy_clinical](https://nlp.johnsnowlabs.com/2021/03/31/jsl_ner_wip_greedy_clinical_en.html)  | 3| [jsl_ner_wip_modifier_clinical](https://nlp.johnsnowlabs.com/2021/04/01/jsl_ner_wip_modifier_clinical_en.html)  | 4| [jsl_rd_ner_wip_greedy_clinical](https://nlp.johnsnowlabs.com/2021/04/01/jsl_rd_ner_wip_greedy_clinical_en.html)  |\n",
    "| 5| [ner_abbreviation_clinical](https://nlp.johnsnowlabs.com/2021/12/30/ner_abbreviation_clinical_en.html)  | 6| [ner_abbreviation_emb_clinical_large](https://nlp.johnsnowlabs.com/2023/05/12/ner_abbreviation_emb_clinical_large_en.html)  | 7| [ner_abbreviation_emb_clinical_medium](https://nlp.johnsnowlabs.com/2023/05/12/ner_abbreviation_emb_clinical_medium_en.html)  | 8| [ner_ade_clinical](https://nlp.johnsnowlabs.com/2021/04/01/ner_ade_clinical_en.html)  |\n",
    "| 9| [ner_ade_clinical_langtest](https://nlp.johnsnowlabs.com/2023/07/31/ner_ade_clinical_langtest_en.html)  | 10| [ner_ade_clinical_v2](https://nlp.johnsnowlabs.com/2024/09/05/ner_ade_clinical_v2_en.html)  | 11| [ner_ade_clinicalbert](https://nlp.johnsnowlabs.com/2021/04/01/ner_ade_clinicalbert_en.html)  | 12| [ner_ade_emb_clinical_large](https://nlp.johnsnowlabs.com/2023/05/21/ner_ade_emb_clinical_large_en.html)  |\n",
    "| 13| [ner_ade_emb_clinical_medium](https://nlp.johnsnowlabs.com/2023/05/21/ner_ade_emb_clinical_medium_en.html)  | 14| [ner_ade_healthcare](https://nlp.johnsnowlabs.com/2021/04/01/ner_ade_healthcare_en.html)  | 15| [ner_alcohol_smoking](https://nlp.johnsnowlabs.com/2024/07/01/ner_alcohol_smoking_en.html)  | 16| [ner_anatomy](https://nlp.johnsnowlabs.com/2021/03/31/ner_anatomy_en.html)  |\n",
    "| 17| [ner_anatomy_coarse](https://nlp.johnsnowlabs.com/2021/03/31/ner_anatomy_coarse_en.html)  | 18| [ner_anatomy_emb_clinical_large](https://nlp.johnsnowlabs.com/2023/05/15/ner_anatomy_emb_clinical_large_en.html)  | 19| [ner_anatomy_emb_clinical_medium](https://nlp.johnsnowlabs.com/2023/05/15/ner_anatomy_emb_clinical_medium_en.html)  | 20| [ner_aspect_based_sentiment](https://nlp.johnsnowlabs.com/2021/03/31/ner_aspect_based_sentiment_en.html)  |\n",
    "| 21| [ner_bacterial_species](https://nlp.johnsnowlabs.com/2021/04/01/ner_bacterial_species_en.html)  | 22| [ner_bacterial_species_emb_clinical_large](https://nlp.johnsnowlabs.com/2023/05/23/ner_bacterial_species_emb_clinical_large_en.html)  | 23| [ner_bacterial_species_emb_clinical_medium](https://nlp.johnsnowlabs.com/2023/05/23/ner_bacterial_species_emb_clinical_medium_en.html)  | 24| [ner_bacterial_species_langtest](https://nlp.johnsnowlabs.com/2023/10/15/ner_bacterial_species_langtest_en.html)  |\n",
    "| 25| [ner_biomarker](https://nlp.johnsnowlabs.com/2021/11/26/ner_biomarker_en.html)  | 26| [ner_biomarker_langtest](https://nlp.johnsnowlabs.com/2023/10/10/ner_biomarker_langtest_en.html)  | 27| [ner_biomedical_bc2gm](https://nlp.johnsnowlabs.com/2022/05/11/ner_biomedical_bc2gm_en_2_4.html)  | 28| [ner_bionlp](https://nlp.johnsnowlabs.com/2021/03/31/ner_bionlp_en.html)  |\n",
    "| 29| [ner_bionlp_langtest](https://nlp.johnsnowlabs.com/2023/10/10/ner_bionlp_langtest_en.html)  | 30| [ner_cancer_genetics](https://nlp.johnsnowlabs.com/2021/03/31/ner_cancer_genetics_en.html)  | 31| [ner_cancer_types_wip](https://nlp.johnsnowlabs.com/2024/08/16/ner_cancer_types_wip_en.html)  | 32| [ner_cellular](https://nlp.johnsnowlabs.com/2021/03/31/ner_cellular_en.html)  |\n",
    "| 33| [ner_cellular_emb_clinical_large](https://nlp.johnsnowlabs.com/2023/05/24/ner_cellular_emb_clinical_large_en.html)  | 34| [ner_cellular_emb_clinical_medium](https://nlp.johnsnowlabs.com/2023/05/24/ner_cellular_emb_clinical_medium_en.html)  | 35| [ner_cellular_langtest](https://nlp.johnsnowlabs.com/2023/10/15/ner_cellular_langtest_en.html)  | 36| [ner_chemd_clinical](https://nlp.johnsnowlabs.com/2021/11/04/ner_chemd_clinical_en.html)  |\n",
    "| 37| [ner_chemicals](https://nlp.johnsnowlabs.com/2021/04/01/ner_chemicals_en.html)  | 38| [ner_chemicals_emb_clinical_large](https://nlp.johnsnowlabs.com/2023/06/02/ner_chemicals_emb_clinical_large_en.html)  | 39| [ner_chemicals_emb_clinical_medium](https://nlp.johnsnowlabs.com/2023/06/02/ner_chemicals_emb_clinical_medium_en.html)  | 40| [ner_chemprot_clinical](https://nlp.johnsnowlabs.com/2020/09/21/ner_chemprot_clinical_en.html)  |\n",
    "| 41| [ner_chemprot_clinical_langtest](https://nlp.johnsnowlabs.com/2023/10/12/ner_chemprot_clinical_langtest_en.html)  | 42| [ner_chexpert](https://nlp.johnsnowlabs.com/2021/09/30/ner_chexpert_en.html)  | 43| [ner_clinical](https://nlp.johnsnowlabs.com/2021/03/31/ner_clinical_en.html)  | 44| [ner_clinical_abbreviation_langtest](https://nlp.johnsnowlabs.com/2024/01/25/ner_clinical_abbreviation_langtest_en.html)  |\n",
    "| 45| [ner_clinical_langtest](https://nlp.johnsnowlabs.com/2023/09/26/ner_clinical_langtest_en.html)  | 46| [ner_clinical_large](https://nlp.johnsnowlabs.com/2021/03/31/ner_clinical_large_en.html)  | 47| [ner_clinical_large_langtest](https://nlp.johnsnowlabs.com/2023/10/10/ner_clinical_large_langtest_en.html)  | 48| [ner_clinical_trials_abstracts](https://nlp.johnsnowlabs.com/2022/06/22/ner_clinical_trials_abstracts_en_3_0.html)  |\n",
    "| 49| [ner_covid_trials](https://nlp.johnsnowlabs.com/2022/10/19/ner_covid_trials_en.html)  | 50| [ner_crf](https://nlp.johnsnowlabs.com/2020/01/28/ner_crf_en.html)  | 51| [ner_deid_aipii](https://nlp.johnsnowlabs.com/2024/09/25/ner_deid_aipii_en.html)  | 52| [ner_deid_enriched_langtest](https://nlp.johnsnowlabs.com/2023/10/15/ner_deid_enriched_langtest_en.html)  |\n",
    "| 53| [ner_deid_generic_augmented_allUpperCased_langtest](https://nlp.johnsnowlabs.com/2023/10/16/ner_deid_generic_augmented_allUpperCased_langtest_en.html)  | 54| [ner_deid_generic_augmented_langtest](https://nlp.johnsnowlabs.com/2023/09/26/ner_deid_generic_augmented_langtest_en.html)  | 55| [ner_deid_generic_docwise](https://nlp.johnsnowlabs.com/2024/09/06/ner_deid_generic_docwise_en.html)  | 56| [ner_deid_large_emb_clinical_large](https://nlp.johnsnowlabs.com/2023/04/12/ner_deid_large_emb_clinical_large_en.html)  |\n",
    "| 57| [ner_deid_large_emb_clinical_medium](https://nlp.johnsnowlabs.com/2023/04/12/ner_deid_large_emb_clinical_medium_en.html)  | 58| [ner_deid_large_langtest](https://nlp.johnsnowlabs.com/2023/10/15/ner_deid_large_langtest_en.html)  | 59| [ner_deid_subentity_augmented](https://nlp.johnsnowlabs.com/2021/09/03/ner_deid_subentity_augmented_en.html)  | 60| [ner_deid_subentity_augmented_docwise](https://nlp.johnsnowlabs.com/2024/09/06/ner_deid_subentity_augmented_docwise_en.html)  |\n",
    "| 61| [ner_deid_subentity_augmented_langtest](https://nlp.johnsnowlabs.com/2023/09/26/ner_deid_subentity_augmented_langtest_en.html)  | 62| [ner_deid_subentity_augmented_v2](https://nlp.johnsnowlabs.com/2024/09/20/ner_deid_subentity_augmented_v2_en.html)  | 63| [ner_deid_subentity_docwise](https://nlp.johnsnowlabs.com/2024/09/06/ner_deid_subentity_docwise_en.html)  | 64| [ner_demographic_extended_healthcare](https://nlp.johnsnowlabs.com/2023/06/08/ner_demographic_extended_healthcare_en.html)  |\n",
    "| 65| [ner_diseases](https://nlp.johnsnowlabs.com/2021/03/31/ner_diseases_en.html)  | 66| [ner_diseases_langtest](https://nlp.johnsnowlabs.com/2023/10/15/ner_diseases_langtest_en.html)  | 67| [ner_diseases_large](https://nlp.johnsnowlabs.com/2021/04/01/ner_diseases_large_en.html)  | 68| [ner_drugprot_clinical](https://nlp.johnsnowlabs.com/2021/12/20/ner_drugprot_clinical_en.html)  |\n",
    "| 69| [ner_drugs](https://nlp.johnsnowlabs.com/2021/03/31/ner_drugs_en.html)  | 70| [ner_drugs_greedy](https://nlp.johnsnowlabs.com/2021/03/31/ner_drugs_greedy_en.html)  | 71| [ner_drugs_large](https://nlp.johnsnowlabs.com/2021/03/31/ner_drugs_large_en.html)  | 72| [ner_eu_clinical_case](https://nlp.johnsnowlabs.com/2023/01/25/ner_eu_clinical_case_en.html)  |\n",
    "| 73| [ner_eu_clinical_condition](https://nlp.johnsnowlabs.com/2023/02/06/ner_eu_clinical_condition_en.html)  | 74| [ner_eu_clinical_condition_langtest](https://nlp.johnsnowlabs.com/2023/09/22/ner_eu_clinical_condition_langtest_en.html)  | 75| [ner_events_admission_clinical](https://nlp.johnsnowlabs.com/2021/03/31/ner_events_admission_clinical_en.html)  | 76| [ner_events_clinical](https://nlp.johnsnowlabs.com/2021/03/31/ner_events_clinical_en.html)  |\n",
    "| 77| [ner_events_clinical_langtest](https://nlp.johnsnowlabs.com/2023/08/31/ner_events_clinical_langtest_en.html)  | 78| [ner_events_healthcare](https://nlp.johnsnowlabs.com/2021/04/01/ner_events_healthcare_en.html)  | 79| [ner_financial_contract](https://nlp.johnsnowlabs.com/2021/04/01/ner_financial_contract_en.html)  | 80| [ner_genetic_variants](https://nlp.johnsnowlabs.com/2021/06/25/ner_genetic_variants_en.html)  |\n",
    "| 81| [ner_healthcare](https://nlp.johnsnowlabs.com/2021/04/21/ner_healthcare_en.html)  | 82| [ner_human_phenotype_gene_clinical](https://nlp.johnsnowlabs.com/2020/09/21/ner_human_phenotype_gene_clinical_en.html)  | 83| [ner_human_phenotype_gene_clinical_langtest](https://nlp.johnsnowlabs.com/2023/11/04/ner_human_phenotype_gene_clinical_langtest_en.html)  | 84| [ner_human_phenotype_go_clinical](https://nlp.johnsnowlabs.com/2020/09/21/ner_human_phenotype_go_clinical_en.html)  |\n",
    "| 85| [ner_human_phenotype_go_clinical_langtest](https://nlp.johnsnowlabs.com/2023/11/04/ner_human_phenotype_go_clinical_langtest_en.html)  | 86| [ner_jsl](https://nlp.johnsnowlabs.com/2022/10/19/ner_jsl_en.html)  | 87| [ner_jsl_emb_clinical_large](https://nlp.johnsnowlabs.com/2023/04/12/ner_jsl_emb_clinical_large_en.html)  | 88| [ner_jsl_emb_clinical_medium](https://nlp.johnsnowlabs.com/2023/04/12/ner_jsl_emb_clinical_medium_en.html)  |\n",
    "| 89| [ner_jsl_enriched](https://nlp.johnsnowlabs.com/2021/10/22/ner_jsl_enriched_en.html)  | 90| [ner_jsl_greedy](https://nlp.johnsnowlabs.com/2021/06/24/ner_jsl_greedy_en.html)  | 91| [ner_jsl_langtest](https://nlp.johnsnowlabs.com/2023/07/31/ner_jsl_langtest_en.html)  | 92| [ner_jsl_limited_80p_for_benchmarks](https://nlp.johnsnowlabs.com/2023/04/02/ner_jsl_limited_80p_for_benchmarks_en.html)  |\n",
    "| 93| [ner_jsl_slim](https://nlp.johnsnowlabs.com/2021/08/13/ner_jsl_slim_en.html)  | 94| [ner_living_species](https://nlp.johnsnowlabs.com/2022/06/22/ner_living_species_en_3_0.html)  | 95| [ner_living_species_langtest](https://nlp.johnsnowlabs.com/2023/10/10/ner_living_species_langtest_en.html)  | 96| [ner_measurements_clinical](https://nlp.johnsnowlabs.com/2021/04/01/ner_measurements_clinical_en.html)  |\n",
    "| 97| [ner_medmentions_coarse](https://nlp.johnsnowlabs.com/2021/04/01/ner_medmentions_coarse_en.html)  | 98| [ner_menopause_core](https://nlp.johnsnowlabs.com/2024/07/03/ner_menopause_core_en.html)  | 99| [ner_nature_nero_clinical](https://nlp.johnsnowlabs.com/2022/02/08/ner_nature_nero_clinical_en.html)  | 100| [ner_nihss](https://nlp.johnsnowlabs.com/2021/11/15/ner_nihss_en.html)  |\n",
    "| 101| [ner_oncology](https://nlp.johnsnowlabs.com/2022/10/25/ner_oncology_en.html)  | 102| [ner_oncology_anatomy_general](https://nlp.johnsnowlabs.com/2022/10/25/ner_oncology_anatomy_general_en.html)  | 103| [ner_oncology_anatomy_general_healthcare](https://nlp.johnsnowlabs.com/2023/01/11/ner_oncology_anatomy_general_healthcare_en.html)  | 104| [ner_oncology_anatomy_general_langtest](https://nlp.johnsnowlabs.com/2023/09/03/ner_oncology_anatomy_general_langtest_en.html)  |\n",
    "| 105| [ner_oncology_anatomy_general_wip](https://nlp.johnsnowlabs.com/2022/09/30/ner_oncology_anatomy_general_wip_en.html)  | 106| [ner_oncology_anatomy_granular](https://nlp.johnsnowlabs.com/2022/10/25/ner_oncology_anatomy_granular_en.html)  | 107| [ner_oncology_anatomy_granular_langtest](https://nlp.johnsnowlabs.com/2023/09/03/ner_oncology_anatomy_granular_langtest_en.html)  | 108| [ner_oncology_anatomy_granular_wip](https://nlp.johnsnowlabs.com/2022/10/01/ner_oncology_anatomy_granular_wip_en.html)  |\n",
    "| 109| [ner_oncology_biomarker](https://nlp.johnsnowlabs.com/2022/10/25/ner_oncology_biomarker_en.html)  | 110| [ner_oncology_biomarker_healthcare](https://nlp.johnsnowlabs.com/2023/01/11/ner_oncology_biomarker_healthcare_en.html)  | 111| [ner_oncology_biomarker_langtest](https://nlp.johnsnowlabs.com/2023/09/22/ner_oncology_biomarker_langtest_en.html)  | 112| [ner_oncology_biomarker_wip](https://nlp.johnsnowlabs.com/2022/10/01/ner_oncology_biomarker_wip_en.html)  |\n",
    "| 113| [ner_oncology_demographics](https://nlp.johnsnowlabs.com/2022/10/25/ner_oncology_demographics_en.html)  | 114| [ner_oncology_demographics_langtest](https://nlp.johnsnowlabs.com/2023/09/03/ner_oncology_demographics_langtest_en.html)  | 115| [ner_oncology_demographics_wip](https://nlp.johnsnowlabs.com/2022/09/30/ner_oncology_demographics_wip_en.html)  | 116| [ner_oncology_diagnosis](https://nlp.johnsnowlabs.com/2022/10/25/ner_oncology_diagnosis_en.html)  |\n",
    "| 117| [ner_oncology_diagnosis_langtest](https://nlp.johnsnowlabs.com/2023/09/22/ner_oncology_diagnosis_langtest_en.html)  | 118| [ner_oncology_diagnosis_wip](https://nlp.johnsnowlabs.com/2022/09/30/ner_oncology_diagnosis_wip_en.html)  | 119| [ner_oncology_emb_clinical_large](https://nlp.johnsnowlabs.com/2023/04/12/ner_oncology_emb_clinical_large_en.html)  | 120| [ner_oncology_emb_clinical_medium](https://nlp.johnsnowlabs.com/2023/04/12/ner_oncology_emb_clinical_medium_en.html)  |\n",
    "| 121| [ner_oncology_langtest](https://nlp.johnsnowlabs.com/2023/10/15/ner_oncology_langtest_en.html)  | 122| [ner_oncology_limited_80p_for_benchmarks](https://nlp.johnsnowlabs.com/2023/04/03/ner_oncology_limited_80p_for_benchmarks_en.html)  | 123| [ner_oncology_posology](https://nlp.johnsnowlabs.com/2022/10/25/ner_oncology_posology_en.html)  | 124| [ner_oncology_posology_langtest](https://nlp.johnsnowlabs.com/2023/09/04/ner_oncology_posology_langtest_en.html)  |\n",
    "| 125| [ner_oncology_posology_wip](https://nlp.johnsnowlabs.com/2022/10/01/ner_oncology_posology_wip_en.html)  | 126| [ner_oncology_response_to_treatment](https://nlp.johnsnowlabs.com/2022/10/25/ner_oncology_response_to_treatment_en.html)  | 127| [ner_oncology_response_to_treatment_langtest](https://nlp.johnsnowlabs.com/2023/09/04/ner_oncology_response_to_treatment_langtest_en.html)  | 128| [ner_oncology_response_to_treatment_wip](https://nlp.johnsnowlabs.com/2022/10/01/ner_oncology_response_to_treatment_wip_en.html)  |\n",
    "| 129| [ner_oncology_test](https://nlp.johnsnowlabs.com/2022/10/25/ner_oncology_test_en.html)  | 130| [ner_oncology_test_langtest](https://nlp.johnsnowlabs.com/2023/09/22/ner_oncology_test_langtest_en.html)  | 131| [ner_oncology_test_wip](https://nlp.johnsnowlabs.com/2022/09/30/ner_oncology_test_wip_en.html)  | 132| [ner_oncology_therapy](https://nlp.johnsnowlabs.com/2022/10/25/ner_oncology_therapy_en.html)  |\n",
    "| 133| [ner_oncology_therapy_langtest](https://nlp.johnsnowlabs.com/2023/09/22/ner_oncology_therapy_langtest_en.html)  | 134| [ner_oncology_therapy_wip](https://nlp.johnsnowlabs.com/2022/09/30/ner_oncology_therapy_wip_en.html)  | 135| [ner_oncology_tnm](https://nlp.johnsnowlabs.com/2022/10/25/ner_oncology_tnm_en.html)  | 136| [ner_oncology_tnm_langtest](https://nlp.johnsnowlabs.com/2023/09/22/ner_oncology_tnm_langtest_en.html)  |\n",
    "| 137| [ner_oncology_tnm_wip](https://nlp.johnsnowlabs.com/2022/09/30/ner_oncology_tnm_wip_en.html)  | 138| [ner_oncology_unspecific_posology](https://nlp.johnsnowlabs.com/2022/10/25/ner_oncology_unspecific_posology_en.html)  | 139| [ner_oncology_unspecific_posology_healthcare](https://nlp.johnsnowlabs.com/2023/01/11/ner_oncology_unspecific_posology_healthcare_en.html)  | 140| [ner_oncology_unspecific_posology_langtest](https://nlp.johnsnowlabs.com/2023/09/22/ner_oncology_unspecific_posology_langtest_en.html)  |\n",
    "| 141| [ner_oncology_unspecific_posology_wip](https://nlp.johnsnowlabs.com/2022/09/30/ner_oncology_unspecific_posology_wip_en.html)  | 142| [ner_oncology_wip](https://nlp.johnsnowlabs.com/2022/09/30/ner_oncology_wip_en.html)  | 143| [ner_opioid](https://nlp.johnsnowlabs.com/2024/03/27/ner_opioid_en.html)  | 144| [ner_opioid_small_wip](https://nlp.johnsnowlabs.com/2024/01/11/ner_opioid_small_wip_en.html)  |\n",
    "| 145| [ner_pathogen](https://nlp.johnsnowlabs.com/2022/06/28/ner_pathogen_en_3_0.html)  | 146| [ner_posology](https://nlp.johnsnowlabs.com/2021/03/31/ner_posology_en.html)  | 147| [ner_posology_emb_clinical_large](https://nlp.johnsnowlabs.com/2023/04/12/ner_posology_emb_clinical_large_en.html)  | 148| [ner_posology_emb_clinical_medium](https://nlp.johnsnowlabs.com/2023/04/12/ner_posology_emb_clinical_medium_en.html)  |\n",
    "| 149| [ner_posology_experimental](https://nlp.johnsnowlabs.com/2021/09/01/ner_posology_experimental_en.html)  | 150| [ner_posology_greedy](https://nlp.johnsnowlabs.com/2021/03/31/ner_posology_greedy_en.html)  | 151| [ner_posology_healthcare](https://nlp.johnsnowlabs.com/2021/04/01/ner_posology_healthcare_en.html)  | 152| [ner_posology_langtest](https://nlp.johnsnowlabs.com/2023/07/28/ner_posology_langtest_en.html)  |\n",
    "| 153| [ner_posology_large](https://nlp.johnsnowlabs.com/2021/03/31/ner_posology_large_en.html)  | 154| [ner_posology_small](https://nlp.johnsnowlabs.com/2021/03/31/ner_posology_small_en.html)  | 155| [ner_radiology](https://nlp.johnsnowlabs.com/2021/03/31/ner_radiology_en.html)  | 156| [ner_radiology_wip_clinical](https://nlp.johnsnowlabs.com/2021/04/01/ner_radiology_wip_clinical_en.html)  |\n",
    "| 157| [ner_risk_factors](https://nlp.johnsnowlabs.com/2021/03/31/ner_risk_factors_en.html)  | 158| [ner_risk_factors_langtest](https://nlp.johnsnowlabs.com/2023/11/06/ner_risk_factors_langtest_en.html)  | 159| [ner_sdoh](https://nlp.johnsnowlabs.com/2023/06/13/ner_sdoh_en.html)  | 160| [ner_sdoh_access_to_healthcare](https://nlp.johnsnowlabs.com/2023/07/02/ner_sdoh_access_to_healthcare_en.html)  |\n",
    "| 161| [ner_sdoh_access_to_healthcare_wip](https://nlp.johnsnowlabs.com/2024/06/10/ner_sdoh_access_to_healthcare_wip_en.html)  | 162| [ner_sdoh_community_condition](https://nlp.johnsnowlabs.com/2023/07/02/ner_sdoh_community_condition_en.html)  | 163| [ner_sdoh_community_condition_wip](https://nlp.johnsnowlabs.com/2024/06/10/ner_sdoh_community_condition_wip_en.html)  | 164| [ner_sdoh_core](https://nlp.johnsnowlabs.com/2024/04/08/ner_sdoh_core_en.html)  |\n",
    "| 165| [ner_sdoh_demographics](https://nlp.johnsnowlabs.com/2023/07/02/ner_sdoh_demographics_en.html)  | 166| [ner_sdoh_demographics_wip](https://nlp.johnsnowlabs.com/2024/06/10/ner_sdoh_demographics_wip_en.html)  | 167| [ner_sdoh_emb_clinical_large_wip](https://nlp.johnsnowlabs.com/2023/04/17/ner_sdoh_emb_clinical_large_wip_en.html)  | 168| [ner_sdoh_emb_clinical_medium_wip](https://nlp.johnsnowlabs.com/2023/04/27/ner_sdoh_emb_clinical_medium_wip_en.html)  |\n",
    "| 169| [ner_sdoh_health_behaviours_problems](https://nlp.johnsnowlabs.com/2023/07/02/ner_sdoh_health_behaviours_problems_en.html)  | 170| [ner_sdoh_health_behaviours_problems_wip](https://nlp.johnsnowlabs.com/2024/06/10/ner_sdoh_health_behaviours_problems_wip_en.html)  | 171| [ner_sdoh_income_social_status](https://nlp.johnsnowlabs.com/2023/07/02/ner_sdoh_income_social_status_en.html)  | 172| [ner_sdoh_income_social_status_wip](https://nlp.johnsnowlabs.com/2024/06/10/ner_sdoh_income_social_status_wip_en.html)  |\n",
    "| 173| [ner_sdoh_langtest](https://nlp.johnsnowlabs.com/2023/07/31/ner_sdoh_langtest_en.html)  | 174| [ner_sdoh_mentions](https://nlp.johnsnowlabs.com/2022/12/18/ner_sdoh_mentions_en.html)  | 175| [ner_sdoh_slim_wip](https://nlp.johnsnowlabs.com/2022/11/15/ner_sdoh_slim_wip_en.html)  | 176| [ner_sdoh_social_environment](https://nlp.johnsnowlabs.com/2023/07/02/ner_sdoh_social_environment_en.html)  |\n",
    "| 177| [ner_sdoh_social_environment_wip](https://nlp.johnsnowlabs.com/2024/06/10/ner_sdoh_social_environment_wip_en.html)  | 178| [ner_sdoh_substance_usage](https://nlp.johnsnowlabs.com/2023/07/02/ner_sdoh_substance_usage_en.html)  | 179| [ner_sdoh_substance_usage_wip](https://nlp.johnsnowlabs.com/2024/06/10/ner_sdoh_substance_usage_wip_en.html)  | 180| [ner_sdoh_wip](https://nlp.johnsnowlabs.com/2024/06/10/ner_sdoh_wip_en.html)  |\n",
    "| 181| [ner_section_header_diagnosis](https://nlp.johnsnowlabs.com/2023/07/26/ner_section_header_diagnosis_en.html)  | 182| [ner_snomed_term](https://nlp.johnsnowlabs.com/2024/02/13/ner_snomed_term_en.html)  | 183| [ner_stigmatization_wip](https://nlp.johnsnowlabs.com/2024/08/27/ner_stigmatization_wip_en.html)  | 184| [ner_supplement_clinical](https://nlp.johnsnowlabs.com/2022/02/01/ner_supplement_clinical_en.html)  |\n",
    "| 185| [ner_vop](https://nlp.johnsnowlabs.com/2023/06/06/ner_vop_en.html)  | 186| [ner_vop_anatomy](https://nlp.johnsnowlabs.com/2023/06/06/ner_vop_anatomy_en.html)  | 187| [ner_vop_anatomy_emb_clinical_large](https://nlp.johnsnowlabs.com/2023/06/06/ner_vop_anatomy_emb_clinical_large_en.html)  | 188| [ner_vop_anatomy_emb_clinical_medium](https://nlp.johnsnowlabs.com/2023/06/07/ner_vop_anatomy_emb_clinical_medium_en.html)  |\n",
    "| 189| [ner_vop_anatomy_langtest](https://nlp.johnsnowlabs.com/2023/09/21/ner_vop_anatomy_langtest_en.html)  | 190| [ner_vop_anatomy_wip](https://nlp.johnsnowlabs.com/2023/05/19/ner_vop_anatomy_wip_en.html)  | 191| [ner_vop_clinical_dept](https://nlp.johnsnowlabs.com/2023/06/06/ner_vop_clinical_dept_en.html)  | 192| [ner_vop_clinical_dept_emb_clinical_large](https://nlp.johnsnowlabs.com/2023/06/06/ner_vop_clinical_dept_emb_clinical_large_en.html)  |\n",
    "| 193| [ner_vop_clinical_dept_emb_clinical_medium](https://nlp.johnsnowlabs.com/2023/06/06/ner_vop_clinical_dept_emb_clinical_medium_en.html)  | 194| [ner_vop_clinical_dept_langtest](https://nlp.johnsnowlabs.com/2023/09/21/ner_vop_clinical_dept_langtest_en.html)  | 195| [ner_vop_clinical_dept_wip](https://nlp.johnsnowlabs.com/2023/05/19/ner_vop_clinical_dept_wip_en.html)  | 196| [ner_vop_demographic](https://nlp.johnsnowlabs.com/2023/06/06/ner_vop_demographic_en.html)  |\n",
    "| 197| [ner_vop_demographic_emb_clinical_large](https://nlp.johnsnowlabs.com/2023/06/06/ner_vop_demographic_emb_clinical_large_en.html)  | 198| [ner_vop_demographic_emb_clinical_medium](https://nlp.johnsnowlabs.com/2023/06/06/ner_vop_demographic_emb_clinical_medium_en.html)  | 199| [ner_vop_demographic_langtest](https://nlp.johnsnowlabs.com/2023/09/21/ner_vop_demographic_langtest_en.html)  | 200| [ner_vop_demographic_wip](https://nlp.johnsnowlabs.com/2023/05/19/ner_vop_demographic_wip_en.html)  |\n",
    "| 201| [ner_vop_emb_clinical_large](https://nlp.johnsnowlabs.com/2023/06/06/ner_vop_emb_clinical_large_en.html)  | 202| [ner_vop_emb_clinical_large_wip](https://nlp.johnsnowlabs.com/2023/04/12/ner_vop_emb_clinical_large_wip_en.html)  | 203| [ner_vop_emb_clinical_medium](https://nlp.johnsnowlabs.com/2023/06/06/ner_vop_emb_clinical_medium_en.html)  | 204| [ner_vop_emb_clinical_medium_wip](https://nlp.johnsnowlabs.com/2023/04/12/ner_vop_emb_clinical_medium_wip_en.html)  |\n",
    "| 205| [ner_vop_langtest](https://nlp.johnsnowlabs.com/2023/10/10/ner_vop_langtest_en.html)  | 206| [ner_vop_problem](https://nlp.johnsnowlabs.com/2023/06/06/ner_vop_problem_en.html)  | 207| [ner_vop_problem_emb_clinical_large](https://nlp.johnsnowlabs.com/2023/06/06/ner_vop_problem_emb_clinical_large_en.html)  | 208| [ner_vop_problem_emb_clinical_medium](https://nlp.johnsnowlabs.com/2023/06/06/ner_vop_problem_emb_clinical_medium_en.html)  |\n",
    "| 209| [ner_vop_problem_langtest](https://nlp.johnsnowlabs.com/2023/09/21/ner_vop_problem_langtest_en.html)  | 210| [ner_vop_problem_reduced](https://nlp.johnsnowlabs.com/2023/06/07/ner_vop_problem_reduced_en.html)  | 211| [ner_vop_problem_reduced_emb_clinical_large](https://nlp.johnsnowlabs.com/2023/06/07/ner_vop_problem_reduced_emb_clinical_large_en.html)  | 212| [ner_vop_problem_reduced_emb_clinical_medium](https://nlp.johnsnowlabs.com/2023/06/07/ner_vop_problem_reduced_emb_clinical_medium_en.html)  |\n",
    "| 213| [ner_vop_problem_reduced_langtest](https://nlp.johnsnowlabs.com/2023/09/22/ner_vop_problem_reduced_langtest_en.html)  | 214| [ner_vop_problem_reduced_wip](https://nlp.johnsnowlabs.com/2023/05/19/ner_vop_problem_reduced_wip_en.html)  | 215| [ner_vop_problem_wip](https://nlp.johnsnowlabs.com/2023/05/19/ner_vop_problem_wip_en.html)  | 216| [ner_vop_slim_wip](https://nlp.johnsnowlabs.com/2023/02/25/ner_vop_slim_wip_en.html)  |\n",
    "| 217| [ner_vop_temporal](https://nlp.johnsnowlabs.com/2023/06/06/ner_vop_temporal_en.html)  | 218| [ner_vop_temporal_emb_clinical_large_final](https://nlp.johnsnowlabs.com/2023/06/06/ner_vop_temporal_emb_clinical_large_final_en.html)  | 219| [ner_vop_temporal_emb_clinical_medium](https://nlp.johnsnowlabs.com/2023/06/06/ner_vop_temporal_emb_clinical_medium_en.html)  | 220| [ner_vop_temporal_langtest](https://nlp.johnsnowlabs.com/2023/09/22/ner_vop_temporal_langtest_en.html)  |\n",
    "| 221| [ner_vop_temporal_wip](https://nlp.johnsnowlabs.com/2023/05/19/ner_vop_temporal_wip_en.html)  | 222| [ner_vop_test](https://nlp.johnsnowlabs.com/2023/06/06/ner_vop_test_en.html)  | 223| [ner_vop_test_emb_clinical_large](https://nlp.johnsnowlabs.com/2023/06/06/ner_vop_test_emb_clinical_large_en.html)  | 224| [ner_vop_test_emb_clinical_medium](https://nlp.johnsnowlabs.com/2023/06/06/ner_vop_test_emb_clinical_medium_en.html)  |\n",
    "| 225| [ner_vop_test_langtest](https://nlp.johnsnowlabs.com/2023/09/22/ner_vop_test_langtest_en.html)  | 226| [ner_vop_test_wip](https://nlp.johnsnowlabs.com/2023/05/19/ner_vop_test_wip_en.html)  | 227| [ner_vop_treatment](https://nlp.johnsnowlabs.com/2023/06/06/ner_vop_treatment_en.html)  | 228| [ner_vop_treatment_emb_clinical_large](https://nlp.johnsnowlabs.com/2023/06/06/ner_vop_treatment_emb_clinical_large_en.html)  |\n",
    "| 229| [ner_vop_treatment_emb_clinical_medium](https://nlp.johnsnowlabs.com/2023/06/06/ner_vop_treatment_emb_clinical_medium_en.html)  | 230| [ner_vop_treatment_langtest](https://nlp.johnsnowlabs.com/2023/09/22/ner_vop_treatment_langtest_en.html)  | 231| [ner_vop_treatment_wip](https://nlp.johnsnowlabs.com/2023/05/19/ner_vop_treatment_wip_en.html)  | 232| [ner_vop_v2](https://nlp.johnsnowlabs.com/2024/06/07/ner_vop_v2_en.html)  |\n",
    "| 233| [ner_vop_wip](https://nlp.johnsnowlabs.com/2023/05/19/ner_vop_wip_en.html)  | 234| [ner_vop_wip_emb_clinical_large](https://nlp.johnsnowlabs.com/2023/05/19/ner_vop_wip_embeddings_clinical_large_en.html)  | 235| [ner_vop_wip_emb_clinical_medium](https://nlp.johnsnowlabs.com/2023/05/19/ner_vop_wip_embeddings_clinical_medium_en.html)  | 236| [nerdl_tumour_demo](https://nlp.johnsnowlabs.com/2021/04/01/nerdl_tumour_demo_en.html)  |\n",
    "\n",
    "\n",
    "\n",
    "\n",
    "- **Multilingual Clinical NER Models**\n",
    "\n",
    "|index|model|index|model|index|model|index|model|\n",
    "|-----:|:-----|-----:|:-----|-----:|:-----|-----:|:-----|\n",
    "| 1| [ner_clinical](https://nlp.johnsnowlabs.com/2023/09/20/ner_clinical_sv.html)  | 2| [ner_clinical_bert](https://nlp.johnsnowlabs.com/2022/11/22/ner_clinical_bert_ro.html)  | 3| [ner_clinical_trials_abstracts](https://nlp.johnsnowlabs.com/2022/08/12/ner_clinical_trials_abstracts_es_3_0.html)  | 4| [ner_deid_generic](https://nlp.johnsnowlabs.com/2023/05/30/ner_deid_generic_ar.html)  |\n",
    "| 5| [ner_deid_generic_arabert](https://nlp.johnsnowlabs.com/2023/09/16/ner_deid_generic_arabert_ar.html)  | 6| [ner_deid_generic_augmented](https://nlp.johnsnowlabs.com/2022/02/16/ner_deid_generic_augmented_es.html)  | 7| [ner_deid_generic_bert](https://nlp.johnsnowlabs.com/2022/11/22/ner_deid_generic_bert_ro.html)  | 8| [ner_deid_generic_camelbert](https://nlp.johnsnowlabs.com/2023/09/16/ner_deid_generic_camelbert_ar.html)  |\n",
    "| 9| [ner_deid_generic_roberta](https://nlp.johnsnowlabs.com/2022/01/17/ner_deid_generic_roberta_es.html)  | 10| [ner_deid_generic_roberta_augmented](https://nlp.johnsnowlabs.com/2022/02/16/ner_deid_generic_roberta_augmented_es.html)  | 11| [ner_deid_multilingual](https://nlp.johnsnowlabs.com/2024/02/12/ner_deid_multilingual_xx.html)  | 12| [ner_deid_name_multilingual](https://nlp.johnsnowlabs.com/2024/01/17/ner_deid_name_multilingual_xx.html)  |\n",
    "| 13| [ner_deid_name_multilingual_clinical](https://nlp.johnsnowlabs.com/2024/02/12/ner_deid_name_multilingual_clinical_xx.html)  | 14| [ner_deid_subentity](https://nlp.johnsnowlabs.com/2023/05/31/ner_deid_subentity_ar.html)  | 15| [ner_deid_subentity_arabert](https://nlp.johnsnowlabs.com/2023/09/16/ner_deid_subentity_arabert_ar.html)  | 16| [ner_deid_subentity_augmented](https://nlp.johnsnowlabs.com/2022/02/16/ner_deid_subentity_augmented_es.html)  |\n",
    "| 17| [ner_deid_subentity_bert](https://nlp.johnsnowlabs.com/2022/06/27/ner_deid_bert_subentity_ro_3_0.html)  | 18| [ner_deid_subentity_camelbert](https://nlp.johnsnowlabs.com/2023/09/22/ner_deid_subentity_camelbert_ar.html)  | 19| [ner_deid_subentity_roberta](https://nlp.johnsnowlabs.com/2022/01/17/ner_deid_subentity_roberta_es.html)  | 20| [ner_deid_subentity_roberta_augmented](https://nlp.johnsnowlabs.com/2022/02/16/ner_deid_subentity_roberta_augmented_es.html)  |\n",
    "| 21| [ner_diag_proc](https://nlp.johnsnowlabs.com/2021/03/31/ner_diag_proc_es.html)  | 22| [ner_eu_clinical_case](https://nlp.johnsnowlabs.com/2023/02/02/ner_eu_clinical_case_eu.html)  | 23| [ner_eu_clinical_condition](https://nlp.johnsnowlabs.com/2023/02/06/ner_eu_clinical_condition_it.html)  | 24| [ner_living_species](https://nlp.johnsnowlabs.com/2022/06/23/ner_living_species_ca_3_0.html)  |\n",
    "| 25| [ner_living_species_300](https://nlp.johnsnowlabs.com/2022/11/22/ner_living_species_300_es.html)  | 26| [ner_living_species_bert](https://nlp.johnsnowlabs.com/2022/06/23/ner_living_species_bert_ro_3_0.html)  | 27| [ner_living_species_roberta](https://nlp.johnsnowlabs.com/2022/06/22/ner_living_species_roberta_pt_3_0.html)  | 28| [ner_negation_uncertainty](https://nlp.johnsnowlabs.com/2022/08/13/ner_negation_uncertainty_es_3_0.html)  |\n",
    "| 29| [ner_neoplasms](https://nlp.johnsnowlabs.com/2021/03/31/ner_neoplasms_es.html)  | 30| [ner_pharmacology](https://nlp.johnsnowlabs.com/2022/08/13/ner_pharmacology_es_3_0.html)  | 31| [ner_traffic](https://nlp.johnsnowlabs.com/2021/04/01/ner_traffic_de.html)  | 32| [roberta_ner_diag_proc](https://nlp.johnsnowlabs.com/2021/11/04/roberta_ner_diag_proc_es.html)  |\n",
    "\n",
    "- **BioBert NER Models**\n",
    "\n",
    "|index|model|index|model|index|model|index|model|\n",
    "|-----:|:-----|-----:|:-----|-----:|:-----|-----:|:-----|\n",
    "| 1| [jsl_ner_wip_greedy_biobert](https://nlp.johnsnowlabs.com/2021/07/26/jsl_ner_wip_greedy_biobert_en.html)  | 2| [jsl_rd_ner_wip_greedy_biobert](https://nlp.johnsnowlabs.com/2021/07/26/jsl_rd_ner_wip_greedy_biobert_en.html)  | 3| [ner_ade_biobert](https://nlp.johnsnowlabs.com/2021/04/01/ner_ade_biobert_en.html)  | 4| [ner_anatomy_biobert](https://nlp.johnsnowlabs.com/2021/04/01/ner_anatomy_biobert_en.html)  |\n",
    "| 5| [ner_anatomy_coarse_biobert](https://nlp.johnsnowlabs.com/2021/03/31/ner_anatomy_coarse_biobert_en.html)  | 6| [ner_anatomy_coarse_biobert_en](https://nlp.johnsnowlabs.com/2020/11/04/ner_anatomy_coarse_biobert_en.html)  | 7| [ner_bionlp_biobert](https://nlp.johnsnowlabs.com/2021/04/01/ner_bionlp_biobert_en.html)  | 8| [ner_cellular_biobert](https://nlp.johnsnowlabs.com/2021/04/01/ner_cellular_biobert_en.html)  |\n",
    "| 9| [ner_chemprot_biobert](https://nlp.johnsnowlabs.com/2021/04/01/ner_chemprot_biobert_en.html)  | 10| [ner_clinical_biobert](https://nlp.johnsnowlabs.com/2021/04/01/ner_clinical_biobert_en.html)  | 11| [ner_diseases_biobert](https://nlp.johnsnowlabs.com/2021/04/01/ner_diseases_biobert_en.html)  | 12| [ner_events_biobert](https://nlp.johnsnowlabs.com/2021/04/01/ner_events_biobert_en.html)  |\n",
    "| 13| [ner_human_phenotype_gene_biobert](https://nlp.johnsnowlabs.com/2021/04/01/ner_human_phenotype_gene_biobert_en.html)  | 14| [ner_human_phenotype_go_biobert](https://nlp.johnsnowlabs.com/2021/04/01/ner_human_phenotype_go_biobert_en.html)  | 15| [ner_jsl_biobert](https://nlp.johnsnowlabs.com/2021/09/05/ner_jsl_biobert_en.html)  | 16| [ner_jsl_enriched_biobert](https://nlp.johnsnowlabs.com/2021/04/01/ner_jsl_enriched_biobert_en.html)  |\n",
    "| 17| [ner_jsl_greedy_biobert](https://nlp.johnsnowlabs.com/2021/08/13/ner_jsl_greedy_biobert_en.html)  | 18| [ner_living_species_biobert](https://nlp.johnsnowlabs.com/2022/06/22/ner_living_species_biobert_en_3_0.html)  | 19| [ner_posology_biobert](https://nlp.johnsnowlabs.com/2021/04/01/ner_posology_biobert_en.html)  | 20| [ner_posology_large_biobert](https://nlp.johnsnowlabs.com/2021/04/01/ner_posology_large_biobert_en.html)  |\n",
    "| 21| [ner_profiling_biobert](https://nlp.johnsnowlabs.com/2023/06/17/ner_profiling_biobert_en.html)  | 22| [ner_risk_factors_biobert](https://nlp.johnsnowlabs.com/2021/04/01/ner_risk_factors_biobert_en.html)  | 23| []()| 24| []()|\n",
    "\n",
    "\n",
    "- **BertForTokenClassification Clinical NER models**\n",
    "\n",
    "|index|model|index|model|index|model|index|model|\n",
    "|-----:|:-----|-----:|:-----|-----:|:-----|-----:|:-----|\n",
    "| 1| [bert_token_classifier_ade_tweet_binary](https://nlp.johnsnowlabs.com/2022/07/29/bert_token_classifier_ade_tweet_binary_en_3_0.html)  | 2| [bert_token_classifier_drug_development_trials](https://nlp.johnsnowlabs.com/2022/03/22/bert_token_classifier_drug_development_trials_en_2_4.html)  | 3| [bert_token_classifier_ner_ade](https://nlp.johnsnowlabs.com/2021/09/30/bert_token_classifier_ner_ade_en.html)  | 4| [bert_token_classifier_ner_ade_binary](https://nlp.johnsnowlabs.com/2022/07/27/bert_token_classifier_ner_ade_binary_en_3_0.html)  |\n",
    "| 5| [bert_token_classifier_ner_anatem](https://nlp.johnsnowlabs.com/2022/07/25/bert_token_classifier_ner_anatem_en_3_0.html)  | 6| [bert_token_classifier_ner_anatomy](https://nlp.johnsnowlabs.com/2021/09/30/bert_token_classifier_ner_anatomy_en.html)  | 7| [bert_token_classifier_ner_bacteria](https://nlp.johnsnowlabs.com/2021/09/30/bert_token_classifier_ner_bacteria_en.html)  | 8| [bert_token_classifier_ner_bc2gm_gene](https://nlp.johnsnowlabs.com/2022/07/25/bert_token_classifier_ner_bc2gm_gene_en_3_0.html)  |\n",
    "| 9| [bert_token_classifier_ner_bc4chemd_chemicals](https://nlp.johnsnowlabs.com/2022/07/25/bert_token_classifier_ner_bc4chemd_chemicals_en_3_0.html)  | 10| [bert_token_classifier_ner_bc5cdr_chemicals](https://nlp.johnsnowlabs.com/2022/07/25/bert_token_classifier_ner_bc5cdr_chemicals_en_3_0.html)  | 11| [bert_token_classifier_ner_bc5cdr_disease](https://nlp.johnsnowlabs.com/2022/07/25/bert_token_classifier_ner_bc5cdr_disease_en_3_0.html)  | 12| [bert_token_classifier_ner_bionlp](https://nlp.johnsnowlabs.com/2021/11/03/bert_token_classifier_ner_bionlp_en.html)  |\n",
    "| 13| [bert_token_classifier_ner_cellular](https://nlp.johnsnowlabs.com/2021/11/03/bert_token_classifier_ner_cellular_en.html)  | 14| [bert_token_classifier_ner_chemicals](https://nlp.johnsnowlabs.com/2021/10/19/bert_token_classifier_ner_chemicals_en.html)  | 15| [bert_token_classifier_ner_chemprot](https://nlp.johnsnowlabs.com/2021/10/19/bert_token_classifier_ner_chemprot_en.html)  | 16| [bert_token_classifier_ner_clinical](https://nlp.johnsnowlabs.com/2022/01/06/bert_token_classifier_ner_clinical_en.html)  |\n",
    "| 17| [bert_token_classifier_ner_clinical_trials_abstracts](https://nlp.johnsnowlabs.com/2022/06/29/bert_token_classifier_ner_clinical_trials_abstracts_en_3_0.html)  | 18| [bert_token_classifier_ner_deid](https://nlp.johnsnowlabs.com/2021/09/13/bert_token_classifier_ner_deid_en.html)  | 19| [bert_token_classifier_ner_drugs](https://nlp.johnsnowlabs.com/2021/09/20/bert_token_classifier_ner_drugs_en.html)  | 20| [bert_token_classifier_ner_jnlpba_cellular](https://nlp.johnsnowlabs.com/2022/07/25/bert_token_classifier_ner_jnlpba_cellular_en_3_0.html)  |\n",
    "| 21| [bert_token_classifier_ner_jsl](https://nlp.johnsnowlabs.com/2021/09/16/bert_token_classifier_ner_jsl_en.html)  | 22| [bert_token_classifier_ner_jsl_slim](https://nlp.johnsnowlabs.com/2021/09/24/bert_token_classifier_ner_jsl_slim_en.html)  | 23| [bert_token_classifier_ner_linnaeus_species](https://nlp.johnsnowlabs.com/2022/07/25/bert_token_classifier_ner_linnaeus_species_en_3_0.html)  | 24| [bert_token_classifier_ner_living_species](https://nlp.johnsnowlabs.com/2022/06/26/bert_token_classifier_ner_living_species_en_3_0.html)  |\n",
    "| 25| [bert_token_classifier_ner_ncbi_disease](https://nlp.johnsnowlabs.com/2022/07/25/bert_token_classifier_ner_ncbi_disease_en_3_0.html)  | 26| [bert_token_classifier_ner_pathogen](https://nlp.johnsnowlabs.com/2022/07/28/bert_token_classifier_ner_pathogen_en_3_0.html)  | 27| [bert_token_classifier_ner_species](https://nlp.johnsnowlabs.com/2022/07/25/bert_token_classifier_ner_species_en_3_0.html)  | 28| [bert_token_classifier_ner_supplement](https://nlp.johnsnowlabs.com/2022/02/09/bert_token_classifier_ner_supplement_en.html)  |\n",
    "\n",
    "\n",
    "\n",
    "\n",
    "\n",
    "\n",
    "**You can find all these models and more [NLP Models Hub](https://nlp.johnsnowlabs.com/models?task=Named+Entity+Recognition&edition=Spark+NLP+for+Healthcare)**"
   ]
  },
  {
   "cell_type": "markdown",
   "metadata": {
    "application/vnd.databricks.v1+cell": {
     "cellMetadata": {},
     "inputWidgets": {},
     "nuid": "6c99a3b9-6bb8-43c2-941f-94c01e99f643",
     "showTitle": false,
     "tableResultSettingsMap": {},
     "title": ""
    }
   },
   "source": [
    "**Also, you can print the list of clinical pretrained models/pipelines and annotators with one-line code:**"
   ]
  },
  {
   "cell_type": "code",
   "execution_count": 0,
   "metadata": {
    "application/vnd.databricks.v1+cell": {
     "cellMetadata": {
      "byteLimit": 2048000,
      "rowLimit": 10000
     },
     "inputWidgets": {},
     "nuid": "b72900ac-eee3-4e51-b799-c5039a568fd3",
     "showTitle": false,
     "tableResultSettingsMap": {},
     "title": ""
    }
   },
   "outputs": [
    {
     "output_type": "execute_result",
     "data": {
      "text/plain": [
       "[['nerdl_tumour_demo', 'en', '1.7.3'],\n",
       " ['nerdl_tumour_demo', 'en', '1.8.0'],\n",
       " ['nerdl_tumour_demo', 'en', '2.0.2'],\n",
       " ['ner_healthcare', 'en', '2.4.4'],\n",
       " ['ner_radiology', 'en', '2.7.0'],\n",
       " ['ner_deid_augmented', 'en', '2.7.1'],\n",
       " ['ner_deidentify_dl', 'en', '2.7.2'],\n",
       " ['ner_events_admission_clinical', 'en', '2.7.4'],\n",
       " ['ner_clinical', 'en', '3.0.0'],\n",
       " ['ner_radiology', 'en', '3.0.0'],\n",
       " ['ner_bionlp', 'en', '3.0.0'],\n",
       " ['ner_posology', 'en', '3.0.0'],\n",
       " ['ner_healthcare', 'de', '3.0.0'],\n",
       " ['ner_deid_augmented', 'en', '3.0.0'],\n",
       " ['ner_anatomy', 'en', '3.0.0'],\n",
       " ['ner_risk_factors', 'en', '3.0.0'],\n",
       " ['ner_chemprot_clinical', 'en', '3.0.0'],\n",
       " ['ner_posology_small', 'en', '3.0.0'],\n",
       " ['ner_diag_proc', 'es', '3.0.0'],\n",
       " ['ner_posology_greedy', 'en', '3.0.0'],\n",
       " ['ner_deid_enriched', 'en', '3.0.0'],\n",
       " ['ner_drugs_greedy', 'en', '3.0.0'],\n",
       " ['jsl_ner_wip_clinical', 'en', '3.0.0'],\n",
       " ['ner_posology_large', 'en', '3.0.0'],\n",
       " ['jsl_ner_wip_greedy_clinical', 'en', '3.0.0'],\n",
       " ['ner_clinical_large', 'en', '3.0.0'],\n",
       " ['ner_diseases', 'en', '3.0.0'],\n",
       " ['ner_aspect_based_sentiment', 'en', '3.0.0'],\n",
       " ['ner_cellular', 'en', '3.0.0'],\n",
       " ['ner_drugs', 'en', '3.0.0'],\n",
       " ['ner_jsl', 'en', '3.0.0'],\n",
       " ['ner_anatomy_coarse_biobert', 'en', '3.0.0'],\n",
       " ['ner_cancer_genetics', 'en', '3.0.0'],\n",
       " ['ner_drugs_large', 'en', '3.0.0'],\n",
       " ['ner_events_admission_clinical', 'en', '3.0.0'],\n",
       " ['ner_deidentify_dl', 'en', '3.0.0'],\n",
       " ['ner_deid_synthetic', 'en', '3.0.0'],\n",
       " ['ner_jsl_enriched', 'en', '3.0.0'],\n",
       " ['ner_deid_large', 'en', '3.0.0'],\n",
       " ['ner_human_phenotype_gene_clinical', 'en', '3.0.0'],\n",
       " ['ner_human_phenotype_go_clinical', 'en', '3.0.0'],\n",
       " ['ner_events_clinical', 'en', '3.0.0'],\n",
       " ['ner_legal', 'de', '3.0.0'],\n",
       " ['ner_anatomy_coarse', 'en', '3.0.0'],\n",
       " ['ner_traffic', 'de', '3.0.0'],\n",
       " ['ner_bionlp_biobert', 'en', '3.0.0'],\n",
       " ['ner_deid_sd_large', 'en', '3.0.0'],\n",
       " ['ner_healthcare_slim', 'de', '3.0.0'],\n",
       " ['ner_risk_factors_biobert', 'en', '3.0.0'],\n",
       " ['ner_posology_healthcare', 'en', '3.0.0'],\n",
       " ['ner_diseases_large', 'en', '3.0.0'],\n",
       " ['ner_ade_biobert', 'en', '3.0.0'],\n",
       " ['ner_jsl_enriched_biobert', 'en', '3.0.0'],\n",
       " ['ner_ade_healthcare', 'en', '3.0.0'],\n",
       " ['ner_deid_sd', 'en', '3.0.0'],\n",
       " ['ner_events_healthcare', 'en', '3.0.0'],\n",
       " ['ner_financial_contract', 'en', '3.0.0'],\n",
       " ['ner_chemprot_biobert', 'en', '3.0.0'],\n",
       " ['ner_ade_clinicalbert', 'en', '3.0.0'],\n",
       " ['ner_posology_large_biobert', 'en', '3.0.0'],\n",
       " ['ner_radiology_wip_clinical', 'en', '3.0.0'],\n",
       " ['ner_jsl_biobert', 'en', '3.0.0'],\n",
       " ['ner_clinical_biobert', 'en', '3.0.0'],\n",
       " ['ner_deid_enriched_biobert', 'en', '3.0.0'],\n",
       " ['ner_posology_biobert', 'en', '3.0.0'],\n",
       " ['ner_cellular_biobert', 'en', '3.0.0'],\n",
       " ['jsl_ner_wip_modifier_clinical', 'en', '3.0.0'],\n",
       " ['ner_measurements_clinical', 'en', '3.0.0'],\n",
       " ['ner_medmentions_coarse', 'en', '3.0.0'],\n",
       " ['ner_chemicals', 'en', '3.0.0'],\n",
       " ['ner_events_biobert', 'en', '3.0.0'],\n",
       " ['ner_bacterial_species', 'en', '3.0.0'],\n",
       " ['ner_diseases_biobert', 'en', '3.0.0'],\n",
       " ['ner_human_phenotype_gene_biobert', 'en', '3.0.0'],\n",
       " ['ner_deid_biobert', 'en', '3.0.0'],\n",
       " ['nerdl_tumour_demo', 'en', '3.0.0'],\n",
       " ['ner_human_phenotype_go_biobert', 'en', '3.0.0'],\n",
       " ['ner_anatomy_biobert', 'en', '3.0.0'],\n",
       " ['ner_ade_clinical', 'en', '3.0.0'],\n",
       " ['jsl_rd_ner_wip_greedy_clinical', 'en', '3.0.0'],\n",
       " ['ner_healthcare', 'en', '3.0.0'],\n",
       " ['ner_deid_generic_augmented', 'en', '3.0.3'],\n",
       " ['ner_deid_subentity_augmented', 'en', '3.0.3'],\n",
       " ['ner_deid_generic_glove', 'en', '3.0.4'],\n",
       " ['ner_deid_subentity_glove', 'en', '3.0.4'],\n",
       " ['ner_jsl', 'en', '3.1.0'],\n",
       " ['ner_genetic_variants', 'en', '3.1.0'],\n",
       " ['ner_deid_subentity_augmented', 'en', '3.1.0'],\n",
       " ['ner_deid_generic_augmented', 'en', '3.1.0'],\n",
       " ['lener_bert_base', 'pt', '3.1.2'],\n",
       " ['cantemist_scielowiki', 'es', '3.1.2'],\n",
       " ['jsl_ner_wip_greedy_biobert', 'en', '3.1.3'],\n",
       " ['jsl_rd_ner_wip_greedy_biobert', 'en', '3.1.3'],\n",
       " ['lener_bert_large', 'pt', '3.1.3'],\n",
       " ['lener_bert_base', 'pt', '3.1.3'],\n",
       " ['meddroprof_scielowiki', 'es', '3.1.3'],\n",
       " ['ner_jsl_greedy_biobert', 'en', '3.2.0'],\n",
       " ['ner_jsl_slim', 'en', '3.2.0'],\n",
       " ['ner_posology_experimental', 'en', '3.1.3'],\n",
       " ['ner_deid_subentity_augmented', 'en', '3.2.0'],\n",
       " ['ner_jsl_biobert', 'en', '3.2.0'],\n",
       " ['ner_chexpert', 'en', '3.3.0'],\n",
       " ['ner_jsl_enriched', 'en', '3.3.0'],\n",
       " ['ner_covid_trials', 'en', '3.3.2'],\n",
       " ['ner_chemd_clinical', 'en', '3.3.0'],\n",
       " ['roberta_ner_diag_proc', 'es', '3.3.0'],\n",
       " ['ner_nihss', 'en', '3.3.2'],\n",
       " ['ner_biomarker', 'en', '3.3.3'],\n",
       " ['ner_deid_subentity_augmented_i2b2', 'en', '3.3.2'],\n",
       " ['ner_drugprot_clinical', 'en', '3.3.3'],\n",
       " ['ner_abbreviation_clinical', 'en', '3.3.4'],\n",
       " ['ner_deid_generic', 'de', '3.3.4'],\n",
       " ['ner_deid_subentity', 'de', '3.3.4'],\n",
       " ['ner_deid_subentity_roberta', 'es', '3.3.4'],\n",
       " ['ner_deid_generic_roberta', 'es', '3.3.4'],\n",
       " ['ner_deid_generic', 'es', '3.3.4'],\n",
       " ['ner_deid_subentity', 'es', '3.3.4'],\n",
       " ['ner_supplement_clinical', 'en', '3.3.4'],\n",
       " ['ner_nature_nero_clinical', 'en', '3.3.4'],\n",
       " ['ner_deid_generic', 'fr', '3.4.1'],\n",
       " ['ner_deid_subentity', 'fr', '3.4.1'],\n",
       " ['ner_deid_generic_roberta_augmented', 'es', '3.3.4'],\n",
       " ['ner_deid_generic_augmented', 'es', '3.3.4'],\n",
       " ['ner_deid_subentity_augmented', 'es', '3.3.4'],\n",
       " ['ner_deid_subentity_roberta_augmented', 'es', '3.3.4'],\n",
       " ['ner_deid_subentity', 'it', '3.4.2'],\n",
       " ['ner_deid_generic', 'it', '3.4.2'],\n",
       " ['ner_deid_subentity', 'pt', '3.4.2'],\n",
       " ['ner_deid_generic', 'pt', '3.4.2'],\n",
       " ['ner_biomedical_bc2gm', 'en', '3.5.1'],\n",
       " ['ner_living_species', 'en', '3.5.3'],\n",
       " ['ner_living_species_roberta', 'pt', '3.5.3'],\n",
       " ['ner_living_species_bert', 'pt', '3.5.3'],\n",
       " ['ner_living_species', 'pt', '3.5.3'],\n",
       " ['ner_living_species', 'gl', '3.5.3'],\n",
       " ['ner_living_species', 'ca', '3.5.3'],\n",
       " ['ner_living_species_bert', 'ro', '3.5.3'],\n",
       " ['ner_living_species', 'fr', '3.5.3'],\n",
       " ['ner_living_species_bert', 'fr', '3.5.3'],\n",
       " ['ner_living_species', 'it', '3.5.3'],\n",
       " ['ner_living_species_bert', 'it', '3.5.3'],\n",
       " ['ner_living_species', 'es', '3.5.3'],\n",
       " ['ner_living_species_roberta', 'es', '3.5.3'],\n",
       " ['ner_living_species_bert', 'es', '3.5.3'],\n",
       " ['ner_living_species_biobert', 'en', '3.5.3'],\n",
       " ['ner_clinical_trials_abstracts', 'en', '3.5.3'],\n",
       " ['ner_deid_subentity_bert', 'ro', '4.0.0'],\n",
       " ['ner_deid_subentity', 'ro', '4.0.0'],\n",
       " ['ner_pathogen', 'en', '4.0.0'],\n",
       " ['ner_clinical_bert', 'ro', '4.0.0'],\n",
       " ['ner_clinical', 'ro', '4.0.0'],\n",
       " ['ner_deid_generic_bert', 'ro', '3.5.0'],\n",
       " ['ner_deid_generic', 'ro', '3.5.0'],\n",
       " ['ner_oncology_wip', 'en', '3.5.0'],\n",
       " ['ner_living_species_300', 'es', '3.5.0'],\n",
       " ['ner_ade_binary', 'en', '4.0.0'],\n",
       " ['ner_living_species_300', 'es', '4.0.0'],\n",
       " ['ner_clinical_bert', 'ro', '4.0.2'],\n",
       " ['ner_clinical_trials_abstracts', 'es', '4.0.2'],\n",
       " ['ner_pharmacology', 'es', '4.0.2'],\n",
       " ['ner_negation_uncertainty', 'es', '4.0.2'],\n",
       " ['disease_mentions_tweet', 'es', '4.0.2'],\n",
       " ['ner_deid_generic_bert', 'ro', '4.0.2'],\n",
       " ['ner_oncology_unspecific_posology_wip', 'en', '4.0.0'],\n",
       " ['ner_oncology_wip', 'en', '4.0.0'],\n",
       " ['ner_oncology_therapy_wip', 'en', '4.0.0'],\n",
       " ['ner_oncology_posology_wip', 'en', '4.0.0'],\n",
       " ['ner_oncology_anatomy_general_wip', 'en', '4.0.0'],\n",
       " ['ner_oncology_tnm_wip', 'en', '4.0.0'],\n",
       " ['ner_oncology_demographics_wip', 'en', '4.0.0'],\n",
       " ['ner_oncology_biomarker_wip', 'en', '4.0.0'],\n",
       " ['ner_oncology_anatomy_granular_wip', 'en', '4.0.0'],\n",
       " ['ner_oncology_test_wip', 'en', '4.0.0'],\n",
       " ['ner_oncology_diagnosis_wip', 'en', '4.0.0'],\n",
       " ['ner_oncology_response_to_treatment_wip', 'en', '4.0.0'],\n",
       " ['ner_jsl', 'en', '4.2.0'],\n",
       " ['ner_covid_trials', 'en', '4.2.0'],\n",
       " ['ner_oncology_unspecific_posology', 'en', '4.0.0'],\n",
       " ['ner_oncology', 'en', '4.0.0'],\n",
       " ['ner_oncology_tnm', 'en', '4.0.0'],\n",
       " ['ner_oncology_anatomy_general', 'en', '4.0.0'],\n",
       " ['ner_oncology_therapy', 'en', '4.0.0'],\n",
       " ['ner_oncology_test', 'en', '4.0.0'],\n",
       " ['ner_oncology_diagnosis', 'en', '4.0.0'],\n",
       " ['ner_oncology_demographics', 'en', '4.0.0'],\n",
       " ['ner_oncology_anatomy_granular', 'en', '4.0.0'],\n",
       " ['ner_oncology_response_to_treatment', 'en', '4.0.0'],\n",
       " ['ner_oncology_posology', 'en', '4.0.0'],\n",
       " ['ner_oncology_biomarker', 'en', '4.0.0'],\n",
       " ['ner_sdoh_slim_wip', 'en', '4.2.1'],\n",
       " ['ner_clinical_bert', 'ro', '4.2.2'],\n",
       " ['ner_living_species_300', 'es', '4.2.2'],\n",
       " ['ner_deid_generic_bert', 'ro', '4.2.2'],\n",
       " ['ner_oncology_biomarker', 'en', '4.2.2'],\n",
       " ['ner_oncology_response_to_treatment', 'en', '4.2.2'],\n",
       " ['ner_oncology_demographics', 'en', '4.2.2'],\n",
       " ['ner_oncology_therapy', 'en', '4.2.2'],\n",
       " ['ner_oncology', 'en', '4.2.2'],\n",
       " ['ner_oncology_anatomy_granular', 'en', '4.2.2'],\n",
       " ['ner_oncology_anatomy_general', 'en', '4.2.2'],\n",
       " ['ner_oncology_diagnosis', 'en', '4.2.2'],\n",
       " ['ner_oncology_tnm', 'en', '4.2.2'],\n",
       " ['ner_oncology_posology', 'en', '4.2.2'],\n",
       " ['ner_oncology_unspecific_posology', 'en', '4.2.2'],\n",
       " ['ner_oncology_test', 'en', '4.2.2'],\n",
       " ['meddroprof_scielowiki', 'es', '4.2.2'],\n",
       " ['ner_sdoh_mentions', 'en', '4.2.2'],\n",
       " ['ner_sdoh_mentions_test', 'en', '4.2.3'],\n",
       " ['ner_oncology_anatomy_general_healthcare', 'en', '4.2.4'],\n",
       " ['ner_oncology_biomarker_healthcare', 'en', '4.2.4'],\n",
       " ['ner_oncology_unspecific_posology_healthcare', 'en', '4.2.4'],\n",
       " ['ner_eu_clinical_case', 'en', '4.2.7'],\n",
       " ['ner_eu_clinical_case', 'eu', '4.2.8'],\n",
       " ['ner_eu_clinical_case', 'es', '4.2.8'],\n",
       " ['ner_eu_clinical_condition', 'es', '4.2.8'],\n",
       " ['ner_eu_clinical_condition', 'eu', '4.2.8'],\n",
       " ['ner_eu_clinical_condition', 'fr', '4.2.8'],\n",
       " ['ner_eu_clinical_condition', 'en', '4.2.8'],\n",
       " ['ner_eu_clinical_case', 'fr', '4.2.8'],\n",
       " ['ner_eu_clinical_condition', 'it', '4.2.8'],\n",
       " ['ner_sdoh_demographics_wip', 'en', '4.2.8'],\n",
       " ['ner_sdoh_social_environment_wip', 'en', '4.2.8'],\n",
       " ['ner_sdoh_income_social_status_wip', 'en', '4.2.8'],\n",
       " ['ner_sdoh_wip', 'en', '4.2.8'],\n",
       " ['ner_sdoh_substance_usage_wip', 'en', '4.3.1'],\n",
       " ['ner_sdoh_access_to_healthcare_wip', 'en', '4.3.1'],\n",
       " ['ner_sdoh_community_condition_wip', 'en', '4.3.1'],\n",
       " ['ner_sdoh_health_behaviours_problems_wip', 'en', '4.3.1'],\n",
       " ['ner_vop_slim_wip', 'en', '4.2.4'],\n",
       " ['ner_jsl_limited_80p_for_benchmarks', 'en', '4.3.2'],\n",
       " ['ner_vop_wip', 'en', '4.4.0'],\n",
       " ['ner_oncology_limited_80p_for_benchmarks', 'en', '4.3.2'],\n",
       " ['ner_vop_emb_clinical_medium_wip', 'en', '4.4.0'],\n",
       " ['ner_vop_emb_clinical_large_wip', 'en', '4.4.0'],\n",
       " ['ner_oncology_emb_clinical_large', 'en', '4.3.2'],\n",
       " ['ner_oncology_emb_clinical_medium', 'en', '4.3.2'],\n",
       " ['ner_deid_large_emb_clinical_medium', 'en', '4.3.2'],\n",
       " ['ner_posology_emb_clinical_medium', 'en', '4.3.2'],\n",
       " ['ner_deid_large_emb_clinical_large', 'en', '4.3.2'],\n",
       " ['ner_posology_emb_clinical_large', 'en', '4.3.2'],\n",
       " ['ner_jsl_emb_clinical_medium', 'en', '4.3.2'],\n",
       " ['ner_jsl_emb_clinical_large', 'en', '4.3.2'],\n",
       " ['ner_sdoh_emb_clinical_large_wip', 'en', '4.3.2'],\n",
       " ['ner_sdoh_emb_clinical_medium_wip', 'en', '4.3.2'],\n",
       " ['ner_vop_treatment_wip', 'en', '4.4.0'],\n",
       " ['ner_vop_problem_wip', 'en', '4.4.0'],\n",
       " ['ner_vop_problem_reduced_wip', 'en', '4.4.0'],\n",
       " ['ner_vop_temporal_wip', 'en', '4.4.0'],\n",
       " ['ner_vop_anatomy_wip', 'en', '4.4.0'],\n",
       " ['ner_vop_clinical_dept_wip', 'en', '4.4.0'],\n",
       " ['ner_vop_demographic_wip', 'en', '4.4.0'],\n",
       " ['ner_vop_test_wip', 'en', '4.4.0'],\n",
       " ['ner_clinical', 'de', '4.4.0'],\n",
       " ['ner_abbreviation_emb_clinical_large', 'en', '4.4.1'],\n",
       " ['ner_abbreviation_emb_clinical_medium', 'en', '4.4.1'],\n",
       " ['ner_anatomy_emb_clinical_medium', 'en', '4.4.1'],\n",
       " ['ner_anatomy_emb_clinical_large', 'en', '4.4.2'],\n",
       " ['ner_cellular_emb_clinical_large', 'en', '4.4.2'],\n",
       " ['ner_cellular_emb_clinical_medium', 'en', '4.4.2'],\n",
       " ['ner_ade_emb_clinical_large', 'en', '4.4.2'],\n",
       " ['ner_ade_emb_clinical_medium', 'en', '4.4.2'],\n",
       " ['ner_bacterial_species_emb_clinical_large', 'en', '4.4.2'],\n",
       " ['ner_bacterial_species_emb_clinical_medium', 'en', '4.4.2'],\n",
       " ['ner_vop_treatment_wip', 'en', '4.4.2'],\n",
       " ['ner_vop_clinical_dept_wip', 'en', '4.4.2'],\n",
       " ['ner_vop_wip_emb_clinical_large', 'en', '4.4.2'],\n",
       " ['ner_vop_wip_emb_clinical_medium', 'en', '4.4.2'],\n",
       " ['ner_vop_problem_reduced_wip', 'en', '4.4.2'],\n",
       " ['ner_vop_test_wip', 'en', '4.4.2'],\n",
       " ['ner_vop_wip', 'en', '4.4.2'],\n",
       " ['ner_vop_problem_wip', 'en', '4.4.2'],\n",
       " ['ner_vop_anatomy_wip', 'en', '4.4.2'],\n",
       " ['ner_vop_demographic_wip', 'en', '4.4.2'],\n",
       " ['ner_vop_temporal_wip', 'en', '4.4.2'],\n",
       " ['ner_deid_generic', 'ar', '4.4.2'],\n",
       " ['ner_deid_subentity', 'ar', '4.4.2'],\n",
       " ['ner_chemicals_emb_clinical_medium', 'en', '4.4.3'],\n",
       " ['ner_chemicals_emb_clinical_large', 'en', '4.4.3'],\n",
       " ['ner_vop_problem_emb_clinical_medium', 'en', '4.4.3'],\n",
       " ['ner_vop_treatment_emb_clinical_medium', 'en', '4.4.3'],\n",
       " ['ner_vop_temporal_emb_clinical_large_final', 'en', '4.4.3'],\n",
       " ['ner_vop_temporal', 'en', '4.4.3'],\n",
       " ['ner_vop_clinical_dept_emb_clinical_large', 'en', '4.4.3'],\n",
       " ['ner_vop_emb_clinical_medium', 'en', '4.4.3'],\n",
       " ['ner_vop_demographic_emb_clinical_large', 'en', '4.4.3'],\n",
       " ['ner_vop_demographic_emb_clinical_medium', 'en', '4.4.3'],\n",
       " ['ner_vop_test_emb_clinical_large', 'en', '4.4.3'],\n",
       " ['ner_vop_anatomy', 'en', '4.4.3'],\n",
       " ['ner_vop_test_emb_clinical_medium', 'en', '4.4.3'],\n",
       " ['ner_vop_problem_reduced', 'en', '4.4.3'],\n",
       " ['ner_vop_test', 'en', '4.4.3'],\n",
       " ['ner_vop_demographic', 'en', '4.4.3'],\n",
       " ['ner_vop_treatment_emb_clinical_large', 'en', '4.4.3'],\n",
       " ['ner_vop_emb_clinical_large', 'en', '4.4.3'],\n",
       " ['ner_vop_problem_emb_clinical_large', 'en', '4.4.3'],\n",
       " ['ner_vop_treatment', 'en', '4.4.3'],\n",
       " ['ner_vop_problem_reduced_emb_clinical_large', 'en', '4.4.3'],\n",
       " ['ner_vop', 'en', '4.4.3'],\n",
       " ['ner_vop_anatomy_emb_clinical_medium', 'en', '4.4.3'],\n",
       " ['ner_vop_problem_reduced_emb_clinical_medium', 'en', '4.4.3'],\n",
       " ['ner_vop_clinical_dept', 'en', '4.4.3'],\n",
       " ['ner_vop_problem', 'en', '4.4.3'],\n",
       " ['ner_vop_clinical_dept_emb_clinical_medium', 'en', '4.4.3'],\n",
       " ['ner_vop_anatomy_emb_clinical_large', 'en', '4.4.3'],\n",
       " ['ner_vop_temporal_emb_clinical_medium', 'en', '4.4.3'],\n",
       " ['ner_demographic_extended_healthcare', 'en', '4.4.3'],\n",
       " ['ner_sdoh', 'en', '4.4.3'],\n",
       " ['ner_sdoh_substance_usage', 'en', '4.4.4'],\n",
       " ['ner_sdoh_health_behaviours_problems', 'en', '4.4.4'],\n",
       " ['ner_sdoh_demographics', 'en', '4.4.4'],\n",
       " ['ner_sdoh_income_social_status', 'en', '4.4.4'],\n",
       " ['ner_sdoh_social_environment', 'en', '4.4.4'],\n",
       " ['ner_sdoh_access_to_healthcare', 'en', '4.4.4'],\n",
       " ['ner_sdoh_community_condition', 'en', '4.4.4'],\n",
       " ['ner_clinical', 'nl', '4.4.4'],\n",
       " ['ner_ade_clinical_langtest', 'en', '5.0.0'],\n",
       " ['ner_sdoh_langtest', 'en', '5.0.0'],\n",
       " ['ner_jsl_langtest', 'en', '5.0.0'],\n",
       " ['ner_posology_langtest', 'en', '5.0.0'],\n",
       " ['ner_section_header_diagnosis', 'en', '5.0.0'],\n",
       " ['ner_clinical', 'pt', '5.0.1'],\n",
       " ['ner_clinical', 'es', '5.0.1'],\n",
       " ['ner_clinical', 'it', '5.0.1'],\n",
       " ['ner_clinical', 'pl', '5.0.2'],\n",
       " ['ner_clinical', 'tr', '5.0.2'],\n",
       " ['ner_clinical', 'fr', '5.0.1'],\n",
       " ['ner_oncology_demographics_langtest', 'en', '5.0.2'],\n",
       " ['ner_oncology_anatomy_general_langtest', 'en', '5.0.2'],\n",
       " ['ner_events_clinical_langtest', 'en', '5.0.2'],\n",
       " ['ner_oncology_anatomy_granular_langtest', 'en', '5.0.2'],\n",
       " ['ner_oncology_posology_langtest', 'en', '5.0.2'],\n",
       " ['ner_oncology_response_to_treatment_langtest', 'en', '5.0.2'],\n",
       " ['ner_deid_camelbert_generic', 'ar', '5.1.0'],\n",
       " ['ner_deid_generic_camelbert', 'ar', '5.1.0'],\n",
       " ['ner_deid_subentity_arabert', 'ar', '5.1.0'],\n",
       " ['ner_deid_generic_arabert', 'ar', '5.1.0'],\n",
       " ['ner_clinical', 'ja', '5.1.0'],\n",
       " ['ner_clinical', 'vi', '5.1.0'],\n",
       " ['ner_clinical', 'no', '5.1.0'],\n",
       " ['ner_clinical', 'da', '5.1.0'],\n",
       " ['ner_clinical', 'sv', '5.1.0'],\n",
       " ['ner_deid_subentity_camelbert', 'ar', '5.1.0'],\n",
       " ['ner_vop_anatomy_langtest', 'en', '5.1.0'],\n",
       " ['ner_oncology_biomarker_langtest', 'en', '5.1.0'],\n",
       " ['ner_vop_demographic_langtest', 'en', '5.1.0'],\n",
       " ['ner_vop_treatment_langtest', 'en', '5.1.0'],\n",
       " ['ner_vop_test_langtest', 'en', '5.1.0'],\n",
       " ['ner_oncology_tnm_langtest', 'en', '5.1.0'],\n",
       " ['ner_vop_temporal_langtest', 'en', '5.1.0'],\n",
       " ['ner_oncology_therapy_langtest', 'en', '5.1.0'],\n",
       " ['ner_oncology_test_langtest', 'en', '5.1.0'],\n",
       " ['ner_oncology_unspecific_posology_langtest', 'en', '5.1.0'],\n",
       " ['ner_eu_clinical_condition_langtest', 'en', '5.1.0'],\n",
       " ['ner_vop_problem_langtest', 'en', '5.1.0'],\n",
       " ['ner_vop_clinical_dept_langtest', 'en', '5.1.0'],\n",
       " ['ner_oncology_diagnosis_langtest', 'en', '5.1.0'],\n",
       " ['ner_vop_problem_reduced_langtest', 'en', '5.1.0'],\n",
       " ['ner_deid_subentity_augmented_langtest', 'en', '5.1.0'],\n",
       " ['ner_deid_generic_augmented_langtest', 'en', '5.1.0'],\n",
       " ['ner_clinical_langtest', 'en', '5.1.0'],\n",
       " ['ner_clinical', 'ar', '5.1.1'],\n",
       " ['ner_clinical', 'bg', '5.1.1'],\n",
       " ['ner_clinical', 'fi', '5.1.1'],\n",
       " ['ner_biomarker_langtest', 'en', '5.1.1'],\n",
       " ['ner_bionlp_langtest', 'en', '5.1.1'],\n",
       " ['ner_diseases_langtest', 'en', '5.1.1'],\n",
       " ['ner_deid_large_langtest', 'en', '5.1.1'],\n",
       " ['ner_cellular_langtest', 'en', '5.1.1'],\n",
       " ['ner_bacterial_species_langtest', 'en', '5.1.1'],\n",
       " ['ner_chemprot_clinical_langtest', 'en', '5.1.1'],\n",
       " ['ner_deid_enriched_langtest', 'en', '5.1.1'],\n",
       " ['ner_deid_generic_augmented_allUpperCased_langtest', 'en', '5.1.1'],\n",
       " ['ner_clinical_large_langtest', 'en', '5.1.1'],\n",
       " ['ner_living_species_langtest', 'en', '5.1.1'],\n",
       " ['ner_vop_langtest', 'en', '5.1.1'],\n",
       " ['ner_oncology_langtest', 'en', '5.1.1'],\n",
       " ['ner_clinical', 'he', '5.1.1'],\n",
       " ['ner_human_phenotype_go_clinical_langtest', 'en', '5.1.1'],\n",
       " ['ner_risk_factors_langtest', 'en', '5.1.1'],\n",
       " ['ner_human_phenotype_gene_clinical_langtest', 'en', '5.1.1'],\n",
       " ['ner_opioid_small_wip', 'en', '5.2.0'],\n",
       " ['ner_deid_name_multilingual', 'xx', '5.2.1'],\n",
       " ['ner_clinical_abbreviation_langtest', 'en', '5.2.1'],\n",
       " ['ner_deid_multilingual', 'xx', '5.2.1'],\n",
       " ['ner_deid_name_multilingual_clinical', 'xx', '5.2.1'],\n",
       " ['ner_snomed_term', 'en', '5.2.1'],\n",
       " ['ner_opioid', 'en', '5.2.1'],\n",
       " ['ner_deid_name_multilingual_clinical_langtest', 'xx', '5.3.0'],\n",
       " ['ner_opioid', 'en', '5.3.0'],\n",
       " ['ner_sdoh_core', 'en', '5.3.1'],\n",
       " ['ner_vop_v2', 'en', '5.3.3'],\n",
       " ['ner_sdoh_social_environment_wip', 'en', '5.3.3'],\n",
       " ['ner_oncology_wip', 'en', '5.3.3'],\n",
       " ['ner_sdoh_slim_wip', 'en', '5.3.3'],\n",
       " ['ner_sdoh_community_condition_wip', 'en', '5.3.3'],\n",
       " ['ner_sdoh_health_behaviours_problems_wip', 'en', '5.3.3'],\n",
       " ['ner_sdoh_demographics_wip', 'en', '5.3.3'],\n",
       " ['ner_sdoh_access_to_healthcare_wip', 'en', '5.3.3'],\n",
       " ['ner_sdoh_income_social_status_wip', 'en', '5.3.3'],\n",
       " ['ner_sdoh_substance_usage_wip', 'en', '5.3.3'],\n",
       " ['ner_sdoh_wip', 'en', '5.3.3'],\n",
       " ['ner_alcohol_smoking', 'en', '5.3.3'],\n",
       " ['ner_menopause_core', 'en', '5.3.3'],\n",
       " ['ner_cancer_types_wip', 'en', '5.4.0'],\n",
       " ['ner_stigmatization_wip', 'en', '5.4.0'],\n",
       " ['ner_stigmatization_wip', 'en', '5.4.1'],\n",
       " ['ner_ade_clinical_v2', 'en', '5.4.1'],\n",
       " ['ner_deid_subentity_augmented_docwise', 'en', '5.4.1'],\n",
       " ['ner_deid_generic_docwise', 'en', '5.4.1'],\n",
       " ['ner_deid_subentity_docwise', 'en', '5.4.1'],\n",
       " ['ner_deid_subentity_augmented_v2', 'en', '5.4.1'],\n",
       " ['ner_deid_aipii', 'en', '5.4.1'],\n",
       " ['ner_deid_subentity_langtest', 'de', '5.5.0'],\n",
       " ['ner_deid_generic_docwise', 'de', '5.5.0'],\n",
       " ['ner_genes_phenotypes_wip', 'en', '5.5.1']]"
      ]
     },
     "execution_count": 3,
     "metadata": {},
     "output_type": "execute_result"
    }
   ],
   "source": [
    "# pipelines = InternalResourceDownloader.returnPrivatePipelines()\n",
    "ner_models = medical.InternalResourceDownloader.returnPrivateModels(\"MedicalNerModel\")\n",
    "ner_models"
   ]
  },
  {
   "cell_type": "code",
   "execution_count": 0,
   "metadata": {
    "application/vnd.databricks.v1+cell": {
     "cellMetadata": {
      "byteLimit": 2048000,
      "rowLimit": 10000
     },
     "inputWidgets": {},
     "nuid": "7f52b323-99f1-47ed-8cbd-afca6d099107",
     "showTitle": false,
     "tableResultSettingsMap": {},
     "title": ""
    }
   },
   "outputs": [
    {
     "output_type": "execute_result",
     "data": {
      "text/html": [
       "<div>\n",
       "<style scoped>\n",
       "    .dataframe tbody tr th:only-of-type {\n",
       "        vertical-align: middle;\n",
       "    }\n",
       "\n",
       "    .dataframe tbody tr th {\n",
       "        vertical-align: top;\n",
       "    }\n",
       "\n",
       "    .dataframe thead th {\n",
       "        text-align: right;\n",
       "    }\n",
       "</style>\n",
       "<table border=\"1\" class=\"dataframe\">\n",
       "  <thead>\n",
       "    <tr style=\"text-align: right;\">\n",
       "      <th></th>\n",
       "      <th>name</th>\n",
       "      <th>sparkVersion</th>\n",
       "      <th>version</th>\n",
       "      <th>language</th>\n",
       "      <th>date</th>\n",
       "      <th>readyToUse</th>\n",
       "    </tr>\n",
       "  </thead>\n",
       "  <tbody>\n",
       "    <tr>\n",
       "      <th>0</th>\n",
       "      <td>nerdl_tumour_demo</td>\n",
       "      <td>2</td>\n",
       "      <td>1.7.3</td>\n",
       "      <td>en</td>\n",
       "      <td>2018-12-19T16:52:37.735</td>\n",
       "      <td>true</td>\n",
       "    </tr>\n",
       "    <tr>\n",
       "      <th>1</th>\n",
       "      <td>nercrf_tumour_demo</td>\n",
       "      <td>2</td>\n",
       "      <td>1.7.3</td>\n",
       "      <td>en</td>\n",
       "      <td>2018-12-19T17:23:53.776</td>\n",
       "      <td>true</td>\n",
       "    </tr>\n",
       "    <tr>\n",
       "      <th>2</th>\n",
       "      <td>nerdl_tumour_demo</td>\n",
       "      <td>2.4</td>\n",
       "      <td>1.8.0</td>\n",
       "      <td>en</td>\n",
       "      <td>2018-12-22T04:21:25.574</td>\n",
       "      <td>true</td>\n",
       "    </tr>\n",
       "    <tr>\n",
       "      <th>3</th>\n",
       "      <td>nercrf_tumour_demo</td>\n",
       "      <td>2.4</td>\n",
       "      <td>1.8.0</td>\n",
       "      <td>en</td>\n",
       "      <td>2018-12-22T04:46:26.992</td>\n",
       "      <td>true</td>\n",
       "    </tr>\n",
       "    <tr>\n",
       "      <th>4</th>\n",
       "      <td>nercrf_tumour_demo</td>\n",
       "      <td>2.4</td>\n",
       "      <td>2.0.2</td>\n",
       "      <td>en</td>\n",
       "      <td>2019-05-21T18:23:13.066</td>\n",
       "      <td>true</td>\n",
       "    </tr>\n",
       "    <tr>\n",
       "      <th>...</th>\n",
       "      <td>...</td>\n",
       "      <td>...</td>\n",
       "      <td>...</td>\n",
       "      <td>...</td>\n",
       "      <td>...</td>\n",
       "      <td>...</td>\n",
       "    </tr>\n",
       "    <tr>\n",
       "      <th>1844</th>\n",
       "      <td>zeroshot_ner_ade_clinical_large</td>\n",
       "      <td>3.0</td>\n",
       "      <td>5.5.1</td>\n",
       "      <td>en</td>\n",
       "      <td>2024-12-02T14:16:04.132</td>\n",
       "      <td>true</td>\n",
       "    </tr>\n",
       "    <tr>\n",
       "      <th>1845</th>\n",
       "      <td>ner_genes_phenotypes_wip</td>\n",
       "      <td>3.0</td>\n",
       "      <td>5.5.1</td>\n",
       "      <td>en</td>\n",
       "      <td>2024-12-04T13:03:27.640</td>\n",
       "      <td>true</td>\n",
       "    </tr>\n",
       "    <tr>\n",
       "      <th>1846</th>\n",
       "      <td>sbiobertresolve_umls_general_concepts</td>\n",
       "      <td>3.0</td>\n",
       "      <td>5.5.1</td>\n",
       "      <td>en</td>\n",
       "      <td>2024-12-05T15:40:29.530</td>\n",
       "      <td>true</td>\n",
       "    </tr>\n",
       "    <tr>\n",
       "      <th>1847</th>\n",
       "      <td>zeroshot_ner_oncology_biomarker_large</td>\n",
       "      <td>3.0</td>\n",
       "      <td>5.5.1</td>\n",
       "      <td>en</td>\n",
       "      <td>2024-12-13T09:51:53.480</td>\n",
       "      <td>true</td>\n",
       "    </tr>\n",
       "    <tr>\n",
       "      <th>1848</th>\n",
       "      <td>zeroshot_ner_oncology_biomarker_medium</td>\n",
       "      <td>3.0</td>\n",
       "      <td>5.5.1</td>\n",
       "      <td>en</td>\n",
       "      <td>2024-12-13T09:08:23.845</td>\n",
       "      <td>true</td>\n",
       "    </tr>\n",
       "  </tbody>\n",
       "</table>\n",
       "<p>1849 rows × 6 columns</p>\n",
       "</div>"
      ],
      "text/plain": [
       "                                        name sparkVersion version language                     date readyToUse\n",
       "0                          nerdl_tumour_demo            2   1.7.3       en  2018-12-19T16:52:37.735       true\n",
       "1                         nercrf_tumour_demo            2   1.7.3       en  2018-12-19T17:23:53.776       true\n",
       "2                          nerdl_tumour_demo          2.4   1.8.0       en  2018-12-22T04:21:25.574       true\n",
       "3                         nercrf_tumour_demo          2.4   1.8.0       en  2018-12-22T04:46:26.992       true\n",
       "4                         nercrf_tumour_demo          2.4   2.0.2       en  2019-05-21T18:23:13.066       true\n",
       "...                                      ...          ...     ...      ...                      ...        ...\n",
       "1844         zeroshot_ner_ade_clinical_large          3.0   5.5.1       en  2024-12-02T14:16:04.132       true\n",
       "1845                ner_genes_phenotypes_wip          3.0   5.5.1       en  2024-12-04T13:03:27.640       true\n",
       "1846   sbiobertresolve_umls_general_concepts          3.0   5.5.1       en  2024-12-05T15:40:29.530       true\n",
       "1847   zeroshot_ner_oncology_biomarker_large          3.0   5.5.1       en  2024-12-13T09:51:53.480       true\n",
       "1848  zeroshot_ner_oncology_biomarker_medium          3.0   5.5.1       en  2024-12-13T09:08:23.845       true\n",
       "\n",
       "[1849 rows x 6 columns]"
      ]
     },
     "execution_count": 4,
     "metadata": {},
     "output_type": "execute_result"
    }
   ],
   "source": [
    "compatibility = medical.Compatibility(spark)\n",
    "\n",
    "models = compatibility.findVersion('ner') \n",
    "\n",
    "models_df = pd.DataFrame([dict(x) for x in list(models)])\n",
    "models_df"
   ]
  },
  {
   "cell_type": "code",
   "execution_count": 0,
   "metadata": {
    "application/vnd.databricks.v1+cell": {
     "cellMetadata": {
      "byteLimit": 2048000,
      "rowLimit": 10000
     },
     "inputWidgets": {},
     "nuid": "77e905a6-05b3-49ff-bca2-b240fa25b697",
     "showTitle": false,
     "tableResultSettingsMap": {},
     "title": ""
    }
   },
   "outputs": [
    {
     "output_type": "execute_result",
     "data": {
      "text/html": [
       "<div>\n",
       "<style scoped>\n",
       "    .dataframe tbody tr th:only-of-type {\n",
       "        vertical-align: middle;\n",
       "    }\n",
       "\n",
       "    .dataframe tbody tr th {\n",
       "        vertical-align: top;\n",
       "    }\n",
       "\n",
       "    .dataframe thead th {\n",
       "        text-align: right;\n",
       "    }\n",
       "</style>\n",
       "<table border=\"1\" class=\"dataframe\">\n",
       "  <thead>\n",
       "    <tr style=\"text-align: right;\">\n",
       "      <th></th>\n",
       "      <th>name</th>\n",
       "      <th>sparkVersion</th>\n",
       "      <th>version</th>\n",
       "      <th>language</th>\n",
       "      <th>date</th>\n",
       "      <th>readyToUse</th>\n",
       "    </tr>\n",
       "  </thead>\n",
       "  <tbody>\n",
       "    <tr>\n",
       "      <th>0</th>\n",
       "      <td>ner_oncology_wip</td>\n",
       "      <td>3.0</td>\n",
       "      <td>3.5.0</td>\n",
       "      <td>en</td>\n",
       "      <td>2022-07-25T17:48:26.053</td>\n",
       "      <td>true</td>\n",
       "    </tr>\n",
       "    <tr>\n",
       "      <th>1</th>\n",
       "      <td>ner_oncology_unspecific_posology_wip</td>\n",
       "      <td>3.0</td>\n",
       "      <td>4.0.0</td>\n",
       "      <td>en</td>\n",
       "      <td>2022-09-30T18:49:12.336</td>\n",
       "      <td>true</td>\n",
       "    </tr>\n",
       "    <tr>\n",
       "      <th>2</th>\n",
       "      <td>ner_oncology_wip</td>\n",
       "      <td>3.0</td>\n",
       "      <td>4.0.0</td>\n",
       "      <td>en</td>\n",
       "      <td>2022-09-30T16:54:45.893</td>\n",
       "      <td>true</td>\n",
       "    </tr>\n",
       "    <tr>\n",
       "      <th>3</th>\n",
       "      <td>ner_oncology_therapy_wip</td>\n",
       "      <td>3.0</td>\n",
       "      <td>4.0.0</td>\n",
       "      <td>en</td>\n",
       "      <td>2022-09-30T17:12:16.894</td>\n",
       "      <td>true</td>\n",
       "    </tr>\n",
       "    <tr>\n",
       "      <th>4</th>\n",
       "      <td>ner_oncology_posology_wip</td>\n",
       "      <td>3.0</td>\n",
       "      <td>4.0.0</td>\n",
       "      <td>en</td>\n",
       "      <td>2022-10-01T04:46:44.423</td>\n",
       "      <td>true</td>\n",
       "    </tr>\n",
       "    <tr>\n",
       "      <th>...</th>\n",
       "      <td>...</td>\n",
       "      <td>...</td>\n",
       "      <td>...</td>\n",
       "      <td>...</td>\n",
       "      <td>...</td>\n",
       "      <td>...</td>\n",
       "    </tr>\n",
       "    <tr>\n",
       "      <th>140</th>\n",
       "      <td>ner_oncology_wip</td>\n",
       "      <td>3.0</td>\n",
       "      <td>5.3.3</td>\n",
       "      <td>en</td>\n",
       "      <td>2024-06-10T10:51:10.810</td>\n",
       "      <td>true</td>\n",
       "    </tr>\n",
       "    <tr>\n",
       "      <th>141</th>\n",
       "      <td>zeroshot_ner_oncology_medium</td>\n",
       "      <td>3.0</td>\n",
       "      <td>5.5.1</td>\n",
       "      <td>en</td>\n",
       "      <td>2024-11-27T23:28:34.892</td>\n",
       "      <td>true</td>\n",
       "    </tr>\n",
       "    <tr>\n",
       "      <th>142</th>\n",
       "      <td>zeroshot_ner_oncology_large</td>\n",
       "      <td>3.0</td>\n",
       "      <td>5.5.1</td>\n",
       "      <td>en</td>\n",
       "      <td>2024-11-28T20:25:27.391</td>\n",
       "      <td>true</td>\n",
       "    </tr>\n",
       "    <tr>\n",
       "      <th>143</th>\n",
       "      <td>zeroshot_ner_oncology_biomarker_large</td>\n",
       "      <td>3.0</td>\n",
       "      <td>5.5.1</td>\n",
       "      <td>en</td>\n",
       "      <td>2024-12-13T09:51:53.480</td>\n",
       "      <td>true</td>\n",
       "    </tr>\n",
       "    <tr>\n",
       "      <th>144</th>\n",
       "      <td>zeroshot_ner_oncology_biomarker_medium</td>\n",
       "      <td>3.0</td>\n",
       "      <td>5.5.1</td>\n",
       "      <td>en</td>\n",
       "      <td>2024-12-13T09:08:23.845</td>\n",
       "      <td>true</td>\n",
       "    </tr>\n",
       "  </tbody>\n",
       "</table>\n",
       "<p>145 rows × 6 columns</p>\n",
       "</div>"
      ],
      "text/plain": [
       "                                       name sparkVersion version language                     date readyToUse\n",
       "0                          ner_oncology_wip          3.0   3.5.0       en  2022-07-25T17:48:26.053       true\n",
       "1      ner_oncology_unspecific_posology_wip          3.0   4.0.0       en  2022-09-30T18:49:12.336       true\n",
       "2                          ner_oncology_wip          3.0   4.0.0       en  2022-09-30T16:54:45.893       true\n",
       "3                  ner_oncology_therapy_wip          3.0   4.0.0       en  2022-09-30T17:12:16.894       true\n",
       "4                 ner_oncology_posology_wip          3.0   4.0.0       en  2022-10-01T04:46:44.423       true\n",
       "..                                      ...          ...     ...      ...                      ...        ...\n",
       "140                        ner_oncology_wip          3.0   5.3.3       en  2024-06-10T10:51:10.810       true\n",
       "141            zeroshot_ner_oncology_medium          3.0   5.5.1       en  2024-11-27T23:28:34.892       true\n",
       "142             zeroshot_ner_oncology_large          3.0   5.5.1       en  2024-11-28T20:25:27.391       true\n",
       "143   zeroshot_ner_oncology_biomarker_large          3.0   5.5.1       en  2024-12-13T09:51:53.480       true\n",
       "144  zeroshot_ner_oncology_biomarker_medium          3.0   5.5.1       en  2024-12-13T09:08:23.845       true\n",
       "\n",
       "[145 rows x 6 columns]"
      ]
     },
     "execution_count": 5,
     "metadata": {},
     "output_type": "execute_result"
    }
   ],
   "source": [
    "# find oncology NER models\n",
    "\n",
    "models = compatibility.findVersion(\"ner_oncology\")\n",
    "\n",
    "models_df = pd.DataFrame([dict(x) for x in list(models)])\n",
    "models_df"
   ]
  },
  {
   "cell_type": "markdown",
   "metadata": {
    "application/vnd.databricks.v1+cell": {
     "cellMetadata": {
      "byteLimit": 2048000,
      "rowLimit": 10000
     },
     "inputWidgets": {},
     "nuid": "50fc7c44-777d-4b93-9f57-d5e588c7aa1a",
     "showTitle": false,
     "tableResultSettingsMap": {},
     "title": ""
    }
   },
   "source": [
    "Clinical NER Pipeline (with pretrained models)"
   ]
  },
  {
   "cell_type": "code",
   "execution_count": 0,
   "metadata": {
    "application/vnd.databricks.v1+cell": {
     "cellMetadata": {
      "byteLimit": 2048000,
      "rowLimit": 10000
     },
     "inputWidgets": {},
     "nuid": "33d09296-d6b7-4053-ab34-fb3e9487d51b",
     "showTitle": false,
     "tableResultSettingsMap": {},
     "title": ""
    }
   },
   "outputs": [
    {
     "output_type": "stream",
     "name": "stdout",
     "output_type": "stream",
     "text": [
      "sentence_detector_dl_healthcare download started this may take some time.\nApproximate size to download 367.3 KB\n\r[ | ]\r[ / ]\r[ — ]\r[ \\ ]\r[ | ]\r[ / ]\r[ — ]\r[ \\ ]\r[ | ]\r[ / ]\r[ — ]\r[ \\ ]\r[OK!]\nembeddings_clinical download started this may take some time.\nApproximate size to download 1.6 GB\n\r[ | ]\r[ / ]\r[ — ]\r[ \\ ]\r[ | ]\r[ / ]\r[ — ]\r[ \\ ]\r[ | ]\r[ / ]\r[ — ]\r[ \\ ]\r[ | ]\r[ / ]\r[ — ]\r[ \\ ]\r[ | ]\r[ / ]\r[ — ]\r[ \\ ]\r[ | ]\r[ / ]\r[ — ]\r[ \\ ]\r[ | ]\r[ / ]\r[ — ]\r[ \\ ]\r[ | ]\r[ / ]\r[ — ]\r[ \\ ]\r[ | ]\r[ / ]\r[ — ]\r[ \\ ]\r[ | ]\r[ / ]\r[ — ]\r[ \\ ]\r[ | ]\r[ / ]\r[OK!]\nner_clinical_large download started this may take some time.\n\r[ | ]\r[ / ]\r[ — ]\r[ \\ ]\r[ | ]\r[ / ]\r[ — ]\r[ \\ ]\r[ | ]\r[ / ]\r[ — ]\r[ \\ ]\r[ | ]\r[ / ]\r[ — ]\r[ \\ ]\r[ | ]\r[ / ]\r[ — ]\r[ \\ ]\r[ | ]\r[ / ]\r[ — ]\r[ \\ ]\r[ | ]\r[ / ]\r[ — ]\r[ \\ ]\r[ | ]\r[ / ]\r[ — ]\r[ \\ ]\r[ | ]\r[ / ]\r[ — ]\r[ \\ ]\r[ | ]\r[ / ]\r[ — ]\r[ \\ ]\r[ | ]\r[ / ]\r[ — ]\r[ \\ ]\r[ | ]\r[ / ]\r[ — ]\r[ \\ ]\r[ | ]\r[ / ]\r[ — ]\r[ \\ ]\r[ | ]\r[ / ]\r[ — ]\r[ \\ ]\r[ | ]\r[ / ]\r[ — ]\r[ \\ ]\r[ | ]\r[ / ]\r[ — ]\r[ \\ ]\r[ | ]\r[ / ]\r[ — ]\r[ \\ ]\r[ | ]\r[ / ]\r[ — ]\r[ \\ ]\r[ | ]\r[ / ]\r[ — ]\r[OK!]\n"
     ]
    }
   ],
   "source": [
    "# Annotator that transforms a text column from dataframe into an Annotation ready for NLP\n",
    "documentAssembler = nlp.DocumentAssembler()\\\n",
    "    .setInputCol(\"text\")\\\n",
    "    .setOutputCol(\"document\")\n",
    "        \n",
    "sentenceDetector = nlp.SentenceDetectorDLModel.pretrained(\"sentence_detector_dl_healthcare\",\"en\",\"clinical/models\")\\\n",
    "    .setInputCols([\"document\"])\\\n",
    "    .setOutputCol(\"sentence\")\n",
    " \n",
    "# Tokenizer splits words in a relevant format for NLP\n",
    "tokenizer = nlp.Tokenizer()\\\n",
    "    .setInputCols([\"sentence\"])\\\n",
    "    .setOutputCol(\"token\")\n",
    "\n",
    "# Clinical word embeddings trained on PubMED dataset\n",
    "word_embeddings = nlp.WordEmbeddingsModel.pretrained(\"embeddings_clinical\",\"en\",\"clinical/models\")\\\n",
    "    .setInputCols([\"sentence\",\"token\"])\\\n",
    "    .setOutputCol(\"embeddings\")\n",
    "\n",
    "# NER model trained on i2b2 (sampled from MIMIC) dataset\n",
    "clinical_ner = medical.NerModel.pretrained(\"ner_clinical_large\",\"en\",\"clinical/models\")\\\n",
    "    .setInputCols([\"sentence\",\"token\",\"embeddings\"])\\\n",
    "    .setOutputCol(\"ner\")\\\n",
    "    .setLabelCasing(\"upper\") #decide if we want to return the tags in upper or lower case \n",
    "\n",
    "ner_converter = nlp.NerConverter()\\\n",
    "    .setInputCols([\"sentence\",\"token\",\"ner\"])\\\n",
    "    .setOutputCol(\"ner_chunk\")\n",
    "\n",
    "nlpPipeline = nlp.Pipeline(\n",
    "    stages=[\n",
    "        documentAssembler,\n",
    "        sentenceDetector,\n",
    "        tokenizer,\n",
    "        word_embeddings,\n",
    "        clinical_ner,\n",
    "        ner_converter\n",
    "        ])\n",
    "\n",
    "\n",
    "empty_data = spark.createDataFrame([[\"\"]]).toDF(\"text\")\n",
    "\n",
    "model = nlpPipeline.fit(empty_data)"
   ]
  },
  {
   "cell_type": "code",
   "execution_count": 0,
   "metadata": {
    "application/vnd.databricks.v1+cell": {
     "cellMetadata": {
      "byteLimit": 2048000,
      "rowLimit": 10000
     },
     "inputWidgets": {},
     "nuid": "408b6428-e3a5-49b7-a92c-32939c3de059",
     "showTitle": false,
     "tableResultSettingsMap": {},
     "title": ""
    }
   },
   "outputs": [
    {
     "output_type": "execute_result",
     "data": {
      "text/plain": [
       "[DocumentAssembler_06c802d5159f,\n",
       " SentenceDetectorDLModel_6bafc4746ea5,\n",
       " REGEX_TOKENIZER_7cb027df8326,\n",
       " WORD_EMBEDDINGS_MODEL_9004b1d00302,\n",
       " MedicalNerModel_1a8637089929,\n",
       " NerConverter_60fd4263c8e2]"
      ]
     },
     "execution_count": 6,
     "metadata": {},
     "output_type": "execute_result"
    }
   ],
   "source": [
    "#checking the stages in pipeline\n",
    "model.stages"
   ]
  },
  {
   "cell_type": "code",
   "execution_count": 0,
   "metadata": {
    "application/vnd.databricks.v1+cell": {
     "cellMetadata": {
      "byteLimit": 2048000,
      "rowLimit": 10000
     },
     "inputWidgets": {},
     "nuid": "be25425f-c1b2-4efa-9142-3592b8924c92",
     "showTitle": false,
     "tableResultSettingsMap": {},
     "title": ""
    }
   },
   "outputs": [
    {
     "output_type": "execute_result",
     "data": {
      "text/plain": [
       "['O',\n",
       " 'B-TREATMENT',\n",
       " 'I-TREATMENT',\n",
       " 'B-PROBLEM',\n",
       " 'I-PROBLEM',\n",
       " 'B-TEST',\n",
       " 'I-TEST']"
      ]
     },
     "execution_count": 7,
     "metadata": {},
     "output_type": "execute_result"
    }
   ],
   "source": [
    "#getting the classes in pretrained model\n",
    "clinical_ner.getClasses()"
   ]
  },
  {
   "cell_type": "code",
   "execution_count": 0,
   "metadata": {
    "application/vnd.databricks.v1+cell": {
     "cellMetadata": {
      "byteLimit": 2048000,
      "rowLimit": 10000
     },
     "inputWidgets": {},
     "nuid": "4aa9b7f9-5a7d-44d3-b841-68497d3c6635",
     "showTitle": false,
     "tableResultSettingsMap": {},
     "title": ""
    }
   },
   "outputs": [
    {
     "output_type": "execute_result",
     "data": {
      "text/plain": [
       "{Param(parent='MedicalNerModel_1a8637089929', name='datasetInfo', doc='Descriptive information about the dataset being used'): '',\n",
       " Param(parent='MedicalNerModel_1a8637089929', name='doExceptionHandling', doc='If true, tries to compute batch-wise as usual.\\n    If within a batch an exception occurs, the batch will be processed row-wise and for any exception occurring during row-processing a Error Annotation is emitted.\\n    This means only the bad rows are lost instead of entire batch.\\n    This comes with a performance penalty.'): False,\n",
       " Param(parent='MedicalNerModel_1a8637089929', name='includeAllConfidenceScores', doc='whether to include all confidence scores in annotation metadata or just the score of the predicted tag'): False,\n",
       " Param(parent='MedicalNerModel_1a8637089929', name='inferenceBatchSize', doc='number of sentences to process in a single batch during inference'): 1,\n",
       " Param(parent='MedicalNerModel_1a8637089929', name='labelCasing', doc='Setting all labels of the NER models upper/lower case. values upper|lower'): 'upper',\n",
       " Param(parent='MedicalNerModel_1a8637089929', name='sentenceTokenIndex', doc='Whether to include the token index for each sentence in annotation metadata.'): False,\n",
       " Param(parent='MedicalNerModel_1a8637089929', name='lazyAnnotator', doc='Whether this AnnotatorModel acts as lazy in RecursivePipelines'): False,\n",
       " Param(parent='MedicalNerModel_1a8637089929', name='includeConfidence', doc='whether to include confidence scores in annotation metadata'): True,\n",
       " Param(parent='MedicalNerModel_1a8637089929', name='batchSize', doc='Size of every batch'): 64,\n",
       " Param(parent='MedicalNerModel_1a8637089929', name='classes', doc='get the tags used to trained this MedicalNerModel'): ['O',\n",
       "  'B-TREATMENT',\n",
       "  'I-TREATMENT',\n",
       "  'B-PROBLEM',\n",
       "  'I-PROBLEM',\n",
       "  'B-TEST',\n",
       "  'I-TEST'],\n",
       " Param(parent='MedicalNerModel_1a8637089929', name='inputCols', doc='previous annotations columns, if renamed'): ['sentence',\n",
       "  'token',\n",
       "  'embeddings'],\n",
       " Param(parent='MedicalNerModel_1a8637089929', name='outputCol', doc='output annotation column. can be left default.'): 'ner',\n",
       " Param(parent='MedicalNerModel_1a8637089929', name='storageRef', doc='unique reference name for identification'): 'clinical'}"
      ]
     },
     "execution_count": 8,
     "metadata": {},
     "output_type": "execute_result"
    }
   ],
   "source": [
    "#extracting the embedded default param values\n",
    "clinical_ner.extractParamMap()"
   ]
  },
  {
   "cell_type": "code",
   "execution_count": 0,
   "metadata": {
    "application/vnd.databricks.v1+cell": {
     "cellMetadata": {
      "byteLimit": 2048000,
      "rowLimit": 10000
     },
     "inputWidgets": {},
     "nuid": "b2e5d9e3-a0ae-4bc8-90a6-a282d9487c78",
     "showTitle": false,
     "tableResultSettingsMap": {},
     "title": ""
    }
   },
   "outputs": [
    {
     "output_type": "execute_result",
     "data": {
      "text/plain": [
       "'clinical'"
      ]
     },
     "execution_count": 9,
     "metadata": {},
     "output_type": "execute_result"
    }
   ],
   "source": [
    "#checking the embeddings\n",
    "clinical_ner.getStorageRef()"
   ]
  },
  {
   "cell_type": "code",
   "execution_count": 0,
   "metadata": {
    "application/vnd.databricks.v1+cell": {
     "cellMetadata": {
      "byteLimit": 2048000,
      "rowLimit": 10000
     },
     "inputWidgets": {},
     "nuid": "ad445f7f-0272-489a-a392-32ead211a993",
     "showTitle": false,
     "tableResultSettingsMap": {},
     "title": ""
    }
   },
   "outputs": [],
   "source": [
    "# Downloading the sample dataset\n",
    "!wget -q -O /tmp/mt_samples_10.csv https://raw.githubusercontent.com/JohnSnowLabs/spark-nlp-workshop/master/tutorials/Certification_Trainings/Healthcare/data/mt_samples_10.csv"
   ]
  },
  {
   "cell_type": "code",
   "execution_count": 0,
   "metadata": {
    "application/vnd.databricks.v1+cell": {
     "cellMetadata": {
      "byteLimit": 2048000,
      "rowLimit": 10000
     },
     "inputWidgets": {},
     "nuid": "43f571f1-5e1e-4bdd-97f7-f5b2f18217ae",
     "showTitle": false,
     "tableResultSettingsMap": {},
     "title": ""
    }
   },
   "outputs": [
    {
     "output_type": "execute_result",
     "data": {
      "text/plain": [
       "True"
      ]
     },
     "execution_count": 11,
     "metadata": {},
     "output_type": "execute_result"
    }
   ],
   "source": [
    "# Copying the file to DBFS\n",
    "dbutils.fs.cp(\"file:/tmp/mt_samples_10.csv\", \"dbfs:/mt_samples_10.csv\")"
   ]
  },
  {
   "cell_type": "code",
   "execution_count": 0,
   "metadata": {
    "application/vnd.databricks.v1+cell": {
     "cellMetadata": {
      "byteLimit": 2048000,
      "rowLimit": 10000
     },
     "inputWidgets": {},
     "nuid": "0310a040-5523-47fc-8b5d-ee88a491a09d",
     "showTitle": false,
     "tableResultSettingsMap": {},
     "title": ""
    }
   },
   "outputs": [],
   "source": [
    "import pandas as pd\n",
    "mt_samples_df = spark.createDataFrame(pd.read_csv(\"/dbfs/mt_samples_10.csv\", sep=',', index_col=[\"index\"]).reset_index())"
   ]
  },
  {
   "cell_type": "code",
   "execution_count": 0,
   "metadata": {
    "application/vnd.databricks.v1+cell": {
     "cellMetadata": {
      "byteLimit": 2048000,
      "rowLimit": 10000
     },
     "inputWidgets": {},
     "nuid": "198f7f3b-a657-4a0a-a924-6c1f3abbe004",
     "showTitle": false,
     "tableResultSettingsMap": {},
     "title": ""
    }
   },
   "outputs": [
    {
     "output_type": "stream",
     "name": "stdout",
     "output_type": "stream",
     "text": [
      "root\n |-- index: long (nullable = true)\n |-- text: string (nullable = true)\n\n"
     ]
    }
   ],
   "source": [
    "mt_samples_df.printSchema()"
   ]
  },
  {
   "cell_type": "code",
   "execution_count": 0,
   "metadata": {
    "application/vnd.databricks.v1+cell": {
     "cellMetadata": {
      "byteLimit": 2048000,
      "rowLimit": 10000
     },
     "inputWidgets": {},
     "nuid": "8ad88a5d-dbd1-4efb-b4ba-be57d7d28d45",
     "showTitle": false,
     "tableResultSettingsMap": {},
     "title": ""
    }
   },
   "outputs": [
    {
     "output_type": "stream",
     "name": "stdout",
     "output_type": "stream",
     "text": [
      "+-----+--------------------+\n|index|                text|\n+-----+--------------------+\n|    0|Sample Type / Med...|\n|    1|Sample Type / Med...|\n|    2|Sample Type / Med...|\n|    3|Sample Type / Med...|\n|    4|Sample Type / Med...|\n|    5|Sample Type / Med...|\n|    6|Sample Type / Med...|\n|    7|Sample Type / Med...|\n|    8|Sample Type / Med...|\n|    9|Sample Type / Med...|\n+-----+--------------------+\n\n"
     ]
    }
   ],
   "source": [
    "mt_samples_df.show()"
   ]
  },
  {
   "cell_type": "code",
   "execution_count": 0,
   "metadata": {
    "application/vnd.databricks.v1+cell": {
     "cellMetadata": {
      "byteLimit": 2048000,
      "rowLimit": 10000
     },
     "inputWidgets": {},
     "nuid": "6c8932c9-b85c-4714-8190-24f2f2be27e9",
     "showTitle": false,
     "tableResultSettingsMap": {},
     "title": ""
    }
   },
   "outputs": [
    {
     "output_type": "stream",
     "name": "stdout",
     "output_type": "stream",
     "text": [
      "Sample Type / Medical Specialty:\nHematology - Oncology\nSample Name:\nDischarge Summary - Mesothelioma - 1\nDescription:\nMesothelioma, pleural effusion, atrial fibrillation, anemia, ascites, esophageal reflux, and history of deep venous thrombosis.\n(Medical Transcription Sample Report)\nPRINCIPAL DIAGNOSIS:\nMesothelioma.\nSECONDARY DIAGNOSES:\nPleural effusion, atrial fibrillation, anemia, ascites, esophageal reflux, and history of deep venous thrombosis.\nPROCEDURES\n1. On August 24, 2007, decortication of the lung with pleural biopsy and transpleural fluoroscopy.\n2. On August 20, 2007, thoracentesis.\n3. On August 31, 2007, Port-A-Cath placement.\nHISTORY AND PHYSICAL:\nThe patient is a 41-year-old Vietnamese female with a nonproductive cough that started last week. She has had right-sided chest pain radiating to her back with fever starting yesterday. She has a history of pericarditis and pericardectomy in May 2006 and developed cough with right-sided chest pain, and went to an urgent care center. Chest x-ray revealed right-sided pleural effusion.\nPAST MEDICAL HISTORY\n1. Pericardectomy.\n2. Pericarditis.\n2. Atrial fibrillation.\n4. RNCA with intracranial thrombolytic treatment.\n5 PTA of MCA.\n6. Mesenteric venous thrombosis.\n7. Pericardial window.\n8. Cholecystectomy.\n9. Left thoracentesis.\nFAMILY HISTORY:\nNo family history of coronary artery disease, CVA, diabetes, CHF or MI. The patient has one family member, a sister, with history of cancer.\nSOCIAL HISTORY:\nShe is married. Employed with the US Post Office. She is a mother of three. Denies tobacco, alcohol or illicit drug use.\nMEDICATIONS\n1. Coumadin 1 mg daily. Last INR was on Tuesday, August 14, 2007, and her INR was 2.3.\n2. Amiodarone 100 mg p.o. daily.\nREVIEW OF SYSTEMS:\nComplete review of systems negative except as in pulmonary as noted above. The patient also reports occasional numbness and tingling of her left arm.\nPHYSICAL EXAMINATION\nVITAL SIGNS: Blood pressure 123/95, heart rate 83, respirations 20, temperature 97, and oxygen saturation 97%.\nGENERAL: Positive nonproductive cough and pain with coughing.\nHEENT: Pupils are equal and reactive to light and accommodation. Tympanic membranes are clear.\nNECK: Supple. No lymphadenopathy. No masses.\nRESPIRATORY: Pleural friction rub is noted.\nGI: Soft, nondistended, and nontender. Positive bowel sounds. No organomegaly.\nEXTREMITIES: No edema, no clubbing, no cyanosis, no tenderness. Full range of motion. Normal pulses in all extremities.\nSKIN: No breakdown or lesions. No ulcers.\nNEUROLOGIC: Grossly intact. No focal deficits. Awake, alert, and oriented to person, place, and time.\nLABORATORY DATA:\nLabs are pending.\nHOSPITAL COURSE:\nThe patient was admitted for a right-sided pleural effusion for thoracentesis on Monday by Dr. X. Her Coumadin was placed on hold. A repeat echocardiogram was checked. She was started on prophylaxis for DVT with Lovenox 40 mg subcutaneously. Her history dated back to March 2005 when she first sought medical attention for evidence of pericarditis, which was treated with pericardial window in an outside hospital, at that time she was also found to have mesenteric pain and thrombosis, is now anticoagulated. Her pericardial fluid was accumulated and she was seen by Dr. Y. At that time, she was recommended for pericardectomy, which was performed by Dr. Z. Review of her CT scan from March 2006 prior to her pericardectomy, already shows bilateral plural effusions. The patient improved clinically after the pericardectomy with resolution of her symptoms. Recently, she was readmitted to the hospital with chest pain and found to have bilateral pleural effusion, the right greater than the left. CT of the chest also revealed a large mediastinal lymph node. We reviewed the pathology obtained from the pericardectomy in March 2006, which was diagnostic of mesothelioma. At this time, chest tube placement for drainage of the fluid occurred and thoracoscopy with fluid biopsies, which were performed, which revealed epithelioid malignant mesothelioma. The patient was then stained with a PET CT, which showed extensive uptake in the chest, bilateral pleural pericardial effusions, and lymphadenopathy. She also had acidic fluid, pectoral and intramammary lymph nodes and uptake in L4 with SUV of 4. This was consistent with stage III disease. Her repeat echocardiogram showed an ejection fraction of 45% to 49%. She was transferred to Oncology service and started on chemotherapy on September 1, 2007 with cisplatin 75 mg/centimeter squared equaling 109 mg IV piggyback over 2 hours on September 1, 2007, Alimta 500 mg/ centimeter squared equaling 730 mg IV piggyback over 10 minutes. This was all initiated after a Port-A-Cath was placed. The chemotherapy was well tolerated and the patient was discharged the following day after discontinuing IV fluid and IV. Her Port-A-Cath was packed with heparin according to protocol.\nDISCHARGE MEDICATIONS:\nZofran, Phenergan, Coumadin, and Lovenox, and Vicodin\nDISCHARGE INSTRUCTIONS:\nShe was instructed to followup with Dr. XYZ in the office to check her INR on Tuesday. She was instructed to call if she had any other questions or concerns in the interim.\nKeywords:\nhematology - oncology, mesothelioma, pleural effusion, atrial fibrillation, anemia, ascites, esophageal reflux, deep venous thrombosis, port-a-cath placement, port a cath, iv piggyback, venous thrombosis, atrial, thrombosis, pericardial, lymphadenopathy, fluid, pericardectomy, chest, pleural,\n"
     ]
    }
   ],
   "source": [
    "print(mt_samples_df.limit(1).collect()[0]['text'])"
   ]
  },
  {
   "cell_type": "code",
   "execution_count": 0,
   "metadata": {
    "application/vnd.databricks.v1+cell": {
     "cellMetadata": {
      "byteLimit": 2048000,
      "rowLimit": 10000
     },
     "inputWidgets": {},
     "nuid": "49f42e5b-6b93-436f-8ebe-bbf4652adce6",
     "showTitle": false,
     "tableResultSettingsMap": {},
     "title": ""
    }
   },
   "outputs": [],
   "source": [
    "result = model.transform(mt_samples_df).cache()"
   ]
  },
  {
   "cell_type": "code",
   "execution_count": 0,
   "metadata": {
    "application/vnd.databricks.v1+cell": {
     "cellMetadata": {
      "byteLimit": 2048000,
      "rowLimit": 10000
     },
     "inputWidgets": {},
     "nuid": "a039d3b6-ea26-40a6-a6d2-1dd7a1fd7c89",
     "showTitle": false,
     "tableResultSettingsMap": {},
     "title": ""
    }
   },
   "outputs": [
    {
     "output_type": "stream",
     "name": "stdout",
     "output_type": "stream",
     "text": [
      "+-----+--------------------+--------------------+--------------------+--------------------+--------------------+--------------------+--------------------+\n|index|                text|            document|            sentence|               token|          embeddings|                 ner|           ner_chunk|\n+-----+--------------------+--------------------+--------------------+--------------------+--------------------+--------------------+--------------------+\n|    0|Sample Type / Med...|[{document, 0, 54...|[{document, 0, 53...|[{token, 0, 5, Sa...|[{word_embeddings...|[{named_entity, 0...|[{chunk, 118, 129...|\n|    1|Sample Type / Med...|[{document, 0, 32...|[{document, 0, 53...|[{token, 0, 5, Sa...|[{word_embeddings...|[{named_entity, 0...|[{chunk, 68, 92, ...|\n|    2|Sample Type / Med...|[{document, 0, 42...|[{document, 0, 53...|[{token, 0, 5, Sa...|[{word_embeddings...|[{named_entity, 0...|[{chunk, 68, 73, ...|\n|    3|Sample Type / Med...|[{document, 0, 20...|[{document, 0, 53...|[{token, 0, 5, Sa...|[{word_embeddings...|[{named_entity, 0...|[{chunk, 119, 155...|\n|    4|Sample Type / Med...|[{document, 0, 34...|[{document, 0, 53...|[{token, 0, 5, Sa...|[{word_embeddings...|[{named_entity, 0...|[{chunk, 97, 116,...|\n|    5|Sample Type / Med...|[{document, 0, 15...|[{document, 0, 53...|[{token, 0, 5, Sa...|[{word_embeddings...|[{named_entity, 0...|[{chunk, 68, 84, ...|\n|    6|Sample Type / Med...|[{document, 0, 25...|[{document, 0, 53...|[{token, 0, 5, Sa...|[{word_embeddings...|[{named_entity, 0...|[{chunk, 68, 73, ...|\n|    7|Sample Type / Med...|[{document, 0, 93...|[{document, 0, 53...|[{token, 0, 5, Sa...|[{word_embeddings...|[{named_entity, 0...|[{chunk, 68, 92, ...|\n|    8|Sample Type / Med...|[{document, 0, 20...|[{document, 0, 53...|[{token, 0, 5, Sa...|[{word_embeddings...|[{named_entity, 0...|[{chunk, 155, 189...|\n|    9|Sample Type / Med...|[{document, 0, 19...|[{document, 0, 53...|[{token, 0, 5, Sa...|[{word_embeddings...|[{named_entity, 0...|[{chunk, 68, 95, ...|\n+-----+--------------------+--------------------+--------------------+--------------------+--------------------+--------------------+--------------------+\n\n"
     ]
    }
   ],
   "source": [
    "result.show()"
   ]
  },
  {
   "cell_type": "code",
   "execution_count": 0,
   "metadata": {
    "application/vnd.databricks.v1+cell": {
     "cellMetadata": {
      "byteLimit": 2048000,
      "rowLimit": 10000
     },
     "inputWidgets": {},
     "nuid": "1e5055e9-b3c6-42ec-a7b1-0008d13a40d3",
     "showTitle": false,
     "tableResultSettingsMap": {},
     "title": ""
    }
   },
   "outputs": [
    {
     "output_type": "stream",
     "name": "stdout",
     "output_type": "stream",
     "text": [
      "+----------------------------------------------------------------------------------------------------+----------------------------------------------------------------------------------------------------+\n|                                                                                              result|                                                                                              result|\n+----------------------------------------------------------------------------------------------------+----------------------------------------------------------------------------------------------------+\n|[Sample, Type, /, Medical, Specialty, :, Hematology, -, Oncology, Sample, Name, :, Discharge, Sum...|[O, O, O, O, O, O, O, O, O, O, O, O, O, O, O, O, O, O, O, O, B-PROBLEM, O, B-PROBLEM, I-PROBLEM, ...|\n|[Sample, Type, /, Medical, Specialty, :, Hematology, -, Oncology, Sample, Name, :, BCCa, Excision...|[O, O, O, O, O, O, O, O, O, O, O, O, B-TREATMENT, I-TREATMENT, I-TREATMENT, I-TREATMENT, I-TREATM...|\n|[Sample, Type, /, Medical, Specialty, :, Hematology, -, Oncology, Sample, Name, :, Anemia, -, Con...|[O, O, O, O, O, O, O, O, O, O, O, O, B-PROBLEM, O, O, O, O, B-PROBLEM, I-PROBLEM, O, O, B-PROBLEM...|\n|[Sample, Type, /, Medical, Specialty, :, Hematology, -, Oncology, Sample, Name, :, Intensity-Modu...|[O, O, O, O, O, O, O, O, O, O, O, O, O, O, O, O, O, B-TREATMENT, I-TREATMENT, I-TREATMENT, O, O, ...|\n|[Sample, Type, /, Medical, Specialty, :, Hematology, -, Oncology, Sample, Name, :, Neck, Dissecti...|[O, O, O, O, O, O, O, O, O, O, O, O, O, O, O, O, B-PROBLEM, I-PROBLEM, I-PROBLEM, O, B-PROBLEM, I...|\n|[Sample, Type, /, Medical, Specialty, :, Hematology, -, Oncology, Sample, Name, :, HDR, Brachythe...|[O, O, O, O, O, O, O, O, O, O, O, O, B-TREATMENT, I-TREATMENT, O, O, B-TREATMENT, I-TREATMENT, O,...|\n|[Sample, Type, /, Medical, Specialty, :, Hematology, -, Oncology, Sample, Name, :, Biopsy, -, Cer...|[O, O, O, O, O, O, O, O, O, O, O, O, B-TEST, O, O, O, O, O, O, B-TEST, I-TEST, I-TEST, I-TEST, I-...|\n|[Sample, Type, /, Medical, Specialty, :, Hematology, -, Oncology, Sample, Name, :, Metastatic, Ov...|[O, O, O, O, O, O, O, O, O, O, O, O, B-PROBLEM, I-PROBLEM, I-PROBLEM, O, O, O, O, O, O, O, O, O, ...|\n|[Sample, Type, /, Medical, Specialty, :, Hematology, -, Oncology, Sample, Name, :, Breast, Radiat...|[O, O, O, O, O, O, O, O, O, O, O, O, O, O, O, O, O, O, O, O, O, O, O, O, B-PROBLEM, I-PROBLEM, I-...|\n|[Sample, Type, /, Medical, Specialty, :, Hematology, -, Oncology, Sample, Name, :, Lymph, Node, E...|[O, O, O, O, O, O, O, O, O, O, O, O, B-TEST, I-TEST, I-TEST, I-TEST, O, O, B-TEST, I-TEST, I-TEST...|\n+----------------------------------------------------------------------------------------------------+----------------------------------------------------------------------------------------------------+\n\nCPU times: user 3.89 ms, sys: 0 ns, total: 3.89 ms\nWall time: 435 ms\n"
     ]
    }
   ],
   "source": [
    "%%time\n",
    "\n",
    "result.select('token.result','ner.result').show(truncate=100)"
   ]
  },
  {
   "cell_type": "code",
   "execution_count": 0,
   "metadata": {
    "application/vnd.databricks.v1+cell": {
     "cellMetadata": {
      "byteLimit": 2048000,
      "rowLimit": 10000
     },
     "inputWidgets": {},
     "nuid": "e1dcbda2-c364-46bf-b3ad-e402bbf1fe93",
     "showTitle": false,
     "tableResultSettingsMap": {},
     "title": ""
    }
   },
   "outputs": [
    {
     "output_type": "stream",
     "name": "stdout",
     "output_type": "stream",
     "text": [
      "+----------+---------------+-----------------+\n|token_size|ner_result_size|ner_metadata_size|\n+----------+---------------+-----------------+\n|      1017|           1017|             1017|\n|       581|            581|              581|\n|       808|            808|              808|\n|       318|            318|              318|\n|       595|            595|              595|\n|       234|            234|              234|\n|       437|            437|              437|\n|      1832|           1832|             1832|\n|       377|            377|              377|\n|       353|            353|              353|\n+----------+---------------+-----------------+\n\n"
     ]
    }
   ],
   "source": [
    "result.select(\n",
    "    F.size(\"token\").alias(\"token_size\"),\n",
    "    F.size(\"ner.result\").alias(\"ner_result_size\"),\n",
    "    F.size(\"ner.metadata\").alias(\"ner_metadata_size\")\n",
    ").show()"
   ]
  },
  {
   "cell_type": "code",
   "execution_count": 0,
   "metadata": {
    "application/vnd.databricks.v1+cell": {
     "cellMetadata": {
      "byteLimit": 2048000,
      "rowLimit": 10000
     },
     "inputWidgets": {},
     "nuid": "4ac4ed2d-0458-4ce1-b820-5206e23a66b5",
     "showTitle": false,
     "tableResultSettingsMap": {},
     "title": ""
    }
   },
   "outputs": [
    {
     "output_type": "stream",
     "name": "stdout",
     "output_type": "stream",
     "text": [
      "+-------------+---------+----------+\n|        token|ner_label|confidence|\n+-------------+---------+----------+\n|       Sample|        O|    0.9996|\n|         Type|        O|    0.9926|\n|            /|        O|    0.9755|\n|      Medical|        O|    0.9824|\n|    Specialty|        O|    0.9993|\n|            :|        O|       1.0|\n|   Hematology|        O|    0.9971|\n|            -|        O|    0.9908|\n|     Oncology|        O|    0.9796|\n|       Sample|        O|    0.9999|\n|         Name|        O|    0.9994|\n|            :|        O|       1.0|\n|    Discharge|        O|    0.9998|\n|      Summary|        O|    0.9926|\n|            -|        O|    0.9959|\n| Mesothelioma|        O|    0.8117|\n|            -|        O|    0.9934|\n|            1|        O|    0.7394|\n|  Description|        O|    0.9995|\n|            :|        O|    0.9999|\n| Mesothelioma|B-PROBLEM|    0.9991|\n|            ,|        O|    0.9999|\n|      pleural|B-PROBLEM|    0.9911|\n|     effusion|I-PROBLEM|    0.9982|\n|            ,|        O|    0.9999|\n|       atrial|B-PROBLEM|    0.9976|\n| fibrillation|I-PROBLEM|    0.9982|\n|            ,|        O|    0.9999|\n|       anemia|B-PROBLEM|     0.999|\n|            ,|        O|    0.9999|\n|      ascites|B-PROBLEM|    0.9996|\n|            ,|        O|       1.0|\n|   esophageal|B-PROBLEM|    0.9982|\n|       reflux|I-PROBLEM|    0.9976|\n|            ,|        O|       1.0|\n|          and|        O|    0.9996|\n|      history|        O|    0.9892|\n|           of|        O|    0.9769|\n|         deep|B-PROBLEM|    0.9421|\n|       venous|I-PROBLEM|    0.9624|\n|   thrombosis|I-PROBLEM|    0.9983|\n|            .|        O|       1.0|\n|            (|        O|    0.9999|\n|      Medical|        O|     0.986|\n|Transcription|        O|    0.9214|\n|       Sample|        O|     0.993|\n|       Report|        O|    0.9536|\n|            )|        O|    0.9802|\n|    PRINCIPAL|        O|    0.9981|\n|    DIAGNOSIS|        O|    0.4728|\n+-------------+---------+----------+\nonly showing top 50 rows\n\n"
     ]
    }
   ],
   "source": [
    "result_df = result.select(F.explode(F.arrays_zip(result.token.result,\n",
    "                                                 result.ner.result, \n",
    "                                                 result.ner.metadata)).alias(\"cols\"))\\\n",
    "                  .select(F.expr(\"cols['0']\").alias(\"token\"),\n",
    "                          F.expr(\"cols['1']\").alias(\"ner_label\"),\n",
    "                          F.expr(\"cols['2']['confidence']\").alias(\"confidence\"))\n",
    "\n",
    "result_df.show(50, truncate=100)"
   ]
  },
  {
   "cell_type": "code",
   "execution_count": 0,
   "metadata": {
    "application/vnd.databricks.v1+cell": {
     "cellMetadata": {
      "byteLimit": 2048000,
      "rowLimit": 10000
     },
     "inputWidgets": {},
     "nuid": "3cf55acc-606d-48ae-ad09-61c3076aaeb0",
     "showTitle": false,
     "tableResultSettingsMap": {},
     "title": ""
    }
   },
   "outputs": [
    {
     "output_type": "stream",
     "name": "stdout",
     "output_type": "stream",
     "text": [
      "+---+-------------+---------+----------+\n|pos|        token|ner_label|confidence|\n+---+-------------+---------+----------+\n|  0|       Sample|        O|    0.9996|\n|  1|         Type|        O|    0.9926|\n|  2|            /|        O|    0.9755|\n|  3|      Medical|        O|    0.9824|\n|  4|    Specialty|        O|    0.9993|\n|  5|            :|        O|       1.0|\n|  6|   Hematology|        O|    0.9971|\n|  7|            -|        O|    0.9908|\n|  8|     Oncology|        O|    0.9796|\n|  9|       Sample|        O|    0.9999|\n| 10|         Name|        O|    0.9994|\n| 11|            :|        O|       1.0|\n| 12|    Discharge|        O|    0.9998|\n| 13|      Summary|        O|    0.9926|\n| 14|            -|        O|    0.9959|\n| 15| Mesothelioma|        O|    0.8117|\n| 16|            -|        O|    0.9934|\n| 17|            1|        O|    0.7394|\n| 18|  Description|        O|    0.9995|\n| 19|            :|        O|    0.9999|\n| 20| Mesothelioma|B-PROBLEM|    0.9991|\n| 21|            ,|        O|    0.9999|\n| 22|      pleural|B-PROBLEM|    0.9911|\n| 23|     effusion|I-PROBLEM|    0.9982|\n| 24|            ,|        O|    0.9999|\n| 25|       atrial|B-PROBLEM|    0.9976|\n| 26| fibrillation|I-PROBLEM|    0.9982|\n| 27|            ,|        O|    0.9999|\n| 28|       anemia|B-PROBLEM|     0.999|\n| 29|            ,|        O|    0.9999|\n| 30|      ascites|B-PROBLEM|    0.9996|\n| 31|            ,|        O|       1.0|\n| 32|   esophageal|B-PROBLEM|    0.9982|\n| 33|       reflux|I-PROBLEM|    0.9976|\n| 34|            ,|        O|       1.0|\n| 35|          and|        O|    0.9996|\n| 36|      history|        O|    0.9892|\n| 37|           of|        O|    0.9769|\n| 38|         deep|B-PROBLEM|    0.9421|\n| 39|       venous|I-PROBLEM|    0.9624|\n| 40|   thrombosis|I-PROBLEM|    0.9983|\n| 41|            .|        O|       1.0|\n| 42|            (|        O|    0.9999|\n| 43|      Medical|        O|     0.986|\n| 44|Transcription|        O|    0.9214|\n| 45|       Sample|        O|     0.993|\n| 46|       Report|        O|    0.9536|\n| 47|            )|        O|    0.9802|\n| 48|    PRINCIPAL|        O|    0.9981|\n| 49|    DIAGNOSIS|        O|    0.4728|\n+---+-------------+---------+----------+\nonly showing top 50 rows\n\n"
     ]
    }
   ],
   "source": [
    "result_df = result.select(\n",
    "    F.posexplode(\"token.result\").alias(\"pos\", \"token\"),\n",
    "    F.col(\"ner.result\").getItem(F.col(\"pos\")).alias(\"ner_label\"),\n",
    "    F.col(\"ner.metadata\").getItem(F.col(\"pos\")).getItem(\"confidence\").alias(\"confidence\")\n",
    ")\n",
    "\n",
    "result_df.show(50, truncate=100)"
   ]
  },
  {
   "cell_type": "code",
   "execution_count": 0,
   "metadata": {
    "application/vnd.databricks.v1+cell": {
     "cellMetadata": {
      "byteLimit": 2048000,
      "rowLimit": 10000
     },
     "inputWidgets": {},
     "nuid": "d62bc5a9-2177-4f32-9fce-493617109e0c",
     "showTitle": false,
     "tableResultSettingsMap": {},
     "title": ""
    }
   },
   "outputs": [
    {
     "output_type": "stream",
     "name": "stdout",
     "output_type": "stream",
     "text": [
      "+-----------+-----+\n|ner_label  |count|\n+-----------+-----+\n|O          |4721 |\n|I-PROBLEM  |526  |\n|B-PROBLEM  |399  |\n|I-TREATMENT|326  |\n|B-TREATMENT|265  |\n|I-TEST     |173  |\n|B-TEST     |142  |\n+-----------+-----+\n\n"
     ]
    }
   ],
   "source": [
    "result_df.select(\"token\", \"ner_label\")\\\n",
    "         .groupBy('ner_label').count()\\\n",
    "         .orderBy('count', ascending=False)\\\n",
    "         .show(truncate=False)"
   ]
  },
  {
   "cell_type": "code",
   "execution_count": 0,
   "metadata": {
    "application/vnd.databricks.v1+cell": {
     "cellMetadata": {
      "byteLimit": 2048000,
      "rowLimit": 10000
     },
     "inputWidgets": {},
     "nuid": "cac8e54f-f77b-43e4-8c7c-ce6e94d0e551",
     "showTitle": false,
     "tableResultSettingsMap": {},
     "title": ""
    }
   },
   "outputs": [
    {
     "output_type": "execute_result",
     "data": {
      "text/plain": [
       "[Row(ner_chunk=[Row(annotatorType='chunk', begin=118, end=129, result='Mesothelioma', metadata={'sentence': '2', 'chunk': '0', 'entity': 'PROBLEM', 'confidence': '0.9991'}, embeddings=[]), Row(annotatorType='chunk', begin=132, end=147, result='pleural effusion', metadata={'sentence': '2', 'chunk': '1', 'entity': 'PROBLEM', 'confidence': '0.99465'}, embeddings=[]), Row(annotatorType='chunk', begin=150, end=168, result='atrial fibrillation', metadata={'sentence': '2', 'chunk': '2', 'entity': 'PROBLEM', 'confidence': '0.9979'}, embeddings=[]), Row(annotatorType='chunk', begin=171, end=176, result='anemia', metadata={'sentence': '2', 'chunk': '3', 'entity': 'PROBLEM', 'confidence': '0.999'}, embeddings=[]), Row(annotatorType='chunk', begin=179, end=185, result='ascites', metadata={'sentence': '2', 'chunk': '4', 'entity': 'PROBLEM', 'confidence': '0.9996'}, embeddings=[]), Row(annotatorType='chunk', begin=188, end=204, result='esophageal reflux', metadata={'sentence': '2', 'chunk': '5', 'entity': 'PROBLEM', 'confidence': '0.9979'}, embeddings=[]), Row(annotatorType='chunk', begin=222, end=243, result='deep venous thrombosis', metadata={'sentence': '2', 'chunk': '6', 'entity': 'PROBLEM', 'confidence': '0.96760005'}, embeddings=[]), Row(annotatorType='chunk', begin=305, end=316, result='Mesothelioma', metadata={'sentence': '4', 'chunk': '7', 'entity': 'PROBLEM', 'confidence': '0.987'}, embeddings=[]), Row(annotatorType='chunk', begin=340, end=355, result='Pleural effusion', metadata={'sentence': '5', 'chunk': '8', 'entity': 'PROBLEM', 'confidence': '0.97895'}, embeddings=[]), Row(annotatorType='chunk', begin=358, end=376, result='atrial fibrillation', metadata={'sentence': '5', 'chunk': '9', 'entity': 'PROBLEM', 'confidence': '0.99475'}, embeddings=[]), Row(annotatorType='chunk', begin=379, end=384, result='anemia', metadata={'sentence': '5', 'chunk': '10', 'entity': 'PROBLEM', 'confidence': '0.9984'}, embeddings=[]), Row(annotatorType='chunk', begin=387, end=393, result='ascites', metadata={'sentence': '5', 'chunk': '11', 'entity': 'PROBLEM', 'confidence': '0.9994'}, embeddings=[]), Row(annotatorType='chunk', begin=396, end=412, result='esophageal reflux', metadata={'sentence': '5', 'chunk': '12', 'entity': 'PROBLEM', 'confidence': '0.99724996'}, embeddings=[]), Row(annotatorType='chunk', begin=430, end=451, result='deep venous thrombosis', metadata={'sentence': '5', 'chunk': '13', 'entity': 'PROBLEM', 'confidence': '0.9550001'}, embeddings=[]), Row(annotatorType='chunk', begin=488, end=512, result='decortication of the lung', metadata={'sentence': '8', 'chunk': '14', 'entity': 'TREATMENT', 'confidence': '0.756325'}, embeddings=[]), Row(annotatorType='chunk', begin=519, end=532, result='pleural biopsy', metadata={'sentence': '8', 'chunk': '15', 'entity': 'TEST', 'confidence': '0.87715'}, embeddings=[]), Row(annotatorType='chunk', begin=538, end=561, result='transpleural fluoroscopy', metadata={'sentence': '8', 'chunk': '16', 'entity': 'TEST', 'confidence': '0.9527'}, embeddings=[]), Row(annotatorType='chunk', begin=587, end=599, result='thoracentesis', metadata={'sentence': '9', 'chunk': '17', 'entity': 'TREATMENT', 'confidence': '0.9075'}, embeddings=[]), Row(annotatorType='chunk', begin=625, end=645, result='Port-A-Cath placement', metadata={'sentence': '10', 'chunk': '18', 'entity': 'TREATMENT', 'confidence': '0.98075'}, embeddings=[]), Row(annotatorType='chunk', begin=722, end=742, result='a nonproductive cough', metadata={'sentence': '11', 'chunk': '19', 'entity': 'PROBLEM', 'confidence': '0.96173334'}, embeddings=[]), Row(annotatorType='chunk', begin=780, end=801, result='right-sided chest pain', metadata={'sentence': '12', 'chunk': '20', 'entity': 'PROBLEM', 'confidence': '0.97246665'}, embeddings=[]), Row(annotatorType='chunk', begin=830, end=834, result='fever', metadata={'sentence': '12', 'chunk': '21', 'entity': 'PROBLEM', 'confidence': '0.9998'}, embeddings=[]), Row(annotatorType='chunk', begin=877, end=888, result='pericarditis', metadata={'sentence': '13', 'chunk': '22', 'entity': 'PROBLEM', 'confidence': '0.9228'}, embeddings=[]), Row(annotatorType='chunk', begin=894, end=907, result='pericardectomy', metadata={'sentence': '13', 'chunk': '23', 'entity': 'TREATMENT', 'confidence': '0.9991'}, embeddings=[]), Row(annotatorType='chunk', begin=935, end=939, result='cough', metadata={'sentence': '13', 'chunk': '24', 'entity': 'PROBLEM', 'confidence': '0.9977'}, embeddings=[]), Row(annotatorType='chunk', begin=946, end=967, result='right-sided chest pain', metadata={'sentence': '13', 'chunk': '25', 'entity': 'PROBLEM', 'confidence': '0.9766'}, embeddings=[]), Row(annotatorType='chunk', begin=1005, end=1015, result='Chest x-ray', metadata={'sentence': '14', 'chunk': '26', 'entity': 'TEST', 'confidence': '0.91905'}, embeddings=[]), Row(annotatorType='chunk', begin=1026, end=1053, result='right-sided pleural effusion', metadata={'sentence': '14', 'chunk': '27', 'entity': 'PROBLEM', 'confidence': '0.9479'}, embeddings=[]), Row(annotatorType='chunk', begin=1080, end=1093, result='Pericardectomy', metadata={'sentence': '16', 'chunk': '28', 'entity': 'TREATMENT', 'confidence': '0.9962'}, embeddings=[]), Row(annotatorType='chunk', begin=1099, end=1110, result='Pericarditis', metadata={'sentence': '17', 'chunk': '29', 'entity': 'PROBLEM', 'confidence': '0.9861'}, embeddings=[]), Row(annotatorType='chunk', begin=1116, end=1134, result='Atrial fibrillation', metadata={'sentence': '18', 'chunk': '30', 'entity': 'PROBLEM', 'confidence': '0.9803'}, embeddings=[]), Row(annotatorType='chunk', begin=1150, end=1184, result='intracranial thrombolytic treatment', metadata={'sentence': '19', 'chunk': '31', 'entity': 'TREATMENT', 'confidence': '0.9476333'}, embeddings=[]), Row(annotatorType='chunk', begin=1204, end=1231, result='Mesenteric venous thrombosis', metadata={'sentence': '21', 'chunk': '32', 'entity': 'PROBLEM', 'confidence': '0.9354334'}, embeddings=[]), Row(annotatorType='chunk', begin=1237, end=1254, result='Pericardial window', metadata={'sentence': '22', 'chunk': '33', 'entity': 'TREATMENT', 'confidence': '0.6854'}, embeddings=[]), Row(annotatorType='chunk', begin=1260, end=1274, result='Cholecystectomy', metadata={'sentence': '23', 'chunk': '34', 'entity': 'TREATMENT', 'confidence': '0.9991'}, embeddings=[]), Row(annotatorType='chunk', begin=1280, end=1297, result='Left thoracentesis', metadata={'sentence': '24', 'chunk': '35', 'entity': 'TEST', 'confidence': '0.64185'}, embeddings=[]), Row(annotatorType='chunk', begin=1337, end=1359, result='coronary artery disease', metadata={'sentence': '25', 'chunk': '36', 'entity': 'PROBLEM', 'confidence': '0.9825001'}, embeddings=[]), Row(annotatorType='chunk', begin=1362, end=1364, result='CVA', metadata={'sentence': '25', 'chunk': '37', 'entity': 'PROBLEM', 'confidence': '0.9996'}, embeddings=[]), Row(annotatorType='chunk', begin=1367, end=1374, result='diabetes', metadata={'sentence': '25', 'chunk': '38', 'entity': 'PROBLEM', 'confidence': '0.9993'}, embeddings=[]), Row(annotatorType='chunk', begin=1377, end=1379, result='CHF', metadata={'sentence': '25', 'chunk': '39', 'entity': 'PROBLEM', 'confidence': '0.9997'}, embeddings=[]), Row(annotatorType='chunk', begin=1384, end=1385, result='MI', metadata={'sentence': '25', 'chunk': '40', 'entity': 'PROBLEM', 'confidence': '0.9996'}, embeddings=[]), Row(annotatorType='chunk', begin=1449, end=1454, result='cancer', metadata={'sentence': '26', 'chunk': '41', 'entity': 'PROBLEM', 'confidence': '0.9749'}, embeddings=[]), Row(annotatorType='chunk', begin=1609, end=1616, result='Coumadin', metadata={'sentence': '33', 'chunk': '42', 'entity': 'TREATMENT', 'confidence': '0.9997'}, embeddings=[]), Row(annotatorType='chunk', begin=1635, end=1637, result='INR', metadata={'sentence': '34', 'chunk': '43', 'entity': 'TEST', 'confidence': '0.7696'}, embeddings=[]), Row(annotatorType='chunk', begin=1676, end=1682, result='her INR', metadata={'sentence': '34', 'chunk': '44', 'entity': 'TEST', 'confidence': '0.79190004'}, embeddings=[]), Row(annotatorType='chunk', begin=1696, end=1705, result='Amiodarone', metadata={'sentence': '34', 'chunk': '45', 'entity': 'TREATMENT', 'confidence': '0.9998'}, embeddings=[]), Row(annotatorType='chunk', begin=1764, end=1770, result='systems', metadata={'sentence': '35', 'chunk': '46', 'entity': 'TEST', 'confidence': '0.5396'}, embeddings=[]), Row(annotatorType='chunk', begin=1845, end=1863, result='occasional numbness', metadata={'sentence': '36', 'chunk': '47', 'entity': 'PROBLEM', 'confidence': '0.95554996'}, embeddings=[]), Row(annotatorType='chunk', begin=1869, end=1892, result='tingling of her left arm', metadata={'sentence': '36', 'chunk': '48', 'entity': 'PROBLEM', 'confidence': '0.77458'}, embeddings=[]), Row(annotatorType='chunk', begin=1929, end=1942, result='Blood pressure', metadata={'sentence': '37', 'chunk': '49', 'entity': 'TEST', 'confidence': '0.9727'}, embeddings=[]), Row(annotatorType='chunk', begin=1952, end=1961, result='heart rate', metadata={'sentence': '37', 'chunk': '50', 'entity': 'TEST', 'confidence': '0.98315'}, embeddings=[]), Row(annotatorType='chunk', begin=1967, end=1978, result='respirations', metadata={'sentence': '37', 'chunk': '51', 'entity': 'TEST', 'confidence': '1.0'}, embeddings=[]), Row(annotatorType='chunk', begin=1984, end=1994, result='temperature', metadata={'sentence': '37', 'chunk': '52', 'entity': 'TEST', 'confidence': '0.9999'}, embeddings=[]), Row(annotatorType='chunk', begin=2004, end=2020, result='oxygen saturation', metadata={'sentence': '37', 'chunk': '53', 'entity': 'TEST', 'confidence': '0.97650003'}, embeddings=[]), Row(annotatorType='chunk', begin=2045, end=2063, result='nonproductive cough', metadata={'sentence': '38', 'chunk': '54', 'entity': 'PROBLEM', 'confidence': '0.83985'}, embeddings=[]), Row(annotatorType='chunk', begin=2069, end=2072, result='pain', metadata={'sentence': '38', 'chunk': '55', 'entity': 'PROBLEM', 'confidence': '0.9951'}, embeddings=[]), Row(annotatorType='chunk', begin=2079, end=2086, result='coughing', metadata={'sentence': '38', 'chunk': '56', 'entity': 'PROBLEM', 'confidence': '0.9568'}, embeddings=[]), Row(annotatorType='chunk', begin=2201, end=2215, result='lymphadenopathy', metadata={'sentence': '42', 'chunk': '57', 'entity': 'PROBLEM', 'confidence': '0.9988'}, embeddings=[]), Row(annotatorType='chunk', begin=2221, end=2226, result='masses', metadata={'sentence': '43', 'chunk': '58', 'entity': 'PROBLEM', 'confidence': '0.9995'}, embeddings=[]), Row(annotatorType='chunk', begin=2242, end=2261, result='Pleural friction rub', metadata={'sentence': '44', 'chunk': '59', 'entity': 'PROBLEM', 'confidence': '0.89523333'}, embeddings=[]), Row(annotatorType='chunk', begin=2283, end=2294, result='nondistended', metadata={'sentence': '45', 'chunk': '60', 'entity': 'PROBLEM', 'confidence': '0.9994'}, embeddings=[]), Row(annotatorType='chunk', begin=2301, end=2309, result='nontender', metadata={'sentence': '45', 'chunk': '61', 'entity': 'PROBLEM', 'confidence': '0.9991'}, embeddings=[]), Row(annotatorType='chunk', begin=2338, end=2349, result='organomegaly', metadata={'sentence': '47', 'chunk': '62', 'entity': 'PROBLEM', 'confidence': '0.9977'}, embeddings=[]), Row(annotatorType='chunk', begin=2368, end=2372, result='edema', metadata={'sentence': '48', 'chunk': '63', 'entity': 'PROBLEM', 'confidence': '0.9985'}, embeddings=[]), Row(annotatorType='chunk', begin=2378, end=2385, result='clubbing', metadata={'sentence': '48', 'chunk': '64', 'entity': 'PROBLEM', 'confidence': '0.9961'}, embeddings=[]), Row(annotatorType='chunk', begin=2391, end=2398, result='cyanosis', metadata={'sentence': '48', 'chunk': '65', 'entity': 'PROBLEM', 'confidence': '0.9984'}, embeddings=[]), Row(annotatorType='chunk', begin=2404, end=2413, result='tenderness', metadata={'sentence': '48', 'chunk': '66', 'entity': 'PROBLEM', 'confidence': '0.9995'}, embeddings=[]), Row(annotatorType='chunk', begin=2481, end=2489, result='breakdown', metadata={'sentence': '51', 'chunk': '67', 'entity': 'PROBLEM', 'confidence': '0.9982'}, embeddings=[]), Row(annotatorType='chunk', begin=2494, end=2500, result='lesions', metadata={'sentence': '51', 'chunk': '68', 'entity': 'PROBLEM', 'confidence': '0.9937'}, embeddings=[]), Row(annotatorType='chunk', begin=2506, end=2511, result='ulcers', metadata={'sentence': '52', 'chunk': '69', 'entity': 'PROBLEM', 'confidence': '0.9985'}, embeddings=[]), Row(annotatorType='chunk', begin=2545, end=2558, result='focal deficits', metadata={'sentence': '54', 'chunk': '70', 'entity': 'PROBLEM', 'confidence': '0.93095005'}, embeddings=[]), Row(annotatorType='chunk', begin=2633, end=2636, result='Labs', metadata={'sentence': '56', 'chunk': '71', 'entity': 'TEST', 'confidence': '0.9843'}, embeddings=[]), Row(annotatorType='chunk', begin=2697, end=2726, result='a right-sided pleural effusion', metadata={'sentence': '58', 'chunk': '72', 'entity': 'PROBLEM', 'confidence': '0.715325'}, embeddings=[]), Row(annotatorType='chunk', begin=2732, end=2744, result='thoracentesis', metadata={'sentence': '58', 'chunk': '73', 'entity': 'TREATMENT', 'confidence': '0.8775'}, embeddings=[]), Row(annotatorType='chunk', begin=2766, end=2777, result='Her Coumadin', metadata={'sentence': '58', 'chunk': '74', 'entity': 'TREATMENT', 'confidence': '0.98109996'}, embeddings=[]), Row(annotatorType='chunk', begin=2799, end=2821, result='A repeat echocardiogram', metadata={'sentence': '59', 'chunk': '75', 'entity': 'TEST', 'confidence': '0.8780667'}, embeddings=[]), Row(annotatorType='chunk', begin=2855, end=2865, result='prophylaxis', metadata={'sentence': '60', 'chunk': '76', 'entity': 'TREATMENT', 'confidence': '0.9996'}, embeddings=[]), Row(annotatorType='chunk', begin=2871, end=2873, result='DVT', metadata={'sentence': '60', 'chunk': '77', 'entity': 'PROBLEM', 'confidence': '0.9983'}, embeddings=[]), Row(annotatorType='chunk', begin=2880, end=2886, result='Lovenox', metadata={'sentence': '60', 'chunk': '78', 'entity': 'TREATMENT', 'confidence': '0.9982'}, embeddings=[]), Row(annotatorType='chunk', begin=3003, end=3014, result='pericarditis', metadata={'sentence': '61', 'chunk': '79', 'entity': 'PROBLEM', 'confidence': '0.8911'}, embeddings=[]), Row(annotatorType='chunk', begin=3040, end=3057, result='pericardial window', metadata={'sentence': '61', 'chunk': '80', 'entity': 'TREATMENT', 'confidence': '0.96784997'}, embeddings=[]), Row(annotatorType='chunk', begin=3123, end=3137, result='mesenteric pain', metadata={'sentence': '61', 'chunk': '81', 'entity': 'PROBLEM', 'confidence': '0.9893'}, embeddings=[]), Row(annotatorType='chunk', begin=3143, end=3152, result='thrombosis', metadata={'sentence': '61', 'chunk': '82', 'entity': 'PROBLEM', 'confidence': '0.9983'}, embeddings=[]), Row(annotatorType='chunk', begin=3162, end=3175, result='anticoagulated', metadata={'sentence': '61', 'chunk': '83', 'entity': 'TREATMENT', 'confidence': '0.9508'}, embeddings=[]), Row(annotatorType='chunk', begin=3281, end=3294, result='pericardectomy', metadata={'sentence': '62', 'chunk': '84', 'entity': 'TREATMENT', 'confidence': '0.9988'}, embeddings=[]), Row(annotatorType='chunk', begin=3337, end=3347, result='her CT scan', metadata={'sentence': '62', 'chunk': '85', 'entity': 'TEST', 'confidence': '0.9552667'}, embeddings=[]), Row(annotatorType='chunk', begin=3374, end=3391, result='her pericardectomy', metadata={'sentence': '62', 'chunk': '86', 'entity': 'TREATMENT', 'confidence': '0.87944996'}, embeddings=[]), Row(annotatorType='chunk', begin=3408, end=3433, result='bilateral plural effusions', metadata={'sentence': '62', 'chunk': '87', 'entity': 'PROBLEM', 'confidence': '0.9345667'}, embeddings=[]), Row(annotatorType='chunk', begin=3474, end=3491, result='the pericardectomy', metadata={'sentence': '63', 'chunk': '88', 'entity': 'TREATMENT', 'confidence': '0.98665'}, embeddings=[]), Row(annotatorType='chunk', begin=3512, end=3523, result='her symptoms', metadata={'sentence': '63', 'chunk': '89', 'entity': 'PROBLEM', 'confidence': '0.9017'}, embeddings=[]), Row(annotatorType='chunk', begin=3576, end=3585, result='chest pain', metadata={'sentence': '64', 'chunk': '90', 'entity': 'PROBLEM', 'confidence': '0.9956'}, embeddings=[]), Row(annotatorType='chunk', begin=3605, end=3630, result='bilateral pleural effusion', metadata={'sentence': '64', 'chunk': '91', 'entity': 'PROBLEM', 'confidence': '0.9514'}, embeddings=[]), Row(annotatorType='chunk', begin=3666, end=3680, result='CT of the chest', metadata={'sentence': '65', 'chunk': '92', 'entity': 'TEST', 'confidence': '0.853225'}, embeddings=[]), Row(annotatorType='chunk', begin=3696, end=3725, result='a large mediastinal lymph node', metadata={'sentence': '65', 'chunk': '93', 'entity': 'PROBLEM', 'confidence': '0.8369201'}, embeddings=[]), Row(annotatorType='chunk', begin=3740, end=3752, result='the pathology', metadata={'sentence': '66', 'chunk': '94', 'entity': 'TEST', 'confidence': '0.44089997'}, embeddings=[]), Row(annotatorType='chunk', begin=3768, end=3785, result='the pericardectomy', metadata={'sentence': '66', 'chunk': '95', 'entity': 'TREATMENT', 'confidence': '0.9546'}, embeddings=[]), Row(annotatorType='chunk', begin=3826, end=3837, result='mesothelioma', metadata={'sentence': '66', 'chunk': '96', 'entity': 'PROBLEM', 'confidence': '0.961'}, embeddings=[]), Row(annotatorType='chunk', begin=3854, end=3873, result='chest tube placement', metadata={'sentence': '67', 'chunk': '97', 'entity': 'TREATMENT', 'confidence': '0.9526333'}, embeddings=[]), Row(annotatorType='chunk', begin=3879, end=3899, result='drainage of the fluid', metadata={'sentence': '67', 'chunk': '98', 'entity': 'PROBLEM', 'confidence': '0.7372'}, embeddings=[]), Row(annotatorType='chunk', begin=3914, end=3925, result='thoracoscopy', metadata={'sentence': '67', 'chunk': '99', 'entity': 'TREATMENT', 'confidence': '0.6497'}, embeddings=[]), Row(annotatorType='chunk', begin=3932, end=3945, result='fluid biopsies', metadata={'sentence': '67', 'chunk': '100', 'entity': 'TEST', 'confidence': '0.7528'}, embeddings=[]), Row(annotatorType='chunk', begin=3985, end=4018, result='epithelioid malignant mesothelioma', metadata={'sentence': '67', 'chunk': '101', 'entity': 'PROBLEM', 'confidence': '0.97339994'}, embeddings=[]), Row(annotatorType='chunk', begin=4055, end=4062, result='a PET CT', metadata={'sentence': '68', 'chunk': '102', 'entity': 'TEST', 'confidence': '0.94320005'}, embeddings=[]), Row(annotatorType='chunk', begin=4078, end=4106, result='extensive uptake in the chest', metadata={'sentence': '68', 'chunk': '103', 'entity': 'PROBLEM', 'confidence': '0.90375996'}, embeddings=[]), Row(annotatorType='chunk', begin=4109, end=4147, result='bilateral pleural pericardial effusions', metadata={'sentence': '68', 'chunk': '104', 'entity': 'PROBLEM', 'confidence': '0.96755'}, embeddings=[]), Row(annotatorType='chunk', begin=4154, end=4168, result='lymphadenopathy', metadata={'sentence': '68', 'chunk': '105', 'entity': 'PROBLEM', 'confidence': '0.9956'}, embeddings=[]), Row(annotatorType='chunk', begin=4184, end=4195, result='acidic fluid', metadata={'sentence': '69', 'chunk': '106', 'entity': 'PROBLEM', 'confidence': '0.96854997'}, embeddings=[]), Row(annotatorType='chunk', begin=4198, end=4234, result='pectoral and intramammary lymph nodes', metadata={'sentence': '69', 'chunk': '107', 'entity': 'PROBLEM', 'confidence': '0.748'}, embeddings=[]), Row(annotatorType='chunk', begin=4240, end=4251, result='uptake in L4', metadata={'sentence': '69', 'chunk': '108', 'entity': 'PROBLEM', 'confidence': '0.8012333'}, embeddings=[]), Row(annotatorType='chunk', begin=4258, end=4260, result='SUV', metadata={'sentence': '69', 'chunk': '109', 'entity': 'TEST', 'confidence': '0.9959'}, embeddings=[]), Row(annotatorType='chunk', begin=4293, end=4309, result='stage III disease', metadata={'sentence': '70', 'chunk': '110', 'entity': 'PROBLEM', 'confidence': '0.8552334'}, embeddings=[]), Row(annotatorType='chunk', begin=4312, end=4336, result='Her repeat echocardiogram', metadata={'sentence': '71', 'chunk': '111', 'entity': 'TEST', 'confidence': '0.8606667'}, embeddings=[]), Row(annotatorType='chunk', begin=4345, end=4364, result='an ejection fraction', metadata={'sentence': '71', 'chunk': '112', 'entity': 'TEST', 'confidence': '0.7115'}, embeddings=[]), Row(annotatorType='chunk', begin=4436, end=4447, result='chemotherapy', metadata={'sentence': '72', 'chunk': '113', 'entity': 'TREATMENT', 'confidence': '0.9994'}, embeddings=[]), Row(annotatorType='chunk', begin=4475, end=4483, result='cisplatin', metadata={'sentence': '72', 'chunk': '114', 'entity': 'TREATMENT', 'confidence': '0.9996'}, embeddings=[]), Row(annotatorType='chunk', begin=4526, end=4537, result='IV piggyback', metadata={'sentence': '72', 'chunk': '115', 'entity': 'TREATMENT', 'confidence': '0.75020003'}, embeddings=[]), Row(annotatorType='chunk', begin=4574, end=4579, result='Alimta', metadata={'sentence': '72', 'chunk': '116', 'entity': 'TREATMENT', 'confidence': '0.9999'}, embeddings=[]), Row(annotatorType='chunk', begin=4624, end=4635, result='IV piggyback', metadata={'sentence': '72', 'chunk': '117', 'entity': 'TREATMENT', 'confidence': '0.7633'}, embeddings=[]), Row(annotatorType='chunk', begin=4683, end=4695, result='a Port-A-Cath', metadata={'sentence': '73', 'chunk': '118', 'entity': 'TREATMENT', 'confidence': '0.9683'}, embeddings=[]), Row(annotatorType='chunk', begin=4709, end=4724, result='The chemotherapy', metadata={'sentence': '74', 'chunk': '119', 'entity': 'TREATMENT', 'confidence': '0.94605'}, embeddings=[]), Row(annotatorType='chunk', begin=4814, end=4821, result='IV fluid', metadata={'sentence': '74', 'chunk': '120', 'entity': 'TREATMENT', 'confidence': '0.88874996'}, embeddings=[]), Row(annotatorType='chunk', begin=4827, end=4828, result='IV', metadata={'sentence': '74', 'chunk': '121', 'entity': 'TREATMENT', 'confidence': '0.9877'}, embeddings=[]), Row(annotatorType='chunk', begin=4831, end=4845, result='Her Port-A-Cath', metadata={'sentence': '75', 'chunk': '122', 'entity': 'TREATMENT', 'confidence': '0.97214997'}, embeddings=[]), Row(annotatorType='chunk', begin=4863, end=4869, result='heparin', metadata={'sentence': '75', 'chunk': '123', 'entity': 'TREATMENT', 'confidence': '0.9973'}, embeddings=[]), Row(annotatorType='chunk', begin=4894, end=4914, result='DISCHARGE MEDICATIONS', metadata={'sentence': '76', 'chunk': '124', 'entity': 'TREATMENT', 'confidence': '0.76094997'}, embeddings=[]), Row(annotatorType='chunk', begin=4917, end=4922, result='Zofran', metadata={'sentence': '76', 'chunk': '125', 'entity': 'TREATMENT', 'confidence': '0.9997'}, embeddings=[]), Row(annotatorType='chunk', begin=4925, end=4933, result='Phenergan', metadata={'sentence': '76', 'chunk': '126', 'entity': 'TREATMENT', 'confidence': '0.9999'}, embeddings=[]), Row(annotatorType='chunk', begin=4936, end=4943, result='Coumadin', metadata={'sentence': '76', 'chunk': '127', 'entity': 'TREATMENT', 'confidence': '1.0'}, embeddings=[]), Row(annotatorType='chunk', begin=4950, end=4956, result='Lovenox', metadata={'sentence': '76', 'chunk': '128', 'entity': 'TREATMENT', 'confidence': '0.9998'}, embeddings=[]), Row(annotatorType='chunk', begin=4963, end=4969, result='Vicodin', metadata={'sentence': '76', 'chunk': '129', 'entity': 'TREATMENT', 'confidence': '0.9989'}, embeddings=[]), Row(annotatorType='chunk', begin=5062, end=5068, result='her INR', metadata={'sentence': '77', 'chunk': '130', 'entity': 'TEST', 'confidence': '0.93625'}, embeddings=[]), Row(annotatorType='chunk', begin=5201, end=5212, result='mesothelioma', metadata={'sentence': '79', 'chunk': '131', 'entity': 'PROBLEM', 'confidence': '0.9981'}, embeddings=[]), Row(annotatorType='chunk', begin=5215, end=5230, result='pleural effusion', metadata={'sentence': '79', 'chunk': '132', 'entity': 'PROBLEM', 'confidence': '0.98370004'}, embeddings=[]), Row(annotatorType='chunk', begin=5233, end=5251, result='atrial fibrillation', metadata={'sentence': '79', 'chunk': '133', 'entity': 'PROBLEM', 'confidence': '0.9953'}, embeddings=[]), Row(annotatorType='chunk', begin=5254, end=5259, result='anemia', metadata={'sentence': '79', 'chunk': '134', 'entity': 'PROBLEM', 'confidence': '0.9981'}, embeddings=[]), Row(annotatorType='chunk', begin=5262, end=5268, result='ascites', metadata={'sentence': '79', 'chunk': '135', 'entity': 'PROBLEM', 'confidence': '0.999'}, embeddings=[]), Row(annotatorType='chunk', begin=5271, end=5287, result='esophageal reflux', metadata={'sentence': '79', 'chunk': '136', 'entity': 'PROBLEM', 'confidence': '0.9963'}, embeddings=[]), Row(annotatorType='chunk', begin=5290, end=5311, result='deep venous thrombosis', metadata={'sentence': '79', 'chunk': '137', 'entity': 'PROBLEM', 'confidence': '0.98296666'}, embeddings=[]), Row(annotatorType='chunk', begin=5314, end=5334, result='port-a-cath placement', metadata={'sentence': '79', 'chunk': '138', 'entity': 'TREATMENT', 'confidence': '0.918'}, embeddings=[]), Row(annotatorType='chunk', begin=5337, end=5347, result='port a cath', metadata={'sentence': '79', 'chunk': '139', 'entity': 'TREATMENT', 'confidence': '0.69156665'}, embeddings=[]), Row(annotatorType='chunk', begin=5350, end=5361, result='iv piggyback', metadata={'sentence': '79', 'chunk': '140', 'entity': 'TREATMENT', 'confidence': '0.9642'}, embeddings=[]), Row(annotatorType='chunk', begin=5364, end=5380, result='venous thrombosis', metadata={'sentence': '79', 'chunk': '141', 'entity': 'PROBLEM', 'confidence': '0.90615'}, embeddings=[]), Row(annotatorType='chunk', begin=5383, end=5388, result='atrial', metadata={'sentence': '79', 'chunk': '142', 'entity': 'PROBLEM', 'confidence': '0.6133'}, embeddings=[]), Row(annotatorType='chunk', begin=5391, end=5400, result='thrombosis', metadata={'sentence': '79', 'chunk': '143', 'entity': 'PROBLEM', 'confidence': '0.9317'}, embeddings=[]), Row(annotatorType='chunk', begin=5403, end=5413, result='pericardial', metadata={'sentence': '79', 'chunk': '144', 'entity': 'TREATMENT', 'confidence': '0.7272'}, embeddings=[]), Row(annotatorType='chunk', begin=5416, end=5430, result='lymphadenopathy', metadata={'sentence': '79', 'chunk': '145', 'entity': 'PROBLEM', 'confidence': '0.8981'}, embeddings=[]), Row(annotatorType='chunk', begin=5433, end=5437, result='fluid', metadata={'sentence': '79', 'chunk': '146', 'entity': 'PROBLEM', 'confidence': '0.6176'}, embeddings=[]), Row(annotatorType='chunk', begin=5440, end=5453, result='pericardectomy', metadata={'sentence': '79', 'chunk': '147', 'entity': 'TREATMENT', 'confidence': '0.9822'}, embeddings=[]), Row(annotatorType='chunk', begin=5456, end=5469, result='chest, pleural', metadata={'sentence': '79', 'chunk': '148', 'entity': 'PROBLEM', 'confidence': '0.7570999'}, embeddings=[])])]"
      ]
     },
     "execution_count": 41,
     "metadata": {},
     "output_type": "execute_result"
    }
   ],
   "source": [
    "result.select('ner_chunk').take(1)"
   ]
  },
  {
   "cell_type": "code",
   "execution_count": 0,
   "metadata": {
    "application/vnd.databricks.v1+cell": {
     "cellMetadata": {
      "byteLimit": 2048000,
      "rowLimit": 10000
     },
     "inputWidgets": {},
     "nuid": "3293b074-2aaa-483a-879b-3978ed01db11",
     "showTitle": false,
     "tableResultSettingsMap": {},
     "title": ""
    }
   },
   "outputs": [
    {
     "output_type": "execute_result",
     "data": {
      "text/plain": [
       "[{'annotatorType': 'chunk',\n",
       "  'begin': 118,\n",
       "  'end': 129,\n",
       "  'result': 'Mesothelioma',\n",
       "  'metadata': {'sentence': '2',\n",
       "   'chunk': '0',\n",
       "   'entity': 'PROBLEM',\n",
       "   'confidence': '0.9991'}},\n",
       " {'annotatorType': 'chunk',\n",
       "  'begin': 132,\n",
       "  'end': 147,\n",
       "  'result': 'pleural effusion',\n",
       "  'metadata': {'sentence': '2',\n",
       "   'chunk': '1',\n",
       "   'entity': 'PROBLEM',\n",
       "   'confidence': '0.99465'}},\n",
       " {'annotatorType': 'chunk',\n",
       "  'begin': 150,\n",
       "  'end': 168,\n",
       "  'result': 'atrial fibrillation',\n",
       "  'metadata': {'sentence': '2',\n",
       "   'chunk': '2',\n",
       "   'entity': 'PROBLEM',\n",
       "   'confidence': '0.9979'}},\n",
       " {'annotatorType': 'chunk',\n",
       "  'begin': 171,\n",
       "  'end': 176,\n",
       "  'result': 'anemia',\n",
       "  'metadata': {'sentence': '2',\n",
       "   'chunk': '3',\n",
       "   'entity': 'PROBLEM',\n",
       "   'confidence': '0.999'}},\n",
       " {'annotatorType': 'chunk',\n",
       "  'begin': 179,\n",
       "  'end': 185,\n",
       "  'result': 'ascites',\n",
       "  'metadata': {'sentence': '2',\n",
       "   'chunk': '4',\n",
       "   'entity': 'PROBLEM',\n",
       "   'confidence': '0.9996'}},\n",
       " {'annotatorType': 'chunk',\n",
       "  'begin': 188,\n",
       "  'end': 204,\n",
       "  'result': 'esophageal reflux',\n",
       "  'metadata': {'sentence': '2',\n",
       "   'chunk': '5',\n",
       "   'entity': 'PROBLEM',\n",
       "   'confidence': '0.9979'}},\n",
       " {'annotatorType': 'chunk',\n",
       "  'begin': 222,\n",
       "  'end': 243,\n",
       "  'result': 'deep venous thrombosis',\n",
       "  'metadata': {'sentence': '2',\n",
       "   'chunk': '6',\n",
       "   'entity': 'PROBLEM',\n",
       "   'confidence': '0.96760005'}},\n",
       " {'annotatorType': 'chunk',\n",
       "  'begin': 305,\n",
       "  'end': 316,\n",
       "  'result': 'Mesothelioma',\n",
       "  'metadata': {'sentence': '4',\n",
       "   'chunk': '7',\n",
       "   'entity': 'PROBLEM',\n",
       "   'confidence': '0.987'}},\n",
       " {'annotatorType': 'chunk',\n",
       "  'begin': 340,\n",
       "  'end': 355,\n",
       "  'result': 'Pleural effusion',\n",
       "  'metadata': {'sentence': '5',\n",
       "   'chunk': '8',\n",
       "   'entity': 'PROBLEM',\n",
       "   'confidence': '0.97895'}},\n",
       " {'annotatorType': 'chunk',\n",
       "  'begin': 358,\n",
       "  'end': 376,\n",
       "  'result': 'atrial fibrillation',\n",
       "  'metadata': {'sentence': '5',\n",
       "   'chunk': '9',\n",
       "   'entity': 'PROBLEM',\n",
       "   'confidence': '0.99475'}},\n",
       " {'annotatorType': 'chunk',\n",
       "  'begin': 379,\n",
       "  'end': 384,\n",
       "  'result': 'anemia',\n",
       "  'metadata': {'sentence': '5',\n",
       "   'chunk': '10',\n",
       "   'entity': 'PROBLEM',\n",
       "   'confidence': '0.9984'}},\n",
       " {'annotatorType': 'chunk',\n",
       "  'begin': 387,\n",
       "  'end': 393,\n",
       "  'result': 'ascites',\n",
       "  'metadata': {'sentence': '5',\n",
       "   'chunk': '11',\n",
       "   'entity': 'PROBLEM',\n",
       "   'confidence': '0.9994'}},\n",
       " {'annotatorType': 'chunk',\n",
       "  'begin': 396,\n",
       "  'end': 412,\n",
       "  'result': 'esophageal reflux',\n",
       "  'metadata': {'sentence': '5',\n",
       "   'chunk': '12',\n",
       "   'entity': 'PROBLEM',\n",
       "   'confidence': '0.99724996'}},\n",
       " {'annotatorType': 'chunk',\n",
       "  'begin': 430,\n",
       "  'end': 451,\n",
       "  'result': 'deep venous thrombosis',\n",
       "  'metadata': {'sentence': '5',\n",
       "   'chunk': '13',\n",
       "   'entity': 'PROBLEM',\n",
       "   'confidence': '0.9550001'}},\n",
       " {'annotatorType': 'chunk',\n",
       "  'begin': 488,\n",
       "  'end': 512,\n",
       "  'result': 'decortication of the lung',\n",
       "  'metadata': {'sentence': '8',\n",
       "   'chunk': '14',\n",
       "   'entity': 'TREATMENT',\n",
       "   'confidence': '0.756325'}},\n",
       " {'annotatorType': 'chunk',\n",
       "  'begin': 519,\n",
       "  'end': 532,\n",
       "  'result': 'pleural biopsy',\n",
       "  'metadata': {'sentence': '8',\n",
       "   'chunk': '15',\n",
       "   'entity': 'TEST',\n",
       "   'confidence': '0.87715'}},\n",
       " {'annotatorType': 'chunk',\n",
       "  'begin': 538,\n",
       "  'end': 561,\n",
       "  'result': 'transpleural fluoroscopy',\n",
       "  'metadata': {'sentence': '8',\n",
       "   'chunk': '16',\n",
       "   'entity': 'TEST',\n",
       "   'confidence': '0.9527'}},\n",
       " {'annotatorType': 'chunk',\n",
       "  'begin': 587,\n",
       "  'end': 599,\n",
       "  'result': 'thoracentesis',\n",
       "  'metadata': {'sentence': '9',\n",
       "   'chunk': '17',\n",
       "   'entity': 'TREATMENT',\n",
       "   'confidence': '0.9075'}},\n",
       " {'annotatorType': 'chunk',\n",
       "  'begin': 625,\n",
       "  'end': 645,\n",
       "  'result': 'Port-A-Cath placement',\n",
       "  'metadata': {'sentence': '10',\n",
       "   'chunk': '18',\n",
       "   'entity': 'TREATMENT',\n",
       "   'confidence': '0.98075'}},\n",
       " {'annotatorType': 'chunk',\n",
       "  'begin': 722,\n",
       "  'end': 742,\n",
       "  'result': 'a nonproductive cough',\n",
       "  'metadata': {'sentence': '11',\n",
       "   'chunk': '19',\n",
       "   'entity': 'PROBLEM',\n",
       "   'confidence': '0.96173334'}},\n",
       " {'annotatorType': 'chunk',\n",
       "  'begin': 780,\n",
       "  'end': 801,\n",
       "  'result': 'right-sided chest pain',\n",
       "  'metadata': {'sentence': '12',\n",
       "   'chunk': '20',\n",
       "   'entity': 'PROBLEM',\n",
       "   'confidence': '0.97246665'}},\n",
       " {'annotatorType': 'chunk',\n",
       "  'begin': 830,\n",
       "  'end': 834,\n",
       "  'result': 'fever',\n",
       "  'metadata': {'sentence': '12',\n",
       "   'chunk': '21',\n",
       "   'entity': 'PROBLEM',\n",
       "   'confidence': '0.9998'}},\n",
       " {'annotatorType': 'chunk',\n",
       "  'begin': 877,\n",
       "  'end': 888,\n",
       "  'result': 'pericarditis',\n",
       "  'metadata': {'sentence': '13',\n",
       "   'chunk': '22',\n",
       "   'entity': 'PROBLEM',\n",
       "   'confidence': '0.9228'}},\n",
       " {'annotatorType': 'chunk',\n",
       "  'begin': 894,\n",
       "  'end': 907,\n",
       "  'result': 'pericardectomy',\n",
       "  'metadata': {'sentence': '13',\n",
       "   'chunk': '23',\n",
       "   'entity': 'TREATMENT',\n",
       "   'confidence': '0.9991'}},\n",
       " {'annotatorType': 'chunk',\n",
       "  'begin': 935,\n",
       "  'end': 939,\n",
       "  'result': 'cough',\n",
       "  'metadata': {'sentence': '13',\n",
       "   'chunk': '24',\n",
       "   'entity': 'PROBLEM',\n",
       "   'confidence': '0.9977'}},\n",
       " {'annotatorType': 'chunk',\n",
       "  'begin': 946,\n",
       "  'end': 967,\n",
       "  'result': 'right-sided chest pain',\n",
       "  'metadata': {'sentence': '13',\n",
       "   'chunk': '25',\n",
       "   'entity': 'PROBLEM',\n",
       "   'confidence': '0.9766'}},\n",
       " {'annotatorType': 'chunk',\n",
       "  'begin': 1005,\n",
       "  'end': 1015,\n",
       "  'result': 'Chest x-ray',\n",
       "  'metadata': {'sentence': '14',\n",
       "   'chunk': '26',\n",
       "   'entity': 'TEST',\n",
       "   'confidence': '0.91905'}},\n",
       " {'annotatorType': 'chunk',\n",
       "  'begin': 1026,\n",
       "  'end': 1053,\n",
       "  'result': 'right-sided pleural effusion',\n",
       "  'metadata': {'sentence': '14',\n",
       "   'chunk': '27',\n",
       "   'entity': 'PROBLEM',\n",
       "   'confidence': '0.9479'}},\n",
       " {'annotatorType': 'chunk',\n",
       "  'begin': 1080,\n",
       "  'end': 1093,\n",
       "  'result': 'Pericardectomy',\n",
       "  'metadata': {'sentence': '16',\n",
       "   'chunk': '28',\n",
       "   'entity': 'TREATMENT',\n",
       "   'confidence': '0.9962'}},\n",
       " {'annotatorType': 'chunk',\n",
       "  'begin': 1099,\n",
       "  'end': 1110,\n",
       "  'result': 'Pericarditis',\n",
       "  'metadata': {'sentence': '17',\n",
       "   'chunk': '29',\n",
       "   'entity': 'PROBLEM',\n",
       "   'confidence': '0.9861'}},\n",
       " {'annotatorType': 'chunk',\n",
       "  'begin': 1116,\n",
       "  'end': 1134,\n",
       "  'result': 'Atrial fibrillation',\n",
       "  'metadata': {'sentence': '18',\n",
       "   'chunk': '30',\n",
       "   'entity': 'PROBLEM',\n",
       "   'confidence': '0.9803'}},\n",
       " {'annotatorType': 'chunk',\n",
       "  'begin': 1150,\n",
       "  'end': 1184,\n",
       "  'result': 'intracranial thrombolytic treatment',\n",
       "  'metadata': {'sentence': '19',\n",
       "   'chunk': '31',\n",
       "   'entity': 'TREATMENT',\n",
       "   'confidence': '0.9476333'}},\n",
       " {'annotatorType': 'chunk',\n",
       "  'begin': 1204,\n",
       "  'end': 1231,\n",
       "  'result': 'Mesenteric venous thrombosis',\n",
       "  'metadata': {'sentence': '21',\n",
       "   'chunk': '32',\n",
       "   'entity': 'PROBLEM',\n",
       "   'confidence': '0.9354334'}},\n",
       " {'annotatorType': 'chunk',\n",
       "  'begin': 1237,\n",
       "  'end': 1254,\n",
       "  'result': 'Pericardial window',\n",
       "  'metadata': {'sentence': '22',\n",
       "   'chunk': '33',\n",
       "   'entity': 'TREATMENT',\n",
       "   'confidence': '0.6854'}},\n",
       " {'annotatorType': 'chunk',\n",
       "  'begin': 1260,\n",
       "  'end': 1274,\n",
       "  'result': 'Cholecystectomy',\n",
       "  'metadata': {'sentence': '23',\n",
       "   'chunk': '34',\n",
       "   'entity': 'TREATMENT',\n",
       "   'confidence': '0.9991'}},\n",
       " {'annotatorType': 'chunk',\n",
       "  'begin': 1280,\n",
       "  'end': 1297,\n",
       "  'result': 'Left thoracentesis',\n",
       "  'metadata': {'sentence': '24',\n",
       "   'chunk': '35',\n",
       "   'entity': 'TEST',\n",
       "   'confidence': '0.64185'}},\n",
       " {'annotatorType': 'chunk',\n",
       "  'begin': 1337,\n",
       "  'end': 1359,\n",
       "  'result': 'coronary artery disease',\n",
       "  'metadata': {'sentence': '25',\n",
       "   'chunk': '36',\n",
       "   'entity': 'PROBLEM',\n",
       "   'confidence': '0.9825001'}},\n",
       " {'annotatorType': 'chunk',\n",
       "  'begin': 1362,\n",
       "  'end': 1364,\n",
       "  'result': 'CVA',\n",
       "  'metadata': {'sentence': '25',\n",
       "   'chunk': '37',\n",
       "   'entity': 'PROBLEM',\n",
       "   'confidence': '0.9996'}},\n",
       " {'annotatorType': 'chunk',\n",
       "  'begin': 1367,\n",
       "  'end': 1374,\n",
       "  'result': 'diabetes',\n",
       "  'metadata': {'sentence': '25',\n",
       "   'chunk': '38',\n",
       "   'entity': 'PROBLEM',\n",
       "   'confidence': '0.9993'}},\n",
       " {'annotatorType': 'chunk',\n",
       "  'begin': 1377,\n",
       "  'end': 1379,\n",
       "  'result': 'CHF',\n",
       "  'metadata': {'sentence': '25',\n",
       "   'chunk': '39',\n",
       "   'entity': 'PROBLEM',\n",
       "   'confidence': '0.9997'}},\n",
       " {'annotatorType': 'chunk',\n",
       "  'begin': 1384,\n",
       "  'end': 1385,\n",
       "  'result': 'MI',\n",
       "  'metadata': {'sentence': '25',\n",
       "   'chunk': '40',\n",
       "   'entity': 'PROBLEM',\n",
       "   'confidence': '0.9996'}},\n",
       " {'annotatorType': 'chunk',\n",
       "  'begin': 1449,\n",
       "  'end': 1454,\n",
       "  'result': 'cancer',\n",
       "  'metadata': {'sentence': '26',\n",
       "   'chunk': '41',\n",
       "   'entity': 'PROBLEM',\n",
       "   'confidence': '0.9749'}},\n",
       " {'annotatorType': 'chunk',\n",
       "  'begin': 1609,\n",
       "  'end': 1616,\n",
       "  'result': 'Coumadin',\n",
       "  'metadata': {'sentence': '33',\n",
       "   'chunk': '42',\n",
       "   'entity': 'TREATMENT',\n",
       "   'confidence': '0.9997'}},\n",
       " {'annotatorType': 'chunk',\n",
       "  'begin': 1635,\n",
       "  'end': 1637,\n",
       "  'result': 'INR',\n",
       "  'metadata': {'sentence': '34',\n",
       "   'chunk': '43',\n",
       "   'entity': 'TEST',\n",
       "   'confidence': '0.7696'}},\n",
       " {'annotatorType': 'chunk',\n",
       "  'begin': 1676,\n",
       "  'end': 1682,\n",
       "  'result': 'her INR',\n",
       "  'metadata': {'sentence': '34',\n",
       "   'chunk': '44',\n",
       "   'entity': 'TEST',\n",
       "   'confidence': '0.79190004'}},\n",
       " {'annotatorType': 'chunk',\n",
       "  'begin': 1696,\n",
       "  'end': 1705,\n",
       "  'result': 'Amiodarone',\n",
       "  'metadata': {'sentence': '34',\n",
       "   'chunk': '45',\n",
       "   'entity': 'TREATMENT',\n",
       "   'confidence': '0.9998'}},\n",
       " {'annotatorType': 'chunk',\n",
       "  'begin': 1764,\n",
       "  'end': 1770,\n",
       "  'result': 'systems',\n",
       "  'metadata': {'sentence': '35',\n",
       "   'chunk': '46',\n",
       "   'entity': 'TEST',\n",
       "   'confidence': '0.5396'}},\n",
       " {'annotatorType': 'chunk',\n",
       "  'begin': 1845,\n",
       "  'end': 1863,\n",
       "  'result': 'occasional numbness',\n",
       "  'metadata': {'sentence': '36',\n",
       "   'chunk': '47',\n",
       "   'entity': 'PROBLEM',\n",
       "   'confidence': '0.95554996'}},\n",
       " {'annotatorType': 'chunk',\n",
       "  'begin': 1869,\n",
       "  'end': 1892,\n",
       "  'result': 'tingling of her left arm',\n",
       "  'metadata': {'sentence': '36',\n",
       "   'chunk': '48',\n",
       "   'entity': 'PROBLEM',\n",
       "   'confidence': '0.77458'}},\n",
       " {'annotatorType': 'chunk',\n",
       "  'begin': 1929,\n",
       "  'end': 1942,\n",
       "  'result': 'Blood pressure',\n",
       "  'metadata': {'sentence': '37',\n",
       "   'chunk': '49',\n",
       "   'entity': 'TEST',\n",
       "   'confidence': '0.9727'}},\n",
       " {'annotatorType': 'chunk',\n",
       "  'begin': 1952,\n",
       "  'end': 1961,\n",
       "  'result': 'heart rate',\n",
       "  'metadata': {'sentence': '37',\n",
       "   'chunk': '50',\n",
       "   'entity': 'TEST',\n",
       "   'confidence': '0.98315'}},\n",
       " {'annotatorType': 'chunk',\n",
       "  'begin': 1967,\n",
       "  'end': 1978,\n",
       "  'result': 'respirations',\n",
       "  'metadata': {'sentence': '37',\n",
       "   'chunk': '51',\n",
       "   'entity': 'TEST',\n",
       "   'confidence': '1.0'}},\n",
       " {'annotatorType': 'chunk',\n",
       "  'begin': 1984,\n",
       "  'end': 1994,\n",
       "  'result': 'temperature',\n",
       "  'metadata': {'sentence': '37',\n",
       "   'chunk': '52',\n",
       "   'entity': 'TEST',\n",
       "   'confidence': '0.9999'}},\n",
       " {'annotatorType': 'chunk',\n",
       "  'begin': 2004,\n",
       "  'end': 2020,\n",
       "  'result': 'oxygen saturation',\n",
       "  'metadata': {'sentence': '37',\n",
       "   'chunk': '53',\n",
       "   'entity': 'TEST',\n",
       "   'confidence': '0.97650003'}},\n",
       " {'annotatorType': 'chunk',\n",
       "  'begin': 2045,\n",
       "  'end': 2063,\n",
       "  'result': 'nonproductive cough',\n",
       "  'metadata': {'sentence': '38',\n",
       "   'chunk': '54',\n",
       "   'entity': 'PROBLEM',\n",
       "   'confidence': '0.83985'}},\n",
       " {'annotatorType': 'chunk',\n",
       "  'begin': 2069,\n",
       "  'end': 2072,\n",
       "  'result': 'pain',\n",
       "  'metadata': {'sentence': '38',\n",
       "   'chunk': '55',\n",
       "   'entity': 'PROBLEM',\n",
       "   'confidence': '0.9951'}},\n",
       " {'annotatorType': 'chunk',\n",
       "  'begin': 2079,\n",
       "  'end': 2086,\n",
       "  'result': 'coughing',\n",
       "  'metadata': {'sentence': '38',\n",
       "   'chunk': '56',\n",
       "   'entity': 'PROBLEM',\n",
       "   'confidence': '0.9568'}},\n",
       " {'annotatorType': 'chunk',\n",
       "  'begin': 2201,\n",
       "  'end': 2215,\n",
       "  'result': 'lymphadenopathy',\n",
       "  'metadata': {'sentence': '42',\n",
       "   'chunk': '57',\n",
       "   'entity': 'PROBLEM',\n",
       "   'confidence': '0.9988'}},\n",
       " {'annotatorType': 'chunk',\n",
       "  'begin': 2221,\n",
       "  'end': 2226,\n",
       "  'result': 'masses',\n",
       "  'metadata': {'sentence': '43',\n",
       "   'chunk': '58',\n",
       "   'entity': 'PROBLEM',\n",
       "   'confidence': '0.9995'}},\n",
       " {'annotatorType': 'chunk',\n",
       "  'begin': 2242,\n",
       "  'end': 2261,\n",
       "  'result': 'Pleural friction rub',\n",
       "  'metadata': {'sentence': '44',\n",
       "   'chunk': '59',\n",
       "   'entity': 'PROBLEM',\n",
       "   'confidence': '0.89523333'}},\n",
       " {'annotatorType': 'chunk',\n",
       "  'begin': 2283,\n",
       "  'end': 2294,\n",
       "  'result': 'nondistended',\n",
       "  'metadata': {'sentence': '45',\n",
       "   'chunk': '60',\n",
       "   'entity': 'PROBLEM',\n",
       "   'confidence': '0.9994'}},\n",
       " {'annotatorType': 'chunk',\n",
       "  'begin': 2301,\n",
       "  'end': 2309,\n",
       "  'result': 'nontender',\n",
       "  'metadata': {'sentence': '45',\n",
       "   'chunk': '61',\n",
       "   'entity': 'PROBLEM',\n",
       "   'confidence': '0.9991'}},\n",
       " {'annotatorType': 'chunk',\n",
       "  'begin': 2338,\n",
       "  'end': 2349,\n",
       "  'result': 'organomegaly',\n",
       "  'metadata': {'sentence': '47',\n",
       "   'chunk': '62',\n",
       "   'entity': 'PROBLEM',\n",
       "   'confidence': '0.9977'}},\n",
       " {'annotatorType': 'chunk',\n",
       "  'begin': 2368,\n",
       "  'end': 2372,\n",
       "  'result': 'edema',\n",
       "  'metadata': {'sentence': '48',\n",
       "   'chunk': '63',\n",
       "   'entity': 'PROBLEM',\n",
       "   'confidence': '0.9985'}},\n",
       " {'annotatorType': 'chunk',\n",
       "  'begin': 2378,\n",
       "  'end': 2385,\n",
       "  'result': 'clubbing',\n",
       "  'metadata': {'sentence': '48',\n",
       "   'chunk': '64',\n",
       "   'entity': 'PROBLEM',\n",
       "   'confidence': '0.9961'}},\n",
       " {'annotatorType': 'chunk',\n",
       "  'begin': 2391,\n",
       "  'end': 2398,\n",
       "  'result': 'cyanosis',\n",
       "  'metadata': {'sentence': '48',\n",
       "   'chunk': '65',\n",
       "   'entity': 'PROBLEM',\n",
       "   'confidence': '0.9984'}},\n",
       " {'annotatorType': 'chunk',\n",
       "  'begin': 2404,\n",
       "  'end': 2413,\n",
       "  'result': 'tenderness',\n",
       "  'metadata': {'sentence': '48',\n",
       "   'chunk': '66',\n",
       "   'entity': 'PROBLEM',\n",
       "   'confidence': '0.9995'}},\n",
       " {'annotatorType': 'chunk',\n",
       "  'begin': 2481,\n",
       "  'end': 2489,\n",
       "  'result': 'breakdown',\n",
       "  'metadata': {'sentence': '51',\n",
       "   'chunk': '67',\n",
       "   'entity': 'PROBLEM',\n",
       "   'confidence': '0.9982'}},\n",
       " {'annotatorType': 'chunk',\n",
       "  'begin': 2494,\n",
       "  'end': 2500,\n",
       "  'result': 'lesions',\n",
       "  'metadata': {'sentence': '51',\n",
       "   'chunk': '68',\n",
       "   'entity': 'PROBLEM',\n",
       "   'confidence': '0.9937'}},\n",
       " {'annotatorType': 'chunk',\n",
       "  'begin': 2506,\n",
       "  'end': 2511,\n",
       "  'result': 'ulcers',\n",
       "  'metadata': {'sentence': '52',\n",
       "   'chunk': '69',\n",
       "   'entity': 'PROBLEM',\n",
       "   'confidence': '0.9985'}},\n",
       " {'annotatorType': 'chunk',\n",
       "  'begin': 2545,\n",
       "  'end': 2558,\n",
       "  'result': 'focal deficits',\n",
       "  'metadata': {'sentence': '54',\n",
       "   'chunk': '70',\n",
       "   'entity': 'PROBLEM',\n",
       "   'confidence': '0.93095005'}},\n",
       " {'annotatorType': 'chunk',\n",
       "  'begin': 2633,\n",
       "  'end': 2636,\n",
       "  'result': 'Labs',\n",
       "  'metadata': {'sentence': '56',\n",
       "   'chunk': '71',\n",
       "   'entity': 'TEST',\n",
       "   'confidence': '0.9843'}},\n",
       " {'annotatorType': 'chunk',\n",
       "  'begin': 2697,\n",
       "  'end': 2726,\n",
       "  'result': 'a right-sided pleural effusion',\n",
       "  'metadata': {'sentence': '58',\n",
       "   'chunk': '72',\n",
       "   'entity': 'PROBLEM',\n",
       "   'confidence': '0.715325'}},\n",
       " {'annotatorType': 'chunk',\n",
       "  'begin': 2732,\n",
       "  'end': 2744,\n",
       "  'result': 'thoracentesis',\n",
       "  'metadata': {'sentence': '58',\n",
       "   'chunk': '73',\n",
       "   'entity': 'TREATMENT',\n",
       "   'confidence': '0.8775'}},\n",
       " {'annotatorType': 'chunk',\n",
       "  'begin': 2766,\n",
       "  'end': 2777,\n",
       "  'result': 'Her Coumadin',\n",
       "  'metadata': {'sentence': '58',\n",
       "   'chunk': '74',\n",
       "   'entity': 'TREATMENT',\n",
       "   'confidence': '0.98109996'}},\n",
       " {'annotatorType': 'chunk',\n",
       "  'begin': 2799,\n",
       "  'end': 2821,\n",
       "  'result': 'A repeat echocardiogram',\n",
       "  'metadata': {'sentence': '59',\n",
       "   'chunk': '75',\n",
       "   'entity': 'TEST',\n",
       "   'confidence': '0.8780667'}},\n",
       " {'annotatorType': 'chunk',\n",
       "  'begin': 2855,\n",
       "  'end': 2865,\n",
       "  'result': 'prophylaxis',\n",
       "  'metadata': {'sentence': '60',\n",
       "   'chunk': '76',\n",
       "   'entity': 'TREATMENT',\n",
       "   'confidence': '0.9996'}},\n",
       " {'annotatorType': 'chunk',\n",
       "  'begin': 2871,\n",
       "  'end': 2873,\n",
       "  'result': 'DVT',\n",
       "  'metadata': {'sentence': '60',\n",
       "   'chunk': '77',\n",
       "   'entity': 'PROBLEM',\n",
       "   'confidence': '0.9983'}},\n",
       " {'annotatorType': 'chunk',\n",
       "  'begin': 2880,\n",
       "  'end': 2886,\n",
       "  'result': 'Lovenox',\n",
       "  'metadata': {'sentence': '60',\n",
       "   'chunk': '78',\n",
       "   'entity': 'TREATMENT',\n",
       "   'confidence': '0.9982'}},\n",
       " {'annotatorType': 'chunk',\n",
       "  'begin': 3003,\n",
       "  'end': 3014,\n",
       "  'result': 'pericarditis',\n",
       "  'metadata': {'sentence': '61',\n",
       "   'chunk': '79',\n",
       "   'entity': 'PROBLEM',\n",
       "   'confidence': '0.8911'}},\n",
       " {'annotatorType': 'chunk',\n",
       "  'begin': 3040,\n",
       "  'end': 3057,\n",
       "  'result': 'pericardial window',\n",
       "  'metadata': {'sentence': '61',\n",
       "   'chunk': '80',\n",
       "   'entity': 'TREATMENT',\n",
       "   'confidence': '0.96784997'}},\n",
       " {'annotatorType': 'chunk',\n",
       "  'begin': 3123,\n",
       "  'end': 3137,\n",
       "  'result': 'mesenteric pain',\n",
       "  'metadata': {'sentence': '61',\n",
       "   'chunk': '81',\n",
       "   'entity': 'PROBLEM',\n",
       "   'confidence': '0.9893'}},\n",
       " {'annotatorType': 'chunk',\n",
       "  'begin': 3143,\n",
       "  'end': 3152,\n",
       "  'result': 'thrombosis',\n",
       "  'metadata': {'sentence': '61',\n",
       "   'chunk': '82',\n",
       "   'entity': 'PROBLEM',\n",
       "   'confidence': '0.9983'}},\n",
       " {'annotatorType': 'chunk',\n",
       "  'begin': 3162,\n",
       "  'end': 3175,\n",
       "  'result': 'anticoagulated',\n",
       "  'metadata': {'sentence': '61',\n",
       "   'chunk': '83',\n",
       "   'entity': 'TREATMENT',\n",
       "   'confidence': '0.9508'}},\n",
       " {'annotatorType': 'chunk',\n",
       "  'begin': 3281,\n",
       "  'end': 3294,\n",
       "  'result': 'pericardectomy',\n",
       "  'metadata': {'sentence': '62',\n",
       "   'chunk': '84',\n",
       "   'entity': 'TREATMENT',\n",
       "   'confidence': '0.9988'}},\n",
       " {'annotatorType': 'chunk',\n",
       "  'begin': 3337,\n",
       "  'end': 3347,\n",
       "  'result': 'her CT scan',\n",
       "  'metadata': {'sentence': '62',\n",
       "   'chunk': '85',\n",
       "   'entity': 'TEST',\n",
       "   'confidence': '0.9552667'}},\n",
       " {'annotatorType': 'chunk',\n",
       "  'begin': 3374,\n",
       "  'end': 3391,\n",
       "  'result': 'her pericardectomy',\n",
       "  'metadata': {'sentence': '62',\n",
       "   'chunk': '86',\n",
       "   'entity': 'TREATMENT',\n",
       "   'confidence': '0.87944996'}},\n",
       " {'annotatorType': 'chunk',\n",
       "  'begin': 3408,\n",
       "  'end': 3433,\n",
       "  'result': 'bilateral plural effusions',\n",
       "  'metadata': {'sentence': '62',\n",
       "   'chunk': '87',\n",
       "   'entity': 'PROBLEM',\n",
       "   'confidence': '0.9345667'}},\n",
       " {'annotatorType': 'chunk',\n",
       "  'begin': 3474,\n",
       "  'end': 3491,\n",
       "  'result': 'the pericardectomy',\n",
       "  'metadata': {'sentence': '63',\n",
       "   'chunk': '88',\n",
       "   'entity': 'TREATMENT',\n",
       "   'confidence': '0.98665'}},\n",
       " {'annotatorType': 'chunk',\n",
       "  'begin': 3512,\n",
       "  'end': 3523,\n",
       "  'result': 'her symptoms',\n",
       "  'metadata': {'sentence': '63',\n",
       "   'chunk': '89',\n",
       "   'entity': 'PROBLEM',\n",
       "   'confidence': '0.9017'}},\n",
       " {'annotatorType': 'chunk',\n",
       "  'begin': 3576,\n",
       "  'end': 3585,\n",
       "  'result': 'chest pain',\n",
       "  'metadata': {'sentence': '64',\n",
       "   'chunk': '90',\n",
       "   'entity': 'PROBLEM',\n",
       "   'confidence': '0.9956'}},\n",
       " {'annotatorType': 'chunk',\n",
       "  'begin': 3605,\n",
       "  'end': 3630,\n",
       "  'result': 'bilateral pleural effusion',\n",
       "  'metadata': {'sentence': '64',\n",
       "   'chunk': '91',\n",
       "   'entity': 'PROBLEM',\n",
       "   'confidence': '0.9514'}},\n",
       " {'annotatorType': 'chunk',\n",
       "  'begin': 3666,\n",
       "  'end': 3680,\n",
       "  'result': 'CT of the chest',\n",
       "  'metadata': {'sentence': '65',\n",
       "   'chunk': '92',\n",
       "   'entity': 'TEST',\n",
       "   'confidence': '0.853225'}},\n",
       " {'annotatorType': 'chunk',\n",
       "  'begin': 3696,\n",
       "  'end': 3725,\n",
       "  'result': 'a large mediastinal lymph node',\n",
       "  'metadata': {'sentence': '65',\n",
       "   'chunk': '93',\n",
       "   'entity': 'PROBLEM',\n",
       "   'confidence': '0.8369201'}},\n",
       " {'annotatorType': 'chunk',\n",
       "  'begin': 3740,\n",
       "  'end': 3752,\n",
       "  'result': 'the pathology',\n",
       "  'metadata': {'sentence': '66',\n",
       "   'chunk': '94',\n",
       "   'entity': 'TEST',\n",
       "   'confidence': '0.44089997'}},\n",
       " {'annotatorType': 'chunk',\n",
       "  'begin': 3768,\n",
       "  'end': 3785,\n",
       "  'result': 'the pericardectomy',\n",
       "  'metadata': {'sentence': '66',\n",
       "   'chunk': '95',\n",
       "   'entity': 'TREATMENT',\n",
       "   'confidence': '0.9546'}},\n",
       " {'annotatorType': 'chunk',\n",
       "  'begin': 3826,\n",
       "  'end': 3837,\n",
       "  'result': 'mesothelioma',\n",
       "  'metadata': {'sentence': '66',\n",
       "   'chunk': '96',\n",
       "   'entity': 'PROBLEM',\n",
       "   'confidence': '0.961'}},\n",
       " {'annotatorType': 'chunk',\n",
       "  'begin': 3854,\n",
       "  'end': 3873,\n",
       "  'result': 'chest tube placement',\n",
       "  'metadata': {'sentence': '67',\n",
       "   'chunk': '97',\n",
       "   'entity': 'TREATMENT',\n",
       "   'confidence': '0.9526333'}},\n",
       " {'annotatorType': 'chunk',\n",
       "  'begin': 3879,\n",
       "  'end': 3899,\n",
       "  'result': 'drainage of the fluid',\n",
       "  'metadata': {'sentence': '67',\n",
       "   'chunk': '98',\n",
       "   'entity': 'PROBLEM',\n",
       "   'confidence': '0.7372'}},\n",
       " {'annotatorType': 'chunk',\n",
       "  'begin': 3914,\n",
       "  'end': 3925,\n",
       "  'result': 'thoracoscopy',\n",
       "  'metadata': {'sentence': '67',\n",
       "   'chunk': '99',\n",
       "   'entity': 'TREATMENT',\n",
       "   'confidence': '0.6497'}},\n",
       " {'annotatorType': 'chunk',\n",
       "  'begin': 3932,\n",
       "  'end': 3945,\n",
       "  'result': 'fluid biopsies',\n",
       "  'metadata': {'sentence': '67',\n",
       "   'chunk': '100',\n",
       "   'entity': 'TEST',\n",
       "   'confidence': '0.7528'}},\n",
       " {'annotatorType': 'chunk',\n",
       "  'begin': 3985,\n",
       "  'end': 4018,\n",
       "  'result': 'epithelioid malignant mesothelioma',\n",
       "  'metadata': {'sentence': '67',\n",
       "   'chunk': '101',\n",
       "   'entity': 'PROBLEM',\n",
       "   'confidence': '0.97339994'}},\n",
       " {'annotatorType': 'chunk',\n",
       "  'begin': 4055,\n",
       "  'end': 4062,\n",
       "  'result': 'a PET CT',\n",
       "  'metadata': {'sentence': '68',\n",
       "   'chunk': '102',\n",
       "   'entity': 'TEST',\n",
       "   'confidence': '0.94320005'}},\n",
       " {'annotatorType': 'chunk',\n",
       "  'begin': 4078,\n",
       "  'end': 4106,\n",
       "  'result': 'extensive uptake in the chest',\n",
       "  'metadata': {'sentence': '68',\n",
       "   'chunk': '103',\n",
       "   'entity': 'PROBLEM',\n",
       "   'confidence': '0.90375996'}},\n",
       " {'annotatorType': 'chunk',\n",
       "  'begin': 4109,\n",
       "  'end': 4147,\n",
       "  'result': 'bilateral pleural pericardial effusions',\n",
       "  'metadata': {'sentence': '68',\n",
       "   'chunk': '104',\n",
       "   'entity': 'PROBLEM',\n",
       "   'confidence': '0.96755'}},\n",
       " {'annotatorType': 'chunk',\n",
       "  'begin': 4154,\n",
       "  'end': 4168,\n",
       "  'result': 'lymphadenopathy',\n",
       "  'metadata': {'sentence': '68',\n",
       "   'chunk': '105',\n",
       "   'entity': 'PROBLEM',\n",
       "   'confidence': '0.9956'}},\n",
       " {'annotatorType': 'chunk',\n",
       "  'begin': 4184,\n",
       "  'end': 4195,\n",
       "  'result': 'acidic fluid',\n",
       "  'metadata': {'sentence': '69',\n",
       "   'chunk': '106',\n",
       "   'entity': 'PROBLEM',\n",
       "   'confidence': '0.96854997'}},\n",
       " {'annotatorType': 'chunk',\n",
       "  'begin': 4198,\n",
       "  'end': 4234,\n",
       "  'result': 'pectoral and intramammary lymph nodes',\n",
       "  'metadata': {'sentence': '69',\n",
       "   'chunk': '107',\n",
       "   'entity': 'PROBLEM',\n",
       "   'confidence': '0.748'}},\n",
       " {'annotatorType': 'chunk',\n",
       "  'begin': 4240,\n",
       "  'end': 4251,\n",
       "  'result': 'uptake in L4',\n",
       "  'metadata': {'sentence': '69',\n",
       "   'chunk': '108',\n",
       "   'entity': 'PROBLEM',\n",
       "   'confidence': '0.8012333'}},\n",
       " {'annotatorType': 'chunk',\n",
       "  'begin': 4258,\n",
       "  'end': 4260,\n",
       "  'result': 'SUV',\n",
       "  'metadata': {'sentence': '69',\n",
       "   'chunk': '109',\n",
       "   'entity': 'TEST',\n",
       "   'confidence': '0.9959'}},\n",
       " {'annotatorType': 'chunk',\n",
       "  'begin': 4293,\n",
       "  'end': 4309,\n",
       "  'result': 'stage III disease',\n",
       "  'metadata': {'sentence': '70',\n",
       "   'chunk': '110',\n",
       "   'entity': 'PROBLEM',\n",
       "   'confidence': '0.8552334'}},\n",
       " {'annotatorType': 'chunk',\n",
       "  'begin': 4312,\n",
       "  'end': 4336,\n",
       "  'result': 'Her repeat echocardiogram',\n",
       "  'metadata': {'sentence': '71',\n",
       "   'chunk': '111',\n",
       "   'entity': 'TEST',\n",
       "   'confidence': '0.8606667'}},\n",
       " {'annotatorType': 'chunk',\n",
       "  'begin': 4345,\n",
       "  'end': 4364,\n",
       "  'result': 'an ejection fraction',\n",
       "  'metadata': {'sentence': '71',\n",
       "   'chunk': '112',\n",
       "   'entity': 'TEST',\n",
       "   'confidence': '0.7115'}},\n",
       " {'annotatorType': 'chunk',\n",
       "  'begin': 4436,\n",
       "  'end': 4447,\n",
       "  'result': 'chemotherapy',\n",
       "  'metadata': {'sentence': '72',\n",
       "   'chunk': '113',\n",
       "   'entity': 'TREATMENT',\n",
       "   'confidence': '0.9994'}},\n",
       " {'annotatorType': 'chunk',\n",
       "  'begin': 4475,\n",
       "  'end': 4483,\n",
       "  'result': 'cisplatin',\n",
       "  'metadata': {'sentence': '72',\n",
       "   'chunk': '114',\n",
       "   'entity': 'TREATMENT',\n",
       "   'confidence': '0.9996'}},\n",
       " {'annotatorType': 'chunk',\n",
       "  'begin': 4526,\n",
       "  'end': 4537,\n",
       "  'result': 'IV piggyback',\n",
       "  'metadata': {'sentence': '72',\n",
       "   'chunk': '115',\n",
       "   'entity': 'TREATMENT',\n",
       "   'confidence': '0.75020003'}},\n",
       " {'annotatorType': 'chunk',\n",
       "  'begin': 4574,\n",
       "  'end': 4579,\n",
       "  'result': 'Alimta',\n",
       "  'metadata': {'sentence': '72',\n",
       "   'chunk': '116',\n",
       "   'entity': 'TREATMENT',\n",
       "   'confidence': '0.9999'}},\n",
       " {'annotatorType': 'chunk',\n",
       "  'begin': 4624,\n",
       "  'end': 4635,\n",
       "  'result': 'IV piggyback',\n",
       "  'metadata': {'sentence': '72',\n",
       "   'chunk': '117',\n",
       "   'entity': 'TREATMENT',\n",
       "   'confidence': '0.7633'}},\n",
       " {'annotatorType': 'chunk',\n",
       "  'begin': 4683,\n",
       "  'end': 4695,\n",
       "  'result': 'a Port-A-Cath',\n",
       "  'metadata': {'sentence': '73',\n",
       "   'chunk': '118',\n",
       "   'entity': 'TREATMENT',\n",
       "   'confidence': '0.9683'}},\n",
       " {'annotatorType': 'chunk',\n",
       "  'begin': 4709,\n",
       "  'end': 4724,\n",
       "  'result': 'The chemotherapy',\n",
       "  'metadata': {'sentence': '74',\n",
       "   'chunk': '119',\n",
       "   'entity': 'TREATMENT',\n",
       "   'confidence': '0.94605'}},\n",
       " {'annotatorType': 'chunk',\n",
       "  'begin': 4814,\n",
       "  'end': 4821,\n",
       "  'result': 'IV fluid',\n",
       "  'metadata': {'sentence': '74',\n",
       "   'chunk': '120',\n",
       "   'entity': 'TREATMENT',\n",
       "   'confidence': '0.88874996'}},\n",
       " {'annotatorType': 'chunk',\n",
       "  'begin': 4827,\n",
       "  'end': 4828,\n",
       "  'result': 'IV',\n",
       "  'metadata': {'sentence': '74',\n",
       "   'chunk': '121',\n",
       "   'entity': 'TREATMENT',\n",
       "   'confidence': '0.9877'}},\n",
       " {'annotatorType': 'chunk',\n",
       "  'begin': 4831,\n",
       "  'end': 4845,\n",
       "  'result': 'Her Port-A-Cath',\n",
       "  'metadata': {'sentence': '75',\n",
       "   'chunk': '122',\n",
       "   'entity': 'TREATMENT',\n",
       "   'confidence': '0.97214997'}},\n",
       " {'annotatorType': 'chunk',\n",
       "  'begin': 4863,\n",
       "  'end': 4869,\n",
       "  'result': 'heparin',\n",
       "  'metadata': {'sentence': '75',\n",
       "   'chunk': '123',\n",
       "   'entity': 'TREATMENT',\n",
       "   'confidence': '0.9973'}},\n",
       " {'annotatorType': 'chunk',\n",
       "  'begin': 4894,\n",
       "  'end': 4914,\n",
       "  'result': 'DISCHARGE MEDICATIONS',\n",
       "  'metadata': {'sentence': '76',\n",
       "   'chunk': '124',\n",
       "   'entity': 'TREATMENT',\n",
       "   'confidence': '0.76094997'}},\n",
       " {'annotatorType': 'chunk',\n",
       "  'begin': 4917,\n",
       "  'end': 4922,\n",
       "  'result': 'Zofran',\n",
       "  'metadata': {'sentence': '76',\n",
       "   'chunk': '125',\n",
       "   'entity': 'TREATMENT',\n",
       "   'confidence': '0.9997'}},\n",
       " {'annotatorType': 'chunk',\n",
       "  'begin': 4925,\n",
       "  'end': 4933,\n",
       "  'result': 'Phenergan',\n",
       "  'metadata': {'sentence': '76',\n",
       "   'chunk': '126',\n",
       "   'entity': 'TREATMENT',\n",
       "   'confidence': '0.9999'}},\n",
       " {'annotatorType': 'chunk',\n",
       "  'begin': 4936,\n",
       "  'end': 4943,\n",
       "  'result': 'Coumadin',\n",
       "  'metadata': {'sentence': '76',\n",
       "   'chunk': '127',\n",
       "   'entity': 'TREATMENT',\n",
       "   'confidence': '1.0'}},\n",
       " {'annotatorType': 'chunk',\n",
       "  'begin': 4950,\n",
       "  'end': 4956,\n",
       "  'result': 'Lovenox',\n",
       "  'metadata': {'sentence': '76',\n",
       "   'chunk': '128',\n",
       "   'entity': 'TREATMENT',\n",
       "   'confidence': '0.9998'}},\n",
       " {'annotatorType': 'chunk',\n",
       "  'begin': 4963,\n",
       "  'end': 4969,\n",
       "  'result': 'Vicodin',\n",
       "  'metadata': {'sentence': '76',\n",
       "   'chunk': '129',\n",
       "   'entity': 'TREATMENT',\n",
       "   'confidence': '0.9989'}},\n",
       " {'annotatorType': 'chunk',\n",
       "  'begin': 5062,\n",
       "  'end': 5068,\n",
       "  'result': 'her INR',\n",
       "  'metadata': {'sentence': '77',\n",
       "   'chunk': '130',\n",
       "   'entity': 'TEST',\n",
       "   'confidence': '0.93625'}},\n",
       " {'annotatorType': 'chunk',\n",
       "  'begin': 5201,\n",
       "  'end': 5212,\n",
       "  'result': 'mesothelioma',\n",
       "  'metadata': {'sentence': '79',\n",
       "   'chunk': '131',\n",
       "   'entity': 'PROBLEM',\n",
       "   'confidence': '0.9981'}},\n",
       " {'annotatorType': 'chunk',\n",
       "  'begin': 5215,\n",
       "  'end': 5230,\n",
       "  'result': 'pleural effusion',\n",
       "  'metadata': {'sentence': '79',\n",
       "   'chunk': '132',\n",
       "   'entity': 'PROBLEM',\n",
       "   'confidence': '0.98370004'}},\n",
       " {'annotatorType': 'chunk',\n",
       "  'begin': 5233,\n",
       "  'end': 5251,\n",
       "  'result': 'atrial fibrillation',\n",
       "  'metadata': {'sentence': '79',\n",
       "   'chunk': '133',\n",
       "   'entity': 'PROBLEM',\n",
       "   'confidence': '0.9953'}},\n",
       " {'annotatorType': 'chunk',\n",
       "  'begin': 5254,\n",
       "  'end': 5259,\n",
       "  'result': 'anemia',\n",
       "  'metadata': {'sentence': '79',\n",
       "   'chunk': '134',\n",
       "   'entity': 'PROBLEM',\n",
       "   'confidence': '0.9981'}},\n",
       " {'annotatorType': 'chunk',\n",
       "  'begin': 5262,\n",
       "  'end': 5268,\n",
       "  'result': 'ascites',\n",
       "  'metadata': {'sentence': '79',\n",
       "   'chunk': '135',\n",
       "   'entity': 'PROBLEM',\n",
       "   'confidence': '0.999'}},\n",
       " {'annotatorType': 'chunk',\n",
       "  'begin': 5271,\n",
       "  'end': 5287,\n",
       "  'result': 'esophageal reflux',\n",
       "  'metadata': {'sentence': '79',\n",
       "   'chunk': '136',\n",
       "   'entity': 'PROBLEM',\n",
       "   'confidence': '0.9963'}},\n",
       " {'annotatorType': 'chunk',\n",
       "  'begin': 5290,\n",
       "  'end': 5311,\n",
       "  'result': 'deep venous thrombosis',\n",
       "  'metadata': {'sentence': '79',\n",
       "   'chunk': '137',\n",
       "   'entity': 'PROBLEM',\n",
       "   'confidence': '0.98296666'}},\n",
       " {'annotatorType': 'chunk',\n",
       "  'begin': 5314,\n",
       "  'end': 5334,\n",
       "  'result': 'port-a-cath placement',\n",
       "  'metadata': {'sentence': '79',\n",
       "   'chunk': '138',\n",
       "   'entity': 'TREATMENT',\n",
       "   'confidence': '0.918'}},\n",
       " {'annotatorType': 'chunk',\n",
       "  'begin': 5337,\n",
       "  'end': 5347,\n",
       "  'result': 'port a cath',\n",
       "  'metadata': {'sentence': '79',\n",
       "   'chunk': '139',\n",
       "   'entity': 'TREATMENT',\n",
       "   'confidence': '0.69156665'}},\n",
       " {'annotatorType': 'chunk',\n",
       "  'begin': 5350,\n",
       "  'end': 5361,\n",
       "  'result': 'iv piggyback',\n",
       "  'metadata': {'sentence': '79',\n",
       "   'chunk': '140',\n",
       "   'entity': 'TREATMENT',\n",
       "   'confidence': '0.9642'}},\n",
       " {'annotatorType': 'chunk',\n",
       "  'begin': 5364,\n",
       "  'end': 5380,\n",
       "  'result': 'venous thrombosis',\n",
       "  'metadata': {'sentence': '79',\n",
       "   'chunk': '141',\n",
       "   'entity': 'PROBLEM',\n",
       "   'confidence': '0.90615'}},\n",
       " {'annotatorType': 'chunk',\n",
       "  'begin': 5383,\n",
       "  'end': 5388,\n",
       "  'result': 'atrial',\n",
       "  'metadata': {'sentence': '79',\n",
       "   'chunk': '142',\n",
       "   'entity': 'PROBLEM',\n",
       "   'confidence': '0.6133'}},\n",
       " {'annotatorType': 'chunk',\n",
       "  'begin': 5391,\n",
       "  'end': 5400,\n",
       "  'result': 'thrombosis',\n",
       "  'metadata': {'sentence': '79',\n",
       "   'chunk': '143',\n",
       "   'entity': 'PROBLEM',\n",
       "   'confidence': '0.9317'}},\n",
       " {'annotatorType': 'chunk',\n",
       "  'begin': 5403,\n",
       "  'end': 5413,\n",
       "  'result': 'pericardial',\n",
       "  'metadata': {'sentence': '79',\n",
       "   'chunk': '144',\n",
       "   'entity': 'TREATMENT',\n",
       "   'confidence': '0.7272'}},\n",
       " {'annotatorType': 'chunk',\n",
       "  'begin': 5416,\n",
       "  'end': 5430,\n",
       "  'result': 'lymphadenopathy',\n",
       "  'metadata': {'sentence': '79',\n",
       "   'chunk': '145',\n",
       "   'entity': 'PROBLEM',\n",
       "   'confidence': '0.8981'}},\n",
       " {'annotatorType': 'chunk',\n",
       "  'begin': 5433,\n",
       "  'end': 5437,\n",
       "  'result': 'fluid',\n",
       "  'metadata': {'sentence': '79',\n",
       "   'chunk': '146',\n",
       "   'entity': 'PROBLEM',\n",
       "   'confidence': '0.6176'}},\n",
       " {'annotatorType': 'chunk',\n",
       "  'begin': 5440,\n",
       "  'end': 5453,\n",
       "  'result': 'pericardectomy',\n",
       "  'metadata': {'sentence': '79',\n",
       "   'chunk': '147',\n",
       "   'entity': 'TREATMENT',\n",
       "   'confidence': '0.9822'}},\n",
       " {'annotatorType': 'chunk',\n",
       "  'begin': 5456,\n",
       "  'end': 5469,\n",
       "  'result': 'chest, pleural',\n",
       "  'metadata': {'sentence': '79',\n",
       "   'chunk': '148',\n",
       "   'entity': 'PROBLEM',\n",
       "   'confidence': '0.7570999'}}]"
      ]
     },
     "execution_count": 42,
     "metadata": {},
     "output_type": "execute_result"
    }
   ],
   "source": [
    "row_list = [{'annotatorType': row.annotatorType, \n",
    "             'begin': row.begin, \n",
    "             'end': row.end,\n",
    "             'result': row.result,\n",
    "             'metadata': row.metadata} \n",
    "            for row in result.select('ner_chunk').take(1)[0][0]\n",
    "           ]\n",
    "\n",
    "row_list"
   ]
  },
  {
   "cell_type": "code",
   "execution_count": 0,
   "metadata": {
    "application/vnd.databricks.v1+cell": {
     "cellMetadata": {
      "byteLimit": 2048000,
      "rowLimit": 10000
     },
     "inputWidgets": {},
     "nuid": "0d943c62-e402-4b04-bed1-95436dd90e89",
     "showTitle": false,
     "tableResultSettingsMap": {},
     "title": ""
    }
   },
   "outputs": [
    {
     "output_type": "stream",
     "name": "stdout",
     "output_type": "stream",
     "text": [
      "+---+-------------+---------+----------+\n|pos|        token|ner_label|confidence|\n+---+-------------+---------+----------+\n|  0|       Sample|        O|    0.9996|\n|  1|         Type|        O|    0.9926|\n|  2|            /|        O|    0.9755|\n|  3|      Medical|        O|    0.9824|\n|  4|    Specialty|        O|    0.9993|\n|  5|            :|        O|       1.0|\n|  6|   Hematology|        O|    0.9971|\n|  7|            -|        O|    0.9908|\n|  8|     Oncology|        O|    0.9796|\n|  9|       Sample|        O|    0.9999|\n| 10|         Name|        O|    0.9994|\n| 11|            :|        O|       1.0|\n| 12|    Discharge|        O|    0.9998|\n| 13|      Summary|        O|    0.9926|\n| 14|            -|        O|    0.9959|\n| 15| Mesothelioma|        O|    0.8117|\n| 16|            -|        O|    0.9934|\n| 17|            1|        O|    0.7394|\n| 18|  Description|        O|    0.9995|\n| 19|            :|        O|    0.9999|\n| 20| Mesothelioma|B-PROBLEM|    0.9991|\n| 21|            ,|        O|    0.9999|\n| 22|      pleural|B-PROBLEM|    0.9911|\n| 23|     effusion|I-PROBLEM|    0.9982|\n| 24|            ,|        O|    0.9999|\n| 25|       atrial|B-PROBLEM|    0.9976|\n| 26| fibrillation|I-PROBLEM|    0.9982|\n| 27|            ,|        O|    0.9999|\n| 28|       anemia|B-PROBLEM|     0.999|\n| 29|            ,|        O|    0.9999|\n| 30|      ascites|B-PROBLEM|    0.9996|\n| 31|            ,|        O|       1.0|\n| 32|   esophageal|B-PROBLEM|    0.9982|\n| 33|       reflux|I-PROBLEM|    0.9976|\n| 34|            ,|        O|       1.0|\n| 35|          and|        O|    0.9996|\n| 36|      history|        O|    0.9892|\n| 37|           of|        O|    0.9769|\n| 38|         deep|B-PROBLEM|    0.9421|\n| 39|       venous|I-PROBLEM|    0.9624|\n| 40|   thrombosis|I-PROBLEM|    0.9983|\n| 41|            .|        O|       1.0|\n| 42|            (|        O|    0.9999|\n| 43|      Medical|        O|     0.986|\n| 44|Transcription|        O|    0.9214|\n| 45|       Sample|        O|     0.993|\n| 46|       Report|        O|    0.9536|\n| 47|            )|        O|    0.9802|\n| 48|    PRINCIPAL|        O|    0.9981|\n| 49|    DIAGNOSIS|        O|    0.4728|\n+---+-------------+---------+----------+\nonly showing top 50 rows\n\n"
     ]
    }
   ],
   "source": [
    "result_df = result.select(\n",
    "    F.posexplode(\"token.result\").alias(\"pos\", \"token\"),\n",
    "    F.col(\"ner.result\").getItem(F.col(\"pos\")).alias(\"ner_label\"),\n",
    "    F.col(\"ner.metadata\").getItem(F.col(\"pos\")).getItem(\"confidence\").alias(\"confidence\")\n",
    ")\n",
    "\n",
    "result_df.show(50, truncate=100)"
   ]
  },
  {
   "cell_type": "code",
   "execution_count": 0,
   "metadata": {
    "application/vnd.databricks.v1+cell": {
     "cellMetadata": {
      "byteLimit": 2048000,
      "rowLimit": 10000
     },
     "inputWidgets": {},
     "nuid": "8622968f-c5dd-491a-aa3f-769b8160f67e",
     "showTitle": false,
     "tableResultSettingsMap": {},
     "title": ""
    }
   },
   "outputs": [
    {
     "output_type": "stream",
     "name": "stdout",
     "output_type": "stream",
     "text": [
      "+---+-------------------------+---------+----------+\n|pos|chunk                    |ner_label|confidence|\n+---+-------------------------+---------+----------+\n|0  |Mesothelioma             |PROBLEM  |0.9991    |\n|1  |pleural effusion         |PROBLEM  |0.99465   |\n|2  |atrial fibrillation      |PROBLEM  |0.9979    |\n|3  |anemia                   |PROBLEM  |0.999     |\n|4  |ascites                  |PROBLEM  |0.9996    |\n|5  |esophageal reflux        |PROBLEM  |0.9979    |\n|6  |deep venous thrombosis   |PROBLEM  |0.96760005|\n|7  |Mesothelioma             |PROBLEM  |0.987     |\n|8  |Pleural effusion         |PROBLEM  |0.97895   |\n|9  |atrial fibrillation      |PROBLEM  |0.99475   |\n|10 |anemia                   |PROBLEM  |0.9984    |\n|11 |ascites                  |PROBLEM  |0.9994    |\n|12 |esophageal reflux        |PROBLEM  |0.99724996|\n|13 |deep venous thrombosis   |PROBLEM  |0.9550001 |\n|14 |decortication of the lung|TREATMENT|0.756325  |\n|15 |pleural biopsy           |TEST     |0.87715   |\n|16 |transpleural fluoroscopy |TEST     |0.9527    |\n|17 |thoracentesis            |TREATMENT|0.9075    |\n|18 |Port-A-Cath placement    |TREATMENT|0.98075   |\n|19 |a nonproductive cough    |PROBLEM  |0.96173334|\n+---+-------------------------+---------+----------+\nonly showing top 20 rows\n\n"
     ]
    }
   ],
   "source": [
    "result_df = result.select(\n",
    "    F.posexplode(\"ner_chunk.result\").alias(\"pos\", \"chunk\"),\n",
    "    F.col(\"ner_chunk.metadata\").getItem(F.col(\"pos\")).getItem(\"entity\").alias(\"ner_label\"),\n",
    "    F.col(\"ner_chunk.metadata\").getItem(F.col(\"pos\")).getItem(\"confidence\").alias(\"confidence\")\n",
    ")\n",
    "\n",
    "result_df.show(truncate=False)"
   ]
  },
  {
   "cell_type": "markdown",
   "metadata": {
    "application/vnd.databricks.v1+cell": {
     "cellMetadata": {
      "byteLimit": 2048000,
      "rowLimit": 10000
     },
     "inputWidgets": {},
     "nuid": "34ee5dad-9f05-4e67-9ac2-f5655c2f309a",
     "showTitle": false,
     "tableResultSettingsMap": {},
     "title": ""
    }
   },
   "source": [
    "### with LightPipelines\n",
    "\n",
    "LightPipelines are Spark NLP specific Pipelines, equivalent to Spark ML Pipeline, but meant to deal with smaller amounts of data. They’re useful working with small datasets, debugging results, or when running either training or prediction from an API that serves one-off requests.\n",
    "\n",
    "**It is nearly 10x faster than using Spark ML Pipeline**\n",
    "\n",
    "Syntax: `LightPipeline(someTrainedPipeline).annotate(someStringOrArray)`\n",
    "\n",
    "For more details, please check: https://medium.com/spark-nlp/spark-nlp-101-lightpipeline-a544e93f20f1"
   ]
  },
  {
   "cell_type": "code",
   "execution_count": 0,
   "metadata": {
    "application/vnd.databricks.v1+cell": {
     "cellMetadata": {
      "byteLimit": 2048000,
      "rowLimit": 10000
     },
     "inputWidgets": {},
     "nuid": "468a9b55-5516-4bd7-bb92-ed5f1ec4fb4b",
     "showTitle": false,
     "tableResultSettingsMap": {},
     "title": ""
    }
   },
   "outputs": [
    {
     "output_type": "stream",
     "name": "stdout",
     "output_type": "stream",
     "text": [
      "\nA 28-year-old female with a history of gestational diabetes mellitus diagnosed eight years prior to presentation and subsequent type two diabetes mellitus (T2DM), one prior episode of HTG-induced pancreatitis three years prior to presentation, and associated with an acute hepatitis, presented with a one-week history of polyuria, poor appetite, and vomiting.\nShe was on metformin, glipizide, and dapagliflozin for T2DM and atorvastatin and gemfibrozil for HTG. She had been on dapagliflozin for six months at the time of presentation.\nPhysical examination on presentation was significant for dry oral mucosa ; significantly , her abdominal examination was benign with no tenderness, guarding, or rigidity. Pertinent laboratory findings on admission were: serum glucose 111 mg/dl,  creatinine 0.4 mg/dL, triglycerides 508 mg/dL, total cholesterol 122 mg/dL, and venous pH 7.27.\n\n"
     ]
    },
    {
     "output_type": "execute_result",
     "data": {
      "text/html": [
       "<div>\n",
       "<style scoped>\n",
       "    .dataframe tbody tr th:only-of-type {\n",
       "        vertical-align: middle;\n",
       "    }\n",
       "\n",
       "    .dataframe tbody tr th {\n",
       "        vertical-align: top;\n",
       "    }\n",
       "\n",
       "    .dataframe thead th {\n",
       "        text-align: right;\n",
       "    }\n",
       "</style>\n",
       "<table border=\"1\" class=\"dataframe\">\n",
       "  <thead>\n",
       "    <tr style=\"text-align: right;\">\n",
       "      <th></th>\n",
       "      <th>chunks</th>\n",
       "      <th>begin</th>\n",
       "      <th>end</th>\n",
       "      <th>sentence_id</th>\n",
       "      <th>entities</th>\n",
       "      <th>confidence</th>\n",
       "    </tr>\n",
       "  </thead>\n",
       "  <tbody>\n",
       "    <tr>\n",
       "      <th>0</th>\n",
       "      <td>gestational diabetes mellitus</td>\n",
       "      <td>40</td>\n",
       "      <td>68</td>\n",
       "      <td>0</td>\n",
       "      <td>PROBLEM</td>\n",
       "      <td>0.91976666</td>\n",
       "    </tr>\n",
       "    <tr>\n",
       "      <th>1</th>\n",
       "      <td>subsequent type two diabetes mellitus</td>\n",
       "      <td>118</td>\n",
       "      <td>154</td>\n",
       "      <td>0</td>\n",
       "      <td>PROBLEM</td>\n",
       "      <td>0.75924003</td>\n",
       "    </tr>\n",
       "    <tr>\n",
       "      <th>2</th>\n",
       "      <td>T2DM</td>\n",
       "      <td>157</td>\n",
       "      <td>160</td>\n",
       "      <td>0</td>\n",
       "      <td>PROBLEM</td>\n",
       "      <td>0.9917</td>\n",
       "    </tr>\n",
       "    <tr>\n",
       "      <th>3</th>\n",
       "      <td>HTG-induced pancreatitis</td>\n",
       "      <td>185</td>\n",
       "      <td>208</td>\n",
       "      <td>0</td>\n",
       "      <td>PROBLEM</td>\n",
       "      <td>0.97535</td>\n",
       "    </tr>\n",
       "    <tr>\n",
       "      <th>4</th>\n",
       "      <td>an acute hepatitis</td>\n",
       "      <td>265</td>\n",
       "      <td>282</td>\n",
       "      <td>0</td>\n",
       "      <td>PROBLEM</td>\n",
       "      <td>0.9440667</td>\n",
       "    </tr>\n",
       "    <tr>\n",
       "      <th>5</th>\n",
       "      <td>polyuria</td>\n",
       "      <td>322</td>\n",
       "      <td>329</td>\n",
       "      <td>0</td>\n",
       "      <td>PROBLEM</td>\n",
       "      <td>0.9728</td>\n",
       "    </tr>\n",
       "    <tr>\n",
       "      <th>6</th>\n",
       "      <td>poor appetite</td>\n",
       "      <td>332</td>\n",
       "      <td>344</td>\n",
       "      <td>0</td>\n",
       "      <td>PROBLEM</td>\n",
       "      <td>0.9934</td>\n",
       "    </tr>\n",
       "    <tr>\n",
       "      <th>7</th>\n",
       "      <td>vomiting</td>\n",
       "      <td>351</td>\n",
       "      <td>358</td>\n",
       "      <td>0</td>\n",
       "      <td>PROBLEM</td>\n",
       "      <td>0.9854</td>\n",
       "    </tr>\n",
       "    <tr>\n",
       "      <th>8</th>\n",
       "      <td>metformin</td>\n",
       "      <td>372</td>\n",
       "      <td>380</td>\n",
       "      <td>1</td>\n",
       "      <td>TREATMENT</td>\n",
       "      <td>0.9998</td>\n",
       "    </tr>\n",
       "    <tr>\n",
       "      <th>9</th>\n",
       "      <td>glipizide</td>\n",
       "      <td>383</td>\n",
       "      <td>391</td>\n",
       "      <td>1</td>\n",
       "      <td>TREATMENT</td>\n",
       "      <td>0.9999</td>\n",
       "    </tr>\n",
       "    <tr>\n",
       "      <th>10</th>\n",
       "      <td>dapagliflozin</td>\n",
       "      <td>398</td>\n",
       "      <td>410</td>\n",
       "      <td>1</td>\n",
       "      <td>TREATMENT</td>\n",
       "      <td>1.0</td>\n",
       "    </tr>\n",
       "    <tr>\n",
       "      <th>11</th>\n",
       "      <td>T2DM</td>\n",
       "      <td>416</td>\n",
       "      <td>419</td>\n",
       "      <td>1</td>\n",
       "      <td>PROBLEM</td>\n",
       "      <td>0.9995</td>\n",
       "    </tr>\n",
       "    <tr>\n",
       "      <th>12</th>\n",
       "      <td>atorvastatin</td>\n",
       "      <td>425</td>\n",
       "      <td>436</td>\n",
       "      <td>1</td>\n",
       "      <td>TREATMENT</td>\n",
       "      <td>0.9999</td>\n",
       "    </tr>\n",
       "    <tr>\n",
       "      <th>13</th>\n",
       "      <td>gemfibrozil</td>\n",
       "      <td>442</td>\n",
       "      <td>452</td>\n",
       "      <td>1</td>\n",
       "      <td>TREATMENT</td>\n",
       "      <td>1.0</td>\n",
       "    </tr>\n",
       "    <tr>\n",
       "      <th>14</th>\n",
       "      <td>HTG</td>\n",
       "      <td>458</td>\n",
       "      <td>460</td>\n",
       "      <td>1</td>\n",
       "      <td>PROBLEM</td>\n",
       "      <td>0.9994</td>\n",
       "    </tr>\n",
       "    <tr>\n",
       "      <th>15</th>\n",
       "      <td>dapagliflozin</td>\n",
       "      <td>479</td>\n",
       "      <td>491</td>\n",
       "      <td>2</td>\n",
       "      <td>TREATMENT</td>\n",
       "      <td>0.9999</td>\n",
       "    </tr>\n",
       "    <tr>\n",
       "      <th>16</th>\n",
       "      <td>Physical examination</td>\n",
       "      <td>537</td>\n",
       "      <td>556</td>\n",
       "      <td>3</td>\n",
       "      <td>TEST</td>\n",
       "      <td>0.9448</td>\n",
       "    </tr>\n",
       "    <tr>\n",
       "      <th>17</th>\n",
       "      <td>dry oral mucosa</td>\n",
       "      <td>594</td>\n",
       "      <td>608</td>\n",
       "      <td>3</td>\n",
       "      <td>PROBLEM</td>\n",
       "      <td>0.7242333</td>\n",
       "    </tr>\n",
       "    <tr>\n",
       "      <th>18</th>\n",
       "      <td>her abdominal examination</td>\n",
       "      <td>628</td>\n",
       "      <td>652</td>\n",
       "      <td>3</td>\n",
       "      <td>TEST</td>\n",
       "      <td>0.8749666</td>\n",
       "    </tr>\n",
       "    <tr>\n",
       "      <th>19</th>\n",
       "      <td>tenderness</td>\n",
       "      <td>673</td>\n",
       "      <td>682</td>\n",
       "      <td>3</td>\n",
       "      <td>PROBLEM</td>\n",
       "      <td>0.9996</td>\n",
       "    </tr>\n",
       "  </tbody>\n",
       "</table>\n",
       "</div>"
      ],
      "text/plain": [
       "                                   chunks  begin  end sentence_id   entities  confidence\n",
       "0           gestational diabetes mellitus     40   68           0    PROBLEM  0.91976666\n",
       "1   subsequent type two diabetes mellitus    118  154           0    PROBLEM  0.75924003\n",
       "2                                    T2DM    157  160           0    PROBLEM      0.9917\n",
       "3                HTG-induced pancreatitis    185  208           0    PROBLEM     0.97535\n",
       "4                      an acute hepatitis    265  282           0    PROBLEM   0.9440667\n",
       "5                                polyuria    322  329           0    PROBLEM      0.9728\n",
       "6                           poor appetite    332  344           0    PROBLEM      0.9934\n",
       "7                                vomiting    351  358           0    PROBLEM      0.9854\n",
       "8                               metformin    372  380           1  TREATMENT      0.9998\n",
       "9                               glipizide    383  391           1  TREATMENT      0.9999\n",
       "10                          dapagliflozin    398  410           1  TREATMENT         1.0\n",
       "11                                   T2DM    416  419           1    PROBLEM      0.9995\n",
       "12                           atorvastatin    425  436           1  TREATMENT      0.9999\n",
       "13                            gemfibrozil    442  452           1  TREATMENT         1.0\n",
       "14                                    HTG    458  460           1    PROBLEM      0.9994\n",
       "15                          dapagliflozin    479  491           2  TREATMENT      0.9999\n",
       "16                   Physical examination    537  556           3       TEST      0.9448\n",
       "17                        dry oral mucosa    594  608           3    PROBLEM   0.7242333\n",
       "18              her abdominal examination    628  652           3       TEST   0.8749666\n",
       "19                             tenderness    673  682           3    PROBLEM      0.9996"
      ]
     },
     "execution_count": 5,
     "metadata": {},
     "output_type": "execute_result"
    }
   ],
   "source": [
    "# fullAnnotate in LightPipeline\n",
    "\n",
    "text = '''\n",
    "A 28-year-old female with a history of gestational diabetes mellitus diagnosed eight years prior to presentation and subsequent type two diabetes mellitus (T2DM), one prior episode of HTG-induced pancreatitis three years prior to presentation, and associated with an acute hepatitis, presented with a one-week history of polyuria, poor appetite, and vomiting.\n",
    "She was on metformin, glipizide, and dapagliflozin for T2DM and atorvastatin and gemfibrozil for HTG. She had been on dapagliflozin for six months at the time of presentation.\n",
    "Physical examination on presentation was significant for dry oral mucosa ; significantly , her abdominal examination was benign with no tenderness, guarding, or rigidity. Pertinent laboratory findings on admission were: serum glucose 111 mg/dl,  creatinine 0.4 mg/dL, triglycerides 508 mg/dL, total cholesterol 122 mg/dL, and venous pH 7.27.\n",
    "'''\n",
    "\n",
    "print (text)\n",
    "\n",
    "light_model = nlp.LightPipeline(model)\n",
    "light_result = light_model.fullAnnotate(text)\n",
    "\n",
    "chunks = []\n",
    "entities = []\n",
    "sentence= []\n",
    "begin = []\n",
    "end = []\n",
    "confidence = []\n",
    "\n",
    "for n in light_result[0]['ner_chunk']:\n",
    "    begin.append(n.begin)\n",
    "    end.append(n.end)\n",
    "    chunks.append(n.result)\n",
    "    entities.append(n.metadata['entity'])\n",
    "    sentence.append(n.metadata['sentence'])\n",
    "    confidence.append(n.metadata['confidence'])\n",
    "\n",
    "df_clinical = pd.DataFrame({'chunks':chunks,\n",
    "                            'begin': begin,\n",
    "                            'end':end,\n",
    "                            'sentence_id':sentence,\n",
    "                            'entities':entities,\n",
    "                            'confidence':confidence})\n",
    "\n",
    "df_clinical.head(20)"
   ]
  },
  {
   "cell_type": "code",
   "execution_count": 0,
   "metadata": {
    "application/vnd.databricks.v1+cell": {
     "cellMetadata": {
      "byteLimit": 2048000,
      "rowLimit": 10000
     },
     "inputWidgets": {},
     "nuid": "41609cb5-bc2a-45eb-bcb4-f542d8fd18e3",
     "showTitle": false,
     "tableResultSettingsMap": {},
     "title": ""
    }
   },
   "outputs": [
    {
     "output_type": "execute_result",
     "data": {
      "text/plain": [
       "{'document': [Annotation(document, 0, 878, \n",
       "  A 28-year-old female with a history of gestational diabetes mellitus diagnosed eight years prior to presentation and subsequent type two diabetes mellitus (T2DM), one prior episode of HTG-induced pancreatitis three years prior to presentation, and associated with an acute hepatitis, presented with a one-week history of polyuria, poor appetite, and vomiting.\n",
       "  She was on metformin, glipizide, and dapagliflozin for T2DM and atorvastatin and gemfibrozil for HTG. She had been on dapagliflozin for six months at the time of presentation.\n",
       "  Physical examination on presentation was significant for dry oral mucosa ; significantly , her abdominal examination was benign with no tenderness, guarding, or rigidity. Pertinent laboratory findings on admission were: serum glucose 111 mg/dl,  creatinine 0.4 mg/dL, triglycerides 508 mg/dL, total cholesterol 122 mg/dL, and venous pH 7.27.\n",
       "  , {}, [])],\n",
       " 'ner_chunk': [Annotation(chunk, 40, 68, gestational diabetes mellitus, {'entity': 'PROBLEM', 'sentence': '0', 'chunk': '0', 'confidence': '0.91976666'}, []),\n",
       "  Annotation(chunk, 118, 154, subsequent type two diabetes mellitus, {'entity': 'PROBLEM', 'sentence': '0', 'chunk': '1', 'confidence': '0.75924003'}, []),\n",
       "  Annotation(chunk, 157, 160, T2DM, {'entity': 'PROBLEM', 'sentence': '0', 'chunk': '2', 'confidence': '0.9917'}, []),\n",
       "  Annotation(chunk, 185, 208, HTG-induced pancreatitis, {'entity': 'PROBLEM', 'sentence': '0', 'chunk': '3', 'confidence': '0.97535'}, []),\n",
       "  Annotation(chunk, 265, 282, an acute hepatitis, {'entity': 'PROBLEM', 'sentence': '0', 'chunk': '4', 'confidence': '0.9440667'}, []),\n",
       "  Annotation(chunk, 322, 329, polyuria, {'entity': 'PROBLEM', 'sentence': '0', 'chunk': '5', 'confidence': '0.9728'}, []),\n",
       "  Annotation(chunk, 332, 344, poor appetite, {'entity': 'PROBLEM', 'sentence': '0', 'chunk': '6', 'confidence': '0.9934'}, []),\n",
       "  Annotation(chunk, 351, 358, vomiting, {'entity': 'PROBLEM', 'sentence': '0', 'chunk': '7', 'confidence': '0.9854'}, []),\n",
       "  Annotation(chunk, 372, 380, metformin, {'entity': 'TREATMENT', 'sentence': '1', 'chunk': '8', 'confidence': '0.9998'}, []),\n",
       "  Annotation(chunk, 383, 391, glipizide, {'entity': 'TREATMENT', 'sentence': '1', 'chunk': '9', 'confidence': '0.9999'}, []),\n",
       "  Annotation(chunk, 398, 410, dapagliflozin, {'entity': 'TREATMENT', 'sentence': '1', 'chunk': '10', 'confidence': '1.0'}, []),\n",
       "  Annotation(chunk, 416, 419, T2DM, {'entity': 'PROBLEM', 'sentence': '1', 'chunk': '11', 'confidence': '0.9995'}, []),\n",
       "  Annotation(chunk, 425, 436, atorvastatin, {'entity': 'TREATMENT', 'sentence': '1', 'chunk': '12', 'confidence': '0.9999'}, []),\n",
       "  Annotation(chunk, 442, 452, gemfibrozil, {'entity': 'TREATMENT', 'sentence': '1', 'chunk': '13', 'confidence': '1.0'}, []),\n",
       "  Annotation(chunk, 458, 460, HTG, {'entity': 'PROBLEM', 'sentence': '1', 'chunk': '14', 'confidence': '0.9994'}, []),\n",
       "  Annotation(chunk, 479, 491, dapagliflozin, {'entity': 'TREATMENT', 'sentence': '2', 'chunk': '15', 'confidence': '0.9999'}, []),\n",
       "  Annotation(chunk, 537, 556, Physical examination, {'entity': 'TEST', 'sentence': '3', 'chunk': '16', 'confidence': '0.9448'}, []),\n",
       "  Annotation(chunk, 594, 608, dry oral mucosa, {'entity': 'PROBLEM', 'sentence': '3', 'chunk': '17', 'confidence': '0.7242333'}, []),\n",
       "  Annotation(chunk, 628, 652, her abdominal examination, {'entity': 'TEST', 'sentence': '3', 'chunk': '18', 'confidence': '0.8749666'}, []),\n",
       "  Annotation(chunk, 673, 682, tenderness, {'entity': 'PROBLEM', 'sentence': '3', 'chunk': '19', 'confidence': '0.9996'}, []),\n",
       "  Annotation(chunk, 685, 692, guarding, {'entity': 'PROBLEM', 'sentence': '3', 'chunk': '20', 'confidence': '0.9989'}, []),\n",
       "  Annotation(chunk, 698, 705, rigidity, {'entity': 'PROBLEM', 'sentence': '3', 'chunk': '21', 'confidence': '0.9986'}, []),\n",
       "  Annotation(chunk, 757, 769, serum glucose, {'entity': 'TEST', 'sentence': '4', 'chunk': '22', 'confidence': '0.969'}, []),\n",
       "  Annotation(chunk, 783, 792, creatinine, {'entity': 'TEST', 'sentence': '4', 'chunk': '23', 'confidence': '0.9994'}, []),\n",
       "  Annotation(chunk, 805, 817, triglycerides, {'entity': 'TEST', 'sentence': '4', 'chunk': '24', 'confidence': '0.9999'}, []),\n",
       "  Annotation(chunk, 830, 846, total cholesterol, {'entity': 'TEST', 'sentence': '4', 'chunk': '25', 'confidence': '0.9827'}, []),\n",
       "  Annotation(chunk, 863, 871, venous pH, {'entity': 'TEST', 'sentence': '4', 'chunk': '26', 'confidence': '0.97185004'}, [])],\n",
       " 'token': [Annotation(token, 1, 1, A, {'sentence': '0'}, []),\n",
       "  Annotation(token, 3, 13, 28-year-old, {'sentence': '0'}, []),\n",
       "  Annotation(token, 15, 20, female, {'sentence': '0'}, []),\n",
       "  Annotation(token, 22, 25, with, {'sentence': '0'}, []),\n",
       "  Annotation(token, 27, 27, a, {'sentence': '0'}, []),\n",
       "  Annotation(token, 29, 35, history, {'sentence': '0'}, []),\n",
       "  Annotation(token, 37, 38, of, {'sentence': '0'}, []),\n",
       "  Annotation(token, 40, 50, gestational, {'sentence': '0'}, []),\n",
       "  Annotation(token, 52, 59, diabetes, {'sentence': '0'}, []),\n",
       "  Annotation(token, 61, 68, mellitus, {'sentence': '0'}, []),\n",
       "  Annotation(token, 70, 78, diagnosed, {'sentence': '0'}, []),\n",
       "  Annotation(token, 80, 84, eight, {'sentence': '0'}, []),\n",
       "  Annotation(token, 86, 90, years, {'sentence': '0'}, []),\n",
       "  Annotation(token, 92, 96, prior, {'sentence': '0'}, []),\n",
       "  Annotation(token, 98, 99, to, {'sentence': '0'}, []),\n",
       "  Annotation(token, 101, 112, presentation, {'sentence': '0'}, []),\n",
       "  Annotation(token, 114, 116, and, {'sentence': '0'}, []),\n",
       "  Annotation(token, 118, 127, subsequent, {'sentence': '0'}, []),\n",
       "  Annotation(token, 129, 132, type, {'sentence': '0'}, []),\n",
       "  Annotation(token, 134, 136, two, {'sentence': '0'}, []),\n",
       "  Annotation(token, 138, 145, diabetes, {'sentence': '0'}, []),\n",
       "  Annotation(token, 147, 154, mellitus, {'sentence': '0'}, []),\n",
       "  Annotation(token, 156, 156, (, {'sentence': '0'}, []),\n",
       "  Annotation(token, 157, 160, T2DM, {'sentence': '0'}, []),\n",
       "  Annotation(token, 161, 162, ),, {'sentence': '0'}, []),\n",
       "  Annotation(token, 164, 166, one, {'sentence': '0'}, []),\n",
       "  Annotation(token, 168, 172, prior, {'sentence': '0'}, []),\n",
       "  Annotation(token, 174, 180, episode, {'sentence': '0'}, []),\n",
       "  Annotation(token, 182, 183, of, {'sentence': '0'}, []),\n",
       "  Annotation(token, 185, 195, HTG-induced, {'sentence': '0'}, []),\n",
       "  Annotation(token, 197, 208, pancreatitis, {'sentence': '0'}, []),\n",
       "  Annotation(token, 210, 214, three, {'sentence': '0'}, []),\n",
       "  Annotation(token, 216, 220, years, {'sentence': '0'}, []),\n",
       "  Annotation(token, 222, 226, prior, {'sentence': '0'}, []),\n",
       "  Annotation(token, 228, 229, to, {'sentence': '0'}, []),\n",
       "  Annotation(token, 231, 242, presentation, {'sentence': '0'}, []),\n",
       "  Annotation(token, 243, 243, ,, {'sentence': '0'}, []),\n",
       "  Annotation(token, 245, 247, and, {'sentence': '0'}, []),\n",
       "  Annotation(token, 249, 258, associated, {'sentence': '0'}, []),\n",
       "  Annotation(token, 260, 263, with, {'sentence': '0'}, []),\n",
       "  Annotation(token, 265, 266, an, {'sentence': '0'}, []),\n",
       "  Annotation(token, 268, 272, acute, {'sentence': '0'}, []),\n",
       "  Annotation(token, 274, 282, hepatitis, {'sentence': '0'}, []),\n",
       "  Annotation(token, 283, 283, ,, {'sentence': '0'}, []),\n",
       "  Annotation(token, 285, 293, presented, {'sentence': '0'}, []),\n",
       "  Annotation(token, 295, 298, with, {'sentence': '0'}, []),\n",
       "  Annotation(token, 300, 300, a, {'sentence': '0'}, []),\n",
       "  Annotation(token, 302, 309, one-week, {'sentence': '0'}, []),\n",
       "  Annotation(token, 311, 317, history, {'sentence': '0'}, []),\n",
       "  Annotation(token, 319, 320, of, {'sentence': '0'}, []),\n",
       "  Annotation(token, 322, 329, polyuria, {'sentence': '0'}, []),\n",
       "  Annotation(token, 330, 330, ,, {'sentence': '0'}, []),\n",
       "  Annotation(token, 332, 335, poor, {'sentence': '0'}, []),\n",
       "  Annotation(token, 337, 344, appetite, {'sentence': '0'}, []),\n",
       "  Annotation(token, 345, 345, ,, {'sentence': '0'}, []),\n",
       "  Annotation(token, 347, 349, and, {'sentence': '0'}, []),\n",
       "  Annotation(token, 351, 358, vomiting, {'sentence': '0'}, []),\n",
       "  Annotation(token, 359, 359, ., {'sentence': '0'}, []),\n",
       "  Annotation(token, 361, 363, She, {'sentence': '1'}, []),\n",
       "  Annotation(token, 365, 367, was, {'sentence': '1'}, []),\n",
       "  Annotation(token, 369, 370, on, {'sentence': '1'}, []),\n",
       "  Annotation(token, 372, 380, metformin, {'sentence': '1'}, []),\n",
       "  Annotation(token, 381, 381, ,, {'sentence': '1'}, []),\n",
       "  Annotation(token, 383, 391, glipizide, {'sentence': '1'}, []),\n",
       "  Annotation(token, 392, 392, ,, {'sentence': '1'}, []),\n",
       "  Annotation(token, 394, 396, and, {'sentence': '1'}, []),\n",
       "  Annotation(token, 398, 410, dapagliflozin, {'sentence': '1'}, []),\n",
       "  Annotation(token, 412, 414, for, {'sentence': '1'}, []),\n",
       "  Annotation(token, 416, 419, T2DM, {'sentence': '1'}, []),\n",
       "  Annotation(token, 421, 423, and, {'sentence': '1'}, []),\n",
       "  Annotation(token, 425, 436, atorvastatin, {'sentence': '1'}, []),\n",
       "  Annotation(token, 438, 440, and, {'sentence': '1'}, []),\n",
       "  Annotation(token, 442, 452, gemfibrozil, {'sentence': '1'}, []),\n",
       "  Annotation(token, 454, 456, for, {'sentence': '1'}, []),\n",
       "  Annotation(token, 458, 460, HTG, {'sentence': '1'}, []),\n",
       "  Annotation(token, 461, 461, ., {'sentence': '1'}, []),\n",
       "  Annotation(token, 463, 465, She, {'sentence': '2'}, []),\n",
       "  Annotation(token, 467, 469, had, {'sentence': '2'}, []),\n",
       "  Annotation(token, 471, 474, been, {'sentence': '2'}, []),\n",
       "  Annotation(token, 476, 477, on, {'sentence': '2'}, []),\n",
       "  Annotation(token, 479, 491, dapagliflozin, {'sentence': '2'}, []),\n",
       "  Annotation(token, 493, 495, for, {'sentence': '2'}, []),\n",
       "  Annotation(token, 497, 499, six, {'sentence': '2'}, []),\n",
       "  Annotation(token, 501, 506, months, {'sentence': '2'}, []),\n",
       "  Annotation(token, 508, 509, at, {'sentence': '2'}, []),\n",
       "  Annotation(token, 511, 513, the, {'sentence': '2'}, []),\n",
       "  Annotation(token, 515, 518, time, {'sentence': '2'}, []),\n",
       "  Annotation(token, 520, 521, of, {'sentence': '2'}, []),\n",
       "  Annotation(token, 523, 534, presentation, {'sentence': '2'}, []),\n",
       "  Annotation(token, 535, 535, ., {'sentence': '2'}, []),\n",
       "  Annotation(token, 537, 544, Physical, {'sentence': '3'}, []),\n",
       "  Annotation(token, 546, 556, examination, {'sentence': '3'}, []),\n",
       "  Annotation(token, 558, 559, on, {'sentence': '3'}, []),\n",
       "  Annotation(token, 561, 572, presentation, {'sentence': '3'}, []),\n",
       "  Annotation(token, 574, 576, was, {'sentence': '3'}, []),\n",
       "  Annotation(token, 578, 588, significant, {'sentence': '3'}, []),\n",
       "  Annotation(token, 590, 592, for, {'sentence': '3'}, []),\n",
       "  Annotation(token, 594, 596, dry, {'sentence': '3'}, []),\n",
       "  Annotation(token, 598, 601, oral, {'sentence': '3'}, []),\n",
       "  Annotation(token, 603, 608, mucosa, {'sentence': '3'}, []),\n",
       "  Annotation(token, 610, 610, ;, {'sentence': '3'}, []),\n",
       "  Annotation(token, 612, 624, significantly, {'sentence': '3'}, []),\n",
       "  Annotation(token, 626, 626, ,, {'sentence': '3'}, []),\n",
       "  Annotation(token, 628, 630, her, {'sentence': '3'}, []),\n",
       "  Annotation(token, 632, 640, abdominal, {'sentence': '3'}, []),\n",
       "  Annotation(token, 642, 652, examination, {'sentence': '3'}, []),\n",
       "  Annotation(token, 654, 656, was, {'sentence': '3'}, []),\n",
       "  Annotation(token, 658, 663, benign, {'sentence': '3'}, []),\n",
       "  Annotation(token, 665, 668, with, {'sentence': '3'}, []),\n",
       "  Annotation(token, 670, 671, no, {'sentence': '3'}, []),\n",
       "  Annotation(token, 673, 682, tenderness, {'sentence': '3'}, []),\n",
       "  Annotation(token, 683, 683, ,, {'sentence': '3'}, []),\n",
       "  Annotation(token, 685, 692, guarding, {'sentence': '3'}, []),\n",
       "  Annotation(token, 693, 693, ,, {'sentence': '3'}, []),\n",
       "  Annotation(token, 695, 696, or, {'sentence': '3'}, []),\n",
       "  Annotation(token, 698, 705, rigidity, {'sentence': '3'}, []),\n",
       "  Annotation(token, 706, 706, ., {'sentence': '3'}, []),\n",
       "  Annotation(token, 708, 716, Pertinent, {'sentence': '4'}, []),\n",
       "  Annotation(token, 718, 727, laboratory, {'sentence': '4'}, []),\n",
       "  Annotation(token, 729, 736, findings, {'sentence': '4'}, []),\n",
       "  Annotation(token, 738, 739, on, {'sentence': '4'}, []),\n",
       "  Annotation(token, 741, 749, admission, {'sentence': '4'}, []),\n",
       "  Annotation(token, 751, 754, were, {'sentence': '4'}, []),\n",
       "  Annotation(token, 755, 755, :, {'sentence': '4'}, []),\n",
       "  Annotation(token, 757, 761, serum, {'sentence': '4'}, []),\n",
       "  Annotation(token, 763, 769, glucose, {'sentence': '4'}, []),\n",
       "  Annotation(token, 771, 773, 111, {'sentence': '4'}, []),\n",
       "  Annotation(token, 775, 779, mg/dl, {'sentence': '4'}, []),\n",
       "  Annotation(token, 780, 780, ,, {'sentence': '4'}, []),\n",
       "  Annotation(token, 783, 792, creatinine, {'sentence': '4'}, []),\n",
       "  Annotation(token, 794, 796, 0.4, {'sentence': '4'}, []),\n",
       "  Annotation(token, 798, 802, mg/dL, {'sentence': '4'}, []),\n",
       "  Annotation(token, 803, 803, ,, {'sentence': '4'}, []),\n",
       "  Annotation(token, 805, 817, triglycerides, {'sentence': '4'}, []),\n",
       "  Annotation(token, 819, 821, 508, {'sentence': '4'}, []),\n",
       "  Annotation(token, 823, 827, mg/dL, {'sentence': '4'}, []),\n",
       "  Annotation(token, 828, 828, ,, {'sentence': '4'}, []),\n",
       "  Annotation(token, 830, 834, total, {'sentence': '4'}, []),\n",
       "  Annotation(token, 836, 846, cholesterol, {'sentence': '4'}, []),\n",
       "  Annotation(token, 848, 850, 122, {'sentence': '4'}, []),\n",
       "  Annotation(token, 852, 856, mg/dL, {'sentence': '4'}, []),\n",
       "  Annotation(token, 857, 857, ,, {'sentence': '4'}, []),\n",
       "  Annotation(token, 859, 861, and, {'sentence': '4'}, []),\n",
       "  Annotation(token, 863, 868, venous, {'sentence': '4'}, []),\n",
       "  Annotation(token, 870, 871, pH, {'sentence': '4'}, []),\n",
       "  Annotation(token, 873, 876, 7.27, {'sentence': '4'}, []),\n",
       "  Annotation(token, 877, 877, ., {'sentence': '4'}, [])],\n",
       " 'ner': [Annotation(named_entity, 1, 1, O, {'word': 'A', 'confidence': '0.9998', 'sentence': '0'}, []),\n",
       "  Annotation(named_entity, 3, 13, O, {'word': '28-year-old', 'confidence': '0.9991', 'sentence': '0'}, []),\n",
       "  Annotation(named_entity, 15, 20, O, {'word': 'female', 'confidence': '0.996', 'sentence': '0'}, []),\n",
       "  Annotation(named_entity, 22, 25, O, {'word': 'with', 'confidence': '0.9998', 'sentence': '0'}, []),\n",
       "  Annotation(named_entity, 27, 27, O, {'word': 'a', 'confidence': '0.9989', 'sentence': '0'}, []),\n",
       "  Annotation(named_entity, 29, 35, O, {'word': 'history', 'confidence': '0.8505', 'sentence': '0'}, []),\n",
       "  Annotation(named_entity, 37, 38, O, {'word': 'of', 'confidence': '0.9632', 'sentence': '0'}, []),\n",
       "  Annotation(named_entity, 40, 50, B-PROBLEM, {'word': 'gestational', 'confidence': '0.8178', 'sentence': '0'}, []),\n",
       "  Annotation(named_entity, 52, 59, I-PROBLEM, {'word': 'diabetes', 'confidence': '0.9808', 'sentence': '0'}, []),\n",
       "  Annotation(named_entity, 61, 68, I-PROBLEM, {'word': 'mellitus', 'confidence': '0.9607', 'sentence': '0'}, []),\n",
       "  Annotation(named_entity, 70, 78, O, {'word': 'diagnosed', 'confidence': '0.9975', 'sentence': '0'}, []),\n",
       "  Annotation(named_entity, 80, 84, O, {'word': 'eight', 'confidence': '0.9996', 'sentence': '0'}, []),\n",
       "  Annotation(named_entity, 86, 90, O, {'word': 'years', 'confidence': '0.9979', 'sentence': '0'}, []),\n",
       "  Annotation(named_entity, 92, 96, O, {'word': 'prior', 'confidence': '0.9993', 'sentence': '0'}, []),\n",
       "  Annotation(named_entity, 98, 99, O, {'word': 'to', 'confidence': '0.9913', 'sentence': '0'}, []),\n",
       "  Annotation(named_entity, 101, 112, O, {'word': 'presentation', 'confidence': '0.9343', 'sentence': '0'}, []),\n",
       "  Annotation(named_entity, 114, 116, O, {'word': 'and', 'confidence': '0.9998', 'sentence': '0'}, []),\n",
       "  Annotation(named_entity, 118, 127, B-PROBLEM, {'word': 'subsequent', 'confidence': '0.8527', 'sentence': '0'}, []),\n",
       "  Annotation(named_entity, 129, 132, I-PROBLEM, {'word': 'type', 'confidence': '0.471', 'sentence': '0'}, []),\n",
       "  Annotation(named_entity, 134, 136, I-PROBLEM, {'word': 'two', 'confidence': '0.5433', 'sentence': '0'}, []),\n",
       "  Annotation(named_entity, 138, 145, I-PROBLEM, {'word': 'diabetes', 'confidence': '0.9388', 'sentence': '0'}, []),\n",
       "  Annotation(named_entity, 147, 154, I-PROBLEM, {'word': 'mellitus', 'confidence': '0.9904', 'sentence': '0'}, []),\n",
       "  Annotation(named_entity, 156, 156, O, {'word': '(', 'confidence': '0.9939', 'sentence': '0'}, []),\n",
       "  Annotation(named_entity, 157, 160, B-PROBLEM, {'word': 'T2DM', 'confidence': '0.9917', 'sentence': '0'}, []),\n",
       "  Annotation(named_entity, 161, 162, O, {'word': '),', 'confidence': '0.9993', 'sentence': '0'}, []),\n",
       "  Annotation(named_entity, 164, 166, O, {'word': 'one', 'confidence': '0.9956', 'sentence': '0'}, []),\n",
       "  Annotation(named_entity, 168, 172, O, {'word': 'prior', 'confidence': '0.9531', 'sentence': '0'}, []),\n",
       "  Annotation(named_entity, 174, 180, O, {'word': 'episode', 'confidence': '0.8323', 'sentence': '0'}, []),\n",
       "  Annotation(named_entity, 182, 183, O, {'word': 'of', 'confidence': '0.9596', 'sentence': '0'}, []),\n",
       "  Annotation(named_entity, 185, 195, B-PROBLEM, {'word': 'HTG-induced', 'confidence': '0.9555', 'sentence': '0'}, []),\n",
       "  Annotation(named_entity, 197, 208, I-PROBLEM, {'word': 'pancreatitis', 'confidence': '0.9952', 'sentence': '0'}, []),\n",
       "  Annotation(named_entity, 210, 214, O, {'word': 'three', 'confidence': '0.9999', 'sentence': '0'}, []),\n",
       "  Annotation(named_entity, 216, 220, O, {'word': 'years', 'confidence': '0.9938', 'sentence': '0'}, []),\n",
       "  Annotation(named_entity, 222, 226, O, {'word': 'prior', 'confidence': '0.9984', 'sentence': '0'}, []),\n",
       "  Annotation(named_entity, 228, 229, O, {'word': 'to', 'confidence': '0.9836', 'sentence': '0'}, []),\n",
       "  Annotation(named_entity, 231, 242, O, {'word': 'presentation', 'confidence': '0.7049', 'sentence': '0'}, []),\n",
       "  Annotation(named_entity, 243, 243, O, {'word': ',', 'confidence': '0.9999', 'sentence': '0'}, []),\n",
       "  Annotation(named_entity, 245, 247, O, {'word': 'and', 'confidence': '0.9974', 'sentence': '0'}, []),\n",
       "  Annotation(named_entity, 249, 258, O, {'word': 'associated', 'confidence': '0.9614', 'sentence': '0'}, []),\n",
       "  Annotation(named_entity, 260, 263, O, {'word': 'with', 'confidence': '0.9991', 'sentence': '0'}, []),\n",
       "  Annotation(named_entity, 265, 266, B-PROBLEM, {'word': 'an', 'confidence': '0.9067', 'sentence': '0'}, []),\n",
       "  Annotation(named_entity, 268, 272, I-PROBLEM, {'word': 'acute', 'confidence': '0.9299', 'sentence': '0'}, []),\n",
       "  Annotation(named_entity, 274, 282, I-PROBLEM, {'word': 'hepatitis', 'confidence': '0.9956', 'sentence': '0'}, []),\n",
       "  Annotation(named_entity, 283, 283, O, {'word': ',', 'confidence': '1.0', 'sentence': '0'}, []),\n",
       "  Annotation(named_entity, 285, 293, O, {'word': 'presented', 'confidence': '0.9982', 'sentence': '0'}, []),\n",
       "  Annotation(named_entity, 295, 298, O, {'word': 'with', 'confidence': '1.0', 'sentence': '0'}, []),\n",
       "  Annotation(named_entity, 300, 300, O, {'word': 'a', 'confidence': '0.999', 'sentence': '0'}, []),\n",
       "  Annotation(named_entity, 302, 309, O, {'word': 'one-week', 'confidence': '0.9924', 'sentence': '0'}, []),\n",
       "  Annotation(named_entity, 311, 317, O, {'word': 'history', 'confidence': '0.7946', 'sentence': '0'}, []),\n",
       "  Annotation(named_entity, 319, 320, O, {'word': 'of', 'confidence': '0.9651', 'sentence': '0'}, []),\n",
       "  Annotation(named_entity, 322, 329, B-PROBLEM, {'word': 'polyuria', 'confidence': '0.9728', 'sentence': '0'}, []),\n",
       "  Annotation(named_entity, 330, 330, O, {'word': ',', 'confidence': '0.9998', 'sentence': '0'}, []),\n",
       "  Annotation(named_entity, 332, 335, B-PROBLEM, {'word': 'poor', 'confidence': '0.9871', 'sentence': '0'}, []),\n",
       "  Annotation(named_entity, 337, 344, I-PROBLEM, {'word': 'appetite', 'confidence': '0.9997', 'sentence': '0'}, []),\n",
       "  Annotation(named_entity, 345, 345, O, {'word': ',', 'confidence': '0.9997', 'sentence': '0'}, []),\n",
       "  Annotation(named_entity, 347, 349, O, {'word': 'and', 'confidence': '0.9886', 'sentence': '0'}, []),\n",
       "  Annotation(named_entity, 351, 358, B-PROBLEM, {'word': 'vomiting', 'confidence': '0.9854', 'sentence': '0'}, []),\n",
       "  Annotation(named_entity, 359, 359, O, {'word': '.', 'confidence': '1.0', 'sentence': '0'}, []),\n",
       "  Annotation(named_entity, 361, 363, O, {'word': 'She', 'confidence': '0.9999', 'sentence': '1'}, []),\n",
       "  Annotation(named_entity, 365, 367, O, {'word': 'was', 'confidence': '0.9999', 'sentence': '1'}, []),\n",
       "  Annotation(named_entity, 369, 370, O, {'word': 'on', 'confidence': '0.9998', 'sentence': '1'}, []),\n",
       "  Annotation(named_entity, 372, 380, B-TREATMENT, {'word': 'metformin', 'confidence': '0.9998', 'sentence': '1'}, []),\n",
       "  Annotation(named_entity, 381, 381, O, {'word': ',', 'confidence': '1.0', 'sentence': '1'}, []),\n",
       "  Annotation(named_entity, 383, 391, B-TREATMENT, {'word': 'glipizide', 'confidence': '0.9999', 'sentence': '1'}, []),\n",
       "  Annotation(named_entity, 392, 392, O, {'word': ',', 'confidence': '1.0', 'sentence': '1'}, []),\n",
       "  Annotation(named_entity, 394, 396, O, {'word': 'and', 'confidence': '0.9993', 'sentence': '1'}, []),\n",
       "  Annotation(named_entity, 398, 410, B-TREATMENT, {'word': 'dapagliflozin', 'confidence': '1.0', 'sentence': '1'}, []),\n",
       "  Annotation(named_entity, 412, 414, O, {'word': 'for', 'confidence': '0.9999', 'sentence': '1'}, []),\n",
       "  Annotation(named_entity, 416, 419, B-PROBLEM, {'word': 'T2DM', 'confidence': '0.9995', 'sentence': '1'}, []),\n",
       "  Annotation(named_entity, 421, 423, O, {'word': 'and', 'confidence': '1.0', 'sentence': '1'}, []),\n",
       "  Annotation(named_entity, 425, 436, B-TREATMENT, {'word': 'atorvastatin', 'confidence': '0.9999', 'sentence': '1'}, []),\n",
       "  Annotation(named_entity, 438, 440, O, {'word': 'and', 'confidence': '1.0', 'sentence': '1'}, []),\n",
       "  Annotation(named_entity, 442, 452, B-TREATMENT, {'word': 'gemfibrozil', 'confidence': '1.0', 'sentence': '1'}, []),\n",
       "  Annotation(named_entity, 454, 456, O, {'word': 'for', 'confidence': '0.9998', 'sentence': '1'}, []),\n",
       "  Annotation(named_entity, 458, 460, B-PROBLEM, {'word': 'HTG', 'confidence': '0.9994', 'sentence': '1'}, []),\n",
       "  Annotation(named_entity, 461, 461, O, {'word': '.', 'confidence': '1.0', 'sentence': '1'}, []),\n",
       "  Annotation(named_entity, 463, 465, O, {'word': 'She', 'confidence': '0.9999', 'sentence': '2'}, []),\n",
       "  Annotation(named_entity, 467, 469, O, {'word': 'had', 'confidence': '0.9997', 'sentence': '2'}, []),\n",
       "  Annotation(named_entity, 471, 474, O, {'word': 'been', 'confidence': '0.9998', 'sentence': '2'}, []),\n",
       "  Annotation(named_entity, 476, 477, O, {'word': 'on', 'confidence': '0.9983', 'sentence': '2'}, []),\n",
       "  Annotation(named_entity, 479, 491, B-TREATMENT, {'word': 'dapagliflozin', 'confidence': '0.9999', 'sentence': '2'}, []),\n",
       "  Annotation(named_entity, 493, 495, O, {'word': 'for', 'confidence': '1.0', 'sentence': '2'}, []),\n",
       "  Annotation(named_entity, 497, 499, O, {'word': 'six', 'confidence': '0.9871', 'sentence': '2'}, []),\n",
       "  Annotation(named_entity, 501, 506, O, {'word': 'months', 'confidence': '0.8859', 'sentence': '2'}, []),\n",
       "  Annotation(named_entity, 508, 509, O, {'word': 'at', 'confidence': '0.9999', 'sentence': '2'}, []),\n",
       "  Annotation(named_entity, 511, 513, O, {'word': 'the', 'confidence': '0.9987', 'sentence': '2'}, []),\n",
       "  Annotation(named_entity, 515, 518, O, {'word': 'time', 'confidence': '0.9579', 'sentence': '2'}, []),\n",
       "  Annotation(named_entity, 520, 521, O, {'word': 'of', 'confidence': '0.9636', 'sentence': '2'}, []),\n",
       "  Annotation(named_entity, 523, 534, O, {'word': 'presentation', 'confidence': '0.7969', 'sentence': '2'}, []),\n",
       "  Annotation(named_entity, 535, 535, O, {'word': '.', 'confidence': '0.9998', 'sentence': '2'}, []),\n",
       "  Annotation(named_entity, 537, 544, B-TEST, {'word': 'Physical', 'confidence': '0.8948', 'sentence': '3'}, []),\n",
       "  Annotation(named_entity, 546, 556, I-TEST, {'word': 'examination', 'confidence': '0.9948', 'sentence': '3'}, []),\n",
       "  Annotation(named_entity, 558, 559, O, {'word': 'on', 'confidence': '0.9928', 'sentence': '3'}, []),\n",
       "  Annotation(named_entity, 561, 572, O, {'word': 'presentation', 'confidence': '0.9298', 'sentence': '3'}, []),\n",
       "  Annotation(named_entity, 574, 576, O, {'word': 'was', 'confidence': '0.9998', 'sentence': '3'}, []),\n",
       "  Annotation(named_entity, 578, 588, O, {'word': 'significant', 'confidence': '0.973', 'sentence': '3'}, []),\n",
       "  Annotation(named_entity, 590, 592, O, {'word': 'for', 'confidence': '0.6964', 'sentence': '3'}, []),\n",
       "  Annotation(named_entity, 594, 596, B-PROBLEM, {'word': 'dry', 'confidence': '0.466', 'sentence': '3'}, []),\n",
       "  Annotation(named_entity, 598, 601, I-PROBLEM, {'word': 'oral', 'confidence': '0.7135', 'sentence': '3'}, []),\n",
       "  Annotation(named_entity, 603, 608, I-PROBLEM, {'word': 'mucosa', 'confidence': '0.9932', 'sentence': '3'}, []),\n",
       "  Annotation(named_entity, 610, 610, O, {'word': ';', 'confidence': '0.9993', 'sentence': '3'}, []),\n",
       "  Annotation(named_entity, 612, 624, O, {'word': 'significantly', 'confidence': '0.6258', 'sentence': '3'}, []),\n",
       "  Annotation(named_entity, 626, 626, O, {'word': ',', 'confidence': '0.988', 'sentence': '3'}, []),\n",
       "  Annotation(named_entity, 628, 630, B-TEST, {'word': 'her', 'confidence': '0.8397', 'sentence': '3'}, []),\n",
       "  Annotation(named_entity, 632, 640, I-TEST, {'word': 'abdominal', 'confidence': '0.7958', 'sentence': '3'}, []),\n",
       "  Annotation(named_entity, 642, 652, I-TEST, {'word': 'examination', 'confidence': '0.9894', 'sentence': '3'}, []),\n",
       "  Annotation(named_entity, 654, 656, O, {'word': 'was', 'confidence': '0.9999', 'sentence': '3'}, []),\n",
       "  Annotation(named_entity, 658, 663, O, {'word': 'benign', 'confidence': '0.9622', 'sentence': '3'}, []),\n",
       "  Annotation(named_entity, 665, 668, O, {'word': 'with', 'confidence': '0.9982', 'sentence': '3'}, []),\n",
       "  Annotation(named_entity, 670, 671, O, {'word': 'no', 'confidence': '0.9994', 'sentence': '3'}, []),\n",
       "  Annotation(named_entity, 673, 682, B-PROBLEM, {'word': 'tenderness', 'confidence': '0.9996', 'sentence': '3'}, []),\n",
       "  Annotation(named_entity, 683, 683, O, {'word': ',', 'confidence': '0.9996', 'sentence': '3'}, []),\n",
       "  Annotation(named_entity, 685, 692, B-PROBLEM, {'word': 'guarding', 'confidence': '0.9989', 'sentence': '3'}, []),\n",
       "  Annotation(named_entity, 693, 693, O, {'word': ',', 'confidence': '0.9993', 'sentence': '3'}, []),\n",
       "  Annotation(named_entity, 695, 696, O, {'word': 'or', 'confidence': '0.9847', 'sentence': '3'}, []),\n",
       "  Annotation(named_entity, 698, 705, B-PROBLEM, {'word': 'rigidity', 'confidence': '0.9986', 'sentence': '3'}, []),\n",
       "  Annotation(named_entity, 706, 706, O, {'word': '.', 'confidence': '0.9999', 'sentence': '3'}, []),\n",
       "  Annotation(named_entity, 708, 716, O, {'word': 'Pertinent', 'confidence': '0.9717', 'sentence': '4'}, []),\n",
       "  Annotation(named_entity, 718, 727, O, {'word': 'laboratory', 'confidence': '0.5973', 'sentence': '4'}, []),\n",
       "  Annotation(named_entity, 729, 736, O, {'word': 'findings', 'confidence': '0.6255', 'sentence': '4'}, []),\n",
       "  Annotation(named_entity, 738, 739, O, {'word': 'on', 'confidence': '0.9936', 'sentence': '4'}, []),\n",
       "  Annotation(named_entity, 741, 749, O, {'word': 'admission', 'confidence': '0.565', 'sentence': '4'}, []),\n",
       "  Annotation(named_entity, 751, 754, O, {'word': 'were', 'confidence': '0.9999', 'sentence': '4'}, []),\n",
       "  Annotation(named_entity, 755, 755, O, {'word': ':', 'confidence': '1.0', 'sentence': '4'}, []),\n",
       "  Annotation(named_entity, 757, 761, B-TEST, {'word': 'serum', 'confidence': '0.9726', 'sentence': '4'}, []),\n",
       "  Annotation(named_entity, 763, 769, I-TEST, {'word': 'glucose', 'confidence': '0.9654', 'sentence': '4'}, []),\n",
       "  Annotation(named_entity, 771, 773, O, {'word': '111', 'confidence': '0.9993', 'sentence': '4'}, []),\n",
       "  Annotation(named_entity, 775, 779, O, {'word': 'mg/dl', 'confidence': '0.9652', 'sentence': '4'}, []),\n",
       "  Annotation(named_entity, 780, 780, O, {'word': ',', 'confidence': '0.9997', 'sentence': '4'}, []),\n",
       "  Annotation(named_entity, 783, 792, B-TEST, {'word': 'creatinine', 'confidence': '0.9994', 'sentence': '4'}, []),\n",
       "  Annotation(named_entity, 794, 796, O, {'word': '0.4', 'confidence': '0.9997', 'sentence': '4'}, []),\n",
       "  Annotation(named_entity, 798, 802, O, {'word': 'mg/dL', 'confidence': '0.7432', 'sentence': '4'}, []),\n",
       "  Annotation(named_entity, 803, 803, O, {'word': ',', 'confidence': '0.9997', 'sentence': '4'}, []),\n",
       "  Annotation(named_entity, 805, 817, B-TEST, {'word': 'triglycerides', 'confidence': '0.9999', 'sentence': '4'}, []),\n",
       "  Annotation(named_entity, 819, 821, O, {'word': '508', 'confidence': '0.9999', 'sentence': '4'}, []),\n",
       "  Annotation(named_entity, 823, 827, O, {'word': 'mg/dL', 'confidence': '0.7211', 'sentence': '4'}, []),\n",
       "  Annotation(named_entity, 828, 828, O, {'word': ',', 'confidence': '0.9999', 'sentence': '4'}, []),\n",
       "  Annotation(named_entity, 830, 834, B-TEST, {'word': 'total', 'confidence': '0.9963', 'sentence': '4'}, []),\n",
       "  Annotation(named_entity, 836, 846, I-TEST, {'word': 'cholesterol', 'confidence': '0.9691', 'sentence': '4'}, []),\n",
       "  Annotation(named_entity, 848, 850, O, {'word': '122', 'confidence': '0.9997', 'sentence': '4'}, []),\n",
       "  Annotation(named_entity, 852, 856, O, {'word': 'mg/dL', 'confidence': '0.8757', 'sentence': '4'}, []),\n",
       "  Annotation(named_entity, 857, 857, O, {'word': ',', 'confidence': '0.9995', 'sentence': '4'}, []),\n",
       "  Annotation(named_entity, 859, 861, O, {'word': 'and', 'confidence': '0.9984', 'sentence': '4'}, []),\n",
       "  Annotation(named_entity, 863, 868, B-TEST, {'word': 'venous', 'confidence': '0.9917', 'sentence': '4'}, []),\n",
       "  Annotation(named_entity, 870, 871, I-TEST, {'word': 'pH', 'confidence': '0.952', 'sentence': '4'}, []),\n",
       "  Annotation(named_entity, 873, 876, O, {'word': '7.27', 'confidence': '0.9998', 'sentence': '4'}, []),\n",
       "  Annotation(named_entity, 877, 877, O, {'word': '.', 'confidence': '0.9998', 'sentence': '4'}, [])],\n",
       " 'embeddings': [Annotation(word_embeddings, 1, 1, A, {'isOOV': 'false', 'pieceId': '-1', 'isWordStart': 'true', 'token': 'A', 'sentence': '0'}, []),\n",
       "  Annotation(word_embeddings, 3, 13, 28-year-old, {'isOOV': 'false', 'pieceId': '-1', 'isWordStart': 'true', 'token': '28-year-old', 'sentence': '0'}, []),\n",
       "  Annotation(word_embeddings, 15, 20, female, {'isOOV': 'false', 'pieceId': '-1', 'isWordStart': 'true', 'token': 'female', 'sentence': '0'}, []),\n",
       "  Annotation(word_embeddings, 22, 25, with, {'isOOV': 'false', 'pieceId': '-1', 'isWordStart': 'true', 'token': 'with', 'sentence': '0'}, []),\n",
       "  Annotation(word_embeddings, 27, 27, a, {'isOOV': 'false', 'pieceId': '-1', 'isWordStart': 'true', 'token': 'a', 'sentence': '0'}, []),\n",
       "  Annotation(word_embeddings, 29, 35, history, {'isOOV': 'false', 'pieceId': '-1', 'isWordStart': 'true', 'token': 'history', 'sentence': '0'}, []),\n",
       "  Annotation(word_embeddings, 37, 38, of, {'isOOV': 'false', 'pieceId': '-1', 'isWordStart': 'true', 'token': 'of', 'sentence': '0'}, []),\n",
       "  Annotation(word_embeddings, 40, 50, gestational, {'isOOV': 'false', 'pieceId': '-1', 'isWordStart': 'true', 'token': 'gestational', 'sentence': '0'}, []),\n",
       "  Annotation(word_embeddings, 52, 59, diabetes, {'isOOV': 'false', 'pieceId': '-1', 'isWordStart': 'true', 'token': 'diabetes', 'sentence': '0'}, []),\n",
       "  Annotation(word_embeddings, 61, 68, mellitus, {'isOOV': 'false', 'pieceId': '-1', 'isWordStart': 'true', 'token': 'mellitus', 'sentence': '0'}, []),\n",
       "  Annotation(word_embeddings, 70, 78, diagnosed, {'isOOV': 'false', 'pieceId': '-1', 'isWordStart': 'true', 'token': 'diagnosed', 'sentence': '0'}, []),\n",
       "  Annotation(word_embeddings, 80, 84, eight, {'isOOV': 'false', 'pieceId': '-1', 'isWordStart': 'true', 'token': 'eight', 'sentence': '0'}, []),\n",
       "  Annotation(word_embeddings, 86, 90, years, {'isOOV': 'false', 'pieceId': '-1', 'isWordStart': 'true', 'token': 'years', 'sentence': '0'}, []),\n",
       "  Annotation(word_embeddings, 92, 96, prior, {'isOOV': 'false', 'pieceId': '-1', 'isWordStart': 'true', 'token': 'prior', 'sentence': '0'}, []),\n",
       "  Annotation(word_embeddings, 98, 99, to, {'isOOV': 'false', 'pieceId': '-1', 'isWordStart': 'true', 'token': 'to', 'sentence': '0'}, []),\n",
       "  Annotation(word_embeddings, 101, 112, presentation, {'isOOV': 'false', 'pieceId': '-1', 'isWordStart': 'true', 'token': 'presentation', 'sentence': '0'}, []),\n",
       "  Annotation(word_embeddings, 114, 116, and, {'isOOV': 'false', 'pieceId': '-1', 'isWordStart': 'true', 'token': 'and', 'sentence': '0'}, []),\n",
       "  Annotation(word_embeddings, 118, 127, subsequent, {'isOOV': 'false', 'pieceId': '-1', 'isWordStart': 'true', 'token': 'subsequent', 'sentence': '0'}, []),\n",
       "  Annotation(word_embeddings, 129, 132, type, {'isOOV': 'false', 'pieceId': '-1', 'isWordStart': 'true', 'token': 'type', 'sentence': '0'}, []),\n",
       "  Annotation(word_embeddings, 134, 136, two, {'isOOV': 'false', 'pieceId': '-1', 'isWordStart': 'true', 'token': 'two', 'sentence': '0'}, []),\n",
       "  Annotation(word_embeddings, 138, 145, diabetes, {'isOOV': 'false', 'pieceId': '-1', 'isWordStart': 'true', 'token': 'diabetes', 'sentence': '0'}, []),\n",
       "  Annotation(word_embeddings, 147, 154, mellitus, {'isOOV': 'false', 'pieceId': '-1', 'isWordStart': 'true', 'token': 'mellitus', 'sentence': '0'}, []),\n",
       "  Annotation(word_embeddings, 156, 156, (, {'isOOV': 'false', 'pieceId': '-1', 'isWordStart': 'true', 'token': '(', 'sentence': '0'}, []),\n",
       "  Annotation(word_embeddings, 157, 160, T2DM, {'isOOV': 'false', 'pieceId': '-1', 'isWordStart': 'true', 'token': 'T2DM', 'sentence': '0'}, []),\n",
       "  Annotation(word_embeddings, 161, 162, ),, {'isOOV': 'true', 'pieceId': '-1', 'isWordStart': 'true', 'token': '),', 'sentence': '0'}, []),\n",
       "  Annotation(word_embeddings, 164, 166, one, {'isOOV': 'false', 'pieceId': '-1', 'isWordStart': 'true', 'token': 'one', 'sentence': '0'}, []),\n",
       "  Annotation(word_embeddings, 168, 172, prior, {'isOOV': 'false', 'pieceId': '-1', 'isWordStart': 'true', 'token': 'prior', 'sentence': '0'}, []),\n",
       "  Annotation(word_embeddings, 174, 180, episode, {'isOOV': 'false', 'pieceId': '-1', 'isWordStart': 'true', 'token': 'episode', 'sentence': '0'}, []),\n",
       "  Annotation(word_embeddings, 182, 183, of, {'isOOV': 'false', 'pieceId': '-1', 'isWordStart': 'true', 'token': 'of', 'sentence': '0'}, []),\n",
       "  Annotation(word_embeddings, 185, 195, HTG-induced, {'isOOV': 'false', 'pieceId': '-1', 'isWordStart': 'true', 'token': 'HTG-induced', 'sentence': '0'}, []),\n",
       "  Annotation(word_embeddings, 197, 208, pancreatitis, {'isOOV': 'false', 'pieceId': '-1', 'isWordStart': 'true', 'token': 'pancreatitis', 'sentence': '0'}, []),\n",
       "  Annotation(word_embeddings, 210, 214, three, {'isOOV': 'false', 'pieceId': '-1', 'isWordStart': 'true', 'token': 'three', 'sentence': '0'}, []),\n",
       "  Annotation(word_embeddings, 216, 220, years, {'isOOV': 'false', 'pieceId': '-1', 'isWordStart': 'true', 'token': 'years', 'sentence': '0'}, []),\n",
       "  Annotation(word_embeddings, 222, 226, prior, {'isOOV': 'false', 'pieceId': '-1', 'isWordStart': 'true', 'token': 'prior', 'sentence': '0'}, []),\n",
       "  Annotation(word_embeddings, 228, 229, to, {'isOOV': 'false', 'pieceId': '-1', 'isWordStart': 'true', 'token': 'to', 'sentence': '0'}, []),\n",
       "  Annotation(word_embeddings, 231, 242, presentation, {'isOOV': 'false', 'pieceId': '-1', 'isWordStart': 'true', 'token': 'presentation', 'sentence': '0'}, []),\n",
       "  Annotation(word_embeddings, 243, 243, ,, {'isOOV': 'false', 'pieceId': '-1', 'isWordStart': 'true', 'token': ',', 'sentence': '0'}, []),\n",
       "  Annotation(word_embeddings, 245, 247, and, {'isOOV': 'false', 'pieceId': '-1', 'isWordStart': 'true', 'token': 'and', 'sentence': '0'}, []),\n",
       "  Annotation(word_embeddings, 249, 258, associated, {'isOOV': 'false', 'pieceId': '-1', 'isWordStart': 'true', 'token': 'associated', 'sentence': '0'}, []),\n",
       "  Annotation(word_embeddings, 260, 263, with, {'isOOV': 'false', 'pieceId': '-1', 'isWordStart': 'true', 'token': 'with', 'sentence': '0'}, []),\n",
       "  Annotation(word_embeddings, 265, 266, an, {'isOOV': 'false', 'pieceId': '-1', 'isWordStart': 'true', 'token': 'an', 'sentence': '0'}, []),\n",
       "  Annotation(word_embeddings, 268, 272, acute, {'isOOV': 'false', 'pieceId': '-1', 'isWordStart': 'true', 'token': 'acute', 'sentence': '0'}, []),\n",
       "  Annotation(word_embeddings, 274, 282, hepatitis, {'isOOV': 'false', 'pieceId': '-1', 'isWordStart': 'true', 'token': 'hepatitis', 'sentence': '0'}, []),\n",
       "  Annotation(word_embeddings, 283, 283, ,, {'isOOV': 'false', 'pieceId': '-1', 'isWordStart': 'true', 'token': ',', 'sentence': '0'}, []),\n",
       "  Annotation(word_embeddings, 285, 293, presented, {'isOOV': 'false', 'pieceId': '-1', 'isWordStart': 'true', 'token': 'presented', 'sentence': '0'}, []),\n",
       "  Annotation(word_embeddings, 295, 298, with, {'isOOV': 'false', 'pieceId': '-1', 'isWordStart': 'true', 'token': 'with', 'sentence': '0'}, []),\n",
       "  Annotation(word_embeddings, 300, 300, a, {'isOOV': 'false', 'pieceId': '-1', 'isWordStart': 'true', 'token': 'a', 'sentence': '0'}, []),\n",
       "  Annotation(word_embeddings, 302, 309, one-week, {'isOOV': 'false', 'pieceId': '-1', 'isWordStart': 'true', 'token': 'one-week', 'sentence': '0'}, []),\n",
       "  Annotation(word_embeddings, 311, 317, history, {'isOOV': 'false', 'pieceId': '-1', 'isWordStart': 'true', 'token': 'history', 'sentence': '0'}, []),\n",
       "  Annotation(word_embeddings, 319, 320, of, {'isOOV': 'false', 'pieceId': '-1', 'isWordStart': 'true', 'token': 'of', 'sentence': '0'}, []),\n",
       "  Annotation(word_embeddings, 322, 329, polyuria, {'isOOV': 'false', 'pieceId': '-1', 'isWordStart': 'true', 'token': 'polyuria', 'sentence': '0'}, []),\n",
       "  Annotation(word_embeddings, 330, 330, ,, {'isOOV': 'false', 'pieceId': '-1', 'isWordStart': 'true', 'token': ',', 'sentence': '0'}, []),\n",
       "  Annotation(word_embeddings, 332, 335, poor, {'isOOV': 'false', 'pieceId': '-1', 'isWordStart': 'true', 'token': 'poor', 'sentence': '0'}, []),\n",
       "  Annotation(word_embeddings, 337, 344, appetite, {'isOOV': 'false', 'pieceId': '-1', 'isWordStart': 'true', 'token': 'appetite', 'sentence': '0'}, []),\n",
       "  Annotation(word_embeddings, 345, 345, ,, {'isOOV': 'false', 'pieceId': '-1', 'isWordStart': 'true', 'token': ',', 'sentence': '0'}, []),\n",
       "  Annotation(word_embeddings, 347, 349, and, {'isOOV': 'false', 'pieceId': '-1', 'isWordStart': 'true', 'token': 'and', 'sentence': '0'}, []),\n",
       "  Annotation(word_embeddings, 351, 358, vomiting, {'isOOV': 'false', 'pieceId': '-1', 'isWordStart': 'true', 'token': 'vomiting', 'sentence': '0'}, []),\n",
       "  Annotation(word_embeddings, 359, 359, ., {'isOOV': 'false', 'pieceId': '-1', 'isWordStart': 'true', 'token': '.', 'sentence': '0'}, []),\n",
       "  Annotation(word_embeddings, 361, 363, She, {'isOOV': 'false', 'pieceId': '-1', 'isWordStart': 'true', 'token': 'She', 'sentence': '1'}, []),\n",
       "  Annotation(word_embeddings, 365, 367, was, {'isOOV': 'false', 'pieceId': '-1', 'isWordStart': 'true', 'token': 'was', 'sentence': '1'}, []),\n",
       "  Annotation(word_embeddings, 369, 370, on, {'isOOV': 'false', 'pieceId': '-1', 'isWordStart': 'true', 'token': 'on', 'sentence': '1'}, []),\n",
       "  Annotation(word_embeddings, 372, 380, metformin, {'isOOV': 'false', 'pieceId': '-1', 'isWordStart': 'true', 'token': 'metformin', 'sentence': '1'}, []),\n",
       "  Annotation(word_embeddings, 381, 381, ,, {'isOOV': 'false', 'pieceId': '-1', 'isWordStart': 'true', 'token': ',', 'sentence': '1'}, []),\n",
       "  Annotation(word_embeddings, 383, 391, glipizide, {'isOOV': 'false', 'pieceId': '-1', 'isWordStart': 'true', 'token': 'glipizide', 'sentence': '1'}, []),\n",
       "  Annotation(word_embeddings, 392, 392, ,, {'isOOV': 'false', 'pieceId': '-1', 'isWordStart': 'true', 'token': ',', 'sentence': '1'}, []),\n",
       "  Annotation(word_embeddings, 394, 396, and, {'isOOV': 'false', 'pieceId': '-1', 'isWordStart': 'true', 'token': 'and', 'sentence': '1'}, []),\n",
       "  Annotation(word_embeddings, 398, 410, dapagliflozin, {'isOOV': 'false', 'pieceId': '-1', 'isWordStart': 'true', 'token': 'dapagliflozin', 'sentence': '1'}, []),\n",
       "  Annotation(word_embeddings, 412, 414, for, {'isOOV': 'false', 'pieceId': '-1', 'isWordStart': 'true', 'token': 'for', 'sentence': '1'}, []),\n",
       "  Annotation(word_embeddings, 416, 419, T2DM, {'isOOV': 'false', 'pieceId': '-1', 'isWordStart': 'true', 'token': 'T2DM', 'sentence': '1'}, []),\n",
       "  Annotation(word_embeddings, 421, 423, and, {'isOOV': 'false', 'pieceId': '-1', 'isWordStart': 'true', 'token': 'and', 'sentence': '1'}, []),\n",
       "  Annotation(word_embeddings, 425, 436, atorvastatin, {'isOOV': 'false', 'pieceId': '-1', 'isWordStart': 'true', 'token': 'atorvastatin', 'sentence': '1'}, []),\n",
       "  Annotation(word_embeddings, 438, 440, and, {'isOOV': 'false', 'pieceId': '-1', 'isWordStart': 'true', 'token': 'and', 'sentence': '1'}, []),\n",
       "  Annotation(word_embeddings, 442, 452, gemfibrozil, {'isOOV': 'false', 'pieceId': '-1', 'isWordStart': 'true', 'token': 'gemfibrozil', 'sentence': '1'}, []),\n",
       "  Annotation(word_embeddings, 454, 456, for, {'isOOV': 'false', 'pieceId': '-1', 'isWordStart': 'true', 'token': 'for', 'sentence': '1'}, []),\n",
       "  Annotation(word_embeddings, 458, 460, HTG, {'isOOV': 'false', 'pieceId': '-1', 'isWordStart': 'true', 'token': 'HTG', 'sentence': '1'}, []),\n",
       "  Annotation(word_embeddings, 461, 461, ., {'isOOV': 'false', 'pieceId': '-1', 'isWordStart': 'true', 'token': '.', 'sentence': '1'}, []),\n",
       "  Annotation(word_embeddings, 463, 465, She, {'isOOV': 'false', 'pieceId': '-1', 'isWordStart': 'true', 'token': 'She', 'sentence': '2'}, []),\n",
       "  Annotation(word_embeddings, 467, 469, had, {'isOOV': 'false', 'pieceId': '-1', 'isWordStart': 'true', 'token': 'had', 'sentence': '2'}, []),\n",
       "  Annotation(word_embeddings, 471, 474, been, {'isOOV': 'false', 'pieceId': '-1', 'isWordStart': 'true', 'token': 'been', 'sentence': '2'}, []),\n",
       "  Annotation(word_embeddings, 476, 477, on, {'isOOV': 'false', 'pieceId': '-1', 'isWordStart': 'true', 'token': 'on', 'sentence': '2'}, []),\n",
       "  Annotation(word_embeddings, 479, 491, dapagliflozin, {'isOOV': 'false', 'pieceId': '-1', 'isWordStart': 'true', 'token': 'dapagliflozin', 'sentence': '2'}, []),\n",
       "  Annotation(word_embeddings, 493, 495, for, {'isOOV': 'false', 'pieceId': '-1', 'isWordStart': 'true', 'token': 'for', 'sentence': '2'}, []),\n",
       "  Annotation(word_embeddings, 497, 499, six, {'isOOV': 'false', 'pieceId': '-1', 'isWordStart': 'true', 'token': 'six', 'sentence': '2'}, []),\n",
       "  Annotation(word_embeddings, 501, 506, months, {'isOOV': 'false', 'pieceId': '-1', 'isWordStart': 'true', 'token': 'months', 'sentence': '2'}, []),\n",
       "  Annotation(word_embeddings, 508, 509, at, {'isOOV': 'false', 'pieceId': '-1', 'isWordStart': 'true', 'token': 'at', 'sentence': '2'}, []),\n",
       "  Annotation(word_embeddings, 511, 513, the, {'isOOV': 'false', 'pieceId': '-1', 'isWordStart': 'true', 'token': 'the', 'sentence': '2'}, []),\n",
       "  Annotation(word_embeddings, 515, 518, time, {'isOOV': 'false', 'pieceId': '-1', 'isWordStart': 'true', 'token': 'time', 'sentence': '2'}, []),\n",
       "  Annotation(word_embeddings, 520, 521, of, {'isOOV': 'false', 'pieceId': '-1', 'isWordStart': 'true', 'token': 'of', 'sentence': '2'}, []),\n",
       "  Annotation(word_embeddings, 523, 534, presentation, {'isOOV': 'false', 'pieceId': '-1', 'isWordStart': 'true', 'token': 'presentation', 'sentence': '2'}, []),\n",
       "  Annotation(word_embeddings, 535, 535, ., {'isOOV': 'false', 'pieceId': '-1', 'isWordStart': 'true', 'token': '.', 'sentence': '2'}, []),\n",
       "  Annotation(word_embeddings, 537, 544, Physical, {'isOOV': 'false', 'pieceId': '-1', 'isWordStart': 'true', 'token': 'Physical', 'sentence': '3'}, []),\n",
       "  Annotation(word_embeddings, 546, 556, examination, {'isOOV': 'false', 'pieceId': '-1', 'isWordStart': 'true', 'token': 'examination', 'sentence': '3'}, []),\n",
       "  Annotation(word_embeddings, 558, 559, on, {'isOOV': 'false', 'pieceId': '-1', 'isWordStart': 'true', 'token': 'on', 'sentence': '3'}, []),\n",
       "  Annotation(word_embeddings, 561, 572, presentation, {'isOOV': 'false', 'pieceId': '-1', 'isWordStart': 'true', 'token': 'presentation', 'sentence': '3'}, []),\n",
       "  Annotation(word_embeddings, 574, 576, was, {'isOOV': 'false', 'pieceId': '-1', 'isWordStart': 'true', 'token': 'was', 'sentence': '3'}, []),\n",
       "  Annotation(word_embeddings, 578, 588, significant, {'isOOV': 'false', 'pieceId': '-1', 'isWordStart': 'true', 'token': 'significant', 'sentence': '3'}, []),\n",
       "  Annotation(word_embeddings, 590, 592, for, {'isOOV': 'false', 'pieceId': '-1', 'isWordStart': 'true', 'token': 'for', 'sentence': '3'}, []),\n",
       "  Annotation(word_embeddings, 594, 596, dry, {'isOOV': 'false', 'pieceId': '-1', 'isWordStart': 'true', 'token': 'dry', 'sentence': '3'}, []),\n",
       "  Annotation(word_embeddings, 598, 601, oral, {'isOOV': 'false', 'pieceId': '-1', 'isWordStart': 'true', 'token': 'oral', 'sentence': '3'}, []),\n",
       "  Annotation(word_embeddings, 603, 608, mucosa, {'isOOV': 'false', 'pieceId': '-1', 'isWordStart': 'true', 'token': 'mucosa', 'sentence': '3'}, []),\n",
       "  Annotation(word_embeddings, 610, 610, ;, {'isOOV': 'false', 'pieceId': '-1', 'isWordStart': 'true', 'token': ';', 'sentence': '3'}, []),\n",
       "  Annotation(word_embeddings, 612, 624, significantly, {'isOOV': 'false', 'pieceId': '-1', 'isWordStart': 'true', 'token': 'significantly', 'sentence': '3'}, []),\n",
       "  Annotation(word_embeddings, 626, 626, ,, {'isOOV': 'false', 'pieceId': '-1', 'isWordStart': 'true', 'token': ',', 'sentence': '3'}, []),\n",
       "  Annotation(word_embeddings, 628, 630, her, {'isOOV': 'false', 'pieceId': '-1', 'isWordStart': 'true', 'token': 'her', 'sentence': '3'}, []),\n",
       "  Annotation(word_embeddings, 632, 640, abdominal, {'isOOV': 'false', 'pieceId': '-1', 'isWordStart': 'true', 'token': 'abdominal', 'sentence': '3'}, []),\n",
       "  Annotation(word_embeddings, 642, 652, examination, {'isOOV': 'false', 'pieceId': '-1', 'isWordStart': 'true', 'token': 'examination', 'sentence': '3'}, []),\n",
       "  Annotation(word_embeddings, 654, 656, was, {'isOOV': 'false', 'pieceId': '-1', 'isWordStart': 'true', 'token': 'was', 'sentence': '3'}, []),\n",
       "  Annotation(word_embeddings, 658, 663, benign, {'isOOV': 'false', 'pieceId': '-1', 'isWordStart': 'true', 'token': 'benign', 'sentence': '3'}, []),\n",
       "  Annotation(word_embeddings, 665, 668, with, {'isOOV': 'false', 'pieceId': '-1', 'isWordStart': 'true', 'token': 'with', 'sentence': '3'}, []),\n",
       "  Annotation(word_embeddings, 670, 671, no, {'isOOV': 'false', 'pieceId': '-1', 'isWordStart': 'true', 'token': 'no', 'sentence': '3'}, []),\n",
       "  Annotation(word_embeddings, 673, 682, tenderness, {'isOOV': 'false', 'pieceId': '-1', 'isWordStart': 'true', 'token': 'tenderness', 'sentence': '3'}, []),\n",
       "  Annotation(word_embeddings, 683, 683, ,, {'isOOV': 'false', 'pieceId': '-1', 'isWordStart': 'true', 'token': ',', 'sentence': '3'}, []),\n",
       "  Annotation(word_embeddings, 685, 692, guarding, {'isOOV': 'false', 'pieceId': '-1', 'isWordStart': 'true', 'token': 'guarding', 'sentence': '3'}, []),\n",
       "  Annotation(word_embeddings, 693, 693, ,, {'isOOV': 'false', 'pieceId': '-1', 'isWordStart': 'true', 'token': ',', 'sentence': '3'}, []),\n",
       "  Annotation(word_embeddings, 695, 696, or, {'isOOV': 'false', 'pieceId': '-1', 'isWordStart': 'true', 'token': 'or', 'sentence': '3'}, []),\n",
       "  Annotation(word_embeddings, 698, 705, rigidity, {'isOOV': 'false', 'pieceId': '-1', 'isWordStart': 'true', 'token': 'rigidity', 'sentence': '3'}, []),\n",
       "  Annotation(word_embeddings, 706, 706, ., {'isOOV': 'false', 'pieceId': '-1', 'isWordStart': 'true', 'token': '.', 'sentence': '3'}, []),\n",
       "  Annotation(word_embeddings, 708, 716, Pertinent, {'isOOV': 'false', 'pieceId': '-1', 'isWordStart': 'true', 'token': 'Pertinent', 'sentence': '4'}, []),\n",
       "  Annotation(word_embeddings, 718, 727, laboratory, {'isOOV': 'false', 'pieceId': '-1', 'isWordStart': 'true', 'token': 'laboratory', 'sentence': '4'}, []),\n",
       "  Annotation(word_embeddings, 729, 736, findings, {'isOOV': 'false', 'pieceId': '-1', 'isWordStart': 'true', 'token': 'findings', 'sentence': '4'}, []),\n",
       "  Annotation(word_embeddings, 738, 739, on, {'isOOV': 'false', 'pieceId': '-1', 'isWordStart': 'true', 'token': 'on', 'sentence': '4'}, []),\n",
       "  Annotation(word_embeddings, 741, 749, admission, {'isOOV': 'false', 'pieceId': '-1', 'isWordStart': 'true', 'token': 'admission', 'sentence': '4'}, []),\n",
       "  Annotation(word_embeddings, 751, 754, were, {'isOOV': 'false', 'pieceId': '-1', 'isWordStart': 'true', 'token': 'were', 'sentence': '4'}, []),\n",
       "  Annotation(word_embeddings, 755, 755, :, {'isOOV': 'false', 'pieceId': '-1', 'isWordStart': 'true', 'token': ':', 'sentence': '4'}, []),\n",
       "  Annotation(word_embeddings, 757, 761, serum, {'isOOV': 'false', 'pieceId': '-1', 'isWordStart': 'true', 'token': 'serum', 'sentence': '4'}, []),\n",
       "  Annotation(word_embeddings, 763, 769, glucose, {'isOOV': 'false', 'pieceId': '-1', 'isWordStart': 'true', 'token': 'glucose', 'sentence': '4'}, []),\n",
       "  Annotation(word_embeddings, 771, 773, 111, {'isOOV': 'false', 'pieceId': '-1', 'isWordStart': 'true', 'token': '111', 'sentence': '4'}, []),\n",
       "  Annotation(word_embeddings, 775, 779, mg/dl, {'isOOV': 'false', 'pieceId': '-1', 'isWordStart': 'true', 'token': 'mg/dl', 'sentence': '4'}, []),\n",
       "  Annotation(word_embeddings, 780, 780, ,, {'isOOV': 'false', 'pieceId': '-1', 'isWordStart': 'true', 'token': ',', 'sentence': '4'}, []),\n",
       "  Annotation(word_embeddings, 783, 792, creatinine, {'isOOV': 'false', 'pieceId': '-1', 'isWordStart': 'true', 'token': 'creatinine', 'sentence': '4'}, []),\n",
       "  Annotation(word_embeddings, 794, 796, 0.4, {'isOOV': 'false', 'pieceId': '-1', 'isWordStart': 'true', 'token': '0.4', 'sentence': '4'}, []),\n",
       "  Annotation(word_embeddings, 798, 802, mg/dL, {'isOOV': 'false', 'pieceId': '-1', 'isWordStart': 'true', 'token': 'mg/dL', 'sentence': '4'}, []),\n",
       "  Annotation(word_embeddings, 803, 803, ,, {'isOOV': 'false', 'pieceId': '-1', 'isWordStart': 'true', 'token': ',', 'sentence': '4'}, []),\n",
       "  Annotation(word_embeddings, 805, 817, triglycerides, {'isOOV': 'false', 'pieceId': '-1', 'isWordStart': 'true', 'token': 'triglycerides', 'sentence': '4'}, []),\n",
       "  Annotation(word_embeddings, 819, 821, 508, {'isOOV': 'false', 'pieceId': '-1', 'isWordStart': 'true', 'token': '508', 'sentence': '4'}, []),\n",
       "  Annotation(word_embeddings, 823, 827, mg/dL, {'isOOV': 'false', 'pieceId': '-1', 'isWordStart': 'true', 'token': 'mg/dL', 'sentence': '4'}, []),\n",
       "  Annotation(word_embeddings, 828, 828, ,, {'isOOV': 'false', 'pieceId': '-1', 'isWordStart': 'true', 'token': ',', 'sentence': '4'}, []),\n",
       "  Annotation(word_embeddings, 830, 834, total, {'isOOV': 'false', 'pieceId': '-1', 'isWordStart': 'true', 'token': 'total', 'sentence': '4'}, []),\n",
       "  Annotation(word_embeddings, 836, 846, cholesterol, {'isOOV': 'false', 'pieceId': '-1', 'isWordStart': 'true', 'token': 'cholesterol', 'sentence': '4'}, []),\n",
       "  Annotation(word_embeddings, 848, 850, 122, {'isOOV': 'false', 'pieceId': '-1', 'isWordStart': 'true', 'token': '122', 'sentence': '4'}, []),\n",
       "  Annotation(word_embeddings, 852, 856, mg/dL, {'isOOV': 'false', 'pieceId': '-1', 'isWordStart': 'true', 'token': 'mg/dL', 'sentence': '4'}, []),\n",
       "  Annotation(word_embeddings, 857, 857, ,, {'isOOV': 'false', 'pieceId': '-1', 'isWordStart': 'true', 'token': ',', 'sentence': '4'}, []),\n",
       "  Annotation(word_embeddings, 859, 861, and, {'isOOV': 'false', 'pieceId': '-1', 'isWordStart': 'true', 'token': 'and', 'sentence': '4'}, []),\n",
       "  Annotation(word_embeddings, 863, 868, venous, {'isOOV': 'false', 'pieceId': '-1', 'isWordStart': 'true', 'token': 'venous', 'sentence': '4'}, []),\n",
       "  Annotation(word_embeddings, 870, 871, pH, {'isOOV': 'false', 'pieceId': '-1', 'isWordStart': 'true', 'token': 'pH', 'sentence': '4'}, []),\n",
       "  Annotation(word_embeddings, 873, 876, 7.27, {'isOOV': 'false', 'pieceId': '-1', 'isWordStart': 'true', 'token': '7.27', 'sentence': '4'}, []),\n",
       "  Annotation(word_embeddings, 877, 877, ., {'isOOV': 'false', 'pieceId': '-1', 'isWordStart': 'true', 'token': '.', 'sentence': '4'}, [])],\n",
       " 'sentence': [Annotation(document, 1, 359, A 28-year-old female with a history of gestational diabetes mellitus diagnosed eight years prior to presentation and subsequent type two diabetes mellitus (T2DM), one prior episode of HTG-induced pancreatitis three years prior to presentation, and associated with an acute hepatitis, presented with a one-week history of polyuria, poor appetite, and vomiting., {'sentence': '0'}, []),\n",
       "  Annotation(document, 361, 461, She was on metformin, glipizide, and dapagliflozin for T2DM and atorvastatin and gemfibrozil for HTG., {'sentence': '1'}, []),\n",
       "  Annotation(document, 463, 535, She had been on dapagliflozin for six months at the time of presentation., {'sentence': '2'}, []),\n",
       "  Annotation(document, 537, 706, Physical examination on presentation was significant for dry oral mucosa ; significantly , her abdominal examination was benign with no tenderness, guarding, or rigidity., {'sentence': '3'}, []),\n",
       "  Annotation(document, 708, 877, Pertinent laboratory findings on admission were: serum glucose 111 mg/dl,  creatinine 0.4 mg/dL, triglycerides 508 mg/dL, total cholesterol 122 mg/dL, and venous pH 7.27., {'sentence': '4'}, [])]}"
      ]
     },
     "execution_count": 6,
     "metadata": {},
     "output_type": "execute_result"
    }
   ],
   "source": [
    "light_result[0]"
   ]
  },
  {
   "cell_type": "markdown",
   "metadata": {
    "application/vnd.databricks.v1+cell": {
     "cellMetadata": {
      "byteLimit": 2048000,
      "rowLimit": 10000
     },
     "inputWidgets": {},
     "nuid": "9008f94c-5ea1-472b-a82d-b1dd4f75abbe",
     "showTitle": false,
     "tableResultSettingsMap": {},
     "title": ""
    }
   },
   "source": [
    "**Getting embeddings with LP**"
   ]
  },
  {
   "cell_type": "code",
   "execution_count": 0,
   "metadata": {
    "application/vnd.databricks.v1+cell": {
     "cellMetadata": {
      "byteLimit": 2048000,
      "rowLimit": 10000
     },
     "inputWidgets": {},
     "nuid": "c38b792b-dd46-46db-93d8-9968a7e3ed79",
     "showTitle": false,
     "tableResultSettingsMap": {},
     "title": ""
    }
   },
   "outputs": [
    {
     "output_type": "execute_result",
     "data": {
      "text/plain": [
       "[('A',\n",
       "  '0.040217556 0.4003962 0.69088835 -0.44649735 -0.40282863 -0.45621523 -0.20415598 0.13707675 -0.010474405 -0.42899358 -0.2879874 -0.03076839 -0.40367207 -0.32588458 0.23294163 -0.16012932 -0.35798857 0.043061644 -0.4091242 0.101141304 -0.61503464 0.068771854 -0.025053142 0.11466996 -0.57737786 -0.25603554 -0.6950373 0.3328502 -0.100428 0.0191588 -0.61035156 -0.94459176 -0.2473863 0.16416614 -0.27778018 0.40670344 0.57310873 0.10776807 0.13333033 0.1447822 0.18491237 0.2196365 0.16771133 -0.40313882 -0.20199609 0.045175955 -0.2593916 -0.066459864 0.15229034 0.002910823 -0.16859493 0.17066914 -9.03164E-4 0.03531517 -0.33315992 -0.034506235 0.40311962 0.023356766 0.13823766 -0.2634582 0.27318013 -0.15994109 0.40696687 0.19050935 -0.19682823 -0.012536205 0.4694685 -0.14188287 -0.024362855 -0.38291803 0.013956237 0.1830807 0.34642568 -0.23263279 -0.14591216 -0.2337688 0.5834314 -0.03057853 -0.367189 0.56245005 -0.032807935 0.122141086 0.17941982 -0.00749746 -0.18216385 0.17958473 -0.3053265 0.22779782 0.02217061 0.029920649 0.17621519 0.011366806 0.0385044 0.10249041 0.3426693 -0.035018172 0.4671417 0.22892669 -0.30640814 0.10803514 0.3855227 -0.115776226 -0.44415653 -0.11332124 0.044015724 0.61063313 0.29600143 -0.012069431 -0.38224095 -0.13973162 0.39301684 0.23673905 0.057245154 0.18140107 -0.051603805 0.7974051 -0.06663643 -0.5508283 0.28209952 0.18742235 0.21872385 -0.25591275 0.066957995 -0.25298932 0.13821244 0.8307903 0.3973212 -0.17276311 0.12846412 -0.092758246 0.0037952603 -0.41248038 0.65204984 -0.03299473 0.21624717 -0.56830674 0.23451968 -0.05922969 -0.3901237 -0.40775988 0.10331385 -0.0052452036 0.17687175 -0.2470756 0.054437738 0.10611684 -0.546031 0.03243354 -0.10689023 -0.39552742 -0.29755193 -0.12058273 0.047433637 0.16503441 -0.033334065 0.015473544 0.026549816 -0.7305153 -0.09848879 0.11045749 0.41713542 -0.13625173 -0.4153576 0.23202501 0.45888668 -0.0958802 -0.1448712 -0.63727266 0.26895493 -0.2672995 0.08526398 -0.14055037 8.3983614E-4 0.23264983 -0.13427801 0.4620594 0.33161256 0.43790993 0.1952479 -0.27517807 0.22294433 -0.28702205 0.36680275 -0.2888683 -0.10005434 0.029136676 -0.19198024 -0.05411223 0.19856672 0.041492134 0.042284537 0.27730006 0.33647385 -0.25736117 0.10052982 0.0914106 -0.5406019 -0.18598284 -0.54862744 -0.43890363'),\n",
       " ('28-year-old',\n",
       "  '0.124630086 0.041768234 -0.5851833 0.14018573 -0.2683909 -0.6359739 -0.31614816 -0.71483403 0.5511774 0.4304843 -0.5115899 0.7928865 0.0788141 0.0055778096 -0.10271598 -0.5141132 -0.22763066 0.25965604 0.059446163 0.32050937 -0.16531321 -0.0833686 0.82620156 0.22395885 -0.1965371 -0.11455178 -0.5434175 0.2595536 -0.0153490305 -0.474383 0.14677128 -0.080003664 -0.052671567 -0.04031274 -0.22524078 -0.35215047 0.046719514 -0.21722157 -0.32051668 0.23190966 -0.04614518 1.0149231 0.6315361 -0.47952643 0.44472834 0.053033605 0.31127706 0.08055067 -0.7282213 -0.7802679 0.16257171 0.073258646 0.40050963 0.44751948 0.4896496 -0.17256223 0.1598703 -0.65302587 -0.06466415 -0.21638417 0.3140914 0.4975012 -0.12023235 0.09910327 -0.04403189 -0.8829349 0.6587716 0.17046705 0.1637326 0.28226846 0.19858298 0.37132013 0.6070592 -0.11720922 -0.1534436 0.15268378 -0.055180248 -0.23013055 -0.46350223 0.25226158 -0.4663529 0.19255444 -0.5118875 0.1125828 -0.3138261 0.11908515 -0.17581931 -0.48491156 0.20515475 -0.4273081 -0.6629976 0.31330186 0.3916261 -0.056986686 0.11155176 -0.030073252 0.1524556 -0.36797798 0.6462149 -0.08456914 0.050772805 -0.34014466 0.3223971 0.015675943 0.015383259 0.34324646 0.096488 -0.33835164 0.067233734 0.6365546 0.52120185 0.37197444 -0.027830597 0.4061612 0.028669652 0.27176672 0.07524431 -0.55174196 0.28766853 0.07589323 -0.22518751 -0.44933867 -0.4721748 -0.108820066 0.32532197 0.08391404 -0.45878386 0.26986977 0.1009148 0.6153148 -0.048685577 0.30017054 -0.40371877 0.047533885 0.53543746 -0.27002755 0.25372973 0.10320132 -0.14759818 -0.27956298 0.3565558 -0.1178739 0.75151694 0.39113513 0.17251517 0.20465879 0.11995484 0.86947393 -0.3805215 -0.6808252 0.38752273 -0.35575667 -0.40939957 0.33717453 -0.8888754 0.4364028 0.2899467 -0.66873056 -0.79028213 -0.69079405 0.14101063 -0.0026479138 0.15928632 0.3302679 0.47052 -0.32484296 -0.15391971 -0.5722817 0.1116602 -0.08223172 -0.18719476 -0.5508417 0.19215384 -0.3587382 -0.37864798 0.305579 -0.4447613 -0.054872658 -0.42322004 -0.10340428 -0.014868535 0.5060039 0.28027403 0.086417876 0.5062302 -0.046939876 0.08775024 0.36165246 0.64060605 0.7646089 -0.18056732 0.37293836 0.6689069 0.030002259 0.5213449 0.24203093 -0.892416 -0.3918221 0.3560327 -0.3065561'),\n",
       " ('female',\n",
       "  '0.16302037 0.017953504 0.005551864 -0.032135632 -0.35178208 -0.019391192 -0.23211344 -0.11785924 0.45375252 0.2833919 -0.2134419 0.14760925 -0.48229983 -0.2431024 0.1263231 -0.30963817 -0.17346981 -0.052810684 0.14164582 0.16676669 -0.38038972 -0.019319143 0.5836717 0.12141203 0.29895684 0.010067581 -0.13612121 -0.02027633 -0.05771621 -0.072261736 0.3775381 -0.13991304 -0.34879878 0.12302238 -0.17791995 -0.11906978 0.38496873 0.043683514 0.2418363 -0.09076467 -0.17712079 0.59563845 0.27979994 -0.18298905 0.26172453 0.045466516 -0.061663765 0.18921505 -0.49157807 -0.056109034 0.11156733 0.037744977 0.054749884 0.22867315 -0.30465952 -0.23039347 -0.14796074 0.1978099 -0.45714766 -0.45331523 0.28797394 -0.16251872 -0.34184834 0.024538815 -0.4446561 -0.077740535 0.33576167 -0.21244533 -0.13956763 0.053867884 -0.23181938 0.07911189 0.26846886 0.4207609 -0.039360207 0.024773559 -0.1577196 -0.28330392 -0.20176809 0.006568704 -0.2934455 0.21242368 -0.53532916 0.3434734 0.40760696 -0.0014423534 -0.13468231 -0.20690395 0.19727087 -0.21072188 0.03501189 -0.16372475 -0.21106745 -0.37498906 0.13524377 -0.17323516 0.65397954 0.03559853 0.08741455 -0.27057537 0.09465006 -0.11844379 0.10847475 0.033930477 0.3338633 0.17999977 -0.17902453 -0.5227448 0.0740943 -0.06692055 0.10037465 0.05307225 0.4593874 0.27882725 -0.23101482 -0.4581898 0.4513508 -0.3275554 0.32179078 0.124493495 0.13102262 -0.59937644 0.42163733 -0.29410633 0.13054127 0.115324564 0.13005938 -0.059543554 0.35335496 0.67045325 0.12695797 -0.052896604 -0.3642225 0.025236143 -0.53711045 -0.20451795 -0.13416019 -0.33450902 0.063854285 -0.16292678 0.6290029 -0.35059434 0.006743933 0.103949085 0.5178944 0.19399825 0.15600705 0.942345 -0.30966017 -0.81486416 0.008710009 -0.04229206 -0.050095085 0.09709972 -0.27325177 0.22799088 0.3801335 -0.25588122 -0.30700856 -0.07751691 -0.32024297 0.208939 -0.28964671 0.040439676 0.11234014 -0.15674657 -0.33957657 -0.18361814 -0.18896136 0.50387585 0.3538876 0.09590049 0.54036593 -0.24115056 -0.090039216 -0.21107678 -0.2976875 -0.016052669 0.08931619 -0.37238902 0.045852017 -0.043787874 0.43762046 0.117538385 -0.27680975 -0.407116 0.17236143 0.03687374 -0.3842153 0.07933943 0.12446819 -0.08409634 0.23553246 -0.21332222 -0.05892028 -0.06332811 -0.6847742 0.1558429 0.10073703 -0.11202118')]"
      ]
     },
     "execution_count": 47,
     "metadata": {},
     "output_type": "execute_result"
    }
   ],
   "source": [
    "light_model_with_emb = nlp.LightPipeline(model, parse_embeddings=True)\n",
    "\n",
    "light_result_with_emb = light_model_with_emb.annotate(text)\n",
    "\n",
    "list(zip(light_result_with_emb['token'], light_result_with_emb['embeddings']))[:3]"
   ]
  },
  {
   "cell_type": "markdown",
   "metadata": {
    "application/vnd.databricks.v1+cell": {
     "cellMetadata": {},
     "inputWidgets": {},
     "nuid": "002cebfc-2f80-436d-909a-c9198063af46",
     "showTitle": false,
     "tableResultSettingsMap": {},
     "title": ""
    }
   },
   "source": [
    "### PipelineTracer and PipelineOutputParser\n",
    "####  Automating Pipeline Tracing and Analysis with `PipelineTracer` to Help Return Structured JSONs from Pretrained Pipelines Via the `PipelineOuputParser` module\n",
    "\n",
    "- `PipelineTracer` is a flexible class that tracks every stage of a pipeline. It provides detailed information about entities, assertions, de-identification, classification and relationships. This class also helps to build parser dictionaries to create a `PipelineOutputParser`. Some of the central functionality includes printing the pipeline schema, creating parser dictionaries, and retrieving possible assertions, relationships, and entities. Provide easy access to parser dictionaries and existing pipeline diagrams. Please see [PipelineTracer and PipelineOutputParser Notebook](https://github.com/JohnSnowLabs/spark-nlp-workshop/blob/master/tutorials/Certification_Trainings/Healthcare/11.4.PipelineTracer_and_PipelineOutputParser.ipynb) for more details"
   ]
  },
  {
   "cell_type": "code",
   "execution_count": 0,
   "metadata": {
    "application/vnd.databricks.v1+cell": {
     "cellMetadata": {
      "byteLimit": 2048000,
      "rowLimit": 10000
     },
     "inputWidgets": {},
     "nuid": "beab1ef2-1b10-402c-9711-99bece6f1924",
     "showTitle": false,
     "tableResultSettingsMap": {},
     "title": ""
    }
   },
   "outputs": [],
   "source": [
    "from sparknlp_jsl.pipeline_tracer import PipelineTracer"
   ]
  },
  {
   "cell_type": "code",
   "execution_count": 0,
   "metadata": {
    "application/vnd.databricks.v1+cell": {
     "cellMetadata": {
      "byteLimit": 2048000,
      "rowLimit": 10000
     },
     "inputWidgets": {},
     "nuid": "b04a95aa-0883-4acb-80df-8ee45d93ef85",
     "showTitle": false,
     "tableResultSettingsMap": {},
     "title": ""
    }
   },
   "outputs": [
    {
     "output_type": "execute_result",
     "data": {
      "text/plain": [
       "{'document_identifier': 'ner_clinical_pipeline',\n",
       " 'document_text': 'document',\n",
       " 'entities': ['ner_chunk'],\n",
       " 'assertions': [],\n",
       " 'resolutions': [],\n",
       " 'relations': [],\n",
       " 'summaries': [],\n",
       " 'deidentifications': [],\n",
       " 'classifications': []}"
      ]
     },
     "execution_count": 50,
     "metadata": {},
     "output_type": "execute_result"
    }
   ],
   "source": [
    "pipeline_tracer = PipelineTracer(model)\n",
    "\n",
    "column_maps = pipeline_tracer.createParserDictionary()\n",
    "column_maps.update({\"document_identifier\": \"ner_clinical_pipeline\"})\n",
    "column_maps"
   ]
  },
  {
   "cell_type": "code",
   "execution_count": 0,
   "metadata": {
    "application/vnd.databricks.v1+cell": {
     "cellMetadata": {
      "byteLimit": 2048000,
      "rowLimit": 10000
     },
     "inputWidgets": {},
     "nuid": "8ccad8e7-4d0d-4e37-b4e7-39b64d8113f5",
     "showTitle": false,
     "tableResultSettingsMap": {},
     "title": ""
    }
   },
   "outputs": [
    {
     "output_type": "execute_result",
     "data": {
      "text/plain": [
       "['TREATMENT', 'PROBLEM', 'TEST']"
      ]
     },
     "execution_count": 51,
     "metadata": {},
     "output_type": "execute_result"
    }
   ],
   "source": [
    "pipeline_tracer.getPossibleEntities()"
   ]
  },
  {
   "cell_type": "code",
   "execution_count": 0,
   "metadata": {
    "application/vnd.databricks.v1+cell": {
     "cellMetadata": {
      "byteLimit": 2048000,
      "rowLimit": 10000
     },
     "inputWidgets": {},
     "nuid": "955c47c1-14e0-473d-8cc3-9ed2308cb2d9",
     "showTitle": false,
     "tableResultSettingsMap": {},
     "title": ""
    }
   },
   "outputs": [
    {
     "output_type": "execute_result",
     "data": {
      "text/plain": [
       "{'document_identifier': 'ner_clinical_pipeline',\n",
       " 'document_id': 0,\n",
       " 'document_text': ['\\nA 28-year-old female with a history of gestational diabetes mellitus diagnosed eight years prior to presentation and subsequent type two diabetes mellitus (T2DM), one prior episode of HTG-induced pancreatitis three years prior to presentation, and associated with an acute hepatitis, presented with a one-week history of polyuria, poor appetite, and vomiting. \\nShe was on metformin, glipizide, and dapagliflozin for T2DM and atorvastatin and gemfibrozil for HTG. She had been on dapagliflozin for six months at the time of presentation. \\nPhysical examination on presentation was significant for dry oral mucosa ; significantly , her abdominal examination was benign with no tenderness, guarding, or rigidity. Pertinent laboratory findings on admission were: serum glucose 111 mg/dl,  creatinine 0.4 mg/dL, triglycerides 508 mg/dL, total cholesterol 122 mg/dL, and venous pH 7.27. \\n'],\n",
       " 'entities': [{'chunk_id': 'f1b8f3b1',\n",
       "   'chunk': 'gestational diabetes mellitus',\n",
       "   'begin': 40,\n",
       "   'end': 68,\n",
       "   'ner_label': 'PROBLEM',\n",
       "   'ner_source': None,\n",
       "   'ner_confidence': '0.91976666'},\n",
       "  {'chunk_id': '918e80fc',\n",
       "   'chunk': 'subsequent type two diabetes mellitus',\n",
       "   'begin': 118,\n",
       "   'end': 154,\n",
       "   'ner_label': 'PROBLEM',\n",
       "   'ner_source': None,\n",
       "   'ner_confidence': '0.75924003'},\n",
       "  {'chunk_id': '752a465f',\n",
       "   'chunk': 'T2DM',\n",
       "   'begin': 157,\n",
       "   'end': 160,\n",
       "   'ner_label': 'PROBLEM',\n",
       "   'ner_source': None,\n",
       "   'ner_confidence': '0.9917'},\n",
       "  {'chunk_id': '99ae6103',\n",
       "   'chunk': 'HTG-induced pancreatitis',\n",
       "   'begin': 185,\n",
       "   'end': 208,\n",
       "   'ner_label': 'PROBLEM',\n",
       "   'ner_source': None,\n",
       "   'ner_confidence': '0.97535'},\n",
       "  {'chunk_id': '3f3c8e08',\n",
       "   'chunk': 'an acute hepatitis',\n",
       "   'begin': 265,\n",
       "   'end': 282,\n",
       "   'ner_label': 'PROBLEM',\n",
       "   'ner_source': None,\n",
       "   'ner_confidence': '0.9440667'},\n",
       "  {'chunk_id': '3492022c',\n",
       "   'chunk': 'polyuria',\n",
       "   'begin': 322,\n",
       "   'end': 329,\n",
       "   'ner_label': 'PROBLEM',\n",
       "   'ner_source': None,\n",
       "   'ner_confidence': '0.9728'},\n",
       "  {'chunk_id': 'dd534072',\n",
       "   'chunk': 'poor appetite',\n",
       "   'begin': 332,\n",
       "   'end': 344,\n",
       "   'ner_label': 'PROBLEM',\n",
       "   'ner_source': None,\n",
       "   'ner_confidence': '0.9934'},\n",
       "  {'chunk_id': 'db222dcf',\n",
       "   'chunk': 'vomiting',\n",
       "   'begin': 351,\n",
       "   'end': 358,\n",
       "   'ner_label': 'PROBLEM',\n",
       "   'ner_source': None,\n",
       "   'ner_confidence': '0.9854'},\n",
       "  {'chunk_id': '9e50dad6',\n",
       "   'chunk': 'metformin',\n",
       "   'begin': 373,\n",
       "   'end': 381,\n",
       "   'ner_label': 'TREATMENT',\n",
       "   'ner_source': None,\n",
       "   'ner_confidence': '0.9998'},\n",
       "  {'chunk_id': '1201b7cc',\n",
       "   'chunk': 'glipizide',\n",
       "   'begin': 384,\n",
       "   'end': 392,\n",
       "   'ner_label': 'TREATMENT',\n",
       "   'ner_source': None,\n",
       "   'ner_confidence': '0.9999'},\n",
       "  {'chunk_id': '8151f421',\n",
       "   'chunk': 'dapagliflozin',\n",
       "   'begin': 399,\n",
       "   'end': 411,\n",
       "   'ner_label': 'TREATMENT',\n",
       "   'ner_source': None,\n",
       "   'ner_confidence': '1.0'},\n",
       "  {'chunk_id': '12152c10',\n",
       "   'chunk': 'T2DM',\n",
       "   'begin': 417,\n",
       "   'end': 420,\n",
       "   'ner_label': 'PROBLEM',\n",
       "   'ner_source': None,\n",
       "   'ner_confidence': '0.9995'},\n",
       "  {'chunk_id': 'a068dabd',\n",
       "   'chunk': 'atorvastatin',\n",
       "   'begin': 426,\n",
       "   'end': 437,\n",
       "   'ner_label': 'TREATMENT',\n",
       "   'ner_source': None,\n",
       "   'ner_confidence': '0.9999'},\n",
       "  {'chunk_id': '6e45ef00',\n",
       "   'chunk': 'gemfibrozil',\n",
       "   'begin': 443,\n",
       "   'end': 453,\n",
       "   'ner_label': 'TREATMENT',\n",
       "   'ner_source': None,\n",
       "   'ner_confidence': '1.0'},\n",
       "  {'chunk_id': 'ae74c66f',\n",
       "   'chunk': 'HTG',\n",
       "   'begin': 459,\n",
       "   'end': 461,\n",
       "   'ner_label': 'PROBLEM',\n",
       "   'ner_source': None,\n",
       "   'ner_confidence': '0.9994'},\n",
       "  {'chunk_id': 'a688bedb',\n",
       "   'chunk': 'dapagliflozin',\n",
       "   'begin': 480,\n",
       "   'end': 492,\n",
       "   'ner_label': 'TREATMENT',\n",
       "   'ner_source': None,\n",
       "   'ner_confidence': '0.9999'},\n",
       "  {'chunk_id': '5dd75c11',\n",
       "   'chunk': 'Physical examination',\n",
       "   'begin': 539,\n",
       "   'end': 558,\n",
       "   'ner_label': 'TEST',\n",
       "   'ner_source': None,\n",
       "   'ner_confidence': '0.9448'},\n",
       "  {'chunk_id': 'e56a8329',\n",
       "   'chunk': 'dry oral mucosa',\n",
       "   'begin': 596,\n",
       "   'end': 610,\n",
       "   'ner_label': 'PROBLEM',\n",
       "   'ner_source': None,\n",
       "   'ner_confidence': '0.7242333'},\n",
       "  {'chunk_id': '754ad412',\n",
       "   'chunk': 'her abdominal examination',\n",
       "   'begin': 630,\n",
       "   'end': 654,\n",
       "   'ner_label': 'TEST',\n",
       "   'ner_source': None,\n",
       "   'ner_confidence': '0.8749666'},\n",
       "  {'chunk_id': '8f1f57cf',\n",
       "   'chunk': 'tenderness',\n",
       "   'begin': 675,\n",
       "   'end': 684,\n",
       "   'ner_label': 'PROBLEM',\n",
       "   'ner_source': None,\n",
       "   'ner_confidence': '0.9996'},\n",
       "  {'chunk_id': '0d385bf2',\n",
       "   'chunk': 'guarding',\n",
       "   'begin': 687,\n",
       "   'end': 694,\n",
       "   'ner_label': 'PROBLEM',\n",
       "   'ner_source': None,\n",
       "   'ner_confidence': '0.9989'},\n",
       "  {'chunk_id': '8c7737cb',\n",
       "   'chunk': 'rigidity',\n",
       "   'begin': 700,\n",
       "   'end': 707,\n",
       "   'ner_label': 'PROBLEM',\n",
       "   'ner_source': None,\n",
       "   'ner_confidence': '0.9986'},\n",
       "  {'chunk_id': 'c883568f',\n",
       "   'chunk': 'serum glucose',\n",
       "   'begin': 759,\n",
       "   'end': 771,\n",
       "   'ner_label': 'TEST',\n",
       "   'ner_source': None,\n",
       "   'ner_confidence': '0.969'},\n",
       "  {'chunk_id': '6e9ce84f',\n",
       "   'chunk': 'creatinine',\n",
       "   'begin': 785,\n",
       "   'end': 794,\n",
       "   'ner_label': 'TEST',\n",
       "   'ner_source': None,\n",
       "   'ner_confidence': '0.9994'},\n",
       "  {'chunk_id': '3fa213d2',\n",
       "   'chunk': 'triglycerides',\n",
       "   'begin': 807,\n",
       "   'end': 819,\n",
       "   'ner_label': 'TEST',\n",
       "   'ner_source': None,\n",
       "   'ner_confidence': '0.9999'},\n",
       "  {'chunk_id': '94d4cdff',\n",
       "   'chunk': 'total cholesterol',\n",
       "   'begin': 832,\n",
       "   'end': 848,\n",
       "   'ner_label': 'TEST',\n",
       "   'ner_source': None,\n",
       "   'ner_confidence': '0.9827'},\n",
       "  {'chunk_id': 'faafd25d',\n",
       "   'chunk': 'venous pH',\n",
       "   'begin': 865,\n",
       "   'end': 873,\n",
       "   'ner_label': 'TEST',\n",
       "   'ner_source': None,\n",
       "   'ner_confidence': '0.97185004'}],\n",
       " 'assertions': [],\n",
       " 'resolutions': [],\n",
       " 'relations': [],\n",
       " 'summaries': [],\n",
       " 'deidentifications': [],\n",
       " 'classifications': []}"
      ]
     },
     "execution_count": 52,
     "metadata": {},
     "output_type": "execute_result"
    }
   ],
   "source": [
    "column_maps = {\n",
    "    'document_identifier': 'ner_clinical_pipeline',\n",
    "    'document_text': 'document',\n",
    "    'entities': ['ner_chunk'],\n",
    "    'assertions': [],\n",
    "    'resolutions': [],\n",
    "    'relations': [],\n",
    "    'summaries': [],\n",
    "    'deidentifications': [],\n",
    "    'classifications': []\n",
    "}\n",
    "\n",
    "pipeline_parser = medical.PipelineOutputParser(column_maps)\n",
    "result = pipeline_parser.run(light_result) #light_result is defined above\n",
    "result['result'][0]"
   ]
  },
  {
   "cell_type": "code",
   "execution_count": 0,
   "metadata": {
    "application/vnd.databricks.v1+cell": {
     "cellMetadata": {
      "byteLimit": 2048000,
      "rowLimit": 10000
     },
     "inputWidgets": {},
     "nuid": "0b81fd33-feb8-4cae-97b2-b71d3cd27249",
     "showTitle": false,
     "tableResultSettingsMap": {},
     "title": ""
    }
   },
   "outputs": [
    {
     "output_type": "execute_result",
     "data": {
      "text/html": [
       "<div>\n",
       "<style scoped>\n",
       "    .dataframe tbody tr th:only-of-type {\n",
       "        vertical-align: middle;\n",
       "    }\n",
       "\n",
       "    .dataframe tbody tr th {\n",
       "        vertical-align: top;\n",
       "    }\n",
       "\n",
       "    .dataframe thead th {\n",
       "        text-align: right;\n",
       "    }\n",
       "</style>\n",
       "<table border=\"1\" class=\"dataframe\">\n",
       "  <thead>\n",
       "    <tr style=\"text-align: right;\">\n",
       "      <th></th>\n",
       "      <th>chunk_id</th>\n",
       "      <th>chunk</th>\n",
       "      <th>begin</th>\n",
       "      <th>end</th>\n",
       "      <th>ner_label</th>\n",
       "      <th>ner_source</th>\n",
       "      <th>ner_confidence</th>\n",
       "    </tr>\n",
       "  </thead>\n",
       "  <tbody>\n",
       "    <tr>\n",
       "      <th>0</th>\n",
       "      <td>f1b8f3b1</td>\n",
       "      <td>gestational diabetes mellitus</td>\n",
       "      <td>40</td>\n",
       "      <td>68</td>\n",
       "      <td>PROBLEM</td>\n",
       "      <td>None</td>\n",
       "      <td>0.91976666</td>\n",
       "    </tr>\n",
       "    <tr>\n",
       "      <th>1</th>\n",
       "      <td>918e80fc</td>\n",
       "      <td>subsequent type two diabetes mellitus</td>\n",
       "      <td>118</td>\n",
       "      <td>154</td>\n",
       "      <td>PROBLEM</td>\n",
       "      <td>None</td>\n",
       "      <td>0.75924003</td>\n",
       "    </tr>\n",
       "    <tr>\n",
       "      <th>2</th>\n",
       "      <td>752a465f</td>\n",
       "      <td>T2DM</td>\n",
       "      <td>157</td>\n",
       "      <td>160</td>\n",
       "      <td>PROBLEM</td>\n",
       "      <td>None</td>\n",
       "      <td>0.9917</td>\n",
       "    </tr>\n",
       "    <tr>\n",
       "      <th>3</th>\n",
       "      <td>99ae6103</td>\n",
       "      <td>HTG-induced pancreatitis</td>\n",
       "      <td>185</td>\n",
       "      <td>208</td>\n",
       "      <td>PROBLEM</td>\n",
       "      <td>None</td>\n",
       "      <td>0.97535</td>\n",
       "    </tr>\n",
       "    <tr>\n",
       "      <th>4</th>\n",
       "      <td>3f3c8e08</td>\n",
       "      <td>an acute hepatitis</td>\n",
       "      <td>265</td>\n",
       "      <td>282</td>\n",
       "      <td>PROBLEM</td>\n",
       "      <td>None</td>\n",
       "      <td>0.9440667</td>\n",
       "    </tr>\n",
       "    <tr>\n",
       "      <th>5</th>\n",
       "      <td>3492022c</td>\n",
       "      <td>polyuria</td>\n",
       "      <td>322</td>\n",
       "      <td>329</td>\n",
       "      <td>PROBLEM</td>\n",
       "      <td>None</td>\n",
       "      <td>0.9728</td>\n",
       "    </tr>\n",
       "    <tr>\n",
       "      <th>6</th>\n",
       "      <td>dd534072</td>\n",
       "      <td>poor appetite</td>\n",
       "      <td>332</td>\n",
       "      <td>344</td>\n",
       "      <td>PROBLEM</td>\n",
       "      <td>None</td>\n",
       "      <td>0.9934</td>\n",
       "    </tr>\n",
       "    <tr>\n",
       "      <th>7</th>\n",
       "      <td>db222dcf</td>\n",
       "      <td>vomiting</td>\n",
       "      <td>351</td>\n",
       "      <td>358</td>\n",
       "      <td>PROBLEM</td>\n",
       "      <td>None</td>\n",
       "      <td>0.9854</td>\n",
       "    </tr>\n",
       "    <tr>\n",
       "      <th>8</th>\n",
       "      <td>9e50dad6</td>\n",
       "      <td>metformin</td>\n",
       "      <td>373</td>\n",
       "      <td>381</td>\n",
       "      <td>TREATMENT</td>\n",
       "      <td>None</td>\n",
       "      <td>0.9998</td>\n",
       "    </tr>\n",
       "    <tr>\n",
       "      <th>9</th>\n",
       "      <td>1201b7cc</td>\n",
       "      <td>glipizide</td>\n",
       "      <td>384</td>\n",
       "      <td>392</td>\n",
       "      <td>TREATMENT</td>\n",
       "      <td>None</td>\n",
       "      <td>0.9999</td>\n",
       "    </tr>\n",
       "    <tr>\n",
       "      <th>10</th>\n",
       "      <td>8151f421</td>\n",
       "      <td>dapagliflozin</td>\n",
       "      <td>399</td>\n",
       "      <td>411</td>\n",
       "      <td>TREATMENT</td>\n",
       "      <td>None</td>\n",
       "      <td>1.0</td>\n",
       "    </tr>\n",
       "    <tr>\n",
       "      <th>11</th>\n",
       "      <td>12152c10</td>\n",
       "      <td>T2DM</td>\n",
       "      <td>417</td>\n",
       "      <td>420</td>\n",
       "      <td>PROBLEM</td>\n",
       "      <td>None</td>\n",
       "      <td>0.9995</td>\n",
       "    </tr>\n",
       "    <tr>\n",
       "      <th>12</th>\n",
       "      <td>a068dabd</td>\n",
       "      <td>atorvastatin</td>\n",
       "      <td>426</td>\n",
       "      <td>437</td>\n",
       "      <td>TREATMENT</td>\n",
       "      <td>None</td>\n",
       "      <td>0.9999</td>\n",
       "    </tr>\n",
       "    <tr>\n",
       "      <th>13</th>\n",
       "      <td>6e45ef00</td>\n",
       "      <td>gemfibrozil</td>\n",
       "      <td>443</td>\n",
       "      <td>453</td>\n",
       "      <td>TREATMENT</td>\n",
       "      <td>None</td>\n",
       "      <td>1.0</td>\n",
       "    </tr>\n",
       "    <tr>\n",
       "      <th>14</th>\n",
       "      <td>ae74c66f</td>\n",
       "      <td>HTG</td>\n",
       "      <td>459</td>\n",
       "      <td>461</td>\n",
       "      <td>PROBLEM</td>\n",
       "      <td>None</td>\n",
       "      <td>0.9994</td>\n",
       "    </tr>\n",
       "    <tr>\n",
       "      <th>15</th>\n",
       "      <td>a688bedb</td>\n",
       "      <td>dapagliflozin</td>\n",
       "      <td>480</td>\n",
       "      <td>492</td>\n",
       "      <td>TREATMENT</td>\n",
       "      <td>None</td>\n",
       "      <td>0.9999</td>\n",
       "    </tr>\n",
       "    <tr>\n",
       "      <th>16</th>\n",
       "      <td>5dd75c11</td>\n",
       "      <td>Physical examination</td>\n",
       "      <td>539</td>\n",
       "      <td>558</td>\n",
       "      <td>TEST</td>\n",
       "      <td>None</td>\n",
       "      <td>0.9448</td>\n",
       "    </tr>\n",
       "    <tr>\n",
       "      <th>17</th>\n",
       "      <td>e56a8329</td>\n",
       "      <td>dry oral mucosa</td>\n",
       "      <td>596</td>\n",
       "      <td>610</td>\n",
       "      <td>PROBLEM</td>\n",
       "      <td>None</td>\n",
       "      <td>0.7242333</td>\n",
       "    </tr>\n",
       "    <tr>\n",
       "      <th>18</th>\n",
       "      <td>754ad412</td>\n",
       "      <td>her abdominal examination</td>\n",
       "      <td>630</td>\n",
       "      <td>654</td>\n",
       "      <td>TEST</td>\n",
       "      <td>None</td>\n",
       "      <td>0.8749666</td>\n",
       "    </tr>\n",
       "    <tr>\n",
       "      <th>19</th>\n",
       "      <td>8f1f57cf</td>\n",
       "      <td>tenderness</td>\n",
       "      <td>675</td>\n",
       "      <td>684</td>\n",
       "      <td>PROBLEM</td>\n",
       "      <td>None</td>\n",
       "      <td>0.9996</td>\n",
       "    </tr>\n",
       "    <tr>\n",
       "      <th>20</th>\n",
       "      <td>0d385bf2</td>\n",
       "      <td>guarding</td>\n",
       "      <td>687</td>\n",
       "      <td>694</td>\n",
       "      <td>PROBLEM</td>\n",
       "      <td>None</td>\n",
       "      <td>0.9989</td>\n",
       "    </tr>\n",
       "    <tr>\n",
       "      <th>21</th>\n",
       "      <td>8c7737cb</td>\n",
       "      <td>rigidity</td>\n",
       "      <td>700</td>\n",
       "      <td>707</td>\n",
       "      <td>PROBLEM</td>\n",
       "      <td>None</td>\n",
       "      <td>0.9986</td>\n",
       "    </tr>\n",
       "    <tr>\n",
       "      <th>22</th>\n",
       "      <td>c883568f</td>\n",
       "      <td>serum glucose</td>\n",
       "      <td>759</td>\n",
       "      <td>771</td>\n",
       "      <td>TEST</td>\n",
       "      <td>None</td>\n",
       "      <td>0.969</td>\n",
       "    </tr>\n",
       "    <tr>\n",
       "      <th>23</th>\n",
       "      <td>6e9ce84f</td>\n",
       "      <td>creatinine</td>\n",
       "      <td>785</td>\n",
       "      <td>794</td>\n",
       "      <td>TEST</td>\n",
       "      <td>None</td>\n",
       "      <td>0.9994</td>\n",
       "    </tr>\n",
       "    <tr>\n",
       "      <th>24</th>\n",
       "      <td>3fa213d2</td>\n",
       "      <td>triglycerides</td>\n",
       "      <td>807</td>\n",
       "      <td>819</td>\n",
       "      <td>TEST</td>\n",
       "      <td>None</td>\n",
       "      <td>0.9999</td>\n",
       "    </tr>\n",
       "    <tr>\n",
       "      <th>25</th>\n",
       "      <td>94d4cdff</td>\n",
       "      <td>total cholesterol</td>\n",
       "      <td>832</td>\n",
       "      <td>848</td>\n",
       "      <td>TEST</td>\n",
       "      <td>None</td>\n",
       "      <td>0.9827</td>\n",
       "    </tr>\n",
       "    <tr>\n",
       "      <th>26</th>\n",
       "      <td>faafd25d</td>\n",
       "      <td>venous pH</td>\n",
       "      <td>865</td>\n",
       "      <td>873</td>\n",
       "      <td>TEST</td>\n",
       "      <td>None</td>\n",
       "      <td>0.97185004</td>\n",
       "    </tr>\n",
       "  </tbody>\n",
       "</table>\n",
       "</div>"
      ],
      "text/plain": [
       "    chunk_id                                  chunk  begin  end  ner_label ner_source ner_confidence\n",
       "0   f1b8f3b1          gestational diabetes mellitus     40   68    PROBLEM       None     0.91976666\n",
       "1   918e80fc  subsequent type two diabetes mellitus    118  154    PROBLEM       None     0.75924003\n",
       "2   752a465f                                   T2DM    157  160    PROBLEM       None         0.9917\n",
       "3   99ae6103               HTG-induced pancreatitis    185  208    PROBLEM       None        0.97535\n",
       "4   3f3c8e08                     an acute hepatitis    265  282    PROBLEM       None      0.9440667\n",
       "5   3492022c                               polyuria    322  329    PROBLEM       None         0.9728\n",
       "6   dd534072                          poor appetite    332  344    PROBLEM       None         0.9934\n",
       "7   db222dcf                               vomiting    351  358    PROBLEM       None         0.9854\n",
       "8   9e50dad6                              metformin    373  381  TREATMENT       None         0.9998\n",
       "9   1201b7cc                              glipizide    384  392  TREATMENT       None         0.9999\n",
       "10  8151f421                          dapagliflozin    399  411  TREATMENT       None            1.0\n",
       "11  12152c10                                   T2DM    417  420    PROBLEM       None         0.9995\n",
       "12  a068dabd                           atorvastatin    426  437  TREATMENT       None         0.9999\n",
       "13  6e45ef00                            gemfibrozil    443  453  TREATMENT       None            1.0\n",
       "14  ae74c66f                                    HTG    459  461    PROBLEM       None         0.9994\n",
       "15  a688bedb                          dapagliflozin    480  492  TREATMENT       None         0.9999\n",
       "16  5dd75c11                   Physical examination    539  558       TEST       None         0.9448\n",
       "17  e56a8329                        dry oral mucosa    596  610    PROBLEM       None      0.7242333\n",
       "18  754ad412              her abdominal examination    630  654       TEST       None      0.8749666\n",
       "19  8f1f57cf                             tenderness    675  684    PROBLEM       None         0.9996\n",
       "20  0d385bf2                               guarding    687  694    PROBLEM       None         0.9989\n",
       "21  8c7737cb                               rigidity    700  707    PROBLEM       None         0.9986\n",
       "22  c883568f                          serum glucose    759  771       TEST       None          0.969\n",
       "23  6e9ce84f                             creatinine    785  794       TEST       None         0.9994\n",
       "24  3fa213d2                          triglycerides    807  819       TEST       None         0.9999\n",
       "25  94d4cdff                      total cholesterol    832  848       TEST       None         0.9827\n",
       "26  faafd25d                              venous pH    865  873       TEST       None     0.97185004"
      ]
     },
     "execution_count": 53,
     "metadata": {},
     "output_type": "execute_result"
    }
   ],
   "source": [
    "ner_clinical_result_df = pd.DataFrame.from_dict(result[\"result\"][0][\"entities\"])\n",
    "ner_clinical_result_df"
   ]
  },
  {
   "cell_type": "markdown",
   "metadata": {
    "application/vnd.databricks.v1+cell": {
     "cellMetadata": {
      "byteLimit": 2048000,
      "rowLimit": 10000
     },
     "inputWidgets": {},
     "nuid": "5d815bd8-aad7-4d88-9cb0-ccf74b4e7387",
     "showTitle": false,
     "tableResultSettingsMap": {},
     "title": ""
    }
   },
   "source": [
    "### NER Visualizer\n",
    "\n",
    "For saving the visualization result as html, provide `save_path` parameter in the display function."
   ]
  },
  {
   "cell_type": "code",
   "execution_count": 0,
   "metadata": {
    "application/vnd.databricks.v1+cell": {
     "cellMetadata": {
      "byteLimit": 2048000,
      "rowLimit": 10000
     },
     "inputWidgets": {},
     "nuid": "b9fd11f8-281b-49fe-a1f9-586395440831",
     "showTitle": false,
     "tableResultSettingsMap": {},
     "title": ""
    }
   },
   "outputs": [
    {
     "output_type": "display_data",
     "data": {
      "text/html": [
       "\n",
       "<style>\n",
       "    @import url('https://fonts.googleapis.com/css2?family=Montserrat:wght@300;400;500;600;700&display=swap');\n",
       "    @import url('https://fonts.googleapis.com/css2?family=Vistol Regular:wght@300;400;500;600;700&display=swap');\n",
       "    \n",
       "    .spark-nlp-display-scroll-entities {\n",
       "        border: 1px solid #E7EDF0;\n",
       "        border-radius: 3px;\n",
       "        text-align: justify;\n",
       "        \n",
       "    }\n",
       "    .spark-nlp-display-scroll-entities span {  \n",
       "        font-size: 14px;\n",
       "        line-height: 24px;\n",
       "        color: #536B76;\n",
       "        font-family: 'Montserrat', sans-serif !important;\n",
       "    }\n",
       "    \n",
       "    .spark-nlp-display-entity-wrapper{\n",
       "    \n",
       "        display: inline-grid;\n",
       "        text-align: center;\n",
       "        border-radius: 4px;\n",
       "        margin: 0 2px 5px 2px;\n",
       "        padding: 1px\n",
       "    }\n",
       "    .spark-nlp-display-entity-name{\n",
       "        font-size: 14px;\n",
       "        line-height: 24px;\n",
       "        font-family: 'Montserrat', sans-serif !important;\n",
       "        \n",
       "        background: #f1f2f3;\n",
       "        border-width: medium;\n",
       "        text-align: center;\n",
       "        \n",
       "        font-weight: 400;\n",
       "        \n",
       "        border-radius: 5px;\n",
       "        padding: 2px 5px;\n",
       "        display: block;\n",
       "        margin: 3px 2px;\n",
       "    \n",
       "    }\n",
       "    .spark-nlp-display-entity-type{\n",
       "        font-size: 14px;\n",
       "        line-height: 24px;\n",
       "        color: #ffffff;\n",
       "        font-family: 'Montserrat', sans-serif !important;\n",
       "        \n",
       "        text-transform: uppercase;\n",
       "        \n",
       "        font-weight: 500;\n",
       "\n",
       "        display: block;\n",
       "        padding: 3px 5px;\n",
       "    }\n",
       "    \n",
       "    .spark-nlp-display-entity-resolution{\n",
       "        font-size: 14px;\n",
       "        line-height: 24px;\n",
       "        color: #ffffff;\n",
       "        font-family: 'Vistol Regular', sans-serif !important;\n",
       "        \n",
       "        text-transform: uppercase;\n",
       "        \n",
       "        font-weight: 500;\n",
       "\n",
       "        display: block;\n",
       "        padding: 3px 5px;\n",
       "    }\n",
       "    \n",
       "    .spark-nlp-display-others{\n",
       "        font-size: 14px;\n",
       "        line-height: 24px;\n",
       "        font-family: 'Montserrat', sans-serif !important;\n",
       "        \n",
       "        font-weight: 400;\n",
       "    }\n",
       "\n",
       "</style>\n",
       " <span class=\"spark-nlp-display-others\" style=\"background-color: white\"><br>A 28-year-old female with a history of </span><span class=\"spark-nlp-display-entity-wrapper\" style=\"background-color: #800080\"><span class=\"spark-nlp-display-entity-name\">gestational diabetes mellitus </span><span class=\"spark-nlp-display-entity-type\">PROBLEM</span></span><span class=\"spark-nlp-display-others\" style=\"background-color: white\"> diagnosed eight years prior to presentation and </span><span class=\"spark-nlp-display-entity-wrapper\" style=\"background-color: #800080\"><span class=\"spark-nlp-display-entity-name\">subsequent type two diabetes mellitus </span><span class=\"spark-nlp-display-entity-type\">PROBLEM</span></span><span class=\"spark-nlp-display-others\" style=\"background-color: white\"> (</span><span class=\"spark-nlp-display-entity-wrapper\" style=\"background-color: #800080\"><span class=\"spark-nlp-display-entity-name\">T2DM </span><span class=\"spark-nlp-display-entity-type\">PROBLEM</span></span><span class=\"spark-nlp-display-others\" style=\"background-color: white\">), one prior episode of </span><span class=\"spark-nlp-display-entity-wrapper\" style=\"background-color: #800080\"><span class=\"spark-nlp-display-entity-name\">HTG-induced pancreatitis </span><span class=\"spark-nlp-display-entity-type\">PROBLEM</span></span><span class=\"spark-nlp-display-others\" style=\"background-color: white\"> three years prior to presentation, and associated with </span><span class=\"spark-nlp-display-entity-wrapper\" style=\"background-color: #800080\"><span class=\"spark-nlp-display-entity-name\">an acute hepatitis </span><span class=\"spark-nlp-display-entity-type\">PROBLEM</span></span><span class=\"spark-nlp-display-others\" style=\"background-color: white\">, presented with a one-week history of </span><span class=\"spark-nlp-display-entity-wrapper\" style=\"background-color: #800080\"><span class=\"spark-nlp-display-entity-name\">polyuria </span><span class=\"spark-nlp-display-entity-type\">PROBLEM</span></span><span class=\"spark-nlp-display-others\" style=\"background-color: white\">, </span><span class=\"spark-nlp-display-entity-wrapper\" style=\"background-color: #800080\"><span class=\"spark-nlp-display-entity-name\">poor appetite </span><span class=\"spark-nlp-display-entity-type\">PROBLEM</span></span><span class=\"spark-nlp-display-others\" style=\"background-color: white\">, and </span><span class=\"spark-nlp-display-entity-wrapper\" style=\"background-color: #800080\"><span class=\"spark-nlp-display-entity-name\">vomiting </span><span class=\"spark-nlp-display-entity-type\">PROBLEM</span></span><span class=\"spark-nlp-display-others\" style=\"background-color: white\">. <br>She was on </span><span class=\"spark-nlp-display-entity-wrapper\" style=\"background-color: #8b6673\"><span class=\"spark-nlp-display-entity-name\">metformin </span><span class=\"spark-nlp-display-entity-type\">TREATMENT</span></span><span class=\"spark-nlp-display-others\" style=\"background-color: white\">, </span><span class=\"spark-nlp-display-entity-wrapper\" style=\"background-color: #8b6673\"><span class=\"spark-nlp-display-entity-name\">glipizide </span><span class=\"spark-nlp-display-entity-type\">TREATMENT</span></span><span class=\"spark-nlp-display-others\" style=\"background-color: white\">, and </span><span class=\"spark-nlp-display-entity-wrapper\" style=\"background-color: #8b6673\"><span class=\"spark-nlp-display-entity-name\">dapagliflozin </span><span class=\"spark-nlp-display-entity-type\">TREATMENT</span></span><span class=\"spark-nlp-display-others\" style=\"background-color: white\"> for </span><span class=\"spark-nlp-display-entity-wrapper\" style=\"background-color: #800080\"><span class=\"spark-nlp-display-entity-name\">T2DM </span><span class=\"spark-nlp-display-entity-type\">PROBLEM</span></span><span class=\"spark-nlp-display-others\" style=\"background-color: white\"> and </span><span class=\"spark-nlp-display-entity-wrapper\" style=\"background-color: #8b6673\"><span class=\"spark-nlp-display-entity-name\">atorvastatin </span><span class=\"spark-nlp-display-entity-type\">TREATMENT</span></span><span class=\"spark-nlp-display-others\" style=\"background-color: white\"> and </span><span class=\"spark-nlp-display-entity-wrapper\" style=\"background-color: #8b6673\"><span class=\"spark-nlp-display-entity-name\">gemfibrozil </span><span class=\"spark-nlp-display-entity-type\">TREATMENT</span></span><span class=\"spark-nlp-display-others\" style=\"background-color: white\"> for </span><span class=\"spark-nlp-display-entity-wrapper\" style=\"background-color: #800080\"><span class=\"spark-nlp-display-entity-name\">HTG </span><span class=\"spark-nlp-display-entity-type\">PROBLEM</span></span><span class=\"spark-nlp-display-others\" style=\"background-color: white\">. She had been on </span><span class=\"spark-nlp-display-entity-wrapper\" style=\"background-color: #8b6673\"><span class=\"spark-nlp-display-entity-name\">dapagliflozin </span><span class=\"spark-nlp-display-entity-type\">TREATMENT</span></span><span class=\"spark-nlp-display-others\" style=\"background-color: white\"> for six months at the time of presentation. <br></span><span class=\"spark-nlp-display-entity-wrapper\" style=\"background-color: #77b5fe\"><span class=\"spark-nlp-display-entity-name\">Physical examination </span><span class=\"spark-nlp-display-entity-type\">TEST</span></span><span class=\"spark-nlp-display-others\" style=\"background-color: white\"> on presentation was significant for </span><span class=\"spark-nlp-display-entity-wrapper\" style=\"background-color: #800080\"><span class=\"spark-nlp-display-entity-name\">dry oral mucosa </span><span class=\"spark-nlp-display-entity-type\">PROBLEM</span></span><span class=\"spark-nlp-display-others\" style=\"background-color: white\"> ; significantly , </span><span class=\"spark-nlp-display-entity-wrapper\" style=\"background-color: #77b5fe\"><span class=\"spark-nlp-display-entity-name\">her abdominal examination </span><span class=\"spark-nlp-display-entity-type\">TEST</span></span><span class=\"spark-nlp-display-others\" style=\"background-color: white\"> was benign with no </span><span class=\"spark-nlp-display-entity-wrapper\" style=\"background-color: #800080\"><span class=\"spark-nlp-display-entity-name\">tenderness </span><span class=\"spark-nlp-display-entity-type\">PROBLEM</span></span><span class=\"spark-nlp-display-others\" style=\"background-color: white\">, </span><span class=\"spark-nlp-display-entity-wrapper\" style=\"background-color: #800080\"><span class=\"spark-nlp-display-entity-name\">guarding </span><span class=\"spark-nlp-display-entity-type\">PROBLEM</span></span><span class=\"spark-nlp-display-others\" style=\"background-color: white\">, or </span><span class=\"spark-nlp-display-entity-wrapper\" style=\"background-color: #800080\"><span class=\"spark-nlp-display-entity-name\">rigidity </span><span class=\"spark-nlp-display-entity-type\">PROBLEM</span></span><span class=\"spark-nlp-display-others\" style=\"background-color: white\">. Pertinent laboratory findings on admission were: </span><span class=\"spark-nlp-display-entity-wrapper\" style=\"background-color: #77b5fe\"><span class=\"spark-nlp-display-entity-name\">serum glucose </span><span class=\"spark-nlp-display-entity-type\">TEST</span></span><span class=\"spark-nlp-display-others\" style=\"background-color: white\"> 111 mg/dl,  </span><span class=\"spark-nlp-display-entity-wrapper\" style=\"background-color: #77b5fe\"><span class=\"spark-nlp-display-entity-name\">creatinine </span><span class=\"spark-nlp-display-entity-type\">TEST</span></span><span class=\"spark-nlp-display-others\" style=\"background-color: white\"> 0.4 mg/dL, </span><span class=\"spark-nlp-display-entity-wrapper\" style=\"background-color: #77b5fe\"><span class=\"spark-nlp-display-entity-name\">triglycerides </span><span class=\"spark-nlp-display-entity-type\">TEST</span></span><span class=\"spark-nlp-display-others\" style=\"background-color: white\"> 508 mg/dL, </span><span class=\"spark-nlp-display-entity-wrapper\" style=\"background-color: #77b5fe\"><span class=\"spark-nlp-display-entity-name\">total cholesterol </span><span class=\"spark-nlp-display-entity-type\">TEST</span></span><span class=\"spark-nlp-display-others\" style=\"background-color: white\"> 122 mg/dL, and </span><span class=\"spark-nlp-display-entity-wrapper\" style=\"background-color: #77b5fe\"><span class=\"spark-nlp-display-entity-name\">venous pH </span><span class=\"spark-nlp-display-entity-type\">TEST</span></span><span class=\"spark-nlp-display-others\" style=\"background-color: white\"> 7.27. <br></span></div>"
      ]
     },
     "metadata": {},
     "output_type": "display_data"
    }
   ],
   "source": [
    "visualiser = nlp.viz.NerVisualizer()\n",
    "\n",
    "ner_vis = visualiser.display(light_result[0], label_col='ner_chunk', document_col='document', return_html=True)\n",
    "\n",
    "# Change color of an entity label\n",
    "\n",
    "#visualiser.set_label_colors({'PROBLEM':'#008080', 'TEST':'#800080', 'TREATMENT':'#808080'})\n",
    "#visualiser.display(light_result[0], label_col='ner_chunk')\n",
    "\n",
    "# Set label filter\n",
    "\n",
    "# visualiser.display(light_result, label_col='ner_chunk', document_col='document',\n",
    "                   #labels=['PROBLEM','TEST'])\n",
    "  \n",
    "displayHTML(ner_vis)"
   ]
  },
  {
   "cell_type": "markdown",
   "metadata": {
    "application/vnd.databricks.v1+cell": {
     "cellMetadata": {
      "byteLimit": 2048000,
      "rowLimit": 10000
     },
     "inputWidgets": {},
     "nuid": "577a502b-1c69-48b3-b9e4-fbd425afba36",
     "showTitle": false,
     "tableResultSettingsMap": {},
     "title": ""
    }
   },
   "source": [
    "### ModelTracer"
   ]
  },
  {
   "cell_type": "markdown",
   "metadata": {
    "application/vnd.databricks.v1+cell": {
     "cellMetadata": {
      "byteLimit": 2048000,
      "rowLimit": 10000
     },
     "inputWidgets": {},
     "nuid": "f6b5b855-9012-49de-aa6f-6f7f9196092c",
     "showTitle": false,
     "tableResultSettingsMap": {},
     "title": ""
    }
   },
   "source": [
    "`ModelTracer` allows to track the uids and timestamps of each stage of the pipeline.\n",
    "\n",
    "Let's apply it over an empty data with our existing pipeline."
   ]
  },
  {
   "cell_type": "code",
   "execution_count": 0,
   "metadata": {
    "application/vnd.databricks.v1+cell": {
     "cellMetadata": {
      "byteLimit": 2048000,
      "rowLimit": 10000
     },
     "inputWidgets": {},
     "nuid": "0575df39-34b4-4bf9-b542-20e19c1fb63a",
     "showTitle": false,
     "tableResultSettingsMap": {},
     "title": ""
    }
   },
   "outputs": [
    {
     "output_type": "stream",
     "name": "stdout",
     "output_type": "stream",
     "text": [
      "+----+------------------------------------------+--------+-----+----------+---+---------+----------------------------------------------------------------------+----------------------------------------------------------------------------+--------------------------------------------------------------+--------------------------------------------------------------------------+--------------------------------------------------------------------+-----------------------------------------------------------------+\n|text|document                                  |sentence|token|embeddings|ner|ner_chunk|documentassembler_model_uid                                           |sentencedetectordlmodel_model_uid                                           |tokenizer_model_uid                                           |word_embeddings_model_model_uid                                           |medicalnermodel_model_uid                                           |nerconverter_model_uid                                           |\n+----+------------------------------------------+--------+-----+----------+---+---------+----------------------------------------------------------------------+----------------------------------------------------------------------------+--------------------------------------------------------------+--------------------------------------------------------------------------+--------------------------------------------------------------------+-----------------------------------------------------------------+\n|    |[{document, 0, -1, , {sentence -> 0}, []}]|[]      |[]   |[]        |[] |[]       |{uid -> DocumentAssembler_06c802d5159f, timestamp -> 2024-12-18_10:54}|{uid -> SentenceDetectorDLModel_6bafc4746ea5, timestamp -> 2024-12-18_10:54}|{uid -> Tokenizer_ca21da88acfa, timestamp -> 2024-12-18_10:54}|{uid -> WORD_EMBEDDINGS_MODEL_9004b1d00302, timestamp -> 2024-12-18_10:54}|{uid -> MedicalNerModel_1a8637089929, timestamp -> 2024-12-18_10:54}|{uid -> NerConverter_60fd4263c8e2, timestamp -> 2024-12-18_10:54}|\n+----+------------------------------------------+--------+-----+----------+---+---------+----------------------------------------------------------------------+----------------------------------------------------------------------------+--------------------------------------------------------------+--------------------------------------------------------------------------+--------------------------------------------------------------------+-----------------------------------------------------------------+\n\n"
     ]
    }
   ],
   "source": [
    "data = spark.createDataFrame([['']]).toDF(\"text\")\n",
    "\n",
    "df = nlpPipeline.fit(data).transform(data)\n",
    "\n",
    "tracer_result = medical.ModelTracer().addUidCols(pipeline = nlpPipeline, df = df)\n",
    "\n",
    "tracer_result.show(truncate=False)"
   ]
  },
  {
   "cell_type": "markdown",
   "metadata": {
    "application/vnd.databricks.v1+cell": {
     "cellMetadata": {
      "byteLimit": 2048000,
      "rowLimit": 10000
     },
     "inputWidgets": {},
     "nuid": "89748ed3-3e5d-4098-9597-61ead91cefda",
     "showTitle": false,
     "tableResultSettingsMap": {},
     "title": ""
    }
   },
   "source": [
    "## NER JSL Model\n",
    "\n",
    "Let's show an example of `ner_jsl` model that has about 80 labels by changing just only the model name."
   ]
  },
  {
   "cell_type": "markdown",
   "metadata": {
    "application/vnd.databricks.v1+cell": {
     "cellMetadata": {
      "byteLimit": 2048000,
      "rowLimit": 10000
     },
     "inputWidgets": {},
     "nuid": "a2a74fc8-d9d9-4d22-85a5-3e6a71cec724",
     "showTitle": false,
     "tableResultSettingsMap": {},
     "title": ""
    }
   },
   "source": [
    "**Entities**\n",
    "\n",
    "| | | | | |\n",
    "|-|-|-|-|-|\n",
    "|Injury_or_Poisoning|Direction|Test|Admission_Discharge|Death_Entity|\n",
    "|Relationship_Status|Duration|Respiration|Hyperlipidemia|Birth_Entity|\n",
    "|Age|Labour_Delivery|Family_History_Header|BMI|Temperature|\n",
    "|Alcohol|Kidney_Disease|Oncological|Medical_History_Header|Cerebrovascular_Disease|\n",
    "|Oxygen_Therapy|O2_Saturation|Psychological_Condition|Heart_Disease|Employment|\n",
    "|Obesity|Disease_Syndrome_Disorder|Pregnancy|ImagingFindings|Procedure|\n",
    "|Medical_Device|Race_Ethnicity|Section_Header|Symptom|Treatment|\n",
    "|Substance|Route|Drug_Ingredient|Blood_Pressure|Diet|\n",
    "|External_body_part_or_region|LDL|VS_Finding|Allergen|EKG_Findings|\n",
    "|Imaging_Technique|Triglycerides|RelativeTime|Gender|Pulse|\n",
    "|Social_History_Header|Substance_Quantity|Diabetes|Modifier|Internal_organ_or_component|\n",
    "|Clinical_Dept|Form|Drug_BrandName|Strength|Fetus_NewBorn|\n",
    "|RelativeDate|Height|Test_Result|Sexually_Active_or_Sexual_Orientation|Frequency|\n",
    "|Time|Weight|Vaccine|Vital_Signs_Header|Communicable_Disease|\n",
    "|Dosage|Overweight|Hypertension|HDL|Total_Cholesterol|\n",
    "|Smoking|Date||||"
   ]
  },
  {
   "cell_type": "code",
   "execution_count": 0,
   "metadata": {
    "application/vnd.databricks.v1+cell": {
     "cellMetadata": {
      "byteLimit": 2048000,
      "rowLimit": 10000
     },
     "inputWidgets": {},
     "nuid": "3675ab77-3a9a-4077-a464-bc30ff1c908b",
     "showTitle": false,
     "tableResultSettingsMap": {},
     "title": ""
    }
   },
   "outputs": [
    {
     "output_type": "stream",
     "name": "stdout",
     "output_type": "stream",
     "text": [
      "sentence_detector_dl_healthcare download started this may take some time.\nApproximate size to download 367.3 KB\n\r[ | ]\r[OK!]\nembeddings_clinical download started this may take some time.\nApproximate size to download 1.6 GB\n\r[ | ]\r[OK!]\nner_jsl download started this may take some time.\n\r[ | ]\r[ / ]\r[OK!]\n"
     ]
    }
   ],
   "source": [
    "documentAssembler = nlp.DocumentAssembler()\\\n",
    "    .setInputCol(\"text\")\\\n",
    "    .setOutputCol(\"document\")\n",
    "\n",
    "sentenceDetector = nlp.SentenceDetectorDLModel.pretrained(\"sentence_detector_dl_healthcare\",\"en\",\"clinical/models\") \\\n",
    "    .setInputCols([\"document\"]) \\\n",
    "    .setOutputCol(\"sentence\") \n",
    "\n",
    "tokenizer = nlp.Tokenizer()\\\n",
    "    .setInputCols([\"sentence\"])\\\n",
    "    .setOutputCol(\"token\")\n",
    "\n",
    "word_embeddings = nlp.WordEmbeddingsModel.pretrained(\"embeddings_clinical\", \"en\", \"clinical/models\")\\\n",
    "    .setInputCols([\"sentence\", \"token\"])\\\n",
    "    .setOutputCol(\"embeddings\")\n",
    "\n",
    "jsl_ner = medical.NerModel.pretrained(\"ner_jsl\", \"en\", \"clinical/models\") \\\n",
    "    .setInputCols([\"sentence\", \"token\", \"embeddings\"]) \\\n",
    "    .setOutputCol(\"jsl_ner\")\n",
    "    \n",
    "jsl_ner_converter = nlp.NerConverter() \\\n",
    "    .setInputCols([\"sentence\", \"token\", \"jsl_ner\"]) \\\n",
    "    .setOutputCol(\"jsl_ner_chunk\")\n",
    "\n",
    "jsl_ner_pipeline = nlp.Pipeline(stages=[\n",
    "    documentAssembler, \n",
    "    sentenceDetector,\n",
    "    tokenizer,\n",
    "    word_embeddings,\n",
    "    jsl_ner,\n",
    "    jsl_ner_converter])\n",
    "\n",
    "empty_data = spark.createDataFrame([[\"\"]]).toDF(\"text\")\n",
    "\n",
    "jsl_ner_model = jsl_ner_pipeline.fit(empty_data)\n"
   ]
  },
  {
   "cell_type": "code",
   "execution_count": 0,
   "metadata": {
    "application/vnd.databricks.v1+cell": {
     "cellMetadata": {
      "byteLimit": 2048000,
      "rowLimit": 10000
     },
     "inputWidgets": {},
     "nuid": "22bf3135-f94e-46ba-be8c-2cb64de886ec",
     "showTitle": false,
     "tableResultSettingsMap": {},
     "title": ""
    }
   },
   "outputs": [],
   "source": [
    "jsl_light_model = nlp.LightPipeline(jsl_ner_model)\n",
    "\n",
    "jsl_light_result = jsl_light_model.fullAnnotate(text)"
   ]
  },
  {
   "cell_type": "code",
   "execution_count": 0,
   "metadata": {
    "application/vnd.databricks.v1+cell": {
     "cellMetadata": {
      "byteLimit": 2048000,
      "rowLimit": 10000
     },
     "inputWidgets": {},
     "nuid": "acc92a0e-55a6-4496-88f5-af999f9fa40c",
     "showTitle": false,
     "tableResultSettingsMap": {},
     "title": ""
    }
   },
   "outputs": [
    {
     "output_type": "execute_result",
     "data": {
      "text/plain": [
       "{'document_identifier': 'ner_jsl_pipeline',\n",
       " 'document_text': 'document',\n",
       " 'entities': ['jsl_ner_chunk'],\n",
       " 'assertions': [],\n",
       " 'resolutions': [],\n",
       " 'relations': [],\n",
       " 'summaries': [],\n",
       " 'deidentifications': [],\n",
       " 'classifications': []}"
      ]
     },
     "execution_count": 59,
     "metadata": {},
     "output_type": "execute_result"
    }
   ],
   "source": [
    "pipeline_tracer = PipelineTracer(jsl_ner_model)\n",
    "\n",
    "column_maps = pipeline_tracer.createParserDictionary()\n",
    "column_maps.update({\"document_identifier\": \"ner_jsl_pipeline\"})\n",
    "column_maps"
   ]
  },
  {
   "cell_type": "code",
   "execution_count": 0,
   "metadata": {
    "application/vnd.databricks.v1+cell": {
     "cellMetadata": {
      "byteLimit": 2048000,
      "rowLimit": 10000
     },
     "inputWidgets": {},
     "nuid": "871bc368-fe74-4fed-a671-b4f37d1a5790",
     "showTitle": false,
     "tableResultSettingsMap": {},
     "title": ""
    }
   },
   "outputs": [],
   "source": [
    "pipeline_parser = medical.PipelineOutputParser(column_maps)\n",
    "result = pipeline_parser.run(jsl_light_result)\n",
    "\n",
    "#result['result'][0]"
   ]
  },
  {
   "cell_type": "code",
   "execution_count": 0,
   "metadata": {
    "application/vnd.databricks.v1+cell": {
     "cellMetadata": {
      "byteLimit": 2048000,
      "rowLimit": 10000
     },
     "inputWidgets": {},
     "nuid": "afa6a580-3741-4bb9-a67d-8e6c472f2082",
     "showTitle": false,
     "tableResultSettingsMap": {},
     "title": ""
    }
   },
   "outputs": [
    {
     "output_type": "execute_result",
     "data": {
      "text/html": [
       "<div>\n",
       "<style scoped>\n",
       "    .dataframe tbody tr th:only-of-type {\n",
       "        vertical-align: middle;\n",
       "    }\n",
       "\n",
       "    .dataframe tbody tr th {\n",
       "        vertical-align: top;\n",
       "    }\n",
       "\n",
       "    .dataframe thead th {\n",
       "        text-align: right;\n",
       "    }\n",
       "</style>\n",
       "<table border=\"1\" class=\"dataframe\">\n",
       "  <thead>\n",
       "    <tr style=\"text-align: right;\">\n",
       "      <th></th>\n",
       "      <th>chunk_id</th>\n",
       "      <th>chunk</th>\n",
       "      <th>begin</th>\n",
       "      <th>end</th>\n",
       "      <th>ner_label</th>\n",
       "      <th>ner_source</th>\n",
       "      <th>ner_confidence</th>\n",
       "    </tr>\n",
       "  </thead>\n",
       "  <tbody>\n",
       "    <tr>\n",
       "      <th>0</th>\n",
       "      <td>764f4447</td>\n",
       "      <td>28-year-old</td>\n",
       "      <td>3</td>\n",
       "      <td>13</td>\n",
       "      <td>Age</td>\n",
       "      <td>None</td>\n",
       "      <td>0.9991</td>\n",
       "    </tr>\n",
       "    <tr>\n",
       "      <th>1</th>\n",
       "      <td>09bc2db6</td>\n",
       "      <td>female</td>\n",
       "      <td>15</td>\n",
       "      <td>20</td>\n",
       "      <td>Gender</td>\n",
       "      <td>None</td>\n",
       "      <td>0.9999</td>\n",
       "    </tr>\n",
       "    <tr>\n",
       "      <th>2</th>\n",
       "      <td>709f53be</td>\n",
       "      <td>gestational diabetes mellitus</td>\n",
       "      <td>40</td>\n",
       "      <td>68</td>\n",
       "      <td>Diabetes</td>\n",
       "      <td>None</td>\n",
       "      <td>0.9663334</td>\n",
       "    </tr>\n",
       "    <tr>\n",
       "      <th>3</th>\n",
       "      <td>cb0d3285</td>\n",
       "      <td>eight years prior</td>\n",
       "      <td>80</td>\n",
       "      <td>96</td>\n",
       "      <td>RelativeDate</td>\n",
       "      <td>None</td>\n",
       "      <td>0.6821</td>\n",
       "    </tr>\n",
       "    <tr>\n",
       "      <th>4</th>\n",
       "      <td>53ba4af9</td>\n",
       "      <td>type two diabetes mellitus</td>\n",
       "      <td>129</td>\n",
       "      <td>154</td>\n",
       "      <td>Diabetes</td>\n",
       "      <td>None</td>\n",
       "      <td>0.94152504</td>\n",
       "    </tr>\n",
       "    <tr>\n",
       "      <th>5</th>\n",
       "      <td>e178cafc</td>\n",
       "      <td>T2DM</td>\n",
       "      <td>157</td>\n",
       "      <td>160</td>\n",
       "      <td>Diabetes</td>\n",
       "      <td>None</td>\n",
       "      <td>0.9233</td>\n",
       "    </tr>\n",
       "    <tr>\n",
       "      <th>6</th>\n",
       "      <td>7de91057</td>\n",
       "      <td>HTG-induced pancreatitis</td>\n",
       "      <td>185</td>\n",
       "      <td>208</td>\n",
       "      <td>Disease_Syndrome_Disorder</td>\n",
       "      <td>None</td>\n",
       "      <td>0.51625</td>\n",
       "    </tr>\n",
       "    <tr>\n",
       "      <th>7</th>\n",
       "      <td>39bf979a</td>\n",
       "      <td>three years prior</td>\n",
       "      <td>210</td>\n",
       "      <td>226</td>\n",
       "      <td>RelativeDate</td>\n",
       "      <td>None</td>\n",
       "      <td>0.8452</td>\n",
       "    </tr>\n",
       "    <tr>\n",
       "      <th>8</th>\n",
       "      <td>d0c24f5a</td>\n",
       "      <td>acute</td>\n",
       "      <td>268</td>\n",
       "      <td>272</td>\n",
       "      <td>Modifier</td>\n",
       "      <td>None</td>\n",
       "      <td>0.9484</td>\n",
       "    </tr>\n",
       "    <tr>\n",
       "      <th>9</th>\n",
       "      <td>eb611312</td>\n",
       "      <td>hepatitis</td>\n",
       "      <td>274</td>\n",
       "      <td>282</td>\n",
       "      <td>Disease_Syndrome_Disorder</td>\n",
       "      <td>None</td>\n",
       "      <td>0.5994</td>\n",
       "    </tr>\n",
       "    <tr>\n",
       "      <th>10</th>\n",
       "      <td>3f2561c3</td>\n",
       "      <td>one-week</td>\n",
       "      <td>302</td>\n",
       "      <td>309</td>\n",
       "      <td>Duration</td>\n",
       "      <td>None</td>\n",
       "      <td>0.9544</td>\n",
       "    </tr>\n",
       "    <tr>\n",
       "      <th>11</th>\n",
       "      <td>ca6b00ca</td>\n",
       "      <td>polyuria</td>\n",
       "      <td>322</td>\n",
       "      <td>329</td>\n",
       "      <td>Symptom</td>\n",
       "      <td>None</td>\n",
       "      <td>0.986</td>\n",
       "    </tr>\n",
       "    <tr>\n",
       "      <th>12</th>\n",
       "      <td>830a719e</td>\n",
       "      <td>poor appetite</td>\n",
       "      <td>332</td>\n",
       "      <td>344</td>\n",
       "      <td>Symptom</td>\n",
       "      <td>None</td>\n",
       "      <td>0.9307</td>\n",
       "    </tr>\n",
       "    <tr>\n",
       "      <th>13</th>\n",
       "      <td>456336ce</td>\n",
       "      <td>vomiting</td>\n",
       "      <td>351</td>\n",
       "      <td>358</td>\n",
       "      <td>Symptom</td>\n",
       "      <td>None</td>\n",
       "      <td>0.9918</td>\n",
       "    </tr>\n",
       "    <tr>\n",
       "      <th>14</th>\n",
       "      <td>4a6b2174</td>\n",
       "      <td>She</td>\n",
       "      <td>362</td>\n",
       "      <td>364</td>\n",
       "      <td>Gender</td>\n",
       "      <td>None</td>\n",
       "      <td>1.0</td>\n",
       "    </tr>\n",
       "    <tr>\n",
       "      <th>15</th>\n",
       "      <td>2af6a9fd</td>\n",
       "      <td>metformin</td>\n",
       "      <td>373</td>\n",
       "      <td>381</td>\n",
       "      <td>Drug_Ingredient</td>\n",
       "      <td>None</td>\n",
       "      <td>0.9898</td>\n",
       "    </tr>\n",
       "    <tr>\n",
       "      <th>16</th>\n",
       "      <td>8d2d2a7c</td>\n",
       "      <td>glipizide</td>\n",
       "      <td>384</td>\n",
       "      <td>392</td>\n",
       "      <td>Drug_Ingredient</td>\n",
       "      <td>None</td>\n",
       "      <td>0.9993</td>\n",
       "    </tr>\n",
       "    <tr>\n",
       "      <th>17</th>\n",
       "      <td>c62a7f9a</td>\n",
       "      <td>dapagliflozin</td>\n",
       "      <td>399</td>\n",
       "      <td>411</td>\n",
       "      <td>Drug_Ingredient</td>\n",
       "      <td>None</td>\n",
       "      <td>0.9971</td>\n",
       "    </tr>\n",
       "    <tr>\n",
       "      <th>18</th>\n",
       "      <td>08c83887</td>\n",
       "      <td>T2DM</td>\n",
       "      <td>417</td>\n",
       "      <td>420</td>\n",
       "      <td>Diabetes</td>\n",
       "      <td>None</td>\n",
       "      <td>0.8716</td>\n",
       "    </tr>\n",
       "    <tr>\n",
       "      <th>19</th>\n",
       "      <td>a22c3926</td>\n",
       "      <td>atorvastatin</td>\n",
       "      <td>426</td>\n",
       "      <td>437</td>\n",
       "      <td>Drug_Ingredient</td>\n",
       "      <td>None</td>\n",
       "      <td>0.9968</td>\n",
       "    </tr>\n",
       "    <tr>\n",
       "      <th>20</th>\n",
       "      <td>750327e6</td>\n",
       "      <td>gemfibrozil</td>\n",
       "      <td>443</td>\n",
       "      <td>453</td>\n",
       "      <td>Drug_Ingredient</td>\n",
       "      <td>None</td>\n",
       "      <td>0.9933</td>\n",
       "    </tr>\n",
       "    <tr>\n",
       "      <th>21</th>\n",
       "      <td>4c70790d</td>\n",
       "      <td>HTG</td>\n",
       "      <td>459</td>\n",
       "      <td>461</td>\n",
       "      <td>Hyperlipidemia</td>\n",
       "      <td>None</td>\n",
       "      <td>0.938</td>\n",
       "    </tr>\n",
       "    <tr>\n",
       "      <th>22</th>\n",
       "      <td>8920299b</td>\n",
       "      <td>She</td>\n",
       "      <td>464</td>\n",
       "      <td>466</td>\n",
       "      <td>Gender</td>\n",
       "      <td>None</td>\n",
       "      <td>1.0</td>\n",
       "    </tr>\n",
       "    <tr>\n",
       "      <th>23</th>\n",
       "      <td>923d7e60</td>\n",
       "      <td>dapagliflozin</td>\n",
       "      <td>480</td>\n",
       "      <td>492</td>\n",
       "      <td>Drug_Ingredient</td>\n",
       "      <td>None</td>\n",
       "      <td>0.9832</td>\n",
       "    </tr>\n",
       "    <tr>\n",
       "      <th>24</th>\n",
       "      <td>f67f2f29</td>\n",
       "      <td>for six months</td>\n",
       "      <td>494</td>\n",
       "      <td>507</td>\n",
       "      <td>Duration</td>\n",
       "      <td>None</td>\n",
       "      <td>0.9177334</td>\n",
       "    </tr>\n",
       "    <tr>\n",
       "      <th>25</th>\n",
       "      <td>ad85cac2</td>\n",
       "      <td>dry oral mucosa</td>\n",
       "      <td>596</td>\n",
       "      <td>610</td>\n",
       "      <td>Symptom</td>\n",
       "      <td>None</td>\n",
       "      <td>0.34796667</td>\n",
       "    </tr>\n",
       "    <tr>\n",
       "      <th>26</th>\n",
       "      <td>c742f804</td>\n",
       "      <td>her</td>\n",
       "      <td>630</td>\n",
       "      <td>632</td>\n",
       "      <td>Gender</td>\n",
       "      <td>None</td>\n",
       "      <td>0.9962</td>\n",
       "    </tr>\n",
       "    <tr>\n",
       "      <th>27</th>\n",
       "      <td>98f00a15</td>\n",
       "      <td>abdominal</td>\n",
       "      <td>634</td>\n",
       "      <td>642</td>\n",
       "      <td>External_body_part_or_region</td>\n",
       "      <td>None</td>\n",
       "      <td>0.909</td>\n",
       "    </tr>\n",
       "    <tr>\n",
       "      <th>28</th>\n",
       "      <td>cd290746</td>\n",
       "      <td>tenderness</td>\n",
       "      <td>675</td>\n",
       "      <td>684</td>\n",
       "      <td>Symptom</td>\n",
       "      <td>None</td>\n",
       "      <td>0.9879</td>\n",
       "    </tr>\n",
       "    <tr>\n",
       "      <th>29</th>\n",
       "      <td>9ea4dfbc</td>\n",
       "      <td>guarding</td>\n",
       "      <td>687</td>\n",
       "      <td>694</td>\n",
       "      <td>Symptom</td>\n",
       "      <td>None</td>\n",
       "      <td>0.9976</td>\n",
       "    </tr>\n",
       "    <tr>\n",
       "      <th>30</th>\n",
       "      <td>fde39728</td>\n",
       "      <td>rigidity</td>\n",
       "      <td>700</td>\n",
       "      <td>707</td>\n",
       "      <td>Symptom</td>\n",
       "      <td>None</td>\n",
       "      <td>0.9939</td>\n",
       "    </tr>\n",
       "    <tr>\n",
       "      <th>31</th>\n",
       "      <td>5003ef21</td>\n",
       "      <td>admission</td>\n",
       "      <td>743</td>\n",
       "      <td>751</td>\n",
       "      <td>Admission_Discharge</td>\n",
       "      <td>None</td>\n",
       "      <td>0.9964</td>\n",
       "    </tr>\n",
       "    <tr>\n",
       "      <th>32</th>\n",
       "      <td>bd021eec</td>\n",
       "      <td>serum glucose</td>\n",
       "      <td>759</td>\n",
       "      <td>771</td>\n",
       "      <td>Test</td>\n",
       "      <td>None</td>\n",
       "      <td>0.73899996</td>\n",
       "    </tr>\n",
       "    <tr>\n",
       "      <th>33</th>\n",
       "      <td>cafdbf14</td>\n",
       "      <td>111 mg/dl</td>\n",
       "      <td>773</td>\n",
       "      <td>781</td>\n",
       "      <td>Test_Result</td>\n",
       "      <td>None</td>\n",
       "      <td>0.77024996</td>\n",
       "    </tr>\n",
       "    <tr>\n",
       "      <th>34</th>\n",
       "      <td>814b68ec</td>\n",
       "      <td>creatinine</td>\n",
       "      <td>785</td>\n",
       "      <td>794</td>\n",
       "      <td>Test</td>\n",
       "      <td>None</td>\n",
       "      <td>0.999</td>\n",
       "    </tr>\n",
       "    <tr>\n",
       "      <th>35</th>\n",
       "      <td>655ab93a</td>\n",
       "      <td>0.4 mg/dL</td>\n",
       "      <td>796</td>\n",
       "      <td>804</td>\n",
       "      <td>Test_Result</td>\n",
       "      <td>None</td>\n",
       "      <td>0.8358</td>\n",
       "    </tr>\n",
       "    <tr>\n",
       "      <th>36</th>\n",
       "      <td>9dc20c85</td>\n",
       "      <td>triglycerides</td>\n",
       "      <td>807</td>\n",
       "      <td>819</td>\n",
       "      <td>Triglycerides</td>\n",
       "      <td>None</td>\n",
       "      <td>0.9705</td>\n",
       "    </tr>\n",
       "    <tr>\n",
       "      <th>37</th>\n",
       "      <td>f4b2a0ad</td>\n",
       "      <td>508 mg/dL</td>\n",
       "      <td>821</td>\n",
       "      <td>829</td>\n",
       "      <td>Test_Result</td>\n",
       "      <td>None</td>\n",
       "      <td>0.47180003</td>\n",
       "    </tr>\n",
       "    <tr>\n",
       "      <th>38</th>\n",
       "      <td>f0b747bc</td>\n",
       "      <td>total cholesterol 122 mg/dL</td>\n",
       "      <td>832</td>\n",
       "      <td>858</td>\n",
       "      <td>Total_Cholesterol</td>\n",
       "      <td>None</td>\n",
       "      <td>0.516625</td>\n",
       "    </tr>\n",
       "    <tr>\n",
       "      <th>39</th>\n",
       "      <td>5ecaeb9a</td>\n",
       "      <td>venous pH</td>\n",
       "      <td>865</td>\n",
       "      <td>873</td>\n",
       "      <td>Test</td>\n",
       "      <td>None</td>\n",
       "      <td>0.94449997</td>\n",
       "    </tr>\n",
       "    <tr>\n",
       "      <th>40</th>\n",
       "      <td>91faed12</td>\n",
       "      <td>7.27</td>\n",
       "      <td>875</td>\n",
       "      <td>878</td>\n",
       "      <td>Test_Result</td>\n",
       "      <td>None</td>\n",
       "      <td>0.9928</td>\n",
       "    </tr>\n",
       "  </tbody>\n",
       "</table>\n",
       "</div>"
      ],
      "text/plain": [
       "    chunk_id                          chunk  begin  end                     ner_label ner_source ner_confidence\n",
       "0   764f4447                    28-year-old      3   13                           Age       None         0.9991\n",
       "1   09bc2db6                         female     15   20                        Gender       None         0.9999\n",
       "2   709f53be  gestational diabetes mellitus     40   68                      Diabetes       None      0.9663334\n",
       "3   cb0d3285              eight years prior     80   96                  RelativeDate       None         0.6821\n",
       "4   53ba4af9     type two diabetes mellitus    129  154                      Diabetes       None     0.94152504\n",
       "5   e178cafc                           T2DM    157  160                      Diabetes       None         0.9233\n",
       "6   7de91057       HTG-induced pancreatitis    185  208     Disease_Syndrome_Disorder       None        0.51625\n",
       "7   39bf979a              three years prior    210  226                  RelativeDate       None         0.8452\n",
       "8   d0c24f5a                          acute    268  272                      Modifier       None         0.9484\n",
       "9   eb611312                      hepatitis    274  282     Disease_Syndrome_Disorder       None         0.5994\n",
       "10  3f2561c3                       one-week    302  309                      Duration       None         0.9544\n",
       "11  ca6b00ca                       polyuria    322  329                       Symptom       None          0.986\n",
       "12  830a719e                  poor appetite    332  344                       Symptom       None         0.9307\n",
       "13  456336ce                       vomiting    351  358                       Symptom       None         0.9918\n",
       "14  4a6b2174                            She    362  364                        Gender       None            1.0\n",
       "15  2af6a9fd                      metformin    373  381               Drug_Ingredient       None         0.9898\n",
       "16  8d2d2a7c                      glipizide    384  392               Drug_Ingredient       None         0.9993\n",
       "17  c62a7f9a                  dapagliflozin    399  411               Drug_Ingredient       None         0.9971\n",
       "18  08c83887                           T2DM    417  420                      Diabetes       None         0.8716\n",
       "19  a22c3926                   atorvastatin    426  437               Drug_Ingredient       None         0.9968\n",
       "20  750327e6                    gemfibrozil    443  453               Drug_Ingredient       None         0.9933\n",
       "21  4c70790d                            HTG    459  461                Hyperlipidemia       None          0.938\n",
       "22  8920299b                            She    464  466                        Gender       None            1.0\n",
       "23  923d7e60                  dapagliflozin    480  492               Drug_Ingredient       None         0.9832\n",
       "24  f67f2f29                 for six months    494  507                      Duration       None      0.9177334\n",
       "25  ad85cac2                dry oral mucosa    596  610                       Symptom       None     0.34796667\n",
       "26  c742f804                            her    630  632                        Gender       None         0.9962\n",
       "27  98f00a15                      abdominal    634  642  External_body_part_or_region       None          0.909\n",
       "28  cd290746                     tenderness    675  684                       Symptom       None         0.9879\n",
       "29  9ea4dfbc                       guarding    687  694                       Symptom       None         0.9976\n",
       "30  fde39728                       rigidity    700  707                       Symptom       None         0.9939\n",
       "31  5003ef21                      admission    743  751           Admission_Discharge       None         0.9964\n",
       "32  bd021eec                  serum glucose    759  771                          Test       None     0.73899996\n",
       "33  cafdbf14                      111 mg/dl    773  781                   Test_Result       None     0.77024996\n",
       "34  814b68ec                     creatinine    785  794                          Test       None          0.999\n",
       "35  655ab93a                      0.4 mg/dL    796  804                   Test_Result       None         0.8358\n",
       "36  9dc20c85                  triglycerides    807  819                 Triglycerides       None         0.9705\n",
       "37  f4b2a0ad                      508 mg/dL    821  829                   Test_Result       None     0.47180003\n",
       "38  f0b747bc    total cholesterol 122 mg/dL    832  858             Total_Cholesterol       None       0.516625\n",
       "39  5ecaeb9a                      venous pH    865  873                          Test       None     0.94449997\n",
       "40  91faed12                           7.27    875  878                   Test_Result       None         0.9928"
      ]
     },
     "execution_count": 61,
     "metadata": {},
     "output_type": "execute_result"
    }
   ],
   "source": [
    "jsl_df = pd.DataFrame.from_dict(result[\"result\"][0][\"entities\"])\n",
    "jsl_df"
   ]
  },
  {
   "cell_type": "code",
   "execution_count": 0,
   "metadata": {
    "application/vnd.databricks.v1+cell": {
     "cellMetadata": {
      "byteLimit": 2048000,
      "rowLimit": 10000
     },
     "inputWidgets": {},
     "nuid": "adea1241-2f39-446c-ac72-71f3cadb8b70",
     "showTitle": false,
     "tableResultSettingsMap": {},
     "title": ""
    }
   },
   "outputs": [
    {
     "output_type": "display_data",
     "data": {
      "text/html": [
       "\n",
       "<style>\n",
       "    @import url('https://fonts.googleapis.com/css2?family=Montserrat:wght@300;400;500;600;700&display=swap');\n",
       "    @import url('https://fonts.googleapis.com/css2?family=Vistol Regular:wght@300;400;500;600;700&display=swap');\n",
       "    \n",
       "    .spark-nlp-display-scroll-entities {\n",
       "        border: 1px solid #E7EDF0;\n",
       "        border-radius: 3px;\n",
       "        text-align: justify;\n",
       "        \n",
       "    }\n",
       "    .spark-nlp-display-scroll-entities span {  \n",
       "        font-size: 14px;\n",
       "        line-height: 24px;\n",
       "        color: #536B76;\n",
       "        font-family: 'Montserrat', sans-serif !important;\n",
       "    }\n",
       "    \n",
       "    .spark-nlp-display-entity-wrapper{\n",
       "    \n",
       "        display: inline-grid;\n",
       "        text-align: center;\n",
       "        border-radius: 4px;\n",
       "        margin: 0 2px 5px 2px;\n",
       "        padding: 1px\n",
       "    }\n",
       "    .spark-nlp-display-entity-name{\n",
       "        font-size: 14px;\n",
       "        line-height: 24px;\n",
       "        font-family: 'Montserrat', sans-serif !important;\n",
       "        \n",
       "        background: #f1f2f3;\n",
       "        border-width: medium;\n",
       "        text-align: center;\n",
       "        \n",
       "        font-weight: 400;\n",
       "        \n",
       "        border-radius: 5px;\n",
       "        padding: 2px 5px;\n",
       "        display: block;\n",
       "        margin: 3px 2px;\n",
       "    \n",
       "    }\n",
       "    .spark-nlp-display-entity-type{\n",
       "        font-size: 14px;\n",
       "        line-height: 24px;\n",
       "        color: #ffffff;\n",
       "        font-family: 'Montserrat', sans-serif !important;\n",
       "        \n",
       "        text-transform: uppercase;\n",
       "        \n",
       "        font-weight: 500;\n",
       "\n",
       "        display: block;\n",
       "        padding: 3px 5px;\n",
       "    }\n",
       "    \n",
       "    .spark-nlp-display-entity-resolution{\n",
       "        font-size: 14px;\n",
       "        line-height: 24px;\n",
       "        color: #ffffff;\n",
       "        font-family: 'Vistol Regular', sans-serif !important;\n",
       "        \n",
       "        text-transform: uppercase;\n",
       "        \n",
       "        font-weight: 500;\n",
       "\n",
       "        display: block;\n",
       "        padding: 3px 5px;\n",
       "    }\n",
       "    \n",
       "    .spark-nlp-display-others{\n",
       "        font-size: 14px;\n",
       "        line-height: 24px;\n",
       "        font-family: 'Montserrat', sans-serif !important;\n",
       "        \n",
       "        font-weight: 400;\n",
       "    }\n",
       "\n",
       "</style>\n",
       " <span class=\"spark-nlp-display-others\" style=\"background-color: white\"><br>A </span><span class=\"spark-nlp-display-entity-wrapper\" style=\"background-color: #ffe0ac\"><span class=\"spark-nlp-display-entity-name\">28-year-old </span><span class=\"spark-nlp-display-entity-type\">Age</span></span><span class=\"spark-nlp-display-others\" style=\"background-color: white\"> </span><span class=\"spark-nlp-display-entity-wrapper\" style=\"background-color: #ffacb7\"><span class=\"spark-nlp-display-entity-name\">female </span><span class=\"spark-nlp-display-entity-type\">Gender</span></span><span class=\"spark-nlp-display-others\" style=\"background-color: white\"> with a history of </span><span class=\"spark-nlp-display-entity-wrapper\" style=\"background-color: #4C8E10\"><span class=\"spark-nlp-display-entity-name\">gestational diabetes mellitus </span><span class=\"spark-nlp-display-entity-type\">Diabetes</span></span><span class=\"spark-nlp-display-others\" style=\"background-color: white\"> diagnosed </span><span class=\"spark-nlp-display-entity-wrapper\" style=\"background-color: #720D90\"><span class=\"spark-nlp-display-entity-name\">eight years prior </span><span class=\"spark-nlp-display-entity-type\">RelativeDate</span></span><span class=\"spark-nlp-display-others\" style=\"background-color: white\"> to presentation and subsequent </span><span class=\"spark-nlp-display-entity-wrapper\" style=\"background-color: #4C8E10\"><span class=\"spark-nlp-display-entity-name\">type two diabetes mellitus </span><span class=\"spark-nlp-display-entity-type\">Diabetes</span></span><span class=\"spark-nlp-display-others\" style=\"background-color: white\"> (</span><span class=\"spark-nlp-display-entity-wrapper\" style=\"background-color: #4C8E10\"><span class=\"spark-nlp-display-entity-name\">T2DM </span><span class=\"spark-nlp-display-entity-type\">Diabetes</span></span><span class=\"spark-nlp-display-others\" style=\"background-color: white\">), one prior episode of </span><span class=\"spark-nlp-display-entity-wrapper\" style=\"background-color: #B18C45\"><span class=\"spark-nlp-display-entity-name\">HTG-induced pancreatitis </span><span class=\"spark-nlp-display-entity-type\">Disease_Syndrome_Disorder</span></span><span class=\"spark-nlp-display-others\" style=\"background-color: white\"> </span><span class=\"spark-nlp-display-entity-wrapper\" style=\"background-color: #720D90\"><span class=\"spark-nlp-display-entity-name\">three years prior </span><span class=\"spark-nlp-display-entity-type\">RelativeDate</span></span><span class=\"spark-nlp-display-others\" style=\"background-color: white\"> to presentation, and associated with an </span><span class=\"spark-nlp-display-entity-wrapper\" style=\"background-color: #8B475D\"><span class=\"spark-nlp-display-entity-name\">acute </span><span class=\"spark-nlp-display-entity-type\">Modifier</span></span><span class=\"spark-nlp-display-others\" style=\"background-color: white\"> </span><span class=\"spark-nlp-display-entity-wrapper\" style=\"background-color: #B18C45\"><span class=\"spark-nlp-display-entity-name\">hepatitis </span><span class=\"spark-nlp-display-entity-type\">Disease_Syndrome_Disorder</span></span><span class=\"spark-nlp-display-others\" style=\"background-color: white\">, presented with a </span><span class=\"spark-nlp-display-entity-wrapper\" style=\"background-color: #1A7232\"><span class=\"spark-nlp-display-entity-name\">one-week </span><span class=\"spark-nlp-display-entity-type\">Duration</span></span><span class=\"spark-nlp-display-others\" style=\"background-color: white\"> history of </span><span class=\"spark-nlp-display-entity-wrapper\" style=\"background-color: #36A308\"><span class=\"spark-nlp-display-entity-name\">polyuria </span><span class=\"spark-nlp-display-entity-type\">Symptom</span></span><span class=\"spark-nlp-display-others\" style=\"background-color: white\">, </span><span class=\"spark-nlp-display-entity-wrapper\" style=\"background-color: #36A308\"><span class=\"spark-nlp-display-entity-name\">poor appetite </span><span class=\"spark-nlp-display-entity-type\">Symptom</span></span><span class=\"spark-nlp-display-others\" style=\"background-color: white\">, and </span><span class=\"spark-nlp-display-entity-wrapper\" style=\"background-color: #36A308\"><span class=\"spark-nlp-display-entity-name\">vomiting </span><span class=\"spark-nlp-display-entity-type\">Symptom</span></span><span class=\"spark-nlp-display-others\" style=\"background-color: white\">. <br></span><span class=\"spark-nlp-display-entity-wrapper\" style=\"background-color: #ffacb7\"><span class=\"spark-nlp-display-entity-name\">She </span><span class=\"spark-nlp-display-entity-type\">Gender</span></span><span class=\"spark-nlp-display-others\" style=\"background-color: white\"> was on </span><span class=\"spark-nlp-display-entity-wrapper\" style=\"background-color: #8E8A20\"><span class=\"spark-nlp-display-entity-name\">metformin </span><span class=\"spark-nlp-display-entity-type\">Drug_Ingredient</span></span><span class=\"spark-nlp-display-others\" style=\"background-color: white\">, </span><span class=\"spark-nlp-display-entity-wrapper\" style=\"background-color: #8E8A20\"><span class=\"spark-nlp-display-entity-name\">glipizide </span><span class=\"spark-nlp-display-entity-type\">Drug_Ingredient</span></span><span class=\"spark-nlp-display-others\" style=\"background-color: white\">, and </span><span class=\"spark-nlp-display-entity-wrapper\" style=\"background-color: #8E8A20\"><span class=\"spark-nlp-display-entity-name\">dapagliflozin </span><span class=\"spark-nlp-display-entity-type\">Drug_Ingredient</span></span><span class=\"spark-nlp-display-others\" style=\"background-color: white\"> for </span><span class=\"spark-nlp-display-entity-wrapper\" style=\"background-color: #4C8E10\"><span class=\"spark-nlp-display-entity-name\">T2DM </span><span class=\"spark-nlp-display-entity-type\">Diabetes</span></span><span class=\"spark-nlp-display-others\" style=\"background-color: white\"> and </span><span class=\"spark-nlp-display-entity-wrapper\" style=\"background-color: #8E8A20\"><span class=\"spark-nlp-display-entity-name\">atorvastatin </span><span class=\"spark-nlp-display-entity-type\">Drug_Ingredient</span></span><span class=\"spark-nlp-display-others\" style=\"background-color: white\"> and </span><span class=\"spark-nlp-display-entity-wrapper\" style=\"background-color: #8E8A20\"><span class=\"spark-nlp-display-entity-name\">gemfibrozil </span><span class=\"spark-nlp-display-entity-type\">Drug_Ingredient</span></span><span class=\"spark-nlp-display-others\" style=\"background-color: white\"> for </span><span class=\"spark-nlp-display-entity-wrapper\" style=\"background-color: #565CA6\"><span class=\"spark-nlp-display-entity-name\">HTG </span><span class=\"spark-nlp-display-entity-type\">Hyperlipidemia</span></span><span class=\"spark-nlp-display-others\" style=\"background-color: white\">. </span><span class=\"spark-nlp-display-entity-wrapper\" style=\"background-color: #ffacb7\"><span class=\"spark-nlp-display-entity-name\">She </span><span class=\"spark-nlp-display-entity-type\">Gender</span></span><span class=\"spark-nlp-display-others\" style=\"background-color: white\"> had been on </span><span class=\"spark-nlp-display-entity-wrapper\" style=\"background-color: #8E8A20\"><span class=\"spark-nlp-display-entity-name\">dapagliflozin </span><span class=\"spark-nlp-display-entity-type\">Drug_Ingredient</span></span><span class=\"spark-nlp-display-others\" style=\"background-color: white\"> </span><span class=\"spark-nlp-display-entity-wrapper\" style=\"background-color: #1A7232\"><span class=\"spark-nlp-display-entity-name\">for six months </span><span class=\"spark-nlp-display-entity-type\">Duration</span></span><span class=\"spark-nlp-display-others\" style=\"background-color: white\"> at the time of presentation. <br>Physical examination on presentation was significant for </span><span class=\"spark-nlp-display-entity-wrapper\" style=\"background-color: #36A308\"><span class=\"spark-nlp-display-entity-name\">dry oral mucosa </span><span class=\"spark-nlp-display-entity-type\">Symptom</span></span><span class=\"spark-nlp-display-others\" style=\"background-color: white\"> ; significantly , </span><span class=\"spark-nlp-display-entity-wrapper\" style=\"background-color: #ffacb7\"><span class=\"spark-nlp-display-entity-name\">her </span><span class=\"spark-nlp-display-entity-type\">Gender</span></span><span class=\"spark-nlp-display-others\" style=\"background-color: white\"> </span><span class=\"spark-nlp-display-entity-wrapper\" style=\"background-color: #8C1EAB\"><span class=\"spark-nlp-display-entity-name\">abdominal </span><span class=\"spark-nlp-display-entity-type\">External_body_part_or_region</span></span><span class=\"spark-nlp-display-others\" style=\"background-color: white\"> examination was benign with no </span><span class=\"spark-nlp-display-entity-wrapper\" style=\"background-color: #36A308\"><span class=\"spark-nlp-display-entity-name\">tenderness </span><span class=\"spark-nlp-display-entity-type\">Symptom</span></span><span class=\"spark-nlp-display-others\" style=\"background-color: white\">, </span><span class=\"spark-nlp-display-entity-wrapper\" style=\"background-color: #36A308\"><span class=\"spark-nlp-display-entity-name\">guarding </span><span class=\"spark-nlp-display-entity-type\">Symptom</span></span><span class=\"spark-nlp-display-others\" style=\"background-color: white\">, or </span><span class=\"spark-nlp-display-entity-wrapper\" style=\"background-color: #36A308\"><span class=\"spark-nlp-display-entity-name\">rigidity </span><span class=\"spark-nlp-display-entity-type\">Symptom</span></span><span class=\"spark-nlp-display-others\" style=\"background-color: white\">. Pertinent laboratory findings on </span><span class=\"spark-nlp-display-entity-wrapper\" style=\"background-color: #5B6FB5\"><span class=\"spark-nlp-display-entity-name\">admission </span><span class=\"spark-nlp-display-entity-type\">Admission_Discharge</span></span><span class=\"spark-nlp-display-others\" style=\"background-color: white\"> were: </span><span class=\"spark-nlp-display-entity-wrapper\" style=\"background-color: #77b5fe\"><span class=\"spark-nlp-display-entity-name\">serum glucose </span><span class=\"spark-nlp-display-entity-type\">Test</span></span><span class=\"spark-nlp-display-others\" style=\"background-color: white\"> </span><span class=\"spark-nlp-display-entity-wrapper\" style=\"background-color: #964598\"><span class=\"spark-nlp-display-entity-name\">111 mg/dl </span><span class=\"spark-nlp-display-entity-type\">Test_Result</span></span><span class=\"spark-nlp-display-others\" style=\"background-color: white\">,  </span><span class=\"spark-nlp-display-entity-wrapper\" style=\"background-color: #77b5fe\"><span class=\"spark-nlp-display-entity-name\">creatinine </span><span class=\"spark-nlp-display-entity-type\">Test</span></span><span class=\"spark-nlp-display-others\" style=\"background-color: white\"> </span><span class=\"spark-nlp-display-entity-wrapper\" style=\"background-color: #964598\"><span class=\"spark-nlp-display-entity-name\">0.4 mg/dL </span><span class=\"spark-nlp-display-entity-type\">Test_Result</span></span><span class=\"spark-nlp-display-others\" style=\"background-color: white\">, </span><span class=\"spark-nlp-display-entity-wrapper\" style=\"background-color: #A42044\"><span class=\"spark-nlp-display-entity-name\">triglycerides </span><span class=\"spark-nlp-display-entity-type\">Triglycerides</span></span><span class=\"spark-nlp-display-others\" style=\"background-color: white\"> </span><span class=\"spark-nlp-display-entity-wrapper\" style=\"background-color: #964598\"><span class=\"spark-nlp-display-entity-name\">508 mg/dL </span><span class=\"spark-nlp-display-entity-type\">Test_Result</span></span><span class=\"spark-nlp-display-others\" style=\"background-color: white\">, </span><span class=\"spark-nlp-display-entity-wrapper\" style=\"background-color: #C6BE20\"><span class=\"spark-nlp-display-entity-name\">total cholesterol 122 mg/dL </span><span class=\"spark-nlp-display-entity-type\">Total_Cholesterol</span></span><span class=\"spark-nlp-display-others\" style=\"background-color: white\">, and </span><span class=\"spark-nlp-display-entity-wrapper\" style=\"background-color: #77b5fe\"><span class=\"spark-nlp-display-entity-name\">venous pH </span><span class=\"spark-nlp-display-entity-type\">Test</span></span><span class=\"spark-nlp-display-others\" style=\"background-color: white\"> </span><span class=\"spark-nlp-display-entity-wrapper\" style=\"background-color: #964598\"><span class=\"spark-nlp-display-entity-name\">7.27 </span><span class=\"spark-nlp-display-entity-type\">Test_Result</span></span><span class=\"spark-nlp-display-others\" style=\"background-color: white\">. <br></span></div>"
      ]
     },
     "metadata": {},
     "output_type": "display_data"
    }
   ],
   "source": [
    "visualiser = nlp.viz.NerVisualizer()\n",
    "\n",
    "ner_vis = visualiser.display(jsl_light_result[0], label_col='jsl_ner_chunk', document_col='document', return_html=True)\n",
    "\n",
    "displayHTML(ner_vis)"
   ]
  },
  {
   "cell_type": "markdown",
   "metadata": {
    "application/vnd.databricks.v1+cell": {
     "cellMetadata": {
      "byteLimit": 2048000,
      "rowLimit": 10000
     },
     "inputWidgets": {},
     "nuid": "a891f65a-75ae-488e-a155-0062b79ef023",
     "showTitle": false,
     "tableResultSettingsMap": {},
     "title": ""
    }
   },
   "source": [
    "## Posology NER"
   ]
  },
  {
   "cell_type": "markdown",
   "metadata": {
    "application/vnd.databricks.v1+cell": {
     "cellMetadata": {
      "byteLimit": 2048000,
      "rowLimit": 10000
     },
     "inputWidgets": {},
     "nuid": "e144c7c8-34ba-4d43-87eb-110983257f13",
     "showTitle": false,
     "tableResultSettingsMap": {},
     "title": ""
    }
   },
   "source": [
    "**Entities**\n",
    "\n",
    "- DOSAGE\n",
    "- DRUG\n",
    "- DURATION\n",
    "- FORM\n",
    "- FREQUENCY\n",
    "- ROUTE\n",
    "- STRENGTH"
   ]
  },
  {
   "cell_type": "code",
   "execution_count": 0,
   "metadata": {
    "application/vnd.databricks.v1+cell": {
     "cellMetadata": {
      "byteLimit": 2048000,
      "rowLimit": 10000
     },
     "inputWidgets": {},
     "nuid": "6154e55b-fd2d-43b8-811b-7667fbfe1b0b",
     "showTitle": false,
     "tableResultSettingsMap": {},
     "title": ""
    }
   },
   "outputs": [
    {
     "output_type": "stream",
     "name": "stdout",
     "output_type": "stream",
     "text": [
      "ner_posology download started this may take some time.\n\r[ | ]\r[ / ]\r[OK!]\nner_posology_greedy download started this may take some time.\n\r[ | ]\r[ / ]\r[OK!]\n"
     ]
    }
   ],
   "source": [
    "# NER model trained on i2b2 (sampled from MIMIC) dataset\n",
    "posology_ner = medical.NerModel.pretrained(\"ner_posology\", \"en\", \"clinical/models\") \\\n",
    "    .setInputCols([\"sentence\", \"token\", \"embeddings\"]) \\\n",
    "    .setOutputCol(\"ner\")\n",
    "\n",
    "posology_ner_converter = medical.NerConverterInternal()\\\n",
    "    .setInputCols([\"sentence\",\"token\",\"ner\"])\\\n",
    "    .setOutputCol(\"ner_chunk\")\n",
    "\n",
    "# greedy model\n",
    "posology_ner_greedy = medical.NerModel.pretrained(\"ner_posology_greedy\", \"en\", \"clinical/models\") \\\n",
    "    .setInputCols([\"sentence\", \"token\", \"embeddings\"]) \\\n",
    "    .setOutputCol(\"ner_greedy\")\n",
    "\n",
    "ner_converter_greedy = medical.NerConverterInternal()\\\n",
    "    .setInputCols([\"sentence\",\"token\",\"ner_greedy\"])\\\n",
    "    .setOutputCol(\"ner_chunk_greedy\")\n",
    "\n",
    "nlpPipeline = nlp.Pipeline(stages=[\n",
    "    documentAssembler,\n",
    "    sentenceDetector,\n",
    "    tokenizer,\n",
    "    word_embeddings,\n",
    "    posology_ner,\n",
    "    posology_ner_converter,\n",
    "    posology_ner_greedy,\n",
    "    ner_converter_greedy])\n",
    "\n",
    "empty_data = spark.createDataFrame([[\"\"]]).toDF(\"text\")\n",
    "\n",
    "posology_model = nlpPipeline.fit(empty_data)\n"
   ]
  },
  {
   "cell_type": "code",
   "execution_count": 0,
   "metadata": {
    "application/vnd.databricks.v1+cell": {
     "cellMetadata": {
      "byteLimit": 2048000,
      "rowLimit": 10000
     },
     "inputWidgets": {},
     "nuid": "f1dfc92d-7cd8-46f5-beb0-c73b7d8dedb9",
     "showTitle": false,
     "tableResultSettingsMap": {},
     "title": ""
    }
   },
   "outputs": [
    {
     "output_type": "execute_result",
     "data": {
      "text/plain": [
       "['O',\n",
       " 'B-DOSAGE',\n",
       " 'B-STRENGTH',\n",
       " 'I-STRENGTH',\n",
       " 'B-ROUTE',\n",
       " 'B-FREQUENCY',\n",
       " 'I-FREQUENCY',\n",
       " 'B-DRUG',\n",
       " 'I-DRUG',\n",
       " 'B-FORM',\n",
       " 'I-DOSAGE',\n",
       " 'B-DURATION',\n",
       " 'I-DURATION',\n",
       " 'I-FORM',\n",
       " 'I-ROUTE']"
      ]
     },
     "execution_count": 64,
     "metadata": {},
     "output_type": "execute_result"
    }
   ],
   "source": [
    "posology_ner.getClasses()"
   ]
  },
  {
   "cell_type": "code",
   "execution_count": 0,
   "metadata": {
    "application/vnd.databricks.v1+cell": {
     "cellMetadata": {
      "byteLimit": 2048000,
      "rowLimit": 10000
     },
     "inputWidgets": {},
     "nuid": "cef14918-059d-4179-b4c6-1d216cbb0e0a",
     "showTitle": false,
     "tableResultSettingsMap": {},
     "title": ""
    }
   },
   "outputs": [],
   "source": [
    "posology_result = posology_model.transform(mt_samples_df).cache()"
   ]
  },
  {
   "cell_type": "code",
   "execution_count": 0,
   "metadata": {
    "application/vnd.databricks.v1+cell": {
     "cellMetadata": {
      "byteLimit": 2048000,
      "rowLimit": 10000
     },
     "inputWidgets": {},
     "nuid": "c90f7c32-5d67-48ec-9089-c1c7297d73c7",
     "showTitle": false,
     "tableResultSettingsMap": {},
     "title": ""
    }
   },
   "outputs": [
    {
     "output_type": "stream",
     "name": "stdout",
     "output_type": "stream",
     "text": [
      "+-----+--------------------+--------------------+--------------------+--------------------+--------------------+--------------------+--------------------+--------------------+--------------------+\n|index|                text|            document|            sentence|               token|          embeddings|                 ner|           ner_chunk|          ner_greedy|    ner_chunk_greedy|\n+-----+--------------------+--------------------+--------------------+--------------------+--------------------+--------------------+--------------------+--------------------+--------------------+\n|    0|Sample Type / Med...|[{document, 0, 54...|[{document, 0, 53...|[{token, 0, 5, Sa...|[{word_embeddings...|[{named_entity, 0...|[{chunk, 1609, 16...|[{named_entity, 0...|[{chunk, 1609, 16...|\n|    1|Sample Type / Med...|[{document, 0, 32...|[{document, 0, 53...|[{token, 0, 5, Sa...|[{word_embeddings...|[{named_entity, 0...|[{chunk, 742, 750...|[{named_entity, 0...|[{chunk, 742, 753...|\n|    2|Sample Type / Med...|[{document, 0, 42...|[{document, 0, 53...|[{token, 0, 5, Sa...|[{word_embeddings...|[{named_entity, 0...|[{chunk, 230, 240...|[{named_entity, 0...|[{chunk, 369, 385...|\n|    3|Sample Type / Med...|[{document, 0, 20...|[{document, 0, 53...|[{token, 0, 5, Sa...|[{word_embeddings...|[{named_entity, 0...|                  []|[{named_entity, 0...|                  []|\n|    4|Sample Type / Med...|[{document, 0, 34...|[{document, 0, 53...|[{token, 0, 5, Sa...|[{word_embeddings...|[{named_entity, 0...|[{chunk, 1102, 11...|[{named_entity, 0...|[{chunk, 1102, 11...|\n|    5|Sample Type / Med...|[{document, 0, 15...|[{document, 0, 53...|[{token, 0, 5, Sa...|[{word_embeddings...|[{named_entity, 0...|                  []|[{named_entity, 0...|[{chunk, 68, 84, ...|\n|    6|Sample Type / Med...|[{document, 0, 25...|[{document, 0, 53...|[{token, 0, 5, Sa...|[{word_embeddings...|[{named_entity, 0...|[{chunk, 1242, 12...|[{named_entity, 0...|[{chunk, 389, 398...|\n|    7|Sample Type / Med...|[{document, 0, 93...|[{document, 0, 53...|[{token, 0, 5, Sa...|[{word_embeddings...|[{named_entity, 0...|[{chunk, 667, 677...|[{named_entity, 0...|[{chunk, 667, 677...|\n|    8|Sample Type / Med...|[{document, 0, 20...|[{document, 0, 53...|[{token, 0, 5, Sa...|[{word_embeddings...|[{named_entity, 0...|[{chunk, 495, 505...|[{named_entity, 0...|[{chunk, 495, 513...|\n|    9|Sample Type / Med...|[{document, 0, 19...|[{document, 0, 53...|[{token, 0, 5, Sa...|[{word_embeddings...|[{named_entity, 0...|[{chunk, 524, 526...|[{named_entity, 0...|[{chunk, 1234, 12...|\n+-----+--------------------+--------------------+--------------------+--------------------+--------------------+--------------------+--------------------+--------------------+--------------------+\n\n"
     ]
    }
   ],
   "source": [
    "posology_result.show(10)"
   ]
  },
  {
   "cell_type": "code",
   "execution_count": 0,
   "metadata": {
    "application/vnd.databricks.v1+cell": {
     "cellMetadata": {
      "byteLimit": 2048000,
      "rowLimit": 10000
     },
     "inputWidgets": {},
     "nuid": "91684cd2-e80f-42b5-a1ef-b250eb8b204f",
     "showTitle": false,
     "tableResultSettingsMap": {},
     "title": ""
    }
   },
   "outputs": [
    {
     "output_type": "stream",
     "name": "stdout",
     "output_type": "stream",
     "text": [
      "+-----+--------------------+--------------------+--------------------+--------------------+--------------------+--------------------+--------------------+--------------------+--------------------+-----------+\n|index|                text|            document|            sentence|               token|          embeddings|                 ner|           ner_chunk|          ner_greedy|    ner_chunk_greedy|         id|\n+-----+--------------------+--------------------+--------------------+--------------------+--------------------+--------------------+--------------------+--------------------+--------------------+-----------+\n|    0|Sample Type / Med...|[{document, 0, 54...|[{document, 0, 53...|[{token, 0, 5, Sa...|[{word_embeddings...|[{named_entity, 0...|[{chunk, 1609, 16...|[{named_entity, 0...|[{chunk, 1609, 16...|          0|\n|    1|Sample Type / Med...|[{document, 0, 32...|[{document, 0, 53...|[{token, 0, 5, Sa...|[{word_embeddings...|[{named_entity, 0...|[{chunk, 742, 750...|[{named_entity, 0...|[{chunk, 742, 753...| 8589934592|\n|    2|Sample Type / Med...|[{document, 0, 42...|[{document, 0, 53...|[{token, 0, 5, Sa...|[{word_embeddings...|[{named_entity, 0...|[{chunk, 230, 240...|[{named_entity, 0...|[{chunk, 369, 385...|17179869184|\n+-----+--------------------+--------------------+--------------------+--------------------+--------------------+--------------------+--------------------+--------------------+--------------------+-----------+\nonly showing top 3 rows\n\n"
     ]
    }
   ],
   "source": [
    "from pyspark.sql.functions import monotonically_increasing_id\n",
    "\n",
    "# This will return a new DF with all the columns + id\n",
    "posology_result = posology_result.withColumn(\"id\", monotonically_increasing_id())\n",
    "\n",
    "posology_result.show(3)"
   ]
  },
  {
   "cell_type": "code",
   "execution_count": 0,
   "metadata": {
    "application/vnd.databricks.v1+cell": {
     "cellMetadata": {
      "byteLimit": 2048000,
      "rowLimit": 10000
     },
     "inputWidgets": {},
     "nuid": "a2690ad2-c595-4e02-b4b0-7924e37da39d",
     "showTitle": false,
     "tableResultSettingsMap": {},
     "title": ""
    }
   },
   "outputs": [
    {
     "output_type": "stream",
     "name": "stdout",
     "output_type": "stream",
     "text": [
      "+----------------------------------------------------------------------------------------------------+----------------------------------------------------------------------------------------------------+\n|                                                                                              result|                                                                                              result|\n+----------------------------------------------------------------------------------------------------+----------------------------------------------------------------------------------------------------+\n|[Sample, Type, /, Medical, Specialty, :, Hematology, -, Oncology, Sample, Name, :, Discharge, Sum...|[O, O, O, O, O, O, O, O, O, O, O, O, O, O, O, O, O, O, O, O, O, O, O, O, O, O, O, O, O, O, O, O, ...|\n|[Sample, Type, /, Medical, Specialty, :, Hematology, -, Oncology, Sample, Name, :, BCCa, Excision...|[O, O, O, O, O, O, O, O, O, O, O, O, O, O, O, O, O, O, O, O, O, O, O, O, O, O, O, O, O, O, O, O, ...|\n|[Sample, Type, /, Medical, Specialty, :, Hematology, -, Oncology, Sample, Name, :, Anemia, -, Con...|[O, O, O, O, O, O, O, O, O, O, O, O, O, O, O, O, O, O, O, O, O, O, O, O, O, O, O, O, O, O, O, O, ...|\n|[Sample, Type, /, Medical, Specialty, :, Hematology, -, Oncology, Sample, Name, :, Intensity-Modu...|[O, O, O, O, O, O, O, O, O, O, O, O, O, O, O, O, O, O, O, O, O, O, O, O, O, O, O, O, O, O, O, O, ...|\n|[Sample, Type, /, Medical, Specialty, :, Hematology, -, Oncology, Sample, Name, :, Neck, Dissecti...|[O, O, O, O, O, O, O, O, O, O, O, O, O, O, O, O, O, O, O, O, O, O, O, O, O, O, O, O, O, O, O, O, ...|\n|[Sample, Type, /, Medical, Specialty, :, Hematology, -, Oncology, Sample, Name, :, HDR, Brachythe...|[O, O, O, O, O, O, O, O, O, O, O, O, O, O, O, O, O, O, O, O, O, O, O, O, O, O, O, O, O, O, O, O, ...|\n|[Sample, Type, /, Medical, Specialty, :, Hematology, -, Oncology, Sample, Name, :, Biopsy, -, Cer...|[O, O, O, O, O, O, O, O, O, O, O, O, O, O, O, O, O, O, O, O, O, O, O, O, O, O, O, O, O, O, O, O, ...|\n|[Sample, Type, /, Medical, Specialty, :, Hematology, -, Oncology, Sample, Name, :, Metastatic, Ov...|[O, O, O, O, O, O, O, O, O, O, O, O, O, O, O, O, O, O, O, O, O, O, O, O, O, O, O, O, O, O, O, O, ...|\n|[Sample, Type, /, Medical, Specialty, :, Hematology, -, Oncology, Sample, Name, :, Breast, Radiat...|[O, O, O, O, O, O, O, O, O, O, O, O, O, O, O, O, O, O, O, O, O, O, O, O, O, O, O, O, O, O, O, O, ...|\n|[Sample, Type, /, Medical, Specialty, :, Hematology, -, Oncology, Sample, Name, :, Lymph, Node, E...|[O, O, O, O, O, O, O, O, O, O, O, O, O, O, O, O, O, O, O, O, O, O, O, O, O, O, O, O, O, O, O, O, ...|\n+----------------------------------------------------------------------------------------------------+----------------------------------------------------------------------------------------------------+\n\n"
     ]
    }
   ],
   "source": [
    "posology_result.select('token.result','ner.result').show(truncate=100)"
   ]
  },
  {
   "cell_type": "code",
   "execution_count": 0,
   "metadata": {
    "application/vnd.databricks.v1+cell": {
     "cellMetadata": {
      "byteLimit": 2048000,
      "rowLimit": 10000
     },
     "inputWidgets": {},
     "nuid": "47d75f96-6f80-43e2-9535-94d17df63985",
     "showTitle": false,
     "tableResultSettingsMap": {},
     "title": ""
    }
   },
   "outputs": [
    {
     "output_type": "stream",
     "name": "stdout",
     "output_type": "stream",
     "text": [
      "+--------------------------------------------------------------------------------+--------------------------------------------------------------------------------+\n|                                                                          result|                                                                          result|\n+--------------------------------------------------------------------------------+--------------------------------------------------------------------------------+\n|[Sample, Type, /, Medical, Specialty, :, Hematology, -, Oncology, Sample, Nam...|[O, O, O, O, O, O, O, O, O, O, O, O, O, O, O, O, O, O, O, O, O, O, O, O, O, O...|\n|[Sample, Type, /, Medical, Specialty, :, Hematology, -, Oncology, Sample, Nam...|[O, O, O, O, O, O, O, O, O, O, O, O, O, O, O, O, O, O, O, O, O, O, O, O, O, O...|\n|[Sample, Type, /, Medical, Specialty, :, Hematology, -, Oncology, Sample, Nam...|[O, O, O, O, O, O, O, O, O, O, O, O, O, O, O, O, O, O, O, O, O, O, O, O, O, O...|\n|[Sample, Type, /, Medical, Specialty, :, Hematology, -, Oncology, Sample, Nam...|[O, O, O, O, O, O, O, O, O, O, O, O, O, O, O, O, O, O, O, O, O, O, O, O, O, O...|\n|[Sample, Type, /, Medical, Specialty, :, Hematology, -, Oncology, Sample, Nam...|[O, O, O, O, O, O, O, O, O, O, O, O, O, O, O, O, O, O, O, O, O, O, O, O, O, O...|\n+--------------------------------------------------------------------------------+--------------------------------------------------------------------------------+\nonly showing top 5 rows\n\n"
     ]
    }
   ],
   "source": [
    "posology_result.select('token.result','ner.result').show(5, truncate=80)"
   ]
  },
  {
   "cell_type": "code",
   "execution_count": 0,
   "metadata": {
    "application/vnd.databricks.v1+cell": {
     "cellMetadata": {
      "byteLimit": 2048000,
      "rowLimit": 10000
     },
     "inputWidgets": {},
     "nuid": "e3bb8fc1-f9e8-4dfe-ad06-3aa695f970d6",
     "showTitle": false,
     "tableResultSettingsMap": {},
     "title": ""
    }
   },
   "outputs": [
    {
     "output_type": "stream",
     "name": "stdout",
     "output_type": "stream",
     "text": [
      "+--------------+-----------+----------+\n|token         |ner_label  |confidence|\n+--------------+-----------+----------+\n|Coumadin      |B-DRUG     |0.9989    |\n|1             |B-STRENGTH |0.8618    |\n|mg            |I-STRENGTH |0.5132    |\n|daily         |B-FREQUENCY|0.9999    |\n|Amiodarone    |B-DRUG     |0.9993    |\n|100           |B-STRENGTH |0.8538    |\n|mg            |I-STRENGTH |0.5216    |\n|p.o           |B-ROUTE    |0.9992    |\n|daily         |B-FREQUENCY|0.9928    |\n|Coumadin      |B-DRUG     |0.9915    |\n|Lovenox       |B-DRUG     |0.8314    |\n|40            |B-STRENGTH |0.5199    |\n|mg            |I-STRENGTH |0.5121    |\n|subcutaneously|B-ROUTE    |0.9887    |\n|chemotherapy  |B-DRUG     |0.9984    |\n|cisplatin     |B-DRUG     |0.9257    |\n|75            |B-STRENGTH |0.9574    |\n|mg/centimeter |I-STRENGTH |0.5491    |\n|109           |B-STRENGTH |0.5699    |\n|mg            |I-STRENGTH |0.6355    |\n+--------------+-----------+----------+\nonly showing top 20 rows\n\n"
     ]
    }
   ],
   "source": [
    "from pyspark.sql import functions as F\n",
    "\n",
    "zipped_df = posology_result.withColumn(\n",
    "    \"zipped_cols\",\n",
    "    F.arrays_zip(\n",
    "        F.col(\"token.result\").alias(\"token\"),\n",
    "        F.col(\"ner.result\").alias(\"ner_label\"),\n",
    "        F.expr(\"transform(ner.metadata, x -> x['confidence'])\").cast(\"array<float>\").alias(\"confidence\")\n",
    "    )\n",
    ")\n",
    "\n",
    "result_df = zipped_df.select(\n",
    "    F.posexplode(\"zipped_cols\").alias(\"pos\", \"cols\")\n",
    ").select(\n",
    "    F.col(\"cols.token\").alias(\"token\"),\n",
    "    F.col(\"cols.ner_label\").alias(\"ner_label\"),\n",
    "    F.col(\"cols.confidence\").alias(\"confidence\").cast(\"float\")\n",
    ").filter(\"ner_label != 'O'\")\n",
    "\n",
    "result_df.show(20, truncate=False)\n"
   ]
  },
  {
   "cell_type": "code",
   "execution_count": 0,
   "metadata": {
    "application/vnd.databricks.v1+cell": {
     "cellMetadata": {
      "byteLimit": 2048000,
      "rowLimit": 10000
     },
     "inputWidgets": {},
     "nuid": "5c1e3629-9766-480a-8986-afcc3185aa18",
     "showTitle": false,
     "tableResultSettingsMap": {},
     "title": ""
    }
   },
   "outputs": [
    {
     "output_type": "stream",
     "name": "stdout",
     "output_type": "stream",
     "text": [
      "+---+-----------+----------------+-----+----+---------+----------+\n|id |sentence_id|chunk           |begin|end |ner_label|confidence|\n+---+-----------+----------------+-----+----+---------+----------+\n|0  |0          |Coumadin        |1609 |1616|DRUG     |0.9989    |\n|0  |1          |1 mg            |1618 |1621|STRENGTH |0.6875    |\n|0  |2          |daily           |1623 |1627|FREQUENCY|0.9999    |\n|0  |3          |Amiodarone      |1696 |1705|DRUG     |0.9993    |\n|0  |4          |100 mg          |1707 |1712|STRENGTH |0.68770003|\n|0  |5          |p.o             |1714 |1716|ROUTE    |0.9992    |\n|0  |6          |daily           |1719 |1723|FREQUENCY|0.9928    |\n|0  |7          |Coumadin        |2770 |2777|DRUG     |0.9915    |\n|0  |8          |Lovenox         |2880 |2886|DRUG     |0.8314    |\n|0  |9          |40 mg           |2888 |2892|STRENGTH |0.51600003|\n|0  |10         |subcutaneously  |2894 |2907|ROUTE    |0.9887    |\n|0  |11         |chemotherapy    |4436 |4447|DRUG     |0.9984    |\n|0  |12         |cisplatin       |4475 |4483|DRUG     |0.9257    |\n|0  |13         |75 mg/centimeter|4485 |4500|STRENGTH |0.75325   |\n|0  |14         |109 mg          |4519 |4524|STRENGTH |0.6027    |\n|0  |15         |IV              |4526 |4527|ROUTE    |0.9993    |\n|0  |16         |piggyback       |4529 |4537|DRUG     |0.578     |\n|0  |17         |over 2 hours    |4539 |4550|DURATION |0.7061    |\n|0  |18         |September       |4555 |4563|DRUG     |0.9277    |\n|0  |19         |Alimta          |4574 |4579|DRUG     |0.8845    |\n+---+-----------+----------------+-----+----+---------+----------+\nonly showing top 20 rows\n\n"
     ]
    }
   ],
   "source": [
    "posology_result.select(\n",
    "    \"id\",\n",
    "    F.posexplode(F.arrays_zip(\n",
    "        \"ner_chunk.result\", \"ner_chunk.begin\", \"ner_chunk.end\", \"ner_chunk.metadata\"\n",
    "    )).alias(\"sentence_id\", \"cols\")\n",
    ").select(\n",
    "    \"id\", \"sentence_id\",\n",
    "    F.col(\"cols.result\").alias(\"chunk\"),\n",
    "    F.col(\"cols.begin\").alias(\"begin\"),\n",
    "    F.col(\"cols.end\").alias(\"end\"),\n",
    "    F.col(\"cols.metadata\")[\"entity\"].alias(\"ner_label\"),\n",
    "    F.col(\"cols.metadata\")[\"confidence\"].cast(\"float\").alias(\"confidence\")\n",
    ").filter(\"ner_label != 'O'\").show(truncate=False)\n"
   ]
  },
  {
   "cell_type": "code",
   "execution_count": 0,
   "metadata": {
    "application/vnd.databricks.v1+cell": {
     "cellMetadata": {
      "byteLimit": 2048000,
      "rowLimit": 10000
     },
     "inputWidgets": {},
     "nuid": "aa19fe84-055e-4bca-8ecc-42d329a7e2d4",
     "showTitle": false,
     "tableResultSettingsMap": {},
     "title": ""
    }
   },
   "outputs": [
    {
     "output_type": "execute_result",
     "data": {
      "text/plain": [
       "'Xylocaine'"
      ]
     },
     "execution_count": 73,
     "metadata": {},
     "output_type": "execute_result"
    }
   ],
   "source": [
    "posology_result.select('ner_chunk').take(2)[1][0][0].result"
   ]
  },
  {
   "cell_type": "code",
   "execution_count": 0,
   "metadata": {
    "application/vnd.databricks.v1+cell": {
     "cellMetadata": {
      "byteLimit": 2048000,
      "rowLimit": 10000
     },
     "inputWidgets": {},
     "nuid": "6e2fe2e9-5891-4251-b61d-2dbd08872078",
     "showTitle": false,
     "tableResultSettingsMap": {},
     "title": ""
    }
   },
   "outputs": [
    {
     "output_type": "execute_result",
     "data": {
      "text/plain": [
       "{'sentence': '11',\n",
       " 'chunk': '0',\n",
       " 'ner_source': 'ner_chunk',\n",
       " 'entity': 'DRUG',\n",
       " 'confidence': '0.9906'}"
      ]
     },
     "execution_count": 74,
     "metadata": {},
     "output_type": "execute_result"
    }
   ],
   "source": [
    "posology_result.select('ner_chunk').take(2)[1][0][0].metadata"
   ]
  },
  {
   "cell_type": "code",
   "execution_count": 0,
   "metadata": {
    "application/vnd.databricks.v1+cell": {
     "cellMetadata": {
      "byteLimit": 2048000,
      "rowLimit": 10000
     },
     "inputWidgets": {},
     "nuid": "2911fed7-3a52-4735-800b-ea690f5b5a4b",
     "showTitle": false,
     "tableResultSettingsMap": {},
     "title": ""
    }
   },
   "outputs": [
    {
     "output_type": "execute_result",
     "data": {
      "text/plain": [
       "[('The', 'O'),\n",
       " ('patient', 'O'),\n",
       " ('was', 'O'),\n",
       " ('prescribed', 'O'),\n",
       " ('1', 'B-DOSAGE'),\n",
       " ('capsule', 'B-FORM'),\n",
       " ('of', 'O'),\n",
       " ('Advil', 'B-DRUG'),\n",
       " ('for', 'B-DURATION'),\n",
       " ('5', 'I-DURATION'),\n",
       " ('days', 'I-DURATION'),\n",
       " ('.', 'O'),\n",
       " ('He', 'O'),\n",
       " ('was', 'O'),\n",
       " ('seen', 'O'),\n",
       " ('by', 'O'),\n",
       " ('the', 'O'),\n",
       " ('endocrinology', 'O'),\n",
       " ('service', 'O'),\n",
       " ('and', 'O'),\n",
       " ('she', 'O'),\n",
       " ('was', 'O'),\n",
       " ('discharged', 'O'),\n",
       " ('on', 'O'),\n",
       " ('40', 'B-DOSAGE'),\n",
       " ('units', 'I-DOSAGE'),\n",
       " ('of', 'O'),\n",
       " ('insulin', 'B-DRUG'),\n",
       " ('glargine', 'I-DRUG'),\n",
       " ('at', 'B-FREQUENCY'),\n",
       " ('night', 'I-FREQUENCY'),\n",
       " (',', 'O'),\n",
       " ('12', 'B-DOSAGE'),\n",
       " ('units', 'I-DOSAGE'),\n",
       " ('of', 'O'),\n",
       " ('insulin', 'B-DRUG'),\n",
       " ('lispro', 'I-DRUG'),\n",
       " ('with', 'B-FREQUENCY'),\n",
       " ('meals', 'I-FREQUENCY'),\n",
       " (',', 'O'),\n",
       " ('and', 'O'),\n",
       " ('metformin', 'B-DRUG'),\n",
       " ('1000', 'B-STRENGTH'),\n",
       " ('mg', 'I-STRENGTH'),\n",
       " ('two', 'B-FREQUENCY'),\n",
       " ('times', 'I-FREQUENCY'),\n",
       " ('a', 'I-FREQUENCY'),\n",
       " ('day', 'I-FREQUENCY'),\n",
       " ('.', 'O'),\n",
       " ('It', 'O'),\n",
       " ('was', 'O'),\n",
       " ('determined', 'O'),\n",
       " ('that', 'O'),\n",
       " ('all', 'O'),\n",
       " ('SGLT2', 'B-DRUG'),\n",
       " ('inhibitors', 'I-DRUG'),\n",
       " ('should', 'O'),\n",
       " ('be', 'O'),\n",
       " ('discontinued', 'O'),\n",
       " ('indefinitely', 'O'),\n",
       " ('for', 'B-DURATION'),\n",
       " ('3', 'I-DURATION'),\n",
       " ('months', 'I-DURATION'),\n",
       " ('.', 'O')]"
      ]
     },
     "execution_count": 75,
     "metadata": {},
     "output_type": "execute_result"
    }
   ],
   "source": [
    "posology_light_model = nlp.LightPipeline(posology_model)\n",
    "\n",
    "text ='The patient was prescribed 1 capsule of Advil for 5 days . He was seen by the endocrinology service and she was discharged on 40 units of insulin glargine at night , 12 units of insulin lispro with meals , and metformin 1000 mg two times a day . It was determined that all SGLT2 inhibitors should be discontinued indefinitely for 3 months .'\n",
    "\n",
    "posology_light_result = posology_light_model.annotate(text)\n",
    "\n",
    "list(zip(posology_light_result['token'], posology_light_result['ner']))"
   ]
  },
  {
   "cell_type": "code",
   "execution_count": 0,
   "metadata": {
    "application/vnd.databricks.v1+cell": {
     "cellMetadata": {
      "byteLimit": 2048000,
      "rowLimit": 10000
     },
     "inputWidgets": {},
     "nuid": "50351881-b138-4009-a3f7-e05c8c3e38e8",
     "showTitle": false,
     "tableResultSettingsMap": {},
     "title": ""
    }
   },
   "outputs": [
    {
     "output_type": "execute_result",
     "data": {
      "text/plain": [
       "[('The', 'O'),\n",
       " ('patient', 'O'),\n",
       " ('was', 'O'),\n",
       " ('prescribed', 'O'),\n",
       " ('1', 'B-DRUG'),\n",
       " ('capsule', 'I-DRUG'),\n",
       " ('of', 'I-DRUG'),\n",
       " ('Advil', 'I-DRUG'),\n",
       " ('for', 'B-DURATION'),\n",
       " ('5', 'I-DURATION'),\n",
       " ('days', 'I-DURATION'),\n",
       " ('.', 'O'),\n",
       " ('He', 'O'),\n",
       " ('was', 'O'),\n",
       " ('seen', 'O'),\n",
       " ('by', 'O'),\n",
       " ('the', 'O'),\n",
       " ('endocrinology', 'O'),\n",
       " ('service', 'O'),\n",
       " ('and', 'O'),\n",
       " ('she', 'O'),\n",
       " ('was', 'O'),\n",
       " ('discharged', 'O'),\n",
       " ('on', 'O'),\n",
       " ('40', 'B-DRUG'),\n",
       " ('units', 'I-DRUG'),\n",
       " ('of', 'I-DRUG'),\n",
       " ('insulin', 'I-DRUG'),\n",
       " ('glargine', 'I-DRUG'),\n",
       " ('at', 'B-FREQUENCY'),\n",
       " ('night', 'I-FREQUENCY'),\n",
       " (',', 'O'),\n",
       " ('12', 'B-DRUG'),\n",
       " ('units', 'I-DRUG'),\n",
       " ('of', 'I-DRUG'),\n",
       " ('insulin', 'I-DRUG'),\n",
       " ('lispro', 'I-DRUG'),\n",
       " ('with', 'B-FREQUENCY'),\n",
       " ('meals', 'I-FREQUENCY'),\n",
       " (',', 'O'),\n",
       " ('and', 'O'),\n",
       " ('metformin', 'B-DRUG'),\n",
       " ('1000', 'I-DRUG'),\n",
       " ('mg', 'I-DRUG'),\n",
       " ('two', 'B-FREQUENCY'),\n",
       " ('times', 'I-FREQUENCY'),\n",
       " ('a', 'I-FREQUENCY'),\n",
       " ('day', 'I-FREQUENCY'),\n",
       " ('.', 'O'),\n",
       " ('It', 'O'),\n",
       " ('was', 'O'),\n",
       " ('determined', 'O'),\n",
       " ('that', 'O'),\n",
       " ('all', 'O'),\n",
       " ('SGLT2', 'B-DRUG'),\n",
       " ('inhibitors', 'I-DRUG'),\n",
       " ('should', 'O'),\n",
       " ('be', 'O'),\n",
       " ('discontinued', 'O'),\n",
       " ('indefinitely', 'O'),\n",
       " ('for', 'B-DURATION'),\n",
       " ('3', 'I-DURATION'),\n",
       " ('months', 'I-DURATION'),\n",
       " ('.', 'O')]"
      ]
     },
     "execution_count": 76,
     "metadata": {},
     "output_type": "execute_result"
    }
   ],
   "source": [
    "list(zip(posology_light_result['token'], posology_light_result['ner_greedy']))"
   ]
  },
  {
   "cell_type": "code",
   "execution_count": 0,
   "metadata": {
    "application/vnd.databricks.v1+cell": {
     "cellMetadata": {
      "byteLimit": 2048000,
      "rowLimit": 10000
     },
     "inputWidgets": {},
     "nuid": "db0a5450-f736-4b8c-b026-1782cd0e223f",
     "showTitle": false,
     "tableResultSettingsMap": {},
     "title": ""
    }
   },
   "outputs": [],
   "source": [
    "posology_light_result = posology_light_model.fullAnnotate(text)"
   ]
  },
  {
   "cell_type": "code",
   "execution_count": 0,
   "metadata": {
    "application/vnd.databricks.v1+cell": {
     "cellMetadata": {
      "byteLimit": 2048000,
      "rowLimit": 10000
     },
     "inputWidgets": {},
     "nuid": "af54504d-4b3b-4f97-86b3-8f1a44b17a01",
     "showTitle": false,
     "tableResultSettingsMap": {},
     "title": ""
    }
   },
   "outputs": [],
   "source": [
    "pipeline_tracer = PipelineTracer(posology_model)\n",
    "\n",
    "column_maps = pipeline_tracer.createParserDictionary()\n",
    "column_maps.update({\"document_identifier\": \"ner_posology_greedy_pipeline\"})\n",
    "#column_maps"
   ]
  },
  {
   "cell_type": "code",
   "execution_count": 0,
   "metadata": {
    "application/vnd.databricks.v1+cell": {
     "cellMetadata": {
      "byteLimit": 2048000,
      "rowLimit": 10000
     },
     "inputWidgets": {},
     "nuid": "2f8bd21e-67e3-422b-9f7d-9d5ea52e6f99",
     "showTitle": false,
     "tableResultSettingsMap": {},
     "title": ""
    }
   },
   "outputs": [
    {
     "output_type": "execute_result",
     "data": {
      "text/plain": [
       "['DOSAGE', 'STRENGTH', 'ROUTE', 'FREQUENCY', 'DRUG', 'FORM', 'DURATION']"
      ]
     },
     "execution_count": 80,
     "metadata": {},
     "output_type": "execute_result"
    }
   ],
   "source": [
    "pipeline_tracer.getPossibleEntities()"
   ]
  },
  {
   "cell_type": "code",
   "execution_count": 0,
   "metadata": {
    "application/vnd.databricks.v1+cell": {
     "cellMetadata": {
      "byteLimit": 2048000,
      "rowLimit": 10000
     },
     "inputWidgets": {},
     "nuid": "cb03c49e-7c1b-43e5-8576-c1be3d9bed24",
     "showTitle": false,
     "tableResultSettingsMap": {},
     "title": ""
    }
   },
   "outputs": [
    {
     "output_type": "execute_result",
     "data": {
      "text/html": [
       "<div>\n",
       "<style scoped>\n",
       "    .dataframe tbody tr th:only-of-type {\n",
       "        vertical-align: middle;\n",
       "    }\n",
       "\n",
       "    .dataframe tbody tr th {\n",
       "        vertical-align: top;\n",
       "    }\n",
       "\n",
       "    .dataframe thead th {\n",
       "        text-align: right;\n",
       "    }\n",
       "</style>\n",
       "<table border=\"1\" class=\"dataframe\">\n",
       "  <thead>\n",
       "    <tr style=\"text-align: right;\">\n",
       "      <th></th>\n",
       "      <th>chunk_id</th>\n",
       "      <th>chunk</th>\n",
       "      <th>begin</th>\n",
       "      <th>end</th>\n",
       "      <th>ner_label</th>\n",
       "      <th>ner_source</th>\n",
       "      <th>ner_confidence</th>\n",
       "    </tr>\n",
       "  </thead>\n",
       "  <tbody>\n",
       "    <tr>\n",
       "      <th>0</th>\n",
       "      <td>ed29a030</td>\n",
       "      <td>1</td>\n",
       "      <td>27</td>\n",
       "      <td>27</td>\n",
       "      <td>DOSAGE</td>\n",
       "      <td>ner_chunk</td>\n",
       "      <td>0.9992</td>\n",
       "    </tr>\n",
       "    <tr>\n",
       "      <th>1</th>\n",
       "      <td>b4474bd8</td>\n",
       "      <td>capsule</td>\n",
       "      <td>29</td>\n",
       "      <td>35</td>\n",
       "      <td>FORM</td>\n",
       "      <td>ner_chunk</td>\n",
       "      <td>0.9897</td>\n",
       "    </tr>\n",
       "    <tr>\n",
       "      <th>2</th>\n",
       "      <td>d7d22c27</td>\n",
       "      <td>Advil</td>\n",
       "      <td>40</td>\n",
       "      <td>44</td>\n",
       "      <td>DRUG</td>\n",
       "      <td>ner_chunk</td>\n",
       "      <td>0.997</td>\n",
       "    </tr>\n",
       "    <tr>\n",
       "      <th>3</th>\n",
       "      <td>95e5dfab</td>\n",
       "      <td>for 5 days</td>\n",
       "      <td>46</td>\n",
       "      <td>55</td>\n",
       "      <td>DURATION</td>\n",
       "      <td>ner_chunk</td>\n",
       "      <td>0.71383333</td>\n",
       "    </tr>\n",
       "    <tr>\n",
       "      <th>4</th>\n",
       "      <td>7dcfc74a</td>\n",
       "      <td>40 units</td>\n",
       "      <td>126</td>\n",
       "      <td>133</td>\n",
       "      <td>DOSAGE</td>\n",
       "      <td>ner_chunk</td>\n",
       "      <td>0.84085</td>\n",
       "    </tr>\n",
       "    <tr>\n",
       "      <th>5</th>\n",
       "      <td>7e86e198</td>\n",
       "      <td>insulin glargine</td>\n",
       "      <td>138</td>\n",
       "      <td>153</td>\n",
       "      <td>DRUG</td>\n",
       "      <td>ner_chunk</td>\n",
       "      <td>0.87525</td>\n",
       "    </tr>\n",
       "    <tr>\n",
       "      <th>6</th>\n",
       "      <td>9d90a0f9</td>\n",
       "      <td>at night</td>\n",
       "      <td>155</td>\n",
       "      <td>162</td>\n",
       "      <td>FREQUENCY</td>\n",
       "      <td>ner_chunk</td>\n",
       "      <td>0.76839995</td>\n",
       "    </tr>\n",
       "    <tr>\n",
       "      <th>7</th>\n",
       "      <td>8193c92d</td>\n",
       "      <td>12 units</td>\n",
       "      <td>166</td>\n",
       "      <td>173</td>\n",
       "      <td>DOSAGE</td>\n",
       "      <td>ner_chunk</td>\n",
       "      <td>0.88755</td>\n",
       "    </tr>\n",
       "    <tr>\n",
       "      <th>8</th>\n",
       "      <td>17d78051</td>\n",
       "      <td>insulin lispro</td>\n",
       "      <td>178</td>\n",
       "      <td>191</td>\n",
       "      <td>DRUG</td>\n",
       "      <td>ner_chunk</td>\n",
       "      <td>0.77805</td>\n",
       "    </tr>\n",
       "    <tr>\n",
       "      <th>9</th>\n",
       "      <td>2cbe932c</td>\n",
       "      <td>with meals</td>\n",
       "      <td>193</td>\n",
       "      <td>202</td>\n",
       "      <td>FREQUENCY</td>\n",
       "      <td>ner_chunk</td>\n",
       "      <td>0.9213</td>\n",
       "    </tr>\n",
       "    <tr>\n",
       "      <th>10</th>\n",
       "      <td>e2a70ef4</td>\n",
       "      <td>metformin</td>\n",
       "      <td>210</td>\n",
       "      <td>218</td>\n",
       "      <td>DRUG</td>\n",
       "      <td>ner_chunk</td>\n",
       "      <td>0.9997</td>\n",
       "    </tr>\n",
       "    <tr>\n",
       "      <th>11</th>\n",
       "      <td>4e8b6c33</td>\n",
       "      <td>1000 mg</td>\n",
       "      <td>220</td>\n",
       "      <td>226</td>\n",
       "      <td>STRENGTH</td>\n",
       "      <td>ner_chunk</td>\n",
       "      <td>0.84535</td>\n",
       "    </tr>\n",
       "    <tr>\n",
       "      <th>12</th>\n",
       "      <td>a140e8e2</td>\n",
       "      <td>two times a day</td>\n",
       "      <td>228</td>\n",
       "      <td>242</td>\n",
       "      <td>FREQUENCY</td>\n",
       "      <td>ner_chunk</td>\n",
       "      <td>0.806225</td>\n",
       "    </tr>\n",
       "    <tr>\n",
       "      <th>13</th>\n",
       "      <td>453bb6b4</td>\n",
       "      <td>SGLT2 inhibitors</td>\n",
       "      <td>273</td>\n",
       "      <td>288</td>\n",
       "      <td>DRUG</td>\n",
       "      <td>ner_chunk</td>\n",
       "      <td>0.8754</td>\n",
       "    </tr>\n",
       "    <tr>\n",
       "      <th>14</th>\n",
       "      <td>b393cf23</td>\n",
       "      <td>for 3 months</td>\n",
       "      <td>326</td>\n",
       "      <td>337</td>\n",
       "      <td>DURATION</td>\n",
       "      <td>ner_chunk</td>\n",
       "      <td>0.70886666</td>\n",
       "    </tr>\n",
       "  </tbody>\n",
       "</table>\n",
       "</div>"
      ],
      "text/plain": [
       "    chunk_id             chunk  begin  end  ner_label ner_source ner_confidence\n",
       "0   ed29a030                 1     27   27     DOSAGE  ner_chunk         0.9992\n",
       "1   b4474bd8           capsule     29   35       FORM  ner_chunk         0.9897\n",
       "2   d7d22c27             Advil     40   44       DRUG  ner_chunk          0.997\n",
       "3   95e5dfab        for 5 days     46   55   DURATION  ner_chunk     0.71383333\n",
       "4   7dcfc74a          40 units    126  133     DOSAGE  ner_chunk        0.84085\n",
       "5   7e86e198  insulin glargine    138  153       DRUG  ner_chunk        0.87525\n",
       "6   9d90a0f9          at night    155  162  FREQUENCY  ner_chunk     0.76839995\n",
       "7   8193c92d          12 units    166  173     DOSAGE  ner_chunk        0.88755\n",
       "8   17d78051    insulin lispro    178  191       DRUG  ner_chunk        0.77805\n",
       "9   2cbe932c        with meals    193  202  FREQUENCY  ner_chunk         0.9213\n",
       "10  e2a70ef4         metformin    210  218       DRUG  ner_chunk         0.9997\n",
       "11  4e8b6c33           1000 mg    220  226   STRENGTH  ner_chunk        0.84535\n",
       "12  a140e8e2   two times a day    228  242  FREQUENCY  ner_chunk       0.806225\n",
       "13  453bb6b4  SGLT2 inhibitors    273  288       DRUG  ner_chunk         0.8754\n",
       "14  b393cf23      for 3 months    326  337   DURATION  ner_chunk     0.70886666"
      ]
     },
     "execution_count": 81,
     "metadata": {},
     "output_type": "execute_result"
    }
   ],
   "source": [
    "pipeline_parser = medical.PipelineOutputParser(column_maps)\n",
    "result = pipeline_parser.run(posology_light_result)\n",
    "\n",
    "posology_result_df = pd.DataFrame.from_dict(result[\"result\"][0][\"entities\"])\n",
    "posology_result_df"
   ]
  },
  {
   "cell_type": "code",
   "execution_count": 0,
   "metadata": {
    "application/vnd.databricks.v1+cell": {
     "cellMetadata": {
      "byteLimit": 2048000,
      "rowLimit": 10000
     },
     "inputWidgets": {},
     "nuid": "eaead1ff-52c1-4015-9d9e-0fe087b520ef",
     "showTitle": false,
     "tableResultSettingsMap": {},
     "title": ""
    }
   },
   "outputs": [
    {
     "output_type": "execute_result",
     "data": {
      "text/html": [
       "<div>\n",
       "<style scoped>\n",
       "    .dataframe tbody tr th:only-of-type {\n",
       "        vertical-align: middle;\n",
       "    }\n",
       "\n",
       "    .dataframe tbody tr th {\n",
       "        vertical-align: top;\n",
       "    }\n",
       "\n",
       "    .dataframe thead th {\n",
       "        text-align: right;\n",
       "    }\n",
       "</style>\n",
       "<table border=\"1\" class=\"dataframe\">\n",
       "  <thead>\n",
       "    <tr style=\"text-align: right;\">\n",
       "      <th></th>\n",
       "      <th>chunk_id</th>\n",
       "      <th>chunk</th>\n",
       "      <th>begin</th>\n",
       "      <th>end</th>\n",
       "      <th>ner_label</th>\n",
       "      <th>ner_source</th>\n",
       "      <th>ner_confidence</th>\n",
       "    </tr>\n",
       "  </thead>\n",
       "  <tbody>\n",
       "    <tr>\n",
       "      <th>0</th>\n",
       "      <td>6d62be7b</td>\n",
       "      <td>1 capsule of Advil</td>\n",
       "      <td>27</td>\n",
       "      <td>44</td>\n",
       "      <td>DRUG</td>\n",
       "      <td>ner_chunk_greedy</td>\n",
       "      <td>0.636125</td>\n",
       "    </tr>\n",
       "    <tr>\n",
       "      <th>1</th>\n",
       "      <td>95e5dfab</td>\n",
       "      <td>for 5 days</td>\n",
       "      <td>46</td>\n",
       "      <td>55</td>\n",
       "      <td>DURATION</td>\n",
       "      <td>ner_chunk_greedy</td>\n",
       "      <td>0.5476</td>\n",
       "    </tr>\n",
       "    <tr>\n",
       "      <th>2</th>\n",
       "      <td>ac2abb90</td>\n",
       "      <td>40 units of insulin glargine</td>\n",
       "      <td>126</td>\n",
       "      <td>153</td>\n",
       "      <td>DRUG</td>\n",
       "      <td>ner_chunk_greedy</td>\n",
       "      <td>0.61964</td>\n",
       "    </tr>\n",
       "    <tr>\n",
       "      <th>3</th>\n",
       "      <td>9d90a0f9</td>\n",
       "      <td>at night</td>\n",
       "      <td>155</td>\n",
       "      <td>162</td>\n",
       "      <td>FREQUENCY</td>\n",
       "      <td>ner_chunk_greedy</td>\n",
       "      <td>0.7431</td>\n",
       "    </tr>\n",
       "    <tr>\n",
       "      <th>4</th>\n",
       "      <td>efb2b741</td>\n",
       "      <td>12 units of insulin lispro</td>\n",
       "      <td>166</td>\n",
       "      <td>191</td>\n",
       "      <td>DRUG</td>\n",
       "      <td>ner_chunk_greedy</td>\n",
       "      <td>0.66034</td>\n",
       "    </tr>\n",
       "    <tr>\n",
       "      <th>5</th>\n",
       "      <td>2cbe932c</td>\n",
       "      <td>with meals</td>\n",
       "      <td>193</td>\n",
       "      <td>202</td>\n",
       "      <td>FREQUENCY</td>\n",
       "      <td>ner_chunk_greedy</td>\n",
       "      <td>0.79235005</td>\n",
       "    </tr>\n",
       "    <tr>\n",
       "      <th>6</th>\n",
       "      <td>a95079a9</td>\n",
       "      <td>metformin 1000 mg</td>\n",
       "      <td>210</td>\n",
       "      <td>226</td>\n",
       "      <td>DRUG</td>\n",
       "      <td>ner_chunk_greedy</td>\n",
       "      <td>0.70713335</td>\n",
       "    </tr>\n",
       "    <tr>\n",
       "      <th>7</th>\n",
       "      <td>a140e8e2</td>\n",
       "      <td>two times a day</td>\n",
       "      <td>228</td>\n",
       "      <td>242</td>\n",
       "      <td>FREQUENCY</td>\n",
       "      <td>ner_chunk_greedy</td>\n",
       "      <td>0.700825</td>\n",
       "    </tr>\n",
       "    <tr>\n",
       "      <th>8</th>\n",
       "      <td>453bb6b4</td>\n",
       "      <td>SGLT2 inhibitors</td>\n",
       "      <td>273</td>\n",
       "      <td>288</td>\n",
       "      <td>DRUG</td>\n",
       "      <td>ner_chunk_greedy</td>\n",
       "      <td>0.8847</td>\n",
       "    </tr>\n",
       "    <tr>\n",
       "      <th>9</th>\n",
       "      <td>b393cf23</td>\n",
       "      <td>for 3 months</td>\n",
       "      <td>326</td>\n",
       "      <td>337</td>\n",
       "      <td>DURATION</td>\n",
       "      <td>ner_chunk_greedy</td>\n",
       "      <td>0.61083335</td>\n",
       "    </tr>\n",
       "  </tbody>\n",
       "</table>\n",
       "</div>"
      ],
      "text/plain": [
       "   chunk_id                         chunk  begin  end  ner_label        ner_source ner_confidence\n",
       "0  6d62be7b            1 capsule of Advil     27   44       DRUG  ner_chunk_greedy       0.636125\n",
       "1  95e5dfab                    for 5 days     46   55   DURATION  ner_chunk_greedy         0.5476\n",
       "2  ac2abb90  40 units of insulin glargine    126  153       DRUG  ner_chunk_greedy        0.61964\n",
       "3  9d90a0f9                      at night    155  162  FREQUENCY  ner_chunk_greedy         0.7431\n",
       "4  efb2b741    12 units of insulin lispro    166  191       DRUG  ner_chunk_greedy        0.66034\n",
       "5  2cbe932c                    with meals    193  202  FREQUENCY  ner_chunk_greedy     0.79235005\n",
       "6  a95079a9             metformin 1000 mg    210  226       DRUG  ner_chunk_greedy     0.70713335\n",
       "7  a140e8e2               two times a day    228  242  FREQUENCY  ner_chunk_greedy       0.700825\n",
       "8  453bb6b4              SGLT2 inhibitors    273  288       DRUG  ner_chunk_greedy         0.8847\n",
       "9  b393cf23                  for 3 months    326  337   DURATION  ner_chunk_greedy     0.61083335"
      ]
     },
     "execution_count": 82,
     "metadata": {},
     "output_type": "execute_result"
    }
   ],
   "source": [
    "#This time we use 'ner_posology_greedy' model output\n",
    "column_maps = {\n",
    "    'document_identifier': 'ner_posology_pipeline',\n",
    "    'document_text': 'document',\n",
    "    'entities': ['ner_chunk_greedy'],\n",
    "    'assertions': [],\n",
    "    'resolutions': [],\n",
    "    'relations': [],\n",
    "    'summaries': [],\n",
    "    'deidentifications': [],\n",
    "    'classifications': []\n",
    "}\n",
    "\n",
    "pipeline_parser = medical.PipelineOutputParser(column_maps)\n",
    "result = pipeline_parser.run(posology_light_result)\n",
    "\n",
    "posology_result_greedy_df = pd.DataFrame.from_dict(result[\"result\"][0][\"entities\"])\n",
    "posology_result_greedy_df"
   ]
  },
  {
   "cell_type": "markdown",
   "metadata": {
    "application/vnd.databricks.v1+cell": {
     "cellMetadata": {
      "byteLimit": 2048000,
      "rowLimit": 10000
     },
     "inputWidgets": {},
     "nuid": "ba948790-7bbd-4054-b010-b77aa2bff083",
     "showTitle": false,
     "tableResultSettingsMap": {},
     "title": ""
    }
   },
   "source": [
    "### NER Visualization"
   ]
  },
  {
   "cell_type": "code",
   "execution_count": 0,
   "metadata": {
    "application/vnd.databricks.v1+cell": {
     "cellMetadata": {
      "byteLimit": 2048000,
      "rowLimit": 10000
     },
     "inputWidgets": {},
     "nuid": "028d47a8-1a2a-4473-bc85-55c555e4e1b5",
     "showTitle": false,
     "tableResultSettingsMap": {},
     "title": ""
    }
   },
   "outputs": [
    {
     "output_type": "display_data",
     "data": {
      "text/html": [
       "\n",
       "<style>\n",
       "    @import url('https://fonts.googleapis.com/css2?family=Montserrat:wght@300;400;500;600;700&display=swap');\n",
       "    @import url('https://fonts.googleapis.com/css2?family=Vistol Regular:wght@300;400;500;600;700&display=swap');\n",
       "    \n",
       "    .spark-nlp-display-scroll-entities {\n",
       "        border: 1px solid #E7EDF0;\n",
       "        border-radius: 3px;\n",
       "        text-align: justify;\n",
       "        \n",
       "    }\n",
       "    .spark-nlp-display-scroll-entities span {  \n",
       "        font-size: 14px;\n",
       "        line-height: 24px;\n",
       "        color: #536B76;\n",
       "        font-family: 'Montserrat', sans-serif !important;\n",
       "    }\n",
       "    \n",
       "    .spark-nlp-display-entity-wrapper{\n",
       "    \n",
       "        display: inline-grid;\n",
       "        text-align: center;\n",
       "        border-radius: 4px;\n",
       "        margin: 0 2px 5px 2px;\n",
       "        padding: 1px\n",
       "    }\n",
       "    .spark-nlp-display-entity-name{\n",
       "        font-size: 14px;\n",
       "        line-height: 24px;\n",
       "        font-family: 'Montserrat', sans-serif !important;\n",
       "        \n",
       "        background: #f1f2f3;\n",
       "        border-width: medium;\n",
       "        text-align: center;\n",
       "        \n",
       "        font-weight: 400;\n",
       "        \n",
       "        border-radius: 5px;\n",
       "        padding: 2px 5px;\n",
       "        display: block;\n",
       "        margin: 3px 2px;\n",
       "    \n",
       "    }\n",
       "    .spark-nlp-display-entity-type{\n",
       "        font-size: 14px;\n",
       "        line-height: 24px;\n",
       "        color: #ffffff;\n",
       "        font-family: 'Montserrat', sans-serif !important;\n",
       "        \n",
       "        text-transform: uppercase;\n",
       "        \n",
       "        font-weight: 500;\n",
       "\n",
       "        display: block;\n",
       "        padding: 3px 5px;\n",
       "    }\n",
       "    \n",
       "    .spark-nlp-display-entity-resolution{\n",
       "        font-size: 14px;\n",
       "        line-height: 24px;\n",
       "        color: #ffffff;\n",
       "        font-family: 'Vistol Regular', sans-serif !important;\n",
       "        \n",
       "        text-transform: uppercase;\n",
       "        \n",
       "        font-weight: 500;\n",
       "\n",
       "        display: block;\n",
       "        padding: 3px 5px;\n",
       "    }\n",
       "    \n",
       "    .spark-nlp-display-others{\n",
       "        font-size: 14px;\n",
       "        line-height: 24px;\n",
       "        font-family: 'Montserrat', sans-serif !important;\n",
       "        \n",
       "        font-weight: 400;\n",
       "    }\n",
       "\n",
       "</style>\n",
       " <span class=\"spark-nlp-display-others\" style=\"background-color: white\">The patient was prescribed </span><span class=\"spark-nlp-display-entity-wrapper\" style=\"background-color: #5DBC9E\"><span class=\"spark-nlp-display-entity-name\">1 </span><span class=\"spark-nlp-display-entity-type\">DOSAGE</span></span><span class=\"spark-nlp-display-others\" style=\"background-color: white\"> </span><span class=\"spark-nlp-display-entity-wrapper\" style=\"background-color: #720536\"><span class=\"spark-nlp-display-entity-name\">capsule </span><span class=\"spark-nlp-display-entity-type\">FORM</span></span><span class=\"spark-nlp-display-others\" style=\"background-color: white\"> of </span><span class=\"spark-nlp-display-entity-wrapper\" style=\"background-color: #8B668B\"><span class=\"spark-nlp-display-entity-name\">Advil </span><span class=\"spark-nlp-display-entity-type\">DRUG</span></span><span class=\"spark-nlp-display-others\" style=\"background-color: white\"> </span><span class=\"spark-nlp-display-entity-wrapper\" style=\"background-color: #6F357D\"><span class=\"spark-nlp-display-entity-name\">for 5 days </span><span class=\"spark-nlp-display-entity-type\">DURATION</span></span><span class=\"spark-nlp-display-others\" style=\"background-color: white\"> . He was seen by the endocrinology service and she was discharged on </span><span class=\"spark-nlp-display-entity-wrapper\" style=\"background-color: #5DBC9E\"><span class=\"spark-nlp-display-entity-name\">40 units </span><span class=\"spark-nlp-display-entity-type\">DOSAGE</span></span><span class=\"spark-nlp-display-others\" style=\"background-color: white\"> of </span><span class=\"spark-nlp-display-entity-wrapper\" style=\"background-color: #8B668B\"><span class=\"spark-nlp-display-entity-name\">insulin glargine </span><span class=\"spark-nlp-display-entity-type\">DRUG</span></span><span class=\"spark-nlp-display-others\" style=\"background-color: white\"> </span><span class=\"spark-nlp-display-entity-wrapper\" style=\"background-color: #AA5AA3\"><span class=\"spark-nlp-display-entity-name\">at night </span><span class=\"spark-nlp-display-entity-type\">FREQUENCY</span></span><span class=\"spark-nlp-display-others\" style=\"background-color: white\"> , </span><span class=\"spark-nlp-display-entity-wrapper\" style=\"background-color: #5DBC9E\"><span class=\"spark-nlp-display-entity-name\">12 units </span><span class=\"spark-nlp-display-entity-type\">DOSAGE</span></span><span class=\"spark-nlp-display-others\" style=\"background-color: white\"> of </span><span class=\"spark-nlp-display-entity-wrapper\" style=\"background-color: #8B668B\"><span class=\"spark-nlp-display-entity-name\">insulin lispro </span><span class=\"spark-nlp-display-entity-type\">DRUG</span></span><span class=\"spark-nlp-display-others\" style=\"background-color: white\"> </span><span class=\"spark-nlp-display-entity-wrapper\" style=\"background-color: #AA5AA3\"><span class=\"spark-nlp-display-entity-name\">with meals </span><span class=\"spark-nlp-display-entity-type\">FREQUENCY</span></span><span class=\"spark-nlp-display-others\" style=\"background-color: white\"> , and </span><span class=\"spark-nlp-display-entity-wrapper\" style=\"background-color: #8B668B\"><span class=\"spark-nlp-display-entity-name\">metformin </span><span class=\"spark-nlp-display-entity-type\">DRUG</span></span><span class=\"spark-nlp-display-others\" style=\"background-color: white\"> </span><span class=\"spark-nlp-display-entity-wrapper\" style=\"background-color: #1B3857\"><span class=\"spark-nlp-display-entity-name\">1000 mg </span><span class=\"spark-nlp-display-entity-type\">STRENGTH</span></span><span class=\"spark-nlp-display-others\" style=\"background-color: white\"> </span><span class=\"spark-nlp-display-entity-wrapper\" style=\"background-color: #AA5AA3\"><span class=\"spark-nlp-display-entity-name\">two times a day </span><span class=\"spark-nlp-display-entity-type\">FREQUENCY</span></span><span class=\"spark-nlp-display-others\" style=\"background-color: white\"> . It was determined that all </span><span class=\"spark-nlp-display-entity-wrapper\" style=\"background-color: #8B668B\"><span class=\"spark-nlp-display-entity-name\">SGLT2 inhibitors </span><span class=\"spark-nlp-display-entity-type\">DRUG</span></span><span class=\"spark-nlp-display-others\" style=\"background-color: white\"> should be discontinued indefinitely </span><span class=\"spark-nlp-display-entity-wrapper\" style=\"background-color: #6F357D\"><span class=\"spark-nlp-display-entity-name\">for 3 months </span><span class=\"spark-nlp-display-entity-type\">DURATION</span></span><span class=\"spark-nlp-display-others\" style=\"background-color: white\"> .</span></div>"
      ]
     },
     "metadata": {},
     "output_type": "display_data"
    }
   ],
   "source": [
    "visualiser = nlp.viz.NerVisualizer()\n",
    "\n",
    "posology_light_result = posology_light_model.fullAnnotate(text)\n",
    "\n",
    "ner_vis = visualiser.display(posology_light_result[0], label_col='ner_chunk', document_col='document', return_html=True)\n",
    "  \n",
    "displayHTML(ner_vis)"
   ]
  },
  {
   "cell_type": "code",
   "execution_count": 0,
   "metadata": {
    "application/vnd.databricks.v1+cell": {
     "cellMetadata": {
      "byteLimit": 2048000,
      "rowLimit": 10000
     },
     "inputWidgets": {},
     "nuid": "d1760464-8289-479d-855e-43626fadfa7c",
     "showTitle": false,
     "tableResultSettingsMap": {},
     "title": ""
    }
   },
   "outputs": [
    {
     "output_type": "display_data",
     "data": {
      "text/html": [
       "\n",
       "<style>\n",
       "    @import url('https://fonts.googleapis.com/css2?family=Montserrat:wght@300;400;500;600;700&display=swap');\n",
       "    @import url('https://fonts.googleapis.com/css2?family=Vistol Regular:wght@300;400;500;600;700&display=swap');\n",
       "    \n",
       "    .spark-nlp-display-scroll-entities {\n",
       "        border: 1px solid #E7EDF0;\n",
       "        border-radius: 3px;\n",
       "        text-align: justify;\n",
       "        \n",
       "    }\n",
       "    .spark-nlp-display-scroll-entities span {  \n",
       "        font-size: 14px;\n",
       "        line-height: 24px;\n",
       "        color: #536B76;\n",
       "        font-family: 'Montserrat', sans-serif !important;\n",
       "    }\n",
       "    \n",
       "    .spark-nlp-display-entity-wrapper{\n",
       "    \n",
       "        display: inline-grid;\n",
       "        text-align: center;\n",
       "        border-radius: 4px;\n",
       "        margin: 0 2px 5px 2px;\n",
       "        padding: 1px\n",
       "    }\n",
       "    .spark-nlp-display-entity-name{\n",
       "        font-size: 14px;\n",
       "        line-height: 24px;\n",
       "        font-family: 'Montserrat', sans-serif !important;\n",
       "        \n",
       "        background: #f1f2f3;\n",
       "        border-width: medium;\n",
       "        text-align: center;\n",
       "        \n",
       "        font-weight: 400;\n",
       "        \n",
       "        border-radius: 5px;\n",
       "        padding: 2px 5px;\n",
       "        display: block;\n",
       "        margin: 3px 2px;\n",
       "    \n",
       "    }\n",
       "    .spark-nlp-display-entity-type{\n",
       "        font-size: 14px;\n",
       "        line-height: 24px;\n",
       "        color: #ffffff;\n",
       "        font-family: 'Montserrat', sans-serif !important;\n",
       "        \n",
       "        text-transform: uppercase;\n",
       "        \n",
       "        font-weight: 500;\n",
       "\n",
       "        display: block;\n",
       "        padding: 3px 5px;\n",
       "    }\n",
       "    \n",
       "    .spark-nlp-display-entity-resolution{\n",
       "        font-size: 14px;\n",
       "        line-height: 24px;\n",
       "        color: #ffffff;\n",
       "        font-family: 'Vistol Regular', sans-serif !important;\n",
       "        \n",
       "        text-transform: uppercase;\n",
       "        \n",
       "        font-weight: 500;\n",
       "\n",
       "        display: block;\n",
       "        padding: 3px 5px;\n",
       "    }\n",
       "    \n",
       "    .spark-nlp-display-others{\n",
       "        font-size: 14px;\n",
       "        line-height: 24px;\n",
       "        font-family: 'Montserrat', sans-serif !important;\n",
       "        \n",
       "        font-weight: 400;\n",
       "    }\n",
       "\n",
       "</style>\n",
       " <span class=\"spark-nlp-display-others\" style=\"background-color: white\">The patient was prescribed </span><span class=\"spark-nlp-display-entity-wrapper\" style=\"background-color: #8B668B\"><span class=\"spark-nlp-display-entity-name\">1 capsule of Advil </span><span class=\"spark-nlp-display-entity-type\">DRUG</span></span><span class=\"spark-nlp-display-others\" style=\"background-color: white\"> </span><span class=\"spark-nlp-display-entity-wrapper\" style=\"background-color: #532581\"><span class=\"spark-nlp-display-entity-name\">for 5 days </span><span class=\"spark-nlp-display-entity-type\">DURATION</span></span><span class=\"spark-nlp-display-others\" style=\"background-color: white\"> . He was seen by the endocrinology service and she was discharged on </span><span class=\"spark-nlp-display-entity-wrapper\" style=\"background-color: #8B668B\"><span class=\"spark-nlp-display-entity-name\">40 units of insulin glargine </span><span class=\"spark-nlp-display-entity-type\">DRUG</span></span><span class=\"spark-nlp-display-others\" style=\"background-color: white\"> </span><span class=\"spark-nlp-display-entity-wrapper\" style=\"background-color: #73AC62\"><span class=\"spark-nlp-display-entity-name\">at night </span><span class=\"spark-nlp-display-entity-type\">FREQUENCY</span></span><span class=\"spark-nlp-display-others\" style=\"background-color: white\"> , </span><span class=\"spark-nlp-display-entity-wrapper\" style=\"background-color: #8B668B\"><span class=\"spark-nlp-display-entity-name\">12 units of insulin lispro </span><span class=\"spark-nlp-display-entity-type\">DRUG</span></span><span class=\"spark-nlp-display-others\" style=\"background-color: white\"> </span><span class=\"spark-nlp-display-entity-wrapper\" style=\"background-color: #73AC62\"><span class=\"spark-nlp-display-entity-name\">with meals </span><span class=\"spark-nlp-display-entity-type\">FREQUENCY</span></span><span class=\"spark-nlp-display-others\" style=\"background-color: white\"> , and </span><span class=\"spark-nlp-display-entity-wrapper\" style=\"background-color: #8B668B\"><span class=\"spark-nlp-display-entity-name\">metformin 1000 mg </span><span class=\"spark-nlp-display-entity-type\">DRUG</span></span><span class=\"spark-nlp-display-others\" style=\"background-color: white\"> </span><span class=\"spark-nlp-display-entity-wrapper\" style=\"background-color: #73AC62\"><span class=\"spark-nlp-display-entity-name\">two times a day </span><span class=\"spark-nlp-display-entity-type\">FREQUENCY</span></span><span class=\"spark-nlp-display-others\" style=\"background-color: white\"> . It was determined that all </span><span class=\"spark-nlp-display-entity-wrapper\" style=\"background-color: #8B668B\"><span class=\"spark-nlp-display-entity-name\">SGLT2 inhibitors </span><span class=\"spark-nlp-display-entity-type\">DRUG</span></span><span class=\"spark-nlp-display-others\" style=\"background-color: white\"> should be discontinued indefinitely </span><span class=\"spark-nlp-display-entity-wrapper\" style=\"background-color: #532581\"><span class=\"spark-nlp-display-entity-name\">for 3 months </span><span class=\"spark-nlp-display-entity-type\">DURATION</span></span><span class=\"spark-nlp-display-others\" style=\"background-color: white\"> .</span></div>"
      ]
     },
     "metadata": {},
     "output_type": "display_data"
    }
   ],
   "source": [
    "# ner_greedy\n",
    "\n",
    "visualiser_greedy = nlp.viz.NerVisualizer()\n",
    "\n",
    "ner_greedy_vis = visualiser_greedy.display(posology_light_result[0], label_col='ner_chunk_greedy', document_col='document', return_html=True)\n",
    "\n",
    "displayHTML(ner_greedy_vis)"
   ]
  },
  {
   "cell_type": "markdown",
   "metadata": {
    "application/vnd.databricks.v1+cell": {
     "cellMetadata": {
      "byteLimit": 2048000,
      "rowLimit": 10000
     },
     "inputWidgets": {},
     "nuid": "941abf71-9254-4510-9579-57a55d8dcc96",
     "showTitle": false,
     "tableResultSettingsMap": {},
     "title": ""
    }
   },
   "source": [
    "## Writing a generic NER function"
   ]
  },
  {
   "cell_type": "markdown",
   "metadata": {
    "application/vnd.databricks.v1+cell": {
     "cellMetadata": {
      "byteLimit": 2048000,
      "rowLimit": 10000
     },
     "inputWidgets": {},
     "nuid": "6f002922-e808-43b7-a2af-bca365f3850c",
     "showTitle": false,
     "tableResultSettingsMap": {},
     "title": ""
    }
   },
   "source": [
    "**Generic NER Function with LightPipeline**"
   ]
  },
  {
   "cell_type": "code",
   "execution_count": 0,
   "metadata": {
    "application/vnd.databricks.v1+cell": {
     "cellMetadata": {
      "byteLimit": 2048000,
      "rowLimit": 10000
     },
     "inputWidgets": {},
     "nuid": "4a896437-beda-4bdf-a647-a1fcc4027aab",
     "showTitle": false,
     "tableResultSettingsMap": {},
     "title": ""
    }
   },
   "outputs": [],
   "source": [
    "def get_pipeline_model(embeddings, model_name = 'ner_clinical'):\n",
    "\n",
    "  documentAssembler = nlp.DocumentAssembler()\\\n",
    "      .setInputCol(\"text\")\\\n",
    "      .setOutputCol(\"document\")\n",
    "\n",
    "  sentenceDetector = nlp.SentenceDetector()\\\n",
    "      .setInputCols([\"document\"])\\\n",
    "      .setOutputCol(\"sentence\")\n",
    "\n",
    "  tokenizer = nlp.Tokenizer()\\\n",
    "      .setInputCols([\"sentence\"])\\\n",
    "      .setOutputCol(\"token\")\n",
    "\n",
    "  word_embeddings = nlp.WordEmbeddingsModel.pretrained(embeddings, \"en\", \"clinical/models\")\\\n",
    "      .setInputCols([\"sentence\", \"token\"])\\\n",
    "      .setOutputCol(\"embeddings\")\n",
    "\n",
    "  loaded_ner_model = medical.NerModel.pretrained(model_name, \"en\", \"clinical/models\") \\\n",
    "      .setInputCols([\"sentence\", \"token\", \"embeddings\"]) \\\n",
    "      .setOutputCol(\"ner\")\n",
    "\n",
    "  ner_converter = medical.NerConverterInternal() \\\n",
    "      .setInputCols([\"sentence\", \"token\", \"ner\"]) \\\n",
    "      .setOutputCol(\"ner_chunk\")\n",
    "\n",
    "  nlpPipeline = nlp.Pipeline(stages=[\n",
    "      documentAssembler,\n",
    "      sentenceDetector,\n",
    "      tokenizer,\n",
    "      word_embeddings,\n",
    "      loaded_ner_model,\n",
    "      ner_converter])\n",
    "\n",
    "  model = nlpPipeline.fit(spark.createDataFrame([[\"\"]]).toDF(\"text\"))\n",
    "\n",
    "  return model"
   ]
  },
  {
   "cell_type": "code",
   "execution_count": 0,
   "metadata": {
    "application/vnd.databricks.v1+cell": {
     "cellMetadata": {
      "byteLimit": 2048000,
      "rowLimit": 10000
     },
     "inputWidgets": {},
     "nuid": "b352d88a-3812-467d-b28e-dec4bdd8c23f",
     "showTitle": false,
     "tableResultSettingsMap": {},
     "title": ""
    }
   },
   "outputs": [
    {
     "output_type": "stream",
     "name": "stdout",
     "output_type": "stream",
     "text": [
      "embeddings_clinical download started this may take some time.\nApproximate size to download 1.6 GB\n\r[ | ]\r[OK!]\nner_clinical download started this may take some time.\n\r[ | ]\r[ / ]\r[OK!]\n"
     ]
    }
   ],
   "source": [
    "embeddings = 'embeddings_clinical'\n",
    "\n",
    "model_name = 'ner_clinical'\n",
    "\n",
    "light_pipeline_model = get_pipeline_model(embeddings, model_name)\n",
    "\n",
    "light_model = nlp.LightPipeline(light_pipeline_model)\n",
    "\n",
    "text = \"I had a headache yesterday and took an Advil.\"\n",
    "\n",
    "light_result = light_model.fullAnnotate(text)"
   ]
  },
  {
   "cell_type": "code",
   "execution_count": 0,
   "metadata": {
    "application/vnd.databricks.v1+cell": {
     "cellMetadata": {
      "byteLimit": 2048000,
      "rowLimit": 10000
     },
     "inputWidgets": {},
     "nuid": "ed6f3fea-c079-4807-aba4-d3faa6456a50",
     "showTitle": false,
     "tableResultSettingsMap": {},
     "title": ""
    }
   },
   "outputs": [],
   "source": [
    "pipeline_tracer = PipelineTracer(light_pipeline_model)\n",
    "\n",
    "column_maps = pipeline_tracer.createParserDictionary()\n",
    "column_maps.update({\"document_identifier\": \"ner_pipeline\"})\n",
    "#column_maps"
   ]
  },
  {
   "cell_type": "code",
   "execution_count": 0,
   "metadata": {
    "application/vnd.databricks.v1+cell": {
     "cellMetadata": {
      "byteLimit": 2048000,
      "rowLimit": 10000
     },
     "inputWidgets": {},
     "nuid": "f8b6fa40-756b-4f55-9a55-ff9ffab44e67",
     "showTitle": false,
     "tableResultSettingsMap": {},
     "title": ""
    }
   },
   "outputs": [
    {
     "output_type": "execute_result",
     "data": {
      "text/html": [
       "<div>\n",
       "<style scoped>\n",
       "    .dataframe tbody tr th:only-of-type {\n",
       "        vertical-align: middle;\n",
       "    }\n",
       "\n",
       "    .dataframe tbody tr th {\n",
       "        vertical-align: top;\n",
       "    }\n",
       "\n",
       "    .dataframe thead th {\n",
       "        text-align: right;\n",
       "    }\n",
       "</style>\n",
       "<table border=\"1\" class=\"dataframe\">\n",
       "  <thead>\n",
       "    <tr style=\"text-align: right;\">\n",
       "      <th></th>\n",
       "      <th>chunk_id</th>\n",
       "      <th>chunk</th>\n",
       "      <th>begin</th>\n",
       "      <th>end</th>\n",
       "      <th>ner_label</th>\n",
       "      <th>ner_source</th>\n",
       "      <th>ner_confidence</th>\n",
       "    </tr>\n",
       "  </thead>\n",
       "  <tbody>\n",
       "    <tr>\n",
       "      <th>0</th>\n",
       "      <td>5ee04d99</td>\n",
       "      <td>a headache</td>\n",
       "      <td>6</td>\n",
       "      <td>15</td>\n",
       "      <td>PROBLEM</td>\n",
       "      <td>ner_chunk</td>\n",
       "      <td>0.97545</td>\n",
       "    </tr>\n",
       "    <tr>\n",
       "      <th>1</th>\n",
       "      <td>76396a86</td>\n",
       "      <td>an Advil</td>\n",
       "      <td>36</td>\n",
       "      <td>43</td>\n",
       "      <td>TREATMENT</td>\n",
       "      <td>ner_chunk</td>\n",
       "      <td>0.8871</td>\n",
       "    </tr>\n",
       "  </tbody>\n",
       "</table>\n",
       "</div>"
      ],
      "text/plain": [
       "   chunk_id       chunk  begin  end  ner_label ner_source ner_confidence\n",
       "0  5ee04d99  a headache      6   15    PROBLEM  ner_chunk        0.97545\n",
       "1  76396a86    an Advil     36   43  TREATMENT  ner_chunk         0.8871"
      ]
     },
     "execution_count": 88,
     "metadata": {},
     "output_type": "execute_result"
    }
   ],
   "source": [
    "pipeline_parser = medical.PipelineOutputParser(column_maps)\n",
    "result = pipeline_parser.run(light_result)\n",
    "\n",
    "ner_clinical_df = pd.DataFrame.from_dict(result[\"result\"][0][\"entities\"])\n",
    "ner_clinical_df"
   ]
  },
  {
   "cell_type": "code",
   "execution_count": 0,
   "metadata": {
    "application/vnd.databricks.v1+cell": {
     "cellMetadata": {
      "byteLimit": 2048000,
      "rowLimit": 10000
     },
     "inputWidgets": {},
     "nuid": "03c9b502-4ec3-480e-a2b5-76d5755501b2",
     "showTitle": false,
     "tableResultSettingsMap": {},
     "title": ""
    }
   },
   "outputs": [
    {
     "output_type": "stream",
     "name": "stdout",
     "output_type": "stream",
     "text": [
      "embeddings_clinical download started this may take some time.\nApproximate size to download 1.6 GB\n\r[ | ]\r[OK!]\nner_posology download started this may take some time.\n\r[ | ]\r[OK!]\n"
     ]
    }
   ],
   "source": [
    "text ='''The patient was prescribed 1 capsule of Parol with meals .\n",
    "He was seen by the endocrinology service and she was discharged on 40 units of insulin glargine at night , 12 units of insulin lispro with meals , and metformin 1000 mg two times a day .\n",
    "It was determined that all SGLT2 inhibitors should be discontinued indefinitely fro 3 months .'''\n",
    "\n",
    "embeddings = 'embeddings_clinical'\n",
    "\n",
    "model_name = 'ner_posology'\n",
    "\n",
    "light_pipeline_model = get_pipeline_model(embeddings, model_name)\n",
    "\n",
    "light_model = nlp.LightPipeline(light_pipeline_model)\n",
    "\n",
    "light_result = light_model.fullAnnotate(text)"
   ]
  },
  {
   "cell_type": "code",
   "execution_count": 0,
   "metadata": {
    "application/vnd.databricks.v1+cell": {
     "cellMetadata": {
      "byteLimit": 2048000,
      "rowLimit": 10000
     },
     "inputWidgets": {},
     "nuid": "56a92a1a-591e-48a5-9e0b-5e2191ff1578",
     "showTitle": false,
     "tableResultSettingsMap": {},
     "title": ""
    }
   },
   "outputs": [
    {
     "output_type": "execute_result",
     "data": {
      "text/html": [
       "<div>\n",
       "<style scoped>\n",
       "    .dataframe tbody tr th:only-of-type {\n",
       "        vertical-align: middle;\n",
       "    }\n",
       "\n",
       "    .dataframe tbody tr th {\n",
       "        vertical-align: top;\n",
       "    }\n",
       "\n",
       "    .dataframe thead th {\n",
       "        text-align: right;\n",
       "    }\n",
       "</style>\n",
       "<table border=\"1\" class=\"dataframe\">\n",
       "  <thead>\n",
       "    <tr style=\"text-align: right;\">\n",
       "      <th></th>\n",
       "      <th>chunk_id</th>\n",
       "      <th>chunk</th>\n",
       "      <th>begin</th>\n",
       "      <th>end</th>\n",
       "      <th>ner_label</th>\n",
       "      <th>ner_source</th>\n",
       "      <th>ner_confidence</th>\n",
       "    </tr>\n",
       "  </thead>\n",
       "  <tbody>\n",
       "    <tr>\n",
       "      <th>0</th>\n",
       "      <td>ed29a030</td>\n",
       "      <td>1</td>\n",
       "      <td>27</td>\n",
       "      <td>27</td>\n",
       "      <td>DOSAGE</td>\n",
       "      <td>ner_chunk</td>\n",
       "      <td>0.9995</td>\n",
       "    </tr>\n",
       "    <tr>\n",
       "      <th>1</th>\n",
       "      <td>b4474bd8</td>\n",
       "      <td>capsule</td>\n",
       "      <td>29</td>\n",
       "      <td>35</td>\n",
       "      <td>FORM</td>\n",
       "      <td>ner_chunk</td>\n",
       "      <td>0.989</td>\n",
       "    </tr>\n",
       "    <tr>\n",
       "      <th>2</th>\n",
       "      <td>a6805797</td>\n",
       "      <td>Parol</td>\n",
       "      <td>40</td>\n",
       "      <td>44</td>\n",
       "      <td>DRUG</td>\n",
       "      <td>ner_chunk</td>\n",
       "      <td>0.9981</td>\n",
       "    </tr>\n",
       "    <tr>\n",
       "      <th>3</th>\n",
       "      <td>40d07556</td>\n",
       "      <td>with meals</td>\n",
       "      <td>46</td>\n",
       "      <td>55</td>\n",
       "      <td>FREQUENCY</td>\n",
       "      <td>ner_chunk</td>\n",
       "      <td>0.89765</td>\n",
       "    </tr>\n",
       "    <tr>\n",
       "      <th>4</th>\n",
       "      <td>7dcfc74a</td>\n",
       "      <td>40 units</td>\n",
       "      <td>126</td>\n",
       "      <td>133</td>\n",
       "      <td>DOSAGE</td>\n",
       "      <td>ner_chunk</td>\n",
       "      <td>0.84085</td>\n",
       "    </tr>\n",
       "    <tr>\n",
       "      <th>5</th>\n",
       "      <td>7e86e198</td>\n",
       "      <td>insulin glargine</td>\n",
       "      <td>138</td>\n",
       "      <td>153</td>\n",
       "      <td>DRUG</td>\n",
       "      <td>ner_chunk</td>\n",
       "      <td>0.87525</td>\n",
       "    </tr>\n",
       "    <tr>\n",
       "      <th>6</th>\n",
       "      <td>9d90a0f9</td>\n",
       "      <td>at night</td>\n",
       "      <td>155</td>\n",
       "      <td>162</td>\n",
       "      <td>FREQUENCY</td>\n",
       "      <td>ner_chunk</td>\n",
       "      <td>0.76839995</td>\n",
       "    </tr>\n",
       "    <tr>\n",
       "      <th>7</th>\n",
       "      <td>8193c92d</td>\n",
       "      <td>12 units</td>\n",
       "      <td>166</td>\n",
       "      <td>173</td>\n",
       "      <td>DOSAGE</td>\n",
       "      <td>ner_chunk</td>\n",
       "      <td>0.88755</td>\n",
       "    </tr>\n",
       "    <tr>\n",
       "      <th>8</th>\n",
       "      <td>17d78051</td>\n",
       "      <td>insulin lispro</td>\n",
       "      <td>178</td>\n",
       "      <td>191</td>\n",
       "      <td>DRUG</td>\n",
       "      <td>ner_chunk</td>\n",
       "      <td>0.77805</td>\n",
       "    </tr>\n",
       "    <tr>\n",
       "      <th>9</th>\n",
       "      <td>2cbe932c</td>\n",
       "      <td>with meals</td>\n",
       "      <td>193</td>\n",
       "      <td>202</td>\n",
       "      <td>FREQUENCY</td>\n",
       "      <td>ner_chunk</td>\n",
       "      <td>0.9213</td>\n",
       "    </tr>\n",
       "    <tr>\n",
       "      <th>10</th>\n",
       "      <td>e2a70ef4</td>\n",
       "      <td>metformin</td>\n",
       "      <td>210</td>\n",
       "      <td>218</td>\n",
       "      <td>DRUG</td>\n",
       "      <td>ner_chunk</td>\n",
       "      <td>0.9997</td>\n",
       "    </tr>\n",
       "    <tr>\n",
       "      <th>11</th>\n",
       "      <td>4e8b6c33</td>\n",
       "      <td>1000 mg</td>\n",
       "      <td>220</td>\n",
       "      <td>226</td>\n",
       "      <td>STRENGTH</td>\n",
       "      <td>ner_chunk</td>\n",
       "      <td>0.84535</td>\n",
       "    </tr>\n",
       "    <tr>\n",
       "      <th>12</th>\n",
       "      <td>a140e8e2</td>\n",
       "      <td>two times a day</td>\n",
       "      <td>228</td>\n",
       "      <td>242</td>\n",
       "      <td>FREQUENCY</td>\n",
       "      <td>ner_chunk</td>\n",
       "      <td>0.806225</td>\n",
       "    </tr>\n",
       "    <tr>\n",
       "      <th>13</th>\n",
       "      <td>453bb6b4</td>\n",
       "      <td>SGLT2 inhibitors</td>\n",
       "      <td>273</td>\n",
       "      <td>288</td>\n",
       "      <td>DRUG</td>\n",
       "      <td>ner_chunk</td>\n",
       "      <td>0.8739</td>\n",
       "    </tr>\n",
       "  </tbody>\n",
       "</table>\n",
       "</div>"
      ],
      "text/plain": [
       "    chunk_id             chunk  begin  end  ner_label ner_source ner_confidence\n",
       "0   ed29a030                 1     27   27     DOSAGE  ner_chunk         0.9995\n",
       "1   b4474bd8           capsule     29   35       FORM  ner_chunk          0.989\n",
       "2   a6805797             Parol     40   44       DRUG  ner_chunk         0.9981\n",
       "3   40d07556        with meals     46   55  FREQUENCY  ner_chunk        0.89765\n",
       "4   7dcfc74a          40 units    126  133     DOSAGE  ner_chunk        0.84085\n",
       "5   7e86e198  insulin glargine    138  153       DRUG  ner_chunk        0.87525\n",
       "6   9d90a0f9          at night    155  162  FREQUENCY  ner_chunk     0.76839995\n",
       "7   8193c92d          12 units    166  173     DOSAGE  ner_chunk        0.88755\n",
       "8   17d78051    insulin lispro    178  191       DRUG  ner_chunk        0.77805\n",
       "9   2cbe932c        with meals    193  202  FREQUENCY  ner_chunk         0.9213\n",
       "10  e2a70ef4         metformin    210  218       DRUG  ner_chunk         0.9997\n",
       "11  4e8b6c33           1000 mg    220  226   STRENGTH  ner_chunk        0.84535\n",
       "12  a140e8e2   two times a day    228  242  FREQUENCY  ner_chunk       0.806225\n",
       "13  453bb6b4  SGLT2 inhibitors    273  288       DRUG  ner_chunk         0.8739"
      ]
     },
     "execution_count": 90,
     "metadata": {},
     "output_type": "execute_result"
    }
   ],
   "source": [
    "pipeline_parser = medical.PipelineOutputParser(column_maps)\n",
    "result = pipeline_parser.run(light_result)\n",
    "\n",
    "ner_posology_df = pd.DataFrame.from_dict(result[\"result\"][0][\"entities\"])\n",
    "ner_posology_df"
   ]
  },
  {
   "cell_type": "markdown",
   "metadata": {
    "application/vnd.databricks.v1+cell": {
     "cellMetadata": {
      "byteLimit": 2048000,
      "rowLimit": 10000
     },
     "inputWidgets": {},
     "nuid": "c440e27c-9781-4671-b545-2633f4788207",
     "showTitle": false,
     "tableResultSettingsMap": {},
     "title": ""
    }
   },
   "source": [
    "## PHI NER"
   ]
  },
  {
   "cell_type": "markdown",
   "metadata": {
    "application/vnd.databricks.v1+cell": {
     "cellMetadata": {
      "byteLimit": 2048000,
      "rowLimit": 10000
     },
     "inputWidgets": {},
     "nuid": "cbb482ce-dd87-4663-b7c9-c3328bb35e4e",
     "showTitle": false,
     "tableResultSettingsMap": {},
     "title": ""
    }
   },
   "source": [
    "**Entities**\n",
    "- AGE\n",
    "- CONTACT\n",
    "- DATE\n",
    "- ID\n",
    "- LOCATION\n",
    "- NAME\n",
    "- PROFESSION"
   ]
  },
  {
   "cell_type": "code",
   "execution_count": 0,
   "metadata": {
    "application/vnd.databricks.v1+cell": {
     "cellMetadata": {
      "byteLimit": 2048000,
      "rowLimit": 10000
     },
     "inputWidgets": {},
     "nuid": "74a38c17-b6af-4510-80fa-ac03c574685f",
     "showTitle": false,
     "tableResultSettingsMap": {},
     "title": ""
    }
   },
   "outputs": [
    {
     "output_type": "stream",
     "name": "stdout",
     "output_type": "stream",
     "text": [
      "embeddings_clinical download started this may take some time.\nApproximate size to download 1.6 GB\n\r[ | ]\r[OK!]\nner_deid_subentity_augmented download started this may take some time.\n\r[ | ]\r[ / ]\r[OK!]\n"
     ]
    }
   ],
   "source": [
    "embeddings = 'embeddings_clinical'\n",
    "\n",
    "model_name = 'ner_deid_subentity_augmented'\n",
    "\n",
    "# deidentify_dl\n",
    "# ner_deid_large\n",
    "# ner_deid_generic_augmented\n",
    "# ner_deid_subentity_augmented\n",
    "# ner_deid_subentity_augmented_i2b2\n",
    "\n",
    "text = \"\"\"Miriam BRAY is a 41-year-old female from Vietnam and she was admitted for a right-sided pleural effusion for thoracentesis on Monday by Dr. X. Her Coumadin was placed on hold.\n",
    "She was instructed to followup with Dr. XYZ in the office to check her INR On August 24, 2007 .\"\"\"\n",
    "\n",
    "light_pipeline_model = get_pipeline_model(embeddings, model_name)\n",
    "\n",
    "light_model = nlp.LightPipeline(light_pipeline_model)\n",
    "\n",
    "light_result = light_model.fullAnnotate(text)"
   ]
  },
  {
   "cell_type": "code",
   "execution_count": 0,
   "metadata": {
    "application/vnd.databricks.v1+cell": {
     "cellMetadata": {
      "byteLimit": 2048000,
      "rowLimit": 10000
     },
     "inputWidgets": {},
     "nuid": "7c6f8351-8a98-494a-bc1d-779540319b0c",
     "showTitle": false,
     "tableResultSettingsMap": {},
     "title": ""
    }
   },
   "outputs": [
    {
     "output_type": "execute_result",
     "data": {
      "text/html": [
       "<div>\n",
       "<style scoped>\n",
       "    .dataframe tbody tr th:only-of-type {\n",
       "        vertical-align: middle;\n",
       "    }\n",
       "\n",
       "    .dataframe tbody tr th {\n",
       "        vertical-align: top;\n",
       "    }\n",
       "\n",
       "    .dataframe thead th {\n",
       "        text-align: right;\n",
       "    }\n",
       "</style>\n",
       "<table border=\"1\" class=\"dataframe\">\n",
       "  <thead>\n",
       "    <tr style=\"text-align: right;\">\n",
       "      <th></th>\n",
       "      <th>chunk_id</th>\n",
       "      <th>chunk</th>\n",
       "      <th>begin</th>\n",
       "      <th>end</th>\n",
       "      <th>ner_label</th>\n",
       "      <th>ner_source</th>\n",
       "      <th>ner_confidence</th>\n",
       "    </tr>\n",
       "  </thead>\n",
       "  <tbody>\n",
       "    <tr>\n",
       "      <th>0</th>\n",
       "      <td>3734a388</td>\n",
       "      <td>Miriam BRAY</td>\n",
       "      <td>0</td>\n",
       "      <td>10</td>\n",
       "      <td>PATIENT</td>\n",
       "      <td>ner_chunk</td>\n",
       "      <td>0.91725</td>\n",
       "    </tr>\n",
       "    <tr>\n",
       "      <th>1</th>\n",
       "      <td>eaa5d500</td>\n",
       "      <td>41-year-old</td>\n",
       "      <td>17</td>\n",
       "      <td>27</td>\n",
       "      <td>AGE</td>\n",
       "      <td>ner_chunk</td>\n",
       "      <td>0.9997</td>\n",
       "    </tr>\n",
       "    <tr>\n",
       "      <th>2</th>\n",
       "      <td>4e2afa32</td>\n",
       "      <td>Vietnam</td>\n",
       "      <td>41</td>\n",
       "      <td>47</td>\n",
       "      <td>COUNTRY</td>\n",
       "      <td>ner_chunk</td>\n",
       "      <td>0.9934</td>\n",
       "    </tr>\n",
       "    <tr>\n",
       "      <th>3</th>\n",
       "      <td>04a3c2b1</td>\n",
       "      <td>Monday</td>\n",
       "      <td>126</td>\n",
       "      <td>131</td>\n",
       "      <td>DATE</td>\n",
       "      <td>ner_chunk</td>\n",
       "      <td>1.0</td>\n",
       "    </tr>\n",
       "    <tr>\n",
       "      <th>4</th>\n",
       "      <td>f206db21</td>\n",
       "      <td>X</td>\n",
       "      <td>140</td>\n",
       "      <td>140</td>\n",
       "      <td>DOCTOR</td>\n",
       "      <td>ner_chunk</td>\n",
       "      <td>0.9984</td>\n",
       "    </tr>\n",
       "    <tr>\n",
       "      <th>5</th>\n",
       "      <td>43aa1a76</td>\n",
       "      <td>XYZ</td>\n",
       "      <td>216</td>\n",
       "      <td>218</td>\n",
       "      <td>DOCTOR</td>\n",
       "      <td>ner_chunk</td>\n",
       "      <td>1.0</td>\n",
       "    </tr>\n",
       "    <tr>\n",
       "      <th>6</th>\n",
       "      <td>de9cb074</td>\n",
       "      <td>August 24, 2007</td>\n",
       "      <td>254</td>\n",
       "      <td>268</td>\n",
       "      <td>DATE</td>\n",
       "      <td>ner_chunk</td>\n",
       "      <td>0.9994</td>\n",
       "    </tr>\n",
       "  </tbody>\n",
       "</table>\n",
       "</div>"
      ],
      "text/plain": [
       "   chunk_id            chunk  begin  end ner_label ner_source ner_confidence\n",
       "0  3734a388      Miriam BRAY      0   10   PATIENT  ner_chunk        0.91725\n",
       "1  eaa5d500      41-year-old     17   27       AGE  ner_chunk         0.9997\n",
       "2  4e2afa32          Vietnam     41   47   COUNTRY  ner_chunk         0.9934\n",
       "3  04a3c2b1           Monday    126  131      DATE  ner_chunk            1.0\n",
       "4  f206db21                X    140  140    DOCTOR  ner_chunk         0.9984\n",
       "5  43aa1a76              XYZ    216  218    DOCTOR  ner_chunk            1.0\n",
       "6  de9cb074  August 24, 2007    254  268      DATE  ner_chunk         0.9994"
      ]
     },
     "execution_count": 92,
     "metadata": {},
     "output_type": "execute_result"
    }
   ],
   "source": [
    "pipeline_parser = medical.PipelineOutputParser(column_maps)\n",
    "result = pipeline_parser.run(light_result )\n",
    "\n",
    "ner_deid_subentity_augmented_df = pd.DataFrame.from_dict(result[\"result\"][0][\"entities\"])\n",
    "ner_deid_subentity_augmented_df"
   ]
  },
  {
   "cell_type": "markdown",
   "metadata": {
    "application/vnd.databricks.v1+cell": {
     "cellMetadata": {
      "byteLimit": 2048000,
      "rowLimit": 10000
     },
     "inputWidgets": {},
     "nuid": "7dc27c6b-7b15-4fe0-a54c-75d3c951e7a1",
     "showTitle": false,
     "tableResultSettingsMap": {},
     "title": ""
    }
   },
   "source": [
    "## Oncology NER\n",
    "\n",
    "There are several Oncology NER models in Spark NLP. We will show an example of `new_oncology_wip` model here.\n",
    "\n",
    "**Entities**\n",
    "\n",
    "| | | | |\n",
    "|-|-|-|-|\n",
    "| Invasion | Dosage | Hormonal_Therapy | Site_Lung |\n",
    "| Biomarker_Result | Response_To_Treatment | Oncogene | Relative_Date |\n",
    "| Site_Bone | Histological_Type | Radiation_Dose | Age |\n",
    "| Duration | Grade | Tumor_Size | Line_Of_Therapy |\n",
    "| Site_Breast | Cancer_Surgery | Smoking_Status | Imaging_Test |\n",
    "| Adenopathy | Targeted_Therapy | Radiotherapy | Metastasis |\n",
    "| Date | Cycle_Number | Pathology_Result | Cancer_Score |\n",
    "| Cancer_Dx | Death_Entity | Site_Liver | Site_Brain |\n",
    "| Pathology_Test | Chemotherapy | Biomarker | Frequency |\n",
    "| Site_Lymph_Node | Performance_Status | Unspecific_Therapy | Cycle_Count |\n",
    "| Race_Ethnicity | Gender | Staging | Immunotherapy |\n",
    "| Site_Other_Body_Part | Tumor_Finding | Route | Cycle_Day |\n",
    "| Direction| | | |\n",
    "\n",
    "You can check [Oncology Model Notebook](https://github.com/JohnSnowLabs/spark-nlp-workshop/blob/master/tutorials/Certification_Trainings_JSL/Healthcare/27.Oncology_Model.ipynb) for more examples."
   ]
  },
  {
   "cell_type": "code",
   "execution_count": 0,
   "metadata": {
    "application/vnd.databricks.v1+cell": {
     "cellMetadata": {
      "byteLimit": 2048000,
      "rowLimit": 10000
     },
     "inputWidgets": {},
     "nuid": "d2478dc7-9c20-41bd-bf77-9014596c4129",
     "showTitle": false,
     "tableResultSettingsMap": {},
     "title": ""
    }
   },
   "outputs": [
    {
     "output_type": "execute_result",
     "data": {
      "text/plain": [
       "'Sample Type / Medical Specialty:\\nHematology - Oncology\\nSample Name:\\nDischarge Summary - Mesothelioma - 1\\nDescription:\\nMesothelioma, pleural effusion, atrial fibrillation, anemia, ascites, esophageal reflux, and history of deep venous thrombosis.\\n(Medical Transcription Sample Report)\\nPRINCIPAL DIAGNOSIS:\\nMesothelioma.\\nSECONDARY DIAGNOSES:\\nPleural effusion, atrial fibrillation, anemia, ascites, esophageal reflux, and history of deep venous thrombosis.\\nPROCEDURES\\n1. On August 24, 2007, decortication of the lung with pleural biopsy and transpleural fluoroscopy.\\n2. On August 20, 2007, thoracentesis.\\n3. On August 31, 2007, Port-A-Cath placement.\\nHISTORY AND PHYSICAL:\\nThe patient is a 41-year-old Vietnamese female with a nonproductive cough that started last week. She has had right-sided chest pain radiating to her back with fever starting yesterday. She has a history of pericarditis and pericardectomy in May 2006 and developed cough with right-sided chest pain, and went to an urgent care center. Chest x-ray revealed right-sided pleural effusion.\\nPAST MEDICAL HISTORY\\n1. Pericardectomy.\\n2. Pericarditis.\\n2. Atrial fibrillation.\\n4. RNCA with intracranial thrombolytic treatment.\\n5 PTA of MCA.\\n6. Mesenteric venous thrombosis.\\n7. Pericardial window.\\n8. Cholecystectomy.\\n9. Left thoracentesis.\\nFAMILY HISTORY:\\nNo family history of coronary artery disease, CVA, diabetes, CHF or MI. The patient has one family member, a sister, with history of cancer.\\nSOCIAL HISTORY:\\nShe is married. Employed with the US Post Office. She is a mother of three. Denies tobacco, alcohol or illicit drug use.\\nMEDICATIONS\\n1. Coumadin 1 mg daily. Last INR was on Tuesday, August 14, 2007, and her INR was 2.3.\\n2. Amiodarone 100 mg p.o. daily.\\nREVIEW OF SYSTEMS:\\nComplete review of systems negative except as in pulmonary as noted above. The patient also reports occasional numbness and tingling of her left arm.\\nPHYSICAL EXAMINATION\\nVITAL SIGNS: Blood pressure 123/95, heart rate 83, respirations 20, temperature 97, and oxygen saturation 97%.\\nGENERAL: Positive nonproductive cough and pain with coughing.\\nHEENT: Pupils are equal and reactive to light and accommodation. Tympanic membranes are clear.\\nNECK: Supple. No lymphadenopathy. No masses.\\nRESPIRATORY: Pleural friction rub is noted.\\nGI: Soft, nondistended, and nontender. Positive bowel sounds. No organomegaly.\\nEXTREMITIES: No edema, no clubbing, no cyanosis, no tenderness. Full range of motion. Normal pulses in all extremities.\\nSKIN: No breakdown or lesions. No ulcers.\\nNEUROLOGIC: Grossly intact. No focal deficits. Awake, alert, and oriented to person, place, and time.\\nLABORATORY DATA:\\nLabs are pending.\\nHOSPITAL COURSE:\\nThe patient was admitted for a right-sided pleural effusion for thoracentesis on Monday by Dr. X. Her Coumadin was placed on hold. A repeat echocardiogram was checked. She was started on prophylaxis for DVT with Lovenox 40 mg subcutaneously. Her history dated back to March 2005 when she first sought medical attention for evidence of pericarditis, which was treated with pericardial window in an outside hospital, at that time she was also found to have mesenteric pain and thrombosis, is now anticoagulated. Her pericardial fluid was accumulated and she was seen by Dr. Y. At that time, she was recommended for pericardectomy, which was performed by Dr. Z. Review of her CT scan from March 2006 prior to her pericardectomy, already shows bilateral plural effusions. The patient improved clinically after the pericardectomy with resolution of her symptoms. Recently, she was readmitted to the hospital with chest pain and found to have bilateral pleural effusion, the right greater than the left. CT of the chest also revealed a large mediastinal lymph node. We reviewed the pathology obtained from the pericardectomy in March 2006, which was diagnostic of mesothelioma. At this time, chest tube placement for drainage of the fluid occurred and thoracoscopy with fluid biopsies, which were performed, which revealed epithelioid malignant mesothelioma. The patient was then stained with a PET CT, which showed extensive uptake in the chest, bilateral pleural pericardial effusions, and lymphadenopathy. She also had acidic fluid, pectoral and intramammary lymph nodes and uptake in L4 with SUV of 4. This was consistent with stage III disease. Her repeat echocardiogram showed an ejection fraction of 45% to 49%. She was transferred to Oncology service and started on chemotherapy on September 1, 2007 with cisplatin 75 mg/centimeter squared equaling 109 mg IV piggyback over 2 hours on September 1, 2007, Alimta 500 mg/ centimeter squared equaling 730 mg IV piggyback over 10 minutes. This was all initiated after a Port-A-Cath was placed. The chemotherapy was well tolerated and the patient was discharged the following day after discontinuing IV fluid and IV. Her Port-A-Cath was packed with heparin according to protocol.\\nDISCHARGE MEDICATIONS:\\nZofran, Phenergan, Coumadin, and Lovenox, and Vicodin\\nDISCHARGE INSTRUCTIONS:\\nShe was instructed to followup with Dr. XYZ in the office to check her INR on Tuesday. She was instructed to call if she had any other questions or concerns in the interim.\\nKeywords:\\nhematology - oncology, mesothelioma, pleural effusion, atrial fibrillation, anemia, ascites, esophageal reflux, deep venous thrombosis, port-a-cath placement, port a cath, iv piggyback, venous thrombosis, atrial, thrombosis, pericardial, lymphadenopathy, fluid, pericardectomy, chest, pleural,'"
      ]
     },
     "execution_count": 93,
     "metadata": {},
     "output_type": "execute_result"
    }
   ],
   "source": [
    "mt_samples_df.limit(1).collect()[0][\"text\"]"
   ]
  },
  {
   "cell_type": "code",
   "execution_count": 0,
   "metadata": {
    "application/vnd.databricks.v1+cell": {
     "cellMetadata": {
      "byteLimit": 2048000,
      "rowLimit": 10000
     },
     "inputWidgets": {},
     "nuid": "d9af07ee-0624-4f47-8e7f-13b43115fb6c",
     "showTitle": false,
     "tableResultSettingsMap": {},
     "title": ""
    }
   },
   "outputs": [
    {
     "output_type": "stream",
     "name": "stdout",
     "output_type": "stream",
     "text": [
      "embeddings_clinical download started this may take some time.\nApproximate size to download 1.6 GB\n\r[ | ]\r[OK!]\nner_oncology download started this may take some time.\n\r[ | ]\r[ / ]\r[OK!]\n"
     ]
    }
   ],
   "source": [
    "embeddings = 'embeddings_clinical'\n",
    "\n",
    "model_name = 'ner_oncology'\n",
    "\n",
    "text =  mt_samples_df.limit(1).collect()[0][\"text\"]\n",
    "\n",
    "light_pipeline_model = get_pipeline_model(embeddings, model_name)\n",
    "\n",
    "light_model = nlp.LightPipeline(light_pipeline_model)\n",
    "\n",
    "light_result = light_model.fullAnnotate(text)"
   ]
  },
  {
   "cell_type": "code",
   "execution_count": 0,
   "metadata": {
    "application/vnd.databricks.v1+cell": {
     "cellMetadata": {
      "byteLimit": 2048000,
      "rowLimit": 10000
     },
     "inputWidgets": {},
     "nuid": "dbc36a61-3484-407b-95ee-e333e09b4020",
     "showTitle": false,
     "tableResultSettingsMap": {},
     "title": ""
    }
   },
   "outputs": [
    {
     "output_type": "execute_result",
     "data": {
      "text/html": [
       "<div>\n",
       "<style scoped>\n",
       "    .dataframe tbody tr th:only-of-type {\n",
       "        vertical-align: middle;\n",
       "    }\n",
       "\n",
       "    .dataframe tbody tr th {\n",
       "        vertical-align: top;\n",
       "    }\n",
       "\n",
       "    .dataframe thead th {\n",
       "        text-align: right;\n",
       "    }\n",
       "</style>\n",
       "<table border=\"1\" class=\"dataframe\">\n",
       "  <thead>\n",
       "    <tr style=\"text-align: right;\">\n",
       "      <th></th>\n",
       "      <th>chunk_id</th>\n",
       "      <th>chunk</th>\n",
       "      <th>begin</th>\n",
       "      <th>end</th>\n",
       "      <th>ner_label</th>\n",
       "      <th>ner_source</th>\n",
       "      <th>ner_confidence</th>\n",
       "    </tr>\n",
       "  </thead>\n",
       "  <tbody>\n",
       "    <tr>\n",
       "      <th>0</th>\n",
       "      <td>4dae1bf0</td>\n",
       "      <td>Mesothelioma</td>\n",
       "      <td>118</td>\n",
       "      <td>129</td>\n",
       "      <td>Cancer_Dx</td>\n",
       "      <td>ner_chunk</td>\n",
       "      <td>0.9983</td>\n",
       "    </tr>\n",
       "    <tr>\n",
       "      <th>1</th>\n",
       "      <td>ac2d6c48</td>\n",
       "      <td>August 24, 2007</td>\n",
       "      <td>471</td>\n",
       "      <td>485</td>\n",
       "      <td>Date</td>\n",
       "      <td>ner_chunk</td>\n",
       "      <td>0.979275</td>\n",
       "    </tr>\n",
       "    <tr>\n",
       "      <th>2</th>\n",
       "      <td>5d6162b3</td>\n",
       "      <td>decortication</td>\n",
       "      <td>488</td>\n",
       "      <td>500</td>\n",
       "      <td>Cancer_Surgery</td>\n",
       "      <td>ner_chunk</td>\n",
       "      <td>0.9601</td>\n",
       "    </tr>\n",
       "    <tr>\n",
       "      <th>3</th>\n",
       "      <td>1462eae8</td>\n",
       "      <td>lung</td>\n",
       "      <td>509</td>\n",
       "      <td>512</td>\n",
       "      <td>Site_Lung</td>\n",
       "      <td>ner_chunk</td>\n",
       "      <td>0.9918</td>\n",
       "    </tr>\n",
       "    <tr>\n",
       "      <th>4</th>\n",
       "      <td>40940231</td>\n",
       "      <td>pleural</td>\n",
       "      <td>519</td>\n",
       "      <td>525</td>\n",
       "      <td>Site_Lung</td>\n",
       "      <td>ner_chunk</td>\n",
       "      <td>0.9582</td>\n",
       "    </tr>\n",
       "    <tr>\n",
       "      <th>...</th>\n",
       "      <td>...</td>\n",
       "      <td>...</td>\n",
       "      <td>...</td>\n",
       "      <td>...</td>\n",
       "      <td>...</td>\n",
       "      <td>...</td>\n",
       "      <td>...</td>\n",
       "    </tr>\n",
       "    <tr>\n",
       "      <th>105</th>\n",
       "      <td>712b7240</td>\n",
       "      <td>her</td>\n",
       "      <td>5062</td>\n",
       "      <td>5064</td>\n",
       "      <td>Gender</td>\n",
       "      <td>ner_chunk</td>\n",
       "      <td>0.9999</td>\n",
       "    </tr>\n",
       "    <tr>\n",
       "      <th>106</th>\n",
       "      <td>614664d9</td>\n",
       "      <td>She</td>\n",
       "      <td>5082</td>\n",
       "      <td>5084</td>\n",
       "      <td>Gender</td>\n",
       "      <td>ner_chunk</td>\n",
       "      <td>1.0</td>\n",
       "    </tr>\n",
       "    <tr>\n",
       "      <th>107</th>\n",
       "      <td>e8a6751f</td>\n",
       "      <td>she</td>\n",
       "      <td>5112</td>\n",
       "      <td>5114</td>\n",
       "      <td>Gender</td>\n",
       "      <td>ner_chunk</td>\n",
       "      <td>1.0</td>\n",
       "    </tr>\n",
       "    <tr>\n",
       "      <th>108</th>\n",
       "      <td>4acf30b6</td>\n",
       "      <td>mesothelioma</td>\n",
       "      <td>5201</td>\n",
       "      <td>5212</td>\n",
       "      <td>Cancer_Dx</td>\n",
       "      <td>ner_chunk</td>\n",
       "      <td>0.9969</td>\n",
       "    </tr>\n",
       "    <tr>\n",
       "      <th>109</th>\n",
       "      <td>267fe69d</td>\n",
       "      <td>pericardectomy</td>\n",
       "      <td>5440</td>\n",
       "      <td>5453</td>\n",
       "      <td>Cancer_Surgery</td>\n",
       "      <td>ner_chunk</td>\n",
       "      <td>0.9571</td>\n",
       "    </tr>\n",
       "  </tbody>\n",
       "</table>\n",
       "<p>110 rows × 7 columns</p>\n",
       "</div>"
      ],
      "text/plain": [
       "     chunk_id            chunk  begin   end       ner_label ner_source ner_confidence\n",
       "0    4dae1bf0     Mesothelioma    118   129       Cancer_Dx  ner_chunk         0.9983\n",
       "1    ac2d6c48  August 24, 2007    471   485            Date  ner_chunk       0.979275\n",
       "2    5d6162b3    decortication    488   500  Cancer_Surgery  ner_chunk         0.9601\n",
       "3    1462eae8             lung    509   512       Site_Lung  ner_chunk         0.9918\n",
       "4    40940231          pleural    519   525       Site_Lung  ner_chunk         0.9582\n",
       "..        ...              ...    ...   ...             ...        ...            ...\n",
       "105  712b7240              her   5062  5064          Gender  ner_chunk         0.9999\n",
       "106  614664d9              She   5082  5084          Gender  ner_chunk            1.0\n",
       "107  e8a6751f              she   5112  5114          Gender  ner_chunk            1.0\n",
       "108  4acf30b6     mesothelioma   5201  5212       Cancer_Dx  ner_chunk         0.9969\n",
       "109  267fe69d   pericardectomy   5440  5453  Cancer_Surgery  ner_chunk         0.9571\n",
       "\n",
       "[110 rows x 7 columns]"
      ]
     },
     "execution_count": 95,
     "metadata": {},
     "output_type": "execute_result"
    }
   ],
   "source": [
    "pipeline_parser = medical.PipelineOutputParser(column_maps)\n",
    "result = pipeline_parser.run(light_result)\n",
    "\n",
    "ner_oncology_df = pd.DataFrame.from_dict(result[\"result\"][0][\"entities\"])\n",
    "ner_oncology_df"
   ]
  },
  {
   "cell_type": "markdown",
   "metadata": {
    "application/vnd.databricks.v1+cell": {
     "cellMetadata": {
      "byteLimit": 2048000,
      "rowLimit": 10000
     },
     "inputWidgets": {},
     "nuid": "829e86fd-8255-48f2-b62d-453c91163b69",
     "showTitle": false,
     "tableResultSettingsMap": {},
     "title": ""
    }
   },
   "source": [
    "## NER Chunker\n",
    "We can extract phrases that fits into a known pattern using the NER tags. NerChunker would be quite handy to extract entity groups with neighboring tokens when there is no pretrained NER model to address certain issues. Lets say we want to extract drug and frequency together as a single chunk even if there are some unwanted tokens between them."
   ]
  },
  {
   "cell_type": "code",
   "execution_count": 0,
   "metadata": {
    "application/vnd.databricks.v1+cell": {
     "cellMetadata": {
      "byteLimit": 2048000,
      "rowLimit": 10000
     },
     "inputWidgets": {},
     "nuid": "2d5c4222-7e4b-4a1e-82ee-e4dd4c0afcb5",
     "showTitle": false,
     "tableResultSettingsMap": {},
     "title": ""
    }
   },
   "outputs": [
    {
     "output_type": "stream",
     "name": "stdout",
     "output_type": "stream",
     "text": [
      "ner_posology download started this may take some time.\n\r[ | ]\r[OK!]\n"
     ]
    }
   ],
   "source": [
    "posology_ner = medical.NerModel.pretrained(\"ner_posology\", \"en\", \"clinical/models\") \\\n",
    "    .setInputCols([\"sentence\", \"token\", \"embeddings\"]) \\\n",
    "    .setOutputCol(\"ner\")\n",
    "\n",
    "ner_chunker = medical.NerChunker()\\\n",
    "    .setInputCols([\"sentence\",\"ner\"])\\\n",
    "    .setOutputCol(\"ner_chunk\")\\\n",
    "    .setRegexParsers([\"<DRUG>.*<FREQUENCY>\"])\n",
    "\n",
    "nlpPipeline = nlp.Pipeline(stages=[\n",
    "    documentAssembler, \n",
    "    sentenceDetector,\n",
    "    tokenizer,\n",
    "    word_embeddings,\n",
    "    posology_ner,\n",
    "    ner_chunker])\n",
    "\n",
    "empty_data = spark.createDataFrame([[\"\"]]).toDF(\"text\")\n",
    "\n",
    "ner_chunker_model = nlpPipeline.fit(empty_data)"
   ]
  },
  {
   "cell_type": "code",
   "execution_count": 0,
   "metadata": {
    "application/vnd.databricks.v1+cell": {
     "cellMetadata": {
      "byteLimit": 2048000,
      "rowLimit": 10000
     },
     "inputWidgets": {},
     "nuid": "739f4e3e-8151-4697-9bf7-77d08a8989fc",
     "showTitle": false,
     "tableResultSettingsMap": {},
     "title": ""
    }
   },
   "outputs": [
    {
     "output_type": "execute_result",
     "data": {
      "text/plain": [
       "['O',\n",
       " 'B-DOSAGE',\n",
       " 'B-STRENGTH',\n",
       " 'I-STRENGTH',\n",
       " 'B-ROUTE',\n",
       " 'B-FREQUENCY',\n",
       " 'I-FREQUENCY',\n",
       " 'B-DRUG',\n",
       " 'I-DRUG',\n",
       " 'B-FORM',\n",
       " 'I-DOSAGE',\n",
       " 'B-DURATION',\n",
       " 'I-DURATION',\n",
       " 'I-FORM',\n",
       " 'I-ROUTE']"
      ]
     },
     "execution_count": 97,
     "metadata": {},
     "output_type": "execute_result"
    }
   ],
   "source": [
    "posology_ner.getClasses()"
   ]
  },
  {
   "cell_type": "code",
   "execution_count": 0,
   "metadata": {
    "application/vnd.databricks.v1+cell": {
     "cellMetadata": {
      "byteLimit": 2048000,
      "rowLimit": 10000
     },
     "inputWidgets": {},
     "nuid": "457e97d7-0fc5-43ef-ae89-95cf8cc1fd26",
     "showTitle": false,
     "tableResultSettingsMap": {},
     "title": ""
    }
   },
   "outputs": [
    {
     "output_type": "execute_result",
     "data": {
      "text/plain": [
       "[('The', 'O'),\n",
       " ('patient', 'O'),\n",
       " ('was', 'O'),\n",
       " ('prescribed', 'O'),\n",
       " ('1', 'B-DOSAGE'),\n",
       " ('capsule', 'B-FORM'),\n",
       " ('of', 'O'),\n",
       " ('Advil', 'B-DRUG'),\n",
       " ('for', 'B-DURATION'),\n",
       " ('5', 'I-DURATION'),\n",
       " ('days', 'I-DURATION'),\n",
       " ('.', 'O'),\n",
       " ('He', 'O'),\n",
       " ('was', 'O'),\n",
       " ('seen', 'O'),\n",
       " ('by', 'O'),\n",
       " ('the', 'O'),\n",
       " ('endocrinology', 'O'),\n",
       " ('service', 'O'),\n",
       " ('and', 'O'),\n",
       " ('she', 'O'),\n",
       " ('was', 'O'),\n",
       " ('discharged', 'O'),\n",
       " ('on', 'O'),\n",
       " ('40', 'B-DOSAGE'),\n",
       " ('units', 'I-DOSAGE'),\n",
       " ('of', 'O'),\n",
       " ('insulin', 'B-DRUG'),\n",
       " ('glargine', 'I-DRUG'),\n",
       " ('at', 'B-FREQUENCY'),\n",
       " ('night', 'I-FREQUENCY'),\n",
       " (',', 'O'),\n",
       " ('12', 'B-DOSAGE'),\n",
       " ('units', 'I-DOSAGE'),\n",
       " ('of', 'O'),\n",
       " ('insulin', 'B-DRUG'),\n",
       " ('lispro', 'I-DRUG'),\n",
       " ('with', 'B-FREQUENCY'),\n",
       " ('meals', 'I-FREQUENCY'),\n",
       " (',', 'O'),\n",
       " ('metformin', 'B-DRUG'),\n",
       " ('1000', 'B-STRENGTH'),\n",
       " ('mg', 'I-STRENGTH'),\n",
       " ('two', 'B-FREQUENCY'),\n",
       " ('times', 'I-FREQUENCY'),\n",
       " ('a', 'I-FREQUENCY'),\n",
       " ('day', 'I-FREQUENCY'),\n",
       " ('.', 'O'),\n",
       " ('It', 'O'),\n",
       " ('was', 'O'),\n",
       " ('determined', 'O'),\n",
       " ('that', 'O'),\n",
       " ('all', 'O'),\n",
       " ('SGLT2', 'B-DRUG'),\n",
       " ('inhibitors', 'I-DRUG'),\n",
       " ('should', 'O'),\n",
       " ('be', 'O'),\n",
       " ('discontinued', 'O'),\n",
       " ('indefinitely', 'O'),\n",
       " ('fro', 'O'),\n",
       " ('3', 'O'),\n",
       " ('months', 'O'),\n",
       " ('.', 'O')]"
      ]
     },
     "execution_count": 98,
     "metadata": {},
     "output_type": "execute_result"
    }
   ],
   "source": [
    "light_model = nlp.LightPipeline(ner_chunker_model)\n",
    "\n",
    "text ='The patient was prescribed 1 capsule of Advil for 5 days . He was seen by the endocrinology service and she was discharged on 40 units of insulin glargine at night , 12 units of insulin lispro with meals , metformin 1000 mg two times a day . It was determined that all SGLT2 inhibitors should be discontinued indefinitely fro 3 months .'\n",
    "\n",
    "light_result = light_model.annotate(text)\n",
    "\n",
    "list(zip(light_result['token'], light_result['ner']))"
   ]
  },
  {
   "cell_type": "code",
   "execution_count": 0,
   "metadata": {
    "application/vnd.databricks.v1+cell": {
     "cellMetadata": {
      "byteLimit": 2048000,
      "rowLimit": 10000
     },
     "inputWidgets": {},
     "nuid": "455500e0-2c25-4b90-980b-28181025195e",
     "showTitle": false,
     "tableResultSettingsMap": {},
     "title": ""
    }
   },
   "outputs": [
    {
     "output_type": "execute_result",
     "data": {
      "text/plain": [
       "['insulin glargine at night , 12 units of insulin lispro with meals , metformin 1000 mg two times a day']"
      ]
     },
     "execution_count": 99,
     "metadata": {},
     "output_type": "execute_result"
    }
   ],
   "source": [
    "light_result[\"ner_chunk\"]"
   ]
  },
  {
   "cell_type": "markdown",
   "metadata": {
    "application/vnd.databricks.v1+cell": {
     "cellMetadata": {
      "byteLimit": 2048000,
      "rowLimit": 10000
     },
     "inputWidgets": {},
     "nuid": "9c38e21e-86bc-4666-a7a7-c6c17e0ce94b",
     "showTitle": false,
     "tableResultSettingsMap": {},
     "title": ""
    }
   },
   "source": [
    "## Chunk Filterer\n",
    "ChunkFilterer will allow you to filter out named entities by some conditions or predefined look-up lists, so that you can feed these entities to other annotators like Assertion Status or Entity Resolvers. It can be used with two criteria: isin and regex."
   ]
  },
  {
   "cell_type": "code",
   "execution_count": 0,
   "metadata": {
    "application/vnd.databricks.v1+cell": {
     "cellMetadata": {
      "byteLimit": 2048000,
      "rowLimit": 10000
     },
     "inputWidgets": {},
     "nuid": "ce636d1f-7cd4-45af-8c16-80be5cb533a3",
     "showTitle": false,
     "tableResultSettingsMap": {},
     "title": ""
    }
   },
   "outputs": [
    {
     "output_type": "stream",
     "name": "stdout",
     "output_type": "stream",
     "text": [
      "ner_posology download started this may take some time.\n\r[ | ]\r[OK!]\n"
     ]
    }
   ],
   "source": [
    "posology_ner = medical.NerModel.pretrained(\"ner_posology\", \"en\", \"clinical/models\") \\\n",
    "    .setInputCols([\"sentence\", \"token\", \"embeddings\"]) \\\n",
    "    .setOutputCol(\"ner\")\n",
    "\n",
    "ner_converter = nlp.NerConverter()\\\n",
    "    .setInputCols([\"sentence\",\"token\",\"ner\"])\\\n",
    "    .setOutputCol(\"ner_chunk\")\n",
    "      \n",
    "chunk_filterer = medical.ChunkFilterer()\\\n",
    "    .setInputCols(\"sentence\",\"ner_chunk\")\\\n",
    "    .setOutputCol(\"chunk_filtered\")\\\n",
    "    .setCriteria(\"isin\")\\\n",
    "    .setWhiteList(['Advil','metformin', 'insulin lispro'])\n",
    "\n",
    "nlpPipeline = nlp.Pipeline(stages=[\n",
    "    documentAssembler, \n",
    "    sentenceDetector,\n",
    "    tokenizer,\n",
    "    word_embeddings,\n",
    "    posology_ner,\n",
    "    ner_converter,\n",
    "    chunk_filterer])\n",
    "\n",
    "empty_data = spark.createDataFrame([[\"\"]]).toDF(\"text\")\n",
    "\n",
    "chunk_filter_model = nlpPipeline.fit(empty_data)"
   ]
  },
  {
   "cell_type": "code",
   "execution_count": 0,
   "metadata": {
    "application/vnd.databricks.v1+cell": {
     "cellMetadata": {
      "byteLimit": 2048000,
      "rowLimit": 10000
     },
     "inputWidgets": {},
     "nuid": "bd3ebc5c-5893-4bf2-b3f2-920f4e0faa4f",
     "showTitle": false,
     "tableResultSettingsMap": {},
     "title": ""
    }
   },
   "outputs": [
    {
     "output_type": "execute_result",
     "data": {
      "text/plain": [
       "dict_keys(['document', 'ner_chunk', 'chunk_filtered', 'token', 'ner', 'embeddings', 'sentence'])"
      ]
     },
     "execution_count": 101,
     "metadata": {},
     "output_type": "execute_result"
    }
   ],
   "source": [
    "light_model = nlp.LightPipeline(chunk_filter_model)\n",
    "\n",
    "text ='The patient was prescribed 1 capsule of Advil for 5 days . He was seen by the endocrinology service and she was discharged on 40 units of insulin glargine at night , 12 units of insulin lispro with meals , metformin 1000 mg two times a day . It was determined that all SGLT2 inhibitors should be discontinued indefinitely fro 3 months .'\n",
    "\n",
    "light_result = light_model.annotate(text)\n",
    "\n",
    "light_result.keys()"
   ]
  },
  {
   "cell_type": "code",
   "execution_count": 0,
   "metadata": {
    "application/vnd.databricks.v1+cell": {
     "cellMetadata": {
      "byteLimit": 2048000,
      "rowLimit": 10000
     },
     "inputWidgets": {},
     "nuid": "b03f3fb1-ec01-4917-9536-b3c58f530603",
     "showTitle": false,
     "tableResultSettingsMap": {},
     "title": ""
    }
   },
   "outputs": [
    {
     "output_type": "execute_result",
     "data": {
      "text/plain": [
       "['1',\n",
       " 'capsule',\n",
       " 'Advil',\n",
       " 'for 5 days',\n",
       " '40 units',\n",
       " 'insulin glargine',\n",
       " 'at night',\n",
       " '12 units',\n",
       " 'insulin lispro',\n",
       " 'with meals',\n",
       " 'metformin',\n",
       " '1000 mg',\n",
       " 'two times a day',\n",
       " 'SGLT2 inhibitors']"
      ]
     },
     "execution_count": 102,
     "metadata": {},
     "output_type": "execute_result"
    }
   ],
   "source": [
    "light_result['ner_chunk'] "
   ]
  },
  {
   "cell_type": "code",
   "execution_count": 0,
   "metadata": {
    "application/vnd.databricks.v1+cell": {
     "cellMetadata": {
      "byteLimit": 2048000,
      "rowLimit": 10000
     },
     "inputWidgets": {},
     "nuid": "acbfe607-af86-4183-b382-940fd8d7f646",
     "showTitle": false,
     "tableResultSettingsMap": {},
     "title": ""
    }
   },
   "outputs": [
    {
     "output_type": "execute_result",
     "data": {
      "text/plain": [
       "['Advil', 'insulin lispro', 'metformin']"
      ]
     },
     "execution_count": 103,
     "metadata": {},
     "output_type": "execute_result"
    }
   ],
   "source": [
    "light_result[\"chunk_filtered\"]"
   ]
  },
  {
   "cell_type": "code",
   "execution_count": 0,
   "metadata": {
    "application/vnd.databricks.v1+cell": {
     "cellMetadata": {
      "byteLimit": 2048000,
      "rowLimit": 10000
     },
     "inputWidgets": {},
     "nuid": "55ea3fd0-594d-4279-bc58-e8d1fcf3c753",
     "showTitle": false,
     "tableResultSettingsMap": {},
     "title": ""
    }
   },
   "outputs": [
    {
     "output_type": "stream",
     "name": "stdout",
     "output_type": "stream",
     "text": [
      "ner_clinical download started this may take some time.\n\r[ | ]\r[OK!]\n"
     ]
    }
   ],
   "source": [
    "ner_model = medical.NerModel.pretrained(\"ner_clinical\", \"en\", \"clinical/models\")\\\n",
    "    .setInputCols(\"sentence\",\"token\",\"embeddings\")\\\n",
    "    .setOutputCol(\"ner\")\n",
    "\n",
    "ner_converter = nlp.NerConverter()\\\n",
    "    .setInputCols([\"sentence\",\"token\",\"ner\"])\\\n",
    "    .setOutputCol(\"ner_chunk\")\n",
    "    \n",
    "chunk_filterer = medical.ChunkFilterer()\\\n",
    "    .setInputCols(\"sentence\",\"ner_chunk\")\\\n",
    "    .setOutputCol(\"chunk_filtered\")\\\n",
    "    .setCriteria(\"isin\")\\\n",
    "    .setWhiteList(['severe fever','sore throat'])\n",
    "\n",
    "#   .setCriteria(\"regex\")\\\n",
    "\n",
    "nlpPipeline = nlp.Pipeline(stages=[\n",
    "    documentAssembler, \n",
    "    sentenceDetector,\n",
    "    tokenizer,\n",
    "    word_embeddings,\n",
    "    ner_model,\n",
    "    ner_converter,\n",
    "    chunk_filterer])\n",
    "\n",
    "empty_data = spark.createDataFrame([[\"\"]]).toDF(\"text\")\n",
    "\n",
    "chunk_filter_model = nlpPipeline.fit(empty_data)"
   ]
  },
  {
   "cell_type": "code",
   "execution_count": 0,
   "metadata": {
    "application/vnd.databricks.v1+cell": {
     "cellMetadata": {
      "byteLimit": 2048000,
      "rowLimit": 10000
     },
     "inputWidgets": {},
     "nuid": "1e2935d4-ba38-4fb2-954a-4a6ee95aca3e",
     "showTitle": false,
     "tableResultSettingsMap": {},
     "title": ""
    }
   },
   "outputs": [],
   "source": [
    "text = 'Patient with severe fever, severe cough, sore throat, stomach pain, and a headache.'\n",
    "\n",
    "filter_df = spark.createDataFrame([[text]]).toDF(\"text\")\n",
    "\n",
    "chunk_filter_result = chunk_filter_model.transform(filter_df)"
   ]
  },
  {
   "cell_type": "code",
   "execution_count": 0,
   "metadata": {
    "application/vnd.databricks.v1+cell": {
     "cellMetadata": {
      "byteLimit": 2048000,
      "rowLimit": 10000
     },
     "inputWidgets": {},
     "nuid": "76098683-4f06-487a-b764-b9eafde42f58",
     "showTitle": false,
     "tableResultSettingsMap": {},
     "title": ""
    }
   },
   "outputs": [
    {
     "output_type": "stream",
     "name": "stdout",
     "output_type": "stream",
     "text": [
      "+-------------------------------------------------------------------+---------------------------+\n|result                                                             |result                     |\n+-------------------------------------------------------------------+---------------------------+\n|[severe fever, severe cough, sore throat, stomach pain, a headache]|[severe fever, sore throat]|\n+-------------------------------------------------------------------+---------------------------+\n\n"
     ]
    }
   ],
   "source": [
    "chunk_filter_result.select('ner_chunk.result','chunk_filtered.result').show(truncate=False)"
   ]
  },
  {
   "cell_type": "markdown",
   "metadata": {
    "application/vnd.databricks.v1+cell": {
     "cellMetadata": {},
     "inputWidgets": {},
     "nuid": "557ee9b8-8018-4775-8afd-234eea8d7c49",
     "showTitle": false,
     "tableResultSettingsMap": {},
     "title": ""
    }
   },
   "source": [
    "## ChunkFiltererApproach\n",
    "ChunkFiltererApproach will allow you to enhance filtering by using JSON-Based Entity Confidence Configuration.\n",
    "\n",
    "  + `.setEntitiesConfidenceResourceAsJsonString`: You can   fine tune entity confidence levels using a JSON configuration."
   ]
  },
  {
   "cell_type": "code",
   "execution_count": 0,
   "metadata": {
    "application/vnd.databricks.v1+cell": {
     "cellMetadata": {
      "byteLimit": 2048000,
      "rowLimit": 10000
     },
     "inputWidgets": {},
     "nuid": "be3b04fe-7d3f-44f4-bf60-9fbb606ea3ad",
     "showTitle": false,
     "tableResultSettingsMap": {},
     "title": ""
    }
   },
   "outputs": [],
   "source": [
    "chunk_filterer = medical.ChunkFiltererApproach()\\\n",
    "    .setInputCols(\"sentence\",\"ner_chunk\")\\\n",
    "    .setOutputCol(\"chunk_filtered\")\\\n",
    "    .setFilterEntity(\"entity\")\\\n",
    "    .setEntitiesConfidenceResourceAsJsonString(\"\"\"{'DURATION':'0.9',\n",
    "                                                  'DOSAGE':'0.9',\n",
    "                                                  'FREQUENCY':'0.9',\n",
    "                                                  'STRENGTH':'0.9',\n",
    "                                                  'DRUG':'0.9'}\"\"\")\n",
    "\n",
    "text ='The patient was prescribed 1 capsule of Advil for 5 days . He was seen by the endocrinology service and she was discharged on 40 units of insulin glargine at night , 12 units of insulin lispro with meals , metformin 1000 mg two times a day . It was determined that all SGLT2 inhibitors should be discontinued indefinitely fro 3 months .'"
   ]
  },
  {
   "cell_type": "markdown",
   "metadata": {
    "application/vnd.databricks.v1+cell": {
     "cellMetadata": {
      "byteLimit": 2048000,
      "rowLimit": 10000
     },
     "inputWidgets": {},
     "nuid": "05db50e9-2bab-4deb-95ae-de242c6143e4",
     "showTitle": false,
     "tableResultSettingsMap": {},
     "title": ""
    }
   },
   "source": [
    "## Changing entity labels with `NerConverterInternal()`\n",
    "\n",
    "There are two parameters in `NerConverterInternal()` annotator for replacing the labels. \n",
    "\n",
    "+ `.setReplaceLabels`: You can just create a dictionary with the labels and their new values in this parameter.\n",
    "\n",
    "```python\n",
    "jsl_ner_converter_internal = medical.NerConverterInternal()\\\n",
    "    .setInputCols([\"sentence\",\"token\",\"jsl_ner\"])\\\n",
    "    .setOutputCol(\"replaced_ner_chunk\")\\\n",
    "    .setReplaceLabels({\"Drug_BrandName\": \"Drug\",\n",
    "                       \"Frequency\": \"Drug_Frequency\",\n",
    "                       \"Dosage\": \"Drug_Dosage\",\n",
    "                       \"Strength\": \"Drug_Strength\"})\n",
    "```\n",
    "\n",
    "+ `.setReplaceDictResource`: You can feed a file that contains the labels and their new values in a dictionary format. \n",
    "\n",
    "```python\n",
    "replace_dict = \"\"\"Drug_BrandName,Drug\n",
    "Frequency,Drug_Frequency\n",
    "Dosage,Drug_Dosage\n",
    "Strength,Drug_Strength\n",
    "\"\"\"\n",
    "with open('replace_dict.csv', 'w') as f:\n",
    "    f.write(replace_dict)\n",
    "\n",
    "...\n",
    "jsl_ner_converter_internal = medical.NerConverterInternal()\\\n",
    "    .setInputCols([\"sentence\",\"token\",\"jsl_ner\"])\\\n",
    "    .setOutputCol(\"replaced_ner_chunk\")\\\n",
    "    .setReplaceDictResource(\"replace_dict.csv\",\"text\", {\"delimiter\":\",\"})\n",
    "...\n",
    "```\n",
    "\n",
    "\n",
    "\n",
    "You can check [NerConverterInternal Annotator Page](https://nlp.johnsnowlabs.com/docs/en/licensed_annotators#nerconverterinternal) for more details."
   ]
  },
  {
   "cell_type": "code",
   "execution_count": 0,
   "metadata": {
    "application/vnd.databricks.v1+cell": {
     "cellMetadata": {
      "byteLimit": 2048000,
      "rowLimit": 10000
     },
     "inputWidgets": {},
     "nuid": "0482c1ec-68e9-49e6-ac84-b640a42861cf",
     "showTitle": false,
     "tableResultSettingsMap": {},
     "title": ""
    }
   },
   "outputs": [
    {
     "output_type": "stream",
     "name": "stdout",
     "output_type": "stream",
     "text": [
      "sentence_detector_dl_healthcare download started this may take some time.\nApproximate size to download 367.3 KB\n\r[ | ]\r[ / ]\r[ — ]\r[ \\ ]\r[ | ]\r[ / ]\r[ — ]\r[ \\ ]\r[ | ]\r[ / ]\r[ — ]\r[ \\ ]\r[ | ]\r[OK!]\nembeddings_clinical download started this may take some time.\nApproximate size to download 1.6 GB\n\r[ | ]\r[ / ]\r[ — ]\r[ \\ ]\r[ | ]\r[ / ]\r[ — ]\r[ \\ ]\r[ | ]\r[ / ]\r[ — ]\r[ \\ ]\r[ | ]\r[ / ]\r[ — ]\r[ \\ ]\r[ | ]\r[ / ]\r[ — ]\r[ \\ ]\r[ | ]\r[ / ]\r[ — ]\r[ \\ ]\r[ | ]\r[ / ]\r[ — ]\r[ \\ ]\r[ | ]\r[ / ]\r[ — ]\r[ \\ ]\r[ | ]\r[ / ]\r[ — ]\r[ \\ ]\r[ | ]\r[ / ]\r[ — ]\r[ \\ ]\r[ | ]\r[ / ]\r[ — ]\r[ \\ ]\r[ | ]\r[OK!]\nner_jsl download started this may take some time.\n\r[ | ]\r[ / ]\r[ — ]\r[ \\ ]\r[ | ]\r[ / ]\r[ — ]\r[ \\ ]\r[ | ]\r[ / ]\r[ — ]\r[ \\ ]\r[ | ]\r[ / ]\r[ — ]\r[ \\ ]\r[ | ]\r[ / ]\r[ — ]\r[ \\ ]\r[ | ]\r[ / ]\r[ — ]\r[ \\ ]\r[ | ]\r[OK!]\n"
     ]
    }
   ],
   "source": [
    "documentAssembler = nlp.DocumentAssembler()\\\n",
    "    .setInputCol(\"text\")\\\n",
    "    .setOutputCol(\"document\")\n",
    "\n",
    "sentenceDetector = nlp.SentenceDetectorDLModel.pretrained(\"sentence_detector_dl_healthcare\",\"en\",\"clinical/models\") \\\n",
    "    .setInputCols([\"document\"]) \\\n",
    "    .setOutputCol(\"sentence\") \n",
    "\n",
    "tokenizer = nlp.Tokenizer()\\\n",
    "    .setInputCols([\"sentence\"])\\\n",
    "    .setOutputCol(\"token\")\n",
    "\n",
    "word_embeddings = nlp.WordEmbeddingsModel.pretrained(\"embeddings_clinical\", \"en\", \"clinical/models\")\\\n",
    "    .setInputCols([\"sentence\", \"token\"])\\\n",
    "    .setOutputCol(\"embeddings\")\n",
    "\n",
    "jsl_ner = medical.NerModel.pretrained(\"ner_jsl\", \"en\", \"clinical/models\") \\\n",
    "    .setInputCols([\"sentence\", \"token\", \"embeddings\"]) \\\n",
    "    .setOutputCol(\"jsl_ner\")\n",
    "\n",
    "jsl_ner_converter = nlp.NerConverter() \\\n",
    "    .setInputCols([\"sentence\", \"token\", \"jsl_ner\"]) \\\n",
    "    .setOutputCol(\"jsl_ner_chunk\")\n",
    "\n",
    "jsl_ner_converter_internal = medical.NerConverterInternal()\\\n",
    "    .setInputCols([\"sentence\",\"token\",\"jsl_ner\"])\\\n",
    "    .setOutputCol(\"replaced_ner_chunk\")\\\n",
    "    .setReplaceLabels({\"Drug_BrandName\": \"Drug\",\n",
    "                       \"Frequency\": \"Drug_Frequency\",\n",
    "                       \"Dosage\": \"Drug_Dosage\",\n",
    "                       \"Strength\": \"Drug_Strength\"})\n",
    "      \n",
    "nlpPipeline = nlp.Pipeline(stages=[\n",
    "    documentAssembler, \n",
    "    sentenceDetector,\n",
    "    tokenizer,\n",
    "    word_embeddings,\n",
    "    jsl_ner,\n",
    "    jsl_ner_converter,\n",
    "    jsl_ner_converter_internal\n",
    "    ])\n",
    "\n",
    "empty_data = spark.createDataFrame([[\"\"]]).toDF(\"text\")\n",
    "ner_converter_model = nlpPipeline.fit(empty_data)"
   ]
  },
  {
   "cell_type": "code",
   "execution_count": 0,
   "metadata": {
    "application/vnd.databricks.v1+cell": {
     "cellMetadata": {
      "byteLimit": 2048000,
      "rowLimit": 10000
     },
     "inputWidgets": {},
     "nuid": "742794e8-1154-4506-b497-f4a567dd5fa7",
     "showTitle": false,
     "tableResultSettingsMap": {},
     "title": ""
    }
   },
   "outputs": [],
   "source": [
    "text ='The patient was prescribed 1 capsule of Parol with meals. He was seen by the endocrinology service and she was discharged on 40 units of insulin glargine at night , 12 units of insulin lispro with meals , and metformin 1000 mg two times a day . It was determined that all SGLT2 inhibitors should be discontinued indefinitely fro 3 months .'\n",
    "\n",
    "light_model = nlp.LightPipeline(ner_converter_model)\n",
    "\n",
    "light_result = light_model.fullAnnotate(text)"
   ]
  },
  {
   "cell_type": "code",
   "execution_count": 0,
   "metadata": {
    "application/vnd.databricks.v1+cell": {
     "cellMetadata": {
      "byteLimit": 2048000,
      "rowLimit": 10000
     },
     "inputWidgets": {},
     "nuid": "288ec445-61c5-4f25-9e85-3c955f7778fb",
     "showTitle": false,
     "tableResultSettingsMap": {},
     "title": ""
    }
   },
   "outputs": [
    {
     "output_type": "execute_result",
     "data": {
      "text/html": [
       "<div>\n",
       "<style scoped>\n",
       "    .dataframe tbody tr th:only-of-type {\n",
       "        vertical-align: middle;\n",
       "    }\n",
       "\n",
       "    .dataframe tbody tr th {\n",
       "        vertical-align: top;\n",
       "    }\n",
       "\n",
       "    .dataframe thead th {\n",
       "        text-align: right;\n",
       "    }\n",
       "</style>\n",
       "<table border=\"1\" class=\"dataframe\">\n",
       "  <thead>\n",
       "    <tr style=\"text-align: right;\">\n",
       "      <th></th>\n",
       "      <th>chunk_id</th>\n",
       "      <th>chunk</th>\n",
       "      <th>begin</th>\n",
       "      <th>end</th>\n",
       "      <th>ner_label</th>\n",
       "      <th>ner_source</th>\n",
       "      <th>ner_confidence</th>\n",
       "    </tr>\n",
       "  </thead>\n",
       "  <tbody>\n",
       "    <tr>\n",
       "      <th>0</th>\n",
       "      <td>756abb2a</td>\n",
       "      <td>1 capsule</td>\n",
       "      <td>27</td>\n",
       "      <td>35</td>\n",
       "      <td>Drug_Dosage</td>\n",
       "      <td>replaced_ner_chunk</td>\n",
       "      <td>0.64855003</td>\n",
       "    </tr>\n",
       "    <tr>\n",
       "      <th>1</th>\n",
       "      <td>bfe47642</td>\n",
       "      <td>Parol</td>\n",
       "      <td>40</td>\n",
       "      <td>44</td>\n",
       "      <td>Drug</td>\n",
       "      <td>replaced_ner_chunk</td>\n",
       "      <td>0.8074</td>\n",
       "    </tr>\n",
       "    <tr>\n",
       "      <th>2</th>\n",
       "      <td>9b96f3df</td>\n",
       "      <td>He</td>\n",
       "      <td>58</td>\n",
       "      <td>59</td>\n",
       "      <td>Gender</td>\n",
       "      <td>replaced_ner_chunk</td>\n",
       "      <td>1.0</td>\n",
       "    </tr>\n",
       "    <tr>\n",
       "      <th>3</th>\n",
       "      <td>41b02293</td>\n",
       "      <td>endocrinology service</td>\n",
       "      <td>77</td>\n",
       "      <td>97</td>\n",
       "      <td>Clinical_Dept</td>\n",
       "      <td>replaced_ner_chunk</td>\n",
       "      <td>0.95285</td>\n",
       "    </tr>\n",
       "    <tr>\n",
       "      <th>4</th>\n",
       "      <td>8e5bcdf9</td>\n",
       "      <td>she</td>\n",
       "      <td>103</td>\n",
       "      <td>105</td>\n",
       "      <td>Gender</td>\n",
       "      <td>replaced_ner_chunk</td>\n",
       "      <td>0.9999</td>\n",
       "    </tr>\n",
       "    <tr>\n",
       "      <th>5</th>\n",
       "      <td>ace96b0e</td>\n",
       "      <td>discharged</td>\n",
       "      <td>111</td>\n",
       "      <td>120</td>\n",
       "      <td>Admission_Discharge</td>\n",
       "      <td>replaced_ner_chunk</td>\n",
       "      <td>0.9998</td>\n",
       "    </tr>\n",
       "    <tr>\n",
       "      <th>6</th>\n",
       "      <td>0dd050e9</td>\n",
       "      <td>40 units</td>\n",
       "      <td>125</td>\n",
       "      <td>132</td>\n",
       "      <td>Drug_Dosage</td>\n",
       "      <td>replaced_ner_chunk</td>\n",
       "      <td>0.7836</td>\n",
       "    </tr>\n",
       "    <tr>\n",
       "      <th>7</th>\n",
       "      <td>1f1ba3ac</td>\n",
       "      <td>insulin glargine</td>\n",
       "      <td>137</td>\n",
       "      <td>152</td>\n",
       "      <td>Drug_Ingredient</td>\n",
       "      <td>replaced_ner_chunk</td>\n",
       "      <td>0.72010005</td>\n",
       "    </tr>\n",
       "    <tr>\n",
       "      <th>8</th>\n",
       "      <td>70e99bb3</td>\n",
       "      <td>at night</td>\n",
       "      <td>154</td>\n",
       "      <td>161</td>\n",
       "      <td>Drug_Frequency</td>\n",
       "      <td>replaced_ner_chunk</td>\n",
       "      <td>0.9096</td>\n",
       "    </tr>\n",
       "    <tr>\n",
       "      <th>9</th>\n",
       "      <td>54f2d377</td>\n",
       "      <td>12 units</td>\n",
       "      <td>165</td>\n",
       "      <td>172</td>\n",
       "      <td>Drug_Dosage</td>\n",
       "      <td>replaced_ner_chunk</td>\n",
       "      <td>0.93044996</td>\n",
       "    </tr>\n",
       "    <tr>\n",
       "      <th>10</th>\n",
       "      <td>42f67ff4</td>\n",
       "      <td>insulin lispro</td>\n",
       "      <td>177</td>\n",
       "      <td>190</td>\n",
       "      <td>Drug_Ingredient</td>\n",
       "      <td>replaced_ner_chunk</td>\n",
       "      <td>0.83075</td>\n",
       "    </tr>\n",
       "    <tr>\n",
       "      <th>11</th>\n",
       "      <td>b531b6d8</td>\n",
       "      <td>with meals</td>\n",
       "      <td>192</td>\n",
       "      <td>201</td>\n",
       "      <td>Drug_Frequency</td>\n",
       "      <td>replaced_ner_chunk</td>\n",
       "      <td>0.93275</td>\n",
       "    </tr>\n",
       "    <tr>\n",
       "      <th>12</th>\n",
       "      <td>702c2c44</td>\n",
       "      <td>metformin</td>\n",
       "      <td>209</td>\n",
       "      <td>217</td>\n",
       "      <td>Drug_Ingredient</td>\n",
       "      <td>replaced_ner_chunk</td>\n",
       "      <td>0.9958</td>\n",
       "    </tr>\n",
       "    <tr>\n",
       "      <th>13</th>\n",
       "      <td>d09b064f</td>\n",
       "      <td>1000 mg</td>\n",
       "      <td>219</td>\n",
       "      <td>225</td>\n",
       "      <td>Drug_Strength</td>\n",
       "      <td>replaced_ner_chunk</td>\n",
       "      <td>0.98765004</td>\n",
       "    </tr>\n",
       "    <tr>\n",
       "      <th>14</th>\n",
       "      <td>8d5067d2</td>\n",
       "      <td>two times a day</td>\n",
       "      <td>227</td>\n",
       "      <td>241</td>\n",
       "      <td>Drug_Frequency</td>\n",
       "      <td>replaced_ner_chunk</td>\n",
       "      <td>0.882375</td>\n",
       "    </tr>\n",
       "    <tr>\n",
       "      <th>15</th>\n",
       "      <td>8bbb4459</td>\n",
       "      <td>SGLT2 inhibitors</td>\n",
       "      <td>272</td>\n",
       "      <td>287</td>\n",
       "      <td>Drug_Ingredient</td>\n",
       "      <td>replaced_ner_chunk</td>\n",
       "      <td>0.84745</td>\n",
       "    </tr>\n",
       "    <tr>\n",
       "      <th>16</th>\n",
       "      <td>88971c8d</td>\n",
       "      <td>fro 3 months</td>\n",
       "      <td>325</td>\n",
       "      <td>336</td>\n",
       "      <td>Duration</td>\n",
       "      <td>replaced_ner_chunk</td>\n",
       "      <td>0.42426667</td>\n",
       "    </tr>\n",
       "  </tbody>\n",
       "</table>\n",
       "</div>"
      ],
      "text/plain": [
       "    chunk_id                  chunk  begin  end            ner_label          ner_source ner_confidence\n",
       "0   756abb2a              1 capsule     27   35          Drug_Dosage  replaced_ner_chunk     0.64855003\n",
       "1   bfe47642                  Parol     40   44                 Drug  replaced_ner_chunk         0.8074\n",
       "2   9b96f3df                     He     58   59               Gender  replaced_ner_chunk            1.0\n",
       "3   41b02293  endocrinology service     77   97        Clinical_Dept  replaced_ner_chunk        0.95285\n",
       "4   8e5bcdf9                    she    103  105               Gender  replaced_ner_chunk         0.9999\n",
       "5   ace96b0e             discharged    111  120  Admission_Discharge  replaced_ner_chunk         0.9998\n",
       "6   0dd050e9               40 units    125  132          Drug_Dosage  replaced_ner_chunk         0.7836\n",
       "7   1f1ba3ac       insulin glargine    137  152      Drug_Ingredient  replaced_ner_chunk     0.72010005\n",
       "8   70e99bb3               at night    154  161       Drug_Frequency  replaced_ner_chunk         0.9096\n",
       "9   54f2d377               12 units    165  172          Drug_Dosage  replaced_ner_chunk     0.93044996\n",
       "10  42f67ff4         insulin lispro    177  190      Drug_Ingredient  replaced_ner_chunk        0.83075\n",
       "11  b531b6d8             with meals    192  201       Drug_Frequency  replaced_ner_chunk        0.93275\n",
       "12  702c2c44              metformin    209  217      Drug_Ingredient  replaced_ner_chunk         0.9958\n",
       "13  d09b064f                1000 mg    219  225        Drug_Strength  replaced_ner_chunk     0.98765004\n",
       "14  8d5067d2        two times a day    227  241       Drug_Frequency  replaced_ner_chunk       0.882375\n",
       "15  8bbb4459       SGLT2 inhibitors    272  287      Drug_Ingredient  replaced_ner_chunk        0.84745\n",
       "16  88971c8d           fro 3 months    325  336             Duration  replaced_ner_chunk     0.42426667"
      ]
     },
     "execution_count": 5,
     "metadata": {},
     "output_type": "execute_result"
    }
   ],
   "source": [
    "column_maps = {\n",
    "    'document_identifier': 'ner_change_entities_pipeline',\n",
    "    'document_text': 'document',\n",
    "    'entities': ['replaced_ner_chunk'],\n",
    "    'assertions': [],\n",
    "    'resolutions': [],\n",
    "    'relations': [],\n",
    "    'summaries': [],\n",
    "    'deidentifications': [],\n",
    "    'classifications': []\n",
    "}\n",
    "\n",
    "\n",
    "pipeline_parser = medical.PipelineOutputParser(column_maps)\n",
    "result = pipeline_parser.run(light_result)\n",
    "\n",
    "pd.DataFrame.from_dict(result[\"result\"][0][\"entities\"])"
   ]
  },
  {
   "cell_type": "markdown",
   "metadata": {
    "application/vnd.databricks.v1+cell": {
     "cellMetadata": {
      "byteLimit": 2048000,
      "rowLimit": 10000
     },
     "inputWidgets": {},
     "nuid": "d2dfc050-c2bf-405c-bf22-86af8aed6057",
     "showTitle": false,
     "tableResultSettingsMap": {},
     "title": ""
    }
   },
   "source": [
    "### Adding `setIgnoreStopWords` parameter to control chunk generation.\n",
    "By providing `setIgnoreStopWords`, we can ignore certain words or characters while creating a chunk. <br/>\n",
    "\n",
    "It should be a list of tokens/words or characters, and when two entities of the same type are separated by those words, these entities can be combined to produce a single, larger chunk.\n",
    "\n",
    "\n",
    "\n",
    "Firstly let's create `NerConverterInternal()` without this parameter"
   ]
  },
  {
   "cell_type": "code",
   "execution_count": 0,
   "metadata": {
    "application/vnd.databricks.v1+cell": {
     "cellMetadata": {
      "byteLimit": 2048000,
      "rowLimit": 10000
     },
     "inputWidgets": {},
     "nuid": "b161544d-961d-46ac-b715-8e14f86c83b7",
     "showTitle": false,
     "tableResultSettingsMap": {},
     "title": ""
    }
   },
   "outputs": [
    {
     "output_type": "stream",
     "name": "stdout",
     "output_type": "stream",
     "text": [
      "ner_deid_generic_augmented download started this may take some time.\n\r[ | ]\r[ / ]\r[OK!]\n"
     ]
    }
   ],
   "source": [
    "jsl_ner= medical.NerModel.pretrained(\"ner_deid_generic_augmented\", \"en\", \"clinical/models\")\\\n",
    "    .setInputCols([\"sentence\", \"token\", \"embeddings\"])\\\n",
    "    .setOutputCol(\"ner_deid\")\\\n",
    "    .setLabelCasing('upper')\n",
    "\n",
    "jsl_ner_converter_internal= medical.NerConverterInternal()\\\n",
    "    .setInputCols([\"sentence\", \"token\", \"ner_deid\"])\\\n",
    "    .setOutputCol(\"chunk_deid\")\\\n",
    "    .setGreedyMode(True)\\\n",
    "    .setWhiteList(['LOCATION'])\n",
    "      \n",
    "nlpPipeline = nlp.Pipeline(stages=[\n",
    "    documentAssembler, \n",
    "    sentenceDetector,\n",
    "    tokenizer,\n",
    "    word_embeddings,\n",
    "    jsl_ner,\n",
    "    jsl_ner_converter_internal\n",
    "    ])\n",
    "\n",
    "empty_data = spark.createDataFrame([[\"\"]]).toDF(\"text\")\n",
    "ner_converter_model = nlpPipeline.fit(empty_data)"
   ]
  },
  {
   "cell_type": "code",
   "execution_count": 0,
   "metadata": {
    "application/vnd.databricks.v1+cell": {
     "cellMetadata": {
      "byteLimit": 2048000,
      "rowLimit": 10000
     },
     "inputWidgets": {},
     "nuid": "f1bbd128-976e-4a7f-ae8b-13edd9d783b3",
     "showTitle": false,
     "tableResultSettingsMap": {},
     "title": ""
    }
   },
   "outputs": [
    {
     "output_type": "display_data",
     "data": {
      "text/html": [
       "\n",
       "<style>\n",
       "    @import url('https://fonts.googleapis.com/css2?family=Montserrat:wght@300;400;500;600;700&display=swap');\n",
       "    @import url('https://fonts.googleapis.com/css2?family=Vistol Regular:wght@300;400;500;600;700&display=swap');\n",
       "    \n",
       "    .spark-nlp-display-scroll-entities {\n",
       "        border: 1px solid #E7EDF0;\n",
       "        border-radius: 3px;\n",
       "        text-align: justify;\n",
       "        \n",
       "    }\n",
       "    .spark-nlp-display-scroll-entities span {  \n",
       "        font-size: 14px;\n",
       "        line-height: 24px;\n",
       "        color: #536B76;\n",
       "        font-family: 'Montserrat', sans-serif !important;\n",
       "    }\n",
       "    \n",
       "    .spark-nlp-display-entity-wrapper{\n",
       "    \n",
       "        display: inline-grid;\n",
       "        text-align: center;\n",
       "        border-radius: 4px;\n",
       "        margin: 0 2px 5px 2px;\n",
       "        padding: 1px\n",
       "    }\n",
       "    .spark-nlp-display-entity-name{\n",
       "        font-size: 14px;\n",
       "        line-height: 24px;\n",
       "        font-family: 'Montserrat', sans-serif !important;\n",
       "        \n",
       "        background: #f1f2f3;\n",
       "        border-width: medium;\n",
       "        text-align: center;\n",
       "        \n",
       "        font-weight: 400;\n",
       "        \n",
       "        border-radius: 5px;\n",
       "        padding: 2px 5px;\n",
       "        display: block;\n",
       "        margin: 3px 2px;\n",
       "    \n",
       "    }\n",
       "    .spark-nlp-display-entity-type{\n",
       "        font-size: 14px;\n",
       "        line-height: 24px;\n",
       "        color: #ffffff;\n",
       "        font-family: 'Montserrat', sans-serif !important;\n",
       "        \n",
       "        text-transform: uppercase;\n",
       "        \n",
       "        font-weight: 500;\n",
       "\n",
       "        display: block;\n",
       "        padding: 3px 5px;\n",
       "    }\n",
       "    \n",
       "    .spark-nlp-display-entity-resolution{\n",
       "        font-size: 14px;\n",
       "        line-height: 24px;\n",
       "        color: #ffffff;\n",
       "        font-family: 'Vistol Regular', sans-serif !important;\n",
       "        \n",
       "        text-transform: uppercase;\n",
       "        \n",
       "        font-weight: 500;\n",
       "\n",
       "        display: block;\n",
       "        padding: 3px 5px;\n",
       "    }\n",
       "    \n",
       "    .spark-nlp-display-others{\n",
       "        font-size: 14px;\n",
       "        line-height: 24px;\n",
       "        font-family: 'Montserrat', sans-serif !important;\n",
       "        \n",
       "        font-weight: 400;\n",
       "    }\n",
       "\n",
       "</style>\n",
       " <span class=\"spark-nlp-display-others\" style=\"background-color: white\"><br>The address of the manufacturer:<br></span><span class=\"spark-nlp-display-entity-wrapper\" style=\"background-color: #495CB2\"><span class=\"spark-nlp-display-entity-name\">R K Industry House </span><span class=\"spark-nlp-display-entity-type\">LOCATION</span></span><span class=\"spark-nlp-display-others\" style=\"background-color: white\">, </span><span class=\"spark-nlp-display-entity-wrapper\" style=\"background-color: #495CB2\"><span class=\"spark-nlp-display-entity-name\">Walbhat Rd </span><span class=\"spark-nlp-display-entity-type\">LOCATION</span></span><span class=\"spark-nlp-display-others\" style=\"background-color: white\"><br></span><span class=\"spark-nlp-display-entity-wrapper\" style=\"background-color: #495CB2\"><span class=\"spark-nlp-display-entity-name\">Mumbai </span><span class=\"spark-nlp-display-entity-type\">LOCATION</span></span><span class=\"spark-nlp-display-others\" style=\"background-color: white\">, </span><span class=\"spark-nlp-display-entity-wrapper\" style=\"background-color: #495CB2\"><span class=\"spark-nlp-display-entity-name\">Maharashtra </span><span class=\"spark-nlp-display-entity-type\">LOCATION</span></span><span class=\"spark-nlp-display-others\" style=\"background-color: white\">, </span><span class=\"spark-nlp-display-entity-wrapper\" style=\"background-color: #495CB2\"><span class=\"spark-nlp-display-entity-name\">India </span><span class=\"spark-nlp-display-entity-type\">LOCATION</span></span><span class=\"spark-nlp-display-others\" style=\"background-color: white\"> <br></span></div>"
      ]
     },
     "metadata": {},
     "output_type": "display_data"
    }
   ],
   "source": [
    "text = \"\"\"\n",
    "The address of the manufacturer:\n",
    "R K Industry House, Walbhat Rd\n",
    "Mumbai, Maharashtra, India \n",
    "\"\"\"\n",
    "\n",
    "lmodel= nlp.LightPipeline(ner_converter_model)\n",
    "res = lmodel.fullAnnotate(text)[0]\n",
    "\n",
    "ner_vis = nlp.viz.NerVisualizer().display(res, label_col='chunk_deid', document_col='document', return_html=True)\n",
    "\n",
    "displayHTML(ner_vis)"
   ]
  },
  {
   "cell_type": "markdown",
   "metadata": {
    "application/vnd.databricks.v1+cell": {
     "cellMetadata": {
      "byteLimit": 2048000,
      "rowLimit": 10000
     },
     "inputWidgets": {},
     "nuid": "bf49d687-a99f-41de-a43e-6a47a3856f34",
     "showTitle": false,
     "tableResultSettingsMap": {},
     "title": ""
    }
   },
   "source": [
    "Now, let's define some characters and words with the `setIgnoreStopWords()` parameter and see the difference between the chunks."
   ]
  },
  {
   "cell_type": "code",
   "execution_count": 0,
   "metadata": {
    "application/vnd.databricks.v1+cell": {
     "cellMetadata": {
      "byteLimit": 2048000,
      "rowLimit": 10000
     },
     "inputWidgets": {},
     "nuid": "7bbd146e-76d9-4287-8119-06b82245773e",
     "showTitle": false,
     "tableResultSettingsMap": {},
     "title": ""
    }
   },
   "outputs": [],
   "source": [
    "jsl_ner_converter_internal= medical.NerConverterInternal()\\\n",
    "    .setInputCols([\"sentence\", \"token\", \"ner_deid\"])\\\n",
    "    .setOutputCol(\"chunk_deid\")\\\n",
    "    .setGreedyMode(True)\\\n",
    "    .setWhiteList(['LOCATION'])\\\n",
    "    .setIgnoreStopWords(['\\n', ',', \"and\", 'or', '.'])\n",
    "      \n",
    "nlpPipeline = nlp.Pipeline(stages=[\n",
    "    documentAssembler, \n",
    "    sentenceDetector,\n",
    "    tokenizer,\n",
    "    word_embeddings,\n",
    "    jsl_ner,\n",
    "    jsl_ner_converter_internal\n",
    "    ])\n",
    "\n",
    "empty_data = spark.createDataFrame([[\"\"]]).toDF(\"text\")\n",
    "ner_converter_model = nlpPipeline.fit(empty_data)"
   ]
  },
  {
   "cell_type": "code",
   "execution_count": 0,
   "metadata": {
    "application/vnd.databricks.v1+cell": {
     "cellMetadata": {
      "byteLimit": 2048000,
      "rowLimit": 10000
     },
     "inputWidgets": {},
     "nuid": "086b6a4a-1a11-45f3-ac42-3f6de6fe86e7",
     "showTitle": false,
     "tableResultSettingsMap": {},
     "title": ""
    }
   },
   "outputs": [
    {
     "output_type": "display_data",
     "data": {
      "text/html": [
       "\n",
       "<style>\n",
       "    @import url('https://fonts.googleapis.com/css2?family=Montserrat:wght@300;400;500;600;700&display=swap');\n",
       "    @import url('https://fonts.googleapis.com/css2?family=Vistol Regular:wght@300;400;500;600;700&display=swap');\n",
       "    \n",
       "    .spark-nlp-display-scroll-entities {\n",
       "        border: 1px solid #E7EDF0;\n",
       "        border-radius: 3px;\n",
       "        text-align: justify;\n",
       "        \n",
       "    }\n",
       "    .spark-nlp-display-scroll-entities span {  \n",
       "        font-size: 14px;\n",
       "        line-height: 24px;\n",
       "        color: #536B76;\n",
       "        font-family: 'Montserrat', sans-serif !important;\n",
       "    }\n",
       "    \n",
       "    .spark-nlp-display-entity-wrapper{\n",
       "    \n",
       "        display: inline-grid;\n",
       "        text-align: center;\n",
       "        border-radius: 4px;\n",
       "        margin: 0 2px 5px 2px;\n",
       "        padding: 1px\n",
       "    }\n",
       "    .spark-nlp-display-entity-name{\n",
       "        font-size: 14px;\n",
       "        line-height: 24px;\n",
       "        font-family: 'Montserrat', sans-serif !important;\n",
       "        \n",
       "        background: #f1f2f3;\n",
       "        border-width: medium;\n",
       "        text-align: center;\n",
       "        \n",
       "        font-weight: 400;\n",
       "        \n",
       "        border-radius: 5px;\n",
       "        padding: 2px 5px;\n",
       "        display: block;\n",
       "        margin: 3px 2px;\n",
       "    \n",
       "    }\n",
       "    .spark-nlp-display-entity-type{\n",
       "        font-size: 14px;\n",
       "        line-height: 24px;\n",
       "        color: #ffffff;\n",
       "        font-family: 'Montserrat', sans-serif !important;\n",
       "        \n",
       "        text-transform: uppercase;\n",
       "        \n",
       "        font-weight: 500;\n",
       "\n",
       "        display: block;\n",
       "        padding: 3px 5px;\n",
       "    }\n",
       "    \n",
       "    .spark-nlp-display-entity-resolution{\n",
       "        font-size: 14px;\n",
       "        line-height: 24px;\n",
       "        color: #ffffff;\n",
       "        font-family: 'Vistol Regular', sans-serif !important;\n",
       "        \n",
       "        text-transform: uppercase;\n",
       "        \n",
       "        font-weight: 500;\n",
       "\n",
       "        display: block;\n",
       "        padding: 3px 5px;\n",
       "    }\n",
       "    \n",
       "    .spark-nlp-display-others{\n",
       "        font-size: 14px;\n",
       "        line-height: 24px;\n",
       "        font-family: 'Montserrat', sans-serif !important;\n",
       "        \n",
       "        font-weight: 400;\n",
       "    }\n",
       "\n",
       "</style>\n",
       " <span class=\"spark-nlp-display-others\" style=\"background-color: white\"><br>The address of the manufacturer:<br></span><span class=\"spark-nlp-display-entity-wrapper\" style=\"background-color: #2D4074\"><span class=\"spark-nlp-display-entity-name\">R K Industry House, Walbhat Rd </span><span class=\"spark-nlp-display-entity-type\">LOCATION</span></span><span class=\"spark-nlp-display-others\" style=\"background-color: white\"><br></span><span class=\"spark-nlp-display-entity-wrapper\" style=\"background-color: #2D4074\"><span class=\"spark-nlp-display-entity-name\">Mumbai, Maharashtra, India </span><span class=\"spark-nlp-display-entity-type\">LOCATION</span></span><span class=\"spark-nlp-display-others\" style=\"background-color: white\"> <br></span></div>"
      ]
     },
     "metadata": {},
     "output_type": "display_data"
    }
   ],
   "source": [
    "lmodel= nlp.LightPipeline(ner_converter_model)\n",
    "res = lmodel.fullAnnotate(text)[0]\n",
    "\n",
    "ner_vis = nlp.viz.NerVisualizer().display(res, label_col='chunk_deid', document_col='document', return_html=True)\n",
    "\n",
    "displayHTML(ner_vis)"
   ]
  },
  {
   "cell_type": "markdown",
   "metadata": {
    "application/vnd.databricks.v1+cell": {
     "cellMetadata": {
      "byteLimit": 2048000,
      "rowLimit": 10000
     },
     "inputWidgets": {},
     "nuid": "ef885355-e598-42ed-8e54-5b1052a06760",
     "showTitle": false,
     "tableResultSettingsMap": {},
     "title": ""
    }
   },
   "source": [
    "## Downloading Pretrained Models\n",
    "\n",
    "- When we use `.pretrained` method, model is downloaded to  a folder named `cache_pretrained` automatically and it is loaded from this folder if you run it again.\n",
    "\n",
    "- In order to download the models manually to any folder, you can use `ResourceDownloader.downloadModelDirectly` from `sparknlp.pretrained` or AWS CLI (steps below). In this case you should use `.load()` method.\n",
    "\n",
    "  - Install AWS CLI to your local computer following the steps [here](https://docs.aws.amazon.com/cli/latest/userguide/install-cliv2-linux.html) for Linux and [here](https://docs.aws.amazon.com/cli/latest/userguide/install-cliv2-mac.html) for MacOS.\n",
    "\n",
    "  - Then configure your AWS credentials.\n",
    "\n",
    "  - Go to models hub and look for the model you need.\n",
    "\n",
    "  - Select the model you found and you will see the model card that shows all the details about that model.\n",
    "\n",
    "  - Hover the Download button on that page and you will see the download link from the S3 bucket."
   ]
  },
  {
   "cell_type": "code",
   "execution_count": 0,
   "metadata": {
    "application/vnd.databricks.v1+cell": {
     "cellMetadata": {
      "byteLimit": 2048000,
      "rowLimit": 10000
     },
     "inputWidgets": {},
     "nuid": "683a84dd-91d5-438b-8df9-8a8db55c86c8",
     "showTitle": false,
     "tableResultSettingsMap": {},
     "title": ""
    }
   },
   "outputs": [],
   "source": [
    "#The first argument is the path to the zip file and the second one is the folder.\n",
    "nlp.ResourceDownloader.downloadModelDirectly(\"clinical/models/ner_jsl_en_3.1.0_2.4_1624566960534.zip\", \"cache_pretrained\")  \n",
    "\n",
    "#or you can use the classic AWS CLI \n",
    "# !aws s3 cp --region us-east-2 s3://auxdata.johnsnowlabs.com/clinical/models/ner_jsl_en_3.1.0_2.4_1624566960534.zip ."
   ]
  },
  {
   "cell_type": "markdown",
   "metadata": {
    "application/vnd.databricks.v1+cell": {
     "cellMetadata": {
      "byteLimit": 2048000,
      "rowLimit": 10000
     },
     "inputWidgets": {},
     "nuid": "6eac9e2b-d89d-498f-98f6-7fd69c66149e",
     "showTitle": false,
     "tableResultSettingsMap": {},
     "title": ""
    }
   },
   "source": [
    "## Training a Clinical NER (NCBI Disease Dataset)"
   ]
  },
  {
   "cell_type": "markdown",
   "metadata": {
    "application/vnd.databricks.v1+cell": {
     "cellMetadata": {},
     "inputWidgets": {},
     "nuid": "d84e8d7b-e9e8-415d-b601-e541840f4794",
     "showTitle": false,
     "tableResultSettingsMap": {},
     "title": ""
    }
   },
   "source": [
    "`CoNLL(includeDocId=True).readDataset(spark, \"conll_file.txt\")`  this methos can allow if you have doc_id information in the conll file, you can add this information to the dataframe as a column.\n",
    "\n",
    "```\n",
    "conll=\"\"\"-DOCSTART- -X- -1- O\n",
    "\n",
    "EU NNP B-NP B-ORG\n",
    "rejects VBZ B-VP O\n",
    "\n",
    "-DOCSTART- -X- 2 O\n",
    "\n",
    "Rare NNP B-NP O\n",
    "Hendrix NNP I-NP B-PER\n",
    "\n",
    "-DOCSTART- -X- -3-1- O\n",
    "\n",
    "China NNP B-NP B-LOC\n",
    "says VBZ B-VP O\n",
    "\n",
    "-DOCSTART-\n",
    "\n",
    "China NNP B-NP B-LOC\n",
    "says VBZ B-VP O\n",
    "\"\"\"\n",
    "```\n",
    "```\n",
    "with open('conll_file.txt', 'w') as f:\n",
    "    f.write(conll)\n",
    "\n",
    "data = CoNLL(includeDocId=True).readDataset(spark, \"conll_file.txt\")\n",
    "\n",
    "data.show()\n",
    "```\n",
    "\n",
    "\n",
    "\n",
    "```\n",
    "+------+--------------------+--------------------+--------------------+--------------------+--------------------+--------------------+\n",
    "|doc_id|                text|            document|            sentence|               token|                 pos|               label|\n",
    "+------+--------------------+--------------------+--------------------+--------------------+--------------------+--------------------+\n",
    "|     1|EU rejects German...|[{document, 0, 28...|[{document, 0, 47...|[{token, 0, 1, EU...|[{pos, 0, 1, NNP,...|[{named_entity, 0...|\n",
    "|     2|Rare Hendrix song...|[{document, 0, 97...|[{document, 0, 50...|[{token, 0, 3, Ra...|[{pos, 0, 3, NNP,...|[{named_entity, 0...|\n",
    "|   3-1|China says Taiwan...|[{document, 0, 13...|[{document, 0, 46...|[{token, 0, 4, Ch...|[{pos, 0, 4, NNP,...|[{named_entity, 0...|\n",
    "|     X|China says Taiwan...|[{document, 0, 13...|[{document, 0, 46...|[{token, 0, 4, Ch...|[{pos, 0, 4, NNP,...|[{named_entity, 0...|\n",
    "+------+--------------------+--------------------+--------------------+--------------------+--------------------+--------------------+\n",
    "```"
   ]
  },
  {
   "cell_type": "code",
   "execution_count": 0,
   "metadata": {
    "application/vnd.databricks.v1+cell": {
     "cellMetadata": {
      "byteLimit": 2048000,
      "rowLimit": 10000
     },
     "inputWidgets": {},
     "nuid": "ce98b146-55c8-448e-a8f0-1a031234fba9",
     "showTitle": false,
     "tableResultSettingsMap": {},
     "title": ""
    }
   },
   "outputs": [
    {
     "output_type": "execute_result",
     "data": {
      "text/plain": [
       "True"
      ]
     },
     "execution_count": 98,
     "metadata": {},
     "output_type": "execute_result"
    }
   ],
   "source": [
    "# Downloading the files to the local file system\n",
    "!wget -q -O /tmp/NER_NCBIconlltrain.txt https://raw.githubusercontent.com/JohnSnowLabs/spark-nlp-workshop/master/tutorials/Certification_Trainings/Healthcare/data/NER_NCBIconlltrain.txt\n",
    "!wget -q -O /tmp/NER_NCBIconlltest.txt https://raw.githubusercontent.com/JohnSnowLabs/spark-nlp-workshop/master/tutorials/Certification_Trainings/Healthcare/data/NER_NCBIconlltest.txt\n",
    "\n",
    "# Moving the files to DBFS\n",
    "dbutils.fs.cp(\"file:/tmp/NER_NCBIconlltrain.txt\", \"dbfs:/FileStore/NER_NCBIconlltrain.txt\")\n",
    "dbutils.fs.cp(\"file:/tmp/NER_NCBIconlltest.txt\", \"dbfs:/FileStore/NER_NCBIconlltest.txt\")"
   ]
  },
  {
   "cell_type": "code",
   "execution_count": 0,
   "metadata": {
    "application/vnd.databricks.v1+cell": {
     "cellMetadata": {
      "byteLimit": 2048000,
      "rowLimit": 10000
     },
     "inputWidgets": {},
     "nuid": "e278bbaf-1523-4e30-bcf6-44a917ad001d",
     "showTitle": false,
     "tableResultSettingsMap": {},
     "title": ""
    }
   },
   "outputs": [
    {
     "output_type": "display_data",
     "data": {
      "text/html": [
       "<style scoped>\n",
       "  .table-result-container {\n",
       "    max-height: 300px;\n",
       "    overflow: auto;\n",
       "  }\n",
       "  table, th, td {\n",
       "    border: 1px solid black;\n",
       "    border-collapse: collapse;\n",
       "  }\n",
       "  th, td {\n",
       "    padding: 5px;\n",
       "  }\n",
       "  th {\n",
       "    text-align: left;\n",
       "  }\n",
       "</style><div class='table-result-container'><table class='table-result'><thead style='background-color: white'><tr><th>text</th><th>document</th><th>sentence</th><th>token</th><th>pos</th><th>label</th></tr></thead><tbody><tr><td>Identification of APC2 , a homologue of the adenomatous polyposis coli tumour suppressor .</td><td>List(List(document, 0, 89, Identification of APC2 , a homologue of the adenomatous polyposis coli tumour suppressor ., Map(training -> true), List()))</td><td>List(List(document, 0, 89, Identification of APC2 , a homologue of the adenomatous polyposis coli tumour suppressor ., Map(sentence -> 0), List()))</td><td>List(List(token, 0, 13, Identification, Map(sentence -> 0), List()), List(token, 15, 16, of, Map(sentence -> 0), List()), List(token, 18, 21, APC2, Map(sentence -> 0), List()), List(token, 23, 23, ,, Map(sentence -> 0), List()), List(token, 25, 25, a, Map(sentence -> 0), List()), List(token, 27, 35, homologue, Map(sentence -> 0), List()), List(token, 37, 38, of, Map(sentence -> 0), List()), List(token, 40, 42, the, Map(sentence -> 0), List()), List(token, 44, 54, adenomatous, Map(sentence -> 0), List()), List(token, 56, 64, polyposis, Map(sentence -> 0), List()), List(token, 66, 69, coli, Map(sentence -> 0), List()), List(token, 71, 76, tumour, Map(sentence -> 0), List()), List(token, 78, 87, suppressor, Map(sentence -> 0), List()), List(token, 89, 89, ., Map(sentence -> 0), List()))</td><td>List(List(pos, 0, 13, NN, Map(word -> Identification, sentence -> 0), List()), List(pos, 15, 16, NN, Map(word -> of, sentence -> 0), List()), List(pos, 18, 21, NN, Map(word -> APC2, sentence -> 0), List()), List(pos, 23, 23, NN, Map(word -> ,, sentence -> 0), List()), List(pos, 25, 25, NN, Map(word -> a, sentence -> 0), List()), List(pos, 27, 35, NN, Map(word -> homologue, sentence -> 0), List()), List(pos, 37, 38, NN, Map(word -> of, sentence -> 0), List()), List(pos, 40, 42, NN, Map(word -> the, sentence -> 0), List()), List(pos, 44, 54, NN, Map(word -> adenomatous, sentence -> 0), List()), List(pos, 56, 64, NN, Map(word -> polyposis, sentence -> 0), List()), List(pos, 66, 69, NN, Map(word -> coli, sentence -> 0), List()), List(pos, 71, 76, NN, Map(word -> tumour, sentence -> 0), List()), List(pos, 78, 87, NN, Map(word -> suppressor, sentence -> 0), List()), List(pos, 89, 89, NN, Map(word -> ., sentence -> 0), List()))</td><td>List(List(named_entity, 0, 13, O, Map(word -> Identification, sentence -> 0), List()), List(named_entity, 15, 16, O, Map(word -> of, sentence -> 0), List()), List(named_entity, 18, 21, O, Map(word -> APC2, sentence -> 0), List()), List(named_entity, 23, 23, O, Map(word -> ,, sentence -> 0), List()), List(named_entity, 25, 25, O, Map(word -> a, sentence -> 0), List()), List(named_entity, 27, 35, O, Map(word -> homologue, sentence -> 0), List()), List(named_entity, 37, 38, O, Map(word -> of, sentence -> 0), List()), List(named_entity, 40, 42, O, Map(word -> the, sentence -> 0), List()), List(named_entity, 44, 54, B-Disease, Map(word -> adenomatous, sentence -> 0), List()), List(named_entity, 56, 64, I-Disease, Map(word -> polyposis, sentence -> 0), List()), List(named_entity, 66, 69, I-Disease, Map(word -> coli, sentence -> 0), List()), List(named_entity, 71, 76, I-Disease, Map(word -> tumour, sentence -> 0), List()), List(named_entity, 78, 87, O, Map(word -> suppressor, sentence -> 0), List()), List(named_entity, 89, 89, O, Map(word -> ., sentence -> 0), List()))</td></tr><tr><td>The adenomatous polyposis coli ( APC ) tumour - suppressor protein controls the Wnt signalling pathway by forming a complex with glycogen synthase kinase 3beta ( GSK - 3beta ) , axin / conductin and betacatenin .</td><td>List(List(document, 0, 211, The adenomatous polyposis coli ( APC ) tumour - suppressor protein controls the Wnt signalling pathway by forming a complex with glycogen synthase kinase 3beta ( GSK - 3beta ) , axin / conductin and betacatenin ., Map(training -> true), List()))</td><td>List(List(document, 0, 211, The adenomatous polyposis coli ( APC ) tumour - suppressor protein controls the Wnt signalling pathway by forming a complex with glycogen synthase kinase 3beta ( GSK - 3beta ) , axin / conductin and betacatenin ., Map(sentence -> 0), List()))</td><td>List(List(token, 0, 2, The, Map(sentence -> 0), List()), List(token, 4, 14, adenomatous, Map(sentence -> 0), List()), List(token, 16, 24, polyposis, Map(sentence -> 0), List()), List(token, 26, 29, coli, Map(sentence -> 0), List()), List(token, 31, 31, (, Map(sentence -> 0), List()), List(token, 33, 35, APC, Map(sentence -> 0), List()), List(token, 37, 37, ), Map(sentence -> 0), List()), List(token, 39, 44, tumour, Map(sentence -> 0), List()), List(token, 46, 46, -, Map(sentence -> 0), List()), List(token, 48, 57, suppressor, Map(sentence -> 0), List()), List(token, 59, 65, protein, Map(sentence -> 0), List()), List(token, 67, 74, controls, Map(sentence -> 0), List()), List(token, 76, 78, the, Map(sentence -> 0), List()), List(token, 80, 82, Wnt, Map(sentence -> 0), List()), List(token, 84, 93, signalling, Map(sentence -> 0), List()), List(token, 95, 101, pathway, Map(sentence -> 0), List()), List(token, 103, 104, by, Map(sentence -> 0), List()), List(token, 106, 112, forming, Map(sentence -> 0), List()), List(token, 114, 114, a, Map(sentence -> 0), List()), List(token, 116, 122, complex, Map(sentence -> 0), List()), List(token, 124, 127, with, Map(sentence -> 0), List()), List(token, 129, 136, glycogen, Map(sentence -> 0), List()), List(token, 138, 145, synthase, Map(sentence -> 0), List()), List(token, 147, 152, kinase, Map(sentence -> 0), List()), List(token, 154, 158, 3beta, Map(sentence -> 0), List()), List(token, 160, 160, (, Map(sentence -> 0), List()), List(token, 162, 164, GSK, Map(sentence -> 0), List()), List(token, 166, 166, -, Map(sentence -> 0), List()), List(token, 168, 172, 3beta, Map(sentence -> 0), List()), List(token, 174, 174, ), Map(sentence -> 0), List()), List(token, 176, 176, ,, Map(sentence -> 0), List()), List(token, 178, 181, axin, Map(sentence -> 0), List()), List(token, 183, 183, /, Map(sentence -> 0), List()), List(token, 185, 193, conductin, Map(sentence -> 0), List()), List(token, 195, 197, and, Map(sentence -> 0), List()), List(token, 199, 209, betacatenin, Map(sentence -> 0), List()), List(token, 211, 211, ., Map(sentence -> 0), List()))</td><td>List(List(pos, 0, 2, NN, Map(word -> The, sentence -> 0), List()), List(pos, 4, 14, NN, Map(word -> adenomatous, sentence -> 0), List()), List(pos, 16, 24, NN, Map(word -> polyposis, sentence -> 0), List()), List(pos, 26, 29, NN, Map(word -> coli, sentence -> 0), List()), List(pos, 31, 31, NN, Map(word -> (, sentence -> 0), List()), List(pos, 33, 35, NN, Map(word -> APC, sentence -> 0), List()), List(pos, 37, 37, NN, Map(word -> ), sentence -> 0), List()), List(pos, 39, 44, NN, Map(word -> tumour, sentence -> 0), List()), List(pos, 46, 46, NN, Map(word -> -, sentence -> 0), List()), List(pos, 48, 57, NN, Map(word -> suppressor, sentence -> 0), List()), List(pos, 59, 65, NN, Map(word -> protein, sentence -> 0), List()), List(pos, 67, 74, NN, Map(word -> controls, sentence -> 0), List()), List(pos, 76, 78, NN, Map(word -> the, sentence -> 0), List()), List(pos, 80, 82, NN, Map(word -> Wnt, sentence -> 0), List()), List(pos, 84, 93, NN, Map(word -> signalling, sentence -> 0), List()), List(pos, 95, 101, NN, Map(word -> pathway, sentence -> 0), List()), List(pos, 103, 104, NN, Map(word -> by, sentence -> 0), List()), List(pos, 106, 112, NN, Map(word -> forming, sentence -> 0), List()), List(pos, 114, 114, NN, Map(word -> a, sentence -> 0), List()), List(pos, 116, 122, NN, Map(word -> complex, sentence -> 0), List()), List(pos, 124, 127, NN, Map(word -> with, sentence -> 0), List()), List(pos, 129, 136, NN, Map(word -> glycogen, sentence -> 0), List()), List(pos, 138, 145, NN, Map(word -> synthase, sentence -> 0), List()), List(pos, 147, 152, NN, Map(word -> kinase, sentence -> 0), List()), List(pos, 154, 158, NN, Map(word -> 3beta, sentence -> 0), List()), List(pos, 160, 160, NN, Map(word -> (, sentence -> 0), List()), List(pos, 162, 164, NN, Map(word -> GSK, sentence -> 0), List()), List(pos, 166, 166, NN, Map(word -> -, sentence -> 0), List()), List(pos, 168, 172, NN, Map(word -> 3beta, sentence -> 0), List()), List(pos, 174, 174, NN, Map(word -> ), sentence -> 0), List()), List(pos, 176, 176, NN, Map(word -> ,, sentence -> 0), List()), List(pos, 178, 181, NN, Map(word -> axin, sentence -> 0), List()), List(pos, 183, 183, NN, Map(word -> /, sentence -> 0), List()), List(pos, 185, 193, NN, Map(word -> conductin, sentence -> 0), List()), List(pos, 195, 197, NN, Map(word -> and, sentence -> 0), List()), List(pos, 199, 209, NN, Map(word -> betacatenin, sentence -> 0), List()), List(pos, 211, 211, NN, Map(word -> ., sentence -> 0), List()))</td><td>List(List(named_entity, 0, 2, O, Map(word -> The, sentence -> 0), List()), List(named_entity, 4, 14, B-Disease, Map(word -> adenomatous, sentence -> 0), List()), List(named_entity, 16, 24, I-Disease, Map(word -> polyposis, sentence -> 0), List()), List(named_entity, 26, 29, I-Disease, Map(word -> coli, sentence -> 0), List()), List(named_entity, 31, 31, I-Disease, Map(word -> (, sentence -> 0), List()), List(named_entity, 33, 35, I-Disease, Map(word -> APC, sentence -> 0), List()), List(named_entity, 37, 37, I-Disease, Map(word -> ), sentence -> 0), List()), List(named_entity, 39, 44, I-Disease, Map(word -> tumour, sentence -> 0), List()), List(named_entity, 46, 46, O, Map(word -> -, sentence -> 0), List()), List(named_entity, 48, 57, O, Map(word -> suppressor, sentence -> 0), List()), List(named_entity, 59, 65, O, Map(word -> protein, sentence -> 0), List()), List(named_entity, 67, 74, O, Map(word -> controls, sentence -> 0), List()), List(named_entity, 76, 78, O, Map(word -> the, sentence -> 0), List()), List(named_entity, 80, 82, O, Map(word -> Wnt, sentence -> 0), List()), List(named_entity, 84, 93, O, Map(word -> signalling, sentence -> 0), List()), List(named_entity, 95, 101, O, Map(word -> pathway, sentence -> 0), List()), List(named_entity, 103, 104, O, Map(word -> by, sentence -> 0), List()), List(named_entity, 106, 112, O, Map(word -> forming, sentence -> 0), List()), List(named_entity, 114, 114, O, Map(word -> a, sentence -> 0), List()), List(named_entity, 116, 122, O, Map(word -> complex, sentence -> 0), List()), List(named_entity, 124, 127, O, Map(word -> with, sentence -> 0), List()), List(named_entity, 129, 136, O, Map(word -> glycogen, sentence -> 0), List()), List(named_entity, 138, 145, O, Map(word -> synthase, sentence -> 0), List()), List(named_entity, 147, 152, O, Map(word -> kinase, sentence -> 0), List()), List(named_entity, 154, 158, O, Map(word -> 3beta, sentence -> 0), List()), List(named_entity, 160, 160, O, Map(word -> (, sentence -> 0), List()), List(named_entity, 162, 164, O, Map(word -> GSK, sentence -> 0), List()), List(named_entity, 166, 166, O, Map(word -> -, sentence -> 0), List()), List(named_entity, 168, 172, O, Map(word -> 3beta, sentence -> 0), List()), List(named_entity, 174, 174, O, Map(word -> ), sentence -> 0), List()), List(named_entity, 176, 176, O, Map(word -> ,, sentence -> 0), List()), List(named_entity, 178, 181, O, Map(word -> axin, sentence -> 0), List()), List(named_entity, 183, 183, O, Map(word -> /, sentence -> 0), List()), List(named_entity, 185, 193, O, Map(word -> conductin, sentence -> 0), List()), List(named_entity, 195, 197, O, Map(word -> and, sentence -> 0), List()), List(named_entity, 199, 209, O, Map(word -> betacatenin, sentence -> 0), List()), List(named_entity, 211, 211, O, Map(word -> ., sentence -> 0), List()))</td></tr><tr><td>Complex formation induces the rapid degradation of betacatenin .</td><td>List(List(document, 0, 63, Complex formation induces the rapid degradation of betacatenin ., Map(training -> true), List()))</td><td>List(List(document, 0, 63, Complex formation induces the rapid degradation of betacatenin ., Map(sentence -> 0), List()))</td><td>List(List(token, 0, 6, Complex, Map(sentence -> 0), List()), List(token, 8, 16, formation, Map(sentence -> 0), List()), List(token, 18, 24, induces, Map(sentence -> 0), List()), List(token, 26, 28, the, Map(sentence -> 0), List()), List(token, 30, 34, rapid, Map(sentence -> 0), List()), List(token, 36, 46, degradation, Map(sentence -> 0), List()), List(token, 48, 49, of, Map(sentence -> 0), List()), List(token, 51, 61, betacatenin, Map(sentence -> 0), List()), List(token, 63, 63, ., Map(sentence -> 0), List()))</td><td>List(List(pos, 0, 6, NN, Map(word -> Complex, sentence -> 0), List()), List(pos, 8, 16, NN, Map(word -> formation, sentence -> 0), List()), List(pos, 18, 24, NN, Map(word -> induces, sentence -> 0), List()), List(pos, 26, 28, NN, Map(word -> the, sentence -> 0), List()), List(pos, 30, 34, NN, Map(word -> rapid, sentence -> 0), List()), List(pos, 36, 46, NN, Map(word -> degradation, sentence -> 0), List()), List(pos, 48, 49, NN, Map(word -> of, sentence -> 0), List()), List(pos, 51, 61, NN, Map(word -> betacatenin, sentence -> 0), List()), List(pos, 63, 63, NN, Map(word -> ., sentence -> 0), List()))</td><td>List(List(named_entity, 0, 6, O, Map(word -> Complex, sentence -> 0), List()), List(named_entity, 8, 16, O, Map(word -> formation, sentence -> 0), List()), List(named_entity, 18, 24, O, Map(word -> induces, sentence -> 0), List()), List(named_entity, 26, 28, O, Map(word -> the, sentence -> 0), List()), List(named_entity, 30, 34, O, Map(word -> rapid, sentence -> 0), List()), List(named_entity, 36, 46, O, Map(word -> degradation, sentence -> 0), List()), List(named_entity, 48, 49, O, Map(word -> of, sentence -> 0), List()), List(named_entity, 51, 61, O, Map(word -> betacatenin, sentence -> 0), List()), List(named_entity, 63, 63, O, Map(word -> ., sentence -> 0), List()))</td></tr></tbody></table></div>"
      ]
     },
     "metadata": {
      "application/vnd.databricks.v1+output": {
       "addedWidgets": {},
       "aggData": [],
       "aggError": "",
       "aggOverflow": false,
       "aggSchema": [],
       "aggSeriesLimitReached": false,
       "aggType": "",
       "arguments": {},
       "columnCustomDisplayInfos": {},
       "data": [
        [
         "Identification of APC2 , a homologue of the adenomatous polyposis coli tumour suppressor .",
         [
          [
           "document",
           0,
           89,
           "Identification of APC2 , a homologue of the adenomatous polyposis coli tumour suppressor .",
           {
            "training": "true"
           },
           []
          ]
         ],
         [
          [
           "document",
           0,
           89,
           "Identification of APC2 , a homologue of the adenomatous polyposis coli tumour suppressor .",
           {
            "sentence": "0"
           },
           []
          ]
         ],
         [
          [
           "token",
           0,
           13,
           "Identification",
           {
            "sentence": "0"
           },
           []
          ],
          [
           "token",
           15,
           16,
           "of",
           {
            "sentence": "0"
           },
           []
          ],
          [
           "token",
           18,
           21,
           "APC2",
           {
            "sentence": "0"
           },
           []
          ],
          [
           "token",
           23,
           23,
           ",",
           {
            "sentence": "0"
           },
           []
          ],
          [
           "token",
           25,
           25,
           "a",
           {
            "sentence": "0"
           },
           []
          ],
          [
           "token",
           27,
           35,
           "homologue",
           {
            "sentence": "0"
           },
           []
          ],
          [
           "token",
           37,
           38,
           "of",
           {
            "sentence": "0"
           },
           []
          ],
          [
           "token",
           40,
           42,
           "the",
           {
            "sentence": "0"
           },
           []
          ],
          [
           "token",
           44,
           54,
           "adenomatous",
           {
            "sentence": "0"
           },
           []
          ],
          [
           "token",
           56,
           64,
           "polyposis",
           {
            "sentence": "0"
           },
           []
          ],
          [
           "token",
           66,
           69,
           "coli",
           {
            "sentence": "0"
           },
           []
          ],
          [
           "token",
           71,
           76,
           "tumour",
           {
            "sentence": "0"
           },
           []
          ],
          [
           "token",
           78,
           87,
           "suppressor",
           {
            "sentence": "0"
           },
           []
          ],
          [
           "token",
           89,
           89,
           ".",
           {
            "sentence": "0"
           },
           []
          ]
         ],
         [
          [
           "pos",
           0,
           13,
           "NN",
           {
            "sentence": "0",
            "word": "Identification"
           },
           []
          ],
          [
           "pos",
           15,
           16,
           "NN",
           {
            "sentence": "0",
            "word": "of"
           },
           []
          ],
          [
           "pos",
           18,
           21,
           "NN",
           {
            "sentence": "0",
            "word": "APC2"
           },
           []
          ],
          [
           "pos",
           23,
           23,
           "NN",
           {
            "sentence": "0",
            "word": ","
           },
           []
          ],
          [
           "pos",
           25,
           25,
           "NN",
           {
            "sentence": "0",
            "word": "a"
           },
           []
          ],
          [
           "pos",
           27,
           35,
           "NN",
           {
            "sentence": "0",
            "word": "homologue"
           },
           []
          ],
          [
           "pos",
           37,
           38,
           "NN",
           {
            "sentence": "0",
            "word": "of"
           },
           []
          ],
          [
           "pos",
           40,
           42,
           "NN",
           {
            "sentence": "0",
            "word": "the"
           },
           []
          ],
          [
           "pos",
           44,
           54,
           "NN",
           {
            "sentence": "0",
            "word": "adenomatous"
           },
           []
          ],
          [
           "pos",
           56,
           64,
           "NN",
           {
            "sentence": "0",
            "word": "polyposis"
           },
           []
          ],
          [
           "pos",
           66,
           69,
           "NN",
           {
            "sentence": "0",
            "word": "coli"
           },
           []
          ],
          [
           "pos",
           71,
           76,
           "NN",
           {
            "sentence": "0",
            "word": "tumour"
           },
           []
          ],
          [
           "pos",
           78,
           87,
           "NN",
           {
            "sentence": "0",
            "word": "suppressor"
           },
           []
          ],
          [
           "pos",
           89,
           89,
           "NN",
           {
            "sentence": "0",
            "word": "."
           },
           []
          ]
         ],
         [
          [
           "named_entity",
           0,
           13,
           "O",
           {
            "sentence": "0",
            "word": "Identification"
           },
           []
          ],
          [
           "named_entity",
           15,
           16,
           "O",
           {
            "sentence": "0",
            "word": "of"
           },
           []
          ],
          [
           "named_entity",
           18,
           21,
           "O",
           {
            "sentence": "0",
            "word": "APC2"
           },
           []
          ],
          [
           "named_entity",
           23,
           23,
           "O",
           {
            "sentence": "0",
            "word": ","
           },
           []
          ],
          [
           "named_entity",
           25,
           25,
           "O",
           {
            "sentence": "0",
            "word": "a"
           },
           []
          ],
          [
           "named_entity",
           27,
           35,
           "O",
           {
            "sentence": "0",
            "word": "homologue"
           },
           []
          ],
          [
           "named_entity",
           37,
           38,
           "O",
           {
            "sentence": "0",
            "word": "of"
           },
           []
          ],
          [
           "named_entity",
           40,
           42,
           "O",
           {
            "sentence": "0",
            "word": "the"
           },
           []
          ],
          [
           "named_entity",
           44,
           54,
           "B-Disease",
           {
            "sentence": "0",
            "word": "adenomatous"
           },
           []
          ],
          [
           "named_entity",
           56,
           64,
           "I-Disease",
           {
            "sentence": "0",
            "word": "polyposis"
           },
           []
          ],
          [
           "named_entity",
           66,
           69,
           "I-Disease",
           {
            "sentence": "0",
            "word": "coli"
           },
           []
          ],
          [
           "named_entity",
           71,
           76,
           "I-Disease",
           {
            "sentence": "0",
            "word": "tumour"
           },
           []
          ],
          [
           "named_entity",
           78,
           87,
           "O",
           {
            "sentence": "0",
            "word": "suppressor"
           },
           []
          ],
          [
           "named_entity",
           89,
           89,
           "O",
           {
            "sentence": "0",
            "word": "."
           },
           []
          ]
         ]
        ],
        [
         "The adenomatous polyposis coli ( APC ) tumour - suppressor protein controls the Wnt signalling pathway by forming a complex with glycogen synthase kinase 3beta ( GSK - 3beta ) , axin / conductin and betacatenin .",
         [
          [
           "document",
           0,
           211,
           "The adenomatous polyposis coli ( APC ) tumour - suppressor protein controls the Wnt signalling pathway by forming a complex with glycogen synthase kinase 3beta ( GSK - 3beta ) , axin / conductin and betacatenin .",
           {
            "training": "true"
           },
           []
          ]
         ],
         [
          [
           "document",
           0,
           211,
           "The adenomatous polyposis coli ( APC ) tumour - suppressor protein controls the Wnt signalling pathway by forming a complex with glycogen synthase kinase 3beta ( GSK - 3beta ) , axin / conductin and betacatenin .",
           {
            "sentence": "0"
           },
           []
          ]
         ],
         [
          [
           "token",
           0,
           2,
           "The",
           {
            "sentence": "0"
           },
           []
          ],
          [
           "token",
           4,
           14,
           "adenomatous",
           {
            "sentence": "0"
           },
           []
          ],
          [
           "token",
           16,
           24,
           "polyposis",
           {
            "sentence": "0"
           },
           []
          ],
          [
           "token",
           26,
           29,
           "coli",
           {
            "sentence": "0"
           },
           []
          ],
          [
           "token",
           31,
           31,
           "(",
           {
            "sentence": "0"
           },
           []
          ],
          [
           "token",
           33,
           35,
           "APC",
           {
            "sentence": "0"
           },
           []
          ],
          [
           "token",
           37,
           37,
           ")",
           {
            "sentence": "0"
           },
           []
          ],
          [
           "token",
           39,
           44,
           "tumour",
           {
            "sentence": "0"
           },
           []
          ],
          [
           "token",
           46,
           46,
           "-",
           {
            "sentence": "0"
           },
           []
          ],
          [
           "token",
           48,
           57,
           "suppressor",
           {
            "sentence": "0"
           },
           []
          ],
          [
           "token",
           59,
           65,
           "protein",
           {
            "sentence": "0"
           },
           []
          ],
          [
           "token",
           67,
           74,
           "controls",
           {
            "sentence": "0"
           },
           []
          ],
          [
           "token",
           76,
           78,
           "the",
           {
            "sentence": "0"
           },
           []
          ],
          [
           "token",
           80,
           82,
           "Wnt",
           {
            "sentence": "0"
           },
           []
          ],
          [
           "token",
           84,
           93,
           "signalling",
           {
            "sentence": "0"
           },
           []
          ],
          [
           "token",
           95,
           101,
           "pathway",
           {
            "sentence": "0"
           },
           []
          ],
          [
           "token",
           103,
           104,
           "by",
           {
            "sentence": "0"
           },
           []
          ],
          [
           "token",
           106,
           112,
           "forming",
           {
            "sentence": "0"
           },
           []
          ],
          [
           "token",
           114,
           114,
           "a",
           {
            "sentence": "0"
           },
           []
          ],
          [
           "token",
           116,
           122,
           "complex",
           {
            "sentence": "0"
           },
           []
          ],
          [
           "token",
           124,
           127,
           "with",
           {
            "sentence": "0"
           },
           []
          ],
          [
           "token",
           129,
           136,
           "glycogen",
           {
            "sentence": "0"
           },
           []
          ],
          [
           "token",
           138,
           145,
           "synthase",
           {
            "sentence": "0"
           },
           []
          ],
          [
           "token",
           147,
           152,
           "kinase",
           {
            "sentence": "0"
           },
           []
          ],
          [
           "token",
           154,
           158,
           "3beta",
           {
            "sentence": "0"
           },
           []
          ],
          [
           "token",
           160,
           160,
           "(",
           {
            "sentence": "0"
           },
           []
          ],
          [
           "token",
           162,
           164,
           "GSK",
           {
            "sentence": "0"
           },
           []
          ],
          [
           "token",
           166,
           166,
           "-",
           {
            "sentence": "0"
           },
           []
          ],
          [
           "token",
           168,
           172,
           "3beta",
           {
            "sentence": "0"
           },
           []
          ],
          [
           "token",
           174,
           174,
           ")",
           {
            "sentence": "0"
           },
           []
          ],
          [
           "token",
           176,
           176,
           ",",
           {
            "sentence": "0"
           },
           []
          ],
          [
           "token",
           178,
           181,
           "axin",
           {
            "sentence": "0"
           },
           []
          ],
          [
           "token",
           183,
           183,
           "/",
           {
            "sentence": "0"
           },
           []
          ],
          [
           "token",
           185,
           193,
           "conductin",
           {
            "sentence": "0"
           },
           []
          ],
          [
           "token",
           195,
           197,
           "and",
           {
            "sentence": "0"
           },
           []
          ],
          [
           "token",
           199,
           209,
           "betacatenin",
           {
            "sentence": "0"
           },
           []
          ],
          [
           "token",
           211,
           211,
           ".",
           {
            "sentence": "0"
           },
           []
          ]
         ],
         [
          [
           "pos",
           0,
           2,
           "NN",
           {
            "sentence": "0",
            "word": "The"
           },
           []
          ],
          [
           "pos",
           4,
           14,
           "NN",
           {
            "sentence": "0",
            "word": "adenomatous"
           },
           []
          ],
          [
           "pos",
           16,
           24,
           "NN",
           {
            "sentence": "0",
            "word": "polyposis"
           },
           []
          ],
          [
           "pos",
           26,
           29,
           "NN",
           {
            "sentence": "0",
            "word": "coli"
           },
           []
          ],
          [
           "pos",
           31,
           31,
           "NN",
           {
            "sentence": "0",
            "word": "("
           },
           []
          ],
          [
           "pos",
           33,
           35,
           "NN",
           {
            "sentence": "0",
            "word": "APC"
           },
           []
          ],
          [
           "pos",
           37,
           37,
           "NN",
           {
            "sentence": "0",
            "word": ")"
           },
           []
          ],
          [
           "pos",
           39,
           44,
           "NN",
           {
            "sentence": "0",
            "word": "tumour"
           },
           []
          ],
          [
           "pos",
           46,
           46,
           "NN",
           {
            "sentence": "0",
            "word": "-"
           },
           []
          ],
          [
           "pos",
           48,
           57,
           "NN",
           {
            "sentence": "0",
            "word": "suppressor"
           },
           []
          ],
          [
           "pos",
           59,
           65,
           "NN",
           {
            "sentence": "0",
            "word": "protein"
           },
           []
          ],
          [
           "pos",
           67,
           74,
           "NN",
           {
            "sentence": "0",
            "word": "controls"
           },
           []
          ],
          [
           "pos",
           76,
           78,
           "NN",
           {
            "sentence": "0",
            "word": "the"
           },
           []
          ],
          [
           "pos",
           80,
           82,
           "NN",
           {
            "sentence": "0",
            "word": "Wnt"
           },
           []
          ],
          [
           "pos",
           84,
           93,
           "NN",
           {
            "sentence": "0",
            "word": "signalling"
           },
           []
          ],
          [
           "pos",
           95,
           101,
           "NN",
           {
            "sentence": "0",
            "word": "pathway"
           },
           []
          ],
          [
           "pos",
           103,
           104,
           "NN",
           {
            "sentence": "0",
            "word": "by"
           },
           []
          ],
          [
           "pos",
           106,
           112,
           "NN",
           {
            "sentence": "0",
            "word": "forming"
           },
           []
          ],
          [
           "pos",
           114,
           114,
           "NN",
           {
            "sentence": "0",
            "word": "a"
           },
           []
          ],
          [
           "pos",
           116,
           122,
           "NN",
           {
            "sentence": "0",
            "word": "complex"
           },
           []
          ],
          [
           "pos",
           124,
           127,
           "NN",
           {
            "sentence": "0",
            "word": "with"
           },
           []
          ],
          [
           "pos",
           129,
           136,
           "NN",
           {
            "sentence": "0",
            "word": "glycogen"
           },
           []
          ],
          [
           "pos",
           138,
           145,
           "NN",
           {
            "sentence": "0",
            "word": "synthase"
           },
           []
          ],
          [
           "pos",
           147,
           152,
           "NN",
           {
            "sentence": "0",
            "word": "kinase"
           },
           []
          ],
          [
           "pos",
           154,
           158,
           "NN",
           {
            "sentence": "0",
            "word": "3beta"
           },
           []
          ],
          [
           "pos",
           160,
           160,
           "NN",
           {
            "sentence": "0",
            "word": "("
           },
           []
          ],
          [
           "pos",
           162,
           164,
           "NN",
           {
            "sentence": "0",
            "word": "GSK"
           },
           []
          ],
          [
           "pos",
           166,
           166,
           "NN",
           {
            "sentence": "0",
            "word": "-"
           },
           []
          ],
          [
           "pos",
           168,
           172,
           "NN",
           {
            "sentence": "0",
            "word": "3beta"
           },
           []
          ],
          [
           "pos",
           174,
           174,
           "NN",
           {
            "sentence": "0",
            "word": ")"
           },
           []
          ],
          [
           "pos",
           176,
           176,
           "NN",
           {
            "sentence": "0",
            "word": ","
           },
           []
          ],
          [
           "pos",
           178,
           181,
           "NN",
           {
            "sentence": "0",
            "word": "axin"
           },
           []
          ],
          [
           "pos",
           183,
           183,
           "NN",
           {
            "sentence": "0",
            "word": "/"
           },
           []
          ],
          [
           "pos",
           185,
           193,
           "NN",
           {
            "sentence": "0",
            "word": "conductin"
           },
           []
          ],
          [
           "pos",
           195,
           197,
           "NN",
           {
            "sentence": "0",
            "word": "and"
           },
           []
          ],
          [
           "pos",
           199,
           209,
           "NN",
           {
            "sentence": "0",
            "word": "betacatenin"
           },
           []
          ],
          [
           "pos",
           211,
           211,
           "NN",
           {
            "sentence": "0",
            "word": "."
           },
           []
          ]
         ],
         [
          [
           "named_entity",
           0,
           2,
           "O",
           {
            "sentence": "0",
            "word": "The"
           },
           []
          ],
          [
           "named_entity",
           4,
           14,
           "B-Disease",
           {
            "sentence": "0",
            "word": "adenomatous"
           },
           []
          ],
          [
           "named_entity",
           16,
           24,
           "I-Disease",
           {
            "sentence": "0",
            "word": "polyposis"
           },
           []
          ],
          [
           "named_entity",
           26,
           29,
           "I-Disease",
           {
            "sentence": "0",
            "word": "coli"
           },
           []
          ],
          [
           "named_entity",
           31,
           31,
           "I-Disease",
           {
            "sentence": "0",
            "word": "("
           },
           []
          ],
          [
           "named_entity",
           33,
           35,
           "I-Disease",
           {
            "sentence": "0",
            "word": "APC"
           },
           []
          ],
          [
           "named_entity",
           37,
           37,
           "I-Disease",
           {
            "sentence": "0",
            "word": ")"
           },
           []
          ],
          [
           "named_entity",
           39,
           44,
           "I-Disease",
           {
            "sentence": "0",
            "word": "tumour"
           },
           []
          ],
          [
           "named_entity",
           46,
           46,
           "O",
           {
            "sentence": "0",
            "word": "-"
           },
           []
          ],
          [
           "named_entity",
           48,
           57,
           "O",
           {
            "sentence": "0",
            "word": "suppressor"
           },
           []
          ],
          [
           "named_entity",
           59,
           65,
           "O",
           {
            "sentence": "0",
            "word": "protein"
           },
           []
          ],
          [
           "named_entity",
           67,
           74,
           "O",
           {
            "sentence": "0",
            "word": "controls"
           },
           []
          ],
          [
           "named_entity",
           76,
           78,
           "O",
           {
            "sentence": "0",
            "word": "the"
           },
           []
          ],
          [
           "named_entity",
           80,
           82,
           "O",
           {
            "sentence": "0",
            "word": "Wnt"
           },
           []
          ],
          [
           "named_entity",
           84,
           93,
           "O",
           {
            "sentence": "0",
            "word": "signalling"
           },
           []
          ],
          [
           "named_entity",
           95,
           101,
           "O",
           {
            "sentence": "0",
            "word": "pathway"
           },
           []
          ],
          [
           "named_entity",
           103,
           104,
           "O",
           {
            "sentence": "0",
            "word": "by"
           },
           []
          ],
          [
           "named_entity",
           106,
           112,
           "O",
           {
            "sentence": "0",
            "word": "forming"
           },
           []
          ],
          [
           "named_entity",
           114,
           114,
           "O",
           {
            "sentence": "0",
            "word": "a"
           },
           []
          ],
          [
           "named_entity",
           116,
           122,
           "O",
           {
            "sentence": "0",
            "word": "complex"
           },
           []
          ],
          [
           "named_entity",
           124,
           127,
           "O",
           {
            "sentence": "0",
            "word": "with"
           },
           []
          ],
          [
           "named_entity",
           129,
           136,
           "O",
           {
            "sentence": "0",
            "word": "glycogen"
           },
           []
          ],
          [
           "named_entity",
           138,
           145,
           "O",
           {
            "sentence": "0",
            "word": "synthase"
           },
           []
          ],
          [
           "named_entity",
           147,
           152,
           "O",
           {
            "sentence": "0",
            "word": "kinase"
           },
           []
          ],
          [
           "named_entity",
           154,
           158,
           "O",
           {
            "sentence": "0",
            "word": "3beta"
           },
           []
          ],
          [
           "named_entity",
           160,
           160,
           "O",
           {
            "sentence": "0",
            "word": "("
           },
           []
          ],
          [
           "named_entity",
           162,
           164,
           "O",
           {
            "sentence": "0",
            "word": "GSK"
           },
           []
          ],
          [
           "named_entity",
           166,
           166,
           "O",
           {
            "sentence": "0",
            "word": "-"
           },
           []
          ],
          [
           "named_entity",
           168,
           172,
           "O",
           {
            "sentence": "0",
            "word": "3beta"
           },
           []
          ],
          [
           "named_entity",
           174,
           174,
           "O",
           {
            "sentence": "0",
            "word": ")"
           },
           []
          ],
          [
           "named_entity",
           176,
           176,
           "O",
           {
            "sentence": "0",
            "word": ","
           },
           []
          ],
          [
           "named_entity",
           178,
           181,
           "O",
           {
            "sentence": "0",
            "word": "axin"
           },
           []
          ],
          [
           "named_entity",
           183,
           183,
           "O",
           {
            "sentence": "0",
            "word": "/"
           },
           []
          ],
          [
           "named_entity",
           185,
           193,
           "O",
           {
            "sentence": "0",
            "word": "conductin"
           },
           []
          ],
          [
           "named_entity",
           195,
           197,
           "O",
           {
            "sentence": "0",
            "word": "and"
           },
           []
          ],
          [
           "named_entity",
           199,
           209,
           "O",
           {
            "sentence": "0",
            "word": "betacatenin"
           },
           []
          ],
          [
           "named_entity",
           211,
           211,
           "O",
           {
            "sentence": "0",
            "word": "."
           },
           []
          ]
         ]
        ],
        [
         "Complex formation induces the rapid degradation of betacatenin .",
         [
          [
           "document",
           0,
           63,
           "Complex formation induces the rapid degradation of betacatenin .",
           {
            "training": "true"
           },
           []
          ]
         ],
         [
          [
           "document",
           0,
           63,
           "Complex formation induces the rapid degradation of betacatenin .",
           {
            "sentence": "0"
           },
           []
          ]
         ],
         [
          [
           "token",
           0,
           6,
           "Complex",
           {
            "sentence": "0"
           },
           []
          ],
          [
           "token",
           8,
           16,
           "formation",
           {
            "sentence": "0"
           },
           []
          ],
          [
           "token",
           18,
           24,
           "induces",
           {
            "sentence": "0"
           },
           []
          ],
          [
           "token",
           26,
           28,
           "the",
           {
            "sentence": "0"
           },
           []
          ],
          [
           "token",
           30,
           34,
           "rapid",
           {
            "sentence": "0"
           },
           []
          ],
          [
           "token",
           36,
           46,
           "degradation",
           {
            "sentence": "0"
           },
           []
          ],
          [
           "token",
           48,
           49,
           "of",
           {
            "sentence": "0"
           },
           []
          ],
          [
           "token",
           51,
           61,
           "betacatenin",
           {
            "sentence": "0"
           },
           []
          ],
          [
           "token",
           63,
           63,
           ".",
           {
            "sentence": "0"
           },
           []
          ]
         ],
         [
          [
           "pos",
           0,
           6,
           "NN",
           {
            "sentence": "0",
            "word": "Complex"
           },
           []
          ],
          [
           "pos",
           8,
           16,
           "NN",
           {
            "sentence": "0",
            "word": "formation"
           },
           []
          ],
          [
           "pos",
           18,
           24,
           "NN",
           {
            "sentence": "0",
            "word": "induces"
           },
           []
          ],
          [
           "pos",
           26,
           28,
           "NN",
           {
            "sentence": "0",
            "word": "the"
           },
           []
          ],
          [
           "pos",
           30,
           34,
           "NN",
           {
            "sentence": "0",
            "word": "rapid"
           },
           []
          ],
          [
           "pos",
           36,
           46,
           "NN",
           {
            "sentence": "0",
            "word": "degradation"
           },
           []
          ],
          [
           "pos",
           48,
           49,
           "NN",
           {
            "sentence": "0",
            "word": "of"
           },
           []
          ],
          [
           "pos",
           51,
           61,
           "NN",
           {
            "sentence": "0",
            "word": "betacatenin"
           },
           []
          ],
          [
           "pos",
           63,
           63,
           "NN",
           {
            "sentence": "0",
            "word": "."
           },
           []
          ]
         ],
         [
          [
           "named_entity",
           0,
           6,
           "O",
           {
            "sentence": "0",
            "word": "Complex"
           },
           []
          ],
          [
           "named_entity",
           8,
           16,
           "O",
           {
            "sentence": "0",
            "word": "formation"
           },
           []
          ],
          [
           "named_entity",
           18,
           24,
           "O",
           {
            "sentence": "0",
            "word": "induces"
           },
           []
          ],
          [
           "named_entity",
           26,
           28,
           "O",
           {
            "sentence": "0",
            "word": "the"
           },
           []
          ],
          [
           "named_entity",
           30,
           34,
           "O",
           {
            "sentence": "0",
            "word": "rapid"
           },
           []
          ],
          [
           "named_entity",
           36,
           46,
           "O",
           {
            "sentence": "0",
            "word": "degradation"
           },
           []
          ],
          [
           "named_entity",
           48,
           49,
           "O",
           {
            "sentence": "0",
            "word": "of"
           },
           []
          ],
          [
           "named_entity",
           51,
           61,
           "O",
           {
            "sentence": "0",
            "word": "betacatenin"
           },
           []
          ],
          [
           "named_entity",
           63,
           63,
           "O",
           {
            "sentence": "0",
            "word": "."
           },
           []
          ]
         ]
        ]
       ],
       "datasetInfos": [],
       "dbfsResultPath": null,
       "isJsonSchema": true,
       "metadata": {},
       "overflow": false,
       "plotOptions": {
        "customPlotOptions": {},
        "displayType": "table",
        "pivotAggregation": null,
        "pivotColumns": null,
        "xColumns": null,
        "yColumns": null
       },
       "removedWidgets": [],
       "schema": [
        {
         "metadata": "{}",
         "name": "text",
         "type": "\"string\""
        },
        {
         "metadata": "{\"annotatorType\":\"document\"}",
         "name": "document",
         "type": "{\"type\":\"array\",\"elementType\":{\"type\":\"struct\",\"fields\":[{\"name\":\"annotatorType\",\"type\":\"string\",\"nullable\":true,\"metadata\":{}},{\"name\":\"begin\",\"type\":\"integer\",\"nullable\":false,\"metadata\":{}},{\"name\":\"end\",\"type\":\"integer\",\"nullable\":false,\"metadata\":{}},{\"name\":\"result\",\"type\":\"string\",\"nullable\":true,\"metadata\":{}},{\"name\":\"metadata\",\"type\":{\"type\":\"map\",\"keyType\":\"string\",\"valueType\":\"string\",\"valueContainsNull\":true},\"nullable\":true,\"metadata\":{}},{\"name\":\"embeddings\",\"type\":{\"type\":\"array\",\"elementType\":\"float\",\"containsNull\":false},\"nullable\":true,\"metadata\":{}}]},\"containsNull\":true}"
        },
        {
         "metadata": "{\"annotatorType\":\"document\"}",
         "name": "sentence",
         "type": "{\"type\":\"array\",\"elementType\":{\"type\":\"struct\",\"fields\":[{\"name\":\"annotatorType\",\"type\":\"string\",\"nullable\":true,\"metadata\":{}},{\"name\":\"begin\",\"type\":\"integer\",\"nullable\":false,\"metadata\":{}},{\"name\":\"end\",\"type\":\"integer\",\"nullable\":false,\"metadata\":{}},{\"name\":\"result\",\"type\":\"string\",\"nullable\":true,\"metadata\":{}},{\"name\":\"metadata\",\"type\":{\"type\":\"map\",\"keyType\":\"string\",\"valueType\":\"string\",\"valueContainsNull\":true},\"nullable\":true,\"metadata\":{}},{\"name\":\"embeddings\",\"type\":{\"type\":\"array\",\"elementType\":\"float\",\"containsNull\":false},\"nullable\":true,\"metadata\":{}}]},\"containsNull\":true}"
        },
        {
         "metadata": "{\"annotatorType\":\"token\"}",
         "name": "token",
         "type": "{\"type\":\"array\",\"elementType\":{\"type\":\"struct\",\"fields\":[{\"name\":\"annotatorType\",\"type\":\"string\",\"nullable\":true,\"metadata\":{}},{\"name\":\"begin\",\"type\":\"integer\",\"nullable\":false,\"metadata\":{}},{\"name\":\"end\",\"type\":\"integer\",\"nullable\":false,\"metadata\":{}},{\"name\":\"result\",\"type\":\"string\",\"nullable\":true,\"metadata\":{}},{\"name\":\"metadata\",\"type\":{\"type\":\"map\",\"keyType\":\"string\",\"valueType\":\"string\",\"valueContainsNull\":true},\"nullable\":true,\"metadata\":{}},{\"name\":\"embeddings\",\"type\":{\"type\":\"array\",\"elementType\":\"float\",\"containsNull\":false},\"nullable\":true,\"metadata\":{}}]},\"containsNull\":true}"
        },
        {
         "metadata": "{\"annotatorType\":\"pos\"}",
         "name": "pos",
         "type": "{\"type\":\"array\",\"elementType\":{\"type\":\"struct\",\"fields\":[{\"name\":\"annotatorType\",\"type\":\"string\",\"nullable\":true,\"metadata\":{}},{\"name\":\"begin\",\"type\":\"integer\",\"nullable\":false,\"metadata\":{}},{\"name\":\"end\",\"type\":\"integer\",\"nullable\":false,\"metadata\":{}},{\"name\":\"result\",\"type\":\"string\",\"nullable\":true,\"metadata\":{}},{\"name\":\"metadata\",\"type\":{\"type\":\"map\",\"keyType\":\"string\",\"valueType\":\"string\",\"valueContainsNull\":true},\"nullable\":true,\"metadata\":{}},{\"name\":\"embeddings\",\"type\":{\"type\":\"array\",\"elementType\":\"float\",\"containsNull\":false},\"nullable\":true,\"metadata\":{}}]},\"containsNull\":true}"
        },
        {
         "metadata": "{\"annotatorType\":\"named_entity\"}",
         "name": "label",
         "type": "{\"type\":\"array\",\"elementType\":{\"type\":\"struct\",\"fields\":[{\"name\":\"annotatorType\",\"type\":\"string\",\"nullable\":true,\"metadata\":{}},{\"name\":\"begin\",\"type\":\"integer\",\"nullable\":false,\"metadata\":{}},{\"name\":\"end\",\"type\":\"integer\",\"nullable\":false,\"metadata\":{}},{\"name\":\"result\",\"type\":\"string\",\"nullable\":true,\"metadata\":{}},{\"name\":\"metadata\",\"type\":{\"type\":\"map\",\"keyType\":\"string\",\"valueType\":\"string\",\"valueContainsNull\":true},\"nullable\":true,\"metadata\":{}},{\"name\":\"embeddings\",\"type\":{\"type\":\"array\",\"elementType\":\"float\",\"containsNull\":false},\"nullable\":true,\"metadata\":{}}]},\"containsNull\":true}"
        }
       ],
       "type": "table"
      }
     },
     "output_type": "display_data"
    }
   ],
   "source": [
    "conll_data = nlp.CoNLL().readDataset(spark, 'dbfs:/FileStore/NER_NCBIconlltrain.txt')\n",
    "display(conll_data.limit(3))"
   ]
  },
  {
   "cell_type": "code",
   "execution_count": 0,
   "metadata": {
    "application/vnd.databricks.v1+cell": {
     "cellMetadata": {
      "byteLimit": 2048000,
      "rowLimit": 10000
     },
     "inputWidgets": {},
     "nuid": "2077175a-865d-42ae-9aa6-96abf4e54e4b",
     "showTitle": false,
     "tableResultSettingsMap": {},
     "title": ""
    }
   },
   "outputs": [
    {
     "output_type": "execute_result",
     "data": {
      "text/plain": [
       "3266"
      ]
     },
     "execution_count": 12,
     "metadata": {},
     "output_type": "execute_result"
    }
   ],
   "source": [
    "conll_data.count()"
   ]
  },
  {
   "cell_type": "code",
   "execution_count": 0,
   "metadata": {
    "application/vnd.databricks.v1+cell": {
     "cellMetadata": {
      "byteLimit": 2048000,
      "rowLimit": 10000
     },
     "inputWidgets": {},
     "nuid": "38573400-79ef-42c9-a12b-346a6eaa4d26",
     "showTitle": false,
     "tableResultSettingsMap": {},
     "title": ""
    }
   },
   "outputs": [
    {
     "output_type": "stream",
     "name": "stdout",
     "output_type": "stream",
     "text": [
      "+------------+-----+\n|ground_truth|count|\n+------------+-----+\n|O           |75093|\n|I-Disease   |3547 |\n|B-Disease   |3093 |\n+------------+-----+\n\n"
     ]
    }
   ],
   "source": [
    "conll_data.select(F.explode(F.arrays_zip(conll_data.token.result,\n",
    "                                         conll_data.label.result)).alias(\"cols\")) \\\n",
    "          .select(F.expr(\"cols['0']\").alias(\"token\"),\n",
    "                  F.expr(\"cols['1']\").alias(\"ground_truth\"))\\\n",
    "          .groupBy('ground_truth')\\\n",
    "          .count()\\\n",
    "          .orderBy('count', ascending=False)\\\n",
    "          .show(100,truncate=False)"
   ]
  },
  {
   "cell_type": "code",
   "execution_count": 0,
   "metadata": {
    "application/vnd.databricks.v1+cell": {
     "cellMetadata": {
      "byteLimit": 2048000,
      "rowLimit": 10000
     },
     "inputWidgets": {},
     "nuid": "da0271e8-91d8-4511-9d19-f4a2f01ab88d",
     "showTitle": false,
     "tableResultSettingsMap": {},
     "title": ""
    }
   },
   "outputs": [
    {
     "output_type": "stream",
     "name": "stdout",
     "output_type": "stream",
     "text": [
      "+----------------------------------------------------------------------------------------------------+\n|                                                                                              result|\n+----------------------------------------------------------------------------------------------------+\n|[Identification, of, APC2, ,, a, homologue, of, the, adenomatous, polyposis, coli, tumour, suppre...|\n|[The, adenomatous, polyposis, coli, (, APC, ), tumour, -, suppressor, protein, controls, the, Wnt...|\n|                          [Complex, formation, induces, the, rapid, degradation, of, betacatenin, .]|\n|[In, colon, carcinoma, cells, ,, loss, of, APC, leads, to, the, accumulation, of, betacatenin, in...|\n|         [Here, ,, we, report, the, identification, and, genomic, structure, of, APC, homologues, .]|\n|[Mammalian, APC2, ,, which, closely, resembles, APC, in, overall, domain, structure, ,, was, func...|\n|[Like, APC, ,, APC2, regulates, the, formation, of, active, betacatenin, -, Tcf, complexes, ,, as...|\n|                                                       [Human, APC2, maps, to, chromosome, 19p13, .]|\n|                                                                                              [3, .]|\n|      [APC, and, APC2, may, therefore, have, comparable, functions, in, development, and, cancer, .]|\n|[A, common, MSH2, mutation, in, English, and, North, American, HNPCC, families, :, origin, ,, phe...|\n|[The, frequency, ,, origin, ,, and, phenotypic, expression, of, a, germline, MSH2, gene, mutation...|\n|[The, mutation, (, A, -, -, >, T, at, nt943, +, 3, ), disrupts, the, 3, splice, site, of, exon, 5...|\n|[Although, this, mutation, was, initially, detected, in, four, of, 33, colorectal, cancer, famili...|\n|[In, contrast, ,, the, MSH2, mutation, was, identified, in, 10, of, 20, (, 50, %, ), separately, ...|\n|[To, investigate, the, origin, of, this, mutation, in, colorectal, cancer, families, from, Englan...|\n|[Within, the, English, and, US, families, there, was, little, evidence, for, a, recent, common, o...|\n|[In, contrast, ,, a, common, haplotype, was, identified, at, the, two, flanking, markers, (, CA5,...|\n|[These, findings, suggested, a, founder, effect, within, Newfoundland, similar, to, that, reporte...|\n|[We, calculated, age, related, risks, of, all, ,, colorectal, ,, endometrial, ,, and, ovarian, ca...|\n+----------------------------------------------------------------------------------------------------+\nonly showing top 20 rows\n\n"
     ]
    }
   ],
   "source": [
    "\n",
    "conll_data.select('token.result').show(truncate=100)"
   ]
  },
  {
   "cell_type": "code",
   "execution_count": 0,
   "metadata": {
    "application/vnd.databricks.v1+cell": {
     "cellMetadata": {
      "byteLimit": 2048000,
      "rowLimit": 10000
     },
     "inputWidgets": {},
     "nuid": "e6fdd33b-ed64-4ee6-a1e2-c34d32ee616c",
     "showTitle": false,
     "tableResultSettingsMap": {},
     "title": ""
    }
   },
   "outputs": [
    {
     "output_type": "execute_result",
     "data": {
      "text/plain": [
       "1537"
      ]
     },
     "execution_count": 103,
     "metadata": {},
     "output_type": "execute_result"
    }
   ],
   "source": [
    "conll_data.select(\"label.result\").distinct().count()"
   ]
  },
  {
   "cell_type": "code",
   "execution_count": 0,
   "metadata": {
    "application/vnd.databricks.v1+cell": {
     "cellMetadata": {
      "byteLimit": 2048000,
      "rowLimit": 10000
     },
     "inputWidgets": {},
     "nuid": "f0beb8d8-219c-4626-b49d-058c72cec8a3",
     "showTitle": false,
     "tableResultSettingsMap": {},
     "title": ""
    },
    "jupyter": {
     "outputs_hidden": true
    }
   },
   "outputs": [
    {
     "output_type": "execute_result",
     "data": {
      "text/plain": [
       "'\\nconll_data = conll_data.withColumn(\\'unique\\', F.array_distinct(\"label.result\"))                       .withColumn(\\'c\\', F.size(\\'unique\\'))                       .filter(F.col(\\'c\\')>1)\\n\\nconll_data.select(F.explode(F.arrays_zip(\\'token.result\\',\\'label.result\\')).alias(\"cols\"))           .select(F.expr(\"cols[\\'0\\']\").alias(\"token\"),\\n                  F.expr(\"cols[\\'1\\']\").alias(\"ground_truth\"))          .groupBy(\\'ground_truth\\')          .count()          .orderBy(\\'count\\', ascending=False)          .show(100,truncate=False)\\n'"
      ]
     },
     "execution_count": 104,
     "metadata": {},
     "output_type": "execute_result"
    }
   ],
   "source": [
    "'''\n",
    "As you can see, there are too many `O` labels in the dataset. \n",
    "To make it more balanced, we can drop the sentences have only O labels.\n",
    "(`c>1` means we drop all the sentences that have no valuable labels other than `O`)\n",
    "'''\n",
    "\n",
    "'''\n",
    "conll_data = conll_data.withColumn('unique', F.array_distinct(\"label.result\"))\\\n",
    "                       .withColumn('c', F.size('unique'))\\\n",
    "                       .filter(F.col('c')>1)\n",
    "\n",
    "conll_data.select(F.explode(F.arrays_zip('token.result','label.result')).alias(\"cols\")) \\\n",
    "          .select(F.expr(\"cols['0']\").alias(\"token\"),\n",
    "                  F.expr(\"cols['1']\").alias(\"ground_truth\"))\\\n",
    "          .groupBy('ground_truth')\\\n",
    "          .count()\\\n",
    "          .orderBy('count', ascending=False)\\\n",
    "          .show(100,truncate=False)\n",
    "'''"
   ]
  },
  {
   "cell_type": "code",
   "execution_count": 0,
   "metadata": {
    "application/vnd.databricks.v1+cell": {
     "cellMetadata": {
      "byteLimit": 2048000,
      "rowLimit": 10000
     },
     "inputWidgets": {},
     "nuid": "808aa70e-3df1-47b8-80fa-2676bdc562c3",
     "showTitle": false,
     "tableResultSettingsMap": {},
     "title": ""
    }
   },
   "outputs": [
    {
     "output_type": "stream",
     "name": "stdout",
     "output_type": "stream",
     "text": [
      "embeddings_clinical download started this may take some time.\nApproximate size to download 1.6 GB\n\r[ | ]\r[OK!]\n"
     ]
    }
   ],
   "source": [
    "# Clinical word embeddings trained on PubMED dataset\n",
    "clinical_embeddings = nlp.WordEmbeddingsModel.pretrained('embeddings_clinical', \"en\", \"clinical/models\")\\\n",
    "    .setInputCols([\"sentence\", \"token\"])\\\n",
    "    .setOutputCol(\"embeddings\")\n"
   ]
  },
  {
   "cell_type": "code",
   "execution_count": 0,
   "metadata": {
    "application/vnd.databricks.v1+cell": {
     "cellMetadata": {
      "byteLimit": 2048000,
      "rowLimit": 10000
     },
     "inputWidgets": {},
     "nuid": "38a67171-1169-4fcb-8684-a1f699c509c0",
     "showTitle": false,
     "tableResultSettingsMap": {},
     "title": ""
    }
   },
   "outputs": [],
   "source": [
    "test_data = nlp.CoNLL().readDataset(spark, \"dbfs:/FileStore/NER_NCBIconlltest.txt\")\n",
    "\n",
    "test_data = clinical_embeddings.transform(test_data)\n",
    "\n",
    "test_data.write.mode(\"overwrite\").parquet('dbfs/NER_NCBIconlltest.parquet')"
   ]
  },
  {
   "cell_type": "markdown",
   "metadata": {
    "application/vnd.databricks.v1+cell": {
     "cellMetadata": {
      "byteLimit": 2048000,
      "rowLimit": 10000
     },
     "inputWidgets": {},
     "nuid": "74e0fc6e-878f-4898-841f-dd9ef58d6abd",
     "showTitle": false,
     "tableResultSettingsMap": {},
     "title": ""
    }
   },
   "source": [
    "### NERDL Graph\n",
    "\n",
    "We will use `TFGraphBuilder` annotator which can be used to create graphs in the model training pipeline. `TFGraphBuilder` inspects the data and creates the proper graph if a suitable version of TensorFlow is available. The graph is stored in the defined folder and loaded by the `MedicalNerApproach` annotator."
   ]
  },
  {
   "cell_type": "code",
   "execution_count": 0,
   "metadata": {
    "application/vnd.databricks.v1+cell": {
     "cellMetadata": {
      "byteLimit": 2048000,
      "rowLimit": 10000
     },
     "inputWidgets": {},
     "nuid": "ed55814b-015f-4e31-a3a9-9beb9d4a7059",
     "showTitle": false,
     "tableResultSettingsMap": {},
     "title": ""
    }
   },
   "outputs": [
    {
     "output_type": "stream",
     "name": "stdout",
     "output_type": "stream",
     "text": [
      "\r\n\u001B[1m[\u001B[0m\u001B[34;49mnotice\u001B[0m\u001B[1;39;49m]\u001B[0m\u001B[39;49m A new release of pip available: \u001B[0m\u001B[31;49m22.2.2\u001B[0m\u001B[39;49m -> \u001B[0m\u001B[32;49m24.3.1\u001B[0m\r\n\u001B[1m[\u001B[0m\u001B[34;49mnotice\u001B[0m\u001B[1;39;49m]\u001B[0m\u001B[39;49m To update, run: \u001B[0m\u001B[32;49mpip install --upgrade pip\u001B[0m\r\n\r\n\u001B[1m[\u001B[0m\u001B[34;49mnotice\u001B[0m\u001B[1;39;49m]\u001B[0m\u001B[39;49m A new release of pip available: \u001B[0m\u001B[31;49m22.2.2\u001B[0m\u001B[39;49m -> \u001B[0m\u001B[32;49m24.3.1\u001B[0m\r\n\u001B[1m[\u001B[0m\u001B[34;49mnotice\u001B[0m\u001B[1;39;49m]\u001B[0m\u001B[39;49m To update, run: \u001B[0m\u001B[32;49mpip install --upgrade pip\u001B[0m\r\n"
     ]
    }
   ],
   "source": [
    "!pip install -q tensorflow==2.12.0\n",
    "!pip install -q tensorflow-addons"
   ]
  },
  {
   "cell_type": "markdown",
   "metadata": {
    "application/vnd.databricks.v1+cell": {
     "cellMetadata": {
      "byteLimit": 2048000,
      "rowLimit": 10000
     },
     "inputWidgets": {},
     "nuid": "67d91e52-306d-47c7-aba6-96932137dfb5",
     "showTitle": false,
     "tableResultSettingsMap": {},
     "title": ""
    }
   },
   "source": [
    "Firstly, we will create graph and log folder."
   ]
  },
  {
   "cell_type": "code",
   "execution_count": 0,
   "metadata": {
    "application/vnd.databricks.v1+cell": {
     "cellMetadata": {
      "byteLimit": 2048000,
      "rowLimit": 10000
     },
     "inputWidgets": {},
     "nuid": "0922b376-2696-4fc8-9688-2b092e64f516",
     "showTitle": false,
     "tableResultSettingsMap": {},
     "title": ""
    }
   },
   "outputs": [
    {
     "output_type": "display_data",
     "data": {
      "text/html": [
       "<style scoped>\n",
       "  .ansiout {\n",
       "    display: block;\n",
       "    unicode-bidi: embed;\n",
       "    white-space: pre-wrap;\n",
       "    word-wrap: break-word;\n",
       "    word-break: break-all;\n",
       "    font-family: \"Menlo\", \"Monaco\", \"Consolas\", \"Ubuntu Mono\", \"Source Code Pro\", monospace;\n",
       "    font-size: 13px;\n",
       "    color: #555;\n",
       "    margin-left: 4px;\n",
       "    line-height: 19px;\n",
       "  }\n",
       "</style>\n",
       "<div class=\"ansiout\">res0: Boolean = true\n",
       "</div>"
      ]
     },
     "metadata": {
      "application/vnd.databricks.v1+output": {
       "addedWidgets": {},
       "arguments": {},
       "data": "<div class=\"ansiout\">res0: Boolean = true\n</div>",
       "datasetInfos": [],
       "metadata": {
        "isDbfsCommandResult": false
       },
       "removedWidgets": [],
       "type": "html"
      }
     },
     "output_type": "display_data"
    }
   ],
   "source": [
    "%fs mkdirs file:/dbfs/ner/ner_logs"
   ]
  },
  {
   "cell_type": "code",
   "execution_count": 0,
   "metadata": {
    "application/vnd.databricks.v1+cell": {
     "cellMetadata": {
      "byteLimit": 2048000,
      "rowLimit": 10000
     },
     "inputWidgets": {},
     "nuid": "150ef90a-eea1-4743-9fd4-cfe52291e1b7",
     "showTitle": false,
     "tableResultSettingsMap": {},
     "title": ""
    }
   },
   "outputs": [
    {
     "output_type": "display_data",
     "data": {
      "text/html": [
       "<style scoped>\n",
       "  .ansiout {\n",
       "    display: block;\n",
       "    unicode-bidi: embed;\n",
       "    white-space: pre-wrap;\n",
       "    word-wrap: break-word;\n",
       "    word-break: break-all;\n",
       "    font-family: \"Menlo\", \"Monaco\", \"Consolas\", \"Ubuntu Mono\", \"Source Code Pro\", monospace;\n",
       "    font-size: 13px;\n",
       "    color: #555;\n",
       "    margin-left: 4px;\n",
       "    line-height: 19px;\n",
       "  }\n",
       "</style>\n",
       "<div class=\"ansiout\">res5: Boolean = true\n",
       "</div>"
      ]
     },
     "metadata": {
      "application/vnd.databricks.v1+output": {
       "addedWidgets": {},
       "arguments": {},
       "data": "<div class=\"ansiout\">res5: Boolean = true\n</div>",
       "datasetInfos": [],
       "metadata": {
        "isDbfsCommandResult": false
       },
       "removedWidgets": [],
       "type": "html"
      }
     },
     "output_type": "display_data"
    }
   ],
   "source": [
    "%fs mkdirs file:/dbfs/ner/medical_ner_graphs"
   ]
  },
  {
   "cell_type": "code",
   "execution_count": 0,
   "metadata": {
    "application/vnd.databricks.v1+cell": {
     "cellMetadata": {
      "byteLimit": 2048000,
      "rowLimit": 10000
     },
     "inputWidgets": {},
     "nuid": "ad1f7975-6393-46d6-b4d8-2b368fe03c28",
     "showTitle": false,
     "tableResultSettingsMap": {},
     "title": ""
    }
   },
   "outputs": [],
   "source": [
    "graph_folder_path = \"/dbfs/ner/medical_ner_graphs\"\n",
    "\n",
    "ner_graph_builder = medical.TFGraphBuilder()\\\n",
    "    .setModelName(\"ner_dl\")\\\n",
    "    .setInputCols([\"sentence\", \"token\", \"embeddings\"]) \\\n",
    "    .setLabelColumn(\"label\")\\\n",
    "    .setGraphFolder(graph_folder_path)\\\n",
    "    .setGraphFile(\"auto\")\\\n",
    "    .setHiddenUnitsNumber(20)"
   ]
  },
  {
   "cell_type": "markdown",
   "metadata": {
    "application/vnd.databricks.v1+cell": {
     "cellMetadata": {
      "byteLimit": 2048000,
      "rowLimit": 10000
     },
     "inputWidgets": {},
     "nuid": "8b5c8d6e-43d1-4465-a8f1-d5292d456522",
     "showTitle": false,
     "tableResultSettingsMap": {},
     "title": ""
    }
   },
   "source": [
    "We created ner log and graph files. \n",
    "Now, we will create graph and fit the model."
   ]
  },
  {
   "cell_type": "code",
   "execution_count": 0,
   "metadata": {
    "application/vnd.databricks.v1+cell": {
     "cellMetadata": {
      "byteLimit": 2048000,
      "rowLimit": 10000
     },
     "inputWidgets": {},
     "nuid": "3ece4fa8-52f0-4184-a6ab-915aba784ddd",
     "showTitle": false,
     "tableResultSettingsMap": {},
     "title": ""
    },
    "jupyter": {
     "outputs_hidden": true
    }
   },
   "outputs": [
    {
     "output_type": "execute_result",
     "data": {
      "text/plain": [
       "'\\ntf_graph.print_model_params(\"ner_dl\")\\ntf_graph.build(\"ner_dl\", \\n               build_params={\"embeddings_dim\": 200, \\n                             \"nchars\": 85, \\n                             \"ntags\": 12, \\n                             \"is_medical\": 1},\\n               model_location=\"/dbfs/ner/medical_ner_graphs\", \\n               model_filename=\"auto\")\\n'"
      ]
     },
     "execution_count": 300,
     "metadata": {},
     "output_type": "execute_result"
    }
   ],
   "source": [
    "# TensorFlow graph file (`.pb` extension) can be produced for NER training externally. \n",
    "# If this method is used, graph folder should be added to MedicalNerApproach training \n",
    "# model as `.setGraphFolder(graph_folder_path)` .\n",
    "\n",
    "'''\n",
    "tf_graph.print_model_params(\"ner_dl\")\n",
    "tf_graph.build(\"ner_dl\", \n",
    "               build_params={\"embeddings_dim\": 200, \n",
    "                             \"nchars\": 85, \n",
    "                             \"ntags\": 12, \n",
    "                             \"is_medical\": 1},\n",
    "               model_location=\"/dbfs/ner/medical_ner_graphs\", \n",
    "               model_filename=\"auto\")\n",
    "'''"
   ]
  },
  {
   "cell_type": "code",
   "execution_count": 0,
   "metadata": {
    "application/vnd.databricks.v1+cell": {
     "cellMetadata": {
      "byteLimit": 2048000,
      "rowLimit": 10000
     },
     "inputWidgets": {},
     "nuid": "aeba2fdf-6ca8-4d6e-a73a-1563404e8436",
     "showTitle": false,
     "tableResultSettingsMap": {},
     "title": ""
    },
    "jupyter": {
     "outputs_hidden": true
    }
   },
   "outputs": [
    {
     "output_type": "execute_result",
     "data": {
      "text/plain": [
       "'\\n!wget -q https://raw.githubusercontent.com/JohnSnowLabs/spark-nlp-workshop/master/jupyter/training/english/dl-ner/nerdl-graph/create_graph.py\\n!wget -q https://raw.githubusercontent.com/JohnSnowLabs/spark-nlp-workshop/master/jupyter/training/english/dl-ner/nerdl-graph/dataset_encoder.py\\n!wget -q https://raw.githubusercontent.com/JohnSnowLabs/spark-nlp-workshop/master/jupyter/training/english/dl-ner/nerdl-graph/ner_model.py\\n!wget -q https://raw.githubusercontent.com/JohnSnowLabs/spark-nlp-workshop/master/jupyter/training/english/dl-ner/nerdl-graph/ner_model_saver.py\\n!wget -q https://raw.githubusercontent.com/JohnSnowLabs/spark-nlp-workshop/master/jupyter/training/english/dl-ner/nerdl-graph/sentence_grouper.py\\n\\n!pip -q install tensorflow==1.15.0\\n\\nimport create_graph\\n\\nntags = 3 # number of labels\\nembeddings_dim = 200\\nnchars =83\\n\\ncreate_graph.create_graph(ntags, embeddings_dim, nchars)\\n'"
      ]
     },
     "execution_count": 301,
     "metadata": {},
     "output_type": "execute_result"
    }
   ],
   "source": [
    "# for open source users\n",
    "'''\n",
    "!wget -q https://raw.githubusercontent.com/JohnSnowLabs/spark-nlp-workshop/master/jupyter/training/english/dl-ner/nerdl-graph/create_graph.py\n",
    "!wget -q https://raw.githubusercontent.com/JohnSnowLabs/spark-nlp-workshop/master/jupyter/training/english/dl-ner/nerdl-graph/dataset_encoder.py\n",
    "!wget -q https://raw.githubusercontent.com/JohnSnowLabs/spark-nlp-workshop/master/jupyter/training/english/dl-ner/nerdl-graph/ner_model.py\n",
    "!wget -q https://raw.githubusercontent.com/JohnSnowLabs/spark-nlp-workshop/master/jupyter/training/english/dl-ner/nerdl-graph/ner_model_saver.py\n",
    "!wget -q https://raw.githubusercontent.com/JohnSnowLabs/spark-nlp-workshop/master/jupyter/training/english/dl-ner/nerdl-graph/sentence_grouper.py\n",
    "\n",
    "!pip -q install tensorflow==1.15.0\n",
    "\n",
    "import create_graph\n",
    "\n",
    "ntags = 3 # number of labels\n",
    "embeddings_dim = 200\n",
    "nchars =83\n",
    "\n",
    "create_graph.create_graph(ntags, embeddings_dim, nchars)\n",
    "'''"
   ]
  },
  {
   "cell_type": "markdown",
   "metadata": {
    "application/vnd.databricks.v1+cell": {
     "cellMetadata": {
      "byteLimit": 2048000,
      "rowLimit": 10000
     },
     "inputWidgets": {},
     "nuid": "73c13d39-44e0-4f44-b4af-32853908dcdd",
     "showTitle": false,
     "tableResultSettingsMap": {},
     "title": ""
    }
   },
   "source": [
    "We will use `setEarlyStoppingCriterion` and `setEarlyStoppingPatience` parameters to stop training if it doesn't improve any more. Also, these parameters will provide us to save time and resources.\n",
    "\n",
    "- `setEarlyStoppingCriterion(float)`: This parameter is used to set the minimal improvement of the test metric to terminate training. The metric monitored is the same which is used to save the best best model (macro F1 if using test or validation set, loss otherwise). If it is F1, then training is stopped if `F1_current - F1_previous < earlyStoppingCriterion`. If monitoring loss, then training is stopped if `loss_previous - loss_current < earlyStoppingCriterion`. If earlyStoppingCriterion is `0`, then no early stopping is applied. Default is `0`.\n",
    "\n",
    "- `setEarlyStoppingPatience(int)`: This is the number of epoch without improvement which will be tolerated. Default is `0`, which means that early stopping will occur at the first time when performance in the current epoch is no better than in the previous epoch (taking earlyStoppingCriterion into account)."
   ]
  },
  {
   "cell_type": "code",
   "execution_count": 0,
   "metadata": {
    "application/vnd.databricks.v1+cell": {
     "cellMetadata": {
      "byteLimit": 2048000,
      "rowLimit": 10000
     },
     "inputWidgets": {},
     "nuid": "2fe5432f-7560-4bfa-b2ec-29cb7ae29aeb",
     "showTitle": false,
     "tableResultSettingsMap": {},
     "title": ""
    }
   },
   "outputs": [],
   "source": [
    "nerTagger = medical.NerApproach()\\\n",
    "  .setInputCols([\"sentence\", \"token\", \"embeddings\"])\\\n",
    "  .setLabelColumn(\"label\")\\\n",
    "  .setOutputCol(\"ner\")\\\n",
    "  .setMaxEpochs(20)\\\n",
    "  .setBatchSize(64)\\\n",
    "  .setRandomSeed(0)\\\n",
    "  .setVerbose(1)\\\n",
    "  .setValidationSplit(0.2)\\\n",
    "  .setEvaluationLogExtended(True) \\\n",
    "  .setEnableOutputLogs(True)\\\n",
    "  .setIncludeConfidence(True)\\\n",
    "  .setTestDataset(\"/dbfs/NER_NCBIconlltest.parquet\")\\\n",
    "  .setOutputLogsPath('dbfs:/ner/ner_logs')\\\n",
    "  .setUseBestModel(True)\\\n",
    "  .setEarlyStoppingCriterion(0.04)\\\n",
    "  .setEarlyStoppingPatience(3)\\\n",
    "  .setGraphFolder('dbfs:/ner/medical_ner_graphs')\n",
    "  # .setEnableMemoryOptimizer(True) #>> if you have a limited memory and a large conll file, you can set this True to train batch by batch       \n",
    "\n",
    "ner_pipeline = nlp.Pipeline(stages=[\n",
    "          clinical_embeddings,\n",
    "          ner_graph_builder,\n",
    "          nerTagger\n",
    " ])"
   ]
  },
  {
   "cell_type": "markdown",
   "metadata": {
    "application/vnd.databricks.v1+cell": {
     "cellMetadata": {
      "byteLimit": 2048000,
      "rowLimit": 10000
     },
     "inputWidgets": {},
     "nuid": "cd9612fe-5c50-4158-b5de-311c5998f359",
     "showTitle": false,
     "tableResultSettingsMap": {},
     "title": ""
    }
   },
   "source": [
    "You can visit [1.4.Resume_MedicalNer_Model_Training.ipynb](https://github.com/JohnSnowLabs/spark-nlp-workshop/blob/master/tutorials/Certification_Trainings/Healthcare/1.4.Resume_MedicalNer_Model_Training.ipynb) notebook for fine-tuning pretrained NER models and more details of `MedicalNerApproach()` parameters."
   ]
  },
  {
   "cell_type": "code",
   "execution_count": 0,
   "metadata": {
    "application/vnd.databricks.v1+cell": {
     "cellMetadata": {
      "byteLimit": 2048000,
      "rowLimit": 10000
     },
     "inputWidgets": {},
     "nuid": "43495db2-b575-41a2-a2fb-54aa97e2031c",
     "showTitle": false,
     "tableResultSettingsMap": {},
     "title": ""
    }
   },
   "outputs": [
    {
     "output_type": "stream",
     "name": "stdout",
     "output_type": "stream",
     "text": [
      "TF Graph Builder configuration:\nModel name: ner_dl\nGraph folder: /dbfs/ner/medical_ner_graphs\nGraph file name: auto\nBuild params: {'ntags': 3, 'embeddings_dim': 200, 'nchars': 85, 'is_medical': True, 'lstm_size': 20}\n"
     ]
    },
    {
     "output_type": "stream",
     "name": "stderr",
     "output_type": "stream",
     "text": [
      "2024-11-11 21:28:39.613035: I tensorflow/tsl/cuda/cudart_stub.cc:28] Could not find cuda drivers on your machine, GPU will not be used.\n2024-11-11 21:28:39.672659: I tensorflow/tsl/cuda/cudart_stub.cc:28] Could not find cuda drivers on your machine, GPU will not be used.\n2024-11-11 21:28:39.673880: I tensorflow/core/platform/cpu_feature_guard.cc:182] This TensorFlow binary is optimized to use available CPU instructions in performance-critical operations.\nTo enable the following instructions: AVX2 AVX512F FMA, in other operations, rebuild TensorFlow with the appropriate compiler flags.\n2024-11-11 21:28:40.688867: W tensorflow/compiler/tf2tensorrt/utils/py_utils.cc:38] TF-TRT Warning: Could not find TensorRT\nWARNING:tensorflow:From /local_disk0/.ephemeral_nfs/envs/pythonEnv-9380b817-0c16-4eba-ad81-43e94ddded36/lib/python3.10/site-packages/tensorflow/python/compat/v2_compat.py:107: disable_resource_variables (from tensorflow.python.ops.variable_scope) is deprecated and will be removed in a future version.\nInstructions for updating:\nnon-resource variables are not supported in the long term\nWARNING:tensorflow:From /local_disk0/.ephemeral_nfs/envs/pythonEnv-9380b817-0c16-4eba-ad81-43e94ddded36/lib/python3.10/site-packages/tensorflow/python/ops/init_ops.py:93: calling GlorotUniform.__init__ (from tensorflow.python.ops.init_ops) with dtype is deprecated and will be removed in a future version.\nInstructions for updating:\nCall initializer instance with the dtype argument instead of passing it to the constructor\nWARNING:tensorflow:From /local_disk0/.ephemeral_nfs/envs/pythonEnv-9380b817-0c16-4eba-ad81-43e94ddded36/lib/python3.10/site-packages/tensorflow/python/ops/init_ops.py:93: calling Orthogonal.__init__ (from tensorflow.python.ops.init_ops) with dtype is deprecated and will be removed in a future version.\nInstructions for updating:\nCall initializer instance with the dtype argument instead of passing it to the constructor\nWARNING:tensorflow:From /local_disk0/.ephemeral_nfs/envs/pythonEnv-9380b817-0c16-4eba-ad81-43e94ddded36/lib/python3.10/site-packages/tensorflow/python/ops/init_ops.py:93: calling Zeros.__init__ (from tensorflow.python.ops.init_ops) with dtype is deprecated and will be removed in a future version.\nInstructions for updating:\nCall initializer instance with the dtype argument instead of passing it to the constructor\n2024-11-11 21:28:46.522722: I tensorflow/compiler/mlir/mlir_graph_optimization_pass.cc:353] MLIR V1 optimization pass is not enabled\n2024-11-11 21:28:46.557103: W tensorflow/core/common_runtime/colocation_graph.cc:1214] Failed to place the graph without changing the devices of some resources. Some of the operations (that had to be colocated with resource generating operations) are not supported on the resources' devices. Current candidate devices are [\n  /job:localhost/replica:0/task:0/device:CPU:0].\nSee below for details of this colocation group:\nColocation Debug Info:\nColocation group had the following types and supported devices: \nRoot Member(assigned_device_name_index_=-1 requested_device_name_='/device:GPU:0' assigned_device_name_='' resource_device_name_='/device:GPU:0' supported_device_types_=[CPU] possible_devices_=[]\nAssignSub: CPU \nScatterAdd: CPU \nNoOp: CPU \nSqrt: CPU \nUnsortedSegmentSum: CPU \nRealDiv: CPU \nConst: CPU \nStridedSlice: CPU \nRandomUniform: CPU \nAddV2: CPU \nUnique: CPU \nMul: CPU \nVariableV2: CPU \nAssign: CPU \nShape: CPU \nIdentity: CPU \nCast: CPU \nSub: CPU \nGatherV2: CPU \nFill: CPU \n\nColocation members, user-requested devices, and framework assigned devices, if any:\n  char_repr_cnn/char_embeddings/Initializer/random_uniform/shape (Const) \n  char_repr_cnn/char_embeddings/Initializer/random_uniform/min (Const) \n  char_repr_cnn/char_embeddings/Initializer/random_uniform/max (Const) \n  char_repr_cnn/char_embeddings/Initializer/random_uniform/RandomUniform (RandomUniform) \n  char_repr_cnn/char_embeddings/Initializer/random_uniform/sub (Sub) \n  char_repr_cnn/char_embeddings/Initializer/random_uniform/mul (Mul) \n  char_repr_cnn/char_embeddings/Initializer/random_uniform (AddV2) \n  char_repr_cnn/char_embeddings (VariableV2) /device:GPU:0\n  char_repr_cnn/char_embeddings/Assign (Assign) /device:GPU:0\n  char_repr_cnn/char_embeddings/read (Identity) /device:GPU:0\n  char_repr_cnn/embedding_lookup/axis (Const) /device:GPU:0\n  char_repr_cnn/embedding_lookup (GatherV2) /device:GPU:0\n  training_1/gradients/char_repr_cnn/embedding_lookup_grad/Shape (Const) /device:GPU:0\n  training_1/gradients/char_repr_cnn/embedding_lookup_grad/Cast (Cast) /device:GPU:0\n  training/char_repr_cnn/char_embeddings/train/Initializer/zeros/shape_as_tensor (Const) /device:GPU:0\n  training/char_repr_cnn/char_embeddings/train/Initializer/zeros/Const (Const) /device:GPU:0\n  training/char_repr_cnn/char_embeddings/train/Initializer/zeros (Fill) /device:GPU:0\n  training/char_repr_cnn/char_embeddings/train (VariableV2) /device:GPU:0\n  training/char_repr_cnn/char_embeddings/train/Assign (Assign) /device:GPU:0\n  training/char_repr_cnn/char_embeddings/train/read (Identity) /device:GPU:0\n  training/char_repr_cnn/char_embeddings/train_1/Initializer/zeros/shape_as_tensor (Const) /device:GPU:0\n  training/char_repr_cnn/char_embeddings/train_1/Initializer/zeros/Const (Const) /device:GPU:0\n  training/char_repr_cnn/char_embeddings/train_1/Initializer/zeros (Fill) /device:GPU:0\n  training/char_repr_cnn/char_embeddings/train_1 (VariableV2) /device:GPU:0\n  training/char_repr_cnn/char_embeddings/train_1/Assign (Assign) /device:GPU:0\n  training/char_repr_cnn/char_embeddings/train_1/read (Identity) /device:GPU:0\n  training_1/train/update_char_repr_cnn/char_embeddings/Unique (Unique) /device:GPU:0\n  training_1/train/update_char_repr_cnn/char_embeddings/Shape (Shape) /device:GPU:0\n  training_1/train/update_char_repr_cnn/char_embeddings/strided_slice/stack (Const) /device:GPU:0\n  training_1/train/update_char_repr_cnn/char_embeddings/strided_slice/stack_1 (Const) /device:GPU:0\n  training_1/train/update_char_repr_cnn/char_embeddings/strided_slice/stack_2 (Const) /device:GPU:0\n  training_1/train/update_char_repr_cnn/char_embeddings/strided_slice (StridedSlice) /device:GPU:0\n  training_1/train/update_char_repr_cnn/char_embeddings/UnsortedSegmentSum (UnsortedSegmentSum) /device:GPU:0\n  training_1/train/update_char_repr_cnn/char_embeddings/sub/x (Const) /device:GPU:0\n  training_1/train/update_char_repr_cnn/char_embeddings/sub (Sub) /device:GPU:0\n  training_1/train/update_char_repr_cnn/char_embeddings/Sqrt (Sqrt) /device:GPU:0\n  training_1/train/update_char_repr_cnn/char_embeddings/mul (Mul) /device:GPU:0\n  training_1/train/update_char_repr_cnn/char_embeddings/sub_1/x (Const) /device:GPU:0\n  training_1/train/update_char_repr_cnn/char_embeddings/sub_1 (Sub) /device:GPU:0\n  training_1/train/update_char_repr_cnn/char_embeddings/truediv (RealDiv) /device:GPU:0\n  training_1/train/update_char_repr_cnn/char_embeddings/sub_2/x (Const) /device:GPU:0\n  training_1/train/update_char_repr_cnn/char_embeddings/sub_2 (Sub) /device:GPU:0\n  training_1/train/update_char_repr_cnn/char_embeddings/mul_1 (Mul) /device:GPU:0\n  training_1/train/update_char_repr_cnn/char_embeddings/mul_2 (Mul) /device:GPU:0\n  training_1/train/update_char_repr_cnn/char_embeddings/Assign (Assign) /device:GPU:0\n  training_1/train/update_char_repr_cnn/char_embeddings/ScatterAdd (ScatterAdd) /device:GPU:0\n  training_1/train/update_char_repr_cnn/char_embeddings/mul_3 (Mul) /device:GPU:0\n  training_1/train/update_char_repr_cnn/char_embeddings/sub_3/x (Const) /device:GPU:0\n  training_1/train/update_char_repr_cnn/char_embeddings/sub_3 (Sub) /device:GPU:0\n  training_1/train/update_char_repr_cnn/char_embeddings/mul_4 (Mul) /device:GPU:0\n  training_1/train/update_char_repr_cnn/char_embeddings/mul_5 (Mul) /device:GPU:0\n  training_1/train/update_char_repr_cnn/char_embeddings/Assign_1 (Assign) /device:GPU:0\n  training_1/train/update_char_repr_cnn/char_embeddings/ScatterAdd_1 (ScatterAdd) /device:GPU:0\n  training_1/train/update_char_repr_cnn/char_embeddings/Sqrt_1 (Sqrt) /device:GPU:0\n  training_1/train/update_char_repr_cnn/char_embeddings/mul_6 (Mul) /device:GPU:0\n  training_1/train/update_char_repr_cnn/char_embeddings/add (AddV2) /device:GPU:0\n  training_1/train/update_char_repr_cnn/char_embeddings/truediv_1 (RealDiv) /device:GPU:0\n  training_1/train/update_char_repr_cnn/char_embeddings/AssignSub (AssignSub) /device:GPU:0\n  training_1/train/update_char_repr_cnn/char_embeddings/group_deps (NoOp) /device:GPU:0\n\n2024-11-11 21:28:46.557353: W tensorflow/core/common_runtime/colocation_graph.cc:1214] Failed to place the graph without changing the devices of some resources. Some of the operations (that had to be colocated with resource generating operations) are not supported on the resources' devices. Current candidate devices are [\n  /job:localhost/replica:0/task:0/device:CPU:0].\nSee below for details of this colocation group:\nColocation Debug Info:\nColocation group had the following types and supported devices: \nRoot Member(assigned_device_name_index_=-1 requested_device_name_='/device:GPU:0' assigned_device_name_='' resource_device_name_='/device:GPU:0' supported_device_types_=[CPU] possible_devices_=[]\nFill: CPU \nReadVariableOp: CPU \nVarIsInitializedOp: CPU \nVarHandleOp: CPU \nAssignVariableOp: CPU \nMul: CPU \nSub: CPU \nAddV2: CPU \nRandomUniform: CPU \nResourceApplyAdam: CPU \nConst: CPU \n\nColocation members, user-requested devices, and framework assigned devices, if any:\n  char_repr_cnn/conv1d/kernel/Initializer/random_uniform/shape (Const) \n  char_repr_cnn/conv1d/kernel/Initializer/random_uniform/min (Const) \n  char_repr_cnn/conv1d/kernel/Initializer/random_uniform/max (Const) \n  char_repr_cnn/conv1d/kernel/Initializer/random_uniform/RandomUniform (RandomUniform) \n  char_repr_cnn/conv1d/kernel/Initializer/random_uniform/sub (Sub) \n  char_repr_cnn/conv1d/kernel/Initializer/random_uniform/mul (Mul) \n  char_repr_cnn/conv1d/kernel/Initializer/random_uniform (AddV2) \n  char_repr_cnn/conv1d/kernel (VarHandleOp) /device:GPU:0\n  char_repr_cnn/conv1d/kernel/IsInitialized/VarIsInitializedOp (VarIsInitializedOp) /device:GPU:0\n  char_repr_cnn/conv1d/kernel/Assign (AssignVariableOp) /device:GPU:0\n  char_repr_cnn/conv1d/kernel/Read/ReadVariableOp (ReadVariableOp) /device:GPU:0\n  char_repr_cnn/conv1d/Conv1D/ExpandDims_1/ReadVariableOp (ReadVariableOp) \n  training/char_repr_cnn/conv1d/kernel/train/Initializer/zeros/shape_as_tensor (Const) /device:GPU:0\n  training/char_repr_cnn/conv1d/kernel/train/Initializer/zeros/Const (Const) /device:GPU:0\n  training/char_repr_cnn/conv1d/kernel/train/Initializer/zeros (Fill) /device:GPU:0\n  training/char_repr_cnn/conv1d/kernel/train (VarHandleOp) /device:GPU:0\n  training/char_repr_cnn/conv1d/kernel/train/IsInitialized/VarIsInitializedOp (VarIsInitializedOp) /device:GPU:0\n  training/char_repr_cnn/conv1d/kernel/train/Assign (AssignVariableOp) /device:GPU:0\n  training/char_repr_cnn/conv1d/kernel/train/Read/ReadVariableOp (ReadVariableOp) /device:GPU:0\n  training/char_repr_cnn/conv1d/kernel/train_1/Initializer/zeros/shape_as_tensor (Const) /device:GPU:0\n  training/char_repr_cnn/conv1d/kernel/train_1/Initializer/zeros/Const (Const) /device:GPU:0\n  training/char_repr_cnn/conv1d/kernel/train_1/Initializer/zeros (Fill) /device:GPU:0\n  training/char_repr_cnn/conv1d/kernel/train_1 (VarHandleOp) /device:GPU:0\n  training/char_repr_cnn/conv1d/kernel/train_1/IsInitialized/VarIsInitializedOp (VarIsInitializedOp) /device:GPU:0\n  training/char_repr_cnn/conv1d/kernel/train_1/Assign (AssignVariableOp) /device:GPU:0\n  training/char_repr_cnn/conv1d/kernel/train_1/Read/ReadVariableOp (ReadVariableOp) /device:GPU:0\n  training_1/train/update_char_repr_cnn/conv1d/kernel/ResourceApplyAdam (ResourceApplyAdam) /device:GPU:0\n\n2024-11-11 21:28:46.557508: W tensorflow/core/common_runtime/colocation_graph.cc:1214] Failed to place the graph without changing the devices of some resources. Some of the operations (that had to be colocated with resource generating operations) are not supported on the resources' devices. Current candidate devices are [\n  /job:localhost/replica:0/task:0/device:CPU:0].\nSee below for details of this colocation group:\nColocation Debug Info:\nColocation group had the following types and supported devices: \nRoot Member(assigned_device_name_index_=-1 requested_device_name_='/device:GPU:0' assigned_device_name_='' resource_device_name_='/device:GPU:0' supported_device_types_=[CPU] possible_devices_=[]\nAssignVariableOp: CPU \nReadVariableOp: CPU \nVarIsInitializedOp: CPU \nVarHandleOp: CPU \nResourceApplyAdam: CPU \nConst: CPU \n\nColocation members, user-requested devices, and framework assigned devices, if any:\n  char_repr_cnn/conv1d/bias/Initializer/zeros (Const) \n  char_repr_cnn/conv1d/bias (VarHandleOp) /device:GPU:0\n  char_repr_cnn/conv1d/bias/IsInitialized/VarIsInitializedOp (VarIsInitializedOp) /device:GPU:0\n  char_repr_cnn/conv1d/bias/Assign (AssignVariableOp) /device:GPU:0\n  char_repr_cnn/conv1d/bias/Read/ReadVariableOp (ReadVariableOp) /device:GPU:0\n  char_repr_cnn/conv1d/BiasAdd/ReadVariableOp (ReadVariableOp) \n  training/char_repr_cnn/conv1d/bias/train/Initializer/zeros (Const) /device:GPU:0\n  training/char_repr_cnn/conv1d/bias/train (VarHandleOp) /device:GPU:0\n  training/char_repr_cnn/conv1d/bias/train/IsInitialized/VarIsInitializedOp (VarIsInitializedOp) /device:GPU:0\n  training/char_repr_cnn/conv1d/bias/train/Assign (AssignVariableOp) /device:GPU:0\n  training/char_repr_cnn/conv1d/bias/train/Read/ReadVariableOp (ReadVariableOp) /device:GPU:0\n  training/char_repr_cnn/conv1d/bias/train_1/Initializer/zeros (Const) /device:GPU:0\n  training/char_repr_cnn/conv1d/bias/train_1 (VarHandleOp) /device:GPU:0\n  training/char_repr_cnn/conv1d/bias/train_1/IsInitialized/VarIsInitializedOp (VarIsInitializedOp) /device:GPU:0\n  training/char_repr_cnn/conv1d/bias/train_1/Assign (AssignVariableOp) /device:GPU:0\n  training/char_repr_cnn/conv1d/bias/train_1/Read/ReadVariableOp (ReadVariableOp) /device:GPU:0\n  training_1/train/update_char_repr_cnn/conv1d/bias/ResourceApplyAdam (ResourceApplyAdam) /device:GPU:0\n\n2024-11-11 21:28:46.557786: W tensorflow/core/common_runtime/colocation_graph.cc:1214] Failed to place the graph without changing the devices of some resources. Some of the operations (that had to be colocated with resource generating operations) are not supported on the resources' devices. Current candidate devices are [\n  /job:localhost/replica:0/task:0/device:CPU:0].\nSee below for details of this colocation group:\nColocation Debug Info:\nColocation group had the following types and supported devices: \nRoot Member(assigned_device_name_index_=-1 requested_device_name_='/device:GPU:0' assigned_device_name_='' resource_device_name_='/device:GPU:0' supported_device_types_=[CPU] possible_devices_=[]\nAssignSub: CPU \nScatterAdd: CPU \nNoOp: CPU \nSqrt: CPU \nUnsortedSegmentSum: CPU \nRealDiv: CPU \nConst: CPU \nStridedSlice: CPU \nRandomUniform: CPU \nAddV2: CPU \nUnique: CPU \nMul: CPU \nVariableV2: CPU \nAssign: CPU \nShape: CPU \nIdentity: CPU \nCast: CPU \nSub: CPU \nGatherV2: CPU \nFill: CPU \n\nColocation members, user-requested devices, and framework assigned devices, if any:\n  char_repr_lstm/char_embeddings/Initializer/random_uniform/shape (Const) \n  char_repr_lstm/char_embeddings/Initializer/random_uniform/min (Const) \n  char_repr_lstm/char_embeddings/Initializer/random_uniform/max (Const) \n  char_repr_lstm/char_embeddings/Initializer/random_uniform/RandomUniform (RandomUniform) \n  char_repr_lstm/char_embeddings/Initializer/random_uniform/sub (Sub) \n  char_repr_lstm/char_embeddings/Initializer/random_uniform/mul (Mul) \n  char_repr_lstm/char_embeddings/Initializer/random_uniform (AddV2) \n  char_repr_lstm/char_embeddings (VariableV2) /device:GPU:0\n  char_repr_lstm/char_embeddings/Assign (Assign) /device:GPU:0\n  char_repr_lstm/char_embeddings/read (Identity) /device:GPU:0\n  char_repr_lstm/embedding_lookup/axis (Const) /device:GPU:0\n  char_repr_lstm/embedding_lookup (GatherV2) /device:GPU:0\n  training_1/gradients/char_repr_lstm/embedding_lookup_grad/Shape (Const) /device:GPU:0\n  training_1/gradients/char_repr_lstm/embedding_lookup_grad/Cast (Cast) /device:GPU:0\n  training/char_repr_lstm/char_embeddings/train/Initializer/zeros/shape_as_tensor (Const) /device:GPU:0\n  training/char_repr_lstm/char_embeddings/train/Initializer/zeros/Const (Const) /device:GPU:0\n  training/char_repr_lstm/char_embeddings/train/Initializer/zeros (Fill) /device:GPU:0\n  training/char_repr_lstm/char_embeddings/train (VariableV2) /device:GPU:0\n  training/char_repr_lstm/char_embeddings/train/Assign (Assign) /device:GPU:0\n  training/char_repr_lstm/char_embeddings/train/read (Identity) /device:GPU:0\n  training/char_repr_lstm/char_embeddings/train_1/Initializer/zeros/shape_as_tensor (Const) /device:GPU:0\n  training/char_repr_lstm/char_embeddings/train_1/Initializer/zeros/Const (Const) /device:GPU:0\n  training/char_repr_lstm/char_embeddings/train_1/Initializer/zeros (Fill) /device:GPU:0\n  training/char_repr_lstm/char_embeddings/train_1 (VariableV2) /device:GPU:0\n  training/char_repr_lstm/char_embeddings/train_1/Assign (Assign) /device:GPU:0\n  training/char_repr_lstm/char_embeddings/train_1/read (Identity) /device:GPU:0\n  training_1/train/update_char_repr_lstm/char_embeddings/Unique (Unique) /device:GPU:0\n  training_1/train/update_char_repr_lstm/char_embeddings/Shape (Shape) /device:GPU:0\n  training_1/train/update_char_repr_lstm/char_embeddings/strided_slice/stack (Const) /device:GPU:0\n  training_1/train/update_char_repr_lstm/char_embeddings/strided_slice/stack_1 (Const) /device:GPU:0\n  training_1/train/update_char_repr_lstm/char_embeddings/strided_slice/stack_2 (Const) /device:GPU:0\n  training_1/train/update_char_repr_lstm/char_embeddings/strided_slice (StridedSlice) /device:GPU:0\n  training_1/train/update_char_repr_lstm/char_embeddings/UnsortedSegmentSum (UnsortedSegmentSum) /device:GPU:0\n  training_1/train/update_char_repr_lstm/char_embeddings/sub/x (Const) /device:GPU:0\n  training_1/train/update_char_repr_lstm/char_embeddings/sub (Sub) /device:GPU:0\n  training_1/train/update_char_repr_lstm/char_embeddings/Sqrt (Sqrt) /device:GPU:0\n  training_1/train/update_char_repr_lstm/char_embeddings/mul (Mul) /device:GPU:0\n  training_1/train/update_char_repr_lstm/char_embeddings/sub_1/x (Const) /device:GPU:0\n  training_1/train/update_char_repr_lstm/char_embeddings/sub_1 (Sub) /device:GPU:0\n  training_1/train/update_char_repr_lstm/char_embeddings/truediv (RealDiv) /device:GPU:0\n  training_1/train/update_char_repr_lstm/char_embeddings/sub_2/x (Const) /device:GPU:0\n  training_1/train/update_char_repr_lstm/char_embeddings/sub_2 (Sub) /device:GPU:0\n  training_1/train/update_char_repr_lstm/char_embeddings/mul_1 (Mul) /device:GPU:0\n  training_1/train/update_char_repr_lstm/char_embeddings/mul_2 (Mul) /device:GPU:0\n  training_1/train/update_char_repr_lstm/char_embeddings/Assign (Assign) /device:GPU:0\n  training_1/train/update_char_repr_lstm/char_embeddings/ScatterAdd (ScatterAdd) /device:GPU:0\n  training_1/train/update_char_repr_lstm/char_embeddings/mul_3 (Mul) /device:GPU:0\n  training_1/train/update_char_repr_lstm/char_embeddings/sub_3/x (Const) /device:GPU:0\n  training_1/train/update_char_repr_lstm/char_embeddings/sub_3 (Sub) /device:GPU:0\n  training_1/train/update_char_repr_lstm/char_embeddings/mul_4 (Mul) /device:GPU:0\n  training_1/train/update_char_repr_lstm/char_embeddings/mul_5 (Mul) /device:GPU:0\n  training_1/train/update_char_repr_lstm/char_embeddings/Assign_1 (Assign) /device:GPU:0\n  training_1/train/update_char_repr_lstm/char_embeddings/ScatterAdd_1 (ScatterAdd) /device:GPU:0\n  training_1/train/update_char_repr_lstm/char_embeddings/Sqrt_1 (Sqrt) /device:GPU:0\n  training_1/train/update_char_repr_lstm/char_embeddings/mul_6 (Mul) /device:GPU:0\n  training_1/train/update_char_repr_lstm/char_embeddings/add (AddV2) /device:GPU:0\n  training_1/train/update_char_repr_lstm/char_embeddings/truediv_1 (RealDiv) /device:GPU:0\n  training_1/train/update_char_repr_lstm/char_embeddings/AssignSub (AssignSub) /device:GPU:0\n  training_1/train/update_char_repr_lstm/char_embeddings/group_deps (NoOp) /device:GPU:0\n\n2024-11-11 21:28:46.557967: W tensorflow/core/common_runtime/colocation_graph.cc:1214] Failed to place the graph without changing the devices of some resources. Some of the operations (that had to be colocated with resource generating operations) are not supported on the resources' devices. Current candidate devices are [\n  /job:localhost/replica:0/task:0/device:CPU:0].\nSee below for details of this colocation group:\nColocation Debug Info:\nColocation group had the following types and supported devices: \nRoot Member(assigned_device_name_index_=-1 requested_device_name_='/device:GPU:0' assigned_device_name_='' resource_device_name_='/device:GPU:0' supported_device_types_=[CPU] possible_devices_=[]\nFill: CPU \nReadVariableOp: CPU \nVarIsInitializedOp: CPU \nVarHandleOp: CPU \nAssignVariableOp: CPU \nMul: CPU \nSub: CPU \nEnter: CPU \nAddV2: CPU \nRandomUniform: CPU \nResourceApplyAdam: CPU \nConst: CPU \n\nColocation members, user-requested devices, and framework assigned devices, if any:\n  char_repr_lstm/sequential/bidirectional/forward_lstm/lstm_cell_1/kernel/Initializer/random_uniform/shape (Const) \n  char_repr_lstm/sequential/bidirectional/forward_lstm/lstm_cell_1/kernel/Initializer/random_uniform/min (Const) \n  char_repr_lstm/sequential/bidirectional/forward_lstm/lstm_cell_1/kernel/Initializer/random_uniform/max (Const) \n  char_repr_lstm/sequential/bidirectional/forward_lstm/lstm_cell_1/kernel/Initializer/random_uniform/RandomUniform (RandomUniform) \n  char_repr_lstm/sequential/bidirectional/forward_lstm/lstm_cell_1/kernel/Initializer/random_uniform/sub (Sub) \n  char_repr_lstm/sequential/bidirectional/forward_lstm/lstm_cell_1/kernel/Initializer/random_uniform/mul (Mul) \n  char_repr_lstm/sequential/bidirectional/forward_lstm/lstm_cell_1/kernel/Initializer/random_uniform (AddV2) \n  char_repr_lstm/sequential/bidirectional/forward_lstm/lstm_cell_1/kernel (VarHandleOp) /device:GPU:0\n  char_repr_lstm/sequential/bidirectional/forward_lstm/lstm_cell_1/kernel/IsInitialized/VarIsInitializedOp (VarIsInitializedOp) /device:GPU:0\n  char_repr_lstm/sequential/bidirectional/forward_lstm/lstm_cell_1/kernel/Assign (AssignVariableOp) /device:GPU:0\n  char_repr_lstm/sequential/bidirectional/forward_lstm/lstm_cell_1/kernel/Read/ReadVariableOp (ReadVariableOp) /device:GPU:0\n  char_repr_lstm/sequential/bidirectional/forward_lstm_1/lstm_cell_1/split/ReadVariableOp (ReadVariableOp) \n  char_repr_lstm/sequential/bidirectional/forward_lstm_1/while/lstm_cell_1/split/ReadVariableOp/Enter (Enter) \n  char_repr_lstm/sequential/bidirectional/forward_lstm_1/while/lstm_cell_1/split/ReadVariableOp (ReadVariableOp) \n  training/char_repr_lstm/sequential/bidirectional/forward_lstm/lstm_cell_1/kernel/train/Initializer/zeros/shape_as_tensor (Const) /device:GPU:0\n  training/char_repr_lstm/sequential/bidirectional/forward_lstm/lstm_cell_1/kernel/train/Initializer/zeros/Const (Const) /device:GPU:0\n  training/char_repr_lstm/sequential/bidirectional/forward_lstm/lstm_cell_1/kernel/train/Initializer/zeros (Fill) /device:GPU:0\n  training/char_repr_lstm/sequential/bidirectional/forward_lstm/lstm_cell_1/kernel/train (VarHandleOp) /device:GPU:0\n  training/char_repr_lstm/sequential/bidirectional/forward_lstm/lstm_cell_1/kernel/train/IsInitialized/VarIsInitializedOp (VarIsInitializedOp) /device:GPU:0\n  training/char_repr_lstm/sequential/bidirectional/forward_lstm/lstm_cell_1/kernel/train/Assign (AssignVariableOp) /device:GPU:0\n  training/char_repr_lstm/sequential/bidirectional/forward_lstm/lstm_cell_1/kernel/train/Read/ReadVariableOp (ReadVariableOp) /device:GPU:0\n  training/char_repr_lstm/sequential/bidirectional/forward_lstm/lstm_cell_1/kernel/train_1/Initializer/zeros/shape_as_tensor (Const) /device:GPU:0\n  training/char_repr_lstm/sequential/bidirectional/forward_lstm/lstm_cell_1/kernel/train_1/Initializer/zeros/Const (Const) /device:GPU:0\n  training/char_repr_lstm/sequential/bidirectional/forward_lstm/lstm_cell_1/kernel/train_1/Initializer/zeros (Fill) /device:GPU:0\n  training/char_repr_lstm/sequential/bidirectional/forward_lstm/lstm_cell_1/kernel/train_1 (VarHandleOp) /device:GPU:0\n  training/char_repr_lstm/sequential/bidirectional/forward_lstm/lstm_cell_1/kernel/train_1/IsInitialized/VarIsInitializedOp (VarIsInitializedOp) /device:GPU:0\n  training/char_repr_lstm/sequential/bidirectional/forward_lstm/lstm_cell_1/kernel/train_1/Assign (AssignVariableOp) /device:GPU:0\n  training/char_repr_lstm/sequential/bidirectional/forward_lstm/lstm_cell_1/kernel/train_1/Read/ReadVariableOp (ReadVariableOp) /device:GPU:0\n  training_1/train/update_char_repr_lstm/sequential/bidirectional/forward_lstm/lstm_cell_1/kernel/ResourceApplyAdam (ResourceApplyAdam) /device:GPU:0\n\n2024-11-11 21:28:46.558160: W tensorflow/core/common_runtime/colocation_graph.cc:1214] Failed to place the graph without changing the devices of some resources. Some of the operations (that had to be\n\n*** WARNING: max output size exceeded, skipping output. ***\n\nGPU:0\n\n2024-11-11 21:28:50.318090: W tensorflow/core/common_runtime/colocation_graph.cc:1214] Failed to place the graph without changing the devices of some resources. Some of the operations (that had to be colocated with resource generating operations) are not supported on the resources' devices. Current candidate devices are [\n  /job:localhost/replica:0/task:0/device:CPU:0].\nSee below for details of this colocation group:\nColocation Debug Info:\nColocation group had the following types and supported devices: \nRoot Member(assigned_device_name_index_=-1 requested_device_name_='/device:GPU:0' assigned_device_name_='' resource_device_name_='/device:GPU:0' supported_device_types_=[CPU] possible_devices_=[]\nApplyAdam: CPU \nIdentity: CPU \nAssign: CPU \nVariableV2: CPU \nMul: CPU \nSub: CPU \nAddV2: CPU \nRandomUniform: CPU \nConst: CPU \n\nColocation members, user-requested devices, and framework assigned devices, if any:\n  context_repr/lstm-2/lstm_fused_cell/w_f_diag/Initializer/random_uniform/shape (Const) \n  context_repr/lstm-2/lstm_fused_cell/w_f_diag/Initializer/random_uniform/min (Const) \n  context_repr/lstm-2/lstm_fused_cell/w_f_diag/Initializer/random_uniform/max (Const) \n  context_repr/lstm-2/lstm_fused_cell/w_f_diag/Initializer/random_uniform/RandomUniform (RandomUniform) \n  context_repr/lstm-2/lstm_fused_cell/w_f_diag/Initializer/random_uniform/sub (Sub) \n  context_repr/lstm-2/lstm_fused_cell/w_f_diag/Initializer/random_uniform/mul (Mul) \n  context_repr/lstm-2/lstm_fused_cell/w_f_diag/Initializer/random_uniform (AddV2) \n  context_repr/lstm-2/lstm_fused_cell/w_f_diag (VariableV2) /device:GPU:0\n  context_repr/lstm-2/lstm_fused_cell/w_f_diag/Assign (Assign) /device:GPU:0\n  context_repr/lstm-2/lstm_fused_cell/w_f_diag/read (Identity) /device:GPU:0\n  training/context_repr/lstm-2/lstm_fused_cell/w_f_diag/train/Initializer/zeros (Const) /device:GPU:0\n  training/context_repr/lstm-2/lstm_fused_cell/w_f_diag/train (VariableV2) /device:GPU:0\n  training/context_repr/lstm-2/lstm_fused_cell/w_f_diag/train/Assign (Assign) /device:GPU:0\n  training/context_repr/lstm-2/lstm_fused_cell/w_f_diag/train/read (Identity) /device:GPU:0\n  training/context_repr/lstm-2/lstm_fused_cell/w_f_diag/train_1/Initializer/zeros (Const) /device:GPU:0\n  training/context_repr/lstm-2/lstm_fused_cell/w_f_diag/train_1 (VariableV2) /device:GPU:0\n  training/context_repr/lstm-2/lstm_fused_cell/w_f_diag/train_1/Assign (Assign) /device:GPU:0\n  training/context_repr/lstm-2/lstm_fused_cell/w_f_diag/train_1/read (Identity) /device:GPU:0\n  training_1/train/update_context_repr/lstm-2/lstm_fused_cell/w_f_diag/ApplyAdam (ApplyAdam) /device:GPU:0\n\n2024-11-11 21:28:50.318606: W tensorflow/core/common_runtime/colocation_graph.cc:1214] Failed to place the graph without changing the devices of some resources. Some of the operations (that had to be colocated with resource generating operations) are not supported on the resources' devices. Current candidate devices are [\n  /job:localhost/replica:0/task:0/device:CPU:0].\nSee below for details of this colocation group:\nColocation Debug Info:\nColocation group had the following types and supported devices: \nRoot Member(assigned_device_name_index_=-1 requested_device_name_='/device:GPU:0' assigned_device_name_='' resource_device_name_='/device:GPU:0' supported_device_types_=[CPU] possible_devices_=[]\nApplyAdam: CPU \nIdentity: CPU \nAssign: CPU \nVariableV2: CPU \nMul: CPU \nSub: CPU \nAddV2: CPU \nRandomUniform: CPU \nConst: CPU \n\nColocation members, user-requested devices, and framework assigned devices, if any:\n  context_repr/lstm-2/lstm_fused_cell/w_o_diag/Initializer/random_uniform/shape (Const) \n  context_repr/lstm-2/lstm_fused_cell/w_o_diag/Initializer/random_uniform/min (Const) \n  context_repr/lstm-2/lstm_fused_cell/w_o_diag/Initializer/random_uniform/max (Const) \n  context_repr/lstm-2/lstm_fused_cell/w_o_diag/Initializer/random_uniform/RandomUniform (RandomUniform) \n  context_repr/lstm-2/lstm_fused_cell/w_o_diag/Initializer/random_uniform/sub (Sub) \n  context_repr/lstm-2/lstm_fused_cell/w_o_diag/Initializer/random_uniform/mul (Mul) \n  context_repr/lstm-2/lstm_fused_cell/w_o_diag/Initializer/random_uniform (AddV2) \n  context_repr/lstm-2/lstm_fused_cell/w_o_diag (VariableV2) /device:GPU:0\n  context_repr/lstm-2/lstm_fused_cell/w_o_diag/Assign (Assign) /device:GPU:0\n  context_repr/lstm-2/lstm_fused_cell/w_o_diag/read (Identity) /device:GPU:0\n  training/context_repr/lstm-2/lstm_fused_cell/w_o_diag/train/Initializer/zeros (Const) /device:GPU:0\n  training/context_repr/lstm-2/lstm_fused_cell/w_o_diag/train (VariableV2) /device:GPU:0\n  training/context_repr/lstm-2/lstm_fused_cell/w_o_diag/train/Assign (Assign) /device:GPU:0\n  training/context_repr/lstm-2/lstm_fused_cell/w_o_diag/train/read (Identity) /device:GPU:0\n  training/context_repr/lstm-2/lstm_fused_cell/w_o_diag/train_1/Initializer/zeros (Const) /device:GPU:0\n  training/context_repr/lstm-2/lstm_fused_cell/w_o_diag/train_1 (VariableV2) /device:GPU:0\n  training/context_repr/lstm-2/lstm_fused_cell/w_o_diag/train_1/Assign (Assign) /device:GPU:0\n  training/context_repr/lstm-2/lstm_fused_cell/w_o_diag/train_1/read (Identity) /device:GPU:0\n  training_1/train/update_context_repr/lstm-2/lstm_fused_cell/w_o_diag/ApplyAdam (ApplyAdam) /device:GPU:0\n\n2024-11-11 21:28:50.318901: W tensorflow/core/common_runtime/colocation_graph.cc:1214] Failed to place the graph without changing the devices of some resources. Some of the operations (that had to be colocated with resource generating operations) are not supported on the resources' devices. Current candidate devices are [\n  /job:localhost/replica:0/task:0/device:CPU:0].\nSee below for details of this colocation group:\nColocation Debug Info:\nColocation group had the following types and supported devices: \nRoot Member(assigned_device_name_index_=-1 requested_device_name_='/device:GPU:0' assigned_device_name_='' resource_device_name_='/device:GPU:0' supported_device_types_=[CPU] possible_devices_=[]\nApplyAdam: CPU \nFill: CPU \nIdentity: CPU \nAssign: CPU \nVariableV2: CPU \nMul: CPU \nSub: CPU \nAddV2: CPU \nRandomUniform: CPU \nConst: CPU \n\nColocation members, user-requested devices, and framework assigned devices, if any:\n  context_repr/lstm-2/lstm_fused_cell_1/kernel/Initializer/random_uniform/shape (Const) \n  context_repr/lstm-2/lstm_fused_cell_1/kernel/Initializer/random_uniform/min (Const) \n  context_repr/lstm-2/lstm_fused_cell_1/kernel/Initializer/random_uniform/max (Const) \n  context_repr/lstm-2/lstm_fused_cell_1/kernel/Initializer/random_uniform/RandomUniform (RandomUniform) \n  context_repr/lstm-2/lstm_fused_cell_1/kernel/Initializer/random_uniform/sub (Sub) \n  context_repr/lstm-2/lstm_fused_cell_1/kernel/Initializer/random_uniform/mul (Mul) \n  context_repr/lstm-2/lstm_fused_cell_1/kernel/Initializer/random_uniform (AddV2) \n  context_repr/lstm-2/lstm_fused_cell_1/kernel (VariableV2) /device:GPU:0\n  context_repr/lstm-2/lstm_fused_cell_1/kernel/Assign (Assign) /device:GPU:0\n  context_repr/lstm-2/lstm_fused_cell_1/kernel/read (Identity) /device:GPU:0\n  training/context_repr/lstm-2/lstm_fused_cell_1/kernel/train/Initializer/zeros/shape_as_tensor (Const) /device:GPU:0\n  training/context_repr/lstm-2/lstm_fused_cell_1/kernel/train/Initializer/zeros/Const (Const) /device:GPU:0\n  training/context_repr/lstm-2/lstm_fused_cell_1/kernel/train/Initializer/zeros (Fill) /device:GPU:0\n  training/context_repr/lstm-2/lstm_fused_cell_1/kernel/train (VariableV2) /device:GPU:0\n  training/context_repr/lstm-2/lstm_fused_cell_1/kernel/train/Assign (Assign) /device:GPU:0\n  training/context_repr/lstm-2/lstm_fused_cell_1/kernel/train/read (Identity) /device:GPU:0\n  training/context_repr/lstm-2/lstm_fused_cell_1/kernel/train_1/Initializer/zeros/shape_as_tensor (Const) /device:GPU:0\n  training/context_repr/lstm-2/lstm_fused_cell_1/kernel/train_1/Initializer/zeros/Const (Const) /device:GPU:0\n  training/context_repr/lstm-2/lstm_fused_cell_1/kernel/train_1/Initializer/zeros (Fill) /device:GPU:0\n  training/context_repr/lstm-2/lstm_fused_cell_1/kernel/train_1 (VariableV2) /device:GPU:0\n  training/context_repr/lstm-2/lstm_fused_cell_1/kernel/train_1/Assign (Assign) /device:GPU:0\n  training/context_repr/lstm-2/lstm_fused_cell_1/kernel/train_1/read (Identity) /device:GPU:0\n  training_1/train/update_context_repr/lstm-2/lstm_fused_cell_1/kernel/ApplyAdam (ApplyAdam) /device:GPU:0\n\n2024-11-11 21:28:50.319092: W tensorflow/core/common_runtime/colocation_graph.cc:1214] Failed to place the graph without changing the devices of some resources. Some of the operations (that had to be colocated with resource generating operations) are not supported on the resources' devices. Current candidate devices are [\n  /job:localhost/replica:0/task:0/device:CPU:0].\nSee below for details of this colocation group:\nColocation Debug Info:\nColocation group had the following types and supported devices: \nRoot Member(assigned_device_name_index_=-1 requested_device_name_='/device:GPU:0' assigned_device_name_='' resource_device_name_='/device:GPU:0' supported_device_types_=[CPU] possible_devices_=[]\nApplyAdam: CPU \nIdentity: CPU \nAssign: CPU \nVariableV2: CPU \nConst: CPU \n\nColocation members, user-requested devices, and framework assigned devices, if any:\n  context_repr/lstm-2/lstm_fused_cell_1/bias/Initializer/Const (Const) \n  context_repr/lstm-2/lstm_fused_cell_1/bias (VariableV2) /device:GPU:0\n  context_repr/lstm-2/lstm_fused_cell_1/bias/Assign (Assign) /device:GPU:0\n  context_repr/lstm-2/lstm_fused_cell_1/bias/read (Identity) /device:GPU:0\n  training/context_repr/lstm-2/lstm_fused_cell_1/bias/train/Initializer/zeros (Const) /device:GPU:0\n  training/context_repr/lstm-2/lstm_fused_cell_1/bias/train (VariableV2) /device:GPU:0\n  training/context_repr/lstm-2/lstm_fused_cell_1/bias/train/Assign (Assign) /device:GPU:0\n  training/context_repr/lstm-2/lstm_fused_cell_1/bias/train/read (Identity) /device:GPU:0\n  training/context_repr/lstm-2/lstm_fused_cell_1/bias/train_1/Initializer/zeros (Const) /device:GPU:0\n  training/context_repr/lstm-2/lstm_fused_cell_1/bias/train_1 (VariableV2) /device:GPU:0\n  training/context_repr/lstm-2/lstm_fused_cell_1/bias/train_1/Assign (Assign) /device:GPU:0\n  training/context_repr/lstm-2/lstm_fused_cell_1/bias/train_1/read (Identity) /device:GPU:0\n  training_1/train/update_context_repr/lstm-2/lstm_fused_cell_1/bias/ApplyAdam (ApplyAdam) /device:GPU:0\n\n2024-11-11 21:28:50.319545: W tensorflow/core/common_runtime/colocation_graph.cc:1214] Failed to place the graph without changing the devices of some resources. Some of the operations (that had to be colocated with resource generating operations) are not supported on the resources' devices. Current candidate devices are [\n  /job:localhost/replica:0/task:0/device:CPU:0].\nSee below for details of this colocation group:\nColocation Debug Info:\nColocation group had the following types and supported devices: \nRoot Member(assigned_device_name_index_=-1 requested_device_name_='/device:GPU:0' assigned_device_name_='' resource_device_name_='/device:GPU:0' supported_device_types_=[CPU] possible_devices_=[]\nApplyAdam: CPU \nIdentity: CPU \nAssign: CPU \nVariableV2: CPU \nMul: CPU \nSub: CPU \nAddV2: CPU \nRandomUniform: CPU \nConst: CPU \n\nColocation members, user-requested devices, and framework assigned devices, if any:\n  context_repr/lstm-2/lstm_fused_cell_1/w_i_diag/Initializer/random_uniform/shape (Const) \n  context_repr/lstm-2/lstm_fused_cell_1/w_i_diag/Initializer/random_uniform/min (Const) \n  context_repr/lstm-2/lstm_fused_cell_1/w_i_diag/Initializer/random_uniform/max (Const) \n  context_repr/lstm-2/lstm_fused_cell_1/w_i_diag/Initializer/random_uniform/RandomUniform (RandomUniform) \n  context_repr/lstm-2/lstm_fused_cell_1/w_i_diag/Initializer/random_uniform/sub (Sub) \n  context_repr/lstm-2/lstm_fused_cell_1/w_i_diag/Initializer/random_uniform/mul (Mul) \n  context_repr/lstm-2/lstm_fused_cell_1/w_i_diag/Initializer/random_uniform (AddV2) \n  context_repr/lstm-2/lstm_fused_cell_1/w_i_diag (VariableV2) /device:GPU:0\n  context_repr/lstm-2/lstm_fused_cell_1/w_i_diag/Assign (Assign) /device:GPU:0\n  context_repr/lstm-2/lstm_fused_cell_1/w_i_diag/read (Identity) /device:GPU:0\n  training/context_repr/lstm-2/lstm_fused_cell_1/w_i_diag/train/Initializer/zeros (Const) /device:GPU:0\n  training/context_repr/lstm-2/lstm_fused_cell_1/w_i_diag/train (VariableV2) /device:GPU:0\n  training/context_repr/lstm-2/lstm_fused_cell_1/w_i_diag/train/Assign (Assign) /device:GPU:0\n  training/context_repr/lstm-2/lstm_fused_cell_1/w_i_diag/train/read (Identity) /device:GPU:0\n  training/context_repr/lstm-2/lstm_fused_cell_1/w_i_diag/train_1/Initializer/zeros (Const) /device:GPU:0\n  training/context_repr/lstm-2/lstm_fused_cell_1/w_i_diag/train_1 (VariableV2) /device:GPU:0\n  training/context_repr/lstm-2/lstm_fused_cell_1/w_i_diag/train_1/Assign (Assign) /device:GPU:0\n  training/context_repr/lstm-2/lstm_fused_cell_1/w_i_diag/train_1/read (Identity) /device:GPU:0\n  training_1/train/update_context_repr/lstm-2/lstm_fused_cell_1/w_i_diag/ApplyAdam (ApplyAdam) /device:GPU:0\n\n2024-11-11 21:28:50.320436: W tensorflow/core/common_runtime/colocation_graph.cc:1214] Failed to place the graph without changing the devices of some resources. Some of the operations (that had to be colocated with resource generating operations) are not supported on the resources' devices. Current candidate devices are [\n  /job:localhost/replica:0/task:0/device:CPU:0].\nSee below for details of this colocation group:\nColocation Debug Info:\nColocation group had the following types and supported devices: \nRoot Member(assigned_device_name_index_=-1 requested_device_name_='/device:GPU:0' assigned_device_name_='' resource_device_name_='/device:GPU:0' supported_device_types_=[CPU] possible_devices_=[]\nApplyAdam: CPU \nIdentity: CPU \nAssign: CPU \nVariableV2: CPU \nMul: CPU \nSub: CPU \nAddV2: CPU \nRandomUniform: CPU \nConst: CPU \n\nColocation members, user-requested devices, and framework assigned devices, if any:\n  context_repr/lstm-2/lstm_fused_cell_1/w_f_diag/Initializer/random_uniform/shape (Const) \n  context_repr/lstm-2/lstm_fused_cell_1/w_f_diag/Initializer/random_uniform/min (Const) \n  context_repr/lstm-2/lstm_fused_cell_1/w_f_diag/Initializer/random_uniform/max (Const) \n  context_repr/lstm-2/lstm_fused_cell_1/w_f_diag/Initializer/random_uniform/RandomUniform (RandomUniform) \n  context_repr/lstm-2/lstm_fused_cell_1/w_f_diag/Initializer/random_uniform/sub (Sub) \n  context_repr/lstm-2/lstm_fused_cell_1/w_f_diag/Initializer/random_uniform/mul (Mul) \n  context_repr/lstm-2/lstm_fused_cell_1/w_f_diag/Initializer/random_uniform (AddV2) \n  context_repr/lstm-2/lstm_fused_cell_1/w_f_diag (VariableV2) /device:GPU:0\n  context_repr/lstm-2/lstm_fused_cell_1/w_f_diag/Assign (Assign) /device:GPU:0\n  context_repr/lstm-2/lstm_fused_cell_1/w_f_diag/read (Identity) /device:GPU:0\n  training/context_repr/lstm-2/lstm_fused_cell_1/w_f_diag/train/Initializer/zeros (Const) /device:GPU:0\n  training/context_repr/lstm-2/lstm_fused_cell_1/w_f_diag/train (VariableV2) /device:GPU:0\n  training/context_repr/lstm-2/lstm_fused_cell_1/w_f_diag/train/Assign (Assign) /device:GPU:0\n  training/context_repr/lstm-2/lstm_fused_cell_1/w_f_diag/train/read (Identity) /device:GPU:0\n  training/context_repr/lstm-2/lstm_fused_cell_1/w_f_diag/train_1/Initializer/zeros (Const) /device:GPU:0\n  training/context_repr/lstm-2/lstm_fused_cell_1/w_f_diag/train_1 (VariableV2) /device:GPU:0\n  training/context_repr/lstm-2/lstm_fused_cell_1/w_f_diag/train_1/Assign (Assign) /device:GPU:0\n  training/context_repr/lstm-2/lstm_fused_cell_1/w_f_diag/train_1/read (Identity) /device:GPU:0\n  training_1/train/update_context_repr/lstm-2/lstm_fused_cell_1/w_f_diag/ApplyAdam (ApplyAdam) /device:GPU:0\n\n2024-11-11 21:28:50.320657: W tensorflow/core/common_runtime/colocation_graph.cc:1214] Failed to place the graph without changing the devices of some resources. Some of the operations (that had to be colocated with resource generating operations) are not supported on the resources' devices. Current candidate devices are [\n  /job:localhost/replica:0/task:0/device:CPU:0].\nSee below for details of this colocation group:\nColocation Debug Info:\nColocation group had the following types and supported devices: \nRoot Member(assigned_device_name_index_=-1 requested_device_name_='/device:GPU:0' assigned_device_name_='' resource_device_name_='/device:GPU:0' supported_device_types_=[CPU] possible_devices_=[]\nApplyAdam: CPU \nIdentity: CPU \nAssign: CPU \nVariableV2: CPU \nMul: CPU \nSub: CPU \nAddV2: CPU \nRandomUniform: CPU \nConst: CPU \n\nColocation members, user-requested devices, and framework assigned devices, if any:\n  context_repr/lstm-2/lstm_fused_cell_1/w_o_diag/Initializer/random_uniform/shape (Const) \n  context_repr/lstm-2/lstm_fused_cell_1/w_o_diag/Initializer/random_uniform/min (Const) \n  context_repr/lstm-2/lstm_fused_cell_1/w_o_diag/Initializer/random_uniform/max (Const) \n  context_repr/lstm-2/lstm_fused_cell_1/w_o_diag/Initializer/random_uniform/RandomUniform (RandomUniform) \n  context_repr/lstm-2/lstm_fused_cell_1/w_o_diag/Initializer/random_uniform/sub (Sub) \n  context_repr/lstm-2/lstm_fused_cell_1/w_o_diag/Initializer/random_uniform/mul (Mul) \n  context_repr/lstm-2/lstm_fused_cell_1/w_o_diag/Initializer/random_uniform (AddV2) \n  context_repr/lstm-2/lstm_fused_cell_1/w_o_diag (VariableV2) /device:GPU:0\n  context_repr/lstm-2/lstm_fused_cell_1/w_o_diag/Assign (Assign) /device:GPU:0\n  context_repr/lstm-2/lstm_fused_cell_1/w_o_diag/read (Identity) /device:GPU:0\n  training/context_repr/lstm-2/lstm_fused_cell_1/w_o_diag/train/Initializer/zeros (Const) /device:GPU:0\n  training/context_repr/lstm-2/lstm_fused_cell_1/w_o_diag/train (VariableV2) /device:GPU:0\n  training/context_repr/lstm-2/lstm_fused_cell_1/w_o_diag/train/Assign (Assign) /device:GPU:0\n  training/context_repr/lstm-2/lstm_fused_cell_1/w_o_diag/train/read (Identity) /device:GPU:0\n  training/context_repr/lstm-2/lstm_fused_cell_1/w_o_diag/train_1/Initializer/zeros (Const) /device:GPU:0\n  training/context_repr/lstm-2/lstm_fused_cell_1/w_o_diag/train_1 (VariableV2) /device:GPU:0\n  training/context_repr/lstm-2/lstm_fused_cell_1/w_o_diag/train_1/Assign (Assign) /device:GPU:0\n  training/context_repr/lstm-2/lstm_fused_cell_1/w_o_diag/train_1/read (Identity) /device:GPU:0\n  training_1/train/update_context_repr/lstm-2/lstm_fused_cell_1/w_o_diag/ApplyAdam (ApplyAdam) /device:GPU:0\n\n2024-11-11 21:28:50.321517: W tensorflow/core/common_runtime/colocation_graph.cc:1214] Failed to place the graph without changing the devices of some resources. Some of the operations (that had to be colocated with resource generating operations) are not supported on the resources' devices. Current candidate devices are [\n  /job:localhost/replica:0/task:0/device:CPU:0].\nSee below for details of this colocation group:\nColocation Debug Info:\nColocation group had the following types and supported devices: \nRoot Member(assigned_device_name_index_=-1 requested_device_name_='/device:GPU:0' assigned_device_name_='' resource_device_name_='/device:GPU:0' supported_device_types_=[CPU] possible_devices_=[]\nApplyAdam: CPU \nIdentity: CPU \nAssign: CPU \nVariableV2: CPU \nMul: CPU \nSub: CPU \nAddV2: CPU \nRandomUniform: CPU \nConst: CPU \n\nColocation members, user-requested devices, and framework assigned devices, if any:\n  context_repr/W/Initializer/random_uniform/shape (Const) \n  context_repr/W/Initializer/random_uniform/min (Const) \n  context_repr/W/Initializer/random_uniform/max (Const) \n  context_repr/W/Initializer/random_uniform/RandomUniform (RandomUniform) \n  context_repr/W/Initializer/random_uniform/sub (Sub) \n  context_repr/W/Initializer/random_uniform/mul (Mul) \n  context_repr/W/Initializer/random_uniform (AddV2) \n  context_repr/W (VariableV2) /device:GPU:0\n  context_repr/W/Assign (Assign) /device:GPU:0\n  context_repr/W/read (Identity) /device:GPU:0\n  training/context_repr/W/train/Initializer/zeros (Const) /device:GPU:0\n  training/context_repr/W/train (VariableV2) /device:GPU:0\n  training/context_repr/W/train/Assign (Assign) /device:GPU:0\n  training/context_repr/W/train/read (Identity) /device:GPU:0\n  training/context_repr/W/train_1/Initializer/zeros (Const) /device:GPU:0\n  training/context_repr/W/train_1 (VariableV2) /device:GPU:0\n  training/context_repr/W/train_1/Assign (Assign) /device:GPU:0\n  training/context_repr/W/train_1/read (Identity) /device:GPU:0\n  training_1/train/update_context_repr/W/ApplyAdam (ApplyAdam) /device:GPU:0\n\n2024-11-11 21:28:50.321731: W tensorflow/core/common_runtime/colocation_graph.cc:1214] Failed to place the graph without changing the devices of some resources. Some of the operations (that had to be colocated with resource generating operations) are not supported on the resources' devices. Current candidate devices are [\n  /job:localhost/replica:0/task:0/device:CPU:0].\nSee below for details of this colocation group:\nColocation Debug Info:\nColocation group had the following types and supported devices: \nRoot Member(assigned_device_name_index_=-1 requested_device_name_='/device:GPU:0' assigned_device_name_='' resource_device_name_='/device:GPU:0' supported_device_types_=[CPU] possible_devices_=[]\nApplyAdam: CPU \nIdentity: CPU \nAssign: CPU \nVariableV2: CPU \nMul: CPU \nSub: CPU \nAddV2: CPU \nRandomUniform: CPU \nConst: CPU \n\nColocation members, user-requested devices, and framework assigned devices, if any:\n  context_repr/b/Initializer/random_uniform/shape (Const) \n  context_repr/b/Initializer/random_uniform/min (Const) \n  context_repr/b/Initializer/random_uniform/max (Const) \n  context_repr/b/Initializer/random_uniform/RandomUniform (RandomUniform) \n  context_repr/b/Initializer/random_uniform/sub (Sub) \n  context_repr/b/Initializer/random_uniform/mul (Mul) \n  context_repr/b/Initializer/random_uniform (AddV2) \n  context_repr/b (VariableV2) /device:GPU:0\n  context_repr/b/Assign (Assign) /device:GPU:0\n  context_repr/b/read (Identity) /device:GPU:0\n  training/context_repr/b/train/Initializer/zeros (Const) /device:GPU:0\n  training/context_repr/b/train (VariableV2) /device:GPU:0\n  training/context_repr/b/train/Assign (Assign) /device:GPU:0\n  training/context_repr/b/train/read (Identity) /device:GPU:0\n  training/context_repr/b/train_1/Initializer/zeros (Const) /device:GPU:0\n  training/context_repr/b/train_1 (VariableV2) /device:GPU:0\n  training/context_repr/b/train_1/Assign (Assign) /device:GPU:0\n  training/context_repr/b/train_1/read (Identity) /device:GPU:0\n  training_1/train/update_context_repr/b/ApplyAdam (ApplyAdam) /device:GPU:0\n\n2024-11-11 21:28:50.322415: W tensorflow/core/common_runtime/colocation_graph.cc:1214] Failed to place the graph without changing the devices of some resources. Some of the operations (that had to be colocated with resource generating operations) are not supported on the resources' devices. Current candidate devices are [\n  /job:localhost/replica:0/task:0/device:CPU:0].\nSee below for details of this colocation group:\nColocation Debug Info:\nColocation group had the following types and supported devices: \nRoot Member(assigned_device_name_index_=-1 requested_device_name_='/device:GPU:0' assigned_device_name_='' resource_device_name_='/device:GPU:0' supported_device_types_=[CPU] possible_devices_=[]\nApplyAdam: CPU \nSwitch: CPU \nIdentity: CPU \nAssign: CPU \nVariableV2: CPU \nMul: CPU \nSub: CPU \nAddV2: CPU \nRandomUniform: CPU \nConst: CPU \n\nColocation members, user-requested devices, and framework assigned devices, if any:\n  inference/transition_params/Initializer/random_uniform/shape (Const) \n  inference/transition_params/Initializer/random_uniform/min (Const) \n  inference/transition_params/Initializer/random_uniform/max (Const) \n  inference/transition_params/Initializer/random_uniform/RandomUniform (RandomUniform) \n  inference/transition_params/Initializer/random_uniform/sub (Sub) \n  inference/transition_params/Initializer/random_uniform/mul (Mul) \n  inference/transition_params/Initializer/random_uniform (AddV2) \n  inference/transition_params (VariableV2) /device:GPU:0\n  inference/transition_params/Assign (Assign) /device:GPU:0\n  inference/transition_params/read (Identity) /device:GPU:0\n  inference/cond/Reshape_5/Switch (Switch) /device:GPU:0\n  inference/cond_1/ExpandDims/Switch (Switch) /device:GPU:0\n  inference/inference_tmp/cond/ExpandDims/Switch (Switch) /device:GPU:0\n  training/inference/transition_params/train/Initializer/zeros (Const) /device:GPU:0\n  training/inference/transition_params/train (VariableV2) /device:GPU:0\n  training/inference/transition_params/train/Assign (Assign) /device:GPU:0\n  training/inference/transition_params/train/read (Identity) /device:GPU:0\n  training/inference/transition_params/train_1/Initializer/zeros (Const) /device:GPU:0\n  training/inference/transition_params/train_1 (VariableV2) /device:GPU:0\n  training/inference/transition_params/train_1/Assign (Assign) /device:GPU:0\n  training/inference/transition_params/train_1/read (Identity) /device:GPU:0\n  training_1/train/update_inference/transition_params/ApplyAdam (ApplyAdam) /device:GPU:0\n\n"
     ]
    },
    {
     "output_type": "stream",
     "name": "stdout",
     "output_type": "stream",
     "text": [
      "ner_dl graph exported to /dbfs/ner/medical_ner_graphs/blstm_3_200_20_85.pb\n"
     ]
    }
   ],
   "source": [
    "# 20 epochs 3 min\n",
    "ner_model = ner_pipeline.fit(conll_data)\n",
    "\n",
    "# if you get an error for incompatible TF graph, use 4.1 NerDL-Graph.ipynb notebook in public folder to create a graph\n",
    "# licensed users can also use 17.Graph_builder_for_DL_models.ipynb to create tf graphs easily."
   ]
  },
  {
   "cell_type": "markdown",
   "metadata": {
    "application/vnd.databricks.v1+cell": {
     "cellMetadata": {
      "byteLimit": 2048000,
      "rowLimit": 10000
     },
     "inputWidgets": {},
     "nuid": "486482a6-26ae-428e-b829-1ac1f5acde28",
     "showTitle": false,
     "tableResultSettingsMap": {},
     "title": ""
    }
   },
   "source": [
    "If you get an error for incompatible TF graph, use [4.1 NerDL-Graph](https://github.com/JohnSnowLabs/spark-nlp-workshop/blob/master/tutorials/Certification_Trainings/Public/4.1_NerDL_Graph.ipynb) notebook in public folder to create a graph\n",
    "\n",
    "Licensed users can also use [17.Graph_builder_for_DL_models.ipynb](https://github.com/JohnSnowLabs/spark-nlp-workshop/blob/master/tutorials/Certification_Trainings/Healthcare/17.Graph_builder_for_DL_models.ipynb) to create TF graphs easily."
   ]
  },
  {
   "cell_type": "markdown",
   "metadata": {
    "application/vnd.databricks.v1+cell": {
     "cellMetadata": {
      "byteLimit": 2048000,
      "rowLimit": 10000
     },
     "inputWidgets": {},
     "nuid": "19090c62-8b9d-41a3-a90c-20e9db4908c9",
     "showTitle": false,
     "tableResultSettingsMap": {},
     "title": ""
    }
   },
   "source": [
    "`getTrainingClassDistribution()` parameter returns the distribution of labels used when training the NER model."
   ]
  },
  {
   "cell_type": "code",
   "execution_count": 0,
   "metadata": {
    "application/vnd.databricks.v1+cell": {
     "cellMetadata": {
      "byteLimit": 2048000,
      "rowLimit": 10000
     },
     "inputWidgets": {},
     "nuid": "e3f2d713-c813-4078-b71f-4fdb34ee821f",
     "showTitle": false,
     "tableResultSettingsMap": {},
     "title": ""
    }
   },
   "outputs": [
    {
     "output_type": "execute_result",
     "data": {
      "text/plain": [
       "{'O': 75093, 'B-Disease': 3093, 'I-Disease': 3547}"
      ]
     },
     "execution_count": 115,
     "metadata": {},
     "output_type": "execute_result"
    }
   ],
   "source": [
    "ner_model.stages[-1].getTrainingClassDistribution()"
   ]
  },
  {
   "cell_type": "markdown",
   "metadata": {
    "application/vnd.databricks.v1+cell": {
     "cellMetadata": {
      "byteLimit": 2048000,
      "rowLimit": 10000
     },
     "inputWidgets": {},
     "nuid": "b42a75af-9b97-44c7-9c06-de2c725f92b2",
     "showTitle": false,
     "tableResultSettingsMap": {},
     "title": ""
    }
   },
   "source": [
    "Let's check the results saved in the log file."
   ]
  },
  {
   "cell_type": "code",
   "execution_count": 0,
   "metadata": {
    "application/vnd.databricks.v1+cell": {
     "cellMetadata": {
      "byteLimit": 2048000,
      "rowLimit": 10000
     },
     "inputWidgets": {},
     "nuid": "6ea7cb38-ac49-4fe3-b880-149e4473742c",
     "showTitle": false,
     "tableResultSettingsMap": {},
     "title": ""
    }
   },
   "outputs": [
    {
     "output_type": "stream",
     "name": "stdout",
     "output_type": "stream",
     "text": [
      "Name of the selected graph: /local_disk0/tmp/sparknlp_tmp_6616718636378061886/blstm_12_200_128_85.pb\nTraining started - total epochs: 10 - lr: 0.001 - batch size: 64 - labels: 3 - chars: 84 - training examples: 6347\n\n\nEpoch 1/10 started, lr: 0.001, dataset size: 6347\n\n\nEpoch 1/10 - 29.55s - loss: 574.5332 - avg training loss: 7.181665 - batches: 80\nQuality on validation dataset (20.0%), validation examples = 1269\ntime to finish evaluation: 3.95s\nTotal validation loss: 69.4374\tAvg validation loss: 2.8932\nlabel\t tp\t fp\t fn\t prec\t rec\t f1\nI-Disease\t 772\t 178\t 767\t 0.8126316\t 0.5016244\t 0.62032944\nB-Disease\t 855\t 337\t 416\t 0.7172819\t 0.6726987\t 0.69427526\ntp: 1627 fp: 515 fn: 1183 labels: 2\nMacro-average\t prec: 0.7649567, rec: 0.58716154, f1: 0.66436964\nMicro-average\t prec: 0.7595705, rec: 0.5790036, f1: 0.65710825\nQuality on test dataset: \ntime to finish evaluation: 1.81s\nTotal test loss: 46.3592\tAvg test loss: 3.3114\nlabel\t tp\t fp\t fn\t prec\t rec\t f1\nI-Disease\t 381\t 99\t 408\t 0.79375\t 0.48288974\t 0.6004728\nB-Disease\t 437\t 182\t 271\t 0.7059774\t 0.61723167\t 0.65862846\ntp: 818 fp: 281 fn: 679 labels: 2\nMacro-average\t prec: 0.7498637, rec: 0.5500607, f1: 0.634607\nMicro-average\t prec: 0.744313, rec: 0.5464262, f1: 0.6302003\n\n\nEpoch 2/10 started, lr: 9.950249E-4, dataset size: 6347\n\n\nEpoch 2/10 - 28.75s - loss: 237.87613 - avg training loss: 2.9734516 - batches: 80\nQuality on validation dataset (20.0%), validation examples = 1269\ntime to finish evaluation: 3.51s\nTotal validation loss: 53.8123\tAvg validation loss: 2.2422\nlabel\t tp\t fp\t fn\t prec\t rec\t f1\nI-Disease\t 995\t 143\t 544\t 0.87434095\t 0.6465237\t 0.7433694\nB-Disease\t 1020\t 278\t 251\t 0.78582436\t 0.8025177\t 0.7940833\ntp: 2015 fp: 421 fn: 795 labels: 2\nMacro-average\t prec: 0.83008265, rec: 0.7245207, f1: 0.7737177\nMicro-average\t prec: 0.8271757, rec: 0.71708184, f1: 0.76820433\nQuality on test dataset: \ntime to finish evaluation: 1.79s\nTotal test loss: 30.8076\tAvg test loss: 2.2005\nlabel\t tp\t fp\t fn\t prec\t rec\t f1\nI-Disease\t 483\t 75\t 306\t 0.8655914\t 0.6121673\t 0.7171493\nB-Disease\t 539\t 150\t 169\t 0.7822932\t 0.76129943\t 0.77165353\ntp: 1022 fp: 225 fn: 475 labels: 2\nMacro-average\t prec: 0.8239423, rec: 0.68673337, f1: 0.74910676\nMicro-average\t prec: 0.81956697, rec: 0.6826987, f1: 0.74489796\n\n\nEpoch 3/10 started, lr: 9.90099E-4, dataset size: 6347\n\n\nEpoch 3/10 - 27.89s - loss: 188.07591 - avg training loss: 2.3509488 - batches: 80\nQuality on validation dataset (20.0%), validation examples = 1269\ntime to finish evaluation: 3.73s\nTotal validation loss: 44.7693\tAvg validation loss: 1.8654\nlabel\t tp\t fp\t fn\t prec\t rec\t f1\nI-Disease\t 1088\t 116\t 451\t 0.90365446\t 0.7069526\t 0.79329205\nB-Disease\t 992\t 169\t 279\t 0.8544358\t 0.7804878\t 0.8157894\ntp: 2080 fp: 285 fn: 730 labels: 2\nMacro-average\t prec: 0.8790451, rec: 0.7437202, f1: 0.8057402\nMicro-average\t prec: 0.8794926, rec: 0.7402135, f1: 0.8038647\nQuality on test dataset: \ntime to finish evaluation: 1.77s\nTotal test loss: 28.9370\tAvg test loss: 2.0669\nlabel\t tp\t fp\t fn\t prec\t rec\t f1\nI-Disease\t 541\t 70\t 248\t 0.88543373\t 0.68567806\t 0.7728571\nB-Disease\t 510\t 89\t 198\t 0.85141903\t 0.720339\t 0.78041315\ntp: 1051 fp: 159 fn: 446 labels: 2\nMacro-average\t prec: 0.8684264, rec: 0.70300853, f1: 0.7770111\nMicro-average\t prec: 0.86859506, rec: 0.70207083, f1: 0.7765054\n\n\nEpoch 4/10 started, lr: 9.852217E-4, dataset size: 6347\n\n\nEpoch 4/10 - 27.93s - loss: 152.43922 - avg training loss: 1.9054903 - batches: 80\nQuality on validation dataset (20.0%), validation examples = 1269\ntime to finish evaluation: 3.53s\nTotal validation loss: 35.8323\tAvg validation loss: 1.4930\nlabel\t tp\t fp\t fn\t prec\t rec\t f1\nI-Disease\t 1265\t 210\t 274\t 0.8576271\t 0.8219623\t 0.8394161\nB-Disease\t 1124\t 270\t 147\t 0.80631274\t 0.884343\t 0.8435272\ntp: 2389 fp: 480 fn: 421 labels: 2\nMacro-average\t prec: 0.8319699, rec: 0.85315263, f1: 0.84242815\nMicro-average\t prec: 0.8326943, rec: 0.85017794, f1: 0.84134525\nQuality on test dataset: \ntime to finish evaluation: 1.83s\nTotal test loss: 21.2477\tAvg test loss: 1.5177\nlabel\t tp\t fp\t fn\t prec\t rec\t f1\nI-Disease\t 648\t 111\t 141\t 0.85375494\t 0.82129276\t 0.8372093\nB-Disease\t 617\t 141\t 91\t 0.81398416\t 0.8714689\t 0.8417462\ntp: 1265 fp: 252 fn: 232 labels: 2\nMacro-average\t prec: 0.8338696, rec: 0.84638083, f1: 0.8400786\nMicro-average\t prec: 0.8338827, rec: 0.8450234, f1: 0.8394161\n\n\nEpoch 5/10 started, lr: 9.803922E-4, dataset size: 6347\n\n\nEpoch 5/10 - 28.35s - loss: 124.86813 - avg training loss: 1.5608517 - batches: 80\nQuality on validation dataset (20.0%), validation examples = 1269\ntime to finish evaluation: 3.47s\nTotal validation loss: 30.9022\tAvg validation loss: 1.2876\nlabel\t tp\t fp\t fn\t prec\t rec\t f1\nI-Disease\t 1275\t 139\t 264\t 0.90169734\t 0.82846004\t 0.8635286\nB-Disease\t 1094\t 142\t 177\t 0.88511324\t 0.8607396\t 0.8727563\ntp: 2369 fp: 281 fn: 441 labels: 2\nMacro-average\t prec: 0.8934053, rec: 0.84459984, f1: 0.86831737\nMicro-average\t prec: 0.89396226, rec: 0.8430605, f1: 0.86776555\nQuality on test dataset: \ntime to finish evaluation: 1.78s\nTotal test loss: 20.5333\tAvg test loss: 1.4667\nlabel\t tp\t fp\t fn\t prec\t rec\t f1\nI-Disease\t 634\t 76\t 155\t 0.89295775\t 0.8035488\t 0.8458973\nB-Disease\t 570\t 74\t 138\t 0.88509315\t 0.80508476\t 0.84319526\ntp: 1204 fp: 150 fn: 293 labels: 2\nMacro-average\t prec: 0.88902545, rec: 0.80431676, f1: 0.8445524\nMicro-average\t prec: 0.88921714, rec: 0.8042752, f1: 0.84461594\n\n\nEpoch 6/10 started, lr: 9.756098E-4, dataset size: 6347\n\n\nEpoch 6/10 - 28.34s - loss: 110.296104 - avg training loss: 1.3787013 - batches: 80\nQuality on validation dataset (20.0%), validation examples = 1269\ntime to finish evaluation: 3.53s\nTotal validation loss: 27.7012\tAvg validation loss: 1.1542\nlabel\t tp\t fp\t fn\t prec\t rec\t f1\nI-Disease\t 1349\t 195\t 190\t 0.8737047\t 0.8765432\t 0.87512165\nB-Disease\t 1119\t 163\t 152\t 0.8728549\t 0.8804091\t 0.87661576\ntp: 2468 fp: 358 fn: 342 labels: 2\nMacro-average\t prec: 0.8732798, rec: 0.87847614, f1: 0.8758702\nMicro-average\t prec: 0.8733192, rec: 0.8782918, f1: 0.87579846\nQuality on test dataset: \ntime to finish evaluation: 1.85s\nTotal test loss: 16.6057\tAvg test loss: 1.1861\nlabel\t tp\t fp\t fn\t prec\t rec\t f1\nI-Disease\t 706\t 126\t 83\t 0.8485577\t 0.8948035\t 0.8710672\nB-Disease\t 614\t 77\t 94\t 0.88856727\t 0.86723167\t 0.8777699\ntp: 1320 fp: 203 fn: 177 labels: 2\nMacro-average\t prec: 0.86856246, rec: 0.88101757, f1: 0.87474567\nMicro-average\t prec: 0.8667104, rec: 0.8817635, f1: 0.8741722\n\n\nEpoch 7/10 started, lr: 9.7087387E-4, dataset size: 6347\n\n\nEpoch 7/10 - 28.09s - loss: 94.83543 - avg training loss: 1.1854428 - batches: 80\nQuality on validation dataset (20.0%), validation examples = 1269\ntime to finish evaluation: 3.53s\nTotal validation loss: 26.1662\tAvg validation loss: 1.0903\nlabel\t tp\t fp\t fn\t prec\t rec\t f1\nI-Disease\t 1288\t 99\t 251\t 0.9286229\t 0.8369071\t 0.8803828\nB-Disease\t 1144\t 175\t 127\t 0.86732376\t 0.90007865\t 0.8833977\ntp: 2432 fp: 274 fn: 378 labels: 2\nMacro-average\t prec: 0.8979733, rec: 0.86849284, f1: 0.8829871\nMicro-average\t prec: 0.8987435, rec: 0.8654804, f1: 0.8817984\nQuality on test dataset: \ntime to finish evaluation: 1.83s\nTotal test loss: 16.2339\tAvg test loss: 1.1596\nlabel\t tp\t fp\t fn\t prec\t rec\t f1\nI-Disease\t 658\t 59\t 131\t 0.9177127\t 0.83396703\t 0.873838\nB-Disease\t 625\t 91\t 83\t 0.872905\t 0.88276833\t 0.8778089\ntp: 1283 fp: 150 fn: 214 labels: 2\nMacro-average\t prec: 0.89530885, rec: 0.8583677, f1: 0.8764492\nMicro-average\t prec: 0.89532447, rec: 0.85704744, f1: 0.8757679\n\n\nEpoch 8/10 started, lr: 9.6618367E-4, dataset size: 6347\n\n\nEpoch 8/10 - 28.23s - loss: 81.45954 - avg training loss: 1.0182443 - batches: 80\nQuality on validation dataset (20.0%), validation examples = 1269\ntime to finish evaluation: 3.45s\nTotal validation loss: 24.6508\tAvg validation loss: 1.0271\nlabel\t tp\t fp\t fn\t prec\t rec\t f1\nI-Disease\t 1391\t 200\t 148\t 0.8742929\t 0.9038337\t 0.8888179\nB-Disease\t 1143\t 147\t 128\t 0.8860465\t 0.8992919\t 0.8926201\ntp: 2534 fp: 347 fn: 276 labels: 2\nMacro-average\t prec: 0.88016975, rec: 0.9015628, f1: 0.89073783\nMicro-average\t prec: 0.8795557, rec: 0.90177935, f1: 0.89052886\nQuality on test dataset: \ntime to finish evaluation: 1.80s\nTotal test loss: 15.7494\tAvg test loss: 1.1250\nlabel\t tp\t fp\t fn\t prec\t rec\t f1\nI-Disease\t 707\t 130\t 82\t 0.8446834\t 0.89607096\t 0.86961865\nB-Disease\t 612\t 87\t 96\t 0.8755365\t 0.86440676\t 0.86993605\ntp: 1319 fp: 217 fn: 178 labels: 2\nMacro-average\t prec: 0.8601099, rec: 0.8802389, f1: 0.870058\nMicro-average\t prec: 0.85872394, rec: 0.8810955, f1: 0.8697659\nEarly stopping: test set macro F1 has not improved for more than 3 epochs\n\n"
     ]
    }
   ],
   "source": [
    "import os \n",
    "log_file= os.listdir(\"/dbfs/ner/ner_logs\")[0]\n",
    "\n",
    "with open (f\"/dbfs/ner/ner_logs/{log_file}\") as f:\n",
    "  print(f.read())"
   ]
  },
  {
   "cell_type": "markdown",
   "metadata": {
    "application/vnd.databricks.v1+cell": {
     "cellMetadata": {
      "byteLimit": 2048000,
      "rowLimit": 10000
     },
     "inputWidgets": {},
     "nuid": "574734bb-629b-47d6-a4d4-bc24b409368d",
     "showTitle": false,
     "tableResultSettingsMap": {},
     "title": ""
    }
   },
   "source": [
    "As you see above, our earlyStopping feature worked, trainining was terminated before 30th epoch."
   ]
  },
  {
   "cell_type": "markdown",
   "metadata": {
    "application/vnd.databricks.v1+cell": {
     "cellMetadata": {
      "byteLimit": 2048000,
      "rowLimit": 10000
     },
     "inputWidgets": {},
     "nuid": "1665564d-0474-49bb-ac4b-0c62ae516b7a",
     "showTitle": false,
     "tableResultSettingsMap": {},
     "title": ""
    }
   },
   "source": [
    "### Evaluate your model"
   ]
  },
  {
   "cell_type": "code",
   "execution_count": 0,
   "metadata": {
    "application/vnd.databricks.v1+cell": {
     "cellMetadata": {
      "byteLimit": 2048000,
      "rowLimit": 10000
     },
     "inputWidgets": {},
     "nuid": "67d38263-7c5c-4c54-a8ba-62c0cd546cde",
     "showTitle": false,
     "tableResultSettingsMap": {},
     "title": ""
    }
   },
   "outputs": [],
   "source": [
    "pred_df = ner_model.stages[-1].transform(test_data)"
   ]
  },
  {
   "cell_type": "code",
   "execution_count": 0,
   "metadata": {
    "application/vnd.databricks.v1+cell": {
     "cellMetadata": {
      "byteLimit": 2048000,
      "rowLimit": 10000
     },
     "inputWidgets": {},
     "nuid": "f5703648-a1ee-4fd4-a653-d416a2685c36",
     "showTitle": false,
     "tableResultSettingsMap": {},
     "title": ""
    }
   },
   "outputs": [
    {
     "output_type": "execute_result",
     "data": {
      "text/plain": [
       "['text', 'document', 'sentence', 'token', 'pos', 'label', 'embeddings', 'ner']"
      ]
     },
     "execution_count": 118,
     "metadata": {},
     "output_type": "execute_result"
    }
   ],
   "source": [
    "pred_df.columns"
   ]
  },
  {
   "cell_type": "code",
   "execution_count": 0,
   "metadata": {
    "application/vnd.databricks.v1+cell": {
     "cellMetadata": {
      "byteLimit": 2048000,
      "rowLimit": 10000
     },
     "inputWidgets": {},
     "nuid": "58994b8f-ecb1-49a5-8cc0-ad3fc6edfb76",
     "showTitle": false,
     "tableResultSettingsMap": {},
     "title": ""
    }
   },
   "outputs": [
    {
     "output_type": "stream",
     "name": "stdout",
     "output_type": "stream",
     "text": [
      "+-------+-----+-----+-----+-----+---------+------+-----+\n| entity|   tp|   fp|   fn|total|precision|recall|   f1|\n+-------+-----+-----+-----+-----+---------+------+-----+\n|Disease|505.0|259.0|199.0|704.0|    0.661|0.7173|0.688|\n+-------+-----+-----+-----+-----+---------+------+-----+\n\n+------------------+\n|             macro|\n+------------------+\n|0.6880108991825613|\n+------------------+\n\nNone\n+------------------+\n|             micro|\n+------------------+\n|0.6880108991825613|\n+------------------+\n\nNone\n"
     ]
    }
   ],
   "source": [
    "import pyspark.sql.functions as F\n",
    "\n",
    "evaler = medical.NerDLMetrics(mode=\"full_chunk\")\n",
    "\n",
    "eval_result = evaler.computeMetricsFromDF(pred_df.select(\"label\",\"ner\"), prediction_col=\"ner\", label_col=\"label\", drop_o = True, case_sensitive = True).cache()\n",
    "\n",
    "eval_result.withColumn(\"precision\", F.round(eval_result[\"precision\"],4))\\\n",
    "           .withColumn(\"recall\", F.round(eval_result[\"recall\"],4))\\\n",
    "           .withColumn(\"f1\", F.round(eval_result[\"f1\"],4)).show(100)\n",
    "\n",
    "print(eval_result.selectExpr(\"avg(f1) as macro\").show())\n",
    "print (eval_result.selectExpr(\"sum(f1*total) as sumprod\",\"sum(total) as sumtotal\").selectExpr(\"sumprod/sumtotal as micro\").show())"
   ]
  },
  {
   "cell_type": "code",
   "execution_count": 0,
   "metadata": {
    "application/vnd.databricks.v1+cell": {
     "cellMetadata": {
      "byteLimit": 2048000,
      "rowLimit": 10000
     },
     "inputWidgets": {},
     "nuid": "b4f2e45c-97b8-4b90-8909-db4b37f74d1e",
     "showTitle": false,
     "tableResultSettingsMap": {},
     "title": ""
    }
   },
   "outputs": [
    {
     "output_type": "stream",
     "name": "stdout",
     "output_type": "stream",
     "text": [
      "+-------+------+-----+-----+------+---------+------+------+\n| entity|    tp|   fp|   fn| total|precision|recall|    f1|\n+-------+------+-----+-----+------+---------+------+------+\n|Disease|1199.0|177.0|298.0|1497.0|   0.8714|0.8009|0.8347|\n+-------+------+-----+-----+------+---------+------+------+\n\n+------------------+\n|             macro|\n+------------------+\n|0.8346675948485903|\n+------------------+\n\nNone\n+------------------+\n|             micro|\n+------------------+\n|0.8346675948485903|\n+------------------+\n\nNone\n"
     ]
    }
   ],
   "source": [
    "evaler = medical.NerDLMetrics(mode=\"partial_chunk_per_token\")\n",
    "\n",
    "eval_result = evaler.computeMetricsFromDF(pred_df.select(\"label\",\"ner\"), prediction_col=\"ner\", label_col=\"label\", drop_o = True, case_sensitive = True).cache()\n",
    "\n",
    "eval_result.withColumn(\"precision\", F.round(eval_result[\"precision\"],4))\\\n",
    "           .withColumn(\"recall\", F.round(eval_result[\"recall\"],4))\\\n",
    "           .withColumn(\"f1\", F.round(eval_result[\"f1\"],4)).show(100)\n",
    "\n",
    "print(eval_result.selectExpr(\"avg(f1) as macro\").show())\n",
    "print (eval_result.selectExpr(\"sum(f1*total) as sumprod\",\"sum(total) as sumtotal\").selectExpr(\"sumprod/sumtotal as micro\").show())"
   ]
  },
  {
   "cell_type": "markdown",
   "metadata": {
    "application/vnd.databricks.v1+cell": {
     "cellMetadata": {
      "byteLimit": 2048000,
      "rowLimit": 10000
     },
     "inputWidgets": {},
     "nuid": "f608484b-7f18-4c14-91a8-90077dd67142",
     "showTitle": false,
     "tableResultSettingsMap": {},
     "title": ""
    }
   },
   "source": [
    "`ner_utils`: This new module is used after NER training to calculate mertic chunkbase and plot training logs.\n",
    "\n",
    "`evaluate`: if verbose, returns overall performance, as well as performance per chunk type; otherwise, simply returns overall precision, recall, f1 scores\n",
    "\n",
    "`loss_plot`: Plots the figure of loss vs epochs\n",
    "\n",
    "`get_charts` : Plots the figures of metrics ( precision, recall, f1) vs epochs\n",
    "\n",
    "```\n",
    "from sparknlp_jsl.utils.ner_utils import get_charts, loss_plot, evaluate\n",
    "\n",
    "metrics = evaluate( preds_df['prediction'].values, preds_df['ground_truth'].values)\n",
    "\n",
    "loss_plot(f\"./ner_logs/{log_file}\")\n",
    "\n",
    "get_charts('./ner_logs/'+log_files[0])\n",
    "```"
   ]
  },
  {
   "cell_type": "code",
   "execution_count": 0,
   "metadata": {
    "application/vnd.databricks.v1+cell": {
     "cellMetadata": {
      "byteLimit": 2048000,
      "rowLimit": 10000
     },
     "inputWidgets": {},
     "nuid": "6ff65b40-b561-44eb-8a6b-2ccd27dd5203",
     "showTitle": false,
     "tableResultSettingsMap": {},
     "title": ""
    }
   },
   "outputs": [],
   "source": [
    "ner_model.stages[-1].write().overwrite().save('dbfs:/databricks/driver/models/custom_Med_NER_20e')"
   ]
  },
  {
   "cell_type": "code",
   "execution_count": 0,
   "metadata": {
    "application/vnd.databricks.v1+cell": {
     "cellMetadata": {
      "byteLimit": 2048000,
      "rowLimit": 10000
     },
     "inputWidgets": {},
     "nuid": "578731ef-1deb-4374-8e29-04f4ae2b9899",
     "showTitle": false,
     "tableResultSettingsMap": {},
     "title": ""
    }
   },
   "outputs": [],
   "source": [
    "document = nlp.DocumentAssembler()\\\n",
    "    .setInputCol(\"text\")\\\n",
    "    .setOutputCol(\"document\")\n",
    "\n",
    "sentence = nlp.SentenceDetector()\\\n",
    "    .setInputCols(['document'])\\\n",
    "    .setOutputCol('sentence')\n",
    "\n",
    "token = nlp.Tokenizer()\\\n",
    "    .setInputCols(['sentence'])\\\n",
    "    .setOutputCol('token')\n",
    "\n",
    "loaded_ner_model = medical.NerModel.load(\"dbfs:/databricks/driver/models/custom_Med_NER_20e\")\\\n",
    "    .setInputCols([\"sentence\", \"token\", \"embeddings\"])\\\n",
    "    .setOutputCol(\"ner\")\n",
    "\n",
    "converter = nlp.NerConverter()\\\n",
    "    .setInputCols([\"document\", \"token\", \"ner\"])\\\n",
    "    .setOutputCol(\"ner_span\")\n",
    "\n",
    "ner_prediction_pipeline = nlp.Pipeline(\n",
    "    stages = [\n",
    "        document,\n",
    "        sentence,\n",
    "        token,\n",
    "        clinical_embeddings,\n",
    "        loaded_ner_model,\n",
    "        converter])\n",
    "\n",
    "empty_data = spark.createDataFrame([['']]).toDF(\"text\")\n",
    "\n",
    "prediction_model = ner_prediction_pipeline.fit(empty_data)\n",
    "\n",
    "\n",
    "light_model = nlp.LightPipeline(prediction_model)"
   ]
  },
  {
   "cell_type": "code",
   "execution_count": 0,
   "metadata": {
    "application/vnd.databricks.v1+cell": {
     "cellMetadata": {
      "byteLimit": 2048000,
      "rowLimit": 10000
     },
     "inputWidgets": {},
     "nuid": "95288c28-defb-45b5-a683-6450014b18f8",
     "showTitle": false,
     "tableResultSettingsMap": {},
     "title": ""
    }
   },
   "outputs": [
    {
     "output_type": "execute_result",
     "data": {
      "text/plain": [
       "[('metastatic breast cancer', 'Disease'), ('lung', 'Disease')]"
      ]
     },
     "execution_count": 123,
     "metadata": {},
     "output_type": "execute_result"
    }
   ],
   "source": [
    "text = \"She has a metastatic breast cancer to lung\"\n",
    "\n",
    "def get_preds(text, light_model):\n",
    "\n",
    "    result = light_model.fullAnnotate(text)[0]\n",
    "\n",
    "    return [(i.result, i.metadata['entity']) for i in result['ner_span']]\n",
    "\n",
    "get_preds(text, light_model)"
   ]
  },
  {
   "cell_type": "markdown",
   "metadata": {
    "application/vnd.databricks.v1+cell": {
     "cellMetadata": {
      "byteLimit": 2048000,
      "rowLimit": 10000
     },
     "inputWidgets": {},
     "nuid": "97a8fa87-2edb-4d43-b650-feb49392dcd8",
     "showTitle": false,
     "tableResultSettingsMap": {},
     "title": ""
    }
   },
   "source": [
    "## BertForTokenClassification NER models"
   ]
  },
  {
   "cell_type": "code",
   "execution_count": 0,
   "metadata": {
    "application/vnd.databricks.v1+cell": {
     "cellMetadata": {
      "byteLimit": 2048000,
      "rowLimit": 10000
     },
     "inputWidgets": {},
     "nuid": "dd9b3eb5-2857-4fd7-a29a-08604eb46f77",
     "showTitle": false,
     "tableResultSettingsMap": {},
     "title": ""
    }
   },
   "outputs": [
    {
     "output_type": "stream",
     "name": "stdout",
     "output_type": "stream",
     "text": [
      "sentence_detector_dl_healthcare download started this may take some time.\nApproximate size to download 367.3 KB\n\r[ | ]\r[OK!]\nbert_token_classifier_ner_clinical download started this may take some time.\n\r[ | ]\r[ / ]\r[ — ]\r[ \\ ]\r[ | ]\r[ / ]\r[ — ]\r[ \\ ]\r[ | ]\r[OK!]\n"
     ]
    }
   ],
   "source": [
    "documentAssembler = nlp.DocumentAssembler()\\\n",
    "    .setInputCol(\"text\")\\\n",
    "    .setOutputCol(\"document\")\n",
    "\n",
    "sentenceDetector = nlp.SentenceDetectorDLModel.pretrained(\"sentence_detector_dl_healthcare\",\"en\",\"clinical/models\")\\\n",
    "    .setInputCols([\"document\"])\\\n",
    "    .setOutputCol(\"sentence\")\n",
    "\n",
    "tokenizer = nlp.Tokenizer()\\\n",
    "    .setInputCols(\"sentence\")\\\n",
    "    .setOutputCol(\"token\")\n",
    "\n",
    "tokenClassifier = medical.BertForTokenClassification.pretrained(\"bert_token_classifier_ner_clinical\", \"en\", \"clinical/models\")\\\n",
    "    .setInputCols(\"token\", \"sentence\")\\\n",
    "    .setOutputCol(\"ner\")\\\n",
    "    .setCaseSensitive(True)\n",
    "\n",
    "ner_converter = nlp.NerConverter()\\\n",
    "    .setInputCols([\"sentence\",\"token\",\"ner\"])\\\n",
    "    .setOutputCol(\"ner_chunk\")\n",
    "\n",
    "pipeline =  nlp.Pipeline(stages=[\n",
    "    documentAssembler,\n",
    "    sentenceDetector,\n",
    "    tokenizer,\n",
    "    tokenClassifier,\n",
    "    ner_converter\n",
    "    ])\n",
    "\n",
    "model = pipeline.fit(spark.createDataFrame([[\"\"]]).toDF(\"text\"))\n",
    "\n",
    "text = \"\"\"A 28-year-old female with a history of gestational diabetes mellitus diagnosed eight years prior to presentation and subsequent type two diabetes mellitus ( T2DM ), one prior episode of HTG-induced pancreatitis three years prior to presentation , associated with an acute hepatitis , and obesity with a body mass index ( BMI ) of 33.5 kg/m2 , presented with a one-week history of polyuria , polydipsia , poor appetite , and vomiting . \n",
    "Two weeks prior to presentation , she was treated with a five-day course of amoxicillin for a respiratory tract infection . \n",
    "She was on metformin , glipizide , and dapagliflozin for T2DM and atorvastatin and gemfibrozil for HTG . She had been on dapagliflozin for six months at the time of presentation . \n",
    "Physical examination on presentation was significant for dry oral mucosa ; significantly , her abdominal examination was benign with no tenderness , guarding , or rigidity . \n",
    "Pertinent laboratory findings on admission were : serum glucose 111 mg/dl , bicarbonate 18 mmol/l , anion gap 20 , creatinine 0.4 mg/dL , triglycerides 508 mg/dL , total cholesterol 122 mg/dL , glycated hemoglobin ( HbA1c ) 10% , and venous pH 7.27 . \n",
    "Serum lipase was normal at 43 U/L . Serum acetone levels could not be assessed as blood samples kept hemolyzing due to significant lipemia . \n",
    "The patient was initially admitted for starvation ketosis , as she reported poor oral intake for three days prior to admission . \n",
    "However , serum chemistry obtained six hours after presentation revealed her glucose was 186 mg/dL , the anion gap was still elevated at 21 , serum bicarbonate was 16 mmol/L , triglyceride level peaked at 2050 mg/dL , and lipase was 52 U/L . \n",
    "The β-hydroxybutyrate level was obtained and found to be elevated at 5.29 mmol/L - the original sample was centrifuged and the chylomicron layer removed prior to analysis due to interference from turbidity caused by lipemia again . \n",
    "The patient was treated with an insulin drip for euDKA and HTG with a reduction in the anion gap to 13 and triglycerides to 1400 mg/dL , within 24 hours . \n",
    "Her euDKA was thought to be precipitated by her respiratory tract infection in the setting of SGLT2 inhibitor use . \n",
    "The patient was seen by the endocrinology service and she was discharged on 40 units of insulin glargine at night , 12 units of insulin lispro with meals , and metformin 1000 mg two times a day . \n",
    "It was determined that all SGLT2 inhibitors should be discontinued indefinitely . She had close follow-up with endocrinology post discharge .\"\"\"\n",
    "\n",
    "res = model.transform(spark.createDataFrame([[text]]).toDF(\"text\"))"
   ]
  },
  {
   "cell_type": "code",
   "execution_count": 0,
   "metadata": {
    "application/vnd.databricks.v1+cell": {
     "cellMetadata": {
      "byteLimit": 2048000,
      "rowLimit": 10000
     },
     "inputWidgets": {},
     "nuid": "91060d2b-0b42-424a-ad22-69c24074f04a",
     "showTitle": false,
     "tableResultSettingsMap": {},
     "title": ""
    }
   },
   "outputs": [
    {
     "output_type": "stream",
     "name": "stdout",
     "output_type": "stream",
     "text": [
      "+-----------+-----------------------------+---+---------+\n|sentence_id|chunk                        |end|ner_label|\n+-----------+-----------------------------+---+---------+\n|0          |gestational diabetes mellitus|67 |PROBLEM  |\n|0          |type two diabetes mellitus   |153|PROBLEM  |\n|0          |T2DM                         |160|PROBLEM  |\n|0          |HTG-induced pancreatitis     |209|PROBLEM  |\n|0          |an acute hepatitis           |280|PROBLEM  |\n|0          |obesity                      |294|PROBLEM  |\n|0          |a body mass index            |317|TEST     |\n|0          |BMI                          |323|TEST     |\n|0          |polyuria                     |387|PROBLEM  |\n|0          |polydipsia                   |400|PROBLEM  |\n|0          |poor appetite                |416|PROBLEM  |\n|0          |vomiting                     |431|PROBLEM  |\n|1          |amoxicillin                  |522|TREATMENT|\n|1          |a respiratory tract infection|556|PROBLEM  |\n|2          |metformin                    |580|TREATMENT|\n|2          |glipizide                    |592|TREATMENT|\n|2          |dapagliflozin                |612|TREATMENT|\n|2          |T2DM                         |621|PROBLEM  |\n|2          |atorvastatin                 |638|TREATMENT|\n|2          |gemfibrozil                  |654|TREATMENT|\n+-----------+-----------------------------+---+---------+\nonly showing top 20 rows\n\n"
     ]
    }
   ],
   "source": [
    "res.select(F.explode(F.arrays_zip(res.ner_chunk.result, res.ner_chunk.begin, res.ner_chunk.end, res.ner_chunk.metadata)).alias(\"cols\")) \\\n",
    "   .select(F.expr(\"cols['3']['sentence']\").alias(\"sentence_id\"),\n",
    "           F.expr(\"cols['0']\").alias(\"chunk\"),\n",
    "           F.expr(\"cols['2']\").alias(\"end\"),\n",
    "           F.expr(\"cols['3']['entity']\").alias(\"ner_label\"))\\\n",
    "   .filter(\"ner_label!='O'\")\\\n",
    "   .show(truncate=False)"
   ]
  },
  {
   "cell_type": "code",
   "execution_count": 0,
   "metadata": {
    "application/vnd.databricks.v1+cell": {
     "cellMetadata": {
      "byteLimit": 2048000,
      "rowLimit": 10000
     },
     "inputWidgets": {},
     "nuid": "77cf633d-59f7-48e2-a7b6-4a4a477d6a2e",
     "showTitle": false,
     "tableResultSettingsMap": {},
     "title": ""
    }
   },
   "outputs": [
    {
     "output_type": "display_data",
     "data": {
      "text/html": [
       "\n",
       "<style>\n",
       "    @import url('https://fonts.googleapis.com/css2?family=Montserrat:wght@300;400;500;600;700&display=swap');\n",
       "    @import url('https://fonts.googleapis.com/css2?family=Vistol Regular:wght@300;400;500;600;700&display=swap');\n",
       "    \n",
       "    .spark-nlp-display-scroll-entities {\n",
       "        border: 1px solid #E7EDF0;\n",
       "        border-radius: 3px;\n",
       "        text-align: justify;\n",
       "        \n",
       "    }\n",
       "    .spark-nlp-display-scroll-entities span {  \n",
       "        font-size: 14px;\n",
       "        line-height: 24px;\n",
       "        color: #536B76;\n",
       "        font-family: 'Montserrat', sans-serif !important;\n",
       "    }\n",
       "    \n",
       "    .spark-nlp-display-entity-wrapper{\n",
       "    \n",
       "        display: inline-grid;\n",
       "        text-align: center;\n",
       "        border-radius: 4px;\n",
       "        margin: 0 2px 5px 2px;\n",
       "        padding: 1px\n",
       "    }\n",
       "    .spark-nlp-display-entity-name{\n",
       "        font-size: 14px;\n",
       "        line-height: 24px;\n",
       "        font-family: 'Montserrat', sans-serif !important;\n",
       "        \n",
       "        background: #f1f2f3;\n",
       "        border-width: medium;\n",
       "        text-align: center;\n",
       "        \n",
       "        font-weight: 400;\n",
       "        \n",
       "        border-radius: 5px;\n",
       "        padding: 2px 5px;\n",
       "        display: block;\n",
       "        margin: 3px 2px;\n",
       "    \n",
       "    }\n",
       "    .spark-nlp-display-entity-type{\n",
       "        font-size: 14px;\n",
       "        line-height: 24px;\n",
       "        color: #ffffff;\n",
       "        font-family: 'Montserrat', sans-serif !important;\n",
       "        \n",
       "        text-transform: uppercase;\n",
       "        \n",
       "        font-weight: 500;\n",
       "\n",
       "        display: block;\n",
       "        padding: 3px 5px;\n",
       "    }\n",
       "    \n",
       "    .spark-nlp-display-entity-resolution{\n",
       "        font-size: 14px;\n",
       "        line-height: 24px;\n",
       "        color: #ffffff;\n",
       "        font-family: 'Vistol Regular', sans-serif !important;\n",
       "        \n",
       "        text-transform: uppercase;\n",
       "        \n",
       "        font-weight: 500;\n",
       "\n",
       "        display: block;\n",
       "        padding: 3px 5px;\n",
       "    }\n",
       "    \n",
       "    .spark-nlp-display-others{\n",
       "        font-size: 14px;\n",
       "        line-height: 24px;\n",
       "        font-family: 'Montserrat', sans-serif !important;\n",
       "        \n",
       "        font-weight: 400;\n",
       "    }\n",
       "\n",
       "</style>\n",
       " <span class=\"spark-nlp-display-others\" style=\"background-color: white\">A 28-year-old female with a history of </span><span class=\"spark-nlp-display-entity-wrapper\" style=\"background-color: #800080\"><span class=\"spark-nlp-display-entity-name\">gestational diabetes mellitus </span><span class=\"spark-nlp-display-entity-type\">PROBLEM</span></span><span class=\"spark-nlp-display-others\" style=\"background-color: white\"> diagnosed eight years prior to presentation and subsequent </span><span class=\"spark-nlp-display-entity-wrapper\" style=\"background-color: #800080\"><span class=\"spark-nlp-display-entity-name\">type two diabetes mellitus </span><span class=\"spark-nlp-display-entity-type\">PROBLEM</span></span><span class=\"spark-nlp-display-others\" style=\"background-color: white\"> ( </span><span class=\"spark-nlp-display-entity-wrapper\" style=\"background-color: #800080\"><span class=\"spark-nlp-display-entity-name\">T2DM </span><span class=\"spark-nlp-display-entity-type\">PROBLEM</span></span><span class=\"spark-nlp-display-others\" style=\"background-color: white\"> ), one prior episode of </span><span class=\"spark-nlp-display-entity-wrapper\" style=\"background-color: #800080\"><span class=\"spark-nlp-display-entity-name\">HTG-induced pancreatitis </span><span class=\"spark-nlp-display-entity-type\">PROBLEM</span></span><span class=\"spark-nlp-display-others\" style=\"background-color: white\"> three years prior to presentation , associated with </span><span class=\"spark-nlp-display-entity-wrapper\" style=\"background-color: #800080\"><span class=\"spark-nlp-display-entity-name\">an acute hepatitis </span><span class=\"spark-nlp-display-entity-type\">PROBLEM</span></span><span class=\"spark-nlp-display-others\" style=\"background-color: white\"> , and </span><span class=\"spark-nlp-display-entity-wrapper\" style=\"background-color: #800080\"><span class=\"spark-nlp-display-entity-name\">obesity </span><span class=\"spark-nlp-display-entity-type\">PROBLEM</span></span><span class=\"spark-nlp-display-others\" style=\"background-color: white\"> with </span><span class=\"spark-nlp-display-entity-wrapper\" style=\"background-color: #77b5fe\"><span class=\"spark-nlp-display-entity-name\">a body mass index </span><span class=\"spark-nlp-display-entity-type\">TEST</span></span><span class=\"spark-nlp-display-others\" style=\"background-color: white\"> ( </span><span class=\"spark-nlp-display-entity-wrapper\" style=\"background-color: #77b5fe\"><span class=\"spark-nlp-display-entity-name\">BMI </span><span class=\"spark-nlp-display-entity-type\">TEST</span></span><span class=\"spark-nlp-display-others\" style=\"background-color: white\"> ) of 33.5 kg/m2 , presented with a one-week history of </span><span class=\"spark-nlp-display-entity-wrapper\" style=\"background-color: #800080\"><span class=\"spark-nlp-display-entity-name\">polyuria </span><span class=\"spark-nlp-display-entity-type\">PROBLEM</span></span><span class=\"spark-nlp-display-others\" style=\"background-color: white\"> , </span><span class=\"spark-nlp-display-entity-wrapper\" style=\"background-color: #800080\"><span class=\"spark-nlp-display-entity-name\">polydipsia </span><span class=\"spark-nlp-display-entity-type\">PROBLEM</span></span><span class=\"spark-nlp-display-others\" style=\"background-color: white\"> , </span><span class=\"spark-nlp-display-entity-wrapper\" style=\"background-color: #800080\"><span class=\"spark-nlp-display-entity-name\">poor appetite </span><span class=\"spark-nlp-display-entity-type\">PROBLEM</span></span><span class=\"spark-nlp-display-others\" style=\"background-color: white\"> , and </span><span class=\"spark-nlp-display-entity-wrapper\" style=\"background-color: #800080\"><span class=\"spark-nlp-display-entity-name\">vomiting </span><span class=\"spark-nlp-display-entity-type\">PROBLEM</span></span><span class=\"spark-nlp-display-others\" style=\"background-color: white\"> . <br>Two weeks prior to presentation , she was treated with a five-day course of </span><span class=\"spark-nlp-display-entity-wrapper\" style=\"background-color: #8b6673\"><span class=\"spark-nlp-display-entity-name\">amoxicillin </span><span class=\"spark-nlp-display-entity-type\">TREATMENT</span></span><span class=\"spark-nlp-display-others\" style=\"background-color: white\"> for </span><span class=\"spark-nlp-display-entity-wrapper\" style=\"background-color: #800080\"><span class=\"spark-nlp-display-entity-name\">a respiratory tract infection </span><span class=\"spark-nlp-display-entity-type\">PROBLEM</span></span><span class=\"spark-nlp-display-others\" style=\"background-color: white\"> . <br>She was on </span><span class=\"spark-nlp-display-entity-wrapper\" style=\"background-color: #8b6673\"><span class=\"spark-nlp-display-entity-name\">metformin </span><span class=\"spark-nlp-display-entity-type\">TREATMENT</span></span><span class=\"spark-nlp-display-others\" style=\"background-color: white\"> , </span><span class=\"spark-nlp-display-entity-wrapper\" style=\"background-color: #8b6673\"><span class=\"spark-nlp-display-entity-name\">glipizide </span><span class=\"spark-nlp-display-entity-type\">TREATMENT</span></span><span class=\"spark-nlp-display-others\" style=\"background-color: white\"> , and </span><span class=\"spark-nlp-display-entity-wrapper\" style=\"background-color: #8b6673\"><span class=\"spark-nlp-display-entity-name\">dapagliflozin </span><span class=\"spark-nlp-display-entity-type\">TREATMENT</span></span><span class=\"spark-nlp-display-others\" style=\"background-color: white\"> for </span><span class=\"spark-nlp-display-entity-wrapper\" style=\"background-color: #800080\"><span class=\"spark-nlp-display-entity-name\">T2DM </span><span class=\"spark-nlp-display-entity-type\">PROBLEM</span></span><span class=\"spark-nlp-display-others\" style=\"background-color: white\"> and </span><span class=\"spark-nlp-display-entity-wrapper\" style=\"background-color: #8b6673\"><span class=\"spark-nlp-display-entity-name\">atorvastatin </span><span class=\"spark-nlp-display-entity-type\">TREATMENT</span></span><span class=\"spark-nlp-display-others\" style=\"background-color: white\"> and </span><span class=\"spark-nlp-display-entity-wrapper\" style=\"background-color: #8b6673\"><span class=\"spark-nlp-display-entity-name\">gemfibrozil </span><span class=\"spark-nlp-display-entity-type\">TREATMENT</span></span><span class=\"spark-nlp-display-others\" style=\"background-color: white\"> for </span><span class=\"spark-nlp-display-entity-wrapper\" style=\"background-color: #800080\"><span class=\"spark-nlp-display-entity-name\">HTG </span><span class=\"spark-nlp-display-entity-type\">PROBLEM</span></span><span class=\"spark-nlp-display-others\" style=\"background-color: white\"> . She had been on </span><span class=\"spark-nlp-display-entity-wrapper\" style=\"background-color: #8b6673\"><span class=\"spark-nlp-display-entity-name\">dapagliflozin </span><span class=\"spark-nlp-display-entity-type\">TREATMENT</span></span><span class=\"spark-nlp-display-others\" style=\"background-color: white\"> for six months at the time of presentation . <br></span><span class=\"spark-nlp-display-entity-wrapper\" style=\"background-color: #77b5fe\"><span class=\"spark-nlp-display-entity-name\">Physical examination </span><span class=\"spark-nlp-display-entity-type\">TEST</span></span><span class=\"spark-nlp-display-others\" style=\"background-color: white\"> on presentation was significant for </span><span class=\"spark-nlp-display-entity-wrapper\" style=\"background-color: #800080\"><span class=\"spark-nlp-display-entity-name\">dry oral mucosa </span><span class=\"spark-nlp-display-entity-type\">PROBLEM</span></span><span class=\"spark-nlp-display-others\" style=\"background-color: white\"> ; significantly , </span><span class=\"spark-nlp-display-entity-wrapper\" style=\"background-color: #77b5fe\"><span class=\"spark-nlp-display-entity-name\">her abdominal examination </span><span class=\"spark-nlp-display-entity-type\">TEST</span></span><span class=\"spark-nlp-display-others\" style=\"background-color: white\"> was benign with no </span><span class=\"spark-nlp-display-entity-wrapper\" style=\"background-color: #800080\"><span class=\"spark-nlp-display-entity-name\">tenderness </span><span class=\"spark-nlp-display-entity-type\">PROBLEM</span></span><span class=\"spark-nlp-display-others\" style=\"background-color: white\"> , </span><span class=\"spark-nlp-display-entity-wrapper\" style=\"background-color: #800080\"><span class=\"spark-nlp-display-entity-name\">guarding </span><span class=\"spark-nlp-display-entity-type\">PROBLEM</span></span><span class=\"spark-nlp-display-others\" style=\"background-color: white\"> , or </span><span class=\"spark-nlp-display-entity-wrapper\" style=\"background-color: #800080\"><span class=\"spark-nlp-display-entity-name\">rigidity </span><span class=\"spark-nlp-display-entity-type\">PROBLEM</span></span><span class=\"spark-nlp-display-others\" style=\"background-color: white\"> . <br>Pertinent laboratory findings on admission were : </span><span class=\"spark-nlp-display-entity-wrapper\" style=\"background-color: #77b5fe\"><span class=\"spark-nlp-display-entity-name\">serum glucose </span><span class=\"spark-nlp-display-entity-type\">TEST</span></span><span class=\"spark-nlp-display-others\" style=\"background-color: white\"> 111 mg/dl , </span><span class=\"spark-nlp-display-entity-wrapper\" style=\"background-color: #77b5fe\"><span class=\"spark-nlp-display-entity-name\">bicarbonate </span><span class=\"spark-nlp-display-entity-type\">TEST</span></span><span class=\"spark-nlp-display-others\" style=\"background-color: white\"> 18 mmol/l , </span><span class=\"spark-nlp-display-entity-wrapper\" style=\"background-color: #77b5fe\"><span class=\"spark-nlp-display-entity-name\">anion gap </span><span class=\"spark-nlp-display-entity-type\">TEST</span></span><span class=\"spark-nlp-display-others\" style=\"background-color: white\"> 20 , </span><span class=\"spark-nlp-display-entity-wrapper\" style=\"background-color: #77b5fe\"><span class=\"spark-nlp-display-entity-name\">creatinine </span><span class=\"spark-nlp-display-entity-type\">TEST</span></span><span class=\"spark-nlp-display-others\" style=\"background-color: white\"> 0.4 mg/dL , </span><span class=\"spark-nlp-display-entity-wrapper\" style=\"background-color: #77b5fe\"><span class=\"spark-nlp-display-entity-name\">triglycerides </span><span class=\"spark-nlp-display-entity-type\">TEST</span></span><span class=\"spark-nlp-display-others\" style=\"background-color: white\"> 508 mg/dL , </span><span class=\"spark-nlp-display-entity-wrapper\" style=\"background-color: #77b5fe\"><span class=\"spark-nlp-display-entity-name\">total cholesterol </span><span class=\"spark-nlp-display-entity-type\">TEST</span></span><span class=\"spark-nlp-display-others\" style=\"background-color: white\"> 122 mg/dL , </span><span class=\"spark-nlp-display-entity-wrapper\" style=\"background-color: #77b5fe\"><span class=\"spark-nlp-display-entity-name\">glycated hemoglobin ( </span><span class=\"spark-nlp-display-entity-type\">TEST</span></span><span class=\"spark-nlp-display-others\" style=\"background-color: white\"> </span><span class=\"spark-nlp-display-entity-wrapper\" style=\"background-color: #77b5fe\"><span class=\"spark-nlp-display-entity-name\">HbA1c </span><span class=\"spark-nlp-display-entity-type\">TEST</span></span><span class=\"spark-nlp-display-others\" style=\"background-color: white\"> </span><span class=\"spark-nlp-display-entity-wrapper\" style=\"background-color: #77b5fe\"><span class=\"spark-nlp-display-entity-name\">) </span><span class=\"spark-nlp-display-entity-type\">TEST</span></span><span class=\"spark-nlp-display-others\" style=\"background-color: white\"> 10% , and </span><span class=\"spark-nlp-display-entity-wrapper\" style=\"background-color: #77b5fe\"><span class=\"spark-nlp-display-entity-name\">venous pH </span><span class=\"spark-nlp-display-entity-type\">TEST</span></span><span class=\"spark-nlp-display-others\" style=\"background-color: white\"> 7.27 . <br></span><span class=\"spark-nlp-display-entity-wrapper\" style=\"background-color: #77b5fe\"><span class=\"spark-nlp-display-entity-name\">Serum lipase </span><span class=\"spark-nlp-display-entity-type\">TEST</span></span><span class=\"spark-nlp-display-others\" style=\"background-color: white\"> was normal at 43 U/L . </span><span class=\"spark-nlp-display-entity-wrapper\" style=\"background-color: #77b5fe\"><span class=\"spark-nlp-display-entity-name\">Serum acetone levels </span><span class=\"spark-nlp-display-entity-type\">TEST</span></span><span class=\"spark-nlp-display-others\" style=\"background-color: white\"> could not be assessed as </span><span class=\"spark-nlp-display-entity-wrapper\" style=\"background-color: #77b5fe\"><span class=\"spark-nlp-display-entity-name\">blood samples </span><span class=\"spark-nlp-display-entity-type\">TEST</span></span><span class=\"spark-nlp-display-others\" style=\"background-color: white\"> kept </span><span class=\"spark-nlp-display-entity-wrapper\" style=\"background-color: #77b5fe\"><span class=\"spark-nlp-display-entity-name\">hemolyzing </span><span class=\"spark-nlp-display-entity-type\">TEST</span></span><span class=\"spark-nlp-display-others\" style=\"background-color: white\"> due to </span><span class=\"spark-nlp-display-entity-wrapper\" style=\"background-color: #800080\"><span class=\"spark-nlp-display-entity-name\">significant lipemia </span><span class=\"spark-nlp-display-entity-type\">PROBLEM</span></span><span class=\"spark-nlp-display-others\" style=\"background-color: white\"> . <br>The patient was initially admitted for </span><span class=\"spark-nlp-display-entity-wrapper\" style=\"background-color: #800080\"><span class=\"spark-nlp-display-entity-name\">starvation ketosis </span><span class=\"spark-nlp-display-entity-type\">PROBLEM</span></span><span class=\"spark-nlp-display-others\" style=\"background-color: white\"> , as she reported </span><span class=\"spark-nlp-display-entity-wrapper\" style=\"background-color: #800080\"><span class=\"spark-nlp-display-entity-name\">poor oral intake </span><span class=\"spark-nlp-display-entity-type\">PROBLEM</span></span><span class=\"spark-nlp-display-others\" style=\"background-color: white\"> for three days prior to admission . <br>However , </span><span class=\"spark-nlp-display-entity-wrapper\" style=\"background-color: #77b5fe\"><span class=\"spark-nlp-display-entity-name\">serum chemistry </span><span class=\"spark-nlp-display-entity-type\">TEST</span></span><span class=\"spark-nlp-display-others\" style=\"background-color: white\"> obtained six hours after presentation revealed </span><span class=\"spark-nlp-display-entity-wrapper\" style=\"background-color: #77b5fe\"><span class=\"spark-nlp-display-entity-name\">her glucose </span><span class=\"spark-nlp-display-entity-type\">TEST</span></span><span class=\"spark-nlp-display-others\" style=\"background-color: white\"> was 186 mg/dL , </span><span class=\"spark-nlp-display-entity-wrapper\" style=\"background-color: #77b5fe\"><span class=\"spark-nlp-display-entity-name\">the anion gap </span><span class=\"spark-nlp-display-entity-type\">TEST</span></span><span class=\"spark-nlp-display-others\" style=\"background-color: white\"> was still </span><span class=\"spark-nlp-display-entity-wrapper\" style=\"background-color: #800080\"><span class=\"spark-nlp-display-entity-name\">elevated </span><span class=\"spark-nlp-display-entity-type\">PROBLEM</span></span><span class=\"spark-nlp-display-others\" style=\"background-color: white\"> at 21 , </span><span class=\"spark-nlp-display-entity-wrapper\" style=\"background-color: #77b5fe\"><span class=\"spark-nlp-display-entity-name\">serum bicarbonate </span><span class=\"spark-nlp-display-entity-type\">TEST</span></span><span class=\"spark-nlp-display-others\" style=\"background-color: white\"> was 16 mmol/L , </span><span class=\"spark-nlp-display-entity-wrapper\" style=\"background-color: #77b5fe\"><span class=\"spark-nlp-display-entity-name\">triglyceride level </span><span class=\"spark-nlp-display-entity-type\">TEST</span></span><span class=\"spark-nlp-display-others\" style=\"background-color: white\"> peaked at 2050 mg/dL , and </span><span class=\"spark-nlp-display-entity-wrapper\" style=\"background-color: #77b5fe\"><span class=\"spark-nlp-display-entity-name\">lipase </span><span class=\"spark-nlp-display-entity-type\">TEST</span></span><span class=\"spark-nlp-display-others\" style=\"background-color: white\"> was 52 U/L . <br></span><span class=\"spark-nlp-display-entity-wrapper\" style=\"background-color: #77b5fe\"><span class=\"spark-nlp-display-entity-name\">The β-hydroxybutyrate level </span><span class=\"spark-nlp-display-entity-type\">TEST</span></span><span class=\"spark-nlp-display-others\" style=\"background-color: white\"> was obtained and found to be </span><span class=\"spark-nlp-display-entity-wrapper\" style=\"background-color: #800080\"><span class=\"spark-nlp-display-entity-name\">elevated </span><span class=\"spark-nlp-display-entity-type\">PROBLEM</span></span><span class=\"spark-nlp-display-others\" style=\"background-color: white\"> at 5.29 mmol/L - the original sample was centrifuged and </span><span class=\"spark-nlp-display-entity-wrapper\" style=\"background-color: #8b6673\"><span class=\"spark-nlp-display-entity-name\">the chylomicron layer </span><span class=\"spark-nlp-display-entity-type\">TREATMENT</span></span><span class=\"spark-nlp-display-others\" style=\"background-color: white\"> removed prior to </span><span class=\"spark-nlp-display-entity-wrapper\" style=\"background-color: #77b5fe\"><span class=\"spark-nlp-display-entity-name\">analysis </span><span class=\"spark-nlp-display-entity-type\">TEST</span></span><span class=\"spark-nlp-display-others\" style=\"background-color: white\"> due to interference from </span><span class=\"spark-nlp-display-entity-wrapper\" style=\"background-color: #800080\"><span class=\"spark-nlp-display-entity-name\">turbidity </span><span class=\"spark-nlp-display-entity-type\">PROBLEM</span></span><span class=\"spark-nlp-display-others\" style=\"background-color: white\"> caused by </span><span class=\"spark-nlp-display-entity-wrapper\" style=\"background-color: #800080\"><span class=\"spark-nlp-display-entity-name\">lipemia </span><span class=\"spark-nlp-display-entity-type\">PROBLEM</span></span><span class=\"spark-nlp-display-others\" style=\"background-color: white\"> again . <br>The patient was treated with </span><span class=\"spark-nlp-display-entity-wrapper\" style=\"background-color: #8b6673\"><span class=\"spark-nlp-display-entity-name\">an insulin drip </span><span class=\"spark-nlp-display-entity-type\">TREATMENT</span></span><span class=\"spark-nlp-display-others\" style=\"background-color: white\"> for </span><span class=\"spark-nlp-display-entity-wrapper\" style=\"background-color: #800080\"><span class=\"spark-nlp-display-entity-name\">euDKA </span><span class=\"spark-nlp-display-entity-type\">PROBLEM</span></span><span class=\"spark-nlp-display-others\" style=\"background-color: white\"> and </span><span class=\"spark-nlp-display-entity-wrapper\" style=\"background-color: #800080\"><span class=\"spark-nlp-display-entity-name\">HTG </span><span class=\"spark-nlp-display-entity-type\">PROBLEM</span></span><span class=\"spark-nlp-display-others\" style=\"background-color: white\"> with a reduction in </span><span class=\"spark-nlp-display-entity-wrapper\" style=\"background-color: #77b5fe\"><span class=\"spark-nlp-display-entity-name\">the anion gap </span><span class=\"spark-nlp-display-entity-type\">TEST</span></span><span class=\"spark-nlp-display-others\" style=\"background-color: white\"> to 13 and </span><span class=\"spark-nlp-display-entity-wrapper\" style=\"background-color: #77b5fe\"><span class=\"spark-nlp-display-entity-name\">triglycerides </span><span class=\"spark-nlp-display-entity-type\">TEST</span></span><span class=\"spark-nlp-display-others\" style=\"background-color: white\"> to 1400 mg/dL , within 24 hours . <br></span><span class=\"spark-nlp-display-entity-wrapper\" style=\"background-color: #800080\"><span class=\"spark-nlp-display-entity-name\">Her euDKA </span><span class=\"spark-nlp-display-entity-type\">PROBLEM</span></span><span class=\"spark-nlp-display-others\" style=\"background-color: white\"> was thought to be precipitated by </span><span class=\"spark-nlp-display-entity-wrapper\" style=\"background-color: #800080\"><span class=\"spark-nlp-display-entity-name\">her respiratory tract infection </span><span class=\"spark-nlp-display-entity-type\">PROBLEM</span></span><span class=\"spark-nlp-display-others\" style=\"background-color: white\"> in the setting of </span><span class=\"spark-nlp-display-entity-wrapper\" style=\"background-color: #8b6673\"><span class=\"spark-nlp-display-entity-name\">SGLT2 inhibitor use </span><span class=\"spark-nlp-display-entity-type\">TREATMENT</span></span><span class=\"spark-nlp-display-others\" style=\"background-color: white\"> . <br>The patient was seen by the endocrinology service and she was discharged on 40 units of </span><span class=\"spark-nlp-display-entity-wrapper\" style=\"background-color: #8b6673\"><span class=\"spark-nlp-display-entity-name\">insulin glargine </span><span class=\"spark-nlp-display-entity-type\">TREATMENT</span></span><span class=\"spark-nlp-display-others\" style=\"background-color: white\"> at night , 12 units of </span><span class=\"spark-nlp-display-entity-wrapper\" style=\"background-color: #8b6673\"><span class=\"spark-nlp-display-entity-name\">insulin lispro </span><span class=\"spark-nlp-display-entity-type\">TREATMENT</span></span><span class=\"spark-nlp-display-others\" style=\"background-color: white\"> with meals , and </span><span class=\"spark-nlp-display-entity-wrapper\" style=\"background-color: #8b6673\"><span class=\"spark-nlp-display-entity-name\">metformin </span><span class=\"spark-nlp-display-entity-type\">TREATMENT</span></span><span class=\"spark-nlp-display-others\" style=\"background-color: white\"> 1000 mg two times a day . <br>It was determined that </span><span class=\"spark-nlp-display-entity-wrapper\" style=\"background-color: #8b6673\"><span class=\"spark-nlp-display-entity-name\">all </span><span class=\"spark-nlp-display-entity-type\">TREATMENT</span></span><span class=\"spark-nlp-display-others\" style=\"background-color: white\"> </span><span class=\"spark-nlp-display-entity-wrapper\" style=\"background-color: #8b6673\"><span class=\"spark-nlp-display-entity-name\">SGLT2 inhibitors </span><span class=\"spark-nlp-display-entity-type\">TREATMENT</span></span><span class=\"spark-nlp-display-others\" style=\"background-color: white\"> should be discontinued indefinitely . She had close follow-up with endocrinology post discharge .</span></div>"
      ]
     },
     "metadata": {},
     "output_type": "display_data"
    }
   ],
   "source": [
    "light_model = nlp.LightPipeline(model)\n",
    "\n",
    "light_result = light_model.fullAnnotate(text)\n",
    "\n",
    "\n",
    "visualiser = nlp.viz.NerVisualizer()\n",
    "\n",
    "ner_vis = visualiser.display(light_result[0], label_col='ner_chunk', document_col='document', return_html=True)\n",
    "\n",
    "displayHTML(ner_vis)"
   ]
  },
  {
   "cell_type": "markdown",
   "metadata": {
    "application/vnd.databricks.v1+cell": {
     "cellMetadata": {
      "byteLimit": 2048000,
      "rowLimit": 10000
     },
     "inputWidgets": {},
     "nuid": "ec92ec74-78f8-45ed-9e1c-1fdb8c781902",
     "showTitle": false,
     "tableResultSettingsMap": {},
     "title": ""
    }
   },
   "source": [
    "**Training Clinical BertForTokenClassification Model**\n",
    "\n",
    "For training own BertForTokenClassification NER model, you can check [this notebook](https://github.com/JohnSnowLabs/spark-nlp-workshop/blob/master/tutorials/Certification_Trainings/Healthcare/1.5.BertForTokenClassification_NER_SparkNLP_with_Transformers.ipynb)"
   ]
  },
  {
   "cell_type": "markdown",
   "metadata": {
    "application/vnd.databricks.v1+cell": {
     "cellMetadata": {
      "byteLimit": 2048000,
      "rowLimit": 10000
     },
     "inputWidgets": {},
     "nuid": "b5949536-4a0b-478e-850f-3d1413f062b8",
     "showTitle": false,
     "tableResultSettingsMap": {},
     "title": ""
    }
   },
   "source": [
    "## Pretrained NER Profiling Pipelines\n",
    "\n",
    "We can use pretrained NER profiling pipelines for exploring all the available pretrained NER models at once. In Spark NLP we have two different NER profiling pipelines;\n",
    "\n",
    "- `ner_profiling_clinical` : Returns results for clinical NER models trained with `embeddings_clinical`.\n",
    "- `ner_profiling_biobert` : Returns results for clinical NER models trained with `biobert_pubmed_base_cased`.\n",
    "\n",
    "For more examples, please check [this notebook](https://github.com/JohnSnowLabs/spark-nlp-workshop/blob/master/tutorials/Certification_Trainings/Healthcare/11.2.Pretrained_NER_Profiling_Pipelines.ipynb)."
   ]
  },
  {
   "cell_type": "markdown",
   "metadata": {
    "application/vnd.databricks.v1+cell": {
     "cellMetadata": {
      "byteLimit": 2048000,
      "rowLimit": 10000
     },
     "inputWidgets": {},
     "nuid": "85386540-b061-4f47-8c2e-dfd5350a61d6",
     "showTitle": false,
     "tableResultSettingsMap": {},
     "title": ""
    }
   },
   "source": [
    "## NER Model Finder Pretrained Pipeline\n",
    "`ner_model_finder`  pretrained pipeline trained with bert embeddings that can be used to find the most appropriate NER model given the entity name."
   ]
  },
  {
   "cell_type": "code",
   "execution_count": 0,
   "metadata": {
    "application/vnd.databricks.v1+cell": {
     "cellMetadata": {
      "byteLimit": 2048000,
      "rowLimit": 10000
     },
     "inputWidgets": {},
     "nuid": "bb14a578-95d1-4383-8db4-217b466d2642",
     "showTitle": false,
     "tableResultSettingsMap": {},
     "title": ""
    }
   },
   "outputs": [
    {
     "output_type": "stream",
     "name": "stdout",
     "output_type": "stream",
     "text": [
      "ner_model_finder download started this may take some time.\nApprox size to download 148.7 MB\n\r[ | ]\r[ / ]\r[ — ]\r[ \\ ]\r[ | ]\r[OK!]\n"
     ]
    }
   ],
   "source": [
    "finder_pipeline = nlp.PretrainedPipeline(\"ner_model_finder\", \"en\", \"clinical/models\")"
   ]
  },
  {
   "cell_type": "code",
   "execution_count": 0,
   "metadata": {
    "application/vnd.databricks.v1+cell": {
     "cellMetadata": {
      "byteLimit": 2048000,
      "rowLimit": 10000
     },
     "inputWidgets": {},
     "nuid": "95a8d46b-66a8-48e2-92e4-7c9e8c955dea",
     "showTitle": false,
     "tableResultSettingsMap": {},
     "title": ""
    }
   },
   "outputs": [
    {
     "output_type": "execute_result",
     "data": {
      "text/plain": [
       "dict_keys(['model_names'])"
      ]
     },
     "execution_count": 22,
     "metadata": {},
     "output_type": "execute_result"
    }
   ],
   "source": [
    "result = finder_pipeline.fullAnnotate(\"oncology\")[0]\n",
    "result.keys()"
   ]
  },
  {
   "cell_type": "markdown",
   "metadata": {
    "application/vnd.databricks.v1+cell": {
     "cellMetadata": {
      "byteLimit": 2048000,
      "rowLimit": 10000
     },
     "inputWidgets": {},
     "nuid": "4c71e304-e515-4ada-9f99-294727c0fc21",
     "showTitle": false,
     "tableResultSettingsMap": {},
     "title": ""
    }
   },
   "source": [
    "From the metadata in the `model_names` column, we'll get to the top models to the given 'oncology' entity and oncology related categories."
   ]
  },
  {
   "cell_type": "code",
   "execution_count": 0,
   "metadata": {
    "application/vnd.databricks.v1+cell": {
     "cellMetadata": {
      "byteLimit": 2048000,
      "rowLimit": 10000
     },
     "inputWidgets": {},
     "nuid": "7f31e55b-557c-4885-96ec-2651e456ed78",
     "showTitle": false,
     "tableResultSettingsMap": {},
     "title": ""
    }
   },
   "outputs": [
    {
     "output_type": "execute_result",
     "data": {
      "text/html": [
       "<div>\n",
       "<style scoped>\n",
       "    .dataframe tbody tr th:only-of-type {\n",
       "        vertical-align: middle;\n",
       "    }\n",
       "\n",
       "    .dataframe tbody tr th {\n",
       "        vertical-align: top;\n",
       "    }\n",
       "\n",
       "    .dataframe thead th {\n",
       "        text-align: right;\n",
       "    }\n",
       "</style>\n",
       "<table border=\"1\" class=\"dataframe\">\n",
       "  <thead>\n",
       "    <tr style=\"text-align: right;\">\n",
       "      <th></th>\n",
       "      <th>category</th>\n",
       "      <th>top_models</th>\n",
       "    </tr>\n",
       "  </thead>\n",
       "  <tbody>\n",
       "    <tr>\n",
       "      <th>0</th>\n",
       "      <td>oncology therapy</td>\n",
       "      <td>['ner_jsl', 'jsl_rd_ner_wip_greedy_clinical', 'jsl_ner_wip_modifier_clinical', 'ner_jsl_enriched...</td>\n",
       "    </tr>\n",
       "    <tr>\n",
       "      <th>1</th>\n",
       "      <td>clinical department</td>\n",
       "      <td>['ner_jsl', 'jsl_rd_ner_wip_greedy_clinical', 'jsl_ner_wip_modifier_clinical', 'ner_events_clini...</td>\n",
       "    </tr>\n",
       "    <tr>\n",
       "      <th>2</th>\n",
       "      <td>biomedical unit</td>\n",
       "      <td>['ner_clinical_trials_abstracts']</td>\n",
       "    </tr>\n",
       "    <tr>\n",
       "      <th>3</th>\n",
       "      <td>cancer genetics</td>\n",
       "      <td>['ner_cancer_genetics']</td>\n",
       "    </tr>\n",
       "    <tr>\n",
       "      <th>4</th>\n",
       "      <td>anatomy</td>\n",
       "      <td>['ner_bionlp', 'ner_medmentions_coarse', 'ner_chexpert', 'ner_anatomy_coarse', 'ner_anatomy', 'n...</td>\n",
       "    </tr>\n",
       "  </tbody>\n",
       "</table>\n",
       "</div>"
      ],
      "text/plain": [
       "              category                                                                                           top_models\n",
       "0     oncology therapy  ['ner_jsl', 'jsl_rd_ner_wip_greedy_clinical', 'jsl_ner_wip_modifier_clinical', 'ner_jsl_enriched...\n",
       "1  clinical department  ['ner_jsl', 'jsl_rd_ner_wip_greedy_clinical', 'jsl_ner_wip_modifier_clinical', 'ner_events_clini...\n",
       "2      biomedical unit                                                                    ['ner_clinical_trials_abstracts']\n",
       "3      cancer genetics                                                                              ['ner_cancer_genetics']\n",
       "4              anatomy  ['ner_bionlp', 'ner_medmentions_coarse', 'ner_chexpert', 'ner_anatomy_coarse', 'ner_anatomy', 'n..."
      ]
     },
     "execution_count": 23,
     "metadata": {},
     "output_type": "execute_result"
    }
   ],
   "source": [
    "df= pd.DataFrame(zip(result[\"model_names\"][0].metadata[\"all_k_resolutions\"].split(\":::\"), \n",
    "                     result[\"model_names\"][0].metadata[\"all_k_results\"].split(\":::\")), \n",
    "                 columns=[\"category\", \"top_models\"])\n",
    "\n",
    "df.head()"
   ]
  },
  {
   "cell_type": "markdown",
   "metadata": {
    "application/vnd.databricks.v1+cell": {
     "cellMetadata": {},
     "inputWidgets": {},
     "nuid": "32ce891f-d983-4822-91bd-6f364ad06157",
     "showTitle": false,
     "tableResultSettingsMap": {},
     "title": ""
    }
   },
   "source": [
    "## ContextualEntityFilterer\n",
    "\n",
    "The ContextualEntityFilterer annotator was developed to prevent certain entities from causing interference. It can be used to filter out specific entities, ensuring accurate results are preserved. Please see [ContextualEntityFilterer MOOC Notebook](https://github.com/JohnSnowLabs/spark-nlp-workshop/blob/master/Spark_NLP_Udemy_MOOC/Healthcare_NLP/ContextualEntityFilterer.ipynb) for more details."
   ]
  },
  {
   "cell_type": "code",
   "execution_count": 0,
   "metadata": {
    "application/vnd.databricks.v1+cell": {
     "cellMetadata": {
      "byteLimit": 2048000,
      "rowLimit": 10000
     },
     "inputWidgets": {},
     "nuid": "5fff7028-df2b-4a01-a0d1-d2a4e410d3cf",
     "showTitle": false,
     "tableResultSettingsMap": {},
     "title": ""
    }
   },
   "outputs": [
    {
     "output_type": "stream",
     "name": "stdout",
     "output_type": "stream",
     "text": [
      "embeddings_clinical download started this may take some time.\nApproximate size to download 1.6 GB\n\r[ | ]\r[OK!]\nner_oncology download started this may take some time.\n\r[ | ]\r[ / ]\r[OK!]\n"
     ]
    }
   ],
   "source": [
    "documentAssembler = nlp.DocumentAssembler()\\\n",
    "    .setInputCol(\"text\")\\\n",
    "    .setOutputCol(\"document\")\n",
    "\n",
    "tokenizer = nlp.Tokenizer()\\\n",
    "    .setInputCols([\"document\"])\\\n",
    "    .setOutputCol(\"token\")\n",
    "\n",
    "word_embeddings = nlp.WordEmbeddingsModel.pretrained(\"embeddings_clinical\", \"en\", \"clinical/models\") \\\n",
    "    .setInputCols([\"document\", \"token\"])\\\n",
    "    .setOutputCol(\"embeddings\")\n",
    "\n",
    "ner_oncology = medical.NerModel.pretrained(\"ner_oncology\", \"en\", \"clinical/models\")  \\\n",
    "    .setInputCols([\"document\", \"token\", \"embeddings\"]) \\\n",
    "    .setOutputCol(\"ner_oncology\")\n",
    "\n",
    "ner_oncology_converter = medical.NerConverterInternal()\\\n",
    "    .setInputCols([\"document\", \"token\", \"ner_oncology\"])\\\n",
    "    .setOutputCol(\"ner_chunk_oncology\")\n",
    "\n",
    "rules =[{\n",
    "    \"entity\": \"Biomarker\",\n",
    "    \"scopeWindow\": [2, 2],\n",
    "    \"whiteListEntities\": [\"Biomarker_Result\"],\n",
    "    \"scopeWindowLevel\": \"token\"\n",
    "}]\n",
    "\n",
    "contextual_entity_filterer = medical.ContextualEntityFilterer() \\\n",
    "    .setInputCols(\"document\", \"token\", \"ner_chunk_oncology\") \\\n",
    "    .setOutputCol(\"filtered_ner_chunks\") \\\n",
    "    .setRules(rules)\\\n",
    "    .setRuleScope(\"sentence\") # document\n",
    "\n",
    "nlpPipeline = nlp.Pipeline(stages=[\n",
    "    documentAssembler,\n",
    "    tokenizer,\n",
    "    word_embeddings,\n",
    "    ner_oncology,\n",
    "    ner_oncology_converter,\n",
    "    contextual_entity_filterer\n",
    "])"
   ]
  },
  {
   "cell_type": "code",
   "execution_count": 0,
   "metadata": {
    "application/vnd.databricks.v1+cell": {
     "cellMetadata": {
      "byteLimit": 2048000,
      "rowLimit": 10000
     },
     "inputWidgets": {},
     "nuid": "c6f40336-1ad0-49d6-a8c3-3b9f7a3a9148",
     "showTitle": false,
     "tableResultSettingsMap": {},
     "title": ""
    }
   },
   "outputs": [],
   "source": [
    "text = \"The dissected axillary lymph nodes showed metastastic carcinoma with negative hormone receptors in 3 nodes, including ER.\"\n",
    "df = spark.createDataFrame([[text]]).toDF(\"text\")\n",
    "result = nlpPipeline.fit(df).transform(df).cache()"
   ]
  },
  {
   "cell_type": "code",
   "execution_count": 0,
   "metadata": {
    "application/vnd.databricks.v1+cell": {
     "cellMetadata": {
      "byteLimit": 2048000,
      "rowLimit": 10000
     },
     "inputWidgets": {},
     "nuid": "d5f17497-6cf9-4970-923e-0bbd082b5ba9",
     "showTitle": false,
     "tableResultSettingsMap": {},
     "title": ""
    }
   },
   "outputs": [
    {
     "output_type": "stream",
     "name": "stdout",
     "output_type": "stream",
     "text": [
      "+--------------------+-----+---+----------------+----------+\n|chunk               |begin|end|ner_label       |confidence|\n+--------------------+-----+---+----------------+----------+\n|axillary lymph nodes|14   |33 |Site_Lymph_Node |0.73673326|\n|metastastic         |42   |52 |Metastasis      |0.9983    |\n|carcinoma           |54   |62 |Cancer_Dx       |0.9966    |\n|negative            |69   |76 |Biomarker_Result|0.9825    |\n|hormone receptors   |78   |94 |Biomarker       |0.7082    |\n|nodes               |101  |105|Site_Lymph_Node |0.7992    |\n|ER                  |118  |119|Biomarker       |0.9855    |\n+--------------------+-----+---+----------------+----------+\n\n"
     ]
    }
   ],
   "source": [
    "flattener = medical.Flattener()\\\n",
    "    .setInputCols(\"ner_chunk_oncology\") \\\n",
    "    .setExplodeSelectedFields({\"ner_chunk_oncology\": [\"result as chunk\",\n",
    "                                                       \"begin as begin\",\n",
    "                                                       \"end as end\",\n",
    "                                                       \"metadata.entity as ner_label\",\n",
    "                                                       \"metadata.confidence as confidence\"]})\n",
    "flattener.transform(result).show(truncate=False)"
   ]
  },
  {
   "cell_type": "code",
   "execution_count": 0,
   "metadata": {
    "application/vnd.databricks.v1+cell": {
     "cellMetadata": {
      "byteLimit": 2048000,
      "rowLimit": 10000
     },
     "inputWidgets": {},
     "nuid": "0dfb57fa-5792-4bd4-b4da-790a73928799",
     "showTitle": false,
     "tableResultSettingsMap": {},
     "title": ""
    }
   },
   "outputs": [
    {
     "output_type": "stream",
     "name": "stdout",
     "output_type": "stream",
     "text": [
      "+--------------------+-----+---+----------------+----------+\n|chunk               |begin|end|ner_label       |confidence|\n+--------------------+-----+---+----------------+----------+\n|axillary lymph nodes|14   |33 |Site_Lymph_Node |0.73673326|\n|metastastic         |42   |52 |Metastasis      |0.9983    |\n|carcinoma           |54   |62 |Cancer_Dx       |0.9966    |\n|negative            |69   |76 |Biomarker_Result|0.9825    |\n|hormone receptors   |78   |94 |Biomarker       |0.7082    |\n|nodes               |101  |105|Site_Lymph_Node |0.7992    |\n+--------------------+-----+---+----------------+----------+\n\n"
     ]
    }
   ],
   "source": [
    "flattener = medical.Flattener()\\\n",
    "    .setInputCols(\"filtered_ner_chunks\") \\\n",
    "    .setExplodeSelectedFields({\"filtered_ner_chunks\": [\"result as chunk\",\n",
    "                                                       \"begin as begin\",\n",
    "                                                       \"end as end\",\n",
    "                                                       \"metadata.entity as ner_label\",\n",
    "                                                       \"metadata.confidence as confidence\"]})\n",
    "flattener.transform(result).show(truncate=False)"
   ]
  },
  {
   "cell_type": "markdown",
   "metadata": {
    "application/vnd.databricks.v1+cell": {
     "cellMetadata": {
      "byteLimit": 2048000,
      "rowLimit": 10000
     },
     "inputWidgets": {},
     "nuid": "25453e7d-9180-44c5-a9a2-59891edec0c8",
     "showTitle": false,
     "tableResultSettingsMap": {},
     "title": ""
    }
   },
   "source": [
    "## Extra Informations\n"
   ]
  },
  {
   "cell_type": "markdown",
   "metadata": {
    "application/vnd.databricks.v1+cell": {
     "cellMetadata": {},
     "inputWidgets": {},
     "nuid": "20b24fa1-6a2b-4bec-9578-008d5117e3c4",
     "showTitle": false,
     "tableResultSettingsMap": {},
     "title": ""
    }
   },
   "source": [
    "**ExceptionHandling**\n",
    "\n",
    "If true, try to compute batch-wise as usual.\n",
    "If within a batch an exception occurs, the batch will be processed row-wise and for any exception occurring during row-processing an Error Annotation is emitted.\n",
    "This means only the bad rows are lost instead of the entire batch.\n",
    "This comes with a performance penalty.\n",
    "\n",
    "*Example*:\n",
    "```python\n",
    "clinical_ner = MedicalNerModel.pretrained(\"ner_oncology\", \"en\", \"clinical/models\") \\\n",
    "    .setInputCols([\"sentence\", \"token\", \"embeddings\"]) \\\n",
    "    .setOutputCol(\"ner\")\\\n",
    "    .setDoExceptionHandling(True)\n",
    "```"
   ]
  },
  {
   "cell_type": "markdown",
   "metadata": {
    "application/vnd.databricks.v1+cell": {
     "cellMetadata": {
      "byteLimit": 2048000,
      "rowLimit": 10000
     },
     "inputWidgets": {},
     "nuid": "af43603e-4b9b-40bf-8865-694a2d27b1d1",
     "showTitle": false,
     "tableResultSettingsMap": {},
     "title": ""
    }
   },
   "source": [
    "End of Notebook #"
   ]
  }
 ],
 "metadata": {
  "application/vnd.databricks.v1+notebook": {
   "computePreferences": null,
   "dashboards": [],
   "environmentMetadata": null,
   "language": "python",
   "notebookMetadata": {
    "mostRecentlyExecutedCommandWithImplicitDF": {
     "commandId": 3734948014544933,
     "dataframes": [
      "_sqldf"
     ]
    },
    "pythonIndentUnit": 2
   },
   "notebookName": "01.0.Clinical_Named_Entity_Recognition_Model",
   "widgets": {}
  },
  "kernelspec": {
   "display_name": "Python 3",
   "language": "python",
   "name": "python3"
  },
  "language_info": {
   "name": "python"
  }
 },
 "nbformat": 4,
 "nbformat_minor": 0
}
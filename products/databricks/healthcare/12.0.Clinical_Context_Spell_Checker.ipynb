{
 "cells": [
  {
   "cell_type": "markdown",
   "metadata": {
    "application/vnd.databricks.v1+cell": {
     "cellMetadata": {
      "byteLimit": 2048000,
      "rowLimit": 10000
     },
     "inputWidgets": {},
     "nuid": "c469c9ee-3832-4f99-96ee-679bf24df825",
     "showTitle": false,
     "title": ""
    },
    "id": "QJOsfqRGI_3n"
   },
   "source": [
    "![JohnSnowLabs](https://nlp.johnsnowlabs.com/assets/images/logo.png)"
   ]
  },
  {
   "cell_type": "markdown",
   "metadata": {
    "application/vnd.databricks.v1+cell": {
     "cellMetadata": {
      "byteLimit": 2048000,
      "rowLimit": 10000
     },
     "inputWidgets": {},
     "nuid": "8a104cee-cb11-4845-86f6-17fbe57a4840",
     "showTitle": false,
     "title": ""
    },
    "id": "sI93AChbI_3v"
   },
   "source": [
    "<H1>Context Based Clinical Spell Checker</H1>"
   ]
  },
  {
   "cell_type": "code",
   "execution_count": 0,
   "metadata": {
    "application/vnd.databricks.v1+cell": {
     "cellMetadata": {
      "byteLimit": 2048000,
      "rowLimit": 10000
     },
     "inputWidgets": {},
     "nuid": "daf19bd8-d6fa-4bd7-ac3a-3db6c7a82c5c",
     "showTitle": false,
     "title": ""
    },
    "id": "wdUI6jnVI_3w",
    "outputId": "69563866-9a6a-402b-bf03-20b89f5370d0"
   },
   "outputs": [
    {
     "output_type": "display_data",
     "data": {
      "text/html": [
       "<style scoped>\n",
       "  .ansiout {\n",
       "    display: block;\n",
       "    unicode-bidi: embed;\n",
       "    white-space: pre-wrap;\n",
       "    word-wrap: break-word;\n",
       "    word-break: break-all;\n",
       "    font-family: \"Source Code Pro\", \"Menlo\", monospace;;\n",
       "    font-size: 13px;\n",
       "    color: #555;\n",
       "    margin-left: 4px;\n",
       "    line-height: 19px;\n",
       "  }\n",
       "</style>\n",
       "<div class=\"ansiout\"></div>"
      ]
     },
     "metadata": {
      "application/vnd.databricks.v1+output": {
       "addedWidgets": {},
       "arguments": {},
       "data": "<div class=\"ansiout\"></div>",
       "datasetInfos": [],
       "metadata": {},
       "removedWidgets": [],
       "type": "html"
      }
     },
     "output_type": "display_data"
    }
   ],
   "source": [
    "from johnsnowlabs import nlp, medical\n",
    "\n",
    "# After uploading your license run this to install all licensed Python Wheels and pre-download Jars the Spark Session JVM\n",
    "#nlp.install()"
   ]
  },
  {
   "cell_type": "code",
   "execution_count": 0,
   "metadata": {
    "application/vnd.databricks.v1+cell": {
     "cellMetadata": {
      "byteLimit": 2048000,
      "rowLimit": 10000
     },
     "inputWidgets": {},
     "nuid": "aec5b99e-ee02-4c2a-af2f-8dd758051ffa",
     "showTitle": false,
     "title": ""
    }
   },
   "outputs": [
    {
     "output_type": "display_data",
     "data": {
      "text/html": [
       "<style scoped>\n",
       "  .ansiout {\n",
       "    display: block;\n",
       "    unicode-bidi: embed;\n",
       "    white-space: pre-wrap;\n",
       "    word-wrap: break-word;\n",
       "    word-break: break-all;\n",
       "    font-family: \"Source Code Pro\", \"Menlo\", monospace;;\n",
       "    font-size: 13px;\n",
       "    color: #555;\n",
       "    margin-left: 4px;\n",
       "    line-height: 19px;\n",
       "  }\n",
       "</style>\n",
       "<div class=\"ansiout\">Out[2]: </div>"
      ]
     },
     "metadata": {
      "application/vnd.databricks.v1+output": {
       "addedWidgets": {},
       "arguments": {},
       "data": "<div class=\"ansiout\">Out[2]: </div>",
       "datasetInfos": [],
       "metadata": {},
       "removedWidgets": [],
       "type": "html"
      }
     },
     "output_type": "display_data"
    },
    {
     "output_type": "display_data",
     "data": {
      "text/html": [
       "\n",
       "            <div>\n",
       "                <p><b>SparkSession - hive</b></p>\n",
       "                \n",
       "        <div>\n",
       "            <p><b>SparkContext</b></p>\n",
       "\n",
       "            <p><a href=\"/?o=7956323724731612#setting/sparkui/0724-150307-m1phxes0/driver-571704325604595435\">Spark UI</a></p>\n",
       "\n",
       "            <dl>\n",
       "              <dt>Version</dt>\n",
       "                <dd><code>v3.2.1</code></dd>\n",
       "              <dt>Master</dt>\n",
       "                <dd><code>spark://10.139.64.8:7077</code></dd>\n",
       "              <dt>AppName</dt>\n",
       "                <dd><code>Databricks Shell</code></dd>\n",
       "            </dl>\n",
       "        </div>\n",
       "        \n",
       "            </div>\n",
       "        "
      ]
     },
     "metadata": {
      "application/vnd.databricks.v1+output": {
       "addedWidgets": {},
       "arguments": {},
       "data": "\n            <div>\n                <p><b>SparkSession - hive</b></p>\n                \n        <div>\n            <p><b>SparkContext</b></p>\n\n            <p><a href=\"/?o=7956323724731612#setting/sparkui/0724-150307-m1phxes0/driver-571704325604595435\">Spark UI</a></p>\n\n            <dl>\n              <dt>Version</dt>\n                <dd><code>v3.2.1</code></dd>\n              <dt>Master</dt>\n                <dd><code>spark://10.139.64.8:7077</code></dd>\n              <dt>AppName</dt>\n                <dd><code>Databricks Shell</code></dd>\n            </dl>\n        </div>\n        \n            </div>\n        ",
       "datasetInfos": [],
       "metadata": {},
       "removedWidgets": [],
       "textData": null,
       "type": "htmlSandbox"
      }
     },
     "output_type": "display_data"
    }
   ],
   "source": [
    "from pyspark.sql import DataFrame\n",
    "import pyspark.sql.functions as F\n",
    "import pyspark.sql.types as T\n",
    "import pyspark.sql as SQL\n",
    "\n",
    "import os\n",
    "import json\n",
    "import string\n",
    "import numpy as np\n",
    "import pandas as pd\n",
    "\n",
    "from pyspark.ml import Pipeline, PipelineModel\n",
    "\n",
    "pd.set_option('max_colwidth', 100)\n",
    "pd.set_option('display.max_columns', 100)  \n",
    "pd.set_option('display.expand_frame_repr', False)\n",
    "\n",
    "spark"
   ]
  },
  {
   "cell_type": "code",
   "execution_count": 0,
   "metadata": {
    "application/vnd.databricks.v1+cell": {
     "cellMetadata": {
      "byteLimit": 2048000,
      "rowLimit": 10000
     },
     "inputWidgets": {},
     "nuid": "d260ffe0-e641-4035-a530-0f100eae8e12",
     "showTitle": false,
     "title": ""
    },
    "id": "-KEqAocbI_3y",
    "outputId": "c20fae82-4fe1-4624-ebc3-2e1672a2bb28"
   },
   "outputs": [
    {
     "output_type": "display_data",
     "data": {
      "text/html": [
       "<style scoped>\n",
       "  .ansiout {\n",
       "    display: block;\n",
       "    unicode-bidi: embed;\n",
       "    white-space: pre-wrap;\n",
       "    word-wrap: break-word;\n",
       "    word-break: break-all;\n",
       "    font-family: \"Source Code Pro\", \"Menlo\", monospace;;\n",
       "    font-size: 13px;\n",
       "    color: #555;\n",
       "    margin-left: 4px;\n",
       "    line-height: 19px;\n",
       "  }\n",
       "</style>\n",
       "<div class=\"ansiout\">spellcheck_clinical download started this may take some time.\n",
       "Approximate size to download 134.7 MB\n",
       "\r[ | ]\r[ / ]\r[ — ]\r[ \\ ]\r[ | ]\r[ / ]\r[ — ]\r[ \\ ]\r[ | ]\r[ / ]\r[ — ]\r[ \\ ]\r[ | ]\r[ / ]\r[ — ]\r[ \\ ]\r[ | ]\r[ / ]\r[ — ]\r[OK!]\n",
       "</div>"
      ]
     },
     "metadata": {
      "application/vnd.databricks.v1+output": {
       "addedWidgets": {},
       "arguments": {},
       "data": "<div class=\"ansiout\">spellcheck_clinical download started this may take some time.\nApproximate size to download 134.7 MB\n\r[ | ]\r[ / ]\r[ — ]\r[ \\ ]\r[ | ]\r[ / ]\r[ — ]\r[ \\ ]\r[ | ]\r[ / ]\r[ — ]\r[ \\ ]\r[ | ]\r[ / ]\r[ — ]\r[ \\ ]\r[ | ]\r[ / ]\r[ — ]\r[OK!]\n</div>",
       "datasetInfos": [],
       "metadata": {},
       "removedWidgets": [],
       "type": "html"
      }
     },
     "output_type": "display_data"
    }
   ],
   "source": [
    "documentAssembler = nlp.DocumentAssembler()\\\n",
    "    .setInputCol(\"text\")\\\n",
    "    .setOutputCol(\"document\")\n",
    "\n",
    "tokenizer = nlp.RecursiveTokenizer()\\\n",
    "    .setInputCols([\"document\"])\\\n",
    "    .setOutputCol(\"token\")\\\n",
    "    .setPrefixes([\"\\\"\", \"(\", \"[\", \"\\n\"])\\\n",
    "    .setSuffixes([\".\", \",\", \"?\", \")\",\"!\", \"'s\"])\n",
    "\n",
    "spellModel = nlp.ContextSpellCheckerModel.pretrained('spellcheck_clinical', 'en', 'clinical/models')\\\n",
    "    .setInputCols(\"token\")\\\n",
    "    .setOutputCol(\"checked\")"
   ]
  },
  {
   "cell_type": "code",
   "execution_count": 0,
   "metadata": {
    "application/vnd.databricks.v1+cell": {
     "cellMetadata": {
      "byteLimit": 2048000,
      "rowLimit": 10000
     },
     "inputWidgets": {},
     "nuid": "833444d3-5a30-47dc-a00d-19061e93f585",
     "showTitle": false,
     "title": ""
    },
    "id": "L8pETwfiI_31",
    "outputId": "144fefed-0690-44d5-a8dd-8e3735a228b6"
   },
   "outputs": [
    {
     "output_type": "display_data",
     "data": {
      "text/html": [
       "<style scoped>\n",
       "  .ansiout {\n",
       "    display: block;\n",
       "    unicode-bidi: embed;\n",
       "    white-space: pre-wrap;\n",
       "    word-wrap: break-word;\n",
       "    word-break: break-all;\n",
       "    font-family: \"Source Code Pro\", \"Menlo\", monospace;;\n",
       "    font-size: 13px;\n",
       "    color: #555;\n",
       "    margin-left: 4px;\n",
       "    line-height: 19px;\n",
       "  }\n",
       "</style>\n",
       "<div class=\"ansiout\"></div>"
      ]
     },
     "metadata": {
      "application/vnd.databricks.v1+output": {
       "addedWidgets": {},
       "arguments": {},
       "data": "<div class=\"ansiout\"></div>",
       "datasetInfos": [],
       "metadata": {},
       "removedWidgets": [],
       "type": "html"
      }
     },
     "output_type": "display_data"
    }
   ],
   "source": [
    "pipeline = nlp.Pipeline(\n",
    "    stages = [\n",
    "    documentAssembler,\n",
    "    tokenizer,\n",
    "    spellModel\n",
    "  ])\n",
    "\n",
    "empty_ds = spark.createDataFrame([[\"\"]]).toDF(\"text\")\n",
    "\n",
    "lp = nlp.LightPipeline(pipeline.fit(empty_ds))"
   ]
  },
  {
   "cell_type": "markdown",
   "metadata": {
    "application/vnd.databricks.v1+cell": {
     "cellMetadata": {
      "byteLimit": 2048000,
      "rowLimit": 10000
     },
     "inputWidgets": {},
     "nuid": "f8466d0a-cd9c-4829-a383-157fe8562838",
     "showTitle": false,
     "title": ""
    },
    "id": "o-wXCw6mI_33"
   },
   "source": [
    "Ok!, at this point we have our spell checking pipeline as expected. Let's see what we can do with it, see these errors,\n",
    "\n",
    "\n",
    "\n",
    "_She was **treathed** with a five day course of **amoxicilin** for a **resperatory** **truct** infection._\n",
    "\n",
    "_With pain well controlled on **orall** **meditation**, she was discharged to **reihabilitation** **facilitay**._\n",
    "\n",
    "\n",
    "_Her **adominal** examination is soft, nontender, and **nonintended**_\n",
    "\n",
    "_The patient was seen by the **entocrinology** service and she was discharged on 40 units of **unsilin** glargine at night_\n",
    "      \n",
    "_No __cute__ distress_\n",
    "\n",
    "\n",
    "Check that some of the errors are valid English words, only by considering the context the right choice can be made."
   ]
  },
  {
   "cell_type": "code",
   "execution_count": 0,
   "metadata": {
    "application/vnd.databricks.v1+cell": {
     "cellMetadata": {
      "byteLimit": 2048000,
      "rowLimit": 10000
     },
     "inputWidgets": {},
     "nuid": "47569d82-239e-43e0-a485-2e685951045c",
     "showTitle": false,
     "title": ""
    },
    "id": "zjHnqUteI_33",
    "outputId": "b8e18c61-c76b-476e-f650-245e9c678ded"
   },
   "outputs": [
    {
     "output_type": "display_data",
     "data": {
      "text/html": [
       "<style scoped>\n",
       "  .ansiout {\n",
       "    display: block;\n",
       "    unicode-bidi: embed;\n",
       "    white-space: pre-wrap;\n",
       "    word-wrap: break-word;\n",
       "    word-break: break-all;\n",
       "    font-family: \"Source Code Pro\", \"Menlo\", monospace;;\n",
       "    font-size: 13px;\n",
       "    color: #555;\n",
       "    margin-left: 4px;\n",
       "    line-height: 19px;\n",
       "  }\n",
       "</style>\n",
       "<div class=\"ansiout\">[(&#39;She&#39;, &#39;She&#39;), (&#39;was&#39;, &#39;was&#39;), (&#39;treathed&#39;, &#39;treated&#39;), (&#39;with&#39;, &#39;with&#39;), (&#39;a&#39;, &#39;a&#39;), (&#39;five&#39;, &#39;five&#39;), (&#39;day&#39;, &#39;day&#39;), (&#39;course&#39;, &#39;course&#39;), (&#39;of&#39;, &#39;of&#39;), (&#39;amoxicilin&#39;, &#39;amoxicillin&#39;), (&#39;for&#39;, &#39;for&#39;), (&#39;a&#39;, &#39;a&#39;), (&#39;resperatory&#39;, &#39;respiratory&#39;), (&#39;truct&#39;, &#39;tract&#39;), (&#39;infection&#39;, &#39;infection&#39;), (&#39;.&#39;, &#39;.&#39;)]\n",
       "[(&#39;With&#39;, &#39;With&#39;), (&#39;pain&#39;, &#39;pain&#39;), (&#39;well&#39;, &#39;well&#39;), (&#39;controlled&#39;, &#39;controlled&#39;), (&#39;on&#39;, &#39;on&#39;), (&#39;orall&#39;, &#39;oral&#39;), (&#39;meditation&#39;, &#39;medication&#39;), (&#39;,&#39;, &#39;,&#39;), (&#39;she&#39;, &#39;she&#39;), (&#39;was&#39;, &#39;was&#39;), (&#39;discharged&#39;, &#39;discharged&#39;), (&#39;to&#39;, &#39;to&#39;), (&#39;reihabilitation&#39;, &#39;rehabilitation&#39;), (&#39;facilitay&#39;, &#39;facility&#39;), (&#39;.&#39;, &#39;.&#39;)]\n",
       "[(&#39;Her&#39;, &#39;Her&#39;), (&#39;adominal&#39;, &#39;abdominal&#39;), (&#39;examination&#39;, &#39;examination&#39;), (&#39;is&#39;, &#39;is&#39;), (&#39;soft&#39;, &#39;soft&#39;), (&#39;,&#39;, &#39;,&#39;), (&#39;nontender&#39;, &#39;nontender&#39;), (&#39;,&#39;, &#39;,&#39;), (&#39;and&#39;, &#39;and&#39;), (&#39;nonintended&#39;, &#39;nondistended&#39;), (&#39;.&#39;, &#39;.&#39;)]\n",
       "[(&#39;The&#39;, &#39;The&#39;), (&#39;patient&#39;, &#39;patient&#39;), (&#39;was&#39;, &#39;was&#39;), (&#39;seen&#39;, &#39;seen&#39;), (&#39;by&#39;, &#39;by&#39;), (&#39;the&#39;, &#39;the&#39;), (&#39;entocrinology&#39;, &#39;endocrinology&#39;), (&#39;service&#39;, &#39;service&#39;), (&#39;and&#39;, &#39;and&#39;), (&#39;she&#39;, &#39;she&#39;), (&#39;was&#39;, &#39;was&#39;), (&#39;discharged&#39;, &#39;discharged&#39;), (&#39;on&#39;, &#39;on&#39;), (&#39;40&#39;, &#39;40&#39;), (&#39;units&#39;, &#39;units&#39;), (&#39;of&#39;, &#39;of&#39;), (&#39;unsilin&#39;, &#39;insulin&#39;), (&#39;glargine&#39;, &#39;glargine&#39;), (&#39;at&#39;, &#39;at&#39;), (&#39;night&#39;, &#39;night&#39;)]\n",
       "[(&#39;No&#39;, &#39;No&#39;), (&#39;cute&#39;, &#39;acute&#39;), (&#39;distress&#39;, &#39;distress&#39;)]\n",
       "</div>"
      ]
     },
     "metadata": {
      "application/vnd.databricks.v1+output": {
       "addedWidgets": {},
       "arguments": {},
       "data": "<div class=\"ansiout\">[(&#39;She&#39;, &#39;She&#39;), (&#39;was&#39;, &#39;was&#39;), (&#39;treathed&#39;, &#39;treated&#39;), (&#39;with&#39;, &#39;with&#39;), (&#39;a&#39;, &#39;a&#39;), (&#39;five&#39;, &#39;five&#39;), (&#39;day&#39;, &#39;day&#39;), (&#39;course&#39;, &#39;course&#39;), (&#39;of&#39;, &#39;of&#39;), (&#39;amoxicilin&#39;, &#39;amoxicillin&#39;), (&#39;for&#39;, &#39;for&#39;), (&#39;a&#39;, &#39;a&#39;), (&#39;resperatory&#39;, &#39;respiratory&#39;), (&#39;truct&#39;, &#39;tract&#39;), (&#39;infection&#39;, &#39;infection&#39;), (&#39;.&#39;, &#39;.&#39;)]\n[(&#39;With&#39;, &#39;With&#39;), (&#39;pain&#39;, &#39;pain&#39;), (&#39;well&#39;, &#39;well&#39;), (&#39;controlled&#39;, &#39;controlled&#39;), (&#39;on&#39;, &#39;on&#39;), (&#39;orall&#39;, &#39;oral&#39;), (&#39;meditation&#39;, &#39;medication&#39;), (&#39;,&#39;, &#39;,&#39;), (&#39;she&#39;, &#39;she&#39;), (&#39;was&#39;, &#39;was&#39;), (&#39;discharged&#39;, &#39;discharged&#39;), (&#39;to&#39;, &#39;to&#39;), (&#39;reihabilitation&#39;, &#39;rehabilitation&#39;), (&#39;facilitay&#39;, &#39;facility&#39;), (&#39;.&#39;, &#39;.&#39;)]\n[(&#39;Her&#39;, &#39;Her&#39;), (&#39;adominal&#39;, &#39;abdominal&#39;), (&#39;examination&#39;, &#39;examination&#39;), (&#39;is&#39;, &#39;is&#39;), (&#39;soft&#39;, &#39;soft&#39;), (&#39;,&#39;, &#39;,&#39;), (&#39;nontender&#39;, &#39;nontender&#39;), (&#39;,&#39;, &#39;,&#39;), (&#39;and&#39;, &#39;and&#39;), (&#39;nonintended&#39;, &#39;nondistended&#39;), (&#39;.&#39;, &#39;.&#39;)]\n[(&#39;The&#39;, &#39;The&#39;), (&#39;patient&#39;, &#39;patient&#39;), (&#39;was&#39;, &#39;was&#39;), (&#39;seen&#39;, &#39;seen&#39;), (&#39;by&#39;, &#39;by&#39;), (&#39;the&#39;, &#39;the&#39;), (&#39;entocrinology&#39;, &#39;endocrinology&#39;), (&#39;service&#39;, &#39;service&#39;), (&#39;and&#39;, &#39;and&#39;), (&#39;she&#39;, &#39;she&#39;), (&#39;was&#39;, &#39;was&#39;), (&#39;discharged&#39;, &#39;discharged&#39;), (&#39;on&#39;, &#39;on&#39;), (&#39;40&#39;, &#39;40&#39;), (&#39;units&#39;, &#39;units&#39;), (&#39;of&#39;, &#39;of&#39;), (&#39;unsilin&#39;, &#39;insulin&#39;), (&#39;glargine&#39;, &#39;glargine&#39;), (&#39;at&#39;, &#39;at&#39;), (&#39;night&#39;, &#39;night&#39;)]\n[(&#39;No&#39;, &#39;No&#39;), (&#39;cute&#39;, &#39;acute&#39;), (&#39;distress&#39;, &#39;distress&#39;)]\n</div>",
       "datasetInfos": [],
       "metadata": {},
       "removedWidgets": [],
       "type": "html"
      }
     },
     "output_type": "display_data"
    }
   ],
   "source": [
    "example = [\"She was treathed with a five day course of amoxicilin for a resperatory truct infection . \",\n",
    "           \"With pain well controlled on orall meditation, she was discharged to reihabilitation facilitay.\",\n",
    "           \"Her adominal examination is soft, nontender, and nonintended.\",\n",
    "           \"The patient was seen by the entocrinology service and she was discharged on 40 units of unsilin glargine at night\",\n",
    "           \"No cute distress\",\n",
    "          ]\n",
    "\n",
    "for pairs in lp.annotate(example):\n",
    "\n",
    "  print (list(zip(pairs['token'],pairs['checked'])))"
   ]
  },
  {
   "cell_type": "code",
   "execution_count": 0,
   "metadata": {
    "application/vnd.databricks.v1+cell": {
     "cellMetadata": {
      "byteLimit": 2048000,
      "rowLimit": 10000
     },
     "inputWidgets": {},
     "nuid": "f582fa70-6edd-43b4-aa39-4bdd4538fc17",
     "showTitle": false,
     "title": ""
    }
   },
   "outputs": [
    {
     "output_type": "display_data",
     "data": {
      "text/html": [
       "<style scoped>\n",
       "  .ansiout {\n",
       "    display: block;\n",
       "    unicode-bidi: embed;\n",
       "    white-space: pre-wrap;\n",
       "    word-wrap: break-word;\n",
       "    word-break: break-all;\n",
       "    font-family: \"Source Code Pro\", \"Menlo\", monospace;;\n",
       "    font-size: 13px;\n",
       "    color: #555;\n",
       "    margin-left: 4px;\n",
       "    line-height: 19px;\n",
       "  }\n",
       "</style>\n",
       "<div class=\"ansiout\">Corrected tokens:\n",
       "\n",
       "Out[6]: [(&#39;treathed&#39;, &#39;treated&#39;),\n",
       " (&#39;amoxicilin&#39;, &#39;amoxicillin&#39;),\n",
       " (&#39;resperatory&#39;, &#39;respiratory&#39;),\n",
       " (&#39;truct&#39;, &#39;tract&#39;),\n",
       " (&#39;orall&#39;, &#39;oral&#39;),\n",
       " (&#39;meditation&#39;, &#39;medication&#39;),\n",
       " (&#39;reihabilitation&#39;, &#39;rehabilitation&#39;),\n",
       " (&#39;facilitay&#39;, &#39;facility&#39;),\n",
       " (&#39;adominal&#39;, &#39;abdominal&#39;),\n",
       " (&#39;nonintended&#39;, &#39;nondistended&#39;),\n",
       " (&#39;entocrinology&#39;, &#39;endocrinology&#39;),\n",
       " (&#39;unsilin&#39;, &#39;insulin&#39;),\n",
       " (&#39;cute&#39;, &#39;acute&#39;)]</div>"
      ]
     },
     "metadata": {
      "application/vnd.databricks.v1+output": {
       "addedWidgets": {},
       "arguments": {},
       "data": "<div class=\"ansiout\">Corrected tokens:\n\nOut[6]: [(&#39;treathed&#39;, &#39;treated&#39;),\n (&#39;amoxicilin&#39;, &#39;amoxicillin&#39;),\n (&#39;resperatory&#39;, &#39;respiratory&#39;),\n (&#39;truct&#39;, &#39;tract&#39;),\n (&#39;orall&#39;, &#39;oral&#39;),\n (&#39;meditation&#39;, &#39;medication&#39;),\n (&#39;reihabilitation&#39;, &#39;rehabilitation&#39;),\n (&#39;facilitay&#39;, &#39;facility&#39;),\n (&#39;adominal&#39;, &#39;abdominal&#39;),\n (&#39;nonintended&#39;, &#39;nondistended&#39;),\n (&#39;entocrinology&#39;, &#39;endocrinology&#39;),\n (&#39;unsilin&#39;, &#39;insulin&#39;),\n (&#39;cute&#39;, &#39;acute&#39;)]</div>",
       "datasetInfos": [],
       "metadata": {},
       "removedWidgets": [],
       "type": "html"
      }
     },
     "output_type": "display_data"
    }
   ],
   "source": [
    "print(\"Corrected tokens:\\n\")\n",
    "\n",
    "pair_list = [list(zip(pairs['token'],pairs['checked'])) for pairs in lp.annotate(example)]\n",
    "corrected_list = [i for pair in pair_list for i in pair if i[0] != i[1]]\n",
    "corrected_list"
   ]
  },
  {
   "cell_type": "markdown",
   "metadata": {
    "application/vnd.databricks.v1+cell": {
     "cellMetadata": {},
     "inputWidgets": {},
     "nuid": "27370fb9-3045-4730-946f-17c897c19289",
     "showTitle": false,
     "title": ""
    }
   },
   "source": [
    "## spellcheck_drug_norvig"
   ]
  },
  {
   "cell_type": "code",
   "execution_count": 0,
   "metadata": {
    "application/vnd.databricks.v1+cell": {
     "cellMetadata": {
      "byteLimit": 2048000,
      "rowLimit": 10000
     },
     "inputWidgets": {},
     "nuid": "b8053347-6022-47db-893a-1d5283ba4515",
     "showTitle": false,
     "title": ""
    }
   },
   "outputs": [
    {
     "output_type": "display_data",
     "data": {
      "text/html": [
       "<style scoped>\n",
       "  .ansiout {\n",
       "    display: block;\n",
       "    unicode-bidi: embed;\n",
       "    white-space: pre-wrap;\n",
       "    word-wrap: break-word;\n",
       "    word-break: break-all;\n",
       "    font-family: \"Source Code Pro\", \"Menlo\", monospace;;\n",
       "    font-size: 13px;\n",
       "    color: #555;\n",
       "    margin-left: 4px;\n",
       "    line-height: 19px;\n",
       "  }\n",
       "</style>\n",
       "<div class=\"ansiout\">spellcheck_drug_norvig download started this may take some time.\n",
       "Approximate size to download 4.3 MB\n",
       "\r[ | ]\r[ / ]\r[OK!]\n",
       "</div>"
      ]
     },
     "metadata": {
      "application/vnd.databricks.v1+output": {
       "addedWidgets": {},
       "arguments": {},
       "data": "<div class=\"ansiout\">spellcheck_drug_norvig download started this may take some time.\nApproximate size to download 4.3 MB\n\r[ | ]\r[ / ]\r[OK!]\n</div>",
       "datasetInfos": [],
       "metadata": {},
       "removedWidgets": [],
       "type": "html"
      }
     },
     "output_type": "display_data"
    }
   ],
   "source": [
    "documentAssembler = nlp.DocumentAssembler()\\\n",
    "    .setInputCol(\"text\")\\\n",
    "    .setOutputCol(\"document\")\n",
    "\n",
    "tokenizer = nlp.Tokenizer()\\\n",
    "    .setInputCols(\"document\")\\\n",
    "    .setOutputCol(\"token\")\n",
    "\n",
    "spell = nlp.NorvigSweetingModel.pretrained(\"spellcheck_drug_norvig\", \"en\", \"clinical/models\")\\\n",
    "    .setInputCols(\"token\")\\\n",
    "    .setOutputCol(\"corrected_token\")\\\n",
    "\n",
    "pipeline = nlp.Pipeline(\n",
    "    stages = [\n",
    "        documentAssembler,\n",
    "        tokenizer,\n",
    "        spell\n",
    "        ])\n",
    "\n",
    "\n",
    "empty_ds = spark.createDataFrame([[\"\"]]).toDF(\"text\")\n",
    "\n",
    "lp = nlp.LightPipeline(pipeline.fit(empty_ds))"
   ]
  },
  {
   "cell_type": "code",
   "execution_count": 0,
   "metadata": {
    "application/vnd.databricks.v1+cell": {
     "cellMetadata": {
      "byteLimit": 2048000,
      "rowLimit": 10000
     },
     "inputWidgets": {},
     "nuid": "3220b4a9-658b-40c8-b577-873c3287c5ec",
     "showTitle": false,
     "title": ""
    }
   },
   "outputs": [
    {
     "output_type": "display_data",
     "data": {
      "text/html": [
       "<style scoped>\n",
       "  .ansiout {\n",
       "    display: block;\n",
       "    unicode-bidi: embed;\n",
       "    white-space: pre-wrap;\n",
       "    word-wrap: break-word;\n",
       "    word-break: break-all;\n",
       "    font-family: \"Source Code Pro\", \"Menlo\", monospace;;\n",
       "    font-size: 13px;\n",
       "    color: #555;\n",
       "    margin-left: 4px;\n",
       "    line-height: 19px;\n",
       "  }\n",
       "</style>\n",
       "<div class=\"ansiout\">[(&#39;You&#39;, &#39;You&#39;), (&#39;have&#39;, &#39;have&#39;), (&#39;to&#39;, &#39;to&#39;), (&#39;take&#39;, &#39;take&#39;), (&#39;Amrosia&#39;, &#39;Ambrosia&#39;), (&#39;artemisiifoli&#39;, &#39;artemisiifolia&#39;), (&#39;,&#39;, &#39;,&#39;), (&#39;Oactra&#39;, &#39;Odactra&#39;), (&#39;and&#39;, &#39;and&#39;), (&#39;a&#39;, &#39;a&#39;), (&#39;bit&#39;, &#39;bit&#39;), (&#39;of&#39;, &#39;of&#39;), (&#39;Grastk&#39;, &#39;Grastek&#39;), (&#39;and&#39;, &#39;and&#39;), (&#39;lastacaf&#39;, &#39;lastacaft&#39;)]\n",
       "</div>"
      ]
     },
     "metadata": {
      "application/vnd.databricks.v1+output": {
       "addedWidgets": {},
       "arguments": {},
       "data": "<div class=\"ansiout\">[(&#39;You&#39;, &#39;You&#39;), (&#39;have&#39;, &#39;have&#39;), (&#39;to&#39;, &#39;to&#39;), (&#39;take&#39;, &#39;take&#39;), (&#39;Amrosia&#39;, &#39;Ambrosia&#39;), (&#39;artemisiifoli&#39;, &#39;artemisiifolia&#39;), (&#39;,&#39;, &#39;,&#39;), (&#39;Oactra&#39;, &#39;Odactra&#39;), (&#39;and&#39;, &#39;and&#39;), (&#39;a&#39;, &#39;a&#39;), (&#39;bit&#39;, &#39;bit&#39;), (&#39;of&#39;, &#39;of&#39;), (&#39;Grastk&#39;, &#39;Grastek&#39;), (&#39;and&#39;, &#39;and&#39;), (&#39;lastacaf&#39;, &#39;lastacaft&#39;)]\n</div>",
       "datasetInfos": [],
       "metadata": {},
       "removedWidgets": [],
       "type": "html"
      }
     },
     "output_type": "display_data"
    }
   ],
   "source": [
    "example = [\"You have to take Amrosia artemisiifoli , Oactra and a bit of Grastk and lastacaf \",\n",
    "          ]\n",
    "\n",
    "for pairs in lp.annotate(example):\n",
    "    print(list(zip(pairs['token'],pairs['corrected_token'])))"
   ]
  },
  {
   "cell_type": "code",
   "execution_count": 0,
   "metadata": {
    "application/vnd.databricks.v1+cell": {
     "cellMetadata": {
      "byteLimit": 2048000,
      "rowLimit": 10000
     },
     "inputWidgets": {},
     "nuid": "7f7fb8e6-880a-4156-853a-05b030b34ff9",
     "showTitle": false,
     "title": ""
    }
   },
   "outputs": [
    {
     "output_type": "display_data",
     "data": {
      "text/html": [
       "<style scoped>\n",
       "  .ansiout {\n",
       "    display: block;\n",
       "    unicode-bidi: embed;\n",
       "    white-space: pre-wrap;\n",
       "    word-wrap: break-word;\n",
       "    word-break: break-all;\n",
       "    font-family: \"Source Code Pro\", \"Menlo\", monospace;;\n",
       "    font-size: 13px;\n",
       "    color: #555;\n",
       "    margin-left: 4px;\n",
       "    line-height: 19px;\n",
       "  }\n",
       "</style>\n",
       "<div class=\"ansiout\">Corrected tokens:\n",
       "\n",
       "Out[9]: [(&#39;Amrosia&#39;, &#39;Ambrosia&#39;),\n",
       " (&#39;artemisiifoli&#39;, &#39;artemisiifolia&#39;),\n",
       " (&#39;Oactra&#39;, &#39;Odactra&#39;),\n",
       " (&#39;Grastk&#39;, &#39;Grastek&#39;),\n",
       " (&#39;lastacaf&#39;, &#39;lastacaft&#39;)]</div>"
      ]
     },
     "metadata": {
      "application/vnd.databricks.v1+output": {
       "addedWidgets": {},
       "arguments": {},
       "data": "<div class=\"ansiout\">Corrected tokens:\n\nOut[9]: [(&#39;Amrosia&#39;, &#39;Ambrosia&#39;),\n (&#39;artemisiifoli&#39;, &#39;artemisiifolia&#39;),\n (&#39;Oactra&#39;, &#39;Odactra&#39;),\n (&#39;Grastk&#39;, &#39;Grastek&#39;),\n (&#39;lastacaf&#39;, &#39;lastacaft&#39;)]</div>",
       "datasetInfos": [],
       "metadata": {},
       "removedWidgets": [],
       "type": "html"
      }
     },
     "output_type": "display_data"
    }
   ],
   "source": [
    "print(\"Corrected tokens:\\n\")\n",
    "\n",
    "pair_list = [list(zip(pairs['token'],pairs['corrected_token'])) for pairs in lp.annotate(example)]\n",
    "corrected_list = [i for pair in pair_list for i in pair if i[0] != i[1]]\n",
    "corrected_list"
   ]
  },
  {
   "cell_type": "markdown",
   "metadata": {
    "application/vnd.databricks.v1+cell": {
     "cellMetadata": {
      "byteLimit": 2048000,
      "rowLimit": 10000
     },
     "inputWidgets": {},
     "nuid": "97ac90f2-d3fb-4c3d-a2e5-c5226fc0535a",
     "showTitle": false,
     "title": ""
    },
    "id": "jTs-UhZzI_35"
   },
   "source": [
    "End of Notebook #"
   ]
  }
 ],
 "metadata": {
  "application/vnd.databricks.v1+notebook": {
   "dashboards": [],
   "language": "python",
   "notebookMetadata": {
    "pythonIndentUnit": 2
   },
   "notebookName": "12.0.Clinical_Context_Spell_Checker",
   "widgets": {}
  },
  "colab": {
   "provenance": []
  },
  "kernelspec": {
   "display_name": "Python 3",
   "language": "python",
   "name": "python3"
  },
  "language_info": {
   "codemirror_mode": {
    "name": "ipython",
    "version": 3
   },
   "file_extension": ".py",
   "mimetype": "text/x-python",
   "name": "python",
   "nbconvert_exporter": "python",
   "pygments_lexer": "ipython3",
   "version": "3.8.3"
  }
 },
 "nbformat": 4,
 "nbformat_minor": 0
}

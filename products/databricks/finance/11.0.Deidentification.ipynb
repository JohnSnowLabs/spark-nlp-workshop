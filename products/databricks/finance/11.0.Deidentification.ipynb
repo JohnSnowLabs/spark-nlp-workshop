{
  "cells": [
    {
      "cell_type": "markdown",
      "id": "b7f2c545-14d6-41da-a4cc-0dc8a6ea3180",
      "metadata": {
        "id": "b7f2c545-14d6-41da-a4cc-0dc8a6ea3180"
      },
      "source": [
        "![JohnSnowLabs](https://nlp.johnsnowlabs.com/assets/images/logo.png)"
      ]
    },
    {
      "cell_type": "markdown",
      "id": "21e9eafb",
      "metadata": {
        "id": "21e9eafb"
      },
      "source": [
        "[![Open In Colab](https://colab.research.google.com/assets/colab-badge.svg)](https://colab.research.google.com/github/JohnSnowLabs/spark-nlp-workshop/blob/master/finance-nlp/11.0.Deidentification.ipynb)"
      ]
    },
    {
      "cell_type": "markdown",
      "id": "fb2ac5e3-fe7c-4431-bb24-3c48649be54b",
      "metadata": {
        "id": "fb2ac5e3-fe7c-4431-bb24-3c48649be54b"
      },
      "source": [
        "# Financial Deidentification"
      ]
    },
    {
      "cell_type": "code",
      "execution_count": null,
      "id": "fY0lcShkj51w",
      "metadata": {
        "id": "fY0lcShkj51w",
        "pycharm": {
          "is_executing": true
        }
      },
      "outputs": [],
      "source": [
        "from johnsnowlabs import *\n",
        "\n",
        "# nlp.install(force_browser=True)"
      ]
    },
    {
      "cell_type": "markdown",
      "id": "3c5c1990-1e00-4141-8825-5e9e75d402ad",
      "metadata": {
        "id": "3c5c1990-1e00-4141-8825-5e9e75d402ad"
      },
      "source": [
        "# Deidentification Model"
      ]
    },
    {
      "cell_type": "markdown",
      "id": "124c01da-b9a9-4327-a46b-f09d1d89d893",
      "metadata": {
        "id": "124c01da-b9a9-4327-a46b-f09d1d89d893"
      },
      "source": [
        "Some legal information can be considered sensitive. (e.g.,document, organization, address, signer)"
      ]
    },
    {
      "cell_type": "code",
      "execution_count": null,
      "id": "fc92df9a-8ede-4db3-80b9-be1e713f45d6",
      "metadata": {
        "colab": {
          "base_uri": "https://localhost:8080/"
        },
        "id": "fc92df9a-8ede-4db3-80b9-be1e713f45d6",
        "outputId": "4387c71e-15e0-40b7-f7ab-15ab88572778"
      },
      "outputs": [
        {
          "output_type": "stream",
          "name": "stdout",
          "text": [
            "bert_embeddings_sec_bert_base download started this may take some time.\n",
            "Approximate size to download 390.4 MB\n",
            "[OK!]\n",
            "finner_sec_10k_summary download started this may take some time.\n",
            "[OK!]\n"
          ]
        }
      ],
      "source": [
        "documentAssembler = nlp.DocumentAssembler()\\\n",
        "    .setInputCol(\"text\")\\\n",
        "    .setOutputCol(\"document\")\n",
        "\n",
        "textSplitter = nlp.SentenceDetector()\\\n",
        "    .setInputCols([\"document\"])\\\n",
        "    .setOutputCol(\"sentence\")\n",
        "\n",
        "tokenizer = nlp.Tokenizer()\\\n",
        "    .setInputCols([\"sentence\"])\\\n",
        "    .setOutputCol(\"token\")\n",
        "\n",
        "embeddings = nlp.BertEmbeddings.pretrained(\"bert_embeddings_sec_bert_base\",\"en\")\\\n",
        "    .setInputCols([\"sentence\", \"token\"])\\\n",
        "    .setOutputCol(\"embeddings\")\n",
        "\n",
        "ner_model = finance.NerModel.pretrained('finner_sec_10k_summary', 'en', 'finance/models')\\\n",
        "    .setInputCols([\"sentence\", \"token\", \"embeddings\"])\\\n",
        "    .setOutputCol(\"ner\")\n",
        "\n",
        "ner_converter = finance.NerConverterInternal() \\\n",
        "    .setInputCols([\"sentence\", \"token\", \"ner\"])\\\n",
        "    .setOutputCol(\"ner_chunk\")\n",
        "\n",
        "nlpPipeline = nlp.Pipeline(stages=[\n",
        "      documentAssembler, \n",
        "      textSplitter,\n",
        "      tokenizer,\n",
        "      embeddings,\n",
        "      ner_model,\n",
        "      ner_converter])\n",
        "\n",
        "empty_data = spark.createDataFrame([[\"\"]]).toDF(\"text\")\n",
        "\n",
        "model = nlpPipeline.fit(empty_data)"
      ]
    },
    {
      "cell_type": "markdown",
      "id": "3ddb9087-f3d2-4b14-89ad-507e3910e889",
      "metadata": {
        "id": "3ddb9087-f3d2-4b14-89ad-507e3910e889"
      },
      "source": [
        "### Pretrained NER models extracts..."
      ]
    },
    {
      "cell_type": "code",
      "execution_count": null,
      "id": "f594290b-6ea9-47a2-9515-76faed5ab63c",
      "metadata": {
        "colab": {
          "base_uri": "https://localhost:8080/"
        },
        "id": "f594290b-6ea9-47a2-9515-76faed5ab63c",
        "outputId": "333a963d-3c38-4c63-fb00-150ea15a7635"
      },
      "outputs": [
        {
          "output_type": "execute_result",
          "data": {
            "text/plain": [
              "['O',\n",
              " 'I-ADDRESS',\n",
              " 'B-FISCAL_YEAR',\n",
              " 'I-FISCAL_YEAR',\n",
              " 'B-TICKER',\n",
              " 'I-TITLE_CLASS_VALUE',\n",
              " 'B-TITLE_CLASS',\n",
              " 'I-TITLE_CLASS',\n",
              " 'B-ADDRESS',\n",
              " 'B-ORG',\n",
              " 'B-CFN',\n",
              " 'I-ORG',\n",
              " 'B-PHONE',\n",
              " 'I-PHONE',\n",
              " 'I-STOCK_EXCHANGE',\n",
              " 'I-CFN',\n",
              " 'B-IRS',\n",
              " 'B-STATE',\n",
              " 'B-TITLE_CLASS_VALUE',\n",
              " 'B-STOCK_EXCHANGE']"
            ]
          },
          "metadata": {},
          "execution_count": 5
        }
      ],
      "source": [
        "ner_model.getClasses()"
      ]
    },
    {
      "cell_type": "code",
      "execution_count": null,
      "id": "5f5fbf4b-ad6c-4042-8fff-4b6082aeed5c",
      "metadata": {
        "id": "5f5fbf4b-ad6c-4042-8fff-4b6082aeed5c"
      },
      "outputs": [],
      "source": [
        "text= \"\"\"\n",
        "Commission file number 000-15867 \n",
        "_____________________________________\n",
        " \n",
        "CADENCE DESIGN SYSTEMS, INC. \n",
        "(Exact name of registrant as specified in its charter)\n",
        "____________________________________ \n",
        "Delaware\n",
        " \n",
        "00-0000000\n",
        "(State or Other Jurisdiction ofIncorporation or Organization)\n",
        " \n",
        "(I.R.S. EmployerIdentification No.)\n",
        "2655 Seely Avenue, Building 5,\n",
        "San Jose,\n",
        "California\n",
        " \n",
        "95134\n",
        "(Address of Principal Executive Offices)\n",
        " \n",
        "(Zip Code)\n",
        "(408)\n",
        "-943-1234 \n",
        "(Registrant’s Telephone Number, including Area Code) \n",
        "Securities registered pursuant to Section 12(b) of the Act:\n",
        "Title of Each Class\n",
        "Trading Symbol(s)\n",
        "Names of Each Exchange on which Registered\n",
        "Common Stock, $0.01 par value per share\n",
        "CDNS\n",
        "Nasdaq Global Select Market\n",
        "Securities registered pursuant to Section 12(g) of the Act:\"\"\""
      ]
    },
    {
      "cell_type": "code",
      "execution_count": null,
      "id": "7cd9d648-81ec-46fa-aa02-20506f0ba7dd",
      "metadata": {
        "id": "7cd9d648-81ec-46fa-aa02-20506f0ba7dd"
      },
      "outputs": [],
      "source": [
        "result = model.transform(spark.createDataFrame([[text]]).toDF(\"text\"))"
      ]
    },
    {
      "cell_type": "code",
      "execution_count": null,
      "id": "3fa9c519-347f-4f63-8f32-b240526ab42e",
      "metadata": {
        "id": "3fa9c519-347f-4f63-8f32-b240526ab42e"
      },
      "outputs": [],
      "source": [
        "from pyspark.sql import functions as F\n",
        "\n",
        "result_df = result.select(F.explode(F.arrays_zip(result.token.result, \n",
        "                                                 result.ner.result)).alias(\"cols\")) \\\n",
        "                  .select(F.expr(\"cols['0']\").alias(\"token\"),\n",
        "                          F.expr(\"cols['1']\").alias(\"ner_label\"))"
      ]
    },
    {
      "cell_type": "code",
      "execution_count": null,
      "id": "3df21455-9650-4d3d-8b11-8380a0883121",
      "metadata": {
        "colab": {
          "base_uri": "https://localhost:8080/"
        },
        "id": "3df21455-9650-4d3d-8b11-8380a0883121",
        "outputId": "abaf9cbc-4bda-4b98-8703-7d973a39f8fb"
      },
      "outputs": [
        {
          "output_type": "stream",
          "name": "stdout",
          "text": [
            "+-------------------+-----+\n",
            "|ner_label          |count|\n",
            "+-------------------+-----+\n",
            "|O                  |101  |\n",
            "|I-ADDRESS          |10   |\n",
            "|I-PHONE            |4    |\n",
            "|I-ORG              |4    |\n",
            "|I-STOCK_EXCHANGE   |3    |\n",
            "|B-CFN              |1    |\n",
            "|B-STATE            |1    |\n",
            "|B-ORG              |1    |\n",
            "|B-IRS              |1    |\n",
            "|B-TICKER           |1    |\n",
            "|B-ADDRESS          |1    |\n",
            "|B-TITLE_CLASS_VALUE|1    |\n",
            "|I-TITLE_CLASS      |1    |\n",
            "|B-PHONE            |1    |\n",
            "|B-STOCK_EXCHANGE   |1    |\n",
            "|B-TITLE_CLASS      |1    |\n",
            "+-------------------+-----+\n",
            "\n"
          ]
        }
      ],
      "source": [
        "result_df.select(\"token\", \"ner_label\").groupBy('ner_label').count().orderBy('count', ascending=False).show(truncate=False)"
      ]
    },
    {
      "cell_type": "markdown",
      "id": "ba982823-16d8-477d-9a47-d41d9087523d",
      "metadata": {
        "id": "ba982823-16d8-477d-9a47-d41d9087523d"
      },
      "source": [
        "### Check extracted sensitive entities"
      ]
    },
    {
      "cell_type": "code",
      "execution_count": null,
      "id": "8e766d87-e1f2-49e3-afe2-f7d0d7703e6f",
      "metadata": {
        "colab": {
          "base_uri": "https://localhost:8080/"
        },
        "id": "8e766d87-e1f2-49e3-afe2-f7d0d7703e6f",
        "outputId": "392d988d-28c4-4da7-8b8f-fc7bfb4a942a"
      },
      "outputs": [
        {
          "output_type": "stream",
          "name": "stdout",
          "text": [
            "+---------------------------------------------------+-----------------+\n",
            "|chunk                                              |ner_label        |\n",
            "+---------------------------------------------------+-----------------+\n",
            "|000-15867                                          |CFN              |\n",
            "|CADENCE DESIGN SYSTEMS, INC                        |ORG              |\n",
            "|Delaware                                           |STATE            |\n",
            "|00-0000000                                         |IRS              |\n",
            "|2655 Seely Avenue, Building 5,\n",
            "San Jose,\n",
            "California|ADDRESS          |\n",
            "|(408)\n",
            "-943-1234                                    |PHONE            |\n",
            "|Common Stock                                       |TITLE_CLASS      |\n",
            "|$0.01                                              |TITLE_CLASS_VALUE|\n",
            "|CDNS                                               |TICKER           |\n",
            "|Nasdaq Global Select Market                        |STOCK_EXCHANGE   |\n",
            "+---------------------------------------------------+-----------------+\n",
            "\n"
          ]
        }
      ],
      "source": [
        "result.select(F.explode(F.arrays_zip(result.ner_chunk.result, \n",
        "                                     result.ner_chunk.metadata)).alias(\"cols\")) \\\n",
        "      .select(F.expr(\"cols['0']\").alias(\"chunk\"),\n",
        "              F.expr(\"cols['1']['entity']\").alias(\"ner_label\")).show(truncate=False)"
      ]
    },
    {
      "cell_type": "markdown",
      "id": "7cccf04f-6630-4f8c-96af-f5b7e35c119d",
      "metadata": {
        "id": "7cccf04f-6630-4f8c-96af-f5b7e35c119d"
      },
      "source": [
        "## Masking and Obfuscation"
      ]
    },
    {
      "cell_type": "markdown",
      "id": "a4648bf0-9c6e-49b3-9080-7bb3551e1675",
      "metadata": {
        "id": "a4648bf0-9c6e-49b3-9080-7bb3551e1675"
      },
      "source": [
        "### Replace these enitites with Tags"
      ]
    },
    {
      "cell_type": "code",
      "execution_count": null,
      "id": "fa7ac54e-46d5-4a9b-a74b-3859a283ac65",
      "metadata": {
        "id": "fa7ac54e-46d5-4a9b-a74b-3859a283ac65"
      },
      "outputs": [],
      "source": [
        "deidentification = finance.DeIdentification() \\\n",
        "      .setInputCols([\"sentence\", \"token\", \"ner_chunk\"]) \\\n",
        "      .setOutputCol(\"deidentified\") \\\n",
        "      .setMode(\"mask\")\\\n",
        "      .setReturnEntityMappings(True) #  return a new column to save the mappings between the mask/obfuscated entities and original entities. REquired for \"ReIdentification\"\n",
        "      #.setMappingsColumn(\"MappingCol\") # change the name of the column, 'aux' is default\n",
        "\n",
        "deidPipeline = nlp.Pipeline(stages=[\n",
        "      documentAssembler, \n",
        "      textSplitter,\n",
        "      tokenizer,\n",
        "      embeddings,\n",
        "      ner_model,\n",
        "      ner_converter,\n",
        "      deidentification])\n",
        "\n",
        "empty_data = spark.createDataFrame([[\"\"]]).toDF(\"text\")\n",
        "\n",
        "model_deid = deidPipeline.fit(empty_data)"
      ]
    },
    {
      "cell_type": "code",
      "execution_count": null,
      "id": "bf417b51-c6d0-44b3-ac80-43da90300247",
      "metadata": {
        "id": "bf417b51-c6d0-44b3-ac80-43da90300247"
      },
      "outputs": [],
      "source": [
        "result = model_deid.transform(spark.createDataFrame([[text]]).toDF(\"text\"))"
      ]
    },
    {
      "cell_type": "code",
      "execution_count": null,
      "id": "3bf8f80c-4277-4302-8993-a0f88311b66f",
      "metadata": {
        "colab": {
          "base_uri": "https://localhost:8080/"
        },
        "id": "3bf8f80c-4277-4302-8993-a0f88311b66f",
        "outputId": "e10aaba7-3b1b-40a1-d36c-1a9cd2979347"
      },
      "outputs": [
        {
          "output_type": "stream",
          "name": "stdout",
          "text": [
            "+--------------------+--------------------+--------------------+--------------------+--------------------+--------------------+--------------------+--------------------+--------------------+\n",
            "|                text|            document|            sentence|               token|          embeddings|                 ner|           ner_chunk|        deidentified|                 aux|\n",
            "+--------------------+--------------------+--------------------+--------------------+--------------------+--------------------+--------------------+--------------------+--------------------+\n",
            "|\n",
            "Commission file ...|[{document, 0, 77...|[{document, 1, 10...|[{token, 1, 10, C...|[{word_embeddings...|[{named_entity, 1...|[{chunk, 24, 32, ...|[{document, 0, 75...|[{chunk, 23, 27, ...|\n",
            "+--------------------+--------------------+--------------------+--------------------+--------------------+--------------------+--------------------+--------------------+--------------------+\n",
            "\n"
          ]
        }
      ],
      "source": [
        "result.show()"
      ]
    },
    {
      "cell_type": "code",
      "source": [
        "reIdentification = finance.ReIdentification()\\\n",
        "    .setInputCols([\"aux\",\"deidentified\"])\\\n",
        "    .setOutputCol(\"original\")"
      ],
      "metadata": {
        "id": "n1J-VZN6cH41"
      },
      "id": "n1J-VZN6cH41",
      "execution_count": null,
      "outputs": []
    },
    {
      "cell_type": "code",
      "source": [
        "reid_result = reIdentification.transform(result)"
      ],
      "metadata": {
        "id": "ofzMwi08cOoG"
      },
      "id": "ofzMwi08cOoG",
      "execution_count": null,
      "outputs": []
    },
    {
      "cell_type": "code",
      "source": [
        "reid_result.show()"
      ],
      "metadata": {
        "colab": {
          "base_uri": "https://localhost:8080/"
        },
        "id": "AtvYEclecQw3",
        "outputId": "ba7ede9e-190c-4f47-f896-19c7ae408755"
      },
      "id": "AtvYEclecQw3",
      "execution_count": null,
      "outputs": [
        {
          "output_type": "stream",
          "name": "stdout",
          "text": [
            "+--------------------+--------------------+--------------------+--------------------+--------------------+--------------------+--------------------+--------------------+--------------------+--------------------+\n",
            "|                text|            document|            sentence|               token|          embeddings|                 ner|           ner_chunk|        deidentified|                 aux|            original|\n",
            "+--------------------+--------------------+--------------------+--------------------+--------------------+--------------------+--------------------+--------------------+--------------------+--------------------+\n",
            "|\n",
            "Commission file ...|[{document, 0, 77...|[{document, 1, 10...|[{token, 1, 10, C...|[{word_embeddings...|[{named_entity, 1...|[{chunk, 24, 32, ...|[{document, 0, 75...|[{chunk, 23, 27, ...|[{document, 1, 10...|\n",
            "+--------------------+--------------------+--------------------+--------------------+--------------------+--------------------+--------------------+--------------------+--------------------+--------------------+\n",
            "\n"
          ]
        }
      ]
    },
    {
      "cell_type": "markdown",
      "source": [
        "# ReIdentification"
      ],
      "metadata": {
        "id": "JxgYEb-fg4SE"
      },
      "id": "JxgYEb-fg4SE"
    },
    {
      "cell_type": "code",
      "source": [
        "print(text)\n",
        "\n",
        "reid_result.select('original.result').show(truncate=False)"
      ],
      "metadata": {
        "colab": {
          "base_uri": "https://localhost:8080/"
        },
        "id": "CzV7G_HbcRF_",
        "outputId": "f14f5ac0-d0f9-43a3-ce75-9a2ff66a8675"
      },
      "id": "CzV7G_HbcRF_",
      "execution_count": null,
      "outputs": [
        {
          "output_type": "stream",
          "name": "stdout",
          "text": [
            "\n",
            "Commission file number 000-15867 \n",
            "_____________________________________\n",
            " \n",
            "CADENCE DESIGN SYSTEMS, INC. \n",
            "(Exact name of registrant as specified in its charter)\n",
            "____________________________________ \n",
            "Delaware\n",
            " \n",
            "00-0000000\n",
            "(State or Other Jurisdiction ofIncorporation or Organization)\n",
            " \n",
            "(I.R.S. EmployerIdentification No.)\n",
            "2655 Seely Avenue, Building 5,\n",
            "San Jose,\n",
            "California\n",
            " \n",
            "95134\n",
            "(Address of Principal Executive Offices)\n",
            " \n",
            "(Zip Code)\n",
            "(408)\n",
            "-943-1234 \n",
            "(Registrant’s Telephone Number, including Area Code) \n",
            "Securities registered pursuant to Section 12(b) of the Act:\n",
            "Title of Each Class\n",
            "Trading Symbol(s)\n",
            "Names of Each Exchange on which Registered\n",
            "Common Stock, $0.01 par value per share\n",
            "CDNS\n",
            "Nasdaq Global Select Market\n",
            "Securities registered pursuant to Section 12(g) of the Act:\n",
            "+-------------------------------------------------------------------------------------------------------------------------------------------------------------------------------------------------------------------------------------------------------------------------------------------------------------------------------------------------------------------------------------------------------------------------------------------------------------------------------------------------------------------------------------------------------------------------------------------------------------------------------------------------------------------------------------------------------------------------------------------------------------------------------------------------------------------+\n",
            "|result                                                                                                                                                                                                                                                                                                                                                                                                                                                                                                                                                                                                                                                                                                                                                                                                             |\n",
            "+-------------------------------------------------------------------------------------------------------------------------------------------------------------------------------------------------------------------------------------------------------------------------------------------------------------------------------------------------------------------------------------------------------------------------------------------------------------------------------------------------------------------------------------------------------------------------------------------------------------------------------------------------------------------------------------------------------------------------------------------------------------------------------------------------------------------+\n",
            "|[Commission file number 000-15867 \n",
            "_____________________________________\n",
            " \n",
            "CADENCE DESIGN SYSTEMS, INC., (Exact name of registrant as specified in its charter)\n",
            "____________________________________ \n",
            "Delaware\n",
            " \n",
            "00-0000000\n",
            "(State or Other Jurisdiction ofIncorporation or Organization)\n",
            " \n",
            "(I.R.S., EmployerIdentification No., )\n",
            "2655 Seely Avenue, Building 5,\n",
            "San Jose,\n",
            "California\n",
            " \n",
            "95134\n",
            "(Address of Principal Executive Offices)\n",
            " \n",
            "(Zip Code)<(408)\n",
            "-943-1234\n",
            "(Registrant’s Telephone Number, including Area Code) \n",
            "Securities registered pursuant to Section 12, (b) of the Act:\n",
            "Title of Each Class\n",
            "Trading Symbol, (s)\n",
            "Names of Each Exchange on which Registered\n",
            "Common Stock, $0.01 par value per share\n",
            "CDNS\n",
            "Nasdaq Global Select Market\n",
            "Securities registered pursuant to Section 12, (g) of the Act:]|\n",
            "+-------------------------------------------------------------------------------------------------------------------------------------------------------------------------------------------------------------------------------------------------------------------------------------------------------------------------------------------------------------------------------------------------------------------------------------------------------------------------------------------------------------------------------------------------------------------------------------------------------------------------------------------------------------------------------------------------------------------------------------------------------------------------------------------------------------------+\n",
            "\n"
          ]
        }
      ]
    },
    {
      "cell_type": "code",
      "execution_count": null,
      "id": "a8892001-1392-4bc2-ab92-81d565c9d996",
      "metadata": {
        "colab": {
          "base_uri": "https://localhost:8080/",
          "height": 269
        },
        "id": "a8892001-1392-4bc2-ab92-81d565c9d996",
        "outputId": "60143c55-ab7e-4cd5-ee26-26f4ed99e7b0"
      },
      "outputs": [
        {
          "output_type": "execute_result",
          "data": {
            "text/plain": [
              "                                            sentence  \\\n",
              "0  Commission file number 000-15867 \\n___________...   \n",
              "1  (Exact name of registrant as specified in its ...   \n",
              "2                         EmployerIdentification No.   \n",
              "3  )\\n2655 Seely Avenue, Building 5,\\nSan Jose,\\n...   \n",
              "4  (b) of the Act:\\nTitle of Each Class\\nTrading ...   \n",
              "5  (s)\\nNames of Each Exchange on which Registere...   \n",
              "6                                    (g) of the Act:   \n",
              "\n",
              "                                        deidentified  \n",
              "0  Commission file number <CFN> \\n_______________...  \n",
              "1  (Exact name of registrant as specified in its ...  \n",
              "2                         EmployerIdentification No.  \n",
              "3  )\\n<ADDRESS>\\n \\n95134\\n(Address of Principal ...  \n",
              "4  (b) of the Act:\\nTitle of Each Class\\nTrading ...  \n",
              "5  (s)\\nNames of Each Exchange on which Registere...  \n",
              "6                                    (g) of the Act:  "
            ],
            "text/html": [
              "\n",
              "  <div id=\"df-e92f369d-8929-42cf-8ea8-ba4d2a1c8e29\">\n",
              "    <div class=\"colab-df-container\">\n",
              "      <div>\n",
              "<style scoped>\n",
              "    .dataframe tbody tr th:only-of-type {\n",
              "        vertical-align: middle;\n",
              "    }\n",
              "\n",
              "    .dataframe tbody tr th {\n",
              "        vertical-align: top;\n",
              "    }\n",
              "\n",
              "    .dataframe thead th {\n",
              "        text-align: right;\n",
              "    }\n",
              "</style>\n",
              "<table border=\"1\" class=\"dataframe\">\n",
              "  <thead>\n",
              "    <tr style=\"text-align: right;\">\n",
              "      <th></th>\n",
              "      <th>sentence</th>\n",
              "      <th>deidentified</th>\n",
              "    </tr>\n",
              "  </thead>\n",
              "  <tbody>\n",
              "    <tr>\n",
              "      <th>0</th>\n",
              "      <td>Commission file number 000-15867 \\n___________...</td>\n",
              "      <td>Commission file number &lt;CFN&gt; \\n_______________...</td>\n",
              "    </tr>\n",
              "    <tr>\n",
              "      <th>1</th>\n",
              "      <td>(Exact name of registrant as specified in its ...</td>\n",
              "      <td>(Exact name of registrant as specified in its ...</td>\n",
              "    </tr>\n",
              "    <tr>\n",
              "      <th>2</th>\n",
              "      <td>EmployerIdentification No.</td>\n",
              "      <td>EmployerIdentification No.</td>\n",
              "    </tr>\n",
              "    <tr>\n",
              "      <th>3</th>\n",
              "      <td>)\\n2655 Seely Avenue, Building 5,\\nSan Jose,\\n...</td>\n",
              "      <td>)\\n&lt;ADDRESS&gt;\\n \\n95134\\n(Address of Principal ...</td>\n",
              "    </tr>\n",
              "    <tr>\n",
              "      <th>4</th>\n",
              "      <td>(b) of the Act:\\nTitle of Each Class\\nTrading ...</td>\n",
              "      <td>(b) of the Act:\\nTitle of Each Class\\nTrading ...</td>\n",
              "    </tr>\n",
              "    <tr>\n",
              "      <th>5</th>\n",
              "      <td>(s)\\nNames of Each Exchange on which Registere...</td>\n",
              "      <td>(s)\\nNames of Each Exchange on which Registere...</td>\n",
              "    </tr>\n",
              "    <tr>\n",
              "      <th>6</th>\n",
              "      <td>(g) of the Act:</td>\n",
              "      <td>(g) of the Act:</td>\n",
              "    </tr>\n",
              "  </tbody>\n",
              "</table>\n",
              "</div>\n",
              "      <button class=\"colab-df-convert\" onclick=\"convertToInteractive('df-e92f369d-8929-42cf-8ea8-ba4d2a1c8e29')\"\n",
              "              title=\"Convert this dataframe to an interactive table.\"\n",
              "              style=\"display:none;\">\n",
              "        \n",
              "  <svg xmlns=\"http://www.w3.org/2000/svg\" height=\"24px\"viewBox=\"0 0 24 24\"\n",
              "       width=\"24px\">\n",
              "    <path d=\"M0 0h24v24H0V0z\" fill=\"none\"/>\n",
              "    <path d=\"M18.56 5.44l.94 2.06.94-2.06 2.06-.94-2.06-.94-.94-2.06-.94 2.06-2.06.94zm-11 1L8.5 8.5l.94-2.06 2.06-.94-2.06-.94L8.5 2.5l-.94 2.06-2.06.94zm10 10l.94 2.06.94-2.06 2.06-.94-2.06-.94-.94-2.06-.94 2.06-2.06.94z\"/><path d=\"M17.41 7.96l-1.37-1.37c-.4-.4-.92-.59-1.43-.59-.52 0-1.04.2-1.43.59L10.3 9.45l-7.72 7.72c-.78.78-.78 2.05 0 2.83L4 21.41c.39.39.9.59 1.41.59.51 0 1.02-.2 1.41-.59l7.78-7.78 2.81-2.81c.8-.78.8-2.07 0-2.86zM5.41 20L4 18.59l7.72-7.72 1.47 1.35L5.41 20z\"/>\n",
              "  </svg>\n",
              "      </button>\n",
              "      \n",
              "  <style>\n",
              "    .colab-df-container {\n",
              "      display:flex;\n",
              "      flex-wrap:wrap;\n",
              "      gap: 12px;\n",
              "    }\n",
              "\n",
              "    .colab-df-convert {\n",
              "      background-color: #E8F0FE;\n",
              "      border: none;\n",
              "      border-radius: 50%;\n",
              "      cursor: pointer;\n",
              "      display: none;\n",
              "      fill: #1967D2;\n",
              "      height: 32px;\n",
              "      padding: 0 0 0 0;\n",
              "      width: 32px;\n",
              "    }\n",
              "\n",
              "    .colab-df-convert:hover {\n",
              "      background-color: #E2EBFA;\n",
              "      box-shadow: 0px 1px 2px rgba(60, 64, 67, 0.3), 0px 1px 3px 1px rgba(60, 64, 67, 0.15);\n",
              "      fill: #174EA6;\n",
              "    }\n",
              "\n",
              "    [theme=dark] .colab-df-convert {\n",
              "      background-color: #3B4455;\n",
              "      fill: #D2E3FC;\n",
              "    }\n",
              "\n",
              "    [theme=dark] .colab-df-convert:hover {\n",
              "      background-color: #434B5C;\n",
              "      box-shadow: 0px 1px 3px 1px rgba(0, 0, 0, 0.15);\n",
              "      filter: drop-shadow(0px 1px 2px rgba(0, 0, 0, 0.3));\n",
              "      fill: #FFFFFF;\n",
              "    }\n",
              "  </style>\n",
              "\n",
              "      <script>\n",
              "        const buttonEl =\n",
              "          document.querySelector('#df-e92f369d-8929-42cf-8ea8-ba4d2a1c8e29 button.colab-df-convert');\n",
              "        buttonEl.style.display =\n",
              "          google.colab.kernel.accessAllowed ? 'block' : 'none';\n",
              "\n",
              "        async function convertToInteractive(key) {\n",
              "          const element = document.querySelector('#df-e92f369d-8929-42cf-8ea8-ba4d2a1c8e29');\n",
              "          const dataTable =\n",
              "            await google.colab.kernel.invokeFunction('convertToInteractive',\n",
              "                                                     [key], {});\n",
              "          if (!dataTable) return;\n",
              "\n",
              "          const docLinkHtml = 'Like what you see? Visit the ' +\n",
              "            '<a target=\"_blank\" href=https://colab.research.google.com/notebooks/data_table.ipynb>data table notebook</a>'\n",
              "            + ' to learn more about interactive tables.';\n",
              "          element.innerHTML = '';\n",
              "          dataTable['output_type'] = 'display_data';\n",
              "          await google.colab.output.renderOutput(dataTable, element);\n",
              "          const docLink = document.createElement('div');\n",
              "          docLink.innerHTML = docLinkHtml;\n",
              "          element.appendChild(docLink);\n",
              "        }\n",
              "      </script>\n",
              "    </div>\n",
              "  </div>\n",
              "  "
            ]
          },
          "metadata": {},
          "execution_count": 18
        }
      ],
      "source": [
        "result.select(F.explode(F.arrays_zip(result.sentence.result, \n",
        "                                     result.deidentified.result)).alias(\"cols\")) \\\n",
        "      .select(F.expr(\"cols['0']\").alias(\"sentence\"), \n",
        "              F.expr(\"cols['1']\").alias(\"deidentified\")).toPandas()"
      ]
    },
    {
      "cell_type": "markdown",
      "source": [
        "## Other different masking strategies "
      ],
      "metadata": {
        "id": "5MQrBZl3cbEb"
      },
      "id": "5MQrBZl3cbEb"
    },
    {
      "cell_type": "markdown",
      "id": "fc7f7662-6fb7-4ad6-b7a8-aa9587dafc85",
      "metadata": {
        "id": "fc7f7662-6fb7-4ad6-b7a8-aa9587dafc85"
      },
      "source": [
        "We have three modes to mask the entities in the Deidentification annotator. You can select the modes using the `.setMaskingPolicy()` parameter. The methods are the followings:\n",
        "\n",
        "**“entity_labels”**: Mask with the entity type of that chunk. (default) <br/>\n",
        "**“same_length_chars”**: Mask the deid entities with same length of asterix ( * ) with brackets ( [ , ] ) on both end. <br/>\n",
        "**“fixed_length_chars”**: Mask the deid entities with a fixed length of asterix ( * ). The length is setting up using the `setFixedMaskLength()` method. <br/>\n",
        "\n",
        "Let's try each of these and compare the results:"
      ]
    },
    {
      "cell_type": "code",
      "execution_count": null,
      "id": "2294859f-933e-4675-a573-bc67c7dc7ce5",
      "metadata": {
        "id": "2294859f-933e-4675-a573-bc67c7dc7ce5"
      },
      "outputs": [],
      "source": [
        "#deid model with \"entity_labels\"\n",
        "deid_entity_labels= finance.DeIdentification()\\\n",
        "    .setInputCols([\"sentence\", \"token\", \"ner_chunk\"])\\\n",
        "    .setOutputCol(\"deid_entity_label\")\\\n",
        "    .setMode(\"mask\")\\\n",
        "    .setReturnEntityMappings(False)\\\n",
        "    .setMaskingPolicy(\"entity_labels\")\n",
        "\n",
        "#deid model with \"same_length_chars\"\n",
        "deid_same_length= finance.DeIdentification()\\\n",
        "    .setInputCols([\"sentence\", \"token\", \"ner_chunk\"])\\\n",
        "    .setOutputCol(\"deid_same_length\")\\\n",
        "    .setMode(\"mask\")\\\n",
        "    .setReturnEntityMappings(False)\\\n",
        "    .setMaskingPolicy(\"same_length_chars\")\n",
        "\n",
        "#deid model with \"fixed_length_chars\"\n",
        "deid_fixed_length= finance.DeIdentification()\\\n",
        "    .setInputCols([\"sentence\", \"token\", \"ner_chunk\"])\\\n",
        "    .setOutputCol(\"deid_fixed_length\")\\\n",
        "    .setMode(\"mask\")\\\n",
        "    .setReturnEntityMappings(False)\\\n",
        "    .setMaskingPolicy(\"fixed_length_chars\")\\\n",
        "    .setFixedMaskLength(4)\n",
        "\n",
        "\n",
        "deidPipeline = nlp.Pipeline(stages=[\n",
        "      documentAssembler, \n",
        "      textSplitter,\n",
        "      tokenizer,\n",
        "      embeddings,\n",
        "      ner_model,\n",
        "      ner_converter,\n",
        "      deid_entity_labels,\n",
        "      deid_same_length,\n",
        "      deid_fixed_length])\n",
        "\n",
        "\n",
        "empty_data = spark.createDataFrame([[\"\"]]).toDF(\"text\")\n",
        "model_deid = deidPipeline.fit(empty_data)"
      ]
    },
    {
      "cell_type": "code",
      "execution_count": null,
      "id": "a5d82d09-b920-45e3-8856-cbb3a43697af",
      "metadata": {
        "id": "a5d82d09-b920-45e3-8856-cbb3a43697af"
      },
      "outputs": [],
      "source": [
        "result = model_deid.transform(spark.createDataFrame([[text]]).toDF(\"text\"))"
      ]
    },
    {
      "cell_type": "code",
      "execution_count": null,
      "id": "d94fccb3-8874-428e-8cf3-2ed1bf443002",
      "metadata": {
        "colab": {
          "base_uri": "https://localhost:8080/"
        },
        "id": "d94fccb3-8874-428e-8cf3-2ed1bf443002",
        "outputId": "82f486fb-9ed6-4b84-db0c-7edf57f91e19"
      },
      "outputs": [
        {
          "output_type": "stream",
          "name": "stdout",
          "text": [
            "+--------------------+--------------------+--------------------+--------------------+--------------------+--------------------+--------------------+--------------------+--------------------+--------------------+\n",
            "|                text|            document|            sentence|               token|          embeddings|                 ner|           ner_chunk|   deid_entity_label|    deid_same_length|   deid_fixed_length|\n",
            "+--------------------+--------------------+--------------------+--------------------+--------------------+--------------------+--------------------+--------------------+--------------------+--------------------+\n",
            "|\n",
            "Commission file ...|[{document, 0, 77...|[{document, 1, 10...|[{token, 1, 10, C...|[{word_embeddings...|[{named_entity, 1...|[{chunk, 24, 32, ...|[{document, 0, 75...|[{document, 0, 10...|[{document, 0, 73...|\n",
            "+--------------------+--------------------+--------------------+--------------------+--------------------+--------------------+--------------------+--------------------+--------------------+--------------------+\n",
            "\n"
          ]
        }
      ],
      "source": [
        "result.show()"
      ]
    },
    {
      "cell_type": "code",
      "execution_count": null,
      "id": "f759241e-63a1-47ef-a562-a0a0272ed0e0",
      "metadata": {
        "colab": {
          "base_uri": "https://localhost:8080/",
          "height": 269
        },
        "id": "f759241e-63a1-47ef-a562-a0a0272ed0e0",
        "outputId": "c44b362f-58a0-4f8b-8df4-4f28a6f811c6"
      },
      "outputs": [
        {
          "output_type": "execute_result",
          "data": {
            "text/plain": [
              "                                            sentence  \\\n",
              "0  Commission file number 000-15867 \\n___________...   \n",
              "1  (Exact name of registrant as specified in its ...   \n",
              "2                         EmployerIdentification No.   \n",
              "3  )\\n2655 Seely Avenue, Building 5,\\nSan Jose,\\n...   \n",
              "4  (b) of the Act:\\nTitle of Each Class\\nTrading ...   \n",
              "5  (s)\\nNames of Each Exchange on which Registere...   \n",
              "6                                    (g) of the Act:   \n",
              "\n",
              "                                   deid_entity_label  \\\n",
              "0  Commission file number <CFN> \\n_______________...   \n",
              "1  (Exact name of registrant as specified in its ...   \n",
              "2                         EmployerIdentification No.   \n",
              "3  )\\n<ADDRESS>\\n \\n95134\\n(Address of Principal ...   \n",
              "4  (b) of the Act:\\nTitle of Each Class\\nTrading ...   \n",
              "5  (s)\\nNames of Each Exchange on which Registere...   \n",
              "6                                    (g) of the Act:   \n",
              "\n",
              "                                    deid_same_length  \\\n",
              "0  Commission file number [*******] \\n___________...   \n",
              "1  (Exact name of registrant as specified in its ...   \n",
              "2                         EmployerIdentification No.   \n",
              "3  )\\n[******************************************...   \n",
              "4  (b) of the Act:\\nTitle of Each Class\\nTrading ...   \n",
              "5  (s)\\nNames of Each Exchange on which Registere...   \n",
              "6                                    (g) of the Act:   \n",
              "\n",
              "                                   deid_fixed_length  \n",
              "0  Commission file number **** \\n________________...  \n",
              "1  (Exact name of registrant as specified in its ...  \n",
              "2                         EmployerIdentification No.  \n",
              "3  )\\n****\\n \\n95134\\n(Address of Principal Execu...  \n",
              "4  (b) of the Act:\\nTitle of Each Class\\nTrading ...  \n",
              "5  (s)\\nNames of Each Exchange on which Registere...  \n",
              "6                                    (g) of the Act:  "
            ],
            "text/html": [
              "\n",
              "  <div id=\"df-f0c435f8-f24e-4033-b10b-01649450318b\">\n",
              "    <div class=\"colab-df-container\">\n",
              "      <div>\n",
              "<style scoped>\n",
              "    .dataframe tbody tr th:only-of-type {\n",
              "        vertical-align: middle;\n",
              "    }\n",
              "\n",
              "    .dataframe tbody tr th {\n",
              "        vertical-align: top;\n",
              "    }\n",
              "\n",
              "    .dataframe thead th {\n",
              "        text-align: right;\n",
              "    }\n",
              "</style>\n",
              "<table border=\"1\" class=\"dataframe\">\n",
              "  <thead>\n",
              "    <tr style=\"text-align: right;\">\n",
              "      <th></th>\n",
              "      <th>sentence</th>\n",
              "      <th>deid_entity_label</th>\n",
              "      <th>deid_same_length</th>\n",
              "      <th>deid_fixed_length</th>\n",
              "    </tr>\n",
              "  </thead>\n",
              "  <tbody>\n",
              "    <tr>\n",
              "      <th>0</th>\n",
              "      <td>Commission file number 000-15867 \\n___________...</td>\n",
              "      <td>Commission file number &lt;CFN&gt; \\n_______________...</td>\n",
              "      <td>Commission file number [*******] \\n___________...</td>\n",
              "      <td>Commission file number **** \\n________________...</td>\n",
              "    </tr>\n",
              "    <tr>\n",
              "      <th>1</th>\n",
              "      <td>(Exact name of registrant as specified in its ...</td>\n",
              "      <td>(Exact name of registrant as specified in its ...</td>\n",
              "      <td>(Exact name of registrant as specified in its ...</td>\n",
              "      <td>(Exact name of registrant as specified in its ...</td>\n",
              "    </tr>\n",
              "    <tr>\n",
              "      <th>2</th>\n",
              "      <td>EmployerIdentification No.</td>\n",
              "      <td>EmployerIdentification No.</td>\n",
              "      <td>EmployerIdentification No.</td>\n",
              "      <td>EmployerIdentification No.</td>\n",
              "    </tr>\n",
              "    <tr>\n",
              "      <th>3</th>\n",
              "      <td>)\\n2655 Seely Avenue, Building 5,\\nSan Jose,\\n...</td>\n",
              "      <td>)\\n&lt;ADDRESS&gt;\\n \\n95134\\n(Address of Principal ...</td>\n",
              "      <td>)\\n[******************************************...</td>\n",
              "      <td>)\\n****\\n \\n95134\\n(Address of Principal Execu...</td>\n",
              "    </tr>\n",
              "    <tr>\n",
              "      <th>4</th>\n",
              "      <td>(b) of the Act:\\nTitle of Each Class\\nTrading ...</td>\n",
              "      <td>(b) of the Act:\\nTitle of Each Class\\nTrading ...</td>\n",
              "      <td>(b) of the Act:\\nTitle of Each Class\\nTrading ...</td>\n",
              "      <td>(b) of the Act:\\nTitle of Each Class\\nTrading ...</td>\n",
              "    </tr>\n",
              "    <tr>\n",
              "      <th>5</th>\n",
              "      <td>(s)\\nNames of Each Exchange on which Registere...</td>\n",
              "      <td>(s)\\nNames of Each Exchange on which Registere...</td>\n",
              "      <td>(s)\\nNames of Each Exchange on which Registere...</td>\n",
              "      <td>(s)\\nNames of Each Exchange on which Registere...</td>\n",
              "    </tr>\n",
              "    <tr>\n",
              "      <th>6</th>\n",
              "      <td>(g) of the Act:</td>\n",
              "      <td>(g) of the Act:</td>\n",
              "      <td>(g) of the Act:</td>\n",
              "      <td>(g) of the Act:</td>\n",
              "    </tr>\n",
              "  </tbody>\n",
              "</table>\n",
              "</div>\n",
              "      <button class=\"colab-df-convert\" onclick=\"convertToInteractive('df-f0c435f8-f24e-4033-b10b-01649450318b')\"\n",
              "              title=\"Convert this dataframe to an interactive table.\"\n",
              "              style=\"display:none;\">\n",
              "        \n",
              "  <svg xmlns=\"http://www.w3.org/2000/svg\" height=\"24px\"viewBox=\"0 0 24 24\"\n",
              "       width=\"24px\">\n",
              "    <path d=\"M0 0h24v24H0V0z\" fill=\"none\"/>\n",
              "    <path d=\"M18.56 5.44l.94 2.06.94-2.06 2.06-.94-2.06-.94-.94-2.06-.94 2.06-2.06.94zm-11 1L8.5 8.5l.94-2.06 2.06-.94-2.06-.94L8.5 2.5l-.94 2.06-2.06.94zm10 10l.94 2.06.94-2.06 2.06-.94-2.06-.94-.94-2.06-.94 2.06-2.06.94z\"/><path d=\"M17.41 7.96l-1.37-1.37c-.4-.4-.92-.59-1.43-.59-.52 0-1.04.2-1.43.59L10.3 9.45l-7.72 7.72c-.78.78-.78 2.05 0 2.83L4 21.41c.39.39.9.59 1.41.59.51 0 1.02-.2 1.41-.59l7.78-7.78 2.81-2.81c.8-.78.8-2.07 0-2.86zM5.41 20L4 18.59l7.72-7.72 1.47 1.35L5.41 20z\"/>\n",
              "  </svg>\n",
              "      </button>\n",
              "      \n",
              "  <style>\n",
              "    .colab-df-container {\n",
              "      display:flex;\n",
              "      flex-wrap:wrap;\n",
              "      gap: 12px;\n",
              "    }\n",
              "\n",
              "    .colab-df-convert {\n",
              "      background-color: #E8F0FE;\n",
              "      border: none;\n",
              "      border-radius: 50%;\n",
              "      cursor: pointer;\n",
              "      display: none;\n",
              "      fill: #1967D2;\n",
              "      height: 32px;\n",
              "      padding: 0 0 0 0;\n",
              "      width: 32px;\n",
              "    }\n",
              "\n",
              "    .colab-df-convert:hover {\n",
              "      background-color: #E2EBFA;\n",
              "      box-shadow: 0px 1px 2px rgba(60, 64, 67, 0.3), 0px 1px 3px 1px rgba(60, 64, 67, 0.15);\n",
              "      fill: #174EA6;\n",
              "    }\n",
              "\n",
              "    [theme=dark] .colab-df-convert {\n",
              "      background-color: #3B4455;\n",
              "      fill: #D2E3FC;\n",
              "    }\n",
              "\n",
              "    [theme=dark] .colab-df-convert:hover {\n",
              "      background-color: #434B5C;\n",
              "      box-shadow: 0px 1px 3px 1px rgba(0, 0, 0, 0.15);\n",
              "      filter: drop-shadow(0px 1px 2px rgba(0, 0, 0, 0.3));\n",
              "      fill: #FFFFFF;\n",
              "    }\n",
              "  </style>\n",
              "\n",
              "      <script>\n",
              "        const buttonEl =\n",
              "          document.querySelector('#df-f0c435f8-f24e-4033-b10b-01649450318b button.colab-df-convert');\n",
              "        buttonEl.style.display =\n",
              "          google.colab.kernel.accessAllowed ? 'block' : 'none';\n",
              "\n",
              "        async function convertToInteractive(key) {\n",
              "          const element = document.querySelector('#df-f0c435f8-f24e-4033-b10b-01649450318b');\n",
              "          const dataTable =\n",
              "            await google.colab.kernel.invokeFunction('convertToInteractive',\n",
              "                                                     [key], {});\n",
              "          if (!dataTable) return;\n",
              "\n",
              "          const docLinkHtml = 'Like what you see? Visit the ' +\n",
              "            '<a target=\"_blank\" href=https://colab.research.google.com/notebooks/data_table.ipynb>data table notebook</a>'\n",
              "            + ' to learn more about interactive tables.';\n",
              "          element.innerHTML = '';\n",
              "          dataTable['output_type'] = 'display_data';\n",
              "          await google.colab.output.renderOutput(dataTable, element);\n",
              "          const docLink = document.createElement('div');\n",
              "          docLink.innerHTML = docLinkHtml;\n",
              "          element.appendChild(docLink);\n",
              "        }\n",
              "      </script>\n",
              "    </div>\n",
              "  </div>\n",
              "  "
            ]
          },
          "metadata": {},
          "execution_count": 22
        }
      ],
      "source": [
        "result.select(F.explode(F.arrays_zip(result.sentence.result, \n",
        "                                     result.deid_entity_label.result, \n",
        "                                     result.deid_same_length.result, \n",
        "                                     result.deid_fixed_length.result)).alias(\"cols\")) \\\n",
        "      .select(F.expr(\"cols['0']\").alias(\"sentence\"),\n",
        "              F.expr(\"cols['1']\").alias(\"deid_entity_label\"),\n",
        "              F.expr(\"cols['2']\").alias(\"deid_same_length\"),\n",
        "              F.expr(\"cols['3']\").alias(\"deid_fixed_length\")).toPandas()"
      ]
    },
    {
      "cell_type": "markdown",
      "id": "24ad89cd-3022-46df-b4a1-6f6d90d0445a",
      "metadata": {
        "id": "24ad89cd-3022-46df-b4a1-6f6d90d0445a"
      },
      "source": [
        "### Mapping Column"
      ]
    },
    {
      "cell_type": "code",
      "execution_count": null,
      "id": "941bfa77-2a19-4d47-ace2-0d5c6eb66514",
      "metadata": {
        "colab": {
          "base_uri": "https://localhost:8080/"
        },
        "id": "941bfa77-2a19-4d47-ace2-0d5c6eb66514",
        "outputId": "b925173b-adb7-4bbc-9a69-30be08628959"
      },
      "outputs": [
        {
          "output_type": "stream",
          "name": "stdout",
          "text": [
            "+----------------------------------------------------------------------------------------------------------------------------------------------------------------------------------------------------------------------------------------------------------------------------------------------------------------------------------------------------------------------------------------------------------------------------------------------------------------------------------------------------------------------------------------------------------------------------------------------------------------------------------------------------------------------------------------------------------------------------------------------------------------------------------------------------------------------------------------------------------------------------------------------------------------------------------------------------------------------------------------------------------------------------------------------------------------------------------------------------------------------------------------------------------------------------------------------------------------------------------------------------------------------------------------------------------------------------------------------------------------------------------------------------------------------------------+\n",
            "|ner_chunk                                                                                                                                                                                                                                                                                                                                                                                                                                                                                                                                                                                                                                                                                                                                                                                                                                                                                                                                                                                                                                                                                                                                                                                                                                                                                                                                                                                                                         |\n",
            "+----------------------------------------------------------------------------------------------------------------------------------------------------------------------------------------------------------------------------------------------------------------------------------------------------------------------------------------------------------------------------------------------------------------------------------------------------------------------------------------------------------------------------------------------------------------------------------------------------------------------------------------------------------------------------------------------------------------------------------------------------------------------------------------------------------------------------------------------------------------------------------------------------------------------------------------------------------------------------------------------------------------------------------------------------------------------------------------------------------------------------------------------------------------------------------------------------------------------------------------------------------------------------------------------------------------------------------------------------------------------------------------------------------------------------------+\n",
            "|[{chunk, 24, 32, 000-15867, {chunk -> 0, confidence -> 0.9959, ner_source -> ner_chunk, entity -> CFN, sentence -> 0}, []}, {chunk, 75, 101, CADENCE DESIGN SYSTEMS, INC, {chunk -> 1, confidence -> 0.69879997, ner_source -> ner_chunk, entity -> ORG, sentence -> 0}, []}, {chunk, 198, 205, Delaware, {chunk -> 2, confidence -> 1.0, ner_source -> ner_chunk, entity -> STATE, sentence -> 1}, []}, {chunk, 209, 218, 00-0000000, {chunk -> 3, confidence -> 0.9845, ner_source -> ner_chunk, entity -> IRS, sentence -> 1}, []}, {chunk, 320, 370, 2655 Seely Avenue, Building 5,\n",
            "San Jose,\n",
            "California, {chunk -> 4, confidence -> 0.94643635, ner_source -> ner_chunk, entity -> ADDRESS, sentence -> 3}, []}, {chunk, 434, 448, (408)\n",
            "-943-1234, {chunk -> 5, confidence -> 0.95721996, ner_source -> ner_chunk, entity -> PHONE, sentence -> 3}, []}, {chunk, 646, 657, Common Stock, {chunk -> 6, confidence -> 0.95515, ner_source -> ner_chunk, entity -> TITLE_CLASS, sentence -> 5}, []}, {chunk, 660, 664, $0.01, {chunk -> 7, confidence -> 1.0, ner_source -> ner_chunk, entity -> TITLE_CLASS_VALUE, sentence -> 5}, []}, {chunk, 686, 689, CDNS, {chunk -> 8, confidence -> 0.6884, ner_source -> ner_chunk, entity -> TICKER, sentence -> 5}, []}, {chunk, 691, 717, Nasdaq Global Select Market, {chunk -> 9, confidence -> 0.933675, ner_source -> ner_chunk, entity -> STOCK_EXCHANGE, sentence -> 5}, []}]|\n",
            "+----------------------------------------------------------------------------------------------------------------------------------------------------------------------------------------------------------------------------------------------------------------------------------------------------------------------------------------------------------------------------------------------------------------------------------------------------------------------------------------------------------------------------------------------------------------------------------------------------------------------------------------------------------------------------------------------------------------------------------------------------------------------------------------------------------------------------------------------------------------------------------------------------------------------------------------------------------------------------------------------------------------------------------------------------------------------------------------------------------------------------------------------------------------------------------------------------------------------------------------------------------------------------------------------------------------------------------------------------------------------------------------------------------------------------------+\n",
            "\n"
          ]
        }
      ],
      "source": [
        "result.select(\"ner_chunk\").show(truncate=False)"
      ]
    },
    {
      "cell_type": "code",
      "execution_count": null,
      "id": "ea4502c9-ae7b-4bf0-97ec-0ed7a6ba2f32",
      "metadata": {
        "colab": {
          "base_uri": "https://localhost:8080/"
        },
        "id": "ea4502c9-ae7b-4bf0-97ec-0ed7a6ba2f32",
        "outputId": "9adced56-43e0-406a-cac8-b62aa4f3d9d6"
      },
      "outputs": [
        {
          "output_type": "stream",
          "name": "stdout",
          "text": [
            "+-----------------+----------+--------+\n",
            "|label            |beginLabel|endLabel|\n",
            "+-----------------+----------+--------+\n",
            "|CFN              |24        |32      |\n",
            "|ORG              |75        |101     |\n",
            "|STATE            |198       |205     |\n",
            "|IRS              |209       |218     |\n",
            "|ADDRESS          |320       |370     |\n",
            "|PHONE            |434       |448     |\n",
            "|TITLE_CLASS      |646       |657     |\n",
            "|TITLE_CLASS_VALUE|660       |664     |\n",
            "|TICKER           |686       |689     |\n",
            "|STOCK_EXCHANGE   |691       |717     |\n",
            "+-----------------+----------+--------+\n",
            "\n"
          ]
        }
      ],
      "source": [
        "result.select(F.explode(F.arrays_zip(result.ner_chunk.metadata,\n",
        "                                     result.ner_chunk.begin, \n",
        "                                     result.ner_chunk.end)).alias(\"cols\")) \\\n",
        "      .select(F.expr(\"cols['0']['entity']\").alias(\"label\"),\n",
        "              F.expr(\"cols['1']\").alias(\"beginLabel\"),\n",
        "              F.expr(\"cols['2']\").alias(\"endLabel\")).show(truncate=False)"
      ]
    },
    {
      "cell_type": "markdown",
      "id": "27d5c012-0eef-48a5-9d3d-915e942f5639",
      "metadata": {
        "id": "27d5c012-0eef-48a5-9d3d-915e942f5639"
      },
      "source": [
        "## Using NER, ContextualParser and ZeroShotNER in the same Deideintification pipeline"
      ]
    },
    {
      "cell_type": "code",
      "source": [
        "# Create JSON file for PART\n",
        "alias = {\n",
        "  \"entity\": \"ALIAS\",\n",
        "  \"ruleScope\": \"document\", \n",
        "  \"completeMatchRegex\": \"true\",\n",
        "  \"regex\":'[\"“].*?[\"”]',\n",
        "  \"matchScope\": \"sub-token\",\n",
        "  \"contextLength\": 100\n",
        "}\n",
        "\n",
        "email = {\n",
        "  \"entity\": \"EMAIL\",\n",
        "  \"ruleScope\": \"document\", \n",
        "  \"completeMatchRegex\": \"true\",\n",
        "  \"regex\":'[\\w-\\.]+@([\\w-]+\\.)+[\\w-]{2,4}',\n",
        "  \"matchScope\": \"sub-token\",\n",
        "  \"contextLength\": 100\n",
        "}\n",
        "\n",
        "phone = {\n",
        "  \"entity\": \"PHONE\",\n",
        "  \"ruleScope\": \"document\", \n",
        "  \"completeMatchRegex\": \"true\",\n",
        "  \"regex\":'(\\+?\\d{1,3}[\\s-]?)?\\(?\\d{3}\\)?[\\s.-]?\\d{3}[\\s.-]?\\d+',\n",
        "  \"matchScope\": \"sub-token\",\n",
        "  \"contextLength\": 100\n",
        "}\n",
        "\n",
        "import json\n",
        "with open('alias.json', 'w') as f:\n",
        "    json.dump(alias, f)\n",
        "    \n",
        "with open('email.json', 'w') as f:\n",
        "    json.dump(email, f)\n",
        "    \n",
        "with open('phone.json', 'w') as f:\n",
        "    json.dump(phone, f)"
      ],
      "metadata": {
        "id": "Pexzov3sc0Kd"
      },
      "id": "Pexzov3sc0Kd",
      "execution_count": null,
      "outputs": []
    },
    {
      "cell_type": "code",
      "execution_count": null,
      "id": "4b11381f-af80-49e7-9d30-418a753fa08f",
      "metadata": {
        "colab": {
          "base_uri": "https://localhost:8080/"
        },
        "id": "4b11381f-af80-49e7-9d30-418a753fa08f",
        "outputId": "3e57db8a-71c5-4597-9660-f0e90077e9d8"
      },
      "outputs": [
        {
          "output_type": "stream",
          "name": "stdout",
          "text": [
            "bert_embeddings_sec_bert_base download started this may take some time.\n",
            "Approximate size to download 390.4 MB\n",
            "[OK!]\n",
            "finner_sec_10k_summary download started this may take some time.\n",
            "[OK!]\n",
            "finner_roberta_zeroshot download started this may take some time.\n",
            "[OK!]\n"
          ]
        }
      ],
      "source": [
        "documentAssembler = nlp.DocumentAssembler()\\\n",
        "    .setInputCol(\"text\")\\\n",
        "    .setOutputCol(\"document\")\n",
        "\n",
        "textSplitter = nlp.SentenceDetector()\\\n",
        "    .setInputCols([\"document\"])\\\n",
        "    .setOutputCol(\"sentence\")\n",
        "\n",
        "tokenizer = nlp.Tokenizer()\\\n",
        "    .setInputCols([\"sentence\"])\\\n",
        "    .setOutputCol(\"token\")\n",
        "\n",
        "embeddings = nlp.BertEmbeddings.pretrained(\"bert_embeddings_sec_bert_base\",\"en\")\\\n",
        "    .setInputCols([\"sentence\", \"token\"])\\\n",
        "    .setOutputCol(\"embeddings\")\n",
        "\n",
        "ner_model = finance.NerModel.pretrained('finner_sec_10k_summary', 'en', 'finance/models')\\\n",
        "    .setInputCols([\"sentence\", \"token\", \"embeddings\"])\\\n",
        "    .setOutputCol(\"ner\")\n",
        "\n",
        "ner_converter = finance.NerConverterInternal() \\\n",
        "    .setInputCols([\"sentence\", \"token\", \"ner\"])\\\n",
        "    .setOutputCol(\"ner_chunk\")\\\n",
        "    .setGreedyMode(True)\n",
        "\n",
        "zero_shot_ner = finance.ZeroShotNerModel.pretrained(\"finner_roberta_zeroshot\", \"en\", \"finance/models\")\\\n",
        "    .setInputCols([\"sentence\", \"token\"])\\\n",
        "    .setOutputCol(\"zero_shot_ner\")\\\n",
        "    .setPredictionThreshold(0.1)\\\n",
        "    .setEntityDefinitions(\n",
        "        {            \n",
        "            \"ADDRESS\":[\"Which address?\", \"Where is the location?\"],\n",
        "            \"PERSON\": [\"Which person?\", \"What is the person name?\"],\n",
        "            \"ORG\": [\"Which LLC?\", \"Which Inc?\", \"Which PLC?\", \"Which Corp?\"]\n",
        "        })\n",
        "\n",
        "\n",
        "zeroshot_ner_converter = finance.NerConverterInternal() \\\n",
        "    .setInputCols([\"sentence\", \"token\", \"zero_shot_ner\"])\\\n",
        "    .setOutputCol(\"zero_ner_chunk\")\\\n",
        "    .setGreedyMode(True)\n",
        "\n",
        "alias_parser = finance.ContextualParserApproach() \\\n",
        "    .setInputCols([\"sentence\", \"token\"]) \\\n",
        "    .setOutputCol(\"alias\")\\\n",
        "    .setJsonPath(\"alias.json\") \\\n",
        "    .setPrefixAndSuffixMatch(False)\\\n",
        "    .setOptionalContextRules(True)\\\n",
        "    .setCaseSensitive(False)\n",
        "\n",
        "email_parser = finance.ContextualParserApproach() \\\n",
        "    .setInputCols([\"sentence\", \"token\"]) \\\n",
        "    .setOutputCol(\"email\")\\\n",
        "    .setJsonPath(\"email.json\") \\\n",
        "    .setPrefixAndSuffixMatch(False)\\\n",
        "    .setOptionalContextRules(True)\\\n",
        "    .setCaseSensitive(False)\n",
        "\n",
        "phone_parser = finance.ContextualParserApproach() \\\n",
        "    .setInputCols([\"sentence\", \"token\"]) \\\n",
        "    .setOutputCol(\"phone\")\\\n",
        "    .setJsonPath(\"phone.json\") \\\n",
        "    .setPrefixAndSuffixMatch(False)\\\n",
        "    .setOptionalContextRules(True)\\\n",
        "    .setCaseSensitive(False)\n",
        "\n",
        "chunk_merger = finance.ChunkMergeApproach()\\\n",
        "    .setInputCols(\"email\", \"phone\", \"ner_chunk\", \"zero_ner_chunk\", \"alias\")\\\n",
        "    .setOutputCol('merged_ner_chunks')\n",
        "\n",
        "nlpPipeline = nlp.Pipeline(stages=[\n",
        "      documentAssembler, \n",
        "      textSplitter,\n",
        "      tokenizer,\n",
        "      embeddings,\n",
        "      ner_model,\n",
        "      ner_converter,\n",
        "      zero_shot_ner,\n",
        "      zeroshot_ner_converter,\n",
        "      alias_parser,\n",
        "      email_parser,\n",
        "      phone_parser,\n",
        "      chunk_merger])\n",
        "\n",
        "empty_data = spark.createDataFrame([[\"\"]]).toDF(\"text\")\n",
        "\n",
        "model = nlpPipeline.fit(empty_data)"
      ]
    },
    {
      "cell_type": "code",
      "execution_count": null,
      "id": "8f4ef972-ad0c-4297-896a-94b639027810",
      "metadata": {
        "id": "8f4ef972-ad0c-4297-896a-94b639027810"
      },
      "outputs": [],
      "source": [
        "text= \"\"\"\n",
        "Commission file number 000-15867 \n",
        "_____________________________________\n",
        " \n",
        "CADENCE DESIGN SYSTEMS, INC. \n",
        "(Exact name of registrant as specified in its charter)\n",
        "____________________________________ \n",
        "Delaware\n",
        " \n",
        "00-0000000\n",
        "(State or Other Jurisdiction ofIncorporation or Organization)\n",
        " \n",
        "(I.R.S. EmployerIdentification No.)\n",
        "2655 Seely Avenue, Building 5,\n",
        "San Jose,\n",
        "California\n",
        " \n",
        "95134\n",
        "(Address of Principal Executive Offices)\n",
        " \n",
        "(Zip Code)\n",
        "(408)\n",
        "-943-1234 \n",
        "(Registrant’s Telephone Number, including Area Code) \n",
        "Securities registered pursuant to Section 12(b) of the Act:\n",
        "Title of Each Class\n",
        "Trading Symbol(s)\n",
        "Names of Each Exchange on which Registered\n",
        "Common Stock, $0.01 par value per share\n",
        "CDNS\n",
        "Nasdaq Global Select Market\n",
        "Securities registered pursuant to Section 12(g) of the Act:\"\"\""
      ]
    },
    {
      "cell_type": "code",
      "execution_count": null,
      "id": "63fe74f9-768c-47c1-87e0-86d7a2a556bf",
      "metadata": {
        "colab": {
          "base_uri": "https://localhost:8080/"
        },
        "id": "63fe74f9-768c-47c1-87e0-86d7a2a556bf",
        "outputId": "e2c60522-e4db-4e1a-efd7-0fdf7f2dc00d"
      },
      "outputs": [
        {
          "output_type": "stream",
          "name": "stdout",
          "text": [
            "+---------------------------------------------------+-----------------+\n",
            "|chunk                                              |ner_label        |\n",
            "+---------------------------------------------------+-----------------+\n",
            "|000-15867                                          |CFN              |\n",
            "|CADENCE DESIGN SYSTEMS, INC                        |ORG              |\n",
            "|Delaware                                           |STATE            |\n",
            "|00-0000000                                         |IRS              |\n",
            "|2655 Seely Avenue, Building 5,\n",
            "San Jose,\n",
            "California|ADDRESS          |\n",
            "|(408)\n",
            "-943-1234                                    |PHONE            |\n",
            "|Common Stock                                       |TITLE_CLASS      |\n",
            "|$0.01                                              |TITLE_CLASS_VALUE|\n",
            "|CDNS                                               |TICKER           |\n",
            "|Nasdaq Global Select Market                        |STOCK_EXCHANGE   |\n",
            "+---------------------------------------------------+-----------------+\n",
            "\n"
          ]
        }
      ],
      "source": [
        "result = model.transform(spark.createDataFrame([[text]]).toDF(\"text\"))\n",
        "\n",
        "# financial_ner (10k summary)\n",
        "result.select(F.explode(F.arrays_zip(result.ner_chunk.result, \n",
        "                                     result.ner_chunk.metadata)).alias(\"cols\")) \\\n",
        "      .select(F.expr(\"cols['0']\").alias(\"chunk\"),\n",
        "              F.expr(\"cols['1']['entity']\").alias(\"ner_label\")).show(truncate=False)"
      ]
    },
    {
      "cell_type": "code",
      "source": [
        "# zero_shot_ner\n",
        "result.select(F.explode(F.arrays_zip(result.zero_ner_chunk.result, \n",
        "                                     result.zero_ner_chunk.metadata)).alias(\"cols\")) \\\n",
        "      .select(F.expr(\"cols['0']\").alias(\"chunk\"),\n",
        "              F.expr(\"cols['1']['entity']\").alias(\"ner_label\")).show(truncate=False)"
      ],
      "metadata": {
        "colab": {
          "base_uri": "https://localhost:8080/"
        },
        "id": "oWIpQahtd5qz",
        "outputId": "c52a328d-8ec5-4c87-938d-1b32b9a05cc4"
      },
      "id": "oWIpQahtd5qz",
      "execution_count": null,
      "outputs": [
        {
          "output_type": "stream",
          "name": "stdout",
          "text": [
            "+----------------------+---------+\n",
            "|chunk                 |ner_label|\n",
            "+----------------------+---------+\n",
            "|CADENCE DESIGN SYSTEMS|ORG      |\n",
            "|INC                   |ORG      |\n",
            "+----------------------+---------+\n",
            "\n"
          ]
        }
      ]
    },
    {
      "cell_type": "markdown",
      "source": [
        "It's important the order of the models in MergerChunk. For example, in this case, we have put before the ContextualParser for PHONE numbers than the NER for 10k summaries, which means `000-15867` is detected first as a PHONE number due to the ContextualParser regular expressions without predefined context, and then `CFN` from the NER, whih comes after, is ignored."
      ],
      "metadata": {
        "id": "IIKecmqseI2d"
      },
      "id": "IIKecmqseI2d"
    },
    {
      "cell_type": "code",
      "execution_count": null,
      "id": "4a899327-42d8-48c1-ab4a-5f692b10be22",
      "metadata": {
        "colab": {
          "base_uri": "https://localhost:8080/"
        },
        "id": "4a899327-42d8-48c1-ab4a-5f692b10be22",
        "outputId": "2c0cda7b-0fa4-4979-90c6-bac90974f594"
      },
      "outputs": [
        {
          "output_type": "stream",
          "name": "stdout",
          "text": [
            "+---------------------------------------------------+-----------------+\n",
            "|chunk                                              |ner_label        |\n",
            "+---------------------------------------------------+-----------------+\n",
            "|000-15867                                          |PHONE            |\n",
            "|CADENCE DESIGN SYSTEMS, INC                        |ORG              |\n",
            "|Delaware                                           |STATE            |\n",
            "|00-0000000                                         |PHONE            |\n",
            "|2655 Seely Avenue, Building 5,\n",
            "San Jose,\n",
            "California|ADDRESS          |\n",
            "|(408)\n",
            "-943-1234                                    |PHONE            |\n",
            "|Common Stock                                       |TITLE_CLASS      |\n",
            "|$0.01                                              |TITLE_CLASS_VALUE|\n",
            "|CDNS                                               |TICKER           |\n",
            "|Nasdaq Global Select Market                        |STOCK_EXCHANGE   |\n",
            "+---------------------------------------------------+-----------------+\n",
            "\n"
          ]
        }
      ],
      "source": [
        "# merged_chunk\n",
        "result.select(F.explode(F.arrays_zip(result.merged_ner_chunks.result, \n",
        "                                     result.merged_ner_chunks.metadata)).alias(\"cols\")) \\\n",
        "      .select(F.expr(\"cols['0']\").alias(\"chunk\"),\n",
        "              F.expr(\"cols['1']['entity']\").alias(\"ner_label\")).show(n=50, truncate=False)"
      ]
    },
    {
      "cell_type": "markdown",
      "id": "0de79296-97f8-4daa-940c-1fd8d176c8c3",
      "metadata": {
        "id": "0de79296-97f8-4daa-940c-1fd8d176c8c3"
      },
      "source": [
        "## Obfuscation mode"
      ]
    },
    {
      "cell_type": "markdown",
      "id": "52e7c83b-780b-4d3e-be7f-604cd310babd",
      "metadata": {
        "id": "52e7c83b-780b-4d3e-be7f-604cd310babd"
      },
      "source": [
        "In the obfuscation mode **DeIdentificationModel** will replace sensitive entities with random values of the same type. \n"
      ]
    },
    {
      "cell_type": "markdown",
      "source": [
        "### Using external [Faker](https://faker.readthedocs.io/en/master/) library"
      ],
      "metadata": {
        "id": "3qJhJlKpegAA"
      },
      "id": "3qJhJlKpegAA"
    },
    {
      "cell_type": "code",
      "source": [
        "!pip install faker"
      ],
      "metadata": {
        "colab": {
          "base_uri": "https://localhost:8080/"
        },
        "id": "DWtHGsUIeh2J",
        "outputId": "36c41244-0a69-47f1-e9bb-6d0f5d5a5af5"
      },
      "id": "DWtHGsUIeh2J",
      "execution_count": null,
      "outputs": [
        {
          "output_type": "stream",
          "name": "stdout",
          "text": [
            "Looking in indexes: https://pypi.org/simple, https://us-python.pkg.dev/colab-wheels/public/simple/\n",
            "Collecting faker\n",
            "  Downloading Faker-17.3.0-py3-none-any.whl (1.7 MB)\n",
            "\u001b[2K     \u001b[90m━━━━━━━━━━━━━━━━━━━━━━━━━━━━━━━━━━━━━━━━\u001b[0m \u001b[32m1.7/1.7 MB\u001b[0m \u001b[31m22.9 MB/s\u001b[0m eta \u001b[36m0:00:00\u001b[0m\n",
            "\u001b[?25hRequirement already satisfied: python-dateutil>=2.4 in /usr/local/lib/python3.8/dist-packages (from faker) (2.8.2)\n",
            "Requirement already satisfied: six>=1.5 in /usr/local/lib/python3.8/dist-packages (from python-dateutil>=2.4->faker) (1.15.0)\n",
            "Installing collected packages: faker\n",
            "Successfully installed faker-17.3.0\n"
          ]
        }
      ]
    },
    {
      "cell_type": "code",
      "source": [
        "from faker import Faker\n",
        "fk = Faker()"
      ],
      "metadata": {
        "id": "14JQsuxjenrJ"
      },
      "id": "14JQsuxjenrJ",
      "execution_count": null,
      "outputs": []
    },
    {
      "cell_type": "code",
      "execution_count": null,
      "id": "31b20c5a-bc56-43e1-9101-6503c23ab49b",
      "metadata": {
        "id": "31b20c5a-bc56-43e1-9101-6503c23ab49b"
      },
      "outputs": [],
      "source": [
        "# This is the obfuscation dict for the new entities\n",
        "obs_lines = \"\"\"NASDAQ#STOCK_EXCHANGE\n",
        "NYSE#STOCK_EXCHANGE\n",
        "London Stock Exchange#STOCK_EXCHANGE\n",
        "Tokyo Stock Exchange#STOCK_EXCHANGE\n",
        "ABCD#TICKER\n",
        "EFGH#TICKER\n",
        "YLJJ#TICKER\n",
        "Common Stock#TITLE_CLASS\n",
        "Preferred Stock#TITLE_CLASS\n",
        "$0.01#TITLE_CLASS_VALUE\n",
        "USD 0.025#TITLE_CLASS_VALUE\n",
        "000-00001#CFN\n",
        "000-00002#CFN\n",
        "000-00003#CFN\"\"\"\n",
        "\n",
        "for _ in range(25):\n",
        "    obs_lines += f\"\\n{fk.name().strip()}#PERSON\"\n",
        "    obs_lines += f\"\\n{fk.date().strip()}#DATE\"\n",
        "    obs_lines += f\"\\n{fk.company().strip()}#ORG\"\n",
        "    obs_lines += f\"\\n{fk.phone_number().strip()}#PHONE\"\n",
        "    obs_lines += f\"\\n{fk.email().strip()}#EMAIL\"\n",
        "    obs_lines += f\"\\n{fk.street_address().strip()}#STREET\"\n",
        "    obs_lines += f\"\\n{fk.city().strip()}#CITY\"\n",
        "    obs_lines += f\"\\n{fk.state().strip()}#STATE\"\n",
        "    obs_lines += f\"\\n{fk.country().strip()}#COUNTRY\"\n",
        "\n",
        "with open ('obfuscate.txt', 'w') as f:\n",
        "    f.write(obs_lines)"
      ]
    },
    {
      "cell_type": "code",
      "source": [
        "# Previous Masking Annotators\n",
        "#deid model with \"entity_labels\"\n",
        "deid_entity_labels= finance.DeIdentification()\\\n",
        "    .setInputCols([\"sentence\", \"token\", \"merged_ner_chunks\"])\\\n",
        "    .setOutputCol(\"deidentified\")\\\n",
        "    .setMode(\"mask\")\\\n",
        "    .setMaskingPolicy(\"entity_labels\")\n",
        "    \n",
        "#deid model with \"same_length_chars\"\n",
        "deid_same_length= finance.DeIdentification()\\\n",
        "    .setInputCols([\"sentence\", \"token\", \"merged_ner_chunks\"])\\\n",
        "    .setOutputCol(\"masked_with_chars\")\\\n",
        "    .setMode(\"mask\")\\\n",
        "    .setMaskingPolicy(\"same_length_chars\")\n",
        "\n",
        "#deid model with \"fixed_length_chars\"\n",
        "deid_fixed_length= finance.DeIdentification()\\\n",
        "    .setInputCols([\"sentence\", \"token\", \"merged_ner_chunks\"])\\\n",
        "    .setOutputCol(\"masked_fixed_length_chars\")\\\n",
        "    .setMode(\"mask\")\\\n",
        "    .setMaskingPolicy(\"fixed_length_chars\")\\\n",
        "    .setFixedMaskLength(4)\n"
      ],
      "metadata": {
        "id": "_wjSsNWPhp_p"
      },
      "id": "_wjSsNWPhp_p",
      "execution_count": null,
      "outputs": []
    },
    {
      "cell_type": "code",
      "execution_count": null,
      "id": "210db7c7-e1a3-46ac-941f-160abc068ada",
      "metadata": {
        "id": "210db7c7-e1a3-46ac-941f-160abc068ada"
      },
      "outputs": [],
      "source": [
        "# Obfuscation with Faker\n",
        "obfuscation = finance.DeIdentification()\\\n",
        "    .setInputCols([\"sentence\", \"token\", \"merged_ner_chunks\"]) \\\n",
        "    .setOutputCol(\"obfuscated\") \\\n",
        "    .setMode(\"obfuscate\")\\\n",
        "    .setObfuscateDate(True)\\\n",
        "    .setObfuscateRefFile('obfuscate.txt')\\\n",
        "    .setObfuscateRefSource(\"both\")\n",
        "\n",
        "nlpPipeline = nlp.Pipeline(stages=[\n",
        "      documentAssembler, \n",
        "      textSplitter,\n",
        "      tokenizer,\n",
        "      embeddings,\n",
        "      ner_model,\n",
        "      ner_converter,\n",
        "      zero_shot_ner,\n",
        "      zeroshot_ner_converter,\n",
        "      alias_parser,\n",
        "      email_parser,\n",
        "      phone_parser,\n",
        "      chunk_merger,\n",
        "      deid_entity_labels,\n",
        "      deid_same_length,\n",
        "      deid_fixed_length,\n",
        "      obfuscation])\n",
        "\n",
        "obfuscation_model = nlpPipeline.fit(empty_data)"
      ]
    },
    {
      "cell_type": "code",
      "execution_count": null,
      "id": "38268201-7202-462e-b195-59709e7fdc8f",
      "metadata": {
        "id": "38268201-7202-462e-b195-59709e7fdc8f"
      },
      "outputs": [],
      "source": [
        "text= \"\"\"\n",
        "Commission file number 000-15867 \n",
        "_____________________________________\n",
        " \n",
        "CADENCE DESIGN SYSTEMS, INC. \n",
        "(Exact name of registrant as specified in its charter)\n",
        "____________________________________ \n",
        "Delaware\n",
        " \n",
        "00-0000000\n",
        "(State or Other Jurisdiction ofIncorporation or Organization)\n",
        " \n",
        "(I.R.S. EmployerIdentification No.)\n",
        "2655 Seely Avenue, Building 5,\n",
        "San Jose,\n",
        "California\n",
        " \n",
        "95134\n",
        "(Address of Principal Executive Offices)\n",
        " \n",
        "(Zip Code)\n",
        "(408)\n",
        "-943-1234 \n",
        "(Registrant’s Telephone Number, including Area Code) \n",
        "Securities registered pursuant to Section 12(b) of the Act:\n",
        "Title of Each Class\n",
        "Trading Symbol(s)\n",
        "Names of Each Exchange on which Registered\n",
        "Common Stock, $0.01 par value per share\n",
        "CDNS\n",
        "Nasdaq Global Select Market\n",
        "Securities registered pursuant to Section 12(g) of the Act:\"\"\""
      ]
    },
    {
      "cell_type": "code",
      "execution_count": null,
      "id": "0264dd21-5927-46b3-82f3-575d7a0b7a16",
      "metadata": {
        "colab": {
          "base_uri": "https://localhost:8080/"
        },
        "id": "0264dd21-5927-46b3-82f3-575d7a0b7a16",
        "outputId": "72cc59bc-6bc3-4f0e-f546-b91352ab375f"
      },
      "outputs": [
        {
          "output_type": "stream",
          "name": "stdout",
          "text": [
            "Commission file number 0699 273 53 89 \n",
            "_____________________________________\n",
            " \n",
            "Carr Group.\n",
            "(Exact name of registrant as specified in its charter)\n",
            "____________________________________ \n",
            "IllinoisIndiana\n",
            " \n",
            "74 911 574\n",
            "(State or Other Jurisdiction ofIncorporation or Organization)\n",
            " \n",
            "(I.R.S.\n",
            "EmployerIdentification No.\n",
            ")\n",
            "<ADDRESS>\n",
            " \n",
            "95134\n",
            "(Address of Principal Executive Offices)\n",
            " \n",
            "(Zip Code)\n",
            "0472 51 11 42 \n",
            "(Registrant’s Telephone Number, including Area Code) \n",
            "Securities registered pursuant to Section 12\n",
            "(b) of the Act:\n",
            "Title of Each Class\n",
            "Trading Symbol\n",
            "(s)\n",
            "Names of Each Exchange on which Registered\n",
            "Common Stock, USD 0.025 par value per share\n",
            "YLJJ\n",
            "NYSE\n",
            "Securities registered pursuant to Section 12\n",
            "(g) of the Act:\n"
          ]
        }
      ],
      "source": [
        "result = obfuscation_model.transform(spark.createDataFrame([[text]]).toDF(\"text\"))\n",
        "\n",
        "print(\"\\n\".join(result.select('obfuscated.result').collect()[0].result))"
      ]
    },
    {
      "cell_type": "markdown",
      "id": "3ebd5940-8389-4acb-b505-6dab2eebbbb3",
      "metadata": {
        "id": "3ebd5940-8389-4acb-b505-6dab2eebbbb3"
      },
      "source": [
        "## Using Light Pipelines"
      ]
    },
    {
      "cell_type": "code",
      "execution_count": null,
      "id": "79bba6fc-b913-4e23-b6e1-315616756073",
      "metadata": {
        "colab": {
          "base_uri": "https://localhost:8080/"
        },
        "id": "79bba6fc-b913-4e23-b6e1-315616756073",
        "outputId": "dee9483c-810d-4074-d8ee-4dd148790566"
      },
      "outputs": [
        {
          "output_type": "stream",
          "name": "stdout",
          "text": [
            "Commission file number <PHONE> \n",
            "_____________________________________\n",
            " \n",
            "<ORG>.\n",
            "(Exact name of registrant as specified in its charter)\n",
            "____________________________________ \n",
            "<STATE>\n",
            " \n",
            "<PHONE>\n",
            "(State or Other Jurisdiction ofIncorporation or Organization)\n",
            " \n",
            "(I.R.S.\n",
            "EmployerIdentification No.\n",
            ")\n",
            "<ADDRESS>\n",
            " \n",
            "95134\n",
            "(Address of Principal Executive Offices)\n",
            " \n",
            "(Zip Code)<PHONE> \n",
            "(Registrant’s Telephone Number, including Area Code) \n",
            "Securities registered pursuant to Section 12\n",
            "(b) of the Act:\n",
            "Title of Each Class\n",
            "Trading Symbol\n",
            "(s)\n",
            "Names of Each Exchange on which Registered\n",
            "<TITLE_CLASS>, <TITLE_CLASS_VALUE> par value per share\n",
            "<TICKER>\n",
            "<STOCK_EXCHANGE>\n",
            "Securities registered pursuant to Section 12\n",
            "(g) of the Act:\n"
          ]
        }
      ],
      "source": [
        "light_model = nlp.LightPipeline(obfuscation_model)\n",
        "annotated_text = light_model.annotate(text)\n",
        "\n",
        "print(\"\\n\".join(annotated_text['deidentified']))"
      ]
    },
    {
      "cell_type": "code",
      "execution_count": null,
      "id": "9f0c3c9f-b7b6-4e68-ae5d-9c8833bf06d4",
      "metadata": {
        "colab": {
          "base_uri": "https://localhost:8080/"
        },
        "id": "9f0c3c9f-b7b6-4e68-ae5d-9c8833bf06d4",
        "outputId": "8567ada5-6dad-4854-a08f-776d5a9ec871"
      },
      "outputs": [
        {
          "output_type": "stream",
          "name": "stdout",
          "text": [
            "Commission file number 0699 273 53 89 \n",
            "_____________________________________\n",
            " \n",
            "Carr Group.\n",
            "(Exact name of registrant as specified in its charter)\n",
            "____________________________________ \n",
            "IllinoisIndiana\n",
            " \n",
            "74 911 574\n",
            "(State or Other Jurisdiction ofIncorporation or Organization)\n",
            " \n",
            "(I.R.S.\n",
            "EmployerIdentification No.\n",
            ")\n",
            "<ADDRESS>\n",
            " \n",
            "95134\n",
            "(Address of Principal Executive Offices)\n",
            " \n",
            "(Zip Code)\n",
            "0472 51 11 42 \n",
            "(Registrant’s Telephone Number, including Area Code) \n",
            "Securities registered pursuant to Section 12\n",
            "(b) of the Act:\n",
            "Title of Each Class\n",
            "Trading Symbol\n",
            "(s)\n",
            "Names of Each Exchange on which Registered\n",
            "Common Stock, USD 0.025 par value per share\n",
            "YLJJ\n",
            "NYSE\n",
            "Securities registered pursuant to Section 12\n",
            "(g) of the Act:\n"
          ]
        }
      ],
      "source": [
        "print(\"\\n\".join(annotated_text['obfuscated']))"
      ]
    },
    {
      "cell_type": "markdown",
      "id": "zm9B278ZZlyr",
      "metadata": {
        "id": "zm9B278ZZlyr"
      },
      "source": [
        "## Shifting Days\n",
        "\n",
        "We use the `medical.DocumentHashCoder()` annotator to determine shifting days. This annotator gets the hash of the specified column and creates a new document column containing day shift information. And then, the `medical.DeIdentification()` annotator deidentifies this new doc. We should set the seed parameter to hash consistently.  "
      ]
    },
    {
      "cell_type": "code",
      "execution_count": null,
      "id": "_17tC0tqZr_l",
      "metadata": {
        "colab": {
          "base_uri": "https://localhost:8080/"
        },
        "id": "_17tC0tqZr_l",
        "outputId": "eda5b4df-d5b6-4100-d2e8-dde73e80cde5"
      },
      "outputs": [
        {
          "output_type": "stream",
          "name": "stdout",
          "text": [
            "+----------+-----------------------------------------------+\n",
            "|DocumentID|text                                           |\n",
            "+----------+-----------------------------------------------+\n",
            "|A001      |Mark Johansson has bought a stock on 02/28/2020|\n",
            "|A002      |John has bought a house on 03/15/2022          |\n",
            "+----------+-----------------------------------------------+\n",
            "\n"
          ]
        }
      ],
      "source": [
        "import pandas as pd\n",
        "\n",
        "data = pd.DataFrame(\n",
        "    {'DocumentID' : ['A001', 'A002'],\n",
        "     'text' : ['Mark Johansson has bought a stock on 02/28/2020', \n",
        "               'John has bought a house on 03/15/2022',\n",
        "               ]\n",
        "    }\n",
        ")\n",
        "\n",
        "my_input_df = spark.createDataFrame(data)\n",
        "\n",
        "my_input_df.show(truncate = False)"
      ]
    },
    {
      "cell_type": "markdown",
      "id": "Rsp2fUfMwlC0",
      "metadata": {
        "id": "Rsp2fUfMwlC0"
      },
      "source": [
        "### Shifting days according to the ID column\n",
        "\n",
        "We use the `legal.DocumentHashCoder()` annotator to determine shifting days. This annotator gets the hash of the specified column and creates a new document column containing day shift information. And then, the `legal.DeIdentification()` annotator deidentifies this new doc. We should set the seed parameter to hash consistently.  "
      ]
    },
    {
      "cell_type": "code",
      "execution_count": null,
      "id": "IH83aro3wg9w",
      "metadata": {
        "colab": {
          "base_uri": "https://localhost:8080/"
        },
        "id": "IH83aro3wg9w",
        "outputId": "28454a78-57af-441b-c741-dd6a465a8f65"
      },
      "outputs": [
        {
          "output_type": "stream",
          "name": "stdout",
          "text": [
            "bert_embeddings_sec_bert_base download started this may take some time.\n",
            "Approximate size to download 390.4 MB\n",
            "[OK!]\n",
            "finner_deid_sec download started this may take some time.\n",
            "[OK!]\n"
          ]
        }
      ],
      "source": [
        "documentAssembler = nlp.DocumentAssembler()\\\n",
        "    .setInputCol(\"text\")\\\n",
        "    .setOutputCol(\"document\")\n",
        "\n",
        "documentHasher = finance.DocumentHashCoder()\\\n",
        "    .setInputCols(\"document\")\\\n",
        "    .setOutputCol(\"document2\")\\\n",
        "    .setPatientIdColumn(\"DocumentID\")\\\n",
        "    .setRangeDays(100)\\\n",
        "    .setNewDateShift(\"shift_days\")\\\n",
        "    .setSeed(100)\n",
        "\n",
        "\n",
        "# textSplitter = nlp.SentenceDetector()\\\n",
        "#     .setInputCols([\"document2\"])\\\n",
        "#     .setOutputCol(\"sentence\")\n",
        "\n",
        "tokenizer = nlp.Tokenizer()\\\n",
        "    .setInputCols([\"document2\"])\\\n",
        "    .setOutputCol(\"token\")\n",
        "\n",
        "embeddings = nlp.BertEmbeddings.pretrained(\"bert_embeddings_sec_bert_base\",\"en\")\\\n",
        "    .setInputCols([\"document2\", \"token\"])\\\n",
        "    .setOutputCol(\"embeddings\")\n",
        "\n",
        "finance_ner = finance.NerModel.pretrained('finner_deid_sec', \"en\", \"finance/models\")\\\n",
        "    .setInputCols([\"document2\", \"token\", \"embeddings\"]) \\\n",
        "    .setOutputCol(\"ner\") \n",
        "    #.setLabelCasing(\"upper\")\n",
        "\n",
        "ner_converter = finance.NerConverterInternal() \\\n",
        "    .setInputCols([\"document2\", \"token\", \"ner\"])\\\n",
        "    .setOutputCol(\"ner_chunk\")\n",
        "\n",
        "deid = finance.DeIdentification()\\\n",
        "    .setInputCols([\"document2\", \"token\", \"ner_chunk\"]) \\\n",
        "    .setOutputCol(\"deidentified\") \\\n",
        "    .setMode(\"obfuscate\") \\\n",
        "    .setObfuscateDate(True) \\\n",
        "    .setDateTag(\"DATE\") \\\n",
        "    .setLanguage(\"en\") \\\n",
        "    .setObfuscateRefSource('faker') \\\n",
        "    .setUseShifDays(True)\\\n",
        "    .setRegion('us')\n",
        "\n",
        "pipeline = nlp.Pipeline(stages=[\n",
        "      documentAssembler, \n",
        "      documentHasher,\n",
        "      tokenizer,\n",
        "      embeddings,\n",
        "      finance_ner,\n",
        "      ner_converter,\n",
        "      deid])\n",
        "\n",
        "empty_data = spark.createDataFrame([[\"\", \"\"]]).toDF(\"text\", \"DocumentID\")\n",
        "\n",
        "pipeline_model = pipeline.fit(empty_data)"
      ]
    },
    {
      "cell_type": "code",
      "execution_count": null,
      "id": "KPz7-XcBwhBT",
      "metadata": {
        "colab": {
          "base_uri": "https://localhost:8080/"
        },
        "id": "KPz7-XcBwhBT",
        "outputId": "95b89744-a92f-4161-e462-70afd3ce7a29"
      },
      "outputs": [
        {
          "output_type": "stream",
          "name": "stdout",
          "text": [
            "+----------+-----------------------------------------------+-------------------------------------------+\n",
            "|DocumentID|text                                           |result                                     |\n",
            "+----------+-----------------------------------------------+-------------------------------------------+\n",
            "|A001      |Mark Johansson has bought a stock on 02/28/2020|[<PERSON> has bought a stock on 02/23/2020]|\n",
            "|A002      |John has bought a house on 03/15/2022          |[<PERSON> has bought a house on 04/13/2022]|\n",
            "+----------+-----------------------------------------------+-------------------------------------------+\n",
            "\n"
          ]
        }
      ],
      "source": [
        "output = pipeline_model.transform(my_input_df)\n",
        "\n",
        "output.select('DocumentID','text', 'deidentified.result').show(truncate = False)"
      ]
    },
    {
      "cell_type": "markdown",
      "id": "zpJiuktQwrkt",
      "metadata": {
        "id": "zpJiuktQwrkt"
      },
      "source": [
        "### Shifting days according to specified values\n",
        "\n",
        "Instead of shifting days according to ID column, we can specify shifting values with another column.\n",
        "\n",
        "```python\n",
        "documentHasher = finance.DocumentHashCoder()\\\n",
        "    .setInputCols(\"document\")\\\n",
        "    .setOutputCol(\"document2\")\\\n",
        "    .setDateShiftColumn(\"dateshift\")\\\n",
        "```\n"
      ]
    },
    {
      "cell_type": "code",
      "execution_count": null,
      "id": "zexpaYvcwrtG",
      "metadata": {
        "colab": {
          "base_uri": "https://localhost:8080/"
        },
        "id": "zexpaYvcwrtG",
        "outputId": "c9ce61d8-aea2-4913-db9e-95360695890f"
      },
      "outputs": [
        {
          "output_type": "stream",
          "name": "stdout",
          "text": [
            "+----------+-----------------------------------------------+---------+\n",
            "|DocumentID|text                                           |dateshift|\n",
            "+----------+-----------------------------------------------+---------+\n",
            "|A001      |Mark Johansson has bought a stock on 02/28/2020|5        |\n",
            "|A002      |John has bought a house on 03/15/2022          |10       |\n",
            "+----------+-----------------------------------------------+---------+\n",
            "\n"
          ]
        }
      ],
      "source": [
        "data = pd.DataFrame(\n",
        "    {'DocumentID' : ['A001', 'A002'],\n",
        "     'text' : ['Mark Johansson has bought a stock on 02/28/2020', \n",
        "               'John has bought a house on 03/15/2022',\n",
        "               ],\n",
        "     'dateshift' : ['5', '10']\n",
        "    }\n",
        ")\n",
        "\n",
        "\n",
        "my_input_df = spark.createDataFrame(data)\n",
        "\n",
        "my_input_df.show(truncate = False)"
      ]
    },
    {
      "cell_type": "code",
      "execution_count": null,
      "id": "dgB4NqBi0Z-t",
      "metadata": {
        "colab": {
          "base_uri": "https://localhost:8080/"
        },
        "id": "dgB4NqBi0Z-t",
        "outputId": "32f8da0b-0bd7-4d85-a124-5cb82b685e6d"
      },
      "outputs": [
        {
          "output_type": "stream",
          "name": "stdout",
          "text": [
            "bert_embeddings_sec_bert_base download started this may take some time.\n",
            "Approximate size to download 390.4 MB\n",
            "[OK!]\n",
            "finner_deid_sec download started this may take some time.\n",
            "[OK!]\n"
          ]
        }
      ],
      "source": [
        "documentAssembler = nlp.DocumentAssembler()\\\n",
        "    .setInputCol(\"text\")\\\n",
        "    .setOutputCol(\"document\")\n",
        "\n",
        "documentHasher = finance.DocumentHashCoder()\\\n",
        "    .setInputCols(\"document\")\\\n",
        "    .setOutputCol(\"document2\")\\\n",
        "    .setDateShiftColumn(\"dateshift\")\\\n",
        "\n",
        "# textSplitter = nlp.SentenceDetector()\\\n",
        "#     .setInputCols([\"document2\"])\\\n",
        "#     .setOutputCol(\"sentence\")\n",
        "\n",
        "tokenizer = nlp.Tokenizer()\\\n",
        "    .setInputCols([\"document2\"])\\\n",
        "    .setOutputCol(\"token\")\n",
        "\n",
        "embeddings = nlp.BertEmbeddings.pretrained(\"bert_embeddings_sec_bert_base\",\"en\")\\\n",
        "    .setInputCols([\"document2\", \"token\"])\\\n",
        "    .setOutputCol(\"embeddings\")\n",
        "\n",
        "finance_ner = finance.NerModel.pretrained('finner_deid_sec', \"en\", \"finance/models\")\\\n",
        "    .setInputCols([\"document2\", \"token\", \"embeddings\"]) \\\n",
        "    .setOutputCol(\"ner\") \n",
        "    #.setLabelCasing(\"upper\")\n",
        "\n",
        "ner_converter = finance.NerConverterInternal() \\\n",
        "    .setInputCols([\"document2\", \"token\", \"ner\"])\\\n",
        "    .setOutputCol(\"ner_chunk\")\n",
        "\n",
        "obfuscation = finance.DeIdentification()\\\n",
        "    .setInputCols([\"document2\", \"token\", \"ner_chunk\"]) \\\n",
        "    .setOutputCol(\"deidentified\") \\\n",
        "    .setMode(\"obfuscate\") \\\n",
        "    .setObfuscateDate(True) \\\n",
        "    .setDateTag(\"DATE\") \\\n",
        "    .setLanguage(\"en\") \\\n",
        "    .setObfuscateRefSource('faker') \\\n",
        "    .setUseShifDays(True)\\\n",
        "    .setRegion('us')\n",
        "\n",
        "pipeline = nlp.Pipeline(stages=[\n",
        "      documentAssembler, \n",
        "      documentHasher,\n",
        "      tokenizer,\n",
        "      embeddings,\n",
        "      finance_ner,\n",
        "      ner_converter,\n",
        "      obfuscation])\n",
        "\n",
        "empty_data = spark.createDataFrame([[\"\", \"\", \"\"]]).toDF(\"text\", \"DocumentID\", \"dateshift\")\n",
        "\n",
        "pipeline_model = pipeline.fit(empty_data)"
      ]
    },
    {
      "cell_type": "code",
      "execution_count": null,
      "id": "tVV_Tb5a1IY3",
      "metadata": {
        "colab": {
          "base_uri": "https://localhost:8080/"
        },
        "id": "tVV_Tb5a1IY3",
        "outputId": "7e835c8c-cb9b-4d49-a364-0fe898716ed4"
      },
      "outputs": [
        {
          "output_type": "stream",
          "name": "stdout",
          "text": [
            "+-----------------------------------------------+---------+-------------------------------------------+\n",
            "|text                                           |dateshift|result                                     |\n",
            "+-----------------------------------------------+---------+-------------------------------------------+\n",
            "|Mark Johansson has bought a stock on 02/28/2020|5        |[<PERSON> has bought a stock on 03/04/2020]|\n",
            "|John has bought a house on 03/15/2022          |10       |[<PERSON> has bought a house on 03/25/2022]|\n",
            "+-----------------------------------------------+---------+-------------------------------------------+\n",
            "\n"
          ]
        }
      ],
      "source": [
        "output = pipeline_model.transform(my_input_df)\n",
        "\n",
        "output.select('text', 'dateshift', 'deidentified.result').show(truncate = False)"
      ]
    },
    {
      "cell_type": "markdown",
      "id": "_olmWxXfV5AO",
      "metadata": {
        "id": "_olmWxXfV5AO"
      },
      "source": [
        "### Masking Unnormalized Date Formats\n",
        "\n",
        "`setUnnormalizedDateMode()` parameter is used to mask the DATE entities that can not be normalized. In the example below, please check `03Apr2022` which couldn't be normalized and it is masked in the output."
      ]
    },
    {
      "cell_type": "code",
      "execution_count": null,
      "id": "ecMNdkr_V0Xq",
      "metadata": {
        "colab": {
          "base_uri": "https://localhost:8080/"
        },
        "id": "ecMNdkr_V0Xq",
        "outputId": "27bc0361-54d6-4c90-85ae-5f51287b7d81"
      },
      "outputs": [
        {
          "output_type": "stream",
          "name": "stdout",
          "text": [
            "bert_embeddings_sec_bert_base download started this may take some time.\n",
            "Approximate size to download 390.4 MB\n",
            "[OK!]\n",
            "finner_deid_sec download started this may take some time.\n",
            "[OK!]\n",
            "+-----------------------------------------------+---------+-------------------------------------------+\n",
            "|text                                           |dateshift|result                                     |\n",
            "+-----------------------------------------------+---------+-------------------------------------------+\n",
            "|Mark Johansson has bought a stock on 02/28/2020|5        |[<PERSON> has bought a stock on 03/10/2020]|\n",
            "|John has bought a house on 03Apr2022           |10       |[<PERSON> has bought a house on <DATE>]    |\n",
            "+-----------------------------------------------+---------+-------------------------------------------+\n",
            "\n"
          ]
        }
      ],
      "source": [
        "data = pd.DataFrame(\n",
        "    {'DocumentID' : ['A001', 'A002'],\n",
        "     'text' : ['Mark Johansson has bought a stock on 02/28/2020', \n",
        "               'John has bought a house on 03Apr2022'],\n",
        "     'dateshift' : ['5', '10']\n",
        "    }\n",
        ")\n",
        "\n",
        "my_input_df = spark.createDataFrame(data)\n",
        "\n",
        "\n",
        "documentAssembler = nlp.DocumentAssembler()\\\n",
        "    .setInputCol(\"text\")\\\n",
        "    .setOutputCol(\"document\")\n",
        "\n",
        "documentHasher = finance.DocumentHashCoder()\\\n",
        "    .setInputCols(\"document\")\\\n",
        "    .setOutputCol(\"document2\")\\\n",
        "    .setDateShiftColumn(\"dateshift\")\\\n",
        "\n",
        "# textSplitter = nlp.SentenceDetector()\n",
        "#     .setInputCols([\"document2\"])\\\n",
        "#     .setOutputCol(\"sentence\")\n",
        "\n",
        "tokenizer = nlp.Tokenizer()\\\n",
        "    .setInputCols([\"document2\"])\\\n",
        "    .setOutputCol(\"token\")\n",
        "\n",
        "embeddings = nlp.BertEmbeddings.pretrained(\"bert_embeddings_sec_bert_base\",\"en\")\\\n",
        "    .setInputCols([\"document2\", \"token\"])\\\n",
        "    .setOutputCol(\"embeddings\")\n",
        "\n",
        "legal_ner = finance.NerModel.pretrained('finner_deid_sec', \"en\", \"finance/models\")\\\n",
        "    .setInputCols([\"document2\", \"token\", \"embeddings\"]) \\\n",
        "    .setOutputCol(\"ner\") \n",
        "    #.setLabelCasing(\"upper\")\n",
        "\n",
        "ner_converter = finance.NerConverterInternal() \\\n",
        "    .setInputCols([\"document2\", \"token\", \"ner\"])\\\n",
        "    .setOutputCol(\"ner_chunk\")\n",
        "\n",
        "obfuscation = finance.DeIdentification()\\\n",
        "    .setInputCols([\"sentence\", \"token\", \"ner_chunk\"]) \\\n",
        "    .setOutputCol(\"deidentified\") \\\n",
        "    .setMode(\"obfuscate\") \\\n",
        "    .setObfuscateDate(True) \\\n",
        "    .setDateTag(\"DATE\") \\\n",
        "    .setLanguage(\"en\") \\\n",
        "    .setObfuscateRefSource('faker') \\\n",
        "    .setUseShifDays(True)\\\n",
        "    .setRegion('us')\\\n",
        "    .setUnnormalizedDateMode(\"mask\")\n",
        "\n",
        "pipeline = nlp.Pipeline(stages=[\n",
        "      documentAssembler, \n",
        "      documentHasher,\n",
        "      textSplitter,\n",
        "      tokenizer,\n",
        "      embeddings,\n",
        "      legal_ner,\n",
        "      ner_converter,\n",
        "      obfuscation])\n",
        "\n",
        "\n",
        "output = pipeline.fit(my_input_df).transform(my_input_df)\n",
        "\n",
        "output.select('text', 'dateshift', 'deidentified.result').show(truncate = False)"
      ]
    },
    {
      "cell_type": "markdown",
      "id": "zwM9GsKnXPOg",
      "metadata": {
        "id": "zwM9GsKnXPOg"
      },
      "source": [
        "# Structured Deidentification"
      ]
    },
    {
      "cell_type": "code",
      "source": [
        "!wget -q https://raw.githubusercontent.com/JohnSnowLabs/spark-nlp-workshop/master/legal-nlp/data/hipaa-table-001.txt\n",
        "\n",
        "dbutils.fs.cp(\"file:/databricks/driver/hipaa-table-001.txt\", \"dbfs:/\") "
      ],
      "metadata": {
        "id": "cYKxs37H2nns"
      },
      "id": "cYKxs37H2nns",
      "execution_count": null,
      "outputs": []
    },
    {
      "cell_type": "code",
      "execution_count": null,
      "id": "JLY-pfeYXQAY",
      "metadata": {
        "colab": {
          "base_uri": "https://localhost:8080/"
        },
        "id": "JLY-pfeYXQAY",
        "outputId": "5bb7e62e-91ce-48e5-ba75-1866374b7d5b"
      },
      "outputs": [
        {
          "output_type": "stream",
          "name": "stdout",
          "text": [
            "+---------------+----------+---+----------------------------------------------------+-------+--------------+---+---+\n",
            "|NAME           |DOB       |AGE|ADDRESS                                             |ZIPCODE|TEL           |SBP|DBP|\n",
            "+---------------+----------+---+----------------------------------------------------+-------+--------------+---+---+\n",
            "|Cecilia Chapman|04/02/1935|83 |711-2880 Nulla St. Mankato Mississippi              |69200  |(257) 563-7401|101|42 |\n",
            "|Iris Watson    |03/10/2009|9  |P.O. Box 283 8562 Fusce Rd. Frederick Nebraska      |20620  |(372) 587-2335|159|122|\n",
            "|Bryar Pitts    |11/01/1921|98 |5543 Aliquet St. Fort Dodge GA                      |20783  |(717) 450-4729|149|52 |\n",
            "|Theodore Lowe  |13/02/2002|16 |Ap #867-859 Sit Rd. Azusa New York                  |39531  |(793) 151-6230|134|115|\n",
            "|Calista Wise   |20/08/1942|76 |7292 Dictum Av. San Antonio MI                      |47096  |(492) 709-6392|139|78 |\n",
            "|Kyla Olsen     |12/05/1973|45 |Ap #651-8679 Sodales Av. Tamuning PA                |10855  |(654) 393-5734|120|112|\n",
            "|Forrest Ray    |11/01/1991|27 |191-103 Integer Rd. Corona New Mexico               |8219   |(404) 960-3807|143|126|\n",
            "|Hiroko Potter  |18/11/1937|81 |P.O. Box 887 2508 Dolor. Av. Muskegon KY            |12482  |(314) 244-6306|147|75 |\n",
            "|Celeste Slater |12/05/1980|38 |606-3727 Ullamcorper. Street Roseville NH           |11523  |(786) 713-8616|147|123|\n",
            "|Nyssa Vazquez  |24/09/1956|62 |511-5762 At Rd. Chelsea MI                          |67708  |(947) 278-5929|129|50 |\n",
            "|Lawrence Moreno|26/12/1906|112|935-9940 Tortor. Street Santa Rosa MN               |98804  |(684) 579-1879|133|102|\n",
            "|Ina Moran      |26/10/1983|35 |P.O. Box 929 4189 Nunc Road Lebanon KY              |69409  |(389) 737-2852|101|67 |\n",
            "|Aaron Hawkins  |26/09/2009|9  |5587 Nunc. Avenue Erie Rhode Island                 |24975  |(660) 663-4518|87 |81 |\n",
            "|Hedy Greene    |03/10/1920|98 |Ap #696-3279 Viverra. Avenue Latrobe DE             |38100  |(608) 265-2215|128|123|\n",
            "|Melvin Porter  |14/08/1911|107|P.O. Box 132 1599 Curabitur Rd. Bandera South Dakota|45149  |(959) 119-8364|83 |43 |\n",
            "|Keefe Sellers  |16/05/1937|81 |347-7666 Iaculis St. Woodruff SC                    |49854  |(468) 353-2641|148|109|\n",
            "|Joan Romero    |08/12/2004|14 |666-4366 Lacinia Avenue Idaho Falls Ohio            |19253  |(248) 675-4007|75 |53 |\n",
            "|Davis Patrick  |09/01/1956|63 |P.O. Box 147 2546 Sociosqu Rd. Bethlehem Utah       |2913   |(939) 353-1107|142|62 |\n",
            "|Leilani Boyer  |18/10/1934|84 |557-6308 Lacinia Road San Bernardino ND             |9289   |(570) 873-7090|137|48 |\n",
            "|Colby Bernard  |02/10/1905|113|Ap #285-7193 Ullamcorper Avenue Amesbury HI         |93373  |(302) 259-2375|84 |41 |\n",
            "+---------------+----------+---+----------------------------------------------------+-------+--------------+---+---+\n",
            "only showing top 20 rows\n",
            "\n"
          ]
        }
      ],
      "source": [
        "df = pd.read_csv(\"hipaa-table-001.txt\", sep = \"\\t\") \n",
        "df = spark.createDataFrame(df)\n",
        "df.show(truncate=False)"
      ]
    },
    {
      "cell_type": "code",
      "execution_count": null,
      "id": "PQ84IQTGcFAd",
      "metadata": {
        "colab": {
          "base_uri": "https://localhost:8080/"
        },
        "id": "PQ84IQTGcFAd",
        "outputId": "78d51d6b-6783-4bae-b318-24cd8aacc9b2"
      },
      "outputs": [
        {
          "output_type": "stream",
          "name": "stdout",
          "text": [
            "+-------------------+----------+----+----------------------------------------------------+-------+--------------+---+---+\n",
            "|NAME               |DOB       |AGE |ADDRESS                                             |ZIPCODE|TEL           |SBP|DBP|\n",
            "+-------------------+----------+----+----------------------------------------------------+-------+--------------+---+---+\n",
            "|[Juventino Bracken]|04/02/1935|[60]|711-2880 Nulla St. Mankato Mississippi              |69200  |(257) 563-7401|101|42 |\n",
            "|[Gregoria Holy]    |03/10/2009|[5] |P.O. Box 283 8562 Fusce Rd. Frederick Nebraska      |20620  |(372) 587-2335|159|122|\n",
            "|[Reubin Hitch]     |11/01/1921|[60]|5543 Aliquet St. Fort Dodge GA                      |20783  |(717) 450-4729|149|52 |\n",
            "|[Vesta Kansas]     |13/02/2002|[16]|Ap #867-859 Sit Rd. Azusa New York                  |39531  |(793) 151-6230|134|115|\n",
            "|[Lorra Brazil]     |20/08/1942|[60]|7292 Dictum Av. San Antonio MI                      |47096  |(492) 709-6392|139|78 |\n",
            "|[Colon Lung]       |12/05/1973|[57]|Ap #651-8679 Sodales Av. Tamuning PA                |10855  |(654) 393-5734|120|112|\n",
            "|[Creston Sias]     |11/01/1991|[26]|191-103 Integer Rd. Corona New Mexico               |8219   |(404) 960-3807|143|126|\n",
            "|[Elza Diego]       |18/11/1937|[60]|P.O. Box 887 2508 Dolor. Av. Muskegon KY            |12482  |(314) 244-6306|147|75 |\n",
            "|[Deborra Pastel]   |12/05/1980|[22]|606-3727 Ullamcorper. Street Roseville NH           |11523  |(786) 713-8616|147|123|\n",
            "|[Althia Bath]      |24/09/1956|[60]|511-5762 At Rd. Chelsea MI                          |67708  |(947) 278-5929|129|50 |\n",
            "|[Arvid Oven]       |26/12/1906|[60]|935-9940 Tortor. Street Santa Rosa MN               |98804  |(684) 579-1879|133|102|\n",
            "|[Alan Natal]       |26/10/1983|[28]|P.O. Box 929 4189 Nunc Road Lebanon KY              |69409  |(389) 737-2852|101|67 |\n",
            "|[Latisha Lis]      |26/09/2009|[5] |5587 Nunc. Avenue Erie Rhode Island                 |24975  |(660) 663-4518|87 |81 |\n",
            "|[Henrene Guess]    |03/10/1920|[60]|Ap #696-3279 Viverra. Avenue Latrobe DE             |38100  |(608) 265-2215|128|123|\n",
            "|[Lathan Fuller]    |14/08/1911|[60]|P.O. Box 132 1599 Curabitur Rd. Bandera South Dakota|45149  |(959) 119-8364|83 |43 |\n",
            "|[Lonna Jaeger]     |16/05/1937|[60]|347-7666 Iaculis St. Woodruff SC                    |49854  |(468) 353-2641|148|109|\n",
            "|[Angele Abrahams]  |08/12/2004|[17]|666-4366 Lacinia Avenue Idaho Falls Ohio            |19253  |(248) 675-4007|75 |53 |\n",
            "|[Ernie Byars]      |09/01/1956|[60]|P.O. Box 147 2546 Sociosqu Rd. Bethlehem Utah       |2913   |(939) 353-1107|142|62 |\n",
            "|[Martha Passe]     |18/10/1934|[60]|557-6308 Lacinia Road San Bernardino ND             |9289   |(570) 873-7090|137|48 |\n",
            "|[Gibson Rung]      |02/10/1905|[60]|Ap #285-7193 Ullamcorper Avenue Amesbury HI         |93373  |(302) 259-2375|84 |41 |\n",
            "+-------------------+----------+----+----------------------------------------------------+-------+--------------+---+---+\n",
            "only showing top 20 rows\n",
            "\n"
          ]
        }
      ],
      "source": [
        "obfuscator = finance.StructuredDeidentification(spark,{\"NAME\":\"PATIENT\",\"AGE\":\"AGE\"}, obfuscateRefSource = \"faker\")\n",
        "obfuscator_df = obfuscator.obfuscateColumns(df)\n",
        "obfuscator_df.show(truncate=False)"
      ]
    },
    {
      "cell_type": "code",
      "execution_count": null,
      "id": "-GmMv8T-I0CX",
      "metadata": {
        "id": "-GmMv8T-I0CX"
      },
      "outputs": [],
      "source": [
        "obfuscator_unique_ref_test = '''Will Perry#CLIENT\n",
        "John Smith#CLIENT\n",
        "Marvin MARSHALL#CLIENT\n",
        "Hubert GROGAN#CLIENT\n",
        "ALTHEA COLBURN#CLIENT\n",
        "Kalil AMIN#CLIENT\n",
        "Inci FOUNTAIN#CLIENT\n",
        "Jackson WILLE#CLIENT\n",
        "Jack SANTOS#CLIENT\n",
        "Mahmood ALBURN#CLIENT\n",
        "Marnie MELINGTON#CLIENT\n",
        "Aysha GHAZI#CLIENT\n",
        "Maryland CODER#CLIENT\n",
        "Darene GEORGIOUS#CLIENT\n",
        "Shelly WELLBECK#CLIENT\n",
        "Min Kun JAE#CLIENT\n",
        "Thomson THOMAS#CLIENT\n",
        "Christian SUDDINBURG#CLIENT\n",
        "Aberdeen#CITY\n",
        "Louisburg St#STREET\n",
        "France#LOC\n",
        "5552312#PHONE\n",
        "Calle del Libertador#ADDRESS\n",
        "111#ID\n",
        "20#AGE\n",
        "30#AGE\n",
        "40#AGE\n",
        "50#AGE\n",
        "60#AGE\n",
        "'''\n",
        "\n",
        "with open('obfuscator_unique_ref_test.txt', 'w') as f:\n",
        "  f.write(obfuscator_unique_ref_test)"
      ]
    },
    {
      "cell_type": "code",
      "execution_count": null,
      "id": "PTwdR034I70n",
      "metadata": {
        "colab": {
          "base_uri": "https://localhost:8080/"
        },
        "id": "PTwdR034I70n",
        "outputId": "fcaf7cb1-c07e-43a0-f961-f99b33f3d5a4"
      },
      "outputs": [
        {
          "output_type": "stream",
          "name": "stdout",
          "text": [
            "+------------------+----+\n",
            "|NAME              |AGE |\n",
            "+------------------+----+\n",
            "|[Inci FOUNTAIN]   |[60]|\n",
            "|[Jack SANTOS]     |[30]|\n",
            "|[Darene GEORGIOUS]|[30]|\n",
            "|[Shelly WELLBECK] |[40]|\n",
            "|[Hubert GROGAN]   |[40]|\n",
            "|[Kalil AMIN]      |[40]|\n",
            "|[ALTHEA COLBURN]  |[60]|\n",
            "|[Thomson THOMAS]  |[60]|\n",
            "|[Jack SANTOS]     |[60]|\n",
            "|[Will Perry]      |[20]|\n",
            "|[Jackson WILLE]   |[60]|\n",
            "|[Shelly WELLBECK] |[40]|\n",
            "|[Kalil AMIN]      |[30]|\n",
            "|[Marnie MELINGTON]|[30]|\n",
            "|[Min Kun JAE]     |[30]|\n",
            "|[Marvin MARSHALL] |[60]|\n",
            "|[Marvin MARSHALL] |[50]|\n",
            "|[Min Kun JAE]     |[30]|\n",
            "|[Maryland CODER]  |[20]|\n",
            "|[Marnie MELINGTON]|[20]|\n",
            "+------------------+----+\n",
            "only showing top 20 rows\n",
            "\n"
          ]
        }
      ],
      "source": [
        "# obfuscateRefSource = \"file\"\n",
        "\n",
        "obfuscator = finance.StructuredDeidentification(spark,{\"NAME\":\"CLIENT\",\"AGE\":\"AGE\"}, \n",
        "                                        obfuscateRefFile = \"/dbfs/obfuscator_unique_ref_test.txt\",\n",
        "                                        obfuscateRefSource = \"file\",\n",
        "                                        columnsSeed={\"NAME\": 23, \"AGE\": 23})\n",
        "obfuscator_df = obfuscator.obfuscateColumns(df)\n",
        "obfuscator_df.select(\"NAME\",\"AGE\").show(truncate=False)"
      ]
    },
    {
      "cell_type": "markdown",
      "id": "w8tW5fFafQmL",
      "metadata": {
        "id": "w8tW5fFafQmL"
      },
      "source": [
        "We can **shift n days** in the structured deidentification through \"days\" parameter when the column is a Date."
      ]
    },
    {
      "cell_type": "code",
      "execution_count": null,
      "id": "iBzoNufMfYCn",
      "metadata": {
        "colab": {
          "base_uri": "https://localhost:8080/"
        },
        "id": "iBzoNufMfYCn",
        "outputId": "82b9d6a0-f488-4bb2-f296-b97ca4a67aa9"
      },
      "outputs": [
        {
          "output_type": "stream",
          "name": "stdout",
          "text": [
            "+-------------+----------+-----------------------+---+----------------+\n",
            "|NAME         |DOB       |ADDRESS                |SBP|TEL             |\n",
            "+-------------+----------+-----------------------+---+----------------+\n",
            "|Juan García  |13/02/1977|711 Nulla St.          |140|673 431234      |\n",
            "|Will Smith   |23/02/1977|1 Green Avenue.        |140|+23 (673) 431234|\n",
            "|Pedro Ximénez|11/04/1900|Calle del Libertador, 7|100|912 345623      |\n",
            "+-------------+----------+-----------------------+---+----------------+\n",
            "\n"
          ]
        }
      ],
      "source": [
        "df = spark.createDataFrame([\n",
        "            [\"Juan García\", \"13/02/1977\", \"711 Nulla St.\", \"140\", \"673 431234\"],\n",
        "            [\"Will Smith\", \"23/02/1977\", \"1 Green Avenue.\", \"140\", \"+23 (673) 431234\"],\n",
        "            [\"Pedro Ximénez\", \"11/04/1900\", \"Calle del Libertador, 7\", \"100\", \"912 345623\"]\n",
        "        ]).toDF(\"NAME\", \"DOB\", \"ADDRESS\", \"SBP\", \"TEL\")\n",
        "df.show(truncate=False)"
      ]
    },
    {
      "cell_type": "code",
      "execution_count": null,
      "id": "Fez0Rqq_fX3C",
      "metadata": {
        "id": "Fez0Rqq_fX3C"
      },
      "outputs": [],
      "source": [
        "obfuscator = finance.StructuredDeidentification(spark=spark, \n",
        "                                        columns={\"NAME\": \"ID\", \"DOB\": \"DATE\"},\n",
        "                                        columnsSeed={\"NAME\": 23, \"DOB\": 23},\n",
        "                                        obfuscateRefSource=\"faker\",\n",
        "                                        days=5\n",
        "                                         )"
      ]
    },
    {
      "cell_type": "code",
      "execution_count": null,
      "id": "HgNuMKhngFq2",
      "metadata": {
        "colab": {
          "base_uri": "https://localhost:8080/"
        },
        "id": "HgNuMKhngFq2",
        "outputId": "944044d2-2af3-4d2b-cee5-c07d425c0349"
      },
      "outputs": [
        {
          "output_type": "stream",
          "name": "stdout",
          "text": [
            "+----------+------------+-----------------------+---+----------------+\n",
            "|NAME      |DOB         |ADDRESS                |SBP|TEL             |\n",
            "+----------+------------+-----------------------+---+----------------+\n",
            "|[N2649912]|[18/02/1977]|711 Nulla St.          |140|673 431234      |\n",
            "|[W466004] |[28/02/1977]|1 Green Avenue.        |140|+23 (673) 431234|\n",
            "|[M403810] |[16/04/1900]|Calle del Libertador, 7|100|912 345623      |\n",
            "+----------+------------+-----------------------+---+----------------+\n",
            "\n"
          ]
        }
      ],
      "source": [
        "result = obfuscator.obfuscateColumns(df)\n",
        "result.show(truncate=False)"
      ]
    },
    {
      "cell_type": "markdown",
      "id": "cc5ac615-13af-4149-bf78-96e2d27d9c5f",
      "metadata": {
        "id": "cc5ac615-13af-4149-bf78-96e2d27d9c5f"
      },
      "source": [
        "# Save the Pipeline and Use it from Your Local"
      ]
    },
    {
      "cell_type": "code",
      "execution_count": null,
      "id": "f54386d7-486c-44e9-9557-954c45d9d493",
      "metadata": {
        "id": "f54386d7-486c-44e9-9557-954c45d9d493"
      },
      "outputs": [],
      "source": [
        "model.write().overwrite().save('/dbfs/pipeline_deid')"
      ]
    },
    {
      "cell_type": "code",
      "execution_count": null,
      "id": "2a6de84f-d5da-405a-afe6-7d3840dd454d",
      "metadata": {
        "id": "2a6de84f-d5da-405a-afe6-7d3840dd454d"
      },
      "outputs": [],
      "source": [
        "deid_pipeline = nlp.PretrainedPipeline.from_disk(\"/dbfs/pipeline_deid\")"
      ]
    },
    {
      "cell_type": "code",
      "execution_count": null,
      "id": "cbd89eeb-f5f5-4639-9ccf-29c2491f4d37",
      "metadata": {
        "id": "cbd89eeb-f5f5-4639-9ccf-29c2491f4d37"
      },
      "outputs": [],
      "source": [
        "data = spark.createDataFrame([[text]]).toDF(\"text\")"
      ]
    },
    {
      "cell_type": "code",
      "execution_count": null,
      "id": "e78dea29-7a4c-4724-8e2f-93e635c2602e",
      "metadata": {
        "colab": {
          "base_uri": "https://localhost:8080/"
        },
        "id": "e78dea29-7a4c-4724-8e2f-93e635c2602e",
        "outputId": "eb4b0729-7a3f-4642-be03-865860ac3859"
      },
      "outputs": [
        {
          "output_type": "execute_result",
          "data": {
            "text/plain": [
              "[DocumentAssembler_15eaf363dbe2,\n",
              " SentenceDetector_3f5f9ca05720,\n",
              " REGEX_TOKENIZER_9dc6df10defe,\n",
              " BERT_EMBEDDINGS_29ce72cd673e,\n",
              " FinanceNerModel_99ecfbac41c1,\n",
              " NER_CONVERTER_f64e99524cd7,\n",
              " ZeroShotRobertaNer_5d06c0297d21,\n",
              " NER_CONVERTER_f1201ec2169e,\n",
              " CONTEXTUAL-PARSER_88f6b3062049,\n",
              " CONTEXTUAL-PARSER_ac56b326e140,\n",
              " CONTEXTUAL-PARSER_5809f0605309,\n",
              " MERGE_62fe12dd1c9a]"
            ]
          },
          "metadata": {},
          "execution_count": 59
        }
      ],
      "source": [
        "deid_pipeline.model.stages"
      ]
    },
    {
      "cell_type": "code",
      "execution_count": null,
      "id": "de7e48e9-4433-40c8-8e88-a5d5a0265bb9",
      "metadata": {
        "colab": {
          "base_uri": "https://localhost:8080/"
        },
        "id": "de7e48e9-4433-40c8-8e88-a5d5a0265bb9",
        "outputId": "1b037d5c-94b0-4c31-dcb3-a535787de376"
      },
      "outputs": [
        {
          "output_type": "stream",
          "name": "stdout",
          "text": [
            "+--------------------+--------------------+--------------------+--------------------+--------------------+--------------------+--------------------+--------------------+--------------------+-----+-----+--------------------+--------------------+\n",
            "|                text|            document|            sentence|               token|          embeddings|                 ner|           ner_chunk|       zero_shot_ner|      zero_ner_chunk|alias|email|               phone|   merged_ner_chunks|\n",
            "+--------------------+--------------------+--------------------+--------------------+--------------------+--------------------+--------------------+--------------------+--------------------+-----+-----+--------------------+--------------------+\n",
            "|\n",
            "Commission file ...|[{document, 0, 77...|[{document, 1, 10...|[{token, 1, 10, C...|[{word_embeddings...|[{named_entity, 1...|[{chunk, 24, 32, ...|[{named_entity, 1...|[{chunk, 75, 96, ...|   []|   []|[{chunk, 24, 32, ...|[{chunk, 24, 32, ...|\n",
            "+--------------------+--------------------+--------------------+--------------------+--------------------+--------------------+--------------------+--------------------+--------------------+-----+-----+--------------------+--------------------+\n",
            "\n"
          ]
        }
      ],
      "source": [
        "deid_pipeline.model.transform(data).show()"
      ]
    }
  ],
  "metadata": {
    "accelerator": "GPU",
    "colab": {
      "provenance": []
    },
    "gpuClass": "premium",
    "kernelspec": {
      "display_name": "tf-gpu",
      "language": "python",
      "name": "python3"
    },
    "language_info": {
      "codemirror_mode": {
        "name": "ipython",
        "version": 3
      },
      "file_extension": ".py",
      "mimetype": "text/x-python",
      "name": "python",
      "nbconvert_exporter": "python",
      "pygments_lexer": "ipython3",
      "version": "3.9.7 (default, Sep 16 2021, 16:59:28) [MSC v.1916 64 bit (AMD64)]"
    },
    "vscode": {
      "interpreter": {
        "hash": "3f47d918ae832c68584484921185f5c85a1760864bf927a683dc6fb56366cc77"
      }
    }
  },
  "nbformat": 4,
  "nbformat_minor": 5
}

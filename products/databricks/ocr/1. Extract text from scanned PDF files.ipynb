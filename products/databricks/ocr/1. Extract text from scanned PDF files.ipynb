{
 "cells": [
  {
   "cell_type": "markdown",
   "metadata": {
    "application/vnd.databricks.v1+cell": {
     "inputWidgets": {},
     "nuid": "4cdea391-1ca0-4bca-b5b1-a41595ef3bbb",
     "showTitle": false,
     "title": ""
    }
   },
   "source": [
    "# Extract text from scanned documents with Spark OCR\n",
    "\n",
    "This notebook will illustrates how to:\n",
    "* Load example PDF\n",
    "* Preview it\n",
    "* Recognize text"
   ]
  },
  {
   "cell_type": "markdown",
   "metadata": {
    "application/vnd.databricks.v1+cell": {
     "inputWidgets": {},
     "nuid": "51a053dd-a1bf-49e2-9a0f-e41135a1832d",
     "showTitle": false,
     "title": ""
    }
   },
   "source": [
    "## Import OCR transformers and utils"
   ]
  },
  {
   "cell_type": "code",
   "execution_count": 0,
   "metadata": {
    "application/vnd.databricks.v1+cell": {
     "inputWidgets": {},
     "nuid": "4f1f8def-74a8-47bf-b729-6c003e04a73d",
     "showTitle": false,
     "title": ""
    }
   },
   "outputs": [
    {
     "data": {
      "text/html": [
       "<style scoped>\n",
       "  .ansiout {\n",
       "    display: block;\n",
       "    unicode-bidi: embed;\n",
       "    white-space: pre-wrap;\n",
       "    word-wrap: break-word;\n",
       "    word-break: break-all;\n",
       "    font-family: \"Source Code Pro\", \"Menlo\", monospace;;\n",
       "    font-size: 13px;\n",
       "    color: #555;\n",
       "    margin-left: 4px;\n",
       "    line-height: 19px;\n",
       "  }\n",
       "</style>\n",
       "<div class=\"ansiout\"></div>"
      ]
     },
     "metadata": {
      "application/vnd.databricks.v1+output": {
       "addedWidgets": {},
       "arguments": {},
       "data": "<div class=\"ansiout\"></div>",
       "datasetInfos": [],
       "removedWidgets": [],
       "type": "html"
      }
     },
     "output_type": "display_data"
    }
   ],
   "source": [
    "from sparkocr.transformers import *\n",
    "from sparkocr.databricks import display_images\n",
    "from pyspark.ml import PipelineModel"
   ]
  },
  {
   "cell_type": "markdown",
   "metadata": {
    "application/vnd.databricks.v1+cell": {
     "inputWidgets": {},
     "nuid": "cbbc423b-1389-4ac0-ab3d-61f0243a3e82",
     "showTitle": false,
     "title": ""
    }
   },
   "source": [
    "## Define OCR transformers and pipeline\n",
    "* Transforrm binary data to Image schema using [BinaryToImage](https://nlp.johnsnowlabs.com/docs/en/ocr_pipeline_components#binarytoimage). More details about Image Schema [here](https://nlp.johnsnowlabs.com/docs/en/ocr_structures#image-schema).\n",
    "* Recognize text using [ImageToText](https://nlp.johnsnowlabs.com/docs/en/ocr_pipeline_components#imagetotext) transformer."
   ]
  },
  {
   "cell_type": "code",
   "execution_count": 0,
   "metadata": {
    "application/vnd.databricks.v1+cell": {
     "inputWidgets": {},
     "nuid": "c78d8b8d-e3b5-4fdd-af81-af9531938ff9",
     "showTitle": false,
     "title": ""
    }
   },
   "outputs": [
    {
     "data": {
      "text/html": [
       "<style scoped>\n",
       "  .ansiout {\n",
       "    display: block;\n",
       "    unicode-bidi: embed;\n",
       "    white-space: pre-wrap;\n",
       "    word-wrap: break-word;\n",
       "    word-break: break-all;\n",
       "    font-family: \"Source Code Pro\", \"Menlo\", monospace;;\n",
       "    font-size: 13px;\n",
       "    color: #555;\n",
       "    margin-left: 4px;\n",
       "    line-height: 19px;\n",
       "  }\n",
       "</style>\n",
       "<div class=\"ansiout\"></div>"
      ]
     },
     "metadata": {
      "application/vnd.databricks.v1+output": {
       "addedWidgets": {},
       "arguments": {},
       "data": "<div class=\"ansiout\"></div>",
       "datasetInfos": [],
       "removedWidgets": [],
       "type": "html"
      }
     },
     "output_type": "display_data"
    }
   ],
   "source": [
    "def pipeline():\n",
    "    \n",
    "    # Transforrm PDF document to struct image format\n",
    "    pdf_to_image = PdfToImage()\n",
    "    pdf_to_image.setInputCol(\"content\")\n",
    "    pdf_to_image.setOutputCol(\"image\")\n",
    "    pdf_to_image.setResolution(200)\n",
    "    pdf_to_image.setPartitionNum(8)\n",
    "\n",
    "    # Run OCR\n",
    "    ocr = ImageToText()\n",
    "    ocr.setInputCol(\"image\")\n",
    "    ocr.setOutputCol(\"text\")\n",
    "    ocr.setConfidenceThreshold(65)\n",
    "    \n",
    "    pipeline = PipelineModel(stages=[\n",
    "        pdf_to_image,\n",
    "        ocr\n",
    "    ])\n",
    "    \n",
    "    return pipeline"
   ]
  },
  {
   "cell_type": "markdown",
   "metadata": {
    "application/vnd.databricks.v1+cell": {
     "inputWidgets": {},
     "nuid": "c0e3e7cf-d79c-4a2f-a0b4-6400f01f8cea",
     "showTitle": false,
     "title": ""
    }
   },
   "source": [
    "## Copy example files from OCR resources to DBFS"
   ]
  },
  {
   "cell_type": "code",
   "execution_count": 0,
   "metadata": {
    "application/vnd.databricks.v1+cell": {
     "inputWidgets": {},
     "nuid": "17bc34bb-d14c-4493-8595-4ecb6376f588",
     "showTitle": false,
     "title": ""
    }
   },
   "outputs": [
    {
     "data": {
      "text/html": [
       "<style scoped>\n",
       "  .ansiout {\n",
       "    display: block;\n",
       "    unicode-bidi: embed;\n",
       "    white-space: pre-wrap;\n",
       "    word-wrap: break-word;\n",
       "    word-break: break-all;\n",
       "    font-family: \"Source Code Pro\", \"Menlo\", monospace;;\n",
       "    font-size: 13px;\n",
       "    color: #555;\n",
       "    margin-left: 4px;\n",
       "    line-height: 19px;\n",
       "  }\n",
       "</style>\n",
       "<div class=\"ansiout\"></div>"
      ]
     },
     "metadata": {
      "application/vnd.databricks.v1+output": {
       "addedWidgets": {},
       "arguments": {},
       "data": "<div class=\"ansiout\"></div>",
       "datasetInfos": [],
       "removedWidgets": [],
       "type": "html"
      }
     },
     "output_type": "display_data"
    }
   ],
   "source": [
    "import pkg_resources\n",
    "import shutil, os\n",
    "ocr_examples = \"/dbfs/FileStore/examples\"\n",
    "resources = pkg_resources.resource_filename('sparkocr', 'resources')\n",
    "if not os.path.exists(ocr_examples):\n",
    "  shutil.copytree(resources, ocr_examples)"
   ]
  },
  {
   "cell_type": "code",
   "execution_count": 0,
   "metadata": {
    "application/vnd.databricks.v1+cell": {
     "inputWidgets": {},
     "nuid": "4013da1d-c86f-48ae-8196-28e674f1a588",
     "showTitle": false,
     "title": ""
    }
   },
   "outputs": [
    {
     "data": {
      "text/html": [
       "<style scoped>\n",
       "  .table-result-container {\n",
       "    max-height: 300px;\n",
       "    overflow: auto;\n",
       "  }\n",
       "  table, th, td {\n",
       "    border: 1px solid black;\n",
       "    border-collapse: collapse;\n",
       "  }\n",
       "  th, td {\n",
       "    padding: 5px;\n",
       "  }\n",
       "  th {\n",
       "    text-align: left;\n",
       "  }\n",
       "</style><div class='table-result-container'><table class='table-result'><thead style='background-color: white'><tr><th>path</th><th>name</th><th>size</th></tr></thead><tbody><tr><td>dbfs:/FileStore/examples/ocr/pdfs/.DS_Store</td><td>.DS_Store</td><td>6148</td></tr><tr><td>dbfs:/FileStore/examples/ocr/pdfs/alexandria_multi_page.pdf</td><td>alexandria_multi_page.pdf</td><td>70556</td></tr><tr><td>dbfs:/FileStore/examples/ocr/pdfs/fonts.pdf</td><td>fonts.pdf</td><td>11601</td></tr><tr><td>dbfs:/FileStore/examples/ocr/pdfs/multiplepages/</td><td>multiplepages/</td><td>0</td></tr><tr><td>dbfs:/FileStore/examples/ocr/pdfs/rotated/</td><td>rotated/</td><td>0</td></tr><tr><td>dbfs:/FileStore/examples/ocr/pdfs/test_document.pdf</td><td>test_document.pdf</td><td>693743</td></tr></tbody></table></div>"
      ]
     },
     "metadata": {
      "application/vnd.databricks.v1+output": {
       "addedWidgets": {},
       "aggData": [],
       "aggError": "",
       "aggOverflow": false,
       "aggSchema": [],
       "aggSeriesLimitReached": false,
       "aggType": "",
       "arguments": {},
       "columnCustomDisplayInfos": {},
       "data": [
        [
         "dbfs:/FileStore/examples/ocr/pdfs/.DS_Store",
         ".DS_Store",
         6148
        ],
        [
         "dbfs:/FileStore/examples/ocr/pdfs/alexandria_multi_page.pdf",
         "alexandria_multi_page.pdf",
         70556
        ],
        [
         "dbfs:/FileStore/examples/ocr/pdfs/fonts.pdf",
         "fonts.pdf",
         11601
        ],
        [
         "dbfs:/FileStore/examples/ocr/pdfs/multiplepages/",
         "multiplepages/",
         0
        ],
        [
         "dbfs:/FileStore/examples/ocr/pdfs/rotated/",
         "rotated/",
         0
        ],
        [
         "dbfs:/FileStore/examples/ocr/pdfs/test_document.pdf",
         "test_document.pdf",
         693743
        ]
       ],
       "datasetInfos": [],
       "dbfsResultPath": null,
       "isJsonSchema": true,
       "overflow": false,
       "plotOptions": {
        "customPlotOptions": {},
        "displayType": "table",
        "pivotAggregation": null,
        "pivotColumns": null,
        "xColumns": null,
        "yColumns": null
       },
       "removedWidgets": [],
       "schema": [
        {
         "metadata": "{}",
         "name": "path",
         "type": "\"string\""
        },
        {
         "metadata": "{}",
         "name": "name",
         "type": "\"string\""
        },
        {
         "metadata": "{}",
         "name": "size",
         "type": "\"long\""
        }
       ],
       "type": "table"
      }
     },
     "output_type": "display_data"
    }
   ],
   "source": [
    "%fs ls /FileStore/examples/ocr/pdfs"
   ]
  },
  {
   "cell_type": "markdown",
   "metadata": {
    "application/vnd.databricks.v1+cell": {
     "inputWidgets": {},
     "nuid": "360e7100-12fe-47c0-9f72-11798a8e9d96",
     "showTitle": false,
     "title": ""
    }
   },
   "source": [
    "## Read PDF document as binary file from DBFS"
   ]
  },
  {
   "cell_type": "code",
   "execution_count": 0,
   "metadata": {
    "application/vnd.databricks.v1+cell": {
     "inputWidgets": {},
     "nuid": "ae479179-1f41-4066-9373-881cf5a5671d",
     "showTitle": false,
     "title": ""
    }
   },
   "outputs": [
    {
     "data": {
      "text/html": [
       "<style scoped>\n",
       "  .table-result-container {\n",
       "    max-height: 300px;\n",
       "    overflow: auto;\n",
       "  }\n",
       "  table, th, td {\n",
       "    border: 1px solid black;\n",
       "    border-collapse: collapse;\n",
       "  }\n",
       "  th, td {\n",
       "    padding: 5px;\n",
       "  }\n",
       "  th {\n",
       "    text-align: left;\n",
       "  }\n",
       "</style><div class='table-result-container'><table class='table-result'><thead style='background-color: white'><tr><th>path</th><th>modificationTime</th><th>length</th><th>content</th></tr></thead><tbody><tr><td>dbfs:/FileStore/examples/ocr/pdfs/test_document.pdf</td><td>2020-04-01T08:59:25.000+0000</td><td>693743</td><td>JVBERi0xLjQgCjEgMCBvYmoKPDwKL1BhZ2VzIDIgMCBSCi9UeXBlIC9DYXRhbG9nCj4+CmVuZG9iagoyIDAgb2JqCjw8Ci9UeXBlIC9QYWdlcwovS2lkcyBbIDMgMCBSIDE3IDAgUiBdCi9Db3VudCAyCj4+CmVuZG9iagozIDA= (truncated)</td></tr></tbody></table></div>"
      ]
     },
     "metadata": {
      "application/vnd.databricks.v1+output": {
       "addedWidgets": {},
       "aggData": [],
       "aggError": "",
       "aggOverflow": false,
       "aggSchema": [],
       "aggSeriesLimitReached": false,
       "aggType": "",
       "arguments": {},
       "columnCustomDisplayInfos": {},
       "data": [
        [
         "dbfs:/FileStore/examples/ocr/pdfs/test_document.pdf",
         "2020-04-01T08:59:25.000+0000",
         693743,
         "JVBERi0xLjQgCjEgMCBvYmoKPDwKL1BhZ2VzIDIgMCBSCi9UeXBlIC9DYXRhbG9nCj4+CmVuZG9iagoyIDAgb2JqCjw8Ci9UeXBlIC9QYWdlcwovS2lkcyBbIDMgMCBSIDE3IDAgUiBdCi9Db3VudCAyCj4+CmVuZG9iagozIDA= (truncated)"
        ]
       ],
       "datasetInfos": [
        {
         "name": "pdf_example_df",
         "schema": {
          "fields": [
           {
            "metadata": {},
            "name": "path",
            "nullable": true,
            "type": "string"
           },
           {
            "metadata": {},
            "name": "modificationTime",
            "nullable": true,
            "type": "timestamp"
           },
           {
            "metadata": {},
            "name": "length",
            "nullable": true,
            "type": "long"
           },
           {
            "metadata": {},
            "name": "content",
            "nullable": true,
            "type": "binary"
           }
          ],
          "type": "struct"
         },
         "tableIdentifier": null,
         "typeStr": "pyspark.sql.dataframe.DataFrame"
        }
       ],
       "dbfsResultPath": null,
       "isJsonSchema": true,
       "overflow": false,
       "plotOptions": {
        "customPlotOptions": {},
        "displayType": "table",
        "pivotAggregation": null,
        "pivotColumns": null,
        "xColumns": null,
        "yColumns": null
       },
       "removedWidgets": [],
       "schema": [
        {
         "metadata": "{}",
         "name": "path",
         "type": "\"string\""
        },
        {
         "metadata": "{}",
         "name": "modificationTime",
         "type": "\"timestamp\""
        },
        {
         "metadata": "{}",
         "name": "length",
         "type": "\"long\""
        },
        {
         "metadata": "{}",
         "name": "content",
         "type": "\"binary\""
        }
       ],
       "type": "table"
      }
     },
     "output_type": "display_data"
    }
   ],
   "source": [
    "pdf_example = '/FileStore/examples/ocr/pdfs/test_document.pdf'\n",
    "pdf_example_df = spark.read.format(\"binaryFile\").load(pdf_example).cache()\n",
    "display(pdf_example_df)"
   ]
  },
  {
   "cell_type": "markdown",
   "metadata": {
    "application/vnd.databricks.v1+cell": {
     "inputWidgets": {},
     "nuid": "f8f321ba-31e8-431a-a3c7-e6f0e3814745",
     "showTitle": false,
     "title": ""
    }
   },
   "source": [
    "## Preview PDF using _display_images_ function"
   ]
  },
  {
   "cell_type": "code",
   "execution_count": 0,
   "metadata": {
    "application/vnd.databricks.v1+cell": {
     "inputWidgets": {},
     "nuid": "3094cb0b-37a0-4c2f-b2f1-20b6005aa7b4",
     "showTitle": false,
     "title": ""
    }
   },
   "outputs": [
    {
     "data": {
      "text/html": [
       "<ul style='list-style-type:none; padding-inline-start: 0px;'>\n",
       "            <li style='padding: 20px; background-color: rgba(0,0,0,.03);'>\n",
       "              <ul style='padding-inline-start: 0px;list-style-type:none;'>\n",
       "                <li><b>Origin:</b> dbfs:/FileStore/examples/ocr/pdfs/test_document.pdf</li>\n",
       "                <li><b>Resolution:</b> 300 dpi</li>\n",
       "                <li><b>Width:</b> 5024 px</li>\n",
       "                <li><b>Height:</b> 6615 px</li>\n",
       "                <li><b>Mode:</b> Greyscale</li>\n",
       "                <li><b>Number of channels:</b> 1</li>\n",
       "               </ul>\n",
       "            </li>\n",
       "            <li style='padding: 10px; background-color: rgba(0,0,0,.01);'>\n",
       "              <img src ='/files/tmp/1a6f56ea-06e7-11eb-8334-00163e91b15a.png' width='800'>\n",
       "            </li>\n",
       "            <li style='padding: 20px; background-color: rgba(0,0,0,.03);'>\n",
       "              <ul style='padding-inline-start: 0px;list-style-type:none;'>\n",
       "                <li><b>Origin:</b> dbfs:/FileStore/examples/ocr/pdfs/test_document.pdf</li>\n",
       "                <li><b>Resolution:</b> 300 dpi</li>\n",
       "                <li><b>Width:</b> 5074 px</li>\n",
       "                <li><b>Height:</b> 6599 px</li>\n",
       "                <li><b>Mode:</b> Greyscale</li>\n",
       "                <li><b>Number of channels:</b> 1</li>\n",
       "               </ul>\n",
       "            </li>\n",
       "            <li style='padding: 10px; background-color: rgba(0,0,0,.01);'>\n",
       "              <img src ='/files/tmp/1ba9b7da-06e7-11eb-8334-00163e91b15a.png' width='800'>\n",
       "            </li></ul>"
      ]
     },
     "metadata": {
      "application/vnd.databricks.v1+output": {
       "addedWidgets": {},
       "arguments": {},
       "data": "<ul style='list-style-type:none; padding-inline-start: 0px;'>\n            <li style='padding: 20px; background-color: rgba(0,0,0,.03);'>\n              <ul style='padding-inline-start: 0px;list-style-type:none;'>\n                <li><b>Origin:</b> dbfs:/FileStore/examples/ocr/pdfs/test_document.pdf</li>\n                <li><b>Resolution:</b> 300 dpi</li>\n                <li><b>Width:</b> 5024 px</li>\n                <li><b>Height:</b> 6615 px</li>\n                <li><b>Mode:</b> Greyscale</li>\n                <li><b>Number of channels:</b> 1</li>\n               </ul>\n            </li>\n            <li style='padding: 10px; background-color: rgba(0,0,0,.01);'>\n              <img src ='/files/tmp/1a6f56ea-06e7-11eb-8334-00163e91b15a.png' width='800'>\n            </li>\n            <li style='padding: 20px; background-color: rgba(0,0,0,.03);'>\n              <ul style='padding-inline-start: 0px;list-style-type:none;'>\n                <li><b>Origin:</b> dbfs:/FileStore/examples/ocr/pdfs/test_document.pdf</li>\n                <li><b>Resolution:</b> 300 dpi</li>\n                <li><b>Width:</b> 5074 px</li>\n                <li><b>Height:</b> 6599 px</li>\n                <li><b>Mode:</b> Greyscale</li>\n                <li><b>Number of channels:</b> 1</li>\n               </ul>\n            </li>\n            <li style='padding: 10px; background-color: rgba(0,0,0,.01);'>\n              <img src ='/files/tmp/1ba9b7da-06e7-11eb-8334-00163e91b15a.png' width='800'>\n            </li></ul>",
       "datasetInfos": [],
       "removedWidgets": [],
       "textData": "<div class=\"ansiout\"></div>",
       "type": "htmlSandbox"
      }
     },
     "output_type": "display_data"
    }
   ],
   "source": [
    "display_images(PdfToImage().setOutputCol(\"image\").transform(pdf_example_df), limit=3)"
   ]
  },
  {
   "cell_type": "markdown",
   "metadata": {
    "application/vnd.databricks.v1+cell": {
     "inputWidgets": {},
     "nuid": "010a180e-d833-49ed-828b-45f983cf2ba6",
     "showTitle": false,
     "title": ""
    }
   },
   "source": [
    "## Run OCR pipelines"
   ]
  },
  {
   "cell_type": "code",
   "execution_count": 0,
   "metadata": {
    "application/vnd.databricks.v1+cell": {
     "inputWidgets": {},
     "nuid": "5e5a5675-90f2-426c-bc11-80c429a5a2fb",
     "showTitle": false,
     "title": ""
    }
   },
   "outputs": [
    {
     "data": {
      "text/html": [
       "<style scoped>\n",
       "  .ansiout {\n",
       "    display: block;\n",
       "    unicode-bidi: embed;\n",
       "    white-space: pre-wrap;\n",
       "    word-wrap: break-word;\n",
       "    word-break: break-all;\n",
       "    font-family: \"Source Code Pro\", \"Menlo\", monospace;;\n",
       "    font-size: 13px;\n",
       "    color: #555;\n",
       "    margin-left: 4px;\n",
       "    line-height: 19px;\n",
       "  }\n",
       "</style>\n",
       "<div class=\"ansiout\"></div>"
      ]
     },
     "metadata": {
      "application/vnd.databricks.v1+output": {
       "addedWidgets": {},
       "arguments": {},
       "data": "<div class=\"ansiout\"></div>",
       "datasetInfos": [
        {
         "name": "result",
         "schema": {
          "fields": [
           {
            "metadata": {},
            "name": "path",
            "nullable": true,
            "type": "string"
           },
           {
            "metadata": {},
            "name": "modificationTime",
            "nullable": true,
            "type": "timestamp"
           },
           {
            "metadata": {},
            "name": "length",
            "nullable": true,
            "type": "long"
           },
           {
            "metadata": {},
            "name": "image",
            "nullable": true,
            "type": {
             "fields": [
              {
               "metadata": {},
               "name": "origin",
               "nullable": true,
               "type": "string"
              },
              {
               "metadata": {},
               "name": "height",
               "nullable": false,
               "type": "integer"
              },
              {
               "metadata": {},
               "name": "width",
               "nullable": false,
               "type": "integer"
              },
              {
               "metadata": {},
               "name": "nChannels",
               "nullable": false,
               "type": "integer"
              },
              {
               "metadata": {},
               "name": "mode",
               "nullable": false,
               "type": "integer"
              },
              {
               "metadata": {},
               "name": "resolution",
               "nullable": false,
               "type": "integer"
              },
              {
               "metadata": {},
               "name": "data",
               "nullable": true,
               "type": "binary"
              }
             ],
             "type": "struct"
            }
           },
           {
            "metadata": {},
            "name": "pagenum",
            "nullable": true,
            "type": "integer"
           },
           {
            "metadata": {},
            "name": "documentnum",
            "nullable": false,
            "type": "string"
           },
           {
            "metadata": {},
            "name": "confidence",
            "nullable": true,
            "type": "double"
           },
           {
            "metadata": {},
            "name": "positions_tmp",
            "nullable": true,
            "type": {
             "containsNull": true,
             "elementType": {
              "fields": [
               {
                "metadata": {},
                "name": "mapping",
                "nullable": true,
                "type": {
                 "containsNull": true,
                 "elementType": {
                  "fields": [
                   {
                    "metadata": {},
                    "name": "c",
                    "nullable": true,
                    "type": "string"
                   },
                   {
                    "metadata": {},
                    "name": "p",
                    "nullable": false,
                    "type": "integer"
                   },
                   {
                    "metadata": {},
                    "name": "x",
                    "nullable": false,
                    "type": "float"
                   },
                   {
                    "metadata": {},
                    "name": "y",
                    "nullable": false,
                    "type": "float"
                   },
                   {
                    "metadata": {},
                    "name": "width",
                    "nullable": false,
                    "type": "float"
                   },
                   {
                    "metadata": {},
                    "name": "height",
                    "nullable": false,
                    "type": "float"
                   },
                   {
                    "metadata": {},
                    "name": "fontSize",
                    "nullable": false,
                    "type": "integer"
                   }
                  ],
                  "type": "struct"
                 },
                 "type": "array"
                }
               }
              ],
              "type": "struct"
             },
             "type": "array"
            }
           },
           {
            "metadata": {},
            "name": "exception",
            "nullable": true,
            "type": "string"
           },
           {
            "metadata": {},
            "name": "text",
            "nullable": true,
            "type": "string"
           },
           {
            "metadata": {},
            "name": "positions",
            "nullable": true,
            "type": {
             "containsNull": true,
             "elementType": {
              "fields": [
               {
                "metadata": {},
                "name": "mapping",
                "nullable": true,
                "type": {
                 "containsNull": true,
                 "elementType": {
                  "fields": [
                   {
                    "metadata": {},
                    "name": "c",
                    "nullable": true,
                    "type": "string"
                   },
                   {
                    "metadata": {},
                    "name": "p",
                    "nullable": false,
                    "type": "integer"
                   },
                   {
                    "metadata": {},
                    "name": "x",
                    "nullable": false,
                    "type": "float"
                   },
                   {
                    "metadata": {},
                    "name": "y",
                    "nullable": false,
                    "type": "float"
                   },
                   {
                    "metadata": {},
                    "name": "width",
                    "nullable": false,
                    "type": "float"
                   },
                   {
                    "metadata": {},
                    "name": "height",
                    "nullable": false,
                    "type": "float"
                   },
                   {
                    "metadata": {},
                    "name": "fontSize",
                    "nullable": false,
                    "type": "integer"
                   }
                  ],
                  "type": "struct"
                 },
                 "type": "array"
                }
               }
              ],
              "type": "struct"
             },
             "type": "array"
            }
           }
          ],
          "type": "struct"
         },
         "tableIdentifier": null,
         "typeStr": "pyspark.sql.dataframe.DataFrame"
        }
       ],
       "removedWidgets": [],
       "type": "html"
      }
     },
     "output_type": "display_data"
    }
   ],
   "source": [
    "result = pipeline().transform(pdf_example_df).cache()"
   ]
  },
  {
   "cell_type": "markdown",
   "metadata": {
    "application/vnd.databricks.v1+cell": {
     "inputWidgets": {},
     "nuid": "3dc6f259-d4e8-40c8-a5af-8aa879afc32f",
     "showTitle": false,
     "title": ""
    }
   },
   "source": [
    "## Display results"
   ]
  },
  {
   "cell_type": "code",
   "execution_count": 0,
   "metadata": {
    "application/vnd.databricks.v1+cell": {
     "inputWidgets": {},
     "nuid": "e3dab3ce-54b3-4ba1-9efa-ca784af01493",
     "showTitle": false,
     "title": ""
    }
   },
   "outputs": [
    {
     "data": {
      "text/html": [
       "<style scoped>\n",
       "  .table-result-container {\n",
       "    max-height: 300px;\n",
       "    overflow: auto;\n",
       "  }\n",
       "  table, th, td {\n",
       "    border: 1px solid black;\n",
       "    border-collapse: collapse;\n",
       "  }\n",
       "  th, td {\n",
       "    padding: 5px;\n",
       "  }\n",
       "  th {\n",
       "    text-align: left;\n",
       "  }\n",
       "</style><div class='table-result-container'><table class='table-result'><thead style='background-color: white'><tr><th>pagenum</th><th>text</th><th>confidence</th></tr></thead><tbody><tr><td>0</td><td>  \n",
       "   \n",
       " \n",
       " \n",
       "\n",
       "Patient Nam\n",
       "Financial Numbe\n",
       "\n",
       "Random Hospital Date of Girth\n",
       "\n",
       "Patient Location\n",
       "\n",
       "H & P\n",
       "\n",
       "Chief Complaint Arthritis |\n",
       "\n",
       "Shortness of breath CHF - Congestive heart failure\n",
       "Chronic kidney disease\n",
       "\n",
       "History of Present Iliness Chronic venous insufficiency\n",
       "Edema\n",
       "\n",
       "ar GI bleeding\n",
       "\n",
       "Patient is an 64-year-old male wilh a past medical history of hypertension, HFpEF las Glaucoma\n",
       "\n",
       "known EF 55%c, mild to moderate TA, pulmonary hypertension, permanent atrial Gout\n",
       "\n",
       "fibrillation on Eliquis, history of GI blesd, CK-I48, and anemia who presents with full weeks ypertension\n",
       "\n",
       "oi ccneralized fatigue and fcoling unwell. He also notes some shortness oi Dreath and Peptic ulcer\n",
       "\n",
       "worsening dyspnea wilh minimal exertion. His major complaints are shoulder ard joint Peripheral neuropathy\n",
       "\n",
       "pains. diffuscly. He also complains of \"bone pain’. He denics having any fevers or chills. Peripheral vascular disease\n",
       "\n",
       "e denies having any chest pain, palpitations. He denies any worse extremity Pulmonary hypertension\n",
       "\n",
       "swelling than his baseline. He states he’s been compliant with his medications. Although Tricuspid regurgitation\n",
       "\n",
       "he stales he ran out of his Eliquis & few weeks ago. He denies having any blood in his Historical .\n",
       "\n",
       "stools or mc!cna, although he does takc iron pills and states his stools arc irequently black. ~ No qualifying data\n",
       "\n",
       "His hemeglobin is al baseline.\n",
       "Procedure/Surqgical Histor\n",
       "\n",
       "Twelve-lead EKG showing atrial fibrillation, RBBB, LAFB, PVC. Chest x-ray showing new = duodenal resection, duodenojcjunostomy.\n",
       "smail right creater than left pleural effusions with mild pulmonary vascular congestion. BNP small bowel enterolomy, removal of foreign\n",
       "increased to 2800, up fram 1900. Tropoain 0.03. Renal function at baseline. Hemoglobin object and repair oi enterotomy (05/2 1/20 14).\n",
       "colonoscopy (12/10/2013), egd (12/09/2013),\n",
       "H/O endoscopy (07/2013), HO colonoscopy\n",
       "She normally takes 80 mg of oral Lasix daily. He was given 80 mg of IV Lasix in the ED. (03/2013), pifonidal cyst removal at base of\n",
       "He is currently net nogative close to 1 L. He is stillon 2 L nasal cannula. spine (1981), laser eye surgery ior glaucoma.\n",
       "lesions on small intestine closed up.\n",
       "\n",
       "Home Medications\n",
       "\n",
       "ai baseline.\n",
       "\n",
       " \n",
       "\n",
       "! Ss 5\n",
       "; Home\n",
       "A 10 system review of sysiems was completed and negative except as documented in HPI. allopurinol 300 mg oral lable, 360 MG= 1\n",
       "Physical Exam TAB, PO. Daily\n",
       "alenolol 25 mg oral iablel, 25 MG= 1 TAB,\n",
       "Vilals & Measurements PO, Daily\n",
       "T: 36.8 °C (Oral) TMIN: 36.8 \"C (Oral) TMAX: 37.0 “C (Oral) HR: 54 RR: 17 evantialidens 25 mg oral tablet, 25 MG=\n",
       "BP: 140°63 WT: 100.3 KG 1 TAB. PO, MAGE\n",
       "Pulse Ox: 100 % Oxygen: 2 Limin via Nasal Cannula Combigan 0.2%-0.5% ophthalraic\n",
       "GENERAL: no acute distress solution, 1 DROP, Both Eyes, Q12H\n",
       "HEAD: normecephalic Eliquis 5 mg oral lablet, 5 MG= 1 TAB,\n",
       "EYES‘EARS/NOSE/THAROAT: gupils are equal. normal oropharynx PO, BID\n",
       "NECK: normal inspection lerrous sulfate 925 mg (65 nig elemental\n",
       "RESPIRATORY: no respiratory distress, no rales on my exam iron) oral tablet, 325 MG= 1 TAB, PO,\n",
       "CARDIOVASCULAR: irregular. brady. no murmurs. rubs or gallops Daily\n",
       "ABDOIAEN: soft, non-tendes Lasix 80 mg oral tabict. 80 MG= 1 TAB.\n",
       "EXTREMITIES: Bilateral chronic venous stasis changes PO, BID\n",
       "NEUROLOGIC: alert and aosieniec x 3. no gross motor or sensary deficits omeprazole 20 mg oral delayed rcleasc\n",
       "AssessmenvPlan 5 See a os\n",
       "Acute on chronic diastolic CHF (congestive heart failure) \"CAM WOES URSIN ye Heat\n",
       "\n",
       "Acute on chronic diastolic heart failure exacerbation. Smail pleural effusions dilaterally\n",
       "\n",
       "with mild pulmonary vascular congestion on chest x-ray, slighi elevation in BNR. We'll\n",
       "\n",
       "continue 1 more day af IY diuresis with 20 mg IV Lasix. He may have had 2 viral infection ;\n",
       "\n",
       "which precipitated this. We'll add Tylenol for his joint pains. Continue atenolol and Daily _\n",
       "\n",
       "chlorthalidone. sertraline 50 mg oral tablel, 75 MG= 1,5\n",
       "TAB, PO. Daily\n",
       "\n",
       "parameters. Continue Eliquis for stroke prevention. No evidence oj tieeding, hemog!abin : i\n",
       "at baseline lriamcinglone 0.1% lopical oiniment, 1\n",
       "oe APP. Topical, Daily\n",
       "\n",
       "potassium chloride 20 mEq oral tablet,\n",
       "extended release, 20 MEQ= 1 TAB, PO,\n",
       "\n",
       "Printed: 7/17/2017 13:01 EDT Page 16 of 42 PowerChart\n",
       "</td><td>85.12532162666321</td></tr><tr><td>1</td><td>Patient Name\n",
       "Financial Number\n",
       "Date of Birth\n",
       "Patient Location\n",
       "\n",
       "Random Hospital\n",
       "\n",
       "H & P\n",
       "Anemia\n",
       "At baseline\n",
       "Arthritis\n",
       "\n",
       "Tylenol for pain. Patient also takes Percocet alt home, will add this cn.\n",
       "Chronic kidney disease\n",
       "AY baseline. tMonitor while diuresing.\n",
       "Hypertension\n",
       "Blood pressures within tolerable ranges.\n",
       "Pulmonary hypertension\n",
       "Tricuspid regurgitation\n",
       "Wild-to-moderaic on echocardiogram last year\n",
       "\n",
       "Attending physician note-the patient was interviewed and examined. The appropriaic\n",
       "information in power chart was reviewed. The patient was discussed wilh Dr, Persad.\n",
       "Patient may have & mild degree of heart failurc. He and his wife were morc concernce with\n",
       "Ins peripheral edema. He has underlying renal insufficiency as well. We'll (ry to diuress\n",
       "him 10 his “dry\" weight. We will then try to adjust hie medications to keep him within a\n",
       "natrow range of hat weight. We will stop his atenolol this point since he ts relatively\n",
       "bradycardic and observe his heart rate on the cardiac monitor. He will progress with his\n",
       "care and aclivily as tolerated.\n",
       "\n",
       "Printed: 7/17/2017 13:01 EDT Page 17 of 42\n",
       "\n",
       " \n",
       "\n",
       " \n",
       "\n",
       "Vitamin D2 $0,000 intl units (1.25 mg) oral\n",
       "capsule, 1 TAB, PO, Weexly-Tue\n",
       "\n",
       "Allergies\n",
       "shelliisn (cout)\n",
       "\n",
       "sulfa drug (maculopapular rash)\n",
       "\n",
       "Social History\n",
       "\n",
       "Ever Smoked Tobacco: Former Smoker\n",
       "Alcohol use - frequency: None\n",
       "\n",
       "Drug use: Never\n",
       "\n",
       "Lab Results\n",
       "\n",
       "O7/16/97 05:30 to O7/16/17 05:30\n",
       "\n",
       "102\n",
       "\n",
       "07/16/17 05:30 to 07/16/17 05:30\n",
       "\n",
       "L 125\n",
       "\n",
       "fL 32.4 \\\n",
       "\n",
       "BMP\n",
       "\n",
       "GLU\n",
       "\n",
       "NA\n",
       "\n",
       "K\n",
       "\n",
       "CL\n",
       "\n",
       "TOTAL CO2\n",
       "BUN\n",
       "\n",
       "CRT\n",
       "\n",
       "ANION GAP\n",
       "CA\n",
       "\n",
       "CBC with diff\n",
       "\n",
       "WBC\n",
       "HGB\n",
       "HOT\n",
       "RBC\n",
       "VICV\n",
       "MICH\n",
       "MCHC\n",
       "RDW\n",
       "MPV\n",
       "\n",
       "O7/16/17\n",
       "05:30\n",
       "\n",
       "102 mg/dL\n",
       "143 MMOL/L\n",
       "3.6 MMOL/L\n",
       "98 MMOL/L\n",
       "40 MMOL/L\n",
       "26 mg/dL.\n",
       "1.23 mg/dL\n",
       "5\n",
       "\n",
       "7.9 mg/dL\n",
       "07/16/17\n",
       "05:30\n",
       "\n",
       "3.4/ nl\n",
       "\n",
       "10.1 G/DL\n",
       "32.4%\n",
       "\n",
       "3.41 /PL\n",
       "95.0 FL\n",
       "29.6 pg\n",
       "31.2 %\n",
       "\n",
       "15.9 %\n",
       "\n",
       "10.7 FL\n",
       "\n",
       "PowerChart\n",
       "</td><td>78.96080513000489</td></tr></tbody></table></div>"
      ]
     },
     "metadata": {
      "application/vnd.databricks.v1+output": {
       "addedWidgets": {},
       "aggData": [],
       "aggError": "",
       "aggOverflow": false,
       "aggSchema": [],
       "aggSeriesLimitReached": false,
       "aggType": "",
       "arguments": {},
       "columnCustomDisplayInfos": {},
       "data": [
        [
         0,
         "  \n   \n \n \n\nPatient Nam\nFinancial Numbe\n\nRandom Hospital Date of Girth\n\nPatient Location\n\nH & P\n\nChief Complaint Arthritis |\n\nShortness of breath CHF - Congestive heart failure\nChronic kidney disease\n\nHistory of Present Iliness Chronic venous insufficiency\nEdema\n\nar GI bleeding\n\nPatient is an 64-year-old male wilh a past medical history of hypertension, HFpEF las Glaucoma\n\nknown EF 55%c, mild to moderate TA, pulmonary hypertension, permanent atrial Gout\n\nfibrillation on Eliquis, history of GI blesd, CK-I48, and anemia who presents with full weeks ypertension\n\noi ccneralized fatigue and fcoling unwell. He also notes some shortness oi Dreath and Peptic ulcer\n\nworsening dyspnea wilh minimal exertion. His major complaints are shoulder ard joint Peripheral neuropathy\n\npains. diffuscly. He also complains of \"bone pain’. He denics having any fevers or chills. Peripheral vascular disease\n\ne denies having any chest pain, palpitations. He denies any worse extremity Pulmonary hypertension\n\nswelling than his baseline. He states he’s been compliant with his medications. Although Tricuspid regurgitation\n\nhe stales he ran out of his Eliquis & few weeks ago. He denies having any blood in his Historical .\n\nstools or mc!cna, although he does takc iron pills and states his stools arc irequently black. ~ No qualifying data\n\nHis hemeglobin is al baseline.\nProcedure/Surqgical Histor\n\nTwelve-lead EKG showing atrial fibrillation, RBBB, LAFB, PVC. Chest x-ray showing new = duodenal resection, duodenojcjunostomy.\nsmail right creater than left pleural effusions with mild pulmonary vascular congestion. BNP small bowel enterolomy, removal of foreign\nincreased to 2800, up fram 1900. Tropoain 0.03. Renal function at baseline. Hemoglobin object and repair oi enterotomy (05/2 1/20 14).\ncolonoscopy (12/10/2013), egd (12/09/2013),\nH/O endoscopy (07/2013), HO colonoscopy\nShe normally takes 80 mg of oral Lasix daily. He was given 80 mg of IV Lasix in the ED. (03/2013), pifonidal cyst removal at base of\nHe is currently net nogative close to 1 L. He is stillon 2 L nasal cannula. spine (1981), laser eye surgery ior glaucoma.\nlesions on small intestine closed up.\n\nHome Medications\n\nai baseline.\n\n \n\n! Ss 5\n; Home\nA 10 system review of sysiems was completed and negative except as documented in HPI. allopurinol 300 mg oral lable, 360 MG= 1\nPhysical Exam TAB, PO. Daily\nalenolol 25 mg oral iablel, 25 MG= 1 TAB,\nVilals & Measurements PO, Daily\nT: 36.8 °C (Oral) TMIN: 36.8 \"C (Oral) TMAX: 37.0 “C (Oral) HR: 54 RR: 17 evantialidens 25 mg oral tablet, 25 MG=\nBP: 140°63 WT: 100.3 KG 1 TAB. PO, MAGE\nPulse Ox: 100 % Oxygen: 2 Limin via Nasal Cannula Combigan 0.2%-0.5% ophthalraic\nGENERAL: no acute distress solution, 1 DROP, Both Eyes, Q12H\nHEAD: normecephalic Eliquis 5 mg oral lablet, 5 MG= 1 TAB,\nEYES‘EARS/NOSE/THAROAT: gupils are equal. normal oropharynx PO, BID\nNECK: normal inspection lerrous sulfate 925 mg (65 nig elemental\nRESPIRATORY: no respiratory distress, no rales on my exam iron) oral tablet, 325 MG= 1 TAB, PO,\nCARDIOVASCULAR: irregular. brady. no murmurs. rubs or gallops Daily\nABDOIAEN: soft, non-tendes Lasix 80 mg oral tabict. 80 MG= 1 TAB.\nEXTREMITIES: Bilateral chronic venous stasis changes PO, BID\nNEUROLOGIC: alert and aosieniec x 3. no gross motor or sensary deficits omeprazole 20 mg oral delayed rcleasc\nAssessmenvPlan 5 See a os\nAcute on chronic diastolic CHF (congestive heart failure) \"CAM WOES URSIN ye Heat\n\nAcute on chronic diastolic heart failure exacerbation. Smail pleural effusions dilaterally\n\nwith mild pulmonary vascular congestion on chest x-ray, slighi elevation in BNR. We'll\n\ncontinue 1 more day af IY diuresis with 20 mg IV Lasix. He may have had 2 viral infection ;\n\nwhich precipitated this. We'll add Tylenol for his joint pains. Continue atenolol and Daily _\n\nchlorthalidone. sertraline 50 mg oral tablel, 75 MG= 1,5\nTAB, PO. Daily\n\nparameters. Continue Eliquis for stroke prevention. No evidence oj tieeding, hemog!abin : i\nat baseline lriamcinglone 0.1% lopical oiniment, 1\noe APP. Topical, Daily\n\npotassium chloride 20 mEq oral tablet,\nextended release, 20 MEQ= 1 TAB, PO,\n\nPrinted: 7/17/2017 13:01 EDT Page 16 of 42 PowerChart\n",
         85.12532162666321
        ],
        [
         1,
         "Patient Name\nFinancial Number\nDate of Birth\nPatient Location\n\nRandom Hospital\n\nH & P\nAnemia\nAt baseline\nArthritis\n\nTylenol for pain. Patient also takes Percocet alt home, will add this cn.\nChronic kidney disease\nAY baseline. tMonitor while diuresing.\nHypertension\nBlood pressures within tolerable ranges.\nPulmonary hypertension\nTricuspid regurgitation\nWild-to-moderaic on echocardiogram last year\n\nAttending physician note-the patient was interviewed and examined. The appropriaic\ninformation in power chart was reviewed. The patient was discussed wilh Dr, Persad.\nPatient may have & mild degree of heart failurc. He and his wife were morc concernce with\nIns peripheral edema. He has underlying renal insufficiency as well. We'll (ry to diuress\nhim 10 his “dry\" weight. We will then try to adjust hie medications to keep him within a\nnatrow range of hat weight. We will stop his atenolol this point since he ts relatively\nbradycardic and observe his heart rate on the cardiac monitor. He will progress with his\ncare and aclivily as tolerated.\n\nPrinted: 7/17/2017 13:01 EDT Page 17 of 42\n\n \n\n \n\nVitamin D2 $0,000 intl units (1.25 mg) oral\ncapsule, 1 TAB, PO, Weexly-Tue\n\nAllergies\nshelliisn (cout)\n\nsulfa drug (maculopapular rash)\n\nSocial History\n\nEver Smoked Tobacco: Former Smoker\nAlcohol use - frequency: None\n\nDrug use: Never\n\nLab Results\n\nO7/16/97 05:30 to O7/16/17 05:30\n\n102\n\n07/16/17 05:30 to 07/16/17 05:30\n\nL 125\n\nfL 32.4 \\\n\nBMP\n\nGLU\n\nNA\n\nK\n\nCL\n\nTOTAL CO2\nBUN\n\nCRT\n\nANION GAP\nCA\n\nCBC with diff\n\nWBC\nHGB\nHOT\nRBC\nVICV\nMICH\nMCHC\nRDW\nMPV\n\nO7/16/17\n05:30\n\n102 mg/dL\n143 MMOL/L\n3.6 MMOL/L\n98 MMOL/L\n40 MMOL/L\n26 mg/dL.\n1.23 mg/dL\n5\n\n7.9 mg/dL\n07/16/17\n05:30\n\n3.4/ nl\n\n10.1 G/DL\n32.4%\n\n3.41 /PL\n95.0 FL\n29.6 pg\n31.2 %\n\n15.9 %\n\n10.7 FL\n\nPowerChart\n",
         78.96080513000489
        ]
       ],
       "datasetInfos": [],
       "dbfsResultPath": null,
       "isJsonSchema": true,
       "overflow": false,
       "plotOptions": {
        "customPlotOptions": {},
        "displayType": "table",
        "pivotAggregation": null,
        "pivotColumns": null,
        "xColumns": null,
        "yColumns": null
       },
       "removedWidgets": [],
       "schema": [
        {
         "metadata": "{}",
         "name": "pagenum",
         "type": "\"integer\""
        },
        {
         "metadata": "{}",
         "name": "text",
         "type": "\"string\""
        },
        {
         "metadata": "{}",
         "name": "confidence",
         "type": "\"double\""
        }
       ],
       "type": "table"
      }
     },
     "output_type": "display_data"
    }
   ],
   "source": [
    "display(result.select(\"pagenum\", \"text\", \"confidence\"))"
   ]
  },
  {
   "cell_type": "markdown",
   "metadata": {
    "application/vnd.databricks.v1+cell": {
     "inputWidgets": {},
     "nuid": "39b3cf48-e023-4da4-81a1-dc76eb9e940f",
     "showTitle": false,
     "title": ""
    }
   },
   "source": [
    "## Clear cache"
   ]
  },
  {
   "cell_type": "code",
   "execution_count": 0,
   "metadata": {
    "application/vnd.databricks.v1+cell": {
     "inputWidgets": {},
     "nuid": "24b15a99-fad1-4b17-adb4-a5a4dbfbde43",
     "showTitle": false,
     "title": ""
    }
   },
   "outputs": [
    {
     "data": {
      "text/html": [
       "<style scoped>\n",
       "  .ansiout {\n",
       "    display: block;\n",
       "    unicode-bidi: embed;\n",
       "    white-space: pre-wrap;\n",
       "    word-wrap: break-word;\n",
       "    word-break: break-all;\n",
       "    font-family: \"Source Code Pro\", \"Menlo\", monospace;;\n",
       "    font-size: 13px;\n",
       "    color: #555;\n",
       "    margin-left: 4px;\n",
       "    line-height: 19px;\n",
       "  }\n",
       "</style>\n",
       "<div class=\"ansiout\">Out[10]: DataFrame[path: string, modificationTime: timestamp, length: bigint, content: binary]</div>"
      ]
     },
     "metadata": {
      "application/vnd.databricks.v1+output": {
       "addedWidgets": {},
       "arguments": {},
       "data": "<div class=\"ansiout\">Out[10]: DataFrame[path: string, modificationTime: timestamp, length: bigint, content: binary]</div>",
       "datasetInfos": [],
       "removedWidgets": [],
       "type": "html"
      }
     },
     "output_type": "display_data"
    }
   ],
   "source": [
    "result.unpersist()\n",
    "pdf_example_df.unpersist()"
   ]
  }
 ],
 "metadata": {
  "application/vnd.databricks.v1+notebook": {
   "dashboards": [],
   "language": "python",
   "notebookMetadata": null,
   "notebookName": "SparkOcrPdfProcessing",
   "notebookOrigID": 3130753143012098,
   "widgets": {}
  },
  "kernelspec": {
   "display_name": "Python 3",
   "language": "python",
   "name": "python3"
  },
  "language_info": {
   "codemirror_mode": {
    "name": "ipython",
    "version": 3
   },
   "file_extension": ".py",
   "mimetype": "text/x-python",
   "name": "python",
   "nbconvert_exporter": "python",
   "pygments_lexer": "ipython3",
   "version": "3.8.3"
  },
  "name": "SparkOcrPdfProcessing",
  "notebookId": 1491686919094405
 },
 "nbformat": 4,
 "nbformat_minor": 1
}

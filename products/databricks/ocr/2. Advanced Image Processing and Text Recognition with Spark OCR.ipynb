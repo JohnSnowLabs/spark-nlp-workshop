{
 "cells": [
  {
   "cell_type": "markdown",
   "source": [
    "# Advanced Image Processing and Text Recognition with Spark OCR"
   ],
   "metadata": {
    "application/vnd.databricks.v1+cell": {
     "showTitle": false,
     "cellMetadata": {
      "rowLimit": 10000,
      "byteLimit": 2048000
     },
     "nuid": "0955aaaf-e2c9-4389-93d2-f627b4044a59",
     "inputWidgets": {},
     "title": ""
    }
   }
  },
  {
   "cell_type": "code",
   "source": [
    "import os\nimport json\nimport string\nimport numpy as np\nimport pandas as pd\n\n\nimport sparknlp\nimport sparknlp_jsl\nfrom sparknlp.base import *\nfrom sparknlp.util import *\nfrom sparknlp.annotator import *\nfrom sparknlp_jsl.annotator import *\n\nfrom pyspark.sql import functions as F\nfrom pyspark.ml import Pipeline, PipelineModel\n\npd.set_option('max_colwidth', 100)\npd.set_option('display.max_columns', 100)  \npd.set_option('display.expand_frame_repr', False)\n\n\nprint('sparknlp_jsl.version : ',sparknlp_jsl.version())\n\nspark"
   ],
   "metadata": {
    "application/vnd.databricks.v1+cell": {
     "showTitle": false,
     "cellMetadata": {
      "rowLimit": 10000,
      "byteLimit": 2048000
     },
     "nuid": "23724d6a-7721-4bcd-8e88-0d3ceb49fdf2",
     "inputWidgets": {},
     "title": ""
    }
   },
   "outputs": [],
   "execution_count": null
  },
  {
   "cell_type": "markdown",
   "source": [
    "## Image (or Natural Scene) to Text"
   ],
   "metadata": {
    "application/vnd.databricks.v1+cell": {
     "showTitle": false,
     "cellMetadata": {
      "rowLimit": 10000,
      "byteLimit": 2048000
     },
     "nuid": "cfa1a684-eac8-400a-a95a-b6e81d0e67cd",
     "inputWidgets": {},
     "title": ""
    }
   }
  },
  {
   "cell_type": "code",
   "source": [
    "import base64\nimport sparkocr\nfrom sparkocr.enums import *\nfrom sparkocr.metrics import score\nfrom sparkocr.transformers import *\nfrom sparkocr.utils import display_image, to_pil_image\nfrom sparkocr.databricks import display_images\nfrom pyspark.sql import functions as F\nimport matplotlib.pyplot as plt\n\nspark.sql(\"set spark.sql.legacy.allowUntypedScalaUDF=true\")\n\nsys.path.append('/databricks/driver/')\nsys.path.append('/databricks/driver/display_images.py')\nsys.path.append('/databricks/driver/score.py')"
   ],
   "metadata": {
    "application/vnd.databricks.v1+cell": {
     "showTitle": false,
     "cellMetadata": {
      "rowLimit": 10000,
      "byteLimit": 2048000
     },
     "nuid": "44d7da51-fc5b-473f-8000-d641a4c3165f",
     "inputWidgets": {},
     "title": ""
    }
   },
   "outputs": [],
   "execution_count": null
  },
  {
   "cell_type": "markdown",
   "source": [
    "# Pdf to Text"
   ],
   "metadata": {
    "application/vnd.databricks.v1+cell": {
     "showTitle": false,
     "cellMetadata": {
      "rowLimit": 10000,
      "byteLimit": 2048000
     },
     "nuid": "c09fc3f2-8d03-482f-9ded-37f91d265516",
     "inputWidgets": {},
     "title": ""
    }
   }
  },
  {
   "cell_type": "code",
   "source": [
    "!wget -q -O sample_doc.pdf http://www.asx.com.au/asxpdf/20171103/pdf/43nyyw9r820c6r.pdf\ndbutils.fs.cp(\"file:/databricks/driver/sample_doc.pdf\", \"dbfs:/\")"
   ],
   "metadata": {
    "application/vnd.databricks.v1+cell": {
     "showTitle": false,
     "cellMetadata": {
      "rowLimit": 10000,
      "byteLimit": 2048000
     },
     "nuid": "ed7283ac-b04f-453d-93f2-6ca5c0a48288",
     "inputWidgets": {},
     "title": ""
    }
   },
   "outputs": [],
   "execution_count": null
  },
  {
   "cell_type": "code",
   "source": [
    "def pipeline():\n    \n    # Transforrm PDF document to images per page\n    pdf_to_image = PdfToImage()\\\n          .setInputCol(\"content\")\\\n          .setOutputCol(\"image\")\n\n    # Run OCR\n    ocr = ImageToText()\\\n          .setInputCol(\"image\")\\\n          .setOutputCol(\"text\")\\\n          .setConfidenceThreshold(65)\n    \n    pipeline = PipelineModel(stages=[\n        pdf_to_image,\n        ocr\n    ])\n    \n    return pipeline"
   ],
   "metadata": {
    "application/vnd.databricks.v1+cell": {
     "showTitle": false,
     "cellMetadata": {
      "rowLimit": 10000,
      "byteLimit": 2048000
     },
     "nuid": "f1a49418-4a24-470d-a77d-1d9536dec9cc",
     "inputWidgets": {},
     "title": ""
    }
   },
   "outputs": [],
   "execution_count": null
  },
  {
   "cell_type": "code",
   "source": [
    "pdf = '/sample_doc.pdf'\npdf_example_df = spark.read.format(\"binaryFile\").load(pdf).cache()"
   ],
   "metadata": {
    "application/vnd.databricks.v1+cell": {
     "showTitle": false,
     "cellMetadata": {
      "rowLimit": 10000,
      "byteLimit": 2048000
     },
     "nuid": "5fc7c7f4-14e2-4098-8696-bf3a99977af8",
     "inputWidgets": {},
     "title": ""
    }
   },
   "outputs": [],
   "execution_count": null
  },
  {
   "cell_type": "code",
   "source": [
    "result = pipeline().transform(pdf_example_df).cache()"
   ],
   "metadata": {
    "application/vnd.databricks.v1+cell": {
     "showTitle": false,
     "cellMetadata": {
      "rowLimit": 10000,
      "byteLimit": 2048000
     },
     "nuid": "280277f8-dd06-4ac8-ba23-fb71df8a383f",
     "inputWidgets": {},
     "title": ""
    }
   },
   "outputs": [],
   "execution_count": null
  },
  {
   "cell_type": "code",
   "source": [
    "result.select(\"pagenum\",\"text\", \"confidence\").show()"
   ],
   "metadata": {
    "application/vnd.databricks.v1+cell": {
     "showTitle": false,
     "cellMetadata": {
      "rowLimit": 10000,
      "byteLimit": 2048000
     },
     "nuid": "81fe1297-84dc-4231-bba1-9674455cac01",
     "inputWidgets": {},
     "title": ""
    }
   },
   "outputs": [],
   "execution_count": null
  },
  {
   "cell_type": "code",
   "source": [
    "result.select(\"text\").collect()"
   ],
   "metadata": {
    "application/vnd.databricks.v1+cell": {
     "showTitle": false,
     "cellMetadata": {
      "rowLimit": 10000,
      "byteLimit": 2048000
     },
     "nuid": "1dec3ece-63f1-4dce-88cb-6f397757edcd",
     "inputWidgets": {},
     "title": ""
    }
   },
   "outputs": [],
   "execution_count": null
  },
  {
   "cell_type": "code",
   "source": [
    "print(\"\\n\".join([row.text for row in result.select(\"text\").collect()]))\n"
   ],
   "metadata": {
    "application/vnd.databricks.v1+cell": {
     "showTitle": false,
     "cellMetadata": {
      "rowLimit": 10000,
      "byteLimit": 2048000
     },
     "nuid": "1d5338d2-5634-4bdf-8418-bdf851c90639",
     "inputWidgets": {},
     "title": ""
    }
   },
   "outputs": [],
   "execution_count": null
  },
  {
   "cell_type": "markdown",
   "source": [
    "##  With Skew Correction"
   ],
   "metadata": {
    "application/vnd.databricks.v1+cell": {
     "showTitle": false,
     "cellMetadata": {
      "rowLimit": 10000,
      "byteLimit": 2048000
     },
     "nuid": "0b75537f-89c3-48a6-a5ce-23c341e4b629",
     "inputWidgets": {},
     "title": ""
    }
   }
  },
  {
   "cell_type": "code",
   "source": [
    "from sparkocr.transformers import *\nfrom pyspark.ml import PipelineModel\nfrom sparkocr.utils import display_image\nfrom sparkocr.metrics import score"
   ],
   "metadata": {
    "application/vnd.databricks.v1+cell": {
     "showTitle": false,
     "cellMetadata": {
      "rowLimit": 10000,
      "byteLimit": 2048000
     },
     "nuid": "6f714ac8-d17f-4c27-b665-346afe5cce66",
     "inputWidgets": {},
     "title": ""
    }
   },
   "outputs": [],
   "execution_count": null
  },
  {
   "cell_type": "code",
   "source": [
    "def ocr_pipeline(skew_correction=False):\n    \n    # Transforrm PDF document to images per page\n    pdf_to_image = PdfToImage()\\\n          .setInputCol(\"content\")\\\n          .setOutputCol(\"image\")\n\n    # Image skew corrector \n    skew_corrector = ImageSkewCorrector()\\\n          .setInputCol(\"image\")\\\n          .setOutputCol(\"corrected_image\")\\\n          .setAutomaticSkewCorrection(skew_correction)\n\n    # Run OCR\n    ocr = ImageToText()\\\n          .setInputCol(\"corrected_image\")\\\n          .setOutputCol(\"text\")\n    \n    pipeline = PipelineModel(stages=[\n        pdf_to_image,\n        skew_corrector,\n        ocr\n    ])\n    \n    return pipeline"
   ],
   "metadata": {
    "application/vnd.databricks.v1+cell": {
     "showTitle": false,
     "cellMetadata": {
      "rowLimit": 10000,
      "byteLimit": 2048000
     },
     "nuid": "27683a0a-d452-4d4a-bb65-f3e8b6cfe159",
     "inputWidgets": {},
     "title": ""
    }
   },
   "outputs": [],
   "execution_count": null
  },
  {
   "cell_type": "code",
   "source": [
    "!wget -q https://raw.githubusercontent.com/JohnSnowLabs/spark-nlp-workshop/master/tutorials/Certification_Trainings/Healthcare/data/ocr/400_rot.pdf\ndbutils.fs.cp(\"file:/databricks/driver/400_rot.pdf\", \"dbfs:/\")"
   ],
   "metadata": {
    "application/vnd.databricks.v1+cell": {
     "showTitle": false,
     "cellMetadata": {
      "rowLimit": 10000,
      "byteLimit": 2048000
     },
     "nuid": "10344d5a-10d7-42a0-a893-e8f72798ccc9",
     "inputWidgets": {},
     "title": ""
    }
   },
   "outputs": [],
   "execution_count": null
  },
  {
   "cell_type": "code",
   "source": [
    "pdf_rotated_df = spark.read.format(\"binaryFile\").load('/400_rot.pdf').cache()"
   ],
   "metadata": {
    "application/vnd.databricks.v1+cell": {
     "showTitle": false,
     "cellMetadata": {
      "rowLimit": 10000,
      "byteLimit": 2048000
     },
     "nuid": "63c53338-511f-4a21-be79-73bd2454f382",
     "inputWidgets": {},
     "title": ""
    }
   },
   "outputs": [],
   "execution_count": null
  },
  {
   "cell_type": "code",
   "source": [
    "pdf_pipeline = ocr_pipeline(False) \n\nresult = pdf_pipeline.transform(pdf_rotated_df).cache()\n"
   ],
   "metadata": {
    "application/vnd.databricks.v1+cell": {
     "showTitle": false,
     "cellMetadata": {
      "rowLimit": 10000,
      "byteLimit": 2048000
     },
     "nuid": "756bbfaa-3760-43a3-9e9f-29e1b9657885",
     "inputWidgets": {},
     "title": ""
    }
   },
   "outputs": [],
   "execution_count": null
  },
  {
   "cell_type": "code",
   "source": [
    "result.show()"
   ],
   "metadata": {
    "application/vnd.databricks.v1+cell": {
     "showTitle": false,
     "cellMetadata": {
      "rowLimit": 10000,
      "byteLimit": 2048000
     },
     "nuid": "1211315b-79fc-4ab5-84d2-2223e180003f",
     "inputWidgets": {},
     "title": ""
    }
   },
   "outputs": [],
   "execution_count": null
  },
  {
   "cell_type": "code",
   "source": [
    "result.select(\"pagenum\").collect()[0].pagenum"
   ],
   "metadata": {
    "application/vnd.databricks.v1+cell": {
     "showTitle": false,
     "cellMetadata": {
      "rowLimit": 10000,
      "byteLimit": 2048000
     },
     "nuid": "6d23f0b9-da44-4fe4-a1c8-19fcfbec3934",
     "inputWidgets": {},
     "title": ""
    }
   },
   "outputs": [],
   "execution_count": null
  },
  {
   "cell_type": "code",
   "source": [
    "img = result.select(\"image\").collect()[0].image\nimg_pil = to_pil_image(img, img.mode)\n\nplt.figure(figsize=(30,20))\nplt.imshow(img_pil, cmap='gray')\nplt.show()"
   ],
   "metadata": {
    "application/vnd.databricks.v1+cell": {
     "showTitle": false,
     "cellMetadata": {
      "rowLimit": 10000,
      "byteLimit": 2048000
     },
     "nuid": "308d48a8-7377-4319-ad00-23207d47fc3f",
     "inputWidgets": {},
     "title": ""
    }
   },
   "outputs": [],
   "execution_count": null
  },
  {
   "cell_type": "markdown",
   "source": [
    "## Display recognized text without skew correction"
   ],
   "metadata": {
    "application/vnd.databricks.v1+cell": {
     "showTitle": false,
     "cellMetadata": {
      "rowLimit": 10000,
      "byteLimit": 2048000
     },
     "nuid": "45c68e7b-fe49-45a8-9698-b39ec5088527",
     "inputWidgets": {},
     "title": ""
    }
   }
  },
  {
   "cell_type": "code",
   "source": [
    "result.select(\"pagenum\",\"text\", \"confidence\").show()\n"
   ],
   "metadata": {
    "application/vnd.databricks.v1+cell": {
     "showTitle": false,
     "cellMetadata": {
      "rowLimit": 10000,
      "byteLimit": 2048000
     },
     "nuid": "80464846-2b02-4a60-8fed-104d9487c483",
     "inputWidgets": {},
     "title": ""
    }
   },
   "outputs": [],
   "execution_count": null
  },
  {
   "cell_type": "code",
   "source": [
    "print(\"\\n\".join([row.text for row in result.select(\"text\").collect()]))"
   ],
   "metadata": {
    "application/vnd.databricks.v1+cell": {
     "showTitle": false,
     "cellMetadata": {
      "rowLimit": 10000,
      "byteLimit": 2048000
     },
     "nuid": "5b033238-3da7-47f8-9e46-d293fe3b1a7e",
     "inputWidgets": {},
     "title": ""
    }
   },
   "outputs": [],
   "execution_count": null
  },
  {
   "cell_type": "markdown",
   "source": [
    "## Display results with skew correction"
   ],
   "metadata": {
    "application/vnd.databricks.v1+cell": {
     "showTitle": false,
     "cellMetadata": {
      "rowLimit": 10000,
      "byteLimit": 2048000
     },
     "nuid": "acf2ebfc-22f8-44d2-8be6-68d1c4c18777",
     "inputWidgets": {},
     "title": ""
    }
   }
  },
  {
   "cell_type": "code",
   "source": [
    "pdf_pipeline = ocr_pipeline(True) \n\ncorrected_result = pdf_pipeline.transform(pdf_rotated_df).cache()\n\nprint(\"\\n\".join([row.text for row in corrected_result.select(\"text\").collect()]))\n"
   ],
   "metadata": {
    "application/vnd.databricks.v1+cell": {
     "showTitle": false,
     "cellMetadata": {
      "rowLimit": 10000,
      "byteLimit": 2048000
     },
     "nuid": "ecb535e1-8a27-4f61-a6d4-9aa93afec6ad",
     "inputWidgets": {},
     "title": ""
    }
   },
   "outputs": [],
   "execution_count": null
  },
  {
   "cell_type": "code",
   "source": [
    "corrected_result.select(\"pagenum\",\"text\", \"confidence\").show(truncate=50)\n"
   ],
   "metadata": {
    "application/vnd.databricks.v1+cell": {
     "showTitle": false,
     "cellMetadata": {
      "rowLimit": 10000,
      "byteLimit": 2048000
     },
     "nuid": "238d8f15-9ffe-43ea-962c-eee13f4e0478",
     "inputWidgets": {},
     "title": ""
    }
   },
   "outputs": [],
   "execution_count": null
  },
  {
   "cell_type": "markdown",
   "source": [
    "## Display skew corrected images"
   ],
   "metadata": {
    "application/vnd.databricks.v1+cell": {
     "showTitle": false,
     "cellMetadata": {
      "rowLimit": 10000,
      "byteLimit": 2048000
     },
     "nuid": "8ce272e4-ae9a-4384-975b-8c533356c863",
     "inputWidgets": {},
     "title": ""
    }
   }
  },
  {
   "cell_type": "code",
   "source": [
    "img = corrected_result.select(\"corrected_image\").collect()[0].corrected_image\nimg_pil = to_pil_image(img, img.mode)\n\nplt.figure(figsize=(30,20))\nplt.imshow(img_pil, cmap='gray')\nplt.show()"
   ],
   "metadata": {
    "application/vnd.databricks.v1+cell": {
     "showTitle": false,
     "cellMetadata": {
      "rowLimit": 10000,
      "byteLimit": 2048000
     },
     "nuid": "82991296-5b95-4c4c-9ac2-a62b4095b8ec",
     "inputWidgets": {},
     "title": ""
    }
   },
   "outputs": [],
   "execution_count": null
  },
  {
   "cell_type": "markdown",
   "source": [
    "## Compute score and compare\nRead original text and calculate scores for both results."
   ],
   "metadata": {
    "application/vnd.databricks.v1+cell": {
     "showTitle": false,
     "cellMetadata": {
      "rowLimit": 10000,
      "byteLimit": 2048000
     },
     "nuid": "3a0dd1cc-125e-4a73-bfc8-57c10d565996",
     "inputWidgets": {},
     "title": ""
    }
   }
  },
  {
   "cell_type": "code",
   "source": [
    "!wget -q https://raw.githubusercontent.com/JohnSnowLabs/spark-nlp-workshop/master/tutorials/Certification_Trainings/Healthcare/data/ocr/400.txt\ndbutils.fs.cp(\"file:/databricks/driver/400.txt\", \"dbfs:/\")"
   ],
   "metadata": {
    "application/vnd.databricks.v1+cell": {
     "showTitle": false,
     "cellMetadata": {
      "rowLimit": 10000,
      "byteLimit": 2048000
     },
     "nuid": "95f2b5b2-6856-4bb1-93e7-bdd15139ebb5",
     "inputWidgets": {},
     "title": ""
    }
   },
   "outputs": [],
   "execution_count": null
  },
  {
   "cell_type": "code",
   "source": [
    "detected = \"\\n\".join([row.text for row in result.collect()])\ncorrected_detected = \"\\n\".join([row.text for row in corrected_result.collect()])\n\n# read original text\npdf_rotated_text = open('400.txt', \"r\").read()\n\n# compute scores\ndetected_score = score(pdf_rotated_text, detected)\ncorrected_score = score(pdf_rotated_text, corrected_detected)\n\n#  print scores\nprint(\"Score without skew correction: {0}\".format(detected_score))\nprint(\"Score with skew correction: {0}\".format(corrected_score))"
   ],
   "metadata": {
    "application/vnd.databricks.v1+cell": {
     "showTitle": false,
     "cellMetadata": {
      "rowLimit": 10000,
      "byteLimit": 2048000
     },
     "nuid": "c0f0a64a-6691-4a49-978e-96b13e627ca2",
     "inputWidgets": {},
     "title": ""
    }
   },
   "outputs": [],
   "execution_count": null
  },
  {
   "cell_type": "markdown",
   "source": [
    "## Reading multiple pdfs from folder"
   ],
   "metadata": {
    "application/vnd.databricks.v1+cell": {
     "showTitle": false,
     "cellMetadata": {
      "rowLimit": 10000,
      "byteLimit": 2048000
     },
     "nuid": "47a49139-7b71-4221-8c82-4f978f86a7d4",
     "inputWidgets": {},
     "title": ""
    }
   }
  },
  {
   "cell_type": "code",
   "source": [
    "pdf_path = \"/*.pdf\"\n\npdfs = spark.read.format(\"binaryFile\").load(pdf_path).cache()\n#images = spark.read.format(\"binaryFile\").load('text_with_noise.png').cache()\n\npdfs.count()"
   ],
   "metadata": {
    "application/vnd.databricks.v1+cell": {
     "showTitle": false,
     "cellMetadata": {
      "rowLimit": 10000,
      "byteLimit": 2048000
     },
     "nuid": "a96ce9b4-4086-4d4e-b964-5fe33000b6b8",
     "inputWidgets": {},
     "title": ""
    }
   },
   "outputs": [],
   "execution_count": null
  },
  {
   "cell_type": "code",
   "source": [
    "# Transforrm PDF document to images per page\npdf_to_image = PdfToImage()\\\n      .setInputCol(\"content\")\\\n      .setOutputCol(\"image\")\n\n# Run OCR\nocr = ImageToText()\\\n      .setInputCol(\"image\")\\\n      .setOutputCol(\"text\")\\\n      .setConfidenceThreshold(65)\\\n      .setIgnoreResolution(False)\n\nocr_pipeline = PipelineModel(stages=[\n    pdf_to_image,\n    ocr\n])\n"
   ],
   "metadata": {
    "application/vnd.databricks.v1+cell": {
     "showTitle": false,
     "cellMetadata": {
      "rowLimit": 10000,
      "byteLimit": 2048000
     },
     "nuid": "6fcb7f53-04ee-4e25-93ba-2ffbd379abd5",
     "inputWidgets": {},
     "title": ""
    }
   },
   "outputs": [],
   "execution_count": null
  },
  {
   "cell_type": "code",
   "source": [
    "results = ocr_pipeline.transform(pdfs)\n"
   ],
   "metadata": {
    "application/vnd.databricks.v1+cell": {
     "showTitle": false,
     "cellMetadata": {
      "rowLimit": 10000,
      "byteLimit": 2048000
     },
     "nuid": "c289b47b-9cd8-4fd0-9779-b0f57be0e3fa",
     "inputWidgets": {},
     "title": ""
    }
   },
   "outputs": [],
   "execution_count": null
  },
  {
   "cell_type": "code",
   "source": [
    "results.columns"
   ],
   "metadata": {
    "application/vnd.databricks.v1+cell": {
     "showTitle": false,
     "cellMetadata": {
      "rowLimit": 10000,
      "byteLimit": 2048000
     },
     "nuid": "3e4d0b76-4577-4ce9-b828-1c213e14ed6c",
     "inputWidgets": {},
     "title": ""
    }
   },
   "outputs": [],
   "execution_count": null
  },
  {
   "cell_type": "code",
   "source": [
    "results.select('path','confidence','text').show()"
   ],
   "metadata": {
    "application/vnd.databricks.v1+cell": {
     "showTitle": false,
     "cellMetadata": {
      "rowLimit": 10000,
      "byteLimit": 2048000
     },
     "nuid": "7317f5a2-2708-4e91-8b44-8dc844e6c564",
     "inputWidgets": {},
     "title": ""
    }
   },
   "outputs": [],
   "execution_count": null
  },
  {
   "cell_type": "markdown",
   "source": [
    "## Image processing after reading a pdf"
   ],
   "metadata": {
    "application/vnd.databricks.v1+cell": {
     "showTitle": false,
     "cellMetadata": {
      "rowLimit": 10000,
      "byteLimit": 2048000
     },
     "nuid": "9de95ebd-596c-4013-876b-13c77517af9e",
     "inputWidgets": {},
     "title": ""
    }
   }
  },
  {
   "cell_type": "code",
   "source": [
    "from sparkocr.enums import *\n\n# Read binary as image\npdf_to_image = PdfToImage()\\\n  .setInputCol(\"content\")\\\n  .setOutputCol(\"image\")\\\n  .setResolution(400)\n\n# Binarize using adaptive tresholding\nbinarizer = ImageAdaptiveThresholding()\\\n  .setInputCol(\"image\")\\\n  .setOutputCol(\"binarized_image\")\\\n  .setBlockSize(91)\\\n  .setOffset(50)\n\n# Apply morphology opening\nopening = ImageMorphologyOperation()\\\n  .setKernelShape(KernelShape.SQUARE)\\\n  .setOperation(MorphologyOperationType.OPENING)\\\n  .setKernelSize(3)\\\n  .setInputCol(\"binarized_image\")\\\n  .setOutputCol(\"opening_image\")\n\n# Remove small objects\nremove_objects = ImageRemoveObjects()\\\n  .setInputCol(\"opening_image\")\\\n  .setOutputCol(\"corrected_image\")\\\n  .setMinSizeObject(130)\n\n# Image Layout Analyzer for detect regions\nimage_layout_analyzer = ImageLayoutAnalyzer()\\\n  .setInputCol(\"corrected_image\")\\\n  .setOutputCol(\"region\")\\\n\ndraw_regions = ImageDrawRegions()\\\n  .setInputCol(\"corrected_image\")\\\n  .setInputRegionsCol(\"region\")\\\n  .setOutputCol(\"image_with_regions\")\n\n# Run tesseract OCR for corrected image\nocr_corrected = ImageToText()\\\n  .setInputCol(\"corrected_image\")\\\n  .setOutputCol(\"corrected_text\")\\\n  .setPositionsCol(\"corrected_positions\")\\\n  .setConfidenceThreshold(65)\n\n# Run OCR for original image\nocr = ImageToText()\\\n  .setInputCol(\"image\")\\\n  .setOutputCol(\"text\")\n\n# OCR pipeline\nimage_pipeline = PipelineModel(stages=[\n    pdf_to_image,\n    binarizer,\n    opening,\n    remove_objects,\n    image_layout_analyzer,\n    draw_regions,\n    ocr,\n    ocr_corrected\n])"
   ],
   "metadata": {
    "application/vnd.databricks.v1+cell": {
     "showTitle": false,
     "cellMetadata": {
      "rowLimit": 10000,
      "byteLimit": 2048000
     },
     "nuid": "39e46b5e-e1d0-4809-955c-e6536a9b354f",
     "inputWidgets": {},
     "title": ""
    }
   },
   "outputs": [],
   "execution_count": null
  },
  {
   "cell_type": "code",
   "source": [
    "! wget -q https://raw.githubusercontent.com/JohnSnowLabs/spark-ocr-workshop/master/jupyter/data/pdfs/noised.pdf\ndbutils.fs.cp(\"file:/databricks/driver/noised.pdf\", \"dbfs:/\")"
   ],
   "metadata": {
    "application/vnd.databricks.v1+cell": {
     "showTitle": false,
     "cellMetadata": {
      "rowLimit": 10000,
      "byteLimit": 2048000
     },
     "nuid": "08971512-af6d-407d-a669-486818f00371",
     "inputWidgets": {},
     "title": ""
    }
   },
   "outputs": [],
   "execution_count": null
  },
  {
   "cell_type": "code",
   "source": [
    "image_df = spark.read.format(\"binaryFile\").load('/noised.pdf').cache()\nimage_df.show()"
   ],
   "metadata": {
    "application/vnd.databricks.v1+cell": {
     "showTitle": false,
     "cellMetadata": {
      "rowLimit": 10000,
      "byteLimit": 2048000
     },
     "nuid": "bae1b59c-1cfa-47b7-bc85-7a5b9acf50bd",
     "inputWidgets": {},
     "title": ""
    }
   },
   "outputs": [],
   "execution_count": null
  },
  {
   "cell_type": "code",
   "source": [
    "result = image_pipeline.transform(image_df).cache()"
   ],
   "metadata": {
    "application/vnd.databricks.v1+cell": {
     "showTitle": false,
     "cellMetadata": {
      "rowLimit": 10000,
      "byteLimit": 2048000
     },
     "nuid": "537a7141-6849-4ac7-819c-feaaa27362c5",
     "inputWidgets": {},
     "title": ""
    }
   },
   "outputs": [],
   "execution_count": null
  },
  {
   "cell_type": "code",
   "source": [
    "for r in result.distinct().collect():\n    \n    print(\"Original: %s\" % r.path)\n    img = r.image\n    img_pil = to_pil_image(img, img.mode)\n\n    plt.figure(figsize=(30,20))\n    plt.imshow(img_pil, cmap='gray')\n    \n    \n    print(\"Corrected: %s\" % r.path)\n    img = r.corrected_image\n    img_pil = to_pil_image(img, img.mode)\n\n    plt.figure(figsize=(30,20))\n    plt.imshow(img_pil, cmap='gray')\n    \n    \n    plt.show()"
   ],
   "metadata": {
    "application/vnd.databricks.v1+cell": {
     "showTitle": false,
     "cellMetadata": {
      "rowLimit": 10000,
      "byteLimit": 2048000
     },
     "nuid": "860bc847-e44a-4a38-8be8-717eba4d722f",
     "inputWidgets": {},
     "title": ""
    }
   },
   "outputs": [],
   "execution_count": null
  },
  {
   "cell_type": "markdown",
   "source": [
    "## Results with original image"
   ],
   "metadata": {
    "application/vnd.databricks.v1+cell": {
     "showTitle": false,
     "cellMetadata": {
      "rowLimit": 10000,
      "byteLimit": 2048000
     },
     "nuid": "391aa7bd-0a90-4ccc-b93e-0e96979eaa06",
     "inputWidgets": {},
     "title": ""
    }
   }
  },
  {
   "cell_type": "code",
   "source": [
    "grouped_results = result.groupBy(\"path\", \"pagenum\").agg(F.concat_ws(\"\", F.collect_list(\"text\")).alias(\"text\"))\nfor row in grouped_results.collect():\n    print(\"Filename:\\n%s , page: %d\" % (row.path, row.pagenum))\n    print(\"Recognized text:\\n%s\" % row.text)"
   ],
   "metadata": {
    "application/vnd.databricks.v1+cell": {
     "showTitle": false,
     "cellMetadata": {
      "rowLimit": 10000,
      "byteLimit": 2048000
     },
     "nuid": "43090808-a8bb-40a1-8f71-0dd7f446150a",
     "inputWidgets": {},
     "title": ""
    }
   },
   "outputs": [],
   "execution_count": null
  },
  {
   "cell_type": "markdown",
   "source": [
    "## Results with corrected image"
   ],
   "metadata": {
    "application/vnd.databricks.v1+cell": {
     "showTitle": false,
     "cellMetadata": {
      "rowLimit": 10000,
      "byteLimit": 2048000
     },
     "nuid": "2a2d6241-3f5d-4432-aecf-e265c62f29ba",
     "inputWidgets": {},
     "title": ""
    }
   }
  },
  {
   "cell_type": "code",
   "source": [
    "grouped_results = result.groupBy(\"path\", \"pagenum\").agg(F.concat_ws(\"\", F.collect_list(\"corrected_text\")).alias(\"corrected_text\"))\nfor row in grouped_results.collect():\n    print(\"Filename:\\n%s , page: %d\" % (row.path, row.pagenum))\n    print(\"Recognized text:\\n%s\" % row.corrected_text)"
   ],
   "metadata": {
    "application/vnd.databricks.v1+cell": {
     "showTitle": false,
     "cellMetadata": {
      "rowLimit": 10000,
      "byteLimit": 2048000
     },
     "nuid": "2d5839aa-0a6a-48da-a1d0-f61f64e7ad16",
     "inputWidgets": {},
     "title": ""
    }
   },
   "outputs": [],
   "execution_count": null
  },
  {
   "cell_type": "code",
   "source": [
    "result.columns"
   ],
   "metadata": {
    "application/vnd.databricks.v1+cell": {
     "showTitle": false,
     "cellMetadata": {
      "rowLimit": 10000,
      "byteLimit": 2048000
     },
     "nuid": "c94b645c-122e-4d62-9e99-50ecb31fc42b",
     "inputWidgets": {},
     "title": ""
    }
   },
   "outputs": [],
   "execution_count": null
  },
  {
   "cell_type": "markdown",
   "source": [
    "## Abby output"
   ],
   "metadata": {
    "application/vnd.databricks.v1+cell": {
     "showTitle": false,
     "cellMetadata": {
      "rowLimit": 10000,
      "byteLimit": 2048000
     },
     "nuid": "4159af81-cded-4363-a5e6-c301976f9123",
     "inputWidgets": {},
     "title": ""
    }
   }
  },
  {
   "cell_type": "code",
   "source": [
    "abbyy = \"\"\"-----\n% Date: 7/16/68\nX*: I; * • ■ Sample No. 5031___ — .*\n•* Original request made by _____Mr. C. L. Tucker, Jr. on\nSample specifications written by\nBLEND CASING RECASING\nOLD GOLD STRAIGHT Tobacco Blend\nControl for Sample No. 5030\nJohn H. M. Bohlken\nFINAL FLAVOR\n) 7/10/68\nMENTHOL FLAVOR\n• Cigarettes; * . .v\\ . /,*, *, S •\nBrand --------- OLD GOLD STRAIGHT -V . ••••\n; . L e n g t h ------- — 85 mm. . : '\nCircumference-- 25.3 mm. • ' *;. • •\nP a p e r ---------- Ecusta 556 • * .\nF i r m n e s s---- —— OLD GOLD STRAIGHT . ! •■'\nD r a w ___________ OLD GOLD STRAIGHT\nW e i g h t --------- 0LD GOLD STRAIGHT Wrappings: « -\nTipping Paper — — *\np H n f —. — — _ _ ~ L a b e l s ----OLD GOLD STRAIGHT\n( • Filter Length-- . — Closures--- Standard Blue .\n^ ^ ; • Tear Tape— Gold\nCartons --- OLD GOLD STRAIGHT\ns Requirements: . - •' • Markings-- Sample number on each\n• pack and carton Laboratory----- One Tray .\nO t h e r s --------- * , s • • . 4\nLaboratory A n a l ysis^ I \" '/***• * 7 ' ^ ^\nTars and Nicotine, Taste Panel, Burning Time, Gas Phase Analysis,\nBenzo (A) Pyrene Analyses — J-ZZ-Zf'- (£. / •\nResponsibility;\nTobacco B l e n d ------Manufacturing - A. Kraus . . * -\nFilter Production--- —\n• Making & P a c k i n g---Product Development , John H. M. Bohlken\nShipping -----------\nReports:\nt\nWritten by — John H. M. Bohlken\nOriginal to - Mr. C. L. Tucker, Jr.\nCopies t o ---Dr. A. W. Spears\n• 9 ..\n\"\"\""
   ],
   "metadata": {
    "application/vnd.databricks.v1+cell": {
     "showTitle": false,
     "cellMetadata": {
      "rowLimit": 10000,
      "byteLimit": 2048000
     },
     "nuid": "c26b8402-dbfd-4ac6-8899-a24ca77963a1",
     "inputWidgets": {},
     "title": ""
    }
   },
   "outputs": [],
   "execution_count": null
  },
  {
   "cell_type": "code",
   "source": [
    "for r in result.select(\"path\",\"image\",\"image_with_regions\").distinct().collect():\n    \n    print(\"Original: %s\" % r.path)\n    img = r.image\n    img_pil = to_pil_image(img, img.mode)\n\n    plt.figure(figsize=(30,20))\n    plt.imshow(img_pil, cmap='gray')\n    \n    \n    print(\"Corrected: %s\" % r.path)\n    img = r.image_with_regions\n    img_pil = to_pil_image(img, img.mode)\n\n    plt.figure(figsize=(30,20))\n    plt.imshow(img_pil, cmap='gray')\n    \n    \n    plt.show()"
   ],
   "metadata": {
    "application/vnd.databricks.v1+cell": {
     "showTitle": false,
     "cellMetadata": {
      "rowLimit": 10000,
      "byteLimit": 2048000
     },
     "nuid": "347095a4-009e-489e-abbb-27d69bca0034",
     "inputWidgets": {},
     "title": ""
    }
   },
   "outputs": [],
   "execution_count": null
  },
  {
   "cell_type": "markdown",
   "source": [
    "# Image (or Natural Scene) to Text"
   ],
   "metadata": {
    "application/vnd.databricks.v1+cell": {
     "showTitle": false,
     "cellMetadata": {
      "rowLimit": 10000,
      "byteLimit": 2048000
     },
     "nuid": "a09dd811-2cb8-470e-9494-b97b6b2153db",
     "inputWidgets": {},
     "title": ""
    }
   }
  },
  {
   "cell_type": "code",
   "source": [
    "! wget -q https://raw.githubusercontent.com/JohnSnowLabs/spark-ocr-workshop/master/jupyter/data/images/text_with_noise.png\ndbutils.fs.cp(\"file:/databricks/driver/text_with_noise.png\", \"dbfs:/\")"
   ],
   "metadata": {
    "application/vnd.databricks.v1+cell": {
     "showTitle": false,
     "cellMetadata": {
      "rowLimit": 10000,
      "byteLimit": 2048000
     },
     "nuid": "6cd56742-0d3e-44bd-9be3-cb16e24516db",
     "inputWidgets": {},
     "title": ""
    }
   },
   "outputs": [],
   "execution_count": null
  },
  {
   "cell_type": "code",
   "source": [
    "!wget -q https://raw.githubusercontent.com/JohnSnowLabs/spark-nlp-workshop/master/tutorials/Certification_Trainings/Healthcare/data/ocr/natural_scene.jpeg\ndbutils.fs.cp(\"file:/databricks/driver/natural_scene.jpeg\", \"dbfs:/\")"
   ],
   "metadata": {
    "application/vnd.databricks.v1+cell": {
     "showTitle": false,
     "cellMetadata": {
      "rowLimit": 10000,
      "byteLimit": 2048000
     },
     "nuid": "6e04a5eb-bbd6-457a-8f78-74e65f045473",
     "inputWidgets": {},
     "title": ""
    }
   },
   "outputs": [],
   "execution_count": null
  },
  {
   "cell_type": "markdown",
   "source": [
    "## Text from Scene"
   ],
   "metadata": {
    "application/vnd.databricks.v1+cell": {
     "showTitle": false,
     "cellMetadata": {
      "rowLimit": 10000,
      "byteLimit": 2048000
     },
     "nuid": "5416c872-f747-469e-b7e5-ebe438bd4499",
     "inputWidgets": {},
     "title": ""
    }
   }
  },
  {
   "cell_type": "markdown",
   "source": [
    "## Read DOCX document as binary file"
   ],
   "metadata": {
    "application/vnd.databricks.v1+cell": {
     "showTitle": false,
     "cellMetadata": {
      "rowLimit": 10000,
      "byteLimit": 2048000
     },
     "nuid": "c12584a8-09e9-4da4-a406-a0d325feea4f",
     "inputWidgets": {},
     "title": ""
    }
   }
  },
  {
   "cell_type": "markdown",
   "source": [
    "# DOCX Processing (version 1.10.0)"
   ],
   "metadata": {
    "application/vnd.databricks.v1+cell": {
     "showTitle": false,
     "cellMetadata": {
      "rowLimit": 10000,
      "byteLimit": 2048000
     },
     "nuid": "f40c0665-ccac-4eb6-8ed8-3c29549fabbe",
     "inputWidgets": {},
     "title": ""
    }
   }
  },
  {
   "cell_type": "code",
   "source": [
    "image_df = spark.read.format(\"binaryFile\").load('/text_with_noise.png').cache()\n\n# Read binary as image\nbinary_to_image = BinaryToImage()\nbinary_to_image.setInputCol(\"content\")\nbinary_to_image.setOutputCol(\"image\")\n\n# Scale image\nscaler = ImageScaler()\nscaler.setInputCol(\"image\")\nscaler.setOutputCol(\"scaled_image\")\nscaler.setScaleFactor(2.0)\n\n# Binarize using adaptive tresholding\nbinarizer = ImageAdaptiveThresholding()\nbinarizer.setInputCol(\"scaled_image\")\nbinarizer.setOutputCol(\"binarized_image\")\nbinarizer.setBlockSize(71)\nbinarizer.setOffset(65)\n\nremove_objects = ImageRemoveObjects()\nremove_objects.setInputCol(\"binarized_image\")\nremove_objects.setOutputCol(\"cleared_image\")\nremove_objects.setMinSizeObject(400)\nremove_objects.setMaxSizeObject(4000)\n\n# Run OCR\nocr = ImageToText()\nocr.setInputCol(\"cleared_image\")\nocr.setOutputCol(\"text\")\nocr.setConfidenceThreshold(50)\nocr.setIgnoreResolution(False)\n\n# OCR pipeline\nnoisy_pipeline = PipelineModel(stages=[\n    binary_to_image,\n    scaler,\n    binarizer,\n    remove_objects,\n    ocr\n])\n\n\nresult = noisy_pipeline \\\n.transform(image_df) \\\n.cache()\n\n\nfor r in result.distinct().collect():\n  \n    print(\"Original: %s\" % r.path)\n    img = r.image\n    img_pil = to_pil_image(img, img.mode)\n\n    plt.figure(figsize=(30,20))\n    plt.imshow(img_pil, cmap='gray')\n    \n    print(\"Binarized\")\n    img = r.binarized_image\n    img_pil = to_pil_image(img, img.mode)\n\n    plt.figure(figsize=(30,20))\n    plt.imshow(img_pil, cmap='gray')\n  \n    print(\"Removing objects\")\n    img = r.cleared_image\n    img_pil = to_pil_image(img, img.mode)\n\n    plt.figure(figsize=(30,20))\n    plt.imshow(img_pil, cmap='gray')\n    \n    \n    plt.show()"
   ],
   "metadata": {
    "application/vnd.databricks.v1+cell": {
     "showTitle": false,
     "cellMetadata": {
      "rowLimit": 10000,
      "byteLimit": 2048000
     },
     "nuid": "0d352462-7835-459b-a9a5-e280cf1259bb",
     "inputWidgets": {},
     "title": ""
    }
   },
   "outputs": [],
   "execution_count": null
  },
  {
   "cell_type": "code",
   "source": [
    "print(\"\\n\".join([row.text for row in result.select(\"text\").collect()]))"
   ],
   "metadata": {
    "application/vnd.databricks.v1+cell": {
     "showTitle": false,
     "cellMetadata": {
      "rowLimit": 10000,
      "byteLimit": 2048000
     },
     "nuid": "77969a61-813e-4b46-8e78-6d5b1b4737b6",
     "inputWidgets": {},
     "title": ""
    }
   },
   "outputs": [],
   "execution_count": null
  },
  {
   "cell_type": "code",
   "source": [
    "doc_example_df.show()"
   ],
   "metadata": {
    "application/vnd.databricks.v1+cell": {
     "showTitle": false,
     "cellMetadata": {
      "rowLimit": 10000,
      "byteLimit": 2048000
     },
     "nuid": "690f738b-aa0d-4dfc-b220-5b5c82ff353d",
     "inputWidgets": {},
     "title": ""
    }
   },
   "outputs": [],
   "execution_count": null
  },
  {
   "cell_type": "code",
   "source": [
    "import pkg_resources\ndoc_path = pkg_resources.resource_filename('sparkocr', 'resources/ocr/docs/doc2.docx')\ndbfs_doc_path = \"/doc2.docx\"\ndbutils.fs.cp(\"file:\" + doc_path, dbfs_doc_path)"
   ],
   "metadata": {
    "application/vnd.databricks.v1+cell": {
     "showTitle": false,
     "cellMetadata": {
      "rowLimit": 10000,
      "byteLimit": 2048000
     },
     "nuid": "4279c68c-40c0-4f21-9113-6b2b522a423b",
     "inputWidgets": {},
     "title": ""
    }
   },
   "outputs": [],
   "execution_count": null
  },
  {
   "cell_type": "code",
   "source": [
    "doc_example_df = spark.read.format(\"binaryFile\").load(dbfs_doc_path).cache()"
   ],
   "metadata": {
    "application/vnd.databricks.v1+cell": {
     "showTitle": false,
     "cellMetadata": {
      "rowLimit": 10000,
      "byteLimit": 2048000
     },
     "nuid": "bc8b5a80-b4a1-4798-95d6-de8540b7d5e8",
     "inputWidgets": {},
     "title": ""
    }
   },
   "outputs": [],
   "execution_count": null
  },
  {
   "cell_type": "markdown",
   "source": [
    "## DocxtoText"
   ],
   "metadata": {
    "application/vnd.databricks.v1+cell": {
     "showTitle": false,
     "cellMetadata": {
      "rowLimit": 10000,
      "byteLimit": 2048000
     },
     "nuid": "38331b37-3211-43cb-a44b-71ef2d180cec",
     "inputWidgets": {},
     "title": ""
    }
   }
  },
  {
   "cell_type": "code",
   "source": [
    "image_df = spark.read.format(\"binaryFile\").load('/natural_scene.jpeg').cache()\n\n# Apply morphology opening\nmorpholy_operation = ImageMorphologyOperation()\nmorpholy_operation.setKernelShape(KernelShape.DISK)\nmorpholy_operation.setKernelSize(5)\nmorpholy_operation.setOperation(\"closing\")\nmorpholy_operation.setInputCol(\"cleared_image\")\nmorpholy_operation.setOutputCol(\"corrected_image\")\n\n# Run OCR\nocr = ImageToText()\nocr.setInputCol(\"corrected_image\")\nocr.setOutputCol(\"text\")\nocr.setConfidenceThreshold(50)\nocr.setIgnoreResolution(False)\n\n# OCR pipeline\nscene_pipeline = PipelineModel(stages=[\n    binary_to_image,\n    scaler,\n    binarizer,\n    remove_objects,\n    morpholy_operation,\n    ocr\n])\n\nresult = scene_pipeline \\\n.transform(image_df) \\\n.cache()\n\n\nfor r in result.distinct().collect():\n      \n    print(\"Original: %s\" % r.path)\n    img = r.image\n    img_pil = to_pil_image(img, img.mode)\n\n    plt.figure(figsize=(20,12))\n    plt.imshow(img_pil, cmap='gray')\n    \n    print(\"Binarized\")\n    img = r.binarized_image\n    img_pil = to_pil_image(img, img.mode)\n\n    plt.figure(figsize=(20,12))\n    plt.imshow(img_pil, cmap='gray')\n  \n    print(\"Removing objects\")\n    img = r.cleared_image\n    img_pil = to_pil_image(img, img.mode)\n\n    plt.figure(figsize=(20,12))\n    plt.imshow(img_pil, cmap='gray')\n    \n    print(\"Morphology closing\")\n    img = r.corrected_image\n    img_pil = to_pil_image(img, img.mode)\n\n    plt.figure(figsize=(20,12))\n    plt.imshow(img_pil, cmap='gray')\n    \n    \n    plt.show()"
   ],
   "metadata": {
    "application/vnd.databricks.v1+cell": {
     "showTitle": false,
     "cellMetadata": {
      "rowLimit": 10000,
      "byteLimit": 2048000
     },
     "nuid": "138372c2-a4fe-4bf0-8bf7-5c624237ee0b",
     "inputWidgets": {},
     "title": ""
    }
   },
   "outputs": [],
   "execution_count": null
  },
  {
   "cell_type": "markdown",
   "source": [
    "### Extract text using DocToText transformer"
   ],
   "metadata": {
    "application/vnd.databricks.v1+cell": {
     "showTitle": false,
     "cellMetadata": {
      "rowLimit": 10000,
      "byteLimit": 2048000
     },
     "nuid": "7a9a78fc-6d99-492d-aaf2-5c951a23160f",
     "inputWidgets": {},
     "title": ""
    }
   }
  },
  {
   "cell_type": "code",
   "source": [
    "from sparkocr.transformers import *\n\ndoc_to_text = DocToText()\ndoc_to_text.setInputCol(\"content\")\ndoc_to_text.setOutputCol(\"text\")\n\nresult = doc_to_text.transform(doc_example_df)"
   ],
   "metadata": {
    "application/vnd.databricks.v1+cell": {
     "showTitle": false,
     "cellMetadata": {
      "rowLimit": 10000,
      "byteLimit": 2048000
     },
     "nuid": "ac2b4102-f3a6-4bc0-ab37-0b50d1b63b00",
     "inputWidgets": {},
     "title": ""
    }
   },
   "outputs": [],
   "execution_count": null
  },
  {
   "cell_type": "markdown",
   "source": [
    "### Display result DataFrame"
   ],
   "metadata": {
    "application/vnd.databricks.v1+cell": {
     "showTitle": false,
     "cellMetadata": {
      "rowLimit": 10000,
      "byteLimit": 2048000
     },
     "nuid": "8746a18b-0c8c-4eb6-82b6-56c2c8fded0a",
     "inputWidgets": {},
     "title": ""
    }
   }
  },
  {
   "cell_type": "code",
   "source": [
    "result.show()"
   ],
   "metadata": {
    "application/vnd.databricks.v1+cell": {
     "showTitle": false,
     "cellMetadata": {
      "rowLimit": 10000,
      "byteLimit": 2048000
     },
     "nuid": "357cf58b-4067-4259-8c85-2a841e658641",
     "inputWidgets": {},
     "title": ""
    }
   },
   "outputs": [],
   "execution_count": null
  },
  {
   "cell_type": "markdown",
   "source": [
    "### Display extracted text"
   ],
   "metadata": {
    "application/vnd.databricks.v1+cell": {
     "showTitle": false,
     "cellMetadata": {
      "rowLimit": 10000,
      "byteLimit": 2048000
     },
     "nuid": "7b33f841-d0ec-44db-afa4-49c15afbdfc1",
     "inputWidgets": {},
     "title": ""
    }
   }
  },
  {
   "cell_type": "code",
   "source": [
    "print(\"\\n\".join([row.text for row in result.select(\"text\").collect()]))"
   ],
   "metadata": {
    "application/vnd.databricks.v1+cell": {
     "showTitle": false,
     "cellMetadata": {
      "rowLimit": 10000,
      "byteLimit": 2048000
     },
     "nuid": "72ee4b09-e171-42db-8bfc-2a81479d1589",
     "inputWidgets": {},
     "title": ""
    }
   },
   "outputs": [],
   "execution_count": null
  },
  {
   "cell_type": "markdown",
   "source": [
    "## DocxToTextTable\n### (Extracting table data from Microsoft DOCX documents)"
   ],
   "metadata": {
    "application/vnd.databricks.v1+cell": {
     "showTitle": false,
     "cellMetadata": {
      "rowLimit": 10000,
      "byteLimit": 2048000
     },
     "nuid": "12d33a14-867a-42cb-abea-fca8d9a59f5f",
     "inputWidgets": {},
     "title": ""
    }
   }
  },
  {
   "cell_type": "markdown",
   "source": [
    "### Preview document using DocToPdf and PdfToImage transformers"
   ],
   "metadata": {
    "application/vnd.databricks.v1+cell": {
     "showTitle": false,
     "cellMetadata": {
      "rowLimit": 10000,
      "byteLimit": 2048000
     },
     "nuid": "faa8ca6a-4dba-49a5-9c90-43616403afaa",
     "inputWidgets": {},
     "title": ""
    }
   }
  },
  {
   "cell_type": "code",
   "source": [
    "image_df = PdfToImage().transform(DocToPdf().setOutputCol(\"content\").transform(doc_example_df))\n\nfor r in image_df.distinct().collect():\n      \n    print(\"Original: %s\" % r.path)\n    img = r.image\n    img_pil = to_pil_image(img, img.mode)\n\n    plt.figure(figsize=(24,16))\n    plt.imshow(img_pil, cmap='gray')"
   ],
   "metadata": {
    "application/vnd.databricks.v1+cell": {
     "showTitle": false,
     "cellMetadata": {
      "rowLimit": 10000,
      "byteLimit": 2048000
     },
     "nuid": "97df963f-b961-42eb-8807-3abb74ccca88",
     "inputWidgets": {},
     "title": ""
    }
   },
   "outputs": [],
   "execution_count": null
  },
  {
   "cell_type": "markdown",
   "source": [
    "### Extract text using DocToText transformer"
   ],
   "metadata": {
    "application/vnd.databricks.v1+cell": {
     "showTitle": false,
     "cellMetadata": {
      "rowLimit": 10000,
      "byteLimit": 2048000
     },
     "nuid": "5f8db2a4-c996-4dee-a850-a255f982cbb6",
     "inputWidgets": {},
     "title": ""
    }
   }
  },
  {
   "cell_type": "code",
   "source": [
    "doc_to_table = DocToTextTable()\ndoc_to_table.setInputCol(\"content\")\ndoc_to_table.setOutputCol(\"tables\")\n\nresult = doc_to_table.transform(doc_example_df)\n\nresult.show()"
   ],
   "metadata": {
    "application/vnd.databricks.v1+cell": {
     "showTitle": false,
     "cellMetadata": {
      "rowLimit": 10000,
      "byteLimit": 2048000
     },
     "nuid": "45389cf6-ef49-4a86-af78-49ec9a5b13bf",
     "inputWidgets": {},
     "title": ""
    }
   },
   "outputs": [],
   "execution_count": null
  },
  {
   "cell_type": "code",
   "source": [
    "result.select(result[\"tables.chunks\"].getItem(3)[\"chunkText\"]).show(truncate=False)"
   ],
   "metadata": {
    "application/vnd.databricks.v1+cell": {
     "showTitle": false,
     "cellMetadata": {
      "rowLimit": 10000,
      "byteLimit": 2048000
     },
     "nuid": "b0e193a2-70d1-4592-b471-625d18352ada",
     "inputWidgets": {},
     "title": ""
    }
   },
   "outputs": [],
   "execution_count": null
  },
  {
   "cell_type": "markdown",
   "source": [
    "### Display extracted data in JSON format"
   ],
   "metadata": {
    "application/vnd.databricks.v1+cell": {
     "showTitle": false,
     "cellMetadata": {
      "rowLimit": 10000,
      "byteLimit": 2048000
     },
     "nuid": "f1019422-7b47-4b20-9489-4b6856f0adc6",
     "inputWidgets": {},
     "title": ""
    }
   }
  },
  {
   "cell_type": "code",
   "source": [
    "import json\ndf_json = result.select(\"tables\").toJSON()\nfor row in df_json.collect():\n    print(json.dumps(json.loads(row), indent=4))"
   ],
   "metadata": {
    "application/vnd.databricks.v1+cell": {
     "showTitle": false,
     "cellMetadata": {
      "rowLimit": 10000,
      "byteLimit": 2048000
     },
     "nuid": "245b6f29-1902-4ae5-8f65-90be3c1ae0af",
     "inputWidgets": {},
     "title": ""
    }
   },
   "outputs": [],
   "execution_count": null
  },
  {
   "cell_type": "markdown",
   "source": [
    "# Text to Pdf"
   ],
   "metadata": {
    "application/vnd.databricks.v1+cell": {
     "showTitle": false,
     "cellMetadata": {
      "rowLimit": 10000,
      "byteLimit": 2048000
     },
     "nuid": "69862ffe-f989-4718-8563-88906586be81",
     "inputWidgets": {},
     "title": ""
    }
   }
  },
  {
   "cell_type": "code",
   "source": [
    "def pipeline():\n    # Transforrm PDF document to images per page\n    pdf_to_image = PdfToImage() \\\n        .setInputCol(\"content\") \\\n        .setOutputCol(\"image\") \\\n        .setKeepInput(True)\n    \n    # Run OCR\n    ocr = ImageToText() \\\n        .setInputCol(\"image\") \\\n        .setOutputCol(\"text\") \\\n        .setConfidenceThreshold(60) \\\n        .setIgnoreResolution(False) \\\n        .setPageSegMode(PageSegmentationMode.SPARSE_TEXT)\n    \n    # Render results to PDF\n    textToPdf = TextToPdf() \\\n        .setInputCol(\"positions\") \\\n        .setInputImage(\"image\") \\\n        .setOutputCol(\"pdf\")\n\n    pipeline = PipelineModel(stages=[\n        pdf_to_image,\n        ocr,\n        textToPdf\n    ])\n    \n    return pipeline"
   ],
   "metadata": {
    "application/vnd.databricks.v1+cell": {
     "showTitle": false,
     "cellMetadata": {
      "rowLimit": 10000,
      "byteLimit": 2048000
     },
     "nuid": "56db9246-b002-48af-831d-5df626685a07",
     "inputWidgets": {},
     "title": ""
    }
   },
   "outputs": [],
   "execution_count": null
  },
  {
   "cell_type": "code",
   "source": [
    "!wget -q https://raw.githubusercontent.com/JohnSnowLabs/spark-nlp-workshop/master/tutorials/Certification_Trainings/Healthcare/data/ocr/test_document.pdf\ndbutils.fs.cp(\"file:/databricks/driver/test_document.pdf\", \"dbfs:/\")"
   ],
   "metadata": {
    "application/vnd.databricks.v1+cell": {
     "showTitle": false,
     "cellMetadata": {
      "rowLimit": 10000,
      "byteLimit": 2048000
     },
     "nuid": "d4c5bf1f-b232-48b8-889a-8bbaa235b609",
     "inputWidgets": {},
     "title": ""
    }
   },
   "outputs": [],
   "execution_count": null
  },
  {
   "cell_type": "code",
   "source": [
    "pdf_example_df = spark.read.format(\"binaryFile\").load('/test_document.pdf').cache()\n"
   ],
   "metadata": {
    "application/vnd.databricks.v1+cell": {
     "showTitle": false,
     "cellMetadata": {
      "rowLimit": 10000,
      "byteLimit": 2048000
     },
     "nuid": "17f70de9-96f3-4d76-970c-345922a6d22f",
     "inputWidgets": {},
     "title": ""
    }
   },
   "outputs": [],
   "execution_count": null
  },
  {
   "cell_type": "code",
   "source": [
    "result = pipeline().transform(pdf_example_df).cache()"
   ],
   "metadata": {
    "application/vnd.databricks.v1+cell": {
     "showTitle": false,
     "cellMetadata": {
      "rowLimit": 10000,
      "byteLimit": 2048000
     },
     "nuid": "fa287d8c-265a-4478-b4a5-0ebce5e4f85e",
     "inputWidgets": {},
     "title": ""
    }
   },
   "outputs": [],
   "execution_count": null
  },
  {
   "cell_type": "code",
   "source": [
    "result.columns"
   ],
   "metadata": {
    "application/vnd.databricks.v1+cell": {
     "showTitle": false,
     "cellMetadata": {
      "rowLimit": 10000,
      "byteLimit": 2048000
     },
     "nuid": "b9806ea4-4029-4386-a212-f9274a30d372",
     "inputWidgets": {},
     "title": ""
    }
   },
   "outputs": [],
   "execution_count": null
  },
  {
   "cell_type": "code",
   "source": [
    "image_df = PdfToImage().transform(pdf_example_df).select(\"image\").collect()[0].image\n\nimg_pil = to_pil_image(image_df, image_df.mode)\n\nplt.figure(figsize=(24,16))\nplt.imshow(img_pil, cmap='gray')"
   ],
   "metadata": {
    "application/vnd.databricks.v1+cell": {
     "showTitle": false,
     "cellMetadata": {
      "rowLimit": 10000,
      "byteLimit": 2048000
     },
     "nuid": "0774d819-61ef-48fd-9c23-86fa1bb81c4b",
     "inputWidgets": {},
     "title": ""
    }
   },
   "outputs": [],
   "execution_count": null
  },
  {
   "cell_type": "code",
   "source": [
    "# Store results to pdf file\npdf = result.select(\"pdf\").head().pdf\n\npdfFile = open(\"result.pdf\", \"wb\")\n\npdfFile.write(pdf)\n\npdfFile.close()"
   ],
   "metadata": {
    "application/vnd.databricks.v1+cell": {
     "showTitle": false,
     "cellMetadata": {
      "rowLimit": 10000,
      "byteLimit": 2048000
     },
     "nuid": "66729f35-2931-4b7f-b84c-82f52dae7f8b",
     "inputWidgets": {},
     "title": ""
    }
   },
   "outputs": [],
   "execution_count": null
  },
  {
   "cell_type": "code",
   "source": [
    "# Convert pdf to image and display¶\n\nimage_df = PdfToImage() \\\n    .setInputCol(\"pdf\") \\\n    .setOutputCol(\"image\") \\\n    .transform(result.select(\"pdf\", \"path\"))\n\n    \nfor r in image_df.distinct().collect():\n      \n    print(\"Original: %s\" % r.path)\n    img = r.image\n    img_pil = to_pil_image(img, img.mode)\n\n    plt.figure(figsize=(24,16))\n    plt.imshow(img_pil, cmap='gray')\n"
   ],
   "metadata": {
    "application/vnd.databricks.v1+cell": {
     "showTitle": false,
     "cellMetadata": {
      "rowLimit": 10000,
      "byteLimit": 2048000
     },
     "nuid": "3e7da884-593a-4691-90e6-671eafa4ee0e",
     "inputWidgets": {},
     "title": ""
    }
   },
   "outputs": [],
   "execution_count": null
  },
  {
   "cell_type": "markdown",
   "source": [
    "# DICOM Image Deidentifier"
   ],
   "metadata": {
    "application/vnd.databricks.v1+cell": {
     "showTitle": false,
     "cellMetadata": {
      "rowLimit": 10000,
      "byteLimit": 2048000
     },
     "nuid": "91dc77f0-6d19-4e95-8b6d-d48bd4c69c64",
     "inputWidgets": {},
     "title": ""
    }
   }
  },
  {
   "cell_type": "markdown",
   "source": [
    "## Deidentification Pipeline"
   ],
   "metadata": {
    "application/vnd.databricks.v1+cell": {
     "showTitle": false,
     "cellMetadata": {
      "rowLimit": 10000,
      "byteLimit": 2048000
     },
     "nuid": "c83b16c6-a2c0-4d3c-9210-06d560aba84b",
     "inputWidgets": {},
     "title": ""
    }
   }
  },
  {
   "cell_type": "code",
   "source": [
    "from pyspark.ml import Pipeline\nfrom pyspark.sql import SparkSession\n\nfrom sparknlp.annotator import *\nfrom sparknlp_jsl.annotator import *\nfrom sparknlp.base import *\nimport sparknlp_jsl"
   ],
   "metadata": {
    "application/vnd.databricks.v1+cell": {
     "showTitle": false,
     "cellMetadata": {
      "rowLimit": 10000,
      "byteLimit": 2048000
     },
     "nuid": "e863ffef-2007-4b37-aff8-fffe06d2fefc",
     "inputWidgets": {},
     "title": ""
    }
   },
   "outputs": [],
   "execution_count": null
  },
  {
   "cell_type": "code",
   "source": [
    "def deidentification_nlp_pipeline(input_column, prefix = \"\"):\n    document_assembler = DocumentAssembler() \\\n        .setInputCol(input_column) \\\n        .setOutputCol(prefix + \"document\")\n\n    # Sentence Detector annotator, processes various sentences per line\n    sentence_detector = SentenceDetector() \\\n        .setInputCols([prefix + \"document\"]) \\\n        .setOutputCol(prefix + \"sentence\")\n\n    tokenizer = Tokenizer() \\\n        .setInputCols([prefix + \"sentence\"]) \\\n        .setOutputCol(prefix + \"token\")\n\n    # Clinical word embeddings\n    word_embeddings = WordEmbeddingsModel.pretrained(\"embeddings_clinical\", \"en\", \"clinical/models\") \\\n        .setInputCols([prefix + \"sentence\", prefix + \"token\"]) \\\n        .setOutputCol(prefix + \"embeddings\")\n    # NER model trained on i2b2 (sampled from MIMIC) dataset\n    clinical_ner = MedicalNerModel.pretrained(\"ner_deid_large\", \"en\", \"clinical/models\") \\\n        .setInputCols([prefix + \"sentence\", prefix + \"token\", prefix + \"embeddings\"]) \\\n        .setOutputCol(prefix + \"ner\")\n\n    custom_ner_converter = NerConverter() \\\n        .setInputCols([prefix + \"sentence\", prefix + \"token\", prefix + \"ner\"]) \\\n        .setOutputCol(prefix + \"ner_chunk\") \\\n        .setWhiteList(['NAME', 'AGE', 'CONTACT', 'LOCATION', 'PROFESSION', 'PERSON', 'DATE'])\n\n    nlp_pipeline = Pipeline(stages=[\n            document_assembler,\n            sentence_detector,\n            tokenizer,\n            word_embeddings,\n            clinical_ner,\n            custom_ner_converter\n        ])\n    empty_data = spark.createDataFrame([[\"\"]]).toDF(input_column)\n    nlp_model = nlp_pipeline.fit(empty_data)\n    return nlp_model"
   ],
   "metadata": {
    "application/vnd.databricks.v1+cell": {
     "showTitle": false,
     "cellMetadata": {
      "rowLimit": 10000,
      "byteLimit": 2048000
     },
     "nuid": "5cb8812f-5d0b-4162-a162-88989846fb75",
     "inputWidgets": {},
     "title": ""
    }
   },
   "outputs": [],
   "execution_count": null
  },
  {
   "cell_type": "markdown",
   "source": [
    "## Define OCR transformers and pipeline"
   ],
   "metadata": {
    "application/vnd.databricks.v1+cell": {
     "showTitle": false,
     "cellMetadata": {
      "rowLimit": 10000,
      "byteLimit": 2048000
     },
     "nuid": "24dae5c8-f2de-4f67-84e9-6cc86ef02e42",
     "inputWidgets": {},
     "title": ""
    }
   }
  },
  {
   "cell_type": "code",
   "source": [
    "# Convert to images\nbinary_to_image = BinaryToImage() \\\n    .setInputCol(\"content\") \\\n    .setOutputCol(\"image_raw\")\n\n# Extract text from image\nocr = ImageToText() \\\n    .setInputCol(\"image_raw\") \\\n    .setOutputCol(\"text\") \\\n    .setIgnoreResolution(False) \\\n    .setPageIteratorLevel(PageIteratorLevel.SYMBOL) \\\n    .setPageSegMode(PageSegmentationMode.SPARSE_TEXT) \\\n    .setConfidenceThreshold(70)\n\n# Found coordinates of sensitive data\nposition_finder = PositionFinder() \\\n    .setInputCols(\"ner_chunk\") \\\n    .setOutputCol(\"coordinates\") \\\n    .setPageMatrixCol(\"positions\") \\\n    .setMatchingWindow(1000) \\\n    .setPadding(1)\n\n# Draw filled rectangle for hide sensitive data\ndrawRegions = ImageDrawRegions()  \\\n    .setInputCol(\"image_raw\")  \\\n    .setInputRegionsCol(\"coordinates\")  \\\n    .setOutputCol(\"image_with_regions\")  \\\n    .setFilledRect(True) \\\n    .setRectColor(Color.gray)\n    \n\n# OCR pipeline\npipeline = Pipeline(stages=[\n    binary_to_image,\n    ocr,\n    deidentification_nlp_pipeline(input_column=\"text\"),\n    position_finder,\n    drawRegions\n])"
   ],
   "metadata": {
    "application/vnd.databricks.v1+cell": {
     "showTitle": false,
     "cellMetadata": {
      "rowLimit": 10000,
      "byteLimit": 2048000
     },
     "nuid": "27556e73-1dac-4404-9eae-08cfa0bedefe",
     "inputWidgets": {},
     "title": ""
    }
   },
   "outputs": [],
   "execution_count": null
  },
  {
   "cell_type": "markdown",
   "source": [
    "## Load Image"
   ],
   "metadata": {
    "application/vnd.databricks.v1+cell": {
     "showTitle": false,
     "cellMetadata": {
      "rowLimit": 10000,
      "byteLimit": 2048000
     },
     "nuid": "a2fe48de-afa0-4b1e-a975-b5aaed935e16",
     "inputWidgets": {},
     "title": ""
    }
   }
  },
  {
   "cell_type": "code",
   "source": [
    "import pkg_resources\nimage_fn = pkg_resources.resource_filename('sparkocr', 'resources/ocr/images/p1.jpg')\ndbfs_image_fn = \"dbfs:/p1.jpg\"\ndbutils.fs.cp(\"file:\" + image_fn, dbfs_image_fn)"
   ],
   "metadata": {
    "application/vnd.databricks.v1+cell": {
     "showTitle": false,
     "cellMetadata": {
      "rowLimit": 10000,
      "byteLimit": 2048000
     },
     "nuid": "c744ed65-c613-47a4-82f0-ba5eca4ed947",
     "inputWidgets": {},
     "title": ""
    }
   },
   "outputs": [],
   "execution_count": null
  },
  {
   "cell_type": "code",
   "source": [
    "image_df = spark.read.format(\"binaryFile\").load(dbfs_image_fn)"
   ],
   "metadata": {
    "application/vnd.databricks.v1+cell": {
     "showTitle": false,
     "cellMetadata": {
      "rowLimit": 10000,
      "byteLimit": 2048000
     },
     "nuid": "2c843d77-070e-41e1-b331-834a9a2fc3f0",
     "inputWidgets": {},
     "title": ""
    }
   },
   "outputs": [],
   "execution_count": null
  },
  {
   "cell_type": "markdown",
   "source": [
    "## Run Pipeline"
   ],
   "metadata": {
    "application/vnd.databricks.v1+cell": {
     "showTitle": false,
     "cellMetadata": {
      "rowLimit": 10000,
      "byteLimit": 2048000
     },
     "nuid": "ef3edec2-3367-4b50-874a-c753c247aacf",
     "inputWidgets": {},
     "title": ""
    }
   }
  },
  {
   "cell_type": "code",
   "source": [
    "result = pipeline.fit(image_df).transform(image_df).cache()"
   ],
   "metadata": {
    "application/vnd.databricks.v1+cell": {
     "showTitle": false,
     "cellMetadata": {
      "rowLimit": 10000,
      "byteLimit": 2048000
     },
     "nuid": "15ce4cf5-5330-4027-b3d9-49c704b67af8",
     "inputWidgets": {},
     "title": ""
    }
   },
   "outputs": [],
   "execution_count": null
  },
  {
   "cell_type": "code",
   "source": [
    "result.select('text').show(1, truncate=False)"
   ],
   "metadata": {
    "application/vnd.databricks.v1+cell": {
     "showTitle": false,
     "cellMetadata": {
      "rowLimit": 10000,
      "byteLimit": 2048000
     },
     "nuid": "37ce16d8-2394-40d4-b247-e2ecb8f922be",
     "inputWidgets": {},
     "title": ""
    }
   },
   "outputs": [],
   "execution_count": null
  },
  {
   "cell_type": "code",
   "source": [
    "# Chunks to hide\nresult.select('ner_chunk').show(2, False)"
   ],
   "metadata": {
    "application/vnd.databricks.v1+cell": {
     "showTitle": false,
     "cellMetadata": {
      "rowLimit": 10000,
      "byteLimit": 2048000
     },
     "nuid": "951a36a9-f404-4f3e-b54c-afb10dabe37e",
     "inputWidgets": {},
     "title": ""
    }
   },
   "outputs": [],
   "execution_count": null
  },
  {
   "cell_type": "code",
   "source": [
    "# Coordinates of Chunks to Hide\nresult.select('coordinates').show(2, False)"
   ],
   "metadata": {
    "application/vnd.databricks.v1+cell": {
     "showTitle": false,
     "cellMetadata": {
      "rowLimit": 10000,
      "byteLimit": 2048000
     },
     "nuid": "7b83d3bb-0922-4cc6-9a4a-40bf2ac46ebb",
     "inputWidgets": {},
     "title": ""
    }
   },
   "outputs": [],
   "execution_count": null
  },
  {
   "cell_type": "markdown",
   "source": [
    "## Show original and deidentified images"
   ],
   "metadata": {
    "application/vnd.databricks.v1+cell": {
     "showTitle": false,
     "cellMetadata": {
      "rowLimit": 10000,
      "byteLimit": 2048000
     },
     "nuid": "be80f97c-a892-46b3-985a-2c7c346c675c",
     "inputWidgets": {},
     "title": ""
    }
   }
  },
  {
   "cell_type": "code",
   "source": [
    "for r in result.select(\"image_raw\", \"image_with_regions\").collect():\n    img_orig = r.image_raw\n    img_deid = r.image_with_regions\n\n    img_pil_orig = to_pil_image(img_orig, img_orig.mode)\n    img_pil_deid = to_pil_image(img_deid, img_deid.mode)\n\n    plt.figure(figsize=(24,16))\n    plt.subplot(1, 2, 1)\n    plt.imshow(img_pil_orig, cmap='gray')\n    plt.title('original')\n    plt.subplot(1, 2, 2)\n    plt.imshow(img_pil_deid, cmap='gray')\n    plt.title(\"de-id'd\")\n    plt.show()"
   ],
   "metadata": {
    "application/vnd.databricks.v1+cell": {
     "showTitle": false,
     "cellMetadata": {
      "rowLimit": 10000,
      "byteLimit": 2048000
     },
     "nuid": "018ff44c-ee0c-4811-a0d7-12950f9909be",
     "inputWidgets": {},
     "title": ""
    }
   },
   "outputs": [],
   "execution_count": null
  },
  {
   "cell_type": "markdown",
   "source": [
    "# Dicom to Image"
   ],
   "metadata": {
    "application/vnd.databricks.v1+cell": {
     "showTitle": false,
     "cellMetadata": {
      "rowLimit": 10000,
      "byteLimit": 2048000
     },
     "nuid": "0051170c-57a4-4bf8-92d1-72279a5c294b",
     "inputWidgets": {},
     "title": ""
    }
   }
  },
  {
   "cell_type": "code",
   "source": [
    "! mkdir dicom\n! wget -q https://raw.githubusercontent.com/JohnSnowLabs/spark-ocr-workshop/master/jupyter/data/dicom/deidentify-brains-front-medical-3.dcm -O /databricks/driver/dicom/dicom_1.dcm\n! wget -q https://raw.githubusercontent.com/JohnSnowLabs/spark-ocr-workshop/master/jupyter/data/dicom/deidentify-medical-1.dcm  -O /databricks/driver/dicom/dicom_2.dcm\n! wget -q https://raw.githubusercontent.com/JohnSnowLabs/spark-ocr-workshop/master/jupyter/data/dicom/deidentify-medical-2.dcm  -O /databricks/driver/dicom/dicom_3.dcm\n  \ndbutils.fs.cp(\"file:/databricks/driver/dicom/dicom_1.dcm\", \"dbfs:/\", True)  \ndbutils.fs.cp(\"file:/databricks/driver/dicom/dicom_2.dcm\", \"dbfs:/\", True)  \ndbutils.fs.cp(\"file:/databricks/driver/dicom/dicom_3.dcm\", \"dbfs:/\", True)  \n"
   ],
   "metadata": {
    "application/vnd.databricks.v1+cell": {
     "showTitle": false,
     "cellMetadata": {
      "rowLimit": 10000,
      "byteLimit": 2048000
     },
     "nuid": "8a241559-5f94-4c6a-9ae2-84797659ac8e",
     "inputWidgets": {},
     "title": ""
    }
   },
   "outputs": [],
   "execution_count": null
  },
  {
   "cell_type": "code",
   "source": [
    "dicom_path = 'dbfs:/*.dcm'\n\n# Read dicom file as binary file\ndicom_df = spark.read.format(\"binaryFile\").load(dicom_path)"
   ],
   "metadata": {
    "application/vnd.databricks.v1+cell": {
     "showTitle": false,
     "cellMetadata": {
      "rowLimit": 10000,
      "byteLimit": 2048000
     },
     "nuid": "7f0b2a3c-4ffe-492b-8010-8a6d31e284ce",
     "inputWidgets": {},
     "title": ""
    }
   },
   "outputs": [],
   "execution_count": null
  },
  {
   "cell_type": "code",
   "source": [
    "dicomToImage = DicomToImage() \\\n  .setInputCol(\"content\") \\\n  .setOutputCol(\"image\") \\\n  .setMetadataCol(\"meta\")\n\ndata = dicomToImage.transform(dicom_df)\n\nfor r in data.collect():\n    img = r.image\n    img_pil = to_pil_image(img, img.mode)\n    plt.figure(figsize=(24,16))\n    plt.subplot(1, 2, 1)\n    plt.imshow(img_pil, cmap='gray')"
   ],
   "metadata": {
    "application/vnd.databricks.v1+cell": {
     "showTitle": false,
     "cellMetadata": {
      "rowLimit": 10000,
      "byteLimit": 2048000
     },
     "nuid": "1aa612d3-1062-4b49-b287-51dda8ab0157",
     "inputWidgets": {},
     "title": ""
    }
   },
   "outputs": [],
   "execution_count": null
  },
  {
   "cell_type": "code",
   "source": [
    "# Extract text from image\nocr = ImageToText() \\\n    .setInputCol(\"image\") \\\n    .setOutputCol(\"text\") \\\n    .setIgnoreResolution(False) \\\n    .setOcrParams([\"preserve_interword_spaces=0\"])\n\n\nprint(\"\\n\".join([row.text for row in ocr.transform(data).select(\"text\").collect()]))\n"
   ],
   "metadata": {
    "application/vnd.databricks.v1+cell": {
     "showTitle": false,
     "cellMetadata": {
      "rowLimit": 10000,
      "byteLimit": 2048000
     },
     "nuid": "ae1ca6e2-007b-46bb-bf49-68486ab3b0c2",
     "inputWidgets": {},
     "title": ""
    }
   },
   "outputs": [],
   "execution_count": null
  },
  {
   "cell_type": "markdown",
   "source": [
    "## Deidentify PHI on DICOM"
   ],
   "metadata": {
    "application/vnd.databricks.v1+cell": {
     "showTitle": false,
     "cellMetadata": {
      "rowLimit": 10000,
      "byteLimit": 2048000
     },
     "nuid": "7cf9bdf5-f090-437c-b0fe-8a58e4d4f86c",
     "inputWidgets": {},
     "title": ""
    }
   }
  },
  {
   "cell_type": "markdown",
   "source": [
    "https://github.com/JohnSnowLabs/spark-ocr-workshop/blob/master/jupyter/SparkOcrDicomDeIdentification.ipynb"
   ],
   "metadata": {
    "application/vnd.databricks.v1+cell": {
     "showTitle": false,
     "cellMetadata": {
      "rowLimit": 10000,
      "byteLimit": 2048000
     },
     "nuid": "b73f2bb9-d22c-467b-bd2d-1a30f23aed5a",
     "inputWidgets": {},
     "title": ""
    }
   }
  },
  {
   "cell_type": "markdown",
   "source": [
    "## More example here\n\nhttps://github.com/JohnSnowLabs/spark-ocr-workshop"
   ],
   "metadata": {
    "application/vnd.databricks.v1+cell": {
     "showTitle": false,
     "cellMetadata": {
      "rowLimit": 10000,
      "byteLimit": 2048000
     },
     "nuid": "470f23a4-27a7-4e61-88d1-8e9497370c4b",
     "inputWidgets": {},
     "title": ""
    }
   }
  },
  {
   "cell_type": "code",
   "source": [
    ""
   ],
   "metadata": {
    "application/vnd.databricks.v1+cell": {
     "showTitle": false,
     "cellMetadata": {
      "rowLimit": 10000,
      "byteLimit": 2048000
     },
     "nuid": "d7a12742-410d-43c9-896b-2b175f8686cf",
     "inputWidgets": {},
     "title": ""
    }
   },
   "outputs": [],
   "execution_count": null
  }
 ],
 "metadata": {
  "kernelspec": {
   "display_name": "Python 3",
   "language": "python",
   "name": "python3"
  },
  "language_info": {
   "mimetype": "text/x-python",
   "name": "python",
   "pygments_lexer": "ipython3",
   "codemirror_mode": {
    "name": "ipython",
    "version": 3
   },
   "version": "3.8.3",
   "nbconvert_exporter": "python",
   "file_extension": ".py"
  },
  "application/vnd.databricks.v1+notebook": {
   "notebookName": "2. Advanced Image Processing and Text Recognition with Spark OCR",
   "dashboards": [],
   "notebookMetadata": {
    "pythonIndentUnit": 2
   },
   "language": "python",
   "widgets": {},
   "notebookOrigID": 2985969786237358
  }
 },
 "nbformat": 4,
 "nbformat_minor": 0
}
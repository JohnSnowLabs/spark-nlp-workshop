{
 "cells": [
  {
   "cell_type": "markdown",
   "metadata": {
    "application/vnd.databricks.v1+cell": {
     "cellMetadata": {},
     "inputWidgets": {},
     "nuid": "abbbf9d4-d76c-4ad9-a501-f311777b6684",
     "showTitle": false,
     "tableResultSettingsMap": {},
     "title": ""
    }
   },
   "source": [
    "# jsl-llm-containerized-lib\n",
    "\n",
    "A containerized library for LLM so that JSL's LLMs can be used in a containerized environment with ease by simply importing classes and functions from this library.\n",
    "\n",
    "\n",
    "## \n",
    "\n",
    "\n",
    "\n",
    "### 1. Configure the cluster\n",
    "\n",
    "In databricks, go to cluster configuration and add the image name and tag.\n",
    "Also need to add the environment variables with following:\n",
    "\n",
    "- Go to Compute -> Configuration -> Advenced -> Spark -> Environment variables, and set your license variable\n",
    "```\n",
    "SPARK_NLP_LICENSE=eyXXXX......\n",
    "```\n",
    "\n",
    "- Go to Compute -> Configuration -> Advenced -> Docker\n",
    "```\n",
    "Docker Image URL: docker.io/johnsnowlabs/dockerized-applications-healthcare:dbr-llm-test-201\n",
    "Authentication: Username and password\n",
    "UserName: <docker hub user name>\n",
    "Password: <docker hub user password>\n",
    "```\n",
    "\n",
    "### 2. Run the notebook\n",
    "Run the notebook using this cluster. Add the following in the first cell of the notebook\n",
    "\n",
    "```python\n",
    "# this section only need for DataBricks \n",
    "import sys\n",
    "import runpy\n",
    "sys.path.extend([\"/\", \"/usr/local/lib/python3.10/site-packages\"])\n",
    "runpy.run_path(\"/usr/local/lib/python3.10/site-packages/sitecustomize.py\")\n",
    "```\n",
    "\n",
    "### 3. Model List\n",
    "\n",
    "|model_name             | model_type | test      |\n",
    "|-----------------------|------------|-----------|\n",
    "| jsl_meds_4b           | text only  | available |\n",
    "| jsl_meds_8b           | text only  | available |\n",
    "| jsl_medm_14b          | text only  | available |\n",
    "| jsl_meds_vl_3b        | vision     | available |\n",
    "| jsl_meds_vl_7b        | vision     | available |\n",
    "| jsl_meds_vl_4b        | vision     | will be available |\n",
    "| jsl_meds_vl_8b        | vision     | will be available |\n",
    "| jsl_medm_vl_30b       | vision     | available |\n",
    "| jsl_meds_reasoning_8b | reasoning  | available |\n",
    "| jsl_medm_reasoning_32b| reasoning  | available |\n",
    "\n",
    "### 4. Model Usacase\n",
    "\n",
    "#### Text Only Models\n",
    "\n",
    "```python\n",
    "from jsl_llm_lib.jsl_llm import JslLlm\n",
    "llm = JslLlm()\n",
    "llm.load_model(llm_name=\"jsl_meds_4b\")\n",
    "\n",
    "text = \"\"\"Climate change refers to long-term shifts in temperatures and weather patterns. These shifts may be natural, but since the 1800s, human activities have been the main driver, primarily due to burning fossil fuels like coal, oil, and gas. Burning these materials releases greenhouse gases, which trap the sun’s heat and raise global temperatures. Consequences include rising sea levels, more extreme weather events, and disruptions to food and water supply. Addressing climate change requires global cooperation to reduce emissions, transition to renewable energy sources, and implement sustainable practices across various sectors.\"\"\"\n",
    "\n",
    "prompt = f\"\"\"You are a **summarization system**.\n",
    "### Instruction:\n",
    "You will be given a long piece of text. Summarize it into a **short version that is no more than 30–40% of the original length**.\n",
    "\n",
    "### Text:\n",
    "{text}\n",
    "\n",
    "### Response:\n",
    "\"\"\"\n",
    "\n",
    "result = llm.get_prediction(prompt=prompt)\n",
    "print(\"Result:\",f\"{result}\")\n",
    "```\n",
    "\n",
    "#### Reasoning Models\n",
    "\n",
    "```python\n",
    "from jsl_llm_lib.jsl_llm import JslLlm\n",
    "llm = JslLlm()\n",
    "llm.load_model(llm_name=\"jsl_meds_reasoning_8b\")\n",
    "\n",
    " text = \"\"\"Climate change refers to long-term shifts in temperatures and weather patterns. These shifts may be natural, but since the 1800s, human activities have been the main driver, primarily due to burning fossil fuels like coal, oil, and gas. Burning these materials releases greenhouse gases, which trap the sun’s heat and raise global temperatures. Consequences include rising sea levels, more extreme weather events, and disruptions to food and water supply. Addressing climate change requires global cooperation to reduce emissions, transition to renewable energy sources, and implement sustainable practices across various sectors.\"\"\"\n",
    "\n",
    "prompt = f\"\"\"You are a **summarization system**.\n",
    "### Instruction:\n",
    "You will be given a long piece of text. Summarize it into a **short version that is no more than 30–40% of the original length**.\n",
    "\n",
    "### Text:\n",
    "{text}\n",
    "\n",
    "### Response:\n",
    "\"\"\"\n",
    "\n",
    "result = llm.get_prediction(prompt=prompt, thinking = True)\n",
    "print(\"Result:\",f\"{result}\")\n",
    "```\n",
    "\n",
    "\n",
    "#### Vision Models\n",
    "\n",
    "```python\n",
    "from jsl_llm_lib.jsl_llm import JslLlm\n",
    "llm = JslLlm()\n",
    "llm.load_model(llm_name=\"jsl_meds_vl_3b\")\n",
    "\n",
    "images_dir = \"images\"\n",
    "os.makedirs(images_dir, exist_ok=True)\n",
    "os.system(f\"wget -O {images_dir}/prescription.png  -q \\\"https://raw.githubusercontent.com/JohnSnowLabs/spark-nlp-workshop/master/healthcare-nlp/data/ocr/prescription_02.png\\\"\")\n",
    "\n",
    "image_path = os.path.join(images_dir, \"prescription.png\")\n",
    "\n",
    "prompt = \"\"\"Extract demographic, clinical disease and medication informations\"\"\"\n",
    "\n",
    "result = llm.get_prediction(prompt=prompt, image_path=image_path)\n",
    "\n",
    "print(\"Result:\",f\"{result}\")\n",
    "```"
   ]
  },
  {
   "cell_type": "code",
   "execution_count": 0,
   "metadata": {
    "application/vnd.databricks.v1+cell": {
     "cellMetadata": {},
     "inputWidgets": {},
     "nuid": "f24001e3-4b3f-48e0-90c7-e70c3d808f91",
     "showTitle": false,
     "tableResultSettingsMap": {},
     "title": ""
    }
   },
   "outputs": [],
   "source": [
    "\n"
   ]
  },
  {
   "cell_type": "markdown",
   "metadata": {
    "application/vnd.databricks.v1+cell": {
     "cellMetadata": {},
     "inputWidgets": {},
     "nuid": "4e808849-cd74-4d65-beaa-a2f43a97e085",
     "showTitle": false,
     "tableResultSettingsMap": {},
     "title": ""
    }
   },
   "source": [
    "## Setup"
   ]
  },
  {
   "cell_type": "code",
   "execution_count": 0,
   "metadata": {
    "application/vnd.databricks.v1+cell": {
     "cellMetadata": {
      "byteLimit": 2048000,
      "rowLimit": 10000
     },
     "inputWidgets": {},
     "nuid": "e5a11e48-cd2c-417e-950c-974227bcc757",
     "showTitle": false,
     "tableResultSettingsMap": {},
     "title": ""
    }
   },
   "outputs": [
    {
     "output_type": "stream",
     "name": "stdout",
     "output_type": "stream",
     "text": [
      ".\n..\nAttempt 1: JSL's containerized environment for the LLM library is ready to use!\n\n\n"
     ]
    },
    {
     "output_type": "execute_result",
     "data": {
      "text/plain": [
       "{'__name__': '<run_path>',\n",
       " '__doc__': None,\n",
       " '__package__': '',\n",
       " '__loader__': None,\n",
       " '__spec__': None,\n",
       " '__file__': '/usr/local/lib/python3.10/site-packages/sitecustomize.py',\n",
       " '__cached__': None,\n",
       " '__builtins__': {'__name__': 'builtins',\n",
       "  '__doc__': \"Built-in functions, exceptions, and other objects.\\n\\nNoteworthy: None is the `nil' object; Ellipsis represents `...' in slices.\",\n",
       "  '__package__': '',\n",
       "  '__loader__': _frozen_importlib.BuiltinImporter,\n",
       "  '__spec__': ModuleSpec(name='builtins', loader=<class '_frozen_importlib.BuiltinImporter'>, origin='built-in'),\n",
       "  '__build_class__': <function __build_class__>,\n",
       "  '__import__': <function __import__>,\n",
       "  'abs': <function abs(x, /)>,\n",
       "  'all': <function all(iterable, /)>,\n",
       "  'any': <function any(iterable, /)>,\n",
       "  'ascii': <function ascii(obj, /)>,\n",
       "  'bin': <function bin(number, /)>,\n",
       "  'breakpoint': <function breakpoint>,\n",
       "  'callable': <function callable(obj, /)>,\n",
       "  'chr': <function chr(i, /)>,\n",
       "  'compile': <function compile(source, filename, mode, flags=0, dont_inherit=False, optimize=-1, *, _feature_version=-1)>,\n",
       "  'delattr': <function delattr(obj, name, /)>,\n",
       "  'dir': <function dir>,\n",
       "  'divmod': <function divmod(x, y, /)>,\n",
       "  'eval': <function eval(source, globals=None, locals=None, /)>,\n",
       "  'exec': <function exec(source, globals=None, locals=None, /)>,\n",
       "  'format': <function format(value, format_spec='', /)>,\n",
       "  'getattr': <function getattr>,\n",
       "  'globals': <function globals()>,\n",
       "  'hasattr': <function hasattr(obj, name, /)>,\n",
       "  'hash': <function hash(obj, /)>,\n",
       "  'hex': <function hex(number, /)>,\n",
       "  'id': <function id(obj, /)>,\n",
       "  'input': <bound method Kernel.raw_input of <dbruntime.DatabricksShell.DatabricksKernel object at 0x7f2ab1f74ca0>>,\n",
       "  'isinstance': <function isinstance(obj, class_or_tuple, /)>,\n",
       "  'issubclass': <function issubclass(cls, class_or_tuple, /)>,\n",
       "  'iter': <function iter>,\n",
       "  'aiter': <function aiter(async_iterable, /)>,\n",
       "  'len': <function len(obj, /)>,\n",
       "  'locals': <function locals()>,\n",
       "  'max': <function max>,\n",
       "  'min': <function min>,\n",
       "  'next': <function next>,\n",
       "  'anext': <function anext>,\n",
       "  'oct': <function oct(number, /)>,\n",
       "  'ord': <function ord(c, /)>,\n",
       "  'pow': <function pow(base, exp, mod=None)>,\n",
       "  'print': <function print>,\n",
       "  'repr': <function repr(obj, /)>,\n",
       "  'round': <function round(number, ndigits=None)>,\n",
       "  'setattr': <function setattr(obj, name, value, /)>,\n",
       "  'sorted': <function sorted(iterable, /, *, key=None, reverse=False)>,\n",
       "  'sum': <function sum(iterable, /, start=0)>,\n",
       "  'vars': <function vars>,\n",
       "  'None': None,\n",
       "  'Ellipsis': Ellipsis,\n",
       "  'NotImplemented': NotImplemented,\n",
       "  'False': False,\n",
       "  'True': True,\n",
       "  'bool': bool,\n",
       "  'memoryview': memoryview,\n",
       "  'bytearray': bytearray,\n",
       "  'bytes': bytes,\n",
       "  'classmethod': classmethod,\n",
       "  'complex': complex,\n",
       "  'dict': dict,\n",
       "  'enumerate': enumerate,\n",
       "  'filter': filter,\n",
       "  'float': float,\n",
       "  'frozenset': frozenset,\n",
       "  'property': property,\n",
       "  'int': int,\n",
       "  'list': list,\n",
       "  'map': map,\n",
       "  'object': object,\n",
       "  'range': range,\n",
       "  'reversed': reversed,\n",
       "  'set': set,\n",
       "  'slice': slice,\n",
       "  'staticmethod': staticmethod,\n",
       "  'str': str,\n",
       "  'super': super,\n",
       "  'tuple': tuple,\n",
       "  'type': type,\n",
       "  'zip': zip,\n",
       "  '__debug__': True,\n",
       "  'BaseException': BaseException,\n",
       "  'Exception': Exception,\n",
       "  'TypeError': TypeError,\n",
       "  'StopAsyncIteration': StopAsyncIteration,\n",
       "  'StopIteration': StopIteration,\n",
       "  'GeneratorExit': GeneratorExit,\n",
       "  'SystemExit': SystemExit,\n",
       "  'KeyboardInterrupt': KeyboardInterrupt,\n",
       "  'ImportError': ImportError,\n",
       "  'ModuleNotFoundError': ModuleNotFoundError,\n",
       "  'OSError': OSError,\n",
       "  'EnvironmentError': OSError,\n",
       "  'IOError': OSError,\n",
       "  'EOFError': EOFError,\n",
       "  'RuntimeError': RuntimeError,\n",
       "  'RecursionError': RecursionError,\n",
       "  'NotImplementedError': NotImplementedError,\n",
       "  'NameError': NameError,\n",
       "  'UnboundLocalError': UnboundLocalError,\n",
       "  'AttributeError': AttributeError,\n",
       "  'SyntaxError': SyntaxError,\n",
       "  'IndentationError': IndentationError,\n",
       "  'TabError': TabError,\n",
       "  'LookupError': LookupError,\n",
       "  'IndexError': IndexError,\n",
       "  'KeyError': KeyError,\n",
       "  'ValueError': ValueError,\n",
       "  'UnicodeError': UnicodeError,\n",
       "  'UnicodeEncodeError': UnicodeEncodeError,\n",
       "  'UnicodeDecodeError': UnicodeDecodeError,\n",
       "  'UnicodeTranslateError': UnicodeTranslateError,\n",
       "  'AssertionError': AssertionError,\n",
       "  'ArithmeticError': ArithmeticError,\n",
       "  'FloatingPointError': FloatingPointError,\n",
       "  'OverflowError': OverflowError,\n",
       "  'ZeroDivisionError': ZeroDivisionError,\n",
       "  'SystemError': SystemError,\n",
       "  'ReferenceError': ReferenceError,\n",
       "  'MemoryError': MemoryError,\n",
       "  'BufferError': BufferError,\n",
       "  'Warning': Warning,\n",
       "  'UserWarning': UserWarning,\n",
       "  'EncodingWarning': EncodingWarning,\n",
       "  'DeprecationWarning': DeprecationWarning,\n",
       "  'PendingDeprecationWarning': PendingDeprecationWarning,\n",
       "  'SyntaxWarning': SyntaxWarning,\n",
       "  'RuntimeWarning': RuntimeWarning,\n",
       "  'FutureWarning': FutureWarning,\n",
       "  'ImportWarning': ImportWarning,\n",
       "  'UnicodeWarning': UnicodeWarning,\n",
       "  'BytesWarning': BytesWarning,\n",
       "  'ResourceWarning': ResourceWarning,\n",
       "  'ConnectionError': ConnectionError,\n",
       "  'BlockingIOError': BlockingIOError,\n",
       "  'BrokenPipeError': BrokenPipeError,\n",
       "  'ChildProcessError': ChildProcessError,\n",
       "  'ConnectionAbortedError': ConnectionAbortedError,\n",
       "  'ConnectionRefusedError': ConnectionRefusedError,\n",
       "  'ConnectionResetError': ConnectionResetError,\n",
       "  'FileExistsError': FileExistsError,\n",
       "  'FileNotFoundError': FileNotFoundError,\n",
       "  'IsADirectoryError': IsADirectoryError,\n",
       "  'NotADirectoryError': NotADirectoryError,\n",
       "  'InterruptedError': InterruptedError,\n",
       "  'PermissionError': PermissionError,\n",
       "  'ProcessLookupError': ProcessLookupError,\n",
       "  'TimeoutError': TimeoutError,\n",
       "  'open': <function io.open(file, mode='r', buffering=-1, encoding=None, errors=None, newline=None, closefd=True, opener=None)>,\n",
       "  'copyright': Copyright (c) 2001-2023 Python Software Foundation.\n",
       "  All Rights Reserved.\n",
       "  \n",
       "  Copyright (c) 2000 BeOpen.com.\n",
       "  All Rights Reserved.\n",
       "  \n",
       "  Copyright (c) 1995-2001 Corporation for National Research Initiatives.\n",
       "  All Rights Reserved.\n",
       "  \n",
       "  Copyright (c) 1991-1995 Stichting Mathematisch Centrum, Amsterdam.\n",
       "  All Rights Reserved.,\n",
       "  'credits':     Thanks to CWI, CNRI, BeOpen.com, Zope Corporation and a cast of thousands\n",
       "      for supporting Python development.  See www.python.org for more information.,\n",
       "  'license': Type license() to see the full license text,\n",
       "  'help': Type help() for interactive help, or help(object) for help about object.,\n",
       "  'execfile': <function _pydev_bundle._pydev_execfile.execfile(file, glob=None, loc=None)>,\n",
       "  'runfile': <function _pydev_bundle.pydev_umd.runfile(filename, args=None, wdir=None, namespace=None)>,\n",
       "  '__IPYTHON__': True,\n",
       "  'display': <function IPython.core.display_functions.display(*objs, include=None, exclude=None, metadata=None, transient=None, display_id=None, raw=False, clear=False, **kwargs)>,\n",
       "  'get_ipython': <bound method InteractiveShell.get_ipython of <dbruntime.DatabricksShell.DatabricksShell object at 0x7f2ab1f75210>>},\n",
       " 'os': <module 'os' from '/usr/lib/python3.10/os.py'>,\n",
       " 'sys': <module 'sys' (built-in)>,\n",
       " 'time': <module 'time' (built-in)>,\n",
       " 'current_path': '/Workspace/Users/cabir@johnsnowlabs.com/customer_test',\n",
       " 'py_package_path': '/usr/local/lib/python3.10',\n",
       " 'py_package_full_path': '/usr/local/lib/python3.10/site-packages',\n",
       " 'app_start': <function jsl_i.jsl_i.start()>}"
      ]
     },
     "execution_count": 1,
     "metadata": {},
     "output_type": "execute_result"
    }
   ],
   "source": [
    "import sys\n",
    "import runpy\n",
    "sys.path.extend([\"/\", \"/usr/local/lib/python3.10/site-packages\"])\n",
    "runpy.run_path(\"/usr/local/lib/python3.10/site-packages/sitecustomize.py\")"
   ]
  },
  {
   "cell_type": "markdown",
   "metadata": {
    "application/vnd.databricks.v1+cell": {
     "cellMetadata": {},
     "inputWidgets": {},
     "nuid": "adc38a1b-c3e7-4954-b595-047821d9a0f3",
     "showTitle": false,
     "tableResultSettingsMap": {},
     "title": ""
    }
   },
   "source": [
    "## Text Only Models"
   ]
  },
  {
   "cell_type": "code",
   "execution_count": 0,
   "metadata": {
    "application/vnd.databricks.v1+cell": {
     "cellMetadata": {
      "byteLimit": 2048000,
      "rowLimit": 10000
     },
     "inputWidgets": {},
     "nuid": "7aae7939-7e1e-41a6-8128-6e15d85374b4",
     "showTitle": false,
     "tableResultSettingsMap": {},
     "title": ""
    }
   },
   "outputs": [],
   "source": [
    "from jsl_llm_lib.jsl_llm import JslLlm\n",
    "llm = JslLlm()\n",
    "llm.load_model(llm_name=\"jsl_meds_4b\")\n",
    "\n"
   ]
  },
  {
   "cell_type": "code",
   "execution_count": 0,
   "metadata": {
    "application/vnd.databricks.v1+cell": {
     "cellMetadata": {
      "byteLimit": 2048000,
      "rowLimit": 10000
     },
     "inputWidgets": {},
     "nuid": "29efb891-d96f-4a07-adff-704a453e0b02",
     "showTitle": false,
     "tableResultSettingsMap": {},
     "title": ""
    }
   },
   "outputs": [
    {
     "output_type": "stream",
     "name": "stdout",
     "output_type": "stream",
     "text": [
      "2025-10-28 19:21:23 | DEBUG | beat.\n2025-10-28 19:21:23 | INFO | ^\n"
     ]
    },
    {
     "output_type": "stream",
     "name": "stderr",
     "output_type": "stream",
     "text": [
      "\rAdding requests:   0%|          | 0/1 [00:00<?, ?it/s]\rAdding requests: 100%|██████████| 1/1 [00:00<00:00, 2922.86it/s]\n\rProcessed prompts:   0%|          | 0/1 [00:00<?, ?it/s, est. speed input: 0.00 toks/s, output: 0.00 toks/s]\rProcessed prompts: 100%|██████████| 1/1 [00:00<00:00,  3.01it/s, est. speed input: 699.23 toks/s, output: 186.85 toks/s]\rProcessed prompts: 100%|██████████| 1/1 [00:00<00:00,  3.01it/s, est. speed input: 699.23 toks/s, output: 186.85 toks/s]\rProcessed prompts: 100%|██████████| 1/1 [00:00<00:00,  3.00it/s, est. speed input: 699.23 toks/s, output: 186.85 toks/s]"
     ]
    },
    {
     "output_type": "stream",
     "name": "stdout",
     "output_type": "stream",
     "text": [
      "Result: Climate change, driven mainly by human activities since the 1800s—especially fossil fuel burning—has increased greenhouse gas levels, trapping heat and causing rising temperatures, extreme weather, and disruptions to resources. Solutions require global efforts to cut emissions, shift to renewable energy, and adopt sustainable practices.\n"
     ]
    },
    {
     "output_type": "stream",
     "name": "stderr",
     "output_type": "stream",
     "text": [
      "\n"
     ]
    }
   ],
   "source": [
    "text = \"\"\"Climate change refers to long-term shifts in temperatures and weather patterns. These shifts may be natural, but since the 1800s, human activities have been the main driver, primarily due to burning fossil fuels like coal, oil, and gas. Burning these materials releases greenhouse gases, which trap the sun’s heat and raise global temperatures. Consequences include rising sea levels, more extreme weather events, and disruptions to food and water supply. Addressing climate change requires global cooperation to reduce emissions, transition to renewable energy sources, and implement sustainable practices across various sectors.\"\"\"\n",
    "\n",
    "prompt = f\"\"\"You are a **summarization system**.\n",
    "### Instruction:\n",
    "You will be given a long piece of text. Summarize it into a **short version that is no more than 30–40% of the original length**.\n",
    "\n",
    "### Text:\n",
    "{text}\n",
    "\n",
    "### Response:\n",
    "\"\"\"\n",
    "\n",
    "result = llm.get_prediction(prompt=prompt)\n",
    "print(\"Result:\",f\"{result}\")"
   ]
  },
  {
   "cell_type": "markdown",
   "metadata": {
    "application/vnd.databricks.v1+cell": {
     "cellMetadata": {},
     "inputWidgets": {},
     "nuid": "f4258350-d97e-4b3b-bf45-dc11044ab8ed",
     "showTitle": false,
     "tableResultSettingsMap": {},
     "title": ""
    }
   },
   "source": [
    "## Reasoning Models\n"
   ]
  },
  {
   "cell_type": "code",
   "execution_count": 0,
   "metadata": {
    "application/vnd.databricks.v1+cell": {
     "cellMetadata": {
      "byteLimit": 2048000,
      "rowLimit": 10000
     },
     "inputWidgets": {},
     "nuid": "0ced07f2-9b2e-4483-a22a-6826e8d50cd7",
     "showTitle": false,
     "tableResultSettingsMap": {},
     "title": ""
    }
   },
   "outputs": [],
   "source": [
    "from jsl_llm_lib.jsl_llm import JslLlm\n",
    "llm = JslLlm()\n",
    "llm.load_model(llm_name=\"jsl_meds_reasoning_8b\")"
   ]
  },
  {
   "cell_type": "code",
   "execution_count": 0,
   "metadata": {
    "application/vnd.databricks.v1+cell": {
     "cellMetadata": {
      "byteLimit": 2048000,
      "rowLimit": 10000
     },
     "inputWidgets": {},
     "nuid": "eaae6030-aa82-46dd-bb63-f71c219ca1b8",
     "showTitle": false,
     "tableResultSettingsMap": {},
     "title": ""
    }
   },
   "outputs": [
    {
     "output_type": "stream",
     "name": "stdout",
     "output_type": "stream",
     "text": [
      "2025-10-28 19:34:02 | DEBUG | beat.\n2025-10-28 19:34:02 | INFO | ^\n"
     ]
    },
    {
     "output_type": "stream",
     "name": "stderr",
     "output_type": "stream",
     "text": [
      "\rAdding requests:   0%|          | 0/1 [00:00<?, ?it/s]\rAdding requests: 100%|██████████| 1/1 [00:00<00:00, 1709.17it/s]\n\rProcessed prompts:   0%|          | 0/1 [00:00<?, ?it/s, est. speed input: 0.00 toks/s, output: 0.00 toks/s]\rProcessed prompts: 100%|██████████| 1/1 [00:05<00:00,  5.02s/it, est. speed input: 44.61 toks/s, output: 138.21 toks/s]\rProcessed prompts: 100%|██████████| 1/1 [00:05<00:00,  5.02s/it, est. speed input: 44.61 toks/s, output: 138.21 toks/s]\rProcessed prompts: 100%|██████████| 1/1 [00:05<00:00,  5.02s/it, est. speed input: 44.61 toks/s, output: 138.21 toks/s]"
     ]
    },
    {
     "output_type": "stream",
     "name": "stdout",
     "output_type": "stream",
     "text": [
      "Result: <think>\nOkay, I need to summarize the given text into a shorter version, no more than 30-40% of the original length. Let me read through the original text first to understand the key points.\n\nThe text starts by defining climate change as long-term shifts in temperatures and weather patterns. It mentions that while these shifts can be natural, human activities since the 1800s, especially burning fossil fuels, are the main driver. Burning fossil fuels releases greenhouse gases, which trap heat and raise global temperatures. The consequences listed are rising sea levels, extreme weather events, and disruptions to food and water supply. The solution proposed is global cooperation to reduce emissions, transition to renewable energy, and implement sustainable practices.\n\nNow, I need to condense this. Let me identify the main elements: definition, human cause (fossil fuels), mechanism (greenhouse gases), effects, and solutions. The summary should include these points concisely.\n\nOriginal text is about 120 words. The summary should be around 36-48 words. Let me start with the definition: \"Climate change involves long-term shifts in temperature and weather patterns.\" Then mention human activities as the main driver since the 1800s, specifically burning fossil fuels. Explain the effect of greenhouse gases trapping heat. List the consequences briefly: rising sea levels, extreme weather, food/water disruptions. End with the need for global cooperation on emissions, renewable energy, and sustainable practices.\n\nCheck for redundancy. The original says \"since the 1800s, human activities have been the main driver, primarily due to burning fossil fuels.\" Maybe combine that into \"primarily driven by fossil fuel combustion since the 1800s.\" Also, \"greenhouse gases, which trap the sun’s heat and raise global temperatures\" can be simplified to \"greenhouse gases trap heat, raising global temperatures.\"\n\nConsequences: \"rising sea levels, more extreme weather events, and disruptions to food and water supply\" can be \"rising sea levels, extreme weather, and food/water disruptions.\"\n\nSolutions: \"global cooperation to reduce emissions, transition to renewable energy sources, and implement sustainable practices across various sectors.\" Maybe \"global cooperation to cut emissions, adopt renewables, and promote sustainability.\"\n\nPutting it all together: \"Climate change involves long-term shifts in temperature and weather patterns, primarily driven by fossil fuel combustion since the 1800s. Greenhouse gases trap heat, raising global temperatures and causing rising sea levels, extreme weather, and food/water disruptions. Solutions require global cooperation to cut emissions, adopt renewables, and promote sustainability.\"\n\nLet me count the words. That's about 48 words. Original was 120, so 40% is 48. That's right. Check if all key points are covered. Definition, cause, mechanism, effects, solutions. Yes. Avoid any extra details. Looks good.\n</think>\n\n### Summary  \nClimate change involves long-term shifts in temperature and weather patterns, primarily driven by fossil fuel combustion since the 1800s. Greenhouse gases trap heat, raising global temperatures and causing rising sea levels, extreme weather, and food/water disruptions. Solutions require global cooperation to cut emissions, adopt renewables, and promote sustainability.  \n\n**Conclusion:** Addressing climate change demands urgent, collective action to mitigate its impacts and transition toward sustainable practices.\n"
     ]
    },
    {
     "output_type": "stream",
     "name": "stderr",
     "output_type": "stream",
     "text": [
      "\n"
     ]
    }
   ],
   "source": [
    "text = \"\"\"Climate change refers to long-term shifts in temperatures and weather patterns. These shifts may be natural, but since the 1800s, human activities have been the main driver, primarily due to burning fossil fuels like coal, oil, and gas. Burning these materials releases greenhouse gases, which trap the sun’s heat and raise global temperatures. Consequences include rising sea levels, more extreme weather events, and disruptions to food and water supply. Addressing climate change requires global cooperation to reduce emissions, transition to renewable energy sources, and implement sustainable practices across various sectors.\"\"\"\n",
    "\n",
    "prompt = f\"\"\"You are a **summarization system**.\n",
    "### Instruction:\n",
    "You will be given a long piece of text. Summarize it into a **short version that is no more than 30–40% of the original length**.\n",
    "\n",
    "### Text:\n",
    "{text}\n",
    "\n",
    "### Response:\n",
    "\"\"\"\n",
    "\n",
    "result = llm.get_prediction(prompt=prompt, thinking = True)\n",
    "print(\"Result:\",f\"{result}\")"
   ]
  },
  {
   "cell_type": "markdown",
   "metadata": {
    "application/vnd.databricks.v1+cell": {
     "cellMetadata": {},
     "inputWidgets": {},
     "nuid": "9d82e77d-3b41-49af-82e2-739e3cf8e766",
     "showTitle": false,
     "tableResultSettingsMap": {},
     "title": ""
    }
   },
   "source": [
    "## Vision Models\n"
   ]
  },
  {
   "cell_type": "code",
   "execution_count": 0,
   "metadata": {
    "application/vnd.databricks.v1+cell": {
     "cellMetadata": {
      "byteLimit": 2048000,
      "rowLimit": 10000
     },
     "inputWidgets": {},
     "nuid": "cf5bb684-7c3e-4e6b-aa73-5657bd082ea0",
     "showTitle": false,
     "tableResultSettingsMap": {},
     "title": ""
    }
   },
   "outputs": [],
   "source": [
    "from jsl_llm_lib.jsl_llm import JslLlm\n",
    "llm = JslLlm()\n",
    "llm.load_model(llm_name=\"jsl_meds_vl_3b\")"
   ]
  },
  {
   "cell_type": "code",
   "execution_count": 0,
   "metadata": {
    "application/vnd.databricks.v1+cell": {
     "cellMetadata": {
      "byteLimit": 2048000,
      "rowLimit": 10000
     },
     "inputWidgets": {},
     "nuid": "9000ad92-fea0-4d8f-95b0-1b8952aaf6a2",
     "showTitle": false,
     "tableResultSettingsMap": {},
     "title": ""
    }
   },
   "outputs": [
    {
     "output_type": "stream",
     "name": "stdout",
     "output_type": "stream",
     "text": [
      "2025-10-28 19:54:42 | DEBUG | beat.\n2025-10-28 19:54:42 | INFO | ^\n"
     ]
    },
    {
     "output_type": "stream",
     "name": "stderr",
     "output_type": "stream",
     "text": [
      "\rAdding requests:   0%|          | 0/1 [00:00<?, ?it/s]\rAdding requests: 100%|██████████| 1/1 [00:02<00:00,  2.05s/it]\rAdding requests: 100%|██████████| 1/1 [00:02<00:00,  2.06s/it]\n\rProcessed prompts:   0%|          | 0/1 [00:00<?, ?it/s, est. speed input: 0.00 toks/s, output: 0.00 toks/s]\rProcessed prompts: 100%|██████████| 1/1 [00:02<00:00,  2.06s/it, est. speed input: 1521.42 toks/s, output: 181.21 toks/s]\rProcessed prompts: 100%|██████████| 1/1 [00:02<00:00,  2.06s/it, est. speed input: 1521.42 toks/s, output: 181.21 toks/s]\rProcessed prompts: 100%|██████████| 1/1 [00:02<00:00,  2.07s/it, est. speed input: 1521.42 toks/s, output: 181.21 toks/s]"
     ]
    },
    {
     "output_type": "stream",
     "name": "stdout",
     "output_type": "stream",
     "text": [
      "Result: ### Demographic Information:\n- **Name:** Ms. Rukhsana Shaheen\n- **Age:** 56 yrs\n- **Sex:** Female\n\n### Clinical Disease Information:\n- **Known Disease:** Systemic lupus erythematosus and scleroderma overlap with interstitial lung disease\n- **Present Problem:** Tightness of skin of the fists and ulcers on the pulp of the fingers\n\n### Medication Information:\n- **Tablet Linezolid 600 mg twice a day for 5 Days**\n- **Tablet Clopidogrel 75 mg once a day after meals**\n- **Tablet Amlodipine 5 mg once a day**\n- **Tab Domperidone 10 mg twice a day before meals**\n- **Cap Omeprazole 20 Mg Twice a Day before Meal**\n- **Tablet Bosentan 62.5 mg twice a day after meals**\n- **Tab Sildenafil Citrate 0.5 mg twice a day after meals**\n- **Tablet Prednisolone 5 mg once a day after breakfast**\n- **Tablet Mycophenolate mofetil 500 mg 2 tablets twice a day**\n- **Tablet L-methylfolate calcium 400 µg 1 tablet once a day**\n- **Tablet Ciprofloxacin 250 mg twice a day**\n\n### Additional Notes:\n- **Episode No:** 030000528270\n- **Episode Date:** 02/07/2021 08:31 AM\n- **Hospital No:** MH005990453\n- **Department:** RHEUMATOLOGY MHD\n"
     ]
    },
    {
     "output_type": "stream",
     "name": "stderr",
     "output_type": "stream",
     "text": [
      "\n"
     ]
    }
   ],
   "source": [
    "import os\n",
    "images_dir = \"images\"\n",
    "os.makedirs(images_dir, exist_ok=True)\n",
    "os.system(f\"wget -O {images_dir}/prescription.png  -q \\\"https://raw.githubusercontent.com/JohnSnowLabs/spark-nlp-workshop/master/healthcare-nlp/data/ocr/prescription_02.png\\\"\")\n",
    "\n",
    "image_path = os.path.join(images_dir, \"prescription.png\")\n",
    "\n",
    "prompt = \"\"\"Extract demographic, clinical disease and medication informations\"\"\"\n",
    "\n",
    "result = llm.get_prediction(prompt=prompt, image_path=image_path)\n",
    "\n",
    "print(\"Result:\",f\"{result}\")"
   ]
  },
  {
   "cell_type": "code",
   "execution_count": 0,
   "metadata": {
    "application/vnd.databricks.v1+cell": {
     "cellMetadata": {},
     "inputWidgets": {},
     "nuid": "da23a6d7-f94a-4477-9a5a-5c72995f6752",
     "showTitle": false,
     "tableResultSettingsMap": {},
     "title": ""
    }
   },
   "outputs": [],
   "source": []
  }
 ],
 "metadata": {
  "application/vnd.databricks.v1+notebook": {
   "computePreferences": null,
   "dashboards": [],
   "environmentMetadata": {
    "base_environment": "",
    "environment_version": "4"
   },
   "inputWidgetPreferences": null,
   "language": "python",
   "notebookMetadata": {
    "pythonIndentUnit": 2
   },
   "notebookName": "jsl-llm-containerized-lib-nb",
   "widgets": {}
  },
  "language_info": {
   "name": "python"
  }
 },
 "nbformat": 4,
 "nbformat_minor": 0
}
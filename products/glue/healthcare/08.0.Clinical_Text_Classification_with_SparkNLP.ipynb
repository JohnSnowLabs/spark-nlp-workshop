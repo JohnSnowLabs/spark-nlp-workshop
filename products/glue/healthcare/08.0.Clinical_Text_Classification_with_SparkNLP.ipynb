{
  "metadata": {
    "accelerator": "TPU",
    "colab": {
      "machine_shape": "hm",
      "provenance": []
    },
    "kernelspec": {
      "name": "glue_pyspark",
      "display_name": "Glue PySpark",
      "language": "python"
    },
    "language_info": {
      "name": "Python_Glue_Session",
      "mimetype": "text/x-python",
      "codemirror_mode": {
        "name": "python",
        "version": 3
      },
      "pygments_lexer": "python3",
      "file_extension": ".py"
    },
    "vscode": {
      "interpreter": {
        "hash": "8f527f757492231011ff0f96452bff72dba1ece595fe9390d852b709bf8922e1"
      }
    }
  },
  "nbformat_minor": 0,
  "nbformat": 4,
  "cells": [
    {
      "cell_type": "markdown",
      "source": [
        "![JohnSnowLabs](https://nlp.johnsnowlabs.com/assets/images/logo.png)"
      ],
      "metadata": {
        "id": "TC67imitKuBg"
      }
    },
    {
      "cell_type": "markdown",
      "source": [
        "[![Open In Colab](https://colab.research.google.com/assets/colab-badge.svg)](https://colab.research.google.com/github/JohnSnowLabs/spark-nlp-workshop/blob/master/healthcare-nlp/08.0.Clinical_Text_Classification_with_SparkNLP.ipynb)"
      ],
      "metadata": {
        "id": "JXd7D50SKuBm"
      }
    },
    {
      "cell_type": "markdown",
      "source": [
        "# Glue Setup"
      ],
      "metadata": {
        "id": "T70JAFhuB_hY"
      }
    },
    {
      "cell_type": "code",
      "source": [
        "%worker_type G.4X\n",
        "%additional_python_modules tensorflow==2.11.0, tensorflow-addons,scikit-learn,johnsnowlabs_by_kshitiz==5.0.7rc5,s3://<your_bucket_name>/assets/packages/spark_nlp-5.0.2-py2.py3-none-any.whl,s3://<your_bucket_name>/assets/packages/spark_nlp_jsl-5.0.2-py3-none-any.whl\n",
        "%extra_jars s3://<your_bucket_name>/assets/jars/spark-nlp-assembly-5.0.2.jar,s3://<your_bucket_name>/assets/jars/spark-nlp-jsl-5.0.2.jar\n",
        "\n",
        "%%configure\n",
        "{\n",
        "\"--conf\":\"\"\"spark.jsl.settings.pretrained.cache_folder=s3://<your_bucket_name>/cache_pretrained/\n",
        "--conf spark.jars.packages=org.apache.hadoop:hadoop-aws:3.2.1,com.amazonaws:aws-java-sdk:1.11.828\n",
        "--conf spark.driver.memory=64G\n",
        "--conf spark.executor.memory=32G\n",
        "--conf spark.serializer=org.apache.spark.serializer.KryoSerializer\n",
        "--conf spark.kryoserializer.buffer.max=2000M\n",
        "--conf spark.driver.maxResultSize=2000M\n",
        "--conf spark.yarn.am.memory=4G\n",
        "--conf spark.hadoop.mapred.output.committer.class=org.apache.hadoop.mapred.DirectFileOutputCommitter\n",
        "\n",
        "--conf spark.hadoop.fs.s3a.access.key=<aws_access_key>\n",
        "\n",
        "--conf spark.hadoop.fs.s3a.secret.key=<aws_secret_key>\n",
        "\n",
        "--conf spark.hadoop.fs.s3a.session.token=<aws_session_token>\n",
        "\n",
        "--conf jsl.settings.license=<jsl_license>\n",
        "--conf spark.jsl.settings.pretrained.credentials.access_key_id=<pretrained.credentials.access_key_id>\n",
        "--conf spark.jsl.settings.pretrained.credentials.secret_access_key=<pretrained.credentials.secret_access_key>\n",
        "--conf spark.hadoop.fs.s3a.aws.credentials.provider=org.apache.hadoop.fs.s3a.TemporaryAWSCredentialsProvider\n",
        "--conf spark.hadoop.fs.s3a.impl=org.apache.hadoop.fs.s3a.S3AFileSystem\n",
        "--conf spark.hadoop.fs.s3a.path.style.access=true\n",
        "--conf spark.jsl.settings.aws.region=us-east-1\"\"\"\n",
        "}"
      ],
      "metadata": {
        "tags": [],
        "id": "MRTflinqmhKL",
        "trusted": true
      },
      "execution_count": null,
      "outputs": []
    },
    {
      "cell_type": "code",
      "source": [
        "%glue_version 4.0\n",
        "\n",
        "import sys\n",
        "from awsglue.transforms import *\n",
        "from awsglue.utils import getResolvedOptions\n",
        "from pyspark.context import SparkContext\n",
        "from awsglue.context import GlueContext\n",
        "from awsglue.job import Job\n",
        "\n",
        "sc = SparkContext.getOrCreate()\n",
        "glueContext = GlueContext(sc)\n",
        "spark = glueContext.spark_session\n",
        "spark._jvm.com.johnsnowlabs.util.start.registerListenerAndStartRefresh()\n",
        "job = Job(glueContext)"
      ],
      "metadata": {
        "tags": [],
        "id": "S4dTiT4aJeq7",
        "trusted": true
      },
      "execution_count": null,
      "outputs": []
    },
    {
      "cell_type": "code",
      "source": [
        "from johnsnowlabs import nlp, medical, visual\n",
        "import pandas as pd\n",
        "from sklearn.metrics import confusion_matrix, classification_report, accuracy_score\n",
        "import pyspark.sql.functions as F"
      ],
      "metadata": {
        "tags": [],
        "id": "kUjJNc9fJoFT",
        "colab": {
          "base_uri": "https://localhost:8080/"
        },
        "outputId": "8a68114e-4404-4879-8f90-da0ad0ab5351",
        "trusted": true
      },
      "execution_count": null,
      "outputs": [
        {
          "name": "stdout",
          "text": "\n",
          "output_type": "stream"
        }
      ]
    },
    {
      "cell_type": "markdown",
      "source": [
        "# Classifiers\n",
        "\n",
        "The below classifiers will be used in this notebook.ClassifierDL, MultiClassifierDL, and GenericClassifier will be trained using healthcare_100d, embeddingd_clinical, and bert sentence embeddings(sbiobert_base_cased_mli). DocumentLogRegClassifier accepts tokens, so sentence embeddings are not utilized during DocumentLogRegClassifier training.\n",
        "\n",
        "## ClassifierDL\n",
        "\n",
        "ClassifierDL is a generic Multi-class Text Classification annotator. ClassifierDL uses the state-of-the-art Universal Sentence Encoder as an input for text classifications. The ClassifierDL annotator uses a deep learning model (DNNs) built inside TensorFlow and supports up to 100 classes. For more information please [follow the link](https://nlp.johnsnowlabs.com/docs/en/annotators#classifierdl).\n",
        "\n",
        "\n",
        "##  MultiClassifierDL\n",
        "\n",
        "MultiClassifierDL is a Multi-label Text Classification annotator.MultiClassifierDL uses a Bidirectional GRU with a convolutional model built inside TensorFlow and supports up to 100 classes.  For more information please [follow the link](https://nlp.johnsnowlabs.com/docs/en/annotators#multiclassifierdl).\n",
        "\n",
        "\n",
        "## GenericClassifier\n",
        "\n",
        "GenericClassifier is a TensorFlow model for the generic classification of feature vectors in Healthcare  Lİbrary. It takes FEATURE_VECTOR annotations from FeaturesAssembler as input, classifies them, and outputs CATEGORY annotations. Please see [the link](https://nlp.johnsnowlabs.com/docs/en/licensed_annotators#genericclassifier) for more information.\n",
        "\n",
        "Here are some Social Determinants of Health (SDOH) models that trained with GenericClassifier:\n",
        "\n",
        "|index|model|\n",
        "|-----:|:-----|\n",
        "|1|[genericclassifier_sdoh_economics_binary_sbiobert_cased_mli](https://nlp.johnsnowlabs.com/2023/01/14/genericclassifier_sdoh_economics_binary_sbiobert_cased_mli_en.html)|\n",
        "|2|[genericclassifier_sdoh_substance_usage_binary_sbiobert_cased_mli](https://nlp.johnsnowlabs.com/2023/01/14/genericclassifier_sdoh_substance_usage_binary_sbiobert_cased_mli_en.html)|\n",
        "|3|[genericclassifier_sdoh_tobacco_usage_sbiobert_cased_mli](https://nlp.johnsnowlabs.com/2023/01/14/genericclassifier_sdoh_tobacco_usage_sbiobert_cased_mli_en.html)|\n",
        "|4|[genericclassifier_sdoh_alcohol_usage_sbiobert_cased_mli](https://nlp.johnsnowlabs.com/2023/01/14/genericclassifier_sdoh_alcohol_usage_sbiobert_cased_mli_en.html)|\n",
        "|5|[genericclassifier_sdoh_alcohol_usage_binary_sbiobert_cased_mli](https://nlp.johnsnowlabs.com/2023/01/14/genericclassifier_sdoh_alcohol_usage_binary_sbiobert_cased_mli_en.html)|\n",
        "\n",
        "\n",
        "## GenericLogRegClassifier\n",
        "\n",
        "`GenericLogRegClassifier` is a derivative of GenericClassifier which implements a multinomial *Logistic Regression*. This is a single layer neural network with the logistic function at the output. The input to the model is `FeatureVector` and the output is `Category` annotations with labels and corresponding confidence scores varying between 0 and 1. Training data requires \"text\" and their \"label\" columns only and the trained model will be a `GenericLogRegClassifierModel()`.\n",
        "\n",
        "\n",
        "## GenericSVMClassifier\n",
        "\n",
        "`GenericSVMClassifier` is a derivative of GenericClassifier which implements *SVM (Support Vector Machine)* classification. The input to the model is `FeatureVector` and the output is `Category` annotations with labels and corresponding confidence scores. The scores are standardized using the logistic function so that they vary between 0 and 1. Taining data requires \"text\" and their \"label\" columns only and the trained model will be a `GenericSVMClassifierModel()`\n",
        "\n",
        "## DocumentLogRegClassifier\n",
        "\n",
        "DocumentLogRegClassifier is a model to classify documents with a Logarithmic Regression algorithm in Healthcare  Library. Training data requires columns for text and labels. The result is a trained DocumentLogRegClassifierModel. you can get more info [here](https://nlp.johnsnowlabs.com/docs/en/licensed_annotators#documentlogregclassifier).\n"
      ],
      "metadata": {
        "id": "seqQtw6ryhDm"
      }
    },
    {
      "cell_type": "markdown",
      "source": [
        "# ADE Dataset"
      ],
      "metadata": {
        "id": "V9VJxCgQDbci"
      }
    },
    {
      "cell_type": "markdown",
      "source": [
        "### Data Preprocessing"
      ],
      "metadata": {
        "id": "26_3aTINil5M"
      }
    },
    {
      "cell_type": "code",
      "source": [
        "# Sample data should be downloaded and uploaded to the s3 bucket\n",
        "#!wget -q https://raw.githubusercontent.com/JohnSnowLabs/spark-nlp-workshop/master/tutorials/Certification_Trainings/Healthcare/data/ADE_Corpus_V2/ADE-NEG.txt\n",
        "#!wget -q https://raw.githubusercontent.com/JohnSnowLabs/spark-nlp-workshop/master/tutorials/Certification_Trainings/Healthcare/data/ADE_Corpus_V2/DRUG-AE.rel"
      ],
      "metadata": {
        "tags": [],
        "id": "hItCL5OYilb-",
        "trusted": true
      },
      "execution_count": null,
      "outputs": []
    },
    {
      "cell_type": "markdown",
      "source": [
        "**ADE Negative Dataset**"
      ],
      "metadata": {
        "id": "CcjKu0_XrfLy"
      }
    },
    {
      "cell_type": "code",
      "source": [
        "bucket=\"s3://<your_bucket_name>/rawdata/\""
      ],
      "metadata": {
        "trusted": true,
        "tags": [],
        "id": "qW80WAtic3Ca",
        "outputId": "225ed72d-6c9c-42bc-fcfe-f7a11221ab1b"
      },
      "execution_count": null,
      "outputs": [
        {
          "name": "stdout",
          "text": "\n",
          "output_type": "stream"
        }
      ]
    },
    {
      "cell_type": "code",
      "source": [
        "df_neg= pd.read_csv(f\"{bucket}ADE-NEG.txt\", header=None, delimiter=\"\\t\", names=[\"col1\"])\n",
        "df_neg.head()"
      ],
      "metadata": {
        "tags": [],
        "colab": {
          "base_uri": "https://localhost:8080/",
          "height": 206
        },
        "id": "Y8bRpYvWilZB",
        "outputId": "47af2cfb-d9cf-4592-d7b5-4268b9c7feb9",
        "trusted": true
      },
      "execution_count": null,
      "outputs": [
        {
          "name": "stdout",
          "text": "                                                col1\n0  6460590 NEG Clioquinol intoxication occurring ...\n1  8600337 NEG \"Retinoic acid syndrome\" was preve...\n2  8402502 NEG BACKGROUND: External beam radiatio...\n3  8700794 NEG Although the enuresis ceased, she ...\n4  17662448 NEG A 42-year-old woman had uneventfu...\n",
          "output_type": "stream"
        }
      ]
    },
    {
      "cell_type": "code",
      "source": [
        "df_neg['text'] =  df_neg.col1.str.split('NEG').str[1]\n",
        "df_neg[\"category\"] = \"neg\"\n",
        "df_neg= df_neg[[\"text\", \"category\"]]\n",
        "df_neg.head()"
      ],
      "metadata": {
        "tags": [],
        "colab": {
          "base_uri": "https://localhost:8080/",
          "height": 206
        },
        "id": "wrPm_XSyv-R2",
        "outputId": "d9aa1f9c-b5d0-45f2-a585-55824b007bc5",
        "trusted": true
      },
      "execution_count": null,
      "outputs": [
        {
          "name": "stdout",
          "text": "                                                text category\n0   Clioquinol intoxication occurring in the trea...      neg\n1   \"Retinoic acid syndrome\" was prevented with s...      neg\n2   BACKGROUND: External beam radiation therapy o...      neg\n3   Although the enuresis ceased, she developed t...      neg\n4   A 42-year-old woman had uneventful bilateral ...      neg\n",
          "output_type": "stream"
        }
      ]
    },
    {
      "cell_type": "markdown",
      "source": [
        "**ADE Positive Dataset**"
      ],
      "metadata": {
        "id": "gzu9ELiirkMf"
      }
    },
    {
      "cell_type": "code",
      "source": [
        "df_pos= pd.read_csv(f\"{bucket}DRUG-AE.rel\", header=None, delimiter=\"|\")\n",
        "df_pos.head()"
      ],
      "metadata": {
        "tags": [],
        "colab": {
          "base_uri": "https://localhost:8080/",
          "height": 206
        },
        "id": "F4Y20JbRqcLP",
        "outputId": "5e03238e-30d3-4852-80ae-ed4d4d1b2a79",
        "trusted": true
      },
      "execution_count": null,
      "outputs": [
        {
          "name": "stdout",
          "text": "          0                                                  1  ...    6    7\n0  10030778      Intravenous azithromycin-induced ototoxicity.  ...   22   34\n1  10048291  Immobilization, while Paget's bone disease was...  ...  908  926\n2  10048291  Unaccountable severe hypercalcemia in a patien...  ...   94  112\n3  10082597  METHODS: We report two cases of pseudoporphyri...  ...  646  654\n4  10082597  METHODS: We report two cases of pseudoporphyri...  ...  659  668\n\n[5 rows x 8 columns]\n",
          "output_type": "stream"
        }
      ]
    },
    {
      "cell_type": "code",
      "source": [
        "df_pos[\"category\"]= \"pos\"\n",
        "df_pos.rename(columns={1: \"text\"}, inplace=True)\n",
        "df_pos= df_pos[[\"text\", \"category\"]]\n",
        "df_pos.head()"
      ],
      "metadata": {
        "tags": [],
        "colab": {
          "base_uri": "https://localhost:8080/",
          "height": 206
        },
        "id": "ICMIXpnHrc5u",
        "outputId": "1ee7ca4e-4a91-44bd-f97f-abacf40398d1",
        "trusted": true
      },
      "execution_count": null,
      "outputs": [
        {
          "name": "stdout",
          "text": "                                                text category\n0      Intravenous azithromycin-induced ototoxicity.      pos\n1  Immobilization, while Paget's bone disease was...      pos\n2  Unaccountable severe hypercalcemia in a patien...      pos\n3  METHODS: We report two cases of pseudoporphyri...      pos\n4  METHODS: We report two cases of pseudoporphyri...      pos\n",
          "output_type": "stream"
        }
      ]
    },
    {
      "cell_type": "markdown",
      "source": [
        "**Merging Positive and Negative dataset**"
      ],
      "metadata": {
        "id": "V2iOoomSwTeH"
      }
    },
    {
      "cell_type": "code",
      "source": [
        "ade_df= pd.concat([df_neg, df_pos])\n",
        "ade_df.head()"
      ],
      "metadata": {
        "tags": [],
        "colab": {
          "base_uri": "https://localhost:8080/",
          "height": 206
        },
        "id": "3ju23pYJrcxT",
        "outputId": "e98ca69b-989b-43c9-b42f-e8c7448d5719",
        "trusted": true
      },
      "execution_count": null,
      "outputs": [
        {
          "name": "stdout",
          "text": "                                                text category\n0   Clioquinol intoxication occurring in the trea...      neg\n1   \"Retinoic acid syndrome\" was prevented with s...      neg\n2   BACKGROUND: External beam radiation therapy o...      neg\n3   Although the enuresis ceased, she developed t...      neg\n4   A 42-year-old woman had uneventful bilateral ...      neg\n",
          "output_type": "stream"
        }
      ]
    },
    {
      "cell_type": "code",
      "source": [
        "ade_df[\"category\"].value_counts()"
      ],
      "metadata": {
        "tags": [],
        "colab": {
          "base_uri": "https://localhost:8080/"
        },
        "id": "Lg_RjRi1lFUa",
        "outputId": "07875158-cf10-45b8-ed76-f166ebe9c583",
        "trusted": true
      },
      "execution_count": null,
      "outputs": [
        {
          "name": "stdout",
          "text": "neg    16695\npos     6821\nName: category, dtype: int64\n",
          "output_type": "stream"
        }
      ]
    },
    {
      "cell_type": "code",
      "source": [
        "ade_df.info()"
      ],
      "metadata": {
        "tags": [],
        "colab": {
          "base_uri": "https://localhost:8080/"
        },
        "id": "wMWdhHvjzGRp",
        "outputId": "0bf88139-6dbf-41c0-9df9-340b25df4154",
        "trusted": true
      },
      "execution_count": null,
      "outputs": [
        {
          "name": "stdout",
          "text": "<class 'pandas.core.frame.DataFrame'>\nInt64Index: 23516 entries, 0 to 6820\nData columns (total 2 columns):\n #   Column    Non-Null Count  Dtype \n---  ------    --------------  ----- \n 0   text      23516 non-null  object\n 1   category  23516 non-null  object\ndtypes: object(2)\nmemory usage: 551.2+ KB\n",
          "output_type": "stream"
        }
      ]
    },
    {
      "cell_type": "markdown",
      "source": [
        "We take 30% of the data to make a faster run. You can use all data for better scores."
      ],
      "metadata": {
        "id": "d3QJwfWXYd2-"
      }
    },
    {
      "cell_type": "code",
      "source": [
        "spark_df = spark.createDataFrame(ade_df).sample(0.3, 3) # limit the data\n",
        "\n",
        "trainingData, testData = spark_df.randomSplit([0.8, 0.2], seed = 100)\n",
        "\n",
        "print(\"Training Dataset Count: \" + str(trainingData.count()))\n",
        "print(\"Test Dataset Count: \" + str(testData.count()))"
      ],
      "metadata": {
        "tags": [],
        "colab": {
          "base_uri": "https://localhost:8080/"
        },
        "id": "54RWnCr0yWL5",
        "outputId": "b9d84db9-764c-4460-d646-5197a4fa86ec",
        "trusted": true
      },
      "execution_count": null,
      "outputs": [
        {
          "name": "stdout",
          "text": "Training Dataset Count: 5571\nTest Dataset Count: 1474\n",
          "output_type": "stream"
        }
      ]
    },
    {
      "cell_type": "code",
      "source": [
        "spark_df.groupBy(\"category\").count().show()"
      ],
      "metadata": {
        "tags": [],
        "colab": {
          "base_uri": "https://localhost:8080/"
        },
        "id": "c3nAmtMmcu_q",
        "outputId": "fa18fb55-138c-4644-8412-fac9aee20835",
        "trusted": true
      },
      "execution_count": null,
      "outputs": [
        {
          "name": "stdout",
          "text": "+--------+-----+\n|category|count|\n+--------+-----+\n|     neg| 4999|\n|     pos| 2046|\n+--------+-----+\n",
          "output_type": "stream"
        }
      ]
    },
    {
      "cell_type": "code",
      "source": [
        "spark_df.printSchema()"
      ],
      "metadata": {
        "tags": [],
        "colab": {
          "base_uri": "https://localhost:8080/"
        },
        "id": "UXGiAxzX_RJd",
        "outputId": "b93f8f0d-d939-4dfd-a7f9-9384848df60a",
        "trusted": true
      },
      "execution_count": null,
      "outputs": [
        {
          "name": "stdout",
          "text": "root\n |-- text: string (nullable = true)\n |-- category: string (nullable = true)\n",
          "output_type": "stream"
        }
      ]
    },
    {
      "cell_type": "code",
      "source": [
        "spark_df.head(3)"
      ],
      "metadata": {
        "tags": [],
        "colab": {
          "base_uri": "https://localhost:8080/"
        },
        "id": "fnTr4Bs_seoA",
        "outputId": "77a30943-37dc-498b-f4d7-9fec80c67e13",
        "trusted": true
      },
      "execution_count": null,
      "outputs": [
        {
          "name": "stdout",
          "text": "[Row(text=' Clioquinol intoxication occurring in the treatment of acrodermatitis enteropathica with reference to SMON outside of Japan.', category='neg'), Row(text=' A 42-year-old woman had uneventful bilateral laser-assisted subepithelial keratectomy (LASEK) to correct myopia.', category='neg'), Row(text=' A 16-year-old girl with erosive, polyarticular JRA showed no detectable change in her articular disease following nine exchanges.', category='neg')]\n",
          "output_type": "stream"
        }
      ]
    },
    {
      "cell_type": "markdown",
      "source": [
        "## 100 Dimension Healthcare Embeddings (embeddings_healthcare_100d)\n",
        "\n"
      ],
      "metadata": {
        "id": "BCAJFO4YDbcj"
      }
    },
    {
      "cell_type": "markdown",
      "source": [
        "Now we will extract [healthcare_100d embeddings](https://nlp.johnsnowlabs.com/2020/05/29/embeddings_healthcare_100d_en.html) and use it in the classificaiton model training."
      ],
      "metadata": {
        "id": "oDySIR35ECjy"
      }
    },
    {
      "cell_type": "code",
      "source": [
        "document_assembler = nlp.DocumentAssembler()\\\n",
        "        .setInputCol(\"text\")\\\n",
        "        .setOutputCol(\"document\")\n",
        "\n",
        "tokenizer = nlp.Tokenizer() \\\n",
        "            .setInputCols([\"document\"]) \\\n",
        "            .setOutputCol(\"token\")\n",
        "\n",
        "word_embeddings = nlp.WordEmbeddingsModel.pretrained(\"embeddings_healthcare_100d\",\"en\",\"clinical/models\")\\\n",
        "        .setInputCols([\"document\",\"token\"])\\\n",
        "        .setOutputCol(\"word_embeddings\")\\\n",
        "        .setEnableInMemoryStorage(True)\n",
        "\n",
        "sentence_embeddings = nlp.SentenceEmbeddings() \\\n",
        "        .setInputCols([\"document\", \"word_embeddings\"]) \\\n",
        "        .setOutputCol(\"sentence_embeddings\") \\\n",
        "        .setPoolingStrategy(\"AVERAGE\")\n",
        "\n",
        "embeddings_pipeline = nlp.Pipeline(\n",
        "    stages = [\n",
        "        document_assembler,\n",
        "        tokenizer,\n",
        "        word_embeddings,\n",
        "        sentence_embeddings,\n",
        "\n",
        "    ])"
      ],
      "metadata": {
        "tags": [],
        "colab": {
          "base_uri": "https://localhost:8080/"
        },
        "id": "oxFX8bVEDbcj",
        "outputId": "2d74fb84-2f5f-4435-d3b1-436275f07b81",
        "trusted": true
      },
      "execution_count": null,
      "outputs": [
        {
          "name": "stdout",
          "text": "embeddings_healthcare_100d download started this may take some time.\nApproximate size to download 475.8 MB\n[OK!]\n",
          "output_type": "stream"
        }
      ]
    },
    {
      "cell_type": "code",
      "source": [
        "trainingData_with_embeddings = embeddings_pipeline.fit(trainingData).transform(trainingData)\n",
        "trainingData_with_embeddings = trainingData_with_embeddings.select(\"text\",\"category\",\"sentence_embeddings\")\n",
        "trainingData_with_embeddings.show(2,truncate=60)"
      ],
      "metadata": {
        "tags": [],
        "colab": {
          "base_uri": "https://localhost:8080/"
        },
        "id": "ihBi5IicDbcj",
        "outputId": "c55b8c16-5e7a-4bc1-9a2e-8af47e808548",
        "trusted": true
      },
      "execution_count": null,
      "outputs": [
        {
          "name": "stdout",
          "text": "+------------------------------------------------------------+--------+------------------------------------------------------------+\n|                                                        text|category|                                         sentence_embeddings|\n+------------------------------------------------------------+--------+------------------------------------------------------------+\n| A 16-year-old girl with erosive, polyarticular JRA showe...|     neg|[{sentence_embeddings, 0, 129,  A 16-year-old girl with e...|\n| A 42-year-old woman had uneventful bilateral laser-assis...|     neg|[{sentence_embeddings, 0, 112,  A 42-year-old woman had u...|\n+------------------------------------------------------------+--------+------------------------------------------------------------+\nonly showing top 2 rows\n",
          "output_type": "stream"
        }
      ]
    },
    {
      "cell_type": "code",
      "source": [
        "testData_with_embeddings = embeddings_pipeline.fit(testData).transform(testData)\n",
        "testData_with_embeddings = testData_with_embeddings.select(\"text\",\"category\",\"sentence_embeddings\")\n",
        "testData_with_embeddings.show(2,truncate=60)"
      ],
      "metadata": {
        "tags": [],
        "colab": {
          "base_uri": "https://localhost:8080/"
        },
        "id": "yGWfNABSDbck",
        "outputId": "3002cd09-66ac-4f34-d3f8-522d3249e940",
        "trusted": true
      },
      "execution_count": null,
      "outputs": [
        {
          "name": "stdout",
          "text": "+------------------------------------------------------------+--------+------------------------------------------------------------+\n|                                                        text|category|                                         sentence_embeddings|\n+------------------------------------------------------------+--------+------------------------------------------------------------+\n| A search of the literature yielded 15 instances of sever...|     neg|[{sentence_embeddings, 0, 174,  A search of the literatur...|\n| BACKGROUND: Uterine malignant mixed mesodermal tumor is ...|     neg|[{sentence_embeddings, 0, 89,  BACKGROUND: Uterine malign...|\n+------------------------------------------------------------+--------+------------------------------------------------------------+\nonly showing top 2 rows\n",
          "output_type": "stream"
        }
      ]
    },
    {
      "cell_type": "code",
      "source": [
        "testData_with_embeddings.printSchema()"
      ],
      "metadata": {
        "tags": [],
        "colab": {
          "base_uri": "https://localhost:8080/"
        },
        "id": "jC4RxfRuqrj1",
        "outputId": "9af7a816-5547-4459-f382-c0de93ad1593",
        "trusted": true
      },
      "execution_count": null,
      "outputs": [
        {
          "name": "stdout",
          "text": "root\n |-- text: string (nullable = true)\n |-- category: string (nullable = true)\n |-- sentence_embeddings: array (nullable = true)\n |    |-- element: struct (containsNull = true)\n |    |    |-- annotatorType: string (nullable = true)\n |    |    |-- begin: integer (nullable = false)\n |    |    |-- end: integer (nullable = false)\n |    |    |-- result: string (nullable = true)\n |    |    |-- metadata: map (nullable = true)\n |    |    |    |-- key: string\n |    |    |    |-- value: string (valueContainsNull = true)\n |    |    |-- embeddings: array (nullable = true)\n |    |    |    |-- element: float (containsNull = false)\n",
          "output_type": "stream"
        }
      ]
    },
    {
      "cell_type": "code",
      "source": [
        "testData_with_embeddings.select(testData_with_embeddings.sentence_embeddings.embeddings).show(3,truncate=120)"
      ],
      "metadata": {
        "tags": [],
        "colab": {
          "base_uri": "https://localhost:8080/"
        },
        "id": "YfN3PwLxqS4r",
        "outputId": "8a41020b-cac5-4c5b-93aa-472a918d8bbe",
        "trusted": true
      },
      "execution_count": null,
      "outputs": [
        {
          "name": "stdout",
          "text": "+------------------------------------------------------------------------------------------------------------------------+\n|                                                                                          sentence_embeddings.embeddings|\n+------------------------------------------------------------------------------------------------------------------------+\n|[[-3.4875475E-4, -0.056358036, 0.14993635, 0.15766856, -0.18396269, -0.07343597, 0.013452554, -0.07433194, -0.0134871...|\n|[[-0.05699437, 0.11108223, -0.032475308, 0.14165239, -0.26165926, 0.005176822, -0.04702462, -0.06481195, -0.004691237...|\n|[[-0.107733324, 0.047409724, 0.17080621, 0.0994095, -0.12756924, 0.065844856, -0.050717074, -0.079416744, 0.01222344,...|\n+------------------------------------------------------------------------------------------------------------------------+\nonly showing top 3 rows\n",
          "output_type": "stream"
        }
      ]
    },
    {
      "cell_type": "code",
      "source": [
        "# log_folder = \"s3://<bucket>/logs\"  #alternative\n",
        "\n",
        "log_folder=\"ADE_logs_healthcare_100d\"\n"
      ],
      "metadata": {
        "tags": [],
        "id": "C4nDUXMnadqo",
        "trusted": true,
        "outputId": "66fb8d0b-9cce-451c-c30d-8cc6f818056d"
      },
      "execution_count": null,
      "outputs": [
        {
          "name": "stdout",
          "text": "\n",
          "output_type": "stream"
        }
      ]
    },
    {
      "cell_type": "markdown",
      "source": [
        "### ClassifierDL"
      ],
      "metadata": {
        "id": "Q9MywCqKDbck"
      }
    },
    {
      "cell_type": "code",
      "source": [
        "classifier_dl = nlp.ClassifierDLApproach()\\\n",
        "        .setInputCols([\"sentence_embeddings\"])\\\n",
        "        .setOutputCol(\"prediction\")\\\n",
        "        .setLabelColumn(\"category\")\\\n",
        "        .setBatchSize(16)\\\n",
        "        .setMaxEpochs(30)\\\n",
        "        .setLr(0.002)\\\n",
        "        .setDropout(0.3)\\\n",
        "        .setEnableOutputLogs(True)\\\n",
        "        .setOutputLogsPath(log_folder)\\\n",
        "        # .setValidationSplit(0.1)\n",
        "\n",
        "classifier_dl_pipeline = nlp.Pipeline(\n",
        "    stages = [\n",
        "        classifier_dl\n",
        "    ])"
      ],
      "metadata": {
        "tags": [],
        "id": "EhvRGlkmDbck",
        "trusted": true,
        "outputId": "eb1bad63-1daa-4b86-d1ba-3921f16c2b0f"
      },
      "execution_count": null,
      "outputs": [
        {
          "name": "stdout",
          "text": "\n",
          "output_type": "stream"
        }
      ]
    },
    {
      "cell_type": "code",
      "source": [
        "clfDL_model_hc100 = classifier_dl_pipeline.fit(trainingData_with_embeddings)"
      ],
      "metadata": {
        "tags": [],
        "id": "lM7Dpdx7Dbck",
        "trusted": true,
        "outputId": "46bf39e8-26e7-41b6-dd9a-d0d0b14a1d7b"
      },
      "execution_count": null,
      "outputs": [
        {
          "name": "stdout",
          "text": "\n",
          "output_type": "stream"
        }
      ]
    },
    {
      "cell_type": "code",
      "source": [
        "import os\n",
        "\n",
        "log_files = os.listdir(f'./{log_folder}')\n",
        "for file in log_files:\n",
        "    if file.startswith(\"ClassifierDLApproach\"):\n",
        "        approach_log_file=file\n",
        "with open(f\"./{log_folder}/{approach_log_file}\") as log_file:\n",
        "    print(log_file.read())"
      ],
      "metadata": {
        "trusted": true,
        "tags": [],
        "id": "gW3F2Z-Ec3Cu",
        "outputId": "16702d50-6209-4afe-e896-9a1d4800c3a9"
      },
      "execution_count": null,
      "outputs": [
        {
          "name": "stdout",
          "text": "Training started - epochs: 30 - learning_rate: 0.002 - batch_size: 16 - training_examples: 5571 - classes: 2\nEpoch 0/30 - 0.77s - loss: 198.6028 - acc: 0.7530532 - batches: 349\nEpoch 1/30 - 0.59s - loss: 184.34544 - acc: 0.80687255 - batches: 349\nEpoch 2/30 - 0.60s - loss: 178.14531 - acc: 0.82734674 - batches: 349\nEpoch 3/30 - 0.59s - loss: 175.12823 - acc: 0.84033763 - batches: 349\nEpoch 4/30 - 0.59s - loss: 172.2982 - acc: 0.84823996 - batches: 349\nEpoch 5/30 - 0.58s - loss: 169.66719 - acc: 0.8520115 - batches: 349\nEpoch 6/30 - 0.59s - loss: 167.39812 - acc: 0.8595546 - batches: 349\nEpoch 7/30 - 0.59s - loss: 165.5374 - acc: 0.86494255 - batches: 349\nEpoch 8/30 - 0.59s - loss: 164.1322 - acc: 0.8697917 - batches: 349\nEpoch 9/30 - 0.58s - loss: 163.05476 - acc: 0.87446123 - batches: 349\nEpoch 10/30 - 0.58s - loss: 162.1662 - acc: 0.87661636 - batches: 349\nEpoch 11/30 - 0.59s - loss: 161.38148 - acc: 0.87895113 - batches: 349\nEpoch 12/30 - 0.58s - loss: 160.74753 - acc: 0.8812859 - batches: 349\nEpoch 13/30 - 0.59s - loss: 160.12721 - acc: 0.8836207 - batches: 349\nEpoch 14/30 - 0.59s - loss: 159.57448 - acc: 0.88631463 - batches: 349\nEpoch 15/30 - 0.59s - loss: 159.05295 - acc: 0.88721263 - batches: 349\nEpoch 16/30 - 0.59s - loss: 158.53233 - acc: 0.8893678 - batches: 349\nEpoch 17/30 - 0.59s - loss: 157.97551 - acc: 0.890625 - batches: 349\nEpoch 18/30 - 0.59s - loss: 157.3385 - acc: 0.89206177 - batches: 349\nEpoch 19/30 - 0.59s - loss: 156.62822 - acc: 0.89349854 - batches: 349\nEpoch 20/30 - 0.59s - loss: 155.97894 - acc: 0.89511496 - batches: 349\nEpoch 21/30 - 0.59s - loss: 155.45265 - acc: 0.8976293 - batches: 349\nEpoch 22/30 - 0.59s - loss: 154.97688 - acc: 0.8997845 - batches: 349\nEpoch 23/30 - 0.59s - loss: 154.53181 - acc: 0.9008621 - batches: 349\nEpoch 24/30 - 0.60s - loss: 154.08444 - acc: 0.90140086 - batches: 349\nEpoch 25/30 - 0.60s - loss: 153.64377 - acc: 0.90247846 - batches: 349\nEpoch 26/30 - 0.60s - loss: 153.21358 - acc: 0.90373564 - batches: 349\nEpoch 27/30 - 0.59s - loss: 152.8013 - acc: 0.9051724 - batches: 349\nEpoch 28/30 - 0.59s - loss: 152.39145 - acc: 0.90571123 - batches: 349\nEpoch 29/30 - 0.59s - loss: 152.01978 - acc: 0.90625 - batches: 349\n",
          "output_type": "stream"
        }
      ]
    },
    {
      "cell_type": "code",
      "source": [
        "preds = clfDL_model_hc100.transform(testData_with_embeddings).cache()"
      ],
      "metadata": {
        "tags": [],
        "id": "w7Wzu_40qH6T",
        "trusted": true,
        "outputId": "47b9a1c5-d3dc-4ffe-f8ee-daa11450e17d"
      },
      "execution_count": null,
      "outputs": [
        {
          "name": "stdout",
          "text": "\n",
          "output_type": "stream"
        }
      ]
    },
    {
      "cell_type": "code",
      "source": [
        "preds.printSchema()\n",
        "preds.select(preds.prediction).show(5, truncate=False)\n",
        "preds.select(preds.category, preds.prediction.result).show(5, truncate=False)"
      ],
      "metadata": {
        "tags": [],
        "colab": {
          "base_uri": "https://localhost:8080/"
        },
        "id": "oeqPLNbZvuJQ",
        "outputId": "407b99fa-6008-4934-956d-8d3640a8a32f",
        "trusted": true
      },
      "execution_count": null,
      "outputs": [
        {
          "name": "stdout",
          "text": "root\n |-- text: string (nullable = true)\n |-- category: string (nullable = true)\n |-- sentence_embeddings: array (nullable = true)\n |    |-- element: struct (containsNull = true)\n |    |    |-- annotatorType: string (nullable = true)\n |    |    |-- begin: integer (nullable = false)\n |    |    |-- end: integer (nullable = false)\n |    |    |-- result: string (nullable = true)\n |    |    |-- metadata: map (nullable = true)\n |    |    |    |-- key: string\n |    |    |    |-- value: string (valueContainsNull = true)\n |    |    |-- embeddings: array (nullable = true)\n |    |    |    |-- element: float (containsNull = false)\n |-- prediction: array (nullable = true)\n |    |-- element: struct (containsNull = true)\n |    |    |-- annotatorType: string (nullable = true)\n |    |    |-- begin: integer (nullable = false)\n |    |    |-- end: integer (nullable = false)\n |    |    |-- result: string (nullable = true)\n |    |    |-- metadata: map (nullable = true)\n |    |    |    |-- key: string\n |    |    |    |-- value: string (valueContainsNull = true)\n |    |    |-- embeddings: array (nullable = true)\n |    |    |    |-- element: float (containsNull = false)\n\n+--------------------------------------------------------------------------------------+\n|prediction                                                                            |\n+--------------------------------------------------------------------------------------+\n|[{category, 0, 174, neg, {sentence -> 0, neg -> 0.99999785, pos -> 2.1658905E-6}, []}]|\n|[{category, 0, 89, neg, {sentence -> 0, neg -> 1.0, pos -> 9.501075E-9}, []}]         |\n|[{category, 0, 174, neg, {sentence -> 0, neg -> 0.9999826, pos -> 1.7429054E-5}, []}] |\n|[{category, 0, 123, pos, {sentence -> 0, neg -> 4.895892E-4, pos -> 0.9995104}, []}]  |\n|[{category, 0, 128, neg, {sentence -> 0, neg -> 1.0, pos -> 5.7781268E-8}, []}]       |\n+--------------------------------------------------------------------------------------+\nonly showing top 5 rows\n\n+--------+-----------------+\n|category|prediction.result|\n+--------+-----------------+\n|neg     |[neg]            |\n|neg     |[neg]            |\n|neg     |[neg]            |\n|neg     |[pos]            |\n|neg     |[neg]            |\n+--------+-----------------+\nonly showing top 5 rows\n",
          "output_type": "stream"
        }
      ]
    },
    {
      "cell_type": "code",
      "source": [
        "preds_df = preds.select(\"category\",\"text\",\"prediction.result\").toPandas()\n",
        "preds_df[\"result\"] = preds_df[\"result\"].apply(lambda x : x[0])\n",
        "\n",
        "print (classification_report(preds_df[\"category\"], preds_df[\"result\"]))"
      ],
      "metadata": {
        "tags": [],
        "colab": {
          "base_uri": "https://localhost:8080/"
        },
        "id": "l0yEqGcJDbck",
        "outputId": "c95a4f1c-2c49-4e70-8789-08835d723d8e",
        "trusted": true
      },
      "execution_count": null,
      "outputs": [
        {
          "name": "stdout",
          "text": "              precision    recall  f1-score   support\n\n         neg       0.88      0.92      0.90      1049\n         pos       0.77      0.68      0.72       425\n\n    accuracy                           0.85      1474\n   macro avg       0.83      0.80      0.81      1474\nweighted avg       0.85      0.85      0.85      1474\n",
          "output_type": "stream"
        }
      ]
    },
    {
      "cell_type": "code",
      "source": [
        "res = classification_report(preds_df[\"category\"], preds_df[\"result\"], output_dict=True)\n",
        "results_df = pd.DataFrame(columns=[\"pos-f1-score\",\"accuracy\"])\n",
        "results_df.loc[\"ClassifierDL_100d\"] = [res[\"pos\"][\"f1-score\"], res[\"accuracy\"]]\n",
        "results_df"
      ],
      "metadata": {
        "tags": [],
        "colab": {
          "base_uri": "https://localhost:8080/",
          "height": 81
        },
        "id": "plDgtjcK54CV",
        "outputId": "acb02e5d-1924-4017-8c8d-f1775ea24041",
        "trusted": true
      },
      "execution_count": null,
      "outputs": [
        {
          "name": "stdout",
          "text": "                   pos-f1-score  accuracy\nClassifierDL_100d      0.724311  0.850746\n",
          "output_type": "stream"
        }
      ]
    },
    {
      "cell_type": "markdown",
      "source": [
        "### MultiClassifierDL"
      ],
      "metadata": {
        "id": "3NRB48Jd8PBL"
      }
    },
    {
      "cell_type": "markdown",
      "source": [
        "We will use MultiClassifierDL built by using Bidirectional GRU and CNNs inside TensorFlow that supports up to 100 classes. It is designed for multi-label classification purposes. Here we will use MultiClassifierDL as a binary classifier."
      ],
      "metadata": {
        "id": "fHNzlFhIi1IU"
      }
    },
    {
      "cell_type": "code",
      "source": [
        "# MultiClassifierDL accepts list of strings as input label. So we convert label column to array type.\n",
        "trainingData_with_embeddings = trainingData_with_embeddings.withColumn(\"category_array\", F.array(F.col(\"category\")))\n",
        "testData_with_embeddings = testData_with_embeddings.withColumn(\"category_array\", F.array(F.col(\"category\")))"
      ],
      "metadata": {
        "tags": [],
        "id": "H7BFPBvBkRXm",
        "trusted": true,
        "outputId": "6a8d8c03-d8eb-42c5-f73a-a08e7d607ba3"
      },
      "execution_count": null,
      "outputs": [
        {
          "name": "stdout",
          "text": "\n",
          "output_type": "stream"
        }
      ]
    },
    {
      "cell_type": "code",
      "source": [
        "multiClassifier = nlp.MultiClassifierDLApproach()\\\n",
        "  .setInputCols(\"sentence_embeddings\")\\\n",
        "  .setOutputCol(\"prediction\")\\\n",
        "  .setLabelColumn(\"category_array\")\\\n",
        "  .setBatchSize(16)\\\n",
        "  .setMaxEpochs(20)\\\n",
        "  .setLr(9e-3)\\\n",
        "  .setThreshold(0.5)\\\n",
        "  .setShufflePerEpoch(False)\\\n",
        "  .setEnableOutputLogs(True)\\\n",
        "  .setOutputLogsPath(log_folder)\\\n",
        "#   .setValidationSplit(0.1)\n",
        "\n",
        "multiClassifier_pipeline = nlp.Pipeline(\n",
        "    stages = [\n",
        "        multiClassifier\n",
        "    ])"
      ],
      "metadata": {
        "tags": [],
        "id": "qfayOhW1QGuZ",
        "trusted": true,
        "outputId": "37279f64-d1d3-411f-bf3e-3384e19c1625"
      },
      "execution_count": null,
      "outputs": [
        {
          "name": "stdout",
          "text": "\n",
          "output_type": "stream"
        }
      ]
    },
    {
      "cell_type": "code",
      "source": [
        "multiClassifier_model_hc100 = multiClassifier_pipeline.fit(trainingData_with_embeddings)"
      ],
      "metadata": {
        "tags": [],
        "id": "uis9foJpQ56_",
        "trusted": true,
        "outputId": "6dd198ed-77b3-45f8-dc9b-15f878ff0595"
      },
      "execution_count": null,
      "outputs": [
        {
          "name": "stdout",
          "text": "\n",
          "output_type": "stream"
        }
      ]
    },
    {
      "cell_type": "code",
      "source": [
        "log_files = os.listdir(f'./{log_folder}')\n",
        "\n",
        "for file in log_files:\n",
        "    if file.startswith(\"MultiClassifierDLApproach\"):\n",
        "        approach_log_file=file\n",
        "\n",
        "with open(f\"./{log_folder}/{approach_log_file}\") as log_file:\n",
        "    print(log_file.read())"
      ],
      "metadata": {
        "trusted": true,
        "tags": [],
        "id": "QmV9y1kxc3C9",
        "outputId": "db7ff6b9-437f-4054-e7b1-11c693946ebf"
      },
      "execution_count": null,
      "outputs": [
        {
          "name": "stdout",
          "text": "Training started - epochs: 20 - learning_rate: 0.009 - batch_size: 16 - training_examples: 5571 - classes: 2\nEpoch 0/20 - 4.62s - loss: 0.5169559 - acc: 0.74272627 - batches: 349\nEpoch 1/20 - 1.43s - loss: 0.46233898 - acc: 0.77693963 - batches: 349\nEpoch 2/20 - 1.35s - loss: 0.43175375 - acc: 0.8042385 - batches: 349\nEpoch 3/20 - 1.38s - loss: 0.4099297 - acc: 0.8184267 - batches: 349\nEpoch 4/20 - 1.35s - loss: 0.39306343 - acc: 0.8262392 - batches: 349\nEpoch 5/20 - 1.35s - loss: 0.37915727 - acc: 0.83171695 - batches: 349\nEpoch 6/20 - 1.35s - loss: 0.36419103 - acc: 0.8383621 - batches: 349\nEpoch 7/20 - 1.37s - loss: 0.35041878 - acc: 0.8483297 - batches: 349\nEpoch 8/20 - 1.38s - loss: 0.33737883 - acc: 0.8556932 - batches: 349\nEpoch 9/20 - 1.36s - loss: 0.3240692 - acc: 0.8600934 - batches: 349\nEpoch 10/20 - 1.38s - loss: 0.31046864 - acc: 0.8669181 - batches: 349\nEpoch 11/20 - 1.38s - loss: 0.29812104 - acc: 0.8753592 - batches: 349\nEpoch 12/20 - 1.37s - loss: 0.28461918 - acc: 0.8814655 - batches: 349\nEpoch 13/20 - 1.43s - loss: 0.27083924 - acc: 0.88703305 - batches: 349\nEpoch 14/20 - 1.41s - loss: 0.25761038 - acc: 0.8934088 - batches: 349\nEpoch 15/20 - 1.43s - loss: 0.24335995 - acc: 0.8996947 - batches: 349\nEpoch 16/20 - 1.40s - loss: 0.22788616 - acc: 0.90741736 - batches: 349\nEpoch 17/20 - 1.43s - loss: 0.21298212 - acc: 0.9123563 - batches: 349\nEpoch 18/20 - 1.34s - loss: 0.20244355 - acc: 0.91783404 - batches: 349\nEpoch 19/20 - 1.34s - loss: 0.18791771 - acc: 0.9240302 - batches: 349\n",
          "output_type": "stream"
        }
      ]
    },
    {
      "cell_type": "code",
      "source": [
        "preds = multiClassifier_model_hc100.transform(testData_with_embeddings).cache()"
      ],
      "metadata": {
        "tags": [],
        "id": "aU71yDTEQ57A",
        "trusted": true,
        "outputId": "1afe3e3e-9cb1-45ad-ea66-b51548560ce9"
      },
      "execution_count": null,
      "outputs": [
        {
          "name": "stdout",
          "text": "\n",
          "output_type": "stream"
        }
      ]
    },
    {
      "cell_type": "code",
      "source": [
        "preds.printSchema()\n",
        "preds.select(preds.prediction).show(5, truncate=False)\n",
        "preds.select(preds.category_array, preds.prediction.result).show(5, truncate=False)"
      ],
      "metadata": {
        "tags": [],
        "colab": {
          "base_uri": "https://localhost:8080/"
        },
        "id": "sMqK2PTaQ57A",
        "outputId": "ab95adba-c6b7-4362-f704-78d07b6ab026",
        "trusted": true
      },
      "execution_count": null,
      "outputs": [
        {
          "name": "stdout",
          "text": "root\n |-- text: string (nullable = true)\n |-- category: string (nullable = true)\n |-- sentence_embeddings: array (nullable = true)\n |    |-- element: struct (containsNull = true)\n |    |    |-- annotatorType: string (nullable = true)\n |    |    |-- begin: integer (nullable = false)\n |    |    |-- end: integer (nullable = false)\n |    |    |-- result: string (nullable = true)\n |    |    |-- metadata: map (nullable = true)\n |    |    |    |-- key: string\n |    |    |    |-- value: string (valueContainsNull = true)\n |    |    |-- embeddings: array (nullable = true)\n |    |    |    |-- element: float (containsNull = false)\n |-- category_array: array (nullable = false)\n |    |-- element: string (containsNull = true)\n |-- prediction: array (nullable = true)\n |    |-- element: struct (containsNull = true)\n |    |    |-- annotatorType: string (nullable = true)\n |    |    |-- begin: integer (nullable = false)\n |    |    |-- end: integer (nullable = false)\n |    |    |-- result: string (nullable = true)\n |    |    |-- metadata: map (nullable = true)\n |    |    |    |-- key: string\n |    |    |    |-- value: string (valueContainsNull = true)\n |    |    |-- embeddings: array (nullable = true)\n |    |    |    |-- element: float (containsNull = false)\n\n+-------------------------------------------------------------------------------------+\n|prediction                                                                           |\n+-------------------------------------------------------------------------------------+\n|[{category, 0, 174, neg, {sentence -> 0, neg -> 0.98268485, pos -> 0.01695028}, []}] |\n|[{category, 0, 89, neg, {sentence -> 0, neg -> 0.9996915, pos -> 3.066063E-4}, []}]  |\n|[{category, 0, 174, neg, {sentence -> 0, neg -> 0.9999986, pos -> 1.4241614E-6}, []}]|\n|[{category, 0, 123, pos, {sentence -> 0, neg -> 0.048154593, pos -> 0.9517349}, []}] |\n|[{category, 0, 128, neg, {sentence -> 0, neg -> 0.97509766, pos -> 0.025040656}, []}]|\n+-------------------------------------------------------------------------------------+\nonly showing top 5 rows\n\n+--------------+-----------------+\n|category_array|prediction.result|\n+--------------+-----------------+\n|[neg]         |[neg]            |\n|[neg]         |[neg]            |\n|[neg]         |[neg]            |\n|[neg]         |[pos]            |\n|[neg]         |[neg]            |\n+--------------+-----------------+\nonly showing top 5 rows\n",
          "output_type": "stream"
        }
      ]
    },
    {
      "cell_type": "code",
      "source": [
        "preds_df = preds.select(\"category\",\"text\",\"prediction.result\",\"prediction.metadata\").toPandas()\n",
        "preds_df.result.apply(lambda x: str(x) ).value_counts()"
      ],
      "metadata": {
        "tags": [],
        "colab": {
          "base_uri": "https://localhost:8080/"
        },
        "id": "fdYjuIgznI9H",
        "outputId": "0843dc6c-70ed-4334-dd5b-38f9148a6eb6",
        "trusted": true
      },
      "execution_count": null,
      "outputs": [
        {
          "name": "stdout",
          "text": "['neg']    1033\n['pos']     441\nName: result, dtype: int64\n",
          "output_type": "stream"
        }
      ]
    },
    {
      "cell_type": "code",
      "source": [
        "preds_df[preds_df.result.apply(len)==2]"
      ],
      "metadata": {
        "tags": [],
        "colab": {
          "base_uri": "https://localhost:8080/",
          "height": 49
        },
        "id": "s52SZO6k2nu7",
        "outputId": "ee478bfe-e791-4b78-e1f9-35e9dbcfa1eb",
        "trusted": true
      },
      "execution_count": null,
      "outputs": [
        {
          "name": "stdout",
          "text": "Empty DataFrame\nColumns: [category, text, result, metadata]\nIndex: []\n",
          "output_type": "stream"
        }
      ]
    },
    {
      "cell_type": "code",
      "source": [
        "preds_df[preds_df.result.apply(len)==0]"
      ],
      "metadata": {
        "tags": [],
        "colab": {
          "base_uri": "https://localhost:8080/",
          "height": 81
        },
        "id": "F64-vahk3MQn",
        "outputId": "7f1a8191-e0d6-4cdf-96c3-7abf970e943e",
        "trusted": true
      },
      "execution_count": null,
      "outputs": [
        {
          "name": "stdout",
          "text": "Empty DataFrame\nColumns: [category, text, result, metadata]\nIndex: []\n",
          "output_type": "stream"
        }
      ]
    },
    {
      "cell_type": "markdown",
      "source": [
        "MultiClassifierDL is a multi-label classifier, so some predictions may include both labels or none of the labels. That can be controlled a bit with `.setThreshold()` parameter during training. For now we will not keep zero label predictions and get the highest score as prediction."
      ],
      "metadata": {
        "id": "yPS9qyw-nYJN"
      }
    },
    {
      "cell_type": "code",
      "source": [
        "# We will get the highest score label as result. You can control the number of zero label results with setThreshold() in the training.\n",
        "preds_df[\"scores\"] = preds_df.metadata.apply(lambda x: {k:float(v) for k,v in x[0].items()} if len(x)>=1 else \"\")\n",
        "preds_df[\"result\"] = preds_df.scores.apply(lambda x: max(x, key=x.get) if len(x)>=1 else \"\")\n",
        "preds_df = preds_df[(preds_df[\"result\"]!=\"\")]\n",
        "preds_df[\"result\"].value_counts()"
      ],
      "metadata": {
        "tags": [],
        "colab": {
          "base_uri": "https://localhost:8080/"
        },
        "id": "ZG5XKJVd79vg",
        "outputId": "02d8bf10-4c3e-4971-f8b9-8cd6bdd89505",
        "trusted": true
      },
      "execution_count": null,
      "outputs": [
        {
          "name": "stdout",
          "text": "neg    1033\npos     441\nName: result, dtype: int64\n",
          "output_type": "stream"
        }
      ]
    },
    {
      "cell_type": "code",
      "source": [
        "res = classification_report(preds_df[\"category\"], preds_df[\"result\"], output_dict=True)\n",
        "results_df.loc[\"MultiClassifierDL_100d\"] = [res[\"pos\"][\"f1-score\"], res[\"accuracy\"]]\n",
        "\n",
        "print (classification_report(preds_df[\"category\"], preds_df[\"result\"]))"
      ],
      "metadata": {
        "tags": [],
        "colab": {
          "base_uri": "https://localhost:8080/"
        },
        "id": "MT8hQSEqQ57A",
        "outputId": "7992f90e-a615-42a7-ad71-7d52122a6252",
        "trusted": true
      },
      "execution_count": null,
      "outputs": [
        {
          "name": "stdout",
          "text": "              precision    recall  f1-score   support\n\n         neg       0.88      0.87      0.87      1049\n         pos       0.68      0.71      0.70       425\n\n    accuracy                           0.82      1474\n   macro avg       0.78      0.79      0.78      1474\nweighted avg       0.82      0.82      0.82      1474\n",
          "output_type": "stream"
        }
      ]
    },
    {
      "cell_type": "markdown",
      "source": [
        "### Generic Classifier"
      ],
      "metadata": {
        "id": "aCf989KwQB3H"
      }
    },
    {
      "cell_type": "code",
      "source": [
        "from sparknlp_jsl.annotator import TFGraphBuilder\n",
        "\n",
        "graph_folder = \"gc_graph\"\n",
        "\n",
        "gc_graph_builder =medical.TFGraphBuilder()\\\n",
        "    .setModelName(\"generic_classifier\")\\\n",
        "    .setInputCols([\"features\"])\\\n",
        "    .setLabelColumn(\"category\")\\\n",
        "    .setHiddenLayers([300,200, 50])\\\n",
        "    .setHiddenAct(\"tanh\")\\\n",
        "    .setHiddenActL2(True)\\\n",
        "    .setBatchNorm(True)\\\n",
        "    .setGraphFolder(graph_folder)\\\n",
        "    .setGraphFile(\"gcf_graph_100d.pb\")"
      ],
      "metadata": {
        "tags": [],
        "id": "N1Z9so_UQB3I",
        "trusted": true,
        "outputId": "11d3f493-5d83-4e2e-a827-5f7de6c9fa18"
      },
      "execution_count": null,
      "outputs": [
        {
          "name": "stdout",
          "text": "\n",
          "output_type": "stream"
        }
      ]
    },
    {
      "cell_type": "markdown",
      "source": [
        "GenericClassifier needs outputs from FeaturesAssembler. The FeaturesAssembler is used to collect features from different columns or an embeddings column.\n",
        "\n",
        "The GenericClassifierApproach takes FEATURE_VECTOR annotations as input, classifies them and outputs CATEGORY annotations."
      ],
      "metadata": {
        "id": "_ADlQFAHch6j"
      }
    },
    {
      "cell_type": "code",
      "source": [
        "features_asm = medical.FeaturesAssembler()\\\n",
        "    .setInputCols([\"sentence_embeddings\"])\\\n",
        "    .setOutputCol(\"features\")\n",
        "\n",
        "gen_clf =medical.GenericClassifierApproach()\\\n",
        "    .setLabelColumn(\"category\")\\\n",
        "    .setInputCols(\"features\")\\\n",
        "    .setOutputCol(\"prediction\")\\\n",
        "    .setModelFile(f\"{graph_folder}/gcf_graph_100d.pb\")\\\n",
        "    .setEpochsNumber(25)\\\n",
        "    .setBatchSize(128)\\\n",
        "    .setLearningRate(0.004)\\\n",
        "    .setOutputLogsPath(log_folder)\\\n",
        "    .setDropout(0.2)\\\n",
        "    .setFixImbalance(True)\\\n",
        "    # .setValidationSplit(0.1)\n",
        "\n",
        "clf_Pipeline = nlp.Pipeline(stages=[\n",
        "    features_asm,\n",
        "    gc_graph_builder,\n",
        "    gen_clf])\n"
      ],
      "metadata": {
        "tags": [],
        "id": "f7saGLwvQB3I",
        "trusted": true,
        "outputId": "c9a723b4-c8ed-4bf1-f007-0113deda37fa"
      },
      "execution_count": null,
      "outputs": [
        {
          "name": "stdout",
          "text": "\n",
          "output_type": "stream"
        }
      ]
    },
    {
      "cell_type": "code",
      "source": [
        "generic_model_hc100 = clf_Pipeline.fit(trainingData_with_embeddings)"
      ],
      "metadata": {
        "tags": [],
        "colab": {
          "base_uri": "https://localhost:8080/"
        },
        "id": "oSG7cx7yQB3I",
        "outputId": "59cfa88c-0f89-40e9-e419-529c7d0168b4",
        "trusted": true
      },
      "execution_count": null,
      "outputs": [
        {
          "name": "stdout",
          "text": "TF Graph Builder configuration:\nModel name: generic_classifier\nGraph folder: gc_graph\nGraph file name: gcf_graph_100d.pb\nBuild params: {'input_dim': 100, 'output_dim': 2, 'hidden_layers': [300, 200, 50], 'hidden_act': 'tanh', 'hidden_act_l2': True, 'batch_norm': True}\ngeneric_classifier graph exported to gc_graph/gcf_graph_100d.pb\n",
          "output_type": "stream"
        }
      ]
    },
    {
      "cell_type": "code",
      "source": [
        "log_files = os.listdir(f'./{log_folder}')\n",
        "\n",
        "for file in log_files:\n",
        "    if file.startswith(\"GenericClassifierApproach\"):\n",
        "        approach_log_file=file\n",
        "\n",
        "with open(f\"./{log_folder}/{approach_log_file}\") as log_file:\n",
        "    print(log_file.read())"
      ],
      "metadata": {
        "trusted": true,
        "tags": [],
        "id": "8Jm0hU1Zc3DE",
        "outputId": "b390bd4c-bca4-42c8-ffae-d7fc4feaef2e"
      },
      "execution_count": null,
      "outputs": [
        {
          "name": "stdout",
          "text": "Training 25 epochs\nEpoch 1/25\t0.22s\tLoss: 11.748328\tACC: 0.64980495\nEpoch 2/25\t0.07s\tLoss: 9.885623\tACC: 0.72867197\nEpoch 3/25\t0.07s\tLoss: 9.756206\tACC: 0.7211987\nEpoch 4/25\t0.06s\tLoss: 9.615266\tACC: 0.731126\nEpoch 5/25\t0.07s\tLoss: 9.193292\tACC: 0.7454445\nEpoch 6/25\t0.07s\tLoss: 9.36622\tACC: 0.7421345\nEpoch 7/25\t0.06s\tLoss: 8.965071\tACC: 0.7565987\nEpoch 8/25\t0.06s\tLoss: 8.837003\tACC: 0.75900245\nEpoch 9/25\t0.07s\tLoss: 8.838768\tACC: 0.7576773\nEpoch 10/25\t0.07s\tLoss: 8.663225\tACC: 0.7649599\nEpoch 11/25\t0.07s\tLoss: 8.518035\tACC: 0.7710285\nEpoch 12/25\t0.06s\tLoss: 8.600838\tACC: 0.7664942\nEpoch 13/25\t0.07s\tLoss: 8.41001\tACC: 0.7774683\nEpoch 14/25\t0.07s\tLoss: 8.414449\tACC: 0.7785204\nEpoch 15/25\t0.07s\tLoss: 8.24315\tACC: 0.7838444\nEpoch 16/25\t0.07s\tLoss: 8.4586315\tACC: 0.7703501\nEpoch 17/25\t0.06s\tLoss: 8.056649\tACC: 0.7896084\nEpoch 18/25\t0.06s\tLoss: 8.120058\tACC: 0.78712267\nEpoch 19/25\t0.06s\tLoss: 8.052904\tACC: 0.7828931\nEpoch 20/25\t0.06s\tLoss: 8.013583\tACC: 0.7853153\nEpoch 21/25\t0.06s\tLoss: 8.111802\tACC: 0.7830521\nEpoch 22/25\t0.07s\tLoss: 8.124873\tACC: 0.7870405\nEpoch 23/25\t0.07s\tLoss: 8.136933\tACC: 0.77879333\nEpoch 24/25\t0.06s\tLoss: 7.8427205\tACC: 0.7945959\nEpoch 25/25\t0.07s\tLoss: 7.9727225\tACC: 0.7832137\nTraining completed.\n",
          "output_type": "stream"
        }
      ]
    },
    {
      "cell_type": "code",
      "source": [
        "pred_df = generic_model_hc100.transform(testData_with_embeddings).cache()"
      ],
      "metadata": {
        "tags": [],
        "id": "3Sqm6pF95vYX",
        "trusted": true,
        "outputId": "f340d20a-fc1d-490f-b6d6-00d94e179067"
      },
      "execution_count": null,
      "outputs": [
        {
          "name": "stdout",
          "text": "\n",
          "output_type": "stream"
        }
      ]
    },
    {
      "cell_type": "code",
      "source": [
        "preds.printSchema()\n",
        "preds.select(preds.prediction).show(5, truncate=False)\n",
        "preds.select(preds.category, preds.prediction.result).show(5, truncate=False)"
      ],
      "metadata": {
        "tags": [],
        "colab": {
          "base_uri": "https://localhost:8080/"
        },
        "id": "EW_Bbcb55xe-",
        "outputId": "f734b9da-0e73-4a80-9ed9-5b43037d27a2",
        "trusted": true
      },
      "execution_count": null,
      "outputs": [
        {
          "name": "stdout",
          "text": "root\n |-- text: string (nullable = true)\n |-- category: string (nullable = true)\n |-- sentence_embeddings: array (nullable = true)\n |    |-- element: struct (containsNull = true)\n |    |    |-- annotatorType: string (nullable = true)\n |    |    |-- begin: integer (nullable = false)\n |    |    |-- end: integer (nullable = false)\n |    |    |-- result: string (nullable = true)\n |    |    |-- metadata: map (nullable = true)\n |    |    |    |-- key: string\n |    |    |    |-- value: string (valueContainsNull = true)\n |    |    |-- embeddings: array (nullable = true)\n |    |    |    |-- element: float (containsNull = false)\n |-- category_array: array (nullable = false)\n |    |-- element: string (containsNull = true)\n |-- prediction: array (nullable = true)\n |    |-- element: struct (containsNull = true)\n |    |    |-- annotatorType: string (nullable = true)\n |    |    |-- begin: integer (nullable = false)\n |    |    |-- end: integer (nullable = false)\n |    |    |-- result: string (nullable = true)\n |    |    |-- metadata: map (nullable = true)\n |    |    |    |-- key: string\n |    |    |    |-- value: string (valueContainsNull = true)\n |    |    |-- embeddings: array (nullable = true)\n |    |    |    |-- element: float (containsNull = false)\n\n+-------------------------------------------------------------------------------------+\n|prediction                                                                           |\n+-------------------------------------------------------------------------------------+\n|[{category, 0, 174, neg, {sentence -> 0, neg -> 0.98268485, pos -> 0.01695028}, []}] |\n|[{category, 0, 89, neg, {sentence -> 0, neg -> 0.9996915, pos -> 3.066063E-4}, []}]  |\n|[{category, 0, 174, neg, {sentence -> 0, neg -> 0.9999986, pos -> 1.4241614E-6}, []}]|\n|[{category, 0, 123, pos, {sentence -> 0, neg -> 0.048154593, pos -> 0.9517349}, []}] |\n|[{category, 0, 128, neg, {sentence -> 0, neg -> 0.97509766, pos -> 0.025040656}, []}]|\n+-------------------------------------------------------------------------------------+\nonly showing top 5 rows\n\n+--------+-----------------+\n|category|prediction.result|\n+--------+-----------------+\n|neg     |[neg]            |\n|neg     |[neg]            |\n|neg     |[neg]            |\n|neg     |[pos]            |\n|neg     |[neg]            |\n+--------+-----------------+\nonly showing top 5 rows\n",
          "output_type": "stream"
        }
      ]
    },
    {
      "cell_type": "code",
      "source": [
        "preds_df = pred_df.select('category','prediction.result').toPandas()\n",
        "preds_df['result'] = preds_df.result.apply(lambda x : x[0])\n",
        "\n",
        "print (classification_report(preds_df['category'], preds_df['result']))"
      ],
      "metadata": {
        "tags": [],
        "colab": {
          "base_uri": "https://localhost:8080/"
        },
        "id": "NHCBTwrmQB3I",
        "outputId": "49e838bb-36d9-42a4-d078-18aa2ced2340",
        "trusted": true
      },
      "execution_count": null,
      "outputs": [
        {
          "name": "stdout",
          "text": "              precision    recall  f1-score   support\n\n         neg       0.94      0.66      0.78      1049\n         pos       0.52      0.89      0.65       425\n\n    accuracy                           0.73      1474\n   macro avg       0.73      0.78      0.71      1474\nweighted avg       0.82      0.73      0.74      1474\n",
          "output_type": "stream"
        }
      ]
    },
    {
      "cell_type": "code",
      "source": [
        "res = classification_report(preds_df[\"category\"], preds_df[\"result\"], output_dict=True)\n",
        "results_df.loc[\"GenericClassifier_100d\"] = [res[\"pos\"][\"f1-score\"], res[\"accuracy\"]]"
      ],
      "metadata": {
        "tags": [],
        "id": "xDLpuGkr8hOI",
        "trusted": true,
        "outputId": "14615975-7317-43ec-aa17-b29129532d3d"
      },
      "execution_count": null,
      "outputs": [
        {
          "name": "stdout",
          "text": "\n",
          "output_type": "stream"
        }
      ]
    },
    {
      "cell_type": "markdown",
      "source": [
        "### GenericLogRegClassifier"
      ],
      "metadata": {
        "id": "moyOD1bWPnBR"
      }
    },
    {
      "cell_type": "code",
      "source": [
        "graph_folder = \"gc_graph\"\n",
        "\n",
        "gc_logreg_graph_builder = medical.TFGraphBuilder()\\\n",
        "    .setModelName(\"logreg_classifier\")\\\n",
        "    .setInputCols([\"feature_vector\"]) \\\n",
        "    .setLabelColumn(\"category\")\\\n",
        "    .setGraphFolder(graph_folder)\\\n",
        "    .setGraphFile(\"log_reg_graph.pb\")"
      ],
      "metadata": {
        "tags": [],
        "id": "DfbdLp5ZPnBR",
        "trusted": true,
        "outputId": "a79bf2a7-0caa-4924-e80e-878ab1a85b2e"
      },
      "execution_count": null,
      "outputs": [
        {
          "name": "stdout",
          "text": "\n",
          "output_type": "stream"
        }
      ]
    },
    {
      "cell_type": "markdown",
      "source": [
        "GenericLogRegClassifier needs outputs from FeaturesAssembler. The FeaturesAssembler is used to collect features from different columns or an embeddings column.\n",
        "\n",
        "The GenericLogRegClassifier takes FEATURE_VECTOR annotations as input, classifies them and outputs CATEGORY annotations."
      ],
      "metadata": {
        "id": "nF-VGSTbPnBS"
      }
    },
    {
      "cell_type": "code",
      "source": [
        "features_asm = medical.FeaturesAssembler()\\\n",
        "    .setInputCols([\"sentence_embeddings\"])\\\n",
        "    .setOutputCol(\"feature_vector\")\n",
        "\n",
        "gen_clf = medical.GenericLogRegClassifierApproach()\\\n",
        "    .setLabelColumn(\"category\")\\\n",
        "    .setInputCols(\"feature_vector\")\\\n",
        "    .setOutputCol(\"prediction\")\\\n",
        "    .setModelFile(f\"{graph_folder}/log_reg_graph.pb\")\\\n",
        "    .setEpochsNumber(20)\\\n",
        "    .setBatchSize(128)\\\n",
        "    .setLearningRate(0.01)\\\n",
        "    .setOutputLogsPath(log_folder)\\\n",
        "    .setDropout(0.1)\\\n",
        "    .setFixImbalance(True)\\\n",
        "    # .setValidationSplit(0.1)\n",
        "\n",
        "clf_Pipeline = nlp.Pipeline(stages=[\n",
        "    features_asm,\n",
        "    gc_logreg_graph_builder,\n",
        "    gen_clf])\n"
      ],
      "metadata": {
        "tags": [],
        "id": "RrPR_-6kPnBS",
        "trusted": true,
        "outputId": "652f815a-c276-41b6-b955-e5d1acb72db9"
      },
      "execution_count": null,
      "outputs": [
        {
          "name": "stdout",
          "text": "\n",
          "output_type": "stream"
        }
      ]
    },
    {
      "cell_type": "code",
      "source": [
        "generic_model_hc100 = clf_Pipeline.fit(trainingData_with_embeddings)"
      ],
      "metadata": {
        "tags": [],
        "colab": {
          "base_uri": "https://localhost:8080/"
        },
        "id": "JvS4gi_sPnBS",
        "outputId": "c17242d8-0c6f-4c44-e7b2-28430210588d",
        "trusted": true
      },
      "execution_count": null,
      "outputs": [
        {
          "name": "stdout",
          "text": "TF Graph Builder configuration:\nModel name: logreg_classifier\nGraph folder: gc_graph\nGraph file name: log_reg_graph.pb\nBuild params: {'input_dim': 100, 'output_dim': 2, 'hidden_layers': [], 'output_act': 'sigmoid'}\nlogreg_classifier graph exported to gc_graph/log_reg_graph.pb\n",
          "output_type": "stream"
        }
      ]
    },
    {
      "cell_type": "code",
      "source": [
        "log_files = os.listdir(f'./{log_folder}')\n",
        "\n",
        "for file in log_files:\n",
        "    if file.startswith(\"GenericLogRegClassifierApproach\"):\n",
        "        approach_log_file=file\n",
        "\n",
        "with open(f\"./{log_folder}/{approach_log_file}\") as log_file:\n",
        "    print(log_file.read())"
      ],
      "metadata": {
        "trusted": true,
        "tags": [],
        "id": "xt7NEASTc3DI",
        "outputId": "8fe49fe9-f74c-418a-cd5f-4d3aec66b3b9"
      },
      "execution_count": null,
      "outputs": [
        {
          "name": "stdout",
          "text": "Training 20 epochs\nEpoch 1/20\t0.08s\tLoss: 26.28155\tACC: 0.70384586\nEpoch 2/20\t0.02s\tLoss: 24.406887\tACC: 0.7136777\nEpoch 3/20\t0.02s\tLoss: 23.547459\tACC: 0.72770464\nEpoch 4/20\t0.02s\tLoss: 22.976469\tACC: 0.7374226\nEpoch 5/20\t0.02s\tLoss: 22.64483\tACC: 0.74546033\nEpoch 6/20\t0.02s\tLoss: 22.262129\tACC: 0.74969\nEpoch 7/20\t0.02s\tLoss: 22.086308\tACC: 0.7517729\nEpoch 8/20\t0.02s\tLoss: 21.927061\tACC: 0.75377375\nEpoch 9/20\t0.02s\tLoss: 21.7363\tACC: 0.75747067\nEpoch 10/20\t0.02s\tLoss: 21.771461\tACC: 0.751659\nEpoch 11/20\t0.02s\tLoss: 21.748056\tACC: 0.7555334\nEpoch 12/20\t0.02s\tLoss: 21.617737\tACC: 0.76055264\nEpoch 13/20\t0.02s\tLoss: 21.493406\tACC: 0.75364393\nEpoch 14/20\t0.02s\tLoss: 21.5843\tACC: 0.75687176\nEpoch 15/20\t0.02s\tLoss: 21.375723\tACC: 0.76131064\nEpoch 16/20\t0.02s\tLoss: 21.371252\tACC: 0.7601499\nEpoch 17/20\t0.02s\tLoss: 21.160835\tACC: 0.76447487\nEpoch 18/20\t0.02s\tLoss: 21.463665\tACC: 0.7616816\nEpoch 19/20\t0.02s\tLoss: 21.498943\tACC: 0.75785756\nEpoch 20/20\t0.02s\tLoss: 21.439146\tACC: 0.75879306\nTraining completed.\n",
          "output_type": "stream"
        }
      ]
    },
    {
      "cell_type": "code",
      "source": [
        "pred_df = generic_model_hc100.transform(testData_with_embeddings)"
      ],
      "metadata": {
        "tags": [],
        "id": "9acpNGeCPnBT",
        "trusted": true,
        "outputId": "1a4e1bfd-002d-4ff9-d337-dd83bec90df4"
      },
      "execution_count": null,
      "outputs": [
        {
          "name": "stdout",
          "text": "\n",
          "output_type": "stream"
        }
      ]
    },
    {
      "cell_type": "code",
      "source": [
        "preds.printSchema()\n",
        "preds.select(preds.prediction).show(5, truncate=False)\n",
        "preds.select(preds.category, preds.prediction.result).show(5, truncate=False)"
      ],
      "metadata": {
        "tags": [],
        "colab": {
          "base_uri": "https://localhost:8080/"
        },
        "id": "jxk_78fcPnBT",
        "outputId": "37d2185a-1a33-49a5-bd60-cfe4f82481b7",
        "trusted": true
      },
      "execution_count": null,
      "outputs": [
        {
          "name": "stdout",
          "text": "root\n |-- text: string (nullable = true)\n |-- category: string (nullable = true)\n |-- sentence_embeddings: array (nullable = true)\n |    |-- element: struct (containsNull = true)\n |    |    |-- annotatorType: string (nullable = true)\n |    |    |-- begin: integer (nullable = false)\n |    |    |-- end: integer (nullable = false)\n |    |    |-- result: string (nullable = true)\n |    |    |-- metadata: map (nullable = true)\n |    |    |    |-- key: string\n |    |    |    |-- value: string (valueContainsNull = true)\n |    |    |-- embeddings: array (nullable = true)\n |    |    |    |-- element: float (containsNull = false)\n |-- category_array: array (nullable = false)\n |    |-- element: string (containsNull = true)\n |-- prediction: array (nullable = true)\n |    |-- element: struct (containsNull = true)\n |    |    |-- annotatorType: string (nullable = true)\n |    |    |-- begin: integer (nullable = false)\n |    |    |-- end: integer (nullable = false)\n |    |    |-- result: string (nullable = true)\n |    |    |-- metadata: map (nullable = true)\n |    |    |    |-- key: string\n |    |    |    |-- value: string (valueContainsNull = true)\n |    |    |-- embeddings: array (nullable = true)\n |    |    |    |-- element: float (containsNull = false)\n\n+-------------------------------------------------------------------------------------+\n|prediction                                                                           |\n+-------------------------------------------------------------------------------------+\n|[{category, 0, 174, neg, {sentence -> 0, neg -> 0.98268485, pos -> 0.01695028}, []}] |\n|[{category, 0, 89, neg, {sentence -> 0, neg -> 0.9996915, pos -> 3.066063E-4}, []}]  |\n|[{category, 0, 174, neg, {sentence -> 0, neg -> 0.9999986, pos -> 1.4241614E-6}, []}]|\n|[{category, 0, 123, pos, {sentence -> 0, neg -> 0.048154593, pos -> 0.9517349}, []}] |\n|[{category, 0, 128, neg, {sentence -> 0, neg -> 0.97509766, pos -> 0.025040656}, []}]|\n+-------------------------------------------------------------------------------------+\nonly showing top 5 rows\n\n+--------+-----------------+\n|category|prediction.result|\n+--------+-----------------+\n|neg     |[neg]            |\n|neg     |[neg]            |\n|neg     |[neg]            |\n|neg     |[pos]            |\n|neg     |[neg]            |\n+--------+-----------------+\nonly showing top 5 rows\n",
          "output_type": "stream"
        }
      ]
    },
    {
      "cell_type": "code",
      "source": [
        "preds_df = pred_df.select('category','prediction.result').toPandas()\n",
        "preds_df['result'] = preds_df.result.apply(lambda x : x[0])\n",
        "\n",
        "print (classification_report(preds_df['category'], preds_df['result']))"
      ],
      "metadata": {
        "tags": [],
        "colab": {
          "base_uri": "https://localhost:8080/"
        },
        "id": "iF3ut5msPnBT",
        "outputId": "93259d6d-027f-46d5-a162-a711aa0e07df",
        "trusted": true
      },
      "execution_count": null,
      "outputs": [
        {
          "name": "stdout",
          "text": "              precision    recall  f1-score   support\n\n         neg       0.78      0.93      0.85      1049\n         pos       0.67      0.36      0.47       425\n\n    accuracy                           0.76      1474\n   macro avg       0.72      0.64      0.66      1474\nweighted avg       0.75      0.76      0.74      1474\n",
          "output_type": "stream"
        }
      ]
    },
    {
      "cell_type": "code",
      "source": [
        "res = classification_report(preds_df[\"category\"], preds_df[\"result\"], output_dict=True)\n",
        "results_df.loc[\"GenericLogReg_100d\"] = [res[\"pos\"][\"f1-score\"], res[\"accuracy\"]]"
      ],
      "metadata": {
        "tags": [],
        "id": "58c3070E8-FK",
        "trusted": true,
        "outputId": "d773530a-266f-4ad1-b28a-7827f39aff6c"
      },
      "execution_count": null,
      "outputs": [
        {
          "name": "stdout",
          "text": "\n",
          "output_type": "stream"
        }
      ]
    },
    {
      "cell_type": "markdown",
      "source": [
        "### GenericSVMClassifier"
      ],
      "metadata": {
        "id": "kGx7LiTFUytq"
      }
    },
    {
      "cell_type": "code",
      "source": [
        "graph_folder = \"gc_graph\"\n",
        "\n",
        "gc_svm_graph_builder = medical.TFGraphBuilder()\\\n",
        "    .setModelName(\"svm_classifier\")\\\n",
        "    .setInputCols([\"feature_vector\"]) \\\n",
        "    .setLabelColumn(\"category\")\\\n",
        "    .setGraphFolder(graph_folder)\\\n",
        "    .setGraphFile(\"svm_graph.pb\")"
      ],
      "metadata": {
        "tags": [],
        "id": "QQxZi5VjUytq",
        "trusted": true,
        "outputId": "8d76d40f-63ad-4c80-ad35-311c3faa5cc4"
      },
      "execution_count": null,
      "outputs": [
        {
          "name": "stdout",
          "text": "\n",
          "output_type": "stream"
        }
      ]
    },
    {
      "cell_type": "markdown",
      "source": [
        "GenericSVMClassifier needs outputs from FeaturesAssembler. The FeaturesAssembler is used to collect features from different columns or an embeddings column.\n",
        "\n",
        "The GenericSVMClassifier takes FEATURE_VECTOR annotations as input, classifies them and outputs CATEGORY annotations."
      ],
      "metadata": {
        "id": "HCczHJ9EUytq"
      }
    },
    {
      "cell_type": "code",
      "source": [
        "features_asm = medical.FeaturesAssembler()\\\n",
        "    .setInputCols([\"sentence_embeddings\"])\\\n",
        "    .setOutputCol(\"feature_vector\")\n",
        "\n",
        "gen_clf = medical.GenericSVMClassifierApproach()\\\n",
        "    .setLabelColumn(\"category\")\\\n",
        "    .setInputCols(\"feature_vector\")\\\n",
        "    .setOutputCol(\"prediction\")\\\n",
        "    .setModelFile(f\"{graph_folder}/svm_graph.pb\")\\\n",
        "    .setEpochsNumber(25)\\\n",
        "    .setBatchSize(128)\\\n",
        "    .setLearningRate(0.015)\\\n",
        "    .setOutputLogsPath(log_folder)\\\n",
        "    .setDropout(0.1)\\\n",
        "    .setFixImbalance(True)\\\n",
        "    # .setValidationSplit(0.1)\n",
        "\n",
        "clf_Pipeline = nlp.Pipeline(stages=[\n",
        "    features_asm,\n",
        "    gc_svm_graph_builder,\n",
        "    gen_clf])\n"
      ],
      "metadata": {
        "tags": [],
        "id": "iLlsBDJjUytq",
        "trusted": true,
        "outputId": "a63cc466-cc24-4d78-d3af-3d31d9e0311d"
      },
      "execution_count": null,
      "outputs": [
        {
          "name": "stdout",
          "text": "\n",
          "output_type": "stream"
        }
      ]
    },
    {
      "cell_type": "code",
      "source": [
        "generic_model_hc100 = clf_Pipeline.fit(trainingData_with_embeddings)"
      ],
      "metadata": {
        "tags": [],
        "colab": {
          "base_uri": "https://localhost:8080/"
        },
        "id": "K8KAXYtkUytq",
        "outputId": "d5fd1f05-c1fb-4953-97dd-997c23d9d3fc",
        "trusted": true
      },
      "execution_count": null,
      "outputs": [
        {
          "name": "stdout",
          "text": "TF Graph Builder configuration:\nModel name: svm_classifier\nGraph folder: gc_graph\nGraph file name: svm_graph.pb\nBuild params: {'input_dim': 100, 'output_dim': 2, 'hidden_layers': [], 'output_act': 'sigmoid', 'loss_func': 'hinge'}\nsvm_classifier graph exported to gc_graph/svm_graph.pb\n",
          "output_type": "stream"
        }
      ]
    },
    {
      "cell_type": "code",
      "source": [
        "log_files = os.listdir(f'./{log_folder}')\n",
        "\n",
        "for file in log_files:\n",
        "    if file.startswith(\"GenericSVMClassifierApproach\"):\n",
        "        approach_log_file=file\n",
        "\n",
        "with open(f\"./{log_folder}/{approach_log_file}\") as log_file:\n",
        "    print(log_file.read())"
      ],
      "metadata": {
        "trusted": true,
        "tags": [],
        "id": "VDe5agUDc3DQ",
        "outputId": "230723cf-1c3e-486c-bf7b-676bd31c29f2"
      },
      "execution_count": null,
      "outputs": [
        {
          "name": "stdout",
          "text": "Training 25 epochs\nEpoch 1/25\t0.08s\tLoss: 28.428364\tACC: 0.70145804\nEpoch 2/25\t0.02s\tLoss: 25.222578\tACC: 0.7186175\nEpoch 3/25\t0.02s\tLoss: 24.759394\tACC: 0.7253143\nEpoch 4/25\t0.02s\tLoss: 24.874647\tACC: 0.7358379\nEpoch 5/25\t0.02s\tLoss: 24.174372\tACC: 0.7493666\nEpoch 6/25\t0.02s\tLoss: 24.102083\tACC: 0.75114214\nEpoch 7/25\t0.02s\tLoss: 23.90326\tACC: 0.75826037\nEpoch 8/25\t0.02s\tLoss: 23.718916\tACC: 0.7595033\nEpoch 9/25\t0.02s\tLoss: 23.759663\tACC: 0.75884074\nEpoch 10/25\t0.02s\tLoss: 23.65178\tACC: 0.7599564\nEpoch 11/25\t0.02s\tLoss: 23.939157\tACC: 0.7549663\nEpoch 12/25\t0.02s\tLoss: 23.699596\tACC: 0.76500756\nEpoch 13/25\t0.02s\tLoss: 23.40783\tACC: 0.7631498\nEpoch 14/25\t0.02s\tLoss: 23.716967\tACC: 0.7654766\nEpoch 15/25\t0.02s\tLoss: 23.703037\tACC: 0.76508707\nEpoch 16/25\t0.02s\tLoss: 23.362638\tACC: 0.7655084\nEpoch 17/25\t0.02s\tLoss: 23.395699\tACC: 0.7700295\nEpoch 18/25\t0.02s\tLoss: 23.764606\tACC: 0.7584538\nEpoch 19/25\t0.02s\tLoss: 23.535133\tACC: 0.763232\nEpoch 20/25\t0.02s\tLoss: 23.614628\tACC: 0.76164985\nEpoch 21/25\t0.02s\tLoss: 23.574501\tACC: 0.76226467\nEpoch 22/25\t0.02s\tLoss: 23.358873\tACC: 0.768495\nEpoch 23/25\t0.02s\tLoss: 23.221485\tACC: 0.76273113\nEpoch 24/25\t0.02s\tLoss: 23.365265\tACC: 0.76273113\nEpoch 25/25\t0.02s\tLoss: 23.78451\tACC: 0.76300675\nTraining completed.\n",
          "output_type": "stream"
        }
      ]
    },
    {
      "cell_type": "code",
      "source": [
        "pred_df = generic_model_hc100.transform(testData_with_embeddings)"
      ],
      "metadata": {
        "tags": [],
        "id": "F0t-aE9hUytq",
        "trusted": true,
        "outputId": "76215da8-d926-4d19-f307-4af0aa96b455"
      },
      "execution_count": null,
      "outputs": [
        {
          "name": "stdout",
          "text": "\n",
          "output_type": "stream"
        }
      ]
    },
    {
      "cell_type": "code",
      "source": [
        "preds.printSchema()\n",
        "preds.select(preds.prediction).show(5, truncate=False)\n",
        "preds.select(preds.category, preds.prediction.result).show(5, truncate=False)"
      ],
      "metadata": {
        "tags": [],
        "colab": {
          "base_uri": "https://localhost:8080/"
        },
        "id": "4HmAqC2fUytq",
        "outputId": "aaa6ff58-aef8-41bc-d16b-375706e712cd",
        "trusted": true
      },
      "execution_count": null,
      "outputs": [
        {
          "name": "stdout",
          "text": "root\n |-- text: string (nullable = true)\n |-- category: string (nullable = true)\n |-- sentence_embeddings: array (nullable = true)\n |    |-- element: struct (containsNull = true)\n |    |    |-- annotatorType: string (nullable = true)\n |    |    |-- begin: integer (nullable = false)\n |    |    |-- end: integer (nullable = false)\n |    |    |-- result: string (nullable = true)\n |    |    |-- metadata: map (nullable = true)\n |    |    |    |-- key: string\n |    |    |    |-- value: string (valueContainsNull = true)\n |    |    |-- embeddings: array (nullable = true)\n |    |    |    |-- element: float (containsNull = false)\n |-- category_array: array (nullable = false)\n |    |-- element: string (containsNull = true)\n |-- prediction: array (nullable = true)\n |    |-- element: struct (containsNull = true)\n |    |    |-- annotatorType: string (nullable = true)\n |    |    |-- begin: integer (nullable = false)\n |    |    |-- end: integer (nullable = false)\n |    |    |-- result: string (nullable = true)\n |    |    |-- metadata: map (nullable = true)\n |    |    |    |-- key: string\n |    |    |    |-- value: string (valueContainsNull = true)\n |    |    |-- embeddings: array (nullable = true)\n |    |    |    |-- element: float (containsNull = false)\n\n+-------------------------------------------------------------------------------------+\n|prediction                                                                           |\n+-------------------------------------------------------------------------------------+\n|[{category, 0, 174, neg, {sentence -> 0, neg -> 0.98268485, pos -> 0.01695028}, []}] |\n|[{category, 0, 89, neg, {sentence -> 0, neg -> 0.9996915, pos -> 3.066063E-4}, []}]  |\n|[{category, 0, 174, neg, {sentence -> 0, neg -> 0.9999986, pos -> 1.4241614E-6}, []}]|\n|[{category, 0, 123, pos, {sentence -> 0, neg -> 0.048154593, pos -> 0.9517349}, []}] |\n|[{category, 0, 128, neg, {sentence -> 0, neg -> 0.97509766, pos -> 0.025040656}, []}]|\n+-------------------------------------------------------------------------------------+\nonly showing top 5 rows\n\n+--------+-----------------+\n|category|prediction.result|\n+--------+-----------------+\n|neg     |[neg]            |\n|neg     |[neg]            |\n|neg     |[neg]            |\n|neg     |[pos]            |\n|neg     |[neg]            |\n+--------+-----------------+\nonly showing top 5 rows\n",
          "output_type": "stream"
        }
      ]
    },
    {
      "cell_type": "code",
      "source": [
        "preds_df = pred_df.select('category','prediction.result').toPandas()\n",
        "preds_df['result'] = preds_df.result.apply(lambda x : x[0])\n",
        "\n",
        "print (classification_report(preds_df['category'], preds_df['result']))"
      ],
      "metadata": {
        "tags": [],
        "colab": {
          "base_uri": "https://localhost:8080/"
        },
        "id": "OmNN-FEuUytr",
        "outputId": "b7145950-3d92-422a-d664-5a2a5c6ac767",
        "trusted": true
      },
      "execution_count": null,
      "outputs": [
        {
          "name": "stdout",
          "text": "              precision    recall  f1-score   support\n\n         neg       0.77      0.94      0.85      1049\n         pos       0.69      0.32      0.43       425\n\n    accuracy                           0.76      1474\n   macro avg       0.73      0.63      0.64      1474\nweighted avg       0.75      0.76      0.73      1474\n",
          "output_type": "stream"
        }
      ]
    },
    {
      "cell_type": "code",
      "source": [
        "res = classification_report(preds_df[\"category\"], preds_df[\"result\"], output_dict=True)\n",
        "results_df.loc[\"GenericSVM_100d\"] = [res[\"pos\"][\"f1-score\"], res[\"accuracy\"]]"
      ],
      "metadata": {
        "tags": [],
        "id": "Ltt3uq8y9MKR",
        "trusted": true,
        "outputId": "011c98d9-95c1-4547-f54e-6210f5590f5d"
      },
      "execution_count": null,
      "outputs": [
        {
          "name": "stdout",
          "text": "\n",
          "output_type": "stream"
        }
      ]
    },
    {
      "cell_type": "markdown",
      "source": [
        "## 200 Dimension Healthcare Embeddings (embeddings_clinical)\n",
        "\n"
      ],
      "metadata": {
        "id": "hF378LqHvDRK"
      }
    },
    {
      "cell_type": "markdown",
      "source": [
        "Now we will extract [embeddings_clinical](https://nlp.johnsnowlabs.com/2020/01/28/embeddings_clinical_en.html) embeddings which has 200 dimension output and use this embeddings in the model training."
      ],
      "metadata": {
        "id": "hEppd4Q3vDRK"
      }
    },
    {
      "cell_type": "code",
      "source": [
        "document_assembler = nlp.DocumentAssembler()\\\n",
        "        .setInputCol(\"text\")\\\n",
        "        .setOutputCol(\"document\")\n",
        "\n",
        "tokenizer = nlp.Tokenizer() \\\n",
        "            .setInputCols([\"document\"]) \\\n",
        "            .setOutputCol(\"token\")\n",
        "\n",
        "word_embeddings = nlp.WordEmbeddingsModel.pretrained(\"embeddings_clinical\",\"en\",\"clinical/models\")\\\n",
        "        .setInputCols([\"document\",\"token\"])\\\n",
        "        .setOutputCol(\"word_embeddings\")\\\n",
        "        .setEnableInMemoryStorage(True)\n",
        "\n",
        "sentence_embeddings = nlp.SentenceEmbeddings() \\\n",
        "        .setInputCols([\"document\", \"word_embeddings\"]) \\\n",
        "        .setOutputCol(\"sentence_embeddings\") \\\n",
        "        .setPoolingStrategy(\"AVERAGE\")\n",
        "\n",
        "embeddings_pipeline = nlp.Pipeline(\n",
        "    stages = [\n",
        "        document_assembler,\n",
        "        tokenizer,\n",
        "        word_embeddings,\n",
        "        sentence_embeddings,\n",
        "    ])"
      ],
      "metadata": {
        "tags": [],
        "colab": {
          "base_uri": "https://localhost:8080/"
        },
        "id": "Dv95E2vNvDRK",
        "outputId": "ca9db8bd-c201-40bb-ba20-0f61de31d58a",
        "trusted": true
      },
      "execution_count": null,
      "outputs": [
        {
          "name": "stdout",
          "text": "embeddings_clinical download started this may take some time.\nApproximate size to download 1.6 GB\n[OK!]\n",
          "output_type": "stream"
        }
      ]
    },
    {
      "cell_type": "code",
      "source": [
        "trainingData_with_embeddings = embeddings_pipeline.fit(trainingData).transform(trainingData)\\\n",
        "                                                  .select(\"text\",\"category\",\"sentence_embeddings\")\n",
        "trainingData_with_embeddings.show(2,truncate=60)"
      ],
      "metadata": {
        "tags": [],
        "colab": {
          "base_uri": "https://localhost:8080/"
        },
        "id": "uj2dbrthvDRK",
        "outputId": "cee5af6d-91d9-41ea-910c-6b9e16fdab1f",
        "trusted": true
      },
      "execution_count": null,
      "outputs": [
        {
          "name": "stdout",
          "text": "+------------------------------------------------------------+--------+------------------------------------------------------------+\n|                                                        text|category|                                         sentence_embeddings|\n+------------------------------------------------------------+--------+------------------------------------------------------------+\n| A 16-year-old girl with erosive, polyarticular JRA showe...|     neg|[{sentence_embeddings, 0, 129,  A 16-year-old girl with e...|\n| A 42-year-old woman had uneventful bilateral laser-assis...|     neg|[{sentence_embeddings, 0, 112,  A 42-year-old woman had u...|\n+------------------------------------------------------------+--------+------------------------------------------------------------+\nonly showing top 2 rows\n",
          "output_type": "stream"
        }
      ]
    },
    {
      "cell_type": "code",
      "source": [
        "testData_with_embeddings = embeddings_pipeline.fit(testData).transform(testData)\\\n",
        "                                                  .select(\"text\",\"category\",\"sentence_embeddings\")\n",
        "testData_with_embeddings.show(2,truncate=60)"
      ],
      "metadata": {
        "tags": [],
        "colab": {
          "base_uri": "https://localhost:8080/"
        },
        "id": "jPZSMm5pvDRK",
        "outputId": "d0aacda6-c6b4-4636-a5fb-6016055427c3",
        "trusted": true
      },
      "execution_count": null,
      "outputs": [
        {
          "name": "stdout",
          "text": "+------------------------------------------------------------+--------+------------------------------------------------------------+\n|                                                        text|category|                                         sentence_embeddings|\n+------------------------------------------------------------+--------+------------------------------------------------------------+\n| A search of the literature yielded 15 instances of sever...|     neg|[{sentence_embeddings, 0, 174,  A search of the literatur...|\n| BACKGROUND: Uterine malignant mixed mesodermal tumor is ...|     neg|[{sentence_embeddings, 0, 89,  BACKGROUND: Uterine malign...|\n+------------------------------------------------------------+--------+------------------------------------------------------------+\nonly showing top 2 rows\n",
          "output_type": "stream"
        }
      ]
    },
    {
      "cell_type": "code",
      "source": [
        "# log_folder = \"s3://<bucket>/logs/ADE_logs_healthcare_200d\"  #alternative\n",
        "\n",
        "log_folder=\"ADE_logs_healthcare_200d\""
      ],
      "metadata": {
        "tags": [],
        "id": "qrF7eDHBdmBp",
        "trusted": true,
        "outputId": "d7e0caab-0e55-483c-feea-7e67c6eafe21"
      },
      "execution_count": null,
      "outputs": [
        {
          "name": "stdout",
          "text": "\n",
          "output_type": "stream"
        }
      ]
    },
    {
      "cell_type": "markdown",
      "source": [
        "### ClassifierDL"
      ],
      "metadata": {
        "id": "coHHa_CRvDRL"
      }
    },
    {
      "cell_type": "code",
      "source": [
        "classifier_dl = nlp.ClassifierDLApproach()\\\n",
        "        .setInputCols([\"sentence_embeddings\"])\\\n",
        "        .setOutputCol(\"class\")\\\n",
        "        .setLabelColumn(\"category\")\\\n",
        "        .setBatchSize(16)\\\n",
        "        .setMaxEpochs(30)\\\n",
        "        .setLr(0.001)\\\n",
        "        .setDropout(0.3)\\\n",
        "        .setEnableOutputLogs(True)\\\n",
        "        .setOutputLogsPath(log_folder)\n",
        "\n",
        "classifier_dl_pipeline = nlp.Pipeline(\n",
        "    stages = [\n",
        "        classifier_dl\n",
        "    ])"
      ],
      "metadata": {
        "tags": [],
        "id": "thQ0sg91vDRL",
        "trusted": true,
        "outputId": "95dfb81b-179a-45b2-f249-871d8cfc949f"
      },
      "execution_count": null,
      "outputs": [
        {
          "name": "stdout",
          "text": "\n",
          "output_type": "stream"
        }
      ]
    },
    {
      "cell_type": "code",
      "source": [
        "clfDL_model_hc200 = classifier_dl_pipeline.fit(trainingData_with_embeddings)"
      ],
      "metadata": {
        "tags": [],
        "id": "VdWaWXcbvDRL",
        "trusted": true,
        "outputId": "e309c49e-b393-4be5-95f6-26312020bbf0"
      },
      "execution_count": null,
      "outputs": [
        {
          "name": "stdout",
          "text": "\n",
          "output_type": "stream"
        }
      ]
    },
    {
      "cell_type": "code",
      "source": [
        "preds = clfDL_model_hc200.transform(testData_with_embeddings)\n",
        "\n",
        "preds_df = preds.select(\"category\",\"text\",\"class.result\").toPandas()\n",
        "preds_df[\"result\"] = preds_df[\"result\"].apply(lambda x : x[0])\n",
        "\n",
        "print (classification_report(preds_df[\"category\"], preds_df[\"result\"]))"
      ],
      "metadata": {
        "tags": [],
        "colab": {
          "base_uri": "https://localhost:8080/"
        },
        "id": "1W67GqjCvDRL",
        "outputId": "94e4788c-5480-4692-d9db-89d45dd16de1",
        "trusted": true
      },
      "execution_count": null,
      "outputs": [
        {
          "name": "stdout",
          "text": "              precision    recall  f1-score   support\n\n         neg       0.89      0.90      0.89      1049\n         pos       0.75      0.72      0.73       425\n\n    accuracy                           0.85      1474\n   macro avg       0.82      0.81      0.81      1474\nweighted avg       0.85      0.85      0.85      1474\n",
          "output_type": "stream"
        }
      ]
    },
    {
      "cell_type": "code",
      "source": [
        "res = classification_report(preds_df[\"category\"], preds_df[\"result\"], output_dict=True)\n",
        "results_df.loc[\"ClassifierDL_200d\"] = [res[\"pos\"][\"f1-score\"], res[\"accuracy\"]]"
      ],
      "metadata": {
        "tags": [],
        "id": "CcBH_amw9s5u",
        "trusted": true,
        "outputId": "b25cf151-13b5-4881-a012-0d90ab837541"
      },
      "execution_count": null,
      "outputs": [
        {
          "name": "stdout",
          "text": "\n",
          "output_type": "stream"
        }
      ]
    },
    {
      "cell_type": "markdown",
      "source": [
        "### MultiClassifierDL"
      ],
      "metadata": {
        "id": "Vz6ja6oP90It"
      }
    },
    {
      "cell_type": "code",
      "source": [
        "# MultiClassifierDL accepts list of strings as input label. So we convert label column to array type.\n",
        "trainingData_with_embeddings = trainingData_with_embeddings.withColumn(\"category_array\", F.array(F.col(\"category\")))\n",
        "testData_with_embeddings = testData_with_embeddings.withColumn(\"category_array\", F.array(F.col(\"category\")))"
      ],
      "metadata": {
        "tags": [],
        "id": "u7AzomVo90Iu",
        "trusted": true,
        "outputId": "24e19e5b-d64c-4f0d-ff36-41434280a978"
      },
      "execution_count": null,
      "outputs": [
        {
          "name": "stdout",
          "text": "\n",
          "output_type": "stream"
        }
      ]
    },
    {
      "cell_type": "code",
      "source": [
        "multiClassifier =nlp.MultiClassifierDLApproach()\\\n",
        "  .setInputCols(\"sentence_embeddings\")\\\n",
        "  .setOutputCol(\"prediction\")\\\n",
        "  .setLabelColumn(\"category_array\")\\\n",
        "  .setBatchSize(32)\\\n",
        "  .setMaxEpochs(20)\\\n",
        "  .setLr(9e-3)\\\n",
        "  .setThreshold(0.5)\\\n",
        "  .setShufflePerEpoch(False)\\\n",
        "  .setEnableOutputLogs(True)\\\n",
        "  .setOutputLogsPath(log_folder)\\\n",
        "#   .setValidationSplit(0.1)\n",
        "\n",
        "multiClassifier_pipeline = nlp.Pipeline(\n",
        "    stages = [\n",
        "        multiClassifier\n",
        "    ])"
      ],
      "metadata": {
        "tags": [],
        "id": "O25HWJXx90Iu",
        "trusted": true,
        "outputId": "f38b3e42-32bc-4297-d5c7-8ea69d90b628"
      },
      "execution_count": null,
      "outputs": [
        {
          "name": "stdout",
          "text": "\n",
          "output_type": "stream"
        }
      ]
    },
    {
      "cell_type": "code",
      "source": [
        "multiClassifier_model_hc200 = multiClassifier_pipeline.fit(trainingData_with_embeddings)"
      ],
      "metadata": {
        "tags": [],
        "id": "AfwUG4E890Iu",
        "trusted": true,
        "outputId": "3c4c8a11-3fa4-4c5b-b504-9f1509ee8538"
      },
      "execution_count": null,
      "outputs": [
        {
          "name": "stdout",
          "text": "\n",
          "output_type": "stream"
        }
      ]
    },
    {
      "cell_type": "code",
      "source": [
        "preds = multiClassifier_model_hc200.transform(testData_with_embeddings)"
      ],
      "metadata": {
        "tags": [],
        "id": "dqWL8GcD90Iu",
        "trusted": true,
        "outputId": "df596e6f-f9e4-40d9-bf7b-7b7b0d527f19"
      },
      "execution_count": null,
      "outputs": [
        {
          "name": "stdout",
          "text": "\n",
          "output_type": "stream"
        }
      ]
    },
    {
      "cell_type": "code",
      "source": [
        "preds_df = preds.select(\"category\",\"text\",\"prediction.result\",\"prediction.metadata\").toPandas()\n",
        "preds_df.result.apply(lambda x: str(x) ).value_counts()"
      ],
      "metadata": {
        "tags": [],
        "colab": {
          "base_uri": "https://localhost:8080/"
        },
        "id": "leP1l4bN90Iu",
        "outputId": "2a40ebff-3e0f-4b18-c097-e202e767102c",
        "trusted": true
      },
      "execution_count": null,
      "outputs": [
        {
          "name": "stdout",
          "text": "['neg']    983\n['pos']    491\nName: result, dtype: int64\n",
          "output_type": "stream"
        }
      ]
    },
    {
      "cell_type": "code",
      "source": [
        "# We will get the highest score label as result. You can control the number of zero label results with setThreshold() in the training.\n",
        "preds_df[\"scores\"] = preds_df.metadata.apply(lambda x: {k:float(v) for k,v in x[0].items()} if len(x)>=1 else \"\")\n",
        "preds_df[\"result\"] = preds_df.scores.apply(lambda x: max(x, key=x.get) if len(x)>=1 else \"\")\n",
        "preds_df = preds_df[(preds_df[\"result\"]!=\"\")]\n",
        "preds_df[\"result\"].value_counts()"
      ],
      "metadata": {
        "tags": [],
        "colab": {
          "base_uri": "https://localhost:8080/"
        },
        "id": "puS1FgQ-90Iv",
        "outputId": "3b41b4bc-55a2-4b6e-8c63-132b5f653604",
        "trusted": true
      },
      "execution_count": null,
      "outputs": [
        {
          "name": "stdout",
          "text": "neg    983\npos    491\nName: result, dtype: int64\n",
          "output_type": "stream"
        }
      ]
    },
    {
      "cell_type": "code",
      "source": [
        "print (classification_report(preds_df[\"category\"], preds_df[\"result\"]))"
      ],
      "metadata": {
        "tags": [],
        "colab": {
          "base_uri": "https://localhost:8080/"
        },
        "id": "8F9FcFBN90Iv",
        "outputId": "5dfd682f-1b65-4495-c74d-8258b370d414",
        "trusted": true
      },
      "execution_count": null,
      "outputs": [
        {
          "name": "stdout",
          "text": "              precision    recall  f1-score   support\n\n         neg       0.91      0.85      0.88      1049\n         pos       0.69      0.80      0.74       425\n\n    accuracy                           0.84      1474\n   macro avg       0.80      0.82      0.81      1474\nweighted avg       0.85      0.84      0.84      1474\n",
          "output_type": "stream"
        }
      ]
    },
    {
      "cell_type": "code",
      "source": [
        "res = classification_report(preds_df[\"category\"], preds_df[\"result\"], output_dict=True)\n",
        "results_df.loc[\"MultiClassifierDL_200d\"] = [res[\"pos\"][\"f1-score\"], res[\"accuracy\"]]"
      ],
      "metadata": {
        "tags": [],
        "id": "A47dE8e49_mo",
        "trusted": true,
        "outputId": "d1f460b1-b6e6-4ff7-f53c-350b69eaf108"
      },
      "execution_count": null,
      "outputs": [
        {
          "name": "stdout",
          "text": "\n",
          "output_type": "stream"
        }
      ]
    },
    {
      "cell_type": "markdown",
      "source": [
        "### Generic Classifier"
      ],
      "metadata": {
        "id": "lwu69bczvDRL"
      }
    },
    {
      "cell_type": "code",
      "source": [
        "#from sparknlp_jsl.annotator import TFGraphBuilder\n",
        "\n",
        "graph_folder = \"gc_graph\"\n",
        "\n",
        "gc_graph_builder = medical.TFGraphBuilder()\\\n",
        "    .setModelName(\"generic_classifier\")\\\n",
        "    .setInputCols([\"features\"])\\\n",
        "    .setLabelColumn(\"category\")\\\n",
        "    .setHiddenLayers([300,200, 50])\\\n",
        "    .setHiddenAct(\"tanh\")\\\n",
        "    .setHiddenActL2(True)\\\n",
        "    .setBatchNorm(True)\\\n",
        "    .setGraphFolder(graph_folder)\\\n",
        "    .setGraphFile(\"gcf_graph_200d.pb\")"
      ],
      "metadata": {
        "tags": [],
        "id": "YTuqFVXKvDRL",
        "trusted": true,
        "outputId": "f88d74ea-aaa0-41bd-98a5-8ad79b48de30"
      },
      "execution_count": null,
      "outputs": [
        {
          "name": "stdout",
          "text": "\n",
          "output_type": "stream"
        }
      ]
    },
    {
      "cell_type": "code",
      "source": [
        "features_asm =medical.FeaturesAssembler()\\\n",
        "    .setInputCols([\"sentence_embeddings\"])\\\n",
        "    .setOutputCol(\"features\")\n",
        "\n",
        "gen_clf =medical.GenericClassifierApproach()\\\n",
        "    .setLabelColumn(\"category\")\\\n",
        "    .setInputCols(\"features\")\\\n",
        "    .setOutputCol(\"prediction\")\\\n",
        "    .setModelFile(f\"{graph_folder}/gcf_graph_200d.pb\")\\\n",
        "    .setEpochsNumber(40)\\\n",
        "    .setBatchSize(16)\\\n",
        "    .setLearningRate(0.001)\\\n",
        "    .setOutputLogsPath(log_folder)\\\n",
        "    .setDropout(0.5)\\\n",
        "    .setFixImbalance(True)\\\n",
        "    # .setValidationSplit(0.1)\n",
        "\n",
        "clf_Pipeline = nlp.Pipeline(stages=[\n",
        "    features_asm,\n",
        "    gc_graph_builder,\n",
        "    gen_clf])\n"
      ],
      "metadata": {
        "tags": [],
        "id": "Acx95To9vDRL",
        "trusted": true,
        "outputId": "6915687f-1bd5-496b-b2b5-18c17fc2dbbb"
      },
      "execution_count": null,
      "outputs": [
        {
          "name": "stdout",
          "text": "\n",
          "output_type": "stream"
        }
      ]
    },
    {
      "cell_type": "code",
      "source": [
        "generic_model_hc200 = clf_Pipeline.fit(trainingData_with_embeddings)"
      ],
      "metadata": {
        "tags": [],
        "colab": {
          "base_uri": "https://localhost:8080/"
        },
        "id": "07qsryq3vDRL",
        "outputId": "0d7d800c-49c0-4189-db91-7f45efb1fb3f",
        "trusted": true
      },
      "execution_count": null,
      "outputs": [
        {
          "name": "stdout",
          "text": "TF Graph Builder configuration:\nModel name: generic_classifier\nGraph folder: gc_graph\nGraph file name: gcf_graph_200d.pb\nBuild params: {'input_dim': 200, 'output_dim': 2, 'hidden_layers': [300, 200, 50], 'hidden_act': 'tanh', 'hidden_act_l2': True, 'batch_norm': True}\ngeneric_classifier graph exported to gc_graph/gcf_graph_200d.pb\n",
          "output_type": "stream"
        }
      ]
    },
    {
      "cell_type": "code",
      "source": [
        "pred_df = generic_model_hc200.transform(testData_with_embeddings)\n",
        "\n",
        "preds_df = pred_df.select('category','prediction.result').toPandas()\n",
        "preds_df['result'] = preds_df.result.apply(lambda x : x[0])\n",
        "\n",
        "print (classification_report(preds_df['category'], preds_df['result']))"
      ],
      "metadata": {
        "tags": [],
        "colab": {
          "base_uri": "https://localhost:8080/"
        },
        "id": "WahobkK8vDRL",
        "outputId": "629671f3-a0f3-4525-d067-0f3cfb46d833",
        "trusted": true
      },
      "execution_count": null,
      "outputs": [
        {
          "name": "stdout",
          "text": "              precision    recall  f1-score   support\n\n         neg       0.96      0.71      0.81      1049\n         pos       0.56      0.92      0.70       425\n\n    accuracy                           0.77      1474\n   macro avg       0.76      0.81      0.75      1474\nweighted avg       0.84      0.77      0.78      1474\n",
          "output_type": "stream"
        }
      ]
    },
    {
      "cell_type": "code",
      "source": [
        "res = classification_report(preds_df[\"category\"], preds_df[\"result\"], output_dict=True)\n",
        "results_df.loc[\"GenericClassifier_200d\"] = [res[\"pos\"][\"f1-score\"], res[\"accuracy\"]]"
      ],
      "metadata": {
        "tags": [],
        "id": "fM0-_jzX-YNs",
        "trusted": true,
        "outputId": "506a88f7-5fe0-436e-b9f9-5f75e74c6403"
      },
      "execution_count": null,
      "outputs": [
        {
          "name": "stdout",
          "text": "\n",
          "output_type": "stream"
        }
      ]
    },
    {
      "cell_type": "markdown",
      "source": [
        "### GenericLogRegClassifier"
      ],
      "metadata": {
        "id": "MqvORol0XIG-"
      }
    },
    {
      "cell_type": "code",
      "source": [
        "graph_folder = \"gc_graph\"\n",
        "\n",
        "gc_logreg_graph_builder = medical.TFGraphBuilder()\\\n",
        "    .setModelName(\"logreg_classifier\")\\\n",
        "    .setInputCols([\"feature_vector\"]) \\\n",
        "    .setLabelColumn(\"category\")\\\n",
        "    .setGraphFolder(graph_folder)\\\n",
        "    .setGraphFile(\"log_reg_graph.pb\")"
      ],
      "metadata": {
        "tags": [],
        "id": "S7Ms5F5hXIG_",
        "trusted": true,
        "outputId": "a6ab0a6f-fe81-4bba-fd45-2b56fd1c84fa"
      },
      "execution_count": null,
      "outputs": [
        {
          "name": "stdout",
          "text": "\n",
          "output_type": "stream"
        }
      ]
    },
    {
      "cell_type": "markdown",
      "source": [
        "GenericLogRegClassifier needs outputs from FeaturesAssembler. The FeaturesAssembler is used to collect features from different columns or an embeddings column.\n",
        "\n",
        "The GenericLogRegClassifier takes FEATURE_VECTOR annotations as input, classifies them and outputs CATEGORY annotations."
      ],
      "metadata": {
        "id": "xUGr1BJJXIG_"
      }
    },
    {
      "cell_type": "code",
      "source": [
        "features_asm = medical.FeaturesAssembler()\\\n",
        "    .setInputCols([\"sentence_embeddings\"])\\\n",
        "    .setOutputCol(\"feature_vector\")\n",
        "\n",
        "gen_clf = medical.GenericLogRegClassifierApproach()\\\n",
        "    .setLabelColumn(\"category\")\\\n",
        "    .setInputCols(\"feature_vector\")\\\n",
        "    .setOutputCol(\"prediction\")\\\n",
        "    .setModelFile(f\"{graph_folder}/log_reg_graph.pb\")\\\n",
        "    .setEpochsNumber(20)\\\n",
        "    .setBatchSize(128)\\\n",
        "    .setLearningRate(0.01)\\\n",
        "    .setOutputLogsPath(log_folder)\\\n",
        "    .setDropout(0.1)\\\n",
        "    .setFixImbalance(True)\\\n",
        "    # .setValidationSplit(0.1)\n",
        "\n",
        "clf_Pipeline = nlp.Pipeline(stages=[\n",
        "    features_asm,\n",
        "    gc_logreg_graph_builder,\n",
        "    gen_clf])\n"
      ],
      "metadata": {
        "tags": [],
        "id": "yuItEMF0XIG_",
        "trusted": true,
        "outputId": "fd925bc3-b762-4aa0-f4ec-94d5734ec580"
      },
      "execution_count": null,
      "outputs": [
        {
          "name": "stdout",
          "text": "\n",
          "output_type": "stream"
        }
      ]
    },
    {
      "cell_type": "code",
      "source": [
        "generic_model_hc200 = clf_Pipeline.fit(trainingData_with_embeddings)"
      ],
      "metadata": {
        "tags": [],
        "colab": {
          "base_uri": "https://localhost:8080/"
        },
        "id": "MWTfnlebXIG_",
        "outputId": "90f9b703-d8d1-4fc3-f7a4-547e312be570",
        "trusted": true
      },
      "execution_count": null,
      "outputs": [
        {
          "name": "stdout",
          "text": "TF Graph Builder configuration:\nModel name: logreg_classifier\nGraph folder: gc_graph\nGraph file name: log_reg_graph.pb\nBuild params: {'input_dim': 200, 'output_dim': 2, 'hidden_layers': [], 'output_act': 'sigmoid'}\nlogreg_classifier graph exported to gc_graph/log_reg_graph.pb\n",
          "output_type": "stream"
        }
      ]
    },
    {
      "cell_type": "code",
      "source": [
        "pred_df = generic_model_hc200.transform(testData_with_embeddings)"
      ],
      "metadata": {
        "tags": [],
        "id": "ORF9ZLKgXIG_",
        "trusted": true,
        "outputId": "6cfb8b6f-9078-4107-e675-739ea33df525"
      },
      "execution_count": null,
      "outputs": [
        {
          "name": "stdout",
          "text": "\n",
          "output_type": "stream"
        }
      ]
    },
    {
      "cell_type": "code",
      "source": [
        "preds_df = pred_df.select('category','prediction.result').toPandas()\n",
        "preds_df['result'] = preds_df.result.apply(lambda x : x[0])\n",
        "\n",
        "print (classification_report(preds_df['category'], preds_df['result']))"
      ],
      "metadata": {
        "tags": [],
        "colab": {
          "base_uri": "https://localhost:8080/"
        },
        "id": "d1By23e1XIHA",
        "outputId": "05a9f533-7745-4b36-d434-bd280d9f7d55",
        "trusted": true
      },
      "execution_count": null,
      "outputs": [
        {
          "name": "stdout",
          "text": "              precision    recall  f1-score   support\n\n         neg       0.81      0.94      0.87      1049\n         pos       0.76      0.44      0.56       425\n\n    accuracy                           0.80      1474\n   macro avg       0.78      0.69      0.71      1474\nweighted avg       0.79      0.80      0.78      1474\n",
          "output_type": "stream"
        }
      ]
    },
    {
      "cell_type": "code",
      "source": [
        "res = classification_report(preds_df[\"category\"], preds_df[\"result\"], output_dict=True)\n",
        "results_df.loc[\"GenericLogReg_200d\"] = [res[\"pos\"][\"f1-score\"], res[\"accuracy\"]]"
      ],
      "metadata": {
        "tags": [],
        "id": "q61kpUMD-mcM",
        "trusted": true,
        "outputId": "f621423a-3fb9-4173-c203-3a90bdd37870"
      },
      "execution_count": null,
      "outputs": [
        {
          "name": "stdout",
          "text": "\n",
          "output_type": "stream"
        }
      ]
    },
    {
      "cell_type": "markdown",
      "source": [
        "### GenericSVMClassifier"
      ],
      "metadata": {
        "id": "A4fphEjMXV7W"
      }
    },
    {
      "cell_type": "code",
      "source": [
        "graph_folder = \"gc_graph\"\n",
        "\n",
        "gc_svm_graph_builder = medical.TFGraphBuilder()\\\n",
        "    .setModelName(\"svm_classifier\")\\\n",
        "    .setInputCols([\"feature_vector\"]) \\\n",
        "    .setLabelColumn(\"category\")\\\n",
        "    .setGraphFolder(graph_folder)\\\n",
        "    .setGraphFile(\"svm_graph.pb\")"
      ],
      "metadata": {
        "tags": [],
        "id": "WWViS8s6XV7X",
        "trusted": true,
        "outputId": "d9e50ab8-b813-4daa-a014-c10952be9683"
      },
      "execution_count": null,
      "outputs": [
        {
          "name": "stdout",
          "text": "\n",
          "output_type": "stream"
        }
      ]
    },
    {
      "cell_type": "markdown",
      "source": [
        "GenericSVMClassifier needs outputs from FeaturesAssembler. The FeaturesAssembler is used to collect features from different columns or an embeddings column.\n",
        "\n",
        "The GenericSVMClassifier takes FEATURE_VECTOR annotations as input, classifies them and outputs CATEGORY annotations."
      ],
      "metadata": {
        "id": "JcM7VyV7XV7X"
      }
    },
    {
      "cell_type": "code",
      "source": [
        "features_asm = medical.FeaturesAssembler()\\\n",
        "    .setInputCols([\"sentence_embeddings\"])\\\n",
        "    .setOutputCol(\"feature_vector\")\n",
        "\n",
        "gen_clf = medical.GenericSVMClassifierApproach()\\\n",
        "    .setLabelColumn(\"category\")\\\n",
        "    .setInputCols(\"feature_vector\")\\\n",
        "    .setOutputCol(\"prediction\")\\\n",
        "    .setModelFile(f\"{graph_folder}/svm_graph.pb\")\\\n",
        "    .setEpochsNumber(20)\\\n",
        "    .setBatchSize(128)\\\n",
        "    .setLearningRate(0.005)\\\n",
        "    .setOutputLogsPath(log_folder)\\\n",
        "    .setDropout(0.1)\\\n",
        "    .setFixImbalance(True)\\\n",
        "    # .setValidationSplit(0.1)\n",
        "\n",
        "clf_Pipeline = nlp.Pipeline(stages=[\n",
        "    features_asm,\n",
        "    gc_svm_graph_builder,\n",
        "    gen_clf])\n"
      ],
      "metadata": {
        "tags": [],
        "id": "px8t14s8XV7X",
        "trusted": true,
        "outputId": "a8982450-db5c-40c0-a1b7-0844f9dfaf30"
      },
      "execution_count": null,
      "outputs": [
        {
          "name": "stdout",
          "text": "\n",
          "output_type": "stream"
        }
      ]
    },
    {
      "cell_type": "code",
      "source": [
        "generic_model_hc200 = clf_Pipeline.fit(trainingData_with_embeddings)"
      ],
      "metadata": {
        "tags": [],
        "colab": {
          "base_uri": "https://localhost:8080/"
        },
        "id": "QHi6KIMSXV7X",
        "outputId": "b2e14eee-d20a-4231-9a7e-bf8faffdff18",
        "trusted": true
      },
      "execution_count": null,
      "outputs": [
        {
          "name": "stdout",
          "text": "TF Graph Builder configuration:\nModel name: svm_classifier\nGraph folder: gc_graph\nGraph file name: svm_graph.pb\nBuild params: {'input_dim': 200, 'output_dim': 2, 'hidden_layers': [], 'output_act': 'sigmoid', 'loss_func': 'hinge'}\nsvm_classifier graph exported to gc_graph/svm_graph.pb\n",
          "output_type": "stream"
        }
      ]
    },
    {
      "cell_type": "code",
      "source": [
        "pred_df = generic_model_hc200.transform(testData_with_embeddings)"
      ],
      "metadata": {
        "tags": [],
        "id": "JFhqwwIAXV7X",
        "trusted": true,
        "outputId": "878dc0a9-b647-490a-b251-842cff4ed97e"
      },
      "execution_count": null,
      "outputs": [
        {
          "name": "stdout",
          "text": "\n",
          "output_type": "stream"
        }
      ]
    },
    {
      "cell_type": "code",
      "source": [
        "preds_df = pred_df.select('category','prediction.result').toPandas()\n",
        "preds_df['result'] = preds_df.result.apply(lambda x : x[0])\n",
        "\n",
        "print (classification_report(preds_df['category'], preds_df['result']))"
      ],
      "metadata": {
        "tags": [],
        "colab": {
          "base_uri": "https://localhost:8080/"
        },
        "id": "8so1Xnn9XV7Y",
        "outputId": "ad397fcb-a452-43c8-f5cb-f523d5aacf38",
        "trusted": true
      },
      "execution_count": null,
      "outputs": [
        {
          "name": "stdout",
          "text": "              precision    recall  f1-score   support\n\n         neg       0.81      0.93      0.87      1049\n         pos       0.73      0.44      0.55       425\n\n    accuracy                           0.79      1474\n   macro avg       0.77      0.69      0.71      1474\nweighted avg       0.78      0.79      0.78      1474\n",
          "output_type": "stream"
        }
      ]
    },
    {
      "cell_type": "code",
      "source": [
        "res = classification_report(preds_df[\"category\"], preds_df[\"result\"], output_dict=True)\n",
        "results_df.loc[\"GenericSVM_200d\"] = [res[\"pos\"][\"f1-score\"], res[\"accuracy\"]]"
      ],
      "metadata": {
        "tags": [],
        "id": "ySXDYn_K-pQe",
        "trusted": true,
        "outputId": "88c2ae19-c458-40d5-950f-71d6502503dd"
      },
      "execution_count": null,
      "outputs": [
        {
          "name": "stdout",
          "text": "\n",
          "output_type": "stream"
        }
      ]
    },
    {
      "cell_type": "markdown",
      "source": [
        "## Bert Sentence Embeddings (sbiobert_base_cased_mli)"
      ],
      "metadata": {
        "id": "HToBQLkiOHDp"
      }
    },
    {
      "cell_type": "markdown",
      "source": [
        "Now we will extract [sbiobert_base_cased_mli](https://nlp.johnsnowlabs.com/2020/11/27/sbiobert_base_cased_mli_en.html) embeddings which has 768 dimension output and use this embeddings in the model training."
      ],
      "metadata": {
        "id": "GBpfp09tTedK"
      }
    },
    {
      "cell_type": "code",
      "source": [
        "document_assembler = nlp.DocumentAssembler()\\\n",
        "    .setInputCol(\"text\")\\\n",
        "    .setOutputCol(\"document\")\n",
        "\n",
        "bert_sent = nlp.BertSentenceEmbeddings.pretrained(\"sbiobert_base_cased_mli\", 'en','clinical/models')\\\n",
        "    .setInputCols([\"document\"])\\\n",
        "    .setOutputCol(\"sentence_embeddings\")\n",
        "\n",
        "embeddings_pipeline = nlp.Pipeline(\n",
        "    stages = [document_assembler,\n",
        "              bert_sent])"
      ],
      "metadata": {
        "tags": [],
        "colab": {
          "base_uri": "https://localhost:8080/"
        },
        "id": "eCfAkAC7podJ",
        "outputId": "cf2f47ae-aa4c-4587-9151-2827c088e921",
        "trusted": true
      },
      "execution_count": null,
      "outputs": [
        {
          "name": "stdout",
          "text": "sbiobert_base_cased_mli download started this may take some time.\nApproximate size to download 384.3 MB\n[OK!]\n",
          "output_type": "stream"
        }
      ]
    },
    {
      "cell_type": "code",
      "source": [
        "trainingData_with_embeddings = embeddings_pipeline.fit(trainingData).transform(trainingData)\\\n",
        "                                                  .select(\"text\",\"category\",\"sentence_embeddings\")\n",
        "\n",
        "trainingData_with_embeddings.show(2,truncate=60)"
      ],
      "metadata": {
        "tags": [],
        "colab": {
          "base_uri": "https://localhost:8080/"
        },
        "id": "PbcLStVLpoaN",
        "outputId": "ec3d750b-76b8-4eec-923f-e39760066f4b",
        "trusted": true
      },
      "execution_count": null,
      "outputs": [
        {
          "name": "stdout",
          "text": "+------------------------------------------------------------+--------+------------------------------------------------------------+\n|                                                        text|category|                                         sentence_embeddings|\n+------------------------------------------------------------+--------+------------------------------------------------------------+\n| A 16-year-old girl with erosive, polyarticular JRA showe...|     neg|[{sentence_embeddings, 0, 129,  A 16-year-old girl with e...|\n| A 42-year-old woman had uneventful bilateral laser-assis...|     neg|[{sentence_embeddings, 0, 112,  A 42-year-old woman had u...|\n+------------------------------------------------------------+--------+------------------------------------------------------------+\nonly showing top 2 rows\n",
          "output_type": "stream"
        }
      ]
    },
    {
      "cell_type": "code",
      "source": [
        "testData_with_embeddings = embeddings_pipeline.fit(testData).transform(testData)\\\n",
        "                                                  .select(\"text\",\"category\",\"sentence_embeddings\")\n",
        "\n",
        "testData_with_embeddings.show(2,truncate=60)"
      ],
      "metadata": {
        "tags": [],
        "colab": {
          "base_uri": "https://localhost:8080/"
        },
        "id": "qoby-bTzpoYQ",
        "outputId": "f6f9c289-7dde-4c79-dd45-a505b107078c",
        "trusted": true
      },
      "execution_count": null,
      "outputs": [
        {
          "name": "stdout",
          "text": "+------------------------------------------------------------+--------+------------------------------------------------------------+\n|                                                        text|category|                                         sentence_embeddings|\n+------------------------------------------------------------+--------+------------------------------------------------------------+\n| A search of the literature yielded 15 instances of sever...|     neg|[{sentence_embeddings, 0, 174,  A search of the literatur...|\n| BACKGROUND: Uterine malignant mixed mesodermal tumor is ...|     neg|[{sentence_embeddings, 0, 89,  BACKGROUND: Uterine malign...|\n+------------------------------------------------------------+--------+------------------------------------------------------------+\nonly showing top 2 rows\n",
          "output_type": "stream"
        }
      ]
    },
    {
      "cell_type": "code",
      "source": [
        "log_folder=\"ADE_logs_bert\""
      ],
      "metadata": {
        "tags": [],
        "id": "_EetBOQUpoWQ",
        "trusted": true,
        "outputId": "b027dcee-e0df-48bb-a69d-5ea8d3167b47"
      },
      "execution_count": null,
      "outputs": [
        {
          "name": "stdout",
          "text": "\n",
          "output_type": "stream"
        }
      ]
    },
    {
      "cell_type": "markdown",
      "source": [
        "### ClassifierDL"
      ],
      "metadata": {
        "id": "289YUVX7yGE1"
      }
    },
    {
      "cell_type": "code",
      "source": [
        "classifier_dl = nlp.ClassifierDLApproach()\\\n",
        "        .setInputCols([\"sentence_embeddings\"])\\\n",
        "        .setOutputCol(\"class\")\\\n",
        "        .setLabelColumn(\"category\")\\\n",
        "        .setBatchSize(32)\\\n",
        "        .setMaxEpochs(20)\\\n",
        "        .setLr(0.001)\\\n",
        "        .setDropout(0.3)\\\n",
        "        .setEnableOutputLogs(True)\\\n",
        "        .setOutputLogsPath(log_folder)\n",
        "\n",
        "classifier_dl_pipeline = nlp.Pipeline(stages=[classifier_dl])"
      ],
      "metadata": {
        "tags": [],
        "id": "ZzCU998wyGE2",
        "trusted": true,
        "outputId": "3cf6a17a-fba4-44b2-8824-2bb497af0069"
      },
      "execution_count": null,
      "outputs": [
        {
          "name": "stdout",
          "text": "\n",
          "output_type": "stream"
        }
      ]
    },
    {
      "cell_type": "code",
      "source": [
        "clfDL_model_bert = classifier_dl_pipeline.fit(trainingData_with_embeddings)"
      ],
      "metadata": {
        "tags": [],
        "id": "AnpZcIyPyGE2",
        "trusted": true,
        "outputId": "d2299d97-02ef-479e-aa79-df7051a5d3e7"
      },
      "execution_count": null,
      "outputs": [
        {
          "name": "stdout",
          "text": "\n",
          "output_type": "stream"
        }
      ]
    },
    {
      "cell_type": "code",
      "source": [
        "preds = clfDL_model_bert.transform(testData_with_embeddings)\n",
        "\n",
        "preds_df = preds.select(\"category\",\"text\",\"class.result\").toPandas()\n",
        "preds_df[\"result\"] = preds_df[\"result\"].apply(lambda x : x[0])\n",
        "\n",
        "print (classification_report(preds_df[\"category\"], preds_df[\"result\"]))"
      ],
      "metadata": {
        "tags": [],
        "colab": {
          "base_uri": "https://localhost:8080/"
        },
        "id": "WTekTE0kyGE2",
        "outputId": "da206ae8-9965-4721-ef2d-bc268a1d81f0",
        "trusted": true
      },
      "execution_count": null,
      "outputs": [
        {
          "name": "stdout",
          "text": "              precision    recall  f1-score   support\n\n         neg       0.91      0.93      0.92      1049\n         pos       0.81      0.77      0.79       425\n\n    accuracy                           0.88      1474\n   macro avg       0.86      0.85      0.86      1474\nweighted avg       0.88      0.88      0.88      1474\n",
          "output_type": "stream"
        }
      ]
    },
    {
      "cell_type": "code",
      "source": [
        "res = classification_report(preds_df[\"category\"], preds_df[\"result\"], output_dict=True)\n",
        "results_df.loc[\"ClassifierDL_bert\"] = [res[\"pos\"][\"f1-score\"], res[\"accuracy\"]]"
      ],
      "metadata": {
        "tags": [],
        "id": "BHX904kg_dnL",
        "trusted": true,
        "outputId": "d8964a28-ecc1-40ed-ae10-24a81c40f9c8"
      },
      "execution_count": null,
      "outputs": [
        {
          "name": "stdout",
          "text": "\n",
          "output_type": "stream"
        }
      ]
    },
    {
      "cell_type": "markdown",
      "source": [
        "### MultiClassifierDL"
      ],
      "metadata": {
        "id": "rGyp2ylnT7qq"
      }
    },
    {
      "cell_type": "code",
      "source": [
        "# MultiClassifierDL accepts list of strings as input label. So we convert label column to array type.\n",
        "trainingData_with_embeddings = trainingData_with_embeddings.withColumn(\"category_array\", F.array(F.col(\"category\")))\n",
        "testData_with_embeddings = testData_with_embeddings.withColumn(\"category_array\", F.array(F.col(\"category\")))"
      ],
      "metadata": {
        "tags": [],
        "id": "rgc8eN32T7qq",
        "trusted": true,
        "outputId": "160a4835-7e7b-42f6-b7ae-bed2efd0a243"
      },
      "execution_count": null,
      "outputs": [
        {
          "name": "stdout",
          "text": "\n",
          "output_type": "stream"
        }
      ]
    },
    {
      "cell_type": "code",
      "source": [
        "multiClassifier =nlp.MultiClassifierDLApproach()\\\n",
        "  .setInputCols(\"sentence_embeddings\")\\\n",
        "  .setOutputCol(\"prediction\")\\\n",
        "  .setLabelColumn(\"category_array\")\\\n",
        "  .setBatchSize(32)\\\n",
        "  .setMaxEpochs(20)\\\n",
        "  .setLr(9e-3)\\\n",
        "  .setThreshold(0.5)\\\n",
        "  .setShufflePerEpoch(False)\\\n",
        "  .setEnableOutputLogs(True)\\\n",
        "  .setOutputLogsPath(log_folder)\\\n",
        "#   .setValidationSplit(0.1)\n",
        "\n",
        "multiClassifier_pipeline = nlp.Pipeline(\n",
        "    stages = [\n",
        "        multiClassifier\n",
        "    ])"
      ],
      "metadata": {
        "tags": [],
        "id": "VNSQp8iyT7qr",
        "trusted": true,
        "outputId": "af22653a-4c4f-4a92-b71c-d5aaf9c3afbd"
      },
      "execution_count": null,
      "outputs": [
        {
          "name": "stdout",
          "text": "\n",
          "output_type": "stream"
        }
      ]
    },
    {
      "cell_type": "code",
      "source": [
        "multiClassifier_model_bert = multiClassifier_pipeline.fit(trainingData_with_embeddings)"
      ],
      "metadata": {
        "tags": [],
        "id": "2KuFBI44T7qr",
        "trusted": true,
        "outputId": "0e2dd8cb-5768-4323-dba8-fa803b34d781"
      },
      "execution_count": null,
      "outputs": [
        {
          "name": "stdout",
          "text": "\n",
          "output_type": "stream"
        }
      ]
    },
    {
      "cell_type": "code",
      "source": [
        "preds = multiClassifier_model_bert.transform(testData_with_embeddings)"
      ],
      "metadata": {
        "tags": [],
        "id": "WF1cSwJrT7qr",
        "trusted": true,
        "outputId": "38f16545-37bf-4f51-e799-1b202a7f42a3"
      },
      "execution_count": null,
      "outputs": [
        {
          "name": "stdout",
          "text": "\n",
          "output_type": "stream"
        }
      ]
    },
    {
      "cell_type": "code",
      "source": [
        "preds_df = preds.select(\"category\",\"text\",\"prediction.result\",\"prediction.metadata\").toPandas()\n",
        "preds_df.result.apply(lambda x: str(x) ).value_counts()"
      ],
      "metadata": {
        "tags": [],
        "colab": {
          "base_uri": "https://localhost:8080/"
        },
        "id": "DAMLtlVsT7qr",
        "outputId": "1fd67f65-6112-435a-86ec-1adcb481b106",
        "trusted": true
      },
      "execution_count": null,
      "outputs": [
        {
          "name": "stdout",
          "text": "['neg']           1018\n['pos']            455\n['neg', 'pos']       1\nName: result, dtype: int64\n",
          "output_type": "stream"
        }
      ]
    },
    {
      "cell_type": "code",
      "source": [
        "# We will get the highest score label as result. You can control the number of zero label results with setThreshold() in the training.\n",
        "preds_df[\"scores\"] = preds_df.metadata.apply(lambda x: {k:float(v) for k,v in x[0].items()} if len(x)>=1 else \"\")\n",
        "preds_df[\"result\"] = preds_df.scores.apply(lambda x: max(x, key=x.get) if len(x)>=1 else \"\")\n",
        "preds_df = preds_df[(preds_df[\"result\"]!=\"\")]\n",
        "preds_df[\"result\"].value_counts()"
      ],
      "metadata": {
        "tags": [],
        "colab": {
          "base_uri": "https://localhost:8080/"
        },
        "id": "HcZ7OAaYT7qr",
        "outputId": "c5d02a40-7983-478c-d570-d408207c8f4e",
        "trusted": true
      },
      "execution_count": null,
      "outputs": [
        {
          "name": "stdout",
          "text": "neg    1018\npos     456\nName: result, dtype: int64\n",
          "output_type": "stream"
        }
      ]
    },
    {
      "cell_type": "code",
      "source": [
        "print (classification_report(preds_df[\"category\"], preds_df[\"result\"]))"
      ],
      "metadata": {
        "tags": [],
        "colab": {
          "base_uri": "https://localhost:8080/"
        },
        "id": "Crbnvw7GT7qr",
        "outputId": "85ecad3d-65de-4489-b73b-349d9b3b5991",
        "trusted": true
      },
      "execution_count": null,
      "outputs": [
        {
          "name": "stdout",
          "text": "              precision    recall  f1-score   support\n\n         neg       0.92      0.89      0.91      1049\n         pos       0.75      0.81      0.78       425\n\n    accuracy                           0.87      1474\n   macro avg       0.84      0.85      0.84      1474\nweighted avg       0.87      0.87      0.87      1474\n",
          "output_type": "stream"
        }
      ]
    },
    {
      "cell_type": "code",
      "source": [
        "res = classification_report(preds_df[\"category\"], preds_df[\"result\"], output_dict=True)\n",
        "results_df.loc[\"MultiClassifierDL_bert\"] = [res[\"pos\"][\"f1-score\"], res[\"accuracy\"]]"
      ],
      "metadata": {
        "tags": [],
        "id": "dFo7-4jA_lb6",
        "trusted": true,
        "outputId": "59821790-cc98-45e9-b221-80cc69d5e9a5"
      },
      "execution_count": null,
      "outputs": [
        {
          "name": "stdout",
          "text": "\n",
          "output_type": "stream"
        }
      ]
    },
    {
      "cell_type": "markdown",
      "source": [
        "### Generic Classifier"
      ],
      "metadata": {
        "id": "Y4hlGSE9yGE3"
      }
    },
    {
      "cell_type": "code",
      "source": [
        "from sparknlp_jsl.annotator import TFGraphBuilder\n",
        "\n",
        "graph_folder = \"gc_graph\"\n",
        "\n",
        "gc_graph_builder =medical.TFGraphBuilder()\\\n",
        "    .setModelName(\"generic_classifier\")\\\n",
        "    .setInputCols([\"features\"])\\\n",
        "    .setLabelColumn(\"category\")\\\n",
        "    .setHiddenLayers([300,200, 50])\\\n",
        "    .setHiddenAct(\"tanh\")\\\n",
        "    .setHiddenActL2(True)\\\n",
        "    .setBatchNorm(True)\\\n",
        "    .setGraphFolder(graph_folder)\\\n",
        "    .setGraphFile(\"gcf_graph_bert.pb\")"
      ],
      "metadata": {
        "tags": [],
        "id": "yNSz6-FbyGE3",
        "trusted": true,
        "outputId": "210837b9-70cb-4ec9-9bcb-8afc93118abf"
      },
      "execution_count": null,
      "outputs": [
        {
          "name": "stdout",
          "text": "\n",
          "output_type": "stream"
        }
      ]
    },
    {
      "cell_type": "code",
      "source": [
        "features_asm =medical.FeaturesAssembler()\\\n",
        "    .setInputCols([\"sentence_embeddings\"])\\\n",
        "    .setOutputCol(\"features\")\n",
        "\n",
        "gen_clf =medical.GenericClassifierApproach()\\\n",
        "    .setLabelColumn(\"category\")\\\n",
        "    .setInputCols(\"features\")\\\n",
        "    .setOutputCol(\"prediction\")\\\n",
        "    .setModelFile(f\"{graph_folder}/gcf_graph_bert.pb\")\\\n",
        "    .setEpochsNumber(20)\\\n",
        "    .setBatchSize(32)\\\n",
        "    .setLearningRate(0.001)\\\n",
        "    .setOutputLogsPath(log_folder)\\\n",
        "    .setDropout(0.5)\\\n",
        "    .setFixImbalance(True)\\\n",
        "    # .setValidationSplit(0.1)\n",
        "\n",
        "clf_Pipeline = nlp.Pipeline(stages=[\n",
        "    features_asm,\n",
        "    gc_graph_builder,\n",
        "    gen_clf])\n"
      ],
      "metadata": {
        "tags": [],
        "id": "lYsWcP6yyGE3",
        "trusted": true,
        "outputId": "7376a227-9b96-44b5-a5a7-75b1d7c30333"
      },
      "execution_count": null,
      "outputs": [
        {
          "name": "stdout",
          "text": "\n",
          "output_type": "stream"
        }
      ]
    },
    {
      "cell_type": "code",
      "source": [
        "generic_model_bert = clf_Pipeline.fit(trainingData_with_embeddings)"
      ],
      "metadata": {
        "tags": [],
        "colab": {
          "base_uri": "https://localhost:8080/"
        },
        "id": "uTJY05QbyGE3",
        "outputId": "b785d84c-e082-4b91-b6db-671f229205dc",
        "trusted": true
      },
      "execution_count": null,
      "outputs": [
        {
          "name": "stdout",
          "text": "TF Graph Builder configuration:\nModel name: generic_classifier\nGraph folder: gc_graph\nGraph file name: gcf_graph_bert.pb\nBuild params: {'input_dim': 768, 'output_dim': 2, 'hidden_layers': [300, 200, 50], 'hidden_act': 'tanh', 'hidden_act_l2': True, 'batch_norm': True}\ngeneric_classifier graph exported to gc_graph/gcf_graph_bert.pb\n",
          "output_type": "stream"
        }
      ]
    },
    {
      "cell_type": "code",
      "source": [
        "pred_df = generic_model_bert.transform(testData_with_embeddings)\n",
        "\n",
        "preds_df = pred_df.select('category','prediction.result').toPandas()\n",
        "preds_df['result'] = preds_df.result.apply(lambda x : x[0])\n",
        "\n",
        "print (classification_report(preds_df['category'], preds_df['result']))"
      ],
      "metadata": {
        "tags": [],
        "colab": {
          "base_uri": "https://localhost:8080/"
        },
        "id": "EB1ONwUvyGE3",
        "outputId": "f23ff0c2-ec7c-4fc0-f0b4-90e90abf68ad",
        "trusted": true
      },
      "execution_count": null,
      "outputs": [
        {
          "name": "stdout",
          "text": "              precision    recall  f1-score   support\n\n         neg       0.92      0.92      0.92      1049\n         pos       0.80      0.79      0.80       425\n\n    accuracy                           0.88      1474\n   macro avg       0.86      0.86      0.86      1474\nweighted avg       0.88      0.88      0.88      1474\n",
          "output_type": "stream"
        }
      ]
    },
    {
      "cell_type": "code",
      "source": [
        "res = classification_report(preds_df[\"category\"], preds_df[\"result\"], output_dict=True)\n",
        "results_df.loc[\"GenericClassifier_bert\"] = [res[\"pos\"][\"f1-score\"], res[\"accuracy\"]]"
      ],
      "metadata": {
        "tags": [],
        "id": "51IsgG8s_r0l",
        "trusted": true,
        "outputId": "e774ecef-c2df-4652-a44f-afbc07a5a85d"
      },
      "execution_count": null,
      "outputs": [
        {
          "name": "stdout",
          "text": "\n",
          "output_type": "stream"
        }
      ]
    },
    {
      "cell_type": "markdown",
      "source": [
        "### GenericLogRegClassifier"
      ],
      "metadata": {
        "id": "wP2hYqY1XJVB"
      }
    },
    {
      "cell_type": "code",
      "source": [
        "graph_folder = \"gc_graph\"\n",
        "\n",
        "gc_logreg_graph_builder = medical.TFGraphBuilder()\\\n",
        "    .setModelName(\"logreg_classifier\")\\\n",
        "    .setInputCols([\"feature_vector\"]) \\\n",
        "    .setLabelColumn(\"category\")\\\n",
        "    .setGraphFolder(graph_folder)\\\n",
        "    .setGraphFile(\"log_reg_graph.pb\")"
      ],
      "metadata": {
        "tags": [],
        "id": "nMqP9w4YXJVB",
        "trusted": true,
        "outputId": "5e6a6993-b6c3-465a-a36f-a49c0fef81f7"
      },
      "execution_count": null,
      "outputs": [
        {
          "name": "stdout",
          "text": "\n",
          "output_type": "stream"
        }
      ]
    },
    {
      "cell_type": "markdown",
      "source": [
        "GenericLogRegClassifier needs outputs from FeaturesAssembler. The FeaturesAssembler is used to collect features from different columns or an embeddings column.\n",
        "\n",
        "The GenericLogRegClassifier takes FEATURE_VECTOR annotations as input, classifies them and outputs CATEGORY annotations."
      ],
      "metadata": {
        "id": "ubEJt4C5XJVB"
      }
    },
    {
      "cell_type": "code",
      "source": [
        "features_asm = medical.FeaturesAssembler()\\\n",
        "    .setInputCols([\"sentence_embeddings\"])\\\n",
        "    .setOutputCol(\"feature_vector\")\n",
        "\n",
        "gen_clf = medical.GenericLogRegClassifierApproach()\\\n",
        "    .setLabelColumn(\"category\")\\\n",
        "    .setInputCols(\"feature_vector\")\\\n",
        "    .setOutputCol(\"prediction\")\\\n",
        "    .setModelFile(f\"{graph_folder}/log_reg_graph.pb\")\\\n",
        "    .setEpochsNumber(20)\\\n",
        "    .setBatchSize(128)\\\n",
        "    .setLearningRate(0.01)\\\n",
        "    .setOutputLogsPath(log_folder)\\\n",
        "    .setDropout(0.1)\\\n",
        "    .setFixImbalance(True)\\\n",
        "    # .setValidationSplit(0.1)\n",
        "\n",
        "clf_Pipeline = nlp.Pipeline(stages=[\n",
        "    features_asm,\n",
        "    gc_logreg_graph_builder,\n",
        "    gen_clf])\n"
      ],
      "metadata": {
        "tags": [],
        "id": "JciMxptEXJVB",
        "trusted": true,
        "outputId": "fdc373df-d527-4afd-910c-11ee84ba6bd2"
      },
      "execution_count": null,
      "outputs": [
        {
          "name": "stdout",
          "text": "\n",
          "output_type": "stream"
        }
      ]
    },
    {
      "cell_type": "code",
      "source": [
        "generic_model_bert = clf_Pipeline.fit(trainingData_with_embeddings)"
      ],
      "metadata": {
        "tags": [],
        "colab": {
          "base_uri": "https://localhost:8080/"
        },
        "id": "vxDhTsP0XJVC",
        "outputId": "051f77eb-7059-4c33-fb67-22dd2c4f458a",
        "trusted": true
      },
      "execution_count": null,
      "outputs": [
        {
          "name": "stdout",
          "text": "TF Graph Builder configuration:\nModel name: logreg_classifier\nGraph folder: gc_graph\nGraph file name: log_reg_graph.pb\nBuild params: {'input_dim': 768, 'output_dim': 2, 'hidden_layers': [], 'output_act': 'sigmoid'}\nlogreg_classifier graph exported to gc_graph/log_reg_graph.pb\n",
          "output_type": "stream"
        }
      ]
    },
    {
      "cell_type": "code",
      "source": [
        "pred_df = generic_model_bert.transform(testData_with_embeddings)"
      ],
      "metadata": {
        "tags": [],
        "id": "EpQZpzg1XJVC",
        "trusted": true,
        "outputId": "a70b8bc2-b987-4216-f0fd-a53a961e559a"
      },
      "execution_count": null,
      "outputs": [
        {
          "name": "stdout",
          "text": "\n",
          "output_type": "stream"
        }
      ]
    },
    {
      "cell_type": "code",
      "source": [
        "preds_df = pred_df.select('category','prediction.result').toPandas()\n",
        "preds_df['result'] = preds_df.result.apply(lambda x : x[0])\n",
        "\n",
        "print (classification_report(preds_df['category'], preds_df['result']))"
      ],
      "metadata": {
        "tags": [],
        "colab": {
          "base_uri": "https://localhost:8080/"
        },
        "id": "YAIyaNA5XJVC",
        "outputId": "fe06f32f-bd15-4390-8808-eb99c793830d",
        "trusted": true
      },
      "execution_count": null,
      "outputs": [
        {
          "name": "stdout",
          "text": "              precision    recall  f1-score   support\n\n         neg       0.88      0.95      0.92      1049\n         pos       0.85      0.69      0.76       425\n\n    accuracy                           0.88      1474\n   macro avg       0.87      0.82      0.84      1474\nweighted avg       0.87      0.88      0.87      1474\n",
          "output_type": "stream"
        }
      ]
    },
    {
      "cell_type": "code",
      "source": [
        "res = classification_report(preds_df[\"category\"], preds_df[\"result\"], output_dict=True)\n",
        "results_df.loc[\"GenericLogReg_bert\"] = [res[\"pos\"][\"f1-score\"], res[\"accuracy\"]]"
      ],
      "metadata": {
        "tags": [],
        "id": "V6JdqR-N_6Xq",
        "trusted": true,
        "outputId": "7a6df39c-10c5-4573-e059-3d82b1e85367"
      },
      "execution_count": null,
      "outputs": [
        {
          "name": "stdout",
          "text": "\n",
          "output_type": "stream"
        }
      ]
    },
    {
      "cell_type": "markdown",
      "source": [
        "### GenericSVMClassifier"
      ],
      "metadata": {
        "id": "fJ53RrHWXXHj"
      }
    },
    {
      "cell_type": "code",
      "source": [
        "graph_folder = \"gc_graph\"\n",
        "\n",
        "gc_svm_graph_builder = medical.TFGraphBuilder()\\\n",
        "    .setModelName(\"svm_classifier\")\\\n",
        "    .setInputCols([\"feature_vector\"]) \\\n",
        "    .setLabelColumn(\"category\")\\\n",
        "    .setGraphFolder(graph_folder)\\\n",
        "    .setGraphFile(\"svm_graph.pb\")"
      ],
      "metadata": {
        "tags": [],
        "id": "xyjJzPzBXXHk",
        "trusted": true,
        "outputId": "ff18adb5-54f5-418f-b386-284faf128fa6"
      },
      "execution_count": null,
      "outputs": [
        {
          "name": "stdout",
          "text": "\n",
          "output_type": "stream"
        }
      ]
    },
    {
      "cell_type": "markdown",
      "source": [
        "GenericSVMClassifier needs outputs from FeaturesAssembler. The FeaturesAssembler is used to collect features from different columns or an embeddings column.\n",
        "\n",
        "The GenericSVMClassifier takes FEATURE_VECTOR annotations as input, classifies them and outputs CATEGORY annotations."
      ],
      "metadata": {
        "id": "VX7v20wHXXHk"
      }
    },
    {
      "cell_type": "code",
      "source": [
        "features_asm = medical.FeaturesAssembler()\\\n",
        "    .setInputCols([\"sentence_embeddings\"])\\\n",
        "    .setOutputCol(\"feature_vector\")\n",
        "\n",
        "gen_clf = medical.GenericSVMClassifierApproach()\\\n",
        "    .setLabelColumn(\"category\")\\\n",
        "    .setInputCols(\"feature_vector\")\\\n",
        "    .setOutputCol(\"prediction\")\\\n",
        "    .setModelFile(f\"{graph_folder}/svm_graph.pb\")\\\n",
        "    .setEpochsNumber(20)\\\n",
        "    .setBatchSize(128)\\\n",
        "    .setLearningRate(0.005)\\\n",
        "    .setOutputLogsPath(log_folder)\\\n",
        "    .setDropout(0.1)\\\n",
        "    .setFixImbalance(True)\\\n",
        "    # .setValidationSplit(0.1)\n",
        "\n",
        "clf_Pipeline = nlp.Pipeline(stages=[\n",
        "    features_asm,\n",
        "    gc_svm_graph_builder,\n",
        "    gen_clf])\n"
      ],
      "metadata": {
        "tags": [],
        "id": "0vzQ80M5XXHk",
        "trusted": true,
        "outputId": "4ca161dd-9c1b-45bd-c1ce-b1324ae49eef"
      },
      "execution_count": null,
      "outputs": [
        {
          "name": "stdout",
          "text": "\n",
          "output_type": "stream"
        }
      ]
    },
    {
      "cell_type": "code",
      "source": [
        "generic_model_bert = clf_Pipeline.fit(trainingData_with_embeddings)"
      ],
      "metadata": {
        "tags": [],
        "colab": {
          "base_uri": "https://localhost:8080/"
        },
        "id": "9BieY4KtXXHk",
        "outputId": "bb637b41-8efa-4fe0-89ea-16917a2da93d",
        "trusted": true
      },
      "execution_count": null,
      "outputs": [
        {
          "name": "stdout",
          "text": "TF Graph Builder configuration:\nModel name: svm_classifier\nGraph folder: gc_graph\nGraph file name: svm_graph.pb\nBuild params: {'input_dim': 768, 'output_dim': 2, 'hidden_layers': [], 'output_act': 'sigmoid', 'loss_func': 'hinge'}\nsvm_classifier graph exported to gc_graph/svm_graph.pb\n",
          "output_type": "stream"
        }
      ]
    },
    {
      "cell_type": "code",
      "source": [
        "pred_df = generic_model_bert.transform(testData_with_embeddings)"
      ],
      "metadata": {
        "tags": [],
        "id": "iHL0IWHQXXHk",
        "trusted": true,
        "outputId": "ce05662c-3e6c-4478-9408-3f42d8e728d2"
      },
      "execution_count": null,
      "outputs": [
        {
          "name": "stdout",
          "text": "\n",
          "output_type": "stream"
        }
      ]
    },
    {
      "cell_type": "code",
      "source": [
        "preds_df = pred_df.select('category','prediction.result').toPandas()\n",
        "preds_df['result'] = preds_df.result.apply(lambda x : x[0])\n",
        "\n",
        "print (classification_report(preds_df['category'], preds_df['result']))"
      ],
      "metadata": {
        "tags": [],
        "colab": {
          "base_uri": "https://localhost:8080/"
        },
        "id": "O1pwRdfMXXHl",
        "outputId": "00fbc722-b91a-487f-b160-1bb7f9680e79",
        "trusted": true
      },
      "execution_count": null,
      "outputs": [
        {
          "name": "stdout",
          "text": "              precision    recall  f1-score   support\n\n         neg       0.92      0.93      0.92      1049\n         pos       0.81      0.79      0.80       425\n\n    accuracy                           0.89      1474\n   macro avg       0.86      0.86      0.86      1474\nweighted avg       0.89      0.89      0.89      1474\n",
          "output_type": "stream"
        }
      ]
    },
    {
      "cell_type": "code",
      "source": [
        "res = classification_report(preds_df[\"category\"], preds_df[\"result\"], output_dict=True)\n",
        "results_df.loc[\"GenericSVM_bert\"] = [res[\"pos\"][\"f1-score\"], res[\"accuracy\"]]"
      ],
      "metadata": {
        "tags": [],
        "id": "wh3x5Qi9ACsw",
        "trusted": true,
        "outputId": "0755f893-8aba-4cc9-c835-1e884f26a819"
      },
      "execution_count": null,
      "outputs": [
        {
          "name": "stdout",
          "text": "\n",
          "output_type": "stream"
        }
      ]
    },
    {
      "cell_type": "markdown",
      "source": [
        "## DocumentLogRegClassifier"
      ],
      "metadata": {
        "id": "HAEFUdy1gyh1"
      }
    },
    {
      "cell_type": "code",
      "source": [
        "document_assembler = nlp.DocumentAssembler()\\\n",
        "    .setInputCol(\"text\")\\\n",
        "    .setOutputCol(\"document\")\n",
        "\n",
        "tokenizer = nlp.Tokenizer() \\\n",
        "    .setInputCols([\"document\"]) \\\n",
        "    .setOutputCol(\"token\")\n",
        "\n",
        "normalizer = nlp.Normalizer() \\\n",
        "      .setInputCols([\"token\"]) \\\n",
        "      .setOutputCol(\"normalized\")\n",
        "\n",
        "stopwords_cleaner = nlp.StopWordsCleaner()\\\n",
        "      .setInputCols(\"normalized\")\\\n",
        "      .setOutputCol(\"cleanTokens\")\\\n",
        "      .setCaseSensitive(False)\n",
        "\n",
        "stemmer = nlp.Stemmer() \\\n",
        "      .setInputCols([\"cleanTokens\"]) \\\n",
        "      .setOutputCol(\"stem\")\n",
        "\n",
        "logreg = medical.DocumentLogRegClassifierApproach()\\\n",
        "    .setInputCols(\"stem\")\\\n",
        "    .setLabelCol(\"category\")\\\n",
        "    .setOutputCol(\"prediction\")\\\n",
        "    .setMaxIter(3)\\\n",
        "    .setTol(1e-6)\n",
        "\n",
        "clf_Pipeline = nlp.Pipeline(stages=[\n",
        "    document_assembler,\n",
        "    tokenizer,\n",
        "    normalizer,\n",
        "    stopwords_cleaner,\n",
        "    stemmer,\n",
        "    logreg])\n",
        "doclogreg_model = clf_Pipeline.fit(trainingData)"
      ],
      "metadata": {
        "tags": [],
        "id": "4YOr31bfg0hm",
        "trusted": true,
        "outputId": "34d37ab7-0ee1-49e3-f847-4f8fb7dba70d"
      },
      "execution_count": null,
      "outputs": [
        {
          "name": "stdout",
          "text": "\n",
          "output_type": "stream"
        }
      ]
    },
    {
      "cell_type": "code",
      "source": [
        "pred_df = doclogreg_model.transform(testData)\n",
        "\n",
        "preds_df = pred_df.select('category','prediction.result').toPandas()\n",
        "preds_df['result'] = preds_df.result.apply(lambda x : x[0])\n",
        "\n",
        "print (classification_report(preds_df['category'], preds_df['result']))"
      ],
      "metadata": {
        "tags": [],
        "colab": {
          "base_uri": "https://localhost:8080/"
        },
        "id": "61zEw5EQg0d-",
        "outputId": "856d8562-9a73-4633-b289-961221d33ac9",
        "trusted": true
      },
      "execution_count": null,
      "outputs": [
        {
          "name": "stdout",
          "text": "              precision    recall  f1-score   support\n\n         neg       0.87      0.89      0.88      1049\n         pos       0.71      0.66      0.69       425\n\n    accuracy                           0.82      1474\n   macro avg       0.79      0.78      0.78      1474\nweighted avg       0.82      0.82      0.82      1474\n",
          "output_type": "stream"
        }
      ]
    },
    {
      "cell_type": "code",
      "source": [
        "res = classification_report(preds_df[\"category\"], preds_df[\"result\"], output_dict=True)\n",
        "results_df.loc[\"DocumentLogRegClassifier\"] = [res[\"pos\"][\"f1-score\"], res[\"accuracy\"]]"
      ],
      "metadata": {
        "tags": [],
        "id": "t6BYspOHAHmu",
        "trusted": true,
        "outputId": "01c874c9-8e52-4f18-f947-b208c7e11f12"
      },
      "execution_count": null,
      "outputs": [
        {
          "name": "stdout",
          "text": "\n",
          "output_type": "stream"
        }
      ]
    },
    {
      "cell_type": "markdown",
      "source": [
        "## Comparision of All Models' Result in ADE Dataset"
      ],
      "metadata": {
        "id": "7w8N3lOUAS9U"
      }
    },
    {
      "cell_type": "markdown",
      "source": [
        "Here is the all results of classifier models. Only positive ADE f1 scores and accuracy scores are presented."
      ],
      "metadata": {
        "id": "-QSw0-cWBe5y"
      }
    },
    {
      "cell_type": "code",
      "source": [
        "results_df"
      ],
      "metadata": {
        "tags": [],
        "colab": {
          "base_uri": "https://localhost:8080/",
          "height": 551
        },
        "id": "axjlz-i5BcZo",
        "outputId": "7351fe22-362c-4104-d425-c26052da6b75",
        "trusted": true
      },
      "execution_count": null,
      "outputs": [
        {
          "name": "stdout",
          "text": "                          pos-f1-score  accuracy\nClassifierDL_100d             0.724311  0.850746\nMultiClassifierDL_100d        0.695150  0.820896\nGenericClassifier_100d        0.652850  0.727273\nGenericLogReg_100d            0.465544  0.763229\nGenericSVM_100d               0.434783  0.761872\nClassifierDL_200d             0.733572  0.848711\nMultiClassifierDL_200d        0.737991  0.837178\nGenericClassifier_200d        0.696889  0.768657\nGenericLogReg_200d            0.556548  0.797829\nGenericSVM_200d               0.553441  0.793080\nClassifierDL_bert             0.792271  0.883311\nMultiClassifierDL_bert        0.778661  0.867707\nGenericClassifier_bert        0.797153  0.883989\nGenericLogReg_bert            0.760417  0.875170\nGenericSVM_bert               0.799523  0.886024\nDocumentLogRegClassifier      0.686131  0.824966\n",
          "output_type": "stream"
        }
      ]
    },
    {
      "cell_type": "markdown",
      "source": [
        "# Mtsamples Dataset"
      ],
      "metadata": {
        "id": "IryBN-nlB8fu"
      }
    },
    {
      "cell_type": "markdown",
      "source": [
        "## Load Dataset"
      ],
      "metadata": {
        "id": "9VTK1AsahOpz"
      }
    },
    {
      "cell_type": "code",
      "source": [
        "# Sample data should be downloaded and uploaded to the s3 bucket\n",
        "\n",
        "#!wget -q https://raw.githubusercontent.com/JohnSnowLabs/spark-nlp-workshop/master/tutorials/Certification_Trainings/Healthcare/data/mtsamples_classifier.csv"
      ],
      "metadata": {
        "tags": [],
        "id": "CHPqy3NeZMWW",
        "trusted": true
      },
      "execution_count": null,
      "outputs": []
    },
    {
      "cell_type": "code",
      "source": [
        "spark_df = spark.read.csv(f\"{bucket}/mtsamples_classifier.csv\", header = True)\n",
        "\n",
        "spark_df.show(10,truncate=100)"
      ],
      "metadata": {
        "tags": [],
        "colab": {
          "base_uri": "https://localhost:8080/"
        },
        "id": "44eb4f5f-9065-4512-aad6-2afc89f74220",
        "outputId": "1631cded-d53c-4e7c-bf8d-60e691bfb8b7",
        "trusted": true
      },
      "execution_count": null,
      "outputs": [
        {
          "name": "stdout",
          "text": "+----------------+----------------------------------------------------------------------------------------------------+\n|        category|                                                                                                text|\n+----------------+----------------------------------------------------------------------------------------------------+\n|Gastroenterology| PROCEDURES PERFORMED: Colonoscopy. INDICATIONS: Renewed symptoms likely consistent with active f...|\n|Gastroenterology| OPERATION 1. Ivor-Lewis esophagogastrectomy. 2. Feeding jejunostomy. 3. Placement of two right-s...|\n|Gastroenterology| PREOPERATIVE DIAGNOSES: 1. Gastroesophageal reflux disease. 2. Chronic dyspepsia. POSTOPERATIVE ...|\n|Gastroenterology| PROCEDURE: Colonoscopy. PREOPERATIVE DIAGNOSES: Rectal bleeding and perirectal abscess. POSTOPER...|\n|Gastroenterology| PREOPERATIVE DIAGNOSIS: Right colon tumor. POSTOPERATIVE DIAGNOSES: 1. Right colon cancer. 2. As...|\n|Gastroenterology| PREOPERATIVE DIAGNOSIS (ES): 1. Cholelithiasis. 2. Cholecystitis. POSTOPERATIVE DIAGNOSIS (ES): ...|\n|Gastroenterology| The patient was taken to the GI lab and placed in the left lateral supine position. Continuous p...|\n|Gastroenterology| PREOPERATIVE DIAGNOSIS: Gastrostomy (gastrocutaneous fistula). POSTOPERATIVE DIAGNOSIS: Gastrost...|\n|Gastroenterology| PREOPERATIVE DIAGNOSIS: Acute acalculous cholecystitis. POSTOPERATIVE DIAGNOSIS: Acute hemorrhag...|\n|Gastroenterology| HISTORY OF PRESENT ILLNESS: This is a 10-year-old who was found with biliary atresia and underwe...|\n+----------------+----------------------------------------------------------------------------------------------------+\nonly showing top 10 rows\n",
          "output_type": "stream"
        }
      ]
    },
    {
      "cell_type": "code",
      "source": [
        "spark_df.printSchema()"
      ],
      "metadata": {
        "tags": [],
        "colab": {
          "base_uri": "https://localhost:8080/"
        },
        "id": "yApqQhjp_EZx",
        "outputId": "cbd5d0c5-7919-4afd-8eb3-1950094c9a52",
        "trusted": true
      },
      "execution_count": null,
      "outputs": [
        {
          "name": "stdout",
          "text": "root\n |-- category: string (nullable = true)\n |-- text: string (nullable = true)\n",
          "output_type": "stream"
        }
      ]
    },
    {
      "cell_type": "code",
      "source": [
        "spark_df.count()"
      ],
      "metadata": {
        "tags": [],
        "colab": {
          "base_uri": "https://localhost:8080/"
        },
        "id": "f0886fb5-fd9d-4199-b142-637cad880866",
        "outputId": "ef642c4c-2b26-4e0d-ae99-d24a4e5e868b",
        "trusted": true
      },
      "execution_count": null,
      "outputs": [
        {
          "name": "stdout",
          "text": "638\n",
          "output_type": "stream"
        }
      ]
    },
    {
      "cell_type": "code",
      "source": [
        "spark_df.groupBy(\"category\").count().show()"
      ],
      "metadata": {
        "tags": [],
        "colab": {
          "base_uri": "https://localhost:8080/"
        },
        "id": "241bd286-350c-421e-92f4-a80164ed2dc1",
        "outputId": "1ca682a3-1722-4a20-941c-c0411f2ec42e",
        "trusted": true
      },
      "execution_count": null,
      "outputs": [
        {
          "name": "stdout",
          "text": "+----------------+-----+\n|        category|count|\n+----------------+-----+\n|Gastroenterology|  157|\n|       Neurology|  143|\n|         Urology|  115|\n|      Orthopedic|  223|\n+----------------+-----+\n",
          "output_type": "stream"
        }
      ]
    },
    {
      "cell_type": "code",
      "source": [
        "(trainingData, testData) = spark_df.randomSplit([0.8, 0.2], seed = 42)"
      ],
      "metadata": {
        "tags": [],
        "id": "db12fe42-90b6-434d-852a-ea86cad9a963",
        "trusted": true,
        "outputId": "61974f48-7a92-480f-fc4d-3f07b771f538"
      },
      "execution_count": null,
      "outputs": [
        {
          "name": "stdout",
          "text": "\n",
          "output_type": "stream"
        }
      ]
    },
    {
      "cell_type": "code",
      "source": [
        "trainingData.groupBy(\"category\").count().show()"
      ],
      "metadata": {
        "tags": [],
        "colab": {
          "base_uri": "https://localhost:8080/"
        },
        "id": "P3iINSk1hc2E",
        "outputId": "203db632-dfa2-43e7-bb7c-ad829f7d5c96",
        "trusted": true
      },
      "execution_count": null,
      "outputs": [
        {
          "name": "stdout",
          "text": "+----------------+-----+\n|        category|count|\n+----------------+-----+\n|Gastroenterology|  132|\n|       Neurology|  121|\n|         Urology|   95|\n|      Orthopedic|  188|\n+----------------+-----+\n",
          "output_type": "stream"
        }
      ]
    },
    {
      "cell_type": "code",
      "source": [
        "testData.groupBy(\"category\").count().show()"
      ],
      "metadata": {
        "tags": [],
        "colab": {
          "base_uri": "https://localhost:8080/"
        },
        "id": "UofCYygtKNw7",
        "outputId": "63fd1e01-9168-427e-a7ac-53fe787c4ec0",
        "trusted": true
      },
      "execution_count": null,
      "outputs": [
        {
          "name": "stdout",
          "text": "+----------------+-----+\n|        category|count|\n+----------------+-----+\n|Gastroenterology|   25|\n|       Neurology|   22|\n|         Urology|   20|\n|      Orthopedic|   35|\n+----------------+-----+\n",
          "output_type": "stream"
        }
      ]
    },
    {
      "cell_type": "markdown",
      "source": [
        "## 100 Dimension Healthcare Embeddings (embeddings_healthcare_100d)\n",
        "\n"
      ],
      "metadata": {
        "id": "F5fxqMw69oZ_"
      }
    },
    {
      "cell_type": "markdown",
      "source": [
        "We will extract [healthcare_100d embeddings](https://nlp.johnsnowlabs.com/2020/05/29/embeddings_healthcare_100d_en.html) and use it in the classificaiton model training."
      ],
      "metadata": {
        "id": "z3E3d1_w9oZ_"
      }
    },
    {
      "cell_type": "code",
      "source": [
        "document_assembler = nlp.DocumentAssembler()\\\n",
        "        .setInputCol(\"text\")\\\n",
        "        .setOutputCol(\"document\")\n",
        "\n",
        "tokenizer = nlp.Tokenizer() \\\n",
        "            .setInputCols([\"document\"]) \\\n",
        "            .setOutputCol(\"token\")\n",
        "\n",
        "word_embeddings = nlp.WordEmbeddingsModel.pretrained(\"embeddings_healthcare_100d\",\"en\",\"clinical/models\")\\\n",
        "        .setInputCols([\"document\",\"token\"])\\\n",
        "        .setOutputCol(\"word_embeddings\")\\\n",
        "        .setEnableInMemoryStorage(True)\n",
        "\n",
        "sentence_embeddings = nlp.SentenceEmbeddings() \\\n",
        "        .setInputCols([\"document\", \"word_embeddings\"]) \\\n",
        "        .setOutputCol(\"sentence_embeddings\") \\\n",
        "        .setPoolingStrategy(\"AVERAGE\")\n",
        "\n",
        "embeddings_pipeline = nlp.Pipeline(\n",
        "    stages = [\n",
        "        document_assembler,\n",
        "        tokenizer,\n",
        "        word_embeddings,\n",
        "        sentence_embeddings,\n",
        "\n",
        "    ])"
      ],
      "metadata": {
        "tags": [],
        "colab": {
          "base_uri": "https://localhost:8080/"
        },
        "id": "dGwOkIhg9oZ_",
        "outputId": "66203877-bd50-45df-c188-148590ff08c8",
        "trusted": true
      },
      "execution_count": null,
      "outputs": [
        {
          "name": "stdout",
          "text": "embeddings_healthcare_100d download started this may take some time.\nApproximate size to download 475.8 MB\n[OK!]\n",
          "output_type": "stream"
        }
      ]
    },
    {
      "cell_type": "code",
      "source": [
        "trainingData_with_embeddings = embeddings_pipeline.fit(trainingData).transform(trainingData)\n",
        "trainingData_with_embeddings = trainingData_with_embeddings.select(\"text\",\"category\",\"sentence_embeddings\")\n",
        "trainingData_with_embeddings.show(2,truncate=60)"
      ],
      "metadata": {
        "tags": [],
        "colab": {
          "base_uri": "https://localhost:8080/"
        },
        "id": "NtiB6Xgv9oZ_",
        "outputId": "9dc9432b-718e-468a-800e-368a71472c91",
        "trusted": true
      },
      "execution_count": null,
      "outputs": [
        {
          "name": "stdout",
          "text": "+------------------------------------------------------------+----------------+------------------------------------------------------------+\n|                                                        text|        category|                                         sentence_embeddings|\n+------------------------------------------------------------+----------------+------------------------------------------------------------+\n| ADMISSION DIAGNOSIS: Symptomatic cholelithiasis. DISCHAR...|Gastroenterology|[{sentence_embeddings, 0, 2228,  ADMISSION DIAGNOSIS: Sym...|\n| ADMITTING DIAGNOSES: Hiatal hernia, gastroesophageal ref...|Gastroenterology|[{sentence_embeddings, 0, 3237,  ADMITTING DIAGNOSES: Hia...|\n+------------------------------------------------------------+----------------+------------------------------------------------------------+\nonly showing top 2 rows\n",
          "output_type": "stream"
        }
      ]
    },
    {
      "cell_type": "code",
      "source": [
        "testData_with_embeddings = embeddings_pipeline.fit(testData).transform(testData)\n",
        "testData_with_embeddings = testData_with_embeddings.select(\"text\",\"category\",\"sentence_embeddings\")\n",
        "testData_with_embeddings.show(2,truncate=60)"
      ],
      "metadata": {
        "tags": [],
        "colab": {
          "base_uri": "https://localhost:8080/"
        },
        "id": "_hMuZrio9oaA",
        "outputId": "b83f65ca-f729-4f04-c11f-c4d4e3ee27ad",
        "trusted": true
      },
      "execution_count": null,
      "outputs": [
        {
          "name": "stdout",
          "text": "+------------------------------------------------------------+----------------+------------------------------------------------------------+\n|                                                        text|        category|                                         sentence_embeddings|\n+------------------------------------------------------------+----------------+------------------------------------------------------------+\n| ADMITTING DIAGNOSIS: Gastrointestinal bleed. HISTORY OF ...|Gastroenterology|[{sentence_embeddings, 0, 3978,  ADMITTING DIAGNOSIS: Gas...|\n| CHIEF COMPLAINT: Dysphagia and hematemesis while vomitin...|Gastroenterology|[{sentence_embeddings, 0, 6515,  CHIEF COMPLAINT: Dysphag...|\n+------------------------------------------------------------+----------------+------------------------------------------------------------+\nonly showing top 2 rows\n",
          "output_type": "stream"
        }
      ]
    },
    {
      "cell_type": "code",
      "source": [
        "testData_with_embeddings.printSchema()"
      ],
      "metadata": {
        "tags": [],
        "colab": {
          "base_uri": "https://localhost:8080/"
        },
        "id": "ZgqbexSQ9oaA",
        "outputId": "6841e6c6-b4df-4f68-b79b-e7c153bdf937",
        "trusted": true
      },
      "execution_count": null,
      "outputs": [
        {
          "name": "stdout",
          "text": "root\n |-- text: string (nullable = true)\n |-- category: string (nullable = true)\n |-- sentence_embeddings: array (nullable = true)\n |    |-- element: struct (containsNull = true)\n |    |    |-- annotatorType: string (nullable = true)\n |    |    |-- begin: integer (nullable = false)\n |    |    |-- end: integer (nullable = false)\n |    |    |-- result: string (nullable = true)\n |    |    |-- metadata: map (nullable = true)\n |    |    |    |-- key: string\n |    |    |    |-- value: string (valueContainsNull = true)\n |    |    |-- embeddings: array (nullable = true)\n |    |    |    |-- element: float (containsNull = false)\n",
          "output_type": "stream"
        }
      ]
    },
    {
      "cell_type": "code",
      "source": [
        "testData_with_embeddings.select(testData_with_embeddings.sentence_embeddings.embeddings).show(3,truncate=120)"
      ],
      "metadata": {
        "tags": [],
        "colab": {
          "base_uri": "https://localhost:8080/"
        },
        "id": "aX5ka1ok9oaA",
        "outputId": "105d693d-213d-41ff-bd89-66b637300b42",
        "trusted": true
      },
      "execution_count": null,
      "outputs": [
        {
          "name": "stdout",
          "text": "+------------------------------------------------------------------------------------------------------------------------+\n|                                                                                          sentence_embeddings.embeddings|\n+------------------------------------------------------------------------------------------------------------------------+\n|[[-0.010433162, 0.0127568655, 0.110687375, 0.1609855, -0.14818177, -0.050856464, 0.064748034, -0.019294674, -0.002178...|\n|[[-0.0055608996, 0.018396137, 0.12305377, 0.13861515, -0.18651922, -0.07559964, 0.12978752, -0.0046452526, -0.0031408...|\n|[[-0.019461514, 0.060639214, 0.11142021, 0.12826534, -0.16216077, -0.10416892, 0.17136306, -0.020363769, 0.01169337, ...|\n+------------------------------------------------------------------------------------------------------------------------+\nonly showing top 3 rows\n",
          "output_type": "stream"
        }
      ]
    },
    {
      "cell_type": "code",
      "source": [
        "log_folder=\"Mt_logs_healthcare_100d\""
      ],
      "metadata": {
        "tags": [],
        "id": "V99u_ru-9oaA",
        "trusted": true,
        "outputId": "e2be2871-befa-455b-b5ac-95663b91d014"
      },
      "execution_count": null,
      "outputs": [
        {
          "name": "stdout",
          "text": "\n",
          "output_type": "stream"
        }
      ]
    },
    {
      "cell_type": "markdown",
      "source": [
        "### ClassifierDL"
      ],
      "metadata": {
        "id": "7HUPl4fh9oaA"
      }
    },
    {
      "cell_type": "code",
      "source": [
        "classifier_dl = nlp.ClassifierDLApproach()\\\n",
        "        .setInputCols([\"sentence_embeddings\"])\\\n",
        "        .setOutputCol(\"prediction\")\\\n",
        "        .setLabelColumn(\"category\")\\\n",
        "        .setBatchSize(8)\\\n",
        "        .setMaxEpochs(50)\\\n",
        "        .setLr(0.005)\\\n",
        "        .setDropout(0.3)\\\n",
        "        .setEnableOutputLogs(True)\\\n",
        "        .setOutputLogsPath(log_folder)\\\n",
        "        # .setValidationSplit(0.1)\n",
        "\n",
        "classifier_dl_pipeline = nlp.Pipeline(stages=[classifier_dl])"
      ],
      "metadata": {
        "tags": [],
        "id": "Dzhptr2o9oaA",
        "trusted": true,
        "outputId": "c22c98d4-10ee-433e-c3c0-0524ff3118ae"
      },
      "execution_count": null,
      "outputs": [
        {
          "name": "stdout",
          "text": "\n",
          "output_type": "stream"
        }
      ]
    },
    {
      "cell_type": "code",
      "source": [
        "clfDL_model_hc100 = classifier_dl_pipeline.fit(trainingData_with_embeddings)"
      ],
      "metadata": {
        "tags": [],
        "id": "GP8eSc7Q9oaB",
        "trusted": true,
        "outputId": "9432d02c-b8ba-4d6e-c717-b17464a10ec6"
      },
      "execution_count": null,
      "outputs": [
        {
          "name": "stdout",
          "text": "\n",
          "output_type": "stream"
        }
      ]
    },
    {
      "cell_type": "code",
      "source": [
        "preds = clfDL_model_hc100.transform(testData_with_embeddings)"
      ],
      "metadata": {
        "tags": [],
        "id": "3CKuuqYb9oaB",
        "trusted": true,
        "outputId": "937d82fe-8224-43db-dc7d-b55239ad6bf4"
      },
      "execution_count": null,
      "outputs": [
        {
          "name": "stdout",
          "text": "\n",
          "output_type": "stream"
        }
      ]
    },
    {
      "cell_type": "code",
      "source": [
        "preds_df = preds.select(\"category\",\"text\",\"prediction.result\").toPandas()\n",
        "preds_df[\"result\"] = preds_df[\"result\"].apply(lambda x : x[0])\n",
        "\n",
        "print (classification_report(preds_df[\"category\"], preds_df[\"result\"]))"
      ],
      "metadata": {
        "tags": [],
        "colab": {
          "base_uri": "https://localhost:8080/"
        },
        "id": "uGFN40ju9oaB",
        "outputId": "ecde8c0e-aabf-495a-e96c-b08b2a4f31d8",
        "trusted": true
      },
      "execution_count": null,
      "outputs": [
        {
          "name": "stdout",
          "text": "                  precision    recall  f1-score   support\n\nGastroenterology       0.84      0.84      0.84        25\n       Neurology       0.80      0.73      0.76        22\n      Orthopedic       0.89      0.94      0.92        35\n         Urology       0.70      0.70      0.70        20\n\n        accuracy                           0.82       102\n       macro avg       0.81      0.80      0.80       102\n    weighted avg       0.82      0.82      0.82       102\n",
          "output_type": "stream"
        }
      ]
    },
    {
      "cell_type": "code",
      "source": [
        "res = classification_report(preds_df[\"category\"], preds_df[\"result\"], output_dict=True)\n",
        "results_df = pd.DataFrame(columns=[\"macro-f1-score\",\"weighted-f1-score\",\"accuracy\"])\n",
        "results_df.loc[\"ClassifierDL_100d\"] = [res[\"macro avg\"][\"f1-score\"], res[\"weighted avg\"][\"f1-score\"], res[\"accuracy\"]]\n",
        "results_df"
      ],
      "metadata": {
        "tags": [],
        "colab": {
          "base_uri": "https://localhost:8080/",
          "height": 81
        },
        "id": "8xClfL0wD2l1",
        "outputId": "f159a8d3-f3e2-4732-c70c-d9eaea66a667",
        "trusted": true
      },
      "execution_count": null,
      "outputs": [
        {
          "name": "stdout",
          "text": "                   macro-f1-score  weighted-f1-score  accuracy\nClassifierDL_100d        0.804643           0.822012  0.823529\n",
          "output_type": "stream"
        }
      ]
    },
    {
      "cell_type": "markdown",
      "source": [
        "### MultiClassifierDL"
      ],
      "metadata": {
        "id": "zaaRNh3W9oaB"
      }
    },
    {
      "cell_type": "code",
      "source": [
        "# MultiClassifierDL accepts list of strings as input label. So we convert label column to array type.\n",
        "trainingData_with_embeddings = trainingData_with_embeddings.withColumn(\"category_array\", F.array(F.col(\"category\")))\n",
        "testData_with_embeddings = testData_with_embeddings.withColumn(\"category_array\", F.array(F.col(\"category\")))"
      ],
      "metadata": {
        "tags": [],
        "id": "FnURVIYR9oaB",
        "trusted": true,
        "outputId": "e40c3009-7150-4b13-bb54-22f26463360d"
      },
      "execution_count": null,
      "outputs": [
        {
          "name": "stdout",
          "text": "\n",
          "output_type": "stream"
        }
      ]
    },
    {
      "cell_type": "code",
      "source": [
        "multiClassifier =nlp.MultiClassifierDLApproach()\\\n",
        "  .setInputCols(\"sentence_embeddings\")\\\n",
        "  .setOutputCol(\"prediction\")\\\n",
        "  .setLabelColumn(\"category_array\")\\\n",
        "  .setBatchSize(8)\\\n",
        "  .setMaxEpochs(40)\\\n",
        "  .setLr(5e-3)\\\n",
        "  .setThreshold(0.5)\\\n",
        "  .setShufflePerEpoch(False)\\\n",
        "  .setEnableOutputLogs(True)\\\n",
        "  .setOutputLogsPath(log_folder)\\\n",
        "#   .setValidationSplit(0.1)\n",
        "\n",
        "multiClassifier_pipeline = nlp.Pipeline(\n",
        "    stages = [\n",
        "        multiClassifier\n",
        "    ])"
      ],
      "metadata": {
        "tags": [],
        "id": "BHBThSDF9oaB",
        "trusted": true,
        "outputId": "87f32bb6-293b-4f0b-8d03-2d0c880be973"
      },
      "execution_count": null,
      "outputs": [
        {
          "name": "stdout",
          "text": "\n",
          "output_type": "stream"
        }
      ]
    },
    {
      "cell_type": "code",
      "source": [
        "multiClassifier_model_hc100 = multiClassifier_pipeline.fit(trainingData_with_embeddings)"
      ],
      "metadata": {
        "tags": [],
        "id": "Ls8aG1NS9oaB",
        "trusted": true,
        "outputId": "f1e10659-0be9-432b-ac01-cd1395ac3487"
      },
      "execution_count": null,
      "outputs": [
        {
          "name": "stdout",
          "text": "\n",
          "output_type": "stream"
        }
      ]
    },
    {
      "cell_type": "code",
      "source": [
        "preds = multiClassifier_model_hc100.transform(testData_with_embeddings)"
      ],
      "metadata": {
        "tags": [],
        "id": "zbwCsFnA9oaC",
        "trusted": true,
        "outputId": "c5d3db51-0fce-476a-8d91-b80d27f6cd9f"
      },
      "execution_count": null,
      "outputs": [
        {
          "name": "stdout",
          "text": "\n",
          "output_type": "stream"
        }
      ]
    },
    {
      "cell_type": "code",
      "source": [
        "preds_df = preds.select(\"category\",\"text\",\"prediction.result\",\"prediction.metadata\").toPandas()\n",
        "preds_df.result.apply(lambda x: str(x) ).value_counts()"
      ],
      "metadata": {
        "tags": [],
        "colab": {
          "base_uri": "https://localhost:8080/"
        },
        "id": "l5ZNDAi69oaC",
        "outputId": "676e59b6-5182-492d-f687-a8b8e30903b3",
        "trusted": true
      },
      "execution_count": null,
      "outputs": [
        {
          "name": "stdout",
          "text": "['Orthopedic']                     30\n['Gastroenterology']               20\n['Urology']                        20\n['Neurology']                      20\n[]                                  8\n['Neurology', 'Urology']            2\n['Gastroenterology', 'Urology']     1\n['Neurology', 'Orthopedic']         1\nName: result, dtype: int64\n",
          "output_type": "stream"
        }
      ]
    },
    {
      "cell_type": "code",
      "source": [
        "# We will get the highest score label as result. You can control the number of zero label results with setThreshold() in the training.\n",
        "preds_df[\"scores\"] = preds_df.metadata.apply(lambda x: {k:float(v) for k,v in x[0].items()} if len(x)>=1 else \"\")\n",
        "preds_df[\"result\"] = preds_df.scores.apply(lambda x: max(x, key=x.get) if len(x)>=1 else \"\")\n",
        "preds_df = preds_df[(preds_df[\"result\"]!=\"\")]\n",
        "preds_df[\"result\"].value_counts()"
      ],
      "metadata": {
        "tags": [],
        "colab": {
          "base_uri": "https://localhost:8080/"
        },
        "id": "jCaUwm8k9oaD",
        "outputId": "2f4032b0-b9ca-4b3c-e9d9-003153538bb6",
        "trusted": true
      },
      "execution_count": null,
      "outputs": [
        {
          "name": "stdout",
          "text": "Orthopedic          31\nNeurology           22\nUrology             21\nGastroenterology    20\nName: result, dtype: int64\n",
          "output_type": "stream"
        }
      ]
    },
    {
      "cell_type": "code",
      "source": [
        "print (classification_report(preds_df[\"category\"], preds_df[\"result\"]))"
      ],
      "metadata": {
        "tags": [],
        "colab": {
          "base_uri": "https://localhost:8080/"
        },
        "id": "7UoCi9IN9oaD",
        "outputId": "0637c7cd-d836-4ce8-f1f2-4b86a36eed56",
        "trusted": true
      },
      "execution_count": null,
      "outputs": [
        {
          "name": "stdout",
          "text": "                  precision    recall  f1-score   support\n\nGastroenterology       0.95      0.90      0.93        21\n       Neurology       0.82      0.90      0.86        20\n      Orthopedic       0.97      0.91      0.94        33\n         Urology       0.90      0.95      0.93        20\n\n        accuracy                           0.91        94\n       macro avg       0.91      0.92      0.91        94\n    weighted avg       0.92      0.91      0.92        94\n",
          "output_type": "stream"
        }
      ]
    },
    {
      "cell_type": "code",
      "source": [
        "res = classification_report(preds_df[\"category\"], preds_df[\"result\"], output_dict=True)\n",
        "results_df.loc[\"MultiClassifierDL_100d\"] = [res[\"macro avg\"][\"f1-score\"], res[\"weighted avg\"][\"f1-score\"], res[\"accuracy\"]]"
      ],
      "metadata": {
        "tags": [],
        "id": "7W3OTbEAE8_E",
        "trusted": true,
        "outputId": "b9f54812-5925-43ea-87d8-8c62fda630fa"
      },
      "execution_count": null,
      "outputs": [
        {
          "name": "stdout",
          "text": "\n",
          "output_type": "stream"
        }
      ]
    },
    {
      "cell_type": "markdown",
      "source": [
        "### Generic Classifier"
      ],
      "metadata": {
        "id": "xIjin3kR9oaD"
      }
    },
    {
      "cell_type": "code",
      "source": [
        "from sparknlp_jsl.annotator import TFGraphBuilder\n",
        "\n",
        "graph_folder = \"gc_graph\"\n",
        "\n",
        "gc_graph_builder =medical.TFGraphBuilder()\\\n",
        "    .setModelName(\"generic_classifier\")\\\n",
        "    .setInputCols([\"features\"])\\\n",
        "    .setLabelColumn(\"category\")\\\n",
        "    .setHiddenLayers([300,200, 50])\\\n",
        "    .setHiddenAct(\"tanh\")\\\n",
        "    .setHiddenActL2(True)\\\n",
        "    .setBatchNorm(True)\\\n",
        "    .setGraphFolder(graph_folder)\\\n",
        "    .setGraphFile(\"gcf_graph_100d.pb\")"
      ],
      "metadata": {
        "tags": [],
        "id": "kbBy9Fei9oaD",
        "trusted": true,
        "outputId": "18e6fb07-dc8a-4ca3-e731-6fe5fe1bb5be"
      },
      "execution_count": null,
      "outputs": [
        {
          "name": "stdout",
          "text": "\n",
          "output_type": "stream"
        }
      ]
    },
    {
      "cell_type": "code",
      "source": [
        "features_asm =medical.FeaturesAssembler()\\\n",
        "    .setInputCols([\"sentence_embeddings\"])\\\n",
        "    .setOutputCol(\"features\")\n",
        "\n",
        "gen_clf =medical.GenericClassifierApproach()\\\n",
        "    .setLabelColumn(\"category\")\\\n",
        "    .setInputCols(\"features\")\\\n",
        "    .setOutputCol(\"prediction\")\\\n",
        "    .setModelFile(f\"{graph_folder}/gcf_graph_100d.pb\")\\\n",
        "    .setEpochsNumber(50)\\\n",
        "    .setBatchSize(32)\\\n",
        "    .setLearningRate(0.001)\\\n",
        "    .setOutputLogsPath(log_folder)\\\n",
        "    .setDropout(0.3)\\\n",
        "    .setFixImbalance(False)\\\n",
        "    # .setValidationSplit(0.1)\n",
        "\n",
        "clf_Pipeline = nlp.Pipeline(stages=[\n",
        "    features_asm,\n",
        "    gc_graph_builder,\n",
        "    gen_clf])\n"
      ],
      "metadata": {
        "tags": [],
        "id": "k_4aonYQ9oaD",
        "trusted": true,
        "outputId": "4412c6de-cbcd-4016-b5bb-20c92222169e"
      },
      "execution_count": null,
      "outputs": [
        {
          "name": "stdout",
          "text": "\n",
          "output_type": "stream"
        }
      ]
    },
    {
      "cell_type": "code",
      "source": [
        "generic_model_hc100 = clf_Pipeline.fit(trainingData_with_embeddings)"
      ],
      "metadata": {
        "tags": [],
        "colab": {
          "base_uri": "https://localhost:8080/"
        },
        "id": "4LA5_oIb9oaE",
        "outputId": "899df72f-5b61-4d7c-d84f-b08f852e25a4",
        "trusted": true
      },
      "execution_count": null,
      "outputs": [
        {
          "name": "stdout",
          "text": "TF Graph Builder configuration:\nModel name: generic_classifier\nGraph folder: gc_graph\nGraph file name: gcf_graph_100d.pb\nBuild params: {'input_dim': 100, 'output_dim': 4, 'hidden_layers': [300, 200, 50], 'hidden_act': 'tanh', 'hidden_act_l2': True, 'batch_norm': True}\ngeneric_classifier graph exported to gc_graph/gcf_graph_100d.pb\n",
          "output_type": "stream"
        }
      ]
    },
    {
      "cell_type": "code",
      "source": [
        "pred_df = generic_model_hc100.transform(testData_with_embeddings)"
      ],
      "metadata": {
        "tags": [],
        "id": "YSMrZRPx9oaE",
        "trusted": true,
        "outputId": "695f38ec-7199-429b-e259-5e83e521a16d"
      },
      "execution_count": null,
      "outputs": [
        {
          "name": "stdout",
          "text": "\n",
          "output_type": "stream"
        }
      ]
    },
    {
      "cell_type": "code",
      "source": [
        "preds_df = pred_df.select('category','prediction.result').toPandas()\n",
        "preds_df['result'] = preds_df.result.apply(lambda x : x[0])\n",
        "\n",
        "print (classification_report(preds_df['category'], preds_df['result']))"
      ],
      "metadata": {
        "tags": [],
        "colab": {
          "base_uri": "https://localhost:8080/"
        },
        "id": "geckbyhy9oaE",
        "outputId": "54fdf94d-76b1-4147-a366-8ce038dffb69",
        "trusted": true
      },
      "execution_count": null,
      "outputs": [
        {
          "name": "stdout",
          "text": "                  precision    recall  f1-score   support\n\nGastroenterology       0.96      0.88      0.92        25\n       Neurology       0.61      0.86      0.72        22\n      Orthopedic       0.93      0.74      0.83        35\n         Urology       0.90      0.90      0.90        20\n\n        accuracy                           0.83       102\n       macro avg       0.85      0.85      0.84       102\n    weighted avg       0.86      0.83      0.84       102\n",
          "output_type": "stream"
        }
      ]
    },
    {
      "cell_type": "code",
      "source": [
        "res = classification_report(preds_df[\"category\"], preds_df[\"result\"], output_dict=True)\n",
        "results_df.loc[\"GenericClassifier_100d\"] = [res[\"macro avg\"][\"f1-score\"], res[\"weighted avg\"][\"f1-score\"], res[\"accuracy\"]]"
      ],
      "metadata": {
        "tags": [],
        "id": "gJjDQERoFDUp",
        "trusted": true,
        "outputId": "10016af6-acac-4568-d930-9fcfbea401e8"
      },
      "execution_count": null,
      "outputs": [
        {
          "name": "stdout",
          "text": "\n",
          "output_type": "stream"
        }
      ]
    },
    {
      "cell_type": "markdown",
      "source": [
        "### GenericLogRegClassifier"
      ],
      "metadata": {
        "id": "hOnIAdo9XKrE"
      }
    },
    {
      "cell_type": "code",
      "source": [
        "graph_folder = \"gc_graph\"\n",
        "\n",
        "gc_logreg_graph_builder = medical.TFGraphBuilder()\\\n",
        "    .setModelName(\"logreg_classifier\")\\\n",
        "    .setInputCols([\"feature_vector\"]) \\\n",
        "    .setLabelColumn(\"category\")\\\n",
        "    .setGraphFolder(graph_folder)\\\n",
        "    .setGraphFile(\"log_reg_graph.pb\")"
      ],
      "metadata": {
        "tags": [],
        "id": "xC6Kg1KeXKrE",
        "trusted": true,
        "outputId": "aac471af-25e1-4ca7-ca4f-f6c517ae9aef"
      },
      "execution_count": null,
      "outputs": [
        {
          "name": "stdout",
          "text": "\n",
          "output_type": "stream"
        }
      ]
    },
    {
      "cell_type": "markdown",
      "source": [
        "GenericLogRegClassifier needs outputs from FeaturesAssembler. The FeaturesAssembler is used to collect features from different columns or an embeddings column.\n",
        "\n",
        "The GenericLogRegClassifier takes FEATURE_VECTOR annotations as input, classifies them and outputs CATEGORY annotations."
      ],
      "metadata": {
        "id": "8R6PZ_qlXKrE"
      }
    },
    {
      "cell_type": "code",
      "source": [
        "features_asm = medical.FeaturesAssembler()\\\n",
        "    .setInputCols([\"sentence_embeddings\"])\\\n",
        "    .setOutputCol(\"feature_vector\")\n",
        "\n",
        "gen_clf = medical.GenericLogRegClassifierApproach()\\\n",
        "    .setLabelColumn(\"category\")\\\n",
        "    .setInputCols(\"feature_vector\")\\\n",
        "    .setOutputCol(\"prediction\")\\\n",
        "    .setModelFile(f\"{graph_folder}/log_reg_graph.pb\")\\\n",
        "    .setEpochsNumber(45)\\\n",
        "    .setBatchSize(32)\\\n",
        "    .setLearningRate(0.02)\\\n",
        "    .setOutputLogsPath(log_folder)\\\n",
        "    .setDropout(0.1)\\\n",
        "    .setFixImbalance(True)\\\n",
        "    # .setValidationSplit(0.1)\n",
        "\n",
        "clf_Pipeline = nlp.Pipeline(stages=[\n",
        "    features_asm,\n",
        "    gc_logreg_graph_builder,\n",
        "    gen_clf])\n"
      ],
      "metadata": {
        "tags": [],
        "id": "EWrEoT2sXKrF",
        "trusted": true,
        "outputId": "d6b17c30-d9f2-453c-b7a3-a50587639a1c"
      },
      "execution_count": null,
      "outputs": [
        {
          "name": "stdout",
          "text": "\n",
          "output_type": "stream"
        }
      ]
    },
    {
      "cell_type": "code",
      "source": [
        "generic_model_hc100 = clf_Pipeline.fit(trainingData_with_embeddings)"
      ],
      "metadata": {
        "tags": [],
        "colab": {
          "base_uri": "https://localhost:8080/"
        },
        "id": "Bfkzw4n3XKrF",
        "outputId": "24966547-12f9-4876-c67a-82680117cded",
        "trusted": true
      },
      "execution_count": null,
      "outputs": [
        {
          "name": "stdout",
          "text": "TF Graph Builder configuration:\nModel name: logreg_classifier\nGraph folder: gc_graph\nGraph file name: log_reg_graph.pb\nBuild params: {'input_dim': 100, 'output_dim': 4, 'hidden_layers': [], 'output_act': 'sigmoid'}\nlogreg_classifier graph exported to gc_graph/log_reg_graph.pb\n",
          "output_type": "stream"
        }
      ]
    },
    {
      "cell_type": "code",
      "source": [
        "pred_df = generic_model_hc100.transform(testData_with_embeddings)"
      ],
      "metadata": {
        "tags": [],
        "id": "FAP8vtiUXKrG",
        "trusted": true,
        "outputId": "f96eb23d-0a35-4e13-988f-12e4adc4f60d"
      },
      "execution_count": null,
      "outputs": [
        {
          "name": "stdout",
          "text": "\n",
          "output_type": "stream"
        }
      ]
    },
    {
      "cell_type": "code",
      "source": [
        "preds_df = pred_df.select('category','prediction.result').toPandas()\n",
        "preds_df['result'] = preds_df.result.apply(lambda x : x[0])\n",
        "\n",
        "print (classification_report(preds_df['category'], preds_df['result']))"
      ],
      "metadata": {
        "tags": [],
        "colab": {
          "base_uri": "https://localhost:8080/"
        },
        "id": "caRWCdadXKrG",
        "outputId": "5e120130-318b-4f2e-f0e9-e3a07a1c3437",
        "trusted": true
      },
      "execution_count": null,
      "outputs": [
        {
          "name": "stdout",
          "text": "                  precision    recall  f1-score   support\n\nGastroenterology       0.91      0.84      0.87        25\n       Neurology       0.81      0.77      0.79        22\n      Orthopedic       0.84      0.91      0.88        35\n         Urology       0.85      0.85      0.85        20\n\n        accuracy                           0.85       102\n       macro avg       0.85      0.84      0.85       102\n    weighted avg       0.85      0.85      0.85       102\n",
          "output_type": "stream"
        }
      ]
    },
    {
      "cell_type": "code",
      "source": [
        "res = classification_report(preds_df[\"category\"], preds_df[\"result\"], output_dict=True)\n",
        "results_df.loc[\"GenericLogReg_100d\"] = [res[\"macro avg\"][\"f1-score\"], res[\"weighted avg\"][\"f1-score\"], res[\"accuracy\"]]"
      ],
      "metadata": {
        "tags": [],
        "id": "1rjuM4rnFO9x",
        "trusted": true,
        "outputId": "082d57f3-5af7-4316-81f8-1b9b72b09140"
      },
      "execution_count": null,
      "outputs": [
        {
          "name": "stdout",
          "text": "\n",
          "output_type": "stream"
        }
      ]
    },
    {
      "cell_type": "markdown",
      "source": [
        "### GenericSVMClassifier"
      ],
      "metadata": {
        "id": "wNNMzT-XXYmA"
      }
    },
    {
      "cell_type": "code",
      "source": [
        "graph_folder = \"gc_graph\"\n",
        "\n",
        "gc_svm_graph_builder = medical.TFGraphBuilder()\\\n",
        "    .setModelName(\"svm_classifier\")\\\n",
        "    .setInputCols([\"feature_vector\"]) \\\n",
        "    .setLabelColumn(\"category\")\\\n",
        "    .setGraphFolder(graph_folder)\\\n",
        "    .setGraphFile(\"svm_graph.pb\")"
      ],
      "metadata": {
        "tags": [],
        "id": "M7ludWh3XYmB",
        "trusted": true,
        "outputId": "36c2a635-630e-4cfc-8aab-d715ee8ba173"
      },
      "execution_count": null,
      "outputs": [
        {
          "name": "stdout",
          "text": "\n",
          "output_type": "stream"
        }
      ]
    },
    {
      "cell_type": "markdown",
      "source": [
        "GenericSVMClassifier needs outputs from FeaturesAssembler. The FeaturesAssembler is used to collect features from different columns or an embeddings column.\n",
        "\n",
        "The GenericSVMClassifier takes FEATURE_VECTOR annotations as input, classifies them and outputs CATEGORY annotations."
      ],
      "metadata": {
        "id": "pLqqH3HOXYmB"
      }
    },
    {
      "cell_type": "code",
      "source": [
        "features_asm = medical.FeaturesAssembler()\\\n",
        "    .setInputCols([\"sentence_embeddings\"])\\\n",
        "    .setOutputCol(\"feature_vector\")\n",
        "\n",
        "gen_clf = medical.GenericSVMClassifierApproach()\\\n",
        "    .setLabelColumn(\"category\")\\\n",
        "    .setInputCols(\"feature_vector\")\\\n",
        "    .setOutputCol(\"prediction\")\\\n",
        "    .setModelFile(f\"{graph_folder}/svm_graph.pb\")\\\n",
        "    .setEpochsNumber(45)\\\n",
        "    .setBatchSize(32)\\\n",
        "    .setLearningRate(0.02)\\\n",
        "    .setOutputLogsPath(log_folder)\\\n",
        "    .setDropout(0.1)\\\n",
        "    .setFixImbalance(True)\\\n",
        "    # .setValidationSplit(0.1)\n",
        "\n",
        "clf_Pipeline = nlp.Pipeline(stages=[\n",
        "    features_asm,\n",
        "    gc_svm_graph_builder,\n",
        "    gen_clf])\n"
      ],
      "metadata": {
        "tags": [],
        "id": "jNZAxL3iXYmB",
        "trusted": true,
        "outputId": "0402c07d-f460-4eba-8751-a6db57556520"
      },
      "execution_count": null,
      "outputs": [
        {
          "name": "stdout",
          "text": "\n",
          "output_type": "stream"
        }
      ]
    },
    {
      "cell_type": "code",
      "source": [
        "generic_model_hc100 = clf_Pipeline.fit(trainingData_with_embeddings)"
      ],
      "metadata": {
        "tags": [],
        "colab": {
          "base_uri": "https://localhost:8080/"
        },
        "id": "FOpLj7MbXYmB",
        "outputId": "dc718d4f-2519-477b-8ee9-c603ab6c67fb",
        "trusted": true
      },
      "execution_count": null,
      "outputs": [
        {
          "name": "stdout",
          "text": "TF Graph Builder configuration:\nModel name: svm_classifier\nGraph folder: gc_graph\nGraph file name: svm_graph.pb\nBuild params: {'input_dim': 100, 'output_dim': 4, 'hidden_layers': [], 'output_act': 'sigmoid', 'loss_func': 'hinge'}\nsvm_classifier graph exported to gc_graph/svm_graph.pb\n",
          "output_type": "stream"
        }
      ]
    },
    {
      "cell_type": "code",
      "source": [
        "pred_df = generic_model_hc100.transform(testData_with_embeddings)"
      ],
      "metadata": {
        "tags": [],
        "id": "pN0Ts7VqXYmC",
        "trusted": true,
        "outputId": "2e50f536-e597-4fd5-9bcf-c6e198487267"
      },
      "execution_count": null,
      "outputs": [
        {
          "name": "stdout",
          "text": "\n",
          "output_type": "stream"
        }
      ]
    },
    {
      "cell_type": "code",
      "source": [
        "preds_df = pred_df.select('category','prediction.result').toPandas()\n",
        "preds_df['result'] = preds_df.result.apply(lambda x : x[0])\n",
        "\n",
        "print (classification_report(preds_df['category'], preds_df['result']))"
      ],
      "metadata": {
        "tags": [],
        "colab": {
          "base_uri": "https://localhost:8080/"
        },
        "id": "KRFJdGyEXYmC",
        "outputId": "9430c9e3-8d28-49c7-9f45-f2ad01daaff6",
        "trusted": true
      },
      "execution_count": null,
      "outputs": [
        {
          "name": "stdout",
          "text": "                  precision    recall  f1-score   support\n\nGastroenterology       0.92      0.88      0.90        25\n       Neurology       0.81      0.77      0.79        22\n      Orthopedic       0.86      0.91      0.89        35\n         Urology       0.85      0.85      0.85        20\n\n        accuracy                           0.86       102\n       macro avg       0.86      0.85      0.86       102\n    weighted avg       0.86      0.86      0.86       102\n",
          "output_type": "stream"
        }
      ]
    },
    {
      "cell_type": "code",
      "source": [
        "res = classification_report(preds_df[\"category\"], preds_df[\"result\"], output_dict=True)\n",
        "results_df.loc[\"GenericSVM_100d\"] = [res[\"macro avg\"][\"f1-score\"], res[\"weighted avg\"][\"f1-score\"], res[\"accuracy\"]]"
      ],
      "metadata": {
        "tags": [],
        "id": "-Ax6lC2rGMpS",
        "trusted": true,
        "outputId": "6fffb93d-3865-4b8e-f305-64d1908fd696"
      },
      "execution_count": null,
      "outputs": [
        {
          "name": "stdout",
          "text": "\n",
          "output_type": "stream"
        }
      ]
    },
    {
      "cell_type": "markdown",
      "source": [
        "## 200 Dimension Healthcare Embeddings (embeddings_clinical)\n",
        "\n"
      ],
      "metadata": {
        "id": "kF60nUsj9oaE"
      }
    },
    {
      "cell_type": "markdown",
      "source": [
        "Now we will extract [embeddings_clinical](https://nlp.johnsnowlabs.com/2020/01/28/embeddings_clinical_en.html) embeddings which has 200 dimension output and use this embeddings in the model training."
      ],
      "metadata": {
        "id": "fBJMu9pr9oaE"
      }
    },
    {
      "cell_type": "code",
      "source": [
        "document_assembler = nlp.DocumentAssembler()\\\n",
        "        .setInputCol(\"text\")\\\n",
        "        .setOutputCol(\"document\")\n",
        "\n",
        "tokenizer = nlp.Tokenizer() \\\n",
        "            .setInputCols([\"document\"]) \\\n",
        "            .setOutputCol(\"token\")\n",
        "\n",
        "word_embeddings = nlp.WordEmbeddingsModel.pretrained(\"embeddings_clinical\",\"en\",\"clinical/models\")\\\n",
        "        .setInputCols([\"document\",\"token\"])\\\n",
        "        .setOutputCol(\"word_embeddings\")\n",
        "\n",
        "sentence_embeddings = nlp.SentenceEmbeddings() \\\n",
        "        .setInputCols([\"document\", \"word_embeddings\"]) \\\n",
        "        .setOutputCol(\"sentence_embeddings\") \\\n",
        "        .setPoolingStrategy(\"AVERAGE\")\n",
        "\n",
        "embeddings_pipeline = nlp.Pipeline(\n",
        "    stages = [\n",
        "        document_assembler,\n",
        "        tokenizer,\n",
        "        word_embeddings,\n",
        "        sentence_embeddings,\n",
        "    ])"
      ],
      "metadata": {
        "tags": [],
        "colab": {
          "base_uri": "https://localhost:8080/"
        },
        "id": "PzSG35rb9oaE",
        "outputId": "ac08377d-b622-4f10-c1f4-d68da0d0f121",
        "trusted": true
      },
      "execution_count": null,
      "outputs": [
        {
          "name": "stdout",
          "text": "embeddings_clinical download started this may take some time.\nApproximate size to download 1.6 GB\n[OK!]\n",
          "output_type": "stream"
        }
      ]
    },
    {
      "cell_type": "code",
      "source": [
        "trainingData_with_embeddings = embeddings_pipeline.fit(trainingData).transform(trainingData)\\\n",
        "                                                  .select(\"text\",\"category\",\"sentence_embeddings\")\n",
        "trainingData_with_embeddings.show(2,truncate=60)"
      ],
      "metadata": {
        "tags": [],
        "colab": {
          "base_uri": "https://localhost:8080/"
        },
        "id": "MXN8Cqyp9oaF",
        "outputId": "bb39fa43-0796-4361-a660-d91e645b3f36",
        "trusted": true
      },
      "execution_count": null,
      "outputs": [
        {
          "name": "stdout",
          "text": "+------------------------------------------------------------+----------------+------------------------------------------------------------+\n|                                                        text|        category|                                         sentence_embeddings|\n+------------------------------------------------------------+----------------+------------------------------------------------------------+\n| ADMISSION DIAGNOSIS: Symptomatic cholelithiasis. DISCHAR...|Gastroenterology|[{sentence_embeddings, 0, 2228,  ADMISSION DIAGNOSIS: Sym...|\n| ADMITTING DIAGNOSES: Hiatal hernia, gastroesophageal ref...|Gastroenterology|[{sentence_embeddings, 0, 3237,  ADMITTING DIAGNOSES: Hia...|\n+------------------------------------------------------------+----------------+------------------------------------------------------------+\nonly showing top 2 rows\n",
          "output_type": "stream"
        }
      ]
    },
    {
      "cell_type": "code",
      "source": [
        "testData_with_embeddings = embeddings_pipeline.fit(testData).transform(testData)\\\n",
        "                                                  .select(\"text\",\"category\",\"sentence_embeddings\")\n",
        "testData_with_embeddings.show(2,truncate=60)"
      ],
      "metadata": {
        "tags": [],
        "colab": {
          "base_uri": "https://localhost:8080/"
        },
        "id": "fpBY0D_y9oaF",
        "outputId": "071fc521-d782-4d41-cf54-e6befcd4d369",
        "trusted": true
      },
      "execution_count": null,
      "outputs": [
        {
          "name": "stdout",
          "text": "+------------------------------------------------------------+----------------+------------------------------------------------------------+\n|                                                        text|        category|                                         sentence_embeddings|\n+------------------------------------------------------------+----------------+------------------------------------------------------------+\n| ADMITTING DIAGNOSIS: Gastrointestinal bleed. HISTORY OF ...|Gastroenterology|[{sentence_embeddings, 0, 3978,  ADMITTING DIAGNOSIS: Gas...|\n| CHIEF COMPLAINT: Dysphagia and hematemesis while vomitin...|Gastroenterology|[{sentence_embeddings, 0, 6515,  CHIEF COMPLAINT: Dysphag...|\n+------------------------------------------------------------+----------------+------------------------------------------------------------+\nonly showing top 2 rows\n",
          "output_type": "stream"
        }
      ]
    },
    {
      "cell_type": "code",
      "source": [
        "log_folder=\"Mt_logs_healthcare_200d\""
      ],
      "metadata": {
        "tags": [],
        "id": "GGIXfOlX9oaF",
        "trusted": true,
        "outputId": "31cb0e99-6955-416c-93f2-7cc489bc7c1b"
      },
      "execution_count": null,
      "outputs": [
        {
          "name": "stdout",
          "text": "\n",
          "output_type": "stream"
        }
      ]
    },
    {
      "cell_type": "markdown",
      "source": [
        "### ClassifierDL"
      ],
      "metadata": {
        "id": "5W6ac3UP9oaF"
      }
    },
    {
      "cell_type": "code",
      "source": [
        "classifier_dl = nlp.ClassifierDLApproach()\\\n",
        "        .setInputCols([\"sentence_embeddings\"])\\\n",
        "        .setOutputCol(\"class\")\\\n",
        "        .setLabelColumn(\"category\")\\\n",
        "        .setBatchSize(8)\\\n",
        "        .setMaxEpochs(50)\\\n",
        "        .setLr(0.005)\\\n",
        "        .setDropout(0.1)\\\n",
        "        .setEnableOutputLogs(True)\\\n",
        "        .setOutputLogsPath(log_folder)\n",
        "\n",
        "classifier_dl_pipeline = nlp.Pipeline(stages=[classifier_dl])"
      ],
      "metadata": {
        "tags": [],
        "id": "2z7EgX-q9oaF",
        "trusted": true,
        "outputId": "3afb6a69-6742-4c8d-8c39-16b7ce95f9ba"
      },
      "execution_count": null,
      "outputs": [
        {
          "name": "stdout",
          "text": "\n",
          "output_type": "stream"
        }
      ]
    },
    {
      "cell_type": "code",
      "source": [
        "clfDL_model_hc200 = classifier_dl_pipeline.fit(trainingData_with_embeddings)"
      ],
      "metadata": {
        "tags": [],
        "id": "U0mSiCzC9oaF",
        "trusted": true,
        "outputId": "12098447-87fe-4236-a5dd-52fdb8f93733"
      },
      "execution_count": null,
      "outputs": [
        {
          "name": "stdout",
          "text": "\n",
          "output_type": "stream"
        }
      ]
    },
    {
      "cell_type": "code",
      "source": [
        "preds = clfDL_model_hc200.transform(testData_with_embeddings)\n",
        "\n",
        "preds_df = preds.select(\"category\",\"text\",\"class.result\").toPandas()\n",
        "preds_df[\"result\"] = preds_df[\"result\"].apply(lambda x : x[0])\n",
        "\n",
        "print (classification_report(preds_df[\"category\"], preds_df[\"result\"]))"
      ],
      "metadata": {
        "tags": [],
        "colab": {
          "base_uri": "https://localhost:8080/"
        },
        "id": "boLjiAyP9oaF",
        "outputId": "a63a05cc-4dc8-47a9-d19e-701733d0b597",
        "trusted": true
      },
      "execution_count": null,
      "outputs": [
        {
          "name": "stdout",
          "text": "                  precision    recall  f1-score   support\n\nGastroenterology       0.79      0.76      0.78        25\n       Neurology       0.88      0.68      0.77        22\n      Orthopedic       0.86      0.91      0.89        35\n         Urology       0.62      0.75      0.68        20\n\n        accuracy                           0.79       102\n       macro avg       0.79      0.78      0.78       102\n    weighted avg       0.80      0.79      0.79       102\n",
          "output_type": "stream"
        }
      ]
    },
    {
      "cell_type": "code",
      "source": [
        "res = classification_report(preds_df[\"category\"], preds_df[\"result\"], output_dict=True)\n",
        "results_df.loc[\"ClassifierDL_200d\"] = [res[\"macro avg\"][\"f1-score\"], res[\"weighted avg\"][\"f1-score\"], res[\"accuracy\"]]"
      ],
      "metadata": {
        "tags": [],
        "id": "jHEd3YzlGaNA",
        "trusted": true,
        "outputId": "0c18446e-f685-4eb5-cb4d-49950a2ec97b"
      },
      "execution_count": null,
      "outputs": [
        {
          "name": "stdout",
          "text": "\n",
          "output_type": "stream"
        }
      ]
    },
    {
      "cell_type": "markdown",
      "source": [
        "### MultiClassifierDL\n",
        "\n"
      ],
      "metadata": {
        "id": "y_hWPzoj9oaG"
      }
    },
    {
      "cell_type": "code",
      "source": [
        "# MultiClassifierDL accepts list of strings as input label. So we convert label column to array type.\n",
        "trainingData_with_embeddings = trainingData_with_embeddings.withColumn(\"category_array\", F.array(F.col(\"category\")))\n",
        "testData_with_embeddings = testData_with_embeddings.withColumn(\"category_array\", F.array(F.col(\"category\")))"
      ],
      "metadata": {
        "tags": [],
        "id": "mcUXN0td9oaG",
        "trusted": true,
        "outputId": "82c345a5-6827-4c33-bcbe-b177d728e96c"
      },
      "execution_count": null,
      "outputs": [
        {
          "name": "stdout",
          "text": "\n",
          "output_type": "stream"
        }
      ]
    },
    {
      "cell_type": "code",
      "source": [
        "multiClassifier =nlp.MultiClassifierDLApproach()\\\n",
        "  .setInputCols(\"sentence_embeddings\")\\\n",
        "  .setOutputCol(\"prediction\")\\\n",
        "  .setLabelColumn(\"category_array\")\\\n",
        "  .setBatchSize(16)\\\n",
        "  .setMaxEpochs(20)\\\n",
        "  .setLr(9e-3)\\\n",
        "  .setThreshold(0.2)\\\n",
        "  .setShufflePerEpoch(False)\\\n",
        "  .setEnableOutputLogs(True)\\\n",
        "  .setOutputLogsPath(log_folder)\\\n",
        "#   .setValidationSplit(0.1)\n",
        "\n",
        "multiClassifier_pipeline = nlp.Pipeline(\n",
        "    stages = [\n",
        "        multiClassifier\n",
        "    ])"
      ],
      "metadata": {
        "tags": [],
        "id": "4YBVhvLL9oaG",
        "trusted": true,
        "outputId": "4e6516c8-b1bf-4e09-ae70-e02b737762b1"
      },
      "execution_count": null,
      "outputs": [
        {
          "name": "stdout",
          "text": "\n",
          "output_type": "stream"
        }
      ]
    },
    {
      "cell_type": "code",
      "source": [
        "multiClassifier_model_hc200 = multiClassifier_pipeline.fit(trainingData_with_embeddings)"
      ],
      "metadata": {
        "tags": [],
        "id": "ABetRCmn9oaG",
        "trusted": true,
        "outputId": "68791409-f74d-4dd6-8016-2650ec18cf66"
      },
      "execution_count": null,
      "outputs": [
        {
          "name": "stdout",
          "text": "\n",
          "output_type": "stream"
        }
      ]
    },
    {
      "cell_type": "code",
      "source": [
        "preds = multiClassifier_model_hc200.transform(testData_with_embeddings)"
      ],
      "metadata": {
        "tags": [],
        "id": "EdZbqqEk9oaG",
        "trusted": true,
        "outputId": "d04b392a-972a-4d10-e626-3015d8e3b483"
      },
      "execution_count": null,
      "outputs": [
        {
          "name": "stdout",
          "text": "\n",
          "output_type": "stream"
        }
      ]
    },
    {
      "cell_type": "code",
      "source": [
        "preds_df = preds.select(\"category\",\"text\",\"prediction.result\",\"prediction.metadata\").toPandas()\n",
        "preds_df.result.apply(lambda x: str(x) ).value_counts()"
      ],
      "metadata": {
        "tags": [],
        "colab": {
          "base_uri": "https://localhost:8080/"
        },
        "id": "lY4vVTH29oaG",
        "outputId": "85d17eb8-7e96-4ae8-cb79-348258ff22b8",
        "trusted": true
      },
      "execution_count": null,
      "outputs": [
        {
          "name": "stdout",
          "text": "['Orthopedic']                        32\n['Gastroenterology']                  21\n['Urology']                           19\n['Neurology']                         17\n['Neurology', 'Orthopedic']            6\n[]                                     2\n['Gastroenterology', 'Neurology']      1\n['Gastroenterology', 'Orthopedic']     1\n['Gastroenterology', 'Urology']        1\n['Neurology', 'Urology']               1\n['Urology', 'Orthopedic']              1\nName: result, dtype: int64\n",
          "output_type": "stream"
        }
      ]
    },
    {
      "cell_type": "code",
      "source": [
        "# We will get the highest score label as result. you can control the number of zero label results with setThreshold() in the training.\n",
        "preds_df[\"scores\"] = preds_df.metadata.apply(lambda x: {k:float(v) for k,v in x[0].items()} if len(x)>=1 else \"\")\n",
        "preds_df[\"result\"] = preds_df.scores.apply(lambda x: max(x, key=x.get) if len(x)>=1 else \"\")\n",
        "preds_df = preds_df[(preds_df[\"result\"]!=\"\")]\n",
        "preds_df[\"result\"].value_counts()"
      ],
      "metadata": {
        "tags": [],
        "colab": {
          "base_uri": "https://localhost:8080/"
        },
        "id": "DOKLfZR59oaH",
        "outputId": "51a744e4-3815-4592-ba4b-aae84c97496c",
        "trusted": true
      },
      "execution_count": null,
      "outputs": [
        {
          "name": "stdout",
          "text": "Orthopedic          37\nGastroenterology    23\nUrology             21\nNeurology           19\nName: result, dtype: int64\n",
          "output_type": "stream"
        }
      ]
    },
    {
      "cell_type": "code",
      "source": [
        "print (classification_report(preds_df[\"category\"], preds_df[\"result\"]))"
      ],
      "metadata": {
        "tags": [],
        "colab": {
          "base_uri": "https://localhost:8080/"
        },
        "id": "2E9ibEbQ9oaH",
        "outputId": "210fe143-723a-4c68-b836-512c1f69b51f",
        "trusted": true
      },
      "execution_count": null,
      "outputs": [
        {
          "name": "stdout",
          "text": "                  precision    recall  f1-score   support\n\nGastroenterology       0.91      0.88      0.89        24\n       Neurology       0.89      0.81      0.85        21\n      Orthopedic       0.89      0.94      0.92        35\n         Urology       0.86      0.90      0.88        20\n\n        accuracy                           0.89       100\n       macro avg       0.89      0.88      0.88       100\n    weighted avg       0.89      0.89      0.89       100\n",
          "output_type": "stream"
        }
      ]
    },
    {
      "cell_type": "code",
      "source": [
        "res = classification_report(preds_df[\"category\"], preds_df[\"result\"], output_dict=True)\n",
        "results_df.loc[\"MultiClassifierDL_200d\"] = [res[\"macro avg\"][\"f1-score\"], res[\"weighted avg\"][\"f1-score\"], res[\"accuracy\"]]"
      ],
      "metadata": {
        "tags": [],
        "id": "4k4DsJU6GjLS",
        "trusted": true,
        "outputId": "639de584-84aa-46e8-b5e7-0232f973433c"
      },
      "execution_count": null,
      "outputs": [
        {
          "name": "stdout",
          "text": "\n",
          "output_type": "stream"
        }
      ]
    },
    {
      "cell_type": "markdown",
      "source": [
        "### Generic Classifier"
      ],
      "metadata": {
        "id": "7gUOXo5W9oaH"
      }
    },
    {
      "cell_type": "code",
      "source": [
        "from sparknlp_jsl.annotator import TFGraphBuilder\n",
        "\n",
        "graph_folder = \"gc_graph\"\n",
        "\n",
        "gc_graph_builder =medical.TFGraphBuilder()\\\n",
        "    .setModelName(\"generic_classifier\")\\\n",
        "    .setInputCols([\"features\"])\\\n",
        "    .setLabelColumn(\"category\")\\\n",
        "    .setHiddenLayers([300,200, 50])\\\n",
        "    .setHiddenAct(\"tanh\")\\\n",
        "    .setHiddenActL2(True)\\\n",
        "    .setBatchNorm(True)\\\n",
        "    .setGraphFolder(graph_folder)\\\n",
        "    .setGraphFile(\"gcf_graph_200d.pb\")"
      ],
      "metadata": {
        "tags": [],
        "id": "sRkEeD1N9oaH",
        "trusted": true,
        "outputId": "fface552-5c50-4dd0-b0e7-0ab2be7eeba5"
      },
      "execution_count": null,
      "outputs": [
        {
          "name": "stdout",
          "text": "\n",
          "output_type": "stream"
        }
      ]
    },
    {
      "cell_type": "code",
      "source": [
        "features_asm =medical.FeaturesAssembler()\\\n",
        "    .setInputCols([\"sentence_embeddings\"])\\\n",
        "    .setOutputCol(\"features\")\n",
        "\n",
        "gen_clf =medical.GenericClassifierApproach()\\\n",
        "    .setLabelColumn(\"category\")\\\n",
        "    .setInputCols(\"features\")\\\n",
        "    .setOutputCol(\"prediction\")\\\n",
        "    .setModelFile(f\"{graph_folder}/gcf_graph_200d.pb\")\\\n",
        "    .setEpochsNumber(30)\\\n",
        "    .setBatchSize(32)\\\n",
        "    .setLearningRate(0.001)\\\n",
        "    .setOutputLogsPath(log_folder)\\\n",
        "    .setDropout(0.3)\\\n",
        "    .setFixImbalance(True)\\\n",
        "    # .setValidationSplit(0.1)\n",
        "\n",
        "clf_Pipeline = nlp.Pipeline(stages=[\n",
        "    features_asm,\n",
        "    gc_graph_builder,\n",
        "    gen_clf])\n"
      ],
      "metadata": {
        "tags": [],
        "id": "NhVTwRJP9oaH",
        "trusted": true,
        "outputId": "1e0cff8d-afdf-41ee-9000-d622b84fbb35"
      },
      "execution_count": null,
      "outputs": [
        {
          "name": "stdout",
          "text": "\n",
          "output_type": "stream"
        }
      ]
    },
    {
      "cell_type": "code",
      "source": [
        "generic_model_hc200 = clf_Pipeline.fit(trainingData_with_embeddings)"
      ],
      "metadata": {
        "tags": [],
        "colab": {
          "base_uri": "https://localhost:8080/"
        },
        "id": "98tT6yJQ9oaH",
        "outputId": "d65dd521-9b94-44a6-ede1-d794320eac23",
        "trusted": true
      },
      "execution_count": null,
      "outputs": [
        {
          "name": "stdout",
          "text": "TF Graph Builder configuration:\nModel name: generic_classifier\nGraph folder: gc_graph\nGraph file name: gcf_graph_200d.pb\nBuild params: {'input_dim': 200, 'output_dim': 4, 'hidden_layers': [300, 200, 50], 'hidden_act': 'tanh', 'hidden_act_l2': True, 'batch_norm': True}\ngeneric_classifier graph exported to gc_graph/gcf_graph_200d.pb\n",
          "output_type": "stream"
        }
      ]
    },
    {
      "cell_type": "code",
      "source": [
        "pred_df = generic_model_hc200.transform(testData_with_embeddings)\n",
        "\n",
        "preds_df = pred_df.select('category','prediction.result').toPandas()\n",
        "preds_df['result'] = preds_df.result.apply(lambda x : x[0])\n",
        "\n",
        "print (classification_report(preds_df['category'], preds_df['result']))"
      ],
      "metadata": {
        "tags": [],
        "colab": {
          "base_uri": "https://localhost:8080/"
        },
        "id": "hsId-8YF9oaI",
        "outputId": "f48e1b47-5fa5-4851-f348-d17b2ef74326",
        "trusted": true
      },
      "execution_count": null,
      "outputs": [
        {
          "name": "stdout",
          "text": "                  precision    recall  f1-score   support\n\nGastroenterology       1.00      0.80      0.89        25\n       Neurology       0.78      0.82      0.80        22\n      Orthopedic       0.94      0.86      0.90        35\n         Urology       0.74      1.00      0.85        20\n\n        accuracy                           0.86       102\n       macro avg       0.87      0.87      0.86       102\n    weighted avg       0.88      0.86      0.86       102\n",
          "output_type": "stream"
        }
      ]
    },
    {
      "cell_type": "code",
      "source": [
        "res = classification_report(preds_df[\"category\"], preds_df[\"result\"], output_dict=True)\n",
        "results_df.loc[\"GenericClassifier_200d\"] = [res[\"macro avg\"][\"f1-score\"], res[\"weighted avg\"][\"f1-score\"], res[\"accuracy\"]]"
      ],
      "metadata": {
        "tags": [],
        "id": "qKr5sAdiGoRJ",
        "trusted": true,
        "outputId": "af0ac537-e083-4748-9585-c3deedc3501f"
      },
      "execution_count": null,
      "outputs": [
        {
          "name": "stdout",
          "text": "\n",
          "output_type": "stream"
        }
      ]
    },
    {
      "cell_type": "markdown",
      "source": [
        "### GenericLogRegClassifier"
      ],
      "metadata": {
        "id": "yz9TOU2DXReN"
      }
    },
    {
      "cell_type": "code",
      "source": [
        "graph_folder = \"gc_graph\"\n",
        "\n",
        "gc_logreg_graph_builder = medical.TFGraphBuilder()\\\n",
        "    .setModelName(\"logreg_classifier\")\\\n",
        "    .setInputCols([\"feature_vector\"]) \\\n",
        "    .setLabelColumn(\"category\")\\\n",
        "    .setGraphFolder(graph_folder)\\\n",
        "    .setGraphFile(\"log_reg_graph.pb\")"
      ],
      "metadata": {
        "tags": [],
        "id": "w-_bSCH6XReN",
        "trusted": true,
        "outputId": "1cf24c13-86f1-4b9c-fa09-cf21b2535c9b"
      },
      "execution_count": null,
      "outputs": [
        {
          "name": "stdout",
          "text": "\n",
          "output_type": "stream"
        }
      ]
    },
    {
      "cell_type": "markdown",
      "source": [
        "GenericLogRegClassifier needs outputs from FeaturesAssembler. The FeaturesAssembler is used to collect features from different columns or an embeddings column.\n",
        "\n",
        "The GenericLogRegClassifier takes FEATURE_VECTOR annotations as input, classifies them and outputs CATEGORY annotations."
      ],
      "metadata": {
        "id": "e2JtY0P5XReN"
      }
    },
    {
      "cell_type": "code",
      "source": [
        "features_asm = medical.FeaturesAssembler()\\\n",
        "    .setInputCols([\"sentence_embeddings\"])\\\n",
        "    .setOutputCol(\"feature_vector\")\n",
        "\n",
        "gen_clf = medical.GenericLogRegClassifierApproach()\\\n",
        "    .setLabelColumn(\"category\")\\\n",
        "    .setInputCols(\"feature_vector\")\\\n",
        "    .setOutputCol(\"prediction\")\\\n",
        "    .setModelFile(f\"{graph_folder}/log_reg_graph.pb\")\\\n",
        "    .setEpochsNumber(45)\\\n",
        "    .setBatchSize(32)\\\n",
        "    .setLearningRate(0.02)\\\n",
        "    .setOutputLogsPath(log_folder)\\\n",
        "    .setDropout(0.1)\\\n",
        "    .setFixImbalance(True)\\\n",
        "    # .setValidationSplit(0.1)\n",
        "\n",
        "clf_Pipeline = nlp.Pipeline(stages=[\n",
        "    features_asm,\n",
        "    gc_logreg_graph_builder,\n",
        "    gen_clf])\n"
      ],
      "metadata": {
        "tags": [],
        "id": "baz581gzXReN",
        "trusted": true,
        "outputId": "66e68758-b0f6-4ddf-bad3-1259667514a8"
      },
      "execution_count": null,
      "outputs": [
        {
          "name": "stdout",
          "text": "\n",
          "output_type": "stream"
        }
      ]
    },
    {
      "cell_type": "code",
      "source": [
        "generic_model_hc200 = clf_Pipeline.fit(trainingData_with_embeddings)"
      ],
      "metadata": {
        "tags": [],
        "colab": {
          "base_uri": "https://localhost:8080/"
        },
        "id": "jVoRHwNmXReO",
        "outputId": "f58f3d08-997a-497d-ece9-f41ee180b58a",
        "trusted": true
      },
      "execution_count": null,
      "outputs": [
        {
          "name": "stdout",
          "text": "TF Graph Builder configuration:\nModel name: logreg_classifier\nGraph folder: gc_graph\nGraph file name: log_reg_graph.pb\nBuild params: {'input_dim': 200, 'output_dim': 4, 'hidden_layers': [], 'output_act': 'sigmoid'}\nlogreg_classifier graph exported to gc_graph/log_reg_graph.pb\n",
          "output_type": "stream"
        }
      ]
    },
    {
      "cell_type": "code",
      "source": [
        "pred_df = generic_model_hc200.transform(testData_with_embeddings)"
      ],
      "metadata": {
        "tags": [],
        "id": "uHg_HbimXReO",
        "trusted": true,
        "outputId": "fb37690f-d50b-42b4-9159-e6a1ec22ed1a"
      },
      "execution_count": null,
      "outputs": [
        {
          "name": "stdout",
          "text": "\n",
          "output_type": "stream"
        }
      ]
    },
    {
      "cell_type": "code",
      "source": [
        "preds_df = pred_df.select('category','prediction.result').toPandas()\n",
        "preds_df['result'] = preds_df.result.apply(lambda x : x[0])\n",
        "\n",
        "print (classification_report(preds_df['category'], preds_df['result']))"
      ],
      "metadata": {
        "tags": [],
        "colab": {
          "base_uri": "https://localhost:8080/"
        },
        "id": "NjByOpYPXReO",
        "outputId": "c363bdff-64f6-4d3c-93fe-9b3725eb0093",
        "trusted": true
      },
      "execution_count": null,
      "outputs": [
        {
          "name": "stdout",
          "text": "                  precision    recall  f1-score   support\n\nGastroenterology       0.84      0.84      0.84        25\n       Neurology       0.74      0.77      0.76        22\n      Orthopedic       0.88      0.86      0.87        35\n         Urology       0.80      0.80      0.80        20\n\n        accuracy                           0.82       102\n       macro avg       0.82      0.82      0.82       102\n    weighted avg       0.82      0.82      0.82       102\n",
          "output_type": "stream"
        }
      ]
    },
    {
      "cell_type": "code",
      "source": [
        "res = classification_report(preds_df[\"category\"], preds_df[\"result\"], output_dict=True)\n",
        "results_df.loc[\"GenericLogReg_200d\"] = [res[\"macro avg\"][\"f1-score\"], res[\"weighted avg\"][\"f1-score\"], res[\"accuracy\"]]"
      ],
      "metadata": {
        "tags": [],
        "id": "nOxbaJzfGwdP",
        "trusted": true,
        "outputId": "02745fe7-55ae-4b66-f1ec-4e6df221f434"
      },
      "execution_count": null,
      "outputs": [
        {
          "name": "stdout",
          "text": "\n",
          "output_type": "stream"
        }
      ]
    },
    {
      "cell_type": "markdown",
      "source": [
        "### GenericSVMClassifier"
      ],
      "metadata": {
        "id": "1lkESKp6XaCP"
      }
    },
    {
      "cell_type": "code",
      "source": [
        "graph_folder = \"gc_graph\"\n",
        "\n",
        "gc_svm_graph_builder = medical.TFGraphBuilder()\\\n",
        "    .setModelName(\"svm_classifier\")\\\n",
        "    .setInputCols([\"feature_vector\"]) \\\n",
        "    .setLabelColumn(\"category\")\\\n",
        "    .setGraphFolder(graph_folder)\\\n",
        "    .setGraphFile(\"svm_graph.pb\")"
      ],
      "metadata": {
        "tags": [],
        "id": "gs_iLR10XaCP",
        "trusted": true,
        "outputId": "bb01f418-54c9-4886-9d14-58ead2c8aaa8"
      },
      "execution_count": null,
      "outputs": [
        {
          "name": "stdout",
          "text": "\n",
          "output_type": "stream"
        }
      ]
    },
    {
      "cell_type": "markdown",
      "source": [
        "GenericSVMClassifier needs outputs from FeaturesAssembler. The FeaturesAssembler is used to collect features from different columns or an embeddings column.\n",
        "\n",
        "The GenericSVMClassifier takes FEATURE_VECTOR annotations as input, classifies them and outputs CATEGORY annotations."
      ],
      "metadata": {
        "id": "EMVMo7DKXaCP"
      }
    },
    {
      "cell_type": "code",
      "source": [
        "features_asm = medical.FeaturesAssembler()\\\n",
        "    .setInputCols([\"sentence_embeddings\"])\\\n",
        "    .setOutputCol(\"feature_vector\")\n",
        "\n",
        "gen_clf = medical.GenericSVMClassifierApproach()\\\n",
        "    .setLabelColumn(\"category\")\\\n",
        "    .setInputCols(\"feature_vector\")\\\n",
        "    .setOutputCol(\"prediction\")\\\n",
        "    .setModelFile(f\"{graph_folder}/svm_graph.pb\")\\\n",
        "    .setEpochsNumber(45)\\\n",
        "    .setBatchSize(32)\\\n",
        "    .setLearningRate(0.02)\\\n",
        "    .setOutputLogsPath(log_folder)\\\n",
        "    .setDropout(0.1)\\\n",
        "    .setFixImbalance(True)\\\n",
        "    # .setValidationSplit(0.1)\n",
        "\n",
        "clf_Pipeline = nlp.Pipeline(stages=[\n",
        "    features_asm,\n",
        "    gc_svm_graph_builder,\n",
        "    gen_clf])\n"
      ],
      "metadata": {
        "tags": [],
        "id": "QVu8zWtJXaCQ",
        "trusted": true,
        "outputId": "71424552-a985-4315-bdc1-ce385ce3fee5"
      },
      "execution_count": null,
      "outputs": [
        {
          "name": "stdout",
          "text": "\n",
          "output_type": "stream"
        }
      ]
    },
    {
      "cell_type": "code",
      "source": [
        "generic_model_hc200 = clf_Pipeline.fit(trainingData_with_embeddings)"
      ],
      "metadata": {
        "tags": [],
        "colab": {
          "base_uri": "https://localhost:8080/"
        },
        "id": "DPRquqVZXaCQ",
        "outputId": "b1c041ff-a33d-40ee-ecf8-dde47e50ae62",
        "trusted": true
      },
      "execution_count": null,
      "outputs": [
        {
          "name": "stdout",
          "text": "TF Graph Builder configuration:\nModel name: svm_classifier\nGraph folder: gc_graph\nGraph file name: svm_graph.pb\nBuild params: {'input_dim': 200, 'output_dim': 4, 'hidden_layers': [], 'output_act': 'sigmoid', 'loss_func': 'hinge'}\nsvm_classifier graph exported to gc_graph/svm_graph.pb\n",
          "output_type": "stream"
        }
      ]
    },
    {
      "cell_type": "code",
      "source": [
        "pred_df = generic_model_hc200.transform(testData_with_embeddings)"
      ],
      "metadata": {
        "tags": [],
        "id": "sgC_XhZJXaCQ",
        "trusted": true,
        "outputId": "dc58db45-eab1-4886-c388-8462ca5dc967"
      },
      "execution_count": null,
      "outputs": [
        {
          "name": "stdout",
          "text": "\n",
          "output_type": "stream"
        }
      ]
    },
    {
      "cell_type": "code",
      "source": [
        "preds_df = pred_df.select('category','prediction.result').toPandas()\n",
        "preds_df['result'] = preds_df.result.apply(lambda x : x[0])\n",
        "\n",
        "print (classification_report(preds_df['category'], preds_df['result']))"
      ],
      "metadata": {
        "tags": [],
        "colab": {
          "base_uri": "https://localhost:8080/"
        },
        "id": "05LprRjwXaCR",
        "outputId": "673c8341-a19b-4e8a-d415-a6248eebeb54",
        "trusted": true
      },
      "execution_count": null,
      "outputs": [
        {
          "name": "stdout",
          "text": "                  precision    recall  f1-score   support\n\nGastroenterology       0.91      0.84      0.87        25\n       Neurology       0.85      0.77      0.81        22\n      Orthopedic       0.89      0.91      0.90        35\n         Urology       0.78      0.90      0.84        20\n\n        accuracy                           0.86       102\n       macro avg       0.86      0.86      0.86       102\n    weighted avg       0.87      0.86      0.86       102\n",
          "output_type": "stream"
        }
      ]
    },
    {
      "cell_type": "code",
      "source": [
        "res = classification_report(preds_df[\"category\"], preds_df[\"result\"], output_dict=True)\n",
        "results_df.loc[\"GenericSVM_200d\"] = [res[\"macro avg\"][\"f1-score\"], res[\"weighted avg\"][\"f1-score\"], res[\"accuracy\"]]"
      ],
      "metadata": {
        "tags": [],
        "id": "Cy2dEm3JG-RV",
        "trusted": true,
        "outputId": "e27be982-f3e7-4c59-d6ff-b56d00fc3b89"
      },
      "execution_count": null,
      "outputs": [
        {
          "name": "stdout",
          "text": "\n",
          "output_type": "stream"
        }
      ]
    },
    {
      "cell_type": "markdown",
      "source": [
        "## Bert Sentence Embeddings (sbiobert_base_cased_mli)"
      ],
      "metadata": {
        "id": "2LqFI4dmW4Ep"
      }
    },
    {
      "cell_type": "markdown",
      "source": [
        "We will extract [sbiobert_base_cased_mli](https://nlp.johnsnowlabs.com/2020/11/27/sbiobert_base_cased_mli_en.html) embeddings which has 768 dimension output and use this embeddings in the model training."
      ],
      "metadata": {
        "id": "RcQPzSbOVOpn"
      }
    },
    {
      "cell_type": "code",
      "source": [
        "document_assembler = nlp.DocumentAssembler()\\\n",
        "    .setInputCol(\"text\")\\\n",
        "    .setOutputCol(\"document\")\n",
        "\n",
        "bert_sent = nlp.BertSentenceEmbeddings.pretrained(\"sbiobert_base_cased_mli\", 'en','clinical/models')\\\n",
        "    .setInputCols([\"document\"])\\\n",
        "    .setOutputCol(\"sentence_embeddings\")\n",
        "\n",
        "embeddings_pipeline = nlp.Pipeline(\n",
        "    stages = [document_assembler,\n",
        "              bert_sent])"
      ],
      "metadata": {
        "tags": [],
        "colab": {
          "base_uri": "https://localhost:8080/"
        },
        "id": "e7pupvygW4Eq",
        "outputId": "ab3a52f4-a821-4615-91a9-57cb8ded9a96",
        "trusted": true
      },
      "execution_count": null,
      "outputs": [
        {
          "name": "stdout",
          "text": "sbiobert_base_cased_mli download started this may take some time.\nApproximate size to download 384.3 MB\n[OK!]\n",
          "output_type": "stream"
        }
      ]
    },
    {
      "cell_type": "code",
      "source": [
        "trainingData_with_embeddings = embeddings_pipeline.fit(trainingData).transform(trainingData)\\\n",
        "                                                  .select(\"text\",\"category\",\"sentence_embeddings\")\n",
        "\n",
        "trainingData_with_embeddings.show(2,truncate=60)"
      ],
      "metadata": {
        "tags": [],
        "colab": {
          "base_uri": "https://localhost:8080/"
        },
        "id": "A-_AaTGCW4Eq",
        "outputId": "a364d752-01f9-43d6-cecb-849b59ae7b9f",
        "trusted": true
      },
      "execution_count": null,
      "outputs": [
        {
          "name": "stdout",
          "text": "+------------------------------------------------------------+----------------+------------------------------------------------------------+\n|                                                        text|        category|                                         sentence_embeddings|\n+------------------------------------------------------------+----------------+------------------------------------------------------------+\n| ADMISSION DIAGNOSIS: Symptomatic cholelithiasis. DISCHAR...|Gastroenterology|[{sentence_embeddings, 0, 2228,  ADMISSION DIAGNOSIS: Sym...|\n| ADMITTING DIAGNOSES: Hiatal hernia, gastroesophageal ref...|Gastroenterology|[{sentence_embeddings, 0, 3237,  ADMITTING DIAGNOSES: Hia...|\n+------------------------------------------------------------+----------------+------------------------------------------------------------+\nonly showing top 2 rows\n",
          "output_type": "stream"
        }
      ]
    },
    {
      "cell_type": "code",
      "source": [
        "testData_with_embeddings = embeddings_pipeline.fit(testData).transform(testData)\\\n",
        "                                                  .select(\"text\",\"category\",\"sentence_embeddings\")\n",
        "\n",
        "testData_with_embeddings.show(2,truncate=60)"
      ],
      "metadata": {
        "tags": [],
        "colab": {
          "base_uri": "https://localhost:8080/"
        },
        "id": "sGAKs2o0W4Eq",
        "outputId": "49ce6f39-fb77-422d-8713-682010efb16d",
        "trusted": true
      },
      "execution_count": null,
      "outputs": [
        {
          "name": "stdout",
          "text": "+------------------------------------------------------------+----------------+------------------------------------------------------------+\n|                                                        text|        category|                                         sentence_embeddings|\n+------------------------------------------------------------+----------------+------------------------------------------------------------+\n| ADMITTING DIAGNOSIS: Gastrointestinal bleed. HISTORY OF ...|Gastroenterology|[{sentence_embeddings, 0, 3978,  ADMITTING DIAGNOSIS: Gas...|\n| CHIEF COMPLAINT: Dysphagia and hematemesis while vomitin...|Gastroenterology|[{sentence_embeddings, 0, 6515,  CHIEF COMPLAINT: Dysphag...|\n+------------------------------------------------------------+----------------+------------------------------------------------------------+\nonly showing top 2 rows\n",
          "output_type": "stream"
        }
      ]
    },
    {
      "cell_type": "code",
      "source": [
        "log_folder=\"Mt_logs_bert\""
      ],
      "metadata": {
        "tags": [],
        "id": "WiR3GJpbW4Eq",
        "trusted": true,
        "outputId": "887ca7b8-0387-4af6-f8e8-a906534d50ff"
      },
      "execution_count": null,
      "outputs": [
        {
          "name": "stdout",
          "text": "\n",
          "output_type": "stream"
        }
      ]
    },
    {
      "cell_type": "markdown",
      "source": [
        "### ClassifierDL"
      ],
      "metadata": {
        "id": "NqYpg6-dW4Eq"
      }
    },
    {
      "cell_type": "code",
      "source": [
        "classifier_dl = nlp.ClassifierDLApproach()\\\n",
        "        .setInputCols([\"sentence_embeddings\"])\\\n",
        "        .setOutputCol(\"class\")\\\n",
        "        .setLabelColumn(\"category\")\\\n",
        "        .setBatchSize(8)\\\n",
        "        .setMaxEpochs(30)\\\n",
        "        .setLr(0.002)\\\n",
        "        .setDropout(0.1)\\\n",
        "        .setEnableOutputLogs(True)\\\n",
        "        .setOutputLogsPath(log_folder)\n",
        "\n",
        "classifier_dl_pipeline = nlp.Pipeline(stages=[classifier_dl])"
      ],
      "metadata": {
        "tags": [],
        "id": "vkb4PlGsW4Eq",
        "trusted": true,
        "outputId": "c04802ff-5d11-42ec-d988-e9df2e77b62c"
      },
      "execution_count": null,
      "outputs": [
        {
          "name": "stdout",
          "text": "\n",
          "output_type": "stream"
        }
      ]
    },
    {
      "cell_type": "code",
      "source": [
        "clfDL_model_bert = classifier_dl_pipeline.fit(trainingData_with_embeddings)"
      ],
      "metadata": {
        "tags": [],
        "id": "WG0-PJA2W4Eq",
        "trusted": true,
        "outputId": "03d365a8-062b-426f-87c7-ba3f3eb96562"
      },
      "execution_count": null,
      "outputs": [
        {
          "name": "stdout",
          "text": "\n",
          "output_type": "stream"
        }
      ]
    },
    {
      "cell_type": "code",
      "source": [
        "preds = clfDL_model_bert.transform(testData_with_embeddings)\n",
        "\n",
        "preds_df = preds.select(\"category\",\"text\",\"class.result\").toPandas()\n",
        "preds_df[\"result\"] = preds_df[\"result\"].apply(lambda x : x[0])\n",
        "\n",
        "print (classification_report(preds_df[\"category\"], preds_df[\"result\"]))"
      ],
      "metadata": {
        "tags": [],
        "colab": {
          "base_uri": "https://localhost:8080/"
        },
        "id": "B_29_8JBW4Eq",
        "outputId": "ae0049cd-d0d8-4aa4-acda-2823e25a398e",
        "trusted": true
      },
      "execution_count": null,
      "outputs": [
        {
          "name": "stdout",
          "text": "                  precision    recall  f1-score   support\n\nGastroenterology       0.96      0.88      0.92        25\n       Neurology       0.83      0.86      0.84        22\n      Orthopedic       0.88      0.86      0.87        35\n         Urology       0.86      0.95      0.90        20\n\n        accuracy                           0.88       102\n       macro avg       0.88      0.89      0.88       102\n    weighted avg       0.88      0.88      0.88       102\n",
          "output_type": "stream"
        }
      ]
    },
    {
      "cell_type": "code",
      "source": [
        "res = classification_report(preds_df[\"category\"], preds_df[\"result\"], output_dict=True)\n",
        "results_df.loc[\"ClassifierDL_bert\"] = [res[\"macro avg\"][\"f1-score\"], res[\"weighted avg\"][\"f1-score\"], res[\"accuracy\"]]"
      ],
      "metadata": {
        "tags": [],
        "id": "QROfiyWWHN7W",
        "trusted": true,
        "outputId": "e8c4e8d2-7b1d-4c8e-98b3-ab87701b405c"
      },
      "execution_count": null,
      "outputs": [
        {
          "name": "stdout",
          "text": "\n",
          "output_type": "stream"
        }
      ]
    },
    {
      "cell_type": "markdown",
      "source": [
        "### MultiClassifierDL"
      ],
      "metadata": {
        "id": "0Fw49226W4Er"
      }
    },
    {
      "cell_type": "code",
      "source": [
        "# MultiClassifierDL accepts list of strings as input label. So we convert label column to array type.\n",
        "trainingData_with_embeddings = trainingData_with_embeddings.withColumn(\"category_array\", F.array(F.col(\"category\")))\n",
        "testData_with_embeddings = testData_with_embeddings.withColumn(\"category_array\", F.array(F.col(\"category\")))"
      ],
      "metadata": {
        "tags": [],
        "id": "Co9lWcRxW4Er",
        "trusted": true,
        "outputId": "0713a37b-ab5b-42b2-8b9c-5f50afaa1045"
      },
      "execution_count": null,
      "outputs": [
        {
          "name": "stdout",
          "text": "\n",
          "output_type": "stream"
        }
      ]
    },
    {
      "cell_type": "code",
      "source": [
        "multiClassifier =nlp.MultiClassifierDLApproach()\\\n",
        "  .setInputCols(\"sentence_embeddings\")\\\n",
        "  .setOutputCol(\"prediction\")\\\n",
        "  .setLabelColumn(\"category_array\")\\\n",
        "  .setBatchSize(8)\\\n",
        "  .setMaxEpochs(20)\\\n",
        "  .setLr(9e-3)\\\n",
        "  .setThreshold(0.5)\\\n",
        "  .setShufflePerEpoch(False)\\\n",
        "  .setEnableOutputLogs(True)\\\n",
        "  .setOutputLogsPath(log_folder)\\\n",
        "#   .setValidationSplit(0.1)\n",
        "\n",
        "multiClassifier_pipeline = nlp.Pipeline(\n",
        "    stages = [\n",
        "        multiClassifier\n",
        "    ])"
      ],
      "metadata": {
        "tags": [],
        "id": "5itVNwSWW4Er",
        "trusted": true,
        "outputId": "a8e04070-57c1-46ae-fc2f-323726a969c7"
      },
      "execution_count": null,
      "outputs": [
        {
          "name": "stdout",
          "text": "\n",
          "output_type": "stream"
        }
      ]
    },
    {
      "cell_type": "code",
      "source": [
        "multiClassifier_model_bert = multiClassifier_pipeline.fit(trainingData_with_embeddings)"
      ],
      "metadata": {
        "tags": [],
        "id": "Y2p8qfzeW4Er",
        "trusted": true,
        "outputId": "6e058595-a156-46b3-91ac-b091396f5bbc"
      },
      "execution_count": null,
      "outputs": [
        {
          "name": "stdout",
          "text": "\n",
          "output_type": "stream"
        }
      ]
    },
    {
      "cell_type": "code",
      "source": [
        "preds = multiClassifier_model_bert.transform(testData_with_embeddings)"
      ],
      "metadata": {
        "tags": [],
        "id": "j812VMg5W4Er",
        "trusted": true,
        "outputId": "60a2bfb3-05d6-479a-cfd1-035ecde2aa3f"
      },
      "execution_count": null,
      "outputs": [
        {
          "name": "stdout",
          "text": "\n",
          "output_type": "stream"
        }
      ]
    },
    {
      "cell_type": "code",
      "source": [
        "preds_df = preds.select(\"category\",\"text\",\"prediction.result\",\"prediction.metadata\").toPandas()\n",
        "preds_df.result.apply(lambda x: str(x) ).value_counts()"
      ],
      "metadata": {
        "tags": [],
        "colab": {
          "base_uri": "https://localhost:8080/"
        },
        "id": "Ero8R_rhW4Er",
        "outputId": "13759867-dd7e-465a-e17d-ab6579a4ef5b",
        "trusted": true
      },
      "execution_count": null,
      "outputs": [
        {
          "name": "stdout",
          "text": "['Orthopedic']                 34\n['Gastroenterology']           23\n['Urology']                    20\n['Neurology']                  18\n[]                              5\n['Neurology', 'Orthopedic']     2\nName: result, dtype: int64\n",
          "output_type": "stream"
        }
      ]
    },
    {
      "cell_type": "code",
      "source": [
        "# We will get the highest score label as result. You can control the number of zero label results with setThreshold() in the training.\n",
        "preds_df[\"scores\"] = preds_df.metadata.apply(lambda x: {k:float(v) for k,v in x[0].items()} if len(x)>=1 else \"\")\n",
        "preds_df[\"result\"] = preds_df.scores.apply(lambda x: max(x, key=x.get) if len(x)>=1 else \"\")\n",
        "preds_df = preds_df[(preds_df[\"result\"]!=\"\")]\n",
        "preds_df[\"result\"].value_counts()"
      ],
      "metadata": {
        "tags": [],
        "colab": {
          "base_uri": "https://localhost:8080/"
        },
        "id": "eIr0FA55W4Er",
        "outputId": "2789d4be-431a-4006-a89d-af8b6cb8651b",
        "trusted": true
      },
      "execution_count": null,
      "outputs": [
        {
          "name": "stdout",
          "text": "Orthopedic          36\nGastroenterology    23\nUrology             20\nNeurology           18\nName: result, dtype: int64\n",
          "output_type": "stream"
        }
      ]
    },
    {
      "cell_type": "code",
      "source": [
        "print (classification_report(preds_df[\"category\"], preds_df[\"result\"]))"
      ],
      "metadata": {
        "tags": [],
        "colab": {
          "base_uri": "https://localhost:8080/"
        },
        "id": "m9BKG5kHW4Es",
        "outputId": "cb69631e-0f77-4c71-a6b3-f25a2a08962d",
        "trusted": true
      },
      "execution_count": null,
      "outputs": [
        {
          "name": "stdout",
          "text": "                  precision    recall  f1-score   support\n\nGastroenterology       1.00      0.92      0.96        25\n       Neurology       0.89      0.76      0.82        21\n      Orthopedic       0.86      0.91      0.89        34\n         Urology       0.85      1.00      0.92        17\n\n        accuracy                           0.90        97\n       macro avg       0.90      0.90      0.90        97\n    weighted avg       0.90      0.90      0.90        97\n",
          "output_type": "stream"
        }
      ]
    },
    {
      "cell_type": "code",
      "source": [
        "res = classification_report(preds_df[\"category\"], preds_df[\"result\"], output_dict=True)\n",
        "results_df.loc[\"MultiClassifierDL_bert\"] = [res[\"macro avg\"][\"f1-score\"], res[\"weighted avg\"][\"f1-score\"], res[\"accuracy\"]]"
      ],
      "metadata": {
        "tags": [],
        "id": "IrZVc3mhHdJg",
        "trusted": true,
        "outputId": "70b36a0f-830e-4ee4-8858-13acf5bae125"
      },
      "execution_count": null,
      "outputs": [
        {
          "name": "stdout",
          "text": "\n",
          "output_type": "stream"
        }
      ]
    },
    {
      "cell_type": "markdown",
      "source": [
        "### Generic Classifier"
      ],
      "metadata": {
        "id": "hhNpyXkeW4Es"
      }
    },
    {
      "cell_type": "code",
      "source": [
        "from sparknlp_jsl.annotator import TFGraphBuilder\n",
        "\n",
        "graph_folder = \"gc_graph\"\n",
        "\n",
        "gc_graph_builder =medical.TFGraphBuilder()\\\n",
        "    .setModelName(\"generic_classifier\")\\\n",
        "    .setInputCols([\"features\"])\\\n",
        "    .setLabelColumn(\"category\")\\\n",
        "    .setHiddenLayers([300,200, 50])\\\n",
        "    .setHiddenAct(\"tanh\")\\\n",
        "    .setHiddenActL2(True)\\\n",
        "    .setBatchNorm(True)\\\n",
        "    .setGraphFolder(graph_folder)\\\n",
        "    .setGraphFile(\"gcf_graph_bert.pb\")"
      ],
      "metadata": {
        "tags": [],
        "id": "a0pS3YdEW4Es",
        "trusted": true,
        "outputId": "9f0284d7-d900-47fd-9b1a-2503fb308170"
      },
      "execution_count": null,
      "outputs": [
        {
          "name": "stdout",
          "text": "\n",
          "output_type": "stream"
        }
      ]
    },
    {
      "cell_type": "code",
      "source": [
        "features_asm =medical.FeaturesAssembler()\\\n",
        "    .setInputCols([\"sentence_embeddings\"])\\\n",
        "    .setOutputCol(\"features\")\n",
        "\n",
        "gen_clf =medical.GenericClassifierApproach()\\\n",
        "    .setLabelColumn(\"category\")\\\n",
        "    .setInputCols(\"features\")\\\n",
        "    .setOutputCol(\"prediction\")\\\n",
        "    .setModelFile(f\"{graph_folder}/gcf_graph_bert.pb\")\\\n",
        "    .setEpochsNumber(25)\\\n",
        "    .setBatchSize(16)\\\n",
        "    .setLearningRate(0.002)\\\n",
        "    .setOutputLogsPath(log_folder)\\\n",
        "    .setDropout(0.2)\\\n",
        "    .setFixImbalance(True)\\\n",
        "    # .setValidationSplit(0.1)\n",
        "\n",
        "clf_Pipeline = nlp.Pipeline(stages=[\n",
        "    features_asm,\n",
        "    gc_graph_builder,\n",
        "    gen_clf])\n"
      ],
      "metadata": {
        "tags": [],
        "id": "aBuFW-1iW4Es",
        "trusted": true,
        "outputId": "38ecc3ea-03c1-440e-c628-7a8f8093006b"
      },
      "execution_count": null,
      "outputs": [
        {
          "name": "stdout",
          "text": "\n",
          "output_type": "stream"
        }
      ]
    },
    {
      "cell_type": "code",
      "source": [
        "generic_model_bert = clf_Pipeline.fit(trainingData_with_embeddings)"
      ],
      "metadata": {
        "tags": [],
        "colab": {
          "base_uri": "https://localhost:8080/"
        },
        "id": "Xpi8bsOAW4Es",
        "outputId": "3c5324ce-4aca-4e02-e5e1-143b868fabb2",
        "trusted": true
      },
      "execution_count": null,
      "outputs": [
        {
          "name": "stdout",
          "text": "TF Graph Builder configuration:\nModel name: generic_classifier\nGraph folder: gc_graph\nGraph file name: gcf_graph_bert.pb\nBuild params: {'input_dim': 768, 'output_dim': 4, 'hidden_layers': [300, 200, 50], 'hidden_act': 'tanh', 'hidden_act_l2': True, 'batch_norm': True}\ngeneric_classifier graph exported to gc_graph/gcf_graph_bert.pb\n",
          "output_type": "stream"
        }
      ]
    },
    {
      "cell_type": "code",
      "source": [
        "pred_df = generic_model_bert.transform(testData_with_embeddings)\n",
        "\n",
        "preds_df = pred_df.select('category','prediction.result').toPandas()\n",
        "preds_df['result'] = preds_df.result.apply(lambda x : x[0])\n",
        "\n",
        "print (classification_report(preds_df['category'], preds_df['result']))"
      ],
      "metadata": {
        "tags": [],
        "colab": {
          "base_uri": "https://localhost:8080/"
        },
        "id": "5aw-VIEhW4Es",
        "outputId": "dcda2f9f-d53a-45dc-a77d-d92e8bd367a3",
        "trusted": true
      },
      "execution_count": null,
      "outputs": [
        {
          "name": "stdout",
          "text": "                  precision    recall  f1-score   support\n\nGastroenterology       0.85      0.88      0.86        25\n       Neurology       0.65      0.91      0.75        22\n      Orthopedic       0.90      0.77      0.83        35\n         Urology       0.93      0.70      0.80        20\n\n        accuracy                           0.81       102\n       macro avg       0.83      0.82      0.81       102\n    weighted avg       0.84      0.81      0.82       102\n",
          "output_type": "stream"
        }
      ]
    },
    {
      "cell_type": "code",
      "source": [
        "res = classification_report(preds_df[\"category\"], preds_df[\"result\"], output_dict=True)\n",
        "results_df.loc[\"GenericClassifier_bert\"] = [res[\"macro avg\"][\"f1-score\"], res[\"weighted avg\"][\"f1-score\"], res[\"accuracy\"]]"
      ],
      "metadata": {
        "tags": [],
        "id": "RNCgQrtcHnAf",
        "trusted": true,
        "outputId": "4cba630e-fd20-4c55-d2d0-563c8c4576f4"
      },
      "execution_count": null,
      "outputs": [
        {
          "name": "stdout",
          "text": "\n",
          "output_type": "stream"
        }
      ]
    },
    {
      "cell_type": "markdown",
      "source": [
        "### GenericLogRegClassifier"
      ],
      "metadata": {
        "id": "5q09e4l9XPgU"
      }
    },
    {
      "cell_type": "code",
      "source": [
        "graph_folder = \"gc_graph\"\n",
        "\n",
        "gc_logreg_graph_builder = medical.TFGraphBuilder()\\\n",
        "    .setModelName(\"logreg_classifier\")\\\n",
        "    .setInputCols([\"feature_vector\"]) \\\n",
        "    .setLabelColumn(\"category\")\\\n",
        "    .setGraphFolder(graph_folder)\\\n",
        "    .setGraphFile(\"log_reg_graph.pb\")"
      ],
      "metadata": {
        "tags": [],
        "id": "Q9DQJEOfXPgV",
        "trusted": true,
        "outputId": "de287864-44b7-4112-c163-c1281ae14eb6"
      },
      "execution_count": null,
      "outputs": [
        {
          "name": "stdout",
          "text": "\n",
          "output_type": "stream"
        }
      ]
    },
    {
      "cell_type": "markdown",
      "source": [
        "GenericLogRegClassifier needs outputs from FeaturesAssembler. The FeaturesAssembler is used to collect features from different columns or an embeddings column.\n",
        "\n",
        "The GenericLogRegClassifier takes FEATURE_VECTOR annotations as input, classifies them and outputs CATEGORY annotations."
      ],
      "metadata": {
        "id": "DeC8XjkcXPgV"
      }
    },
    {
      "cell_type": "code",
      "source": [
        "features_asm = medical.FeaturesAssembler()\\\n",
        "    .setInputCols([\"sentence_embeddings\"])\\\n",
        "    .setOutputCol(\"feature_vector\")\n",
        "\n",
        "gen_clf = medical.GenericLogRegClassifierApproach()\\\n",
        "    .setLabelColumn(\"category\")\\\n",
        "    .setInputCols(\"feature_vector\")\\\n",
        "    .setOutputCol(\"prediction\")\\\n",
        "    .setModelFile(f\"{graph_folder}/log_reg_graph.pb\")\\\n",
        "    .setEpochsNumber(30)\\\n",
        "    .setBatchSize(64)\\\n",
        "    .setLearningRate(0.004)\\\n",
        "    .setOutputLogsPath(log_folder)\\\n",
        "    .setDropout(0.1)\\\n",
        "    .setFixImbalance(True)\\\n",
        "    # .setValidationSplit(0.1)\n",
        "\n",
        "clf_Pipeline = nlp.Pipeline(stages=[\n",
        "    features_asm,\n",
        "    gc_logreg_graph_builder,\n",
        "    gen_clf])\n"
      ],
      "metadata": {
        "tags": [],
        "id": "eEGJ7oHQXPgV",
        "trusted": true,
        "outputId": "18b06a12-b1c0-4431-89fb-471b879da9ea"
      },
      "execution_count": null,
      "outputs": [
        {
          "name": "stdout",
          "text": "\n",
          "output_type": "stream"
        }
      ]
    },
    {
      "cell_type": "code",
      "source": [
        "generic_model_bert = clf_Pipeline.fit(trainingData_with_embeddings)"
      ],
      "metadata": {
        "tags": [],
        "colab": {
          "base_uri": "https://localhost:8080/"
        },
        "id": "2mw3fPhtXPgV",
        "outputId": "069e5373-395b-4115-ac5c-d0dc97d9830d",
        "trusted": true
      },
      "execution_count": null,
      "outputs": [
        {
          "name": "stdout",
          "text": "TF Graph Builder configuration:\nModel name: logreg_classifier\nGraph folder: gc_graph\nGraph file name: log_reg_graph.pb\nBuild params: {'input_dim': 768, 'output_dim': 4, 'hidden_layers': [], 'output_act': 'sigmoid'}\nlogreg_classifier graph exported to gc_graph/log_reg_graph.pb\n",
          "output_type": "stream"
        }
      ]
    },
    {
      "cell_type": "code",
      "source": [
        "pred_df = generic_model_bert.transform(testData_with_embeddings)"
      ],
      "metadata": {
        "tags": [],
        "id": "h5Zqfx_WXPgV",
        "trusted": true,
        "outputId": "8dc31471-fd71-49fd-e678-3bf51864f86b"
      },
      "execution_count": null,
      "outputs": [
        {
          "name": "stdout",
          "text": "\n",
          "output_type": "stream"
        }
      ]
    },
    {
      "cell_type": "code",
      "source": [
        "preds_df = pred_df.select('category','prediction.result').toPandas()\n",
        "preds_df['result'] = preds_df.result.apply(lambda x : x[0])\n",
        "\n",
        "print (classification_report(preds_df['category'], preds_df['result']))"
      ],
      "metadata": {
        "tags": [],
        "colab": {
          "base_uri": "https://localhost:8080/"
        },
        "id": "gk6E1IuzXPgW",
        "outputId": "7814e17e-c53e-40dd-afe5-c17ccacda6d9",
        "trusted": true
      },
      "execution_count": null,
      "outputs": [
        {
          "name": "stdout",
          "text": "                  precision    recall  f1-score   support\n\nGastroenterology       0.96      0.92      0.94        25\n       Neurology       0.76      0.73      0.74        22\n      Orthopedic       0.86      0.86      0.86        35\n         Urology       0.82      0.90      0.86        20\n\n        accuracy                           0.85       102\n       macro avg       0.85      0.85      0.85       102\n    weighted avg       0.85      0.85      0.85       102\n",
          "output_type": "stream"
        }
      ]
    },
    {
      "cell_type": "code",
      "source": [
        "res = classification_report(preds_df[\"category\"], preds_df[\"result\"], output_dict=True)\n",
        "results_df.loc[\"GenericCLogReg_bert\"] = [res[\"macro avg\"][\"f1-score\"], res[\"weighted avg\"][\"f1-score\"], res[\"accuracy\"]]"
      ],
      "metadata": {
        "tags": [],
        "id": "QCBSJlcPIH2D",
        "trusted": true,
        "outputId": "37eb1f22-35eb-40f5-cb6b-3224ae49b2c4"
      },
      "execution_count": null,
      "outputs": [
        {
          "name": "stdout",
          "text": "\n",
          "output_type": "stream"
        }
      ]
    },
    {
      "cell_type": "markdown",
      "source": [
        "### GenericSVMClassifier"
      ],
      "metadata": {
        "id": "2Ninh1PfXbR1"
      }
    },
    {
      "cell_type": "code",
      "source": [
        "graph_folder = \"gc_graph\"\n",
        "\n",
        "gc_svm_graph_builder = medical.TFGraphBuilder()\\\n",
        "    .setModelName(\"svm_classifier\")\\\n",
        "    .setInputCols([\"feature_vector\"]) \\\n",
        "    .setLabelColumn(\"category\")\\\n",
        "    .setGraphFolder(graph_folder)\\\n",
        "    .setGraphFile(\"svm_graph.pb\")"
      ],
      "metadata": {
        "tags": [],
        "id": "-HiP42eZXbR1",
        "trusted": true,
        "outputId": "1e743827-f9d1-4ecc-c3ae-ef976544d041"
      },
      "execution_count": null,
      "outputs": [
        {
          "name": "stdout",
          "text": "\n",
          "output_type": "stream"
        }
      ]
    },
    {
      "cell_type": "markdown",
      "source": [
        "GenericSVMClassifier needs outputs from FeaturesAssembler. The FeaturesAssembler is used to collect features from different columns or an embeddings column.\n",
        "\n",
        "The GenericSVMClassifier takes FEATURE_VECTOR annotations as input, classifies them and outputs CATEGORY annotations."
      ],
      "metadata": {
        "id": "PgSWTx2_XbR1"
      }
    },
    {
      "cell_type": "code",
      "source": [
        "features_asm = medical.FeaturesAssembler()\\\n",
        "    .setInputCols([\"sentence_embeddings\"])\\\n",
        "    .setOutputCol(\"feature_vector\")\n",
        "\n",
        "gen_clf = medical.GenericSVMClassifierApproach()\\\n",
        "    .setLabelColumn(\"category\")\\\n",
        "    .setInputCols(\"feature_vector\")\\\n",
        "    .setOutputCol(\"prediction\")\\\n",
        "    .setModelFile(f\"{graph_folder}/svm_graph.pb\")\\\n",
        "    .setEpochsNumber(30)\\\n",
        "    .setBatchSize(64)\\\n",
        "    .setLearningRate(0.004)\\\n",
        "    .setOutputLogsPath(log_folder)\\\n",
        "    .setDropout(0.1)\\\n",
        "    .setFixImbalance(True)\\\n",
        "    # .setValidationSplit(0.1)\n",
        "\n",
        "clf_Pipeline = nlp.Pipeline(stages=[\n",
        "    features_asm,\n",
        "    gc_svm_graph_builder,\n",
        "    gen_clf])\n"
      ],
      "metadata": {
        "tags": [],
        "id": "IfKccrLdXbR1",
        "trusted": true,
        "outputId": "9e64e13e-8a4b-459d-e54e-e096125622d4"
      },
      "execution_count": null,
      "outputs": [
        {
          "name": "stdout",
          "text": "\n",
          "output_type": "stream"
        }
      ]
    },
    {
      "cell_type": "code",
      "source": [
        "generic_model_bert = clf_Pipeline.fit(trainingData_with_embeddings)"
      ],
      "metadata": {
        "tags": [],
        "colab": {
          "base_uri": "https://localhost:8080/"
        },
        "id": "3PSzGUAKXbR2",
        "outputId": "207865e7-ad71-4e07-bf0d-dbbc486bbfbe",
        "trusted": true
      },
      "execution_count": null,
      "outputs": [
        {
          "name": "stdout",
          "text": "TF Graph Builder configuration:\nModel name: svm_classifier\nGraph folder: gc_graph\nGraph file name: svm_graph.pb\nBuild params: {'input_dim': 768, 'output_dim': 4, 'hidden_layers': [], 'output_act': 'sigmoid', 'loss_func': 'hinge'}\nsvm_classifier graph exported to gc_graph/svm_graph.pb\n",
          "output_type": "stream"
        }
      ]
    },
    {
      "cell_type": "code",
      "source": [
        "pred_df = generic_model_bert.transform(testData_with_embeddings)"
      ],
      "metadata": {
        "tags": [],
        "id": "Guibj0k8XbR2",
        "trusted": true,
        "outputId": "5689a979-9aee-45aa-8129-a17d43dc68b2"
      },
      "execution_count": null,
      "outputs": [
        {
          "name": "stdout",
          "text": "\n",
          "output_type": "stream"
        }
      ]
    },
    {
      "cell_type": "code",
      "source": [
        "preds_df = pred_df.select('category','prediction.result').toPandas()\n",
        "preds_df['result'] = preds_df.result.apply(lambda x : x[0])\n",
        "\n",
        "print (classification_report(preds_df['category'], preds_df['result']))"
      ],
      "metadata": {
        "tags": [],
        "colab": {
          "base_uri": "https://localhost:8080/"
        },
        "id": "ElyprrUMXbR2",
        "outputId": "e475211a-f487-4772-dcbb-b576a8dc8e6e",
        "trusted": true
      },
      "execution_count": null,
      "outputs": [
        {
          "name": "stdout",
          "text": "                  precision    recall  f1-score   support\n\nGastroenterology       0.96      0.88      0.92        25\n       Neurology       0.77      0.91      0.83        22\n      Orthopedic       0.94      0.83      0.88        35\n         Urology       0.86      0.95      0.90        20\n\n        accuracy                           0.88       102\n       macro avg       0.88      0.89      0.88       102\n    weighted avg       0.89      0.88      0.88       102\n",
          "output_type": "stream"
        }
      ]
    },
    {
      "cell_type": "code",
      "source": [
        "res = classification_report(preds_df[\"category\"], preds_df[\"result\"], output_dict=True)\n",
        "results_df.loc[\"GenericCSVM_bert\"] = [res[\"macro avg\"][\"f1-score\"], res[\"weighted avg\"][\"f1-score\"], res[\"accuracy\"]]"
      ],
      "metadata": {
        "tags": [],
        "id": "W6KWgWJbITVN",
        "trusted": true,
        "outputId": "ef9359c5-0c28-42d1-af9f-8a0e78ea2d21"
      },
      "execution_count": null,
      "outputs": [
        {
          "name": "stdout",
          "text": "\n",
          "output_type": "stream"
        }
      ]
    },
    {
      "cell_type": "markdown",
      "source": [
        "## DocumentLogRegClassifier"
      ],
      "metadata": {
        "id": "hJCE-sWM9oaK"
      }
    },
    {
      "cell_type": "code",
      "source": [
        "document_assembler = nlp.DocumentAssembler()\\\n",
        "    .setInputCol(\"text\")\\\n",
        "    .setOutputCol(\"document\")\n",
        "\n",
        "tokenizer = nlp.Tokenizer() \\\n",
        "    .setInputCols([\"document\"]) \\\n",
        "    .setOutputCol(\"token\")\n",
        "\n",
        "logreg = medical.DocumentLogRegClassifierApproach()\\\n",
        "    .setInputCols(\"token\")\\\n",
        "    .setLabelCol(\"category\")\\\n",
        "    .setOutputCol(\"prediction\")\\\n",
        "    .setMaxIter(10)\\\n",
        "    .setTol(1e-6)\n",
        "\n",
        "clf_Pipeline = nlp.Pipeline(stages=[document_assembler,\n",
        "                                tokenizer,\n",
        "                                logreg])\n",
        "\n",
        "doclogreg_model = clf_Pipeline.fit(trainingData)"
      ],
      "metadata": {
        "tags": [],
        "id": "FUHSa7b79oaK",
        "trusted": true,
        "outputId": "253af7bd-0c35-497d-912d-e12f93e2c164"
      },
      "execution_count": null,
      "outputs": [
        {
          "name": "stdout",
          "text": "\n",
          "output_type": "stream"
        }
      ]
    },
    {
      "cell_type": "code",
      "source": [
        "pred_df = doclogreg_model.transform(testData)\n",
        "\n",
        "preds_df = pred_df.select('category','prediction.result').toPandas()\n",
        "preds_df['result'] = preds_df.result.apply(lambda x : x[0])\n",
        "\n",
        "print (classification_report(preds_df['category'], preds_df['result']))"
      ],
      "metadata": {
        "tags": [],
        "colab": {
          "base_uri": "https://localhost:8080/"
        },
        "id": "PbOx1a7X9oaK",
        "outputId": "3391977c-64a4-468f-9fde-bdb3c56108c6",
        "trusted": true
      },
      "execution_count": null,
      "outputs": [
        {
          "name": "stdout",
          "text": "                  precision    recall  f1-score   support\n\nGastroenterology       0.92      0.88      0.90        25\n       Neurology       0.80      0.73      0.76        22\n      Orthopedic       0.91      0.89      0.90        35\n         Urology       0.79      0.95      0.86        20\n\n        accuracy                           0.86       102\n       macro avg       0.86      0.86      0.86       102\n    weighted avg       0.87      0.86      0.86       102\n",
          "output_type": "stream"
        }
      ]
    },
    {
      "cell_type": "code",
      "source": [
        "res = classification_report(preds_df[\"category\"], preds_df[\"result\"], output_dict=True)\n",
        "results_df.loc[\"DocumentLogRegClassifier\"] = [res[\"macro avg\"][\"f1-score\"], res[\"weighted avg\"][\"f1-score\"], res[\"accuracy\"]]"
      ],
      "metadata": {
        "tags": [],
        "id": "LdY4d324IamR",
        "trusted": true,
        "outputId": "b03461c6-f4f6-43dc-eaae-32b0b077889f"
      },
      "execution_count": null,
      "outputs": [
        {
          "name": "stdout",
          "text": "\n",
          "output_type": "stream"
        }
      ]
    },
    {
      "cell_type": "markdown",
      "source": [
        "## Comparision of All Models' Result in Mtsamples Dataset"
      ],
      "metadata": {
        "id": "RWOdB2ajIjs6"
      }
    },
    {
      "cell_type": "markdown",
      "source": [
        "Here is the all results of classifier models. Macro f1, weighted f1 and accuracy scores are presented."
      ],
      "metadata": {
        "id": "K4Uti1kLIjs7"
      }
    },
    {
      "cell_type": "code",
      "source": [
        "results_df"
      ],
      "metadata": {
        "trusted": true,
        "tags": [],
        "id": "jgbyo9CQc3E8",
        "outputId": "d92b11d7-55d4-4926-db05-99baef68e619"
      },
      "execution_count": null,
      "outputs": [
        {
          "name": "stdout",
          "text": "                          macro-f1-score  weighted-f1-score  accuracy\nClassifierDL_100d               0.804643           0.822012  0.823529\nMultiClassifierDL_100d          0.912075           0.915748  0.914894\nGenericClassifier_100d          0.839761           0.839011  0.833333\nGenericLogReg_100d              0.848103           0.852503  0.852941\nGenericSVM_100d                 0.856886           0.862308  0.862745\nClassifierDL_200d               0.778862           0.794689  0.794118\nMultiClassifierDL_200d          0.884583           0.889411  0.890000\nGenericClassifier_200d          0.858869           0.864576  0.862745\nGenericLogReg_200d              0.816280           0.824088  0.823529\nGenericSVM_200d                 0.855785           0.862529  0.862745\nClassifierDL_bert               0.883860           0.882593  0.882353\nMultiClassifierDL_bert          0.895870           0.896134  0.896907\nGenericClassifier_bert          0.812058           0.816170  0.813725\nGenericCLogReg_bert             0.849312           0.852788  0.852941\nGenericCSVM_bert                0.883387           0.883361  0.882353\nDocumentLogRegClassifier        0.855513           0.862087  0.862745\n",
          "output_type": "stream"
        }
      ]
    },
    {
      "cell_type": "code",
      "source": [
        "results_df"
      ],
      "metadata": {
        "colab": {
          "base_uri": "https://localhost:8080/",
          "height": 551
        },
        "id": "1FYug56LIjs7",
        "outputId": "84866273-9c60-44a9-a4a9-0d76d01d53ec"
      },
      "execution_count": null,
      "outputs": [
        {
          "output_type": "execute_result",
          "execution_count": 256,
          "data": {
            "text/plain": [
              "                          macro-f1-score  weighted-f1-score  accuracy\n",
              "ClassifierDL_100d               0.708342           0.738724  0.745098\n",
              "MultiClassifierDL_100d          0.884165           0.885508  0.886598\n",
              "GenericClassifier_100d          0.879519           0.883000  0.882353\n",
              "GenericLogReg_100d              0.859291           0.862404  0.862745\n",
              "GenericSVM_100d                 0.877119           0.882451  0.882353\n",
              "ClassifierDL_200d               0.127737           0.175326  0.343137\n",
              "MultiClassifierDL_200d          0.906453           0.907969  0.908163\n",
              "GenericClassifier_200d          0.868552           0.871530  0.872549\n",
              "GenericLogReg_200d              0.834182           0.842500  0.843137\n",
              "GenericSVM_200d                 0.845665           0.852612  0.852941\n",
              "ClassifierDL_bert               0.884700           0.882335  0.882353\n",
              "MultiClassifierDL_bert          0.870476           0.871696  0.871287\n",
              "GenericClassifier_bert          0.864707           0.865047  0.862745\n",
              "GenericCLogReg_bert             0.892584           0.892400  0.892157\n",
              "GenericCSVM_bert                0.889462           0.892677  0.892157\n",
              "DocumentLogRegClassifier        0.860984           0.862340  0.862745"
            ],
            "text/html": [
              "\n",
              "\n",
              "  <div id=\"df-5e919a97-4d53-42c6-a3ac-9c616ed4443b\">\n",
              "    <div class=\"colab-df-container\">\n",
              "      <div>\n",
              "<style scoped>\n",
              "    .dataframe tbody tr th:only-of-type {\n",
              "        vertical-align: middle;\n",
              "    }\n",
              "\n",
              "    .dataframe tbody tr th {\n",
              "        vertical-align: top;\n",
              "    }\n",
              "\n",
              "    .dataframe thead th {\n",
              "        text-align: right;\n",
              "    }\n",
              "</style>\n",
              "<table border=\"1\" class=\"dataframe\">\n",
              "  <thead>\n",
              "    <tr style=\"text-align: right;\">\n",
              "      <th></th>\n",
              "      <th>macro-f1-score</th>\n",
              "      <th>weighted-f1-score</th>\n",
              "      <th>accuracy</th>\n",
              "    </tr>\n",
              "  </thead>\n",
              "  <tbody>\n",
              "    <tr>\n",
              "      <th>ClassifierDL_100d</th>\n",
              "      <td>0.708342</td>\n",
              "      <td>0.738724</td>\n",
              "      <td>0.745098</td>\n",
              "    </tr>\n",
              "    <tr>\n",
              "      <th>MultiClassifierDL_100d</th>\n",
              "      <td>0.884165</td>\n",
              "      <td>0.885508</td>\n",
              "      <td>0.886598</td>\n",
              "    </tr>\n",
              "    <tr>\n",
              "      <th>GenericClassifier_100d</th>\n",
              "      <td>0.879519</td>\n",
              "      <td>0.883000</td>\n",
              "      <td>0.882353</td>\n",
              "    </tr>\n",
              "    <tr>\n",
              "      <th>GenericLogReg_100d</th>\n",
              "      <td>0.859291</td>\n",
              "      <td>0.862404</td>\n",
              "      <td>0.862745</td>\n",
              "    </tr>\n",
              "    <tr>\n",
              "      <th>GenericSVM_100d</th>\n",
              "      <td>0.877119</td>\n",
              "      <td>0.882451</td>\n",
              "      <td>0.882353</td>\n",
              "    </tr>\n",
              "    <tr>\n",
              "      <th>ClassifierDL_200d</th>\n",
              "      <td>0.127737</td>\n",
              "      <td>0.175326</td>\n",
              "      <td>0.343137</td>\n",
              "    </tr>\n",
              "    <tr>\n",
              "      <th>MultiClassifierDL_200d</th>\n",
              "      <td>0.906453</td>\n",
              "      <td>0.907969</td>\n",
              "      <td>0.908163</td>\n",
              "    </tr>\n",
              "    <tr>\n",
              "      <th>GenericClassifier_200d</th>\n",
              "      <td>0.868552</td>\n",
              "      <td>0.871530</td>\n",
              "      <td>0.872549</td>\n",
              "    </tr>\n",
              "    <tr>\n",
              "      <th>GenericLogReg_200d</th>\n",
              "      <td>0.834182</td>\n",
              "      <td>0.842500</td>\n",
              "      <td>0.843137</td>\n",
              "    </tr>\n",
              "    <tr>\n",
              "      <th>GenericSVM_200d</th>\n",
              "      <td>0.845665</td>\n",
              "      <td>0.852612</td>\n",
              "      <td>0.852941</td>\n",
              "    </tr>\n",
              "    <tr>\n",
              "      <th>ClassifierDL_bert</th>\n",
              "      <td>0.884700</td>\n",
              "      <td>0.882335</td>\n",
              "      <td>0.882353</td>\n",
              "    </tr>\n",
              "    <tr>\n",
              "      <th>MultiClassifierDL_bert</th>\n",
              "      <td>0.870476</td>\n",
              "      <td>0.871696</td>\n",
              "      <td>0.871287</td>\n",
              "    </tr>\n",
              "    <tr>\n",
              "      <th>GenericClassifier_bert</th>\n",
              "      <td>0.864707</td>\n",
              "      <td>0.865047</td>\n",
              "      <td>0.862745</td>\n",
              "    </tr>\n",
              "    <tr>\n",
              "      <th>GenericCLogReg_bert</th>\n",
              "      <td>0.892584</td>\n",
              "      <td>0.892400</td>\n",
              "      <td>0.892157</td>\n",
              "    </tr>\n",
              "    <tr>\n",
              "      <th>GenericCSVM_bert</th>\n",
              "      <td>0.889462</td>\n",
              "      <td>0.892677</td>\n",
              "      <td>0.892157</td>\n",
              "    </tr>\n",
              "    <tr>\n",
              "      <th>DocumentLogRegClassifier</th>\n",
              "      <td>0.860984</td>\n",
              "      <td>0.862340</td>\n",
              "      <td>0.862745</td>\n",
              "    </tr>\n",
              "  </tbody>\n",
              "</table>\n",
              "</div>\n",
              "      <button class=\"colab-df-convert\" onclick=\"convertToInteractive('df-5e919a97-4d53-42c6-a3ac-9c616ed4443b')\"\n",
              "              title=\"Convert this dataframe to an interactive table.\"\n",
              "              style=\"display:none;\">\n",
              "\n",
              "  <svg xmlns=\"http://www.w3.org/2000/svg\" height=\"24px\"viewBox=\"0 0 24 24\"\n",
              "       width=\"24px\">\n",
              "    <path d=\"M0 0h24v24H0V0z\" fill=\"none\"/>\n",
              "    <path d=\"M18.56 5.44l.94 2.06.94-2.06 2.06-.94-2.06-.94-.94-2.06-.94 2.06-2.06.94zm-11 1L8.5 8.5l.94-2.06 2.06-.94-2.06-.94L8.5 2.5l-.94 2.06-2.06.94zm10 10l.94 2.06.94-2.06 2.06-.94-2.06-.94-.94-2.06-.94 2.06-2.06.94z\"/><path d=\"M17.41 7.96l-1.37-1.37c-.4-.4-.92-.59-1.43-.59-.52 0-1.04.2-1.43.59L10.3 9.45l-7.72 7.72c-.78.78-.78 2.05 0 2.83L4 21.41c.39.39.9.59 1.41.59.51 0 1.02-.2 1.41-.59l7.78-7.78 2.81-2.81c.8-.78.8-2.07 0-2.86zM5.41 20L4 18.59l7.72-7.72 1.47 1.35L5.41 20z\"/>\n",
              "  </svg>\n",
              "      </button>\n",
              "\n",
              "\n",
              "\n",
              "    <div id=\"df-0f402f52-5411-42e9-9e67-1198c2f7ddca\">\n",
              "      <button class=\"colab-df-quickchart\" onclick=\"quickchart('df-0f402f52-5411-42e9-9e67-1198c2f7ddca')\"\n",
              "              title=\"Suggest charts.\"\n",
              "              style=\"display:none;\">\n",
              "\n",
              "<svg xmlns=\"http://www.w3.org/2000/svg\" height=\"24px\"viewBox=\"0 0 24 24\"\n",
              "     width=\"24px\">\n",
              "    <g>\n",
              "        <path d=\"M19 3H5c-1.1 0-2 .9-2 2v14c0 1.1.9 2 2 2h14c1.1 0 2-.9 2-2V5c0-1.1-.9-2-2-2zM9 17H7v-7h2v7zm4 0h-2V7h2v10zm4 0h-2v-4h2v4z\"/>\n",
              "    </g>\n",
              "</svg>\n",
              "      </button>\n",
              "    </div>\n",
              "\n",
              "<style>\n",
              "  .colab-df-quickchart {\n",
              "    background-color: #E8F0FE;\n",
              "    border: none;\n",
              "    border-radius: 50%;\n",
              "    cursor: pointer;\n",
              "    display: none;\n",
              "    fill: #1967D2;\n",
              "    height: 32px;\n",
              "    padding: 0 0 0 0;\n",
              "    width: 32px;\n",
              "  }\n",
              "\n",
              "  .colab-df-quickchart:hover {\n",
              "    background-color: #E2EBFA;\n",
              "    box-shadow: 0px 1px 2px rgba(60, 64, 67, 0.3), 0px 1px 3px 1px rgba(60, 64, 67, 0.15);\n",
              "    fill: #174EA6;\n",
              "  }\n",
              "\n",
              "  [theme=dark] .colab-df-quickchart {\n",
              "    background-color: #3B4455;\n",
              "    fill: #D2E3FC;\n",
              "  }\n",
              "\n",
              "  [theme=dark] .colab-df-quickchart:hover {\n",
              "    background-color: #434B5C;\n",
              "    box-shadow: 0px 1px 3px 1px rgba(0, 0, 0, 0.15);\n",
              "    filter: drop-shadow(0px 1px 2px rgba(0, 0, 0, 0.3));\n",
              "    fill: #FFFFFF;\n",
              "  }\n",
              "</style>\n",
              "\n",
              "    <script>\n",
              "      async function quickchart(key) {\n",
              "        const containerElement = document.querySelector('#' + key);\n",
              "        const charts = await google.colab.kernel.invokeFunction(\n",
              "            'suggestCharts', [key], {});\n",
              "      }\n",
              "    </script>\n",
              "\n",
              "      <script>\n",
              "\n",
              "function displayQuickchartButton(domScope) {\n",
              "  let quickchartButtonEl =\n",
              "    domScope.querySelector('#df-0f402f52-5411-42e9-9e67-1198c2f7ddca button.colab-df-quickchart');\n",
              "  quickchartButtonEl.style.display =\n",
              "    google.colab.kernel.accessAllowed ? 'block' : 'none';\n",
              "}\n",
              "\n",
              "        displayQuickchartButton(document);\n",
              "      </script>\n",
              "      <style>\n",
              "    .colab-df-container {\n",
              "      display:flex;\n",
              "      flex-wrap:wrap;\n",
              "      gap: 12px;\n",
              "    }\n",
              "\n",
              "    .colab-df-convert {\n",
              "      background-color: #E8F0FE;\n",
              "      border: none;\n",
              "      border-radius: 50%;\n",
              "      cursor: pointer;\n",
              "      display: none;\n",
              "      fill: #1967D2;\n",
              "      height: 32px;\n",
              "      padding: 0 0 0 0;\n",
              "      width: 32px;\n",
              "    }\n",
              "\n",
              "    .colab-df-convert:hover {\n",
              "      background-color: #E2EBFA;\n",
              "      box-shadow: 0px 1px 2px rgba(60, 64, 67, 0.3), 0px 1px 3px 1px rgba(60, 64, 67, 0.15);\n",
              "      fill: #174EA6;\n",
              "    }\n",
              "\n",
              "    [theme=dark] .colab-df-convert {\n",
              "      background-color: #3B4455;\n",
              "      fill: #D2E3FC;\n",
              "    }\n",
              "\n",
              "    [theme=dark] .colab-df-convert:hover {\n",
              "      background-color: #434B5C;\n",
              "      box-shadow: 0px 1px 3px 1px rgba(0, 0, 0, 0.15);\n",
              "      filter: drop-shadow(0px 1px 2px rgba(0, 0, 0, 0.3));\n",
              "      fill: #FFFFFF;\n",
              "    }\n",
              "  </style>\n",
              "\n",
              "      <script>\n",
              "        const buttonEl =\n",
              "          document.querySelector('#df-5e919a97-4d53-42c6-a3ac-9c616ed4443b button.colab-df-convert');\n",
              "        buttonEl.style.display =\n",
              "          google.colab.kernel.accessAllowed ? 'block' : 'none';\n",
              "\n",
              "        async function convertToInteractive(key) {\n",
              "          const element = document.querySelector('#df-5e919a97-4d53-42c6-a3ac-9c616ed4443b');\n",
              "          const dataTable =\n",
              "            await google.colab.kernel.invokeFunction('convertToInteractive',\n",
              "                                                     [key], {});\n",
              "          if (!dataTable) return;\n",
              "\n",
              "          const docLinkHtml = 'Like what you see? Visit the ' +\n",
              "            '<a target=\"_blank\" href=https://colab.research.google.com/notebooks/data_table.ipynb>data table notebook</a>'\n",
              "            + ' to learn more about interactive tables.';\n",
              "          element.innerHTML = '';\n",
              "          dataTable['output_type'] = 'display_data';\n",
              "          await google.colab.output.renderOutput(dataTable, element);\n",
              "          const docLink = document.createElement('div');\n",
              "          docLink.innerHTML = docLinkHtml;\n",
              "          element.appendChild(docLink);\n",
              "        }\n",
              "      </script>\n",
              "    </div>\n",
              "  </div>\n"
            ]
          },
          "metadata": {}
        }
      ]
    }
  ]
}
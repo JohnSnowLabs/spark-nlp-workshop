{
 "cells": [
  {
   "cell_type": "markdown",
   "metadata": {
    "id": "TC67imitKuBg"
   },
   "source": [
    "![JohnSnowLabs](https://nlp.johnsnowlabs.com/assets/images/logo.png)"
   ]
  },
  {
   "cell_type": "markdown",
   "metadata": {
    "id": "JXd7D50SKuBm"
   },
   "source": [
    "[![Open In Colab](https://colab.research.google.com/assets/colab-badge.svg)](https://colab.research.google.com/github/JohnSnowLabs/spark-nlp-workshop/blob/master/healthcare-nlp/08.0.Clinical_Text_Classification_with_SparkNLP.ipynb)"
   ]
  },
  {
   "cell_type": "markdown",
   "metadata": {},
   "source": [
    "📌 The license was provided and all necessary libraries and jars were installed when the EMR cluster was created."
   ]
  },
  {
   "cell_type": "code",
   "execution_count": null,
   "metadata": {
    "colab": {
     "base_uri": "https://localhost:8080/"
    },
    "execution": {
     "iopub.execute_input": "2023-09-15T08:34:10.739772Z",
     "iopub.status.busy": "2023-09-15T08:34:10.739544Z",
     "iopub.status.idle": "2023-09-15T08:35:02.749184Z"
    },
    "executionInfo": {
     "elapsed": 46050,
     "status": "ok",
     "timestamp": 1689669673405,
     "user": {
      "displayName": "Ahmet Mesut BİROL",
      "userId": "04340760882990254267"
     },
     "user_tz": -180
    },
    "id": "kUjJNc9fJoFT",
    "outputId": "8a68114e-4404-4879-8f90-da0ad0ab5351",
    "tags": []
   },
   "outputs": [
    {
     "data": {
      "application/vnd.jupyter.widget-view+json": {
       "model_id": "e00987fecec24e27b434f1e80087ff88",
       "version_major": 2,
       "version_minor": 0
      },
      "text/plain": [
       "VBox()"
      ]
     },
     "metadata": {},
     "output_type": "display_data"
    },
    {
     "data": {
      "text/html": [
       "<table>\n",
       "<tbody><tr><th>ID</th><th>YARN Application ID</th><th>Kind</th><th>State</th><th>Spark UI</th><th>Driver log</th><th>Current session?</th></tr><tr><td>1</td><td>application_1694766117451_0002</td><td>pyspark</td><td>idle</td><td><a target=\"_blank\" href=\"http://ip-172-31-17-59.ec2.internal:20888/proxy/application_1694766117451_0002/\" class=\"emr-proxy-link j-20KN8XU084G6U application_1694766117451_0002\" emr-resource=\"j-20KN8XU084G6U\n",
       "\" application-id=\"application_1694766117451_0002\">Link</a></td><td><a target=\"_blank\" href=\"http://ip-172-31-27-220.ec2.internal:8042/node/containerlogs/container_1694766117451_0002_01_000001/livy\">Link</a></td><td>✔</td></tr></tbody></table>"
      ],
      "text/plain": [
       "<IPython.core.display.HTML object>"
      ]
     },
     "metadata": {},
     "output_type": "display_data"
    },
    {
     "data": {
      "application/vnd.jupyter.widget-view+json": {
       "model_id": "",
       "version_major": 2,
       "version_minor": 0
      },
      "text/plain": [
       "FloatProgress(value=0.0, bar_style='info', description='Progress:', layout=Layout(height='25px', width='50%'),…"
      ]
     },
     "metadata": {},
     "output_type": "display_data"
    },
    {
     "name": "stdout",
     "output_type": "stream",
     "text": [
      "SparkSession available as 'spark'.\n"
     ]
    },
    {
     "data": {
      "application/vnd.jupyter.widget-view+json": {
       "model_id": "",
       "version_major": 2,
       "version_minor": 0
      },
      "text/plain": [
       "FloatProgress(value=0.0, bar_style='info', description='Progress:', layout=Layout(height='25px', width='50%'),…"
      ]
     },
     "metadata": {},
     "output_type": "display_data"
    },
    {
     "name": "stdout",
     "output_type": "stream",
     "text": [
      "Spark Session already created, some configs may not take.\n",
      "📋 Loading license number 0 from /lib/.johnsnowlabs/johnsnowlabs/licenses/license_number_0_for_Spark-Healthcare.json"
     ]
    }
   ],
   "source": [
    "from johnsnowlabs import nlp, medical, visual\n",
    "import pandas as pd\n",
    "from sklearn.metrics import confusion_matrix, classification_report, accuracy_score\n",
    "import pyspark.sql.functions as F\n",
    "\n",
    "# Automatically load jars to the session\n",
    "spark = nlp.start()"
   ]
  },
  {
   "cell_type": "markdown",
   "metadata": {
    "id": "seqQtw6ryhDm"
   },
   "source": [
    "# Classifiers\n",
    "\n",
    "The below classifiers will be used in this notebook.ClassifierDL, MultiClassifierDL, and GenericClassifier will be trained using healthcare_100d, embeddingd_clinical, and bert sentence embeddings(sbiobert_base_cased_mli). DocumentLogRegClassifier accepts tokens, so sentence embeddings are not utilized during DocumentLogRegClassifier training.\n",
    "\n",
    "## ClassifierDL\n",
    "\n",
    "ClassifierDL is a generic Multi-class Text Classification annotator. ClassifierDL uses the state-of-the-art Universal Sentence Encoder as an input for text classifications. The ClassifierDL annotator uses a deep learning model (DNNs) built inside TensorFlow and supports up to 100 classes. For more information please [follow the link](https://nlp.johnsnowlabs.com/docs/en/annotators#classifierdl).\n",
    "\n",
    "\n",
    "##  MultiClassifierDL\n",
    "\n",
    "MultiClassifierDL is a Multi-label Text Classification annotator.MultiClassifierDL uses a Bidirectional GRU with a convolutional model built inside TensorFlow and supports up to 100 classes.  For more information please [follow the link](https://nlp.johnsnowlabs.com/docs/en/annotators#multiclassifierdl).\n",
    "\n",
    "\n",
    "## GenericClassifier\n",
    "\n",
    "GenericClassifier is a TensorFlow model for the generic classification of feature vectors in Healthcare  Lİbrary. It takes FEATURE_VECTOR annotations from FeaturesAssembler as input, classifies them, and outputs CATEGORY annotations. Please see [the link](https://nlp.johnsnowlabs.com/docs/en/licensed_annotators#genericclassifier) for more information.\n",
    "\n",
    "Here are some Social Determinants of Health (SDOH) models that trained with GenericClassifier:\n",
    "\n",
    "|index|model|\n",
    "|-----:|:-----|\n",
    "|1|[genericclassifier_sdoh_economics_binary_sbiobert_cased_mli](https://nlp.johnsnowlabs.com/2023/01/14/genericclassifier_sdoh_economics_binary_sbiobert_cased_mli_en.html)|\n",
    "|2|[genericclassifier_sdoh_substance_usage_binary_sbiobert_cased_mli](https://nlp.johnsnowlabs.com/2023/01/14/genericclassifier_sdoh_substance_usage_binary_sbiobert_cased_mli_en.html)|\n",
    "|3|[genericclassifier_sdoh_tobacco_usage_sbiobert_cased_mli](https://nlp.johnsnowlabs.com/2023/01/14/genericclassifier_sdoh_tobacco_usage_sbiobert_cased_mli_en.html)|\n",
    "|4|[genericclassifier_sdoh_alcohol_usage_sbiobert_cased_mli](https://nlp.johnsnowlabs.com/2023/01/14/genericclassifier_sdoh_alcohol_usage_sbiobert_cased_mli_en.html)|\n",
    "|5|[genericclassifier_sdoh_alcohol_usage_binary_sbiobert_cased_mli](https://nlp.johnsnowlabs.com/2023/01/14/genericclassifier_sdoh_alcohol_usage_binary_sbiobert_cased_mli_en.html)|\n",
    "\n",
    "\n",
    "## GenericLogRegClassifier\n",
    "\n",
    "`GenericLogRegClassifier` is a derivative of GenericClassifier which implements a multinomial *Logistic Regression*. This is a single layer neural network with the logistic function at the output. The input to the model is `FeatureVector` and the output is `Category` annotations with labels and corresponding confidence scores varying between 0 and 1. Training data requires \"text\" and their \"label\" columns only and the trained model will be a `GenericLogRegClassifierModel()`.\n",
    "\n",
    "\n",
    "## GenericSVMClassifier\n",
    "\n",
    "`GenericSVMClassifier` is a derivative of GenericClassifier which implements *SVM (Support Vector Machine)* classification. The input to the model is `FeatureVector` and the output is `Category` annotations with labels and corresponding confidence scores. The scores are standardized using the logistic function so that they vary between 0 and 1. Taining data requires \"text\" and their \"label\" columns only and the trained model will be a `GenericSVMClassifierModel()`\n",
    "\n",
    "## DocumentLogRegClassifier\n",
    "\n",
    "DocumentLogRegClassifier is a model to classify documents with a Logarithmic Regression algorithm in Healthcare  Library. Training data requires columns for text and labels. The result is a trained DocumentLogRegClassifierModel. you can get more info [here](https://nlp.johnsnowlabs.com/docs/en/licensed_annotators#documentlogregclassifier).\n"
   ]
  },
  {
   "cell_type": "markdown",
   "metadata": {
    "id": "V9VJxCgQDbci"
   },
   "source": [
    "# ADE Dataset"
   ]
  },
  {
   "cell_type": "markdown",
   "metadata": {
    "id": "26_3aTINil5M"
   },
   "source": [
    "### Data Preprocessing"
   ]
  },
  {
   "cell_type": "code",
   "execution_count": 2,
   "metadata": {
    "execution": {
     "iopub.execute_input": "2023-09-15T08:35:02.757537Z",
     "iopub.status.busy": "2023-09-15T08:35:02.757329Z",
     "iopub.status.idle": "2023-09-15T08:35:02.818805Z",
     "shell.execute_reply": "2023-09-15T08:35:02.818141Z",
     "shell.execute_reply.started": "2023-09-15T08:35:02.757508Z"
    },
    "id": "hItCL5OYilb-"
   },
   "outputs": [
    {
     "data": {
      "application/vnd.jupyter.widget-view+json": {
       "model_id": "6e5f5b6bf4e24a1d8db5eeca0abfd508",
       "version_major": 2,
       "version_minor": 0
      },
      "text/plain": [
       "VBox()"
      ]
     },
     "metadata": {},
     "output_type": "display_data"
    },
    {
     "data": {
      "application/vnd.jupyter.widget-view+json": {
       "model_id": "",
       "version_major": 2,
       "version_minor": 0
      },
      "text/plain": [
       "FloatProgress(value=0.0, bar_style='info', description='Progress:', layout=Layout(height='25px', width='50%'),…"
      ]
     },
     "metadata": {},
     "output_type": "display_data"
    }
   ],
   "source": [
    "#downloading sample datasets\n",
    "#!wget -q https://raw.githubusercontent.com/JohnSnowLabs/spark-nlp-workshop/master/tutorials/Certification_Trainings/Healthcare/data/ADE_Corpus_V2/ADE-NEG.txt\n",
    "#!wget -q https://raw.githubusercontent.com/JohnSnowLabs/spark-nlp-workshop/master/tutorials/Certification_Trainings/Healthcare/data/ADE_Corpus_V2/DRUG-AE.rel"
   ]
  },
  {
   "cell_type": "code",
   "execution_count": 3,
   "metadata": {
    "execution": {
     "iopub.execute_input": "2023-09-15T08:35:02.820030Z",
     "iopub.status.busy": "2023-09-15T08:35:02.819820Z",
     "iopub.status.idle": "2023-09-15T08:35:02.915120Z",
     "shell.execute_reply": "2023-09-15T08:35:02.914172Z",
     "shell.execute_reply.started": "2023-09-15T08:35:02.820002Z"
    },
    "tags": []
   },
   "outputs": [],
   "source": [
    "%%sh\n",
    "wget -q -O /tmp/DRUG-AE.rel https://raw.githubusercontent.com/JohnSnowLabs/spark-nlp-workshop/master/tutorials/Certification_Trainings/Healthcare/data/ADE_Corpus_V2/DRUG-AE.rel\n",
    "wget -q -O /tmp/ADE-NEG.txt https://raw.githubusercontent.com/JohnSnowLabs/spark-nlp-workshop/master/tutorials/Certification_Trainings/Healthcare/data/ADE_Corpus_V2/ADE-NEG.txt"
   ]
  },
  {
   "cell_type": "markdown",
   "metadata": {
    "id": "CcjKu0_XrfLy"
   },
   "source": [
    "**ADE Negative Dataset**"
   ]
  },
  {
   "cell_type": "code",
   "execution_count": 4,
   "metadata": {
    "colab": {
     "base_uri": "https://localhost:8080/",
     "height": 206
    },
    "execution": {
     "iopub.execute_input": "2023-09-15T08:35:02.919052Z",
     "iopub.status.busy": "2023-09-15T08:35:02.918824Z",
     "iopub.status.idle": "2023-09-15T08:35:03.206371Z",
     "shell.execute_reply": "2023-09-15T08:35:03.205321Z",
     "shell.execute_reply.started": "2023-09-15T08:35:02.919018Z"
    },
    "executionInfo": {
     "elapsed": 9,
     "status": "ok",
     "timestamp": 1689669674257,
     "user": {
      "displayName": "Ahmet Mesut BİROL",
      "userId": "04340760882990254267"
     },
     "user_tz": -180
    },
    "id": "Y8bRpYvWilZB",
    "outputId": "47af2cfb-d9cf-4592-d7b5-4268b9c7feb9",
    "tags": []
   },
   "outputs": [
    {
     "data": {
      "application/vnd.jupyter.widget-view+json": {
       "model_id": "434f01044b2b431bb9855c086931cbfa",
       "version_major": 2,
       "version_minor": 0
      },
      "text/plain": [
       "VBox()"
      ]
     },
     "metadata": {},
     "output_type": "display_data"
    },
    {
     "data": {
      "application/vnd.jupyter.widget-view+json": {
       "model_id": "",
       "version_major": 2,
       "version_minor": 0
      },
      "text/plain": [
       "FloatProgress(value=0.0, bar_style='info', description='Progress:', layout=Layout(height='25px', width='50%'),…"
      ]
     },
     "metadata": {},
     "output_type": "display_data"
    },
    {
     "name": "stdout",
     "output_type": "stream",
     "text": [
      "                                                col1\n",
      "0  6460590 NEG Clioquinol intoxication occurring ...\n",
      "1  8600337 NEG \"Retinoic acid syndrome\" was preve...\n",
      "2  8402502 NEG BACKGROUND: External beam radiatio...\n",
      "3  8700794 NEG Although the enuresis ceased, she ...\n",
      "4  17662448 NEG A 42-year-old woman had uneventfu..."
     ]
    }
   ],
   "source": [
    "df_neg= pd.read_csv(\"/tmp/ADE-NEG.txt\", header=None, delimiter=\"\\t\", names=[\"col1\"])\n",
    "df_neg.head()"
   ]
  },
  {
   "cell_type": "code",
   "execution_count": 5,
   "metadata": {
    "colab": {
     "base_uri": "https://localhost:8080/",
     "height": 206
    },
    "execution": {
     "iopub.execute_input": "2023-09-15T08:35:03.207764Z",
     "iopub.status.busy": "2023-09-15T08:35:03.207509Z",
     "iopub.status.idle": "2023-09-15T08:35:03.488900Z",
     "shell.execute_reply": "2023-09-15T08:35:03.488157Z",
     "shell.execute_reply.started": "2023-09-15T08:35:03.207726Z"
    },
    "executionInfo": {
     "elapsed": 468,
     "status": "ok",
     "timestamp": 1689669674719,
     "user": {
      "displayName": "Ahmet Mesut BİROL",
      "userId": "04340760882990254267"
     },
     "user_tz": -180
    },
    "id": "wrPm_XSyv-R2",
    "outputId": "d9aa1f9c-b5d0-45f2-a585-55824b007bc5",
    "tags": []
   },
   "outputs": [
    {
     "data": {
      "application/vnd.jupyter.widget-view+json": {
       "model_id": "4894b7d727de417fb06e6e8f7ea75be6",
       "version_major": 2,
       "version_minor": 0
      },
      "text/plain": [
       "VBox()"
      ]
     },
     "metadata": {},
     "output_type": "display_data"
    },
    {
     "data": {
      "application/vnd.jupyter.widget-view+json": {
       "model_id": "",
       "version_major": 2,
       "version_minor": 0
      },
      "text/plain": [
       "FloatProgress(value=0.0, bar_style='info', description='Progress:', layout=Layout(height='25px', width='50%'),…"
      ]
     },
     "metadata": {},
     "output_type": "display_data"
    },
    {
     "name": "stdout",
     "output_type": "stream",
     "text": [
      "                                                text category\n",
      "0   Clioquinol intoxication occurring in the trea...      neg\n",
      "1   \"Retinoic acid syndrome\" was prevented with s...      neg\n",
      "2   BACKGROUND: External beam radiation therapy o...      neg\n",
      "3   Although the enuresis ceased, she developed t...      neg\n",
      "4   A 42-year-old woman had uneventful bilateral ...      neg"
     ]
    }
   ],
   "source": [
    "df_neg['text'] =  df_neg.col1.str.split('NEG').str[1]\n",
    "df_neg[\"category\"] = \"neg\"\n",
    "df_neg= df_neg[[\"text\", \"category\"]]\n",
    "df_neg.head()"
   ]
  },
  {
   "cell_type": "markdown",
   "metadata": {
    "id": "gzu9ELiirkMf"
   },
   "source": [
    "**ADE Positive Dataset**"
   ]
  },
  {
   "cell_type": "code",
   "execution_count": 6,
   "metadata": {
    "colab": {
     "base_uri": "https://localhost:8080/",
     "height": 206
    },
    "execution": {
     "iopub.execute_input": "2023-09-15T08:35:03.490252Z",
     "iopub.status.busy": "2023-09-15T08:35:03.490029Z",
     "iopub.status.idle": "2023-09-15T08:35:03.765509Z",
     "shell.execute_reply": "2023-09-15T08:35:03.764557Z",
     "shell.execute_reply.started": "2023-09-15T08:35:03.490220Z"
    },
    "executionInfo": {
     "elapsed": 39,
     "status": "ok",
     "timestamp": 1689669674720,
     "user": {
      "displayName": "Ahmet Mesut BİROL",
      "userId": "04340760882990254267"
     },
     "user_tz": -180
    },
    "id": "F4Y20JbRqcLP",
    "outputId": "5e03238e-30d3-4852-80ae-ed4d4d1b2a79",
    "tags": []
   },
   "outputs": [
    {
     "data": {
      "application/vnd.jupyter.widget-view+json": {
       "model_id": "24b3ac72a4eb49d5a3b3e54eb487a0f7",
       "version_major": 2,
       "version_minor": 0
      },
      "text/plain": [
       "VBox()"
      ]
     },
     "metadata": {},
     "output_type": "display_data"
    },
    {
     "data": {
      "application/vnd.jupyter.widget-view+json": {
       "model_id": "",
       "version_major": 2,
       "version_minor": 0
      },
      "text/plain": [
       "FloatProgress(value=0.0, bar_style='info', description='Progress:', layout=Layout(height='25px', width='50%'),…"
      ]
     },
     "metadata": {},
     "output_type": "display_data"
    },
    {
     "name": "stdout",
     "output_type": "stream",
     "text": [
      "          0                                                  1  ...    6    7\n",
      "0  10030778      Intravenous azithromycin-induced ototoxicity.  ...   22   34\n",
      "1  10048291  Immobilization, while Paget's bone disease was...  ...  908  926\n",
      "2  10048291  Unaccountable severe hypercalcemia in a patien...  ...   94  112\n",
      "3  10082597  METHODS: We report two cases of pseudoporphyri...  ...  646  654\n",
      "4  10082597  METHODS: We report two cases of pseudoporphyri...  ...  659  668\n",
      "\n",
      "[5 rows x 8 columns]"
     ]
    }
   ],
   "source": [
    "df_pos= pd.read_csv(\"/tmp/DRUG-AE.rel\", header=None, delimiter=\"|\")\n",
    "df_pos.head()"
   ]
  },
  {
   "cell_type": "code",
   "execution_count": 7,
   "metadata": {
    "colab": {
     "base_uri": "https://localhost:8080/",
     "height": 206
    },
    "execution": {
     "iopub.execute_input": "2023-09-15T08:35:03.769178Z",
     "iopub.status.busy": "2023-09-15T08:35:03.768907Z",
     "iopub.status.idle": "2023-09-15T08:35:03.838556Z",
     "shell.execute_reply": "2023-09-15T08:35:03.837852Z",
     "shell.execute_reply.started": "2023-09-15T08:35:03.769145Z"
    },
    "executionInfo": {
     "elapsed": 39,
     "status": "ok",
     "timestamp": 1689669674721,
     "user": {
      "displayName": "Ahmet Mesut BİROL",
      "userId": "04340760882990254267"
     },
     "user_tz": -180
    },
    "id": "ICMIXpnHrc5u",
    "outputId": "1ee7ca4e-4a91-44bd-f97f-abacf40398d1",
    "tags": []
   },
   "outputs": [
    {
     "data": {
      "application/vnd.jupyter.widget-view+json": {
       "model_id": "5550778dafde4419a6f47921765d0b15",
       "version_major": 2,
       "version_minor": 0
      },
      "text/plain": [
       "VBox()"
      ]
     },
     "metadata": {},
     "output_type": "display_data"
    },
    {
     "data": {
      "application/vnd.jupyter.widget-view+json": {
       "model_id": "",
       "version_major": 2,
       "version_minor": 0
      },
      "text/plain": [
       "FloatProgress(value=0.0, bar_style='info', description='Progress:', layout=Layout(height='25px', width='50%'),…"
      ]
     },
     "metadata": {},
     "output_type": "display_data"
    },
    {
     "name": "stdout",
     "output_type": "stream",
     "text": [
      "                                                text category\n",
      "0      Intravenous azithromycin-induced ototoxicity.      pos\n",
      "1  Immobilization, while Paget's bone disease was...      pos\n",
      "2  Unaccountable severe hypercalcemia in a patien...      pos\n",
      "3  METHODS: We report two cases of pseudoporphyri...      pos\n",
      "4  METHODS: We report two cases of pseudoporphyri...      pos"
     ]
    }
   ],
   "source": [
    "df_pos[\"category\"]= \"pos\"\n",
    "df_pos.rename(columns={1: \"text\"}, inplace=True)\n",
    "df_pos= df_pos[[\"text\", \"category\"]]\n",
    "df_pos.head()"
   ]
  },
  {
   "cell_type": "markdown",
   "metadata": {
    "id": "V2iOoomSwTeH"
   },
   "source": [
    "**Merging Positive and Negative dataset**"
   ]
  },
  {
   "cell_type": "code",
   "execution_count": 8,
   "metadata": {
    "colab": {
     "base_uri": "https://localhost:8080/",
     "height": 206
    },
    "execution": {
     "iopub.execute_input": "2023-09-15T08:35:03.840047Z",
     "iopub.status.busy": "2023-09-15T08:35:03.839827Z",
     "iopub.status.idle": "2023-09-15T08:35:03.907116Z",
     "shell.execute_reply": "2023-09-15T08:35:03.906112Z",
     "shell.execute_reply.started": "2023-09-15T08:35:03.840017Z"
    },
    "executionInfo": {
     "elapsed": 38,
     "status": "ok",
     "timestamp": 1689669674722,
     "user": {
      "displayName": "Ahmet Mesut BİROL",
      "userId": "04340760882990254267"
     },
     "user_tz": -180
    },
    "id": "3ju23pYJrcxT",
    "outputId": "e98ca69b-989b-43c9-b42f-e8c7448d5719",
    "tags": []
   },
   "outputs": [
    {
     "data": {
      "application/vnd.jupyter.widget-view+json": {
       "model_id": "f831d9fbe95d4cdd820edfb198e3ee11",
       "version_major": 2,
       "version_minor": 0
      },
      "text/plain": [
       "VBox()"
      ]
     },
     "metadata": {},
     "output_type": "display_data"
    },
    {
     "data": {
      "application/vnd.jupyter.widget-view+json": {
       "model_id": "",
       "version_major": 2,
       "version_minor": 0
      },
      "text/plain": [
       "FloatProgress(value=0.0, bar_style='info', description='Progress:', layout=Layout(height='25px', width='50%'),…"
      ]
     },
     "metadata": {},
     "output_type": "display_data"
    },
    {
     "name": "stdout",
     "output_type": "stream",
     "text": [
      "                                                text category\n",
      "0   Clioquinol intoxication occurring in the trea...      neg\n",
      "1   \"Retinoic acid syndrome\" was prevented with s...      neg\n",
      "2   BACKGROUND: External beam radiation therapy o...      neg\n",
      "3   Although the enuresis ceased, she developed t...      neg\n",
      "4   A 42-year-old woman had uneventful bilateral ...      neg"
     ]
    }
   ],
   "source": [
    "ade_df= pd.concat([df_neg, df_pos])\n",
    "ade_df.head()"
   ]
  },
  {
   "cell_type": "code",
   "execution_count": 9,
   "metadata": {
    "colab": {
     "base_uri": "https://localhost:8080/"
    },
    "execution": {
     "iopub.execute_input": "2023-09-15T08:35:03.908978Z",
     "iopub.status.busy": "2023-09-15T08:35:03.908630Z",
     "iopub.status.idle": "2023-09-15T08:35:03.977997Z",
     "shell.execute_reply": "2023-09-15T08:35:03.977063Z",
     "shell.execute_reply.started": "2023-09-15T08:35:03.908928Z"
    },
    "executionInfo": {
     "elapsed": 38,
     "status": "ok",
     "timestamp": 1689669674723,
     "user": {
      "displayName": "Ahmet Mesut BİROL",
      "userId": "04340760882990254267"
     },
     "user_tz": -180
    },
    "id": "Lg_RjRi1lFUa",
    "outputId": "07875158-cf10-45b8-ed76-f166ebe9c583",
    "tags": []
   },
   "outputs": [
    {
     "data": {
      "application/vnd.jupyter.widget-view+json": {
       "model_id": "4d432d7b2562425da3335a5718fc376d",
       "version_major": 2,
       "version_minor": 0
      },
      "text/plain": [
       "VBox()"
      ]
     },
     "metadata": {},
     "output_type": "display_data"
    },
    {
     "data": {
      "application/vnd.jupyter.widget-view+json": {
       "model_id": "",
       "version_major": 2,
       "version_minor": 0
      },
      "text/plain": [
       "FloatProgress(value=0.0, bar_style='info', description='Progress:', layout=Layout(height='25px', width='50%'),…"
      ]
     },
     "metadata": {},
     "output_type": "display_data"
    },
    {
     "name": "stdout",
     "output_type": "stream",
     "text": [
      "neg    16695\n",
      "pos     6821\n",
      "Name: category, dtype: int64"
     ]
    }
   ],
   "source": [
    "ade_df[\"category\"].value_counts()"
   ]
  },
  {
   "cell_type": "code",
   "execution_count": 10,
   "metadata": {
    "colab": {
     "base_uri": "https://localhost:8080/"
    },
    "execution": {
     "iopub.execute_input": "2023-09-15T08:35:03.979365Z",
     "iopub.status.busy": "2023-09-15T08:35:03.979093Z",
     "iopub.status.idle": "2023-09-15T08:35:04.046235Z",
     "shell.execute_reply": "2023-09-15T08:35:04.045478Z",
     "shell.execute_reply.started": "2023-09-15T08:35:03.979323Z"
    },
    "executionInfo": {
     "elapsed": 20,
     "status": "ok",
     "timestamp": 1689669674724,
     "user": {
      "displayName": "Ahmet Mesut BİROL",
      "userId": "04340760882990254267"
     },
     "user_tz": -180
    },
    "id": "wMWdhHvjzGRp",
    "outputId": "0bf88139-6dbf-41c0-9df9-340b25df4154",
    "tags": []
   },
   "outputs": [
    {
     "data": {
      "application/vnd.jupyter.widget-view+json": {
       "model_id": "a98d7a011da04109b987a33e00a06c6d",
       "version_major": 2,
       "version_minor": 0
      },
      "text/plain": [
       "VBox()"
      ]
     },
     "metadata": {},
     "output_type": "display_data"
    },
    {
     "data": {
      "application/vnd.jupyter.widget-view+json": {
       "model_id": "",
       "version_major": 2,
       "version_minor": 0
      },
      "text/plain": [
       "FloatProgress(value=0.0, bar_style='info', description='Progress:', layout=Layout(height='25px', width='50%'),…"
      ]
     },
     "metadata": {},
     "output_type": "display_data"
    },
    {
     "name": "stdout",
     "output_type": "stream",
     "text": [
      "<class 'pandas.core.frame.DataFrame'>\n",
      "Int64Index: 23516 entries, 0 to 6820\n",
      "Data columns (total 2 columns):\n",
      " #   Column    Non-Null Count  Dtype \n",
      "---  ------    --------------  ----- \n",
      " 0   text      23516 non-null  object\n",
      " 1   category  23516 non-null  object\n",
      "dtypes: object(2)\n",
      "memory usage: 551.2+ KB"
     ]
    }
   ],
   "source": [
    "ade_df.info()"
   ]
  },
  {
   "cell_type": "markdown",
   "metadata": {
    "id": "d3QJwfWXYd2-"
   },
   "source": [
    "We take 30% of the data to make a faster run. You can use all data for better scores."
   ]
  },
  {
   "cell_type": "code",
   "execution_count": 11,
   "metadata": {
    "colab": {
     "base_uri": "https://localhost:8080/"
    },
    "execution": {
     "iopub.execute_input": "2023-09-15T08:35:04.047488Z",
     "iopub.status.busy": "2023-09-15T08:35:04.047210Z",
     "iopub.status.idle": "2023-09-15T08:35:15.390230Z",
     "shell.execute_reply": "2023-09-15T08:35:15.389403Z",
     "shell.execute_reply.started": "2023-09-15T08:35:04.047457Z"
    },
    "executionInfo": {
     "elapsed": 5730,
     "status": "ok",
     "timestamp": 1689669680438,
     "user": {
      "displayName": "Ahmet Mesut BİROL",
      "userId": "04340760882990254267"
     },
     "user_tz": -180
    },
    "id": "54RWnCr0yWL5",
    "outputId": "b9d84db9-764c-4460-d646-5197a4fa86ec",
    "tags": []
   },
   "outputs": [
    {
     "data": {
      "application/vnd.jupyter.widget-view+json": {
       "model_id": "16c33b00016c446db3453d1095a8bf39",
       "version_major": 2,
       "version_minor": 0
      },
      "text/plain": [
       "VBox()"
      ]
     },
     "metadata": {},
     "output_type": "display_data"
    },
    {
     "data": {
      "application/vnd.jupyter.widget-view+json": {
       "model_id": "",
       "version_major": 2,
       "version_minor": 0
      },
      "text/plain": [
       "FloatProgress(value=0.0, bar_style='info', description='Progress:', layout=Layout(height='25px', width='50%'),…"
      ]
     },
     "metadata": {},
     "output_type": "display_data"
    },
    {
     "name": "stdout",
     "output_type": "stream",
     "text": [
      "Training Dataset Count: 5552\n",
      "Test Dataset Count: 1454"
     ]
    }
   ],
   "source": [
    "spark_df = spark.createDataFrame(ade_df).sample(0.3, 3) # limit the data\n",
    "\n",
    "trainingData, testData = spark_df.randomSplit([0.8, 0.2], seed = 100)\n",
    "\n",
    "print(\"Training Dataset Count: \" + str(trainingData.count()))\n",
    "print(\"Test Dataset Count: \" + str(testData.count()))"
   ]
  },
  {
   "cell_type": "code",
   "execution_count": 12,
   "metadata": {
    "colab": {
     "base_uri": "https://localhost:8080/"
    },
    "execution": {
     "iopub.execute_input": "2023-09-15T08:35:15.391560Z",
     "iopub.status.busy": "2023-09-15T08:35:15.391279Z",
     "iopub.status.idle": "2023-09-15T08:35:18.338292Z",
     "shell.execute_reply": "2023-09-15T08:35:18.337570Z",
     "shell.execute_reply.started": "2023-09-15T08:35:15.391528Z"
    },
    "executionInfo": {
     "elapsed": 914,
     "status": "ok",
     "timestamp": 1689669681348,
     "user": {
      "displayName": "Ahmet Mesut BİROL",
      "userId": "04340760882990254267"
     },
     "user_tz": -180
    },
    "id": "c3nAmtMmcu_q",
    "outputId": "fa18fb55-138c-4644-8412-fac9aee20835",
    "tags": []
   },
   "outputs": [
    {
     "data": {
      "application/vnd.jupyter.widget-view+json": {
       "model_id": "3229738ba18144f78ffa2e4b9a9e2f88",
       "version_major": 2,
       "version_minor": 0
      },
      "text/plain": [
       "VBox()"
      ]
     },
     "metadata": {},
     "output_type": "display_data"
    },
    {
     "data": {
      "application/vnd.jupyter.widget-view+json": {
       "model_id": "",
       "version_major": 2,
       "version_minor": 0
      },
      "text/plain": [
       "FloatProgress(value=0.0, bar_style='info', description='Progress:', layout=Layout(height='25px', width='50%'),…"
      ]
     },
     "metadata": {},
     "output_type": "display_data"
    },
    {
     "name": "stdout",
     "output_type": "stream",
     "text": [
      "+--------+-----+\n",
      "|category|count|\n",
      "+--------+-----+\n",
      "|     pos| 2002|\n",
      "|     neg| 5004|\n",
      "+--------+-----+"
     ]
    }
   ],
   "source": [
    "spark_df.groupBy(\"category\").count().show()"
   ]
  },
  {
   "cell_type": "code",
   "execution_count": 13,
   "metadata": {
    "colab": {
     "base_uri": "https://localhost:8080/"
    },
    "execution": {
     "iopub.execute_input": "2023-09-15T08:35:18.339545Z",
     "iopub.status.busy": "2023-09-15T08:35:18.339259Z",
     "iopub.status.idle": "2023-09-15T08:35:18.605368Z",
     "shell.execute_reply": "2023-09-15T08:35:18.604664Z",
     "shell.execute_reply.started": "2023-09-15T08:35:18.339512Z"
    },
    "executionInfo": {
     "elapsed": 12,
     "status": "ok",
     "timestamp": 1689669681348,
     "user": {
      "displayName": "Ahmet Mesut BİROL",
      "userId": "04340760882990254267"
     },
     "user_tz": -180
    },
    "id": "UXGiAxzX_RJd",
    "outputId": "b93f8f0d-d939-4dfd-a7f9-9384848df60a",
    "tags": []
   },
   "outputs": [
    {
     "data": {
      "application/vnd.jupyter.widget-view+json": {
       "model_id": "9695f375cbb340b1b992b9709f775b09",
       "version_major": 2,
       "version_minor": 0
      },
      "text/plain": [
       "VBox()"
      ]
     },
     "metadata": {},
     "output_type": "display_data"
    },
    {
     "data": {
      "application/vnd.jupyter.widget-view+json": {
       "model_id": "",
       "version_major": 2,
       "version_minor": 0
      },
      "text/plain": [
       "FloatProgress(value=0.0, bar_style='info', description='Progress:', layout=Layout(height='25px', width='50%'),…"
      ]
     },
     "metadata": {},
     "output_type": "display_data"
    },
    {
     "name": "stdout",
     "output_type": "stream",
     "text": [
      "root\n",
      " |-- text: string (nullable = true)\n",
      " |-- category: string (nullable = true)"
     ]
    }
   ],
   "source": [
    "spark_df.printSchema()"
   ]
  },
  {
   "cell_type": "code",
   "execution_count": 14,
   "metadata": {
    "colab": {
     "base_uri": "https://localhost:8080/"
    },
    "execution": {
     "iopub.execute_input": "2023-09-15T08:35:18.606536Z",
     "iopub.status.busy": "2023-09-15T08:35:18.606324Z",
     "iopub.status.idle": "2023-09-15T08:35:18.872291Z",
     "shell.execute_reply": "2023-09-15T08:35:18.871184Z",
     "shell.execute_reply.started": "2023-09-15T08:35:18.606505Z"
    },
    "executionInfo": {
     "elapsed": 9,
     "status": "ok",
     "timestamp": 1689669681349,
     "user": {
      "displayName": "Ahmet Mesut BİROL",
      "userId": "04340760882990254267"
     },
     "user_tz": -180
    },
    "id": "fnTr4Bs_seoA",
    "outputId": "77a30943-37dc-498b-f4d7-9fec80c67e13",
    "tags": []
   },
   "outputs": [
    {
     "data": {
      "application/vnd.jupyter.widget-view+json": {
       "model_id": "39be6144336f4fdfa8d7c685c6baff42",
       "version_major": 2,
       "version_minor": 0
      },
      "text/plain": [
       "VBox()"
      ]
     },
     "metadata": {},
     "output_type": "display_data"
    },
    {
     "data": {
      "application/vnd.jupyter.widget-view+json": {
       "model_id": "",
       "version_major": 2,
       "version_minor": 0
      },
      "text/plain": [
       "FloatProgress(value=0.0, bar_style='info', description='Progress:', layout=Layout(height='25px', width='50%'),…"
      ]
     },
     "metadata": {},
     "output_type": "display_data"
    },
    {
     "name": "stdout",
     "output_type": "stream",
     "text": [
      "[Row(text=' Clioquinol intoxication occurring in the treatment of acrodermatitis enteropathica with reference to SMON outside of Japan.', category='neg'), Row(text=' A 42-year-old woman had uneventful bilateral laser-assisted subepithelial keratectomy (LASEK) to correct myopia.', category='neg'), Row(text=' A 16-year-old girl with erosive, polyarticular JRA showed no detectable change in her articular disease following nine exchanges.', category='neg')]"
     ]
    }
   ],
   "source": [
    "spark_df.head(3)"
   ]
  },
  {
   "cell_type": "markdown",
   "metadata": {
    "id": "BCAJFO4YDbcj"
   },
   "source": [
    "## 100 Dimension Healthcare Embeddings (embeddings_healthcare_100d)\n",
    "\n"
   ]
  },
  {
   "cell_type": "markdown",
   "metadata": {
    "id": "oDySIR35ECjy"
   },
   "source": [
    "Now we will extract [healthcare_100d embeddings](https://nlp.johnsnowlabs.com/2020/05/29/embeddings_healthcare_100d_en.html) and use it in the classificaiton model training."
   ]
  },
  {
   "cell_type": "code",
   "execution_count": 15,
   "metadata": {
    "colab": {
     "base_uri": "https://localhost:8080/"
    },
    "execution": {
     "iopub.execute_input": "2023-09-15T08:35:18.874146Z",
     "iopub.status.busy": "2023-09-15T08:35:18.873802Z",
     "iopub.status.idle": "2023-09-15T08:35:54.319836Z",
     "shell.execute_reply": "2023-09-15T08:35:54.319081Z",
     "shell.execute_reply.started": "2023-09-15T08:35:18.874094Z"
    },
    "executionInfo": {
     "elapsed": 20107,
     "status": "ok",
     "timestamp": 1689669701452,
     "user": {
      "displayName": "Ahmet Mesut BİROL",
      "userId": "04340760882990254267"
     },
     "user_tz": -180
    },
    "id": "oxFX8bVEDbcj",
    "outputId": "2d74fb84-2f5f-4435-d3b1-436275f07b81",
    "tags": []
   },
   "outputs": [
    {
     "data": {
      "application/vnd.jupyter.widget-view+json": {
       "model_id": "21b20cca879546e3a96203291ea469a6",
       "version_major": 2,
       "version_minor": 0
      },
      "text/plain": [
       "VBox()"
      ]
     },
     "metadata": {},
     "output_type": "display_data"
    },
    {
     "data": {
      "application/vnd.jupyter.widget-view+json": {
       "model_id": "",
       "version_major": 2,
       "version_minor": 0
      },
      "text/plain": [
       "FloatProgress(value=0.0, bar_style='info', description='Progress:', layout=Layout(height='25px', width='50%'),…"
      ]
     },
     "metadata": {},
     "output_type": "display_data"
    },
    {
     "name": "stdout",
     "output_type": "stream",
     "text": [
      "embeddings_healthcare_100d download started this may take some time.\n",
      "Approximate size to download 475.8 MB\n",
      "[OK!]"
     ]
    }
   ],
   "source": [
    "document_assembler = nlp.DocumentAssembler()\\\n",
    "        .setInputCol(\"text\")\\\n",
    "        .setOutputCol(\"document\")\n",
    "\n",
    "tokenizer = nlp.Tokenizer() \\\n",
    "            .setInputCols([\"document\"]) \\\n",
    "            .setOutputCol(\"token\")\n",
    "\n",
    "word_embeddings = nlp.WordEmbeddingsModel.pretrained(\"embeddings_healthcare_100d\",\"en\",\"clinical/models\")\\\n",
    "        .setInputCols([\"document\",\"token\"])\\\n",
    "        .setOutputCol(\"word_embeddings\")\n",
    "\n",
    "sentence_embeddings = nlp.SentenceEmbeddings() \\\n",
    "        .setInputCols([\"document\", \"word_embeddings\"]) \\\n",
    "        .setOutputCol(\"sentence_embeddings\") \\\n",
    "        .setPoolingStrategy(\"AVERAGE\")\n",
    "\n",
    "embeddings_pipeline = nlp.Pipeline(\n",
    "    stages = [\n",
    "        document_assembler,\n",
    "        tokenizer,\n",
    "        word_embeddings,\n",
    "        sentence_embeddings,\n",
    "\n",
    "    ])"
   ]
  },
  {
   "cell_type": "code",
   "execution_count": 16,
   "metadata": {
    "colab": {
     "base_uri": "https://localhost:8080/"
    },
    "execution": {
     "iopub.execute_input": "2023-09-15T08:36:23.566331Z",
     "iopub.status.busy": "2023-09-15T08:36:23.566038Z",
     "iopub.status.idle": "2023-09-15T08:36:28.872819Z",
     "shell.execute_reply": "2023-09-15T08:36:28.872071Z",
     "shell.execute_reply.started": "2023-09-15T08:36:23.566296Z"
    },
    "executionInfo": {
     "elapsed": 1157,
     "status": "ok",
     "timestamp": 1689669702605,
     "user": {
      "displayName": "Ahmet Mesut BİROL",
      "userId": "04340760882990254267"
     },
     "user_tz": -180
    },
    "id": "ihBi5IicDbcj",
    "outputId": "c55b8c16-5e7a-4bc1-9a2e-8af47e808548",
    "tags": []
   },
   "outputs": [
    {
     "data": {
      "application/vnd.jupyter.widget-view+json": {
       "model_id": "23d97db12497461fa118f46e0e767cee",
       "version_major": 2,
       "version_minor": 0
      },
      "text/plain": [
       "VBox()"
      ]
     },
     "metadata": {},
     "output_type": "display_data"
    },
    {
     "data": {
      "application/vnd.jupyter.widget-view+json": {
       "model_id": "",
       "version_major": 2,
       "version_minor": 0
      },
      "text/plain": [
       "FloatProgress(value=0.0, bar_style='info', description='Progress:', layout=Layout(height='25px', width='50%'),…"
      ]
     },
     "metadata": {},
     "output_type": "display_data"
    },
    {
     "name": "stdout",
     "output_type": "stream",
     "text": [
      "+------------------------------------------------------------+--------+------------------------------------------------------------+\n",
      "|                                                        text|category|                                         sentence_embeddings|\n",
      "+------------------------------------------------------------+--------+------------------------------------------------------------+\n",
      "| (4) The acute rehabilitation of a 21-year-old woman with...|     neg|[{sentence_embeddings, 0, 182,  (4) The acute rehabilitat...|\n",
      "| A 16-year-old girl with erosive, polyarticular JRA showe...|     neg|[{sentence_embeddings, 0, 129,  A 16-year-old girl with e...|\n",
      "+------------------------------------------------------------+--------+------------------------------------------------------------+\n",
      "only showing top 2 rows"
     ]
    }
   ],
   "source": [
    "trainingData_with_embeddings = embeddings_pipeline.fit(trainingData).transform(trainingData)\n",
    "trainingData_with_embeddings = trainingData_with_embeddings.select(\"text\",\"category\",\"sentence_embeddings\")\n",
    "trainingData_with_embeddings.show(2,truncate=60)"
   ]
  },
  {
   "cell_type": "code",
   "execution_count": 17,
   "metadata": {
    "colab": {
     "base_uri": "https://localhost:8080/"
    },
    "execution": {
     "iopub.execute_input": "2023-09-15T08:36:30.497041Z",
     "iopub.status.busy": "2023-09-15T08:36:30.496776Z",
     "iopub.status.idle": "2023-09-15T08:36:31.272235Z",
     "shell.execute_reply": "2023-09-15T08:36:31.271421Z",
     "shell.execute_reply.started": "2023-09-15T08:36:30.497008Z"
    },
    "executionInfo": {
     "elapsed": 636,
     "status": "ok",
     "timestamp": 1689669703239,
     "user": {
      "displayName": "Ahmet Mesut BİROL",
      "userId": "04340760882990254267"
     },
     "user_tz": -180
    },
    "id": "yGWfNABSDbck",
    "outputId": "3002cd09-66ac-4f34-d3f8-522d3249e940",
    "tags": []
   },
   "outputs": [
    {
     "data": {
      "application/vnd.jupyter.widget-view+json": {
       "model_id": "3187040f0a4b41eeabfa309d03ad1310",
       "version_major": 2,
       "version_minor": 0
      },
      "text/plain": [
       "VBox()"
      ]
     },
     "metadata": {},
     "output_type": "display_data"
    },
    {
     "data": {
      "application/vnd.jupyter.widget-view+json": {
       "model_id": "",
       "version_major": 2,
       "version_minor": 0
      },
      "text/plain": [
       "FloatProgress(value=0.0, bar_style='info', description='Progress:', layout=Layout(height='25px', width='50%'),…"
      ]
     },
     "metadata": {},
     "output_type": "display_data"
    },
    {
     "name": "stdout",
     "output_type": "stream",
     "text": [
      "+------------------------------------------------------------+--------+------------------------------------------------------------+\n",
      "|                                                        text|category|                                         sentence_embeddings|\n",
      "+------------------------------------------------------------+--------+------------------------------------------------------------+\n",
      "| A 51-year-old-woman presented with chronic eosinophilia,...|     neg|[{sentence_embeddings, 0, 139,  A 51-year-old-woman prese...|\n",
      "| Additionally, their Global Assessment Scale (GAS) score ...|     neg|[{sentence_embeddings, 0, 164,  Additionally, their Globa...|\n",
      "+------------------------------------------------------------+--------+------------------------------------------------------------+\n",
      "only showing top 2 rows"
     ]
    }
   ],
   "source": [
    "testData_with_embeddings = embeddings_pipeline.fit(testData).transform(testData)\n",
    "testData_with_embeddings = testData_with_embeddings.select(\"text\",\"category\",\"sentence_embeddings\")\n",
    "testData_with_embeddings.show(2,truncate=60)"
   ]
  },
  {
   "cell_type": "code",
   "execution_count": 18,
   "metadata": {
    "colab": {
     "base_uri": "https://localhost:8080/"
    },
    "execution": {
     "iopub.execute_input": "2023-09-15T08:36:32.185967Z",
     "iopub.status.busy": "2023-09-15T08:36:32.185684Z",
     "iopub.status.idle": "2023-09-15T08:36:32.288302Z",
     "shell.execute_reply": "2023-09-15T08:36:32.287553Z",
     "shell.execute_reply.started": "2023-09-15T08:36:32.185932Z"
    },
    "executionInfo": {
     "elapsed": 17,
     "status": "ok",
     "timestamp": 1689669703240,
     "user": {
      "displayName": "Ahmet Mesut BİROL",
      "userId": "04340760882990254267"
     },
     "user_tz": -180
    },
    "id": "jC4RxfRuqrj1",
    "outputId": "9af7a816-5547-4459-f382-c0de93ad1593",
    "tags": []
   },
   "outputs": [
    {
     "data": {
      "application/vnd.jupyter.widget-view+json": {
       "model_id": "790d553373754fe9a6812b1b030f4a7c",
       "version_major": 2,
       "version_minor": 0
      },
      "text/plain": [
       "VBox()"
      ]
     },
     "metadata": {},
     "output_type": "display_data"
    },
    {
     "data": {
      "application/vnd.jupyter.widget-view+json": {
       "model_id": "",
       "version_major": 2,
       "version_minor": 0
      },
      "text/plain": [
       "FloatProgress(value=0.0, bar_style='info', description='Progress:', layout=Layout(height='25px', width='50%'),…"
      ]
     },
     "metadata": {},
     "output_type": "display_data"
    },
    {
     "name": "stdout",
     "output_type": "stream",
     "text": [
      "root\n",
      " |-- text: string (nullable = true)\n",
      " |-- category: string (nullable = true)\n",
      " |-- sentence_embeddings: array (nullable = true)\n",
      " |    |-- element: struct (containsNull = true)\n",
      " |    |    |-- annotatorType: string (nullable = true)\n",
      " |    |    |-- begin: integer (nullable = false)\n",
      " |    |    |-- end: integer (nullable = false)\n",
      " |    |    |-- result: string (nullable = true)\n",
      " |    |    |-- metadata: map (nullable = true)\n",
      " |    |    |    |-- key: string\n",
      " |    |    |    |-- value: string (valueContainsNull = true)\n",
      " |    |    |-- embeddings: array (nullable = true)\n",
      " |    |    |    |-- element: float (containsNull = false)"
     ]
    }
   ],
   "source": [
    "testData_with_embeddings.printSchema()"
   ]
  },
  {
   "cell_type": "code",
   "execution_count": 19,
   "metadata": {
    "colab": {
     "base_uri": "https://localhost:8080/"
    },
    "execution": {
     "iopub.execute_input": "2023-09-15T08:36:32.803740Z",
     "iopub.status.busy": "2023-09-15T08:36:32.803448Z",
     "iopub.status.idle": "2023-09-15T08:36:33.244019Z",
     "shell.execute_reply": "2023-09-15T08:36:33.243230Z",
     "shell.execute_reply.started": "2023-09-15T08:36:32.803707Z"
    },
    "executionInfo": {
     "elapsed": 9,
     "status": "ok",
     "timestamp": 1689669703240,
     "user": {
      "displayName": "Ahmet Mesut BİROL",
      "userId": "04340760882990254267"
     },
     "user_tz": -180
    },
    "id": "YfN3PwLxqS4r",
    "outputId": "8a41020b-cac5-4c5b-93aa-472a918d8bbe",
    "tags": []
   },
   "outputs": [
    {
     "data": {
      "application/vnd.jupyter.widget-view+json": {
       "model_id": "cd716b0faeab4a6098525128b6ea9e03",
       "version_major": 2,
       "version_minor": 0
      },
      "text/plain": [
       "VBox()"
      ]
     },
     "metadata": {},
     "output_type": "display_data"
    },
    {
     "data": {
      "application/vnd.jupyter.widget-view+json": {
       "model_id": "",
       "version_major": 2,
       "version_minor": 0
      },
      "text/plain": [
       "FloatProgress(value=0.0, bar_style='info', description='Progress:', layout=Layout(height='25px', width='50%'),…"
      ]
     },
     "metadata": {},
     "output_type": "display_data"
    },
    {
     "name": "stdout",
     "output_type": "stream",
     "text": [
      "+------------------------------------------------------------------------------------------------------------------------+\n",
      "|                                                                                          sentence_embeddings.embeddings|\n",
      "+------------------------------------------------------------------------------------------------------------------------+\n",
      "|[[0.04241796, 0.10478715, 0.042885326, 0.06311753, -0.3185922, 0.046458624, 0.17697075, -0.037831675, -0.01754189, -0...|\n",
      "|[[-0.051357962, -0.014281397, 0.048104603, 0.09546186, -0.115982704, -0.02890453, 0.0554792, -0.09107009, -0.01669618...|\n",
      "|[[0.023146994, -0.048840538, 0.2768485, 0.09796163, -0.13117273, -0.0791464, 0.068399966, -0.04242571, -0.025790978, ...|\n",
      "+------------------------------------------------------------------------------------------------------------------------+\n",
      "only showing top 3 rows"
     ]
    }
   ],
   "source": [
    "testData_with_embeddings.select(testData_with_embeddings.sentence_embeddings.embeddings).show(3,truncate=120)"
   ]
  },
  {
   "cell_type": "code",
   "execution_count": 20,
   "metadata": {
    "execution": {
     "iopub.execute_input": "2023-09-15T08:37:41.438192Z",
     "iopub.status.busy": "2023-09-15T08:37:41.437905Z",
     "iopub.status.idle": "2023-09-15T08:37:41.500094Z",
     "shell.execute_reply": "2023-09-15T08:37:41.499343Z",
     "shell.execute_reply.started": "2023-09-15T08:37:41.438159Z"
    },
    "id": "C4nDUXMnadqo"
   },
   "outputs": [
    {
     "data": {
      "application/vnd.jupyter.widget-view+json": {
       "model_id": "2da45d3fdf2241f1b887a22434ea5587",
       "version_major": 2,
       "version_minor": 0
      },
      "text/plain": [
       "VBox()"
      ]
     },
     "metadata": {},
     "output_type": "display_data"
    },
    {
     "data": {
      "application/vnd.jupyter.widget-view+json": {
       "model_id": "",
       "version_major": 2,
       "version_minor": 0
      },
      "text/plain": [
       "FloatProgress(value=0.0, bar_style='info', description='Progress:', layout=Layout(height='25px', width='50%'),…"
      ]
     },
     "metadata": {},
     "output_type": "display_data"
    }
   ],
   "source": [
    "log_folder=\"/tmp/ADE_logs_healthcare_100d\""
   ]
  },
  {
   "cell_type": "code",
   "execution_count": 21,
   "metadata": {
    "execution": {
     "iopub.execute_input": "2023-09-15T08:37:49.501845Z",
     "iopub.status.busy": "2023-09-15T08:37:49.501563Z",
     "iopub.status.idle": "2023-09-15T08:37:51.545619Z",
     "shell.execute_reply": "2023-09-15T08:37:51.544689Z",
     "shell.execute_reply.started": "2023-09-15T08:37:49.501811Z"
    }
   },
   "outputs": [
    {
     "name": "stderr",
     "output_type": "stream",
     "text": [
      "SLF4J: Class path contains multiple SLF4J bindings.\n",
      "SLF4J: Found binding in [jar:file:/usr/lib/hadoop/lib/slf4j-log4j12-1.7.25.jar!/org/slf4j/impl/StaticLoggerBinder.class]\n",
      "SLF4J: Found binding in [jar:file:/usr/share/aws/emr/emrfs/lib/slf4j-log4j12-1.7.12.jar!/org/slf4j/impl/StaticLoggerBinder.class]\n",
      "SLF4J: See http://www.slf4j.org/codes.html#multiple_bindings for an explanation.\n",
      "SLF4J: Actual binding is of type [org.slf4j.impl.Log4jLoggerFactory]\n"
     ]
    }
   ],
   "source": [
    "%%sh\n",
    "hadoop fs -mkdir /tmp/ADE_logs_healthcare_100d"
   ]
  },
  {
   "cell_type": "markdown",
   "metadata": {
    "id": "Q9MywCqKDbck"
   },
   "source": [
    "### ClassifierDL"
   ]
  },
  {
   "cell_type": "code",
   "execution_count": 22,
   "metadata": {
    "execution": {
     "iopub.execute_input": "2023-09-15T08:37:51.547589Z",
     "iopub.status.busy": "2023-09-15T08:37:51.547252Z",
     "iopub.status.idle": "2023-09-15T08:37:51.817056Z",
     "shell.execute_reply": "2023-09-15T08:37:51.816360Z",
     "shell.execute_reply.started": "2023-09-15T08:37:51.547553Z"
    },
    "id": "EhvRGlkmDbck"
   },
   "outputs": [
    {
     "data": {
      "application/vnd.jupyter.widget-view+json": {
       "model_id": "4f02308761e140c786a009b40aa93990",
       "version_major": 2,
       "version_minor": 0
      },
      "text/plain": [
       "VBox()"
      ]
     },
     "metadata": {},
     "output_type": "display_data"
    },
    {
     "data": {
      "application/vnd.jupyter.widget-view+json": {
       "model_id": "",
       "version_major": 2,
       "version_minor": 0
      },
      "text/plain": [
       "FloatProgress(value=0.0, bar_style='info', description='Progress:', layout=Layout(height='25px', width='50%'),…"
      ]
     },
     "metadata": {},
     "output_type": "display_data"
    }
   ],
   "source": [
    "classifier_dl = nlp.ClassifierDLApproach()\\\n",
    "        .setInputCols([\"sentence_embeddings\"])\\\n",
    "        .setOutputCol(\"prediction\")\\\n",
    "        .setLabelColumn(\"category\")\\\n",
    "        .setBatchSize(16)\\\n",
    "        .setMaxEpochs(30)\\\n",
    "        .setLr(0.002)\\\n",
    "        .setDropout(0.3)\\\n",
    "        .setEnableOutputLogs(True)\\\n",
    "        .setOutputLogsPath(log_folder)\\\n",
    "        # .setValidationSplit(0.1)\n",
    "\n",
    "classifier_dl_pipeline = nlp.Pipeline(\n",
    "    stages = [\n",
    "        classifier_dl\n",
    "    ])"
   ]
  },
  {
   "cell_type": "code",
   "execution_count": 23,
   "metadata": {
    "execution": {
     "iopub.execute_input": "2023-09-15T08:37:54.665433Z",
     "iopub.status.busy": "2023-09-15T08:37:54.665048Z",
     "iopub.status.idle": "2023-09-15T08:39:12.519819Z",
     "shell.execute_reply": "2023-09-15T08:39:12.519003Z",
     "shell.execute_reply.started": "2023-09-15T08:37:54.665397Z"
    },
    "id": "lM7Dpdx7Dbck"
   },
   "outputs": [
    {
     "data": {
      "application/vnd.jupyter.widget-view+json": {
       "model_id": "a6b28fa7571c4975be690e856b07b6d6",
       "version_major": 2,
       "version_minor": 0
      },
      "text/plain": [
       "VBox()"
      ]
     },
     "metadata": {},
     "output_type": "display_data"
    },
    {
     "data": {
      "application/vnd.jupyter.widget-view+json": {
       "model_id": "",
       "version_major": 2,
       "version_minor": 0
      },
      "text/plain": [
       "FloatProgress(value=0.0, bar_style='info', description='Progress:', layout=Layout(height='25px', width='50%'),…"
      ]
     },
     "metadata": {},
     "output_type": "display_data"
    }
   ],
   "source": [
    "clfDL_model_hc100 = classifier_dl_pipeline.fit(trainingData_with_embeddings)"
   ]
  },
  {
   "cell_type": "code",
   "execution_count": 24,
   "metadata": {
    "colab": {
     "base_uri": "https://localhost:8080/"
    },
    "execution": {
     "iopub.execute_input": "2023-09-15T08:39:12.521354Z",
     "iopub.status.busy": "2023-09-15T08:39:12.521130Z",
     "iopub.status.idle": "2023-09-15T08:39:14.710350Z",
     "shell.execute_reply": "2023-09-15T08:39:14.709442Z",
     "shell.execute_reply.started": "2023-09-15T08:39:12.521322Z"
    },
    "executionInfo": {
     "elapsed": 13,
     "status": "ok",
     "timestamp": 1689669749780,
     "user": {
      "displayName": "Ahmet Mesut BİROL",
      "userId": "04340760882990254267"
     },
     "user_tz": -180
    },
    "id": "2UbziPErDbck",
    "outputId": "298e0873-7fd9-4882-a066-6ffa0279e85f"
   },
   "outputs": [
    {
     "name": "stdout",
     "output_type": "stream",
     "text": [
      "Training started - epochs: 30 - learning_rate: 0.002 - batch_size: 16 - training_examples: 5552 - classes: 2\n",
      "Epoch 0/30 - 1.58s - loss: 196.5761 - acc: 0.7678314 - batches: 347\n",
      "Epoch 1/30 - 1.12s - loss: 178.66048 - acc: 0.8182637 - batches: 347\n",
      "Epoch 2/30 - 1.08s - loss: 170.44029 - acc: 0.83987755 - batches: 347\n",
      "Epoch 3/30 - 1.12s - loss: 165.78339 - acc: 0.8490634 - batches: 347\n",
      "Epoch 4/30 - 1.10s - loss: 162.52042 - acc: 0.85320604 - batches: 347\n",
      "Epoch 5/30 - 1.08s - loss: 159.82762 - acc: 0.8582493 - batches: 347\n",
      "Epoch 6/30 - 1.06s - loss: 157.62845 - acc: 0.86401296 - batches: 347\n",
      "Epoch 7/30 - 1.09s - loss: 156.00789 - acc: 0.868696 - batches: 347\n",
      "Epoch 8/30 - 1.05s - loss: 154.74467 - acc: 0.870317 - batches: 347\n",
      "Epoch 9/30 - 1.06s - loss: 153.64116 - acc: 0.87355906 - batches: 347\n",
      "Epoch 10/30 - 1.06s - loss: 152.72308 - acc: 0.8762608 - batches: 347\n",
      "Epoch 11/30 - 1.06s - loss: 151.97086 - acc: 0.8786023 - batches: 347\n",
      "Epoch 12/30 - 1.07s - loss: 151.28969 - acc: 0.8811239 - batches: 347\n",
      "Epoch 13/30 - 1.05s - loss: 150.70058 - acc: 0.88310516 - batches: 347\n",
      "Epoch 14/30 - 1.08s - loss: 150.15282 - acc: 0.88490635 - batches: 347\n",
      "Epoch 15/30 - 1.06s - loss: 149.65646 - acc: 0.88652736 - batches: 347\n",
      "Epoch 16/30 - 1.06s - loss: 149.21477 - acc: 0.8874279 - batches: 347\n",
      "Epoch 17/30 - 1.15s - loss: 148.81125 - acc: 0.88832855 - batches: 347\n",
      "Epoch 18/30 - 1.07s - loss: 148.42958 - acc: 0.8903098 - batches: 347\n",
      "Epoch 19/30 - 1.04s - loss: 148.07207 - acc: 0.89211094 - batches: 347\n",
      "Epoch 20/30 - 1.09s - loss: 147.75282 - acc: 0.8935519 - batches: 347\n",
      "Epoch 21/30 - 1.05s - loss: 147.4454 - acc: 0.8946326 - batches: 347\n",
      "Epoch 22/30 - 1.09s - loss: 147.15878 - acc: 0.89607346 - batches: 347\n",
      "Epoch 23/30 - 1.04s - loss: 146.86336 - acc: 0.8975144 - batches: 347\n",
      "Epoch 24/30 - 1.05s - loss: 146.60434 - acc: 0.89823484 - batches: 347\n",
      "Epoch 25/30 - 1.05s - loss: 146.34912 - acc: 0.89931554 - batches: 347\n",
      "Epoch 26/30 - 1.05s - loss: 146.0759 - acc: 0.90003604 - batches: 347\n",
      "Epoch 27/30 - 1.04s - loss: 145.828 - acc: 0.9009366 - batches: 347\n",
      "Epoch 28/30 - 1.04s - loss: 145.57574 - acc: 0.9020173 - batches: 347\n",
      "Epoch 29/30 - 1.04s - loss: 145.34294 - acc: 0.9025576 - batches: 347\n"
     ]
    },
    {
     "name": "stderr",
     "output_type": "stream",
     "text": [
      "SLF4J: Class path contains multiple SLF4J bindings.\n",
      "SLF4J: Found binding in [jar:file:/usr/lib/hadoop/lib/slf4j-log4j12-1.7.25.jar!/org/slf4j/impl/StaticLoggerBinder.class]\n",
      "SLF4J: Found binding in [jar:file:/usr/share/aws/emr/emrfs/lib/slf4j-log4j12-1.7.12.jar!/org/slf4j/impl/StaticLoggerBinder.class]\n",
      "SLF4J: See http://www.slf4j.org/codes.html#multiple_bindings for an explanation.\n",
      "SLF4J: Actual binding is of type [org.slf4j.impl.Log4jLoggerFactory]\n"
     ]
    }
   ],
   "source": [
    "%%sh\n",
    "hadoop fs -cat /tmp/ADE_logs_healthcare_100d/ClassifierDLApproach_*"
   ]
  },
  {
   "cell_type": "code",
   "execution_count": 25,
   "metadata": {
    "execution": {
     "iopub.execute_input": "2023-09-15T08:39:14.712642Z",
     "iopub.status.busy": "2023-09-15T08:39:14.712390Z",
     "iopub.status.idle": "2023-09-15T08:39:14.983408Z",
     "shell.execute_reply": "2023-09-15T08:39:14.982690Z",
     "shell.execute_reply.started": "2023-09-15T08:39:14.712608Z"
    },
    "id": "w7Wzu_40qH6T"
   },
   "outputs": [
    {
     "data": {
      "application/vnd.jupyter.widget-view+json": {
       "model_id": "fbc4fb00bf3648f4a40880331cb6b020",
       "version_major": 2,
       "version_minor": 0
      },
      "text/plain": [
       "VBox()"
      ]
     },
     "metadata": {},
     "output_type": "display_data"
    },
    {
     "data": {
      "application/vnd.jupyter.widget-view+json": {
       "model_id": "",
       "version_major": 2,
       "version_minor": 0
      },
      "text/plain": [
       "FloatProgress(value=0.0, bar_style='info', description='Progress:', layout=Layout(height='25px', width='50%'),…"
      ]
     },
     "metadata": {},
     "output_type": "display_data"
    }
   ],
   "source": [
    "preds = clfDL_model_hc100.transform(testData_with_embeddings).cache()"
   ]
  },
  {
   "cell_type": "code",
   "execution_count": 26,
   "metadata": {
    "colab": {
     "base_uri": "https://localhost:8080/"
    },
    "execution": {
     "iopub.execute_input": "2023-09-15T08:39:14.984779Z",
     "iopub.status.busy": "2023-09-15T08:39:14.984538Z",
     "iopub.status.idle": "2023-09-15T08:39:22.290693Z",
     "shell.execute_reply": "2023-09-15T08:39:22.289970Z",
     "shell.execute_reply.started": "2023-09-15T08:39:14.984724Z"
    },
    "executionInfo": {
     "elapsed": 3178,
     "status": "ok",
     "timestamp": 1689669752954,
     "user": {
      "displayName": "Ahmet Mesut BİROL",
      "userId": "04340760882990254267"
     },
     "user_tz": -180
    },
    "id": "oeqPLNbZvuJQ",
    "outputId": "407b99fa-6008-4934-956d-8d3640a8a32f"
   },
   "outputs": [
    {
     "data": {
      "application/vnd.jupyter.widget-view+json": {
       "model_id": "cf51745caf724962a9bafb08ed95bc60",
       "version_major": 2,
       "version_minor": 0
      },
      "text/plain": [
       "VBox()"
      ]
     },
     "metadata": {},
     "output_type": "display_data"
    },
    {
     "data": {
      "application/vnd.jupyter.widget-view+json": {
       "model_id": "",
       "version_major": 2,
       "version_minor": 0
      },
      "text/plain": [
       "FloatProgress(value=0.0, bar_style='info', description='Progress:', layout=Layout(height='25px', width='50%'),…"
      ]
     },
     "metadata": {},
     "output_type": "display_data"
    },
    {
     "name": "stdout",
     "output_type": "stream",
     "text": [
      "root\n",
      " |-- text: string (nullable = true)\n",
      " |-- category: string (nullable = true)\n",
      " |-- sentence_embeddings: array (nullable = true)\n",
      " |    |-- element: struct (containsNull = true)\n",
      " |    |    |-- annotatorType: string (nullable = true)\n",
      " |    |    |-- begin: integer (nullable = false)\n",
      " |    |    |-- end: integer (nullable = false)\n",
      " |    |    |-- result: string (nullable = true)\n",
      " |    |    |-- metadata: map (nullable = true)\n",
      " |    |    |    |-- key: string\n",
      " |    |    |    |-- value: string (valueContainsNull = true)\n",
      " |    |    |-- embeddings: array (nullable = true)\n",
      " |    |    |    |-- element: float (containsNull = false)\n",
      " |-- prediction: array (nullable = true)\n",
      " |    |-- element: struct (containsNull = true)\n",
      " |    |    |-- annotatorType: string (nullable = true)\n",
      " |    |    |-- begin: integer (nullable = false)\n",
      " |    |    |-- end: integer (nullable = false)\n",
      " |    |    |-- result: string (nullable = true)\n",
      " |    |    |-- metadata: map (nullable = true)\n",
      " |    |    |    |-- key: string\n",
      " |    |    |    |-- value: string (valueContainsNull = true)\n",
      " |    |    |-- embeddings: array (nullable = true)\n",
      " |    |    |    |-- element: float (containsNull = false)\n",
      "\n",
      "+-------------------------------------------------------------------------------------+\n",
      "|prediction                                                                           |\n",
      "+-------------------------------------------------------------------------------------+\n",
      "|[{category, 0, 139, neg, {sentence -> 0, pos -> 1.3661368E-5, neg -> 0.9999863}, []}]|\n",
      "|[{category, 0, 164, neg, {sentence -> 0, pos -> 3.104671E-7, neg -> 0.99999964}, []}]|\n",
      "|[{category, 0, 155, neg, {sentence -> 0, pos -> 2.701735E-12, neg -> 1.0}, []}]      |\n",
      "|[{category, 0, 99, neg, {sentence -> 0, pos -> 0.0022281883, neg -> 0.9977718}, []}] |\n",
      "|[{category, 0, 89, neg, {sentence -> 0, pos -> 5.90272E-8, neg -> 1.0}, []}]         |\n",
      "+-------------------------------------------------------------------------------------+\n",
      "only showing top 5 rows\n",
      "\n",
      "+--------+-----------------+\n",
      "|category|prediction.result|\n",
      "+--------+-----------------+\n",
      "|neg     |[neg]            |\n",
      "|neg     |[neg]            |\n",
      "|neg     |[neg]            |\n",
      "|neg     |[neg]            |\n",
      "|neg     |[neg]            |\n",
      "+--------+-----------------+\n",
      "only showing top 5 rows"
     ]
    }
   ],
   "source": [
    "preds.printSchema()\n",
    "preds.select(preds.prediction).show(5, truncate=False)\n",
    "preds.select(preds.category, preds.prediction.result).show(5, truncate=False)"
   ]
  },
  {
   "cell_type": "code",
   "execution_count": 27,
   "metadata": {
    "colab": {
     "base_uri": "https://localhost:8080/"
    },
    "execution": {
     "iopub.execute_input": "2023-09-15T08:39:22.292013Z",
     "iopub.status.busy": "2023-09-15T08:39:22.291777Z",
     "iopub.status.idle": "2023-09-15T08:39:24.588344Z",
     "shell.execute_reply": "2023-09-15T08:39:24.587568Z",
     "shell.execute_reply.started": "2023-09-15T08:39:22.291981Z"
    },
    "executionInfo": {
     "elapsed": 474,
     "status": "ok",
     "timestamp": 1689669753424,
     "user": {
      "displayName": "Ahmet Mesut BİROL",
      "userId": "04340760882990254267"
     },
     "user_tz": -180
    },
    "id": "l0yEqGcJDbck",
    "outputId": "c95a4f1c-2c49-4e70-8789-08835d723d8e"
   },
   "outputs": [
    {
     "data": {
      "application/vnd.jupyter.widget-view+json": {
       "model_id": "30ab53cdb7714a40b8c47f3a032e1afa",
       "version_major": 2,
       "version_minor": 0
      },
      "text/plain": [
       "VBox()"
      ]
     },
     "metadata": {},
     "output_type": "display_data"
    },
    {
     "data": {
      "application/vnd.jupyter.widget-view+json": {
       "model_id": "",
       "version_major": 2,
       "version_minor": 0
      },
      "text/plain": [
       "FloatProgress(value=0.0, bar_style='info', description='Progress:', layout=Layout(height='25px', width='50%'),…"
      ]
     },
     "metadata": {},
     "output_type": "display_data"
    },
    {
     "name": "stdout",
     "output_type": "stream",
     "text": [
      "              precision    recall  f1-score   support\n",
      "\n",
      "         neg       0.86      0.90      0.88      1031\n",
      "         pos       0.72      0.63      0.67       423\n",
      "\n",
      "    accuracy                           0.82      1454\n",
      "   macro avg       0.79      0.76      0.78      1454\n",
      "weighted avg       0.82      0.82      0.82      1454"
     ]
    }
   ],
   "source": [
    "preds_df = preds.select(\"category\",\"text\",\"prediction.result\").toPandas()\n",
    "preds_df[\"result\"] = preds_df[\"result\"].apply(lambda x : x[0])\n",
    "\n",
    "print (classification_report(preds_df[\"category\"], preds_df[\"result\"]))"
   ]
  },
  {
   "cell_type": "code",
   "execution_count": 28,
   "metadata": {
    "colab": {
     "base_uri": "https://localhost:8080/",
     "height": 81
    },
    "execution": {
     "iopub.execute_input": "2023-09-15T08:39:24.589731Z",
     "iopub.status.busy": "2023-09-15T08:39:24.589503Z",
     "iopub.status.idle": "2023-09-15T08:39:24.833389Z",
     "shell.execute_reply": "2023-09-15T08:39:24.832665Z",
     "shell.execute_reply.started": "2023-09-15T08:39:24.589701Z"
    },
    "executionInfo": {
     "elapsed": 477,
     "status": "ok",
     "timestamp": 1689669753896,
     "user": {
      "displayName": "Ahmet Mesut BİROL",
      "userId": "04340760882990254267"
     },
     "user_tz": -180
    },
    "id": "plDgtjcK54CV",
    "outputId": "acb02e5d-1924-4017-8c8d-f1775ea24041"
   },
   "outputs": [
    {
     "data": {
      "application/vnd.jupyter.widget-view+json": {
       "model_id": "cd1baf3e80f84a739badfa5468c6cfd3",
       "version_major": 2,
       "version_minor": 0
      },
      "text/plain": [
       "VBox()"
      ]
     },
     "metadata": {},
     "output_type": "display_data"
    },
    {
     "data": {
      "application/vnd.jupyter.widget-view+json": {
       "model_id": "",
       "version_major": 2,
       "version_minor": 0
      },
      "text/plain": [
       "FloatProgress(value=0.0, bar_style='info', description='Progress:', layout=Layout(height='25px', width='50%'),…"
      ]
     },
     "metadata": {},
     "output_type": "display_data"
    },
    {
     "name": "stdout",
     "output_type": "stream",
     "text": [
      "                   pos-f1-score  accuracy\n",
      "ClassifierDL_100d      0.672566  0.821871"
     ]
    }
   ],
   "source": [
    "res = classification_report(preds_df[\"category\"], preds_df[\"result\"], output_dict=True)\n",
    "results_df = pd.DataFrame(columns=[\"pos-f1-score\",\"accuracy\"])\n",
    "results_df.loc[\"ClassifierDL_100d\"] = [res[\"pos\"][\"f1-score\"], res[\"accuracy\"]]\n",
    "results_df"
   ]
  },
  {
   "cell_type": "markdown",
   "metadata": {
    "id": "3NRB48Jd8PBL"
   },
   "source": [
    "### MultiClassifierDL"
   ]
  },
  {
   "cell_type": "markdown",
   "metadata": {
    "id": "fHNzlFhIi1IU"
   },
   "source": [
    "We will use MultiClassifierDL built by using Bidirectional GRU and CNNs inside TensorFlow that supports up to 100 classes. It is designed for multi-label classification purposes. Here we will use MultiClassifierDL as a binary classifier."
   ]
  },
  {
   "cell_type": "code",
   "execution_count": 29,
   "metadata": {
    "execution": {
     "iopub.execute_input": "2023-09-15T08:40:37.191866Z",
     "iopub.status.busy": "2023-09-15T08:40:37.191586Z",
     "iopub.status.idle": "2023-09-15T08:40:37.458010Z",
     "shell.execute_reply": "2023-09-15T08:40:37.457299Z",
     "shell.execute_reply.started": "2023-09-15T08:40:37.191832Z"
    },
    "id": "H7BFPBvBkRXm"
   },
   "outputs": [
    {
     "data": {
      "application/vnd.jupyter.widget-view+json": {
       "model_id": "4e6255b8ddde406384b4301eb77d495e",
       "version_major": 2,
       "version_minor": 0
      },
      "text/plain": [
       "VBox()"
      ]
     },
     "metadata": {},
     "output_type": "display_data"
    },
    {
     "data": {
      "application/vnd.jupyter.widget-view+json": {
       "model_id": "",
       "version_major": 2,
       "version_minor": 0
      },
      "text/plain": [
       "FloatProgress(value=0.0, bar_style='info', description='Progress:', layout=Layout(height='25px', width='50%'),…"
      ]
     },
     "metadata": {},
     "output_type": "display_data"
    }
   ],
   "source": [
    "# MultiClassifierDL accepts list of strings as input label. So we convert label column to array type.\n",
    "trainingData_with_embeddings = trainingData_with_embeddings.withColumn(\"category_array\", F.array(F.col(\"category\")))\n",
    "testData_with_embeddings = testData_with_embeddings.withColumn(\"category_array\", F.array(F.col(\"category\")))"
   ]
  },
  {
   "cell_type": "code",
   "execution_count": 30,
   "metadata": {
    "execution": {
     "iopub.execute_input": "2023-09-15T08:40:45.280768Z",
     "iopub.status.busy": "2023-09-15T08:40:45.280491Z",
     "iopub.status.idle": "2023-09-15T08:40:45.336353Z",
     "shell.execute_reply": "2023-09-15T08:40:45.335629Z",
     "shell.execute_reply.started": "2023-09-15T08:40:45.280735Z"
    },
    "id": "qfayOhW1QGuZ"
   },
   "outputs": [
    {
     "data": {
      "application/vnd.jupyter.widget-view+json": {
       "model_id": "179c1355980c486c8ad802e3d8e1195e",
       "version_major": 2,
       "version_minor": 0
      },
      "text/plain": [
       "VBox()"
      ]
     },
     "metadata": {},
     "output_type": "display_data"
    },
    {
     "data": {
      "application/vnd.jupyter.widget-view+json": {
       "model_id": "",
       "version_major": 2,
       "version_minor": 0
      },
      "text/plain": [
       "FloatProgress(value=0.0, bar_style='info', description='Progress:', layout=Layout(height='25px', width='50%'),…"
      ]
     },
     "metadata": {},
     "output_type": "display_data"
    }
   ],
   "source": [
    "multiClassifier = nlp.MultiClassifierDLApproach()\\\n",
    "  .setInputCols(\"sentence_embeddings\")\\\n",
    "  .setOutputCol(\"prediction\")\\\n",
    "  .setLabelColumn(\"category_array\")\\\n",
    "  .setBatchSize(16)\\\n",
    "  .setMaxEpochs(20)\\\n",
    "  .setLr(9e-3)\\\n",
    "  .setThreshold(0.5)\\\n",
    "  .setShufflePerEpoch(False)\\\n",
    "  .setEnableOutputLogs(True)\\\n",
    "  .setOutputLogsPath(log_folder)\\\n",
    "#   .setValidationSplit(0.1)\n",
    "\n",
    "multiClassifier_pipeline = nlp.Pipeline(\n",
    "    stages = [\n",
    "        multiClassifier\n",
    "    ])"
   ]
  },
  {
   "cell_type": "code",
   "execution_count": 31,
   "metadata": {
    "execution": {
     "iopub.execute_input": "2023-09-15T08:40:46.478968Z",
     "iopub.status.busy": "2023-09-15T08:40:46.478704Z",
     "iopub.status.idle": "2023-09-15T08:42:24.849760Z",
     "shell.execute_reply": "2023-09-15T08:42:24.849062Z",
     "shell.execute_reply.started": "2023-09-15T08:40:46.478936Z"
    },
    "id": "uis9foJpQ56_"
   },
   "outputs": [
    {
     "data": {
      "application/vnd.jupyter.widget-view+json": {
       "model_id": "0301c0df9df74445a36f56b5a99f408e",
       "version_major": 2,
       "version_minor": 0
      },
      "text/plain": [
       "VBox()"
      ]
     },
     "metadata": {},
     "output_type": "display_data"
    },
    {
     "data": {
      "application/vnd.jupyter.widget-view+json": {
       "model_id": "",
       "version_major": 2,
       "version_minor": 0
      },
      "text/plain": [
       "FloatProgress(value=0.0, bar_style='info', description='Progress:', layout=Layout(height='25px', width='50%'),…"
      ]
     },
     "metadata": {},
     "output_type": "display_data"
    }
   ],
   "source": [
    "multiClassifier_model_hc100 = multiClassifier_pipeline.fit(trainingData_with_embeddings)"
   ]
  },
  {
   "cell_type": "code",
   "execution_count": 32,
   "metadata": {
    "colab": {
     "base_uri": "https://localhost:8080/"
    },
    "execution": {
     "iopub.execute_input": "2023-09-15T08:42:24.851154Z",
     "iopub.status.busy": "2023-09-15T08:42:24.850933Z",
     "iopub.status.idle": "2023-09-15T08:42:26.982604Z",
     "shell.execute_reply": "2023-09-15T08:42:26.981768Z",
     "shell.execute_reply.started": "2023-09-15T08:42:24.851123Z"
    },
    "executionInfo": {
     "elapsed": 39,
     "status": "ok",
     "timestamp": 1689669839825,
     "user": {
      "displayName": "Ahmet Mesut BİROL",
      "userId": "04340760882990254267"
     },
     "user_tz": -180
    },
    "id": "oZ4muaEcQ56_",
    "outputId": "46055ac8-312c-476a-d77b-45f0b84c20be"
   },
   "outputs": [
    {
     "name": "stdout",
     "output_type": "stream",
     "text": [
      "Training started - epochs: 20 - learning_rate: 0.009 - batch_size: 16 - training_examples: 5552 - classes: 2\n",
      "Epoch 0/20 - 6.45s - loss: 0.51096046 - acc: 0.7431556 - batches: 347\n",
      "Epoch 1/20 - 2.18s - loss: 0.44683927 - acc: 0.7823307 - batches: 347\n",
      "Epoch 2/20 - 2.19s - loss: 0.41658133 - acc: 0.8006124 - batches: 347\n",
      "Epoch 3/20 - 2.19s - loss: 0.39496046 - acc: 0.8125 - batches: 347\n",
      "Epoch 4/20 - 2.20s - loss: 0.37632382 - acc: 0.82582855 - batches: 347\n",
      "Epoch 5/20 - 2.15s - loss: 0.36035827 - acc: 0.8337536 - batches: 347\n",
      "Epoch 6/20 - 2.14s - loss: 0.34597775 - acc: 0.8434798 - batches: 347\n",
      "Epoch 7/20 - 2.10s - loss: 0.33060083 - acc: 0.84789264 - batches: 347\n",
      "Epoch 8/20 - 2.19s - loss: 0.31673864 - acc: 0.8573487 - batches: 347\n",
      "Epoch 9/20 - 2.20s - loss: 0.30340043 - acc: 0.86374277 - batches: 347\n",
      "Epoch 10/20 - 2.10s - loss: 0.2889029 - acc: 0.87193805 - batches: 347\n",
      "Epoch 11/20 - 2.11s - loss: 0.2746806 - acc: 0.8803134 - batches: 347\n",
      "Epoch 12/20 - 2.15s - loss: 0.26032013 - acc: 0.885897 - batches: 347\n",
      "Epoch 13/20 - 2.20s - loss: 0.24620323 - acc: 0.89472264 - batches: 347\n",
      "Epoch 14/20 - 2.16s - loss: 0.2328383 - acc: 0.90084654 - batches: 347\n",
      "Epoch 15/20 - 2.07s - loss: 0.21926148 - acc: 0.9065202 - batches: 347\n",
      "Epoch 16/20 - 2.06s - loss: 0.20724669 - acc: 0.9113833 - batches: 347\n",
      "Epoch 17/20 - 2.08s - loss: 0.19265349 - acc: 0.9194885 - batches: 347\n",
      "Epoch 18/20 - 2.07s - loss: 0.17771506 - acc: 0.9276837 - batches: 347\n",
      "Epoch 19/20 - 2.07s - loss: 0.16489702 - acc: 0.93416786 - batches: 347\n"
     ]
    },
    {
     "name": "stderr",
     "output_type": "stream",
     "text": [
      "SLF4J: Class path contains multiple SLF4J bindings.\n",
      "SLF4J: Found binding in [jar:file:/usr/lib/hadoop/lib/slf4j-log4j12-1.7.25.jar!/org/slf4j/impl/StaticLoggerBinder.class]\n",
      "SLF4J: Found binding in [jar:file:/usr/share/aws/emr/emrfs/lib/slf4j-log4j12-1.7.12.jar!/org/slf4j/impl/StaticLoggerBinder.class]\n",
      "SLF4J: See http://www.slf4j.org/codes.html#multiple_bindings for an explanation.\n",
      "SLF4J: Actual binding is of type [org.slf4j.impl.Log4jLoggerFactory]\n"
     ]
    }
   ],
   "source": [
    "%%sh\n",
    "hadoop fs -cat /tmp/ADE_logs_healthcare_100d/MultiClassifierDLApproach_*"
   ]
  },
  {
   "cell_type": "code",
   "execution_count": 33,
   "metadata": {
    "execution": {
     "iopub.execute_input": "2023-09-15T08:42:26.984517Z",
     "iopub.status.busy": "2023-09-15T08:42:26.984297Z",
     "iopub.status.idle": "2023-09-15T08:42:27.251254Z",
     "shell.execute_reply": "2023-09-15T08:42:27.250562Z",
     "shell.execute_reply.started": "2023-09-15T08:42:26.984484Z"
    },
    "id": "aU71yDTEQ57A"
   },
   "outputs": [
    {
     "data": {
      "application/vnd.jupyter.widget-view+json": {
       "model_id": "53e8ea115ba443719df6fcf6f5fa5d2d",
       "version_major": 2,
       "version_minor": 0
      },
      "text/plain": [
       "VBox()"
      ]
     },
     "metadata": {},
     "output_type": "display_data"
    },
    {
     "data": {
      "application/vnd.jupyter.widget-view+json": {
       "model_id": "",
       "version_major": 2,
       "version_minor": 0
      },
      "text/plain": [
       "FloatProgress(value=0.0, bar_style='info', description='Progress:', layout=Layout(height='25px', width='50%'),…"
      ]
     },
     "metadata": {},
     "output_type": "display_data"
    }
   ],
   "source": [
    "preds = multiClassifier_model_hc100.transform(testData_with_embeddings).cache()"
   ]
  },
  {
   "cell_type": "code",
   "execution_count": 34,
   "metadata": {
    "colab": {
     "base_uri": "https://localhost:8080/"
    },
    "execution": {
     "iopub.execute_input": "2023-09-15T08:42:27.252537Z",
     "iopub.status.busy": "2023-09-15T08:42:27.252322Z",
     "iopub.status.idle": "2023-09-15T08:42:46.597492Z",
     "shell.execute_reply": "2023-09-15T08:42:46.596614Z",
     "shell.execute_reply.started": "2023-09-15T08:42:27.252507Z"
    },
    "executionInfo": {
     "elapsed": 17578,
     "status": "ok",
     "timestamp": 1689669857382,
     "user": {
      "displayName": "Ahmet Mesut BİROL",
      "userId": "04340760882990254267"
     },
     "user_tz": -180
    },
    "id": "sMqK2PTaQ57A",
    "outputId": "ab95adba-c6b7-4362-f704-78d07b6ab026"
   },
   "outputs": [
    {
     "data": {
      "application/vnd.jupyter.widget-view+json": {
       "model_id": "f8bda21ef106478c8d29d089f678c81f",
       "version_major": 2,
       "version_minor": 0
      },
      "text/plain": [
       "VBox()"
      ]
     },
     "metadata": {},
     "output_type": "display_data"
    },
    {
     "data": {
      "application/vnd.jupyter.widget-view+json": {
       "model_id": "",
       "version_major": 2,
       "version_minor": 0
      },
      "text/plain": [
       "FloatProgress(value=0.0, bar_style='info', description='Progress:', layout=Layout(height='25px', width='50%'),…"
      ]
     },
     "metadata": {},
     "output_type": "display_data"
    },
    {
     "name": "stdout",
     "output_type": "stream",
     "text": [
      "root\n",
      " |-- text: string (nullable = true)\n",
      " |-- category: string (nullable = true)\n",
      " |-- sentence_embeddings: array (nullable = true)\n",
      " |    |-- element: struct (containsNull = true)\n",
      " |    |    |-- annotatorType: string (nullable = true)\n",
      " |    |    |-- begin: integer (nullable = false)\n",
      " |    |    |-- end: integer (nullable = false)\n",
      " |    |    |-- result: string (nullable = true)\n",
      " |    |    |-- metadata: map (nullable = true)\n",
      " |    |    |    |-- key: string\n",
      " |    |    |    |-- value: string (valueContainsNull = true)\n",
      " |    |    |-- embeddings: array (nullable = true)\n",
      " |    |    |    |-- element: float (containsNull = false)\n",
      " |-- category_array: array (nullable = false)\n",
      " |    |-- element: string (containsNull = true)\n",
      " |-- prediction: array (nullable = true)\n",
      " |    |-- element: struct (containsNull = true)\n",
      " |    |    |-- annotatorType: string (nullable = true)\n",
      " |    |    |-- begin: integer (nullable = false)\n",
      " |    |    |-- end: integer (nullable = false)\n",
      " |    |    |-- result: string (nullable = true)\n",
      " |    |    |-- metadata: map (nullable = true)\n",
      " |    |    |    |-- key: string\n",
      " |    |    |    |-- value: string (valueContainsNull = true)\n",
      " |    |    |-- embeddings: array (nullable = true)\n",
      " |    |    |    |-- element: float (containsNull = false)\n",
      "\n",
      "+-----------------------------------------------------------------------------------+\n",
      "|prediction                                                                         |\n",
      "+-----------------------------------------------------------------------------------+\n",
      "|[{category, 0, 139, neg, {sentence -> 0, pos -> 0.1455485, neg -> 0.8540044}, []}] |\n",
      "|[{category, 0, 164, neg, {sentence -> 0, pos -> 2.3042794E-8, neg -> 1.0}, []}]    |\n",
      "|[{category, 0, 155, neg, {sentence -> 0, pos -> 1.2124623E-12, neg -> 1.0}, []}]   |\n",
      "|[{category, 0, 99, neg, {sentence -> 0, pos -> 0.06126657, neg -> 0.9387322}, []}] |\n",
      "|[{category, 0, 89, neg, {sentence -> 0, pos -> 7.865769E-7, neg -> 0.9999993}, []}]|\n",
      "+-----------------------------------------------------------------------------------+\n",
      "only showing top 5 rows\n",
      "\n",
      "+--------------+-----------------+\n",
      "|category_array|prediction.result|\n",
      "+--------------+-----------------+\n",
      "|[neg]         |[neg]            |\n",
      "|[neg]         |[neg]            |\n",
      "|[neg]         |[neg]            |\n",
      "|[neg]         |[neg]            |\n",
      "|[neg]         |[neg]            |\n",
      "+--------------+-----------------+\n",
      "only showing top 5 rows"
     ]
    }
   ],
   "source": [
    "preds.printSchema()\n",
    "preds.select(preds.prediction).show(5, truncate=False)\n",
    "preds.select(preds.category_array, preds.prediction.result).show(5, truncate=False)"
   ]
  },
  {
   "cell_type": "code",
   "execution_count": 35,
   "metadata": {
    "colab": {
     "base_uri": "https://localhost:8080/"
    },
    "execution": {
     "iopub.execute_input": "2023-09-15T08:42:46.599131Z",
     "iopub.status.busy": "2023-09-15T08:42:46.598907Z",
     "iopub.status.idle": "2023-09-15T08:42:48.882035Z",
     "shell.execute_reply": "2023-09-15T08:42:48.881316Z",
     "shell.execute_reply.started": "2023-09-15T08:42:46.599101Z"
    },
    "executionInfo": {
     "elapsed": 569,
     "status": "ok",
     "timestamp": 1689669857943,
     "user": {
      "displayName": "Ahmet Mesut BİROL",
      "userId": "04340760882990254267"
     },
     "user_tz": -180
    },
    "id": "fdYjuIgznI9H",
    "outputId": "0843dc6c-70ed-4334-dd5b-38f9148a6eb6"
   },
   "outputs": [
    {
     "data": {
      "application/vnd.jupyter.widget-view+json": {
       "model_id": "0f930d99fc37450980078023b1fd98e3",
       "version_major": 2,
       "version_minor": 0
      },
      "text/plain": [
       "VBox()"
      ]
     },
     "metadata": {},
     "output_type": "display_data"
    },
    {
     "data": {
      "application/vnd.jupyter.widget-view+json": {
       "model_id": "",
       "version_major": 2,
       "version_minor": 0
      },
      "text/plain": [
       "FloatProgress(value=0.0, bar_style='info', description='Progress:', layout=Layout(height='25px', width='50%'),…"
      ]
     },
     "metadata": {},
     "output_type": "display_data"
    },
    {
     "name": "stdout",
     "output_type": "stream",
     "text": [
      "['neg']    1021\n",
      "['pos']     432\n",
      "[]            1\n",
      "Name: result, dtype: int64"
     ]
    }
   ],
   "source": [
    "preds_df = preds.select(\"category\",\"text\",\"prediction.result\",\"prediction.metadata\").toPandas()\n",
    "preds_df.result.apply(lambda x: str(x) ).value_counts()"
   ]
  },
  {
   "cell_type": "code",
   "execution_count": 36,
   "metadata": {
    "colab": {
     "base_uri": "https://localhost:8080/",
     "height": 49
    },
    "execution": {
     "iopub.execute_input": "2023-09-15T08:42:48.883519Z",
     "iopub.status.busy": "2023-09-15T08:42:48.883272Z",
     "iopub.status.idle": "2023-09-15T08:42:48.960675Z",
     "shell.execute_reply": "2023-09-15T08:42:48.959907Z",
     "shell.execute_reply.started": "2023-09-15T08:42:48.883487Z"
    },
    "executionInfo": {
     "elapsed": 22,
     "status": "ok",
     "timestamp": 1689669857944,
     "user": {
      "displayName": "Ahmet Mesut BİROL",
      "userId": "04340760882990254267"
     },
     "user_tz": -180
    },
    "id": "s52SZO6k2nu7",
    "outputId": "ee478bfe-e791-4b78-e1f9-35e9dbcfa1eb"
   },
   "outputs": [
    {
     "data": {
      "application/vnd.jupyter.widget-view+json": {
       "model_id": "1f947c83e45e408494355724c2af382c",
       "version_major": 2,
       "version_minor": 0
      },
      "text/plain": [
       "VBox()"
      ]
     },
     "metadata": {},
     "output_type": "display_data"
    },
    {
     "data": {
      "application/vnd.jupyter.widget-view+json": {
       "model_id": "",
       "version_major": 2,
       "version_minor": 0
      },
      "text/plain": [
       "FloatProgress(value=0.0, bar_style='info', description='Progress:', layout=Layout(height='25px', width='50%'),…"
      ]
     },
     "metadata": {},
     "output_type": "display_data"
    },
    {
     "name": "stdout",
     "output_type": "stream",
     "text": [
      "Empty DataFrame\n",
      "Columns: [category, text, result, metadata]\n",
      "Index: []"
     ]
    }
   ],
   "source": [
    "preds_df[preds_df.result.apply(len)==2]"
   ]
  },
  {
   "cell_type": "code",
   "execution_count": 37,
   "metadata": {
    "colab": {
     "base_uri": "https://localhost:8080/",
     "height": 81
    },
    "execution": {
     "iopub.execute_input": "2023-09-15T08:42:48.961990Z",
     "iopub.status.busy": "2023-09-15T08:42:48.961759Z",
     "iopub.status.idle": "2023-09-15T08:42:49.180205Z",
     "shell.execute_reply": "2023-09-15T08:42:49.179307Z",
     "shell.execute_reply.started": "2023-09-15T08:42:48.961958Z"
    },
    "executionInfo": {
     "elapsed": 21,
     "status": "ok",
     "timestamp": 1689669857945,
     "user": {
      "displayName": "Ahmet Mesut BİROL",
      "userId": "04340760882990254267"
     },
     "user_tz": -180
    },
    "id": "F64-vahk3MQn",
    "outputId": "7f1a8191-e0d6-4cdf-96c3-7abf970e943e"
   },
   "outputs": [
    {
     "data": {
      "application/vnd.jupyter.widget-view+json": {
       "model_id": "5d53ef89ece8440b8731ce46654acb81",
       "version_major": 2,
       "version_minor": 0
      },
      "text/plain": [
       "VBox()"
      ]
     },
     "metadata": {},
     "output_type": "display_data"
    },
    {
     "data": {
      "application/vnd.jupyter.widget-view+json": {
       "model_id": "",
       "version_major": 2,
       "version_minor": 0
      },
      "text/plain": [
       "FloatProgress(value=0.0, bar_style='info', description='Progress:', layout=Layout(height='25px', width='50%'),…"
      ]
     },
     "metadata": {},
     "output_type": "display_data"
    },
    {
     "name": "stdout",
     "output_type": "stream",
     "text": [
      "    category                                               text result metadata\n",
      "365      neg   However, five patients showed delayed 30-Hz f...     []       []"
     ]
    }
   ],
   "source": [
    "preds_df[preds_df.result.apply(len)==0]"
   ]
  },
  {
   "cell_type": "markdown",
   "metadata": {
    "id": "yPS9qyw-nYJN"
   },
   "source": [
    "MultiClassifierDL is a multi-label classifier, so some predictions may include both labels or none of the labels. That can be controlled a bit with `.setThreshold()` parameter during training. For now we will not keep zero label predictions and get the highest score as prediction."
   ]
  },
  {
   "cell_type": "code",
   "execution_count": 38,
   "metadata": {
    "colab": {
     "base_uri": "https://localhost:8080/"
    },
    "execution": {
     "iopub.execute_input": "2023-09-15T08:42:49.182248Z",
     "iopub.status.busy": "2023-09-15T08:42:49.182025Z",
     "iopub.status.idle": "2023-09-15T08:42:49.241617Z",
     "shell.execute_reply": "2023-09-15T08:42:49.240920Z",
     "shell.execute_reply.started": "2023-09-15T08:42:49.182217Z"
    },
    "executionInfo": {
     "elapsed": 21,
     "status": "ok",
     "timestamp": 1689669857946,
     "user": {
      "displayName": "Ahmet Mesut BİROL",
      "userId": "04340760882990254267"
     },
     "user_tz": -180
    },
    "id": "ZG5XKJVd79vg",
    "outputId": "02d8bf10-4c3e-4971-f8b9-8cd6bdd89505"
   },
   "outputs": [
    {
     "data": {
      "application/vnd.jupyter.widget-view+json": {
       "model_id": "a2bbc25494554e5ba49de94e0b5966d7",
       "version_major": 2,
       "version_minor": 0
      },
      "text/plain": [
       "VBox()"
      ]
     },
     "metadata": {},
     "output_type": "display_data"
    },
    {
     "data": {
      "application/vnd.jupyter.widget-view+json": {
       "model_id": "",
       "version_major": 2,
       "version_minor": 0
      },
      "text/plain": [
       "FloatProgress(value=0.0, bar_style='info', description='Progress:', layout=Layout(height='25px', width='50%'),…"
      ]
     },
     "metadata": {},
     "output_type": "display_data"
    },
    {
     "name": "stdout",
     "output_type": "stream",
     "text": [
      "neg    1021\n",
      "pos     432\n",
      "Name: result, dtype: int64"
     ]
    }
   ],
   "source": [
    "# We will get the highest score label as result. You can control the number of zero label results with setThreshold() in the training.\n",
    "preds_df[\"scores\"] = preds_df.metadata.apply(lambda x: {k:float(v) for k,v in x[0].items()} if len(x)>=1 else \"\")\n",
    "preds_df[\"result\"] = preds_df.scores.apply(lambda x: max(x, key=x.get) if len(x)>=1 else \"\")\n",
    "preds_df = preds_df[(preds_df[\"result\"]!=\"\")]\n",
    "preds_df[\"result\"].value_counts()"
   ]
  },
  {
   "cell_type": "code",
   "execution_count": 39,
   "metadata": {
    "colab": {
     "base_uri": "https://localhost:8080/"
    },
    "execution": {
     "iopub.execute_input": "2023-09-15T08:42:49.242903Z",
     "iopub.status.busy": "2023-09-15T08:42:49.242692Z",
     "iopub.status.idle": "2023-09-15T08:42:49.506939Z",
     "shell.execute_reply": "2023-09-15T08:42:49.506177Z",
     "shell.execute_reply.started": "2023-09-15T08:42:49.242873Z"
    },
    "executionInfo": {
     "elapsed": 324,
     "status": "ok",
     "timestamp": 1689669858258,
     "user": {
      "displayName": "Ahmet Mesut BİROL",
      "userId": "04340760882990254267"
     },
     "user_tz": -180
    },
    "id": "MT8hQSEqQ57A",
    "outputId": "7992f90e-a615-42a7-ad71-7d52122a6252"
   },
   "outputs": [
    {
     "data": {
      "application/vnd.jupyter.widget-view+json": {
       "model_id": "a8caf6327fa148f8ac0ed3948fdc80cc",
       "version_major": 2,
       "version_minor": 0
      },
      "text/plain": [
       "VBox()"
      ]
     },
     "metadata": {},
     "output_type": "display_data"
    },
    {
     "data": {
      "application/vnd.jupyter.widget-view+json": {
       "model_id": "",
       "version_major": 2,
       "version_minor": 0
      },
      "text/plain": [
       "FloatProgress(value=0.0, bar_style='info', description='Progress:', layout=Layout(height='25px', width='50%'),…"
      ]
     },
     "metadata": {},
     "output_type": "display_data"
    },
    {
     "name": "stdout",
     "output_type": "stream",
     "text": [
      "              precision    recall  f1-score   support\n",
      "\n",
      "         neg       0.86      0.85      0.86      1030\n",
      "         pos       0.65      0.66      0.65       423\n",
      "\n",
      "    accuracy                           0.80      1453\n",
      "   macro avg       0.75      0.76      0.76      1453\n",
      "weighted avg       0.80      0.80      0.80      1453"
     ]
    }
   ],
   "source": [
    "res = classification_report(preds_df[\"category\"], preds_df[\"result\"], output_dict=True)\n",
    "results_df.loc[\"MultiClassifierDL_100d\"] = [res[\"pos\"][\"f1-score\"], res[\"accuracy\"]]\n",
    "\n",
    "print (classification_report(preds_df[\"category\"], preds_df[\"result\"]))"
   ]
  },
  {
   "cell_type": "markdown",
   "metadata": {
    "id": "aCf989KwQB3H"
   },
   "source": [
    "### Generic Classifier"
   ]
  },
  {
   "cell_type": "code",
   "execution_count": 40,
   "metadata": {
    "execution": {
     "iopub.execute_input": "2023-09-15T08:44:57.259870Z",
     "iopub.status.busy": "2023-09-15T08:44:57.259595Z",
     "iopub.status.idle": "2023-09-15T08:44:57.312860Z",
     "shell.execute_reply": "2023-09-15T08:44:57.312177Z",
     "shell.execute_reply.started": "2023-09-15T08:44:57.259837Z"
    },
    "id": "IeVxl4ruiJtr"
   },
   "outputs": [
    {
     "data": {
      "application/vnd.jupyter.widget-view+json": {
       "model_id": "5e03d98d860449ef9fdabb151a5bff44",
       "version_major": 2,
       "version_minor": 0
      },
      "text/plain": [
       "VBox()"
      ]
     },
     "metadata": {},
     "output_type": "display_data"
    },
    {
     "data": {
      "application/vnd.jupyter.widget-view+json": {
       "model_id": "",
       "version_major": 2,
       "version_minor": 0
      },
      "text/plain": [
       "FloatProgress(value=0.0, bar_style='info', description='Progress:', layout=Layout(height='25px', width='50%'),…"
      ]
     },
     "metadata": {},
     "output_type": "display_data"
    }
   ],
   "source": [
    "# !pip install -q tensorflow==2.11.0 tensorflow_addons #already downloaded"
   ]
  },
  {
   "cell_type": "code",
   "execution_count": 41,
   "metadata": {
    "execution": {
     "iopub.execute_input": "2023-09-15T08:46:04.565238Z",
     "iopub.status.busy": "2023-09-15T08:46:04.564964Z",
     "iopub.status.idle": "2023-09-15T08:46:04.619136Z",
     "shell.execute_reply": "2023-09-15T08:46:04.618430Z",
     "shell.execute_reply.started": "2023-09-15T08:46:04.565206Z"
    },
    "id": "N1Z9so_UQB3I"
   },
   "outputs": [
    {
     "data": {
      "application/vnd.jupyter.widget-view+json": {
       "model_id": "62054059fb3a48b29118984d41e1c5f4",
       "version_major": 2,
       "version_minor": 0
      },
      "text/plain": [
       "VBox()"
      ]
     },
     "metadata": {},
     "output_type": "display_data"
    },
    {
     "data": {
      "application/vnd.jupyter.widget-view+json": {
       "model_id": "",
       "version_major": 2,
       "version_minor": 0
      },
      "text/plain": [
       "FloatProgress(value=0.0, bar_style='info', description='Progress:', layout=Layout(height='25px', width='50%'),…"
      ]
     },
     "metadata": {},
     "output_type": "display_data"
    }
   ],
   "source": [
    "from sparknlp_jsl.annotator import TFGraphBuilder\n",
    "\n",
    "graph_folder = \"/tmp/gc_graph\"\n",
    "\n",
    "gc_graph_builder =medical.TFGraphBuilder()\\\n",
    "    .setModelName(\"generic_classifier\")\\\n",
    "    .setInputCols([\"features\"])\\\n",
    "    .setLabelColumn(\"category\")\\\n",
    "    .setHiddenLayers([300,200, 50])\\\n",
    "    .setHiddenAct(\"tanh\")\\\n",
    "    .setHiddenActL2(True)\\\n",
    "    .setBatchNorm(True)\\\n",
    "    .setGraphFolder(graph_folder)\\\n",
    "    .setGraphFile(\"gcf_graph_100d.pb\")"
   ]
  },
  {
   "cell_type": "markdown",
   "metadata": {
    "id": "_ADlQFAHch6j"
   },
   "source": [
    "GenericClassifier needs outputs from FeaturesAssembler. The FeaturesAssembler is used to collect features from different columns or an embeddings column.\n",
    "\n",
    "The GenericClassifierApproach takes FEATURE_VECTOR annotations as input, classifies them and outputs CATEGORY annotations."
   ]
  },
  {
   "cell_type": "code",
   "execution_count": 42,
   "metadata": {
    "execution": {
     "iopub.execute_input": "2023-09-15T08:46:11.953939Z",
     "iopub.status.busy": "2023-09-15T08:46:11.953665Z",
     "iopub.status.idle": "2023-09-15T08:46:12.213636Z",
     "shell.execute_reply": "2023-09-15T08:46:12.212928Z",
     "shell.execute_reply.started": "2023-09-15T08:46:11.953907Z"
    },
    "id": "f7saGLwvQB3I"
   },
   "outputs": [
    {
     "data": {
      "application/vnd.jupyter.widget-view+json": {
       "model_id": "1aa9918361b645138dc4e89902690ac6",
       "version_major": 2,
       "version_minor": 0
      },
      "text/plain": [
       "VBox()"
      ]
     },
     "metadata": {},
     "output_type": "display_data"
    },
    {
     "data": {
      "application/vnd.jupyter.widget-view+json": {
       "model_id": "",
       "version_major": 2,
       "version_minor": 0
      },
      "text/plain": [
       "FloatProgress(value=0.0, bar_style='info', description='Progress:', layout=Layout(height='25px', width='50%'),…"
      ]
     },
     "metadata": {},
     "output_type": "display_data"
    }
   ],
   "source": [
    "features_asm = medical.FeaturesAssembler()\\\n",
    "    .setInputCols([\"sentence_embeddings\"])\\\n",
    "    .setOutputCol(\"features\")\n",
    "\n",
    "gen_clf =medical.GenericClassifierApproach()\\\n",
    "    .setLabelColumn(\"category\")\\\n",
    "    .setInputCols(\"features\")\\\n",
    "    .setOutputCol(\"prediction\")\\\n",
    "    .setModelFile(f\"{graph_folder}/gcf_graph_100d.pb\")\\\n",
    "    .setEpochsNumber(25)\\\n",
    "    .setBatchSize(128)\\\n",
    "    .setLearningRate(0.004)\\\n",
    "    .setOutputLogsPath(log_folder)\\\n",
    "    .setDropout(0.2)\\\n",
    "    .setFixImbalance(True)\\\n",
    "    # .setValidationSplit(0.1)\n",
    "\n",
    "clf_Pipeline = nlp.Pipeline(stages=[\n",
    "    features_asm,\n",
    "    gc_graph_builder,\n",
    "    gen_clf])\n"
   ]
  },
  {
   "cell_type": "code",
   "execution_count": 43,
   "metadata": {
    "colab": {
     "base_uri": "https://localhost:8080/"
    },
    "execution": {
     "iopub.execute_input": "2023-09-15T08:46:13.542308Z",
     "iopub.status.busy": "2023-09-15T08:46:13.542034Z",
     "iopub.status.idle": "2023-09-15T08:46:33.375797Z",
     "shell.execute_reply": "2023-09-15T08:46:33.375060Z",
     "shell.execute_reply.started": "2023-09-15T08:46:13.542276Z"
    },
    "executionInfo": {
     "elapsed": 9578,
     "status": "ok",
     "timestamp": 1689669917858,
     "user": {
      "displayName": "Ahmet Mesut BİROL",
      "userId": "04340760882990254267"
     },
     "user_tz": -180
    },
    "id": "oSG7cx7yQB3I",
    "outputId": "59cfa88c-0f89-40e9-e419-529c7d0168b4"
   },
   "outputs": [
    {
     "data": {
      "application/vnd.jupyter.widget-view+json": {
       "model_id": "28ec9c0d914e415b9327628a107900d9",
       "version_major": 2,
       "version_minor": 0
      },
      "text/plain": [
       "VBox()"
      ]
     },
     "metadata": {},
     "output_type": "display_data"
    },
    {
     "data": {
      "application/vnd.jupyter.widget-view+json": {
       "model_id": "",
       "version_major": 2,
       "version_minor": 0
      },
      "text/plain": [
       "FloatProgress(value=0.0, bar_style='info', description='Progress:', layout=Layout(height='25px', width='50%'),…"
      ]
     },
     "metadata": {},
     "output_type": "display_data"
    },
    {
     "name": "stdout",
     "output_type": "stream",
     "text": [
      "TF Graph Builder configuration:\n",
      "Model name: generic_classifier\n",
      "Graph folder: /tmp/gc_graph\n",
      "Graph file name: gcf_graph_100d.pb\n",
      "Build params: {'input_dim': 100, 'output_dim': 2, 'hidden_layers': [300, 200, 50], 'hidden_act': 'tanh', 'hidden_act_l2': True, 'batch_norm': True}\n",
      "generic_classifier graph exported to /tmp/gc_graph/gcf_graph_100d.pb"
     ]
    }
   ],
   "source": [
    "generic_model_hc100 = clf_Pipeline.fit(trainingData_with_embeddings)"
   ]
  },
  {
   "cell_type": "code",
   "execution_count": 44,
   "metadata": {
    "colab": {
     "base_uri": "https://localhost:8080/"
    },
    "execution": {
     "iopub.execute_input": "2023-09-15T08:47:11.721412Z",
     "iopub.status.busy": "2023-09-15T08:47:11.721133Z",
     "iopub.status.idle": "2023-09-15T08:47:13.917484Z",
     "shell.execute_reply": "2023-09-15T08:47:13.916641Z",
     "shell.execute_reply.started": "2023-09-15T08:47:11.721378Z"
    },
    "executionInfo": {
     "elapsed": 54,
     "status": "ok",
     "timestamp": 1689669917860,
     "user": {
      "displayName": "Ahmet Mesut BİROL",
      "userId": "04340760882990254267"
     },
     "user_tz": -180
    },
    "id": "9PSm7rd0QB3I",
    "outputId": "1efcbdca-c2f1-489d-cc55-cdc27e5989a7"
   },
   "outputs": [
    {
     "name": "stdout",
     "output_type": "stream",
     "text": [
      "Training 25 epochs\n",
      "Epoch 1/25\t0.34s\tLoss: 10.808309\tACC: 0.66998106\n",
      "Epoch 2/25\t0.12s\tLoss: 9.697421\tACC: 0.72111744\n",
      "Epoch 3/25\t0.11s\tLoss: 9.29107\tACC: 0.7333097\n",
      "Epoch 4/25\t0.11s\tLoss: 8.993612\tACC: 0.7411222\n",
      "Epoch 5/25\t0.11s\tLoss: 8.911918\tACC: 0.75177556\n",
      "Epoch 6/25\t0.11s\tLoss: 8.469458\tACC: 0.7713068\n",
      "Epoch 7/25\t0.10s\tLoss: 8.426421\tACC: 0.76704544\n",
      "Epoch 8/25\t0.10s\tLoss: 8.1115\tACC: 0.7775213\n",
      "Epoch 9/25\t0.10s\tLoss: 8.63427\tACC: 0.7599432\n",
      "Epoch 10/25\t0.10s\tLoss: 8.5846815\tACC: 0.75858194\n",
      "Epoch 11/25\t0.10s\tLoss: 8.368174\tACC: 0.7709517\n",
      "Epoch 12/25\t0.10s\tLoss: 8.19772\tACC: 0.77574575\n",
      "Epoch 13/25\t0.11s\tLoss: 8.0487175\tACC: 0.7816643\n",
      "Epoch 14/25\t0.11s\tLoss: 8.098649\tACC: 0.7817827\n",
      "Epoch 15/25\t0.10s\tLoss: 8.107805\tACC: 0.7779356\n",
      "Epoch 16/25\t0.10s\tLoss: 7.930561\tACC: 0.7811317\n",
      "Epoch 17/25\t0.10s\tLoss: 7.791131\tACC: 0.7865175\n",
      "Epoch 18/25\t0.10s\tLoss: 7.8685236\tACC: 0.7900095\n",
      "Epoch 19/25\t0.11s\tLoss: 7.528401\tACC: 0.795928\n",
      "Epoch 20/25\t0.11s\tLoss: 7.9072742\tACC: 0.7893584\n",
      "Epoch 21/25\t0.11s\tLoss: 7.4215035\tACC: 0.80226094\n",
      "Epoch 22/25\t0.11s\tLoss: 7.5722404\tACC: 0.8022017\n",
      "Epoch 23/25\t0.10s\tLoss: 7.663746\tACC: 0.7949219\n",
      "Epoch 24/25\t0.11s\tLoss: 7.4492507\tACC: 0.80445075\n",
      "Epoch 25/25\t0.11s\tLoss: 7.423872\tACC: 0.80084044\n",
      "Training completed.\n"
     ]
    },
    {
     "name": "stderr",
     "output_type": "stream",
     "text": [
      "SLF4J: Class path contains multiple SLF4J bindings.\n",
      "SLF4J: Found binding in [jar:file:/usr/lib/hadoop/lib/slf4j-log4j12-1.7.25.jar!/org/slf4j/impl/StaticLoggerBinder.class]\n",
      "SLF4J: Found binding in [jar:file:/usr/share/aws/emr/emrfs/lib/slf4j-log4j12-1.7.12.jar!/org/slf4j/impl/StaticLoggerBinder.class]\n",
      "SLF4J: See http://www.slf4j.org/codes.html#multiple_bindings for an explanation.\n",
      "SLF4J: Actual binding is of type [org.slf4j.impl.Log4jLoggerFactory]\n"
     ]
    }
   ],
   "source": [
    "%%sh\n",
    "hadoop fs -cat /tmp/ADE_logs_healthcare_100d/GenericClassifierApproach_*"
   ]
  },
  {
   "cell_type": "code",
   "execution_count": 45,
   "metadata": {
    "execution": {
     "iopub.execute_input": "2023-09-15T08:47:46.017322Z",
     "iopub.status.busy": "2023-09-15T08:47:46.017041Z",
     "iopub.status.idle": "2023-09-15T08:47:47.301864Z",
     "shell.execute_reply": "2023-09-15T08:47:47.300688Z",
     "shell.execute_reply.started": "2023-09-15T08:47:46.017286Z"
    },
    "id": "3Sqm6pF95vYX"
   },
   "outputs": [
    {
     "data": {
      "application/vnd.jupyter.widget-view+json": {
       "model_id": "bcb8e260100b47db917d841e563718d0",
       "version_major": 2,
       "version_minor": 0
      },
      "text/plain": [
       "VBox()"
      ]
     },
     "metadata": {},
     "output_type": "display_data"
    },
    {
     "data": {
      "application/vnd.jupyter.widget-view+json": {
       "model_id": "",
       "version_major": 2,
       "version_minor": 0
      },
      "text/plain": [
       "FloatProgress(value=0.0, bar_style='info', description='Progress:', layout=Layout(height='25px', width='50%'),…"
      ]
     },
     "metadata": {},
     "output_type": "display_data"
    }
   ],
   "source": [
    "pred_df = generic_model_hc100.transform(testData_with_embeddings).cache()"
   ]
  },
  {
   "cell_type": "code",
   "execution_count": 46,
   "metadata": {
    "colab": {
     "base_uri": "https://localhost:8080/"
    },
    "execution": {
     "iopub.execute_input": "2023-09-15T08:47:47.303355Z",
     "iopub.status.busy": "2023-09-15T08:47:47.303099Z",
     "iopub.status.idle": "2023-09-15T08:47:47.571431Z",
     "shell.execute_reply": "2023-09-15T08:47:47.570409Z",
     "shell.execute_reply.started": "2023-09-15T08:47:47.303322Z"
    },
    "executionInfo": {
     "elapsed": 423,
     "status": "ok",
     "timestamp": 1689669918673,
     "user": {
      "displayName": "Ahmet Mesut BİROL",
      "userId": "04340760882990254267"
     },
     "user_tz": -180
    },
    "id": "EW_Bbcb55xe-",
    "outputId": "f734b9da-0e73-4a80-9ed9-5b43037d27a2"
   },
   "outputs": [
    {
     "data": {
      "application/vnd.jupyter.widget-view+json": {
       "model_id": "eec986a4bd0442e4ac59293016b99e05",
       "version_major": 2,
       "version_minor": 0
      },
      "text/plain": [
       "VBox()"
      ]
     },
     "metadata": {},
     "output_type": "display_data"
    },
    {
     "data": {
      "application/vnd.jupyter.widget-view+json": {
       "model_id": "",
       "version_major": 2,
       "version_minor": 0
      },
      "text/plain": [
       "FloatProgress(value=0.0, bar_style='info', description='Progress:', layout=Layout(height='25px', width='50%'),…"
      ]
     },
     "metadata": {},
     "output_type": "display_data"
    },
    {
     "name": "stdout",
     "output_type": "stream",
     "text": [
      "root\n",
      " |-- text: string (nullable = true)\n",
      " |-- category: string (nullable = true)\n",
      " |-- sentence_embeddings: array (nullable = true)\n",
      " |    |-- element: struct (containsNull = true)\n",
      " |    |    |-- annotatorType: string (nullable = true)\n",
      " |    |    |-- begin: integer (nullable = false)\n",
      " |    |    |-- end: integer (nullable = false)\n",
      " |    |    |-- result: string (nullable = true)\n",
      " |    |    |-- metadata: map (nullable = true)\n",
      " |    |    |    |-- key: string\n",
      " |    |    |    |-- value: string (valueContainsNull = true)\n",
      " |    |    |-- embeddings: array (nullable = true)\n",
      " |    |    |    |-- element: float (containsNull = false)\n",
      " |-- category_array: array (nullable = false)\n",
      " |    |-- element: string (containsNull = true)\n",
      " |-- prediction: array (nullable = true)\n",
      " |    |-- element: struct (containsNull = true)\n",
      " |    |    |-- annotatorType: string (nullable = true)\n",
      " |    |    |-- begin: integer (nullable = false)\n",
      " |    |    |-- end: integer (nullable = false)\n",
      " |    |    |-- result: string (nullable = true)\n",
      " |    |    |-- metadata: map (nullable = true)\n",
      " |    |    |    |-- key: string\n",
      " |    |    |    |-- value: string (valueContainsNull = true)\n",
      " |    |    |-- embeddings: array (nullable = true)\n",
      " |    |    |    |-- element: float (containsNull = false)\n",
      "\n",
      "+-----------------------------------------------------------------------------------+\n",
      "|prediction                                                                         |\n",
      "+-----------------------------------------------------------------------------------+\n",
      "|[{category, 0, 139, neg, {sentence -> 0, pos -> 0.1455485, neg -> 0.8540044}, []}] |\n",
      "|[{category, 0, 164, neg, {sentence -> 0, pos -> 2.3042794E-8, neg -> 1.0}, []}]    |\n",
      "|[{category, 0, 155, neg, {sentence -> 0, pos -> 1.2124623E-12, neg -> 1.0}, []}]   |\n",
      "|[{category, 0, 99, neg, {sentence -> 0, pos -> 0.06126657, neg -> 0.9387322}, []}] |\n",
      "|[{category, 0, 89, neg, {sentence -> 0, pos -> 7.865769E-7, neg -> 0.9999993}, []}]|\n",
      "+-----------------------------------------------------------------------------------+\n",
      "only showing top 5 rows\n",
      "\n",
      "+--------+-----------------+\n",
      "|category|prediction.result|\n",
      "+--------+-----------------+\n",
      "|neg     |[neg]            |\n",
      "|neg     |[neg]            |\n",
      "|neg     |[neg]            |\n",
      "|neg     |[neg]            |\n",
      "|neg     |[neg]            |\n",
      "+--------+-----------------+\n",
      "only showing top 5 rows"
     ]
    }
   ],
   "source": [
    "preds.printSchema()\n",
    "preds.select(preds.prediction).show(5, truncate=False)\n",
    "preds.select(preds.category, preds.prediction.result).show(5, truncate=False)"
   ]
  },
  {
   "cell_type": "code",
   "execution_count": 47,
   "metadata": {
    "colab": {
     "base_uri": "https://localhost:8080/"
    },
    "execution": {
     "iopub.execute_input": "2023-09-15T08:47:51.113569Z",
     "iopub.status.busy": "2023-09-15T08:47:51.113274Z",
     "iopub.status.idle": "2023-09-15T08:47:53.403561Z",
     "shell.execute_reply": "2023-09-15T08:47:53.402760Z",
     "shell.execute_reply.started": "2023-09-15T08:47:51.113534Z"
    },
    "executionInfo": {
     "elapsed": 1094,
     "status": "ok",
     "timestamp": 1689669919764,
     "user": {
      "displayName": "Ahmet Mesut BİROL",
      "userId": "04340760882990254267"
     },
     "user_tz": -180
    },
    "id": "NHCBTwrmQB3I",
    "outputId": "49e838bb-36d9-42a4-d078-18aa2ced2340"
   },
   "outputs": [
    {
     "data": {
      "application/vnd.jupyter.widget-view+json": {
       "model_id": "30f35fb4196d430199ebdea500fb39f0",
       "version_major": 2,
       "version_minor": 0
      },
      "text/plain": [
       "VBox()"
      ]
     },
     "metadata": {},
     "output_type": "display_data"
    },
    {
     "data": {
      "application/vnd.jupyter.widget-view+json": {
       "model_id": "",
       "version_major": 2,
       "version_minor": 0
      },
      "text/plain": [
       "FloatProgress(value=0.0, bar_style='info', description='Progress:', layout=Layout(height='25px', width='50%'),…"
      ]
     },
     "metadata": {},
     "output_type": "display_data"
    },
    {
     "name": "stdout",
     "output_type": "stream",
     "text": [
      "              precision    recall  f1-score   support\n",
      "\n",
      "         neg       0.89      0.80      0.85      1031\n",
      "         pos       0.61      0.76      0.68       423\n",
      "\n",
      "    accuracy                           0.79      1454\n",
      "   macro avg       0.75      0.78      0.76      1454\n",
      "weighted avg       0.81      0.79      0.80      1454"
     ]
    }
   ],
   "source": [
    "preds_df = pred_df.select('category','prediction.result').toPandas()\n",
    "preds_df['result'] = preds_df.result.apply(lambda x : x[0])\n",
    "\n",
    "print (classification_report(preds_df['category'], preds_df['result']))"
   ]
  },
  {
   "cell_type": "code",
   "execution_count": 48,
   "metadata": {
    "execution": {
     "iopub.execute_input": "2023-09-15T08:47:53.404989Z",
     "iopub.status.busy": "2023-09-15T08:47:53.404767Z",
     "iopub.status.idle": "2023-09-15T08:47:53.820071Z",
     "shell.execute_reply": "2023-09-15T08:47:53.819371Z",
     "shell.execute_reply.started": "2023-09-15T08:47:53.404958Z"
    },
    "id": "xDLpuGkr8hOI"
   },
   "outputs": [
    {
     "data": {
      "application/vnd.jupyter.widget-view+json": {
       "model_id": "beb5bb3c03ff47ffb9b812084424770b",
       "version_major": 2,
       "version_minor": 0
      },
      "text/plain": [
       "VBox()"
      ]
     },
     "metadata": {},
     "output_type": "display_data"
    },
    {
     "data": {
      "application/vnd.jupyter.widget-view+json": {
       "model_id": "",
       "version_major": 2,
       "version_minor": 0
      },
      "text/plain": [
       "FloatProgress(value=0.0, bar_style='info', description='Progress:', layout=Layout(height='25px', width='50%'),…"
      ]
     },
     "metadata": {},
     "output_type": "display_data"
    }
   ],
   "source": [
    "res = classification_report(preds_df[\"category\"], preds_df[\"result\"], output_dict=True)\n",
    "results_df.loc[\"GenericClassifier_100d\"] = [res[\"pos\"][\"f1-score\"], res[\"accuracy\"]]"
   ]
  },
  {
   "cell_type": "markdown",
   "metadata": {
    "id": "moyOD1bWPnBR"
   },
   "source": [
    "### GenericLogRegClassifier"
   ]
  },
  {
   "cell_type": "code",
   "execution_count": 49,
   "metadata": {
    "execution": {
     "iopub.execute_input": "2023-09-15T08:48:59.124595Z",
     "iopub.status.busy": "2023-09-15T08:48:59.124318Z",
     "iopub.status.idle": "2023-09-15T08:48:59.181348Z",
     "shell.execute_reply": "2023-09-15T08:48:59.180662Z",
     "shell.execute_reply.started": "2023-09-15T08:48:59.124562Z"
    },
    "id": "DfbdLp5ZPnBR"
   },
   "outputs": [
    {
     "data": {
      "application/vnd.jupyter.widget-view+json": {
       "model_id": "d402f01504684578943c5207b2820786",
       "version_major": 2,
       "version_minor": 0
      },
      "text/plain": [
       "VBox()"
      ]
     },
     "metadata": {},
     "output_type": "display_data"
    },
    {
     "data": {
      "application/vnd.jupyter.widget-view+json": {
       "model_id": "",
       "version_major": 2,
       "version_minor": 0
      },
      "text/plain": [
       "FloatProgress(value=0.0, bar_style='info', description='Progress:', layout=Layout(height='25px', width='50%'),…"
      ]
     },
     "metadata": {},
     "output_type": "display_data"
    }
   ],
   "source": [
    "graph_folder = \"/tmp/gc_graph\"\n",
    "\n",
    "gc_logreg_graph_builder = medical.TFGraphBuilder()\\\n",
    "    .setModelName(\"logreg_classifier\")\\\n",
    "    .setInputCols([\"feature_vector\"]) \\\n",
    "    .setLabelColumn(\"category\")\\\n",
    "    .setGraphFolder(graph_folder)\\\n",
    "    .setGraphFile(\"log_reg_graph.pb\")"
   ]
  },
  {
   "cell_type": "markdown",
   "metadata": {
    "id": "nF-VGSTbPnBS"
   },
   "source": [
    "GenericLogRegClassifier needs outputs from FeaturesAssembler. The FeaturesAssembler is used to collect features from different columns or an embeddings column.\n",
    "\n",
    "The GenericLogRegClassifier takes FEATURE_VECTOR annotations as input, classifies them and outputs CATEGORY annotations."
   ]
  },
  {
   "cell_type": "code",
   "execution_count": 50,
   "metadata": {
    "execution": {
     "iopub.execute_input": "2023-09-15T08:49:00.303074Z",
     "iopub.status.busy": "2023-09-15T08:49:00.302797Z",
     "iopub.status.idle": "2023-09-15T08:49:00.563674Z",
     "shell.execute_reply": "2023-09-15T08:49:00.562892Z",
     "shell.execute_reply.started": "2023-09-15T08:49:00.303041Z"
    },
    "id": "RrPR_-6kPnBS"
   },
   "outputs": [
    {
     "data": {
      "application/vnd.jupyter.widget-view+json": {
       "model_id": "30163110b55a46d08a89148d49b259f0",
       "version_major": 2,
       "version_minor": 0
      },
      "text/plain": [
       "VBox()"
      ]
     },
     "metadata": {},
     "output_type": "display_data"
    },
    {
     "data": {
      "application/vnd.jupyter.widget-view+json": {
       "model_id": "",
       "version_major": 2,
       "version_minor": 0
      },
      "text/plain": [
       "FloatProgress(value=0.0, bar_style='info', description='Progress:', layout=Layout(height='25px', width='50%'),…"
      ]
     },
     "metadata": {},
     "output_type": "display_data"
    }
   ],
   "source": [
    "features_asm = medical.FeaturesAssembler()\\\n",
    "    .setInputCols([\"sentence_embeddings\"])\\\n",
    "    .setOutputCol(\"feature_vector\")\n",
    "\n",
    "gen_clf = medical.GenericLogRegClassifierApproach()\\\n",
    "    .setLabelColumn(\"category\")\\\n",
    "    .setInputCols(\"feature_vector\")\\\n",
    "    .setOutputCol(\"prediction\")\\\n",
    "    .setModelFile(f\"{graph_folder}/log_reg_graph.pb\")\\\n",
    "    .setEpochsNumber(20)\\\n",
    "    .setBatchSize(128)\\\n",
    "    .setLearningRate(0.01)\\\n",
    "    .setOutputLogsPath(log_folder)\\\n",
    "    .setDropout(0.1)\\\n",
    "    .setFixImbalance(True)\\\n",
    "    # .setValidationSplit(0.1)\n",
    "\n",
    "clf_Pipeline = nlp.Pipeline(stages=[\n",
    "    features_asm,\n",
    "    gc_logreg_graph_builder,\n",
    "    gen_clf])\n"
   ]
  },
  {
   "cell_type": "code",
   "execution_count": 51,
   "metadata": {
    "colab": {
     "base_uri": "https://localhost:8080/"
    },
    "execution": {
     "iopub.execute_input": "2023-09-15T08:49:01.614241Z",
     "iopub.status.busy": "2023-09-15T08:49:01.613965Z",
     "iopub.status.idle": "2023-09-15T08:49:15.169529Z",
     "shell.execute_reply": "2023-09-15T08:49:15.168822Z",
     "shell.execute_reply.started": "2023-09-15T08:49:01.614208Z"
    },
    "executionInfo": {
     "elapsed": 3204,
     "status": "ok",
     "timestamp": 1689669922965,
     "user": {
      "displayName": "Ahmet Mesut BİROL",
      "userId": "04340760882990254267"
     },
     "user_tz": -180
    },
    "id": "JvS4gi_sPnBS",
    "outputId": "c17242d8-0c6f-4c44-e7b2-28430210588d"
   },
   "outputs": [
    {
     "data": {
      "application/vnd.jupyter.widget-view+json": {
       "model_id": "8702c4944f904a33995167e74066b1cf",
       "version_major": 2,
       "version_minor": 0
      },
      "text/plain": [
       "VBox()"
      ]
     },
     "metadata": {},
     "output_type": "display_data"
    },
    {
     "data": {
      "application/vnd.jupyter.widget-view+json": {
       "model_id": "",
       "version_major": 2,
       "version_minor": 0
      },
      "text/plain": [
       "FloatProgress(value=0.0, bar_style='info', description='Progress:', layout=Layout(height='25px', width='50%'),…"
      ]
     },
     "metadata": {},
     "output_type": "display_data"
    },
    {
     "name": "stdout",
     "output_type": "stream",
     "text": [
      "TF Graph Builder configuration:\n",
      "Model name: logreg_classifier\n",
      "Graph folder: /tmp/gc_graph\n",
      "Graph file name: log_reg_graph.pb\n",
      "Build params: {'input_dim': 100, 'output_dim': 2, 'hidden_layers': [], 'output_act': 'sigmoid'}\n",
      "logreg_classifier graph exported to /tmp/gc_graph/log_reg_graph.pb"
     ]
    }
   ],
   "source": [
    "generic_model_hc100 = clf_Pipeline.fit(trainingData_with_embeddings)"
   ]
  },
  {
   "cell_type": "code",
   "execution_count": 52,
   "metadata": {
    "colab": {
     "base_uri": "https://localhost:8080/"
    },
    "execution": {
     "iopub.execute_input": "2023-09-15T08:49:28.192958Z",
     "iopub.status.busy": "2023-09-15T08:49:28.192579Z",
     "iopub.status.idle": "2023-09-15T08:49:30.359810Z",
     "shell.execute_reply": "2023-09-15T08:49:30.358816Z",
     "shell.execute_reply.started": "2023-09-15T08:49:28.192914Z"
    },
    "executionInfo": {
     "elapsed": 26,
     "status": "ok",
     "timestamp": 1689669922966,
     "user": {
      "displayName": "Ahmet Mesut BİROL",
      "userId": "04340760882990254267"
     },
     "user_tz": -180
    },
    "id": "Kj-r_R-_PnBT",
    "outputId": "50c7d89e-96f9-4c47-b52b-e7ce6fb43b40"
   },
   "outputs": [
    {
     "name": "stdout",
     "output_type": "stream",
     "text": [
      "Training 20 epochs\n",
      "Epoch 1/20\t0.12s\tLoss: 26.264751\tACC: 0.7062619\n",
      "Epoch 2/20\t0.04s\tLoss: 24.105787\tACC: 0.72537875\n",
      "Epoch 3/20\t0.04s\tLoss: 23.165947\tACC: 0.7353811\n",
      "Epoch 4/20\t0.04s\tLoss: 22.629993\tACC: 0.7418324\n",
      "Epoch 5/20\t0.04s\tLoss: 22.230085\tACC: 0.74556106\n",
      "Epoch 6/20\t0.04s\tLoss: 22.06083\tACC: 0.7517164\n",
      "Epoch 7/20\t0.04s\tLoss: 21.961828\tACC: 0.74976325\n",
      "Epoch 8/20\t0.04s\tLoss: 21.693249\tACC: 0.75384706\n",
      "Epoch 9/20\t0.04s\tLoss: 21.465515\tACC: 0.7569247\n",
      "Epoch 10/20\t0.04s\tLoss: 21.645681\tACC: 0.7547348\n",
      "Epoch 11/20\t0.04s\tLoss: 21.394022\tACC: 0.7574574\n",
      "Epoch 12/20\t0.04s\tLoss: 21.336637\tACC: 0.7565696\n",
      "Epoch 13/20\t0.04s\tLoss: 21.349957\tACC: 0.75479406\n",
      "Epoch 14/20\t0.04s\tLoss: 21.145803\tACC: 0.7572798\n",
      "Epoch 15/20\t0.04s\tLoss: 21.230309\tACC: 0.75970644\n",
      "Epoch 16/20\t0.04s\tLoss: 21.163515\tACC: 0.7575166\n",
      "Epoch 17/20\t0.04s\tLoss: 21.048191\tACC: 0.7623106\n",
      "Epoch 18/20\t0.04s\tLoss: 21.021744\tACC: 0.7624882\n",
      "Epoch 19/20\t0.04s\tLoss: 20.954748\tACC: 0.7656842\n",
      "Epoch 20/20\t0.04s\tLoss: 20.953236\tACC: 0.76225144\n",
      "Training completed.\n"
     ]
    },
    {
     "name": "stderr",
     "output_type": "stream",
     "text": [
      "SLF4J: Class path contains multiple SLF4J bindings.\n",
      "SLF4J: Found binding in [jar:file:/usr/lib/hadoop/lib/slf4j-log4j12-1.7.25.jar!/org/slf4j/impl/StaticLoggerBinder.class]\n",
      "SLF4J: Found binding in [jar:file:/usr/share/aws/emr/emrfs/lib/slf4j-log4j12-1.7.12.jar!/org/slf4j/impl/StaticLoggerBinder.class]\n",
      "SLF4J: See http://www.slf4j.org/codes.html#multiple_bindings for an explanation.\n",
      "SLF4J: Actual binding is of type [org.slf4j.impl.Log4jLoggerFactory]\n"
     ]
    }
   ],
   "source": [
    "%%sh\n",
    "hadoop fs -cat /tmp/ADE_logs_healthcare_100d/GenericLogRegClassifierApproach*"
   ]
  },
  {
   "cell_type": "code",
   "execution_count": 53,
   "metadata": {
    "execution": {
     "iopub.execute_input": "2023-09-15T08:49:30.361589Z",
     "iopub.status.busy": "2023-09-15T08:49:30.361352Z",
     "iopub.status.idle": "2023-09-15T08:49:31.139733Z",
     "shell.execute_reply": "2023-09-15T08:49:31.138895Z",
     "shell.execute_reply.started": "2023-09-15T08:49:30.361554Z"
    },
    "id": "9acpNGeCPnBT"
   },
   "outputs": [
    {
     "data": {
      "application/vnd.jupyter.widget-view+json": {
       "model_id": "328a1b9698c449e3976294137f669de1",
       "version_major": 2,
       "version_minor": 0
      },
      "text/plain": [
       "VBox()"
      ]
     },
     "metadata": {},
     "output_type": "display_data"
    },
    {
     "data": {
      "application/vnd.jupyter.widget-view+json": {
       "model_id": "",
       "version_major": 2,
       "version_minor": 0
      },
      "text/plain": [
       "FloatProgress(value=0.0, bar_style='info', description='Progress:', layout=Layout(height='25px', width='50%'),…"
      ]
     },
     "metadata": {},
     "output_type": "display_data"
    }
   ],
   "source": [
    "pred_df = generic_model_hc100.transform(testData_with_embeddings)"
   ]
  },
  {
   "cell_type": "code",
   "execution_count": 54,
   "metadata": {
    "colab": {
     "base_uri": "https://localhost:8080/"
    },
    "execution": {
     "iopub.execute_input": "2023-09-15T08:49:31.141393Z",
     "iopub.status.busy": "2023-09-15T08:49:31.141167Z",
     "iopub.status.idle": "2023-09-15T08:49:31.409103Z",
     "shell.execute_reply": "2023-09-15T08:49:31.408083Z",
     "shell.execute_reply.started": "2023-09-15T08:49:31.141360Z"
    },
    "executionInfo": {
     "elapsed": 412,
     "status": "ok",
     "timestamp": 1689669923769,
     "user": {
      "displayName": "Ahmet Mesut BİROL",
      "userId": "04340760882990254267"
     },
     "user_tz": -180
    },
    "id": "jxk_78fcPnBT",
    "outputId": "37d2185a-1a33-49a5-bd60-cfe4f82481b7"
   },
   "outputs": [
    {
     "data": {
      "application/vnd.jupyter.widget-view+json": {
       "model_id": "fd72a920e81e45a1bf72cfd6474853a7",
       "version_major": 2,
       "version_minor": 0
      },
      "text/plain": [
       "VBox()"
      ]
     },
     "metadata": {},
     "output_type": "display_data"
    },
    {
     "data": {
      "application/vnd.jupyter.widget-view+json": {
       "model_id": "",
       "version_major": 2,
       "version_minor": 0
      },
      "text/plain": [
       "FloatProgress(value=0.0, bar_style='info', description='Progress:', layout=Layout(height='25px', width='50%'),…"
      ]
     },
     "metadata": {},
     "output_type": "display_data"
    },
    {
     "name": "stdout",
     "output_type": "stream",
     "text": [
      "root\n",
      " |-- text: string (nullable = true)\n",
      " |-- category: string (nullable = true)\n",
      " |-- sentence_embeddings: array (nullable = true)\n",
      " |    |-- element: struct (containsNull = true)\n",
      " |    |    |-- annotatorType: string (nullable = true)\n",
      " |    |    |-- begin: integer (nullable = false)\n",
      " |    |    |-- end: integer (nullable = false)\n",
      " |    |    |-- result: string (nullable = true)\n",
      " |    |    |-- metadata: map (nullable = true)\n",
      " |    |    |    |-- key: string\n",
      " |    |    |    |-- value: string (valueContainsNull = true)\n",
      " |    |    |-- embeddings: array (nullable = true)\n",
      " |    |    |    |-- element: float (containsNull = false)\n",
      " |-- category_array: array (nullable = false)\n",
      " |    |-- element: string (containsNull = true)\n",
      " |-- prediction: array (nullable = true)\n",
      " |    |-- element: struct (containsNull = true)\n",
      " |    |    |-- annotatorType: string (nullable = true)\n",
      " |    |    |-- begin: integer (nullable = false)\n",
      " |    |    |-- end: integer (nullable = false)\n",
      " |    |    |-- result: string (nullable = true)\n",
      " |    |    |-- metadata: map (nullable = true)\n",
      " |    |    |    |-- key: string\n",
      " |    |    |    |-- value: string (valueContainsNull = true)\n",
      " |    |    |-- embeddings: array (nullable = true)\n",
      " |    |    |    |-- element: float (containsNull = false)\n",
      "\n",
      "+-----------------------------------------------------------------------------------+\n",
      "|prediction                                                                         |\n",
      "+-----------------------------------------------------------------------------------+\n",
      "|[{category, 0, 139, neg, {sentence -> 0, pos -> 0.1455485, neg -> 0.8540044}, []}] |\n",
      "|[{category, 0, 164, neg, {sentence -> 0, pos -> 2.3042794E-8, neg -> 1.0}, []}]    |\n",
      "|[{category, 0, 155, neg, {sentence -> 0, pos -> 1.2124623E-12, neg -> 1.0}, []}]   |\n",
      "|[{category, 0, 99, neg, {sentence -> 0, pos -> 0.06126657, neg -> 0.9387322}, []}] |\n",
      "|[{category, 0, 89, neg, {sentence -> 0, pos -> 7.865769E-7, neg -> 0.9999993}, []}]|\n",
      "+-----------------------------------------------------------------------------------+\n",
      "only showing top 5 rows\n",
      "\n",
      "+--------+-----------------+\n",
      "|category|prediction.result|\n",
      "+--------+-----------------+\n",
      "|neg     |[neg]            |\n",
      "|neg     |[neg]            |\n",
      "|neg     |[neg]            |\n",
      "|neg     |[neg]            |\n",
      "|neg     |[neg]            |\n",
      "+--------+-----------------+\n",
      "only showing top 5 rows"
     ]
    }
   ],
   "source": [
    "preds.printSchema()\n",
    "preds.select(preds.prediction).show(5, truncate=False)\n",
    "preds.select(preds.category, preds.prediction.result).show(5, truncate=False)"
   ]
  },
  {
   "cell_type": "code",
   "execution_count": 55,
   "metadata": {
    "colab": {
     "base_uri": "https://localhost:8080/"
    },
    "execution": {
     "iopub.execute_input": "2023-09-15T08:49:31.411062Z",
     "iopub.status.busy": "2023-09-15T08:49:31.410722Z",
     "iopub.status.idle": "2023-09-15T08:49:32.687889Z",
     "shell.execute_reply": "2023-09-15T08:49:32.687121Z",
     "shell.execute_reply.started": "2023-09-15T08:49:31.411013Z"
    },
    "executionInfo": {
     "elapsed": 621,
     "status": "ok",
     "timestamp": 1689669924387,
     "user": {
      "displayName": "Ahmet Mesut BİROL",
      "userId": "04340760882990254267"
     },
     "user_tz": -180
    },
    "id": "iF3ut5msPnBT",
    "outputId": "93259d6d-027f-46d5-a162-a711aa0e07df"
   },
   "outputs": [
    {
     "data": {
      "application/vnd.jupyter.widget-view+json": {
       "model_id": "d797b1f1955645d492f585775c35d9dd",
       "version_major": 2,
       "version_minor": 0
      },
      "text/plain": [
       "VBox()"
      ]
     },
     "metadata": {},
     "output_type": "display_data"
    },
    {
     "data": {
      "application/vnd.jupyter.widget-view+json": {
       "model_id": "",
       "version_major": 2,
       "version_minor": 0
      },
      "text/plain": [
       "FloatProgress(value=0.0, bar_style='info', description='Progress:', layout=Layout(height='25px', width='50%'),…"
      ]
     },
     "metadata": {},
     "output_type": "display_data"
    },
    {
     "name": "stdout",
     "output_type": "stream",
     "text": [
      "              precision    recall  f1-score   support\n",
      "\n",
      "         neg       0.77      0.93      0.84      1031\n",
      "         pos       0.66      0.33      0.44       423\n",
      "\n",
      "    accuracy                           0.76      1454\n",
      "   macro avg       0.72      0.63      0.64      1454\n",
      "weighted avg       0.74      0.76      0.73      1454"
     ]
    }
   ],
   "source": [
    "preds_df = pred_df.select('category','prediction.result').toPandas()\n",
    "preds_df['result'] = preds_df.result.apply(lambda x : x[0])\n",
    "\n",
    "print (classification_report(preds_df['category'], preds_df['result']))"
   ]
  },
  {
   "cell_type": "code",
   "execution_count": 56,
   "metadata": {
    "execution": {
     "iopub.execute_input": "2023-09-15T08:49:34.940638Z",
     "iopub.status.busy": "2023-09-15T08:49:34.940368Z",
     "iopub.status.idle": "2023-09-15T08:49:35.216199Z",
     "shell.execute_reply": "2023-09-15T08:49:35.215475Z",
     "shell.execute_reply.started": "2023-09-15T08:49:34.940606Z"
    },
    "id": "58c3070E8-FK"
   },
   "outputs": [
    {
     "data": {
      "application/vnd.jupyter.widget-view+json": {
       "model_id": "8385cd192b9c4fc0a2128bcc4ede1c35",
       "version_major": 2,
       "version_minor": 0
      },
      "text/plain": [
       "VBox()"
      ]
     },
     "metadata": {},
     "output_type": "display_data"
    },
    {
     "data": {
      "application/vnd.jupyter.widget-view+json": {
       "model_id": "",
       "version_major": 2,
       "version_minor": 0
      },
      "text/plain": [
       "FloatProgress(value=0.0, bar_style='info', description='Progress:', layout=Layout(height='25px', width='50%'),…"
      ]
     },
     "metadata": {},
     "output_type": "display_data"
    }
   ],
   "source": [
    "res = classification_report(preds_df[\"category\"], preds_df[\"result\"], output_dict=True)\n",
    "results_df.loc[\"GenericLogReg_100d\"] = [res[\"pos\"][\"f1-score\"], res[\"accuracy\"]]"
   ]
  },
  {
   "cell_type": "markdown",
   "metadata": {
    "id": "kGx7LiTFUytq"
   },
   "source": [
    "### GenericSVMClassifier"
   ]
  },
  {
   "cell_type": "code",
   "execution_count": 57,
   "metadata": {
    "execution": {
     "iopub.execute_input": "2023-09-15T08:49:50.882799Z",
     "iopub.status.busy": "2023-09-15T08:49:50.882522Z",
     "iopub.status.idle": "2023-09-15T08:49:50.945144Z",
     "shell.execute_reply": "2023-09-15T08:49:50.944336Z",
     "shell.execute_reply.started": "2023-09-15T08:49:50.882766Z"
    },
    "id": "QQxZi5VjUytq"
   },
   "outputs": [
    {
     "data": {
      "application/vnd.jupyter.widget-view+json": {
       "model_id": "7ad2ec420f6c47139f93e1ca68d67d99",
       "version_major": 2,
       "version_minor": 0
      },
      "text/plain": [
       "VBox()"
      ]
     },
     "metadata": {},
     "output_type": "display_data"
    },
    {
     "data": {
      "application/vnd.jupyter.widget-view+json": {
       "model_id": "",
       "version_major": 2,
       "version_minor": 0
      },
      "text/plain": [
       "FloatProgress(value=0.0, bar_style='info', description='Progress:', layout=Layout(height='25px', width='50%'),…"
      ]
     },
     "metadata": {},
     "output_type": "display_data"
    }
   ],
   "source": [
    "graph_folder = \"/tmp/gc_graph\"\n",
    "\n",
    "gc_svm_graph_builder = medical.TFGraphBuilder()\\\n",
    "    .setModelName(\"svm_classifier\")\\\n",
    "    .setInputCols([\"feature_vector\"]) \\\n",
    "    .setLabelColumn(\"category\")\\\n",
    "    .setGraphFolder(graph_folder)\\\n",
    "    .setGraphFile(\"svm_graph.pb\")"
   ]
  },
  {
   "cell_type": "markdown",
   "metadata": {
    "id": "HCczHJ9EUytq"
   },
   "source": [
    "GenericSVMClassifier needs outputs from FeaturesAssembler. The FeaturesAssembler is used to collect features from different columns or an embeddings column.\n",
    "\n",
    "The GenericSVMClassifier takes FEATURE_VECTOR annotations as input, classifies them and outputs CATEGORY annotations."
   ]
  },
  {
   "cell_type": "code",
   "execution_count": 58,
   "metadata": {
    "execution": {
     "iopub.execute_input": "2023-09-15T08:49:51.889012Z",
     "iopub.status.busy": "2023-09-15T08:49:51.888710Z",
     "iopub.status.idle": "2023-09-15T08:49:51.949559Z",
     "shell.execute_reply": "2023-09-15T08:49:51.948829Z",
     "shell.execute_reply.started": "2023-09-15T08:49:51.888977Z"
    },
    "id": "iLlsBDJjUytq"
   },
   "outputs": [
    {
     "data": {
      "application/vnd.jupyter.widget-view+json": {
       "model_id": "d52b8d38f3484c13b91f9f2d873e19aa",
       "version_major": 2,
       "version_minor": 0
      },
      "text/plain": [
       "VBox()"
      ]
     },
     "metadata": {},
     "output_type": "display_data"
    },
    {
     "data": {
      "application/vnd.jupyter.widget-view+json": {
       "model_id": "",
       "version_major": 2,
       "version_minor": 0
      },
      "text/plain": [
       "FloatProgress(value=0.0, bar_style='info', description='Progress:', layout=Layout(height='25px', width='50%'),…"
      ]
     },
     "metadata": {},
     "output_type": "display_data"
    }
   ],
   "source": [
    "features_asm = medical.FeaturesAssembler()\\\n",
    "    .setInputCols([\"sentence_embeddings\"])\\\n",
    "    .setOutputCol(\"feature_vector\")\n",
    "\n",
    "gen_clf = medical.GenericSVMClassifierApproach()\\\n",
    "    .setLabelColumn(\"category\")\\\n",
    "    .setInputCols(\"feature_vector\")\\\n",
    "    .setOutputCol(\"prediction\")\\\n",
    "    .setModelFile(f\"{graph_folder}/svm_graph.pb\")\\\n",
    "    .setEpochsNumber(25)\\\n",
    "    .setBatchSize(128)\\\n",
    "    .setLearningRate(0.015)\\\n",
    "    .setOutputLogsPath(log_folder)\\\n",
    "    .setDropout(0.1)\\\n",
    "    .setFixImbalance(True)\\\n",
    "    # .setValidationSplit(0.1)\n",
    "\n",
    "clf_Pipeline = nlp.Pipeline(stages=[\n",
    "    features_asm,\n",
    "    gc_svm_graph_builder,\n",
    "    gen_clf])\n"
   ]
  },
  {
   "cell_type": "code",
   "execution_count": 59,
   "metadata": {
    "colab": {
     "base_uri": "https://localhost:8080/"
    },
    "execution": {
     "iopub.execute_input": "2023-09-15T08:49:54.334270Z",
     "iopub.status.busy": "2023-09-15T08:49:54.334005Z",
     "iopub.status.idle": "2023-09-15T08:50:03.900487Z",
     "shell.execute_reply": "2023-09-15T08:50:03.899782Z",
     "shell.execute_reply.started": "2023-09-15T08:49:54.334239Z"
    },
    "executionInfo": {
     "elapsed": 3817,
     "status": "ok",
     "timestamp": 1689669928197,
     "user": {
      "displayName": "Ahmet Mesut BİROL",
      "userId": "04340760882990254267"
     },
     "user_tz": -180
    },
    "id": "K8KAXYtkUytq",
    "outputId": "d5fd1f05-c1fb-4953-97dd-997c23d9d3fc"
   },
   "outputs": [
    {
     "data": {
      "application/vnd.jupyter.widget-view+json": {
       "model_id": "876b2d9515594a8792cd96f029312612",
       "version_major": 2,
       "version_minor": 0
      },
      "text/plain": [
       "VBox()"
      ]
     },
     "metadata": {},
     "output_type": "display_data"
    },
    {
     "data": {
      "application/vnd.jupyter.widget-view+json": {
       "model_id": "",
       "version_major": 2,
       "version_minor": 0
      },
      "text/plain": [
       "FloatProgress(value=0.0, bar_style='info', description='Progress:', layout=Layout(height='25px', width='50%'),…"
      ]
     },
     "metadata": {},
     "output_type": "display_data"
    },
    {
     "name": "stdout",
     "output_type": "stream",
     "text": [
      "TF Graph Builder configuration:\n",
      "Model name: svm_classifier\n",
      "Graph folder: /tmp/gc_graph\n",
      "Graph file name: svm_graph.pb\n",
      "Build params: {'input_dim': 100, 'output_dim': 2, 'hidden_layers': [], 'output_act': 'sigmoid', 'loss_func': 'hinge'}\n",
      "svm_classifier graph exported to /tmp/gc_graph/svm_graph.pb"
     ]
    }
   ],
   "source": [
    "generic_model_hc100 = clf_Pipeline.fit(trainingData_with_embeddings)"
   ]
  },
  {
   "cell_type": "code",
   "execution_count": 60,
   "metadata": {
    "colab": {
     "base_uri": "https://localhost:8080/"
    },
    "execution": {
     "iopub.execute_input": "2023-09-15T08:50:15.545680Z",
     "iopub.status.busy": "2023-09-15T08:50:15.545402Z",
     "iopub.status.idle": "2023-09-15T08:50:17.700265Z",
     "shell.execute_reply": "2023-09-15T08:50:17.699422Z",
     "shell.execute_reply.started": "2023-09-15T08:50:15.545647Z"
    },
    "executionInfo": {
     "elapsed": 34,
     "status": "ok",
     "timestamp": 1689669928197,
     "user": {
      "displayName": "Ahmet Mesut BİROL",
      "userId": "04340760882990254267"
     },
     "user_tz": -180
    },
    "id": "laXPq5hLUytq",
    "outputId": "aeb5e685-0dfd-4c2c-f8ba-916889a23486"
   },
   "outputs": [
    {
     "name": "stdout",
     "output_type": "stream",
     "text": [
      "Training 25 epochs\n",
      "Epoch 1/25\t0.13s\tLoss: 27.60035\tACC: 0.71531725\n",
      "Epoch 2/25\t0.04s\tLoss: 24.746449\tACC: 0.72472775\n",
      "Epoch 3/25\t0.04s\tLoss: 24.05462\tACC: 0.7387547\n",
      "Epoch 4/25\t0.04s\tLoss: 23.932272\tACC: 0.7415365\n",
      "Epoch 5/25\t0.04s\tLoss: 23.42174\tACC: 0.75076944\n",
      "Epoch 6/25\t0.04s\tLoss: 23.680098\tACC: 0.752249\n",
      "Epoch 7/25\t0.04s\tLoss: 23.443094\tACC: 0.7518348\n",
      "Epoch 8/25\t0.04s\tLoss: 23.319054\tACC: 0.7552084\n",
      "Epoch 9/25\t0.04s\tLoss: 23.205355\tACC: 0.7595289\n",
      "Epoch 10/25\t0.04s\tLoss: 23.788307\tACC: 0.7546757\n",
      "Epoch 11/25\t0.04s\tLoss: 23.21889\tACC: 0.7634943\n",
      "Epoch 12/25\t0.04s\tLoss: 24.027117\tACC: 0.75645125\n",
      "Epoch 13/25\t0.04s\tLoss: 23.347725\tACC: 0.76171875\n",
      "Epoch 14/25\t0.04s\tLoss: 23.2717\tACC: 0.7634351\n",
      "Epoch 15/25\t0.04s\tLoss: 23.463408\tACC: 0.76106775\n",
      "Epoch 16/25\t0.04s\tLoss: 23.119213\tACC: 0.766276\n",
      "Epoch 17/25\t0.04s\tLoss: 23.155668\tACC: 0.7600024\n",
      "Epoch 18/25\t0.04s\tLoss: 23.202\tACC: 0.75917375\n",
      "Epoch 19/25\t0.04s\tLoss: 23.29134\tACC: 0.76130444\n",
      "Epoch 20/25\t0.04s\tLoss: 23.715237\tACC: 0.76373106\n",
      "Epoch 21/25\t0.04s\tLoss: 23.070873\tACC: 0.7675781\n",
      "Epoch 22/25\t0.04s\tLoss: 23.234682\tACC: 0.76331675\n",
      "Epoch 23/25\t0.04s\tLoss: 23.216333\tACC: 0.764027\n",
      "Epoch 24/25\t0.04s\tLoss: 23.651318\tACC: 0.76077175\n",
      "Epoch 25/25\t0.04s\tLoss: 23.765043\tACC: 0.76130444\n",
      "Training completed.\n"
     ]
    },
    {
     "name": "stderr",
     "output_type": "stream",
     "text": [
      "SLF4J: Class path contains multiple SLF4J bindings.\n",
      "SLF4J: Found binding in [jar:file:/usr/lib/hadoop/lib/slf4j-log4j12-1.7.25.jar!/org/slf4j/impl/StaticLoggerBinder.class]\n",
      "SLF4J: Found binding in [jar:file:/usr/share/aws/emr/emrfs/lib/slf4j-log4j12-1.7.12.jar!/org/slf4j/impl/StaticLoggerBinder.class]\n",
      "SLF4J: See http://www.slf4j.org/codes.html#multiple_bindings for an explanation.\n",
      "SLF4J: Actual binding is of type [org.slf4j.impl.Log4jLoggerFactory]\n"
     ]
    }
   ],
   "source": [
    "%%sh\n",
    "hadoop fs -cat /tmp/ADE_logs_healthcare_100d/GenericSVMClassifierApproach*"
   ]
  },
  {
   "cell_type": "code",
   "execution_count": 61,
   "metadata": {
    "execution": {
     "iopub.execute_input": "2023-09-15T08:50:18.006443Z",
     "iopub.status.busy": "2023-09-15T08:50:18.006210Z",
     "iopub.status.idle": "2023-09-15T08:50:18.779080Z",
     "shell.execute_reply": "2023-09-15T08:50:18.778392Z",
     "shell.execute_reply.started": "2023-09-15T08:50:18.006408Z"
    },
    "id": "F0t-aE9hUytq"
   },
   "outputs": [
    {
     "data": {
      "application/vnd.jupyter.widget-view+json": {
       "model_id": "d756b6a63dc74f099102d3113b502533",
       "version_major": 2,
       "version_minor": 0
      },
      "text/plain": [
       "VBox()"
      ]
     },
     "metadata": {},
     "output_type": "display_data"
    },
    {
     "data": {
      "application/vnd.jupyter.widget-view+json": {
       "model_id": "",
       "version_major": 2,
       "version_minor": 0
      },
      "text/plain": [
       "FloatProgress(value=0.0, bar_style='info', description='Progress:', layout=Layout(height='25px', width='50%'),…"
      ]
     },
     "metadata": {},
     "output_type": "display_data"
    }
   ],
   "source": [
    "pred_df = generic_model_hc100.transform(testData_with_embeddings)"
   ]
  },
  {
   "cell_type": "code",
   "execution_count": 62,
   "metadata": {
    "colab": {
     "base_uri": "https://localhost:8080/"
    },
    "execution": {
     "iopub.execute_input": "2023-09-15T08:50:19.877000Z",
     "iopub.status.busy": "2023-09-15T08:50:19.876724Z",
     "iopub.status.idle": "2023-09-15T08:50:20.148893Z",
     "shell.execute_reply": "2023-09-15T08:50:20.148201Z",
     "shell.execute_reply.started": "2023-09-15T08:50:19.876965Z"
    },
    "executionInfo": {
     "elapsed": 24,
     "status": "ok",
     "timestamp": 1689669928627,
     "user": {
      "displayName": "Ahmet Mesut BİROL",
      "userId": "04340760882990254267"
     },
     "user_tz": -180
    },
    "id": "4HmAqC2fUytq",
    "outputId": "aaa6ff58-aef8-41bc-d16b-375706e712cd"
   },
   "outputs": [
    {
     "data": {
      "application/vnd.jupyter.widget-view+json": {
       "model_id": "24a7635bf3964f4c976a44ba56170763",
       "version_major": 2,
       "version_minor": 0
      },
      "text/plain": [
       "VBox()"
      ]
     },
     "metadata": {},
     "output_type": "display_data"
    },
    {
     "data": {
      "application/vnd.jupyter.widget-view+json": {
       "model_id": "",
       "version_major": 2,
       "version_minor": 0
      },
      "text/plain": [
       "FloatProgress(value=0.0, bar_style='info', description='Progress:', layout=Layout(height='25px', width='50%'),…"
      ]
     },
     "metadata": {},
     "output_type": "display_data"
    },
    {
     "name": "stdout",
     "output_type": "stream",
     "text": [
      "root\n",
      " |-- text: string (nullable = true)\n",
      " |-- category: string (nullable = true)\n",
      " |-- sentence_embeddings: array (nullable = true)\n",
      " |    |-- element: struct (containsNull = true)\n",
      " |    |    |-- annotatorType: string (nullable = true)\n",
      " |    |    |-- begin: integer (nullable = false)\n",
      " |    |    |-- end: integer (nullable = false)\n",
      " |    |    |-- result: string (nullable = true)\n",
      " |    |    |-- metadata: map (nullable = true)\n",
      " |    |    |    |-- key: string\n",
      " |    |    |    |-- value: string (valueContainsNull = true)\n",
      " |    |    |-- embeddings: array (nullable = true)\n",
      " |    |    |    |-- element: float (containsNull = false)\n",
      " |-- category_array: array (nullable = false)\n",
      " |    |-- element: string (containsNull = true)\n",
      " |-- prediction: array (nullable = true)\n",
      " |    |-- element: struct (containsNull = true)\n",
      " |    |    |-- annotatorType: string (nullable = true)\n",
      " |    |    |-- begin: integer (nullable = false)\n",
      " |    |    |-- end: integer (nullable = false)\n",
      " |    |    |-- result: string (nullable = true)\n",
      " |    |    |-- metadata: map (nullable = true)\n",
      " |    |    |    |-- key: string\n",
      " |    |    |    |-- value: string (valueContainsNull = true)\n",
      " |    |    |-- embeddings: array (nullable = true)\n",
      " |    |    |    |-- element: float (containsNull = false)\n",
      "\n",
      "+-----------------------------------------------------------------------------------+\n",
      "|prediction                                                                         |\n",
      "+-----------------------------------------------------------------------------------+\n",
      "|[{category, 0, 139, neg, {sentence -> 0, pos -> 0.1455485, neg -> 0.8540044}, []}] |\n",
      "|[{category, 0, 164, neg, {sentence -> 0, pos -> 2.3042794E-8, neg -> 1.0}, []}]    |\n",
      "|[{category, 0, 155, neg, {sentence -> 0, pos -> 1.2124623E-12, neg -> 1.0}, []}]   |\n",
      "|[{category, 0, 99, neg, {sentence -> 0, pos -> 0.06126657, neg -> 0.9387322}, []}] |\n",
      "|[{category, 0, 89, neg, {sentence -> 0, pos -> 7.865769E-7, neg -> 0.9999993}, []}]|\n",
      "+-----------------------------------------------------------------------------------+\n",
      "only showing top 5 rows\n",
      "\n",
      "+--------+-----------------+\n",
      "|category|prediction.result|\n",
      "+--------+-----------------+\n",
      "|neg     |[neg]            |\n",
      "|neg     |[neg]            |\n",
      "|neg     |[neg]            |\n",
      "|neg     |[neg]            |\n",
      "|neg     |[neg]            |\n",
      "+--------+-----------------+\n",
      "only showing top 5 rows"
     ]
    }
   ],
   "source": [
    "preds.printSchema()\n",
    "preds.select(preds.prediction).show(5, truncate=False)\n",
    "preds.select(preds.category, preds.prediction.result).show(5, truncate=False)"
   ]
  },
  {
   "cell_type": "code",
   "execution_count": 63,
   "metadata": {
    "colab": {
     "base_uri": "https://localhost:8080/"
    },
    "execution": {
     "iopub.execute_input": "2023-09-15T08:50:20.550574Z",
     "iopub.status.busy": "2023-09-15T08:50:20.550342Z",
     "iopub.status.idle": "2023-09-15T08:50:21.827980Z",
     "shell.execute_reply": "2023-09-15T08:50:21.827225Z",
     "shell.execute_reply.started": "2023-09-15T08:50:20.550543Z"
    },
    "executionInfo": {
     "elapsed": 627,
     "status": "ok",
     "timestamp": 1689669929251,
     "user": {
      "displayName": "Ahmet Mesut BİROL",
      "userId": "04340760882990254267"
     },
     "user_tz": -180
    },
    "id": "OmNN-FEuUytr",
    "outputId": "b7145950-3d92-422a-d664-5a2a5c6ac767"
   },
   "outputs": [
    {
     "data": {
      "application/vnd.jupyter.widget-view+json": {
       "model_id": "17920f2ccd964b2e85dd6614820dbbf8",
       "version_major": 2,
       "version_minor": 0
      },
      "text/plain": [
       "VBox()"
      ]
     },
     "metadata": {},
     "output_type": "display_data"
    },
    {
     "data": {
      "application/vnd.jupyter.widget-view+json": {
       "model_id": "",
       "version_major": 2,
       "version_minor": 0
      },
      "text/plain": [
       "FloatProgress(value=0.0, bar_style='info', description='Progress:', layout=Layout(height='25px', width='50%'),…"
      ]
     },
     "metadata": {},
     "output_type": "display_data"
    },
    {
     "name": "stdout",
     "output_type": "stream",
     "text": [
      "              precision    recall  f1-score   support\n",
      "\n",
      "         neg       0.77      0.93      0.85      1031\n",
      "         pos       0.67      0.33      0.44       423\n",
      "\n",
      "    accuracy                           0.76      1454\n",
      "   macro avg       0.72      0.63      0.64      1454\n",
      "weighted avg       0.74      0.76      0.73      1454"
     ]
    }
   ],
   "source": [
    "preds_df = pred_df.select('category','prediction.result').toPandas()\n",
    "preds_df['result'] = preds_df.result.apply(lambda x : x[0])\n",
    "\n",
    "print (classification_report(preds_df['category'], preds_df['result']))"
   ]
  },
  {
   "cell_type": "code",
   "execution_count": 64,
   "metadata": {
    "execution": {
     "iopub.execute_input": "2023-09-15T08:50:24.580004Z",
     "iopub.status.busy": "2023-09-15T08:50:24.579735Z",
     "iopub.status.idle": "2023-09-15T08:50:24.858765Z",
     "shell.execute_reply": "2023-09-15T08:50:24.858013Z",
     "shell.execute_reply.started": "2023-09-15T08:50:24.579972Z"
    },
    "id": "Ltt3uq8y9MKR"
   },
   "outputs": [
    {
     "data": {
      "application/vnd.jupyter.widget-view+json": {
       "model_id": "8acc5a32bb5842f3a97580c19919cb28",
       "version_major": 2,
       "version_minor": 0
      },
      "text/plain": [
       "VBox()"
      ]
     },
     "metadata": {},
     "output_type": "display_data"
    },
    {
     "data": {
      "application/vnd.jupyter.widget-view+json": {
       "model_id": "",
       "version_major": 2,
       "version_minor": 0
      },
      "text/plain": [
       "FloatProgress(value=0.0, bar_style='info', description='Progress:', layout=Layout(height='25px', width='50%'),…"
      ]
     },
     "metadata": {},
     "output_type": "display_data"
    }
   ],
   "source": [
    "res = classification_report(preds_df[\"category\"], preds_df[\"result\"], output_dict=True)\n",
    "results_df.loc[\"GenericSVM_100d\"] = [res[\"pos\"][\"f1-score\"], res[\"accuracy\"]]"
   ]
  },
  {
   "cell_type": "markdown",
   "metadata": {
    "id": "hF378LqHvDRK"
   },
   "source": [
    "## 200 Dimension Healthcare Embeddings (embeddings_clinical)\n",
    "\n"
   ]
  },
  {
   "cell_type": "markdown",
   "metadata": {
    "id": "hEppd4Q3vDRK"
   },
   "source": [
    "Now we will extract [embeddings_clinical](https://nlp.johnsnowlabs.com/2020/01/28/embeddings_clinical_en.html) embeddings which has 200 dimension output and use this embeddings in the model training."
   ]
  },
  {
   "cell_type": "code",
   "execution_count": 65,
   "metadata": {
    "colab": {
     "base_uri": "https://localhost:8080/"
    },
    "execution": {
     "iopub.execute_input": "2023-09-15T08:50:45.352855Z",
     "iopub.status.busy": "2023-09-15T08:50:45.352563Z",
     "iopub.status.idle": "2023-09-15T08:52:47.017412Z",
     "shell.execute_reply": "2023-09-15T08:52:47.016462Z",
     "shell.execute_reply.started": "2023-09-15T08:50:45.352820Z"
    },
    "executionInfo": {
     "elapsed": 55911,
     "status": "ok",
     "timestamp": 1689669985158,
     "user": {
      "displayName": "Ahmet Mesut BİROL",
      "userId": "04340760882990254267"
     },
     "user_tz": -180
    },
    "id": "Dv95E2vNvDRK",
    "outputId": "ca9db8bd-c201-40bb-ba20-0f61de31d58a",
    "tags": []
   },
   "outputs": [
    {
     "data": {
      "application/vnd.jupyter.widget-view+json": {
       "model_id": "cf50ceb2cfbe4114b5b7051590a95a86",
       "version_major": 2,
       "version_minor": 0
      },
      "text/plain": [
       "VBox()"
      ]
     },
     "metadata": {},
     "output_type": "display_data"
    },
    {
     "data": {
      "application/vnd.jupyter.widget-view+json": {
       "model_id": "",
       "version_major": 2,
       "version_minor": 0
      },
      "text/plain": [
       "FloatProgress(value=0.0, bar_style='info', description='Progress:', layout=Layout(height='25px', width='50%'),…"
      ]
     },
     "metadata": {},
     "output_type": "display_data"
    },
    {
     "name": "stdout",
     "output_type": "stream",
     "text": [
      "embeddings_clinical download started this may take some time.\n",
      "Approximate size to download 1.6 GB\n",
      "[OK!]"
     ]
    }
   ],
   "source": [
    "document_assembler = nlp.DocumentAssembler()\\\n",
    "        .setInputCol(\"text\")\\\n",
    "        .setOutputCol(\"document\")\n",
    "\n",
    "tokenizer = nlp.Tokenizer() \\\n",
    "            .setInputCols([\"document\"]) \\\n",
    "            .setOutputCol(\"token\")\n",
    "\n",
    "word_embeddings = nlp.WordEmbeddingsModel.pretrained(\"embeddings_clinical\",\"en\",\"clinical/models\")\\\n",
    "        .setInputCols([\"document\",\"token\"])\\\n",
    "        .setOutputCol(\"word_embeddings\")\n",
    "\n",
    "sentence_embeddings = nlp.SentenceEmbeddings() \\\n",
    "        .setInputCols([\"document\", \"word_embeddings\"]) \\\n",
    "        .setOutputCol(\"sentence_embeddings\") \\\n",
    "        .setPoolingStrategy(\"AVERAGE\")\n",
    "\n",
    "embeddings_pipeline = nlp.Pipeline(\n",
    "    stages = [\n",
    "        document_assembler,\n",
    "        tokenizer,\n",
    "        word_embeddings,\n",
    "        sentence_embeddings,\n",
    "    ])"
   ]
  },
  {
   "cell_type": "code",
   "execution_count": 66,
   "metadata": {
    "colab": {
     "base_uri": "https://localhost:8080/"
    },
    "execution": {
     "iopub.execute_input": "2023-09-15T08:52:47.019578Z",
     "iopub.status.busy": "2023-09-15T08:52:47.019172Z",
     "iopub.status.idle": "2023-09-15T08:52:54.318729Z",
     "shell.execute_reply": "2023-09-15T08:52:54.318042Z",
     "shell.execute_reply.started": "2023-09-15T08:52:47.019527Z"
    },
    "executionInfo": {
     "elapsed": 10,
     "status": "ok",
     "timestamp": 1689669985158,
     "user": {
      "displayName": "Ahmet Mesut BİROL",
      "userId": "04340760882990254267"
     },
     "user_tz": -180
    },
    "id": "uj2dbrthvDRK",
    "outputId": "cee5af6d-91d9-41ea-910c-6b9e16fdab1f"
   },
   "outputs": [
    {
     "data": {
      "application/vnd.jupyter.widget-view+json": {
       "model_id": "8e67ce03505246278fe0f6ce837023c3",
       "version_major": 2,
       "version_minor": 0
      },
      "text/plain": [
       "VBox()"
      ]
     },
     "metadata": {},
     "output_type": "display_data"
    },
    {
     "data": {
      "application/vnd.jupyter.widget-view+json": {
       "model_id": "",
       "version_major": 2,
       "version_minor": 0
      },
      "text/plain": [
       "FloatProgress(value=0.0, bar_style='info', description='Progress:', layout=Layout(height='25px', width='50%'),…"
      ]
     },
     "metadata": {},
     "output_type": "display_data"
    },
    {
     "name": "stdout",
     "output_type": "stream",
     "text": [
      "+------------------------------------------------------------+--------+------------------------------------------------------------+\n",
      "|                                                        text|category|                                         sentence_embeddings|\n",
      "+------------------------------------------------------------+--------+------------------------------------------------------------+\n",
      "| (4) The acute rehabilitation of a 21-year-old woman with...|     neg|[{sentence_embeddings, 0, 182,  (4) The acute rehabilitat...|\n",
      "| A 16-year-old girl with erosive, polyarticular JRA showe...|     neg|[{sentence_embeddings, 0, 129,  A 16-year-old girl with e...|\n",
      "+------------------------------------------------------------+--------+------------------------------------------------------------+\n",
      "only showing top 2 rows"
     ]
    }
   ],
   "source": [
    "trainingData_with_embeddings = embeddings_pipeline.fit(trainingData).transform(trainingData)\\\n",
    "                                                  .select(\"text\",\"category\",\"sentence_embeddings\")\n",
    "trainingData_with_embeddings.show(2,truncate=60)"
   ]
  },
  {
   "cell_type": "code",
   "execution_count": 67,
   "metadata": {
    "colab": {
     "base_uri": "https://localhost:8080/"
    },
    "execution": {
     "iopub.execute_input": "2023-09-15T08:52:54.320364Z",
     "iopub.status.busy": "2023-09-15T08:52:54.320148Z",
     "iopub.status.idle": "2023-09-15T08:52:55.088088Z",
     "shell.execute_reply": "2023-09-15T08:52:55.087383Z",
     "shell.execute_reply.started": "2023-09-15T08:52:54.320334Z"
    },
    "executionInfo": {
     "elapsed": 465,
     "status": "ok",
     "timestamp": 1689669985619,
     "user": {
      "displayName": "Ahmet Mesut BİROL",
      "userId": "04340760882990254267"
     },
     "user_tz": -180
    },
    "id": "jPZSMm5pvDRK",
    "outputId": "d0aacda6-c6b4-4636-a5fb-6016055427c3"
   },
   "outputs": [
    {
     "data": {
      "application/vnd.jupyter.widget-view+json": {
       "model_id": "ef37c85010224ca6830586cbf9b1ee77",
       "version_major": 2,
       "version_minor": 0
      },
      "text/plain": [
       "VBox()"
      ]
     },
     "metadata": {},
     "output_type": "display_data"
    },
    {
     "data": {
      "application/vnd.jupyter.widget-view+json": {
       "model_id": "",
       "version_major": 2,
       "version_minor": 0
      },
      "text/plain": [
       "FloatProgress(value=0.0, bar_style='info', description='Progress:', layout=Layout(height='25px', width='50%'),…"
      ]
     },
     "metadata": {},
     "output_type": "display_data"
    },
    {
     "name": "stdout",
     "output_type": "stream",
     "text": [
      "+------------------------------------------------------------+--------+------------------------------------------------------------+\n",
      "|                                                        text|category|                                         sentence_embeddings|\n",
      "+------------------------------------------------------------+--------+------------------------------------------------------------+\n",
      "| A 51-year-old-woman presented with chronic eosinophilia,...|     neg|[{sentence_embeddings, 0, 139,  A 51-year-old-woman prese...|\n",
      "| Additionally, their Global Assessment Scale (GAS) score ...|     neg|[{sentence_embeddings, 0, 164,  Additionally, their Globa...|\n",
      "+------------------------------------------------------------+--------+------------------------------------------------------------+\n",
      "only showing top 2 rows"
     ]
    }
   ],
   "source": [
    "testData_with_embeddings = embeddings_pipeline.fit(testData).transform(testData)\\\n",
    "                                                  .select(\"text\",\"category\",\"sentence_embeddings\")\n",
    "testData_with_embeddings.show(2,truncate=60)"
   ]
  },
  {
   "cell_type": "code",
   "execution_count": 68,
   "metadata": {
    "execution": {
     "iopub.execute_input": "2023-09-15T08:53:23.874042Z",
     "iopub.status.busy": "2023-09-15T08:53:23.873763Z",
     "iopub.status.idle": "2023-09-15T08:53:23.930885Z",
     "shell.execute_reply": "2023-09-15T08:53:23.930218Z",
     "shell.execute_reply.started": "2023-09-15T08:53:23.874010Z"
    },
    "id": "qrF7eDHBdmBp"
   },
   "outputs": [
    {
     "data": {
      "application/vnd.jupyter.widget-view+json": {
       "model_id": "6c2a9e71530a4434a176fa8c40ee6dac",
       "version_major": 2,
       "version_minor": 0
      },
      "text/plain": [
       "VBox()"
      ]
     },
     "metadata": {},
     "output_type": "display_data"
    },
    {
     "data": {
      "application/vnd.jupyter.widget-view+json": {
       "model_id": "",
       "version_major": 2,
       "version_minor": 0
      },
      "text/plain": [
       "FloatProgress(value=0.0, bar_style='info', description='Progress:', layout=Layout(height='25px', width='50%'),…"
      ]
     },
     "metadata": {},
     "output_type": "display_data"
    }
   ],
   "source": [
    "log_folder=\"/tmp/ADE_logs_healthcare_200d\""
   ]
  },
  {
   "cell_type": "markdown",
   "metadata": {
    "id": "coHHa_CRvDRL"
   },
   "source": [
    "### ClassifierDL"
   ]
  },
  {
   "cell_type": "code",
   "execution_count": 69,
   "metadata": {
    "execution": {
     "iopub.execute_input": "2023-09-15T08:53:28.171328Z",
     "iopub.status.busy": "2023-09-15T08:53:28.171022Z",
     "iopub.status.idle": "2023-09-15T08:53:28.230269Z",
     "shell.execute_reply": "2023-09-15T08:53:28.229545Z",
     "shell.execute_reply.started": "2023-09-15T08:53:28.171263Z"
    },
    "id": "thQ0sg91vDRL"
   },
   "outputs": [
    {
     "data": {
      "application/vnd.jupyter.widget-view+json": {
       "model_id": "dccc9d5ddff244568e5259dd2f7ac7de",
       "version_major": 2,
       "version_minor": 0
      },
      "text/plain": [
       "VBox()"
      ]
     },
     "metadata": {},
     "output_type": "display_data"
    },
    {
     "data": {
      "application/vnd.jupyter.widget-view+json": {
       "model_id": "",
       "version_major": 2,
       "version_minor": 0
      },
      "text/plain": [
       "FloatProgress(value=0.0, bar_style='info', description='Progress:', layout=Layout(height='25px', width='50%'),…"
      ]
     },
     "metadata": {},
     "output_type": "display_data"
    }
   ],
   "source": [
    "classifier_dl = nlp.ClassifierDLApproach()\\\n",
    "        .setInputCols([\"sentence_embeddings\"])\\\n",
    "        .setOutputCol(\"class\")\\\n",
    "        .setLabelColumn(\"category\")\\\n",
    "        .setBatchSize(16)\\\n",
    "        .setMaxEpochs(30)\\\n",
    "        .setLr(0.001)\\\n",
    "        .setDropout(0.3)\\\n",
    "        .setEnableOutputLogs(True)\\\n",
    "        .setOutputLogsPath(log_folder)\n",
    "\n",
    "classifier_dl_pipeline = nlp.Pipeline(\n",
    "    stages = [\n",
    "        classifier_dl\n",
    "    ])"
   ]
  },
  {
   "cell_type": "code",
   "execution_count": 70,
   "metadata": {
    "execution": {
     "iopub.execute_input": "2023-09-15T08:53:30.747944Z",
     "iopub.status.busy": "2023-09-15T08:53:30.747680Z",
     "iopub.status.idle": "2023-09-15T08:54:26.226689Z",
     "shell.execute_reply": "2023-09-15T08:54:26.225910Z",
     "shell.execute_reply.started": "2023-09-15T08:53:30.747912Z"
    },
    "id": "VdWaWXcbvDRL"
   },
   "outputs": [
    {
     "data": {
      "application/vnd.jupyter.widget-view+json": {
       "model_id": "3bb5d16e6190441b9896ba502e3d5044",
       "version_major": 2,
       "version_minor": 0
      },
      "text/plain": [
       "VBox()"
      ]
     },
     "metadata": {},
     "output_type": "display_data"
    },
    {
     "data": {
      "application/vnd.jupyter.widget-view+json": {
       "model_id": "",
       "version_major": 2,
       "version_minor": 0
      },
      "text/plain": [
       "FloatProgress(value=0.0, bar_style='info', description='Progress:', layout=Layout(height='25px', width='50%'),…"
      ]
     },
     "metadata": {},
     "output_type": "display_data"
    }
   ],
   "source": [
    "clfDL_model_hc200 = classifier_dl_pipeline.fit(trainingData_with_embeddings)"
   ]
  },
  {
   "cell_type": "code",
   "execution_count": 71,
   "metadata": {
    "colab": {
     "base_uri": "https://localhost:8080/"
    },
    "execution": {
     "iopub.execute_input": "2023-09-15T08:54:26.228151Z",
     "iopub.status.busy": "2023-09-15T08:54:26.227926Z",
     "iopub.status.idle": "2023-09-15T08:54:31.521486Z",
     "shell.execute_reply": "2023-09-15T08:54:31.520753Z",
     "shell.execute_reply.started": "2023-09-15T08:54:26.228119Z"
    },
    "executionInfo": {
     "elapsed": 3596,
     "status": "ok",
     "timestamp": 1689670030552,
     "user": {
      "displayName": "Ahmet Mesut BİROL",
      "userId": "04340760882990254267"
     },
     "user_tz": -180
    },
    "id": "1W67GqjCvDRL",
    "outputId": "94e4788c-5480-4692-d9db-89d45dd16de1"
   },
   "outputs": [
    {
     "data": {
      "application/vnd.jupyter.widget-view+json": {
       "model_id": "1a0d0c3d3121464e997ba9e41f1ed0b6",
       "version_major": 2,
       "version_minor": 0
      },
      "text/plain": [
       "VBox()"
      ]
     },
     "metadata": {},
     "output_type": "display_data"
    },
    {
     "data": {
      "application/vnd.jupyter.widget-view+json": {
       "model_id": "",
       "version_major": 2,
       "version_minor": 0
      },
      "text/plain": [
       "FloatProgress(value=0.0, bar_style='info', description='Progress:', layout=Layout(height='25px', width='50%'),…"
      ]
     },
     "metadata": {},
     "output_type": "display_data"
    },
    {
     "name": "stdout",
     "output_type": "stream",
     "text": [
      "              precision    recall  f1-score   support\n",
      "\n",
      "         neg       0.87      0.91      0.89      1031\n",
      "         pos       0.76      0.68      0.72       423\n",
      "\n",
      "    accuracy                           0.85      1454\n",
      "   macro avg       0.82      0.80      0.81      1454\n",
      "weighted avg       0.84      0.85      0.84      1454"
     ]
    }
   ],
   "source": [
    "preds = clfDL_model_hc200.transform(testData_with_embeddings)\n",
    "\n",
    "preds_df = preds.select(\"category\",\"text\",\"class.result\").toPandas()\n",
    "preds_df[\"result\"] = preds_df[\"result\"].apply(lambda x : x[0])\n",
    "\n",
    "print (classification_report(preds_df[\"category\"], preds_df[\"result\"]))"
   ]
  },
  {
   "cell_type": "code",
   "execution_count": 72,
   "metadata": {
    "execution": {
     "iopub.execute_input": "2023-09-15T08:54:31.523346Z",
     "iopub.status.busy": "2023-09-15T08:54:31.523093Z",
     "iopub.status.idle": "2023-09-15T08:54:31.780808Z",
     "shell.execute_reply": "2023-09-15T08:54:31.780071Z",
     "shell.execute_reply.started": "2023-09-15T08:54:31.523314Z"
    },
    "id": "CcBH_amw9s5u",
    "tags": []
   },
   "outputs": [
    {
     "data": {
      "application/vnd.jupyter.widget-view+json": {
       "model_id": "2fb76fddf6fe4ae18a8f93ad00400fab",
       "version_major": 2,
       "version_minor": 0
      },
      "text/plain": [
       "VBox()"
      ]
     },
     "metadata": {},
     "output_type": "display_data"
    },
    {
     "data": {
      "application/vnd.jupyter.widget-view+json": {
       "model_id": "",
       "version_major": 2,
       "version_minor": 0
      },
      "text/plain": [
       "FloatProgress(value=0.0, bar_style='info', description='Progress:', layout=Layout(height='25px', width='50%'),…"
      ]
     },
     "metadata": {},
     "output_type": "display_data"
    }
   ],
   "source": [
    "res = classification_report(preds_df[\"category\"], preds_df[\"result\"], output_dict=True)\n",
    "results_df.loc[\"ClassifierDL_200d\"] = [res[\"pos\"][\"f1-score\"], res[\"accuracy\"]]"
   ]
  },
  {
   "cell_type": "markdown",
   "metadata": {
    "id": "Vz6ja6oP90It"
   },
   "source": [
    "### MultiClassifierDL"
   ]
  },
  {
   "cell_type": "code",
   "execution_count": 73,
   "metadata": {
    "execution": {
     "iopub.execute_input": "2023-09-15T08:54:31.782855Z",
     "iopub.status.busy": "2023-09-15T08:54:31.782522Z",
     "iopub.status.idle": "2023-09-15T08:54:32.046029Z",
     "shell.execute_reply": "2023-09-15T08:54:32.045335Z",
     "shell.execute_reply.started": "2023-09-15T08:54:31.782807Z"
    },
    "id": "u7AzomVo90Iu"
   },
   "outputs": [
    {
     "data": {
      "application/vnd.jupyter.widget-view+json": {
       "model_id": "6edd3896a7534d5bbc58d43e8cd19ee2",
       "version_major": 2,
       "version_minor": 0
      },
      "text/plain": [
       "VBox()"
      ]
     },
     "metadata": {},
     "output_type": "display_data"
    },
    {
     "data": {
      "application/vnd.jupyter.widget-view+json": {
       "model_id": "",
       "version_major": 2,
       "version_minor": 0
      },
      "text/plain": [
       "FloatProgress(value=0.0, bar_style='info', description='Progress:', layout=Layout(height='25px', width='50%'),…"
      ]
     },
     "metadata": {},
     "output_type": "display_data"
    }
   ],
   "source": [
    "# MultiClassifierDL accepts list of strings as input label. So we convert label column to array type.\n",
    "trainingData_with_embeddings = trainingData_with_embeddings.withColumn(\"category_array\", F.array(F.col(\"category\")))\n",
    "testData_with_embeddings = testData_with_embeddings.withColumn(\"category_array\", F.array(F.col(\"category\")))"
   ]
  },
  {
   "cell_type": "code",
   "execution_count": 74,
   "metadata": {
    "execution": {
     "iopub.execute_input": "2023-09-15T08:54:32.047238Z",
     "iopub.status.busy": "2023-09-15T08:54:32.047003Z",
     "iopub.status.idle": "2023-09-15T08:54:32.109642Z",
     "shell.execute_reply": "2023-09-15T08:54:32.108979Z",
     "shell.execute_reply.started": "2023-09-15T08:54:32.047208Z"
    },
    "id": "O25HWJXx90Iu"
   },
   "outputs": [
    {
     "data": {
      "application/vnd.jupyter.widget-view+json": {
       "model_id": "e7523a91e1274fd7be9b8cebe5e02a55",
       "version_major": 2,
       "version_minor": 0
      },
      "text/plain": [
       "VBox()"
      ]
     },
     "metadata": {},
     "output_type": "display_data"
    },
    {
     "data": {
      "application/vnd.jupyter.widget-view+json": {
       "model_id": "",
       "version_major": 2,
       "version_minor": 0
      },
      "text/plain": [
       "FloatProgress(value=0.0, bar_style='info', description='Progress:', layout=Layout(height='25px', width='50%'),…"
      ]
     },
     "metadata": {},
     "output_type": "display_data"
    }
   ],
   "source": [
    "multiClassifier =nlp.MultiClassifierDLApproach()\\\n",
    "  .setInputCols(\"sentence_embeddings\")\\\n",
    "  .setOutputCol(\"prediction\")\\\n",
    "  .setLabelColumn(\"category_array\")\\\n",
    "  .setBatchSize(32)\\\n",
    "  .setMaxEpochs(20)\\\n",
    "  .setLr(9e-3)\\\n",
    "  .setThreshold(0.5)\\\n",
    "  .setShufflePerEpoch(False)\\\n",
    "  .setEnableOutputLogs(True)\\\n",
    "  .setOutputLogsPath(log_folder)\\\n",
    "#   .setValidationSplit(0.1)\n",
    "\n",
    "multiClassifier_pipeline = nlp.Pipeline(\n",
    "    stages = [\n",
    "        multiClassifier\n",
    "    ])"
   ]
  },
  {
   "cell_type": "code",
   "execution_count": 75,
   "metadata": {
    "execution": {
     "iopub.execute_input": "2023-09-15T08:54:32.110778Z",
     "iopub.status.busy": "2023-09-15T08:54:32.110573Z",
     "iopub.status.idle": "2023-09-15T08:56:20.358205Z",
     "shell.execute_reply": "2023-09-15T08:56:20.357508Z",
     "shell.execute_reply.started": "2023-09-15T08:54:32.110748Z"
    },
    "id": "AfwUG4E890Iu"
   },
   "outputs": [
    {
     "data": {
      "application/vnd.jupyter.widget-view+json": {
       "model_id": "da190c16862b4b1d829b131af74a697c",
       "version_major": 2,
       "version_minor": 0
      },
      "text/plain": [
       "VBox()"
      ]
     },
     "metadata": {},
     "output_type": "display_data"
    },
    {
     "data": {
      "application/vnd.jupyter.widget-view+json": {
       "model_id": "",
       "version_major": 2,
       "version_minor": 0
      },
      "text/plain": [
       "FloatProgress(value=0.0, bar_style='info', description='Progress:', layout=Layout(height='25px', width='50%'),…"
      ]
     },
     "metadata": {},
     "output_type": "display_data"
    }
   ],
   "source": [
    "multiClassifier_model_hc200 = multiClassifier_pipeline.fit(trainingData_with_embeddings)"
   ]
  },
  {
   "cell_type": "code",
   "execution_count": 76,
   "metadata": {
    "execution": {
     "iopub.execute_input": "2023-09-15T08:56:20.359374Z",
     "iopub.status.busy": "2023-09-15T08:56:20.359130Z",
     "iopub.status.idle": "2023-09-15T08:56:20.620156Z",
     "shell.execute_reply": "2023-09-15T08:56:20.619471Z",
     "shell.execute_reply.started": "2023-09-15T08:56:20.359340Z"
    },
    "id": "dqWL8GcD90Iu"
   },
   "outputs": [
    {
     "data": {
      "application/vnd.jupyter.widget-view+json": {
       "model_id": "abe00c6c55274a9491ba63360fd3715e",
       "version_major": 2,
       "version_minor": 0
      },
      "text/plain": [
       "VBox()"
      ]
     },
     "metadata": {},
     "output_type": "display_data"
    },
    {
     "data": {
      "application/vnd.jupyter.widget-view+json": {
       "model_id": "",
       "version_major": 2,
       "version_minor": 0
      },
      "text/plain": [
       "FloatProgress(value=0.0, bar_style='info', description='Progress:', layout=Layout(height='25px', width='50%'),…"
      ]
     },
     "metadata": {},
     "output_type": "display_data"
    }
   ],
   "source": [
    "preds = multiClassifier_model_hc200.transform(testData_with_embeddings)"
   ]
  },
  {
   "cell_type": "code",
   "execution_count": 77,
   "metadata": {
    "colab": {
     "base_uri": "https://localhost:8080/"
    },
    "execution": {
     "iopub.execute_input": "2023-09-15T08:56:20.622104Z",
     "iopub.status.busy": "2023-09-15T08:56:20.621872Z",
     "iopub.status.idle": "2023-09-15T08:57:26.094019Z",
     "shell.execute_reply": "2023-09-15T08:57:26.093275Z",
     "shell.execute_reply.started": "2023-09-15T08:56:20.622074Z"
    },
    "executionInfo": {
     "elapsed": 21696,
     "status": "ok",
     "timestamp": 1689670120352,
     "user": {
      "displayName": "Ahmet Mesut BİROL",
      "userId": "04340760882990254267"
     },
     "user_tz": -180
    },
    "id": "leP1l4bN90Iu",
    "outputId": "2a40ebff-3e0f-4b18-c097-e202e767102c"
   },
   "outputs": [
    {
     "data": {
      "application/vnd.jupyter.widget-view+json": {
       "model_id": "e411b93b1bfc495e88d21bf13578c937",
       "version_major": 2,
       "version_minor": 0
      },
      "text/plain": [
       "VBox()"
      ]
     },
     "metadata": {},
     "output_type": "display_data"
    },
    {
     "data": {
      "application/vnd.jupyter.widget-view+json": {
       "model_id": "",
       "version_major": 2,
       "version_minor": 0
      },
      "text/plain": [
       "FloatProgress(value=0.0, bar_style='info', description='Progress:', layout=Layout(height='25px', width='50%'),…"
      ]
     },
     "metadata": {},
     "output_type": "display_data"
    },
    {
     "name": "stdout",
     "output_type": "stream",
     "text": [
      "['neg']    1024\n",
      "['pos']     430\n",
      "Name: result, dtype: int64"
     ]
    }
   ],
   "source": [
    "preds_df = preds.select(\"category\",\"text\",\"prediction.result\",\"prediction.metadata\").toPandas()\n",
    "preds_df.result.apply(lambda x: str(x) ).value_counts()"
   ]
  },
  {
   "cell_type": "code",
   "execution_count": 78,
   "metadata": {
    "colab": {
     "base_uri": "https://localhost:8080/"
    },
    "execution": {
     "iopub.execute_input": "2023-09-15T08:57:26.095409Z",
     "iopub.status.busy": "2023-09-15T08:57:26.095137Z",
     "iopub.status.idle": "2023-09-15T08:57:26.150934Z",
     "shell.execute_reply": "2023-09-15T08:57:26.150207Z",
     "shell.execute_reply.started": "2023-09-15T08:57:26.095378Z"
    },
    "executionInfo": {
     "elapsed": 26,
     "status": "ok",
     "timestamp": 1689670120353,
     "user": {
      "displayName": "Ahmet Mesut BİROL",
      "userId": "04340760882990254267"
     },
     "user_tz": -180
    },
    "id": "puS1FgQ-90Iv",
    "outputId": "3b41b4bc-55a2-4b6e-8c63-132b5f653604"
   },
   "outputs": [
    {
     "data": {
      "application/vnd.jupyter.widget-view+json": {
       "model_id": "407ba92fb8074728bee89b0f222a7140",
       "version_major": 2,
       "version_minor": 0
      },
      "text/plain": [
       "VBox()"
      ]
     },
     "metadata": {},
     "output_type": "display_data"
    },
    {
     "data": {
      "application/vnd.jupyter.widget-view+json": {
       "model_id": "",
       "version_major": 2,
       "version_minor": 0
      },
      "text/plain": [
       "FloatProgress(value=0.0, bar_style='info', description='Progress:', layout=Layout(height='25px', width='50%'),…"
      ]
     },
     "metadata": {},
     "output_type": "display_data"
    },
    {
     "name": "stdout",
     "output_type": "stream",
     "text": [
      "neg    1024\n",
      "pos     430\n",
      "Name: result, dtype: int64"
     ]
    }
   ],
   "source": [
    "# We will get the highest score label as result. You can control the number of zero label results with setThreshold() in the training.\n",
    "preds_df[\"scores\"] = preds_df.metadata.apply(lambda x: {k:float(v) for k,v in x[0].items()} if len(x)>=1 else \"\")\n",
    "preds_df[\"result\"] = preds_df.scores.apply(lambda x: max(x, key=x.get) if len(x)>=1 else \"\")\n",
    "preds_df = preds_df[(preds_df[\"result\"]!=\"\")]\n",
    "preds_df[\"result\"].value_counts()"
   ]
  },
  {
   "cell_type": "code",
   "execution_count": 79,
   "metadata": {
    "colab": {
     "base_uri": "https://localhost:8080/"
    },
    "execution": {
     "iopub.execute_input": "2023-09-15T08:57:26.152166Z",
     "iopub.status.busy": "2023-09-15T08:57:26.151946Z",
     "iopub.status.idle": "2023-09-15T08:57:26.412628Z",
     "shell.execute_reply": "2023-09-15T08:57:26.411849Z",
     "shell.execute_reply.started": "2023-09-15T08:57:26.152135Z"
    },
    "executionInfo": {
     "elapsed": 12,
     "status": "ok",
     "timestamp": 1689670120353,
     "user": {
      "displayName": "Ahmet Mesut BİROL",
      "userId": "04340760882990254267"
     },
     "user_tz": -180
    },
    "id": "8F9FcFBN90Iv",
    "outputId": "5dfd682f-1b65-4495-c74d-8258b370d414"
   },
   "outputs": [
    {
     "data": {
      "application/vnd.jupyter.widget-view+json": {
       "model_id": "75f14fa115524b66a90f3b74c838dfc3",
       "version_major": 2,
       "version_minor": 0
      },
      "text/plain": [
       "VBox()"
      ]
     },
     "metadata": {},
     "output_type": "display_data"
    },
    {
     "data": {
      "application/vnd.jupyter.widget-view+json": {
       "model_id": "",
       "version_major": 2,
       "version_minor": 0
      },
      "text/plain": [
       "FloatProgress(value=0.0, bar_style='info', description='Progress:', layout=Layout(height='25px', width='50%'),…"
      ]
     },
     "metadata": {},
     "output_type": "display_data"
    },
    {
     "name": "stdout",
     "output_type": "stream",
     "text": [
      "              precision    recall  f1-score   support\n",
      "\n",
      "         neg       0.88      0.88      0.88      1031\n",
      "         pos       0.70      0.71      0.71       423\n",
      "\n",
      "    accuracy                           0.83      1454\n",
      "   macro avg       0.79      0.79      0.79      1454\n",
      "weighted avg       0.83      0.83      0.83      1454"
     ]
    }
   ],
   "source": [
    "print (classification_report(preds_df[\"category\"], preds_df[\"result\"]))"
   ]
  },
  {
   "cell_type": "code",
   "execution_count": 80,
   "metadata": {
    "execution": {
     "iopub.execute_input": "2023-09-15T08:57:26.413836Z",
     "iopub.status.busy": "2023-09-15T08:57:26.413607Z",
     "iopub.status.idle": "2023-09-15T08:57:26.675418Z",
     "shell.execute_reply": "2023-09-15T08:57:26.674678Z",
     "shell.execute_reply.started": "2023-09-15T08:57:26.413805Z"
    },
    "id": "A47dE8e49_mo"
   },
   "outputs": [
    {
     "data": {
      "application/vnd.jupyter.widget-view+json": {
       "model_id": "f39526eb92cb42d0991b56428a2f5073",
       "version_major": 2,
       "version_minor": 0
      },
      "text/plain": [
       "VBox()"
      ]
     },
     "metadata": {},
     "output_type": "display_data"
    },
    {
     "data": {
      "application/vnd.jupyter.widget-view+json": {
       "model_id": "",
       "version_major": 2,
       "version_minor": 0
      },
      "text/plain": [
       "FloatProgress(value=0.0, bar_style='info', description='Progress:', layout=Layout(height='25px', width='50%'),…"
      ]
     },
     "metadata": {},
     "output_type": "display_data"
    }
   ],
   "source": [
    "res = classification_report(preds_df[\"category\"], preds_df[\"result\"], output_dict=True)\n",
    "results_df.loc[\"MultiClassifierDL_200d\"] = [res[\"pos\"][\"f1-score\"], res[\"accuracy\"]]"
   ]
  },
  {
   "cell_type": "markdown",
   "metadata": {
    "id": "lwu69bczvDRL"
   },
   "source": [
    "### Generic Classifier"
   ]
  },
  {
   "cell_type": "code",
   "execution_count": null,
   "metadata": {
    "id": "5j2f-YZdiNdK"
   },
   "outputs": [],
   "source": [
    "# !pip install -q tensorflow==2.7.0 tensorflow_addons"
   ]
  },
  {
   "cell_type": "code",
   "execution_count": 81,
   "metadata": {
    "execution": {
     "iopub.execute_input": "2023-09-15T08:58:03.182230Z",
     "iopub.status.busy": "2023-09-15T08:58:03.181923Z",
     "iopub.status.idle": "2023-09-15T08:58:03.238914Z",
     "shell.execute_reply": "2023-09-15T08:58:03.238192Z",
     "shell.execute_reply.started": "2023-09-15T08:58:03.182195Z"
    },
    "id": "YTuqFVXKvDRL"
   },
   "outputs": [
    {
     "data": {
      "application/vnd.jupyter.widget-view+json": {
       "model_id": "702dc7736f174d5d9742dcab8308fbc2",
       "version_major": 2,
       "version_minor": 0
      },
      "text/plain": [
       "VBox()"
      ]
     },
     "metadata": {},
     "output_type": "display_data"
    },
    {
     "data": {
      "application/vnd.jupyter.widget-view+json": {
       "model_id": "",
       "version_major": 2,
       "version_minor": 0
      },
      "text/plain": [
       "FloatProgress(value=0.0, bar_style='info', description='Progress:', layout=Layout(height='25px', width='50%'),…"
      ]
     },
     "metadata": {},
     "output_type": "display_data"
    }
   ],
   "source": [
    "#from sparknlp_jsl.annotator import TFGraphBuilder\n",
    "\n",
    "graph_folder = \"/tmp/gc_graph\"\n",
    "\n",
    "gc_graph_builder = medical.TFGraphBuilder()\\\n",
    "    .setModelName(\"generic_classifier\")\\\n",
    "    .setInputCols([\"features\"])\\\n",
    "    .setLabelColumn(\"category\")\\\n",
    "    .setHiddenLayers([300,200, 50])\\\n",
    "    .setHiddenAct(\"tanh\")\\\n",
    "    .setHiddenActL2(True)\\\n",
    "    .setBatchNorm(True)\\\n",
    "    .setGraphFolder(graph_folder)\\\n",
    "    .setGraphFile(\"gcf_graph_200d.pb\")"
   ]
  },
  {
   "cell_type": "code",
   "execution_count": 82,
   "metadata": {
    "execution": {
     "iopub.execute_input": "2023-09-15T08:58:04.111821Z",
     "iopub.status.busy": "2023-09-15T08:58:04.111550Z",
     "iopub.status.idle": "2023-09-15T08:58:04.171933Z",
     "shell.execute_reply": "2023-09-15T08:58:04.171180Z",
     "shell.execute_reply.started": "2023-09-15T08:58:04.111787Z"
    },
    "id": "Acx95To9vDRL"
   },
   "outputs": [
    {
     "data": {
      "application/vnd.jupyter.widget-view+json": {
       "model_id": "54098f0ff99549d48034251da541057d",
       "version_major": 2,
       "version_minor": 0
      },
      "text/plain": [
       "VBox()"
      ]
     },
     "metadata": {},
     "output_type": "display_data"
    },
    {
     "data": {
      "application/vnd.jupyter.widget-view+json": {
       "model_id": "",
       "version_major": 2,
       "version_minor": 0
      },
      "text/plain": [
       "FloatProgress(value=0.0, bar_style='info', description='Progress:', layout=Layout(height='25px', width='50%'),…"
      ]
     },
     "metadata": {},
     "output_type": "display_data"
    }
   ],
   "source": [
    "features_asm =medical.FeaturesAssembler()\\\n",
    "    .setInputCols([\"sentence_embeddings\"])\\\n",
    "    .setOutputCol(\"features\")\n",
    "\n",
    "gen_clf =medical.GenericClassifierApproach()\\\n",
    "    .setLabelColumn(\"category\")\\\n",
    "    .setInputCols(\"features\")\\\n",
    "    .setOutputCol(\"prediction\")\\\n",
    "    .setModelFile(f\"{graph_folder}/gcf_graph_200d.pb\")\\\n",
    "    .setEpochsNumber(40)\\\n",
    "    .setBatchSize(16)\\\n",
    "    .setLearningRate(0.001)\\\n",
    "    .setOutputLogsPath(log_folder)\\\n",
    "    .setDropout(0.5)\\\n",
    "    .setFixImbalance(True)\\\n",
    "    # .setValidationSplit(0.1)\n",
    "\n",
    "clf_Pipeline = nlp.Pipeline(stages=[\n",
    "    features_asm,\n",
    "    gc_graph_builder,\n",
    "    gen_clf])\n"
   ]
  },
  {
   "cell_type": "code",
   "execution_count": 83,
   "metadata": {
    "colab": {
     "base_uri": "https://localhost:8080/"
    },
    "execution": {
     "iopub.execute_input": "2023-09-15T08:58:05.559180Z",
     "iopub.status.busy": "2023-09-15T08:58:05.558903Z",
     "iopub.status.idle": "2023-09-15T08:58:49.290734Z",
     "shell.execute_reply": "2023-09-15T08:58:49.289970Z",
     "shell.execute_reply.started": "2023-09-15T08:58:05.559134Z"
    },
    "executionInfo": {
     "elapsed": 24332,
     "status": "ok",
     "timestamp": 1689670144680,
     "user": {
      "displayName": "Ahmet Mesut BİROL",
      "userId": "04340760882990254267"
     },
     "user_tz": -180
    },
    "id": "07qsryq3vDRL",
    "outputId": "0d7d800c-49c0-4189-db91-7f45efb1fb3f"
   },
   "outputs": [
    {
     "data": {
      "application/vnd.jupyter.widget-view+json": {
       "model_id": "3e45caa715074f9687e899ffd7ea6331",
       "version_major": 2,
       "version_minor": 0
      },
      "text/plain": [
       "VBox()"
      ]
     },
     "metadata": {},
     "output_type": "display_data"
    },
    {
     "data": {
      "application/vnd.jupyter.widget-view+json": {
       "model_id": "",
       "version_major": 2,
       "version_minor": 0
      },
      "text/plain": [
       "FloatProgress(value=0.0, bar_style='info', description='Progress:', layout=Layout(height='25px', width='50%'),…"
      ]
     },
     "metadata": {},
     "output_type": "display_data"
    },
    {
     "name": "stdout",
     "output_type": "stream",
     "text": [
      "TF Graph Builder configuration:\n",
      "Model name: generic_classifier\n",
      "Graph folder: /tmp/gc_graph\n",
      "Graph file name: gcf_graph_200d.pb\n",
      "Build params: {'input_dim': 200, 'output_dim': 2, 'hidden_layers': [300, 200, 50], 'hidden_act': 'tanh', 'hidden_act_l2': True, 'batch_norm': True}\n",
      "generic_classifier graph exported to /tmp/gc_graph/gcf_graph_200d.pb"
     ]
    }
   ],
   "source": [
    "generic_model_hc200 = clf_Pipeline.fit(trainingData_with_embeddings)"
   ]
  },
  {
   "cell_type": "code",
   "execution_count": 84,
   "metadata": {
    "colab": {
     "base_uri": "https://localhost:8080/"
    },
    "execution": {
     "iopub.execute_input": "2023-09-15T08:58:49.292199Z",
     "iopub.status.busy": "2023-09-15T08:58:49.291982Z",
     "iopub.status.idle": "2023-09-15T08:58:51.567857Z",
     "shell.execute_reply": "2023-09-15T08:58:51.567058Z",
     "shell.execute_reply.started": "2023-09-15T08:58:49.292169Z"
    },
    "executionInfo": {
     "elapsed": 1490,
     "status": "ok",
     "timestamp": 1689670146166,
     "user": {
      "displayName": "Ahmet Mesut BİROL",
      "userId": "04340760882990254267"
     },
     "user_tz": -180
    },
    "id": "WahobkK8vDRL",
    "outputId": "629671f3-a0f3-4525-d067-0f3cfb46d833"
   },
   "outputs": [
    {
     "data": {
      "application/vnd.jupyter.widget-view+json": {
       "model_id": "81164e62e07d42a099ef29e73539fab2",
       "version_major": 2,
       "version_minor": 0
      },
      "text/plain": [
       "VBox()"
      ]
     },
     "metadata": {},
     "output_type": "display_data"
    },
    {
     "data": {
      "application/vnd.jupyter.widget-view+json": {
       "model_id": "",
       "version_major": 2,
       "version_minor": 0
      },
      "text/plain": [
       "FloatProgress(value=0.0, bar_style='info', description='Progress:', layout=Layout(height='25px', width='50%'),…"
      ]
     },
     "metadata": {},
     "output_type": "display_data"
    },
    {
     "name": "stdout",
     "output_type": "stream",
     "text": [
      "              precision    recall  f1-score   support\n",
      "\n",
      "         neg       0.92      0.82      0.86      1031\n",
      "         pos       0.65      0.82      0.72       423\n",
      "\n",
      "    accuracy                           0.82      1454\n",
      "   macro avg       0.78      0.82      0.79      1454\n",
      "weighted avg       0.84      0.82      0.82      1454"
     ]
    }
   ],
   "source": [
    "pred_df = generic_model_hc200.transform(testData_with_embeddings)\n",
    "\n",
    "preds_df = pred_df.select('category','prediction.result').toPandas()\n",
    "preds_df['result'] = preds_df.result.apply(lambda x : x[0])\n",
    "\n",
    "print (classification_report(preds_df['category'], preds_df['result']))"
   ]
  },
  {
   "cell_type": "code",
   "execution_count": 85,
   "metadata": {
    "execution": {
     "iopub.execute_input": "2023-09-15T08:58:51.569378Z",
     "iopub.status.busy": "2023-09-15T08:58:51.569156Z",
     "iopub.status.idle": "2023-09-15T08:58:52.078622Z",
     "shell.execute_reply": "2023-09-15T08:58:52.077867Z",
     "shell.execute_reply.started": "2023-09-15T08:58:51.569347Z"
    },
    "id": "fM0-_jzX-YNs"
   },
   "outputs": [
    {
     "data": {
      "application/vnd.jupyter.widget-view+json": {
       "model_id": "b96a2c124d4644af8ec72fa5874e399d",
       "version_major": 2,
       "version_minor": 0
      },
      "text/plain": [
       "VBox()"
      ]
     },
     "metadata": {},
     "output_type": "display_data"
    },
    {
     "data": {
      "application/vnd.jupyter.widget-view+json": {
       "model_id": "",
       "version_major": 2,
       "version_minor": 0
      },
      "text/plain": [
       "FloatProgress(value=0.0, bar_style='info', description='Progress:', layout=Layout(height='25px', width='50%'),…"
      ]
     },
     "metadata": {},
     "output_type": "display_data"
    }
   ],
   "source": [
    "res = classification_report(preds_df[\"category\"], preds_df[\"result\"], output_dict=True)\n",
    "results_df.loc[\"GenericClassifier_200d\"] = [res[\"pos\"][\"f1-score\"], res[\"accuracy\"]]"
   ]
  },
  {
   "cell_type": "markdown",
   "metadata": {
    "id": "MqvORol0XIG-"
   },
   "source": [
    "### GenericLogRegClassifier"
   ]
  },
  {
   "cell_type": "code",
   "execution_count": 86,
   "metadata": {
    "execution": {
     "iopub.execute_input": "2023-09-15T08:59:01.618992Z",
     "iopub.status.busy": "2023-09-15T08:59:01.618717Z",
     "iopub.status.idle": "2023-09-15T08:59:01.675001Z",
     "shell.execute_reply": "2023-09-15T08:59:01.674298Z",
     "shell.execute_reply.started": "2023-09-15T08:59:01.618958Z"
    },
    "id": "S7Ms5F5hXIG_"
   },
   "outputs": [
    {
     "data": {
      "application/vnd.jupyter.widget-view+json": {
       "model_id": "eff1999b70594a4fb1d41a76c262bac7",
       "version_major": 2,
       "version_minor": 0
      },
      "text/plain": [
       "VBox()"
      ]
     },
     "metadata": {},
     "output_type": "display_data"
    },
    {
     "data": {
      "application/vnd.jupyter.widget-view+json": {
       "model_id": "",
       "version_major": 2,
       "version_minor": 0
      },
      "text/plain": [
       "FloatProgress(value=0.0, bar_style='info', description='Progress:', layout=Layout(height='25px', width='50%'),…"
      ]
     },
     "metadata": {},
     "output_type": "display_data"
    }
   ],
   "source": [
    "graph_folder = \"/tmp/gc_graph\"\n",
    "\n",
    "gc_logreg_graph_builder = medical.TFGraphBuilder()\\\n",
    "    .setModelName(\"logreg_classifier\")\\\n",
    "    .setInputCols([\"feature_vector\"]) \\\n",
    "    .setLabelColumn(\"category\")\\\n",
    "    .setGraphFolder(graph_folder)\\\n",
    "    .setGraphFile(\"log_reg_graph.pb\")"
   ]
  },
  {
   "cell_type": "markdown",
   "metadata": {
    "id": "xUGr1BJJXIG_"
   },
   "source": [
    "GenericLogRegClassifier needs outputs from FeaturesAssembler. The FeaturesAssembler is used to collect features from different columns or an embeddings column.\n",
    "\n",
    "The GenericLogRegClassifier takes FEATURE_VECTOR annotations as input, classifies them and outputs CATEGORY annotations."
   ]
  },
  {
   "cell_type": "code",
   "execution_count": 87,
   "metadata": {
    "execution": {
     "iopub.execute_input": "2023-09-15T08:59:03.899438Z",
     "iopub.status.busy": "2023-09-15T08:59:03.899126Z",
     "iopub.status.idle": "2023-09-15T08:59:03.965033Z",
     "shell.execute_reply": "2023-09-15T08:59:03.964331Z",
     "shell.execute_reply.started": "2023-09-15T08:59:03.899404Z"
    },
    "id": "yuItEMF0XIG_"
   },
   "outputs": [
    {
     "data": {
      "application/vnd.jupyter.widget-view+json": {
       "model_id": "45b4f4f497a14ae69a61e33dfc53337f",
       "version_major": 2,
       "version_minor": 0
      },
      "text/plain": [
       "VBox()"
      ]
     },
     "metadata": {},
     "output_type": "display_data"
    },
    {
     "data": {
      "application/vnd.jupyter.widget-view+json": {
       "model_id": "",
       "version_major": 2,
       "version_minor": 0
      },
      "text/plain": [
       "FloatProgress(value=0.0, bar_style='info', description='Progress:', layout=Layout(height='25px', width='50%'),…"
      ]
     },
     "metadata": {},
     "output_type": "display_data"
    }
   ],
   "source": [
    "features_asm = medical.FeaturesAssembler()\\\n",
    "    .setInputCols([\"sentence_embeddings\"])\\\n",
    "    .setOutputCol(\"feature_vector\")\n",
    "\n",
    "gen_clf = medical.GenericLogRegClassifierApproach()\\\n",
    "    .setLabelColumn(\"category\")\\\n",
    "    .setInputCols(\"feature_vector\")\\\n",
    "    .setOutputCol(\"prediction\")\\\n",
    "    .setModelFile(f\"{graph_folder}/log_reg_graph.pb\")\\\n",
    "    .setEpochsNumber(20)\\\n",
    "    .setBatchSize(128)\\\n",
    "    .setLearningRate(0.01)\\\n",
    "    .setOutputLogsPath(log_folder)\\\n",
    "    .setDropout(0.1)\\\n",
    "    .setFixImbalance(True)\\\n",
    "    # .setValidationSplit(0.1)\n",
    "\n",
    "clf_Pipeline = nlp.Pipeline(stages=[\n",
    "    features_asm,\n",
    "    gc_logreg_graph_builder,\n",
    "    gen_clf])\n"
   ]
  },
  {
   "cell_type": "code",
   "execution_count": 88,
   "metadata": {
    "colab": {
     "base_uri": "https://localhost:8080/"
    },
    "execution": {
     "iopub.execute_input": "2023-09-15T08:59:09.929941Z",
     "iopub.status.busy": "2023-09-15T08:59:09.929435Z",
     "iopub.status.idle": "2023-09-15T08:59:21.444612Z",
     "shell.execute_reply": "2023-09-15T08:59:21.443755Z",
     "shell.execute_reply.started": "2023-09-15T08:59:09.929889Z"
    },
    "executionInfo": {
     "elapsed": 3722,
     "status": "ok",
     "timestamp": 1689670149885,
     "user": {
      "displayName": "Ahmet Mesut BİROL",
      "userId": "04340760882990254267"
     },
     "user_tz": -180
    },
    "id": "MWTfnlebXIG_",
    "outputId": "90f9b703-d8d1-4fc3-f7a4-547e312be570"
   },
   "outputs": [
    {
     "data": {
      "application/vnd.jupyter.widget-view+json": {
       "model_id": "6d1a9fa5c1074314bb82bc1f7e015a47",
       "version_major": 2,
       "version_minor": 0
      },
      "text/plain": [
       "VBox()"
      ]
     },
     "metadata": {},
     "output_type": "display_data"
    },
    {
     "data": {
      "application/vnd.jupyter.widget-view+json": {
       "model_id": "",
       "version_major": 2,
       "version_minor": 0
      },
      "text/plain": [
       "FloatProgress(value=0.0, bar_style='info', description='Progress:', layout=Layout(height='25px', width='50%'),…"
      ]
     },
     "metadata": {},
     "output_type": "display_data"
    },
    {
     "name": "stdout",
     "output_type": "stream",
     "text": [
      "TF Graph Builder configuration:\n",
      "Model name: logreg_classifier\n",
      "Graph folder: /tmp/gc_graph\n",
      "Graph file name: log_reg_graph.pb\n",
      "Build params: {'input_dim': 200, 'output_dim': 2, 'hidden_layers': [], 'output_act': 'sigmoid'}\n",
      "logreg_classifier graph exported to /tmp/gc_graph/log_reg_graph.pb"
     ]
    }
   ],
   "source": [
    "generic_model_hc200 = clf_Pipeline.fit(trainingData_with_embeddings)"
   ]
  },
  {
   "cell_type": "code",
   "execution_count": 89,
   "metadata": {
    "execution": {
     "iopub.execute_input": "2023-09-15T08:59:21.446064Z",
     "iopub.status.busy": "2023-09-15T08:59:21.445832Z",
     "iopub.status.idle": "2023-09-15T08:59:22.210232Z",
     "shell.execute_reply": "2023-09-15T08:59:22.209465Z",
     "shell.execute_reply.started": "2023-09-15T08:59:21.446033Z"
    },
    "id": "ORF9ZLKgXIG_"
   },
   "outputs": [
    {
     "data": {
      "application/vnd.jupyter.widget-view+json": {
       "model_id": "96606f75c9d143a99f1954f475bea614",
       "version_major": 2,
       "version_minor": 0
      },
      "text/plain": [
       "VBox()"
      ]
     },
     "metadata": {},
     "output_type": "display_data"
    },
    {
     "data": {
      "application/vnd.jupyter.widget-view+json": {
       "model_id": "",
       "version_major": 2,
       "version_minor": 0
      },
      "text/plain": [
       "FloatProgress(value=0.0, bar_style='info', description='Progress:', layout=Layout(height='25px', width='50%'),…"
      ]
     },
     "metadata": {},
     "output_type": "display_data"
    }
   ],
   "source": [
    "pred_df = generic_model_hc200.transform(testData_with_embeddings)"
   ]
  },
  {
   "cell_type": "code",
   "execution_count": 90,
   "metadata": {
    "colab": {
     "base_uri": "https://localhost:8080/"
    },
    "execution": {
     "iopub.execute_input": "2023-09-15T08:59:22.212686Z",
     "iopub.status.busy": "2023-09-15T08:59:22.212352Z",
     "iopub.status.idle": "2023-09-15T08:59:22.981002Z",
     "shell.execute_reply": "2023-09-15T08:59:22.980189Z",
     "shell.execute_reply.started": "2023-09-15T08:59:22.212635Z"
    },
    "executionInfo": {
     "elapsed": 351,
     "status": "ok",
     "timestamp": 1689670151296,
     "user": {
      "displayName": "Ahmet Mesut BİROL",
      "userId": "04340760882990254267"
     },
     "user_tz": -180
    },
    "id": "d1By23e1XIHA",
    "outputId": "05a9f533-7745-4b36-d434-bd280d9f7d55"
   },
   "outputs": [
    {
     "data": {
      "application/vnd.jupyter.widget-view+json": {
       "model_id": "c319b83115d84a5c9de9dfddb09e4b3e",
       "version_major": 2,
       "version_minor": 0
      },
      "text/plain": [
       "VBox()"
      ]
     },
     "metadata": {},
     "output_type": "display_data"
    },
    {
     "data": {
      "application/vnd.jupyter.widget-view+json": {
       "model_id": "",
       "version_major": 2,
       "version_minor": 0
      },
      "text/plain": [
       "FloatProgress(value=0.0, bar_style='info', description='Progress:', layout=Layout(height='25px', width='50%'),…"
      ]
     },
     "metadata": {},
     "output_type": "display_data"
    },
    {
     "name": "stdout",
     "output_type": "stream",
     "text": [
      "              precision    recall  f1-score   support\n",
      "\n",
      "         neg       0.81      0.93      0.86      1031\n",
      "         pos       0.73      0.46      0.56       423\n",
      "\n",
      "    accuracy                           0.79      1454\n",
      "   macro avg       0.77      0.69      0.71      1454\n",
      "weighted avg       0.78      0.79      0.78      1454"
     ]
    }
   ],
   "source": [
    "preds_df = pred_df.select('category','prediction.result').toPandas()\n",
    "preds_df['result'] = preds_df.result.apply(lambda x : x[0])\n",
    "\n",
    "print (classification_report(preds_df['category'], preds_df['result']))"
   ]
  },
  {
   "cell_type": "code",
   "execution_count": 91,
   "metadata": {
    "execution": {
     "iopub.execute_input": "2023-09-15T08:59:22.982546Z",
     "iopub.status.busy": "2023-09-15T08:59:22.982315Z",
     "iopub.status.idle": "2023-09-15T08:59:23.240258Z",
     "shell.execute_reply": "2023-09-15T08:59:23.239549Z",
     "shell.execute_reply.started": "2023-09-15T08:59:22.982515Z"
    },
    "id": "q61kpUMD-mcM"
   },
   "outputs": [
    {
     "data": {
      "application/vnd.jupyter.widget-view+json": {
       "model_id": "a54457dd61ff41a8ae8528949f444a32",
       "version_major": 2,
       "version_minor": 0
      },
      "text/plain": [
       "VBox()"
      ]
     },
     "metadata": {},
     "output_type": "display_data"
    },
    {
     "data": {
      "application/vnd.jupyter.widget-view+json": {
       "model_id": "",
       "version_major": 2,
       "version_minor": 0
      },
      "text/plain": [
       "FloatProgress(value=0.0, bar_style='info', description='Progress:', layout=Layout(height='25px', width='50%'),…"
      ]
     },
     "metadata": {},
     "output_type": "display_data"
    }
   ],
   "source": [
    "res = classification_report(preds_df[\"category\"], preds_df[\"result\"], output_dict=True)\n",
    "results_df.loc[\"GenericLogReg_200d\"] = [res[\"pos\"][\"f1-score\"], res[\"accuracy\"]]"
   ]
  },
  {
   "cell_type": "markdown",
   "metadata": {
    "id": "A4fphEjMXV7W"
   },
   "source": [
    "### GenericSVMClassifier"
   ]
  },
  {
   "cell_type": "code",
   "execution_count": 92,
   "metadata": {
    "execution": {
     "iopub.execute_input": "2023-09-15T08:59:23.241497Z",
     "iopub.status.busy": "2023-09-15T08:59:23.241207Z",
     "iopub.status.idle": "2023-09-15T08:59:23.295066Z",
     "shell.execute_reply": "2023-09-15T08:59:23.294374Z",
     "shell.execute_reply.started": "2023-09-15T08:59:23.241464Z"
    },
    "id": "WWViS8s6XV7X"
   },
   "outputs": [
    {
     "data": {
      "application/vnd.jupyter.widget-view+json": {
       "model_id": "35c9e1647e1348bba82bad26253e9139",
       "version_major": 2,
       "version_minor": 0
      },
      "text/plain": [
       "VBox()"
      ]
     },
     "metadata": {},
     "output_type": "display_data"
    },
    {
     "data": {
      "application/vnd.jupyter.widget-view+json": {
       "model_id": "",
       "version_major": 2,
       "version_minor": 0
      },
      "text/plain": [
       "FloatProgress(value=0.0, bar_style='info', description='Progress:', layout=Layout(height='25px', width='50%'),…"
      ]
     },
     "metadata": {},
     "output_type": "display_data"
    }
   ],
   "source": [
    "graph_folder = \"/tmp/gc_graph\"\n",
    "\n",
    "gc_svm_graph_builder = medical.TFGraphBuilder()\\\n",
    "    .setModelName(\"svm_classifier\")\\\n",
    "    .setInputCols([\"feature_vector\"]) \\\n",
    "    .setLabelColumn(\"category\")\\\n",
    "    .setGraphFolder(graph_folder)\\\n",
    "    .setGraphFile(\"svm_graph.pb\")"
   ]
  },
  {
   "cell_type": "markdown",
   "metadata": {
    "id": "JcM7VyV7XV7X"
   },
   "source": [
    "GenericSVMClassifier needs outputs from FeaturesAssembler. The FeaturesAssembler is used to collect features from different columns or an embeddings column.\n",
    "\n",
    "The GenericSVMClassifier takes FEATURE_VECTOR annotations as input, classifies them and outputs CATEGORY annotations."
   ]
  },
  {
   "cell_type": "code",
   "execution_count": 93,
   "metadata": {
    "execution": {
     "iopub.execute_input": "2023-09-15T08:59:23.296237Z",
     "iopub.status.busy": "2023-09-15T08:59:23.296021Z",
     "iopub.status.idle": "2023-09-15T08:59:23.352047Z",
     "shell.execute_reply": "2023-09-15T08:59:23.351134Z",
     "shell.execute_reply.started": "2023-09-15T08:59:23.296207Z"
    },
    "id": "px8t14s8XV7X"
   },
   "outputs": [
    {
     "data": {
      "application/vnd.jupyter.widget-view+json": {
       "model_id": "95ee14f69e464f73882c24379016b163",
       "version_major": 2,
       "version_minor": 0
      },
      "text/plain": [
       "VBox()"
      ]
     },
     "metadata": {},
     "output_type": "display_data"
    },
    {
     "data": {
      "application/vnd.jupyter.widget-view+json": {
       "model_id": "",
       "version_major": 2,
       "version_minor": 0
      },
      "text/plain": [
       "FloatProgress(value=0.0, bar_style='info', description='Progress:', layout=Layout(height='25px', width='50%'),…"
      ]
     },
     "metadata": {},
     "output_type": "display_data"
    }
   ],
   "source": [
    "features_asm = medical.FeaturesAssembler()\\\n",
    "    .setInputCols([\"sentence_embeddings\"])\\\n",
    "    .setOutputCol(\"feature_vector\")\n",
    "\n",
    "gen_clf = medical.GenericSVMClassifierApproach()\\\n",
    "    .setLabelColumn(\"category\")\\\n",
    "    .setInputCols(\"feature_vector\")\\\n",
    "    .setOutputCol(\"prediction\")\\\n",
    "    .setModelFile(f\"{graph_folder}/svm_graph.pb\")\\\n",
    "    .setEpochsNumber(20)\\\n",
    "    .setBatchSize(128)\\\n",
    "    .setLearningRate(0.005)\\\n",
    "    .setOutputLogsPath(log_folder)\\\n",
    "    .setDropout(0.1)\\\n",
    "    .setFixImbalance(True)\\\n",
    "    # .setValidationSplit(0.1)\n",
    "\n",
    "clf_Pipeline = nlp.Pipeline(stages=[\n",
    "    features_asm,\n",
    "    gc_svm_graph_builder,\n",
    "    gen_clf])\n"
   ]
  },
  {
   "cell_type": "code",
   "execution_count": 94,
   "metadata": {
    "colab": {
     "base_uri": "https://localhost:8080/"
    },
    "execution": {
     "iopub.execute_input": "2023-09-15T08:59:24.483548Z",
     "iopub.status.busy": "2023-09-15T08:59:24.483250Z",
     "iopub.status.idle": "2023-09-15T08:59:38.047233Z",
     "shell.execute_reply": "2023-09-15T08:59:38.046485Z",
     "shell.execute_reply.started": "2023-09-15T08:59:24.483516Z"
    },
    "executionInfo": {
     "elapsed": 3503,
     "status": "ok",
     "timestamp": 1689670154795,
     "user": {
      "displayName": "Ahmet Mesut BİROL",
      "userId": "04340760882990254267"
     },
     "user_tz": -180
    },
    "id": "QHi6KIMSXV7X",
    "outputId": "b2e14eee-d20a-4231-9a7e-bf8faffdff18"
   },
   "outputs": [
    {
     "data": {
      "application/vnd.jupyter.widget-view+json": {
       "model_id": "809f53892a8c4a75a180030dcfc5dd3c",
       "version_major": 2,
       "version_minor": 0
      },
      "text/plain": [
       "VBox()"
      ]
     },
     "metadata": {},
     "output_type": "display_data"
    },
    {
     "data": {
      "application/vnd.jupyter.widget-view+json": {
       "model_id": "",
       "version_major": 2,
       "version_minor": 0
      },
      "text/plain": [
       "FloatProgress(value=0.0, bar_style='info', description='Progress:', layout=Layout(height='25px', width='50%'),…"
      ]
     },
     "metadata": {},
     "output_type": "display_data"
    },
    {
     "name": "stdout",
     "output_type": "stream",
     "text": [
      "TF Graph Builder configuration:\n",
      "Model name: svm_classifier\n",
      "Graph folder: /tmp/gc_graph\n",
      "Graph file name: svm_graph.pb\n",
      "Build params: {'input_dim': 200, 'output_dim': 2, 'hidden_layers': [], 'output_act': 'sigmoid', 'loss_func': 'hinge'}\n",
      "svm_classifier graph exported to /tmp/gc_graph/svm_graph.pb"
     ]
    }
   ],
   "source": [
    "generic_model_hc200 = clf_Pipeline.fit(trainingData_with_embeddings)"
   ]
  },
  {
   "cell_type": "code",
   "execution_count": 95,
   "metadata": {
    "execution": {
     "iopub.execute_input": "2023-09-15T08:59:38.048707Z",
     "iopub.status.busy": "2023-09-15T08:59:38.048477Z",
     "iopub.status.idle": "2023-09-15T08:59:38.815068Z",
     "shell.execute_reply": "2023-09-15T08:59:38.814376Z",
     "shell.execute_reply.started": "2023-09-15T08:59:38.048676Z"
    },
    "id": "JFhqwwIAXV7X"
   },
   "outputs": [
    {
     "data": {
      "application/vnd.jupyter.widget-view+json": {
       "model_id": "084b318383c14f81a5429719ea7e654b",
       "version_major": 2,
       "version_minor": 0
      },
      "text/plain": [
       "VBox()"
      ]
     },
     "metadata": {},
     "output_type": "display_data"
    },
    {
     "data": {
      "application/vnd.jupyter.widget-view+json": {
       "model_id": "",
       "version_major": 2,
       "version_minor": 0
      },
      "text/plain": [
       "FloatProgress(value=0.0, bar_style='info', description='Progress:', layout=Layout(height='25px', width='50%'),…"
      ]
     },
     "metadata": {},
     "output_type": "display_data"
    }
   ],
   "source": [
    "pred_df = generic_model_hc200.transform(testData_with_embeddings)"
   ]
  },
  {
   "cell_type": "code",
   "execution_count": 96,
   "metadata": {
    "colab": {
     "base_uri": "https://localhost:8080/"
    },
    "execution": {
     "iopub.execute_input": "2023-09-15T08:59:38.816578Z",
     "iopub.status.busy": "2023-09-15T08:59:38.816363Z",
     "iopub.status.idle": "2023-09-15T08:59:39.588283Z",
     "shell.execute_reply": "2023-09-15T08:59:39.587384Z",
     "shell.execute_reply.started": "2023-09-15T08:59:38.816548Z"
    },
    "executionInfo": {
     "elapsed": 783,
     "status": "ok",
     "timestamp": 1689670156400,
     "user": {
      "displayName": "Ahmet Mesut BİROL",
      "userId": "04340760882990254267"
     },
     "user_tz": -180
    },
    "id": "8so1Xnn9XV7Y",
    "outputId": "ad397fcb-a452-43c8-f5cb-f523d5aacf38"
   },
   "outputs": [
    {
     "data": {
      "application/vnd.jupyter.widget-view+json": {
       "model_id": "350c55cafccd4fe686a6fff1f0d406b1",
       "version_major": 2,
       "version_minor": 0
      },
      "text/plain": [
       "VBox()"
      ]
     },
     "metadata": {},
     "output_type": "display_data"
    },
    {
     "data": {
      "application/vnd.jupyter.widget-view+json": {
       "model_id": "",
       "version_major": 2,
       "version_minor": 0
      },
      "text/plain": [
       "FloatProgress(value=0.0, bar_style='info', description='Progress:', layout=Layout(height='25px', width='50%'),…"
      ]
     },
     "metadata": {},
     "output_type": "display_data"
    },
    {
     "name": "stdout",
     "output_type": "stream",
     "text": [
      "              precision    recall  f1-score   support\n",
      "\n",
      "         neg       0.82      0.91      0.86      1031\n",
      "         pos       0.71      0.51      0.59       423\n",
      "\n",
      "    accuracy                           0.80      1454\n",
      "   macro avg       0.77      0.71      0.73      1454\n",
      "weighted avg       0.79      0.80      0.79      1454"
     ]
    }
   ],
   "source": [
    "preds_df = pred_df.select('category','prediction.result').toPandas()\n",
    "preds_df['result'] = preds_df.result.apply(lambda x : x[0])\n",
    "\n",
    "print (classification_report(preds_df['category'], preds_df['result']))"
   ]
  },
  {
   "cell_type": "code",
   "execution_count": 97,
   "metadata": {
    "execution": {
     "iopub.execute_input": "2023-09-15T08:59:39.589656Z",
     "iopub.status.busy": "2023-09-15T08:59:39.589418Z",
     "iopub.status.idle": "2023-09-15T08:59:39.849301Z",
     "shell.execute_reply": "2023-09-15T08:59:39.848430Z",
     "shell.execute_reply.started": "2023-09-15T08:59:39.589623Z"
    },
    "id": "ySXDYn_K-pQe"
   },
   "outputs": [
    {
     "data": {
      "application/vnd.jupyter.widget-view+json": {
       "model_id": "81ddc7965d8d41229848647accf8becc",
       "version_major": 2,
       "version_minor": 0
      },
      "text/plain": [
       "VBox()"
      ]
     },
     "metadata": {},
     "output_type": "display_data"
    },
    {
     "data": {
      "application/vnd.jupyter.widget-view+json": {
       "model_id": "",
       "version_major": 2,
       "version_minor": 0
      },
      "text/plain": [
       "FloatProgress(value=0.0, bar_style='info', description='Progress:', layout=Layout(height='25px', width='50%'),…"
      ]
     },
     "metadata": {},
     "output_type": "display_data"
    }
   ],
   "source": [
    "res = classification_report(preds_df[\"category\"], preds_df[\"result\"], output_dict=True)\n",
    "results_df.loc[\"GenericSVM_200d\"] = [res[\"pos\"][\"f1-score\"], res[\"accuracy\"]]"
   ]
  },
  {
   "cell_type": "markdown",
   "metadata": {
    "id": "HToBQLkiOHDp"
   },
   "source": [
    "## Bert Sentence Embeddings (sbiobert_base_cased_mli)"
   ]
  },
  {
   "cell_type": "markdown",
   "metadata": {
    "id": "GBpfp09tTedK"
   },
   "source": [
    "Now we will extract [sbiobert_base_cased_mli](https://nlp.johnsnowlabs.com/2020/11/27/sbiobert_base_cased_mli_en.html) embeddings which has 768 dimension output and use this embeddings in the model training."
   ]
  },
  {
   "cell_type": "code",
   "execution_count": 98,
   "metadata": {
    "colab": {
     "base_uri": "https://localhost:8080/"
    },
    "execution": {
     "iopub.execute_input": "2023-09-15T08:59:57.657196Z",
     "iopub.status.busy": "2023-09-15T08:59:57.656909Z",
     "iopub.status.idle": "2023-09-15T09:00:33.047637Z",
     "shell.execute_reply": "2023-09-15T09:00:33.046844Z",
     "shell.execute_reply.started": "2023-09-15T08:59:57.657162Z"
    },
    "executionInfo": {
     "elapsed": 25504,
     "status": "ok",
     "timestamp": 1689670181897,
     "user": {
      "displayName": "Ahmet Mesut BİROL",
      "userId": "04340760882990254267"
     },
     "user_tz": -180
    },
    "id": "eCfAkAC7podJ",
    "outputId": "cf2f47ae-aa4c-4587-9151-2827c088e921"
   },
   "outputs": [
    {
     "data": {
      "application/vnd.jupyter.widget-view+json": {
       "model_id": "295e01d4031544cf98394f120a46c9a2",
       "version_major": 2,
       "version_minor": 0
      },
      "text/plain": [
       "VBox()"
      ]
     },
     "metadata": {},
     "output_type": "display_data"
    },
    {
     "data": {
      "application/vnd.jupyter.widget-view+json": {
       "model_id": "",
       "version_major": 2,
       "version_minor": 0
      },
      "text/plain": [
       "FloatProgress(value=0.0, bar_style='info', description='Progress:', layout=Layout(height='25px', width='50%'),…"
      ]
     },
     "metadata": {},
     "output_type": "display_data"
    },
    {
     "name": "stdout",
     "output_type": "stream",
     "text": [
      "sbiobert_base_cased_mli download started this may take some time.\n",
      "Approximate size to download 384.3 MB\n",
      "[OK!]"
     ]
    }
   ],
   "source": [
    "document_assembler = nlp.DocumentAssembler()\\\n",
    "    .setInputCol(\"text\")\\\n",
    "    .setOutputCol(\"document\")\n",
    "\n",
    "bert_sent = nlp.BertSentenceEmbeddings.pretrained(\"sbiobert_base_cased_mli\", 'en','clinical/models')\\\n",
    "    .setInputCols([\"document\"])\\\n",
    "    .setOutputCol(\"sentence_embeddings\")\n",
    "\n",
    "embeddings_pipeline = nlp.Pipeline(\n",
    "    stages = [document_assembler,\n",
    "              bert_sent])"
   ]
  },
  {
   "cell_type": "code",
   "execution_count": 99,
   "metadata": {
    "colab": {
     "base_uri": "https://localhost:8080/"
    },
    "execution": {
     "iopub.execute_input": "2023-09-15T09:00:33.049124Z",
     "iopub.status.busy": "2023-09-15T09:00:33.048888Z",
     "iopub.status.idle": "2023-09-15T09:00:42.354097Z",
     "shell.execute_reply": "2023-09-15T09:00:42.353395Z",
     "shell.execute_reply.started": "2023-09-15T09:00:33.049093Z"
    },
    "executionInfo": {
     "elapsed": 854,
     "status": "ok",
     "timestamp": 1689670182746,
     "user": {
      "displayName": "Ahmet Mesut BİROL",
      "userId": "04340760882990254267"
     },
     "user_tz": -180
    },
    "id": "PbcLStVLpoaN",
    "outputId": "ec3d750b-76b8-4eec-923f-e39760066f4b"
   },
   "outputs": [
    {
     "data": {
      "application/vnd.jupyter.widget-view+json": {
       "model_id": "e424d8b02d864df69cf04d7695cda55e",
       "version_major": 2,
       "version_minor": 0
      },
      "text/plain": [
       "VBox()"
      ]
     },
     "metadata": {},
     "output_type": "display_data"
    },
    {
     "data": {
      "application/vnd.jupyter.widget-view+json": {
       "model_id": "",
       "version_major": 2,
       "version_minor": 0
      },
      "text/plain": [
       "FloatProgress(value=0.0, bar_style='info', description='Progress:', layout=Layout(height='25px', width='50%'),…"
      ]
     },
     "metadata": {},
     "output_type": "display_data"
    },
    {
     "name": "stdout",
     "output_type": "stream",
     "text": [
      "+------------------------------------------------------------+--------+------------------------------------------------------------+\n",
      "|                                                        text|category|                                         sentence_embeddings|\n",
      "+------------------------------------------------------------+--------+------------------------------------------------------------+\n",
      "| (4) The acute rehabilitation of a 21-year-old woman with...|     neg|[{sentence_embeddings, 0, 182,  (4) The acute rehabilitat...|\n",
      "| A 16-year-old girl with erosive, polyarticular JRA showe...|     neg|[{sentence_embeddings, 0, 129,  A 16-year-old girl with e...|\n",
      "+------------------------------------------------------------+--------+------------------------------------------------------------+\n",
      "only showing top 2 rows"
     ]
    }
   ],
   "source": [
    "trainingData_with_embeddings = embeddings_pipeline.fit(trainingData).transform(trainingData)\\\n",
    "                                                  .select(\"text\",\"category\",\"sentence_embeddings\")\n",
    "\n",
    "trainingData_with_embeddings.show(2,truncate=60)"
   ]
  },
  {
   "cell_type": "code",
   "execution_count": 100,
   "metadata": {
    "colab": {
     "base_uri": "https://localhost:8080/"
    },
    "execution": {
     "iopub.execute_input": "2023-09-15T09:00:42.355905Z",
     "iopub.status.busy": "2023-09-15T09:00:42.355663Z",
     "iopub.status.idle": "2023-09-15T09:00:51.659433Z",
     "shell.execute_reply": "2023-09-15T09:00:51.658658Z",
     "shell.execute_reply.started": "2023-09-15T09:00:42.355874Z"
    },
    "executionInfo": {
     "elapsed": 472,
     "status": "ok",
     "timestamp": 1689670183213,
     "user": {
      "displayName": "Ahmet Mesut BİROL",
      "userId": "04340760882990254267"
     },
     "user_tz": -180
    },
    "id": "qoby-bTzpoYQ",
    "outputId": "f6f9c289-7dde-4c79-dd45-a505b107078c"
   },
   "outputs": [
    {
     "data": {
      "application/vnd.jupyter.widget-view+json": {
       "model_id": "fe14ed5ff1914674ab200cdb8a1f117c",
       "version_major": 2,
       "version_minor": 0
      },
      "text/plain": [
       "VBox()"
      ]
     },
     "metadata": {},
     "output_type": "display_data"
    },
    {
     "data": {
      "application/vnd.jupyter.widget-view+json": {
       "model_id": "",
       "version_major": 2,
       "version_minor": 0
      },
      "text/plain": [
       "FloatProgress(value=0.0, bar_style='info', description='Progress:', layout=Layout(height='25px', width='50%'),…"
      ]
     },
     "metadata": {},
     "output_type": "display_data"
    },
    {
     "name": "stdout",
     "output_type": "stream",
     "text": [
      "+------------------------------------------------------------+--------+------------------------------------------------------------+\n",
      "|                                                        text|category|                                         sentence_embeddings|\n",
      "+------------------------------------------------------------+--------+------------------------------------------------------------+\n",
      "| A 51-year-old-woman presented with chronic eosinophilia,...|     neg|[{sentence_embeddings, 0, 139,  A 51-year-old-woman prese...|\n",
      "| Additionally, their Global Assessment Scale (GAS) score ...|     neg|[{sentence_embeddings, 0, 164,  Additionally, their Globa...|\n",
      "+------------------------------------------------------------+--------+------------------------------------------------------------+\n",
      "only showing top 2 rows"
     ]
    }
   ],
   "source": [
    "testData_with_embeddings = embeddings_pipeline.fit(testData).transform(testData)\\\n",
    "                                                  .select(\"text\",\"category\",\"sentence_embeddings\")\n",
    "\n",
    "testData_with_embeddings.show(2,truncate=60)"
   ]
  },
  {
   "cell_type": "code",
   "execution_count": 101,
   "metadata": {
    "execution": {
     "iopub.execute_input": "2023-09-15T09:00:51.660866Z",
     "iopub.status.busy": "2023-09-15T09:00:51.660651Z",
     "iopub.status.idle": "2023-09-15T09:00:51.715856Z",
     "shell.execute_reply": "2023-09-15T09:00:51.715144Z",
     "shell.execute_reply.started": "2023-09-15T09:00:51.660836Z"
    },
    "id": "_EetBOQUpoWQ"
   },
   "outputs": [
    {
     "data": {
      "application/vnd.jupyter.widget-view+json": {
       "model_id": "bd782aae5f4845eba939d3ef4a47b609",
       "version_major": 2,
       "version_minor": 0
      },
      "text/plain": [
       "VBox()"
      ]
     },
     "metadata": {},
     "output_type": "display_data"
    },
    {
     "data": {
      "application/vnd.jupyter.widget-view+json": {
       "model_id": "",
       "version_major": 2,
       "version_minor": 0
      },
      "text/plain": [
       "FloatProgress(value=0.0, bar_style='info', description='Progress:', layout=Layout(height='25px', width='50%'),…"
      ]
     },
     "metadata": {},
     "output_type": "display_data"
    }
   ],
   "source": [
    "log_folder=\"/tmp/ADE_logs_bert\""
   ]
  },
  {
   "cell_type": "markdown",
   "metadata": {
    "id": "289YUVX7yGE1"
   },
   "source": [
    "### ClassifierDL"
   ]
  },
  {
   "cell_type": "code",
   "execution_count": 102,
   "metadata": {
    "execution": {
     "iopub.execute_input": "2023-09-15T09:00:51.716964Z",
     "iopub.status.busy": "2023-09-15T09:00:51.716756Z",
     "iopub.status.idle": "2023-09-15T09:00:51.772076Z",
     "shell.execute_reply": "2023-09-15T09:00:51.771378Z",
     "shell.execute_reply.started": "2023-09-15T09:00:51.716935Z"
    },
    "id": "ZzCU998wyGE2"
   },
   "outputs": [
    {
     "data": {
      "application/vnd.jupyter.widget-view+json": {
       "model_id": "e52f74ea1c0040a18fa61ddca0ea40e2",
       "version_major": 2,
       "version_minor": 0
      },
      "text/plain": [
       "VBox()"
      ]
     },
     "metadata": {},
     "output_type": "display_data"
    },
    {
     "data": {
      "application/vnd.jupyter.widget-view+json": {
       "model_id": "",
       "version_major": 2,
       "version_minor": 0
      },
      "text/plain": [
       "FloatProgress(value=0.0, bar_style='info', description='Progress:', layout=Layout(height='25px', width='50%'),…"
      ]
     },
     "metadata": {},
     "output_type": "display_data"
    }
   ],
   "source": [
    "classifier_dl = nlp.ClassifierDLApproach()\\\n",
    "        .setInputCols([\"sentence_embeddings\"])\\\n",
    "        .setOutputCol(\"class\")\\\n",
    "        .setLabelColumn(\"category\")\\\n",
    "        .setBatchSize(32)\\\n",
    "        .setMaxEpochs(20)\\\n",
    "        .setLr(0.001)\\\n",
    "        .setDropout(0.3)\\\n",
    "        .setEnableOutputLogs(True)\\\n",
    "        .setOutputLogsPath(log_folder)\n",
    "\n",
    "classifier_dl_pipeline = nlp.Pipeline(stages=[classifier_dl])"
   ]
  },
  {
   "cell_type": "code",
   "execution_count": 103,
   "metadata": {
    "execution": {
     "iopub.execute_input": "2023-09-15T09:00:51.773223Z",
     "iopub.status.busy": "2023-09-15T09:00:51.773014Z",
     "iopub.status.idle": "2023-09-15T09:05:13.859157Z",
     "shell.execute_reply": "2023-09-15T09:05:13.858436Z",
     "shell.execute_reply.started": "2023-09-15T09:00:51.773192Z"
    },
    "id": "AnpZcIyPyGE2"
   },
   "outputs": [
    {
     "data": {
      "application/vnd.jupyter.widget-view+json": {
       "model_id": "c48b93689be248338a7853e066864bab",
       "version_major": 2,
       "version_minor": 0
      },
      "text/plain": [
       "VBox()"
      ]
     },
     "metadata": {},
     "output_type": "display_data"
    },
    {
     "data": {
      "application/vnd.jupyter.widget-view+json": {
       "model_id": "",
       "version_major": 2,
       "version_minor": 0
      },
      "text/plain": [
       "FloatProgress(value=0.0, bar_style='info', description='Progress:', layout=Layout(height='25px', width='50%'),…"
      ]
     },
     "metadata": {},
     "output_type": "display_data"
    }
   ],
   "source": [
    "clfDL_model_bert = classifier_dl_pipeline.fit(trainingData_with_embeddings)"
   ]
  },
  {
   "cell_type": "code",
   "execution_count": 104,
   "metadata": {
    "colab": {
     "base_uri": "https://localhost:8080/"
    },
    "execution": {
     "iopub.execute_input": "2023-09-15T09:05:13.860391Z",
     "iopub.status.busy": "2023-09-15T09:05:13.860177Z",
     "iopub.status.idle": "2023-09-15T09:06:27.363560Z",
     "shell.execute_reply": "2023-09-15T09:06:27.362799Z",
     "shell.execute_reply.started": "2023-09-15T09:05:13.860361Z"
    },
    "executionInfo": {
     "elapsed": 28090,
     "status": "ok",
     "timestamp": 1689670421496,
     "user": {
      "displayName": "Ahmet Mesut BİROL",
      "userId": "04340760882990254267"
     },
     "user_tz": -180
    },
    "id": "WTekTE0kyGE2",
    "outputId": "da206ae8-9965-4721-ef2d-bc268a1d81f0"
   },
   "outputs": [
    {
     "data": {
      "application/vnd.jupyter.widget-view+json": {
       "model_id": "7e556cee668e463d8176e63b545c64d7",
       "version_major": 2,
       "version_minor": 0
      },
      "text/plain": [
       "VBox()"
      ]
     },
     "metadata": {},
     "output_type": "display_data"
    },
    {
     "data": {
      "application/vnd.jupyter.widget-view+json": {
       "model_id": "",
       "version_major": 2,
       "version_minor": 0
      },
      "text/plain": [
       "FloatProgress(value=0.0, bar_style='info', description='Progress:', layout=Layout(height='25px', width='50%'),…"
      ]
     },
     "metadata": {},
     "output_type": "display_data"
    },
    {
     "name": "stdout",
     "output_type": "stream",
     "text": [
      "              precision    recall  f1-score   support\n",
      "\n",
      "         neg       0.93      0.89      0.91      1031\n",
      "         pos       0.76      0.83      0.79       423\n",
      "\n",
      "    accuracy                           0.87      1454\n",
      "   macro avg       0.84      0.86      0.85      1454\n",
      "weighted avg       0.88      0.87      0.88      1454"
     ]
    }
   ],
   "source": [
    "preds = clfDL_model_bert.transform(testData_with_embeddings)\n",
    "\n",
    "preds_df = preds.select(\"category\",\"text\",\"class.result\").toPandas()\n",
    "preds_df[\"result\"] = preds_df[\"result\"].apply(lambda x : x[0])\n",
    "\n",
    "print (classification_report(preds_df[\"category\"], preds_df[\"result\"]))"
   ]
  },
  {
   "cell_type": "code",
   "execution_count": 105,
   "metadata": {
    "execution": {
     "iopub.execute_input": "2023-09-15T09:06:27.365457Z",
     "iopub.status.busy": "2023-09-15T09:06:27.365216Z",
     "iopub.status.idle": "2023-09-15T09:06:27.622682Z",
     "shell.execute_reply": "2023-09-15T09:06:27.621995Z",
     "shell.execute_reply.started": "2023-09-15T09:06:27.365425Z"
    },
    "id": "BHX904kg_dnL"
   },
   "outputs": [
    {
     "data": {
      "application/vnd.jupyter.widget-view+json": {
       "model_id": "8074f58161434b279b412521ba9f0794",
       "version_major": 2,
       "version_minor": 0
      },
      "text/plain": [
       "VBox()"
      ]
     },
     "metadata": {},
     "output_type": "display_data"
    },
    {
     "data": {
      "application/vnd.jupyter.widget-view+json": {
       "model_id": "",
       "version_major": 2,
       "version_minor": 0
      },
      "text/plain": [
       "FloatProgress(value=0.0, bar_style='info', description='Progress:', layout=Layout(height='25px', width='50%'),…"
      ]
     },
     "metadata": {},
     "output_type": "display_data"
    }
   ],
   "source": [
    "res = classification_report(preds_df[\"category\"], preds_df[\"result\"], output_dict=True)\n",
    "results_df.loc[\"ClassifierDL_bert\"] = [res[\"pos\"][\"f1-score\"], res[\"accuracy\"]]"
   ]
  },
  {
   "cell_type": "markdown",
   "metadata": {
    "id": "rGyp2ylnT7qq"
   },
   "source": [
    "### MultiClassifierDL"
   ]
  },
  {
   "cell_type": "code",
   "execution_count": 106,
   "metadata": {
    "execution": {
     "iopub.execute_input": "2023-09-15T09:07:14.912444Z",
     "iopub.status.busy": "2023-09-15T09:07:14.911959Z",
     "iopub.status.idle": "2023-09-15T09:07:15.173658Z",
     "shell.execute_reply": "2023-09-15T09:07:15.172929Z",
     "shell.execute_reply.started": "2023-09-15T09:07:14.912407Z"
    },
    "id": "rgc8eN32T7qq"
   },
   "outputs": [
    {
     "data": {
      "application/vnd.jupyter.widget-view+json": {
       "model_id": "181dce104cc7421f8f6d7b85298909ff",
       "version_major": 2,
       "version_minor": 0
      },
      "text/plain": [
       "VBox()"
      ]
     },
     "metadata": {},
     "output_type": "display_data"
    },
    {
     "data": {
      "application/vnd.jupyter.widget-view+json": {
       "model_id": "",
       "version_major": 2,
       "version_minor": 0
      },
      "text/plain": [
       "FloatProgress(value=0.0, bar_style='info', description='Progress:', layout=Layout(height='25px', width='50%'),…"
      ]
     },
     "metadata": {},
     "output_type": "display_data"
    }
   ],
   "source": [
    "# MultiClassifierDL accepts list of strings as input label. So we convert label column to array type.\n",
    "trainingData_with_embeddings = trainingData_with_embeddings.withColumn(\"category_array\", F.array(F.col(\"category\")))\n",
    "testData_with_embeddings = testData_with_embeddings.withColumn(\"category_array\", F.array(F.col(\"category\")))"
   ]
  },
  {
   "cell_type": "code",
   "execution_count": 107,
   "metadata": {
    "execution": {
     "iopub.execute_input": "2023-09-15T09:07:16.571978Z",
     "iopub.status.busy": "2023-09-15T09:07:16.571702Z",
     "iopub.status.idle": "2023-09-15T09:07:16.629059Z",
     "shell.execute_reply": "2023-09-15T09:07:16.628350Z",
     "shell.execute_reply.started": "2023-09-15T09:07:16.571945Z"
    },
    "id": "VNSQp8iyT7qr"
   },
   "outputs": [
    {
     "data": {
      "application/vnd.jupyter.widget-view+json": {
       "model_id": "bf7f5d30e5bc45369efab2a8caa6f8e3",
       "version_major": 2,
       "version_minor": 0
      },
      "text/plain": [
       "VBox()"
      ]
     },
     "metadata": {},
     "output_type": "display_data"
    },
    {
     "data": {
      "application/vnd.jupyter.widget-view+json": {
       "model_id": "",
       "version_major": 2,
       "version_minor": 0
      },
      "text/plain": [
       "FloatProgress(value=0.0, bar_style='info', description='Progress:', layout=Layout(height='25px', width='50%'),…"
      ]
     },
     "metadata": {},
     "output_type": "display_data"
    }
   ],
   "source": [
    "multiClassifier =nlp.MultiClassifierDLApproach()\\\n",
    "  .setInputCols(\"sentence_embeddings\")\\\n",
    "  .setOutputCol(\"prediction\")\\\n",
    "  .setLabelColumn(\"category_array\")\\\n",
    "  .setBatchSize(32)\\\n",
    "  .setMaxEpochs(20)\\\n",
    "  .setLr(9e-3)\\\n",
    "  .setThreshold(0.5)\\\n",
    "  .setShufflePerEpoch(False)\\\n",
    "  .setEnableOutputLogs(True)\\\n",
    "  .setOutputLogsPath(log_folder)\\\n",
    "#   .setValidationSplit(0.1)\n",
    "\n",
    "multiClassifier_pipeline = nlp.Pipeline(\n",
    "    stages = [\n",
    "        multiClassifier\n",
    "    ])"
   ]
  },
  {
   "cell_type": "code",
   "execution_count": 108,
   "metadata": {
    "execution": {
     "iopub.execute_input": "2023-09-15T09:07:18.152262Z",
     "iopub.status.busy": "2023-09-15T09:07:18.151975Z",
     "iopub.status.idle": "2023-09-15T09:12:41.305485Z",
     "shell.execute_reply": "2023-09-15T09:12:41.304755Z",
     "shell.execute_reply.started": "2023-09-15T09:07:18.152227Z"
    },
    "id": "2KuFBI44T7qr"
   },
   "outputs": [
    {
     "data": {
      "application/vnd.jupyter.widget-view+json": {
       "model_id": "fc0ab489de0d4442b653152dd8bcbbaf",
       "version_major": 2,
       "version_minor": 0
      },
      "text/plain": [
       "VBox()"
      ]
     },
     "metadata": {},
     "output_type": "display_data"
    },
    {
     "data": {
      "application/vnd.jupyter.widget-view+json": {
       "model_id": "",
       "version_major": 2,
       "version_minor": 0
      },
      "text/plain": [
       "FloatProgress(value=0.0, bar_style='info', description='Progress:', layout=Layout(height='25px', width='50%'),…"
      ]
     },
     "metadata": {},
     "output_type": "display_data"
    }
   ],
   "source": [
    "multiClassifier_model_bert = multiClassifier_pipeline.fit(trainingData_with_embeddings)"
   ]
  },
  {
   "cell_type": "code",
   "execution_count": 109,
   "metadata": {
    "execution": {
     "iopub.execute_input": "2023-09-15T09:12:41.306947Z",
     "iopub.status.busy": "2023-09-15T09:12:41.306723Z",
     "iopub.status.idle": "2023-09-15T09:12:41.568539Z",
     "shell.execute_reply": "2023-09-15T09:12:41.567837Z",
     "shell.execute_reply.started": "2023-09-15T09:12:41.306917Z"
    },
    "id": "WF1cSwJrT7qr"
   },
   "outputs": [
    {
     "data": {
      "application/vnd.jupyter.widget-view+json": {
       "model_id": "9fedbe556c8540a69d705126b6230bc8",
       "version_major": 2,
       "version_minor": 0
      },
      "text/plain": [
       "VBox()"
      ]
     },
     "metadata": {},
     "output_type": "display_data"
    },
    {
     "data": {
      "application/vnd.jupyter.widget-view+json": {
       "model_id": "",
       "version_major": 2,
       "version_minor": 0
      },
      "text/plain": [
       "FloatProgress(value=0.0, bar_style='info', description='Progress:', layout=Layout(height='25px', width='50%'),…"
      ]
     },
     "metadata": {},
     "output_type": "display_data"
    }
   ],
   "source": [
    "preds = multiClassifier_model_bert.transform(testData_with_embeddings)"
   ]
  },
  {
   "cell_type": "code",
   "execution_count": 110,
   "metadata": {
    "colab": {
     "base_uri": "https://localhost:8080/"
    },
    "execution": {
     "iopub.execute_input": "2023-09-15T09:12:41.570293Z",
     "iopub.status.busy": "2023-09-15T09:12:41.570069Z",
     "iopub.status.idle": "2023-09-15T09:14:07.090476Z",
     "shell.execute_reply": "2023-09-15T09:14:07.089675Z",
     "shell.execute_reply.started": "2023-09-15T09:12:41.570262Z"
    },
    "executionInfo": {
     "elapsed": 47751,
     "status": "ok",
     "timestamp": 1689670732293,
     "user": {
      "displayName": "Ahmet Mesut BİROL",
      "userId": "04340760882990254267"
     },
     "user_tz": -180
    },
    "id": "DAMLtlVsT7qr",
    "outputId": "1fd67f65-6112-435a-86ec-1adcb481b106"
   },
   "outputs": [
    {
     "data": {
      "application/vnd.jupyter.widget-view+json": {
       "model_id": "56f11f47c7344e93b0be2c05147453a1",
       "version_major": 2,
       "version_minor": 0
      },
      "text/plain": [
       "VBox()"
      ]
     },
     "metadata": {},
     "output_type": "display_data"
    },
    {
     "data": {
      "application/vnd.jupyter.widget-view+json": {
       "model_id": "",
       "version_major": 2,
       "version_minor": 0
      },
      "text/plain": [
       "FloatProgress(value=0.0, bar_style='info', description='Progress:', layout=Layout(height='25px', width='50%'),…"
      ]
     },
     "metadata": {},
     "output_type": "display_data"
    },
    {
     "name": "stdout",
     "output_type": "stream",
     "text": [
      "['neg']           1074\n",
      "['pos']            379\n",
      "['pos', 'neg']       1\n",
      "Name: result, dtype: int64"
     ]
    }
   ],
   "source": [
    "preds_df = preds.select(\"category\",\"text\",\"prediction.result\",\"prediction.metadata\").toPandas()\n",
    "preds_df.result.apply(lambda x: str(x) ).value_counts()"
   ]
  },
  {
   "cell_type": "code",
   "execution_count": 111,
   "metadata": {
    "colab": {
     "base_uri": "https://localhost:8080/"
    },
    "execution": {
     "iopub.execute_input": "2023-09-15T09:14:07.092122Z",
     "iopub.status.busy": "2023-09-15T09:14:07.091889Z",
     "iopub.status.idle": "2023-09-15T09:14:07.148011Z",
     "shell.execute_reply": "2023-09-15T09:14:07.147259Z",
     "shell.execute_reply.started": "2023-09-15T09:14:07.092090Z"
    },
    "executionInfo": {
     "elapsed": 21,
     "status": "ok",
     "timestamp": 1689670732294,
     "user": {
      "displayName": "Ahmet Mesut BİROL",
      "userId": "04340760882990254267"
     },
     "user_tz": -180
    },
    "id": "HcZ7OAaYT7qr",
    "outputId": "c5d02a40-7983-478c-d570-d408207c8f4e",
    "tags": []
   },
   "outputs": [
    {
     "data": {
      "application/vnd.jupyter.widget-view+json": {
       "model_id": "55c1e34d3425490c90d0e9ce4b1f7abe",
       "version_major": 2,
       "version_minor": 0
      },
      "text/plain": [
       "VBox()"
      ]
     },
     "metadata": {},
     "output_type": "display_data"
    },
    {
     "data": {
      "application/vnd.jupyter.widget-view+json": {
       "model_id": "",
       "version_major": 2,
       "version_minor": 0
      },
      "text/plain": [
       "FloatProgress(value=0.0, bar_style='info', description='Progress:', layout=Layout(height='25px', width='50%'),…"
      ]
     },
     "metadata": {},
     "output_type": "display_data"
    },
    {
     "name": "stdout",
     "output_type": "stream",
     "text": [
      "neg    1075\n",
      "pos     379\n",
      "Name: result, dtype: int64"
     ]
    }
   ],
   "source": [
    "# We will get the highest score label as result. You can control the number of zero label results with setThreshold() in the training.\n",
    "preds_df[\"scores\"] = preds_df.metadata.apply(lambda x: {k:float(v) for k,v in x[0].items()} if len(x)>=1 else \"\")\n",
    "preds_df[\"result\"] = preds_df.scores.apply(lambda x: max(x, key=x.get) if len(x)>=1 else \"\")\n",
    "preds_df = preds_df[(preds_df[\"result\"]!=\"\")]\n",
    "preds_df[\"result\"].value_counts()"
   ]
  },
  {
   "cell_type": "code",
   "execution_count": 112,
   "metadata": {
    "colab": {
     "base_uri": "https://localhost:8080/"
    },
    "execution": {
     "iopub.execute_input": "2023-09-15T09:14:07.149146Z",
     "iopub.status.busy": "2023-09-15T09:14:07.148934Z",
     "iopub.status.idle": "2023-09-15T09:14:07.408170Z",
     "shell.execute_reply": "2023-09-15T09:14:07.407476Z",
     "shell.execute_reply.started": "2023-09-15T09:14:07.149116Z"
    },
    "executionInfo": {
     "elapsed": 14,
     "status": "ok",
     "timestamp": 1689670732294,
     "user": {
      "displayName": "Ahmet Mesut BİROL",
      "userId": "04340760882990254267"
     },
     "user_tz": -180
    },
    "id": "Crbnvw7GT7qr",
    "outputId": "85ecad3d-65de-4489-b73b-349d9b3b5991"
   },
   "outputs": [
    {
     "data": {
      "application/vnd.jupyter.widget-view+json": {
       "model_id": "eba181bc5f51420ca6ad82e791d8d947",
       "version_major": 2,
       "version_minor": 0
      },
      "text/plain": [
       "VBox()"
      ]
     },
     "metadata": {},
     "output_type": "display_data"
    },
    {
     "data": {
      "application/vnd.jupyter.widget-view+json": {
       "model_id": "",
       "version_major": 2,
       "version_minor": 0
      },
      "text/plain": [
       "FloatProgress(value=0.0, bar_style='info', description='Progress:', layout=Layout(height='25px', width='50%'),…"
      ]
     },
     "metadata": {},
     "output_type": "display_data"
    },
    {
     "name": "stdout",
     "output_type": "stream",
     "text": [
      "              precision    recall  f1-score   support\n",
      "\n",
      "         neg       0.89      0.93      0.91      1031\n",
      "         pos       0.82      0.73      0.77       423\n",
      "\n",
      "    accuracy                           0.87      1454\n",
      "   macro avg       0.85      0.83      0.84      1454\n",
      "weighted avg       0.87      0.87      0.87      1454"
     ]
    }
   ],
   "source": [
    "print (classification_report(preds_df[\"category\"], preds_df[\"result\"]))"
   ]
  },
  {
   "cell_type": "code",
   "execution_count": 113,
   "metadata": {
    "execution": {
     "iopub.execute_input": "2023-09-15T09:14:07.409291Z",
     "iopub.status.busy": "2023-09-15T09:14:07.409079Z",
     "iopub.status.idle": "2023-09-15T09:14:07.668495Z",
     "shell.execute_reply": "2023-09-15T09:14:07.667795Z",
     "shell.execute_reply.started": "2023-09-15T09:14:07.409260Z"
    },
    "id": "dFo7-4jA_lb6"
   },
   "outputs": [
    {
     "data": {
      "application/vnd.jupyter.widget-view+json": {
       "model_id": "2075e110a96b4a2391334a4f8b59ca58",
       "version_major": 2,
       "version_minor": 0
      },
      "text/plain": [
       "VBox()"
      ]
     },
     "metadata": {},
     "output_type": "display_data"
    },
    {
     "data": {
      "application/vnd.jupyter.widget-view+json": {
       "model_id": "",
       "version_major": 2,
       "version_minor": 0
      },
      "text/plain": [
       "FloatProgress(value=0.0, bar_style='info', description='Progress:', layout=Layout(height='25px', width='50%'),…"
      ]
     },
     "metadata": {},
     "output_type": "display_data"
    }
   ],
   "source": [
    "res = classification_report(preds_df[\"category\"], preds_df[\"result\"], output_dict=True)\n",
    "results_df.loc[\"MultiClassifierDL_bert\"] = [res[\"pos\"][\"f1-score\"], res[\"accuracy\"]]"
   ]
  },
  {
   "cell_type": "markdown",
   "metadata": {
    "id": "Y4hlGSE9yGE3"
   },
   "source": [
    "### Generic Classifier"
   ]
  },
  {
   "cell_type": "code",
   "execution_count": 114,
   "metadata": {
    "execution": {
     "iopub.execute_input": "2023-09-15T09:14:07.669663Z",
     "iopub.status.busy": "2023-09-15T09:14:07.669452Z",
     "iopub.status.idle": "2023-09-15T09:14:07.721833Z",
     "shell.execute_reply": "2023-09-15T09:14:07.721029Z",
     "shell.execute_reply.started": "2023-09-15T09:14:07.669634Z"
    },
    "id": "lFjM5RcliQSx"
   },
   "outputs": [
    {
     "data": {
      "application/vnd.jupyter.widget-view+json": {
       "model_id": "6ecfe220669e46649aecb21fb7484e37",
       "version_major": 2,
       "version_minor": 0
      },
      "text/plain": [
       "VBox()"
      ]
     },
     "metadata": {},
     "output_type": "display_data"
    },
    {
     "data": {
      "application/vnd.jupyter.widget-view+json": {
       "model_id": "",
       "version_major": 2,
       "version_minor": 0
      },
      "text/plain": [
       "FloatProgress(value=0.0, bar_style='info', description='Progress:', layout=Layout(height='25px', width='50%'),…"
      ]
     },
     "metadata": {},
     "output_type": "display_data"
    }
   ],
   "source": [
    "# !pip install -q tensorflow==2.7.0 tensorflow_addons"
   ]
  },
  {
   "cell_type": "code",
   "execution_count": 115,
   "metadata": {
    "execution": {
     "iopub.execute_input": "2023-09-15T09:14:07.724180Z",
     "iopub.status.busy": "2023-09-15T09:14:07.723968Z",
     "iopub.status.idle": "2023-09-15T09:14:07.781070Z",
     "shell.execute_reply": "2023-09-15T09:14:07.780379Z",
     "shell.execute_reply.started": "2023-09-15T09:14:07.724152Z"
    },
    "id": "yNSz6-FbyGE3"
   },
   "outputs": [
    {
     "data": {
      "application/vnd.jupyter.widget-view+json": {
       "model_id": "298b9d9d15a545f2a41cb3b266fb73ec",
       "version_major": 2,
       "version_minor": 0
      },
      "text/plain": [
       "VBox()"
      ]
     },
     "metadata": {},
     "output_type": "display_data"
    },
    {
     "data": {
      "application/vnd.jupyter.widget-view+json": {
       "model_id": "",
       "version_major": 2,
       "version_minor": 0
      },
      "text/plain": [
       "FloatProgress(value=0.0, bar_style='info', description='Progress:', layout=Layout(height='25px', width='50%'),…"
      ]
     },
     "metadata": {},
     "output_type": "display_data"
    }
   ],
   "source": [
    "from sparknlp_jsl.annotator import TFGraphBuilder\n",
    "\n",
    "graph_folder = \"/tmp/gc_graph\"\n",
    "\n",
    "gc_graph_builder =medical.TFGraphBuilder()\\\n",
    "    .setModelName(\"generic_classifier\")\\\n",
    "    .setInputCols([\"features\"])\\\n",
    "    .setLabelColumn(\"category\")\\\n",
    "    .setHiddenLayers([300,200, 50])\\\n",
    "    .setHiddenAct(\"tanh\")\\\n",
    "    .setHiddenActL2(True)\\\n",
    "    .setBatchNorm(True)\\\n",
    "    .setGraphFolder(graph_folder)\\\n",
    "    .setGraphFile(\"gcf_graph_bert.pb\")"
   ]
  },
  {
   "cell_type": "code",
   "execution_count": 116,
   "metadata": {
    "execution": {
     "iopub.execute_input": "2023-09-15T09:14:07.782767Z",
     "iopub.status.busy": "2023-09-15T09:14:07.782555Z",
     "iopub.status.idle": "2023-09-15T09:14:07.839090Z",
     "shell.execute_reply": "2023-09-15T09:14:07.838383Z",
     "shell.execute_reply.started": "2023-09-15T09:14:07.782737Z"
    },
    "id": "lYsWcP6yyGE3"
   },
   "outputs": [
    {
     "data": {
      "application/vnd.jupyter.widget-view+json": {
       "model_id": "b7c87b812e6f4d1e95cac3b0308be555",
       "version_major": 2,
       "version_minor": 0
      },
      "text/plain": [
       "VBox()"
      ]
     },
     "metadata": {},
     "output_type": "display_data"
    },
    {
     "data": {
      "application/vnd.jupyter.widget-view+json": {
       "model_id": "",
       "version_major": 2,
       "version_minor": 0
      },
      "text/plain": [
       "FloatProgress(value=0.0, bar_style='info', description='Progress:', layout=Layout(height='25px', width='50%'),…"
      ]
     },
     "metadata": {},
     "output_type": "display_data"
    }
   ],
   "source": [
    "features_asm =medical.FeaturesAssembler()\\\n",
    "    .setInputCols([\"sentence_embeddings\"])\\\n",
    "    .setOutputCol(\"features\")\n",
    "\n",
    "gen_clf =medical.GenericClassifierApproach()\\\n",
    "    .setLabelColumn(\"category\")\\\n",
    "    .setInputCols(\"features\")\\\n",
    "    .setOutputCol(\"prediction\")\\\n",
    "    .setModelFile(f\"{graph_folder}/gcf_graph_bert.pb\")\\\n",
    "    .setEpochsNumber(20)\\\n",
    "    .setBatchSize(32)\\\n",
    "    .setLearningRate(0.001)\\\n",
    "    .setOutputLogsPath(log_folder)\\\n",
    "    .setDropout(0.5)\\\n",
    "    .setFixImbalance(True)\\\n",
    "    # .setValidationSplit(0.1)\n",
    "\n",
    "clf_Pipeline = nlp.Pipeline(stages=[\n",
    "    features_asm,\n",
    "    gc_graph_builder,\n",
    "    gen_clf])\n"
   ]
  },
  {
   "cell_type": "code",
   "execution_count": 117,
   "metadata": {
    "colab": {
     "base_uri": "https://localhost:8080/"
    },
    "execution": {
     "iopub.execute_input": "2023-09-15T09:14:07.840315Z",
     "iopub.status.busy": "2023-09-15T09:14:07.840106Z",
     "iopub.status.idle": "2023-09-15T09:20:34.314348Z",
     "shell.execute_reply": "2023-09-15T09:20:34.313649Z",
     "shell.execute_reply.started": "2023-09-15T09:14:07.840286Z"
    },
    "executionInfo": {
     "elapsed": 398934,
     "status": "ok",
     "timestamp": 1689671131222,
     "user": {
      "displayName": "Ahmet Mesut BİROL",
      "userId": "04340760882990254267"
     },
     "user_tz": -180
    },
    "id": "uTJY05QbyGE3",
    "outputId": "b785d84c-e082-4b91-b6db-671f229205dc"
   },
   "outputs": [
    {
     "data": {
      "application/vnd.jupyter.widget-view+json": {
       "model_id": "361f646b27f54f6c82926a8001a0b9ae",
       "version_major": 2,
       "version_minor": 0
      },
      "text/plain": [
       "VBox()"
      ]
     },
     "metadata": {},
     "output_type": "display_data"
    },
    {
     "data": {
      "application/vnd.jupyter.widget-view+json": {
       "model_id": "",
       "version_major": 2,
       "version_minor": 0
      },
      "text/plain": [
       "FloatProgress(value=0.0, bar_style='info', description='Progress:', layout=Layout(height='25px', width='50%'),…"
      ]
     },
     "metadata": {},
     "output_type": "display_data"
    },
    {
     "name": "stdout",
     "output_type": "stream",
     "text": [
      "TF Graph Builder configuration:\n",
      "Model name: generic_classifier\n",
      "Graph folder: /tmp/gc_graph\n",
      "Graph file name: gcf_graph_bert.pb\n",
      "Build params: {'input_dim': 768, 'output_dim': 2, 'hidden_layers': [300, 200, 50], 'hidden_act': 'tanh', 'hidden_act_l2': True, 'batch_norm': True}\n",
      "generic_classifier graph exported to /tmp/gc_graph/gcf_graph_bert.pb"
     ]
    }
   ],
   "source": [
    "generic_model_bert = clf_Pipeline.fit(trainingData_with_embeddings)"
   ]
  },
  {
   "cell_type": "code",
   "execution_count": 118,
   "metadata": {
    "colab": {
     "base_uri": "https://localhost:8080/"
    },
    "execution": {
     "iopub.execute_input": "2023-09-15T09:20:34.315587Z",
     "iopub.status.busy": "2023-09-15T09:20:34.315369Z",
     "iopub.status.idle": "2023-09-15T09:21:51.819046Z",
     "shell.execute_reply": "2023-09-15T09:21:51.818157Z",
     "shell.execute_reply.started": "2023-09-15T09:20:34.315557Z"
    },
    "executionInfo": {
     "elapsed": 52711,
     "status": "ok",
     "timestamp": 1689671183922,
     "user": {
      "displayName": "Ahmet Mesut BİROL",
      "userId": "04340760882990254267"
     },
     "user_tz": -180
    },
    "id": "EB1ONwUvyGE3",
    "outputId": "f23ff0c2-ec7c-4fc0-f0b4-90e90abf68ad",
    "tags": []
   },
   "outputs": [
    {
     "data": {
      "application/vnd.jupyter.widget-view+json": {
       "model_id": "47e059abfa634cf4a7a4a0e8b3e11dbf",
       "version_major": 2,
       "version_minor": 0
      },
      "text/plain": [
       "VBox()"
      ]
     },
     "metadata": {},
     "output_type": "display_data"
    },
    {
     "data": {
      "application/vnd.jupyter.widget-view+json": {
       "model_id": "",
       "version_major": 2,
       "version_minor": 0
      },
      "text/plain": [
       "FloatProgress(value=0.0, bar_style='info', description='Progress:', layout=Layout(height='25px', width='50%'),…"
      ]
     },
     "metadata": {},
     "output_type": "display_data"
    },
    {
     "name": "stdout",
     "output_type": "stream",
     "text": [
      "              precision    recall  f1-score   support\n",
      "\n",
      "         neg       0.94      0.88      0.91      1031\n",
      "         pos       0.74      0.87      0.80       423\n",
      "\n",
      "    accuracy                           0.87      1454\n",
      "   macro avg       0.84      0.87      0.86      1454\n",
      "weighted avg       0.89      0.87      0.88      1454"
     ]
    }
   ],
   "source": [
    "pred_df = generic_model_bert.transform(testData_with_embeddings)\n",
    "\n",
    "preds_df = pred_df.select('category','prediction.result').toPandas()\n",
    "preds_df['result'] = preds_df.result.apply(lambda x : x[0])\n",
    "\n",
    "print (classification_report(preds_df['category'], preds_df['result']))"
   ]
  },
  {
   "cell_type": "code",
   "execution_count": 119,
   "metadata": {
    "execution": {
     "iopub.execute_input": "2023-09-15T09:21:51.820424Z",
     "iopub.status.busy": "2023-09-15T09:21:51.820198Z",
     "iopub.status.idle": "2023-09-15T09:21:52.093738Z",
     "shell.execute_reply": "2023-09-15T09:21:52.093000Z",
     "shell.execute_reply.started": "2023-09-15T09:21:51.820393Z"
    },
    "id": "51IsgG8s_r0l"
   },
   "outputs": [
    {
     "data": {
      "application/vnd.jupyter.widget-view+json": {
       "model_id": "9c5b5be091694a82980cbf043311e397",
       "version_major": 2,
       "version_minor": 0
      },
      "text/plain": [
       "VBox()"
      ]
     },
     "metadata": {},
     "output_type": "display_data"
    },
    {
     "data": {
      "application/vnd.jupyter.widget-view+json": {
       "model_id": "",
       "version_major": 2,
       "version_minor": 0
      },
      "text/plain": [
       "FloatProgress(value=0.0, bar_style='info', description='Progress:', layout=Layout(height='25px', width='50%'),…"
      ]
     },
     "metadata": {},
     "output_type": "display_data"
    }
   ],
   "source": [
    "res = classification_report(preds_df[\"category\"], preds_df[\"result\"], output_dict=True)\n",
    "results_df.loc[\"GenericClassifier_bert\"] = [res[\"pos\"][\"f1-score\"], res[\"accuracy\"]]"
   ]
  },
  {
   "cell_type": "markdown",
   "metadata": {
    "id": "wP2hYqY1XJVB"
   },
   "source": [
    "### GenericLogRegClassifier"
   ]
  },
  {
   "cell_type": "code",
   "execution_count": 120,
   "metadata": {
    "execution": {
     "iopub.execute_input": "2023-09-15T09:21:52.094938Z",
     "iopub.status.busy": "2023-09-15T09:21:52.094706Z",
     "iopub.status.idle": "2023-09-15T09:21:52.156373Z",
     "shell.execute_reply": "2023-09-15T09:21:52.155658Z",
     "shell.execute_reply.started": "2023-09-15T09:21:52.094907Z"
    },
    "id": "nMqP9w4YXJVB"
   },
   "outputs": [
    {
     "data": {
      "application/vnd.jupyter.widget-view+json": {
       "model_id": "c58045fe11dd4f7d881a5d59158b29e1",
       "version_major": 2,
       "version_minor": 0
      },
      "text/plain": [
       "VBox()"
      ]
     },
     "metadata": {},
     "output_type": "display_data"
    },
    {
     "data": {
      "application/vnd.jupyter.widget-view+json": {
       "model_id": "",
       "version_major": 2,
       "version_minor": 0
      },
      "text/plain": [
       "FloatProgress(value=0.0, bar_style='info', description='Progress:', layout=Layout(height='25px', width='50%'),…"
      ]
     },
     "metadata": {},
     "output_type": "display_data"
    }
   ],
   "source": [
    "graph_folder = \"/tmp/gc_graph\"\n",
    "\n",
    "gc_logreg_graph_builder = medical.TFGraphBuilder()\\\n",
    "    .setModelName(\"logreg_classifier\")\\\n",
    "    .setInputCols([\"feature_vector\"]) \\\n",
    "    .setLabelColumn(\"category\")\\\n",
    "    .setGraphFolder(graph_folder)\\\n",
    "    .setGraphFile(\"log_reg_graph.pb\")"
   ]
  },
  {
   "cell_type": "markdown",
   "metadata": {
    "id": "ubEJt4C5XJVB"
   },
   "source": [
    "GenericLogRegClassifier needs outputs from FeaturesAssembler. The FeaturesAssembler is used to collect features from different columns or an embeddings column.\n",
    "\n",
    "The GenericLogRegClassifier takes FEATURE_VECTOR annotations as input, classifies them and outputs CATEGORY annotations."
   ]
  },
  {
   "cell_type": "code",
   "execution_count": 121,
   "metadata": {
    "execution": {
     "iopub.execute_input": "2023-09-15T09:21:52.157600Z",
     "iopub.status.busy": "2023-09-15T09:21:52.157372Z",
     "iopub.status.idle": "2023-09-15T09:21:52.220453Z",
     "shell.execute_reply": "2023-09-15T09:21:52.219583Z",
     "shell.execute_reply.started": "2023-09-15T09:21:52.157570Z"
    },
    "id": "JciMxptEXJVB"
   },
   "outputs": [
    {
     "data": {
      "application/vnd.jupyter.widget-view+json": {
       "model_id": "a8dc544420114b55b8722211fd89dc5a",
       "version_major": 2,
       "version_minor": 0
      },
      "text/plain": [
       "VBox()"
      ]
     },
     "metadata": {},
     "output_type": "display_data"
    },
    {
     "data": {
      "application/vnd.jupyter.widget-view+json": {
       "model_id": "",
       "version_major": 2,
       "version_minor": 0
      },
      "text/plain": [
       "FloatProgress(value=0.0, bar_style='info', description='Progress:', layout=Layout(height='25px', width='50%'),…"
      ]
     },
     "metadata": {},
     "output_type": "display_data"
    }
   ],
   "source": [
    "features_asm = medical.FeaturesAssembler()\\\n",
    "    .setInputCols([\"sentence_embeddings\"])\\\n",
    "    .setOutputCol(\"feature_vector\")\n",
    "\n",
    "gen_clf = medical.GenericLogRegClassifierApproach()\\\n",
    "    .setLabelColumn(\"category\")\\\n",
    "    .setInputCols(\"feature_vector\")\\\n",
    "    .setOutputCol(\"prediction\")\\\n",
    "    .setModelFile(f\"{graph_folder}/log_reg_graph.pb\")\\\n",
    "    .setEpochsNumber(20)\\\n",
    "    .setBatchSize(128)\\\n",
    "    .setLearningRate(0.01)\\\n",
    "    .setOutputLogsPath(log_folder)\\\n",
    "    .setDropout(0.1)\\\n",
    "    .setFixImbalance(True)\\\n",
    "    # .setValidationSplit(0.1)\n",
    "\n",
    "clf_Pipeline = nlp.Pipeline(stages=[\n",
    "    features_asm,\n",
    "    gc_logreg_graph_builder,\n",
    "    gen_clf])\n"
   ]
  },
  {
   "cell_type": "code",
   "execution_count": 122,
   "metadata": {
    "colab": {
     "base_uri": "https://localhost:8080/"
    },
    "execution": {
     "iopub.execute_input": "2023-09-15T09:21:52.221692Z",
     "iopub.status.busy": "2023-09-15T09:21:52.221464Z",
     "iopub.status.idle": "2023-09-15T09:28:06.634502Z",
     "shell.execute_reply": "2023-09-15T09:28:06.633761Z",
     "shell.execute_reply.started": "2023-09-15T09:21:52.221661Z"
    },
    "executionInfo": {
     "elapsed": 387156,
     "status": "ok",
     "timestamp": 1689671571043,
     "user": {
      "displayName": "Ahmet Mesut BİROL",
      "userId": "04340760882990254267"
     },
     "user_tz": -180
    },
    "id": "vxDhTsP0XJVC",
    "outputId": "051f77eb-7059-4c33-fb67-22dd2c4f458a"
   },
   "outputs": [
    {
     "data": {
      "application/vnd.jupyter.widget-view+json": {
       "model_id": "3ec6ac8206644845aab4726e494651e5",
       "version_major": 2,
       "version_minor": 0
      },
      "text/plain": [
       "VBox()"
      ]
     },
     "metadata": {},
     "output_type": "display_data"
    },
    {
     "data": {
      "application/vnd.jupyter.widget-view+json": {
       "model_id": "",
       "version_major": 2,
       "version_minor": 0
      },
      "text/plain": [
       "FloatProgress(value=0.0, bar_style='info', description='Progress:', layout=Layout(height='25px', width='50%'),…"
      ]
     },
     "metadata": {},
     "output_type": "display_data"
    },
    {
     "name": "stdout",
     "output_type": "stream",
     "text": [
      "TF Graph Builder configuration:\n",
      "Model name: logreg_classifier\n",
      "Graph folder: /tmp/gc_graph\n",
      "Graph file name: log_reg_graph.pb\n",
      "Build params: {'input_dim': 768, 'output_dim': 2, 'hidden_layers': [], 'output_act': 'sigmoid'}\n",
      "logreg_classifier graph exported to /tmp/gc_graph/log_reg_graph.pb"
     ]
    }
   ],
   "source": [
    "generic_model_bert = clf_Pipeline.fit(trainingData_with_embeddings)"
   ]
  },
  {
   "cell_type": "code",
   "execution_count": 123,
   "metadata": {
    "execution": {
     "iopub.execute_input": "2023-09-15T09:28:06.635745Z",
     "iopub.status.busy": "2023-09-15T09:28:06.635523Z",
     "iopub.status.idle": "2023-09-15T09:28:31.976614Z",
     "shell.execute_reply": "2023-09-15T09:28:31.975845Z",
     "shell.execute_reply.started": "2023-09-15T09:28:06.635714Z"
    },
    "id": "EpQZpzg1XJVC"
   },
   "outputs": [
    {
     "data": {
      "application/vnd.jupyter.widget-view+json": {
       "model_id": "c4149c59ce354840933cdbf9e0c24525",
       "version_major": 2,
       "version_minor": 0
      },
      "text/plain": [
       "VBox()"
      ]
     },
     "metadata": {},
     "output_type": "display_data"
    },
    {
     "data": {
      "application/vnd.jupyter.widget-view+json": {
       "model_id": "",
       "version_major": 2,
       "version_minor": 0
      },
      "text/plain": [
       "FloatProgress(value=0.0, bar_style='info', description='Progress:', layout=Layout(height='25px', width='50%'),…"
      ]
     },
     "metadata": {},
     "output_type": "display_data"
    }
   ],
   "source": [
    "pred_df = generic_model_bert.transform(testData_with_embeddings)"
   ]
  },
  {
   "cell_type": "code",
   "execution_count": 124,
   "metadata": {
    "colab": {
     "base_uri": "https://localhost:8080/"
    },
    "execution": {
     "iopub.execute_input": "2023-09-15T09:28:31.977806Z",
     "iopub.status.busy": "2023-09-15T09:28:31.977584Z",
     "iopub.status.idle": "2023-09-15T09:28:57.324229Z",
     "shell.execute_reply": "2023-09-15T09:28:57.323497Z",
     "shell.execute_reply.started": "2023-09-15T09:28:31.977775Z"
    },
    "executionInfo": {
     "elapsed": 26019,
     "status": "ok",
     "timestamp": 1689671624169,
     "user": {
      "displayName": "Ahmet Mesut BİROL",
      "userId": "04340760882990254267"
     },
     "user_tz": -180
    },
    "id": "YAIyaNA5XJVC",
    "outputId": "fe06f32f-bd15-4390-8808-eb99c793830d",
    "tags": []
   },
   "outputs": [
    {
     "data": {
      "application/vnd.jupyter.widget-view+json": {
       "model_id": "7bbcfa59765e4d3eac8e23e82755e60e",
       "version_major": 2,
       "version_minor": 0
      },
      "text/plain": [
       "VBox()"
      ]
     },
     "metadata": {},
     "output_type": "display_data"
    },
    {
     "data": {
      "application/vnd.jupyter.widget-view+json": {
       "model_id": "",
       "version_major": 2,
       "version_minor": 0
      },
      "text/plain": [
       "FloatProgress(value=0.0, bar_style='info', description='Progress:', layout=Layout(height='25px', width='50%'),…"
      ]
     },
     "metadata": {},
     "output_type": "display_data"
    },
    {
     "name": "stdout",
     "output_type": "stream",
     "text": [
      "              precision    recall  f1-score   support\n",
      "\n",
      "         neg       0.93      0.89      0.91      1031\n",
      "         pos       0.76      0.83      0.79       423\n",
      "\n",
      "    accuracy                           0.87      1454\n",
      "   macro avg       0.84      0.86      0.85      1454\n",
      "weighted avg       0.88      0.87      0.88      1454"
     ]
    }
   ],
   "source": [
    "preds_df = pred_df.select('category','prediction.result').toPandas()\n",
    "preds_df['result'] = preds_df.result.apply(lambda x : x[0])\n",
    "\n",
    "print (classification_report(preds_df['category'], preds_df['result']))"
   ]
  },
  {
   "cell_type": "code",
   "execution_count": 125,
   "metadata": {
    "execution": {
     "iopub.execute_input": "2023-09-15T09:28:57.325412Z",
     "iopub.status.busy": "2023-09-15T09:28:57.325201Z",
     "iopub.status.idle": "2023-09-15T09:28:57.583792Z",
     "shell.execute_reply": "2023-09-15T09:28:57.583035Z",
     "shell.execute_reply.started": "2023-09-15T09:28:57.325383Z"
    },
    "id": "V6JdqR-N_6Xq"
   },
   "outputs": [
    {
     "data": {
      "application/vnd.jupyter.widget-view+json": {
       "model_id": "a5066ebb5d114b6c9dfaa7b854ce15d0",
       "version_major": 2,
       "version_minor": 0
      },
      "text/plain": [
       "VBox()"
      ]
     },
     "metadata": {},
     "output_type": "display_data"
    },
    {
     "data": {
      "application/vnd.jupyter.widget-view+json": {
       "model_id": "",
       "version_major": 2,
       "version_minor": 0
      },
      "text/plain": [
       "FloatProgress(value=0.0, bar_style='info', description='Progress:', layout=Layout(height='25px', width='50%'),…"
      ]
     },
     "metadata": {},
     "output_type": "display_data"
    }
   ],
   "source": [
    "res = classification_report(preds_df[\"category\"], preds_df[\"result\"], output_dict=True)\n",
    "results_df.loc[\"GenericLogReg_bert\"] = [res[\"pos\"][\"f1-score\"], res[\"accuracy\"]]"
   ]
  },
  {
   "cell_type": "markdown",
   "metadata": {
    "id": "fJ53RrHWXXHj"
   },
   "source": [
    "### GenericSVMClassifier"
   ]
  },
  {
   "cell_type": "code",
   "execution_count": 126,
   "metadata": {
    "execution": {
     "iopub.execute_input": "2023-09-15T09:28:57.584997Z",
     "iopub.status.busy": "2023-09-15T09:28:57.584786Z",
     "iopub.status.idle": "2023-09-15T09:28:57.640209Z",
     "shell.execute_reply": "2023-09-15T09:28:57.639369Z",
     "shell.execute_reply.started": "2023-09-15T09:28:57.584968Z"
    },
    "id": "xyjJzPzBXXHk"
   },
   "outputs": [
    {
     "data": {
      "application/vnd.jupyter.widget-view+json": {
       "model_id": "bb5e737f207a4c9fb41da5f6807fad93",
       "version_major": 2,
       "version_minor": 0
      },
      "text/plain": [
       "VBox()"
      ]
     },
     "metadata": {},
     "output_type": "display_data"
    },
    {
     "data": {
      "application/vnd.jupyter.widget-view+json": {
       "model_id": "",
       "version_major": 2,
       "version_minor": 0
      },
      "text/plain": [
       "FloatProgress(value=0.0, bar_style='info', description='Progress:', layout=Layout(height='25px', width='50%'),…"
      ]
     },
     "metadata": {},
     "output_type": "display_data"
    }
   ],
   "source": [
    "graph_folder = \"/tmp/gc_graph\"\n",
    "\n",
    "gc_svm_graph_builder = medical.TFGraphBuilder()\\\n",
    "    .setModelName(\"svm_classifier\")\\\n",
    "    .setInputCols([\"feature_vector\"]) \\\n",
    "    .setLabelColumn(\"category\")\\\n",
    "    .setGraphFolder(graph_folder)\\\n",
    "    .setGraphFile(\"svm_graph.pb\")"
   ]
  },
  {
   "cell_type": "markdown",
   "metadata": {
    "id": "VX7v20wHXXHk"
   },
   "source": [
    "GenericSVMClassifier needs outputs from FeaturesAssembler. The FeaturesAssembler is used to collect features from different columns or an embeddings column.\n",
    "\n",
    "The GenericSVMClassifier takes FEATURE_VECTOR annotations as input, classifies them and outputs CATEGORY annotations."
   ]
  },
  {
   "cell_type": "code",
   "execution_count": 127,
   "metadata": {
    "execution": {
     "iopub.execute_input": "2023-09-15T09:28:57.641549Z",
     "iopub.status.busy": "2023-09-15T09:28:57.641328Z",
     "iopub.status.idle": "2023-09-15T09:28:57.702944Z",
     "shell.execute_reply": "2023-09-15T09:28:57.702215Z",
     "shell.execute_reply.started": "2023-09-15T09:28:57.641518Z"
    },
    "id": "0vzQ80M5XXHk"
   },
   "outputs": [
    {
     "data": {
      "application/vnd.jupyter.widget-view+json": {
       "model_id": "04e1a72411844771b488796fd5519d54",
       "version_major": 2,
       "version_minor": 0
      },
      "text/plain": [
       "VBox()"
      ]
     },
     "metadata": {},
     "output_type": "display_data"
    },
    {
     "data": {
      "application/vnd.jupyter.widget-view+json": {
       "model_id": "",
       "version_major": 2,
       "version_minor": 0
      },
      "text/plain": [
       "FloatProgress(value=0.0, bar_style='info', description='Progress:', layout=Layout(height='25px', width='50%'),…"
      ]
     },
     "metadata": {},
     "output_type": "display_data"
    }
   ],
   "source": [
    "features_asm = medical.FeaturesAssembler()\\\n",
    "    .setInputCols([\"sentence_embeddings\"])\\\n",
    "    .setOutputCol(\"feature_vector\")\n",
    "\n",
    "gen_clf = medical.GenericSVMClassifierApproach()\\\n",
    "    .setLabelColumn(\"category\")\\\n",
    "    .setInputCols(\"feature_vector\")\\\n",
    "    .setOutputCol(\"prediction\")\\\n",
    "    .setModelFile(f\"{graph_folder}/svm_graph.pb\")\\\n",
    "    .setEpochsNumber(20)\\\n",
    "    .setBatchSize(128)\\\n",
    "    .setLearningRate(0.005)\\\n",
    "    .setOutputLogsPath(log_folder)\\\n",
    "    .setDropout(0.1)\\\n",
    "    .setFixImbalance(True)\\\n",
    "    # .setValidationSplit(0.1)\n",
    "\n",
    "clf_Pipeline = nlp.Pipeline(stages=[\n",
    "    features_asm,\n",
    "    gc_svm_graph_builder,\n",
    "    gen_clf])\n"
   ]
  },
  {
   "cell_type": "code",
   "execution_count": 128,
   "metadata": {
    "colab": {
     "base_uri": "https://localhost:8080/"
    },
    "execution": {
     "iopub.execute_input": "2023-09-15T09:28:57.704190Z",
     "iopub.status.busy": "2023-09-15T09:28:57.703970Z",
     "iopub.status.idle": "2023-09-15T09:35:12.740792Z",
     "shell.execute_reply": "2023-09-15T09:35:12.740046Z",
     "shell.execute_reply.started": "2023-09-15T09:28:57.704158Z"
    },
    "executionInfo": {
     "elapsed": 384017,
     "status": "ok",
     "timestamp": 1689672008177,
     "user": {
      "displayName": "Ahmet Mesut BİROL",
      "userId": "04340760882990254267"
     },
     "user_tz": -180
    },
    "id": "9BieY4KtXXHk",
    "outputId": "bb637b41-8efa-4fe0-89ea-16917a2da93d"
   },
   "outputs": [
    {
     "data": {
      "application/vnd.jupyter.widget-view+json": {
       "model_id": "41fa6d8c2a12465c98208230db4c4e0e",
       "version_major": 2,
       "version_minor": 0
      },
      "text/plain": [
       "VBox()"
      ]
     },
     "metadata": {},
     "output_type": "display_data"
    },
    {
     "data": {
      "application/vnd.jupyter.widget-view+json": {
       "model_id": "",
       "version_major": 2,
       "version_minor": 0
      },
      "text/plain": [
       "FloatProgress(value=0.0, bar_style='info', description='Progress:', layout=Layout(height='25px', width='50%'),…"
      ]
     },
     "metadata": {},
     "output_type": "display_data"
    },
    {
     "name": "stdout",
     "output_type": "stream",
     "text": [
      "TF Graph Builder configuration:\n",
      "Model name: svm_classifier\n",
      "Graph folder: /tmp/gc_graph\n",
      "Graph file name: svm_graph.pb\n",
      "Build params: {'input_dim': 768, 'output_dim': 2, 'hidden_layers': [], 'output_act': 'sigmoid', 'loss_func': 'hinge'}\n",
      "svm_classifier graph exported to /tmp/gc_graph/svm_graph.pb"
     ]
    }
   ],
   "source": [
    "generic_model_bert = clf_Pipeline.fit(trainingData_with_embeddings)"
   ]
  },
  {
   "cell_type": "code",
   "execution_count": 129,
   "metadata": {
    "execution": {
     "iopub.execute_input": "2023-09-15T09:35:12.742016Z",
     "iopub.status.busy": "2023-09-15T09:35:12.741795Z",
     "iopub.status.idle": "2023-09-15T09:36:04.169834Z",
     "shell.execute_reply": "2023-09-15T09:36:04.169081Z",
     "shell.execute_reply.started": "2023-09-15T09:35:12.741985Z"
    },
    "id": "iHL0IWHQXXHk"
   },
   "outputs": [
    {
     "data": {
      "application/vnd.jupyter.widget-view+json": {
       "model_id": "db8590c2b3ea42d29bb6882a30e9cdb2",
       "version_major": 2,
       "version_minor": 0
      },
      "text/plain": [
       "VBox()"
      ]
     },
     "metadata": {},
     "output_type": "display_data"
    },
    {
     "data": {
      "application/vnd.jupyter.widget-view+json": {
       "model_id": "",
       "version_major": 2,
       "version_minor": 0
      },
      "text/plain": [
       "FloatProgress(value=0.0, bar_style='info', description='Progress:', layout=Layout(height='25px', width='50%'),…"
      ]
     },
     "metadata": {},
     "output_type": "display_data"
    }
   ],
   "source": [
    "pred_df = generic_model_bert.transform(testData_with_embeddings)"
   ]
  },
  {
   "cell_type": "code",
   "execution_count": 130,
   "metadata": {
    "colab": {
     "base_uri": "https://localhost:8080/"
    },
    "execution": {
     "iopub.execute_input": "2023-09-15T09:36:04.172589Z",
     "iopub.status.busy": "2023-09-15T09:36:04.172365Z",
     "iopub.status.idle": "2023-09-15T09:36:31.527046Z",
     "shell.execute_reply": "2023-09-15T09:36:31.526052Z",
     "shell.execute_reply.started": "2023-09-15T09:36:04.172558Z"
    },
    "executionInfo": {
     "elapsed": 25339,
     "status": "ok",
     "timestamp": 1689672059371,
     "user": {
      "displayName": "Ahmet Mesut BİROL",
      "userId": "04340760882990254267"
     },
     "user_tz": -180
    },
    "id": "O1pwRdfMXXHl",
    "outputId": "00fbc722-b91a-487f-b160-1bb7f9680e79",
    "tags": []
   },
   "outputs": [
    {
     "data": {
      "application/vnd.jupyter.widget-view+json": {
       "model_id": "4b3bf63254c34aaaa01531d87b2268b0",
       "version_major": 2,
       "version_minor": 0
      },
      "text/plain": [
       "VBox()"
      ]
     },
     "metadata": {},
     "output_type": "display_data"
    },
    {
     "data": {
      "application/vnd.jupyter.widget-view+json": {
       "model_id": "",
       "version_major": 2,
       "version_minor": 0
      },
      "text/plain": [
       "FloatProgress(value=0.0, bar_style='info', description='Progress:', layout=Layout(height='25px', width='50%'),…"
      ]
     },
     "metadata": {},
     "output_type": "display_data"
    },
    {
     "name": "stdout",
     "output_type": "stream",
     "text": [
      "              precision    recall  f1-score   support\n",
      "\n",
      "         neg       0.86      0.95      0.91      1031\n",
      "         pos       0.85      0.63      0.72       423\n",
      "\n",
      "    accuracy                           0.86      1454\n",
      "   macro avg       0.86      0.79      0.81      1454\n",
      "weighted avg       0.86      0.86      0.85      1454"
     ]
    }
   ],
   "source": [
    "preds_df = pred_df.select('category','prediction.result').toPandas()\n",
    "preds_df['result'] = preds_df.result.apply(lambda x : x[0])\n",
    "\n",
    "print (classification_report(preds_df['category'], preds_df['result']))"
   ]
  },
  {
   "cell_type": "code",
   "execution_count": 131,
   "metadata": {
    "execution": {
     "iopub.execute_input": "2023-09-15T09:36:31.529134Z",
     "iopub.status.busy": "2023-09-15T09:36:31.528785Z",
     "iopub.status.idle": "2023-09-15T09:36:31.799551Z",
     "shell.execute_reply": "2023-09-15T09:36:31.798831Z",
     "shell.execute_reply.started": "2023-09-15T09:36:31.529078Z"
    },
    "id": "wh3x5Qi9ACsw",
    "tags": []
   },
   "outputs": [
    {
     "data": {
      "application/vnd.jupyter.widget-view+json": {
       "model_id": "d8f5b1a006244cd990bc3f6edf9d4174",
       "version_major": 2,
       "version_minor": 0
      },
      "text/plain": [
       "VBox()"
      ]
     },
     "metadata": {},
     "output_type": "display_data"
    },
    {
     "data": {
      "application/vnd.jupyter.widget-view+json": {
       "model_id": "",
       "version_major": 2,
       "version_minor": 0
      },
      "text/plain": [
       "FloatProgress(value=0.0, bar_style='info', description='Progress:', layout=Layout(height='25px', width='50%'),…"
      ]
     },
     "metadata": {},
     "output_type": "display_data"
    }
   ],
   "source": [
    "res = classification_report(preds_df[\"category\"], preds_df[\"result\"], output_dict=True)\n",
    "results_df.loc[\"GenericSVM_bert\"] = [res[\"pos\"][\"f1-score\"], res[\"accuracy\"]]"
   ]
  },
  {
   "cell_type": "markdown",
   "metadata": {
    "id": "HAEFUdy1gyh1"
   },
   "source": [
    "## DocumentLogRegClassifier"
   ]
  },
  {
   "cell_type": "code",
   "execution_count": 132,
   "metadata": {
    "execution": {
     "iopub.execute_input": "2023-09-15T09:36:37.729736Z",
     "iopub.status.busy": "2023-09-15T09:36:37.729469Z",
     "iopub.status.idle": "2023-09-15T09:36:53.472228Z",
     "shell.execute_reply": "2023-09-15T09:36:53.471483Z",
     "shell.execute_reply.started": "2023-09-15T09:36:37.729704Z"
    },
    "id": "4YOr31bfg0hm"
   },
   "outputs": [
    {
     "data": {
      "application/vnd.jupyter.widget-view+json": {
       "model_id": "5bedb019a38643998d964dbf880c29ad",
       "version_major": 2,
       "version_minor": 0
      },
      "text/plain": [
       "VBox()"
      ]
     },
     "metadata": {},
     "output_type": "display_data"
    },
    {
     "data": {
      "application/vnd.jupyter.widget-view+json": {
       "model_id": "",
       "version_major": 2,
       "version_minor": 0
      },
      "text/plain": [
       "FloatProgress(value=0.0, bar_style='info', description='Progress:', layout=Layout(height='25px', width='50%'),…"
      ]
     },
     "metadata": {},
     "output_type": "display_data"
    }
   ],
   "source": [
    "document_assembler = nlp.DocumentAssembler()\\\n",
    "    .setInputCol(\"text\")\\\n",
    "    .setOutputCol(\"document\")\n",
    "\n",
    "tokenizer = nlp.Tokenizer() \\\n",
    "    .setInputCols([\"document\"]) \\\n",
    "    .setOutputCol(\"token\")\n",
    "\n",
    "normalizer = nlp.Normalizer() \\\n",
    "      .setInputCols([\"token\"]) \\\n",
    "      .setOutputCol(\"normalized\")\n",
    "\n",
    "stopwords_cleaner = nlp.StopWordsCleaner()\\\n",
    "      .setInputCols(\"normalized\")\\\n",
    "      .setOutputCol(\"cleanTokens\")\\\n",
    "      .setCaseSensitive(False)\n",
    "\n",
    "stemmer = nlp.Stemmer() \\\n",
    "      .setInputCols([\"cleanTokens\"]) \\\n",
    "      .setOutputCol(\"stem\")\n",
    "\n",
    "logreg = medical.DocumentLogRegClassifierApproach()\\\n",
    "    .setInputCols(\"stem\")\\\n",
    "    .setLabelCol(\"category\")\\\n",
    "    .setOutputCol(\"prediction\")\\\n",
    "    .setMaxIter(3)\\\n",
    "    .setTol(1e-6)\n",
    "\n",
    "clf_Pipeline = nlp.Pipeline(stages=[\n",
    "    document_assembler,\n",
    "    tokenizer,\n",
    "    normalizer,\n",
    "    stopwords_cleaner,\n",
    "    stemmer,\n",
    "    logreg])\n",
    "doclogreg_model = clf_Pipeline.fit(trainingData)"
   ]
  },
  {
   "cell_type": "code",
   "execution_count": 133,
   "metadata": {
    "colab": {
     "base_uri": "https://localhost:8080/"
    },
    "execution": {
     "iopub.execute_input": "2023-09-15T09:36:53.473625Z",
     "iopub.status.busy": "2023-09-15T09:36:53.473400Z",
     "iopub.status.idle": "2023-09-15T09:36:57.119532Z",
     "shell.execute_reply": "2023-09-15T09:36:57.078752Z",
     "shell.execute_reply.started": "2023-09-15T09:36:53.473593Z"
    },
    "executionInfo": {
     "elapsed": 4487,
     "status": "ok",
     "timestamp": 1689672075940,
     "user": {
      "displayName": "Ahmet Mesut BİROL",
      "userId": "04340760882990254267"
     },
     "user_tz": -180
    },
    "id": "61zEw5EQg0d-",
    "outputId": "856d8562-9a73-4633-b289-961221d33ac9"
   },
   "outputs": [
    {
     "data": {
      "application/vnd.jupyter.widget-view+json": {
       "model_id": "5924a74e34964a6da7ad514b1e9b1b93",
       "version_major": 2,
       "version_minor": 0
      },
      "text/plain": [
       "VBox()"
      ]
     },
     "metadata": {},
     "output_type": "display_data"
    },
    {
     "data": {
      "application/vnd.jupyter.widget-view+json": {
       "model_id": "",
       "version_major": 2,
       "version_minor": 0
      },
      "text/plain": [
       "FloatProgress(value=0.0, bar_style='info', description='Progress:', layout=Layout(height='25px', width='50%'),…"
      ]
     },
     "metadata": {},
     "output_type": "display_data"
    },
    {
     "name": "stdout",
     "output_type": "stream",
     "text": [
      "              precision    recall  f1-score   support\n",
      "\n",
      "         neg       0.85      0.93      0.89      1031\n",
      "         pos       0.78      0.61      0.68       423\n",
      "\n",
      "    accuracy                           0.84      1454\n",
      "   macro avg       0.82      0.77      0.79      1454\n",
      "weighted avg       0.83      0.84      0.83      1454"
     ]
    }
   ],
   "source": [
    "pred_df = doclogreg_model.transform(testData)\n",
    "\n",
    "preds_df = pred_df.select('category','prediction.result').toPandas()\n",
    "preds_df['result'] = preds_df.result.apply(lambda x : x[0])\n",
    "\n",
    "print (classification_report(preds_df['category'], preds_df['result']))"
   ]
  },
  {
   "cell_type": "code",
   "execution_count": 134,
   "metadata": {
    "execution": {
     "iopub.execute_input": "2023-09-15T09:36:57.121479Z",
     "iopub.status.busy": "2023-09-15T09:36:57.121266Z",
     "iopub.status.idle": "2023-09-15T09:36:57.401175Z",
     "shell.execute_reply": "2023-09-15T09:36:57.400198Z",
     "shell.execute_reply.started": "2023-09-15T09:36:57.121449Z"
    },
    "id": "t6BYspOHAHmu"
   },
   "outputs": [
    {
     "data": {
      "application/vnd.jupyter.widget-view+json": {
       "model_id": "4f604b4acdb8494f8c2f25d4b1a3dcf4",
       "version_major": 2,
       "version_minor": 0
      },
      "text/plain": [
       "VBox()"
      ]
     },
     "metadata": {},
     "output_type": "display_data"
    },
    {
     "data": {
      "application/vnd.jupyter.widget-view+json": {
       "model_id": "",
       "version_major": 2,
       "version_minor": 0
      },
      "text/plain": [
       "FloatProgress(value=0.0, bar_style='info', description='Progress:', layout=Layout(height='25px', width='50%'),…"
      ]
     },
     "metadata": {},
     "output_type": "display_data"
    }
   ],
   "source": [
    "res = classification_report(preds_df[\"category\"], preds_df[\"result\"], output_dict=True)\n",
    "results_df.loc[\"DocumentLogRegClassifier\"] = [res[\"pos\"][\"f1-score\"], res[\"accuracy\"]]"
   ]
  },
  {
   "cell_type": "markdown",
   "metadata": {
    "id": "7w8N3lOUAS9U"
   },
   "source": [
    "## Comparision of All Models' Result in ADE Dataset"
   ]
  },
  {
   "cell_type": "markdown",
   "metadata": {
    "id": "-QSw0-cWBe5y"
   },
   "source": [
    "Here is the all results of classifier models. Only positive ADE f1 scores and accuracy scores are presented."
   ]
  },
  {
   "cell_type": "code",
   "execution_count": 135,
   "metadata": {
    "colab": {
     "base_uri": "https://localhost:8080/",
     "height": 551
    },
    "execution": {
     "iopub.execute_input": "2023-09-15T09:37:01.422765Z",
     "iopub.status.busy": "2023-09-15T09:37:01.422472Z",
     "iopub.status.idle": "2023-09-15T09:37:01.478040Z",
     "shell.execute_reply": "2023-09-15T09:37:01.477365Z",
     "shell.execute_reply.started": "2023-09-15T09:37:01.422731Z"
    },
    "executionInfo": {
     "elapsed": 35,
     "status": "ok",
     "timestamp": 1689672075942,
     "user": {
      "displayName": "Ahmet Mesut BİROL",
      "userId": "04340760882990254267"
     },
     "user_tz": -180
    },
    "id": "axjlz-i5BcZo",
    "outputId": "7351fe22-362c-4104-d425-c26052da6b75"
   },
   "outputs": [
    {
     "data": {
      "application/vnd.jupyter.widget-view+json": {
       "model_id": "7bea2c4f7c21464d8c2e60440bc7ca5f",
       "version_major": 2,
       "version_minor": 0
      },
      "text/plain": [
       "VBox()"
      ]
     },
     "metadata": {},
     "output_type": "display_data"
    },
    {
     "data": {
      "application/vnd.jupyter.widget-view+json": {
       "model_id": "",
       "version_major": 2,
       "version_minor": 0
      },
      "text/plain": [
       "FloatProgress(value=0.0, bar_style='info', description='Progress:', layout=Layout(height='25px', width='50%'),…"
      ]
     },
     "metadata": {},
     "output_type": "display_data"
    },
    {
     "name": "stdout",
     "output_type": "stream",
     "text": [
      "                          pos-f1-score  accuracy\n",
      "ClassifierDL_100d             0.672566  0.821871\n",
      "MultiClassifierDL_100d        0.654971  0.796972\n",
      "GenericClassifier_100d        0.678647  0.790922\n",
      "GenericLogReg_100d            0.443396  0.756534\n",
      "GenericSVM_100d               0.441270  0.757909\n",
      "ClassifierDL_200d             0.720000  0.845942\n",
      "MultiClassifierDL_200d        0.708089  0.828748\n",
      "GenericClassifier_200d        0.721003  0.816369\n",
      "GenericLogReg_200d            0.561863  0.792985\n",
      "GenericSVM_200d               0.594223  0.797111\n",
      "ClassifierDL_bert             0.793651  0.874828\n",
      "MultiClassifierDL_bert        0.770574  0.873453\n",
      "GenericClassifier_bert        0.802174  0.874828\n",
      "GenericLogReg_bert            0.793220  0.874140\n",
      "GenericSVM_bert               0.723577  0.859697\n",
      "DocumentLogRegClassifier      0.682667  0.836314"
     ]
    }
   ],
   "source": [
    "results_df"
   ]
  },
  {
   "cell_type": "markdown",
   "metadata": {
    "id": "IryBN-nlB8fu"
   },
   "source": [
    "# Mtsamples Dataset"
   ]
  },
  {
   "cell_type": "markdown",
   "metadata": {
    "id": "9VTK1AsahOpz"
   },
   "source": [
    "## Load Dataset"
   ]
  },
  {
   "cell_type": "code",
   "execution_count": null,
   "metadata": {
    "id": "CHPqy3NeZMWW"
   },
   "outputs": [],
   "source": [
    "#!wget -q https://raw.githubusercontent.com/JohnSnowLabs/spark-nlp-workshop/master/tutorials/Certification_Trainings/Healthcare/data/mtsamples_classifier.csv"
   ]
  },
  {
   "cell_type": "code",
   "execution_count": 136,
   "metadata": {
    "execution": {
     "iopub.execute_input": "2023-09-15T09:37:55.225325Z",
     "iopub.status.busy": "2023-09-15T09:37:55.225053Z",
     "iopub.status.idle": "2023-09-15T09:37:57.692164Z",
     "shell.execute_reply": "2023-09-15T09:37:57.691157Z",
     "shell.execute_reply.started": "2023-09-15T09:37:55.225293Z"
    }
   },
   "outputs": [
    {
     "name": "stderr",
     "output_type": "stream",
     "text": [
      "SLF4J: Class path contains multiple SLF4J bindings.\n",
      "SLF4J: Found binding in [jar:file:/usr/lib/hadoop/lib/slf4j-log4j12-1.7.25.jar!/org/slf4j/impl/StaticLoggerBinder.class]\n",
      "SLF4J: Found binding in [jar:file:/usr/share/aws/emr/emrfs/lib/slf4j-log4j12-1.7.12.jar!/org/slf4j/impl/StaticLoggerBinder.class]\n",
      "SLF4J: See http://www.slf4j.org/codes.html#multiple_bindings for an explanation.\n",
      "SLF4J: Actual binding is of type [org.slf4j.impl.Log4jLoggerFactory]\n"
     ]
    }
   ],
   "source": [
    "%%sh\n",
    "wget -q -O /tmp/mtsamples_classifier.csv https://raw.githubusercontent.com/JohnSnowLabs/spark-nlp-workshop/master/tutorials/Certification_Trainings/Healthcare/data/mtsamples_classifier.csv\n",
    "hadoop fs -copyFromLocal /tmp/mtsamples_classifier.csv /user/hadoop/mtsamples_classifier.csv\n"
   ]
  },
  {
   "cell_type": "code",
   "execution_count": 137,
   "metadata": {
    "colab": {
     "base_uri": "https://localhost:8080/"
    },
    "execution": {
     "iopub.execute_input": "2023-09-15T09:38:03.344339Z",
     "iopub.status.busy": "2023-09-15T09:38:03.344061Z",
     "iopub.status.idle": "2023-09-15T09:38:04.114347Z",
     "shell.execute_reply": "2023-09-15T09:38:04.113619Z",
     "shell.execute_reply.started": "2023-09-15T09:38:03.344304Z"
    },
    "executionInfo": {
     "elapsed": 918,
     "status": "ok",
     "timestamp": 1689672077264,
     "user": {
      "displayName": "Ahmet Mesut BİROL",
      "userId": "04340760882990254267"
     },
     "user_tz": -180
    },
    "id": "44eb4f5f-9065-4512-aad6-2afc89f74220",
    "outputId": "1631cded-d53c-4e7c-bf8d-60e691bfb8b7"
   },
   "outputs": [
    {
     "data": {
      "application/vnd.jupyter.widget-view+json": {
       "model_id": "58c313a280a44982a42b689956c1b113",
       "version_major": 2,
       "version_minor": 0
      },
      "text/plain": [
       "VBox()"
      ]
     },
     "metadata": {},
     "output_type": "display_data"
    },
    {
     "data": {
      "application/vnd.jupyter.widget-view+json": {
       "model_id": "",
       "version_major": 2,
       "version_minor": 0
      },
      "text/plain": [
       "FloatProgress(value=0.0, bar_style='info', description='Progress:', layout=Layout(height='25px', width='50%'),…"
      ]
     },
     "metadata": {},
     "output_type": "display_data"
    },
    {
     "name": "stdout",
     "output_type": "stream",
     "text": [
      "+----------------+----------------------------------------------------------------------------------------------------+\n",
      "|        category|                                                                                                text|\n",
      "+----------------+----------------------------------------------------------------------------------------------------+\n",
      "|Gastroenterology| PROCEDURES PERFORMED: Colonoscopy. INDICATIONS: Renewed symptoms likely consistent with active f...|\n",
      "|Gastroenterology| OPERATION 1. Ivor-Lewis esophagogastrectomy. 2. Feeding jejunostomy. 3. Placement of two right-s...|\n",
      "|Gastroenterology| PREOPERATIVE DIAGNOSES: 1. Gastroesophageal reflux disease. 2. Chronic dyspepsia. POSTOPERATIVE ...|\n",
      "|Gastroenterology| PROCEDURE: Colonoscopy. PREOPERATIVE DIAGNOSES: Rectal bleeding and perirectal abscess. POSTOPER...|\n",
      "|Gastroenterology| PREOPERATIVE DIAGNOSIS: Right colon tumor. POSTOPERATIVE DIAGNOSES: 1. Right colon cancer. 2. As...|\n",
      "|Gastroenterology| PREOPERATIVE DIAGNOSIS (ES): 1. Cholelithiasis. 2. Cholecystitis. POSTOPERATIVE DIAGNOSIS (ES): ...|\n",
      "|Gastroenterology| The patient was taken to the GI lab and placed in the left lateral supine position. Continuous p...|\n",
      "|Gastroenterology| PREOPERATIVE DIAGNOSIS: Gastrostomy (gastrocutaneous fistula). POSTOPERATIVE DIAGNOSIS: Gastrost...|\n",
      "|Gastroenterology| PREOPERATIVE DIAGNOSIS: Acute acalculous cholecystitis. POSTOPERATIVE DIAGNOSIS: Acute hemorrhag...|\n",
      "|Gastroenterology| HISTORY OF PRESENT ILLNESS: This is a 10-year-old who was found with biliary atresia and underwe...|\n",
      "+----------------+----------------------------------------------------------------------------------------------------+\n",
      "only showing top 10 rows"
     ]
    }
   ],
   "source": [
    "spark_df = spark.read.csv(\"/user/hadoop/mtsamples_classifier.csv\", header = True)\n",
    "\n",
    "spark_df.show(10,truncate=100)"
   ]
  },
  {
   "cell_type": "code",
   "execution_count": 138,
   "metadata": {
    "colab": {
     "base_uri": "https://localhost:8080/"
    },
    "execution": {
     "iopub.execute_input": "2023-09-15T09:38:05.598678Z",
     "iopub.status.busy": "2023-09-15T09:38:05.598398Z",
     "iopub.status.idle": "2023-09-15T09:38:05.676420Z",
     "shell.execute_reply": "2023-09-15T09:38:05.675704Z",
     "shell.execute_reply.started": "2023-09-15T09:38:05.598644Z"
    },
    "executionInfo": {
     "elapsed": 11,
     "status": "ok",
     "timestamp": 1689672077265,
     "user": {
      "displayName": "Ahmet Mesut BİROL",
      "userId": "04340760882990254267"
     },
     "user_tz": -180
    },
    "id": "yApqQhjp_EZx",
    "outputId": "cbd5d0c5-7919-4afd-8eb3-1950094c9a52"
   },
   "outputs": [
    {
     "data": {
      "application/vnd.jupyter.widget-view+json": {
       "model_id": "3dfea3fa811f4b44a4d18def990c7dd2",
       "version_major": 2,
       "version_minor": 0
      },
      "text/plain": [
       "VBox()"
      ]
     },
     "metadata": {},
     "output_type": "display_data"
    },
    {
     "data": {
      "application/vnd.jupyter.widget-view+json": {
       "model_id": "",
       "version_major": 2,
       "version_minor": 0
      },
      "text/plain": [
       "FloatProgress(value=0.0, bar_style='info', description='Progress:', layout=Layout(height='25px', width='50%'),…"
      ]
     },
     "metadata": {},
     "output_type": "display_data"
    },
    {
     "name": "stdout",
     "output_type": "stream",
     "text": [
      "root\n",
      " |-- category: string (nullable = true)\n",
      " |-- text: string (nullable = true)"
     ]
    }
   ],
   "source": [
    "spark_df.printSchema()"
   ]
  },
  {
   "cell_type": "code",
   "execution_count": 139,
   "metadata": {
    "colab": {
     "base_uri": "https://localhost:8080/"
    },
    "execution": {
     "iopub.execute_input": "2023-09-15T09:38:05.877399Z",
     "iopub.status.busy": "2023-09-15T09:38:05.877161Z",
     "iopub.status.idle": "2023-09-15T09:38:06.276056Z",
     "shell.execute_reply": "2023-09-15T09:38:06.275361Z",
     "shell.execute_reply.started": "2023-09-15T09:38:05.877367Z"
    },
    "executionInfo": {
     "elapsed": 443,
     "status": "ok",
     "timestamp": 1689672077704,
     "user": {
      "displayName": "Ahmet Mesut BİROL",
      "userId": "04340760882990254267"
     },
     "user_tz": -180
    },
    "id": "f0886fb5-fd9d-4199-b142-637cad880866",
    "outputId": "ef642c4c-2b26-4e0d-ae99-d24a4e5e868b"
   },
   "outputs": [
    {
     "data": {
      "application/vnd.jupyter.widget-view+json": {
       "model_id": "2b75a5f21e28496d944cefaa4e0faca5",
       "version_major": 2,
       "version_minor": 0
      },
      "text/plain": [
       "VBox()"
      ]
     },
     "metadata": {},
     "output_type": "display_data"
    },
    {
     "data": {
      "application/vnd.jupyter.widget-view+json": {
       "model_id": "",
       "version_major": 2,
       "version_minor": 0
      },
      "text/plain": [
       "FloatProgress(value=0.0, bar_style='info', description='Progress:', layout=Layout(height='25px', width='50%'),…"
      ]
     },
     "metadata": {},
     "output_type": "display_data"
    },
    {
     "name": "stdout",
     "output_type": "stream",
     "text": [
      "638"
     ]
    }
   ],
   "source": [
    "spark_df.count()"
   ]
  },
  {
   "cell_type": "code",
   "execution_count": 140,
   "metadata": {
    "colab": {
     "base_uri": "https://localhost:8080/"
    },
    "execution": {
     "iopub.execute_input": "2023-09-15T09:38:06.277382Z",
     "iopub.status.busy": "2023-09-15T09:38:06.277164Z",
     "iopub.status.idle": "2023-09-15T09:38:06.546461Z",
     "shell.execute_reply": "2023-09-15T09:38:06.545700Z",
     "shell.execute_reply.started": "2023-09-15T09:38:06.277352Z"
    },
    "executionInfo": {
     "elapsed": 7,
     "status": "ok",
     "timestamp": 1689672077705,
     "user": {
      "displayName": "Ahmet Mesut BİROL",
      "userId": "04340760882990254267"
     },
     "user_tz": -180
    },
    "id": "241bd286-350c-421e-92f4-a80164ed2dc1",
    "outputId": "1ca682a3-1722-4a20-941c-c0411f2ec42e"
   },
   "outputs": [
    {
     "data": {
      "application/vnd.jupyter.widget-view+json": {
       "model_id": "18f05cecddfa4f73b3ed8fe3b22e890d",
       "version_major": 2,
       "version_minor": 0
      },
      "text/plain": [
       "VBox()"
      ]
     },
     "metadata": {},
     "output_type": "display_data"
    },
    {
     "data": {
      "application/vnd.jupyter.widget-view+json": {
       "model_id": "",
       "version_major": 2,
       "version_minor": 0
      },
      "text/plain": [
       "FloatProgress(value=0.0, bar_style='info', description='Progress:', layout=Layout(height='25px', width='50%'),…"
      ]
     },
     "metadata": {},
     "output_type": "display_data"
    },
    {
     "name": "stdout",
     "output_type": "stream",
     "text": [
      "+----------------+-----+\n",
      "|        category|count|\n",
      "+----------------+-----+\n",
      "|         Urology|  115|\n",
      "|      Orthopedic|  223|\n",
      "|Gastroenterology|  157|\n",
      "|       Neurology|  143|\n",
      "+----------------+-----+"
     ]
    }
   ],
   "source": [
    "spark_df.groupBy(\"category\").count().show()"
   ]
  },
  {
   "cell_type": "code",
   "execution_count": 141,
   "metadata": {
    "execution": {
     "iopub.execute_input": "2023-09-15T09:38:07.705222Z",
     "iopub.status.busy": "2023-09-15T09:38:07.704955Z",
     "iopub.status.idle": "2023-09-15T09:38:07.761526Z",
     "shell.execute_reply": "2023-09-15T09:38:07.760829Z",
     "shell.execute_reply.started": "2023-09-15T09:38:07.705190Z"
    },
    "id": "db12fe42-90b6-434d-852a-ea86cad9a963"
   },
   "outputs": [
    {
     "data": {
      "application/vnd.jupyter.widget-view+json": {
       "model_id": "52923f3e3c6945c3b194ef1c7988a22d",
       "version_major": 2,
       "version_minor": 0
      },
      "text/plain": [
       "VBox()"
      ]
     },
     "metadata": {},
     "output_type": "display_data"
    },
    {
     "data": {
      "application/vnd.jupyter.widget-view+json": {
       "model_id": "",
       "version_major": 2,
       "version_minor": 0
      },
      "text/plain": [
       "FloatProgress(value=0.0, bar_style='info', description='Progress:', layout=Layout(height='25px', width='50%'),…"
      ]
     },
     "metadata": {},
     "output_type": "display_data"
    }
   ],
   "source": [
    "(trainingData, testData) = spark_df.randomSplit([0.8, 0.2], seed = 42)"
   ]
  },
  {
   "cell_type": "code",
   "execution_count": 142,
   "metadata": {
    "colab": {
     "base_uri": "https://localhost:8080/"
    },
    "execution": {
     "iopub.execute_input": "2023-09-15T09:38:07.934297Z",
     "iopub.status.busy": "2023-09-15T09:38:07.934044Z",
     "iopub.status.idle": "2023-09-15T09:38:08.750211Z",
     "shell.execute_reply": "2023-09-15T09:38:08.743392Z",
     "shell.execute_reply.started": "2023-09-15T09:38:07.934266Z"
    },
    "executionInfo": {
     "elapsed": 313,
     "status": "ok",
     "timestamp": 1689672078370,
     "user": {
      "displayName": "Ahmet Mesut BİROL",
      "userId": "04340760882990254267"
     },
     "user_tz": -180
    },
    "id": "P3iINSk1hc2E",
    "outputId": "203db632-dfa2-43e7-bb7c-ad829f7d5c96"
   },
   "outputs": [
    {
     "data": {
      "application/vnd.jupyter.widget-view+json": {
       "model_id": "a9af6abdbc04475f95f64a8bda0fd458",
       "version_major": 2,
       "version_minor": 0
      },
      "text/plain": [
       "VBox()"
      ]
     },
     "metadata": {},
     "output_type": "display_data"
    },
    {
     "data": {
      "application/vnd.jupyter.widget-view+json": {
       "model_id": "",
       "version_major": 2,
       "version_minor": 0
      },
      "text/plain": [
       "FloatProgress(value=0.0, bar_style='info', description='Progress:', layout=Layout(height='25px', width='50%'),…"
      ]
     },
     "metadata": {},
     "output_type": "display_data"
    },
    {
     "name": "stdout",
     "output_type": "stream",
     "text": [
      "+----------------+-----+\n",
      "|        category|count|\n",
      "+----------------+-----+\n",
      "|         Urology|   95|\n",
      "|      Orthopedic|  188|\n",
      "|Gastroenterology|  132|\n",
      "|       Neurology|  121|\n",
      "+----------------+-----+"
     ]
    }
   ],
   "source": [
    "trainingData.groupBy(\"category\").count().show()"
   ]
  },
  {
   "cell_type": "code",
   "execution_count": 143,
   "metadata": {
    "colab": {
     "base_uri": "https://localhost:8080/"
    },
    "execution": {
     "iopub.execute_input": "2023-09-15T09:38:09.362963Z",
     "iopub.status.busy": "2023-09-15T09:38:09.362724Z",
     "iopub.status.idle": "2023-09-15T09:38:09.646475Z",
     "shell.execute_reply": "2023-09-15T09:38:09.645677Z",
     "shell.execute_reply.started": "2023-09-15T09:38:09.362931Z"
    },
    "executionInfo": {
     "elapsed": 452,
     "status": "ok",
     "timestamp": 1689672078817,
     "user": {
      "displayName": "Ahmet Mesut BİROL",
      "userId": "04340760882990254267"
     },
     "user_tz": -180
    },
    "id": "UofCYygtKNw7",
    "outputId": "63fd1e01-9168-427e-a7ac-53fe787c4ec0"
   },
   "outputs": [
    {
     "data": {
      "application/vnd.jupyter.widget-view+json": {
       "model_id": "055950bed83d418babf4fbcf34b7536f",
       "version_major": 2,
       "version_minor": 0
      },
      "text/plain": [
       "VBox()"
      ]
     },
     "metadata": {},
     "output_type": "display_data"
    },
    {
     "data": {
      "application/vnd.jupyter.widget-view+json": {
       "model_id": "",
       "version_major": 2,
       "version_minor": 0
      },
      "text/plain": [
       "FloatProgress(value=0.0, bar_style='info', description='Progress:', layout=Layout(height='25px', width='50%'),…"
      ]
     },
     "metadata": {},
     "output_type": "display_data"
    },
    {
     "name": "stdout",
     "output_type": "stream",
     "text": [
      "+----------------+-----+\n",
      "|        category|count|\n",
      "+----------------+-----+\n",
      "|         Urology|   20|\n",
      "|      Orthopedic|   35|\n",
      "|Gastroenterology|   25|\n",
      "|       Neurology|   22|\n",
      "+----------------+-----+"
     ]
    }
   ],
   "source": [
    "testData.groupBy(\"category\").count().show()"
   ]
  },
  {
   "cell_type": "markdown",
   "metadata": {
    "id": "F5fxqMw69oZ_"
   },
   "source": [
    "## 100 Dimension Healthcare Embeddings (embeddings_healthcare_100d)\n",
    "\n"
   ]
  },
  {
   "cell_type": "markdown",
   "metadata": {
    "id": "z3E3d1_w9oZ_"
   },
   "source": [
    "We will extract [healthcare_100d embeddings](https://nlp.johnsnowlabs.com/2020/05/29/embeddings_healthcare_100d_en.html) and use it in the classificaiton model training."
   ]
  },
  {
   "cell_type": "code",
   "execution_count": 144,
   "metadata": {
    "colab": {
     "base_uri": "https://localhost:8080/"
    },
    "execution": {
     "iopub.execute_input": "2023-09-15T09:38:12.376849Z",
     "iopub.status.busy": "2023-09-15T09:38:12.376587Z",
     "iopub.status.idle": "2023-09-15T09:38:15.671232Z",
     "shell.execute_reply": "2023-09-15T09:38:15.670500Z",
     "shell.execute_reply.started": "2023-09-15T09:38:12.376817Z"
    },
    "executionInfo": {
     "elapsed": 2873,
     "status": "ok",
     "timestamp": 1689672081681,
     "user": {
      "displayName": "Ahmet Mesut BİROL",
      "userId": "04340760882990254267"
     },
     "user_tz": -180
    },
    "id": "dGwOkIhg9oZ_",
    "outputId": "66203877-bd50-45df-c188-148590ff08c8"
   },
   "outputs": [
    {
     "data": {
      "application/vnd.jupyter.widget-view+json": {
       "model_id": "7542247639d54e42863eb6506c5db19d",
       "version_major": 2,
       "version_minor": 0
      },
      "text/plain": [
       "VBox()"
      ]
     },
     "metadata": {},
     "output_type": "display_data"
    },
    {
     "data": {
      "application/vnd.jupyter.widget-view+json": {
       "model_id": "",
       "version_major": 2,
       "version_minor": 0
      },
      "text/plain": [
       "FloatProgress(value=0.0, bar_style='info', description='Progress:', layout=Layout(height='25px', width='50%'),…"
      ]
     },
     "metadata": {},
     "output_type": "display_data"
    },
    {
     "name": "stdout",
     "output_type": "stream",
     "text": [
      "embeddings_healthcare_100d download started this may take some time.\n",
      "Approximate size to download 475.8 MB\n",
      "[OK!]"
     ]
    }
   ],
   "source": [
    "document_assembler = nlp.DocumentAssembler()\\\n",
    "        .setInputCol(\"text\")\\\n",
    "        .setOutputCol(\"document\")\n",
    "\n",
    "tokenizer = nlp.Tokenizer() \\\n",
    "            .setInputCols([\"document\"]) \\\n",
    "            .setOutputCol(\"token\")\n",
    "\n",
    "word_embeddings = nlp.WordEmbeddingsModel.pretrained(\"embeddings_healthcare_100d\",\"en\",\"clinical/models\")\\\n",
    "        .setInputCols([\"document\",\"token\"])\\\n",
    "        .setOutputCol(\"word_embeddings\")\n",
    "\n",
    "sentence_embeddings = nlp.SentenceEmbeddings() \\\n",
    "        .setInputCols([\"document\", \"word_embeddings\"]) \\\n",
    "        .setOutputCol(\"sentence_embeddings\") \\\n",
    "        .setPoolingStrategy(\"AVERAGE\")\n",
    "\n",
    "embeddings_pipeline = nlp.Pipeline(\n",
    "    stages = [\n",
    "        document_assembler,\n",
    "        tokenizer,\n",
    "        word_embeddings,\n",
    "        sentence_embeddings,\n",
    "\n",
    "    ])"
   ]
  },
  {
   "cell_type": "code",
   "execution_count": 145,
   "metadata": {
    "colab": {
     "base_uri": "https://localhost:8080/"
    },
    "execution": {
     "iopub.execute_input": "2023-09-15T09:38:15.672729Z",
     "iopub.status.busy": "2023-09-15T09:38:15.672505Z",
     "iopub.status.idle": "2023-09-15T09:38:16.439773Z",
     "shell.execute_reply": "2023-09-15T09:38:16.438795Z",
     "shell.execute_reply.started": "2023-09-15T09:38:15.672698Z"
    },
    "executionInfo": {
     "elapsed": 439,
     "status": "ok",
     "timestamp": 1689672082110,
     "user": {
      "displayName": "Ahmet Mesut BİROL",
      "userId": "04340760882990254267"
     },
     "user_tz": -180
    },
    "id": "NtiB6Xgv9oZ_",
    "outputId": "9dc9432b-718e-468a-800e-368a71472c91"
   },
   "outputs": [
    {
     "data": {
      "application/vnd.jupyter.widget-view+json": {
       "model_id": "0d702fd78c654ef196b642968879a051",
       "version_major": 2,
       "version_minor": 0
      },
      "text/plain": [
       "VBox()"
      ]
     },
     "metadata": {},
     "output_type": "display_data"
    },
    {
     "data": {
      "application/vnd.jupyter.widget-view+json": {
       "model_id": "",
       "version_major": 2,
       "version_minor": 0
      },
      "text/plain": [
       "FloatProgress(value=0.0, bar_style='info', description='Progress:', layout=Layout(height='25px', width='50%'),…"
      ]
     },
     "metadata": {},
     "output_type": "display_data"
    },
    {
     "name": "stdout",
     "output_type": "stream",
     "text": [
      "+------------------------------------------------------------+----------------+------------------------------------------------------------+\n",
      "|                                                        text|        category|                                         sentence_embeddings|\n",
      "+------------------------------------------------------------+----------------+------------------------------------------------------------+\n",
      "| ADMISSION DIAGNOSIS: Symptomatic cholelithiasis. DISCHAR...|Gastroenterology|[{sentence_embeddings, 0, 2228,  ADMISSION DIAGNOSIS: Sym...|\n",
      "| ADMITTING DIAGNOSES: Hiatal hernia, gastroesophageal ref...|Gastroenterology|[{sentence_embeddings, 0, 3237,  ADMITTING DIAGNOSES: Hia...|\n",
      "+------------------------------------------------------------+----------------+------------------------------------------------------------+\n",
      "only showing top 2 rows"
     ]
    }
   ],
   "source": [
    "trainingData_with_embeddings = embeddings_pipeline.fit(trainingData).transform(trainingData)\n",
    "trainingData_with_embeddings = trainingData_with_embeddings.select(\"text\",\"category\",\"sentence_embeddings\")\n",
    "trainingData_with_embeddings.show(2,truncate=60)"
   ]
  },
  {
   "cell_type": "code",
   "execution_count": 146,
   "metadata": {
    "colab": {
     "base_uri": "https://localhost:8080/"
    },
    "execution": {
     "iopub.execute_input": "2023-09-15T09:38:16.442268Z",
     "iopub.status.busy": "2023-09-15T09:38:16.441910Z",
     "iopub.status.idle": "2023-09-15T09:38:17.210962Z",
     "shell.execute_reply": "2023-09-15T09:38:17.210017Z",
     "shell.execute_reply.started": "2023-09-15T09:38:16.442217Z"
    },
    "executionInfo": {
     "elapsed": 598,
     "status": "ok",
     "timestamp": 1689672082705,
     "user": {
      "displayName": "Ahmet Mesut BİROL",
      "userId": "04340760882990254267"
     },
     "user_tz": -180
    },
    "id": "_hMuZrio9oaA",
    "outputId": "b83f65ca-f729-4f04-c11f-c4d4e3ee27ad"
   },
   "outputs": [
    {
     "data": {
      "application/vnd.jupyter.widget-view+json": {
       "model_id": "70d657cd3355477e86085f9131ab598d",
       "version_major": 2,
       "version_minor": 0
      },
      "text/plain": [
       "VBox()"
      ]
     },
     "metadata": {},
     "output_type": "display_data"
    },
    {
     "data": {
      "application/vnd.jupyter.widget-view+json": {
       "model_id": "",
       "version_major": 2,
       "version_minor": 0
      },
      "text/plain": [
       "FloatProgress(value=0.0, bar_style='info', description='Progress:', layout=Layout(height='25px', width='50%'),…"
      ]
     },
     "metadata": {},
     "output_type": "display_data"
    },
    {
     "name": "stdout",
     "output_type": "stream",
     "text": [
      "+------------------------------------------------------------+----------------+------------------------------------------------------------+\n",
      "|                                                        text|        category|                                         sentence_embeddings|\n",
      "+------------------------------------------------------------+----------------+------------------------------------------------------------+\n",
      "| ADMITTING DIAGNOSIS: Gastrointestinal bleed. HISTORY OF ...|Gastroenterology|[{sentence_embeddings, 0, 3978,  ADMITTING DIAGNOSIS: Gas...|\n",
      "| CHIEF COMPLAINT: Dysphagia and hematemesis while vomitin...|Gastroenterology|[{sentence_embeddings, 0, 6515,  CHIEF COMPLAINT: Dysphag...|\n",
      "+------------------------------------------------------------+----------------+------------------------------------------------------------+\n",
      "only showing top 2 rows"
     ]
    }
   ],
   "source": [
    "testData_with_embeddings = embeddings_pipeline.fit(testData).transform(testData)\n",
    "testData_with_embeddings = testData_with_embeddings.select(\"text\",\"category\",\"sentence_embeddings\")\n",
    "testData_with_embeddings.show(2,truncate=60)"
   ]
  },
  {
   "cell_type": "code",
   "execution_count": 147,
   "metadata": {
    "colab": {
     "base_uri": "https://localhost:8080/"
    },
    "execution": {
     "iopub.execute_input": "2023-09-15T09:38:17.212954Z",
     "iopub.status.busy": "2023-09-15T09:38:17.212610Z",
     "iopub.status.idle": "2023-09-15T09:38:17.272486Z",
     "shell.execute_reply": "2023-09-15T09:38:17.271520Z",
     "shell.execute_reply.started": "2023-09-15T09:38:17.212905Z"
    },
    "executionInfo": {
     "elapsed": 10,
     "status": "ok",
     "timestamp": 1689672082706,
     "user": {
      "displayName": "Ahmet Mesut BİROL",
      "userId": "04340760882990254267"
     },
     "user_tz": -180
    },
    "id": "ZgqbexSQ9oaA",
    "outputId": "6841e6c6-b4df-4f68-b79b-e7c153bdf937"
   },
   "outputs": [
    {
     "data": {
      "application/vnd.jupyter.widget-view+json": {
       "model_id": "b483676fc4314c8cb3b993c0a90e1091",
       "version_major": 2,
       "version_minor": 0
      },
      "text/plain": [
       "VBox()"
      ]
     },
     "metadata": {},
     "output_type": "display_data"
    },
    {
     "data": {
      "application/vnd.jupyter.widget-view+json": {
       "model_id": "",
       "version_major": 2,
       "version_minor": 0
      },
      "text/plain": [
       "FloatProgress(value=0.0, bar_style='info', description='Progress:', layout=Layout(height='25px', width='50%'),…"
      ]
     },
     "metadata": {},
     "output_type": "display_data"
    },
    {
     "name": "stdout",
     "output_type": "stream",
     "text": [
      "root\n",
      " |-- text: string (nullable = true)\n",
      " |-- category: string (nullable = true)\n",
      " |-- sentence_embeddings: array (nullable = true)\n",
      " |    |-- element: struct (containsNull = true)\n",
      " |    |    |-- annotatorType: string (nullable = true)\n",
      " |    |    |-- begin: integer (nullable = false)\n",
      " |    |    |-- end: integer (nullable = false)\n",
      " |    |    |-- result: string (nullable = true)\n",
      " |    |    |-- metadata: map (nullable = true)\n",
      " |    |    |    |-- key: string\n",
      " |    |    |    |-- value: string (valueContainsNull = true)\n",
      " |    |    |-- embeddings: array (nullable = true)\n",
      " |    |    |    |-- element: float (containsNull = false)"
     ]
    }
   ],
   "source": [
    "testData_with_embeddings.printSchema()"
   ]
  },
  {
   "cell_type": "code",
   "execution_count": 148,
   "metadata": {
    "colab": {
     "base_uri": "https://localhost:8080/"
    },
    "execution": {
     "iopub.execute_input": "2023-09-15T09:38:18.374659Z",
     "iopub.status.busy": "2023-09-15T09:38:18.374397Z",
     "iopub.status.idle": "2023-09-15T09:38:19.144712Z",
     "shell.execute_reply": "2023-09-15T09:38:19.143723Z",
     "shell.execute_reply.started": "2023-09-15T09:38:18.374627Z"
    },
    "executionInfo": {
     "elapsed": 562,
     "status": "ok",
     "timestamp": 1689672083265,
     "user": {
      "displayName": "Ahmet Mesut BİROL",
      "userId": "04340760882990254267"
     },
     "user_tz": -180
    },
    "id": "aX5ka1ok9oaA",
    "outputId": "105d693d-213d-41ff-bd89-66b637300b42"
   },
   "outputs": [
    {
     "data": {
      "application/vnd.jupyter.widget-view+json": {
       "model_id": "fdbb4aecbda74f6a9bbde37d1d24cc38",
       "version_major": 2,
       "version_minor": 0
      },
      "text/plain": [
       "VBox()"
      ]
     },
     "metadata": {},
     "output_type": "display_data"
    },
    {
     "data": {
      "application/vnd.jupyter.widget-view+json": {
       "model_id": "",
       "version_major": 2,
       "version_minor": 0
      },
      "text/plain": [
       "FloatProgress(value=0.0, bar_style='info', description='Progress:', layout=Layout(height='25px', width='50%'),…"
      ]
     },
     "metadata": {},
     "output_type": "display_data"
    },
    {
     "name": "stdout",
     "output_type": "stream",
     "text": [
      "+------------------------------------------------------------------------------------------------------------------------+\n",
      "|                                                                                          sentence_embeddings.embeddings|\n",
      "+------------------------------------------------------------------------------------------------------------------------+\n",
      "|[[-0.010433162, 0.0127568655, 0.110687375, 0.1609855, -0.14818177, -0.050856464, 0.064748034, -0.019294674, -0.002178...|\n",
      "|[[-0.0055608996, 0.018396137, 0.12305377, 0.13861515, -0.18651922, -0.07559964, 0.12978752, -0.0046452526, -0.0031408...|\n",
      "|[[-0.019461514, 0.060639214, 0.11142021, 0.12826534, -0.16216077, -0.10416892, 0.17136306, -0.020363769, 0.01169337, ...|\n",
      "+------------------------------------------------------------------------------------------------------------------------+\n",
      "only showing top 3 rows"
     ]
    }
   ],
   "source": [
    "testData_with_embeddings.select(testData_with_embeddings.sentence_embeddings.embeddings).show(3,truncate=120)"
   ]
  },
  {
   "cell_type": "code",
   "execution_count": 149,
   "metadata": {
    "execution": {
     "iopub.execute_input": "2023-09-15T09:39:59.577523Z",
     "iopub.status.busy": "2023-09-15T09:39:59.577238Z",
     "iopub.status.idle": "2023-09-15T09:39:59.640145Z",
     "shell.execute_reply": "2023-09-15T09:39:59.639388Z",
     "shell.execute_reply.started": "2023-09-15T09:39:59.577489Z"
    }
   },
   "outputs": [
    {
     "data": {
      "application/vnd.jupyter.widget-view+json": {
       "model_id": "c1460b99d3bd44938c6f116ecb24781f",
       "version_major": 2,
       "version_minor": 0
      },
      "text/plain": [
       "VBox()"
      ]
     },
     "metadata": {},
     "output_type": "display_data"
    },
    {
     "data": {
      "application/vnd.jupyter.widget-view+json": {
       "model_id": "",
       "version_major": 2,
       "version_minor": 0
      },
      "text/plain": [
       "FloatProgress(value=0.0, bar_style='info', description='Progress:', layout=Layout(height='25px', width='50%'),…"
      ]
     },
     "metadata": {},
     "output_type": "display_data"
    }
   ],
   "source": [
    "log_folder=\"/tmp/Mt_logs_healthcare_100d\"\n"
   ]
  },
  {
   "cell_type": "code",
   "execution_count": 150,
   "metadata": {
    "execution": {
     "iopub.execute_input": "2023-09-15T09:40:02.912699Z",
     "iopub.status.busy": "2023-09-15T09:40:02.912414Z",
     "iopub.status.idle": "2023-09-15T09:40:04.966327Z",
     "shell.execute_reply": "2023-09-15T09:40:04.965553Z",
     "shell.execute_reply.started": "2023-09-15T09:40:02.912665Z"
    },
    "id": "V99u_ru-9oaA"
   },
   "outputs": [
    {
     "name": "stderr",
     "output_type": "stream",
     "text": [
      "SLF4J: Class path contains multiple SLF4J bindings.\n",
      "SLF4J: Found binding in [jar:file:/usr/lib/hadoop/lib/slf4j-log4j12-1.7.25.jar!/org/slf4j/impl/StaticLoggerBinder.class]\n",
      "SLF4J: Found binding in [jar:file:/usr/share/aws/emr/emrfs/lib/slf4j-log4j12-1.7.12.jar!/org/slf4j/impl/StaticLoggerBinder.class]\n",
      "SLF4J: See http://www.slf4j.org/codes.html#multiple_bindings for an explanation.\n",
      "SLF4J: Actual binding is of type [org.slf4j.impl.Log4jLoggerFactory]\n"
     ]
    }
   ],
   "source": [
    "%%sh\n",
    "hadoop fs -mkdir /tmp/Mt_logs_healthcare_100d"
   ]
  },
  {
   "cell_type": "markdown",
   "metadata": {
    "id": "7HUPl4fh9oaA"
   },
   "source": [
    "### ClassifierDL"
   ]
  },
  {
   "cell_type": "code",
   "execution_count": 151,
   "metadata": {
    "execution": {
     "iopub.execute_input": "2023-09-15T09:40:05.442603Z",
     "iopub.status.busy": "2023-09-15T09:40:05.442311Z",
     "iopub.status.idle": "2023-09-15T09:40:05.501166Z",
     "shell.execute_reply": "2023-09-15T09:40:05.500469Z",
     "shell.execute_reply.started": "2023-09-15T09:40:05.442566Z"
    },
    "id": "Dzhptr2o9oaA"
   },
   "outputs": [
    {
     "data": {
      "application/vnd.jupyter.widget-view+json": {
       "model_id": "8be3dc33b6214f4889645b2a9337340a",
       "version_major": 2,
       "version_minor": 0
      },
      "text/plain": [
       "VBox()"
      ]
     },
     "metadata": {},
     "output_type": "display_data"
    },
    {
     "data": {
      "application/vnd.jupyter.widget-view+json": {
       "model_id": "",
       "version_major": 2,
       "version_minor": 0
      },
      "text/plain": [
       "FloatProgress(value=0.0, bar_style='info', description='Progress:', layout=Layout(height='25px', width='50%'),…"
      ]
     },
     "metadata": {},
     "output_type": "display_data"
    }
   ],
   "source": [
    "classifier_dl = nlp.ClassifierDLApproach()\\\n",
    "        .setInputCols([\"sentence_embeddings\"])\\\n",
    "        .setOutputCol(\"prediction\")\\\n",
    "        .setLabelColumn(\"category\")\\\n",
    "        .setBatchSize(8)\\\n",
    "        .setMaxEpochs(50)\\\n",
    "        .setLr(0.005)\\\n",
    "        .setDropout(0.3)\\\n",
    "        .setEnableOutputLogs(True)\\\n",
    "        .setOutputLogsPath(log_folder)\\\n",
    "        # .setValidationSplit(0.1)\n",
    "\n",
    "classifier_dl_pipeline = nlp.Pipeline(stages=[classifier_dl])"
   ]
  },
  {
   "cell_type": "code",
   "execution_count": 152,
   "metadata": {
    "execution": {
     "iopub.execute_input": "2023-09-15T09:40:06.975976Z",
     "iopub.status.busy": "2023-09-15T09:40:06.975697Z",
     "iopub.status.idle": "2023-09-15T09:40:50.384473Z",
     "shell.execute_reply": "2023-09-15T09:40:50.383735Z",
     "shell.execute_reply.started": "2023-09-15T09:40:06.975942Z"
    },
    "id": "GP8eSc7Q9oaB"
   },
   "outputs": [
    {
     "data": {
      "application/vnd.jupyter.widget-view+json": {
       "model_id": "7772a1e0b3fc47ceae51efdfc984ba99",
       "version_major": 2,
       "version_minor": 0
      },
      "text/plain": [
       "VBox()"
      ]
     },
     "metadata": {},
     "output_type": "display_data"
    },
    {
     "data": {
      "application/vnd.jupyter.widget-view+json": {
       "model_id": "",
       "version_major": 2,
       "version_minor": 0
      },
      "text/plain": [
       "FloatProgress(value=0.0, bar_style='info', description='Progress:', layout=Layout(height='25px', width='50%'),…"
      ]
     },
     "metadata": {},
     "output_type": "display_data"
    }
   ],
   "source": [
    "clfDL_model_hc100 = classifier_dl_pipeline.fit(trainingData_with_embeddings)"
   ]
  },
  {
   "cell_type": "code",
   "execution_count": 153,
   "metadata": {
    "execution": {
     "iopub.execute_input": "2023-09-15T09:40:50.385944Z",
     "iopub.status.busy": "2023-09-15T09:40:50.385721Z",
     "iopub.status.idle": "2023-09-15T09:40:50.645220Z",
     "shell.execute_reply": "2023-09-15T09:40:50.644476Z",
     "shell.execute_reply.started": "2023-09-15T09:40:50.385914Z"
    },
    "id": "3CKuuqYb9oaB"
   },
   "outputs": [
    {
     "data": {
      "application/vnd.jupyter.widget-view+json": {
       "model_id": "90ab454540164e36b757c56d983db0ee",
       "version_major": 2,
       "version_minor": 0
      },
      "text/plain": [
       "VBox()"
      ]
     },
     "metadata": {},
     "output_type": "display_data"
    },
    {
     "data": {
      "application/vnd.jupyter.widget-view+json": {
       "model_id": "",
       "version_major": 2,
       "version_minor": 0
      },
      "text/plain": [
       "FloatProgress(value=0.0, bar_style='info', description='Progress:', layout=Layout(height='25px', width='50%'),…"
      ]
     },
     "metadata": {},
     "output_type": "display_data"
    }
   ],
   "source": [
    "preds = clfDL_model_hc100.transform(testData_with_embeddings)"
   ]
  },
  {
   "cell_type": "code",
   "execution_count": 154,
   "metadata": {
    "colab": {
     "base_uri": "https://localhost:8080/"
    },
    "execution": {
     "iopub.execute_input": "2023-09-15T09:40:50.647035Z",
     "iopub.status.busy": "2023-09-15T09:40:50.646817Z",
     "iopub.status.idle": "2023-09-15T09:40:55.936863Z",
     "shell.execute_reply": "2023-09-15T09:40:55.936146Z",
     "shell.execute_reply.started": "2023-09-15T09:40:50.647004Z"
    },
    "executionInfo": {
     "elapsed": 4794,
     "status": "ok",
     "timestamp": 1689672120772,
     "user": {
      "displayName": "Ahmet Mesut BİROL",
      "userId": "04340760882990254267"
     },
     "user_tz": -180
    },
    "id": "uGFN40ju9oaB",
    "outputId": "ecde8c0e-aabf-495a-e96c-b08b2a4f31d8"
   },
   "outputs": [
    {
     "data": {
      "application/vnd.jupyter.widget-view+json": {
       "model_id": "41de84f941cf46adb34f25235bbbf0dc",
       "version_major": 2,
       "version_minor": 0
      },
      "text/plain": [
       "VBox()"
      ]
     },
     "metadata": {},
     "output_type": "display_data"
    },
    {
     "data": {
      "application/vnd.jupyter.widget-view+json": {
       "model_id": "",
       "version_major": 2,
       "version_minor": 0
      },
      "text/plain": [
       "FloatProgress(value=0.0, bar_style='info', description='Progress:', layout=Layout(height='25px', width='50%'),…"
      ]
     },
     "metadata": {},
     "output_type": "display_data"
    },
    {
     "name": "stdout",
     "output_type": "stream",
     "text": [
      "                  precision    recall  f1-score   support\n",
      "\n",
      "Gastroenterology       0.79      0.76      0.78        25\n",
      "       Neurology       0.80      0.73      0.76        22\n",
      "      Orthopedic       0.89      0.94      0.92        35\n",
      "         Urology       0.62      0.65      0.63        20\n",
      "\n",
      "        accuracy                           0.79       102\n",
      "       macro avg       0.78      0.77      0.77       102\n",
      "    weighted avg       0.79      0.79      0.79       102"
     ]
    }
   ],
   "source": [
    "preds_df = preds.select(\"category\",\"text\",\"prediction.result\").toPandas()\n",
    "preds_df[\"result\"] = preds_df[\"result\"].apply(lambda x : x[0])\n",
    "\n",
    "print (classification_report(preds_df[\"category\"], preds_df[\"result\"]))"
   ]
  },
  {
   "cell_type": "code",
   "execution_count": 155,
   "metadata": {
    "colab": {
     "base_uri": "https://localhost:8080/",
     "height": 81
    },
    "execution": {
     "iopub.execute_input": "2023-09-15T09:40:55.938294Z",
     "iopub.status.busy": "2023-09-15T09:40:55.938083Z",
     "iopub.status.idle": "2023-09-15T09:40:56.197073Z",
     "shell.execute_reply": "2023-09-15T09:40:56.196376Z",
     "shell.execute_reply.started": "2023-09-15T09:40:55.938265Z"
    },
    "executionInfo": {
     "elapsed": 41,
     "status": "ok",
     "timestamp": 1689672120774,
     "user": {
      "displayName": "Ahmet Mesut BİROL",
      "userId": "04340760882990254267"
     },
     "user_tz": -180
    },
    "id": "8xClfL0wD2l1",
    "outputId": "f159a8d3-f3e2-4732-c70c-d9eaea66a667"
   },
   "outputs": [
    {
     "data": {
      "application/vnd.jupyter.widget-view+json": {
       "model_id": "b9784b74fce847098583161189daa54f",
       "version_major": 2,
       "version_minor": 0
      },
      "text/plain": [
       "VBox()"
      ]
     },
     "metadata": {},
     "output_type": "display_data"
    },
    {
     "data": {
      "application/vnd.jupyter.widget-view+json": {
       "model_id": "",
       "version_major": 2,
       "version_minor": 0
      },
      "text/plain": [
       "FloatProgress(value=0.0, bar_style='info', description='Progress:', layout=Layout(height='25px', width='50%'),…"
      ]
     },
     "metadata": {},
     "output_type": "display_data"
    },
    {
     "name": "stdout",
     "output_type": "stream",
     "text": [
      "                   macro-f1-score  weighted-f1-score  accuracy\n",
      "ClassifierDL_100d        0.772057           0.793293  0.794118"
     ]
    }
   ],
   "source": [
    "res = classification_report(preds_df[\"category\"], preds_df[\"result\"], output_dict=True)\n",
    "results_df = pd.DataFrame(columns=[\"macro-f1-score\",\"weighted-f1-score\",\"accuracy\"])\n",
    "results_df.loc[\"ClassifierDL_100d\"] = [res[\"macro avg\"][\"f1-score\"], res[\"weighted avg\"][\"f1-score\"], res[\"accuracy\"]]\n",
    "results_df"
   ]
  },
  {
   "cell_type": "markdown",
   "metadata": {
    "id": "zaaRNh3W9oaB"
   },
   "source": [
    "### MultiClassifierDL"
   ]
  },
  {
   "cell_type": "code",
   "execution_count": 156,
   "metadata": {
    "execution": {
     "iopub.execute_input": "2023-09-15T09:40:56.198261Z",
     "iopub.status.busy": "2023-09-15T09:40:56.198048Z",
     "iopub.status.idle": "2023-09-15T09:40:56.257601Z",
     "shell.execute_reply": "2023-09-15T09:40:56.256664Z",
     "shell.execute_reply.started": "2023-09-15T09:40:56.198231Z"
    },
    "id": "FnURVIYR9oaB"
   },
   "outputs": [
    {
     "data": {
      "application/vnd.jupyter.widget-view+json": {
       "model_id": "4a4872e2585041a3a12dd7edd1c0bd1c",
       "version_major": 2,
       "version_minor": 0
      },
      "text/plain": [
       "VBox()"
      ]
     },
     "metadata": {},
     "output_type": "display_data"
    },
    {
     "data": {
      "application/vnd.jupyter.widget-view+json": {
       "model_id": "",
       "version_major": 2,
       "version_minor": 0
      },
      "text/plain": [
       "FloatProgress(value=0.0, bar_style='info', description='Progress:', layout=Layout(height='25px', width='50%'),…"
      ]
     },
     "metadata": {},
     "output_type": "display_data"
    }
   ],
   "source": [
    "# MultiClassifierDL accepts list of strings as input label. So we convert label column to array type.\n",
    "trainingData_with_embeddings = trainingData_with_embeddings.withColumn(\"category_array\", F.array(F.col(\"category\")))\n",
    "testData_with_embeddings = testData_with_embeddings.withColumn(\"category_array\", F.array(F.col(\"category\")))"
   ]
  },
  {
   "cell_type": "code",
   "execution_count": 157,
   "metadata": {
    "execution": {
     "iopub.execute_input": "2023-09-15T09:40:56.258946Z",
     "iopub.status.busy": "2023-09-15T09:40:56.258717Z",
     "iopub.status.idle": "2023-09-15T09:40:56.315992Z",
     "shell.execute_reply": "2023-09-15T09:40:56.315209Z",
     "shell.execute_reply.started": "2023-09-15T09:40:56.258915Z"
    },
    "id": "BHBThSDF9oaB",
    "tags": []
   },
   "outputs": [
    {
     "data": {
      "application/vnd.jupyter.widget-view+json": {
       "model_id": "68965164a1ff43788261b9353a3cee4d",
       "version_major": 2,
       "version_minor": 0
      },
      "text/plain": [
       "VBox()"
      ]
     },
     "metadata": {},
     "output_type": "display_data"
    },
    {
     "data": {
      "application/vnd.jupyter.widget-view+json": {
       "model_id": "",
       "version_major": 2,
       "version_minor": 0
      },
      "text/plain": [
       "FloatProgress(value=0.0, bar_style='info', description='Progress:', layout=Layout(height='25px', width='50%'),…"
      ]
     },
     "metadata": {},
     "output_type": "display_data"
    }
   ],
   "source": [
    "multiClassifier =nlp.MultiClassifierDLApproach()\\\n",
    "  .setInputCols(\"sentence_embeddings\")\\\n",
    "  .setOutputCol(\"prediction\")\\\n",
    "  .setLabelColumn(\"category_array\")\\\n",
    "  .setBatchSize(8)\\\n",
    "  .setMaxEpochs(40)\\\n",
    "  .setLr(5e-3)\\\n",
    "  .setThreshold(0.5)\\\n",
    "  .setShufflePerEpoch(False)\\\n",
    "  .setEnableOutputLogs(True)\\\n",
    "  .setOutputLogsPath(log_folder)\\\n",
    "#   .setValidationSplit(0.1)\n",
    "\n",
    "multiClassifier_pipeline = nlp.Pipeline(\n",
    "    stages = [\n",
    "        multiClassifier\n",
    "    ])"
   ]
  },
  {
   "cell_type": "code",
   "execution_count": 158,
   "metadata": {
    "execution": {
     "iopub.execute_input": "2023-09-15T09:40:56.317180Z",
     "iopub.status.busy": "2023-09-15T09:40:56.316955Z",
     "iopub.status.idle": "2023-09-15T09:42:28.633089Z",
     "shell.execute_reply": "2023-09-15T09:42:28.632354Z",
     "shell.execute_reply.started": "2023-09-15T09:40:56.317148Z"
    },
    "id": "Ls8aG1NS9oaB"
   },
   "outputs": [
    {
     "data": {
      "application/vnd.jupyter.widget-view+json": {
       "model_id": "eaa8daecc33c4373a332fccb697be977",
       "version_major": 2,
       "version_minor": 0
      },
      "text/plain": [
       "VBox()"
      ]
     },
     "metadata": {},
     "output_type": "display_data"
    },
    {
     "data": {
      "application/vnd.jupyter.widget-view+json": {
       "model_id": "",
       "version_major": 2,
       "version_minor": 0
      },
      "text/plain": [
       "FloatProgress(value=0.0, bar_style='info', description='Progress:', layout=Layout(height='25px', width='50%'),…"
      ]
     },
     "metadata": {},
     "output_type": "display_data"
    }
   ],
   "source": [
    "multiClassifier_model_hc100 = multiClassifier_pipeline.fit(trainingData_with_embeddings)"
   ]
  },
  {
   "cell_type": "code",
   "execution_count": 159,
   "metadata": {
    "execution": {
     "iopub.execute_input": "2023-09-15T09:42:28.635258Z",
     "iopub.status.busy": "2023-09-15T09:42:28.635037Z",
     "iopub.status.idle": "2023-09-15T09:42:28.894680Z",
     "shell.execute_reply": "2023-09-15T09:42:28.893973Z",
     "shell.execute_reply.started": "2023-09-15T09:42:28.635227Z"
    },
    "id": "zbwCsFnA9oaC"
   },
   "outputs": [
    {
     "data": {
      "application/vnd.jupyter.widget-view+json": {
       "model_id": "dbc7d26a4a3046d086fbd2d75cde90d2",
       "version_major": 2,
       "version_minor": 0
      },
      "text/plain": [
       "VBox()"
      ]
     },
     "metadata": {},
     "output_type": "display_data"
    },
    {
     "data": {
      "application/vnd.jupyter.widget-view+json": {
       "model_id": "",
       "version_major": 2,
       "version_minor": 0
      },
      "text/plain": [
       "FloatProgress(value=0.0, bar_style='info', description='Progress:', layout=Layout(height='25px', width='50%'),…"
      ]
     },
     "metadata": {},
     "output_type": "display_data"
    }
   ],
   "source": [
    "preds = multiClassifier_model_hc100.transform(testData_with_embeddings)"
   ]
  },
  {
   "cell_type": "code",
   "execution_count": 160,
   "metadata": {
    "colab": {
     "base_uri": "https://localhost:8080/"
    },
    "execution": {
     "iopub.execute_input": "2023-09-15T09:42:28.896500Z",
     "iopub.status.busy": "2023-09-15T09:42:28.896276Z",
     "iopub.status.idle": "2023-09-15T09:42:48.220618Z",
     "shell.execute_reply": "2023-09-15T09:42:48.219859Z",
     "shell.execute_reply.started": "2023-09-15T09:42:28.896467Z"
    },
    "executionInfo": {
     "elapsed": 19473,
     "status": "ok",
     "timestamp": 1689672216643,
     "user": {
      "displayName": "Ahmet Mesut BİROL",
      "userId": "04340760882990254267"
     },
     "user_tz": -180
    },
    "id": "l5ZNDAi69oaC",
    "outputId": "676e59b6-5182-492d-f687-a8b8e30903b3"
   },
   "outputs": [
    {
     "data": {
      "application/vnd.jupyter.widget-view+json": {
       "model_id": "d16c726014ca4af98099b0fe262ef099",
       "version_major": 2,
       "version_minor": 0
      },
      "text/plain": [
       "VBox()"
      ]
     },
     "metadata": {},
     "output_type": "display_data"
    },
    {
     "data": {
      "application/vnd.jupyter.widget-view+json": {
       "model_id": "",
       "version_major": 2,
       "version_minor": 0
      },
      "text/plain": [
       "FloatProgress(value=0.0, bar_style='info', description='Progress:', layout=Layout(height='25px', width='50%'),…"
      ]
     },
     "metadata": {},
     "output_type": "display_data"
    },
    {
     "name": "stdout",
     "output_type": "stream",
     "text": [
      "['Orthopedic']                        35\n",
      "['Urology']                           21\n",
      "['Gastroenterology']                  20\n",
      "['Neurology']                         17\n",
      "[]                                     4\n",
      "['Orthopedic', 'Neurology']            4\n",
      "['Orthopedic', 'Gastroenterology']     1\n",
      "Name: result, dtype: int64"
     ]
    }
   ],
   "source": [
    "preds_df = preds.select(\"category\",\"text\",\"prediction.result\",\"prediction.metadata\").toPandas()\n",
    "preds_df.result.apply(lambda x: str(x) ).value_counts()"
   ]
  },
  {
   "cell_type": "code",
   "execution_count": 161,
   "metadata": {
    "colab": {
     "base_uri": "https://localhost:8080/"
    },
    "execution": {
     "iopub.execute_input": "2023-09-15T09:42:48.221865Z",
     "iopub.status.busy": "2023-09-15T09:42:48.221639Z",
     "iopub.status.idle": "2023-09-15T09:42:48.275631Z",
     "shell.execute_reply": "2023-09-15T09:42:48.274858Z",
     "shell.execute_reply.started": "2023-09-15T09:42:48.221834Z"
    },
    "executionInfo": {
     "elapsed": 46,
     "status": "ok",
     "timestamp": 1689672216643,
     "user": {
      "displayName": "Ahmet Mesut BİROL",
      "userId": "04340760882990254267"
     },
     "user_tz": -180
    },
    "id": "jCaUwm8k9oaD",
    "outputId": "2f4032b0-b9ca-4b3c-e9d9-003153538bb6"
   },
   "outputs": [
    {
     "data": {
      "application/vnd.jupyter.widget-view+json": {
       "model_id": "d53a286cccaa4ad6ba0e2d6e3a20662e",
       "version_major": 2,
       "version_minor": 0
      },
      "text/plain": [
       "VBox()"
      ]
     },
     "metadata": {},
     "output_type": "display_data"
    },
    {
     "data": {
      "application/vnd.jupyter.widget-view+json": {
       "model_id": "",
       "version_major": 2,
       "version_minor": 0
      },
      "text/plain": [
       "FloatProgress(value=0.0, bar_style='info', description='Progress:', layout=Layout(height='25px', width='50%'),…"
      ]
     },
     "metadata": {},
     "output_type": "display_data"
    },
    {
     "name": "stdout",
     "output_type": "stream",
     "text": [
      "Orthopedic          36\n",
      "Gastroenterology    21\n",
      "Urology             21\n",
      "Neurology           20\n",
      "Name: result, dtype: int64"
     ]
    }
   ],
   "source": [
    "# We will get the highest score label as result. You can control the number of zero label results with setThreshold() in the training.\n",
    "preds_df[\"scores\"] = preds_df.metadata.apply(lambda x: {k:float(v) for k,v in x[0].items()} if len(x)>=1 else \"\")\n",
    "preds_df[\"result\"] = preds_df.scores.apply(lambda x: max(x, key=x.get) if len(x)>=1 else \"\")\n",
    "preds_df = preds_df[(preds_df[\"result\"]!=\"\")]\n",
    "preds_df[\"result\"].value_counts()"
   ]
  },
  {
   "cell_type": "code",
   "execution_count": 162,
   "metadata": {
    "colab": {
     "base_uri": "https://localhost:8080/"
    },
    "execution": {
     "iopub.execute_input": "2023-09-15T09:42:48.276821Z",
     "iopub.status.busy": "2023-09-15T09:42:48.276589Z",
     "iopub.status.idle": "2023-09-15T09:42:48.331693Z",
     "shell.execute_reply": "2023-09-15T09:42:48.330983Z",
     "shell.execute_reply.started": "2023-09-15T09:42:48.276792Z"
    },
    "executionInfo": {
     "elapsed": 26,
     "status": "ok",
     "timestamp": 1689672216644,
     "user": {
      "displayName": "Ahmet Mesut BİROL",
      "userId": "04340760882990254267"
     },
     "user_tz": -180
    },
    "id": "7UoCi9IN9oaD",
    "outputId": "0637c7cd-d836-4ce8-f1f2-4b86a36eed56"
   },
   "outputs": [
    {
     "data": {
      "application/vnd.jupyter.widget-view+json": {
       "model_id": "be230c7dab02431d92adac85106670d2",
       "version_major": 2,
       "version_minor": 0
      },
      "text/plain": [
       "VBox()"
      ]
     },
     "metadata": {},
     "output_type": "display_data"
    },
    {
     "data": {
      "application/vnd.jupyter.widget-view+json": {
       "model_id": "",
       "version_major": 2,
       "version_minor": 0
      },
      "text/plain": [
       "FloatProgress(value=0.0, bar_style='info', description='Progress:', layout=Layout(height='25px', width='50%'),…"
      ]
     },
     "metadata": {},
     "output_type": "display_data"
    },
    {
     "name": "stdout",
     "output_type": "stream",
     "text": [
      "                  precision    recall  f1-score   support\n",
      "\n",
      "Gastroenterology       0.95      0.87      0.91        23\n",
      "       Neurology       0.80      0.76      0.78        21\n",
      "      Orthopedic       0.89      0.91      0.90        35\n",
      "         Urology       0.90      1.00      0.95        19\n",
      "\n",
      "        accuracy                           0.89        98\n",
      "       macro avg       0.89      0.89      0.89        98\n",
      "    weighted avg       0.89      0.89      0.89        98"
     ]
    }
   ],
   "source": [
    "print (classification_report(preds_df[\"category\"], preds_df[\"result\"]))"
   ]
  },
  {
   "cell_type": "code",
   "execution_count": 163,
   "metadata": {
    "execution": {
     "iopub.execute_input": "2023-09-15T09:42:48.332809Z",
     "iopub.status.busy": "2023-09-15T09:42:48.332602Z",
     "iopub.status.idle": "2023-09-15T09:42:48.388139Z",
     "shell.execute_reply": "2023-09-15T09:42:48.387476Z",
     "shell.execute_reply.started": "2023-09-15T09:42:48.332779Z"
    },
    "id": "7W3OTbEAE8_E"
   },
   "outputs": [
    {
     "data": {
      "application/vnd.jupyter.widget-view+json": {
       "model_id": "229f8d5f406a4cdc81c81195e08b13de",
       "version_major": 2,
       "version_minor": 0
      },
      "text/plain": [
       "VBox()"
      ]
     },
     "metadata": {},
     "output_type": "display_data"
    },
    {
     "data": {
      "application/vnd.jupyter.widget-view+json": {
       "model_id": "",
       "version_major": 2,
       "version_minor": 0
      },
      "text/plain": [
       "FloatProgress(value=0.0, bar_style='info', description='Progress:', layout=Layout(height='25px', width='50%'),…"
      ]
     },
     "metadata": {},
     "output_type": "display_data"
    }
   ],
   "source": [
    "res = classification_report(preds_df[\"category\"], preds_df[\"result\"], output_dict=True)\n",
    "results_df.loc[\"MultiClassifierDL_100d\"] = [res[\"macro avg\"][\"f1-score\"], res[\"weighted avg\"][\"f1-score\"], res[\"accuracy\"]]"
   ]
  },
  {
   "cell_type": "markdown",
   "metadata": {
    "id": "xIjin3kR9oaD"
   },
   "source": [
    "### Generic Classifier"
   ]
  },
  {
   "cell_type": "code",
   "execution_count": 164,
   "metadata": {
    "execution": {
     "iopub.execute_input": "2023-09-15T09:42:48.389253Z",
     "iopub.status.busy": "2023-09-15T09:42:48.389045Z",
     "iopub.status.idle": "2023-09-15T09:42:48.443027Z",
     "shell.execute_reply": "2023-09-15T09:42:48.442367Z",
     "shell.execute_reply.started": "2023-09-15T09:42:48.389224Z"
    },
    "id": "Wwy2d7889oaD"
   },
   "outputs": [
    {
     "data": {
      "application/vnd.jupyter.widget-view+json": {
       "model_id": "767db2e6358b41488e0f362d9124cf53",
       "version_major": 2,
       "version_minor": 0
      },
      "text/plain": [
       "VBox()"
      ]
     },
     "metadata": {},
     "output_type": "display_data"
    },
    {
     "data": {
      "application/vnd.jupyter.widget-view+json": {
       "model_id": "",
       "version_major": 2,
       "version_minor": 0
      },
      "text/plain": [
       "FloatProgress(value=0.0, bar_style='info', description='Progress:', layout=Layout(height='25px', width='50%'),…"
      ]
     },
     "metadata": {},
     "output_type": "display_data"
    }
   ],
   "source": [
    "# !pip install -q tensorflow==2.7.0 tensorflow_addons"
   ]
  },
  {
   "cell_type": "code",
   "execution_count": 165,
   "metadata": {
    "execution": {
     "iopub.execute_input": "2023-09-15T09:42:48.444193Z",
     "iopub.status.busy": "2023-09-15T09:42:48.443975Z",
     "iopub.status.idle": "2023-09-15T09:42:48.498139Z",
     "shell.execute_reply": "2023-09-15T09:42:48.497463Z",
     "shell.execute_reply.started": "2023-09-15T09:42:48.444163Z"
    },
    "id": "kbBy9Fei9oaD"
   },
   "outputs": [
    {
     "data": {
      "application/vnd.jupyter.widget-view+json": {
       "model_id": "1e1f354432814f659eabdf2cd087bead",
       "version_major": 2,
       "version_minor": 0
      },
      "text/plain": [
       "VBox()"
      ]
     },
     "metadata": {},
     "output_type": "display_data"
    },
    {
     "data": {
      "application/vnd.jupyter.widget-view+json": {
       "model_id": "",
       "version_major": 2,
       "version_minor": 0
      },
      "text/plain": [
       "FloatProgress(value=0.0, bar_style='info', description='Progress:', layout=Layout(height='25px', width='50%'),…"
      ]
     },
     "metadata": {},
     "output_type": "display_data"
    }
   ],
   "source": [
    "from sparknlp_jsl.annotator import TFGraphBuilder\n",
    "\n",
    "graph_folder = \"/tmp/gc_graph\"\n",
    "\n",
    "gc_graph_builder =medical.TFGraphBuilder()\\\n",
    "    .setModelName(\"generic_classifier\")\\\n",
    "    .setInputCols([\"features\"])\\\n",
    "    .setLabelColumn(\"category\")\\\n",
    "    .setHiddenLayers([300,200, 50])\\\n",
    "    .setHiddenAct(\"tanh\")\\\n",
    "    .setHiddenActL2(True)\\\n",
    "    .setBatchNorm(True)\\\n",
    "    .setGraphFolder(graph_folder)\\\n",
    "    .setGraphFile(\"gcf_graph_100d.pb\")"
   ]
  },
  {
   "cell_type": "code",
   "execution_count": 166,
   "metadata": {
    "execution": {
     "iopub.execute_input": "2023-09-15T09:42:48.499226Z",
     "iopub.status.busy": "2023-09-15T09:42:48.499011Z",
     "iopub.status.idle": "2023-09-15T09:42:48.581500Z",
     "shell.execute_reply": "2023-09-15T09:42:48.580808Z",
     "shell.execute_reply.started": "2023-09-15T09:42:48.499196Z"
    },
    "id": "k_4aonYQ9oaD"
   },
   "outputs": [
    {
     "data": {
      "application/vnd.jupyter.widget-view+json": {
       "model_id": "2ad58754940c464183d67f3d414565b9",
       "version_major": 2,
       "version_minor": 0
      },
      "text/plain": [
       "VBox()"
      ]
     },
     "metadata": {},
     "output_type": "display_data"
    },
    {
     "data": {
      "application/vnd.jupyter.widget-view+json": {
       "model_id": "",
       "version_major": 2,
       "version_minor": 0
      },
      "text/plain": [
       "FloatProgress(value=0.0, bar_style='info', description='Progress:', layout=Layout(height='25px', width='50%'),…"
      ]
     },
     "metadata": {},
     "output_type": "display_data"
    }
   ],
   "source": [
    "features_asm =medical.FeaturesAssembler()\\\n",
    "    .setInputCols([\"sentence_embeddings\"])\\\n",
    "    .setOutputCol(\"features\")\n",
    "\n",
    "gen_clf =medical.GenericClassifierApproach()\\\n",
    "    .setLabelColumn(\"category\")\\\n",
    "    .setInputCols(\"features\")\\\n",
    "    .setOutputCol(\"prediction\")\\\n",
    "    .setModelFile(f\"{graph_folder}/gcf_graph_100d.pb\")\\\n",
    "    .setEpochsNumber(50)\\\n",
    "    .setBatchSize(32)\\\n",
    "    .setLearningRate(0.001)\\\n",
    "    .setOutputLogsPath(log_folder)\\\n",
    "    .setDropout(0.3)\\\n",
    "    .setFixImbalance(False)\\\n",
    "    # .setValidationSplit(0.1)\n",
    "\n",
    "clf_Pipeline = nlp.Pipeline(stages=[\n",
    "    features_asm,\n",
    "    gc_graph_builder,\n",
    "    gen_clf])\n"
   ]
  },
  {
   "cell_type": "code",
   "execution_count": 167,
   "metadata": {
    "colab": {
     "base_uri": "https://localhost:8080/"
    },
    "execution": {
     "iopub.execute_input": "2023-09-15T09:42:48.582663Z",
     "iopub.status.busy": "2023-09-15T09:42:48.582445Z",
     "iopub.status.idle": "2023-09-15T09:43:20.262247Z",
     "shell.execute_reply": "2023-09-15T09:43:20.261553Z",
     "shell.execute_reply.started": "2023-09-15T09:42:48.582625Z"
    },
    "executionInfo": {
     "elapsed": 11350,
     "status": "ok",
     "timestamp": 1689672227977,
     "user": {
      "displayName": "Ahmet Mesut BİROL",
      "userId": "04340760882990254267"
     },
     "user_tz": -180
    },
    "id": "4LA5_oIb9oaE",
    "outputId": "899df72f-5b61-4d7c-d84f-b08f852e25a4"
   },
   "outputs": [
    {
     "data": {
      "application/vnd.jupyter.widget-view+json": {
       "model_id": "614401b51a124fa2adc5bc6abc3a177a",
       "version_major": 2,
       "version_minor": 0
      },
      "text/plain": [
       "VBox()"
      ]
     },
     "metadata": {},
     "output_type": "display_data"
    },
    {
     "data": {
      "application/vnd.jupyter.widget-view+json": {
       "model_id": "",
       "version_major": 2,
       "version_minor": 0
      },
      "text/plain": [
       "FloatProgress(value=0.0, bar_style='info', description='Progress:', layout=Layout(height='25px', width='50%'),…"
      ]
     },
     "metadata": {},
     "output_type": "display_data"
    },
    {
     "name": "stdout",
     "output_type": "stream",
     "text": [
      "TF Graph Builder configuration:\n",
      "Model name: generic_classifier\n",
      "Graph folder: /tmp/gc_graph\n",
      "Graph file name: gcf_graph_100d.pb\n",
      "Build params: {'input_dim': 100, 'output_dim': 4, 'hidden_layers': [300, 200, 50], 'hidden_act': 'tanh', 'hidden_act_l2': True, 'batch_norm': True}\n",
      "generic_classifier graph exported to /tmp/gc_graph/gcf_graph_100d.pb"
     ]
    }
   ],
   "source": [
    "generic_model_hc100 = clf_Pipeline.fit(trainingData_with_embeddings)"
   ]
  },
  {
   "cell_type": "code",
   "execution_count": 168,
   "metadata": {
    "execution": {
     "iopub.execute_input": "2023-09-15T09:43:20.263441Z",
     "iopub.status.busy": "2023-09-15T09:43:20.263191Z",
     "iopub.status.idle": "2023-09-15T09:43:22.536608Z",
     "shell.execute_reply": "2023-09-15T09:43:22.535867Z",
     "shell.execute_reply.started": "2023-09-15T09:43:20.263411Z"
    },
    "id": "YSMrZRPx9oaE"
   },
   "outputs": [
    {
     "data": {
      "application/vnd.jupyter.widget-view+json": {
       "model_id": "f12052cab8274a1b86d9fd49bdbfeff1",
       "version_major": 2,
       "version_minor": 0
      },
      "text/plain": [
       "VBox()"
      ]
     },
     "metadata": {},
     "output_type": "display_data"
    },
    {
     "data": {
      "application/vnd.jupyter.widget-view+json": {
       "model_id": "",
       "version_major": 2,
       "version_minor": 0
      },
      "text/plain": [
       "FloatProgress(value=0.0, bar_style='info', description='Progress:', layout=Layout(height='25px', width='50%'),…"
      ]
     },
     "metadata": {},
     "output_type": "display_data"
    }
   ],
   "source": [
    "pred_df = generic_model_hc100.transform(testData_with_embeddings)"
   ]
  },
  {
   "cell_type": "code",
   "execution_count": 169,
   "metadata": {
    "colab": {
     "base_uri": "https://localhost:8080/"
    },
    "execution": {
     "iopub.execute_input": "2023-09-15T09:43:22.537850Z",
     "iopub.status.busy": "2023-09-15T09:43:22.537577Z",
     "iopub.status.idle": "2023-09-15T09:43:24.838057Z",
     "shell.execute_reply": "2023-09-15T09:43:24.837329Z",
     "shell.execute_reply.started": "2023-09-15T09:43:22.537819Z"
    },
    "executionInfo": {
     "elapsed": 1552,
     "status": "ok",
     "timestamp": 1689672231096,
     "user": {
      "displayName": "Ahmet Mesut BİROL",
      "userId": "04340760882990254267"
     },
     "user_tz": -180
    },
    "id": "geckbyhy9oaE",
    "outputId": "54fdf94d-76b1-4147-a366-8ce038dffb69"
   },
   "outputs": [
    {
     "data": {
      "application/vnd.jupyter.widget-view+json": {
       "model_id": "30ea71b2cd01421db77f572e09938630",
       "version_major": 2,
       "version_minor": 0
      },
      "text/plain": [
       "VBox()"
      ]
     },
     "metadata": {},
     "output_type": "display_data"
    },
    {
     "data": {
      "application/vnd.jupyter.widget-view+json": {
       "model_id": "",
       "version_major": 2,
       "version_minor": 0
      },
      "text/plain": [
       "FloatProgress(value=0.0, bar_style='info', description='Progress:', layout=Layout(height='25px', width='50%'),…"
      ]
     },
     "metadata": {},
     "output_type": "display_data"
    },
    {
     "name": "stdout",
     "output_type": "stream",
     "text": [
      "                  precision    recall  f1-score   support\n",
      "\n",
      "Gastroenterology       0.92      0.88      0.90        25\n",
      "       Neurology       0.81      0.77      0.79        22\n",
      "      Orthopedic       0.89      0.91      0.90        35\n",
      "         Urology       0.90      0.95      0.93        20\n",
      "\n",
      "        accuracy                           0.88       102\n",
      "       macro avg       0.88      0.88      0.88       102\n",
      "    weighted avg       0.88      0.88      0.88       102"
     ]
    }
   ],
   "source": [
    "preds_df = pred_df.select('category','prediction.result').toPandas()\n",
    "preds_df['result'] = preds_df.result.apply(lambda x : x[0])\n",
    "\n",
    "print (classification_report(preds_df['category'], preds_df['result']))"
   ]
  },
  {
   "cell_type": "code",
   "execution_count": 170,
   "metadata": {
    "execution": {
     "iopub.execute_input": "2023-09-15T09:43:24.839329Z",
     "iopub.status.busy": "2023-09-15T09:43:24.839066Z",
     "iopub.status.idle": "2023-09-15T09:43:24.917557Z",
     "shell.execute_reply": "2023-09-15T09:43:24.916153Z",
     "shell.execute_reply.started": "2023-09-15T09:43:24.839263Z"
    },
    "id": "gJjDQERoFDUp"
   },
   "outputs": [
    {
     "data": {
      "application/vnd.jupyter.widget-view+json": {
       "model_id": "f7e724df28484b36bb17ba149fd1f756",
       "version_major": 2,
       "version_minor": 0
      },
      "text/plain": [
       "VBox()"
      ]
     },
     "metadata": {},
     "output_type": "display_data"
    },
    {
     "data": {
      "application/vnd.jupyter.widget-view+json": {
       "model_id": "",
       "version_major": 2,
       "version_minor": 0
      },
      "text/plain": [
       "FloatProgress(value=0.0, bar_style='info', description='Progress:', layout=Layout(height='25px', width='50%'),…"
      ]
     },
     "metadata": {},
     "output_type": "display_data"
    }
   ],
   "source": [
    "res = classification_report(preds_df[\"category\"], preds_df[\"result\"], output_dict=True)\n",
    "results_df.loc[\"GenericClassifier_100d\"] = [res[\"macro avg\"][\"f1-score\"], res[\"weighted avg\"][\"f1-score\"], res[\"accuracy\"]]"
   ]
  },
  {
   "cell_type": "markdown",
   "metadata": {
    "id": "hOnIAdo9XKrE"
   },
   "source": [
    "### GenericLogRegClassifier"
   ]
  },
  {
   "cell_type": "code",
   "execution_count": 171,
   "metadata": {
    "execution": {
     "iopub.execute_input": "2023-09-15T09:43:24.919235Z",
     "iopub.status.busy": "2023-09-15T09:43:24.918948Z",
     "iopub.status.idle": "2023-09-15T09:43:25.165033Z",
     "shell.execute_reply": "2023-09-15T09:43:25.164344Z",
     "shell.execute_reply.started": "2023-09-15T09:43:24.919204Z"
    },
    "id": "xC6Kg1KeXKrE"
   },
   "outputs": [
    {
     "data": {
      "application/vnd.jupyter.widget-view+json": {
       "model_id": "8bee906d291c48f783bccb047bcd1a01",
       "version_major": 2,
       "version_minor": 0
      },
      "text/plain": [
       "VBox()"
      ]
     },
     "metadata": {},
     "output_type": "display_data"
    },
    {
     "data": {
      "application/vnd.jupyter.widget-view+json": {
       "model_id": "",
       "version_major": 2,
       "version_minor": 0
      },
      "text/plain": [
       "FloatProgress(value=0.0, bar_style='info', description='Progress:', layout=Layout(height='25px', width='50%'),…"
      ]
     },
     "metadata": {},
     "output_type": "display_data"
    }
   ],
   "source": [
    "graph_folder = \"/tmp/gc_graph\"\n",
    "\n",
    "gc_logreg_graph_builder = medical.TFGraphBuilder()\\\n",
    "    .setModelName(\"logreg_classifier\")\\\n",
    "    .setInputCols([\"feature_vector\"]) \\\n",
    "    .setLabelColumn(\"category\")\\\n",
    "    .setGraphFolder(graph_folder)\\\n",
    "    .setGraphFile(\"log_reg_graph.pb\")"
   ]
  },
  {
   "cell_type": "markdown",
   "metadata": {
    "id": "8R6PZ_qlXKrE"
   },
   "source": [
    "GenericLogRegClassifier needs outputs from FeaturesAssembler. The FeaturesAssembler is used to collect features from different columns or an embeddings column.\n",
    "\n",
    "The GenericLogRegClassifier takes FEATURE_VECTOR annotations as input, classifies them and outputs CATEGORY annotations."
   ]
  },
  {
   "cell_type": "code",
   "execution_count": 172,
   "metadata": {
    "execution": {
     "iopub.execute_input": "2023-09-15T09:43:25.166178Z",
     "iopub.status.busy": "2023-09-15T09:43:25.165962Z",
     "iopub.status.idle": "2023-09-15T09:43:25.220130Z",
     "shell.execute_reply": "2023-09-15T09:43:25.219404Z",
     "shell.execute_reply.started": "2023-09-15T09:43:25.166148Z"
    },
    "id": "EWrEoT2sXKrF",
    "tags": []
   },
   "outputs": [
    {
     "data": {
      "application/vnd.jupyter.widget-view+json": {
       "model_id": "d86a50e3052647e285ffe1614ce545b7",
       "version_major": 2,
       "version_minor": 0
      },
      "text/plain": [
       "VBox()"
      ]
     },
     "metadata": {},
     "output_type": "display_data"
    },
    {
     "data": {
      "application/vnd.jupyter.widget-view+json": {
       "model_id": "",
       "version_major": 2,
       "version_minor": 0
      },
      "text/plain": [
       "FloatProgress(value=0.0, bar_style='info', description='Progress:', layout=Layout(height='25px', width='50%'),…"
      ]
     },
     "metadata": {},
     "output_type": "display_data"
    }
   ],
   "source": [
    "features_asm = medical.FeaturesAssembler()\\\n",
    "    .setInputCols([\"sentence_embeddings\"])\\\n",
    "    .setOutputCol(\"feature_vector\")\n",
    "\n",
    "gen_clf = medical.GenericLogRegClassifierApproach()\\\n",
    "    .setLabelColumn(\"category\")\\\n",
    "    .setInputCols(\"feature_vector\")\\\n",
    "    .setOutputCol(\"prediction\")\\\n",
    "    .setModelFile(f\"{graph_folder}/log_reg_graph.pb\")\\\n",
    "    .setEpochsNumber(45)\\\n",
    "    .setBatchSize(32)\\\n",
    "    .setLearningRate(0.02)\\\n",
    "    .setOutputLogsPath(log_folder)\\\n",
    "    .setDropout(0.1)\\\n",
    "    .setFixImbalance(True)\\\n",
    "    # .setValidationSplit(0.1)\n",
    "\n",
    "clf_Pipeline = nlp.Pipeline(stages=[\n",
    "    features_asm,\n",
    "    gc_logreg_graph_builder,\n",
    "    gen_clf])\n"
   ]
  },
  {
   "cell_type": "code",
   "execution_count": 173,
   "metadata": {
    "colab": {
     "base_uri": "https://localhost:8080/"
    },
    "execution": {
     "iopub.execute_input": "2023-09-15T09:43:25.221325Z",
     "iopub.status.busy": "2023-09-15T09:43:25.221114Z",
     "iopub.status.idle": "2023-09-15T09:43:40.959316Z",
     "shell.execute_reply": "2023-09-15T09:43:40.958627Z",
     "shell.execute_reply.started": "2023-09-15T09:43:25.221295Z"
    },
    "executionInfo": {
     "elapsed": 9386,
     "status": "ok",
     "timestamp": 1689672240476,
     "user": {
      "displayName": "Ahmet Mesut BİROL",
      "userId": "04340760882990254267"
     },
     "user_tz": -180
    },
    "id": "Bfkzw4n3XKrF",
    "outputId": "24966547-12f9-4876-c67a-82680117cded"
   },
   "outputs": [
    {
     "data": {
      "application/vnd.jupyter.widget-view+json": {
       "model_id": "c1a41f686e4a45ff955b024833597a59",
       "version_major": 2,
       "version_minor": 0
      },
      "text/plain": [
       "VBox()"
      ]
     },
     "metadata": {},
     "output_type": "display_data"
    },
    {
     "data": {
      "application/vnd.jupyter.widget-view+json": {
       "model_id": "",
       "version_major": 2,
       "version_minor": 0
      },
      "text/plain": [
       "FloatProgress(value=0.0, bar_style='info', description='Progress:', layout=Layout(height='25px', width='50%'),…"
      ]
     },
     "metadata": {},
     "output_type": "display_data"
    },
    {
     "name": "stdout",
     "output_type": "stream",
     "text": [
      "TF Graph Builder configuration:\n",
      "Model name: logreg_classifier\n",
      "Graph folder: /tmp/gc_graph\n",
      "Graph file name: log_reg_graph.pb\n",
      "Build params: {'input_dim': 100, 'output_dim': 4, 'hidden_layers': [], 'output_act': 'sigmoid'}\n",
      "logreg_classifier graph exported to /tmp/gc_graph/log_reg_graph.pb"
     ]
    }
   ],
   "source": [
    "generic_model_hc100 = clf_Pipeline.fit(trainingData_with_embeddings)"
   ]
  },
  {
   "cell_type": "code",
   "execution_count": 174,
   "metadata": {
    "execution": {
     "iopub.execute_input": "2023-09-15T09:43:40.962956Z",
     "iopub.status.busy": "2023-09-15T09:43:40.962739Z",
     "iopub.status.idle": "2023-09-15T09:43:43.234665Z",
     "shell.execute_reply": "2023-09-15T09:43:43.233968Z",
     "shell.execute_reply.started": "2023-09-15T09:43:40.962926Z"
    },
    "id": "FAP8vtiUXKrG"
   },
   "outputs": [
    {
     "data": {
      "application/vnd.jupyter.widget-view+json": {
       "model_id": "d0337ea37e5644409202331c2e6ab945",
       "version_major": 2,
       "version_minor": 0
      },
      "text/plain": [
       "VBox()"
      ]
     },
     "metadata": {},
     "output_type": "display_data"
    },
    {
     "data": {
      "application/vnd.jupyter.widget-view+json": {
       "model_id": "",
       "version_major": 2,
       "version_minor": 0
      },
      "text/plain": [
       "FloatProgress(value=0.0, bar_style='info', description='Progress:', layout=Layout(height='25px', width='50%'),…"
      ]
     },
     "metadata": {},
     "output_type": "display_data"
    }
   ],
   "source": [
    "pred_df = generic_model_hc100.transform(testData_with_embeddings)"
   ]
  },
  {
   "cell_type": "code",
   "execution_count": 175,
   "metadata": {
    "colab": {
     "base_uri": "https://localhost:8080/"
    },
    "execution": {
     "iopub.execute_input": "2023-09-15T09:43:43.236446Z",
     "iopub.status.busy": "2023-09-15T09:43:43.236233Z",
     "iopub.status.idle": "2023-09-15T09:43:45.542184Z",
     "shell.execute_reply": "2023-09-15T09:43:45.541386Z",
     "shell.execute_reply.started": "2023-09-15T09:43:43.236416Z"
    },
    "executionInfo": {
     "elapsed": 2020,
     "status": "ok",
     "timestamp": 1689672243903,
     "user": {
      "displayName": "Ahmet Mesut BİROL",
      "userId": "04340760882990254267"
     },
     "user_tz": -180
    },
    "id": "caRWCdadXKrG",
    "outputId": "5e120130-318b-4f2e-f0e9-e3a07a1c3437"
   },
   "outputs": [
    {
     "data": {
      "application/vnd.jupyter.widget-view+json": {
       "model_id": "392ded3cf1ac4653a2f757c84450829d",
       "version_major": 2,
       "version_minor": 0
      },
      "text/plain": [
       "VBox()"
      ]
     },
     "metadata": {},
     "output_type": "display_data"
    },
    {
     "data": {
      "application/vnd.jupyter.widget-view+json": {
       "model_id": "",
       "version_major": 2,
       "version_minor": 0
      },
      "text/plain": [
       "FloatProgress(value=0.0, bar_style='info', description='Progress:', layout=Layout(height='25px', width='50%'),…"
      ]
     },
     "metadata": {},
     "output_type": "display_data"
    },
    {
     "name": "stdout",
     "output_type": "stream",
     "text": [
      "                  precision    recall  f1-score   support\n",
      "\n",
      "Gastroenterology       0.92      0.92      0.92        25\n",
      "       Neurology       0.81      0.77      0.79        22\n",
      "      Orthopedic       0.86      0.91      0.89        35\n",
      "         Urology       0.89      0.85      0.87        20\n",
      "\n",
      "        accuracy                           0.87       102\n",
      "       macro avg       0.87      0.86      0.87       102\n",
      "    weighted avg       0.87      0.87      0.87       102"
     ]
    }
   ],
   "source": [
    "preds_df = pred_df.select('category','prediction.result').toPandas()\n",
    "preds_df['result'] = preds_df.result.apply(lambda x : x[0])\n",
    "\n",
    "print (classification_report(preds_df['category'], preds_df['result']))"
   ]
  },
  {
   "cell_type": "code",
   "execution_count": 176,
   "metadata": {
    "execution": {
     "iopub.execute_input": "2023-09-15T09:43:45.543780Z",
     "iopub.status.busy": "2023-09-15T09:43:45.543537Z",
     "iopub.status.idle": "2023-09-15T09:43:45.817144Z",
     "shell.execute_reply": "2023-09-15T09:43:45.634960Z",
     "shell.execute_reply.started": "2023-09-15T09:43:45.543747Z"
    },
    "id": "1rjuM4rnFO9x"
   },
   "outputs": [
    {
     "data": {
      "application/vnd.jupyter.widget-view+json": {
       "model_id": "9a041a98d8e84da5b9bc863c18e34ce0",
       "version_major": 2,
       "version_minor": 0
      },
      "text/plain": [
       "VBox()"
      ]
     },
     "metadata": {},
     "output_type": "display_data"
    },
    {
     "data": {
      "application/vnd.jupyter.widget-view+json": {
       "model_id": "",
       "version_major": 2,
       "version_minor": 0
      },
      "text/plain": [
       "FloatProgress(value=0.0, bar_style='info', description='Progress:', layout=Layout(height='25px', width='50%'),…"
      ]
     },
     "metadata": {},
     "output_type": "display_data"
    }
   ],
   "source": [
    "res = classification_report(preds_df[\"category\"], preds_df[\"result\"], output_dict=True)\n",
    "results_df.loc[\"GenericLogReg_100d\"] = [res[\"macro avg\"][\"f1-score\"], res[\"weighted avg\"][\"f1-score\"], res[\"accuracy\"]]"
   ]
  },
  {
   "cell_type": "markdown",
   "metadata": {
    "id": "wNNMzT-XXYmA"
   },
   "source": [
    "### GenericSVMClassifier"
   ]
  },
  {
   "cell_type": "code",
   "execution_count": 177,
   "metadata": {
    "execution": {
     "iopub.execute_input": "2023-09-15T09:43:45.818298Z",
     "iopub.status.busy": "2023-09-15T09:43:45.818067Z",
     "iopub.status.idle": "2023-09-15T09:43:45.877607Z",
     "shell.execute_reply": "2023-09-15T09:43:45.876906Z",
     "shell.execute_reply.started": "2023-09-15T09:43:45.818266Z"
    },
    "id": "M7ludWh3XYmB"
   },
   "outputs": [
    {
     "data": {
      "application/vnd.jupyter.widget-view+json": {
       "model_id": "6b79760f62b34481be71d566f61f4329",
       "version_major": 2,
       "version_minor": 0
      },
      "text/plain": [
       "VBox()"
      ]
     },
     "metadata": {},
     "output_type": "display_data"
    },
    {
     "data": {
      "application/vnd.jupyter.widget-view+json": {
       "model_id": "",
       "version_major": 2,
       "version_minor": 0
      },
      "text/plain": [
       "FloatProgress(value=0.0, bar_style='info', description='Progress:', layout=Layout(height='25px', width='50%'),…"
      ]
     },
     "metadata": {},
     "output_type": "display_data"
    }
   ],
   "source": [
    "graph_folder = \"/tmp/gc_graph\"\n",
    "\n",
    "gc_svm_graph_builder = medical.TFGraphBuilder()\\\n",
    "    .setModelName(\"svm_classifier\")\\\n",
    "    .setInputCols([\"feature_vector\"]) \\\n",
    "    .setLabelColumn(\"category\")\\\n",
    "    .setGraphFolder(graph_folder)\\\n",
    "    .setGraphFile(\"svm_graph.pb\")"
   ]
  },
  {
   "cell_type": "markdown",
   "metadata": {
    "id": "pLqqH3HOXYmB"
   },
   "source": [
    "GenericSVMClassifier needs outputs from FeaturesAssembler. The FeaturesAssembler is used to collect features from different columns or an embeddings column.\n",
    "\n",
    "The GenericSVMClassifier takes FEATURE_VECTOR annotations as input, classifies them and outputs CATEGORY annotations."
   ]
  },
  {
   "cell_type": "code",
   "execution_count": 178,
   "metadata": {
    "execution": {
     "iopub.execute_input": "2023-09-15T09:43:45.878721Z",
     "iopub.status.busy": "2023-09-15T09:43:45.878508Z",
     "iopub.status.idle": "2023-09-15T09:43:45.934166Z",
     "shell.execute_reply": "2023-09-15T09:43:45.933500Z",
     "shell.execute_reply.started": "2023-09-15T09:43:45.878690Z"
    },
    "id": "jNZAxL3iXYmB"
   },
   "outputs": [
    {
     "data": {
      "application/vnd.jupyter.widget-view+json": {
       "model_id": "2432e0ed22e1463fa67a7c6b92cdcadd",
       "version_major": 2,
       "version_minor": 0
      },
      "text/plain": [
       "VBox()"
      ]
     },
     "metadata": {},
     "output_type": "display_data"
    },
    {
     "data": {
      "application/vnd.jupyter.widget-view+json": {
       "model_id": "",
       "version_major": 2,
       "version_minor": 0
      },
      "text/plain": [
       "FloatProgress(value=0.0, bar_style='info', description='Progress:', layout=Layout(height='25px', width='50%'),…"
      ]
     },
     "metadata": {},
     "output_type": "display_data"
    }
   ],
   "source": [
    "features_asm = medical.FeaturesAssembler()\\\n",
    "    .setInputCols([\"sentence_embeddings\"])\\\n",
    "    .setOutputCol(\"feature_vector\")\n",
    "\n",
    "gen_clf = medical.GenericSVMClassifierApproach()\\\n",
    "    .setLabelColumn(\"category\")\\\n",
    "    .setInputCols(\"feature_vector\")\\\n",
    "    .setOutputCol(\"prediction\")\\\n",
    "    .setModelFile(f\"{graph_folder}/svm_graph.pb\")\\\n",
    "    .setEpochsNumber(45)\\\n",
    "    .setBatchSize(32)\\\n",
    "    .setLearningRate(0.02)\\\n",
    "    .setOutputLogsPath(log_folder)\\\n",
    "    .setDropout(0.1)\\\n",
    "    .setFixImbalance(True)\\\n",
    "    # .setValidationSplit(0.1)\n",
    "\n",
    "clf_Pipeline = nlp.Pipeline(stages=[\n",
    "    features_asm,\n",
    "    gc_svm_graph_builder,\n",
    "    gen_clf])\n"
   ]
  },
  {
   "cell_type": "code",
   "execution_count": 179,
   "metadata": {
    "colab": {
     "base_uri": "https://localhost:8080/"
    },
    "execution": {
     "iopub.execute_input": "2023-09-15T09:43:45.935263Z",
     "iopub.status.busy": "2023-09-15T09:43:45.935058Z",
     "iopub.status.idle": "2023-09-15T09:44:15.534894Z",
     "shell.execute_reply": "2023-09-15T09:44:15.534194Z",
     "shell.execute_reply.started": "2023-09-15T09:43:45.935234Z"
    },
    "executionInfo": {
     "elapsed": 8628,
     "status": "ok",
     "timestamp": 1689672252526,
     "user": {
      "displayName": "Ahmet Mesut BİROL",
      "userId": "04340760882990254267"
     },
     "user_tz": -180
    },
    "id": "FOpLj7MbXYmB",
    "outputId": "dc718d4f-2519-477b-8ee9-c603ab6c67fb"
   },
   "outputs": [
    {
     "data": {
      "application/vnd.jupyter.widget-view+json": {
       "model_id": "9e1cc1e915d746a297dd6a9aaaab91e5",
       "version_major": 2,
       "version_minor": 0
      },
      "text/plain": [
       "VBox()"
      ]
     },
     "metadata": {},
     "output_type": "display_data"
    },
    {
     "data": {
      "application/vnd.jupyter.widget-view+json": {
       "model_id": "",
       "version_major": 2,
       "version_minor": 0
      },
      "text/plain": [
       "FloatProgress(value=0.0, bar_style='info', description='Progress:', layout=Layout(height='25px', width='50%'),…"
      ]
     },
     "metadata": {},
     "output_type": "display_data"
    },
    {
     "name": "stdout",
     "output_type": "stream",
     "text": [
      "TF Graph Builder configuration:\n",
      "Model name: svm_classifier\n",
      "Graph folder: /tmp/gc_graph\n",
      "Graph file name: svm_graph.pb\n",
      "Build params: {'input_dim': 100, 'output_dim': 4, 'hidden_layers': [], 'output_act': 'sigmoid', 'loss_func': 'hinge'}\n",
      "svm_classifier graph exported to /tmp/gc_graph/svm_graph.pb"
     ]
    }
   ],
   "source": [
    "generic_model_hc100 = clf_Pipeline.fit(trainingData_with_embeddings)"
   ]
  },
  {
   "cell_type": "code",
   "execution_count": 180,
   "metadata": {
    "execution": {
     "iopub.execute_input": "2023-09-15T09:44:15.536124Z",
     "iopub.status.busy": "2023-09-15T09:44:15.535903Z",
     "iopub.status.idle": "2023-09-15T09:44:17.819213Z",
     "shell.execute_reply": "2023-09-15T09:44:17.818493Z",
     "shell.execute_reply.started": "2023-09-15T09:44:15.536094Z"
    },
    "id": "pN0Ts7VqXYmC"
   },
   "outputs": [
    {
     "data": {
      "application/vnd.jupyter.widget-view+json": {
       "model_id": "ed286214529c43e68251cdd5bfe7ce70",
       "version_major": 2,
       "version_minor": 0
      },
      "text/plain": [
       "VBox()"
      ]
     },
     "metadata": {},
     "output_type": "display_data"
    },
    {
     "data": {
      "application/vnd.jupyter.widget-view+json": {
       "model_id": "",
       "version_major": 2,
       "version_minor": 0
      },
      "text/plain": [
       "FloatProgress(value=0.0, bar_style='info', description='Progress:', layout=Layout(height='25px', width='50%'),…"
      ]
     },
     "metadata": {},
     "output_type": "display_data"
    }
   ],
   "source": [
    "pred_df = generic_model_hc100.transform(testData_with_embeddings)"
   ]
  },
  {
   "cell_type": "code",
   "execution_count": 181,
   "metadata": {
    "colab": {
     "base_uri": "https://localhost:8080/"
    },
    "execution": {
     "iopub.execute_input": "2023-09-15T09:44:17.820929Z",
     "iopub.status.busy": "2023-09-15T09:44:17.820579Z",
     "iopub.status.idle": "2023-09-15T09:44:20.124828Z",
     "shell.execute_reply": "2023-09-15T09:44:20.124104Z",
     "shell.execute_reply.started": "2023-09-15T09:44:17.820879Z"
    },
    "executionInfo": {
     "elapsed": 2035,
     "status": "ok",
     "timestamp": 1689672255927,
     "user": {
      "displayName": "Ahmet Mesut BİROL",
      "userId": "04340760882990254267"
     },
     "user_tz": -180
    },
    "id": "KRFJdGyEXYmC",
    "outputId": "9430c9e3-8d28-49c7-9f45-f2ad01daaff6"
   },
   "outputs": [
    {
     "data": {
      "application/vnd.jupyter.widget-view+json": {
       "model_id": "6cdbb84dc1104ed98c0c148d70b75289",
       "version_major": 2,
       "version_minor": 0
      },
      "text/plain": [
       "VBox()"
      ]
     },
     "metadata": {},
     "output_type": "display_data"
    },
    {
     "data": {
      "application/vnd.jupyter.widget-view+json": {
       "model_id": "",
       "version_major": 2,
       "version_minor": 0
      },
      "text/plain": [
       "FloatProgress(value=0.0, bar_style='info', description='Progress:', layout=Layout(height='25px', width='50%'),…"
      ]
     },
     "metadata": {},
     "output_type": "display_data"
    },
    {
     "name": "stdout",
     "output_type": "stream",
     "text": [
      "                  precision    recall  f1-score   support\n",
      "\n",
      "Gastroenterology       0.92      0.88      0.90        25\n",
      "       Neurology       0.82      0.82      0.82        22\n",
      "      Orthopedic       0.91      0.91      0.91        35\n",
      "         Urology       0.86      0.90      0.88        20\n",
      "\n",
      "        accuracy                           0.88       102\n",
      "       macro avg       0.88      0.88      0.88       102\n",
      "    weighted avg       0.88      0.88      0.88       102"
     ]
    }
   ],
   "source": [
    "preds_df = pred_df.select('category','prediction.result').toPandas()\n",
    "preds_df['result'] = preds_df.result.apply(lambda x : x[0])\n",
    "\n",
    "print (classification_report(preds_df['category'], preds_df['result']))"
   ]
  },
  {
   "cell_type": "code",
   "execution_count": 182,
   "metadata": {
    "execution": {
     "iopub.execute_input": "2023-09-15T09:44:20.126006Z",
     "iopub.status.busy": "2023-09-15T09:44:20.125789Z",
     "iopub.status.idle": "2023-09-15T09:44:20.230489Z",
     "shell.execute_reply": "2023-09-15T09:44:20.229182Z",
     "shell.execute_reply.started": "2023-09-15T09:44:20.125976Z"
    },
    "id": "-Ax6lC2rGMpS"
   },
   "outputs": [
    {
     "data": {
      "application/vnd.jupyter.widget-view+json": {
       "model_id": "b8725fef53114305b8e882252e9ddac5",
       "version_major": 2,
       "version_minor": 0
      },
      "text/plain": [
       "VBox()"
      ]
     },
     "metadata": {},
     "output_type": "display_data"
    },
    {
     "data": {
      "application/vnd.jupyter.widget-view+json": {
       "model_id": "",
       "version_major": 2,
       "version_minor": 0
      },
      "text/plain": [
       "FloatProgress(value=0.0, bar_style='info', description='Progress:', layout=Layout(height='25px', width='50%'),…"
      ]
     },
     "metadata": {},
     "output_type": "display_data"
    }
   ],
   "source": [
    "res = classification_report(preds_df[\"category\"], preds_df[\"result\"], output_dict=True)\n",
    "results_df.loc[\"GenericSVM_100d\"] = [res[\"macro avg\"][\"f1-score\"], res[\"weighted avg\"][\"f1-score\"], res[\"accuracy\"]]"
   ]
  },
  {
   "cell_type": "markdown",
   "metadata": {
    "id": "kF60nUsj9oaE"
   },
   "source": [
    "## 200 Dimension Healthcare Embeddings (embeddings_clinical)\n",
    "\n"
   ]
  },
  {
   "cell_type": "markdown",
   "metadata": {
    "id": "fBJMu9pr9oaE"
   },
   "source": [
    "Now we will extract [embeddings_clinical](https://nlp.johnsnowlabs.com/2020/01/28/embeddings_clinical_en.html) embeddings which has 200 dimension output and use this embeddings in the model training."
   ]
  },
  {
   "cell_type": "code",
   "execution_count": 183,
   "metadata": {
    "colab": {
     "base_uri": "https://localhost:8080/"
    },
    "execution": {
     "iopub.execute_input": "2023-09-15T09:44:20.232720Z",
     "iopub.status.busy": "2023-09-15T09:44:20.232416Z",
     "iopub.status.idle": "2023-09-15T09:44:23.704973Z",
     "shell.execute_reply": "2023-09-15T09:44:23.704061Z",
     "shell.execute_reply.started": "2023-09-15T09:44:20.232678Z"
    },
    "executionInfo": {
     "elapsed": 3049,
     "status": "ok",
     "timestamp": 1689672258969,
     "user": {
      "displayName": "Ahmet Mesut BİROL",
      "userId": "04340760882990254267"
     },
     "user_tz": -180
    },
    "id": "PzSG35rb9oaE",
    "outputId": "ac08377d-b622-4f10-c1f4-d68da0d0f121"
   },
   "outputs": [
    {
     "data": {
      "application/vnd.jupyter.widget-view+json": {
       "model_id": "41078fb76f164ecf9739df8fd6f75514",
       "version_major": 2,
       "version_minor": 0
      },
      "text/plain": [
       "VBox()"
      ]
     },
     "metadata": {},
     "output_type": "display_data"
    },
    {
     "data": {
      "application/vnd.jupyter.widget-view+json": {
       "model_id": "",
       "version_major": 2,
       "version_minor": 0
      },
      "text/plain": [
       "FloatProgress(value=0.0, bar_style='info', description='Progress:', layout=Layout(height='25px', width='50%'),…"
      ]
     },
     "metadata": {},
     "output_type": "display_data"
    },
    {
     "name": "stdout",
     "output_type": "stream",
     "text": [
      "embeddings_clinical download started this may take some time.\n",
      "Approximate size to download 1.6 GB\n",
      "[OK!]"
     ]
    }
   ],
   "source": [
    "document_assembler = nlp.DocumentAssembler()\\\n",
    "        .setInputCol(\"text\")\\\n",
    "        .setOutputCol(\"document\")\n",
    "\n",
    "tokenizer = nlp.Tokenizer() \\\n",
    "            .setInputCols([\"document\"]) \\\n",
    "            .setOutputCol(\"token\")\n",
    "\n",
    "word_embeddings = nlp.WordEmbeddingsModel.pretrained(\"embeddings_clinical\",\"en\",\"clinical/models\")\\\n",
    "        .setInputCols([\"document\",\"token\"])\\\n",
    "        .setOutputCol(\"word_embeddings\")\n",
    "\n",
    "sentence_embeddings = nlp.SentenceEmbeddings() \\\n",
    "        .setInputCols([\"document\", \"word_embeddings\"]) \\\n",
    "        .setOutputCol(\"sentence_embeddings\") \\\n",
    "        .setPoolingStrategy(\"AVERAGE\")\n",
    "\n",
    "embeddings_pipeline = nlp.Pipeline(\n",
    "    stages = [\n",
    "        document_assembler,\n",
    "        tokenizer,\n",
    "        word_embeddings,\n",
    "        sentence_embeddings,\n",
    "    ])"
   ]
  },
  {
   "cell_type": "code",
   "execution_count": 184,
   "metadata": {
    "colab": {
     "base_uri": "https://localhost:8080/"
    },
    "execution": {
     "iopub.execute_input": "2023-09-15T09:44:23.706194Z",
     "iopub.status.busy": "2023-09-15T09:44:23.705984Z",
     "iopub.status.idle": "2023-09-15T09:44:24.472276Z",
     "shell.execute_reply": "2023-09-15T09:44:24.471581Z",
     "shell.execute_reply.started": "2023-09-15T09:44:23.706164Z"
    },
    "executionInfo": {
     "elapsed": 473,
     "status": "ok",
     "timestamp": 1689672259434,
     "user": {
      "displayName": "Ahmet Mesut BİROL",
      "userId": "04340760882990254267"
     },
     "user_tz": -180
    },
    "id": "MXN8Cqyp9oaF",
    "outputId": "bb39fa43-0796-4361-a660-d91e645b3f36"
   },
   "outputs": [
    {
     "data": {
      "application/vnd.jupyter.widget-view+json": {
       "model_id": "e58b12d27b884668a5c65359dbbd5ba9",
       "version_major": 2,
       "version_minor": 0
      },
      "text/plain": [
       "VBox()"
      ]
     },
     "metadata": {},
     "output_type": "display_data"
    },
    {
     "data": {
      "application/vnd.jupyter.widget-view+json": {
       "model_id": "",
       "version_major": 2,
       "version_minor": 0
      },
      "text/plain": [
       "FloatProgress(value=0.0, bar_style='info', description='Progress:', layout=Layout(height='25px', width='50%'),…"
      ]
     },
     "metadata": {},
     "output_type": "display_data"
    },
    {
     "name": "stdout",
     "output_type": "stream",
     "text": [
      "+------------------------------------------------------------+----------------+------------------------------------------------------------+\n",
      "|                                                        text|        category|                                         sentence_embeddings|\n",
      "+------------------------------------------------------------+----------------+------------------------------------------------------------+\n",
      "| ADMISSION DIAGNOSIS: Symptomatic cholelithiasis. DISCHAR...|Gastroenterology|[{sentence_embeddings, 0, 2228,  ADMISSION DIAGNOSIS: Sym...|\n",
      "| ADMITTING DIAGNOSES: Hiatal hernia, gastroesophageal ref...|Gastroenterology|[{sentence_embeddings, 0, 3237,  ADMITTING DIAGNOSES: Hia...|\n",
      "+------------------------------------------------------------+----------------+------------------------------------------------------------+\n",
      "only showing top 2 rows"
     ]
    }
   ],
   "source": [
    "trainingData_with_embeddings = embeddings_pipeline.fit(trainingData).transform(trainingData)\\\n",
    "                                                  .select(\"text\",\"category\",\"sentence_embeddings\")\n",
    "trainingData_with_embeddings.show(2,truncate=60)"
   ]
  },
  {
   "cell_type": "code",
   "execution_count": 185,
   "metadata": {
    "colab": {
     "base_uri": "https://localhost:8080/"
    },
    "execution": {
     "iopub.execute_input": "2023-09-15T09:44:24.473460Z",
     "iopub.status.busy": "2023-09-15T09:44:24.473247Z",
     "iopub.status.idle": "2023-09-15T09:44:25.239990Z",
     "shell.execute_reply": "2023-09-15T09:44:25.238999Z",
     "shell.execute_reply.started": "2023-09-15T09:44:24.473430Z"
    },
    "executionInfo": {
     "elapsed": 691,
     "status": "ok",
     "timestamp": 1689672260120,
     "user": {
      "displayName": "Ahmet Mesut BİROL",
      "userId": "04340760882990254267"
     },
     "user_tz": -180
    },
    "id": "fpBY0D_y9oaF",
    "outputId": "071fc521-d782-4d41-cf54-e6befcd4d369"
   },
   "outputs": [
    {
     "data": {
      "application/vnd.jupyter.widget-view+json": {
       "model_id": "17a4cbecb112405d969fb18a536c846a",
       "version_major": 2,
       "version_minor": 0
      },
      "text/plain": [
       "VBox()"
      ]
     },
     "metadata": {},
     "output_type": "display_data"
    },
    {
     "data": {
      "application/vnd.jupyter.widget-view+json": {
       "model_id": "",
       "version_major": 2,
       "version_minor": 0
      },
      "text/plain": [
       "FloatProgress(value=0.0, bar_style='info', description='Progress:', layout=Layout(height='25px', width='50%'),…"
      ]
     },
     "metadata": {},
     "output_type": "display_data"
    },
    {
     "name": "stdout",
     "output_type": "stream",
     "text": [
      "+------------------------------------------------------------+----------------+------------------------------------------------------------+\n",
      "|                                                        text|        category|                                         sentence_embeddings|\n",
      "+------------------------------------------------------------+----------------+------------------------------------------------------------+\n",
      "| ADMITTING DIAGNOSIS: Gastrointestinal bleed. HISTORY OF ...|Gastroenterology|[{sentence_embeddings, 0, 3978,  ADMITTING DIAGNOSIS: Gas...|\n",
      "| CHIEF COMPLAINT: Dysphagia and hematemesis while vomitin...|Gastroenterology|[{sentence_embeddings, 0, 6515,  CHIEF COMPLAINT: Dysphag...|\n",
      "+------------------------------------------------------------+----------------+------------------------------------------------------------+\n",
      "only showing top 2 rows"
     ]
    }
   ],
   "source": [
    "testData_with_embeddings = embeddings_pipeline.fit(testData).transform(testData)\\\n",
    "                                                  .select(\"text\",\"category\",\"sentence_embeddings\")\n",
    "testData_with_embeddings.show(2,truncate=60)"
   ]
  },
  {
   "cell_type": "code",
   "execution_count": 186,
   "metadata": {
    "execution": {
     "iopub.execute_input": "2023-09-15T09:44:25.241693Z",
     "iopub.status.busy": "2023-09-15T09:44:25.241362Z",
     "iopub.status.idle": "2023-09-15T09:44:25.299586Z",
     "shell.execute_reply": "2023-09-15T09:44:25.298832Z",
     "shell.execute_reply.started": "2023-09-15T09:44:25.241644Z"
    },
    "id": "GGIXfOlX9oaF"
   },
   "outputs": [
    {
     "data": {
      "application/vnd.jupyter.widget-view+json": {
       "model_id": "2011d68fa3e64129907b0eb961546a63",
       "version_major": 2,
       "version_minor": 0
      },
      "text/plain": [
       "VBox()"
      ]
     },
     "metadata": {},
     "output_type": "display_data"
    },
    {
     "data": {
      "application/vnd.jupyter.widget-view+json": {
       "model_id": "",
       "version_major": 2,
       "version_minor": 0
      },
      "text/plain": [
       "FloatProgress(value=0.0, bar_style='info', description='Progress:', layout=Layout(height='25px', width='50%'),…"
      ]
     },
     "metadata": {},
     "output_type": "display_data"
    }
   ],
   "source": [
    "log_folder=\"/tmp/Mt_logs_healthcare_200d\""
   ]
  },
  {
   "cell_type": "markdown",
   "metadata": {
    "id": "5W6ac3UP9oaF"
   },
   "source": [
    "### ClassifierDL"
   ]
  },
  {
   "cell_type": "code",
   "execution_count": 187,
   "metadata": {
    "execution": {
     "iopub.execute_input": "2023-09-15T09:44:25.301044Z",
     "iopub.status.busy": "2023-09-15T09:44:25.300760Z",
     "iopub.status.idle": "2023-09-15T09:44:25.369893Z",
     "shell.execute_reply": "2023-09-15T09:44:25.369148Z",
     "shell.execute_reply.started": "2023-09-15T09:44:25.301013Z"
    },
    "id": "2z7EgX-q9oaF"
   },
   "outputs": [
    {
     "data": {
      "application/vnd.jupyter.widget-view+json": {
       "model_id": "725eac08e9b7414992337d3672839f18",
       "version_major": 2,
       "version_minor": 0
      },
      "text/plain": [
       "VBox()"
      ]
     },
     "metadata": {},
     "output_type": "display_data"
    },
    {
     "data": {
      "application/vnd.jupyter.widget-view+json": {
       "model_id": "",
       "version_major": 2,
       "version_minor": 0
      },
      "text/plain": [
       "FloatProgress(value=0.0, bar_style='info', description='Progress:', layout=Layout(height='25px', width='50%'),…"
      ]
     },
     "metadata": {},
     "output_type": "display_data"
    }
   ],
   "source": [
    "classifier_dl = nlp.ClassifierDLApproach()\\\n",
    "        .setInputCols([\"sentence_embeddings\"])\\\n",
    "        .setOutputCol(\"class\")\\\n",
    "        .setLabelColumn(\"category\")\\\n",
    "        .setBatchSize(8)\\\n",
    "        .setMaxEpochs(50)\\\n",
    "        .setLr(0.005)\\\n",
    "        .setDropout(0.1)\\\n",
    "        .setEnableOutputLogs(True)\\\n",
    "        .setOutputLogsPath(log_folder)\n",
    "\n",
    "classifier_dl_pipeline = nlp.Pipeline(stages=[classifier_dl])"
   ]
  },
  {
   "cell_type": "code",
   "execution_count": 188,
   "metadata": {
    "execution": {
     "iopub.execute_input": "2023-09-15T09:44:25.371018Z",
     "iopub.status.busy": "2023-09-15T09:44:25.370806Z",
     "iopub.status.idle": "2023-09-15T09:45:12.995099Z",
     "shell.execute_reply": "2023-09-15T09:45:12.994255Z",
     "shell.execute_reply.started": "2023-09-15T09:44:25.370988Z"
    },
    "id": "U0mSiCzC9oaF"
   },
   "outputs": [
    {
     "data": {
      "application/vnd.jupyter.widget-view+json": {
       "model_id": "1a5211b6f8a14a90868b895786ca7007",
       "version_major": 2,
       "version_minor": 0
      },
      "text/plain": [
       "VBox()"
      ]
     },
     "metadata": {},
     "output_type": "display_data"
    },
    {
     "data": {
      "application/vnd.jupyter.widget-view+json": {
       "model_id": "",
       "version_major": 2,
       "version_minor": 0
      },
      "text/plain": [
       "FloatProgress(value=0.0, bar_style='info', description='Progress:', layout=Layout(height='25px', width='50%'),…"
      ]
     },
     "metadata": {},
     "output_type": "display_data"
    }
   ],
   "source": [
    "clfDL_model_hc200 = classifier_dl_pipeline.fit(trainingData_with_embeddings)"
   ]
  },
  {
   "cell_type": "code",
   "execution_count": 189,
   "metadata": {
    "colab": {
     "base_uri": "https://localhost:8080/"
    },
    "execution": {
     "iopub.execute_input": "2023-09-15T09:45:12.996412Z",
     "iopub.status.busy": "2023-09-15T09:45:12.996185Z",
     "iopub.status.idle": "2023-09-15T09:45:18.279601Z",
     "shell.execute_reply": "2023-09-15T09:45:18.278737Z",
     "shell.execute_reply.started": "2023-09-15T09:45:12.996382Z"
    },
    "executionInfo": {
     "elapsed": 6882,
     "status": "ok",
     "timestamp": 1689672305716,
     "user": {
      "displayName": "Ahmet Mesut BİROL",
      "userId": "04340760882990254267"
     },
     "user_tz": -180
    },
    "id": "boLjiAyP9oaF",
    "outputId": "a63a05cc-4dc8-47a9-d19e-701733d0b597"
   },
   "outputs": [
    {
     "data": {
      "application/vnd.jupyter.widget-view+json": {
       "model_id": "223e9343b81a45afa4726456a031087f",
       "version_major": 2,
       "version_minor": 0
      },
      "text/plain": [
       "VBox()"
      ]
     },
     "metadata": {},
     "output_type": "display_data"
    },
    {
     "data": {
      "application/vnd.jupyter.widget-view+json": {
       "model_id": "",
       "version_major": 2,
       "version_minor": 0
      },
      "text/plain": [
       "FloatProgress(value=0.0, bar_style='info', description='Progress:', layout=Layout(height='25px', width='50%'),…"
      ]
     },
     "metadata": {},
     "output_type": "display_data"
    },
    {
     "name": "stdout",
     "output_type": "stream",
     "text": [
      "                  precision    recall  f1-score   support\n",
      "\n",
      "Gastroenterology       0.00      0.00      0.00        25\n",
      "       Neurology       0.00      0.00      0.00        22\n",
      "      Orthopedic       0.61      1.00      0.76        35\n",
      "         Urology       0.42      0.95      0.58        20\n",
      "\n",
      "        accuracy                           0.53       102\n",
      "       macro avg       0.26      0.49      0.34       102\n",
      "    weighted avg       0.29      0.53      0.38       102"
     ]
    }
   ],
   "source": [
    "preds = clfDL_model_hc200.transform(testData_with_embeddings)\n",
    "\n",
    "preds_df = preds.select(\"category\",\"text\",\"class.result\").toPandas()\n",
    "preds_df[\"result\"] = preds_df[\"result\"].apply(lambda x : x[0])\n",
    "\n",
    "print (classification_report(preds_df[\"category\"], preds_df[\"result\"]))"
   ]
  },
  {
   "cell_type": "code",
   "execution_count": 190,
   "metadata": {
    "execution": {
     "iopub.execute_input": "2023-09-15T09:45:18.280939Z",
     "iopub.status.busy": "2023-09-15T09:45:18.280717Z",
     "iopub.status.idle": "2023-09-15T09:45:18.360189Z",
     "shell.execute_reply": "2023-09-15T09:45:18.359479Z",
     "shell.execute_reply.started": "2023-09-15T09:45:18.280908Z"
    },
    "id": "jHEd3YzlGaNA"
   },
   "outputs": [
    {
     "data": {
      "application/vnd.jupyter.widget-view+json": {
       "model_id": "144ba4732e874acaa4b9eec23ba1158e",
       "version_major": 2,
       "version_minor": 0
      },
      "text/plain": [
       "VBox()"
      ]
     },
     "metadata": {},
     "output_type": "display_data"
    },
    {
     "data": {
      "application/vnd.jupyter.widget-view+json": {
       "model_id": "",
       "version_major": 2,
       "version_minor": 0
      },
      "text/plain": [
       "FloatProgress(value=0.0, bar_style='info', description='Progress:', layout=Layout(height='25px', width='50%'),…"
      ]
     },
     "metadata": {},
     "output_type": "display_data"
    }
   ],
   "source": [
    "res = classification_report(preds_df[\"category\"], preds_df[\"result\"], output_dict=True)\n",
    "results_df.loc[\"ClassifierDL_200d\"] = [res[\"macro avg\"][\"f1-score\"], res[\"weighted avg\"][\"f1-score\"], res[\"accuracy\"]]"
   ]
  },
  {
   "cell_type": "markdown",
   "metadata": {
    "id": "y_hWPzoj9oaG"
   },
   "source": [
    "### MultiClassifierDL\n",
    "\n"
   ]
  },
  {
   "cell_type": "code",
   "execution_count": 191,
   "metadata": {
    "execution": {
     "iopub.execute_input": "2023-09-15T09:45:18.361430Z",
     "iopub.status.busy": "2023-09-15T09:45:18.361216Z",
     "iopub.status.idle": "2023-09-15T09:45:18.622641Z",
     "shell.execute_reply": "2023-09-15T09:45:18.621936Z",
     "shell.execute_reply.started": "2023-09-15T09:45:18.361401Z"
    },
    "id": "mcUXN0td9oaG"
   },
   "outputs": [
    {
     "data": {
      "application/vnd.jupyter.widget-view+json": {
       "model_id": "908ebbb5d1444b0f9c4adc9fcf6de234",
       "version_major": 2,
       "version_minor": 0
      },
      "text/plain": [
       "VBox()"
      ]
     },
     "metadata": {},
     "output_type": "display_data"
    },
    {
     "data": {
      "application/vnd.jupyter.widget-view+json": {
       "model_id": "",
       "version_major": 2,
       "version_minor": 0
      },
      "text/plain": [
       "FloatProgress(value=0.0, bar_style='info', description='Progress:', layout=Layout(height='25px', width='50%'),…"
      ]
     },
     "metadata": {},
     "output_type": "display_data"
    }
   ],
   "source": [
    "# MultiClassifierDL accepts list of strings as input label. So we convert label column to array type.\n",
    "trainingData_with_embeddings = trainingData_with_embeddings.withColumn(\"category_array\", F.array(F.col(\"category\")))\n",
    "testData_with_embeddings = testData_with_embeddings.withColumn(\"category_array\", F.array(F.col(\"category\")))"
   ]
  },
  {
   "cell_type": "code",
   "execution_count": 192,
   "metadata": {
    "execution": {
     "iopub.execute_input": "2023-09-15T09:45:18.623874Z",
     "iopub.status.busy": "2023-09-15T09:45:18.623660Z",
     "iopub.status.idle": "2023-09-15T09:45:18.681452Z",
     "shell.execute_reply": "2023-09-15T09:45:18.680782Z",
     "shell.execute_reply.started": "2023-09-15T09:45:18.623844Z"
    },
    "id": "4YBVhvLL9oaG"
   },
   "outputs": [
    {
     "data": {
      "application/vnd.jupyter.widget-view+json": {
       "model_id": "de38cee0b3334cbc8a2c52266b15491d",
       "version_major": 2,
       "version_minor": 0
      },
      "text/plain": [
       "VBox()"
      ]
     },
     "metadata": {},
     "output_type": "display_data"
    },
    {
     "data": {
      "application/vnd.jupyter.widget-view+json": {
       "model_id": "",
       "version_major": 2,
       "version_minor": 0
      },
      "text/plain": [
       "FloatProgress(value=0.0, bar_style='info', description='Progress:', layout=Layout(height='25px', width='50%'),…"
      ]
     },
     "metadata": {},
     "output_type": "display_data"
    }
   ],
   "source": [
    "multiClassifier =nlp.MultiClassifierDLApproach()\\\n",
    "  .setInputCols(\"sentence_embeddings\")\\\n",
    "  .setOutputCol(\"prediction\")\\\n",
    "  .setLabelColumn(\"category_array\")\\\n",
    "  .setBatchSize(16)\\\n",
    "  .setMaxEpochs(20)\\\n",
    "  .setLr(9e-3)\\\n",
    "  .setThreshold(0.2)\\\n",
    "  .setShufflePerEpoch(False)\\\n",
    "  .setEnableOutputLogs(True)\\\n",
    "  .setOutputLogsPath(log_folder)\\\n",
    "#   .setValidationSplit(0.1)\n",
    "\n",
    "multiClassifier_pipeline = nlp.Pipeline(\n",
    "    stages = [\n",
    "        multiClassifier\n",
    "    ])"
   ]
  },
  {
   "cell_type": "code",
   "execution_count": 193,
   "metadata": {
    "execution": {
     "iopub.execute_input": "2023-09-15T09:45:18.682582Z",
     "iopub.status.busy": "2023-09-15T09:45:18.682378Z",
     "iopub.status.idle": "2023-09-15T09:46:38.993996Z",
     "shell.execute_reply": "2023-09-15T09:46:38.993189Z",
     "shell.execute_reply.started": "2023-09-15T09:45:18.682553Z"
    },
    "id": "ABetRCmn9oaG"
   },
   "outputs": [
    {
     "data": {
      "application/vnd.jupyter.widget-view+json": {
       "model_id": "36bee56621674c2fb276e7932bfb8c3e",
       "version_major": 2,
       "version_minor": 0
      },
      "text/plain": [
       "VBox()"
      ]
     },
     "metadata": {},
     "output_type": "display_data"
    },
    {
     "data": {
      "application/vnd.jupyter.widget-view+json": {
       "model_id": "",
       "version_major": 2,
       "version_minor": 0
      },
      "text/plain": [
       "FloatProgress(value=0.0, bar_style='info', description='Progress:', layout=Layout(height='25px', width='50%'),…"
      ]
     },
     "metadata": {},
     "output_type": "display_data"
    }
   ],
   "source": [
    "multiClassifier_model_hc200 = multiClassifier_pipeline.fit(trainingData_with_embeddings)"
   ]
  },
  {
   "cell_type": "code",
   "execution_count": 194,
   "metadata": {
    "execution": {
     "iopub.execute_input": "2023-09-15T09:46:38.995140Z",
     "iopub.status.busy": "2023-09-15T09:46:38.994928Z",
     "iopub.status.idle": "2023-09-15T09:46:39.254080Z",
     "shell.execute_reply": "2023-09-15T09:46:39.253228Z",
     "shell.execute_reply.started": "2023-09-15T09:46:38.995110Z"
    },
    "id": "EdZbqqEk9oaG"
   },
   "outputs": [
    {
     "data": {
      "application/vnd.jupyter.widget-view+json": {
       "model_id": "28f48c41805a43aa8bddb01d9a654729",
       "version_major": 2,
       "version_minor": 0
      },
      "text/plain": [
       "VBox()"
      ]
     },
     "metadata": {},
     "output_type": "display_data"
    },
    {
     "data": {
      "application/vnd.jupyter.widget-view+json": {
       "model_id": "",
       "version_major": 2,
       "version_minor": 0
      },
      "text/plain": [
       "FloatProgress(value=0.0, bar_style='info', description='Progress:', layout=Layout(height='25px', width='50%'),…"
      ]
     },
     "metadata": {},
     "output_type": "display_data"
    }
   ],
   "source": [
    "preds = multiClassifier_model_hc200.transform(testData_with_embeddings)"
   ]
  },
  {
   "cell_type": "code",
   "execution_count": 195,
   "metadata": {
    "colab": {
     "base_uri": "https://localhost:8080/"
    },
    "execution": {
     "iopub.execute_input": "2023-09-15T09:46:39.255387Z",
     "iopub.status.busy": "2023-09-15T09:46:39.255130Z",
     "iopub.status.idle": "2023-09-15T09:47:00.589354Z",
     "shell.execute_reply": "2023-09-15T09:47:00.588338Z",
     "shell.execute_reply.started": "2023-09-15T09:46:39.255351Z"
    },
    "executionInfo": {
     "elapsed": 21766,
     "status": "ok",
     "timestamp": 1689672402286,
     "user": {
      "displayName": "Ahmet Mesut BİROL",
      "userId": "04340760882990254267"
     },
     "user_tz": -180
    },
    "id": "lY4vVTH29oaG",
    "outputId": "85d17eb8-7e96-4ae8-cb79-348258ff22b8"
   },
   "outputs": [
    {
     "data": {
      "application/vnd.jupyter.widget-view+json": {
       "model_id": "7739626d39af4b4cb55d831e008b76cc",
       "version_major": 2,
       "version_minor": 0
      },
      "text/plain": [
       "VBox()"
      ]
     },
     "metadata": {},
     "output_type": "display_data"
    },
    {
     "data": {
      "application/vnd.jupyter.widget-view+json": {
       "model_id": "",
       "version_major": 2,
       "version_minor": 0
      },
      "text/plain": [
       "FloatProgress(value=0.0, bar_style='info', description='Progress:', layout=Layout(height='25px', width='50%'),…"
      ]
     },
     "metadata": {},
     "output_type": "display_data"
    },
    {
     "name": "stdout",
     "output_type": "stream",
     "text": [
      "['Orthopedic']                        32\n",
      "['Gastroenterology']                  19\n",
      "['Urology']                           17\n",
      "['Neurology']                         15\n",
      "['Orthopedic', 'Neurology']            8\n",
      "['Orthopedic', 'Gastroenterology']     4\n",
      "[]                                     4\n",
      "['Urology', 'Gastroenterology']        2\n",
      "['Urology', 'Orthopedic']              1\n",
      "Name: result, dtype: int64"
     ]
    }
   ],
   "source": [
    "preds_df = preds.select(\"category\",\"text\",\"prediction.result\",\"prediction.metadata\").toPandas()\n",
    "preds_df.result.apply(lambda x: str(x) ).value_counts()"
   ]
  },
  {
   "cell_type": "code",
   "execution_count": 196,
   "metadata": {
    "colab": {
     "base_uri": "https://localhost:8080/"
    },
    "execution": {
     "iopub.execute_input": "2023-09-15T09:47:00.591449Z",
     "iopub.status.busy": "2023-09-15T09:47:00.591054Z",
     "iopub.status.idle": "2023-09-15T09:47:00.664375Z",
     "shell.execute_reply": "2023-09-15T09:47:00.663418Z",
     "shell.execute_reply.started": "2023-09-15T09:47:00.591394Z"
    },
    "executionInfo": {
     "elapsed": 41,
     "status": "ok",
     "timestamp": 1689672402287,
     "user": {
      "displayName": "Ahmet Mesut BİROL",
      "userId": "04340760882990254267"
     },
     "user_tz": -180
    },
    "id": "DOKLfZR59oaH",
    "outputId": "51a744e4-3815-4592-ba4b-aae84c97496c"
   },
   "outputs": [
    {
     "data": {
      "application/vnd.jupyter.widget-view+json": {
       "model_id": "1571ed3591e047e2bb77354d7dce5695",
       "version_major": 2,
       "version_minor": 0
      },
      "text/plain": [
       "VBox()"
      ]
     },
     "metadata": {},
     "output_type": "display_data"
    },
    {
     "data": {
      "application/vnd.jupyter.widget-view+json": {
       "model_id": "",
       "version_major": 2,
       "version_minor": 0
      },
      "text/plain": [
       "FloatProgress(value=0.0, bar_style='info', description='Progress:', layout=Layout(height='25px', width='50%'),…"
      ]
     },
     "metadata": {},
     "output_type": "display_data"
    },
    {
     "name": "stdout",
     "output_type": "stream",
     "text": [
      "Orthopedic          38\n",
      "Gastroenterology    22\n",
      "Urology             20\n",
      "Neurology           18\n",
      "Name: result, dtype: int64"
     ]
    }
   ],
   "source": [
    "# We will get the highest score label as result. you can control the number of zero label results with setThreshold() in the training.\n",
    "preds_df[\"scores\"] = preds_df.metadata.apply(lambda x: {k:float(v) for k,v in x[0].items()} if len(x)>=1 else \"\")\n",
    "preds_df[\"result\"] = preds_df.scores.apply(lambda x: max(x, key=x.get) if len(x)>=1 else \"\")\n",
    "preds_df = preds_df[(preds_df[\"result\"]!=\"\")]\n",
    "preds_df[\"result\"].value_counts()"
   ]
  },
  {
   "cell_type": "code",
   "execution_count": 197,
   "metadata": {
    "colab": {
     "base_uri": "https://localhost:8080/"
    },
    "execution": {
     "iopub.execute_input": "2023-09-15T09:47:00.666084Z",
     "iopub.status.busy": "2023-09-15T09:47:00.665758Z",
     "iopub.status.idle": "2023-09-15T09:47:00.726755Z",
     "shell.execute_reply": "2023-09-15T09:47:00.726032Z",
     "shell.execute_reply.started": "2023-09-15T09:47:00.666032Z"
    },
    "executionInfo": {
     "elapsed": 33,
     "status": "ok",
     "timestamp": 1689672402287,
     "user": {
      "displayName": "Ahmet Mesut BİROL",
      "userId": "04340760882990254267"
     },
     "user_tz": -180
    },
    "id": "2E9ibEbQ9oaH",
    "outputId": "210fe143-723a-4c68-b836-512c1f69b51f"
   },
   "outputs": [
    {
     "data": {
      "application/vnd.jupyter.widget-view+json": {
       "model_id": "28b5bf9db75143b49174552a1ddc80c3",
       "version_major": 2,
       "version_minor": 0
      },
      "text/plain": [
       "VBox()"
      ]
     },
     "metadata": {},
     "output_type": "display_data"
    },
    {
     "data": {
      "application/vnd.jupyter.widget-view+json": {
       "model_id": "",
       "version_major": 2,
       "version_minor": 0
      },
      "text/plain": [
       "FloatProgress(value=0.0, bar_style='info', description='Progress:', layout=Layout(height='25px', width='50%'),…"
      ]
     },
     "metadata": {},
     "output_type": "display_data"
    },
    {
     "name": "stdout",
     "output_type": "stream",
     "text": [
      "                  precision    recall  f1-score   support\n",
      "\n",
      "Gastroenterology       1.00      0.92      0.96        24\n",
      "       Neurology       0.89      0.80      0.84        20\n",
      "      Orthopedic       0.87      0.94      0.90        35\n",
      "         Urology       0.90      0.95      0.92        19\n",
      "\n",
      "        accuracy                           0.91        98\n",
      "       macro avg       0.91      0.90      0.91        98\n",
      "    weighted avg       0.91      0.91      0.91        98"
     ]
    }
   ],
   "source": [
    "print (classification_report(preds_df[\"category\"], preds_df[\"result\"]))"
   ]
  },
  {
   "cell_type": "code",
   "execution_count": 198,
   "metadata": {
    "execution": {
     "iopub.execute_input": "2023-09-15T09:47:00.727935Z",
     "iopub.status.busy": "2023-09-15T09:47:00.727725Z",
     "iopub.status.idle": "2023-09-15T09:47:00.781706Z",
     "shell.execute_reply": "2023-09-15T09:47:00.780983Z",
     "shell.execute_reply.started": "2023-09-15T09:47:00.727906Z"
    },
    "id": "4k4DsJU6GjLS"
   },
   "outputs": [
    {
     "data": {
      "application/vnd.jupyter.widget-view+json": {
       "model_id": "71cfba93e47b40d983cc5b8e60e4741a",
       "version_major": 2,
       "version_minor": 0
      },
      "text/plain": [
       "VBox()"
      ]
     },
     "metadata": {},
     "output_type": "display_data"
    },
    {
     "data": {
      "application/vnd.jupyter.widget-view+json": {
       "model_id": "",
       "version_major": 2,
       "version_minor": 0
      },
      "text/plain": [
       "FloatProgress(value=0.0, bar_style='info', description='Progress:', layout=Layout(height='25px', width='50%'),…"
      ]
     },
     "metadata": {},
     "output_type": "display_data"
    }
   ],
   "source": [
    "res = classification_report(preds_df[\"category\"], preds_df[\"result\"], output_dict=True)\n",
    "results_df.loc[\"MultiClassifierDL_200d\"] = [res[\"macro avg\"][\"f1-score\"], res[\"weighted avg\"][\"f1-score\"], res[\"accuracy\"]]"
   ]
  },
  {
   "cell_type": "markdown",
   "metadata": {
    "id": "7gUOXo5W9oaH"
   },
   "source": [
    "### Generic Classifier"
   ]
  },
  {
   "cell_type": "code",
   "execution_count": 199,
   "metadata": {
    "execution": {
     "iopub.execute_input": "2023-09-15T09:47:00.782839Z",
     "iopub.status.busy": "2023-09-15T09:47:00.782598Z",
     "iopub.status.idle": "2023-09-15T09:47:00.837101Z",
     "shell.execute_reply": "2023-09-15T09:47:00.836411Z",
     "shell.execute_reply.started": "2023-09-15T09:47:00.782793Z"
    },
    "id": "YaFaVvVg9oaH"
   },
   "outputs": [
    {
     "data": {
      "application/vnd.jupyter.widget-view+json": {
       "model_id": "6558c3a527e6459ebc2d7ef10bdbdf5f",
       "version_major": 2,
       "version_minor": 0
      },
      "text/plain": [
       "VBox()"
      ]
     },
     "metadata": {},
     "output_type": "display_data"
    },
    {
     "data": {
      "application/vnd.jupyter.widget-view+json": {
       "model_id": "",
       "version_major": 2,
       "version_minor": 0
      },
      "text/plain": [
       "FloatProgress(value=0.0, bar_style='info', description='Progress:', layout=Layout(height='25px', width='50%'),…"
      ]
     },
     "metadata": {},
     "output_type": "display_data"
    }
   ],
   "source": [
    "# !pip install -q tensorflow==2.7.0 tensorflow_addons"
   ]
  },
  {
   "cell_type": "code",
   "execution_count": 200,
   "metadata": {
    "execution": {
     "iopub.execute_input": "2023-09-15T09:47:00.838278Z",
     "iopub.status.busy": "2023-09-15T09:47:00.838064Z",
     "iopub.status.idle": "2023-09-15T09:47:00.895481Z",
     "shell.execute_reply": "2023-09-15T09:47:00.894506Z",
     "shell.execute_reply.started": "2023-09-15T09:47:00.838247Z"
    },
    "id": "sRkEeD1N9oaH"
   },
   "outputs": [
    {
     "data": {
      "application/vnd.jupyter.widget-view+json": {
       "model_id": "9823766739114bc7b279c386cbd22ddb",
       "version_major": 2,
       "version_minor": 0
      },
      "text/plain": [
       "VBox()"
      ]
     },
     "metadata": {},
     "output_type": "display_data"
    },
    {
     "data": {
      "application/vnd.jupyter.widget-view+json": {
       "model_id": "",
       "version_major": 2,
       "version_minor": 0
      },
      "text/plain": [
       "FloatProgress(value=0.0, bar_style='info', description='Progress:', layout=Layout(height='25px', width='50%'),…"
      ]
     },
     "metadata": {},
     "output_type": "display_data"
    }
   ],
   "source": [
    "from sparknlp_jsl.annotator import TFGraphBuilder\n",
    "\n",
    "graph_folder = \"/tmp/gc_graph\"\n",
    "\n",
    "gc_graph_builder =medical.TFGraphBuilder()\\\n",
    "    .setModelName(\"generic_classifier\")\\\n",
    "    .setInputCols([\"features\"])\\\n",
    "    .setLabelColumn(\"category\")\\\n",
    "    .setHiddenLayers([300,200, 50])\\\n",
    "    .setHiddenAct(\"tanh\")\\\n",
    "    .setHiddenActL2(True)\\\n",
    "    .setBatchNorm(True)\\\n",
    "    .setGraphFolder(graph_folder)\\\n",
    "    .setGraphFile(\"gcf_graph_200d.pb\")"
   ]
  },
  {
   "cell_type": "code",
   "execution_count": 201,
   "metadata": {
    "execution": {
     "iopub.execute_input": "2023-09-15T09:47:00.898463Z",
     "iopub.status.busy": "2023-09-15T09:47:00.898235Z",
     "iopub.status.idle": "2023-09-15T09:47:00.956544Z",
     "shell.execute_reply": "2023-09-15T09:47:00.955827Z",
     "shell.execute_reply.started": "2023-09-15T09:47:00.898431Z"
    },
    "id": "NhVTwRJP9oaH"
   },
   "outputs": [
    {
     "data": {
      "application/vnd.jupyter.widget-view+json": {
       "model_id": "d209f01467d94811b099cf7258f4bbac",
       "version_major": 2,
       "version_minor": 0
      },
      "text/plain": [
       "VBox()"
      ]
     },
     "metadata": {},
     "output_type": "display_data"
    },
    {
     "data": {
      "application/vnd.jupyter.widget-view+json": {
       "model_id": "",
       "version_major": 2,
       "version_minor": 0
      },
      "text/plain": [
       "FloatProgress(value=0.0, bar_style='info', description='Progress:', layout=Layout(height='25px', width='50%'),…"
      ]
     },
     "metadata": {},
     "output_type": "display_data"
    }
   ],
   "source": [
    "features_asm =medical.FeaturesAssembler()\\\n",
    "    .setInputCols([\"sentence_embeddings\"])\\\n",
    "    .setOutputCol(\"features\")\n",
    "\n",
    "gen_clf =medical.GenericClassifierApproach()\\\n",
    "    .setLabelColumn(\"category\")\\\n",
    "    .setInputCols(\"features\")\\\n",
    "    .setOutputCol(\"prediction\")\\\n",
    "    .setModelFile(f\"{graph_folder}/gcf_graph_200d.pb\")\\\n",
    "    .setEpochsNumber(30)\\\n",
    "    .setBatchSize(32)\\\n",
    "    .setLearningRate(0.001)\\\n",
    "    .setOutputLogsPath(log_folder)\\\n",
    "    .setDropout(0.3)\\\n",
    "    .setFixImbalance(True)\\\n",
    "    # .setValidationSplit(0.1)\n",
    "\n",
    "clf_Pipeline = nlp.Pipeline(stages=[\n",
    "    features_asm,\n",
    "    gc_graph_builder,\n",
    "    gen_clf])\n"
   ]
  },
  {
   "cell_type": "code",
   "execution_count": 202,
   "metadata": {
    "colab": {
     "base_uri": "https://localhost:8080/"
    },
    "execution": {
     "iopub.execute_input": "2023-09-15T09:47:00.958093Z",
     "iopub.status.busy": "2023-09-15T09:47:00.957870Z",
     "iopub.status.idle": "2023-09-15T09:47:26.521463Z",
     "shell.execute_reply": "2023-09-15T09:47:26.520707Z",
     "shell.execute_reply.started": "2023-09-15T09:47:00.958062Z"
    },
    "executionInfo": {
     "elapsed": 16027,
     "status": "ok",
     "timestamp": 1689672418295,
     "user": {
      "displayName": "Ahmet Mesut BİROL",
      "userId": "04340760882990254267"
     },
     "user_tz": -180
    },
    "id": "98tT6yJQ9oaH",
    "outputId": "d65dd521-9b94-44a6-ede1-d794320eac23"
   },
   "outputs": [
    {
     "data": {
      "application/vnd.jupyter.widget-view+json": {
       "model_id": "2c091f5547814939b1d4a2364b4fa9f4",
       "version_major": 2,
       "version_minor": 0
      },
      "text/plain": [
       "VBox()"
      ]
     },
     "metadata": {},
     "output_type": "display_data"
    },
    {
     "data": {
      "application/vnd.jupyter.widget-view+json": {
       "model_id": "",
       "version_major": 2,
       "version_minor": 0
      },
      "text/plain": [
       "FloatProgress(value=0.0, bar_style='info', description='Progress:', layout=Layout(height='25px', width='50%'),…"
      ]
     },
     "metadata": {},
     "output_type": "display_data"
    },
    {
     "name": "stdout",
     "output_type": "stream",
     "text": [
      "TF Graph Builder configuration:\n",
      "Model name: generic_classifier\n",
      "Graph folder: /tmp/gc_graph\n",
      "Graph file name: gcf_graph_200d.pb\n",
      "Build params: {'input_dim': 200, 'output_dim': 4, 'hidden_layers': [300, 200, 50], 'hidden_act': 'tanh', 'hidden_act_l2': True, 'batch_norm': True}\n",
      "generic_classifier graph exported to /tmp/gc_graph/gcf_graph_200d.pb"
     ]
    }
   ],
   "source": [
    "generic_model_hc200 = clf_Pipeline.fit(trainingData_with_embeddings)"
   ]
  },
  {
   "cell_type": "code",
   "execution_count": 203,
   "metadata": {
    "colab": {
     "base_uri": "https://localhost:8080/"
    },
    "execution": {
     "iopub.execute_input": "2023-09-15T09:47:26.522725Z",
     "iopub.status.busy": "2023-09-15T09:47:26.522492Z",
     "iopub.status.idle": "2023-09-15T09:47:33.815779Z",
     "shell.execute_reply": "2023-09-15T09:47:33.814990Z",
     "shell.execute_reply.started": "2023-09-15T09:47:26.522693Z"
    },
    "executionInfo": {
     "elapsed": 6633,
     "status": "ok",
     "timestamp": 1689672424925,
     "user": {
      "displayName": "Ahmet Mesut BİROL",
      "userId": "04340760882990254267"
     },
     "user_tz": -180
    },
    "id": "hsId-8YF9oaI",
    "outputId": "f48e1b47-5fa5-4851-f348-d17b2ef74326"
   },
   "outputs": [
    {
     "data": {
      "application/vnd.jupyter.widget-view+json": {
       "model_id": "e6142103db6a4e7fa8271265c6a7717d",
       "version_major": 2,
       "version_minor": 0
      },
      "text/plain": [
       "VBox()"
      ]
     },
     "metadata": {},
     "output_type": "display_data"
    },
    {
     "data": {
      "application/vnd.jupyter.widget-view+json": {
       "model_id": "",
       "version_major": 2,
       "version_minor": 0
      },
      "text/plain": [
       "FloatProgress(value=0.0, bar_style='info', description='Progress:', layout=Layout(height='25px', width='50%'),…"
      ]
     },
     "metadata": {},
     "output_type": "display_data"
    },
    {
     "name": "stdout",
     "output_type": "stream",
     "text": [
      "                  precision    recall  f1-score   support\n",
      "\n",
      "Gastroenterology       1.00      0.80      0.89        25\n",
      "       Neurology       0.89      0.73      0.80        22\n",
      "      Orthopedic       0.92      0.94      0.93        35\n",
      "         Urology       0.71      1.00      0.83        20\n",
      "\n",
      "        accuracy                           0.87       102\n",
      "       macro avg       0.88      0.87      0.86       102\n",
      "    weighted avg       0.89      0.87      0.87       102"
     ]
    }
   ],
   "source": [
    "pred_df = generic_model_hc200.transform(testData_with_embeddings)\n",
    "\n",
    "preds_df = pred_df.select('category','prediction.result').toPandas()\n",
    "preds_df['result'] = preds_df.result.apply(lambda x : x[0])\n",
    "\n",
    "print (classification_report(preds_df['category'], preds_df['result']))"
   ]
  },
  {
   "cell_type": "code",
   "execution_count": 204,
   "metadata": {
    "execution": {
     "iopub.execute_input": "2023-09-15T09:47:33.816961Z",
     "iopub.status.busy": "2023-09-15T09:47:33.816735Z",
     "iopub.status.idle": "2023-09-15T09:47:33.873848Z",
     "shell.execute_reply": "2023-09-15T09:47:33.873179Z",
     "shell.execute_reply.started": "2023-09-15T09:47:33.816929Z"
    },
    "id": "qKr5sAdiGoRJ"
   },
   "outputs": [
    {
     "data": {
      "application/vnd.jupyter.widget-view+json": {
       "model_id": "3fbfbb4c36174489ba530657948b40e1",
       "version_major": 2,
       "version_minor": 0
      },
      "text/plain": [
       "VBox()"
      ]
     },
     "metadata": {},
     "output_type": "display_data"
    },
    {
     "data": {
      "application/vnd.jupyter.widget-view+json": {
       "model_id": "",
       "version_major": 2,
       "version_minor": 0
      },
      "text/plain": [
       "FloatProgress(value=0.0, bar_style='info', description='Progress:', layout=Layout(height='25px', width='50%'),…"
      ]
     },
     "metadata": {},
     "output_type": "display_data"
    }
   ],
   "source": [
    "res = classification_report(preds_df[\"category\"], preds_df[\"result\"], output_dict=True)\n",
    "results_df.loc[\"GenericClassifier_200d\"] = [res[\"macro avg\"][\"f1-score\"], res[\"weighted avg\"][\"f1-score\"], res[\"accuracy\"]]"
   ]
  },
  {
   "cell_type": "markdown",
   "metadata": {
    "id": "yz9TOU2DXReN"
   },
   "source": [
    "### GenericLogRegClassifier"
   ]
  },
  {
   "cell_type": "code",
   "execution_count": 205,
   "metadata": {
    "execution": {
     "iopub.execute_input": "2023-09-15T09:47:33.875016Z",
     "iopub.status.busy": "2023-09-15T09:47:33.874787Z",
     "iopub.status.idle": "2023-09-15T09:47:34.127314Z",
     "shell.execute_reply": "2023-09-15T09:47:34.126593Z",
     "shell.execute_reply.started": "2023-09-15T09:47:33.874987Z"
    },
    "id": "w-_bSCH6XReN"
   },
   "outputs": [
    {
     "data": {
      "application/vnd.jupyter.widget-view+json": {
       "model_id": "941a5c866a284f448d31955cd816fc00",
       "version_major": 2,
       "version_minor": 0
      },
      "text/plain": [
       "VBox()"
      ]
     },
     "metadata": {},
     "output_type": "display_data"
    },
    {
     "data": {
      "application/vnd.jupyter.widget-view+json": {
       "model_id": "",
       "version_major": 2,
       "version_minor": 0
      },
      "text/plain": [
       "FloatProgress(value=0.0, bar_style='info', description='Progress:', layout=Layout(height='25px', width='50%'),…"
      ]
     },
     "metadata": {},
     "output_type": "display_data"
    }
   ],
   "source": [
    "graph_folder = \"/tmp/gc_graph\"\n",
    "\n",
    "gc_logreg_graph_builder = medical.TFGraphBuilder()\\\n",
    "    .setModelName(\"logreg_classifier\")\\\n",
    "    .setInputCols([\"feature_vector\"]) \\\n",
    "    .setLabelColumn(\"category\")\\\n",
    "    .setGraphFolder(graph_folder)\\\n",
    "    .setGraphFile(\"log_reg_graph.pb\")"
   ]
  },
  {
   "cell_type": "markdown",
   "metadata": {
    "id": "e2JtY0P5XReN"
   },
   "source": [
    "GenericLogRegClassifier needs outputs from FeaturesAssembler. The FeaturesAssembler is used to collect features from different columns or an embeddings column.\n",
    "\n",
    "The GenericLogRegClassifier takes FEATURE_VECTOR annotations as input, classifies them and outputs CATEGORY annotations."
   ]
  },
  {
   "cell_type": "code",
   "execution_count": 206,
   "metadata": {
    "execution": {
     "iopub.execute_input": "2023-09-15T09:47:34.128514Z",
     "iopub.status.busy": "2023-09-15T09:47:34.128296Z",
     "iopub.status.idle": "2023-09-15T09:47:34.182630Z",
     "shell.execute_reply": "2023-09-15T09:47:34.181915Z",
     "shell.execute_reply.started": "2023-09-15T09:47:34.128483Z"
    },
    "id": "baz581gzXReN"
   },
   "outputs": [
    {
     "data": {
      "application/vnd.jupyter.widget-view+json": {
       "model_id": "9d585274a90545688aa1e15bc6cf7582",
       "version_major": 2,
       "version_minor": 0
      },
      "text/plain": [
       "VBox()"
      ]
     },
     "metadata": {},
     "output_type": "display_data"
    },
    {
     "data": {
      "application/vnd.jupyter.widget-view+json": {
       "model_id": "",
       "version_major": 2,
       "version_minor": 0
      },
      "text/plain": [
       "FloatProgress(value=0.0, bar_style='info', description='Progress:', layout=Layout(height='25px', width='50%'),…"
      ]
     },
     "metadata": {},
     "output_type": "display_data"
    }
   ],
   "source": [
    "features_asm = medical.FeaturesAssembler()\\\n",
    "    .setInputCols([\"sentence_embeddings\"])\\\n",
    "    .setOutputCol(\"feature_vector\")\n",
    "\n",
    "gen_clf = medical.GenericLogRegClassifierApproach()\\\n",
    "    .setLabelColumn(\"category\")\\\n",
    "    .setInputCols(\"feature_vector\")\\\n",
    "    .setOutputCol(\"prediction\")\\\n",
    "    .setModelFile(f\"{graph_folder}/log_reg_graph.pb\")\\\n",
    "    .setEpochsNumber(45)\\\n",
    "    .setBatchSize(32)\\\n",
    "    .setLearningRate(0.02)\\\n",
    "    .setOutputLogsPath(log_folder)\\\n",
    "    .setDropout(0.1)\\\n",
    "    .setFixImbalance(True)\\\n",
    "    # .setValidationSplit(0.1)\n",
    "\n",
    "clf_Pipeline = nlp.Pipeline(stages=[\n",
    "    features_asm,\n",
    "    gc_logreg_graph_builder,\n",
    "    gen_clf])\n"
   ]
  },
  {
   "cell_type": "code",
   "execution_count": 207,
   "metadata": {
    "colab": {
     "base_uri": "https://localhost:8080/"
    },
    "execution": {
     "iopub.execute_input": "2023-09-15T09:47:34.183802Z",
     "iopub.status.busy": "2023-09-15T09:47:34.183594Z",
     "iopub.status.idle": "2023-09-15T09:48:03.802380Z",
     "shell.execute_reply": "2023-09-15T09:48:03.801669Z",
     "shell.execute_reply.started": "2023-09-15T09:47:34.183774Z"
    },
    "executionInfo": {
     "elapsed": 14366,
     "status": "ok",
     "timestamp": 1689672439270,
     "user": {
      "displayName": "Ahmet Mesut BİROL",
      "userId": "04340760882990254267"
     },
     "user_tz": -180
    },
    "id": "jVoRHwNmXReO",
    "outputId": "f58f3d08-997a-497d-ece9-f41ee180b58a"
   },
   "outputs": [
    {
     "data": {
      "application/vnd.jupyter.widget-view+json": {
       "model_id": "0de37ce262234723bc7bdb63bdcc854f",
       "version_major": 2,
       "version_minor": 0
      },
      "text/plain": [
       "VBox()"
      ]
     },
     "metadata": {},
     "output_type": "display_data"
    },
    {
     "data": {
      "application/vnd.jupyter.widget-view+json": {
       "model_id": "",
       "version_major": 2,
       "version_minor": 0
      },
      "text/plain": [
       "FloatProgress(value=0.0, bar_style='info', description='Progress:', layout=Layout(height='25px', width='50%'),…"
      ]
     },
     "metadata": {},
     "output_type": "display_data"
    },
    {
     "name": "stdout",
     "output_type": "stream",
     "text": [
      "TF Graph Builder configuration:\n",
      "Model name: logreg_classifier\n",
      "Graph folder: /tmp/gc_graph\n",
      "Graph file name: log_reg_graph.pb\n",
      "Build params: {'input_dim': 200, 'output_dim': 4, 'hidden_layers': [], 'output_act': 'sigmoid'}\n",
      "logreg_classifier graph exported to /tmp/gc_graph/log_reg_graph.pb"
     ]
    }
   ],
   "source": [
    "generic_model_hc200 = clf_Pipeline.fit(trainingData_with_embeddings)"
   ]
  },
  {
   "cell_type": "code",
   "execution_count": 208,
   "metadata": {
    "execution": {
     "iopub.execute_input": "2023-09-15T09:48:03.803663Z",
     "iopub.status.busy": "2023-09-15T09:48:03.803437Z",
     "iopub.status.idle": "2023-09-15T09:48:07.087079Z",
     "shell.execute_reply": "2023-09-15T09:48:07.086374Z",
     "shell.execute_reply.started": "2023-09-15T09:48:03.803632Z"
    },
    "id": "uHg_HbimXReO"
   },
   "outputs": [
    {
     "data": {
      "application/vnd.jupyter.widget-view+json": {
       "model_id": "d3b5e9164a1945bb8dabec510533a78a",
       "version_major": 2,
       "version_minor": 0
      },
      "text/plain": [
       "VBox()"
      ]
     },
     "metadata": {},
     "output_type": "display_data"
    },
    {
     "data": {
      "application/vnd.jupyter.widget-view+json": {
       "model_id": "",
       "version_major": 2,
       "version_minor": 0
      },
      "text/plain": [
       "FloatProgress(value=0.0, bar_style='info', description='Progress:', layout=Layout(height='25px', width='50%'),…"
      ]
     },
     "metadata": {},
     "output_type": "display_data"
    }
   ],
   "source": [
    "pred_df = generic_model_hc200.transform(testData_with_embeddings)"
   ]
  },
  {
   "cell_type": "code",
   "execution_count": 209,
   "metadata": {
    "colab": {
     "base_uri": "https://localhost:8080/"
    },
    "execution": {
     "iopub.execute_input": "2023-09-15T09:48:07.088323Z",
     "iopub.status.busy": "2023-09-15T09:48:07.088102Z",
     "iopub.status.idle": "2023-09-15T09:48:10.371914Z",
     "shell.execute_reply": "2023-09-15T09:48:10.370945Z",
     "shell.execute_reply.started": "2023-09-15T09:48:07.088292Z"
    },
    "executionInfo": {
     "elapsed": 3661,
     "status": "ok",
     "timestamp": 1689672446300,
     "user": {
      "displayName": "Ahmet Mesut BİROL",
      "userId": "04340760882990254267"
     },
     "user_tz": -180
    },
    "id": "NjByOpYPXReO",
    "outputId": "c363bdff-64f6-4d3c-93fe-9b3725eb0093"
   },
   "outputs": [
    {
     "data": {
      "application/vnd.jupyter.widget-view+json": {
       "model_id": "9b9f3f9598a8423b829639800f0097f2",
       "version_major": 2,
       "version_minor": 0
      },
      "text/plain": [
       "VBox()"
      ]
     },
     "metadata": {},
     "output_type": "display_data"
    },
    {
     "data": {
      "application/vnd.jupyter.widget-view+json": {
       "model_id": "",
       "version_major": 2,
       "version_minor": 0
      },
      "text/plain": [
       "FloatProgress(value=0.0, bar_style='info', description='Progress:', layout=Layout(height='25px', width='50%'),…"
      ]
     },
     "metadata": {},
     "output_type": "display_data"
    },
    {
     "name": "stdout",
     "output_type": "stream",
     "text": [
      "                  precision    recall  f1-score   support\n",
      "\n",
      "Gastroenterology       0.88      0.84      0.86        25\n",
      "       Neurology       0.80      0.73      0.76        22\n",
      "      Orthopedic       0.84      0.91      0.88        35\n",
      "         Urology       0.80      0.80      0.80        20\n",
      "\n",
      "        accuracy                           0.83       102\n",
      "       macro avg       0.83      0.82      0.82       102\n",
      "    weighted avg       0.83      0.83      0.83       102"
     ]
    }
   ],
   "source": [
    "preds_df = pred_df.select('category','prediction.result').toPandas()\n",
    "preds_df['result'] = preds_df.result.apply(lambda x : x[0])\n",
    "\n",
    "print (classification_report(preds_df['category'], preds_df['result']))"
   ]
  },
  {
   "cell_type": "code",
   "execution_count": 210,
   "metadata": {
    "execution": {
     "iopub.execute_input": "2023-09-15T09:48:10.373127Z",
     "iopub.status.busy": "2023-09-15T09:48:10.372905Z",
     "iopub.status.idle": "2023-09-15T09:48:10.430214Z",
     "shell.execute_reply": "2023-09-15T09:48:10.429413Z",
     "shell.execute_reply.started": "2023-09-15T09:48:10.373097Z"
    },
    "id": "nOxbaJzfGwdP"
   },
   "outputs": [
    {
     "data": {
      "application/vnd.jupyter.widget-view+json": {
       "model_id": "cee715dbcf1146d79da5de974474ad2e",
       "version_major": 2,
       "version_minor": 0
      },
      "text/plain": [
       "VBox()"
      ]
     },
     "metadata": {},
     "output_type": "display_data"
    },
    {
     "data": {
      "application/vnd.jupyter.widget-view+json": {
       "model_id": "",
       "version_major": 2,
       "version_minor": 0
      },
      "text/plain": [
       "FloatProgress(value=0.0, bar_style='info', description='Progress:', layout=Layout(height='25px', width='50%'),…"
      ]
     },
     "metadata": {},
     "output_type": "display_data"
    }
   ],
   "source": [
    "res = classification_report(preds_df[\"category\"], preds_df[\"result\"], output_dict=True)\n",
    "results_df.loc[\"GenericLogReg_200d\"] = [res[\"macro avg\"][\"f1-score\"], res[\"weighted avg\"][\"f1-score\"], res[\"accuracy\"]]"
   ]
  },
  {
   "cell_type": "markdown",
   "metadata": {
    "id": "1lkESKp6XaCP"
   },
   "source": [
    "### GenericSVMClassifier"
   ]
  },
  {
   "cell_type": "code",
   "execution_count": 211,
   "metadata": {
    "execution": {
     "iopub.execute_input": "2023-09-15T09:48:10.431429Z",
     "iopub.status.busy": "2023-09-15T09:48:10.431182Z",
     "iopub.status.idle": "2023-09-15T09:48:10.487416Z",
     "shell.execute_reply": "2023-09-15T09:48:10.486595Z",
     "shell.execute_reply.started": "2023-09-15T09:48:10.431398Z"
    },
    "id": "gs_iLR10XaCP"
   },
   "outputs": [
    {
     "data": {
      "application/vnd.jupyter.widget-view+json": {
       "model_id": "fe05b3146d02456fa8840aced82b67c2",
       "version_major": 2,
       "version_minor": 0
      },
      "text/plain": [
       "VBox()"
      ]
     },
     "metadata": {},
     "output_type": "display_data"
    },
    {
     "data": {
      "application/vnd.jupyter.widget-view+json": {
       "model_id": "",
       "version_major": 2,
       "version_minor": 0
      },
      "text/plain": [
       "FloatProgress(value=0.0, bar_style='info', description='Progress:', layout=Layout(height='25px', width='50%'),…"
      ]
     },
     "metadata": {},
     "output_type": "display_data"
    }
   ],
   "source": [
    "graph_folder = \"/tmp/gc_graph\"\n",
    "\n",
    "gc_svm_graph_builder = medical.TFGraphBuilder()\\\n",
    "    .setModelName(\"svm_classifier\")\\\n",
    "    .setInputCols([\"feature_vector\"]) \\\n",
    "    .setLabelColumn(\"category\")\\\n",
    "    .setGraphFolder(graph_folder)\\\n",
    "    .setGraphFile(\"svm_graph.pb\")"
   ]
  },
  {
   "cell_type": "markdown",
   "metadata": {
    "id": "EMVMo7DKXaCP"
   },
   "source": [
    "GenericSVMClassifier needs outputs from FeaturesAssembler. The FeaturesAssembler is used to collect features from different columns or an embeddings column.\n",
    "\n",
    "The GenericSVMClassifier takes FEATURE_VECTOR annotations as input, classifies them and outputs CATEGORY annotations."
   ]
  },
  {
   "cell_type": "code",
   "execution_count": 212,
   "metadata": {
    "execution": {
     "iopub.execute_input": "2023-09-15T09:48:10.488596Z",
     "iopub.status.busy": "2023-09-15T09:48:10.488373Z",
     "iopub.status.idle": "2023-09-15T09:48:10.548535Z",
     "shell.execute_reply": "2023-09-15T09:48:10.547765Z",
     "shell.execute_reply.started": "2023-09-15T09:48:10.488566Z"
    },
    "id": "QVu8zWtJXaCQ"
   },
   "outputs": [
    {
     "data": {
      "application/vnd.jupyter.widget-view+json": {
       "model_id": "963dc90eede548ff9432265e85d61b83",
       "version_major": 2,
       "version_minor": 0
      },
      "text/plain": [
       "VBox()"
      ]
     },
     "metadata": {},
     "output_type": "display_data"
    },
    {
     "data": {
      "application/vnd.jupyter.widget-view+json": {
       "model_id": "",
       "version_major": 2,
       "version_minor": 0
      },
      "text/plain": [
       "FloatProgress(value=0.0, bar_style='info', description='Progress:', layout=Layout(height='25px', width='50%'),…"
      ]
     },
     "metadata": {},
     "output_type": "display_data"
    }
   ],
   "source": [
    "features_asm = medical.FeaturesAssembler()\\\n",
    "    .setInputCols([\"sentence_embeddings\"])\\\n",
    "    .setOutputCol(\"feature_vector\")\n",
    "\n",
    "gen_clf = medical.GenericSVMClassifierApproach()\\\n",
    "    .setLabelColumn(\"category\")\\\n",
    "    .setInputCols(\"feature_vector\")\\\n",
    "    .setOutputCol(\"prediction\")\\\n",
    "    .setModelFile(f\"{graph_folder}/svm_graph.pb\")\\\n",
    "    .setEpochsNumber(45)\\\n",
    "    .setBatchSize(32)\\\n",
    "    .setLearningRate(0.02)\\\n",
    "    .setOutputLogsPath(log_folder)\\\n",
    "    .setDropout(0.1)\\\n",
    "    .setFixImbalance(True)\\\n",
    "    # .setValidationSplit(0.1)\n",
    "\n",
    "clf_Pipeline = nlp.Pipeline(stages=[\n",
    "    features_asm,\n",
    "    gc_svm_graph_builder,\n",
    "    gen_clf])\n"
   ]
  },
  {
   "cell_type": "code",
   "execution_count": 213,
   "metadata": {
    "colab": {
     "base_uri": "https://localhost:8080/"
    },
    "execution": {
     "iopub.execute_input": "2023-09-15T09:48:10.549746Z",
     "iopub.status.busy": "2023-09-15T09:48:10.549496Z",
     "iopub.status.idle": "2023-09-15T09:48:44.154779Z",
     "shell.execute_reply": "2023-09-15T09:48:44.154026Z",
     "shell.execute_reply.started": "2023-09-15T09:48:10.549716Z"
    },
    "executionInfo": {
     "elapsed": 13591,
     "status": "ok",
     "timestamp": 1689672459867,
     "user": {
      "displayName": "Ahmet Mesut BİROL",
      "userId": "04340760882990254267"
     },
     "user_tz": -180
    },
    "id": "DPRquqVZXaCQ",
    "outputId": "b1c041ff-a33d-40ee-ecf8-dde47e50ae62"
   },
   "outputs": [
    {
     "data": {
      "application/vnd.jupyter.widget-view+json": {
       "model_id": "d1b5387fd3b84775bc2de980a1b54009",
       "version_major": 2,
       "version_minor": 0
      },
      "text/plain": [
       "VBox()"
      ]
     },
     "metadata": {},
     "output_type": "display_data"
    },
    {
     "data": {
      "application/vnd.jupyter.widget-view+json": {
       "model_id": "",
       "version_major": 2,
       "version_minor": 0
      },
      "text/plain": [
       "FloatProgress(value=0.0, bar_style='info', description='Progress:', layout=Layout(height='25px', width='50%'),…"
      ]
     },
     "metadata": {},
     "output_type": "display_data"
    },
    {
     "name": "stdout",
     "output_type": "stream",
     "text": [
      "TF Graph Builder configuration:\n",
      "Model name: svm_classifier\n",
      "Graph folder: /tmp/gc_graph\n",
      "Graph file name: svm_graph.pb\n",
      "Build params: {'input_dim': 200, 'output_dim': 4, 'hidden_layers': [], 'output_act': 'sigmoid', 'loss_func': 'hinge'}\n",
      "svm_classifier graph exported to /tmp/gc_graph/svm_graph.pb"
     ]
    }
   ],
   "source": [
    "generic_model_hc200 = clf_Pipeline.fit(trainingData_with_embeddings)"
   ]
  },
  {
   "cell_type": "code",
   "execution_count": 214,
   "metadata": {
    "execution": {
     "iopub.execute_input": "2023-09-15T09:48:44.155970Z",
     "iopub.status.busy": "2023-09-15T09:48:44.155754Z",
     "iopub.status.idle": "2023-09-15T09:48:47.437158Z",
     "shell.execute_reply": "2023-09-15T09:48:47.436378Z",
     "shell.execute_reply.started": "2023-09-15T09:48:44.155940Z"
    },
    "id": "sgC_XhZJXaCQ"
   },
   "outputs": [
    {
     "data": {
      "application/vnd.jupyter.widget-view+json": {
       "model_id": "95281b63d6e14783b57c5ac2d9670551",
       "version_major": 2,
       "version_minor": 0
      },
      "text/plain": [
       "VBox()"
      ]
     },
     "metadata": {},
     "output_type": "display_data"
    },
    {
     "data": {
      "application/vnd.jupyter.widget-view+json": {
       "model_id": "",
       "version_major": 2,
       "version_minor": 0
      },
      "text/plain": [
       "FloatProgress(value=0.0, bar_style='info', description='Progress:', layout=Layout(height='25px', width='50%'),…"
      ]
     },
     "metadata": {},
     "output_type": "display_data"
    }
   ],
   "source": [
    "pred_df = generic_model_hc200.transform(testData_with_embeddings)"
   ]
  },
  {
   "cell_type": "code",
   "execution_count": 215,
   "metadata": {
    "colab": {
     "base_uri": "https://localhost:8080/"
    },
    "execution": {
     "iopub.execute_input": "2023-09-15T09:48:47.438727Z",
     "iopub.status.busy": "2023-09-15T09:48:47.438444Z",
     "iopub.status.idle": "2023-09-15T09:48:50.726212Z",
     "shell.execute_reply": "2023-09-15T09:48:50.725309Z",
     "shell.execute_reply.started": "2023-09-15T09:48:47.438673Z"
    },
    "executionInfo": {
     "elapsed": 3083,
     "status": "ok",
     "timestamp": 1689672466187,
     "user": {
      "displayName": "Ahmet Mesut BİROL",
      "userId": "04340760882990254267"
     },
     "user_tz": -180
    },
    "id": "05LprRjwXaCR",
    "outputId": "673c8341-a19b-4e8a-d415-a6248eebeb54"
   },
   "outputs": [
    {
     "data": {
      "application/vnd.jupyter.widget-view+json": {
       "model_id": "756e5d21187e486780cff4cabe3b9682",
       "version_major": 2,
       "version_minor": 0
      },
      "text/plain": [
       "VBox()"
      ]
     },
     "metadata": {},
     "output_type": "display_data"
    },
    {
     "data": {
      "application/vnd.jupyter.widget-view+json": {
       "model_id": "",
       "version_major": 2,
       "version_minor": 0
      },
      "text/plain": [
       "FloatProgress(value=0.0, bar_style='info', description='Progress:', layout=Layout(height='25px', width='50%'),…"
      ]
     },
     "metadata": {},
     "output_type": "display_data"
    },
    {
     "name": "stdout",
     "output_type": "stream",
     "text": [
      "                  precision    recall  f1-score   support\n",
      "\n",
      "Gastroenterology       1.00      0.84      0.91        25\n",
      "       Neurology       0.83      0.86      0.84        22\n",
      "      Orthopedic       0.86      0.91      0.89        35\n",
      "         Urology       0.86      0.90      0.88        20\n",
      "\n",
      "        accuracy                           0.88       102\n",
      "       macro avg       0.89      0.88      0.88       102\n",
      "    weighted avg       0.89      0.88      0.88       102"
     ]
    }
   ],
   "source": [
    "preds_df = pred_df.select('category','prediction.result').toPandas()\n",
    "preds_df['result'] = preds_df.result.apply(lambda x : x[0])\n",
    "\n",
    "print (classification_report(preds_df['category'], preds_df['result']))"
   ]
  },
  {
   "cell_type": "code",
   "execution_count": 216,
   "metadata": {
    "execution": {
     "iopub.execute_input": "2023-09-15T09:48:50.727553Z",
     "iopub.status.busy": "2023-09-15T09:48:50.727266Z",
     "iopub.status.idle": "2023-09-15T09:48:50.792051Z",
     "shell.execute_reply": "2023-09-15T09:48:50.791321Z",
     "shell.execute_reply.started": "2023-09-15T09:48:50.727521Z"
    },
    "id": "Cy2dEm3JG-RV"
   },
   "outputs": [
    {
     "data": {
      "application/vnd.jupyter.widget-view+json": {
       "model_id": "1effa36bdd974d84ad5f03d28c882d22",
       "version_major": 2,
       "version_minor": 0
      },
      "text/plain": [
       "VBox()"
      ]
     },
     "metadata": {},
     "output_type": "display_data"
    },
    {
     "data": {
      "application/vnd.jupyter.widget-view+json": {
       "model_id": "",
       "version_major": 2,
       "version_minor": 0
      },
      "text/plain": [
       "FloatProgress(value=0.0, bar_style='info', description='Progress:', layout=Layout(height='25px', width='50%'),…"
      ]
     },
     "metadata": {},
     "output_type": "display_data"
    }
   ],
   "source": [
    "res = classification_report(preds_df[\"category\"], preds_df[\"result\"], output_dict=True)\n",
    "results_df.loc[\"GenericSVM_200d\"] = [res[\"macro avg\"][\"f1-score\"], res[\"weighted avg\"][\"f1-score\"], res[\"accuracy\"]]"
   ]
  },
  {
   "cell_type": "markdown",
   "metadata": {
    "id": "2LqFI4dmW4Ep"
   },
   "source": [
    "## Bert Sentence Embeddings (sbiobert_base_cased_mli)"
   ]
  },
  {
   "cell_type": "markdown",
   "metadata": {
    "id": "RcQPzSbOVOpn"
   },
   "source": [
    "We will extract [sbiobert_base_cased_mli](https://nlp.johnsnowlabs.com/2020/11/27/sbiobert_base_cased_mli_en.html) embeddings which has 768 dimension output and use this embeddings in the model training."
   ]
  },
  {
   "cell_type": "code",
   "execution_count": 217,
   "metadata": {
    "colab": {
     "base_uri": "https://localhost:8080/"
    },
    "execution": {
     "iopub.execute_input": "2023-09-15T09:49:38.688300Z",
     "iopub.status.busy": "2023-09-15T09:49:38.688029Z",
     "iopub.status.idle": "2023-09-15T09:49:41.965223Z",
     "shell.execute_reply": "2023-09-15T09:49:41.964523Z",
     "shell.execute_reply.started": "2023-09-15T09:49:38.688268Z"
    },
    "executionInfo": {
     "elapsed": 3165,
     "status": "ok",
     "timestamp": 1689672469344,
     "user": {
      "displayName": "Ahmet Mesut BİROL",
      "userId": "04340760882990254267"
     },
     "user_tz": -180
    },
    "id": "e7pupvygW4Eq",
    "outputId": "ab3a52f4-a821-4615-91a9-57cb8ded9a96"
   },
   "outputs": [
    {
     "data": {
      "application/vnd.jupyter.widget-view+json": {
       "model_id": "2ca59cdff8104e4b82a7529cb71fe189",
       "version_major": 2,
       "version_minor": 0
      },
      "text/plain": [
       "VBox()"
      ]
     },
     "metadata": {},
     "output_type": "display_data"
    },
    {
     "data": {
      "application/vnd.jupyter.widget-view+json": {
       "model_id": "",
       "version_major": 2,
       "version_minor": 0
      },
      "text/plain": [
       "FloatProgress(value=0.0, bar_style='info', description='Progress:', layout=Layout(height='25px', width='50%'),…"
      ]
     },
     "metadata": {},
     "output_type": "display_data"
    },
    {
     "name": "stdout",
     "output_type": "stream",
     "text": [
      "sbiobert_base_cased_mli download started this may take some time.\n",
      "Approximate size to download 384.3 MB\n",
      "[OK!]"
     ]
    }
   ],
   "source": [
    "document_assembler = nlp.DocumentAssembler()\\\n",
    "    .setInputCol(\"text\")\\\n",
    "    .setOutputCol(\"document\")\n",
    "\n",
    "bert_sent = nlp.BertSentenceEmbeddings.pretrained(\"sbiobert_base_cased_mli\", 'en','clinical/models')\\\n",
    "    .setInputCols([\"document\"])\\\n",
    "    .setOutputCol(\"sentence_embeddings\")\n",
    "\n",
    "embeddings_pipeline = nlp.Pipeline(\n",
    "    stages = [document_assembler,\n",
    "              bert_sent])"
   ]
  },
  {
   "cell_type": "code",
   "execution_count": 218,
   "metadata": {
    "colab": {
     "base_uri": "https://localhost:8080/"
    },
    "execution": {
     "iopub.execute_input": "2023-09-15T09:49:41.966598Z",
     "iopub.status.busy": "2023-09-15T09:49:41.966385Z",
     "iopub.status.idle": "2023-09-15T09:49:43.242847Z",
     "shell.execute_reply": "2023-09-15T09:49:43.242149Z",
     "shell.execute_reply.started": "2023-09-15T09:49:41.966568Z"
    },
    "executionInfo": {
     "elapsed": 760,
     "status": "ok",
     "timestamp": 1689672470097,
     "user": {
      "displayName": "Ahmet Mesut BİROL",
      "userId": "04340760882990254267"
     },
     "user_tz": -180
    },
    "id": "A-_AaTGCW4Eq",
    "outputId": "a364d752-01f9-43d6-cecb-849b59ae7b9f"
   },
   "outputs": [
    {
     "data": {
      "application/vnd.jupyter.widget-view+json": {
       "model_id": "ca0baa6cc473465091983e61759b46f3",
       "version_major": 2,
       "version_minor": 0
      },
      "text/plain": [
       "VBox()"
      ]
     },
     "metadata": {},
     "output_type": "display_data"
    },
    {
     "data": {
      "application/vnd.jupyter.widget-view+json": {
       "model_id": "",
       "version_major": 2,
       "version_minor": 0
      },
      "text/plain": [
       "FloatProgress(value=0.0, bar_style='info', description='Progress:', layout=Layout(height='25px', width='50%'),…"
      ]
     },
     "metadata": {},
     "output_type": "display_data"
    },
    {
     "name": "stdout",
     "output_type": "stream",
     "text": [
      "+------------------------------------------------------------+----------------+------------------------------------------------------------+\n",
      "|                                                        text|        category|                                         sentence_embeddings|\n",
      "+------------------------------------------------------------+----------------+------------------------------------------------------------+\n",
      "| ADMISSION DIAGNOSIS: Symptomatic cholelithiasis. DISCHAR...|Gastroenterology|[{sentence_embeddings, 0, 2228,  ADMISSION DIAGNOSIS: Sym...|\n",
      "| ADMITTING DIAGNOSES: Hiatal hernia, gastroesophageal ref...|Gastroenterology|[{sentence_embeddings, 0, 3237,  ADMITTING DIAGNOSES: Hia...|\n",
      "+------------------------------------------------------------+----------------+------------------------------------------------------------+\n",
      "only showing top 2 rows"
     ]
    }
   ],
   "source": [
    "trainingData_with_embeddings = embeddings_pipeline.fit(trainingData).transform(trainingData)\\\n",
    "                                                  .select(\"text\",\"category\",\"sentence_embeddings\")\n",
    "\n",
    "trainingData_with_embeddings.show(2,truncate=60)"
   ]
  },
  {
   "cell_type": "code",
   "execution_count": 219,
   "metadata": {
    "colab": {
     "base_uri": "https://localhost:8080/"
    },
    "execution": {
     "iopub.execute_input": "2023-09-15T09:49:43.244352Z",
     "iopub.status.busy": "2023-09-15T09:49:43.244139Z",
     "iopub.status.idle": "2023-09-15T09:49:44.516881Z",
     "shell.execute_reply": "2023-09-15T09:49:44.516078Z",
     "shell.execute_reply.started": "2023-09-15T09:49:43.244322Z"
    },
    "executionInfo": {
     "elapsed": 837,
     "status": "ok",
     "timestamp": 1689672470928,
     "user": {
      "displayName": "Ahmet Mesut BİROL",
      "userId": "04340760882990254267"
     },
     "user_tz": -180
    },
    "id": "sGAKs2o0W4Eq",
    "outputId": "49ce6f39-fb77-422d-8713-682010efb16d"
   },
   "outputs": [
    {
     "data": {
      "application/vnd.jupyter.widget-view+json": {
       "model_id": "ac812734e26d4fe186a7e4acfbdfeb7d",
       "version_major": 2,
       "version_minor": 0
      },
      "text/plain": [
       "VBox()"
      ]
     },
     "metadata": {},
     "output_type": "display_data"
    },
    {
     "data": {
      "application/vnd.jupyter.widget-view+json": {
       "model_id": "",
       "version_major": 2,
       "version_minor": 0
      },
      "text/plain": [
       "FloatProgress(value=0.0, bar_style='info', description='Progress:', layout=Layout(height='25px', width='50%'),…"
      ]
     },
     "metadata": {},
     "output_type": "display_data"
    },
    {
     "name": "stdout",
     "output_type": "stream",
     "text": [
      "+------------------------------------------------------------+----------------+------------------------------------------------------------+\n",
      "|                                                        text|        category|                                         sentence_embeddings|\n",
      "+------------------------------------------------------------+----------------+------------------------------------------------------------+\n",
      "| ADMITTING DIAGNOSIS: Gastrointestinal bleed. HISTORY OF ...|Gastroenterology|[{sentence_embeddings, 0, 3978,  ADMITTING DIAGNOSIS: Gas...|\n",
      "| CHIEF COMPLAINT: Dysphagia and hematemesis while vomitin...|Gastroenterology|[{sentence_embeddings, 0, 6515,  CHIEF COMPLAINT: Dysphag...|\n",
      "+------------------------------------------------------------+----------------+------------------------------------------------------------+\n",
      "only showing top 2 rows"
     ]
    }
   ],
   "source": [
    "testData_with_embeddings = embeddings_pipeline.fit(testData).transform(testData)\\\n",
    "                                                  .select(\"text\",\"category\",\"sentence_embeddings\")\n",
    "\n",
    "testData_with_embeddings.show(2,truncate=60)"
   ]
  },
  {
   "cell_type": "code",
   "execution_count": 220,
   "metadata": {
    "execution": {
     "iopub.execute_input": "2023-09-15T09:49:49.753340Z",
     "iopub.status.busy": "2023-09-15T09:49:49.753055Z",
     "iopub.status.idle": "2023-09-15T09:49:49.812030Z",
     "shell.execute_reply": "2023-09-15T09:49:49.811274Z",
     "shell.execute_reply.started": "2023-09-15T09:49:49.753307Z"
    },
    "id": "WiR3GJpbW4Eq"
   },
   "outputs": [
    {
     "data": {
      "application/vnd.jupyter.widget-view+json": {
       "model_id": "0ec4308afc9e4b90afd7b13516535a69",
       "version_major": 2,
       "version_minor": 0
      },
      "text/plain": [
       "VBox()"
      ]
     },
     "metadata": {},
     "output_type": "display_data"
    },
    {
     "data": {
      "application/vnd.jupyter.widget-view+json": {
       "model_id": "",
       "version_major": 2,
       "version_minor": 0
      },
      "text/plain": [
       "FloatProgress(value=0.0, bar_style='info', description='Progress:', layout=Layout(height='25px', width='50%'),…"
      ]
     },
     "metadata": {},
     "output_type": "display_data"
    }
   ],
   "source": [
    "log_folder=\"/tmp/Mt_logs_bert\""
   ]
  },
  {
   "cell_type": "markdown",
   "metadata": {
    "id": "NqYpg6-dW4Eq"
   },
   "source": [
    "### ClassifierDL"
   ]
  },
  {
   "cell_type": "code",
   "execution_count": 221,
   "metadata": {
    "execution": {
     "iopub.execute_input": "2023-09-15T09:49:52.197955Z",
     "iopub.status.busy": "2023-09-15T09:49:52.197676Z",
     "iopub.status.idle": "2023-09-15T09:49:52.256358Z",
     "shell.execute_reply": "2023-09-15T09:49:52.255637Z",
     "shell.execute_reply.started": "2023-09-15T09:49:52.197922Z"
    },
    "id": "vkb4PlGsW4Eq"
   },
   "outputs": [
    {
     "data": {
      "application/vnd.jupyter.widget-view+json": {
       "model_id": "59ceba2e7d1e4e43abae9336923719ae",
       "version_major": 2,
       "version_minor": 0
      },
      "text/plain": [
       "VBox()"
      ]
     },
     "metadata": {},
     "output_type": "display_data"
    },
    {
     "data": {
      "application/vnd.jupyter.widget-view+json": {
       "model_id": "",
       "version_major": 2,
       "version_minor": 0
      },
      "text/plain": [
       "FloatProgress(value=0.0, bar_style='info', description='Progress:', layout=Layout(height='25px', width='50%'),…"
      ]
     },
     "metadata": {},
     "output_type": "display_data"
    }
   ],
   "source": [
    "classifier_dl = nlp.ClassifierDLApproach()\\\n",
    "        .setInputCols([\"sentence_embeddings\"])\\\n",
    "        .setOutputCol(\"class\")\\\n",
    "        .setLabelColumn(\"category\")\\\n",
    "        .setBatchSize(8)\\\n",
    "        .setMaxEpochs(30)\\\n",
    "        .setLr(0.002)\\\n",
    "        .setDropout(0.1)\\\n",
    "        .setEnableOutputLogs(True)\\\n",
    "        .setOutputLogsPath(log_folder)\n",
    "\n",
    "classifier_dl_pipeline = nlp.Pipeline(stages=[classifier_dl])"
   ]
  },
  {
   "cell_type": "code",
   "execution_count": 222,
   "metadata": {
    "execution": {
     "iopub.execute_input": "2023-09-15T09:49:53.572797Z",
     "iopub.status.busy": "2023-09-15T09:49:53.572529Z",
     "iopub.status.idle": "2023-09-15T09:51:51.199878Z",
     "shell.execute_reply": "2023-09-15T09:51:51.199025Z",
     "shell.execute_reply.started": "2023-09-15T09:49:53.572765Z"
    },
    "id": "WG0-PJA2W4Eq"
   },
   "outputs": [
    {
     "data": {
      "application/vnd.jupyter.widget-view+json": {
       "model_id": "62c7893dc16a45c2a04111f60b7c9a10",
       "version_major": 2,
       "version_minor": 0
      },
      "text/plain": [
       "VBox()"
      ]
     },
     "metadata": {},
     "output_type": "display_data"
    },
    {
     "data": {
      "application/vnd.jupyter.widget-view+json": {
       "model_id": "",
       "version_major": 2,
       "version_minor": 0
      },
      "text/plain": [
       "FloatProgress(value=0.0, bar_style='info', description='Progress:', layout=Layout(height='25px', width='50%'),…"
      ]
     },
     "metadata": {},
     "output_type": "display_data"
    }
   ],
   "source": [
    "clfDL_model_bert = classifier_dl_pipeline.fit(trainingData_with_embeddings)"
   ]
  },
  {
   "cell_type": "code",
   "execution_count": 223,
   "metadata": {
    "colab": {
     "base_uri": "https://localhost:8080/"
    },
    "execution": {
     "iopub.execute_input": "2023-09-15T09:51:51.201885Z",
     "iopub.status.busy": "2023-09-15T09:51:51.201537Z",
     "iopub.status.idle": "2023-09-15T09:52:02.509423Z",
     "shell.execute_reply": "2023-09-15T09:52:02.508555Z",
     "shell.execute_reply.started": "2023-09-15T09:51:51.201835Z"
    },
    "executionInfo": {
     "elapsed": 9496,
     "status": "ok",
     "timestamp": 1689672567197,
     "user": {
      "displayName": "Ahmet Mesut BİROL",
      "userId": "04340760882990254267"
     },
     "user_tz": -180
    },
    "id": "B_29_8JBW4Eq",
    "outputId": "ae0049cd-d0d8-4aa4-acda-2823e25a398e"
   },
   "outputs": [
    {
     "data": {
      "application/vnd.jupyter.widget-view+json": {
       "model_id": "26a19b69f9c94bc49af8aabce9b26fd7",
       "version_major": 2,
       "version_minor": 0
      },
      "text/plain": [
       "VBox()"
      ]
     },
     "metadata": {},
     "output_type": "display_data"
    },
    {
     "data": {
      "application/vnd.jupyter.widget-view+json": {
       "model_id": "",
       "version_major": 2,
       "version_minor": 0
      },
      "text/plain": [
       "FloatProgress(value=0.0, bar_style='info', description='Progress:', layout=Layout(height='25px', width='50%'),…"
      ]
     },
     "metadata": {},
     "output_type": "display_data"
    },
    {
     "name": "stdout",
     "output_type": "stream",
     "text": [
      "                  precision    recall  f1-score   support\n",
      "\n",
      "Gastroenterology       0.92      0.92      0.92        25\n",
      "       Neurology       0.82      0.82      0.82        22\n",
      "      Orthopedic       0.88      0.86      0.87        35\n",
      "         Urology       0.90      0.95      0.93        20\n",
      "\n",
      "        accuracy                           0.88       102\n",
      "       macro avg       0.88      0.89      0.88       102\n",
      "    weighted avg       0.88      0.88      0.88       102"
     ]
    }
   ],
   "source": [
    "preds = clfDL_model_bert.transform(testData_with_embeddings)\n",
    "\n",
    "preds_df = preds.select(\"category\",\"text\",\"class.result\").toPandas()\n",
    "preds_df[\"result\"] = preds_df[\"result\"].apply(lambda x : x[0])\n",
    "\n",
    "print (classification_report(preds_df[\"category\"], preds_df[\"result\"]))"
   ]
  },
  {
   "cell_type": "code",
   "execution_count": 224,
   "metadata": {
    "execution": {
     "iopub.execute_input": "2023-09-15T09:52:02.511454Z",
     "iopub.status.busy": "2023-09-15T09:52:02.511182Z",
     "iopub.status.idle": "2023-09-15T09:52:02.568015Z",
     "shell.execute_reply": "2023-09-15T09:52:02.567090Z",
     "shell.execute_reply.started": "2023-09-15T09:52:02.511421Z"
    },
    "id": "QROfiyWWHN7W"
   },
   "outputs": [
    {
     "data": {
      "application/vnd.jupyter.widget-view+json": {
       "model_id": "734a38afa8f147419bad20b8ef18eede",
       "version_major": 2,
       "version_minor": 0
      },
      "text/plain": [
       "VBox()"
      ]
     },
     "metadata": {},
     "output_type": "display_data"
    },
    {
     "data": {
      "application/vnd.jupyter.widget-view+json": {
       "model_id": "",
       "version_major": 2,
       "version_minor": 0
      },
      "text/plain": [
       "FloatProgress(value=0.0, bar_style='info', description='Progress:', layout=Layout(height='25px', width='50%'),…"
      ]
     },
     "metadata": {},
     "output_type": "display_data"
    }
   ],
   "source": [
    "res = classification_report(preds_df[\"category\"], preds_df[\"result\"], output_dict=True)\n",
    "results_df.loc[\"ClassifierDL_bert\"] = [res[\"macro avg\"][\"f1-score\"], res[\"weighted avg\"][\"f1-score\"], res[\"accuracy\"]]"
   ]
  },
  {
   "cell_type": "markdown",
   "metadata": {
    "id": "0Fw49226W4Er"
   },
   "source": [
    "### MultiClassifierDL"
   ]
  },
  {
   "cell_type": "code",
   "execution_count": 225,
   "metadata": {
    "execution": {
     "iopub.execute_input": "2023-09-15T09:52:02.569666Z",
     "iopub.status.busy": "2023-09-15T09:52:02.569434Z",
     "iopub.status.idle": "2023-09-15T09:52:02.634371Z",
     "shell.execute_reply": "2023-09-15T09:52:02.633661Z",
     "shell.execute_reply.started": "2023-09-15T09:52:02.569634Z"
    },
    "id": "Co9lWcRxW4Er"
   },
   "outputs": [
    {
     "data": {
      "application/vnd.jupyter.widget-view+json": {
       "model_id": "1aa9c7b55291478ea99df85a4a72edec",
       "version_major": 2,
       "version_minor": 0
      },
      "text/plain": [
       "VBox()"
      ]
     },
     "metadata": {},
     "output_type": "display_data"
    },
    {
     "data": {
      "application/vnd.jupyter.widget-view+json": {
       "model_id": "",
       "version_major": 2,
       "version_minor": 0
      },
      "text/plain": [
       "FloatProgress(value=0.0, bar_style='info', description='Progress:', layout=Layout(height='25px', width='50%'),…"
      ]
     },
     "metadata": {},
     "output_type": "display_data"
    }
   ],
   "source": [
    "# MultiClassifierDL accepts list of strings as input label. So we convert label column to array type.\n",
    "trainingData_with_embeddings = trainingData_with_embeddings.withColumn(\"category_array\", F.array(F.col(\"category\")))\n",
    "testData_with_embeddings = testData_with_embeddings.withColumn(\"category_array\", F.array(F.col(\"category\")))"
   ]
  },
  {
   "cell_type": "code",
   "execution_count": 226,
   "metadata": {
    "execution": {
     "iopub.execute_input": "2023-09-15T09:52:02.635597Z",
     "iopub.status.busy": "2023-09-15T09:52:02.635383Z",
     "iopub.status.idle": "2023-09-15T09:52:02.694747Z",
     "shell.execute_reply": "2023-09-15T09:52:02.693938Z",
     "shell.execute_reply.started": "2023-09-15T09:52:02.635568Z"
    },
    "id": "5itVNwSWW4Er"
   },
   "outputs": [
    {
     "data": {
      "application/vnd.jupyter.widget-view+json": {
       "model_id": "3b0f505d2fdf4d69be7e1d96debb7399",
       "version_major": 2,
       "version_minor": 0
      },
      "text/plain": [
       "VBox()"
      ]
     },
     "metadata": {},
     "output_type": "display_data"
    },
    {
     "data": {
      "application/vnd.jupyter.widget-view+json": {
       "model_id": "",
       "version_major": 2,
       "version_minor": 0
      },
      "text/plain": [
       "FloatProgress(value=0.0, bar_style='info', description='Progress:', layout=Layout(height='25px', width='50%'),…"
      ]
     },
     "metadata": {},
     "output_type": "display_data"
    }
   ],
   "source": [
    "multiClassifier =nlp.MultiClassifierDLApproach()\\\n",
    "  .setInputCols(\"sentence_embeddings\")\\\n",
    "  .setOutputCol(\"prediction\")\\\n",
    "  .setLabelColumn(\"category_array\")\\\n",
    "  .setBatchSize(8)\\\n",
    "  .setMaxEpochs(20)\\\n",
    "  .setLr(9e-3)\\\n",
    "  .setThreshold(0.5)\\\n",
    "  .setShufflePerEpoch(False)\\\n",
    "  .setEnableOutputLogs(True)\\\n",
    "  .setOutputLogsPath(log_folder)\\\n",
    "#   .setValidationSplit(0.1)\n",
    "\n",
    "multiClassifier_pipeline = nlp.Pipeline(\n",
    "    stages = [\n",
    "        multiClassifier\n",
    "    ])"
   ]
  },
  {
   "cell_type": "code",
   "execution_count": 227,
   "metadata": {
    "execution": {
     "iopub.execute_input": "2023-09-15T09:52:02.695918Z",
     "iopub.status.busy": "2023-09-15T09:52:02.695706Z",
     "iopub.status.idle": "2023-09-15T09:54:42.463840Z",
     "shell.execute_reply": "2023-09-15T09:54:42.463058Z",
     "shell.execute_reply.started": "2023-09-15T09:52:02.695888Z"
    },
    "id": "Y2p8qfzeW4Er"
   },
   "outputs": [
    {
     "data": {
      "application/vnd.jupyter.widget-view+json": {
       "model_id": "f7073e0ac0a848e598085dd758b626c0",
       "version_major": 2,
       "version_minor": 0
      },
      "text/plain": [
       "VBox()"
      ]
     },
     "metadata": {},
     "output_type": "display_data"
    },
    {
     "data": {
      "application/vnd.jupyter.widget-view+json": {
       "model_id": "",
       "version_major": 2,
       "version_minor": 0
      },
      "text/plain": [
       "FloatProgress(value=0.0, bar_style='info', description='Progress:', layout=Layout(height='25px', width='50%'),…"
      ]
     },
     "metadata": {},
     "output_type": "display_data"
    }
   ],
   "source": [
    "multiClassifier_model_bert = multiClassifier_pipeline.fit(trainingData_with_embeddings)"
   ]
  },
  {
   "cell_type": "code",
   "execution_count": 228,
   "metadata": {
    "execution": {
     "iopub.execute_input": "2023-09-15T09:54:42.465081Z",
     "iopub.status.busy": "2023-09-15T09:54:42.464855Z",
     "iopub.status.idle": "2023-09-15T09:54:42.727052Z",
     "shell.execute_reply": "2023-09-15T09:54:42.726254Z",
     "shell.execute_reply.started": "2023-09-15T09:54:42.465050Z"
    },
    "id": "j812VMg5W4Er"
   },
   "outputs": [
    {
     "data": {
      "application/vnd.jupyter.widget-view+json": {
       "model_id": "8b4c1eb19ec94450a3c64fc335bf776d",
       "version_major": 2,
       "version_minor": 0
      },
      "text/plain": [
       "VBox()"
      ]
     },
     "metadata": {},
     "output_type": "display_data"
    },
    {
     "data": {
      "application/vnd.jupyter.widget-view+json": {
       "model_id": "",
       "version_major": 2,
       "version_minor": 0
      },
      "text/plain": [
       "FloatProgress(value=0.0, bar_style='info', description='Progress:', layout=Layout(height='25px', width='50%'),…"
      ]
     },
     "metadata": {},
     "output_type": "display_data"
    }
   ],
   "source": [
    "preds = multiClassifier_model_bert.transform(testData_with_embeddings)"
   ]
  },
  {
   "cell_type": "code",
   "execution_count": 229,
   "metadata": {
    "colab": {
     "base_uri": "https://localhost:8080/"
    },
    "execution": {
     "iopub.execute_input": "2023-09-15T09:54:42.729498Z",
     "iopub.status.busy": "2023-09-15T09:54:42.729270Z",
     "iopub.status.idle": "2023-09-15T09:55:10.077255Z",
     "shell.execute_reply": "2023-09-15T09:55:10.076385Z",
     "shell.execute_reply.started": "2023-09-15T09:54:42.729466Z"
    },
    "executionInfo": {
     "elapsed": 25066,
     "status": "ok",
     "timestamp": 1689672721052,
     "user": {
      "displayName": "Ahmet Mesut BİROL",
      "userId": "04340760882990254267"
     },
     "user_tz": -180
    },
    "id": "Ero8R_rhW4Er",
    "outputId": "13759867-dd7e-465a-e17d-ab6579a4ef5b"
   },
   "outputs": [
    {
     "data": {
      "application/vnd.jupyter.widget-view+json": {
       "model_id": "895681b7c443490b81adf957fa13e6f9",
       "version_major": 2,
       "version_minor": 0
      },
      "text/plain": [
       "VBox()"
      ]
     },
     "metadata": {},
     "output_type": "display_data"
    },
    {
     "data": {
      "application/vnd.jupyter.widget-view+json": {
       "model_id": "",
       "version_major": 2,
       "version_minor": 0
      },
      "text/plain": [
       "FloatProgress(value=0.0, bar_style='info', description='Progress:', layout=Layout(height='25px', width='50%'),…"
      ]
     },
     "metadata": {},
     "output_type": "display_data"
    },
    {
     "name": "stdout",
     "output_type": "stream",
     "text": [
      "['Orthopedic']                 32\n",
      "['Gastroenterology']           24\n",
      "['Neurology']                  21\n",
      "['Urology']                    19\n",
      "[]                              5\n",
      "['Orthopedic', 'Neurology']     1\n",
      "Name: result, dtype: int64"
     ]
    }
   ],
   "source": [
    "preds_df = preds.select(\"category\",\"text\",\"prediction.result\",\"prediction.metadata\").toPandas()\n",
    "preds_df.result.apply(lambda x: str(x) ).value_counts()"
   ]
  },
  {
   "cell_type": "code",
   "execution_count": 230,
   "metadata": {
    "colab": {
     "base_uri": "https://localhost:8080/"
    },
    "execution": {
     "iopub.execute_input": "2023-09-15T09:55:10.078937Z",
     "iopub.status.busy": "2023-09-15T09:55:10.078725Z",
     "iopub.status.idle": "2023-09-15T09:55:10.157492Z",
     "shell.execute_reply": "2023-09-15T09:55:10.156777Z",
     "shell.execute_reply.started": "2023-09-15T09:55:10.078907Z"
    },
    "executionInfo": {
     "elapsed": 24,
     "status": "ok",
     "timestamp": 1689672721053,
     "user": {
      "displayName": "Ahmet Mesut BİROL",
      "userId": "04340760882990254267"
     },
     "user_tz": -180
    },
    "id": "eIr0FA55W4Er",
    "outputId": "2789d4be-431a-4006-a89d-af8b6cb8651b"
   },
   "outputs": [
    {
     "data": {
      "application/vnd.jupyter.widget-view+json": {
       "model_id": "c73069a5f0e445f98402b7275c977051",
       "version_major": 2,
       "version_minor": 0
      },
      "text/plain": [
       "VBox()"
      ]
     },
     "metadata": {},
     "output_type": "display_data"
    },
    {
     "data": {
      "application/vnd.jupyter.widget-view+json": {
       "model_id": "",
       "version_major": 2,
       "version_minor": 0
      },
      "text/plain": [
       "FloatProgress(value=0.0, bar_style='info', description='Progress:', layout=Layout(height='25px', width='50%'),…"
      ]
     },
     "metadata": {},
     "output_type": "display_data"
    },
    {
     "name": "stdout",
     "output_type": "stream",
     "text": [
      "Orthopedic          33\n",
      "Gastroenterology    24\n",
      "Neurology           21\n",
      "Urology             19\n",
      "Name: result, dtype: int64"
     ]
    }
   ],
   "source": [
    "# We will get the highest score label as result. You can control the number of zero label results with setThreshold() in the training.\n",
    "preds_df[\"scores\"] = preds_df.metadata.apply(lambda x: {k:float(v) for k,v in x[0].items()} if len(x)>=1 else \"\")\n",
    "preds_df[\"result\"] = preds_df.scores.apply(lambda x: max(x, key=x.get) if len(x)>=1 else \"\")\n",
    "preds_df = preds_df[(preds_df[\"result\"]!=\"\")]\n",
    "preds_df[\"result\"].value_counts()"
   ]
  },
  {
   "cell_type": "code",
   "execution_count": 231,
   "metadata": {
    "colab": {
     "base_uri": "https://localhost:8080/"
    },
    "execution": {
     "iopub.execute_input": "2023-09-15T09:55:10.158691Z",
     "iopub.status.busy": "2023-09-15T09:55:10.158471Z",
     "iopub.status.idle": "2023-09-15T09:55:10.234882Z",
     "shell.execute_reply": "2023-09-15T09:55:10.234016Z",
     "shell.execute_reply.started": "2023-09-15T09:55:10.158660Z"
    },
    "executionInfo": {
     "elapsed": 14,
     "status": "ok",
     "timestamp": 1689672721053,
     "user": {
      "displayName": "Ahmet Mesut BİROL",
      "userId": "04340760882990254267"
     },
     "user_tz": -180
    },
    "id": "m9BKG5kHW4Es",
    "outputId": "cb69631e-0f77-4c71-a6b3-f25a2a08962d"
   },
   "outputs": [
    {
     "data": {
      "application/vnd.jupyter.widget-view+json": {
       "model_id": "ff72155abe7b49bbaff25dd2cff4acab",
       "version_major": 2,
       "version_minor": 0
      },
      "text/plain": [
       "VBox()"
      ]
     },
     "metadata": {},
     "output_type": "display_data"
    },
    {
     "data": {
      "application/vnd.jupyter.widget-view+json": {
       "model_id": "",
       "version_major": 2,
       "version_minor": 0
      },
      "text/plain": [
       "FloatProgress(value=0.0, bar_style='info', description='Progress:', layout=Layout(height='25px', width='50%'),…"
      ]
     },
     "metadata": {},
     "output_type": "display_data"
    },
    {
     "name": "stdout",
     "output_type": "stream",
     "text": [
      "                  precision    recall  f1-score   support\n",
      "\n",
      "Gastroenterology       0.96      0.92      0.94        25\n",
      "       Neurology       0.81      0.85      0.83        20\n",
      "      Orthopedic       0.91      0.86      0.88        35\n",
      "         Urology       0.84      0.94      0.89        17\n",
      "\n",
      "        accuracy                           0.89        97\n",
      "       macro avg       0.88      0.89      0.88        97\n",
      "    weighted avg       0.89      0.89      0.89        97"
     ]
    }
   ],
   "source": [
    "print (classification_report(preds_df[\"category\"], preds_df[\"result\"]))"
   ]
  },
  {
   "cell_type": "code",
   "execution_count": 232,
   "metadata": {
    "execution": {
     "iopub.execute_input": "2023-09-15T09:55:10.236105Z",
     "iopub.status.busy": "2023-09-15T09:55:10.235884Z",
     "iopub.status.idle": "2023-09-15T09:55:10.290067Z",
     "shell.execute_reply": "2023-09-15T09:55:10.289403Z",
     "shell.execute_reply.started": "2023-09-15T09:55:10.236074Z"
    },
    "id": "IrZVc3mhHdJg"
   },
   "outputs": [
    {
     "data": {
      "application/vnd.jupyter.widget-view+json": {
       "model_id": "75afd64b67114410a228303a7b1d8498",
       "version_major": 2,
       "version_minor": 0
      },
      "text/plain": [
       "VBox()"
      ]
     },
     "metadata": {},
     "output_type": "display_data"
    },
    {
     "data": {
      "application/vnd.jupyter.widget-view+json": {
       "model_id": "",
       "version_major": 2,
       "version_minor": 0
      },
      "text/plain": [
       "FloatProgress(value=0.0, bar_style='info', description='Progress:', layout=Layout(height='25px', width='50%'),…"
      ]
     },
     "metadata": {},
     "output_type": "display_data"
    }
   ],
   "source": [
    "res = classification_report(preds_df[\"category\"], preds_df[\"result\"], output_dict=True)\n",
    "results_df.loc[\"MultiClassifierDL_bert\"] = [res[\"macro avg\"][\"f1-score\"], res[\"weighted avg\"][\"f1-score\"], res[\"accuracy\"]]"
   ]
  },
  {
   "cell_type": "markdown",
   "metadata": {
    "id": "hhNpyXkeW4Es"
   },
   "source": [
    "### Generic Classifier"
   ]
  },
  {
   "cell_type": "code",
   "execution_count": null,
   "metadata": {
    "id": "aO-WNe20W4Es"
   },
   "outputs": [],
   "source": [
    "# !pip install -q tensorflow==2.7.0 tensorflow_addons"
   ]
  },
  {
   "cell_type": "code",
   "execution_count": 233,
   "metadata": {
    "execution": {
     "iopub.execute_input": "2023-09-15T09:55:10.291138Z",
     "iopub.status.busy": "2023-09-15T09:55:10.290935Z",
     "iopub.status.idle": "2023-09-15T09:55:10.345404Z",
     "shell.execute_reply": "2023-09-15T09:55:10.344730Z",
     "shell.execute_reply.started": "2023-09-15T09:55:10.291109Z"
    },
    "id": "a0pS3YdEW4Es",
    "tags": []
   },
   "outputs": [
    {
     "data": {
      "application/vnd.jupyter.widget-view+json": {
       "model_id": "21afaf147b2a45f8ac50a125ae6d9fd5",
       "version_major": 2,
       "version_minor": 0
      },
      "text/plain": [
       "VBox()"
      ]
     },
     "metadata": {},
     "output_type": "display_data"
    },
    {
     "data": {
      "application/vnd.jupyter.widget-view+json": {
       "model_id": "",
       "version_major": 2,
       "version_minor": 0
      },
      "text/plain": [
       "FloatProgress(value=0.0, bar_style='info', description='Progress:', layout=Layout(height='25px', width='50%'),…"
      ]
     },
     "metadata": {},
     "output_type": "display_data"
    }
   ],
   "source": [
    "from sparknlp_jsl.annotator import TFGraphBuilder\n",
    "\n",
    "graph_folder = \"/tmp/gc_graph\"\n",
    "\n",
    "gc_graph_builder =medical.TFGraphBuilder()\\\n",
    "    .setModelName(\"generic_classifier\")\\\n",
    "    .setInputCols([\"features\"])\\\n",
    "    .setLabelColumn(\"category\")\\\n",
    "    .setHiddenLayers([300,200, 50])\\\n",
    "    .setHiddenAct(\"tanh\")\\\n",
    "    .setHiddenActL2(True)\\\n",
    "    .setBatchNorm(True)\\\n",
    "    .setGraphFolder(graph_folder)\\\n",
    "    .setGraphFile(\"gcf_graph_bert.pb\")"
   ]
  },
  {
   "cell_type": "code",
   "execution_count": 234,
   "metadata": {
    "execution": {
     "iopub.execute_input": "2023-09-15T09:55:10.346514Z",
     "iopub.status.busy": "2023-09-15T09:55:10.346310Z",
     "iopub.status.idle": "2023-09-15T09:55:10.400386Z",
     "shell.execute_reply": "2023-09-15T09:55:10.399698Z",
     "shell.execute_reply.started": "2023-09-15T09:55:10.346485Z"
    },
    "id": "aBuFW-1iW4Es"
   },
   "outputs": [
    {
     "data": {
      "application/vnd.jupyter.widget-view+json": {
       "model_id": "f51f0a7721444f24928518eae7ccd72d",
       "version_major": 2,
       "version_minor": 0
      },
      "text/plain": [
       "VBox()"
      ]
     },
     "metadata": {},
     "output_type": "display_data"
    },
    {
     "data": {
      "application/vnd.jupyter.widget-view+json": {
       "model_id": "",
       "version_major": 2,
       "version_minor": 0
      },
      "text/plain": [
       "FloatProgress(value=0.0, bar_style='info', description='Progress:', layout=Layout(height='25px', width='50%'),…"
      ]
     },
     "metadata": {},
     "output_type": "display_data"
    }
   ],
   "source": [
    "features_asm =medical.FeaturesAssembler()\\\n",
    "    .setInputCols([\"sentence_embeddings\"])\\\n",
    "    .setOutputCol(\"features\")\n",
    "\n",
    "gen_clf =medical.GenericClassifierApproach()\\\n",
    "    .setLabelColumn(\"category\")\\\n",
    "    .setInputCols(\"features\")\\\n",
    "    .setOutputCol(\"prediction\")\\\n",
    "    .setModelFile(f\"{graph_folder}/gcf_graph_bert.pb\")\\\n",
    "    .setEpochsNumber(25)\\\n",
    "    .setBatchSize(16)\\\n",
    "    .setLearningRate(0.002)\\\n",
    "    .setOutputLogsPath(log_folder)\\\n",
    "    .setDropout(0.2)\\\n",
    "    .setFixImbalance(True)\\\n",
    "    # .setValidationSplit(0.1)\n",
    "\n",
    "clf_Pipeline = nlp.Pipeline(stages=[\n",
    "    features_asm,\n",
    "    gc_graph_builder,\n",
    "    gen_clf])\n"
   ]
  },
  {
   "cell_type": "code",
   "execution_count": 235,
   "metadata": {
    "colab": {
     "base_uri": "https://localhost:8080/"
    },
    "execution": {
     "iopub.execute_input": "2023-09-15T09:55:10.401489Z",
     "iopub.status.busy": "2023-09-15T09:55:10.401254Z",
     "iopub.status.idle": "2023-09-15T09:58:28.300239Z",
     "shell.execute_reply": "2023-09-15T09:58:28.299500Z",
     "shell.execute_reply.started": "2023-09-15T09:55:10.401459Z"
    },
    "executionInfo": {
     "elapsed": 141131,
     "status": "ok",
     "timestamp": 1689672862179,
     "user": {
      "displayName": "Ahmet Mesut BİROL",
      "userId": "04340760882990254267"
     },
     "user_tz": -180
    },
    "id": "Xpi8bsOAW4Es",
    "outputId": "3c5324ce-4aca-4e02-e5e1-143b868fabb2"
   },
   "outputs": [
    {
     "data": {
      "application/vnd.jupyter.widget-view+json": {
       "model_id": "7c29623b86974a3a819cfdd2d62211be",
       "version_major": 2,
       "version_minor": 0
      },
      "text/plain": [
       "VBox()"
      ]
     },
     "metadata": {},
     "output_type": "display_data"
    },
    {
     "data": {
      "application/vnd.jupyter.widget-view+json": {
       "model_id": "",
       "version_major": 2,
       "version_minor": 0
      },
      "text/plain": [
       "FloatProgress(value=0.0, bar_style='info', description='Progress:', layout=Layout(height='25px', width='50%'),…"
      ]
     },
     "metadata": {},
     "output_type": "display_data"
    },
    {
     "name": "stdout",
     "output_type": "stream",
     "text": [
      "TF Graph Builder configuration:\n",
      "Model name: generic_classifier\n",
      "Graph folder: /tmp/gc_graph\n",
      "Graph file name: gcf_graph_bert.pb\n",
      "Build params: {'input_dim': 768, 'output_dim': 4, 'hidden_layers': [300, 200, 50], 'hidden_act': 'tanh', 'hidden_act_l2': True, 'batch_norm': True}\n",
      "generic_classifier graph exported to /tmp/gc_graph/gcf_graph_bert.pb"
     ]
    }
   ],
   "source": [
    "generic_model_bert = clf_Pipeline.fit(trainingData_with_embeddings)"
   ]
  },
  {
   "cell_type": "code",
   "execution_count": 236,
   "metadata": {
    "colab": {
     "base_uri": "https://localhost:8080/"
    },
    "execution": {
     "iopub.execute_input": "2023-09-15T09:58:28.301489Z",
     "iopub.status.busy": "2023-09-15T09:58:28.301261Z",
     "iopub.status.idle": "2023-09-15T09:58:47.631998Z",
     "shell.execute_reply": "2023-09-15T09:58:47.631117Z",
     "shell.execute_reply.started": "2023-09-15T09:58:28.301458Z"
    },
    "executionInfo": {
     "elapsed": 12586,
     "status": "ok",
     "timestamp": 1689672874760,
     "user": {
      "displayName": "Ahmet Mesut BİROL",
      "userId": "04340760882990254267"
     },
     "user_tz": -180
    },
    "id": "5aw-VIEhW4Es",
    "outputId": "dcda2f9f-d53a-45dc-a77d-d92e8bd367a3"
   },
   "outputs": [
    {
     "data": {
      "application/vnd.jupyter.widget-view+json": {
       "model_id": "0e49c741682d4bdea0813af1990a9883",
       "version_major": 2,
       "version_minor": 0
      },
      "text/plain": [
       "VBox()"
      ]
     },
     "metadata": {},
     "output_type": "display_data"
    },
    {
     "data": {
      "application/vnd.jupyter.widget-view+json": {
       "model_id": "",
       "version_major": 2,
       "version_minor": 0
      },
      "text/plain": [
       "FloatProgress(value=0.0, bar_style='info', description='Progress:', layout=Layout(height='25px', width='50%'),…"
      ]
     },
     "metadata": {},
     "output_type": "display_data"
    },
    {
     "name": "stdout",
     "output_type": "stream",
     "text": [
      "                  precision    recall  f1-score   support\n",
      "\n",
      "Gastroenterology       0.96      0.92      0.94        25\n",
      "       Neurology       0.78      0.82      0.80        22\n",
      "      Orthopedic       0.88      0.83      0.85        35\n",
      "         Urology       0.82      0.90      0.86        20\n",
      "\n",
      "        accuracy                           0.86       102\n",
      "       macro avg       0.86      0.87      0.86       102\n",
      "    weighted avg       0.87      0.86      0.86       102"
     ]
    }
   ],
   "source": [
    "pred_df = generic_model_bert.transform(testData_with_embeddings)\n",
    "\n",
    "preds_df = pred_df.select('category','prediction.result').toPandas()\n",
    "preds_df['result'] = preds_df.result.apply(lambda x : x[0])\n",
    "\n",
    "print (classification_report(preds_df['category'], preds_df['result']))"
   ]
  },
  {
   "cell_type": "code",
   "execution_count": 237,
   "metadata": {
    "execution": {
     "iopub.execute_input": "2023-09-15T09:58:47.633290Z",
     "iopub.status.busy": "2023-09-15T09:58:47.633019Z",
     "iopub.status.idle": "2023-09-15T09:58:47.690286Z",
     "shell.execute_reply": "2023-09-15T09:58:47.689575Z",
     "shell.execute_reply.started": "2023-09-15T09:58:47.633234Z"
    },
    "id": "RNCgQrtcHnAf"
   },
   "outputs": [
    {
     "data": {
      "application/vnd.jupyter.widget-view+json": {
       "model_id": "274c53458e514ff999b1d262fcbee106",
       "version_major": 2,
       "version_minor": 0
      },
      "text/plain": [
       "VBox()"
      ]
     },
     "metadata": {},
     "output_type": "display_data"
    },
    {
     "data": {
      "application/vnd.jupyter.widget-view+json": {
       "model_id": "",
       "version_major": 2,
       "version_minor": 0
      },
      "text/plain": [
       "FloatProgress(value=0.0, bar_style='info', description='Progress:', layout=Layout(height='25px', width='50%'),…"
      ]
     },
     "metadata": {},
     "output_type": "display_data"
    }
   ],
   "source": [
    "res = classification_report(preds_df[\"category\"], preds_df[\"result\"], output_dict=True)\n",
    "results_df.loc[\"GenericClassifier_bert\"] = [res[\"macro avg\"][\"f1-score\"], res[\"weighted avg\"][\"f1-score\"], res[\"accuracy\"]]"
   ]
  },
  {
   "cell_type": "markdown",
   "metadata": {
    "id": "5q09e4l9XPgU"
   },
   "source": [
    "### GenericLogRegClassifier"
   ]
  },
  {
   "cell_type": "code",
   "execution_count": 238,
   "metadata": {
    "execution": {
     "iopub.execute_input": "2023-09-15T09:58:47.691492Z",
     "iopub.status.busy": "2023-09-15T09:58:47.691205Z",
     "iopub.status.idle": "2023-09-15T09:58:47.746096Z",
     "shell.execute_reply": "2023-09-15T09:58:47.745410Z",
     "shell.execute_reply.started": "2023-09-15T09:58:47.691461Z"
    },
    "id": "Q9DQJEOfXPgV"
   },
   "outputs": [
    {
     "data": {
      "application/vnd.jupyter.widget-view+json": {
       "model_id": "4a19c3703cbe46e386334bc8ba0e25a1",
       "version_major": 2,
       "version_minor": 0
      },
      "text/plain": [
       "VBox()"
      ]
     },
     "metadata": {},
     "output_type": "display_data"
    },
    {
     "data": {
      "application/vnd.jupyter.widget-view+json": {
       "model_id": "",
       "version_major": 2,
       "version_minor": 0
      },
      "text/plain": [
       "FloatProgress(value=0.0, bar_style='info', description='Progress:', layout=Layout(height='25px', width='50%'),…"
      ]
     },
     "metadata": {},
     "output_type": "display_data"
    }
   ],
   "source": [
    "graph_folder = \"/tmp/gc_graph\"\n",
    "\n",
    "gc_logreg_graph_builder = medical.TFGraphBuilder()\\\n",
    "    .setModelName(\"logreg_classifier\")\\\n",
    "    .setInputCols([\"feature_vector\"]) \\\n",
    "    .setLabelColumn(\"category\")\\\n",
    "    .setGraphFolder(graph_folder)\\\n",
    "    .setGraphFile(\"log_reg_graph.pb\")"
   ]
  },
  {
   "cell_type": "markdown",
   "metadata": {
    "id": "DeC8XjkcXPgV"
   },
   "source": [
    "GenericLogRegClassifier needs outputs from FeaturesAssembler. The FeaturesAssembler is used to collect features from different columns or an embeddings column.\n",
    "\n",
    "The GenericLogRegClassifier takes FEATURE_VECTOR annotations as input, classifies them and outputs CATEGORY annotations."
   ]
  },
  {
   "cell_type": "code",
   "execution_count": 239,
   "metadata": {
    "execution": {
     "iopub.execute_input": "2023-09-15T09:58:47.747269Z",
     "iopub.status.busy": "2023-09-15T09:58:47.747052Z",
     "iopub.status.idle": "2023-09-15T09:58:47.802345Z",
     "shell.execute_reply": "2023-09-15T09:58:47.801627Z",
     "shell.execute_reply.started": "2023-09-15T09:58:47.747240Z"
    },
    "id": "eEGJ7oHQXPgV"
   },
   "outputs": [
    {
     "data": {
      "application/vnd.jupyter.widget-view+json": {
       "model_id": "be35b0c6719e4d0e8f38fae41e82e17f",
       "version_major": 2,
       "version_minor": 0
      },
      "text/plain": [
       "VBox()"
      ]
     },
     "metadata": {},
     "output_type": "display_data"
    },
    {
     "data": {
      "application/vnd.jupyter.widget-view+json": {
       "model_id": "",
       "version_major": 2,
       "version_minor": 0
      },
      "text/plain": [
       "FloatProgress(value=0.0, bar_style='info', description='Progress:', layout=Layout(height='25px', width='50%'),…"
      ]
     },
     "metadata": {},
     "output_type": "display_data"
    }
   ],
   "source": [
    "features_asm = medical.FeaturesAssembler()\\\n",
    "    .setInputCols([\"sentence_embeddings\"])\\\n",
    "    .setOutputCol(\"feature_vector\")\n",
    "\n",
    "gen_clf = medical.GenericLogRegClassifierApproach()\\\n",
    "    .setLabelColumn(\"category\")\\\n",
    "    .setInputCols(\"feature_vector\")\\\n",
    "    .setOutputCol(\"prediction\")\\\n",
    "    .setModelFile(f\"{graph_folder}/log_reg_graph.pb\")\\\n",
    "    .setEpochsNumber(30)\\\n",
    "    .setBatchSize(64)\\\n",
    "    .setLearningRate(0.004)\\\n",
    "    .setOutputLogsPath(log_folder)\\\n",
    "    .setDropout(0.1)\\\n",
    "    .setFixImbalance(True)\\\n",
    "    # .setValidationSplit(0.1)\n",
    "\n",
    "clf_Pipeline = nlp.Pipeline(stages=[\n",
    "    features_asm,\n",
    "    gc_logreg_graph_builder,\n",
    "    gen_clf])\n"
   ]
  },
  {
   "cell_type": "code",
   "execution_count": 240,
   "metadata": {
    "colab": {
     "base_uri": "https://localhost:8080/"
    },
    "execution": {
     "iopub.execute_input": "2023-09-15T09:58:47.803554Z",
     "iopub.status.busy": "2023-09-15T09:58:47.803276Z",
     "iopub.status.idle": "2023-09-15T10:02:01.700295Z",
     "shell.execute_reply": "2023-09-15T10:02:01.699577Z",
     "shell.execute_reply.started": "2023-09-15T09:58:47.803522Z"
    },
    "executionInfo": {
     "elapsed": 133028,
     "status": "ok",
     "timestamp": 1689673007783,
     "user": {
      "displayName": "Ahmet Mesut BİROL",
      "userId": "04340760882990254267"
     },
     "user_tz": -180
    },
    "id": "2mw3fPhtXPgV",
    "outputId": "069e5373-395b-4115-ac5c-d0dc97d9830d"
   },
   "outputs": [
    {
     "data": {
      "application/vnd.jupyter.widget-view+json": {
       "model_id": "0abc90018fea4e84b491ccf086ccdef2",
       "version_major": 2,
       "version_minor": 0
      },
      "text/plain": [
       "VBox()"
      ]
     },
     "metadata": {},
     "output_type": "display_data"
    },
    {
     "data": {
      "application/vnd.jupyter.widget-view+json": {
       "model_id": "",
       "version_major": 2,
       "version_minor": 0
      },
      "text/plain": [
       "FloatProgress(value=0.0, bar_style='info', description='Progress:', layout=Layout(height='25px', width='50%'),…"
      ]
     },
     "metadata": {},
     "output_type": "display_data"
    },
    {
     "name": "stdout",
     "output_type": "stream",
     "text": [
      "TF Graph Builder configuration:\n",
      "Model name: logreg_classifier\n",
      "Graph folder: /tmp/gc_graph\n",
      "Graph file name: log_reg_graph.pb\n",
      "Build params: {'input_dim': 768, 'output_dim': 4, 'hidden_layers': [], 'output_act': 'sigmoid'}\n",
      "logreg_classifier graph exported to /tmp/gc_graph/log_reg_graph.pb"
     ]
    }
   ],
   "source": [
    "generic_model_bert = clf_Pipeline.fit(trainingData_with_embeddings)"
   ]
  },
  {
   "cell_type": "code",
   "execution_count": 241,
   "metadata": {
    "execution": {
     "iopub.execute_input": "2023-09-15T10:02:01.701461Z",
     "iopub.status.busy": "2023-09-15T10:02:01.701248Z",
     "iopub.status.idle": "2023-09-15T10:02:11.001373Z",
     "shell.execute_reply": "2023-09-15T10:02:11.000580Z",
     "shell.execute_reply.started": "2023-09-15T10:02:01.701431Z"
    },
    "id": "h5Zqfx_WXPgV"
   },
   "outputs": [
    {
     "data": {
      "application/vnd.jupyter.widget-view+json": {
       "model_id": "2c8eb154d8ab46af89cba54666f2c90e",
       "version_major": 2,
       "version_minor": 0
      },
      "text/plain": [
       "VBox()"
      ]
     },
     "metadata": {},
     "output_type": "display_data"
    },
    {
     "data": {
      "application/vnd.jupyter.widget-view+json": {
       "model_id": "",
       "version_major": 2,
       "version_minor": 0
      },
      "text/plain": [
       "FloatProgress(value=0.0, bar_style='info', description='Progress:', layout=Layout(height='25px', width='50%'),…"
      ]
     },
     "metadata": {},
     "output_type": "display_data"
    }
   ],
   "source": [
    "pred_df = generic_model_bert.transform(testData_with_embeddings)"
   ]
  },
  {
   "cell_type": "code",
   "execution_count": 242,
   "metadata": {
    "colab": {
     "base_uri": "https://localhost:8080/"
    },
    "execution": {
     "iopub.execute_input": "2023-09-15T10:02:11.002586Z",
     "iopub.status.busy": "2023-09-15T10:02:11.002374Z",
     "iopub.status.idle": "2023-09-15T10:02:20.298634Z",
     "shell.execute_reply": "2023-09-15T10:02:20.297660Z",
     "shell.execute_reply.started": "2023-09-15T10:02:11.002556Z"
    },
    "executionInfo": {
     "elapsed": 6378,
     "status": "ok",
     "timestamp": 1689673020859,
     "user": {
      "displayName": "Ahmet Mesut BİROL",
      "userId": "04340760882990254267"
     },
     "user_tz": -180
    },
    "id": "gk6E1IuzXPgW",
    "outputId": "7814e17e-c53e-40dd-afe5-c17ccacda6d9"
   },
   "outputs": [
    {
     "data": {
      "application/vnd.jupyter.widget-view+json": {
       "model_id": "9b2bc47c198649ed879377bca8303e35",
       "version_major": 2,
       "version_minor": 0
      },
      "text/plain": [
       "VBox()"
      ]
     },
     "metadata": {},
     "output_type": "display_data"
    },
    {
     "data": {
      "application/vnd.jupyter.widget-view+json": {
       "model_id": "",
       "version_major": 2,
       "version_minor": 0
      },
      "text/plain": [
       "FloatProgress(value=0.0, bar_style='info', description='Progress:', layout=Layout(height='25px', width='50%'),…"
      ]
     },
     "metadata": {},
     "output_type": "display_data"
    },
    {
     "name": "stdout",
     "output_type": "stream",
     "text": [
      "                  precision    recall  f1-score   support\n",
      "\n",
      "Gastroenterology       0.96      0.92      0.94        25\n",
      "       Neurology       0.81      0.77      0.79        22\n",
      "      Orthopedic       0.88      0.86      0.87        35\n",
      "         Urology       0.83      0.95      0.88        20\n",
      "\n",
      "        accuracy                           0.87       102\n",
      "       macro avg       0.87      0.87      0.87       102\n",
      "    weighted avg       0.87      0.87      0.87       102"
     ]
    }
   ],
   "source": [
    "preds_df = pred_df.select('category','prediction.result').toPandas()\n",
    "preds_df['result'] = preds_df.result.apply(lambda x : x[0])\n",
    "\n",
    "print (classification_report(preds_df['category'], preds_df['result']))"
   ]
  },
  {
   "cell_type": "code",
   "execution_count": 243,
   "metadata": {
    "execution": {
     "iopub.execute_input": "2023-09-15T10:02:20.299951Z",
     "iopub.status.busy": "2023-09-15T10:02:20.299725Z",
     "iopub.status.idle": "2023-09-15T10:02:20.358807Z",
     "shell.execute_reply": "2023-09-15T10:02:20.358146Z",
     "shell.execute_reply.started": "2023-09-15T10:02:20.299920Z"
    },
    "id": "QCBSJlcPIH2D",
    "tags": []
   },
   "outputs": [
    {
     "data": {
      "application/vnd.jupyter.widget-view+json": {
       "model_id": "8ea5e39478114c6393618f6f7daa7361",
       "version_major": 2,
       "version_minor": 0
      },
      "text/plain": [
       "VBox()"
      ]
     },
     "metadata": {},
     "output_type": "display_data"
    },
    {
     "data": {
      "application/vnd.jupyter.widget-view+json": {
       "model_id": "",
       "version_major": 2,
       "version_minor": 0
      },
      "text/plain": [
       "FloatProgress(value=0.0, bar_style='info', description='Progress:', layout=Layout(height='25px', width='50%'),…"
      ]
     },
     "metadata": {},
     "output_type": "display_data"
    }
   ],
   "source": [
    "res = classification_report(preds_df[\"category\"], preds_df[\"result\"], output_dict=True)\n",
    "results_df.loc[\"GenericCLogReg_bert\"] = [res[\"macro avg\"][\"f1-score\"], res[\"weighted avg\"][\"f1-score\"], res[\"accuracy\"]]"
   ]
  },
  {
   "cell_type": "markdown",
   "metadata": {
    "id": "2Ninh1PfXbR1"
   },
   "source": [
    "### GenericSVMClassifier"
   ]
  },
  {
   "cell_type": "code",
   "execution_count": 244,
   "metadata": {
    "execution": {
     "iopub.execute_input": "2023-09-15T10:02:20.361817Z",
     "iopub.status.busy": "2023-09-15T10:02:20.361569Z",
     "iopub.status.idle": "2023-09-15T10:02:20.417160Z",
     "shell.execute_reply": "2023-09-15T10:02:20.416372Z",
     "shell.execute_reply.started": "2023-09-15T10:02:20.361786Z"
    },
    "id": "-HiP42eZXbR1"
   },
   "outputs": [
    {
     "data": {
      "application/vnd.jupyter.widget-view+json": {
       "model_id": "bb051451e56a4724ac10c0c35a74e08a",
       "version_major": 2,
       "version_minor": 0
      },
      "text/plain": [
       "VBox()"
      ]
     },
     "metadata": {},
     "output_type": "display_data"
    },
    {
     "data": {
      "application/vnd.jupyter.widget-view+json": {
       "model_id": "",
       "version_major": 2,
       "version_minor": 0
      },
      "text/plain": [
       "FloatProgress(value=0.0, bar_style='info', description='Progress:', layout=Layout(height='25px', width='50%'),…"
      ]
     },
     "metadata": {},
     "output_type": "display_data"
    }
   ],
   "source": [
    "graph_folder = \"/tmp/gc_graph\"\n",
    "\n",
    "gc_svm_graph_builder = medical.TFGraphBuilder()\\\n",
    "    .setModelName(\"svm_classifier\")\\\n",
    "    .setInputCols([\"feature_vector\"]) \\\n",
    "    .setLabelColumn(\"category\")\\\n",
    "    .setGraphFolder(graph_folder)\\\n",
    "    .setGraphFile(\"svm_graph.pb\")"
   ]
  },
  {
   "cell_type": "markdown",
   "metadata": {
    "id": "PgSWTx2_XbR1"
   },
   "source": [
    "GenericSVMClassifier needs outputs from FeaturesAssembler. The FeaturesAssembler is used to collect features from different columns or an embeddings column.\n",
    "\n",
    "The GenericSVMClassifier takes FEATURE_VECTOR annotations as input, classifies them and outputs CATEGORY annotations."
   ]
  },
  {
   "cell_type": "code",
   "execution_count": 245,
   "metadata": {
    "execution": {
     "iopub.execute_input": "2023-09-15T10:02:20.418518Z",
     "iopub.status.busy": "2023-09-15T10:02:20.418301Z",
     "iopub.status.idle": "2023-09-15T10:02:20.474413Z",
     "shell.execute_reply": "2023-09-15T10:02:20.473717Z",
     "shell.execute_reply.started": "2023-09-15T10:02:20.418487Z"
    },
    "id": "IfKccrLdXbR1"
   },
   "outputs": [
    {
     "data": {
      "application/vnd.jupyter.widget-view+json": {
       "model_id": "77759c5061e3493e8e71a304257c892b",
       "version_major": 2,
       "version_minor": 0
      },
      "text/plain": [
       "VBox()"
      ]
     },
     "metadata": {},
     "output_type": "display_data"
    },
    {
     "data": {
      "application/vnd.jupyter.widget-view+json": {
       "model_id": "",
       "version_major": 2,
       "version_minor": 0
      },
      "text/plain": [
       "FloatProgress(value=0.0, bar_style='info', description='Progress:', layout=Layout(height='25px', width='50%'),…"
      ]
     },
     "metadata": {},
     "output_type": "display_data"
    }
   ],
   "source": [
    "features_asm = medical.FeaturesAssembler()\\\n",
    "    .setInputCols([\"sentence_embeddings\"])\\\n",
    "    .setOutputCol(\"feature_vector\")\n",
    "\n",
    "gen_clf = medical.GenericSVMClassifierApproach()\\\n",
    "    .setLabelColumn(\"category\")\\\n",
    "    .setInputCols(\"feature_vector\")\\\n",
    "    .setOutputCol(\"prediction\")\\\n",
    "    .setModelFile(f\"{graph_folder}/svm_graph.pb\")\\\n",
    "    .setEpochsNumber(30)\\\n",
    "    .setBatchSize(64)\\\n",
    "    .setLearningRate(0.004)\\\n",
    "    .setOutputLogsPath(log_folder)\\\n",
    "    .setDropout(0.1)\\\n",
    "    .setFixImbalance(True)\\\n",
    "    # .setValidationSplit(0.1)\n",
    "\n",
    "clf_Pipeline = nlp.Pipeline(stages=[\n",
    "    features_asm,\n",
    "    gc_svm_graph_builder,\n",
    "    gen_clf])\n"
   ]
  },
  {
   "cell_type": "code",
   "execution_count": 246,
   "metadata": {
    "colab": {
     "base_uri": "https://localhost:8080/"
    },
    "execution": {
     "iopub.execute_input": "2023-09-15T10:02:20.475633Z",
     "iopub.status.busy": "2023-09-15T10:02:20.475420Z",
     "iopub.status.idle": "2023-09-15T10:05:36.543401Z",
     "shell.execute_reply": "2023-09-15T10:05:36.542384Z",
     "shell.execute_reply.started": "2023-09-15T10:02:20.475603Z"
    },
    "executionInfo": {
     "elapsed": 134773,
     "status": "ok",
     "timestamp": 1689673155628,
     "user": {
      "displayName": "Ahmet Mesut BİROL",
      "userId": "04340760882990254267"
     },
     "user_tz": -180
    },
    "id": "3PSzGUAKXbR2",
    "outputId": "207865e7-ad71-4e07-bf0d-dbbc486bbfbe"
   },
   "outputs": [
    {
     "data": {
      "application/vnd.jupyter.widget-view+json": {
       "model_id": "3434522ca71142fc85d7f92e0b73c598",
       "version_major": 2,
       "version_minor": 0
      },
      "text/plain": [
       "VBox()"
      ]
     },
     "metadata": {},
     "output_type": "display_data"
    },
    {
     "data": {
      "application/vnd.jupyter.widget-view+json": {
       "model_id": "",
       "version_major": 2,
       "version_minor": 0
      },
      "text/plain": [
       "FloatProgress(value=0.0, bar_style='info', description='Progress:', layout=Layout(height='25px', width='50%'),…"
      ]
     },
     "metadata": {},
     "output_type": "display_data"
    },
    {
     "name": "stdout",
     "output_type": "stream",
     "text": [
      "TF Graph Builder configuration:\n",
      "Model name: svm_classifier\n",
      "Graph folder: /tmp/gc_graph\n",
      "Graph file name: svm_graph.pb\n",
      "Build params: {'input_dim': 768, 'output_dim': 4, 'hidden_layers': [], 'output_act': 'sigmoid', 'loss_func': 'hinge'}\n",
      "svm_classifier graph exported to /tmp/gc_graph/svm_graph.pb"
     ]
    }
   ],
   "source": [
    "generic_model_bert = clf_Pipeline.fit(trainingData_with_embeddings)"
   ]
  },
  {
   "cell_type": "code",
   "execution_count": 247,
   "metadata": {
    "execution": {
     "iopub.execute_input": "2023-09-15T10:05:36.544737Z",
     "iopub.status.busy": "2023-09-15T10:05:36.544512Z",
     "iopub.status.idle": "2023-09-15T10:05:45.842621Z",
     "shell.execute_reply": "2023-09-15T10:05:45.841731Z",
     "shell.execute_reply.started": "2023-09-15T10:05:36.544707Z"
    },
    "id": "Guibj0k8XbR2"
   },
   "outputs": [
    {
     "data": {
      "application/vnd.jupyter.widget-view+json": {
       "model_id": "5267cdb1f2e848bfa59ecdf6da91d822",
       "version_major": 2,
       "version_minor": 0
      },
      "text/plain": [
       "VBox()"
      ]
     },
     "metadata": {},
     "output_type": "display_data"
    },
    {
     "data": {
      "application/vnd.jupyter.widget-view+json": {
       "model_id": "",
       "version_major": 2,
       "version_minor": 0
      },
      "text/plain": [
       "FloatProgress(value=0.0, bar_style='info', description='Progress:', layout=Layout(height='25px', width='50%'),…"
      ]
     },
     "metadata": {},
     "output_type": "display_data"
    }
   ],
   "source": [
    "pred_df = generic_model_bert.transform(testData_with_embeddings)"
   ]
  },
  {
   "cell_type": "code",
   "execution_count": 248,
   "metadata": {
    "colab": {
     "base_uri": "https://localhost:8080/"
    },
    "execution": {
     "iopub.execute_input": "2023-09-15T10:05:45.843873Z",
     "iopub.status.busy": "2023-09-15T10:05:45.843620Z",
     "iopub.status.idle": "2023-09-15T10:05:55.142817Z",
     "shell.execute_reply": "2023-09-15T10:05:55.141888Z",
     "shell.execute_reply.started": "2023-09-15T10:05:45.843840Z"
    },
    "executionInfo": {
     "elapsed": 7058,
     "status": "ok",
     "timestamp": 1689673169699,
     "user": {
      "displayName": "Ahmet Mesut BİROL",
      "userId": "04340760882990254267"
     },
     "user_tz": -180
    },
    "id": "ElyprrUMXbR2",
    "outputId": "e475211a-f487-4772-dcbb-b576a8dc8e6e"
   },
   "outputs": [
    {
     "data": {
      "application/vnd.jupyter.widget-view+json": {
       "model_id": "e8e41fb5ea7644ddadcfcd78bfa3d22d",
       "version_major": 2,
       "version_minor": 0
      },
      "text/plain": [
       "VBox()"
      ]
     },
     "metadata": {},
     "output_type": "display_data"
    },
    {
     "data": {
      "application/vnd.jupyter.widget-view+json": {
       "model_id": "",
       "version_major": 2,
       "version_minor": 0
      },
      "text/plain": [
       "FloatProgress(value=0.0, bar_style='info', description='Progress:', layout=Layout(height='25px', width='50%'),…"
      ]
     },
     "metadata": {},
     "output_type": "display_data"
    },
    {
     "name": "stdout",
     "output_type": "stream",
     "text": [
      "                  precision    recall  f1-score   support\n",
      "\n",
      "Gastroenterology       0.96      0.92      0.94        25\n",
      "       Neurology       0.78      0.95      0.86        22\n",
      "      Orthopedic       0.97      0.83      0.89        35\n",
      "         Urology       0.86      0.90      0.88        20\n",
      "\n",
      "        accuracy                           0.89       102\n",
      "       macro avg       0.89      0.90      0.89       102\n",
      "    weighted avg       0.90      0.89      0.89       102"
     ]
    }
   ],
   "source": [
    "preds_df = pred_df.select('category','prediction.result').toPandas()\n",
    "preds_df['result'] = preds_df.result.apply(lambda x : x[0])\n",
    "\n",
    "print (classification_report(preds_df['category'], preds_df['result']))"
   ]
  },
  {
   "cell_type": "code",
   "execution_count": 249,
   "metadata": {
    "execution": {
     "iopub.execute_input": "2023-09-15T10:05:55.144008Z",
     "iopub.status.busy": "2023-09-15T10:05:55.143789Z",
     "iopub.status.idle": "2023-09-15T10:05:55.200768Z",
     "shell.execute_reply": "2023-09-15T10:05:55.200040Z",
     "shell.execute_reply.started": "2023-09-15T10:05:55.143977Z"
    },
    "id": "W6KWgWJbITVN",
    "tags": []
   },
   "outputs": [
    {
     "data": {
      "application/vnd.jupyter.widget-view+json": {
       "model_id": "ca6d14db3df74b07b4996778a8d02afc",
       "version_major": 2,
       "version_minor": 0
      },
      "text/plain": [
       "VBox()"
      ]
     },
     "metadata": {},
     "output_type": "display_data"
    },
    {
     "data": {
      "application/vnd.jupyter.widget-view+json": {
       "model_id": "",
       "version_major": 2,
       "version_minor": 0
      },
      "text/plain": [
       "FloatProgress(value=0.0, bar_style='info', description='Progress:', layout=Layout(height='25px', width='50%'),…"
      ]
     },
     "metadata": {},
     "output_type": "display_data"
    }
   ],
   "source": [
    "res = classification_report(preds_df[\"category\"], preds_df[\"result\"], output_dict=True)\n",
    "results_df.loc[\"GenericCSVM_bert\"] = [res[\"macro avg\"][\"f1-score\"], res[\"weighted avg\"][\"f1-score\"], res[\"accuracy\"]]"
   ]
  },
  {
   "cell_type": "markdown",
   "metadata": {
    "id": "hJCE-sWM9oaK"
   },
   "source": [
    "## DocumentLogRegClassifier"
   ]
  },
  {
   "cell_type": "code",
   "execution_count": 250,
   "metadata": {
    "execution": {
     "iopub.execute_input": "2023-09-15T10:05:55.201911Z",
     "iopub.status.busy": "2023-09-15T10:05:55.201667Z",
     "iopub.status.idle": "2023-09-15T10:06:11.998469Z",
     "shell.execute_reply": "2023-09-15T10:06:11.508994Z",
     "shell.execute_reply.started": "2023-09-15T10:05:55.201880Z"
    },
    "id": "FUHSa7b79oaK",
    "tags": []
   },
   "outputs": [
    {
     "data": {
      "application/vnd.jupyter.widget-view+json": {
       "model_id": "dae13d4e6e174e1d883de3f19e720ed4",
       "version_major": 2,
       "version_minor": 0
      },
      "text/plain": [
       "VBox()"
      ]
     },
     "metadata": {},
     "output_type": "display_data"
    },
    {
     "data": {
      "application/vnd.jupyter.widget-view+json": {
       "model_id": "",
       "version_major": 2,
       "version_minor": 0
      },
      "text/plain": [
       "FloatProgress(value=0.0, bar_style='info', description='Progress:', layout=Layout(height='25px', width='50%'),…"
      ]
     },
     "metadata": {},
     "output_type": "display_data"
    }
   ],
   "source": [
    "document_assembler = nlp.DocumentAssembler()\\\n",
    "    .setInputCol(\"text\")\\\n",
    "    .setOutputCol(\"document\")\n",
    "\n",
    "tokenizer = nlp.Tokenizer() \\\n",
    "    .setInputCols([\"document\"]) \\\n",
    "    .setOutputCol(\"token\")\n",
    "\n",
    "logreg = medical.DocumentLogRegClassifierApproach()\\\n",
    "    .setInputCols(\"token\")\\\n",
    "    .setLabelCol(\"category\")\\\n",
    "    .setOutputCol(\"prediction\")\\\n",
    "    .setMaxIter(10)\\\n",
    "    .setTol(1e-6)\n",
    "\n",
    "clf_Pipeline = nlp.Pipeline(stages=[document_assembler,\n",
    "                                tokenizer,\n",
    "                                logreg])\n",
    "\n",
    "doclogreg_model = clf_Pipeline.fit(trainingData)"
   ]
  },
  {
   "cell_type": "code",
   "execution_count": 251,
   "metadata": {
    "colab": {
     "base_uri": "https://localhost:8080/"
    },
    "execution": {
     "iopub.execute_input": "2023-09-15T10:06:11.999791Z",
     "iopub.status.busy": "2023-09-15T10:06:11.999506Z",
     "iopub.status.idle": "2023-09-15T10:06:15.780512Z",
     "shell.execute_reply": "2023-09-15T10:06:15.779573Z",
     "shell.execute_reply.started": "2023-09-15T10:06:11.999757Z"
    },
    "executionInfo": {
     "elapsed": 2954,
     "status": "ok",
     "timestamp": 1689673184005,
     "user": {
      "displayName": "Ahmet Mesut BİROL",
      "userId": "04340760882990254267"
     },
     "user_tz": -180
    },
    "id": "PbOx1a7X9oaK",
    "outputId": "3391977c-64a4-468f-9fde-bdb3c56108c6"
   },
   "outputs": [
    {
     "data": {
      "application/vnd.jupyter.widget-view+json": {
       "model_id": "d7289784d2fb4699872ff0e053c13fcb",
       "version_major": 2,
       "version_minor": 0
      },
      "text/plain": [
       "VBox()"
      ]
     },
     "metadata": {},
     "output_type": "display_data"
    },
    {
     "data": {
      "application/vnd.jupyter.widget-view+json": {
       "model_id": "",
       "version_major": 2,
       "version_minor": 0
      },
      "text/plain": [
       "FloatProgress(value=0.0, bar_style='info', description='Progress:', layout=Layout(height='25px', width='50%'),…"
      ]
     },
     "metadata": {},
     "output_type": "display_data"
    },
    {
     "name": "stdout",
     "output_type": "stream",
     "text": [
      "                  precision    recall  f1-score   support\n",
      "\n",
      "Gastroenterology       0.88      0.88      0.88        25\n",
      "       Neurology       0.81      0.77      0.79        22\n",
      "      Orthopedic       0.86      0.89      0.87        35\n",
      "         Urology       0.90      0.90      0.90        20\n",
      "\n",
      "        accuracy                           0.86       102\n",
      "       macro avg       0.86      0.86      0.86       102\n",
      "    weighted avg       0.86      0.86      0.86       102"
     ]
    }
   ],
   "source": [
    "pred_df = doclogreg_model.transform(testData)\n",
    "\n",
    "preds_df = pred_df.select('category','prediction.result').toPandas()\n",
    "preds_df['result'] = preds_df.result.apply(lambda x : x[0])\n",
    "\n",
    "print (classification_report(preds_df['category'], preds_df['result']))"
   ]
  },
  {
   "cell_type": "code",
   "execution_count": 252,
   "metadata": {
    "execution": {
     "iopub.execute_input": "2023-09-15T10:06:15.782224Z",
     "iopub.status.busy": "2023-09-15T10:06:15.781894Z",
     "iopub.status.idle": "2023-09-15T10:06:15.844511Z",
     "shell.execute_reply": "2023-09-15T10:06:15.843787Z",
     "shell.execute_reply.started": "2023-09-15T10:06:15.782176Z"
    },
    "id": "LdY4d324IamR"
   },
   "outputs": [
    {
     "data": {
      "application/vnd.jupyter.widget-view+json": {
       "model_id": "e6c383766a5141928419fe832781a3dd",
       "version_major": 2,
       "version_minor": 0
      },
      "text/plain": [
       "VBox()"
      ]
     },
     "metadata": {},
     "output_type": "display_data"
    },
    {
     "data": {
      "application/vnd.jupyter.widget-view+json": {
       "model_id": "",
       "version_major": 2,
       "version_minor": 0
      },
      "text/plain": [
       "FloatProgress(value=0.0, bar_style='info', description='Progress:', layout=Layout(height='25px', width='50%'),…"
      ]
     },
     "metadata": {},
     "output_type": "display_data"
    }
   ],
   "source": [
    "res = classification_report(preds_df[\"category\"], preds_df[\"result\"], output_dict=True)\n",
    "results_df.loc[\"DocumentLogRegClassifier\"] = [res[\"macro avg\"][\"f1-score\"], res[\"weighted avg\"][\"f1-score\"], res[\"accuracy\"]]"
   ]
  },
  {
   "cell_type": "markdown",
   "metadata": {
    "id": "RWOdB2ajIjs6"
   },
   "source": [
    "## Comparision of All Models' Result in Mtsamples Dataset"
   ]
  },
  {
   "cell_type": "markdown",
   "metadata": {
    "id": "K4Uti1kLIjs7"
   },
   "source": [
    "Here is the all results of classifier models. Macro f1, weighted f1 and accuracy scores are presented."
   ]
  },
  {
   "cell_type": "code",
   "execution_count": 253,
   "metadata": {
    "colab": {
     "base_uri": "https://localhost:8080/",
     "height": 551
    },
    "execution": {
     "iopub.execute_input": "2023-09-15T10:06:15.845604Z",
     "iopub.status.busy": "2023-09-15T10:06:15.845400Z",
     "iopub.status.idle": "2023-09-15T10:06:15.900728Z",
     "shell.execute_reply": "2023-09-15T10:06:15.900031Z",
     "shell.execute_reply.started": "2023-09-15T10:06:15.845575Z"
    },
    "executionInfo": {
     "elapsed": 506,
     "status": "ok",
     "timestamp": 1689673184496,
     "user": {
      "displayName": "Ahmet Mesut BİROL",
      "userId": "04340760882990254267"
     },
     "user_tz": -180
    },
    "id": "1FYug56LIjs7",
    "outputId": "84866273-9c60-44a9-a4a9-0d76d01d53ec"
   },
   "outputs": [
    {
     "data": {
      "application/vnd.jupyter.widget-view+json": {
       "model_id": "6ec3c561dc6f4c48853690570f45d085",
       "version_major": 2,
       "version_minor": 0
      },
      "text/plain": [
       "VBox()"
      ]
     },
     "metadata": {},
     "output_type": "display_data"
    },
    {
     "data": {
      "application/vnd.jupyter.widget-view+json": {
       "model_id": "",
       "version_major": 2,
       "version_minor": 0
      },
      "text/plain": [
       "FloatProgress(value=0.0, bar_style='info', description='Progress:', layout=Layout(height='25px', width='50%'),…"
      ]
     },
     "metadata": {},
     "output_type": "display_data"
    },
    {
     "name": "stdout",
     "output_type": "stream",
     "text": [
      "                          macro-f1-score  weighted-f1-score  accuracy\n",
      "ClassifierDL_100d               0.772057           0.793293  0.794118\n",
      "MultiClassifierDL_100d          0.885247           0.886721  0.887755\n",
      "GenericClassifier_100d          0.879224           0.881669  0.882353\n",
      "GenericLogReg_100d              0.867845           0.871984  0.872549\n",
      "GenericSVM_100d                 0.877119           0.882451  0.882353\n",
      "ClassifierDL_200d               0.336371           0.375713  0.529412\n",
      "MultiClassifierDL_200d          0.906453           0.907969  0.908163\n",
      "GenericClassifier_200d          0.862950           0.872785  0.872549\n",
      "GenericLogReg_200d              0.823940           0.832112  0.833333\n",
      "GenericSVM_200d                 0.881106           0.883098  0.882353\n",
      "ClassifierDL_bert               0.883644           0.882072  0.882353\n",
      "MultiClassifierDL_bert          0.884821           0.887095  0.886598\n",
      "GenericClassifier_bert          0.862215           0.863384  0.862745\n",
      "GenericCLogReg_bert             0.870690           0.872294  0.872549\n",
      "GenericCSVM_bert                0.891569           0.893316  0.892157\n",
      "DocumentLogRegClassifier        0.860984           0.862340  0.862745"
     ]
    }
   ],
   "source": [
    "results_df"
   ]
  },
  {
   "cell_type": "code",
   "execution_count": null,
   "metadata": {},
   "outputs": [],
   "source": []
  }
 ],
 "metadata": {
  "accelerator": "TPU",
  "colab": {
   "machine_shape": "hm",
   "provenance": []
  },
  "kernelspec": {
   "display_name": "PySpark",
   "language": "",
   "name": "pysparkkernel"
  },
  "language_info": {
   "codemirror_mode": {
    "name": "python",
    "version": 3
   },
   "mimetype": "text/x-python",
   "name": "pyspark",
   "pygments_lexer": "python3"
  },
  "vscode": {
   "interpreter": {
    "hash": "8f527f757492231011ff0f96452bff72dba1ece595fe9390d852b709bf8922e1"
   }
  }
 },
 "nbformat": 4,
 "nbformat_minor": 4
}

{
 "cells": [
  {
   "cell_type": "markdown",
   "metadata": {
    "id": "JWCwiy5flBq7"
   },
   "source": [
    "![JohnSnowLabs](https://nlp.johnsnowlabs.com/assets/images/logo.png)\n"
   ]
  },
  {
   "cell_type": "markdown",
   "metadata": {
    "id": "WwQqbVm4r_hV"
   },
   "source": [
    "[![Open In Colab](https://colab.research.google.com/assets/colab-badge.svg)](https://colab.research.google.com/github/JohnSnowLabs/spark-nlp-workshop/blob/master/products/emr/healthcare/23.0.Medical_Question_Answering.ipynb)\n"
   ]
  },
  {
   "cell_type": "markdown",
   "metadata": {
    "id": "5hzypXmUlNYC"
   },
   "source": [
    "# **Medical Question Answering**"
   ]
  },
  {
   "cell_type": "markdown",
   "metadata": {
    "id": "cR1mia8SxJVA"
   },
   "source": [
    "**Welcoming BioGPT (Generative Pre-Trained Transformer For Biomedical Text Generation and Mining) to Spark NLP**\n",
    "\n",
    "BioGPT is a domain-specific generative pre-trained Transformer language model for biomedical text generation and mining. BioGPT follows the Transformer language model backbone, and is pre-trained on 15M PubMed abstracts from scratch. Experiments demonstrate that BioGPT achieves better performance compared with baseline methods and other well-performing methods across all the tasks. Read more at [the official paper.](https://arxiv.org/abs/2210.10341)\n",
    "\n",
    "We ported BioGPT (`BioGPT-QA-PubMedQA-BioGPT`) into Spark NLP for Healthcare with better inference speed and memory optimization, that enable us to get 20x faster results with less memory compared to the HuggingFace version.\n"
   ]
  },
  {
   "cell_type": "markdown",
   "metadata": {},
   "source": [
    "📌 The license was provided and all necessary libraries and jars were installed when the EMR cluster was created."
   ]
  },
  {
   "cell_type": "code",
   "execution_count": 1,
   "metadata": {
    "execution": {
     "iopub.execute_input": "2023-09-14T10:15:57.932143Z",
     "iopub.status.busy": "2023-09-14T10:15:57.931881Z",
     "iopub.status.idle": "2023-09-14T10:16:45.836096Z",
     "shell.execute_reply": "2023-09-14T10:16:45.835413Z",
     "shell.execute_reply.started": "2023-09-14T10:15:57.932112Z"
    },
    "id": "4XT1aC3-CpaH"
   },
   "outputs": [
    {
     "data": {
      "application/vnd.jupyter.widget-view+json": {
       "model_id": "adfa9514624348e6b69a2f2be8b655bc",
       "version_major": 2,
       "version_minor": 0
      },
      "text/plain": [
       "VBox()"
      ]
     },
     "metadata": {},
     "output_type": "display_data"
    },
    {
     "name": "stdout",
     "output_type": "stream",
     "text": [
      "Starting Spark application\n"
     ]
    },
    {
     "data": {
      "text/html": [
       "<table>\n",
       "<tbody><tr><th>ID</th><th>YARN Application ID</th><th>Kind</th><th>State</th><th>Spark UI</th><th>Driver log</th><th>Current session?</th></tr><tr><td>3</td><td>application_1694678399836_0004</td><td>pyspark</td><td>idle</td><td><a target=\"_blank\" href=\"http://ip-172-31-18-38.ec2.internal:20888/proxy/application_1694678399836_0004/\" class=\"emr-proxy-link j-VCJJL1HX7NYG application_1694678399836_0004\" emr-resource=\"j-VCJJL1HX7NYG\n",
       "\" application-id=\"application_1694678399836_0004\">Link</a></td><td><a target=\"_blank\" href=\"http://ip-172-31-28-205.ec2.internal:8042/node/containerlogs/container_1694678399836_0004_01_000001/livy\">Link</a></td><td>✔</td></tr></tbody></table>"
      ],
      "text/plain": [
       "<IPython.core.display.HTML object>"
      ]
     },
     "metadata": {},
     "output_type": "display_data"
    },
    {
     "data": {
      "application/vnd.jupyter.widget-view+json": {
       "model_id": "",
       "version_major": 2,
       "version_minor": 0
      },
      "text/plain": [
       "FloatProgress(value=0.0, bar_style='info', description='Progress:', layout=Layout(height='25px', width='50%'),…"
      ]
     },
     "metadata": {},
     "output_type": "display_data"
    },
    {
     "name": "stdout",
     "output_type": "stream",
     "text": [
      "SparkSession available as 'spark'.\n"
     ]
    },
    {
     "data": {
      "application/vnd.jupyter.widget-view+json": {
       "model_id": "",
       "version_major": 2,
       "version_minor": 0
      },
      "text/plain": [
       "FloatProgress(value=0.0, bar_style='info', description='Progress:', layout=Layout(height='25px', width='50%'),…"
      ]
     },
     "metadata": {},
     "output_type": "display_data"
    },
    {
     "name": "stdout",
     "output_type": "stream",
     "text": [
      "Spark Session already created, some configs may not take.\n",
      "📋 Loading license number 0 from /lib/.johnsnowlabs/johnsnowlabs/licenses/license_number_0_for_Spark-Healthcare.json"
     ]
    }
   ],
   "source": [
    "from johnsnowlabs import nlp, medical, visual\n",
    "import pandas as pd\n",
    "\n",
    "# Automatically load jars to the session\n",
    "spark = nlp.start()"
   ]
  },
  {
   "cell_type": "code",
   "execution_count": 2,
   "metadata": {
    "execution": {
     "iopub.execute_input": "2023-09-14T10:16:45.837576Z",
     "iopub.status.busy": "2023-09-14T10:16:45.837362Z",
     "iopub.status.idle": "2023-09-14T10:16:45.896433Z",
     "shell.execute_reply": "2023-09-14T10:16:45.895683Z",
     "shell.execute_reply.started": "2023-09-14T10:16:45.837548Z"
    },
    "id": "P69EzynzC5E7"
   },
   "outputs": [
    {
     "data": {
      "application/vnd.jupyter.widget-view+json": {
       "model_id": "daa6d2c27a7f4f3caeb88dd005d4664b",
       "version_major": 2,
       "version_minor": 0
      },
      "text/plain": [
       "VBox()"
      ]
     },
     "metadata": {},
     "output_type": "display_data"
    },
    {
     "data": {
      "application/vnd.jupyter.widget-view+json": {
       "model_id": "",
       "version_major": 2,
       "version_minor": 0
      },
      "text/plain": [
       "FloatProgress(value=0.0, bar_style='info', description='Progress:', layout=Layout(height='25px', width='50%'),…"
      ]
     },
     "metadata": {},
     "output_type": "display_data"
    }
   ],
   "source": [
    "from pyspark.sql import DataFrame\n",
    "import pyspark.sql.functions as F\n",
    "import pyspark.sql.types as T\n",
    "import pyspark.sql as SQL\n",
    "from pyspark import keyword_only"
   ]
  },
  {
   "cell_type": "markdown",
   "metadata": {
    "id": "7Nv8ISD_ltNo"
   },
   "source": [
    "# 🔎 MODELS"
   ]
  },
  {
   "cell_type": "markdown",
   "metadata": {
    "id": "f2F4o7FH-nNv"
   },
   "source": [
    "<div align=\"center\">\n",
    "\n",
    "| **Index** | **Question Answer Models**        |\n",
    "|---------------|----------------------|\n",
    "| 1        | [medical_qa_biogpt](https://nlp.johnsnowlabs.com/2023/05/17/medical_qa_biogpt_en.html)     |\n",
    "| 2          | [flan_t5_base_jsl_qa](https://nlp.johnsnowlabs.com/2023/05/15/flan_t5_base_jsl_qa_en.html)       |\n",
    "| 3          | [clinical_notes_qa_large](https://nlp.johnsnowlabs.com/2023/07/06/clinical_notes_qa_base_en.html)       |\n",
    "| 4          | [clinical_notes_qa_base](https://nlp.johnsnowlabs.com/2023/07/06/clinical_notes_qa_large_en.html)       |\n",
    "\n",
    "\n",
    "</div>"
   ]
  },
  {
   "cell_type": "markdown",
   "metadata": {
    "id": "EUP83I58lxPD"
   },
   "source": [
    "## [medical_qa_biogpt](https://nlp.johnsnowlabs.com/2023/03/09/medical_qa_biogpt_en.html)\n",
    "This model has been trained with medical documents and can generate two types of answers, `short` and `long`."
   ]
  },
  {
   "cell_type": "code",
   "execution_count": 3,
   "metadata": {
    "colab": {
     "base_uri": "https://localhost:8080/"
    },
    "execution": {
     "iopub.execute_input": "2023-09-14T10:16:45.898093Z",
     "iopub.status.busy": "2023-09-14T10:16:45.897841Z",
     "iopub.status.idle": "2023-09-14T10:16:57.241435Z",
     "shell.execute_reply": "2023-09-14T10:16:57.240753Z",
     "shell.execute_reply.started": "2023-09-14T10:16:45.898063Z"
    },
    "id": "FY7jlMeXtq-G",
    "outputId": "85b60c3f-b153-4b77-c087-d248a3e4b316"
   },
   "outputs": [
    {
     "data": {
      "application/vnd.jupyter.widget-view+json": {
       "model_id": "6941d582504c408b93439682a4063f62",
       "version_major": 2,
       "version_minor": 0
      },
      "text/plain": [
       "VBox()"
      ]
     },
     "metadata": {},
     "output_type": "display_data"
    },
    {
     "data": {
      "application/vnd.jupyter.widget-view+json": {
       "model_id": "",
       "version_major": 2,
       "version_minor": 0
      },
      "text/plain": [
       "FloatProgress(value=0.0, bar_style='info', description='Progress:', layout=Layout(height='25px', width='50%'),…"
      ]
     },
     "metadata": {},
     "output_type": "display_data"
    },
    {
     "name": "stdout",
     "output_type": "stream",
     "text": [
      "+------------------------------------------------------------+------------------------------------------------------------+\n",
      "|                                                     context|                                                    question|\n",
      "+------------------------------------------------------------+------------------------------------------------------------+\n",
      "|We have previously reported the feasibility of diagnostic...|        Transgastric endoscopic splenectomy: is it possible?|\n",
      "|To evaluate the degree to which histologic chorioamnionit...|Does histologic chorioamnionitis correspond to clinical c...|\n",
      "|In patients with Los Angeles (LA) grade C or D oesophagit...|Is there an optimal time of acid suppression for maximal ...|\n",
      "+------------------------------------------------------------+------------------------------------------------------------+"
     ]
    }
   ],
   "source": [
    "paper_abstract = [\n",
    "    \"We have previously reported the feasibility of diagnostic and therapeutic peritoneoscopy including liver biopsy, gastrojejunostomy, and tubal ligation by an oral transgastric approach. We present results of per-oral transgastric splenectomy in a porcine model. The goal of this study was to determine the technical feasibility of per-oral transgastric splenectomy using a flexible endoscope. We performed acute experiments on 50-kg pigs. All animals were fed liquids for 3 days prior to procedure. The procedures were performed under general anesthesia with endotracheal intubation. The flexible endoscope was passed per orally into the stomach and puncture of the gastric wall was performed with a needle knife. The puncture was extended to create a 1.5-cm incision using a pull-type sphincterotome, and a double-channel endoscope was advanced into the peritoneal cavity. The peritoneal cavity was insufflated with air through the endoscope. The spleen was visualized. The splenic vessels were ligated with endoscopic loops and clips, and then mesentery was dissected using electrocautery. Endoscopic splenectomy was performed on six pigs. There were no complications during gastric incision and entrance into the peritoneal cavity. Visualization of the spleen and other intraperitoneal organs was very good. Ligation of the splenic vessels and mobilization of the spleen were achieved using commercially available devices and endoscopic accessories.\",\n",
    "    \"To evaluate the degree to which histologic chorioamnionitis, a frequent finding in placentas submitted for histopathologic evaluation, correlates with clinical indicators of infection in the mother. A retrospective review was performed on 52 cases with a histologic diagnosis of acute chorioamnionitis from 2,051 deliveries at University Hospital, Newark, from January 2003 to July 2003. Third-trimester placentas without histologic chorioamnionitis (n = 52) served as controls. Cases and controls were selected sequentially. Maternal medical records were reviewed for indicators of maternal infection. Histologic chorioamnionitis was significantly associated with the usage of antibiotics (p = 0.0095) and a higher mean white blood cell count (p = 0.018). The presence of 1 or more clinical indicators was significantly associated with the presence of histologic chorioamnionitis (p = 0.019).\",\n",
    "    \"In patients with Los Angeles (LA) grade C or D oesophagitis, a positive relationship has been established between the duration of intragastric acid suppression and healing.AIM: To determine whether there is an apparent optimal time of intragastric acid suppression for maximal healing of reflux oesophagitis. Post hoc analysis of data from a proof-of-concept, double-blind, randomized study of 134 adult patients treated with esomeprazole (10 or 40 mg od for 4 weeks) for LA grade C or D oesophagitis. A curve was fitted to pooled 24-h intragastric pH (day 5) and endoscopically assessed healing (4 weeks) data using piecewise quadratic logistic regression. Maximal reflux oesophagitis healing rates were achieved when intragastric pH>4 was achieved for approximately 50-70% (12-17 h) of the 24-h period. Acid suppression above this threshold did not yield further increases in healing rates.\"\n",
    "                  ]\n",
    "\n",
    "question = [\n",
    "    \"Transgastric endoscopic splenectomy: is it possible?\",\n",
    "    \"Does histologic chorioamnionitis correspond to clinical chorioamnionitis?\",\n",
    "    \"Is there an optimal time of acid suppression for maximal healing?\"\n",
    "          ]\n",
    "\n",
    "data = spark.createDataFrame(\n",
    "    [\n",
    "        [paper_abstract[0],  question[0]],\n",
    "        [paper_abstract[1],  question[1]],\n",
    "        [paper_abstract[2],  question[2]],\n",
    "    ]\n",
    ").toDF(\"context\",\"question\")\n",
    "\n",
    "data.show(truncate = 60)"
   ]
  },
  {
   "cell_type": "markdown",
   "metadata": {
    "id": "C0N6wrU0rgSg"
   },
   "source": [
    "### **Short answer**"
   ]
  },
  {
   "cell_type": "markdown",
   "metadata": {
    "id": "yz9TfQ5RfIzc"
   },
   "source": [
    " `Short` answers usually consist of brief and concise responses such as \"yes\" or \"no\", and they are typically given as yes/no responses to do/does, is/are, or other question words."
   ]
  },
  {
   "cell_type": "code",
   "execution_count": 4,
   "metadata": {
    "colab": {
     "base_uri": "https://localhost:8080/"
    },
    "execution": {
     "iopub.execute_input": "2023-09-14T10:16:57.242854Z",
     "iopub.status.busy": "2023-09-14T10:16:57.242640Z",
     "iopub.status.idle": "2023-09-14T10:21:14.707292Z",
     "shell.execute_reply": "2023-09-14T10:21:14.706621Z",
     "shell.execute_reply.started": "2023-09-14T10:16:57.242826Z"
    },
    "id": "QUanLWZ0qy7N",
    "outputId": "879d9e9a-a1f3-4059-9b43-2e58bf005b9b",
    "tags": []
   },
   "outputs": [
    {
     "data": {
      "application/vnd.jupyter.widget-view+json": {
       "model_id": "0f2083cb14cd4e5fa5b226a040215219",
       "version_major": 2,
       "version_minor": 0
      },
      "text/plain": [
       "VBox()"
      ]
     },
     "metadata": {},
     "output_type": "display_data"
    },
    {
     "data": {
      "application/vnd.jupyter.widget-view+json": {
       "model_id": "",
       "version_major": 2,
       "version_minor": 0
      },
      "text/plain": [
       "FloatProgress(value=0.0, bar_style='info', description='Progress:', layout=Layout(height='25px', width='50%'),…"
      ]
     },
     "metadata": {},
     "output_type": "display_data"
    },
    {
     "name": "stdout",
     "output_type": "stream",
     "text": [
      "medical_qa_biogpt download started this may take some time.\n",
      "[OK!]"
     ]
    }
   ],
   "source": [
    "document_assembler = nlp.MultiDocumentAssembler()\\\n",
    "    .setInputCols(\"question\", \"context\")\\\n",
    "    .setOutputCols(\"document_question\", \"document_context\")\n",
    "\n",
    "med_qa =medical.MedicalQuestionAnswering.pretrained(\"medical_qa_biogpt\",\"en\",\"clinical/models\")\\\n",
    "    .setInputCols([\"document_question\", \"document_context\"])\\\n",
    "    .setOutputCol(\"answer\")\\\n",
    "    .setMaxNewTokens(30)\\\n",
    "    .setTopK(1)\\\n",
    "    .setQuestionType(\"short\")\n",
    "\n",
    "pipeline = nlp.Pipeline(stages=[document_assembler, med_qa])\n",
    "\n",
    "empty_data = spark.createDataFrame([[\"\",\"\"]]).toDF(\"question\", \"context\")\n",
    "\n",
    "model = pipeline.fit(empty_data)"
   ]
  },
  {
   "cell_type": "code",
   "execution_count": 5,
   "metadata": {
    "colab": {
     "base_uri": "https://localhost:8080/"
    },
    "execution": {
     "iopub.execute_input": "2023-09-14T10:21:14.715203Z",
     "iopub.status.busy": "2023-09-14T10:21:14.714981Z",
     "iopub.status.idle": "2023-09-14T10:23:28.494947Z",
     "shell.execute_reply": "2023-09-14T10:23:28.494298Z",
     "shell.execute_reply.started": "2023-09-14T10:21:14.715174Z"
    },
    "id": "iqNPhW3AVeul",
    "outputId": "a9e59681-b64c-463c-cdba-106682541053"
   },
   "outputs": [
    {
     "data": {
      "application/vnd.jupyter.widget-view+json": {
       "model_id": "6129716e313849dda9b5ddba5fc1f2b0",
       "version_major": 2,
       "version_minor": 0
      },
      "text/plain": [
       "VBox()"
      ]
     },
     "metadata": {},
     "output_type": "display_data"
    },
    {
     "data": {
      "application/vnd.jupyter.widget-view+json": {
       "model_id": "",
       "version_major": 2,
       "version_minor": 0
      },
      "text/plain": [
       "FloatProgress(value=0.0, bar_style='info', description='Progress:', layout=Layout(height='25px', width='50%'),…"
      ]
     },
     "metadata": {},
     "output_type": "display_data"
    },
    {
     "name": "stdout",
     "output_type": "stream",
     "text": [
      "+---------------------------------------------------------------------------+------------+\n",
      "|Question                                                                   |Short_Answer|\n",
      "+---------------------------------------------------------------------------+------------+\n",
      "|[Transgastric endoscopic splenectomy: is it possible?]                     |[yes]       |\n",
      "|[Does histologic chorioamnionitis correspond to clinical chorioamnionitis?]|[yes]       |\n",
      "|[Is there an optimal time of acid suppression for maximal healing?]        |[no]        |\n",
      "+---------------------------------------------------------------------------+------------+"
     ]
    }
   ],
   "source": [
    "model.transform(data)\\\n",
    "  .selectExpr(\"document_question.result as Question\", \"answer.result as Short_Answer\")\\\n",
    "  .show(truncate=False)"
   ]
  },
  {
   "cell_type": "markdown",
   "metadata": {
    "id": "qrssZMYozT_U"
   },
   "source": [
    "**LightPipelines**"
   ]
  },
  {
   "cell_type": "code",
   "execution_count": 6,
   "metadata": {
    "colab": {
     "base_uri": "https://localhost:8080/"
    },
    "execution": {
     "iopub.execute_input": "2023-09-14T10:23:28.496084Z",
     "iopub.status.busy": "2023-09-14T10:23:28.495877Z",
     "iopub.status.idle": "2023-09-14T10:23:29.775488Z",
     "shell.execute_reply": "2023-09-14T10:23:29.774672Z",
     "shell.execute_reply.started": "2023-09-14T10:23:28.496056Z"
    },
    "id": "sT_PHXXTxtV3",
    "outputId": "29738b80-5a04-4da2-9eeb-942f020c905a",
    "tags": []
   },
   "outputs": [
    {
     "data": {
      "application/vnd.jupyter.widget-view+json": {
       "model_id": "9055aafe0ce141ff898b749d12c72293",
       "version_major": 2,
       "version_minor": 0
      },
      "text/plain": [
       "VBox()"
      ]
     },
     "metadata": {},
     "output_type": "display_data"
    },
    {
     "data": {
      "application/vnd.jupyter.widget-view+json": {
       "model_id": "",
       "version_major": 2,
       "version_minor": 0
      },
      "text/plain": [
       "FloatProgress(value=0.0, bar_style='info', description='Progress:', layout=Layout(height='25px', width='50%'),…"
      ]
     },
     "metadata": {},
     "output_type": "display_data"
    },
    {
     "name": "stdout",
     "output_type": "stream",
     "text": [
      "[{'document_question': ['Transgastric endoscopic splenectomy: is it possible?'], 'document_context': ['We have previously reported the feasibility of diagnostic and therapeutic peritoneoscopy including liver biopsy, gastrojejunostomy, and tubal ligation by an oral transgastric approach. We present results of per-oral transgastric splenectomy in a porcine model. The goal of this study was to determine the technical feasibility of per-oral transgastric splenectomy using a flexible endoscope. We performed acute experiments on 50-kg pigs. All animals were fed liquids for 3 days prior to procedure. The procedures were performed under general anesthesia with endotracheal intubation. The flexible endoscope was passed per orally into the stomach and puncture of the gastric wall was performed with a needle knife. The puncture was extended to create a 1.5-cm incision using a pull-type sphincterotome, and a double-channel endoscope was advanced into the peritoneal cavity. The peritoneal cavity was insufflated with air through the endoscope. The spleen was visualized. The splenic vessels were ligated with endoscopic loops and clips, and then mesentery was dissected using electrocautery. Endoscopic splenectomy was performed on six pigs. There were no complications during gastric incision and entrance into the peritoneal cavity. Visualization of the spleen and other intraperitoneal organs was very good. Ligation of the splenic vessels and mobilization of the spleen were achieved using commercially available devices and endoscopic accessories.'], 'answer': ['yes']}]"
     ]
    }
   ],
   "source": [
    "context =\"We have previously reported the feasibility of diagnostic and therapeutic peritoneoscopy including liver biopsy, gastrojejunostomy, and tubal ligation by an oral transgastric approach. We present results of per-oral transgastric splenectomy in a porcine model. The goal of this study was to determine the technical feasibility of per-oral transgastric splenectomy using a flexible endoscope. We performed acute experiments on 50-kg pigs. All animals were fed liquids for 3 days prior to procedure. The procedures were performed under general anesthesia with endotracheal intubation. The flexible endoscope was passed per orally into the stomach and puncture of the gastric wall was performed with a needle knife. The puncture was extended to create a 1.5-cm incision using a pull-type sphincterotome, and a double-channel endoscope was advanced into the peritoneal cavity. The peritoneal cavity was insufflated with air through the endoscope. The spleen was visualized. The splenic vessels were ligated with endoscopic loops and clips, and then mesentery was dissected using electrocautery. Endoscopic splenectomy was performed on six pigs. There were no complications during gastric incision and entrance into the peritoneal cavity. Visualization of the spleen and other intraperitoneal organs was very good. Ligation of the splenic vessels and mobilization of the spleen were achieved using commercially available devices and endoscopic accessories.\"\n",
    "question = \"Transgastric endoscopic splenectomy: is it possible?\"\n",
    "\n",
    "light_model = nlp.LightPipeline(model)\n",
    "\n",
    "light_result = light_model.annotate([question],[context])\n",
    "\n",
    "light_result"
   ]
  },
  {
   "cell_type": "code",
   "execution_count": 7,
   "metadata": {
    "colab": {
     "base_uri": "https://localhost:8080/"
    },
    "execution": {
     "iopub.execute_input": "2023-09-14T10:23:29.776670Z",
     "iopub.status.busy": "2023-09-14T10:23:29.776443Z",
     "iopub.status.idle": "2023-09-14T10:23:29.830331Z",
     "shell.execute_reply": "2023-09-14T10:23:29.829647Z",
     "shell.execute_reply.started": "2023-09-14T10:23:29.776641Z"
    },
    "id": "rv8i66Edy7TT",
    "outputId": "cff1b8c5-e1bb-46a5-b05a-13dbf43a6319"
   },
   "outputs": [
    {
     "data": {
      "application/vnd.jupyter.widget-view+json": {
       "model_id": "4f307b7ee4f940c784686227ac9bfc40",
       "version_major": 2,
       "version_minor": 0
      },
      "text/plain": [
       "VBox()"
      ]
     },
     "metadata": {},
     "output_type": "display_data"
    },
    {
     "data": {
      "application/vnd.jupyter.widget-view+json": {
       "model_id": "",
       "version_major": 2,
       "version_minor": 0
      },
      "text/plain": [
       "FloatProgress(value=0.0, bar_style='info', description='Progress:', layout=Layout(height='25px', width='50%'),…"
      ]
     },
     "metadata": {},
     "output_type": "display_data"
    },
    {
     "name": "stdout",
     "output_type": "stream",
     "text": [
      "['yes']"
     ]
    }
   ],
   "source": [
    "light_result[0][\"answer\"]"
   ]
  },
  {
   "cell_type": "markdown",
   "metadata": {
    "id": "mVpgshECrlpA"
   },
   "source": [
    "### **Long answer**\n",
    "A `long` answer is a response that goes into more detail and provides a more comprehensive explanation than a `short` answer. `Long` answers typically involve more elaboration, examples, and supporting evidence to provide a thorough understanding of a particular topic or question."
   ]
  },
  {
   "cell_type": "code",
   "execution_count": 8,
   "metadata": {
    "colab": {
     "base_uri": "https://localhost:8080/"
    },
    "execution": {
     "iopub.execute_input": "2023-09-14T10:23:29.832653Z",
     "iopub.status.busy": "2023-09-14T10:23:29.832416Z",
     "iopub.status.idle": "2023-09-14T10:23:33.102640Z",
     "shell.execute_reply": "2023-09-14T10:23:33.101929Z",
     "shell.execute_reply.started": "2023-09-14T10:23:29.832624Z"
    },
    "id": "qnIGlNRerntz",
    "outputId": "a9166e7f-439a-4556-d70c-24ca05e7ee67"
   },
   "outputs": [
    {
     "data": {
      "application/vnd.jupyter.widget-view+json": {
       "model_id": "2d502626cf3548eab3ee28b90300fbf2",
       "version_major": 2,
       "version_minor": 0
      },
      "text/plain": [
       "VBox()"
      ]
     },
     "metadata": {},
     "output_type": "display_data"
    },
    {
     "data": {
      "application/vnd.jupyter.widget-view+json": {
       "model_id": "",
       "version_major": 2,
       "version_minor": 0
      },
      "text/plain": [
       "FloatProgress(value=0.0, bar_style='info', description='Progress:', layout=Layout(height='25px', width='50%'),…"
      ]
     },
     "metadata": {},
     "output_type": "display_data"
    },
    {
     "name": "stdout",
     "output_type": "stream",
     "text": [
      "medical_qa_biogpt download started this may take some time.\n",
      "[OK!]"
     ]
    }
   ],
   "source": [
    "document_assembler = nlp.MultiDocumentAssembler()\\\n",
    "    .setInputCols(\"question\", \"context\")\\\n",
    "    .setOutputCols(\"document_question\", \"document_context\")\n",
    "\n",
    "med_qa = medical.MedicalQuestionAnswering.pretrained(\"medical_qa_biogpt\",\"en\",\"clinical/models\")\\\n",
    "    .setInputCols([\"document_question\", \"document_context\"])\\\n",
    "    .setOutputCol(\"answer\")\\\n",
    "    .setMaxNewTokens(30)\\\n",
    "    .setTopK(1)\\\n",
    "    .setQuestionType(\"long\") # \"short\"\n",
    "\n",
    "pipeline = nlp.Pipeline(stages=[document_assembler, med_qa])\n",
    "\n",
    "empty_data = spark.createDataFrame([[\"\"]]).toDF(\"text\")\n",
    "\n",
    "model = pipeline.fit(empty_data)"
   ]
  },
  {
   "cell_type": "code",
   "execution_count": 9,
   "metadata": {
    "colab": {
     "base_uri": "https://localhost:8080/"
    },
    "execution": {
     "iopub.execute_input": "2023-09-14T10:23:33.103994Z",
     "iopub.status.busy": "2023-09-14T10:23:33.103782Z",
     "iopub.status.idle": "2023-09-14T10:23:46.438787Z",
     "shell.execute_reply": "2023-09-14T10:23:46.438115Z",
     "shell.execute_reply.started": "2023-09-14T10:23:33.103966Z"
    },
    "id": "j9-RNHXxSJ9u",
    "outputId": "95ea3958-d775-4c3f-f8d1-8832a2e294a9"
   },
   "outputs": [
    {
     "data": {
      "application/vnd.jupyter.widget-view+json": {
       "model_id": "cb3f5b471f5049ceba4b7c6904d639c3",
       "version_major": 2,
       "version_minor": 0
      },
      "text/plain": [
       "VBox()"
      ]
     },
     "metadata": {},
     "output_type": "display_data"
    },
    {
     "data": {
      "application/vnd.jupyter.widget-view+json": {
       "model_id": "",
       "version_major": 2,
       "version_minor": 0
      },
      "text/plain": [
       "FloatProgress(value=0.0, bar_style='info', description='Progress:', layout=Layout(height='25px', width='50%'),…"
      ]
     },
     "metadata": {},
     "output_type": "display_data"
    },
    {
     "name": "stdout",
     "output_type": "stream",
     "text": [
      "+---------------------------------------------------------------------------+--------------------------------------------------------------------------------------------------------------------------------------------------------------------------------------------------------+\n",
      "|Question                                                                   |Long_Answer                                                                                                                                                                                             |\n",
      "+---------------------------------------------------------------------------+--------------------------------------------------------------------------------------------------------------------------------------------------------------------------------------------------------+\n",
      "|[Transgastric endoscopic splenectomy: is it possible?]                     |[per - oral transgastric splenectomy was technically feasible in a porcine model. further studies are necessary to determine the safety and efficacy of this procedure in]                              |\n",
      "|[Does histologic chorioamnionitis correspond to clinical chorioamnionitis?]|[histologic chorioamnionitis is significantly associated with indicators of maternal infection. histologic chorioamnionitis may be a useful adjunct to clinical indicators in the diagnosis of maternal]|\n",
      "|[Is there an optimal time of acid suppression for maximal healing?]        |[in patients with reflux oesophagitis, maximal healing rates are obtained when intragastric pH is achieved for approximately 50 - 70 % ( 12 - 17 h )]                                                   |\n",
      "+---------------------------------------------------------------------------+--------------------------------------------------------------------------------------------------------------------------------------------------------------------------------------------------------+"
     ]
    }
   ],
   "source": [
    "model.transform(data)\\\n",
    "  .selectExpr(\"document_question.result as Question\", \"answer.result as Long_Answer\")\\\n",
    "  .show(truncate=False)"
   ]
  },
  {
   "cell_type": "markdown",
   "metadata": {
    "id": "GkZQyrhEzXxO"
   },
   "source": [
    "**LightPipelines**"
   ]
  },
  {
   "cell_type": "code",
   "execution_count": 10,
   "metadata": {
    "colab": {
     "base_uri": "https://localhost:8080/"
    },
    "execution": {
     "iopub.execute_input": "2023-09-14T10:23:46.439916Z",
     "iopub.status.busy": "2023-09-14T10:23:46.439706Z",
     "iopub.status.idle": "2023-09-14T10:23:53.772055Z",
     "shell.execute_reply": "2023-09-14T10:23:53.771197Z",
     "shell.execute_reply.started": "2023-09-14T10:23:46.439888Z"
    },
    "id": "5jQrB4dmzYI4",
    "outputId": "983becae-4d7f-4c29-b2e4-536dea1a1ff6",
    "tags": []
   },
   "outputs": [
    {
     "data": {
      "application/vnd.jupyter.widget-view+json": {
       "model_id": "ebdff9a19d7e4542b460cd0b2a2ab1f9",
       "version_major": 2,
       "version_minor": 0
      },
      "text/plain": [
       "VBox()"
      ]
     },
     "metadata": {},
     "output_type": "display_data"
    },
    {
     "data": {
      "application/vnd.jupyter.widget-view+json": {
       "model_id": "",
       "version_major": 2,
       "version_minor": 0
      },
      "text/plain": [
       "FloatProgress(value=0.0, bar_style='info', description='Progress:', layout=Layout(height='25px', width='50%'),…"
      ]
     },
     "metadata": {},
     "output_type": "display_data"
    },
    {
     "name": "stdout",
     "output_type": "stream",
     "text": [
      "[{'document_question': ['Transgastric endoscopic splenectomy: is it possible?'], 'document_context': ['We have previously reported the feasibility of diagnostic and therapeutic peritoneoscopy including liver biopsy, gastrojejunostomy, and tubal ligation by an oral transgastric approach. We present results of per-oral transgastric splenectomy in a porcine model. The goal of this study was to determine the technical feasibility of per-oral transgastric splenectomy using a flexible endoscope. We performed acute experiments on 50-kg pigs. All animals were fed liquids for 3 days prior to procedure. The procedures were performed under general anesthesia with endotracheal intubation. The flexible endoscope was passed per orally into the stomach and puncture of the gastric wall was performed with a needle knife. The puncture was extended to create a 1.5-cm incision using a pull-type sphincterotome, and a double-channel endoscope was advanced into the peritoneal cavity. The peritoneal cavity was insufflated with air through the endoscope. The spleen was visualized. The splenic vessels were ligated with endoscopic loops and clips, and then mesentery was dissected using electrocautery. Endoscopic splenectomy was performed on six pigs. There were no complications during gastric incision and entrance into the peritoneal cavity. Visualization of the spleen and other intraperitoneal organs was very good. Ligation of the splenic vessels and mobilization of the spleen were achieved using commercially available devices and endoscopic accessories.'], 'answer': ['per - oral transgastric splenectomy was technically feasible in a porcine model. further studies are necessary to determine the safety and efficacy of this procedure in']}]"
     ]
    }
   ],
   "source": [
    "context =\"We have previously reported the feasibility of diagnostic and therapeutic peritoneoscopy including liver biopsy, gastrojejunostomy, and tubal ligation by an oral transgastric approach. We present results of per-oral transgastric splenectomy in a porcine model. The goal of this study was to determine the technical feasibility of per-oral transgastric splenectomy using a flexible endoscope. We performed acute experiments on 50-kg pigs. All animals were fed liquids for 3 days prior to procedure. The procedures were performed under general anesthesia with endotracheal intubation. The flexible endoscope was passed per orally into the stomach and puncture of the gastric wall was performed with a needle knife. The puncture was extended to create a 1.5-cm incision using a pull-type sphincterotome, and a double-channel endoscope was advanced into the peritoneal cavity. The peritoneal cavity was insufflated with air through the endoscope. The spleen was visualized. The splenic vessels were ligated with endoscopic loops and clips, and then mesentery was dissected using electrocautery. Endoscopic splenectomy was performed on six pigs. There were no complications during gastric incision and entrance into the peritoneal cavity. Visualization of the spleen and other intraperitoneal organs was very good. Ligation of the splenic vessels and mobilization of the spleen were achieved using commercially available devices and endoscopic accessories.\"\n",
    "question = \"Transgastric endoscopic splenectomy: is it possible?\"\n",
    "\n",
    "light_model = nlp.LightPipeline(model)\n",
    "\n",
    "light_result = light_model.annotate([question],[context])\n",
    "\n",
    "light_result"
   ]
  },
  {
   "cell_type": "code",
   "execution_count": 11,
   "metadata": {
    "colab": {
     "base_uri": "https://localhost:8080/"
    },
    "execution": {
     "iopub.execute_input": "2023-09-14T10:23:53.773399Z",
     "iopub.status.busy": "2023-09-14T10:23:53.773166Z",
     "iopub.status.idle": "2023-09-14T10:23:53.826656Z",
     "shell.execute_reply": "2023-09-14T10:23:53.825796Z",
     "shell.execute_reply.started": "2023-09-14T10:23:53.773369Z"
    },
    "id": "4gAvcFCvzlcV",
    "outputId": "ff9920cf-3bc7-4225-f029-7274421e9f8c"
   },
   "outputs": [
    {
     "data": {
      "application/vnd.jupyter.widget-view+json": {
       "model_id": "3fd1ef2faf1944d788713f1ec8324a54",
       "version_major": 2,
       "version_minor": 0
      },
      "text/plain": [
       "VBox()"
      ]
     },
     "metadata": {},
     "output_type": "display_data"
    },
    {
     "data": {
      "application/vnd.jupyter.widget-view+json": {
       "model_id": "",
       "version_major": 2,
       "version_minor": 0
      },
      "text/plain": [
       "FloatProgress(value=0.0, bar_style='info', description='Progress:', layout=Layout(height='25px', width='50%'),…"
      ]
     },
     "metadata": {},
     "output_type": "display_data"
    },
    {
     "name": "stdout",
     "output_type": "stream",
     "text": [
      "['per - oral transgastric splenectomy was technically feasible in a porcine model. further studies are necessary to determine the safety and efficacy of this procedure in']"
     ]
    }
   ],
   "source": [
    "light_result[0][\"answer\"]"
   ]
  },
  {
   "cell_type": "markdown",
   "metadata": {
    "id": "NkL_KmCRlXm8"
   },
   "source": [
    "## clinical_notes_qa_base"
   ]
  },
  {
   "cell_type": "code",
   "execution_count": 12,
   "metadata": {
    "colab": {
     "base_uri": "https://localhost:8080/"
    },
    "execution": {
     "iopub.execute_input": "2023-09-14T10:23:53.827918Z",
     "iopub.status.busy": "2023-09-14T10:23:53.827689Z",
     "iopub.status.idle": "2023-09-14T10:25:13.325373Z",
     "shell.execute_reply": "2023-09-14T10:25:13.324659Z",
     "shell.execute_reply.started": "2023-09-14T10:23:53.827889Z"
    },
    "id": "w_CuvEZ_lYgz",
    "outputId": "bdb885ac-6bc3-4b66-d8e2-6dfa76cdeffb"
   },
   "outputs": [
    {
     "data": {
      "application/vnd.jupyter.widget-view+json": {
       "model_id": "5233a9bb93154048a52b6439f488ff84",
       "version_major": 2,
       "version_minor": 0
      },
      "text/plain": [
       "VBox()"
      ]
     },
     "metadata": {},
     "output_type": "display_data"
    },
    {
     "data": {
      "application/vnd.jupyter.widget-view+json": {
       "model_id": "",
       "version_major": 2,
       "version_minor": 0
      },
      "text/plain": [
       "FloatProgress(value=0.0, bar_style='info', description='Progress:', layout=Layout(height='25px', width='50%'),…"
      ]
     },
     "metadata": {},
     "output_type": "display_data"
    },
    {
     "name": "stdout",
     "output_type": "stream",
     "text": [
      "clinical_notes_qa_base download started this may take some time.\n",
      "[OK!]"
     ]
    }
   ],
   "source": [
    "document_assembler = nlp.MultiDocumentAssembler()\\\n",
    "    .setInputCols(\"question\", \"context\")\\\n",
    "    .setOutputCols(\"document_question\", \"document_context\")\n",
    "\n",
    "med_qa  = medical.MedicalQuestionAnswering()\\\n",
    "    .pretrained(\"clinical_notes_qa_base\", \"en\", \"clinical/models\")\\\n",
    "    .setInputCols([\"document_question\", \"document_context\"])\\\n",
    "    .setCustomPrompt(\"Context: {context} \\n Question: {question} \\n Answer: \")\\\n",
    "    .setOutputCol(\"answer\")\\\n",
    "\n",
    "pipeline = nlp.Pipeline(stages=[document_assembler, med_qa])\n",
    "\n",
    "note_text = \"I am asked to see the patient today with ongoing issues around her diabetic control. We have been fairly aggressively, downwardly adjusting her insulins, both the Lantus insulin, which we had been giving at night as well as her sliding scale Humalog insulin prior to meals. Despite frequent decreases in her insulin regimen, she continues to have somewhat low blood glucoses, most notably in the morning when the glucoses have been in the 70s despite decreasing her Lantus insulin from around 84 units down to 60 units, which is a considerable change. What I cannot explain is why her glucoses have not really climbed at all despite the decrease in insulin. The staff reports to me that her appetite is good and that she is eating as well as ever. I talked to Anna today. She feels a little fatigued. Otherwise, she is doing well.\"\n",
    "\n",
    "question = \"How much has the Lantus insulin dosage been reduced?\"\n",
    "\n",
    "empty_data = spark.createDataFrame([[\"\"]]).toDF(\"text\")\n",
    "\n",
    "model = pipeline.fit(empty_data)\n",
    "\n",
    "data = spark.createDataFrame([[question, note_text]]).toDF(\"question\", \"context\")\n",
    "\n",
    "result = model.transform(data)"
   ]
  },
  {
   "cell_type": "code",
   "execution_count": 13,
   "metadata": {
    "colab": {
     "base_uri": "https://localhost:8080/"
    },
    "execution": {
     "iopub.execute_input": "2023-09-14T10:25:13.326486Z",
     "iopub.status.busy": "2023-09-14T10:25:13.326276Z",
     "iopub.status.idle": "2023-09-14T10:25:38.661483Z",
     "shell.execute_reply": "2023-09-14T10:25:38.660795Z",
     "shell.execute_reply.started": "2023-09-14T10:25:13.326458Z"
    },
    "id": "AiBeLrIoldUd",
    "outputId": "a62c985f-ed2a-46d9-bead-7b3dba123be9"
   },
   "outputs": [
    {
     "data": {
      "application/vnd.jupyter.widget-view+json": {
       "model_id": "805a6efcd4304997bc143a0d6d4c80bf",
       "version_major": 2,
       "version_minor": 0
      },
      "text/plain": [
       "VBox()"
      ]
     },
     "metadata": {},
     "output_type": "display_data"
    },
    {
     "data": {
      "application/vnd.jupyter.widget-view+json": {
       "model_id": "",
       "version_major": 2,
       "version_minor": 0
      },
      "text/plain": [
       "FloatProgress(value=0.0, bar_style='info', description='Progress:', layout=Layout(height='25px', width='50%'),…"
      ]
     },
     "metadata": {},
     "output_type": "display_data"
    },
    {
     "name": "stdout",
     "output_type": "stream",
     "text": [
      "+------------------------------------------------------+-----------------------------------------------------------------------------------+\n",
      "|Question                                              |Answer                                                                             |\n",
      "+------------------------------------------------------+-----------------------------------------------------------------------------------+\n",
      "|[How much has the Lantus insulin dosage been reduced?]|[The Lantus insulin dosage has been reduced from around 84 units down to 60 units.]|\n",
      "+------------------------------------------------------+-----------------------------------------------------------------------------------+"
     ]
    }
   ],
   "source": [
    "result.selectExpr(\"document_question.result as Question\", \"answer.result as Answer\")\\\n",
    "  .show(truncate=False)"
   ]
  },
  {
   "cell_type": "code",
   "execution_count": 14,
   "metadata": {
    "colab": {
     "base_uri": "https://localhost:8080/"
    },
    "execution": {
     "iopub.execute_input": "2023-09-14T10:25:38.662609Z",
     "iopub.status.busy": "2023-09-14T10:25:38.662398Z",
     "iopub.status.idle": "2023-09-14T10:25:40.933016Z",
     "shell.execute_reply": "2023-09-14T10:25:40.932274Z",
     "shell.execute_reply.started": "2023-09-14T10:25:38.662581Z"
    },
    "id": "KrzPgNYWlfR0",
    "outputId": "9c619b3b-96b7-4742-b775-8ae840f05ebf",
    "tags": []
   },
   "outputs": [
    {
     "data": {
      "application/vnd.jupyter.widget-view+json": {
       "model_id": "e70735a654e4412abb1660f1fb56db53",
       "version_major": 2,
       "version_minor": 0
      },
      "text/plain": [
       "VBox()"
      ]
     },
     "metadata": {},
     "output_type": "display_data"
    },
    {
     "data": {
      "application/vnd.jupyter.widget-view+json": {
       "model_id": "",
       "version_major": 2,
       "version_minor": 0
      },
      "text/plain": [
       "FloatProgress(value=0.0, bar_style='info', description='Progress:', layout=Layout(height='25px', width='50%'),…"
      ]
     },
     "metadata": {},
     "output_type": "display_data"
    },
    {
     "name": "stdout",
     "output_type": "stream",
     "text": [
      "[{'document_question': ['How much has the Lantus insulin dosage been reduced?'], 'document_context': ['I am asked to see the patient today with ongoing issues around her diabetic control. We have been fairly aggressively, downwardly adjusting her insulins, both the Lantus insulin, which we had been giving at night as well as her sliding scale Humalog insulin prior to meals. Despite frequent decreases in her insulin regimen, she continues to have somewhat low blood glucoses, most notably in the morning when the glucoses have been in the 70s despite decreasing her Lantus insulin from around 84 units down to 60 units, which is a considerable change. What I cannot explain is why her glucoses have not really climbed at all despite the decrease in insulin. The staff reports to me that her appetite is good and that she is eating as well as ever. I talked to Anna today. She feels a little fatigued. Otherwise, she is doing well.'], 'answer': ['The Lantus insulin dosage has been reduced from around 84 units down to 60 units.']}]"
     ]
    }
   ],
   "source": [
    "context =\"I am asked to see the patient today with ongoing issues around her diabetic control. We have been fairly aggressively, downwardly adjusting her insulins, both the Lantus insulin, which we had been giving at night as well as her sliding scale Humalog insulin prior to meals. Despite frequent decreases in her insulin regimen, she continues to have somewhat low blood glucoses, most notably in the morning when the glucoses have been in the 70s despite decreasing her Lantus insulin from around 84 units down to 60 units, which is a considerable change. What I cannot explain is why her glucoses have not really climbed at all despite the decrease in insulin. The staff reports to me that her appetite is good and that she is eating as well as ever. I talked to Anna today. She feels a little fatigued. Otherwise, she is doing well.\"\n",
    "question = \"How much has the Lantus insulin dosage been reduced?\"\n",
    "\n",
    "light_model = nlp.LightPipeline(model)\n",
    "\n",
    "light_result = light_model.annotate([question],[context])\n",
    "\n",
    "light_result"
   ]
  },
  {
   "cell_type": "markdown",
   "metadata": {
    "id": "H7019sfllNG1"
   },
   "source": [
    "## clinical_notes_qa_large"
   ]
  },
  {
   "cell_type": "code",
   "execution_count": 15,
   "metadata": {
    "colab": {
     "base_uri": "https://localhost:8080/"
    },
    "execution": {
     "iopub.execute_input": "2023-09-14T10:25:40.934165Z",
     "iopub.status.busy": "2023-09-14T10:25:40.933955Z",
     "iopub.status.idle": "2023-09-14T10:29:10.337464Z",
     "shell.execute_reply": "2023-09-14T10:29:10.336796Z",
     "shell.execute_reply.started": "2023-09-14T10:25:40.934137Z"
    },
    "id": "qnGLbYkGlMHJ",
    "outputId": "44524fa4-54e0-4385-c713-f533b9c846ee",
    "tags": []
   },
   "outputs": [
    {
     "data": {
      "application/vnd.jupyter.widget-view+json": {
       "model_id": "52719d825d314c228b77426434ddae47",
       "version_major": 2,
       "version_minor": 0
      },
      "text/plain": [
       "VBox()"
      ]
     },
     "metadata": {},
     "output_type": "display_data"
    },
    {
     "data": {
      "application/vnd.jupyter.widget-view+json": {
       "model_id": "",
       "version_major": 2,
       "version_minor": 0
      },
      "text/plain": [
       "FloatProgress(value=0.0, bar_style='info', description='Progress:', layout=Layout(height='25px', width='50%'),…"
      ]
     },
     "metadata": {},
     "output_type": "display_data"
    },
    {
     "name": "stdout",
     "output_type": "stream",
     "text": [
      "clinical_notes_qa_large download started this may take some time.\n",
      "[OK!]"
     ]
    }
   ],
   "source": [
    "document_assembler = nlp.MultiDocumentAssembler()\\\n",
    "    .setInputCols(\"question\", \"context\")\\\n",
    "    .setOutputCols(\"document_question\", \"document_context\")\n",
    "\n",
    "med_qa  = medical.MedicalQuestionAnswering()\\\n",
    "    .pretrained(\"clinical_notes_qa_large\", \"en\", \"clinical/models\")\\\n",
    "    .setInputCols([\"document_question\", \"document_context\"])\\\n",
    "    .setCustomPrompt(\"Context: {context} \\n Question: {question} \\n Answer: \")\\\n",
    "    .setOutputCol(\"answer\")\\\n",
    "\n",
    "pipeline = nlp.Pipeline(stages=[document_assembler, med_qa])\n",
    "\n",
    "note_text = \"his is a 14-month-old with history of chronic recurrent episodes of otitis media, totalling 6 bouts, requiring antibiotics since birth. There is also associated chronic nasal congestion. There had been no bouts of spontaneous tympanic membrane perforation, but there had been elevations of temperature up to 102 during the acute infection. He is being admitted at this time for myringotomy and tube insertion under general facemask anesthesia.\"\n",
    "\n",
    "question = \"How many bouts of otitis media has the patient experienced?\"\n",
    "\n",
    "empty_data = spark.createDataFrame([[\"\"]]).toDF(\"text\")\n",
    "\n",
    "model = pipeline.fit(empty_data)\n",
    "\n",
    "data = spark.createDataFrame([[question, note_text]]).toDF(\"question\", \"context\")\n",
    "\n",
    "result = model.transform(data)"
   ]
  },
  {
   "cell_type": "code",
   "execution_count": 16,
   "metadata": {
    "colab": {
     "base_uri": "https://localhost:8080/"
    },
    "execution": {
     "iopub.execute_input": "2023-09-14T10:29:10.338594Z",
     "iopub.status.busy": "2023-09-14T10:29:10.338382Z",
     "iopub.status.idle": "2023-09-14T10:30:21.789452Z",
     "shell.execute_reply": "2023-09-14T10:30:21.788529Z",
     "shell.execute_reply.started": "2023-09-14T10:29:10.338565Z"
    },
    "id": "6G5Kjv5PlS64",
    "outputId": "3181a199-439e-48a0-fe2a-4c67cc36c343"
   },
   "outputs": [
    {
     "data": {
      "application/vnd.jupyter.widget-view+json": {
       "model_id": "77970cfb5d9a41228776065f92e41498",
       "version_major": 2,
       "version_minor": 0
      },
      "text/plain": [
       "VBox()"
      ]
     },
     "metadata": {},
     "output_type": "display_data"
    },
    {
     "data": {
      "application/vnd.jupyter.widget-view+json": {
       "model_id": "",
       "version_major": 2,
       "version_minor": 0
      },
      "text/plain": [
       "FloatProgress(value=0.0, bar_style='info', description='Progress:', layout=Layout(height='25px', width='50%'),…"
      ]
     },
     "metadata": {},
     "output_type": "display_data"
    },
    {
     "name": "stdout",
     "output_type": "stream",
     "text": [
      "+-------------------------------------------------------------+------------------------------------------------------+\n",
      "|Question                                                     |Answer                                                |\n",
      "+-------------------------------------------------------------+------------------------------------------------------+\n",
      "|[How many bouts of otitis media has the patient experienced?]|[The patient has experienced 6 bouts of otitis media.]|\n",
      "+-------------------------------------------------------------+------------------------------------------------------+"
     ]
    }
   ],
   "source": [
    "result.selectExpr(\"document_question.result as Question\", \"answer.result as Answer\")\\\n",
    "  .show(truncate=False)"
   ]
  },
  {
   "cell_type": "code",
   "execution_count": 17,
   "metadata": {
    "colab": {
     "base_uri": "https://localhost:8080/"
    },
    "execution": {
     "iopub.execute_input": "2023-09-14T10:30:21.791076Z",
     "iopub.status.busy": "2023-09-14T10:30:21.790801Z",
     "iopub.status.idle": "2023-09-14T10:30:25.070413Z",
     "shell.execute_reply": "2023-09-14T10:30:25.069689Z",
     "shell.execute_reply.started": "2023-09-14T10:30:21.791046Z"
    },
    "id": "Z3j66HXVlU39",
    "outputId": "29f713ad-a6a9-423a-853a-d7acec185b01",
    "tags": []
   },
   "outputs": [
    {
     "data": {
      "application/vnd.jupyter.widget-view+json": {
       "model_id": "3b86ca496c9745f3b861b9e1c34190d6",
       "version_major": 2,
       "version_minor": 0
      },
      "text/plain": [
       "VBox()"
      ]
     },
     "metadata": {},
     "output_type": "display_data"
    },
    {
     "data": {
      "application/vnd.jupyter.widget-view+json": {
       "model_id": "",
       "version_major": 2,
       "version_minor": 0
      },
      "text/plain": [
       "FloatProgress(value=0.0, bar_style='info', description='Progress:', layout=Layout(height='25px', width='50%'),…"
      ]
     },
     "metadata": {},
     "output_type": "display_data"
    },
    {
     "name": "stdout",
     "output_type": "stream",
     "text": [
      "[{'document_question': ['How many bouts of otitis media has the patient experienced?'], 'document_context': ['his is a 14-month-old with history of chronic recurrent episodes of otitis media, totalling 6 bouts, requiring antibiotics since birth. There is also associated chronic nasal congestion. There had been no bouts of spontaneous tympanic membrane perforation, but there had been elevations of temperature up to 102 during the acute infection. He is being admitted at this time for myringotomy and tube insertion under general facemask anesthesia.'], 'answer': ['The patient has experienced 6 bouts of otitis media.']}]"
     ]
    }
   ],
   "source": [
    "context =\"his is a 14-month-old with history of chronic recurrent episodes of otitis media, totalling 6 bouts, requiring antibiotics since birth. There is also associated chronic nasal congestion. There had been no bouts of spontaneous tympanic membrane perforation, but there had been elevations of temperature up to 102 during the acute infection. He is being admitted at this time for myringotomy and tube insertion under general facemask anesthesia.\"\n",
    "question = \"How many bouts of otitis media has the patient experienced?\"\n",
    "\n",
    "light_model = nlp.LightPipeline(model)\n",
    "\n",
    "light_result = light_model.annotate([question],[context])\n",
    "\n",
    "light_result"
   ]
  },
  {
   "cell_type": "code",
   "execution_count": null,
   "metadata": {},
   "outputs": [],
   "source": []
  }
 ],
 "metadata": {
  "accelerator": "TPU",
  "colab": {
   "machine_shape": "hm",
   "provenance": []
  },
  "gpuClass": "standard",
  "kernelspec": {
   "display_name": "PySpark",
   "language": "",
   "name": "pysparkkernel"
  },
  "language_info": {
   "codemirror_mode": {
    "name": "python",
    "version": 3
   },
   "mimetype": "text/x-python",
   "name": "pyspark",
   "pygments_lexer": "python3"
  }
 },
 "nbformat": 4,
 "nbformat_minor": 4
}

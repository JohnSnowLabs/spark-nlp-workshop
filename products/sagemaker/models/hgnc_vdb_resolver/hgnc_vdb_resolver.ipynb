{
 "cells": [
  {
   "cell_type": "markdown",
   "metadata": {},
   "source": [
    "## 1. Subscribe to the model package"
   ]
  },
  {
   "cell_type": "markdown",
   "metadata": {},
   "source": [
    "To subscribe to the model package:\n",
    "1. Open the model package listing page [HGNC Clinical Terminology Mapper](https://aws.amazon.com/marketplace/pp/prodview-gzzgijf3waxd6)\n",
    "1. On the AWS Marketplace listing, click on the **Continue to subscribe** button.\n",
    "1. On the **Subscribe to this software** page, review and click on **\"Accept Offer\"** if you and your organization agrees with EULA, pricing, and support terms. \n",
    "1. Once you click on **Continue to configuration button** and then choose a **region**, you will see a **Product Arn** displayed. This is the model package ARN that you need to specify while creating a deployable model using Boto3. Copy the ARN corresponding to your region and specify the same in the following cell."
   ]
  },
  {
   "cell_type": "markdown",
   "metadata": {},
   "source": [
    "## Pipeline for HUGO Gene Nomenclature Committee (HGNC)\n",
    "\n",
    "- **Model**: `hgnc_vdb_resolver`\n",
    "- **Model Description**: This pretrained pipeline extracts `GENE` entities from clinical text and maps them to their corresponding HUGO Gene Nomenclature Committee (HGNC) codes"
   ]
  },
  {
   "cell_type": "code",
   "execution_count": 1,
   "metadata": {
    "tags": []
   },
   "outputs": [],
   "source": [
    "model_package_arn = \"<Customer to specify Model package ARN corresponding to their AWS region>\""
   ]
  },
  {
   "cell_type": "code",
   "execution_count": null,
   "metadata": {
    "tags": []
   },
   "outputs": [],
   "source": [
    "import json\n",
    "import os\n",
    "import boto3\n",
    "import pandas as pd\n",
    "import sagemaker as sage\n",
    "from sagemaker import ModelPackage\n",
    "from sagemaker import get_execution_role\n",
    "from IPython.display import display\n",
    "from urllib.parse import urlparse\n"
   ]
  },
  {
   "cell_type": "code",
   "execution_count": 3,
   "metadata": {
    "tags": []
   },
   "outputs": [],
   "source": [
    "sagemaker_session = sage.Session()\n",
    "s3_bucket = sagemaker_session.default_bucket()\n",
    "region = sagemaker_session.boto_region_name\n",
    "account_id = boto3.client(\"sts\").get_caller_identity().get(\"Account\")\n",
    "role = get_execution_role()\n",
    "\n",
    "sagemaker = boto3.client(\"sagemaker\")\n",
    "s3_client = sagemaker_session.boto_session.client(\"s3\")\n",
    "ecr = boto3.client(\"ecr\")\n",
    "sm_runtime = boto3.client(\"sagemaker-runtime\")\n",
    "\n",
    "# Set display options\n",
    "pd.set_option('display.max_rows', None)\n",
    "pd.set_option('display.max_columns', None)\n",
    "pd.set_option('display.max_colwidth', None)"
   ]
  },
  {
   "cell_type": "code",
   "execution_count": 4,
   "metadata": {
    "tags": []
   },
   "outputs": [],
   "source": [
    "model_name = \"hcc-vdb-resolver\"\n",
    "\n",
    "real_time_inference_instance_type = \"ml.m4.xlarge\"\n",
    "batch_transform_inference_instance_type = \"ml.m4.2xlarge\""
   ]
  },
  {
   "cell_type": "markdown",
   "metadata": {},
   "source": [
    "## 2. Create a deployable model from the model package."
   ]
  },
  {
   "cell_type": "code",
   "execution_count": 5,
   "metadata": {
    "tags": []
   },
   "outputs": [],
   "source": [
    "model = ModelPackage(\n",
    "    role=role, \n",
    "    model_package_arn=model_package_arn,\n",
    "    sagemaker_session=sagemaker_session,\n",
    ")"
   ]
  },
  {
   "cell_type": "markdown",
   "metadata": {},
   "source": [
    "### Input Format\n",
    "\n",
    "To use the model, you need to provide input in one of the following supported formats:\n",
    "\n",
    "#### JSON Format\n",
    "\n",
    "Provide input as JSON. We support two variations within this format:\n",
    "\n",
    "1. **Array of Text Documents**: \n",
    "   Use an array containing multiple text documents. Each element represents a separate text document.\n",
    "\n",
    "   ```json\n",
    "   {\n",
    "       \"text\": [\n",
    "           \"Text document 1\",\n",
    "           \"Text document 2\",\n",
    "           ...\n",
    "       ]\n",
    "   }\n",
    "\n",
    "    ```\n",
    "\n",
    "2. **Single Text Document**:\n",
    "   Provide a single text document as a string.\n",
    "\n",
    "\n",
    "   ```json\n",
    "    {\n",
    "        \"text\": \"Single text document\"\n",
    "    }\n",
    "   ```\n",
    "\n",
    "#### JSON Lines (JSONL) Format\n",
    "\n",
    "Provide input in JSON Lines format, where each line is a JSON object representing a text document.\n",
    "\n",
    "```\n",
    "{\"text\": \"Text document 1\"}\n",
    "{\"text\": \"Text document 2\"}\n",
    "```"
   ]
  },
  {
   "cell_type": "markdown",
   "metadata": {},
   "source": [
    "## 3. Create an endpoint and perform real-time inference"
   ]
  },
  {
   "cell_type": "markdown",
   "metadata": {},
   "source": [
    "If you want to understand how real-time inference with Amazon SageMaker works, see [Documentation](https://docs.aws.amazon.com/sagemaker/latest/dg/how-it-works-hosting.html)."
   ]
  },
  {
   "cell_type": "markdown",
   "metadata": {},
   "source": [
    "### A. Deploy the SageMaker model to an endpoint"
   ]
  },
  {
   "cell_type": "code",
   "execution_count": 6,
   "metadata": {
    "tags": []
   },
   "outputs": [
    {
     "name": "stdout",
     "output_type": "stream",
     "text": [
      "------------!"
     ]
    }
   ],
   "source": [
    "predictor = model.deploy(\n",
    "    initial_instance_count=1,\n",
    "    instance_type=real_time_inference_instance_type, \n",
    "    endpoint_name=model_name,\n",
    ")"
   ]
  },
  {
   "cell_type": "markdown",
   "metadata": {},
   "source": [
    "Once endpoint has been created, you would be able to perform real-time inference."
   ]
  },
  {
   "cell_type": "code",
   "execution_count": 7,
   "metadata": {
    "tags": []
   },
   "outputs": [],
   "source": [
    "def invoke_realtime_endpoint(record, content_type=\"application/json\", accept=\"application/json\"):\n",
    "    response = sm_runtime.invoke_endpoint(\n",
    "        EndpointName=model_name,\n",
    "        ContentType=content_type,\n",
    "        Accept=accept,\n",
    "        Body=json.dumps(record) if content_type == \"application/json\" else record,\n",
    "    )\n",
    "\n",
    "    response_body = response[\"Body\"].read().decode(\"utf-8\")\n",
    "\n",
    "    if accept == \"application/json\":\n",
    "        return json.loads(response_body)\n",
    "    elif accept == \"application/jsonlines\":\n",
    "        return response_body\n",
    "    else:\n",
    "        raise ValueError(f\"Unsupported accept type: {accept}\")"
   ]
  },
  {
   "cell_type": "markdown",
   "metadata": {},
   "source": [
    "### Initial Setup"
   ]
  },
  {
   "cell_type": "code",
   "execution_count": 8,
   "metadata": {
    "tags": []
   },
   "outputs": [],
   "source": [
    "docs = [\n",
    "    \"Recent studies have suggested a potential link between the double homeobox 4 like 20 (pseudogene), also known as DUX4L20, and FBXO48 and RNA guanine-7 methyltransferase \",\n",
    "    \"The EGFR gene encodes a protein that is involved in cell proliferation and survival. Mutations in this gene have been implicated in the development of several types of cancer.\"\n",
    "]\n",
    "\n",
    "sample_text = \"\"\"During today's consultation, we reviewed the results of the comprehensive genetic analysis performed on the patient. This analysis uncovered complex interactions between several genes: DUX4, DUX4L20, FBXO48, MYOD1, and PAX7. These findings are significant as they provide new understanding of the molecular pathways that are involved in muscle differentiation and may play a role in the development and progression of muscular dystrophies in this patient.\"\"\""
   ]
  },
  {
   "cell_type": "markdown",
   "metadata": {},
   "source": [
    "### JSON"
   ]
  },
  {
   "cell_type": "code",
   "execution_count": 9,
   "metadata": {
    "tags": []
   },
   "outputs": [
    {
     "data": {
      "text/html": [
       "<div>\n",
       "<style scoped>\n",
       "    .dataframe tbody tr th:only-of-type {\n",
       "        vertical-align: middle;\n",
       "    }\n",
       "\n",
       "    .dataframe tbody tr th {\n",
       "        vertical-align: top;\n",
       "    }\n",
       "\n",
       "    .dataframe thead th {\n",
       "        text-align: right;\n",
       "    }\n",
       "</style>\n",
       "<table border=\"1\" class=\"dataframe\">\n",
       "  <thead>\n",
       "    <tr style=\"text-align: right;\">\n",
       "      <th></th>\n",
       "      <th>begin</th>\n",
       "      <th>end</th>\n",
       "      <th>ner_chunk</th>\n",
       "      <th>ner_label</th>\n",
       "      <th>ner_confidence</th>\n",
       "      <th>concept_code</th>\n",
       "      <th>resolution</th>\n",
       "      <th>score</th>\n",
       "      <th>all_codes</th>\n",
       "      <th>concept_name_detailed</th>\n",
       "      <th>locus</th>\n",
       "      <th>all_resolutions</th>\n",
       "      <th>all_score</th>\n",
       "    </tr>\n",
       "  </thead>\n",
       "  <tbody>\n",
       "    <tr>\n",
       "      <th>0</th>\n",
       "      <td>185</td>\n",
       "      <td>188</td>\n",
       "      <td>DUX4</td>\n",
       "      <td>GENE</td>\n",
       "      <td>0.9697</td>\n",
       "      <td>HGNC:50800</td>\n",
       "      <td>dux4</td>\n",
       "      <td>1.0</td>\n",
       "      <td>[HGNC:50800, HGNC:38686, HGNC:51778, HGNC:51771, HGNC:37265]</td>\n",
       "      <td>[DUX4 [double homeobox 4], DUX4L4 [double homeobox 4 like 4 (pseudogene)], DUX4L40 [double homeobox 4 like 40 (pseudogene)], DUX4L32 [double homeobox 4 like 32 (pseudogene)], DUX4L6 [double homeobox 4 like 6 (pseudogene)]]</td>\n",
       "      <td>[protein-coding gene || gene with protein product, pseudogene || pseudogene, pseudogene || pseudogene, pseudogene || pseudogene, pseudogene || pseudogene]</td>\n",
       "      <td>[dux4, dux4l4, dux4l40, dux4l32, dux4l6]</td>\n",
       "      <td>[1.0, 0.9232940077781677, 0.8669935464859009, 0.8570185899734497, 0.8551883697509766]</td>\n",
       "    </tr>\n",
       "    <tr>\n",
       "      <th>1</th>\n",
       "      <td>191</td>\n",
       "      <td>197</td>\n",
       "      <td>DUX4L20</td>\n",
       "      <td>GENE</td>\n",
       "      <td>0.9412</td>\n",
       "      <td>HGNC:50801</td>\n",
       "      <td>dux4l20</td>\n",
       "      <td>1.0</td>\n",
       "      <td>[HGNC:50801, HGNC:51788, HGNC:51778, HGNC:50802, HGNC:31354]</td>\n",
       "      <td>[DUX4L20 [double homeobox 4 like 20 (pseudogene)], DUX4L50 [double homeobox 4 like 50 (pseudogene)], DUX4L40 [double homeobox 4 like 40 (pseudogene)], DUX4L21 [double homeobox 4 like 21 (pseudogene)], DUX4L10 [double homeobox 4 like 10 (pseudogene)]]</td>\n",
       "      <td>[pseudogene || pseudogene, pseudogene || pseudogene, pseudogene || pseudogene, pseudogene || pseudogene, pseudogene || pseudogene]</td>\n",
       "      <td>[dux4l20, dux4l50, dux4l40, dux4l21, dux4l10]</td>\n",
       "      <td>[0.9999997615814209, 0.895313024520874, 0.8925592303276062, 0.8840012550354004, 0.8810112476348877]</td>\n",
       "    </tr>\n",
       "    <tr>\n",
       "      <th>2</th>\n",
       "      <td>200</td>\n",
       "      <td>205</td>\n",
       "      <td>FBXO48</td>\n",
       "      <td>GENE</td>\n",
       "      <td>0.9676</td>\n",
       "      <td>HGNC:33857</td>\n",
       "      <td>fbxo48</td>\n",
       "      <td>1.0</td>\n",
       "      <td>[HGNC:33857, HGNC:29816, HGNC:24847, HGNC:27020, HGNC:31969]</td>\n",
       "      <td>[FBXO48 [F-box protein 48], FBXO40 [F-box protein 40], FBXO44 [F-box protein 44], FBXO36 [F-box protein 36], FBXO47 [F-box protein 47]]</td>\n",
       "      <td>[protein-coding gene || gene with protein product, protein-coding gene || gene with protein product, protein-coding gene || gene with protein product, protein-coding gene || gene with protein product, protein-coding gene || gene with protein product]</td>\n",
       "      <td>[fbxo48, fbxo40, fbxo44, fbxo36, fbxo47]</td>\n",
       "      <td>[1.0000004768371582, 0.8699185848236084, 0.8525800108909607, 0.8402078151702881, 0.8378820419311523]</td>\n",
       "    </tr>\n",
       "    <tr>\n",
       "      <th>3</th>\n",
       "      <td>208</td>\n",
       "      <td>212</td>\n",
       "      <td>MYOD1</td>\n",
       "      <td>GENE</td>\n",
       "      <td>0.9847</td>\n",
       "      <td>HGNC:7611</td>\n",
       "      <td>myod1</td>\n",
       "      <td>1.0</td>\n",
       "      <td>[HGNC:7611, HGNC:7598, HGNC:7595, HGNC:7599, HGNC:13752]</td>\n",
       "      <td>[MYOD1 [myogenic differentiation 1], MYO1D [myosin ID], MYO1A [myosin IA], MYO1E [myosin IE], MYOZ1 [myozenin 1]]</td>\n",
       "      <td>[protein-coding gene || gene with protein product, protein-coding gene || gene with protein product, protein-coding gene || gene with protein product, protein-coding gene || gene with protein product, protein-coding gene || gene with protein product]</td>\n",
       "      <td>[myod1, myo1d, myo1a, myo1e, myoz1]</td>\n",
       "      <td>[0.9999996423721313, 0.8814316987991333, 0.8536235094070435, 0.8487422466278076, 0.8310863971710205]</td>\n",
       "    </tr>\n",
       "    <tr>\n",
       "      <th>4</th>\n",
       "      <td>219</td>\n",
       "      <td>222</td>\n",
       "      <td>PAX7</td>\n",
       "      <td>GENE</td>\n",
       "      <td>0.8536</td>\n",
       "      <td>HGNC:8621</td>\n",
       "      <td>pax7</td>\n",
       "      <td>1.0</td>\n",
       "      <td>[HGNC:8621, HGNC:8860, HGNC:8622, HGNC:8616, HGNC:8619]</td>\n",
       "      <td>[PAX7 [paired box 7], PEX7 [peroxisomal biogenesis factor 7], PAX8 [paired box 8], PAX2 [paired box 2], PAX5 [paired box 5]]</td>\n",
       "      <td>[protein-coding gene || gene with protein product, protein-coding gene || gene with protein product, protein-coding gene || gene with protein product, protein-coding gene || gene with protein product, protein-coding gene || gene with protein product]</td>\n",
       "      <td>[pax7, pex7, pax8, pax2, pax5]</td>\n",
       "      <td>[0.9999997019767761, 0.8129062652587891, 0.8030733466148376, 0.8027161359786987, 0.8005862832069397]</td>\n",
       "    </tr>\n",
       "  </tbody>\n",
       "</table>\n",
       "</div>"
      ],
      "text/plain": [
       "   begin  end ner_chunk ner_label ner_confidence concept_code resolution  \\\n",
       "0    185  188      DUX4      GENE         0.9697   HGNC:50800       dux4   \n",
       "1    191  197   DUX4L20      GENE         0.9412   HGNC:50801    dux4l20   \n",
       "2    200  205    FBXO48      GENE         0.9676   HGNC:33857     fbxo48   \n",
       "3    208  212     MYOD1      GENE         0.9847    HGNC:7611      myod1   \n",
       "4    219  222      PAX7      GENE         0.8536    HGNC:8621       pax7   \n",
       "\n",
       "   score                                                     all_codes  \\\n",
       "0    1.0  [HGNC:50800, HGNC:38686, HGNC:51778, HGNC:51771, HGNC:37265]   \n",
       "1    1.0  [HGNC:50801, HGNC:51788, HGNC:51778, HGNC:50802, HGNC:31354]   \n",
       "2    1.0  [HGNC:33857, HGNC:29816, HGNC:24847, HGNC:27020, HGNC:31969]   \n",
       "3    1.0      [HGNC:7611, HGNC:7598, HGNC:7595, HGNC:7599, HGNC:13752]   \n",
       "4    1.0       [HGNC:8621, HGNC:8860, HGNC:8622, HGNC:8616, HGNC:8619]   \n",
       "\n",
       "                                                                                                                                                                                                                                        concept_name_detailed  \\\n",
       "0                              [DUX4 [double homeobox 4], DUX4L4 [double homeobox 4 like 4 (pseudogene)], DUX4L40 [double homeobox 4 like 40 (pseudogene)], DUX4L32 [double homeobox 4 like 32 (pseudogene)], DUX4L6 [double homeobox 4 like 6 (pseudogene)]]   \n",
       "1  [DUX4L20 [double homeobox 4 like 20 (pseudogene)], DUX4L50 [double homeobox 4 like 50 (pseudogene)], DUX4L40 [double homeobox 4 like 40 (pseudogene)], DUX4L21 [double homeobox 4 like 21 (pseudogene)], DUX4L10 [double homeobox 4 like 10 (pseudogene)]]   \n",
       "2                                                                                                                     [FBXO48 [F-box protein 48], FBXO40 [F-box protein 40], FBXO44 [F-box protein 44], FBXO36 [F-box protein 36], FBXO47 [F-box protein 47]]   \n",
       "3                                                                                                                                           [MYOD1 [myogenic differentiation 1], MYO1D [myosin ID], MYO1A [myosin IA], MYO1E [myosin IE], MYOZ1 [myozenin 1]]   \n",
       "4                                                                                                                                [PAX7 [paired box 7], PEX7 [peroxisomal biogenesis factor 7], PAX8 [paired box 8], PAX2 [paired box 2], PAX5 [paired box 5]]   \n",
       "\n",
       "                                                                                                                                                                                                                                                        locus  \\\n",
       "0                                                                                                  [protein-coding gene || gene with protein product, pseudogene || pseudogene, pseudogene || pseudogene, pseudogene || pseudogene, pseudogene || pseudogene]   \n",
       "1                                                                                                                          [pseudogene || pseudogene, pseudogene || pseudogene, pseudogene || pseudogene, pseudogene || pseudogene, pseudogene || pseudogene]   \n",
       "2  [protein-coding gene || gene with protein product, protein-coding gene || gene with protein product, protein-coding gene || gene with protein product, protein-coding gene || gene with protein product, protein-coding gene || gene with protein product]   \n",
       "3  [protein-coding gene || gene with protein product, protein-coding gene || gene with protein product, protein-coding gene || gene with protein product, protein-coding gene || gene with protein product, protein-coding gene || gene with protein product]   \n",
       "4  [protein-coding gene || gene with protein product, protein-coding gene || gene with protein product, protein-coding gene || gene with protein product, protein-coding gene || gene with protein product, protein-coding gene || gene with protein product]   \n",
       "\n",
       "                                 all_resolutions  \\\n",
       "0       [dux4, dux4l4, dux4l40, dux4l32, dux4l6]   \n",
       "1  [dux4l20, dux4l50, dux4l40, dux4l21, dux4l10]   \n",
       "2       [fbxo48, fbxo40, fbxo44, fbxo36, fbxo47]   \n",
       "3            [myod1, myo1d, myo1a, myo1e, myoz1]   \n",
       "4                 [pax7, pex7, pax8, pax2, pax5]   \n",
       "\n",
       "                                                                                              all_score  \n",
       "0                 [1.0, 0.9232940077781677, 0.8669935464859009, 0.8570185899734497, 0.8551883697509766]  \n",
       "1   [0.9999997615814209, 0.895313024520874, 0.8925592303276062, 0.8840012550354004, 0.8810112476348877]  \n",
       "2  [1.0000004768371582, 0.8699185848236084, 0.8525800108909607, 0.8402078151702881, 0.8378820419311523]  \n",
       "3  [0.9999996423721313, 0.8814316987991333, 0.8536235094070435, 0.8487422466278076, 0.8310863971710205]  \n",
       "4  [0.9999997019767761, 0.8129062652587891, 0.8030733466148376, 0.8027161359786987, 0.8005862832069397]  "
      ]
     },
     "execution_count": 9,
     "metadata": {},
     "output_type": "execute_result"
    }
   ],
   "source": [
    "input_json_data = {\"text\": sample_text}\n",
    "response_json = invoke_realtime_endpoint(input_json_data, content_type=\"application/json\", accept=\"application/json\")\n",
    "pd.DataFrame(response_json[\"predictions\"][0])"
   ]
  },
  {
   "cell_type": "markdown",
   "metadata": {},
   "source": [
    "### JSON Lines"
   ]
  },
  {
   "cell_type": "code",
   "execution_count": 11,
   "metadata": {
    "tags": []
   },
   "outputs": [],
   "source": [
    "def create_jsonl(records):\n",
    "    if isinstance(records, str):\n",
    "        records = [records]\n",
    "    json_records = [{\"text\": text} for text in records]\n",
    "    json_lines = \"\\n\".join(json.dumps(record) for record in json_records)\n",
    "    return json_lines"
   ]
  },
  {
   "cell_type": "code",
   "execution_count": 12,
   "metadata": {
    "tags": []
   },
   "outputs": [
    {
     "name": "stdout",
     "output_type": "stream",
     "text": [
      "{\"predictions\": [{\"begin\": 185, \"end\": 188, \"ner_chunk\": \"DUX4\", \"ner_label\": \"GENE\", \"ner_confidence\": \"0.9697\", \"concept_code\": \"HGNC:50800\", \"resolution\": \"dux4\", \"score\": 1.0, \"all_codes\": [\"HGNC:50800\", \"HGNC:38686\", \"HGNC:51778\", \"HGNC:51771\", \"HGNC:37265\"], \"concept_name_detailed\": [\"DUX4 [double homeobox 4]\", \"DUX4L4 [double homeobox 4 like 4 (pseudogene)]\", \"DUX4L40 [double homeobox 4 like 40 (pseudogene)]\", \"DUX4L32 [double homeobox 4 like 32 (pseudogene)]\", \"DUX4L6 [double homeobox 4 like 6 (pseudogene)]\"], \"locus\": [\"protein-coding gene || gene with protein product\", \"pseudogene || pseudogene\", \"pseudogene || pseudogene\", \"pseudogene || pseudogene\", \"pseudogene || pseudogene\"], \"all_resolutions\": [\"dux4\", \"dux4l4\", \"dux4l40\", \"dux4l32\", \"dux4l6\"], \"all_score\": [1.0, 0.9232940077781677, 0.8669935464859009, 0.8570185899734497, 0.8551883697509766]}, {\"begin\": 191, \"end\": 197, \"ner_chunk\": \"DUX4L20\", \"ner_label\": \"GENE\", \"ner_confidence\": \"0.9412\", \"concept_code\": \"HGNC:50801\", \"resolution\": \"dux4l20\", \"score\": 0.9999997615814209, \"all_codes\": [\"HGNC:50801\", \"HGNC:51788\", \"HGNC:51778\", \"HGNC:50802\", \"HGNC:31354\"], \"concept_name_detailed\": [\"DUX4L20 [double homeobox 4 like 20 (pseudogene)]\", \"DUX4L50 [double homeobox 4 like 50 (pseudogene)]\", \"DUX4L40 [double homeobox 4 like 40 (pseudogene)]\", \"DUX4L21 [double homeobox 4 like 21 (pseudogene)]\", \"DUX4L10 [double homeobox 4 like 10 (pseudogene)]\"], \"locus\": [\"pseudogene || pseudogene\", \"pseudogene || pseudogene\", \"pseudogene || pseudogene\", \"pseudogene || pseudogene\", \"pseudogene || pseudogene\"], \"all_resolutions\": [\"dux4l20\", \"dux4l50\", \"dux4l40\", \"dux4l21\", \"dux4l10\"], \"all_score\": [0.9999997615814209, 0.895313024520874, 0.8925592303276062, 0.8840012550354004, 0.8810112476348877]}, {\"begin\": 200, \"end\": 205, \"ner_chunk\": \"FBXO48\", \"ner_label\": \"GENE\", \"ner_confidence\": \"0.9676\", \"concept_code\": \"HGNC:33857\", \"resolution\": \"fbxo48\", \"score\": 1.0000004768371582, \"all_codes\": [\"HGNC:33857\", \"HGNC:29816\", \"HGNC:24847\", \"HGNC:27020\", \"HGNC:31969\"], \"concept_name_detailed\": [\"FBXO48 [F-box protein 48]\", \"FBXO40 [F-box protein 40]\", \"FBXO44 [F-box protein 44]\", \"FBXO36 [F-box protein 36]\", \"FBXO47 [F-box protein 47]\"], \"locus\": [\"protein-coding gene || gene with protein product\", \"protein-coding gene || gene with protein product\", \"protein-coding gene || gene with protein product\", \"protein-coding gene || gene with protein product\", \"protein-coding gene || gene with protein product\"], \"all_resolutions\": [\"fbxo48\", \"fbxo40\", \"fbxo44\", \"fbxo36\", \"fbxo47\"], \"all_score\": [1.0000004768371582, 0.8699185848236084, 0.8525800108909607, 0.8402078151702881, 0.8378820419311523]}, {\"begin\": 208, \"end\": 212, \"ner_chunk\": \"MYOD1\", \"ner_label\": \"GENE\", \"ner_confidence\": \"0.9847\", \"concept_code\": \"HGNC:7611\", \"resolution\": \"myod1\", \"score\": 0.9999996423721313, \"all_codes\": [\"HGNC:7611\", \"HGNC:7598\", \"HGNC:7595\", \"HGNC:7599\", \"HGNC:13752\"], \"concept_name_detailed\": [\"MYOD1 [myogenic differentiation 1]\", \"MYO1D [myosin ID]\", \"MYO1A [myosin IA]\", \"MYO1E [myosin IE]\", \"MYOZ1 [myozenin 1]\"], \"locus\": [\"protein-coding gene || gene with protein product\", \"protein-coding gene || gene with protein product\", \"protein-coding gene || gene with protein product\", \"protein-coding gene || gene with protein product\", \"protein-coding gene || gene with protein product\"], \"all_resolutions\": [\"myod1\", \"myo1d\", \"myo1a\", \"myo1e\", \"myoz1\"], \"all_score\": [0.9999996423721313, 0.8814316987991333, 0.8536235094070435, 0.8487422466278076, 0.8310863971710205]}, {\"begin\": 219, \"end\": 222, \"ner_chunk\": \"PAX7\", \"ner_label\": \"GENE\", \"ner_confidence\": \"0.8536\", \"concept_code\": \"HGNC:8621\", \"resolution\": \"pax7\", \"score\": 0.9999997019767761, \"all_codes\": [\"HGNC:8621\", \"HGNC:8860\", \"HGNC:8622\", \"HGNC:8616\", \"HGNC:8619\"], \"concept_name_detailed\": [\"PAX7 [paired box 7]\", \"PEX7 [peroxisomal biogenesis factor 7]\", \"PAX8 [paired box 8]\", \"PAX2 [paired box 2]\", \"PAX5 [paired box 5]\"], \"locus\": [\"protein-coding gene || gene with protein product\", \"protein-coding gene || gene with protein product\", \"protein-coding gene || gene with protein product\", \"protein-coding gene || gene with protein product\", \"protein-coding gene || gene with protein product\"], \"all_resolutions\": [\"pax7\", \"pex7\", \"pax8\", \"pax2\", \"pax5\"], \"all_score\": [0.9999997019767761, 0.8129062652587891, 0.8030733466148376, 0.8027161359786987, 0.8005862832069397]}]}\n"
     ]
    }
   ],
   "source": [
    "input_jsonl_data = create_jsonl(sample_text)\n",
    "data = invoke_realtime_endpoint(input_jsonl_data, content_type=\"application/jsonlines\" , accept=\"application/jsonlines\" )\n",
    "print(data)"
   ]
  },
  {
   "cell_type": "markdown",
   "metadata": {},
   "source": [
    "### B. Delete the endpoint"
   ]
  },
  {
   "cell_type": "markdown",
   "metadata": {},
   "source": [
    "Now that you have successfully performed a real-time inference, you do not need the endpoint any more. You can terminate the endpoint to avoid being charged."
   ]
  },
  {
   "cell_type": "code",
   "execution_count": 14,
   "metadata": {
    "tags": []
   },
   "outputs": [],
   "source": [
    "model.sagemaker_session.delete_endpoint(model_name)\n",
    "model.sagemaker_session.delete_endpoint_config(model_name)"
   ]
  },
  {
   "cell_type": "markdown",
   "metadata": {
    "tags": []
   },
   "source": [
    "## 4. Batch inference"
   ]
  },
  {
   "cell_type": "code",
   "execution_count": 15,
   "metadata": {
    "tags": []
   },
   "outputs": [],
   "source": [
    "validation_json_file_name = \"input.json\"\n",
    "validation_jsonl_file_name = \"input.jsonl\"\n",
    "\n",
    "validation_input_json_path = f\"s3://{s3_bucket}/{model_name}/validation-input/json/\"\n",
    "validation_output_json_path = f\"s3://{s3_bucket}/{model_name}/validation-output/json/\"\n",
    "\n",
    "validation_input_jsonl_path = f\"s3://{s3_bucket}/{model_name}/validation-input/jsonl/\"\n",
    "validation_output_jsonl_path = f\"s3://{s3_bucket}/{model_name}/validation-output/jsonl/\"\n",
    "\n",
    "def upload_to_s3(input_data, file_name):\n",
    "    file_format = os.path.splitext(file_name)[1].lower()\n",
    "    s3_client.put_object(\n",
    "        Bucket=s3_bucket,\n",
    "        Key=f\"{model_name}/validation-input/{file_format[1:]}/{file_name}\",\n",
    "        Body=input_data.encode(\"UTF-8\"),\n",
    "    )"
   ]
  },
  {
   "cell_type": "code",
   "execution_count": 16,
   "metadata": {
    "tags": []
   },
   "outputs": [],
   "source": [
    "# Create JSON and JSON Lines data\n",
    "input_jsonl_data = create_jsonl(docs)\n",
    "input_json_data = json.dumps({\"text\": docs})\n",
    "\n",
    "# Upload JSON and JSON Lines data to S3\n",
    "upload_to_s3(input_json_data, validation_json_file_name)\n",
    "upload_to_s3(input_jsonl_data, validation_jsonl_file_name)"
   ]
  },
  {
   "cell_type": "markdown",
   "metadata": {
    "tags": []
   },
   "source": [
    "### JSON"
   ]
  },
  {
   "cell_type": "code",
   "execution_count": null,
   "metadata": {
    "tags": []
   },
   "outputs": [],
   "source": [
    "transformer = model.transformer(\n",
    "    instance_count=1,\n",
    "    instance_type=batch_transform_inference_instance_type,\n",
    "    accept=\"application/json\",\n",
    "    output_path=validation_output_json_path\n",
    ")\n",
    "\n",
    "transformer.transform(validation_input_json_path, content_type=\"application/json\")\n",
    "transformer.wait()"
   ]
  },
  {
   "cell_type": "code",
   "execution_count": null,
   "metadata": {
    "tags": []
   },
   "outputs": [],
   "source": [
    "def retrieve_json_output_from_s3(validation_file_name):\n",
    "    parsed_url = urlparse(transformer.output_path)\n",
    "    file_key = f\"{parsed_url.path[1:]}{validation_file_name}.out\"\n",
    "    response = s3_client.get_object(Bucket=s3_bucket, Key=file_key)\n",
    "\n",
    "    data = json.loads(response[\"Body\"].read().decode(\"utf-8\"))\n",
    "    display(data)"
   ]
  },
  {
   "cell_type": "code",
   "execution_count": 20,
   "metadata": {
    "tags": []
   },
   "outputs": [
    {
     "data": {
      "text/plain": [
       "{'predictions': [[{'begin': 113,\n",
       "    'end': 119,\n",
       "    'ner_chunk': 'DUX4L20',\n",
       "    'ner_label': 'GENE',\n",
       "    'ner_confidence': '0.9654',\n",
       "    'concept_code': 'HGNC:50801',\n",
       "    'resolution': 'dux4l20',\n",
       "    'score': 0.9999998211860657,\n",
       "    'all_codes': ['HGNC:50801',\n",
       "     'HGNC:51788',\n",
       "     'HGNC:51778',\n",
       "     'HGNC:50802',\n",
       "     'HGNC:31354'],\n",
       "    'concept_name_detailed': ['DUX4L20 [double homeobox 4 like 20 (pseudogene)]',\n",
       "     'DUX4L50 [double homeobox 4 like 50 (pseudogene)]',\n",
       "     'DUX4L40 [double homeobox 4 like 40 (pseudogene)]',\n",
       "     'DUX4L21 [double homeobox 4 like 21 (pseudogene)]',\n",
       "     'DUX4L10 [double homeobox 4 like 10 (pseudogene)]'],\n",
       "    'locus': ['pseudogene || pseudogene',\n",
       "     'pseudogene || pseudogene',\n",
       "     'pseudogene || pseudogene',\n",
       "     'pseudogene || pseudogene',\n",
       "     'pseudogene || pseudogene'],\n",
       "    'all_resolutions': ['dux4l20', 'dux4l50', 'dux4l40', 'dux4l21', 'dux4l10'],\n",
       "    'all_score': [0.9999998211860657,\n",
       "     0.8953130841255188,\n",
       "     0.8925591707229614,\n",
       "     0.8840013742446899,\n",
       "     0.8810112476348877]},\n",
       "   {'begin': 126,\n",
       "    'end': 131,\n",
       "    'ner_chunk': 'FBXO48',\n",
       "    'ner_label': 'GENE',\n",
       "    'ner_confidence': '0.9833',\n",
       "    'concept_code': 'HGNC:33857',\n",
       "    'resolution': 'fbxo48',\n",
       "    'score': 1.0000005960464478,\n",
       "    'all_codes': ['HGNC:33857',\n",
       "     'HGNC:29816',\n",
       "     'HGNC:24847',\n",
       "     'HGNC:27020',\n",
       "     'HGNC:31969'],\n",
       "    'concept_name_detailed': ['FBXO48 [F-box protein 48]',\n",
       "     'FBXO40 [F-box protein 40]',\n",
       "     'FBXO44 [F-box protein 44]',\n",
       "     'FBXO36 [F-box protein 36]',\n",
       "     'FBXO47 [F-box protein 47]'],\n",
       "    'locus': ['protein-coding gene || gene with protein product',\n",
       "     'protein-coding gene || gene with protein product',\n",
       "     'protein-coding gene || gene with protein product',\n",
       "     'protein-coding gene || gene with protein product',\n",
       "     'protein-coding gene || gene with protein product'],\n",
       "    'all_resolutions': ['fbxo48', 'fbxo40', 'fbxo44', 'fbxo36', 'fbxo47'],\n",
       "    'all_score': [1.0000005960464478,\n",
       "     0.8699186444282532,\n",
       "     0.8525798916816711,\n",
       "     0.8402078151702881,\n",
       "     0.8378819823265076]}],\n",
       "  [{'begin': 4,\n",
       "    'end': 7,\n",
       "    'ner_chunk': 'EGFR',\n",
       "    'ner_label': 'GENE',\n",
       "    'ner_confidence': '0.9994',\n",
       "    'concept_code': 'HGNC:3236',\n",
       "    'resolution': 'egfr',\n",
       "    'score': 0.9999998807907104,\n",
       "    'all_codes': ['HGNC:3236',\n",
       "     'HGNC:3229',\n",
       "     'HGNC:3236',\n",
       "     'HGNC:40207',\n",
       "     'HGNC:9600'],\n",
       "    'concept_name_detailed': ['EGFR [epidermal growth factor receptor]',\n",
       "     'EGF [epidermal growth factor]',\n",
       "     'epidermal growth factor receptor [epidermal growth factor receptor]',\n",
       "     'EGFR-AS1 [EGFR antisense RNA 1]',\n",
       "     'PTGFR [prostaglandin F receptor]'],\n",
       "    'locus': ['protein-coding gene || gene with protein product',\n",
       "     'protein-coding gene || gene with protein product',\n",
       "     'protein-coding gene || gene with protein product',\n",
       "     'non-coding RNA || RNA, long non-coding',\n",
       "     'protein-coding gene || gene with protein product'],\n",
       "    'all_resolutions': ['egfr',\n",
       "     'egf',\n",
       "     'epidermal growth factor receptor',\n",
       "     'egfr-as1',\n",
       "     'ptgfr'],\n",
       "    'all_score': [0.9999998807907104,\n",
       "     0.8472012281417847,\n",
       "     0.8457092642784119,\n",
       "     0.8222224116325378,\n",
       "     0.7924920320510864]}]]}"
      ]
     },
     "metadata": {},
     "output_type": "display_data"
    }
   ],
   "source": [
    "retrieve_json_output_from_s3(validation_json_file_name)"
   ]
  },
  {
   "cell_type": "markdown",
   "metadata": {},
   "source": [
    "### JSON Lines"
   ]
  },
  {
   "cell_type": "code",
   "execution_count": null,
   "metadata": {
    "tags": []
   },
   "outputs": [],
   "source": [
    "transformer = model.transformer(\n",
    "    instance_count=1,\n",
    "    instance_type=batch_transform_inference_instance_type,\n",
    "    accept=\"application/jsonlines\",\n",
    "    output_path=validation_output_jsonl_path\n",
    ")\n",
    "transformer.transform(validation_input_jsonl_path, content_type=\"application/jsonlines\")\n",
    "transformer.wait()"
   ]
  },
  {
   "cell_type": "code",
   "execution_count": null,
   "metadata": {
    "tags": []
   },
   "outputs": [],
   "source": [
    "def retrieve_jsonlines_output_from_s3(validation_file_name):\n",
    "\n",
    "    parsed_url = urlparse(transformer.output_path)\n",
    "    file_key = f\"{parsed_url.path[1:]}{validation_file_name}.out\"\n",
    "    response = s3_client.get_object(Bucket=s3_bucket, Key=file_key)\n",
    "\n",
    "    data = response[\"Body\"].read().decode(\"utf-8\")\n",
    "    print(data)"
   ]
  },
  {
   "cell_type": "code",
   "execution_count": 23,
   "metadata": {
    "tags": []
   },
   "outputs": [
    {
     "name": "stdout",
     "output_type": "stream",
     "text": [
      "{\"predictions\": [{\"begin\": 113, \"end\": 119, \"ner_chunk\": \"DUX4L20\", \"ner_label\": \"GENE\", \"ner_confidence\": \"0.9654\", \"concept_code\": \"HGNC:50801\", \"resolution\": \"dux4l20\", \"score\": 0.9999998211860657, \"all_codes\": [\"HGNC:50801\", \"HGNC:51788\", \"HGNC:51778\", \"HGNC:50802\", \"HGNC:31354\"], \"concept_name_detailed\": [\"DUX4L20 [double homeobox 4 like 20 (pseudogene)]\", \"DUX4L50 [double homeobox 4 like 50 (pseudogene)]\", \"DUX4L40 [double homeobox 4 like 40 (pseudogene)]\", \"DUX4L21 [double homeobox 4 like 21 (pseudogene)]\", \"DUX4L10 [double homeobox 4 like 10 (pseudogene)]\"], \"locus\": [\"pseudogene || pseudogene\", \"pseudogene || pseudogene\", \"pseudogene || pseudogene\", \"pseudogene || pseudogene\", \"pseudogene || pseudogene\"], \"all_resolutions\": [\"dux4l20\", \"dux4l50\", \"dux4l40\", \"dux4l21\", \"dux4l10\"], \"all_score\": [0.9999998211860657, 0.8953130841255188, 0.8925591707229614, 0.8840013742446899, 0.8810112476348877]}, {\"begin\": 126, \"end\": 131, \"ner_chunk\": \"FBXO48\", \"ner_label\": \"GENE\", \"ner_confidence\": \"0.9833\", \"concept_code\": \"HGNC:33857\", \"resolution\": \"fbxo48\", \"score\": 1.0000005960464478, \"all_codes\": [\"HGNC:33857\", \"HGNC:29816\", \"HGNC:24847\", \"HGNC:27020\", \"HGNC:31969\"], \"concept_name_detailed\": [\"FBXO48 [F-box protein 48]\", \"FBXO40 [F-box protein 40]\", \"FBXO44 [F-box protein 44]\", \"FBXO36 [F-box protein 36]\", \"FBXO47 [F-box protein 47]\"], \"locus\": [\"protein-coding gene || gene with protein product\", \"protein-coding gene || gene with protein product\", \"protein-coding gene || gene with protein product\", \"protein-coding gene || gene with protein product\", \"protein-coding gene || gene with protein product\"], \"all_resolutions\": [\"fbxo48\", \"fbxo40\", \"fbxo44\", \"fbxo36\", \"fbxo47\"], \"all_score\": [1.0000005960464478, 0.8699186444282532, 0.8525798916816711, 0.8402078151702881, 0.8378819823265076]}]}\n",
      "{\"predictions\": [{\"begin\": 4, \"end\": 7, \"ner_chunk\": \"EGFR\", \"ner_label\": \"GENE\", \"ner_confidence\": \"0.9994\", \"concept_code\": \"HGNC:3236\", \"resolution\": \"egfr\", \"score\": 0.9999998807907104, \"all_codes\": [\"HGNC:3236\", \"HGNC:3229\", \"HGNC:3236\", \"HGNC:40207\", \"HGNC:9600\"], \"concept_name_detailed\": [\"EGFR [epidermal growth factor receptor]\", \"EGF [epidermal growth factor]\", \"epidermal growth factor receptor [epidermal growth factor receptor]\", \"EGFR-AS1 [EGFR antisense RNA 1]\", \"PTGFR [prostaglandin F receptor]\"], \"locus\": [\"protein-coding gene || gene with protein product\", \"protein-coding gene || gene with protein product\", \"protein-coding gene || gene with protein product\", \"non-coding RNA || RNA, long non-coding\", \"protein-coding gene || gene with protein product\"], \"all_resolutions\": [\"egfr\", \"egf\", \"epidermal growth factor receptor\", \"egfr-as1\", \"ptgfr\"], \"all_score\": [0.9999998807907104, 0.8472012281417847, 0.8457092642784119, 0.8222224116325378, 0.7924920320510864]}]}\n"
     ]
    }
   ],
   "source": [
    "retrieve_jsonlines_output_from_s3(validation_jsonl_file_name)"
   ]
  },
  {
   "cell_type": "code",
   "execution_count": null,
   "metadata": {
    "tags": []
   },
   "outputs": [],
   "source": [
    "model.delete_model()"
   ]
  },
  {
   "cell_type": "markdown",
   "metadata": {},
   "source": [
    "### Unsubscribe to the listing (optional)"
   ]
  },
  {
   "cell_type": "markdown",
   "metadata": {
    "tags": []
   },
   "source": [
    "If you would like to unsubscribe to the model package, follow these steps. Before you cancel the subscription, ensure that you do not have any [deployable model](https://console.aws.amazon.com/sagemaker/home#/models) created from the model package or using the algorithm. Note - You can find this information by looking at the container name associated with the model. \n",
    "\n",
    "**Steps to unsubscribe to product from AWS Marketplace**:\n",
    "1. Navigate to __Machine Learning__ tab on [__Your Software subscriptions page__](https://aws.amazon.com/marketplace/ai/library?productType=ml&ref_=mlmp_gitdemo_indust)\n",
    "2. Locate the listing that you want to cancel the subscription for, and then choose __Cancel Subscription__  to cancel the subscription.\n",
    "\n"
   ]
  }
 ],
 "metadata": {
  "instance_type": "ml.t3.medium",
  "kernelspec": {
   "display_name": "conda_python3",
   "language": "python",
   "name": "conda_python3"
  },
  "language_info": {
   "codemirror_mode": {
    "name": "ipython",
    "version": 3
   },
   "file_extension": ".py",
   "mimetype": "text/x-python",
   "name": "python",
   "nbconvert_exporter": "python",
   "pygments_lexer": "ipython3",
   "version": "3.10.18"
  }
 },
 "nbformat": 4,
 "nbformat_minor": 4
}

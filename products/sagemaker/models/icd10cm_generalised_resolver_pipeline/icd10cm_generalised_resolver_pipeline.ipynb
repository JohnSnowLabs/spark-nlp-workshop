{
 "cells": [
  {
   "cell_type": "markdown",
   "metadata": {},
   "source": [
    "## 1. Subscribe to the model package"
   ]
  },
  {
   "cell_type": "markdown",
   "metadata": {},
   "source": [
    "To subscribe to the model package:\n",
    "1. Open the model package listing page <font color='red'> For Seller to update:[Title_of_your_product](Provide link to your marketplace listing of your product).</font>\n",
    "1. On the AWS Marketplace listing, click on the **Continue to subscribe** button.\n",
    "1. On the **Subscribe to this software** page, review and click on **\"Accept Offer\"** if you and your organization agrees with EULA, pricing, and support terms. \n",
    "1. Once you click on **Continue to configuration button** and then choose a **region**, you will see a **Product Arn** displayed. This is the model package ARN that you need to specify while creating a deployable model using Boto3. Copy the ARN corresponding to your region and specify the same in the following cell."
   ]
  },
  {
   "cell_type": "markdown",
   "metadata": {},
   "source": [
    "## Pipeline for ICD-10-CM (General 3-character Codes)\n",
    "\n",
    "- **Model**: `icd10cm_generalised_resolver_pipeline`\n",
    "- **Model Description**: This pipeline extracts medical entities from text and maps them to their corresponding ICD-10-CM codes using `sbiobert_base_cased_mli` sentence embeddings. It predicts ICD-10-CM codes up to 3 characters, where the first three characters represent the general type of injury or disease according to ICD-10-CM code structure."
   ]
  },
  {
   "cell_type": "code",
   "execution_count": 1,
   "metadata": {
    "tags": []
   },
   "outputs": [],
   "source": [
    "model_package_arn = \"<Customer to specify Model package ARN corresponding to their AWS region>\""
   ]
  },
  {
   "cell_type": "code",
   "execution_count": 2,
   "metadata": {
    "tags": []
   },
   "outputs": [
    {
     "name": "stdout",
     "output_type": "stream",
     "text": [
      "sagemaker.config INFO - Not applying SDK defaults from location: /etc/xdg/sagemaker/config.yaml\n",
      "sagemaker.config INFO - Not applying SDK defaults from location: /home/ec2-user/.config/sagemaker/config.yaml\n"
     ]
    }
   ],
   "source": [
    "import base64\n",
    "import json\n",
    "import uuid\n",
    "from sagemaker import ModelPackage\n",
    "import sagemaker as sage\n",
    "from sagemaker import get_execution_role\n",
    "import boto3\n",
    "from IPython.display import Image, display\n",
    "from PIL import Image as ImageEdit\n",
    "import numpy as np"
   ]
  },
  {
   "cell_type": "code",
   "execution_count": 3,
   "metadata": {
    "tags": []
   },
   "outputs": [],
   "source": [
    "sagemaker_session = sage.Session()\n",
    "s3_bucket = sagemaker_session.default_bucket()\n",
    "region = sagemaker_session.boto_region_name\n",
    "account_id = boto3.client(\"sts\").get_caller_identity().get(\"Account\")\n",
    "role = get_execution_role()\n",
    "\n",
    "sagemaker = boto3.client(\"sagemaker\")\n",
    "s3_client = sagemaker_session.boto_session.client(\"s3\")\n",
    "ecr = boto3.client(\"ecr\")\n",
    "sm_runtime = boto3.client(\"sagemaker-runtime\")"
   ]
  },
  {
   "cell_type": "markdown",
   "metadata": {},
   "source": [
    "## 2. Create an endpoint and perform real-time inference"
   ]
  },
  {
   "cell_type": "markdown",
   "metadata": {},
   "source": [
    "If you want to understand how real-time inference with Amazon SageMaker works, see [Documentation](https://docs.aws.amazon.com/sagemaker/latest/dg/how-it-works-hosting.html)."
   ]
  },
  {
   "cell_type": "code",
   "execution_count": 5,
   "metadata": {
    "tags": []
   },
   "outputs": [],
   "source": [
    "model_name = \"icd10cm-generalised-resolver-pipeline\"\n",
    "\n",
    "real_time_inference_instance_type = \"ml.m4.xlarge\"\n",
    "batch_transform_inference_instance_type = \"ml.m4.xlarge\"\n"
   ]
  },
  {
   "cell_type": "markdown",
   "metadata": {},
   "source": [
    "### A. Create an endpoint"
   ]
  },
  {
   "cell_type": "code",
   "execution_count": 6,
   "metadata": {
    "tags": []
   },
   "outputs": [
    {
     "name": "stdout",
     "output_type": "stream",
     "text": [
      "------------!"
     ]
    }
   ],
   "source": [
    "# create a deployable model from the model package.\n",
    "model = ModelPackage(\n",
    "    role=role, model_package_arn=model_package_arn, sagemaker_session=sagemaker_session\n",
    ")\n",
    "\n",
    "# Deploy the model\n",
    "predictor = model.deploy(1, real_time_inference_instance_type, endpoint_name=model_name)"
   ]
  },
  {
   "cell_type": "markdown",
   "metadata": {},
   "source": [
    "Once endpoint has been created, you would be able to perform real-time inference."
   ]
  },
  {
   "cell_type": "code",
   "execution_count": 7,
   "metadata": {
    "tags": []
   },
   "outputs": [],
   "source": [
    "import json\n",
    "import pandas as pd\n",
    "import os\n",
    "import boto3\n",
    "\n",
    "# Set display options\n",
    "pd.set_option('display.max_rows', None)\n",
    "pd.set_option('display.max_columns', None)\n",
    "pd.set_option('display.max_colwidth', None)\n",
    "\n",
    "def process_data_and_invoke_realtime_endpoint(data, content_type, accept):\n",
    "\n",
    "    content_type_to_format = {'application/json': 'json', 'application/jsonlines': 'jsonl'}\n",
    "    input_format = content_type_to_format.get(content_type)\n",
    "    if content_type not in content_type_to_format.keys() or accept not in content_type_to_format.keys():\n",
    "        raise ValueError(\"Invalid content_type or accept. It should be either 'application/json' or 'application/jsonlines'.\")\n",
    "\n",
    "    i = 1\n",
    "    input_dir = f'inputs/real-time/{input_format}'\n",
    "    output_dir = f'outputs/real-time/{input_format}'\n",
    "    s3_input_dir = f\"{model_name}/validation-input/real-time/{input_format}\"\n",
    "    s3_output_dir = f\"{model_name}/validation-output/real-time/{input_format}\"\n",
    "\n",
    "    input_file_name = f'{input_dir}/input{i}.{input_format}'\n",
    "    output_file_name = f'{output_dir}/{os.path.basename(input_file_name)}.out'\n",
    "\n",
    "    while os.path.exists(input_file_name) or os.path.exists(output_file_name):\n",
    "        i += 1\n",
    "        input_file_name = f'{input_dir}/input{i}.{input_format}'\n",
    "        output_file_name = f'{output_dir}/{os.path.basename(input_file_name)}.out'\n",
    "\n",
    "    os.makedirs(os.path.dirname(input_file_name), exist_ok=True)\n",
    "    os.makedirs(os.path.dirname(output_file_name), exist_ok=True)\n",
    "\n",
    "    input_data = json.dumps(data) if content_type == 'application/json' else data\n",
    "\n",
    "    # Write input data to file\n",
    "    with open(input_file_name, 'w') as f:\n",
    "        f.write(input_data)\n",
    "\n",
    "    # Upload input data to S3\n",
    "    s3_client.put_object(Bucket=s3_bucket, Key=f\"{s3_input_dir}/{os.path.basename(input_file_name)}\", Body=bytes(input_data.encode('UTF-8')))\n",
    "\n",
    "    # Invoke the SageMaker endpoint\n",
    "    response = sm_runtime.invoke_endpoint(\n",
    "        EndpointName=model_name,\n",
    "        ContentType=content_type,\n",
    "        Accept=accept,\n",
    "        Body=input_data,\n",
    "    )\n",
    "\n",
    "    # Read response data\n",
    "    response_data = json.loads(response[\"Body\"].read().decode(\"utf-8\")) if accept == 'application/json' else response['Body'].read().decode('utf-8')\n",
    "\n",
    "    # Save response data to file\n",
    "    with open(output_file_name, 'w') as f_out:\n",
    "        if accept == 'application/json':\n",
    "            json.dump(response_data, f_out, indent=4)\n",
    "        else:\n",
    "            for item in response_data.split('\\n'):\n",
    "                f_out.write(item + '\\n')\n",
    "\n",
    "    # Upload response data to S3\n",
    "    output_s3_key = f\"{s3_output_dir}/{os.path.basename(output_file_name)}\"\n",
    "    if accept == 'application/json':\n",
    "        s3_client.put_object(Bucket=s3_bucket, Key=output_s3_key, Body=json.dumps(response_data).encode('UTF-8'))\n",
    "    else:\n",
    "        s3_client.put_object(Bucket=s3_bucket, Key=output_s3_key, Body=response_data)\n",
    "\n",
    "    return response_data"
   ]
  },
  {
   "cell_type": "markdown",
   "metadata": {},
   "source": [
    "### Initial Setup"
   ]
  },
  {
   "cell_type": "code",
   "execution_count": 8,
   "metadata": {
    "tags": []
   },
   "outputs": [],
   "source": [
    "docs = [\n",
    "    \"An 86-year-old female with persistent abdominal pain, nausea and projectile vomiting, during evaluation in the emergency room, was found to have a high amylase, as well as lipase count and she is being admitted for management of unspecified gastrointestinal hemorrhage.\", \n",
    "    \"Complaints of unspecified upper abdominal pain and swelling in a 32-year-old woman led to the evaluation of possible disease of intestine. She had a history of mixed irritable bowel syndrome and congenital lactase deficiency. Several diagnostic tests were performed. Blood tests showed abnormal results of blood chemistry and colonoscopy was performed.\",\n",
    "]\n",
    "\n",
    "\n",
    "\n",
    "sample_text = \"\"\"A 28-year-old female with a history of gestational diabetes mellitus diagnosed eight years prior to presentation and subsequent type two diabetes mellitus, associated with obesity with a body mass index (BMI) of 33.5 kg/m2, presented with a one-week history of polyuria, polydipsia, poor appetite, and vomiting. Two weeks prior to presentation, she was treated with a five-day course of amoxicillin for a respiratory tract infection.\"\"\""
   ]
  },
  {
   "cell_type": "markdown",
   "metadata": {},
   "source": [
    "### JSON"
   ]
  },
  {
   "cell_type": "markdown",
   "metadata": {},
   "source": [
    "#### Example 1"
   ]
  },
  {
   "cell_type": "markdown",
   "metadata": {},
   "source": [
    "  **Input format**:\n",
    "  \n",
    "  \n",
    "```json\n",
    "{\n",
    "    \"text\": \"Single text document\"\n",
    "}\n",
    "```"
   ]
  },
  {
   "cell_type": "code",
   "execution_count": 9,
   "metadata": {
    "tags": []
   },
   "outputs": [
    {
     "data": {
      "text/html": [
       "<div>\n",
       "<style scoped>\n",
       "    .dataframe tbody tr th:only-of-type {\n",
       "        vertical-align: middle;\n",
       "    }\n",
       "\n",
       "    .dataframe tbody tr th {\n",
       "        vertical-align: top;\n",
       "    }\n",
       "\n",
       "    .dataframe thead th {\n",
       "        text-align: right;\n",
       "    }\n",
       "</style>\n",
       "<table border=\"1\" class=\"dataframe\">\n",
       "  <thead>\n",
       "    <tr style=\"text-align: right;\">\n",
       "      <th></th>\n",
       "      <th>document</th>\n",
       "      <th>ner_chunk</th>\n",
       "      <th>begin</th>\n",
       "      <th>end</th>\n",
       "      <th>ner_label</th>\n",
       "      <th>ner_confidence</th>\n",
       "      <th>icd10cm_code</th>\n",
       "      <th>icd10cm_resolution</th>\n",
       "      <th>icd10cm_confidence</th>\n",
       "    </tr>\n",
       "  </thead>\n",
       "  <tbody>\n",
       "    <tr>\n",
       "      <th>0</th>\n",
       "      <td>A 28-year-old female with a history of gestational diabetes mellitus diagnosed eight years prior to presentation and subsequent type two diabetes mellitus, associated with obesity with a body mass index (BMI) of 33.5 kg/m2, presented with a one-week history of polyuria, polydipsia, poor appetite, and vomiting. Two weeks prior to presentation, she was treated with a five-day course of amoxicillin for a respiratory tract infection.</td>\n",
       "      <td>gestational diabetes mellitus</td>\n",
       "      <td>39</td>\n",
       "      <td>67</td>\n",
       "      <td>DIABETES</td>\n",
       "      <td>0.9651</td>\n",
       "      <td>O24</td>\n",
       "      <td>gestational diabetes mellitus [gestational diabetes mellitus]</td>\n",
       "      <td>0.9915</td>\n",
       "    </tr>\n",
       "    <tr>\n",
       "      <th>1</th>\n",
       "      <td>A 28-year-old female with a history of gestational diabetes mellitus diagnosed eight years prior to presentation and subsequent type two diabetes mellitus, associated with obesity with a body mass index (BMI) of 33.5 kg/m2, presented with a one-week history of polyuria, polydipsia, poor appetite, and vomiting. Two weeks prior to presentation, she was treated with a five-day course of amoxicillin for a respiratory tract infection.</td>\n",
       "      <td>type two diabetes mellitus</td>\n",
       "      <td>128</td>\n",
       "      <td>153</td>\n",
       "      <td>DIABETES</td>\n",
       "      <td>0.93165</td>\n",
       "      <td>E11</td>\n",
       "      <td>type 2 diabetes mellitus [type 2 diabetes mellitus]</td>\n",
       "      <td>0.8714</td>\n",
       "    </tr>\n",
       "    <tr>\n",
       "      <th>2</th>\n",
       "      <td>A 28-year-old female with a history of gestational diabetes mellitus diagnosed eight years prior to presentation and subsequent type two diabetes mellitus, associated with obesity with a body mass index (BMI) of 33.5 kg/m2, presented with a one-week history of polyuria, polydipsia, poor appetite, and vomiting. Two weeks prior to presentation, she was treated with a five-day course of amoxicillin for a respiratory tract infection.</td>\n",
       "      <td>obesity</td>\n",
       "      <td>172</td>\n",
       "      <td>178</td>\n",
       "      <td>OBESITY</td>\n",
       "      <td>0.8819</td>\n",
       "      <td>E66</td>\n",
       "      <td>obesity [obesity, unspecified]</td>\n",
       "      <td>0.9540</td>\n",
       "    </tr>\n",
       "    <tr>\n",
       "      <th>3</th>\n",
       "      <td>A 28-year-old female with a history of gestational diabetes mellitus diagnosed eight years prior to presentation and subsequent type two diabetes mellitus, associated with obesity with a body mass index (BMI) of 33.5 kg/m2, presented with a one-week history of polyuria, polydipsia, poor appetite, and vomiting. Two weeks prior to presentation, she was treated with a five-day course of amoxicillin for a respiratory tract infection.</td>\n",
       "      <td>polyuria</td>\n",
       "      <td>261</td>\n",
       "      <td>268</td>\n",
       "      <td>SYMPTOM</td>\n",
       "      <td>0.9734</td>\n",
       "      <td>R35</td>\n",
       "      <td>polyuria [polyuria]</td>\n",
       "      <td>0.9984</td>\n",
       "    </tr>\n",
       "    <tr>\n",
       "      <th>4</th>\n",
       "      <td>A 28-year-old female with a history of gestational diabetes mellitus diagnosed eight years prior to presentation and subsequent type two diabetes mellitus, associated with obesity with a body mass index (BMI) of 33.5 kg/m2, presented with a one-week history of polyuria, polydipsia, poor appetite, and vomiting. Two weeks prior to presentation, she was treated with a five-day course of amoxicillin for a respiratory tract infection.</td>\n",
       "      <td>polydipsia</td>\n",
       "      <td>271</td>\n",
       "      <td>280</td>\n",
       "      <td>SYMPTOM</td>\n",
       "      <td>0.9948</td>\n",
       "      <td>R63</td>\n",
       "      <td>polydipsia [polydipsia]</td>\n",
       "      <td>0.9935</td>\n",
       "    </tr>\n",
       "    <tr>\n",
       "      <th>5</th>\n",
       "      <td>A 28-year-old female with a history of gestational diabetes mellitus diagnosed eight years prior to presentation and subsequent type two diabetes mellitus, associated with obesity with a body mass index (BMI) of 33.5 kg/m2, presented with a one-week history of polyuria, polydipsia, poor appetite, and vomiting. Two weeks prior to presentation, she was treated with a five-day course of amoxicillin for a respiratory tract infection.</td>\n",
       "      <td>poor appetite</td>\n",
       "      <td>283</td>\n",
       "      <td>295</td>\n",
       "      <td>SYMPTOM</td>\n",
       "      <td>0.9238</td>\n",
       "      <td>R63</td>\n",
       "      <td>poor appetite [anorexia]</td>\n",
       "      <td>0.9932</td>\n",
       "    </tr>\n",
       "    <tr>\n",
       "      <th>6</th>\n",
       "      <td>A 28-year-old female with a history of gestational diabetes mellitus diagnosed eight years prior to presentation and subsequent type two diabetes mellitus, associated with obesity with a body mass index (BMI) of 33.5 kg/m2, presented with a one-week history of polyuria, polydipsia, poor appetite, and vomiting. Two weeks prior to presentation, she was treated with a five-day course of amoxicillin for a respiratory tract infection.</td>\n",
       "      <td>vomiting</td>\n",
       "      <td>302</td>\n",
       "      <td>309</td>\n",
       "      <td>SYMPTOM</td>\n",
       "      <td>0.9893</td>\n",
       "      <td>R11</td>\n",
       "      <td>vomiting [vomiting]</td>\n",
       "      <td>0.9934</td>\n",
       "    </tr>\n",
       "    <tr>\n",
       "      <th>7</th>\n",
       "      <td>A 28-year-old female with a history of gestational diabetes mellitus diagnosed eight years prior to presentation and subsequent type two diabetes mellitus, associated with obesity with a body mass index (BMI) of 33.5 kg/m2, presented with a one-week history of polyuria, polydipsia, poor appetite, and vomiting. Two weeks prior to presentation, she was treated with a five-day course of amoxicillin for a respiratory tract infection.</td>\n",
       "      <td>respiratory tract infection</td>\n",
       "      <td>405</td>\n",
       "      <td>431</td>\n",
       "      <td>DISEASE_SYNDROME_DISORDER</td>\n",
       "      <td>0.5958667</td>\n",
       "      <td>J98</td>\n",
       "      <td>respiratory tract infection [other specified respiratory disorders]</td>\n",
       "      <td>0.9885</td>\n",
       "    </tr>\n",
       "  </tbody>\n",
       "</table>\n",
       "</div>"
      ],
      "text/plain": [
       "                                                                                                                                                                                                                                                                                                                                                                                                                                            document  \\\n",
       "0  A 28-year-old female with a history of gestational diabetes mellitus diagnosed eight years prior to presentation and subsequent type two diabetes mellitus, associated with obesity with a body mass index (BMI) of 33.5 kg/m2, presented with a one-week history of polyuria, polydipsia, poor appetite, and vomiting. Two weeks prior to presentation, she was treated with a five-day course of amoxicillin for a respiratory tract infection.   \n",
       "1  A 28-year-old female with a history of gestational diabetes mellitus diagnosed eight years prior to presentation and subsequent type two diabetes mellitus, associated with obesity with a body mass index (BMI) of 33.5 kg/m2, presented with a one-week history of polyuria, polydipsia, poor appetite, and vomiting. Two weeks prior to presentation, she was treated with a five-day course of amoxicillin for a respiratory tract infection.   \n",
       "2  A 28-year-old female with a history of gestational diabetes mellitus diagnosed eight years prior to presentation and subsequent type two diabetes mellitus, associated with obesity with a body mass index (BMI) of 33.5 kg/m2, presented with a one-week history of polyuria, polydipsia, poor appetite, and vomiting. Two weeks prior to presentation, she was treated with a five-day course of amoxicillin for a respiratory tract infection.   \n",
       "3  A 28-year-old female with a history of gestational diabetes mellitus diagnosed eight years prior to presentation and subsequent type two diabetes mellitus, associated with obesity with a body mass index (BMI) of 33.5 kg/m2, presented with a one-week history of polyuria, polydipsia, poor appetite, and vomiting. Two weeks prior to presentation, she was treated with a five-day course of amoxicillin for a respiratory tract infection.   \n",
       "4  A 28-year-old female with a history of gestational diabetes mellitus diagnosed eight years prior to presentation and subsequent type two diabetes mellitus, associated with obesity with a body mass index (BMI) of 33.5 kg/m2, presented with a one-week history of polyuria, polydipsia, poor appetite, and vomiting. Two weeks prior to presentation, she was treated with a five-day course of amoxicillin for a respiratory tract infection.   \n",
       "5  A 28-year-old female with a history of gestational diabetes mellitus diagnosed eight years prior to presentation and subsequent type two diabetes mellitus, associated with obesity with a body mass index (BMI) of 33.5 kg/m2, presented with a one-week history of polyuria, polydipsia, poor appetite, and vomiting. Two weeks prior to presentation, she was treated with a five-day course of amoxicillin for a respiratory tract infection.   \n",
       "6  A 28-year-old female with a history of gestational diabetes mellitus diagnosed eight years prior to presentation and subsequent type two diabetes mellitus, associated with obesity with a body mass index (BMI) of 33.5 kg/m2, presented with a one-week history of polyuria, polydipsia, poor appetite, and vomiting. Two weeks prior to presentation, she was treated with a five-day course of amoxicillin for a respiratory tract infection.   \n",
       "7  A 28-year-old female with a history of gestational diabetes mellitus diagnosed eight years prior to presentation and subsequent type two diabetes mellitus, associated with obesity with a body mass index (BMI) of 33.5 kg/m2, presented with a one-week history of polyuria, polydipsia, poor appetite, and vomiting. Two weeks prior to presentation, she was treated with a five-day course of amoxicillin for a respiratory tract infection.   \n",
       "\n",
       "                       ner_chunk  begin  end                  ner_label  \\\n",
       "0  gestational diabetes mellitus     39   67                   DIABETES   \n",
       "1     type two diabetes mellitus    128  153                   DIABETES   \n",
       "2                        obesity    172  178                    OBESITY   \n",
       "3                       polyuria    261  268                    SYMPTOM   \n",
       "4                     polydipsia    271  280                    SYMPTOM   \n",
       "5                  poor appetite    283  295                    SYMPTOM   \n",
       "6                       vomiting    302  309                    SYMPTOM   \n",
       "7    respiratory tract infection    405  431  DISEASE_SYNDROME_DISORDER   \n",
       "\n",
       "  ner_confidence icd10cm_code  \\\n",
       "0         0.9651          O24   \n",
       "1        0.93165          E11   \n",
       "2         0.8819          E66   \n",
       "3         0.9734          R35   \n",
       "4         0.9948          R63   \n",
       "5         0.9238          R63   \n",
       "6         0.9893          R11   \n",
       "7      0.5958667          J98   \n",
       "\n",
       "                                                    icd10cm_resolution  \\\n",
       "0        gestational diabetes mellitus [gestational diabetes mellitus]   \n",
       "1                  type 2 diabetes mellitus [type 2 diabetes mellitus]   \n",
       "2                                       obesity [obesity, unspecified]   \n",
       "3                                                  polyuria [polyuria]   \n",
       "4                                              polydipsia [polydipsia]   \n",
       "5                                             poor appetite [anorexia]   \n",
       "6                                                  vomiting [vomiting]   \n",
       "7  respiratory tract infection [other specified respiratory disorders]   \n",
       "\n",
       "  icd10cm_confidence  \n",
       "0             0.9915  \n",
       "1             0.8714  \n",
       "2             0.9540  \n",
       "3             0.9984  \n",
       "4             0.9935  \n",
       "5             0.9932  \n",
       "6             0.9934  \n",
       "7             0.9885  "
      ]
     },
     "execution_count": 9,
     "metadata": {},
     "output_type": "execute_result"
    }
   ],
   "source": [
    "input_json_data = {\"text\": sample_text}\n",
    "\n",
    "data =  process_data_and_invoke_realtime_endpoint(input_json_data, content_type=\"application/json\" , accept=\"application/json\" )\n",
    "pd.DataFrame(data[\"predictions\"])"
   ]
  },
  {
   "cell_type": "markdown",
   "metadata": {},
   "source": [
    "#### Example 2"
   ]
  },
  {
   "cell_type": "markdown",
   "metadata": {},
   "source": [
    "  **Input format**:\n",
    "  \n",
    "  \n",
    "```json\n",
    "{\n",
    "    \"text\": [\n",
    "        \"Text document 1\",\n",
    "        \"Text document 2\",\n",
    "        ...\n",
    "    ]\n",
    "}\n",
    "```"
   ]
  },
  {
   "cell_type": "code",
   "execution_count": 10,
   "metadata": {
    "tags": []
   },
   "outputs": [
    {
     "data": {
      "text/html": [
       "<div>\n",
       "<style scoped>\n",
       "    .dataframe tbody tr th:only-of-type {\n",
       "        vertical-align: middle;\n",
       "    }\n",
       "\n",
       "    .dataframe tbody tr th {\n",
       "        vertical-align: top;\n",
       "    }\n",
       "\n",
       "    .dataframe thead th {\n",
       "        text-align: right;\n",
       "    }\n",
       "</style>\n",
       "<table border=\"1\" class=\"dataframe\">\n",
       "  <thead>\n",
       "    <tr style=\"text-align: right;\">\n",
       "      <th></th>\n",
       "      <th>document</th>\n",
       "      <th>ner_chunk</th>\n",
       "      <th>begin</th>\n",
       "      <th>end</th>\n",
       "      <th>ner_label</th>\n",
       "      <th>ner_confidence</th>\n",
       "      <th>icd10cm_code</th>\n",
       "      <th>icd10cm_resolution</th>\n",
       "      <th>icd10cm_confidence</th>\n",
       "    </tr>\n",
       "  </thead>\n",
       "  <tbody>\n",
       "    <tr>\n",
       "      <th>0</th>\n",
       "      <td>An 86-year-old female with persistent abdominal pain, nausea and projectile vomiting, during evaluation in the emergency room, was found to have a high amylase, as well as lipase count and she is being admitted for management of unspecified gastrointestinal hemorrhage.</td>\n",
       "      <td>abdominal pain</td>\n",
       "      <td>38</td>\n",
       "      <td>51</td>\n",
       "      <td>SYMPTOM</td>\n",
       "      <td>0.87450004</td>\n",
       "      <td>R10</td>\n",
       "      <td>abdominal pain [unspecified abdominal pain]</td>\n",
       "      <td>0.9403</td>\n",
       "    </tr>\n",
       "    <tr>\n",
       "      <th>1</th>\n",
       "      <td>An 86-year-old female with persistent abdominal pain, nausea and projectile vomiting, during evaluation in the emergency room, was found to have a high amylase, as well as lipase count and she is being admitted for management of unspecified gastrointestinal hemorrhage.</td>\n",
       "      <td>nausea</td>\n",
       "      <td>54</td>\n",
       "      <td>59</td>\n",
       "      <td>SYMPTOM</td>\n",
       "      <td>0.9983</td>\n",
       "      <td>R11</td>\n",
       "      <td>nausea [nausea]</td>\n",
       "      <td>0.9971</td>\n",
       "    </tr>\n",
       "    <tr>\n",
       "      <th>2</th>\n",
       "      <td>An 86-year-old female with persistent abdominal pain, nausea and projectile vomiting, during evaluation in the emergency room, was found to have a high amylase, as well as lipase count and she is being admitted for management of unspecified gastrointestinal hemorrhage.</td>\n",
       "      <td>vomiting</td>\n",
       "      <td>76</td>\n",
       "      <td>83</td>\n",
       "      <td>SYMPTOM</td>\n",
       "      <td>0.7588</td>\n",
       "      <td>R11</td>\n",
       "      <td>vomiting [vomiting]</td>\n",
       "      <td>0.9934</td>\n",
       "    </tr>\n",
       "    <tr>\n",
       "      <th>3</th>\n",
       "      <td>An 86-year-old female with persistent abdominal pain, nausea and projectile vomiting, during evaluation in the emergency room, was found to have a high amylase, as well as lipase count and she is being admitted for management of unspecified gastrointestinal hemorrhage.</td>\n",
       "      <td>gastrointestinal hemorrhage</td>\n",
       "      <td>241</td>\n",
       "      <td>267</td>\n",
       "      <td>DISEASE_SYNDROME_DISORDER</td>\n",
       "      <td>0.3376</td>\n",
       "      <td>P54</td>\n",
       "      <td>gastrointestinal hemorrhage [other neonatal gastrointestinal hemorrhage]</td>\n",
       "      <td>0.8982</td>\n",
       "    </tr>\n",
       "    <tr>\n",
       "      <th>4</th>\n",
       "      <td>Complaints of unspecified upper abdominal pain and swelling in a 32-year-old woman led to the evaluation of possible disease of intestine. She had a history of mixed irritable bowel syndrome and congenital lactase deficiency. Several diagnostic tests were performed. Blood tests showed abnormal results of blood chemistry and colonoscopy was performed.</td>\n",
       "      <td>upper abdominal pain</td>\n",
       "      <td>26</td>\n",
       "      <td>45</td>\n",
       "      <td>SYMPTOM</td>\n",
       "      <td>0.6315</td>\n",
       "      <td>R10</td>\n",
       "      <td>upper abdominal pain [pain localized to upper abdomen]</td>\n",
       "      <td>0.9516</td>\n",
       "    </tr>\n",
       "    <tr>\n",
       "      <th>5</th>\n",
       "      <td>Complaints of unspecified upper abdominal pain and swelling in a 32-year-old woman led to the evaluation of possible disease of intestine. She had a history of mixed irritable bowel syndrome and congenital lactase deficiency. Several diagnostic tests were performed. Blood tests showed abnormal results of blood chemistry and colonoscopy was performed.</td>\n",
       "      <td>swelling</td>\n",
       "      <td>51</td>\n",
       "      <td>58</td>\n",
       "      <td>SYMPTOM</td>\n",
       "      <td>0.9757</td>\n",
       "      <td>R60</td>\n",
       "      <td>swelling [edema, unspecified]</td>\n",
       "      <td>0.9904</td>\n",
       "    </tr>\n",
       "    <tr>\n",
       "      <th>6</th>\n",
       "      <td>Complaints of unspecified upper abdominal pain and swelling in a 32-year-old woman led to the evaluation of possible disease of intestine. She had a history of mixed irritable bowel syndrome and congenital lactase deficiency. Several diagnostic tests were performed. Blood tests showed abnormal results of blood chemistry and colonoscopy was performed.</td>\n",
       "      <td>disease of intestine</td>\n",
       "      <td>117</td>\n",
       "      <td>136</td>\n",
       "      <td>DISEASE_SYNDROME_DISORDER</td>\n",
       "      <td>0.3015</td>\n",
       "      <td>K63</td>\n",
       "      <td>disease of intestine [disease of intestine, unspecified]</td>\n",
       "      <td>0.9814</td>\n",
       "    </tr>\n",
       "    <tr>\n",
       "      <th>7</th>\n",
       "      <td>Complaints of unspecified upper abdominal pain and swelling in a 32-year-old woman led to the evaluation of possible disease of intestine. She had a history of mixed irritable bowel syndrome and congenital lactase deficiency. Several diagnostic tests were performed. Blood tests showed abnormal results of blood chemistry and colonoscopy was performed.</td>\n",
       "      <td>mixed irritable bowel syndrome</td>\n",
       "      <td>160</td>\n",
       "      <td>189</td>\n",
       "      <td>DISEASE_SYNDROME_DISORDER</td>\n",
       "      <td>0.68315005</td>\n",
       "      <td>K58</td>\n",
       "      <td>mixed irritable bowel syndrome [mixed irritable bowel syndrome]</td>\n",
       "      <td>0.9975</td>\n",
       "    </tr>\n",
       "    <tr>\n",
       "      <th>8</th>\n",
       "      <td>Complaints of unspecified upper abdominal pain and swelling in a 32-year-old woman led to the evaluation of possible disease of intestine. She had a history of mixed irritable bowel syndrome and congenital lactase deficiency. Several diagnostic tests were performed. Blood tests showed abnormal results of blood chemistry and colonoscopy was performed.</td>\n",
       "      <td>congenital lactase deficiency</td>\n",
       "      <td>195</td>\n",
       "      <td>223</td>\n",
       "      <td>DISEASE_SYNDROME_DISORDER</td>\n",
       "      <td>0.5294333</td>\n",
       "      <td>E73</td>\n",
       "      <td>congenital lactase deficiency [congenital lactase deficiency]</td>\n",
       "      <td>0.9981</td>\n",
       "    </tr>\n",
       "  </tbody>\n",
       "</table>\n",
       "</div>"
      ],
      "text/plain": [
       "                                                                                                                                                                                                                                                                                                                                                           document  \\\n",
       "0                                                                                     An 86-year-old female with persistent abdominal pain, nausea and projectile vomiting, during evaluation in the emergency room, was found to have a high amylase, as well as lipase count and she is being admitted for management of unspecified gastrointestinal hemorrhage.   \n",
       "1                                                                                     An 86-year-old female with persistent abdominal pain, nausea and projectile vomiting, during evaluation in the emergency room, was found to have a high amylase, as well as lipase count and she is being admitted for management of unspecified gastrointestinal hemorrhage.   \n",
       "2                                                                                     An 86-year-old female with persistent abdominal pain, nausea and projectile vomiting, during evaluation in the emergency room, was found to have a high amylase, as well as lipase count and she is being admitted for management of unspecified gastrointestinal hemorrhage.   \n",
       "3                                                                                     An 86-year-old female with persistent abdominal pain, nausea and projectile vomiting, during evaluation in the emergency room, was found to have a high amylase, as well as lipase count and she is being admitted for management of unspecified gastrointestinal hemorrhage.   \n",
       "4  Complaints of unspecified upper abdominal pain and swelling in a 32-year-old woman led to the evaluation of possible disease of intestine. She had a history of mixed irritable bowel syndrome and congenital lactase deficiency. Several diagnostic tests were performed. Blood tests showed abnormal results of blood chemistry and colonoscopy was performed.   \n",
       "5  Complaints of unspecified upper abdominal pain and swelling in a 32-year-old woman led to the evaluation of possible disease of intestine. She had a history of mixed irritable bowel syndrome and congenital lactase deficiency. Several diagnostic tests were performed. Blood tests showed abnormal results of blood chemistry and colonoscopy was performed.   \n",
       "6  Complaints of unspecified upper abdominal pain and swelling in a 32-year-old woman led to the evaluation of possible disease of intestine. She had a history of mixed irritable bowel syndrome and congenital lactase deficiency. Several diagnostic tests were performed. Blood tests showed abnormal results of blood chemistry and colonoscopy was performed.   \n",
       "7  Complaints of unspecified upper abdominal pain and swelling in a 32-year-old woman led to the evaluation of possible disease of intestine. She had a history of mixed irritable bowel syndrome and congenital lactase deficiency. Several diagnostic tests were performed. Blood tests showed abnormal results of blood chemistry and colonoscopy was performed.   \n",
       "8  Complaints of unspecified upper abdominal pain and swelling in a 32-year-old woman led to the evaluation of possible disease of intestine. She had a history of mixed irritable bowel syndrome and congenital lactase deficiency. Several diagnostic tests were performed. Blood tests showed abnormal results of blood chemistry and colonoscopy was performed.   \n",
       "\n",
       "                        ner_chunk  begin  end                  ner_label  \\\n",
       "0                  abdominal pain     38   51                    SYMPTOM   \n",
       "1                          nausea     54   59                    SYMPTOM   \n",
       "2                        vomiting     76   83                    SYMPTOM   \n",
       "3     gastrointestinal hemorrhage    241  267  DISEASE_SYNDROME_DISORDER   \n",
       "4            upper abdominal pain     26   45                    SYMPTOM   \n",
       "5                        swelling     51   58                    SYMPTOM   \n",
       "6            disease of intestine    117  136  DISEASE_SYNDROME_DISORDER   \n",
       "7  mixed irritable bowel syndrome    160  189  DISEASE_SYNDROME_DISORDER   \n",
       "8   congenital lactase deficiency    195  223  DISEASE_SYNDROME_DISORDER   \n",
       "\n",
       "  ner_confidence icd10cm_code  \\\n",
       "0     0.87450004          R10   \n",
       "1         0.9983          R11   \n",
       "2         0.7588          R11   \n",
       "3         0.3376          P54   \n",
       "4         0.6315          R10   \n",
       "5         0.9757          R60   \n",
       "6         0.3015          K63   \n",
       "7     0.68315005          K58   \n",
       "8      0.5294333          E73   \n",
       "\n",
       "                                                         icd10cm_resolution  \\\n",
       "0                               abdominal pain [unspecified abdominal pain]   \n",
       "1                                                           nausea [nausea]   \n",
       "2                                                       vomiting [vomiting]   \n",
       "3  gastrointestinal hemorrhage [other neonatal gastrointestinal hemorrhage]   \n",
       "4                    upper abdominal pain [pain localized to upper abdomen]   \n",
       "5                                             swelling [edema, unspecified]   \n",
       "6                  disease of intestine [disease of intestine, unspecified]   \n",
       "7           mixed irritable bowel syndrome [mixed irritable bowel syndrome]   \n",
       "8             congenital lactase deficiency [congenital lactase deficiency]   \n",
       "\n",
       "  icd10cm_confidence  \n",
       "0             0.9403  \n",
       "1             0.9971  \n",
       "2             0.9934  \n",
       "3             0.8982  \n",
       "4             0.9516  \n",
       "5             0.9904  \n",
       "6             0.9814  \n",
       "7             0.9975  \n",
       "8             0.9981  "
      ]
     },
     "execution_count": 10,
     "metadata": {},
     "output_type": "execute_result"
    }
   ],
   "source": [
    "input_json_data = {\"text\": docs}\n",
    "\n",
    "data =  process_data_and_invoke_realtime_endpoint(input_json_data, content_type=\"application/json\" , accept=\"application/json\" )\n",
    "pd.DataFrame(data[\"predictions\"])"
   ]
  },
  {
   "cell_type": "markdown",
   "metadata": {},
   "source": [
    "### JSON Lines"
   ]
  },
  {
   "cell_type": "code",
   "execution_count": 11,
   "metadata": {
    "tags": []
   },
   "outputs": [],
   "source": [
    "import json\n",
    "\n",
    "def create_jsonl(records):\n",
    "    json_records = []\n",
    "\n",
    "    for text in records:\n",
    "        record = {\n",
    "            \"text\": text\n",
    "        }\n",
    "        json_records.append(record)\n",
    "\n",
    "    json_lines = '\\n'.join(json.dumps(record) for record in json_records)\n",
    "\n",
    "    return json_lines\n",
    "\n",
    "input_jsonl_data = create_jsonl(docs)"
   ]
  },
  {
   "cell_type": "markdown",
   "metadata": {},
   "source": [
    "#### Example 1"
   ]
  },
  {
   "cell_type": "markdown",
   "metadata": {},
   "source": [
    "  **Input format**:\n",
    "  \n",
    "```json\n",
    "{\"text\": \"Text document 1\"}\n",
    "{\"text\": \"Text document 2\"}\n",
    "```"
   ]
  },
  {
   "cell_type": "code",
   "execution_count": 12,
   "metadata": {
    "tags": []
   },
   "outputs": [
    {
     "name": "stdout",
     "output_type": "stream",
     "text": [
      "{\"predictions\": [{\"ner_chunk\": \"abdominal pain\", \"begin\": 38, \"end\": 51, \"ner_label\": \"SYMPTOM\", \"ner_confidence\": \"0.87450004\", \"icd10cm_code\": \"R10\", \"icd10cm_resolution\": \"abdominal pain [unspecified abdominal pain]\", \"icd10cm_confidence\": \"0.9403\"}, {\"ner_chunk\": \"nausea\", \"begin\": 54, \"end\": 59, \"ner_label\": \"SYMPTOM\", \"ner_confidence\": \"0.9983\", \"icd10cm_code\": \"R11\", \"icd10cm_resolution\": \"nausea [nausea]\", \"icd10cm_confidence\": \"0.9971\"}, {\"ner_chunk\": \"vomiting\", \"begin\": 76, \"end\": 83, \"ner_label\": \"SYMPTOM\", \"ner_confidence\": \"0.7588\", \"icd10cm_code\": \"R11\", \"icd10cm_resolution\": \"vomiting [vomiting]\", \"icd10cm_confidence\": \"0.9934\"}, {\"ner_chunk\": \"gastrointestinal hemorrhage\", \"begin\": 241, \"end\": 267, \"ner_label\": \"DISEASE_SYNDROME_DISORDER\", \"ner_confidence\": \"0.3376\", \"icd10cm_code\": \"P54\", \"icd10cm_resolution\": \"gastrointestinal hemorrhage [other neonatal gastrointestinal hemorrhage]\", \"icd10cm_confidence\": \"0.8982\"}]}\n",
      "{\"predictions\": [{\"ner_chunk\": \"upper abdominal pain\", \"begin\": 26, \"end\": 45, \"ner_label\": \"SYMPTOM\", \"ner_confidence\": \"0.6315\", \"icd10cm_code\": \"R10\", \"icd10cm_resolution\": \"upper abdominal pain [pain localized to upper abdomen]\", \"icd10cm_confidence\": \"0.9516\"}, {\"ner_chunk\": \"swelling\", \"begin\": 51, \"end\": 58, \"ner_label\": \"SYMPTOM\", \"ner_confidence\": \"0.9757\", \"icd10cm_code\": \"R60\", \"icd10cm_resolution\": \"swelling [edema, unspecified]\", \"icd10cm_confidence\": \"0.9904\"}, {\"ner_chunk\": \"disease of intestine\", \"begin\": 117, \"end\": 136, \"ner_label\": \"DISEASE_SYNDROME_DISORDER\", \"ner_confidence\": \"0.3015\", \"icd10cm_code\": \"K63\", \"icd10cm_resolution\": \"disease of intestine [disease of intestine, unspecified]\", \"icd10cm_confidence\": \"0.9814\"}, {\"ner_chunk\": \"mixed irritable bowel syndrome\", \"begin\": 160, \"end\": 189, \"ner_label\": \"DISEASE_SYNDROME_DISORDER\", \"ner_confidence\": \"0.68315005\", \"icd10cm_code\": \"K58\", \"icd10cm_resolution\": \"mixed irritable bowel syndrome [mixed irritable bowel syndrome]\", \"icd10cm_confidence\": \"0.9975\"}, {\"ner_chunk\": \"congenital lactase deficiency\", \"begin\": 195, \"end\": 223, \"ner_label\": \"DISEASE_SYNDROME_DISORDER\", \"ner_confidence\": \"0.5294333\", \"icd10cm_code\": \"E73\", \"icd10cm_resolution\": \"congenital lactase deficiency [congenital lactase deficiency]\", \"icd10cm_confidence\": \"0.9981\"}]}\n"
     ]
    }
   ],
   "source": [
    "data = process_data_and_invoke_realtime_endpoint(input_jsonl_data, content_type=\"application/jsonlines\" , accept=\"application/jsonlines\" )\n",
    "print(data)"
   ]
  },
  {
   "cell_type": "markdown",
   "metadata": {},
   "source": [
    "### C. Delete the endpoint"
   ]
  },
  {
   "cell_type": "markdown",
   "metadata": {},
   "source": [
    "Now that you have successfully performed a real-time inference, you do not need the endpoint any more. You can terminate the endpoint to avoid being charged."
   ]
  },
  {
   "cell_type": "code",
   "execution_count": 13,
   "metadata": {
    "tags": []
   },
   "outputs": [],
   "source": [
    "model.sagemaker_session.delete_endpoint(model_name)\n",
    "model.sagemaker_session.delete_endpoint_config(model_name)"
   ]
  },
  {
   "cell_type": "markdown",
   "metadata": {
    "tags": []
   },
   "source": [
    "## 3. Batch inference"
   ]
  },
  {
   "cell_type": "code",
   "execution_count": 14,
   "metadata": {
    "tags": []
   },
   "outputs": [],
   "source": [
    "import json\n",
    "import os\n",
    "\n",
    "input_dir = 'inputs/batch'\n",
    "json_input_dir = f\"{input_dir}/json\"\n",
    "jsonl_input_dir = f\"{input_dir}/jsonl\"\n",
    "\n",
    "output_dir = 'outputs/batch'\n",
    "json_output_dir = f\"{output_dir}/json\"\n",
    "jsonl_output_dir = f\"{output_dir}/jsonl\"\n",
    "\n",
    "os.makedirs(json_input_dir, exist_ok=True)\n",
    "os.makedirs(jsonl_input_dir, exist_ok=True)\n",
    "os.makedirs(json_output_dir, exist_ok=True)\n",
    "os.makedirs(jsonl_output_dir, exist_ok=True)\n",
    "\n",
    "validation_json_file_name = \"input.json\"\n",
    "\n",
    "validation_jsonl_file_name = \"input.jsonl\"\n",
    "\n",
    "validation_input_json_path = f\"s3://{s3_bucket}/{model_name}/validation-input/batch/json/\"\n",
    "validation_output_json_path = f\"s3://{s3_bucket}/{model_name}/validation-output/batch/json/\"\n",
    "\n",
    "validation_input_jsonl_path = f\"s3://{s3_bucket}/{model_name}/validation-input/batch/jsonl/\"\n",
    "validation_output_jsonl_path = f\"s3://{s3_bucket}/{model_name}/validation-output/batch/jsonl/\"\n",
    "\n",
    "def write_and_upload_to_s3(input_data, file_name):\n",
    "    file_format = os.path.splitext(file_name)[1].lower()\n",
    "    if file_format == \".json\":\n",
    "        input_data = json.dumps(input_data)\n",
    "\n",
    "    with open(file_name, \"w\") as f:\n",
    "        f.write(input_data)\n",
    "\n",
    "    s3_client.put_object(\n",
    "        Bucket=s3_bucket,\n",
    "        Key=f\"{model_name}/validation-input/batch/{file_format[1:]}/{os.path.basename(file_name)}\",\n",
    "        Body=(bytes(input_data.encode(\"UTF-8\"))),\n",
    "    )"
   ]
  },
  {
   "cell_type": "code",
   "execution_count": 15,
   "metadata": {
    "tags": []
   },
   "outputs": [],
   "source": [
    "input_jsonl_data = create_jsonl(docs)\n",
    "input_json_data = {\"text\": docs}\n",
    "\n",
    "write_and_upload_to_s3(input_json_data, f\"{json_input_dir}/{validation_json_file_name}\")\n",
    "\n",
    "write_and_upload_to_s3(input_jsonl_data, f\"{jsonl_input_dir}/{validation_jsonl_file_name}\")"
   ]
  },
  {
   "cell_type": "markdown",
   "metadata": {},
   "source": [
    "### JSON"
   ]
  },
  {
   "cell_type": "code",
   "execution_count": null,
   "metadata": {
    "tags": []
   },
   "outputs": [],
   "source": [
    "# Initialize a SageMaker Transformer object for making predictions\n",
    "transformer = model.transformer(\n",
    "    instance_count=1,\n",
    "    instance_type=batch_transform_inference_instance_type,\n",
    "    accept=\"application/json\",\n",
    "    output_path=validation_output_json_path\n",
    ")\n",
    "\n",
    "transformer.transform(validation_input_json_path, content_type=\"application/json\")\n",
    "transformer.wait()"
   ]
  },
  {
   "cell_type": "code",
   "execution_count": 17,
   "metadata": {
    "tags": []
   },
   "outputs": [],
   "source": [
    "from urllib.parse import urlparse\n",
    "\n",
    "def process_s3_json_output_and_save(validation_file_name):\n",
    "\n",
    "    output_file_path = f\"{json_output_dir}/{validation_file_name}.out\"\n",
    "    parsed_url = urlparse(transformer.output_path)\n",
    "    file_key = f\"{parsed_url.path[1:]}{validation_file_name}.out\"\n",
    "    response = s3_client.get_object(Bucket=s3_bucket, Key=file_key)\n",
    "\n",
    "    data = json.loads(response[\"Body\"].read().decode(\"utf-8\"))\n",
    "    df = pd.DataFrame(data[\"predictions\"])\n",
    "    display(df)\n",
    "\n",
    "    # Save the data to the output file\n",
    "    with open(output_file_path, 'w') as f_out:\n",
    "        json.dump(data, f_out, indent=4)"
   ]
  },
  {
   "cell_type": "code",
   "execution_count": 18,
   "metadata": {
    "tags": []
   },
   "outputs": [
    {
     "data": {
      "text/html": [
       "<div>\n",
       "<style scoped>\n",
       "    .dataframe tbody tr th:only-of-type {\n",
       "        vertical-align: middle;\n",
       "    }\n",
       "\n",
       "    .dataframe tbody tr th {\n",
       "        vertical-align: top;\n",
       "    }\n",
       "\n",
       "    .dataframe thead th {\n",
       "        text-align: right;\n",
       "    }\n",
       "</style>\n",
       "<table border=\"1\" class=\"dataframe\">\n",
       "  <thead>\n",
       "    <tr style=\"text-align: right;\">\n",
       "      <th></th>\n",
       "      <th>document</th>\n",
       "      <th>ner_chunk</th>\n",
       "      <th>begin</th>\n",
       "      <th>end</th>\n",
       "      <th>ner_label</th>\n",
       "      <th>ner_confidence</th>\n",
       "      <th>icd10cm_code</th>\n",
       "      <th>icd10cm_resolution</th>\n",
       "      <th>icd10cm_confidence</th>\n",
       "    </tr>\n",
       "  </thead>\n",
       "  <tbody>\n",
       "    <tr>\n",
       "      <th>0</th>\n",
       "      <td>An 86-year-old female with persistent abdominal pain, nausea and projectile vomiting, during evaluation in the emergency room, was found to have a high amylase, as well as lipase count and she is being admitted for management of unspecified gastrointestinal hemorrhage.</td>\n",
       "      <td>abdominal pain</td>\n",
       "      <td>38</td>\n",
       "      <td>51</td>\n",
       "      <td>SYMPTOM</td>\n",
       "      <td>0.87450004</td>\n",
       "      <td>R10</td>\n",
       "      <td>abdominal pain [unspecified abdominal pain]</td>\n",
       "      <td>0.9403</td>\n",
       "    </tr>\n",
       "    <tr>\n",
       "      <th>1</th>\n",
       "      <td>An 86-year-old female with persistent abdominal pain, nausea and projectile vomiting, during evaluation in the emergency room, was found to have a high amylase, as well as lipase count and she is being admitted for management of unspecified gastrointestinal hemorrhage.</td>\n",
       "      <td>nausea</td>\n",
       "      <td>54</td>\n",
       "      <td>59</td>\n",
       "      <td>SYMPTOM</td>\n",
       "      <td>0.9983</td>\n",
       "      <td>R11</td>\n",
       "      <td>nausea [nausea]</td>\n",
       "      <td>0.9971</td>\n",
       "    </tr>\n",
       "    <tr>\n",
       "      <th>2</th>\n",
       "      <td>An 86-year-old female with persistent abdominal pain, nausea and projectile vomiting, during evaluation in the emergency room, was found to have a high amylase, as well as lipase count and she is being admitted for management of unspecified gastrointestinal hemorrhage.</td>\n",
       "      <td>vomiting</td>\n",
       "      <td>76</td>\n",
       "      <td>83</td>\n",
       "      <td>SYMPTOM</td>\n",
       "      <td>0.7588</td>\n",
       "      <td>R11</td>\n",
       "      <td>vomiting [vomiting]</td>\n",
       "      <td>0.9934</td>\n",
       "    </tr>\n",
       "    <tr>\n",
       "      <th>3</th>\n",
       "      <td>An 86-year-old female with persistent abdominal pain, nausea and projectile vomiting, during evaluation in the emergency room, was found to have a high amylase, as well as lipase count and she is being admitted for management of unspecified gastrointestinal hemorrhage.</td>\n",
       "      <td>gastrointestinal hemorrhage</td>\n",
       "      <td>241</td>\n",
       "      <td>267</td>\n",
       "      <td>DISEASE_SYNDROME_DISORDER</td>\n",
       "      <td>0.3376</td>\n",
       "      <td>P54</td>\n",
       "      <td>gastrointestinal hemorrhage [other neonatal gastrointestinal hemorrhage]</td>\n",
       "      <td>0.8982</td>\n",
       "    </tr>\n",
       "    <tr>\n",
       "      <th>4</th>\n",
       "      <td>Complaints of unspecified upper abdominal pain and swelling in a 32-year-old woman led to the evaluation of possible disease of intestine. She had a history of mixed irritable bowel syndrome and congenital lactase deficiency. Several diagnostic tests were performed. Blood tests showed abnormal results of blood chemistry and colonoscopy was performed.</td>\n",
       "      <td>upper abdominal pain</td>\n",
       "      <td>26</td>\n",
       "      <td>45</td>\n",
       "      <td>SYMPTOM</td>\n",
       "      <td>0.6315</td>\n",
       "      <td>R10</td>\n",
       "      <td>upper abdominal pain [pain localized to upper abdomen]</td>\n",
       "      <td>0.9516</td>\n",
       "    </tr>\n",
       "    <tr>\n",
       "      <th>5</th>\n",
       "      <td>Complaints of unspecified upper abdominal pain and swelling in a 32-year-old woman led to the evaluation of possible disease of intestine. She had a history of mixed irritable bowel syndrome and congenital lactase deficiency. Several diagnostic tests were performed. Blood tests showed abnormal results of blood chemistry and colonoscopy was performed.</td>\n",
       "      <td>swelling</td>\n",
       "      <td>51</td>\n",
       "      <td>58</td>\n",
       "      <td>SYMPTOM</td>\n",
       "      <td>0.9757</td>\n",
       "      <td>R60</td>\n",
       "      <td>swelling [edema, unspecified]</td>\n",
       "      <td>0.9904</td>\n",
       "    </tr>\n",
       "    <tr>\n",
       "      <th>6</th>\n",
       "      <td>Complaints of unspecified upper abdominal pain and swelling in a 32-year-old woman led to the evaluation of possible disease of intestine. She had a history of mixed irritable bowel syndrome and congenital lactase deficiency. Several diagnostic tests were performed. Blood tests showed abnormal results of blood chemistry and colonoscopy was performed.</td>\n",
       "      <td>disease of intestine</td>\n",
       "      <td>117</td>\n",
       "      <td>136</td>\n",
       "      <td>DISEASE_SYNDROME_DISORDER</td>\n",
       "      <td>0.3015</td>\n",
       "      <td>K63</td>\n",
       "      <td>disease of intestine [disease of intestine, unspecified]</td>\n",
       "      <td>0.9814</td>\n",
       "    </tr>\n",
       "    <tr>\n",
       "      <th>7</th>\n",
       "      <td>Complaints of unspecified upper abdominal pain and swelling in a 32-year-old woman led to the evaluation of possible disease of intestine. She had a history of mixed irritable bowel syndrome and congenital lactase deficiency. Several diagnostic tests were performed. Blood tests showed abnormal results of blood chemistry and colonoscopy was performed.</td>\n",
       "      <td>mixed irritable bowel syndrome</td>\n",
       "      <td>160</td>\n",
       "      <td>189</td>\n",
       "      <td>DISEASE_SYNDROME_DISORDER</td>\n",
       "      <td>0.68315005</td>\n",
       "      <td>K58</td>\n",
       "      <td>mixed irritable bowel syndrome [mixed irritable bowel syndrome]</td>\n",
       "      <td>0.9975</td>\n",
       "    </tr>\n",
       "    <tr>\n",
       "      <th>8</th>\n",
       "      <td>Complaints of unspecified upper abdominal pain and swelling in a 32-year-old woman led to the evaluation of possible disease of intestine. She had a history of mixed irritable bowel syndrome and congenital lactase deficiency. Several diagnostic tests were performed. Blood tests showed abnormal results of blood chemistry and colonoscopy was performed.</td>\n",
       "      <td>congenital lactase deficiency</td>\n",
       "      <td>195</td>\n",
       "      <td>223</td>\n",
       "      <td>DISEASE_SYNDROME_DISORDER</td>\n",
       "      <td>0.5294333</td>\n",
       "      <td>E73</td>\n",
       "      <td>congenital lactase deficiency [congenital lactase deficiency]</td>\n",
       "      <td>0.9981</td>\n",
       "    </tr>\n",
       "  </tbody>\n",
       "</table>\n",
       "</div>"
      ],
      "text/plain": [
       "                                                                                                                                                                                                                                                                                                                                                           document  \\\n",
       "0                                                                                     An 86-year-old female with persistent abdominal pain, nausea and projectile vomiting, during evaluation in the emergency room, was found to have a high amylase, as well as lipase count and she is being admitted for management of unspecified gastrointestinal hemorrhage.   \n",
       "1                                                                                     An 86-year-old female with persistent abdominal pain, nausea and projectile vomiting, during evaluation in the emergency room, was found to have a high amylase, as well as lipase count and she is being admitted for management of unspecified gastrointestinal hemorrhage.   \n",
       "2                                                                                     An 86-year-old female with persistent abdominal pain, nausea and projectile vomiting, during evaluation in the emergency room, was found to have a high amylase, as well as lipase count and she is being admitted for management of unspecified gastrointestinal hemorrhage.   \n",
       "3                                                                                     An 86-year-old female with persistent abdominal pain, nausea and projectile vomiting, during evaluation in the emergency room, was found to have a high amylase, as well as lipase count and she is being admitted for management of unspecified gastrointestinal hemorrhage.   \n",
       "4  Complaints of unspecified upper abdominal pain and swelling in a 32-year-old woman led to the evaluation of possible disease of intestine. She had a history of mixed irritable bowel syndrome and congenital lactase deficiency. Several diagnostic tests were performed. Blood tests showed abnormal results of blood chemistry and colonoscopy was performed.   \n",
       "5  Complaints of unspecified upper abdominal pain and swelling in a 32-year-old woman led to the evaluation of possible disease of intestine. She had a history of mixed irritable bowel syndrome and congenital lactase deficiency. Several diagnostic tests were performed. Blood tests showed abnormal results of blood chemistry and colonoscopy was performed.   \n",
       "6  Complaints of unspecified upper abdominal pain and swelling in a 32-year-old woman led to the evaluation of possible disease of intestine. She had a history of mixed irritable bowel syndrome and congenital lactase deficiency. Several diagnostic tests were performed. Blood tests showed abnormal results of blood chemistry and colonoscopy was performed.   \n",
       "7  Complaints of unspecified upper abdominal pain and swelling in a 32-year-old woman led to the evaluation of possible disease of intestine. She had a history of mixed irritable bowel syndrome and congenital lactase deficiency. Several diagnostic tests were performed. Blood tests showed abnormal results of blood chemistry and colonoscopy was performed.   \n",
       "8  Complaints of unspecified upper abdominal pain and swelling in a 32-year-old woman led to the evaluation of possible disease of intestine. She had a history of mixed irritable bowel syndrome and congenital lactase deficiency. Several diagnostic tests were performed. Blood tests showed abnormal results of blood chemistry and colonoscopy was performed.   \n",
       "\n",
       "                        ner_chunk  begin  end                  ner_label  \\\n",
       "0                  abdominal pain     38   51                    SYMPTOM   \n",
       "1                          nausea     54   59                    SYMPTOM   \n",
       "2                        vomiting     76   83                    SYMPTOM   \n",
       "3     gastrointestinal hemorrhage    241  267  DISEASE_SYNDROME_DISORDER   \n",
       "4            upper abdominal pain     26   45                    SYMPTOM   \n",
       "5                        swelling     51   58                    SYMPTOM   \n",
       "6            disease of intestine    117  136  DISEASE_SYNDROME_DISORDER   \n",
       "7  mixed irritable bowel syndrome    160  189  DISEASE_SYNDROME_DISORDER   \n",
       "8   congenital lactase deficiency    195  223  DISEASE_SYNDROME_DISORDER   \n",
       "\n",
       "  ner_confidence icd10cm_code  \\\n",
       "0     0.87450004          R10   \n",
       "1         0.9983          R11   \n",
       "2         0.7588          R11   \n",
       "3         0.3376          P54   \n",
       "4         0.6315          R10   \n",
       "5         0.9757          R60   \n",
       "6         0.3015          K63   \n",
       "7     0.68315005          K58   \n",
       "8      0.5294333          E73   \n",
       "\n",
       "                                                         icd10cm_resolution  \\\n",
       "0                               abdominal pain [unspecified abdominal pain]   \n",
       "1                                                           nausea [nausea]   \n",
       "2                                                       vomiting [vomiting]   \n",
       "3  gastrointestinal hemorrhage [other neonatal gastrointestinal hemorrhage]   \n",
       "4                    upper abdominal pain [pain localized to upper abdomen]   \n",
       "5                                             swelling [edema, unspecified]   \n",
       "6                  disease of intestine [disease of intestine, unspecified]   \n",
       "7           mixed irritable bowel syndrome [mixed irritable bowel syndrome]   \n",
       "8             congenital lactase deficiency [congenital lactase deficiency]   \n",
       "\n",
       "  icd10cm_confidence  \n",
       "0             0.9403  \n",
       "1             0.9971  \n",
       "2             0.9934  \n",
       "3             0.8982  \n",
       "4             0.9516  \n",
       "5             0.9904  \n",
       "6             0.9814  \n",
       "7             0.9975  \n",
       "8             0.9981  "
      ]
     },
     "metadata": {},
     "output_type": "display_data"
    }
   ],
   "source": [
    "process_s3_json_output_and_save(validation_json_file_name)"
   ]
  },
  {
   "cell_type": "markdown",
   "metadata": {},
   "source": [
    "### JSON Lines"
   ]
  },
  {
   "cell_type": "code",
   "execution_count": null,
   "metadata": {
    "tags": []
   },
   "outputs": [],
   "source": [
    "transformer = model.transformer(\n",
    "    instance_count=1,\n",
    "    instance_type=batch_transform_inference_instance_type,\n",
    "    accept=\"application/jsonlines\",\n",
    "    output_path=validation_output_jsonl_path\n",
    ")\n",
    "transformer.transform(validation_input_jsonl_path, content_type=\"application/jsonlines\")\n",
    "transformer.wait()"
   ]
  },
  {
   "cell_type": "code",
   "execution_count": null,
   "metadata": {
    "tags": []
   },
   "outputs": [],
   "source": [
    "from urllib.parse import urlparse\n",
    "\n",
    "def process_s3_jsonlines_output_and_save(validation_file_name):\n",
    "\n",
    "    output_file_path = f\"{jsonl_output_dir}/{validation_file_name}.out\"\n",
    "    parsed_url = urlparse(transformer.output_path)\n",
    "    file_key = f\"{parsed_url.path[1:]}{validation_file_name}.out\"\n",
    "    response = s3_client.get_object(Bucket=s3_bucket, Key=file_key)\n",
    "\n",
    "    data = response[\"Body\"].read().decode(\"utf-8\")\n",
    "    print(data)\n",
    "\n",
    "    # Save the data to the output file\n",
    "    with open(output_file_path, 'w') as f_out:\n",
    "        for item in data.split('\\n'):\n",
    "            f_out.write(item + '\\n')"
   ]
  },
  {
   "cell_type": "code",
   "execution_count": 8,
   "metadata": {},
   "outputs": [
    {
     "name": "stdout",
     "output_type": "stream",
     "text": [
      "{'predictions': [{'ner_chunk': 'abdominal pain', 'begin': 38, 'end': 51, 'ner_label': 'SYMPTOM', 'ner_confidence': '0.87450004', 'icd10cm_code': 'R10', 'icd10cm_resolution': 'abdominal pain [unspecified abdominal pain]', 'icd10cm_confidence': '0.9403'}, {'ner_chunk': 'nausea', 'begin': 54, 'end': 59, 'ner_label': 'SYMPTOM', 'ner_confidence': '0.9983', 'icd10cm_code': 'R11', 'icd10cm_resolution': 'nausea [nausea]', 'icd10cm_confidence': '0.9971'}, {'ner_chunk': 'vomiting', 'begin': 76, 'end': 83, 'ner_label': 'SYMPTOM', 'ner_confidence': '0.7588', 'icd10cm_code': 'R11', 'icd10cm_resolution': 'vomiting [vomiting]', 'icd10cm_confidence': '0.9934'}, {'ner_chunk': 'gastrointestinal hemorrhage', 'begin': 241, 'end': 267, 'ner_label': 'DISEASE_SYNDROME_DISORDER', 'ner_confidence': '0.3376', 'icd10cm_code': 'P54', 'icd10cm_resolution': 'gastrointestinal hemorrhage [other neonatal gastrointestinal hemorrhage]', 'icd10cm_confidence': '0.8982'}]}\n",
      "{'predictions': [{'ner_chunk': 'upper abdominal pain', 'begin': 26, 'end': 45, 'ner_label': 'SYMPTOM', 'ner_confidence': '0.6315', 'icd10cm_code': 'R10', 'icd10cm_resolution': 'upper abdominal pain [pain localized to upper abdomen]', 'icd10cm_confidence': '0.9516'}, {'ner_chunk': 'swelling', 'begin': 51, 'end': 58, 'ner_label': 'SYMPTOM', 'ner_confidence': '0.9757', 'icd10cm_code': 'R60', 'icd10cm_resolution': 'swelling [edema, unspecified]', 'icd10cm_confidence': '0.9904'}, {'ner_chunk': 'disease of intestine', 'begin': 117, 'end': 136, 'ner_label': 'DISEASE_SYNDROME_DISORDER', 'ner_confidence': '0.3015', 'icd10cm_code': 'K63', 'icd10cm_resolution': 'disease of intestine [disease of intestine, unspecified]', 'icd10cm_confidence': '0.9814'}, {'ner_chunk': 'mixed irritable bowel syndrome', 'begin': 160, 'end': 189, 'ner_label': 'DISEASE_SYNDROME_DISORDER', 'ner_confidence': '0.68315005', 'icd10cm_code': 'K58', 'icd10cm_resolution': 'mixed irritable bowel syndrome [mixed irritable bowel syndrome]', 'icd10cm_confidence': '0.9975'}, {'ner_chunk': 'congenital lactase deficiency', 'begin': 195, 'end': 223, 'ner_label': 'DISEASE_SYNDROME_DISORDER', 'ner_confidence': '0.5294333', 'icd10cm_code': 'E73', 'icd10cm_resolution': 'congenital lactase deficiency [congenital lactase deficiency]', 'icd10cm_confidence': '0.9981'}]}\n"
     ]
    }
   ],
   "source": [
    "process_s3_jsonlines_output_and_save(validation_jsonl_file_name)"
   ]
  },
  {
   "cell_type": "code",
   "execution_count": null,
   "metadata": {
    "tags": []
   },
   "outputs": [],
   "source": [
    "model.delete_model()"
   ]
  },
  {
   "cell_type": "markdown",
   "metadata": {},
   "source": [
    "### Unsubscribe to the listing (optional)"
   ]
  },
  {
   "cell_type": "markdown",
   "metadata": {
    "tags": []
   },
   "source": [
    "If you would like to unsubscribe to the model package, follow these steps. Before you cancel the subscription, ensure that you do not have any [deployable model](https://console.aws.amazon.com/sagemaker/home#/models) created from the model package or using the algorithm. Note - You can find this information by looking at the container name associated with the model. \n",
    "\n",
    "**Steps to unsubscribe to product from AWS Marketplace**:\n",
    "1. Navigate to __Machine Learning__ tab on [__Your Software subscriptions page__](https://aws.amazon.com/marketplace/ai/library?productType=ml&ref_=mlmp_gitdemo_indust)\n",
    "2. Locate the listing that you want to cancel the subscription for, and then choose __Cancel Subscription__  to cancel the subscription.\n",
    "\n"
   ]
  }
 ],
 "metadata": {
  "instance_type": "ml.t3.medium",
  "kernelspec": {
   "display_name": "base",
   "language": "python",
   "name": "python3"
  },
  "language_info": {
   "codemirror_mode": {
    "name": "ipython",
    "version": 3
   },
   "file_extension": ".py",
   "mimetype": "text/x-python",
   "name": "python",
   "nbconvert_exporter": "python",
   "pygments_lexer": "ipython3",
   "version": "3.11.5"
  }
 },
 "nbformat": 4,
 "nbformat_minor": 4
}

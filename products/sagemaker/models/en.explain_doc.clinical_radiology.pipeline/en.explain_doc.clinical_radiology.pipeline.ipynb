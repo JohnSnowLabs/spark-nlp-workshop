{
 "cells": [
  {
   "cell_type": "markdown",
   "metadata": {},
   "source": [
    "## 1. Subscribe to the model package"
   ]
  },
  {
   "cell_type": "markdown",
   "metadata": {},
   "source": [
    "To subscribe to the model package:\n",
    "1. Open the model package listing page [Extract findings in radiology reports](https://aws.amazon.com/marketplace/pp/prodview-kriuw433xdo4u)\n",
    "1. On the AWS Marketplace listing, click on the **Continue to subscribe** button.\n",
    "1. On the **Subscribe to this software** page, review and click on **\"Accept Offer\"** if you and your organization agrees with EULA, pricing, and support terms. \n",
    "1. Once you click on **Continue to configuration button** and then choose a **region**, you will see a **Product Arn** displayed. This is the model package ARN that you need to specify while creating a deployable model using Boto3. Copy the ARN corresponding to your region and specify the same in the following cell."
   ]
  },
  {
   "cell_type": "markdown",
   "metadata": {},
   "source": [
    "### Radiology Entity Detection, Assertion Status Assignment, and Relation Extraction Pipeline\n",
    "\n",
    "Overview:\n",
    "\n",
    "The Radiology Entity Detection, Assertion Status Assignment, and Relation Extraction Pipeline is a comprehensive solution designed to enhance the analysis of radiology documents. Its primary focus lies in identifying crucial entities within radiology texts, assigning assertion statuses to these entities, and extracting relevant relations among them.\n",
    "\n",
    "\n",
    "- **Model**: `en.explain_doc.clinical_radiology.pipeline`\n",
    "- **Model Description**: A pipeline for detecting posology entities with the `ner_radiology` NER model, assigning their assertion status with `assertion_dl_radiology` model, and extracting relations between posology-related terminology with `re_test_problem_finding` relation extraction model.\n"
   ]
  },
  {
   "cell_type": "code",
   "execution_count": 1,
   "metadata": {
    "tags": []
   },
   "outputs": [],
   "source": [
    "model_package_arn = \"<Customer to specify Model package ARN corresponding to their AWS region>\""
   ]
  },
  {
   "cell_type": "code",
   "execution_count": 2,
   "metadata": {
    "tags": []
   },
   "outputs": [
    {
     "name": "stdout",
     "output_type": "stream",
     "text": [
      "sagemaker.config INFO - Not applying SDK defaults from location: /etc/xdg/sagemaker/config.yaml\n",
      "sagemaker.config INFO - Not applying SDK defaults from location: /home/ec2-user/.config/sagemaker/config.yaml\n"
     ]
    }
   ],
   "source": [
    "import base64\n",
    "import json\n",
    "import uuid\n",
    "from sagemaker import ModelPackage\n",
    "import sagemaker as sage\n",
    "from sagemaker import get_execution_role\n",
    "import boto3\n",
    "from IPython.display import Image, display\n",
    "from PIL import Image as ImageEdit\n",
    "import numpy as np"
   ]
  },
  {
   "cell_type": "code",
   "execution_count": 3,
   "metadata": {
    "tags": []
   },
   "outputs": [],
   "source": [
    "sagemaker_session = sage.Session()\n",
    "s3_bucket = sagemaker_session.default_bucket()\n",
    "region = sagemaker_session.boto_region_name\n",
    "account_id = boto3.client(\"sts\").get_caller_identity().get(\"Account\")\n",
    "role = get_execution_role()\n",
    "\n",
    "sagemaker = boto3.client(\"sagemaker\")\n",
    "s3_client = sagemaker_session.boto_session.client(\"s3\")\n",
    "ecr = boto3.client(\"ecr\")\n",
    "sm_runtime = boto3.client(\"sagemaker-runtime\")"
   ]
  },
  {
   "cell_type": "code",
   "execution_count": 4,
   "metadata": {
    "tags": []
   },
   "outputs": [],
   "source": [
    "model_name = \"en-explain-doc-clinical-radiology-pipeline\"\n",
    "\n",
    "real_time_inference_instance_type = \"ml.m4.2xlarge\"\n",
    "batch_transform_inference_instance_type = \"ml.m4.2xlarge\""
   ]
  },
  {
   "cell_type": "markdown",
   "metadata": {},
   "source": [
    "## 2. Create a deployable model from the model package."
   ]
  },
  {
   "cell_type": "code",
   "execution_count": 5,
   "metadata": {
    "tags": []
   },
   "outputs": [],
   "source": [
    "# create a deployable model from the model package.\n",
    "model = ModelPackage(\n",
    "    role=role, \n",
    "    model_package_arn=model_package_arn,\n",
    "    sagemaker_session=sagemaker_session,\n",
    ")"
   ]
  },
  {
   "cell_type": "markdown",
   "metadata": {},
   "source": [
    "### Input Format\n",
    "\n",
    "To use the model, you need to provide input in one of the following supported formats:\n",
    "\n",
    "#### JSON Format\n",
    "\n",
    "Provide input as JSON. We support two variations within this format:\n",
    "\n",
    "1. **Array of Text Documents**: \n",
    "   Use an array containing multiple text documents. Each element represents a separate text document.\n",
    "\n",
    "   ```json\n",
    "   {\n",
    "       \"text\": [\n",
    "           \"Text document 1\",\n",
    "           \"Text document 2\",\n",
    "           ...\n",
    "       ]\n",
    "   }\n",
    "\n",
    "    ```\n",
    "\n",
    "2. **Single Text Document**:\n",
    "   Provide a single text document as a string.\n",
    "\n",
    "\n",
    "   ```json\n",
    "    {\n",
    "        \"text\": \"Single text document\"\n",
    "    }\n",
    "   ```\n",
    "\n",
    "#### JSON Lines (JSONL) Format\n",
    "\n",
    "Provide input in JSON Lines format, where each line is a JSON object representing a text document.\n",
    "\n",
    "```\n",
    "{\"text\": \"Text document 1\"}\n",
    "{\"text\": \"Text document 2\"}\n",
    "```"
   ]
  },
  {
   "cell_type": "markdown",
   "metadata": {},
   "source": [
    "## 3. Create an endpoint and perform real-time inference"
   ]
  },
  {
   "cell_type": "markdown",
   "metadata": {},
   "source": [
    "If you want to understand how real-time inference with Amazon SageMaker works, see [Documentation](https://docs.aws.amazon.com/sagemaker/latest/dg/how-it-works-hosting.html)."
   ]
  },
  {
   "cell_type": "markdown",
   "metadata": {},
   "source": [
    "### A. Deploy the SageMaker model to an endpoint"
   ]
  },
  {
   "cell_type": "code",
   "execution_count": 6,
   "metadata": {
    "tags": []
   },
   "outputs": [
    {
     "name": "stdout",
     "output_type": "stream",
     "text": [
      "--------!"
     ]
    }
   ],
   "source": [
    "# Deploy the model\n",
    "predictor = model.deploy(\n",
    "    initial_instance_count=1,\n",
    "    instance_type=real_time_inference_instance_type, \n",
    "    endpoint_name=model_name,\n",
    ")"
   ]
  },
  {
   "cell_type": "markdown",
   "metadata": {},
   "source": [
    "Once endpoint has been created, you would be able to perform real-time inference."
   ]
  },
  {
   "cell_type": "code",
   "execution_count": 7,
   "metadata": {
    "tags": []
   },
   "outputs": [],
   "source": [
    "import json\n",
    "import pandas as pd\n",
    "import os\n",
    "import boto3\n",
    "\n",
    "# Set display options\n",
    "pd.set_option('display.max_rows', None)\n",
    "pd.set_option('display.max_columns', None)\n",
    "pd.set_option('display.max_colwidth', None)\n",
    "\n",
    "def process_data_and_invoke_realtime_endpoint(data, content_type, accept):\n",
    "\n",
    "    content_type_to_format = {'application/json': 'json', 'application/jsonlines': 'jsonl'}\n",
    "    input_format = content_type_to_format.get(content_type)\n",
    "    if content_type not in content_type_to_format.keys() or accept not in content_type_to_format.keys():\n",
    "        raise ValueError(\"Invalid content_type or accept. It should be either 'application/json' or 'application/jsonlines'.\")\n",
    "\n",
    "    i = 1\n",
    "    input_dir = f'inputs/real-time/{input_format}'\n",
    "    output_dir = f'outputs/real-time/{input_format}'\n",
    "    s3_input_dir = f\"{model_name}/validation-input/real-time/{input_format}\"\n",
    "    s3_output_dir = f\"{model_name}/validation-output/real-time/{input_format}\"\n",
    "\n",
    "    input_file_name = f'{input_dir}/input{i}.{input_format}'\n",
    "    output_file_name = f'{output_dir}/{os.path.basename(input_file_name)}.out'\n",
    "\n",
    "    while os.path.exists(input_file_name) or os.path.exists(output_file_name):\n",
    "        i += 1\n",
    "        input_file_name = f'{input_dir}/input{i}.{input_format}'\n",
    "        output_file_name = f'{output_dir}/{os.path.basename(input_file_name)}.out'\n",
    "\n",
    "    os.makedirs(os.path.dirname(input_file_name), exist_ok=True)\n",
    "    os.makedirs(os.path.dirname(output_file_name), exist_ok=True)\n",
    "\n",
    "    input_data = json.dumps(data) if content_type == 'application/json' else data\n",
    "\n",
    "    # Write input data to file\n",
    "    with open(input_file_name, 'w') as f:\n",
    "        f.write(input_data)\n",
    "\n",
    "    # Upload input data to S3\n",
    "    s3_client.put_object(Bucket=s3_bucket, Key=f\"{s3_input_dir}/{os.path.basename(input_file_name)}\", Body=bytes(input_data.encode('UTF-8')))\n",
    "\n",
    "    # Invoke the SageMaker endpoint\n",
    "    response = sm_runtime.invoke_endpoint(\n",
    "        EndpointName=model_name,\n",
    "        ContentType=content_type,\n",
    "        Accept=accept,\n",
    "        Body=input_data,\n",
    "    )\n",
    "\n",
    "    # Read response data\n",
    "    response_data = json.loads(response[\"Body\"].read().decode(\"utf-8\")) if accept == 'application/json' else response['Body'].read().decode('utf-8')\n",
    "\n",
    "    # Save response data to file\n",
    "    with open(output_file_name, 'w') as f_out:\n",
    "        if accept == 'application/json':\n",
    "            json.dump(response_data, f_out, indent=4)\n",
    "        else:\n",
    "            for item in response_data.split('\\n'):\n",
    "                f_out.write(item + '\\n')\n",
    "\n",
    "    # Upload response data to S3\n",
    "    output_s3_key = f\"{s3_output_dir}/{os.path.basename(output_file_name)}\"\n",
    "    if accept == 'application/json':\n",
    "        s3_client.put_object(Bucket=s3_bucket, Key=output_s3_key, Body=json.dumps(response_data).encode('UTF-8'))\n",
    "    else:\n",
    "        s3_client.put_object(Bucket=s3_bucket, Key=output_s3_key, Body=response_data)\n",
    "\n",
    "    return response_data"
   ]
  },
  {
   "cell_type": "markdown",
   "metadata": {},
   "source": [
    "### Initial Setup"
   ]
  },
  {
   "cell_type": "code",
   "execution_count": 8,
   "metadata": {
    "tags": []
   },
   "outputs": [],
   "source": [
    "docs = [\n",
    "    \"\"\"Cardiac size cannot be evaluated. Large left pleural effusion is new. Small right effusion is new. The upper lungs are clear. Right lower lobe opacities are better seen in prior CT. There is no pneumothorax. There are mild degenerative changes in the thoracic spine\"\"\",\n",
    "\n",
    "    \"\"\"Bilateral breast ultrasound was subsequently performed, which demonstrated an ovoid mass measuring approximately 0.5 x 0.5 x 0.4 cm in diameter located within the anteromedial aspect of the left shoulder. This mass demonstrates isoechoic echotexture to the adjacent muscle, with no evidence of internal color flow. This may represent benign fibrous tissue or a lipoma.\"\"\"\n",
    "]\n",
    "\n",
    "sample_text = \"\"\"Abdominal ultrasound shows a small simple cyst in the left kidney, measuring 1.2 cm. The liver and gallbladder are unremarkable. No signs of cholelithiasis or biliary dilation.\"\"\""
   ]
  },
  {
   "cell_type": "markdown",
   "metadata": {},
   "source": [
    "### JSON"
   ]
  },
  {
   "cell_type": "code",
   "execution_count": 9,
   "metadata": {
    "tags": []
   },
   "outputs": [],
   "source": [
    "input_json_data = {\"text\": sample_text}\n",
    "\n",
    "data =  process_data_and_invoke_realtime_endpoint(input_json_data, content_type=\"application/json\" , accept=\"application/json\" )\n",
    "ner_df = pd.DataFrame(data[0][\"ner_predictions\"])\n",
    "assertion_df = pd.DataFrame(data[0][\"assertion_predictions\"])\n",
    "relation_df = pd.DataFrame(data[0][\"relation_predictions\"])"
   ]
  },
  {
   "cell_type": "code",
   "execution_count": 10,
   "metadata": {
    "tags": []
   },
   "outputs": [
    {
     "data": {
      "text/html": [
       "<div>\n",
       "<style scoped>\n",
       "    .dataframe tbody tr th:only-of-type {\n",
       "        vertical-align: middle;\n",
       "    }\n",
       "\n",
       "    .dataframe tbody tr th {\n",
       "        vertical-align: top;\n",
       "    }\n",
       "\n",
       "    .dataframe thead th {\n",
       "        text-align: right;\n",
       "    }\n",
       "</style>\n",
       "<table border=\"1\" class=\"dataframe\">\n",
       "  <thead>\n",
       "    <tr style=\"text-align: right;\">\n",
       "      <th></th>\n",
       "      <th>ner_chunk</th>\n",
       "      <th>begin</th>\n",
       "      <th>end</th>\n",
       "      <th>ner_label</th>\n",
       "      <th>ner_confidence</th>\n",
       "    </tr>\n",
       "  </thead>\n",
       "  <tbody>\n",
       "    <tr>\n",
       "      <th>0</th>\n",
       "      <td>Abdominal ultrasound</td>\n",
       "      <td>0</td>\n",
       "      <td>19</td>\n",
       "      <td>Imaging_Test</td>\n",
       "      <td>0.95295</td>\n",
       "    </tr>\n",
       "    <tr>\n",
       "      <th>1</th>\n",
       "      <td>small simple cyst</td>\n",
       "      <td>29</td>\n",
       "      <td>45</td>\n",
       "      <td>ImagingFindings</td>\n",
       "      <td>0.6244</td>\n",
       "    </tr>\n",
       "    <tr>\n",
       "      <th>2</th>\n",
       "      <td>left kidney</td>\n",
       "      <td>54</td>\n",
       "      <td>64</td>\n",
       "      <td>BodyPart</td>\n",
       "      <td>0.72424996</td>\n",
       "    </tr>\n",
       "    <tr>\n",
       "      <th>3</th>\n",
       "      <td>1.2 cm</td>\n",
       "      <td>77</td>\n",
       "      <td>82</td>\n",
       "      <td>Measurements</td>\n",
       "      <td>0.9805</td>\n",
       "    </tr>\n",
       "    <tr>\n",
       "      <th>4</th>\n",
       "      <td>liver</td>\n",
       "      <td>89</td>\n",
       "      <td>93</td>\n",
       "      <td>BodyPart</td>\n",
       "      <td>0.8004</td>\n",
       "    </tr>\n",
       "    <tr>\n",
       "      <th>5</th>\n",
       "      <td>gallbladder</td>\n",
       "      <td>99</td>\n",
       "      <td>109</td>\n",
       "      <td>BodyPart</td>\n",
       "      <td>0.7609</td>\n",
       "    </tr>\n",
       "    <tr>\n",
       "      <th>6</th>\n",
       "      <td>unremarkable</td>\n",
       "      <td>115</td>\n",
       "      <td>126</td>\n",
       "      <td>ImagingFindings</td>\n",
       "      <td>0.7926</td>\n",
       "    </tr>\n",
       "    <tr>\n",
       "      <th>7</th>\n",
       "      <td>cholelithiasis</td>\n",
       "      <td>141</td>\n",
       "      <td>154</td>\n",
       "      <td>Disease_Syndrome_Disorder</td>\n",
       "      <td>0.7591</td>\n",
       "    </tr>\n",
       "    <tr>\n",
       "      <th>8</th>\n",
       "      <td>biliary dilation</td>\n",
       "      <td>159</td>\n",
       "      <td>174</td>\n",
       "      <td>Symptom</td>\n",
       "      <td>0.4174</td>\n",
       "    </tr>\n",
       "  </tbody>\n",
       "</table>\n",
       "</div>"
      ],
      "text/plain": [
       "              ner_chunk  begin  end                  ner_label ner_confidence\n",
       "0  Abdominal ultrasound      0   19               Imaging_Test        0.95295\n",
       "1     small simple cyst     29   45            ImagingFindings         0.6244\n",
       "2           left kidney     54   64                   BodyPart     0.72424996\n",
       "3                1.2 cm     77   82               Measurements         0.9805\n",
       "4                 liver     89   93                   BodyPart         0.8004\n",
       "5           gallbladder     99  109                   BodyPart         0.7609\n",
       "6          unremarkable    115  126            ImagingFindings         0.7926\n",
       "7        cholelithiasis    141  154  Disease_Syndrome_Disorder         0.7591\n",
       "8      biliary dilation    159  174                    Symptom         0.4174"
      ]
     },
     "execution_count": 10,
     "metadata": {},
     "output_type": "execute_result"
    }
   ],
   "source": [
    "ner_df"
   ]
  },
  {
   "cell_type": "code",
   "execution_count": 11,
   "metadata": {
    "tags": []
   },
   "outputs": [
    {
     "data": {
      "text/html": [
       "<div>\n",
       "<style scoped>\n",
       "    .dataframe tbody tr th:only-of-type {\n",
       "        vertical-align: middle;\n",
       "    }\n",
       "\n",
       "    .dataframe tbody tr th {\n",
       "        vertical-align: top;\n",
       "    }\n",
       "\n",
       "    .dataframe thead th {\n",
       "        text-align: right;\n",
       "    }\n",
       "</style>\n",
       "<table border=\"1\" class=\"dataframe\">\n",
       "  <thead>\n",
       "    <tr style=\"text-align: right;\">\n",
       "      <th></th>\n",
       "      <th>ner_chunk</th>\n",
       "      <th>begin</th>\n",
       "      <th>end</th>\n",
       "      <th>ner_label</th>\n",
       "      <th>assertion</th>\n",
       "      <th>assertion_confidence</th>\n",
       "    </tr>\n",
       "  </thead>\n",
       "  <tbody>\n",
       "    <tr>\n",
       "      <th>0</th>\n",
       "      <td>small simple cyst</td>\n",
       "      <td>29</td>\n",
       "      <td>45</td>\n",
       "      <td>ImagingFindings</td>\n",
       "      <td>Confirmed</td>\n",
       "      <td>0.9981</td>\n",
       "    </tr>\n",
       "    <tr>\n",
       "      <th>1</th>\n",
       "      <td>unremarkable</td>\n",
       "      <td>115</td>\n",
       "      <td>126</td>\n",
       "      <td>ImagingFindings</td>\n",
       "      <td>Confirmed</td>\n",
       "      <td>0.992</td>\n",
       "    </tr>\n",
       "    <tr>\n",
       "      <th>2</th>\n",
       "      <td>cholelithiasis</td>\n",
       "      <td>141</td>\n",
       "      <td>154</td>\n",
       "      <td>Disease_Syndrome_Disorder</td>\n",
       "      <td>Negative</td>\n",
       "      <td>0.9977</td>\n",
       "    </tr>\n",
       "    <tr>\n",
       "      <th>3</th>\n",
       "      <td>biliary dilation</td>\n",
       "      <td>159</td>\n",
       "      <td>174</td>\n",
       "      <td>Symptom</td>\n",
       "      <td>Negative</td>\n",
       "      <td>0.9828</td>\n",
       "    </tr>\n",
       "  </tbody>\n",
       "</table>\n",
       "</div>"
      ],
      "text/plain": [
       "           ner_chunk  begin  end                  ner_label  assertion  \\\n",
       "0  small simple cyst     29   45            ImagingFindings  Confirmed   \n",
       "1       unremarkable    115  126            ImagingFindings  Confirmed   \n",
       "2     cholelithiasis    141  154  Disease_Syndrome_Disorder   Negative   \n",
       "3   biliary dilation    159  174                    Symptom   Negative   \n",
       "\n",
       "  assertion_confidence  \n",
       "0               0.9981  \n",
       "1                0.992  \n",
       "2               0.9977  \n",
       "3               0.9828  "
      ]
     },
     "execution_count": 11,
     "metadata": {},
     "output_type": "execute_result"
    }
   ],
   "source": [
    "assertion_df"
   ]
  },
  {
   "cell_type": "code",
   "execution_count": 12,
   "metadata": {
    "tags": []
   },
   "outputs": [
    {
     "data": {
      "text/html": [
       "<div>\n",
       "<style scoped>\n",
       "    .dataframe tbody tr th:only-of-type {\n",
       "        vertical-align: middle;\n",
       "    }\n",
       "\n",
       "    .dataframe tbody tr th {\n",
       "        vertical-align: top;\n",
       "    }\n",
       "\n",
       "    .dataframe thead th {\n",
       "        text-align: right;\n",
       "    }\n",
       "</style>\n",
       "<table border=\"1\" class=\"dataframe\">\n",
       "  <thead>\n",
       "    <tr style=\"text-align: right;\">\n",
       "      <th></th>\n",
       "      <th>ner_chunk1</th>\n",
       "      <th>ner_chunk1_begin</th>\n",
       "      <th>ner_chunk1_end</th>\n",
       "      <th>ner_label1</th>\n",
       "      <th>ner_chunk2</th>\n",
       "      <th>ner_chunk2_begin</th>\n",
       "      <th>ner_chunk2_end</th>\n",
       "      <th>ner_label2</th>\n",
       "      <th>relations</th>\n",
       "      <th>relation_confidence</th>\n",
       "    </tr>\n",
       "  </thead>\n",
       "  <tbody>\n",
       "    <tr>\n",
       "      <th>0</th>\n",
       "      <td>Abdominal ultrasound</td>\n",
       "      <td>0</td>\n",
       "      <td>19</td>\n",
       "      <td>Imaging_Test</td>\n",
       "      <td>small simple cyst</td>\n",
       "      <td>29</td>\n",
       "      <td>45</td>\n",
       "      <td>ImagingFindings</td>\n",
       "      <td>is_related</td>\n",
       "      <td>1.0</td>\n",
       "    </tr>\n",
       "    <tr>\n",
       "      <th>1</th>\n",
       "      <td>Abdominal ultrasound</td>\n",
       "      <td>0</td>\n",
       "      <td>19</td>\n",
       "      <td>Imaging_Test</td>\n",
       "      <td>left kidney</td>\n",
       "      <td>54</td>\n",
       "      <td>64</td>\n",
       "      <td>BodyPart</td>\n",
       "      <td>is_related</td>\n",
       "      <td>0.99999547</td>\n",
       "    </tr>\n",
       "    <tr>\n",
       "      <th>2</th>\n",
       "      <td>small simple cyst</td>\n",
       "      <td>29</td>\n",
       "      <td>45</td>\n",
       "      <td>ImagingFindings</td>\n",
       "      <td>left kidney</td>\n",
       "      <td>54</td>\n",
       "      <td>64</td>\n",
       "      <td>BodyPart</td>\n",
       "      <td>is_related</td>\n",
       "      <td>0.94614494</td>\n",
       "    </tr>\n",
       "    <tr>\n",
       "      <th>3</th>\n",
       "      <td>small simple cyst</td>\n",
       "      <td>29</td>\n",
       "      <td>45</td>\n",
       "      <td>ImagingFindings</td>\n",
       "      <td>1.2 cm</td>\n",
       "      <td>77</td>\n",
       "      <td>82</td>\n",
       "      <td>Measurements</td>\n",
       "      <td>is_related</td>\n",
       "      <td>0.9952284</td>\n",
       "    </tr>\n",
       "    <tr>\n",
       "      <th>4</th>\n",
       "      <td>liver</td>\n",
       "      <td>89</td>\n",
       "      <td>93</td>\n",
       "      <td>BodyPart</td>\n",
       "      <td>unremarkable</td>\n",
       "      <td>115</td>\n",
       "      <td>126</td>\n",
       "      <td>ImagingFindings</td>\n",
       "      <td>not_related</td>\n",
       "      <td>0.9999999</td>\n",
       "    </tr>\n",
       "  </tbody>\n",
       "</table>\n",
       "</div>"
      ],
      "text/plain": [
       "             ner_chunk1 ner_chunk1_begin ner_chunk1_end       ner_label1  \\\n",
       "0  Abdominal ultrasound                0             19     Imaging_Test   \n",
       "1  Abdominal ultrasound                0             19     Imaging_Test   \n",
       "2     small simple cyst               29             45  ImagingFindings   \n",
       "3     small simple cyst               29             45  ImagingFindings   \n",
       "4                 liver               89             93         BodyPart   \n",
       "\n",
       "          ner_chunk2 ner_chunk2_begin ner_chunk2_end       ner_label2  \\\n",
       "0  small simple cyst               29             45  ImagingFindings   \n",
       "1        left kidney               54             64         BodyPart   \n",
       "2        left kidney               54             64         BodyPart   \n",
       "3             1.2 cm               77             82     Measurements   \n",
       "4       unremarkable              115            126  ImagingFindings   \n",
       "\n",
       "     relations relation_confidence  \n",
       "0   is_related                 1.0  \n",
       "1   is_related          0.99999547  \n",
       "2   is_related          0.94614494  \n",
       "3   is_related           0.9952284  \n",
       "4  not_related           0.9999999  "
      ]
     },
     "execution_count": 12,
     "metadata": {},
     "output_type": "execute_result"
    }
   ],
   "source": [
    "relation_df"
   ]
  },
  {
   "cell_type": "markdown",
   "metadata": {},
   "source": [
    "### JSON Lines"
   ]
  },
  {
   "cell_type": "code",
   "execution_count": 13,
   "metadata": {
    "tags": []
   },
   "outputs": [],
   "source": [
    "import json\n",
    "\n",
    "def create_jsonl(records):\n",
    "    \n",
    "    if isinstance(records, str):\n",
    "        records = [records]\n",
    "    \n",
    "    json_records = []\n",
    "\n",
    "    for text in records:\n",
    "        record = {\n",
    "            \"text\": text\n",
    "        }\n",
    "        json_records.append(record)\n",
    "\n",
    "    json_lines = '\\n'.join(json.dumps(record) for record in json_records)\n",
    "\n",
    "    return json_lines"
   ]
  },
  {
   "cell_type": "code",
   "execution_count": 14,
   "metadata": {
    "tags": []
   },
   "outputs": [
    {
     "name": "stdout",
     "output_type": "stream",
     "text": [
      "{\"ner_predictions\": [{\"ner_chunk\": \"Abdominal ultrasound\", \"begin\": 0, \"end\": 19, \"ner_label\": \"Imaging_Test\", \"ner_confidence\": \"0.95295\"}, {\"ner_chunk\": \"small simple cyst\", \"begin\": 29, \"end\": 45, \"ner_label\": \"ImagingFindings\", \"ner_confidence\": \"0.6244\"}, {\"ner_chunk\": \"left kidney\", \"begin\": 54, \"end\": 64, \"ner_label\": \"BodyPart\", \"ner_confidence\": \"0.72424996\"}, {\"ner_chunk\": \"1.2 cm\", \"begin\": 77, \"end\": 82, \"ner_label\": \"Measurements\", \"ner_confidence\": \"0.9805\"}, {\"ner_chunk\": \"liver\", \"begin\": 89, \"end\": 93, \"ner_label\": \"BodyPart\", \"ner_confidence\": \"0.8004\"}, {\"ner_chunk\": \"gallbladder\", \"begin\": 99, \"end\": 109, \"ner_label\": \"BodyPart\", \"ner_confidence\": \"0.7609\"}, {\"ner_chunk\": \"unremarkable\", \"begin\": 115, \"end\": 126, \"ner_label\": \"ImagingFindings\", \"ner_confidence\": \"0.7926\"}, {\"ner_chunk\": \"cholelithiasis\", \"begin\": 141, \"end\": 154, \"ner_label\": \"Disease_Syndrome_Disorder\", \"ner_confidence\": \"0.7591\"}, {\"ner_chunk\": \"biliary dilation\", \"begin\": 159, \"end\": 174, \"ner_label\": \"Symptom\", \"ner_confidence\": \"0.4174\"}], \"assertion_predictions\": [{\"ner_chunk\": \"small simple cyst\", \"begin\": 29, \"end\": 45, \"ner_label\": \"ImagingFindings\", \"assertion\": \"Confirmed\", \"assertion_confidence\": \"0.9981\"}, {\"ner_chunk\": \"unremarkable\", \"begin\": 115, \"end\": 126, \"ner_label\": \"ImagingFindings\", \"assertion\": \"Confirmed\", \"assertion_confidence\": \"0.992\"}, {\"ner_chunk\": \"cholelithiasis\", \"begin\": 141, \"end\": 154, \"ner_label\": \"Disease_Syndrome_Disorder\", \"assertion\": \"Negative\", \"assertion_confidence\": \"0.9977\"}, {\"ner_chunk\": \"biliary dilation\", \"begin\": 159, \"end\": 174, \"ner_label\": \"Symptom\", \"assertion\": \"Negative\", \"assertion_confidence\": \"0.9828\"}], \"relation_predictions\": [{\"ner_chunk1\": \"Abdominal ultrasound\", \"ner_chunk1_begin\": \"0\", \"ner_chunk1_end\": \"19\", \"ner_label1\": \"Imaging_Test\", \"ner_chunk2\": \"small simple cyst\", \"ner_chunk2_begin\": \"29\", \"ner_chunk2_end\": \"45\", \"ner_label2\": \"ImagingFindings\", \"relations\": \"is_related\", \"relation_confidence\": \"1.0\"}, {\"ner_chunk1\": \"Abdominal ultrasound\", \"ner_chunk1_begin\": \"0\", \"ner_chunk1_end\": \"19\", \"ner_label1\": \"Imaging_Test\", \"ner_chunk2\": \"left kidney\", \"ner_chunk2_begin\": \"54\", \"ner_chunk2_end\": \"64\", \"ner_label2\": \"BodyPart\", \"relations\": \"is_related\", \"relation_confidence\": \"0.99999547\"}, {\"ner_chunk1\": \"small simple cyst\", \"ner_chunk1_begin\": \"29\", \"ner_chunk1_end\": \"45\", \"ner_label1\": \"ImagingFindings\", \"ner_chunk2\": \"left kidney\", \"ner_chunk2_begin\": \"54\", \"ner_chunk2_end\": \"64\", \"ner_label2\": \"BodyPart\", \"relations\": \"is_related\", \"relation_confidence\": \"0.94614494\"}, {\"ner_chunk1\": \"small simple cyst\", \"ner_chunk1_begin\": \"29\", \"ner_chunk1_end\": \"45\", \"ner_label1\": \"ImagingFindings\", \"ner_chunk2\": \"1.2 cm\", \"ner_chunk2_begin\": \"77\", \"ner_chunk2_end\": \"82\", \"ner_label2\": \"Measurements\", \"relations\": \"is_related\", \"relation_confidence\": \"0.9952284\"}, {\"ner_chunk1\": \"liver\", \"ner_chunk1_begin\": \"89\", \"ner_chunk1_end\": \"93\", \"ner_label1\": \"BodyPart\", \"ner_chunk2\": \"unremarkable\", \"ner_chunk2_begin\": \"115\", \"ner_chunk2_end\": \"126\", \"ner_label2\": \"ImagingFindings\", \"relations\": \"not_related\", \"relation_confidence\": \"0.9999999\"}]}\n"
     ]
    }
   ],
   "source": [
    "input_jsonl_data = create_jsonl(sample_text)\n",
    "data = process_data_and_invoke_realtime_endpoint(input_jsonl_data, content_type=\"application/jsonlines\" , accept=\"application/jsonlines\" )\n",
    "print(data)"
   ]
  },
  {
   "cell_type": "markdown",
   "metadata": {},
   "source": [
    "### C. Delete the endpoint"
   ]
  },
  {
   "cell_type": "markdown",
   "metadata": {},
   "source": [
    "Now that you have successfully performed a real-time inference, you do not need the endpoint any more. You can terminate the endpoint to avoid being charged."
   ]
  },
  {
   "cell_type": "code",
   "execution_count": 15,
   "metadata": {
    "tags": []
   },
   "outputs": [],
   "source": [
    "model.sagemaker_session.delete_endpoint(model_name)\n",
    "model.sagemaker_session.delete_endpoint_config(model_name)"
   ]
  },
  {
   "cell_type": "markdown",
   "metadata": {
    "tags": []
   },
   "source": [
    "## 4. Batch inference"
   ]
  },
  {
   "cell_type": "code",
   "execution_count": 16,
   "metadata": {
    "tags": []
   },
   "outputs": [],
   "source": [
    "import json\n",
    "import os\n",
    "\n",
    "input_dir = 'inputs/batch'\n",
    "json_input_dir = f\"{input_dir}/json\"\n",
    "jsonl_input_dir = f\"{input_dir}/jsonl\"\n",
    "\n",
    "output_dir = 'outputs/batch'\n",
    "json_output_dir = f\"{output_dir}/json\"\n",
    "jsonl_output_dir = f\"{output_dir}/jsonl\"\n",
    "\n",
    "os.makedirs(json_input_dir, exist_ok=True)\n",
    "os.makedirs(jsonl_input_dir, exist_ok=True)\n",
    "os.makedirs(json_output_dir, exist_ok=True)\n",
    "os.makedirs(jsonl_output_dir, exist_ok=True)\n",
    "\n",
    "validation_json_file_name = \"input.json\"\n",
    "\n",
    "validation_jsonl_file_name = \"input.jsonl\"\n",
    "\n",
    "validation_input_json_path = f\"s3://{s3_bucket}/{model_name}/validation-input/batch/json/\"\n",
    "validation_output_json_path = f\"s3://{s3_bucket}/{model_name}/validation-output/batch/json/\"\n",
    "\n",
    "validation_input_jsonl_path = f\"s3://{s3_bucket}/{model_name}/validation-input/batch/jsonl/\"\n",
    "validation_output_jsonl_path = f\"s3://{s3_bucket}/{model_name}/validation-output/batch/jsonl/\"\n",
    "\n",
    "def write_and_upload_to_s3(input_data, file_name):\n",
    "    file_format = os.path.splitext(file_name)[1].lower()\n",
    "    if file_format == \".json\":\n",
    "        input_data = json.dumps(input_data)\n",
    "\n",
    "    with open(file_name, \"w\") as f:\n",
    "        f.write(input_data)\n",
    "\n",
    "    s3_client.put_object(\n",
    "        Bucket=s3_bucket,\n",
    "        Key=f\"{model_name}/validation-input/batch/{file_format[1:]}/{os.path.basename(file_name)}\",\n",
    "        Body=(bytes(input_data.encode(\"UTF-8\"))),\n",
    "    )"
   ]
  },
  {
   "cell_type": "code",
   "execution_count": 17,
   "metadata": {
    "tags": []
   },
   "outputs": [],
   "source": [
    "input_jsonl_data = create_jsonl(docs)\n",
    "input_json_data = {\"text\": docs}\n",
    "\n",
    "write_and_upload_to_s3(input_json_data, f\"{json_input_dir}/{validation_json_file_name}\")\n",
    "\n",
    "write_and_upload_to_s3(input_jsonl_data, f\"{jsonl_input_dir}/{validation_jsonl_file_name}\")"
   ]
  },
  {
   "cell_type": "markdown",
   "metadata": {},
   "source": [
    "### JSON"
   ]
  },
  {
   "cell_type": "code",
   "execution_count": null,
   "metadata": {
    "tags": []
   },
   "outputs": [],
   "source": [
    "# Initialize a SageMaker Transformer object for making predictions\n",
    "transformer = model.transformer(\n",
    "    instance_count=1,\n",
    "    instance_type=batch_transform_inference_instance_type,\n",
    "    accept=\"application/json\",\n",
    "    output_path=validation_output_json_path\n",
    ")\n",
    "\n",
    "transformer.transform(validation_input_json_path, content_type=\"application/json\")\n",
    "transformer.wait()"
   ]
  },
  {
   "cell_type": "code",
   "execution_count": 19,
   "metadata": {
    "tags": []
   },
   "outputs": [],
   "source": [
    "from urllib.parse import urlparse\n",
    "\n",
    "def process_s3_json_output_and_save(validation_file_name):\n",
    "\n",
    "    output_file_path = f\"{json_output_dir}/{validation_file_name}.out\"\n",
    "    parsed_url = urlparse(transformer.output_path)\n",
    "    file_key = f\"{parsed_url.path[1:]}{validation_file_name}.out\"\n",
    "    response = s3_client.get_object(Bucket=s3_bucket, Key=file_key)\n",
    "\n",
    "    data = json.loads(response[\"Body\"].read().decode(\"utf-8\"))\n",
    "    # Define a dictionary with DataFrame objects and their names\n",
    "    display(data)\n",
    "    # Save the data to the output file\n",
    "    with open(output_file_path, 'w') as f_out:\n",
    "        json.dump(data, f_out, indent=4)"
   ]
  },
  {
   "cell_type": "code",
   "execution_count": 20,
   "metadata": {
    "tags": []
   },
   "outputs": [
    {
     "data": {
      "text/plain": [
       "[{'ner_predictions': [{'ner_chunk': 'Cardiac size',\n",
       "    'begin': 0,\n",
       "    'end': 11,\n",
       "    'ner_label': 'ImagingFindings',\n",
       "    'ner_confidence': '0.8463'},\n",
       "   {'ner_chunk': 'left',\n",
       "    'begin': 40,\n",
       "    'end': 43,\n",
       "    'ner_label': 'Direction',\n",
       "    'ner_confidence': '0.9433'},\n",
       "   {'ner_chunk': 'pleural effusion',\n",
       "    'begin': 45,\n",
       "    'end': 60,\n",
       "    'ner_label': 'Disease_Syndrome_Disorder',\n",
       "    'ner_confidence': '0.69865'},\n",
       "   {'ner_chunk': 'right',\n",
       "    'begin': 76,\n",
       "    'end': 80,\n",
       "    'ner_label': 'Direction',\n",
       "    'ner_confidence': '0.9554'},\n",
       "   {'ner_chunk': 'effusion',\n",
       "    'begin': 82,\n",
       "    'end': 89,\n",
       "    'ner_label': 'ImagingFindings',\n",
       "    'ner_confidence': '0.9442'},\n",
       "   {'ner_chunk': 'upper lungs',\n",
       "    'begin': 103,\n",
       "    'end': 113,\n",
       "    'ner_label': 'BodyPart',\n",
       "    'ner_confidence': '0.5999'},\n",
       "   {'ner_chunk': 'clear',\n",
       "    'begin': 119,\n",
       "    'end': 123,\n",
       "    'ner_label': 'ImagingFindings',\n",
       "    'ner_confidence': '0.7488'},\n",
       "   {'ner_chunk': 'Right',\n",
       "    'begin': 126,\n",
       "    'end': 130,\n",
       "    'ner_label': 'Direction',\n",
       "    'ner_confidence': '0.9839'},\n",
       "   {'ner_chunk': 'lower lobe opacities',\n",
       "    'begin': 132,\n",
       "    'end': 151,\n",
       "    'ner_label': 'Symptom',\n",
       "    'ner_confidence': '0.30993333'},\n",
       "   {'ner_chunk': 'CT',\n",
       "    'begin': 178,\n",
       "    'end': 179,\n",
       "    'ner_label': 'Imaging_Test',\n",
       "    'ner_confidence': '0.9859'},\n",
       "   {'ner_chunk': 'pneumothorax',\n",
       "    'begin': 194,\n",
       "    'end': 205,\n",
       "    'ner_label': 'ImagingFindings',\n",
       "    'ner_confidence': '0.9832'},\n",
       "   {'ner_chunk': 'mild degenerative changes',\n",
       "    'begin': 218,\n",
       "    'end': 242,\n",
       "    'ner_label': 'ImagingFindings',\n",
       "    'ner_confidence': '0.5607'},\n",
       "   {'ner_chunk': 'thoracic spine',\n",
       "    'begin': 251,\n",
       "    'end': 264,\n",
       "    'ner_label': 'BodyPart',\n",
       "    'ner_confidence': '0.7687'}],\n",
       "  'assertion_predictions': [{'ner_chunk': 'Cardiac size',\n",
       "    'begin': 0,\n",
       "    'end': 11,\n",
       "    'ner_label': 'ImagingFindings',\n",
       "    'assertion': 'Confirmed',\n",
       "    'assertion_confidence': '0.7541'},\n",
       "   {'ner_chunk': 'pleural effusion',\n",
       "    'begin': 45,\n",
       "    'end': 60,\n",
       "    'ner_label': 'Disease_Syndrome_Disorder',\n",
       "    'assertion': 'Confirmed',\n",
       "    'assertion_confidence': '0.9985'},\n",
       "   {'ner_chunk': 'effusion',\n",
       "    'begin': 82,\n",
       "    'end': 89,\n",
       "    'ner_label': 'ImagingFindings',\n",
       "    'assertion': 'Confirmed',\n",
       "    'assertion_confidence': '0.9841'},\n",
       "   {'ner_chunk': 'clear',\n",
       "    'begin': 119,\n",
       "    'end': 123,\n",
       "    'ner_label': 'ImagingFindings',\n",
       "    'assertion': 'Confirmed',\n",
       "    'assertion_confidence': '0.9973'},\n",
       "   {'ner_chunk': 'lower lobe opacities',\n",
       "    'begin': 132,\n",
       "    'end': 151,\n",
       "    'ner_label': 'Symptom',\n",
       "    'assertion': 'Confirmed',\n",
       "    'assertion_confidence': '0.9987'},\n",
       "   {'ner_chunk': 'pneumothorax',\n",
       "    'begin': 194,\n",
       "    'end': 205,\n",
       "    'ner_label': 'ImagingFindings',\n",
       "    'assertion': 'Negative',\n",
       "    'assertion_confidence': '0.9981'},\n",
       "   {'ner_chunk': 'mild degenerative changes',\n",
       "    'begin': 218,\n",
       "    'end': 242,\n",
       "    'ner_label': 'ImagingFindings',\n",
       "    'assertion': 'Confirmed',\n",
       "    'assertion_confidence': '0.9938'}],\n",
       "  'relation_predictions': [{'ner_chunk1': 'upper lungs',\n",
       "    'ner_chunk1_begin': '103',\n",
       "    'ner_chunk1_end': '113',\n",
       "    'ner_label1': 'BodyPart',\n",
       "    'ner_chunk2': 'clear',\n",
       "    'ner_chunk2_begin': '119',\n",
       "    'ner_chunk2_end': '123',\n",
       "    'ner_label2': 'ImagingFindings',\n",
       "    'relations': 'not_related',\n",
       "    'relation_confidence': '0.947544'},\n",
       "   {'ner_chunk1': 'mild degenerative changes',\n",
       "    'ner_chunk1_begin': '218',\n",
       "    'ner_chunk1_end': '242',\n",
       "    'ner_label1': 'ImagingFindings',\n",
       "    'ner_chunk2': 'thoracic spine',\n",
       "    'ner_chunk2_begin': '251',\n",
       "    'ner_chunk2_end': '264',\n",
       "    'ner_label2': 'BodyPart',\n",
       "    'relations': 'is_related',\n",
       "    'relation_confidence': '0.99999964'}]},\n",
       " {'ner_predictions': [{'ner_chunk': 'Bilateral breast',\n",
       "    'begin': 0,\n",
       "    'end': 15,\n",
       "    'ner_label': 'BodyPart',\n",
       "    'ner_confidence': '0.945'},\n",
       "   {'ner_chunk': 'ultrasound',\n",
       "    'begin': 17,\n",
       "    'end': 26,\n",
       "    'ner_label': 'Imaging_Test',\n",
       "    'ner_confidence': '0.6734'},\n",
       "   {'ner_chunk': 'ovoid mass',\n",
       "    'begin': 78,\n",
       "    'end': 87,\n",
       "    'ner_label': 'ImagingFindings',\n",
       "    'ner_confidence': '0.6095'},\n",
       "   {'ner_chunk': '0.5 x 0.5 x 0.4 cm',\n",
       "    'begin': 113,\n",
       "    'end': 130,\n",
       "    'ner_label': 'Measurements',\n",
       "    'ner_confidence': '0.9908667'},\n",
       "   {'ner_chunk': 'anteromedial aspect of the left shoulder',\n",
       "    'begin': 163,\n",
       "    'end': 202,\n",
       "    'ner_label': 'BodyPart',\n",
       "    'ner_confidence': '0.75051665'},\n",
       "   {'ner_chunk': 'mass',\n",
       "    'begin': 210,\n",
       "    'end': 213,\n",
       "    'ner_label': 'ImagingFindings',\n",
       "    'ner_confidence': '0.9711'},\n",
       "   {'ner_chunk': 'isoechoic echotexture',\n",
       "    'begin': 228,\n",
       "    'end': 248,\n",
       "    'ner_label': 'ImagingFindings',\n",
       "    'ner_confidence': '0.80104995'},\n",
       "   {'ner_chunk': 'adjacent muscle',\n",
       "    'begin': 257,\n",
       "    'end': 271,\n",
       "    'ner_label': 'BodyPart',\n",
       "    'ner_confidence': '0.5201'},\n",
       "   {'ner_chunk': 'internal color flow',\n",
       "    'begin': 294,\n",
       "    'end': 312,\n",
       "    'ner_label': 'ImagingFindings',\n",
       "    'ner_confidence': '0.47723332'},\n",
       "   {'ner_chunk': 'benign fibrous tissue',\n",
       "    'begin': 334,\n",
       "    'end': 354,\n",
       "    'ner_label': 'ImagingFindings',\n",
       "    'ner_confidence': '0.5240666'},\n",
       "   {'ner_chunk': 'lipoma',\n",
       "    'begin': 361,\n",
       "    'end': 366,\n",
       "    'ner_label': 'Disease_Syndrome_Disorder',\n",
       "    'ner_confidence': '0.6081'}],\n",
       "  'assertion_predictions': [{'ner_chunk': 'ovoid mass',\n",
       "    'begin': 78,\n",
       "    'end': 87,\n",
       "    'ner_label': 'ImagingFindings',\n",
       "    'assertion': 'Confirmed',\n",
       "    'assertion_confidence': '0.9966'},\n",
       "   {'ner_chunk': 'mass',\n",
       "    'begin': 210,\n",
       "    'end': 213,\n",
       "    'ner_label': 'ImagingFindings',\n",
       "    'assertion': 'Confirmed',\n",
       "    'assertion_confidence': '0.9683'},\n",
       "   {'ner_chunk': 'isoechoic echotexture',\n",
       "    'begin': 228,\n",
       "    'end': 248,\n",
       "    'ner_label': 'ImagingFindings',\n",
       "    'assertion': 'Confirmed',\n",
       "    'assertion_confidence': '0.9932'},\n",
       "   {'ner_chunk': 'internal color flow',\n",
       "    'begin': 294,\n",
       "    'end': 312,\n",
       "    'ner_label': 'ImagingFindings',\n",
       "    'assertion': 'Negative',\n",
       "    'assertion_confidence': '0.9632'},\n",
       "   {'ner_chunk': 'benign fibrous tissue',\n",
       "    'begin': 334,\n",
       "    'end': 354,\n",
       "    'ner_label': 'ImagingFindings',\n",
       "    'assertion': 'Suspected',\n",
       "    'assertion_confidence': '0.9951'},\n",
       "   {'ner_chunk': 'lipoma',\n",
       "    'begin': 361,\n",
       "    'end': 366,\n",
       "    'ner_label': 'Disease_Syndrome_Disorder',\n",
       "    'assertion': 'Suspected',\n",
       "    'assertion_confidence': '0.9676'}],\n",
       "  'relation_predictions': [{'ner_chunk1': 'Bilateral breast',\n",
       "    'ner_chunk1_begin': '0',\n",
       "    'ner_chunk1_end': '15',\n",
       "    'ner_label1': 'BodyPart',\n",
       "    'ner_chunk2': 'ultrasound',\n",
       "    'ner_chunk2_begin': '17',\n",
       "    'ner_chunk2_end': '26',\n",
       "    'ner_label2': 'Imaging_Test',\n",
       "    'relations': 'is_related',\n",
       "    'relation_confidence': '1.0'},\n",
       "   {'ner_chunk1': 'Bilateral breast',\n",
       "    'ner_chunk1_begin': '0',\n",
       "    'ner_chunk1_end': '15',\n",
       "    'ner_label1': 'BodyPart',\n",
       "    'ner_chunk2': 'ovoid mass',\n",
       "    'ner_chunk2_begin': '78',\n",
       "    'ner_chunk2_end': '87',\n",
       "    'ner_label2': 'ImagingFindings',\n",
       "    'relations': 'is_related',\n",
       "    'relation_confidence': '0.99999714'},\n",
       "   {'ner_chunk1': 'ultrasound',\n",
       "    'ner_chunk1_begin': '17',\n",
       "    'ner_chunk1_end': '26',\n",
       "    'ner_label1': 'Imaging_Test',\n",
       "    'ner_chunk2': 'ovoid mass',\n",
       "    'ner_chunk2_begin': '78',\n",
       "    'ner_chunk2_end': '87',\n",
       "    'ner_label2': 'ImagingFindings',\n",
       "    'relations': 'is_related',\n",
       "    'relation_confidence': '0.99956936'},\n",
       "   {'ner_chunk1': 'ovoid mass',\n",
       "    'ner_chunk1_begin': '78',\n",
       "    'ner_chunk1_end': '87',\n",
       "    'ner_label1': 'ImagingFindings',\n",
       "    'ner_chunk2': '0.5 x 0.5 x 0.4 cm',\n",
       "    'ner_chunk2_begin': '113',\n",
       "    'ner_chunk2_end': '130',\n",
       "    'ner_label2': 'Measurements',\n",
       "    'relations': 'is_related',\n",
       "    'relation_confidence': '1.0'},\n",
       "   {'ner_chunk1': 'mass',\n",
       "    'ner_chunk1_begin': '210',\n",
       "    'ner_chunk1_end': '213',\n",
       "    'ner_label1': 'ImagingFindings',\n",
       "    'ner_chunk2': 'adjacent muscle',\n",
       "    'ner_chunk2_begin': '257',\n",
       "    'ner_chunk2_end': '271',\n",
       "    'ner_label2': 'BodyPart',\n",
       "    'relations': 'is_related',\n",
       "    'relation_confidence': '0.9976392'},\n",
       "   {'ner_chunk1': 'isoechoic echotexture',\n",
       "    'ner_chunk1_begin': '228',\n",
       "    'ner_chunk1_end': '248',\n",
       "    'ner_label1': 'ImagingFindings',\n",
       "    'ner_chunk2': 'adjacent muscle',\n",
       "    'ner_chunk2_begin': '257',\n",
       "    'ner_chunk2_end': '271',\n",
       "    'ner_label2': 'BodyPart',\n",
       "    'relations': 'is_related',\n",
       "    'relation_confidence': '0.9999993'}]}]"
      ]
     },
     "metadata": {},
     "output_type": "display_data"
    }
   ],
   "source": [
    "process_s3_json_output_and_save(validation_json_file_name)"
   ]
  },
  {
   "cell_type": "markdown",
   "metadata": {},
   "source": [
    "### JSON Lines"
   ]
  },
  {
   "cell_type": "code",
   "execution_count": null,
   "metadata": {
    "tags": []
   },
   "outputs": [],
   "source": [
    "transformer = model.transformer(\n",
    "    instance_count=1,\n",
    "    instance_type=batch_transform_inference_instance_type,\n",
    "    accept=\"application/jsonlines\",\n",
    "    output_path=validation_output_jsonl_path\n",
    ")\n",
    "transformer.transform(validation_input_jsonl_path, content_type=\"application/jsonlines\")\n",
    "transformer.wait()"
   ]
  },
  {
   "cell_type": "code",
   "execution_count": 22,
   "metadata": {
    "tags": []
   },
   "outputs": [],
   "source": [
    "from urllib.parse import urlparse\n",
    "\n",
    "def process_s3_jsonlines_output_and_save(validation_file_name):\n",
    "\n",
    "    output_file_path = f\"{jsonl_output_dir}/{validation_file_name}.out\"\n",
    "    parsed_url = urlparse(transformer.output_path)\n",
    "    file_key = f\"{parsed_url.path[1:]}{validation_file_name}.out\"\n",
    "    response = s3_client.get_object(Bucket=s3_bucket, Key=file_key)\n",
    "\n",
    "    data = response[\"Body\"].read().decode(\"utf-8\")\n",
    "    print(data)\n",
    "\n",
    "    # Save the data to the output file\n",
    "    with open(output_file_path, 'w') as f_out:\n",
    "        for item in data.split('\\n'):\n",
    "            f_out.write(item + '\\n')"
   ]
  },
  {
   "cell_type": "code",
   "execution_count": 23,
   "metadata": {
    "tags": []
   },
   "outputs": [
    {
     "name": "stdout",
     "output_type": "stream",
     "text": [
      "{\"ner_predictions\": [{\"ner_chunk\": \"Cardiac size\", \"begin\": 0, \"end\": 11, \"ner_label\": \"ImagingFindings\", \"ner_confidence\": \"0.8463\"}, {\"ner_chunk\": \"left\", \"begin\": 40, \"end\": 43, \"ner_label\": \"Direction\", \"ner_confidence\": \"0.9433\"}, {\"ner_chunk\": \"pleural effusion\", \"begin\": 45, \"end\": 60, \"ner_label\": \"Disease_Syndrome_Disorder\", \"ner_confidence\": \"0.69865\"}, {\"ner_chunk\": \"right\", \"begin\": 76, \"end\": 80, \"ner_label\": \"Direction\", \"ner_confidence\": \"0.9554\"}, {\"ner_chunk\": \"effusion\", \"begin\": 82, \"end\": 89, \"ner_label\": \"ImagingFindings\", \"ner_confidence\": \"0.9442\"}, {\"ner_chunk\": \"upper lungs\", \"begin\": 103, \"end\": 113, \"ner_label\": \"BodyPart\", \"ner_confidence\": \"0.5999\"}, {\"ner_chunk\": \"clear\", \"begin\": 119, \"end\": 123, \"ner_label\": \"ImagingFindings\", \"ner_confidence\": \"0.7488\"}, {\"ner_chunk\": \"Right\", \"begin\": 126, \"end\": 130, \"ner_label\": \"Direction\", \"ner_confidence\": \"0.9839\"}, {\"ner_chunk\": \"lower lobe opacities\", \"begin\": 132, \"end\": 151, \"ner_label\": \"Symptom\", \"ner_confidence\": \"0.30993333\"}, {\"ner_chunk\": \"CT\", \"begin\": 178, \"end\": 179, \"ner_label\": \"Imaging_Test\", \"ner_confidence\": \"0.9859\"}, {\"ner_chunk\": \"pneumothorax\", \"begin\": 194, \"end\": 205, \"ner_label\": \"ImagingFindings\", \"ner_confidence\": \"0.9832\"}, {\"ner_chunk\": \"mild degenerative changes\", \"begin\": 218, \"end\": 242, \"ner_label\": \"ImagingFindings\", \"ner_confidence\": \"0.5607\"}, {\"ner_chunk\": \"thoracic spine\", \"begin\": 251, \"end\": 264, \"ner_label\": \"BodyPart\", \"ner_confidence\": \"0.7687\"}], \"assertion_predictions\": [{\"ner_chunk\": \"Cardiac size\", \"begin\": 0, \"end\": 11, \"ner_label\": \"ImagingFindings\", \"assertion\": \"Confirmed\", \"assertion_confidence\": \"0.7541\"}, {\"ner_chunk\": \"pleural effusion\", \"begin\": 45, \"end\": 60, \"ner_label\": \"Disease_Syndrome_Disorder\", \"assertion\": \"Confirmed\", \"assertion_confidence\": \"0.9985\"}, {\"ner_chunk\": \"effusion\", \"begin\": 82, \"end\": 89, \"ner_label\": \"ImagingFindings\", \"assertion\": \"Confirmed\", \"assertion_confidence\": \"0.9841\"}, {\"ner_chunk\": \"clear\", \"begin\": 119, \"end\": 123, \"ner_label\": \"ImagingFindings\", \"assertion\": \"Confirmed\", \"assertion_confidence\": \"0.9973\"}, {\"ner_chunk\": \"lower lobe opacities\", \"begin\": 132, \"end\": 151, \"ner_label\": \"Symptom\", \"assertion\": \"Confirmed\", \"assertion_confidence\": \"0.9987\"}, {\"ner_chunk\": \"pneumothorax\", \"begin\": 194, \"end\": 205, \"ner_label\": \"ImagingFindings\", \"assertion\": \"Negative\", \"assertion_confidence\": \"0.9981\"}, {\"ner_chunk\": \"mild degenerative changes\", \"begin\": 218, \"end\": 242, \"ner_label\": \"ImagingFindings\", \"assertion\": \"Confirmed\", \"assertion_confidence\": \"0.9938\"}], \"relation_predictions\": [{\"ner_chunk1\": \"upper lungs\", \"ner_chunk1_begin\": \"103\", \"ner_chunk1_end\": \"113\", \"ner_label1\": \"BodyPart\", \"ner_chunk2\": \"clear\", \"ner_chunk2_begin\": \"119\", \"ner_chunk2_end\": \"123\", \"ner_label2\": \"ImagingFindings\", \"relations\": \"not_related\", \"relation_confidence\": \"0.947544\"}, {\"ner_chunk1\": \"mild degenerative changes\", \"ner_chunk1_begin\": \"218\", \"ner_chunk1_end\": \"242\", \"ner_label1\": \"ImagingFindings\", \"ner_chunk2\": \"thoracic spine\", \"ner_chunk2_begin\": \"251\", \"ner_chunk2_end\": \"264\", \"ner_label2\": \"BodyPart\", \"relations\": \"is_related\", \"relation_confidence\": \"0.99999964\"}]}\n",
      "{\"ner_predictions\": [{\"ner_chunk\": \"Bilateral breast\", \"begin\": 0, \"end\": 15, \"ner_label\": \"BodyPart\", \"ner_confidence\": \"0.945\"}, {\"ner_chunk\": \"ultrasound\", \"begin\": 17, \"end\": 26, \"ner_label\": \"Imaging_Test\", \"ner_confidence\": \"0.6734\"}, {\"ner_chunk\": \"ovoid mass\", \"begin\": 78, \"end\": 87, \"ner_label\": \"ImagingFindings\", \"ner_confidence\": \"0.6095\"}, {\"ner_chunk\": \"0.5 x 0.5 x 0.4 cm\", \"begin\": 113, \"end\": 130, \"ner_label\": \"Measurements\", \"ner_confidence\": \"0.9908667\"}, {\"ner_chunk\": \"anteromedial aspect of the left shoulder\", \"begin\": 163, \"end\": 202, \"ner_label\": \"BodyPart\", \"ner_confidence\": \"0.75051665\"}, {\"ner_chunk\": \"mass\", \"begin\": 210, \"end\": 213, \"ner_label\": \"ImagingFindings\", \"ner_confidence\": \"0.9711\"}, {\"ner_chunk\": \"isoechoic echotexture\", \"begin\": 228, \"end\": 248, \"ner_label\": \"ImagingFindings\", \"ner_confidence\": \"0.80104995\"}, {\"ner_chunk\": \"adjacent muscle\", \"begin\": 257, \"end\": 271, \"ner_label\": \"BodyPart\", \"ner_confidence\": \"0.5201\"}, {\"ner_chunk\": \"internal color flow\", \"begin\": 294, \"end\": 312, \"ner_label\": \"ImagingFindings\", \"ner_confidence\": \"0.47723332\"}, {\"ner_chunk\": \"benign fibrous tissue\", \"begin\": 334, \"end\": 354, \"ner_label\": \"ImagingFindings\", \"ner_confidence\": \"0.5240666\"}, {\"ner_chunk\": \"lipoma\", \"begin\": 361, \"end\": 366, \"ner_label\": \"Disease_Syndrome_Disorder\", \"ner_confidence\": \"0.6081\"}], \"assertion_predictions\": [{\"ner_chunk\": \"ovoid mass\", \"begin\": 78, \"end\": 87, \"ner_label\": \"ImagingFindings\", \"assertion\": \"Confirmed\", \"assertion_confidence\": \"0.9966\"}, {\"ner_chunk\": \"mass\", \"begin\": 210, \"end\": 213, \"ner_label\": \"ImagingFindings\", \"assertion\": \"Confirmed\", \"assertion_confidence\": \"0.9683\"}, {\"ner_chunk\": \"isoechoic echotexture\", \"begin\": 228, \"end\": 248, \"ner_label\": \"ImagingFindings\", \"assertion\": \"Confirmed\", \"assertion_confidence\": \"0.9932\"}, {\"ner_chunk\": \"internal color flow\", \"begin\": 294, \"end\": 312, \"ner_label\": \"ImagingFindings\", \"assertion\": \"Negative\", \"assertion_confidence\": \"0.9632\"}, {\"ner_chunk\": \"benign fibrous tissue\", \"begin\": 334, \"end\": 354, \"ner_label\": \"ImagingFindings\", \"assertion\": \"Suspected\", \"assertion_confidence\": \"0.9951\"}, {\"ner_chunk\": \"lipoma\", \"begin\": 361, \"end\": 366, \"ner_label\": \"Disease_Syndrome_Disorder\", \"assertion\": \"Suspected\", \"assertion_confidence\": \"0.9676\"}], \"relation_predictions\": [{\"ner_chunk1\": \"Bilateral breast\", \"ner_chunk1_begin\": \"0\", \"ner_chunk1_end\": \"15\", \"ner_label1\": \"BodyPart\", \"ner_chunk2\": \"ultrasound\", \"ner_chunk2_begin\": \"17\", \"ner_chunk2_end\": \"26\", \"ner_label2\": \"Imaging_Test\", \"relations\": \"is_related\", \"relation_confidence\": \"1.0\"}, {\"ner_chunk1\": \"Bilateral breast\", \"ner_chunk1_begin\": \"0\", \"ner_chunk1_end\": \"15\", \"ner_label1\": \"BodyPart\", \"ner_chunk2\": \"ovoid mass\", \"ner_chunk2_begin\": \"78\", \"ner_chunk2_end\": \"87\", \"ner_label2\": \"ImagingFindings\", \"relations\": \"is_related\", \"relation_confidence\": \"0.99999714\"}, {\"ner_chunk1\": \"ultrasound\", \"ner_chunk1_begin\": \"17\", \"ner_chunk1_end\": \"26\", \"ner_label1\": \"Imaging_Test\", \"ner_chunk2\": \"ovoid mass\", \"ner_chunk2_begin\": \"78\", \"ner_chunk2_end\": \"87\", \"ner_label2\": \"ImagingFindings\", \"relations\": \"is_related\", \"relation_confidence\": \"0.99956936\"}, {\"ner_chunk1\": \"ovoid mass\", \"ner_chunk1_begin\": \"78\", \"ner_chunk1_end\": \"87\", \"ner_label1\": \"ImagingFindings\", \"ner_chunk2\": \"0.5 x 0.5 x 0.4 cm\", \"ner_chunk2_begin\": \"113\", \"ner_chunk2_end\": \"130\", \"ner_label2\": \"Measurements\", \"relations\": \"is_related\", \"relation_confidence\": \"1.0\"}, {\"ner_chunk1\": \"mass\", \"ner_chunk1_begin\": \"210\", \"ner_chunk1_end\": \"213\", \"ner_label1\": \"ImagingFindings\", \"ner_chunk2\": \"adjacent muscle\", \"ner_chunk2_begin\": \"257\", \"ner_chunk2_end\": \"271\", \"ner_label2\": \"BodyPart\", \"relations\": \"is_related\", \"relation_confidence\": \"0.9976392\"}, {\"ner_chunk1\": \"isoechoic echotexture\", \"ner_chunk1_begin\": \"228\", \"ner_chunk1_end\": \"248\", \"ner_label1\": \"ImagingFindings\", \"ner_chunk2\": \"adjacent muscle\", \"ner_chunk2_begin\": \"257\", \"ner_chunk2_end\": \"271\", \"ner_label2\": \"BodyPart\", \"relations\": \"is_related\", \"relation_confidence\": \"0.9999993\"}]}\n"
     ]
    }
   ],
   "source": [
    "process_s3_jsonlines_output_and_save(validation_jsonl_file_name)"
   ]
  },
  {
   "cell_type": "code",
   "execution_count": 24,
   "metadata": {
    "tags": []
   },
   "outputs": [
    {
     "name": "stderr",
     "output_type": "stream",
     "text": [
      "INFO:sagemaker:Deleting model with name: en-explain-doc-clinical-radiology-pipel-2024-08-21-11-07-13-857\n"
     ]
    }
   ],
   "source": [
    "model.delete_model()"
   ]
  },
  {
   "cell_type": "markdown",
   "metadata": {},
   "source": [
    "### Unsubscribe to the listing (optional)"
   ]
  },
  {
   "cell_type": "markdown",
   "metadata": {
    "tags": []
   },
   "source": [
    "If you would like to unsubscribe to the model package, follow these steps. Before you cancel the subscription, ensure that you do not have any [deployable model](https://console.aws.amazon.com/sagemaker/home#/models) created from the model package or using the algorithm. Note - You can find this information by looking at the container name associated with the model. \n",
    "\n",
    "**Steps to unsubscribe to product from AWS Marketplace**:\n",
    "1. Navigate to __Machine Learning__ tab on [__Your Software subscriptions page__](https://aws.amazon.com/marketplace/ai/library?productType=ml&ref_=mlmp_gitdemo_indust)\n",
    "2. Locate the listing that you want to cancel the subscription for, and then choose __Cancel Subscription__  to cancel the subscription.\n",
    "\n"
   ]
  }
 ],
 "metadata": {
  "instance_type": "ml.t3.medium",
  "kernelspec": {
   "display_name": "conda_python3",
   "language": "python",
   "name": "conda_python3"
  },
  "language_info": {
   "codemirror_mode": {
    "name": "ipython",
    "version": 3
   },
   "file_extension": ".py",
   "mimetype": "text/x-python",
   "name": "python",
   "nbconvert_exporter": "python",
   "pygments_lexer": "ipython3",
   "version": "3.10.14"
  }
 },
 "nbformat": 4,
 "nbformat_minor": 4
}

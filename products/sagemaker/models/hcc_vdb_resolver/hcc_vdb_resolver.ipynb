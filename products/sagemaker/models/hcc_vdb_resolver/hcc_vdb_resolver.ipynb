{
 "cells": [
  {
   "cell_type": "markdown",
   "metadata": {},
   "source": [
    "## 1. Subscribe to the model package"
   ]
  },
  {
   "cell_type": "markdown",
   "metadata": {},
   "source": [
    "To subscribe to the model package:\n",
    "1. Open the model package listing page <font color='red'> For Seller to update:[Title_of_your_product](Provide link to your marketplace listing of your product).</font>\n",
    "1. On the AWS Marketplace listing, click on the **Continue to subscribe** button.\n",
    "1. On the **Subscribe to this software** page, review and click on **\"Accept Offer\"** if you and your organization agrees with EULA, pricing, and support terms. \n",
    "1. Once you click on **Continue to configuration button** and then choose a **region**, you will see a **Product Arn** displayed. This is the model package ARN that you need to specify while creating a deployable model using Boto3. Copy the ARN corresponding to your region and specify the same in the following cell."
   ]
  },
  {
   "cell_type": "markdown",
   "metadata": {},
   "source": [
    "## Pipeline for Hierarchical Condition Categories (HCC) Sentence Entity Resolver\n",
    "\n",
    "- **Model**: `hcc_vdb_resolver`\n",
    "- **Model Description**: This pretrained pipeline extracts clinical entities from clinical text and maps them to their corresponding Hierarchical Condition Categories (HCC) codes."
   ]
  },
  {
   "cell_type": "code",
   "execution_count": 1,
   "metadata": {
    "tags": []
   },
   "outputs": [],
   "source": [
    "model_package_arn = \"<Customer to specify Model package ARN corresponding to their AWS region>\""
   ]
  },
  {
   "cell_type": "code",
   "execution_count": null,
   "metadata": {
    "tags": []
   },
   "outputs": [],
   "source": [
    "import base64\n",
    "import json\n",
    "import uuid\n",
    "from sagemaker import ModelPackage\n",
    "import sagemaker as sage\n",
    "from sagemaker import get_execution_role\n",
    "import boto3\n",
    "from IPython.display import Image, display\n",
    "from PIL import Image as ImageEdit\n",
    "import numpy as np"
   ]
  },
  {
   "cell_type": "code",
   "execution_count": null,
   "metadata": {
    "tags": []
   },
   "outputs": [],
   "source": [
    "sagemaker_session = sage.Session()\n",
    "s3_bucket = sagemaker_session.default_bucket()\n",
    "region = sagemaker_session.boto_region_name\n",
    "account_id = boto3.client(\"sts\").get_caller_identity().get(\"Account\")\n",
    "role = get_execution_role()\n",
    "\n",
    "sagemaker = boto3.client(\"sagemaker\")\n",
    "s3_client = sagemaker_session.boto_session.client(\"s3\")\n",
    "ecr = boto3.client(\"ecr\")\n",
    "sm_runtime = boto3.client(\"sagemaker-runtime\")"
   ]
  },
  {
   "cell_type": "code",
   "execution_count": 4,
   "metadata": {
    "tags": []
   },
   "outputs": [],
   "source": [
    "model_name = \"hcc-vdb-resolver\"\n",
    "\n",
    "real_time_inference_instance_type = \"ml.m4.xlarge\"\n",
    "batch_transform_inference_instance_type = \"ml.m4.2xlarge\"\n"
   ]
  },
  {
   "cell_type": "markdown",
   "metadata": {},
   "source": [
    "## 2. Create a deployable model from the model package."
   ]
  },
  {
   "cell_type": "code",
   "execution_count": 5,
   "metadata": {
    "tags": []
   },
   "outputs": [],
   "source": [
    "# create a deployable model from the model package.\n",
    "model = ModelPackage(\n",
    "    role=role, \n",
    "    model_package_arn=model_package_arn,\n",
    "    sagemaker_session=sagemaker_session,\n",
    ")\n"
   ]
  },
  {
   "cell_type": "markdown",
   "metadata": {},
   "source": [
    "### Input Format\n",
    "\n",
    "To use the model, you need to provide input in one of the following supported formats:\n",
    "\n",
    "#### JSON Format\n",
    "\n",
    "Provide input as JSON. We support two variations within this format:\n",
    "\n",
    "1. **Array of Text Documents**: \n",
    "   Use an array containing multiple text documents. Each element represents a separate text document.\n",
    "\n",
    "   ```json\n",
    "   {\n",
    "       \"text\": [\n",
    "           \"Text document 1\",\n",
    "           \"Text document 2\",\n",
    "           ...\n",
    "       ]\n",
    "   }\n",
    "\n",
    "    ```\n",
    "\n",
    "2. **Single Text Document**:\n",
    "   Provide a single text document as a string.\n",
    "\n",
    "\n",
    "   ```json\n",
    "    {\n",
    "        \"text\": \"Single text document\"\n",
    "    }\n",
    "   ```\n",
    "\n",
    "#### JSON Lines (JSONL) Format\n",
    "\n",
    "Provide input in JSON Lines format, where each line is a JSON object representing a text document.\n",
    "\n",
    "```\n",
    "{\"text\": \"Text document 1\"}\n",
    "{\"text\": \"Text document 2\"}\n",
    "```"
   ]
  },
  {
   "cell_type": "markdown",
   "metadata": {},
   "source": [
    "## 3. Create an endpoint and perform real-time inference"
   ]
  },
  {
   "cell_type": "markdown",
   "metadata": {},
   "source": [
    "If you want to understand how real-time inference with Amazon SageMaker works, see [Documentation](https://docs.aws.amazon.com/sagemaker/latest/dg/how-it-works-hosting.html)."
   ]
  },
  {
   "cell_type": "markdown",
   "metadata": {},
   "source": [
    "### A. Deploy the SageMaker model to an endpoint"
   ]
  },
  {
   "cell_type": "code",
   "execution_count": 6,
   "metadata": {
    "tags": []
   },
   "outputs": [
    {
     "data": {
      "text/html": [
       "<pre style=\"white-space:pre;overflow-x:auto;line-height:normal;font-family:Menlo,'DejaVu Sans Mono',consolas,'Courier New',monospace\"><span style=\"color: #7fbfbf; text-decoration-color: #7fbfbf\">[01/09/25 19:11:15] </span><span style=\"color: #0069ff; text-decoration-color: #0069ff; font-weight: bold\">INFO    </span> Creating model with name: hcc-vdb-resolver-<span style=\"color: #008080; text-decoration-color: #008080; font-weight: bold\">2025</span>-01-09-19-11-14-918     <a href=\"file:///home/ec2-user/anaconda3/envs/python3/lib/python3.10/site-packages/sagemaker/session.py\" target=\"_blank\"><span style=\"color: #7f7f7f; text-decoration-color: #7f7f7f\">session.py</span></a><span style=\"color: #7f7f7f; text-decoration-color: #7f7f7f\">:</span><a href=\"file:///home/ec2-user/anaconda3/envs/python3/lib/python3.10/site-packages/sagemaker/session.py#4094\" target=\"_blank\"><span style=\"color: #7f7f7f; text-decoration-color: #7f7f7f\">4094</span></a>\n",
       "</pre>\n"
      ],
      "text/plain": [
       "\u001b[2;36m[01/09/25 19:11:15]\u001b[0m\u001b[2;36m \u001b[0m\u001b[1;38;2;0;105;255mINFO    \u001b[0m Creating model with name: hcc-vdb-resolver-\u001b[1;36m2025\u001b[0m-01-09-19-11-14-918     \u001b]8;id=64870;file:///home/ec2-user/anaconda3/envs/python3/lib/python3.10/site-packages/sagemaker/session.py\u001b\\\u001b[2msession.py\u001b[0m\u001b]8;;\u001b\\\u001b[2m:\u001b[0m\u001b]8;id=379428;file:///home/ec2-user/anaconda3/envs/python3/lib/python3.10/site-packages/sagemaker/session.py#4094\u001b\\\u001b[2m4094\u001b[0m\u001b]8;;\u001b\\\n"
      ]
     },
     "metadata": {},
     "output_type": "display_data"
    },
    {
     "data": {
      "text/html": [
       "<pre style=\"white-space:pre;overflow-x:auto;line-height:normal;font-family:Menlo,'DejaVu Sans Mono',consolas,'Courier New',monospace\"><span style=\"color: #7fbfbf; text-decoration-color: #7fbfbf\">                    </span><span style=\"color: #0069ff; text-decoration-color: #0069ff; font-weight: bold\">INFO    </span> Creating endpoint-config with name hcc-vdb-resolver                    <a href=\"file:///home/ec2-user/anaconda3/envs/python3/lib/python3.10/site-packages/sagemaker/session.py\" target=\"_blank\"><span style=\"color: #7f7f7f; text-decoration-color: #7f7f7f\">session.py</span></a><span style=\"color: #7f7f7f; text-decoration-color: #7f7f7f\">:</span><a href=\"file:///home/ec2-user/anaconda3/envs/python3/lib/python3.10/site-packages/sagemaker/session.py#5889\" target=\"_blank\"><span style=\"color: #7f7f7f; text-decoration-color: #7f7f7f\">5889</span></a>\n",
       "</pre>\n"
      ],
      "text/plain": [
       "\u001b[2;36m                   \u001b[0m\u001b[2;36m \u001b[0m\u001b[1;38;2;0;105;255mINFO    \u001b[0m Creating endpoint-config with name hcc-vdb-resolver                    \u001b]8;id=855868;file:///home/ec2-user/anaconda3/envs/python3/lib/python3.10/site-packages/sagemaker/session.py\u001b\\\u001b[2msession.py\u001b[0m\u001b]8;;\u001b\\\u001b[2m:\u001b[0m\u001b]8;id=154212;file:///home/ec2-user/anaconda3/envs/python3/lib/python3.10/site-packages/sagemaker/session.py#5889\u001b\\\u001b[2m5889\u001b[0m\u001b]8;;\u001b\\\n"
      ]
     },
     "metadata": {},
     "output_type": "display_data"
    },
    {
     "data": {
      "text/html": [
       "<pre style=\"white-space:pre;overflow-x:auto;line-height:normal;font-family:Menlo,'DejaVu Sans Mono',consolas,'Courier New',monospace\"><span style=\"color: #7fbfbf; text-decoration-color: #7fbfbf\">[01/09/25 19:11:16] </span><span style=\"color: #0069ff; text-decoration-color: #0069ff; font-weight: bold\">INFO    </span> Creating endpoint with name hcc-vdb-resolver                           <a href=\"file:///home/ec2-user/anaconda3/envs/python3/lib/python3.10/site-packages/sagemaker/session.py\" target=\"_blank\"><span style=\"color: #7f7f7f; text-decoration-color: #7f7f7f\">session.py</span></a><span style=\"color: #7f7f7f; text-decoration-color: #7f7f7f\">:</span><a href=\"file:///home/ec2-user/anaconda3/envs/python3/lib/python3.10/site-packages/sagemaker/session.py#4711\" target=\"_blank\"><span style=\"color: #7f7f7f; text-decoration-color: #7f7f7f\">4711</span></a>\n",
       "</pre>\n"
      ],
      "text/plain": [
       "\u001b[2;36m[01/09/25 19:11:16]\u001b[0m\u001b[2;36m \u001b[0m\u001b[1;38;2;0;105;255mINFO    \u001b[0m Creating endpoint with name hcc-vdb-resolver                           \u001b]8;id=775683;file:///home/ec2-user/anaconda3/envs/python3/lib/python3.10/site-packages/sagemaker/session.py\u001b\\\u001b[2msession.py\u001b[0m\u001b]8;;\u001b\\\u001b[2m:\u001b[0m\u001b]8;id=389463;file:///home/ec2-user/anaconda3/envs/python3/lib/python3.10/site-packages/sagemaker/session.py#4711\u001b\\\u001b[2m4711\u001b[0m\u001b]8;;\u001b\\\n"
      ]
     },
     "metadata": {},
     "output_type": "display_data"
    },
    {
     "name": "stdout",
     "output_type": "stream",
     "text": [
      "------------!"
     ]
    }
   ],
   "source": [
    "# Deploy the model\n",
    "predictor = model.deploy(\n",
    "    initial_instance_count=1,\n",
    "    instance_type=real_time_inference_instance_type, \n",
    "    endpoint_name=model_name,\n",
    ")"
   ]
  },
  {
   "cell_type": "markdown",
   "metadata": {},
   "source": [
    "Once endpoint has been created, you would be able to perform real-time inference."
   ]
  },
  {
   "cell_type": "code",
   "execution_count": 7,
   "metadata": {
    "tags": []
   },
   "outputs": [],
   "source": [
    "import json\n",
    "import pandas as pd\n",
    "import os\n",
    "import boto3\n",
    "\n",
    "# Set display options\n",
    "pd.set_option('display.max_rows', None)\n",
    "pd.set_option('display.max_columns', None)\n",
    "pd.set_option('display.max_colwidth', None)\n",
    "\n",
    "\n",
    "def process_data_and_invoke_realtime_endpoint(data, content_type, accept):\n",
    "\n",
    "    content_type_to_format = {'application/json': 'json', 'application/jsonlines': 'jsonl'}\n",
    "    input_format = content_type_to_format.get(content_type)\n",
    "    if content_type not in content_type_to_format.keys() or accept not in content_type_to_format.keys():\n",
    "        raise ValueError(\"Invalid content_type or accept. It should be either 'application/json' or 'application/jsonlines'.\")\n",
    "\n",
    "    i = 1\n",
    "    input_dir = f'inputs/real-time/{input_format}'\n",
    "    output_dir = f'outputs/real-time/{input_format}'\n",
    "    s3_input_dir = f\"{model_name}/validation-input/real-time/{input_format}\"\n",
    "    s3_output_dir = f\"{model_name}/validation-output/real-time/{input_format}\"\n",
    "\n",
    "    input_file_name = f'{input_dir}/input{i}.{input_format}'\n",
    "    output_file_name = f'{output_dir}/{os.path.basename(input_file_name)}.out'\n",
    "\n",
    "    while os.path.exists(input_file_name) or os.path.exists(output_file_name):\n",
    "        i += 1\n",
    "        input_file_name = f'{input_dir}/input{i}.{input_format}'\n",
    "        output_file_name = f'{output_dir}/{os.path.basename(input_file_name)}.out'\n",
    "\n",
    "    os.makedirs(os.path.dirname(input_file_name), exist_ok=True)\n",
    "    os.makedirs(os.path.dirname(output_file_name), exist_ok=True)\n",
    "\n",
    "    input_data = json.dumps(data) if content_type == 'application/json' else data\n",
    "\n",
    "    # Write input data to file\n",
    "    with open(input_file_name, 'w') as f:\n",
    "        f.write(input_data)\n",
    "\n",
    "    # Upload input data to S3\n",
    "    s3_client.put_object(Bucket=s3_bucket, Key=f\"{s3_input_dir}/{os.path.basename(input_file_name)}\", Body=bytes(input_data.encode('UTF-8')))\n",
    "\n",
    "    # Invoke the SageMaker endpoint\n",
    "    response = sm_runtime.invoke_endpoint(\n",
    "        EndpointName=model_name,\n",
    "        ContentType=content_type,\n",
    "        Accept=accept,\n",
    "        Body=input_data,\n",
    "    )\n",
    "\n",
    "    # Read response data\n",
    "    response_data = json.loads(response[\"Body\"].read().decode(\"utf-8\")) if accept == 'application/json' else response['Body'].read().decode('utf-8')\n",
    "\n",
    "    # Save response data to file\n",
    "    with open(output_file_name, 'w') as f_out:\n",
    "        if accept == 'application/json':\n",
    "            json.dump(response_data, f_out, indent=4)\n",
    "        else:\n",
    "            for item in response_data.split('\\n'):\n",
    "                f_out.write(item + '\\n')\n",
    "\n",
    "    # Upload response data to S3\n",
    "    output_s3_key = f\"{s3_output_dir}/{os.path.basename(output_file_name)}\"\n",
    "    if accept == 'application/json':\n",
    "        s3_client.put_object(Bucket=s3_bucket, Key=output_s3_key, Body=json.dumps(response_data).encode('UTF-8'))\n",
    "    else:\n",
    "        s3_client.put_object(Bucket=s3_bucket, Key=output_s3_key, Body=response_data)\n",
    "\n",
    "    return response_data"
   ]
  },
  {
   "cell_type": "markdown",
   "metadata": {},
   "source": [
    "### Initial Setup"
   ]
  },
  {
   "cell_type": "code",
   "execution_count": 8,
   "metadata": {
    "tags": []
   },
   "outputs": [],
   "source": [
    "docs = [\n",
    "    \"\"\"The patient presents with a history of Hypertension and Hyperlipidemia, which have been managed with medication. Recent lab results indicate elevated cholesterol levels, and the patient reports occasional chest pain.\"\"\", \n",
    "    \"\"\"Upon examination, the patient was found to have signs of Congestive Heart Failure and Atrial Fibrillation. The patient's condition requires immediate attention and an adjustment of their current treatment plan.\"\"\",\n",
    "]\n",
    "\n",
    "\n",
    "\n",
    "sample_text = \"\"\"The medical record of the patient indicates a diagnosis of Diabetes and Chronic Obstructive Pulmonary Disease, requiring comprehensive care and management.\"\"\""
   ]
  },
  {
   "cell_type": "markdown",
   "metadata": {},
   "source": [
    "### JSON"
   ]
  },
  {
   "cell_type": "code",
   "execution_count": 9,
   "metadata": {
    "tags": []
   },
   "outputs": [
    {
     "data": {
      "text/html": [
       "<div>\n",
       "<style scoped>\n",
       "    .dataframe tbody tr th:only-of-type {\n",
       "        vertical-align: middle;\n",
       "    }\n",
       "\n",
       "    .dataframe tbody tr th {\n",
       "        vertical-align: top;\n",
       "    }\n",
       "\n",
       "    .dataframe thead th {\n",
       "        text-align: right;\n",
       "    }\n",
       "</style>\n",
       "<table border=\"1\" class=\"dataframe\">\n",
       "  <thead>\n",
       "    <tr style=\"text-align: right;\">\n",
       "      <th></th>\n",
       "      <th>begin</th>\n",
       "      <th>end</th>\n",
       "      <th>ner_chunk</th>\n",
       "      <th>ner_label</th>\n",
       "      <th>ner_confidence</th>\n",
       "      <th>concept_code</th>\n",
       "      <th>resolution</th>\n",
       "      <th>score</th>\n",
       "      <th>all_codes</th>\n",
       "      <th>concept_name_detailed</th>\n",
       "      <th>all_resolutions</th>\n",
       "      <th>all_score</th>\n",
       "    </tr>\n",
       "  </thead>\n",
       "  <tbody>\n",
       "    <tr>\n",
       "      <th>0</th>\n",
       "      <td>59</td>\n",
       "      <td>66</td>\n",
       "      <td>Diabetes</td>\n",
       "      <td>PROBLEM</td>\n",
       "      <td>0.9878</td>\n",
       "      <td>19</td>\n",
       "      <td>diabetes mellitus (disorder)</td>\n",
       "      <td>0.839343</td>\n",
       "      <td>[19, 19, 0, 19, 0]</td>\n",
       "      <td>[diabetes mellitus (disorder) [type 2 diabetes mellitus without complications], diabetes mellitus [type 1 diabetes mellitus without complications], renal diabetes (disorder) [other specified diabetes mellitus with kidney complications], type i diabetes mellitus [type 1 diabetes mellitus without complications], type 1 diabetes mellitus [type 1 diabetes mellitus]]</td>\n",
       "      <td>[diabetes mellitus (disorder), diabetes mellitus, renal diabetes (disorder), type i diabetes mellitus, type 1 diabetes mellitus]</td>\n",
       "      <td>[0.8393428325653076, 0.8375614881515503, 0.8063362836837769, 0.7999697923660278, 0.7912539839744568]</td>\n",
       "    </tr>\n",
       "    <tr>\n",
       "      <th>1</th>\n",
       "      <td>72</td>\n",
       "      <td>108</td>\n",
       "      <td>Chronic Obstructive Pulmonary Disease</td>\n",
       "      <td>PROBLEM</td>\n",
       "      <td>0.947025</td>\n",
       "      <td>111</td>\n",
       "      <td>chronic obstructive pulmonary disease</td>\n",
       "      <td>1.000000</td>\n",
       "      <td>[111, 111, 111, 111, 111]</td>\n",
       "      <td>[chronic obstructive pulmonary disease [chronic obstructive pulmonary disease, unspecified], chronic obstructive lung disease [chronic obstructive pulmonary disease, unspecified], copd - chronic obstructive pulmonary disease [chronic obstructive pulmonary disease, unspecified], chronic obstructive lung disease (disorder) [chronic obstructive pulmonary disease, unspecified], chronic obstructive airway disease [chronic obstructive pulmonary disease, unspecified]]</td>\n",
       "      <td>[chronic obstructive pulmonary disease, chronic obstructive lung disease, copd - chronic obstructive pulmonary disease, chronic obstructive lung disease (disorder), chronic obstructive airway disease]</td>\n",
       "      <td>[0.9999998807907104, 0.9534466862678528, 0.9277709126472473, 0.9195234179496765, 0.8972678780555725]</td>\n",
       "    </tr>\n",
       "  </tbody>\n",
       "</table>\n",
       "</div>"
      ],
      "text/plain": [
       "   begin  end                              ner_chunk ner_label ner_confidence  \\\n",
       "0     59   66                               Diabetes   PROBLEM         0.9878   \n",
       "1     72  108  Chronic Obstructive Pulmonary Disease   PROBLEM       0.947025   \n",
       "\n",
       "  concept_code                             resolution     score  \\\n",
       "0           19           diabetes mellitus (disorder)  0.839343   \n",
       "1          111  chronic obstructive pulmonary disease  1.000000   \n",
       "\n",
       "                   all_codes  \\\n",
       "0         [19, 19, 0, 19, 0]   \n",
       "1  [111, 111, 111, 111, 111]   \n",
       "\n",
       "                                                                                                                                                                                                                                                                                                                                                                                                                                                               concept_name_detailed  \\\n",
       "0                                                                                                       [diabetes mellitus (disorder) [type 2 diabetes mellitus without complications], diabetes mellitus [type 1 diabetes mellitus without complications], renal diabetes (disorder) [other specified diabetes mellitus with kidney complications], type i diabetes mellitus [type 1 diabetes mellitus without complications], type 1 diabetes mellitus [type 1 diabetes mellitus]]   \n",
       "1  [chronic obstructive pulmonary disease [chronic obstructive pulmonary disease, unspecified], chronic obstructive lung disease [chronic obstructive pulmonary disease, unspecified], copd - chronic obstructive pulmonary disease [chronic obstructive pulmonary disease, unspecified], chronic obstructive lung disease (disorder) [chronic obstructive pulmonary disease, unspecified], chronic obstructive airway disease [chronic obstructive pulmonary disease, unspecified]]   \n",
       "\n",
       "                                                                                                                                                                                            all_resolutions  \\\n",
       "0                                                                          [diabetes mellitus (disorder), diabetes mellitus, renal diabetes (disorder), type i diabetes mellitus, type 1 diabetes mellitus]   \n",
       "1  [chronic obstructive pulmonary disease, chronic obstructive lung disease, copd - chronic obstructive pulmonary disease, chronic obstructive lung disease (disorder), chronic obstructive airway disease]   \n",
       "\n",
       "                                                                                              all_score  \n",
       "0  [0.8393428325653076, 0.8375614881515503, 0.8063362836837769, 0.7999697923660278, 0.7912539839744568]  \n",
       "1  [0.9999998807907104, 0.9534466862678528, 0.9277709126472473, 0.9195234179496765, 0.8972678780555725]  "
      ]
     },
     "execution_count": 9,
     "metadata": {},
     "output_type": "execute_result"
    }
   ],
   "source": [
    "input_json_data = {\"text\": sample_text}\n",
    "data =  process_data_and_invoke_realtime_endpoint(input_json_data, content_type=\"application/json\" , accept=\"application/json\" )\n",
    "pd.DataFrame(data[\"predictions\"][0])"
   ]
  },
  {
   "cell_type": "markdown",
   "metadata": {},
   "source": [
    "### JSON Lines"
   ]
  },
  {
   "cell_type": "code",
   "execution_count": 10,
   "metadata": {
    "tags": []
   },
   "outputs": [],
   "source": [
    "import json\n",
    "\n",
    "def create_jsonl(records):\n",
    "\n",
    "    if isinstance(records, str):\n",
    "        records = [records]\n",
    "\n",
    "    json_records = []\n",
    "\n",
    "    for text in records:\n",
    "        record = {\n",
    "            \"text\": text\n",
    "        }\n",
    "        json_records.append(record)\n",
    "\n",
    "    json_lines = '\\n'.join(json.dumps(record) for record in json_records)\n",
    "\n",
    "    return json_lines"
   ]
  },
  {
   "cell_type": "code",
   "execution_count": 11,
   "metadata": {
    "tags": []
   },
   "outputs": [
    {
     "name": "stdout",
     "output_type": "stream",
     "text": [
      "{\"predictions\": [{\"begin\": 59, \"end\": 66, \"ner_chunk\": \"Diabetes\", \"ner_label\": \"PROBLEM\", \"ner_confidence\": \"0.9878\", \"concept_code\": \"19\", \"resolution\": \"diabetes mellitus (disorder)\", \"score\": 0.8393428325653076, \"all_codes\": [\"19\", \"19\", \"0\", \"19\", \"0\"], \"concept_name_detailed\": [\"diabetes mellitus (disorder) [type 2 diabetes mellitus without complications]\", \"diabetes mellitus [type 1 diabetes mellitus without complications]\", \"renal diabetes (disorder) [other specified diabetes mellitus with kidney complications]\", \"type i diabetes mellitus [type 1 diabetes mellitus without complications]\", \"type 1 diabetes mellitus [type 1 diabetes mellitus]\"], \"all_resolutions\": [\"diabetes mellitus (disorder)\", \"diabetes mellitus\", \"renal diabetes (disorder)\", \"type i diabetes mellitus\", \"type 1 diabetes mellitus\"], \"all_score\": [0.8393428325653076, 0.8375614881515503, 0.8063362836837769, 0.7999697923660278, 0.7912539839744568]}, {\"begin\": 72, \"end\": 108, \"ner_chunk\": \"Chronic Obstructive Pulmonary Disease\", \"ner_label\": \"PROBLEM\", \"ner_confidence\": \"0.947025\", \"concept_code\": \"111\", \"resolution\": \"chronic obstructive pulmonary disease\", \"score\": 0.9999998807907104, \"all_codes\": [\"111\", \"111\", \"111\", \"111\", \"111\"], \"concept_name_detailed\": [\"chronic obstructive pulmonary disease [chronic obstructive pulmonary disease, unspecified]\", \"chronic obstructive lung disease [chronic obstructive pulmonary disease, unspecified]\", \"copd - chronic obstructive pulmonary disease [chronic obstructive pulmonary disease, unspecified]\", \"chronic obstructive lung disease (disorder) [chronic obstructive pulmonary disease, unspecified]\", \"chronic obstructive airway disease [chronic obstructive pulmonary disease, unspecified]\"], \"all_resolutions\": [\"chronic obstructive pulmonary disease\", \"chronic obstructive lung disease\", \"copd - chronic obstructive pulmonary disease\", \"chronic obstructive lung disease (disorder)\", \"chronic obstructive airway disease\"], \"all_score\": [0.9999998807907104, 0.9534466862678528, 0.9277709126472473, 0.9195234179496765, 0.8972678780555725]}]}\n"
     ]
    }
   ],
   "source": [
    "input_jsonl_data = create_jsonl(sample_text)\n",
    "data = process_data_and_invoke_realtime_endpoint(input_jsonl_data, content_type=\"application/jsonlines\" , accept=\"application/jsonlines\" )\n",
    "print(data)"
   ]
  },
  {
   "cell_type": "markdown",
   "metadata": {},
   "source": [
    "### B. Delete the endpoint"
   ]
  },
  {
   "cell_type": "markdown",
   "metadata": {},
   "source": [
    "Now that you have successfully performed a real-time inference, you do not need the endpoint any more. You can terminate the endpoint to avoid being charged."
   ]
  },
  {
   "cell_type": "code",
   "execution_count": 12,
   "metadata": {
    "tags": []
   },
   "outputs": [
    {
     "data": {
      "text/html": [
       "<pre style=\"white-space:pre;overflow-x:auto;line-height:normal;font-family:Menlo,'DejaVu Sans Mono',consolas,'Courier New',monospace\"><span style=\"color: #7fbfbf; text-decoration-color: #7fbfbf\">[01/09/25 19:18:15] </span><span style=\"color: #0069ff; text-decoration-color: #0069ff; font-weight: bold\">INFO    </span> Deleting endpoint with name: hcc-vdb-resolver                          <a href=\"file:///home/ec2-user/anaconda3/envs/python3/lib/python3.10/site-packages/sagemaker/session.py\" target=\"_blank\"><span style=\"color: #7f7f7f; text-decoration-color: #7f7f7f\">session.py</span></a><span style=\"color: #7f7f7f; text-decoration-color: #7f7f7f\">:</span><a href=\"file:///home/ec2-user/anaconda3/envs/python3/lib/python3.10/site-packages/sagemaker/session.py#4855\" target=\"_blank\"><span style=\"color: #7f7f7f; text-decoration-color: #7f7f7f\">4855</span></a>\n",
       "</pre>\n"
      ],
      "text/plain": [
       "\u001b[2;36m[01/09/25 19:18:15]\u001b[0m\u001b[2;36m \u001b[0m\u001b[1;38;2;0;105;255mINFO    \u001b[0m Deleting endpoint with name: hcc-vdb-resolver                          \u001b]8;id=479184;file:///home/ec2-user/anaconda3/envs/python3/lib/python3.10/site-packages/sagemaker/session.py\u001b\\\u001b[2msession.py\u001b[0m\u001b]8;;\u001b\\\u001b[2m:\u001b[0m\u001b]8;id=55376;file:///home/ec2-user/anaconda3/envs/python3/lib/python3.10/site-packages/sagemaker/session.py#4855\u001b\\\u001b[2m4855\u001b[0m\u001b]8;;\u001b\\\n"
      ]
     },
     "metadata": {},
     "output_type": "display_data"
    },
    {
     "data": {
      "text/html": [
       "<pre style=\"white-space:pre;overflow-x:auto;line-height:normal;font-family:Menlo,'DejaVu Sans Mono',consolas,'Courier New',monospace\"><span style=\"color: #7fbfbf; text-decoration-color: #7fbfbf\">                    </span><span style=\"color: #0069ff; text-decoration-color: #0069ff; font-weight: bold\">INFO    </span> Deleting endpoint configuration with name: hcc-vdb-resolver            <a href=\"file:///home/ec2-user/anaconda3/envs/python3/lib/python3.10/site-packages/sagemaker/session.py\" target=\"_blank\"><span style=\"color: #7f7f7f; text-decoration-color: #7f7f7f\">session.py</span></a><span style=\"color: #7f7f7f; text-decoration-color: #7f7f7f\">:</span><a href=\"file:///home/ec2-user/anaconda3/envs/python3/lib/python3.10/site-packages/sagemaker/session.py#4865\" target=\"_blank\"><span style=\"color: #7f7f7f; text-decoration-color: #7f7f7f\">4865</span></a>\n",
       "</pre>\n"
      ],
      "text/plain": [
       "\u001b[2;36m                   \u001b[0m\u001b[2;36m \u001b[0m\u001b[1;38;2;0;105;255mINFO    \u001b[0m Deleting endpoint configuration with name: hcc-vdb-resolver            \u001b]8;id=627051;file:///home/ec2-user/anaconda3/envs/python3/lib/python3.10/site-packages/sagemaker/session.py\u001b\\\u001b[2msession.py\u001b[0m\u001b]8;;\u001b\\\u001b[2m:\u001b[0m\u001b]8;id=992072;file:///home/ec2-user/anaconda3/envs/python3/lib/python3.10/site-packages/sagemaker/session.py#4865\u001b\\\u001b[2m4865\u001b[0m\u001b]8;;\u001b\\\n"
      ]
     },
     "metadata": {},
     "output_type": "display_data"
    }
   ],
   "source": [
    "model.sagemaker_session.delete_endpoint(model_name)\n",
    "model.sagemaker_session.delete_endpoint_config(model_name)"
   ]
  },
  {
   "cell_type": "markdown",
   "metadata": {
    "tags": []
   },
   "source": [
    "## 4. Batch inference"
   ]
  },
  {
   "cell_type": "code",
   "execution_count": 13,
   "metadata": {
    "tags": []
   },
   "outputs": [],
   "source": [
    "import json\n",
    "import os\n",
    "\n",
    "input_dir = 'inputs/batch'\n",
    "json_input_dir = f\"{input_dir}/json\"\n",
    "jsonl_input_dir = f\"{input_dir}/jsonl\"\n",
    "\n",
    "output_dir = 'outputs/batch'\n",
    "json_output_dir = f\"{output_dir}/json\"\n",
    "jsonl_output_dir = f\"{output_dir}/jsonl\"\n",
    "\n",
    "os.makedirs(json_input_dir, exist_ok=True)\n",
    "os.makedirs(jsonl_input_dir, exist_ok=True)\n",
    "os.makedirs(json_output_dir, exist_ok=True)\n",
    "os.makedirs(jsonl_output_dir, exist_ok=True)\n",
    "\n",
    "validation_json_file_name = \"input.json\"\n",
    "\n",
    "validation_jsonl_file_name = \"input.jsonl\"\n",
    "\n",
    "validation_input_json_path = f\"s3://{s3_bucket}/{model_name}/validation-input/batch/json/\"\n",
    "validation_output_json_path = f\"s3://{s3_bucket}/{model_name}/validation-output/batch/json/\"\n",
    "\n",
    "validation_input_jsonl_path = f\"s3://{s3_bucket}/{model_name}/validation-input/batch/jsonl/\"\n",
    "validation_output_jsonl_path = f\"s3://{s3_bucket}/{model_name}/validation-output/batch/jsonl/\"\n",
    "\n",
    "def write_and_upload_to_s3(input_data, file_name):\n",
    "    file_format = os.path.splitext(file_name)[1].lower()\n",
    "    if file_format == \".json\":\n",
    "        input_data = json.dumps(input_data)\n",
    "\n",
    "    with open(file_name, \"w\") as f:\n",
    "        f.write(input_data)\n",
    "\n",
    "    s3_client.put_object(\n",
    "        Bucket=s3_bucket,\n",
    "        Key=f\"{model_name}/validation-input/batch/{file_format[1:]}/{os.path.basename(file_name)}\",\n",
    "        Body=(bytes(input_data.encode(\"UTF-8\"))),\n",
    "    )"
   ]
  },
  {
   "cell_type": "code",
   "execution_count": 14,
   "metadata": {
    "tags": []
   },
   "outputs": [],
   "source": [
    "input_jsonl_data = create_jsonl(docs)\n",
    "input_json_data = {\"text\": docs}\n",
    "\n",
    "write_and_upload_to_s3(input_json_data, f\"{json_input_dir}/{validation_json_file_name}\")\n",
    "\n",
    "write_and_upload_to_s3(input_jsonl_data, f\"{jsonl_input_dir}/{validation_jsonl_file_name}\")"
   ]
  },
  {
   "cell_type": "markdown",
   "metadata": {},
   "source": [
    "### JSON"
   ]
  },
  {
   "cell_type": "code",
   "execution_count": null,
   "metadata": {
    "tags": []
   },
   "outputs": [],
   "source": [
    "# Initialize a SageMaker Transformer object for making predictions\n",
    "transformer = model.transformer(\n",
    "    instance_count=1,\n",
    "    instance_type=batch_transform_inference_instance_type,\n",
    "    accept=\"application/json\",\n",
    "    output_path=validation_output_json_path\n",
    ")\n",
    "\n",
    "transformer.transform(validation_input_json_path, content_type=\"application/json\")\n",
    "transformer.wait()"
   ]
  },
  {
   "cell_type": "code",
   "execution_count": 16,
   "metadata": {
    "tags": []
   },
   "outputs": [],
   "source": [
    "from urllib.parse import urlparse\n",
    "\n",
    "def process_s3_json_output_and_save(validation_file_name):\n",
    "\n",
    "    output_file_path = f\"{json_output_dir}/{validation_file_name}.out\"\n",
    "    parsed_url = urlparse(transformer.output_path)\n",
    "    file_key = f\"{parsed_url.path[1:]}{validation_file_name}.out\"\n",
    "    response = s3_client.get_object(Bucket=s3_bucket, Key=file_key)\n",
    "\n",
    "    data = json.loads(response[\"Body\"].read().decode(\"utf-8\"))\n",
    "    display(data)\n",
    "\n",
    "    # Save the data to the output file\n",
    "    with open(output_file_path, 'w') as f_out:\n",
    "        json.dump(data, f_out, indent=4)"
   ]
  },
  {
   "cell_type": "code",
   "execution_count": 17,
   "metadata": {
    "tags": []
   },
   "outputs": [
    {
     "data": {
      "text/plain": [
       "{'predictions': [[{'begin': 39,\n",
       "    'end': 50,\n",
       "    'ner_chunk': 'Hypertension',\n",
       "    'ner_label': 'PROBLEM',\n",
       "    'ner_confidence': '0.9841',\n",
       "    'concept_code': '0',\n",
       "    'resolution': 'hypertension',\n",
       "    'score': 0.9999997615814209,\n",
       "    'all_codes': ['0', '0', '0', '0', '0'],\n",
       "    'concept_name_detailed': ['hypertension [essential (primary) hypertension]',\n",
       "     'renal hypertension [chronic kidney disease, unspecified]',\n",
       "     'high blood pressure [neonatal hypertension]',\n",
       "     'systolic hypertension [neonatal hypertension]',\n",
       "     'diastolic hypertension [neonatal hypertension]'],\n",
       "    'all_resolutions': ['hypertension',\n",
       "     'renal hypertension',\n",
       "     'high blood pressure',\n",
       "     'systolic hypertension',\n",
       "     'diastolic hypertension'],\n",
       "    'all_score': [0.9999997615814209,\n",
       "     0.8857569694519043,\n",
       "     0.8678925037384033,\n",
       "     0.8500458002090454,\n",
       "     0.8453720808029175]},\n",
       "   {'begin': 56,\n",
       "    'end': 69,\n",
       "    'ner_chunk': 'Hyperlipidemia',\n",
       "    'ner_label': 'PROBLEM',\n",
       "    'ner_confidence': '0.9989',\n",
       "    'concept_code': '0',\n",
       "    'resolution': 'hyperlipidemia',\n",
       "    'score': 0.9999998211860657,\n",
       "    'all_codes': ['0', '0', '0', '0', '0'],\n",
       "    'concept_name_detailed': ['hyperlipidemia [hyperlipidemia, unspecified]',\n",
       "     'hyperlipidaemia [hyperlipidemia, unspecified]',\n",
       "     'hyperlipidemia (disorder) [hyperlipidemia, unspecified]',\n",
       "     'hyperlipoproteinaemia [hyperchylomicronemia]',\n",
       "     'hyperlipoproteinemia [pure hyperglyceridemia]'],\n",
       "    'all_resolutions': ['hyperlipidemia',\n",
       "     'hyperlipidaemia',\n",
       "     'hyperlipidemia (disorder)',\n",
       "     'hyperlipoproteinaemia',\n",
       "     'hyperlipoproteinemia'],\n",
       "    'all_score': [0.9999998211860657,\n",
       "     0.968390166759491,\n",
       "     0.9501307606697083,\n",
       "     0.9239193201065063,\n",
       "     0.9077457189559937]},\n",
       "   {'begin': 141,\n",
       "    'end': 167,\n",
       "    'ner_chunk': 'elevated cholesterol levels',\n",
       "    'ner_label': 'PROBLEM',\n",
       "    'ner_confidence': '0.89603335',\n",
       "    'concept_code': '0',\n",
       "    'resolution': 'cholesterol level',\n",
       "    'score': 0.8638345003128052,\n",
       "    'all_codes': ['0', '0', '0', '0', '0'],\n",
       "    'concept_name_detailed': ['cholesterol level [other specified abnormal findings of blood chemistry]',\n",
       "     'high cholesterol [pure hypercholesterolemia, unspecified]',\n",
       "     'elevated cholesterol/high density lipoprotein ratio [other abnormal findings in specimens from other organs, systems and tissues]',\n",
       "     'serum cholesterol raised [abnormal levels of other serum enzymes]',\n",
       "     'serum cholesterol borderline high [abnormal levels of other serum enzymes]'],\n",
       "    'all_resolutions': ['cholesterol level',\n",
       "     'high cholesterol',\n",
       "     'elevated cholesterol/high density lipoprotein ratio',\n",
       "     'serum cholesterol raised',\n",
       "     'serum cholesterol borderline high'],\n",
       "    'all_score': [0.8638345003128052,\n",
       "     0.854857861995697,\n",
       "     0.8448539972305298,\n",
       "     0.8397883176803589,\n",
       "     0.8323005437850952]},\n",
       "   {'begin': 194,\n",
       "    'end': 214,\n",
       "    'ner_chunk': 'occasional chest pain',\n",
       "    'ner_label': 'PROBLEM',\n",
       "    'ner_confidence': '0.95759994',\n",
       "    'concept_code': '0',\n",
       "    'resolution': 'localized chest pain',\n",
       "    'score': 0.8293677568435669,\n",
       "    'all_codes': ['0', '0', '0', '0', '0'],\n",
       "    'concept_name_detailed': ['localized chest pain [pain, unspecified]',\n",
       "     'noncardiac chest pain [other chest pain]',\n",
       "     'chest pain at rest [other chest pain]',\n",
       "     'chest pain, unspecified [chest pain, unspecified]',\n",
       "     'squeezing chest pain [chest pain, unspecified]'],\n",
       "    'all_resolutions': ['localized chest pain',\n",
       "     'noncardiac chest pain',\n",
       "     'chest pain at rest',\n",
       "     'chest pain, unspecified',\n",
       "     'squeezing chest pain'],\n",
       "    'all_score': [0.8293677568435669,\n",
       "     0.8272527456283569,\n",
       "     0.8247550129890442,\n",
       "     0.8176379203796387,\n",
       "     0.8141460418701172]}],\n",
       "  [{'begin': 57,\n",
       "    'end': 80,\n",
       "    'ner_chunk': 'Congestive Heart Failure',\n",
       "    'ner_label': 'PROBLEM',\n",
       "    'ner_confidence': '0.9709',\n",
       "    'concept_code': '0',\n",
       "    'resolution': 'congestive cardiac failure',\n",
       "    'score': 0.9794394969940186,\n",
       "    'all_codes': ['0', '0', '85', '85', '0'],\n",
       "    'concept_name_detailed': ['congestive cardiac failure [neonatal cardiac failure]',\n",
       "     'congestive heart failure (disorder) [neonatal cardiac failure]',\n",
       "     'chf - congestive heart failure [heart failure, unspecified]',\n",
       "     'acute congestive heart failure [left ventricular failure, unspecified]',\n",
       "     'chronic congestive heart failure [right heart failure]'],\n",
       "    'all_resolutions': ['congestive cardiac failure',\n",
       "     'congestive heart failure (disorder)',\n",
       "     'chf - congestive heart failure',\n",
       "     'acute congestive heart failure',\n",
       "     'chronic congestive heart failure'],\n",
       "    'all_score': [0.9794394969940186,\n",
       "     0.9403666257858276,\n",
       "     0.9068804979324341,\n",
       "     0.9050819873809814,\n",
       "     0.8952462077140808]},\n",
       "   {'begin': 86,\n",
       "    'end': 104,\n",
       "    'ner_chunk': 'Atrial Fibrillation',\n",
       "    'ner_label': 'PROBLEM',\n",
       "    'ner_confidence': '0.99665',\n",
       "    'concept_code': '0',\n",
       "    'resolution': 'atrial fibrillation',\n",
       "    'score': 1.0,\n",
       "    'all_codes': ['0', '0', '0', '0', '0'],\n",
       "    'concept_name_detailed': ['atrial fibrillation [unspecified atrial fibrillation and atrial flutter]',\n",
       "     'chronic atrial fibrillation [chronic atrial fibrillation]',\n",
       "     'atrial fibrillation (disorder) [unspecified atrial fibrillation and atrial flutter]',\n",
       "     'af - atrial fibrillation [unspecified atrial fibrillation and atrial flutter]',\n",
       "     'electrocardiographic atrial fibrillation [abnormal electrocardiogram [ecg] [ekg]]'],\n",
       "    'all_resolutions': ['atrial fibrillation',\n",
       "     'chronic atrial fibrillation',\n",
       "     'atrial fibrillation (disorder)',\n",
       "     'af - atrial fibrillation',\n",
       "     'electrocardiographic atrial fibrillation'],\n",
       "    'all_score': [1.0,\n",
       "     0.9103990793228149,\n",
       "     0.8994640111923218,\n",
       "     0.8872871994972229,\n",
       "     0.8852158188819885]}]]}"
      ]
     },
     "metadata": {},
     "output_type": "display_data"
    }
   ],
   "source": [
    "process_s3_json_output_and_save(validation_json_file_name)"
   ]
  },
  {
   "cell_type": "markdown",
   "metadata": {},
   "source": [
    "### JSON Lines"
   ]
  },
  {
   "cell_type": "code",
   "execution_count": null,
   "metadata": {
    "tags": []
   },
   "outputs": [],
   "source": [
    "transformer = model.transformer(\n",
    "    instance_count=1,\n",
    "    instance_type=batch_transform_inference_instance_type,\n",
    "    accept=\"application/jsonlines\",\n",
    "    output_path=validation_output_jsonl_path\n",
    ")\n",
    "transformer.transform(validation_input_jsonl_path, content_type=\"application/jsonlines\")\n",
    "transformer.wait()"
   ]
  },
  {
   "cell_type": "code",
   "execution_count": 19,
   "metadata": {
    "tags": []
   },
   "outputs": [],
   "source": [
    "from urllib.parse import urlparse\n",
    "\n",
    "def process_s3_jsonlines_output_and_save(validation_file_name):\n",
    "\n",
    "    output_file_path = f\"{jsonl_output_dir}/{validation_file_name}.out\"\n",
    "    parsed_url = urlparse(transformer.output_path)\n",
    "    file_key = f\"{parsed_url.path[1:]}{validation_file_name}.out\"\n",
    "    response = s3_client.get_object(Bucket=s3_bucket, Key=file_key)\n",
    "\n",
    "    data = response[\"Body\"].read().decode(\"utf-8\")\n",
    "    print(data)\n",
    "\n",
    "    # Save the data to the output file\n",
    "    with open(output_file_path, 'w') as f_out:\n",
    "        for item in data.split('\\n'):\n",
    "            f_out.write(item + '\\n')"
   ]
  },
  {
   "cell_type": "code",
   "execution_count": 20,
   "metadata": {
    "tags": []
   },
   "outputs": [
    {
     "name": "stdout",
     "output_type": "stream",
     "text": [
      "{\"predictions\": [{\"begin\": 39, \"end\": 50, \"ner_chunk\": \"Hypertension\", \"ner_label\": \"PROBLEM\", \"ner_confidence\": \"0.9841\", \"concept_code\": \"0\", \"resolution\": \"hypertension\", \"score\": 0.9999997615814209, \"all_codes\": [\"0\", \"0\", \"0\", \"0\", \"0\"], \"concept_name_detailed\": [\"hypertension [essential (primary) hypertension]\", \"renal hypertension [chronic kidney disease, unspecified]\", \"high blood pressure [neonatal hypertension]\", \"systolic hypertension [neonatal hypertension]\", \"diastolic hypertension [neonatal hypertension]\"], \"all_resolutions\": [\"hypertension\", \"renal hypertension\", \"high blood pressure\", \"systolic hypertension\", \"diastolic hypertension\"], \"all_score\": [0.9999997615814209, 0.8857569694519043, 0.8678925037384033, 0.8500458002090454, 0.8453720808029175]}, {\"begin\": 56, \"end\": 69, \"ner_chunk\": \"Hyperlipidemia\", \"ner_label\": \"PROBLEM\", \"ner_confidence\": \"0.9989\", \"concept_code\": \"0\", \"resolution\": \"hyperlipidemia\", \"score\": 0.9999998211860657, \"all_codes\": [\"0\", \"0\", \"0\", \"0\", \"0\"], \"concept_name_detailed\": [\"hyperlipidemia [hyperlipidemia, unspecified]\", \"hyperlipidaemia [hyperlipidemia, unspecified]\", \"hyperlipidemia (disorder) [hyperlipidemia, unspecified]\", \"hyperlipoproteinaemia [hyperchylomicronemia]\", \"hyperlipoproteinemia [pure hyperglyceridemia]\"], \"all_resolutions\": [\"hyperlipidemia\", \"hyperlipidaemia\", \"hyperlipidemia (disorder)\", \"hyperlipoproteinaemia\", \"hyperlipoproteinemia\"], \"all_score\": [0.9999998211860657, 0.968390166759491, 0.9501307606697083, 0.9239193201065063, 0.9077457189559937]}, {\"begin\": 141, \"end\": 167, \"ner_chunk\": \"elevated cholesterol levels\", \"ner_label\": \"PROBLEM\", \"ner_confidence\": \"0.89603335\", \"concept_code\": \"0\", \"resolution\": \"cholesterol level\", \"score\": 0.8638345003128052, \"all_codes\": [\"0\", \"0\", \"0\", \"0\", \"0\"], \"concept_name_detailed\": [\"cholesterol level [other specified abnormal findings of blood chemistry]\", \"high cholesterol [pure hypercholesterolemia, unspecified]\", \"elevated cholesterol/high density lipoprotein ratio [other abnormal findings in specimens from other organs, systems and tissues]\", \"serum cholesterol raised [abnormal levels of other serum enzymes]\", \"serum cholesterol borderline high [abnormal levels of other serum enzymes]\"], \"all_resolutions\": [\"cholesterol level\", \"high cholesterol\", \"elevated cholesterol/high density lipoprotein ratio\", \"serum cholesterol raised\", \"serum cholesterol borderline high\"], \"all_score\": [0.8638345003128052, 0.854857861995697, 0.8448539972305298, 0.8397883176803589, 0.8323005437850952]}, {\"begin\": 194, \"end\": 214, \"ner_chunk\": \"occasional chest pain\", \"ner_label\": \"PROBLEM\", \"ner_confidence\": \"0.95759994\", \"concept_code\": \"0\", \"resolution\": \"localized chest pain\", \"score\": 0.8293677568435669, \"all_codes\": [\"0\", \"0\", \"0\", \"0\", \"0\"], \"concept_name_detailed\": [\"localized chest pain [pain, unspecified]\", \"noncardiac chest pain [other chest pain]\", \"chest pain at rest [other chest pain]\", \"chest pain, unspecified [chest pain, unspecified]\", \"squeezing chest pain [chest pain, unspecified]\"], \"all_resolutions\": [\"localized chest pain\", \"noncardiac chest pain\", \"chest pain at rest\", \"chest pain, unspecified\", \"squeezing chest pain\"], \"all_score\": [0.8293677568435669, 0.8272527456283569, 0.8247550129890442, 0.8176379203796387, 0.8141460418701172]}]}\n",
      "{\"predictions\": [{\"begin\": 57, \"end\": 80, \"ner_chunk\": \"Congestive Heart Failure\", \"ner_label\": \"PROBLEM\", \"ner_confidence\": \"0.9709\", \"concept_code\": \"0\", \"resolution\": \"congestive cardiac failure\", \"score\": 0.9794394969940186, \"all_codes\": [\"0\", \"0\", \"85\", \"85\", \"0\"], \"concept_name_detailed\": [\"congestive cardiac failure [neonatal cardiac failure]\", \"congestive heart failure (disorder) [neonatal cardiac failure]\", \"chf - congestive heart failure [heart failure, unspecified]\", \"acute congestive heart failure [left ventricular failure, unspecified]\", \"chronic congestive heart failure [right heart failure]\"], \"all_resolutions\": [\"congestive cardiac failure\", \"congestive heart failure (disorder)\", \"chf - congestive heart failure\", \"acute congestive heart failure\", \"chronic congestive heart failure\"], \"all_score\": [0.9794394969940186, 0.9403666257858276, 0.9068804979324341, 0.9050819873809814, 0.8952462077140808]}, {\"begin\": 86, \"end\": 104, \"ner_chunk\": \"Atrial Fibrillation\", \"ner_label\": \"PROBLEM\", \"ner_confidence\": \"0.99665\", \"concept_code\": \"0\", \"resolution\": \"atrial fibrillation\", \"score\": 1.0, \"all_codes\": [\"0\", \"0\", \"0\", \"0\", \"0\"], \"concept_name_detailed\": [\"atrial fibrillation [unspecified atrial fibrillation and atrial flutter]\", \"chronic atrial fibrillation [chronic atrial fibrillation]\", \"atrial fibrillation (disorder) [unspecified atrial fibrillation and atrial flutter]\", \"af - atrial fibrillation [unspecified atrial fibrillation and atrial flutter]\", \"electrocardiographic atrial fibrillation [abnormal electrocardiogram [ecg] [ekg]]\"], \"all_resolutions\": [\"atrial fibrillation\", \"chronic atrial fibrillation\", \"atrial fibrillation (disorder)\", \"af - atrial fibrillation\", \"electrocardiographic atrial fibrillation\"], \"all_score\": [1.0, 0.9103990793228149, 0.8994640111923218, 0.8872871994972229, 0.8852158188819885]}]}\n"
     ]
    }
   ],
   "source": [
    "process_s3_jsonlines_output_and_save(validation_jsonl_file_name)"
   ]
  },
  {
   "cell_type": "code",
   "execution_count": 21,
   "metadata": {
    "tags": []
   },
   "outputs": [
    {
     "data": {
      "text/html": [
       "<pre style=\"white-space:pre;overflow-x:auto;line-height:normal;font-family:Menlo,'DejaVu Sans Mono',consolas,'Courier New',monospace\"><span style=\"color: #7fbfbf; text-decoration-color: #7fbfbf\">[01/09/25 19:36:58] </span><span style=\"color: #0069ff; text-decoration-color: #0069ff; font-weight: bold\">INFO    </span> Deleting model with name: hcc-vdb-resolver-<span style=\"color: #008080; text-decoration-color: #008080; font-weight: bold\">2025</span>-01-09-19-27-51-908     <a href=\"file:///home/ec2-user/anaconda3/envs/python3/lib/python3.10/site-packages/sagemaker/session.py\" target=\"_blank\"><span style=\"color: #7f7f7f; text-decoration-color: #7f7f7f\">session.py</span></a><span style=\"color: #7f7f7f; text-decoration-color: #7f7f7f\">:</span><a href=\"file:///home/ec2-user/anaconda3/envs/python3/lib/python3.10/site-packages/sagemaker/session.py#5226\" target=\"_blank\"><span style=\"color: #7f7f7f; text-decoration-color: #7f7f7f\">5226</span></a>\n",
       "</pre>\n"
      ],
      "text/plain": [
       "\u001b[2;36m[01/09/25 19:36:58]\u001b[0m\u001b[2;36m \u001b[0m\u001b[1;38;2;0;105;255mINFO    \u001b[0m Deleting model with name: hcc-vdb-resolver-\u001b[1;36m2025\u001b[0m-01-09-19-27-51-908     \u001b]8;id=963957;file:///home/ec2-user/anaconda3/envs/python3/lib/python3.10/site-packages/sagemaker/session.py\u001b\\\u001b[2msession.py\u001b[0m\u001b]8;;\u001b\\\u001b[2m:\u001b[0m\u001b]8;id=997690;file:///home/ec2-user/anaconda3/envs/python3/lib/python3.10/site-packages/sagemaker/session.py#5226\u001b\\\u001b[2m5226\u001b[0m\u001b]8;;\u001b\\\n"
      ]
     },
     "metadata": {},
     "output_type": "display_data"
    }
   ],
   "source": [
    "model.delete_model()"
   ]
  },
  {
   "cell_type": "markdown",
   "metadata": {},
   "source": [
    "### Unsubscribe to the listing (optional)"
   ]
  },
  {
   "cell_type": "markdown",
   "metadata": {
    "tags": []
   },
   "source": [
    "If you would like to unsubscribe to the model package, follow these steps. Before you cancel the subscription, ensure that you do not have any [deployable model](https://console.aws.amazon.com/sagemaker/home#/models) created from the model package or using the algorithm. Note - You can find this information by looking at the container name associated with the model. \n",
    "\n",
    "**Steps to unsubscribe to product from AWS Marketplace**:\n",
    "1. Navigate to __Machine Learning__ tab on [__Your Software subscriptions page__](https://aws.amazon.com/marketplace/ai/library?productType=ml&ref_=mlmp_gitdemo_indust)\n",
    "2. Locate the listing that you want to cancel the subscription for, and then choose __Cancel Subscription__  to cancel the subscription.\n",
    "\n"
   ]
  }
 ],
 "metadata": {
  "instance_type": "ml.t3.medium",
  "kernelspec": {
   "display_name": "conda_python3",
   "language": "python",
   "name": "conda_python3"
  },
  "language_info": {
   "codemirror_mode": {
    "name": "ipython",
    "version": 3
   },
   "file_extension": ".py",
   "mimetype": "text/x-python",
   "name": "python",
   "nbconvert_exporter": "python",
   "pygments_lexer": "ipython3",
   "version": "3.10.16"
  }
 },
 "nbformat": 4,
 "nbformat_minor": 4
}

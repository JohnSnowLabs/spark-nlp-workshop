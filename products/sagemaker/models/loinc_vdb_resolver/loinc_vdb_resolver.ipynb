{
 "cells": [
  {
   "cell_type": "markdown",
   "metadata": {},
   "source": [
    "## 1. Subscribe to the model package"
   ]
  },
  {
   "cell_type": "markdown",
   "metadata": {},
   "source": [
    "To subscribe to the model package:\n",
    "1. Open the model package listing page: [LOINC Clinical Terminology Mapper](https://aws.amazon.com/marketplace/pp/prodview-idfcekbznwtlq)\n",
    "1. On the AWS Marketplace listing, click on the **Continue to subscribe** button.\n",
    "1. On the **Subscribe to this software** page, review and click on **\"Accept Offer\"** if you and your organization agrees with EULA, pricing, and support terms. \n",
    "1. Once you click on **Continue to configuration button** and then choose a **region**, you will see a **Product Arn** displayed. This is the model package ARN that you need to specify while creating a deployable model using Boto3. Copy the ARN corresponding to your region and specify the same in the following cell."
   ]
  },
  {
   "cell_type": "markdown",
   "metadata": {},
   "source": [
    "## LOINC Clinical Terminology Mapper\n",
    "\n",
    "- **Model**: `loinc_vdb_resolver`\n",
    "- **Model Description**: This pretrained pipeline extracts clinical entities from clinical text and maps them to their corresponding Logical Observation Identifiers Names and Codes (LOINC) codes."
   ]
  },
  {
   "cell_type": "code",
   "execution_count": 1,
   "metadata": {
    "tags": []
   },
   "outputs": [],
   "source": [
    "model_package_arn = \"<Customer to specify Model package ARN corresponding to their AWS region>\""
   ]
  },
  {
   "cell_type": "code",
   "execution_count": null,
   "metadata": {
    "tags": []
   },
   "outputs": [],
   "source": [
    "import json\n",
    "import os\n",
    "import boto3\n",
    "import pandas as pd\n",
    "import sagemaker as sage\n",
    "from sagemaker import ModelPackage\n",
    "from sagemaker import get_execution_role\n",
    "from IPython.display import display\n",
    "from urllib.parse import urlparse\n"
   ]
  },
  {
   "cell_type": "code",
   "execution_count": 3,
   "metadata": {
    "tags": []
   },
   "outputs": [],
   "source": [
    "sagemaker_session = sage.Session()\n",
    "s3_bucket = sagemaker_session.default_bucket()\n",
    "region = sagemaker_session.boto_region_name\n",
    "account_id = boto3.client(\"sts\").get_caller_identity().get(\"Account\")\n",
    "role = get_execution_role()\n",
    "\n",
    "sagemaker = boto3.client(\"sagemaker\")\n",
    "s3_client = sagemaker_session.boto_session.client(\"s3\")\n",
    "ecr = boto3.client(\"ecr\")\n",
    "sm_runtime = boto3.client(\"sagemaker-runtime\")\n",
    "\n",
    "# Set display options\n",
    "pd.set_option('display.max_rows', None)\n",
    "pd.set_option('display.max_columns', None)\n",
    "pd.set_option('display.max_colwidth', None)"
   ]
  },
  {
   "cell_type": "code",
   "execution_count": 4,
   "metadata": {
    "tags": []
   },
   "outputs": [],
   "source": [
    "model_name = \"loinc-vdb-resolver\"\n",
    "\n",
    "real_time_inference_instance_type = \"ml.m4.xlarge\"\n",
    "batch_transform_inference_instance_type = \"ml.m4.2xlarge\""
   ]
  },
  {
   "cell_type": "markdown",
   "metadata": {},
   "source": [
    "## 2. Create a deployable model from the model package."
   ]
  },
  {
   "cell_type": "code",
   "execution_count": 6,
   "metadata": {
    "tags": []
   },
   "outputs": [],
   "source": [
    "model = ModelPackage(\n",
    "    role=role, \n",
    "    model_package_arn=model_package_arn,\n",
    "    sagemaker_session=sagemaker_session,\n",
    ")"
   ]
  },
  {
   "cell_type": "markdown",
   "metadata": {},
   "source": [
    "### Input Format\n",
    "\n",
    "To use the model, you need to provide input in one of the following supported formats:\n",
    "\n",
    "#### JSON Format\n",
    "\n",
    "Provide input as JSON. We support two variations within this format:\n",
    "\n",
    "1. **Array of Text Documents**: \n",
    "   Use an array containing multiple text documents. Each element represents a separate text document.\n",
    "\n",
    "   ```json\n",
    "   {\n",
    "       \"text\": [\n",
    "           \"Text document 1\",\n",
    "           \"Text document 2\",\n",
    "           ...\n",
    "       ]\n",
    "   }\n",
    "\n",
    "    ```\n",
    "\n",
    "2. **Single Text Document**:\n",
    "   Provide a single text document as a string.\n",
    "\n",
    "\n",
    "   ```json\n",
    "    {\n",
    "        \"text\": \"Single text document\"\n",
    "    }\n",
    "   ```\n",
    "\n",
    "#### JSON Lines (JSONL) Format\n",
    "\n",
    "Provide input in JSON Lines format, where each line is a JSON object representing a text document.\n",
    "\n",
    "```\n",
    "{\"text\": \"Text document 1\"}\n",
    "{\"text\": \"Text document 2\"}\n",
    "```"
   ]
  },
  {
   "cell_type": "markdown",
   "metadata": {},
   "source": [
    "## 3. Create an endpoint and perform real-time inference"
   ]
  },
  {
   "cell_type": "markdown",
   "metadata": {},
   "source": [
    "If you want to understand how real-time inference with Amazon SageMaker works, see [Documentation](https://docs.aws.amazon.com/sagemaker/latest/dg/how-it-works-hosting.html)."
   ]
  },
  {
   "cell_type": "markdown",
   "metadata": {},
   "source": [
    "### A. Deploy the SageMaker model to an endpoint"
   ]
  },
  {
   "cell_type": "code",
   "execution_count": 7,
   "metadata": {
    "tags": []
   },
   "outputs": [
    {
     "name": "stdout",
     "output_type": "stream",
     "text": [
      "-------------!"
     ]
    }
   ],
   "source": [
    "predictor = model.deploy(\n",
    "    initial_instance_count=1,\n",
    "    instance_type=real_time_inference_instance_type, \n",
    "    endpoint_name=model_name,\n",
    ")"
   ]
  },
  {
   "cell_type": "markdown",
   "metadata": {},
   "source": [
    "Once endpoint has been created, you would be able to perform real-time inference."
   ]
  },
  {
   "cell_type": "code",
   "execution_count": 8,
   "metadata": {
    "tags": []
   },
   "outputs": [],
   "source": [
    "def invoke_realtime_endpoint(record, content_type=\"application/json\", accept=\"application/json\"):\n",
    "    response = sm_runtime.invoke_endpoint(\n",
    "        EndpointName=model_name,\n",
    "        ContentType=content_type,\n",
    "        Accept=accept,\n",
    "        Body=json.dumps(record) if content_type == \"application/json\" else record,\n",
    "    )\n",
    "\n",
    "    response_body = response[\"Body\"].read().decode(\"utf-8\")\n",
    "\n",
    "    if accept == \"application/json\":\n",
    "        return json.loads(response_body)\n",
    "    elif accept == \"application/jsonlines\":\n",
    "        return response_body\n",
    "    else:\n",
    "        raise ValueError(f\"Unsupported accept type: {accept}\")"
   ]
  },
  {
   "cell_type": "markdown",
   "metadata": {},
   "source": [
    "### Initial Setup"
   ]
  },
  {
   "cell_type": "code",
   "execution_count": 9,
   "metadata": {
    "tags": []
   },
   "outputs": [],
   "source": [
    "docs = [\n",
    "    \"The patient is a 22-year-old female with a history of obesity. She has a Body mass index (BMI) of 33.5 kg/m2, aspartate aminotransferase 64, and alanine aminotransferase 126.\", \n",
    "    \"Final diagnosis:  : DNA was extracted from the peripheral blood specimen and a polymerase chain reaction (PCR)-based assay performed that is designed to detect the presence of two separate mutations in the FLT3 gene: (1) within a susceptible region that includes coding sequence for the intracellular juxtamembrane domain and (2)   Negative. Neither expansion of the region susceptible to nor changes consistent with mutation of the codon for ASP835 were identified.\",\n",
    "]\n",
    "\n",
    "sample_text = \"\"\"A 65-year-old woman presents to the office with generalized fatigue for the last 4 months. She used to walk 1 mile each evening but now gets tired after 1-2 blocks. She has a history of Crohn disease and hypertension for which she receives appropriate medications. She is married and lives with her husband. She eats a balanced diet that includes chicken, fish, pork, fruits, and vegetables. She rarely drinks alcohol and denies tobacco use. Her vital signs are within normal limits. A physical examination is unremarkable. Laboratory studies show the following: Hemoglobin: 9.8 g/dL, Hematocrit: 32%, Mean Corpuscular Volume: 110 μm3\"\"\""
   ]
  },
  {
   "cell_type": "markdown",
   "metadata": {},
   "source": [
    "### JSON"
   ]
  },
  {
   "cell_type": "code",
   "execution_count": 10,
   "metadata": {
    "tags": []
   },
   "outputs": [
    {
     "data": {
      "text/html": [
       "<div>\n",
       "<style scoped>\n",
       "    .dataframe tbody tr th:only-of-type {\n",
       "        vertical-align: middle;\n",
       "    }\n",
       "\n",
       "    .dataframe tbody tr th {\n",
       "        vertical-align: top;\n",
       "    }\n",
       "\n",
       "    .dataframe thead th {\n",
       "        text-align: right;\n",
       "    }\n",
       "</style>\n",
       "<table border=\"1\" class=\"dataframe\">\n",
       "  <thead>\n",
       "    <tr style=\"text-align: right;\">\n",
       "      <th></th>\n",
       "      <th>begin</th>\n",
       "      <th>end</th>\n",
       "      <th>ner_chunk</th>\n",
       "      <th>ner_label</th>\n",
       "      <th>ner_confidence</th>\n",
       "      <th>concept_code</th>\n",
       "      <th>resolution</th>\n",
       "      <th>score</th>\n",
       "      <th>all_codes</th>\n",
       "      <th>concept_name_detailed</th>\n",
       "      <th>domain_id</th>\n",
       "      <th>all_resolutions</th>\n",
       "      <th>all_score</th>\n",
       "    </tr>\n",
       "  </thead>\n",
       "  <tbody>\n",
       "    <tr>\n",
       "      <th>0</th>\n",
       "      <td>442</td>\n",
       "      <td>456</td>\n",
       "      <td>Her vital signs</td>\n",
       "      <td>Test</td>\n",
       "      <td>0.78679997</td>\n",
       "      <td>8716-3</td>\n",
       "      <td>vital signs</td>\n",
       "      <td>0.850316</td>\n",
       "      <td>[8716-3, LP75862-0, 29274-8, 52481-9, LP133943-3]</td>\n",
       "      <td>[Vital signs [Vital signs], Vital signs - acute [Vital signs - acute], Vital signs measurements [Vital signs measurements], Vital signs - acute [CARE] [Vital signs - acute [CARE]], EMS vital signs [EMS vital signs]]</td>\n",
       "      <td>[Observation, Observation, Observation, Observation, Observation]</td>\n",
       "      <td>[vital signs, vital signs - acute, vital signs measurements, vital signs - acute [care], ems vital signs]</td>\n",
       "      <td>[0.8503159284591675, 0.7810258865356445, 0.7806203961372375, 0.7770128846168518, 0.7719455361366272]</td>\n",
       "    </tr>\n",
       "    <tr>\n",
       "      <th>1</th>\n",
       "      <td>484</td>\n",
       "      <td>505</td>\n",
       "      <td>A physical examination</td>\n",
       "      <td>Test</td>\n",
       "      <td>0.91120005</td>\n",
       "      <td>LP7801-6</td>\n",
       "      <td>physical exam</td>\n",
       "      <td>0.909418</td>\n",
       "      <td>[LP7801-6, LP94385-9, 29271-4, 100223-7, 19793-9]</td>\n",
       "      <td>[Physical exam [Physical exam], Physical examination by body areas [Physical examination by body areas], Eye physical examination [Eye physical examination], Examination [Physical findings of Retina Narrative], examination ?? [Examination extent landmark [Description] Biliary duct Narrative ERCP]]</td>\n",
       "      <td>[Measurement, Observation, Observation, Observation, Observation]</td>\n",
       "      <td>[physical exam, physical examination by body areas, eye physical examination, examination, examination ??]</td>\n",
       "      <td>[0.9094181060791016, 0.8629760146141052, 0.8507091999053955, 0.840781033039093, 0.839738130569458]</td>\n",
       "    </tr>\n",
       "    <tr>\n",
       "      <th>2</th>\n",
       "      <td>524</td>\n",
       "      <td>541</td>\n",
       "      <td>Laboratory studies</td>\n",
       "      <td>Test</td>\n",
       "      <td>0.7098</td>\n",
       "      <td>LP74124-6</td>\n",
       "      <td>laboratory studies</td>\n",
       "      <td>1.000001</td>\n",
       "      <td>[LP74124-6, 26436-6, 11502-2, H&amp;P.HX.LAB, 34075-2]</td>\n",
       "      <td>[Laboratory studies [Laboratory studies], Laboratory studies (set) [Laboratory studies (set)], Laboratory report [Laboratory report], History for laboratory studies [History for laboratory studies], Lab tests [FDA package insert Laboratory tests section]]</td>\n",
       "      <td>[Observation, Observation, Observation, Observation, Observation]</td>\n",
       "      <td>[laboratory studies, laboratory studies (set), laboratory report, history for laboratory studies, lab tests]</td>\n",
       "      <td>[1.0000007152557373, 0.8880069255828857, 0.8414250016212463, 0.8363252878189087, 0.8293611407279968]</td>\n",
       "    </tr>\n",
       "    <tr>\n",
       "      <th>3</th>\n",
       "      <td>563</td>\n",
       "      <td>572</td>\n",
       "      <td>Hemoglobin</td>\n",
       "      <td>Test</td>\n",
       "      <td>0.9994</td>\n",
       "      <td>LP14449-0</td>\n",
       "      <td>hemoglobin</td>\n",
       "      <td>1.000000</td>\n",
       "      <td>[LP14449-0, 10346-5, 15082-1, LP16434-0, LP30932-5]</td>\n",
       "      <td>[Hemoglobin [Hemoglobin], Haemoglobin [Hemoglobin A [Units/volume] in Blood by Electrophoresis], Hemiglobin [Methemoglobin [Mass/volume] in Blood], Hemoglobin H [Hemoglobin H], Hemoglobin N [Hemoglobin N]]</td>\n",
       "      <td>[Observation, Observation, Observation, Observation, Observation]</td>\n",
       "      <td>[hemoglobin, haemoglobin, hemiglobin, hemoglobin h, hemoglobin n]</td>\n",
       "      <td>[1.0000001192092896, 0.9589886665344238, 0.9433583617210388, 0.8850629329681396, 0.8679291009902954]</td>\n",
       "    </tr>\n",
       "    <tr>\n",
       "      <th>4</th>\n",
       "      <td>579</td>\n",
       "      <td>582</td>\n",
       "      <td>g/dL</td>\n",
       "      <td>Test</td>\n",
       "      <td>0.6455</td>\n",
       "      <td>18286-5</td>\n",
       "      <td>dl</td>\n",
       "      <td>0.829474</td>\n",
       "      <td>[18286-5, 76650-1, 43740-0, 2367-1, LA19932-5]</td>\n",
       "      <td>[DL [Donath Landsteiner Ab [Presence] in Blood], Gd [Gadolinium [Mass/mass] in Hair], G/I [Glucose/Insulin [Mass Ratio] in Serum or Plasma], GLD [Glutamate dehydrogenase [Enzymatic activity/volume] in Serum or Plasma], G/G (wild type) [G/G (wild type)]]</td>\n",
       "      <td>[Observation, Observation, Observation, Observation, Meas Value]</td>\n",
       "      <td>[dl, gd, g/i, gld, g/g (wild type)]</td>\n",
       "      <td>[0.8294735550880432, 0.8090059757232666, 0.8026497960090637, 0.7987967729568481, 0.7837276458740234]</td>\n",
       "    </tr>\n",
       "    <tr>\n",
       "      <th>5</th>\n",
       "      <td>585</td>\n",
       "      <td>594</td>\n",
       "      <td>Hematocrit</td>\n",
       "      <td>Test</td>\n",
       "      <td>0.9983</td>\n",
       "      <td>LP15101-6</td>\n",
       "      <td>hematocrit</td>\n",
       "      <td>0.999999</td>\n",
       "      <td>[LP15101-6, LP308151-2, LP392494-3, LP392484-4, LP392480-2]</td>\n",
       "      <td>[Hematocrit [Hematocrit], Hematocrit/Hemoglobin [Hematocrit/Hemoglobin], Hematocrit | Stem cell product | Hematology and Cell counts [Hematocrit | Stem cell product | Hematology and Cell counts], Hematocrit | Blood venous | Hematology and Cell counts [Hematocrit | Blood venous | Hematology and Cell counts], Hematocrit | Blood arterial | Hematology and Cell counts [Hematocrit | Blood arterial | Hematology and Cell counts]]</td>\n",
       "      <td>[Observation, Observation, Measurement, Measurement, Measurement]</td>\n",
       "      <td>[hematocrit, hematocrit/hemoglobin, hematocrit | stem cell product | hematology and cell counts, hematocrit | blood venous | hematology and cell counts, hematocrit | blood arterial | hematology and cell counts]</td>\n",
       "      <td>[0.999998927116394, 0.9189162850379944, 0.9059693813323975, 0.8906344175338745, 0.8904138803482056]</td>\n",
       "    </tr>\n",
       "    <tr>\n",
       "      <th>6</th>\n",
       "      <td>602</td>\n",
       "      <td>624</td>\n",
       "      <td>Mean Corpuscular Volume</td>\n",
       "      <td>Test</td>\n",
       "      <td>0.7142666</td>\n",
       "      <td>LP15191-7</td>\n",
       "      <td>erythrocyte mean corpuscular volume</td>\n",
       "      <td>0.882469</td>\n",
       "      <td>[LP15191-7, LP66395-2, 51641-9, LP393360-5, LP393361-3]</td>\n",
       "      <td>[Erythrocyte mean corpuscular volume [Erythrocyte mean corpuscular volume], Mean sphered cell volume [Mean sphered cell volume], Mean sphered cell volume [Entitic volume] in Red Blood Cells [Mean sphered cell volume [Entitic volume] in Red Blood Cells], Erythrocyte mean corpuscular volume | Blood cord | Hematology and Cell counts [Erythrocyte mean corpuscular volume | Blood cord | Hematology and Cell counts], Erythrocyte mean corpuscular volume | Red Blood Cells | Hematology and Cell counts [Erythrocyte mean corpuscular volume | Red Blood Cells | Hematology and Cell counts]]</td>\n",
       "      <td>[Observation, Observation, Observation, Measurement, Measurement]</td>\n",
       "      <td>[erythrocyte mean corpuscular volume, mean sphered cell volume, mean sphered cell volume [entitic volume] in red blood cells, erythrocyte mean corpuscular volume | blood cord | hematology and cell counts, erythrocyte mean corpuscular volume | red blood cells | hematology and cell counts]</td>\n",
       "      <td>[0.8824691772460938, 0.8562332391738892, 0.8337935209274292, 0.828377902507782, 0.8251137733459473]</td>\n",
       "    </tr>\n",
       "  </tbody>\n",
       "</table>\n",
       "</div>"
      ],
      "text/plain": [
       "   begin  end                ner_chunk ner_label ner_confidence concept_code  \\\n",
       "0    442  456          Her vital signs      Test     0.78679997       8716-3   \n",
       "1    484  505   A physical examination      Test     0.91120005     LP7801-6   \n",
       "2    524  541       Laboratory studies      Test         0.7098    LP74124-6   \n",
       "3    563  572               Hemoglobin      Test         0.9994    LP14449-0   \n",
       "4    579  582                     g/dL      Test         0.6455      18286-5   \n",
       "5    585  594               Hematocrit      Test         0.9983    LP15101-6   \n",
       "6    602  624  Mean Corpuscular Volume      Test      0.7142666    LP15191-7   \n",
       "\n",
       "                            resolution     score  \\\n",
       "0                          vital signs  0.850316   \n",
       "1                        physical exam  0.909418   \n",
       "2                   laboratory studies  1.000001   \n",
       "3                           hemoglobin  1.000000   \n",
       "4                                   dl  0.829474   \n",
       "5                           hematocrit  0.999999   \n",
       "6  erythrocyte mean corpuscular volume  0.882469   \n",
       "\n",
       "                                                     all_codes  \\\n",
       "0            [8716-3, LP75862-0, 29274-8, 52481-9, LP133943-3]   \n",
       "1            [LP7801-6, LP94385-9, 29271-4, 100223-7, 19793-9]   \n",
       "2           [LP74124-6, 26436-6, 11502-2, H&P.HX.LAB, 34075-2]   \n",
       "3          [LP14449-0, 10346-5, 15082-1, LP16434-0, LP30932-5]   \n",
       "4               [18286-5, 76650-1, 43740-0, 2367-1, LA19932-5]   \n",
       "5  [LP15101-6, LP308151-2, LP392494-3, LP392484-4, LP392480-2]   \n",
       "6      [LP15191-7, LP66395-2, 51641-9, LP393360-5, LP393361-3]   \n",
       "\n",
       "                                                                                                                                                                                                                                                                                                                                                                                                                                                                                                                                                                                   concept_name_detailed  \\\n",
       "0                                                                                                                                                                                                                                                                                                                                                                                [Vital signs [Vital signs], Vital signs - acute [Vital signs - acute], Vital signs measurements [Vital signs measurements], Vital signs - acute [CARE] [Vital signs - acute [CARE]], EMS vital signs [EMS vital signs]]   \n",
       "1                                                                                                                                                                                                                                                                                             [Physical exam [Physical exam], Physical examination by body areas [Physical examination by body areas], Eye physical examination [Eye physical examination], Examination [Physical findings of Retina Narrative], examination ?? [Examination extent landmark [Description] Biliary duct Narrative ERCP]]   \n",
       "2                                                                                                                                                                                                                                                                                                                                        [Laboratory studies [Laboratory studies], Laboratory studies (set) [Laboratory studies (set)], Laboratory report [Laboratory report], History for laboratory studies [History for laboratory studies], Lab tests [FDA package insert Laboratory tests section]]   \n",
       "3                                                                                                                                                                                                                                                                                                                                                                                          [Hemoglobin [Hemoglobin], Haemoglobin [Hemoglobin A [Units/volume] in Blood by Electrophoresis], Hemiglobin [Methemoglobin [Mass/volume] in Blood], Hemoglobin H [Hemoglobin H], Hemoglobin N [Hemoglobin N]]   \n",
       "4                                                                                                                                                                                                                                                                                                                                          [DL [Donath Landsteiner Ab [Presence] in Blood], Gd [Gadolinium [Mass/mass] in Hair], G/I [Glucose/Insulin [Mass Ratio] in Serum or Plasma], GLD [Glutamate dehydrogenase [Enzymatic activity/volume] in Serum or Plasma], G/G (wild type) [G/G (wild type)]]   \n",
       "5                                                                                                                                                              [Hematocrit [Hematocrit], Hematocrit/Hemoglobin [Hematocrit/Hemoglobin], Hematocrit | Stem cell product | Hematology and Cell counts [Hematocrit | Stem cell product | Hematology and Cell counts], Hematocrit | Blood venous | Hematology and Cell counts [Hematocrit | Blood venous | Hematology and Cell counts], Hematocrit | Blood arterial | Hematology and Cell counts [Hematocrit | Blood arterial | Hematology and Cell counts]]   \n",
       "6  [Erythrocyte mean corpuscular volume [Erythrocyte mean corpuscular volume], Mean sphered cell volume [Mean sphered cell volume], Mean sphered cell volume [Entitic volume] in Red Blood Cells [Mean sphered cell volume [Entitic volume] in Red Blood Cells], Erythrocyte mean corpuscular volume | Blood cord | Hematology and Cell counts [Erythrocyte mean corpuscular volume | Blood cord | Hematology and Cell counts], Erythrocyte mean corpuscular volume | Red Blood Cells | Hematology and Cell counts [Erythrocyte mean corpuscular volume | Red Blood Cells | Hematology and Cell counts]]   \n",
       "\n",
       "                                                           domain_id  \\\n",
       "0  [Observation, Observation, Observation, Observation, Observation]   \n",
       "1  [Measurement, Observation, Observation, Observation, Observation]   \n",
       "2  [Observation, Observation, Observation, Observation, Observation]   \n",
       "3  [Observation, Observation, Observation, Observation, Observation]   \n",
       "4   [Observation, Observation, Observation, Observation, Meas Value]   \n",
       "5  [Observation, Observation, Measurement, Measurement, Measurement]   \n",
       "6  [Observation, Observation, Observation, Measurement, Measurement]   \n",
       "\n",
       "                                                                                                                                                                                                                                                                                    all_resolutions  \\\n",
       "0                                                                                                                                                                                         [vital signs, vital signs - acute, vital signs measurements, vital signs - acute [care], ems vital signs]   \n",
       "1                                                                                                                                                                                        [physical exam, physical examination by body areas, eye physical examination, examination, examination ??]   \n",
       "2                                                                                                                                                                                      [laboratory studies, laboratory studies (set), laboratory report, history for laboratory studies, lab tests]   \n",
       "3                                                                                                                                                                                                                                 [hemoglobin, haemoglobin, hemiglobin, hemoglobin h, hemoglobin n]   \n",
       "4                                                                                                                                                                                                                                                               [dl, gd, g/i, gld, g/g (wild type)]   \n",
       "5                                                                                [hematocrit, hematocrit/hemoglobin, hematocrit | stem cell product | hematology and cell counts, hematocrit | blood venous | hematology and cell counts, hematocrit | blood arterial | hematology and cell counts]   \n",
       "6  [erythrocyte mean corpuscular volume, mean sphered cell volume, mean sphered cell volume [entitic volume] in red blood cells, erythrocyte mean corpuscular volume | blood cord | hematology and cell counts, erythrocyte mean corpuscular volume | red blood cells | hematology and cell counts]   \n",
       "\n",
       "                                                                                              all_score  \n",
       "0  [0.8503159284591675, 0.7810258865356445, 0.7806203961372375, 0.7770128846168518, 0.7719455361366272]  \n",
       "1    [0.9094181060791016, 0.8629760146141052, 0.8507091999053955, 0.840781033039093, 0.839738130569458]  \n",
       "2  [1.0000007152557373, 0.8880069255828857, 0.8414250016212463, 0.8363252878189087, 0.8293611407279968]  \n",
       "3  [1.0000001192092896, 0.9589886665344238, 0.9433583617210388, 0.8850629329681396, 0.8679291009902954]  \n",
       "4  [0.8294735550880432, 0.8090059757232666, 0.8026497960090637, 0.7987967729568481, 0.7837276458740234]  \n",
       "5   [0.999998927116394, 0.9189162850379944, 0.9059693813323975, 0.8906344175338745, 0.8904138803482056]  \n",
       "6   [0.8824691772460938, 0.8562332391738892, 0.8337935209274292, 0.828377902507782, 0.8251137733459473]  "
      ]
     },
     "execution_count": 10,
     "metadata": {},
     "output_type": "execute_result"
    }
   ],
   "source": [
    "input_json_data = {\"text\": sample_text}\n",
    "response_json = invoke_realtime_endpoint(input_json_data, content_type=\"application/json\", accept=\"application/json\")\n",
    "pd.DataFrame(response_json[\"predictions\"][0])"
   ]
  },
  {
   "cell_type": "markdown",
   "metadata": {},
   "source": [
    "### JSON Lines"
   ]
  },
  {
   "cell_type": "code",
   "execution_count": 12,
   "metadata": {
    "tags": []
   },
   "outputs": [],
   "source": [
    "def create_jsonl(records):\n",
    "    if isinstance(records, str):\n",
    "        records = [records]\n",
    "    json_records = [{\"text\": text} for text in records]\n",
    "    json_lines = \"\\n\".join(json.dumps(record) for record in json_records)\n",
    "    return json_lines"
   ]
  },
  {
   "cell_type": "code",
   "execution_count": 13,
   "metadata": {
    "tags": []
   },
   "outputs": [
    {
     "name": "stdout",
     "output_type": "stream",
     "text": [
      "{\"predictions\": [{\"begin\": 442, \"end\": 456, \"ner_chunk\": \"Her vital signs\", \"ner_label\": \"Test\", \"ner_confidence\": \"0.78679997\", \"concept_code\": \"8716-3\", \"resolution\": \"vital signs\", \"score\": 0.8503159284591675, \"all_codes\": [\"8716-3\", \"LP75862-0\", \"29274-8\", \"52481-9\", \"LP133943-3\"], \"concept_name_detailed\": [\"Vital signs [Vital signs]\", \"Vital signs - acute [Vital signs - acute]\", \"Vital signs measurements [Vital signs measurements]\", \"Vital signs - acute [CARE] [Vital signs - acute [CARE]]\", \"EMS vital signs [EMS vital signs]\"], \"domain_id\": [\"Observation\", \"Observation\", \"Observation\", \"Observation\", \"Observation\"], \"all_resolutions\": [\"vital signs\", \"vital signs - acute\", \"vital signs measurements\", \"vital signs - acute [care]\", \"ems vital signs\"], \"all_score\": [0.8503159284591675, 0.7810258865356445, 0.7806203961372375, 0.7770128846168518, 0.7719455361366272]}, {\"begin\": 484, \"end\": 505, \"ner_chunk\": \"A physical examination\", \"ner_label\": \"Test\", \"ner_confidence\": \"0.91120005\", \"concept_code\": \"LP7801-6\", \"resolution\": \"physical exam\", \"score\": 0.9094181060791016, \"all_codes\": [\"LP7801-6\", \"LP94385-9\", \"29271-4\", \"100223-7\", \"19793-9\"], \"concept_name_detailed\": [\"Physical exam [Physical exam]\", \"Physical examination by body areas [Physical examination by body areas]\", \"Eye physical examination [Eye physical examination]\", \"Examination [Physical findings of Retina Narrative]\", \"examination ?? [Examination extent landmark [Description] Biliary duct Narrative ERCP]\"], \"domain_id\": [\"Measurement\", \"Observation\", \"Observation\", \"Observation\", \"Observation\"], \"all_resolutions\": [\"physical exam\", \"physical examination by body areas\", \"eye physical examination\", \"examination\", \"examination ??\"], \"all_score\": [0.9094181060791016, 0.8629760146141052, 0.8507091999053955, 0.840781033039093, 0.839738130569458]}, {\"begin\": 524, \"end\": 541, \"ner_chunk\": \"Laboratory studies\", \"ner_label\": \"Test\", \"ner_confidence\": \"0.7098\", \"concept_code\": \"LP74124-6\", \"resolution\": \"laboratory studies\", \"score\": 1.0000007152557373, \"all_codes\": [\"LP74124-6\", \"26436-6\", \"11502-2\", \"H&P.HX.LAB\", \"34075-2\"], \"concept_name_detailed\": [\"Laboratory studies [Laboratory studies]\", \"Laboratory studies (set) [Laboratory studies (set)]\", \"Laboratory report [Laboratory report]\", \"History for laboratory studies [History for laboratory studies]\", \"Lab tests [FDA package insert Laboratory tests section]\"], \"domain_id\": [\"Observation\", \"Observation\", \"Observation\", \"Observation\", \"Observation\"], \"all_resolutions\": [\"laboratory studies\", \"laboratory studies (set)\", \"laboratory report\", \"history for laboratory studies\", \"lab tests\"], \"all_score\": [1.0000007152557373, 0.8880069255828857, 0.8414250016212463, 0.8363252878189087, 0.8293611407279968]}, {\"begin\": 563, \"end\": 572, \"ner_chunk\": \"Hemoglobin\", \"ner_label\": \"Test\", \"ner_confidence\": \"0.9994\", \"concept_code\": \"LP14449-0\", \"resolution\": \"hemoglobin\", \"score\": 1.0000001192092896, \"all_codes\": [\"LP14449-0\", \"10346-5\", \"15082-1\", \"LP16434-0\", \"LP30932-5\"], \"concept_name_detailed\": [\"Hemoglobin [Hemoglobin]\", \"Haemoglobin [Hemoglobin A [Units/volume] in Blood by Electrophoresis]\", \"Hemiglobin [Methemoglobin [Mass/volume] in Blood]\", \"Hemoglobin H [Hemoglobin H]\", \"Hemoglobin N [Hemoglobin N]\"], \"domain_id\": [\"Observation\", \"Observation\", \"Observation\", \"Observation\", \"Observation\"], \"all_resolutions\": [\"hemoglobin\", \"haemoglobin\", \"hemiglobin\", \"hemoglobin h\", \"hemoglobin n\"], \"all_score\": [1.0000001192092896, 0.9589886665344238, 0.9433583617210388, 0.8850629329681396, 0.8679291009902954]}, {\"begin\": 579, \"end\": 582, \"ner_chunk\": \"g/dL\", \"ner_label\": \"Test\", \"ner_confidence\": \"0.6455\", \"concept_code\": \"18286-5\", \"resolution\": \"dl\", \"score\": 0.8294735550880432, \"all_codes\": [\"18286-5\", \"76650-1\", \"43740-0\", \"2367-1\", \"LA19932-5\"], \"concept_name_detailed\": [\"DL [Donath Landsteiner Ab [Presence] in Blood]\", \"Gd [Gadolinium [Mass/mass] in Hair]\", \"G/I [Glucose/Insulin [Mass Ratio] in Serum or Plasma]\", \"GLD [Glutamate dehydrogenase [Enzymatic activity/volume] in Serum or Plasma]\", \"G/G (wild type) [G/G (wild type)]\"], \"domain_id\": [\"Observation\", \"Observation\", \"Observation\", \"Observation\", \"Meas Value\"], \"all_resolutions\": [\"dl\", \"gd\", \"g/i\", \"gld\", \"g/g (wild type)\"], \"all_score\": [0.8294735550880432, 0.8090059757232666, 0.8026497960090637, 0.7987967729568481, 0.7837276458740234]}, {\"begin\": 585, \"end\": 594, \"ner_chunk\": \"Hematocrit\", \"ner_label\": \"Test\", \"ner_confidence\": \"0.9983\", \"concept_code\": \"LP15101-6\", \"resolution\": \"hematocrit\", \"score\": 0.999998927116394, \"all_codes\": [\"LP15101-6\", \"LP308151-2\", \"LP392494-3\", \"LP392484-4\", \"LP392480-2\"], \"concept_name_detailed\": [\"Hematocrit [Hematocrit]\", \"Hematocrit/Hemoglobin [Hematocrit/Hemoglobin]\", \"Hematocrit | Stem cell product | Hematology and Cell counts [Hematocrit | Stem cell product | Hematology and Cell counts]\", \"Hematocrit | Blood venous | Hematology and Cell counts [Hematocrit | Blood venous | Hematology and Cell counts]\", \"Hematocrit | Blood arterial | Hematology and Cell counts [Hematocrit | Blood arterial | Hematology and Cell counts]\"], \"domain_id\": [\"Observation\", \"Observation\", \"Measurement\", \"Measurement\", \"Measurement\"], \"all_resolutions\": [\"hematocrit\", \"hematocrit/hemoglobin\", \"hematocrit | stem cell product | hematology and cell counts\", \"hematocrit | blood venous | hematology and cell counts\", \"hematocrit | blood arterial | hematology and cell counts\"], \"all_score\": [0.999998927116394, 0.9189162850379944, 0.9059693813323975, 0.8906344175338745, 0.8904138803482056]}, {\"begin\": 602, \"end\": 624, \"ner_chunk\": \"Mean Corpuscular Volume\", \"ner_label\": \"Test\", \"ner_confidence\": \"0.7142666\", \"concept_code\": \"LP15191-7\", \"resolution\": \"erythrocyte mean corpuscular volume\", \"score\": 0.8824691772460938, \"all_codes\": [\"LP15191-7\", \"LP66395-2\", \"51641-9\", \"LP393360-5\", \"LP393361-3\"], \"concept_name_detailed\": [\"Erythrocyte mean corpuscular volume [Erythrocyte mean corpuscular volume]\", \"Mean sphered cell volume [Mean sphered cell volume]\", \"Mean sphered cell volume [Entitic volume] in Red Blood Cells [Mean sphered cell volume [Entitic volume] in Red Blood Cells]\", \"Erythrocyte mean corpuscular volume | Blood cord | Hematology and Cell counts [Erythrocyte mean corpuscular volume | Blood cord | Hematology and Cell counts]\", \"Erythrocyte mean corpuscular volume | Red Blood Cells | Hematology and Cell counts [Erythrocyte mean corpuscular volume | Red Blood Cells | Hematology and Cell counts]\"], \"domain_id\": [\"Observation\", \"Observation\", \"Observation\", \"Measurement\", \"Measurement\"], \"all_resolutions\": [\"erythrocyte mean corpuscular volume\", \"mean sphered cell volume\", \"mean sphered cell volume [entitic volume] in red blood cells\", \"erythrocyte mean corpuscular volume | blood cord | hematology and cell counts\", \"erythrocyte mean corpuscular volume | red blood cells | hematology and cell counts\"], \"all_score\": [0.8824691772460938, 0.8562332391738892, 0.8337935209274292, 0.828377902507782, 0.8251137733459473]}]}\n"
     ]
    }
   ],
   "source": [
    "input_jsonl_data = create_jsonl(sample_text)\n",
    "data = invoke_realtime_endpoint(input_jsonl_data, content_type=\"application/jsonlines\" , accept=\"application/jsonlines\" )\n",
    "print(data)"
   ]
  },
  {
   "cell_type": "markdown",
   "metadata": {},
   "source": [
    "### B. Delete the endpoint"
   ]
  },
  {
   "cell_type": "markdown",
   "metadata": {},
   "source": [
    "Now that you have successfully performed a real-time inference, you do not need the endpoint any more. You can terminate the endpoint to avoid being charged."
   ]
  },
  {
   "cell_type": "code",
   "execution_count": 15,
   "metadata": {
    "tags": []
   },
   "outputs": [],
   "source": [
    "model.sagemaker_session.delete_endpoint(model_name)\n",
    "model.sagemaker_session.delete_endpoint_config(model_name)"
   ]
  },
  {
   "cell_type": "markdown",
   "metadata": {
    "tags": []
   },
   "source": [
    "## 4. Batch inference"
   ]
  },
  {
   "cell_type": "code",
   "execution_count": 16,
   "metadata": {
    "tags": []
   },
   "outputs": [],
   "source": [
    "validation_json_file_name = \"input.json\"\n",
    "validation_jsonl_file_name = \"input.jsonl\"\n",
    "\n",
    "validation_input_json_path = f\"s3://{s3_bucket}/{model_name}/validation-input/json/\"\n",
    "validation_output_json_path = f\"s3://{s3_bucket}/{model_name}/validation-output/json/\"\n",
    "\n",
    "validation_input_jsonl_path = f\"s3://{s3_bucket}/{model_name}/validation-input/jsonl/\"\n",
    "validation_output_jsonl_path = f\"s3://{s3_bucket}/{model_name}/validation-output/jsonl/\"\n",
    "\n",
    "def upload_to_s3(input_data, file_name):\n",
    "    file_format = os.path.splitext(file_name)[1].lower()\n",
    "    s3_client.put_object(\n",
    "        Bucket=s3_bucket,\n",
    "        Key=f\"{model_name}/validation-input/{file_format[1:]}/{file_name}\",\n",
    "        Body=input_data.encode(\"UTF-8\"),\n",
    "    )"
   ]
  },
  {
   "cell_type": "code",
   "execution_count": 17,
   "metadata": {
    "tags": []
   },
   "outputs": [],
   "source": [
    "# Create JSON and JSON Lines data\n",
    "input_jsonl_data = create_jsonl(docs)\n",
    "input_json_data = json.dumps({\"text\": docs})\n",
    "\n",
    "# Upload JSON and JSON Lines data to S3\n",
    "upload_to_s3(input_json_data, validation_json_file_name)\n",
    "upload_to_s3(input_jsonl_data, validation_jsonl_file_name)"
   ]
  },
  {
   "cell_type": "markdown",
   "metadata": {
    "tags": []
   },
   "source": [
    "### JSON"
   ]
  },
  {
   "cell_type": "code",
   "execution_count": null,
   "metadata": {
    "tags": []
   },
   "outputs": [],
   "source": [
    "transformer = model.transformer(\n",
    "    instance_count=1,\n",
    "    instance_type=batch_transform_inference_instance_type,\n",
    "    accept=\"application/json\",\n",
    "    output_path=validation_output_json_path\n",
    ")\n",
    "\n",
    "transformer.transform(validation_input_json_path, content_type=\"application/json\")\n",
    "transformer.wait()"
   ]
  },
  {
   "cell_type": "code",
   "execution_count": null,
   "metadata": {
    "tags": []
   },
   "outputs": [],
   "source": [
    "def retrieve_json_output_from_s3(validation_file_name):\n",
    "    parsed_url = urlparse(transformer.output_path)\n",
    "    file_key = f\"{parsed_url.path[1:]}{validation_file_name}.out\"\n",
    "    response = s3_client.get_object(Bucket=s3_bucket, Key=file_key)\n",
    "\n",
    "    data = json.loads(response[\"Body\"].read().decode(\"utf-8\"))\n",
    "    display(data)"
   ]
  },
  {
   "cell_type": "code",
   "execution_count": 21,
   "metadata": {
    "tags": []
   },
   "outputs": [
    {
     "data": {
      "text/plain": [
       "{'predictions': [[{'begin': 90,\n",
       "    'end': 93,\n",
       "    'ner_chunk': 'BMI)',\n",
       "    'ner_label': 'Test',\n",
       "    'ner_confidence': '0.698',\n",
       "    'concept_code': '39156-5',\n",
       "    'resolution': 'bmi',\n",
       "    'score': 0.9296666383743286,\n",
       "    'all_codes': ['39156-5', 'LP35925-4', '89270-3', '39156-5', '88087-2'],\n",
       "    'concept_name_detailed': ['BMI [Body mass index (BMI) [Ratio]]',\n",
       "     'Body mass index (BMI) [Body mass index (BMI)]',\n",
       "     'BMI Est [Body mass index (BMI) [Ratio] Estimated]',\n",
       "     'Body mass index (BMI) [Ratio] [Body mass index (BMI) [Ratio]]',\n",
       "     'Estimated BMI >40 [Estimated BMI greater than 40]'],\n",
       "    'domain_id': ['Observation',\n",
       "     'Observation',\n",
       "     'Observation',\n",
       "     'Observation',\n",
       "     'Observation'],\n",
       "    'all_resolutions': ['bmi',\n",
       "     'body mass index (bmi)',\n",
       "     'bmi est',\n",
       "     'body mass index (bmi) [ratio]',\n",
       "     'estimated bmi >40'],\n",
       "    'all_score': [0.9296666383743286,\n",
       "     0.860340416431427,\n",
       "     0.8320395946502686,\n",
       "     0.8205130696296692,\n",
       "     0.8036540150642395]},\n",
       "   {'begin': 110,\n",
       "    'end': 135,\n",
       "    'ner_chunk': 'aspartate aminotransferase',\n",
       "    'ner_label': 'Test',\n",
       "    'ner_confidence': '0.8905',\n",
       "    'concept_code': 'LP15426-7',\n",
       "    'resolution': 'aspartate aminotransferase',\n",
       "    'score': 1.000000238418579,\n",
       "    'all_codes': ['LP15426-7',\n",
       "     '100739-2',\n",
       "     'LP307348-5',\n",
       "     'LP307326-1',\n",
       "     '100739-2'],\n",
       "    'concept_name_detailed': ['Aspartate aminotransferase [Aspartate aminotransferase]',\n",
       "     'Aspartate amino transferase [Aspartate aminotransferase.macromolecular [Presence] in Serum or Plasma]',\n",
       "     'Aspartate aminotransferase/Alanine aminotransferase [Aspartate aminotransferase/Alanine aminotransferase]',\n",
       "     'Alanine aminotransferase/Aspartate aminotransferase [Alanine aminotransferase/Aspartate aminotransferase]',\n",
       "     'Aspartate transaminase [Aspartate aminotransferase.macromolecular [Presence] in Serum or Plasma]'],\n",
       "    'domain_id': ['Observation',\n",
       "     'Observation',\n",
       "     'Observation',\n",
       "     'Observation',\n",
       "     'Observation'],\n",
       "    'all_resolutions': ['aspartate aminotransferase',\n",
       "     'aspartate amino transferase',\n",
       "     'aspartate aminotransferase/alanine aminotransferase',\n",
       "     'alanine aminotransferase/aspartate aminotransferase',\n",
       "     'aspartate transaminase'],\n",
       "    'all_score': [1.000000238418579,\n",
       "     0.917165219783783,\n",
       "     0.9107992053031921,\n",
       "     0.9060167670249939,\n",
       "     0.900547981262207]},\n",
       "   {'begin': 145,\n",
       "    'end': 168,\n",
       "    'ner_chunk': 'alanine aminotransferase',\n",
       "    'ner_label': 'Test',\n",
       "    'ner_confidence': '0.825',\n",
       "    'concept_code': 'LP15333-5',\n",
       "    'resolution': 'alanine aminotransferase',\n",
       "    'score': 1.000000238418579,\n",
       "    'all_codes': ['LP15333-5', '100738-4', 'LP307326-1', '69383-8', '59245-1'],\n",
       "    'concept_name_detailed': ['Alanine aminotransferase [Alanine aminotransferase]',\n",
       "     'Alanine transaminase [Alanine aminotransferase.macromolecular [Presence] in Serum or Plasma]',\n",
       "     'Alanine aminotransferase/Aspartate aminotransferase [Alanine aminotransferase/Aspartate aminotransferase]',\n",
       "     'alanine-glyoxylate aminotransferase [AGXT gene targeted mutation analysis in Blood or Tissue by Molecular genetics method]',\n",
       "     'Alanine-glyoxylic aminotransferase [Alanine glyoxylate aminotransferase [Enzymatic activity/mass] in Tissue]'],\n",
       "    'domain_id': ['Observation',\n",
       "     'Observation',\n",
       "     'Observation',\n",
       "     'Observation',\n",
       "     'Observation'],\n",
       "    'all_resolutions': ['alanine aminotransferase',\n",
       "     'alanine transaminase',\n",
       "     'alanine aminotransferase/aspartate aminotransferase',\n",
       "     'alanine-glyoxylate aminotransferase',\n",
       "     'alanine-glyoxylic aminotransferase'],\n",
       "    'all_score': [1.000000238418579,\n",
       "     0.9021456837654114,\n",
       "     0.897334635257721,\n",
       "     0.8878636360168457,\n",
       "     0.8853920102119446]}],\n",
       "  [{'begin': 43,\n",
       "    'end': 71,\n",
       "    'ner_chunk': 'the peripheral blood specimen',\n",
       "    'ner_label': 'Test',\n",
       "    'ner_confidence': '0.69299996',\n",
       "    'concept_code': '12963-5',\n",
       "    'resolution': 'blood - peripheral',\n",
       "    'score': 0.8685218691825867,\n",
       "    'all_codes': ['12963-5',\n",
       "     'LP7072-4',\n",
       "     'LP207787-5',\n",
       "     '34618-9',\n",
       "     'LP250998-4'],\n",
       "    'concept_name_detailed': ['Blood - peripheral [Urea nitrogen [Mass/volume] in Peripheral blood]',\n",
       "     'Blood peripheral [Blood peripheral]',\n",
       "     'Blood sampling performed [Blood sampling performed]',\n",
       "     'Hemoglobin [Presence] in Specimen [Hemoglobin [Presence] in Specimen]',\n",
       "     'Peripheral vessels [Peripheral vessels]'],\n",
       "    'domain_id': ['Observation',\n",
       "     'Observation',\n",
       "     'Observation',\n",
       "     'Observation',\n",
       "     'Observation'],\n",
       "    'all_resolutions': ['blood - peripheral',\n",
       "     'blood peripheral',\n",
       "     'blood sampling performed',\n",
       "     'hemoglobin [presence] in specimen',\n",
       "     'peripheral vessels'],\n",
       "    'all_score': [0.8685218691825867,\n",
       "     0.8682698607444763,\n",
       "     0.8076968789100647,\n",
       "     0.7744244933128357,\n",
       "     0.7725335955619812]},\n",
       "   {'begin': 77,\n",
       "    'end': 103,\n",
       "    'ner_chunk': 'a polymerase chain reaction',\n",
       "    'ner_label': 'Test',\n",
       "    'ner_confidence': '0.73675',\n",
       "    'concept_code': '100156-9',\n",
       "    'resolution': 'polymerase chain reaction',\n",
       "    'score': 0.9560185074806213,\n",
       "    'all_codes': ['100156-9', '100019-9', '101291-3', 'LA26419-4', '73656-1'],\n",
       "    'concept_name_detailed': ['Polymerase chain reaction [SARS-CoV-2 (COVID-19) variant [Type] in Specimen by NAA with probe detection]',\n",
       "     'PCR [ALK gene mutations found [Identifier] in Blood or Tissue by Molecular genetics method Nominal]',\n",
       "     'EV-PCR [Rhinovirus+Enterovirus RNA [Presence] in Throat by NAA with non-probe detection]',\n",
       "     'qPCR (real-time PCR) [qPCR (real-time PCR)]',\n",
       "     'DNA polymerase [Varicella zoster virus ORF28 genotype [Identifier]]'],\n",
       "    'domain_id': ['Observation',\n",
       "     'Observation',\n",
       "     'Observation',\n",
       "     'Meas Value',\n",
       "     'Observation'],\n",
       "    'all_resolutions': ['polymerase chain reaction',\n",
       "     'pcr',\n",
       "     'ev-pcr',\n",
       "     'qpcr (real-time pcr)',\n",
       "     'dna polymerase'],\n",
       "    'all_score': [0.9560185074806213,\n",
       "     0.858952522277832,\n",
       "     0.8178107142448425,\n",
       "     0.8075778484344482,\n",
       "     0.7939333915710449]},\n",
       "   {'begin': 106,\n",
       "    'end': 121,\n",
       "    'ner_chunk': 'PCR)-based assay',\n",
       "    'ner_label': 'Test',\n",
       "    'ner_confidence': '0.75715',\n",
       "    'concept_code': '100019-9',\n",
       "    'resolution': 'pcr',\n",
       "    'score': 0.8697161078453064,\n",
       "    'all_codes': ['100019-9', '100156-9', 'LA26419-4', '101291-3', '100156-9'],\n",
       "    'concept_name_detailed': ['PCR [ALK gene mutations found [Identifier] in Blood or Tissue by Molecular genetics method Nominal]',\n",
       "     'Polymerase chain reaction [SARS-CoV-2 (COVID-19) variant [Type] in Specimen by NAA with probe detection]',\n",
       "     'qPCR (real-time PCR) [qPCR (real-time PCR)]',\n",
       "     'EV-PCR [Rhinovirus+Enterovirus RNA [Presence] in Throat by NAA with non-probe detection]',\n",
       "     'Nucleic acid sequence based analysis [SARS-CoV-2 (COVID-19) variant [Type] in Specimen by NAA with probe detection]'],\n",
       "    'domain_id': ['Observation',\n",
       "     'Observation',\n",
       "     'Meas Value',\n",
       "     'Observation',\n",
       "     'Observation'],\n",
       "    'all_resolutions': ['pcr',\n",
       "     'polymerase chain reaction',\n",
       "     'qpcr (real-time pcr)',\n",
       "     'ev-pcr',\n",
       "     'nucleic acid sequence based analysis'],\n",
       "    'all_score': [0.8697161078453064,\n",
       "     0.8195242881774902,\n",
       "     0.8192642331123352,\n",
       "     0.8135446310043335,\n",
       "     0.7963398694992065]}]]}"
      ]
     },
     "metadata": {},
     "output_type": "display_data"
    }
   ],
   "source": [
    "retrieve_json_output_from_s3(validation_json_file_name)"
   ]
  },
  {
   "cell_type": "markdown",
   "metadata": {},
   "source": [
    "### JSON Lines"
   ]
  },
  {
   "cell_type": "code",
   "execution_count": null,
   "metadata": {
    "tags": []
   },
   "outputs": [],
   "source": [
    "transformer = model.transformer(\n",
    "    instance_count=1,\n",
    "    instance_type=batch_transform_inference_instance_type,\n",
    "    accept=\"application/jsonlines\",\n",
    "    output_path=validation_output_jsonl_path\n",
    ")\n",
    "transformer.transform(validation_input_jsonl_path, content_type=\"application/jsonlines\")\n",
    "transformer.wait()"
   ]
  },
  {
   "cell_type": "code",
   "execution_count": null,
   "metadata": {
    "tags": []
   },
   "outputs": [],
   "source": [
    "def retrieve_jsonlines_output_from_s3(validation_file_name):\n",
    "\n",
    "    parsed_url = urlparse(transformer.output_path)\n",
    "    file_key = f\"{parsed_url.path[1:]}{validation_file_name}.out\"\n",
    "    response = s3_client.get_object(Bucket=s3_bucket, Key=file_key)\n",
    "\n",
    "    data = response[\"Body\"].read().decode(\"utf-8\")\n",
    "    print(data)"
   ]
  },
  {
   "cell_type": "code",
   "execution_count": 24,
   "metadata": {
    "tags": []
   },
   "outputs": [
    {
     "name": "stdout",
     "output_type": "stream",
     "text": [
      "{\"predictions\": [{\"begin\": 90, \"end\": 93, \"ner_chunk\": \"BMI)\", \"ner_label\": \"Test\", \"ner_confidence\": \"0.698\", \"concept_code\": \"39156-5\", \"resolution\": \"bmi\", \"score\": 0.9296666383743286, \"all_codes\": [\"39156-5\", \"LP35925-4\", \"89270-3\", \"39156-5\", \"88087-2\"], \"concept_name_detailed\": [\"BMI [Body mass index (BMI) [Ratio]]\", \"Body mass index (BMI) [Body mass index (BMI)]\", \"BMI Est [Body mass index (BMI) [Ratio] Estimated]\", \"Body mass index (BMI) [Ratio] [Body mass index (BMI) [Ratio]]\", \"Estimated BMI >40 [Estimated BMI greater than 40]\"], \"domain_id\": [\"Observation\", \"Observation\", \"Observation\", \"Observation\", \"Observation\"], \"all_resolutions\": [\"bmi\", \"body mass index (bmi)\", \"bmi est\", \"body mass index (bmi) [ratio]\", \"estimated bmi >40\"], \"all_score\": [0.9296666383743286, 0.860340416431427, 0.8320395946502686, 0.8205130696296692, 0.8036540150642395]}, {\"begin\": 110, \"end\": 135, \"ner_chunk\": \"aspartate aminotransferase\", \"ner_label\": \"Test\", \"ner_confidence\": \"0.8905\", \"concept_code\": \"LP15426-7\", \"resolution\": \"aspartate aminotransferase\", \"score\": 1.000000238418579, \"all_codes\": [\"LP15426-7\", \"100739-2\", \"LP307348-5\", \"LP307326-1\", \"100739-2\"], \"concept_name_detailed\": [\"Aspartate aminotransferase [Aspartate aminotransferase]\", \"Aspartate amino transferase [Aspartate aminotransferase.macromolecular [Presence] in Serum or Plasma]\", \"Aspartate aminotransferase/Alanine aminotransferase [Aspartate aminotransferase/Alanine aminotransferase]\", \"Alanine aminotransferase/Aspartate aminotransferase [Alanine aminotransferase/Aspartate aminotransferase]\", \"Aspartate transaminase [Aspartate aminotransferase.macromolecular [Presence] in Serum or Plasma]\"], \"domain_id\": [\"Observation\", \"Observation\", \"Observation\", \"Observation\", \"Observation\"], \"all_resolutions\": [\"aspartate aminotransferase\", \"aspartate amino transferase\", \"aspartate aminotransferase/alanine aminotransferase\", \"alanine aminotransferase/aspartate aminotransferase\", \"aspartate transaminase\"], \"all_score\": [1.000000238418579, 0.917165219783783, 0.9107992053031921, 0.9060167670249939, 0.900547981262207]}, {\"begin\": 145, \"end\": 168, \"ner_chunk\": \"alanine aminotransferase\", \"ner_label\": \"Test\", \"ner_confidence\": \"0.825\", \"concept_code\": \"LP15333-5\", \"resolution\": \"alanine aminotransferase\", \"score\": 1.000000238418579, \"all_codes\": [\"LP15333-5\", \"100738-4\", \"LP307326-1\", \"69383-8\", \"59245-1\"], \"concept_name_detailed\": [\"Alanine aminotransferase [Alanine aminotransferase]\", \"Alanine transaminase [Alanine aminotransferase.macromolecular [Presence] in Serum or Plasma]\", \"Alanine aminotransferase/Aspartate aminotransferase [Alanine aminotransferase/Aspartate aminotransferase]\", \"alanine-glyoxylate aminotransferase [AGXT gene targeted mutation analysis in Blood or Tissue by Molecular genetics method]\", \"Alanine-glyoxylic aminotransferase [Alanine glyoxylate aminotransferase [Enzymatic activity/mass] in Tissue]\"], \"domain_id\": [\"Observation\", \"Observation\", \"Observation\", \"Observation\", \"Observation\"], \"all_resolutions\": [\"alanine aminotransferase\", \"alanine transaminase\", \"alanine aminotransferase/aspartate aminotransferase\", \"alanine-glyoxylate aminotransferase\", \"alanine-glyoxylic aminotransferase\"], \"all_score\": [1.000000238418579, 0.9021456837654114, 0.897334635257721, 0.8878636360168457, 0.8853920102119446]}]}\n",
      "{\"predictions\": [{\"begin\": 43, \"end\": 71, \"ner_chunk\": \"the peripheral blood specimen\", \"ner_label\": \"Test\", \"ner_confidence\": \"0.69299996\", \"concept_code\": \"12963-5\", \"resolution\": \"blood - peripheral\", \"score\": 0.8685218691825867, \"all_codes\": [\"12963-5\", \"LP7072-4\", \"LP207787-5\", \"34618-9\", \"LP250998-4\"], \"concept_name_detailed\": [\"Blood - peripheral [Urea nitrogen [Mass/volume] in Peripheral blood]\", \"Blood peripheral [Blood peripheral]\", \"Blood sampling performed [Blood sampling performed]\", \"Hemoglobin [Presence] in Specimen [Hemoglobin [Presence] in Specimen]\", \"Peripheral vessels [Peripheral vessels]\"], \"domain_id\": [\"Observation\", \"Observation\", \"Observation\", \"Observation\", \"Observation\"], \"all_resolutions\": [\"blood - peripheral\", \"blood peripheral\", \"blood sampling performed\", \"hemoglobin [presence] in specimen\", \"peripheral vessels\"], \"all_score\": [0.8685218691825867, 0.8682698607444763, 0.8076968789100647, 0.7744244933128357, 0.7725335955619812]}, {\"begin\": 77, \"end\": 103, \"ner_chunk\": \"a polymerase chain reaction\", \"ner_label\": \"Test\", \"ner_confidence\": \"0.73675\", \"concept_code\": \"100156-9\", \"resolution\": \"polymerase chain reaction\", \"score\": 0.9560185074806213, \"all_codes\": [\"100156-9\", \"100019-9\", \"101291-3\", \"LA26419-4\", \"73656-1\"], \"concept_name_detailed\": [\"Polymerase chain reaction [SARS-CoV-2 (COVID-19) variant [Type] in Specimen by NAA with probe detection]\", \"PCR [ALK gene mutations found [Identifier] in Blood or Tissue by Molecular genetics method Nominal]\", \"EV-PCR [Rhinovirus+Enterovirus RNA [Presence] in Throat by NAA with non-probe detection]\", \"qPCR (real-time PCR) [qPCR (real-time PCR)]\", \"DNA polymerase [Varicella zoster virus ORF28 genotype [Identifier]]\"], \"domain_id\": [\"Observation\", \"Observation\", \"Observation\", \"Meas Value\", \"Observation\"], \"all_resolutions\": [\"polymerase chain reaction\", \"pcr\", \"ev-pcr\", \"qpcr (real-time pcr)\", \"dna polymerase\"], \"all_score\": [0.9560185074806213, 0.858952522277832, 0.8178107142448425, 0.8075778484344482, 0.7939333915710449]}, {\"begin\": 106, \"end\": 121, \"ner_chunk\": \"PCR)-based assay\", \"ner_label\": \"Test\", \"ner_confidence\": \"0.75715\", \"concept_code\": \"100019-9\", \"resolution\": \"pcr\", \"score\": 0.8697161078453064, \"all_codes\": [\"100019-9\", \"100156-9\", \"LA26419-4\", \"101291-3\", \"100156-9\"], \"concept_name_detailed\": [\"PCR [ALK gene mutations found [Identifier] in Blood or Tissue by Molecular genetics method Nominal]\", \"Polymerase chain reaction [SARS-CoV-2 (COVID-19) variant [Type] in Specimen by NAA with probe detection]\", \"qPCR (real-time PCR) [qPCR (real-time PCR)]\", \"EV-PCR [Rhinovirus+Enterovirus RNA [Presence] in Throat by NAA with non-probe detection]\", \"Nucleic acid sequence based analysis [SARS-CoV-2 (COVID-19) variant [Type] in Specimen by NAA with probe detection]\"], \"domain_id\": [\"Observation\", \"Observation\", \"Meas Value\", \"Observation\", \"Observation\"], \"all_resolutions\": [\"pcr\", \"polymerase chain reaction\", \"qpcr (real-time pcr)\", \"ev-pcr\", \"nucleic acid sequence based analysis\"], \"all_score\": [0.8697161078453064, 0.8195242881774902, 0.8192642331123352, 0.8135446310043335, 0.7963398694992065]}]}\n"
     ]
    }
   ],
   "source": [
    "retrieve_jsonlines_output_from_s3(validation_jsonl_file_name)"
   ]
  },
  {
   "cell_type": "code",
   "execution_count": 25,
   "metadata": {
    "tags": []
   },
   "outputs": [
    {
     "name": "stderr",
     "output_type": "stream",
     "text": [
      "INFO:sagemaker:Deleting model with name: loinc-vdb-resolver-2025-08-15-14-29-41-686\n"
     ]
    }
   ],
   "source": [
    "model.delete_model()"
   ]
  },
  {
   "cell_type": "markdown",
   "metadata": {},
   "source": [
    "### Unsubscribe to the listing (optional)"
   ]
  },
  {
   "cell_type": "markdown",
   "metadata": {
    "tags": []
   },
   "source": [
    "If you would like to unsubscribe to the model package, follow these steps. Before you cancel the subscription, ensure that you do not have any [deployable model](https://console.aws.amazon.com/sagemaker/home#/models) created from the model package or using the algorithm. Note - You can find this information by looking at the container name associated with the model. \n",
    "\n",
    "**Steps to unsubscribe to product from AWS Marketplace**:\n",
    "1. Navigate to __Machine Learning__ tab on [__Your Software subscriptions page__](https://aws.amazon.com/marketplace/ai/library?productType=ml&ref_=mlmp_gitdemo_indust)\n",
    "2. Locate the listing that you want to cancel the subscription for, and then choose __Cancel Subscription__  to cancel the subscription.\n",
    "\n"
   ]
  }
 ],
 "metadata": {
  "instance_type": "ml.t3.medium",
  "kernelspec": {
   "display_name": "conda_python3",
   "language": "python",
   "name": "conda_python3"
  },
  "language_info": {
   "codemirror_mode": {
    "name": "ipython",
    "version": 3
   },
   "file_extension": ".py",
   "mimetype": "text/x-python",
   "name": "python",
   "nbconvert_exporter": "python",
   "pygments_lexer": "ipython3",
   "version": "3.10.18"
  }
 },
 "nbformat": 4,
 "nbformat_minor": 4
}

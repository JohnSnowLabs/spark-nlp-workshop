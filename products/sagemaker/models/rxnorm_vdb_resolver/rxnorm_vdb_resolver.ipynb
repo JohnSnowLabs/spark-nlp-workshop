{
 "cells": [
  {
   "cell_type": "markdown",
   "metadata": {},
   "source": [
    "## 1. Subscribe to the model package"
   ]
  },
  {
   "cell_type": "markdown",
   "metadata": {},
   "source": [
    "To subscribe to the model package:\n",
    "1. Open the model package listing page: [RxNorm sentence entity resolver](https://aws.amazon.com/marketplace/pp/prodview-wfezzkzs6y57k)\n",
    "1. On the AWS Marketplace listing, click on the **Continue to subscribe** button.\n",
    "1. On the **Subscribe to this software** page, review and click on **\"Accept Offer\"** if you and your organization agrees with EULA, pricing, and support terms. \n",
    "1. Once you click on **Continue to configuration button** and then choose a **region**, you will see a **Product Arn** displayed. This is the model package ARN that you need to specify while creating a deployable model using Boto3. Copy the ARN corresponding to your region and specify the same in the following cell."
   ]
  },
  {
   "cell_type": "markdown",
   "metadata": {},
   "source": [
    "## Pipeline for RxNorm Concept Unique Identifier (RxCUI) Sentence Entity Resolver\n",
    "\n",
    "- **Model**: `rxnorm_vdb_resolver`\n",
    "- **Model Description**: This pretrained pipeline extracts `DRUG` entities from clinical text and maps them to their corresponding RxNorm Concept Unique Identifier (RxCUI) codes."
   ]
  },
  {
   "cell_type": "code",
   "execution_count": 1,
   "metadata": {
    "tags": []
   },
   "outputs": [],
   "source": [
    "model_package_arn = \"<Customer to specify Model package ARN corresponding to their AWS region>\""
   ]
  },
  {
   "cell_type": "code",
   "execution_count": null,
   "metadata": {
    "tags": []
   },
   "outputs": [],
   "source": [
    "import base64\n",
    "import json\n",
    "import uuid\n",
    "from sagemaker import ModelPackage\n",
    "import sagemaker as sage\n",
    "from sagemaker import get_execution_role\n",
    "import boto3\n",
    "from IPython.display import Image, display\n",
    "from PIL import Image as ImageEdit\n",
    "import numpy as np"
   ]
  },
  {
   "cell_type": "code",
   "execution_count": null,
   "metadata": {
    "tags": []
   },
   "outputs": [],
   "source": [
    "sagemaker_session = sage.Session()\n",
    "s3_bucket = sagemaker_session.default_bucket()\n",
    "region = sagemaker_session.boto_region_name\n",
    "account_id = boto3.client(\"sts\").get_caller_identity().get(\"Account\")\n",
    "role = get_execution_role()\n",
    "\n",
    "sagemaker = boto3.client(\"sagemaker\")\n",
    "s3_client = sagemaker_session.boto_session.client(\"s3\")\n",
    "ecr = boto3.client(\"ecr\")\n",
    "sm_runtime = boto3.client(\"sagemaker-runtime\")"
   ]
  },
  {
   "cell_type": "code",
   "execution_count": 4,
   "metadata": {
    "tags": []
   },
   "outputs": [],
   "source": [
    "model_name = \"rxnorm-vdb-resolver\"\n",
    "\n",
    "real_time_inference_instance_type = \"ml.m4.xlarge\"\n",
    "batch_transform_inference_instance_type = \"ml.m4.2xlarge\""
   ]
  },
  {
   "cell_type": "markdown",
   "metadata": {},
   "source": [
    "## 2. Create a deployable model from the model package."
   ]
  },
  {
   "cell_type": "code",
   "execution_count": 5,
   "metadata": {
    "tags": []
   },
   "outputs": [],
   "source": [
    "# create a deployable model from the model package.\n",
    "model = ModelPackage(\n",
    "    role=role, \n",
    "    model_package_arn=model_package_arn,\n",
    "    sagemaker_session=sagemaker_session,\n",
    ")\n"
   ]
  },
  {
   "cell_type": "markdown",
   "metadata": {},
   "source": [
    "### Input Format\n",
    "\n",
    "To use the model, you need to provide input in one of the following supported formats:\n",
    "\n",
    "#### JSON Format\n",
    "\n",
    "Provide input as JSON. We support two variations within this format:\n",
    "\n",
    "1. **Array of Text Documents**: \n",
    "   Use an array containing multiple text documents. Each element represents a separate text document.\n",
    "\n",
    "   ```json\n",
    "   {\n",
    "       \"text\": [\n",
    "           \"Text document 1\",\n",
    "           \"Text document 2\",\n",
    "           ...\n",
    "       ]\n",
    "   }\n",
    "\n",
    "    ```\n",
    "\n",
    "2. **Single Text Document**:\n",
    "   Provide a single text document as a string.\n",
    "\n",
    "\n",
    "   ```json\n",
    "    {\n",
    "        \"text\": \"Single text document\"\n",
    "    }\n",
    "   ```\n",
    "\n",
    "#### JSON Lines (JSONL) Format\n",
    "\n",
    "Provide input in JSON Lines format, where each line is a JSON object representing a text document.\n",
    "\n",
    "```\n",
    "{\"text\": \"Text document 1\"}\n",
    "{\"text\": \"Text document 2\"}\n",
    "```"
   ]
  },
  {
   "cell_type": "markdown",
   "metadata": {},
   "source": [
    "## 3. Create an endpoint and perform real-time inference"
   ]
  },
  {
   "cell_type": "markdown",
   "metadata": {},
   "source": [
    "If you want to understand how real-time inference with Amazon SageMaker works, see [Documentation](https://docs.aws.amazon.com/sagemaker/latest/dg/how-it-works-hosting.html)."
   ]
  },
  {
   "cell_type": "markdown",
   "metadata": {},
   "source": [
    "### A. Deploy the SageMaker model to an endpoint"
   ]
  },
  {
   "cell_type": "code",
   "execution_count": null,
   "metadata": {
    "tags": []
   },
   "outputs": [],
   "source": [
    "# Deploy the model\n",
    "predictor = model.deploy(\n",
    "    initial_instance_count=1,\n",
    "    instance_type=real_time_inference_instance_type, \n",
    "    endpoint_name=model_name,\n",
    ")"
   ]
  },
  {
   "cell_type": "markdown",
   "metadata": {},
   "source": [
    "Once endpoint has been created, you would be able to perform real-time inference."
   ]
  },
  {
   "cell_type": "code",
   "execution_count": 7,
   "metadata": {
    "tags": []
   },
   "outputs": [],
   "source": [
    "import json\n",
    "import pandas as pd\n",
    "import os\n",
    "import boto3\n",
    "\n",
    "# Set display options\n",
    "pd.set_option('display.max_rows', None)\n",
    "pd.set_option('display.max_columns', None)\n",
    "pd.set_option('display.max_colwidth', None)\n",
    "\n",
    "\n",
    "def process_data_and_invoke_realtime_endpoint(data, content_type, accept):\n",
    "\n",
    "    content_type_to_format = {'application/json': 'json', 'application/jsonlines': 'jsonl'}\n",
    "    input_format = content_type_to_format.get(content_type)\n",
    "    if content_type not in content_type_to_format.keys() or accept not in content_type_to_format.keys():\n",
    "        raise ValueError(\"Invalid content_type or accept. It should be either 'application/json' or 'application/jsonlines'.\")\n",
    "\n",
    "    i = 1\n",
    "    input_dir = f'inputs/real-time/{input_format}'\n",
    "    output_dir = f'outputs/real-time/{input_format}'\n",
    "    s3_input_dir = f\"{model_name}/validation-input/real-time/{input_format}\"\n",
    "    s3_output_dir = f\"{model_name}/validation-output/real-time/{input_format}\"\n",
    "\n",
    "    input_file_name = f'{input_dir}/input{i}.{input_format}'\n",
    "    output_file_name = f'{output_dir}/{os.path.basename(input_file_name)}.out'\n",
    "\n",
    "    while os.path.exists(input_file_name) or os.path.exists(output_file_name):\n",
    "        i += 1\n",
    "        input_file_name = f'{input_dir}/input{i}.{input_format}'\n",
    "        output_file_name = f'{output_dir}/{os.path.basename(input_file_name)}.out'\n",
    "\n",
    "    os.makedirs(os.path.dirname(input_file_name), exist_ok=True)\n",
    "    os.makedirs(os.path.dirname(output_file_name), exist_ok=True)\n",
    "\n",
    "    input_data = json.dumps(data) if content_type == 'application/json' else data\n",
    "\n",
    "    # Write input data to file\n",
    "    with open(input_file_name, 'w') as f:\n",
    "        f.write(input_data)\n",
    "\n",
    "    # Upload input data to S3\n",
    "    s3_client.put_object(Bucket=s3_bucket, Key=f\"{s3_input_dir}/{os.path.basename(input_file_name)}\", Body=bytes(input_data.encode('UTF-8')))\n",
    "\n",
    "    # Invoke the SageMaker endpoint\n",
    "    response = sm_runtime.invoke_endpoint(\n",
    "        EndpointName=model_name,\n",
    "        ContentType=content_type,\n",
    "        Accept=accept,\n",
    "        Body=input_data,\n",
    "    )\n",
    "\n",
    "    # Read response data\n",
    "    response_data = json.loads(response[\"Body\"].read().decode(\"utf-8\")) if accept == 'application/json' else response['Body'].read().decode('utf-8')\n",
    "\n",
    "    # Save response data to file\n",
    "    with open(output_file_name, 'w') as f_out:\n",
    "        if accept == 'application/json':\n",
    "            json.dump(response_data, f_out, indent=4)\n",
    "        else:\n",
    "            for item in response_data.split('\\n'):\n",
    "                f_out.write(item + '\\n')\n",
    "\n",
    "    # Upload response data to S3\n",
    "    output_s3_key = f\"{s3_output_dir}/{os.path.basename(output_file_name)}\"\n",
    "    if accept == 'application/json':\n",
    "        s3_client.put_object(Bucket=s3_bucket, Key=output_s3_key, Body=json.dumps(response_data).encode('UTF-8'))\n",
    "    else:\n",
    "        s3_client.put_object(Bucket=s3_bucket, Key=output_s3_key, Body=response_data)\n",
    "\n",
    "    return response_data"
   ]
  },
  {
   "cell_type": "markdown",
   "metadata": {},
   "source": [
    "### Initial Setup"
   ]
  },
  {
   "cell_type": "code",
   "execution_count": 8,
   "metadata": {
    "tags": []
   },
   "outputs": [],
   "source": [
    "docs = [\n",
    "    \"She is given folic acid 1 mg daily , levothyroxine 0.1 mg and aspirin 81 mg daily.\",\n",
    "    \"The patient was advised to take Omeprazole 20 mg daily before breakfast for acid reflux.\",\n",
    "]\n",
    "\n",
    "\n",
    "sample_text = \"\"\"He was seen by the endocrinology service and she was discharged on 50 mg of eltrombopag oral at night, 5 mg amlodipine with meals, and metformin 1000 mg two times a day.\"\"\""
   ]
  },
  {
   "cell_type": "markdown",
   "metadata": {},
   "source": [
    "### JSON"
   ]
  },
  {
   "cell_type": "code",
   "execution_count": 9,
   "metadata": {
    "tags": []
   },
   "outputs": [
    {
     "data": {
      "text/html": [
       "<div>\n",
       "<style scoped>\n",
       "    .dataframe tbody tr th:only-of-type {\n",
       "        vertical-align: middle;\n",
       "    }\n",
       "\n",
       "    .dataframe tbody tr th {\n",
       "        vertical-align: top;\n",
       "    }\n",
       "\n",
       "    .dataframe thead th {\n",
       "        text-align: right;\n",
       "    }\n",
       "</style>\n",
       "<table border=\"1\" class=\"dataframe\">\n",
       "  <thead>\n",
       "    <tr style=\"text-align: right;\">\n",
       "      <th></th>\n",
       "      <th>begin</th>\n",
       "      <th>end</th>\n",
       "      <th>ner_chunk</th>\n",
       "      <th>ner_label</th>\n",
       "      <th>ner_confidence</th>\n",
       "      <th>concept_code</th>\n",
       "      <th>resolution</th>\n",
       "      <th>score</th>\n",
       "      <th>concept_class_id</th>\n",
       "      <th>all_codes</th>\n",
       "      <th>concept_name_detailed</th>\n",
       "      <th>all_resolutions</th>\n",
       "      <th>all_score</th>\n",
       "    </tr>\n",
       "  </thead>\n",
       "  <tbody>\n",
       "    <tr>\n",
       "      <th>0</th>\n",
       "      <td>45</td>\n",
       "      <td>91</td>\n",
       "      <td>she was discharged on 50 mg of eltrombopag oral</td>\n",
       "      <td>DRUG</td>\n",
       "      <td>0.6516222</td>\n",
       "      <td>825426</td>\n",
       "      <td>eltrombopag 50 mg</td>\n",
       "      <td>0.808447</td>\n",
       "      <td>[Clinical Drug Comp, Branded Drug Comp, Branded Drug, Clinical Drug, Clinical Drug]</td>\n",
       "      <td>[825426, 825428, 825429, 825427, 825427]</td>\n",
       "      <td>[eltrombopag 50 MG[eltrombopag 50 MG], eltrombopag 50 MG [Promacta][eltrombopag 50 MG [Promacta]], eltrombopag 50 MG Oral Tablet [Promacta][eltrombopag 50 MG Oral Tablet [Promacta]], eltrombopag 50 MG Oral Tablet[eltrombopag 50 MG Oral Tablet], eltrombopag (as eltrombopag olamine) 50 MG Oral Tablet [eltrombopag 50 MG Oral Tablet]]</td>\n",
       "      <td>[eltrombopag 50 mg, eltrombopag 50 mg [promacta], eltrombopag 50 mg oral tablet [promacta], eltrombopag 50 mg oral tablet, eltrombopag (as eltrombopag olamine) 50 mg oral tablet]</td>\n",
       "      <td>[0.8084468841552734, 0.8038963675498962, 0.7828861474990845, 0.7770534157752991, 0.765609622001648]</td>\n",
       "    </tr>\n",
       "    <tr>\n",
       "      <th>1</th>\n",
       "      <td>103</td>\n",
       "      <td>117</td>\n",
       "      <td>5 mg amlodipine</td>\n",
       "      <td>DRUG</td>\n",
       "      <td>0.5661333</td>\n",
       "      <td>329528</td>\n",
       "      <td>amlodipine 5 mg</td>\n",
       "      <td>0.987805</td>\n",
       "      <td>[Clinical Drug Comp, Clinical Drug Comp, Clinical Drug Comp, Branded Drug Comp, Clinical Drug]</td>\n",
       "      <td>[329528, 329527, 2377370, 572722, 197361]</td>\n",
       "      <td>[amlodipine 5 MG[amlodipine 5 MG], amlodipine 2.5 MG[amlodipine 2.5 MG], levamlodipine 5 MG[levamlodipine 5 MG], amlodipine 5 MG [Norvasc][amlodipine 5 MG [Norvasc]], amlodipine 5 MG Oral Tablet[amlodipine 5 MG Oral Tablet]]</td>\n",
       "      <td>[amlodipine 5 mg, amlodipine 2.5 mg, levamlodipine 5 mg, amlodipine 5 mg [norvasc], amlodipine 5 mg oral tablet]</td>\n",
       "      <td>[0.9878053665161133, 0.9416172504425049, 0.9309700727462769, 0.9125789403915405, 0.9114688634872437]</td>\n",
       "    </tr>\n",
       "    <tr>\n",
       "      <th>2</th>\n",
       "      <td>135</td>\n",
       "      <td>151</td>\n",
       "      <td>metformin 1000 mg</td>\n",
       "      <td>DRUG</td>\n",
       "      <td>0.6566333</td>\n",
       "      <td>316255</td>\n",
       "      <td>metformin 1000 mg</td>\n",
       "      <td>1.000000</td>\n",
       "      <td>[Clinical Drug Comp, Clinical Drug Comp, Clinical Drug Comp, Clinical Drug Comp, Branded Drug Comp]</td>\n",
       "      <td>[316255, 316255, 860995, 330861, 860997]</td>\n",
       "      <td>[metformin 1000 MG[metformin 1000 MG], metformin 1000 MG, metformin hydrochloride 1000 MG[metformin hydrochloride 1000 MG], metformin 250 MG[metformin 250 MG], metformin hydrochloride 1000 MG [Fortamet][metformin hydrochloride 1000 MG [Fortamet]]]</td>\n",
       "      <td>[metformin 1000 mg, metformin hcl 1000 mg, metformin hydrochloride 1000 mg, metformin 250 mg, metformin hydrochloride 1000 mg [fortamet]]</td>\n",
       "      <td>[1.0, 0.9527718424797058, 0.9353886842727661, 0.9127198457717896, 0.9050541520118713]</td>\n",
       "    </tr>\n",
       "  </tbody>\n",
       "</table>\n",
       "</div>"
      ],
      "text/plain": [
       "   begin  end                                        ner_chunk ner_label  \\\n",
       "0     45   91  she was discharged on 50 mg of eltrombopag oral      DRUG   \n",
       "1    103  117                                  5 mg amlodipine      DRUG   \n",
       "2    135  151                                metformin 1000 mg      DRUG   \n",
       "\n",
       "  ner_confidence concept_code         resolution     score  \\\n",
       "0      0.6516222       825426  eltrombopag 50 mg  0.808447   \n",
       "1      0.5661333       329528    amlodipine 5 mg  0.987805   \n",
       "2      0.6566333       316255  metformin 1000 mg  1.000000   \n",
       "\n",
       "                                                                                      concept_class_id  \\\n",
       "0                  [Clinical Drug Comp, Branded Drug Comp, Branded Drug, Clinical Drug, Clinical Drug]   \n",
       "1       [Clinical Drug Comp, Clinical Drug Comp, Clinical Drug Comp, Branded Drug Comp, Clinical Drug]   \n",
       "2  [Clinical Drug Comp, Clinical Drug Comp, Clinical Drug Comp, Clinical Drug Comp, Branded Drug Comp]   \n",
       "\n",
       "                                   all_codes  \\\n",
       "0   [825426, 825428, 825429, 825427, 825427]   \n",
       "1  [329528, 329527, 2377370, 572722, 197361]   \n",
       "2   [316255, 316255, 860995, 330861, 860997]   \n",
       "\n",
       "                                                                                                                                                                                                                                                                                                                          concept_name_detailed  \\\n",
       "0  [eltrombopag 50 MG[eltrombopag 50 MG], eltrombopag 50 MG [Promacta][eltrombopag 50 MG [Promacta]], eltrombopag 50 MG Oral Tablet [Promacta][eltrombopag 50 MG Oral Tablet [Promacta]], eltrombopag 50 MG Oral Tablet[eltrombopag 50 MG Oral Tablet], eltrombopag (as eltrombopag olamine) 50 MG Oral Tablet [eltrombopag 50 MG Oral Tablet]]   \n",
       "1                                                                                                              [amlodipine 5 MG[amlodipine 5 MG], amlodipine 2.5 MG[amlodipine 2.5 MG], levamlodipine 5 MG[levamlodipine 5 MG], amlodipine 5 MG [Norvasc][amlodipine 5 MG [Norvasc]], amlodipine 5 MG Oral Tablet[amlodipine 5 MG Oral Tablet]]   \n",
       "2                                                                                       [metformin 1000 MG[metformin 1000 MG], metformin 1000 MG, metformin hydrochloride 1000 MG[metformin hydrochloride 1000 MG], metformin 250 MG[metformin 250 MG], metformin hydrochloride 1000 MG [Fortamet][metformin hydrochloride 1000 MG [Fortamet]]]   \n",
       "\n",
       "                                                                                                                                                                      all_resolutions  \\\n",
       "0  [eltrombopag 50 mg, eltrombopag 50 mg [promacta], eltrombopag 50 mg oral tablet [promacta], eltrombopag 50 mg oral tablet, eltrombopag (as eltrombopag olamine) 50 mg oral tablet]   \n",
       "1                                                                    [amlodipine 5 mg, amlodipine 2.5 mg, levamlodipine 5 mg, amlodipine 5 mg [norvasc], amlodipine 5 mg oral tablet]   \n",
       "2                                           [metformin 1000 mg, metformin hcl 1000 mg, metformin hydrochloride 1000 mg, metformin 250 mg, metformin hydrochloride 1000 mg [fortamet]]   \n",
       "\n",
       "                                                                                              all_score  \n",
       "0   [0.8084468841552734, 0.8038963675498962, 0.7828861474990845, 0.7770534157752991, 0.765609622001648]  \n",
       "1  [0.9878053665161133, 0.9416172504425049, 0.9309700727462769, 0.9125789403915405, 0.9114688634872437]  \n",
       "2                 [1.0, 0.9527718424797058, 0.9353886842727661, 0.9127198457717896, 0.9050541520118713]  "
      ]
     },
     "execution_count": 9,
     "metadata": {},
     "output_type": "execute_result"
    }
   ],
   "source": [
    "input_json_data = {\"text\": sample_text}\n",
    "data =  process_data_and_invoke_realtime_endpoint(input_json_data, content_type=\"application/json\" , accept=\"application/json\" )\n",
    "pd.DataFrame(data[\"predictions\"][0])"
   ]
  },
  {
   "cell_type": "markdown",
   "metadata": {},
   "source": [
    "### JSON Lines"
   ]
  },
  {
   "cell_type": "code",
   "execution_count": 10,
   "metadata": {
    "tags": []
   },
   "outputs": [],
   "source": [
    "import json\n",
    "\n",
    "def create_jsonl(records):\n",
    "\n",
    "    if isinstance(records, str):\n",
    "        records = [records]\n",
    "\n",
    "    json_records = []\n",
    "\n",
    "    for text in records:\n",
    "        record = {\n",
    "            \"text\": text\n",
    "        }\n",
    "        json_records.append(record)\n",
    "\n",
    "    json_lines = '\\n'.join(json.dumps(record) for record in json_records)\n",
    "\n",
    "    return json_lines"
   ]
  },
  {
   "cell_type": "code",
   "execution_count": 11,
   "metadata": {
    "tags": []
   },
   "outputs": [
    {
     "name": "stdout",
     "output_type": "stream",
     "text": [
      "{\"predictions\": [{\"begin\": 45, \"end\": 91, \"ner_chunk\": \"she was discharged on 50 mg of eltrombopag oral\", \"ner_label\": \"DRUG\", \"ner_confidence\": \"0.6516222\", \"concept_code\": \"825426\", \"resolution\": \"eltrombopag 50 mg\", \"score\": 0.8084468841552734, \"concept_class_id\": [\"Clinical Drug Comp\", \"Branded Drug Comp\", \"Branded Drug\", \"Clinical Drug\", \"Clinical Drug\"], \"all_codes\": [\"825426\", \"825428\", \"825429\", \"825427\", \"825427\"], \"concept_name_detailed\": [\"eltrombopag 50 MG[eltrombopag 50 MG]\", \"eltrombopag 50 MG [Promacta][eltrombopag 50 MG [Promacta]]\", \"eltrombopag 50 MG Oral Tablet [Promacta][eltrombopag 50 MG Oral Tablet [Promacta]]\", \"eltrombopag 50 MG Oral Tablet[eltrombopag 50 MG Oral Tablet]\", \"eltrombopag (as eltrombopag olamine) 50 MG Oral Tablet [eltrombopag 50 MG Oral Tablet]\"], \"all_resolutions\": [\"eltrombopag 50 mg\", \"eltrombopag 50 mg [promacta]\", \"eltrombopag 50 mg oral tablet [promacta]\", \"eltrombopag 50 mg oral tablet\", \"eltrombopag (as eltrombopag olamine) 50 mg oral tablet\"], \"all_score\": [0.8084468841552734, 0.8038963675498962, 0.7828861474990845, 0.7770534157752991, 0.765609622001648]}, {\"begin\": 103, \"end\": 117, \"ner_chunk\": \"5 mg amlodipine\", \"ner_label\": \"DRUG\", \"ner_confidence\": \"0.5661333\", \"concept_code\": \"329528\", \"resolution\": \"amlodipine 5 mg\", \"score\": 0.9878053665161133, \"concept_class_id\": [\"Clinical Drug Comp\", \"Clinical Drug Comp\", \"Clinical Drug Comp\", \"Branded Drug Comp\", \"Clinical Drug\"], \"all_codes\": [\"329528\", \"329527\", \"2377370\", \"572722\", \"197361\"], \"concept_name_detailed\": [\"amlodipine 5 MG[amlodipine 5 MG]\", \"amlodipine 2.5 MG[amlodipine 2.5 MG]\", \"levamlodipine 5 MG[levamlodipine 5 MG]\", \"amlodipine 5 MG [Norvasc][amlodipine 5 MG [Norvasc]]\", \"amlodipine 5 MG Oral Tablet[amlodipine 5 MG Oral Tablet]\"], \"all_resolutions\": [\"amlodipine 5 mg\", \"amlodipine 2.5 mg\", \"levamlodipine 5 mg\", \"amlodipine 5 mg [norvasc]\", \"amlodipine 5 mg oral tablet\"], \"all_score\": [0.9878053665161133, 0.9416172504425049, 0.9309700727462769, 0.9125789403915405, 0.9114688634872437]}, {\"begin\": 135, \"end\": 151, \"ner_chunk\": \"metformin 1000 mg\", \"ner_label\": \"DRUG\", \"ner_confidence\": \"0.6566333\", \"concept_code\": \"316255\", \"resolution\": \"metformin 1000 mg\", \"score\": 1.0, \"concept_class_id\": [\"Clinical Drug Comp\", \"Clinical Drug Comp\", \"Clinical Drug Comp\", \"Clinical Drug Comp\", \"Branded Drug Comp\"], \"all_codes\": [\"316255\", \"316255\", \"860995\", \"330861\", \"860997\"], \"concept_name_detailed\": [\"metformin 1000 MG[metformin 1000 MG]\", \"metformin 1000 MG\", \"metformin hydrochloride 1000 MG[metformin hydrochloride 1000 MG]\", \"metformin 250 MG[metformin 250 MG]\", \"metformin hydrochloride 1000 MG [Fortamet][metformin hydrochloride 1000 MG [Fortamet]]\"], \"all_resolutions\": [\"metformin 1000 mg\", \"metformin hcl 1000 mg\", \"metformin hydrochloride 1000 mg\", \"metformin 250 mg\", \"metformin hydrochloride 1000 mg [fortamet]\"], \"all_score\": [1.0, 0.9527718424797058, 0.9353886842727661, 0.9127198457717896, 0.9050541520118713]}]}\n"
     ]
    }
   ],
   "source": [
    "input_jsonl_data = create_jsonl(sample_text)\n",
    "data = process_data_and_invoke_realtime_endpoint(input_jsonl_data, content_type=\"application/jsonlines\" , accept=\"application/jsonlines\" )\n",
    "print(data)"
   ]
  },
  {
   "cell_type": "markdown",
   "metadata": {},
   "source": [
    "### B. Delete the endpoint"
   ]
  },
  {
   "cell_type": "markdown",
   "metadata": {},
   "source": [
    "Now that you have successfully performed a real-time inference, you do not need the endpoint any more. You can terminate the endpoint to avoid being charged."
   ]
  },
  {
   "cell_type": "code",
   "execution_count": null,
   "metadata": {
    "tags": []
   },
   "outputs": [],
   "source": [
    "model.sagemaker_session.delete_endpoint(model_name)\n",
    "model.sagemaker_session.delete_endpoint_config(model_name)"
   ]
  },
  {
   "cell_type": "markdown",
   "metadata": {
    "tags": []
   },
   "source": [
    "## 4. Batch inference"
   ]
  },
  {
   "cell_type": "code",
   "execution_count": 13,
   "metadata": {
    "tags": []
   },
   "outputs": [],
   "source": [
    "import json\n",
    "import os\n",
    "\n",
    "input_dir = 'inputs/batch'\n",
    "json_input_dir = f\"{input_dir}/json\"\n",
    "jsonl_input_dir = f\"{input_dir}/jsonl\"\n",
    "\n",
    "output_dir = 'outputs/batch'\n",
    "json_output_dir = f\"{output_dir}/json\"\n",
    "jsonl_output_dir = f\"{output_dir}/jsonl\"\n",
    "\n",
    "os.makedirs(json_input_dir, exist_ok=True)\n",
    "os.makedirs(jsonl_input_dir, exist_ok=True)\n",
    "os.makedirs(json_output_dir, exist_ok=True)\n",
    "os.makedirs(jsonl_output_dir, exist_ok=True)\n",
    "\n",
    "validation_json_file_name = \"input.json\"\n",
    "\n",
    "validation_jsonl_file_name = \"input.jsonl\"\n",
    "\n",
    "validation_input_json_path = f\"s3://{s3_bucket}/{model_name}/validation-input/batch/json/\"\n",
    "validation_output_json_path = f\"s3://{s3_bucket}/{model_name}/validation-output/batch/json/\"\n",
    "\n",
    "validation_input_jsonl_path = f\"s3://{s3_bucket}/{model_name}/validation-input/batch/jsonl/\"\n",
    "validation_output_jsonl_path = f\"s3://{s3_bucket}/{model_name}/validation-output/batch/jsonl/\"\n",
    "\n",
    "def write_and_upload_to_s3(input_data, file_name):\n",
    "    file_format = os.path.splitext(file_name)[1].lower()\n",
    "    if file_format == \".json\":\n",
    "        input_data = json.dumps(input_data)\n",
    "\n",
    "    with open(file_name, \"w\") as f:\n",
    "        f.write(input_data)\n",
    "\n",
    "    s3_client.put_object(\n",
    "        Bucket=s3_bucket,\n",
    "        Key=f\"{model_name}/validation-input/batch/{file_format[1:]}/{os.path.basename(file_name)}\",\n",
    "        Body=(bytes(input_data.encode(\"UTF-8\"))),\n",
    "    )"
   ]
  },
  {
   "cell_type": "code",
   "execution_count": 14,
   "metadata": {
    "tags": []
   },
   "outputs": [],
   "source": [
    "input_jsonl_data = create_jsonl(docs)\n",
    "input_json_data = {\"text\": docs}\n",
    "\n",
    "write_and_upload_to_s3(input_json_data, f\"{json_input_dir}/{validation_json_file_name}\")\n",
    "\n",
    "write_and_upload_to_s3(input_jsonl_data, f\"{jsonl_input_dir}/{validation_jsonl_file_name}\")"
   ]
  },
  {
   "cell_type": "markdown",
   "metadata": {},
   "source": [
    "### JSON"
   ]
  },
  {
   "cell_type": "code",
   "execution_count": null,
   "metadata": {
    "tags": []
   },
   "outputs": [],
   "source": [
    "# Initialize a SageMaker Transformer object for making predictions\n",
    "transformer = model.transformer(\n",
    "    instance_count=1,\n",
    "    instance_type=batch_transform_inference_instance_type,\n",
    "    accept=\"application/json\",\n",
    "    output_path=validation_output_json_path\n",
    ")\n",
    "\n",
    "transformer.transform(validation_input_json_path, content_type=\"application/json\")\n",
    "transformer.wait()"
   ]
  },
  {
   "cell_type": "code",
   "execution_count": 16,
   "metadata": {
    "tags": []
   },
   "outputs": [],
   "source": [
    "from urllib.parse import urlparse\n",
    "\n",
    "def process_s3_json_output_and_save(validation_file_name):\n",
    "\n",
    "    output_file_path = f\"{json_output_dir}/{validation_file_name}.out\"\n",
    "    parsed_url = urlparse(transformer.output_path)\n",
    "    file_key = f\"{parsed_url.path[1:]}{validation_file_name}.out\"\n",
    "    response = s3_client.get_object(Bucket=s3_bucket, Key=file_key)\n",
    "\n",
    "    data = json.loads(response[\"Body\"].read().decode(\"utf-8\"))\n",
    "    display(data)\n",
    "\n",
    "    # Save the data to the output file\n",
    "    with open(output_file_path, 'w') as f_out:\n",
    "        json.dump(data, f_out, indent=4)"
   ]
  },
  {
   "cell_type": "code",
   "execution_count": 17,
   "metadata": {
    "tags": []
   },
   "outputs": [
    {
     "data": {
      "text/plain": [
       "{'predictions': [[{'begin': 13,\n",
       "    'end': 27,\n",
       "    'ner_chunk': 'folic acid 1 mg',\n",
       "    'ner_label': 'DRUG',\n",
       "    'ner_confidence': '0.67852503',\n",
       "    'concept_code': '315966',\n",
       "    'resolution': 'folic acid 1 mg',\n",
       "    'score': 1.0000001192092896,\n",
       "    'concept_class_id': ['Clinical Drug Comp',\n",
       "     'Clinical Drug Comp',\n",
       "     'Clinical Drug Comp',\n",
       "     'Branded Drug Comp',\n",
       "     'Clinical Drug Comp'],\n",
       "    'all_codes': ['315966', '1087277', '334757', '542061', '336541'],\n",
       "    'concept_name_detailed': ['folic acid 1 MG[folic acid 1 MG]',\n",
       "     'folic acid 1.1 MG[folic acid 1.1 MG]',\n",
       "     'folic acid 0.1 MG[folic acid 0.1 MG]',\n",
       "     'folic acid 1 MG [Folicet][folic acid 1 MG [Folicet]]',\n",
       "     'folic acid 1 MG/ML[folic acid 1 MG/ML]'],\n",
       "    'all_resolutions': ['folic acid 1 mg',\n",
       "     'folic acid 1.1 mg',\n",
       "     'folic acid 0.1 mg',\n",
       "     'folic acid 1 mg [folicet]',\n",
       "     'folic acid 1 mg/ml'],\n",
       "    'all_score': [1.0000001192092896,\n",
       "     0.9873265027999878,\n",
       "     0.9669881463050842,\n",
       "     0.964435875415802,\n",
       "     0.9637104272842407]},\n",
       "   {'begin': 37,\n",
       "    'end': 56,\n",
       "    'ner_chunk': 'levothyroxine 0.1 mg',\n",
       "    'ner_label': 'DRUG',\n",
       "    'ner_confidence': '0.8457667',\n",
       "    'concept_code': '966402',\n",
       "    'resolution': 'levothyroid 0.1 mg',\n",
       "    'score': 0.9740636348724365,\n",
       "    'concept_class_id': ['Branded Drug Comp',\n",
       "     'Clinical Drug Comp',\n",
       "     'Branded Drug Comp',\n",
       "     'Branded Drug Comp',\n",
       "     'Branded Drug Comp'],\n",
       "    'all_codes': ['966402', '892245', '1605176', '966329', '966402'],\n",
       "    'concept_name_detailed': ['levothyroxine sodium 0.1 MG [Levothyroid]',\n",
       "     'levothyroxine sodium 0.1 MG[levothyroxine sodium 0.1 MG]',\n",
       "     'levothyroxine sodium 0.1 MG [Levocrine][levothyroxine sodium 0.1 MG [Levocrine]]',\n",
       "     'levothyroxine sodium 0.1 MG [Levothroid][levothyroxine sodium 0.1 MG [Levothroid]]',\n",
       "     'levothyroxine sodium 0.1 MG [Levothyroid][levothyroxine sodium 0.1 MG [Levothyroid]]'],\n",
       "    'all_resolutions': ['levothyroid 0.1 mg',\n",
       "     'levothyroxine sodium 0.1 mg',\n",
       "     'levothyroxine sodium 0.1 mg [levocrine]',\n",
       "     'levothyroxine sodium 0.1 mg [levothroid]',\n",
       "     'levothyroxine sodium 0.1 mg [levothyroid]'],\n",
       "    'all_score': [0.9740636348724365,\n",
       "     0.9439408779144287,\n",
       "     0.9438753724098206,\n",
       "     0.940398633480072,\n",
       "     0.940274178981781]},\n",
       "   {'begin': 62,\n",
       "    'end': 74,\n",
       "    'ner_chunk': 'aspirin 81 mg',\n",
       "    'ner_label': 'DRUG',\n",
       "    'ner_confidence': '0.72886664',\n",
       "    'concept_code': '315431',\n",
       "    'resolution': 'aspirin 81 mg',\n",
       "    'score': 1.000000238418579,\n",
       "    'concept_class_id': ['Clinical Drug Comp',\n",
       "     'Clinical Drug',\n",
       "     'Clinical Drug',\n",
       "     'Branded Drug Comp',\n",
       "     'Branded Drug'],\n",
       "    'all_codes': ['315431', '1535484', '1535484', '572161', '211830'],\n",
       "    'concept_name_detailed': ['aspirin 81 MG[aspirin 81 MG]',\n",
       "     'aspirin 81 MG Oral Film',\n",
       "     'aspirin 81 MG Oral Film',\n",
       "     'aspirin 81 MG [Med Aspirin][aspirin 81 MG [Med Aspirin]]',\n",
       "     'aspirin 81 MG Chewable Tablet [Med Aspirin]'],\n",
       "    'all_resolutions': ['aspirin 81 mg',\n",
       "     'aspirin 81 mg 81 mg',\n",
       "     'aspirin 81mg 81 mg',\n",
       "     'aspirin 81 mg [med aspirin]',\n",
       "     'med aspirin 81 mg'],\n",
       "    'all_score': [1.000000238418579,\n",
       "     0.9834105968475342,\n",
       "     0.9758754968643188,\n",
       "     0.9686964750289917,\n",
       "     0.9676640629768372]}],\n",
       "  [{'begin': 32,\n",
       "    'end': 47,\n",
       "    'ner_chunk': 'Omeprazole 20 mg',\n",
       "    'ner_label': 'DRUG',\n",
       "    'ner_confidence': '0.69296664',\n",
       "    'concept_code': '316408',\n",
       "    'resolution': 'omeprazole 20 mg',\n",
       "    'score': 0.9999994039535522,\n",
       "    'concept_class_id': ['Clinical Drug Comp',\n",
       "     'Branded Drug Comp',\n",
       "     'Clinical Drug',\n",
       "     'Branded Drug Comp',\n",
       "     'Clinical Drug'],\n",
       "    'all_codes': ['316408', '967523', '389172', '541245', '389172'],\n",
       "    'concept_name_detailed': ['omeprazole 20 MG[omeprazole 20 MG]',\n",
       "     'omeprazole 20 MG [Omesec][omeprazole 20 MG [Omesec]]',\n",
       "     'omeprazole 20 MG Oral Tablet',\n",
       "     'omeprazole 20 MG [Prilosec][omeprazole 20 MG [Prilosec]]',\n",
       "     'omeprazole 20 MG Oral Tablet'],\n",
       "    'all_resolutions': ['omeprazole 20 mg',\n",
       "     'omeprazole 20 mg [omesec]',\n",
       "     'omeprazole dr 20 mg',\n",
       "     'omeprazole 20 mg [prilosec]',\n",
       "     'dg health omeprazole 20 mg'],\n",
       "    'all_score': [0.9999994039535522,\n",
       "     0.9661180973052979,\n",
       "     0.9660959243774414,\n",
       "     0.9609532356262207,\n",
       "     0.9482972621917725]}]]}"
      ]
     },
     "metadata": {},
     "output_type": "display_data"
    }
   ],
   "source": [
    "process_s3_json_output_and_save(validation_json_file_name)"
   ]
  },
  {
   "cell_type": "markdown",
   "metadata": {},
   "source": [
    "### JSON Lines"
   ]
  },
  {
   "cell_type": "code",
   "execution_count": null,
   "metadata": {
    "tags": []
   },
   "outputs": [],
   "source": [
    "transformer = model.transformer(\n",
    "    instance_count=1,\n",
    "    instance_type=batch_transform_inference_instance_type,\n",
    "    accept=\"application/jsonlines\",\n",
    "    output_path=validation_output_jsonl_path\n",
    ")\n",
    "transformer.transform(validation_input_jsonl_path, content_type=\"application/jsonlines\")\n",
    "transformer.wait()"
   ]
  },
  {
   "cell_type": "code",
   "execution_count": 19,
   "metadata": {
    "tags": []
   },
   "outputs": [],
   "source": [
    "from urllib.parse import urlparse\n",
    "\n",
    "def process_s3_jsonlines_output_and_save(validation_file_name):\n",
    "\n",
    "    output_file_path = f\"{jsonl_output_dir}/{validation_file_name}.out\"\n",
    "    parsed_url = urlparse(transformer.output_path)\n",
    "    file_key = f\"{parsed_url.path[1:]}{validation_file_name}.out\"\n",
    "    response = s3_client.get_object(Bucket=s3_bucket, Key=file_key)\n",
    "\n",
    "    data = response[\"Body\"].read().decode(\"utf-8\")\n",
    "    print(data)\n",
    "\n",
    "    # Save the data to the output file\n",
    "    with open(output_file_path, 'w') as f_out:\n",
    "        for item in data.split('\\n'):\n",
    "            f_out.write(item + '\\n')"
   ]
  },
  {
   "cell_type": "code",
   "execution_count": 20,
   "metadata": {
    "tags": []
   },
   "outputs": [
    {
     "name": "stdout",
     "output_type": "stream",
     "text": [
      "{\"predictions\": [{\"begin\": 13, \"end\": 27, \"ner_chunk\": \"folic acid 1 mg\", \"ner_label\": \"DRUG\", \"ner_confidence\": \"0.67852503\", \"concept_code\": \"315966\", \"resolution\": \"folic acid 1 mg\", \"score\": 1.0000001192092896, \"concept_class_id\": [\"Clinical Drug Comp\", \"Clinical Drug Comp\", \"Clinical Drug Comp\", \"Branded Drug Comp\", \"Clinical Drug Comp\"], \"all_codes\": [\"315966\", \"1087277\", \"334757\", \"542061\", \"336541\"], \"concept_name_detailed\": [\"folic acid 1 MG[folic acid 1 MG]\", \"folic acid 1.1 MG[folic acid 1.1 MG]\", \"folic acid 0.1 MG[folic acid 0.1 MG]\", \"folic acid 1 MG [Folicet][folic acid 1 MG [Folicet]]\", \"folic acid 1 MG/ML[folic acid 1 MG/ML]\"], \"all_resolutions\": [\"folic acid 1 mg\", \"folic acid 1.1 mg\", \"folic acid 0.1 mg\", \"folic acid 1 mg [folicet]\", \"folic acid 1 mg/ml\"], \"all_score\": [1.0000001192092896, 0.9873265027999878, 0.9669881463050842, 0.964435875415802, 0.9637104272842407]}, {\"begin\": 37, \"end\": 56, \"ner_chunk\": \"levothyroxine 0.1 mg\", \"ner_label\": \"DRUG\", \"ner_confidence\": \"0.8457667\", \"concept_code\": \"966402\", \"resolution\": \"levothyroid 0.1 mg\", \"score\": 0.9740636348724365, \"concept_class_id\": [\"Branded Drug Comp\", \"Clinical Drug Comp\", \"Branded Drug Comp\", \"Branded Drug Comp\", \"Branded Drug Comp\"], \"all_codes\": [\"966402\", \"892245\", \"1605176\", \"966329\", \"966402\"], \"concept_name_detailed\": [\"levothyroxine sodium 0.1 MG [Levothyroid]\", \"levothyroxine sodium 0.1 MG[levothyroxine sodium 0.1 MG]\", \"levothyroxine sodium 0.1 MG [Levocrine][levothyroxine sodium 0.1 MG [Levocrine]]\", \"levothyroxine sodium 0.1 MG [Levothroid][levothyroxine sodium 0.1 MG [Levothroid]]\", \"levothyroxine sodium 0.1 MG [Levothyroid][levothyroxine sodium 0.1 MG [Levothyroid]]\"], \"all_resolutions\": [\"levothyroid 0.1 mg\", \"levothyroxine sodium 0.1 mg\", \"levothyroxine sodium 0.1 mg [levocrine]\", \"levothyroxine sodium 0.1 mg [levothroid]\", \"levothyroxine sodium 0.1 mg [levothyroid]\"], \"all_score\": [0.9740636348724365, 0.9439408779144287, 0.9438753724098206, 0.940398633480072, 0.940274178981781]}, {\"begin\": 62, \"end\": 74, \"ner_chunk\": \"aspirin 81 mg\", \"ner_label\": \"DRUG\", \"ner_confidence\": \"0.72886664\", \"concept_code\": \"315431\", \"resolution\": \"aspirin 81 mg\", \"score\": 1.000000238418579, \"concept_class_id\": [\"Clinical Drug Comp\", \"Clinical Drug\", \"Clinical Drug\", \"Branded Drug Comp\", \"Branded Drug\"], \"all_codes\": [\"315431\", \"1535484\", \"1535484\", \"572161\", \"211830\"], \"concept_name_detailed\": [\"aspirin 81 MG[aspirin 81 MG]\", \"aspirin 81 MG Oral Film\", \"aspirin 81 MG Oral Film\", \"aspirin 81 MG [Med Aspirin][aspirin 81 MG [Med Aspirin]]\", \"aspirin 81 MG Chewable Tablet [Med Aspirin]\"], \"all_resolutions\": [\"aspirin 81 mg\", \"aspirin 81 mg 81 mg\", \"aspirin 81mg 81 mg\", \"aspirin 81 mg [med aspirin]\", \"med aspirin 81 mg\"], \"all_score\": [1.000000238418579, 0.9834105968475342, 0.9758754968643188, 0.9686964750289917, 0.9676640629768372]}]}\n",
      "{\"predictions\": [{\"begin\": 32, \"end\": 47, \"ner_chunk\": \"Omeprazole 20 mg\", \"ner_label\": \"DRUG\", \"ner_confidence\": \"0.69296664\", \"concept_code\": \"316408\", \"resolution\": \"omeprazole 20 mg\", \"score\": 0.9999994039535522, \"concept_class_id\": [\"Clinical Drug Comp\", \"Branded Drug Comp\", \"Clinical Drug\", \"Branded Drug Comp\", \"Clinical Drug\"], \"all_codes\": [\"316408\", \"967523\", \"389172\", \"541245\", \"389172\"], \"concept_name_detailed\": [\"omeprazole 20 MG[omeprazole 20 MG]\", \"omeprazole 20 MG [Omesec][omeprazole 20 MG [Omesec]]\", \"omeprazole 20 MG Oral Tablet\", \"omeprazole 20 MG [Prilosec][omeprazole 20 MG [Prilosec]]\", \"omeprazole 20 MG Oral Tablet\"], \"all_resolutions\": [\"omeprazole 20 mg\", \"omeprazole 20 mg [omesec]\", \"omeprazole dr 20 mg\", \"omeprazole 20 mg [prilosec]\", \"dg health omeprazole 20 mg\"], \"all_score\": [0.9999994039535522, 0.9661180973052979, 0.9660959243774414, 0.9609532356262207, 0.9482972621917725]}]}\n"
     ]
    }
   ],
   "source": [
    "process_s3_jsonlines_output_and_save(validation_jsonl_file_name)"
   ]
  },
  {
   "cell_type": "code",
   "execution_count": null,
   "metadata": {
    "tags": []
   },
   "outputs": [],
   "source": [
    "model.delete_model()"
   ]
  },
  {
   "cell_type": "markdown",
   "metadata": {},
   "source": [
    "### Unsubscribe to the listing (optional)"
   ]
  },
  {
   "cell_type": "markdown",
   "metadata": {
    "tags": []
   },
   "source": [
    "If you would like to unsubscribe to the model package, follow these steps. Before you cancel the subscription, ensure that you do not have any [deployable model](https://console.aws.amazon.com/sagemaker/home#/models) created from the model package or using the algorithm. Note - You can find this information by looking at the container name associated with the model. \n",
    "\n",
    "**Steps to unsubscribe to product from AWS Marketplace**:\n",
    "1. Navigate to __Machine Learning__ tab on [__Your Software subscriptions page__](https://aws.amazon.com/marketplace/ai/library?productType=ml&ref_=mlmp_gitdemo_indust)\n",
    "2. Locate the listing that you want to cancel the subscription for, and then choose __Cancel Subscription__  to cancel the subscription.\n",
    "\n"
   ]
  }
 ],
 "metadata": {
  "instance_type": "ml.t3.medium",
  "kernelspec": {
   "display_name": "conda_python3",
   "language": "python",
   "name": "conda_python3"
  },
  "language_info": {
   "codemirror_mode": {
    "name": "ipython",
    "version": 3
   },
   "file_extension": ".py",
   "mimetype": "text/x-python",
   "name": "python",
   "nbconvert_exporter": "python",
   "pygments_lexer": "ipython3",
   "version": "3.10.16"
  }
 },
 "nbformat": 4,
 "nbformat_minor": 4
}

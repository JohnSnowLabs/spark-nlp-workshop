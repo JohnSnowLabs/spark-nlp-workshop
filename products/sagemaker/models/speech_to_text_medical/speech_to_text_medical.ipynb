{
 "cells": [
  {
   "cell_type": "markdown",
   "metadata": {},
   "source": [
    "## 1. Subscribe to the model package"
   ]
  },
  {
   "cell_type": "markdown",
   "metadata": {},
   "source": [
    "To subscribe to the model package:\n",
    "1. Open the model package listing page <font color='red'> For Seller to update:[Title_of_your_product](Provide link to your marketplace listing of your product).</font>\n",
    "1. On the AWS Marketplace listing, click on the **Continue to subscribe** button.\n",
    "1. On the **Subscribe to this software** page, review and click on **\"Accept Offer\"** if you and your organization agrees with EULA, pricing, and support terms. \n",
    "1. Once you click on **Continue to configuration button** and then choose a **region**, you will see a **Product Arn** displayed. This is the model package ARN that you need to specify while creating a deployable model using Boto3. Copy the ARN corresponding to your region and specify the same in the following cell."
   ]
  },
  {
   "cell_type": "markdown",
   "metadata": {},
   "source": [
    "- **Model**: `speech_to_text_medical`\n",
    "- **Model Description**: This pipeline converts audio to text, providing timestamps for each transcribed segment, and assigns speaker IDs. Then, it extracts clinical entities from the transcribed text, assigns assertion statuses, and establishes relationships between the extracted entities.\n"
   ]
  },
  {
   "cell_type": "code",
   "execution_count": 1,
   "metadata": {
    "tags": []
   },
   "outputs": [],
   "source": [
    "model_package_arn = \"<Customer to specify Model package ARN corresponding to their AWS region>\""
   ]
  },
  {
   "cell_type": "code",
   "execution_count": 2,
   "metadata": {
    "tags": []
   },
   "outputs": [
    {
     "name": "stdout",
     "output_type": "stream",
     "text": [
      "sagemaker.config INFO - Not applying SDK defaults from location: /etc/xdg/sagemaker/config.yaml\n",
      "sagemaker.config INFO - Not applying SDK defaults from location: /home/ec2-user/.config/sagemaker/config.yaml\n"
     ]
    }
   ],
   "source": [
    "import base64\n",
    "import json\n",
    "import uuid\n",
    "from sagemaker import ModelPackage\n",
    "import sagemaker as sage\n",
    "from sagemaker import get_execution_role\n",
    "import boto3\n",
    "from IPython.display import Image, display\n",
    "from PIL import Image as ImageEdit\n",
    "import numpy as np"
   ]
  },
  {
   "cell_type": "code",
   "execution_count": 3,
   "metadata": {
    "tags": []
   },
   "outputs": [],
   "source": [
    "sagemaker_session = sage.Session()\n",
    "s3_bucket = sagemaker_session.default_bucket()\n",
    "region = sagemaker_session.boto_region_name\n",
    "account_id = boto3.client(\"sts\").get_caller_identity().get(\"Account\")\n",
    "role = get_execution_role()\n",
    "\n",
    "sagemaker = boto3.client(\"sagemaker\")\n",
    "s3_client = sagemaker_session.boto_session.client(\"s3\")\n",
    "ecr = boto3.client(\"ecr\")\n",
    "sm_runtime = boto3.client(\"sagemaker-runtime\")"
   ]
  },
  {
   "cell_type": "markdown",
   "metadata": {},
   "source": [
    "## 2. Create an endpoint and perform real-time inference"
   ]
  },
  {
   "cell_type": "markdown",
   "metadata": {},
   "source": [
    "If you want to understand how real-time inference with Amazon SageMaker works, see [Documentation](https://docs.aws.amazon.com/sagemaker/latest/dg/how-it-works-hosting.html)."
   ]
  },
  {
   "cell_type": "code",
   "execution_count": 4,
   "metadata": {
    "tags": []
   },
   "outputs": [],
   "source": [
    "model_name = \"speech-to-text-medical\"\n",
    "\n",
    "content_type = \"application/octet-stream\"\n",
    "\n",
    "real_time_inference_instance_type = \"ml.m4.2xlarge\"\n",
    "batch_transform_inference_instance_type = \"ml.m4.2xlarge\""
   ]
  },
  {
   "cell_type": "markdown",
   "metadata": {},
   "source": [
    "### A. Create an endpoint"
   ]
  },
  {
   "cell_type": "code",
   "execution_count": 5,
   "metadata": {
    "tags": []
   },
   "outputs": [
    {
     "name": "stdout",
     "output_type": "stream",
     "text": [
      "-------------!"
     ]
    }
   ],
   "source": [
    "# create a deployable model from the model package.\n",
    "model = ModelPackage(\n",
    "    role=role, model_package_arn=model_package_arn, sagemaker_session=sagemaker_session\n",
    ")\n",
    "\n",
    "# Deploy the model\n",
    "predictor = model.deploy(1, real_time_inference_instance_type, endpoint_name=model_name)"
   ]
  },
  {
   "cell_type": "markdown",
   "metadata": {},
   "source": [
    "Once endpoint has been created, you would be able to perform real-time inference."
   ]
  },
  {
   "cell_type": "markdown",
   "metadata": {},
   "source": [
    "### B. Perform real-time inference"
   ]
  },
  {
   "cell_type": "code",
   "execution_count": 6,
   "metadata": {
    "tags": []
   },
   "outputs": [],
   "source": [
    "import json\n",
    "import pandas as pd\n",
    "import os\n",
    "import boto3\n",
    "import shutil\n",
    "\n",
    "# Set display options\n",
    "pd.set_option('display.max_rows', None)\n",
    "pd.set_option('display.max_columns', None)\n",
    "pd.set_option('display.max_colwidth', None)\n",
    "\n",
    "def process_data_and_invoke_realtime_endpoint(audio_file):\n",
    "    with open(audio_file, \"rb\") as file:\n",
    "        audio_data = file.read()\n",
    "\n",
    "    i = 1\n",
    "    input_extension = os.path.splitext(audio_file)[-1]\n",
    "    input_file_name = f'inputs/real-time/input{i}{input_extension}'\n",
    "\n",
    "    while os.path.exists(input_file_name):\n",
    "        i += 1\n",
    "        input_file_name = f'inputs/real-time/input{i}{input_extension}'\n",
    "\n",
    "    output_file_name = f'outputs/real-time/{os.path.basename(input_file_name)}.out'\n",
    "\n",
    "    os.makedirs(os.path.dirname(input_file_name), exist_ok=True)\n",
    "    os.makedirs(os.path.dirname(output_file_name), exist_ok=True)\n",
    "\n",
    "    shutil.copy2(audio_file, input_file_name)\n",
    "\n",
    "    # Assuming s3_client is defined and used correctly\n",
    "    validation_input_file_path = f\"{model_name}/validation-input/real-time/{os.path.basename(input_file_name)}\"\n",
    "    s3_client.upload_file(audio_file, s3_bucket, validation_input_file_path)\n",
    "\n",
    "    # Assuming sm_runtime is defined and used correctly\n",
    "    response = sm_runtime.invoke_endpoint(\n",
    "        EndpointName=model_name,\n",
    "        ContentType=content_type,\n",
    "        Accept=\"application/json\",\n",
    "        Body=audio_data,\n",
    "    )\n",
    "\n",
    "    # Process response\n",
    "    response_data = json.loads(response[\"Body\"].read().decode(\"utf-8\"))\n",
    "\n",
    "    # Save response data to file\n",
    "    s3_client.put_object(Bucket=s3_bucket, Key=f\"{model_name}/validation-output/real-time/{os.path.basename(output_file_name)}\", Body=json.dumps(response_data).encode('UTF-8'))\n",
    "    with open(output_file_name, 'w') as f_out:\n",
    "        json.dump(response_data, f_out, indent=4)\n",
    "\n",
    "    return response_data\n"
   ]
  },
  {
   "cell_type": "markdown",
   "metadata": {},
   "source": [
    "### Initial setup"
   ]
  },
  {
   "cell_type": "code",
   "execution_count": null,
   "metadata": {
    "tags": []
   },
   "outputs": [],
   "source": [
    "!wget https://raw.githubusercontent.com/JohnSnowLabs/spark-nlp-workshop/master/products/sagemaker/models/speech_to_text_medical/inputs/batch/input1.wav \\\n",
    "     https://raw.githubusercontent.com/JohnSnowLabs/spark-nlp-workshop/master/products/sagemaker/models/speech_to_text_medical/inputs/batch/input2.wav \\\n",
    "     https://raw.githubusercontent.com/JohnSnowLabs/spark-nlp-workshop/master/products/sagemaker/models/speech_to_text_medical/inputs/batch/input3.wav"
   ]
  },
  {
   "cell_type": "markdown",
   "metadata": {},
   "source": [
    "#### Example 1"
   ]
  },
  {
   "cell_type": "code",
   "execution_count": 8,
   "metadata": {
    "tags": []
   },
   "outputs": [],
   "source": [
    "data  = process_data_and_invoke_realtime_endpoint(audio_file = \"input1.wav\")"
   ]
  },
  {
   "cell_type": "code",
   "execution_count": 9,
   "metadata": {
    "tags": []
   },
   "outputs": [],
   "source": [
    "import pandas as pd\n",
    "\n",
    "# Creating the DataFrame\n",
    "document = pd.DataFrame([data[\"document\"]], columns=[\"document\"])\n",
    "segments = pd.DataFrame(data[\"segments\"])\n",
    "ner_df = pd.DataFrame(data[\"ner_predictions\"])\n",
    "assertion_df = pd.DataFrame(data[\"assertion_predictions\"])\n",
    "relation_df = pd.DataFrame(data[\"relation_predictions\"])"
   ]
  },
  {
   "cell_type": "code",
   "execution_count": 10,
   "metadata": {
    "tags": []
   },
   "outputs": [
    {
     "data": {
      "text/html": [
       "<div>\n",
       "<style scoped>\n",
       "    .dataframe tbody tr th:only-of-type {\n",
       "        vertical-align: middle;\n",
       "    }\n",
       "\n",
       "    .dataframe tbody tr th {\n",
       "        vertical-align: top;\n",
       "    }\n",
       "\n",
       "    .dataframe thead th {\n",
       "        text-align: right;\n",
       "    }\n",
       "</style>\n",
       "<table border=\"1\" class=\"dataframe\">\n",
       "  <thead>\n",
       "    <tr style=\"text-align: right;\">\n",
       "      <th></th>\n",
       "      <th>document</th>\n",
       "    </tr>\n",
       "  </thead>\n",
       "  <tbody>\n",
       "    <tr>\n",
       "      <th>0</th>\n",
       "      <td>My husband has a spot on his lip that he thought was cold sore, but now it has broken open and leaks fluid all day</td>\n",
       "    </tr>\n",
       "  </tbody>\n",
       "</table>\n",
       "</div>"
      ],
      "text/plain": [
       "                                                                                                             document\n",
       "0  My husband has a spot on his lip that he thought was cold sore, but now it has broken open and leaks fluid all day"
      ]
     },
     "execution_count": 10,
     "metadata": {},
     "output_type": "execute_result"
    }
   ],
   "source": [
    "document"
   ]
  },
  {
   "cell_type": "code",
   "execution_count": 11,
   "metadata": {
    "tags": []
   },
   "outputs": [
    {
     "data": {
      "text/html": [
       "<div>\n",
       "<style scoped>\n",
       "    .dataframe tbody tr th:only-of-type {\n",
       "        vertical-align: middle;\n",
       "    }\n",
       "\n",
       "    .dataframe tbody tr th {\n",
       "        vertical-align: top;\n",
       "    }\n",
       "\n",
       "    .dataframe thead th {\n",
       "        text-align: right;\n",
       "    }\n",
       "</style>\n",
       "<table border=\"1\" class=\"dataframe\">\n",
       "  <thead>\n",
       "    <tr style=\"text-align: right;\">\n",
       "      <th></th>\n",
       "      <th>speaker</th>\n",
       "      <th>begin</th>\n",
       "      <th>end</th>\n",
       "      <th>text</th>\n",
       "    </tr>\n",
       "  </thead>\n",
       "  <tbody>\n",
       "    <tr>\n",
       "      <th>0</th>\n",
       "      <td>SPEAKER_00</td>\n",
       "      <td>0.401</td>\n",
       "      <td>7.1</td>\n",
       "      <td>My husband has a spot on his lip that he thought was cold sore, but now it has broken open and leaks fluid all day</td>\n",
       "    </tr>\n",
       "  </tbody>\n",
       "</table>\n",
       "</div>"
      ],
      "text/plain": [
       "      speaker  begin  end  \\\n",
       "0  SPEAKER_00  0.401  7.1   \n",
       "\n",
       "                                                                                                                 text  \n",
       "0  My husband has a spot on his lip that he thought was cold sore, but now it has broken open and leaks fluid all day  "
      ]
     },
     "execution_count": 11,
     "metadata": {},
     "output_type": "execute_result"
    }
   ],
   "source": [
    "segments"
   ]
  },
  {
   "cell_type": "code",
   "execution_count": 12,
   "metadata": {
    "tags": []
   },
   "outputs": [
    {
     "data": {
      "text/html": [
       "<div>\n",
       "<style scoped>\n",
       "    .dataframe tbody tr th:only-of-type {\n",
       "        vertical-align: middle;\n",
       "    }\n",
       "\n",
       "    .dataframe tbody tr th {\n",
       "        vertical-align: top;\n",
       "    }\n",
       "\n",
       "    .dataframe thead th {\n",
       "        text-align: right;\n",
       "    }\n",
       "</style>\n",
       "<table border=\"1\" class=\"dataframe\">\n",
       "  <thead>\n",
       "    <tr style=\"text-align: right;\">\n",
       "      <th></th>\n",
       "      <th>ner_chunk</th>\n",
       "      <th>begin</th>\n",
       "      <th>end</th>\n",
       "      <th>ner_label</th>\n",
       "      <th>ner_confidence</th>\n",
       "    </tr>\n",
       "  </thead>\n",
       "  <tbody>\n",
       "    <tr>\n",
       "      <th>0</th>\n",
       "      <td>husband</td>\n",
       "      <td>3</td>\n",
       "      <td>9</td>\n",
       "      <td>Gender</td>\n",
       "      <td>0.9994</td>\n",
       "    </tr>\n",
       "    <tr>\n",
       "      <th>1</th>\n",
       "      <td>spot on his lip</td>\n",
       "      <td>17</td>\n",
       "      <td>31</td>\n",
       "      <td>Symptom</td>\n",
       "      <td>0.55395</td>\n",
       "    </tr>\n",
       "    <tr>\n",
       "      <th>2</th>\n",
       "      <td>he</td>\n",
       "      <td>38</td>\n",
       "      <td>39</td>\n",
       "      <td>Gender</td>\n",
       "      <td>0.9979</td>\n",
       "    </tr>\n",
       "    <tr>\n",
       "      <th>3</th>\n",
       "      <td>cold</td>\n",
       "      <td>53</td>\n",
       "      <td>56</td>\n",
       "      <td>Modifier</td>\n",
       "      <td>0.7477</td>\n",
       "    </tr>\n",
       "    <tr>\n",
       "      <th>4</th>\n",
       "      <td>sore</td>\n",
       "      <td>58</td>\n",
       "      <td>61</td>\n",
       "      <td>Symptom</td>\n",
       "      <td>0.6247</td>\n",
       "    </tr>\n",
       "    <tr>\n",
       "      <th>5</th>\n",
       "      <td>broken open</td>\n",
       "      <td>79</td>\n",
       "      <td>89</td>\n",
       "      <td>Symptom</td>\n",
       "      <td>0.43985</td>\n",
       "    </tr>\n",
       "    <tr>\n",
       "      <th>6</th>\n",
       "      <td>leaks fluid</td>\n",
       "      <td>95</td>\n",
       "      <td>105</td>\n",
       "      <td>Symptom</td>\n",
       "      <td>0.7144</td>\n",
       "    </tr>\n",
       "    <tr>\n",
       "      <th>7</th>\n",
       "      <td>all day</td>\n",
       "      <td>107</td>\n",
       "      <td>113</td>\n",
       "      <td>RelativeDate</td>\n",
       "      <td>0.46680003</td>\n",
       "    </tr>\n",
       "  </tbody>\n",
       "</table>\n",
       "</div>"
      ],
      "text/plain": [
       "         ner_chunk  begin  end     ner_label ner_confidence\n",
       "0          husband      3    9        Gender         0.9994\n",
       "1  spot on his lip     17   31       Symptom        0.55395\n",
       "2               he     38   39        Gender         0.9979\n",
       "3             cold     53   56      Modifier         0.7477\n",
       "4             sore     58   61       Symptom         0.6247\n",
       "5      broken open     79   89       Symptom        0.43985\n",
       "6      leaks fluid     95  105       Symptom         0.7144\n",
       "7          all day    107  113  RelativeDate     0.46680003"
      ]
     },
     "execution_count": 12,
     "metadata": {},
     "output_type": "execute_result"
    }
   ],
   "source": [
    "ner_df"
   ]
  },
  {
   "cell_type": "code",
   "execution_count": 13,
   "metadata": {
    "tags": []
   },
   "outputs": [
    {
     "data": {
      "text/html": [
       "<div>\n",
       "<style scoped>\n",
       "    .dataframe tbody tr th:only-of-type {\n",
       "        vertical-align: middle;\n",
       "    }\n",
       "\n",
       "    .dataframe tbody tr th {\n",
       "        vertical-align: top;\n",
       "    }\n",
       "\n",
       "    .dataframe thead th {\n",
       "        text-align: right;\n",
       "    }\n",
       "</style>\n",
       "<table border=\"1\" class=\"dataframe\">\n",
       "  <thead>\n",
       "    <tr style=\"text-align: right;\">\n",
       "      <th></th>\n",
       "      <th>ner_chunk</th>\n",
       "      <th>begin</th>\n",
       "      <th>end</th>\n",
       "      <th>ner_label</th>\n",
       "      <th>assertion</th>\n",
       "    </tr>\n",
       "  </thead>\n",
       "  <tbody>\n",
       "    <tr>\n",
       "      <th>0</th>\n",
       "      <td>spot on his lip</td>\n",
       "      <td>17</td>\n",
       "      <td>31</td>\n",
       "      <td>Symptom</td>\n",
       "      <td>Present</td>\n",
       "    </tr>\n",
       "    <tr>\n",
       "      <th>1</th>\n",
       "      <td>sore</td>\n",
       "      <td>58</td>\n",
       "      <td>61</td>\n",
       "      <td>Symptom</td>\n",
       "      <td>Possible</td>\n",
       "    </tr>\n",
       "    <tr>\n",
       "      <th>2</th>\n",
       "      <td>broken open</td>\n",
       "      <td>79</td>\n",
       "      <td>89</td>\n",
       "      <td>Symptom</td>\n",
       "      <td>Present</td>\n",
       "    </tr>\n",
       "    <tr>\n",
       "      <th>3</th>\n",
       "      <td>leaks fluid</td>\n",
       "      <td>95</td>\n",
       "      <td>105</td>\n",
       "      <td>Symptom</td>\n",
       "      <td>Present</td>\n",
       "    </tr>\n",
       "  </tbody>\n",
       "</table>\n",
       "</div>"
      ],
      "text/plain": [
       "         ner_chunk  begin  end ner_label assertion\n",
       "0  spot on his lip     17   31   Symptom   Present\n",
       "1             sore     58   61   Symptom  Possible\n",
       "2      broken open     79   89   Symptom   Present\n",
       "3      leaks fluid     95  105   Symptom   Present"
      ]
     },
     "execution_count": 13,
     "metadata": {},
     "output_type": "execute_result"
    }
   ],
   "source": [
    "assertion_df"
   ]
  },
  {
   "cell_type": "code",
   "execution_count": 14,
   "metadata": {
    "tags": []
   },
   "outputs": [
    {
     "data": {
      "text/html": [
       "<div>\n",
       "<style scoped>\n",
       "    .dataframe tbody tr th:only-of-type {\n",
       "        vertical-align: middle;\n",
       "    }\n",
       "\n",
       "    .dataframe tbody tr th {\n",
       "        vertical-align: top;\n",
       "    }\n",
       "\n",
       "    .dataframe thead th {\n",
       "        text-align: right;\n",
       "    }\n",
       "</style>\n",
       "<table border=\"1\" class=\"dataframe\">\n",
       "  <thead>\n",
       "    <tr style=\"text-align: right;\">\n",
       "      <th></th>\n",
       "      <th>ner_chunk1</th>\n",
       "      <th>ner_chunk1_begin</th>\n",
       "      <th>ner_chunk1_end</th>\n",
       "      <th>ner_label1</th>\n",
       "      <th>ner_chunk2</th>\n",
       "      <th>ner_chunk2_begin</th>\n",
       "      <th>ner_chunk2_end</th>\n",
       "      <th>ner_label2</th>\n",
       "      <th>relation</th>\n",
       "      <th>relation_confidence</th>\n",
       "    </tr>\n",
       "  </thead>\n",
       "  <tbody>\n",
       "    <tr>\n",
       "      <th>0</th>\n",
       "      <td>spot on his lip</td>\n",
       "      <td>17</td>\n",
       "      <td>31</td>\n",
       "      <td>Symptom</td>\n",
       "      <td>all day</td>\n",
       "      <td>107</td>\n",
       "      <td>113</td>\n",
       "      <td>RelativeDate</td>\n",
       "      <td>O</td>\n",
       "      <td>0.9802182</td>\n",
       "    </tr>\n",
       "    <tr>\n",
       "      <th>1</th>\n",
       "      <td>sore</td>\n",
       "      <td>58</td>\n",
       "      <td>61</td>\n",
       "      <td>Symptom</td>\n",
       "      <td>all day</td>\n",
       "      <td>107</td>\n",
       "      <td>113</td>\n",
       "      <td>RelativeDate</td>\n",
       "      <td>O</td>\n",
       "      <td>1.0</td>\n",
       "    </tr>\n",
       "    <tr>\n",
       "      <th>2</th>\n",
       "      <td>broken open</td>\n",
       "      <td>79</td>\n",
       "      <td>89</td>\n",
       "      <td>Symptom</td>\n",
       "      <td>all day</td>\n",
       "      <td>107</td>\n",
       "      <td>113</td>\n",
       "      <td>RelativeDate</td>\n",
       "      <td>O</td>\n",
       "      <td>1.0</td>\n",
       "    </tr>\n",
       "    <tr>\n",
       "      <th>3</th>\n",
       "      <td>leaks fluid</td>\n",
       "      <td>95</td>\n",
       "      <td>105</td>\n",
       "      <td>Symptom</td>\n",
       "      <td>all day</td>\n",
       "      <td>107</td>\n",
       "      <td>113</td>\n",
       "      <td>RelativeDate</td>\n",
       "      <td>is_date_of</td>\n",
       "      <td>1.0</td>\n",
       "    </tr>\n",
       "  </tbody>\n",
       "</table>\n",
       "</div>"
      ],
      "text/plain": [
       "        ner_chunk1 ner_chunk1_begin ner_chunk1_end ner_label1 ner_chunk2  \\\n",
       "0  spot on his lip               17             31    Symptom    all day   \n",
       "1             sore               58             61    Symptom    all day   \n",
       "2      broken open               79             89    Symptom    all day   \n",
       "3      leaks fluid               95            105    Symptom    all day   \n",
       "\n",
       "  ner_chunk2_begin ner_chunk2_end    ner_label2    relation  \\\n",
       "0              107            113  RelativeDate           O   \n",
       "1              107            113  RelativeDate           O   \n",
       "2              107            113  RelativeDate           O   \n",
       "3              107            113  RelativeDate  is_date_of   \n",
       "\n",
       "  relation_confidence  \n",
       "0           0.9802182  \n",
       "1                 1.0  \n",
       "2                 1.0  \n",
       "3                 1.0  "
      ]
     },
     "execution_count": 14,
     "metadata": {},
     "output_type": "execute_result"
    }
   ],
   "source": [
    "relation_df"
   ]
  },
  {
   "cell_type": "markdown",
   "metadata": {},
   "source": [
    "#### Example 2"
   ]
  },
  {
   "cell_type": "code",
   "execution_count": 15,
   "metadata": {
    "tags": []
   },
   "outputs": [],
   "source": [
    "data  = process_data_and_invoke_realtime_endpoint(audio_file = \"input2.wav\")"
   ]
  },
  {
   "cell_type": "code",
   "execution_count": 16,
   "metadata": {
    "tags": []
   },
   "outputs": [],
   "source": [
    "import pandas as pd\n",
    "\n",
    "# Creating the DataFrame\n",
    "document = pd.DataFrame([data[\"document\"]], columns=[\"document\"])\n",
    "segments = pd.DataFrame(data[\"segments\"])\n",
    "ner_df = pd.DataFrame(data[\"ner_predictions\"])\n",
    "relation_df = pd.DataFrame(data[\"relation_predictions\"])"
   ]
  },
  {
   "cell_type": "code",
   "execution_count": 17,
   "metadata": {
    "tags": []
   },
   "outputs": [
    {
     "data": {
      "text/html": [
       "<div>\n",
       "<style scoped>\n",
       "    .dataframe tbody tr th:only-of-type {\n",
       "        vertical-align: middle;\n",
       "    }\n",
       "\n",
       "    .dataframe tbody tr th {\n",
       "        vertical-align: top;\n",
       "    }\n",
       "\n",
       "    .dataframe thead th {\n",
       "        text-align: right;\n",
       "    }\n",
       "</style>\n",
       "<table border=\"1\" class=\"dataframe\">\n",
       "  <thead>\n",
       "    <tr style=\"text-align: right;\">\n",
       "      <th></th>\n",
       "      <th>document</th>\n",
       "    </tr>\n",
       "  </thead>\n",
       "  <tbody>\n",
       "    <tr>\n",
       "      <th>0</th>\n",
       "      <td>Lately I've been dealing with congestion and difficulty breathing, especially while eating. After getting the influenza vaccine, I developed a fever and decreased appetite. Despite trying albuterol treatments, my symptoms haven't improved and my urine output has decreased. Hoping for a solution soon.</td>\n",
       "    </tr>\n",
       "  </tbody>\n",
       "</table>\n",
       "</div>"
      ],
      "text/plain": [
       "                                                                                                                                                                                                                                                                                                        document\n",
       "0  Lately I've been dealing with congestion and difficulty breathing, especially while eating. After getting the influenza vaccine, I developed a fever and decreased appetite. Despite trying albuterol treatments, my symptoms haven't improved and my urine output has decreased. Hoping for a solution soon."
      ]
     },
     "execution_count": 17,
     "metadata": {},
     "output_type": "execute_result"
    }
   ],
   "source": [
    "document"
   ]
  },
  {
   "cell_type": "code",
   "execution_count": 18,
   "metadata": {
    "tags": []
   },
   "outputs": [
    {
     "data": {
      "text/html": [
       "<div>\n",
       "<style scoped>\n",
       "    .dataframe tbody tr th:only-of-type {\n",
       "        vertical-align: middle;\n",
       "    }\n",
       "\n",
       "    .dataframe tbody tr th {\n",
       "        vertical-align: top;\n",
       "    }\n",
       "\n",
       "    .dataframe thead th {\n",
       "        text-align: right;\n",
       "    }\n",
       "</style>\n",
       "<table border=\"1\" class=\"dataframe\">\n",
       "  <thead>\n",
       "    <tr style=\"text-align: right;\">\n",
       "      <th></th>\n",
       "      <th>speaker</th>\n",
       "      <th>begin</th>\n",
       "      <th>end</th>\n",
       "      <th>text</th>\n",
       "    </tr>\n",
       "  </thead>\n",
       "  <tbody>\n",
       "    <tr>\n",
       "      <th>0</th>\n",
       "      <td>SPEAKER_00</td>\n",
       "      <td>0.100</td>\n",
       "      <td>4.940</td>\n",
       "      <td>Lately I've been dealing with congestion and difficulty breathing, especially while eating.</td>\n",
       "    </tr>\n",
       "    <tr>\n",
       "      <th>1</th>\n",
       "      <td>SPEAKER_00</td>\n",
       "      <td>5.901</td>\n",
       "      <td>10.880</td>\n",
       "      <td>After getting the influenza vaccine, I developed a fever and decreased appetite.</td>\n",
       "    </tr>\n",
       "    <tr>\n",
       "      <th>2</th>\n",
       "      <td>SPEAKER_00</td>\n",
       "      <td>11.801</td>\n",
       "      <td>15.898</td>\n",
       "      <td>Despite trying albuterol treatments, my symptoms haven't improved</td>\n",
       "    </tr>\n",
       "    <tr>\n",
       "      <th>3</th>\n",
       "      <td>SPEAKER_00</td>\n",
       "      <td>16.481</td>\n",
       "      <td>18.810</td>\n",
       "      <td>and my urine output has decreased.</td>\n",
       "    </tr>\n",
       "    <tr>\n",
       "      <th>4</th>\n",
       "      <td>SPEAKER_00</td>\n",
       "      <td>19.693</td>\n",
       "      <td>20.999</td>\n",
       "      <td>Hoping for a solution soon.</td>\n",
       "    </tr>\n",
       "  </tbody>\n",
       "</table>\n",
       "</div>"
      ],
      "text/plain": [
       "      speaker   begin     end  \\\n",
       "0  SPEAKER_00   0.100   4.940   \n",
       "1  SPEAKER_00   5.901  10.880   \n",
       "2  SPEAKER_00  11.801  15.898   \n",
       "3  SPEAKER_00  16.481  18.810   \n",
       "4  SPEAKER_00  19.693  20.999   \n",
       "\n",
       "                                                                                          text  \n",
       "0  Lately I've been dealing with congestion and difficulty breathing, especially while eating.  \n",
       "1             After getting the influenza vaccine, I developed a fever and decreased appetite.  \n",
       "2                            Despite trying albuterol treatments, my symptoms haven't improved  \n",
       "3                                                           and my urine output has decreased.  \n",
       "4                                                                  Hoping for a solution soon.  "
      ]
     },
     "execution_count": 18,
     "metadata": {},
     "output_type": "execute_result"
    }
   ],
   "source": [
    "segments"
   ]
  },
  {
   "cell_type": "code",
   "execution_count": 19,
   "metadata": {
    "tags": []
   },
   "outputs": [
    {
     "data": {
      "text/html": [
       "<div>\n",
       "<style scoped>\n",
       "    .dataframe tbody tr th:only-of-type {\n",
       "        vertical-align: middle;\n",
       "    }\n",
       "\n",
       "    .dataframe tbody tr th {\n",
       "        vertical-align: top;\n",
       "    }\n",
       "\n",
       "    .dataframe thead th {\n",
       "        text-align: right;\n",
       "    }\n",
       "</style>\n",
       "<table border=\"1\" class=\"dataframe\">\n",
       "  <thead>\n",
       "    <tr style=\"text-align: right;\">\n",
       "      <th></th>\n",
       "      <th>ner_chunk</th>\n",
       "      <th>begin</th>\n",
       "      <th>end</th>\n",
       "      <th>ner_label</th>\n",
       "      <th>ner_confidence</th>\n",
       "    </tr>\n",
       "  </thead>\n",
       "  <tbody>\n",
       "    <tr>\n",
       "      <th>0</th>\n",
       "      <td>congestion</td>\n",
       "      <td>30</td>\n",
       "      <td>39</td>\n",
       "      <td>Symptom</td>\n",
       "      <td>0.9786</td>\n",
       "    </tr>\n",
       "    <tr>\n",
       "      <th>1</th>\n",
       "      <td>difficulty breathing</td>\n",
       "      <td>45</td>\n",
       "      <td>64</td>\n",
       "      <td>Symptom</td>\n",
       "      <td>0.79995</td>\n",
       "    </tr>\n",
       "    <tr>\n",
       "      <th>2</th>\n",
       "      <td>influenza vaccine</td>\n",
       "      <td>110</td>\n",
       "      <td>126</td>\n",
       "      <td>Vaccine_Name</td>\n",
       "      <td>0.93735003</td>\n",
       "    </tr>\n",
       "    <tr>\n",
       "      <th>3</th>\n",
       "      <td>fever</td>\n",
       "      <td>143</td>\n",
       "      <td>147</td>\n",
       "      <td>VS_Finding</td>\n",
       "      <td>0.9875</td>\n",
       "    </tr>\n",
       "    <tr>\n",
       "      <th>4</th>\n",
       "      <td>decreased appetite</td>\n",
       "      <td>153</td>\n",
       "      <td>170</td>\n",
       "      <td>Symptom</td>\n",
       "      <td>0.84305</td>\n",
       "    </tr>\n",
       "    <tr>\n",
       "      <th>5</th>\n",
       "      <td>albuterol</td>\n",
       "      <td>188</td>\n",
       "      <td>196</td>\n",
       "      <td>Drug_Ingredient</td>\n",
       "      <td>0.9841</td>\n",
       "    </tr>\n",
       "    <tr>\n",
       "      <th>6</th>\n",
       "      <td>urine output has decreased</td>\n",
       "      <td>246</td>\n",
       "      <td>271</td>\n",
       "      <td>Symptom</td>\n",
       "      <td>0.41342497</td>\n",
       "    </tr>\n",
       "    <tr>\n",
       "      <th>7</th>\n",
       "      <td>solution</td>\n",
       "      <td>287</td>\n",
       "      <td>294</td>\n",
       "      <td>Form</td>\n",
       "      <td>0.9779</td>\n",
       "    </tr>\n",
       "  </tbody>\n",
       "</table>\n",
       "</div>"
      ],
      "text/plain": [
       "                    ner_chunk  begin  end        ner_label ner_confidence\n",
       "0                  congestion     30   39          Symptom         0.9786\n",
       "1        difficulty breathing     45   64          Symptom        0.79995\n",
       "2           influenza vaccine    110  126     Vaccine_Name     0.93735003\n",
       "3                       fever    143  147       VS_Finding         0.9875\n",
       "4          decreased appetite    153  170          Symptom        0.84305\n",
       "5                   albuterol    188  196  Drug_Ingredient         0.9841\n",
       "6  urine output has decreased    246  271          Symptom     0.41342497\n",
       "7                    solution    287  294             Form         0.9779"
      ]
     },
     "execution_count": 19,
     "metadata": {},
     "output_type": "execute_result"
    }
   ],
   "source": [
    "ner_df"
   ]
  },
  {
   "cell_type": "code",
   "execution_count": 20,
   "metadata": {
    "tags": []
   },
   "outputs": [
    {
     "data": {
      "text/html": [
       "<div>\n",
       "<style scoped>\n",
       "    .dataframe tbody tr th:only-of-type {\n",
       "        vertical-align: middle;\n",
       "    }\n",
       "\n",
       "    .dataframe tbody tr th {\n",
       "        vertical-align: top;\n",
       "    }\n",
       "\n",
       "    .dataframe thead th {\n",
       "        text-align: right;\n",
       "    }\n",
       "</style>\n",
       "<table border=\"1\" class=\"dataframe\">\n",
       "  <thead>\n",
       "    <tr style=\"text-align: right;\">\n",
       "      <th></th>\n",
       "      <th>ner_chunk</th>\n",
       "      <th>begin</th>\n",
       "      <th>end</th>\n",
       "      <th>ner_label</th>\n",
       "      <th>assertion</th>\n",
       "    </tr>\n",
       "  </thead>\n",
       "  <tbody>\n",
       "    <tr>\n",
       "      <th>0</th>\n",
       "      <td>spot on his lip</td>\n",
       "      <td>17</td>\n",
       "      <td>31</td>\n",
       "      <td>Symptom</td>\n",
       "      <td>Present</td>\n",
       "    </tr>\n",
       "    <tr>\n",
       "      <th>1</th>\n",
       "      <td>sore</td>\n",
       "      <td>58</td>\n",
       "      <td>61</td>\n",
       "      <td>Symptom</td>\n",
       "      <td>Possible</td>\n",
       "    </tr>\n",
       "    <tr>\n",
       "      <th>2</th>\n",
       "      <td>broken open</td>\n",
       "      <td>79</td>\n",
       "      <td>89</td>\n",
       "      <td>Symptom</td>\n",
       "      <td>Present</td>\n",
       "    </tr>\n",
       "    <tr>\n",
       "      <th>3</th>\n",
       "      <td>leaks fluid</td>\n",
       "      <td>95</td>\n",
       "      <td>105</td>\n",
       "      <td>Symptom</td>\n",
       "      <td>Present</td>\n",
       "    </tr>\n",
       "  </tbody>\n",
       "</table>\n",
       "</div>"
      ],
      "text/plain": [
       "         ner_chunk  begin  end ner_label assertion\n",
       "0  spot on his lip     17   31   Symptom   Present\n",
       "1             sore     58   61   Symptom  Possible\n",
       "2      broken open     79   89   Symptom   Present\n",
       "3      leaks fluid     95  105   Symptom   Present"
      ]
     },
     "execution_count": 20,
     "metadata": {},
     "output_type": "execute_result"
    }
   ],
   "source": [
    "assertion_df"
   ]
  },
  {
   "cell_type": "code",
   "execution_count": 21,
   "metadata": {
    "tags": []
   },
   "outputs": [
    {
     "data": {
      "text/html": [
       "<div>\n",
       "<style scoped>\n",
       "    .dataframe tbody tr th:only-of-type {\n",
       "        vertical-align: middle;\n",
       "    }\n",
       "\n",
       "    .dataframe tbody tr th {\n",
       "        vertical-align: top;\n",
       "    }\n",
       "\n",
       "    .dataframe thead th {\n",
       "        text-align: right;\n",
       "    }\n",
       "</style>\n",
       "<table border=\"1\" class=\"dataframe\">\n",
       "  <thead>\n",
       "    <tr style=\"text-align: right;\">\n",
       "      <th></th>\n",
       "    </tr>\n",
       "  </thead>\n",
       "  <tbody>\n",
       "  </tbody>\n",
       "</table>\n",
       "</div>"
      ],
      "text/plain": [
       "Empty DataFrame\n",
       "Columns: []\n",
       "Index: []"
      ]
     },
     "execution_count": 21,
     "metadata": {},
     "output_type": "execute_result"
    }
   ],
   "source": [
    "relation_df"
   ]
  },
  {
   "cell_type": "markdown",
   "metadata": {},
   "source": [
    "### C. Delete the endpoint"
   ]
  },
  {
   "cell_type": "markdown",
   "metadata": {},
   "source": [
    "Now that you have successfully performed a real-time inference, you do not need the endpoint any more. You can terminate the endpoint to avoid being charged."
   ]
  },
  {
   "cell_type": "code",
   "execution_count": 22,
   "metadata": {
    "tags": []
   },
   "outputs": [],
   "source": [
    "model.sagemaker_session.delete_endpoint(model_name)\n",
    "model.sagemaker_session.delete_endpoint_config(model_name)"
   ]
  },
  {
   "cell_type": "markdown",
   "metadata": {},
   "source": [
    "## 3. Create an Asynchronous Inference Endpoint\n",
    "\n",
    "To set up an asynchronous inference endpoint with Amazon SageMaker, see [Documentation](https://docs.aws.amazon.com/sagemaker/latest/dg/async-inference-create-endpoint.html)."
   ]
  },
  {
   "cell_type": "code",
   "execution_count": 23,
   "metadata": {
    "tags": []
   },
   "outputs": [],
   "source": [
    "from time import gmtime, strftime\n",
    "from sagemaker.async_inference.async_inference_config import AsyncInferenceConfig\n",
    "\n",
    "\n",
    "async_inference_config = AsyncInferenceConfig(\n",
    "    output_path=f\"s3://{s3_bucket}/{model_name}/validation-output/async-real-time\",\n",
    "    max_concurrent_invocations_per_instance=2,  # Adjust as needed\n",
    "    failure_path=f\"s3://{s3_bucket}/{model_name}/validation-output/async-real-time-failure\",\n",
    ")\n"
   ]
  },
  {
   "cell_type": "code",
   "execution_count": 24,
   "metadata": {
    "tags": []
   },
   "outputs": [
    {
     "name": "stdout",
     "output_type": "stream",
     "text": [
      "-----------!"
     ]
    }
   ],
   "source": [
    "# Deploy the model with AsyncInferenceConfig\n",
    "predictor = model.deploy(\n",
    "    initial_instance_count=1,\n",
    "    instance_type=real_time_inference_instance_type,\n",
    "    endpoint_name=model_name,\n",
    "    async_inference_config=async_inference_config\n",
    ")\n"
   ]
  },
  {
   "cell_type": "markdown",
   "metadata": {},
   "source": [
    "### A. Uploading the Request Payload"
   ]
  },
  {
   "cell_type": "code",
   "execution_count": 25,
   "metadata": {
    "tags": []
   },
   "outputs": [],
   "source": [
    "def upload_file(input_location):\n",
    "    prefix = f\"{model_name}/validation-input/invoke_endpoint_async\"\n",
    "    return sagemaker_session.upload_data(\n",
    "        input_location,\n",
    "        bucket=s3_bucket,\n",
    "        key_prefix=prefix,\n",
    "        extra_args={\"ContentType\": \"application/octet-stream\"},\n",
    "    )\n",
    "input_1_location = \"input1.wav\"\n",
    "input_1_s3_location = upload_file(input_1_location)"
   ]
  },
  {
   "cell_type": "markdown",
   "metadata": {
    "tags": []
   },
   "source": [
    "### B. Invoke Endpoint"
   ]
  },
  {
   "cell_type": "code",
   "execution_count": 26,
   "metadata": {
    "tags": []
   },
   "outputs": [],
   "source": [
    "response = sm_runtime.invoke_endpoint_async(\n",
    "    EndpointName=\"speech-to-text-medical\",\n",
    "    InputLocation=input_1_s3_location,\n",
    "    ContentType=content_type,\n",
    "    Accept=\"application/json\",\n",
    ")\n",
    "output_location = response[\"OutputLocation\"]"
   ]
  },
  {
   "cell_type": "markdown",
   "metadata": {},
   "source": [
    "### C. Check Output Location\n",
    "\n",
    "Check the output location to see if the inference has been processed. We make multiple requests (beginning of the `while True` statement in the `get_output` function) every two seconds until there is an output of the inference request:"
   ]
  },
  {
   "cell_type": "code",
   "execution_count": 27,
   "metadata": {
    "tags": []
   },
   "outputs": [],
   "source": [
    "import urllib, time\n",
    "from botocore.exceptions import ClientError\n",
    "\n",
    "\n",
    "def get_output(output_location):\n",
    "    output_url = urllib.parse.urlparse(output_location)\n",
    "    bucket = output_url.netloc\n",
    "    key = output_url.path[1:]\n",
    "    while True:\n",
    "        try:\n",
    "            return sagemaker_session.read_s3_file(bucket=output_url.netloc, key_prefix=output_url.path[1:])\n",
    "        except ClientError as e:\n",
    "            if e.response[\"Error\"][\"Code\"] == \"NoSuchKey\":\n",
    "                print(\"waiting for output...\")\n",
    "                time.sleep(2)\n",
    "                continue\n",
    "            raise"
   ]
  },
  {
   "cell_type": "code",
   "execution_count": 28,
   "metadata": {
    "tags": []
   },
   "outputs": [
    {
     "name": "stdout",
     "output_type": "stream",
     "text": [
      "waiting for output...\n",
      "waiting for output...\n",
      "waiting for output...\n",
      "waiting for output...\n",
      "waiting for output...\n",
      "waiting for output...\n",
      "waiting for output...\n",
      "waiting for output...\n",
      "waiting for output...\n",
      "waiting for output...\n",
      "waiting for output...\n",
      "waiting for output...\n",
      "waiting for output...\n"
     ]
    },
    {
     "data": {
      "text/plain": [
       "'{\"document\":\"My husband has a spot on his lip that he thought was cold sore, but now it has broken open and leaks fluid all day\",\"segments\":[{\"speaker\":\"SPEAKER_00\",\"begin\":0.401,\"end\":7.1,\"text\":\"My husband has a spot on his lip that he thought was cold sore, but now it has broken open and leaks fluid all day\"}],\"ner_predictions\":[{\"ner_chunk\":\"husband\",\"begin\":3,\"end\":9,\"ner_label\":\"Gender\",\"ner_confidence\":\"0.9994\"},{\"ner_chunk\":\"spot on his lip\",\"begin\":17,\"end\":31,\"ner_label\":\"Symptom\",\"ner_confidence\":\"0.55395\"},{\"ner_chunk\":\"he\",\"begin\":38,\"end\":39,\"ner_label\":\"Gender\",\"ner_confidence\":\"0.9979\"},{\"ner_chunk\":\"cold\",\"begin\":53,\"end\":56,\"ner_label\":\"Modifier\",\"ner_confidence\":\"0.7477\"},{\"ner_chunk\":\"sore\",\"begin\":58,\"end\":61,\"ner_label\":\"Symptom\",\"ner_confidence\":\"0.6247\"},{\"ner_chunk\":\"broken open\",\"begin\":79,\"end\":89,\"ner_label\":\"Symptom\",\"ner_confidence\":\"0.43985\"},{\"ner_chunk\":\"leaks fluid\",\"begin\":95,\"end\":105,\"ner_label\":\"Symptom\",\"ner_confidence\":\"0.7144\"},{\"ner_chunk\":\"all day\",\"begin\":107,\"end\":113,\"ner_label\":\"RelativeDate\",\"ner_confidence\":\"0.46680003\"}],\"assertion_predictions\":[{\"ner_chunk\":\"spot on his lip\",\"begin\":17,\"end\":31,\"ner_label\":\"Symptom\",\"assertion\":\"Present\"},{\"ner_chunk\":\"sore\",\"begin\":58,\"end\":61,\"ner_label\":\"Symptom\",\"assertion\":\"Possible\"},{\"ner_chunk\":\"broken open\",\"begin\":79,\"end\":89,\"ner_label\":\"Symptom\",\"assertion\":\"Present\"},{\"ner_chunk\":\"leaks fluid\",\"begin\":95,\"end\":105,\"ner_label\":\"Symptom\",\"assertion\":\"Present\"}],\"relation_predictions\":[{\"ner_chunk1\":\"spot on his lip\",\"ner_chunk1_begin\":\"17\",\"ner_chunk1_end\":\"31\",\"ner_label1\":\"Symptom\",\"ner_chunk2\":\"all day\",\"ner_chunk2_begin\":\"107\",\"ner_chunk2_end\":\"113\",\"ner_label2\":\"RelativeDate\",\"relation\":\"O\",\"relation_confidence\":\"0.9802182\"},{\"ner_chunk1\":\"sore\",\"ner_chunk1_begin\":\"58\",\"ner_chunk1_end\":\"61\",\"ner_label1\":\"Symptom\",\"ner_chunk2\":\"all day\",\"ner_chunk2_begin\":\"107\",\"ner_chunk2_end\":\"113\",\"ner_label2\":\"RelativeDate\",\"relation\":\"O\",\"relation_confidence\":\"1.0\"},{\"ner_chunk1\":\"broken open\",\"ner_chunk1_begin\":\"79\",\"ner_chunk1_end\":\"89\",\"ner_label1\":\"Symptom\",\"ner_chunk2\":\"all day\",\"ner_chunk2_begin\":\"107\",\"ner_chunk2_end\":\"113\",\"ner_label2\":\"RelativeDate\",\"relation\":\"O\",\"relation_confidence\":\"1.0\"},{\"ner_chunk1\":\"leaks fluid\",\"ner_chunk1_begin\":\"95\",\"ner_chunk1_end\":\"105\",\"ner_label1\":\"Symptom\",\"ner_chunk2\":\"all day\",\"ner_chunk2_begin\":\"107\",\"ner_chunk2_end\":\"113\",\"ner_label2\":\"RelativeDate\",\"relation\":\"is_date_of\",\"relation_confidence\":\"1.0\"}]}'"
      ]
     },
     "execution_count": 28,
     "metadata": {},
     "output_type": "execute_result"
    }
   ],
   "source": [
    "output = get_output(output_location)\n",
    "output"
   ]
  },
  {
   "cell_type": "markdown",
   "metadata": {},
   "source": [
    "### D. Delete the endpoint\n",
    "\n",
    "Now that you have successfully performed a real-time inference, you do not need the endpoint any more. You can terminate the endpoint to avoid being charged."
   ]
  },
  {
   "cell_type": "code",
   "execution_count": 29,
   "metadata": {
    "tags": []
   },
   "outputs": [],
   "source": [
    "model.sagemaker_session.delete_endpoint(model_name)\n",
    "model.sagemaker_session.delete_endpoint_config(model_name)"
   ]
  },
  {
   "cell_type": "markdown",
   "metadata": {
    "tags": []
   },
   "source": [
    "## 4. Batch inference"
   ]
  },
  {
   "cell_type": "code",
   "execution_count": 31,
   "metadata": {
    "tags": []
   },
   "outputs": [],
   "source": [
    "import os\n",
    "\n",
    "validation_file_name1 = \"input1.wav\"\n",
    "validation_file_name2 = \"input2.wav\"\n",
    "validation_file_name3 = \"input3.wav\"\n",
    "\n",
    "validation_input_path = f\"s3://{s3_bucket}/{model_name}/validation-input/batch\"\n",
    "validation_output_path = f\"s3://{s3_bucket}/{model_name}/validation-output/batch\"\n",
    "\n",
    "input_dir = 'inputs/batch'\n",
    "output_dir = 'outputs/batch'\n",
    "\n",
    "os.makedirs(input_dir, exist_ok=True)\n",
    "os.makedirs(output_dir, exist_ok=True)"
   ]
  },
  {
   "cell_type": "code",
   "execution_count": 32,
   "metadata": {
    "tags": []
   },
   "outputs": [],
   "source": [
    "import os\n",
    "import boto3\n",
    "\n",
    "def upload_audio_to_s3(local_file_path, model_name, s3_bucket):\n",
    "    shutil.copy2(local_file_path, input_dir)\n",
    "    base_file_name = os.path.basename(local_file_path)\n",
    "    validation_input_file_path = f\"{model_name}/validation-input/batch/{base_file_name}\"\n",
    "    s3_client.upload_file(local_file_path, s3_bucket, validation_input_file_path)\n",
    "\n",
    "# List of file names to upload\n",
    "validation_file_names = [validation_file_name1, validation_file_name2, validation_file_name3]\n",
    "\n",
    "for file_name in validation_file_names:\n",
    "    upload_audio_to_s3(file_name, model_name, s3_bucket)\n"
   ]
  },
  {
   "cell_type": "code",
   "execution_count": null,
   "metadata": {
    "tags": []
   },
   "outputs": [],
   "source": [
    "# Initialize a SageMaker Transformer object for making predictions\n",
    "transformer = model.transformer(\n",
    "    instance_count=1,\n",
    "    instance_type=batch_transform_inference_instance_type,\n",
    "    accept=\"application/json\",\n",
    "    output_path=validation_output_path,\n",
    ")\n",
    "transformer.transform(validation_input_path, content_type=content_type)\n",
    "transformer.wait()"
   ]
  },
  {
   "cell_type": "code",
   "execution_count": 34,
   "metadata": {
    "tags": []
   },
   "outputs": [],
   "source": [
    "from urllib.parse import urlparse\n",
    "\n",
    "def process_s3_output_and_save(validation_file_name, output_file_name):\n",
    "    output_file_path = f\"{output_dir}/{output_file_name}\"\n",
    "    parsed_url = urlparse(transformer.output_path)\n",
    "    file_key = f\"{parsed_url.path[1:]}/{validation_file_name}.out\"\n",
    "    response = s3_client.get_object(Bucket=s3_bucket, Key=file_key)\n",
    "\n",
    "    data = json.loads(response[\"Body\"].read().decode(\"utf-8\"))\n",
    "\n",
    "    # Define a dictionary with DataFrame objects and their names\n",
    "    data_frames = {\n",
    "        \"Document DataFrame\": pd.DataFrame([data[\"document\"]], columns=[\"document\"]),\n",
    "        \"Segments DataFrame\": pd.DataFrame(data['segments']),\n",
    "        \"NER Predictions DataFrame\": pd.DataFrame(data['ner_predictions']),\n",
    "        \"Assertion Predictions DataFrame\": pd.DataFrame(data['assertion_predictions']),\n",
    "        \"Relation Predictions DataFrame\": pd.DataFrame(data['relation_predictions'])\n",
    "    }\n",
    "\n",
    "    # Display and save each DataFrame\n",
    "    for name, df in data_frames.items():\n",
    "        print(name + \":\")\n",
    "        display(df)\n",
    "    # Save the data to the output file\n",
    "    with open(output_file_path, 'w') as f_out:\n",
    "        json.dump(data, f_out, indent=4)\n"
   ]
  },
  {
   "cell_type": "markdown",
   "metadata": {},
   "source": [
    "#### Example 1"
   ]
  },
  {
   "cell_type": "code",
   "execution_count": 35,
   "metadata": {
    "tags": []
   },
   "outputs": [
    {
     "name": "stdout",
     "output_type": "stream",
     "text": [
      "Document DataFrame:\n"
     ]
    },
    {
     "data": {
      "text/html": [
       "<div>\n",
       "<style scoped>\n",
       "    .dataframe tbody tr th:only-of-type {\n",
       "        vertical-align: middle;\n",
       "    }\n",
       "\n",
       "    .dataframe tbody tr th {\n",
       "        vertical-align: top;\n",
       "    }\n",
       "\n",
       "    .dataframe thead th {\n",
       "        text-align: right;\n",
       "    }\n",
       "</style>\n",
       "<table border=\"1\" class=\"dataframe\">\n",
       "  <thead>\n",
       "    <tr style=\"text-align: right;\">\n",
       "      <th></th>\n",
       "      <th>document</th>\n",
       "    </tr>\n",
       "  </thead>\n",
       "  <tbody>\n",
       "    <tr>\n",
       "      <th>0</th>\n",
       "      <td>My husband has a spot on his lip that he thought was cold sore, but now it has broken open and leaks fluid all day</td>\n",
       "    </tr>\n",
       "  </tbody>\n",
       "</table>\n",
       "</div>"
      ],
      "text/plain": [
       "                                                                                                             document\n",
       "0  My husband has a spot on his lip that he thought was cold sore, but now it has broken open and leaks fluid all day"
      ]
     },
     "metadata": {},
     "output_type": "display_data"
    },
    {
     "name": "stdout",
     "output_type": "stream",
     "text": [
      "Segments DataFrame:\n"
     ]
    },
    {
     "data": {
      "text/html": [
       "<div>\n",
       "<style scoped>\n",
       "    .dataframe tbody tr th:only-of-type {\n",
       "        vertical-align: middle;\n",
       "    }\n",
       "\n",
       "    .dataframe tbody tr th {\n",
       "        vertical-align: top;\n",
       "    }\n",
       "\n",
       "    .dataframe thead th {\n",
       "        text-align: right;\n",
       "    }\n",
       "</style>\n",
       "<table border=\"1\" class=\"dataframe\">\n",
       "  <thead>\n",
       "    <tr style=\"text-align: right;\">\n",
       "      <th></th>\n",
       "      <th>speaker</th>\n",
       "      <th>begin</th>\n",
       "      <th>end</th>\n",
       "      <th>text</th>\n",
       "    </tr>\n",
       "  </thead>\n",
       "  <tbody>\n",
       "    <tr>\n",
       "      <th>0</th>\n",
       "      <td>SPEAKER_00</td>\n",
       "      <td>0.401</td>\n",
       "      <td>7.1</td>\n",
       "      <td>My husband has a spot on his lip that he thought was cold sore, but now it has broken open and leaks fluid all day</td>\n",
       "    </tr>\n",
       "  </tbody>\n",
       "</table>\n",
       "</div>"
      ],
      "text/plain": [
       "      speaker  begin  end  \\\n",
       "0  SPEAKER_00  0.401  7.1   \n",
       "\n",
       "                                                                                                                 text  \n",
       "0  My husband has a spot on his lip that he thought was cold sore, but now it has broken open and leaks fluid all day  "
      ]
     },
     "metadata": {},
     "output_type": "display_data"
    },
    {
     "name": "stdout",
     "output_type": "stream",
     "text": [
      "NER Predictions DataFrame:\n"
     ]
    },
    {
     "data": {
      "text/html": [
       "<div>\n",
       "<style scoped>\n",
       "    .dataframe tbody tr th:only-of-type {\n",
       "        vertical-align: middle;\n",
       "    }\n",
       "\n",
       "    .dataframe tbody tr th {\n",
       "        vertical-align: top;\n",
       "    }\n",
       "\n",
       "    .dataframe thead th {\n",
       "        text-align: right;\n",
       "    }\n",
       "</style>\n",
       "<table border=\"1\" class=\"dataframe\">\n",
       "  <thead>\n",
       "    <tr style=\"text-align: right;\">\n",
       "      <th></th>\n",
       "      <th>ner_chunk</th>\n",
       "      <th>begin</th>\n",
       "      <th>end</th>\n",
       "      <th>ner_label</th>\n",
       "      <th>ner_confidence</th>\n",
       "    </tr>\n",
       "  </thead>\n",
       "  <tbody>\n",
       "    <tr>\n",
       "      <th>0</th>\n",
       "      <td>husband</td>\n",
       "      <td>3</td>\n",
       "      <td>9</td>\n",
       "      <td>Gender</td>\n",
       "      <td>0.9994</td>\n",
       "    </tr>\n",
       "    <tr>\n",
       "      <th>1</th>\n",
       "      <td>spot on his lip</td>\n",
       "      <td>17</td>\n",
       "      <td>31</td>\n",
       "      <td>Symptom</td>\n",
       "      <td>0.55395</td>\n",
       "    </tr>\n",
       "    <tr>\n",
       "      <th>2</th>\n",
       "      <td>he</td>\n",
       "      <td>38</td>\n",
       "      <td>39</td>\n",
       "      <td>Gender</td>\n",
       "      <td>0.9979</td>\n",
       "    </tr>\n",
       "    <tr>\n",
       "      <th>3</th>\n",
       "      <td>cold</td>\n",
       "      <td>53</td>\n",
       "      <td>56</td>\n",
       "      <td>Modifier</td>\n",
       "      <td>0.7477</td>\n",
       "    </tr>\n",
       "    <tr>\n",
       "      <th>4</th>\n",
       "      <td>sore</td>\n",
       "      <td>58</td>\n",
       "      <td>61</td>\n",
       "      <td>Symptom</td>\n",
       "      <td>0.6247</td>\n",
       "    </tr>\n",
       "    <tr>\n",
       "      <th>5</th>\n",
       "      <td>broken open</td>\n",
       "      <td>79</td>\n",
       "      <td>89</td>\n",
       "      <td>Symptom</td>\n",
       "      <td>0.43985</td>\n",
       "    </tr>\n",
       "    <tr>\n",
       "      <th>6</th>\n",
       "      <td>leaks fluid</td>\n",
       "      <td>95</td>\n",
       "      <td>105</td>\n",
       "      <td>Symptom</td>\n",
       "      <td>0.7144</td>\n",
       "    </tr>\n",
       "    <tr>\n",
       "      <th>7</th>\n",
       "      <td>all day</td>\n",
       "      <td>107</td>\n",
       "      <td>113</td>\n",
       "      <td>RelativeDate</td>\n",
       "      <td>0.46680003</td>\n",
       "    </tr>\n",
       "  </tbody>\n",
       "</table>\n",
       "</div>"
      ],
      "text/plain": [
       "         ner_chunk  begin  end     ner_label ner_confidence\n",
       "0          husband      3    9        Gender         0.9994\n",
       "1  spot on his lip     17   31       Symptom        0.55395\n",
       "2               he     38   39        Gender         0.9979\n",
       "3             cold     53   56      Modifier         0.7477\n",
       "4             sore     58   61       Symptom         0.6247\n",
       "5      broken open     79   89       Symptom        0.43985\n",
       "6      leaks fluid     95  105       Symptom         0.7144\n",
       "7          all day    107  113  RelativeDate     0.46680003"
      ]
     },
     "metadata": {},
     "output_type": "display_data"
    },
    {
     "name": "stdout",
     "output_type": "stream",
     "text": [
      "Assertion Predictions DataFrame:\n"
     ]
    },
    {
     "data": {
      "text/html": [
       "<div>\n",
       "<style scoped>\n",
       "    .dataframe tbody tr th:only-of-type {\n",
       "        vertical-align: middle;\n",
       "    }\n",
       "\n",
       "    .dataframe tbody tr th {\n",
       "        vertical-align: top;\n",
       "    }\n",
       "\n",
       "    .dataframe thead th {\n",
       "        text-align: right;\n",
       "    }\n",
       "</style>\n",
       "<table border=\"1\" class=\"dataframe\">\n",
       "  <thead>\n",
       "    <tr style=\"text-align: right;\">\n",
       "      <th></th>\n",
       "      <th>ner_chunk</th>\n",
       "      <th>begin</th>\n",
       "      <th>end</th>\n",
       "      <th>ner_label</th>\n",
       "      <th>assertion</th>\n",
       "    </tr>\n",
       "  </thead>\n",
       "  <tbody>\n",
       "    <tr>\n",
       "      <th>0</th>\n",
       "      <td>spot on his lip</td>\n",
       "      <td>17</td>\n",
       "      <td>31</td>\n",
       "      <td>Symptom</td>\n",
       "      <td>Present</td>\n",
       "    </tr>\n",
       "    <tr>\n",
       "      <th>1</th>\n",
       "      <td>sore</td>\n",
       "      <td>58</td>\n",
       "      <td>61</td>\n",
       "      <td>Symptom</td>\n",
       "      <td>Possible</td>\n",
       "    </tr>\n",
       "    <tr>\n",
       "      <th>2</th>\n",
       "      <td>broken open</td>\n",
       "      <td>79</td>\n",
       "      <td>89</td>\n",
       "      <td>Symptom</td>\n",
       "      <td>Present</td>\n",
       "    </tr>\n",
       "    <tr>\n",
       "      <th>3</th>\n",
       "      <td>leaks fluid</td>\n",
       "      <td>95</td>\n",
       "      <td>105</td>\n",
       "      <td>Symptom</td>\n",
       "      <td>Present</td>\n",
       "    </tr>\n",
       "  </tbody>\n",
       "</table>\n",
       "</div>"
      ],
      "text/plain": [
       "         ner_chunk  begin  end ner_label assertion\n",
       "0  spot on his lip     17   31   Symptom   Present\n",
       "1             sore     58   61   Symptom  Possible\n",
       "2      broken open     79   89   Symptom   Present\n",
       "3      leaks fluid     95  105   Symptom   Present"
      ]
     },
     "metadata": {},
     "output_type": "display_data"
    },
    {
     "name": "stdout",
     "output_type": "stream",
     "text": [
      "Relation Predictions DataFrame:\n"
     ]
    },
    {
     "data": {
      "text/html": [
       "<div>\n",
       "<style scoped>\n",
       "    .dataframe tbody tr th:only-of-type {\n",
       "        vertical-align: middle;\n",
       "    }\n",
       "\n",
       "    .dataframe tbody tr th {\n",
       "        vertical-align: top;\n",
       "    }\n",
       "\n",
       "    .dataframe thead th {\n",
       "        text-align: right;\n",
       "    }\n",
       "</style>\n",
       "<table border=\"1\" class=\"dataframe\">\n",
       "  <thead>\n",
       "    <tr style=\"text-align: right;\">\n",
       "      <th></th>\n",
       "      <th>ner_chunk1</th>\n",
       "      <th>ner_chunk1_begin</th>\n",
       "      <th>ner_chunk1_end</th>\n",
       "      <th>ner_label1</th>\n",
       "      <th>ner_chunk2</th>\n",
       "      <th>ner_chunk2_begin</th>\n",
       "      <th>ner_chunk2_end</th>\n",
       "      <th>ner_label2</th>\n",
       "      <th>relation</th>\n",
       "      <th>relation_confidence</th>\n",
       "    </tr>\n",
       "  </thead>\n",
       "  <tbody>\n",
       "    <tr>\n",
       "      <th>0</th>\n",
       "      <td>spot on his lip</td>\n",
       "      <td>17</td>\n",
       "      <td>31</td>\n",
       "      <td>Symptom</td>\n",
       "      <td>all day</td>\n",
       "      <td>107</td>\n",
       "      <td>113</td>\n",
       "      <td>RelativeDate</td>\n",
       "      <td>O</td>\n",
       "      <td>0.9802182</td>\n",
       "    </tr>\n",
       "    <tr>\n",
       "      <th>1</th>\n",
       "      <td>sore</td>\n",
       "      <td>58</td>\n",
       "      <td>61</td>\n",
       "      <td>Symptom</td>\n",
       "      <td>all day</td>\n",
       "      <td>107</td>\n",
       "      <td>113</td>\n",
       "      <td>RelativeDate</td>\n",
       "      <td>O</td>\n",
       "      <td>1.0</td>\n",
       "    </tr>\n",
       "    <tr>\n",
       "      <th>2</th>\n",
       "      <td>broken open</td>\n",
       "      <td>79</td>\n",
       "      <td>89</td>\n",
       "      <td>Symptom</td>\n",
       "      <td>all day</td>\n",
       "      <td>107</td>\n",
       "      <td>113</td>\n",
       "      <td>RelativeDate</td>\n",
       "      <td>O</td>\n",
       "      <td>1.0</td>\n",
       "    </tr>\n",
       "    <tr>\n",
       "      <th>3</th>\n",
       "      <td>leaks fluid</td>\n",
       "      <td>95</td>\n",
       "      <td>105</td>\n",
       "      <td>Symptom</td>\n",
       "      <td>all day</td>\n",
       "      <td>107</td>\n",
       "      <td>113</td>\n",
       "      <td>RelativeDate</td>\n",
       "      <td>is_date_of</td>\n",
       "      <td>1.0</td>\n",
       "    </tr>\n",
       "  </tbody>\n",
       "</table>\n",
       "</div>"
      ],
      "text/plain": [
       "        ner_chunk1 ner_chunk1_begin ner_chunk1_end ner_label1 ner_chunk2  \\\n",
       "0  spot on his lip               17             31    Symptom    all day   \n",
       "1             sore               58             61    Symptom    all day   \n",
       "2      broken open               79             89    Symptom    all day   \n",
       "3      leaks fluid               95            105    Symptom    all day   \n",
       "\n",
       "  ner_chunk2_begin ner_chunk2_end    ner_label2    relation  \\\n",
       "0              107            113  RelativeDate           O   \n",
       "1              107            113  RelativeDate           O   \n",
       "2              107            113  RelativeDate           O   \n",
       "3              107            113  RelativeDate  is_date_of   \n",
       "\n",
       "  relation_confidence  \n",
       "0           0.9802182  \n",
       "1                 1.0  \n",
       "2                 1.0  \n",
       "3                 1.0  "
      ]
     },
     "metadata": {},
     "output_type": "display_data"
    }
   ],
   "source": [
    "process_s3_output_and_save(validation_file_name1, \"out1.out\")"
   ]
  },
  {
   "cell_type": "markdown",
   "metadata": {},
   "source": [
    "#### Example 2"
   ]
  },
  {
   "cell_type": "code",
   "execution_count": 36,
   "metadata": {
    "tags": []
   },
   "outputs": [
    {
     "name": "stdout",
     "output_type": "stream",
     "text": [
      "Document DataFrame:\n"
     ]
    },
    {
     "data": {
      "text/html": [
       "<div>\n",
       "<style scoped>\n",
       "    .dataframe tbody tr th:only-of-type {\n",
       "        vertical-align: middle;\n",
       "    }\n",
       "\n",
       "    .dataframe tbody tr th {\n",
       "        vertical-align: top;\n",
       "    }\n",
       "\n",
       "    .dataframe thead th {\n",
       "        text-align: right;\n",
       "    }\n",
       "</style>\n",
       "<table border=\"1\" class=\"dataframe\">\n",
       "  <thead>\n",
       "    <tr style=\"text-align: right;\">\n",
       "      <th></th>\n",
       "      <th>document</th>\n",
       "    </tr>\n",
       "  </thead>\n",
       "  <tbody>\n",
       "    <tr>\n",
       "      <th>0</th>\n",
       "      <td>Lately I've been dealing with congestion and difficulty breathing, especially while eating. After getting the influenza vaccine, I developed a fever and decreased appetite. Despite trying albuterol treatments, my symptoms haven't improved and my urine output has decreased. Hoping for a solution soon.</td>\n",
       "    </tr>\n",
       "  </tbody>\n",
       "</table>\n",
       "</div>"
      ],
      "text/plain": [
       "                                                                                                                                                                                                                                                                                                        document\n",
       "0  Lately I've been dealing with congestion and difficulty breathing, especially while eating. After getting the influenza vaccine, I developed a fever and decreased appetite. Despite trying albuterol treatments, my symptoms haven't improved and my urine output has decreased. Hoping for a solution soon."
      ]
     },
     "metadata": {},
     "output_type": "display_data"
    },
    {
     "name": "stdout",
     "output_type": "stream",
     "text": [
      "Segments DataFrame:\n"
     ]
    },
    {
     "data": {
      "text/html": [
       "<div>\n",
       "<style scoped>\n",
       "    .dataframe tbody tr th:only-of-type {\n",
       "        vertical-align: middle;\n",
       "    }\n",
       "\n",
       "    .dataframe tbody tr th {\n",
       "        vertical-align: top;\n",
       "    }\n",
       "\n",
       "    .dataframe thead th {\n",
       "        text-align: right;\n",
       "    }\n",
       "</style>\n",
       "<table border=\"1\" class=\"dataframe\">\n",
       "  <thead>\n",
       "    <tr style=\"text-align: right;\">\n",
       "      <th></th>\n",
       "      <th>speaker</th>\n",
       "      <th>begin</th>\n",
       "      <th>end</th>\n",
       "      <th>text</th>\n",
       "    </tr>\n",
       "  </thead>\n",
       "  <tbody>\n",
       "    <tr>\n",
       "      <th>0</th>\n",
       "      <td>SPEAKER_00</td>\n",
       "      <td>0.100</td>\n",
       "      <td>4.940</td>\n",
       "      <td>Lately I've been dealing with congestion and difficulty breathing, especially while eating.</td>\n",
       "    </tr>\n",
       "    <tr>\n",
       "      <th>1</th>\n",
       "      <td>SPEAKER_00</td>\n",
       "      <td>5.901</td>\n",
       "      <td>10.880</td>\n",
       "      <td>After getting the influenza vaccine, I developed a fever and decreased appetite.</td>\n",
       "    </tr>\n",
       "    <tr>\n",
       "      <th>2</th>\n",
       "      <td>SPEAKER_00</td>\n",
       "      <td>11.801</td>\n",
       "      <td>15.898</td>\n",
       "      <td>Despite trying albuterol treatments, my symptoms haven't improved</td>\n",
       "    </tr>\n",
       "    <tr>\n",
       "      <th>3</th>\n",
       "      <td>SPEAKER_00</td>\n",
       "      <td>16.481</td>\n",
       "      <td>18.810</td>\n",
       "      <td>and my urine output has decreased.</td>\n",
       "    </tr>\n",
       "    <tr>\n",
       "      <th>4</th>\n",
       "      <td>SPEAKER_00</td>\n",
       "      <td>19.693</td>\n",
       "      <td>20.999</td>\n",
       "      <td>Hoping for a solution soon.</td>\n",
       "    </tr>\n",
       "  </tbody>\n",
       "</table>\n",
       "</div>"
      ],
      "text/plain": [
       "      speaker   begin     end  \\\n",
       "0  SPEAKER_00   0.100   4.940   \n",
       "1  SPEAKER_00   5.901  10.880   \n",
       "2  SPEAKER_00  11.801  15.898   \n",
       "3  SPEAKER_00  16.481  18.810   \n",
       "4  SPEAKER_00  19.693  20.999   \n",
       "\n",
       "                                                                                          text  \n",
       "0  Lately I've been dealing with congestion and difficulty breathing, especially while eating.  \n",
       "1             After getting the influenza vaccine, I developed a fever and decreased appetite.  \n",
       "2                            Despite trying albuterol treatments, my symptoms haven't improved  \n",
       "3                                                           and my urine output has decreased.  \n",
       "4                                                                  Hoping for a solution soon.  "
      ]
     },
     "metadata": {},
     "output_type": "display_data"
    },
    {
     "name": "stdout",
     "output_type": "stream",
     "text": [
      "NER Predictions DataFrame:\n"
     ]
    },
    {
     "data": {
      "text/html": [
       "<div>\n",
       "<style scoped>\n",
       "    .dataframe tbody tr th:only-of-type {\n",
       "        vertical-align: middle;\n",
       "    }\n",
       "\n",
       "    .dataframe tbody tr th {\n",
       "        vertical-align: top;\n",
       "    }\n",
       "\n",
       "    .dataframe thead th {\n",
       "        text-align: right;\n",
       "    }\n",
       "</style>\n",
       "<table border=\"1\" class=\"dataframe\">\n",
       "  <thead>\n",
       "    <tr style=\"text-align: right;\">\n",
       "      <th></th>\n",
       "      <th>ner_chunk</th>\n",
       "      <th>begin</th>\n",
       "      <th>end</th>\n",
       "      <th>ner_label</th>\n",
       "      <th>ner_confidence</th>\n",
       "    </tr>\n",
       "  </thead>\n",
       "  <tbody>\n",
       "    <tr>\n",
       "      <th>0</th>\n",
       "      <td>congestion</td>\n",
       "      <td>30</td>\n",
       "      <td>39</td>\n",
       "      <td>Symptom</td>\n",
       "      <td>0.9786</td>\n",
       "    </tr>\n",
       "    <tr>\n",
       "      <th>1</th>\n",
       "      <td>difficulty breathing</td>\n",
       "      <td>45</td>\n",
       "      <td>64</td>\n",
       "      <td>Symptom</td>\n",
       "      <td>0.79995</td>\n",
       "    </tr>\n",
       "    <tr>\n",
       "      <th>2</th>\n",
       "      <td>influenza vaccine</td>\n",
       "      <td>110</td>\n",
       "      <td>126</td>\n",
       "      <td>Vaccine_Name</td>\n",
       "      <td>0.93735003</td>\n",
       "    </tr>\n",
       "    <tr>\n",
       "      <th>3</th>\n",
       "      <td>fever</td>\n",
       "      <td>143</td>\n",
       "      <td>147</td>\n",
       "      <td>VS_Finding</td>\n",
       "      <td>0.9875</td>\n",
       "    </tr>\n",
       "    <tr>\n",
       "      <th>4</th>\n",
       "      <td>decreased appetite</td>\n",
       "      <td>153</td>\n",
       "      <td>170</td>\n",
       "      <td>Symptom</td>\n",
       "      <td>0.84305</td>\n",
       "    </tr>\n",
       "    <tr>\n",
       "      <th>5</th>\n",
       "      <td>albuterol</td>\n",
       "      <td>188</td>\n",
       "      <td>196</td>\n",
       "      <td>Drug_Ingredient</td>\n",
       "      <td>0.9841</td>\n",
       "    </tr>\n",
       "    <tr>\n",
       "      <th>6</th>\n",
       "      <td>urine output has decreased</td>\n",
       "      <td>246</td>\n",
       "      <td>271</td>\n",
       "      <td>Symptom</td>\n",
       "      <td>0.41342497</td>\n",
       "    </tr>\n",
       "    <tr>\n",
       "      <th>7</th>\n",
       "      <td>solution</td>\n",
       "      <td>287</td>\n",
       "      <td>294</td>\n",
       "      <td>Form</td>\n",
       "      <td>0.9779</td>\n",
       "    </tr>\n",
       "  </tbody>\n",
       "</table>\n",
       "</div>"
      ],
      "text/plain": [
       "                    ner_chunk  begin  end        ner_label ner_confidence\n",
       "0                  congestion     30   39          Symptom         0.9786\n",
       "1        difficulty breathing     45   64          Symptom        0.79995\n",
       "2           influenza vaccine    110  126     Vaccine_Name     0.93735003\n",
       "3                       fever    143  147       VS_Finding         0.9875\n",
       "4          decreased appetite    153  170          Symptom        0.84305\n",
       "5                   albuterol    188  196  Drug_Ingredient         0.9841\n",
       "6  urine output has decreased    246  271          Symptom     0.41342497\n",
       "7                    solution    287  294             Form         0.9779"
      ]
     },
     "metadata": {},
     "output_type": "display_data"
    },
    {
     "name": "stdout",
     "output_type": "stream",
     "text": [
      "Assertion Predictions DataFrame:\n"
     ]
    },
    {
     "data": {
      "text/html": [
       "<div>\n",
       "<style scoped>\n",
       "    .dataframe tbody tr th:only-of-type {\n",
       "        vertical-align: middle;\n",
       "    }\n",
       "\n",
       "    .dataframe tbody tr th {\n",
       "        vertical-align: top;\n",
       "    }\n",
       "\n",
       "    .dataframe thead th {\n",
       "        text-align: right;\n",
       "    }\n",
       "</style>\n",
       "<table border=\"1\" class=\"dataframe\">\n",
       "  <thead>\n",
       "    <tr style=\"text-align: right;\">\n",
       "      <th></th>\n",
       "      <th>ner_chunk</th>\n",
       "      <th>begin</th>\n",
       "      <th>end</th>\n",
       "      <th>ner_label</th>\n",
       "      <th>assertion</th>\n",
       "    </tr>\n",
       "  </thead>\n",
       "  <tbody>\n",
       "    <tr>\n",
       "      <th>0</th>\n",
       "      <td>congestion</td>\n",
       "      <td>30</td>\n",
       "      <td>39</td>\n",
       "      <td>Symptom</td>\n",
       "      <td>Present</td>\n",
       "    </tr>\n",
       "    <tr>\n",
       "      <th>1</th>\n",
       "      <td>difficulty breathing</td>\n",
       "      <td>45</td>\n",
       "      <td>64</td>\n",
       "      <td>Symptom</td>\n",
       "      <td>Present</td>\n",
       "    </tr>\n",
       "    <tr>\n",
       "      <th>2</th>\n",
       "      <td>influenza vaccine</td>\n",
       "      <td>110</td>\n",
       "      <td>126</td>\n",
       "      <td>Vaccine_Name</td>\n",
       "      <td>Planned</td>\n",
       "    </tr>\n",
       "    <tr>\n",
       "      <th>3</th>\n",
       "      <td>fever</td>\n",
       "      <td>143</td>\n",
       "      <td>147</td>\n",
       "      <td>VS_Finding</td>\n",
       "      <td>Present</td>\n",
       "    </tr>\n",
       "    <tr>\n",
       "      <th>4</th>\n",
       "      <td>decreased appetite</td>\n",
       "      <td>153</td>\n",
       "      <td>170</td>\n",
       "      <td>Symptom</td>\n",
       "      <td>Present</td>\n",
       "    </tr>\n",
       "    <tr>\n",
       "      <th>5</th>\n",
       "      <td>albuterol</td>\n",
       "      <td>188</td>\n",
       "      <td>196</td>\n",
       "      <td>Drug_Ingredient</td>\n",
       "      <td>Past</td>\n",
       "    </tr>\n",
       "    <tr>\n",
       "      <th>6</th>\n",
       "      <td>urine output has decreased</td>\n",
       "      <td>246</td>\n",
       "      <td>271</td>\n",
       "      <td>Symptom</td>\n",
       "      <td>Hypothetical</td>\n",
       "    </tr>\n",
       "  </tbody>\n",
       "</table>\n",
       "</div>"
      ],
      "text/plain": [
       "                    ner_chunk  begin  end        ner_label     assertion\n",
       "0                  congestion     30   39          Symptom       Present\n",
       "1        difficulty breathing     45   64          Symptom       Present\n",
       "2           influenza vaccine    110  126     Vaccine_Name       Planned\n",
       "3                       fever    143  147       VS_Finding       Present\n",
       "4          decreased appetite    153  170          Symptom       Present\n",
       "5                   albuterol    188  196  Drug_Ingredient          Past\n",
       "6  urine output has decreased    246  271          Symptom  Hypothetical"
      ]
     },
     "metadata": {},
     "output_type": "display_data"
    },
    {
     "name": "stdout",
     "output_type": "stream",
     "text": [
      "Relation Predictions DataFrame:\n"
     ]
    },
    {
     "data": {
      "text/html": [
       "<div>\n",
       "<style scoped>\n",
       "    .dataframe tbody tr th:only-of-type {\n",
       "        vertical-align: middle;\n",
       "    }\n",
       "\n",
       "    .dataframe tbody tr th {\n",
       "        vertical-align: top;\n",
       "    }\n",
       "\n",
       "    .dataframe thead th {\n",
       "        text-align: right;\n",
       "    }\n",
       "</style>\n",
       "<table border=\"1\" class=\"dataframe\">\n",
       "  <thead>\n",
       "    <tr style=\"text-align: right;\">\n",
       "      <th></th>\n",
       "    </tr>\n",
       "  </thead>\n",
       "  <tbody>\n",
       "  </tbody>\n",
       "</table>\n",
       "</div>"
      ],
      "text/plain": [
       "Empty DataFrame\n",
       "Columns: []\n",
       "Index: []"
      ]
     },
     "metadata": {},
     "output_type": "display_data"
    }
   ],
   "source": [
    "process_s3_output_and_save(validation_file_name2, \"out2.out\")"
   ]
  },
  {
   "cell_type": "markdown",
   "metadata": {},
   "source": [
    "#### Example 3"
   ]
  },
  {
   "cell_type": "code",
   "execution_count": 37,
   "metadata": {
    "tags": []
   },
   "outputs": [
    {
     "name": "stdout",
     "output_type": "stream",
     "text": [
      "Document DataFrame:\n"
     ]
    },
    {
     "data": {
      "text/html": [
       "<div>\n",
       "<style scoped>\n",
       "    .dataframe tbody tr th:only-of-type {\n",
       "        vertical-align: middle;\n",
       "    }\n",
       "\n",
       "    .dataframe tbody tr th {\n",
       "        vertical-align: top;\n",
       "    }\n",
       "\n",
       "    .dataframe thead th {\n",
       "        text-align: right;\n",
       "    }\n",
       "</style>\n",
       "<table border=\"1\" class=\"dataframe\">\n",
       "  <thead>\n",
       "    <tr style=\"text-align: right;\">\n",
       "      <th></th>\n",
       "      <th>document</th>\n",
       "    </tr>\n",
       "  </thead>\n",
       "  <tbody>\n",
       "    <tr>\n",
       "      <th>0</th>\n",
       "      <td>There is pain in the muscles I do not know caused.</td>\n",
       "    </tr>\n",
       "  </tbody>\n",
       "</table>\n",
       "</div>"
      ],
      "text/plain": [
       "                                             document\n",
       "0  There is pain in the muscles I do not know caused."
      ]
     },
     "metadata": {},
     "output_type": "display_data"
    },
    {
     "name": "stdout",
     "output_type": "stream",
     "text": [
      "Segments DataFrame:\n"
     ]
    },
    {
     "data": {
      "text/html": [
       "<div>\n",
       "<style scoped>\n",
       "    .dataframe tbody tr th:only-of-type {\n",
       "        vertical-align: middle;\n",
       "    }\n",
       "\n",
       "    .dataframe tbody tr th {\n",
       "        vertical-align: top;\n",
       "    }\n",
       "\n",
       "    .dataframe thead th {\n",
       "        text-align: right;\n",
       "    }\n",
       "</style>\n",
       "<table border=\"1\" class=\"dataframe\">\n",
       "  <thead>\n",
       "    <tr style=\"text-align: right;\">\n",
       "      <th></th>\n",
       "      <th>speaker</th>\n",
       "      <th>begin</th>\n",
       "      <th>end</th>\n",
       "      <th>text</th>\n",
       "    </tr>\n",
       "  </thead>\n",
       "  <tbody>\n",
       "    <tr>\n",
       "      <th>0</th>\n",
       "      <td>SPEAKER_00</td>\n",
       "      <td>0.523</td>\n",
       "      <td>3.819</td>\n",
       "      <td>There is pain in the muscles I do not know caused.</td>\n",
       "    </tr>\n",
       "  </tbody>\n",
       "</table>\n",
       "</div>"
      ],
      "text/plain": [
       "      speaker  begin    end  \\\n",
       "0  SPEAKER_00  0.523  3.819   \n",
       "\n",
       "                                                 text  \n",
       "0  There is pain in the muscles I do not know caused.  "
      ]
     },
     "metadata": {},
     "output_type": "display_data"
    },
    {
     "name": "stdout",
     "output_type": "stream",
     "text": [
      "NER Predictions DataFrame:\n"
     ]
    },
    {
     "data": {
      "text/html": [
       "<div>\n",
       "<style scoped>\n",
       "    .dataframe tbody tr th:only-of-type {\n",
       "        vertical-align: middle;\n",
       "    }\n",
       "\n",
       "    .dataframe tbody tr th {\n",
       "        vertical-align: top;\n",
       "    }\n",
       "\n",
       "    .dataframe thead th {\n",
       "        text-align: right;\n",
       "    }\n",
       "</style>\n",
       "<table border=\"1\" class=\"dataframe\">\n",
       "  <thead>\n",
       "    <tr style=\"text-align: right;\">\n",
       "      <th></th>\n",
       "      <th>ner_chunk</th>\n",
       "      <th>begin</th>\n",
       "      <th>end</th>\n",
       "      <th>ner_label</th>\n",
       "      <th>ner_confidence</th>\n",
       "    </tr>\n",
       "  </thead>\n",
       "  <tbody>\n",
       "    <tr>\n",
       "      <th>0</th>\n",
       "      <td>pain</td>\n",
       "      <td>9</td>\n",
       "      <td>12</td>\n",
       "      <td>Symptom</td>\n",
       "      <td>0.9794</td>\n",
       "    </tr>\n",
       "    <tr>\n",
       "      <th>1</th>\n",
       "      <td>muscles</td>\n",
       "      <td>21</td>\n",
       "      <td>27</td>\n",
       "      <td>Internal_organ_or_component</td>\n",
       "      <td>0.3696</td>\n",
       "    </tr>\n",
       "  </tbody>\n",
       "</table>\n",
       "</div>"
      ],
      "text/plain": [
       "  ner_chunk  begin  end                    ner_label ner_confidence\n",
       "0      pain      9   12                      Symptom         0.9794\n",
       "1   muscles     21   27  Internal_organ_or_component         0.3696"
      ]
     },
     "metadata": {},
     "output_type": "display_data"
    },
    {
     "name": "stdout",
     "output_type": "stream",
     "text": [
      "Assertion Predictions DataFrame:\n"
     ]
    },
    {
     "data": {
      "text/html": [
       "<div>\n",
       "<style scoped>\n",
       "    .dataframe tbody tr th:only-of-type {\n",
       "        vertical-align: middle;\n",
       "    }\n",
       "\n",
       "    .dataframe tbody tr th {\n",
       "        vertical-align: top;\n",
       "    }\n",
       "\n",
       "    .dataframe thead th {\n",
       "        text-align: right;\n",
       "    }\n",
       "</style>\n",
       "<table border=\"1\" class=\"dataframe\">\n",
       "  <thead>\n",
       "    <tr style=\"text-align: right;\">\n",
       "      <th></th>\n",
       "      <th>ner_chunk</th>\n",
       "      <th>begin</th>\n",
       "      <th>end</th>\n",
       "      <th>ner_label</th>\n",
       "      <th>assertion</th>\n",
       "    </tr>\n",
       "  </thead>\n",
       "  <tbody>\n",
       "    <tr>\n",
       "      <th>0</th>\n",
       "      <td>pain</td>\n",
       "      <td>9</td>\n",
       "      <td>12</td>\n",
       "      <td>Symptom</td>\n",
       "      <td>Absent</td>\n",
       "    </tr>\n",
       "  </tbody>\n",
       "</table>\n",
       "</div>"
      ],
      "text/plain": [
       "  ner_chunk  begin  end ner_label assertion\n",
       "0      pain      9   12   Symptom    Absent"
      ]
     },
     "metadata": {},
     "output_type": "display_data"
    },
    {
     "name": "stdout",
     "output_type": "stream",
     "text": [
      "Relation Predictions DataFrame:\n"
     ]
    },
    {
     "data": {
      "text/html": [
       "<div>\n",
       "<style scoped>\n",
       "    .dataframe tbody tr th:only-of-type {\n",
       "        vertical-align: middle;\n",
       "    }\n",
       "\n",
       "    .dataframe tbody tr th {\n",
       "        vertical-align: top;\n",
       "    }\n",
       "\n",
       "    .dataframe thead th {\n",
       "        text-align: right;\n",
       "    }\n",
       "</style>\n",
       "<table border=\"1\" class=\"dataframe\">\n",
       "  <thead>\n",
       "    <tr style=\"text-align: right;\">\n",
       "      <th></th>\n",
       "    </tr>\n",
       "  </thead>\n",
       "  <tbody>\n",
       "  </tbody>\n",
       "</table>\n",
       "</div>"
      ],
      "text/plain": [
       "Empty DataFrame\n",
       "Columns: []\n",
       "Index: []"
      ]
     },
     "metadata": {},
     "output_type": "display_data"
    }
   ],
   "source": [
    "process_s3_output_and_save(validation_file_name3, \"out3.out\")"
   ]
  },
  {
   "cell_type": "code",
   "execution_count": 38,
   "metadata": {
    "tags": []
   },
   "outputs": [
    {
     "name": "stderr",
     "output_type": "stream",
     "text": [
      "INFO:sagemaker:Deleting model with name: speech-to-text-medical-2024-04-24-20-01-08-209\n"
     ]
    }
   ],
   "source": [
    "model.delete_model()"
   ]
  },
  {
   "cell_type": "markdown",
   "metadata": {},
   "source": [
    "### Unsubscribe to the listing (optional)"
   ]
  },
  {
   "cell_type": "markdown",
   "metadata": {},
   "source": [
    "If you would like to unsubscribe to the model package, follow these steps. Before you cancel the subscription, ensure that you do not have any [deployable model](https://console.aws.amazon.com/sagemaker/home#/models) created from the model package or using the algorithm. Note - You can find this information by looking at the container name associated with the model. \n",
    "\n",
    "**Steps to unsubscribe to product from AWS Marketplace**:\n",
    "1. Navigate to __Machine Learning__ tab on [__Your Software subscriptions page__](https://aws.amazon.com/marketplace/ai/library?productType=ml&ref_=mlmp_gitdemo_indust)\n",
    "2. Locate the listing that you want to cancel the subscription for, and then choose __Cancel Subscription__  to cancel the subscription.\n",
    "\n"
   ]
  }
 ],
 "metadata": {
  "instance_type": "ml.t3.medium",
  "kernelspec": {
   "display_name": "conda_python3",
   "language": "python",
   "name": "conda_python3"
  },
  "language_info": {
   "codemirror_mode": {
    "name": "ipython",
    "version": 3
   },
   "file_extension": ".py",
   "mimetype": "text/x-python",
   "name": "python",
   "nbconvert_exporter": "python",
   "pygments_lexer": "ipython3",
   "version": "3.10.13"
  }
 },
 "nbformat": 4,
 "nbformat_minor": 4
}

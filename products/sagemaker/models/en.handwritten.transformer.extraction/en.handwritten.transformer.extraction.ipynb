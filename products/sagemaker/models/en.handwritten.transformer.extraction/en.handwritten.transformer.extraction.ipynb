{
 "cells": [
  {
   "cell_type": "markdown",
   "metadata": {},
   "source": [
    "## 1. Subscribe to the model package"
   ]
  },
  {
   "cell_type": "markdown",
   "metadata": {},
   "source": [
    "To subscribe to the model package:\n",
    "1. Open the model package listing page [Extract Digital Text from Handwritten content](https://aws.amazon.com/marketplace/pp/prodview-e6p34lolbimho)\n",
    "1. On the AWS Marketplace listing, click on the **Continue to subscribe** button.\n",
    "1. On the **Subscribe to this software** page, review and click on **\"Accept Offer\"** if you and your organization agrees with EULA, pricing, and support terms. \n",
    "1. Once you click on **Continue to configuration button** and then choose a **region**, you will see a **Product Arn** displayed. This is the model package ARN that you need to specify while creating a deployable model using Boto3. Copy the ARN corresponding to your region and specify the same in the following cell."
   ]
  },
  {
   "cell_type": "markdown",
   "metadata": {},
   "source": [
    "## Optical Character Recognition (HANDWRITTEN).\n",
    "\n",
    "\n",
    "- **Model**: [en.handwritten.transformer.extraction](https://nlp.johnsnowlabs.com/2023/11/15/pdf_handwritten_transformer_extraction_en_3_2.html)\n",
    "- **Model Description**:  This pipeline is designed to extract all handwritten text from (Multiple and Single) page PDFs or Image file."
   ]
  },
  {
   "cell_type": "code",
   "execution_count": 1,
   "metadata": {
    "tags": []
   },
   "outputs": [],
   "source": [
    "model_package_arn = 'customer to specify model package arn reference number'"
   ]
  },
  {
   "cell_type": "code",
   "execution_count": 2,
   "metadata": {
    "tags": []
   },
   "outputs": [
    {
     "name": "stdout",
     "output_type": "stream",
     "text": [
      "sagemaker.config INFO - Not applying SDK defaults from location: /etc/xdg/sagemaker/config.yaml\n",
      "sagemaker.config INFO - Not applying SDK defaults from location: /home/ec2-user/.config/sagemaker/config.yaml\n"
     ]
    }
   ],
   "source": [
    "import base64\n",
    "import shutil\n",
    "import json\n",
    "import uuid\n",
    "from sagemaker import ModelPackage\n",
    "import sagemaker as sage\n",
    "from sagemaker import get_execution_role\n",
    "import boto3\n",
    "from IPython.display import Image, display, IFrame\n",
    "from PIL import Image as ImagePil\n",
    "from urllib.parse import urlparse\n",
    "import numpy as np"
   ]
  },
  {
   "cell_type": "code",
   "execution_count": 3,
   "metadata": {
    "tags": []
   },
   "outputs": [],
   "source": [
    "sagemaker_session = sage.Session()\n",
    "s3_bucket = sagemaker_session.default_bucket()\n",
    "region = sagemaker_session.boto_region_name\n",
    "account_id = boto3.client(\"sts\").get_caller_identity().get(\"Account\")\n",
    "role = get_execution_role()\n",
    "\n",
    "sagemaker = boto3.client(\"sagemaker\")\n",
    "s3_client = sagemaker_session.boto_session.client(\"s3\")\n",
    "ecr = boto3.client(\"ecr\")\n",
    "sm_runtime = boto3.client(\"sagemaker-runtime\")"
   ]
  },
  {
   "cell_type": "markdown",
   "metadata": {},
   "source": [
    "## 2. Create an endpoint and perform real-time inference"
   ]
  },
  {
   "cell_type": "markdown",
   "metadata": {},
   "source": [
    "If you want to understand how real-time inference with Amazon SageMaker works, see [Documentation](https://docs.aws.amazon.com/sagemaker/latest/dg/how-it-works-hosting.html)."
   ]
  },
  {
   "cell_type": "code",
   "execution_count": 4,
   "metadata": {
    "tags": []
   },
   "outputs": [],
   "source": [
    "model_name = \"en-handwritten-transformer-extraction-pipeline\"\n",
    "\n",
    "real_time_inference_instance_type = \"ml.c5.9xlarge\"\n",
    "batch_transform_inference_instance_type = \"ml.c5.9xlarge\""
   ]
  },
  {
   "cell_type": "markdown",
   "metadata": {},
   "source": [
    "### A. Create an endpoint"
   ]
  },
  {
   "cell_type": "code",
   "execution_count": 5,
   "metadata": {
    "tags": []
   },
   "outputs": [
    {
     "name": "stdout",
     "output_type": "stream",
     "text": [
      "-----------!"
     ]
    }
   ],
   "source": [
    "# create a deployable model from the model package.\n",
    "model = ModelPackage(\n",
    "    role=role, model_package_arn=model_package_arn, sagemaker_session=sagemaker_session\n",
    ")\n",
    "\n",
    "# Deploy the model\n",
    "predictor = model.deploy(1, real_time_inference_instance_type, endpoint_name=model_name)"
   ]
  },
  {
   "cell_type": "markdown",
   "metadata": {},
   "source": [
    "Once endpoint has been created, you would be able to perform real-time inference."
   ]
  },
  {
   "cell_type": "code",
   "execution_count": 6,
   "metadata": {
    "tags": []
   },
   "outputs": [],
   "source": [
    "import json\n",
    "import pandas as pd\n",
    "import os\n",
    "import boto3\n",
    "\n",
    "# Set display options\n",
    "pd.set_option('display.max_rows', None)\n",
    "pd.set_option('display.max_columns', None)\n",
    "pd.set_option('display.max_colwidth', None)\n",
    "\n",
    "def process_data_and_invoke_realtime_endpoint(pdf_file,content_type):\n",
    "    with open(pdf_file, \"rb\") as file:\n",
    "        pdf_data = file.read()\n",
    "\n",
    "    i = 1\n",
    "    input_extension = os.path.splitext(pdf_file)[-1]\n",
    "    input_file_name = f'inputs/real-time/input{i}{input_extension}'\n",
    "\n",
    "    while os.path.exists(input_file_name):\n",
    "        i += 1\n",
    "        input_file_name = f'inputs/real-time/input{i}{input_extension}'\n",
    "\n",
    "    output_file_name = f'outputs/real-time/{os.path.basename(input_file_name)}.out'\n",
    "\n",
    "    os.makedirs(os.path.dirname(input_file_name), exist_ok=True)\n",
    "    os.makedirs(os.path.dirname(output_file_name), exist_ok=True)\n",
    "\n",
    "    shutil.copy2(pdf_file, input_file_name)\n",
    "\n",
    "    # Assuming s3_client is defined and used correctly\n",
    "    validation_input_file_path = f\"{model_name}/validation-input/real-time/{os.path.basename(input_file_name)}\"\n",
    "    s3_client.upload_file(pdf_file, s3_bucket, validation_input_file_path)\n",
    "\n",
    "    # Assuming sm_runtime is defined and used correctly\n",
    "    response = sm_runtime.invoke_endpoint(\n",
    "        EndpointName=model_name,\n",
    "        ContentType=content_type,\n",
    "        Accept=\"application/json\",\n",
    "        Body=pdf_data,\n",
    "    )\n",
    "\n",
    "    # Process response\n",
    "    response_data = json.loads(response[\"Body\"].read().decode(\"utf-8\"))\n",
    "\n",
    "    # Save response data to file\n",
    "    s3_client.put_object(Bucket=s3_bucket, Key=f\"{model_name}/validation-output/real-time/{os.path.basename(output_file_name)}\", Body=json.dumps(response_data).encode('UTF-8'))\n",
    "    with open(output_file_name, 'w') as f_out:\n",
    "        json.dump(response_data, f_out, indent=4)\n",
    "\n",
    "    return response_data"
   ]
  },
  {
   "cell_type": "markdown",
   "metadata": {},
   "source": [
    "### Download Images"
   ]
  },
  {
   "cell_type": "code",
   "execution_count": 7,
   "metadata": {
    "tags": []
   },
   "outputs": [
    {
     "name": "stdout",
     "output_type": "stream",
     "text": [
      "--2024-07-25 10:50:38--  https://encrypted-tbn0.gstatic.com/images?q=tbn:ANd9GcSEn4BsqOK3uI8zFlqQ616FvpMz5HtQ3XBo5Q&s\n",
      "Resolving encrypted-tbn0.gstatic.com (encrypted-tbn0.gstatic.com)... 172.253.115.100, 172.253.115.101, 172.253.115.102, ...\n",
      "Connecting to encrypted-tbn0.gstatic.com (encrypted-tbn0.gstatic.com)|172.253.115.100|:443... connected.\n",
      "HTTP request sent, awaiting response... 200 OK\n",
      "Length: 7588 (7.4K) [image/jpeg]\n",
      "Saving to: ‘input_handwritten_1.jpg’\n",
      "\n",
      "100%[======================================>] 7,588       --.-K/s   in 0s      \n",
      "\n",
      "2024-07-25 10:50:38 (71.1 MB/s) - ‘input_handwritten_1.jpg’ saved [7588/7588]\n",
      "\n",
      "--2024-07-25 10:50:38--  https://ocr-demo.abtosoftware.com/uploads/handwritten2.jpg\n",
      "Resolving ocr-demo.abtosoftware.com (ocr-demo.abtosoftware.com)... 95.46.108.15\n",
      "Connecting to ocr-demo.abtosoftware.com (ocr-demo.abtosoftware.com)|95.46.108.15|:443... connected.\n",
      "HTTP request sent, awaiting response... 200 OK\n",
      "Length: 186199 (182K) [image/jpeg]\n",
      "Saving to: ‘./input_handwritten_2.jpg’\n",
      "\n",
      "100%[======================================>] 186,199      542KB/s   in 0.3s   \n",
      "\n",
      "2024-07-25 10:50:39 (542 KB/s) - ‘./input_handwritten_2.jpg’ saved [186199/186199]\n",
      "\n",
      "--2024-07-25 10:50:39--  https://encrypted-tbn0.gstatic.com/images?q=tbn:ANd9GcQ5vmzlKvaRuRYhlofOeyW4i3YOHyyizGQmog&s\n",
      "Resolving encrypted-tbn0.gstatic.com (encrypted-tbn0.gstatic.com)... 172.253.115.139, 172.253.115.100, 172.253.115.101, ...\n",
      "Connecting to encrypted-tbn0.gstatic.com (encrypted-tbn0.gstatic.com)|172.253.115.139|:443... connected.\n",
      "HTTP request sent, awaiting response... 200 OK\n",
      "Length: 8394 (8.2K) [image/jpeg]\n",
      "Saving to: ‘./input_handwritten_3.jpg’\n",
      "\n",
      "100%[======================================>] 8,394       --.-K/s   in 0s      \n",
      "\n",
      "2024-07-25 10:50:39 (78.0 MB/s) - ‘./input_handwritten_3.jpg’ saved [8394/8394]\n",
      "\n",
      "--2024-07-25 10:50:39--  https://simplynoted.com/build/_assets/CanvasBaseImage-TRE36KJL.jpg\n",
      "Resolving simplynoted.com (simplynoted.com)... 76.76.21.21\n",
      "Connecting to simplynoted.com (simplynoted.com)|76.76.21.21|:443... connected.\n",
      "HTTP request sent, awaiting response... 200 OK\n",
      "Length: 43563 (43K) [image/jpeg]\n",
      "Saving to: ‘./input_handwritten_4.jpg’\n",
      "\n",
      "100%[======================================>] 43,563      --.-K/s   in 0.002s  \n",
      "\n",
      "2024-07-25 10:50:39 (27.6 MB/s) - ‘./input_handwritten_4.jpg’ saved [43563/43563]\n",
      "\n"
     ]
    }
   ],
   "source": [
    "!wget --no-check-certificate \"https://encrypted-tbn0.gstatic.com/images?q=tbn:ANd9GcSEn4BsqOK3uI8zFlqQ616FvpMz5HtQ3XBo5Q&s\" -O input_handwritten_1.jpg\n",
    "!wget --no-check-certificate \"https://encrypted-tbn0.gstatic.com/images?q=tbn:ANd9GcQ5vmzlKvaRuRYhlofOeyW4i3YOHyyizGQmog&s\" -O ./input_handwritten_3.jpg\n",
    "!wget --no-check-certificate \"https://simplynoted.com/build/_assets/CanvasBaseImage-TRE36KJL.jpg\" -O ./input_handwritten_4.jpg"
   ]
  },
  {
   "cell_type": "markdown",
   "metadata": {},
   "source": [
    "#### Example 1 - Multiple Page PDF"
   ]
  },
  {
   "cell_type": "code",
   "execution_count": 8,
   "metadata": {
    "tags": []
   },
   "outputs": [],
   "source": [
    "image_paths = ['./input_handwritten_1.jpg', './input_handwritten_2.jpg']\n",
    "\n",
    "images = [ImagePil.open(img_path).convert('RGB') for img_path in image_paths]\n",
    "\n",
    "pdf_path = 'input_handwritten_1.pdf'\n",
    "images[0].save(pdf_path, save_all=True, append_images=images[1:])"
   ]
  },
  {
   "cell_type": "code",
   "execution_count": 9,
   "metadata": {
    "tags": []
   },
   "outputs": [],
   "source": [
    "#IFrame(\"./input_handwritten_1.pdf\", width=1000, height=800)"
   ]
  },
  {
   "cell_type": "code",
   "execution_count": 10,
   "metadata": {
    "tags": []
   },
   "outputs": [],
   "source": [
    "data =  process_data_and_invoke_realtime_endpoint(pdf_file='./input_handwritten_1.pdf', content_type='application/octet-stream')"
   ]
  },
  {
   "cell_type": "code",
   "execution_count": 11,
   "metadata": {
    "tags": []
   },
   "outputs": [
    {
     "data": {
      "text/html": [
       "<div>\n",
       "<style scoped>\n",
       "    .dataframe tbody tr th:only-of-type {\n",
       "        vertical-align: middle;\n",
       "    }\n",
       "\n",
       "    .dataframe tbody tr th {\n",
       "        vertical-align: top;\n",
       "    }\n",
       "\n",
       "    .dataframe thead th {\n",
       "        text-align: right;\n",
       "    }\n",
       "</style>\n",
       "<table border=\"1\" class=\"dataframe\">\n",
       "  <thead>\n",
       "    <tr style=\"text-align: right;\">\n",
       "      <th></th>\n",
       "      <th>text</th>\n",
       "      <th>pagenum</th>\n",
       "    </tr>\n",
       "  </thead>\n",
       "  <tbody>\n",
       "    <tr>\n",
       "      <th>0</th>\n",
       "      <td>We Start With Good\\nBecause all businesses should\\nbe doing something good .</td>\n",
       "      <td>1</td>\n",
       "    </tr>\n",
       "    <tr>\n",
       "      <th>1</th>\n",
       "      <td>Last Wednesday\\nWe had a good\\nTeam building .</td>\n",
       "      <td>2</td>\n",
       "    </tr>\n",
       "  </tbody>\n",
       "</table>\n",
       "</div>"
      ],
      "text/plain": [
       "                                                                           text  \\\n",
       "0  We Start With Good\\nBecause all businesses should\\nbe doing something good .   \n",
       "1                                Last Wednesday\\nWe had a good\\nTeam building .   \n",
       "\n",
       "   pagenum  \n",
       "0        1  \n",
       "1        2  "
      ]
     },
     "execution_count": 11,
     "metadata": {},
     "output_type": "execute_result"
    }
   ],
   "source": [
    "df = pd.DataFrame(data[\"items\"])\n",
    "\n",
    "# Display the DataFrame\n",
    "df"
   ]
  },
  {
   "cell_type": "markdown",
   "metadata": {},
   "source": [
    "#### Example 2 -- Single PDF Example"
   ]
  },
  {
   "cell_type": "code",
   "execution_count": 12,
   "metadata": {
    "tags": []
   },
   "outputs": [],
   "source": [
    "image_paths = ['./input_handwritten_3.jpg']\n",
    "\n",
    "images = [ImagePil.open(img_path).convert('RGB') for img_path in image_paths]\n",
    "\n",
    "pdf_path = 'input_handwritten_2.pdf'\n",
    "images[0].save(pdf_path, save_all=True)"
   ]
  },
  {
   "cell_type": "code",
   "execution_count": 13,
   "metadata": {
    "tags": []
   },
   "outputs": [],
   "source": [
    "#IFrame(\"./input_handwritten_2.pdf\", width=1000, height=800)"
   ]
  },
  {
   "cell_type": "code",
   "execution_count": 14,
   "metadata": {
    "tags": []
   },
   "outputs": [],
   "source": [
    "data =  process_data_and_invoke_realtime_endpoint(pdf_file='./input_handwritten_2.pdf', content_type='application/octet-stream')"
   ]
  },
  {
   "cell_type": "code",
   "execution_count": 15,
   "metadata": {
    "tags": []
   },
   "outputs": [
    {
     "data": {
      "text/html": [
       "<div>\n",
       "<style scoped>\n",
       "    .dataframe tbody tr th:only-of-type {\n",
       "        vertical-align: middle;\n",
       "    }\n",
       "\n",
       "    .dataframe tbody tr th {\n",
       "        vertical-align: top;\n",
       "    }\n",
       "\n",
       "    .dataframe thead th {\n",
       "        text-align: right;\n",
       "    }\n",
       "</style>\n",
       "<table border=\"1\" class=\"dataframe\">\n",
       "  <thead>\n",
       "    <tr style=\"text-align: right;\">\n",
       "      <th></th>\n",
       "      <th>text</th>\n",
       "      <th>pagenum</th>\n",
       "    </tr>\n",
       "  </thead>\n",
       "  <tbody>\n",
       "    <tr>\n",
       "      <th>0</th>\n",
       "      <td>I live in Lviv .\\nEveryday I go\\nto work by\\nAlso I would\\nlike to visit Mars .</td>\n",
       "      <td>1</td>\n",
       "    </tr>\n",
       "  </tbody>\n",
       "</table>\n",
       "</div>"
      ],
      "text/plain": [
       "                                                                              text  \\\n",
       "0  I live in Lviv .\\nEveryday I go\\nto work by\\nAlso I would\\nlike to visit Mars .   \n",
       "\n",
       "   pagenum  \n",
       "0        1  "
      ]
     },
     "execution_count": 15,
     "metadata": {},
     "output_type": "execute_result"
    }
   ],
   "source": [
    "df = pd.DataFrame(data[\"items\"])\n",
    "\n",
    "# Display the DataFrame\n",
    "df"
   ]
  },
  {
   "cell_type": "markdown",
   "metadata": {},
   "source": [
    "#### Example 3 -- Image Example"
   ]
  },
  {
   "cell_type": "code",
   "execution_count": 16,
   "metadata": {
    "tags": []
   },
   "outputs": [
    {
     "data": {
      "image/jpeg": "[encoded data removed]",
      "text/plain": [
       "<IPython.core.display.Image object>"
      ]
     },
     "execution_count": 16,
     "metadata": {},
     "output_type": "execute_result"
    }
   ],
   "source": [
    "Image(filename='./input_handwritten_4.jpg')"
   ]
  },
  {
   "cell_type": "code",
   "execution_count": 17,
   "metadata": {
    "tags": []
   },
   "outputs": [],
   "source": [
    "data =  process_data_and_invoke_realtime_endpoint(pdf_file='./input_handwritten_4.jpg', content_type='application/octet-stream')"
   ]
  },
  {
   "cell_type": "code",
   "execution_count": 18,
   "metadata": {
    "tags": []
   },
   "outputs": [
    {
     "data": {
      "text/html": [
       "<div>\n",
       "<style scoped>\n",
       "    .dataframe tbody tr th:only-of-type {\n",
       "        vertical-align: middle;\n",
       "    }\n",
       "\n",
       "    .dataframe tbody tr th {\n",
       "        vertical-align: top;\n",
       "    }\n",
       "\n",
       "    .dataframe thead th {\n",
       "        text-align: right;\n",
       "    }\n",
       "</style>\n",
       "<table border=\"1\" class=\"dataframe\">\n",
       "  <thead>\n",
       "    <tr style=\"text-align: right;\">\n",
       "      <th></th>\n",
       "      <th>text</th>\n",
       "    </tr>\n",
       "  </thead>\n",
       "  <tbody>\n",
       "    <tr>\n",
       "      <th>0</th>\n",
       "      <td>hello ,\\nSimply Noted has developed\\nincredible proprietary robotic\\ntechnology to write your message\\nand envelopes with a genuine\\nreal , Penn . It is completely\\nindistinguishable from a humans\\nhandwriting .\\nTry us today !\\nsimply \" Noted</td>\n",
       "    </tr>\n",
       "  </tbody>\n",
       "</table>\n",
       "</div>"
      ],
      "text/plain": [
       "                                                                                                                                                                                                                                                  text\n",
       "0  hello ,\\nSimply Noted has developed\\nincredible proprietary robotic\\ntechnology to write your message\\nand envelopes with a genuine\\nreal , Penn . It is completely\\nindistinguishable from a humans\\nhandwriting .\\nTry us today !\\nsimply \" Noted"
      ]
     },
     "execution_count": 18,
     "metadata": {},
     "output_type": "execute_result"
    }
   ],
   "source": [
    "df = pd.DataFrame(data[\"items\"])\n",
    "\n",
    "# Display the DataFrame\n",
    "df"
   ]
  },
  {
   "cell_type": "markdown",
   "metadata": {},
   "source": [
    "### C. Delete the endpoint"
   ]
  },
  {
   "cell_type": "markdown",
   "metadata": {},
   "source": [
    "Now that you have successfully performed a real-time inference, you do not need the endpoint any more. You can terminate the endpoint to avoid being charged."
   ]
  },
  {
   "cell_type": "code",
   "execution_count": 19,
   "metadata": {
    "tags": []
   },
   "outputs": [],
   "source": [
    "model.sagemaker_session.delete_endpoint(model_name)\n",
    "model.sagemaker_session.delete_endpoint_config(model_name)"
   ]
  },
  {
   "cell_type": "markdown",
   "metadata": {
    "tags": []
   },
   "source": [
    "## 3. Batch inference"
   ]
  },
  {
   "cell_type": "code",
   "execution_count": 20,
   "metadata": {
    "tags": []
   },
   "outputs": [],
   "source": [
    "validation_file_name1 = \"input_handwritten_1.pdf\"\n",
    "validation_file_name2 = \"input_handwritten_2.pdf\"\n",
    "validation_file_name3 = \"input_handwritten_4.jpg\"\n",
    "\n",
    "validation_input_path = f\"s3://{s3_bucket}/{model_name}/validation-input/batch\"\n",
    "validation_output_path = f\"s3://{s3_bucket}/{model_name}/validation-output/batch\"\n",
    "\n",
    "input_dir = 'inputs/batch'\n",
    "output_dir = 'outputs/batch'\n",
    "\n",
    "os.makedirs(input_dir, exist_ok=True)\n",
    "os.makedirs(output_dir, exist_ok=True)"
   ]
  },
  {
   "cell_type": "code",
   "execution_count": 22,
   "metadata": {
    "tags": []
   },
   "outputs": [],
   "source": [
    "def upload_pdf_to_s3(local_file_path):\n",
    "    shutil.copy2(local_file_path, input_dir)\n",
    "    base_file_name = os.path.basename(local_file_path)\n",
    "    validation_input_file_path = f\"{model_name}/validation-input/batch/{base_file_name}\"\n",
    "    s3_client.upload_file(local_file_path, s3_bucket, validation_input_file_path)"
   ]
  },
  {
   "cell_type": "code",
   "execution_count": 23,
   "metadata": {
    "tags": []
   },
   "outputs": [],
   "source": [
    "upload_pdf_to_s3(validation_file_name1)\n",
    "upload_pdf_to_s3(validation_file_name2)\n",
    "upload_pdf_to_s3(validation_file_name3)"
   ]
  },
  {
   "cell_type": "code",
   "execution_count": 24,
   "metadata": {
    "tags": []
   },
   "outputs": [
    {
     "name": "stderr",
     "output_type": "stream",
     "text": [
      "INFO:sagemaker:Creating transform job with name: en-handwritten-transformer-extraction-p-2024-07-25-10-52-27-376\n"
     ]
    },
    {
     "name": "stdout",
     "output_type": "stream",
     "text": [
      ".............................................\u001b[34mINFO:     Will watch for changes in these directories: ['/app']\u001b[0m\n",
      "\u001b[34mINFO:     Uvicorn running on http://0.0.0.0:8080 (Press CTRL+C to quit)\u001b[0m\n",
      "\u001b[34mINFO:     Started reloader process [7] using StatReload\u001b[0m\n",
      "\u001b[34m24/07/25 10:59:57 WARN NativeCodeLoader: Unable to load native-hadoop library for your platform... using builtin-java classes where applicable\u001b[0m\n",
      "\u001b[34mSetting default log level to \"WARN\".\u001b[0m\n",
      "\u001b[34mTo adjust logging level use sc.setLogLevel(newLevel). For SparkR, use setLogLevel(newLevel).\u001b[0m\n",
      "\u001b[34m#015[Stage 0:>                                                          (0 + 1) / 1]#015#015                                                                                #015INFO:     Started server process [9]\u001b[0m\n",
      "\u001b[34mINFO:     Waiting for application startup.\u001b[0m\n",
      "\u001b[34mINFO:     Application startup complete.\u001b[0m\n",
      "\u001b[34m📋 Loading license number 0 from /root/.johnsnowlabs/licenses/license_number_0_for_Spark-Healthcare_Spark-OCR.json\u001b[0m\n",
      "\u001b[34m👌 Launched #033[92mcpu optimized#033[39m session with with: 🚀Spark-NLP==5.3.1, 🕶Spark-OCR==5.3.0, running on ⚡ PySpark==3.4.0\u001b[0m\n",
      "\u001b[34mINFO:     169.254.255.130:44704 - \"GET /ping HTTP/1.1\" 200 OK\u001b[0m\n",
      "\u001b[34mINFO:     169.254.255.130:44708 - \"GET /execution-parameters HTTP/1.1\" 404 Not Found\u001b[0m\n",
      "\u001b[35m#015[Stage 0:>                                                          (0 + 1) / 1]#015#015                                                                                #015INFO:     Started server process [9]\u001b[0m\n",
      "\u001b[35mINFO:     Waiting for application startup.\u001b[0m\n",
      "\u001b[35mINFO:     Application startup complete.\u001b[0m\n",
      "\u001b[35m📋 Loading license number 0 from /root/.johnsnowlabs/licenses/license_number_0_for_Spark-Healthcare_Spark-OCR.json\u001b[0m\n",
      "\u001b[35m👌 Launched #033[92mcpu optimized#033[39m session with with: 🚀Spark-NLP==5.3.1, 🕶Spark-OCR==5.3.0, running on ⚡ PySpark==3.4.0\u001b[0m\n",
      "\u001b[35mINFO:     169.254.255.130:44704 - \"GET /ping HTTP/1.1\" 200 OK\u001b[0m\n",
      "\u001b[35mINFO:     169.254.255.130:44708 - \"GET /execution-parameters HTTP/1.1\" 404 Not Found\u001b[0m\n",
      "\u001b[32m2024-07-25T11:00:08.375:[sagemaker logs]: MaxConcurrentTransforms=1, MaxPayloadInMB=6, BatchStrategy=MULTI_RECORD\u001b[0m\n",
      "\u001b[34m#015[Stage 9:=======================================================> (35 + 1) / 36]#015#015[Stage 11:====================================================>   (34 + 2) / 36]#015Warning: Version of org.bytedeco:openblas could not be found.\u001b[0m\n",
      "\u001b[34mWarning: Version of org.bytedeco:opencv could not be found.\u001b[0m\n",
      "\u001b[35m#015[Stage 9:=======================================================> (35 + 1) / 36]#015#015[Stage 11:====================================================>   (34 + 2) / 36]#015Warning: Version of org.bytedeco:openblas could not be found.\u001b[0m\n",
      "\u001b[35mWarning: Version of org.bytedeco:opencv could not be found.\u001b[0m\n",
      "\u001b[34mINFO:     169.254.255.130:44722 - \"POST /invocations HTTP/1.1\" 200 OK\u001b[0m\n",
      "\u001b[35mINFO:     169.254.255.130:44722 - \"POST /invocations HTTP/1.1\" 200 OK\u001b[0m\n",
      "\n",
      "\u001b[34mINFO:     Will watch for changes in these directories: ['/app']\u001b[0m\n",
      "\u001b[34mINFO:     Uvicorn running on http://0.0.0.0:8080 (Press CTRL+C to quit)\u001b[0m\n",
      "\u001b[34mINFO:     Started reloader process [7] using StatReload\u001b[0m\n",
      "\u001b[35mINFO:     Will watch for changes in these directories: ['/app']\u001b[0m\n",
      "\u001b[35mINFO:     Uvicorn running on http://0.0.0.0:8080 (Press CTRL+C to quit)\u001b[0m\n",
      "\u001b[35mINFO:     Started reloader process [7] using StatReload\u001b[0m\n",
      "\u001b[34m24/07/25 10:59:57 WARN NativeCodeLoader: Unable to load native-hadoop library for your platform... using builtin-java classes where applicable\u001b[0m\n",
      "\u001b[34mSetting default log level to \"WARN\".\u001b[0m\n",
      "\u001b[34mTo adjust logging level use sc.setLogLevel(newLevel). For SparkR, use setLogLevel(newLevel).\u001b[0m\n",
      "\u001b[35m24/07/25 10:59:57 WARN NativeCodeLoader: Unable to load native-hadoop library for your platform... using builtin-java classes where applicable\u001b[0m\n",
      "\u001b[35mSetting default log level to \"WARN\".\u001b[0m\n",
      "\u001b[35mTo adjust logging level use sc.setLogLevel(newLevel). For SparkR, use setLogLevel(newLevel).\u001b[0m\n",
      "\u001b[34m#015[Stage 0:>                                                          (0 + 1) / 1]#015#015                                                                                #015INFO:     Started server process [9]\u001b[0m\n",
      "\u001b[34mINFO:     Waiting for application startup.\u001b[0m\n",
      "\u001b[34mINFO:     Application startup complete.\u001b[0m\n",
      "\u001b[34m📋 Loading license number 0 from /root/.johnsnowlabs/licenses/license_number_0_for_Spark-Healthcare_Spark-OCR.json\u001b[0m\n",
      "\u001b[34m👌 Launched #033[92mcpu optimized#033[39m session with with: 🚀Spark-NLP==5.3.1, 🕶Spark-OCR==5.3.0, running on ⚡ PySpark==3.4.0\u001b[0m\n",
      "\u001b[34mINFO:     169.254.255.130:44704 - \"GET /ping HTTP/1.1\" 200 OK\u001b[0m\n",
      "\u001b[34mINFO:     169.254.255.130:44708 - \"GET /execution-parameters HTTP/1.1\" 404 Not Found\u001b[0m\n",
      "\u001b[35m#015[Stage 0:>                                                          (0 + 1) / 1]#015#015                                                                                #015INFO:     Started server process [9]\u001b[0m\n",
      "\u001b[35mINFO:     Waiting for application startup.\u001b[0m\n",
      "\u001b[35mINFO:     Application startup complete.\u001b[0m\n",
      "\u001b[35m📋 Loading license number 0 from /root/.johnsnowlabs/licenses/license_number_0_for_Spark-Healthcare_Spark-OCR.json\u001b[0m\n",
      "\u001b[35m👌 Launched #033[92mcpu optimized#033[39m session with with: 🚀Spark-NLP==5.3.1, 🕶Spark-OCR==5.3.0, running on ⚡ PySpark==3.4.0\u001b[0m\n",
      "\u001b[35mINFO:     169.254.255.130:44704 - \"GET /ping HTTP/1.1\" 200 OK\u001b[0m\n",
      "\u001b[35mINFO:     169.254.255.130:44708 - \"GET /execution-parameters HTTP/1.1\" 404 Not Found\u001b[0m\n",
      "\u001b[32m2024-07-25T11:00:08.375:[sagemaker logs]: MaxConcurrentTransforms=1, MaxPayloadInMB=6, BatchStrategy=MULTI_RECORD\u001b[0m\n",
      "\u001b[34m#015[Stage 9:=======================================================> (35 + 1) / 36]#015#015[Stage 11:====================================================>   (34 + 2) / 36]#015Warning: Version of org.bytedeco:openblas could not be found.\u001b[0m\n",
      "\u001b[34mWarning: Version of org.bytedeco:opencv could not be found.\u001b[0m\n",
      "\u001b[35m#015[Stage 9:=======================================================> (35 + 1) / 36]#015#015[Stage 11:====================================================>   (34 + 2) / 36]#015Warning: Version of org.bytedeco:openblas could not be found.\u001b[0m\n",
      "\u001b[35mWarning: Version of org.bytedeco:opencv could not be found.\u001b[0m\n",
      "\u001b[34mINFO:     169.254.255.130:44722 - \"POST /invocations HTTP/1.1\" 200 OK\u001b[0m\n",
      "\u001b[35mINFO:     169.254.255.130:44722 - \"POST /invocations HTTP/1.1\" 200 OK\u001b[0m\n",
      "\u001b[34mINFO:     169.254.255.130:44722 - \"POST /invocations HTTP/1.1\" 200 OK\u001b[0m\n",
      "\u001b[35mINFO:     169.254.255.130:44722 - \"POST /invocations HTTP/1.1\" 200 OK\u001b[0m\n",
      "\u001b[34mINFO:     169.254.255.130:44722 - \"POST /invocations HTTP/1.1\" 200 OK\u001b[0m\n",
      "\u001b[35mINFO:     169.254.255.130:44722 - \"POST /invocations HTTP/1.1\" 200 OK\u001b[0m\n"
     ]
    }
   ],
   "source": [
    "# Initialize a SageMaker Transformer object for making predictions\n",
    "transformer = model.transformer(\n",
    "    instance_count=1,\n",
    "    instance_type=batch_transform_inference_instance_type,\n",
    "    accept=\"application/json\",\n",
    "    output_path=validation_output_path\n",
    ")\n",
    "\n",
    "transformer.transform(validation_input_path, content_type='application/octet-stream')\n",
    "transformer.wait()"
   ]
  },
  {
   "cell_type": "code",
   "execution_count": 25,
   "metadata": {
    "tags": []
   },
   "outputs": [],
   "source": [
    "def display_batch_output(file):\n",
    "    parsed_url = urlparse(transformer.output_path)\n",
    "    file_key = f\"{parsed_url.path[1:]}/{file}.out\"\n",
    "    response = s3_client.get_object(Bucket=s3_bucket, Key=file_key)\n",
    "    data = json.loads(response[\"Body\"].read().decode(\"utf-8\"))\n",
    "    \n",
    "    local_dir = os.path.join(output_dir,file + \".out\")\n",
    "    with open(local_dir, 'w') as f_out:\n",
    "        json.dump(data, f_out, indent=4)\n",
    "\n",
    "    df = pd.DataFrame(data[\"items\"])\n",
    "    display(df)"
   ]
  },
  {
   "cell_type": "code",
   "execution_count": 26,
   "metadata": {
    "tags": []
   },
   "outputs": [
    {
     "data": {
      "text/html": [
       "<div>\n",
       "<style scoped>\n",
       "    .dataframe tbody tr th:only-of-type {\n",
       "        vertical-align: middle;\n",
       "    }\n",
       "\n",
       "    .dataframe tbody tr th {\n",
       "        vertical-align: top;\n",
       "    }\n",
       "\n",
       "    .dataframe thead th {\n",
       "        text-align: right;\n",
       "    }\n",
       "</style>\n",
       "<table border=\"1\" class=\"dataframe\">\n",
       "  <thead>\n",
       "    <tr style=\"text-align: right;\">\n",
       "      <th></th>\n",
       "      <th>text</th>\n",
       "      <th>pagenum</th>\n",
       "    </tr>\n",
       "  </thead>\n",
       "  <tbody>\n",
       "    <tr>\n",
       "      <th>0</th>\n",
       "      <td>We Start With Good\\nBecause all businesses should\\nbe doing something good .</td>\n",
       "      <td>1</td>\n",
       "    </tr>\n",
       "    <tr>\n",
       "      <th>1</th>\n",
       "      <td>Last Wednesday\\nWe had a good\\nTeam building .</td>\n",
       "      <td>2</td>\n",
       "    </tr>\n",
       "  </tbody>\n",
       "</table>\n",
       "</div>"
      ],
      "text/plain": [
       "                                                                           text  \\\n",
       "0  We Start With Good\\nBecause all businesses should\\nbe doing something good .   \n",
       "1                                Last Wednesday\\nWe had a good\\nTeam building .   \n",
       "\n",
       "   pagenum  \n",
       "0        1  \n",
       "1        2  "
      ]
     },
     "metadata": {},
     "output_type": "display_data"
    }
   ],
   "source": [
    "display_batch_output(validation_file_name1)"
   ]
  },
  {
   "cell_type": "code",
   "execution_count": 27,
   "metadata": {
    "tags": []
   },
   "outputs": [
    {
     "data": {
      "text/html": [
       "<div>\n",
       "<style scoped>\n",
       "    .dataframe tbody tr th:only-of-type {\n",
       "        vertical-align: middle;\n",
       "    }\n",
       "\n",
       "    .dataframe tbody tr th {\n",
       "        vertical-align: top;\n",
       "    }\n",
       "\n",
       "    .dataframe thead th {\n",
       "        text-align: right;\n",
       "    }\n",
       "</style>\n",
       "<table border=\"1\" class=\"dataframe\">\n",
       "  <thead>\n",
       "    <tr style=\"text-align: right;\">\n",
       "      <th></th>\n",
       "      <th>text</th>\n",
       "      <th>pagenum</th>\n",
       "    </tr>\n",
       "  </thead>\n",
       "  <tbody>\n",
       "    <tr>\n",
       "      <th>0</th>\n",
       "      <td>I live in Lviv .\\nEveryday I go\\nto work by\\nAlso I would\\nlike to visit Mars .</td>\n",
       "      <td>1</td>\n",
       "    </tr>\n",
       "  </tbody>\n",
       "</table>\n",
       "</div>"
      ],
      "text/plain": [
       "                                                                              text  \\\n",
       "0  I live in Lviv .\\nEveryday I go\\nto work by\\nAlso I would\\nlike to visit Mars .   \n",
       "\n",
       "   pagenum  \n",
       "0        1  "
      ]
     },
     "metadata": {},
     "output_type": "display_data"
    }
   ],
   "source": [
    "display_batch_output(validation_file_name2)"
   ]
  },
  {
   "cell_type": "code",
   "execution_count": 28,
   "metadata": {
    "tags": []
   },
   "outputs": [
    {
     "data": {
      "text/html": [
       "<div>\n",
       "<style scoped>\n",
       "    .dataframe tbody tr th:only-of-type {\n",
       "        vertical-align: middle;\n",
       "    }\n",
       "\n",
       "    .dataframe tbody tr th {\n",
       "        vertical-align: top;\n",
       "    }\n",
       "\n",
       "    .dataframe thead th {\n",
       "        text-align: right;\n",
       "    }\n",
       "</style>\n",
       "<table border=\"1\" class=\"dataframe\">\n",
       "  <thead>\n",
       "    <tr style=\"text-align: right;\">\n",
       "      <th></th>\n",
       "      <th>text</th>\n",
       "    </tr>\n",
       "  </thead>\n",
       "  <tbody>\n",
       "    <tr>\n",
       "      <th>0</th>\n",
       "      <td>hello ,\\nSimply Noted has developed\\nincredible proprietary robotic\\ntechnology to write your message\\nand envelopes with a genuine\\nreal , Penn . It is completely\\nindistinguishable from a humans\\nhandwriting .\\nTry us today !\\nsimply \" Noted</td>\n",
       "    </tr>\n",
       "  </tbody>\n",
       "</table>\n",
       "</div>"
      ],
      "text/plain": [
       "                                                                                                                                                                                                                                                  text\n",
       "0  hello ,\\nSimply Noted has developed\\nincredible proprietary robotic\\ntechnology to write your message\\nand envelopes with a genuine\\nreal , Penn . It is completely\\nindistinguishable from a humans\\nhandwriting .\\nTry us today !\\nsimply \" Noted"
      ]
     },
     "metadata": {},
     "output_type": "display_data"
    }
   ],
   "source": [
    "display_batch_output(validation_file_name3)"
   ]
  },
  {
   "cell_type": "code",
   "execution_count": 29,
   "metadata": {
    "tags": []
   },
   "outputs": [
    {
     "name": "stderr",
     "output_type": "stream",
     "text": [
      "INFO:sagemaker:Deleting model with name: en-handwritten-transformer-extraction-p-2024-07-25-10-52-26-651\n"
     ]
    }
   ],
   "source": [
    "model.delete_model()"
   ]
  },
  {
   "cell_type": "markdown",
   "metadata": {},
   "source": [
    "### Unsubscribe to the listing (optional)"
   ]
  },
  {
   "cell_type": "markdown",
   "metadata": {
    "tags": []
   },
   "source": [
    "If you would like to unsubscribe to the model package, follow these steps. Before you cancel the subscription, ensure that you do not have any [deployable model](https://console.aws.amazon.com/sagemaker/home#/models) created from the model package or using the algorithm. Note - You can find this information by looking at the container name associated with the model. \n",
    "\n",
    "**Steps to unsubscribe to product from AWS Marketplace**:\n",
    "1. Navigate to __Machine Learning__ tab on [__Your Software subscriptions page__](https://aws.amazon.com/marketplace/ai/library?productType=ml&ref_=mlmp_gitdemo_indust)\n",
    "2. Locate the listing that you want to cancel the subscription for, and then choose __Cancel Subscription__  to cancel the subscription.\n",
    "\n"
   ]
  }
 ],
 "metadata": {
  "instance_type": "ml.t3.medium",
  "kernelspec": {
   "display_name": "conda_python3",
   "language": "python",
   "name": "conda_python3"
  },
  "language_info": {
   "codemirror_mode": {
    "name": "ipython",
    "version": 3
   },
   "file_extension": ".py",
   "mimetype": "text/x-python",
   "name": "python",
   "nbconvert_exporter": "python",
   "pygments_lexer": "ipython3",
   "version": "3.10.14"
  }
 },
 "nbformat": 4,
 "nbformat_minor": 4
}

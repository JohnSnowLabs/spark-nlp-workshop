{
 "cells": [
  {
   "cell_type": "markdown",
   "metadata": {},
   "source": [
    "## 1. Subscribe to the model package"
   ]
  },
  {
   "cell_type": "markdown",
   "metadata": {},
   "source": [
    "To subscribe to the model package:\n",
    "1. Open the model package listing page: [Clinical De-identification for Italian](https://aws.amazon.com/marketplace/pp/prodview-p3syjgme2b6w4).\n",
    "1. On the AWS Marketplace listing, click on the **Continue to subscribe** button.\n",
    "1. On the **Subscribe to this software** page, review and click on **\"Accept Offer\"** if you and your organization agrees with EULA, pricing, and support terms. \n",
    "1. Once you click on **Continue to configuration button** and then choose a **region**, you will see a **Product Arn** displayed. This is the model package ARN that you need to specify while creating a deployable model using Boto3. Copy the ARN corresponding to your region and specify the same in the following cell."
   ]
  },
  {
   "cell_type": "markdown",
   "metadata": {},
   "source": [
    "## Clinical Deidentification Italian\n",
    "\n",
    "Deidentification is essential for safeguarding patient privacy in clinical data, including texts, PDFs, images, and DICOM files containing Protected Health Information (PHI). PHI encompasses various health-related data, including common identifiers such as name, address, birth date, and Social Security Number.\n",
    "\n",
    "- **Model**: [it.deid.clinical](https://nlp.johnsnowlabs.com/2023/06/17/clinical_deidentification_it.html)\n",
    "- **Model Description**: This pipeline can be used to deidentify PHI information from medical texts in Italian. The pipeline can mask and obfuscate the following entities: DATE, AGE, SEX, PROFESSION, ORGANIZATION, PHONE, E-MAIL, ZIP, STREET, CITY, COUNTRY, PATIENT, DOCTOR, HOSPITAL, MEDICALRECORD, SSN, IDNUM, ACCOUNT, PLATE, USERNAME, URL, and IPADDR."
   ]
  },
  {
   "cell_type": "code",
   "execution_count": 24,
   "metadata": {
    "tags": []
   },
   "outputs": [],
   "source": [
    "model_package_arn = \"<Customer to specify Model package ARN corresponding to their AWS region>\""
   ]
  },
  {
   "cell_type": "code",
   "execution_count": 25,
   "metadata": {
    "tags": []
   },
   "outputs": [],
   "source": [
    "import json\n",
    "import os\n",
    "import boto3\n",
    "import pandas as pd\n",
    "import sagemaker as sage\n",
    "from sagemaker import ModelPackage\n",
    "from sagemaker import get_execution_role\n",
    "from IPython.display import display\n",
    "from urllib.parse import urlparse"
   ]
  },
  {
   "cell_type": "code",
   "execution_count": 26,
   "metadata": {
    "tags": []
   },
   "outputs": [],
   "source": [
    "sagemaker_session = sage.Session()\n",
    "s3_bucket = sagemaker_session.default_bucket()\n",
    "region = sagemaker_session.boto_region_name\n",
    "account_id = boto3.client(\"sts\").get_caller_identity().get(\"Account\")\n",
    "role = get_execution_role()\n",
    "\n",
    "sagemaker = boto3.client(\"sagemaker\")\n",
    "s3_client = sagemaker_session.boto_session.client(\"s3\")\n",
    "ecr = boto3.client(\"ecr\")\n",
    "sm_runtime = boto3.client(\"sagemaker-runtime\")\n",
    "\n",
    "# Set display options\n",
    "pd.set_option('display.max_rows', None)\n",
    "pd.set_option('display.max_columns', None)\n",
    "pd.set_option('display.max_colwidth', None)"
   ]
  },
  {
   "cell_type": "code",
   "execution_count": 27,
   "metadata": {
    "tags": []
   },
   "outputs": [],
   "source": [
    "model_name = \"it-deid-clinical\"\n",
    "\n",
    "real_time_inference_instance_type = \"ml.m4.xlarge\"\n",
    "batch_transform_inference_instance_type = \"ml.m4.2xlarge\""
   ]
  },
  {
   "cell_type": "markdown",
   "metadata": {},
   "source": [
    "## 2. Create a deployable model from the model package."
   ]
  },
  {
   "cell_type": "code",
   "execution_count": 28,
   "metadata": {
    "tags": []
   },
   "outputs": [],
   "source": [
    "model = ModelPackage(\n",
    "    role=role, \n",
    "    model_package_arn=model_package_arn,\n",
    "    sagemaker_session=sagemaker_session,\n",
    ")"
   ]
  },
  {
   "cell_type": "markdown",
   "metadata": {},
   "source": [
    "### Input Format\n",
    "\n",
    "To use the model, you need to provide input in one of the following supported formats:\n",
    "\n",
    "#### JSON Format\n",
    "\n",
    "Provide input as JSON. We support two variations within this format:\n",
    "\n",
    "1. **Array of Text Documents**: \n",
    "   Use an array containing multiple text documents. Each element represents a separate text document.\n",
    "\n",
    "   ```json\n",
    "   {\n",
    "       \"text\": [\n",
    "           \"Text document 1\",\n",
    "           \"Text document 2\",\n",
    "           ...\n",
    "       ]\n",
    "   }\n",
    "\n",
    "    ```\n",
    "\n",
    "2. **Single Text Document**:\n",
    "   Provide a single text document as a string.\n",
    "\n",
    "\n",
    "   ```json\n",
    "    {\n",
    "        \"text\": \"Single text document\"\n",
    "    }\n",
    "   ```\n",
    "\n",
    "#### JSON Lines (JSONL) Format\n",
    "\n",
    "Provide input in JSON Lines format, where each line is a JSON object representing a text document.\n",
    "\n",
    "```\n",
    "{\"text\": \"Text document 1\"}\n",
    "{\"text\": \"Text document 2\"}\n",
    "```\n",
    "\n",
    "### Important Parameter\n",
    "\n",
    "- **masking_policy**: `str`\n",
    "\n",
    "    Users can select a masking policy to determine how sensitive entities are handled:\n",
    "\n",
    "    Example: \"**PZ: Giancarlo Binaghi, CODICE FISCALE: MVANSK92F09W408A, INDIRIZZO: Viale Burcardo 7, CITTÀ : Napoli**\"\n",
    "\n",
    "    - **masked**: Default policy that masks entities with their type.\n",
    "\n",
    "      -> 'PZ: `<DOCTOR>`, CODICE FISCALE: `<SSN>`, INDIRIZZO: `<STREET>`, CITTÀ : `<CITY>`'\n",
    "\n",
    "    - **obfuscated**: Replaces sensitive entities with random values of the same type.\n",
    "\n",
    "      -> 'PZ:`Germana Maglio-Dovara`, CODICE FISCALE: `ECI-QLN77G15L455Y`, INDIRIZZO: `Viale Orlando 808`, CITTÀ : `Sesto Raimondo`'\n",
    "\n",
    "    - **masked_fixed_length_chars**: Masks entities with a fixed length of asterisks (\\*).\n",
    "\n",
    "      -> 'PZ: `****`, CODICE FISCALE: `****`, INDIRIZZO: `****`, CITTÀ : `****`'\n",
    "\n",
    "    - **masked_with_chars**: Masks entities with asterisks (\\*).\n",
    "\n",
    "      -> 'PZ: [`***************`], CODICE FISCALE: [`**************`], INDIRIZZO: [`**************`], CITTÀ : [`****`]'\n",
    "\n",
    "    \n",
    "You can specify these parameters in the input as follows:\n",
    "\n",
    "```json\n",
    "{\n",
    "    \"text\": [\n",
    "        \"Text document 1\",\n",
    "        \"Text document 2\",\n",
    "        ...\n",
    "    ],\n",
    "    \"masking_policy\": \"masked\",\n",
    "}\n",
    "```"
   ]
  },
  {
   "cell_type": "markdown",
   "metadata": {},
   "source": [
    "## 3. Create an endpoint and perform real-time inference"
   ]
  },
  {
   "cell_type": "markdown",
   "metadata": {},
   "source": [
    "If you want to understand how real-time inference with Amazon SageMaker works, see [Documentation](https://docs.aws.amazon.com/sagemaker/latest/dg/how-it-works-hosting.html)."
   ]
  },
  {
   "cell_type": "markdown",
   "metadata": {},
   "source": [
    "### A. Deploy the SageMaker model to an endpoint"
   ]
  },
  {
   "cell_type": "code",
   "execution_count": null,
   "metadata": {
    "tags": []
   },
   "outputs": [],
   "source": [
    "predictor = model.deploy(\n",
    "    initial_instance_count=1,\n",
    "    instance_type=real_time_inference_instance_type, \n",
    "    endpoint_name=model_name,\n",
    ")"
   ]
  },
  {
   "cell_type": "markdown",
   "metadata": {},
   "source": [
    "Once endpoint has been created, you would be able to perform real-time inference."
   ]
  },
  {
   "cell_type": "code",
   "execution_count": 30,
   "metadata": {
    "tags": []
   },
   "outputs": [],
   "source": [
    "def invoke_realtime_endpoint(record, content_type=\"application/json\", accept=\"application/json\"):\n",
    "    response = sm_runtime.invoke_endpoint(\n",
    "        EndpointName=model_name,\n",
    "        ContentType=content_type,\n",
    "        Accept=accept,\n",
    "        Body=json.dumps(record) if content_type == \"application/json\" else record,\n",
    "    )\n",
    "\n",
    "    response_body = response[\"Body\"].read().decode(\"utf-8\")\n",
    "\n",
    "    if accept == \"application/json\":\n",
    "        return json.loads(response_body)\n",
    "    elif accept == \"application/jsonlines\":\n",
    "        return response_body\n",
    "    else:\n",
    "        raise ValueError(f\"Unsupported accept type: {accept}\")"
   ]
  },
  {
   "cell_type": "markdown",
   "metadata": {},
   "source": [
    "### Initial Setup"
   ]
  },
  {
   "cell_type": "code",
   "execution_count": 31,
   "metadata": {
    "tags": []
   },
   "outputs": [],
   "source": [
    "docs = [\n",
    "'''PZ: Giancarlo Binaghi, CODICE FISCALE: MVANSK92F09W408A, INDIRIZZO: Viale Burcardo 7, CITTÀ : Napoli... \n",
    "PZ: Giancarlo Binaghi, CODICE FISCALE: MVANSK92F09W408A, INDIRIZZO: Viale Burcardo 7, CITTÀ : Napoli\n",
    "CODICE POSTALE: 80139,  DATA DI NASCITA: 03/03/1946, ETÀ: 70 anni , SESSO: M, EMAIL: gcbinaghi@tim.it, DATA DI AMMISSIONE: 12/12/2016, DOTTORE: Eva Viviani, RAPPORTO CLINICO: 70 anni, pensionato, senza allergie farmacologiche note, che presenta la seguente storia: ex incidente sul lavoro con fratture vertebrali e costali; operato per la malattia di Dupuytren alla mano destra e un bypass ileo-femorale sinistro; diabete di tipo II, ipercolesterolemia e iperuricemia; alcolismo attivo, fuma 20 sigarette/giorno.\n",
    "È stato indirizzato a noi perché ha presentato un'ematuria macroscopica post-evacuazione in un'occasione e una microematuria persistente in seguito, con un'evacuazione normale.\n",
    "L'esame fisico ha mostrato buone condizioni generali, con addome e genitali normali; l'esame digitale rettale era coerente con un adenoma prostatico di grado I/IV.\n",
    "L'analisi delle urine ha mostrato 4 globuli rossi/campo e 0-5 leucociti/campo; il resto del sedimento era normale.\n",
    "L'emocromo è normale; la biochimica ha mostrato una glicemia di 169 mg/dl e trigliceridi 456 mg/dl; la funzione epatica e renale sono normali. PSA di 1,16 ng/ml. INDIRIZZATO A: Dott. Bruno Ferrabosco - ASL Napoli 1 Centro, Dipartimento di Endocrinologia e Nutrizione - Stretto Scamarcio 320, 80138 Napoli, EMAIL: bferrabosco@poste.it''',\n",
    "\n",
    "'''PZ: Giustino Adinolfi, CODICE FISCALE: DHQFOH39E45C604H, INDIRIZZO: Canale Seddio 62, CITTÀ: Palermo... \n",
    "PZ: Giustino Adinolfi, CODICE FISCALE: DHQFOH39E45C604H, INDIRIZZO: Canale Seddio 62, CITTÀ: Palermo, CODICE POSTALE: 90128,  DATA DI NASCITA: 15/07/1979,  ETÀ: 38 anni , SESSO: M, DATA DI AMMISSIONE: 04/03/2014, DOTTORE: Natalia Tamborini\n",
    "RAPPORTO CLINICO: Storia attuale: paziente maschio di 38 anni, valutato in consultazione per una coxalgia destra di un anno e mezzo di evoluzione, di caratteristiche meccaniche. Ha riportato dolore con l'esercizio fisico e una leggera limitazione della mobilità in certe posture. Meccanico di professione, nel suo tempo libero andava in bicicletta (40 km al giorno nei fine settimana), correva 3 volte alla settimana per 50 minuti e camminava per un'ora nei giorni in cui non correva. Il dolore è aumentato progressivamente e attualmente cammina soltanto.\n",
    "ESAME FISICO: L'esame fisico ha rivelato un dolore alla palpazione nel terzo medio della regione inguinale destra con dolore alla flessione, all'adduzione e alla rotazione, specialmente alla rotazione interna (manovra di shock positivo). L'equilibrio dell'articolazione dell'anca è di 110o di flessione bilaterale, rotazione interna di 10o destra, 40o sinistra e rotazione esterna di 30o destra, 40o sinistra. L'equilibrio muscolare sulla scala Daniels è 5/5 globale bilaterale. Non c'è dolore alla palpazione dei punti sciatici e le manovre Valleix, Fabere, Lasegue e Bragard sono negative. Non c'era nemmeno dolore alla palpazione della banda iliotibiale e il test Ober era negativo. Nell'esame dell'andatura, abbiamo osservato un'assenza di claudicazione e l'appoggio monopodalico alternato destra-sinistra è stabile, con Trendelenburg negativo. Il paziente aveva dolore quando camminava con una flessione forzata dell'anca e del ginocchio.\n",
    "Esami complementari: Una semplice radiologia anteroposteriore (AP) ha mostrato una deformità a forma di gobba nella regione femorale cervico-cefalica destra. L'emocromo richiesto, la biochimica, gli ormoni tiroidei, gli anticorpi e i reagenti di fase acuta erano normali.\n",
    "Alla luce di questi risultati, è stata richiesta una risonanza magnetica dell'anca, che ha mostrato una leggera alterazione subcondrale, con edema osseo nell'anca destra, con irregolarità corticale e leggera sinovite nell'interlinea articolare, con distensione della borsa ilio-psoas. La testa femorale ha un piccolo isolotto osseo e l'angolo alfa è maggiore di 50o. L'artrografia mostra un pizzicamento dell'interlinea articolare antero-superiore e postero-inferiore, un colletto osteofita femorale incipiente con piccole lesioni subcondrali antero-superiore della testa femorale e piccoli focolai di edema nell'acetabolo anterosuperiore. Non c'è necrosi avascolare o lesioni nel labrum. Una lesione cistica juxta-articolare è anche visualizzata in relazione al grande trocantere.\n",
    "Evoluzione: Con la diagnosi di sindrome da impingement femoroacetabolare di tipo LEVA (nota anche come CAM), al paziente è stato prescritto un trattamento di magnetoterapia (15 sedute) per migliorare i sintomi del dolore e il trofismo osseo.\n",
    "Il paziente è stato indirizzato all'unità di artroscopia del servizio di traumatologia per la valutazione della chirurgia artroscopica.\n",
    "Diagnosi principale: sindrome da impingement femoroacetabolare di tipo LEVA.\n",
    "TRATTAMENTO: Il trattamento farmacologico è prescritto con un'associazione di glucosamina-condroitina solfato orale 400 mg ogni 12 ore per 3 mesi e farmaci antinfiammatori non steroidei al bisogno se il dolore è presente. Viene istruita a riposare negli sport per evitare lo shock all'articolazione, con un'attività fisica attiva controllata, raccomandando di non superare i 90 gradi di flessione dell'anca ed evitando le rotazioni. Prenda un appuntamento per un controllo una volta terminati i solfati di glucosamina-condroitina per vedere il miglioramento clinico. Chiami il numero di assistenza e appuntamenti precedenti dell'ospedale 914 90 66 66 60.\n",
    "RIFERITO DA: Dott. Paloma Trupiano. Azienda Ospedaliera San Giovanni Addolorata, Strada Damiano 68, 90128 Palermo. Telefono: +39 3664066420. E-mail: p_trupiano@alice.it ''',\n",
    "\n",
    "]\n",
    "\n",
    "\n",
    "sample_text = \"\"\"PZ: Lina Quasimodo\n",
    "CODICE FISCALE: DHQFOH39E45C604H\n",
    "INDIRIZZO: Viale Bianca 95\n",
    "CITTÀ: Medesano\n",
    "CODIC... \n",
    "PZ: Lina Quasimodo\n",
    "CODICE FISCALE: DHQFOH39E45C604H\n",
    "INDIRIZZO: Viale Bianca 95\n",
    "CITTÀ: Medesano\n",
    "CODICE POSTALE: 43014 \n",
    "DATA DI NASCITA: 05/10/1976\n",
    "ETÀ: 44 anni \n",
    "SESSO: Femminile\n",
    "DATA DI AMMISSIONE: 04/03/2014\n",
    "DOTTORE: Lina Antonucci\n",
    "RAPPORTO CLINICO: Donna di 44 anni, si è rivolta alla nostra unità a causa di un aumento di volume nella regione zigomatica e della progressiva limitazione dell'apertura della bocca di 10 mesi di evoluzione. L'anamnesi medica non era rilevante. \n",
    "L'esame fisico extraorale ha mostrato un'asimmetria facciale dovuta a un aumento di volume nella guancia sinistra, di limiti diffusi, di consistenza ossea, indolore, con pelle di aspetto normale. L'apertura della bocca era di 30 mm. L'articolazione temporomandibolare (ATM) era normale alla palpazione, senza rumori o dolore all'apertura. All'ortopantomografia abbiamo osservato un processo coronoideo sinistro allargato. L'ipotesi diagnostica era un tumore coronoide.\n",
    "Prove complementari ed evoluzione: Un'incisione è stata fatta sul bordo anteriore del ramus mandibolare, disinserendo tutte le inserzioni del muscolo temporale. Una pseudocapsula fibrosa è stata trovata intorno all'allargamento, che è stata rilasciata. È stata eseguita una coronoidectomia. L'apertura buccale è stata immediatamente ripristinata a 43 mm. Il decorso postoperatorio è stato poco movimentato e il paziente è stato dimesso dopo 48 ore.\n",
    "Lo studio istopatologico ha riportato la presenza di fibre, neoformazione ossea e tessuto cartilagineo ialino. La diagnosi era osteocondroma. I controlli successivi sono stati senza problemi. La dimissione definitiva è stata data a 10 mesi, con un rimodellamento quasi completo della deformità della guancia.\n",
    "\n",
    "RIFERITO DA: Dott. Annunziata Luna. AZIENDA OSPEDALIERA G. BROTZU, Vicolo Margherita 6, 85057 Tramutola. Telefono: 018718869. E-mail: luna@libero.it \"\"\""
   ]
  },
  {
   "cell_type": "markdown",
   "metadata": {},
   "source": [
    "### JSON"
   ]
  },
  {
   "cell_type": "markdown",
   "metadata": {},
   "source": [
    "#### Example 1: masked (default-policy)"
   ]
  },
  {
   "cell_type": "code",
   "execution_count": 32,
   "metadata": {
    "tags": []
   },
   "outputs": [
    {
     "name": "stdout",
     "output_type": "stream",
     "text": [
      "PZ: <PATIENT>\n",
      "CODICE FISCALE: <SSN>\n",
      "INDIRIZZO: <STREET>\n",
      "CITTÀ: <CITY>\n",
      "CODIC... \n",
      "PZ: <PATIENT>\n",
      "CODICE FISCALE: <SSN>\n",
      "INDIRIZZO: <STREET>\n",
      "CITTÀ: <CITY>\n",
      "CODICE POSTALE: <ZIP> \n",
      "DATA DI NASCITA: <DATE>\n",
      "ETÀ: <AGE>anni \n",
      "SESSO: <SEX>\n",
      "DATA DI AMMISSIONE: <DATE>\n",
      "DOTTORE: <DOCTOR>\n",
      "RAPPORTO CLINICO: <SEX> di <AGE>anni, si è rivolta alla nostra unità a causa di un aumento di volume nella regione zigomatica e della progressiva limitazione dell'apertura della bocca di 10 mesi di evoluzione. L'anamnesi medica non era rilevante. \n",
      "L'esame fisico extraorale ha mostrato un'asimmetria facciale dovuta a un aumento di volume nella guancia sinistra, di limiti diffusi, di consistenza ossea, indolore, con pelle di aspetto normale. L'apertura della bocca era di 30 mm. L'articolazione temporomandibolare (ATM) era normale alla palpazione, senza rumori o dolore all'apertura. All'ortopantomografia abbiamo osservato un processo coronoideo sinistro allargato. L'ipotesi diagnostica era un tumore coronoide.\n",
      "Prove complementari ed evoluzione: Un'incisione è stata fatta sul bordo anteriore del ramus mandibolare, disinserendo tutte le inserzioni del muscolo temporale. Una pseudocapsula fibrosa è stata trovata intorno all'allargamento, che è stata rilasciata. È stata eseguita una coronoidectomia. L'apertura buccale è stata immediatamente ripristinata a 43 mm. Il decorso postoperatorio è stato poco movimentato e <SEX> è stato dimesso dopo 48 ore.\n",
      "Lo studio istopatologico ha riportato la presenza di fibre, neoformazione ossea e tessuto cartilagineo ialino. La diagnosi era osteocondroma. I controlli successivi sono stati senza problemi. La dimissione definitiva è stata data a 10 mesi, con un rimodellamento quasi completo della deformità della guancia.\n",
      "\n",
      "RIFERITO DA: Dott. <DOCTOR>. <HOSPITAL>. <ORGANIZATION>, <STREET>, <ZIP> Tramutola. Telefono: <PHONE>. E-mail: <E-MAIL>\n"
     ]
    }
   ],
   "source": [
    "input_json_data = {\"text\": sample_text}\n",
    "response_json = invoke_realtime_endpoint(input_json_data, content_type=\"application/json\", accept=\"application/json\")\n",
    "print(response_json[\"predictions\"][0])"
   ]
  },
  {
   "cell_type": "markdown",
   "metadata": {},
   "source": [
    "#### Example 2: obfuscated"
   ]
  },
  {
   "cell_type": "code",
   "execution_count": 34,
   "metadata": {
    "tags": []
   },
   "outputs": [
    {
     "name": "stdout",
     "output_type": "stream",
     "text": [
      "PZ: Lollobrigida\n",
      "CODICE FISCALE: YILQTI62H78P937I\n",
      "INDIRIZZO: Rotonda Victoria 1 Appartamento 12\n",
      "CITTÀ: Borgo Pomponio\n",
      "CODIC... \n",
      "PZ: Lollobrigida\n",
      "CODICE FISCALE: YILQTI62H78P937I\n",
      "INDIRIZZO: Rotonda Victoria 1 Appartamento 12\n",
      "CITTÀ: Borgo Pomponio\n",
      "CODICE POSTALE: 76347 \n",
      "DATA DI NASCITA: 05/10/1976\n",
      "ETÀ: 47anni \n",
      "SESSO: La Pz\n",
      "DATA DI AMMISSIONE: 04/03/2014\n",
      "DOTTORE: Sig.ra Tina Zichichi\n",
      "RAPPORTO CLINICO: maschio di 47anni, si è rivolta alla nostra unità a causa di un aumento di volume nella regione zigomatica e della progressiva limitazione dell'apertura della bocca di 10 mesi di evoluzione. L'anamnesi medica non era rilevante. \n",
      "L'esame fisico extraorale ha mostrato un'asimmetria facciale dovuta a un aumento di volume nella guancia sinistra, di limiti diffusi, di consistenza ossea, indolore, con pelle di aspetto normale. L'apertura della bocca era di 30 mm. L'articolazione temporomandibolare (ATM) era normale alla palpazione, senza rumori o dolore all'apertura. All'ortopantomografia abbiamo osservato un processo coronoideo sinistro allargato. L'ipotesi diagnostica era un tumore coronoide.\n",
      "Prove complementari ed evoluzione: Un'incisione è stata fatta sul bordo anteriore del ramus mandibolare, disinserendo tutte le inserzioni del muscolo temporale. Una pseudocapsula fibrosa è stata trovata intorno all'allargamento, che è stata rilasciata. È stata eseguita una coronoidectomia. L'apertura buccale è stata immediatamente ripristinata a 43 mm. Il decorso postoperatorio è stato poco movimentato e femmina è stato dimesso dopo 48 ore.\n",
      "Lo studio istopatologico ha riportato la presenza di fibre, neoformazione ossea e tessuto cartilagineo ialino. La diagnosi era osteocondroma. I controlli successivi sono stati senza problemi. La dimissione definitiva è stata data a 10 mesi, con un rimodellamento quasi completo della deformità della guancia.\n",
      "\n",
      "RIFERITO DA: Dott. Dott. Gioachino Faranda. Azienda Ulss 12 Veneziana. Coca-Cola, Incrocio Gionata 0, 18380 Tramutola. Telefono: 341041192. E-mail: murat.g@jsl.com\n"
     ]
    }
   ],
   "source": [
    "input_json_data = {\"text\": sample_text, \"masking_policy\": \"obfuscated\"}\n",
    "response_json = invoke_realtime_endpoint(input_json_data, content_type=\"application/json\", accept=\"application/json\")\n",
    "print(response_json[\"predictions\"][0])"
   ]
  },
  {
   "cell_type": "markdown",
   "metadata": {},
   "source": [
    "### JSON Lines"
   ]
  },
  {
   "cell_type": "code",
   "execution_count": 36,
   "metadata": {
    "tags": []
   },
   "outputs": [],
   "source": [
    "def create_jsonl(records, masking_policy=None):\n",
    "    json_records = []\n",
    "\n",
    "    if isinstance(records, str):\n",
    "        records = [records]\n",
    "\n",
    "    for text in records:\n",
    "        record = {\"text\": text}\n",
    "\n",
    "        if masking_policy is not None:\n",
    "            record[\"masking_policy\"] = masking_policy\n",
    "        json_records.append(record)\n",
    "\n",
    "    json_lines = '\\n'.join(json.dumps(record, ensure_ascii=False) for record in json_records)\n",
    "    return json_lines\n"
   ]
  },
  {
   "cell_type": "markdown",
   "metadata": {},
   "source": [
    "#### Example 1: masked (default-policy)"
   ]
  },
  {
   "cell_type": "code",
   "execution_count": 37,
   "metadata": {
    "tags": []
   },
   "outputs": [
    {
     "name": "stdout",
     "output_type": "stream",
     "text": [
      "{\"predictions\": \"PZ: <PATIENT>\\nCODICE FISCALE: <SSN>\\nINDIRIZZO: <STREET>\\nCITTÀ: <CITY>\\nCODIC... \\nPZ: <PATIENT>\\nCODICE FISCALE: <SSN>\\nINDIRIZZO: <STREET>\\nCITTÀ: <CITY>\\nCODICE POSTALE: <ZIP> \\nDATA DI NASCITA: <DATE>\\nETÀ: <AGE>anni \\nSESSO: <SEX>\\nDATA DI AMMISSIONE: <DATE>\\nDOTTORE: <DOCTOR>\\nRAPPORTO CLINICO: <SEX> di <AGE>anni, si è rivolta alla nostra unità a causa di un aumento di volume nella regione zigomatica e della progressiva limitazione dell'apertura della bocca di 10 mesi di evoluzione. L'anamnesi medica non era rilevante. \\nL'esame fisico extraorale ha mostrato un'asimmetria facciale dovuta a un aumento di volume nella guancia sinistra, di limiti diffusi, di consistenza ossea, indolore, con pelle di aspetto normale. L'apertura della bocca era di 30 mm. L'articolazione temporomandibolare (ATM) era normale alla palpazione, senza rumori o dolore all'apertura. All'ortopantomografia abbiamo osservato un processo coronoideo sinistro allargato. L'ipotesi diagnostica era un tumore coronoide.\\nProve complementari ed evoluzione: Un'incisione è stata fatta sul bordo anteriore del ramus mandibolare, disinserendo tutte le inserzioni del muscolo temporale. Una pseudocapsula fibrosa è stata trovata intorno all'allargamento, che è stata rilasciata. È stata eseguita una coronoidectomia. L'apertura buccale è stata immediatamente ripristinata a 43 mm. Il decorso postoperatorio è stato poco movimentato e <SEX> è stato dimesso dopo 48 ore.\\nLo studio istopatologico ha riportato la presenza di fibre, neoformazione ossea e tessuto cartilagineo ialino. La diagnosi era osteocondroma. I controlli successivi sono stati senza problemi. La dimissione definitiva è stata data a 10 mesi, con un rimodellamento quasi completo della deformità della guancia.\\n\\nRIFERITO DA: Dott. <DOCTOR>. <HOSPITAL>. <ORGANIZATION>, <STREET>, <ZIP> Tramutola. Telefono: <PHONE>. E-mail: <E-MAIL>\"}\n"
     ]
    }
   ],
   "source": [
    "input_jsonl_data = create_jsonl(sample_text, masking_policy=\"masked\")\n",
    "data = invoke_realtime_endpoint(input_jsonl_data, content_type=\"application/jsonlines\" , accept=\"application/jsonlines\" )\n",
    "print(data)"
   ]
  },
  {
   "cell_type": "markdown",
   "metadata": {},
   "source": [
    "#### Example 2: obfuscated"
   ]
  },
  {
   "cell_type": "code",
   "execution_count": 39,
   "metadata": {
    "tags": []
   },
   "outputs": [
    {
     "name": "stdout",
     "output_type": "stream",
     "text": [
      "{\"predictions\": \"PZ: Lollobrigida\\nCODICE FISCALE: YILQTI62H78P937I\\nINDIRIZZO: Rotonda Victoria 1 Appartamento 12\\nCITTÀ: Borgo Pomponio\\nCODIC... \\nPZ: Lollobrigida\\nCODICE FISCALE: YILQTI62H78P937I\\nINDIRIZZO: Rotonda Victoria 1 Appartamento 12\\nCITTÀ: Borgo Pomponio\\nCODICE POSTALE: 76347 \\nDATA DI NASCITA: 05/10/1976\\nETÀ: 47anni \\nSESSO: La Pz\\nDATA DI AMMISSIONE: 04/03/2014\\nDOTTORE: Sig.ra Tina Zichichi\\nRAPPORTO CLINICO: maschio di 47anni, si è rivolta alla nostra unità a causa di un aumento di volume nella regione zigomatica e della progressiva limitazione dell'apertura della bocca di 10 mesi di evoluzione. L'anamnesi medica non era rilevante. \\nL'esame fisico extraorale ha mostrato un'asimmetria facciale dovuta a un aumento di volume nella guancia sinistra, di limiti diffusi, di consistenza ossea, indolore, con pelle di aspetto normale. L'apertura della bocca era di 30 mm. L'articolazione temporomandibolare (ATM) era normale alla palpazione, senza rumori o dolore all'apertura. All'ortopantomografia abbiamo osservato un processo coronoideo sinistro allargato. L'ipotesi diagnostica era un tumore coronoide.\\nProve complementari ed evoluzione: Un'incisione è stata fatta sul bordo anteriore del ramus mandibolare, disinserendo tutte le inserzioni del muscolo temporale. Una pseudocapsula fibrosa è stata trovata intorno all'allargamento, che è stata rilasciata. È stata eseguita una coronoidectomia. L'apertura buccale è stata immediatamente ripristinata a 43 mm. Il decorso postoperatorio è stato poco movimentato e femmina è stato dimesso dopo 48 ore.\\nLo studio istopatologico ha riportato la presenza di fibre, neoformazione ossea e tessuto cartilagineo ialino. La diagnosi era osteocondroma. I controlli successivi sono stati senza problemi. La dimissione definitiva è stata data a 10 mesi, con un rimodellamento quasi completo della deformità della guancia.\\n\\nRIFERITO DA: Dott. Dott. Gioachino Faranda. Azienda Ulss 12 Veneziana. Coca-Cola, Incrocio Gionata 0, 18380 Tramutola. Telefono: 341041192. E-mail: murat.g@jsl.com\"}\n"
     ]
    }
   ],
   "source": [
    "input_jsonl_data = create_jsonl(sample_text, masking_policy=\"obfuscated\")\n",
    "data = invoke_realtime_endpoint(input_jsonl_data, content_type=\"application/jsonlines\" , accept=\"application/jsonlines\" )\n",
    "print(data)"
   ]
  },
  {
   "cell_type": "markdown",
   "metadata": {},
   "source": [
    "### B. Delete the endpoint"
   ]
  },
  {
   "cell_type": "markdown",
   "metadata": {},
   "source": [
    "Now that you have successfully performed a real-time inference, you do not need the endpoint any more. You can terminate the endpoint to avoid being charged."
   ]
  },
  {
   "cell_type": "code",
   "execution_count": null,
   "metadata": {
    "tags": []
   },
   "outputs": [],
   "source": [
    "model.sagemaker_session.delete_endpoint(model_name)\n",
    "model.sagemaker_session.delete_endpoint_config(model_name)"
   ]
  },
  {
   "cell_type": "markdown",
   "metadata": {
    "tags": []
   },
   "source": [
    "## 4. Batch inference"
   ]
  },
  {
   "cell_type": "code",
   "execution_count": 42,
   "metadata": {
    "tags": []
   },
   "outputs": [],
   "source": [
    "validation_input_json_path = f\"s3://{s3_bucket}/{model_name}/validation-input/json/\"\n",
    "validation_output_json_path = f\"s3://{s3_bucket}/{model_name}/validation-output/json/\"\n",
    "\n",
    "validation_input_jsonl_path = f\"s3://{s3_bucket}/{model_name}/validation-input/jsonl/\"\n",
    "validation_output_jsonl_path = f\"s3://{s3_bucket}/{model_name}/validation-output/jsonl/\"\n",
    "\n",
    "def upload_to_s3(input_data, file_name):\n",
    "    file_format = os.path.splitext(file_name)[1].lower()\n",
    "    s3_client.put_object(\n",
    "        Bucket=s3_bucket,\n",
    "        Key=f\"{model_name}/validation-input/{file_format[1:]}/{file_name}\",\n",
    "        Body=input_data.encode(\"UTF-8\"),\n",
    "    )"
   ]
  },
  {
   "cell_type": "code",
   "execution_count": 43,
   "metadata": {
    "tags": []
   },
   "outputs": [],
   "source": [
    "# Create JSON and JSON Lines data\n",
    "input_json_data = {\n",
    "    \"input1.json\": json.dumps({\"text\": docs, \"masking_policy\": \"masked\"}, ensure_ascii=False),\n",
    "    \"input2.json\": json.dumps({\"text\": docs, \"masking_policy\": \"obfuscated\"}, ensure_ascii=False),\n",
    "    \"input3.json\": json.dumps({\"text\": docs, \"masking_policy\": \"masked_fixed_length_chars\"}, ensure_ascii=False),\n",
    "    \"input4.json\": json.dumps({\"text\": docs, \"masking_policy\": \"masked_with_chars\"}, ensure_ascii=False),\n",
    "}\n",
    "\n",
    "input_jsonl_data = {\n",
    "    \"input1.jsonl\": create_jsonl(docs, masking_policy=\"masked\"),\n",
    "    \"input2.jsonl\": create_jsonl(docs, masking_policy=\"obfuscated\"),\n",
    "    \"input3.jsonl\": create_jsonl(docs, masking_policy=\"masked_fixed_length_chars\"),\n",
    "    \"input4.jsonl\": create_jsonl(docs, masking_policy=\"masked_with_chars\")\n",
    "}\n",
    "\n",
    "# Upload JSON and JSON Lines data to S3\n",
    "for file_name, data in input_json_data.items():\n",
    "    upload_to_s3(data, file_name)\n",
    "\n",
    "for file_name, data in input_jsonl_data.items():\n",
    "    upload_to_s3(data, file_name)\n"
   ]
  },
  {
   "cell_type": "markdown",
   "metadata": {
    "tags": []
   },
   "source": [
    "### JSON"
   ]
  },
  {
   "cell_type": "code",
   "execution_count": null,
   "metadata": {
    "tags": []
   },
   "outputs": [],
   "source": [
    "transformer = model.transformer(\n",
    "    instance_count=1,\n",
    "    instance_type=batch_transform_inference_instance_type,\n",
    "    accept=\"application/json\",\n",
    "    output_path=validation_output_json_path\n",
    ")\n",
    "\n",
    "transformer.transform(validation_input_json_path, content_type=\"application/json\")\n",
    "transformer.wait()"
   ]
  },
  {
   "cell_type": "code",
   "execution_count": 45,
   "metadata": {
    "tags": []
   },
   "outputs": [],
   "source": [
    "def retrieve_json_output_from_s3(validation_file_name):\n",
    "    parsed_url = urlparse(transformer.output_path)\n",
    "    file_key = f\"{parsed_url.path[1:]}{validation_file_name}.out\"\n",
    "    response = s3_client.get_object(Bucket=s3_bucket, Key=file_key)\n",
    "\n",
    "    data = json.loads(response[\"Body\"].read().decode(\"utf-8\"))\n",
    "    display(data)"
   ]
  },
  {
   "cell_type": "code",
   "execution_count": 46,
   "metadata": {
    "tags": []
   },
   "outputs": [
    {
     "name": "stdout",
     "output_type": "stream",
     "text": [
      "-------------------------------------------------- masked --------------------------------------------------\n"
     ]
    },
    {
     "data": {
      "text/plain": [
       "{'predictions': [\"PZ: <DOCTOR>, CODICE FISCALE: <SSN>, INDIRIZZO: <STREET>, CITTÀ : <COUNTRY>... \\nPZ: <DOCTOR>, CODICE FISCALE: <SSN>, INDIRIZZO: <STREET>, CITTÀ : <PATIENT>\\nCODICE POSTALE: <ZIP>  DATA DI NASCITA: <DATE>, ETÀ: <AGE>anni , SESSO: <SEX>, EMAIL: <E-MAIL>, DATA DI AMMISSIONE: <DATE>, DOTTORE: <DOCTOR>, RAPPORTO CLINICO: <AGE>anni, pensionato, senza allergie farmacologiche note, che presenta la seguente storia: ex incidente sul lavoro con fratture vertebrali e costali; operato per la malattia di Dupuytren alla mano destra e un bypass ileo-femorale sinistro; diabete di tipo II, ipercolesterolemia e iperuricemia; alcolismo attivo, fuma 20 sigarette/giorno.\\nÈ stato indirizzato a noi perché ha presentato un'ematuria macroscopica post-evacuazione in un'occasione e una microematuria persistente in seguito, con un'evacuazione normale.\\nL'esame fisico ha mostrato buone condizioni generali, con addome e genitali normali; l'esame digitale rettale era coerente con un adenoma prostatico di grado I/IV.\\nL'analisi delle urine ha mostrato 4 globuli rossi/campo e 0-5 leucociti/campo; il resto del sedimento era normale.\\nL'emocromo è normale; la biochimica ha mostrato una glicemia di 169 mg/dl e trigliceridi 456 mg/dl; la funzione epatica e renale sono normali. PSA di 1,16 ng/ml. INDIRIZZATO A: Dott. <DOCTOR> - <HOSPITAL>, Dipartimento di Endocrinologia e Nutrizione - <STREET>, <ZIP> <CITY>, EMAIL: <EMAIL>.it\",\n",
       "  \"PZ: <DOCTOR>, CODICE FISCALE: <SSN>, INDIRIZZO: <STREET>, CITTÀ: <COUNTRY>... \\nPZ: <DOCTOR>, CODICE FISCALE: <SSN>, INDIRIZZO: <STREET>, CITTÀ: <PATIENT>, CODICE POSTALE: <ZIP>  DATA DI NASCITA: <DATE>,  ETÀ: <AGE>anni , SESSO: <SEX>, DATA DI AMMISSIONE: <DATE>, DOTTORE: <DOCTOR>\\nRAPPORTO CLINICO: Storia attuale: <SEX> <SEX> di <AGE>anni, valutato in consultazione per una coxalgia destra di un anno e mezzo di evoluzione, di caratteristiche meccaniche. Ha riportato dolore con l'esercizio fisico e una leggera limitazione della mobilità in certe posture. <PROFESSION> di professione, nel suo tempo libero andava in bicicletta (40 km al giorno nei fine settimana), correva 3 volte alla settimana per 50 minuti e camminava per un'ora nei giorni in cui non correva. Il dolore è aumentato progressivamente e attualmente cammina soltanto.\\nESAME FISICO: L'esame fisico ha rivelato un dolore alla palpazione nel terzo medio della regione inguinale destra con dolore alla flessione, all'adduzione e alla rotazione, specialmente alla rotazione interna (manovra di shock positivo). L'equilibrio dell'articolazione dell'anca è di 110o di flessione bilaterale, rotazione interna di 10o destra, 40o sinistra e rotazione esterna di 30o destra, 40o sinistra. L'equilibrio muscolare sulla scala Daniels è 5/5 globale bilaterale. Non c'è dolore alla palpazione dei punti sciatici e le manovre Valleix, Fabere, Lasegue e Bragard sono negative. Non c'era nemmeno dolore alla palpazione della banda iliotibiale e il test Ober era negativo. Nell'esame dell'andatura, abbiamo osservato un'assenza di claudicazione e l'appoggio monopodalico alternato destra-sinistra è stabile, con Trendelenburg negativo. <SEX> aveva dolore quando camminava con una flessione forzata dell'anca e del ginocchio.\\nEsami complementari: Una semplice radiologia anteroposteriore (AP) ha mostrato una deformità a forma di gobba nella regione femorale cervico-cefalica destra. L'emocromo richiesto, la biochimica, gli ormoni tiroidei, gli anticorpi e i reagenti di fase acuta erano normali.\\nAlla luce di questi risultati, è stata richiesta una risonanza magnetica dell'anca, che ha mostrato una leggera alterazione subcondrale, con edema osseo nell'anca destra, con irregolarità corticale e leggera sinovite nell'interlinea articolare, con distensione della borsa ilio-psoas. La testa femorale ha un piccolo isolotto osseo e l'angolo alfa è maggiore di 50o. L'artrografia mostra un pizzicamento dell'interlinea articolare antero-superiore e postero-inferiore, un colletto osteofita femorale incipiente con piccole lesioni subcondrali antero-superiore della testa femorale e piccoli focolai di edema nell'acetabolo anterosuperiore. Non c'è necrosi avascolare o lesioni nel labrum. Una lesione cistica juxta-articolare è anche visualizzata in relazione al grande trocantere.\\nEvoluzione: Con la diagnosi di sindrome da impingement femoroacetabolare di tipo LEVA (nota anche come CAM), <SEX> è stato prescritto un trattamento di magnetoterapia (15 sedute) per migliorare i sintomi del dolore e il trofismo osseo.\\n<SEX> è stato indirizzato all'unità di artroscopia del servizio di traumatologia per la valutazione della chirurgia artroscopica.\\nDiagnosi principale: sindrome da impingement femoroacetabolare di tipo LEVA.\\nTRATTAMENTO: Il trattamento farmacologico è prescritto con un'associazione di glucosamina-condroitina solfato orale 400 mg ogni 12 ore per 3 mesi e farmaci antinfiammatori non steroidei al bisogno se il dolore è presente. Viene istruita a riposare negli sport per evitare lo shock all'articolazione, con un'attività fisica attiva controllata, raccomandando di non superare i 90 gradi di flessione dell'anca ed evitando le rotazioni. Prenda un appuntamento per un controllo una volta terminati i solfati di glucosamina-condroitina per vedere il miglioramento clinico. Chiami il numero di assistenza e appuntamenti precedenti dell'ospedale 914 90 66 66 60.\\nRIFERITO DA: Dott. <DOCTOR>. <HOSPITAL>, <STREET>, <ZIP> <CITY>. Telefono: <PHONE>. E-mail: <E-MAIL>\"]}"
      ]
     },
     "metadata": {},
     "output_type": "display_data"
    },
    {
     "name": "stdout",
     "output_type": "stream",
     "text": [
      "\n",
      "\n",
      "-------------------------------------------------- obfuscated --------------------------------------------------\n"
     ]
    },
    {
     "data": {
      "text/plain": [
       "{'predictions': [\"PZ: Giulia, CODICE FISCALE: BEXKDJ25Q32N731X, INDIRIZZO: Canale Adamo 11 Piano 7, CITTÀ : Palestina... \\nPZ: Giulia, CODICE FISCALE: BEXKDJ25Q32N731X, INDIRIZZO: Canale Adamo 11 Piano 7, CITTÀ : Palestina\\nCODICE POSTALE: 13462  DATA DI NASCITA: 03/03/1946, ETÀ: 79anni , SESSO: U, EMAIL: HenryWatson@world.com, DATA DI AMMISSIONE: 12/12/2016, DOTTORE: Schiavone, RAPPORTO CLINICO: 79anni, pensionato, senza allergie farmacologiche note, che presenta la seguente storia: ex incidente sul lavoro con fratture vertebrali e costali; operato per la malattia di Dupuytren alla mano destra e un bypass ileo-femorale sinistro; diabete di tipo II, ipercolesterolemia e iperuricemia; alcolismo attivo, fuma 20 sigarette/giorno.\\nÈ stato indirizzato a noi perché ha presentato un'ematuria macroscopica post-evacuazione in un'occasione e una microematuria persistente in seguito, con un'evacuazione normale.\\nL'esame fisico ha mostrato buone condizioni generali, con addome e genitali normali; l'esame digitale rettale era coerente con un adenoma prostatico di grado I/IV.\\nL'analisi delle urine ha mostrato 4 globuli rossi/campo e 0-5 leucociti/campo; il resto del sedimento era normale.\\nL'emocromo è normale; la biochimica ha mostrato una glicemia di 169 mg/dl e trigliceridi 456 mg/dl; la funzione epatica e renale sono normali. PSA di 1,16 ng/ml. INDIRIZZATO A: Dott. Annamaria Taliani - ASL 7 DI CARBONIA AZIENDA U.S.L. N. 7, Dipartimento di Endocrinologia e Nutrizione - Via Gaito 89, 13461 Palestina, EMAIL: urizzo@giannuzzi.org.it\",\n",
       "  \"PZ: Laura, CODICE FISCALE: YILQTI62H78P937I, INDIRIZZO: Incrocio Zamengo 460, CITTÀ: Italia... \\nPZ: Laura, CODICE FISCALE: YILQTI62H78P937I, INDIRIZZO: Incrocio Zamengo 460, CITTÀ: Italia, CODICE POSTALE: 23451  DATA DI NASCITA: 15/07/1979,  ETÀ: 32anni , SESSO: U, DATA DI AMMISSIONE: 04/03/2014, DOTTORE: Tropea\\nRAPPORTO CLINICO: Storia attuale: un uomo F di 32anni, valutato in consultazione per una coxalgia destra di un anno e mezzo di evoluzione, di caratteristiche meccaniche. Ha riportato dolore con l'esercizio fisico e una leggera limitazione della mobilità in certe posture. Anestesista di professione, nel suo tempo libero andava in bicicletta (40 km al giorno nei fine settimana), correva 3 volte alla settimana per 50 minuti e camminava per un'ora nei giorni in cui non correva. Il dolore è aumentato progressivamente e attualmente cammina soltanto.\\nESAME FISICO: L'esame fisico ha rivelato un dolore alla palpazione nel terzo medio della regione inguinale destra con dolore alla flessione, all'adduzione e alla rotazione, specialmente alla rotazione interna (manovra di shock positivo). L'equilibrio dell'articolazione dell'anca è di 110o di flessione bilaterale, rotazione interna di 10o destra, 40o sinistra e rotazione esterna di 30o destra, 40o sinistra. L'equilibrio muscolare sulla scala Daniels è 5/5 globale bilaterale. Non c'è dolore alla palpazione dei punti sciatici e le manovre Valleix, Fabere, Lasegue e Bragard sono negative. Non c'era nemmeno dolore alla palpazione della banda iliotibiale e il test Ober era negativo. Nell'esame dell'andatura, abbiamo osservato un'assenza di claudicazione e l'appoggio monopodalico alternato destra-sinistra è stabile, con Trendelenburg negativo. donna aveva dolore quando camminava con una flessione forzata dell'anca e del ginocchio.\\nEsami complementari: Una semplice radiologia anteroposteriore (AP) ha mostrato una deformità a forma di gobba nella regione femorale cervico-cefalica destra. L'emocromo richiesto, la biochimica, gli ormoni tiroidei, gli anticorpi e i reagenti di fase acuta erano normali.\\nAlla luce di questi risultati, è stata richiesta una risonanza magnetica dell'anca, che ha mostrato una leggera alterazione subcondrale, con edema osseo nell'anca destra, con irregolarità corticale e leggera sinovite nell'interlinea articolare, con distensione della borsa ilio-psoas. La testa femorale ha un piccolo isolotto osseo e l'angolo alfa è maggiore di 50o. L'artrografia mostra un pizzicamento dell'interlinea articolare antero-superiore e postero-inferiore, un colletto osteofita femorale incipiente con piccole lesioni subcondrali antero-superiore della testa femorale e piccoli focolai di edema nell'acetabolo anterosuperiore. Non c'è necrosi avascolare o lesioni nel labrum. Una lesione cistica juxta-articolare è anche visualizzata in relazione al grande trocantere.\\nEvoluzione: Con la diagnosi di sindrome da impingement femoroacetabolare di tipo LEVA (nota anche come CAM), donna è stato prescritto un trattamento di magnetoterapia (15 sedute) per migliorare i sintomi del dolore e il trofismo osseo.\\ndonna è stato indirizzato all'unità di artroscopia del servizio di traumatologia per la valutazione della chirurgia artroscopica.\\nDiagnosi principale: sindrome da impingement femoroacetabolare di tipo LEVA.\\nTRATTAMENTO: Il trattamento farmacologico è prescritto con un'associazione di glucosamina-condroitina solfato orale 400 mg ogni 12 ore per 3 mesi e farmaci antinfiammatori non steroidei al bisogno se il dolore è presente. Viene istruita a riposare negli sport per evitare lo shock all'articolazione, con un'attività fisica attiva controllata, raccomandando di non superare i 90 gradi di flessione dell'anca ed evitando le rotazioni. Prenda un appuntamento per un controllo una volta terminati i solfati di glucosamina-condroitina per vedere il miglioramento clinico. Chiami il numero di assistenza e appuntamenti precedenti dell'ospedale 914 90 66 66 60.\\nRIFERITO DA: Dott. Milo Niscoromni. U.L.S.S. N.9 Della Regione Veneto, Contrada Rossini 1 Appartamento 09, 23451 Italia. Telefono: +62 6997399753. E-mail: richard@company.it\"]}"
      ]
     },
     "metadata": {},
     "output_type": "display_data"
    },
    {
     "name": "stdout",
     "output_type": "stream",
     "text": [
      "\n",
      "\n",
      "-------------------------------------------------- masked_fixed_length_chars --------------------------------------------------\n"
     ]
    },
    {
     "data": {
      "text/plain": [
       "{'predictions': [\"PZ: ****, CODICE FISCALE: ****, INDIRIZZO: ****, CITTÀ : ****... \\nPZ: ****, CODICE FISCALE: ****, INDIRIZZO: ****, CITTÀ : ****\\nCODICE POSTALE: ****  DATA DI NASCITA: ****, ETÀ: ****anni , SESSO: ****, EMAIL: ****, DATA DI AMMISSIONE: ****, DOTTORE: ****, RAPPORTO CLINICO: ****anni, pensionato, senza allergie farmacologiche note, che presenta la seguente storia: ex incidente sul lavoro con fratture vertebrali e costali; operato per la malattia di Dupuytren alla mano destra e un bypass ileo-femorale sinistro; diabete di tipo II, ipercolesterolemia e iperuricemia; alcolismo attivo, fuma 20 sigarette/giorno.\\nÈ stato indirizzato a noi perché ha presentato un'ematuria macroscopica post-evacuazione in un'occasione e una microematuria persistente in seguito, con un'evacuazione normale.\\nL'esame fisico ha mostrato buone condizioni generali, con addome e genitali normali; l'esame digitale rettale era coerente con un adenoma prostatico di grado I/IV.\\nL'analisi delle urine ha mostrato 4 globuli rossi/campo e 0-5 leucociti/campo; il resto del sedimento era normale.\\nL'emocromo è normale; la biochimica ha mostrato una glicemia di 169 mg/dl e trigliceridi 456 mg/dl; la funzione epatica e renale sono normali. PSA di 1,16 ng/ml. INDIRIZZATO A: Dott. **** - ****, Dipartimento di Endocrinologia e Nutrizione - ****, **** ****, EMAIL: ****.it\",\n",
       "  \"PZ: ****, CODICE FISCALE: ****, INDIRIZZO: ****, CITTÀ: ****... \\nPZ: ****, CODICE FISCALE: ****, INDIRIZZO: ****, CITTÀ: ****, CODICE POSTALE: ****  DATA DI NASCITA: ****,  ETÀ: ****anni , SESSO: ****, DATA DI AMMISSIONE: ****, DOTTORE: ****\\nRAPPORTO CLINICO: Storia attuale: **** **** di ****anni, valutato in consultazione per una coxalgia destra di un anno e mezzo di evoluzione, di caratteristiche meccaniche. Ha riportato dolore con l'esercizio fisico e una leggera limitazione della mobilità in certe posture. **** di professione, nel suo tempo libero andava in bicicletta (40 km al giorno nei fine settimana), correva 3 volte alla settimana per 50 minuti e camminava per un'ora nei giorni in cui non correva. Il dolore è aumentato progressivamente e attualmente cammina soltanto.\\nESAME FISICO: L'esame fisico ha rivelato un dolore alla palpazione nel terzo medio della regione inguinale destra con dolore alla flessione, all'adduzione e alla rotazione, specialmente alla rotazione interna (manovra di shock positivo). L'equilibrio dell'articolazione dell'anca è di 110o di flessione bilaterale, rotazione interna di 10o destra, 40o sinistra e rotazione esterna di 30o destra, 40o sinistra. L'equilibrio muscolare sulla scala Daniels è 5/5 globale bilaterale. Non c'è dolore alla palpazione dei punti sciatici e le manovre Valleix, Fabere, Lasegue e Bragard sono negative. Non c'era nemmeno dolore alla palpazione della banda iliotibiale e il test Ober era negativo. Nell'esame dell'andatura, abbiamo osservato un'assenza di claudicazione e l'appoggio monopodalico alternato destra-sinistra è stabile, con Trendelenburg negativo. **** aveva dolore quando camminava con una flessione forzata dell'anca e del ginocchio.\\nEsami complementari: Una semplice radiologia anteroposteriore (AP) ha mostrato una deformità a forma di gobba nella regione femorale cervico-cefalica destra. L'emocromo richiesto, la biochimica, gli ormoni tiroidei, gli anticorpi e i reagenti di fase acuta erano normali.\\nAlla luce di questi risultati, è stata richiesta una risonanza magnetica dell'anca, che ha mostrato una leggera alterazione subcondrale, con edema osseo nell'anca destra, con irregolarità corticale e leggera sinovite nell'interlinea articolare, con distensione della borsa ilio-psoas. La testa femorale ha un piccolo isolotto osseo e l'angolo alfa è maggiore di 50o. L'artrografia mostra un pizzicamento dell'interlinea articolare antero-superiore e postero-inferiore, un colletto osteofita femorale incipiente con piccole lesioni subcondrali antero-superiore della testa femorale e piccoli focolai di edema nell'acetabolo anterosuperiore. Non c'è necrosi avascolare o lesioni nel labrum. Una lesione cistica juxta-articolare è anche visualizzata in relazione al grande trocantere.\\nEvoluzione: Con la diagnosi di sindrome da impingement femoroacetabolare di tipo LEVA (nota anche come CAM), **** è stato prescritto un trattamento di magnetoterapia (15 sedute) per migliorare i sintomi del dolore e il trofismo osseo.\\n**** è stato indirizzato all'unità di artroscopia del servizio di traumatologia per la valutazione della chirurgia artroscopica.\\nDiagnosi principale: sindrome da impingement femoroacetabolare di tipo LEVA.\\nTRATTAMENTO: Il trattamento farmacologico è prescritto con un'associazione di glucosamina-condroitina solfato orale 400 mg ogni 12 ore per 3 mesi e farmaci antinfiammatori non steroidei al bisogno se il dolore è presente. Viene istruita a riposare negli sport per evitare lo shock all'articolazione, con un'attività fisica attiva controllata, raccomandando di non superare i 90 gradi di flessione dell'anca ed evitando le rotazioni. Prenda un appuntamento per un controllo una volta terminati i solfati di glucosamina-condroitina per vedere il miglioramento clinico. Chiami il numero di assistenza e appuntamenti precedenti dell'ospedale 914 90 66 66 60.\\nRIFERITO DA: Dott. ****. ****, ****, **** ****. Telefono: ****. E-mail: ****\"]}"
      ]
     },
     "metadata": {},
     "output_type": "display_data"
    },
    {
     "name": "stdout",
     "output_type": "stream",
     "text": [
      "\n",
      "\n",
      "-------------------------------------------------- masked_with_chars --------------------------------------------------\n"
     ]
    },
    {
     "data": {
      "text/plain": [
       "{'predictions': [\"PZ: [***************], CODICE FISCALE: [**************], INDIRIZZO: [**************], CITTÀ : [****]... \\nPZ: [***************], CODICE FISCALE: [**************], INDIRIZZO: [**************], CITTÀ : [****]\\nCODICE POSTALE: [***]  DATA DI NASCITA: [********], ETÀ: **anni , SESSO: *, EMAIL: [**************], DATA DI AMMISSIONE: [********], DOTTORE: [*********], RAPPORTO CLINICO: **anni, pensionato, senza allergie farmacologiche note, che presenta la seguente storia: ex incidente sul lavoro con fratture vertebrali e costali; operato per la malattia di Dupuytren alla mano destra e un bypass ileo-femorale sinistro; diabete di tipo II, ipercolesterolemia e iperuricemia; alcolismo attivo, fuma 20 sigarette/giorno.\\nÈ stato indirizzato a noi perché ha presentato un'ematuria macroscopica post-evacuazione in un'occasione e una microematuria persistente in seguito, con un'evacuazione normale.\\nL'esame fisico ha mostrato buone condizioni generali, con addome e genitali normali; l'esame digitale rettale era coerente con un adenoma prostatico di grado I/IV.\\nL'analisi delle urine ha mostrato 4 globuli rossi/campo e 0-5 leucociti/campo; il resto del sedimento era normale.\\nL'emocromo è normale; la biochimica ha mostrato una glicemia di 169 mg/dl e trigliceridi 456 mg/dl; la funzione epatica e renale sono normali. PSA di 1,16 ng/ml. INDIRIZZATO A: Dott. [**************] - [*****************], Dipartimento di Endocrinologia e Nutrizione - [*******************], [***] [****], EMAIL: [***************].it\",\n",
       "  \"PZ: [***************], CODICE FISCALE: [**************], INDIRIZZO: [**************], CITTÀ: [*****]... \\nPZ: [***************], CODICE FISCALE: [**************], INDIRIZZO: [**************], CITTÀ: [*****], CODICE POSTALE: [***]  DATA DI NASCITA: [********],  ETÀ: **anni , SESSO: *, DATA DI AMMISSIONE: [********], DOTTORE: [***************]\\nRAPPORTO CLINICO: Storia attuale: [******] [*****] di **anni, valutato in consultazione per una coxalgia destra di un anno e mezzo di evoluzione, di caratteristiche meccaniche. Ha riportato dolore con l'esercizio fisico e una leggera limitazione della mobilità in certe posture. [*******] di professione, nel suo tempo libero andava in bicicletta (40 km al giorno nei fine settimana), correva 3 volte alla settimana per 50 minuti e camminava per un'ora nei giorni in cui non correva. Il dolore è aumentato progressivamente e attualmente cammina soltanto.\\nESAME FISICO: L'esame fisico ha rivelato un dolore alla palpazione nel terzo medio della regione inguinale destra con dolore alla flessione, all'adduzione e alla rotazione, specialmente alla rotazione interna (manovra di shock positivo). L'equilibrio dell'articolazione dell'anca è di 110o di flessione bilaterale, rotazione interna di 10o destra, 40o sinistra e rotazione esterna di 30o destra, 40o sinistra. L'equilibrio muscolare sulla scala Daniels è 5/5 globale bilaterale. Non c'è dolore alla palpazione dei punti sciatici e le manovre Valleix, Fabere, Lasegue e Bragard sono negative. Non c'era nemmeno dolore alla palpazione della banda iliotibiale e il test Ober era negativo. Nell'esame dell'andatura, abbiamo osservato un'assenza di claudicazione e l'appoggio monopodalico alternato destra-sinistra è stabile, con Trendelenburg negativo. [*********] aveva dolore quando camminava con una flessione forzata dell'anca e del ginocchio.\\nEsami complementari: Una semplice radiologia anteroposteriore (AP) ha mostrato una deformità a forma di gobba nella regione femorale cervico-cefalica destra. L'emocromo richiesto, la biochimica, gli ormoni tiroidei, gli anticorpi e i reagenti di fase acuta erano normali.\\nAlla luce di questi risultati, è stata richiesta una risonanza magnetica dell'anca, che ha mostrato una leggera alterazione subcondrale, con edema osseo nell'anca destra, con irregolarità corticale e leggera sinovite nell'interlinea articolare, con distensione della borsa ilio-psoas. La testa femorale ha un piccolo isolotto osseo e l'angolo alfa è maggiore di 50o. L'artrografia mostra un pizzicamento dell'interlinea articolare antero-superiore e postero-inferiore, un colletto osteofita femorale incipiente con piccole lesioni subcondrali antero-superiore della testa femorale e piccoli focolai di edema nell'acetabolo anterosuperiore. Non c'è necrosi avascolare o lesioni nel labrum. Una lesione cistica juxta-articolare è anche visualizzata in relazione al grande trocantere.\\nEvoluzione: Con la diagnosi di sindrome da impingement femoroacetabolare di tipo LEVA (nota anche come CAM), [*********] è stato prescritto un trattamento di magnetoterapia (15 sedute) per migliorare i sintomi del dolore e il trofismo osseo.\\n[*********] è stato indirizzato all'unità di artroscopia del servizio di traumatologia per la valutazione della chirurgia artroscopica.\\nDiagnosi principale: sindrome da impingement femoroacetabolare di tipo LEVA.\\nTRATTAMENTO: Il trattamento farmacologico è prescritto con un'associazione di glucosamina-condroitina solfato orale 400 mg ogni 12 ore per 3 mesi e farmaci antinfiammatori non steroidei al bisogno se il dolore è presente. Viene istruita a riposare negli sport per evitare lo shock all'articolazione, con un'attività fisica attiva controllata, raccomandando di non superare i 90 gradi di flessione dell'anca ed evitando le rotazioni. Prenda un appuntamento per un controllo una volta terminati i solfati di glucosamina-condroitina per vedere il miglioramento clinico. Chiami il numero di assistenza e appuntamenti precedenti dell'ospedale 914 90 66 66 60.\\nRIFERITO DA: Dott. [*************]. [*****************************************], [***************], [***] [*****]. Telefono: [************]. E-mail: [*****************]\"]}"
      ]
     },
     "metadata": {},
     "output_type": "display_data"
    },
    {
     "name": "stdout",
     "output_type": "stream",
     "text": [
      "\n",
      "\n"
     ]
    }
   ],
   "source": [
    "masking_policies = {\n",
    "    \"masked\": \"input1.json\",\n",
    "    \"obfuscated\": \"input2.json\",\n",
    "    \"masked_fixed_length_chars\": \"input3.json\",\n",
    "    \"masked_with_chars\": \"input4.json\",\n",
    "}\n",
    "\n",
    "for policy_name, validation_file_name in masking_policies.items():\n",
    "    print(\"-\"*50, policy_name ,\"-\"*50)\n",
    "    retrieve_json_output_from_s3(validation_file_name)\n",
    "    print(\"\\n\")"
   ]
  },
  {
   "cell_type": "markdown",
   "metadata": {},
   "source": [
    "### JSON Lines"
   ]
  },
  {
   "cell_type": "code",
   "execution_count": null,
   "metadata": {
    "tags": []
   },
   "outputs": [],
   "source": [
    "transformer = model.transformer(\n",
    "    instance_count=1,\n",
    "    instance_type=batch_transform_inference_instance_type,\n",
    "    accept=\"application/jsonlines\",\n",
    "    output_path=validation_output_jsonl_path\n",
    ")\n",
    "transformer.transform(validation_input_jsonl_path, content_type=\"application/jsonlines\")\n",
    "transformer.wait()"
   ]
  },
  {
   "cell_type": "code",
   "execution_count": 48,
   "metadata": {
    "tags": []
   },
   "outputs": [],
   "source": [
    "def retrieve_jsonlines_output_from_s3(validation_file_name):\n",
    "\n",
    "    parsed_url = urlparse(transformer.output_path)\n",
    "    file_key = f\"{parsed_url.path[1:]}{validation_file_name}.out\"\n",
    "    response = s3_client.get_object(Bucket=s3_bucket, Key=file_key)\n",
    "\n",
    "    data = response[\"Body\"].read().decode(\"utf-8\")\n",
    "    print(data)"
   ]
  },
  {
   "cell_type": "code",
   "execution_count": 49,
   "metadata": {
    "tags": []
   },
   "outputs": [
    {
     "name": "stdout",
     "output_type": "stream",
     "text": [
      "-------------------------------------------------- masked --------------------------------------------------\n",
      "{\"predictions\": \"PZ: <DOCTOR>, CODICE FISCALE: <SSN>, INDIRIZZO: <STREET>, CITTÀ : <COUNTRY>... \\nPZ: <DOCTOR>, CODICE FISCALE: <SSN>, INDIRIZZO: <STREET>, CITTÀ : <PATIENT>\\nCODICE POSTALE: <ZIP>  DATA DI NASCITA: <DATE>, ETÀ: <AGE>anni , SESSO: <SEX>, EMAIL: <E-MAIL>, DATA DI AMMISSIONE: <DATE>, DOTTORE: <DOCTOR>, RAPPORTO CLINICO: <AGE>anni, pensionato, senza allergie farmacologiche note, che presenta la seguente storia: ex incidente sul lavoro con fratture vertebrali e costali; operato per la malattia di Dupuytren alla mano destra e un bypass ileo-femorale sinistro; diabete di tipo II, ipercolesterolemia e iperuricemia; alcolismo attivo, fuma 20 sigarette/giorno.\\nÈ stato indirizzato a noi perché ha presentato un'ematuria macroscopica post-evacuazione in un'occasione e una microematuria persistente in seguito, con un'evacuazione normale.\\nL'esame fisico ha mostrato buone condizioni generali, con addome e genitali normali; l'esame digitale rettale era coerente con un adenoma prostatico di grado I/IV.\\nL'analisi delle urine ha mostrato 4 globuli rossi/campo e 0-5 leucociti/campo; il resto del sedimento era normale.\\nL'emocromo è normale; la biochimica ha mostrato una glicemia di 169 mg/dl e trigliceridi 456 mg/dl; la funzione epatica e renale sono normali. PSA di 1,16 ng/ml. INDIRIZZATO A: Dott. <DOCTOR> - <HOSPITAL>, Dipartimento di Endocrinologia e Nutrizione - <STREET>, <ZIP> <CITY>, EMAIL: <EMAIL>.it\"}\n",
      "{\"predictions\": \"PZ: <DOCTOR>, CODICE FISCALE: <SSN>, INDIRIZZO: <STREET>, CITTÀ: <COUNTRY>... \\nPZ: <DOCTOR>, CODICE FISCALE: <SSN>, INDIRIZZO: <STREET>, CITTÀ: <PATIENT>, CODICE POSTALE: <ZIP>  DATA DI NASCITA: <DATE>,  ETÀ: <AGE>anni , SESSO: <SEX>, DATA DI AMMISSIONE: <DATE>, DOTTORE: <DOCTOR>\\nRAPPORTO CLINICO: Storia attuale: <SEX> <SEX> di <AGE>anni, valutato in consultazione per una coxalgia destra di un anno e mezzo di evoluzione, di caratteristiche meccaniche. Ha riportato dolore con l'esercizio fisico e una leggera limitazione della mobilità in certe posture. <PROFESSION> di professione, nel suo tempo libero andava in bicicletta (40 km al giorno nei fine settimana), correva 3 volte alla settimana per 50 minuti e camminava per un'ora nei giorni in cui non correva. Il dolore è aumentato progressivamente e attualmente cammina soltanto.\\nESAME FISICO: L'esame fisico ha rivelato un dolore alla palpazione nel terzo medio della regione inguinale destra con dolore alla flessione, all'adduzione e alla rotazione, specialmente alla rotazione interna (manovra di shock positivo). L'equilibrio dell'articolazione dell'anca è di 110o di flessione bilaterale, rotazione interna di 10o destra, 40o sinistra e rotazione esterna di 30o destra, 40o sinistra. L'equilibrio muscolare sulla scala Daniels è 5/5 globale bilaterale. Non c'è dolore alla palpazione dei punti sciatici e le manovre Valleix, Fabere, Lasegue e Bragard sono negative. Non c'era nemmeno dolore alla palpazione della banda iliotibiale e il test Ober era negativo. Nell'esame dell'andatura, abbiamo osservato un'assenza di claudicazione e l'appoggio monopodalico alternato destra-sinistra è stabile, con Trendelenburg negativo. <SEX> aveva dolore quando camminava con una flessione forzata dell'anca e del ginocchio.\\nEsami complementari: Una semplice radiologia anteroposteriore (AP) ha mostrato una deformità a forma di gobba nella regione femorale cervico-cefalica destra. L'emocromo richiesto, la biochimica, gli ormoni tiroidei, gli anticorpi e i reagenti di fase acuta erano normali.\\nAlla luce di questi risultati, è stata richiesta una risonanza magnetica dell'anca, che ha mostrato una leggera alterazione subcondrale, con edema osseo nell'anca destra, con irregolarità corticale e leggera sinovite nell'interlinea articolare, con distensione della borsa ilio-psoas. La testa femorale ha un piccolo isolotto osseo e l'angolo alfa è maggiore di 50o. L'artrografia mostra un pizzicamento dell'interlinea articolare antero-superiore e postero-inferiore, un colletto osteofita femorale incipiente con piccole lesioni subcondrali antero-superiore della testa femorale e piccoli focolai di edema nell'acetabolo anterosuperiore. Non c'è necrosi avascolare o lesioni nel labrum. Una lesione cistica juxta-articolare è anche visualizzata in relazione al grande trocantere.\\nEvoluzione: Con la diagnosi di sindrome da impingement femoroacetabolare di tipo LEVA (nota anche come CAM), <SEX> è stato prescritto un trattamento di magnetoterapia (15 sedute) per migliorare i sintomi del dolore e il trofismo osseo.\\n<SEX> è stato indirizzato all'unità di artroscopia del servizio di traumatologia per la valutazione della chirurgia artroscopica.\\nDiagnosi principale: sindrome da impingement femoroacetabolare di tipo LEVA.\\nTRATTAMENTO: Il trattamento farmacologico è prescritto con un'associazione di glucosamina-condroitina solfato orale 400 mg ogni 12 ore per 3 mesi e farmaci antinfiammatori non steroidei al bisogno se il dolore è presente. Viene istruita a riposare negli sport per evitare lo shock all'articolazione, con un'attività fisica attiva controllata, raccomandando di non superare i 90 gradi di flessione dell'anca ed evitando le rotazioni. Prenda un appuntamento per un controllo una volta terminati i solfati di glucosamina-condroitina per vedere il miglioramento clinico. Chiami il numero di assistenza e appuntamenti precedenti dell'ospedale 914 90 66 66 60.\\nRIFERITO DA: Dott. <DOCTOR>. <HOSPITAL>, <STREET>, <ZIP> <CITY>. Telefono: <PHONE>. E-mail: <E-MAIL>\"}\n",
      "\n",
      "\n",
      "-------------------------------------------------- obfuscated --------------------------------------------------\n",
      "{\"predictions\": \"PZ: Giulia, CODICE FISCALE: BEXKDJ25Q32N731X, INDIRIZZO: Canale Adamo 11 Piano 7, CITTÀ : Palestina... \\nPZ: Giulia, CODICE FISCALE: BEXKDJ25Q32N731X, INDIRIZZO: Canale Adamo 11 Piano 7, CITTÀ : Palestina\\nCODICE POSTALE: 13462  DATA DI NASCITA: 03/03/1946, ETÀ: 79anni , SESSO: U, EMAIL: HenryWatson@world.com, DATA DI AMMISSIONE: 12/12/2016, DOTTORE: Schiavone, RAPPORTO CLINICO: 79anni, pensionato, senza allergie farmacologiche note, che presenta la seguente storia: ex incidente sul lavoro con fratture vertebrali e costali; operato per la malattia di Dupuytren alla mano destra e un bypass ileo-femorale sinistro; diabete di tipo II, ipercolesterolemia e iperuricemia; alcolismo attivo, fuma 20 sigarette/giorno.\\nÈ stato indirizzato a noi perché ha presentato un'ematuria macroscopica post-evacuazione in un'occasione e una microematuria persistente in seguito, con un'evacuazione normale.\\nL'esame fisico ha mostrato buone condizioni generali, con addome e genitali normali; l'esame digitale rettale era coerente con un adenoma prostatico di grado I/IV.\\nL'analisi delle urine ha mostrato 4 globuli rossi/campo e 0-5 leucociti/campo; il resto del sedimento era normale.\\nL'emocromo è normale; la biochimica ha mostrato una glicemia di 169 mg/dl e trigliceridi 456 mg/dl; la funzione epatica e renale sono normali. PSA di 1,16 ng/ml. INDIRIZZATO A: Dott. Annamaria Taliani - ASL 7 DI CARBONIA AZIENDA U.S.L. N. 7, Dipartimento di Endocrinologia e Nutrizione - Via Gaito 89, 13461 Palestina, EMAIL: urizzo@giannuzzi.org.it\"}\n",
      "{\"predictions\": \"PZ: Laura, CODICE FISCALE: YILQTI62H78P937I, INDIRIZZO: Incrocio Zamengo 460, CITTÀ: Italia... \\nPZ: Laura, CODICE FISCALE: YILQTI62H78P937I, INDIRIZZO: Incrocio Zamengo 460, CITTÀ: Italia, CODICE POSTALE: 23451  DATA DI NASCITA: 15/07/1979,  ETÀ: 32anni , SESSO: U, DATA DI AMMISSIONE: 04/03/2014, DOTTORE: Tropea\\nRAPPORTO CLINICO: Storia attuale: un uomo F di 32anni, valutato in consultazione per una coxalgia destra di un anno e mezzo di evoluzione, di caratteristiche meccaniche. Ha riportato dolore con l'esercizio fisico e una leggera limitazione della mobilità in certe posture. Anestesista di professione, nel suo tempo libero andava in bicicletta (40 km al giorno nei fine settimana), correva 3 volte alla settimana per 50 minuti e camminava per un'ora nei giorni in cui non correva. Il dolore è aumentato progressivamente e attualmente cammina soltanto.\\nESAME FISICO: L'esame fisico ha rivelato un dolore alla palpazione nel terzo medio della regione inguinale destra con dolore alla flessione, all'adduzione e alla rotazione, specialmente alla rotazione interna (manovra di shock positivo). L'equilibrio dell'articolazione dell'anca è di 110o di flessione bilaterale, rotazione interna di 10o destra, 40o sinistra e rotazione esterna di 30o destra, 40o sinistra. L'equilibrio muscolare sulla scala Daniels è 5/5 globale bilaterale. Non c'è dolore alla palpazione dei punti sciatici e le manovre Valleix, Fabere, Lasegue e Bragard sono negative. Non c'era nemmeno dolore alla palpazione della banda iliotibiale e il test Ober era negativo. Nell'esame dell'andatura, abbiamo osservato un'assenza di claudicazione e l'appoggio monopodalico alternato destra-sinistra è stabile, con Trendelenburg negativo. donna aveva dolore quando camminava con una flessione forzata dell'anca e del ginocchio.\\nEsami complementari: Una semplice radiologia anteroposteriore (AP) ha mostrato una deformità a forma di gobba nella regione femorale cervico-cefalica destra. L'emocromo richiesto, la biochimica, gli ormoni tiroidei, gli anticorpi e i reagenti di fase acuta erano normali.\\nAlla luce di questi risultati, è stata richiesta una risonanza magnetica dell'anca, che ha mostrato una leggera alterazione subcondrale, con edema osseo nell'anca destra, con irregolarità corticale e leggera sinovite nell'interlinea articolare, con distensione della borsa ilio-psoas. La testa femorale ha un piccolo isolotto osseo e l'angolo alfa è maggiore di 50o. L'artrografia mostra un pizzicamento dell'interlinea articolare antero-superiore e postero-inferiore, un colletto osteofita femorale incipiente con piccole lesioni subcondrali antero-superiore della testa femorale e piccoli focolai di edema nell'acetabolo anterosuperiore. Non c'è necrosi avascolare o lesioni nel labrum. Una lesione cistica juxta-articolare è anche visualizzata in relazione al grande trocantere.\\nEvoluzione: Con la diagnosi di sindrome da impingement femoroacetabolare di tipo LEVA (nota anche come CAM), donna è stato prescritto un trattamento di magnetoterapia (15 sedute) per migliorare i sintomi del dolore e il trofismo osseo.\\ndonna è stato indirizzato all'unità di artroscopia del servizio di traumatologia per la valutazione della chirurgia artroscopica.\\nDiagnosi principale: sindrome da impingement femoroacetabolare di tipo LEVA.\\nTRATTAMENTO: Il trattamento farmacologico è prescritto con un'associazione di glucosamina-condroitina solfato orale 400 mg ogni 12 ore per 3 mesi e farmaci antinfiammatori non steroidei al bisogno se il dolore è presente. Viene istruita a riposare negli sport per evitare lo shock all'articolazione, con un'attività fisica attiva controllata, raccomandando di non superare i 90 gradi di flessione dell'anca ed evitando le rotazioni. Prenda un appuntamento per un controllo una volta terminati i solfati di glucosamina-condroitina per vedere il miglioramento clinico. Chiami il numero di assistenza e appuntamenti precedenti dell'ospedale 914 90 66 66 60.\\nRIFERITO DA: Dott. Milo Niscoromni. U.L.S.S. N.9 Della Regione Veneto, Contrada Rossini 1 Appartamento 09, 23451 Italia. Telefono: +62 6997399753. E-mail: richard@company.it\"}\n",
      "\n",
      "\n",
      "-------------------------------------------------- masked_fixed_length_chars --------------------------------------------------\n",
      "{\"predictions\": \"PZ: ****, CODICE FISCALE: ****, INDIRIZZO: ****, CITTÀ : ****... \\nPZ: ****, CODICE FISCALE: ****, INDIRIZZO: ****, CITTÀ : ****\\nCODICE POSTALE: ****  DATA DI NASCITA: ****, ETÀ: ****anni , SESSO: ****, EMAIL: ****, DATA DI AMMISSIONE: ****, DOTTORE: ****, RAPPORTO CLINICO: ****anni, pensionato, senza allergie farmacologiche note, che presenta la seguente storia: ex incidente sul lavoro con fratture vertebrali e costali; operato per la malattia di Dupuytren alla mano destra e un bypass ileo-femorale sinistro; diabete di tipo II, ipercolesterolemia e iperuricemia; alcolismo attivo, fuma 20 sigarette/giorno.\\nÈ stato indirizzato a noi perché ha presentato un'ematuria macroscopica post-evacuazione in un'occasione e una microematuria persistente in seguito, con un'evacuazione normale.\\nL'esame fisico ha mostrato buone condizioni generali, con addome e genitali normali; l'esame digitale rettale era coerente con un adenoma prostatico di grado I/IV.\\nL'analisi delle urine ha mostrato 4 globuli rossi/campo e 0-5 leucociti/campo; il resto del sedimento era normale.\\nL'emocromo è normale; la biochimica ha mostrato una glicemia di 169 mg/dl e trigliceridi 456 mg/dl; la funzione epatica e renale sono normali. PSA di 1,16 ng/ml. INDIRIZZATO A: Dott. **** - ****, Dipartimento di Endocrinologia e Nutrizione - ****, **** ****, EMAIL: ****.it\"}\n",
      "{\"predictions\": \"PZ: ****, CODICE FISCALE: ****, INDIRIZZO: ****, CITTÀ: ****... \\nPZ: ****, CODICE FISCALE: ****, INDIRIZZO: ****, CITTÀ: ****, CODICE POSTALE: ****  DATA DI NASCITA: ****,  ETÀ: ****anni , SESSO: ****, DATA DI AMMISSIONE: ****, DOTTORE: ****\\nRAPPORTO CLINICO: Storia attuale: **** **** di ****anni, valutato in consultazione per una coxalgia destra di un anno e mezzo di evoluzione, di caratteristiche meccaniche. Ha riportato dolore con l'esercizio fisico e una leggera limitazione della mobilità in certe posture. **** di professione, nel suo tempo libero andava in bicicletta (40 km al giorno nei fine settimana), correva 3 volte alla settimana per 50 minuti e camminava per un'ora nei giorni in cui non correva. Il dolore è aumentato progressivamente e attualmente cammina soltanto.\\nESAME FISICO: L'esame fisico ha rivelato un dolore alla palpazione nel terzo medio della regione inguinale destra con dolore alla flessione, all'adduzione e alla rotazione, specialmente alla rotazione interna (manovra di shock positivo). L'equilibrio dell'articolazione dell'anca è di 110o di flessione bilaterale, rotazione interna di 10o destra, 40o sinistra e rotazione esterna di 30o destra, 40o sinistra. L'equilibrio muscolare sulla scala Daniels è 5/5 globale bilaterale. Non c'è dolore alla palpazione dei punti sciatici e le manovre Valleix, Fabere, Lasegue e Bragard sono negative. Non c'era nemmeno dolore alla palpazione della banda iliotibiale e il test Ober era negativo. Nell'esame dell'andatura, abbiamo osservato un'assenza di claudicazione e l'appoggio monopodalico alternato destra-sinistra è stabile, con Trendelenburg negativo. **** aveva dolore quando camminava con una flessione forzata dell'anca e del ginocchio.\\nEsami complementari: Una semplice radiologia anteroposteriore (AP) ha mostrato una deformità a forma di gobba nella regione femorale cervico-cefalica destra. L'emocromo richiesto, la biochimica, gli ormoni tiroidei, gli anticorpi e i reagenti di fase acuta erano normali.\\nAlla luce di questi risultati, è stata richiesta una risonanza magnetica dell'anca, che ha mostrato una leggera alterazione subcondrale, con edema osseo nell'anca destra, con irregolarità corticale e leggera sinovite nell'interlinea articolare, con distensione della borsa ilio-psoas. La testa femorale ha un piccolo isolotto osseo e l'angolo alfa è maggiore di 50o. L'artrografia mostra un pizzicamento dell'interlinea articolare antero-superiore e postero-inferiore, un colletto osteofita femorale incipiente con piccole lesioni subcondrali antero-superiore della testa femorale e piccoli focolai di edema nell'acetabolo anterosuperiore. Non c'è necrosi avascolare o lesioni nel labrum. Una lesione cistica juxta-articolare è anche visualizzata in relazione al grande trocantere.\\nEvoluzione: Con la diagnosi di sindrome da impingement femoroacetabolare di tipo LEVA (nota anche come CAM), **** è stato prescritto un trattamento di magnetoterapia (15 sedute) per migliorare i sintomi del dolore e il trofismo osseo.\\n**** è stato indirizzato all'unità di artroscopia del servizio di traumatologia per la valutazione della chirurgia artroscopica.\\nDiagnosi principale: sindrome da impingement femoroacetabolare di tipo LEVA.\\nTRATTAMENTO: Il trattamento farmacologico è prescritto con un'associazione di glucosamina-condroitina solfato orale 400 mg ogni 12 ore per 3 mesi e farmaci antinfiammatori non steroidei al bisogno se il dolore è presente. Viene istruita a riposare negli sport per evitare lo shock all'articolazione, con un'attività fisica attiva controllata, raccomandando di non superare i 90 gradi di flessione dell'anca ed evitando le rotazioni. Prenda un appuntamento per un controllo una volta terminati i solfati di glucosamina-condroitina per vedere il miglioramento clinico. Chiami il numero di assistenza e appuntamenti precedenti dell'ospedale 914 90 66 66 60.\\nRIFERITO DA: Dott. ****. ****, ****, **** ****. Telefono: ****. E-mail: ****\"}\n",
      "\n",
      "\n",
      "-------------------------------------------------- masked_with_chars --------------------------------------------------\n",
      "{\"predictions\": \"PZ: [***************], CODICE FISCALE: [**************], INDIRIZZO: [**************], CITTÀ : [****]... \\nPZ: [***************], CODICE FISCALE: [**************], INDIRIZZO: [**************], CITTÀ : [****]\\nCODICE POSTALE: [***]  DATA DI NASCITA: [********], ETÀ: **anni , SESSO: *, EMAIL: [**************], DATA DI AMMISSIONE: [********], DOTTORE: [*********], RAPPORTO CLINICO: **anni, pensionato, senza allergie farmacologiche note, che presenta la seguente storia: ex incidente sul lavoro con fratture vertebrali e costali; operato per la malattia di Dupuytren alla mano destra e un bypass ileo-femorale sinistro; diabete di tipo II, ipercolesterolemia e iperuricemia; alcolismo attivo, fuma 20 sigarette/giorno.\\nÈ stato indirizzato a noi perché ha presentato un'ematuria macroscopica post-evacuazione in un'occasione e una microematuria persistente in seguito, con un'evacuazione normale.\\nL'esame fisico ha mostrato buone condizioni generali, con addome e genitali normali; l'esame digitale rettale era coerente con un adenoma prostatico di grado I/IV.\\nL'analisi delle urine ha mostrato 4 globuli rossi/campo e 0-5 leucociti/campo; il resto del sedimento era normale.\\nL'emocromo è normale; la biochimica ha mostrato una glicemia di 169 mg/dl e trigliceridi 456 mg/dl; la funzione epatica e renale sono normali. PSA di 1,16 ng/ml. INDIRIZZATO A: Dott. [**************] - [*****************], Dipartimento di Endocrinologia e Nutrizione - [*******************], [***] [****], EMAIL: [***************].it\"}\n",
      "{\"predictions\": \"PZ: [***************], CODICE FISCALE: [**************], INDIRIZZO: [**************], CITTÀ: [*****]... \\nPZ: [***************], CODICE FISCALE: [**************], INDIRIZZO: [**************], CITTÀ: [*****], CODICE POSTALE: [***]  DATA DI NASCITA: [********],  ETÀ: **anni , SESSO: *, DATA DI AMMISSIONE: [********], DOTTORE: [***************]\\nRAPPORTO CLINICO: Storia attuale: [******] [*****] di **anni, valutato in consultazione per una coxalgia destra di un anno e mezzo di evoluzione, di caratteristiche meccaniche. Ha riportato dolore con l'esercizio fisico e una leggera limitazione della mobilità in certe posture. [*******] di professione, nel suo tempo libero andava in bicicletta (40 km al giorno nei fine settimana), correva 3 volte alla settimana per 50 minuti e camminava per un'ora nei giorni in cui non correva. Il dolore è aumentato progressivamente e attualmente cammina soltanto.\\nESAME FISICO: L'esame fisico ha rivelato un dolore alla palpazione nel terzo medio della regione inguinale destra con dolore alla flessione, all'adduzione e alla rotazione, specialmente alla rotazione interna (manovra di shock positivo). L'equilibrio dell'articolazione dell'anca è di 110o di flessione bilaterale, rotazione interna di 10o destra, 40o sinistra e rotazione esterna di 30o destra, 40o sinistra. L'equilibrio muscolare sulla scala Daniels è 5/5 globale bilaterale. Non c'è dolore alla palpazione dei punti sciatici e le manovre Valleix, Fabere, Lasegue e Bragard sono negative. Non c'era nemmeno dolore alla palpazione della banda iliotibiale e il test Ober era negativo. Nell'esame dell'andatura, abbiamo osservato un'assenza di claudicazione e l'appoggio monopodalico alternato destra-sinistra è stabile, con Trendelenburg negativo. [*********] aveva dolore quando camminava con una flessione forzata dell'anca e del ginocchio.\\nEsami complementari: Una semplice radiologia anteroposteriore (AP) ha mostrato una deformità a forma di gobba nella regione femorale cervico-cefalica destra. L'emocromo richiesto, la biochimica, gli ormoni tiroidei, gli anticorpi e i reagenti di fase acuta erano normali.\\nAlla luce di questi risultati, è stata richiesta una risonanza magnetica dell'anca, che ha mostrato una leggera alterazione subcondrale, con edema osseo nell'anca destra, con irregolarità corticale e leggera sinovite nell'interlinea articolare, con distensione della borsa ilio-psoas. La testa femorale ha un piccolo isolotto osseo e l'angolo alfa è maggiore di 50o. L'artrografia mostra un pizzicamento dell'interlinea articolare antero-superiore e postero-inferiore, un colletto osteofita femorale incipiente con piccole lesioni subcondrali antero-superiore della testa femorale e piccoli focolai di edema nell'acetabolo anterosuperiore. Non c'è necrosi avascolare o lesioni nel labrum. Una lesione cistica juxta-articolare è anche visualizzata in relazione al grande trocantere.\\nEvoluzione: Con la diagnosi di sindrome da impingement femoroacetabolare di tipo LEVA (nota anche come CAM), [*********] è stato prescritto un trattamento di magnetoterapia (15 sedute) per migliorare i sintomi del dolore e il trofismo osseo.\\n[*********] è stato indirizzato all'unità di artroscopia del servizio di traumatologia per la valutazione della chirurgia artroscopica.\\nDiagnosi principale: sindrome da impingement femoroacetabolare di tipo LEVA.\\nTRATTAMENTO: Il trattamento farmacologico è prescritto con un'associazione di glucosamina-condroitina solfato orale 400 mg ogni 12 ore per 3 mesi e farmaci antinfiammatori non steroidei al bisogno se il dolore è presente. Viene istruita a riposare negli sport per evitare lo shock all'articolazione, con un'attività fisica attiva controllata, raccomandando di non superare i 90 gradi di flessione dell'anca ed evitando le rotazioni. Prenda un appuntamento per un controllo una volta terminati i solfati di glucosamina-condroitina per vedere il miglioramento clinico. Chiami il numero di assistenza e appuntamenti precedenti dell'ospedale 914 90 66 66 60.\\nRIFERITO DA: Dott. [*************]. [*****************************************], [***************], [***] [*****]. Telefono: [************]. E-mail: [*****************]\"}\n",
      "\n",
      "\n"
     ]
    }
   ],
   "source": [
    "masking_policies = {\n",
    "    \"masked\": \"input1.jsonl\",\n",
    "    \"obfuscated\": \"input2.jsonl\",\n",
    "    \"masked_fixed_length_chars\": \"input3.jsonl\",\n",
    "    \"masked_with_chars\": \"input4.jsonl\",\n",
    "}\n",
    "\n",
    "for policy_name, validation_file_name in masking_policies.items():\n",
    "    print(\"-\"*50, policy_name ,\"-\"*50)\n",
    "    retrieve_jsonlines_output_from_s3(validation_file_name)\n",
    "    print(\"\\n\")"
   ]
  },
  {
   "cell_type": "code",
   "execution_count": null,
   "metadata": {
    "tags": []
   },
   "outputs": [],
   "source": [
    "model.delete_model()"
   ]
  },
  {
   "cell_type": "markdown",
   "metadata": {},
   "source": [
    "### Unsubscribe to the listing (optional)"
   ]
  },
  {
   "cell_type": "markdown",
   "metadata": {
    "tags": []
   },
   "source": [
    "If you would like to unsubscribe to the model package, follow these steps. Before you cancel the subscription, ensure that you do not have any [deployable model](https://console.aws.amazon.com/sagemaker/home#/models) created from the model package or using the algorithm. Note - You can find this information by looking at the container name associated with the model. \n",
    "\n",
    "**Steps to unsubscribe to product from AWS Marketplace**:\n",
    "1. Navigate to __Machine Learning__ tab on [__Your Software subscriptions page__](https://aws.amazon.com/marketplace/ai/library?productType=ml&ref_=mlmp_gitdemo_indust)\n",
    "2. Locate the listing that you want to cancel the subscription for, and then choose __Cancel Subscription__  to cancel the subscription.\n",
    "\n"
   ]
  }
 ],
 "metadata": {
  "instance_type": "ml.t3.medium",
  "kernelspec": {
   "display_name": "conda_python3",
   "language": "python",
   "name": "conda_python3"
  },
  "language_info": {
   "codemirror_mode": {
    "name": "ipython",
    "version": 3
   },
   "file_extension": ".py",
   "mimetype": "text/x-python",
   "name": "python",
   "nbconvert_exporter": "python",
   "pygments_lexer": "ipython3",
   "version": "3.10.17"
  }
 },
 "nbformat": 4,
 "nbformat_minor": 4
}

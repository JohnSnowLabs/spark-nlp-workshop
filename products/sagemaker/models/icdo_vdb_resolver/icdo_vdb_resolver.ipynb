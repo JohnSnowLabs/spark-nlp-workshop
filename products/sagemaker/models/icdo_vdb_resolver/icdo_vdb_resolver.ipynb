{
 "cells": [
  {
   "cell_type": "markdown",
   "metadata": {},
   "source": [
    "## 1. Subscribe to the model package"
   ]
  },
  {
   "cell_type": "markdown",
   "metadata": {},
   "source": [
    "To subscribe to the model package:\n",
    "1. Open the model package listing page: [ICD-O oncology entity resolver](https://aws.amazon.com/marketplace/pp/prodview-n65m4efre6bpg)\n",
    "1. On the AWS Marketplace listing, click on the **Continue to subscribe** button.\n",
    "1. On the **Subscribe to this software** page, review and click on **\"Accept Offer\"** if you and your organization agrees with EULA, pricing, and support terms. \n",
    "1. Once you click on **Continue to configuration button** and then choose a **region**, you will see a **Product Arn** displayed. This is the model package ARN that you need to specify while creating a deployable model using Boto3. Copy the ARN corresponding to your region and specify the same in the following cell."
   ]
  },
  {
   "cell_type": "markdown",
   "metadata": {},
   "source": [
    "## Pipeline for ICD-O\n",
    "\n",
    "- **Model**: `icdo_vdb_resolver`\n",
    "- **Model Description**: This pretrained pipeline extracts oncological entities from clinical text and maps them to their corresponding ICD-O codes."
   ]
  },
  {
   "cell_type": "code",
   "execution_count": 1,
   "metadata": {
    "tags": []
   },
   "outputs": [],
   "source": [
    "model_package_arn = \"<Customer to specify Model package ARN corresponding to their AWS region>\""
   ]
  },
  {
   "cell_type": "code",
   "execution_count": null,
   "metadata": {
    "tags": []
   },
   "outputs": [],
   "source": [
    "import base64\n",
    "import json\n",
    "import uuid\n",
    "from sagemaker import ModelPackage\n",
    "import sagemaker as sage\n",
    "from sagemaker import get_execution_role\n",
    "import boto3\n",
    "from IPython.display import Image, display\n",
    "from PIL import Image as ImageEdit\n",
    "import numpy as np"
   ]
  },
  {
   "cell_type": "code",
   "execution_count": null,
   "metadata": {
    "tags": []
   },
   "outputs": [],
   "source": [
    "sagemaker_session = sage.Session()\n",
    "s3_bucket = sagemaker_session.default_bucket()\n",
    "region = sagemaker_session.boto_region_name\n",
    "account_id = boto3.client(\"sts\").get_caller_identity().get(\"Account\")\n",
    "role = get_execution_role()\n",
    "\n",
    "sagemaker = boto3.client(\"sagemaker\")\n",
    "s3_client = sagemaker_session.boto_session.client(\"s3\")\n",
    "ecr = boto3.client(\"ecr\")\n",
    "sm_runtime = boto3.client(\"sagemaker-runtime\")"
   ]
  },
  {
   "cell_type": "code",
   "execution_count": 4,
   "metadata": {
    "tags": []
   },
   "outputs": [],
   "source": [
    "model_name = \"icdo-vdb-resolver\"\n",
    "\n",
    "real_time_inference_instance_type = \"ml.m4.xlarge\"\n",
    "batch_transform_inference_instance_type = \"ml.m4.2xlarge\""
   ]
  },
  {
   "cell_type": "markdown",
   "metadata": {},
   "source": [
    "## 2. Create a deployable model from the model package."
   ]
  },
  {
   "cell_type": "code",
   "execution_count": 5,
   "metadata": {
    "tags": []
   },
   "outputs": [],
   "source": [
    "# create a deployable model from the model package.\n",
    "model = ModelPackage(\n",
    "    role=role, \n",
    "    model_package_arn=model_package_arn,\n",
    "    sagemaker_session=sagemaker_session,\n",
    ")\n"
   ]
  },
  {
   "cell_type": "markdown",
   "metadata": {},
   "source": [
    "### Input Format\n",
    "\n",
    "To use the model, you need to provide input in one of the following supported formats:\n",
    "\n",
    "#### JSON Format\n",
    "\n",
    "Provide input as JSON. We support two variations within this format:\n",
    "\n",
    "1. **Array of Text Documents**: \n",
    "   Use an array containing multiple text documents. Each element represents a separate text document.\n",
    "\n",
    "   ```json\n",
    "   {\n",
    "       \"text\": [\n",
    "           \"Text document 1\",\n",
    "           \"Text document 2\",\n",
    "           ...\n",
    "       ]\n",
    "   }\n",
    "\n",
    "    ```\n",
    "\n",
    "2. **Single Text Document**:\n",
    "   Provide a single text document as a string.\n",
    "\n",
    "\n",
    "   ```json\n",
    "    {\n",
    "        \"text\": \"Single text document\"\n",
    "    }\n",
    "   ```\n",
    "\n",
    "#### JSON Lines (JSONL) Format\n",
    "\n",
    "Provide input in JSON Lines format, where each line is a JSON object representing a text document.\n",
    "\n",
    "```\n",
    "{\"text\": \"Text document 1\"}\n",
    "{\"text\": \"Text document 2\"}\n",
    "```"
   ]
  },
  {
   "cell_type": "markdown",
   "metadata": {},
   "source": [
    "## 3. Create an endpoint and perform real-time inference"
   ]
  },
  {
   "cell_type": "markdown",
   "metadata": {},
   "source": [
    "If you want to understand how real-time inference with Amazon SageMaker works, see [Documentation](https://docs.aws.amazon.com/sagemaker/latest/dg/how-it-works-hosting.html)."
   ]
  },
  {
   "cell_type": "markdown",
   "metadata": {},
   "source": [
    "### A. Deploy the SageMaker model to an endpoint"
   ]
  },
  {
   "cell_type": "code",
   "execution_count": null,
   "metadata": {
    "tags": []
   },
   "outputs": [],
   "source": [
    "# Deploy the model\n",
    "predictor = model.deploy(\n",
    "    initial_instance_count=1,\n",
    "    instance_type=real_time_inference_instance_type, \n",
    "    endpoint_name=model_name,\n",
    ")"
   ]
  },
  {
   "cell_type": "markdown",
   "metadata": {},
   "source": [
    "Once endpoint has been created, you would be able to perform real-time inference."
   ]
  },
  {
   "cell_type": "code",
   "execution_count": 7,
   "metadata": {
    "tags": []
   },
   "outputs": [],
   "source": [
    "import json\n",
    "import pandas as pd\n",
    "import os\n",
    "import boto3\n",
    "\n",
    "# Set display options\n",
    "pd.set_option('display.max_rows', None)\n",
    "pd.set_option('display.max_columns', None)\n",
    "pd.set_option('display.max_colwidth', None)\n",
    "\n",
    "\n",
    "def process_data_and_invoke_realtime_endpoint(data, content_type, accept):\n",
    "\n",
    "    content_type_to_format = {'application/json': 'json', 'application/jsonlines': 'jsonl'}\n",
    "    input_format = content_type_to_format.get(content_type)\n",
    "    if content_type not in content_type_to_format.keys() or accept not in content_type_to_format.keys():\n",
    "        raise ValueError(\"Invalid content_type or accept. It should be either 'application/json' or 'application/jsonlines'.\")\n",
    "\n",
    "    i = 1\n",
    "    input_dir = f'inputs/real-time/{input_format}'\n",
    "    output_dir = f'outputs/real-time/{input_format}'\n",
    "    s3_input_dir = f\"{model_name}/validation-input/real-time/{input_format}\"\n",
    "    s3_output_dir = f\"{model_name}/validation-output/real-time/{input_format}\"\n",
    "\n",
    "    input_file_name = f'{input_dir}/input{i}.{input_format}'\n",
    "    output_file_name = f'{output_dir}/{os.path.basename(input_file_name)}.out'\n",
    "\n",
    "    while os.path.exists(input_file_name) or os.path.exists(output_file_name):\n",
    "        i += 1\n",
    "        input_file_name = f'{input_dir}/input{i}.{input_format}'\n",
    "        output_file_name = f'{output_dir}/{os.path.basename(input_file_name)}.out'\n",
    "\n",
    "    os.makedirs(os.path.dirname(input_file_name), exist_ok=True)\n",
    "    os.makedirs(os.path.dirname(output_file_name), exist_ok=True)\n",
    "\n",
    "    input_data = json.dumps(data) if content_type == 'application/json' else data\n",
    "\n",
    "    # Write input data to file\n",
    "    with open(input_file_name, 'w') as f:\n",
    "        f.write(input_data)\n",
    "\n",
    "    # Upload input data to S3\n",
    "    s3_client.put_object(Bucket=s3_bucket, Key=f\"{s3_input_dir}/{os.path.basename(input_file_name)}\", Body=bytes(input_data.encode('UTF-8')))\n",
    "\n",
    "    # Invoke the SageMaker endpoint\n",
    "    response = sm_runtime.invoke_endpoint(\n",
    "        EndpointName=model_name,\n",
    "        ContentType=content_type,\n",
    "        Accept=accept,\n",
    "        Body=input_data,\n",
    "    )\n",
    "\n",
    "    # Read response data\n",
    "    response_data = json.loads(response[\"Body\"].read().decode(\"utf-8\")) if accept == 'application/json' else response['Body'].read().decode('utf-8')\n",
    "\n",
    "    # Save response data to file\n",
    "    with open(output_file_name, 'w') as f_out:\n",
    "        if accept == 'application/json':\n",
    "            json.dump(response_data, f_out, indent=4)\n",
    "        else:\n",
    "            for item in response_data.split('\\n'):\n",
    "                f_out.write(item + '\\n')\n",
    "\n",
    "    # Upload response data to S3\n",
    "    output_s3_key = f\"{s3_output_dir}/{os.path.basename(output_file_name)}\"\n",
    "    if accept == 'application/json':\n",
    "        s3_client.put_object(Bucket=s3_bucket, Key=output_s3_key, Body=json.dumps(response_data).encode('UTF-8'))\n",
    "    else:\n",
    "        s3_client.put_object(Bucket=s3_bucket, Key=output_s3_key, Body=response_data)\n",
    "\n",
    "    return response_data"
   ]
  },
  {
   "cell_type": "markdown",
   "metadata": {},
   "source": [
    "### Initial Setup"
   ]
  },
  {
   "cell_type": "code",
   "execution_count": 8,
   "metadata": {
    "tags": []
   },
   "outputs": [],
   "source": [
    "docs = [\n",
    "    \"A few studies have demonstrated that ANGPTL1 functions as a tumor suppressor gene in breast cancer  , hepatocellular carcinoma  , colorectal cancer and parathyroid carcinoma.\", \n",
    "    \"TRAF6 is a putative oncogene in a variety of cancers including  bladder cancer , and skin cancer. WWP2 appears to regulate the expression of the well characterized tumor suppressor phosphatase and tensin homolog (PTEN) in endometrial cancer and squamous cell carcinoma.\",\n",
    "]\n",
    "\n",
    "\n",
    "sample_text = \"TRIM50 has only been shown to act as a tumor suppressor in hepatocellular carcinoma and ovary cancer. HOXA10 exerts an oncogenic role in several tumors endometrial adenocarcinoma .\""
   ]
  },
  {
   "cell_type": "markdown",
   "metadata": {},
   "source": [
    "### JSON"
   ]
  },
  {
   "cell_type": "code",
   "execution_count": 9,
   "metadata": {
    "tags": []
   },
   "outputs": [
    {
     "data": {
      "text/html": [
       "<div>\n",
       "<style scoped>\n",
       "    .dataframe tbody tr th:only-of-type {\n",
       "        vertical-align: middle;\n",
       "    }\n",
       "\n",
       "    .dataframe tbody tr th {\n",
       "        vertical-align: top;\n",
       "    }\n",
       "\n",
       "    .dataframe thead th {\n",
       "        text-align: right;\n",
       "    }\n",
       "</style>\n",
       "<table border=\"1\" class=\"dataframe\">\n",
       "  <thead>\n",
       "    <tr style=\"text-align: right;\">\n",
       "      <th></th>\n",
       "      <th>begin</th>\n",
       "      <th>end</th>\n",
       "      <th>ner_chunk</th>\n",
       "      <th>ner_label</th>\n",
       "      <th>ner_confidence</th>\n",
       "      <th>concept_code</th>\n",
       "      <th>resolution</th>\n",
       "      <th>score</th>\n",
       "      <th>all_codes</th>\n",
       "      <th>all_resolutions</th>\n",
       "      <th>all_score</th>\n",
       "    </tr>\n",
       "  </thead>\n",
       "  <tbody>\n",
       "    <tr>\n",
       "      <th>0</th>\n",
       "      <td>39</td>\n",
       "      <td>54</td>\n",
       "      <td>tumor suppressor</td>\n",
       "      <td>ONCOLOGICAL</td>\n",
       "      <td>0.76909995</td>\n",
       "      <td>8001/1</td>\n",
       "      <td>tumor cells</td>\n",
       "      <td>0.719942</td>\n",
       "      <td>[8001/1, 8000/1, 8000/3, 8001/0, 8040/1]</td>\n",
       "      <td>[tumor cells, tumor, cancer, tumor cells, benign, tumorlet]</td>\n",
       "      <td>[0.7199416756629944, 0.7053937911987305, 0.6986450552940369, 0.6981863379478455, 0.6867452263832092]</td>\n",
       "    </tr>\n",
       "    <tr>\n",
       "      <th>1</th>\n",
       "      <td>59</td>\n",
       "      <td>82</td>\n",
       "      <td>hepatocellular carcinoma</td>\n",
       "      <td>ONCOLOGICAL</td>\n",
       "      <td>0.86475</td>\n",
       "      <td>8170/3</td>\n",
       "      <td>hepatocellular carcinoma</td>\n",
       "      <td>1.000000</td>\n",
       "      <td>[8170/3, 8170/3, 8170/3, 8170/3-C22.0, 8170/3]</td>\n",
       "      <td>[hepatocellular carcinoma, hepatocarcinoma, liver cell carcinoma, hepatocellular carcinoma, of liver, hepatoma]</td>\n",
       "      <td>[1.0000004768371582, 0.9132293462753296, 0.902867317199707, 0.8793963193893433, 0.8304915428161621]</td>\n",
       "    </tr>\n",
       "    <tr>\n",
       "      <th>2</th>\n",
       "      <td>88</td>\n",
       "      <td>99</td>\n",
       "      <td>ovary cancer</td>\n",
       "      <td>CANCER_DX</td>\n",
       "      <td>0.91394997</td>\n",
       "      <td>8010/3-C56.9</td>\n",
       "      <td>carcinoma, of ovary</td>\n",
       "      <td>0.840850</td>\n",
       "      <td>[8010/3-C56.9, 8140/3-C56.9, 8010/6-C56.9, 8000/3-C56.9, 8230/3-C56.9]</td>\n",
       "      <td>[carcinoma, of ovary, adenocarcinoma, of ovary, carcinoma, metastatic, of ovary, neoplasm, malignant of ovary, solid carcinoma, of ovary]</td>\n",
       "      <td>[0.8408499360084534, 0.8210016489028931, 0.8171762228012085, 0.8160241842269897, 0.8076353669166565]</td>\n",
       "    </tr>\n",
       "    <tr>\n",
       "      <th>3</th>\n",
       "      <td>145</td>\n",
       "      <td>177</td>\n",
       "      <td>tumors endometrial adenocarcinoma</td>\n",
       "      <td>ONCOLOGICAL</td>\n",
       "      <td>0.8207</td>\n",
       "      <td>8140/3-C54.1</td>\n",
       "      <td>adenocarcinoma, of endometrium</td>\n",
       "      <td>0.897595</td>\n",
       "      <td>[8140/3-C54.1, 8380/3, 8380/3-C54.1, 8380/3-C55.9, 8260/3-C54.1]</td>\n",
       "      <td>[adenocarcinoma, of endometrium, endometrioid adenocarcinoma, endometrioid adenocarcinoma, of endometrium, endometrioid adenocarcinoma, of uterus, papillary adenocarcinoma, of endometrium]</td>\n",
       "      <td>[0.8975948095321655, 0.8903557062149048, 0.8701358437538147, 0.8674242496490479, 0.8599061965942383]</td>\n",
       "    </tr>\n",
       "  </tbody>\n",
       "</table>\n",
       "</div>"
      ],
      "text/plain": [
       "   begin  end                          ner_chunk    ner_label ner_confidence  \\\n",
       "0     39   54                   tumor suppressor  ONCOLOGICAL     0.76909995   \n",
       "1     59   82           hepatocellular carcinoma  ONCOLOGICAL        0.86475   \n",
       "2     88   99                       ovary cancer    CANCER_DX     0.91394997   \n",
       "3    145  177  tumors endometrial adenocarcinoma  ONCOLOGICAL         0.8207   \n",
       "\n",
       "   concept_code                      resolution     score  \\\n",
       "0        8001/1                     tumor cells  0.719942   \n",
       "1        8170/3        hepatocellular carcinoma  1.000000   \n",
       "2  8010/3-C56.9             carcinoma, of ovary  0.840850   \n",
       "3  8140/3-C54.1  adenocarcinoma, of endometrium  0.897595   \n",
       "\n",
       "                                                                all_codes  \\\n",
       "0                                [8001/1, 8000/1, 8000/3, 8001/0, 8040/1]   \n",
       "1                          [8170/3, 8170/3, 8170/3, 8170/3-C22.0, 8170/3]   \n",
       "2  [8010/3-C56.9, 8140/3-C56.9, 8010/6-C56.9, 8000/3-C56.9, 8230/3-C56.9]   \n",
       "3        [8140/3-C54.1, 8380/3, 8380/3-C54.1, 8380/3-C55.9, 8260/3-C54.1]   \n",
       "\n",
       "                                                                                                                                                                                all_resolutions  \\\n",
       "0                                                                                                                                   [tumor cells, tumor, cancer, tumor cells, benign, tumorlet]   \n",
       "1                                                                               [hepatocellular carcinoma, hepatocarcinoma, liver cell carcinoma, hepatocellular carcinoma, of liver, hepatoma]   \n",
       "2                                                     [carcinoma, of ovary, adenocarcinoma, of ovary, carcinoma, metastatic, of ovary, neoplasm, malignant of ovary, solid carcinoma, of ovary]   \n",
       "3  [adenocarcinoma, of endometrium, endometrioid adenocarcinoma, endometrioid adenocarcinoma, of endometrium, endometrioid adenocarcinoma, of uterus, papillary adenocarcinoma, of endometrium]   \n",
       "\n",
       "                                                                                              all_score  \n",
       "0  [0.7199416756629944, 0.7053937911987305, 0.6986450552940369, 0.6981863379478455, 0.6867452263832092]  \n",
       "1   [1.0000004768371582, 0.9132293462753296, 0.902867317199707, 0.8793963193893433, 0.8304915428161621]  \n",
       "2  [0.8408499360084534, 0.8210016489028931, 0.8171762228012085, 0.8160241842269897, 0.8076353669166565]  \n",
       "3  [0.8975948095321655, 0.8903557062149048, 0.8701358437538147, 0.8674242496490479, 0.8599061965942383]  "
      ]
     },
     "execution_count": 9,
     "metadata": {},
     "output_type": "execute_result"
    }
   ],
   "source": [
    "input_json_data = {\"text\": sample_text}\n",
    "data =  process_data_and_invoke_realtime_endpoint(input_json_data, content_type=\"application/json\" , accept=\"application/json\" )\n",
    "pd.DataFrame(data[\"predictions\"][0])"
   ]
  },
  {
   "cell_type": "markdown",
   "metadata": {},
   "source": [
    "### JSON Lines"
   ]
  },
  {
   "cell_type": "code",
   "execution_count": 10,
   "metadata": {
    "tags": []
   },
   "outputs": [],
   "source": [
    "import json\n",
    "\n",
    "def create_jsonl(records):\n",
    "\n",
    "    if isinstance(records, str):\n",
    "        records = [records]\n",
    "\n",
    "    json_records = []\n",
    "\n",
    "    for text in records:\n",
    "        record = {\n",
    "            \"text\": text\n",
    "        }\n",
    "        json_records.append(record)\n",
    "\n",
    "    json_lines = '\\n'.join(json.dumps(record) for record in json_records)\n",
    "\n",
    "    return json_lines"
   ]
  },
  {
   "cell_type": "code",
   "execution_count": 11,
   "metadata": {
    "tags": []
   },
   "outputs": [
    {
     "name": "stdout",
     "output_type": "stream",
     "text": [
      "{\"predictions\": [{\"begin\": 39, \"end\": 54, \"ner_chunk\": \"tumor suppressor\", \"ner_label\": \"ONCOLOGICAL\", \"ner_confidence\": \"0.76909995\", \"concept_code\": \"8001/1\", \"resolution\": \"tumor cells\", \"score\": 0.7199416756629944, \"all_codes\": [\"8001/1\", \"8000/1\", \"8000/3\", \"8001/0\", \"8040/1\"], \"all_resolutions\": [\"tumor cells\", \"tumor\", \"cancer\", \"tumor cells, benign\", \"tumorlet\"], \"all_score\": [0.7199416756629944, 0.7053937911987305, 0.6986450552940369, 0.6981863379478455, 0.6867452263832092]}, {\"begin\": 59, \"end\": 82, \"ner_chunk\": \"hepatocellular carcinoma\", \"ner_label\": \"ONCOLOGICAL\", \"ner_confidence\": \"0.86475\", \"concept_code\": \"8170/3\", \"resolution\": \"hepatocellular carcinoma\", \"score\": 1.0000004768371582, \"all_codes\": [\"8170/3\", \"8170/3\", \"8170/3\", \"8170/3-C22.0\", \"8170/3\"], \"all_resolutions\": [\"hepatocellular carcinoma\", \"hepatocarcinoma\", \"liver cell carcinoma\", \"hepatocellular carcinoma, of liver\", \"hepatoma\"], \"all_score\": [1.0000004768371582, 0.9132293462753296, 0.902867317199707, 0.8793963193893433, 0.8304915428161621]}, {\"begin\": 88, \"end\": 99, \"ner_chunk\": \"ovary cancer\", \"ner_label\": \"CANCER_DX\", \"ner_confidence\": \"0.91394997\", \"concept_code\": \"8010/3-C56.9\", \"resolution\": \"carcinoma, of ovary\", \"score\": 0.8408499360084534, \"all_codes\": [\"8010/3-C56.9\", \"8140/3-C56.9\", \"8010/6-C56.9\", \"8000/3-C56.9\", \"8230/3-C56.9\"], \"all_resolutions\": [\"carcinoma, of ovary\", \"adenocarcinoma, of ovary\", \"carcinoma, metastatic, of ovary\", \"neoplasm, malignant of ovary\", \"solid carcinoma, of ovary\"], \"all_score\": [0.8408499360084534, 0.8210016489028931, 0.8171762228012085, 0.8160241842269897, 0.8076353669166565]}, {\"begin\": 145, \"end\": 177, \"ner_chunk\": \"tumors endometrial adenocarcinoma\", \"ner_label\": \"ONCOLOGICAL\", \"ner_confidence\": \"0.8207\", \"concept_code\": \"8140/3-C54.1\", \"resolution\": \"adenocarcinoma, of endometrium\", \"score\": 0.8975948095321655, \"all_codes\": [\"8140/3-C54.1\", \"8380/3\", \"8380/3-C54.1\", \"8380/3-C55.9\", \"8260/3-C54.1\"], \"all_resolutions\": [\"adenocarcinoma, of endometrium\", \"endometrioid adenocarcinoma\", \"endometrioid adenocarcinoma, of endometrium\", \"endometrioid adenocarcinoma, of uterus\", \"papillary adenocarcinoma, of endometrium\"], \"all_score\": [0.8975948095321655, 0.8903557062149048, 0.8701358437538147, 0.8674242496490479, 0.8599061965942383]}]}\n"
     ]
    }
   ],
   "source": [
    "input_jsonl_data = create_jsonl(sample_text)\n",
    "data = process_data_and_invoke_realtime_endpoint(input_jsonl_data, content_type=\"application/jsonlines\" , accept=\"application/jsonlines\" )\n",
    "print(data)"
   ]
  },
  {
   "cell_type": "markdown",
   "metadata": {},
   "source": [
    "### B. Delete the endpoint"
   ]
  },
  {
   "cell_type": "markdown",
   "metadata": {},
   "source": [
    "Now that you have successfully performed a real-time inference, you do not need the endpoint any more. You can terminate the endpoint to avoid being charged."
   ]
  },
  {
   "cell_type": "code",
   "execution_count": null,
   "metadata": {
    "tags": []
   },
   "outputs": [],
   "source": [
    "model.sagemaker_session.delete_endpoint(model_name)\n",
    "model.sagemaker_session.delete_endpoint_config(model_name)"
   ]
  },
  {
   "cell_type": "markdown",
   "metadata": {
    "tags": []
   },
   "source": [
    "## 4. Batch inference"
   ]
  },
  {
   "cell_type": "code",
   "execution_count": 13,
   "metadata": {
    "tags": []
   },
   "outputs": [],
   "source": [
    "import json\n",
    "import os\n",
    "\n",
    "input_dir = 'inputs/batch'\n",
    "json_input_dir = f\"{input_dir}/json\"\n",
    "jsonl_input_dir = f\"{input_dir}/jsonl\"\n",
    "\n",
    "output_dir = 'outputs/batch'\n",
    "json_output_dir = f\"{output_dir}/json\"\n",
    "jsonl_output_dir = f\"{output_dir}/jsonl\"\n",
    "\n",
    "os.makedirs(json_input_dir, exist_ok=True)\n",
    "os.makedirs(jsonl_input_dir, exist_ok=True)\n",
    "os.makedirs(json_output_dir, exist_ok=True)\n",
    "os.makedirs(jsonl_output_dir, exist_ok=True)\n",
    "\n",
    "validation_json_file_name = \"input.json\"\n",
    "\n",
    "validation_jsonl_file_name = \"input.jsonl\"\n",
    "\n",
    "validation_input_json_path = f\"s3://{s3_bucket}/{model_name}/validation-input/batch/json/\"\n",
    "validation_output_json_path = f\"s3://{s3_bucket}/{model_name}/validation-output/batch/json/\"\n",
    "\n",
    "validation_input_jsonl_path = f\"s3://{s3_bucket}/{model_name}/validation-input/batch/jsonl/\"\n",
    "validation_output_jsonl_path = f\"s3://{s3_bucket}/{model_name}/validation-output/batch/jsonl/\"\n",
    "\n",
    "def write_and_upload_to_s3(input_data, file_name):\n",
    "    file_format = os.path.splitext(file_name)[1].lower()\n",
    "    if file_format == \".json\":\n",
    "        input_data = json.dumps(input_data)\n",
    "\n",
    "    with open(file_name, \"w\") as f:\n",
    "        f.write(input_data)\n",
    "\n",
    "    s3_client.put_object(\n",
    "        Bucket=s3_bucket,\n",
    "        Key=f\"{model_name}/validation-input/batch/{file_format[1:]}/{os.path.basename(file_name)}\",\n",
    "        Body=(bytes(input_data.encode(\"UTF-8\"))),\n",
    "    )"
   ]
  },
  {
   "cell_type": "code",
   "execution_count": 14,
   "metadata": {
    "tags": []
   },
   "outputs": [],
   "source": [
    "input_jsonl_data = create_jsonl(docs)\n",
    "input_json_data = {\"text\": docs}\n",
    "\n",
    "write_and_upload_to_s3(input_json_data, f\"{json_input_dir}/{validation_json_file_name}\")\n",
    "\n",
    "write_and_upload_to_s3(input_jsonl_data, f\"{jsonl_input_dir}/{validation_jsonl_file_name}\")"
   ]
  },
  {
   "cell_type": "markdown",
   "metadata": {},
   "source": [
    "### JSON"
   ]
  },
  {
   "cell_type": "code",
   "execution_count": null,
   "metadata": {
    "tags": []
   },
   "outputs": [],
   "source": [
    "# Initialize a SageMaker Transformer object for making predictions\n",
    "transformer = model.transformer(\n",
    "    instance_count=1,\n",
    "    instance_type=batch_transform_inference_instance_type,\n",
    "    accept=\"application/json\",\n",
    "    output_path=validation_output_json_path\n",
    ")\n",
    "\n",
    "transformer.transform(validation_input_json_path, content_type=\"application/json\")\n",
    "transformer.wait()"
   ]
  },
  {
   "cell_type": "code",
   "execution_count": 16,
   "metadata": {
    "tags": []
   },
   "outputs": [],
   "source": [
    "from urllib.parse import urlparse\n",
    "\n",
    "def process_s3_json_output_and_save(validation_file_name):\n",
    "\n",
    "    output_file_path = f\"{json_output_dir}/{validation_file_name}.out\"\n",
    "    parsed_url = urlparse(transformer.output_path)\n",
    "    file_key = f\"{parsed_url.path[1:]}{validation_file_name}.out\"\n",
    "    response = s3_client.get_object(Bucket=s3_bucket, Key=file_key)\n",
    "\n",
    "    data = json.loads(response[\"Body\"].read().decode(\"utf-8\"))\n",
    "    display(data)\n",
    "\n",
    "    # Save the data to the output file\n",
    "    with open(output_file_path, 'w') as f_out:\n",
    "        json.dump(data, f_out, indent=4)"
   ]
  },
  {
   "cell_type": "code",
   "execution_count": 17,
   "metadata": {
    "tags": []
   },
   "outputs": [
    {
     "data": {
      "text/plain": [
       "{'predictions': [[{'begin': 60,\n",
       "    'end': 75,\n",
       "    'ner_chunk': 'tumor suppressor',\n",
       "    'ner_label': 'ONCOLOGICAL',\n",
       "    'ner_confidence': '0.6416',\n",
       "    'concept_code': '8001/1',\n",
       "    'resolution': 'tumor cells',\n",
       "    'score': 0.7199416160583496,\n",
       "    'all_codes': ['8001/1', '8000/1', '8000/3', '8001/0', '8040/1'],\n",
       "    'all_resolutions': ['tumor cells',\n",
       "     'tumor',\n",
       "     'cancer',\n",
       "     'tumor cells, benign',\n",
       "     'tumorlet'],\n",
       "    'all_score': [0.7199416160583496,\n",
       "     0.7053937911987305,\n",
       "     0.6986448764801025,\n",
       "     0.6981862783432007,\n",
       "     0.6867449879646301]},\n",
       "   {'begin': 85,\n",
       "    'end': 97,\n",
       "    'ner_chunk': 'breast cancer',\n",
       "    'ner_label': 'CANCER_DX',\n",
       "    'ner_confidence': '0.98845005',\n",
       "    'concept_code': 'C50',\n",
       "    'resolution': 'breast',\n",
       "    'score': 0.83452969789505,\n",
       "    'all_codes': ['C50',\n",
       "     '8010/3-C50.9',\n",
       "     '8000/3-C50.9',\n",
       "     '8010/6-C50.9',\n",
       "     '8000/6-C50.9'],\n",
       "    'all_resolutions': ['breast',\n",
       "     'carcinoma, of breast',\n",
       "     'neoplasm, malignant of breast',\n",
       "     'carcinoma, metastatic, of breast',\n",
       "     'neoplasm, metastatic of breast'],\n",
       "    'all_score': [0.83452969789505,\n",
       "     0.8012375831604004,\n",
       "     0.7926520109176636,\n",
       "     0.7858340740203857,\n",
       "     0.7723860144615173]},\n",
       "   {'begin': 102,\n",
       "    'end': 125,\n",
       "    'ner_chunk': 'hepatocellular carcinoma',\n",
       "    'ner_label': 'ONCOLOGICAL',\n",
       "    'ner_confidence': '0.94219995',\n",
       "    'concept_code': '8170/3',\n",
       "    'resolution': 'hepatocellular carcinoma',\n",
       "    'score': 1.0000007152557373,\n",
       "    'all_codes': ['8170/3', '8170/3', '8170/3', '8170/3-C22.0', '8170/3'],\n",
       "    'all_resolutions': ['hepatocellular carcinoma',\n",
       "     'hepatocarcinoma',\n",
       "     'liver cell carcinoma',\n",
       "     'hepatocellular carcinoma, of liver',\n",
       "     'hepatoma'],\n",
       "    'all_score': [1.0000007152557373,\n",
       "     0.9132295250892639,\n",
       "     0.9028675556182861,\n",
       "     0.8793964385986328,\n",
       "     0.8304916024208069]},\n",
       "   {'begin': 130,\n",
       "    'end': 146,\n",
       "    'ner_chunk': 'colorectal cancer',\n",
       "    'ner_label': 'CANCER_DX',\n",
       "    'ner_confidence': '0.95045',\n",
       "    'concept_code': '8000/3-C18.7',\n",
       "    'resolution': 'neoplasm, malignant of sigmoid colon',\n",
       "    'score': 0.7804214358329773,\n",
       "    'all_codes': ['8000/3-C18.7',\n",
       "     '8000/3-C20.9',\n",
       "     '8000/3-C18.9',\n",
       "     '8010/3-C20.9',\n",
       "     '8010/3-C18.7'],\n",
       "    'all_resolutions': ['neoplasm, malignant of sigmoid colon',\n",
       "     'neoplasm, malignant of rectum',\n",
       "     'neoplasm, malignant of colon',\n",
       "     'carcinoma, of rectum',\n",
       "     'carcinoma, of sigmoid colon'],\n",
       "    'all_score': [0.7804214358329773,\n",
       "     0.774956226348877,\n",
       "     0.7726189494132996,\n",
       "     0.768333911895752,\n",
       "     0.7663665413856506]},\n",
       "   {'begin': 152,\n",
       "    'end': 172,\n",
       "    'ner_chunk': 'parathyroid carcinoma',\n",
       "    'ner_label': 'CANCER_DX',\n",
       "    'ner_confidence': '0.9448',\n",
       "    'concept_code': '8010/3-C75.0',\n",
       "    'resolution': 'carcinoma, of parathyroid gland',\n",
       "    'score': 0.8783822059631348,\n",
       "    'all_codes': ['8010/3-C75.0',\n",
       "     '8140/3-C75.0',\n",
       "     '8012/3-C75.0',\n",
       "     '8010/2-C75.0',\n",
       "     '8021/3-C75.0'],\n",
       "    'all_resolutions': ['carcinoma, of parathyroid gland',\n",
       "     'adenocarcinoma, of parathyroid gland',\n",
       "     'large cell carcinoma, of parathyroid gland',\n",
       "     'carcinoma in situ, of parathyroid gland',\n",
       "     'carcinoma, anaplastic, of parathyroid gland'],\n",
       "    'all_score': [0.8783822059631348,\n",
       "     0.84759122133255,\n",
       "     0.8344042301177979,\n",
       "     0.8302919268608093,\n",
       "     0.8257697820663452]}],\n",
       "  [{'begin': 45,\n",
       "    'end': 51,\n",
       "    'ner_chunk': 'cancers',\n",
       "    'ner_label': 'CANCER_DX',\n",
       "    'ner_confidence': '0.999',\n",
       "    'concept_code': '8000/3',\n",
       "    'resolution': 'cancer',\n",
       "    'score': 0.9521887302398682,\n",
       "    'all_codes': ['8000/3', '8000/3', '800', '8000/1', '8010/3'],\n",
       "    'all_resolutions': ['cancer',\n",
       "     'malignancy',\n",
       "     'neoplasms',\n",
       "     'tumor',\n",
       "     'carcinoma'],\n",
       "    'all_score': [0.9521887302398682,\n",
       "     0.8422325253486633,\n",
       "     0.8076785802841187,\n",
       "     0.8068814873695374,\n",
       "     0.7948881387710571]},\n",
       "   {'begin': 64,\n",
       "    'end': 77,\n",
       "    'ner_chunk': 'bladder cancer',\n",
       "    'ner_label': 'CANCER_DX',\n",
       "    'ner_confidence': '0.8811',\n",
       "    'concept_code': '8120/3-C67.9',\n",
       "    'resolution': 'transitional cell carcinoma, of bladder',\n",
       "    'score': 0.8433964252471924,\n",
       "    'all_codes': ['8120/3-C67.9',\n",
       "     '8120/3',\n",
       "     '8010/3-C67.9',\n",
       "     '8120/3',\n",
       "     '8010/3-C67.5'],\n",
       "    'all_resolutions': ['transitional cell carcinoma, of bladder',\n",
       "     'transitional cell carcinoma',\n",
       "     'carcinoma, of bladder',\n",
       "     'urothelial carcinoma',\n",
       "     'carcinoma, of bladder neck'],\n",
       "    'all_score': [0.8433964252471924,\n",
       "     0.8392457365989685,\n",
       "     0.8378653526306152,\n",
       "     0.8365463018417358,\n",
       "     0.8159494400024414]},\n",
       "   {'begin': 85,\n",
       "    'end': 95,\n",
       "    'ner_chunk': 'skin cancer',\n",
       "    'ner_label': 'CANCER_DX',\n",
       "    'ner_confidence': '0.9893',\n",
       "    'concept_code': '8010/3-C44.9',\n",
       "    'resolution': 'carcinoma, of skin',\n",
       "    'score': 0.8370699882507324,\n",
       "    'all_codes': ['8010/3-C44.9',\n",
       "     '8090/3-C44.9',\n",
       "     '8070/3-C44.9',\n",
       "     '8090/3',\n",
       "     '8091/3-C44.9'],\n",
       "    'all_resolutions': ['carcinoma, of skin',\n",
       "     'basal cell carcinoma, of skin',\n",
       "     'squamous cell carcinoma, of skin',\n",
       "     'basal cell carcinoma',\n",
       "     'superficial basal cell carcinoma of skin'],\n",
       "    'all_score': [0.8370699882507324,\n",
       "     0.8152609467506409,\n",
       "     0.8104902505874634,\n",
       "     0.8076889514923096,\n",
       "     0.8042685985565186]},\n",
       "   {'begin': 164,\n",
       "    'end': 168,\n",
       "    'ner_chunk': 'tumor',\n",
       "    'ner_label': 'ONCOLOGICAL',\n",
       "    'ner_confidence': '0.9592',\n",
       "    'concept_code': '8000/1',\n",
       "    'resolution': 'tumor',\n",
       "    'score': 0.9999999403953552,\n",
       "    'all_codes': ['8000/1', '8000/3', '8000/0', '8001/1', '8000/3'],\n",
       "    'all_resolutions': ['tumor',\n",
       "     'tumor, malignant',\n",
       "     'tumor, benign',\n",
       "     'tumor cells',\n",
       "     'cancer'],\n",
       "    'all_score': [0.9999999403953552,\n",
       "     0.8539251089096069,\n",
       "     0.8418221473693848,\n",
       "     0.841091513633728,\n",
       "     0.8308601379394531]},\n",
       "   {'begin': 222,\n",
       "    'end': 239,\n",
       "    'ner_chunk': 'endometrial cancer',\n",
       "    'ner_label': 'CANCER_DX',\n",
       "    'ner_confidence': '0.9904',\n",
       "    'concept_code': '8010/3-C54.1',\n",
       "    'resolution': 'carcinoma, of endometrium',\n",
       "    'score': 0.855223536491394,\n",
       "    'all_codes': ['8010/3-C54.1',\n",
       "     '8930/3',\n",
       "     'C54.1',\n",
       "     '8000/3-C54.1',\n",
       "     '8140/3-C54.1'],\n",
       "    'all_resolutions': ['carcinoma, of endometrium',\n",
       "     'endometrial sarcoma',\n",
       "     'endometrium',\n",
       "     'neoplasm, malignant of endometrium',\n",
       "     'adenocarcinoma, of endometrium'],\n",
       "    'all_score': [0.855223536491394,\n",
       "     0.8523462414741516,\n",
       "     0.8431060910224915,\n",
       "     0.8426550626754761,\n",
       "     0.842502236366272]},\n",
       "   {'begin': 245,\n",
       "    'end': 267,\n",
       "    'ner_chunk': 'squamous cell carcinoma',\n",
       "    'ner_label': 'ONCOLOGICAL',\n",
       "    'ner_confidence': '0.9479',\n",
       "    'concept_code': '8070/3',\n",
       "    'resolution': 'squamous cell carcinoma',\n",
       "    'score': 1.0000001192092896,\n",
       "    'all_codes': ['8070/3', '8070/3', '805-808', '8052/0', '8070/3-C44.9'],\n",
       "    'all_resolutions': ['squamous cell carcinoma',\n",
       "     'squamous carcinoma',\n",
       "     'squamous cell neoplasms',\n",
       "     'squamous cell papilloma',\n",
       "     'squamous cell carcinoma, of skin'],\n",
       "    'all_score': [1.0000001192092896,\n",
       "     0.9848157167434692,\n",
       "     0.9089497327804565,\n",
       "     0.879472017288208,\n",
       "     0.8730540871620178]}]]}"
      ]
     },
     "metadata": {},
     "output_type": "display_data"
    }
   ],
   "source": [
    "process_s3_json_output_and_save(validation_json_file_name)"
   ]
  },
  {
   "cell_type": "markdown",
   "metadata": {},
   "source": [
    "### JSON Lines"
   ]
  },
  {
   "cell_type": "code",
   "execution_count": null,
   "metadata": {
    "tags": []
   },
   "outputs": [],
   "source": [
    "transformer = model.transformer(\n",
    "    instance_count=1,\n",
    "    instance_type=batch_transform_inference_instance_type,\n",
    "    accept=\"application/jsonlines\",\n",
    "    output_path=validation_output_jsonl_path\n",
    ")\n",
    "transformer.transform(validation_input_jsonl_path, content_type=\"application/jsonlines\")\n",
    "transformer.wait()"
   ]
  },
  {
   "cell_type": "code",
   "execution_count": 19,
   "metadata": {
    "tags": []
   },
   "outputs": [],
   "source": [
    "from urllib.parse import urlparse\n",
    "\n",
    "def process_s3_jsonlines_output_and_save(validation_file_name):\n",
    "\n",
    "    output_file_path = f\"{jsonl_output_dir}/{validation_file_name}.out\"\n",
    "    parsed_url = urlparse(transformer.output_path)\n",
    "    file_key = f\"{parsed_url.path[1:]}{validation_file_name}.out\"\n",
    "    response = s3_client.get_object(Bucket=s3_bucket, Key=file_key)\n",
    "\n",
    "    data = response[\"Body\"].read().decode(\"utf-8\")\n",
    "    print(data)\n",
    "\n",
    "    # Save the data to the output file\n",
    "    with open(output_file_path, 'w') as f_out:\n",
    "        for item in data.split('\\n'):\n",
    "            f_out.write(item + '\\n')"
   ]
  },
  {
   "cell_type": "code",
   "execution_count": 20,
   "metadata": {
    "tags": []
   },
   "outputs": [
    {
     "name": "stdout",
     "output_type": "stream",
     "text": [
      "{\"predictions\": [{\"begin\": 60, \"end\": 75, \"ner_chunk\": \"tumor suppressor\", \"ner_label\": \"ONCOLOGICAL\", \"ner_confidence\": \"0.6416\", \"concept_code\": \"8001/1\", \"resolution\": \"tumor cells\", \"score\": 0.7199416160583496, \"all_codes\": [\"8001/1\", \"8000/1\", \"8000/3\", \"8001/0\", \"8040/1\"], \"all_resolutions\": [\"tumor cells\", \"tumor\", \"cancer\", \"tumor cells, benign\", \"tumorlet\"], \"all_score\": [0.7199416160583496, 0.7053937911987305, 0.6986448764801025, 0.6981862783432007, 0.6867449879646301]}, {\"begin\": 85, \"end\": 97, \"ner_chunk\": \"breast cancer\", \"ner_label\": \"CANCER_DX\", \"ner_confidence\": \"0.98845005\", \"concept_code\": \"C50\", \"resolution\": \"breast\", \"score\": 0.83452969789505, \"all_codes\": [\"C50\", \"8010/3-C50.9\", \"8000/3-C50.9\", \"8010/6-C50.9\", \"8000/6-C50.9\"], \"all_resolutions\": [\"breast\", \"carcinoma, of breast\", \"neoplasm, malignant of breast\", \"carcinoma, metastatic, of breast\", \"neoplasm, metastatic of breast\"], \"all_score\": [0.83452969789505, 0.8012375831604004, 0.7926520109176636, 0.7858340740203857, 0.7723860144615173]}, {\"begin\": 102, \"end\": 125, \"ner_chunk\": \"hepatocellular carcinoma\", \"ner_label\": \"ONCOLOGICAL\", \"ner_confidence\": \"0.94219995\", \"concept_code\": \"8170/3\", \"resolution\": \"hepatocellular carcinoma\", \"score\": 1.0000007152557373, \"all_codes\": [\"8170/3\", \"8170/3\", \"8170/3\", \"8170/3-C22.0\", \"8170/3\"], \"all_resolutions\": [\"hepatocellular carcinoma\", \"hepatocarcinoma\", \"liver cell carcinoma\", \"hepatocellular carcinoma, of liver\", \"hepatoma\"], \"all_score\": [1.0000007152557373, 0.9132295250892639, 0.9028675556182861, 0.8793964385986328, 0.8304916024208069]}, {\"begin\": 130, \"end\": 146, \"ner_chunk\": \"colorectal cancer\", \"ner_label\": \"CANCER_DX\", \"ner_confidence\": \"0.95045\", \"concept_code\": \"8000/3-C18.7\", \"resolution\": \"neoplasm, malignant of sigmoid colon\", \"score\": 0.7804214358329773, \"all_codes\": [\"8000/3-C18.7\", \"8000/3-C20.9\", \"8000/3-C18.9\", \"8010/3-C20.9\", \"8010/3-C18.7\"], \"all_resolutions\": [\"neoplasm, malignant of sigmoid colon\", \"neoplasm, malignant of rectum\", \"neoplasm, malignant of colon\", \"carcinoma, of rectum\", \"carcinoma, of sigmoid colon\"], \"all_score\": [0.7804214358329773, 0.774956226348877, 0.7726189494132996, 0.768333911895752, 0.7663665413856506]}, {\"begin\": 152, \"end\": 172, \"ner_chunk\": \"parathyroid carcinoma\", \"ner_label\": \"CANCER_DX\", \"ner_confidence\": \"0.9448\", \"concept_code\": \"8010/3-C75.0\", \"resolution\": \"carcinoma, of parathyroid gland\", \"score\": 0.8783822059631348, \"all_codes\": [\"8010/3-C75.0\", \"8140/3-C75.0\", \"8012/3-C75.0\", \"8010/2-C75.0\", \"8021/3-C75.0\"], \"all_resolutions\": [\"carcinoma, of parathyroid gland\", \"adenocarcinoma, of parathyroid gland\", \"large cell carcinoma, of parathyroid gland\", \"carcinoma in situ, of parathyroid gland\", \"carcinoma, anaplastic, of parathyroid gland\"], \"all_score\": [0.8783822059631348, 0.84759122133255, 0.8344042301177979, 0.8302919268608093, 0.8257697820663452]}]}\n",
      "{\"predictions\": [{\"begin\": 45, \"end\": 51, \"ner_chunk\": \"cancers\", \"ner_label\": \"CANCER_DX\", \"ner_confidence\": \"0.999\", \"concept_code\": \"8000/3\", \"resolution\": \"cancer\", \"score\": 0.9521887302398682, \"all_codes\": [\"8000/3\", \"8000/3\", \"800\", \"8000/1\", \"8010/3\"], \"all_resolutions\": [\"cancer\", \"malignancy\", \"neoplasms\", \"tumor\", \"carcinoma\"], \"all_score\": [0.9521887302398682, 0.8422325253486633, 0.8076785802841187, 0.8068814873695374, 0.7948881387710571]}, {\"begin\": 64, \"end\": 77, \"ner_chunk\": \"bladder cancer\", \"ner_label\": \"CANCER_DX\", \"ner_confidence\": \"0.8811\", \"concept_code\": \"8120/3-C67.9\", \"resolution\": \"transitional cell carcinoma, of bladder\", \"score\": 0.8433964252471924, \"all_codes\": [\"8120/3-C67.9\", \"8120/3\", \"8010/3-C67.9\", \"8120/3\", \"8010/3-C67.5\"], \"all_resolutions\": [\"transitional cell carcinoma, of bladder\", \"transitional cell carcinoma\", \"carcinoma, of bladder\", \"urothelial carcinoma\", \"carcinoma, of bladder neck\"], \"all_score\": [0.8433964252471924, 0.8392457365989685, 0.8378653526306152, 0.8365463018417358, 0.8159494400024414]}, {\"begin\": 85, \"end\": 95, \"ner_chunk\": \"skin cancer\", \"ner_label\": \"CANCER_DX\", \"ner_confidence\": \"0.9893\", \"concept_code\": \"8010/3-C44.9\", \"resolution\": \"carcinoma, of skin\", \"score\": 0.8370699882507324, \"all_codes\": [\"8010/3-C44.9\", \"8090/3-C44.9\", \"8070/3-C44.9\", \"8090/3\", \"8091/3-C44.9\"], \"all_resolutions\": [\"carcinoma, of skin\", \"basal cell carcinoma, of skin\", \"squamous cell carcinoma, of skin\", \"basal cell carcinoma\", \"superficial basal cell carcinoma of skin\"], \"all_score\": [0.8370699882507324, 0.8152609467506409, 0.8104902505874634, 0.8076889514923096, 0.8042685985565186]}, {\"begin\": 164, \"end\": 168, \"ner_chunk\": \"tumor\", \"ner_label\": \"ONCOLOGICAL\", \"ner_confidence\": \"0.9592\", \"concept_code\": \"8000/1\", \"resolution\": \"tumor\", \"score\": 0.9999999403953552, \"all_codes\": [\"8000/1\", \"8000/3\", \"8000/0\", \"8001/1\", \"8000/3\"], \"all_resolutions\": [\"tumor\", \"tumor, malignant\", \"tumor, benign\", \"tumor cells\", \"cancer\"], \"all_score\": [0.9999999403953552, 0.8539251089096069, 0.8418221473693848, 0.841091513633728, 0.8308601379394531]}, {\"begin\": 222, \"end\": 239, \"ner_chunk\": \"endometrial cancer\", \"ner_label\": \"CANCER_DX\", \"ner_confidence\": \"0.9904\", \"concept_code\": \"8010/3-C54.1\", \"resolution\": \"carcinoma, of endometrium\", \"score\": 0.855223536491394, \"all_codes\": [\"8010/3-C54.1\", \"8930/3\", \"C54.1\", \"8000/3-C54.1\", \"8140/3-C54.1\"], \"all_resolutions\": [\"carcinoma, of endometrium\", \"endometrial sarcoma\", \"endometrium\", \"neoplasm, malignant of endometrium\", \"adenocarcinoma, of endometrium\"], \"all_score\": [0.855223536491394, 0.8523462414741516, 0.8431060910224915, 0.8426550626754761, 0.842502236366272]}, {\"begin\": 245, \"end\": 267, \"ner_chunk\": \"squamous cell carcinoma\", \"ner_label\": \"ONCOLOGICAL\", \"ner_confidence\": \"0.9479\", \"concept_code\": \"8070/3\", \"resolution\": \"squamous cell carcinoma\", \"score\": 1.0000001192092896, \"all_codes\": [\"8070/3\", \"8070/3\", \"805-808\", \"8052/0\", \"8070/3-C44.9\"], \"all_resolutions\": [\"squamous cell carcinoma\", \"squamous carcinoma\", \"squamous cell neoplasms\", \"squamous cell papilloma\", \"squamous cell carcinoma, of skin\"], \"all_score\": [1.0000001192092896, 0.9848157167434692, 0.9089497327804565, 0.879472017288208, 0.8730540871620178]}]}\n"
     ]
    }
   ],
   "source": [
    "process_s3_jsonlines_output_and_save(validation_jsonl_file_name)"
   ]
  },
  {
   "cell_type": "code",
   "execution_count": null,
   "metadata": {
    "tags": []
   },
   "outputs": [],
   "source": [
    "model.delete_model()"
   ]
  },
  {
   "cell_type": "markdown",
   "metadata": {},
   "source": [
    "### Unsubscribe to the listing (optional)"
   ]
  },
  {
   "cell_type": "markdown",
   "metadata": {
    "tags": []
   },
   "source": [
    "If you would like to unsubscribe to the model package, follow these steps. Before you cancel the subscription, ensure that you do not have any [deployable model](https://console.aws.amazon.com/sagemaker/home#/models) created from the model package or using the algorithm. Note - You can find this information by looking at the container name associated with the model. \n",
    "\n",
    "**Steps to unsubscribe to product from AWS Marketplace**:\n",
    "1. Navigate to __Machine Learning__ tab on [__Your Software subscriptions page__](https://aws.amazon.com/marketplace/ai/library?productType=ml&ref_=mlmp_gitdemo_indust)\n",
    "2. Locate the listing that you want to cancel the subscription for, and then choose __Cancel Subscription__  to cancel the subscription.\n",
    "\n"
   ]
  }
 ],
 "metadata": {
  "instance_type": "ml.t3.medium",
  "kernelspec": {
   "display_name": "conda_python3",
   "language": "python",
   "name": "conda_python3"
  },
  "language_info": {
   "codemirror_mode": {
    "name": "ipython",
    "version": 3
   },
   "file_extension": ".py",
   "mimetype": "text/x-python",
   "name": "python",
   "nbconvert_exporter": "python",
   "pygments_lexer": "ipython3",
   "version": "3.10.16"
  }
 },
 "nbformat": 4,
 "nbformat_minor": 4
}

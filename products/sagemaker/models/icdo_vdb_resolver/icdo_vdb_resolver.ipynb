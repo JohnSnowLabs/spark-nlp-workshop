{
 "cells": [
  {
   "cell_type": "markdown",
   "metadata": {},
   "source": [
    "## 1. Subscribe to the model package"
   ]
  },
  {
   "cell_type": "markdown",
   "metadata": {},
   "source": [
    "To subscribe to the model package:\n",
    "1. Open the model package listing page: [ICD-O Clinical Terminology Mapper](https://aws.amazon.com/marketplace/pp/prodview-n65m4efre6bpg)\n",
    "1. On the AWS Marketplace listing, click on the **Continue to subscribe** button.\n",
    "1. On the **Subscribe to this software** page, review and click on **\"Accept Offer\"** if you and your organization agrees with EULA, pricing, and support terms. \n",
    "1. Once you click on **Continue to configuration button** and then choose a **region**, you will see a **Product Arn** displayed. This is the model package ARN that you need to specify while creating a deployable model using Boto3. Copy the ARN corresponding to your region and specify the same in the following cell."
   ]
  },
  {
   "cell_type": "markdown",
   "metadata": {},
   "source": [
    "## ICD-O Clinical Terminology Mapper\n",
    "\n",
    "- **Model**: `icdo_vdb_resolver`\n",
    "- **Model Description**: This pretrained pipeline extracts oncological entities from clinical text and maps them to their corresponding ICD-O codes."
   ]
  },
  {
   "cell_type": "code",
   "execution_count": 24,
   "metadata": {
    "tags": []
   },
   "outputs": [],
   "source": [
    "model_package_arn = \"<Customer to specify Model package ARN corresponding to their AWS region>\""
   ]
  },
  {
   "cell_type": "code",
   "execution_count": 25,
   "metadata": {
    "tags": []
   },
   "outputs": [],
   "source": [
    "import json\n",
    "import os\n",
    "import boto3\n",
    "import pandas as pd\n",
    "import sagemaker as sage\n",
    "from sagemaker import ModelPackage\n",
    "from sagemaker import get_execution_role\n",
    "from IPython.display import display\n",
    "from urllib.parse import urlparse\n"
   ]
  },
  {
   "cell_type": "code",
   "execution_count": 26,
   "metadata": {
    "tags": []
   },
   "outputs": [],
   "source": [
    "sagemaker_session = sage.Session()\n",
    "s3_bucket = sagemaker_session.default_bucket()\n",
    "region = sagemaker_session.boto_region_name\n",
    "account_id = boto3.client(\"sts\").get_caller_identity().get(\"Account\")\n",
    "role = get_execution_role()\n",
    "\n",
    "sagemaker = boto3.client(\"sagemaker\")\n",
    "s3_client = sagemaker_session.boto_session.client(\"s3\")\n",
    "ecr = boto3.client(\"ecr\")\n",
    "sm_runtime = boto3.client(\"sagemaker-runtime\")\n",
    "\n",
    "# Set display options\n",
    "pd.set_option('display.max_rows', None)\n",
    "pd.set_option('display.max_columns', None)\n",
    "pd.set_option('display.max_colwidth', None)"
   ]
  },
  {
   "cell_type": "code",
   "execution_count": 27,
   "metadata": {
    "tags": []
   },
   "outputs": [],
   "source": [
    "model_name = \"icdo-vdb-resolver\"\n",
    "\n",
    "real_time_inference_instance_type = \"ml.m4.xlarge\"\n",
    "batch_transform_inference_instance_type = \"ml.m4.2xlarge\""
   ]
  },
  {
   "cell_type": "markdown",
   "metadata": {},
   "source": [
    "## 2. Create a deployable model from the model package."
   ]
  },
  {
   "cell_type": "code",
   "execution_count": 28,
   "metadata": {
    "tags": []
   },
   "outputs": [],
   "source": [
    "model = ModelPackage(\n",
    "    role=role, \n",
    "    model_package_arn=model_package_arn,\n",
    "    sagemaker_session=sagemaker_session,\n",
    ")"
   ]
  },
  {
   "cell_type": "markdown",
   "metadata": {},
   "source": [
    "### Input Format\n",
    "\n",
    "To use the model, you need to provide input in one of the following supported formats:\n",
    "\n",
    "#### JSON Format\n",
    "\n",
    "Provide input as JSON. We support two variations within this format:\n",
    "\n",
    "1. **Array of Text Documents**: \n",
    "   Use an array containing multiple text documents. Each element represents a separate text document.\n",
    "\n",
    "   ```json\n",
    "   {\n",
    "       \"text\": [\n",
    "           \"Text document 1\",\n",
    "           \"Text document 2\",\n",
    "           ...\n",
    "       ]\n",
    "   }\n",
    "\n",
    "    ```\n",
    "\n",
    "2. **Single Text Document**:\n",
    "   Provide a single text document as a string.\n",
    "\n",
    "\n",
    "   ```json\n",
    "    {\n",
    "        \"text\": \"Single text document\"\n",
    "    }\n",
    "   ```\n",
    "\n",
    "#### JSON Lines (JSONL) Format\n",
    "\n",
    "Provide input in JSON Lines format, where each line is a JSON object representing a text document.\n",
    "\n",
    "```\n",
    "{\"text\": \"Text document 1\"}\n",
    "{\"text\": \"Text document 2\"}\n",
    "```"
   ]
  },
  {
   "cell_type": "markdown",
   "metadata": {},
   "source": [
    "## 3. Create an endpoint and perform real-time inference"
   ]
  },
  {
   "cell_type": "markdown",
   "metadata": {},
   "source": [
    "If you want to understand how real-time inference with Amazon SageMaker works, see [Documentation](https://docs.aws.amazon.com/sagemaker/latest/dg/how-it-works-hosting.html)."
   ]
  },
  {
   "cell_type": "markdown",
   "metadata": {},
   "source": [
    "### A. Deploy the SageMaker model to an endpoint"
   ]
  },
  {
   "cell_type": "code",
   "execution_count": null,
   "metadata": {
    "tags": []
   },
   "outputs": [],
   "source": [
    "predictor = model.deploy(\n",
    "    initial_instance_count=1,\n",
    "    instance_type=real_time_inference_instance_type, \n",
    "    endpoint_name=model_name,\n",
    ")"
   ]
  },
  {
   "cell_type": "markdown",
   "metadata": {},
   "source": [
    "Once endpoint has been created, you would be able to perform real-time inference."
   ]
  },
  {
   "cell_type": "code",
   "execution_count": 30,
   "metadata": {
    "tags": []
   },
   "outputs": [],
   "source": [
    "def invoke_realtime_endpoint(record, content_type=\"application/json\", accept=\"application/json\"):\n",
    "    response = sm_runtime.invoke_endpoint(\n",
    "        EndpointName=model_name,\n",
    "        ContentType=content_type,\n",
    "        Accept=accept,\n",
    "        Body=json.dumps(record) if content_type == \"application/json\" else record,\n",
    "    )\n",
    "\n",
    "    response_body = response[\"Body\"].read().decode(\"utf-8\")\n",
    "\n",
    "    if accept == \"application/json\":\n",
    "        return json.loads(response_body)\n",
    "    elif accept == \"application/jsonlines\":\n",
    "        return response_body\n",
    "    else:\n",
    "        raise ValueError(f\"Unsupported accept type: {accept}\")"
   ]
  },
  {
   "cell_type": "markdown",
   "metadata": {},
   "source": [
    "### Initial Setup"
   ]
  },
  {
   "cell_type": "code",
   "execution_count": 31,
   "metadata": {
    "tags": []
   },
   "outputs": [],
   "source": [
    "docs = [\n",
    "    \"A few studies have demonstrated that ANGPTL1 functions as a tumor suppressor gene in breast cancer  , hepatocellular carcinoma  , colorectal cancer and parathyroid carcinoma.\", \n",
    "    \"TRAF6 is a putative oncogene in a variety of cancers including  bladder cancer , and skin cancer. WWP2 appears to regulate the expression of the well characterized tumor suppressor phosphatase and tensin homolog (PTEN) in endometrial cancer and squamous cell carcinoma.\",\n",
    "]\n",
    "\n",
    "sample_text = \"TRIM50 has only been shown to act as a tumor suppressor in hepatocellular carcinoma and ovary cancer. HOXA10 exerts an oncogenic role in several tumors endometrial adenocarcinoma .\""
   ]
  },
  {
   "cell_type": "markdown",
   "metadata": {},
   "source": [
    "### JSON"
   ]
  },
  {
   "cell_type": "code",
   "execution_count": 32,
   "metadata": {
    "tags": []
   },
   "outputs": [
    {
     "data": {
      "text/html": [
       "<div>\n",
       "<style scoped>\n",
       "    .dataframe tbody tr th:only-of-type {\n",
       "        vertical-align: middle;\n",
       "    }\n",
       "\n",
       "    .dataframe tbody tr th {\n",
       "        vertical-align: top;\n",
       "    }\n",
       "\n",
       "    .dataframe thead th {\n",
       "        text-align: right;\n",
       "    }\n",
       "</style>\n",
       "<table border=\"1\" class=\"dataframe\">\n",
       "  <thead>\n",
       "    <tr style=\"text-align: right;\">\n",
       "      <th></th>\n",
       "      <th>begin</th>\n",
       "      <th>end</th>\n",
       "      <th>ner_chunk</th>\n",
       "      <th>ner_label</th>\n",
       "      <th>ner_confidence</th>\n",
       "      <th>concept_code</th>\n",
       "      <th>resolution</th>\n",
       "      <th>score</th>\n",
       "      <th>all_codes</th>\n",
       "      <th>all_resolutions</th>\n",
       "      <th>all_score</th>\n",
       "    </tr>\n",
       "  </thead>\n",
       "  <tbody>\n",
       "    <tr>\n",
       "      <th>0</th>\n",
       "      <td>39</td>\n",
       "      <td>54</td>\n",
       "      <td>tumor suppressor</td>\n",
       "      <td>Oncological</td>\n",
       "      <td>0.76909995</td>\n",
       "      <td>8001/1</td>\n",
       "      <td>tumor cells</td>\n",
       "      <td>0.719942</td>\n",
       "      <td>[8001/1, 8000/1, 8000/3, 8001/0, 8040/1]</td>\n",
       "      <td>[tumor cells, tumor, cancer, tumor cells, benign, tumorlet]</td>\n",
       "      <td>[0.7199416756629944, 0.7053937911987305, 0.6986449956893921, 0.6981863379478455, 0.6867451667785645]</td>\n",
       "    </tr>\n",
       "    <tr>\n",
       "      <th>1</th>\n",
       "      <td>59</td>\n",
       "      <td>82</td>\n",
       "      <td>hepatocellular carcinoma</td>\n",
       "      <td>Cancer_dx</td>\n",
       "      <td>None</td>\n",
       "      <td>8170/3</td>\n",
       "      <td>hepatocellular carcinoma</td>\n",
       "      <td>1.000000</td>\n",
       "      <td>[8170/3, 8170/3, 8170/3, 8170/3-C22.0, 8170/3]</td>\n",
       "      <td>[hepatocellular carcinoma, hepatocarcinoma, liver cell carcinoma, hepatocellular carcinoma, of liver, hepatoma]</td>\n",
       "      <td>[1.0000004768371582, 0.9132293462753296, 0.9028671979904175, 0.8793962597846985, 0.8304914832115173]</td>\n",
       "    </tr>\n",
       "    <tr>\n",
       "      <th>2</th>\n",
       "      <td>88</td>\n",
       "      <td>99</td>\n",
       "      <td>ovary cancer</td>\n",
       "      <td>Cancer_dx</td>\n",
       "      <td>None</td>\n",
       "      <td>8010/3-C56.9</td>\n",
       "      <td>carcinoma, of ovary</td>\n",
       "      <td>0.840850</td>\n",
       "      <td>[8010/3-C56.9, 8140/3-C56.9, 8010/6-C56.9, 8000/3-C56.9, 8230/3-C56.9]</td>\n",
       "      <td>[carcinoma, of ovary, adenocarcinoma, of ovary, carcinoma, metastatic, of ovary, neoplasm, malignant of ovary, solid carcinoma, of ovary]</td>\n",
       "      <td>[0.8408499360084534, 0.8210016489028931, 0.8171762228012085, 0.8160241842269897, 0.8076353669166565]</td>\n",
       "    </tr>\n",
       "    <tr>\n",
       "      <th>3</th>\n",
       "      <td>145</td>\n",
       "      <td>177</td>\n",
       "      <td>tumors endometrial adenocarcinoma</td>\n",
       "      <td>Oncological</td>\n",
       "      <td>0.8207</td>\n",
       "      <td>8140/3-C54.1</td>\n",
       "      <td>adenocarcinoma, of endometrium</td>\n",
       "      <td>0.897595</td>\n",
       "      <td>[8140/3-C54.1, 8380/3, 8380/3-C54.1, 8380/3-C55.9, 8260/3-C54.1]</td>\n",
       "      <td>[adenocarcinoma, of endometrium, endometrioid adenocarcinoma, endometrioid adenocarcinoma, of endometrium, endometrioid adenocarcinoma, of uterus, papillary adenocarcinoma, of endometrium]</td>\n",
       "      <td>[0.8975948095321655, 0.8903557062149048, 0.8701358437538147, 0.8674242496490479, 0.8599061965942383]</td>\n",
       "    </tr>\n",
       "  </tbody>\n",
       "</table>\n",
       "</div>"
      ],
      "text/plain": [
       "   begin  end                          ner_chunk    ner_label ner_confidence  \\\n",
       "0     39   54                   tumor suppressor  Oncological     0.76909995   \n",
       "1     59   82           hepatocellular carcinoma    Cancer_dx           None   \n",
       "2     88   99                       ovary cancer    Cancer_dx           None   \n",
       "3    145  177  tumors endometrial adenocarcinoma  Oncological         0.8207   \n",
       "\n",
       "   concept_code                      resolution     score  \\\n",
       "0        8001/1                     tumor cells  0.719942   \n",
       "1        8170/3        hepatocellular carcinoma  1.000000   \n",
       "2  8010/3-C56.9             carcinoma, of ovary  0.840850   \n",
       "3  8140/3-C54.1  adenocarcinoma, of endometrium  0.897595   \n",
       "\n",
       "                                                                all_codes  \\\n",
       "0                                [8001/1, 8000/1, 8000/3, 8001/0, 8040/1]   \n",
       "1                          [8170/3, 8170/3, 8170/3, 8170/3-C22.0, 8170/3]   \n",
       "2  [8010/3-C56.9, 8140/3-C56.9, 8010/6-C56.9, 8000/3-C56.9, 8230/3-C56.9]   \n",
       "3        [8140/3-C54.1, 8380/3, 8380/3-C54.1, 8380/3-C55.9, 8260/3-C54.1]   \n",
       "\n",
       "                                                                                                                                                                                all_resolutions  \\\n",
       "0                                                                                                                                   [tumor cells, tumor, cancer, tumor cells, benign, tumorlet]   \n",
       "1                                                                               [hepatocellular carcinoma, hepatocarcinoma, liver cell carcinoma, hepatocellular carcinoma, of liver, hepatoma]   \n",
       "2                                                     [carcinoma, of ovary, adenocarcinoma, of ovary, carcinoma, metastatic, of ovary, neoplasm, malignant of ovary, solid carcinoma, of ovary]   \n",
       "3  [adenocarcinoma, of endometrium, endometrioid adenocarcinoma, endometrioid adenocarcinoma, of endometrium, endometrioid adenocarcinoma, of uterus, papillary adenocarcinoma, of endometrium]   \n",
       "\n",
       "                                                                                              all_score  \n",
       "0  [0.7199416756629944, 0.7053937911987305, 0.6986449956893921, 0.6981863379478455, 0.6867451667785645]  \n",
       "1  [1.0000004768371582, 0.9132293462753296, 0.9028671979904175, 0.8793962597846985, 0.8304914832115173]  \n",
       "2  [0.8408499360084534, 0.8210016489028931, 0.8171762228012085, 0.8160241842269897, 0.8076353669166565]  \n",
       "3  [0.8975948095321655, 0.8903557062149048, 0.8701358437538147, 0.8674242496490479, 0.8599061965942383]  "
      ]
     },
     "execution_count": 32,
     "metadata": {},
     "output_type": "execute_result"
    }
   ],
   "source": [
    "input_json_data = {\"text\": sample_text}\n",
    "response_json = invoke_realtime_endpoint(input_json_data, content_type=\"application/json\", accept=\"application/json\")\n",
    "pd.DataFrame(response_json[\"predictions\"][0])"
   ]
  },
  {
   "cell_type": "markdown",
   "metadata": {},
   "source": [
    "### JSON Lines"
   ]
  },
  {
   "cell_type": "code",
   "execution_count": 34,
   "metadata": {
    "tags": []
   },
   "outputs": [],
   "source": [
    "def create_jsonl(records):\n",
    "    if isinstance(records, str):\n",
    "        records = [records]\n",
    "    json_records = [{\"text\": text} for text in records]\n",
    "    json_lines = \"\\n\".join(json.dumps(record) for record in json_records)\n",
    "    return json_lines"
   ]
  },
  {
   "cell_type": "code",
   "execution_count": 35,
   "metadata": {
    "tags": []
   },
   "outputs": [
    {
     "name": "stdout",
     "output_type": "stream",
     "text": [
      "{\"predictions\": [{\"begin\": 39, \"end\": 54, \"ner_chunk\": \"tumor suppressor\", \"ner_label\": \"Oncological\", \"ner_confidence\": \"0.76909995\", \"concept_code\": \"8001/1\", \"resolution\": \"tumor cells\", \"score\": 0.7199416756629944, \"all_codes\": [\"8001/1\", \"8000/1\", \"8000/3\", \"8001/0\", \"8040/1\"], \"all_resolutions\": [\"tumor cells\", \"tumor\", \"cancer\", \"tumor cells, benign\", \"tumorlet\"], \"all_score\": [0.7199416756629944, 0.7053937911987305, 0.6986449956893921, 0.6981863379478455, 0.6867451667785645]}, {\"begin\": 59, \"end\": 82, \"ner_chunk\": \"hepatocellular carcinoma\", \"ner_label\": \"Cancer_dx\", \"ner_confidence\": null, \"concept_code\": \"8170/3\", \"resolution\": \"hepatocellular carcinoma\", \"score\": 1.0000004768371582, \"all_codes\": [\"8170/3\", \"8170/3\", \"8170/3\", \"8170/3-C22.0\", \"8170/3\"], \"all_resolutions\": [\"hepatocellular carcinoma\", \"hepatocarcinoma\", \"liver cell carcinoma\", \"hepatocellular carcinoma, of liver\", \"hepatoma\"], \"all_score\": [1.0000004768371582, 0.9132293462753296, 0.9028671979904175, 0.8793962597846985, 0.8304914832115173]}, {\"begin\": 88, \"end\": 99, \"ner_chunk\": \"ovary cancer\", \"ner_label\": \"Cancer_dx\", \"ner_confidence\": null, \"concept_code\": \"8010/3-C56.9\", \"resolution\": \"carcinoma, of ovary\", \"score\": 0.8408499360084534, \"all_codes\": [\"8010/3-C56.9\", \"8140/3-C56.9\", \"8010/6-C56.9\", \"8000/3-C56.9\", \"8230/3-C56.9\"], \"all_resolutions\": [\"carcinoma, of ovary\", \"adenocarcinoma, of ovary\", \"carcinoma, metastatic, of ovary\", \"neoplasm, malignant of ovary\", \"solid carcinoma, of ovary\"], \"all_score\": [0.8408499360084534, 0.8210016489028931, 0.8171762228012085, 0.8160241842269897, 0.8076353669166565]}, {\"begin\": 145, \"end\": 177, \"ner_chunk\": \"tumors endometrial adenocarcinoma\", \"ner_label\": \"Oncological\", \"ner_confidence\": \"0.8207\", \"concept_code\": \"8140/3-C54.1\", \"resolution\": \"adenocarcinoma, of endometrium\", \"score\": 0.8975948095321655, \"all_codes\": [\"8140/3-C54.1\", \"8380/3\", \"8380/3-C54.1\", \"8380/3-C55.9\", \"8260/3-C54.1\"], \"all_resolutions\": [\"adenocarcinoma, of endometrium\", \"endometrioid adenocarcinoma\", \"endometrioid adenocarcinoma, of endometrium\", \"endometrioid adenocarcinoma, of uterus\", \"papillary adenocarcinoma, of endometrium\"], \"all_score\": [0.8975948095321655, 0.8903557062149048, 0.8701358437538147, 0.8674242496490479, 0.8599061965942383]}]}\n"
     ]
    }
   ],
   "source": [
    "input_jsonl_data = create_jsonl(sample_text)\n",
    "data = invoke_realtime_endpoint(input_jsonl_data, content_type=\"application/jsonlines\" , accept=\"application/jsonlines\" )\n",
    "print(data)"
   ]
  },
  {
   "cell_type": "markdown",
   "metadata": {},
   "source": [
    "### B. Delete the endpoint"
   ]
  },
  {
   "cell_type": "markdown",
   "metadata": {},
   "source": [
    "Now that you have successfully performed a real-time inference, you do not need the endpoint any more. You can terminate the endpoint to avoid being charged."
   ]
  },
  {
   "cell_type": "code",
   "execution_count": null,
   "metadata": {
    "tags": []
   },
   "outputs": [],
   "source": [
    "model.sagemaker_session.delete_endpoint(model_name)\n",
    "model.sagemaker_session.delete_endpoint_config(model_name)"
   ]
  },
  {
   "cell_type": "markdown",
   "metadata": {
    "tags": []
   },
   "source": [
    "## 4. Batch inference"
   ]
  },
  {
   "cell_type": "code",
   "execution_count": 38,
   "metadata": {
    "tags": []
   },
   "outputs": [],
   "source": [
    "validation_json_file_name = \"input.json\"\n",
    "validation_jsonl_file_name = \"input.jsonl\"\n",
    "\n",
    "validation_input_json_path = f\"s3://{s3_bucket}/{model_name}/validation-input/json/\"\n",
    "validation_output_json_path = f\"s3://{s3_bucket}/{model_name}/validation-output/json/\"\n",
    "\n",
    "validation_input_jsonl_path = f\"s3://{s3_bucket}/{model_name}/validation-input/jsonl/\"\n",
    "validation_output_jsonl_path = f\"s3://{s3_bucket}/{model_name}/validation-output/jsonl/\"\n",
    "\n",
    "def upload_to_s3(input_data, file_name):\n",
    "    file_format = os.path.splitext(file_name)[1].lower()\n",
    "    s3_client.put_object(\n",
    "        Bucket=s3_bucket,\n",
    "        Key=f\"{model_name}/validation-input/{file_format[1:]}/{file_name}\",\n",
    "        Body=input_data.encode(\"UTF-8\"),\n",
    "    )"
   ]
  },
  {
   "cell_type": "code",
   "execution_count": 39,
   "metadata": {
    "tags": []
   },
   "outputs": [],
   "source": [
    "# Create JSON and JSON Lines data\n",
    "input_jsonl_data = create_jsonl(docs)\n",
    "input_json_data = json.dumps({\"text\": docs})\n",
    "\n",
    "# Upload JSON and JSON Lines data to S3\n",
    "upload_to_s3(input_json_data, validation_json_file_name)\n",
    "upload_to_s3(input_jsonl_data, validation_jsonl_file_name)"
   ]
  },
  {
   "cell_type": "markdown",
   "metadata": {
    "tags": []
   },
   "source": [
    "### JSON"
   ]
  },
  {
   "cell_type": "code",
   "execution_count": null,
   "metadata": {
    "tags": []
   },
   "outputs": [],
   "source": [
    "transformer = model.transformer(\n",
    "    instance_count=1,\n",
    "    instance_type=batch_transform_inference_instance_type,\n",
    "    accept=\"application/json\",\n",
    "    output_path=validation_output_json_path\n",
    ")\n",
    "\n",
    "transformer.transform(validation_input_json_path, content_type=\"application/json\")\n",
    "transformer.wait()"
   ]
  },
  {
   "cell_type": "code",
   "execution_count": null,
   "metadata": {
    "tags": []
   },
   "outputs": [],
   "source": [
    "def retrieve_json_output_from_s3(validation_file_name):\n",
    "    parsed_url = urlparse(transformer.output_path)\n",
    "    file_key = f\"{parsed_url.path[1:]}{validation_file_name}.out\"\n",
    "    response = s3_client.get_object(Bucket=s3_bucket, Key=file_key)\n",
    "\n",
    "    data = json.loads(response[\"Body\"].read().decode(\"utf-8\"))\n",
    "    display(data)"
   ]
  },
  {
   "cell_type": "code",
   "execution_count": 43,
   "metadata": {
    "tags": []
   },
   "outputs": [
    {
     "data": {
      "text/plain": [
       "{'predictions': [[{'begin': 60,\n",
       "    'end': 75,\n",
       "    'ner_chunk': 'tumor suppressor',\n",
       "    'ner_label': 'Oncological',\n",
       "    'ner_confidence': '0.6416',\n",
       "    'concept_code': '8001/1',\n",
       "    'resolution': 'tumor cells',\n",
       "    'score': 0.7199416160583496,\n",
       "    'all_codes': ['8001/1', '8000/1', '8000/3', '8001/0', '8040/1'],\n",
       "    'all_resolutions': ['tumor cells',\n",
       "     'tumor',\n",
       "     'cancer',\n",
       "     'tumor cells, benign',\n",
       "     'tumorlet'],\n",
       "    'all_score': [0.7199416160583496,\n",
       "     0.7053937911987305,\n",
       "     0.6986448764801025,\n",
       "     0.6981862783432007,\n",
       "     0.6867449879646301]},\n",
       "   {'begin': 85,\n",
       "    'end': 97,\n",
       "    'ner_chunk': 'breast cancer',\n",
       "    'ner_label': 'Cancer_dx',\n",
       "    'ner_confidence': None,\n",
       "    'concept_code': 'C50',\n",
       "    'resolution': 'breast',\n",
       "    'score': 0.83452969789505,\n",
       "    'all_codes': ['C50',\n",
       "     '8010/3-C50.9',\n",
       "     '8000/3-C50.9',\n",
       "     '8010/6-C50.9',\n",
       "     '8000/6-C50.9'],\n",
       "    'all_resolutions': ['breast',\n",
       "     'carcinoma, of breast',\n",
       "     'neoplasm, malignant of breast',\n",
       "     'carcinoma, metastatic, of breast',\n",
       "     'neoplasm, metastatic of breast'],\n",
       "    'all_score': [0.83452969789505,\n",
       "     0.8012375831604004,\n",
       "     0.7926520109176636,\n",
       "     0.7858340740203857,\n",
       "     0.7723860144615173]},\n",
       "   {'begin': 102,\n",
       "    'end': 125,\n",
       "    'ner_chunk': 'hepatocellular carcinoma',\n",
       "    'ner_label': 'Cancer_dx',\n",
       "    'ner_confidence': None,\n",
       "    'concept_code': '8170/3',\n",
       "    'resolution': 'hepatocellular carcinoma',\n",
       "    'score': 1.0000007152557373,\n",
       "    'all_codes': ['8170/3', '8170/3', '8170/3', '8170/3-C22.0', '8170/3'],\n",
       "    'all_resolutions': ['hepatocellular carcinoma',\n",
       "     'hepatocarcinoma',\n",
       "     'liver cell carcinoma',\n",
       "     'hepatocellular carcinoma, of liver',\n",
       "     'hepatoma'],\n",
       "    'all_score': [1.0000007152557373,\n",
       "     0.9132295250892639,\n",
       "     0.9028675556182861,\n",
       "     0.8793964385986328,\n",
       "     0.8304916024208069]},\n",
       "   {'begin': 130,\n",
       "    'end': 146,\n",
       "    'ner_chunk': 'colorectal cancer',\n",
       "    'ner_label': 'Cancer_dx',\n",
       "    'ner_confidence': None,\n",
       "    'concept_code': '8000/3-C18.7',\n",
       "    'resolution': 'neoplasm, malignant of sigmoid colon',\n",
       "    'score': 0.7804214358329773,\n",
       "    'all_codes': ['8000/3-C18.7',\n",
       "     '8000/3-C20.9',\n",
       "     '8000/3-C18.9',\n",
       "     '8010/3-C20.9',\n",
       "     '8010/3-C18.7'],\n",
       "    'all_resolutions': ['neoplasm, malignant of sigmoid colon',\n",
       "     'neoplasm, malignant of rectum',\n",
       "     'neoplasm, malignant of colon',\n",
       "     'carcinoma, of rectum',\n",
       "     'carcinoma, of sigmoid colon'],\n",
       "    'all_score': [0.7804214358329773,\n",
       "     0.774956226348877,\n",
       "     0.7726189494132996,\n",
       "     0.768333911895752,\n",
       "     0.7663665413856506]},\n",
       "   {'begin': 152,\n",
       "    'end': 172,\n",
       "    'ner_chunk': 'parathyroid carcinoma',\n",
       "    'ner_label': 'Oncological',\n",
       "    'ner_confidence': '0.8334',\n",
       "    'concept_code': '8010/3-C75.0',\n",
       "    'resolution': 'carcinoma, of parathyroid gland',\n",
       "    'score': 0.8783822059631348,\n",
       "    'all_codes': ['8010/3-C75.0',\n",
       "     '8140/3-C75.0',\n",
       "     '8012/3-C75.0',\n",
       "     '8010/2-C75.0',\n",
       "     '8021/3-C75.0'],\n",
       "    'all_resolutions': ['carcinoma, of parathyroid gland',\n",
       "     'adenocarcinoma, of parathyroid gland',\n",
       "     'large cell carcinoma, of parathyroid gland',\n",
       "     'carcinoma in situ, of parathyroid gland',\n",
       "     'carcinoma, anaplastic, of parathyroid gland'],\n",
       "    'all_score': [0.8783822059631348,\n",
       "     0.84759122133255,\n",
       "     0.8344042301177979,\n",
       "     0.8302919268608093,\n",
       "     0.8257697820663452]}],\n",
       "  [{'begin': 45,\n",
       "    'end': 51,\n",
       "    'ner_chunk': 'cancers',\n",
       "    'ner_label': 'Cancer_dx',\n",
       "    'ner_confidence': None,\n",
       "    'concept_code': '8000/3',\n",
       "    'resolution': 'cancer',\n",
       "    'score': 0.9521887302398682,\n",
       "    'all_codes': ['8000/3', '8000/3', '800', '8000/1', '8010/3'],\n",
       "    'all_resolutions': ['cancer',\n",
       "     'malignancy',\n",
       "     'neoplasms',\n",
       "     'tumor',\n",
       "     'carcinoma'],\n",
       "    'all_score': [0.9521887302398682,\n",
       "     0.8422325253486633,\n",
       "     0.8076785802841187,\n",
       "     0.8068814277648926,\n",
       "     0.7948881387710571]},\n",
       "   {'begin': 64,\n",
       "    'end': 77,\n",
       "    'ner_chunk': 'bladder cancer',\n",
       "    'ner_label': 'Cancer_dx',\n",
       "    'ner_confidence': None,\n",
       "    'concept_code': '8120/3-C67.9',\n",
       "    'resolution': 'transitional cell carcinoma, of bladder',\n",
       "    'score': 0.8433964252471924,\n",
       "    'all_codes': ['8120/3-C67.9',\n",
       "     '8120/3',\n",
       "     '8010/3-C67.9',\n",
       "     '8120/3',\n",
       "     '8010/3-C67.5'],\n",
       "    'all_resolutions': ['transitional cell carcinoma, of bladder',\n",
       "     'transitional cell carcinoma',\n",
       "     'carcinoma, of bladder',\n",
       "     'urothelial carcinoma',\n",
       "     'carcinoma, of bladder neck'],\n",
       "    'all_score': [0.8433964252471924,\n",
       "     0.8392457365989685,\n",
       "     0.8378653526306152,\n",
       "     0.8365463018417358,\n",
       "     0.8159494400024414]},\n",
       "   {'begin': 85,\n",
       "    'end': 95,\n",
       "    'ner_chunk': 'skin cancer',\n",
       "    'ner_label': 'Cancer_dx',\n",
       "    'ner_confidence': None,\n",
       "    'concept_code': '8010/3-C44.9',\n",
       "    'resolution': 'carcinoma, of skin',\n",
       "    'score': 0.8370699882507324,\n",
       "    'all_codes': ['8010/3-C44.9',\n",
       "     '8090/3-C44.9',\n",
       "     '8070/3-C44.9',\n",
       "     '8090/3',\n",
       "     '8091/3-C44.9'],\n",
       "    'all_resolutions': ['carcinoma, of skin',\n",
       "     'basal cell carcinoma, of skin',\n",
       "     'squamous cell carcinoma, of skin',\n",
       "     'basal cell carcinoma',\n",
       "     'superficial basal cell carcinoma of skin'],\n",
       "    'all_score': [0.8370699882507324,\n",
       "     0.8152609467506409,\n",
       "     0.8104902505874634,\n",
       "     0.8076889514923096,\n",
       "     0.8042685985565186]},\n",
       "   {'begin': 164,\n",
       "    'end': 168,\n",
       "    'ner_chunk': 'tumor',\n",
       "    'ner_label': 'Oncological',\n",
       "    'ner_confidence': '0.9592',\n",
       "    'concept_code': '8000/1',\n",
       "    'resolution': 'tumor',\n",
       "    'score': 0.9999999403953552,\n",
       "    'all_codes': ['8000/1', '8000/3', '8000/0', '8001/1', '8000/3'],\n",
       "    'all_resolutions': ['tumor',\n",
       "     'tumor, malignant',\n",
       "     'tumor, benign',\n",
       "     'tumor cells',\n",
       "     'cancer'],\n",
       "    'all_score': [0.9999999403953552,\n",
       "     0.8539251089096069,\n",
       "     0.8418221473693848,\n",
       "     0.841091513633728,\n",
       "     0.8308601379394531]},\n",
       "   {'begin': 222,\n",
       "    'end': 239,\n",
       "    'ner_chunk': 'endometrial cancer',\n",
       "    'ner_label': 'Cancer_dx',\n",
       "    'ner_confidence': None,\n",
       "    'concept_code': '8010/3-C54.1',\n",
       "    'resolution': 'carcinoma, of endometrium',\n",
       "    'score': 0.855223536491394,\n",
       "    'all_codes': ['8010/3-C54.1',\n",
       "     '8930/3',\n",
       "     'C54.1',\n",
       "     '8000/3-C54.1',\n",
       "     '8140/3-C54.1'],\n",
       "    'all_resolutions': ['carcinoma, of endometrium',\n",
       "     'endometrial sarcoma',\n",
       "     'endometrium',\n",
       "     'neoplasm, malignant of endometrium',\n",
       "     'adenocarcinoma, of endometrium'],\n",
       "    'all_score': [0.855223536491394,\n",
       "     0.8523462414741516,\n",
       "     0.8431060910224915,\n",
       "     0.8426550626754761,\n",
       "     0.842502236366272]},\n",
       "   {'begin': 245,\n",
       "    'end': 267,\n",
       "    'ner_chunk': 'squamous cell carcinoma',\n",
       "    'ner_label': 'Cancer_dx',\n",
       "    'ner_confidence': None,\n",
       "    'concept_code': '8070/3',\n",
       "    'resolution': 'squamous cell carcinoma',\n",
       "    'score': 1.0,\n",
       "    'all_codes': ['8070/3', '8070/3', '805-808', '8052/0', '8070/3-C44.9'],\n",
       "    'all_resolutions': ['squamous cell carcinoma',\n",
       "     'squamous carcinoma',\n",
       "     'squamous cell neoplasms',\n",
       "     'squamous cell papilloma',\n",
       "     'squamous cell carcinoma, of skin'],\n",
       "    'all_score': [1.0,\n",
       "     0.9848157167434692,\n",
       "     0.9089496731758118,\n",
       "     0.8794718980789185,\n",
       "     0.873054027557373]}]]}"
      ]
     },
     "metadata": {},
     "output_type": "display_data"
    }
   ],
   "source": [
    "retrieve_json_output_from_s3(validation_json_file_name)"
   ]
  },
  {
   "cell_type": "markdown",
   "metadata": {},
   "source": [
    "### JSON Lines"
   ]
  },
  {
   "cell_type": "code",
   "execution_count": null,
   "metadata": {
    "tags": []
   },
   "outputs": [],
   "source": [
    "transformer = model.transformer(\n",
    "    instance_count=1,\n",
    "    instance_type=batch_transform_inference_instance_type,\n",
    "    accept=\"application/jsonlines\",\n",
    "    output_path=validation_output_jsonl_path\n",
    ")\n",
    "transformer.transform(validation_input_jsonl_path, content_type=\"application/jsonlines\")\n",
    "transformer.wait()"
   ]
  },
  {
   "cell_type": "code",
   "execution_count": null,
   "metadata": {
    "tags": []
   },
   "outputs": [],
   "source": [
    "def retrieve_jsonlines_output_from_s3(validation_file_name):\n",
    "\n",
    "    parsed_url = urlparse(transformer.output_path)\n",
    "    file_key = f\"{parsed_url.path[1:]}{validation_file_name}.out\"\n",
    "    response = s3_client.get_object(Bucket=s3_bucket, Key=file_key)\n",
    "\n",
    "    data = response[\"Body\"].read().decode(\"utf-8\")\n",
    "    print(data)"
   ]
  },
  {
   "cell_type": "code",
   "execution_count": 46,
   "metadata": {
    "tags": []
   },
   "outputs": [
    {
     "name": "stdout",
     "output_type": "stream",
     "text": [
      "{\"predictions\": [{\"begin\": 60, \"end\": 75, \"ner_chunk\": \"tumor suppressor\", \"ner_label\": \"Oncological\", \"ner_confidence\": \"0.6416\", \"concept_code\": \"8001/1\", \"resolution\": \"tumor cells\", \"score\": 0.7199416160583496, \"all_codes\": [\"8001/1\", \"8000/1\", \"8000/3\", \"8001/0\", \"8040/1\"], \"all_resolutions\": [\"tumor cells\", \"tumor\", \"cancer\", \"tumor cells, benign\", \"tumorlet\"], \"all_score\": [0.7199416160583496, 0.7053937911987305, 0.6986448764801025, 0.6981862783432007, 0.6867449879646301]}, {\"begin\": 85, \"end\": 97, \"ner_chunk\": \"breast cancer\", \"ner_label\": \"Cancer_dx\", \"ner_confidence\": null, \"concept_code\": \"C50\", \"resolution\": \"breast\", \"score\": 0.83452969789505, \"all_codes\": [\"C50\", \"8010/3-C50.9\", \"8000/3-C50.9\", \"8010/6-C50.9\", \"8000/6-C50.9\"], \"all_resolutions\": [\"breast\", \"carcinoma, of breast\", \"neoplasm, malignant of breast\", \"carcinoma, metastatic, of breast\", \"neoplasm, metastatic of breast\"], \"all_score\": [0.83452969789505, 0.8012375831604004, 0.7926520109176636, 0.7858340740203857, 0.7723860144615173]}, {\"begin\": 102, \"end\": 125, \"ner_chunk\": \"hepatocellular carcinoma\", \"ner_label\": \"Cancer_dx\", \"ner_confidence\": null, \"concept_code\": \"8170/3\", \"resolution\": \"hepatocellular carcinoma\", \"score\": 1.0000007152557373, \"all_codes\": [\"8170/3\", \"8170/3\", \"8170/3\", \"8170/3-C22.0\", \"8170/3\"], \"all_resolutions\": [\"hepatocellular carcinoma\", \"hepatocarcinoma\", \"liver cell carcinoma\", \"hepatocellular carcinoma, of liver\", \"hepatoma\"], \"all_score\": [1.0000007152557373, 0.9132295250892639, 0.9028675556182861, 0.8793964385986328, 0.8304916024208069]}, {\"begin\": 130, \"end\": 146, \"ner_chunk\": \"colorectal cancer\", \"ner_label\": \"Cancer_dx\", \"ner_confidence\": null, \"concept_code\": \"8000/3-C18.7\", \"resolution\": \"neoplasm, malignant of sigmoid colon\", \"score\": 0.7804214358329773, \"all_codes\": [\"8000/3-C18.7\", \"8000/3-C20.9\", \"8000/3-C18.9\", \"8010/3-C20.9\", \"8010/3-C18.7\"], \"all_resolutions\": [\"neoplasm, malignant of sigmoid colon\", \"neoplasm, malignant of rectum\", \"neoplasm, malignant of colon\", \"carcinoma, of rectum\", \"carcinoma, of sigmoid colon\"], \"all_score\": [0.7804214358329773, 0.774956226348877, 0.7726189494132996, 0.768333911895752, 0.7663665413856506]}, {\"begin\": 152, \"end\": 172, \"ner_chunk\": \"parathyroid carcinoma\", \"ner_label\": \"Oncological\", \"ner_confidence\": \"0.8334\", \"concept_code\": \"8010/3-C75.0\", \"resolution\": \"carcinoma, of parathyroid gland\", \"score\": 0.8783822059631348, \"all_codes\": [\"8010/3-C75.0\", \"8140/3-C75.0\", \"8012/3-C75.0\", \"8010/2-C75.0\", \"8021/3-C75.0\"], \"all_resolutions\": [\"carcinoma, of parathyroid gland\", \"adenocarcinoma, of parathyroid gland\", \"large cell carcinoma, of parathyroid gland\", \"carcinoma in situ, of parathyroid gland\", \"carcinoma, anaplastic, of parathyroid gland\"], \"all_score\": [0.8783822059631348, 0.84759122133255, 0.8344042301177979, 0.8302919268608093, 0.8257697820663452]}]}\n",
      "{\"predictions\": [{\"begin\": 45, \"end\": 51, \"ner_chunk\": \"cancers\", \"ner_label\": \"Cancer_dx\", \"ner_confidence\": null, \"concept_code\": \"8000/3\", \"resolution\": \"cancer\", \"score\": 0.9521887302398682, \"all_codes\": [\"8000/3\", \"8000/3\", \"800\", \"8000/1\", \"8010/3\"], \"all_resolutions\": [\"cancer\", \"malignancy\", \"neoplasms\", \"tumor\", \"carcinoma\"], \"all_score\": [0.9521887302398682, 0.8422325253486633, 0.8076785802841187, 0.8068814277648926, 0.7948881387710571]}, {\"begin\": 64, \"end\": 77, \"ner_chunk\": \"bladder cancer\", \"ner_label\": \"Cancer_dx\", \"ner_confidence\": null, \"concept_code\": \"8120/3-C67.9\", \"resolution\": \"transitional cell carcinoma, of bladder\", \"score\": 0.8433964252471924, \"all_codes\": [\"8120/3-C67.9\", \"8120/3\", \"8010/3-C67.9\", \"8120/3\", \"8010/3-C67.5\"], \"all_resolutions\": [\"transitional cell carcinoma, of bladder\", \"transitional cell carcinoma\", \"carcinoma, of bladder\", \"urothelial carcinoma\", \"carcinoma, of bladder neck\"], \"all_score\": [0.8433964252471924, 0.8392457365989685, 0.8378653526306152, 0.8365463018417358, 0.8159494400024414]}, {\"begin\": 85, \"end\": 95, \"ner_chunk\": \"skin cancer\", \"ner_label\": \"Cancer_dx\", \"ner_confidence\": null, \"concept_code\": \"8010/3-C44.9\", \"resolution\": \"carcinoma, of skin\", \"score\": 0.8370699882507324, \"all_codes\": [\"8010/3-C44.9\", \"8090/3-C44.9\", \"8070/3-C44.9\", \"8090/3\", \"8091/3-C44.9\"], \"all_resolutions\": [\"carcinoma, of skin\", \"basal cell carcinoma, of skin\", \"squamous cell carcinoma, of skin\", \"basal cell carcinoma\", \"superficial basal cell carcinoma of skin\"], \"all_score\": [0.8370699882507324, 0.8152609467506409, 0.8104902505874634, 0.8076889514923096, 0.8042685985565186]}, {\"begin\": 164, \"end\": 168, \"ner_chunk\": \"tumor\", \"ner_label\": \"Oncological\", \"ner_confidence\": \"0.9592\", \"concept_code\": \"8000/1\", \"resolution\": \"tumor\", \"score\": 0.9999999403953552, \"all_codes\": [\"8000/1\", \"8000/3\", \"8000/0\", \"8001/1\", \"8000/3\"], \"all_resolutions\": [\"tumor\", \"tumor, malignant\", \"tumor, benign\", \"tumor cells\", \"cancer\"], \"all_score\": [0.9999999403953552, 0.8539251089096069, 0.8418221473693848, 0.841091513633728, 0.8308601379394531]}, {\"begin\": 222, \"end\": 239, \"ner_chunk\": \"endometrial cancer\", \"ner_label\": \"Cancer_dx\", \"ner_confidence\": null, \"concept_code\": \"8010/3-C54.1\", \"resolution\": \"carcinoma, of endometrium\", \"score\": 0.855223536491394, \"all_codes\": [\"8010/3-C54.1\", \"8930/3\", \"C54.1\", \"8000/3-C54.1\", \"8140/3-C54.1\"], \"all_resolutions\": [\"carcinoma, of endometrium\", \"endometrial sarcoma\", \"endometrium\", \"neoplasm, malignant of endometrium\", \"adenocarcinoma, of endometrium\"], \"all_score\": [0.855223536491394, 0.8523462414741516, 0.8431060910224915, 0.8426550626754761, 0.842502236366272]}, {\"begin\": 245, \"end\": 267, \"ner_chunk\": \"squamous cell carcinoma\", \"ner_label\": \"Cancer_dx\", \"ner_confidence\": null, \"concept_code\": \"8070/3\", \"resolution\": \"squamous cell carcinoma\", \"score\": 1.0, \"all_codes\": [\"8070/3\", \"8070/3\", \"805-808\", \"8052/0\", \"8070/3-C44.9\"], \"all_resolutions\": [\"squamous cell carcinoma\", \"squamous carcinoma\", \"squamous cell neoplasms\", \"squamous cell papilloma\", \"squamous cell carcinoma, of skin\"], \"all_score\": [1.0, 0.9848157167434692, 0.9089496731758118, 0.8794718980789185, 0.873054027557373]}]}\n"
     ]
    }
   ],
   "source": [
    "retrieve_jsonlines_output_from_s3(validation_jsonl_file_name)"
   ]
  },
  {
   "cell_type": "code",
   "execution_count": 47,
   "metadata": {
    "tags": []
   },
   "outputs": [
    {
     "name": "stderr",
     "output_type": "stream",
     "text": [
      "INFO:sagemaker:Deleting model with name: icdo-vdb-resolver-2025-08-15-14-41-12-751\n"
     ]
    }
   ],
   "source": [
    "model.delete_model()"
   ]
  },
  {
   "cell_type": "markdown",
   "metadata": {},
   "source": [
    "### Unsubscribe to the listing (optional)"
   ]
  },
  {
   "cell_type": "markdown",
   "metadata": {
    "tags": []
   },
   "source": [
    "If you would like to unsubscribe to the model package, follow these steps. Before you cancel the subscription, ensure that you do not have any [deployable model](https://console.aws.amazon.com/sagemaker/home#/models) created from the model package or using the algorithm. Note - You can find this information by looking at the container name associated with the model. \n",
    "\n",
    "**Steps to unsubscribe to product from AWS Marketplace**:\n",
    "1. Navigate to __Machine Learning__ tab on [__Your Software subscriptions page__](https://aws.amazon.com/marketplace/ai/library?productType=ml&ref_=mlmp_gitdemo_indust)\n",
    "2. Locate the listing that you want to cancel the subscription for, and then choose __Cancel Subscription__  to cancel the subscription.\n",
    "\n"
   ]
  }
 ],
 "metadata": {
  "instance_type": "ml.t3.medium",
  "kernelspec": {
   "display_name": "conda_python3",
   "language": "python",
   "name": "conda_python3"
  },
  "language_info": {
   "codemirror_mode": {
    "name": "ipython",
    "version": 3
   },
   "file_extension": ".py",
   "mimetype": "text/x-python",
   "name": "python",
   "nbconvert_exporter": "python",
   "pygments_lexer": "ipython3",
   "version": "3.10.18"
  }
 },
 "nbformat": 4,
 "nbformat_minor": 4
}

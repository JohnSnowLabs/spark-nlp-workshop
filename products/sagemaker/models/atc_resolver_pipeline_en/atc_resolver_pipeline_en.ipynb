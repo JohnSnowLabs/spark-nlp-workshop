{
 "cells": [
  {
   "cell_type": "markdown",
   "metadata": {},
   "source": [
    "## 1. Subscribe to the model package"
   ]
  },
  {
   "cell_type": "markdown",
   "metadata": {},
   "source": [
    "To subscribe to the model package:\n",
    "1. Open the model package listing page <font color='red'> For Seller to update:[Title_of_your_product](Provide link to your marketplace listing of your product).</font>\n",
    "1. On the AWS Marketplace listing, click on the **Continue to subscribe** button.\n",
    "1. On the **Subscribe to this software** page, review and click on **\"Accept Offer\"** if you and your organization agrees with EULA, pricing, and support terms. \n",
    "1. Once you click on **Continue to configuration button** and then choose a **region**, you will see a **Product Arn** displayed. This is the model package ARN that you need to specify while creating a deployable model using Boto3. Copy the ARN corresponding to your region and specify the same in the following cell."
   ]
  },
  {
   "cell_type": "markdown",
   "metadata": {},
   "source": [
    "## Pipeline for Anatomic Therapeutic Chemical (ATC) Sentence Entity Resolver\n",
    "\n",
    "- **Model**: `atc_resolver_pipeline_en`\n",
    "- **Model Description**: This advanced pipeline extracts `DRUG` entities from clinical texts and utilizes the `sbiobert_base_cased_mli` Sentence Bert Embeddings to map these entities to their corresponding Anatomic Therapeutic Chemical (ATC) codes."
   ]
  },
  {
   "cell_type": "code",
   "execution_count": 1,
   "metadata": {
    "tags": []
   },
   "outputs": [],
   "source": [
    "model_package_arn = \"<Customer to specify Model package ARN corresponding to their AWS region>\""
   ]
  },
  {
   "cell_type": "code",
   "execution_count": 2,
   "metadata": {
    "tags": []
   },
   "outputs": [
    {
     "name": "stderr",
     "output_type": "stream",
     "text": [
      "/home/ec2-user/anaconda3/envs/python3/lib/python3.10/site-packages/sagemaker/base_serializers.py:28: UserWarning: A NumPy version >=1.23.5 and <2.3.0 is required for this version of SciPy (detected version 1.22.4)\n",
      "  import scipy.sparse\n"
     ]
    },
    {
     "name": "stdout",
     "output_type": "stream",
     "text": [
      "sagemaker.config INFO - Not applying SDK defaults from location: /etc/xdg/sagemaker/config.yaml\n",
      "sagemaker.config INFO - Not applying SDK defaults from location: /home/ec2-user/.config/sagemaker/config.yaml\n"
     ]
    }
   ],
   "source": [
    "import base64\n",
    "import json\n",
    "import uuid\n",
    "from sagemaker import ModelPackage\n",
    "import sagemaker as sage\n",
    "from sagemaker import get_execution_role\n",
    "import boto3\n",
    "from IPython.display import Image, display\n",
    "from PIL import Image as ImageEdit\n",
    "import numpy as np"
   ]
  },
  {
   "cell_type": "code",
   "execution_count": 3,
   "metadata": {
    "tags": []
   },
   "outputs": [],
   "source": [
    "sagemaker_session = sage.Session()\n",
    "s3_bucket = sagemaker_session.default_bucket()\n",
    "region = sagemaker_session.boto_region_name\n",
    "account_id = boto3.client(\"sts\").get_caller_identity().get(\"Account\")\n",
    "role = get_execution_role()\n",
    "\n",
    "sagemaker = boto3.client(\"sagemaker\")\n",
    "s3_client = sagemaker_session.boto_session.client(\"s3\")\n",
    "ecr = boto3.client(\"ecr\")\n",
    "sm_runtime = boto3.client(\"sagemaker-runtime\")"
   ]
  },
  {
   "cell_type": "code",
   "execution_count": 4,
   "metadata": {
    "tags": []
   },
   "outputs": [],
   "source": [
    "model_name = \"atc-resolver-pipeline-en\"\n",
    "\n",
    "real_time_inference_instance_type = \"ml.m4.xlarge\"\n",
    "batch_transform_inference_instance_type = \"ml.m4.2xlarge\"\n"
   ]
  },
  {
   "cell_type": "markdown",
   "metadata": {},
   "source": [
    "## 2. Create a deployable model from the model package."
   ]
  },
  {
   "cell_type": "code",
   "execution_count": 5,
   "metadata": {
    "tags": []
   },
   "outputs": [],
   "source": [
    "# create a deployable model from the model package.\n",
    "model = ModelPackage(\n",
    "    role=role, \n",
    "    model_package_arn=model_package_arn,\n",
    "    sagemaker_session=sagemaker_session,\n",
    ")\n"
   ]
  },
  {
   "cell_type": "markdown",
   "metadata": {},
   "source": [
    "### Input Format\n",
    "\n",
    "To use the model, you need to provide input in one of the following supported formats:\n",
    "\n",
    "#### JSON Format\n",
    "\n",
    "Provide input as JSON. We support two variations within this format:\n",
    "\n",
    "1. **Array of Text Documents**: \n",
    "   Use an array containing multiple text documents. Each element represents a separate text document.\n",
    "\n",
    "   ```json\n",
    "   {\n",
    "       \"text\": [\n",
    "           \"Text document 1\",\n",
    "           \"Text document 2\",\n",
    "           ...\n",
    "       ]\n",
    "   }\n",
    "\n",
    "    ```\n",
    "\n",
    "2. **Single Text Document**:\n",
    "   Provide a single text document as a string.\n",
    "\n",
    "\n",
    "   ```json\n",
    "    {\n",
    "        \"text\": \"Single text document\"\n",
    "    }\n",
    "   ```\n",
    "\n",
    "#### JSON Lines (JSONL) Format\n",
    "\n",
    "Provide input in JSON Lines format, where each line is a JSON object representing a text document.\n",
    "\n",
    "```\n",
    "{\"text\": \"Text document 1\"}\n",
    "{\"text\": \"Text document 2\"}\n",
    "```"
   ]
  },
  {
   "cell_type": "markdown",
   "metadata": {},
   "source": [
    "## 3. Create an endpoint and perform real-time inference"
   ]
  },
  {
   "cell_type": "markdown",
   "metadata": {},
   "source": [
    "If you want to understand how real-time inference with Amazon SageMaker works, see [Documentation](https://docs.aws.amazon.com/sagemaker/latest/dg/how-it-works-hosting.html)."
   ]
  },
  {
   "cell_type": "markdown",
   "metadata": {},
   "source": [
    "### A. Deploy the SageMaker model to an endpoint"
   ]
  },
  {
   "cell_type": "code",
   "execution_count": 6,
   "metadata": {
    "tags": []
   },
   "outputs": [
    {
     "name": "stdout",
     "output_type": "stream",
     "text": [
      "---------!"
     ]
    }
   ],
   "source": [
    "# Deploy the model\n",
    "predictor = model.deploy(\n",
    "    initial_instance_count=1,\n",
    "    instance_type=real_time_inference_instance_type, \n",
    "    endpoint_name=model_name,\n",
    ")"
   ]
  },
  {
   "cell_type": "markdown",
   "metadata": {},
   "source": [
    "Once endpoint has been created, you would be able to perform real-time inference."
   ]
  },
  {
   "cell_type": "code",
   "execution_count": 7,
   "metadata": {
    "tags": []
   },
   "outputs": [],
   "source": [
    "import json\n",
    "import pandas as pd\n",
    "import os\n",
    "import boto3\n",
    "\n",
    "# Set display options\n",
    "pd.set_option('display.max_rows', None)\n",
    "pd.set_option('display.max_columns', None)\n",
    "pd.set_option('display.max_colwidth', None)\n",
    "\n",
    "\n",
    "def process_data_and_invoke_realtime_endpoint(data, content_type, accept):\n",
    "\n",
    "    content_type_to_format = {'application/json': 'json', 'application/jsonlines': 'jsonl'}\n",
    "    input_format = content_type_to_format.get(content_type)\n",
    "    if content_type not in content_type_to_format.keys() or accept not in content_type_to_format.keys():\n",
    "        raise ValueError(\"Invalid content_type or accept. It should be either 'application/json' or 'application/jsonlines'.\")\n",
    "\n",
    "    i = 1\n",
    "    input_dir = f'inputs/real-time/{input_format}'\n",
    "    output_dir = f'outputs/real-time/{input_format}'\n",
    "    s3_input_dir = f\"{model_name}/validation-input/real-time/{input_format}\"\n",
    "    s3_output_dir = f\"{model_name}/validation-output/real-time/{input_format}\"\n",
    "\n",
    "    input_file_name = f'{input_dir}/input{i}.{input_format}'\n",
    "    output_file_name = f'{output_dir}/{os.path.basename(input_file_name)}.out'\n",
    "\n",
    "    while os.path.exists(input_file_name) or os.path.exists(output_file_name):\n",
    "        i += 1\n",
    "        input_file_name = f'{input_dir}/input{i}.{input_format}'\n",
    "        output_file_name = f'{output_dir}/{os.path.basename(input_file_name)}.out'\n",
    "\n",
    "    os.makedirs(os.path.dirname(input_file_name), exist_ok=True)\n",
    "    os.makedirs(os.path.dirname(output_file_name), exist_ok=True)\n",
    "\n",
    "    input_data = json.dumps(data) if content_type == 'application/json' else data\n",
    "\n",
    "    # Write input data to file\n",
    "    with open(input_file_name, 'w') as f:\n",
    "        f.write(input_data)\n",
    "\n",
    "    # Upload input data to S3\n",
    "    s3_client.put_object(Bucket=s3_bucket, Key=f\"{s3_input_dir}/{os.path.basename(input_file_name)}\", Body=bytes(input_data.encode('UTF-8')))\n",
    "\n",
    "    # Invoke the SageMaker endpoint\n",
    "    response = sm_runtime.invoke_endpoint(\n",
    "        EndpointName=model_name,\n",
    "        ContentType=content_type,\n",
    "        Accept=accept,\n",
    "        Body=input_data,\n",
    "    )\n",
    "\n",
    "    # Read response data\n",
    "    response_data = json.loads(response[\"Body\"].read().decode(\"utf-8\")) if accept == 'application/json' else response['Body'].read().decode('utf-8')\n",
    "\n",
    "    # Save response data to file\n",
    "    with open(output_file_name, 'w') as f_out:\n",
    "        if accept == 'application/json':\n",
    "            json.dump(response_data, f_out, indent=4)\n",
    "        else:\n",
    "            for item in response_data.split('\\n'):\n",
    "                f_out.write(item + '\\n')\n",
    "\n",
    "    # Upload response data to S3\n",
    "    output_s3_key = f\"{s3_output_dir}/{os.path.basename(output_file_name)}\"\n",
    "    if accept == 'application/json':\n",
    "        s3_client.put_object(Bucket=s3_bucket, Key=output_s3_key, Body=json.dumps(response_data).encode('UTF-8'))\n",
    "    else:\n",
    "        s3_client.put_object(Bucket=s3_bucket, Key=output_s3_key, Body=response_data)\n",
    "\n",
    "    return response_data"
   ]
  },
  {
   "cell_type": "markdown",
   "metadata": {},
   "source": [
    "### Initial Setup"
   ]
  },
  {
   "cell_type": "code",
   "execution_count": 8,
   "metadata": {
    "tags": []
   },
   "outputs": [],
   "source": [
    "docs = [\n",
    "    \"\"\"He was seen by the endocrinology service and she was discharged on eltrombopag at night, amlodipine with meals metformin two times a day.\"\"\",\n",
    "    \"\"\"She was given antidepressant for a month\"\"\",\n",
    "]\n",
    "\n",
    "\n",
    "sample_text = \"\"\"She was immediately given hydrogen peroxide 30 mg and amoxicillin twice daily for 10 days to treat the infection on her leg. She has a history of taking magnesium hydroxide.\"\"\""
   ]
  },
  {
   "cell_type": "markdown",
   "metadata": {},
   "source": [
    "### JSON"
   ]
  },
  {
   "cell_type": "code",
   "execution_count": 9,
   "metadata": {
    "tags": []
   },
   "outputs": [
    {
     "data": {
      "text/html": [
       "<div>\n",
       "<style scoped>\n",
       "    .dataframe tbody tr th:only-of-type {\n",
       "        vertical-align: middle;\n",
       "    }\n",
       "\n",
       "    .dataframe tbody tr th {\n",
       "        vertical-align: top;\n",
       "    }\n",
       "\n",
       "    .dataframe thead th {\n",
       "        text-align: right;\n",
       "    }\n",
       "</style>\n",
       "<table border=\"1\" class=\"dataframe\">\n",
       "  <thead>\n",
       "    <tr style=\"text-align: right;\">\n",
       "      <th></th>\n",
       "      <th>ner_chunk</th>\n",
       "      <th>begin</th>\n",
       "      <th>end</th>\n",
       "      <th>ner_label</th>\n",
       "      <th>ner_confidence</th>\n",
       "      <th>code</th>\n",
       "      <th>resolution</th>\n",
       "      <th>all_k_codes</th>\n",
       "      <th>all_k_resolutions</th>\n",
       "      <th>all_k_distances</th>\n",
       "    </tr>\n",
       "  </thead>\n",
       "  <tbody>\n",
       "    <tr>\n",
       "      <th>0</th>\n",
       "      <td>hydrogen peroxide</td>\n",
       "      <td>26</td>\n",
       "      <td>42</td>\n",
       "      <td>DRUG</td>\n",
       "      <td>0.90765</td>\n",
       "      <td>A01AB02</td>\n",
       "      <td>hydrogen peroxide</td>\n",
       "      <td>A01AB02:::S02AA06:::D10AE:::D11AX25:::D10AE01:::N01AX11:::V03AH01:::A02AA03:::N05BB01:::V03AE05:::V04CX08:::C05CA05:::D11AC30:::D07AC19:::A03AB03:::N05CC05:::J04AC:::R06AA09:::B05XA13</td>\n",
       "      <td>hydrogen peroxide :::hydrogen peroxide; otic:::Peroxides:::ethanol / hydrogen peroxide :::benzoyl peroxide :::oxybate :::diazoxide :::magnesium peroxide:::hydroxyzine :::sucroferric oxyhydroxide :::carbon monoxide :::hidrosmin:::benzoyl peroxide / sulfur :::difluprednate :::oxyphenonium :::paraldehyde :::Hydrazides:::doxylamine :::hydrochloric acid</td>\n",
       "      <td>0.0000:::7.2638:::8.5359:::8.6054:::8.8623:::9.8050:::10.4785:::10.6252:::10.8362:::10.8516:::10.8802:::11.0478:::11.2217:::11.2228:::11.3405:::11.3486:::11.3811:::11.4295:::11.4679</td>\n",
       "    </tr>\n",
       "    <tr>\n",
       "      <th>1</th>\n",
       "      <td>amoxicillin</td>\n",
       "      <td>54</td>\n",
       "      <td>64</td>\n",
       "      <td>DRUG</td>\n",
       "      <td>0.9995</td>\n",
       "      <td>J01CA04</td>\n",
       "      <td>amoxicillin</td>\n",
       "      <td>J01CA04:::J01CA01:::J01CF02:::J01CF01:::J01CA51:::J01FF01:::J01GB06:::J01CE04:::J01CF04:::A07AA</td>\n",
       "      <td>amoxicillin :::ampicillin :::cloxacillin :::dicloxacillin :::ampicillin / dicloxacillin :::clindamycin :::amikacin :::azidocillin :::oxacillin :::Antibiotics</td>\n",
       "      <td>0.0000:::6.9141:::7.4772:::7.6221:::7.8753:::8.0215:::8.0368:::8.0891:::8.1183:::8.3731</td>\n",
       "    </tr>\n",
       "    <tr>\n",
       "      <th>2</th>\n",
       "      <td>magnesium hydroxide</td>\n",
       "      <td>153</td>\n",
       "      <td>171</td>\n",
       "      <td>DRUG</td>\n",
       "      <td>0.9382</td>\n",
       "      <td>A02AA04</td>\n",
       "      <td>magnesium hydroxide</td>\n",
       "      <td>A02AA04:::A12CC02:::D10AX30:::B05XA11:::A02AA02:::A12CC09:::A02AA03:::A02AA01:::A12CC03:::A12CC04:::A12CC:::A02AA:::A06AD04:::G04BX01:::A12CC01:::A12CC05</td>\n",
       "      <td>magnesium hydroxide :::magnesium sulfate :::aluminum oxide / magnesium hydroxide :::magnesium chloride :::magnesium oxide :::magnesium orotate :::magnesium peroxide:::magnesium carbonate :::magnesium gluconate :::magnesium citrate :::Magnesium:::Magnesium compounds:::magnesium sulfate; oral:::magnesium hydroxide; oral (urologicals):::aspartic acid / magnesium chloride :::magnesium aspartate</td>\n",
       "      <td>0.0000:::7.0888:::8.0071:::8.0314:::8.1589:::8.2574:::8.2853:::8.3071:::8.3166:::8.3633:::8.4901:::8.8214:::9.1584:::9.2479:::9.3200:::9.3548</td>\n",
       "    </tr>\n",
       "  </tbody>\n",
       "</table>\n",
       "</div>"
      ],
      "text/plain": [
       "             ner_chunk  begin  end ner_label ner_confidence     code  \\\n",
       "0    hydrogen peroxide     26   42      DRUG        0.90765  A01AB02   \n",
       "1          amoxicillin     54   64      DRUG         0.9995  J01CA04   \n",
       "2  magnesium hydroxide    153  171      DRUG         0.9382  A02AA04   \n",
       "\n",
       "             resolution  \\\n",
       "0    hydrogen peroxide    \n",
       "1          amoxicillin    \n",
       "2  magnesium hydroxide    \n",
       "\n",
       "                                                                                                                                                                               all_k_codes  \\\n",
       "0  A01AB02:::S02AA06:::D10AE:::D11AX25:::D10AE01:::N01AX11:::V03AH01:::A02AA03:::N05BB01:::V03AE05:::V04CX08:::C05CA05:::D11AC30:::D07AC19:::A03AB03:::N05CC05:::J04AC:::R06AA09:::B05XA13   \n",
       "1                                                                                          J01CA04:::J01CA01:::J01CF02:::J01CF01:::J01CA51:::J01FF01:::J01GB06:::J01CE04:::J01CF04:::A07AA   \n",
       "2                                A02AA04:::A12CC02:::D10AX30:::B05XA11:::A02AA02:::A12CC09:::A02AA03:::A02AA01:::A12CC03:::A12CC04:::A12CC:::A02AA:::A06AD04:::G04BX01:::A12CC01:::A12CC05   \n",
       "\n",
       "                                                                                                                                                                                                                                                                                                                                                                                            all_k_resolutions  \\\n",
       "0                                             hydrogen peroxide :::hydrogen peroxide; otic:::Peroxides:::ethanol / hydrogen peroxide :::benzoyl peroxide :::oxybate :::diazoxide :::magnesium peroxide:::hydroxyzine :::sucroferric oxyhydroxide :::carbon monoxide :::hidrosmin:::benzoyl peroxide / sulfur :::difluprednate :::oxyphenonium :::paraldehyde :::Hydrazides:::doxylamine :::hydrochloric acid    \n",
       "1                                                                                                                                                                                                                                               amoxicillin :::ampicillin :::cloxacillin :::dicloxacillin :::ampicillin / dicloxacillin :::clindamycin :::amikacin :::azidocillin :::oxacillin :::Antibiotics   \n",
       "2  magnesium hydroxide :::magnesium sulfate :::aluminum oxide / magnesium hydroxide :::magnesium chloride :::magnesium oxide :::magnesium orotate :::magnesium peroxide:::magnesium carbonate :::magnesium gluconate :::magnesium citrate :::Magnesium:::Magnesium compounds:::magnesium sulfate; oral:::magnesium hydroxide; oral (urologicals):::aspartic acid / magnesium chloride :::magnesium aspartate    \n",
       "\n",
       "                                                                                                                                                                         all_k_distances  \n",
       "0  0.0000:::7.2638:::8.5359:::8.6054:::8.8623:::9.8050:::10.4785:::10.6252:::10.8362:::10.8516:::10.8802:::11.0478:::11.2217:::11.2228:::11.3405:::11.3486:::11.3811:::11.4295:::11.4679  \n",
       "1                                                                                                0.0000:::6.9141:::7.4772:::7.6221:::7.8753:::8.0215:::8.0368:::8.0891:::8.1183:::8.3731  \n",
       "2                                          0.0000:::7.0888:::8.0071:::8.0314:::8.1589:::8.2574:::8.2853:::8.3071:::8.3166:::8.3633:::8.4901:::8.8214:::9.1584:::9.2479:::9.3200:::9.3548  "
      ]
     },
     "execution_count": 9,
     "metadata": {},
     "output_type": "execute_result"
    }
   ],
   "source": [
    "input_json_data = {\"text\": sample_text}\n",
    "data =  process_data_and_invoke_realtime_endpoint(input_json_data, content_type=\"application/json\" , accept=\"application/json\" )\n",
    "pd.DataFrame(data[\"predictions\"][0])"
   ]
  },
  {
   "cell_type": "markdown",
   "metadata": {},
   "source": [
    "### JSON Lines"
   ]
  },
  {
   "cell_type": "code",
   "execution_count": 10,
   "metadata": {
    "tags": []
   },
   "outputs": [],
   "source": [
    "import json\n",
    "\n",
    "def create_jsonl(records):\n",
    "\n",
    "    if isinstance(records, str):\n",
    "        records = [records]\n",
    "\n",
    "    json_records = []\n",
    "\n",
    "    for text in records:\n",
    "        record = {\n",
    "            \"text\": text\n",
    "        }\n",
    "        json_records.append(record)\n",
    "\n",
    "    json_lines = '\\n'.join(json.dumps(record) for record in json_records)\n",
    "\n",
    "    return json_lines"
   ]
  },
  {
   "cell_type": "code",
   "execution_count": 11,
   "metadata": {
    "tags": []
   },
   "outputs": [
    {
     "name": "stdout",
     "output_type": "stream",
     "text": [
      "{\"predictions\": [{\"ner_chunk\": \"hydrogen peroxide\", \"begin\": 26, \"end\": 42, \"ner_label\": \"DRUG\", \"ner_confidence\": \"0.90765\", \"code\": \"A01AB02\", \"resolution\": \"hydrogen peroxide \", \"all_k_codes\": \"A01AB02:::S02AA06:::D10AE:::D11AX25:::D10AE01:::N01AX11:::V03AH01:::A02AA03:::N05BB01:::V03AE05:::V04CX08:::C05CA05:::D11AC30:::D07AC19:::A03AB03:::N05CC05:::J04AC:::R06AA09:::B05XA13\", \"all_k_resolutions\": \"hydrogen peroxide :::hydrogen peroxide; otic:::Peroxides:::ethanol / hydrogen peroxide :::benzoyl peroxide :::oxybate :::diazoxide :::magnesium peroxide:::hydroxyzine :::sucroferric oxyhydroxide :::carbon monoxide :::hidrosmin:::benzoyl peroxide / sulfur :::difluprednate :::oxyphenonium :::paraldehyde :::Hydrazides:::doxylamine :::hydrochloric acid \", \"all_k_distances\": \"0.0000:::7.2638:::8.5359:::8.6054:::8.8623:::9.8050:::10.4785:::10.6252:::10.8362:::10.8516:::10.8802:::11.0478:::11.2217:::11.2228:::11.3405:::11.3486:::11.3811:::11.4295:::11.4679\"}, {\"ner_chunk\": \"amoxicillin\", \"begin\": 54, \"end\": 64, \"ner_label\": \"DRUG\", \"ner_confidence\": \"0.9995\", \"code\": \"J01CA04\", \"resolution\": \"amoxicillin \", \"all_k_codes\": \"J01CA04:::J01CA01:::J01CF02:::J01CF01:::J01CA51:::J01FF01:::J01GB06:::J01CE04:::J01CF04:::A07AA\", \"all_k_resolutions\": \"amoxicillin :::ampicillin :::cloxacillin :::dicloxacillin :::ampicillin / dicloxacillin :::clindamycin :::amikacin :::azidocillin :::oxacillin :::Antibiotics\", \"all_k_distances\": \"0.0000:::6.9141:::7.4772:::7.6221:::7.8753:::8.0215:::8.0368:::8.0891:::8.1183:::8.3731\"}, {\"ner_chunk\": \"magnesium hydroxide\", \"begin\": 153, \"end\": 171, \"ner_label\": \"DRUG\", \"ner_confidence\": \"0.9382\", \"code\": \"A02AA04\", \"resolution\": \"magnesium hydroxide \", \"all_k_codes\": \"A02AA04:::A12CC02:::D10AX30:::B05XA11:::A02AA02:::A12CC09:::A02AA03:::A02AA01:::A12CC03:::A12CC04:::A12CC:::A02AA:::A06AD04:::G04BX01:::A12CC01:::A12CC05\", \"all_k_resolutions\": \"magnesium hydroxide :::magnesium sulfate :::aluminum oxide / magnesium hydroxide :::magnesium chloride :::magnesium oxide :::magnesium orotate :::magnesium peroxide:::magnesium carbonate :::magnesium gluconate :::magnesium citrate :::Magnesium:::Magnesium compounds:::magnesium sulfate; oral:::magnesium hydroxide; oral (urologicals):::aspartic acid / magnesium chloride :::magnesium aspartate \", \"all_k_distances\": \"0.0000:::7.0888:::8.0071:::8.0314:::8.1589:::8.2574:::8.2853:::8.3071:::8.3166:::8.3633:::8.4901:::8.8214:::9.1584:::9.2479:::9.3200:::9.3548\"}]}\n"
     ]
    }
   ],
   "source": [
    "input_jsonl_data = create_jsonl(sample_text)\n",
    "data = process_data_and_invoke_realtime_endpoint(input_jsonl_data, content_type=\"application/jsonlines\" , accept=\"application/jsonlines\" )\n",
    "print(data)"
   ]
  },
  {
   "cell_type": "markdown",
   "metadata": {},
   "source": [
    "### B. Delete the endpoint"
   ]
  },
  {
   "cell_type": "markdown",
   "metadata": {},
   "source": [
    "Now that you have successfully performed a real-time inference, you do not need the endpoint any more. You can terminate the endpoint to avoid being charged."
   ]
  },
  {
   "cell_type": "code",
   "execution_count": 12,
   "metadata": {
    "tags": []
   },
   "outputs": [],
   "source": [
    "model.sagemaker_session.delete_endpoint(model_name)\n",
    "model.sagemaker_session.delete_endpoint_config(model_name)"
   ]
  },
  {
   "cell_type": "markdown",
   "metadata": {
    "tags": []
   },
   "source": [
    "## 4. Batch inference"
   ]
  },
  {
   "cell_type": "code",
   "execution_count": 13,
   "metadata": {
    "tags": []
   },
   "outputs": [],
   "source": [
    "import json\n",
    "import os\n",
    "\n",
    "input_dir = 'inputs/batch'\n",
    "json_input_dir = f\"{input_dir}/json\"\n",
    "jsonl_input_dir = f\"{input_dir}/jsonl\"\n",
    "\n",
    "output_dir = 'outputs/batch'\n",
    "json_output_dir = f\"{output_dir}/json\"\n",
    "jsonl_output_dir = f\"{output_dir}/jsonl\"\n",
    "\n",
    "os.makedirs(json_input_dir, exist_ok=True)\n",
    "os.makedirs(jsonl_input_dir, exist_ok=True)\n",
    "os.makedirs(json_output_dir, exist_ok=True)\n",
    "os.makedirs(jsonl_output_dir, exist_ok=True)\n",
    "\n",
    "validation_json_file_name = \"input.json\"\n",
    "\n",
    "validation_jsonl_file_name = \"input.jsonl\"\n",
    "\n",
    "validation_input_json_path = f\"s3://{s3_bucket}/{model_name}/validation-input/batch/json/\"\n",
    "validation_output_json_path = f\"s3://{s3_bucket}/{model_name}/validation-output/batch/json/\"\n",
    "\n",
    "validation_input_jsonl_path = f\"s3://{s3_bucket}/{model_name}/validation-input/batch/jsonl/\"\n",
    "validation_output_jsonl_path = f\"s3://{s3_bucket}/{model_name}/validation-output/batch/jsonl/\"\n",
    "\n",
    "def write_and_upload_to_s3(input_data, file_name):\n",
    "    file_format = os.path.splitext(file_name)[1].lower()\n",
    "    if file_format == \".json\":\n",
    "        input_data = json.dumps(input_data)\n",
    "\n",
    "    with open(file_name, \"w\") as f:\n",
    "        f.write(input_data)\n",
    "\n",
    "    s3_client.put_object(\n",
    "        Bucket=s3_bucket,\n",
    "        Key=f\"{model_name}/validation-input/batch/{file_format[1:]}/{os.path.basename(file_name)}\",\n",
    "        Body=(bytes(input_data.encode(\"UTF-8\"))),\n",
    "    )"
   ]
  },
  {
   "cell_type": "code",
   "execution_count": 14,
   "metadata": {
    "tags": []
   },
   "outputs": [],
   "source": [
    "input_jsonl_data = create_jsonl(docs)\n",
    "input_json_data = {\"text\": docs}\n",
    "\n",
    "write_and_upload_to_s3(input_json_data, f\"{json_input_dir}/{validation_json_file_name}\")\n",
    "\n",
    "write_and_upload_to_s3(input_jsonl_data, f\"{jsonl_input_dir}/{validation_jsonl_file_name}\")"
   ]
  },
  {
   "cell_type": "markdown",
   "metadata": {},
   "source": [
    "### JSON"
   ]
  },
  {
   "cell_type": "code",
   "execution_count": null,
   "metadata": {
    "tags": []
   },
   "outputs": [],
   "source": [
    "# Initialize a SageMaker Transformer object for making predictions\n",
    "transformer = model.transformer(\n",
    "    instance_count=1,\n",
    "    instance_type=batch_transform_inference_instance_type,\n",
    "    accept=\"application/json\",\n",
    "    output_path=validation_output_json_path\n",
    ")\n",
    "\n",
    "transformer.transform(validation_input_json_path, content_type=\"application/json\")\n",
    "transformer.wait()"
   ]
  },
  {
   "cell_type": "code",
   "execution_count": 16,
   "metadata": {
    "tags": []
   },
   "outputs": [],
   "source": [
    "from urllib.parse import urlparse\n",
    "\n",
    "def process_s3_json_output_and_save(validation_file_name):\n",
    "\n",
    "    output_file_path = f\"{json_output_dir}/{validation_file_name}.out\"\n",
    "    parsed_url = urlparse(transformer.output_path)\n",
    "    file_key = f\"{parsed_url.path[1:]}{validation_file_name}.out\"\n",
    "    response = s3_client.get_object(Bucket=s3_bucket, Key=file_key)\n",
    "\n",
    "    data = json.loads(response[\"Body\"].read().decode(\"utf-8\"))\n",
    "    display(data)\n",
    "\n",
    "    # Save the data to the output file\n",
    "    with open(output_file_path, 'w') as f_out:\n",
    "        json.dump(data, f_out, indent=4)"
   ]
  },
  {
   "cell_type": "code",
   "execution_count": 17,
   "metadata": {
    "tags": []
   },
   "outputs": [
    {
     "data": {
      "text/plain": [
       "{'predictions': [[{'ner_chunk': 'eltrombopag',\n",
       "    'begin': 67,\n",
       "    'end': 77,\n",
       "    'ner_label': 'DRUG',\n",
       "    'ner_confidence': '0.9968',\n",
       "    'code': 'B02BX05',\n",
       "    'resolution': 'eltrombopag ',\n",
       "    'all_k_codes': 'B02BX05:::A07DA06:::B06AC03:::M01AB08:::L04AA39:::C01CA01:::R03DX02:::V03AB38:::R05CB04:::G02AB03:::R07AB04:::L01XX41:::C10AX17:::L01EX16:::N05AX17:::V08AB06:::L01EM03:::L01XC28:::C01BC08:::N06DA05:::A16AX10:::L01XC36:::A16AX18',\n",
       "    'all_k_resolutions': 'eltrombopag :::eluxadoline :::ecallantide :::etodolac :::emapalumab :::etilefrine :::eprozinol :::andexanet alfa :::eprazinone :::ergonovine :::ethamivan :::eribulin :::evinacumab :::erdafitinib :::pimavanserin :::iotrolan :::alpelisib :::durvalumab :::encainide :::ipidacrine:::eliglustat :::enfortumab :::lumasiran ',\n",
       "    'all_k_distances': '0.0000:::7.7936:::7.8382:::7.8991:::8.6598:::8.6812:::8.7308:::8.7338:::8.7541:::8.8680:::8.9887:::9.0086:::9.0107:::9.0239:::9.0476:::9.0539:::9.0619:::9.0926:::9.1224:::9.1439:::9.1564:::9.1827:::9.2034'},\n",
       "   {'ner_chunk': 'amlodipine',\n",
       "    'begin': 89,\n",
       "    'end': 98,\n",
       "    'ner_label': 'DRUG',\n",
       "    'ner_confidence': '0.9996',\n",
       "    'code': 'C08CA01',\n",
       "    'resolution': 'amlodipine ',\n",
       "    'all_k_codes': 'C08CA01:::C08CA17:::C08CA13:::C08CA06:::C08CA10:::C09XA02:::C09BB04:::C09DB02:::C09CA07:::C09AA07:::C08CA05:::C07FB12:::C08CA07',\n",
       "    'all_k_resolutions': 'amlodipine :::levamlodipine :::lercanidipine :::nimodipine :::nilvadipine :::aliskiren / amlodipine :::amlodipine / perindopril :::amlodipine / olmesartan :::amlodipine / telmisartan :::amlodipine / benazepril :::nifedipine :::nebivolol and amlodipine; oral:::nisoldipine ',\n",
       "    'all_k_distances': '0.0000:::7.2435:::7.4295:::7.9472:::8.1635:::8.1817:::8.5893:::8.7406:::8.7474:::9.0161:::9.1447:::9.2280:::9.2584'},\n",
       "   {'ner_chunk': 'metformin',\n",
       "    'begin': 111,\n",
       "    'end': 119,\n",
       "    'ner_label': 'DRUG',\n",
       "    'ner_confidence': '0.9994',\n",
       "    'code': 'A10BA02',\n",
       "    'resolution': 'metformin ',\n",
       "    'all_k_codes': 'A10BA02:::A10BA01:::A10BB01:::A10BH04:::A10BB07:::A10BH05:::A10BD10:::A10BD14:::R06AD04:::N04BC04:::A10BK04:::A10BK02:::V08AA02:::C10AB02:::N04AA03:::S01AA07:::V08AB01:::M03AA04',\n",
       "    'all_k_resolutions': 'metformin :::phenformin :::glyburide / metformin :::alogliptin / metformin :::glipizide / metformin :::linagliptin / metformin :::metformin / saxagliptin :::metformin / repaglinide :::methdilazine :::metformin / ropinirole :::ertugliflozin / metformin :::canagliflozin / metformin :::metrizoic acid:::bezafibrate :::methixene :::framycetin :::metrizamide:::metocurine ',\n",
       "    'all_k_distances': '0.0000:::8.3109:::8.5307:::8.9024:::9.4126:::9.6127:::9.6660:::9.7690:::9.7693:::9.7862:::9.8803:::9.9727:::10.1202:::10.5116:::10.5265:::10.5596:::10.5698:::10.5706'}],\n",
       "  [{'ner_chunk': 'antidepressant',\n",
       "    'begin': 14,\n",
       "    'end': 27,\n",
       "    'ner_label': 'DRUG',\n",
       "    'ner_confidence': '0.9991',\n",
       "    'code': 'N06A',\n",
       "    'resolution': 'ANTIDEPRESSANTS',\n",
       "    'all_k_codes': 'N06A:::N05A:::N06AX:::N05AH02:::N06D:::N06CA:::D05:::N06AA01:::N04A:::N05AH03:::N06AB04:::R03BB:::V03AZ:::C02KD:::A03AE:::D11AA:::C01BA03:::N06AB03:::P02C:::N06AB05:::N06AX11:::N06AB10:::N03AE01:::N05B:::L01',\n",
       "    'all_k_resolutions': 'ANTIDEPRESSANTS:::ANTIPSYCHOTICS:::Other antidepressants:::clozapine :::ANTI-DEMENTIA DRUGS:::Antidepressants in combination with psycholeptics:::ANTIPSORIATICS:::desipramine :::ANTICHOLINERGIC AGENTS:::olanzapine :::citalopram :::Anticholinergics:::Nerve depressants:::Serotonin antagonists:::Serotonin receptor antagonists:::Antihidrotics:::disopyramide :::fluoxetine :::ANTINEMATODAL AGENTS:::paroxetine :::mirtazapine; oral:::escitalopram :::clonazepam :::ANXIOLYTICS:::ANTINEOPLASTIC AGENTS',\n",
       "    'all_k_distances': '3.9422:::8.9996:::9.9328:::9.9792:::10.2456:::10.3222:::10.5424:::10.6068:::10.6228:::10.7961:::10.8878:::10.9349:::10.9423:::10.9586:::10.9725:::10.9731:::10.9979:::11.0286:::11.0384:::11.0464:::11.1005:::11.1270:::11.1791:::11.1991:::11.2213'}]]}"
      ]
     },
     "metadata": {},
     "output_type": "display_data"
    }
   ],
   "source": [
    "process_s3_json_output_and_save(validation_json_file_name)"
   ]
  },
  {
   "cell_type": "markdown",
   "metadata": {},
   "source": [
    "### JSON Lines"
   ]
  },
  {
   "cell_type": "code",
   "execution_count": null,
   "metadata": {
    "tags": []
   },
   "outputs": [],
   "source": [
    "transformer = model.transformer(\n",
    "    instance_count=1,\n",
    "    instance_type=batch_transform_inference_instance_type,\n",
    "    accept=\"application/jsonlines\",\n",
    "    output_path=validation_output_jsonl_path\n",
    ")\n",
    "transformer.transform(validation_input_jsonl_path, content_type=\"application/jsonlines\")\n",
    "transformer.wait()"
   ]
  },
  {
   "cell_type": "code",
   "execution_count": 19,
   "metadata": {
    "tags": []
   },
   "outputs": [],
   "source": [
    "from urllib.parse import urlparse\n",
    "\n",
    "def process_s3_jsonlines_output_and_save(validation_file_name):\n",
    "\n",
    "    output_file_path = f\"{jsonl_output_dir}/{validation_file_name}.out\"\n",
    "    parsed_url = urlparse(transformer.output_path)\n",
    "    file_key = f\"{parsed_url.path[1:]}{validation_file_name}.out\"\n",
    "    response = s3_client.get_object(Bucket=s3_bucket, Key=file_key)\n",
    "\n",
    "    data = response[\"Body\"].read().decode(\"utf-8\")\n",
    "    print(data)\n",
    "\n",
    "    # Save the data to the output file\n",
    "    with open(output_file_path, 'w') as f_out:\n",
    "        for item in data.split('\\n'):\n",
    "            f_out.write(item + '\\n')"
   ]
  },
  {
   "cell_type": "code",
   "execution_count": 20,
   "metadata": {
    "tags": []
   },
   "outputs": [
    {
     "name": "stdout",
     "output_type": "stream",
     "text": [
      "{\"predictions\": [{\"ner_chunk\": \"eltrombopag\", \"begin\": 67, \"end\": 77, \"ner_label\": \"DRUG\", \"ner_confidence\": \"0.9968\", \"code\": \"B02BX05\", \"resolution\": \"eltrombopag \", \"all_k_codes\": \"B02BX05:::A07DA06:::B06AC03:::M01AB08:::L04AA39:::C01CA01:::R03DX02:::V03AB38:::R05CB04:::G02AB03:::R07AB04:::L01XX41:::C10AX17:::L01EX16:::N05AX17:::V08AB06:::L01EM03:::L01XC28:::C01BC08:::N06DA05:::A16AX10:::L01XC36:::A16AX18\", \"all_k_resolutions\": \"eltrombopag :::eluxadoline :::ecallantide :::etodolac :::emapalumab :::etilefrine :::eprozinol :::andexanet alfa :::eprazinone :::ergonovine :::ethamivan :::eribulin :::evinacumab :::erdafitinib :::pimavanserin :::iotrolan :::alpelisib :::durvalumab :::encainide :::ipidacrine:::eliglustat :::enfortumab :::lumasiran \", \"all_k_distances\": \"0.0000:::7.7936:::7.8382:::7.8991:::8.6598:::8.6812:::8.7308:::8.7338:::8.7541:::8.8680:::8.9887:::9.0086:::9.0107:::9.0239:::9.0476:::9.0539:::9.0619:::9.0926:::9.1224:::9.1439:::9.1564:::9.1827:::9.2034\"}, {\"ner_chunk\": \"amlodipine\", \"begin\": 89, \"end\": 98, \"ner_label\": \"DRUG\", \"ner_confidence\": \"0.9996\", \"code\": \"C08CA01\", \"resolution\": \"amlodipine \", \"all_k_codes\": \"C08CA01:::C08CA17:::C08CA13:::C08CA06:::C08CA10:::C09XA02:::C09BB04:::C09DB02:::C09CA07:::C09AA07:::C08CA05:::C07FB12:::C08CA07\", \"all_k_resolutions\": \"amlodipine :::levamlodipine :::lercanidipine :::nimodipine :::nilvadipine :::aliskiren / amlodipine :::amlodipine / perindopril :::amlodipine / olmesartan :::amlodipine / telmisartan :::amlodipine / benazepril :::nifedipine :::nebivolol and amlodipine; oral:::nisoldipine \", \"all_k_distances\": \"0.0000:::7.2435:::7.4295:::7.9472:::8.1635:::8.1817:::8.5893:::8.7406:::8.7474:::9.0161:::9.1447:::9.2280:::9.2584\"}, {\"ner_chunk\": \"metformin\", \"begin\": 111, \"end\": 119, \"ner_label\": \"DRUG\", \"ner_confidence\": \"0.9994\", \"code\": \"A10BA02\", \"resolution\": \"metformin \", \"all_k_codes\": \"A10BA02:::A10BA01:::A10BB01:::A10BH04:::A10BB07:::A10BH05:::A10BD10:::A10BD14:::R06AD04:::N04BC04:::A10BK04:::A10BK02:::V08AA02:::C10AB02:::N04AA03:::S01AA07:::V08AB01:::M03AA04\", \"all_k_resolutions\": \"metformin :::phenformin :::glyburide / metformin :::alogliptin / metformin :::glipizide / metformin :::linagliptin / metformin :::metformin / saxagliptin :::metformin / repaglinide :::methdilazine :::metformin / ropinirole :::ertugliflozin / metformin :::canagliflozin / metformin :::metrizoic acid:::bezafibrate :::methixene :::framycetin :::metrizamide:::metocurine \", \"all_k_distances\": \"0.0000:::8.3109:::8.5307:::8.9024:::9.4126:::9.6127:::9.6660:::9.7690:::9.7693:::9.7862:::9.8803:::9.9727:::10.1202:::10.5116:::10.5265:::10.5596:::10.5698:::10.5706\"}]}\n",
      "{\"predictions\": [{\"ner_chunk\": \"antidepressant\", \"begin\": 14, \"end\": 27, \"ner_label\": \"DRUG\", \"ner_confidence\": \"0.9991\", \"code\": \"N06A\", \"resolution\": \"ANTIDEPRESSANTS\", \"all_k_codes\": \"N06A:::N05A:::N06AX:::N05AH02:::N06D:::N06CA:::D05:::N06AA01:::N04A:::N05AH03:::N06AB04:::R03BB:::V03AZ:::C02KD:::A03AE:::D11AA:::C01BA03:::N06AB03:::P02C:::N06AB05:::N06AX11:::N06AB10:::N03AE01:::N05B:::L01\", \"all_k_resolutions\": \"ANTIDEPRESSANTS:::ANTIPSYCHOTICS:::Other antidepressants:::clozapine :::ANTI-DEMENTIA DRUGS:::Antidepressants in combination with psycholeptics:::ANTIPSORIATICS:::desipramine :::ANTICHOLINERGIC AGENTS:::olanzapine :::citalopram :::Anticholinergics:::Nerve depressants:::Serotonin antagonists:::Serotonin receptor antagonists:::Antihidrotics:::disopyramide :::fluoxetine :::ANTINEMATODAL AGENTS:::paroxetine :::mirtazapine; oral:::escitalopram :::clonazepam :::ANXIOLYTICS:::ANTINEOPLASTIC AGENTS\", \"all_k_distances\": \"3.9422:::8.9996:::9.9328:::9.9792:::10.2456:::10.3222:::10.5424:::10.6068:::10.6228:::10.7961:::10.8878:::10.9349:::10.9423:::10.9586:::10.9725:::10.9731:::10.9979:::11.0286:::11.0384:::11.0464:::11.1005:::11.1270:::11.1791:::11.1991:::11.2213\"}]}\n"
     ]
    }
   ],
   "source": [
    "process_s3_jsonlines_output_and_save(validation_jsonl_file_name)"
   ]
  },
  {
   "cell_type": "code",
   "execution_count": 21,
   "metadata": {
    "tags": []
   },
   "outputs": [
    {
     "name": "stderr",
     "output_type": "stream",
     "text": [
      "INFO:sagemaker:Deleting model with name: atc-resolver-pipeline-en-2024-10-14-13-02-27-239\n"
     ]
    }
   ],
   "source": [
    "model.delete_model()"
   ]
  },
  {
   "cell_type": "markdown",
   "metadata": {},
   "source": [
    "### Unsubscribe to the listing (optional)"
   ]
  },
  {
   "cell_type": "markdown",
   "metadata": {
    "tags": []
   },
   "source": [
    "If you would like to unsubscribe to the model package, follow these steps. Before you cancel the subscription, ensure that you do not have any [deployable model](https://console.aws.amazon.com/sagemaker/home#/models) created from the model package or using the algorithm. Note - You can find this information by looking at the container name associated with the model. \n",
    "\n",
    "**Steps to unsubscribe to product from AWS Marketplace**:\n",
    "1. Navigate to __Machine Learning__ tab on [__Your Software subscriptions page__](https://aws.amazon.com/marketplace/ai/library?productType=ml&ref_=mlmp_gitdemo_indust)\n",
    "2. Locate the listing that you want to cancel the subscription for, and then choose __Cancel Subscription__  to cancel the subscription.\n",
    "\n"
   ]
  }
 ],
 "metadata": {
  "instance_type": "ml.t3.medium",
  "kernelspec": {
   "display_name": "conda_python3",
   "language": "python",
   "name": "conda_python3"
  },
  "language_info": {
   "codemirror_mode": {
    "name": "ipython",
    "version": 3
   },
   "file_extension": ".py",
   "mimetype": "text/x-python",
   "name": "python",
   "nbconvert_exporter": "python",
   "pygments_lexer": "ipython3",
   "version": "3.10.14"
  }
 },
 "nbformat": 4,
 "nbformat_minor": 4
}

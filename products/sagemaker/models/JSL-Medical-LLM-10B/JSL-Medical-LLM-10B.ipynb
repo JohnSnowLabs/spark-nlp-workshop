{
 "cells": [
  {
   "cell_type": "markdown",
   "id": "82a4cf96-c239-49cc-88f9-a8e885bde191",
   "metadata": {},
   "source": [
    "## 1. Subscribe to the model package"
   ]
  },
  {
   "cell_type": "markdown",
   "id": "982d6ab4-d03d-4a5a-ab23-144d8e6ec3d6",
   "metadata": {},
   "source": [
    "To subscribe to the model package:\n",
    "1. Open the model package listing page [Medical LLM - 10B](https://aws.amazon.com/marketplace/pp/prodview-x3uprn5edkwdq)\n",
    "1. On the AWS Marketplace listing, click on the **Continue to subscribe** button.\n",
    "1. On the **Subscribe to this software** page, review and click on **\"Accept Offer\"** if you and your organization agrees with EULA, pricing, and support terms. \n",
    "1. Once you click on **Continue to configuration button** and then choose a **region**, you will see a **Product Arn** displayed. This is the model package ARN that you need to specify while creating a deployable model using Boto3. Copy the ARN corresponding to your region and specify the same in the following cell."
   ]
  },
  {
   "cell_type": "markdown",
   "id": "dad4b722-a125-4219-9c22-009acf75414d",
   "metadata": {},
   "source": [
    "- **Model**: `JSL-Medical-LLM-10B`  \n",
    "- **Model Description**: Medical LLM built for advanced clinical reasoning, complex terminology processing, and detailed healthcare documentation analysis. Delivers improved accuracy on specialized medical tasks while remaining computationally efficient, making it well-suited for retrieval-augmented generation (RAG) use cases in healthcare and life sciences.\n"
   ]
  },
  {
   "cell_type": "code",
   "execution_count": 5,
   "id": "9d1fb27b-e0ad-4759-937d-ae4edc209fc1",
   "metadata": {
    "tags": []
   },
   "outputs": [],
   "source": [
    "model_package_arn = \"<Customer to specify Model package ARN corresponding to their AWS region>\""
   ]
  },
  {
   "cell_type": "code",
   "execution_count": 3,
   "id": "76ede1bf-2acb-4b5d-9db1-299abfeee20b",
   "metadata": {
    "tags": []
   },
   "outputs": [],
   "source": [
    "import os\n",
    "import base64\n",
    "import json\n",
    "import uuid\n",
    "from sagemaker import ModelPackage\n",
    "import sagemaker as sage\n",
    "from sagemaker import get_execution_role\n",
    "import boto3\n",
    "from IPython.display import Image, display\n",
    "from PIL import Image as ImageEdit\n",
    "import numpy as np\n",
    "import pandas as pd\n",
    "\n",
    "pd.set_option('display.max_rows', None)\n",
    "pd.set_option('display.max_columns', None)\n",
    "pd.set_option('display.max_colwidth', None)\n",
    "\n",
    "sagemaker_session = sage.Session()\n",
    "s3_bucket = sagemaker_session.default_bucket()\n",
    "region = sagemaker_session.boto_region_name\n",
    "account_id = boto3.client(\"sts\").get_caller_identity().get(\"Account\")\n",
    "role = get_execution_role()\n",
    "\n",
    "sagemaker = boto3.client(\"sagemaker\")\n",
    "s3_client = sagemaker_session.boto_session.client(\"s3\")\n",
    "ecr = boto3.client(\"ecr\")\n",
    "sm_runtime = boto3.client(\"sagemaker-runtime\")"
   ]
  },
  {
   "cell_type": "code",
   "execution_count": 6,
   "id": "07846ed0-ed90-4a11-a77c-00d1c3ca3cbd",
   "metadata": {
    "tags": []
   },
   "outputs": [],
   "source": [
    "model_name = \"JSL-Medical-LLM-10B\"\n",
    "\n",
    "real_time_inference_instance_type = \"ml.g4dn.12xlarge\"\n",
    "batch_transform_inference_instance_type = \"ml.g4dn.12xlarge\""
   ]
  },
  {
   "cell_type": "markdown",
   "id": "08a626b7-f295-4c49-b856-ce237d5d3203",
   "metadata": {},
   "source": [
    "## 2. Create a deployable model from the model package."
   ]
  },
  {
   "cell_type": "code",
   "execution_count": 7,
   "id": "0e39b84b-7a9f-4004-a204-56af1fd555f1",
   "metadata": {
    "tags": []
   },
   "outputs": [],
   "source": [
    "model = ModelPackage(\n",
    "    role=role, \n",
    "    model_package_arn=model_package_arn, \n",
    "    sagemaker_session=sagemaker_session, \n",
    ")"
   ]
  },
  {
   "cell_type": "markdown",
   "id": "9e3a3a54-98d8-4a8a-b812-c33db9a2aa7d",
   "metadata": {},
   "source": [
    "## Model Configuration Documentation  \n",
    "\n",
    "### Default Configuration  \n",
    "The container comes with the following default configurations:  \n",
    "\n",
    "| Parameter                  | Default Value | Description                                                                   |  \n",
    "|----------------------------|---------------|-------------------------------------------------------------------------------|  \n",
    "| **`dtype`**                | `float16`     | Data type for model weights and activations                                   |  \n",
    "| **`max_model_len`**        | `32,768`      | Maximum length for input and output combined (`input + output ≤ max_model_len`) |  \n",
    "| **`tensor_parallel_size`** | Auto          | Automatically set to the number of available GPUs                            |  \n",
    "| **`host`**                 | `0.0.0.0`     | Host name                                                                     |  \n",
    "| **`port`**                 | `8080`        | Port number                                                                   |  \n",
    "\n",
    "### Hardcoded Settings  \n",
    "The following settings are hardcoded in the container and cannot be changed:  \n",
    "\n",
    "| Parameter       | Value           | Description                           |  \n",
    "|-----------------|-----------------|---------------------------------------|  \n",
    "| **`model`**     | `/opt/ml/model` | Model path where SageMaker mounts the model |  \n",
    "\n",
    "### Configurable Environment Variables  \n",
    "You can customize the vLLM server by setting environment variables when creating the model.  \n",
    "\n",
    "**Any parameter from the [vLLM documentation](https://docs.vllm.ai/en/latest/serving/openai_compatible_server.html#vllm-serve) can be set using the corresponding environment variable with the `SM_VLLM_` prefix.**  \n",
    "\n",
    "The container uses a script similar to the [SageMaker entrypoint example](https://docs.vllm.ai/en/latest/examples/sagemaker_entrypoint.html) from the vLLM documentation to convert environment variables to command-line arguments.  \n",
    "\n",
    "---  \n",
    "\n",
    "## Input Format  \n",
    "\n",
    "### 1. Chat Completion  \n",
    "\n",
    "#### Example Payload  \n",
    "```json  \n",
    "{  \n",
    "    \"model\": \"/opt/ml/model\",  \n",
    "    \"messages\": [  \n",
    "        {\"role\": \"system\", \"content\": \"You are a helpful medical assistant.\"},  \n",
    "        {\"role\": \"user\", \"content\": \"What should I do if I have a fever and body aches?\"}  \n",
    "    ],  \n",
    "    \"max_tokens\": 1024,  \n",
    "    \"temperature\": 0.7  \n",
    "}  \n",
    "```  \n",
    "\n",
    "For additional parameters:  \n",
    "- [ChatCompletionRequest](https://github.com/vllm-project/vllm/blob/v0.7.3/vllm/entrypoints/openai/protocol.py#L212)  \n",
    "- [OpenAI's Chat API](https://platform.openai.com/docs/api-reference/chat/create)  \n",
    "\n",
    "---  \n",
    "\n",
    "### 2. Text Completion  \n",
    "\n",
    "#### Single Prompt Example  \n",
    "```json  \n",
    "{  \n",
    "    \"model\": \"/opt/ml/model\",  \n",
    "    \"prompt\": \"How can I maintain good kidney health?\",  \n",
    "    \"max_tokens\": 512,  \n",
    "    \"temperature\": 0.6  \n",
    "}  \n",
    "```  \n",
    "\n",
    "#### Multiple Prompts Example  \n",
    "```json  \n",
    "{  \n",
    "    \"model\": \"/opt/ml/model\",  \n",
    "    \"prompt\": [  \n",
    "        \"How can I maintain good kidney health?\",  \n",
    "        \"What are the best practices for kidney care?\"  \n",
    "    ],  \n",
    "    \"max_tokens\": 512,  \n",
    "    \"temperature\": 0.6  \n",
    "}  \n",
    "```  \n",
    "\n",
    "Reference:  \n",
    "- [CompletionRequest](https://github.com/vllm-project/vllm/blob/v0.7.3/vllm/entrypoints/openai/protocol.py#L642)  \n",
    "- [OpenAI's Completions API](https://platform.openai.com/docs/api-reference/completions/create)  \n",
    "\n",
    "---  \n",
    "\n",
    "### Important Notes:\n",
    "- **Streaming Responses:** Add `\"stream\": true` to your request payload to enable streaming\n",
    "- **Model Path Requirement:** Always set `\"model\": \"/opt/ml/model\"` (SageMaker's fixed model location)"
   ]
  },
  {
   "cell_type": "markdown",
   "id": "6a846275-5af5-4679-9c52-d35ab157455b",
   "metadata": {},
   "source": [
    "## 3. Create an SageMaker Endpoint"
   ]
  },
  {
   "cell_type": "markdown",
   "id": "01b670fa-60d4-45a4-a0d6-3e8e2845b625",
   "metadata": {},
   "source": [
    "If you want to understand how real-time inference with Amazon SageMaker works, see [Documentation](https://docs.aws.amazon.com/sagemaker/latest/dg/how-it-works-hosting.html)."
   ]
  },
  {
   "cell_type": "code",
   "execution_count": null,
   "id": "8c19c0c0-3ead-4834-8c02-a192da19080b",
   "metadata": {
    "tags": []
   },
   "outputs": [],
   "source": [
    "predictor = model.deploy(\n",
    "    initial_instance_count=1,\n",
    "    instance_type=real_time_inference_instance_type, \n",
    "    endpoint_name=model_name,\n",
    "    model_data_download_timeout=3600\n",
    ")"
   ]
  },
  {
   "cell_type": "markdown",
   "id": "23d5c01b-b884-49c6-8b74-98911f6d8e5b",
   "metadata": {},
   "source": [
    "### 3.1 Real-time inference via Amazon SageMaker Endpoint"
   ]
  },
  {
   "cell_type": "markdown",
   "id": "07f13be5-3f3b-45db-829d-b99d4584913f",
   "metadata": {},
   "source": [
    "#### Initial setup"
   ]
  },
  {
   "cell_type": "code",
   "execution_count": 10,
   "id": "7b61fa7d-8d76-476f-91e2-8fea89e7dfa5",
   "metadata": {
    "tags": []
   },
   "outputs": [],
   "source": [
    "prompt1 = \"How do emerging mRNA technologies compare to traditional vaccine approaches for disease prevention?\"\n",
    "\n",
    "prompt2 = \"\"\"A 23-year-old pregnant woman at 22 weeks gestation presents with burning upon urination. She states it started 1 day ago and has been worsening despite drinking more water and taking cranberry extract. She otherwise feels well and is followed by a doctor for her pregnancy. Her temperature is 97.7°F (36.5°C), blood pressure is 122/77 mmHg, pulse is 80/min, respirations are 19/min, and oxygen saturation is 98% on room air. Physical exam is notable for an absence of costovertebral angle tenderness and a gravid uterus.\n",
    "\n",
    "Which of the following is the best treatment for this patient?\n",
    "A: Ampicillin\n",
    "B: Ceftriaxone\n",
    "C: Ciprofloxacin\n",
    "D: Doxycycline\n",
    "E: Nitrofurantoin\n",
    "\"\"\"\n",
    "\n",
    "prompts = [\n",
    "    \"What are the early warning signs of stroke and what should I do if I suspect someone is having one?\",\n",
    "    \"How do different classes of antidepressants work and what factors determine which medication might be prescribed?\",\n",
    "    \"What is the relationship between inflammation, autoimmune conditions, and chronic disease progression?\"\n",
    "]"
   ]
  },
  {
   "cell_type": "code",
   "execution_count": 11,
   "id": "bca8d319-02a4-44ad-b90c-216185f3098c",
   "metadata": {
    "tags": []
   },
   "outputs": [],
   "source": [
    "system_prompt = \"You are a helpful medical assistant.\""
   ]
  },
  {
   "cell_type": "code",
   "execution_count": 13,
   "id": "5c195a50-43e4-4341-ad1d-23ca6f0aa45b",
   "metadata": {
    "tags": []
   },
   "outputs": [],
   "source": [
    "def invoke_realtime_endpoint(record):\n",
    "\n",
    "    response = sm_runtime.invoke_endpoint(\n",
    "        EndpointName=model_name,\n",
    "        ContentType=\"application/json\",\n",
    "        Accept=\"application/json\",\n",
    "        Body=json.dumps(record),\n",
    "    )\n",
    "\n",
    "    return json.load(response[\"Body\"])"
   ]
  },
  {
   "cell_type": "markdown",
   "id": "e9a475e7-ad31-4b3b-b7b5-21310f541252",
   "metadata": {
    "tags": []
   },
   "source": [
    "#### Chat Completion"
   ]
  },
  {
   "cell_type": "code",
   "execution_count": 14,
   "id": "c22cf887-70d5-4a87-8476-988590228328",
   "metadata": {
    "tags": []
   },
   "outputs": [
    {
     "name": "stdout",
     "output_type": "stream",
     "text": [
      "Emerging mRNA technologies and traditional vaccine approaches have different mechanisms of action and advantages for disease prevention.\n",
      "\n",
      "Traditional Vaccines:\n",
      "\n",
      "1. Live-attenuated vaccines: These vaccines contain weakened or dead pathogens that stimulate an immune response without causing the disease. Examples include the measles, mumps, and rubella (MMR) vaccine and the oral poliovirus vaccine.\n",
      "2. Inactivated vaccines: These vaccines contain whole, killed pathogens that cannot replicate but still trigger an immune response. Examples include the polio, hepatitis A, and rabies vaccines.\n",
      "3. Subunit, recombinant, and conjugate vaccines: These vaccines contain specific parts of the pathogen, such as proteins or sugars, that stimulate an immune response without introducing the whole pathogen. Examples include the human papillomavirus (HPV) vaccine and the pneumococcal conjugate vaccine.\n",
      "\n",
      "Advantages:\n",
      "\n",
      "1. Well-established safety profile: Traditional vaccines have been used for decades, and their safety and efficacy are well-documented.\n",
      "2. Long-lasting immunity: Some traditional vaccines, such as the MMR and tetanus vaccines, provide long-lasting immunity, often requiring only one or two doses.\n",
      "3. Broadly accessible: Traditional vaccines are widely available and affordable, making them accessible to a large portion of the global population.\n",
      "\n",
      "Disadvantages:\n",
      "\n",
      "1. Time-consuming development: Developing traditional vaccines can take years to complete, which may delay the availability of a vaccine during an outbreak.\n",
      "2. Limited adaptability: Traditional vaccines are often specific to a single pathogen or strain, making them less adaptable to new or evolving strains.\n",
      "\n",
      "mRNA Vaccines:\n",
      "\n",
      "mRNA vaccines, such as the Pfizer-BioNTech and Moderna COVID-19 vaccines, work by introducing a small piece of genetic material (messenger RNA) into cells, which then produce a specific viral protein that triggers an immune response.\n",
      "\n",
      "Advantages:\n",
      "\n",
      "1. Rapid development: mRNA vaccines can be developed and manufactured more quickly than traditional vaccines, allowing for faster response to emerging diseases.\n",
      "2. High efficacy: mRNA vaccines have demonstrated high efficacy in clinical trials, with the Pfizer-BioNTech and Moderna COVID-19 vaccines showing over 90% effectiveness in preventing severe disease.\n",
      "3. Adaptable to new strains: mRNA vaccines can be easily modified to target different strains or variants of a pathogen, as seen with the Pfizer-BioNTech COVID-19 booster shot for the Delta variant.\n",
      "\n",
      "Disadvantages:\n",
      "\n",
      "1. Cold-chain requirements: mRNA vaccines require strict temperature control during storage and transportation, which can be challenging in some settings.\n",
      "2. Limited long-term data: mRNA vaccines are relatively new, so their long-term safety and efficacy data are still being collected.\n",
      "3. Potential for side effects: Like any vaccine, mRNA vaccines can cause side effects, although these are generally mild and temporary.\n",
      "\n",
      "In summary, emerging mRNA technologies offer advantages in rapid development and adaptability to new strains, while traditional vaccine approaches have a well-established safety profile and long-lasting immunity. Both types of vaccines play crucial roles in disease prevention and public health.\n"
     ]
    }
   ],
   "source": [
    "input_data = {\n",
    "    \"model\": \"/opt/ml/model\",\n",
    "    \"messages\": [\n",
    "        {\"role\": \"system\", \"content\": system_prompt},\n",
    "        {\"role\": \"user\", \"content\": prompt1},\n",
    "    ],\n",
    "    \"max_tokens\": 2048,\n",
    "    \"temperature\": 0.8,\n",
    "    \"top_p\": 0.95,\n",
    "}\n",
    "\n",
    "result = invoke_realtime_endpoint(input_data)\n",
    "output_content = result['choices'][0]['message']['content']\n",
    "print(output_content)"
   ]
  },
  {
   "cell_type": "markdown",
   "id": "d1a76aec-391a-44e9-b385-99aa62f1b4bf",
   "metadata": {},
   "source": [
    "#### Text Completion"
   ]
  },
  {
   "cell_type": "code",
   "execution_count": 16,
   "id": "0c06b069-e3d8-48f4-9c09-fec59143ed11",
   "metadata": {
    "tags": []
   },
   "outputs": [
    {
     "name": "stdout",
     "output_type": "stream",
     "text": [
      " The answer is E. Nitrofurantoin\n",
      "\n",
      "In a pregnant woman, burning upon urination with no fever or other symptoms is most likely a urinary tract infection (UTI). Nitrofurantoin is the safest antibiotic to use in pregnancy, especially during the second and third trimesters. Ampicillin, Ceftriaxone, Ciprofloxacin, and Doxycycline are either contraindicated or should be avoided in pregnancy due to potential risks to the fetus. It is important to treat UTI promptly in pregnancy to prevent complications such as pyelonephritis and preterm labor.\n"
     ]
    }
   ],
   "source": [
    "input_data ={\n",
    "        \"model\": \"/opt/ml/model\",\n",
    "        \"prompt\": f\"{system_prompt}\\n\\nUser: {prompt2}\\n\\nAssistant:\",\n",
    "        \"max_tokens\": 2048,\n",
    "        \"temperature\": 0.8,\n",
    "        \"top_p\": 0.95,\n",
    "    }\n",
    "\n",
    "result = invoke_realtime_endpoint(input_data)\n",
    "output_text = result['choices'][0]['text']\n",
    "print(output_text)"
   ]
  },
  {
   "cell_type": "markdown",
   "id": "ccccf37b-9dee-4d38-a0dc-38f2aeaeb780",
   "metadata": {},
   "source": [
    "### 3.2 Real-time inference response as a stream via Amazon SageMaker Endpoint"
   ]
  },
  {
   "cell_type": "code",
   "execution_count": 18,
   "id": "dac2fe86-af82-4ae5-a838-162f65e6d0b1",
   "metadata": {
    "tags": []
   },
   "outputs": [],
   "source": [
    "def invoke_streaming_endpoint(record):\n",
    "    try:\n",
    "        response = sm_runtime.invoke_endpoint_with_response_stream(\n",
    "            EndpointName=model_name,\n",
    "            Body=json.dumps(record),\n",
    "            ContentType=\"application/json\",\n",
    "            Accept=\"text/event-stream\"\n",
    "        )\n",
    "\n",
    "        for event in response[\"Body\"]:\n",
    "            if \"PayloadPart\" in event:\n",
    "                chunk = event[\"PayloadPart\"][\"Bytes\"].decode(\"utf-8\")\n",
    "                if chunk.startswith(\"data:\"):\n",
    "                    try:\n",
    "                        data = json.loads(chunk[5:].strip())\n",
    "                        if \"choices\" in data and len(data[\"choices\"]) > 0:\n",
    "                            choice = data[\"choices\"][0]\n",
    "                            if \"text\" in choice:\n",
    "                                yield choice[\"text\"]\n",
    "                            elif \"delta\" in choice and \"content\" in choice[\"delta\"]:\n",
    "                                yield choice[\"delta\"][\"content\"]\n",
    "\n",
    "                    except json.JSONDecodeError:\n",
    "                        continue \n",
    "            elif \"ModelStreamError\" in event:\n",
    "                error = event[\"ModelStreamError\"]\n",
    "                yield f\"\\nStream error: {error['Message']} (Error code: {error['ErrorCode']})\"\n",
    "                break\n",
    "            elif \"InternalStreamFailure\" in event:\n",
    "                failure = event[\"InternalStreamFailure\"]\n",
    "                yield f\"\\nInternal stream failure: {failure['Message']}\"\n",
    "                break\n",
    "    except Exception as e:\n",
    "        yield f\"\\nAn error occurred during streaming: {str(e)}\""
   ]
  },
  {
   "cell_type": "markdown",
   "id": "d2c6f25e-6d6d-41c7-a7ab-8b979e97a145",
   "metadata": {},
   "source": [
    "#### Chat Completion"
   ]
  },
  {
   "cell_type": "code",
   "execution_count": 19,
   "id": "5d62d99f-67a1-46f7-ad52-d2d41b2c5e3a",
   "metadata": {
    "tags": []
   },
   "outputs": [
    {
     "name": "stdout",
     "output_type": "stream",
     "text": [
      "Emerging mRNA messenger RNA) technologies and traditional vaccine approaches both aim to prevent diseases, but they differ significantly in their methodologies, mechanisms of action, and implications for public health. Here's a comparison of the two:\n",
      "\n",
      "1. Mechanisms of Action:\n",
      "   - Traditional Vaccines: Most traditional vaccines are based on attenuated or inactivated pathogens (e.g., live-attenuated, inactivated, subunit), or they use purified or recombinant antigens (e.g., protein subunit vaccines). These vaccines introduce weakened or killed pathogens or their components into the body, stimulating the immune system to recognize and respond to the pathogen.\n",
      "   - mRNA Vaccines: mRNA vaccines, such as those used in the COVID-19 vaccines, work by delivering a small piece of genetic material (messenger RNA) that instructs cells to produce a specific protein—often a viral antigen. This protein is then recognized by the immune system, leading to the production of antibodies and the development of immunity against the target pathogen.\n",
      "\n",
      "2. Production and Manufacturing:\n",
      "   - Traditional Vaccines: The development and production of traditional vaccines often require lengthy processes, including the isolation, purification, and stabilization of the pathogen or its components.\n",
      "   - mRNA Vaccines: mRNA vaccines can be developed and manufactured more rapidly due to advancements in genetic engineering and biotechnological processes. This has been particularly evident in the rapid development of COVID-19 vaccines.\n",
      "\n",
      "3. Stability and Shelf Life:\n",
      "   - Traditional Vaccines: Many traditional vaccines have relatively short shelf lives and require cold-chain storage to maintain their efficacy.\n",
      "   - mRNA Vaccines: mRNA vaccines are more stable under certain conditions and can be stored at refrigerator temperatures, making distribution and administration more convenient, especially in resource-limited settings.\n",
      "\n",
      "4. Immune Response and Efficacy:\n",
      "   - Traditional Vaccines: The immune response and efficacy of traditional vaccines vary depending on the type of vaccine and the pathogen. Some traditional vaccines provide long-lasting immunity, while others require booster doses.\n",
      "   - mRNA Vaccines: mRNA vaccines have shown to elicit strong and rapid immune responses, often resulting in high efficacy rates. For example, the mRNA vaccines for COVID-19 have demonstrated high effectiveness in preventing severe disease.\n",
      "\n",
      "5. Safety and Adverse Effects:\n",
      "   - Traditional Vaccines: Traditional vaccines have a long history of use and have been subject to extensive safety testing. However, they can sometimes cause adverse effects, although serious adverse reactions are rare.\n",
      "   - mRNA Vaccines: mRNA vaccines are generally considered safe, with side effects typically limited to local and mild systemic reactions. However, as they are relatively new, their long-term safety profile is still being monitored.\n",
      "\n",
      "6. Flexibility and Adaptability:\n",
      "   - Traditional Vaccines: Developing a new traditional vaccine often requires significant time and resources, limiting the ability to respond quickly to emerging pathogens or variants.\n",
      "   - mRNA Vaccines: mRNA vaccines offer greater flexibility and adaptability. The genetic material can be rapidly modified to target different pathogens or specific variants, as seen with the updates to COVID-19 vaccines to address new variants.\n",
      "\n",
      "In conclusion, while traditional vaccines have a proven track record of preventing diseases, mRNA technologies offer advantages in terms of rapid development, stability, and adaptability. Both approaches continue to evolve, and their comparative effectiveness will depend on the specific pathogens and diseases they are targeting."
     ]
    }
   ],
   "source": [
    "payload = {\n",
    "    \"model\": \"/opt/ml/model\",\n",
    "    \"messages\": [\n",
    "        {\"role\": \"system\", \"content\": system_prompt},\n",
    "        {\"role\": \"user\", \"content\": prompt1}\n",
    "    ],\n",
    "    \"max_tokens\": 2048,\n",
    "    \"temperature\": 0.8,\n",
    "    \"top_p\": 0.95,\n",
    "    \"stream\": True\n",
    "}\n",
    "\n",
    "for chunk in invoke_streaming_endpoint(payload):\n",
    "    print(chunk, end=\"\", flush=True)"
   ]
  },
  {
   "cell_type": "markdown",
   "id": "f2d04094-f350-4950-b73a-212301dda35c",
   "metadata": {},
   "source": [
    "#### Text Completion"
   ]
  },
  {
   "cell_type": "code",
   "execution_count": 20,
   "id": "a6046a1f-96cb-4f76-b796-cd4a661f53e6",
   "metadata": {
    "tags": []
   },
   "outputs": [
    {
     "name": "stdout",
     "output_type": "stream",
     "text": [
      " E: Nitrofurantoin\n",
      "\n",
      "Based on the clinical presentation and the absence of risk factors for UTI in, the most likely diagnosis is a urinary tract infection (UTI). Nitrofurantoin is the recommended antibiotic for treating UTIs in due to its safety profile and effectiveness in treating lower urinary tract infections.\n",
      "\n",
      "Ampicillin (A), Ceftriaxone (B), Ciprofloxacin (C), and Doxycycline (D) are not the antibiotics for treating UTIs in. Ampicillin and Ceftriaxone may be used for complicated UTIs, but Nitrofurantoin is generally preferred for uncomplicated cases. Ciprofloxacin and Doxycycline are contraindicated in due to potential teratogenic effects.\n",
      "\n",
      "Therefore, Nitrofurantoin (E) is the best treatment option for this patient."
     ]
    }
   ],
   "source": [
    "payload = {\n",
    "    \"model\": \"/opt/ml/model\",\n",
    "    \"prompt\": f\"{system_prompt}\\n\\nUser: {prompt2}\\n\\nAssistant:\",\n",
    "    \"max_tokens\": 2048,\n",
    "    \"temperature\": 0.8,\n",
    "    \"top_p\": 0.95,\n",
    "    \"stream\": True\n",
    "}\n",
    "\n",
    "for chunk in invoke_streaming_endpoint(payload):\n",
    "    print(chunk, end=\"\", flush=True)"
   ]
  },
  {
   "cell_type": "markdown",
   "id": "547960f3-6629-4c2d-a4d2-cdb26c9c61d0",
   "metadata": {},
   "source": [
    "Now that you have successfully performed a real-time inference, you do not need the endpoint any more. You can terminate the endpoint to avoid being charged."
   ]
  },
  {
   "cell_type": "code",
   "execution_count": null,
   "id": "488631f8-c3be-4b30-aba4-75d83ee588a3",
   "metadata": {
    "tags": []
   },
   "outputs": [],
   "source": [
    "model.sagemaker_session.delete_endpoint(model_name)\n",
    "model.sagemaker_session.delete_endpoint_config(model_name)"
   ]
  },
  {
   "cell_type": "markdown",
   "id": "c0e98cc5-6ea8-41bf-a78f-dbe6771caf55",
   "metadata": {},
   "source": [
    "## 4. Batch inference"
   ]
  },
  {
   "cell_type": "code",
   "execution_count": 24,
   "id": "f7d163c0-a6c7-49c5-a4ea-27b83670eb7b",
   "metadata": {
    "tags": []
   },
   "outputs": [],
   "source": [
    "validation_json_file_name1 = \"input1.json\"\n",
    "\n",
    "validation_input_json_path = f\"s3://{s3_bucket}/{model_name}/validation-input/\"\n",
    "validation_output_json_path = f\"s3://{s3_bucket}/{model_name}/validation-output/\"\n",
    "\n",
    "\n",
    "def write_and_upload_to_s3(input_data, file_name):\n",
    "    s3_client.put_object(\n",
    "        Bucket=s3_bucket,\n",
    "        Key=f\"{model_name}/validation-input/{file_name}\",\n",
    "        Body=(bytes(input_data.encode(\"UTF-8\"))),\n",
    "    )"
   ]
  },
  {
   "cell_type": "code",
   "execution_count": 25,
   "id": "23904344-4a1e-4e90-942e-dc9e53827369",
   "metadata": {
    "tags": []
   },
   "outputs": [],
   "source": [
    "input_json_data1 = json.dumps(\n",
    "    {\n",
    "        \"model\": \"/opt/ml/model\",\n",
    "        \"prompt\": [f\"{system_prompt}\\n\\nUser: {prompt}\\n\\nAssistant:\" for prompt in prompts],\n",
    "        \"max_tokens\": 2048,\n",
    "        \"temperature\": 0.8,\n",
    "        \"top_p\": 0.95,\n",
    "    }\n",
    ")\n",
    "\n",
    "write_and_upload_to_s3(input_json_data1, f\"{validation_json_file_name1}\")"
   ]
  },
  {
   "cell_type": "code",
   "execution_count": null,
   "id": "40a9b441-d1e5-4bbc-8571-005d880c6c46",
   "metadata": {
    "tags": []
   },
   "outputs": [],
   "source": [
    "transformer = model.transformer(\n",
    "    instance_count=1,\n",
    "    instance_type=batch_transform_inference_instance_type,\n",
    "    accept=\"application/json\",\n",
    "    output_path=validation_output_json_path,\n",
    ")\n",
    "transformer.transform(validation_input_json_path, content_type=\"application/json\")\n",
    "transformer.wait()"
   ]
  },
  {
   "cell_type": "code",
   "execution_count": null,
   "id": "142c53a9-2e64-4839-acbd-74bfbd7fc372",
   "metadata": {
    "tags": []
   },
   "outputs": [],
   "source": [
    "from urllib.parse import urlparse\n",
    "\n",
    "def retrieve_json_output_from_s3(validation_file_name):\n",
    "\n",
    "    parsed_url = urlparse(transformer.output_path)\n",
    "    file_key = f\"{parsed_url.path[1:]}{validation_file_name}.out\"\n",
    "    response = s3_client.get_object(Bucket=s3_bucket, Key=file_key)\n",
    "    result = json.loads(response[\"Body\"].read().decode(\"utf-8\"))\n",
    "    \n",
    "    for idx, choice in enumerate(result.get(\"choices\", [])):\n",
    "        print(f\"Response {idx + 1}:\\n{choice.get('text', '')}\\n{'=' * 75}\")"
   ]
  },
  {
   "cell_type": "code",
   "execution_count": 30,
   "id": "b781965a-3891-4ac3-a580-9e187b262d39",
   "metadata": {
    "tags": []
   },
   "outputs": [
    {
     "name": "stdout",
     "output_type": "stream",
     "text": [
      "Response 1:\n",
      " The early warning signs of a stroke include sudden weakness or numbness of the face, arm, or leg, especially on one side of the body; sudden confusion, trouble speaking, or understanding speech; sudden trouble seeing in one or both eyes; sudden trouble walking, dizziness, or loss of balance or coordination; and sudden severe headache with no known cause. If you suspect someone is having a stroke, call emergency services immediately and ask for an ambulance. While waiting for help, try to keep the person calm, comfortable, and on their side with their head slightly tilted back to prevent choking.\n",
      "\n",
      "Is there anything else you would like to know about stroke symptoms or first aid?\n",
      "===========================================================================\n",
      "Response 2:\n",
      " Antidepressants are a class of drugs used to treat depression and other mood disorders. There are several different classes of antidepressants, and each works in a slightly different way to help improve mood and reduce symptoms. The five main classes of antidepressants are:\n",
      "\n",
      "1. Selective serotonin reuptake inhibitors (SSRIs): These drugs work by increasing the levels of the neurotransmitter serotonin in the brain. Serotonin is involved in regulating mood, appetite, sleep, and other functions. SSRIs include fluoxetine (Prozac), sertraline (Zoloft), and citalopram (Celexa).\n",
      "\n",
      "2. Serotonin and norepinephrine reuptake inhibitors (SNRIs): SNRIs also increase levels of serotonin and norepinephrine, another neurotransmitter involved in mood regulation. SNRIs include duloxetine (Cymbalta) and venlafaxine (Effexor).\n",
      "\n",
      "3. Tricyclic antidepressants (TCAs): These older antidepressants work by increasing levels of both serotonin and norepinephrine. However, they can have more side effects than newer classes of antidepressants. TCAs include amitriptyline (Elavil) and imipramine (Tofranil).\n",
      "\n",
      "4. Monoamine oxidase inhibitors (MAOIs): These drugs work by blocking the enzyme monoamine oxidase, which breaks down neurotransmitters. MAOIs can be effective for some people, but they have strict dietary restrictions and can interact with other medications. Examples include phenelzine (Nardil) and tranylcypromine (Parnate).\n",
      "\n",
      "5. Atypical antidepressants: This category includes medications that don't fit into the other classes. They may work through various mechanisms, such as blocking the reuptake of neurotransmitters or interacting with other receptors in the brain. Examples include bupropion (Wellbutrin) and mirtazapine (Remeron).\n",
      "\n",
      "When choosing an antidepressant, several factors are considered, including the severity of the symptoms, potential side effects, and the patient's medical history. Doctors may also consider the patient's age, weight, and other health conditions. Sometimes, a trial and error approach is necessary to find the most effective medication for an individual patient.\n",
      "===========================================================================\n",
      "Response 3:\n",
      " Inflammation and autoimmune conditions are intricately linked to the progression of chronic diseases. Inflammation, often an immune response to injury or infection, can become chronic when it persists over long periods. This chronic inflammation can lead to tissue damage and is a common feature of many chronic diseases, including cardiovascular disease, diabetes, and neurodegenerative disorders.\n",
      "\n",
      "Autoimmune conditions occur when the immune system mistakenly attacks the body's own tissues, leading to chronic inflammation. Conditions like rheumatoid arthritis and lupus are examples of autoimmune diseases characterized by chronic inflammation.\n",
      "\n",
      "In the context of chronic disease progression, inflammation and autoimmune responses can exacerbate disease severity and progression. Chronic inflammation can lead to the formation of scar tissue, oxidative stress, and the activation of pro-inflammatory pathways that contribute to disease progression. Autoimmune conditions, by targeting specific tissues, can cause ongoing damage and inflammation, further driving the progression of the disease.\n",
      "\n",
      "Therapeutic strategies often focus on modulating the immune response to reduce inflammation and control autoimmune reactions. This can include anti-inflammatory drugs, immunosuppressive agents, and biological therapies targeting specific inflammatory pathways.\n",
      "\n",
      "In summary, chronic inflammation and autoimmune conditions are critical drivers of chronic disease progression, and managing these processes is key to slowing disease progression and improving patient outcomes.\n",
      "===========================================================================\n"
     ]
    }
   ],
   "source": [
    "retrieve_json_output_from_s3(validation_json_file_name1)"
   ]
  },
  {
   "cell_type": "markdown",
   "id": "f8e8f682-16a0-4a84-89e6-b5f4f0de3521",
   "metadata": {},
   "source": [
    "Congratulations! You just verified that the batch transform job is working as expected. Since the model is not required, you can delete it. Note that you are deleting the deployable model. Not the model package."
   ]
  },
  {
   "cell_type": "code",
   "execution_count": null,
   "id": "22a8df79-ad3b-4e85-a054-24931c15f3a3",
   "metadata": {
    "tags": []
   },
   "outputs": [],
   "source": [
    "model.delete_model()"
   ]
  },
  {
   "cell_type": "markdown",
   "id": "37215a51-bf01-4cf0-832a-c7f85a8a06c3",
   "metadata": {},
   "source": [
    "### Unsubscribe to the listing (optional)"
   ]
  },
  {
   "cell_type": "markdown",
   "id": "53cddd4d-4b27-4a94-95b8-5e027e6cd9cd",
   "metadata": {},
   "source": [
    "If you would like to unsubscribe to the model package, follow these steps. Before you cancel the subscription, ensure that you do not have any [deployable model](https://console.aws.amazon.com/sagemaker/home#/models) created from the model package or using the algorithm. Note - You can find this information by looking at the container name associated with the model. \n",
    "\n",
    "**Steps to unsubscribe to product from AWS Marketplace**:\n",
    "1. Navigate to __Machine Learning__ tab on [__Your Software subscriptions page__](https://aws.amazon.com/marketplace/ai/library?productType=ml&ref_=mlmp_gitdemo_indust)\n",
    "2. Locate the listing that you want to cancel the subscription for, and then choose __Cancel Subscription__  to cancel the subscription.\n",
    "\n"
   ]
  }
 ],
 "metadata": {
  "kernelspec": {
   "display_name": "conda_python3",
   "language": "python",
   "name": "conda_python3"
  },
  "language_info": {
   "codemirror_mode": {
    "name": "ipython",
    "version": 3
   },
   "file_extension": ".py",
   "mimetype": "text/x-python",
   "name": "python",
   "nbconvert_exporter": "python",
   "pygments_lexer": "ipython3",
   "version": "3.10.16"
  }
 },
 "nbformat": 4,
 "nbformat_minor": 5
}

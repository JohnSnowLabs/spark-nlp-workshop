{
 "cells": [
  {
   "cell_type": "markdown",
   "metadata": {},
   "source": [
    "## 1. Subscribe to the model package"
   ]
  },
  {
   "cell_type": "markdown",
   "metadata": {},
   "source": [
    "To subscribe to the model package:\n",
    "1. Open the model package listing page <font color='red'> For Seller to update:[Title_of_your_product](Provide link to your marketplace listing of your product).</font>\n",
    "1. On the AWS Marketplace listing, click on the **Continue to subscribe** button.\n",
    "1. On the **Subscribe to this software** page, review and click on **\"Accept Offer\"** if you and your organization agrees with EULA, pricing, and support terms. \n",
    "1. Once you click on **Continue to configuration button** and then choose a **region**, you will see a **Product Arn** displayed. This is the model package ARN that you need to specify while creating a deployable model using Boto3. Copy the ARN corresponding to your region and specify the same in the following cell."
   ]
  },
  {
   "cell_type": "markdown",
   "metadata": {},
   "source": [
    "## Pipeline to Resolve ICD-9-CM Codes\n",
    "\n",
    "The International Classification of Diseases, Ninth Revision, Clinical Modification (ICD-9-CM) is based on the World Health Organization's Ninth Revision, International Classification of Diseases (ICD-9). ICD-9-CM was maintained by the National Center for Health Statistics (NCHS) and the Centers for Medicare and Medicaid Services (CMS).\n",
    "ICD-9-CM was developed to code and classify morbidity data from the inpatient and outpatient records, physician offices, and most National Center for Health Statistics (NCHS) surveys.\n",
    "\n",
    "- **Model**: `en.resolve.icd9.pipeline`\n",
    "- **Model Description**: This pretrained pipeline maps entities with their corresponding ICD-9-CM codes, offering seamless mapping between entities and their corresponding ICD-9-CM code.\n"
   ]
  },
  {
   "cell_type": "code",
   "execution_count": 1,
   "metadata": {
    "tags": []
   },
   "outputs": [],
   "source": [
    "model_package_arn = \"<Customer to specify Model package ARN corresponding to their AWS region>\""
   ]
  },
  {
   "cell_type": "code",
   "execution_count": 2,
   "metadata": {
    "tags": []
   },
   "outputs": [
    {
     "name": "stdout",
     "output_type": "stream",
     "text": [
      "sagemaker.config INFO - Not applying SDK defaults from location: /etc/xdg/sagemaker/config.yaml\n",
      "sagemaker.config INFO - Not applying SDK defaults from location: /home/ec2-user/.config/sagemaker/config.yaml\n"
     ]
    }
   ],
   "source": [
    "import base64\n",
    "import json\n",
    "import uuid\n",
    "from sagemaker import ModelPackage\n",
    "import sagemaker as sage\n",
    "from sagemaker import get_execution_role\n",
    "import boto3\n",
    "from IPython.display import Image, display\n",
    "from PIL import Image as ImageEdit\n",
    "import numpy as np"
   ]
  },
  {
   "cell_type": "code",
   "execution_count": 3,
   "metadata": {
    "tags": []
   },
   "outputs": [],
   "source": [
    "sagemaker_session = sage.Session()\n",
    "s3_bucket = sagemaker_session.default_bucket()\n",
    "region = sagemaker_session.boto_region_name\n",
    "account_id = boto3.client(\"sts\").get_caller_identity().get(\"Account\")\n",
    "role = get_execution_role()\n",
    "\n",
    "sagemaker = boto3.client(\"sagemaker\")\n",
    "s3_client = sagemaker_session.boto_session.client(\"s3\")\n",
    "ecr = boto3.client(\"ecr\")\n",
    "sm_runtime = boto3.client(\"sagemaker-runtime\")"
   ]
  },
  {
   "cell_type": "markdown",
   "metadata": {},
   "source": [
    "## 2. Create an endpoint and perform real-time inference"
   ]
  },
  {
   "cell_type": "markdown",
   "metadata": {},
   "source": [
    "If you want to understand how real-time inference with Amazon SageMaker works, see [Documentation](https://docs.aws.amazon.com/sagemaker/latest/dg/how-it-works-hosting.html)."
   ]
  },
  {
   "cell_type": "code",
   "execution_count": 4,
   "metadata": {
    "tags": []
   },
   "outputs": [],
   "source": [
    "model_name = \"en-resolve-icd9-pipeline\"\n",
    "\n",
    "real_time_inference_instance_type = \"ml.m4.xlarge\"\n",
    "batch_transform_inference_instance_type = \"ml.m4.xlarge\"\n"
   ]
  },
  {
   "cell_type": "markdown",
   "metadata": {},
   "source": [
    "### A. Create an endpoint"
   ]
  },
  {
   "cell_type": "code",
   "execution_count": 5,
   "metadata": {
    "tags": []
   },
   "outputs": [
    {
     "name": "stdout",
     "output_type": "stream",
     "text": [
      "----------!"
     ]
    }
   ],
   "source": [
    "# create a deployable model from the model package.\n",
    "model = ModelPackage(\n",
    "    role=role, model_package_arn=model_package_arn, sagemaker_session=sagemaker_session\n",
    ")\n",
    "\n",
    "# Deploy the model\n",
    "predictor = model.deploy(1, real_time_inference_instance_type, endpoint_name=model_name)"
   ]
  },
  {
   "cell_type": "markdown",
   "metadata": {},
   "source": [
    "Once endpoint has been created, you would be able to perform real-time inference."
   ]
  },
  {
   "cell_type": "code",
   "execution_count": 6,
   "metadata": {
    "tags": []
   },
   "outputs": [],
   "source": [
    "import json\n",
    "import pandas as pd\n",
    "import os\n",
    "import boto3\n",
    "\n",
    "# Set display options\n",
    "pd.set_option('display.max_rows', None)\n",
    "pd.set_option('display.max_columns', None)\n",
    "pd.set_option('display.max_colwidth', None)\n",
    "\n",
    "def process_data_and_invoke_realtime_endpoint(data, content_type, accept):\n",
    "\n",
    "    content_type_to_format = {'application/json': 'json', 'application/jsonlines': 'jsonl'}\n",
    "    input_format = content_type_to_format.get(content_type)\n",
    "    if content_type not in content_type_to_format.keys() or accept not in content_type_to_format.keys():\n",
    "        raise ValueError(\"Invalid content_type or accept. It should be either 'application/json' or 'application/jsonlines'.\")\n",
    "\n",
    "    i = 1\n",
    "    input_dir = f'inputs/real-time/{input_format}'\n",
    "    output_dir = f'outputs/real-time/{input_format}'\n",
    "    s3_input_dir = f\"{model_name}/validation-input/real-time/{input_format}\"\n",
    "    s3_output_dir = f\"{model_name}/validation-output/real-time/{input_format}\"\n",
    "\n",
    "    input_file_name = f'{input_dir}/input{i}.{input_format}'\n",
    "    output_file_name = f'{output_dir}/{os.path.basename(input_file_name)}.out'\n",
    "\n",
    "    while os.path.exists(input_file_name) or os.path.exists(output_file_name):\n",
    "        i += 1\n",
    "        input_file_name = f'{input_dir}/input{i}.{input_format}'\n",
    "        output_file_name = f'{output_dir}/{os.path.basename(input_file_name)}.out'\n",
    "\n",
    "    os.makedirs(os.path.dirname(input_file_name), exist_ok=True)\n",
    "    os.makedirs(os.path.dirname(output_file_name), exist_ok=True)\n",
    "\n",
    "    input_data = json.dumps(data) if content_type == 'application/json' else data\n",
    "\n",
    "    # Write input data to file\n",
    "    with open(input_file_name, 'w') as f:\n",
    "        f.write(input_data)\n",
    "\n",
    "    # Upload input data to S3\n",
    "    s3_client.put_object(Bucket=s3_bucket, Key=f\"{s3_input_dir}/{os.path.basename(input_file_name)}\", Body=bytes(input_data.encode('UTF-8')))\n",
    "\n",
    "    # Invoke the SageMaker endpoint\n",
    "    response = sm_runtime.invoke_endpoint(\n",
    "        EndpointName=model_name,\n",
    "        ContentType=content_type,\n",
    "        Accept=accept,\n",
    "        Body=input_data,\n",
    "    )\n",
    "\n",
    "    # Read response data\n",
    "    response_data = json.loads(response[\"Body\"].read().decode(\"utf-8\")) if accept == 'application/json' else response['Body'].read().decode('utf-8')\n",
    "\n",
    "    # Save response data to file\n",
    "    with open(output_file_name, 'w') as f_out:\n",
    "        if accept == 'application/json':\n",
    "            json.dump(response_data, f_out, indent=4)\n",
    "        else:\n",
    "            for item in response_data.split('\\n'):\n",
    "                f_out.write(item + '\\n')\n",
    "\n",
    "    # Upload response data to S3\n",
    "    output_s3_key = f\"{s3_output_dir}/{os.path.basename(output_file_name)}\"\n",
    "    if accept == 'application/json':\n",
    "        s3_client.put_object(Bucket=s3_bucket, Key=output_s3_key, Body=json.dumps(response_data).encode('UTF-8'))\n",
    "    else:\n",
    "        s3_client.put_object(Bucket=s3_bucket, Key=output_s3_key, Body=response_data)\n",
    "\n",
    "    return response_data"
   ]
  },
  {
   "cell_type": "markdown",
   "metadata": {},
   "source": [
    "### Initial Setup"
   ]
  },
  {
   "cell_type": "code",
   "execution_count": 7,
   "metadata": {
    "tags": []
   },
   "outputs": [],
   "source": [
    "docs = [\n",
    "    \"An 86-year-old female with persistent abdominal pain, nausea and projectile vomiting, during evaluation in the emergency room, was found to have a high amylase, as well as lipase count and she is being admitted for management of unspecified gastrointestinal hemorrhage.\", \n",
    "    \"Complaints of unspecified upper abdominal pain and swelling in a 32-year-old woman led to the evaluation of possible disease of intestine. She had a history of mixed irritable bowel syndrome and congenital lactase deficiency. Several diagnostic tests were performed. Blood tests showed abnormal results of blood chemistry and colonoscopy was performed.\",\n",
    "]\n",
    "\n",
    "\n",
    "sample_text = \"\"\"A 28-year-old female with a history of gestational diabetes mellitus diagnosed eight years and anisakiasis. Also, it was reported that fetal and neonatal hemorrhage.\"\"\""
   ]
  },
  {
   "cell_type": "markdown",
   "metadata": {},
   "source": [
    "### JSON"
   ]
  },
  {
   "cell_type": "markdown",
   "metadata": {},
   "source": [
    "#### Example 1"
   ]
  },
  {
   "cell_type": "markdown",
   "metadata": {},
   "source": [
    "  **Input format**:\n",
    "  \n",
    "  \n",
    "```json\n",
    "{\n",
    "    \"text\": \"Single text document\"\n",
    "}\n",
    "```"
   ]
  },
  {
   "cell_type": "code",
   "execution_count": 8,
   "metadata": {
    "tags": []
   },
   "outputs": [
    {
     "data": {
      "text/html": [
       "<div>\n",
       "<style scoped>\n",
       "    .dataframe tbody tr th:only-of-type {\n",
       "        vertical-align: middle;\n",
       "    }\n",
       "\n",
       "    .dataframe tbody tr th {\n",
       "        vertical-align: top;\n",
       "    }\n",
       "\n",
       "    .dataframe thead th {\n",
       "        text-align: right;\n",
       "    }\n",
       "</style>\n",
       "<table border=\"1\" class=\"dataframe\">\n",
       "  <thead>\n",
       "    <tr style=\"text-align: right;\">\n",
       "      <th></th>\n",
       "      <th>document</th>\n",
       "      <th>ner_chunk</th>\n",
       "      <th>begin</th>\n",
       "      <th>end</th>\n",
       "      <th>ner_label</th>\n",
       "      <th>ner_confidence</th>\n",
       "      <th>icd9_code</th>\n",
       "      <th>icd9_confidence</th>\n",
       "    </tr>\n",
       "  </thead>\n",
       "  <tbody>\n",
       "    <tr>\n",
       "      <th>0</th>\n",
       "      <td>A 28-year-old female with a history of gestational diabetes mellitus diagnosed eight years and anisakiasis. Also, it was reported that fetal and neonatal hemorrhage.</td>\n",
       "      <td>gestational diabetes mellitus</td>\n",
       "      <td>39</td>\n",
       "      <td>67</td>\n",
       "      <td>PROBLEM</td>\n",
       "      <td>0.9424</td>\n",
       "      <td>V12.21</td>\n",
       "      <td>0.3498</td>\n",
       "    </tr>\n",
       "    <tr>\n",
       "      <th>1</th>\n",
       "      <td>A 28-year-old female with a history of gestational diabetes mellitus diagnosed eight years and anisakiasis. Also, it was reported that fetal and neonatal hemorrhage.</td>\n",
       "      <td>anisakiasis</td>\n",
       "      <td>95</td>\n",
       "      <td>105</td>\n",
       "      <td>PROBLEM</td>\n",
       "      <td>0.9933</td>\n",
       "      <td>127.1</td>\n",
       "      <td>0.9933</td>\n",
       "    </tr>\n",
       "    <tr>\n",
       "      <th>2</th>\n",
       "      <td>A 28-year-old female with a history of gestational diabetes mellitus diagnosed eight years and anisakiasis. Also, it was reported that fetal and neonatal hemorrhage.</td>\n",
       "      <td>fetal and neonatal hemorrhage</td>\n",
       "      <td>135</td>\n",
       "      <td>163</td>\n",
       "      <td>PROBLEM</td>\n",
       "      <td>0.81154996</td>\n",
       "      <td>772</td>\n",
       "      <td>0.81154996</td>\n",
       "    </tr>\n",
       "  </tbody>\n",
       "</table>\n",
       "</div>"
      ],
      "text/plain": [
       "                                                                                                                                                                document  \\\n",
       "0  A 28-year-old female with a history of gestational diabetes mellitus diagnosed eight years and anisakiasis. Also, it was reported that fetal and neonatal hemorrhage.   \n",
       "1  A 28-year-old female with a history of gestational diabetes mellitus diagnosed eight years and anisakiasis. Also, it was reported that fetal and neonatal hemorrhage.   \n",
       "2  A 28-year-old female with a history of gestational diabetes mellitus diagnosed eight years and anisakiasis. Also, it was reported that fetal and neonatal hemorrhage.   \n",
       "\n",
       "                       ner_chunk  begin  end ner_label ner_confidence  \\\n",
       "0  gestational diabetes mellitus     39   67   PROBLEM         0.9424   \n",
       "1                    anisakiasis     95  105   PROBLEM         0.9933   \n",
       "2  fetal and neonatal hemorrhage    135  163   PROBLEM     0.81154996   \n",
       "\n",
       "  icd9_code icd9_confidence  \n",
       "0    V12.21          0.3498  \n",
       "1     127.1          0.9933  \n",
       "2       772      0.81154996  "
      ]
     },
     "execution_count": 8,
     "metadata": {},
     "output_type": "execute_result"
    }
   ],
   "source": [
    "input_json_data = {\"text\": sample_text}\n",
    "\n",
    "data =  process_data_and_invoke_realtime_endpoint(input_json_data, content_type=\"application/json\" , accept=\"application/json\" )\n",
    "pd.DataFrame(data[\"predictions\"])"
   ]
  },
  {
   "cell_type": "markdown",
   "metadata": {},
   "source": [
    "#### Example 2"
   ]
  },
  {
   "cell_type": "markdown",
   "metadata": {},
   "source": [
    "  **Input format**:\n",
    "  \n",
    "  \n",
    "```json\n",
    "{\n",
    "    \"text\": [\n",
    "        \"Text document 1\",\n",
    "        \"Text document 2\",\n",
    "        ...\n",
    "    ]\n",
    "}\n",
    "```"
   ]
  },
  {
   "cell_type": "code",
   "execution_count": 9,
   "metadata": {
    "tags": []
   },
   "outputs": [
    {
     "data": {
      "text/html": [
       "<div>\n",
       "<style scoped>\n",
       "    .dataframe tbody tr th:only-of-type {\n",
       "        vertical-align: middle;\n",
       "    }\n",
       "\n",
       "    .dataframe tbody tr th {\n",
       "        vertical-align: top;\n",
       "    }\n",
       "\n",
       "    .dataframe thead th {\n",
       "        text-align: right;\n",
       "    }\n",
       "</style>\n",
       "<table border=\"1\" class=\"dataframe\">\n",
       "  <thead>\n",
       "    <tr style=\"text-align: right;\">\n",
       "      <th></th>\n",
       "      <th>document</th>\n",
       "      <th>ner_chunk</th>\n",
       "      <th>begin</th>\n",
       "      <th>end</th>\n",
       "      <th>ner_label</th>\n",
       "      <th>ner_confidence</th>\n",
       "      <th>icd9_code</th>\n",
       "      <th>icd9_confidence</th>\n",
       "    </tr>\n",
       "  </thead>\n",
       "  <tbody>\n",
       "    <tr>\n",
       "      <th>0</th>\n",
       "      <td>An 86-year-old female with persistent abdominal pain, nausea and projectile vomiting, during evaluation in the emergency room, was found to have a high amylase, as well as lipase count and she is being admitted for management of unspecified gastrointestinal hemorrhage.</td>\n",
       "      <td>persistent abdominal pain</td>\n",
       "      <td>27</td>\n",
       "      <td>51</td>\n",
       "      <td>PROBLEM</td>\n",
       "      <td>0.9549</td>\n",
       "      <td>789.0</td>\n",
       "      <td>0.6235</td>\n",
       "    </tr>\n",
       "    <tr>\n",
       "      <th>1</th>\n",
       "      <td>An 86-year-old female with persistent abdominal pain, nausea and projectile vomiting, during evaluation in the emergency room, was found to have a high amylase, as well as lipase count and she is being admitted for management of unspecified gastrointestinal hemorrhage.</td>\n",
       "      <td>nausea</td>\n",
       "      <td>54</td>\n",
       "      <td>59</td>\n",
       "      <td>PROBLEM</td>\n",
       "      <td>0.9995</td>\n",
       "      <td>536.2</td>\n",
       "      <td>0.2171</td>\n",
       "    </tr>\n",
       "    <tr>\n",
       "      <th>2</th>\n",
       "      <td>An 86-year-old female with persistent abdominal pain, nausea and projectile vomiting, during evaluation in the emergency room, was found to have a high amylase, as well as lipase count and she is being admitted for management of unspecified gastrointestinal hemorrhage.</td>\n",
       "      <td>projectile vomiting</td>\n",
       "      <td>65</td>\n",
       "      <td>83</td>\n",
       "      <td>PROBLEM</td>\n",
       "      <td>0.99434996</td>\n",
       "      <td>307.54</td>\n",
       "      <td>0.6460</td>\n",
       "    </tr>\n",
       "    <tr>\n",
       "      <th>3</th>\n",
       "      <td>An 86-year-old female with persistent abdominal pain, nausea and projectile vomiting, during evaluation in the emergency room, was found to have a high amylase, as well as lipase count and she is being admitted for management of unspecified gastrointestinal hemorrhage.</td>\n",
       "      <td>evaluation</td>\n",
       "      <td>93</td>\n",
       "      <td>102</td>\n",
       "      <td>TEST</td>\n",
       "      <td>0.7622</td>\n",
       "      <td>309</td>\n",
       "      <td>0.2038</td>\n",
       "    </tr>\n",
       "    <tr>\n",
       "      <th>4</th>\n",
       "      <td>An 86-year-old female with persistent abdominal pain, nausea and projectile vomiting, during evaluation in the emergency room, was found to have a high amylase, as well as lipase count and she is being admitted for management of unspecified gastrointestinal hemorrhage.</td>\n",
       "      <td>a high amylase</td>\n",
       "      <td>145</td>\n",
       "      <td>158</td>\n",
       "      <td>PROBLEM</td>\n",
       "      <td>0.90860003</td>\n",
       "      <td>535.2</td>\n",
       "      <td>0.0986</td>\n",
       "    </tr>\n",
       "    <tr>\n",
       "      <th>5</th>\n",
       "      <td>An 86-year-old female with persistent abdominal pain, nausea and projectile vomiting, during evaluation in the emergency room, was found to have a high amylase, as well as lipase count and she is being admitted for management of unspecified gastrointestinal hemorrhage.</td>\n",
       "      <td>lipase count</td>\n",
       "      <td>172</td>\n",
       "      <td>183</td>\n",
       "      <td>TEST</td>\n",
       "      <td>0.88765</td>\n",
       "      <td>272.7</td>\n",
       "      <td>0.3121</td>\n",
       "    </tr>\n",
       "    <tr>\n",
       "      <th>6</th>\n",
       "      <td>An 86-year-old female with persistent abdominal pain, nausea and projectile vomiting, during evaluation in the emergency room, was found to have a high amylase, as well as lipase count and she is being admitted for management of unspecified gastrointestinal hemorrhage.</td>\n",
       "      <td>management</td>\n",
       "      <td>215</td>\n",
       "      <td>224</td>\n",
       "      <td>TREATMENT</td>\n",
       "      <td>0.9986</td>\n",
       "      <td>309</td>\n",
       "      <td>0.2784</td>\n",
       "    </tr>\n",
       "    <tr>\n",
       "      <th>7</th>\n",
       "      <td>An 86-year-old female with persistent abdominal pain, nausea and projectile vomiting, during evaluation in the emergency room, was found to have a high amylase, as well as lipase count and she is being admitted for management of unspecified gastrointestinal hemorrhage.</td>\n",
       "      <td>unspecified gastrointestinal hemorrhage</td>\n",
       "      <td>229</td>\n",
       "      <td>267</td>\n",
       "      <td>PROBLEM</td>\n",
       "      <td>0.89243335</td>\n",
       "      <td>578.9</td>\n",
       "      <td>0.5944</td>\n",
       "    </tr>\n",
       "    <tr>\n",
       "      <th>8</th>\n",
       "      <td>Complaints of unspecified upper abdominal pain and swelling in a 32-year-old woman led to the evaluation of possible disease of intestine. She had a history of mixed irritable bowel syndrome and congenital lactase deficiency. Several diagnostic tests were performed. Blood tests showed abnormal results of blood chemistry and colonoscopy was performed.</td>\n",
       "      <td>unspecified upper abdominal pain</td>\n",
       "      <td>14</td>\n",
       "      <td>45</td>\n",
       "      <td>PROBLEM</td>\n",
       "      <td>0.805175</td>\n",
       "      <td>789.00</td>\n",
       "      <td>0.4183</td>\n",
       "    </tr>\n",
       "    <tr>\n",
       "      <th>9</th>\n",
       "      <td>Complaints of unspecified upper abdominal pain and swelling in a 32-year-old woman led to the evaluation of possible disease of intestine. She had a history of mixed irritable bowel syndrome and congenital lactase deficiency. Several diagnostic tests were performed. Blood tests showed abnormal results of blood chemistry and colonoscopy was performed.</td>\n",
       "      <td>swelling</td>\n",
       "      <td>51</td>\n",
       "      <td>58</td>\n",
       "      <td>PROBLEM</td>\n",
       "      <td>0.9994</td>\n",
       "      <td>729.81</td>\n",
       "      <td>0.4068</td>\n",
       "    </tr>\n",
       "    <tr>\n",
       "      <th>10</th>\n",
       "      <td>Complaints of unspecified upper abdominal pain and swelling in a 32-year-old woman led to the evaluation of possible disease of intestine. She had a history of mixed irritable bowel syndrome and congenital lactase deficiency. Several diagnostic tests were performed. Blood tests showed abnormal results of blood chemistry and colonoscopy was performed.</td>\n",
       "      <td>the evaluation</td>\n",
       "      <td>90</td>\n",
       "      <td>103</td>\n",
       "      <td>TEST</td>\n",
       "      <td>0.83545</td>\n",
       "      <td>302.4</td>\n",
       "      <td>0.1755</td>\n",
       "    </tr>\n",
       "    <tr>\n",
       "      <th>11</th>\n",
       "      <td>Complaints of unspecified upper abdominal pain and swelling in a 32-year-old woman led to the evaluation of possible disease of intestine. She had a history of mixed irritable bowel syndrome and congenital lactase deficiency. Several diagnostic tests were performed. Blood tests showed abnormal results of blood chemistry and colonoscopy was performed.</td>\n",
       "      <td>disease of intestine</td>\n",
       "      <td>117</td>\n",
       "      <td>136</td>\n",
       "      <td>PROBLEM</td>\n",
       "      <td>0.84213334</td>\n",
       "      <td>562</td>\n",
       "      <td>0.1838</td>\n",
       "    </tr>\n",
       "    <tr>\n",
       "      <th>12</th>\n",
       "      <td>Complaints of unspecified upper abdominal pain and swelling in a 32-year-old woman led to the evaluation of possible disease of intestine. She had a history of mixed irritable bowel syndrome and congenital lactase deficiency. Several diagnostic tests were performed. Blood tests showed abnormal results of blood chemistry and colonoscopy was performed.</td>\n",
       "      <td>mixed irritable bowel syndrome</td>\n",
       "      <td>160</td>\n",
       "      <td>189</td>\n",
       "      <td>PROBLEM</td>\n",
       "      <td>0.95814997</td>\n",
       "      <td>564.1</td>\n",
       "      <td>0.9717</td>\n",
       "    </tr>\n",
       "    <tr>\n",
       "      <th>13</th>\n",
       "      <td>Complaints of unspecified upper abdominal pain and swelling in a 32-year-old woman led to the evaluation of possible disease of intestine. She had a history of mixed irritable bowel syndrome and congenital lactase deficiency. Several diagnostic tests were performed. Blood tests showed abnormal results of blood chemistry and colonoscopy was performed.</td>\n",
       "      <td>congenital lactase deficiency</td>\n",
       "      <td>195</td>\n",
       "      <td>223</td>\n",
       "      <td>PROBLEM</td>\n",
       "      <td>0.9917</td>\n",
       "      <td>277.81</td>\n",
       "      <td>0.0759</td>\n",
       "    </tr>\n",
       "    <tr>\n",
       "      <th>14</th>\n",
       "      <td>Complaints of unspecified upper abdominal pain and swelling in a 32-year-old woman led to the evaluation of possible disease of intestine. She had a history of mixed irritable bowel syndrome and congenital lactase deficiency. Several diagnostic tests were performed. Blood tests showed abnormal results of blood chemistry and colonoscopy was performed.</td>\n",
       "      <td>Several diagnostic tests</td>\n",
       "      <td>226</td>\n",
       "      <td>249</td>\n",
       "      <td>TEST</td>\n",
       "      <td>0.7106333</td>\n",
       "      <td>V72.69</td>\n",
       "      <td>0.1406</td>\n",
       "    </tr>\n",
       "    <tr>\n",
       "      <th>15</th>\n",
       "      <td>Complaints of unspecified upper abdominal pain and swelling in a 32-year-old woman led to the evaluation of possible disease of intestine. She had a history of mixed irritable bowel syndrome and congenital lactase deficiency. Several diagnostic tests were performed. Blood tests showed abnormal results of blood chemistry and colonoscopy was performed.</td>\n",
       "      <td>Blood tests</td>\n",
       "      <td>267</td>\n",
       "      <td>277</td>\n",
       "      <td>TEST</td>\n",
       "      <td>0.93785</td>\n",
       "      <td>578.1</td>\n",
       "      <td>0.1081</td>\n",
       "    </tr>\n",
       "    <tr>\n",
       "      <th>16</th>\n",
       "      <td>Complaints of unspecified upper abdominal pain and swelling in a 32-year-old woman led to the evaluation of possible disease of intestine. She had a history of mixed irritable bowel syndrome and congenital lactase deficiency. Several diagnostic tests were performed. Blood tests showed abnormal results of blood chemistry and colonoscopy was performed.</td>\n",
       "      <td>abnormal results of blood chemistry</td>\n",
       "      <td>286</td>\n",
       "      <td>320</td>\n",
       "      <td>PROBLEM</td>\n",
       "      <td>0.8009399</td>\n",
       "      <td>790.6</td>\n",
       "      <td>0.4051</td>\n",
       "    </tr>\n",
       "    <tr>\n",
       "      <th>17</th>\n",
       "      <td>Complaints of unspecified upper abdominal pain and swelling in a 32-year-old woman led to the evaluation of possible disease of intestine. She had a history of mixed irritable bowel syndrome and congenital lactase deficiency. Several diagnostic tests were performed. Blood tests showed abnormal results of blood chemistry and colonoscopy was performed.</td>\n",
       "      <td>colonoscopy</td>\n",
       "      <td>326</td>\n",
       "      <td>336</td>\n",
       "      <td>TEST</td>\n",
       "      <td>0.9871</td>\n",
       "      <td>562.1</td>\n",
       "      <td>0.4739</td>\n",
       "    </tr>\n",
       "  </tbody>\n",
       "</table>\n",
       "</div>"
      ],
      "text/plain": [
       "                                                                                                                                                                                                                                                                                                                                                            document  \\\n",
       "0                                                                                      An 86-year-old female with persistent abdominal pain, nausea and projectile vomiting, during evaluation in the emergency room, was found to have a high amylase, as well as lipase count and she is being admitted for management of unspecified gastrointestinal hemorrhage.   \n",
       "1                                                                                      An 86-year-old female with persistent abdominal pain, nausea and projectile vomiting, during evaluation in the emergency room, was found to have a high amylase, as well as lipase count and she is being admitted for management of unspecified gastrointestinal hemorrhage.   \n",
       "2                                                                                      An 86-year-old female with persistent abdominal pain, nausea and projectile vomiting, during evaluation in the emergency room, was found to have a high amylase, as well as lipase count and she is being admitted for management of unspecified gastrointestinal hemorrhage.   \n",
       "3                                                                                      An 86-year-old female with persistent abdominal pain, nausea and projectile vomiting, during evaluation in the emergency room, was found to have a high amylase, as well as lipase count and she is being admitted for management of unspecified gastrointestinal hemorrhage.   \n",
       "4                                                                                      An 86-year-old female with persistent abdominal pain, nausea and projectile vomiting, during evaluation in the emergency room, was found to have a high amylase, as well as lipase count and she is being admitted for management of unspecified gastrointestinal hemorrhage.   \n",
       "5                                                                                      An 86-year-old female with persistent abdominal pain, nausea and projectile vomiting, during evaluation in the emergency room, was found to have a high amylase, as well as lipase count and she is being admitted for management of unspecified gastrointestinal hemorrhage.   \n",
       "6                                                                                      An 86-year-old female with persistent abdominal pain, nausea and projectile vomiting, during evaluation in the emergency room, was found to have a high amylase, as well as lipase count and she is being admitted for management of unspecified gastrointestinal hemorrhage.   \n",
       "7                                                                                      An 86-year-old female with persistent abdominal pain, nausea and projectile vomiting, during evaluation in the emergency room, was found to have a high amylase, as well as lipase count and she is being admitted for management of unspecified gastrointestinal hemorrhage.   \n",
       "8   Complaints of unspecified upper abdominal pain and swelling in a 32-year-old woman led to the evaluation of possible disease of intestine. She had a history of mixed irritable bowel syndrome and congenital lactase deficiency. Several diagnostic tests were performed. Blood tests showed abnormal results of blood chemistry and colonoscopy was performed.   \n",
       "9   Complaints of unspecified upper abdominal pain and swelling in a 32-year-old woman led to the evaluation of possible disease of intestine. She had a history of mixed irritable bowel syndrome and congenital lactase deficiency. Several diagnostic tests were performed. Blood tests showed abnormal results of blood chemistry and colonoscopy was performed.   \n",
       "10  Complaints of unspecified upper abdominal pain and swelling in a 32-year-old woman led to the evaluation of possible disease of intestine. She had a history of mixed irritable bowel syndrome and congenital lactase deficiency. Several diagnostic tests were performed. Blood tests showed abnormal results of blood chemistry and colonoscopy was performed.   \n",
       "11  Complaints of unspecified upper abdominal pain and swelling in a 32-year-old woman led to the evaluation of possible disease of intestine. She had a history of mixed irritable bowel syndrome and congenital lactase deficiency. Several diagnostic tests were performed. Blood tests showed abnormal results of blood chemistry and colonoscopy was performed.   \n",
       "12  Complaints of unspecified upper abdominal pain and swelling in a 32-year-old woman led to the evaluation of possible disease of intestine. She had a history of mixed irritable bowel syndrome and congenital lactase deficiency. Several diagnostic tests were performed. Blood tests showed abnormal results of blood chemistry and colonoscopy was performed.   \n",
       "13  Complaints of unspecified upper abdominal pain and swelling in a 32-year-old woman led to the evaluation of possible disease of intestine. She had a history of mixed irritable bowel syndrome and congenital lactase deficiency. Several diagnostic tests were performed. Blood tests showed abnormal results of blood chemistry and colonoscopy was performed.   \n",
       "14  Complaints of unspecified upper abdominal pain and swelling in a 32-year-old woman led to the evaluation of possible disease of intestine. She had a history of mixed irritable bowel syndrome and congenital lactase deficiency. Several diagnostic tests were performed. Blood tests showed abnormal results of blood chemistry and colonoscopy was performed.   \n",
       "15  Complaints of unspecified upper abdominal pain and swelling in a 32-year-old woman led to the evaluation of possible disease of intestine. She had a history of mixed irritable bowel syndrome and congenital lactase deficiency. Several diagnostic tests were performed. Blood tests showed abnormal results of blood chemistry and colonoscopy was performed.   \n",
       "16  Complaints of unspecified upper abdominal pain and swelling in a 32-year-old woman led to the evaluation of possible disease of intestine. She had a history of mixed irritable bowel syndrome and congenital lactase deficiency. Several diagnostic tests were performed. Blood tests showed abnormal results of blood chemistry and colonoscopy was performed.   \n",
       "17  Complaints of unspecified upper abdominal pain and swelling in a 32-year-old woman led to the evaluation of possible disease of intestine. She had a history of mixed irritable bowel syndrome and congenital lactase deficiency. Several diagnostic tests were performed. Blood tests showed abnormal results of blood chemistry and colonoscopy was performed.   \n",
       "\n",
       "                                  ner_chunk  begin  end  ner_label  \\\n",
       "0                 persistent abdominal pain     27   51    PROBLEM   \n",
       "1                                    nausea     54   59    PROBLEM   \n",
       "2                       projectile vomiting     65   83    PROBLEM   \n",
       "3                                evaluation     93  102       TEST   \n",
       "4                            a high amylase    145  158    PROBLEM   \n",
       "5                              lipase count    172  183       TEST   \n",
       "6                                management    215  224  TREATMENT   \n",
       "7   unspecified gastrointestinal hemorrhage    229  267    PROBLEM   \n",
       "8          unspecified upper abdominal pain     14   45    PROBLEM   \n",
       "9                                  swelling     51   58    PROBLEM   \n",
       "10                           the evaluation     90  103       TEST   \n",
       "11                     disease of intestine    117  136    PROBLEM   \n",
       "12           mixed irritable bowel syndrome    160  189    PROBLEM   \n",
       "13            congenital lactase deficiency    195  223    PROBLEM   \n",
       "14                 Several diagnostic tests    226  249       TEST   \n",
       "15                              Blood tests    267  277       TEST   \n",
       "16      abnormal results of blood chemistry    286  320    PROBLEM   \n",
       "17                              colonoscopy    326  336       TEST   \n",
       "\n",
       "   ner_confidence icd9_code icd9_confidence  \n",
       "0          0.9549     789.0          0.6235  \n",
       "1          0.9995     536.2          0.2171  \n",
       "2      0.99434996    307.54          0.6460  \n",
       "3          0.7622       309          0.2038  \n",
       "4      0.90860003     535.2          0.0986  \n",
       "5         0.88765     272.7          0.3121  \n",
       "6          0.9986       309          0.2784  \n",
       "7      0.89243335     578.9          0.5944  \n",
       "8        0.805175    789.00          0.4183  \n",
       "9          0.9994    729.81          0.4068  \n",
       "10        0.83545     302.4          0.1755  \n",
       "11     0.84213334       562          0.1838  \n",
       "12     0.95814997     564.1          0.9717  \n",
       "13         0.9917    277.81          0.0759  \n",
       "14      0.7106333    V72.69          0.1406  \n",
       "15        0.93785     578.1          0.1081  \n",
       "16      0.8009399     790.6          0.4051  \n",
       "17         0.9871     562.1          0.4739  "
      ]
     },
     "execution_count": 9,
     "metadata": {},
     "output_type": "execute_result"
    }
   ],
   "source": [
    "input_json_data = {\"text\": docs}\n",
    "\n",
    "data =  process_data_and_invoke_realtime_endpoint(input_json_data, content_type=\"application/json\" , accept=\"application/json\" )\n",
    "pd.DataFrame(data[\"predictions\"])"
   ]
  },
  {
   "cell_type": "markdown",
   "metadata": {},
   "source": [
    "### JSON Lines"
   ]
  },
  {
   "cell_type": "markdown",
   "metadata": {},
   "source": [
    "  **Input format**:\n",
    "  \n",
    "```json\n",
    "{\"text\": \"Text document 1\"}\n",
    "{\"text\": \"Text document 2\"}\n",
    "```"
   ]
  },
  {
   "cell_type": "code",
   "execution_count": 10,
   "metadata": {
    "tags": []
   },
   "outputs": [],
   "source": [
    "import json\n",
    "\n",
    "def create_jsonl(records):\n",
    "    json_records = []\n",
    "\n",
    "    for text in records:\n",
    "        record = {\n",
    "            \"text\": text\n",
    "        }\n",
    "        json_records.append(record)\n",
    "\n",
    "    json_lines = '\\n'.join(json.dumps(record) for record in json_records)\n",
    "\n",
    "    return json_lines\n",
    "\n",
    "input_jsonl_data = create_jsonl(docs)"
   ]
  },
  {
   "cell_type": "markdown",
   "metadata": {},
   "source": [
    "#### Example 1"
   ]
  },
  {
   "cell_type": "code",
   "execution_count": 11,
   "metadata": {
    "tags": []
   },
   "outputs": [
    {
     "name": "stdout",
     "output_type": "stream",
     "text": [
      "{\"predictions\": [{\"ner_chunk\": \"persistent abdominal pain\", \"begin\": 27, \"end\": 51, \"ner_label\": \"PROBLEM\", \"ner_confidence\": \"0.9549\", \"icd9_code\": \"789.0\", \"icd9_confidence\": \"0.6235\"}, {\"ner_chunk\": \"nausea\", \"begin\": 54, \"end\": 59, \"ner_label\": \"PROBLEM\", \"ner_confidence\": \"0.9995\", \"icd9_code\": \"536.2\", \"icd9_confidence\": \"0.2171\"}, {\"ner_chunk\": \"projectile vomiting\", \"begin\": 65, \"end\": 83, \"ner_label\": \"PROBLEM\", \"ner_confidence\": \"0.99434996\", \"icd9_code\": \"307.54\", \"icd9_confidence\": \"0.6460\"}, {\"ner_chunk\": \"evaluation\", \"begin\": 93, \"end\": 102, \"ner_label\": \"TEST\", \"ner_confidence\": \"0.7622\", \"icd9_code\": \"309\", \"icd9_confidence\": \"0.2038\"}, {\"ner_chunk\": \"a high amylase\", \"begin\": 145, \"end\": 158, \"ner_label\": \"PROBLEM\", \"ner_confidence\": \"0.90860003\", \"icd9_code\": \"535.2\", \"icd9_confidence\": \"0.0986\"}, {\"ner_chunk\": \"lipase count\", \"begin\": 172, \"end\": 183, \"ner_label\": \"TEST\", \"ner_confidence\": \"0.88765\", \"icd9_code\": \"272.7\", \"icd9_confidence\": \"0.3121\"}, {\"ner_chunk\": \"management\", \"begin\": 215, \"end\": 224, \"ner_label\": \"TREATMENT\", \"ner_confidence\": \"0.9986\", \"icd9_code\": \"309\", \"icd9_confidence\": \"0.2784\"}, {\"ner_chunk\": \"unspecified gastrointestinal hemorrhage\", \"begin\": 229, \"end\": 267, \"ner_label\": \"PROBLEM\", \"ner_confidence\": \"0.89243335\", \"icd9_code\": \"578.9\", \"icd9_confidence\": \"0.5944\"}]}\n",
      "{\"predictions\": [{\"ner_chunk\": \"unspecified upper abdominal pain\", \"begin\": 14, \"end\": 45, \"ner_label\": \"PROBLEM\", \"ner_confidence\": \"0.805175\", \"icd9_code\": \"789.00\", \"icd9_confidence\": \"0.4183\"}, {\"ner_chunk\": \"swelling\", \"begin\": 51, \"end\": 58, \"ner_label\": \"PROBLEM\", \"ner_confidence\": \"0.9994\", \"icd9_code\": \"729.81\", \"icd9_confidence\": \"0.4068\"}, {\"ner_chunk\": \"the evaluation\", \"begin\": 90, \"end\": 103, \"ner_label\": \"TEST\", \"ner_confidence\": \"0.83545\", \"icd9_code\": \"302.4\", \"icd9_confidence\": \"0.1755\"}, {\"ner_chunk\": \"disease of intestine\", \"begin\": 117, \"end\": 136, \"ner_label\": \"PROBLEM\", \"ner_confidence\": \"0.84213334\", \"icd9_code\": \"562\", \"icd9_confidence\": \"0.1838\"}, {\"ner_chunk\": \"mixed irritable bowel syndrome\", \"begin\": 160, \"end\": 189, \"ner_label\": \"PROBLEM\", \"ner_confidence\": \"0.95814997\", \"icd9_code\": \"564.1\", \"icd9_confidence\": \"0.9717\"}, {\"ner_chunk\": \"congenital lactase deficiency\", \"begin\": 195, \"end\": 223, \"ner_label\": \"PROBLEM\", \"ner_confidence\": \"0.9917\", \"icd9_code\": \"277.81\", \"icd9_confidence\": \"0.0759\"}, {\"ner_chunk\": \"Several diagnostic tests\", \"begin\": 226, \"end\": 249, \"ner_label\": \"TEST\", \"ner_confidence\": \"0.7106333\", \"icd9_code\": \"V72.69\", \"icd9_confidence\": \"0.1406\"}, {\"ner_chunk\": \"Blood tests\", \"begin\": 267, \"end\": 277, \"ner_label\": \"TEST\", \"ner_confidence\": \"0.93785\", \"icd9_code\": \"578.1\", \"icd9_confidence\": \"0.1081\"}, {\"ner_chunk\": \"abnormal results of blood chemistry\", \"begin\": 286, \"end\": 320, \"ner_label\": \"PROBLEM\", \"ner_confidence\": \"0.8009399\", \"icd9_code\": \"790.6\", \"icd9_confidence\": \"0.4051\"}, {\"ner_chunk\": \"colonoscopy\", \"begin\": 326, \"end\": 336, \"ner_label\": \"TEST\", \"ner_confidence\": \"0.9871\", \"icd9_code\": \"562.1\", \"icd9_confidence\": \"0.4739\"}]}\n"
     ]
    }
   ],
   "source": [
    "data = process_data_and_invoke_realtime_endpoint(input_jsonl_data, content_type=\"application/jsonlines\" , accept=\"application/jsonlines\" )\n",
    "print(data)"
   ]
  },
  {
   "cell_type": "markdown",
   "metadata": {},
   "source": [
    "### C. Delete the endpoint"
   ]
  },
  {
   "cell_type": "markdown",
   "metadata": {},
   "source": [
    "Now that you have successfully performed a real-time inference, you do not need the endpoint any more. You can terminate the endpoint to avoid being charged."
   ]
  },
  {
   "cell_type": "code",
   "execution_count": 12,
   "metadata": {
    "tags": []
   },
   "outputs": [],
   "source": [
    "model.sagemaker_session.delete_endpoint(model_name)\n",
    "model.sagemaker_session.delete_endpoint_config(model_name)"
   ]
  },
  {
   "cell_type": "markdown",
   "metadata": {
    "tags": []
   },
   "source": [
    "## 3. Batch inference"
   ]
  },
  {
   "cell_type": "code",
   "execution_count": 13,
   "metadata": {
    "tags": []
   },
   "outputs": [],
   "source": [
    "import json\n",
    "import os\n",
    "\n",
    "input_dir = 'inputs/batch'\n",
    "json_input_dir = f\"{input_dir}/json\"\n",
    "jsonl_input_dir = f\"{input_dir}/jsonl\"\n",
    "\n",
    "output_dir = 'outputs/batch'\n",
    "json_output_dir = f\"{output_dir}/json\"\n",
    "jsonl_output_dir = f\"{output_dir}/jsonl\"\n",
    "\n",
    "os.makedirs(json_input_dir, exist_ok=True)\n",
    "os.makedirs(jsonl_input_dir, exist_ok=True)\n",
    "os.makedirs(json_output_dir, exist_ok=True)\n",
    "os.makedirs(jsonl_output_dir, exist_ok=True)\n",
    "\n",
    "validation_json_file_name = \"input.json\"\n",
    "\n",
    "validation_jsonl_file_name = \"input.jsonl\"\n",
    "\n",
    "validation_input_json_path = f\"s3://{s3_bucket}/{model_name}/validation-input/batch/json/\"\n",
    "validation_output_json_path = f\"s3://{s3_bucket}/{model_name}/validation-output/batch/json/\"\n",
    "\n",
    "validation_input_jsonl_path = f\"s3://{s3_bucket}/{model_name}/validation-input/batch/jsonl/\"\n",
    "validation_output_jsonl_path = f\"s3://{s3_bucket}/{model_name}/validation-output/batch/jsonl/\"\n",
    "\n",
    "def write_and_upload_to_s3(input_data, file_name):\n",
    "    file_format = os.path.splitext(file_name)[1].lower()\n",
    "    if file_format == \".json\":\n",
    "        input_data = json.dumps(input_data)\n",
    "\n",
    "    with open(file_name, \"w\") as f:\n",
    "        f.write(input_data)\n",
    "\n",
    "    s3_client.put_object(\n",
    "        Bucket=s3_bucket,\n",
    "        Key=f\"{model_name}/validation-input/batch/{file_format[1:]}/{os.path.basename(file_name)}\",\n",
    "        Body=(bytes(input_data.encode(\"UTF-8\"))),\n",
    "    )"
   ]
  },
  {
   "cell_type": "code",
   "execution_count": 14,
   "metadata": {
    "tags": []
   },
   "outputs": [],
   "source": [
    "input_jsonl_data = create_jsonl(docs)\n",
    "input_json_data = {\"text\": docs}\n",
    "\n",
    "write_and_upload_to_s3(input_json_data, f\"{json_input_dir}/{validation_json_file_name}\")\n",
    "\n",
    "write_and_upload_to_s3(input_jsonl_data, f\"{jsonl_input_dir}/{validation_jsonl_file_name}\")"
   ]
  },
  {
   "cell_type": "markdown",
   "metadata": {},
   "source": [
    "### JSON"
   ]
  },
  {
   "cell_type": "code",
   "execution_count": null,
   "metadata": {
    "tags": []
   },
   "outputs": [],
   "source": [
    "# Initialize a SageMaker Transformer object for making predictions\n",
    "transformer = model.transformer(\n",
    "    instance_count=1,\n",
    "    instance_type=batch_transform_inference_instance_type,\n",
    "    accept=\"application/json\",\n",
    "    output_path=validation_output_json_path\n",
    ")\n",
    "\n",
    "transformer.transform(validation_input_json_path, content_type=\"application/json\")\n",
    "transformer.wait()"
   ]
  },
  {
   "cell_type": "code",
   "execution_count": 16,
   "metadata": {
    "tags": []
   },
   "outputs": [],
   "source": [
    "from urllib.parse import urlparse\n",
    "\n",
    "def process_s3_json_output_and_save(validation_file_name):\n",
    "\n",
    "    output_file_path = f\"{json_output_dir}/{validation_file_name}.out\"\n",
    "    parsed_url = urlparse(transformer.output_path)\n",
    "    file_key = f\"{parsed_url.path[1:]}{validation_file_name}.out\"\n",
    "    response = s3_client.get_object(Bucket=s3_bucket, Key=file_key)\n",
    "\n",
    "    data = json.loads(response[\"Body\"].read().decode(\"utf-8\"))\n",
    "    df = pd.DataFrame(data[\"predictions\"])\n",
    "    display(df)\n",
    "\n",
    "    # Save the data to the output file\n",
    "    with open(output_file_path, 'w') as f_out:\n",
    "        json.dump(data, f_out, indent=4)"
   ]
  },
  {
   "cell_type": "code",
   "execution_count": 17,
   "metadata": {
    "tags": []
   },
   "outputs": [
    {
     "data": {
      "text/html": [
       "<div>\n",
       "<style scoped>\n",
       "    .dataframe tbody tr th:only-of-type {\n",
       "        vertical-align: middle;\n",
       "    }\n",
       "\n",
       "    .dataframe tbody tr th {\n",
       "        vertical-align: top;\n",
       "    }\n",
       "\n",
       "    .dataframe thead th {\n",
       "        text-align: right;\n",
       "    }\n",
       "</style>\n",
       "<table border=\"1\" class=\"dataframe\">\n",
       "  <thead>\n",
       "    <tr style=\"text-align: right;\">\n",
       "      <th></th>\n",
       "      <th>document</th>\n",
       "      <th>ner_chunk</th>\n",
       "      <th>begin</th>\n",
       "      <th>end</th>\n",
       "      <th>ner_label</th>\n",
       "      <th>ner_confidence</th>\n",
       "      <th>icd9_code</th>\n",
       "      <th>icd9_confidence</th>\n",
       "    </tr>\n",
       "  </thead>\n",
       "  <tbody>\n",
       "    <tr>\n",
       "      <th>0</th>\n",
       "      <td>An 86-year-old female with persistent abdominal pain, nausea and projectile vomiting, during evaluation in the emergency room, was found to have a high amylase, as well as lipase count and she is being admitted for management of unspecified gastrointestinal hemorrhage.</td>\n",
       "      <td>persistent abdominal pain</td>\n",
       "      <td>27</td>\n",
       "      <td>51</td>\n",
       "      <td>PROBLEM</td>\n",
       "      <td>0.9549</td>\n",
       "      <td>789.0</td>\n",
       "      <td>0.6235</td>\n",
       "    </tr>\n",
       "    <tr>\n",
       "      <th>1</th>\n",
       "      <td>An 86-year-old female with persistent abdominal pain, nausea and projectile vomiting, during evaluation in the emergency room, was found to have a high amylase, as well as lipase count and she is being admitted for management of unspecified gastrointestinal hemorrhage.</td>\n",
       "      <td>nausea</td>\n",
       "      <td>54</td>\n",
       "      <td>59</td>\n",
       "      <td>PROBLEM</td>\n",
       "      <td>0.9995</td>\n",
       "      <td>536.2</td>\n",
       "      <td>0.2171</td>\n",
       "    </tr>\n",
       "    <tr>\n",
       "      <th>2</th>\n",
       "      <td>An 86-year-old female with persistent abdominal pain, nausea and projectile vomiting, during evaluation in the emergency room, was found to have a high amylase, as well as lipase count and she is being admitted for management of unspecified gastrointestinal hemorrhage.</td>\n",
       "      <td>projectile vomiting</td>\n",
       "      <td>65</td>\n",
       "      <td>83</td>\n",
       "      <td>PROBLEM</td>\n",
       "      <td>0.99434996</td>\n",
       "      <td>307.54</td>\n",
       "      <td>0.6460</td>\n",
       "    </tr>\n",
       "    <tr>\n",
       "      <th>3</th>\n",
       "      <td>An 86-year-old female with persistent abdominal pain, nausea and projectile vomiting, during evaluation in the emergency room, was found to have a high amylase, as well as lipase count and she is being admitted for management of unspecified gastrointestinal hemorrhage.</td>\n",
       "      <td>evaluation</td>\n",
       "      <td>93</td>\n",
       "      <td>102</td>\n",
       "      <td>TEST</td>\n",
       "      <td>0.7622</td>\n",
       "      <td>309</td>\n",
       "      <td>0.2038</td>\n",
       "    </tr>\n",
       "    <tr>\n",
       "      <th>4</th>\n",
       "      <td>An 86-year-old female with persistent abdominal pain, nausea and projectile vomiting, during evaluation in the emergency room, was found to have a high amylase, as well as lipase count and she is being admitted for management of unspecified gastrointestinal hemorrhage.</td>\n",
       "      <td>a high amylase</td>\n",
       "      <td>145</td>\n",
       "      <td>158</td>\n",
       "      <td>PROBLEM</td>\n",
       "      <td>0.90860003</td>\n",
       "      <td>535.2</td>\n",
       "      <td>0.0986</td>\n",
       "    </tr>\n",
       "    <tr>\n",
       "      <th>5</th>\n",
       "      <td>An 86-year-old female with persistent abdominal pain, nausea and projectile vomiting, during evaluation in the emergency room, was found to have a high amylase, as well as lipase count and she is being admitted for management of unspecified gastrointestinal hemorrhage.</td>\n",
       "      <td>lipase count</td>\n",
       "      <td>172</td>\n",
       "      <td>183</td>\n",
       "      <td>TEST</td>\n",
       "      <td>0.88765</td>\n",
       "      <td>272.7</td>\n",
       "      <td>0.3121</td>\n",
       "    </tr>\n",
       "    <tr>\n",
       "      <th>6</th>\n",
       "      <td>An 86-year-old female with persistent abdominal pain, nausea and projectile vomiting, during evaluation in the emergency room, was found to have a high amylase, as well as lipase count and she is being admitted for management of unspecified gastrointestinal hemorrhage.</td>\n",
       "      <td>management</td>\n",
       "      <td>215</td>\n",
       "      <td>224</td>\n",
       "      <td>TREATMENT</td>\n",
       "      <td>0.9986</td>\n",
       "      <td>309</td>\n",
       "      <td>0.2784</td>\n",
       "    </tr>\n",
       "    <tr>\n",
       "      <th>7</th>\n",
       "      <td>An 86-year-old female with persistent abdominal pain, nausea and projectile vomiting, during evaluation in the emergency room, was found to have a high amylase, as well as lipase count and she is being admitted for management of unspecified gastrointestinal hemorrhage.</td>\n",
       "      <td>unspecified gastrointestinal hemorrhage</td>\n",
       "      <td>229</td>\n",
       "      <td>267</td>\n",
       "      <td>PROBLEM</td>\n",
       "      <td>0.89243335</td>\n",
       "      <td>578.9</td>\n",
       "      <td>0.5944</td>\n",
       "    </tr>\n",
       "    <tr>\n",
       "      <th>8</th>\n",
       "      <td>Complaints of unspecified upper abdominal pain and swelling in a 32-year-old woman led to the evaluation of possible disease of intestine. She had a history of mixed irritable bowel syndrome and congenital lactase deficiency. Several diagnostic tests were performed. Blood tests showed abnormal results of blood chemistry and colonoscopy was performed.</td>\n",
       "      <td>unspecified upper abdominal pain</td>\n",
       "      <td>14</td>\n",
       "      <td>45</td>\n",
       "      <td>PROBLEM</td>\n",
       "      <td>0.805175</td>\n",
       "      <td>789.00</td>\n",
       "      <td>0.4183</td>\n",
       "    </tr>\n",
       "    <tr>\n",
       "      <th>9</th>\n",
       "      <td>Complaints of unspecified upper abdominal pain and swelling in a 32-year-old woman led to the evaluation of possible disease of intestine. She had a history of mixed irritable bowel syndrome and congenital lactase deficiency. Several diagnostic tests were performed. Blood tests showed abnormal results of blood chemistry and colonoscopy was performed.</td>\n",
       "      <td>swelling</td>\n",
       "      <td>51</td>\n",
       "      <td>58</td>\n",
       "      <td>PROBLEM</td>\n",
       "      <td>0.9994</td>\n",
       "      <td>729.81</td>\n",
       "      <td>0.4068</td>\n",
       "    </tr>\n",
       "    <tr>\n",
       "      <th>10</th>\n",
       "      <td>Complaints of unspecified upper abdominal pain and swelling in a 32-year-old woman led to the evaluation of possible disease of intestine. She had a history of mixed irritable bowel syndrome and congenital lactase deficiency. Several diagnostic tests were performed. Blood tests showed abnormal results of blood chemistry and colonoscopy was performed.</td>\n",
       "      <td>the evaluation</td>\n",
       "      <td>90</td>\n",
       "      <td>103</td>\n",
       "      <td>TEST</td>\n",
       "      <td>0.83545</td>\n",
       "      <td>302.4</td>\n",
       "      <td>0.1755</td>\n",
       "    </tr>\n",
       "    <tr>\n",
       "      <th>11</th>\n",
       "      <td>Complaints of unspecified upper abdominal pain and swelling in a 32-year-old woman led to the evaluation of possible disease of intestine. She had a history of mixed irritable bowel syndrome and congenital lactase deficiency. Several diagnostic tests were performed. Blood tests showed abnormal results of blood chemistry and colonoscopy was performed.</td>\n",
       "      <td>disease of intestine</td>\n",
       "      <td>117</td>\n",
       "      <td>136</td>\n",
       "      <td>PROBLEM</td>\n",
       "      <td>0.84213334</td>\n",
       "      <td>562</td>\n",
       "      <td>0.1838</td>\n",
       "    </tr>\n",
       "    <tr>\n",
       "      <th>12</th>\n",
       "      <td>Complaints of unspecified upper abdominal pain and swelling in a 32-year-old woman led to the evaluation of possible disease of intestine. She had a history of mixed irritable bowel syndrome and congenital lactase deficiency. Several diagnostic tests were performed. Blood tests showed abnormal results of blood chemistry and colonoscopy was performed.</td>\n",
       "      <td>mixed irritable bowel syndrome</td>\n",
       "      <td>160</td>\n",
       "      <td>189</td>\n",
       "      <td>PROBLEM</td>\n",
       "      <td>0.95814997</td>\n",
       "      <td>564.1</td>\n",
       "      <td>0.9717</td>\n",
       "    </tr>\n",
       "    <tr>\n",
       "      <th>13</th>\n",
       "      <td>Complaints of unspecified upper abdominal pain and swelling in a 32-year-old woman led to the evaluation of possible disease of intestine. She had a history of mixed irritable bowel syndrome and congenital lactase deficiency. Several diagnostic tests were performed. Blood tests showed abnormal results of blood chemistry and colonoscopy was performed.</td>\n",
       "      <td>congenital lactase deficiency</td>\n",
       "      <td>195</td>\n",
       "      <td>223</td>\n",
       "      <td>PROBLEM</td>\n",
       "      <td>0.9917</td>\n",
       "      <td>277.81</td>\n",
       "      <td>0.0759</td>\n",
       "    </tr>\n",
       "    <tr>\n",
       "      <th>14</th>\n",
       "      <td>Complaints of unspecified upper abdominal pain and swelling in a 32-year-old woman led to the evaluation of possible disease of intestine. She had a history of mixed irritable bowel syndrome and congenital lactase deficiency. Several diagnostic tests were performed. Blood tests showed abnormal results of blood chemistry and colonoscopy was performed.</td>\n",
       "      <td>Several diagnostic tests</td>\n",
       "      <td>226</td>\n",
       "      <td>249</td>\n",
       "      <td>TEST</td>\n",
       "      <td>0.7106333</td>\n",
       "      <td>V72.69</td>\n",
       "      <td>0.1406</td>\n",
       "    </tr>\n",
       "    <tr>\n",
       "      <th>15</th>\n",
       "      <td>Complaints of unspecified upper abdominal pain and swelling in a 32-year-old woman led to the evaluation of possible disease of intestine. She had a history of mixed irritable bowel syndrome and congenital lactase deficiency. Several diagnostic tests were performed. Blood tests showed abnormal results of blood chemistry and colonoscopy was performed.</td>\n",
       "      <td>Blood tests</td>\n",
       "      <td>267</td>\n",
       "      <td>277</td>\n",
       "      <td>TEST</td>\n",
       "      <td>0.93785</td>\n",
       "      <td>578.1</td>\n",
       "      <td>0.1081</td>\n",
       "    </tr>\n",
       "    <tr>\n",
       "      <th>16</th>\n",
       "      <td>Complaints of unspecified upper abdominal pain and swelling in a 32-year-old woman led to the evaluation of possible disease of intestine. She had a history of mixed irritable bowel syndrome and congenital lactase deficiency. Several diagnostic tests were performed. Blood tests showed abnormal results of blood chemistry and colonoscopy was performed.</td>\n",
       "      <td>abnormal results of blood chemistry</td>\n",
       "      <td>286</td>\n",
       "      <td>320</td>\n",
       "      <td>PROBLEM</td>\n",
       "      <td>0.8009399</td>\n",
       "      <td>790.6</td>\n",
       "      <td>0.4051</td>\n",
       "    </tr>\n",
       "    <tr>\n",
       "      <th>17</th>\n",
       "      <td>Complaints of unspecified upper abdominal pain and swelling in a 32-year-old woman led to the evaluation of possible disease of intestine. She had a history of mixed irritable bowel syndrome and congenital lactase deficiency. Several diagnostic tests were performed. Blood tests showed abnormal results of blood chemistry and colonoscopy was performed.</td>\n",
       "      <td>colonoscopy</td>\n",
       "      <td>326</td>\n",
       "      <td>336</td>\n",
       "      <td>TEST</td>\n",
       "      <td>0.9871</td>\n",
       "      <td>562.1</td>\n",
       "      <td>0.4739</td>\n",
       "    </tr>\n",
       "  </tbody>\n",
       "</table>\n",
       "</div>"
      ],
      "text/plain": [
       "                                                                                                                                                                                                                                                                                                                                                            document  \\\n",
       "0                                                                                      An 86-year-old female with persistent abdominal pain, nausea and projectile vomiting, during evaluation in the emergency room, was found to have a high amylase, as well as lipase count and she is being admitted for management of unspecified gastrointestinal hemorrhage.   \n",
       "1                                                                                      An 86-year-old female with persistent abdominal pain, nausea and projectile vomiting, during evaluation in the emergency room, was found to have a high amylase, as well as lipase count and she is being admitted for management of unspecified gastrointestinal hemorrhage.   \n",
       "2                                                                                      An 86-year-old female with persistent abdominal pain, nausea and projectile vomiting, during evaluation in the emergency room, was found to have a high amylase, as well as lipase count and she is being admitted for management of unspecified gastrointestinal hemorrhage.   \n",
       "3                                                                                      An 86-year-old female with persistent abdominal pain, nausea and projectile vomiting, during evaluation in the emergency room, was found to have a high amylase, as well as lipase count and she is being admitted for management of unspecified gastrointestinal hemorrhage.   \n",
       "4                                                                                      An 86-year-old female with persistent abdominal pain, nausea and projectile vomiting, during evaluation in the emergency room, was found to have a high amylase, as well as lipase count and she is being admitted for management of unspecified gastrointestinal hemorrhage.   \n",
       "5                                                                                      An 86-year-old female with persistent abdominal pain, nausea and projectile vomiting, during evaluation in the emergency room, was found to have a high amylase, as well as lipase count and she is being admitted for management of unspecified gastrointestinal hemorrhage.   \n",
       "6                                                                                      An 86-year-old female with persistent abdominal pain, nausea and projectile vomiting, during evaluation in the emergency room, was found to have a high amylase, as well as lipase count and she is being admitted for management of unspecified gastrointestinal hemorrhage.   \n",
       "7                                                                                      An 86-year-old female with persistent abdominal pain, nausea and projectile vomiting, during evaluation in the emergency room, was found to have a high amylase, as well as lipase count and she is being admitted for management of unspecified gastrointestinal hemorrhage.   \n",
       "8   Complaints of unspecified upper abdominal pain and swelling in a 32-year-old woman led to the evaluation of possible disease of intestine. She had a history of mixed irritable bowel syndrome and congenital lactase deficiency. Several diagnostic tests were performed. Blood tests showed abnormal results of blood chemistry and colonoscopy was performed.   \n",
       "9   Complaints of unspecified upper abdominal pain and swelling in a 32-year-old woman led to the evaluation of possible disease of intestine. She had a history of mixed irritable bowel syndrome and congenital lactase deficiency. Several diagnostic tests were performed. Blood tests showed abnormal results of blood chemistry and colonoscopy was performed.   \n",
       "10  Complaints of unspecified upper abdominal pain and swelling in a 32-year-old woman led to the evaluation of possible disease of intestine. She had a history of mixed irritable bowel syndrome and congenital lactase deficiency. Several diagnostic tests were performed. Blood tests showed abnormal results of blood chemistry and colonoscopy was performed.   \n",
       "11  Complaints of unspecified upper abdominal pain and swelling in a 32-year-old woman led to the evaluation of possible disease of intestine. She had a history of mixed irritable bowel syndrome and congenital lactase deficiency. Several diagnostic tests were performed. Blood tests showed abnormal results of blood chemistry and colonoscopy was performed.   \n",
       "12  Complaints of unspecified upper abdominal pain and swelling in a 32-year-old woman led to the evaluation of possible disease of intestine. She had a history of mixed irritable bowel syndrome and congenital lactase deficiency. Several diagnostic tests were performed. Blood tests showed abnormal results of blood chemistry and colonoscopy was performed.   \n",
       "13  Complaints of unspecified upper abdominal pain and swelling in a 32-year-old woman led to the evaluation of possible disease of intestine. She had a history of mixed irritable bowel syndrome and congenital lactase deficiency. Several diagnostic tests were performed. Blood tests showed abnormal results of blood chemistry and colonoscopy was performed.   \n",
       "14  Complaints of unspecified upper abdominal pain and swelling in a 32-year-old woman led to the evaluation of possible disease of intestine. She had a history of mixed irritable bowel syndrome and congenital lactase deficiency. Several diagnostic tests were performed. Blood tests showed abnormal results of blood chemistry and colonoscopy was performed.   \n",
       "15  Complaints of unspecified upper abdominal pain and swelling in a 32-year-old woman led to the evaluation of possible disease of intestine. She had a history of mixed irritable bowel syndrome and congenital lactase deficiency. Several diagnostic tests were performed. Blood tests showed abnormal results of blood chemistry and colonoscopy was performed.   \n",
       "16  Complaints of unspecified upper abdominal pain and swelling in a 32-year-old woman led to the evaluation of possible disease of intestine. She had a history of mixed irritable bowel syndrome and congenital lactase deficiency. Several diagnostic tests were performed. Blood tests showed abnormal results of blood chemistry and colonoscopy was performed.   \n",
       "17  Complaints of unspecified upper abdominal pain and swelling in a 32-year-old woman led to the evaluation of possible disease of intestine. She had a history of mixed irritable bowel syndrome and congenital lactase deficiency. Several diagnostic tests were performed. Blood tests showed abnormal results of blood chemistry and colonoscopy was performed.   \n",
       "\n",
       "                                  ner_chunk  begin  end  ner_label  \\\n",
       "0                 persistent abdominal pain     27   51    PROBLEM   \n",
       "1                                    nausea     54   59    PROBLEM   \n",
       "2                       projectile vomiting     65   83    PROBLEM   \n",
       "3                                evaluation     93  102       TEST   \n",
       "4                            a high amylase    145  158    PROBLEM   \n",
       "5                              lipase count    172  183       TEST   \n",
       "6                                management    215  224  TREATMENT   \n",
       "7   unspecified gastrointestinal hemorrhage    229  267    PROBLEM   \n",
       "8          unspecified upper abdominal pain     14   45    PROBLEM   \n",
       "9                                  swelling     51   58    PROBLEM   \n",
       "10                           the evaluation     90  103       TEST   \n",
       "11                     disease of intestine    117  136    PROBLEM   \n",
       "12           mixed irritable bowel syndrome    160  189    PROBLEM   \n",
       "13            congenital lactase deficiency    195  223    PROBLEM   \n",
       "14                 Several diagnostic tests    226  249       TEST   \n",
       "15                              Blood tests    267  277       TEST   \n",
       "16      abnormal results of blood chemistry    286  320    PROBLEM   \n",
       "17                              colonoscopy    326  336       TEST   \n",
       "\n",
       "   ner_confidence icd9_code icd9_confidence  \n",
       "0          0.9549     789.0          0.6235  \n",
       "1          0.9995     536.2          0.2171  \n",
       "2      0.99434996    307.54          0.6460  \n",
       "3          0.7622       309          0.2038  \n",
       "4      0.90860003     535.2          0.0986  \n",
       "5         0.88765     272.7          0.3121  \n",
       "6          0.9986       309          0.2784  \n",
       "7      0.89243335     578.9          0.5944  \n",
       "8        0.805175    789.00          0.4183  \n",
       "9          0.9994    729.81          0.4068  \n",
       "10        0.83545     302.4          0.1755  \n",
       "11     0.84213334       562          0.1838  \n",
       "12     0.95814997     564.1          0.9717  \n",
       "13         0.9917    277.81          0.0759  \n",
       "14      0.7106333    V72.69          0.1406  \n",
       "15        0.93785     578.1          0.1081  \n",
       "16      0.8009399     790.6          0.4051  \n",
       "17         0.9871     562.1          0.4739  "
      ]
     },
     "metadata": {},
     "output_type": "display_data"
    }
   ],
   "source": [
    "process_s3_json_output_and_save(validation_json_file_name)"
   ]
  },
  {
   "cell_type": "markdown",
   "metadata": {},
   "source": [
    "### JSON Lines"
   ]
  },
  {
   "cell_type": "code",
   "execution_count": null,
   "metadata": {
    "tags": []
   },
   "outputs": [],
   "source": [
    "transformer = model.transformer(\n",
    "    instance_count=1,\n",
    "    instance_type=batch_transform_inference_instance_type,\n",
    "    accept=\"application/jsonlines\",\n",
    "    output_path=validation_output_jsonl_path\n",
    ")\n",
    "transformer.transform(validation_input_jsonl_path, content_type=\"application/jsonlines\")\n",
    "transformer.wait()"
   ]
  },
  {
   "cell_type": "code",
   "execution_count": 19,
   "metadata": {
    "tags": []
   },
   "outputs": [],
   "source": [
    "from urllib.parse import urlparse\n",
    "\n",
    "def process_s3_jsonlines_output_and_save(validation_file_name):\n",
    "\n",
    "    output_file_path = f\"{jsonl_output_dir}/{validation_file_name}.out\"\n",
    "    parsed_url = urlparse(transformer.output_path)\n",
    "    file_key = f\"{parsed_url.path[1:]}{validation_file_name}.out\"\n",
    "    response = s3_client.get_object(Bucket=s3_bucket, Key=file_key)\n",
    "\n",
    "    data = response[\"Body\"].read().decode(\"utf-8\")\n",
    "    print(data)\n",
    "\n",
    "    # Save the data to the output file\n",
    "    with open(output_file_path, 'w') as f_out:\n",
    "        for item in data.split('\\n'):\n",
    "            f_out.write(item + '\\n')"
   ]
  },
  {
   "cell_type": "code",
   "execution_count": 20,
   "metadata": {
    "tags": []
   },
   "outputs": [
    {
     "name": "stdout",
     "output_type": "stream",
     "text": [
      "{\"predictions\": [{\"ner_chunk\": \"persistent abdominal pain\", \"begin\": 27, \"end\": 51, \"ner_label\": \"PROBLEM\", \"ner_confidence\": \"0.9549\", \"icd9_code\": \"789.0\", \"icd9_confidence\": \"0.6235\"}, {\"ner_chunk\": \"nausea\", \"begin\": 54, \"end\": 59, \"ner_label\": \"PROBLEM\", \"ner_confidence\": \"0.9995\", \"icd9_code\": \"536.2\", \"icd9_confidence\": \"0.2171\"}, {\"ner_chunk\": \"projectile vomiting\", \"begin\": 65, \"end\": 83, \"ner_label\": \"PROBLEM\", \"ner_confidence\": \"0.99434996\", \"icd9_code\": \"307.54\", \"icd9_confidence\": \"0.6460\"}, {\"ner_chunk\": \"evaluation\", \"begin\": 93, \"end\": 102, \"ner_label\": \"TEST\", \"ner_confidence\": \"0.7622\", \"icd9_code\": \"309\", \"icd9_confidence\": \"0.2038\"}, {\"ner_chunk\": \"a high amylase\", \"begin\": 145, \"end\": 158, \"ner_label\": \"PROBLEM\", \"ner_confidence\": \"0.90860003\", \"icd9_code\": \"535.2\", \"icd9_confidence\": \"0.0986\"}, {\"ner_chunk\": \"lipase count\", \"begin\": 172, \"end\": 183, \"ner_label\": \"TEST\", \"ner_confidence\": \"0.88765\", \"icd9_code\": \"272.7\", \"icd9_confidence\": \"0.3121\"}, {\"ner_chunk\": \"management\", \"begin\": 215, \"end\": 224, \"ner_label\": \"TREATMENT\", \"ner_confidence\": \"0.9986\", \"icd9_code\": \"309\", \"icd9_confidence\": \"0.2784\"}, {\"ner_chunk\": \"unspecified gastrointestinal hemorrhage\", \"begin\": 229, \"end\": 267, \"ner_label\": \"PROBLEM\", \"ner_confidence\": \"0.89243335\", \"icd9_code\": \"578.9\", \"icd9_confidence\": \"0.5944\"}]}\n",
      "{\"predictions\": [{\"ner_chunk\": \"unspecified upper abdominal pain\", \"begin\": 14, \"end\": 45, \"ner_label\": \"PROBLEM\", \"ner_confidence\": \"0.805175\", \"icd9_code\": \"789.00\", \"icd9_confidence\": \"0.4183\"}, {\"ner_chunk\": \"swelling\", \"begin\": 51, \"end\": 58, \"ner_label\": \"PROBLEM\", \"ner_confidence\": \"0.9994\", \"icd9_code\": \"729.81\", \"icd9_confidence\": \"0.4068\"}, {\"ner_chunk\": \"the evaluation\", \"begin\": 90, \"end\": 103, \"ner_label\": \"TEST\", \"ner_confidence\": \"0.83545\", \"icd9_code\": \"302.4\", \"icd9_confidence\": \"0.1755\"}, {\"ner_chunk\": \"disease of intestine\", \"begin\": 117, \"end\": 136, \"ner_label\": \"PROBLEM\", \"ner_confidence\": \"0.84213334\", \"icd9_code\": \"562\", \"icd9_confidence\": \"0.1838\"}, {\"ner_chunk\": \"mixed irritable bowel syndrome\", \"begin\": 160, \"end\": 189, \"ner_label\": \"PROBLEM\", \"ner_confidence\": \"0.95814997\", \"icd9_code\": \"564.1\", \"icd9_confidence\": \"0.9717\"}, {\"ner_chunk\": \"congenital lactase deficiency\", \"begin\": 195, \"end\": 223, \"ner_label\": \"PROBLEM\", \"ner_confidence\": \"0.9917\", \"icd9_code\": \"277.81\", \"icd9_confidence\": \"0.0759\"}, {\"ner_chunk\": \"Several diagnostic tests\", \"begin\": 226, \"end\": 249, \"ner_label\": \"TEST\", \"ner_confidence\": \"0.7106333\", \"icd9_code\": \"V72.69\", \"icd9_confidence\": \"0.1406\"}, {\"ner_chunk\": \"Blood tests\", \"begin\": 267, \"end\": 277, \"ner_label\": \"TEST\", \"ner_confidence\": \"0.93785\", \"icd9_code\": \"578.1\", \"icd9_confidence\": \"0.1081\"}, {\"ner_chunk\": \"abnormal results of blood chemistry\", \"begin\": 286, \"end\": 320, \"ner_label\": \"PROBLEM\", \"ner_confidence\": \"0.8009399\", \"icd9_code\": \"790.6\", \"icd9_confidence\": \"0.4051\"}, {\"ner_chunk\": \"colonoscopy\", \"begin\": 326, \"end\": 336, \"ner_label\": \"TEST\", \"ner_confidence\": \"0.9871\", \"icd9_code\": \"562.1\", \"icd9_confidence\": \"0.4739\"}]}\n"
     ]
    }
   ],
   "source": [
    "process_s3_jsonlines_output_and_save(validation_jsonl_file_name)"
   ]
  },
  {
   "cell_type": "code",
   "execution_count": 21,
   "metadata": {
    "tags": []
   },
   "outputs": [
    {
     "name": "stderr",
     "output_type": "stream",
     "text": [
      "INFO:sagemaker:Deleting model with name: en-resolve-icd9-pipeline-2024-05-02-07-16-49-531\n"
     ]
    }
   ],
   "source": [
    "model.delete_model()"
   ]
  },
  {
   "cell_type": "markdown",
   "metadata": {},
   "source": [
    "### Unsubscribe to the listing (optional)"
   ]
  },
  {
   "cell_type": "markdown",
   "metadata": {
    "tags": []
   },
   "source": [
    "If you would like to unsubscribe to the model package, follow these steps. Before you cancel the subscription, ensure that you do not have any [deployable model](https://console.aws.amazon.com/sagemaker/home#/models) created from the model package or using the algorithm. Note - You can find this information by looking at the container name associated with the model. \n",
    "\n",
    "**Steps to unsubscribe to product from AWS Marketplace**:\n",
    "1. Navigate to __Machine Learning__ tab on [__Your Software subscriptions page__](https://aws.amazon.com/marketplace/ai/library?productType=ml&ref_=mlmp_gitdemo_indust)\n",
    "2. Locate the listing that you want to cancel the subscription for, and then choose __Cancel Subscription__  to cancel the subscription.\n",
    "\n"
   ]
  }
 ],
 "metadata": {
  "instance_type": "ml.t3.medium",
  "kernelspec": {
   "display_name": "conda_python3",
   "language": "python",
   "name": "conda_python3"
  },
  "language_info": {
   "codemirror_mode": {
    "name": "ipython",
    "version": 3
   },
   "file_extension": ".py",
   "mimetype": "text/x-python",
   "name": "python",
   "nbconvert_exporter": "python",
   "pygments_lexer": "ipython3",
   "version": "3.10.14"
  }
 },
 "nbformat": 4,
 "nbformat_minor": 4
}

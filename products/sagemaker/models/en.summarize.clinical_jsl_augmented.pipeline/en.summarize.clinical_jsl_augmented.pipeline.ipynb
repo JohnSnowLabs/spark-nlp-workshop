{
 "cells": [
  {
   "cell_type": "markdown",
   "metadata": {},
   "source": [
    "## 1. Subscribe to the model package"
   ]
  },
  {
   "cell_type": "markdown",
   "metadata": {},
   "source": [
    "To subscribe to the model package:\n",
    "1. Open the model package listing page <font color='red'> For Seller to update:[Title_of_your_product](Provide link to your marketplace listing of your product).</font>\n",
    "1. On the AWS Marketplace listing, click on the **Continue to subscribe** button.\n",
    "1. On the **Subscribe to this software** page, review and click on **\"Accept Offer\"** if you and your organization agrees with EULA, pricing, and support terms. \n",
    "1. Once you click on **Continue to configuration button** and then choose a **region**, you will see a **Product Arn** displayed. This is the model package ARN that you need to specify while creating a deployable model using Boto3. Copy the ARN corresponding to your region and specify the same in the following cell."
   ]
  },
  {
   "cell_type": "markdown",
   "metadata": {},
   "source": [
    "# Summarization\n",
    "\n",
    "Text summarization involves condensing lengthy textual content into a brief format while retaining its essential information and significance. The primary aim is to extract key details from a text document and present them concisely and comprehensibly. It plays a crucial role across various domains, including healthcare, aiding in efficient communication and decision-making.\n",
    "\n",
    "- **Model**: `en.summarize.clinical_jsl_augmented.pipeline`\n",
    "- **Model Description**: This pretrained pipeline is built on the top of summarizer_clinical_jsl_augmented model, which is is a modified version of Flan-T5 (LLM) based summarization model that is at first finetuned with natural instructions and then finetuned with clinical notes, encounters, critical care notes, discharge notes, reports, curated  by John Snow Labs. This model is further optimized by augmenting the training methodology, and dataset. It can generate summaries from clinical notes up to 512 tokens given the input text (max 1024 tokens).\n"
   ]
  },
  {
   "cell_type": "code",
   "execution_count": 1,
   "metadata": {
    "tags": []
   },
   "outputs": [],
   "source": [
    "model_package_arn = \"<Customer to specify Model package ARN corresponding to their AWS region>\""
   ]
  },
  {
   "cell_type": "code",
   "execution_count": 2,
   "metadata": {
    "tags": []
   },
   "outputs": [
    {
     "name": "stderr",
     "output_type": "stream",
     "text": [
      "/home/ec2-user/anaconda3/envs/python3/lib/python3.10/site-packages/pandas/core/computation/expressions.py:21: UserWarning: Pandas requires version '2.8.0' or newer of 'numexpr' (version '2.7.3' currently installed).\n",
      "  from pandas.core.computation.check import NUMEXPR_INSTALLED\n"
     ]
    },
    {
     "name": "stdout",
     "output_type": "stream",
     "text": [
      "sagemaker.config INFO - Not applying SDK defaults from location: /etc/xdg/sagemaker/config.yaml\n",
      "sagemaker.config INFO - Not applying SDK defaults from location: /home/ec2-user/.config/sagemaker/config.yaml\n"
     ]
    }
   ],
   "source": [
    "import base64\n",
    "import json\n",
    "import uuid\n",
    "from sagemaker import ModelPackage\n",
    "import sagemaker as sage\n",
    "from sagemaker import get_execution_role\n",
    "import boto3\n",
    "from IPython.display import Image, display\n",
    "from PIL import Image as ImageEdit\n",
    "import numpy as np"
   ]
  },
  {
   "cell_type": "code",
   "execution_count": 3,
   "metadata": {
    "tags": []
   },
   "outputs": [],
   "source": [
    "sagemaker_session = sage.Session()\n",
    "s3_bucket = sagemaker_session.default_bucket()\n",
    "region = sagemaker_session.boto_region_name\n",
    "account_id = boto3.client(\"sts\").get_caller_identity().get(\"Account\")\n",
    "role = get_execution_role()\n",
    "\n",
    "sagemaker = boto3.client(\"sagemaker\")\n",
    "s3_client = sagemaker_session.boto_session.client(\"s3\")\n",
    "ecr = boto3.client(\"ecr\")\n",
    "sm_runtime = boto3.client(\"sagemaker-runtime\")"
   ]
  },
  {
   "cell_type": "markdown",
   "metadata": {},
   "source": [
    "## 2. Create an endpoint and perform real-time inference"
   ]
  },
  {
   "cell_type": "markdown",
   "metadata": {},
   "source": [
    "If you want to understand how real-time inference with Amazon SageMaker works, see [Documentation](https://docs.aws.amazon.com/sagemaker/latest/dg/how-it-works-hosting.html)."
   ]
  },
  {
   "cell_type": "code",
   "execution_count": 4,
   "metadata": {
    "tags": []
   },
   "outputs": [],
   "source": [
    "model_name = \"en-summarize-clinical-jsl-augmented-pipeline\"\n",
    "\n",
    "content_type = \"application/json\"\n",
    "\n",
    "real_time_inference_instance_type = \"ml.m4.xlarge\"\n",
    "batch_transform_inference_instance_type = \"ml.m4.xlarge\""
   ]
  },
  {
   "cell_type": "markdown",
   "metadata": {},
   "source": [
    "### A. Create an endpoint"
   ]
  },
  {
   "cell_type": "code",
   "execution_count": 5,
   "metadata": {
    "tags": []
   },
   "outputs": [
    {
     "name": "stdout",
     "output_type": "stream",
     "text": [
      "-----------!"
     ]
    }
   ],
   "source": [
    "# create a deployable model from the model package.\n",
    "model = ModelPackage(\n",
    "    role=role, model_package_arn=model_package_arn, sagemaker_session=sagemaker_session\n",
    ")\n",
    "\n",
    "# Deploy the model\n",
    "predictor = model.deploy(1, real_time_inference_instance_type, endpoint_name=model_name)"
   ]
  },
  {
   "cell_type": "markdown",
   "metadata": {},
   "source": [
    "Once endpoint has been created, you would be able to perform real-time inference."
   ]
  },
  {
   "cell_type": "markdown",
   "metadata": {},
   "source": [
    "### B. Perform real-time inference"
   ]
  },
  {
   "cell_type": "code",
   "execution_count": 6,
   "metadata": {
    "tags": []
   },
   "outputs": [],
   "source": [
    "import json\n",
    "import pandas as pd\n",
    "import os\n",
    "import boto3\n",
    "\n",
    "\n",
    "# Set display options\n",
    "pd.set_option('display.max_rows', None)  \n",
    "pd.set_option('display.max_columns', None)  \n",
    "pd.set_option('display.max_colwidth', None) \n",
    "\n",
    "\n",
    "def process_data_and_invoke_realtime_endpoint(data_dicts):\n",
    "    for data_dict in data_dicts:\n",
    "        json_input_data = json.dumps(data_dict)    \n",
    "        i = 1\n",
    "        input_file_name = f'inputs/real-time/input{i}.json'\n",
    "        output_file_name = f'outputs/real-time/out{i}.out'\n",
    "        \n",
    "        while os.path.exists(input_file_name) or os.path.exists(output_file_name):\n",
    "            i += 1\n",
    "            input_file_name = f'inputs/real-time/input{i}.json'\n",
    "            output_file_name = f'outputs/real-time/out{i}.out'\n",
    "\n",
    "        os.makedirs(os.path.dirname(input_file_name), exist_ok=True)\n",
    "        os.makedirs(os.path.dirname(output_file_name), exist_ok=True)\n",
    "        \n",
    "        with open(input_file_name, 'w') as f:\n",
    "            f.write(json_input_data)\n",
    "        \n",
    "        s3_client.put_object(Bucket=s3_bucket, Key=f\"validation-input-json/{os.path.basename(input_file_name)}\", Body=bytes(json_input_data.encode('UTF-8')))\n",
    "        \n",
    "        response = sm_runtime.invoke_endpoint(\n",
    "            EndpointName=model_name,\n",
    "            ContentType=content_type,\n",
    "            Accept=\"application/json\",\n",
    "            Body=json_input_data,\n",
    "        )\n",
    "\n",
    "        # Process response\n",
    "        response_data = json.loads(response[\"Body\"].read().decode(\"utf-8\"))\n",
    "\n",
    "        df = pd.DataFrame(response_data, columns=['summary'])\n",
    "        display(df)\n",
    "\n",
    "        # Save response data to file\n",
    "        with open(output_file_name, 'w') as f_out:\n",
    "            json.dump(response_data, f_out, indent=4)\n"
   ]
  },
  {
   "cell_type": "markdown",
   "metadata": {},
   "source": [
    "  **Input format**:\n",
    "  \n",
    "  \n",
    "{\n",
    "  \"text\": \"Input text that you want to summarize.\"\n",
    "}\n"
   ]
  },
  {
   "cell_type": "code",
   "execution_count": 7,
   "metadata": {
    "tags": []
   },
   "outputs": [
    {
     "data": {
      "text/html": [
       "<div>\n",
       "<style scoped>\n",
       "    .dataframe tbody tr th:only-of-type {\n",
       "        vertical-align: middle;\n",
       "    }\n",
       "\n",
       "    .dataframe tbody tr th {\n",
       "        vertical-align: top;\n",
       "    }\n",
       "\n",
       "    .dataframe thead th {\n",
       "        text-align: right;\n",
       "    }\n",
       "</style>\n",
       "<table border=\"1\" class=\"dataframe\">\n",
       "  <thead>\n",
       "    <tr style=\"text-align: right;\">\n",
       "      <th></th>\n",
       "      <th>summary</th>\n",
       "    </tr>\n",
       "  </thead>\n",
       "  <tbody>\n",
       "    <tr>\n",
       "      <th>0</th>\n",
       "      <td>A 23-year-old female with a history of allergies and asthma presents with worsening symptoms. She has tried Claritin and Zyrtec but they haven't worked well. She has tried Allegra and has tried over-the-counter sprays but no prescription nasal sprays. Her vital signs are stable, and she has mildly erythematous throat and nasal mucosa. She is diagnosed with allergic rhinitis and will try Zyrtec or loratadine. Samples of Nasonex were given for three weeks.</td>\n",
       "    </tr>\n",
       "    <tr>\n",
       "      <th>1</th>\n",
       "      <td>A newborn with hypoplastic left heart syndrome underwent a modified stage 1 Norwood operation. The chest was left open to facilitate postoperative management, and the patient tolerated the procedure well. The sternum was closed with stainless steel wires, subcutaneous tissues with interrupted monofilament stitches, and the skin was closed with interrupted nylon sutures. The patient was transferred to the pediatric intensive unit in stable condition.</td>\n",
       "    </tr>\n",
       "  </tbody>\n",
       "</table>\n",
       "</div>"
      ],
      "text/plain": [
       "                                                                                                                                                                                                                                                                                                                                                                                                                                                                      summary\n",
       "0  A 23-year-old female with a history of allergies and asthma presents with worsening symptoms. She has tried Claritin and Zyrtec but they haven't worked well. She has tried Allegra and has tried over-the-counter sprays but no prescription nasal sprays. Her vital signs are stable, and she has mildly erythematous throat and nasal mucosa. She is diagnosed with allergic rhinitis and will try Zyrtec or loratadine. Samples of Nasonex were given for three weeks.\n",
       "1       A newborn with hypoplastic left heart syndrome underwent a modified stage 1 Norwood operation. The chest was left open to facilitate postoperative management, and the patient tolerated the procedure well. The sternum was closed with stainless steel wires, subcutaneous tissues with interrupted monofilament stitches, and the skin was closed with interrupted nylon sutures. The patient was transferred to the pediatric intensive unit in stable condition."
      ]
     },
     "metadata": {},
     "output_type": "display_data"
    }
   ],
   "source": [
    "# Example usage:\n",
    "data_dicts = [\n",
    "{\"text\" : ['''Medical Specialty: Allergy / Immunology, Sample Name: Allergic Rhinitis\n",
    "Description: A 23-year-old white female presents with complaint of allergies. (Medical Transcription Sample Report)\n",
    "\n",
    "\n",
    "SUBJECTIVE: This 23-year-old white female presents with complaint of allergies. She used to have allergies when she lived in Seattle but she thinks they are worse here. In the past, she has tried Claritin, and Zyrtec. Both worked for short time but then seemed to lose effectiveness. She has used Allegra also. She used that last summer and she began using it again two weeks ago. It does not appear to be working very well. She has used over-the-counter sprays but no prescription nasal sprays. She does have asthma but doest not require daily medication for this and does not think it is flaring up.\n",
    "\n",
    "\n",
    "MEDICATIONS: Her only medication currently is Ortho Tri-Cyclen and the Allegra.\n",
    "\n",
    "\n",
    "ALLERGIES: She has no known medicine allergies.\n",
    "\n",
    "\n",
    "OBJECTIVE: Vitals: Weight was 130 pounds and blood pressure 124/78. HEENT: Her throat was mildly erythematous without exudate. Nasal mucosa was erythematous and swollen. Only clear drainage was seen. TMs were clear. Neck: Supple without adenopathy. Lungs: Clear.\n",
    "\n",
    "\n",
    "ASSESSMENT: Allergic rhinitis.\n",
    "\n",
    "\n",
    "PLAN:\n",
    "\n",
    "\n",
    "1- She will try Zyrtec instead of Allegra again. Another option will be to use loratadine. She does not think she has prescription coverage so that might be cheaper.\n",
    "\n",
    "\n",
    "2- Samples of Nasonex two sprays in each nostril given for three weeks. A prescription was written as well.''',\n",
    "\n",
    "'''Medical Specialty: Pediatrics - Neonatal, Sample Name: Chest Closure\n",
    "Description: Delayed primary chest closure. Open chest status post modified stage 1 Norwood operation. The patient is a newborn with diagnosis of hypoplastic left heart syndrome who 48 hours prior to the current procedure has undergone a modified stage 1 Norwood operation. (Medical Transcription Sample Report)\n",
    "\n",
    "\n",
    "PROCEDURE: Delayed primary chest closure.\n",
    "\n",
    "\n",
    "INDICATIONS: The patient is a newborn with diagnosis of hypoplastic left heart syndrome who 48 hours prior to the current procedure has undergone a modified stage 1 Norwood operation. Given the magnitude of the operation and the size of the patient (2.5 kg), we have elected to leave the chest open to facilitate postoperative management. He is now taken back to the operative room for delayed primary chest closure.\n",
    "\n",
    "\n",
    "PREOP DX: Open chest status post modified stage 1 Norwood operation.\n",
    "\n",
    "\n",
    "POSTOP DX: Open chest status post modified stage 1 Norwood operation.\n",
    "\n",
    "\n",
    "ANESTHESIA: General endotracheal.\n",
    "\n",
    "\n",
    "COMPLICATIONS: None.\n",
    "\n",
    "\n",
    "FINDINGS: No evidence of intramediastinal purulence or hematoma. He tolerated the procedure well.\n",
    "\n",
    "\n",
    "DETAILS OF PROCEDURE: The patient was brought to the operating room and placed on the operating table in the supine position. Following general endotracheal anesthesia, the chest was prepped and draped in the usual sterile fashion. The previously placed AlloDerm membrane was removed. Mediastinal cultures were obtained, and the mediastinum was then profusely irrigated and suctioned. Both cavities were also irrigated and suctioned. The drains were flushed and repositioned. Approximately 30 cubic centimeters of blood were drawn slowly from the right atrial line. The sternum was then smeared with a vancomycin paste. The proximal aspect of the 5 mm RV-PA conduit was marked with a small titanium clip at its inferior most aspect and with an additional one on its rightward inferior side. The sternum was then closed with stainless steel wires followed by closure of subcutaneous tissues with interrupted monofilament stitches. The skin was closed with interrupted nylon sutures and a sterile dressing was placed. The peritoneal dialysis catheter, atrial and ventricular pacing wires were removed. The patient was transferred to the pediatric intensive unit shortly thereafter in very stable condition. I was the surgical attending present in the operating room and in charge of the surgical procedure throughout the entire length of the case.''']\n",
    "}\n",
    "]\n",
    "\n",
    "process_data_and_invoke_realtime_endpoint(data_dicts)"
   ]
  },
  {
   "cell_type": "code",
   "execution_count": 8,
   "metadata": {
    "tags": []
   },
   "outputs": [
    {
     "data": {
      "text/html": [
       "<div>\n",
       "<style scoped>\n",
       "    .dataframe tbody tr th:only-of-type {\n",
       "        vertical-align: middle;\n",
       "    }\n",
       "\n",
       "    .dataframe tbody tr th {\n",
       "        vertical-align: top;\n",
       "    }\n",
       "\n",
       "    .dataframe thead th {\n",
       "        text-align: right;\n",
       "    }\n",
       "</style>\n",
       "<table border=\"1\" class=\"dataframe\">\n",
       "  <thead>\n",
       "    <tr style=\"text-align: right;\">\n",
       "      <th></th>\n",
       "      <th>summary</th>\n",
       "    </tr>\n",
       "  </thead>\n",
       "  <tbody>\n",
       "    <tr>\n",
       "      <th>0</th>\n",
       "      <td>A 26-year-old male underwent a primary repair of an Achilles tendon in his left lower extremity due to a sudden pop. The procedure was performed under general anesthesia without complications. The tendon was debrided and the wound was closed with sutures. The patient tolerated the procedure well and was transferred to the Postanesthesia Care Unit.</td>\n",
       "    </tr>\n",
       "  </tbody>\n",
       "</table>\n",
       "</div>"
      ],
      "text/plain": [
       "                                                                                                                                                                                                                                                                                                                                                         summary\n",
       "0  A 26-year-old male underwent a primary repair of an Achilles tendon in his left lower extremity due to a sudden pop. The procedure was performed under general anesthesia without complications. The tendon was debrided and the wound was closed with sutures. The patient tolerated the procedure well and was transferred to the Postanesthesia Care Unit."
      ]
     },
     "metadata": {},
     "output_type": "display_data"
    }
   ],
   "source": [
    "data_dicts = [\n",
    "    {\"text\": '''Medical Specialty: Surgery, Sample Name: Achilles Tendon Repair\n",
    "Description: Achilles tendon rupture, left lower extremity. Primary repair left Achilles tendon. The patient was stepping off a hilo at work when he felt a sudden pop in the posterior aspect of his left leg. The patient was placed in posterior splint and followed up at ABC orthopedics for further care. (Medical Transcription Sample Report)\n",
    "\n",
    "\n",
    "PREOPERATIVE DIAGNOSIS: Achilles tendon rupture, left lower extremity.\n",
    "\n",
    "\n",
    "POSTOPERATIVE DIAGNOSIS: Achilles tendon rupture, left lower extremity.\n",
    "\n",
    "\n",
    "PROCEDURE PERFORMED: Primary repair left Achilles tendon.\n",
    "\n",
    "\n",
    "ANESTHESIA: General.\n",
    "\n",
    "\n",
    "COMPLICATIONS: None.\n",
    "\n",
    "\n",
    "ESTIMATED BLOOD LOSS: Minimal.\n",
    "\n",
    "\n",
    "TOTAL TOURNIQUET TIME: 40 minutes at 325 mmHg.\n",
    "\n",
    "\n",
    "POSITION: Prone.\n",
    "\n",
    "\n",
    "HISTORY OF PRESENT ILLNESS: The patient is a 26-year-old African-American male who states that he was stepping off a hilo at work when he felt a sudden pop in the posterior aspect of his left leg. The patient was placed in posterior splint and followed up at ABC orthopedics for further care.\n",
    "\n",
    "\n",
    "PROCEDURE: After all potential complications, risks, as well as anticipated benefits of the above-named procedure were discussed at length with the patient, informed consent was obtained. The operative extremity was then confirmed with the patient, the operative surgeon, Department Of Anesthesia, and nursing staff. While in this hospital, the Department Of Anesthesia administered general anesthetic to the patient. The patient was then transferred to the operative table and placed in the prone position. All bony prominences were well padded at this time. A nonsterile tourniquet was placed on the left upper thigh of the patient, but not inflated at this time. Left lower extremity was sterilely prepped and draped in the usual sterile fashion. Once this was done, the left lower extremity was elevated and exsanguinated using an Esmarch and the tourniquet was inflated to 325 mmHg and kept up for a total of 40 minutes. After all bony and soft tissue land marks were identified, a 6 cm longitudinal incision was made paramedial to the Achilles tendon from its insertion proximal. Careful dissection was then taken down to the level of the peritenon. Once this was reached, full thickness flaps were performed medially and laterally. Next, retractor was placed. All neurovascular structures were protected. A longitudinal incision was then made in the peritenon and opened up exposing the tendon. There was noted to be complete rupture of the tendon approximately 4 cm proximal to the insertion point. The plantar tendon was noted to be intact. The tendon was debrided at this time of hematoma as well as frayed tendon. Wound was copiously irrigated and dried. Most of the ankle appeared that there was sufficient tendon links in order to do a primary repair. Next #0 PDS on a taper needle was selected and a Krackow stitch was then performed. Two sutures were then used and tied individually ________ from the tendon. The tendon came together very well and with a tight connection. Next, a #2-0 Vicryl suture was then used to close the peritenon over the Achilles tendon. The wound was once again copiously irrigated and dried. A #2-0 Vicryl sutures were then used to close the skin and subcutaneous fashion followed by #4-0 suture in the subcuticular closure on the skin. Steri-Strips were then placed over the wound and the sterile dressing was applied consisting of 4x4s, Kerlix roll, sterile Kerlix and a short length fiberglass cast in a plantar position. At this time, the Department of anesthesia reversed the anesthetic. The patient was transferred back to hospital gurney to the Postanesthesia Care Unit. The patient tolerated the procedure well. There were no complications.'''}\n",
    "]\n",
    "\n",
    "process_data_and_invoke_realtime_endpoint(data_dicts)"
   ]
  },
  {
   "cell_type": "markdown",
   "metadata": {},
   "source": [
    "### C. Delete the endpoint"
   ]
  },
  {
   "cell_type": "markdown",
   "metadata": {},
   "source": [
    "Now that you have successfully performed a real-time inference, you do not need the endpoint any more. You can terminate the endpoint to avoid being charged."
   ]
  },
  {
   "cell_type": "code",
   "execution_count": 9,
   "metadata": {
    "tags": []
   },
   "outputs": [],
   "source": [
    "model.sagemaker_session.delete_endpoint(model_name)\n",
    "model.sagemaker_session.delete_endpoint_config(model_name)"
   ]
  },
  {
   "cell_type": "markdown",
   "metadata": {
    "tags": []
   },
   "source": [
    "## 3. Batch inference"
   ]
  },
  {
   "cell_type": "code",
   "execution_count": 10,
   "metadata": {
    "tags": []
   },
   "outputs": [],
   "source": [
    "validation_input_path = f\"s3://{s3_bucket}/validation-input-json/\"\n",
    "validation_output_path = f\"s3://{s3_bucket}/validation-output-json/\""
   ]
  },
  {
   "cell_type": "code",
   "execution_count": 11,
   "metadata": {
    "tags": []
   },
   "outputs": [],
   "source": [
    "input_file_name = 'inputs/batch/input.json'\n",
    "output_file_name = 'outputs/batch/out.out'\n",
    "\n",
    "os.makedirs(os.path.dirname(input_file_name), exist_ok=True)\n",
    "os.makedirs(os.path.dirname(output_file_name), exist_ok=True)"
   ]
  },
  {
   "cell_type": "code",
   "execution_count": null,
   "metadata": {
    "tags": []
   },
   "outputs": [],
   "source": [
    "transformer = model.transformer(\n",
    "    instance_count=1,\n",
    "    instance_type=\"ml.m4.xlarge\",\n",
    "    accept=\"application/json\",\n",
    ")\n",
    "transformer.transform(validation_input_path, content_type=content_type)\n",
    "transformer.wait()"
   ]
  },
  {
   "cell_type": "code",
   "execution_count": null,
   "metadata": {
    "tags": []
   },
   "outputs": [],
   "source": [
    "validation_file_name = \"input.json\"\n",
    "input_json_data = {\"text\" : ['''Medical Specialty: Allergy / Immunology, Sample Name: Allergic Rhinitis\n",
    "Description: A 23-year-old white female presents with complaint of allergies. (Medical Transcription Sample Report)\n",
    "\n",
    "\n",
    "SUBJECTIVE: This 23-year-old white female presents with complaint of allergies. She used to have allergies when she lived in Seattle but she thinks they are worse here. In the past, she has tried Claritin, and Zyrtec. Both worked for short time but then seemed to lose effectiveness. She has used Allegra also. She used that last summer and she began using it again two weeks ago. It does not appear to be working very well. She has used over-the-counter sprays but no prescription nasal sprays. She does have asthma but doest not require daily medication for this and does not think it is flaring up.\n",
    "\n",
    "\n",
    "MEDICATIONS: Her only medication currently is Ortho Tri-Cyclen and the Allegra.\n",
    "\n",
    "\n",
    "ALLERGIES: She has no known medicine allergies.\n",
    "\n",
    "\n",
    "OBJECTIVE: Vitals: Weight was 130 pounds and blood pressure 124/78. HEENT: Her throat was mildly erythematous without exudate. Nasal mucosa was erythematous and swollen. Only clear drainage was seen. TMs were clear. Neck: Supple without adenopathy. Lungs: Clear.\n",
    "\n",
    "\n",
    "ASSESSMENT: Allergic rhinitis.\n",
    "\n",
    "\n",
    "PLAN:\n",
    "\n",
    "\n",
    "1- She will try Zyrtec instead of Allegra again. Another option will be to use loratadine. She does not think she has prescription coverage so that might be cheaper.\n",
    "\n",
    "\n",
    "2- Samples of Nasonex two sprays in each nostril given for three weeks. A prescription was written as well.''',\n",
    "\n",
    "'''Medical Specialty: Pediatrics - Neonatal, Sample Name: Chest Closure\n",
    "Description: Delayed primary chest closure. Open chest status post modified stage 1 Norwood operation. The patient is a newborn with diagnosis of hypoplastic left heart syndrome who 48 hours prior to the current procedure has undergone a modified stage 1 Norwood operation. (Medical Transcription Sample Report)\n",
    "\n",
    "\n",
    "PROCEDURE: Delayed primary chest closure.\n",
    "\n",
    "\n",
    "INDICATIONS: The patient is a newborn with diagnosis of hypoplastic left heart syndrome who 48 hours prior to the current procedure has undergone a modified stage 1 Norwood operation. Given the magnitude of the operation and the size of the patient (2.5 kg), we have elected to leave the chest open to facilitate postoperative management. He is now taken back to the operative room for delayed primary chest closure.\n",
    "\n",
    "\n",
    "PREOP DX: Open chest status post modified stage 1 Norwood operation.\n",
    "\n",
    "\n",
    "POSTOP DX: Open chest status post modified stage 1 Norwood operation.\n",
    "\n",
    "\n",
    "ANESTHESIA: General endotracheal.\n",
    "\n",
    "\n",
    "COMPLICATIONS: None.\n",
    "\n",
    "\n",
    "FINDINGS: No evidence of intramediastinal purulence or hematoma. He tolerated the procedure well.\n",
    "\n",
    "\n",
    "DETAILS OF PROCEDURE: The patient was brought to the operating room and placed on the operating table in the supine position. Following general endotracheal anesthesia, the chest was prepped and draped in the usual sterile fashion. The previously placed AlloDerm membrane was removed. Mediastinal cultures were obtained, and the mediastinum was then profusely irrigated and suctioned. Both cavities were also irrigated and suctioned. The drains were flushed and repositioned. Approximately 30 cubic centimeters of blood were drawn slowly from the right atrial line. The sternum was then smeared with a vancomycin paste. The proximal aspect of the 5 mm RV-PA conduit was marked with a small titanium clip at its inferior most aspect and with an additional one on its rightward inferior side. The sternum was then closed with stainless steel wires followed by closure of subcutaneous tissues with interrupted monofilament stitches. The skin was closed with interrupted nylon sutures and a sterile dressing was placed. The peritoneal dialysis catheter, atrial and ventricular pacing wires were removed. The patient was transferred to the pediatric intensive unit shortly thereafter in very stable condition. I was the surgical attending present in the operating room and in charge of the surgical procedure throughout the entire length of the case.''']\n",
    "}\n",
    "json_input_data = json.dumps(input_json_data)\n",
    "with open(input_file_name, 'w') as f:\n",
    "    f.write(json_input_data)\n",
    "\n",
    "s3_client.put_object(\n",
    "    Bucket=s3_bucket,\n",
    "    Key=\"validation-input-json/{}\".format(validation_file_name),\n",
    "    Body=(bytes(json_input_data.encode(\"UTF-8\"))),\n",
    ")"
   ]
  },
  {
   "cell_type": "code",
   "execution_count": 14,
   "metadata": {
    "tags": []
   },
   "outputs": [
    {
     "data": {
      "text/html": [
       "<div>\n",
       "<style scoped>\n",
       "    .dataframe tbody tr th:only-of-type {\n",
       "        vertical-align: middle;\n",
       "    }\n",
       "\n",
       "    .dataframe tbody tr th {\n",
       "        vertical-align: top;\n",
       "    }\n",
       "\n",
       "    .dataframe thead th {\n",
       "        text-align: right;\n",
       "    }\n",
       "</style>\n",
       "<table border=\"1\" class=\"dataframe\">\n",
       "  <thead>\n",
       "    <tr style=\"text-align: right;\">\n",
       "      <th></th>\n",
       "      <th>summary</th>\n",
       "    </tr>\n",
       "  </thead>\n",
       "  <tbody>\n",
       "    <tr>\n",
       "      <th>0</th>\n",
       "      <td>A 23-year-old female with a history of allergies and asthma presents with worsening symptoms. She has tried Claritin and Zyrtec but they haven't worked well. She has tried Allegra and has tried over-the-counter sprays but no prescription nasal sprays. Her vital signs are stable, and she has mildly erythematous throat and nasal mucosa. She is diagnosed with allergic rhinitis and will try Zyrtec or loratadine. Samples of Nasonex were given for three weeks.</td>\n",
       "    </tr>\n",
       "    <tr>\n",
       "      <th>1</th>\n",
       "      <td>A newborn with hypoplastic left heart syndrome underwent a modified stage 1 Norwood operation. The chest was left open to facilitate postoperative management, and the patient tolerated the procedure well. The sternum was closed with stainless steel wires, subcutaneous tissues with interrupted monofilament stitches, and the skin was closed with interrupted nylon sutures. The patient was transferred to the pediatric intensive unit in stable condition.</td>\n",
       "    </tr>\n",
       "  </tbody>\n",
       "</table>\n",
       "</div>"
      ],
      "text/plain": [
       "                                                                                                                                                                                                                                                                                                                                                                                                                                                                      summary\n",
       "0  A 23-year-old female with a history of allergies and asthma presents with worsening symptoms. She has tried Claritin and Zyrtec but they haven't worked well. She has tried Allegra and has tried over-the-counter sprays but no prescription nasal sprays. Her vital signs are stable, and she has mildly erythematous throat and nasal mucosa. She is diagnosed with allergic rhinitis and will try Zyrtec or loratadine. Samples of Nasonex were given for three weeks.\n",
       "1       A newborn with hypoplastic left heart syndrome underwent a modified stage 1 Norwood operation. The chest was left open to facilitate postoperative management, and the patient tolerated the procedure well. The sternum was closed with stainless steel wires, subcutaneous tissues with interrupted monofilament stitches, and the skin was closed with interrupted nylon sutures. The patient was transferred to the pediatric intensive unit in stable condition."
      ]
     },
     "metadata": {},
     "output_type": "display_data"
    }
   ],
   "source": [
    "from urllib.parse import urlparse\n",
    "\n",
    "parsed_url = urlparse(transformer.output_path)\n",
    "file_key = f\"{parsed_url.path[1:]}/{validation_file_name}.out\"\n",
    "response = s3_client.get_object(Bucket=s3_bucket, Key=file_key)\n",
    "\n",
    "data = json.loads(response[\"Body\"].read().decode(\"utf-8\"))\n",
    "df = pd.DataFrame(data, columns=['summary'])\n",
    "display(df)\n",
    "\n",
    "with open(output_file_name, 'w') as f_out:\n",
    "    json.dump(data, f_out, indent=4)"
   ]
  },
  {
   "cell_type": "code",
   "execution_count": 15,
   "metadata": {
    "tags": []
   },
   "outputs": [
    {
     "name": "stderr",
     "output_type": "stream",
     "text": [
      "INFO:sagemaker:Deleting model with name: en-summarize-clinical-jsl-augmented-pip-2024-02-26-18-27-13-667\n"
     ]
    }
   ],
   "source": [
    "model.delete_model()"
   ]
  },
  {
   "cell_type": "markdown",
   "metadata": {},
   "source": [
    "### Unsubscribe to the listing (optional)"
   ]
  },
  {
   "cell_type": "markdown",
   "metadata": {},
   "source": [
    "If you would like to unsubscribe to the model package, follow these steps. Before you cancel the subscription, ensure that you do not have any [deployable model](https://console.aws.amazon.com/sagemaker/home#/models) created from the model package or using the algorithm. Note - You can find this information by looking at the container name associated with the model. \n",
    "\n",
    "**Steps to unsubscribe to product from AWS Marketplace**:\n",
    "1. Navigate to __Machine Learning__ tab on [__Your Software subscriptions page__](https://aws.amazon.com/marketplace/ai/library?productType=ml&ref_=mlmp_gitdemo_indust)\n",
    "2. Locate the listing that you want to cancel the subscription for, and then choose __Cancel Subscription__  to cancel the subscription.\n",
    "\n"
   ]
  }
 ],
 "metadata": {
  "instance_type": "ml.t3.medium",
  "kernelspec": {
   "display_name": "conda_python3",
   "language": "python",
   "name": "conda_python3"
  },
  "language_info": {
   "codemirror_mode": {
    "name": "ipython",
    "version": 3
   },
   "file_extension": ".py",
   "mimetype": "text/x-python",
   "name": "python",
   "nbconvert_exporter": "python",
   "pygments_lexer": "ipython3",
   "version": "3.10.13"
  }
 },
 "nbformat": 4,
 "nbformat_minor": 4
}

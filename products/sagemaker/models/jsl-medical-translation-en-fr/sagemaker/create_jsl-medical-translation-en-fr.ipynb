{
 "cells": [
  {
   "cell_type": "markdown",
   "id": "22687eff-6a66-4e93-ab4f-288849111f02",
   "metadata": {},
   "source": [
    "# Package a JSL Model for listing on AWS Marketplace\n",
    "\n",
    "This notebook provides scripts you can use to package and verify your JSL model for listing on AWS Marketplace\n",
    "\n",
    "### Pre-requisites\n",
    "\n",
    "1. Before you start building an ML model, you are strongly recommended watching this video to understand the overall end-to-end ML model building and listing process.\n",
    "2. You need to add the managed policy AmazonEC2ContainerRegistryFullAccess to the role associated with your notebook instance.\n",
    "3. In order to create listings on AWS Marketplace you will need to register an AWS account to be a seller account by following the seller registration process. This guide assumes that the notebook is to be run in the registered seller account.\n",
    "\n",
    "### Table of Contents\n",
    "1. [Step 1 - Push Model To S3](#step1)\n",
    "2. [Step 2 - Prepare a Docker image](#step2)\n",
    "    - [Step 2.1 -  Step 2.1 Build a Docker Image](#step21)\n",
    "    - [Step 2.2 -  Test the Docker Image](#step22)\n",
    "3. [Step 3 - Push the Docker Image into Amazon ECR](#step3)\n",
    "4. [Step 4 - Create an ML Model Package](#step4)\n",
    "5. [Step 5 - Validate model in Amazon SageMaker environment](#step5)\n",
    "   - [Step 5.1 Validate Real-time inference via Amazon SageMaker Endpoint](#step51)\n",
    "   - [Step 5.2 Validate batch inference via batch transform job](#step52)\n",
    "6. [Step 6 - List ML model on AWS Marketplace](#step6)\n"
   ]
  },
  {
   "cell_type": "markdown",
   "id": "848e668b-57ee-4e04-8c7c-3821109e616a",
   "metadata": {},
   "source": [
    "Here we import all of the libraries needed throughout the notebook to complete the model packaging process. We also create the clients necessary to interact with the various services needed (e.g., ECR, SageMaker, and S3).\n"
   ]
  },
  {
   "cell_type": "code",
   "execution_count": 7,
   "id": "09cc68db-a2e2-41aa-bdb9-f814f57c8aca",
   "metadata": {
    "tags": []
   },
   "outputs": [],
   "source": [
    "import docker\n",
    "import time\n",
    "import base64\n",
    "import requests\n",
    "import boto3\n",
    "import sagemaker as sage\n",
    "from sagemaker import get_execution_role, ModelPackage\n",
    "import pandas as pd\n",
    "\n",
    "pd.set_option('display.max_rows', None)\n",
    "pd.set_option('display.max_columns', None)\n",
    "pd.set_option('display.max_colwidth', None)\n",
    "\n",
    "\n",
    "\n",
    "# Common variables\n",
    "session = sage.Session()\n",
    "s3_bucket = session.default_bucket()\n",
    "region = session.boto_region_name\n",
    "account_id = boto3.client(\"sts\").get_caller_identity().get(\"Account\")\n",
    "role = get_execution_role()\n",
    "\n",
    "sagemaker = boto3.client(\"sagemaker\")\n",
    "s3_client = session.boto_session.client(\"s3\")\n",
    "ecr = boto3.client(\"ecr\")\n",
    "sm_runtime = boto3.client(\"sagemaker-runtime\")"
   ]
  },
  {
   "cell_type": "code",
   "execution_count": 8,
   "id": "2db0127e-2d2b-46e1-b54f-4c53e4be2ebe",
   "metadata": {
    "tags": []
   },
   "outputs": [],
   "source": [
    "model_to_package = (\n",
    "    \"jsl-medical-translation-en-fr\"\n",
    ")\n",
    "\n",
    "model_description = \"Medical text translation between English (EN) and french (FR). The model supports a maximum input length of 1024 tokens.\""
   ]
  },
  {
   "cell_type": "code",
   "execution_count": null,
   "id": "7dbde268",
   "metadata": {
    "tags": [
     "version"
    ]
   },
   "outputs": [],
   "source": [
    "version=None"
   ]
  },
  {
   "cell_type": "markdown",
   "id": "e274df42-de69-4ca8-9650-d50959244b34",
   "metadata": {},
   "source": [
    "<a id=\"step1\"><h2>Step 1: Push Model To S3</h2></a>"
   ]
  },
  {
   "cell_type": "markdown",
   "id": "d87bb4c6-7f48-4502-8411-7151683f595c",
   "metadata": {},
   "source": [
    "#### Get JSL checkpoints (both direction)"
   ]
  },
  {
   "cell_type": "code",
   "execution_count": 9,
   "id": "68b835fa-5f8d-40ee-9550-4f3c140f333b",
   "metadata": {
    "tags": []
   },
   "outputs": [
    {
     "name": "stdout",
     "output_type": "stream",
     "text": [
      "Note: you may need to restart the kernel to use updated packages.\n"
     ]
    }
   ],
   "source": [
    "pip install -q gdown peft"
   ]
  },
  {
   "cell_type": "code",
   "execution_count": null,
   "id": "f35cf99d-6171-4622-b432-8bd0f268a802",
   "metadata": {
    "tags": []
   },
   "outputs": [],
   "source": [
    "## Get EN -> FR checkpoint\n",
    "! gdown --id 1YbGWzMmZDlTH5MuK-Aq48uHxjIVF3NKb\n",
    "\n",
    "## Get FR -> EN checkpoint\n",
    "! gdown --id 1RoZpgq_s-stCG--h3qF99o-uJkN2G-GO"
   ]
  },
  {
   "cell_type": "code",
   "execution_count": null,
   "id": "6bee7348-cb8d-48e6-a823-8e6cf03c5e30",
   "metadata": {
    "tags": []
   },
   "outputs": [],
   "source": [
    "## Unzip the checkpoints to directories for loading\n",
    "\n",
    "! unzip en-fr_checkpoint.zip -d checkpoint_en_fr\n",
    "! unzip fr-en_checkpoint.zip -d checkpoint_fr_en\n",
    "\n",
    "!rm en-fr_checkpoint.zip\n",
    "!rm fr-en_checkpoint.zip"
   ]
  },
  {
   "cell_type": "code",
   "execution_count": 12,
   "id": "3ad4c17e-f634-4d1a-8dd3-d07a389791a7",
   "metadata": {
    "tags": []
   },
   "outputs": [
    {
     "data": {
      "application/vnd.jupyter.widget-view+json": {
       "model_id": "456f376e2bf54a3082c3e8053f53d0ae",
       "version_major": 2,
       "version_minor": 0
      },
      "text/plain": [
       "config.json:   0%|          | 0.00/909 [00:00<?, ?B/s]"
      ]
     },
     "metadata": {},
     "output_type": "display_data"
    },
    {
     "data": {
      "application/vnd.jupyter.widget-view+json": {
       "model_id": "8efcef49a54348abbf7764a4e8499963",
       "version_major": 2,
       "version_minor": 0
      },
      "text/plain": [
       "pytorch_model.bin:   0%|          | 0.00/4.96G [00:00<?, ?B/s]"
      ]
     },
     "metadata": {},
     "output_type": "display_data"
    },
    {
     "data": {
      "application/vnd.jupyter.widget-view+json": {
       "model_id": "0772d3e76cf94ef7963767057e0264b6",
       "version_major": 2,
       "version_minor": 0
      },
      "text/plain": [
       "generation_config.json:   0%|          | 0.00/233 [00:00<?, ?B/s]"
      ]
     },
     "metadata": {},
     "output_type": "display_data"
    },
    {
     "name": "stderr",
     "output_type": "stream",
     "text": [
      "Some non-default generation parameters are set in the model config. These should go into a GenerationConfig file (https://huggingface.co/docs/transformers/generation_strategies#save-a-custom-decoding-strategy-with-your-model) instead. This warning will be raised to an exception in v4.41.\n",
      "Non-default generation parameters: {'max_length': 200, 'early_stopping': True, 'num_beams': 5}\n"
     ]
    }
   ],
   "source": [
    "from peft import PeftModel\n",
    "from transformers import M2M100Tokenizer, AutoModelForSeq2SeqLM\n",
    "\n",
    "base_model_path = \"facebook/m2m100_1.2B\"\n",
    "base_model = AutoModelForSeq2SeqLM.from_pretrained(base_model_path)\n",
    "base_model.save_pretrained(\"base_model\")"
   ]
  },
  {
   "cell_type": "markdown",
   "id": "bdc58363-c94c-4c6a-b3f9-097233601dc7",
   "metadata": {},
   "source": [
    "#### Create tar.gz file"
   ]
  },
  {
   "cell_type": "code",
   "execution_count": null,
   "id": "b0b2c6eb-14b9-402c-b0ec-250baf9033e7",
   "metadata": {
    "tags": []
   },
   "outputs": [],
   "source": [
    "import tarfile\n",
    "import os\n",
    "def create_tar_archive(artifacts, output_filename):\n",
    "\n",
    "    with tarfile.open(output_filename, \"w:gz\") as tar:\n",
    "        for artifact in artifacts:\n",
    "            tar.add(artifact, arcname=os.path.basename(artifact))\n",
    "\n",
    "# Package model artifacts into a single tar archive\n",
    "tar_filename = f\"{model_to_package}.tar.gz\"\n",
    "create_tar_archive([\"base_model\",\"checkpoint_en_fr\", \"checkpoint_fr_en\"], tar_filename)"
   ]
  },
  {
   "cell_type": "markdown",
   "id": "45b25b85-f30b-4c19-8d4b-0a96368fcadb",
   "metadata": {},
   "source": [
    "#### Upload the model artifacts to S3"
   ]
  },
  {
   "cell_type": "code",
   "execution_count": 14,
   "id": "66e11e58-d79d-427d-9379-0c337f70a57d",
   "metadata": {
    "tags": []
   },
   "outputs": [],
   "source": [
    "compressed_model_artifacts_path = f'{model_to_package}.tar.gz'\n",
    "model_artifacts_s3_path = f\"s3://{s3_bucket}/Model-Package/{model_to_package}.tar.gz\""
   ]
  },
  {
   "cell_type": "code",
   "execution_count": null,
   "id": "8ad918b2-a68f-4509-b5f3-ac24a4eb876f",
   "metadata": {
    "tags": []
   },
   "outputs": [],
   "source": [
    "# Upload the model artifacts to S3\n",
    "s3_client.upload_file(compressed_model_artifacts_path, s3_bucket, f\"Model-Package/{model_to_package}.tar.gz\")\n",
    "model_artifacts_s3_path"
   ]
  },
  {
   "cell_type": "markdown",
   "id": "01186cd5-c6e4-432d-ab13-1c6d055d728d",
   "metadata": {},
   "source": [
    "<a id=\"step2\"><h2>Step 2: Prepare a Docker image</h2></a>\n",
    "\n",
    "We are going to Prepare a Docker image."
   ]
  },
  {
   "cell_type": "markdown",
   "id": "8296c2fa-3c33-4890-ba39-61945e8dd359",
   "metadata": {},
   "source": [
    "<a id=\"step21\"> Step 2.1 Build a Docker Image with johnsnowlabs library<a>"
   ]
  },
  {
   "cell_type": "code",
   "execution_count": 84,
   "id": "6a9a93d6-22aa-4c9d-a53b-cad5935a6ccc",
   "metadata": {
    "tags": [
     "remove_cell"
    ]
   },
   "outputs": [],
   "source": [
    "docker_client = docker.from_env()"
   ]
  },
  {
   "cell_type": "code",
   "execution_count": 165,
   "id": "345a059f-a35a-48a6-80fe-428e4fa11180",
   "metadata": {
    "tags": [
     "remove_cell"
    ]
   },
   "outputs": [],
   "source": [
    "import os\n",
    "import subprocess\n",
    "\n",
    "\n",
    "os.environ[\"DOCKER_BUILDKIT\"] = \"1\"\n",
    "\n",
    "docker_build_command = f\"docker build --rm=true --no-cache ../docker -t {model_to_package}\"\n",
    "\n",
    "raw_build_result = subprocess.check_output(docker_build_command, \n",
    "                                           shell=True, stderr=subprocess.STDOUT\n",
    "                                           )"
   ]
  },
  {
   "cell_type": "markdown",
   "id": "fd96dedc-8fc3-4adb-9c5f-28c3122caae1",
   "metadata": {},
   "source": [
    "<a id=\"step22\">Step 2.2: Test the Docker Image<a>"
   ]
  },
  {
   "cell_type": "code",
   "execution_count": null,
   "id": "c4cc66ba-7aad-40fa-9d57-86f8c4a3979a",
   "metadata": {
    "tags": [
     "remove_cell"
    ]
   },
   "outputs": [],
   "source": [
    "!docker images"
   ]
  },
  {
   "cell_type": "code",
   "execution_count": 171,
   "id": "27803a9f-bb09-457d-8d4d-bb1b80c20f5e",
   "metadata": {
    "tags": [
     "remove_cell"
    ]
   },
   "outputs": [],
   "source": [
    "import os\n",
    "import docker\n",
    "import time\n",
    "\n",
    "def run_docker_container(model_to_package, model_base=\"base_model\", checkpoint_en_fr=\"checkpoint_en_fr\", checkpoint_fr_en=\"checkpoint_fr_en\", port=8080):\n",
    "    SECONDS = 1000000000  # One second in nanoseconds\n",
    "\n",
    "    # Define the volume mappings for the models\n",
    "    volumes = {\n",
    "        f\"{os.getcwd()}/{model_base}/\": {\"bind\": f\"/opt/ml/model/{model_base}\", \"mode\": \"rw\"},\n",
    "        f\"{os.getcwd()}/{checkpoint_en_fr}/\": {\"bind\": f\"/opt/ml/model/{checkpoint_en_fr}\", \"mode\": \"rw\"},\n",
    "        f\"{os.getcwd()}/{checkpoint_fr_en}/\": {\"bind\": f\"/opt/ml/model/{checkpoint_fr_en}\", \"mode\": \"rw\"},\n",
    "    }\n",
    "\n",
    "    container = docker_client.containers.run(\n",
    "        model_to_package,\n",
    "        detach=True,\n",
    "        name=model_to_package,\n",
    "        command=\"serve\",\n",
    "        healthcheck={\n",
    "            \"test\": f\"curl -f http://localhost:{port}/ping || exit 1\",\n",
    "            \"interval\": 1 * SECONDS,  # One second\n",
    "            \"timeout\": 1 * SECONDS,  # One second\n",
    "        },\n",
    "        ports={f\"{port}/tcp\": port},\n",
    "        volumes=volumes,  # Mount host directories to the container directories\n",
    "    )\n",
    "\n",
    "    return container\n",
    "\n",
    "\n",
    "def wait_for_container_health(container):\n",
    "    # Wait until the server is ready\n",
    "    while docker_client.api.inspect_container(container.name)[\"State\"][\"Health\"][\"Status\"] != \"healthy\":\n",
    "        print(\"Waiting for server to become ready...\")\n",
    "        time.sleep(1)\n",
    "        container.reload()\n",
    "        print(f\"Container status: {docker_client.api.inspect_container(container.name)['State']['Health']['Status']}\")\n",
    "\n",
    "    print(\"Server is ready!\")"
   ]
  },
  {
   "cell_type": "code",
   "execution_count": null,
   "id": "ada69c36-901d-41e2-9f3e-6b4c597d85f8",
   "metadata": {
    "tags": [
     "remove_cell"
    ]
   },
   "outputs": [],
   "source": [
    "port=8080\n",
    "container_invocation_url = f\"http://127.0.0.1:{port}/invocations\"\n",
    "\n",
    "container = run_docker_container(model_to_package=model_to_package)\n",
    "wait_for_container_health(container)"
   ]
  },
  {
   "cell_type": "markdown",
   "id": "fb7665f5-7f89-4b19-880e-ffda01f5726d",
   "metadata": {},
   "source": [
    "### Initial setup"
   ]
  },
  {
   "cell_type": "code",
   "execution_count": 183,
   "id": "b143e14a-3940-473b-8cf9-c1168012378d",
   "metadata": {
    "tags": []
   },
   "outputs": [],
   "source": [
    "english_text = \"They must be distinguished from haemolytic anaemia which commonly occurs where there is elevated serum free copper in uncontrolled Wilson's disease.\"\n",
    "english_records = [\n",
    "    \"Patients with chronic obstructive pulmonary disease (COPD) should be monitored for exacerbations.\",\n",
    "    \"The patient presented with severe abdominal pain and was diagnosed with acute pancreatitis.\"\n",
    "]\n",
    "\n",
    "\n",
    "french_text = \"L'administration du bromure d'uméclidinium aux femmes enceintes ne doit être envisagée que si les bénéfices attendus pour la mère justifient le risque éventuel pour le fœtus.\"\n",
    "french_records = [\n",
    "    \"Les symptômes de la grippe peuvent inclure de la fièvre, des frissons, des douleurs musculaires et une toux sèche.\",\n",
    "    \"Les patients diabétiques doivent surveiller régulièrement leur glycémie pour éviter les complications.\",\n",
    "]"
   ]
  },
  {
   "cell_type": "markdown",
   "id": "e4d98fba-64c7-49cb-9f71-dde40e549f27",
   "metadata": {},
   "source": [
    "### JSON"
   ]
  },
  {
   "cell_type": "markdown",
   "id": "79c3fdca-ccf0-49a1-9149-5982be256118",
   "metadata": {},
   "source": [
    "##### Example: 1"
   ]
  },
  {
   "cell_type": "code",
   "execution_count": 184,
   "id": "2bb0feb1-7bdf-4bf6-b69e-1d9763f04700",
   "metadata": {
    "tags": [
     "remove_cell"
    ]
   },
   "outputs": [
    {
     "name": "stdout",
     "output_type": "stream",
     "text": [
      "<Response [200]>\n"
     ]
    }
   ],
   "source": [
    "input_json = {\"text\": english_text, \"direction\": \"en_to_fr\"}\n",
    "\n",
    "r = requests.post(\n",
    "    container_invocation_url,\n",
    "    headers={\"Content-Type\": \"application/json\", \"Accept\": \"application/json\"},\n",
    "    json=input_json,\n",
    ")\n",
    "\n",
    "print(r)"
   ]
  },
  {
   "cell_type": "code",
   "execution_count": 185,
   "id": "540b8698-afcd-4a1b-adf4-d11c92d5dd3f",
   "metadata": {
    "tags": [
     "remove_cell"
    ]
   },
   "outputs": [
    {
     "data": {
      "text/html": [
       "<div>\n",
       "<style scoped>\n",
       "    .dataframe tbody tr th:only-of-type {\n",
       "        vertical-align: middle;\n",
       "    }\n",
       "\n",
       "    .dataframe tbody tr th {\n",
       "        vertical-align: top;\n",
       "    }\n",
       "\n",
       "    .dataframe thead th {\n",
       "        text-align: right;\n",
       "    }\n",
       "</style>\n",
       "<table border=\"1\" class=\"dataframe\">\n",
       "  <thead>\n",
       "    <tr style=\"text-align: right;\">\n",
       "      <th></th>\n",
       "      <th>predictions</th>\n",
       "    </tr>\n",
       "  </thead>\n",
       "  <tbody>\n",
       "    <tr>\n",
       "      <th>0</th>\n",
       "      <td>Ils doivent être distingués de l'anémie hémolytique qui survient fréquemment lorsqu'il y a une augmentation du taux de cuivre libre sérique dans la maladie de Wilson non contrôlée.</td>\n",
       "    </tr>\n",
       "  </tbody>\n",
       "</table>\n",
       "</div>"
      ],
      "text/plain": [
       "                                                                                                                                                                            predictions\n",
       "0  Ils doivent être distingués de l'anémie hémolytique qui survient fréquemment lorsqu'il y a une augmentation du taux de cuivre libre sérique dans la maladie de Wilson non contrôlée."
      ]
     },
     "execution_count": 185,
     "metadata": {},
     "output_type": "execute_result"
    }
   ],
   "source": [
    "data = r.json()\n",
    "\n",
    "pd.DataFrame(data)"
   ]
  },
  {
   "cell_type": "markdown",
   "id": "f0570ce7-0b38-4992-bf4d-cbeafb747205",
   "metadata": {},
   "source": [
    "##### Example: 2"
   ]
  },
  {
   "cell_type": "code",
   "execution_count": 186,
   "id": "1713faff-7fe2-4a57-8e46-902fd1eb4dfe",
   "metadata": {
    "tags": [
     "remove_cell"
    ]
   },
   "outputs": [
    {
     "name": "stdout",
     "output_type": "stream",
     "text": [
      "<Response [200]>\n"
     ]
    }
   ],
   "source": [
    "input_json = {\"text\": english_records, \"direction\": \"en_to_fr\"}\n",
    "\n",
    "r = requests.post(\n",
    "    container_invocation_url,\n",
    "    headers={\"Content-Type\": \"application/json\", \"Accept\": \"application/json\"},\n",
    "    json=input_json,\n",
    ")\n",
    "\n",
    "print(r)"
   ]
  },
  {
   "cell_type": "code",
   "execution_count": 187,
   "id": "8e45a3ae-6f35-4b20-9d5b-3430bf527b0e",
   "metadata": {
    "tags": [
     "remove_cell"
    ]
   },
   "outputs": [
    {
     "data": {
      "text/html": [
       "<div>\n",
       "<style scoped>\n",
       "    .dataframe tbody tr th:only-of-type {\n",
       "        vertical-align: middle;\n",
       "    }\n",
       "\n",
       "    .dataframe tbody tr th {\n",
       "        vertical-align: top;\n",
       "    }\n",
       "\n",
       "    .dataframe thead th {\n",
       "        text-align: right;\n",
       "    }\n",
       "</style>\n",
       "<table border=\"1\" class=\"dataframe\">\n",
       "  <thead>\n",
       "    <tr style=\"text-align: right;\">\n",
       "      <th></th>\n",
       "      <th>predictions</th>\n",
       "    </tr>\n",
       "  </thead>\n",
       "  <tbody>\n",
       "    <tr>\n",
       "      <th>0</th>\n",
       "      <td>Les patients atteints d'une maladie pulmonaire obstructive chronique (POCP) doivent être surveillés en cas d'exacerbations.</td>\n",
       "    </tr>\n",
       "    <tr>\n",
       "      <th>1</th>\n",
       "      <td>Le patient présentait des douleurs abdominales sévères et a été diagnostiqué avec une pancréatite aiguë.</td>\n",
       "    </tr>\n",
       "  </tbody>\n",
       "</table>\n",
       "</div>"
      ],
      "text/plain": [
       "                                                                                                                   predictions\n",
       "0  Les patients atteints d'une maladie pulmonaire obstructive chronique (POCP) doivent être surveillés en cas d'exacerbations.\n",
       "1                     Le patient présentait des douleurs abdominales sévères et a été diagnostiqué avec une pancréatite aiguë."
      ]
     },
     "execution_count": 187,
     "metadata": {},
     "output_type": "execute_result"
    }
   ],
   "source": [
    "data = r.json()\n",
    "pd.DataFrame(data)"
   ]
  },
  {
   "cell_type": "markdown",
   "id": "b58ddbfa-4e87-4ca5-80b4-64d6a4186105",
   "metadata": {},
   "source": [
    "##### Example: 3"
   ]
  },
  {
   "cell_type": "code",
   "execution_count": 188,
   "id": "6ee3823c-ad64-4e76-bc58-1e3720e3075f",
   "metadata": {
    "tags": [
     "remove_cell"
    ]
   },
   "outputs": [
    {
     "name": "stdout",
     "output_type": "stream",
     "text": [
      "<Response [200]>\n"
     ]
    }
   ],
   "source": [
    "input_json = {\"text\": french_text, \"direction\": \"fr_to_en\"}\n",
    "\n",
    "r = requests.post(\n",
    "    container_invocation_url,\n",
    "    headers={\"Content-Type\": \"application/json\", \"Accept\": \"application/json\"},\n",
    "    json=input_json,\n",
    ")\n",
    "\n",
    "print(r)"
   ]
  },
  {
   "cell_type": "code",
   "execution_count": 189,
   "id": "d1584039-8d85-490f-b55c-764c271ac5f5",
   "metadata": {
    "tags": [
     "remove_cell"
    ]
   },
   "outputs": [
    {
     "data": {
      "text/html": [
       "<div>\n",
       "<style scoped>\n",
       "    .dataframe tbody tr th:only-of-type {\n",
       "        vertical-align: middle;\n",
       "    }\n",
       "\n",
       "    .dataframe tbody tr th {\n",
       "        vertical-align: top;\n",
       "    }\n",
       "\n",
       "    .dataframe thead th {\n",
       "        text-align: right;\n",
       "    }\n",
       "</style>\n",
       "<table border=\"1\" class=\"dataframe\">\n",
       "  <thead>\n",
       "    <tr style=\"text-align: right;\">\n",
       "      <th></th>\n",
       "      <th>predictions</th>\n",
       "    </tr>\n",
       "  </thead>\n",
       "  <tbody>\n",
       "    <tr>\n",
       "      <th>0</th>\n",
       "      <td>The administration of umeclidinium bromide to pregnant women should only be considered if the expected benefit to the mother justifies the potential risk to the foetus.</td>\n",
       "    </tr>\n",
       "  </tbody>\n",
       "</table>\n",
       "</div>"
      ],
      "text/plain": [
       "                                                                                                                                                                predictions\n",
       "0  The administration of umeclidinium bromide to pregnant women should only be considered if the expected benefit to the mother justifies the potential risk to the foetus."
      ]
     },
     "execution_count": 189,
     "metadata": {},
     "output_type": "execute_result"
    }
   ],
   "source": [
    "data = r.json()\n",
    "pd.DataFrame(data)"
   ]
  },
  {
   "cell_type": "markdown",
   "id": "66b0890f-b709-40b2-8526-1d341b9a144a",
   "metadata": {},
   "source": [
    "##### Example: 4"
   ]
  },
  {
   "cell_type": "code",
   "execution_count": 190,
   "id": "c5ea2386-d7d6-4c67-a0db-72e6fdf19d39",
   "metadata": {
    "tags": [
     "remove_cell"
    ]
   },
   "outputs": [
    {
     "name": "stdout",
     "output_type": "stream",
     "text": [
      "<Response [200]>\n"
     ]
    }
   ],
   "source": [
    "input_json = {\"text\": french_records, \"direction\": \"fr_to_en\"}\n",
    "\n",
    "r = requests.post(\n",
    "    container_invocation_url,\n",
    "    headers={\"Content-Type\": \"application/json\", \"Accept\": \"application/json\"},\n",
    "    json=input_json,\n",
    ")\n",
    "\n",
    "print(r)"
   ]
  },
  {
   "cell_type": "code",
   "execution_count": 191,
   "id": "d78ee61b-4eaf-4092-9a15-cd3c093d5ffe",
   "metadata": {
    "tags": [
     "remove_cell"
    ]
   },
   "outputs": [
    {
     "data": {
      "text/html": [
       "<div>\n",
       "<style scoped>\n",
       "    .dataframe tbody tr th:only-of-type {\n",
       "        vertical-align: middle;\n",
       "    }\n",
       "\n",
       "    .dataframe tbody tr th {\n",
       "        vertical-align: top;\n",
       "    }\n",
       "\n",
       "    .dataframe thead th {\n",
       "        text-align: right;\n",
       "    }\n",
       "</style>\n",
       "<table border=\"1\" class=\"dataframe\">\n",
       "  <thead>\n",
       "    <tr style=\"text-align: right;\">\n",
       "      <th></th>\n",
       "      <th>predictions</th>\n",
       "    </tr>\n",
       "  </thead>\n",
       "  <tbody>\n",
       "    <tr>\n",
       "      <th>0</th>\n",
       "      <td>Flu symptoms may include fever, chills, muscle pain and dry cough.</td>\n",
       "    </tr>\n",
       "    <tr>\n",
       "      <th>1</th>\n",
       "      <td>Diabetic patients should monitor their blood sugar levels regularly to avoid complications.</td>\n",
       "    </tr>\n",
       "  </tbody>\n",
       "</table>\n",
       "</div>"
      ],
      "text/plain": [
       "                                                                                   predictions\n",
       "0                           Flu symptoms may include fever, chills, muscle pain and dry cough.\n",
       "1  Diabetic patients should monitor their blood sugar levels regularly to avoid complications."
      ]
     },
     "execution_count": 191,
     "metadata": {},
     "output_type": "execute_result"
    }
   ],
   "source": [
    "data = r.json()\n",
    "pd.DataFrame(data)"
   ]
  },
  {
   "cell_type": "markdown",
   "id": "c19b8eda-60ba-41e0-b1f5-d4b8b9401b71",
   "metadata": {},
   "source": [
    "#### JSON Lines"
   ]
  },
  {
   "cell_type": "code",
   "execution_count": 220,
   "id": "3edf399d-68a4-446a-9a01-ab24b583fe2e",
   "metadata": {},
   "outputs": [],
   "source": [
    "import json\n",
    "\n",
    "def create_jsonl(records, direction):\n",
    "    if isinstance(records, str):\n",
    "        records = [records]\n",
    "    json_lines = '\\n'.join(json.dumps({\"text\": text, \"direction\": direction}) for text in records)\n",
    "\n",
    "    return json_lines\n"
   ]
  },
  {
   "cell_type": "markdown",
   "id": "ae2b1dea-8e5a-4bdd-89e8-de7809588369",
   "metadata": {},
   "source": [
    "##### Example: 1"
   ]
  },
  {
   "cell_type": "code",
   "execution_count": 194,
   "id": "9ce4dd71-488c-4bec-a8f7-08562c60f318",
   "metadata": {
    "tags": [
     "remove_cell"
    ]
   },
   "outputs": [
    {
     "name": "stdout",
     "output_type": "stream",
     "text": [
      "<Response [200]>\n"
     ]
    }
   ],
   "source": [
    "input_jsonl_data  = create_jsonl(english_records, direction= \"en_to_fr\")\n",
    "\n",
    "r = requests.post(\n",
    "    container_invocation_url,\n",
    "    headers={\"Content-Type\": \"application/jsonlines\",  \"Accept\": \"application/jsonlines\"},\n",
    "    data=input_jsonl_data,\n",
    ")\n",
    "\n",
    "print(r)"
   ]
  },
  {
   "cell_type": "code",
   "execution_count": 195,
   "id": "53851120-6ac8-4600-a087-b80f8e7438be",
   "metadata": {
    "tags": [
     "remove_cell"
    ]
   },
   "outputs": [
    {
     "name": "stdout",
     "output_type": "stream",
     "text": [
      "{\"predictions\": \"Les patients atteints d'une maladie pulmonaire obstructive chronique (POCP) doivent être surveillés en cas d'exacerbations.\"}\n",
      "{\"predictions\": \"Le patient présentait des douleurs abdominales sévères et a été diagnostiqué avec une pancréatite aiguë.\"}\n"
     ]
    }
   ],
   "source": [
    "print(r.text)"
   ]
  },
  {
   "cell_type": "markdown",
   "id": "a2ed050d-3a1c-47ee-ab14-45237f67e81e",
   "metadata": {},
   "source": [
    "##### Example: 2"
   ]
  },
  {
   "cell_type": "code",
   "execution_count": 196,
   "id": "466ad308-c0a7-4c0c-9960-2ff1bd56eccd",
   "metadata": {
    "tags": [
     "remove_cell"
    ]
   },
   "outputs": [
    {
     "name": "stdout",
     "output_type": "stream",
     "text": [
      "<Response [200]>\n"
     ]
    }
   ],
   "source": [
    "input_jsonl_data  = create_jsonl(french_records, direction= \"fr_to_en\")\n",
    "\n",
    "r = requests.post(\n",
    "    container_invocation_url,\n",
    "    headers={\"Content-Type\": \"application/jsonlines\",  \"Accept\": \"application/jsonlines\"},\n",
    "    data=input_jsonl_data,\n",
    ")\n",
    "\n",
    "print(r)"
   ]
  },
  {
   "cell_type": "code",
   "execution_count": 197,
   "id": "30fec718-fb7c-4dbe-8074-fb3819a87700",
   "metadata": {
    "tags": [
     "remove_cell"
    ]
   },
   "outputs": [
    {
     "name": "stdout",
     "output_type": "stream",
     "text": [
      "{\"predictions\": \"Flu symptoms may include fever, chills, muscle pain and dry cough.\"}\n",
      "{\"predictions\": \"Diabetic patients should monitor their blood sugar levels regularly to avoid complications.\"}\n"
     ]
    }
   ],
   "source": [
    "print(r.text)"
   ]
  },
  {
   "cell_type": "markdown",
   "id": "9ef4c766-1f4e-43fb-9d8d-cf8bcfcd8ad3",
   "metadata": {},
   "source": [
    "#### JSON Lines with different params"
   ]
  },
  {
   "cell_type": "code",
   "execution_count": 203,
   "id": "86700d3c-4184-4533-8298-2dfbbd48fe83",
   "metadata": {
    "tags": [
     "remove_cell"
    ]
   },
   "outputs": [
    {
     "name": "stdout",
     "output_type": "stream",
     "text": [
      "<Response [200]>\n"
     ]
    }
   ],
   "source": [
    "# Combine the JSONL strings\n",
    "english_jsonl = create_jsonl(english_records, direction=\"en_to_fr\")\n",
    "french_jsonl = create_jsonl(french_records, direction=\"fr_to_en\")\n",
    "\n",
    "input_jsonl_data = f\"{english_jsonl}\\n{french_jsonl}\"\n",
    "\n",
    "\n",
    "r = requests.post(\n",
    "    container_invocation_url,\n",
    "    headers={\"Content-Type\": \"application/jsonlines\",  \"Accept\": \"application/jsonlines\"},\n",
    "    data=input_jsonl_data,\n",
    ")\n",
    "\n",
    "print(r)"
   ]
  },
  {
   "cell_type": "code",
   "execution_count": 204,
   "id": "44768880-bcb7-4906-997c-205a6662d60d",
   "metadata": {
    "tags": [
     "remove_cell"
    ]
   },
   "outputs": [
    {
     "name": "stdout",
     "output_type": "stream",
     "text": [
      "{\"predictions\": \"Les patients atteints d'une maladie pulmonaire obstructive chronique (POCP) doivent être surveillés en cas d'exacerbations.\"}\n",
      "{\"predictions\": \"Le patient présentait des douleurs abdominales sévères et a été diagnostiqué avec une pancréatite aiguë.\"}\n",
      "{\"predictions\": \"Flu symptoms may include fever, chills, muscle pain and dry cough.\"}\n",
      "{\"predictions\": \"Diabetic patients should monitor their blood sugar levels regularly to avoid complications.\"}\n"
     ]
    }
   ],
   "source": [
    "print(r.text)"
   ]
  },
  {
   "cell_type": "code",
   "execution_count": null,
   "id": "a77fec57-806d-4f33-b707-f32f7b240550",
   "metadata": {
    "tags": [
     "remove_cell"
    ]
   },
   "outputs": [],
   "source": [
    "# logs\n",
    "print(container.logs().decode(\"utf-8\"))"
   ]
  },
  {
   "cell_type": "code",
   "execution_count": 206,
   "id": "b393e87b-045d-48d3-a689-fcec8348385d",
   "metadata": {
    "tags": [
     "remove_cell"
    ]
   },
   "outputs": [],
   "source": [
    "# remove the container\n",
    "container.stop()\n",
    "container.remove()"
   ]
  },
  {
   "cell_type": "markdown",
   "id": "c78e6391-f92a-40a6-a265-766548ec6757",
   "metadata": {},
   "source": [
    "<a id=\"step3\"> <h2>Step 3: Push the Docker Image into Amazon ECR <a>\n"
   ]
  },
  {
   "cell_type": "code",
   "execution_count": 209,
   "id": "5303763c-b885-4da7-88ad-25f788b2cb19",
   "metadata": {
    "tags": []
   },
   "outputs": [],
   "source": [
    "image_name = f\"jsl-marketplace/{model_to_package}\""
   ]
  },
  {
   "cell_type": "code",
   "execution_count": 210,
   "id": "e88faf15-27e7-4dfe-ada1-829b02efb7e7",
   "metadata": {
    "tags": []
   },
   "outputs": [
    {
     "data": {
      "text/plain": [
       "'189352970232.dkr.ecr.us-east-1.amazonaws.com/jsl-marketplace/jsl-medical-translation-en-fr'"
      ]
     },
     "execution_count": 210,
     "metadata": {},
     "output_type": "execute_result"
    }
   ],
   "source": [
    "docker_image_arn = f\"{account_id}.dkr.ecr.{region}.amazonaws.com/{image_name}\"\n",
    "docker_image_arn"
   ]
  },
  {
   "cell_type": "markdown",
   "id": "dd20972d-bdae-4771-9cfc-bc9f7de9b549",
   "metadata": {},
   "source": [
    "The following code shows how to build the container image and push the container image to ECR using the Docker python SDK.\n",
    "\n",
    "This code looks for an ECR repository in the account you're using and the current default region (if you're using an Amazon SageMaker notebook instance, this will be the region where the notebook instance was created). If the repository doesn't exist, the script will create it.\n"
   ]
  },
  {
   "cell_type": "code",
   "execution_count": 211,
   "id": "0769db3e-14b7-4e73-9d88-3eabebb6e1d4",
   "metadata": {
    "tags": [
     "remove_cell"
    ]
   },
   "outputs": [],
   "source": [
    "repo_exists = image_name in [\n",
    "    repo[\"repositoryName\"] for repo in ecr.describe_repositories().get(\"repositories\")\n",
    "]\n",
    "\n",
    "if not repo_exists:\n",
    "    ecr.create_repository(repositoryName=image_name)"
   ]
  },
  {
   "cell_type": "code",
   "execution_count": 212,
   "id": "e70f4ba3-301c-4516-b09b-c4210e53a463",
   "metadata": {
    "tags": [
     "remove_cell"
    ]
   },
   "outputs": [],
   "source": [
    "ecr_auth_data = ecr.get_authorization_token()[\"authorizationData\"][0]\n",
    "username, password = (\n",
    "    base64.b64decode(ecr_auth_data[\"authorizationToken\"]).decode(\"utf-8\").split(\":\")\n",
    ")\n",
    "\n",
    "docker_client.api.tag(model_to_package, docker_image_arn, tag=\"latest\")\n",
    "status = docker_client.api.push(\n",
    "    docker_image_arn,\n",
    "    tag=\"latest\",\n",
    "    auth_config={\"username\": username, \"password\": password},\n",
    ")"
   ]
  },
  {
   "cell_type": "markdown",
   "id": "521bebad-037a-45ee-872c-9a90ac5af799",
   "metadata": {
    "tags": []
   },
   "source": [
    "<a id=\"step4\"><h2>Step 4: Create an ML Model Package </a></h2>\n",
    "In this section, we will package our artifacts (ECR Image and the trained artifact) into a Model Package. Once completed, we can list our product as a pretrained model in AWS Marketplace.\n"
   ]
  },
  {
   "cell_type": "markdown",
   "id": "d626dd6d-a9aa-496b-9b70-eb59a77e54bd",
   "metadata": {},
   "source": [
    "### Define parameters"
   ]
  },
  {
   "cell_type": "code",
   "execution_count": 213,
   "id": "a0453ca6-12b2-49d7-ba07-9bd0991d642a",
   "metadata": {
    "tags": []
   },
   "outputs": [],
   "source": [
    "supported_content_types = [\"application/json\", \"application/jsonlines\"]\n",
    "supported_response_MIME_types = [\"application/json\", \"application/jsonlines\"]"
   ]
  },
  {
   "cell_type": "markdown",
   "id": "1099f5c3-fa15-4707-8038-f9c4351662da",
   "metadata": {},
   "source": [
    "A Model Package creation process requires you to specify following:\n",
    "\n",
    "Docker image\n",
    "Model artifacts\n",
    "\n",
    "- You can either package these inside the docker image, as we have done in this example, or provide them as a gzipped tarball.\n",
    "  Validation specification\n",
    "  In order to provide confidence to sellers (and buyers) that the products work in Amazon SageMaker, before listing them on AWS Marketplace SageMaker needs to perform basic validations. The product can be listed in AWS Marketplace only if this validation process succeeds. This validation process uses the validation profile and sample data provided by you to create a transform job in your account using the Model to verify your inference image works with SageMaker.\n",
    "\n",
    "Next, you need to identify the right instance-sizes for your ML models. You can do so by running performance tests on top of your ML Model. A [sample notebook](https://github.com/aws-samples/aws-marketplace-machine-learning/blob/master/right_size_your_sagemaker_endpoints/Right-sizing%20your%20Amazon%20SageMaker%20Endpoints.ipynb) is available to identify minimum suggested instance types.\n",
    "\n",
    "NOTE: In addition to tuning, take into account the requirements of your model when identifying instance types. If your model does not use GPU resources, then do not include GPU instance types. Similarly, if your model does use GPU resources, but can only make use of a single GPU, do not include instance types that have multiple GPUs as it will lead to increased infrastructure charges for your customers with no performance benefit.\n"
   ]
  },
  {
   "cell_type": "code",
   "execution_count": 240,
   "id": "7afb9112-fa8b-4ec3-bc54-2b4939757647",
   "metadata": {
    "tags": []
   },
   "outputs": [],
   "source": [
    "supported_realtime_inference_instance_types = [\"ml.g4dn.xlarge\", \"ml.g5.2xlarge\"]\n",
    "supported_batch_transform_instance_types = [\"ml.g4dn.xlarge\", \"ml.g5.2xlarge\"]"
   ]
  },
  {
   "cell_type": "code",
   "execution_count": 241,
   "id": "4bc84e12-0c27-47f4-9f0a-04abba81e9e2",
   "metadata": {
    "tags": []
   },
   "outputs": [
    {
     "data": {
      "text/plain": [
       "'jsl-medical-translation-en-fr'"
      ]
     },
     "execution_count": 241,
     "metadata": {},
     "output_type": "execute_result"
    }
   ],
   "source": [
    "if version:\n",
    "    model_package_name = model_to_package.replace('.', '-').replace('_', '-') + version\n",
    "else:\n",
    "    model_package_name = model_to_package.replace('.', '-').replace('_', '-')\n",
    "model_package_name"
   ]
  },
  {
   "cell_type": "code",
   "execution_count": 242,
   "id": "ce3b01de-316d-4504-a812-c3c472666f82",
   "metadata": {
    "tags": []
   },
   "outputs": [],
   "source": [
    "import json\n",
    "import os\n",
    "\n",
    "\n",
    "en_validation_json_file = \"input1.json\"\n",
    "fr_validation_json_file = \"input2.json\"\n",
    "\n",
    "validation_input_json_path = f\"s3://{s3_bucket}/{model_package_name}/validation-input-json/\"\n",
    "validation_output_json_path = f\"s3://{s3_bucket}/{model_package_name}/validation-output-json/\"\n",
    "\n",
    "en_validation_jsonl_file = \"input1.jsonl\"\n",
    "fr_validation_jsonl_file = \"input2.jsonl\"\n",
    "\n",
    "validation_input_jsonl_path = f\"s3://{s3_bucket}/{model_package_name}/validation-input-jsonl/\"\n",
    "validation_output_jsonl_path = f\"s3://{s3_bucket}/{model_package_name}/validation-output-jsonl/\"\n",
    "\n",
    "\n",
    "def write_and_upload_to_s3(input_data, file_name):\n",
    "\n",
    "    file_format = os.path.splitext(file_name)[1].lower()\n",
    "    s3_key = f\"{model_package_name}/validation-input-{file_format[1:]}/{file_name}\"\n",
    "\n",
    "    if file_format == \".json\":\n",
    "        input_data_json = json.dumps(input_data, indent=4, ensure_ascii=False)\n",
    "\n",
    "        with open(file_name, \"w\", encoding='utf-8') as f:\n",
    "            f.write(input_data_json)\n",
    "    elif file_format == \".jsonl\":\n",
    "        with open(file_name, 'w', encoding='utf-8') as file:\n",
    "            for line in input_data.splitlines():\n",
    "                json_object = json.loads(line)\n",
    "                file.write(json.dumps(json_object, ensure_ascii=False) + '\\n')\n",
    "\n",
    "    with open(file_name, 'rb') as data:\n",
    "        s3_client.put_object(Bucket=s3_bucket, Key=s3_key, Body=data)\n",
    "\n",
    "    return input_data\n",
    "\n",
    "\n",
    "en_input_jsonl_data = write_and_upload_to_s3(create_jsonl(english_records, direction= \"en_to_fr\"), en_validation_jsonl_file)\n",
    "fr_input_jsonl_data = write_and_upload_to_s3(create_jsonl(french_records, direction= \"fr_to_en\"), fr_validation_jsonl_file)\n",
    "\n",
    "# Example data for JSON file\n",
    "en_input_json_data = write_and_upload_to_s3({\"text\": english_records, \"direction\": \"en_to_fr\"}, en_validation_json_file)\n",
    "fr_input_json_data = write_and_upload_to_s3({\"text\": french_records, \"direction\": \"fr_to_en\"}, fr_validation_json_file)\n"
   ]
  },
  {
   "cell_type": "markdown",
   "id": "0e7fd538-a8dc-456e-8ac6-c864f85d3c45",
   "metadata": {},
   "source": [
    "### Create Model Package"
   ]
  },
  {
   "cell_type": "code",
   "execution_count": 243,
   "id": "8643e57b-93ef-4c16-ab3b-63351e5ea952",
   "metadata": {
    "tags": []
   },
   "outputs": [
    {
     "data": {
      "text/plain": [
       "'s3://sagemaker-us-east-1-189352970232/Model-Package/jsl-medical-translation-en-fr.tar.gz'"
      ]
     },
     "execution_count": 243,
     "metadata": {},
     "output_type": "execute_result"
    }
   ],
   "source": [
    "model_artifacts_s3_path"
   ]
  },
  {
   "cell_type": "code",
   "execution_count": 244,
   "id": "595783c1-480e-4635-bf23-7625255822a9",
   "metadata": {
    "tags": []
   },
   "outputs": [],
   "source": [
    "model_package = sagemaker.create_model_package(\n",
    "    ModelPackageName=model_package_name,\n",
    "    ModelPackageDescription=model_description,\n",
    "    InferenceSpecification={\n",
    "        \"Containers\": [\n",
    "            {\n",
    "                \"Image\": f\"{docker_image_arn}:latest\",\n",
    "                'ModelDataUrl': model_artifacts_s3_path,\n",
    "            }\n",
    "        ],\n",
    "        \"SupportedTransformInstanceTypes\": supported_batch_transform_instance_types,\n",
    "        \"SupportedRealtimeInferenceInstanceTypes\": supported_realtime_inference_instance_types,\n",
    "        \"SupportedContentTypes\": supported_content_types,\n",
    "        \"SupportedResponseMIMETypes\": supported_response_MIME_types,\n",
    "    },\n",
    "    CertifyForMarketplace=True,  # Make sure to set this to True for Marketplace models!\n",
    "    ValidationSpecification={\n",
    "        \"ValidationRole\": role,\n",
    "        \"ValidationProfiles\": [\n",
    "            {\n",
    "                \"ProfileName\": \"Validation-test\",\n",
    "                \"TransformJobDefinition\": {\n",
    "                    \"BatchStrategy\": \"SingleRecord\",\n",
    "                    \"TransformInput\": {\n",
    "                        \"DataSource\": {\n",
    "                            \"S3DataSource\": {\n",
    "                                \"S3DataType\": \"S3Prefix\",\n",
    "                                \"S3Uri\": validation_input_json_path,\n",
    "                            }\n",
    "                        },\n",
    "                        \"ContentType\": supported_content_types[0],\n",
    "                    },\n",
    "                    \"TransformOutput\": {\n",
    "                        \"S3OutputPath\": validation_output_json_path,\n",
    "                    },\n",
    "                    \"TransformResources\": {\n",
    "                        \"InstanceType\": supported_batch_transform_instance_types[0],\n",
    "                        \"InstanceCount\": 1,\n",
    "                    },\n",
    "                },\n",
    "            },\n",
    "        ],\n",
    "    },\n",
    ")"
   ]
  },
  {
   "cell_type": "code",
   "execution_count": 245,
   "id": "5f68e6f5-474c-425e-8f71-52638d892311",
   "metadata": {
    "tags": []
   },
   "outputs": [
    {
     "name": "stdout",
     "output_type": "stream",
     "text": [
      "................................................................................................................\n"
     ]
    },
    {
     "data": {
      "text/plain": [
       "{'ModelPackageName': 'jsl-medical-translation-en-fr',\n",
       " 'ModelPackageArn': 'arn:aws:sagemaker:us-east-1:189352970232:model-package/jsl-medical-translation-en-fr',\n",
       " 'ModelPackageDescription': 'Medical text translation between English (EN) and french (FR). The model supports a maximum input length of 1024 tokens.',\n",
       " 'CreationTime': datetime.datetime(2024, 8, 28, 12, 3, 48, 114000, tzinfo=tzlocal()),\n",
       " 'InferenceSpecification': {'Containers': [{'Image': '189352970232.dkr.ecr.us-east-1.amazonaws.com/jsl-marketplace/jsl-medical-translation-en-fr:latest',\n",
       "    'ImageDigest': 'sha256:0f5651578412f9c767a42e9be187244c78a79930522746ccfc97cace055ffdfa',\n",
       "    'ModelDataUrl': 's3://sagemaker-us-east-1-189352970232/Model-Package/jsl-medical-translation-en-fr.tar.gz'}],\n",
       "  'SupportedTransformInstanceTypes': ['ml.m5.2xlarge',\n",
       "   'ml.m4.2xlarge',\n",
       "   'ml.c5.2xlarge',\n",
       "   'ml.c5.4xlarge',\n",
       "   'ml.g4dn.xlarge',\n",
       "   'ml.g5.2xlarge'],\n",
       "  'SupportedRealtimeInferenceInstanceTypes': ['ml.m5.2xlarge',\n",
       "   'ml.m4.2xlarge',\n",
       "   'ml.c5.2xlarge',\n",
       "   'ml.c5.4xlarge',\n",
       "   'ml.g4dn.xlarge',\n",
       "   'ml.g5.2xlarge'],\n",
       "  'SupportedContentTypes': ['application/json', 'application/jsonlines'],\n",
       "  'SupportedResponseMIMETypes': ['application/json', 'application/jsonlines']},\n",
       " 'ValidationSpecification': {'ValidationRole': 'arn:aws:iam::189352970232:role/service-role/AmazonSageMaker-ExecutionRole-20210428T000922',\n",
       "  'ValidationProfiles': [{'ProfileName': 'Validation-test',\n",
       "    'TransformJobDefinition': {'BatchStrategy': 'SingleRecord',\n",
       "     'TransformInput': {'DataSource': {'S3DataSource': {'S3DataType': 'S3Prefix',\n",
       "        'S3Uri': 's3://sagemaker-us-east-1-189352970232/jsl-medical-translation-en-fr/validation-input-json/'}},\n",
       "      'ContentType': 'application/json'},\n",
       "     'TransformOutput': {'S3OutputPath': 's3://sagemaker-us-east-1-189352970232/jsl-medical-translation-en-fr/validation-output-json/'},\n",
       "     'TransformResources': {'InstanceType': 'ml.m5.2xlarge',\n",
       "      'InstanceCount': 1}}}]},\n",
       " 'ModelPackageStatus': 'Completed',\n",
       " 'ModelPackageStatusDetails': {'ValidationStatuses': [{'Name': 'Validation-test',\n",
       "    'Status': 'Completed'}],\n",
       "  'ImageScanStatuses': [{'Name': '189352970232.dkr.ecr.us-east-1.amazonaws.com/jsl-marketplace/jsl-medical-translation-en-fr@sha256:0f5651578412f9c767a42e9be187244c78a79930522746ccfc97cace055ffdfa',\n",
       "    'Status': 'Completed'}]},\n",
       " 'CertifyForMarketplace': True,\n",
       " 'CreatedBy': {'IamIdentity': {'Arn': 'arn:aws:sts::189352970232:assumed-role/AmazonSageMaker-ExecutionRole-20210428T000922/SageMaker',\n",
       "   'PrincipalId': 'AROASYFSRA74BS7ELB324:SageMaker'}},\n",
       " 'ResponseMetadata': {'RequestId': '94e143da-b5eb-46ef-a0e3-25edfd34e76b',\n",
       "  'HTTPStatusCode': 200,\n",
       "  'HTTPHeaders': {'x-amzn-requestid': '94e143da-b5eb-46ef-a0e3-25edfd34e76b',\n",
       "   'content-type': 'application/x-amz-json-1.1',\n",
       "   'content-length': '2324',\n",
       "   'date': 'Wed, 28 Aug 2024 12:13:21 GMT'},\n",
       "  'RetryAttempts': 0}}"
      ]
     },
     "execution_count": 245,
     "metadata": {},
     "output_type": "execute_result"
    }
   ],
   "source": [
    "session.wait_for_model_package(model_package_name=model_package_name)"
   ]
  },
  {
   "cell_type": "markdown",
   "id": "6e76abfa-4764-49a7-b7c0-c7f95d1bf755",
   "metadata": {},
   "source": [
    "Once you have executed the preceding cell, open the [Model Packages console from Amazon SageMaker](https://console.aws.amazon.com/sagemaker/home?region=us-east-1#/model-packages/my-resources) and check if model creation succeeded.\n",
    "\n",
    "Choose the Model and then open the Validation tab to see the validation results.\n"
   ]
  },
  {
   "cell_type": "markdown",
   "id": "b2e1f783-dbe3-42a8-be9e-abfc865673aa",
   "metadata": {},
   "source": [
    "<a id=\"step5\"><h2>Step 5: Validate model in Amazon SageMaker environment</h2></a>"
   ]
  },
  {
   "cell_type": "markdown",
   "id": "10e34a3a-703c-4ce2-8225-c59521c2ec11",
   "metadata": {},
   "source": [
    "Create a deployable model from the model package"
   ]
  },
  {
   "cell_type": "code",
   "execution_count": 246,
   "id": "a4b08ea7-004d-40dc-8ed1-087222579538",
   "metadata": {
    "tags": []
   },
   "outputs": [],
   "source": [
    "model = ModelPackage(\n",
    "    role=role,\n",
    "    model_package_arn=model_package[\"ModelPackageArn\"],\n",
    "    sagemaker_session=session,\n",
    ")"
   ]
  },
  {
   "cell_type": "markdown",
   "id": "cfdd6b11-fcba-4b4d-acfc-6c8c6434967f",
   "metadata": {},
   "source": [
    "<a id=\"step51\"><h3> Step 5.1 Validate Real-time inference via Amazon SageMaker Endpoint</a>"
   ]
  },
  {
   "cell_type": "markdown",
   "id": "f25e96ff-335b-4972-b195-c7ab45c22f02",
   "metadata": {},
   "source": [
    "Deploy the SageMaker model to an endpoint"
   ]
  },
  {
   "cell_type": "code",
   "execution_count": 247,
   "id": "a87564ab-4c08-48da-929c-2119367acdac",
   "metadata": {
    "tags": []
   },
   "outputs": [
    {
     "name": "stdout",
     "output_type": "stream",
     "text": [
      "----------!"
     ]
    },
    {
     "data": {
      "text/plain": [
       "'jsl-medical-translation-en-fr'"
      ]
     },
     "execution_count": 247,
     "metadata": {},
     "output_type": "execute_result"
    }
   ],
   "source": [
    "model.deploy(\n",
    "    initial_instance_count=1,\n",
    "    instance_type=supported_batch_transform_instance_types[0],\n",
    "    endpoint_name=model_package_name,\n",
    ")\n",
    "model.endpoint_name"
   ]
  },
  {
   "cell_type": "markdown",
   "id": "d355e192-6f21-4246-8650-a7a80cef93d3",
   "metadata": {},
   "source": [
    "#### JSON"
   ]
  },
  {
   "cell_type": "markdown",
   "id": "c792d3d3-9cf3-4909-8ae0-feb413af290e",
   "metadata": {},
   "source": [
    "##### Example: 1"
   ]
  },
  {
   "cell_type": "markdown",
   "id": "4d42beeb-3a9a-465c-bc26-cbf6d00d2491",
   "metadata": {},
   "source": [
    "Example invocation via boto3"
   ]
  },
  {
   "cell_type": "code",
   "execution_count": 248,
   "id": "4f34570c-0b1b-4a6f-83c5-dfff6f7deb25",
   "metadata": {
    "tags": []
   },
   "outputs": [
    {
     "data": {
      "text/html": [
       "<div>\n",
       "<style scoped>\n",
       "    .dataframe tbody tr th:only-of-type {\n",
       "        vertical-align: middle;\n",
       "    }\n",
       "\n",
       "    .dataframe tbody tr th {\n",
       "        vertical-align: top;\n",
       "    }\n",
       "\n",
       "    .dataframe thead th {\n",
       "        text-align: right;\n",
       "    }\n",
       "</style>\n",
       "<table border=\"1\" class=\"dataframe\">\n",
       "  <thead>\n",
       "    <tr style=\"text-align: right;\">\n",
       "      <th></th>\n",
       "      <th>predictions</th>\n",
       "    </tr>\n",
       "  </thead>\n",
       "  <tbody>\n",
       "    <tr>\n",
       "      <th>0</th>\n",
       "      <td>Les patients atteints d'une maladie pulmonaire obstructive chronique (POCP) doivent être surveillés en cas d'exacerbations.</td>\n",
       "    </tr>\n",
       "    <tr>\n",
       "      <th>1</th>\n",
       "      <td>Le patient présentait des douleurs abdominales sévères et a été diagnostiqué avec une pancréatite aiguë.</td>\n",
       "    </tr>\n",
       "  </tbody>\n",
       "</table>\n",
       "</div>"
      ],
      "text/plain": [
       "                                                                                                                   predictions\n",
       "0  Les patients atteints d'une maladie pulmonaire obstructive chronique (POCP) doivent être surveillés en cas d'exacerbations.\n",
       "1                     Le patient présentait des douleurs abdominales sévères et a été diagnostiqué avec une pancréatite aiguë."
      ]
     },
     "execution_count": 248,
     "metadata": {},
     "output_type": "execute_result"
    }
   ],
   "source": [
    "response = sm_runtime.invoke_endpoint(\n",
    "    EndpointName=model.endpoint_name,\n",
    "    ContentType=\"application/json\",\n",
    "    Accept=\"application/json\",\n",
    "    Body=json.dumps(en_input_json_data),\n",
    ")\n",
    "\n",
    "data = json.loads(response[\"Body\"].read().decode(\"utf-8\"))\n",
    "pd.DataFrame(data)"
   ]
  },
  {
   "cell_type": "markdown",
   "id": "cb83e50d-593d-4f30-8b73-bbfb0324c86c",
   "metadata": {},
   "source": [
    "Example invocation via AWS CLI"
   ]
  },
  {
   "cell_type": "code",
   "execution_count": 249,
   "id": "db600949-e0e0-4221-81c8-d20b9ab3b000",
   "metadata": {
    "tags": []
   },
   "outputs": [
    {
     "name": "stdout",
     "output_type": "stream",
     "text": [
      "{\n",
      "    \"ContentType\": \"application/json\",\n",
      "    \"InvokedProductionVariant\": \"AllTraffic\"\n",
      "}\n",
      "{\"predictions\": [\"Les patients atteints d'une maladie pulmonaire obstructive chronique (POCP) doivent être surveillés en cas d'exacerbations.\", \"Le patient présentait des douleurs abdominales sévères et a été diagnostiqué avec une pancréatite aiguë.\"]}"
     ]
    }
   ],
   "source": [
    "# Perform inference\n",
    "!aws sagemaker-runtime invoke-endpoint \\\n",
    "    --endpoint-name $model.endpoint_name \\\n",
    "    --body fileb://$en_validation_json_file \\\n",
    "    --content-type application/json \\\n",
    "    --accept application/json \\\n",
    "    --region $session.boto_region_name \\\n",
    "    out1.out\n",
    "\n",
    "\n",
    "# Print inference\n",
    "!head out1.out"
   ]
  },
  {
   "cell_type": "markdown",
   "id": "3b8dddd0-7d23-4785-863d-707b1726ff88",
   "metadata": {},
   "source": [
    "##### Example: 2"
   ]
  },
  {
   "cell_type": "markdown",
   "id": "cd91382a-507f-486a-9e79-85bdd68ce86b",
   "metadata": {},
   "source": [
    "Example invocation via boto3"
   ]
  },
  {
   "cell_type": "code",
   "execution_count": 250,
   "id": "1f7f191d-d779-49d9-8959-b8d18bc3fcf8",
   "metadata": {
    "tags": []
   },
   "outputs": [
    {
     "data": {
      "text/html": [
       "<div>\n",
       "<style scoped>\n",
       "    .dataframe tbody tr th:only-of-type {\n",
       "        vertical-align: middle;\n",
       "    }\n",
       "\n",
       "    .dataframe tbody tr th {\n",
       "        vertical-align: top;\n",
       "    }\n",
       "\n",
       "    .dataframe thead th {\n",
       "        text-align: right;\n",
       "    }\n",
       "</style>\n",
       "<table border=\"1\" class=\"dataframe\">\n",
       "  <thead>\n",
       "    <tr style=\"text-align: right;\">\n",
       "      <th></th>\n",
       "      <th>predictions</th>\n",
       "    </tr>\n",
       "  </thead>\n",
       "  <tbody>\n",
       "    <tr>\n",
       "      <th>0</th>\n",
       "      <td>Flu symptoms may include fever, chills, muscle pain and dry cough.</td>\n",
       "    </tr>\n",
       "    <tr>\n",
       "      <th>1</th>\n",
       "      <td>Diabetic patients should monitor their blood sugar levels regularly to avoid complications.</td>\n",
       "    </tr>\n",
       "  </tbody>\n",
       "</table>\n",
       "</div>"
      ],
      "text/plain": [
       "                                                                                   predictions\n",
       "0                           Flu symptoms may include fever, chills, muscle pain and dry cough.\n",
       "1  Diabetic patients should monitor their blood sugar levels regularly to avoid complications."
      ]
     },
     "execution_count": 250,
     "metadata": {},
     "output_type": "execute_result"
    }
   ],
   "source": [
    "response = sm_runtime.invoke_endpoint(\n",
    "    EndpointName=model.endpoint_name,\n",
    "    ContentType=\"application/json\",\n",
    "    Accept=\"application/json\",\n",
    "    Body=json.dumps(fr_input_json_data),\n",
    ")\n",
    "\n",
    "data = json.loads(response[\"Body\"].read().decode(\"utf-8\"))\n",
    "pd.DataFrame(data)"
   ]
  },
  {
   "cell_type": "markdown",
   "id": "66d7ffac-885b-4a2e-a84a-d47f20d574fb",
   "metadata": {},
   "source": [
    "Example invocation via AWS CLI"
   ]
  },
  {
   "cell_type": "code",
   "execution_count": 251,
   "id": "b2a359ea-7ac8-4913-bd74-b9fd8590430e",
   "metadata": {
    "tags": []
   },
   "outputs": [
    {
     "name": "stdout",
     "output_type": "stream",
     "text": [
      "{\n",
      "    \"ContentType\": \"application/json\",\n",
      "    \"InvokedProductionVariant\": \"AllTraffic\"\n",
      "}\n",
      "{\"predictions\": [\"Flu symptoms may include fever, chills, muscle pain and dry cough.\", \"Diabetic patients should monitor their blood sugar levels regularly to avoid complications.\"]}"
     ]
    }
   ],
   "source": [
    "# Perform inference\n",
    "!aws sagemaker-runtime invoke-endpoint \\\n",
    "    --endpoint-name $model.endpoint_name \\\n",
    "    --body fileb://$fr_validation_json_file \\\n",
    "    --content-type application/json \\\n",
    "    --accept application/json \\\n",
    "    --region $session.boto_region_name \\\n",
    "    out1.out\n",
    "\n",
    "\n",
    "# Print inference\n",
    "!head out1.out"
   ]
  },
  {
   "cell_type": "markdown",
   "id": "e2bb7661-54cf-4709-b83e-21360b021b02",
   "metadata": {},
   "source": [
    "#### JSON Lines"
   ]
  },
  {
   "cell_type": "markdown",
   "id": "03c649de-fc92-4454-9d12-e4b1ba3aeda9",
   "metadata": {},
   "source": [
    "##### Example: 1"
   ]
  },
  {
   "cell_type": "markdown",
   "id": "e6761b03-5b05-4838-81e8-00e93f5c7a82",
   "metadata": {},
   "source": [
    "Example invocation via boto3"
   ]
  },
  {
   "cell_type": "code",
   "execution_count": 252,
   "id": "11a99ea4-4cd3-4f13-9066-8484d7a23c01",
   "metadata": {
    "tags": []
   },
   "outputs": [
    {
     "name": "stdout",
     "output_type": "stream",
     "text": [
      "{\"predictions\": \"Les patients atteints d'une maladie pulmonaire obstructive chronique (POCP) doivent être surveillés en cas d'exacerbations.\"}\n",
      "{\"predictions\": \"Le patient présentait des douleurs abdominales sévères et a été diagnostiqué avec une pancréatite aiguë.\"}\n"
     ]
    }
   ],
   "source": [
    "response = sm_runtime.invoke_endpoint(\n",
    "    EndpointName=model.endpoint_name,\n",
    "    ContentType=\"application/jsonlines\",\n",
    "    Accept=\"application/jsonlines\",\n",
    "    Body=en_input_jsonl_data\n",
    ")\n",
    "\n",
    "data = response['Body'].read().decode('utf-8')\n",
    "print(data)"
   ]
  },
  {
   "cell_type": "markdown",
   "id": "07f08fea-8108-4c00-a66a-2853449bd04d",
   "metadata": {},
   "source": [
    "Example invocation via AWS CLI"
   ]
  },
  {
   "cell_type": "code",
   "execution_count": 253,
   "id": "371fa832-174b-49a1-9f5c-68de2ad8b2a5",
   "metadata": {
    "tags": []
   },
   "outputs": [
    {
     "name": "stdout",
     "output_type": "stream",
     "text": [
      "{\n",
      "    \"ContentType\": \"application/jsonlines\",\n",
      "    \"InvokedProductionVariant\": \"AllTraffic\"\n",
      "}\n",
      "{\"predictions\": \"Les patients atteints d'une maladie pulmonaire obstructive chronique (POCP) doivent être surveillés en cas d'exacerbations.\"}\n",
      "{\"predictions\": \"Le patient présentait des douleurs abdominales sévères et a été diagnostiqué avec une pancréatite aiguë.\"}"
     ]
    }
   ],
   "source": [
    "# Perform inference\n",
    "!aws sagemaker-runtime invoke-endpoint \\\n",
    "    --endpoint-name $model.endpoint_name \\\n",
    "    --body fileb://$en_validation_jsonl_file \\\n",
    "    --content-type application/jsonlines \\\n",
    "    --accept application/jsonlines \\\n",
    "    --region $session.boto_region_name \\\n",
    "    out2.out\n",
    "\n",
    "\n",
    "# Print inference\n",
    "!head out2.out"
   ]
  },
  {
   "cell_type": "markdown",
   "id": "33247025-d65c-465b-a1b3-b53dd7536688",
   "metadata": {},
   "source": [
    "##### Example: 2"
   ]
  },
  {
   "cell_type": "markdown",
   "id": "4308a0f5-77ea-4754-a0dc-55e0f55f6295",
   "metadata": {},
   "source": [
    "Example invocation via boto3"
   ]
  },
  {
   "cell_type": "code",
   "execution_count": 254,
   "id": "d41a7cc6-918f-4787-b2c0-3b24cf0d8828",
   "metadata": {
    "tags": []
   },
   "outputs": [
    {
     "name": "stdout",
     "output_type": "stream",
     "text": [
      "{\"predictions\": \"Flu symptoms may include fever, chills, muscle pain and dry cough.\"}\n",
      "{\"predictions\": \"Diabetic patients should monitor their blood sugar levels regularly to avoid complications.\"}\n"
     ]
    }
   ],
   "source": [
    "response = sm_runtime.invoke_endpoint(\n",
    "    EndpointName=model.endpoint_name,\n",
    "    ContentType=\"application/jsonlines\",\n",
    "    Accept=\"application/jsonlines\",\n",
    "    Body=fr_input_jsonl_data\n",
    ")\n",
    "\n",
    "data = response['Body'].read().decode('utf-8')\n",
    "print(data)"
   ]
  },
  {
   "cell_type": "markdown",
   "id": "94e7222e-0a0b-4406-b04c-a3828158429e",
   "metadata": {},
   "source": [
    "Example invocation via AWS CLI"
   ]
  },
  {
   "cell_type": "code",
   "execution_count": 255,
   "id": "4d88cfad-f6c9-44aa-8406-2abe75bb286a",
   "metadata": {
    "tags": []
   },
   "outputs": [
    {
     "name": "stdout",
     "output_type": "stream",
     "text": [
      "{\n",
      "    \"ContentType\": \"application/jsonlines\",\n",
      "    \"InvokedProductionVariant\": \"AllTraffic\"\n",
      "}\n",
      "{\"predictions\": \"Flu symptoms may include fever, chills, muscle pain and dry cough.\"}\n",
      "{\"predictions\": \"Diabetic patients should monitor their blood sugar levels regularly to avoid complications.\"}"
     ]
    }
   ],
   "source": [
    "# Perform inference\n",
    "!aws sagemaker-runtime invoke-endpoint \\\n",
    "    --endpoint-name $model.endpoint_name \\\n",
    "    --body fileb://$fr_validation_jsonl_file \\\n",
    "    --content-type application/jsonlines \\\n",
    "    --accept application/jsonlines \\\n",
    "    --region $session.boto_region_name \\\n",
    "    out2.out\n",
    "\n",
    "\n",
    "# Print inference\n",
    "!head out2.out"
   ]
  },
  {
   "cell_type": "markdown",
   "id": "f338a2f3-b3d0-4af1-8b2d-a9732244b50b",
   "metadata": {
    "tags": []
   },
   "source": [
    "Clean up the endpoint and endpoint configuration"
   ]
  },
  {
   "cell_type": "code",
   "execution_count": 256,
   "id": "24d7497f-9e41-49af-af66-469324f125fa",
   "metadata": {
    "tags": []
   },
   "outputs": [],
   "source": [
    "model.sagemaker_session.delete_endpoint(model.endpoint_name)\n",
    "model.sagemaker_session.delete_endpoint_config(model.endpoint_name)"
   ]
  },
  {
   "cell_type": "markdown",
   "id": "38098b89-a1dc-46f5-a338-c7d5d34a255e",
   "metadata": {},
   "source": [
    "<a id=\"step52\"><h3> Step 5.2 Validate batch inference via batch transform job</h3></a>"
   ]
  },
  {
   "cell_type": "markdown",
   "id": "4098cbde-d993-4c0f-b78d-f963043e07f6",
   "metadata": {},
   "source": [
    "### JSON"
   ]
  },
  {
   "cell_type": "markdown",
   "id": "a9c21b31-67c6-461c-aa46-0474218cc962",
   "metadata": {},
   "source": [
    "Run a batch transform job"
   ]
  },
  {
   "cell_type": "code",
   "execution_count": null,
   "id": "266af534-4bf9-4d1c-a3a8-3d9356240bd6",
   "metadata": {
    "tags": []
   },
   "outputs": [],
   "source": [
    "transformer = model.transformer(\n",
    "    instance_count=1,\n",
    "    instance_type=supported_batch_transform_instance_types[0],\n",
    "    accept=\"application/json\",\n",
    "    output_path = validation_output_json_path\n",
    ")\n",
    "transformer.transform(validation_input_json_path, content_type=\"application/json\")\n",
    "transformer.wait()"
   ]
  },
  {
   "cell_type": "markdown",
   "id": "e454904f-31f1-4f95-adea-f38d90013965",
   "metadata": {},
   "source": [
    "Retreive results from S3"
   ]
  },
  {
   "cell_type": "code",
   "execution_count": 259,
   "id": "083f622a-d330-4090-8f7d-962662ffc00a",
   "metadata": {
    "tags": []
   },
   "outputs": [],
   "source": [
    "from urllib.parse import urlparse\n",
    "\n",
    "def process_s3_json_output_and_save(validation_file_name):\n",
    "    parsed_url = urlparse(transformer.output_path)\n",
    "    file_key = f\"{parsed_url.path[1:]}{os.path.basename(validation_file_name)}.out\"\n",
    "\n",
    "    response = s3_client.get_object(Bucket=s3_bucket, Key=file_key)\n",
    "    data = json.loads(response[\"Body\"].read().decode(\"utf-8\"))\n",
    "    df = pd.DataFrame(data)\n",
    "    display(df)"
   ]
  },
  {
   "cell_type": "code",
   "execution_count": 260,
   "id": "dd7d4d43-331c-4104-839e-2fc87a7abb82",
   "metadata": {
    "tags": []
   },
   "outputs": [
    {
     "data": {
      "text/html": [
       "<div>\n",
       "<style scoped>\n",
       "    .dataframe tbody tr th:only-of-type {\n",
       "        vertical-align: middle;\n",
       "    }\n",
       "\n",
       "    .dataframe tbody tr th {\n",
       "        vertical-align: top;\n",
       "    }\n",
       "\n",
       "    .dataframe thead th {\n",
       "        text-align: right;\n",
       "    }\n",
       "</style>\n",
       "<table border=\"1\" class=\"dataframe\">\n",
       "  <thead>\n",
       "    <tr style=\"text-align: right;\">\n",
       "      <th></th>\n",
       "      <th>predictions</th>\n",
       "    </tr>\n",
       "  </thead>\n",
       "  <tbody>\n",
       "    <tr>\n",
       "      <th>0</th>\n",
       "      <td>Les patients atteints d'une maladie pulmonaire obstructive chronique (POCP) doivent être surveillés en cas d'exacerbations.</td>\n",
       "    </tr>\n",
       "    <tr>\n",
       "      <th>1</th>\n",
       "      <td>Le patient présentait des douleurs abdominales sévères et a été diagnostiqué avec une pancréatite aiguë.</td>\n",
       "    </tr>\n",
       "  </tbody>\n",
       "</table>\n",
       "</div>"
      ],
      "text/plain": [
       "                                                                                                                   predictions\n",
       "0  Les patients atteints d'une maladie pulmonaire obstructive chronique (POCP) doivent être surveillés en cas d'exacerbations.\n",
       "1                     Le patient présentait des douleurs abdominales sévères et a été diagnostiqué avec une pancréatite aiguë."
      ]
     },
     "metadata": {},
     "output_type": "display_data"
    }
   ],
   "source": [
    "# EN ==> FR\n",
    "process_s3_json_output_and_save(en_validation_json_file)"
   ]
  },
  {
   "cell_type": "code",
   "execution_count": 261,
   "id": "b0877869-02bd-4a08-9780-8d623c525b30",
   "metadata": {
    "tags": []
   },
   "outputs": [
    {
     "data": {
      "text/html": [
       "<div>\n",
       "<style scoped>\n",
       "    .dataframe tbody tr th:only-of-type {\n",
       "        vertical-align: middle;\n",
       "    }\n",
       "\n",
       "    .dataframe tbody tr th {\n",
       "        vertical-align: top;\n",
       "    }\n",
       "\n",
       "    .dataframe thead th {\n",
       "        text-align: right;\n",
       "    }\n",
       "</style>\n",
       "<table border=\"1\" class=\"dataframe\">\n",
       "  <thead>\n",
       "    <tr style=\"text-align: right;\">\n",
       "      <th></th>\n",
       "      <th>predictions</th>\n",
       "    </tr>\n",
       "  </thead>\n",
       "  <tbody>\n",
       "    <tr>\n",
       "      <th>0</th>\n",
       "      <td>Flu symptoms may include fever, chills, muscle pain and dry cough.</td>\n",
       "    </tr>\n",
       "    <tr>\n",
       "      <th>1</th>\n",
       "      <td>Diabetic patients should monitor their blood sugar levels regularly to avoid complications.</td>\n",
       "    </tr>\n",
       "  </tbody>\n",
       "</table>\n",
       "</div>"
      ],
      "text/plain": [
       "                                                                                   predictions\n",
       "0                           Flu symptoms may include fever, chills, muscle pain and dry cough.\n",
       "1  Diabetic patients should monitor their blood sugar levels regularly to avoid complications."
      ]
     },
     "metadata": {},
     "output_type": "display_data"
    }
   ],
   "source": [
    "# FR ==> EN\n",
    "process_s3_json_output_and_save(fr_validation_json_file)"
   ]
  },
  {
   "cell_type": "markdown",
   "id": "fab56401-e5a0-4b61-9ed2-59f9ca67f4a7",
   "metadata": {},
   "source": [
    "### JSON Lines"
   ]
  },
  {
   "cell_type": "markdown",
   "id": "7dbcf491-cb7d-4d57-a8b9-43e33afb9392",
   "metadata": {},
   "source": [
    "Run a batch transform job"
   ]
  },
  {
   "cell_type": "code",
   "execution_count": null,
   "id": "f850baa4-0cd6-4ee2-aa4c-7a79a0c4c1fd",
   "metadata": {
    "tags": []
   },
   "outputs": [
    {
     "name": "stderr",
     "output_type": "stream",
     "text": [
      "INFO:sagemaker:Creating model with name: jsl-medical-translation-en-fr-2024-08-28-12-42-42-963\n",
      "INFO:sagemaker:Creating transform job with name: jsl-medical-translation-en-fr-2024-08-28-12-42-43-720\n"
     ]
    },
    {
     "name": "stdout",
     "output_type": "stream",
     "text": [
      ".................."
     ]
    }
   ],
   "source": [
    "transformer = model.transformer(\n",
    "    instance_count=1,\n",
    "    instance_type=supported_batch_transform_instance_types[0],\n",
    "    accept=\"application/jsonlines\",\n",
    "    output_path = validation_output_jsonl_path\n",
    ")\n",
    "transformer.transform(validation_input_jsonl_path, content_type=\"application/jsonlines\")\n",
    "transformer.wait()"
   ]
  },
  {
   "cell_type": "markdown",
   "id": "58ffe44f-a59c-4d4f-a75a-7ac6476a16ea",
   "metadata": {},
   "source": [
    "Retreive results from S3"
   ]
  },
  {
   "cell_type": "code",
   "execution_count": 263,
   "id": "6c543651-83b1-4b89-afd7-ab48c65552e9",
   "metadata": {
    "tags": []
   },
   "outputs": [],
   "source": [
    "from urllib.parse import urlparse\n",
    "\n",
    "def process_s3_jsonlines_output_and_save(validation_file_name):\n",
    "\n",
    "    parsed_url = urlparse(transformer.output_path)\n",
    "    file_key = f\"{parsed_url.path[1:]}{os.path.basename(validation_file_name)}.out\"\n",
    "    response = s3_client.get_object(Bucket=s3_bucket, Key=file_key)\n",
    "\n",
    "    data = response[\"Body\"].read().decode(\"utf-8\")\n",
    "    print(data)\n"
   ]
  },
  {
   "cell_type": "code",
   "execution_count": 266,
   "id": "de823c0a-34ce-453f-a8fe-9ccd79cb7657",
   "metadata": {
    "tags": []
   },
   "outputs": [
    {
     "name": "stdout",
     "output_type": "stream",
     "text": [
      "{\"predictions\": \"Les patients atteints d'une maladie pulmonaire obstructive chronique (POCP) doivent être surveillés en cas d'exacerbations.\"}\n",
      "{\"predictions\": \"Le patient présentait des douleurs abdominales sévères et a été diagnostiqué avec une pancréatite aiguë.\"}\n"
     ]
    }
   ],
   "source": [
    "# EN ==> FR\n",
    "process_s3_jsonlines_output_and_save(en_validation_jsonl_file)"
   ]
  },
  {
   "cell_type": "code",
   "execution_count": 267,
   "id": "b78c5988-01e0-43c8-a89e-4c48120934ca",
   "metadata": {
    "tags": []
   },
   "outputs": [
    {
     "name": "stdout",
     "output_type": "stream",
     "text": [
      "{\"predictions\": \"Flu symptoms may include fever, chills, muscle pain and dry cough.\"}\n",
      "{\"predictions\": \"Diabetic patients should monitor their blood sugar levels regularly to avoid complications.\"}\n"
     ]
    }
   ],
   "source": [
    "# FR ==> EN\n",
    "process_s3_jsonlines_output_and_save(fr_validation_jsonl_file)"
   ]
  },
  {
   "cell_type": "code",
   "execution_count": 268,
   "id": "89e36059-8496-47b4-9a94-45652731d5d9",
   "metadata": {
    "tags": []
   },
   "outputs": [
    {
     "name": "stderr",
     "output_type": "stream",
     "text": [
      "INFO:sagemaker:Deleting model with name: jsl-medical-translation-en-fr-2024-08-28-12-42-42-963\n"
     ]
    }
   ],
   "source": [
    "model.delete_model()"
   ]
  },
  {
   "cell_type": "markdown",
   "id": "812e0cc3-9e38-4434-95e8-c3bd698a7401",
   "metadata": {},
   "source": [
    "Congratulations! You just verified that the batch transform job is working as expected. Since the model is not required, you can delete it. Note that you are deleting the deployable model. Not the model package."
   ]
  },
  {
   "cell_type": "markdown",
   "id": "011d9f68-07e8-4ca6-874e-bee04933c24f",
   "metadata": {},
   "source": [
    "### <a name=\"step6\"></a>Step 6: List ML Model on AWS Marketplace\n",
    "\n",
    "In the [Model Packages](https://console.aws.amazon.com/sagemaker/home?region=us-east-1#/model-packages/my-resources) section of the SageMaker console you'll find the entity you created in this notebook. If it was successfully created and validated, you should be able to select the entity and choose **Publish new ML Marketplace listing**.\n",
    "\n",
    "\n",
    "You will be redirected to the [AWS Marketplace Management portal](https://aws.amazon.com/marketplace/management/ml-products/) where you will be able to build a listing.\n",
    "\n",
    "If your model targets multiple hardware types, remember to add each ModelPackage to the listing as separate versions."
   ]
  }
 ],
 "metadata": {
  "kernelspec": {
   "display_name": "conda_python3",
   "language": "python",
   "name": "conda_python3"
  },
  "language_info": {
   "codemirror_mode": {
    "name": "ipython",
    "version": 3
   },
   "file_extension": ".py",
   "mimetype": "text/x-python",
   "name": "python",
   "nbconvert_exporter": "python",
   "pygments_lexer": "ipython3",
   "version": "3.10.14"
  }
 },
 "nbformat": 4,
 "nbformat_minor": 5
}

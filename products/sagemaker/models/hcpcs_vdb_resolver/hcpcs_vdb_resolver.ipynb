{
 "cells": [
  {
   "cell_type": "markdown",
   "metadata": {},
   "source": [
    "## 1. Subscribe to the model package"
   ]
  },
  {
   "cell_type": "markdown",
   "metadata": {},
   "source": [
    "To subscribe to the model package:\n",
    "1. Open the model package listing page [Healthcare common procedure resolver](https://aws.amazon.com/marketplace/pp/prodview-bek2z4uqfgmbs)\n",
    "1. On the AWS Marketplace listing, click on the **Continue to subscribe** button.\n",
    "1. On the **Subscribe to this software** page, review and click on **\"Accept Offer\"** if you and your organization agrees with EULA, pricing, and support terms. \n",
    "1. Once you click on **Continue to configuration button** and then choose a **region**, you will see a **Product Arn** displayed. This is the model package ARN that you need to specify while creating a deployable model using Boto3. Copy the ARN corresponding to your region and specify the same in the following cell."
   ]
  },
  {
   "cell_type": "markdown",
   "metadata": {},
   "source": [
    "## Pipeline for Healthcare Common Procedure Coding System (HCPCS)\n",
    "\n",
    "- **Model**: `hcpcs_vdb_resolver`\n",
    "- **Model Description**: This pretrained pipeline extracts `PROCEDURE` and `TREATMENT` entities from clinical text and maps them to their corresponding Healthcare Common Procedure Coding System (HCPCS) codes."
   ]
  },
  {
   "cell_type": "code",
   "execution_count": 1,
   "metadata": {
    "tags": []
   },
   "outputs": [],
   "source": [
    "model_package_arn = \"<Customer to specify Model package ARN corresponding to their AWS region>\""
   ]
  },
  {
   "cell_type": "code",
   "execution_count": null,
   "metadata": {
    "tags": []
   },
   "outputs": [],
   "source": [
    "import base64\n",
    "import json\n",
    "import uuid\n",
    "from sagemaker import ModelPackage\n",
    "import sagemaker as sage\n",
    "from sagemaker import get_execution_role\n",
    "import boto3\n",
    "from IPython.display import Image, display\n",
    "from PIL import Image as ImageEdit\n",
    "import numpy as np"
   ]
  },
  {
   "cell_type": "code",
   "execution_count": null,
   "metadata": {
    "tags": []
   },
   "outputs": [],
   "source": [
    "sagemaker_session = sage.Session()\n",
    "s3_bucket = sagemaker_session.default_bucket()\n",
    "region = sagemaker_session.boto_region_name\n",
    "account_id = boto3.client(\"sts\").get_caller_identity().get(\"Account\")\n",
    "role = get_execution_role()\n",
    "\n",
    "sagemaker = boto3.client(\"sagemaker\")\n",
    "s3_client = sagemaker_session.boto_session.client(\"s3\")\n",
    "ecr = boto3.client(\"ecr\")\n",
    "sm_runtime = boto3.client(\"sagemaker-runtime\")"
   ]
  },
  {
   "cell_type": "code",
   "execution_count": 4,
   "metadata": {
    "tags": []
   },
   "outputs": [],
   "source": [
    "model_name = \"hcpcs-vdb-resolver\"\n",
    "\n",
    "real_time_inference_instance_type = \"ml.m4.xlarge\"\n",
    "batch_transform_inference_instance_type = \"ml.m4.2xlarge\""
   ]
  },
  {
   "cell_type": "markdown",
   "metadata": {},
   "source": [
    "## 2. Create a deployable model from the model package."
   ]
  },
  {
   "cell_type": "code",
   "execution_count": 5,
   "metadata": {
    "tags": []
   },
   "outputs": [],
   "source": [
    "# create a deployable model from the model package.\n",
    "model = ModelPackage(\n",
    "    role=role, \n",
    "    model_package_arn=model_package_arn,\n",
    "    sagemaker_session=sagemaker_session,\n",
    ")\n"
   ]
  },
  {
   "cell_type": "markdown",
   "metadata": {},
   "source": [
    "### Input Format\n",
    "\n",
    "To use the model, you need to provide input in one of the following supported formats:\n",
    "\n",
    "#### JSON Format\n",
    "\n",
    "Provide input as JSON. We support two variations within this format:\n",
    "\n",
    "1. **Array of Text Documents**: \n",
    "   Use an array containing multiple text documents. Each element represents a separate text document.\n",
    "\n",
    "   ```json\n",
    "   {\n",
    "       \"text\": [\n",
    "           \"Text document 1\",\n",
    "           \"Text document 2\",\n",
    "           ...\n",
    "       ]\n",
    "   }\n",
    "\n",
    "    ```\n",
    "\n",
    "2. **Single Text Document**:\n",
    "   Provide a single text document as a string.\n",
    "\n",
    "\n",
    "   ```json\n",
    "    {\n",
    "        \"text\": \"Single text document\"\n",
    "    }\n",
    "   ```\n",
    "\n",
    "#### JSON Lines (JSONL) Format\n",
    "\n",
    "Provide input in JSON Lines format, where each line is a JSON object representing a text document.\n",
    "\n",
    "```\n",
    "{\"text\": \"Text document 1\"}\n",
    "{\"text\": \"Text document 2\"}\n",
    "```"
   ]
  },
  {
   "cell_type": "markdown",
   "metadata": {},
   "source": [
    "## 3. Create an endpoint and perform real-time inference"
   ]
  },
  {
   "cell_type": "markdown",
   "metadata": {},
   "source": [
    "If you want to understand how real-time inference with Amazon SageMaker works, see [Documentation](https://docs.aws.amazon.com/sagemaker/latest/dg/how-it-works-hosting.html)."
   ]
  },
  {
   "cell_type": "markdown",
   "metadata": {},
   "source": [
    "### A. Deploy the SageMaker model to an endpoint"
   ]
  },
  {
   "cell_type": "code",
   "execution_count": null,
   "metadata": {
    "tags": []
   },
   "outputs": [],
   "source": [
    "# Deploy the model\n",
    "predictor = model.deploy(\n",
    "    initial_instance_count=1,\n",
    "    instance_type=real_time_inference_instance_type, \n",
    "    endpoint_name=model_name,\n",
    ")"
   ]
  },
  {
   "cell_type": "markdown",
   "metadata": {},
   "source": [
    "Once endpoint has been created, you would be able to perform real-time inference."
   ]
  },
  {
   "cell_type": "code",
   "execution_count": 7,
   "metadata": {
    "tags": []
   },
   "outputs": [],
   "source": [
    "import json\n",
    "import pandas as pd\n",
    "import os\n",
    "import boto3\n",
    "\n",
    "# Set display options\n",
    "pd.set_option('display.max_rows', None)\n",
    "pd.set_option('display.max_columns', None)\n",
    "pd.set_option('display.max_colwidth', None)\n",
    "\n",
    "\n",
    "def process_data_and_invoke_realtime_endpoint(data, content_type, accept):\n",
    "\n",
    "    content_type_to_format = {'application/json': 'json', 'application/jsonlines': 'jsonl'}\n",
    "    input_format = content_type_to_format.get(content_type)\n",
    "    if content_type not in content_type_to_format.keys() or accept not in content_type_to_format.keys():\n",
    "        raise ValueError(\"Invalid content_type or accept. It should be either 'application/json' or 'application/jsonlines'.\")\n",
    "\n",
    "    i = 1\n",
    "    input_dir = f'inputs/real-time/{input_format}'\n",
    "    output_dir = f'outputs/real-time/{input_format}'\n",
    "    s3_input_dir = f\"{model_name}/validation-input/real-time/{input_format}\"\n",
    "    s3_output_dir = f\"{model_name}/validation-output/real-time/{input_format}\"\n",
    "\n",
    "    input_file_name = f'{input_dir}/input{i}.{input_format}'\n",
    "    output_file_name = f'{output_dir}/{os.path.basename(input_file_name)}.out'\n",
    "\n",
    "    while os.path.exists(input_file_name) or os.path.exists(output_file_name):\n",
    "        i += 1\n",
    "        input_file_name = f'{input_dir}/input{i}.{input_format}'\n",
    "        output_file_name = f'{output_dir}/{os.path.basename(input_file_name)}.out'\n",
    "\n",
    "    os.makedirs(os.path.dirname(input_file_name), exist_ok=True)\n",
    "    os.makedirs(os.path.dirname(output_file_name), exist_ok=True)\n",
    "\n",
    "    input_data = json.dumps(data) if content_type == 'application/json' else data\n",
    "\n",
    "    # Write input data to file\n",
    "    with open(input_file_name, 'w') as f:\n",
    "        f.write(input_data)\n",
    "\n",
    "    # Upload input data to S3\n",
    "    s3_client.put_object(Bucket=s3_bucket, Key=f\"{s3_input_dir}/{os.path.basename(input_file_name)}\", Body=bytes(input_data.encode('UTF-8')))\n",
    "\n",
    "    # Invoke the SageMaker endpoint\n",
    "    response = sm_runtime.invoke_endpoint(\n",
    "        EndpointName=model_name,\n",
    "        ContentType=content_type,\n",
    "        Accept=accept,\n",
    "        Body=input_data,\n",
    "    )\n",
    "\n",
    "    # Read response data\n",
    "    response_data = json.loads(response[\"Body\"].read().decode(\"utf-8\")) if accept == 'application/json' else response['Body'].read().decode('utf-8')\n",
    "\n",
    "    # Save response data to file\n",
    "    with open(output_file_name, 'w') as f_out:\n",
    "        if accept == 'application/json':\n",
    "            json.dump(response_data, f_out, indent=4)\n",
    "        else:\n",
    "            for item in response_data.split('\\n'):\n",
    "                f_out.write(item + '\\n')\n",
    "\n",
    "    # Upload response data to S3\n",
    "    output_s3_key = f\"{s3_output_dir}/{os.path.basename(output_file_name)}\"\n",
    "    if accept == 'application/json':\n",
    "        s3_client.put_object(Bucket=s3_bucket, Key=output_s3_key, Body=json.dumps(response_data).encode('UTF-8'))\n",
    "    else:\n",
    "        s3_client.put_object(Bucket=s3_bucket, Key=output_s3_key, Body=response_data)\n",
    "\n",
    "    return response_data"
   ]
  },
  {
   "cell_type": "markdown",
   "metadata": {},
   "source": [
    "### Initial Setup"
   ]
  },
  {
   "cell_type": "code",
   "execution_count": 8,
   "metadata": {
    "tags": []
   },
   "outputs": [],
   "source": [
    "docs = [\n",
    "    \"\"\"The patient is a 40-year-old white male who presents with a chief complaint of \"chest pain\". The patient is diabetic and has a prior history of coronary artery disease. The patient presents today stating that his chest pain started yesterday evening and has been somewhat intermittent. He has been advised Aspirin 81 milligrams QDay. Humulin N. insulin 50 units in a.m. Hydrochlorothiazide 50 mg QDay. Nitroglycerin 1/150 sublingually PRN chest pain.\"\"\",\n",
    "    \"\"\"Two weeks prior to presentation , she was treated with a five-day course of amoxicillin for a respiratory tract infection . She was on metformin , glipizide , and dapagliflozin for T2DM and atorvastatin and gemfibrozil for HTG . She had been on dapagliflozin for six months at the time of presentation .The patient was seen by the endocrinology service and she was discharged on 40 units of insulin glargine at night , 12 units of insulin lispro with meals , and metformin 1000 mg two times a day.\"\"\",\n",
    "]\n",
    "\n",
    "sample_text = \"\"\"Mary received a mechanical prosthetic heart valve in June 2020, and the results were successful. Diabetes screening test performed, revealing abnormal result. She uses infusion pump for diabetes and a CPAP machine for sleep apnea. In 2021, She received a breast prosthesis implant.\"\"\""
   ]
  },
  {
   "cell_type": "markdown",
   "metadata": {},
   "source": [
    "### JSON"
   ]
  },
  {
   "cell_type": "code",
   "execution_count": 9,
   "metadata": {
    "tags": []
   },
   "outputs": [
    {
     "data": {
      "text/html": [
       "<div>\n",
       "<style scoped>\n",
       "    .dataframe tbody tr th:only-of-type {\n",
       "        vertical-align: middle;\n",
       "    }\n",
       "\n",
       "    .dataframe tbody tr th {\n",
       "        vertical-align: top;\n",
       "    }\n",
       "\n",
       "    .dataframe thead th {\n",
       "        text-align: right;\n",
       "    }\n",
       "</style>\n",
       "<table border=\"1\" class=\"dataframe\">\n",
       "  <thead>\n",
       "    <tr style=\"text-align: right;\">\n",
       "      <th></th>\n",
       "      <th>begin</th>\n",
       "      <th>end</th>\n",
       "      <th>ner_chunk</th>\n",
       "      <th>ner_label</th>\n",
       "      <th>ner_confidence</th>\n",
       "      <th>concept_code</th>\n",
       "      <th>resolution</th>\n",
       "      <th>score</th>\n",
       "      <th>all_codes</th>\n",
       "      <th>domain_id</th>\n",
       "      <th>all_resolutions</th>\n",
       "      <th>all_score</th>\n",
       "    </tr>\n",
       "  </thead>\n",
       "  <tbody>\n",
       "    <tr>\n",
       "      <th>0</th>\n",
       "      <td>14</td>\n",
       "      <td>48</td>\n",
       "      <td>a mechanical prosthetic heart valve</td>\n",
       "      <td>TREATMENT</td>\n",
       "      <td>0.83616</td>\n",
       "      <td>V5095</td>\n",
       "      <td>semi-implantable middle ear hearing prosthesis</td>\n",
       "      <td>0.722002</td>\n",
       "      <td>[V5095, C1772, Q0482, Q0481, C1982]</td>\n",
       "      <td>[Device, Device, Device, Device, Device]</td>\n",
       "      <td>[semi-implantable middle ear hearing prosthesis, infusion pump, programmable (implantable), microprocessor control unit for use with electric/pneumatic combination ventricular assist device, replacement only, microprocessor control unit for use with electric ventricular assist device, replacement only, catheter, pressure-generating, one-way valve, intermittently occlusive]</td>\n",
       "      <td>[0.7220021486282349, 0.7208968997001648, 0.720262885093689, 0.7170488238334656, 0.7170488238334656]</td>\n",
       "    </tr>\n",
       "    <tr>\n",
       "      <th>1</th>\n",
       "      <td>168</td>\n",
       "      <td>180</td>\n",
       "      <td>infusion pump</td>\n",
       "      <td>TREATMENT</td>\n",
       "      <td>0.95785</td>\n",
       "      <td>B9004</td>\n",
       "      <td>parenteral nutrition infusion pump, portable</td>\n",
       "      <td>0.857422</td>\n",
       "      <td>[B9004, B9006, E1520, C1772, E0780]</td>\n",
       "      <td>[Device, Device, Device, Device, Device]</td>\n",
       "      <td>[parenteral nutrition infusion pump, portable, parenteral nutrition infusion pump, stationary, heparin infusion pump for hemodialysis, infusion pump, programmable (implantable), ambulatory infusion pump, mechanical, reusable, for infusion less than 8 hours]</td>\n",
       "      <td>[0.857421875, 0.8567162156105042, 0.847792387008667, 0.8462754487991333, 0.8408722877502441]</td>\n",
       "    </tr>\n",
       "    <tr>\n",
       "      <th>2</th>\n",
       "      <td>199</td>\n",
       "      <td>212</td>\n",
       "      <td>a CPAP machine</td>\n",
       "      <td>TREATMENT</td>\n",
       "      <td>0.955</td>\n",
       "      <td>E0601</td>\n",
       "      <td>continuous positive airway pressure (cpap) device</td>\n",
       "      <td>0.846039</td>\n",
       "      <td>[E0601, E0619, E0562, E0482, E0600]</td>\n",
       "      <td>[Device, Device, Device, Device, Device]</td>\n",
       "      <td>[continuous positive airway pressure (cpap) device, apnea monitor, with recording feature, humidifier, heated, used with positive airway pressure device, cough stimulating device, alternating positive and negative airway pressure, respiratory suction pump, home model, portable or stationary, electric]</td>\n",
       "      <td>[0.8460392355918884, 0.7646688222885132, 0.7536743879318237, 0.7407264113426208, 0.733380913734436]</td>\n",
       "    </tr>\n",
       "    <tr>\n",
       "      <th>3</th>\n",
       "      <td>253</td>\n",
       "      <td>279</td>\n",
       "      <td>a breast prosthesis implant</td>\n",
       "      <td>TREATMENT</td>\n",
       "      <td>0.902725</td>\n",
       "      <td>C1789</td>\n",
       "      <td>prosthesis, breast (implantable)</td>\n",
       "      <td>0.903370</td>\n",
       "      <td>[C1789, L8039, L8600, L8010, L8035]</td>\n",
       "      <td>[Device, Device, Device, Device, Device]</td>\n",
       "      <td>[prosthesis, breast (implantable), breast prosthesis, not otherwise specified, implantable breast prosthesis, silicone or equal, breast prosthesis, mastectomy sleeve, custom breast prosthesis, post mastectomy, molded to patient model]</td>\n",
       "      <td>[0.9033699035644531, 0.8662963509559631, 0.8580149412155151, 0.8510381579399109, 0.8470595479011536]</td>\n",
       "    </tr>\n",
       "  </tbody>\n",
       "</table>\n",
       "</div>"
      ],
      "text/plain": [
       "   begin  end                            ner_chunk  ner_label ner_confidence  \\\n",
       "0     14   48  a mechanical prosthetic heart valve  TREATMENT        0.83616   \n",
       "1    168  180                        infusion pump  TREATMENT        0.95785   \n",
       "2    199  212                       a CPAP machine  TREATMENT          0.955   \n",
       "3    253  279          a breast prosthesis implant  TREATMENT       0.902725   \n",
       "\n",
       "  concept_code                                         resolution     score  \\\n",
       "0        V5095     semi-implantable middle ear hearing prosthesis  0.722002   \n",
       "1        B9004       parenteral nutrition infusion pump, portable  0.857422   \n",
       "2        E0601  continuous positive airway pressure (cpap) device  0.846039   \n",
       "3        C1789                   prosthesis, breast (implantable)  0.903370   \n",
       "\n",
       "                             all_codes  \\\n",
       "0  [V5095, C1772, Q0482, Q0481, C1982]   \n",
       "1  [B9004, B9006, E1520, C1772, E0780]   \n",
       "2  [E0601, E0619, E0562, E0482, E0600]   \n",
       "3  [C1789, L8039, L8600, L8010, L8035]   \n",
       "\n",
       "                                  domain_id  \\\n",
       "0  [Device, Device, Device, Device, Device]   \n",
       "1  [Device, Device, Device, Device, Device]   \n",
       "2  [Device, Device, Device, Device, Device]   \n",
       "3  [Device, Device, Device, Device, Device]   \n",
       "\n",
       "                                                                                                                                                                                                                                                                                                                                                                           all_resolutions  \\\n",
       "0  [semi-implantable middle ear hearing prosthesis, infusion pump, programmable (implantable), microprocessor control unit for use with electric/pneumatic combination ventricular assist device, replacement only, microprocessor control unit for use with electric ventricular assist device, replacement only, catheter, pressure-generating, one-way valve, intermittently occlusive]   \n",
       "1                                                                                                                        [parenteral nutrition infusion pump, portable, parenteral nutrition infusion pump, stationary, heparin infusion pump for hemodialysis, infusion pump, programmable (implantable), ambulatory infusion pump, mechanical, reusable, for infusion less than 8 hours]   \n",
       "2                                                                           [continuous positive airway pressure (cpap) device, apnea monitor, with recording feature, humidifier, heated, used with positive airway pressure device, cough stimulating device, alternating positive and negative airway pressure, respiratory suction pump, home model, portable or stationary, electric]   \n",
       "3                                                                                                                                               [prosthesis, breast (implantable), breast prosthesis, not otherwise specified, implantable breast prosthesis, silicone or equal, breast prosthesis, mastectomy sleeve, custom breast prosthesis, post mastectomy, molded to patient model]   \n",
       "\n",
       "                                                                                              all_score  \n",
       "0   [0.7220021486282349, 0.7208968997001648, 0.720262885093689, 0.7170488238334656, 0.7170488238334656]  \n",
       "1          [0.857421875, 0.8567162156105042, 0.847792387008667, 0.8462754487991333, 0.8408722877502441]  \n",
       "2   [0.8460392355918884, 0.7646688222885132, 0.7536743879318237, 0.7407264113426208, 0.733380913734436]  \n",
       "3  [0.9033699035644531, 0.8662963509559631, 0.8580149412155151, 0.8510381579399109, 0.8470595479011536]  "
      ]
     },
     "execution_count": 9,
     "metadata": {},
     "output_type": "execute_result"
    }
   ],
   "source": [
    "input_json_data = {\"text\": sample_text}\n",
    "data =  process_data_and_invoke_realtime_endpoint(input_json_data, content_type=\"application/json\" , accept=\"application/json\" )\n",
    "pd.DataFrame(data[\"predictions\"][0])"
   ]
  },
  {
   "cell_type": "markdown",
   "metadata": {},
   "source": [
    "### JSON Lines"
   ]
  },
  {
   "cell_type": "code",
   "execution_count": 10,
   "metadata": {
    "tags": []
   },
   "outputs": [],
   "source": [
    "import json\n",
    "\n",
    "def create_jsonl(records):\n",
    "\n",
    "    if isinstance(records, str):\n",
    "        records = [records]\n",
    "\n",
    "    json_records = []\n",
    "\n",
    "    for text in records:\n",
    "        record = {\n",
    "            \"text\": text\n",
    "        }\n",
    "        json_records.append(record)\n",
    "\n",
    "    json_lines = '\\n'.join(json.dumps(record) for record in json_records)\n",
    "\n",
    "    return json_lines"
   ]
  },
  {
   "cell_type": "code",
   "execution_count": 11,
   "metadata": {
    "tags": []
   },
   "outputs": [
    {
     "name": "stdout",
     "output_type": "stream",
     "text": [
      "{\"predictions\": [{\"begin\": 14, \"end\": 48, \"ner_chunk\": \"a mechanical prosthetic heart valve\", \"ner_label\": \"TREATMENT\", \"ner_confidence\": \"0.83616\", \"concept_code\": \"V5095\", \"resolution\": \"semi-implantable middle ear hearing prosthesis\", \"score\": 0.7220021486282349, \"all_codes\": [\"V5095\", \"C1772\", \"Q0482\", \"Q0481\", \"C1982\"], \"domain_id\": [\"Device\", \"Device\", \"Device\", \"Device\", \"Device\"], \"all_resolutions\": [\"semi-implantable middle ear hearing prosthesis\", \"infusion pump, programmable (implantable)\", \"microprocessor control unit for use with electric/pneumatic combination ventricular assist device, replacement only\", \"microprocessor control unit for use with electric ventricular assist device, replacement only\", \"catheter, pressure-generating, one-way valve, intermittently occlusive\"], \"all_score\": [0.7220021486282349, 0.7208968997001648, 0.720262885093689, 0.7170488238334656, 0.7170488238334656]}, {\"begin\": 168, \"end\": 180, \"ner_chunk\": \"infusion pump\", \"ner_label\": \"TREATMENT\", \"ner_confidence\": \"0.95785\", \"concept_code\": \"B9004\", \"resolution\": \"parenteral nutrition infusion pump, portable\", \"score\": 0.857421875, \"all_codes\": [\"B9004\", \"B9006\", \"E1520\", \"C1772\", \"E0780\"], \"domain_id\": [\"Device\", \"Device\", \"Device\", \"Device\", \"Device\"], \"all_resolutions\": [\"parenteral nutrition infusion pump, portable\", \"parenteral nutrition infusion pump, stationary\", \"heparin infusion pump for hemodialysis\", \"infusion pump, programmable (implantable)\", \"ambulatory infusion pump, mechanical, reusable, for infusion less than 8 hours\"], \"all_score\": [0.857421875, 0.8567162156105042, 0.847792387008667, 0.8462754487991333, 0.8408722877502441]}, {\"begin\": 199, \"end\": 212, \"ner_chunk\": \"a CPAP machine\", \"ner_label\": \"TREATMENT\", \"ner_confidence\": \"0.955\", \"concept_code\": \"E0601\", \"resolution\": \"continuous positive airway pressure (cpap) device\", \"score\": 0.8460392355918884, \"all_codes\": [\"E0601\", \"E0619\", \"E0562\", \"E0482\", \"E0600\"], \"domain_id\": [\"Device\", \"Device\", \"Device\", \"Device\", \"Device\"], \"all_resolutions\": [\"continuous positive airway pressure (cpap) device\", \"apnea monitor, with recording feature\", \"humidifier, heated, used with positive airway pressure device\", \"cough stimulating device, alternating positive and negative airway pressure\", \"respiratory suction pump, home model, portable or stationary, electric\"], \"all_score\": [0.8460392355918884, 0.7646688222885132, 0.7536743879318237, 0.7407264113426208, 0.733380913734436]}, {\"begin\": 253, \"end\": 279, \"ner_chunk\": \"a breast prosthesis implant\", \"ner_label\": \"TREATMENT\", \"ner_confidence\": \"0.902725\", \"concept_code\": \"C1789\", \"resolution\": \"prosthesis, breast (implantable)\", \"score\": 0.9033699035644531, \"all_codes\": [\"C1789\", \"L8039\", \"L8600\", \"L8010\", \"L8035\"], \"domain_id\": [\"Device\", \"Device\", \"Device\", \"Device\", \"Device\"], \"all_resolutions\": [\"prosthesis, breast (implantable)\", \"breast prosthesis, not otherwise specified\", \"implantable breast prosthesis, silicone or equal\", \"breast prosthesis, mastectomy sleeve\", \"custom breast prosthesis, post mastectomy, molded to patient model\"], \"all_score\": [0.9033699035644531, 0.8662963509559631, 0.8580149412155151, 0.8510381579399109, 0.8470595479011536]}]}\n"
     ]
    }
   ],
   "source": [
    "input_jsonl_data = create_jsonl(sample_text)\n",
    "data = process_data_and_invoke_realtime_endpoint(input_jsonl_data, content_type=\"application/jsonlines\" , accept=\"application/jsonlines\" )\n",
    "print(data)"
   ]
  },
  {
   "cell_type": "markdown",
   "metadata": {},
   "source": [
    "### B. Delete the endpoint"
   ]
  },
  {
   "cell_type": "markdown",
   "metadata": {},
   "source": [
    "Now that you have successfully performed a real-time inference, you do not need the endpoint any more. You can terminate the endpoint to avoid being charged."
   ]
  },
  {
   "cell_type": "code",
   "execution_count": null,
   "metadata": {
    "tags": []
   },
   "outputs": [],
   "source": [
    "model.sagemaker_session.delete_endpoint(model_name)\n",
    "model.sagemaker_session.delete_endpoint_config(model_name)"
   ]
  },
  {
   "cell_type": "markdown",
   "metadata": {
    "tags": []
   },
   "source": [
    "## 4. Batch inference"
   ]
  },
  {
   "cell_type": "code",
   "execution_count": 13,
   "metadata": {
    "tags": []
   },
   "outputs": [],
   "source": [
    "import json\n",
    "import os\n",
    "\n",
    "input_dir = 'inputs/batch'\n",
    "json_input_dir = f\"{input_dir}/json\"\n",
    "jsonl_input_dir = f\"{input_dir}/jsonl\"\n",
    "\n",
    "output_dir = 'outputs/batch'\n",
    "json_output_dir = f\"{output_dir}/json\"\n",
    "jsonl_output_dir = f\"{output_dir}/jsonl\"\n",
    "\n",
    "os.makedirs(json_input_dir, exist_ok=True)\n",
    "os.makedirs(jsonl_input_dir, exist_ok=True)\n",
    "os.makedirs(json_output_dir, exist_ok=True)\n",
    "os.makedirs(jsonl_output_dir, exist_ok=True)\n",
    "\n",
    "validation_json_file_name = \"input.json\"\n",
    "\n",
    "validation_jsonl_file_name = \"input.jsonl\"\n",
    "\n",
    "validation_input_json_path = f\"s3://{s3_bucket}/{model_name}/validation-input/batch/json/\"\n",
    "validation_output_json_path = f\"s3://{s3_bucket}/{model_name}/validation-output/batch/json/\"\n",
    "\n",
    "validation_input_jsonl_path = f\"s3://{s3_bucket}/{model_name}/validation-input/batch/jsonl/\"\n",
    "validation_output_jsonl_path = f\"s3://{s3_bucket}/{model_name}/validation-output/batch/jsonl/\"\n",
    "\n",
    "def write_and_upload_to_s3(input_data, file_name):\n",
    "    file_format = os.path.splitext(file_name)[1].lower()\n",
    "    if file_format == \".json\":\n",
    "        input_data = json.dumps(input_data)\n",
    "\n",
    "    with open(file_name, \"w\") as f:\n",
    "        f.write(input_data)\n",
    "\n",
    "    s3_client.put_object(\n",
    "        Bucket=s3_bucket,\n",
    "        Key=f\"{model_name}/validation-input/batch/{file_format[1:]}/{os.path.basename(file_name)}\",\n",
    "        Body=(bytes(input_data.encode(\"UTF-8\"))),\n",
    "    )"
   ]
  },
  {
   "cell_type": "code",
   "execution_count": 14,
   "metadata": {
    "tags": []
   },
   "outputs": [],
   "source": [
    "input_jsonl_data = create_jsonl(docs)\n",
    "input_json_data = {\"text\": docs}\n",
    "\n",
    "write_and_upload_to_s3(input_json_data, f\"{json_input_dir}/{validation_json_file_name}\")\n",
    "\n",
    "write_and_upload_to_s3(input_jsonl_data, f\"{jsonl_input_dir}/{validation_jsonl_file_name}\")"
   ]
  },
  {
   "cell_type": "markdown",
   "metadata": {},
   "source": [
    "### JSON"
   ]
  },
  {
   "cell_type": "code",
   "execution_count": null,
   "metadata": {
    "tags": []
   },
   "outputs": [],
   "source": [
    "# Initialize a SageMaker Transformer object for making predictions\n",
    "transformer = model.transformer(\n",
    "    instance_count=1,\n",
    "    instance_type=batch_transform_inference_instance_type,\n",
    "    accept=\"application/json\",\n",
    "    output_path=validation_output_json_path\n",
    ")\n",
    "\n",
    "transformer.transform(validation_input_json_path, content_type=\"application/json\")\n",
    "transformer.wait()"
   ]
  },
  {
   "cell_type": "code",
   "execution_count": 16,
   "metadata": {
    "tags": []
   },
   "outputs": [],
   "source": [
    "from urllib.parse import urlparse\n",
    "\n",
    "def process_s3_json_output_and_save(validation_file_name):\n",
    "\n",
    "    output_file_path = f\"{json_output_dir}/{validation_file_name}.out\"\n",
    "    parsed_url = urlparse(transformer.output_path)\n",
    "    file_key = f\"{parsed_url.path[1:]}{validation_file_name}.out\"\n",
    "    response = s3_client.get_object(Bucket=s3_bucket, Key=file_key)\n",
    "\n",
    "    data = json.loads(response[\"Body\"].read().decode(\"utf-8\"))\n",
    "    display(data)\n",
    "\n",
    "    # Save the data to the output file\n",
    "    with open(output_file_path, 'w') as f_out:\n",
    "        json.dump(data, f_out, indent=4)"
   ]
  },
  {
   "cell_type": "code",
   "execution_count": 17,
   "metadata": {
    "tags": []
   },
   "outputs": [
    {
     "data": {
      "text/plain": [
       "{'predictions': [[{'begin': 306,\n",
       "    'end': 312,\n",
       "    'ner_chunk': 'Aspirin',\n",
       "    'ner_label': 'TREATMENT',\n",
       "    'ner_confidence': '0.9998',\n",
       "    'concept_code': 'M1055',\n",
       "    'resolution': 'aspirin or another antiplatelet therapy used',\n",
       "    'score': 0.8027017712593079,\n",
       "    'all_codes': ['M1055', 'G8895', 'G9793', 'G6038', 'G9435'],\n",
       "    'domain_id': ['Observation',\n",
       "     'Observation',\n",
       "     'Observation',\n",
       "     'Measurement',\n",
       "     'Observation'],\n",
       "    'all_resolutions': ['aspirin or another antiplatelet therapy used',\n",
       "     'oral aspirin or other antithrombotic therapy prescribed',\n",
       "     'patient is currently on a daily aspirin or other antiplatelet',\n",
       "     'salicylate',\n",
       "     'aspirin prescribed at discharge'],\n",
       "    'all_score': [0.8027017712593079,\n",
       "     0.7563661336898804,\n",
       "     0.7363203763961792,\n",
       "     0.7343697547912598,\n",
       "     0.7295854091644287]},\n",
       "   {'begin': 334,\n",
       "    'end': 342,\n",
       "    'ner_chunk': 'Humulin N',\n",
       "    'ner_label': 'TREATMENT',\n",
       "    'ner_confidence': '0.98345',\n",
       "    'concept_code': 'J8499',\n",
       "    'resolution': 'prescription drug, oral, non chemotherapeutic, nos',\n",
       "    'score': 0.6201732158660889,\n",
       "    'all_codes': ['J8499', 'J8999', 'S5552', 'J9179', 'J9042'],\n",
       "    'domain_id': ['Drug', 'Drug', 'Drug', 'Drug', 'Drug'],\n",
       "    'all_resolutions': ['prescription drug, oral, non chemotherapeutic, nos',\n",
       "     'prescription drug, oral, chemotherapeutic, nos',\n",
       "     'insulin, intermediate acting (nph or lente); 5 units',\n",
       "     'injection, eribulin mesylate, 0.1 mg',\n",
       "     'injection, brentuximab vedotin, 1 mg'],\n",
       "    'all_score': [0.6201732158660889,\n",
       "     0.616439700126648,\n",
       "     0.6162758469581604,\n",
       "     0.6145606637001038,\n",
       "     0.6015212535858154]},\n",
       "   {'begin': 345,\n",
       "    'end': 351,\n",
       "    'ner_chunk': 'insulin',\n",
       "    'ner_label': 'TREATMENT',\n",
       "    'ner_confidence': '0.9881',\n",
       "    'concept_code': 'S5550',\n",
       "    'resolution': 'insulin, rapid onset, 5 units',\n",
       "    'score': 0.764725387096405,\n",
       "    'all_codes': ['S5550', 'S5553', 'S5552', 'S5551', 'J1815'],\n",
       "    'domain_id': ['Drug', 'Drug', 'Drug', 'Drug', 'Drug'],\n",
       "    'all_resolutions': ['insulin, rapid onset, 5 units',\n",
       "     'insulin, long acting; 5 units',\n",
       "     'insulin, intermediate acting (nph or lente); 5 units',\n",
       "     'insulin, most rapid onset (lispro or aspart); 5 units',\n",
       "     'injection, insulin, per 5 units'],\n",
       "    'all_score': [0.764725387096405,\n",
       "     0.7642071843147278,\n",
       "     0.7423866391181946,\n",
       "     0.7392821907997131,\n",
       "     0.7340479493141174]},\n",
       "   {'begin': 370,\n",
       "    'end': 388,\n",
       "    'ner_chunk': 'Hydrochlorothiazide',\n",
       "    'ner_label': 'TREATMENT',\n",
       "    'ner_confidence': '0.9999',\n",
       "    'concept_code': 'J1205',\n",
       "    'resolution': 'injection, chlorothiazide sodium, per 500 mg',\n",
       "    'score': 0.7651885747909546,\n",
       "    'all_codes': ['J1205', 'J0390', 'G9503', 'S0108', 'J0735'],\n",
       "    'domain_id': ['Drug', 'Drug', 'Observation', 'Drug', 'Drug'],\n",
       "    'all_resolutions': ['injection, chlorothiazide sodium, per 500 mg',\n",
       "     'injection, chloroquine hydrochloride, up to 250 mg',\n",
       "     'patient taking tamsulosin hydrochloride',\n",
       "     'mercaptopurine, oral, 50 mg',\n",
       "     'injection, clonidine hydrochloride, 1 mg'],\n",
       "    'all_score': [0.7651885747909546,\n",
       "     0.6702229380607605,\n",
       "     0.6682660579681396,\n",
       "     0.6531009674072266,\n",
       "     0.6454421877861023]},\n",
       "   {'begin': 402,\n",
       "    'end': 414,\n",
       "    'ner_chunk': 'Nitroglycerin',\n",
       "    'ner_label': 'TREATMENT',\n",
       "    'ner_confidence': '0.9999',\n",
       "    'concept_code': 'J8499',\n",
       "    'resolution': 'prescription drug, oral, non chemotherapeutic, nos',\n",
       "    'score': 0.6775685548782349,\n",
       "    'all_codes': ['J8499', 'J8999', 'G6055', 'S0090', 'S0155'],\n",
       "    'domain_id': ['Drug', 'Drug', 'Measurement', 'Drug', 'Drug'],\n",
       "    'all_resolutions': ['prescription drug, oral, non chemotherapeutic, nos',\n",
       "     'prescription drug, oral, chemotherapeutic, nos',\n",
       "     'nicotine',\n",
       "     'sildenafil citrate, 25 mg',\n",
       "     'sterile dilutant for epoprostenol, 50 ml'],\n",
       "    'all_score': [0.6775685548782349,\n",
       "     0.65322345495224,\n",
       "     0.647355318069458,\n",
       "     0.6437383890151978,\n",
       "     0.6436240673065186]}],\n",
       "  [{'begin': 76,\n",
       "    'end': 86,\n",
       "    'ner_chunk': 'amoxicillin',\n",
       "    'ner_label': 'TREATMENT',\n",
       "    'ner_confidence': '0.997',\n",
       "    'concept_code': 'G9315',\n",
       "    'resolution': 'documentation amoxicillin, with or without clavulanate, prescribed as a first line antibiotic at the time of diagnosis',\n",
       "    'score': 0.7181192636489868,\n",
       "    'all_codes': ['G9315', 'G9313', 'J0290', 'G9314', 'G8711'],\n",
       "    'domain_id': ['Observation',\n",
       "     'Observation',\n",
       "     'Drug',\n",
       "     'Observation',\n",
       "     'Observation'],\n",
       "    'all_resolutions': ['documentation amoxicillin, with or without clavulanate, prescribed as a first line antibiotic at the time of diagnosis',\n",
       "     'amoxicillin, with or without clavulanate, not prescribed as first line antibiotic at the time of diagnosis for documented reason',\n",
       "     'injection, ampicillin sodium, 500 mg',\n",
       "     'amoxicillin, with or without clavulanate, not prescribed as first line antibiotic at the time of diagnosis, reason not given',\n",
       "     'prescribed or dispensed antibiotic'],\n",
       "    'all_score': [0.7181192636489868,\n",
       "     0.7145591974258423,\n",
       "     0.7046383023262024,\n",
       "     0.6988637447357178,\n",
       "     0.6849462985992432]},\n",
       "   {'begin': 135,\n",
       "    'end': 143,\n",
       "    'ner_chunk': 'metformin',\n",
       "    'ner_label': 'TREATMENT',\n",
       "    'ner_confidence': '0.9998',\n",
       "    'concept_code': 'G6053',\n",
       "    'resolution': 'methadone',\n",
       "    'score': 0.7130447626113892,\n",
       "    'all_codes': ['G6053', 'G6054', 'S0109', 'J7527', 'J8610'],\n",
       "    'domain_id': ['Measurement', 'Measurement', 'Drug', 'Drug', 'Drug'],\n",
       "    'all_resolutions': ['methadone',\n",
       "     'methsuximide',\n",
       "     'methadone, oral, 5 mg',\n",
       "     'everolimus, oral, 0.25 mg',\n",
       "     'methotrexate; oral, 2.5 mg'],\n",
       "    'all_score': [0.7130447626113892,\n",
       "     0.6653262972831726,\n",
       "     0.6618200540542603,\n",
       "     0.658454418182373,\n",
       "     0.6545082926750183]},\n",
       "   {'begin': 463,\n",
       "    'end': 471,\n",
       "    'ner_chunk': 'metformin',\n",
       "    'ner_label': 'TREATMENT',\n",
       "    'ner_confidence': '0.9992',\n",
       "    'concept_code': 'G6053',\n",
       "    'resolution': 'methadone',\n",
       "    'score': 0.7130447626113892,\n",
       "    'all_codes': ['G6053', 'G6054', 'S0109', 'J7527', 'J8610'],\n",
       "    'domain_id': ['Measurement', 'Measurement', 'Drug', 'Drug', 'Drug'],\n",
       "    'all_resolutions': ['methadone',\n",
       "     'methsuximide',\n",
       "     'methadone, oral, 5 mg',\n",
       "     'everolimus, oral, 0.25 mg',\n",
       "     'methotrexate; oral, 2.5 mg'],\n",
       "    'all_score': [0.7130447626113892,\n",
       "     0.6653262972831726,\n",
       "     0.6618200540542603,\n",
       "     0.658454418182373,\n",
       "     0.6545082926750183]},\n",
       "   {'begin': 147,\n",
       "    'end': 155,\n",
       "    'ner_chunk': 'glipizide',\n",
       "    'ner_label': 'TREATMENT',\n",
       "    'ner_confidence': '0.9999',\n",
       "    'concept_code': 'C9293',\n",
       "    'resolution': 'injection, glucarpidase, 10 units',\n",
       "    'score': 0.6749603748321533,\n",
       "    'all_codes': ['C9293', 'J1610', 'J0221', 'J2507', 'J1595'],\n",
       "    'domain_id': ['Drug', 'Drug', 'Drug', 'Drug', 'Drug'],\n",
       "    'all_resolutions': ['injection, glucarpidase, 10 units',\n",
       "     'injection, glucagon hydrochloride, per 1 mg',\n",
       "     'injection, alglucosidase alfa, (lumizyme), 10 mg',\n",
       "     'injection, pegloticase, 1 mg',\n",
       "     'injection, glatiramer acetate, 20 mg'],\n",
       "    'all_score': [0.6749603748321533,\n",
       "     0.6741762161254883,\n",
       "     0.66866534948349,\n",
       "     0.6611853837966919,\n",
       "     0.6579197645187378]},\n",
       "   {'begin': 163,\n",
       "    'end': 175,\n",
       "    'ner_chunk': 'dapagliflozin',\n",
       "    'ner_label': 'TREATMENT',\n",
       "    'ner_confidence': '1.0',\n",
       "    'concept_code': 'Q5108',\n",
       "    'resolution': 'injection, pegfilgrastim-jmdb, biosimilar, (fulphila), 0.5 mg',\n",
       "    'score': 0.651500940322876,\n",
       "    'all_codes': ['Q5108', 'Q5101', 'J2505', 'J7513', 'Q5111'],\n",
       "    'domain_id': ['Drug', 'Drug', 'Drug', 'Drug', 'Drug'],\n",
       "    'all_resolutions': ['injection, pegfilgrastim-jmdb, biosimilar, (fulphila), 0.5 mg',\n",
       "     'injection, filgrastim-sndz, biosimilar, (zarxio), 1 microgram',\n",
       "     'injection, pegfilgrastim, 6 mg',\n",
       "     'daclizumab, parenteral, 25 mg',\n",
       "     'injection, pegfilgrastim-cbqv, biosimilar, (udenyca), 0.5 mg'],\n",
       "    'all_score': [0.651500940322876,\n",
       "     0.6475228667259216,\n",
       "     0.6457095146179199,\n",
       "     0.6447568535804749,\n",
       "     0.6370607018470764]},\n",
       "   {'begin': 245,\n",
       "    'end': 257,\n",
       "    'ner_chunk': 'dapagliflozin',\n",
       "    'ner_label': 'TREATMENT',\n",
       "    'ner_confidence': '0.9999',\n",
       "    'concept_code': 'Q5108',\n",
       "    'resolution': 'injection, pegfilgrastim-jmdb, biosimilar, (fulphila), 0.5 mg',\n",
       "    'score': 0.651500940322876,\n",
       "    'all_codes': ['Q5108', 'Q5101', 'J2505', 'J7513', 'Q5111'],\n",
       "    'domain_id': ['Drug', 'Drug', 'Drug', 'Drug', 'Drug'],\n",
       "    'all_resolutions': ['injection, pegfilgrastim-jmdb, biosimilar, (fulphila), 0.5 mg',\n",
       "     'injection, filgrastim-sndz, biosimilar, (zarxio), 1 microgram',\n",
       "     'injection, pegfilgrastim, 6 mg',\n",
       "     'daclizumab, parenteral, 25 mg',\n",
       "     'injection, pegfilgrastim-cbqv, biosimilar, (udenyca), 0.5 mg'],\n",
       "    'all_score': [0.651500940322876,\n",
       "     0.6475228667259216,\n",
       "     0.6457095146179199,\n",
       "     0.6447568535804749,\n",
       "     0.6370607018470764]},\n",
       "   {'begin': 190,\n",
       "    'end': 201,\n",
       "    'ner_chunk': 'atorvastatin',\n",
       "    'ner_label': 'TREATMENT',\n",
       "    'ner_confidence': '0.9999',\n",
       "    'concept_code': 'G9796',\n",
       "    'resolution': 'patient is currently on a statin therapy',\n",
       "    'score': 0.7012911438941956,\n",
       "    'all_codes': ['G9796', 'G8816', 'G9441', 'G8585', 'G9664'],\n",
       "    'domain_id': ['Observation',\n",
       "     'Observation',\n",
       "     'Observation',\n",
       "     'Observation',\n",
       "     'Observation'],\n",
       "    'all_resolutions': ['patient is currently on a statin therapy',\n",
       "     'statin medication prescribed at discharge',\n",
       "     'statin prescribed at discharge',\n",
       "     'anti-lipid treatment at discharge',\n",
       "     'patients who are currently statin therapy users or received an order (prescription) for statin therapy'],\n",
       "    'all_score': [0.7012911438941956,\n",
       "     0.680654764175415,\n",
       "     0.6746479272842407,\n",
       "     0.6706570386886597,\n",
       "     0.6580422520637512]},\n",
       "   {'begin': 207,\n",
       "    'end': 217,\n",
       "    'ner_chunk': 'gemfibrozil',\n",
       "    'ner_label': 'TREATMENT',\n",
       "    'ner_confidence': '1.0',\n",
       "    'concept_code': 'Q5108',\n",
       "    'resolution': 'injection, pegfilgrastim-jmdb, biosimilar, (fulphila), 0.5 mg',\n",
       "    'score': 0.6472257971763611,\n",
       "    'all_codes': ['Q5108', 'Q5101', 'J9300', 'J9199', 'J9203'],\n",
       "    'domain_id': ['Drug', 'Drug', 'Drug', 'Drug', 'Drug'],\n",
       "    'all_resolutions': ['injection, pegfilgrastim-jmdb, biosimilar, (fulphila), 0.5 mg',\n",
       "     'injection, filgrastim-sndz, biosimilar, (zarxio), 1 microgram',\n",
       "     'injection, gemtuzumab ozogamicin, 5 mg',\n",
       "     'injection, gemcitabine hydrochloride (infugem), 200 mg',\n",
       "     'injection, gemtuzumab ozogamicin, 0.1 mg'],\n",
       "    'all_score': [0.6472257971763611,\n",
       "     0.6404169797897339,\n",
       "     0.6255658268928528,\n",
       "     0.6249465942382812,\n",
       "     0.6237384080886841]},\n",
       "   {'begin': 391,\n",
       "    'end': 406,\n",
       "    'ner_chunk': 'insulin glargine',\n",
       "    'ner_label': 'TREATMENT',\n",
       "    'ner_confidence': '0.98969996',\n",
       "    'concept_code': 'S5550',\n",
       "    'resolution': 'insulin, rapid onset, 5 units',\n",
       "    'score': 0.7315368056297302,\n",
       "    'all_codes': ['S5550', 'S5553', 'S5552', 'S5551', 'C9293'],\n",
       "    'domain_id': ['Drug', 'Drug', 'Drug', 'Drug', 'Drug'],\n",
       "    'all_resolutions': ['insulin, rapid onset, 5 units',\n",
       "     'insulin, long acting; 5 units',\n",
       "     'insulin, intermediate acting (nph or lente); 5 units',\n",
       "     'insulin, most rapid onset (lispro or aspart); 5 units',\n",
       "     'injection, glucarpidase, 10 units'],\n",
       "    'all_score': [0.7315368056297302,\n",
       "     0.7223013639450073,\n",
       "     0.7203099131584167,\n",
       "     0.699993371963501,\n",
       "     0.693087637424469]},\n",
       "   {'begin': 431,\n",
       "    'end': 444,\n",
       "    'ner_chunk': 'insulin lispro',\n",
       "    'ner_label': 'TREATMENT',\n",
       "    'ner_confidence': '0.97045004',\n",
       "    'concept_code': 'S5551',\n",
       "    'resolution': 'insulin, most rapid onset (lispro or aspart); 5 units',\n",
       "    'score': 0.8311569690704346,\n",
       "    'all_codes': ['S5551', 'S5550', 'S5553', 'S5552', 'S5565'],\n",
       "    'domain_id': ['Drug', 'Drug', 'Drug', 'Drug', 'Device'],\n",
       "    'all_resolutions': ['insulin, most rapid onset (lispro or aspart); 5 units',\n",
       "     'insulin, rapid onset, 5 units',\n",
       "     'insulin, long acting; 5 units',\n",
       "     'insulin, intermediate acting (nph or lente); 5 units',\n",
       "     'insulin cartridge for use in insulin delivery device other than pump; 150 units'],\n",
       "    'all_score': [0.8311569690704346,\n",
       "     0.7303498983383179,\n",
       "     0.7266725897789001,\n",
       "     0.7155628800392151,\n",
       "     0.7118715047836304]}]]}"
      ]
     },
     "metadata": {},
     "output_type": "display_data"
    }
   ],
   "source": [
    "process_s3_json_output_and_save(validation_json_file_name)"
   ]
  },
  {
   "cell_type": "markdown",
   "metadata": {},
   "source": [
    "### JSON Lines"
   ]
  },
  {
   "cell_type": "code",
   "execution_count": null,
   "metadata": {
    "tags": []
   },
   "outputs": [],
   "source": [
    "transformer = model.transformer(\n",
    "    instance_count=1,\n",
    "    instance_type=batch_transform_inference_instance_type,\n",
    "    accept=\"application/jsonlines\",\n",
    "    output_path=validation_output_jsonl_path\n",
    ")\n",
    "transformer.transform(validation_input_jsonl_path, content_type=\"application/jsonlines\")\n",
    "transformer.wait()"
   ]
  },
  {
   "cell_type": "code",
   "execution_count": 19,
   "metadata": {
    "tags": []
   },
   "outputs": [],
   "source": [
    "from urllib.parse import urlparse\n",
    "\n",
    "def process_s3_jsonlines_output_and_save(validation_file_name):\n",
    "\n",
    "    output_file_path = f\"{jsonl_output_dir}/{validation_file_name}.out\"\n",
    "    parsed_url = urlparse(transformer.output_path)\n",
    "    file_key = f\"{parsed_url.path[1:]}{validation_file_name}.out\"\n",
    "    response = s3_client.get_object(Bucket=s3_bucket, Key=file_key)\n",
    "\n",
    "    data = response[\"Body\"].read().decode(\"utf-8\")\n",
    "    print(data)\n",
    "\n",
    "    # Save the data to the output file\n",
    "    with open(output_file_path, 'w') as f_out:\n",
    "        for item in data.split('\\n'):\n",
    "            f_out.write(item + '\\n')"
   ]
  },
  {
   "cell_type": "code",
   "execution_count": 20,
   "metadata": {
    "tags": []
   },
   "outputs": [
    {
     "name": "stdout",
     "output_type": "stream",
     "text": [
      "{\"predictions\": [{\"begin\": 306, \"end\": 312, \"ner_chunk\": \"Aspirin\", \"ner_label\": \"TREATMENT\", \"ner_confidence\": \"0.9998\", \"concept_code\": \"M1055\", \"resolution\": \"aspirin or another antiplatelet therapy used\", \"score\": 0.8027017712593079, \"all_codes\": [\"M1055\", \"G8895\", \"G9793\", \"G6038\", \"G9435\"], \"domain_id\": [\"Observation\", \"Observation\", \"Observation\", \"Measurement\", \"Observation\"], \"all_resolutions\": [\"aspirin or another antiplatelet therapy used\", \"oral aspirin or other antithrombotic therapy prescribed\", \"patient is currently on a daily aspirin or other antiplatelet\", \"salicylate\", \"aspirin prescribed at discharge\"], \"all_score\": [0.8027017712593079, 0.7563661336898804, 0.7363203763961792, 0.7343697547912598, 0.7295854091644287]}, {\"begin\": 334, \"end\": 342, \"ner_chunk\": \"Humulin N\", \"ner_label\": \"TREATMENT\", \"ner_confidence\": \"0.98345\", \"concept_code\": \"J8499\", \"resolution\": \"prescription drug, oral, non chemotherapeutic, nos\", \"score\": 0.6201732158660889, \"all_codes\": [\"J8499\", \"J8999\", \"S5552\", \"J9179\", \"J9042\"], \"domain_id\": [\"Drug\", \"Drug\", \"Drug\", \"Drug\", \"Drug\"], \"all_resolutions\": [\"prescription drug, oral, non chemotherapeutic, nos\", \"prescription drug, oral, chemotherapeutic, nos\", \"insulin, intermediate acting (nph or lente); 5 units\", \"injection, eribulin mesylate, 0.1 mg\", \"injection, brentuximab vedotin, 1 mg\"], \"all_score\": [0.6201732158660889, 0.616439700126648, 0.6162758469581604, 0.6145606637001038, 0.6015212535858154]}, {\"begin\": 345, \"end\": 351, \"ner_chunk\": \"insulin\", \"ner_label\": \"TREATMENT\", \"ner_confidence\": \"0.9881\", \"concept_code\": \"S5550\", \"resolution\": \"insulin, rapid onset, 5 units\", \"score\": 0.764725387096405, \"all_codes\": [\"S5550\", \"S5553\", \"S5552\", \"S5551\", \"J1815\"], \"domain_id\": [\"Drug\", \"Drug\", \"Drug\", \"Drug\", \"Drug\"], \"all_resolutions\": [\"insulin, rapid onset, 5 units\", \"insulin, long acting; 5 units\", \"insulin, intermediate acting (nph or lente); 5 units\", \"insulin, most rapid onset (lispro or aspart); 5 units\", \"injection, insulin, per 5 units\"], \"all_score\": [0.764725387096405, 0.7642071843147278, 0.7423866391181946, 0.7392821907997131, 0.7340479493141174]}, {\"begin\": 370, \"end\": 388, \"ner_chunk\": \"Hydrochlorothiazide\", \"ner_label\": \"TREATMENT\", \"ner_confidence\": \"0.9999\", \"concept_code\": \"J1205\", \"resolution\": \"injection, chlorothiazide sodium, per 500 mg\", \"score\": 0.7651885747909546, \"all_codes\": [\"J1205\", \"J0390\", \"G9503\", \"S0108\", \"J0735\"], \"domain_id\": [\"Drug\", \"Drug\", \"Observation\", \"Drug\", \"Drug\"], \"all_resolutions\": [\"injection, chlorothiazide sodium, per 500 mg\", \"injection, chloroquine hydrochloride, up to 250 mg\", \"patient taking tamsulosin hydrochloride\", \"mercaptopurine, oral, 50 mg\", \"injection, clonidine hydrochloride, 1 mg\"], \"all_score\": [0.7651885747909546, 0.6702229380607605, 0.6682660579681396, 0.6531009674072266, 0.6454421877861023]}, {\"begin\": 402, \"end\": 414, \"ner_chunk\": \"Nitroglycerin\", \"ner_label\": \"TREATMENT\", \"ner_confidence\": \"0.9999\", \"concept_code\": \"J8499\", \"resolution\": \"prescription drug, oral, non chemotherapeutic, nos\", \"score\": 0.6775685548782349, \"all_codes\": [\"J8499\", \"J8999\", \"G6055\", \"S0090\", \"S0155\"], \"domain_id\": [\"Drug\", \"Drug\", \"Measurement\", \"Drug\", \"Drug\"], \"all_resolutions\": [\"prescription drug, oral, non chemotherapeutic, nos\", \"prescription drug, oral, chemotherapeutic, nos\", \"nicotine\", \"sildenafil citrate, 25 mg\", \"sterile dilutant for epoprostenol, 50 ml\"], \"all_score\": [0.6775685548782349, 0.65322345495224, 0.647355318069458, 0.6437383890151978, 0.6436240673065186]}]}\n",
      "{\"predictions\": [{\"begin\": 76, \"end\": 86, \"ner_chunk\": \"amoxicillin\", \"ner_label\": \"TREATMENT\", \"ner_confidence\": \"0.997\", \"concept_code\": \"G9315\", \"resolution\": \"documentation amoxicillin, with or without clavulanate, prescribed as a first line antibiotic at the time of diagnosis\", \"score\": 0.7181192636489868, \"all_codes\": [\"G9315\", \"G9313\", \"J0290\", \"G9314\", \"G8711\"], \"domain_id\": [\"Observation\", \"Observation\", \"Drug\", \"Observation\", \"Observation\"], \"all_resolutions\": [\"documentation amoxicillin, with or without clavulanate, prescribed as a first line antibiotic at the time of diagnosis\", \"amoxicillin, with or without clavulanate, not prescribed as first line antibiotic at the time of diagnosis for documented reason\", \"injection, ampicillin sodium, 500 mg\", \"amoxicillin, with or without clavulanate, not prescribed as first line antibiotic at the time of diagnosis, reason not given\", \"prescribed or dispensed antibiotic\"], \"all_score\": [0.7181192636489868, 0.7145591974258423, 0.7046383023262024, 0.6988637447357178, 0.6849462985992432]}, {\"begin\": 135, \"end\": 143, \"ner_chunk\": \"metformin\", \"ner_label\": \"TREATMENT\", \"ner_confidence\": \"0.9998\", \"concept_code\": \"G6053\", \"resolution\": \"methadone\", \"score\": 0.7130447626113892, \"all_codes\": [\"G6053\", \"G6054\", \"S0109\", \"J7527\", \"J8610\"], \"domain_id\": [\"Measurement\", \"Measurement\", \"Drug\", \"Drug\", \"Drug\"], \"all_resolutions\": [\"methadone\", \"methsuximide\", \"methadone, oral, 5 mg\", \"everolimus, oral, 0.25 mg\", \"methotrexate; oral, 2.5 mg\"], \"all_score\": [0.7130447626113892, 0.6653262972831726, 0.6618200540542603, 0.658454418182373, 0.6545082926750183]}, {\"begin\": 463, \"end\": 471, \"ner_chunk\": \"metformin\", \"ner_label\": \"TREATMENT\", \"ner_confidence\": \"0.9992\", \"concept_code\": \"G6053\", \"resolution\": \"methadone\", \"score\": 0.7130447626113892, \"all_codes\": [\"G6053\", \"G6054\", \"S0109\", \"J7527\", \"J8610\"], \"domain_id\": [\"Measurement\", \"Measurement\", \"Drug\", \"Drug\", \"Drug\"], \"all_resolutions\": [\"methadone\", \"methsuximide\", \"methadone, oral, 5 mg\", \"everolimus, oral, 0.25 mg\", \"methotrexate; oral, 2.5 mg\"], \"all_score\": [0.7130447626113892, 0.6653262972831726, 0.6618200540542603, 0.658454418182373, 0.6545082926750183]}, {\"begin\": 147, \"end\": 155, \"ner_chunk\": \"glipizide\", \"ner_label\": \"TREATMENT\", \"ner_confidence\": \"0.9999\", \"concept_code\": \"C9293\", \"resolution\": \"injection, glucarpidase, 10 units\", \"score\": 0.6749603748321533, \"all_codes\": [\"C9293\", \"J1610\", \"J0221\", \"J2507\", \"J1595\"], \"domain_id\": [\"Drug\", \"Drug\", \"Drug\", \"Drug\", \"Drug\"], \"all_resolutions\": [\"injection, glucarpidase, 10 units\", \"injection, glucagon hydrochloride, per 1 mg\", \"injection, alglucosidase alfa, (lumizyme), 10 mg\", \"injection, pegloticase, 1 mg\", \"injection, glatiramer acetate, 20 mg\"], \"all_score\": [0.6749603748321533, 0.6741762161254883, 0.66866534948349, 0.6611853837966919, 0.6579197645187378]}, {\"begin\": 163, \"end\": 175, \"ner_chunk\": \"dapagliflozin\", \"ner_label\": \"TREATMENT\", \"ner_confidence\": \"1.0\", \"concept_code\": \"Q5108\", \"resolution\": \"injection, pegfilgrastim-jmdb, biosimilar, (fulphila), 0.5 mg\", \"score\": 0.651500940322876, \"all_codes\": [\"Q5108\", \"Q5101\", \"J2505\", \"J7513\", \"Q5111\"], \"domain_id\": [\"Drug\", \"Drug\", \"Drug\", \"Drug\", \"Drug\"], \"all_resolutions\": [\"injection, pegfilgrastim-jmdb, biosimilar, (fulphila), 0.5 mg\", \"injection, filgrastim-sndz, biosimilar, (zarxio), 1 microgram\", \"injection, pegfilgrastim, 6 mg\", \"daclizumab, parenteral, 25 mg\", \"injection, pegfilgrastim-cbqv, biosimilar, (udenyca), 0.5 mg\"], \"all_score\": [0.651500940322876, 0.6475228667259216, 0.6457095146179199, 0.6447568535804749, 0.6370607018470764]}, {\"begin\": 245, \"end\": 257, \"ner_chunk\": \"dapagliflozin\", \"ner_label\": \"TREATMENT\", \"ner_confidence\": \"0.9999\", \"concept_code\": \"Q5108\", \"resolution\": \"injection, pegfilgrastim-jmdb, biosimilar, (fulphila), 0.5 mg\", \"score\": 0.651500940322876, \"all_codes\": [\"Q5108\", \"Q5101\", \"J2505\", \"J7513\", \"Q5111\"], \"domain_id\": [\"Drug\", \"Drug\", \"Drug\", \"Drug\", \"Drug\"], \"all_resolutions\": [\"injection, pegfilgrastim-jmdb, biosimilar, (fulphila), 0.5 mg\", \"injection, filgrastim-sndz, biosimilar, (zarxio), 1 microgram\", \"injection, pegfilgrastim, 6 mg\", \"daclizumab, parenteral, 25 mg\", \"injection, pegfilgrastim-cbqv, biosimilar, (udenyca), 0.5 mg\"], \"all_score\": [0.651500940322876, 0.6475228667259216, 0.6457095146179199, 0.6447568535804749, 0.6370607018470764]}, {\"begin\": 190, \"end\": 201, \"ner_chunk\": \"atorvastatin\", \"ner_label\": \"TREATMENT\", \"ner_confidence\": \"0.9999\", \"concept_code\": \"G9796\", \"resolution\": \"patient is currently on a statin therapy\", \"score\": 0.7012911438941956, \"all_codes\": [\"G9796\", \"G8816\", \"G9441\", \"G8585\", \"G9664\"], \"domain_id\": [\"Observation\", \"Observation\", \"Observation\", \"Observation\", \"Observation\"], \"all_resolutions\": [\"patient is currently on a statin therapy\", \"statin medication prescribed at discharge\", \"statin prescribed at discharge\", \"anti-lipid treatment at discharge\", \"patients who are currently statin therapy users or received an order (prescription) for statin therapy\"], \"all_score\": [0.7012911438941956, 0.680654764175415, 0.6746479272842407, 0.6706570386886597, 0.6580422520637512]}, {\"begin\": 207, \"end\": 217, \"ner_chunk\": \"gemfibrozil\", \"ner_label\": \"TREATMENT\", \"ner_confidence\": \"1.0\", \"concept_code\": \"Q5108\", \"resolution\": \"injection, pegfilgrastim-jmdb, biosimilar, (fulphila), 0.5 mg\", \"score\": 0.6472257971763611, \"all_codes\": [\"Q5108\", \"Q5101\", \"J9300\", \"J9199\", \"J9203\"], \"domain_id\": [\"Drug\", \"Drug\", \"Drug\", \"Drug\", \"Drug\"], \"all_resolutions\": [\"injection, pegfilgrastim-jmdb, biosimilar, (fulphila), 0.5 mg\", \"injection, filgrastim-sndz, biosimilar, (zarxio), 1 microgram\", \"injection, gemtuzumab ozogamicin, 5 mg\", \"injection, gemcitabine hydrochloride (infugem), 200 mg\", \"injection, gemtuzumab ozogamicin, 0.1 mg\"], \"all_score\": [0.6472257971763611, 0.6404169797897339, 0.6255658268928528, 0.6249465942382812, 0.6237384080886841]}, {\"begin\": 391, \"end\": 406, \"ner_chunk\": \"insulin glargine\", \"ner_label\": \"TREATMENT\", \"ner_confidence\": \"0.98969996\", \"concept_code\": \"S5550\", \"resolution\": \"insulin, rapid onset, 5 units\", \"score\": 0.7315368056297302, \"all_codes\": [\"S5550\", \"S5553\", \"S5552\", \"S5551\", \"C9293\"], \"domain_id\": [\"Drug\", \"Drug\", \"Drug\", \"Drug\", \"Drug\"], \"all_resolutions\": [\"insulin, rapid onset, 5 units\", \"insulin, long acting; 5 units\", \"insulin, intermediate acting (nph or lente); 5 units\", \"insulin, most rapid onset (lispro or aspart); 5 units\", \"injection, glucarpidase, 10 units\"], \"all_score\": [0.7315368056297302, 0.7223013639450073, 0.7203099131584167, 0.699993371963501, 0.693087637424469]}, {\"begin\": 431, \"end\": 444, \"ner_chunk\": \"insulin lispro\", \"ner_label\": \"TREATMENT\", \"ner_confidence\": \"0.97045004\", \"concept_code\": \"S5551\", \"resolution\": \"insulin, most rapid onset (lispro or aspart); 5 units\", \"score\": 0.8311569690704346, \"all_codes\": [\"S5551\", \"S5550\", \"S5553\", \"S5552\", \"S5565\"], \"domain_id\": [\"Drug\", \"Drug\", \"Drug\", \"Drug\", \"Device\"], \"all_resolutions\": [\"insulin, most rapid onset (lispro or aspart); 5 units\", \"insulin, rapid onset, 5 units\", \"insulin, long acting; 5 units\", \"insulin, intermediate acting (nph or lente); 5 units\", \"insulin cartridge for use in insulin delivery device other than pump; 150 units\"], \"all_score\": [0.8311569690704346, 0.7303498983383179, 0.7266725897789001, 0.7155628800392151, 0.7118715047836304]}]}\n"
     ]
    }
   ],
   "source": [
    "process_s3_jsonlines_output_and_save(validation_jsonl_file_name)"
   ]
  },
  {
   "cell_type": "code",
   "execution_count": 21,
   "metadata": {
    "tags": []
   },
   "outputs": [
    {
     "data": {
      "text/html": [
       "<pre style=\"white-space:pre;overflow-x:auto;line-height:normal;font-family:Menlo,'DejaVu Sans Mono',consolas,'Courier New',monospace\"><span style=\"color: #7fbfbf; text-decoration-color: #7fbfbf\">[02/26/25 09:18:52] </span><span style=\"color: #0069ff; text-decoration-color: #0069ff; font-weight: bold\">INFO    </span> Deleting model with name: hcpcs-vdb-resolver-<span style=\"color: #008080; text-decoration-color: #008080; font-weight: bold\">2025</span>-02-26-09-09-46-215   <a href=\"file:///home/ec2-user/anaconda3/envs/python3/lib/python3.10/site-packages/sagemaker/session.py\" target=\"_blank\"><span style=\"color: #7f7f7f; text-decoration-color: #7f7f7f\">session.py</span></a><span style=\"color: #7f7f7f; text-decoration-color: #7f7f7f\">:</span><a href=\"file:///home/ec2-user/anaconda3/envs/python3/lib/python3.10/site-packages/sagemaker/session.py#5226\" target=\"_blank\"><span style=\"color: #7f7f7f; text-decoration-color: #7f7f7f\">5226</span></a>\n",
       "</pre>\n"
      ],
      "text/plain": [
       "\u001b[2;36m[02/26/25 09:18:52]\u001b[0m\u001b[2;36m \u001b[0m\u001b[1;38;2;0;105;255mINFO    \u001b[0m Deleting model with name: hcpcs-vdb-resolver-\u001b[1;36m2025\u001b[0m-02-26-09-09-46-215   \u001b]8;id=938688;file:///home/ec2-user/anaconda3/envs/python3/lib/python3.10/site-packages/sagemaker/session.py\u001b\\\u001b[2msession.py\u001b[0m\u001b]8;;\u001b\\\u001b[2m:\u001b[0m\u001b]8;id=811251;file:///home/ec2-user/anaconda3/envs/python3/lib/python3.10/site-packages/sagemaker/session.py#5226\u001b\\\u001b[2m5226\u001b[0m\u001b]8;;\u001b\\\n"
      ]
     },
     "metadata": {},
     "output_type": "display_data"
    }
   ],
   "source": [
    "model.delete_model()"
   ]
  },
  {
   "cell_type": "markdown",
   "metadata": {},
   "source": [
    "### Unsubscribe to the listing (optional)"
   ]
  },
  {
   "cell_type": "markdown",
   "metadata": {
    "tags": []
   },
   "source": [
    "If you would like to unsubscribe to the model package, follow these steps. Before you cancel the subscription, ensure that you do not have any [deployable model](https://console.aws.amazon.com/sagemaker/home#/models) created from the model package or using the algorithm. Note - You can find this information by looking at the container name associated with the model. \n",
    "\n",
    "**Steps to unsubscribe to product from AWS Marketplace**:\n",
    "1. Navigate to __Machine Learning__ tab on [__Your Software subscriptions page__](https://aws.amazon.com/marketplace/ai/library?productType=ml&ref_=mlmp_gitdemo_indust)\n",
    "2. Locate the listing that you want to cancel the subscription for, and then choose __Cancel Subscription__  to cancel the subscription.\n",
    "\n"
   ]
  }
 ],
 "metadata": {
  "instance_type": "ml.t3.medium",
  "kernelspec": {
   "display_name": "conda_python3",
   "language": "python",
   "name": "conda_python3"
  },
  "language_info": {
   "codemirror_mode": {
    "name": "ipython",
    "version": 3
   },
   "file_extension": ".py",
   "mimetype": "text/x-python",
   "name": "python",
   "nbconvert_exporter": "python",
   "pygments_lexer": "ipython3",
   "version": "3.10.16"
  }
 },
 "nbformat": 4,
 "nbformat_minor": 4
}

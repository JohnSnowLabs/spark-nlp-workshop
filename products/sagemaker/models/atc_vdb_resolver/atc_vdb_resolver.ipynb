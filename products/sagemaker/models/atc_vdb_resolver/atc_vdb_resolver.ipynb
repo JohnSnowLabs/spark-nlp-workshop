{
 "cells": [
  {
   "cell_type": "markdown",
   "metadata": {},
   "source": [
    "## 1. Subscribe to the model package"
   ]
  },
  {
   "cell_type": "markdown",
   "metadata": {},
   "source": [
    "To subscribe to the model package:\n",
    "1. Open the model package listing page: [Anatomic therapeutic chemical resolver](https://aws.amazon.com/marketplace/pp/prodview-53ydbwzfkmbmo).\n",
    "1. On the AWS Marketplace listing, click on the **Continue to subscribe** button.\n",
    "1. On the **Subscribe to this software** page, review and click on **\"Accept Offer\"** if you and your organization agrees with EULA, pricing, and support terms. \n",
    "1. Once you click on **Continue to configuration button** and then choose a **region**, you will see a **Product Arn** displayed. This is the model package ARN that you need to specify while creating a deployable model using Boto3. Copy the ARN corresponding to your region and specify the same in the following cell."
   ]
  },
  {
   "cell_type": "markdown",
   "metadata": {},
   "source": [
    "## Pipeline for Anatomic Therapeutic Chemical (ATC) Sentence Entity Resolver\n",
    "\n",
    "- **Model**: `atc_vdb_resolver`\n",
    "- **Model Description**: This pretrained pipeline extracts `DRUG` entities from clinical text and maps them to their corresponding Anatomic Therapeutic Chemical (ATC) codes."
   ]
  },
  {
   "cell_type": "code",
   "execution_count": 1,
   "metadata": {
    "tags": []
   },
   "outputs": [],
   "source": [
    "model_package_arn = \"<Customer to specify Model package ARN corresponding to their AWS region>\""
   ]
  },
  {
   "cell_type": "code",
   "execution_count": null,
   "metadata": {
    "tags": []
   },
   "outputs": [],
   "source": [
    "import base64\n",
    "import json\n",
    "import uuid\n",
    "from sagemaker import ModelPackage\n",
    "import sagemaker as sage\n",
    "from sagemaker import get_execution_role\n",
    "import boto3\n",
    "from IPython.display import Image, display\n",
    "from PIL import Image as ImageEdit\n",
    "import numpy as np"
   ]
  },
  {
   "cell_type": "code",
   "execution_count": null,
   "metadata": {
    "tags": []
   },
   "outputs": [],
   "source": [
    "sagemaker_session = sage.Session()\n",
    "s3_bucket = sagemaker_session.default_bucket()\n",
    "region = sagemaker_session.boto_region_name\n",
    "account_id = boto3.client(\"sts\").get_caller_identity().get(\"Account\")\n",
    "role = get_execution_role()\n",
    "\n",
    "sagemaker = boto3.client(\"sagemaker\")\n",
    "s3_client = sagemaker_session.boto_session.client(\"s3\")\n",
    "ecr = boto3.client(\"ecr\")\n",
    "sm_runtime = boto3.client(\"sagemaker-runtime\")"
   ]
  },
  {
   "cell_type": "code",
   "execution_count": 4,
   "metadata": {
    "tags": []
   },
   "outputs": [],
   "source": [
    "model_name = \"atc-vdb-resolver\"\n",
    "\n",
    "real_time_inference_instance_type = \"ml.m4.xlarge\"\n",
    "batch_transform_inference_instance_type = \"ml.m4.2xlarge\""
   ]
  },
  {
   "cell_type": "markdown",
   "metadata": {},
   "source": [
    "## 2. Create a deployable model from the model package."
   ]
  },
  {
   "cell_type": "code",
   "execution_count": 5,
   "metadata": {
    "tags": []
   },
   "outputs": [],
   "source": [
    "# create a deployable model from the model package.\n",
    "model = ModelPackage(\n",
    "    role=role, \n",
    "    model_package_arn=model_package_arn,\n",
    "    sagemaker_session=sagemaker_session,\n",
    ")\n"
   ]
  },
  {
   "cell_type": "markdown",
   "metadata": {},
   "source": [
    "### Input Format\n",
    "\n",
    "To use the model, you need to provide input in one of the following supported formats:\n",
    "\n",
    "#### JSON Format\n",
    "\n",
    "Provide input as JSON. We support two variations within this format:\n",
    "\n",
    "1. **Array of Text Documents**: \n",
    "   Use an array containing multiple text documents. Each element represents a separate text document.\n",
    "\n",
    "   ```json\n",
    "   {\n",
    "       \"text\": [\n",
    "           \"Text document 1\",\n",
    "           \"Text document 2\",\n",
    "           ...\n",
    "       ]\n",
    "   }\n",
    "\n",
    "    ```\n",
    "\n",
    "2. **Single Text Document**:\n",
    "   Provide a single text document as a string.\n",
    "\n",
    "\n",
    "   ```json\n",
    "    {\n",
    "        \"text\": \"Single text document\"\n",
    "    }\n",
    "   ```\n",
    "\n",
    "#### JSON Lines (JSONL) Format\n",
    "\n",
    "Provide input in JSON Lines format, where each line is a JSON object representing a text document.\n",
    "\n",
    "```\n",
    "{\"text\": \"Text document 1\"}\n",
    "{\"text\": \"Text document 2\"}\n",
    "```"
   ]
  },
  {
   "cell_type": "markdown",
   "metadata": {},
   "source": [
    "## 3. Create an endpoint and perform real-time inference"
   ]
  },
  {
   "cell_type": "markdown",
   "metadata": {},
   "source": [
    "If you want to understand how real-time inference with Amazon SageMaker works, see [Documentation](https://docs.aws.amazon.com/sagemaker/latest/dg/how-it-works-hosting.html)."
   ]
  },
  {
   "cell_type": "markdown",
   "metadata": {},
   "source": [
    "### A. Deploy the SageMaker model to an endpoint"
   ]
  },
  {
   "cell_type": "code",
   "execution_count": null,
   "metadata": {
    "tags": []
   },
   "outputs": [],
   "source": [
    "# Deploy the model\n",
    "predictor = model.deploy(\n",
    "    initial_instance_count=1,\n",
    "    instance_type=real_time_inference_instance_type, \n",
    "    endpoint_name=model_name,\n",
    ")"
   ]
  },
  {
   "cell_type": "markdown",
   "metadata": {},
   "source": [
    "Once endpoint has been created, you would be able to perform real-time inference."
   ]
  },
  {
   "cell_type": "code",
   "execution_count": 7,
   "metadata": {
    "tags": []
   },
   "outputs": [],
   "source": [
    "import json\n",
    "import pandas as pd\n",
    "import os\n",
    "import boto3\n",
    "\n",
    "# Set display options\n",
    "pd.set_option('display.max_rows', None)\n",
    "pd.set_option('display.max_columns', None)\n",
    "pd.set_option('display.max_colwidth', None)\n",
    "\n",
    "\n",
    "def process_data_and_invoke_realtime_endpoint(data, content_type, accept):\n",
    "\n",
    "    content_type_to_format = {'application/json': 'json', 'application/jsonlines': 'jsonl'}\n",
    "    input_format = content_type_to_format.get(content_type)\n",
    "    if content_type not in content_type_to_format.keys() or accept not in content_type_to_format.keys():\n",
    "        raise ValueError(\"Invalid content_type or accept. It should be either 'application/json' or 'application/jsonlines'.\")\n",
    "\n",
    "    i = 1\n",
    "    input_dir = f'inputs/real-time/{input_format}'\n",
    "    output_dir = f'outputs/real-time/{input_format}'\n",
    "    s3_input_dir = f\"{model_name}/validation-input/real-time/{input_format}\"\n",
    "    s3_output_dir = f\"{model_name}/validation-output/real-time/{input_format}\"\n",
    "\n",
    "    input_file_name = f'{input_dir}/input{i}.{input_format}'\n",
    "    output_file_name = f'{output_dir}/{os.path.basename(input_file_name)}.out'\n",
    "\n",
    "    while os.path.exists(input_file_name) or os.path.exists(output_file_name):\n",
    "        i += 1\n",
    "        input_file_name = f'{input_dir}/input{i}.{input_format}'\n",
    "        output_file_name = f'{output_dir}/{os.path.basename(input_file_name)}.out'\n",
    "\n",
    "    os.makedirs(os.path.dirname(input_file_name), exist_ok=True)\n",
    "    os.makedirs(os.path.dirname(output_file_name), exist_ok=True)\n",
    "\n",
    "    input_data = json.dumps(data) if content_type == 'application/json' else data\n",
    "\n",
    "    # Write input data to file\n",
    "    with open(input_file_name, 'w') as f:\n",
    "        f.write(input_data)\n",
    "\n",
    "    # Upload input data to S3\n",
    "    s3_client.put_object(Bucket=s3_bucket, Key=f\"{s3_input_dir}/{os.path.basename(input_file_name)}\", Body=bytes(input_data.encode('UTF-8')))\n",
    "\n",
    "    # Invoke the SageMaker endpoint\n",
    "    response = sm_runtime.invoke_endpoint(\n",
    "        EndpointName=model_name,\n",
    "        ContentType=content_type,\n",
    "        Accept=accept,\n",
    "        Body=input_data,\n",
    "    )\n",
    "\n",
    "    # Read response data\n",
    "    response_data = json.loads(response[\"Body\"].read().decode(\"utf-8\")) if accept == 'application/json' else response['Body'].read().decode('utf-8')\n",
    "\n",
    "    # Save response data to file\n",
    "    with open(output_file_name, 'w') as f_out:\n",
    "        if accept == 'application/json':\n",
    "            json.dump(response_data, f_out, indent=4)\n",
    "        else:\n",
    "            for item in response_data.split('\\n'):\n",
    "                f_out.write(item + '\\n')\n",
    "\n",
    "    # Upload response data to S3\n",
    "    output_s3_key = f\"{s3_output_dir}/{os.path.basename(output_file_name)}\"\n",
    "    if accept == 'application/json':\n",
    "        s3_client.put_object(Bucket=s3_bucket, Key=output_s3_key, Body=json.dumps(response_data).encode('UTF-8'))\n",
    "    else:\n",
    "        s3_client.put_object(Bucket=s3_bucket, Key=output_s3_key, Body=response_data)\n",
    "\n",
    "    return response_data"
   ]
  },
  {
   "cell_type": "markdown",
   "metadata": {},
   "source": [
    "### Initial Setup"
   ]
  },
  {
   "cell_type": "code",
   "execution_count": 8,
   "metadata": {
    "tags": []
   },
   "outputs": [],
   "source": [
    "docs = [\n",
    "    \"\"\"He was seen by the endocrinology service and she was discharged on eltrombopag at night, amlodipine with meals metformin two times a day.\"\"\",\n",
    "    \"\"\"She was given antidepressant for a month\"\"\",\n",
    "]\n",
    "\n",
    "\n",
    "sample_text = \"\"\"She was immediately given hydrogen peroxide 30 mg and amoxicillin twice daily for 10 days to treat the infection on her leg. She has a history of taking magnesium hydroxide.\"\"\""
   ]
  },
  {
   "cell_type": "markdown",
   "metadata": {},
   "source": [
    "### JSON"
   ]
  },
  {
   "cell_type": "code",
   "execution_count": 9,
   "metadata": {
    "tags": []
   },
   "outputs": [
    {
     "data": {
      "text/html": [
       "<div>\n",
       "<style scoped>\n",
       "    .dataframe tbody tr th:only-of-type {\n",
       "        vertical-align: middle;\n",
       "    }\n",
       "\n",
       "    .dataframe tbody tr th {\n",
       "        vertical-align: top;\n",
       "    }\n",
       "\n",
       "    .dataframe thead th {\n",
       "        text-align: right;\n",
       "    }\n",
       "</style>\n",
       "<table border=\"1\" class=\"dataframe\">\n",
       "  <thead>\n",
       "    <tr style=\"text-align: right;\">\n",
       "      <th></th>\n",
       "      <th>begin</th>\n",
       "      <th>end</th>\n",
       "      <th>ner_chunk</th>\n",
       "      <th>ner_label</th>\n",
       "      <th>ner_confidence</th>\n",
       "      <th>concept_code</th>\n",
       "      <th>resolution</th>\n",
       "      <th>score</th>\n",
       "      <th>concept_class_id</th>\n",
       "      <th>all_codes</th>\n",
       "      <th>all_resolutions</th>\n",
       "      <th>all_score</th>\n",
       "    </tr>\n",
       "  </thead>\n",
       "  <tbody>\n",
       "    <tr>\n",
       "      <th>0</th>\n",
       "      <td>26</td>\n",
       "      <td>42</td>\n",
       "      <td>hydrogen peroxide</td>\n",
       "      <td>DRUG</td>\n",
       "      <td>0.90765</td>\n",
       "      <td>A01AB02</td>\n",
       "      <td>hydrogen peroxide</td>\n",
       "      <td>1.0</td>\n",
       "      <td>[ATC 5th, ATC 4th, ATC 5th, ATC 5th, ATC 5th]</td>\n",
       "      <td>[A01AB02, D10AE, D11AX25, D11AX25, D11AX25]</td>\n",
       "      <td>[hydrogen peroxide , peroxides, hydrogen peroxide / lactate , hydrogen peroxide toothpaste, hydrogen peroxide / menthol ]</td>\n",
       "      <td>[0.9999996423721313, 0.8564912676811218, 0.8300775289535522, 0.8247421979904175, 0.8137434720993042]</td>\n",
       "    </tr>\n",
       "    <tr>\n",
       "      <th>1</th>\n",
       "      <td>54</td>\n",
       "      <td>64</td>\n",
       "      <td>amoxicillin</td>\n",
       "      <td>DRUG</td>\n",
       "      <td>0.9995</td>\n",
       "      <td>J01CA04</td>\n",
       "      <td>amoxicillin</td>\n",
       "      <td>1.0</td>\n",
       "      <td>[ATC 5th, ATC 5th, ATC 5th, ATC 5th, ATC 5th]</td>\n",
       "      <td>[J01CA04, J01CA04, J01CA04, J01CA04, J01CA04]</td>\n",
       "      <td>[amoxicillin , amoxicillin; systemic, amoxicillin / clonixin , amoxicillin / floxacillin , ambroxol / amoxicillin ]</td>\n",
       "      <td>[1.000000238418579, 0.8760582804679871, 0.8621703386306763, 0.855049192905426, 0.8429436683654785]</td>\n",
       "    </tr>\n",
       "    <tr>\n",
       "      <th>2</th>\n",
       "      <td>153</td>\n",
       "      <td>171</td>\n",
       "      <td>magnesium hydroxide</td>\n",
       "      <td>DRUG</td>\n",
       "      <td>0.9382</td>\n",
       "      <td>A02AA04</td>\n",
       "      <td>magnesium hydroxide</td>\n",
       "      <td>1.0</td>\n",
       "      <td>[ATC 5th, ATC 5th, ATC 5th, ATC 5th, ATC 5th]</td>\n",
       "      <td>[A02AA04, A02AA04, D10AX30, A02AA02, A02AA04]</td>\n",
       "      <td>[magnesium hydroxide , aluminum hydroxide / magnesium hydroxide , aluminum oxide / magnesium hydroxide , aluminum hydroxide / magnesium oxide , magnesium hydroxide / mineral oil ]</td>\n",
       "      <td>[0.9999998807907104, 0.876952588558197, 0.8733229637145996, 0.8709627389907837, 0.8609710335731506]</td>\n",
       "    </tr>\n",
       "  </tbody>\n",
       "</table>\n",
       "</div>"
      ],
      "text/plain": [
       "   begin  end            ner_chunk ner_label ner_confidence concept_code  \\\n",
       "0     26   42    hydrogen peroxide      DRUG        0.90765      A01AB02   \n",
       "1     54   64          amoxicillin      DRUG         0.9995      J01CA04   \n",
       "2    153  171  magnesium hydroxide      DRUG         0.9382      A02AA04   \n",
       "\n",
       "             resolution  score                               concept_class_id  \\\n",
       "0    hydrogen peroxide     1.0  [ATC 5th, ATC 4th, ATC 5th, ATC 5th, ATC 5th]   \n",
       "1          amoxicillin     1.0  [ATC 5th, ATC 5th, ATC 5th, ATC 5th, ATC 5th]   \n",
       "2  magnesium hydroxide     1.0  [ATC 5th, ATC 5th, ATC 5th, ATC 5th, ATC 5th]   \n",
       "\n",
       "                                       all_codes  \\\n",
       "0    [A01AB02, D10AE, D11AX25, D11AX25, D11AX25]   \n",
       "1  [J01CA04, J01CA04, J01CA04, J01CA04, J01CA04]   \n",
       "2  [A02AA04, A02AA04, D10AX30, A02AA02, A02AA04]   \n",
       "\n",
       "                                                                                                                                                                       all_resolutions  \\\n",
       "0                                                            [hydrogen peroxide , peroxides, hydrogen peroxide / lactate , hydrogen peroxide toothpaste, hydrogen peroxide / menthol ]   \n",
       "1                                                                  [amoxicillin , amoxicillin; systemic, amoxicillin / clonixin , amoxicillin / floxacillin , ambroxol / amoxicillin ]   \n",
       "2  [magnesium hydroxide , aluminum hydroxide / magnesium hydroxide , aluminum oxide / magnesium hydroxide , aluminum hydroxide / magnesium oxide , magnesium hydroxide / mineral oil ]   \n",
       "\n",
       "                                                                                              all_score  \n",
       "0  [0.9999996423721313, 0.8564912676811218, 0.8300775289535522, 0.8247421979904175, 0.8137434720993042]  \n",
       "1    [1.000000238418579, 0.8760582804679871, 0.8621703386306763, 0.855049192905426, 0.8429436683654785]  \n",
       "2   [0.9999998807907104, 0.876952588558197, 0.8733229637145996, 0.8709627389907837, 0.8609710335731506]  "
      ]
     },
     "execution_count": 9,
     "metadata": {},
     "output_type": "execute_result"
    }
   ],
   "source": [
    "input_json_data = {\"text\": sample_text}\n",
    "data =  process_data_and_invoke_realtime_endpoint(input_json_data, content_type=\"application/json\" , accept=\"application/json\" )\n",
    "pd.DataFrame(data[\"predictions\"][0])"
   ]
  },
  {
   "cell_type": "markdown",
   "metadata": {},
   "source": [
    "### JSON Lines"
   ]
  },
  {
   "cell_type": "code",
   "execution_count": 10,
   "metadata": {
    "tags": []
   },
   "outputs": [],
   "source": [
    "import json\n",
    "\n",
    "def create_jsonl(records):\n",
    "\n",
    "    if isinstance(records, str):\n",
    "        records = [records]\n",
    "\n",
    "    json_records = []\n",
    "\n",
    "    for text in records:\n",
    "        record = {\n",
    "            \"text\": text\n",
    "        }\n",
    "        json_records.append(record)\n",
    "\n",
    "    json_lines = '\\n'.join(json.dumps(record) for record in json_records)\n",
    "\n",
    "    return json_lines"
   ]
  },
  {
   "cell_type": "code",
   "execution_count": 11,
   "metadata": {
    "tags": []
   },
   "outputs": [
    {
     "name": "stdout",
     "output_type": "stream",
     "text": [
      "{\"predictions\": [{\"begin\": 26, \"end\": 42, \"ner_chunk\": \"hydrogen peroxide\", \"ner_label\": \"DRUG\", \"ner_confidence\": \"0.90765\", \"concept_code\": \"A01AB02\", \"resolution\": \"hydrogen peroxide \", \"score\": 0.9999996423721313, \"concept_class_id\": [\"ATC 5th\", \"ATC 4th\", \"ATC 5th\", \"ATC 5th\", \"ATC 5th\"], \"all_codes\": [\"A01AB02\", \"D10AE\", \"D11AX25\", \"D11AX25\", \"D11AX25\"], \"all_resolutions\": [\"hydrogen peroxide \", \"peroxides\", \"hydrogen peroxide / lactate \", \"hydrogen peroxide toothpaste\", \"hydrogen peroxide / menthol \"], \"all_score\": [0.9999996423721313, 0.8564912676811218, 0.8300775289535522, 0.8247421979904175, 0.8137434720993042]}, {\"begin\": 54, \"end\": 64, \"ner_chunk\": \"amoxicillin\", \"ner_label\": \"DRUG\", \"ner_confidence\": \"0.9995\", \"concept_code\": \"J01CA04\", \"resolution\": \"amoxicillin \", \"score\": 1.000000238418579, \"concept_class_id\": [\"ATC 5th\", \"ATC 5th\", \"ATC 5th\", \"ATC 5th\", \"ATC 5th\"], \"all_codes\": [\"J01CA04\", \"J01CA04\", \"J01CA04\", \"J01CA04\", \"J01CA04\"], \"all_resolutions\": [\"amoxicillin \", \"amoxicillin; systemic\", \"amoxicillin / clonixin \", \"amoxicillin / floxacillin \", \"ambroxol / amoxicillin \"], \"all_score\": [1.000000238418579, 0.8760582804679871, 0.8621703386306763, 0.855049192905426, 0.8429436683654785]}, {\"begin\": 153, \"end\": 171, \"ner_chunk\": \"magnesium hydroxide\", \"ner_label\": \"DRUG\", \"ner_confidence\": \"0.9382\", \"concept_code\": \"A02AA04\", \"resolution\": \"magnesium hydroxide \", \"score\": 0.9999998807907104, \"concept_class_id\": [\"ATC 5th\", \"ATC 5th\", \"ATC 5th\", \"ATC 5th\", \"ATC 5th\"], \"all_codes\": [\"A02AA04\", \"A02AA04\", \"D10AX30\", \"A02AA02\", \"A02AA04\"], \"all_resolutions\": [\"magnesium hydroxide \", \"aluminum hydroxide / magnesium hydroxide \", \"aluminum oxide / magnesium hydroxide \", \"aluminum hydroxide / magnesium oxide \", \"magnesium hydroxide / mineral oil \"], \"all_score\": [0.9999998807907104, 0.876952588558197, 0.8733229637145996, 0.8709627389907837, 0.8609710335731506]}]}\n"
     ]
    }
   ],
   "source": [
    "input_jsonl_data = create_jsonl(sample_text)\n",
    "data = process_data_and_invoke_realtime_endpoint(input_jsonl_data, content_type=\"application/jsonlines\" , accept=\"application/jsonlines\" )\n",
    "print(data)"
   ]
  },
  {
   "cell_type": "markdown",
   "metadata": {},
   "source": [
    "### B. Delete the endpoint"
   ]
  },
  {
   "cell_type": "markdown",
   "metadata": {},
   "source": [
    "Now that you have successfully performed a real-time inference, you do not need the endpoint any more. You can terminate the endpoint to avoid being charged."
   ]
  },
  {
   "cell_type": "code",
   "execution_count": null,
   "metadata": {
    "tags": []
   },
   "outputs": [],
   "source": [
    "model.sagemaker_session.delete_endpoint(model_name)\n",
    "model.sagemaker_session.delete_endpoint_config(model_name)"
   ]
  },
  {
   "cell_type": "markdown",
   "metadata": {
    "tags": []
   },
   "source": [
    "## 4. Batch inference"
   ]
  },
  {
   "cell_type": "code",
   "execution_count": 13,
   "metadata": {
    "tags": []
   },
   "outputs": [],
   "source": [
    "import json\n",
    "import os\n",
    "\n",
    "input_dir = 'inputs/batch'\n",
    "json_input_dir = f\"{input_dir}/json\"\n",
    "jsonl_input_dir = f\"{input_dir}/jsonl\"\n",
    "\n",
    "output_dir = 'outputs/batch'\n",
    "json_output_dir = f\"{output_dir}/json\"\n",
    "jsonl_output_dir = f\"{output_dir}/jsonl\"\n",
    "\n",
    "os.makedirs(json_input_dir, exist_ok=True)\n",
    "os.makedirs(jsonl_input_dir, exist_ok=True)\n",
    "os.makedirs(json_output_dir, exist_ok=True)\n",
    "os.makedirs(jsonl_output_dir, exist_ok=True)\n",
    "\n",
    "validation_json_file_name = \"input.json\"\n",
    "\n",
    "validation_jsonl_file_name = \"input.jsonl\"\n",
    "\n",
    "validation_input_json_path = f\"s3://{s3_bucket}/{model_name}/validation-input/batch/json/\"\n",
    "validation_output_json_path = f\"s3://{s3_bucket}/{model_name}/validation-output/batch/json/\"\n",
    "\n",
    "validation_input_jsonl_path = f\"s3://{s3_bucket}/{model_name}/validation-input/batch/jsonl/\"\n",
    "validation_output_jsonl_path = f\"s3://{s3_bucket}/{model_name}/validation-output/batch/jsonl/\"\n",
    "\n",
    "def write_and_upload_to_s3(input_data, file_name):\n",
    "    file_format = os.path.splitext(file_name)[1].lower()\n",
    "    if file_format == \".json\":\n",
    "        input_data = json.dumps(input_data)\n",
    "\n",
    "    with open(file_name, \"w\") as f:\n",
    "        f.write(input_data)\n",
    "\n",
    "    s3_client.put_object(\n",
    "        Bucket=s3_bucket,\n",
    "        Key=f\"{model_name}/validation-input/batch/{file_format[1:]}/{os.path.basename(file_name)}\",\n",
    "        Body=(bytes(input_data.encode(\"UTF-8\"))),\n",
    "    )"
   ]
  },
  {
   "cell_type": "code",
   "execution_count": 14,
   "metadata": {
    "tags": []
   },
   "outputs": [],
   "source": [
    "input_jsonl_data = create_jsonl(docs)\n",
    "input_json_data = {\"text\": docs}\n",
    "\n",
    "write_and_upload_to_s3(input_json_data, f\"{json_input_dir}/{validation_json_file_name}\")\n",
    "\n",
    "write_and_upload_to_s3(input_jsonl_data, f\"{jsonl_input_dir}/{validation_jsonl_file_name}\")"
   ]
  },
  {
   "cell_type": "markdown",
   "metadata": {},
   "source": [
    "### JSON"
   ]
  },
  {
   "cell_type": "code",
   "execution_count": null,
   "metadata": {
    "tags": []
   },
   "outputs": [],
   "source": [
    "# Initialize a SageMaker Transformer object for making predictions\n",
    "transformer = model.transformer(\n",
    "    instance_count=1,\n",
    "    instance_type=batch_transform_inference_instance_type,\n",
    "    accept=\"application/json\",\n",
    "    output_path=validation_output_json_path\n",
    ")\n",
    "\n",
    "transformer.transform(validation_input_json_path, content_type=\"application/json\")\n",
    "transformer.wait()"
   ]
  },
  {
   "cell_type": "code",
   "execution_count": 16,
   "metadata": {
    "tags": []
   },
   "outputs": [],
   "source": [
    "from urllib.parse import urlparse\n",
    "\n",
    "def process_s3_json_output_and_save(validation_file_name):\n",
    "\n",
    "    output_file_path = f\"{json_output_dir}/{validation_file_name}.out\"\n",
    "    parsed_url = urlparse(transformer.output_path)\n",
    "    file_key = f\"{parsed_url.path[1:]}{validation_file_name}.out\"\n",
    "    response = s3_client.get_object(Bucket=s3_bucket, Key=file_key)\n",
    "\n",
    "    data = json.loads(response[\"Body\"].read().decode(\"utf-8\"))\n",
    "    display(data)\n",
    "\n",
    "    # Save the data to the output file\n",
    "    with open(output_file_path, 'w') as f_out:\n",
    "        json.dump(data, f_out, indent=4)"
   ]
  },
  {
   "cell_type": "code",
   "execution_count": 17,
   "metadata": {
    "tags": []
   },
   "outputs": [
    {
     "data": {
      "text/plain": [
       "{'predictions': [[{'begin': 67,\n",
       "    'end': 77,\n",
       "    'ner_chunk': 'eltrombopag',\n",
       "    'ner_label': 'DRUG',\n",
       "    'ner_confidence': '0.9968',\n",
       "    'concept_code': 'B02BX05',\n",
       "    'resolution': 'eltrombopag ',\n",
       "    'score': 1.0000005960464478,\n",
       "    'concept_class_id': ['ATC 5th',\n",
       "     'ATC 5th',\n",
       "     'ATC 5th',\n",
       "     'ATC 5th',\n",
       "     'ATC 5th'],\n",
       "    'all_codes': ['B02BX05', 'B02BX05', 'B02BX08', 'B02BX07', 'L01AX02'],\n",
       "    'all_resolutions': ['eltrombopag ',\n",
       "     'eltrombopag; oral',\n",
       "     'avatrombopag ',\n",
       "     'lusutrombopag ',\n",
       "     'pipobroman '],\n",
       "    'all_score': [1.0000005960464478,\n",
       "     0.8686228394508362,\n",
       "     0.8568205833435059,\n",
       "     0.8277719616889954,\n",
       "     0.6771407723426819]},\n",
       "   {'begin': 89,\n",
       "    'end': 98,\n",
       "    'ner_chunk': 'amlodipine',\n",
       "    'ner_label': 'DRUG',\n",
       "    'ner_confidence': '0.9996',\n",
       "    'concept_code': 'C08CA01',\n",
       "    'resolution': 'amlodipine ',\n",
       "    'score': 1.0000001192092896,\n",
       "    'concept_class_id': ['ATC 5th',\n",
       "     'ATC 5th',\n",
       "     'ATC 5th',\n",
       "     'ATC 5th',\n",
       "     'ATC 5th'],\n",
       "    'all_codes': ['C08CA01', 'C08CA17', 'C08CA01', 'C09XA02', 'C09CA03'],\n",
       "    'all_resolutions': ['amlodipine ',\n",
       "     'levamlodipine ',\n",
       "     'amlodipine; oral',\n",
       "     'aliskiren / amlodipine ',\n",
       "     'amlodipine / valsartan '],\n",
       "    'all_score': [1.0000001192092896,\n",
       "     0.85758376121521,\n",
       "     0.8520140647888184,\n",
       "     0.8354176878929138,\n",
       "     0.8351638317108154]},\n",
       "   {'begin': 111,\n",
       "    'end': 119,\n",
       "    'ner_chunk': 'metformin',\n",
       "    'ner_label': 'DRUG',\n",
       "    'ner_confidence': '0.9994',\n",
       "    'concept_code': 'A10BA02',\n",
       "    'resolution': 'metformin ',\n",
       "    'score': 0.9999998211860657,\n",
       "    'concept_class_id': ['ATC 5th',\n",
       "     'ATC 5th',\n",
       "     'ATC 5th',\n",
       "     'ATC 5th',\n",
       "     'ATC 5th'],\n",
       "    'all_codes': ['A10BA02', 'A10BB07', 'A10BD07', 'A10BA02', 'A10BD14'],\n",
       "    'all_resolutions': ['metformin ',\n",
       "     'glipizide / metformin ',\n",
       "     'metformin / sitagliptin ',\n",
       "     'metformin; oral',\n",
       "     'metformin / repaglinide '],\n",
       "    'all_score': [0.9999998211860657,\n",
       "     0.8421072959899902,\n",
       "     0.8404864072799683,\n",
       "     0.8370276689529419,\n",
       "     0.8198299407958984]}],\n",
       "  [{'begin': 14,\n",
       "    'end': 27,\n",
       "    'ner_chunk': 'antidepressant',\n",
       "    'ner_label': 'DRUG',\n",
       "    'ner_confidence': '0.9991',\n",
       "    'concept_code': 'N06A',\n",
       "    'resolution': 'antidepressants',\n",
       "    'score': 0.8972138166427612,\n",
       "    'concept_class_id': ['ATC 3rd',\n",
       "     'ATC 5th',\n",
       "     'ATC 4th',\n",
       "     'ATC 5th',\n",
       "     'ATC 5th'],\n",
       "    'all_codes': ['N06A', 'N06AB03', 'N06AX', 'N06AA01', 'N06AA01'],\n",
       "    'all_resolutions': ['antidepressants',\n",
       "     'fluoxetine ',\n",
       "     'other antidepressants',\n",
       "     'desipramine ',\n",
       "     'desipramine; oral'],\n",
       "    'all_score': [0.8972138166427612,\n",
       "     0.8258498907089233,\n",
       "     0.8229362964630127,\n",
       "     0.7730770707130432,\n",
       "     0.7561771869659424]}]]}"
      ]
     },
     "metadata": {},
     "output_type": "display_data"
    }
   ],
   "source": [
    "process_s3_json_output_and_save(validation_json_file_name)"
   ]
  },
  {
   "cell_type": "markdown",
   "metadata": {},
   "source": [
    "### JSON Lines"
   ]
  },
  {
   "cell_type": "code",
   "execution_count": null,
   "metadata": {
    "tags": []
   },
   "outputs": [],
   "source": [
    "transformer = model.transformer(\n",
    "    instance_count=1,\n",
    "    instance_type=batch_transform_inference_instance_type,\n",
    "    accept=\"application/jsonlines\",\n",
    "    output_path=validation_output_jsonl_path\n",
    ")\n",
    "transformer.transform(validation_input_jsonl_path, content_type=\"application/jsonlines\")\n",
    "transformer.wait()"
   ]
  },
  {
   "cell_type": "code",
   "execution_count": 19,
   "metadata": {
    "tags": []
   },
   "outputs": [],
   "source": [
    "from urllib.parse import urlparse\n",
    "\n",
    "def process_s3_jsonlines_output_and_save(validation_file_name):\n",
    "\n",
    "    output_file_path = f\"{jsonl_output_dir}/{validation_file_name}.out\"\n",
    "    parsed_url = urlparse(transformer.output_path)\n",
    "    file_key = f\"{parsed_url.path[1:]}{validation_file_name}.out\"\n",
    "    response = s3_client.get_object(Bucket=s3_bucket, Key=file_key)\n",
    "\n",
    "    data = response[\"Body\"].read().decode(\"utf-8\")\n",
    "    print(data)\n",
    "\n",
    "    # Save the data to the output file\n",
    "    with open(output_file_path, 'w') as f_out:\n",
    "        for item in data.split('\\n'):\n",
    "            f_out.write(item + '\\n')"
   ]
  },
  {
   "cell_type": "code",
   "execution_count": 20,
   "metadata": {
    "tags": []
   },
   "outputs": [
    {
     "name": "stdout",
     "output_type": "stream",
     "text": [
      "{\"predictions\": [{\"begin\": 67, \"end\": 77, \"ner_chunk\": \"eltrombopag\", \"ner_label\": \"DRUG\", \"ner_confidence\": \"0.9968\", \"concept_code\": \"B02BX05\", \"resolution\": \"eltrombopag \", \"score\": 1.0000005960464478, \"concept_class_id\": [\"ATC 5th\", \"ATC 5th\", \"ATC 5th\", \"ATC 5th\", \"ATC 5th\"], \"all_codes\": [\"B02BX05\", \"B02BX05\", \"B02BX08\", \"B02BX07\", \"L01AX02\"], \"all_resolutions\": [\"eltrombopag \", \"eltrombopag; oral\", \"avatrombopag \", \"lusutrombopag \", \"pipobroman \"], \"all_score\": [1.0000005960464478, 0.8686228394508362, 0.8568205833435059, 0.8277719616889954, 0.6771407723426819]}, {\"begin\": 89, \"end\": 98, \"ner_chunk\": \"amlodipine\", \"ner_label\": \"DRUG\", \"ner_confidence\": \"0.9996\", \"concept_code\": \"C08CA01\", \"resolution\": \"amlodipine \", \"score\": 1.0000001192092896, \"concept_class_id\": [\"ATC 5th\", \"ATC 5th\", \"ATC 5th\", \"ATC 5th\", \"ATC 5th\"], \"all_codes\": [\"C08CA01\", \"C08CA17\", \"C08CA01\", \"C09XA02\", \"C09CA03\"], \"all_resolutions\": [\"amlodipine \", \"levamlodipine \", \"amlodipine; oral\", \"aliskiren / amlodipine \", \"amlodipine / valsartan \"], \"all_score\": [1.0000001192092896, 0.85758376121521, 0.8520140647888184, 0.8354176878929138, 0.8351638317108154]}, {\"begin\": 111, \"end\": 119, \"ner_chunk\": \"metformin\", \"ner_label\": \"DRUG\", \"ner_confidence\": \"0.9994\", \"concept_code\": \"A10BA02\", \"resolution\": \"metformin \", \"score\": 0.9999998211860657, \"concept_class_id\": [\"ATC 5th\", \"ATC 5th\", \"ATC 5th\", \"ATC 5th\", \"ATC 5th\"], \"all_codes\": [\"A10BA02\", \"A10BB07\", \"A10BD07\", \"A10BA02\", \"A10BD14\"], \"all_resolutions\": [\"metformin \", \"glipizide / metformin \", \"metformin / sitagliptin \", \"metformin; oral\", \"metformin / repaglinide \"], \"all_score\": [0.9999998211860657, 0.8421072959899902, 0.8404864072799683, 0.8370276689529419, 0.8198299407958984]}]}\n",
      "{\"predictions\": [{\"begin\": 14, \"end\": 27, \"ner_chunk\": \"antidepressant\", \"ner_label\": \"DRUG\", \"ner_confidence\": \"0.9991\", \"concept_code\": \"N06A\", \"resolution\": \"antidepressants\", \"score\": 0.8972138166427612, \"concept_class_id\": [\"ATC 3rd\", \"ATC 5th\", \"ATC 4th\", \"ATC 5th\", \"ATC 5th\"], \"all_codes\": [\"N06A\", \"N06AB03\", \"N06AX\", \"N06AA01\", \"N06AA01\"], \"all_resolutions\": [\"antidepressants\", \"fluoxetine \", \"other antidepressants\", \"desipramine \", \"desipramine; oral\"], \"all_score\": [0.8972138166427612, 0.8258498907089233, 0.8229362964630127, 0.7730770707130432, 0.7561771869659424]}]}\n"
     ]
    }
   ],
   "source": [
    "process_s3_jsonlines_output_and_save(validation_jsonl_file_name)"
   ]
  },
  {
   "cell_type": "code",
   "execution_count": 21,
   "metadata": {
    "tags": []
   },
   "outputs": [
    {
     "data": {
      "text/html": [
       "<pre style=\"white-space:pre;overflow-x:auto;line-height:normal;font-family:Menlo,'DejaVu Sans Mono',consolas,'Courier New',monospace\"><span style=\"color: #7fbfbf; text-decoration-color: #7fbfbf\">[02/26/25 08:04:28] </span><span style=\"color: #0069ff; text-decoration-color: #0069ff; font-weight: bold\">INFO    </span> Deleting model with name: atc-vdb-resolver-<span style=\"color: #008080; text-decoration-color: #008080; font-weight: bold\">2025</span>-02-26-07-55-52-947     <a href=\"file:///home/ec2-user/anaconda3/envs/python3/lib/python3.10/site-packages/sagemaker/session.py\" target=\"_blank\"><span style=\"color: #7f7f7f; text-decoration-color: #7f7f7f\">session.py</span></a><span style=\"color: #7f7f7f; text-decoration-color: #7f7f7f\">:</span><a href=\"file:///home/ec2-user/anaconda3/envs/python3/lib/python3.10/site-packages/sagemaker/session.py#5226\" target=\"_blank\"><span style=\"color: #7f7f7f; text-decoration-color: #7f7f7f\">5226</span></a>\n",
       "</pre>\n"
      ],
      "text/plain": [
       "\u001b[2;36m[02/26/25 08:04:28]\u001b[0m\u001b[2;36m \u001b[0m\u001b[1;38;2;0;105;255mINFO    \u001b[0m Deleting model with name: atc-vdb-resolver-\u001b[1;36m2025\u001b[0m-02-26-07-55-52-947     \u001b]8;id=41607;file:///home/ec2-user/anaconda3/envs/python3/lib/python3.10/site-packages/sagemaker/session.py\u001b\\\u001b[2msession.py\u001b[0m\u001b]8;;\u001b\\\u001b[2m:\u001b[0m\u001b]8;id=612349;file:///home/ec2-user/anaconda3/envs/python3/lib/python3.10/site-packages/sagemaker/session.py#5226\u001b\\\u001b[2m5226\u001b[0m\u001b]8;;\u001b\\\n"
      ]
     },
     "metadata": {},
     "output_type": "display_data"
    }
   ],
   "source": [
    "model.delete_model()"
   ]
  },
  {
   "cell_type": "markdown",
   "metadata": {},
   "source": [
    "### Unsubscribe to the listing (optional)"
   ]
  },
  {
   "cell_type": "markdown",
   "metadata": {
    "tags": []
   },
   "source": [
    "If you would like to unsubscribe to the model package, follow these steps. Before you cancel the subscription, ensure that you do not have any [deployable model](https://console.aws.amazon.com/sagemaker/home#/models) created from the model package or using the algorithm. Note - You can find this information by looking at the container name associated with the model. \n",
    "\n",
    "**Steps to unsubscribe to product from AWS Marketplace**:\n",
    "1. Navigate to __Machine Learning__ tab on [__Your Software subscriptions page__](https://aws.amazon.com/marketplace/ai/library?productType=ml&ref_=mlmp_gitdemo_indust)\n",
    "2. Locate the listing that you want to cancel the subscription for, and then choose __Cancel Subscription__  to cancel the subscription.\n",
    "\n"
   ]
  }
 ],
 "metadata": {
  "instance_type": "ml.t3.medium",
  "kernelspec": {
   "display_name": "conda_python3",
   "language": "python",
   "name": "conda_python3"
  },
  "language_info": {
   "codemirror_mode": {
    "name": "ipython",
    "version": 3
   },
   "file_extension": ".py",
   "mimetype": "text/x-python",
   "name": "python",
   "nbconvert_exporter": "python",
   "pygments_lexer": "ipython3",
   "version": "3.10.16"
  }
 },
 "nbformat": 4,
 "nbformat_minor": 4
}

{
 "cells": [
  {
   "cell_type": "markdown",
   "metadata": {},
   "source": [
    "## 1. Subscribe to the model package"
   ]
  },
  {
   "cell_type": "markdown",
   "metadata": {},
   "source": [
    "To subscribe to the model package:\n",
    "1. Open the model package listing page <font color='red'> For Seller to update:[Title_of_your_product](Provide link to your marketplace listing of your product).</font>\n",
    "1. On the AWS Marketplace listing, click on the **Continue to subscribe** button.\n",
    "1. On the **Subscribe to this software** page, review and click on **\"Accept Offer\"** if you and your organization agrees with EULA, pricing, and support terms. \n",
    "1. Once you click on **Continue to configuration button** and then choose a **region**, you will see a **Product Arn** displayed. This is the model package ARN that you need to specify while creating a deployable model using Boto3. Copy the ARN corresponding to your region and specify the same in the following cell."
   ]
  },
  {
   "cell_type": "markdown",
   "metadata": {},
   "source": [
    "## Pipeline for RxNorm Concept Unique Identifier (RxCUI) Sentence Entity Resolver\n",
    "\n",
    "- **Model**: `rxcui_resolver_pipeline`\n",
    "- **Model Description**: This advanced pipeline extracts medical entities from clinical texts and utilizes the `sbiobert_base_cased_mli` Sentence Bert Embeddings to map these entities to their corresponding RxNorm Concept Unique Identifier (RxCUI) codes."
   ]
  },
  {
   "cell_type": "code",
   "execution_count": null,
   "metadata": {
    "tags": []
   },
   "outputs": [],
   "source": [
    "model_package_arn = \"<Customer to specify Model package ARN corresponding to their AWS region>\""
   ]
  },
  {
   "cell_type": "code",
   "execution_count": 2,
   "metadata": {
    "tags": []
   },
   "outputs": [
    {
     "name": "stdout",
     "output_type": "stream",
     "text": [
      "sagemaker.config INFO - Not applying SDK defaults from location: /etc/xdg/sagemaker/config.yaml\n",
      "sagemaker.config INFO - Not applying SDK defaults from location: /home/ec2-user/.config/sagemaker/config.yaml\n"
     ]
    }
   ],
   "source": [
    "import base64\n",
    "import json\n",
    "import uuid\n",
    "from sagemaker import ModelPackage\n",
    "import sagemaker as sage\n",
    "from sagemaker import get_execution_role\n",
    "import boto3\n",
    "from IPython.display import Image, display\n",
    "from PIL import Image as ImageEdit\n",
    "import numpy as np"
   ]
  },
  {
   "cell_type": "code",
   "execution_count": 3,
   "metadata": {
    "tags": []
   },
   "outputs": [],
   "source": [
    "sagemaker_session = sage.Session()\n",
    "s3_bucket = sagemaker_session.default_bucket()\n",
    "region = sagemaker_session.boto_region_name\n",
    "account_id = boto3.client(\"sts\").get_caller_identity().get(\"Account\")\n",
    "role = get_execution_role()\n",
    "\n",
    "sagemaker = boto3.client(\"sagemaker\")\n",
    "s3_client = sagemaker_session.boto_session.client(\"s3\")\n",
    "ecr = boto3.client(\"ecr\")\n",
    "sm_runtime = boto3.client(\"sagemaker-runtime\")"
   ]
  },
  {
   "cell_type": "markdown",
   "metadata": {},
   "source": [
    "## 2. Create an endpoint and perform real-time inference"
   ]
  },
  {
   "cell_type": "markdown",
   "metadata": {},
   "source": [
    "If you want to understand how real-time inference with Amazon SageMaker works, see [Documentation](https://docs.aws.amazon.com/sagemaker/latest/dg/how-it-works-hosting.html)."
   ]
  },
  {
   "cell_type": "code",
   "execution_count": 4,
   "metadata": {
    "tags": []
   },
   "outputs": [],
   "source": [
    "model_name = \"rxcui-resolver-pipeline\"\n",
    "\n",
    "real_time_inference_instance_type = \"ml.m4.xlarge\"\n",
    "batch_transform_inference_instance_type = \"ml.m4.xlarge\"\n"
   ]
  },
  {
   "cell_type": "markdown",
   "metadata": {},
   "source": [
    "### A. Create an endpoint"
   ]
  },
  {
   "cell_type": "code",
   "execution_count": 5,
   "metadata": {
    "tags": []
   },
   "outputs": [
    {
     "name": "stdout",
     "output_type": "stream",
     "text": [
      "--------!"
     ]
    }
   ],
   "source": [
    "# create a deployable model from the model package.\n",
    "model = ModelPackage(\n",
    "    role=role, model_package_arn=model_package_arn, sagemaker_session=sagemaker_session\n",
    ")\n",
    "\n",
    "# Deploy the model\n",
    "predictor = model.deploy(1, real_time_inference_instance_type, endpoint_name=model_name)"
   ]
  },
  {
   "cell_type": "markdown",
   "metadata": {},
   "source": [
    "Once endpoint has been created, you would be able to perform real-time inference."
   ]
  },
  {
   "cell_type": "code",
   "execution_count": 6,
   "metadata": {
    "tags": []
   },
   "outputs": [],
   "source": [
    "import json\n",
    "import pandas as pd\n",
    "import os\n",
    "import boto3\n",
    "\n",
    "# Set display options\n",
    "pd.set_option('display.max_rows', None)\n",
    "pd.set_option('display.max_columns', None)\n",
    "pd.set_option('display.max_colwidth', None)\n",
    "\n",
    "def process_data_and_invoke_realtime_endpoint(data, content_type, accept):\n",
    "\n",
    "    content_type_to_format = {'application/json': 'json', 'application/jsonlines': 'jsonl'}\n",
    "    input_format = content_type_to_format.get(content_type)\n",
    "    if content_type not in content_type_to_format.keys() or accept not in content_type_to_format.keys():\n",
    "        raise ValueError(\"Invalid content_type or accept. It should be either 'application/json' or 'application/jsonlines'.\")\n",
    "\n",
    "    i = 1\n",
    "    input_dir = f'inputs/real-time/{input_format}'\n",
    "    output_dir = f'outputs/real-time/{input_format}'\n",
    "    s3_input_dir = f\"{model_name}/validation-input/real-time/{input_format}\"\n",
    "    s3_output_dir = f\"{model_name}/validation-output/real-time/{input_format}\"\n",
    "\n",
    "    input_file_name = f'{input_dir}/input{i}.{input_format}'\n",
    "    output_file_name = f'{output_dir}/{os.path.basename(input_file_name)}.out'\n",
    "\n",
    "    while os.path.exists(input_file_name) or os.path.exists(output_file_name):\n",
    "        i += 1\n",
    "        input_file_name = f'{input_dir}/input{i}.{input_format}'\n",
    "        output_file_name = f'{output_dir}/{os.path.basename(input_file_name)}.out'\n",
    "\n",
    "    os.makedirs(os.path.dirname(input_file_name), exist_ok=True)\n",
    "    os.makedirs(os.path.dirname(output_file_name), exist_ok=True)\n",
    "\n",
    "    input_data = json.dumps(data) if content_type == 'application/json' else data\n",
    "\n",
    "    # Write input data to file\n",
    "    with open(input_file_name, 'w') as f:\n",
    "        f.write(input_data)\n",
    "\n",
    "    # Upload input data to S3\n",
    "    s3_client.put_object(Bucket=s3_bucket, Key=f\"{s3_input_dir}/{os.path.basename(input_file_name)}\", Body=bytes(input_data.encode('UTF-8')))\n",
    "\n",
    "    # Invoke the SageMaker endpoint\n",
    "    response = sm_runtime.invoke_endpoint(\n",
    "        EndpointName=model_name,\n",
    "        ContentType=content_type,\n",
    "        Accept=accept,\n",
    "        Body=input_data,\n",
    "    )\n",
    "\n",
    "    # Read response data\n",
    "    response_data = json.loads(response[\"Body\"].read().decode(\"utf-8\")) if accept == 'application/json' else response['Body'].read().decode('utf-8')\n",
    "\n",
    "    # Save response data to file\n",
    "    with open(output_file_name, 'w') as f_out:\n",
    "        if accept == 'application/json':\n",
    "            json.dump(response_data, f_out, indent=4)\n",
    "        else:\n",
    "            for item in response_data.split('\\n'):\n",
    "                f_out.write(item + '\\n')\n",
    "\n",
    "    # Upload response data to S3\n",
    "    output_s3_key = f\"{s3_output_dir}/{os.path.basename(output_file_name)}\"\n",
    "    if accept == 'application/json':\n",
    "        s3_client.put_object(Bucket=s3_bucket, Key=output_s3_key, Body=json.dumps(response_data).encode('UTF-8'))\n",
    "    else:\n",
    "        s3_client.put_object(Bucket=s3_bucket, Key=output_s3_key, Body=response_data)\n",
    "\n",
    "    return response_data"
   ]
  },
  {
   "cell_type": "markdown",
   "metadata": {},
   "source": [
    "### Initial Setup"
   ]
  },
  {
   "cell_type": "code",
   "execution_count": 7,
   "metadata": {
    "tags": []
   },
   "outputs": [],
   "source": [
    "docs = [\n",
    "    \"She is given folic acid 1 mg daily , levothyroxine 0.1 mg and aspirin 81 mg daily.\",\n",
    "    \"The patient was advised to take Omeprazole 20 mg daily before breakfast for acid reflux.\",\n",
    "]\n",
    "\n",
    "\n",
    "\n",
    "sample_text = \"\"\"He was seen by the endocrinology service and she was discharged on 50 mg of eltrombopag oral at night, 5 mg amlodipine with meals, and metformin 1000 mg two times a day.\"\"\""
   ]
  },
  {
   "cell_type": "markdown",
   "metadata": {},
   "source": [
    "### JSON"
   ]
  },
  {
   "cell_type": "markdown",
   "metadata": {},
   "source": [
    "#### Example 1"
   ]
  },
  {
   "cell_type": "markdown",
   "metadata": {},
   "source": [
    "  **Input format**:\n",
    "  \n",
    "  \n",
    "```json\n",
    "{\n",
    "    \"text\": \"Single text document\"\n",
    "}\n",
    "```"
   ]
  },
  {
   "cell_type": "code",
   "execution_count": 8,
   "metadata": {
    "tags": []
   },
   "outputs": [
    {
     "data": {
      "text/html": [
       "<div>\n",
       "<style scoped>\n",
       "    .dataframe tbody tr th:only-of-type {\n",
       "        vertical-align: middle;\n",
       "    }\n",
       "\n",
       "    .dataframe tbody tr th {\n",
       "        vertical-align: top;\n",
       "    }\n",
       "\n",
       "    .dataframe thead th {\n",
       "        text-align: right;\n",
       "    }\n",
       "</style>\n",
       "<table border=\"1\" class=\"dataframe\">\n",
       "  <thead>\n",
       "    <tr style=\"text-align: right;\">\n",
       "      <th></th>\n",
       "      <th>0</th>\n",
       "      <th>1</th>\n",
       "      <th>2</th>\n",
       "    </tr>\n",
       "  </thead>\n",
       "  <tbody>\n",
       "    <tr>\n",
       "      <th>0</th>\n",
       "      <td>{'ner_chunk': '50 mg of eltrombopag oral', 'begin': 67, 'end': 91, 'ner_label': 'DRUG', 'ner_confidence': '0.72838', 'code': '825427', 'resolution': 'eltrombopag 50 MG Oral Tablet', 'all_k_codes': '825427:::2169316:::2049111:::1804806:::1940374:::1597587:::2049117:::1804804:::1597593:::1606862:::310007:::1940376:::2268229:::2256945:::197323:::832080:::213091:::1747574:::1656056:::2361298:::314277:::1424916:::2256947:::805663:::242339', 'all_k_resolutions': 'eltrombopag 50 MG Oral Tablet:::alpelisib 50 MG Oral Tablet:::encorafenib 50 MG Oral Capsule:::alteplase 50 MG Injection [Activase]:::enasidenib 50 MG Oral Tablet:::olaparib 50 MG Oral Capsule:::encorafenib 50 MG Oral Capsule [Braftovi]:::alteplase 50 MG Injection:::olaparib 50 MG Oral Capsule [Lynparza]:::ivacaftor 50 MG Oral Granules:::dolasetron 50 MG Oral Tablet:::enasidenib 50 MG Oral Tablet [Idhifa]:::ubrogepant 50 MG Oral Tablet:::lasmiditan 50 MG Oral Tablet:::altretamine 50 MG Oral Capsule:::pamabrom 50 MG Oral Capsule:::dolasetron 50 MG Oral Tablet [Anzemet]:::venetoclax 50 MG Oral Tablet:::cangrelor 50 MG Injection:::tucatinib 50 MG Oral Tablet:::venlafaxine 50 MG Oral Tablet:::dabrafenib 50 MG Oral Capsule:::lasmiditan 50 MG Oral Tablet [Reyvow]:::armodafinil 50 MG Oral Tablet [Nuvigil]:::prasterone 50 MG Oral Capsule', 'all_k_distances': '4.3863:::6.1202:::6.1623:::6.2046:::6.3518:::6.4410:::6.4845:::6.5186:::6.5723:::6.5798:::6.7074:::6.7092:::6.7096:::6.7196:::6.7407:::6.7514:::6.7546:::6.7600:::6.7941:::6.8422:::6.8493:::6.8817:::6.9487:::6.9651:::6.9651'}</td>\n",
       "      <td>{'ner_chunk': '5 mg amlodipine', 'begin': 103, 'end': 117, 'ner_label': 'DRUG', 'ner_confidence': '0.5661333', 'code': '197361', 'resolution': 'amlodipine 5 MG Oral Tablet', 'all_k_codes': '197361:::2377371:::387013:::212549:::311354:::2377373:::402131:::310672:::308136:::198286:::351249:::251857:::404602:::198105:::311386:::403957:::1998462:::855818:::204416:::198189:::1649485:::859981:::1364498:::2377367:::1928948', 'all_k_resolutions': 'amlodipine 5 MG Oral Tablet:::levamlodipine 5 MG Oral Tablet:::nebivolol 5 MG Oral Tablet:::amlodipine 5 MG Oral Tablet [Norvasc]:::lisinopril 5 MG Oral Tablet:::levamlodipine 5 MG Oral Tablet [Conjupri]:::aripiprazole 5 MG Oral Tablet:::haloperidol 5 MG Oral Tablet:::amlodipine 2.5 MG Oral Tablet:::timolol 5 MG Oral Tablet:::escitalopram 5 MG Oral Tablet:::ramipril 5 MG Oral Tablet:::aripiprazole 5 MG Oral Tablet [Abilify]:::pindolol 5 MG Oral Tablet:::loxapine 5 MG Oral Capsule:::tadalafil 5 MG Oral Tablet:::Sensor aripiprazole 5 MG Oral Tablet:::prasugrel 5 MG Oral Tablet:::haloperidol 5 MG/ML Injectable Solution:::ramipril 5 MG Oral Capsule:::ivabradine 5 MG Oral Tablet:::asenapine 5 MG Sublingual Tablet:::lomitapide 5 MG Oral Capsule [Juxtapid]:::levamlodipine 2.5 MG Oral Tablet:::dronabinol 5 MG/ML Oral Solution', 'all_k_distances': '5.8704:::6.9994:::8.1125:::8.1422:::8.1812:::8.3356:::8.5179:::8.6665:::8.7202:::8.7215:::8.7282:::8.8417:::8.8832:::8.9053:::8.9880:::8.9968:::9.0577:::9.0718:::9.1269:::9.1561:::9.2993:::9.3102:::9.3740:::9.3744:::9.3887'}</td>\n",
       "      <td>{'ner_chunk': 'metformin 1000 mg', 'begin': 135, 'end': 151, 'ner_label': 'DRUG', 'ner_confidence': '0.6566333', 'code': '861004', 'resolution': 'metformin hydrochloride 1000 MG Oral Tablet', 'all_k_codes': '861004:::1665093:::1791593:::311625:::1665050:::1722919:::847074:::1665102:::1721458:::1734683:::1721475:::2265706:::1664981:::1791595:::636337:::312576:::314234:::861006:::1656313:::239180:::1659283:::1719003:::1734686:::1722939:::259239', 'all_k_resolutions': 'metformin hydrochloride 1000 MG Oral Tablet:::cefepime 1000 MG Injection:::ifosfamide 1000 MG Injection:::methotrexate 1000 MG Injection:::cefazolin 1000 MG Injection:::cefotetan 1000 MG Injection:::taurine 1000 MG Oral Capsule:::cefoxitin 1000 MG Injection:::nafcillin 1000 MG Injection:::ertapenem 1000 MG Injection:::ampicillin 1000 MG Injection:::cefiderocol 1000 MG Injection:::aztreonam 1000 MG Injection:::ifosfamide 1000 MG Injection [Ifex]:::arginine 1000 MG Oral Tablet:::pralidoxime chloride 1000 MG Injection:::sucralfate 1000 MG Oral Tablet:::metformin hydrochloride 1000 MG Oral Tablet [Glucophage]:::cefotaxime 1000 MG Injection:::streptozocin 1000 MG Injection:::ceftazidime 1000 MG Injection:::gemcitabine 1000 MG Injection:::ertapenem 1000 MG Injection [Invanz]:::meropenem 1000 MG Injection:::methylsulfonylmethane 1000 MG Oral Capsule', 'all_k_distances': '7.6530:::7.9156:::8.0231:::8.2641:::8.3148:::8.3268:::8.3818:::8.5330:::8.6651:::8.8939:::8.9300:::8.9750:::8.9791:::8.9887:::9.0031:::9.0475:::9.1031:::9.1230:::9.1530:::9.1641:::9.1799:::9.2634:::9.2652:::9.3453:::9.3501'}</td>\n",
       "    </tr>\n",
       "  </tbody>\n",
       "</table>\n",
       "</div>"
      ],
      "text/plain": [
       "                                                                                                                                                                                                                                                                                                                                                                                                                                                                                                                                                                                                                                                                                                                                                                                                                                                                                                                                                                                                                                                                                                                                                                                                                                                                                                                                                                                                                                                                                                                                                                                                                0  \\\n",
       "0  {'ner_chunk': '50 mg of eltrombopag oral', 'begin': 67, 'end': 91, 'ner_label': 'DRUG', 'ner_confidence': '0.72838', 'code': '825427', 'resolution': 'eltrombopag 50 MG Oral Tablet', 'all_k_codes': '825427:::2169316:::2049111:::1804806:::1940374:::1597587:::2049117:::1804804:::1597593:::1606862:::310007:::1940376:::2268229:::2256945:::197323:::832080:::213091:::1747574:::1656056:::2361298:::314277:::1424916:::2256947:::805663:::242339', 'all_k_resolutions': 'eltrombopag 50 MG Oral Tablet:::alpelisib 50 MG Oral Tablet:::encorafenib 50 MG Oral Capsule:::alteplase 50 MG Injection [Activase]:::enasidenib 50 MG Oral Tablet:::olaparib 50 MG Oral Capsule:::encorafenib 50 MG Oral Capsule [Braftovi]:::alteplase 50 MG Injection:::olaparib 50 MG Oral Capsule [Lynparza]:::ivacaftor 50 MG Oral Granules:::dolasetron 50 MG Oral Tablet:::enasidenib 50 MG Oral Tablet [Idhifa]:::ubrogepant 50 MG Oral Tablet:::lasmiditan 50 MG Oral Tablet:::altretamine 50 MG Oral Capsule:::pamabrom 50 MG Oral Capsule:::dolasetron 50 MG Oral Tablet [Anzemet]:::venetoclax 50 MG Oral Tablet:::cangrelor 50 MG Injection:::tucatinib 50 MG Oral Tablet:::venlafaxine 50 MG Oral Tablet:::dabrafenib 50 MG Oral Capsule:::lasmiditan 50 MG Oral Tablet [Reyvow]:::armodafinil 50 MG Oral Tablet [Nuvigil]:::prasterone 50 MG Oral Capsule', 'all_k_distances': '4.3863:::6.1202:::6.1623:::6.2046:::6.3518:::6.4410:::6.4845:::6.5186:::6.5723:::6.5798:::6.7074:::6.7092:::6.7096:::6.7196:::6.7407:::6.7514:::6.7546:::6.7600:::6.7941:::6.8422:::6.8493:::6.8817:::6.9487:::6.9651:::6.9651'}   \n",
       "\n",
       "                                                                                                                                                                                                                                                                                                                                                                                                                                                                                                                                                                                                                                                                                                                                                                                                                                                                                                                                                                                                                                                                                                                                                                                                                                                                                                                                                                                                                                                                                                                                                                                  1  \\\n",
       "0  {'ner_chunk': '5 mg amlodipine', 'begin': 103, 'end': 117, 'ner_label': 'DRUG', 'ner_confidence': '0.5661333', 'code': '197361', 'resolution': 'amlodipine 5 MG Oral Tablet', 'all_k_codes': '197361:::2377371:::387013:::212549:::311354:::2377373:::402131:::310672:::308136:::198286:::351249:::251857:::404602:::198105:::311386:::403957:::1998462:::855818:::204416:::198189:::1649485:::859981:::1364498:::2377367:::1928948', 'all_k_resolutions': 'amlodipine 5 MG Oral Tablet:::levamlodipine 5 MG Oral Tablet:::nebivolol 5 MG Oral Tablet:::amlodipine 5 MG Oral Tablet [Norvasc]:::lisinopril 5 MG Oral Tablet:::levamlodipine 5 MG Oral Tablet [Conjupri]:::aripiprazole 5 MG Oral Tablet:::haloperidol 5 MG Oral Tablet:::amlodipine 2.5 MG Oral Tablet:::timolol 5 MG Oral Tablet:::escitalopram 5 MG Oral Tablet:::ramipril 5 MG Oral Tablet:::aripiprazole 5 MG Oral Tablet [Abilify]:::pindolol 5 MG Oral Tablet:::loxapine 5 MG Oral Capsule:::tadalafil 5 MG Oral Tablet:::Sensor aripiprazole 5 MG Oral Tablet:::prasugrel 5 MG Oral Tablet:::haloperidol 5 MG/ML Injectable Solution:::ramipril 5 MG Oral Capsule:::ivabradine 5 MG Oral Tablet:::asenapine 5 MG Sublingual Tablet:::lomitapide 5 MG Oral Capsule [Juxtapid]:::levamlodipine 2.5 MG Oral Tablet:::dronabinol 5 MG/ML Oral Solution', 'all_k_distances': '5.8704:::6.9994:::8.1125:::8.1422:::8.1812:::8.3356:::8.5179:::8.6665:::8.7202:::8.7215:::8.7282:::8.8417:::8.8832:::8.9053:::8.9880:::8.9968:::9.0577:::9.0718:::9.1269:::9.1561:::9.2993:::9.3102:::9.3740:::9.3744:::9.3887'}   \n",
       "\n",
       "                                                                                                                                                                                                                                                                                                                                                                                                                                                                                                                                                                                                                                                                                                                                                                                                                                                                                                                                                                                                                                                                                                                                                                                                                                                                                                                                                                                                                                                                                                                                                                                                                                      2  \n",
       "0  {'ner_chunk': 'metformin 1000 mg', 'begin': 135, 'end': 151, 'ner_label': 'DRUG', 'ner_confidence': '0.6566333', 'code': '861004', 'resolution': 'metformin hydrochloride 1000 MG Oral Tablet', 'all_k_codes': '861004:::1665093:::1791593:::311625:::1665050:::1722919:::847074:::1665102:::1721458:::1734683:::1721475:::2265706:::1664981:::1791595:::636337:::312576:::314234:::861006:::1656313:::239180:::1659283:::1719003:::1734686:::1722939:::259239', 'all_k_resolutions': 'metformin hydrochloride 1000 MG Oral Tablet:::cefepime 1000 MG Injection:::ifosfamide 1000 MG Injection:::methotrexate 1000 MG Injection:::cefazolin 1000 MG Injection:::cefotetan 1000 MG Injection:::taurine 1000 MG Oral Capsule:::cefoxitin 1000 MG Injection:::nafcillin 1000 MG Injection:::ertapenem 1000 MG Injection:::ampicillin 1000 MG Injection:::cefiderocol 1000 MG Injection:::aztreonam 1000 MG Injection:::ifosfamide 1000 MG Injection [Ifex]:::arginine 1000 MG Oral Tablet:::pralidoxime chloride 1000 MG Injection:::sucralfate 1000 MG Oral Tablet:::metformin hydrochloride 1000 MG Oral Tablet [Glucophage]:::cefotaxime 1000 MG Injection:::streptozocin 1000 MG Injection:::ceftazidime 1000 MG Injection:::gemcitabine 1000 MG Injection:::ertapenem 1000 MG Injection [Invanz]:::meropenem 1000 MG Injection:::methylsulfonylmethane 1000 MG Oral Capsule', 'all_k_distances': '7.6530:::7.9156:::8.0231:::8.2641:::8.3148:::8.3268:::8.3818:::8.5330:::8.6651:::8.8939:::8.9300:::8.9750:::8.9791:::8.9887:::9.0031:::9.0475:::9.1031:::9.1230:::9.1530:::9.1641:::9.1799:::9.2634:::9.2652:::9.3453:::9.3501'}  "
      ]
     },
     "execution_count": 8,
     "metadata": {},
     "output_type": "execute_result"
    }
   ],
   "source": [
    "input_json_data = {\"text\": sample_text}\n",
    "\n",
    "data =  process_data_and_invoke_realtime_endpoint(input_json_data, content_type=\"application/json\" , accept=\"application/json\" )\n",
    "pd.DataFrame(data[\"predictions\"])"
   ]
  },
  {
   "cell_type": "markdown",
   "metadata": {},
   "source": [
    "#### Example 2"
   ]
  },
  {
   "cell_type": "markdown",
   "metadata": {},
   "source": [
    "  **Input format**:\n",
    "  \n",
    "  \n",
    "```json\n",
    "{\n",
    "    \"text\": [\n",
    "        \"Text document 1\",\n",
    "        \"Text document 2\",\n",
    "        ...\n",
    "    ]\n",
    "}\n",
    "```"
   ]
  },
  {
   "cell_type": "code",
   "execution_count": 9,
   "metadata": {
    "tags": []
   },
   "outputs": [
    {
     "data": {
      "text/html": [
       "<div>\n",
       "<style scoped>\n",
       "    .dataframe tbody tr th:only-of-type {\n",
       "        vertical-align: middle;\n",
       "    }\n",
       "\n",
       "    .dataframe tbody tr th {\n",
       "        vertical-align: top;\n",
       "    }\n",
       "\n",
       "    .dataframe thead th {\n",
       "        text-align: right;\n",
       "    }\n",
       "</style>\n",
       "<table border=\"1\" class=\"dataframe\">\n",
       "  <thead>\n",
       "    <tr style=\"text-align: right;\">\n",
       "      <th></th>\n",
       "      <th>0</th>\n",
       "      <th>1</th>\n",
       "      <th>2</th>\n",
       "    </tr>\n",
       "  </thead>\n",
       "  <tbody>\n",
       "    <tr>\n",
       "      <th>0</th>\n",
       "      <td>{'ner_chunk': 'folic acid 1 mg', 'begin': 13, 'end': 27, 'ner_label': 'DRUG', 'ner_confidence': '0.67852503', 'code': '310410', 'resolution': 'folic acid 1 MG Oral Tablet', 'all_k_codes': '310410:::846934:::245557:::253083:::1601112:::242698:::476628:::1423423:::1539820:::309594:::199364:::310313:::309593:::747193:::2168763:::1718589:::808611:::309595:::1537458:::198640:::197658:::847004:::198641:::351121:::542045', 'all_k_resolutions': 'folic acid 1 MG Oral Tablet:::mecobalamin 1 MG Oral Capsule:::vitamin B12 1 MG Oral Capsule:::folic acid 0.8 MG / vitamin B12 1 MG Oral Tablet:::mecobalamin 1 MG Oral Lozenge:::vitamin B12 1 MG Oral Lozenge:::folic acid 1 MG / vitamin B12 0.5 MG Oral Tablet:::vitamin B12 1 MG/ML Oral Solution:::mecobalamin 1 MG Sublingual Tablet:::vitamin B12 1 MG/ML Injectable Solution:::vitamin B12 0.1 MG Oral Lozenge:::ferrous fumarate 324 MG / folic acid 1 MG Oral Tablet:::vitamin B12 1 MG Oral Tablet:::topotecan 1 MG Oral Capsule:::tesamorelin 1 MG Injection:::trabectedin 1 MG Injection:::folic acid 0.4 MG / vitamin B12 1 MG Sublingual Tablet:::vitamin B12 0.1 MG Oral Tablet:::vitamin K2 0.1 MG Oral Capsule:::folic acid 0.4 MG Oral Tablet:::estradiol 1 MG Oral Tablet:::vitamin K 0.1 MG Oral Capsule:::folic acid 0.8 MG Oral Tablet:::minocycline 1 MG Oral Powder:::folic acid 1 MG / vitamin B12 0.5 MG Oral Tablet [Foltrate]', 'all_k_distances': '5.7442:::9.2313:::9.5890:::9.8275:::10.0312:::10.0557:::10.0979:::10.1475:::10.2895:::10.3375:::10.3431:::10.3516:::10.3565:::10.3957:::10.4176:::10.4224:::10.4279:::10.4507:::10.4579:::10.5116:::10.5552:::10.6201:::10.6259:::10.7205:::10.7346'}</td>\n",
       "      <td>{'ner_chunk': 'levothyroxine 0.1 mg', 'begin': 37, 'end': 56, 'ner_label': 'DRUG', 'ner_confidence': '0.8457667', 'code': '1115267', 'resolution': 'levothyroxine sodium 0.1 MG Injection', 'all_k_codes': '1115267:::966404:::892246:::2056480:::966412:::966178:::966177:::2056492:::966283:::966233:::966219:::1115269:::2056482:::892251:::966415:::966250:::1923050:::966406:::2056494:::966220:::903305:::966221:::2056462:::966434:::2056508', 'all_k_resolutions': 'levothyroxine sodium 0.1 MG Injection:::levothyroxine sodium 0.1 MG Oral Capsule:::levothyroxine sodium 0.1 MG Oral Tablet:::levothyroxine sodium 0.1 MG/ML Oral Solution:::levothyroxine sodium 0.013 MG Oral Capsule:::levothyroxine sodium 0.1 MG Oral Tablet [Levo-T]:::levothyroxine sodium 0.1 MG Oral Tablet [Euthyrox]:::levothyroxine sodium 0.013 MG/ML Oral Solution:::levothyroxine sodium 0.1 MG Oral Tablet [Levoxyl]:::levothyroxine sodium 0.1 MG Oral Tablet [Unithroid]:::levothyroxine sodium 0.5 MG Injection:::levothyroxine sodium 0.2 MG Injection:::levothyroxine sodium 0.1 MG/ML Oral Solution [Tirosint]:::levothyroxine sodium 0.2 MG Oral Tablet:::levothyroxine sodium 0.1 MG Oral Capsule [Tirosint]:::levothyroxine sodium 0.1 MG Oral Tablet [Synthroid]:::levothyroxine sodium 0.2 MG Oral Capsule:::levothyroxine sodium 0.025 MG Oral Capsule:::levothyroxine sodium 0.013 MG/ML Oral Solution [Tirosint]:::levothyroxine sodium 0.025 MG Oral Tablet:::levothyroxine sodium 0.1 MG / liothyronine sodium 0.025 MG Oral Tablet:::levothyroxine sodium 0.05 MG Oral Tablet:::levothyroxine sodium 0.025 MG/ML Oral Solution:::levothyroxine sodium 0.013 MG Oral Capsule [Tirosint]:::levothyroxine sodium 0.2 MG/ML Oral Solution', 'all_k_distances': '4.4075:::5.2968:::5.9096:::6.1731:::6.4272:::6.8615:::6.8961:::6.9876:::7.1843:::7.2156:::7.4194:::7.6961:::7.7001:::7.8607:::7.8886:::7.9190:::7.9832:::8.0875:::8.0901:::8.0907:::8.1956:::8.4002:::8.4002:::8.4422:::8.4554'}</td>\n",
       "      <td>{'ner_chunk': 'aspirin 81 mg', 'begin': 62, 'end': 74, 'ner_label': 'DRUG', 'ner_confidence': '0.72886664', 'code': '243670', 'resolution': 'aspirin 81 MG Oral Tablet', 'all_k_codes': '243670:::318272:::825180:::308416:::211832:::794229:::1600991:::1189781:::1293665:::749795:::198475:::1052678:::1722689:::212033:::211874:::830530:::1537811:::260847:::211881:::200094:::309362:::1811631:::1537813:::308411:::1868018', 'all_k_resolutions': 'aspirin 81 MG Oral Tablet:::aspirin 81 MG Chewable Tablet:::aspirin 81 MG Chewable Tablet [Bayer Aspirin]:::aspirin 81 MG Delayed Release Oral Tablet:::aspirin 81 MG Chewable Tablet [St. Joseph Aspirin]:::aspirin 81 MG Delayed Release Oral Tablet [Bayer Aspirin]:::aspirin 81 MG Delayed Release Oral Tablet [Aspi-Cor]:::aspirin 81 MG Delayed Release Oral Tablet [Ecotrin]:::aspirin 81 MG Delayed Release Oral Tablet [Aspir-Low]:::aspirin 81 MG Delayed Release Oral Tablet [St. Joseph Aspirin]:::aspirin 650 MG Oral Tablet:::aspirin 81 MG Delayed Release Oral Tablet [Miniprin]:::aspirin 81 MG / calcium carbonate 777 MG Oral Tablet:::aspirin 325 MG Oral Tablet:::aspirin 325 MG Oral Tablet [Bayer Aspirin]:::aspirin 325 MG Oral Tablet [Ascriptin]:::thyroid (USP) 81.25 MG Oral Tablet:::aspirin 325 MG Oral Tablet [Bufferin]:::aspirin 325 MG Oral Tablet [Norwich Aspirin]:::irbesartan 75 MG Oral Tablet:::clopidogrel 75 MG Oral Tablet:::aspirin 81 MG / omeprazole 40 MG Delayed Release Oral Tablet:::thyroid (USP) 81.25 MG Oral Tablet [Nature-Throid]:::aspirin 650 MG Delayed Release Oral Tablet:::pirfenidone 801 MG Oral Tablet', 'all_k_distances': '5.4893:::6.9901:::7.8179:::8.9043:::9.2353:::9.7630:::10.1986:::10.3105:::10.5885:::10.7033:::10.7931:::10.8463:::10.8997:::11.1216:::11.3189:::11.5512:::11.7277:::11.9489:::12.2012:::12.3519:::12.4348:::12.4479:::12.4872:::12.6174:::12.6256'}</td>\n",
       "    </tr>\n",
       "    <tr>\n",
       "      <th>1</th>\n",
       "      <td>{'ner_chunk': 'Omeprazole 20 mg', 'begin': 32, 'end': 47, 'ner_label': 'DRUG', 'ner_confidence': '0.69296664', 'code': '486499', 'resolution': 'esomeprazole 20 MG Injection', 'all_k_codes': '486499:::2383946:::692576:::2383951:::310604:::359822:::198051:::198371:::1364492:::849490:::861576:::1492740:::2003656:::1798999:::404419:::309077:::310429:::861064:::314286:::198108:::313209:::402014:::606726:::282755:::310273', 'all_k_resolutions': 'esomeprazole 20 MG Injection:::remimazolam 20 MG Injection:::esomeprazole 20 MG Granules for Oral Suspension:::remimazolam 20 MG Injection [Byfavo]:::guaifenesin 20 MG/ML Oral Solution:::nitazoxanide 20 MG/ML Oral Suspension:::omeprazole 20 MG Delayed Release Oral Capsule:::torsemide 20 MG Oral Tablet:::lomitapide 20 MG Oral Capsule:::ubiquinol 20 MG/ML Oral Suspension:::esomeprazole 20 MG Granules for Oral Suspension [Nexium]:::apremilast 20 MG Oral Tablet:::omeprazole 20 MG Disintegrating Oral Tablet:::nitisinone 20 MG Oral Capsule:::nitazoxanide 20 MG/ML Oral Suspension [Alinia]:::cefpodoxime 20 MG/ML Oral Suspension:::furosemide 20 MG Oral Tablet:::sertraline 20 MG/ML Oral Solution:::ziprasidone 20 MG Oral Capsule:::piroxicam 20 MG Oral Capsule:::temozolomide 20 MG Oral Capsule:::omeprazole 20 MG Delayed Release Oral Tablet:::esomeprazole 20 MG Delayed Release Oral Capsule:::telmisartan 20 MG Oral Tablet:::famotidine 20 MG Oral Tablet', 'all_k_distances': '4.9903:::6.0834:::6.8979:::6.9281:::7.1126:::7.2742:::7.4081:::7.4391:::7.4920:::7.5637:::7.5672:::7.5835:::7.5877:::7.6181:::7.6373:::7.6537:::7.6697:::7.6973:::7.7172:::7.7291:::7.7403:::7.7719:::7.7767:::7.7876:::7.8318'}</td>\n",
       "      <td>None</td>\n",
       "      <td>None</td>\n",
       "    </tr>\n",
       "  </tbody>\n",
       "</table>\n",
       "</div>"
      ],
      "text/plain": [
       "                                                                                                                                                                                                                                                                                                                                                                                                                                                                                                                                                                                                                                                                                                                                                                                                                                                                                                                                                                                                                                                                                                                                                                                                                                                                                                                                                                                                                                                                                                                                                                                                                                                                                                             0  \\\n",
       "0             {'ner_chunk': 'folic acid 1 mg', 'begin': 13, 'end': 27, 'ner_label': 'DRUG', 'ner_confidence': '0.67852503', 'code': '310410', 'resolution': 'folic acid 1 MG Oral Tablet', 'all_k_codes': '310410:::846934:::245557:::253083:::1601112:::242698:::476628:::1423423:::1539820:::309594:::199364:::310313:::309593:::747193:::2168763:::1718589:::808611:::309595:::1537458:::198640:::197658:::847004:::198641:::351121:::542045', 'all_k_resolutions': 'folic acid 1 MG Oral Tablet:::mecobalamin 1 MG Oral Capsule:::vitamin B12 1 MG Oral Capsule:::folic acid 0.8 MG / vitamin B12 1 MG Oral Tablet:::mecobalamin 1 MG Oral Lozenge:::vitamin B12 1 MG Oral Lozenge:::folic acid 1 MG / vitamin B12 0.5 MG Oral Tablet:::vitamin B12 1 MG/ML Oral Solution:::mecobalamin 1 MG Sublingual Tablet:::vitamin B12 1 MG/ML Injectable Solution:::vitamin B12 0.1 MG Oral Lozenge:::ferrous fumarate 324 MG / folic acid 1 MG Oral Tablet:::vitamin B12 1 MG Oral Tablet:::topotecan 1 MG Oral Capsule:::tesamorelin 1 MG Injection:::trabectedin 1 MG Injection:::folic acid 0.4 MG / vitamin B12 1 MG Sublingual Tablet:::vitamin B12 0.1 MG Oral Tablet:::vitamin K2 0.1 MG Oral Capsule:::folic acid 0.4 MG Oral Tablet:::estradiol 1 MG Oral Tablet:::vitamin K 0.1 MG Oral Capsule:::folic acid 0.8 MG Oral Tablet:::minocycline 1 MG Oral Powder:::folic acid 1 MG / vitamin B12 0.5 MG Oral Tablet [Foltrate]', 'all_k_distances': '5.7442:::9.2313:::9.5890:::9.8275:::10.0312:::10.0557:::10.0979:::10.1475:::10.2895:::10.3375:::10.3431:::10.3516:::10.3565:::10.3957:::10.4176:::10.4224:::10.4279:::10.4507:::10.4579:::10.5116:::10.5552:::10.6201:::10.6259:::10.7205:::10.7346'}   \n",
       "1  {'ner_chunk': 'Omeprazole 20 mg', 'begin': 32, 'end': 47, 'ner_label': 'DRUG', 'ner_confidence': '0.69296664', 'code': '486499', 'resolution': 'esomeprazole 20 MG Injection', 'all_k_codes': '486499:::2383946:::692576:::2383951:::310604:::359822:::198051:::198371:::1364492:::849490:::861576:::1492740:::2003656:::1798999:::404419:::309077:::310429:::861064:::314286:::198108:::313209:::402014:::606726:::282755:::310273', 'all_k_resolutions': 'esomeprazole 20 MG Injection:::remimazolam 20 MG Injection:::esomeprazole 20 MG Granules for Oral Suspension:::remimazolam 20 MG Injection [Byfavo]:::guaifenesin 20 MG/ML Oral Solution:::nitazoxanide 20 MG/ML Oral Suspension:::omeprazole 20 MG Delayed Release Oral Capsule:::torsemide 20 MG Oral Tablet:::lomitapide 20 MG Oral Capsule:::ubiquinol 20 MG/ML Oral Suspension:::esomeprazole 20 MG Granules for Oral Suspension [Nexium]:::apremilast 20 MG Oral Tablet:::omeprazole 20 MG Disintegrating Oral Tablet:::nitisinone 20 MG Oral Capsule:::nitazoxanide 20 MG/ML Oral Suspension [Alinia]:::cefpodoxime 20 MG/ML Oral Suspension:::furosemide 20 MG Oral Tablet:::sertraline 20 MG/ML Oral Solution:::ziprasidone 20 MG Oral Capsule:::piroxicam 20 MG Oral Capsule:::temozolomide 20 MG Oral Capsule:::omeprazole 20 MG Delayed Release Oral Tablet:::esomeprazole 20 MG Delayed Release Oral Capsule:::telmisartan 20 MG Oral Tablet:::famotidine 20 MG Oral Tablet', 'all_k_distances': '4.9903:::6.0834:::6.8979:::6.9281:::7.1126:::7.2742:::7.4081:::7.4391:::7.4920:::7.5637:::7.5672:::7.5835:::7.5877:::7.6181:::7.6373:::7.6537:::7.6697:::7.6973:::7.7172:::7.7291:::7.7403:::7.7719:::7.7767:::7.7876:::7.8318'}   \n",
       "\n",
       "                                                                                                                                                                                                                                                                                                                                                                                                                                                                                                                                                                                                                                                                                                                                                                                                                                                                                                                                                                                                                                                                                                                                                                                                                                                                                                                                                                                                                                                                                                                                                                                                                                                                                                                                                                                                                                                                                                                                                                                                          1  \\\n",
       "0  {'ner_chunk': 'levothyroxine 0.1 mg', 'begin': 37, 'end': 56, 'ner_label': 'DRUG', 'ner_confidence': '0.8457667', 'code': '1115267', 'resolution': 'levothyroxine sodium 0.1 MG Injection', 'all_k_codes': '1115267:::966404:::892246:::2056480:::966412:::966178:::966177:::2056492:::966283:::966233:::966219:::1115269:::2056482:::892251:::966415:::966250:::1923050:::966406:::2056494:::966220:::903305:::966221:::2056462:::966434:::2056508', 'all_k_resolutions': 'levothyroxine sodium 0.1 MG Injection:::levothyroxine sodium 0.1 MG Oral Capsule:::levothyroxine sodium 0.1 MG Oral Tablet:::levothyroxine sodium 0.1 MG/ML Oral Solution:::levothyroxine sodium 0.013 MG Oral Capsule:::levothyroxine sodium 0.1 MG Oral Tablet [Levo-T]:::levothyroxine sodium 0.1 MG Oral Tablet [Euthyrox]:::levothyroxine sodium 0.013 MG/ML Oral Solution:::levothyroxine sodium 0.1 MG Oral Tablet [Levoxyl]:::levothyroxine sodium 0.1 MG Oral Tablet [Unithroid]:::levothyroxine sodium 0.5 MG Injection:::levothyroxine sodium 0.2 MG Injection:::levothyroxine sodium 0.1 MG/ML Oral Solution [Tirosint]:::levothyroxine sodium 0.2 MG Oral Tablet:::levothyroxine sodium 0.1 MG Oral Capsule [Tirosint]:::levothyroxine sodium 0.1 MG Oral Tablet [Synthroid]:::levothyroxine sodium 0.2 MG Oral Capsule:::levothyroxine sodium 0.025 MG Oral Capsule:::levothyroxine sodium 0.013 MG/ML Oral Solution [Tirosint]:::levothyroxine sodium 0.025 MG Oral Tablet:::levothyroxine sodium 0.1 MG / liothyronine sodium 0.025 MG Oral Tablet:::levothyroxine sodium 0.05 MG Oral Tablet:::levothyroxine sodium 0.025 MG/ML Oral Solution:::levothyroxine sodium 0.013 MG Oral Capsule [Tirosint]:::levothyroxine sodium 0.2 MG/ML Oral Solution', 'all_k_distances': '4.4075:::5.2968:::5.9096:::6.1731:::6.4272:::6.8615:::6.8961:::6.9876:::7.1843:::7.2156:::7.4194:::7.6961:::7.7001:::7.8607:::7.8886:::7.9190:::7.9832:::8.0875:::8.0901:::8.0907:::8.1956:::8.4002:::8.4002:::8.4422:::8.4554'}   \n",
       "1                                                                                                                                                                                                                                                                                                                                                                                                                                                                                                                                                                                                                                                                                                                                                                                                                                                                                                                                                                                                                                                                                                                                                                                                                                                                                                                                                                                                                                                                                                                                                                                                                                                                                                                                                                                                                                                                                                                                                                                                      None   \n",
       "\n",
       "                                                                                                                                                                                                                                                                                                                                                                                                                                                                                                                                                                                                                                                                                                                                                                                                                                                                                                                                                                                                                                                                                                                                                                                                                                                                                                                                                                                                                                                                                                                                                                                                                                                                                                                                                                                                                                                                                                            2  \n",
       "0  {'ner_chunk': 'aspirin 81 mg', 'begin': 62, 'end': 74, 'ner_label': 'DRUG', 'ner_confidence': '0.72886664', 'code': '243670', 'resolution': 'aspirin 81 MG Oral Tablet', 'all_k_codes': '243670:::318272:::825180:::308416:::211832:::794229:::1600991:::1189781:::1293665:::749795:::198475:::1052678:::1722689:::212033:::211874:::830530:::1537811:::260847:::211881:::200094:::309362:::1811631:::1537813:::308411:::1868018', 'all_k_resolutions': 'aspirin 81 MG Oral Tablet:::aspirin 81 MG Chewable Tablet:::aspirin 81 MG Chewable Tablet [Bayer Aspirin]:::aspirin 81 MG Delayed Release Oral Tablet:::aspirin 81 MG Chewable Tablet [St. Joseph Aspirin]:::aspirin 81 MG Delayed Release Oral Tablet [Bayer Aspirin]:::aspirin 81 MG Delayed Release Oral Tablet [Aspi-Cor]:::aspirin 81 MG Delayed Release Oral Tablet [Ecotrin]:::aspirin 81 MG Delayed Release Oral Tablet [Aspir-Low]:::aspirin 81 MG Delayed Release Oral Tablet [St. Joseph Aspirin]:::aspirin 650 MG Oral Tablet:::aspirin 81 MG Delayed Release Oral Tablet [Miniprin]:::aspirin 81 MG / calcium carbonate 777 MG Oral Tablet:::aspirin 325 MG Oral Tablet:::aspirin 325 MG Oral Tablet [Bayer Aspirin]:::aspirin 325 MG Oral Tablet [Ascriptin]:::thyroid (USP) 81.25 MG Oral Tablet:::aspirin 325 MG Oral Tablet [Bufferin]:::aspirin 325 MG Oral Tablet [Norwich Aspirin]:::irbesartan 75 MG Oral Tablet:::clopidogrel 75 MG Oral Tablet:::aspirin 81 MG / omeprazole 40 MG Delayed Release Oral Tablet:::thyroid (USP) 81.25 MG Oral Tablet [Nature-Throid]:::aspirin 650 MG Delayed Release Oral Tablet:::pirfenidone 801 MG Oral Tablet', 'all_k_distances': '5.4893:::6.9901:::7.8179:::8.9043:::9.2353:::9.7630:::10.1986:::10.3105:::10.5885:::10.7033:::10.7931:::10.8463:::10.8997:::11.1216:::11.3189:::11.5512:::11.7277:::11.9489:::12.2012:::12.3519:::12.4348:::12.4479:::12.4872:::12.6174:::12.6256'}  \n",
       "1                                                                                                                                                                                                                                                                                                                                                                                                                                                                                                                                                                                                                                                                                                                                                                                                                                                                                                                                                                                                                                                                                                                                                                                                                                                                                                                                                                                                                                                                                                                                                                                                                                                                                                                                                                                                                                                                                                        None  "
      ]
     },
     "execution_count": 9,
     "metadata": {},
     "output_type": "execute_result"
    }
   ],
   "source": [
    "input_json_data = {\"text\": docs}\n",
    "\n",
    "data =  process_data_and_invoke_realtime_endpoint(input_json_data, content_type=\"application/json\" , accept=\"application/json\" )\n",
    "pd.DataFrame(data[\"predictions\"])"
   ]
  },
  {
   "cell_type": "markdown",
   "metadata": {},
   "source": [
    "### JSON Lines"
   ]
  },
  {
   "cell_type": "code",
   "execution_count": 10,
   "metadata": {
    "tags": []
   },
   "outputs": [],
   "source": [
    "import json\n",
    "\n",
    "def create_jsonl(records):\n",
    "    json_records = []\n",
    "\n",
    "    for text in records:\n",
    "        record = {\n",
    "            \"text\": text\n",
    "        }\n",
    "        json_records.append(record)\n",
    "\n",
    "    json_lines = '\\n'.join(json.dumps(record) for record in json_records)\n",
    "\n",
    "    return json_lines\n",
    "\n",
    "input_jsonl_data = create_jsonl(docs)"
   ]
  },
  {
   "cell_type": "markdown",
   "metadata": {},
   "source": [
    "#### Example 1"
   ]
  },
  {
   "cell_type": "markdown",
   "metadata": {},
   "source": [
    "  **Input format**:\n",
    "  \n",
    "```json\n",
    "{\"text\": \"Text document 1\"}\n",
    "{\"text\": \"Text document 2\"}\n",
    "```"
   ]
  },
  {
   "cell_type": "code",
   "execution_count": 11,
   "metadata": {
    "tags": []
   },
   "outputs": [
    {
     "name": "stdout",
     "output_type": "stream",
     "text": [
      "{\"predictions\": [{\"ner_chunk\": \"folic acid 1 mg\", \"begin\": 13, \"end\": 27, \"ner_label\": \"DRUG\", \"ner_confidence\": \"0.67852503\", \"code\": \"310410\", \"resolution\": \"folic acid 1 MG Oral Tablet\", \"all_k_codes\": \"310410:::846934:::245557:::253083:::1601112:::242698:::476628:::1423423:::1539820:::309594:::199364:::310313:::309593:::747193:::2168763:::1718589:::808611:::309595:::1537458:::198640:::197658:::847004:::198641:::351121:::542045\", \"all_k_resolutions\": \"folic acid 1 MG Oral Tablet:::mecobalamin 1 MG Oral Capsule:::vitamin B12 1 MG Oral Capsule:::folic acid 0.8 MG / vitamin B12 1 MG Oral Tablet:::mecobalamin 1 MG Oral Lozenge:::vitamin B12 1 MG Oral Lozenge:::folic acid 1 MG / vitamin B12 0.5 MG Oral Tablet:::vitamin B12 1 MG/ML Oral Solution:::mecobalamin 1 MG Sublingual Tablet:::vitamin B12 1 MG/ML Injectable Solution:::vitamin B12 0.1 MG Oral Lozenge:::ferrous fumarate 324 MG / folic acid 1 MG Oral Tablet:::vitamin B12 1 MG Oral Tablet:::topotecan 1 MG Oral Capsule:::tesamorelin 1 MG Injection:::trabectedin 1 MG Injection:::folic acid 0.4 MG / vitamin B12 1 MG Sublingual Tablet:::vitamin B12 0.1 MG Oral Tablet:::vitamin K2 0.1 MG Oral Capsule:::folic acid 0.4 MG Oral Tablet:::estradiol 1 MG Oral Tablet:::vitamin K 0.1 MG Oral Capsule:::folic acid 0.8 MG Oral Tablet:::minocycline 1 MG Oral Powder:::folic acid 1 MG / vitamin B12 0.5 MG Oral Tablet [Foltrate]\", \"all_k_distances\": \"5.7442:::9.2313:::9.5890:::9.8275:::10.0312:::10.0557:::10.0979:::10.1475:::10.2895:::10.3375:::10.3431:::10.3516:::10.3565:::10.3957:::10.4176:::10.4224:::10.4279:::10.4507:::10.4579:::10.5116:::10.5552:::10.6201:::10.6259:::10.7205:::10.7346\"}, {\"ner_chunk\": \"levothyroxine 0.1 mg\", \"begin\": 37, \"end\": 56, \"ner_label\": \"DRUG\", \"ner_confidence\": \"0.8457667\", \"code\": \"1115267\", \"resolution\": \"levothyroxine sodium 0.1 MG Injection\", \"all_k_codes\": \"1115267:::966404:::892246:::2056480:::966412:::966178:::966177:::2056492:::966283:::966233:::966219:::1115269:::2056482:::892251:::966415:::966250:::1923050:::966406:::2056494:::966220:::903305:::966221:::2056462:::966434:::2056508\", \"all_k_resolutions\": \"levothyroxine sodium 0.1 MG Injection:::levothyroxine sodium 0.1 MG Oral Capsule:::levothyroxine sodium 0.1 MG Oral Tablet:::levothyroxine sodium 0.1 MG/ML Oral Solution:::levothyroxine sodium 0.013 MG Oral Capsule:::levothyroxine sodium 0.1 MG Oral Tablet [Levo-T]:::levothyroxine sodium 0.1 MG Oral Tablet [Euthyrox]:::levothyroxine sodium 0.013 MG/ML Oral Solution:::levothyroxine sodium 0.1 MG Oral Tablet [Levoxyl]:::levothyroxine sodium 0.1 MG Oral Tablet [Unithroid]:::levothyroxine sodium 0.5 MG Injection:::levothyroxine sodium 0.2 MG Injection:::levothyroxine sodium 0.1 MG/ML Oral Solution [Tirosint]:::levothyroxine sodium 0.2 MG Oral Tablet:::levothyroxine sodium 0.1 MG Oral Capsule [Tirosint]:::levothyroxine sodium 0.1 MG Oral Tablet [Synthroid]:::levothyroxine sodium 0.2 MG Oral Capsule:::levothyroxine sodium 0.025 MG Oral Capsule:::levothyroxine sodium 0.013 MG/ML Oral Solution [Tirosint]:::levothyroxine sodium 0.025 MG Oral Tablet:::levothyroxine sodium 0.1 MG / liothyronine sodium 0.025 MG Oral Tablet:::levothyroxine sodium 0.05 MG Oral Tablet:::levothyroxine sodium 0.025 MG/ML Oral Solution:::levothyroxine sodium 0.013 MG Oral Capsule [Tirosint]:::levothyroxine sodium 0.2 MG/ML Oral Solution\", \"all_k_distances\": \"4.4075:::5.2968:::5.9096:::6.1731:::6.4272:::6.8615:::6.8961:::6.9876:::7.1843:::7.2156:::7.4194:::7.6961:::7.7001:::7.8607:::7.8886:::7.9190:::7.9832:::8.0875:::8.0901:::8.0907:::8.1956:::8.4002:::8.4002:::8.4422:::8.4554\"}, {\"ner_chunk\": \"aspirin 81 mg\", \"begin\": 62, \"end\": 74, \"ner_label\": \"DRUG\", \"ner_confidence\": \"0.72886664\", \"code\": \"243670\", \"resolution\": \"aspirin 81 MG Oral Tablet\", \"all_k_codes\": \"243670:::318272:::825180:::308416:::211832:::794229:::1600991:::1189781:::1293665:::749795:::198475:::1052678:::1722689:::212033:::211874:::830530:::1537811:::260847:::211881:::200094:::309362:::1811631:::1537813:::308411:::1868018\", \"all_k_resolutions\": \"aspirin 81 MG Oral Tablet:::aspirin 81 MG Chewable Tablet:::aspirin 81 MG Chewable Tablet [Bayer Aspirin]:::aspirin 81 MG Delayed Release Oral Tablet:::aspirin 81 MG Chewable Tablet [St. Joseph Aspirin]:::aspirin 81 MG Delayed Release Oral Tablet [Bayer Aspirin]:::aspirin 81 MG Delayed Release Oral Tablet [Aspi-Cor]:::aspirin 81 MG Delayed Release Oral Tablet [Ecotrin]:::aspirin 81 MG Delayed Release Oral Tablet [Aspir-Low]:::aspirin 81 MG Delayed Release Oral Tablet [St. Joseph Aspirin]:::aspirin 650 MG Oral Tablet:::aspirin 81 MG Delayed Release Oral Tablet [Miniprin]:::aspirin 81 MG / calcium carbonate 777 MG Oral Tablet:::aspirin 325 MG Oral Tablet:::aspirin 325 MG Oral Tablet [Bayer Aspirin]:::aspirin 325 MG Oral Tablet [Ascriptin]:::thyroid (USP) 81.25 MG Oral Tablet:::aspirin 325 MG Oral Tablet [Bufferin]:::aspirin 325 MG Oral Tablet [Norwich Aspirin]:::irbesartan 75 MG Oral Tablet:::clopidogrel 75 MG Oral Tablet:::aspirin 81 MG / omeprazole 40 MG Delayed Release Oral Tablet:::thyroid (USP) 81.25 MG Oral Tablet [Nature-Throid]:::aspirin 650 MG Delayed Release Oral Tablet:::pirfenidone 801 MG Oral Tablet\", \"all_k_distances\": \"5.4893:::6.9901:::7.8179:::8.9043:::9.2353:::9.7630:::10.1986:::10.3105:::10.5885:::10.7033:::10.7931:::10.8463:::10.8997:::11.1216:::11.3189:::11.5512:::11.7277:::11.9489:::12.2012:::12.3519:::12.4348:::12.4479:::12.4872:::12.6174:::12.6256\"}]}\n",
      "{\"predictions\": [{\"ner_chunk\": \"Omeprazole 20 mg\", \"begin\": 32, \"end\": 47, \"ner_label\": \"DRUG\", \"ner_confidence\": \"0.69296664\", \"code\": \"486499\", \"resolution\": \"esomeprazole 20 MG Injection\", \"all_k_codes\": \"486499:::2383946:::692576:::2383951:::310604:::359822:::198051:::198371:::1364492:::849490:::861576:::1492740:::2003656:::1798999:::404419:::309077:::310429:::861064:::314286:::198108:::313209:::402014:::606726:::282755:::310273\", \"all_k_resolutions\": \"esomeprazole 20 MG Injection:::remimazolam 20 MG Injection:::esomeprazole 20 MG Granules for Oral Suspension:::remimazolam 20 MG Injection [Byfavo]:::guaifenesin 20 MG/ML Oral Solution:::nitazoxanide 20 MG/ML Oral Suspension:::omeprazole 20 MG Delayed Release Oral Capsule:::torsemide 20 MG Oral Tablet:::lomitapide 20 MG Oral Capsule:::ubiquinol 20 MG/ML Oral Suspension:::esomeprazole 20 MG Granules for Oral Suspension [Nexium]:::apremilast 20 MG Oral Tablet:::omeprazole 20 MG Disintegrating Oral Tablet:::nitisinone 20 MG Oral Capsule:::nitazoxanide 20 MG/ML Oral Suspension [Alinia]:::cefpodoxime 20 MG/ML Oral Suspension:::furosemide 20 MG Oral Tablet:::sertraline 20 MG/ML Oral Solution:::ziprasidone 20 MG Oral Capsule:::piroxicam 20 MG Oral Capsule:::temozolomide 20 MG Oral Capsule:::omeprazole 20 MG Delayed Release Oral Tablet:::esomeprazole 20 MG Delayed Release Oral Capsule:::telmisartan 20 MG Oral Tablet:::famotidine 20 MG Oral Tablet\", \"all_k_distances\": \"4.9903:::6.0834:::6.8979:::6.9281:::7.1126:::7.2742:::7.4081:::7.4391:::7.4920:::7.5637:::7.5672:::7.5835:::7.5877:::7.6181:::7.6373:::7.6537:::7.6697:::7.6973:::7.7172:::7.7291:::7.7403:::7.7719:::7.7767:::7.7876:::7.8318\"}]}\n"
     ]
    }
   ],
   "source": [
    "data = process_data_and_invoke_realtime_endpoint(input_jsonl_data, content_type=\"application/jsonlines\" , accept=\"application/jsonlines\" )\n",
    "print(data)"
   ]
  },
  {
   "cell_type": "markdown",
   "metadata": {},
   "source": [
    "### C. Delete the endpoint"
   ]
  },
  {
   "cell_type": "markdown",
   "metadata": {},
   "source": [
    "Now that you have successfully performed a real-time inference, you do not need the endpoint any more. You can terminate the endpoint to avoid being charged."
   ]
  },
  {
   "cell_type": "code",
   "execution_count": 12,
   "metadata": {
    "tags": []
   },
   "outputs": [],
   "source": [
    "model.sagemaker_session.delete_endpoint(model_name)\n",
    "model.sagemaker_session.delete_endpoint_config(model_name)"
   ]
  },
  {
   "cell_type": "markdown",
   "metadata": {
    "tags": []
   },
   "source": [
    "## 3. Batch inference"
   ]
  },
  {
   "cell_type": "code",
   "execution_count": 13,
   "metadata": {
    "tags": []
   },
   "outputs": [],
   "source": [
    "import json\n",
    "import os\n",
    "\n",
    "input_dir = 'inputs/batch'\n",
    "json_input_dir = f\"{input_dir}/json\"\n",
    "jsonl_input_dir = f\"{input_dir}/jsonl\"\n",
    "\n",
    "output_dir = 'outputs/batch'\n",
    "json_output_dir = f\"{output_dir}/json\"\n",
    "jsonl_output_dir = f\"{output_dir}/jsonl\"\n",
    "\n",
    "os.makedirs(json_input_dir, exist_ok=True)\n",
    "os.makedirs(jsonl_input_dir, exist_ok=True)\n",
    "os.makedirs(json_output_dir, exist_ok=True)\n",
    "os.makedirs(jsonl_output_dir, exist_ok=True)\n",
    "\n",
    "validation_json_file_name = \"input.json\"\n",
    "\n",
    "validation_jsonl_file_name = \"input.jsonl\"\n",
    "\n",
    "validation_input_json_path = f\"s3://{s3_bucket}/{model_name}/validation-input/batch/json/\"\n",
    "validation_output_json_path = f\"s3://{s3_bucket}/{model_name}/validation-output/batch/json/\"\n",
    "\n",
    "validation_input_jsonl_path = f\"s3://{s3_bucket}/{model_name}/validation-input/batch/jsonl/\"\n",
    "validation_output_jsonl_path = f\"s3://{s3_bucket}/{model_name}/validation-output/batch/jsonl/\"\n",
    "\n",
    "def write_and_upload_to_s3(input_data, file_name):\n",
    "    file_format = os.path.splitext(file_name)[1].lower()\n",
    "    if file_format == \".json\":\n",
    "        input_data = json.dumps(input_data)\n",
    "\n",
    "    with open(file_name, \"w\") as f:\n",
    "        f.write(input_data)\n",
    "\n",
    "    s3_client.put_object(\n",
    "        Bucket=s3_bucket,\n",
    "        Key=f\"{model_name}/validation-input/batch/{file_format[1:]}/{os.path.basename(file_name)}\",\n",
    "        Body=(bytes(input_data.encode(\"UTF-8\"))),\n",
    "    )"
   ]
  },
  {
   "cell_type": "code",
   "execution_count": 14,
   "metadata": {
    "tags": []
   },
   "outputs": [],
   "source": [
    "input_jsonl_data = create_jsonl(docs)\n",
    "input_json_data = {\"text\": docs}\n",
    "\n",
    "write_and_upload_to_s3(input_json_data, f\"{json_input_dir}/{validation_json_file_name}\")\n",
    "\n",
    "write_and_upload_to_s3(input_jsonl_data, f\"{jsonl_input_dir}/{validation_jsonl_file_name}\")"
   ]
  },
  {
   "cell_type": "markdown",
   "metadata": {},
   "source": [
    "### JSON"
   ]
  },
  {
   "cell_type": "code",
   "execution_count": 15,
   "metadata": {
    "tags": []
   },
   "outputs": [
    {
     "name": "stderr",
     "output_type": "stream",
     "text": [
      "INFO:sagemaker:Creating transform job with name: rxcui-resolver-pipeline-en-2024-12-03-08-06-02-746\n"
     ]
    },
    {
     "name": "stdout",
     "output_type": "stream",
     "text": [
      ".................................................\u001b[34m24/12/03 08:14:06 WARN NativeCodeLoader: Unable to load native-hadoop library for your platform... using builtin-java classes where applicable\u001b[0m\n",
      "\u001b[34mSetting default log level to \"WARN\".\u001b[0m\n",
      "\u001b[34mTo adjust logging level use sc.setLogLevel(newLevel). For SparkR, use setLogLevel(newLevel).\u001b[0m\n",
      "\u001b[34m#015[Stage 0:>                                                          (0 + 1) / 1]#015#015                                                                                #015INFO:     Started server process [7]\u001b[0m\n",
      "\u001b[34mINFO:     Waiting for application startup.\u001b[0m\n",
      "\u001b[34mINFO:     Application startup complete.\u001b[0m\n",
      "\u001b[34mINFO:     Uvicorn running on http://0.0.0.0:8080 (Press CTRL+C to quit)\u001b[0m\n",
      "\u001b[34m📋 Loading license number 0 from /root/.johnsnowlabs/licenses/license_number_{number}_for_Spark-Healthcare_Spark-OCR.json\u001b[0m\n",
      "\u001b[34m👌 Launched #033[92mcpu optimized#033[39m session with with: 🚀Spark-NLP==5.5.0, 💊Spark-Healthcare==5.5.0, running on ⚡ PySpark==3.4.0\u001b[0m\n",
      "\u001b[34mINFO:     169.254.255.130:44690 - \"GET /ping HTTP/1.1\" 200 OK\u001b[0m\n",
      "\u001b[34mINFO:     169.254.255.130:44704 - \"GET /execution-parameters HTTP/1.1\" 404 Not Found\u001b[0m\n",
      "\u001b[35m#015[Stage 0:>                                                          (0 + 1) / 1]#015#015                                                                                #015INFO:     Started server process [7]\u001b[0m\n",
      "\u001b[35mINFO:     Waiting for application startup.\u001b[0m\n",
      "\u001b[35mINFO:     Application startup complete.\u001b[0m\n",
      "\u001b[35mINFO:     Uvicorn running on http://0.0.0.0:8080 (Press CTRL+C to quit)\u001b[0m\n",
      "\u001b[35m📋 Loading license number 0 from /root/.johnsnowlabs/licenses/license_number_{number}_for_Spark-Healthcare_Spark-OCR.json\u001b[0m\n",
      "\u001b[35m👌 Launched #033[92mcpu optimized#033[39m session with with: 🚀Spark-NLP==5.5.0, 💊Spark-Healthcare==5.5.0, running on ⚡ PySpark==3.4.0\u001b[0m\n",
      "\u001b[35mINFO:     169.254.255.130:44690 - \"GET /ping HTTP/1.1\" 200 OK\u001b[0m\n",
      "\u001b[35mINFO:     169.254.255.130:44704 - \"GET /execution-parameters HTTP/1.1\" 404 Not Found\u001b[0m\n",
      "\u001b[34mINFO:     169.254.255.130:44710 - \"POST /invocations HTTP/1.1\" 200 OK\u001b[0m\n",
      "\u001b[35mINFO:     169.254.255.130:44710 - \"POST /invocations HTTP/1.1\" 200 OK\u001b[0m\n",
      "\u001b[32m2024-12-03T08:14:56.889:[sagemaker logs]: MaxConcurrentTransforms=1, MaxPayloadInMB=6, BatchStrategy=MULTI_RECORD\u001b[0m\n",
      "\n",
      "\u001b[34m24/12/03 08:14:06 WARN NativeCodeLoader: Unable to load native-hadoop library for your platform... using builtin-java classes where applicable\u001b[0m\n",
      "\u001b[34mSetting default log level to \"WARN\".\u001b[0m\n",
      "\u001b[34mTo adjust logging level use sc.setLogLevel(newLevel). For SparkR, use setLogLevel(newLevel).\u001b[0m\n",
      "\u001b[35m24/12/03 08:14:06 WARN NativeCodeLoader: Unable to load native-hadoop library for your platform... using builtin-java classes where applicable\u001b[0m\n",
      "\u001b[35mSetting default log level to \"WARN\".\u001b[0m\n",
      "\u001b[35mTo adjust logging level use sc.setLogLevel(newLevel). For SparkR, use setLogLevel(newLevel).\u001b[0m\n",
      "\u001b[34m#015[Stage 0:>                                                          (0 + 1) / 1]#015#015                                                                                #015INFO:     Started server process [7]\u001b[0m\n",
      "\u001b[34mINFO:     Waiting for application startup.\u001b[0m\n",
      "\u001b[34mINFO:     Application startup complete.\u001b[0m\n",
      "\u001b[34mINFO:     Uvicorn running on http://0.0.0.0:8080 (Press CTRL+C to quit)\u001b[0m\n",
      "\u001b[34m📋 Loading license number 0 from /root/.johnsnowlabs/licenses/license_number_{number}_for_Spark-Healthcare_Spark-OCR.json\u001b[0m\n",
      "\u001b[34m👌 Launched #033[92mcpu optimized#033[39m session with with: 🚀Spark-NLP==5.5.0, 💊Spark-Healthcare==5.5.0, running on ⚡ PySpark==3.4.0\u001b[0m\n",
      "\u001b[34mINFO:     169.254.255.130:44690 - \"GET /ping HTTP/1.1\" 200 OK\u001b[0m\n",
      "\u001b[34mINFO:     169.254.255.130:44704 - \"GET /execution-parameters HTTP/1.1\" 404 Not Found\u001b[0m\n",
      "\u001b[35m#015[Stage 0:>                                                          (0 + 1) / 1]#015#015                                                                                #015INFO:     Started server process [7]\u001b[0m\n",
      "\u001b[35mINFO:     Waiting for application startup.\u001b[0m\n",
      "\u001b[35mINFO:     Application startup complete.\u001b[0m\n",
      "\u001b[35mINFO:     Uvicorn running on http://0.0.0.0:8080 (Press CTRL+C to quit)\u001b[0m\n",
      "\u001b[35m📋 Loading license number 0 from /root/.johnsnowlabs/licenses/license_number_{number}_for_Spark-Healthcare_Spark-OCR.json\u001b[0m\n",
      "\u001b[35m👌 Launched #033[92mcpu optimized#033[39m session with with: 🚀Spark-NLP==5.5.0, 💊Spark-Healthcare==5.5.0, running on ⚡ PySpark==3.4.0\u001b[0m\n",
      "\u001b[35mINFO:     169.254.255.130:44690 - \"GET /ping HTTP/1.1\" 200 OK\u001b[0m\n",
      "\u001b[35mINFO:     169.254.255.130:44704 - \"GET /execution-parameters HTTP/1.1\" 404 Not Found\u001b[0m\n",
      "\u001b[34mINFO:     169.254.255.130:44710 - \"POST /invocations HTTP/1.1\" 200 OK\u001b[0m\n",
      "\u001b[35mINFO:     169.254.255.130:44710 - \"POST /invocations HTTP/1.1\" 200 OK\u001b[0m\n",
      "\u001b[32m2024-12-03T08:14:56.889:[sagemaker logs]: MaxConcurrentTransforms=1, MaxPayloadInMB=6, BatchStrategy=MULTI_RECORD\u001b[0m\n"
     ]
    }
   ],
   "source": [
    "# Initialize a SageMaker Transformer object for making predictions\n",
    "transformer = model.transformer(\n",
    "    instance_count=1,\n",
    "    instance_type=batch_transform_inference_instance_type,\n",
    "    accept=\"application/json\",\n",
    "    output_path=validation_output_json_path\n",
    ")\n",
    "\n",
    "transformer.transform(validation_input_json_path, content_type=\"application/json\")\n",
    "transformer.wait()"
   ]
  },
  {
   "cell_type": "code",
   "execution_count": 16,
   "metadata": {
    "tags": []
   },
   "outputs": [],
   "source": [
    "from urllib.parse import urlparse\n",
    "\n",
    "def process_s3_json_output_and_save(validation_file_name):\n",
    "\n",
    "    output_file_path = f\"{json_output_dir}/{validation_file_name}.out\"\n",
    "    parsed_url = urlparse(transformer.output_path)\n",
    "    file_key = f\"{parsed_url.path[1:]}{validation_file_name}.out\"\n",
    "    response = s3_client.get_object(Bucket=s3_bucket, Key=file_key)\n",
    "\n",
    "    data = json.loads(response[\"Body\"].read().decode(\"utf-8\"))\n",
    "    df = pd.DataFrame(data[\"predictions\"])\n",
    "    display(df)\n",
    "\n",
    "    # Save the data to the output file\n",
    "    with open(output_file_path, 'w') as f_out:\n",
    "        json.dump(data, f_out, indent=4)"
   ]
  },
  {
   "cell_type": "code",
   "execution_count": 17,
   "metadata": {
    "tags": []
   },
   "outputs": [
    {
     "data": {
      "text/html": [
       "<div>\n",
       "<style scoped>\n",
       "    .dataframe tbody tr th:only-of-type {\n",
       "        vertical-align: middle;\n",
       "    }\n",
       "\n",
       "    .dataframe tbody tr th {\n",
       "        vertical-align: top;\n",
       "    }\n",
       "\n",
       "    .dataframe thead th {\n",
       "        text-align: right;\n",
       "    }\n",
       "</style>\n",
       "<table border=\"1\" class=\"dataframe\">\n",
       "  <thead>\n",
       "    <tr style=\"text-align: right;\">\n",
       "      <th></th>\n",
       "      <th>0</th>\n",
       "      <th>1</th>\n",
       "      <th>2</th>\n",
       "    </tr>\n",
       "  </thead>\n",
       "  <tbody>\n",
       "    <tr>\n",
       "      <th>0</th>\n",
       "      <td>{'ner_chunk': 'folic acid 1 mg', 'begin': 13, 'end': 27, 'ner_label': 'DRUG', 'ner_confidence': '0.67852503', 'code': '310410', 'resolution': 'folic acid 1 MG Oral Tablet', 'all_k_codes': '310410:::846934:::245557:::253083:::1601112:::242698:::476628:::1423423:::1539820:::309594:::199364:::310313:::309593:::747193:::2168763:::1718589:::808611:::309595:::1537458:::198640:::197658:::847004:::198641:::351121:::542045', 'all_k_resolutions': 'folic acid 1 MG Oral Tablet:::mecobalamin 1 MG Oral Capsule:::vitamin B12 1 MG Oral Capsule:::folic acid 0.8 MG / vitamin B12 1 MG Oral Tablet:::mecobalamin 1 MG Oral Lozenge:::vitamin B12 1 MG Oral Lozenge:::folic acid 1 MG / vitamin B12 0.5 MG Oral Tablet:::vitamin B12 1 MG/ML Oral Solution:::mecobalamin 1 MG Sublingual Tablet:::vitamin B12 1 MG/ML Injectable Solution:::vitamin B12 0.1 MG Oral Lozenge:::ferrous fumarate 324 MG / folic acid 1 MG Oral Tablet:::vitamin B12 1 MG Oral Tablet:::topotecan 1 MG Oral Capsule:::tesamorelin 1 MG Injection:::trabectedin 1 MG Injection:::folic acid 0.4 MG / vitamin B12 1 MG Sublingual Tablet:::vitamin B12 0.1 MG Oral Tablet:::vitamin K2 0.1 MG Oral Capsule:::folic acid 0.4 MG Oral Tablet:::estradiol 1 MG Oral Tablet:::vitamin K 0.1 MG Oral Capsule:::folic acid 0.8 MG Oral Tablet:::minocycline 1 MG Oral Powder:::folic acid 1 MG / vitamin B12 0.5 MG Oral Tablet [Foltrate]', 'all_k_distances': '5.7442:::9.2313:::9.5890:::9.8275:::10.0312:::10.0557:::10.0979:::10.1475:::10.2895:::10.3375:::10.3431:::10.3516:::10.3565:::10.3957:::10.4176:::10.4224:::10.4279:::10.4507:::10.4579:::10.5116:::10.5552:::10.6201:::10.6259:::10.7205:::10.7346'}</td>\n",
       "      <td>{'ner_chunk': 'levothyroxine 0.1 mg', 'begin': 37, 'end': 56, 'ner_label': 'DRUG', 'ner_confidence': '0.8457667', 'code': '1115267', 'resolution': 'levothyroxine sodium 0.1 MG Injection', 'all_k_codes': '1115267:::966404:::892246:::2056480:::966412:::966178:::966177:::2056492:::966283:::966233:::966219:::1115269:::2056482:::892251:::966415:::966250:::1923050:::966406:::2056494:::966220:::903305:::966221:::2056462:::966434:::2056508', 'all_k_resolutions': 'levothyroxine sodium 0.1 MG Injection:::levothyroxine sodium 0.1 MG Oral Capsule:::levothyroxine sodium 0.1 MG Oral Tablet:::levothyroxine sodium 0.1 MG/ML Oral Solution:::levothyroxine sodium 0.013 MG Oral Capsule:::levothyroxine sodium 0.1 MG Oral Tablet [Levo-T]:::levothyroxine sodium 0.1 MG Oral Tablet [Euthyrox]:::levothyroxine sodium 0.013 MG/ML Oral Solution:::levothyroxine sodium 0.1 MG Oral Tablet [Levoxyl]:::levothyroxine sodium 0.1 MG Oral Tablet [Unithroid]:::levothyroxine sodium 0.5 MG Injection:::levothyroxine sodium 0.2 MG Injection:::levothyroxine sodium 0.1 MG/ML Oral Solution [Tirosint]:::levothyroxine sodium 0.2 MG Oral Tablet:::levothyroxine sodium 0.1 MG Oral Capsule [Tirosint]:::levothyroxine sodium 0.1 MG Oral Tablet [Synthroid]:::levothyroxine sodium 0.2 MG Oral Capsule:::levothyroxine sodium 0.025 MG Oral Capsule:::levothyroxine sodium 0.013 MG/ML Oral Solution [Tirosint]:::levothyroxine sodium 0.025 MG Oral Tablet:::levothyroxine sodium 0.1 MG / liothyronine sodium 0.025 MG Oral Tablet:::levothyroxine sodium 0.05 MG Oral Tablet:::levothyroxine sodium 0.025 MG/ML Oral Solution:::levothyroxine sodium 0.013 MG Oral Capsule [Tirosint]:::levothyroxine sodium 0.2 MG/ML Oral Solution', 'all_k_distances': '4.4075:::5.2968:::5.9096:::6.1731:::6.4272:::6.8615:::6.8961:::6.9876:::7.1843:::7.2156:::7.4194:::7.6961:::7.7001:::7.8607:::7.8886:::7.9190:::7.9832:::8.0875:::8.0901:::8.0907:::8.1956:::8.4002:::8.4002:::8.4422:::8.4554'}</td>\n",
       "      <td>{'ner_chunk': 'aspirin 81 mg', 'begin': 62, 'end': 74, 'ner_label': 'DRUG', 'ner_confidence': '0.72886664', 'code': '243670', 'resolution': 'aspirin 81 MG Oral Tablet', 'all_k_codes': '243670:::318272:::825180:::308416:::211832:::794229:::1600991:::1189781:::1293665:::749795:::198475:::1052678:::1722689:::212033:::211874:::830530:::1537811:::260847:::211881:::200094:::309362:::1811631:::1537813:::308411:::1868018', 'all_k_resolutions': 'aspirin 81 MG Oral Tablet:::aspirin 81 MG Chewable Tablet:::aspirin 81 MG Chewable Tablet [Bayer Aspirin]:::aspirin 81 MG Delayed Release Oral Tablet:::aspirin 81 MG Chewable Tablet [St. Joseph Aspirin]:::aspirin 81 MG Delayed Release Oral Tablet [Bayer Aspirin]:::aspirin 81 MG Delayed Release Oral Tablet [Aspi-Cor]:::aspirin 81 MG Delayed Release Oral Tablet [Ecotrin]:::aspirin 81 MG Delayed Release Oral Tablet [Aspir-Low]:::aspirin 81 MG Delayed Release Oral Tablet [St. Joseph Aspirin]:::aspirin 650 MG Oral Tablet:::aspirin 81 MG Delayed Release Oral Tablet [Miniprin]:::aspirin 81 MG / calcium carbonate 777 MG Oral Tablet:::aspirin 325 MG Oral Tablet:::aspirin 325 MG Oral Tablet [Bayer Aspirin]:::aspirin 325 MG Oral Tablet [Ascriptin]:::thyroid (USP) 81.25 MG Oral Tablet:::aspirin 325 MG Oral Tablet [Bufferin]:::aspirin 325 MG Oral Tablet [Norwich Aspirin]:::irbesartan 75 MG Oral Tablet:::clopidogrel 75 MG Oral Tablet:::aspirin 81 MG / omeprazole 40 MG Delayed Release Oral Tablet:::thyroid (USP) 81.25 MG Oral Tablet [Nature-Throid]:::aspirin 650 MG Delayed Release Oral Tablet:::pirfenidone 801 MG Oral Tablet', 'all_k_distances': '5.4893:::6.9901:::7.8179:::8.9043:::9.2353:::9.7630:::10.1986:::10.3105:::10.5885:::10.7033:::10.7931:::10.8463:::10.8997:::11.1216:::11.3189:::11.5512:::11.7277:::11.9489:::12.2012:::12.3519:::12.4348:::12.4479:::12.4872:::12.6174:::12.6256'}</td>\n",
       "    </tr>\n",
       "    <tr>\n",
       "      <th>1</th>\n",
       "      <td>{'ner_chunk': 'Omeprazole 20 mg', 'begin': 32, 'end': 47, 'ner_label': 'DRUG', 'ner_confidence': '0.69296664', 'code': '486499', 'resolution': 'esomeprazole 20 MG Injection', 'all_k_codes': '486499:::2383946:::692576:::2383951:::310604:::359822:::198051:::198371:::1364492:::849490:::861576:::1492740:::2003656:::1798999:::404419:::309077:::310429:::861064:::314286:::198108:::313209:::402014:::606726:::282755:::310273', 'all_k_resolutions': 'esomeprazole 20 MG Injection:::remimazolam 20 MG Injection:::esomeprazole 20 MG Granules for Oral Suspension:::remimazolam 20 MG Injection [Byfavo]:::guaifenesin 20 MG/ML Oral Solution:::nitazoxanide 20 MG/ML Oral Suspension:::omeprazole 20 MG Delayed Release Oral Capsule:::torsemide 20 MG Oral Tablet:::lomitapide 20 MG Oral Capsule:::ubiquinol 20 MG/ML Oral Suspension:::esomeprazole 20 MG Granules for Oral Suspension [Nexium]:::apremilast 20 MG Oral Tablet:::omeprazole 20 MG Disintegrating Oral Tablet:::nitisinone 20 MG Oral Capsule:::nitazoxanide 20 MG/ML Oral Suspension [Alinia]:::cefpodoxime 20 MG/ML Oral Suspension:::furosemide 20 MG Oral Tablet:::sertraline 20 MG/ML Oral Solution:::ziprasidone 20 MG Oral Capsule:::piroxicam 20 MG Oral Capsule:::temozolomide 20 MG Oral Capsule:::omeprazole 20 MG Delayed Release Oral Tablet:::esomeprazole 20 MG Delayed Release Oral Capsule:::telmisartan 20 MG Oral Tablet:::famotidine 20 MG Oral Tablet', 'all_k_distances': '4.9903:::6.0834:::6.8979:::6.9281:::7.1126:::7.2742:::7.4081:::7.4391:::7.4920:::7.5637:::7.5672:::7.5835:::7.5877:::7.6181:::7.6373:::7.6537:::7.6697:::7.6973:::7.7172:::7.7291:::7.7403:::7.7719:::7.7767:::7.7876:::7.8318'}</td>\n",
       "      <td>None</td>\n",
       "      <td>None</td>\n",
       "    </tr>\n",
       "  </tbody>\n",
       "</table>\n",
       "</div>"
      ],
      "text/plain": [
       "                                                                                                                                                                                                                                                                                                                                                                                                                                                                                                                                                                                                                                                                                                                                                                                                                                                                                                                                                                                                                                                                                                                                                                                                                                                                                                                                                                                                                                                                                                                                                                                                                                                                                                             0  \\\n",
       "0             {'ner_chunk': 'folic acid 1 mg', 'begin': 13, 'end': 27, 'ner_label': 'DRUG', 'ner_confidence': '0.67852503', 'code': '310410', 'resolution': 'folic acid 1 MG Oral Tablet', 'all_k_codes': '310410:::846934:::245557:::253083:::1601112:::242698:::476628:::1423423:::1539820:::309594:::199364:::310313:::309593:::747193:::2168763:::1718589:::808611:::309595:::1537458:::198640:::197658:::847004:::198641:::351121:::542045', 'all_k_resolutions': 'folic acid 1 MG Oral Tablet:::mecobalamin 1 MG Oral Capsule:::vitamin B12 1 MG Oral Capsule:::folic acid 0.8 MG / vitamin B12 1 MG Oral Tablet:::mecobalamin 1 MG Oral Lozenge:::vitamin B12 1 MG Oral Lozenge:::folic acid 1 MG / vitamin B12 0.5 MG Oral Tablet:::vitamin B12 1 MG/ML Oral Solution:::mecobalamin 1 MG Sublingual Tablet:::vitamin B12 1 MG/ML Injectable Solution:::vitamin B12 0.1 MG Oral Lozenge:::ferrous fumarate 324 MG / folic acid 1 MG Oral Tablet:::vitamin B12 1 MG Oral Tablet:::topotecan 1 MG Oral Capsule:::tesamorelin 1 MG Injection:::trabectedin 1 MG Injection:::folic acid 0.4 MG / vitamin B12 1 MG Sublingual Tablet:::vitamin B12 0.1 MG Oral Tablet:::vitamin K2 0.1 MG Oral Capsule:::folic acid 0.4 MG Oral Tablet:::estradiol 1 MG Oral Tablet:::vitamin K 0.1 MG Oral Capsule:::folic acid 0.8 MG Oral Tablet:::minocycline 1 MG Oral Powder:::folic acid 1 MG / vitamin B12 0.5 MG Oral Tablet [Foltrate]', 'all_k_distances': '5.7442:::9.2313:::9.5890:::9.8275:::10.0312:::10.0557:::10.0979:::10.1475:::10.2895:::10.3375:::10.3431:::10.3516:::10.3565:::10.3957:::10.4176:::10.4224:::10.4279:::10.4507:::10.4579:::10.5116:::10.5552:::10.6201:::10.6259:::10.7205:::10.7346'}   \n",
       "1  {'ner_chunk': 'Omeprazole 20 mg', 'begin': 32, 'end': 47, 'ner_label': 'DRUG', 'ner_confidence': '0.69296664', 'code': '486499', 'resolution': 'esomeprazole 20 MG Injection', 'all_k_codes': '486499:::2383946:::692576:::2383951:::310604:::359822:::198051:::198371:::1364492:::849490:::861576:::1492740:::2003656:::1798999:::404419:::309077:::310429:::861064:::314286:::198108:::313209:::402014:::606726:::282755:::310273', 'all_k_resolutions': 'esomeprazole 20 MG Injection:::remimazolam 20 MG Injection:::esomeprazole 20 MG Granules for Oral Suspension:::remimazolam 20 MG Injection [Byfavo]:::guaifenesin 20 MG/ML Oral Solution:::nitazoxanide 20 MG/ML Oral Suspension:::omeprazole 20 MG Delayed Release Oral Capsule:::torsemide 20 MG Oral Tablet:::lomitapide 20 MG Oral Capsule:::ubiquinol 20 MG/ML Oral Suspension:::esomeprazole 20 MG Granules for Oral Suspension [Nexium]:::apremilast 20 MG Oral Tablet:::omeprazole 20 MG Disintegrating Oral Tablet:::nitisinone 20 MG Oral Capsule:::nitazoxanide 20 MG/ML Oral Suspension [Alinia]:::cefpodoxime 20 MG/ML Oral Suspension:::furosemide 20 MG Oral Tablet:::sertraline 20 MG/ML Oral Solution:::ziprasidone 20 MG Oral Capsule:::piroxicam 20 MG Oral Capsule:::temozolomide 20 MG Oral Capsule:::omeprazole 20 MG Delayed Release Oral Tablet:::esomeprazole 20 MG Delayed Release Oral Capsule:::telmisartan 20 MG Oral Tablet:::famotidine 20 MG Oral Tablet', 'all_k_distances': '4.9903:::6.0834:::6.8979:::6.9281:::7.1126:::7.2742:::7.4081:::7.4391:::7.4920:::7.5637:::7.5672:::7.5835:::7.5877:::7.6181:::7.6373:::7.6537:::7.6697:::7.6973:::7.7172:::7.7291:::7.7403:::7.7719:::7.7767:::7.7876:::7.8318'}   \n",
       "\n",
       "                                                                                                                                                                                                                                                                                                                                                                                                                                                                                                                                                                                                                                                                                                                                                                                                                                                                                                                                                                                                                                                                                                                                                                                                                                                                                                                                                                                                                                                                                                                                                                                                                                                                                                                                                                                                                                                                                                                                                                                                          1  \\\n",
       "0  {'ner_chunk': 'levothyroxine 0.1 mg', 'begin': 37, 'end': 56, 'ner_label': 'DRUG', 'ner_confidence': '0.8457667', 'code': '1115267', 'resolution': 'levothyroxine sodium 0.1 MG Injection', 'all_k_codes': '1115267:::966404:::892246:::2056480:::966412:::966178:::966177:::2056492:::966283:::966233:::966219:::1115269:::2056482:::892251:::966415:::966250:::1923050:::966406:::2056494:::966220:::903305:::966221:::2056462:::966434:::2056508', 'all_k_resolutions': 'levothyroxine sodium 0.1 MG Injection:::levothyroxine sodium 0.1 MG Oral Capsule:::levothyroxine sodium 0.1 MG Oral Tablet:::levothyroxine sodium 0.1 MG/ML Oral Solution:::levothyroxine sodium 0.013 MG Oral Capsule:::levothyroxine sodium 0.1 MG Oral Tablet [Levo-T]:::levothyroxine sodium 0.1 MG Oral Tablet [Euthyrox]:::levothyroxine sodium 0.013 MG/ML Oral Solution:::levothyroxine sodium 0.1 MG Oral Tablet [Levoxyl]:::levothyroxine sodium 0.1 MG Oral Tablet [Unithroid]:::levothyroxine sodium 0.5 MG Injection:::levothyroxine sodium 0.2 MG Injection:::levothyroxine sodium 0.1 MG/ML Oral Solution [Tirosint]:::levothyroxine sodium 0.2 MG Oral Tablet:::levothyroxine sodium 0.1 MG Oral Capsule [Tirosint]:::levothyroxine sodium 0.1 MG Oral Tablet [Synthroid]:::levothyroxine sodium 0.2 MG Oral Capsule:::levothyroxine sodium 0.025 MG Oral Capsule:::levothyroxine sodium 0.013 MG/ML Oral Solution [Tirosint]:::levothyroxine sodium 0.025 MG Oral Tablet:::levothyroxine sodium 0.1 MG / liothyronine sodium 0.025 MG Oral Tablet:::levothyroxine sodium 0.05 MG Oral Tablet:::levothyroxine sodium 0.025 MG/ML Oral Solution:::levothyroxine sodium 0.013 MG Oral Capsule [Tirosint]:::levothyroxine sodium 0.2 MG/ML Oral Solution', 'all_k_distances': '4.4075:::5.2968:::5.9096:::6.1731:::6.4272:::6.8615:::6.8961:::6.9876:::7.1843:::7.2156:::7.4194:::7.6961:::7.7001:::7.8607:::7.8886:::7.9190:::7.9832:::8.0875:::8.0901:::8.0907:::8.1956:::8.4002:::8.4002:::8.4422:::8.4554'}   \n",
       "1                                                                                                                                                                                                                                                                                                                                                                                                                                                                                                                                                                                                                                                                                                                                                                                                                                                                                                                                                                                                                                                                                                                                                                                                                                                                                                                                                                                                                                                                                                                                                                                                                                                                                                                                                                                                                                                                                                                                                                                                      None   \n",
       "\n",
       "                                                                                                                                                                                                                                                                                                                                                                                                                                                                                                                                                                                                                                                                                                                                                                                                                                                                                                                                                                                                                                                                                                                                                                                                                                                                                                                                                                                                                                                                                                                                                                                                                                                                                                                                                                                                                                                                                                            2  \n",
       "0  {'ner_chunk': 'aspirin 81 mg', 'begin': 62, 'end': 74, 'ner_label': 'DRUG', 'ner_confidence': '0.72886664', 'code': '243670', 'resolution': 'aspirin 81 MG Oral Tablet', 'all_k_codes': '243670:::318272:::825180:::308416:::211832:::794229:::1600991:::1189781:::1293665:::749795:::198475:::1052678:::1722689:::212033:::211874:::830530:::1537811:::260847:::211881:::200094:::309362:::1811631:::1537813:::308411:::1868018', 'all_k_resolutions': 'aspirin 81 MG Oral Tablet:::aspirin 81 MG Chewable Tablet:::aspirin 81 MG Chewable Tablet [Bayer Aspirin]:::aspirin 81 MG Delayed Release Oral Tablet:::aspirin 81 MG Chewable Tablet [St. Joseph Aspirin]:::aspirin 81 MG Delayed Release Oral Tablet [Bayer Aspirin]:::aspirin 81 MG Delayed Release Oral Tablet [Aspi-Cor]:::aspirin 81 MG Delayed Release Oral Tablet [Ecotrin]:::aspirin 81 MG Delayed Release Oral Tablet [Aspir-Low]:::aspirin 81 MG Delayed Release Oral Tablet [St. Joseph Aspirin]:::aspirin 650 MG Oral Tablet:::aspirin 81 MG Delayed Release Oral Tablet [Miniprin]:::aspirin 81 MG / calcium carbonate 777 MG Oral Tablet:::aspirin 325 MG Oral Tablet:::aspirin 325 MG Oral Tablet [Bayer Aspirin]:::aspirin 325 MG Oral Tablet [Ascriptin]:::thyroid (USP) 81.25 MG Oral Tablet:::aspirin 325 MG Oral Tablet [Bufferin]:::aspirin 325 MG Oral Tablet [Norwich Aspirin]:::irbesartan 75 MG Oral Tablet:::clopidogrel 75 MG Oral Tablet:::aspirin 81 MG / omeprazole 40 MG Delayed Release Oral Tablet:::thyroid (USP) 81.25 MG Oral Tablet [Nature-Throid]:::aspirin 650 MG Delayed Release Oral Tablet:::pirfenidone 801 MG Oral Tablet', 'all_k_distances': '5.4893:::6.9901:::7.8179:::8.9043:::9.2353:::9.7630:::10.1986:::10.3105:::10.5885:::10.7033:::10.7931:::10.8463:::10.8997:::11.1216:::11.3189:::11.5512:::11.7277:::11.9489:::12.2012:::12.3519:::12.4348:::12.4479:::12.4872:::12.6174:::12.6256'}  \n",
       "1                                                                                                                                                                                                                                                                                                                                                                                                                                                                                                                                                                                                                                                                                                                                                                                                                                                                                                                                                                                                                                                                                                                                                                                                                                                                                                                                                                                                                                                                                                                                                                                                                                                                                                                                                                                                                                                                                                        None  "
      ]
     },
     "metadata": {},
     "output_type": "display_data"
    }
   ],
   "source": [
    "process_s3_json_output_and_save(validation_json_file_name)"
   ]
  },
  {
   "cell_type": "markdown",
   "metadata": {},
   "source": [
    "### JSON Lines"
   ]
  },
  {
   "cell_type": "code",
   "execution_count": 18,
   "metadata": {
    "tags": []
   },
   "outputs": [
    {
     "name": "stderr",
     "output_type": "stream",
     "text": [
      "INFO:sagemaker:Creating model with name: rxcui-resolver-pipeline-en-2024-12-03-08-15-38-722\n",
      "INFO:sagemaker:Creating transform job with name: rxcui-resolver-pipeline-en-2024-12-03-08-15-43-773\n"
     ]
    },
    {
     "name": "stdout",
     "output_type": "stream",
     "text": [
      ".........................................\u001b[34m24/12/03 08:22:28 WARN NativeCodeLoader: Unable to load native-hadoop library for your platform... using builtin-java classes where applicable\u001b[0m\n",
      "\u001b[34mSetting default log level to \"WARN\".\u001b[0m\n",
      "\u001b[34mTo adjust logging level use sc.setLogLevel(newLevel). For SparkR, use setLogLevel(newLevel).\u001b[0m\n",
      "\u001b[32m2024-12-03T08:23:29.748:[sagemaker logs]: MaxConcurrentTransforms=1, MaxPayloadInMB=6, BatchStrategy=MULTI_RECORD\u001b[0m\n",
      "\u001b[34m#015[Stage 0:>                                                          (0 + 1) / 1]#015#015                                                                                #015INFO:     Started server process [7]\u001b[0m\n",
      "\u001b[34mINFO:     Waiting for application startup.\u001b[0m\n",
      "\u001b[34mINFO:     Application startup complete.\u001b[0m\n",
      "\u001b[34mINFO:     Uvicorn running on http://0.0.0.0:8080 (Press CTRL+C to quit)\u001b[0m\n",
      "\u001b[34m📋 Loading license number 0 from /root/.johnsnowlabs/licenses/license_number_{number}_for_Spark-Healthcare_Spark-OCR.json\u001b[0m\n",
      "\u001b[34m👌 Launched #033[92mcpu optimized#033[39m session with with: 🚀Spark-NLP==5.5.0, 💊Spark-Healthcare==5.5.0, running on ⚡ PySpark==3.4.0\u001b[0m\n",
      "\u001b[34mINFO:     169.254.255.130:56252 - \"GET /ping HTTP/1.1\" 200 OK\u001b[0m\n",
      "\u001b[34mINFO:     169.254.255.130:56260 - \"GET /execution-parameters HTTP/1.1\" 404 Not Found\u001b[0m\n",
      "\u001b[35m#015[Stage 0:>                                                          (0 + 1) / 1]#015#015                                                                                #015INFO:     Started server process [7]\u001b[0m\n",
      "\u001b[35mINFO:     Waiting for application startup.\u001b[0m\n",
      "\u001b[35mINFO:     Application startup complete.\u001b[0m\n",
      "\u001b[35mINFO:     Uvicorn running on http://0.0.0.0:8080 (Press CTRL+C to quit)\u001b[0m\n",
      "\u001b[35m📋 Loading license number 0 from /root/.johnsnowlabs/licenses/license_number_{number}_for_Spark-Healthcare_Spark-OCR.json\u001b[0m\n",
      "\u001b[35m👌 Launched #033[92mcpu optimized#033[39m session with with: 🚀Spark-NLP==5.5.0, 💊Spark-Healthcare==5.5.0, running on ⚡ PySpark==3.4.0\u001b[0m\n",
      "\u001b[35mINFO:     169.254.255.130:56252 - \"GET /ping HTTP/1.1\" 200 OK\u001b[0m\n",
      "\u001b[35mINFO:     169.254.255.130:56260 - \"GET /execution-parameters HTTP/1.1\" 404 Not Found\u001b[0m\n",
      "\u001b[34mINFO:     169.254.255.130:56262 - \"POST /invocations HTTP/1.1\" 200 OK\u001b[0m\n",
      "\u001b[35mINFO:     169.254.255.130:56262 - \"POST /invocations HTTP/1.1\" 200 OK\u001b[0m\n",
      "\n",
      "\u001b[34m24/12/03 08:22:28 WARN NativeCodeLoader: Unable to load native-hadoop library for your platform... using builtin-java classes where applicable\u001b[0m\n",
      "\u001b[34mSetting default log level to \"WARN\".\u001b[0m\n",
      "\u001b[34mTo adjust logging level use sc.setLogLevel(newLevel). For SparkR, use setLogLevel(newLevel).\u001b[0m\n",
      "\u001b[35m24/12/03 08:22:28 WARN NativeCodeLoader: Unable to load native-hadoop library for your platform... using builtin-java classes where applicable\u001b[0m\n",
      "\u001b[35mSetting default log level to \"WARN\".\u001b[0m\n",
      "\u001b[35mTo adjust logging level use sc.setLogLevel(newLevel). For SparkR, use setLogLevel(newLevel).\u001b[0m\n",
      "\u001b[32m2024-12-03T08:23:29.748:[sagemaker logs]: MaxConcurrentTransforms=1, MaxPayloadInMB=6, BatchStrategy=MULTI_RECORD\u001b[0m\n",
      "\u001b[34m#015[Stage 0:>                                                          (0 + 1) / 1]#015#015                                                                                #015INFO:     Started server process [7]\u001b[0m\n",
      "\u001b[34mINFO:     Waiting for application startup.\u001b[0m\n",
      "\u001b[34mINFO:     Application startup complete.\u001b[0m\n",
      "\u001b[34mINFO:     Uvicorn running on http://0.0.0.0:8080 (Press CTRL+C to quit)\u001b[0m\n",
      "\u001b[34m📋 Loading license number 0 from /root/.johnsnowlabs/licenses/license_number_{number}_for_Spark-Healthcare_Spark-OCR.json\u001b[0m\n",
      "\u001b[34m👌 Launched #033[92mcpu optimized#033[39m session with with: 🚀Spark-NLP==5.5.0, 💊Spark-Healthcare==5.5.0, running on ⚡ PySpark==3.4.0\u001b[0m\n",
      "\u001b[34mINFO:     169.254.255.130:56252 - \"GET /ping HTTP/1.1\" 200 OK\u001b[0m\n",
      "\u001b[34mINFO:     169.254.255.130:56260 - \"GET /execution-parameters HTTP/1.1\" 404 Not Found\u001b[0m\n",
      "\u001b[35m#015[Stage 0:>                                                          (0 + 1) / 1]#015#015                                                                                #015INFO:     Started server process [7]\u001b[0m\n",
      "\u001b[35mINFO:     Waiting for application startup.\u001b[0m\n",
      "\u001b[35mINFO:     Application startup complete.\u001b[0m\n",
      "\u001b[35mINFO:     Uvicorn running on http://0.0.0.0:8080 (Press CTRL+C to quit)\u001b[0m\n",
      "\u001b[35m📋 Loading license number 0 from /root/.johnsnowlabs/licenses/license_number_{number}_for_Spark-Healthcare_Spark-OCR.json\u001b[0m\n",
      "\u001b[35m👌 Launched #033[92mcpu optimized#033[39m session with with: 🚀Spark-NLP==5.5.0, 💊Spark-Healthcare==5.5.0, running on ⚡ PySpark==3.4.0\u001b[0m\n",
      "\u001b[35mINFO:     169.254.255.130:56252 - \"GET /ping HTTP/1.1\" 200 OK\u001b[0m\n",
      "\u001b[35mINFO:     169.254.255.130:56260 - \"GET /execution-parameters HTTP/1.1\" 404 Not Found\u001b[0m\n",
      "\u001b[34mINFO:     169.254.255.130:56262 - \"POST /invocations HTTP/1.1\" 200 OK\u001b[0m\n",
      "\u001b[35mINFO:     169.254.255.130:56262 - \"POST /invocations HTTP/1.1\" 200 OK\u001b[0m\n"
     ]
    }
   ],
   "source": [
    "transformer = model.transformer(\n",
    "    instance_count=1,\n",
    "    instance_type=batch_transform_inference_instance_type,\n",
    "    accept=\"application/jsonlines\",\n",
    "    output_path=validation_output_jsonl_path\n",
    ")\n",
    "transformer.transform(validation_input_jsonl_path, content_type=\"application/jsonlines\")\n",
    "transformer.wait()"
   ]
  },
  {
   "cell_type": "code",
   "execution_count": 19,
   "metadata": {
    "tags": []
   },
   "outputs": [],
   "source": [
    "from urllib.parse import urlparse\n",
    "\n",
    "def process_s3_jsonlines_output_and_save(validation_file_name):\n",
    "\n",
    "    output_file_path = f\"{jsonl_output_dir}/{validation_file_name}.out\"\n",
    "    parsed_url = urlparse(transformer.output_path)\n",
    "    file_key = f\"{parsed_url.path[1:]}{validation_file_name}.out\"\n",
    "    response = s3_client.get_object(Bucket=s3_bucket, Key=file_key)\n",
    "\n",
    "    data = response[\"Body\"].read().decode(\"utf-8\")\n",
    "    print(data)\n",
    "\n",
    "    # Save the data to the output file\n",
    "    with open(output_file_path, 'w') as f_out:\n",
    "        for item in data.split('\\n'):\n",
    "            f_out.write(item + '\\n')"
   ]
  },
  {
   "cell_type": "code",
   "execution_count": 20,
   "metadata": {
    "tags": []
   },
   "outputs": [
    {
     "name": "stdout",
     "output_type": "stream",
     "text": [
      "{\"predictions\": [{\"ner_chunk\": \"folic acid 1 mg\", \"begin\": 13, \"end\": 27, \"ner_label\": \"DRUG\", \"ner_confidence\": \"0.67852503\", \"code\": \"310410\", \"resolution\": \"folic acid 1 MG Oral Tablet\", \"all_k_codes\": \"310410:::846934:::245557:::253083:::1601112:::242698:::476628:::1423423:::1539820:::309594:::199364:::310313:::309593:::747193:::2168763:::1718589:::808611:::309595:::1537458:::198640:::197658:::847004:::198641:::351121:::542045\", \"all_k_resolutions\": \"folic acid 1 MG Oral Tablet:::mecobalamin 1 MG Oral Capsule:::vitamin B12 1 MG Oral Capsule:::folic acid 0.8 MG / vitamin B12 1 MG Oral Tablet:::mecobalamin 1 MG Oral Lozenge:::vitamin B12 1 MG Oral Lozenge:::folic acid 1 MG / vitamin B12 0.5 MG Oral Tablet:::vitamin B12 1 MG/ML Oral Solution:::mecobalamin 1 MG Sublingual Tablet:::vitamin B12 1 MG/ML Injectable Solution:::vitamin B12 0.1 MG Oral Lozenge:::ferrous fumarate 324 MG / folic acid 1 MG Oral Tablet:::vitamin B12 1 MG Oral Tablet:::topotecan 1 MG Oral Capsule:::tesamorelin 1 MG Injection:::trabectedin 1 MG Injection:::folic acid 0.4 MG / vitamin B12 1 MG Sublingual Tablet:::vitamin B12 0.1 MG Oral Tablet:::vitamin K2 0.1 MG Oral Capsule:::folic acid 0.4 MG Oral Tablet:::estradiol 1 MG Oral Tablet:::vitamin K 0.1 MG Oral Capsule:::folic acid 0.8 MG Oral Tablet:::minocycline 1 MG Oral Powder:::folic acid 1 MG / vitamin B12 0.5 MG Oral Tablet [Foltrate]\", \"all_k_distances\": \"5.7442:::9.2313:::9.5890:::9.8275:::10.0312:::10.0557:::10.0979:::10.1475:::10.2895:::10.3375:::10.3431:::10.3516:::10.3565:::10.3957:::10.4176:::10.4224:::10.4279:::10.4507:::10.4579:::10.5116:::10.5552:::10.6201:::10.6259:::10.7205:::10.7346\"}, {\"ner_chunk\": \"levothyroxine 0.1 mg\", \"begin\": 37, \"end\": 56, \"ner_label\": \"DRUG\", \"ner_confidence\": \"0.8457667\", \"code\": \"1115267\", \"resolution\": \"levothyroxine sodium 0.1 MG Injection\", \"all_k_codes\": \"1115267:::966404:::892246:::2056480:::966412:::966178:::966177:::2056492:::966283:::966233:::966219:::1115269:::2056482:::892251:::966415:::966250:::1923050:::966406:::2056494:::966220:::903305:::966221:::2056462:::966434:::2056508\", \"all_k_resolutions\": \"levothyroxine sodium 0.1 MG Injection:::levothyroxine sodium 0.1 MG Oral Capsule:::levothyroxine sodium 0.1 MG Oral Tablet:::levothyroxine sodium 0.1 MG/ML Oral Solution:::levothyroxine sodium 0.013 MG Oral Capsule:::levothyroxine sodium 0.1 MG Oral Tablet [Levo-T]:::levothyroxine sodium 0.1 MG Oral Tablet [Euthyrox]:::levothyroxine sodium 0.013 MG/ML Oral Solution:::levothyroxine sodium 0.1 MG Oral Tablet [Levoxyl]:::levothyroxine sodium 0.1 MG Oral Tablet [Unithroid]:::levothyroxine sodium 0.5 MG Injection:::levothyroxine sodium 0.2 MG Injection:::levothyroxine sodium 0.1 MG/ML Oral Solution [Tirosint]:::levothyroxine sodium 0.2 MG Oral Tablet:::levothyroxine sodium 0.1 MG Oral Capsule [Tirosint]:::levothyroxine sodium 0.1 MG Oral Tablet [Synthroid]:::levothyroxine sodium 0.2 MG Oral Capsule:::levothyroxine sodium 0.025 MG Oral Capsule:::levothyroxine sodium 0.013 MG/ML Oral Solution [Tirosint]:::levothyroxine sodium 0.025 MG Oral Tablet:::levothyroxine sodium 0.1 MG / liothyronine sodium 0.025 MG Oral Tablet:::levothyroxine sodium 0.05 MG Oral Tablet:::levothyroxine sodium 0.025 MG/ML Oral Solution:::levothyroxine sodium 0.013 MG Oral Capsule [Tirosint]:::levothyroxine sodium 0.2 MG/ML Oral Solution\", \"all_k_distances\": \"4.4075:::5.2968:::5.9096:::6.1731:::6.4272:::6.8615:::6.8961:::6.9876:::7.1843:::7.2156:::7.4194:::7.6961:::7.7001:::7.8607:::7.8886:::7.9190:::7.9832:::8.0875:::8.0901:::8.0907:::8.1956:::8.4002:::8.4002:::8.4422:::8.4554\"}, {\"ner_chunk\": \"aspirin 81 mg\", \"begin\": 62, \"end\": 74, \"ner_label\": \"DRUG\", \"ner_confidence\": \"0.72886664\", \"code\": \"243670\", \"resolution\": \"aspirin 81 MG Oral Tablet\", \"all_k_codes\": \"243670:::318272:::825180:::308416:::211832:::794229:::1600991:::1189781:::1293665:::749795:::198475:::1052678:::1722689:::212033:::211874:::830530:::1537811:::260847:::211881:::200094:::309362:::1811631:::1537813:::308411:::1868018\", \"all_k_resolutions\": \"aspirin 81 MG Oral Tablet:::aspirin 81 MG Chewable Tablet:::aspirin 81 MG Chewable Tablet [Bayer Aspirin]:::aspirin 81 MG Delayed Release Oral Tablet:::aspirin 81 MG Chewable Tablet [St. Joseph Aspirin]:::aspirin 81 MG Delayed Release Oral Tablet [Bayer Aspirin]:::aspirin 81 MG Delayed Release Oral Tablet [Aspi-Cor]:::aspirin 81 MG Delayed Release Oral Tablet [Ecotrin]:::aspirin 81 MG Delayed Release Oral Tablet [Aspir-Low]:::aspirin 81 MG Delayed Release Oral Tablet [St. Joseph Aspirin]:::aspirin 650 MG Oral Tablet:::aspirin 81 MG Delayed Release Oral Tablet [Miniprin]:::aspirin 81 MG / calcium carbonate 777 MG Oral Tablet:::aspirin 325 MG Oral Tablet:::aspirin 325 MG Oral Tablet [Bayer Aspirin]:::aspirin 325 MG Oral Tablet [Ascriptin]:::thyroid (USP) 81.25 MG Oral Tablet:::aspirin 325 MG Oral Tablet [Bufferin]:::aspirin 325 MG Oral Tablet [Norwich Aspirin]:::irbesartan 75 MG Oral Tablet:::clopidogrel 75 MG Oral Tablet:::aspirin 81 MG / omeprazole 40 MG Delayed Release Oral Tablet:::thyroid (USP) 81.25 MG Oral Tablet [Nature-Throid]:::aspirin 650 MG Delayed Release Oral Tablet:::pirfenidone 801 MG Oral Tablet\", \"all_k_distances\": \"5.4893:::6.9901:::7.8179:::8.9043:::9.2353:::9.7630:::10.1986:::10.3105:::10.5885:::10.7033:::10.7931:::10.8463:::10.8997:::11.1216:::11.3189:::11.5512:::11.7277:::11.9489:::12.2012:::12.3519:::12.4348:::12.4479:::12.4872:::12.6174:::12.6256\"}]}\n",
      "{\"predictions\": [{\"ner_chunk\": \"Omeprazole 20 mg\", \"begin\": 32, \"end\": 47, \"ner_label\": \"DRUG\", \"ner_confidence\": \"0.69296664\", \"code\": \"486499\", \"resolution\": \"esomeprazole 20 MG Injection\", \"all_k_codes\": \"486499:::2383946:::692576:::2383951:::310604:::359822:::198051:::198371:::1364492:::849490:::861576:::1492740:::2003656:::1798999:::404419:::309077:::310429:::861064:::314286:::198108:::313209:::402014:::606726:::282755:::310273\", \"all_k_resolutions\": \"esomeprazole 20 MG Injection:::remimazolam 20 MG Injection:::esomeprazole 20 MG Granules for Oral Suspension:::remimazolam 20 MG Injection [Byfavo]:::guaifenesin 20 MG/ML Oral Solution:::nitazoxanide 20 MG/ML Oral Suspension:::omeprazole 20 MG Delayed Release Oral Capsule:::torsemide 20 MG Oral Tablet:::lomitapide 20 MG Oral Capsule:::ubiquinol 20 MG/ML Oral Suspension:::esomeprazole 20 MG Granules for Oral Suspension [Nexium]:::apremilast 20 MG Oral Tablet:::omeprazole 20 MG Disintegrating Oral Tablet:::nitisinone 20 MG Oral Capsule:::nitazoxanide 20 MG/ML Oral Suspension [Alinia]:::cefpodoxime 20 MG/ML Oral Suspension:::furosemide 20 MG Oral Tablet:::sertraline 20 MG/ML Oral Solution:::ziprasidone 20 MG Oral Capsule:::piroxicam 20 MG Oral Capsule:::temozolomide 20 MG Oral Capsule:::omeprazole 20 MG Delayed Release Oral Tablet:::esomeprazole 20 MG Delayed Release Oral Capsule:::telmisartan 20 MG Oral Tablet:::famotidine 20 MG Oral Tablet\", \"all_k_distances\": \"4.9903:::6.0834:::6.8979:::6.9281:::7.1126:::7.2742:::7.4081:::7.4391:::7.4920:::7.5637:::7.5672:::7.5835:::7.5877:::7.6181:::7.6373:::7.6537:::7.6697:::7.6973:::7.7172:::7.7291:::7.7403:::7.7719:::7.7767:::7.7876:::7.8318\"}]}\n"
     ]
    }
   ],
   "source": [
    "process_s3_jsonlines_output_and_save(validation_jsonl_file_name)"
   ]
  },
  {
   "cell_type": "code",
   "execution_count": 21,
   "metadata": {
    "tags": []
   },
   "outputs": [
    {
     "name": "stderr",
     "output_type": "stream",
     "text": [
      "INFO:sagemaker:Deleting model with name: rxcui-resolver-pipeline-en-2024-12-03-08-15-38-722\n"
     ]
    }
   ],
   "source": [
    "model.delete_model()"
   ]
  },
  {
   "cell_type": "markdown",
   "metadata": {},
   "source": [
    "### Unsubscribe to the listing (optional)"
   ]
  },
  {
   "cell_type": "markdown",
   "metadata": {
    "tags": []
   },
   "source": [
    "If you would like to unsubscribe to the model package, follow these steps. Before you cancel the subscription, ensure that you do not have any [deployable model](https://console.aws.amazon.com/sagemaker/home#/models) created from the model package or using the algorithm. Note - You can find this information by looking at the container name associated with the model. \n",
    "\n",
    "**Steps to unsubscribe to product from AWS Marketplace**:\n",
    "1. Navigate to __Machine Learning__ tab on [__Your Software subscriptions page__](https://aws.amazon.com/marketplace/ai/library?productType=ml&ref_=mlmp_gitdemo_indust)\n",
    "2. Locate the listing that you want to cancel the subscription for, and then choose __Cancel Subscription__  to cancel the subscription.\n",
    "\n"
   ]
  }
 ],
 "metadata": {
  "instance_type": "ml.t3.medium",
  "kernelspec": {
   "display_name": "conda_python3",
   "language": "python",
   "name": "conda_python3"
  },
  "language_info": {
   "codemirror_mode": {
    "name": "ipython",
    "version": 3
   },
   "file_extension": ".py",
   "mimetype": "text/x-python",
   "name": "python",
   "nbconvert_exporter": "python",
   "pygments_lexer": "ipython3",
   "version": "3.10.15"
  }
 },
 "nbformat": 4,
 "nbformat_minor": 4
}

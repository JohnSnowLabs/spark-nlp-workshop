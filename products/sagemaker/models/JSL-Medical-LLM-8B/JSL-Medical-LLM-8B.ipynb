{
 "cells": [
  {
   "cell_type": "markdown",
   "id": "82a4cf96-c239-49cc-88f9-a8e885bde191",
   "metadata": {},
   "source": [
    "## 1. Subscribe to the model package"
   ]
  },
  {
   "cell_type": "markdown",
   "id": "982d6ab4-d03d-4a5a-ab23-144d8e6ec3d6",
   "metadata": {},
   "source": [
    "To subscribe to the model package:\n",
    "1. Open the model package listing page [Medical LLM 8B](https://aws.amazon.com/marketplace/pp/prodview-dn7ktdl2sg7bi)\n",
    "1. On the AWS Marketplace listing, click on the **Continue to subscribe** button.\n",
    "1. On the **Subscribe to this software** page, review and click on **\"Accept Offer\"** if you and your organization agrees with EULA, pricing, and support terms. \n",
    "1. Once you click on **Continue to configuration button** and then choose a **region**, you will see a **Product Arn** displayed. This is the model package ARN that you need to specify while creating a deployable model using Boto3. Copy the ARN corresponding to your region and specify the same in the following cell."
   ]
  },
  {
   "cell_type": "markdown",
   "id": "dad4b722-a125-4219-9c22-009acf75414d",
   "metadata": {},
   "source": [
    "- **Model**: `JSL-Medical-LLM-8B`  \n",
    "- **Model Description**: Medical LLM 8B"
   ]
  },
  {
   "cell_type": "code",
   "execution_count": null,
   "id": "9d1fb27b-e0ad-4759-937d-ae4edc209fc1",
   "metadata": {
    "tags": []
   },
   "outputs": [],
   "source": [
    "model_package_arn = \"<Customer to specify Model package ARN corresponding to their AWS region>\""
   ]
  },
  {
   "cell_type": "code",
   "execution_count": null,
   "id": "76ede1bf-2acb-4b5d-9db1-299abfeee20b",
   "metadata": {
    "tags": []
   },
   "outputs": [],
   "source": [
    "import os\n",
    "import re\n",
    "import base64\n",
    "import json\n",
    "import uuid\n",
    "from sagemaker import ModelPackage\n",
    "import sagemaker as sage\n",
    "from sagemaker import get_execution_role\n",
    "import boto3\n",
    "from IPython.display import Image, display\n",
    "from PIL import Image as ImageEdit\n",
    "import numpy as np\n",
    "import pandas as pd\n",
    "\n",
    "pd.set_option('display.max_rows', None)\n",
    "pd.set_option('display.max_columns', None)\n",
    "pd.set_option('display.max_colwidth', None)\n",
    "\n",
    "sagemaker_session = sage.Session()\n",
    "s3_bucket = sagemaker_session.default_bucket()\n",
    "region = sagemaker_session.boto_region_name\n",
    "account_id = boto3.client(\"sts\").get_caller_identity().get(\"Account\")\n",
    "role = get_execution_role()\n",
    "\n",
    "sagemaker = boto3.client(\"sagemaker\")\n",
    "s3_client = sagemaker_session.boto_session.client(\"s3\")\n",
    "ecr = boto3.client(\"ecr\")\n",
    "sm_runtime = boto3.client(\"sagemaker-runtime\")"
   ]
  },
  {
   "cell_type": "code",
   "execution_count": 3,
   "id": "07846ed0-ed90-4a11-a77c-00d1c3ca3cbd",
   "metadata": {
    "tags": []
   },
   "outputs": [],
   "source": [
    "model_name = \"JSL-Medical-LLM-8B\"\n",
    "\n",
    "real_time_inference_instance_type = \"ml.g5.12xlarge\"\n",
    "batch_transform_inference_instance_type = \"ml.g5.12xlarge\""
   ]
  },
  {
   "cell_type": "markdown",
   "id": "9e3a3a54-98d8-4a8a-b812-c33db9a2aa7d",
   "metadata": {},
   "source": [
    "## Model Configuration Documentation  \n",
    "\n",
    "### Default Configuration  \n",
    "The container comes with the following default configurations:  \n",
    "\n",
    "| Parameter                  | Default Value | Description                                                                   |  \n",
    "|----------------------------|---------------|-------------------------------------------------------------------------------|  \n",
    "| **`dtype`**                | `auto`        | Data type for model weights and activations (automatically determined)        |  \n",
    "| **`tensor_parallel_size`** | Auto          | Automatically set to the number of available GPUs (`torch.cuda.device_count()`)|  \n",
    "| **`host`**                 | `0.0.0.0`     | Host name                                                                     |  \n",
    "| **`port`**                 | `8080`        | Port number                                                                   |  \n",
    "| **`tokenizer_mode`**       | `auto`        | Tokenizer mode (automatically determined)                                     |  \n",
    "| **`reasoning_parser`**     | `qwen3`       | Reasoning parser to use for extracting reasoning content from the model output|  \n",
    "\n",
    "### Hardcoded Settings  \n",
    "The following settings are hardcoded in the container and cannot be changed:  \n",
    "\n",
    "| Parameter       | Value           | Description                           |  \n",
    "|-----------------|-----------------|---------------------------------------|  \n",
    "| **`model`**     | `/opt/ml/model` | Model path where SageMaker mounts the model |  \n",
    "\n",
    "### Configurable Environment Variables  \n",
    "You can customize the vLLM server by setting environment variables when creating the model.  \n",
    "\n",
    "**Any parameter from the [vLLM documentation](https://docs.vllm.ai/en/latest/serving/openai_compatible_server.html#vllm-serve) can be set using the corresponding environment variable with the `SM_VLLM_` prefix.**  \n",
    "\n",
    "The container uses a script similar to the [SageMaker entrypoint example](https://docs.vllm.ai/en/v0.8.5/getting_started/examples/sagemaker-entrypoint.html) from the vLLM documentation to convert environment variables to command-line arguments.  \n",
    "\n",
    "---  \n",
    "\n",
    "## Input Format  \n",
    "\n",
    "### 1. Chat Completion  \n",
    "\n",
    "#### Example Payload  \n",
    "```json  \n",
    "{  \n",
    "    \"model\": \"/opt/ml/model\",  \n",
    "    \"messages\": [  \n",
    "        {\"role\": \"system\", \"content\": \"You are a helpful medical assistant.\"},  \n",
    "        {\"role\": \"user\", \"content\": \"What should I do if I have a fever and body aches?\"}  \n",
    "    ],  \n",
    "    \"max_tokens\": 1024,  \n",
    "    \"temperature\": 0.7  \n",
    "}  \n",
    "```  \n",
    "\n",
    "For additional parameters:  \n",
    "- [ChatCompletionRequest](https://github.com/vllm-project/vllm/blob/v0.9.2/vllm/entrypoints/openai/protocol.py#L223)  \n",
    "- [OpenAI's Chat API](https://platform.openai.com/docs/api-reference/chat/create)  \n",
    "\n",
    "---  \n",
    "\n",
    "### 2. Text Completion  \n",
    "\n",
    "#### Single Prompt Example  \n",
    "```json  \n",
    "{  \n",
    "    \"model\": \"/opt/ml/model\",  \n",
    "    \"prompt\": \"How can I maintain good kidney health?\",  \n",
    "    \"max_tokens\": 512,  \n",
    "    \"temperature\": 0.6  \n",
    "}  \n",
    "```  \n",
    "\n",
    "#### Multiple Prompts Example  \n",
    "```json  \n",
    "{  \n",
    "    \"model\": \"/opt/ml/model\",  \n",
    "    \"prompt\": [  \n",
    "        \"How can I maintain good kidney health?\",  \n",
    "        \"What are the best practices for kidney care?\"  \n",
    "    ],  \n",
    "    \"max_tokens\": 512,  \n",
    "    \"temperature\": 0.6  \n",
    "}  \n",
    "```  \n",
    "\n",
    "Reference:  \n",
    "- [CompletionRequest](https://github.com/vllm-project/vllm/blob/v0.9.2/vllm/entrypoints/openai/protocol.py#L741)  \n",
    "- [OpenAI's Completions API](https://platform.openai.com/docs/api-reference/completions/create)  \n",
    "\n",
    "---  \n",
    "\n",
    "### Important Notes:\n",
    "- **Streaming Responses:** Add `\"stream\": true` to your request payload to enable streaming\n",
    "- **Model Path Requirement:** Always set `\"model\": \"/opt/ml/model\"` (SageMaker's fixed model location)"
   ]
  },
  {
   "cell_type": "markdown",
   "id": "07f13be5-3f3b-45db-829d-b99d4584913f",
   "metadata": {},
   "source": [
    "### Initial setup"
   ]
  },
  {
   "cell_type": "code",
   "execution_count": 4,
   "id": "7b61fa7d-8d76-476f-91e2-8fea89e7dfa5",
   "metadata": {
    "tags": []
   },
   "outputs": [],
   "source": [
    "prompt1 = \"\"\"A 23-year-old pregnant woman at 22 weeks gestation presents with burning upon urination. She states it started 1 day ago and has been worsening despite drinking more water and taking cranberry extract. She otherwise feels well and is followed by a doctor for her pregnancy. Her temperature is 97.7°F (36.5°C), blood pressure is 122/77 mmHg, pulse is 80/min, respirations are 19/min, and oxygen saturation is 98% on room air. Physical exam is notable for an absence of costovertebral angle tenderness and a gravid uterus.\n",
    "\n",
    "Which of the following is the best treatment for this patient?\n",
    "A: Ampicillin\n",
    "B: Ceftriaxone\n",
    "C: Ciprofloxacin\n",
    "D: Doxycycline\n",
    "E: Nitrofurantoin\n",
    "\"\"\"\n",
    "\n",
    "prompt2 = \"What should I do if I have a fever and body aches?\"\n",
    "\n",
    "prompts = [\n",
    "    \"How can I maintain good kidney health?\",\n",
    "    \"What are the symptoms of high blood pressure?\"\n",
    "]\n",
    "\n"
   ]
  },
  {
   "cell_type": "code",
   "execution_count": 5,
   "id": "bca8d319-02a4-44ad-b90c-216185f3098c",
   "metadata": {
    "tags": []
   },
   "outputs": [],
   "source": [
    "system_prompt =\"You are a helpful medical assistant. Provide accurate, evidence-based information in response to the following question. Organize the response with clear hierarchical headings and include a conclusion if necessary.\""
   ]
  },
  {
   "cell_type": "markdown",
   "id": "08a626b7-f295-4c49-b856-ce237d5d3203",
   "metadata": {},
   "source": [
    "## 2. Create a deployable model from the model package."
   ]
  },
  {
   "cell_type": "code",
   "execution_count": 6,
   "id": "0e39b84b-7a9f-4004-a204-56af1fd555f1",
   "metadata": {
    "tags": []
   },
   "outputs": [],
   "source": [
    "model = ModelPackage(\n",
    "    role=role,\n",
    "    model_package_arn=model_package_arn,\n",
    "    sagemaker_session=sagemaker_session,\n",
    ")"
   ]
  },
  {
   "cell_type": "markdown",
   "id": "6a846275-5af5-4679-9c52-d35ab157455b",
   "metadata": {},
   "source": [
    "## 3. Create SageMaker Endpoint"
   ]
  },
  {
   "cell_type": "markdown",
   "id": "01b670fa-60d4-45a4-a0d6-3e8e2845b625",
   "metadata": {},
   "source": [
    "If you want to understand how real-time inference with Amazon SageMaker works, see [Documentation](https://docs.aws.amazon.com/sagemaker/latest/dg/how-it-works-hosting.html)."
   ]
  },
  {
   "cell_type": "code",
   "execution_count": 7,
   "id": "8c19c0c0-3ead-4834-8c02-a192da19080b",
   "metadata": {
    "tags": []
   },
   "outputs": [
    {
     "name": "stdout",
     "output_type": "stream",
     "text": [
      "------------!"
     ]
    }
   ],
   "source": [
    "predictor = model.deploy(\n",
    "    initial_instance_count=1,\n",
    "    instance_type=real_time_inference_instance_type, \n",
    "    endpoint_name=model_name,\n",
    "    model_data_download_timeout=3600\n",
    ")"
   ]
  },
  {
   "cell_type": "markdown",
   "id": "23d5c01b-b884-49c6-8b74-98911f6d8e5b",
   "metadata": {
    "tags": []
   },
   "source": [
    "### 3.1 Real-time inference via Amazon SageMaker Endpoint"
   ]
  },
  {
   "cell_type": "code",
   "execution_count": 54,
   "id": "5c195a50-43e4-4341-ad1d-23ca6f0aa45b",
   "metadata": {
    "tags": []
   },
   "outputs": [],
   "source": [
    "def invoke_realtime_endpoint(record):\n",
    "\n",
    "    response = sm_runtime.invoke_endpoint(\n",
    "        EndpointName=model_name,\n",
    "        ContentType=\"application/json\",\n",
    "        Accept=\"application/json\",\n",
    "        Body=json.dumps(record),\n",
    "    )\n",
    "\n",
    "    return json.load(response[\"Body\"])"
   ]
  },
  {
   "cell_type": "code",
   "execution_count": 55,
   "id": "b39309bb-ba2c-4196-bd07-41c444269fc8",
   "metadata": {
    "tags": []
   },
   "outputs": [],
   "source": [
    "def print_colored(text, color='green'):\n",
    "    colors = {\n",
    "        'green': '\\033[92m',\n",
    "        'reset': '\\033[0m',\n",
    "    }\n",
    "    color_code = colors.get(color, colors['reset'])\n",
    "    print(f\"{color_code}{text}{colors['reset']}\", end=\"\", flush=True)"
   ]
  },
  {
   "cell_type": "markdown",
   "id": "e9a475e7-ad31-4b3b-b7b5-21310f541252",
   "metadata": {
    "tags": []
   },
   "source": [
    "#### Chat Completion"
   ]
  },
  {
   "cell_type": "code",
   "execution_count": 56,
   "id": "c22cf887-70d5-4a87-8476-988590228328",
   "metadata": {
    "tags": []
   },
   "outputs": [
    {
     "name": "stdout",
     "output_type": "stream",
     "text": [
      "\u001b[92m\n",
      "Okay, let's tackle this question. The patient is a 23-year-old pregnant woman at 22 weeks gestation with a burning sensation upon urination that started a day ago and is worsening despite drinking more water and taking cranberry extract. She's otherwise feeling well, with normal vital signs and no costovertebral angle tenderness. The question is asking for the best treatment for her condition.\n",
      "\n",
      "First, I need to figure out what the likely diagnosis is. Burning upon urination is a classic symptom of urinary tract infection (UTI), especially in a pregnant woman. Given that she's in her second trimester and the symptoms are worsening, it's likely a urinary tract infection. The absence of costovertebral angle tenderness suggests it's not a pyelonephritis (upper UTI), so probably a lower UTI, like cystitis.\n",
      "\n",
      "Now, the key here is to determine the appropriate antibiotic for a pregnant woman with a UTI. The options are Ampicillin, Ceftriaxone, Ciprofloxacin, Doxycycline, and Nitrofurantoin. I need to recall which antibiotics are considered safe during pregnancy.\n",
      "\n",
      "Nitrofurantoin is commonly used for UTIs in pregnancy, especially in the first and second trimesters. However, it's contraindicated in the third trimester due to potential risks to the fetus. Since this patient is at 22 weeks, which is the second trimester, Nitrofurantoin might be an option. But I should check other options as well.\n",
      "\n",
      "Ampicillin is another antibiotic that's considered safe during pregnancy. It's often used for UTIs, especially in pregnant women. However, it's important to note that Ampicillin is not typically the first-line treatment for UTIs, especially if there's a concern about resistance. But since the patient is presenting with a lower UTI, maybe it's a consideration.\n",
      "\n",
      "Ceftriaxone is a third-generation cephalosporin. It's generally considered safe in pregnancy, but I need to remember if it's typically used for UTIs. Ceftriaxone is often used for more severe infections or in cases where there's a concern about resistance. However, it might not be the first choice for a simple UTI.\n",
      "\n",
      "Ciprofloxacin is a fluoroquinolone, which is generally not recommended during pregnancy, especially in the second and third trimesters, due to potential risks to the fetus, such as cartilage damage. So Ciprofloxacin is probably not the best option here.\n",
      "\n",
      "Doxycycline is a tetracycline antibiotic. It's contraindicated in pregnancy, especially in the second and third trimesters, because it can cause discoloration of the teeth in the fetus and affect bone development. So Doxycycline is definitely out of the question here.\n",
      "\n",
      "So between Ampicillin, Ceftriaxone, and Nitrofurantoin. Now, I need to recall the standard treatment guidelines for UTIs in pregnancy. Typically, Nitrofurantoin is considered a first-line option for UTIs in pregnant women, especially in the first and second trimesters. However, some guidelines might prefer other antibiotics based on local resistance patterns. Ampicillin is also commonly used, but if there's resistance, it might not be effective. Ceftriaxone is another option, but again, it's often used for more severe cases or when other options are contraindicated.\n",
      "\n",
      "Another thing to consider is the duration of treatment. UTIs in pregnancy typically require a longer course of antibiotics to prevent complications. Nitrofurantoin is usually given for 7 days, while Ampicillin might be given for 3-7 days. However, the question is about the best treatment, not the duration.\n",
      "\n",
      "Additionally, I should check if there are any contraindications specific to the patient's case. Since she's at 22 weeks, Nitrofurantoin is still safe, but some guidelines might recommend avoiding it if there's a history of allergy or if there's a risk of renal issues. However, given the information provided, there's no mention of such contraindications.\n",
      "\n",
      "Another point is that some studies suggest that nitrofurantoin can cause hemolysis in patients with glucose-6-phosphate dehydrogenase deficiency, but this is a rare condition and not mentioned here. So unless the patient has this condition, nitrofurantoin is acceptable.\n",
      "\n",
      "In summary, the best treatment options are likely Nitrofurantoin or Ampicillin. However, I need to recall which one is more commonly recommended. According to the CDC and other guidelines, nitrofurantoin is often recommended for UTIs in pregnancy, especially in the second trimester, as it's considered safe and effective. Ampicillin is also used, but nitrofurantoin is often preferred for UTIs in pregnant women. Therefore, the correct answer might be Nitrofurantoin (Option E). But I should verify this to be sure.\n",
      "\u001b[0m\u001b[0m\n",
      "\n",
      "# Treatment of Urinary Tract Infection in Pregnancy\n",
      "\n",
      "## Clinical Context\n",
      "The 23-year-old pregnant woman at 22 weeks gestation presents with worsening dysuria (burning upon urination) despite conservative measures. The absence of costovertebral angle tenderness suggests a lower urinary tract infection (likely cystitis), not pyelonephritis.\n",
      "\n",
      "## Antibiotic Options in Pregnancy\n",
      "\n",
      "### Safe Options\n",
      "- **Nitrofurantoin (Option E)**: First-line treatment for UTIs in pregnancy, particularly in the first and second trimesters. It is considered safe and effective for uncomplicated UTIs, with minimal risk to the fetus when used appropriately.\n",
      "- **Ampicillin (Option A)**: Also considered safe in pregnancy, though it may be less preferred than nitrofurantoin for UTIs due to potential resistance patterns.\n",
      "\n",
      "### Contraindicated Options\n",
      "- **Ciprofloxacin (Option C)**: Fluoroquinolones are generally contraindicated in pregnancy, particularly in the second and third trimesters, due to potential risks to fetal cartilage development.\n",
      "- **Doxycycline (Option D)**: Tetracyclines are contraindicated in pregnancy, especially in the second and third trimesters, due to risk of fetal tooth discoloration and bone development issues.\n",
      "- **Ceftriaxone (Option B)**: While generally safe in pregnancy, it is typically reserved for more severe infections or cases where other antibiotics are contraindicated.\n",
      "\n",
      "## Conclusion\n",
      "**Nitrofurantoin (Option E)** is the best treatment for this pregnant woman with uncomplicated cystitis. It is specifically recommended for UTIs during pregnancy, particularly in the second trimester, due to its safety profile and efficacy.\u001b[0m"
     ]
    }
   ],
   "source": [
    "input_data = {\n",
    "    \"model\": \"/opt/ml/model\",\n",
    "    \"messages\": [\n",
    "        {\"role\": \"system\", \"content\": system_prompt},\n",
    "        {\"role\": \"user\", \"content\": prompt1},\n",
    "    ],\n",
    "    \"max_tokens\": 8192,\n",
    "    \"temperature\": 0.6,\n",
    "    \"top_p\": 0.95,\n",
    "    \"top_k\": 20,\n",
    "    \"min_p\": 0.0,\n",
    "    \"presence_penalty\":0.0\n",
    "}\n",
    "\n",
    "result = invoke_realtime_endpoint(input_data)\n",
    "message = result[\"choices\"][0][\"message\"]\n",
    "\n",
    "reasoning_content = message.get(\"reasoning_content\")\n",
    "content = message.get(\"content\")\n",
    "\n",
    "print_colored(reasoning_content, 'green')\n",
    "print_colored(content, 'reset')"
   ]
  },
  {
   "cell_type": "markdown",
   "id": "d1a76aec-391a-44e9-b385-99aa62f1b4bf",
   "metadata": {},
   "source": [
    "#### Text Completion"
   ]
  },
  {
   "cell_type": "code",
   "execution_count": 58,
   "id": "0c06b069-e3d8-48f4-9c09-fec59143ed11",
   "metadata": {
    "tags": []
   },
   "outputs": [
    {
     "name": "stdout",
     "output_type": "stream",
     "text": [
      " # Management of Fever and Body Aches\n",
      "\n",
      "## Immediate Actions\n",
      "\n",
      "1. **Rest**: Get plenty of rest to help your body recover\n",
      "2. **Hydration**: Drink plenty of fluids (water, electrolyte solutions) to stay hydrated\n",
      "3. **Comfort measures**:\n",
      "   - Wear light clothing\n",
      "   - Use a cool, comfortable room temperature\n",
      "   - Take warm baths or showers if comfortable\n",
      "\n",
      "## Medication Options\n",
      "\n",
      "1. **Over-the-counter medications**:\n",
      "   - Acetaminophen (Tylenol) for fever and pain relief\n",
      "   - Ibuprofen (Advil, Motrin) for inflammation and pain relief\n",
      "   - Aspirin (Bayer) for fever and pain relief (not recommended for children or teenagers)\n",
      "2. **Prescription medications**: Your doctor may prescribe stronger medications if needed\n",
      "\n",
      "## When to Seek Medical Attention\n",
      "\n",
      "- If symptoms persist for more than 3-5 days\n",
      "- If you have difficulty breathing\n",
      "- If you have severe headache\n",
      "- If you have persistent vomiting\n",
      "- If you have a rash\n",
      "- If you have a history of chronic illness\n",
      "- If you are pregnant or have a compromised immune system\n",
      "\n",
      "## Prevention of Complications\n",
      "\n",
      "- Practice good hygiene\n",
      "- Wash hands frequently\n",
      "- Avoid close contact with sick people\n",
      "- Stay home from work/school until symptoms improve\n",
      "\n",
      "## When to Call Emergency Services\n",
      "\n",
      "- If you have severe chest pain\n",
      "- If you have sudden severe headache\n",
      "- If you have confusion or difficulty thinking clearly\n",
      "- If you have seizures\n",
      "- If you have persistent vomiting that prevents you from keeping fluids down\n",
      "- If you have severe abdominal pain\n",
      "\n",
      "Remember that fever and body aches can be symptoms of various conditions, ranging from the common cold to more serious illnesses. If you're unsure about your symptoms or they worsen, consult a healthcare professional for proper evaluation and treatment.\n"
     ]
    }
   ],
   "source": [
    "input_data ={\n",
    "        \"model\": \"/opt/ml/model\",\n",
    "        \"prompt\": f\"{system_prompt}\\n\\nUser: {prompt2}\\n\\nAssistant:\",\n",
    "        \"max_tokens\": 2048,\n",
    "        \"temperature\": 0.6,\n",
    "        \"top_p\": 0.95,\n",
    "        \"top_k\": 20,\n",
    "        \"min_p\": 0.0,\n",
    "        \"presence_penalty\":0.0\n",
    "    }\n",
    "\n",
    "result = invoke_realtime_endpoint(input_data)\n",
    "output_text = result['choices'][0]['text']\n",
    "print(output_text)"
   ]
  },
  {
   "cell_type": "markdown",
   "id": "ccccf37b-9dee-4d38-a0dc-38f2aeaeb780",
   "metadata": {},
   "source": [
    "### 3.2 Real-time inference response as a stream via Amazon SageMaker Endpoint"
   ]
  },
  {
   "cell_type": "code",
   "execution_count": 62,
   "id": "dac2fe86-af82-4ae5-a838-162f65e6d0b1",
   "metadata": {
    "tags": []
   },
   "outputs": [],
   "source": [
    "def invoke_streaming_endpoint(record):\n",
    "    try:\n",
    "        response = sm_runtime.invoke_endpoint_with_response_stream(\n",
    "            EndpointName=model_name,\n",
    "            Body=json.dumps(record),\n",
    "            ContentType=\"application/json\",\n",
    "            Accept=\"text/event-stream\"\n",
    "        )\n",
    "\n",
    "        is_chat_completion = \"messages\" in record\n",
    "\n",
    "        for event in response[\"Body\"]:\n",
    "            if \"PayloadPart\" in event:\n",
    "                chunk = event[\"PayloadPart\"][\"Bytes\"].decode(\"utf-8\")\n",
    "                if chunk.startswith(\"data:\"):\n",
    "                    try:\n",
    "                        data = json.loads(chunk[5:].strip())\n",
    "\n",
    "                        if \"choices\" not in data or len(data[\"choices\"]) == 0:\n",
    "                            continue\n",
    "\n",
    "                        choice = data[\"choices\"][0]\n",
    "                        if is_chat_completion:\n",
    "                            if \"delta\" in choice:\n",
    "                                delta = choice[\"delta\"]\n",
    "\n",
    "                                if \"reasoning_content\" in delta:\n",
    "                                    yield {'type': 'reasoning', 'content': delta[\"reasoning_content\"]}\n",
    "\n",
    "                                elif \"content\" in delta:\n",
    "                                    yield {'type': 'content', 'content': delta[\"content\"]}\n",
    "                        else:\n",
    "\n",
    "                            if \"text\" in choice:\n",
    "                                yield {'type': 'text', 'content': choice[\"text\"]}\n",
    "\n",
    "                    except json.JSONDecodeError:\n",
    "                        continue\n",
    "                        \n",
    "            elif \"ModelStreamError\" in event:\n",
    "                error = event[\"ModelStreamError\"]\n",
    "                yield {'type': 'error', 'content': f\"\\nStream error: {error['Message']} (Error code: {error['ErrorCode']})\"}\n",
    "                break\n",
    "            elif \"InternalStreamFailure\" in event:\n",
    "                failure = event[\"InternalStreamFailure\"]\n",
    "                yield {'type': 'error', 'content': f\"\\nInternal stream failure: {failure['Message']}\"}\n",
    "                break\n",
    "                \n",
    "    except Exception as e:\n",
    "        yield {'type': 'error', 'content': f\"\\nAn error occurred during streaming: {str(e)}\"}"
   ]
  },
  {
   "cell_type": "code",
   "execution_count": 64,
   "id": "428cd405-49aa-4466-bff7-b1b3a9538797",
   "metadata": {
    "tags": []
   },
   "outputs": [],
   "source": [
    "def handle_streaming_chunk(chunk):\n",
    "    \"\"\"\n",
    "    Handles and prints a streaming chunk with appropriate formatting\n",
    "    Args:\n",
    "        chunk: Dictionary with 'type' and 'content' keys\n",
    "    \"\"\"\n",
    "    if chunk['type'] == 'reasoning':\n",
    "        print_colored(chunk['content'], 'green')\n",
    "    elif chunk['type'] == 'content':\n",
    "        print_colored(chunk['content'], 'reset')\n",
    "    elif chunk['type'] == 'text':  # For text completion\n",
    "        print(chunk['content'], end=\"\", flush=True)\n",
    "    elif chunk['type'] == 'error':\n",
    "        print_colored(chunk['content'], 'reset')"
   ]
  },
  {
   "cell_type": "markdown",
   "id": "d2c6f25e-6d6d-41c7-a7ab-8b979e97a145",
   "metadata": {},
   "source": [
    "#### Chat Completion"
   ]
  },
  {
   "cell_type": "code",
   "execution_count": 67,
   "id": "5d62d99f-67a1-46f7-ad52-d2d41b2c5e3a",
   "metadata": {
    "tags": []
   },
   "outputs": [
    {
     "name": "stdout",
     "output_type": "stream",
     "text": [
      "\u001b[0m\u001b[0m\u001b[92m\n",
      "\u001b[0m\u001b[92mOkay\u001b[0m\u001b[92m,\u001b[0m\u001b[92m let\u001b[0m\u001b[92m's\u001b[0m\u001b[92m tackle\u001b[0m\u001b[92m this\u001b[0m\u001b[92m question\u001b[0m\u001b[92m.\u001b[0m\u001b[92m The\u001b[0m\u001b[92m patient\u001b[0m\u001b[92m is\u001b[0m\u001b[92m a\u001b[0m\u001b[92m \u001b[0m\u001b[92m2\u001b[0m\u001b[92m3\u001b[0m\u001b[92m-year\u001b[0m\u001b[92m-old\u001b[0m\u001b[92m pregnant\u001b[0m\u001b[92m woman\u001b[0m\u001b[92m at\u001b[0m\u001b[92m \u001b[0m\u001b[92m2\u001b[0m\u001b[92m2\u001b[0m\u001b[92m weeks\u001b[0m\u001b[92m gest\u001b[0m\u001b[92mation\u001b[0m\u001b[92m presenting\u001b[0m\u001b[92m with\u001b[0m\u001b[92m burning\u001b[0m\u001b[92m on\u001b[0m\u001b[92m ur\u001b[0m\u001b[92mination\u001b[0m\u001b[92m.\u001b[0m\u001b[92m She\u001b[0m\u001b[92m's\u001b[0m\u001b[92m been\u001b[0m\u001b[92m experiencing\u001b[0m\u001b[92m this\u001b[0m\u001b[92m for\u001b[0m\u001b[92m a\u001b[0m\u001b[92m day\u001b[0m\u001b[92m,\u001b[0m\u001b[92m and\u001b[0m\u001b[92m it\u001b[0m\u001b[92m's\u001b[0m\u001b[92m getting\u001b[0m\u001b[92m worse\u001b[0m\u001b[92m despite\u001b[0m\u001b[92m increased\u001b[0m\u001b[92m water\u001b[0m\u001b[92m intake\u001b[0m\u001b[92m and\u001b[0m\u001b[92m cran\u001b[0m\u001b[92mberry\u001b[0m\u001b[92m extract\u001b[0m\u001b[92m.\u001b[0m\u001b[92m She\u001b[0m\u001b[92m feels\u001b[0m\u001b[92m otherwise\u001b[0m\u001b[92m well\u001b[0m\u001b[92m and\u001b[0m\u001b[92m is\u001b[0m\u001b[92m under\u001b[0m\u001b[92m her\u001b[0m\u001b[92m doctor\u001b[0m\u001b[92m's\u001b[0m\u001b[92m care\u001b[0m\u001b[92m for\u001b[0m\u001b[92m her\u001b[0m\u001b[92m pregnancy\u001b[0m\u001b[92m.\u001b[0m\u001b[92m The\u001b[0m\u001b[92m vital\u001b[0m\u001b[92m signs\u001b[0m\u001b[92m are\u001b[0m\u001b[92m normal\u001b[0m\u001b[92m:\u001b[0m\u001b[92m temperature\u001b[0m\u001b[92m \u001b[0m\u001b[92m9\u001b[0m\u001b[92m7\u001b[0m\u001b[92m.\u001b[0m\u001b[92m7\u001b[0m\u001b[92m°F\u001b[0m\u001b[92m,\u001b[0m\u001b[92m blood\u001b[0m\u001b[92m pressure\u001b[0m\u001b[92m \u001b[0m\u001b[92m1\u001b[0m\u001b[92m2\u001b[0m\u001b[92m2\u001b[0m\u001b[92m/\u001b[0m\u001b[92m7\u001b[0m\u001b[92m7\u001b[0m\u001b[92m mm\u001b[0m\u001b[92mH\u001b[0m\u001b[92mg\u001b[0m\u001b[92m,\u001b[0m\u001b[92m pulse\u001b[0m\u001b[92m \u001b[0m\u001b[92m8\u001b[0m\u001b[92m0\u001b[0m\u001b[92m/min\u001b[0m\u001b[92m,\u001b[0m\u001b[92m respir\u001b[0m\u001b[92mations\u001b[0m\u001b[92m \u001b[0m\u001b[92m1\u001b[0m\u001b[92m9\u001b[0m\u001b[92m/min\u001b[0m\u001b[92m,\u001b[0m\u001b[92m and\u001b[0m\u001b[92m oxygen\u001b[0m\u001b[92m saturation\u001b[0m\u001b[92m \u001b[0m\u001b[92m9\u001b[0m\u001b[92m8\u001b[0m\u001b[92m%\u001b[0m\u001b[92m on\u001b[0m\u001b[92m room\u001b[0m\u001b[92m air\u001b[0m\u001b[92m.\u001b[0m\u001b[92m Physical\u001b[0m\u001b[92m exam\u001b[0m\u001b[92m shows\u001b[0m\u001b[92m no\u001b[0m\u001b[92m cost\u001b[0m\u001b[92mover\u001b[0m\u001b[92mte\u001b[0m\u001b[92mbral\u001b[0m\u001b[92m angle\u001b[0m\u001b[92m tend\u001b[0m\u001b[92merness\u001b[0m\u001b[92m and\u001b[0m\u001b[92m a\u001b[0m\u001b[92m gravid\u001b[0m\u001b[92m uterus\u001b[0m\u001b[92m.\n",
      "\n",
      "\u001b[0m\u001b[92mFirst\u001b[0m\u001b[92m,\u001b[0m\u001b[92m the\u001b[0m\u001b[92m main\u001b[0m\u001b[92m issue\u001b[0m\u001b[92m here\u001b[0m\u001b[92m is\u001b[0m\u001b[92m a\u001b[0m\u001b[92m urinary\u001b[0m\u001b[92m tract\u001b[0m\u001b[92m infection\u001b[0m\u001b[92m (\u001b[0m\u001b[92mUT\u001b[0m\u001b[92mI\u001b[0m\u001b[92m)\u001b[0m\u001b[92m given\u001b[0m\u001b[92m the\u001b[0m\u001b[92m symptoms\u001b[0m\u001b[92m of\u001b[0m\u001b[92m burning\u001b[0m\u001b[92m on\u001b[0m\u001b[92m ur\u001b[0m\u001b[92mination\u001b[0m\u001b[92m.\u001b[0m\u001b[92m The\u001b[0m\u001b[92m question\u001b[0m\u001b[92m is\u001b[0m\u001b[92m about\u001b[0m\u001b[92m the\u001b[0m\u001b[92m best\u001b[0m\u001b[92m treatment\u001b[0m\u001b[92m option\u001b[0m\u001b[92m among\u001b[0m\u001b[92m the\u001b[0m\u001b[92m given\u001b[0m\u001b[92m choices\u001b[0m\u001b[92m.\u001b[0m\u001b[92m Let\u001b[0m\u001b[92m me\u001b[0m\u001b[92m recall\u001b[0m\u001b[92m the\u001b[0m\u001b[92m management\u001b[0m\u001b[92m of\u001b[0m\u001b[92m UT\u001b[0m\u001b[92mIs\u001b[0m\u001b[92m during\u001b[0m\u001b[92m pregnancy\u001b[0m\u001b[92m.\n",
      "\n",
      "\u001b[0m\u001b[92mP\u001b[0m\u001b[92mregn\u001b[0m\u001b[92mancy\u001b[0m\u001b[92m is\u001b[0m\u001b[92m a\u001b[0m\u001b[92m risk\u001b[0m\u001b[92m factor\u001b[0m\u001b[92m for\u001b[0m\u001b[92m UT\u001b[0m\u001b[92mIs\u001b[0m\u001b[92m because\u001b[0m\u001b[92m of\u001b[0m\u001b[92m anatom\u001b[0m\u001b[92mical\u001b[0m\u001b[92m changes\u001b[0m\u001b[92m like\u001b[0m\u001b[92m ure\u001b[0m\u001b[92mter\u001b[0m\u001b[92mal\u001b[0m\u001b[92m dilation\u001b[0m\u001b[92m and\u001b[0m\u001b[92m hormonal\u001b[0m\u001b[92m changes\u001b[0m\u001b[92m that\u001b[0m\u001b[92m affect\u001b[0m\u001b[92m the\u001b[0m\u001b[92m urinary\u001b[0m\u001b[92m tract\u001b[0m\u001b[92m.\u001b[0m\u001b[92m Unt\u001b[0m\u001b[92mreated\u001b[0m\u001b[92m UT\u001b[0m\u001b[92mIs\u001b[0m\u001b[92m can\u001b[0m\u001b[92m lead\u001b[0m\u001b[92m to\u001b[0m\u001b[92m complications\u001b[0m\u001b[92m like\u001b[0m\u001b[92m py\u001b[0m\u001b[92mel\u001b[0m\u001b[92mone\u001b[0m\u001b[92mph\u001b[0m\u001b[92mritis\u001b[0m\u001b[92m,\u001b[0m\u001b[92m pre\u001b[0m\u001b[92mterm\u001b[0m\u001b[92m labor\u001b[0m\u001b[92m,\u001b[0m\u001b[92m or\u001b[0m\u001b[92m low\u001b[0m\u001b[92m birth\u001b[0m\u001b[92m weight\u001b[0m\u001b[92m.\u001b[0m\u001b[92m So\u001b[0m\u001b[92m,\u001b[0m\u001b[92m prompt\u001b[0m\u001b[92m and\u001b[0m\u001b[92m treatment\u001b[0m\u001b[92m is\u001b[0m\u001b[92m crucial\u001b[0m\u001b[92m.\n",
      "\n",
      "\u001b[0m\u001b[92mLooking\u001b[0m\u001b[92m at\u001b[0m\u001b[92m the\u001b[0m\u001b[92m options\u001b[0m\u001b[92m:\u001b[0m\u001b[92m Amp\u001b[0m\u001b[92mic\u001b[0m\u001b[92millin\u001b[0m\u001b[92m,\u001b[0m\u001b[92m C\u001b[0m\u001b[92mef\u001b[0m\u001b[92mtr\u001b[0m\u001b[92mia\u001b[0m\u001b[92mx\u001b[0m\u001b[92mone\u001b[0m\u001b[92m,\u001b[0m\u001b[92m C\u001b[0m\u001b[92mipro\u001b[0m\u001b[92mf\u001b[0m\u001b[92mlox\u001b[0m\u001b[92macin\u001b[0m\u001b[92m,\u001b[0m\u001b[92m Do\u001b[0m\u001b[92mx\u001b[0m\u001b[92myc\u001b[0m\u001b[92mycl\u001b[0m\u001b[92mine\u001b[0m\u001b[92m,\u001b[0m\u001b[92m Nit\u001b[0m\u001b[92mro\u001b[0m\u001b[92mfur\u001b[0m\u001b[92mant\u001b[0m\u001b[92moin\u001b[0m\u001b[92m.\u001b[0m\u001b[92m I\u001b[0m\u001b[92m need\u001b[0m\u001b[92m to\u001b[0m\u001b[92m consider\u001b[0m\u001b[92m which\u001b[0m\u001b[92m antibiotics\u001b[0m\u001b[92m are\u001b[0m\u001b[92m safe\u001b[0m\u001b[92m during\u001b[0m\u001b[92m pregnancy\u001b[0m\u001b[92m and\u001b[0m\u001b[92m against\u001b[0m\u001b[92m common\u001b[0m\u001b[92m UT\u001b[0m\u001b[92mI\u001b[0m\u001b[92m pathogens\u001b[0m\u001b[92m.\n",
      "\n",
      "\u001b[0m\u001b[92mC\u001b[0m\u001b[92mipro\u001b[0m\u001b[92mf\u001b[0m\u001b[92mlox\u001b[0m\u001b[92macin\u001b[0m\u001b[92m is\u001b[0m\u001b[92m a\u001b[0m\u001b[92m flu\u001b[0m\u001b[92moro\u001b[0m\u001b[92mquin\u001b[0m\u001b[92mol\u001b[0m\u001b[92mone\u001b[0m\u001b[92m.\u001b[0m\u001b[92m However\u001b[0m\u001b[92m,\u001b[0m\u001b[92m flu\u001b[0m\u001b[92moro\u001b[0m\u001b[92mquin\u001b[0m\u001b[92mol\u001b[0m\u001b[92mones\u001b[0m\u001b[92m are\u001b[0m\u001b[92m generally\u001b[0m\u001b[92m not\u001b[0m\u001b[92m recommended\u001b[0m\u001b[92m during\u001b[0m\u001b[92m pregnancy\u001b[0m\u001b[92m,\u001b[0m\u001b[92m especially\u001b[0m\u001b[92m in\u001b[0m\u001b[92m the\u001b[0m\u001b[92m second\u001b[0m\u001b[92m and\u001b[0m\u001b[92m third\u001b[0m\u001b[92m trimest\u001b[0m\u001b[92mers\u001b[0m\u001b[92m,\u001b[0m\u001b[92m due\u001b[0m\u001b[92m to\u001b[0m\u001b[92m potential\u001b[0m\u001b[92m risks\u001b[0m\u001b[92m to\u001b[0m\u001b[92m the\u001b[0m\u001b[92m fetus\u001b[0m\u001b[92m,\u001b[0m\u001b[92m such\u001b[0m\u001b[92m as\u001b[0m\u001b[92m joint\u001b[0m\u001b[92m and\u001b[0m\u001b[92m bone\u001b[0m\u001b[92m development\u001b[0m\u001b[92m issues\u001b[0m\u001b[92m.\u001b[0m\u001b[92m So\u001b[0m\u001b[92m C\u001b[0m\u001b[92mipro\u001b[0m\u001b[92mf\u001b[0m\u001b[92mlox\u001b[0m\u001b[92macin\u001b[0m\u001b[92m might\u001b[0m\u001b[92m not\u001b[0m\u001b[92m be\u001b[0m\u001b[92m the\u001b[0m\u001b[92m best\u001b[0m\u001b[92m choice\u001b[0m\u001b[92m here\u001b[0m\u001b[92m.\n",
      "\n",
      "\u001b[0m\u001b[92mD\u001b[0m\u001b[92mox\u001b[0m\u001b[92myc\u001b[0m\u001b[92mycl\u001b[0m\u001b[92mine\u001b[0m\u001b[92m is\u001b[0m\u001b[92m a\u001b[0m\u001b[92m t\u001b[0m\u001b[92metr\u001b[0m\u001b[92macy\u001b[0m\u001b[92mcline\u001b[0m\u001b[92m antibiotic\u001b[0m\u001b[92m.\u001b[0m\u001b[92m T\u001b[0m\u001b[92metr\u001b[0m\u001b[92macy\u001b[0m\u001b[92mcl\u001b[0m\u001b[92mines\u001b[0m\u001b[92m are\u001b[0m\u001b[92m contr\u001b[0m\u001b[92main\u001b[0m\u001b[92md\u001b[0m\u001b[92micated\u001b[0m\u001b[92m in\u001b[0m\u001b[92m pregnancy\u001b[0m\u001b[92m,\u001b[0m\u001b[92m in\u001b[0m\u001b[92m the\u001b[0m\u001b[92m second\u001b[0m\u001b[92m and\u001b[0m\u001b[92m third\u001b[0m\u001b[92m trimest\u001b[0m\u001b[92mers\u001b[0m\u001b[92m,\u001b[0m\u001b[92m as\u001b[0m\u001b[92m they\u001b[0m\u001b[92m can\u001b[0m\u001b[92m cause\u001b[0m\u001b[92m disc\u001b[0m\u001b[92molor\u001b[0m\u001b[92mation\u001b[0m\u001b[92m of\u001b[0m\u001b[92m the\u001b[0m\u001b[92m teeth\u001b[0m\u001b[92m and\u001b[0m\u001b[92m affect\u001b[0m\u001b[92m bone\u001b[0m\u001b[92m development\u001b[0m\u001b[92m in\u001b[0m\u001b[92m the\u001b[0m\u001b[92m fetus\u001b[0m\u001b[92m.\u001b[0m\u001b[92m So\u001b[0m\u001b[92m Do\u001b[0m\u001b[92mx\u001b[0m\u001b[92myc\u001b[0m\u001b[92mycl\u001b[0m\u001b[92mine\u001b[0m\u001b[92m is\u001b[0m\u001b[92m out\u001b[0m\u001b[92m.\n",
      "\n",
      "\u001b[0m\u001b[92mNit\u001b[0m\u001b[92mro\u001b[0m\u001b[92mfur\u001b[0m\u001b[92mant\u001b[0m\u001b[92moin\u001b[0m\u001b[92m is\u001b[0m\u001b[92m an\u001b[0m\u001b[92m option\u001b[0m\u001b[92m.\u001b[0m\u001b[92m It\u001b[0m\u001b[92m's\u001b[0m\u001b[92m commonly\u001b[0m\u001b[92m used\u001b[0m\u001b[92m for\u001b[0m\u001b[92m UT\u001b[0m\u001b[92mIs\u001b[0m\u001b[92m during\u001b[0m\u001b[92m pregnancy\u001b[0m\u001b[92m,\u001b[0m\u001b[92m especially\u001b[0m\u001b[92m in\u001b[0m\u001b[92m the\u001b[0m\u001b[92m first\u001b[0m\u001b[92m and\u001b[0m\u001b[92m second\u001b[0m\u001b[92m trimest\u001b[0m\u001b[92mers\u001b[0m\u001b[92m.\u001b[0m\u001b[92m However\u001b[0m\u001b[92m,\u001b[0m\u001b[92m in\u001b[0m\u001b[92m the\u001b[0m\u001b[92m third\u001b[0m\u001b[92m trimest\u001b[0m\u001b[92mer\u001b[0m\u001b[92m,\u001b[0m\u001b[92m it\u001b[0m\u001b[92m's\u001b[0m\u001b[92m avoided\u001b[0m\u001b[92m due\u001b[0m\u001b[92m to\u001b[0m\u001b[92m potential\u001b[0m\u001b[92m risks\u001b[0m\u001b[92m.\u001b[0m\u001b[92m The\u001b[0m\u001b[92m patient\u001b[0m\u001b[92m is\u001b[0m\u001b[92m at\u001b[0m\u001b[92m \u001b[0m\u001b[92m2\u001b[0m\u001b[92m2\u001b[0m\u001b[92m weeks\u001b[0m\u001b[92m,\u001b[0m\u001b[92m which\u001b[0m\u001b[92m is\u001b[0m\u001b[92m the\u001b[0m\u001b[92m second\u001b[0m\u001b[92m trimest\u001b[0m\u001b[92mer\u001b[0m\u001b[92m,\u001b[0m\u001b[92m so\u001b[0m\u001b[92m Nit\u001b[0m\u001b[92mro\u001b[0m\u001b[92mfur\u001b[0m\u001b[92mant\u001b[0m\u001b[92moin\u001b[0m\u001b[92m might\u001b[0m\u001b[92m be\u001b[0m\u001b[92m a\u001b[0m\u001b[92m viable\u001b[0m\u001b[92m option\u001b[0m\u001b[92m.\u001b[0m\u001b[92m But\u001b[0m\u001b[92m wait\u001b[0m\u001b[92m,\u001b[0m\u001b[92m some\u001b[0m\u001b[92m guidelines\u001b[0m\u001b[92m do\u001b[0m\u001b[92m avoiding\u001b[0m\u001b[92m nit\u001b[0m\u001b[92mro\u001b[0m\u001b[92mfur\u001b[0m\u001b[92mant\u001b[0m\u001b[92moin\u001b[0m\u001b[92m in\u001b[0m\u001b[92m the\u001b[0m\u001b[92m third\u001b[0m\u001b[92m trimest\u001b[0m\u001b[92mer\u001b[0m\u001b[92m,\u001b[0m\u001b[92m but\u001b[0m\u001b[92m at\u001b[0m\u001b[92m \u001b[0m\u001b[92m2\u001b[0m\u001b[92m2\u001b[0m\u001b[92m weeks\u001b[0m\u001b[92m,\u001b[0m\u001b[92m it\u001b[0m\u001b[92m's\u001b[0m\u001b[92m generally\u001b[0m\u001b[92m considered\u001b[0m\u001b[92m safe\u001b[0m\u001b[92m.\u001b[0m\u001b[92m However\u001b[0m\u001b[92m,\u001b[0m\u001b[92m I\u001b[0m\u001b[92m should\u001b[0m\u001b[92m check\u001b[0m\u001b[92m if\u001b[0m\u001b[92m there\u001b[0m\u001b[92m are\u001b[0m\u001b[92m any\u001b[0m\u001b[92m contr\u001b[0m\u001b[92main\u001b[0m\u001b[92mdic\u001b[0m\u001b[92mations\u001b[0m\u001b[92m here\u001b[0m\u001b[92m.\n",
      "\n",
      "\u001b[0m\u001b[92mC\u001b[0m\u001b[92mef\u001b[0m\u001b[92mtr\u001b[0m\u001b[92mia\u001b[0m\u001b[92mx\u001b[0m\u001b[92mone\u001b[0m\u001b[92m is\u001b[0m\u001b[92m a\u001b[0m\u001b[92m third\u001b[0m\u001b[92m-generation\u001b[0m\u001b[92m cep\u001b[0m\u001b[92mhal\u001b[0m\u001b[92mos\u001b[0m\u001b[92mpor\u001b[0m\u001b[92min\u001b[0m\u001b[92m.\u001b[0m\u001b[92m It\u001b[0m\u001b[92m's\u001b[0m\u001b[92m safe\u001b[0m\u001b[92m during\u001b[0m\u001b[92m pregnancy\u001b[0m\u001b[92m and\u001b[0m\u001b[92m is\u001b[0m\u001b[92m often\u001b[0m\u001b[92m used\u001b[0m\u001b[92m for\u001b[0m\u001b[92m UT\u001b[0m\u001b[92mIs\u001b[0m\u001b[92m,\u001b[0m\u001b[92m in\u001b[0m\u001b[92m cases\u001b[0m\u001b[92m where\u001b[0m\u001b[92m other\u001b[0m\u001b[92m options\u001b[0m\u001b[92m are\u001b[0m\u001b[92m contr\u001b[0m\u001b[92main\u001b[0m\u001b[92md\u001b[0m\u001b[92micated\u001b[0m\u001b[92m.\u001b[0m\u001b[92m However\u001b[0m\u001b[92m,\u001b[0m\u001b[92m I\u001b[0m\u001b[92m need\u001b[0m\u001b[92m to\u001b[0m\u001b[92m remember\u001b[0m\u001b[92m that\u001b[0m\u001b[92m c\u001b[0m\u001b[92mef\u001b[0m\u001b[92mtr\u001b[0m\u001b[92mia\u001b[0m\u001b[92mx\u001b[0m\u001b[92mone\u001b[0m\u001b[92m is\u001b[0m\u001b[92m used\u001b[0m\u001b[92m for\u001b[0m\u001b[92m more\u001b[0m\u001b[92m severe\u001b[0m\u001b[92m infections\u001b[0m\u001b[92m or\u001b[0m\u001b[92m when\u001b[0m\u001b[92m the\u001b[0m\u001b[92m patient\u001b[0m\u001b[92m is\u001b[0m\u001b[92m unable\u001b[0m\u001b[92m to\u001b[0m\u001b[92m take\u001b[0m\u001b[92m oral\u001b[0m\u001b[92m antibiotics\u001b[0m\u001b[92m.\u001b[0m\u001b[92m But\u001b[0m\u001b[92m in\u001b[0m\u001b[92m this\u001b[0m\u001b[92m case\u001b[0m\u001b[92m,\u001b[0m\u001b[92m the\u001b[0m\u001b[92m patient\u001b[0m\u001b[92m is\u001b[0m\u001b[92m otherwise\u001b[0m\u001b[92m well\u001b[0m\u001b[92m,\u001b[0m\u001b[92m so\u001b[0m\u001b[92m maybe\u001b[0m\u001b[92m an\u001b[0m\u001b[92m oral\u001b[0m\u001b[92m antibiotic\u001b[0m\u001b[92m is\u001b[0m\u001b[92m preferred\u001b[0m\u001b[92m.\n",
      "\n",
      "\u001b[0m\u001b[92mA\u001b[0m\u001b[92mmp\u001b[0m\u001b[92mic\u001b[0m\u001b[92millin\u001b[0m\u001b[92m is\u001b[0m\u001b[92m a\u001b[0m\u001b[92m pen\u001b[0m\u001b[92mic\u001b[0m\u001b[92millin\u001b[0m\u001b[92m.\u001b[0m\u001b[92m It\u001b[0m\u001b[92m's\u001b[0m\u001b[92m considered\u001b[0m\u001b[92m safe\u001b[0m\u001b[92m during\u001b[0m\u001b[92m pregnancy\u001b[0m\u001b[92m.\u001b[0m\u001b[92m However\u001b[0m\u001b[92m,\u001b[0m\u001b[92m am\u001b[0m\u001b[92mpic\u001b[0m\u001b[92millin\u001b[0m\u001b[92m might\u001b[0m\u001b[92m not\u001b[0m\u001b[92m be\u001b[0m\u001b[92m the\u001b[0m\u001b[92m first\u001b[0m\u001b[92m-line\u001b[0m\u001b[92m treatment\u001b[0m\u001b[92m for\u001b[0m\u001b[92m UT\u001b[0m\u001b[92mIs\u001b[0m\u001b[92m in\u001b[0m\u001b[92m some\u001b[0m\u001b[92m guidelines\u001b[0m\u001b[92m.\u001b[0m\u001b[92m The\u001b[0m\u001b[92m patient\u001b[0m\u001b[92m's\u001b[0m\u001b[92m symptoms\u001b[0m\u001b[92m are\u001b[0m\u001b[92m,\u001b[0m\u001b[92m so\u001b[0m\u001b[92m maybe\u001b[0m\u001b[92m a\u001b[0m\u001b[92m broader\u001b[0m\u001b[92m spectrum\u001b[0m\u001b[92m antibiotic\u001b[0m\u001b[92m is\u001b[0m\u001b[92m needed\u001b[0m\u001b[92m.\u001b[0m\u001b[92m Also\u001b[0m\u001b[92m,\u001b[0m\u001b[92m considering\u001b[0m\u001b[92m the\u001b[0m\u001b[92m patient\u001b[0m\u001b[92m's\u001b[0m\u001b[92m history\u001b[0m\u001b[92m of\u001b[0m\u001b[92m taking\u001b[0m\u001b[92m cran\u001b[0m\u001b[92mberry\u001b[0m\u001b[92m extract\u001b[0m\u001b[92m without\u001b[0m\u001b[92m improvement\u001b[0m\u001b[92m,\u001b[0m\u001b[92m it\u001b[0m\u001b[92m's\u001b[0m\u001b[92m likely\u001b[0m\u001b[92m a\u001b[0m\u001b[92m bacterial\u001b[0m\u001b[92m infection\u001b[0m\u001b[92m that\u001b[0m\u001b[92m requires\u001b[0m\u001b[92m antibiotic\u001b[0m\u001b[92m treatment\u001b[0m\u001b[92m.\n",
      "\n",
      "\u001b[0m\u001b[92mWait\u001b[0m\u001b[92m,\u001b[0m\u001b[92m but\u001b[0m\u001b[92m the\u001b[0m\u001b[92m question\u001b[0m\u001b[92m is\u001b[0m\u001b[92m about\u001b[0m\u001b[92m the\u001b[0m\u001b[92m best\u001b[0m\u001b[92m treatment\u001b[0m\u001b[92m.\u001b[0m\u001b[92m Let\u001b[0m\u001b[92m me\u001b[0m\u001b[92m recall\u001b[0m\u001b[92m the\u001b[0m\u001b[92m standard\u001b[0m\u001b[92m treatment\u001b[0m\u001b[92m for\u001b[0m\u001b[92m UT\u001b[0m\u001b[92mIs\u001b[0m\u001b[92m in\u001b[0m\u001b[92m.\u001b[0m\u001b[92m Nit\u001b[0m\u001b[92mro\u001b[0m\u001b[92mfur\u001b[0m\u001b[92mant\u001b[0m\u001b[92moin\u001b[0m\u001b[92m is\u001b[0m\u001b[92m often\u001b[0m\u001b[92m first\u001b[0m\u001b[92m-line\u001b[0m\u001b[92m for\u001b[0m\u001b[92m uncomp\u001b[0m\u001b[92mlicated\u001b[0m\u001b[92m UT\u001b[0m\u001b[92mIs\u001b[0m\u001b[92m during\u001b[0m\u001b[92m pregnancy\u001b[0m\u001b[92m.\u001b[0m\u001b[92m However\u001b[0m\u001b[92m,\u001b[0m\u001b[92m some\u001b[0m\u001b[92m guidelines\u001b[0m\u001b[92m may\u001b[0m\u001b[92m prefer\u001b[0m\u001b[92m a\u001b[0m\u001b[92m approach\u001b[0m\u001b[92m.\u001b[0m\u001b[92m For\u001b[0m\u001b[92m example\u001b[0m\u001b[92m,\u001b[0m\u001b[92m in\u001b[0m\u001b[92m some\u001b[0m\u001b[92m cases\u001b[0m\u001b[92m,\u001b[0m\u001b[92m especially\u001b[0m\u001b[92m if\u001b[0m\u001b[92m the\u001b[0m\u001b[92m patient\u001b[0m\u001b[92m is\u001b[0m\u001b[92m at\u001b[0m\u001b[92m high\u001b[0m\u001b[92m risk\u001b[0m\u001b[92m or\u001b[0m\u001b[92m if\u001b[0m\u001b[92m the\u001b[0m\u001b[92m infection\u001b[0m\u001b[92m is\u001b[0m\u001b[92m more\u001b[0m\u001b[92m severe\u001b[0m\u001b[92m,\u001b[0m\u001b[92m a\u001b[0m\u001b[92m cep\u001b[0m\u001b[92mhal\u001b[0m\u001b[92mos\u001b[0m\u001b[92mpor\u001b[0m\u001b[92min\u001b[0m\u001b[92m like\u001b[0m\u001b[92m c\u001b[0m\u001b[92mef\u001b[0m\u001b[92mtr\u001b[0m\u001b[92mia\u001b[0m\u001b[92mx\u001b[0m\u001b[92mone\u001b[0m\u001b[92m might\u001b[0m\u001b[92m be\u001b[0m\u001b[92m used\u001b[0m\u001b[92m.\u001b[0m\u001b[92m But\u001b[0m\u001b[92m c\u001b[0m\u001b[92mef\u001b[0m\u001b[92mtr\u001b[0m\u001b[92mia\u001b[0m\u001b[92mx\u001b[0m\u001b[92mone\u001b[0m\u001b[92m is\u001b[0m\u001b[92m usually\u001b[0m\u001b[92m reserved\u001b[0m\u001b[92m for\u001b[0m\u001b[92m more\u001b[0m\u001b[92m severe\u001b[0m\u001b[92m cases\u001b[0m\u001b[92m or\u001b[0m\u001b[92m when\u001b[0m\u001b[92m oral\u001b[0m\u001b[92m antibiotics\u001b[0m\u001b[92m are\u001b[0m\u001b[92m not\u001b[0m\u001b[92m suitable\u001b[0m\u001b[92m.\n",
      "\n",
      "\u001b[0m\u001b[92mAlternatively\u001b[0m\u001b[92m,\u001b[0m\u001b[92m am\u001b[0m\u001b[92mpic\u001b[0m\u001b[92millin\u001b[0m\u001b[92m is\u001b[0m\u001b[92m a\u001b[0m\u001b[92m common\u001b[0m\u001b[92m choice\u001b[0m\u001b[92m,\u001b[0m\u001b[92m but\u001b[0m\u001b[92m it\u001b[0m\u001b[92m's\u001b[0m\u001b[92m combined\u001b[0m\u001b[92m with\u001b[0m\u001b[92m another\u001b[0m\u001b[92m antibiotic\u001b[0m\u001b[92m for\u001b[0m\u001b[92m coverage\u001b[0m\u001b[92m against\u001b[0m\u001b[92m resistant\u001b[0m\u001b[92m organisms\u001b[0m\u001b[92m.\u001b[0m\u001b[92m However\u001b[0m\u001b[92m,\u001b[0m\u001b[92m the\u001b[0m\u001b[92m question\u001b[0m\u001b[92m gives\u001b[0m\u001b[92m only\u001b[0m\u001b[92m one\u001b[0m\u001b[92m option\u001b[0m\u001b[92m as\u001b[0m\u001b[92m the\u001b[0m\u001b[92m correct\u001b[0m\u001b[92m answer\u001b[0m\u001b[92m.\n",
      "\n",
      "\u001b[0m\u001b[92mWait\u001b[0m\u001b[92m,\u001b[0m\u001b[92m the\u001b[0m\u001b[92m options\u001b[0m\u001b[92m are\u001b[0m\u001b[92m A\u001b[0m\u001b[92m to\u001b[0m\u001b[92m E\u001b[0m\u001b[92m.\u001b[0m\u001b[92m Let\u001b[0m\u001b[92m me\u001b[0m\u001b[92m think\u001b[0m\u001b[92m again\u001b[0m\u001b[92m.\u001b[0m\u001b[92m The\u001b[0m\u001b[92m patient\u001b[0m\u001b[92m is\u001b[0m\u001b[92m at\u001b[0m\u001b[92m \u001b[0m\u001b[92m2\u001b[0m\u001b[92m2\u001b[0m\u001b[92m weeks\u001b[0m\u001b[92m,\u001b[0m\u001b[92m so\u001b[0m\u001b[92m second\u001b[0m\u001b[92m trimest\u001b[0m\u001b[92mer\u001b[0m\u001b[92m.\u001b[0m\u001b[92m Nit\u001b[0m\u001b[92mro\u001b[0m\u001b[92mfur\u001b[0m\u001b[92mant\u001b[0m\u001b[92moin\u001b[0m\u001b[92m is\u001b[0m\u001b[92m considered\u001b[0m\u001b[92m safe\u001b[0m\u001b[92m in\u001b[0m\u001b[92m the\u001b[0m\u001b[92m first\u001b[0m\u001b[92m and\u001b[0m\u001b[92m second\u001b[0m\u001b[92m trimest\u001b[0m\u001b[92mers\u001b[0m\u001b[92m but\u001b[0m\u001b[92m is\u001b[0m\u001b[92m avoided\u001b[0m\u001b[92m in\u001b[0m\u001b[92m the\u001b[0m\u001b[92m third\u001b[0m\u001b[92m trimest\u001b[0m\u001b[92mer\u001b[0m\u001b[92m due\u001b[0m\u001b[92m to\u001b[0m\u001b[92m the\u001b[0m\u001b[92m risk\u001b[0m\u001b[92m of\u001b[0m\u001b[92m hem\u001b[0m\u001b[92moly\u001b[0m\u001b[92mtic\u001b[0m\u001b[92m an\u001b[0m\u001b[92memia\u001b[0m\u001b[92m in\u001b[0m\u001b[92m the\u001b[0m\u001b[92m newborn\u001b[0m\u001b[92m.\u001b[0m\u001b[92m However\u001b[0m\u001b[92m,\u001b[0m\u001b[92m at\u001b[0m\u001b[92m \u001b[0m\u001b[92m2\u001b[0m\u001b[92m2\u001b[0m\u001b[92m weeks\u001b[0m\u001b[92m,\u001b[0m\u001b[92m it\u001b[0m\u001b[92m's\u001b[0m\u001b[92m acceptable\u001b[0m\u001b[92m.\u001b[0m\u001b[92m However\u001b[0m\u001b[92m,\u001b[0m\u001b[92m some\u001b[0m\u001b[92m guidelines\u001b[0m\u001b[92m might\u001b[0m\u001b[92m recommend\u001b[0m\u001b[92m avoiding\u001b[0m\u001b[92m nit\u001b[0m\u001b[92mro\u001b[0m\u001b[92mfur\u001b[0m\u001b[92mant\u001b[0m\u001b[92moin\u001b[0m\u001b[92m in\u001b[0m\u001b[92m the\u001b[0m\u001b[92m second\u001b[0m\u001b[92m trimest\u001b[0m\u001b[92mer\u001b[0m\u001b[92m as\u001b[0m\u001b[92m well\u001b[0m\u001b[92m,\u001b[0m\u001b[92m so\u001b[0m\u001b[92m maybe\u001b[0m\u001b[92m another\u001b[0m\u001b[92m option\u001b[0m\u001b[92m is\u001b[0m\u001b[92m better\u001b[0m\u001b[92m.\n",
      "\n",
      "\u001b[0m\u001b[92mAlternatively\u001b[0m\u001b[92m,\u001b[0m\u001b[92m c\u001b[0m\u001b[92mef\u001b[0m\u001b[92mtr\u001b[0m\u001b[92mia\u001b[0m\u001b[92mx\u001b[0m\u001b[92mone\u001b[0m\u001b[92m is\u001b[0m\u001b[92m a\u001b[0m\u001b[92m third\u001b[0m\u001b[92m-generation\u001b[0m\u001b[92m cep\u001b[0m\u001b[92mhal\u001b[0m\u001b[92mos\u001b[0m\u001b[92mpor\u001b[0m\u001b[92min\u001b[0m\u001b[92m,\u001b[0m\u001b[92m which\u001b[0m\u001b[92m is\u001b[0m\u001b[92m safe\u001b[0m\u001b[92m in\u001b[0m\u001b[92m pregnancy\u001b[0m\u001b[92m.\u001b[0m\u001b[92m However\u001b[0m\u001b[92m,\u001b[0m\u001b[92m for\u001b[0m\u001b[92m uncomp\u001b[0m\u001b[92mlicated\u001b[0m\u001b[92m UT\u001b[0m\u001b[92mIs\u001b[0m\u001b[92m,\u001b[0m\u001b[92m the\u001b[0m\u001b[92m first\u001b[0m\u001b[92m-line\u001b[0m\u001b[92m treatment\u001b[0m\u001b[92m is\u001b[0m\u001b[92m often\u001b[0m\u001b[92m nit\u001b[0m\u001b[92mro\u001b[0m\u001b[92mfur\u001b[0m\u001b[92mant\u001b[0m\u001b[92moin\u001b[0m\u001b[92m or\u001b[0m\u001b[92m a\u001b[0m\u001b[92m beta\u001b[0m\u001b[92m-l\u001b[0m\u001b[92mact\u001b[0m\u001b[92mam\u001b[0m\u001b[92m like\u001b[0m\u001b[92m am\u001b[0m\u001b[92mpic\u001b[0m\u001b[92millin\u001b[0m\u001b[92m.\u001b[0m\u001b[92m But\u001b[0m\u001b[92m in\u001b[0m\u001b[92m some\u001b[0m\u001b[92m cases\u001b[0m\u001b[92m,\u001b[0m\u001b[92m especially\u001b[0m\u001b[92m if\u001b[0m\u001b[92m there\u001b[0m\u001b[92m's\u001b[0m\u001b[92m concern\u001b[0m\u001b[92m about\u001b[0m\u001b[92m resistance\u001b[0m\u001b[92m or\u001b[0m\u001b[92m if\u001b[0m\u001b[92m the\u001b[0m\u001b[92m patient\u001b[0m\u001b[92m has\u001b[0m\u001b[92m a\u001b[0m\u001b[92m history\u001b[0m\u001b[92m of\u001b[0m\u001b[92m allergy\u001b[0m\u001b[92m to\u001b[0m\u001b[92m pen\u001b[0m\u001b[92mic\u001b[0m\u001b[92mill\u001b[0m\u001b[92mins\u001b[0m\u001b[92m,\u001b[0m\u001b[92m c\u001b[0m\u001b[92mef\u001b[0m\u001b[92mtr\u001b[0m\u001b[92mia\u001b[0m\u001b[92mx\u001b[0m\u001b[92mone\u001b[0m\u001b[92m might\u001b[0m\u001b[92m be\u001b[0m\u001b[92m used\u001b[0m\u001b[92m.\n",
      "\n",
      "\u001b[0m\u001b[92mWait\u001b[0m\u001b[92m,\u001b[0m\u001b[92m but\u001b[0m\u001b[92m the\u001b[0m\u001b[92m question\u001b[0m\u001b[92m is\u001b[0m\u001b[92m about\u001b[0m\u001b[92m the\u001b[0m\u001b[92m best\u001b[0m\u001b[92m treatment\u001b[0m\u001b[92m.\u001b[0m\u001b[92m Let\u001b[0m\u001b[92m me\u001b[0m\u001b[92m check\u001b[0m\u001b[92m standard\u001b[0m\u001b[92m guidelines\u001b[0m\u001b[92m.\u001b[0m\u001b[92m According\u001b[0m\u001b[92m to\u001b[0m\u001b[92m the\u001b[0m\u001b[92m College\u001b[0m\u001b[92m of\u001b[0m\u001b[92m Obst\u001b[0m\u001b[92metric\u001b[0m\u001b[92mians\u001b[0m\u001b[92m and\u001b[0m\u001b[92m G\u001b[0m\u001b[92mynec\u001b[0m\u001b[92mologists\u001b[0m\u001b[92m (\u001b[0m\u001b[92mAC\u001b[0m\u001b[92mOG\u001b[0m\u001b[92m),\u001b[0m\u001b[92m for\u001b[0m\u001b[92m uncomp\u001b[0m\u001b[92mlicated\u001b[0m\u001b[92m UT\u001b[0m\u001b[92mIs\u001b[0m\u001b[92m in\u001b[0m\u001b[92m pregnancy\u001b[0m\u001b[92m,\u001b[0m\u001b[92m the\u001b[0m\u001b[92m treatment\u001b[0m\u001b[92m is\u001b[0m\u001b[92m a\u001b[0m\u001b[92m single\u001b[0m\u001b[92m-d\u001b[0m\u001b[92mose\u001b[0m\u001b[92m,\u001b[0m\u001b[92m such\u001b[0m\u001b[92m as\u001b[0m\u001b[92m nit\u001b[0m\u001b[92mro\u001b[0m\u001b[92mfur\u001b[0m\u001b[92mant\u001b[0m\u001b[92moin\u001b[0m\u001b[92m (\u001b[0m\u001b[92m1\u001b[0m\u001b[92m0\u001b[0m\u001b[92m0\u001b[0m\u001b[92m mg\u001b[0m\u001b[92m)\u001b[0m\u001b[92m or\u001b[0m\u001b[92m a\u001b[0m\u001b[92m cep\u001b[0m\u001b[92mhal\u001b[0m\u001b[92mos\u001b[0m\u001b[92mpor\u001b[0m\u001b[92min\u001b[0m\u001b[92m like\u001b[0m\u001b[92m c\u001b[0m\u001b[92mef\u001b[0m\u001b[92mtr\u001b[0m\u001b[92mia\u001b[0m\u001b[92mx\u001b[0m\u001b[92mone\u001b[0m\u001b[92m.\u001b[0m\u001b[92m However\u001b[0m\u001b[92m,\u001b[0m\u001b[92m nit\u001b[0m\u001b[92mro\u001b[0m\u001b[92mfur\u001b[0m\u001b[92mant\u001b[0m\u001b[92moin\u001b[0m\u001b[92m is\u001b[0m\u001b[92m not\u001b[0m\u001b[92m recommended\u001b[0m\u001b[92m in\u001b[0m\u001b[92m the\u001b[0m\u001b[92m third\u001b[0m\u001b[92m trimest\u001b[0m\u001b[92mer\u001b[0m\u001b[92m.\u001b[0m\u001b[92m But\u001b[0m\u001b[92m at\u001b[0m\u001b[92m \u001b[0m\u001b[92m2\u001b[0m\u001b[92m2\u001b[0m\u001b[92m weeks\u001b[0m\u001b[92m,\u001b[0m\u001b[92m it\u001b[0m\u001b[92m's\u001b[0m\u001b[92m.\u001b[0m\u001b[92m However\u001b[0m\u001b[92m,\u001b[0m\u001b[92m some\u001b[0m\u001b[92m guidelines\u001b[0m\u001b[92m may\u001b[0m\u001b[92m prefer\u001b[0m\u001b[92m c\u001b[0m\u001b[92mef\u001b[0m\u001b[92mtr\u001b[0m\u001b[92mia\u001b[0m\u001b[92mx\u001b[0m\u001b[92mone\u001b[0m\u001b[92m for\u001b[0m\u001b[92m its\u001b[0m\u001b[92m broader\u001b[0m\u001b[92m coverage\u001b[0m\u001b[92m.\n",
      "\n",
      "\u001b[0m\u001b[92mAlternatively\u001b[0m\u001b[92m,\u001b[0m\u001b[92m am\u001b[0m\u001b[92mpic\u001b[0m\u001b[92millin\u001b[0m\u001b[92m is\u001b[0m\u001b[92m a\u001b[0m\u001b[92m beta\u001b[0m\u001b[92m-l\u001b[0m\u001b[92mact\u001b[0m\u001b[92mam\u001b[0m\u001b[92m that\u001b[0m\u001b[92m's\u001b[0m\u001b[92m safe\u001b[0m\u001b[92m and\u001b[0m\u001b[92m effective\u001b[0m\u001b[92m.\u001b[0m\u001b[92m But\u001b[0m\u001b[92m the\u001b[0m\u001b[92m patient\u001b[0m\u001b[92m's\u001b[0m\u001b[92m symptoms\u001b[0m\u001b[92m are\u001b[0m\u001b[92m worsening\u001b[0m\u001b[92m,\u001b[0m\u001b[92m so\u001b[0m\u001b[92m maybe\u001b[0m\u001b[92m a\u001b[0m\u001b[92m broader\u001b[0m\u001b[92m spectrum\u001b[0m\u001b[92m antibiotic\u001b[0m\u001b[92m is\u001b[0m\u001b[92m needed\u001b[0m\u001b[92m.\u001b[0m\u001b[92m Wait\u001b[0m\u001b[92m,\u001b[0m\u001b[92m but\u001b[0m\u001b[92m the\u001b[0m\u001b[92m question\u001b[0m\u001b[92m states\u001b[0m\u001b[92m that\u001b[0m\u001b[92m she\u001b[0m\u001b[92m's\u001b[0m\u001b[92m well\u001b[0m\u001b[92m,\u001b[0m\u001b[92m so\u001b[0m\u001b[92m maybe\u001b[0m\u001b[92m a\u001b[0m\u001b[92m mild\u001b[0m\u001b[92m infection\u001b[0m\u001b[92m.\n",
      "\n",
      "\u001b[0m\u001b[92mAlternatively\u001b[0m\u001b[92m,\u001b[0m\u001b[92m the\u001b[0m\u001b[92m answer\u001b[0m\u001b[92m might\u001b[0m\u001b[92m be\u001b[0m\u001b[92m C\u001b[0m\u001b[92mipro\u001b[0m\u001b[92mf\u001b[0m\u001b[92mlox\u001b[0m\u001b[92macin\u001b[0m\u001b[92m,\u001b[0m\u001b[92m but\u001b[0m\u001b[92m I\u001b[0m\u001b[92m thought\u001b[0m\u001b[92m that\u001b[0m\u001b[92m was\u001b[0m\u001b[92m contr\u001b[0m\u001b[92main\u001b[0m\u001b[92md\u001b[0m\u001b[92micated\u001b[0m\u001b[92m in\u001b[0m\u001b[92m pregnancy\u001b[0m\u001b[92m.\u001b[0m\u001b[92m Wait\u001b[0m\u001b[92m,\u001b[0m\u001b[92m but\u001b[0m\u001b[92m the\u001b[0m\u001b[92m patient\u001b[0m\u001b[92m is\u001b[0m\u001b[92m at\u001b[0m\u001b[92m \u001b[0m\u001b[92m2\u001b[0m\u001b[92m2\u001b[0m\u001b[92m weeks\u001b[0m\u001b[92m,\u001b[0m\u001b[92m and\u001b[0m\u001b[92m flu\u001b[0m\u001b[92moro\u001b[0m\u001b[92mquin\u001b[0m\u001b[92mol\u001b[0m\u001b[92mones\u001b[0m\u001b[92m are\u001b[0m\u001b[92m generally\u001b[0m\u001b[92m avoided\u001b[0m\u001b[92m in\u001b[0m\u001b[92m pregnancy\u001b[0m\u001b[92m.\u001b[0m\u001b[92m So\u001b[0m\u001b[92m C\u001b[0m\u001b[92mipro\u001b[0m\u001b[92mf\u001b[0m\u001b[92mlox\u001b[0m\u001b[92macin\u001b[0m\u001b[92m is\u001b[0m\u001b[92m not\u001b[0m\u001b[92m the\u001b[0m\u001b[92m best\u001b[0m\u001b[92m choice\u001b[0m\u001b[92m.\n",
      "\n",
      "\u001b[0m\u001b[92mSo\u001b[0m\u001b[92m,\u001b[0m\u001b[92m between\u001b[0m\u001b[92m Nit\u001b[0m\u001b[92mro\u001b[0m\u001b[92mfur\u001b[0m\u001b[92mant\u001b[0m\u001b[92moin\u001b[0m\u001b[92m,\u001b[0m\u001b[92m Amp\u001b[0m\u001b[92mic\u001b[0m\u001b[92millin\u001b[0m\u001b[92m,\u001b[0m\u001b[92m and\u001b[0m\u001b[92m C\u001b[0m\u001b[92mef\u001b[0m\u001b[92mtr\u001b[0m\u001b[92mia\u001b[0m\u001b[92mx\u001b[0m\u001b[92mone\u001b[0m\u001b[92m.\u001b[0m\u001b[92m Which\u001b[0m\u001b[92m is\u001b[0m\u001b[92m the\u001b[0m\u001b[92m best\u001b[0m\u001b[92m treatment\u001b[0m\u001b[92m?\n",
      "\n",
      "\u001b[0m\u001b[92mLooking\u001b[0m\u001b[92m back\u001b[0m\u001b[92m at\u001b[0m\u001b[92m the\u001b[0m\u001b[92m options\u001b[0m\u001b[92m,\u001b[0m\u001b[92m the\u001b[0m\u001b[92m correct\u001b[0m\u001b[92m answer\u001b[0m\u001b[92m is\u001b[0m\u001b[92m likely\u001b[0m\u001b[92m C\u001b[0m\u001b[92mef\u001b[0m\u001b[92mtr\u001b[0m\u001b[92mia\u001b[0m\u001b[92mx\u001b[0m\u001b[92mone\u001b[0m\u001b[92m.\u001b[0m\u001b[92m Wait\u001b[0m\u001b[92m,\u001b[0m\u001b[92m no\u001b[0m\u001b[92m.\u001b[0m\u001b[92m Let\u001b[0m\u001b[92m me\u001b[0m\u001b[92m think\u001b[0m\u001b[92m again\u001b[0m\u001b[92m.\u001b[0m\u001b[92m The\u001b[0m\u001b[92m patient\u001b[0m\u001b[92m is\u001b[0m\u001b[92m at\u001b[0m\u001b[92m \u001b[0m\u001b[92m2\u001b[0m\u001b[92m2\u001b[0m\u001b[92m weeks\u001b[0m\u001b[92m,\u001b[0m\u001b[92m so\u001b[0m\u001b[92m second\u001b[0m\u001b[92m trimest\u001b[0m\u001b[92mer\u001b[0m\u001b[92m.\u001b[0m\u001b[92m The\u001b[0m\u001b[92m standard\u001b[0m\u001b[92m treatment\u001b[0m\u001b[92m for\u001b[0m\u001b[92m uncomp\u001b[0m\u001b[92mlicated\u001b[0m\u001b[92m UT\u001b[0m\u001b[92mIs\u001b[0m\u001b[92m in\u001b[0m\u001b[92m is\u001b[0m\u001b[92m usually\u001b[0m\u001b[92m nit\u001b[0m\u001b[92mro\u001b[0m\u001b[92mfur\u001b[0m\u001b[92mant\u001b[0m\u001b[92moin\u001b[0m\u001b[92m or\u001b[0m\u001b[92m a\u001b[0m\u001b[92m cep\u001b[0m\u001b[92mhal\u001b[0m\u001b[92mos\u001b[0m\u001b[92mpor\u001b[0m\u001b[92min\u001b[0m\u001b[92m like\u001b[0m\u001b[92m c\u001b[0m\u001b[92mef\u001b[0m\u001b[92mtr\u001b[0m\u001b[92mia\u001b[0m\u001b[92mx\u001b[0m\u001b[92mone\u001b[0m\u001b[92m.\u001b[0m\u001b[92m However\u001b[0m\u001b[92m,\u001b[0m\u001b[92m nit\u001b[0m\u001b[92mro\u001b[0m\u001b[92mfur\u001b[0m\u001b[92mant\u001b[0m\u001b[92moin\u001b[0m\u001b[92m is\u001b[0m\u001b[92m avoided\u001b[0m\u001b[92m in\u001b[0m\u001b[92m the\u001b[0m\u001b[92m second\u001b[0m\u001b[92m trimest\u001b[0m\u001b[92mer\u001b[0m\u001b[92m due\u001b[0m\u001b[92m to\u001b[0m\u001b[92m the\u001b[0m\u001b[92m risk\u001b[0m\u001b[92m of\u001b[0m\u001b[92m hem\u001b[0m\u001b[92moly\u001b[0m\u001b[92mtic\u001b[0m\u001b[92m an\u001b[0m\u001b[92memia\u001b[0m\u001b[92m in\u001b[0m\u001b[92m the\u001b[0m\u001b[92m newborn\u001b[0m\u001b[92m,\u001b[0m\u001b[92m though\u001b[0m\u001b[92m this\u001b[0m\u001b[92m is\u001b[0m\u001b[92m a\u001b[0m\u001b[92m rare\u001b[0m\u001b[92m complication\u001b[0m\u001b[92m.\u001b[0m\u001b[92m Therefore\u001b[0m\u001b[92m,\u001b[0m\u001b[92m some\u001b[0m\u001b[92m guidelines\u001b[0m\u001b[92m may\u001b[0m\u001b[92m recommend\u001b[0m\u001b[92m c\u001b[0m\u001b[92mef\u001b[0m\u001b[92mtr\u001b[0m\u001b[92mia\u001b[0m\u001b[92mx\u001b[0m\u001b[92mone\u001b[0m\u001b[92m or\u001b[0m\u001b[92m a\u001b[0m\u001b[92m beta\u001b[0m\u001b[92m-l\u001b[0m\u001b[92mact\u001b[0m\u001b[92mam\u001b[0m\u001b[92m like\u001b[0m\u001b[92m am\u001b[0m\u001b[92mpic\u001b[0m\u001b[92millin\u001b[0m\u001b[92m as\u001b[0m\u001b[92m alternatives\u001b[0m\u001b[92m.\n",
      "\n",
      "\u001b[0m\u001b[92mBut\u001b[0m\u001b[92m I\u001b[0m\u001b[92m need\u001b[0m\u001b[92m to\u001b[0m\u001b[92m recall\u001b[0m\u001b[92m the\u001b[0m\u001b[92m specific\u001b[0m\u001b[92m recommendations\u001b[0m\u001b[92m.\u001b[0m\u001b[92m For\u001b[0m\u001b[92m example\u001b[0m\u001b[92m,\u001b[0m\u001b[92m the\u001b[0m\u001b[92m CDC\u001b[0m\u001b[92m recommends\u001b[0m\u001b[92m for\u001b[0m\u001b[92m uncomp\u001b[0m\u001b[92mlicated\u001b[0m\u001b[92m UT\u001b[0m\u001b[92mIs\u001b[0m\u001b[92m during\u001b[0m\u001b[92m pregnancy\u001b[0m\u001b[92m,\u001b[0m\u001b[92m treatment\u001b[0m\u001b[92m with\u001b[0m\u001b[92m a\u001b[0m\u001b[92m single\u001b[0m\u001b[92m dose\u001b[0m\u001b[92m of\u001b[0m\u001b[92m nit\u001b[0m\u001b[92mro\u001b[0m\u001b[92mfur\u001b[0m\u001b[92mant\u001b[0m\u001b[92moin\u001b[0m\u001b[92m (\u001b[0m\u001b[92m1\u001b[0m\u001b[92m0\u001b[0m\u001b[92m0\u001b[0m\u001b[92m mg\u001b[0m\u001b[92m)\u001b[0m\u001b[92m or\u001b[0m\u001b[92m a\u001b[0m\u001b[92m cep\u001b[0m\u001b[92mhal\u001b[0m\u001b[92mos\u001b[0m\u001b[92mpor\u001b[0m\u001b[92min\u001b[0m\u001b[92m like\u001b[0m\u001b[92m c\u001b[0m\u001b[92mef\u001b[0m\u001b[92mtr\u001b[0m\u001b[92mia\u001b[0m\u001b[92mx\u001b[0m\u001b[92mone\u001b[0m\u001b[92m (\u001b[0m\u001b[92m2\u001b[0m\u001b[92m5\u001b[0m\u001b[92m0\u001b[0m\u001b[92m mg\u001b[0m\u001b[92m IV\u001b[0m\u001b[92m).\u001b[0m\u001b[92m However\u001b[0m\u001b[92m,\u001b[0m\u001b[92m in\u001b[0m\u001b[92m some\u001b[0m\u001b[92m cases\u001b[0m\u001b[92m,\u001b[0m\u001b[92m especially\u001b[0m\u001b[92m if\u001b[0m\u001b[92m the\u001b[0m\u001b[92m patient\u001b[0m\u001b[92m has\u001b[0m\u001b[92m a\u001b[0m\u001b[92m history\u001b[0m\u001b[92m of\u001b[0m\u001b[92m allergy\u001b[0m\u001b[92m to\u001b[0m\u001b[92m pen\u001b[0m\u001b[92mic\u001b[0m\u001b[92mill\u001b[0m\u001b[92mins\u001b[0m\u001b[92m,\u001b[0m\u001b[92m a\u001b[0m\u001b[92m cep\u001b[0m\u001b[92mhal\u001b[0m\u001b[92mos\u001b[0m\u001b[92mpor\u001b[0m\u001b[92min\u001b[0m\u001b[92m might\u001b[0m\u001b[92m be\u001b[0m\u001b[92m preferred\u001b[0m\u001b[92m.\n",
      "\n",
      "\u001b[0m\u001b[92mAlternatively\u001b[0m\u001b[92m,\u001b[0m\u001b[92m if\u001b[0m\u001b[92m the\u001b[0m\u001b[92m patient\u001b[0m\u001b[92m is\u001b[0m\u001b[92m at\u001b[0m\u001b[92m \u001b[0m\u001b[92m2\u001b[0m\u001b[92m2\u001b[0m\u001b[92m weeks\u001b[0m\u001b[92m and\u001b[0m\u001b[92m has\u001b[0m\u001b[92m a\u001b[0m\u001b[92m mild\u001b[0m\u001b[92m infection\u001b[0m\u001b[92m,\u001b[0m\u001b[92m nit\u001b[0m\u001b[92mro\u001b[0m\u001b[92mfur\u001b[0m\u001b[92mant\u001b[0m\u001b[92moin\u001b[0m\u001b[92m might\u001b[0m\u001b[92m be\u001b[0m\u001b[92m acceptable\u001b[0m\u001b[92m.\u001b[0m\u001b[92m However\u001b[0m\u001b[92m,\u001b[0m\u001b[92m considering\u001b[0m\u001b[92m the\u001b[0m\u001b[92m options\u001b[0m\u001b[92m given\u001b[0m\u001b[92m,\u001b[0m\u001b[92m the\u001b[0m\u001b[92m answer\u001b[0m\u001b[92m might\u001b[0m\u001b[92m be\u001b[0m\u001b[92m C\u001b[0m\u001b[92mef\u001b[0m\u001b[92mtr\u001b[0m\u001b[92mia\u001b[0m\u001b[92mx\u001b[0m\u001b[92mone\u001b[0m\u001b[92m.\n",
      "\n",
      "\u001b[0m\u001b[92mWait\u001b[0m\u001b[92m,\u001b[0m\u001b[92m but\u001b[0m\u001b[92m I\u001b[0m\u001b[92m'm\u001b[0m\u001b[92m a\u001b[0m\u001b[92m bit\u001b[0m\u001b[92m confused\u001b[0m\u001b[92m.\u001b[0m\u001b[92m Let\u001b[0m\u001b[92m me\u001b[0m\u001b[92m check\u001b[0m\u001b[92m the\u001b[0m\u001b[92m options\u001b[0m\u001b[92m again\u001b[0m\u001b[92m.\u001b[0m\u001b[92m The\u001b[0m\u001b[92m answer\u001b[0m\u001b[92m choices\u001b[0m\u001b[92m are\u001b[0m\u001b[92m A\u001b[0m\u001b[92m:\u001b[0m\u001b[92m Amp\u001b[0m\u001b[92mic\u001b[0m\u001b[92millin\u001b[0m\u001b[92m,\u001b[0m\u001b[92m B\u001b[0m\u001b[92m:\u001b[0m\u001b[92m C\u001b[0m\u001b[92mef\u001b[0m\u001b[92mtr\u001b[0m\u001b[92mia\u001b[0m\u001b[92mx\u001b[0m\u001b[92mone\u001b[0m\u001b[92m,\u001b[0m\u001b[92m C\u001b[0m\u001b[92m:\u001b[0m\u001b[92m C\u001b[0m\u001b[92mipro\u001b[0m\u001b[92mf\u001b[0m\u001b[92mlox\u001b[0m\u001b[92macin\u001b[0m\u001b[92m,\u001b[0m\u001b[92m D\u001b[0m\u001b[92m:\u001b[0m\u001b[92m Do\u001b[0m\u001b[92mx\u001b[0m\u001b[92myc\u001b[0m\u001b[92mycl\u001b[0m\u001b[92mine\u001b[0m\u001b[92m,\u001b[0m\u001b[92m E\u001b[0m\u001b[92m:\u001b[0m\u001b[92m Nit\u001b[0m\u001b[92mro\u001b[0m\u001b[92mfur\u001b[0m\u001b[92mant\u001b[0m\u001b[92moin\u001b[0m\u001b[92m.\n",
      "\n",
      "\u001b[0m\u001b[92mThe\u001b[0m\u001b[92m correct\u001b[0m\u001b[92m answer\u001b[0m\u001b[92m is\u001b[0m\u001b[92m likely\u001b[0m\u001b[92m C\u001b[0m\u001b[92mef\u001b[0m\u001b[92mtr\u001b[0m\u001b[92mia\u001b[0m\u001b[92mx\u001b[0m\u001b[92mone\u001b[0m\u001b[92m.\u001b[0m\u001b[92m But\u001b[0m\u001b[92m I\u001b[0m\u001b[92m need\u001b[0m\u001b[92m to\u001b[0m\u001b[92m be\u001b[0m\u001b[92m sure\u001b[0m\u001b[92m.\u001b[0m\u001b[92m Alternatively\u001b[0m\u001b[92m,\u001b[0m\u001b[92m the\u001b[0m\u001b[92m answer\u001b[0m\u001b[92m could\u001b[0m\u001b[92m be\u001b[0m\u001b[92m Nit\u001b[0m\u001b[92mro\u001b[0m\u001b[92mfur\u001b[0m\u001b[92mant\u001b[0m\u001b[92moin\u001b[0m\u001b[92m.\u001b[0m\u001b[92m Wait\u001b[0m\u001b[92m,\u001b[0m\u001b[92m but\u001b[0m\u001b[92m in\u001b[0m\u001b[92m some\u001b[0m\u001b[92m cases\u001b[0m\u001b[92m,\u001b[0m\u001b[92m nit\u001b[0m\u001b[92mro\u001b[0m\u001b[92mfur\u001b[0m\u001b[92mant\u001b[0m\u001b[92moin\u001b[0m\u001b[92m is\u001b[0m\u001b[92m not\u001b[0m\u001b[92m recommended\u001b[0m\u001b[92m in\u001b[0m\u001b[92m the\u001b[0m\u001b[92m second\u001b[0m\u001b[92m trimest\u001b[0m\u001b[92mer\u001b[0m\u001b[92m.\u001b[0m\u001b[92m,\u001b[0m\u001b[92m the\u001b[0m\u001b[92m answer\u001b[0m\u001b[92m might\u001b[0m\u001b[92m be\u001b[0m\u001b[92m Amp\u001b[0m\u001b[92mic\u001b[0m\u001b[92millin\u001b[0m\u001b[92m.\u001b[0m\u001b[92m However\u001b[0m\u001b[92m,\u001b[0m\u001b[92m I\u001b[0m\u001b[92m think\u001b[0m\u001b[92m that\u001b[0m\u001b[92m the\u001b[0m\u001b[92m standard\u001b[0m\u001b[92m treatment\u001b[0m\u001b[92m for\u001b[0m\u001b[92m UT\u001b[0m\u001b[92mIs\u001b[0m\u001b[92m during\u001b[0m\u001b[92m pregnancy\u001b[0m\u001b[92m is\u001b[0m\u001b[92m nit\u001b[0m\u001b[92mro\u001b[0m\u001b[92mfur\u001b[0m\u001b[92mant\u001b[0m\u001b[92moin\u001b[0m\u001b[92m or\u001b[0m\u001b[92m a\u001b[0m\u001b[92m cep\u001b[0m\u001b[92mhal\u001b[0m\u001b[92mos\u001b[0m\u001b[92mpor\u001b[0m\u001b[92min\u001b[0m\u001b[92m.\n",
      "\n",
      "\u001b[0m\u001b[92mBut\u001b[0m\u001b[92m the\u001b[0m\u001b[92m patient\u001b[0m\u001b[92m is\u001b[0m\u001b[92m otherwise\u001b[0m\u001b[92m well\u001b[0m\u001b[92m,\u001b[0m\u001b[92m and\u001b[0m\u001b[92m the\u001b[0m\u001b[92m is\u001b[0m\u001b[92m uncomp\u001b[0m\u001b[92mlicated\u001b[0m\u001b[92m.\u001b[0m\u001b[92m So\u001b[0m\u001b[92m,\u001b[0m\u001b[92m the\u001b[0m\u001b[92m best\u001b[0m\u001b[92m treatment\u001b[0m\u001b[92m would\u001b[0m\u001b[92m be\u001b[0m\u001b[92m either\u001b[0m\u001b[92m nit\u001b[0m\u001b[92mro\u001b[0m\u001b[92mfur\u001b[0m\u001b[92mant\u001b[0m\u001b[92moin\u001b[0m\u001b[92m or\u001b[0m\u001b[92m a\u001b[0m\u001b[92m cep\u001b[0m\u001b[92mhal\u001b[0m\u001b[92mos\u001b[0m\u001b[92mpor\u001b[0m\u001b[92min\u001b[0m\u001b[92m.\u001b[0m\u001b[92m However\u001b[0m\u001b[92m,\u001b[0m\u001b[92m the\u001b[0m\u001b[92m options\u001b[0m\u001b[92m given\u001b[0m\u001b[92m are\u001b[0m\u001b[92m all\u001b[0m\u001b[92m possible\u001b[0m\u001b[92m.\u001b[0m\u001b[92m If\u001b[0m\u001b[92m I\u001b[0m\u001b[92m have\u001b[0m\u001b[92m to\u001b[0m\u001b[92m choose\u001b[0m\u001b[92m between\u001b[0m\u001b[92m them\u001b[0m\u001b[92m,\u001b[0m\u001b[92m which\u001b[0m\u001b[92m is\u001b[0m\u001b[92m the\u001b[0m\u001b[92m best\u001b[0m\u001b[92m?\n",
      "\n",
      "\u001b[0m\u001b[92mIn\u001b[0m\u001b[92m some\u001b[0m\u001b[92m guidelines\u001b[0m\u001b[92m,\u001b[0m\u001b[92m c\u001b[0m\u001b[92mef\u001b[0m\u001b[92mtr\u001b[0m\u001b[92mia\u001b[0m\u001b[92mx\u001b[0m\u001b[92mone\u001b[0m\u001b[92m is\u001b[0m\u001b[92m used\u001b[0m\u001b[92m for\u001b[0m\u001b[92m more\u001b[0m\u001b[92m severe\u001b[0m\u001b[92m infections\u001b[0m\u001b[92m,\u001b[0m\u001b[92m but\u001b[0m\u001b[92m in\u001b[0m\u001b[92m uncomp\u001b[0m\u001b[92mlicated\u001b[0m\u001b[92m cases\u001b[0m\u001b[92m,\u001b[0m\u001b[92m nit\u001b[0m\u001b[92mro\u001b[0m\u001b[92mfur\u001b[0m\u001b[92mant\u001b[0m\u001b[92moin\u001b[0m\u001b[92m is\u001b[0m\u001b[92m often\u001b[0m\u001b[92m preferred\u001b[0m\u001b[92m.\u001b[0m\u001b[92m However\u001b[0m\u001b[92m,\u001b[0m\u001b[92m nit\u001b[0m\u001b[92mro\u001b[0m\u001b[92mfur\u001b[0m\u001b[92mant\u001b[0m\u001b[92moin\u001b[0m\u001b[92m is\u001b[0m\u001b[92m avoided\u001b[0m\u001b[92m in\u001b[0m\u001b[92m the\u001b[0m\u001b[92m second\u001b[0m\u001b[92m trimest\u001b[0m\u001b[92mer\u001b[0m\u001b[92m.\u001b[0m\u001b[92m So\u001b[0m\u001b[92m,\u001b[0m\u001b[92m given\u001b[0m\u001b[92m the\u001b[0m\u001b[92m options\u001b[0m\u001b[92m,\u001b[0m\u001b[92m the\u001b[0m\u001b[92m answer\u001b[0m\u001b[92m might\u001b[0m\u001b[92m be\u001b[0m\u001b[92m C\u001b[0m\u001b[92mef\u001b[0m\u001b[92mtr\u001b[0m\u001b[92mia\u001b[0m\u001b[92mx\u001b[0m\u001b[92mone\u001b[0m\u001b[92m.\n",
      "\n",
      "\u001b[0m\u001b[92mWait\u001b[0m\u001b[92m,\u001b[0m\u001b[92m but\u001b[0m\u001b[92m I\u001b[0m\u001b[92m'm\u001b[0m\u001b[92m not\u001b[0m\u001b[92m certain\u001b[0m\u001b[92m.\u001b[0m\u001b[92m Alternatively\u001b[0m\u001b[92m,\u001b[0m\u001b[92m the\u001b[0m\u001b[92m answer\u001b[0m\u001b[92m might\u001b[0m\u001b[92m be\u001b[0m\u001b[92m Amp\u001b[0m\u001b[92mic\u001b[0m\u001b[92millin\u001b[0m\u001b[92m.\u001b[0m\u001b[92m However\u001b[0m\u001b[92m,\u001b[0m\u001b[92m I\u001b[0m\u001b[92m think\u001b[0m\u001b[92m that\u001b[0m\u001b[92m c\u001b[0m\u001b[92mef\u001b[0m\u001b[92mtr\u001b[0m\u001b[92mia\u001b[0m\u001b[92mx\u001b[0m\u001b[92mone\u001b[0m\u001b[92m is\u001b[0m\u001b[92m a\u001b[0m\u001b[92m better\u001b[0m\u001b[92m choice\u001b[0m\u001b[92m for\u001b[0m\u001b[92m a\u001b[0m\u001b[92m UT\u001b[0m\u001b[92mI\u001b[0m\u001b[92m in\u001b[0m\u001b[92m,\u001b[0m\u001b[92m especially\u001b[0m\u001b[92m if\u001b[0m\u001b[92m there\u001b[0m\u001b[92m's\u001b[0m\u001b[92m a\u001b[0m\u001b[92m concern\u001b[0m\u001b[92m about\u001b[0m\u001b[92m resistance\u001b[0m\u001b[92m.\u001b[0m\u001b[92m But\u001b[0m\u001b[92m I\u001b[0m\u001b[92m'm\u001b[0m\u001b[92m not\u001b[0m\u001b[92m entirely\u001b[0m\u001b[92m sure\u001b[0m\u001b[92m.\u001b[0m\u001b[92m Maybe\u001b[0m\u001b[92m the\u001b[0m\u001b[92m answer\u001b[0m\u001b[92m is\u001b[0m\u001b[92m C\u001b[0m\u001b[92mef\u001b[0m\u001b[92mtr\u001b[0m\u001b[92mia\u001b[0m\u001b[92mx\u001b[0m\u001b[92mone\u001b[0m\u001b[92m.\n",
      "\u001b[0m\u001b[0m\n",
      "\n",
      "\u001b[0m\u001b[0m#\u001b[0m\u001b[0m Treatment\u001b[0m\u001b[0m of\u001b[0m\u001b[0m Ur\u001b[0m\u001b[0minary\u001b[0m\u001b[0m Tr\u001b[0m\u001b[0mact\u001b[0m\u001b[0m In\u001b[0m\u001b[0mfection\u001b[0m\u001b[0m During\u001b[0m\u001b[0m Pregnancy\u001b[0m\u001b[0m\n",
      "\n",
      "\u001b[0m\u001b[0m##\u001b[0m\u001b[0m Clinical\u001b[0m\u001b[0m Assessment\u001b[0m\u001b[0m\n",
      "\u001b[0m\u001b[0mA\u001b[0m\u001b[0m \u001b[0m\u001b[0m2\u001b[0m\u001b[0m3\u001b[0m\u001b[0m-year\u001b[0m\u001b[0m-old\u001b[0m\u001b[0m pregnant\u001b[0m\u001b[0m woman\u001b[0m\u001b[0m at\u001b[0m\u001b[0m \u001b[0m\u001b[0m2\u001b[0m\u001b[0m2\u001b[0m\u001b[0m weeks\u001b[0m\u001b[0m gest\u001b[0m\u001b[0mation\u001b[0m\u001b[0m presents\u001b[0m\u001b[0m with\u001b[0m\u001b[0m worsening\u001b[0m\u001b[0m burning\u001b[0m\u001b[0m upon\u001b[0m\u001b[0m ur\u001b[0m\u001b[0mination\u001b[0m\u001b[0m for\u001b[0m\u001b[0m \u001b[0m\u001b[0m1\u001b[0m\u001b[0m day\u001b[0m\u001b[0m.\u001b[0m\u001b[0m Despite\u001b[0m\u001b[0m increased\u001b[0m\u001b[0m water\u001b[0m\u001b[0m intake\u001b[0m\u001b[0m and\u001b[0m\u001b[0m cran\u001b[0m\u001b[0mberry\u001b[0m\u001b[0m extract\u001b[0m\u001b[0m,\u001b[0m\u001b[0m symptoms\u001b[0m\u001b[0m have\u001b[0m\u001b[0m not\u001b[0m\u001b[0m improved\u001b[0m\u001b[0m.\u001b[0m\u001b[0m Vital\u001b[0m\u001b[0m signs\u001b[0m\u001b[0m and\u001b[0m\u001b[0m physical\u001b[0m\u001b[0m examination\u001b[0m\u001b[0m are\u001b[0m\u001b[0m otherwise\u001b[0m\u001b[0m normal\u001b[0m\u001b[0m.\n",
      "\n",
      "\u001b[0m\u001b[0m##\u001b[0m\u001b[0m Differential\u001b[0m\u001b[0m Diagnosis\u001b[0m\u001b[0m\n",
      "\u001b[0m\u001b[0mThe\u001b[0m\u001b[0m symptoms\u001b[0m\u001b[0m strongly\u001b[0m\u001b[0m suggest\u001b[0m\u001b[0m a\u001b[0m\u001b[0m urinary\u001b[0m\u001b[0m tract\u001b[0m\u001b[0m infection\u001b[0m\u001b[0m (\u001b[0m\u001b[0mUT\u001b[0m\u001b[0mI\u001b[0m\u001b[0m),\u001b[0m\u001b[0m which\u001b[0m\u001b[0m is\u001b[0m\u001b[0m a\u001b[0m\u001b[0m common\u001b[0m\u001b[0m complication\u001b[0m\u001b[0m during\u001b[0m\u001b[0m pregnancy\u001b[0m\u001b[0m due\u001b[0m\u001b[0m to\u001b[0m\u001b[0m anatom\u001b[0m\u001b[0mical\u001b[0m\u001b[0m and\u001b[0m\u001b[0m hormonal\u001b[0m\u001b[0m changes\u001b[0m\u001b[0m affecting\u001b[0m\u001b[0m the\u001b[0m\u001b[0m urinary\u001b[0m\u001b[0m tract\u001b[0m\u001b[0m.\n",
      "\n",
      "\u001b[0m\u001b[0m##\u001b[0m\u001b[0m Treatment\u001b[0m\u001b[0m Consider\u001b[0m\u001b[0mations\u001b[0m\u001b[0m\n",
      "\u001b[0m\u001b[0mP\u001b[0m\u001b[0mregn\u001b[0m\u001b[0mancy\u001b[0m\u001b[0m requires\u001b[0m\u001b[0m careful\u001b[0m\u001b[0m antibiotic\u001b[0m\u001b[0m selection\u001b[0m\u001b[0m to\u001b[0m\u001b[0m ensure\u001b[0m\u001b[0m both\u001b[0m\u001b[0m maternal\u001b[0m\u001b[0m safety\u001b[0m\u001b[0m and\u001b[0m\u001b[0m fetal\u001b[0m\u001b[0m well\u001b[0m\u001b[0m-being\u001b[0m\u001b[0m.\u001b[0m\u001b[0m The\u001b[0m\u001b[0m treatment\u001b[0m\u001b[0m must\u001b[0m\u001b[0m address\u001b[0m\u001b[0m the\u001b[0m\u001b[0m infection\u001b[0m\u001b[0m effectively\u001b[0m\u001b[0m while\u001b[0m\u001b[0m minimizing\u001b[0m\u001b[0m potential\u001b[0m\u001b[0m risks\u001b[0m\u001b[0m to\u001b[0m\u001b[0m the\u001b[0m\u001b[0m fetus\u001b[0m\u001b[0m.\n",
      "\n",
      "\u001b[0m\u001b[0m##\u001b[0m\u001b[0m Antib\u001b[0m\u001b[0miotic\u001b[0m\u001b[0m Options\u001b[0m\u001b[0m Analysis\u001b[0m\u001b[0m\n",
      "\n",
      "\u001b[0m\u001b[0m1\u001b[0m\u001b[0m.\u001b[0m\u001b[0m **\u001b[0m\u001b[0mC\u001b[0m\u001b[0mipro\u001b[0m\u001b[0mf\u001b[0m\u001b[0mlox\u001b[0m\u001b[0macin\u001b[0m\u001b[0m (\u001b[0m\u001b[0mC\u001b[0m\u001b[0m)**\u001b[0m\u001b[0m:\u001b[0m\u001b[0m A\u001b[0m\u001b[0m flu\u001b[0m\u001b[0moro\u001b[0m\u001b[0mquin\u001b[0m\u001b[0mol\u001b[0m\u001b[0mone\u001b[0m\u001b[0m.\u001b[0m\u001b[0m While\u001b[0m\u001b[0m effective\u001b[0m\u001b[0m against\u001b[0m\u001b[0m UT\u001b[0m\u001b[0mIs\u001b[0m\u001b[0m,\u001b[0m\u001b[0m flu\u001b[0m\u001b[0moro\u001b[0m\u001b[0mquin\u001b[0m\u001b[0mol\u001b[0m\u001b[0mones\u001b[0m\u001b[0m are\u001b[0m\u001b[0m generally\u001b[0m\u001b[0m not\u001b[0m\u001b[0m recommended\u001b[0m\u001b[0m during\u001b[0m\u001b[0m pregnancy\u001b[0m\u001b[0m due\u001b[0m\u001b[0m to\u001b[0m\u001b[0m potential\u001b[0m\u001b[0m risks\u001b[0m\u001b[0m to\u001b[0m\u001b[0m fetal\u001b[0m\u001b[0m joint\u001b[0m\u001b[0m and\u001b[0m\u001b[0m bone\u001b[0m\u001b[0m development\u001b[0m\u001b[0m.\n",
      "\n",
      "\u001b[0m\u001b[0m2\u001b[0m\u001b[0m.\u001b[0m\u001b[0m **\u001b[0m\u001b[0mD\u001b[0m\u001b[0mox\u001b[0m\u001b[0myc\u001b[0m\u001b[0mycl\u001b[0m\u001b[0mine\u001b[0m\u001b[0m (\u001b[0m\u001b[0mD\u001b[0m\u001b[0m)**\u001b[0m\u001b[0m:\u001b[0m\u001b[0m A\u001b[0m\u001b[0m t\u001b[0m\u001b[0metr\u001b[0m\u001b[0macy\u001b[0m\u001b[0mcline\u001b[0m\u001b[0m.\u001b[0m\u001b[0m Con\u001b[0m\u001b[0mtrain\u001b[0m\u001b[0md\u001b[0m\u001b[0micated\u001b[0m\u001b[0m in\u001b[0m\u001b[0m pregnancy\u001b[0m\u001b[0m,\u001b[0m\u001b[0m particularly\u001b[0m\u001b[0m in\u001b[0m\u001b[0m the\u001b[0m\u001b[0m second\u001b[0m\u001b[0m and\u001b[0m\u001b[0m third\u001b[0m\u001b[0m trimest\u001b[0m\u001b[0mers\u001b[0m\u001b[0m,\u001b[0m\u001b[0m due\u001b[0m\u001b[0m to\u001b[0m\u001b[0m risks\u001b[0m\u001b[0m of\u001b[0m\u001b[0m fetal\u001b[0m\u001b[0m tooth\u001b[0m\u001b[0m disc\u001b[0m\u001b[0molor\u001b[0m\u001b[0mation\u001b[0m\u001b[0m and\u001b[0m\u001b[0m bone\u001b[0m\u001b[0m development\u001b[0m\u001b[0m issues\u001b[0m\u001b[0m.\n",
      "\n",
      "\u001b[0m\u001b[0m3\u001b[0m\u001b[0m.\u001b[0m\u001b[0m **\u001b[0m\u001b[0mNit\u001b[0m\u001b[0mro\u001b[0m\u001b[0mfur\u001b[0m\u001b[0mant\u001b[0m\u001b[0moin\u001b[0m\u001b[0m (\u001b[0m\u001b[0mE\u001b[0m\u001b[0m)**\u001b[0m\u001b[0m:\u001b[0m\u001b[0m A\u001b[0m\u001b[0m nit\u001b[0m\u001b[0mro\u001b[0m\u001b[0mf\u001b[0m\u001b[0muran\u001b[0m\u001b[0m antibiotic\u001b[0m\u001b[0m.\u001b[0m\u001b[0m Wid\u001b[0m\u001b[0mely\u001b[0m\u001b[0m used\u001b[0m\u001b[0m for\u001b[0m\u001b[0m uncomp\u001b[0m\u001b[0mlicated\u001b[0m\u001b[0m UT\u001b[0m\u001b[0mIs\u001b[0m\u001b[0m during\u001b[0m\u001b[0m pregnancy\u001b[0m\u001b[0m,\u001b[0m\u001b[0m particularly\u001b[0m\u001b[0m in\u001b[0m\u001b[0m the\u001b[0m\u001b[0m first\u001b[0m\u001b[0m and\u001b[0m\u001b[0m second\u001b[0m\u001b[0m trimest\u001b[0m\u001b[0mers\u001b[0m\u001b[0m.\u001b[0m\u001b[0m However\u001b[0m\u001b[0m,\u001b[0m\u001b[0m it\u001b[0m\u001b[0m is\u001b[0m\u001b[0m typically\u001b[0m\u001b[0m avoided\u001b[0m\u001b[0m in\u001b[0m\u001b[0m the\u001b[0m\u001b[0m third\u001b[0m\u001b[0m trimest\u001b[0m\u001b[0mer\u001b[0m\u001b[0m due\u001b[0m\u001b[0m to\u001b[0m\u001b[0m potential\u001b[0m\u001b[0m risks\u001b[0m\u001b[0m of\u001b[0m\u001b[0m hem\u001b[0m\u001b[0moly\u001b[0m\u001b[0mtic\u001b[0m\u001b[0m an\u001b[0m\u001b[0memia\u001b[0m\u001b[0m in\u001b[0m\u001b[0m the\u001b[0m\u001b[0m newborn\u001b[0m\u001b[0m.\n",
      "\n",
      "\u001b[0m\u001b[0m4\u001b[0m\u001b[0m.\u001b[0m\u001b[0m **\u001b[0m\u001b[0mA\u001b[0m\u001b[0mmp\u001b[0m\u001b[0mic\u001b[0m\u001b[0millin\u001b[0m\u001b[0m (\u001b[0m\u001b[0mA\u001b[0m\u001b[0m)**\u001b[0m\u001b[0m:\u001b[0m\u001b[0m A\u001b[0m\u001b[0m pen\u001b[0m\u001b[0mic\u001b[0m\u001b[0millin\u001b[0m\u001b[0m.\u001b[0m\u001b[0m Generally\u001b[0m\u001b[0m considered\u001b[0m\u001b[0m safe\u001b[0m\u001b[0m during\u001b[0m\u001b[0m pregnancy\u001b[0m\u001b[0m.\u001b[0m\u001b[0m Effective\u001b[0m\u001b[0m against\u001b[0m\u001b[0m common\u001b[0m\u001b[0m UT\u001b[0m\u001b[0mI\u001b[0m\u001b[0m pathogens\u001b[0m\u001b[0m but\u001b[0m\u001b[0m may\u001b[0m\u001b[0m not\u001b[0m\u001b[0m provide\u001b[0m\u001b[0m broad\u001b[0m\u001b[0m enough\u001b[0m\u001b[0m coverage\u001b[0m\u001b[0m for\u001b[0m\u001b[0m more\u001b[0m\u001b[0m severe\u001b[0m\u001b[0m infections\u001b[0m\u001b[0m.\n",
      "\n",
      "\u001b[0m\u001b[0m5\u001b[0m\u001b[0m.\u001b[0m\u001b[0m **\u001b[0m\u001b[0mC\u001b[0m\u001b[0mef\u001b[0m\u001b[0mtr\u001b[0m\u001b[0mia\u001b[0m\u001b[0mx\u001b[0m\u001b[0mone\u001b[0m\u001b[0m (\u001b[0m\u001b[0mB\u001b[0m\u001b[0m)**\u001b[0m\u001b[0m:\u001b[0m\u001b[0m A\u001b[0m\u001b[0m third\u001b[0m\u001b[0m-generation\u001b[0m\u001b[0m cep\u001b[0m\u001b[0mhal\u001b[0m\u001b[0mos\u001b[0m\u001b[0mpor\u001b[0m\u001b[0min\u001b[0m\u001b[0m.\u001b[0m\u001b[0m Safe\u001b[0m\u001b[0m during\u001b[0m\u001b[0m pregnancy\u001b[0m\u001b[0m and\u001b[0m\u001b[0m effective\u001b[0m\u001b[0m against\u001b[0m\u001b[0m a\u001b[0m\u001b[0m broad\u001b[0m\u001b[0m spectrum\u001b[0m\u001b[0m of\u001b[0m\u001b[0m bacteria\u001b[0m\u001b[0m.\u001b[0m\u001b[0m Often\u001b[0m\u001b[0m used\u001b[0m\u001b[0m for\u001b[0m\u001b[0m more\u001b[0m\u001b[0m severe\u001b[0m\u001b[0m infections\u001b[0m\u001b[0m or\u001b[0m\u001b[0m when\u001b[0m\u001b[0m oral\u001b[0m\u001b[0m antibiotics\u001b[0m\u001b[0m are\u001b[0m\u001b[0m not\u001b[0m\u001b[0m suitable\u001b[0m\u001b[0m.\n",
      "\n",
      "\u001b[0m\u001b[0m##\u001b[0m\u001b[0m Recommended\u001b[0m\u001b[0m Treatment\u001b[0m\u001b[0m\n",
      "\u001b[0m\u001b[0mGiven\u001b[0m\u001b[0m the\u001b[0m\u001b[0m patient\u001b[0m\u001b[0m's\u001b[0m\u001b[0m uncomp\u001b[0m\u001b[0mlicated\u001b[0m\u001b[0m UT\u001b[0m\u001b[0mI\u001b[0m\u001b[0m at\u001b[0m\u001b[0m \u001b[0m\u001b[0m2\u001b[0m\u001b[0m2\u001b[0m\u001b[0m weeks\u001b[0m\u001b[0m gest\u001b[0m\u001b[0mation\u001b[0m\u001b[0m (\u001b[0m\u001b[0msecond\u001b[0m\u001b[0m trimest\u001b[0m\u001b[0mer\u001b[0m\u001b[0m),\u001b[0m\u001b[0m **\u001b[0m\u001b[0mNit\u001b[0m\u001b[0mro\u001b[0m\u001b[0mfur\u001b[0m\u001b[0mant\u001b[0m\u001b[0moin\u001b[0m\u001b[0m (\u001b[0m\u001b[0mE\u001b[0m\u001b[0m)**\u001b[0m\u001b[0m is\u001b[0m\u001b[0m typically\u001b[0m\u001b[0m the\u001b[0m\u001b[0m first\u001b[0m\u001b[0m-line\u001b[0m\u001b[0m treatment\u001b[0m\u001b[0m.\u001b[0m\u001b[0m However\u001b[0m\u001b[0m,\u001b[0m\u001b[0m if\u001b[0m\u001b[0m there\u001b[0m\u001b[0m are\u001b[0m\u001b[0m concerns\u001b[0m\u001b[0m about\u001b[0m\u001b[0m resistance\u001b[0m\u001b[0m or\u001b[0m\u001b[0m if\u001b[0m\u001b[0m the\u001b[0m\u001b[0m patient\u001b[0m\u001b[0m has\u001b[0m\u001b[0m a\u001b[0m\u001b[0m history\u001b[0m\u001b[0m of\u001b[0m\u001b[0m allergy\u001b[0m\u001b[0m to\u001b[0m\u001b[0m pen\u001b[0m\u001b[0mic\u001b[0m\u001b[0mill\u001b[0m\u001b[0mins\u001b[0m\u001b[0m,\u001b[0m\u001b[0m **\u001b[0m\u001b[0mC\u001b[0m\u001b[0mef\u001b[0m\u001b[0mtr\u001b[0m\u001b[0mia\u001b[0m\u001b[0mx\u001b[0m\u001b[0mone\u001b[0m\u001b[0m (\u001b[0m\u001b[0mB\u001b[0m\u001b[0m)**\u001b[0m\u001b[0m may\u001b[0m\u001b[0m be\u001b[0m\u001b[0m a\u001b[0m\u001b[0m safer\u001b[0m\u001b[0m alternative\u001b[0m\u001b[0m.\n",
      "\n",
      "\u001b[0m\u001b[0m##\u001b[0m\u001b[0m Conclusion\u001b[0m\u001b[0m\n",
      "\u001b[0m\u001b[0mThe\u001b[0m\u001b[0m best\u001b[0m\u001b[0m treatment\u001b[0m\u001b[0m for\u001b[0m\u001b[0m this\u001b[0m\u001b[0m patient\u001b[0m\u001b[0m is\u001b[0m\u001b[0m **\u001b[0m\u001b[0mNit\u001b[0m\u001b[0mro\u001b[0m\u001b[0mfur\u001b[0m\u001b[0mant\u001b[0m\u001b[0moin\u001b[0m\u001b[0m (\u001b[0m\u001b[0mE\u001b[0m\u001b[0m)**\u001b[0m\u001b[0m,\u001b[0m\u001b[0m as\u001b[0m\u001b[0m it\u001b[0m\u001b[0m is\u001b[0m\u001b[0m commonly\u001b[0m\u001b[0m used\u001b[0m\u001b[0m for\u001b[0m\u001b[0m uncomp\u001b[0m\u001b[0mlicated\u001b[0m\u001b[0m UT\u001b[0m\u001b[0mIs\u001b[0m\u001b[0m during\u001b[0m\u001b[0m pregnancy\u001b[0m\u001b[0m and\u001b[0m\u001b[0m is\u001b[0m\u001b[0m considered\u001b[0m\u001b[0m safe\u001b[0m\u001b[0m in\u001b[0m\u001b[0m the\u001b[0m\u001b[0m second\u001b[0m\u001b[0m trimest\u001b[0m\u001b[0mer\u001b[0m\u001b[0m.\u001b[0m\u001b[0m However\u001b[0m\u001b[0m,\u001b[0m\u001b[0m if\u001b[0m\u001b[0m there\u001b[0m\u001b[0m are\u001b[0m\u001b[0m specific\u001b[0m\u001b[0m concerns\u001b[0m\u001b[0m,\u001b[0m\u001b[0m **\u001b[0m\u001b[0mC\u001b[0m\u001b[0mef\u001b[0m\u001b[0mtr\u001b[0m\u001b[0mia\u001b[0m\u001b[0mx\u001b[0m\u001b[0mone\u001b[0m\u001b[0m (\u001b[0m\u001b[0mB\u001b[0m\u001b[0m)**\u001b[0m\u001b[0m may\u001b[0m\u001b[0m be\u001b[0m\u001b[0m a\u001b[0m\u001b[0m suitable\u001b[0m\u001b[0m alternative\u001b[0m\u001b[0m.\u001b[0m"
     ]
    }
   ],
   "source": [
    "payload = {\n",
    "    \"model\": \"/opt/ml/model\",\n",
    "    \"messages\": [\n",
    "        {\"role\": \"system\", \"content\": system_prompt },\n",
    "        {\"role\": \"user\", \"content\": prompt1},\n",
    "    ],\n",
    "    \"max_tokens\": 8192,\n",
    "    \"temperature\": 0.6,\n",
    "    \"top_p\": 0.95,\n",
    "    \"top_k\": 20,\n",
    "    \"min_p\": 0.0,\n",
    "    \"presence_penalty\": 0.0,\n",
    "    \"stream\": True\n",
    "}\n",
    "\n",
    "for chunk in invoke_streaming_endpoint(payload):\n",
    "    handle_streaming_chunk(chunk)"
   ]
  },
  {
   "cell_type": "markdown",
   "id": "f2d04094-f350-4950-b73a-212301dda35c",
   "metadata": {},
   "source": [
    "#### Text Completion"
   ]
  },
  {
   "cell_type": "code",
   "execution_count": 70,
   "id": "a6046a1f-96cb-4f76-b796-cd4a661f53e6",
   "metadata": {
    "tags": []
   },
   "outputs": [
    {
     "name": "stdout",
     "output_type": "stream",
     "text": [
      " # Managing Fever and Body Aches\n",
      "\n",
      "## Initial Assessment\n",
      "When experiencing fever and body aches, start by:\n",
      "\n",
      "1. **Measuring your temperature**: Confirm the fever is above 100.4°F (38°C) for adults, or above 100.0°F (37.8°C) for children\n",
      "2. **Assessing severity**: Determine if symptoms are mild (manage at home) or severe (seek medical attention)\n",
      "\n",
      "## Home Management Strategies\n",
      "\n",
      "### Medications\n",
      "- **Acetaminophen (Tylenol)**: for fever and pain relief\n",
      "- **Ibuprofen (Advil, Motrin)**: Can reduce fever and alleviate body aches\n",
      "- **NSAIDs**: May help with inflammation\n",
      "- **Avoid aspirin**: Particularly in children due to risk of Reye's syndrome\n",
      "\n",
      "### Hydration\n",
      "- Drink plenty of fluids to prevent dehydration\n",
      "- Water, electrolyte, or clear broths are good options\n",
      "\n",
      "### Rest\n",
      "- Get adequate sleep to support your immune system\n",
      "- Avoid strenuous activities until symptoms improve\n",
      "\n",
      "### Comfort Measures\n",
      "- Take warm baths or showers\n",
      "- Use damp cloths to cool your skin\n",
      "- Keep your room comfortably cool and well-ventilated\n",
      "- Use light bedding to avoid overheating\n",
      "\n",
      "## When to Seek Medical Attention\n",
      "Consult a provider if:\n",
      "- Fever persists for more than 3-5 days\n",
      "- Symptoms worsen instead of improving\n",
      "- You have a chronic medical condition\n",
      "- You're pregnant or have a compromised immune system\n",
      "- You additional concerning symptoms like:\n",
      "  - breathing\n",
      "  - Severe headache\n",
      "  - Persistent vomiting\n",
      "  - Confusion or unusual behavior\n",
      "  - Chest pain\n",
      "\n",
      "## Prevention\n",
      "- Practice good hygiene (handwashing)\n",
      "- Get vaccinations\n",
      "- Avoid close contact with sick\n",
      "- Maintain a healthy lifestyle with proper nutrition and exercise\n",
      "\n",
      "Remember that fever and body aches can be caused by various conditions, ranging from the common cold to more serious illnesses. Proper diagnosis by a professional is important to determine the appropriate treatment."
     ]
    }
   ],
   "source": [
    "payload = {\n",
    "    \"model\": \"/opt/ml/model\",\n",
    "    \"prompt\": f\"{system_prompt}\\n\\nUser: {prompt2}\\n\\nAssistant:\",\n",
    "    \"max_tokens\": 2048,\n",
    "    \"temperature\": 0.6,\n",
    "    \"top_p\": 0.95,\n",
    "    \"top_k\": 20,\n",
    "    \"min_p\": 0.0,\n",
    "    \"presence_penalty\":0.0,\n",
    "    \"stream\": True\n",
    "}\n",
    "\n",
    "for chunk in invoke_streaming_endpoint(payload):\n",
    "    handle_streaming_chunk(chunk)"
   ]
  },
  {
   "cell_type": "markdown",
   "id": "547960f3-6629-4c2d-a4d2-cdb26c9c61d0",
   "metadata": {},
   "source": [
    "Now that you have successfully performed a real-time inference, you do not need the endpoint any more. You can terminate the endpoint to avoid being charged."
   ]
  },
  {
   "cell_type": "code",
   "execution_count": 71,
   "id": "488631f8-c3be-4b30-aba4-75d83ee588a3",
   "metadata": {
    "tags": []
   },
   "outputs": [],
   "source": [
    "model.sagemaker_session.delete_endpoint(model_name)\n",
    "model.sagemaker_session.delete_endpoint_config(model_name)"
   ]
  },
  {
   "cell_type": "markdown",
   "id": "c0e98cc5-6ea8-41bf-a78f-dbe6771caf55",
   "metadata": {},
   "source": [
    "## 5. Batch inference"
   ]
  },
  {
   "cell_type": "code",
   "execution_count": 72,
   "id": "f7d163c0-a6c7-49c5-a4ea-27b83670eb7b",
   "metadata": {
    "tags": []
   },
   "outputs": [],
   "source": [
    "validation_json_file_name1 = \"input1.json\"\n",
    "\n",
    "validation_input_json_path = f\"s3://{s3_bucket}/{model_name}/validation-input/\"\n",
    "validation_output_json_path = f\"s3://{s3_bucket}/{model_name}/validation-output/\"\n",
    "\n",
    "\n",
    "def write_and_upload_to_s3(input_data, file_name):\n",
    "    s3_client.put_object(\n",
    "        Bucket=s3_bucket,\n",
    "        Key=f\"{model_name}/validation-input/{file_name}\",\n",
    "        Body=(bytes(input_data.encode(\"UTF-8\"))),\n",
    "    )"
   ]
  },
  {
   "cell_type": "code",
   "execution_count": 74,
   "id": "23904344-4a1e-4e90-942e-dc9e53827369",
   "metadata": {
    "tags": []
   },
   "outputs": [],
   "source": [
    "input_json_data1 = json.dumps(\n",
    "    {\n",
    "        \"model\": \"/opt/ml/model\",\n",
    "        \"prompt\": [f\"{system_prompt}\\n\\nUser: {prompt}\\n\\nAssistant:\" for prompt in prompts],\n",
    "        \"max_tokens\": 2048,\n",
    "        \"temperature\": 0.6,\n",
    "        \"top_p\": 0.95,\n",
    "        \"top_k\": 20,\n",
    "        \"min_p\": 0.0,\n",
    "        \"presence_penalty\":0.0,\n",
    "    }\n",
    ")\n",
    "\n",
    "write_and_upload_to_s3(input_json_data1, f\"{validation_json_file_name1}\")"
   ]
  },
  {
   "cell_type": "code",
   "execution_count": null,
   "id": "40a9b441-d1e5-4bbc-8571-005d880c6c46",
   "metadata": {
    "tags": []
   },
   "outputs": [],
   "source": [
    "transformer = model.transformer(\n",
    "    instance_count=1,\n",
    "    instance_type=batch_transform_inference_instance_type,\n",
    "    accept=\"application/json\",\n",
    "    output_path=validation_output_json_path,\n",
    ")\n",
    "transformer.transform(validation_input_json_path, content_type=\"application/json\")\n",
    "transformer.wait()"
   ]
  },
  {
   "cell_type": "code",
   "execution_count": null,
   "id": "142c53a9-2e64-4839-acbd-74bfbd7fc372",
   "metadata": {
    "tags": []
   },
   "outputs": [],
   "source": [
    "from urllib.parse import urlparse\n",
    "\n",
    "def retrieve_json_output_from_s3(validation_file_name):\n",
    "\n",
    "    parsed_url = urlparse(transformer.output_path)\n",
    "    file_key = f\"{parsed_url.path[1:]}{validation_file_name}.out\"\n",
    "    response = s3_client.get_object(Bucket=s3_bucket, Key=file_key)\n",
    "    result = json.loads(response[\"Body\"].read().decode(\"utf-8\"))\n",
    "    \n",
    "    for idx, choice in enumerate(result.get(\"choices\", [])):\n",
    "        print(f\"Response {idx + 1}:\\n{choice.get('text', '')}\\n{'=' * 75}\")"
   ]
  },
  {
   "cell_type": "code",
   "execution_count": 78,
   "id": "b781965a-3891-4ac3-a580-9e187b262d39",
   "metadata": {
    "tags": []
   },
   "outputs": [
    {
     "name": "stdout",
     "output_type": "stream",
     "text": [
      "Response 1:\n",
      " # Maintaining Good Kidney Health\n",
      "\n",
      "## Prevention Strategies\n",
      "\n",
      "### Diet\n",
      "- **Stay hydrated**: Drink plenty of water throughout the day (8-10 glasses daily)\n",
      "- **Reduce sodium intake**: Limit processed foods, fast food, and high-sodium snacks\n",
      "- **Balanced diet**: Include fruits, vegetables, whole grains, lean proteins, and healthy fats\n",
      "- **Limit protein**: Moderate protein intake, especially for those with kidney disease\n",
      "- **Control blood pressure**: Maintain blood pressure within the normal range (below 120/80 mmHg)\n",
      "- **Manage diabetes**: Control blood sugar levels to prevent kidney damage\n",
      "\n",
      "### Lifestyle Habits\n",
      "- **Maintain a healthy weight**: Obesity increases risk of kidney disease\n",
      "- **Exercise regularly**: Aim for 150 minutes of moderate exercise weekly\n",
      "- **Avoid smoking**: Smoking damages blood vessels and reduces blood flow to the kidneys\n",
      "- **Limit alcohol consumption**: Drink in moderation (up to 1 drink daily for women, 2 for men)\n",
      "\n",
      "## Regular Monitoring\n",
      "- **Annual check-ups**: Include kidney function tests (e.g., creatinine, GFR)\n",
      "- **Monitor blood pressure and blood sugar levels**\n",
      "- **Screen for risk factors**: Early detection of kidney disease is crucial\n",
      "\n",
      "## Medication Management\n",
      "- **Follow prescription instructions**: Take medications as directed\n",
      "- **Avoid over-the-counter medications**: NSAIDs like ibuprofen can damage kidneys when used long-term\n",
      "- **Manage chronic conditions**: Properly control hypertension, diabetes, and other conditions\n",
      "\n",
      "## Special Considerations\n",
      "- **Pregnancy**: Regular prenatal care includes kidney function monitoring\n",
      "- **Family history**: If you have a family history of kidney disease, be especially vigilant\n",
      "- **Age**: Older adults should be more proactive in kidney health maintenance\n",
      "\n",
      "Maintaining good kidney health requires a combination of healthy lifestyle choices, proper nutrition, and regular medical monitoring. Early detection and management of risk factors can significantly reduce the risk of kidney disease and its complications.\n",
      "===========================================================================\n",
      "Response 2:\n",
      " # Symptoms of High Blood Pressure\n",
      "\n",
      "## Common Symptoms\n",
      "\n",
      "High blood pressure (hypertension) often presents without noticeable symptoms, which is why it's sometimes called the \"silent killer.\" However, some people may experience:\n",
      "\n",
      "- Headaches\n",
      "- Dizziness\n",
      "- Nosebleeds\n",
      "- Shortness of breath\n",
      "- Chest pain\n",
      "- Fatigue\n",
      "- Blurred vision\n",
      "- Irregular heartbeat\n",
      "\n",
      "## When to Seek Medical Attention\n",
      "\n",
      "If you experience any of these symptoms, especially if they are sudden or severe, seek medical attention immediately. These symptoms could indicate a hypertensive crisis, which requires urgent treatment.\n",
      "\n",
      "## Important Considerations\n",
      "\n",
      "- Many people with high blood pressure don't experience symptoms at all.\n",
      "- Regular blood pressure monitoring is essential for early detection and management.\n",
      "- Lifestyle modifications and medications can help control blood pressure effectively.\n",
      "\n",
      "## Conclusion\n",
      "\n",
      "High blood pressure often lacks noticeable symptoms, making regular monitoring crucial for early detection. If you experience any concerning symptoms, consult a healthcare provider promptly for proper evaluation and treatment.\n",
      "===========================================================================\n"
     ]
    }
   ],
   "source": [
    "retrieve_json_output_from_s3(validation_json_file_name1)"
   ]
  },
  {
   "cell_type": "markdown",
   "id": "f8e8f682-16a0-4a84-89e6-b5f4f0de3521",
   "metadata": {},
   "source": [
    "Congratulations! You just verified that the batch transform job is working as expected. Since the model is not required, you can delete it. Note that you are deleting the deployable model. Not the model package."
   ]
  },
  {
   "cell_type": "code",
   "execution_count": 79,
   "id": "22a8df79-ad3b-4e85-a054-24931c15f3a3",
   "metadata": {
    "tags": []
   },
   "outputs": [
    {
     "name": "stderr",
     "output_type": "stream",
     "text": [
      "INFO:sagemaker:Deleting model with name: JSL-Medical-LLM-8B-v0-2025-07-10-10-23-25-567\n"
     ]
    }
   ],
   "source": [
    "model.delete_model()"
   ]
  },
  {
   "cell_type": "markdown",
   "id": "37215a51-bf01-4cf0-832a-c7f85a8a06c3",
   "metadata": {},
   "source": [
    "### Unsubscribe to the listing (optional)"
   ]
  },
  {
   "cell_type": "markdown",
   "id": "53cddd4d-4b27-4a94-95b8-5e027e6cd9cd",
   "metadata": {},
   "source": [
    "If you would like to unsubscribe to the model package, follow these steps. Before you cancel the subscription, ensure that you do not have any [deployable model](https://console.aws.amazon.com/sagemaker/home#/models) created from the model package or using the algorithm. Note - You can find this information by looking at the container name associated with the model. \n",
    "\n",
    "**Steps to unsubscribe to product from AWS Marketplace**:\n",
    "1. Navigate to __Machine Learning__ tab on [__Your Software subscriptions page__](https://aws.amazon.com/marketplace/ai/library?productType=ml&ref_=mlmp_gitdemo_indust)\n",
    "2. Locate the listing that you want to cancel the subscription for, and then choose __Cancel Subscription__  to cancel the subscription.\n",
    "\n"
   ]
  }
 ],
 "metadata": {
  "kernelspec": {
   "display_name": "conda_python3",
   "language": "python",
   "name": "conda_python3"
  },
  "language_info": {
   "codemirror_mode": {
    "name": "ipython",
    "version": 3
   },
   "file_extension": ".py",
   "mimetype": "text/x-python",
   "name": "python",
   "nbconvert_exporter": "python",
   "pygments_lexer": "ipython3",
   "version": "3.10.18"
  }
 },
 "nbformat": 4,
 "nbformat_minor": 5
}

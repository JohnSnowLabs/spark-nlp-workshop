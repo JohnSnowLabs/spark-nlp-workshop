{
 "cells": [
  {
   "cell_type": "markdown",
   "metadata": {},
   "source": [
    "## 1. Subscribe to the model package"
   ]
  },
  {
   "cell_type": "markdown",
   "metadata": {},
   "source": [
    "To subscribe to the model package:\n",
    "1. Open the model package listing page <font color='red'> For Seller to update:[Title_of_your_product](Provide link to your marketplace listing of your product).</font>\n",
    "1. On the AWS Marketplace listing, click on the **Continue to subscribe** button.\n",
    "1. On the **Subscribe to this software** page, review and click on **\"Accept Offer\"** if you and your organization agrees with EULA, pricing, and support terms. \n",
    "1. Once you click on **Continue to configuration button** and then choose a **region**, you will see a **Product Arn** displayed. This is the model package ARN that you need to specify while creating a deployable model using Boto3. Copy the ARN corresponding to your region and specify the same in the following cell."
   ]
  },
  {
   "cell_type": "markdown",
   "metadata": {},
   "source": [
    "## Clinical Findings to UMLS Code Pipeline\n",
    "\n",
    "The Unified Medical Language System (UMLS) Code is a comprehensive coding system crucial for facilitating interoperability among various healthcare systems. It plays a crucial role in linking medical terms, enabling efficient exchange of healthcare information essential for tasks such as patient care coordination, ensuring consistency and accuracy in healthcare data exchange and analysis.\n",
    "\n",
    "- **Model**: `en.map_entity.umls_clinical_findings_resolver`\n",
    "- **Model Description**: This pretrained pipeline maps entities (Clinical Findings) with their corresponding UMLS CUI codes, offering seamless mapping between entities and their corresponding UMLS code.\n"
   ]
  },
  {
   "cell_type": "code",
   "execution_count": 1,
   "metadata": {
    "tags": []
   },
   "outputs": [],
   "source": [
    "model_package_arn = \"<Customer to specify Model package ARN corresponding to their AWS region>\""
   ]
  },
  {
   "cell_type": "code",
   "execution_count": 2,
   "metadata": {
    "tags": []
   },
   "outputs": [
    {
     "name": "stdout",
     "output_type": "stream",
     "text": [
      "sagemaker.config INFO - Not applying SDK defaults from location: /etc/xdg/sagemaker/config.yaml\n",
      "sagemaker.config INFO - Not applying SDK defaults from location: /home/ec2-user/.config/sagemaker/config.yaml\n"
     ]
    }
   ],
   "source": [
    "import base64\n",
    "import json\n",
    "import uuid\n",
    "from sagemaker import ModelPackage\n",
    "import sagemaker as sage\n",
    "from sagemaker import get_execution_role\n",
    "import boto3\n",
    "from IPython.display import Image, display\n",
    "from PIL import Image as ImageEdit\n",
    "import numpy as np"
   ]
  },
  {
   "cell_type": "code",
   "execution_count": 3,
   "metadata": {
    "tags": []
   },
   "outputs": [],
   "source": [
    "sagemaker_session = sage.Session()\n",
    "s3_bucket = sagemaker_session.default_bucket()\n",
    "region = sagemaker_session.boto_region_name\n",
    "account_id = boto3.client(\"sts\").get_caller_identity().get(\"Account\")\n",
    "role = get_execution_role()\n",
    "\n",
    "sagemaker = boto3.client(\"sagemaker\")\n",
    "s3_client = sagemaker_session.boto_session.client(\"s3\")\n",
    "ecr = boto3.client(\"ecr\")\n",
    "sm_runtime = boto3.client(\"sagemaker-runtime\")"
   ]
  },
  {
   "cell_type": "markdown",
   "metadata": {},
   "source": [
    "## 2. Create an endpoint and perform real-time inference"
   ]
  },
  {
   "cell_type": "markdown",
   "metadata": {},
   "source": [
    "If you want to understand how real-time inference with Amazon SageMaker works, see [Documentation](https://docs.aws.amazon.com/sagemaker/latest/dg/how-it-works-hosting.html)."
   ]
  },
  {
   "cell_type": "code",
   "execution_count": 4,
   "metadata": {
    "tags": []
   },
   "outputs": [],
   "source": [
    "model_name = \"en-map-entity-umls-clinical-findings-resolver\"\n",
    "\n",
    "real_time_inference_instance_type = \"ml.m4.2xlarge\"\n",
    "batch_transform_inference_instance_type = \"ml.m4.2xlarge\"\n"
   ]
  },
  {
   "cell_type": "markdown",
   "metadata": {},
   "source": [
    "### A. Create an endpoint"
   ]
  },
  {
   "cell_type": "code",
   "execution_count": 5,
   "metadata": {
    "tags": []
   },
   "outputs": [
    {
     "name": "stdout",
     "output_type": "stream",
     "text": [
      "--------------!"
     ]
    }
   ],
   "source": [
    "# create a deployable model from the model package.\n",
    "model = ModelPackage(\n",
    "    role=role, model_package_arn=model_package_arn, sagemaker_session=sagemaker_session\n",
    ")\n",
    "\n",
    "# Deploy the model\n",
    "predictor = model.deploy(1, real_time_inference_instance_type, endpoint_name=model_name)"
   ]
  },
  {
   "cell_type": "markdown",
   "metadata": {},
   "source": [
    "Once endpoint has been created, you would be able to perform real-time inference."
   ]
  },
  {
   "cell_type": "code",
   "execution_count": 6,
   "metadata": {
    "tags": []
   },
   "outputs": [],
   "source": [
    "import json\n",
    "import pandas as pd\n",
    "import os\n",
    "import boto3\n",
    "\n",
    "# Set display options\n",
    "pd.set_option('display.max_rows', None)\n",
    "pd.set_option('display.max_columns', None)\n",
    "pd.set_option('display.max_colwidth', None)\n",
    "\n",
    "def process_data_and_invoke_realtime_endpoint(data, content_type, accept):\n",
    "\n",
    "    content_type_to_format = {'application/json': 'json', 'application/jsonlines': 'jsonl'}\n",
    "    input_format = content_type_to_format.get(content_type)\n",
    "    if content_type not in content_type_to_format.keys() or accept not in content_type_to_format.keys():\n",
    "        raise ValueError(\"Invalid content_type or accept. It should be either 'application/json' or 'application/jsonlines'.\")\n",
    "\n",
    "    i = 1\n",
    "    input_dir = f'inputs/real-time/{input_format}'\n",
    "    output_dir = f'outputs/real-time/{input_format}'\n",
    "    s3_input_dir = f\"{model_name}/validation-input/real-time/{input_format}\"\n",
    "    s3_output_dir = f\"{model_name}/validation-output/real-time/{input_format}\"\n",
    "\n",
    "    input_file_name = f'{input_dir}/input{i}.{input_format}'\n",
    "    output_file_name = f'{output_dir}/{os.path.basename(input_file_name)}.out'\n",
    "\n",
    "    while os.path.exists(input_file_name) or os.path.exists(output_file_name):\n",
    "        i += 1\n",
    "        input_file_name = f'{input_dir}/input{i}.{input_format}'\n",
    "        output_file_name = f'{output_dir}/{os.path.basename(input_file_name)}.out'\n",
    "\n",
    "    os.makedirs(os.path.dirname(input_file_name), exist_ok=True)\n",
    "    os.makedirs(os.path.dirname(output_file_name), exist_ok=True)\n",
    "\n",
    "    input_data = json.dumps(data) if content_type == 'application/json' else data\n",
    "\n",
    "    # Write input data to file\n",
    "    with open(input_file_name, 'w') as f:\n",
    "        f.write(input_data)\n",
    "\n",
    "    # Upload input data to S3\n",
    "    s3_client.put_object(Bucket=s3_bucket, Key=f\"{s3_input_dir}/{os.path.basename(input_file_name)}\", Body=bytes(input_data.encode('UTF-8')))\n",
    "\n",
    "    # Invoke the SageMaker endpoint\n",
    "    response = sm_runtime.invoke_endpoint(\n",
    "        EndpointName=model_name,\n",
    "        ContentType=content_type,\n",
    "        Accept=accept,\n",
    "        Body=input_data,\n",
    "    )\n",
    "\n",
    "    # Read response data\n",
    "    response_data = json.loads(response[\"Body\"].read().decode(\"utf-8\")) if accept == 'application/json' else response['Body'].read().decode('utf-8')\n",
    "\n",
    "    # Save response data to file\n",
    "    with open(output_file_name, 'w') as f_out:\n",
    "        if accept == 'application/json':\n",
    "            json.dump(response_data, f_out, indent=4)\n",
    "        else:\n",
    "            for item in response_data.split('\\n'):\n",
    "                f_out.write(item + '\\n')\n",
    "\n",
    "    # Upload response data to S3\n",
    "    output_s3_key = f\"{s3_output_dir}/{os.path.basename(output_file_name)}\"\n",
    "    if accept == 'application/json':\n",
    "        s3_client.put_object(Bucket=s3_bucket, Key=output_s3_key, Body=json.dumps(response_data).encode('UTF-8'))\n",
    "    else:\n",
    "        s3_client.put_object(Bucket=s3_bucket, Key=output_s3_key, Body=response_data)\n",
    "\n",
    "    return response_data"
   ]
  },
  {
   "cell_type": "markdown",
   "metadata": {},
   "source": [
    "### Initial Setup"
   ]
  },
  {
   "cell_type": "code",
   "execution_count": 7,
   "metadata": {
    "tags": []
   },
   "outputs": [],
   "source": [
    "docs = [\n",
    "    \"HPI: A 69-year-old white female with a history of depression, anxiety, admitted to the ABCD Hospital on February 6, 2007, for shortness of breath. The patient was consulted by Psychiatry for anxiety. I know this patient from a previous consult. During this recent admission, she was given Ativan 0.25 mg on a p.r.n. basis with relief after one to two hours. The patient was seen by Abc, MD, and Def, Ph.D. PAST MEDICAL HISTORY: The patient has a history of hypertension, hypothyroidism, cholelithiasis, Port-A-Cath placement, and hydronephrosis\", \n",
    "    \"The patient is a 28-year-old, who is status post gastric bypass surgery nearly one year ago. He has lost about 200 pounds and was otherwise doing well until yesterday evening around 7:00-8:00 when he developed nausea and right upper quadrant pain, which apparently wrapped around toward his right side and back. He feels like he was on it but has not done so. He has overall malaise and a low-grade temperature of 100.3. His last normal bowel movement was yesterday. He denies any outright chills. PAST MEDICAL HISTORY: Significant for hypertension and morbid obesity, now resolved.\",\n",
    "]\n",
    "\n",
    "\n",
    "sample_text = \"\"\"HTG-induced pancreatitis associated with an acute hepatitis, and obesity\"\"\""
   ]
  },
  {
   "cell_type": "markdown",
   "metadata": {},
   "source": [
    "### JSON"
   ]
  },
  {
   "cell_type": "markdown",
   "metadata": {},
   "source": [
    "#### Example 1"
   ]
  },
  {
   "cell_type": "markdown",
   "metadata": {},
   "source": [
    "  **Input format**:\n",
    "  \n",
    "  \n",
    "```json\n",
    "{\n",
    "    \"text\": \"Single text document\"\n",
    "}\n",
    "```"
   ]
  },
  {
   "cell_type": "code",
   "execution_count": 8,
   "metadata": {
    "tags": []
   },
   "outputs": [
    {
     "data": {
      "text/html": [
       "<div>\n",
       "<style scoped>\n",
       "    .dataframe tbody tr th:only-of-type {\n",
       "        vertical-align: middle;\n",
       "    }\n",
       "\n",
       "    .dataframe tbody tr th {\n",
       "        vertical-align: top;\n",
       "    }\n",
       "\n",
       "    .dataframe thead th {\n",
       "        text-align: right;\n",
       "    }\n",
       "</style>\n",
       "<table border=\"1\" class=\"dataframe\">\n",
       "  <thead>\n",
       "    <tr style=\"text-align: right;\">\n",
       "      <th></th>\n",
       "      <th>document</th>\n",
       "      <th>ner_chunk</th>\n",
       "      <th>begin</th>\n",
       "      <th>end</th>\n",
       "      <th>ner_label</th>\n",
       "      <th>ner_confidence</th>\n",
       "      <th>umls_code</th>\n",
       "      <th>umls_confidence</th>\n",
       "    </tr>\n",
       "  </thead>\n",
       "  <tbody>\n",
       "    <tr>\n",
       "      <th>0</th>\n",
       "      <td>HTG-induced pancreatitis associated with an acute hepatitis, and obesity</td>\n",
       "      <td>HTG-induced pancreatitis</td>\n",
       "      <td>0</td>\n",
       "      <td>23</td>\n",
       "      <td>PROBLEM</td>\n",
       "      <td>0.9539</td>\n",
       "      <td>C1963198</td>\n",
       "      <td>0.4456</td>\n",
       "    </tr>\n",
       "    <tr>\n",
       "      <th>1</th>\n",
       "      <td>HTG-induced pancreatitis associated with an acute hepatitis, and obesity</td>\n",
       "      <td>an acute hepatitis</td>\n",
       "      <td>41</td>\n",
       "      <td>58</td>\n",
       "      <td>PROBLEM</td>\n",
       "      <td>0.9794333</td>\n",
       "      <td>C4750596</td>\n",
       "      <td>0.7237</td>\n",
       "    </tr>\n",
       "    <tr>\n",
       "      <th>2</th>\n",
       "      <td>HTG-induced pancreatitis associated with an acute hepatitis, and obesity</td>\n",
       "      <td>obesity</td>\n",
       "      <td>65</td>\n",
       "      <td>71</td>\n",
       "      <td>PROBLEM</td>\n",
       "      <td>0.9828</td>\n",
       "      <td>C1963185</td>\n",
       "      <td>0.9828</td>\n",
       "    </tr>\n",
       "  </tbody>\n",
       "</table>\n",
       "</div>"
      ],
      "text/plain": [
       "                                                                   document  \\\n",
       "0  HTG-induced pancreatitis associated with an acute hepatitis, and obesity   \n",
       "1  HTG-induced pancreatitis associated with an acute hepatitis, and obesity   \n",
       "2  HTG-induced pancreatitis associated with an acute hepatitis, and obesity   \n",
       "\n",
       "                  ner_chunk  begin  end ner_label ner_confidence umls_code  \\\n",
       "0  HTG-induced pancreatitis      0   23   PROBLEM         0.9539  C1963198   \n",
       "1        an acute hepatitis     41   58   PROBLEM      0.9794333  C4750596   \n",
       "2                   obesity     65   71   PROBLEM         0.9828  C1963185   \n",
       "\n",
       "  umls_confidence  \n",
       "0          0.4456  \n",
       "1          0.7237  \n",
       "2          0.9828  "
      ]
     },
     "execution_count": 8,
     "metadata": {},
     "output_type": "execute_result"
    }
   ],
   "source": [
    "input_json_data = {\"text\": sample_text}\n",
    "\n",
    "data =  process_data_and_invoke_realtime_endpoint(input_json_data, content_type=\"application/json\" , accept=\"application/json\" )\n",
    "pd.DataFrame(data[\"predictions\"])"
   ]
  },
  {
   "cell_type": "markdown",
   "metadata": {},
   "source": [
    "#### Example 2"
   ]
  },
  {
   "cell_type": "markdown",
   "metadata": {},
   "source": [
    "  **Input format**:\n",
    "  \n",
    "  \n",
    "```json\n",
    "{\n",
    "    \"text\": [\n",
    "        \"Text document 1\",\n",
    "        \"Text document 2\",\n",
    "        ...\n",
    "    ]\n",
    "}\n",
    "```"
   ]
  },
  {
   "cell_type": "code",
   "execution_count": 9,
   "metadata": {
    "tags": []
   },
   "outputs": [
    {
     "data": {
      "text/html": [
       "<div>\n",
       "<style scoped>\n",
       "    .dataframe tbody tr th:only-of-type {\n",
       "        vertical-align: middle;\n",
       "    }\n",
       "\n",
       "    .dataframe tbody tr th {\n",
       "        vertical-align: top;\n",
       "    }\n",
       "\n",
       "    .dataframe thead th {\n",
       "        text-align: right;\n",
       "    }\n",
       "</style>\n",
       "<table border=\"1\" class=\"dataframe\">\n",
       "  <thead>\n",
       "    <tr style=\"text-align: right;\">\n",
       "      <th></th>\n",
       "      <th>document</th>\n",
       "      <th>ner_chunk</th>\n",
       "      <th>begin</th>\n",
       "      <th>end</th>\n",
       "      <th>ner_label</th>\n",
       "      <th>ner_confidence</th>\n",
       "      <th>umls_code</th>\n",
       "      <th>umls_confidence</th>\n",
       "    </tr>\n",
       "  </thead>\n",
       "  <tbody>\n",
       "    <tr>\n",
       "      <th>0</th>\n",
       "      <td>HPI: A 69-year-old white female with a history of depression, anxiety, admitted to the ABCD Hospital on February 6, 2007, for shortness of breath. The patient was consulted by Psychiatry for anxiety. I know this patient from a previous consult. During this recent admission, she was given Ativan 0.25 mg on a p.r.n. basis with relief after one to two hours. The patient was seen by Abc, MD, and Def, Ph.D. PAST MEDICAL HISTORY: The patient has a history of hypertension, hypothyroidism, cholelithiasis, Port-A-Cath placement, and hydronephrosis</td>\n",
       "      <td>depression</td>\n",
       "      <td>50</td>\n",
       "      <td>59</td>\n",
       "      <td>PROBLEM</td>\n",
       "      <td>0.9926</td>\n",
       "      <td>C1999266</td>\n",
       "      <td>0.9926</td>\n",
       "    </tr>\n",
       "    <tr>\n",
       "      <th>1</th>\n",
       "      <td>HPI: A 69-year-old white female with a history of depression, anxiety, admitted to the ABCD Hospital on February 6, 2007, for shortness of breath. The patient was consulted by Psychiatry for anxiety. I know this patient from a previous consult. During this recent admission, she was given Ativan 0.25 mg on a p.r.n. basis with relief after one to two hours. The patient was seen by Abc, MD, and Def, Ph.D. PAST MEDICAL HISTORY: The patient has a history of hypertension, hypothyroidism, cholelithiasis, Port-A-Cath placement, and hydronephrosis</td>\n",
       "      <td>anxiety</td>\n",
       "      <td>62</td>\n",
       "      <td>68</td>\n",
       "      <td>PROBLEM</td>\n",
       "      <td>0.9973</td>\n",
       "      <td>C1963064</td>\n",
       "      <td>0.9973</td>\n",
       "    </tr>\n",
       "    <tr>\n",
       "      <th>2</th>\n",
       "      <td>HPI: A 69-year-old white female with a history of depression, anxiety, admitted to the ABCD Hospital on February 6, 2007, for shortness of breath. The patient was consulted by Psychiatry for anxiety. I know this patient from a previous consult. During this recent admission, she was given Ativan 0.25 mg on a p.r.n. basis with relief after one to two hours. The patient was seen by Abc, MD, and Def, Ph.D. PAST MEDICAL HISTORY: The patient has a history of hypertension, hypothyroidism, cholelithiasis, Port-A-Cath placement, and hydronephrosis</td>\n",
       "      <td>shortness of breath</td>\n",
       "      <td>126</td>\n",
       "      <td>144</td>\n",
       "      <td>PROBLEM</td>\n",
       "      <td>0.8321667</td>\n",
       "      <td>C0748646</td>\n",
       "      <td>0.2357</td>\n",
       "    </tr>\n",
       "    <tr>\n",
       "      <th>3</th>\n",
       "      <td>HPI: A 69-year-old white female with a history of depression, anxiety, admitted to the ABCD Hospital on February 6, 2007, for shortness of breath. The patient was consulted by Psychiatry for anxiety. I know this patient from a previous consult. During this recent admission, she was given Ativan 0.25 mg on a p.r.n. basis with relief after one to two hours. The patient was seen by Abc, MD, and Def, Ph.D. PAST MEDICAL HISTORY: The patient has a history of hypertension, hypothyroidism, cholelithiasis, Port-A-Cath placement, and hydronephrosis</td>\n",
       "      <td>anxiety</td>\n",
       "      <td>191</td>\n",
       "      <td>197</td>\n",
       "      <td>PROBLEM</td>\n",
       "      <td>0.9963</td>\n",
       "      <td>C1963064</td>\n",
       "      <td>0.9963</td>\n",
       "    </tr>\n",
       "    <tr>\n",
       "      <th>4</th>\n",
       "      <td>HPI: A 69-year-old white female with a history of depression, anxiety, admitted to the ABCD Hospital on February 6, 2007, for shortness of breath. The patient was consulted by Psychiatry for anxiety. I know this patient from a previous consult. During this recent admission, she was given Ativan 0.25 mg on a p.r.n. basis with relief after one to two hours. The patient was seen by Abc, MD, and Def, Ph.D. PAST MEDICAL HISTORY: The patient has a history of hypertension, hypothyroidism, cholelithiasis, Port-A-Cath placement, and hydronephrosis</td>\n",
       "      <td>Ativan</td>\n",
       "      <td>289</td>\n",
       "      <td>294</td>\n",
       "      <td>TREATMENT</td>\n",
       "      <td>0.9994</td>\n",
       "      <td>C0278128</td>\n",
       "      <td>0.0837</td>\n",
       "    </tr>\n",
       "    <tr>\n",
       "      <th>5</th>\n",
       "      <td>HPI: A 69-year-old white female with a history of depression, anxiety, admitted to the ABCD Hospital on February 6, 2007, for shortness of breath. The patient was consulted by Psychiatry for anxiety. I know this patient from a previous consult. During this recent admission, she was given Ativan 0.25 mg on a p.r.n. basis with relief after one to two hours. The patient was seen by Abc, MD, and Def, Ph.D. PAST MEDICAL HISTORY: The patient has a history of hypertension, hypothyroidism, cholelithiasis, Port-A-Cath placement, and hydronephrosis</td>\n",
       "      <td>hypertension</td>\n",
       "      <td>457</td>\n",
       "      <td>468</td>\n",
       "      <td>PROBLEM</td>\n",
       "      <td>0.9973</td>\n",
       "      <td>C0455405</td>\n",
       "      <td>0.9973</td>\n",
       "    </tr>\n",
       "    <tr>\n",
       "      <th>6</th>\n",
       "      <td>HPI: A 69-year-old white female with a history of depression, anxiety, admitted to the ABCD Hospital on February 6, 2007, for shortness of breath. The patient was consulted by Psychiatry for anxiety. I know this patient from a previous consult. During this recent admission, she was given Ativan 0.25 mg on a p.r.n. basis with relief after one to two hours. The patient was seen by Abc, MD, and Def, Ph.D. PAST MEDICAL HISTORY: The patient has a history of hypertension, hypothyroidism, cholelithiasis, Port-A-Cath placement, and hydronephrosis</td>\n",
       "      <td>hypothyroidism</td>\n",
       "      <td>471</td>\n",
       "      <td>484</td>\n",
       "      <td>PROBLEM</td>\n",
       "      <td>0.9996</td>\n",
       "      <td>C4553310</td>\n",
       "      <td>0.9996</td>\n",
       "    </tr>\n",
       "    <tr>\n",
       "      <th>7</th>\n",
       "      <td>HPI: A 69-year-old white female with a history of depression, anxiety, admitted to the ABCD Hospital on February 6, 2007, for shortness of breath. The patient was consulted by Psychiatry for anxiety. I know this patient from a previous consult. During this recent admission, she was given Ativan 0.25 mg on a p.r.n. basis with relief after one to two hours. The patient was seen by Abc, MD, and Def, Ph.D. PAST MEDICAL HISTORY: The patient has a history of hypertension, hypothyroidism, cholelithiasis, Port-A-Cath placement, and hydronephrosis</td>\n",
       "      <td>cholelithiasis</td>\n",
       "      <td>487</td>\n",
       "      <td>500</td>\n",
       "      <td>PROBLEM</td>\n",
       "      <td>0.9995</td>\n",
       "      <td>C4228051</td>\n",
       "      <td>0.2464</td>\n",
       "    </tr>\n",
       "    <tr>\n",
       "      <th>8</th>\n",
       "      <td>HPI: A 69-year-old white female with a history of depression, anxiety, admitted to the ABCD Hospital on February 6, 2007, for shortness of breath. The patient was consulted by Psychiatry for anxiety. I know this patient from a previous consult. During this recent admission, she was given Ativan 0.25 mg on a p.r.n. basis with relief after one to two hours. The patient was seen by Abc, MD, and Def, Ph.D. PAST MEDICAL HISTORY: The patient has a history of hypertension, hypothyroidism, cholelithiasis, Port-A-Cath placement, and hydronephrosis</td>\n",
       "      <td>Port-A-Cath placement</td>\n",
       "      <td>503</td>\n",
       "      <td>523</td>\n",
       "      <td>TREATMENT</td>\n",
       "      <td>0.93799996</td>\n",
       "      <td>C3665823</td>\n",
       "      <td>0.1489</td>\n",
       "    </tr>\n",
       "    <tr>\n",
       "      <th>9</th>\n",
       "      <td>HPI: A 69-year-old white female with a history of depression, anxiety, admitted to the ABCD Hospital on February 6, 2007, for shortness of breath. The patient was consulted by Psychiatry for anxiety. I know this patient from a previous consult. During this recent admission, she was given Ativan 0.25 mg on a p.r.n. basis with relief after one to two hours. The patient was seen by Abc, MD, and Def, Ph.D. PAST MEDICAL HISTORY: The patient has a history of hypertension, hypothyroidism, cholelithiasis, Port-A-Cath placement, and hydronephrosis</td>\n",
       "      <td>hydronephrosis</td>\n",
       "      <td>530</td>\n",
       "      <td>543</td>\n",
       "      <td>PROBLEM</td>\n",
       "      <td>0.9965</td>\n",
       "      <td>C4697725</td>\n",
       "      <td>0.4060</td>\n",
       "    </tr>\n",
       "    <tr>\n",
       "      <th>10</th>\n",
       "      <td>The patient is a 28-year-old, who is status post gastric bypass surgery nearly one year ago. He has lost about 200 pounds and was otherwise doing well until yesterday evening around 7:00-8:00 when he developed nausea and right upper quadrant pain, which apparently wrapped around toward his right side and back. He feels like he was on it but has not done so. He has overall malaise and a low-grade temperature of 100.3. His last normal bowel movement was yesterday. He denies any outright chills. PAST MEDICAL HISTORY: Significant for hypertension and morbid obesity, now resolved.</td>\n",
       "      <td>gastric bypass surgery</td>\n",
       "      <td>49</td>\n",
       "      <td>70</td>\n",
       "      <td>TREATMENT</td>\n",
       "      <td>0.7018666</td>\n",
       "      <td>C0548816</td>\n",
       "      <td>0.3427</td>\n",
       "    </tr>\n",
       "    <tr>\n",
       "      <th>11</th>\n",
       "      <td>The patient is a 28-year-old, who is status post gastric bypass surgery nearly one year ago. He has lost about 200 pounds and was otherwise doing well until yesterday evening around 7:00-8:00 when he developed nausea and right upper quadrant pain, which apparently wrapped around toward his right side and back. He feels like he was on it but has not done so. He has overall malaise and a low-grade temperature of 100.3. His last normal bowel movement was yesterday. He denies any outright chills. PAST MEDICAL HISTORY: Significant for hypertension and morbid obesity, now resolved.</td>\n",
       "      <td>nausea</td>\n",
       "      <td>210</td>\n",
       "      <td>215</td>\n",
       "      <td>PROBLEM</td>\n",
       "      <td>0.9988</td>\n",
       "      <td>C1963179</td>\n",
       "      <td>0.9988</td>\n",
       "    </tr>\n",
       "    <tr>\n",
       "      <th>12</th>\n",
       "      <td>The patient is a 28-year-old, who is status post gastric bypass surgery nearly one year ago. He has lost about 200 pounds and was otherwise doing well until yesterday evening around 7:00-8:00 when he developed nausea and right upper quadrant pain, which apparently wrapped around toward his right side and back. He feels like he was on it but has not done so. He has overall malaise and a low-grade temperature of 100.3. His last normal bowel movement was yesterday. He denies any outright chills. PAST MEDICAL HISTORY: Significant for hypertension and morbid obesity, now resolved.</td>\n",
       "      <td>right upper quadrant pain</td>\n",
       "      <td>221</td>\n",
       "      <td>245</td>\n",
       "      <td>PROBLEM</td>\n",
       "      <td>0.952125</td>\n",
       "      <td>C4718731</td>\n",
       "      <td>0.2301</td>\n",
       "    </tr>\n",
       "    <tr>\n",
       "      <th>13</th>\n",
       "      <td>The patient is a 28-year-old, who is status post gastric bypass surgery nearly one year ago. He has lost about 200 pounds and was otherwise doing well until yesterday evening around 7:00-8:00 when he developed nausea and right upper quadrant pain, which apparently wrapped around toward his right side and back. He feels like he was on it but has not done so. He has overall malaise and a low-grade temperature of 100.3. His last normal bowel movement was yesterday. He denies any outright chills. PAST MEDICAL HISTORY: Significant for hypertension and morbid obesity, now resolved.</td>\n",
       "      <td>overall malaise</td>\n",
       "      <td>367</td>\n",
       "      <td>381</td>\n",
       "      <td>PROBLEM</td>\n",
       "      <td>0.9534</td>\n",
       "      <td>C4552989</td>\n",
       "      <td>0.2206</td>\n",
       "    </tr>\n",
       "    <tr>\n",
       "      <th>14</th>\n",
       "      <td>The patient is a 28-year-old, who is status post gastric bypass surgery nearly one year ago. He has lost about 200 pounds and was otherwise doing well until yesterday evening around 7:00-8:00 when he developed nausea and right upper quadrant pain, which apparently wrapped around toward his right side and back. He feels like he was on it but has not done so. He has overall malaise and a low-grade temperature of 100.3. His last normal bowel movement was yesterday. He denies any outright chills. PAST MEDICAL HISTORY: Significant for hypertension and morbid obesity, now resolved.</td>\n",
       "      <td>a low-grade temperature</td>\n",
       "      <td>387</td>\n",
       "      <td>409</td>\n",
       "      <td>PROBLEM</td>\n",
       "      <td>0.7988</td>\n",
       "      <td>C0020672</td>\n",
       "      <td>0.1877</td>\n",
       "    </tr>\n",
       "    <tr>\n",
       "      <th>15</th>\n",
       "      <td>The patient is a 28-year-old, who is status post gastric bypass surgery nearly one year ago. He has lost about 200 pounds and was otherwise doing well until yesterday evening around 7:00-8:00 when he developed nausea and right upper quadrant pain, which apparently wrapped around toward his right side and back. He feels like he was on it but has not done so. He has overall malaise and a low-grade temperature of 100.3. His last normal bowel movement was yesterday. He denies any outright chills. PAST MEDICAL HISTORY: Significant for hypertension and morbid obesity, now resolved.</td>\n",
       "      <td>chills</td>\n",
       "      <td>490</td>\n",
       "      <td>495</td>\n",
       "      <td>PROBLEM</td>\n",
       "      <td>0.7512</td>\n",
       "      <td>C4553185</td>\n",
       "      <td>0.7512</td>\n",
       "    </tr>\n",
       "    <tr>\n",
       "      <th>16</th>\n",
       "      <td>The patient is a 28-year-old, who is status post gastric bypass surgery nearly one year ago. He has lost about 200 pounds and was otherwise doing well until yesterday evening around 7:00-8:00 when he developed nausea and right upper quadrant pain, which apparently wrapped around toward his right side and back. He feels like he was on it but has not done so. He has overall malaise and a low-grade temperature of 100.3. His last normal bowel movement was yesterday. He denies any outright chills. PAST MEDICAL HISTORY: Significant for hypertension and morbid obesity, now resolved.</td>\n",
       "      <td>hypertension</td>\n",
       "      <td>536</td>\n",
       "      <td>547</td>\n",
       "      <td>PROBLEM</td>\n",
       "      <td>0.9937</td>\n",
       "      <td>C0455405</td>\n",
       "      <td>0.9937</td>\n",
       "    </tr>\n",
       "    <tr>\n",
       "      <th>17</th>\n",
       "      <td>The patient is a 28-year-old, who is status post gastric bypass surgery nearly one year ago. He has lost about 200 pounds and was otherwise doing well until yesterday evening around 7:00-8:00 when he developed nausea and right upper quadrant pain, which apparently wrapped around toward his right side and back. He feels like he was on it but has not done so. He has overall malaise and a low-grade temperature of 100.3. His last normal bowel movement was yesterday. He denies any outright chills. PAST MEDICAL HISTORY: Significant for hypertension and morbid obesity, now resolved.</td>\n",
       "      <td>morbid obesity</td>\n",
       "      <td>553</td>\n",
       "      <td>566</td>\n",
       "      <td>PROBLEM</td>\n",
       "      <td>0.99255</td>\n",
       "      <td>C2945676</td>\n",
       "      <td>0.1367</td>\n",
       "    </tr>\n",
       "  </tbody>\n",
       "</table>\n",
       "</div>"
      ],
      "text/plain": [
       "                                                                                                                                                                                                                                                                                                                                                                                                                                                                                                                                                                                                  document  \\\n",
       "0                                         HPI: A 69-year-old white female with a history of depression, anxiety, admitted to the ABCD Hospital on February 6, 2007, for shortness of breath. The patient was consulted by Psychiatry for anxiety. I know this patient from a previous consult. During this recent admission, she was given Ativan 0.25 mg on a p.r.n. basis with relief after one to two hours. The patient was seen by Abc, MD, and Def, Ph.D. PAST MEDICAL HISTORY: The patient has a history of hypertension, hypothyroidism, cholelithiasis, Port-A-Cath placement, and hydronephrosis   \n",
       "1                                         HPI: A 69-year-old white female with a history of depression, anxiety, admitted to the ABCD Hospital on February 6, 2007, for shortness of breath. The patient was consulted by Psychiatry for anxiety. I know this patient from a previous consult. During this recent admission, she was given Ativan 0.25 mg on a p.r.n. basis with relief after one to two hours. The patient was seen by Abc, MD, and Def, Ph.D. PAST MEDICAL HISTORY: The patient has a history of hypertension, hypothyroidism, cholelithiasis, Port-A-Cath placement, and hydronephrosis   \n",
       "2                                         HPI: A 69-year-old white female with a history of depression, anxiety, admitted to the ABCD Hospital on February 6, 2007, for shortness of breath. The patient was consulted by Psychiatry for anxiety. I know this patient from a previous consult. During this recent admission, she was given Ativan 0.25 mg on a p.r.n. basis with relief after one to two hours. The patient was seen by Abc, MD, and Def, Ph.D. PAST MEDICAL HISTORY: The patient has a history of hypertension, hypothyroidism, cholelithiasis, Port-A-Cath placement, and hydronephrosis   \n",
       "3                                         HPI: A 69-year-old white female with a history of depression, anxiety, admitted to the ABCD Hospital on February 6, 2007, for shortness of breath. The patient was consulted by Psychiatry for anxiety. I know this patient from a previous consult. During this recent admission, she was given Ativan 0.25 mg on a p.r.n. basis with relief after one to two hours. The patient was seen by Abc, MD, and Def, Ph.D. PAST MEDICAL HISTORY: The patient has a history of hypertension, hypothyroidism, cholelithiasis, Port-A-Cath placement, and hydronephrosis   \n",
       "4                                         HPI: A 69-year-old white female with a history of depression, anxiety, admitted to the ABCD Hospital on February 6, 2007, for shortness of breath. The patient was consulted by Psychiatry for anxiety. I know this patient from a previous consult. During this recent admission, she was given Ativan 0.25 mg on a p.r.n. basis with relief after one to two hours. The patient was seen by Abc, MD, and Def, Ph.D. PAST MEDICAL HISTORY: The patient has a history of hypertension, hypothyroidism, cholelithiasis, Port-A-Cath placement, and hydronephrosis   \n",
       "5                                         HPI: A 69-year-old white female with a history of depression, anxiety, admitted to the ABCD Hospital on February 6, 2007, for shortness of breath. The patient was consulted by Psychiatry for anxiety. I know this patient from a previous consult. During this recent admission, she was given Ativan 0.25 mg on a p.r.n. basis with relief after one to two hours. The patient was seen by Abc, MD, and Def, Ph.D. PAST MEDICAL HISTORY: The patient has a history of hypertension, hypothyroidism, cholelithiasis, Port-A-Cath placement, and hydronephrosis   \n",
       "6                                         HPI: A 69-year-old white female with a history of depression, anxiety, admitted to the ABCD Hospital on February 6, 2007, for shortness of breath. The patient was consulted by Psychiatry for anxiety. I know this patient from a previous consult. During this recent admission, she was given Ativan 0.25 mg on a p.r.n. basis with relief after one to two hours. The patient was seen by Abc, MD, and Def, Ph.D. PAST MEDICAL HISTORY: The patient has a history of hypertension, hypothyroidism, cholelithiasis, Port-A-Cath placement, and hydronephrosis   \n",
       "7                                         HPI: A 69-year-old white female with a history of depression, anxiety, admitted to the ABCD Hospital on February 6, 2007, for shortness of breath. The patient was consulted by Psychiatry for anxiety. I know this patient from a previous consult. During this recent admission, she was given Ativan 0.25 mg on a p.r.n. basis with relief after one to two hours. The patient was seen by Abc, MD, and Def, Ph.D. PAST MEDICAL HISTORY: The patient has a history of hypertension, hypothyroidism, cholelithiasis, Port-A-Cath placement, and hydronephrosis   \n",
       "8                                         HPI: A 69-year-old white female with a history of depression, anxiety, admitted to the ABCD Hospital on February 6, 2007, for shortness of breath. The patient was consulted by Psychiatry for anxiety. I know this patient from a previous consult. During this recent admission, she was given Ativan 0.25 mg on a p.r.n. basis with relief after one to two hours. The patient was seen by Abc, MD, and Def, Ph.D. PAST MEDICAL HISTORY: The patient has a history of hypertension, hypothyroidism, cholelithiasis, Port-A-Cath placement, and hydronephrosis   \n",
       "9                                         HPI: A 69-year-old white female with a history of depression, anxiety, admitted to the ABCD Hospital on February 6, 2007, for shortness of breath. The patient was consulted by Psychiatry for anxiety. I know this patient from a previous consult. During this recent admission, she was given Ativan 0.25 mg on a p.r.n. basis with relief after one to two hours. The patient was seen by Abc, MD, and Def, Ph.D. PAST MEDICAL HISTORY: The patient has a history of hypertension, hypothyroidism, cholelithiasis, Port-A-Cath placement, and hydronephrosis   \n",
       "10  The patient is a 28-year-old, who is status post gastric bypass surgery nearly one year ago. He has lost about 200 pounds and was otherwise doing well until yesterday evening around 7:00-8:00 when he developed nausea and right upper quadrant pain, which apparently wrapped around toward his right side and back. He feels like he was on it but has not done so. He has overall malaise and a low-grade temperature of 100.3. His last normal bowel movement was yesterday. He denies any outright chills. PAST MEDICAL HISTORY: Significant for hypertension and morbid obesity, now resolved.   \n",
       "11  The patient is a 28-year-old, who is status post gastric bypass surgery nearly one year ago. He has lost about 200 pounds and was otherwise doing well until yesterday evening around 7:00-8:00 when he developed nausea and right upper quadrant pain, which apparently wrapped around toward his right side and back. He feels like he was on it but has not done so. He has overall malaise and a low-grade temperature of 100.3. His last normal bowel movement was yesterday. He denies any outright chills. PAST MEDICAL HISTORY: Significant for hypertension and morbid obesity, now resolved.   \n",
       "12  The patient is a 28-year-old, who is status post gastric bypass surgery nearly one year ago. He has lost about 200 pounds and was otherwise doing well until yesterday evening around 7:00-8:00 when he developed nausea and right upper quadrant pain, which apparently wrapped around toward his right side and back. He feels like he was on it but has not done so. He has overall malaise and a low-grade temperature of 100.3. His last normal bowel movement was yesterday. He denies any outright chills. PAST MEDICAL HISTORY: Significant for hypertension and morbid obesity, now resolved.   \n",
       "13  The patient is a 28-year-old, who is status post gastric bypass surgery nearly one year ago. He has lost about 200 pounds and was otherwise doing well until yesterday evening around 7:00-8:00 when he developed nausea and right upper quadrant pain, which apparently wrapped around toward his right side and back. He feels like he was on it but has not done so. He has overall malaise and a low-grade temperature of 100.3. His last normal bowel movement was yesterday. He denies any outright chills. PAST MEDICAL HISTORY: Significant for hypertension and morbid obesity, now resolved.   \n",
       "14  The patient is a 28-year-old, who is status post gastric bypass surgery nearly one year ago. He has lost about 200 pounds and was otherwise doing well until yesterday evening around 7:00-8:00 when he developed nausea and right upper quadrant pain, which apparently wrapped around toward his right side and back. He feels like he was on it but has not done so. He has overall malaise and a low-grade temperature of 100.3. His last normal bowel movement was yesterday. He denies any outright chills. PAST MEDICAL HISTORY: Significant for hypertension and morbid obesity, now resolved.   \n",
       "15  The patient is a 28-year-old, who is status post gastric bypass surgery nearly one year ago. He has lost about 200 pounds and was otherwise doing well until yesterday evening around 7:00-8:00 when he developed nausea and right upper quadrant pain, which apparently wrapped around toward his right side and back. He feels like he was on it but has not done so. He has overall malaise and a low-grade temperature of 100.3. His last normal bowel movement was yesterday. He denies any outright chills. PAST MEDICAL HISTORY: Significant for hypertension and morbid obesity, now resolved.   \n",
       "16  The patient is a 28-year-old, who is status post gastric bypass surgery nearly one year ago. He has lost about 200 pounds and was otherwise doing well until yesterday evening around 7:00-8:00 when he developed nausea and right upper quadrant pain, which apparently wrapped around toward his right side and back. He feels like he was on it but has not done so. He has overall malaise and a low-grade temperature of 100.3. His last normal bowel movement was yesterday. He denies any outright chills. PAST MEDICAL HISTORY: Significant for hypertension and morbid obesity, now resolved.   \n",
       "17  The patient is a 28-year-old, who is status post gastric bypass surgery nearly one year ago. He has lost about 200 pounds and was otherwise doing well until yesterday evening around 7:00-8:00 when he developed nausea and right upper quadrant pain, which apparently wrapped around toward his right side and back. He feels like he was on it but has not done so. He has overall malaise and a low-grade temperature of 100.3. His last normal bowel movement was yesterday. He denies any outright chills. PAST MEDICAL HISTORY: Significant for hypertension and morbid obesity, now resolved.   \n",
       "\n",
       "                    ner_chunk  begin  end  ner_label ner_confidence umls_code  \\\n",
       "0                  depression     50   59    PROBLEM         0.9926  C1999266   \n",
       "1                     anxiety     62   68    PROBLEM         0.9973  C1963064   \n",
       "2         shortness of breath    126  144    PROBLEM      0.8321667  C0748646   \n",
       "3                     anxiety    191  197    PROBLEM         0.9963  C1963064   \n",
       "4                      Ativan    289  294  TREATMENT         0.9994  C0278128   \n",
       "5                hypertension    457  468    PROBLEM         0.9973  C0455405   \n",
       "6              hypothyroidism    471  484    PROBLEM         0.9996  C4553310   \n",
       "7              cholelithiasis    487  500    PROBLEM         0.9995  C4228051   \n",
       "8       Port-A-Cath placement    503  523  TREATMENT     0.93799996  C3665823   \n",
       "9              hydronephrosis    530  543    PROBLEM         0.9965  C4697725   \n",
       "10     gastric bypass surgery     49   70  TREATMENT      0.7018666  C0548816   \n",
       "11                     nausea    210  215    PROBLEM         0.9988  C1963179   \n",
       "12  right upper quadrant pain    221  245    PROBLEM       0.952125  C4718731   \n",
       "13            overall malaise    367  381    PROBLEM         0.9534  C4552989   \n",
       "14    a low-grade temperature    387  409    PROBLEM         0.7988  C0020672   \n",
       "15                     chills    490  495    PROBLEM         0.7512  C4553185   \n",
       "16               hypertension    536  547    PROBLEM         0.9937  C0455405   \n",
       "17             morbid obesity    553  566    PROBLEM        0.99255  C2945676   \n",
       "\n",
       "   umls_confidence  \n",
       "0           0.9926  \n",
       "1           0.9973  \n",
       "2           0.2357  \n",
       "3           0.9963  \n",
       "4           0.0837  \n",
       "5           0.9973  \n",
       "6           0.9996  \n",
       "7           0.2464  \n",
       "8           0.1489  \n",
       "9           0.4060  \n",
       "10          0.3427  \n",
       "11          0.9988  \n",
       "12          0.2301  \n",
       "13          0.2206  \n",
       "14          0.1877  \n",
       "15          0.7512  \n",
       "16          0.9937  \n",
       "17          0.1367  "
      ]
     },
     "execution_count": 9,
     "metadata": {},
     "output_type": "execute_result"
    }
   ],
   "source": [
    "input_json_data = {\"text\": docs}\n",
    "\n",
    "data =  process_data_and_invoke_realtime_endpoint(input_json_data, content_type=\"application/json\" , accept=\"application/json\" )\n",
    "pd.DataFrame(data[\"predictions\"])"
   ]
  },
  {
   "cell_type": "markdown",
   "metadata": {},
   "source": [
    "### JSON Lines"
   ]
  },
  {
   "cell_type": "markdown",
   "metadata": {},
   "source": [
    "  **Input format**:\n",
    "  \n",
    "```json\n",
    "{\"text\": \"Text document 1\"}\n",
    "{\"text\": \"Text document 2\"}\n",
    "```"
   ]
  },
  {
   "cell_type": "code",
   "execution_count": 10,
   "metadata": {
    "tags": []
   },
   "outputs": [],
   "source": [
    "import json\n",
    "\n",
    "def create_jsonl(records):\n",
    "    json_records = []\n",
    "\n",
    "    for text in records:\n",
    "        record = {\n",
    "            \"text\": text\n",
    "        }\n",
    "        json_records.append(record)\n",
    "\n",
    "    json_lines = '\\n'.join(json.dumps(record) for record in json_records)\n",
    "\n",
    "    return json_lines\n",
    "\n",
    "input_jsonl_data = create_jsonl(docs)"
   ]
  },
  {
   "cell_type": "markdown",
   "metadata": {},
   "source": [
    "#### Example 1"
   ]
  },
  {
   "cell_type": "code",
   "execution_count": 11,
   "metadata": {
    "tags": []
   },
   "outputs": [
    {
     "name": "stdout",
     "output_type": "stream",
     "text": [
      "{\"predictions\": [{\"ner_chunk\": \"depression\", \"begin\": 50, \"end\": 59, \"ner_label\": \"PROBLEM\", \"ner_confidence\": \"0.9926\", \"umls_code\": \"C1999266\", \"umls_confidence\": \"0.9926\"}, {\"ner_chunk\": \"anxiety\", \"begin\": 62, \"end\": 68, \"ner_label\": \"PROBLEM\", \"ner_confidence\": \"0.9973\", \"umls_code\": \"C1963064\", \"umls_confidence\": \"0.9973\"}, {\"ner_chunk\": \"shortness of breath\", \"begin\": 126, \"end\": 144, \"ner_label\": \"PROBLEM\", \"ner_confidence\": \"0.8321667\", \"umls_code\": \"C0748646\", \"umls_confidence\": \"0.2357\"}, {\"ner_chunk\": \"anxiety\", \"begin\": 191, \"end\": 197, \"ner_label\": \"PROBLEM\", \"ner_confidence\": \"0.9963\", \"umls_code\": \"C1963064\", \"umls_confidence\": \"0.9963\"}, {\"ner_chunk\": \"Ativan\", \"begin\": 289, \"end\": 294, \"ner_label\": \"TREATMENT\", \"ner_confidence\": \"0.9994\", \"umls_code\": \"C0278128\", \"umls_confidence\": \"0.0837\"}, {\"ner_chunk\": \"hypertension\", \"begin\": 457, \"end\": 468, \"ner_label\": \"PROBLEM\", \"ner_confidence\": \"0.9973\", \"umls_code\": \"C0455405\", \"umls_confidence\": \"0.9973\"}, {\"ner_chunk\": \"hypothyroidism\", \"begin\": 471, \"end\": 484, \"ner_label\": \"PROBLEM\", \"ner_confidence\": \"0.9996\", \"umls_code\": \"C4553310\", \"umls_confidence\": \"0.9996\"}, {\"ner_chunk\": \"cholelithiasis\", \"begin\": 487, \"end\": 500, \"ner_label\": \"PROBLEM\", \"ner_confidence\": \"0.9995\", \"umls_code\": \"C4228051\", \"umls_confidence\": \"0.2464\"}, {\"ner_chunk\": \"Port-A-Cath placement\", \"begin\": 503, \"end\": 523, \"ner_label\": \"TREATMENT\", \"ner_confidence\": \"0.93799996\", \"umls_code\": \"C3665823\", \"umls_confidence\": \"0.1489\"}, {\"ner_chunk\": \"hydronephrosis\", \"begin\": 530, \"end\": 543, \"ner_label\": \"PROBLEM\", \"ner_confidence\": \"0.9965\", \"umls_code\": \"C4697725\", \"umls_confidence\": \"0.4060\"}]}\n",
      "{\"predictions\": [{\"ner_chunk\": \"gastric bypass surgery\", \"begin\": 49, \"end\": 70, \"ner_label\": \"TREATMENT\", \"ner_confidence\": \"0.7018666\", \"umls_code\": \"C0548816\", \"umls_confidence\": \"0.3427\"}, {\"ner_chunk\": \"nausea\", \"begin\": 210, \"end\": 215, \"ner_label\": \"PROBLEM\", \"ner_confidence\": \"0.9988\", \"umls_code\": \"C1963179\", \"umls_confidence\": \"0.9988\"}, {\"ner_chunk\": \"right upper quadrant pain\", \"begin\": 221, \"end\": 245, \"ner_label\": \"PROBLEM\", \"ner_confidence\": \"0.952125\", \"umls_code\": \"C4718731\", \"umls_confidence\": \"0.2301\"}, {\"ner_chunk\": \"overall malaise\", \"begin\": 367, \"end\": 381, \"ner_label\": \"PROBLEM\", \"ner_confidence\": \"0.9534\", \"umls_code\": \"C4552989\", \"umls_confidence\": \"0.2206\"}, {\"ner_chunk\": \"a low-grade temperature\", \"begin\": 387, \"end\": 409, \"ner_label\": \"PROBLEM\", \"ner_confidence\": \"0.7988\", \"umls_code\": \"C0020672\", \"umls_confidence\": \"0.1877\"}, {\"ner_chunk\": \"chills\", \"begin\": 490, \"end\": 495, \"ner_label\": \"PROBLEM\", \"ner_confidence\": \"0.7512\", \"umls_code\": \"C4553185\", \"umls_confidence\": \"0.7512\"}, {\"ner_chunk\": \"hypertension\", \"begin\": 536, \"end\": 547, \"ner_label\": \"PROBLEM\", \"ner_confidence\": \"0.9937\", \"umls_code\": \"C0455405\", \"umls_confidence\": \"0.9937\"}, {\"ner_chunk\": \"morbid obesity\", \"begin\": 553, \"end\": 566, \"ner_label\": \"PROBLEM\", \"ner_confidence\": \"0.99255\", \"umls_code\": \"C2945676\", \"umls_confidence\": \"0.1367\"}]}\n"
     ]
    }
   ],
   "source": [
    "data = process_data_and_invoke_realtime_endpoint(input_jsonl_data, content_type=\"application/jsonlines\" , accept=\"application/jsonlines\" )\n",
    "print(data)"
   ]
  },
  {
   "cell_type": "markdown",
   "metadata": {},
   "source": [
    "### C. Delete the endpoint"
   ]
  },
  {
   "cell_type": "markdown",
   "metadata": {},
   "source": [
    "Now that you have successfully performed a real-time inference, you do not need the endpoint any more. You can terminate the endpoint to avoid being charged."
   ]
  },
  {
   "cell_type": "code",
   "execution_count": 12,
   "metadata": {
    "tags": []
   },
   "outputs": [],
   "source": [
    "model.sagemaker_session.delete_endpoint(model_name)\n",
    "model.sagemaker_session.delete_endpoint_config(model_name)"
   ]
  },
  {
   "cell_type": "markdown",
   "metadata": {
    "tags": []
   },
   "source": [
    "## 3. Batch inference"
   ]
  },
  {
   "cell_type": "code",
   "execution_count": 13,
   "metadata": {
    "tags": []
   },
   "outputs": [],
   "source": [
    "import json\n",
    "import os\n",
    "\n",
    "input_dir = 'inputs/batch'\n",
    "json_input_dir = f\"{input_dir}/json\"\n",
    "jsonl_input_dir = f\"{input_dir}/jsonl\"\n",
    "\n",
    "output_dir = 'outputs/batch'\n",
    "json_output_dir = f\"{output_dir}/json\"\n",
    "jsonl_output_dir = f\"{output_dir}/jsonl\"\n",
    "\n",
    "os.makedirs(json_input_dir, exist_ok=True)\n",
    "os.makedirs(jsonl_input_dir, exist_ok=True)\n",
    "os.makedirs(json_output_dir, exist_ok=True)\n",
    "os.makedirs(jsonl_output_dir, exist_ok=True)\n",
    "\n",
    "validation_json_file_name = \"input.json\"\n",
    "\n",
    "validation_jsonl_file_name = \"input.jsonl\"\n",
    "\n",
    "validation_input_json_path = f\"s3://{s3_bucket}/{model_name}/validation-input/batch/json/\"\n",
    "validation_output_json_path = f\"s3://{s3_bucket}/{model_name}/validation-output/batch/json/\"\n",
    "\n",
    "validation_input_jsonl_path = f\"s3://{s3_bucket}/{model_name}/validation-input/batch/jsonl/\"\n",
    "validation_output_jsonl_path = f\"s3://{s3_bucket}/{model_name}/validation-output/batch/jsonl/\"\n",
    "\n",
    "def write_and_upload_to_s3(input_data, file_name):\n",
    "    file_format = os.path.splitext(file_name)[1].lower()\n",
    "    if file_format == \".json\":\n",
    "        input_data = json.dumps(input_data)\n",
    "\n",
    "    with open(file_name, \"w\") as f:\n",
    "        f.write(input_data)\n",
    "\n",
    "    s3_client.put_object(\n",
    "        Bucket=s3_bucket,\n",
    "        Key=f\"{model_name}/validation-input/batch/{file_format[1:]}/{os.path.basename(file_name)}\",\n",
    "        Body=(bytes(input_data.encode(\"UTF-8\"))),\n",
    "    )"
   ]
  },
  {
   "cell_type": "code",
   "execution_count": 14,
   "metadata": {
    "tags": []
   },
   "outputs": [],
   "source": [
    "input_jsonl_data = create_jsonl(docs)\n",
    "input_json_data = {\"text\": docs}\n",
    "\n",
    "write_and_upload_to_s3(input_json_data, f\"{json_input_dir}/{validation_json_file_name}\")\n",
    "\n",
    "write_and_upload_to_s3(input_jsonl_data, f\"{jsonl_input_dir}/{validation_jsonl_file_name}\")"
   ]
  },
  {
   "cell_type": "markdown",
   "metadata": {},
   "source": [
    "### JSON"
   ]
  },
  {
   "cell_type": "code",
   "execution_count": null,
   "metadata": {
    "tags": []
   },
   "outputs": [],
   "source": [
    "# Initialize a SageMaker Transformer object for making predictions\n",
    "transformer = model.transformer(\n",
    "    instance_count=1,\n",
    "    instance_type=batch_transform_inference_instance_type,\n",
    "    accept=\"application/json\",\n",
    "    output_path=validation_output_json_path\n",
    ")\n",
    "\n",
    "transformer.transform(validation_input_json_path, content_type=\"application/json\")\n",
    "transformer.wait()"
   ]
  },
  {
   "cell_type": "code",
   "execution_count": 16,
   "metadata": {
    "tags": []
   },
   "outputs": [],
   "source": [
    "from urllib.parse import urlparse\n",
    "\n",
    "def process_s3_json_output_and_save(validation_file_name):\n",
    "\n",
    "    output_file_path = f\"{json_output_dir}/{validation_file_name}.out\"\n",
    "    parsed_url = urlparse(transformer.output_path)\n",
    "    file_key = f\"{parsed_url.path[1:]}{validation_file_name}.out\"\n",
    "    response = s3_client.get_object(Bucket=s3_bucket, Key=file_key)\n",
    "\n",
    "    data = json.loads(response[\"Body\"].read().decode(\"utf-8\"))\n",
    "    df = pd.DataFrame(data[\"predictions\"])\n",
    "    display(df)\n",
    "\n",
    "    # Save the data to the output file\n",
    "    with open(output_file_path, 'w') as f_out:\n",
    "        json.dump(data, f_out, indent=4)"
   ]
  },
  {
   "cell_type": "code",
   "execution_count": 17,
   "metadata": {
    "tags": []
   },
   "outputs": [
    {
     "data": {
      "text/html": [
       "<div>\n",
       "<style scoped>\n",
       "    .dataframe tbody tr th:only-of-type {\n",
       "        vertical-align: middle;\n",
       "    }\n",
       "\n",
       "    .dataframe tbody tr th {\n",
       "        vertical-align: top;\n",
       "    }\n",
       "\n",
       "    .dataframe thead th {\n",
       "        text-align: right;\n",
       "    }\n",
       "</style>\n",
       "<table border=\"1\" class=\"dataframe\">\n",
       "  <thead>\n",
       "    <tr style=\"text-align: right;\">\n",
       "      <th></th>\n",
       "      <th>document</th>\n",
       "      <th>ner_chunk</th>\n",
       "      <th>begin</th>\n",
       "      <th>end</th>\n",
       "      <th>ner_label</th>\n",
       "      <th>ner_confidence</th>\n",
       "      <th>umls_code</th>\n",
       "      <th>umls_confidence</th>\n",
       "    </tr>\n",
       "  </thead>\n",
       "  <tbody>\n",
       "    <tr>\n",
       "      <th>0</th>\n",
       "      <td>HPI: A 69-year-old white female with a history of depression, anxiety, admitted to the ABCD Hospital on February 6, 2007, for shortness of breath. The patient was consulted by Psychiatry for anxiety. I know this patient from a previous consult. During this recent admission, she was given Ativan 0.25 mg on a p.r.n. basis with relief after one to two hours. The patient was seen by Abc, MD, and Def, Ph.D. PAST MEDICAL HISTORY: The patient has a history of hypertension, hypothyroidism, cholelithiasis, Port-A-Cath placement, and hydronephrosis</td>\n",
       "      <td>depression</td>\n",
       "      <td>50</td>\n",
       "      <td>59</td>\n",
       "      <td>PROBLEM</td>\n",
       "      <td>0.9926</td>\n",
       "      <td>C1999266</td>\n",
       "      <td>0.9926</td>\n",
       "    </tr>\n",
       "    <tr>\n",
       "      <th>1</th>\n",
       "      <td>HPI: A 69-year-old white female with a history of depression, anxiety, admitted to the ABCD Hospital on February 6, 2007, for shortness of breath. The patient was consulted by Psychiatry for anxiety. I know this patient from a previous consult. During this recent admission, she was given Ativan 0.25 mg on a p.r.n. basis with relief after one to two hours. The patient was seen by Abc, MD, and Def, Ph.D. PAST MEDICAL HISTORY: The patient has a history of hypertension, hypothyroidism, cholelithiasis, Port-A-Cath placement, and hydronephrosis</td>\n",
       "      <td>anxiety</td>\n",
       "      <td>62</td>\n",
       "      <td>68</td>\n",
       "      <td>PROBLEM</td>\n",
       "      <td>0.9973</td>\n",
       "      <td>C1963064</td>\n",
       "      <td>0.9973</td>\n",
       "    </tr>\n",
       "    <tr>\n",
       "      <th>2</th>\n",
       "      <td>HPI: A 69-year-old white female with a history of depression, anxiety, admitted to the ABCD Hospital on February 6, 2007, for shortness of breath. The patient was consulted by Psychiatry for anxiety. I know this patient from a previous consult. During this recent admission, she was given Ativan 0.25 mg on a p.r.n. basis with relief after one to two hours. The patient was seen by Abc, MD, and Def, Ph.D. PAST MEDICAL HISTORY: The patient has a history of hypertension, hypothyroidism, cholelithiasis, Port-A-Cath placement, and hydronephrosis</td>\n",
       "      <td>shortness of breath</td>\n",
       "      <td>126</td>\n",
       "      <td>144</td>\n",
       "      <td>PROBLEM</td>\n",
       "      <td>0.8321667</td>\n",
       "      <td>C0748646</td>\n",
       "      <td>0.2357</td>\n",
       "    </tr>\n",
       "    <tr>\n",
       "      <th>3</th>\n",
       "      <td>HPI: A 69-year-old white female with a history of depression, anxiety, admitted to the ABCD Hospital on February 6, 2007, for shortness of breath. The patient was consulted by Psychiatry for anxiety. I know this patient from a previous consult. During this recent admission, she was given Ativan 0.25 mg on a p.r.n. basis with relief after one to two hours. The patient was seen by Abc, MD, and Def, Ph.D. PAST MEDICAL HISTORY: The patient has a history of hypertension, hypothyroidism, cholelithiasis, Port-A-Cath placement, and hydronephrosis</td>\n",
       "      <td>anxiety</td>\n",
       "      <td>191</td>\n",
       "      <td>197</td>\n",
       "      <td>PROBLEM</td>\n",
       "      <td>0.9963</td>\n",
       "      <td>C1963064</td>\n",
       "      <td>0.9963</td>\n",
       "    </tr>\n",
       "    <tr>\n",
       "      <th>4</th>\n",
       "      <td>HPI: A 69-year-old white female with a history of depression, anxiety, admitted to the ABCD Hospital on February 6, 2007, for shortness of breath. The patient was consulted by Psychiatry for anxiety. I know this patient from a previous consult. During this recent admission, she was given Ativan 0.25 mg on a p.r.n. basis with relief after one to two hours. The patient was seen by Abc, MD, and Def, Ph.D. PAST MEDICAL HISTORY: The patient has a history of hypertension, hypothyroidism, cholelithiasis, Port-A-Cath placement, and hydronephrosis</td>\n",
       "      <td>Ativan</td>\n",
       "      <td>289</td>\n",
       "      <td>294</td>\n",
       "      <td>TREATMENT</td>\n",
       "      <td>0.9994</td>\n",
       "      <td>C0278128</td>\n",
       "      <td>0.0837</td>\n",
       "    </tr>\n",
       "    <tr>\n",
       "      <th>5</th>\n",
       "      <td>HPI: A 69-year-old white female with a history of depression, anxiety, admitted to the ABCD Hospital on February 6, 2007, for shortness of breath. The patient was consulted by Psychiatry for anxiety. I know this patient from a previous consult. During this recent admission, she was given Ativan 0.25 mg on a p.r.n. basis with relief after one to two hours. The patient was seen by Abc, MD, and Def, Ph.D. PAST MEDICAL HISTORY: The patient has a history of hypertension, hypothyroidism, cholelithiasis, Port-A-Cath placement, and hydronephrosis</td>\n",
       "      <td>hypertension</td>\n",
       "      <td>457</td>\n",
       "      <td>468</td>\n",
       "      <td>PROBLEM</td>\n",
       "      <td>0.9973</td>\n",
       "      <td>C0455405</td>\n",
       "      <td>0.9973</td>\n",
       "    </tr>\n",
       "    <tr>\n",
       "      <th>6</th>\n",
       "      <td>HPI: A 69-year-old white female with a history of depression, anxiety, admitted to the ABCD Hospital on February 6, 2007, for shortness of breath. The patient was consulted by Psychiatry for anxiety. I know this patient from a previous consult. During this recent admission, she was given Ativan 0.25 mg on a p.r.n. basis with relief after one to two hours. The patient was seen by Abc, MD, and Def, Ph.D. PAST MEDICAL HISTORY: The patient has a history of hypertension, hypothyroidism, cholelithiasis, Port-A-Cath placement, and hydronephrosis</td>\n",
       "      <td>hypothyroidism</td>\n",
       "      <td>471</td>\n",
       "      <td>484</td>\n",
       "      <td>PROBLEM</td>\n",
       "      <td>0.9996</td>\n",
       "      <td>C4553310</td>\n",
       "      <td>0.9996</td>\n",
       "    </tr>\n",
       "    <tr>\n",
       "      <th>7</th>\n",
       "      <td>HPI: A 69-year-old white female with a history of depression, anxiety, admitted to the ABCD Hospital on February 6, 2007, for shortness of breath. The patient was consulted by Psychiatry for anxiety. I know this patient from a previous consult. During this recent admission, she was given Ativan 0.25 mg on a p.r.n. basis with relief after one to two hours. The patient was seen by Abc, MD, and Def, Ph.D. PAST MEDICAL HISTORY: The patient has a history of hypertension, hypothyroidism, cholelithiasis, Port-A-Cath placement, and hydronephrosis</td>\n",
       "      <td>cholelithiasis</td>\n",
       "      <td>487</td>\n",
       "      <td>500</td>\n",
       "      <td>PROBLEM</td>\n",
       "      <td>0.9995</td>\n",
       "      <td>C4228051</td>\n",
       "      <td>0.2464</td>\n",
       "    </tr>\n",
       "    <tr>\n",
       "      <th>8</th>\n",
       "      <td>HPI: A 69-year-old white female with a history of depression, anxiety, admitted to the ABCD Hospital on February 6, 2007, for shortness of breath. The patient was consulted by Psychiatry for anxiety. I know this patient from a previous consult. During this recent admission, she was given Ativan 0.25 mg on a p.r.n. basis with relief after one to two hours. The patient was seen by Abc, MD, and Def, Ph.D. PAST MEDICAL HISTORY: The patient has a history of hypertension, hypothyroidism, cholelithiasis, Port-A-Cath placement, and hydronephrosis</td>\n",
       "      <td>Port-A-Cath placement</td>\n",
       "      <td>503</td>\n",
       "      <td>523</td>\n",
       "      <td>TREATMENT</td>\n",
       "      <td>0.93799996</td>\n",
       "      <td>C3665823</td>\n",
       "      <td>0.1489</td>\n",
       "    </tr>\n",
       "    <tr>\n",
       "      <th>9</th>\n",
       "      <td>HPI: A 69-year-old white female with a history of depression, anxiety, admitted to the ABCD Hospital on February 6, 2007, for shortness of breath. The patient was consulted by Psychiatry for anxiety. I know this patient from a previous consult. During this recent admission, she was given Ativan 0.25 mg on a p.r.n. basis with relief after one to two hours. The patient was seen by Abc, MD, and Def, Ph.D. PAST MEDICAL HISTORY: The patient has a history of hypertension, hypothyroidism, cholelithiasis, Port-A-Cath placement, and hydronephrosis</td>\n",
       "      <td>hydronephrosis</td>\n",
       "      <td>530</td>\n",
       "      <td>543</td>\n",
       "      <td>PROBLEM</td>\n",
       "      <td>0.9965</td>\n",
       "      <td>C4697725</td>\n",
       "      <td>0.4060</td>\n",
       "    </tr>\n",
       "    <tr>\n",
       "      <th>10</th>\n",
       "      <td>The patient is a 28-year-old, who is status post gastric bypass surgery nearly one year ago. He has lost about 200 pounds and was otherwise doing well until yesterday evening around 7:00-8:00 when he developed nausea and right upper quadrant pain, which apparently wrapped around toward his right side and back. He feels like he was on it but has not done so. He has overall malaise and a low-grade temperature of 100.3. His last normal bowel movement was yesterday. He denies any outright chills. PAST MEDICAL HISTORY: Significant for hypertension and morbid obesity, now resolved.</td>\n",
       "      <td>gastric bypass surgery</td>\n",
       "      <td>49</td>\n",
       "      <td>70</td>\n",
       "      <td>TREATMENT</td>\n",
       "      <td>0.7018666</td>\n",
       "      <td>C0548816</td>\n",
       "      <td>0.3427</td>\n",
       "    </tr>\n",
       "    <tr>\n",
       "      <th>11</th>\n",
       "      <td>The patient is a 28-year-old, who is status post gastric bypass surgery nearly one year ago. He has lost about 200 pounds and was otherwise doing well until yesterday evening around 7:00-8:00 when he developed nausea and right upper quadrant pain, which apparently wrapped around toward his right side and back. He feels like he was on it but has not done so. He has overall malaise and a low-grade temperature of 100.3. His last normal bowel movement was yesterday. He denies any outright chills. PAST MEDICAL HISTORY: Significant for hypertension and morbid obesity, now resolved.</td>\n",
       "      <td>nausea</td>\n",
       "      <td>210</td>\n",
       "      <td>215</td>\n",
       "      <td>PROBLEM</td>\n",
       "      <td>0.9988</td>\n",
       "      <td>C1963179</td>\n",
       "      <td>0.9988</td>\n",
       "    </tr>\n",
       "    <tr>\n",
       "      <th>12</th>\n",
       "      <td>The patient is a 28-year-old, who is status post gastric bypass surgery nearly one year ago. He has lost about 200 pounds and was otherwise doing well until yesterday evening around 7:00-8:00 when he developed nausea and right upper quadrant pain, which apparently wrapped around toward his right side and back. He feels like he was on it but has not done so. He has overall malaise and a low-grade temperature of 100.3. His last normal bowel movement was yesterday. He denies any outright chills. PAST MEDICAL HISTORY: Significant for hypertension and morbid obesity, now resolved.</td>\n",
       "      <td>right upper quadrant pain</td>\n",
       "      <td>221</td>\n",
       "      <td>245</td>\n",
       "      <td>PROBLEM</td>\n",
       "      <td>0.952125</td>\n",
       "      <td>C4718731</td>\n",
       "      <td>0.2301</td>\n",
       "    </tr>\n",
       "    <tr>\n",
       "      <th>13</th>\n",
       "      <td>The patient is a 28-year-old, who is status post gastric bypass surgery nearly one year ago. He has lost about 200 pounds and was otherwise doing well until yesterday evening around 7:00-8:00 when he developed nausea and right upper quadrant pain, which apparently wrapped around toward his right side and back. He feels like he was on it but has not done so. He has overall malaise and a low-grade temperature of 100.3. His last normal bowel movement was yesterday. He denies any outright chills. PAST MEDICAL HISTORY: Significant for hypertension and morbid obesity, now resolved.</td>\n",
       "      <td>overall malaise</td>\n",
       "      <td>367</td>\n",
       "      <td>381</td>\n",
       "      <td>PROBLEM</td>\n",
       "      <td>0.9534</td>\n",
       "      <td>C4552989</td>\n",
       "      <td>0.2206</td>\n",
       "    </tr>\n",
       "    <tr>\n",
       "      <th>14</th>\n",
       "      <td>The patient is a 28-year-old, who is status post gastric bypass surgery nearly one year ago. He has lost about 200 pounds and was otherwise doing well until yesterday evening around 7:00-8:00 when he developed nausea and right upper quadrant pain, which apparently wrapped around toward his right side and back. He feels like he was on it but has not done so. He has overall malaise and a low-grade temperature of 100.3. His last normal bowel movement was yesterday. He denies any outright chills. PAST MEDICAL HISTORY: Significant for hypertension and morbid obesity, now resolved.</td>\n",
       "      <td>a low-grade temperature</td>\n",
       "      <td>387</td>\n",
       "      <td>409</td>\n",
       "      <td>PROBLEM</td>\n",
       "      <td>0.7988</td>\n",
       "      <td>C0020672</td>\n",
       "      <td>0.1877</td>\n",
       "    </tr>\n",
       "    <tr>\n",
       "      <th>15</th>\n",
       "      <td>The patient is a 28-year-old, who is status post gastric bypass surgery nearly one year ago. He has lost about 200 pounds and was otherwise doing well until yesterday evening around 7:00-8:00 when he developed nausea and right upper quadrant pain, which apparently wrapped around toward his right side and back. He feels like he was on it but has not done so. He has overall malaise and a low-grade temperature of 100.3. His last normal bowel movement was yesterday. He denies any outright chills. PAST MEDICAL HISTORY: Significant for hypertension and morbid obesity, now resolved.</td>\n",
       "      <td>chills</td>\n",
       "      <td>490</td>\n",
       "      <td>495</td>\n",
       "      <td>PROBLEM</td>\n",
       "      <td>0.7512</td>\n",
       "      <td>C4553185</td>\n",
       "      <td>0.7512</td>\n",
       "    </tr>\n",
       "    <tr>\n",
       "      <th>16</th>\n",
       "      <td>The patient is a 28-year-old, who is status post gastric bypass surgery nearly one year ago. He has lost about 200 pounds and was otherwise doing well until yesterday evening around 7:00-8:00 when he developed nausea and right upper quadrant pain, which apparently wrapped around toward his right side and back. He feels like he was on it but has not done so. He has overall malaise and a low-grade temperature of 100.3. His last normal bowel movement was yesterday. He denies any outright chills. PAST MEDICAL HISTORY: Significant for hypertension and morbid obesity, now resolved.</td>\n",
       "      <td>hypertension</td>\n",
       "      <td>536</td>\n",
       "      <td>547</td>\n",
       "      <td>PROBLEM</td>\n",
       "      <td>0.9937</td>\n",
       "      <td>C0455405</td>\n",
       "      <td>0.9937</td>\n",
       "    </tr>\n",
       "    <tr>\n",
       "      <th>17</th>\n",
       "      <td>The patient is a 28-year-old, who is status post gastric bypass surgery nearly one year ago. He has lost about 200 pounds and was otherwise doing well until yesterday evening around 7:00-8:00 when he developed nausea and right upper quadrant pain, which apparently wrapped around toward his right side and back. He feels like he was on it but has not done so. He has overall malaise and a low-grade temperature of 100.3. His last normal bowel movement was yesterday. He denies any outright chills. PAST MEDICAL HISTORY: Significant for hypertension and morbid obesity, now resolved.</td>\n",
       "      <td>morbid obesity</td>\n",
       "      <td>553</td>\n",
       "      <td>566</td>\n",
       "      <td>PROBLEM</td>\n",
       "      <td>0.99255</td>\n",
       "      <td>C2945676</td>\n",
       "      <td>0.1367</td>\n",
       "    </tr>\n",
       "  </tbody>\n",
       "</table>\n",
       "</div>"
      ],
      "text/plain": [
       "                                                                                                                                                                                                                                                                                                                                                                                                                                                                                                                                                                                                  document  \\\n",
       "0                                         HPI: A 69-year-old white female with a history of depression, anxiety, admitted to the ABCD Hospital on February 6, 2007, for shortness of breath. The patient was consulted by Psychiatry for anxiety. I know this patient from a previous consult. During this recent admission, she was given Ativan 0.25 mg on a p.r.n. basis with relief after one to two hours. The patient was seen by Abc, MD, and Def, Ph.D. PAST MEDICAL HISTORY: The patient has a history of hypertension, hypothyroidism, cholelithiasis, Port-A-Cath placement, and hydronephrosis   \n",
       "1                                         HPI: A 69-year-old white female with a history of depression, anxiety, admitted to the ABCD Hospital on February 6, 2007, for shortness of breath. The patient was consulted by Psychiatry for anxiety. I know this patient from a previous consult. During this recent admission, she was given Ativan 0.25 mg on a p.r.n. basis with relief after one to two hours. The patient was seen by Abc, MD, and Def, Ph.D. PAST MEDICAL HISTORY: The patient has a history of hypertension, hypothyroidism, cholelithiasis, Port-A-Cath placement, and hydronephrosis   \n",
       "2                                         HPI: A 69-year-old white female with a history of depression, anxiety, admitted to the ABCD Hospital on February 6, 2007, for shortness of breath. The patient was consulted by Psychiatry for anxiety. I know this patient from a previous consult. During this recent admission, she was given Ativan 0.25 mg on a p.r.n. basis with relief after one to two hours. The patient was seen by Abc, MD, and Def, Ph.D. PAST MEDICAL HISTORY: The patient has a history of hypertension, hypothyroidism, cholelithiasis, Port-A-Cath placement, and hydronephrosis   \n",
       "3                                         HPI: A 69-year-old white female with a history of depression, anxiety, admitted to the ABCD Hospital on February 6, 2007, for shortness of breath. The patient was consulted by Psychiatry for anxiety. I know this patient from a previous consult. During this recent admission, she was given Ativan 0.25 mg on a p.r.n. basis with relief after one to two hours. The patient was seen by Abc, MD, and Def, Ph.D. PAST MEDICAL HISTORY: The patient has a history of hypertension, hypothyroidism, cholelithiasis, Port-A-Cath placement, and hydronephrosis   \n",
       "4                                         HPI: A 69-year-old white female with a history of depression, anxiety, admitted to the ABCD Hospital on February 6, 2007, for shortness of breath. The patient was consulted by Psychiatry for anxiety. I know this patient from a previous consult. During this recent admission, she was given Ativan 0.25 mg on a p.r.n. basis with relief after one to two hours. The patient was seen by Abc, MD, and Def, Ph.D. PAST MEDICAL HISTORY: The patient has a history of hypertension, hypothyroidism, cholelithiasis, Port-A-Cath placement, and hydronephrosis   \n",
       "5                                         HPI: A 69-year-old white female with a history of depression, anxiety, admitted to the ABCD Hospital on February 6, 2007, for shortness of breath. The patient was consulted by Psychiatry for anxiety. I know this patient from a previous consult. During this recent admission, she was given Ativan 0.25 mg on a p.r.n. basis with relief after one to two hours. The patient was seen by Abc, MD, and Def, Ph.D. PAST MEDICAL HISTORY: The patient has a history of hypertension, hypothyroidism, cholelithiasis, Port-A-Cath placement, and hydronephrosis   \n",
       "6                                         HPI: A 69-year-old white female with a history of depression, anxiety, admitted to the ABCD Hospital on February 6, 2007, for shortness of breath. The patient was consulted by Psychiatry for anxiety. I know this patient from a previous consult. During this recent admission, she was given Ativan 0.25 mg on a p.r.n. basis with relief after one to two hours. The patient was seen by Abc, MD, and Def, Ph.D. PAST MEDICAL HISTORY: The patient has a history of hypertension, hypothyroidism, cholelithiasis, Port-A-Cath placement, and hydronephrosis   \n",
       "7                                         HPI: A 69-year-old white female with a history of depression, anxiety, admitted to the ABCD Hospital on February 6, 2007, for shortness of breath. The patient was consulted by Psychiatry for anxiety. I know this patient from a previous consult. During this recent admission, she was given Ativan 0.25 mg on a p.r.n. basis with relief after one to two hours. The patient was seen by Abc, MD, and Def, Ph.D. PAST MEDICAL HISTORY: The patient has a history of hypertension, hypothyroidism, cholelithiasis, Port-A-Cath placement, and hydronephrosis   \n",
       "8                                         HPI: A 69-year-old white female with a history of depression, anxiety, admitted to the ABCD Hospital on February 6, 2007, for shortness of breath. The patient was consulted by Psychiatry for anxiety. I know this patient from a previous consult. During this recent admission, she was given Ativan 0.25 mg on a p.r.n. basis with relief after one to two hours. The patient was seen by Abc, MD, and Def, Ph.D. PAST MEDICAL HISTORY: The patient has a history of hypertension, hypothyroidism, cholelithiasis, Port-A-Cath placement, and hydronephrosis   \n",
       "9                                         HPI: A 69-year-old white female with a history of depression, anxiety, admitted to the ABCD Hospital on February 6, 2007, for shortness of breath. The patient was consulted by Psychiatry for anxiety. I know this patient from a previous consult. During this recent admission, she was given Ativan 0.25 mg on a p.r.n. basis with relief after one to two hours. The patient was seen by Abc, MD, and Def, Ph.D. PAST MEDICAL HISTORY: The patient has a history of hypertension, hypothyroidism, cholelithiasis, Port-A-Cath placement, and hydronephrosis   \n",
       "10  The patient is a 28-year-old, who is status post gastric bypass surgery nearly one year ago. He has lost about 200 pounds and was otherwise doing well until yesterday evening around 7:00-8:00 when he developed nausea and right upper quadrant pain, which apparently wrapped around toward his right side and back. He feels like he was on it but has not done so. He has overall malaise and a low-grade temperature of 100.3. His last normal bowel movement was yesterday. He denies any outright chills. PAST MEDICAL HISTORY: Significant for hypertension and morbid obesity, now resolved.   \n",
       "11  The patient is a 28-year-old, who is status post gastric bypass surgery nearly one year ago. He has lost about 200 pounds and was otherwise doing well until yesterday evening around 7:00-8:00 when he developed nausea and right upper quadrant pain, which apparently wrapped around toward his right side and back. He feels like he was on it but has not done so. He has overall malaise and a low-grade temperature of 100.3. His last normal bowel movement was yesterday. He denies any outright chills. PAST MEDICAL HISTORY: Significant for hypertension and morbid obesity, now resolved.   \n",
       "12  The patient is a 28-year-old, who is status post gastric bypass surgery nearly one year ago. He has lost about 200 pounds and was otherwise doing well until yesterday evening around 7:00-8:00 when he developed nausea and right upper quadrant pain, which apparently wrapped around toward his right side and back. He feels like he was on it but has not done so. He has overall malaise and a low-grade temperature of 100.3. His last normal bowel movement was yesterday. He denies any outright chills. PAST MEDICAL HISTORY: Significant for hypertension and morbid obesity, now resolved.   \n",
       "13  The patient is a 28-year-old, who is status post gastric bypass surgery nearly one year ago. He has lost about 200 pounds and was otherwise doing well until yesterday evening around 7:00-8:00 when he developed nausea and right upper quadrant pain, which apparently wrapped around toward his right side and back. He feels like he was on it but has not done so. He has overall malaise and a low-grade temperature of 100.3. His last normal bowel movement was yesterday. He denies any outright chills. PAST MEDICAL HISTORY: Significant for hypertension and morbid obesity, now resolved.   \n",
       "14  The patient is a 28-year-old, who is status post gastric bypass surgery nearly one year ago. He has lost about 200 pounds and was otherwise doing well until yesterday evening around 7:00-8:00 when he developed nausea and right upper quadrant pain, which apparently wrapped around toward his right side and back. He feels like he was on it but has not done so. He has overall malaise and a low-grade temperature of 100.3. His last normal bowel movement was yesterday. He denies any outright chills. PAST MEDICAL HISTORY: Significant for hypertension and morbid obesity, now resolved.   \n",
       "15  The patient is a 28-year-old, who is status post gastric bypass surgery nearly one year ago. He has lost about 200 pounds and was otherwise doing well until yesterday evening around 7:00-8:00 when he developed nausea and right upper quadrant pain, which apparently wrapped around toward his right side and back. He feels like he was on it but has not done so. He has overall malaise and a low-grade temperature of 100.3. His last normal bowel movement was yesterday. He denies any outright chills. PAST MEDICAL HISTORY: Significant for hypertension and morbid obesity, now resolved.   \n",
       "16  The patient is a 28-year-old, who is status post gastric bypass surgery nearly one year ago. He has lost about 200 pounds and was otherwise doing well until yesterday evening around 7:00-8:00 when he developed nausea and right upper quadrant pain, which apparently wrapped around toward his right side and back. He feels like he was on it but has not done so. He has overall malaise and a low-grade temperature of 100.3. His last normal bowel movement was yesterday. He denies any outright chills. PAST MEDICAL HISTORY: Significant for hypertension and morbid obesity, now resolved.   \n",
       "17  The patient is a 28-year-old, who is status post gastric bypass surgery nearly one year ago. He has lost about 200 pounds and was otherwise doing well until yesterday evening around 7:00-8:00 when he developed nausea and right upper quadrant pain, which apparently wrapped around toward his right side and back. He feels like he was on it but has not done so. He has overall malaise and a low-grade temperature of 100.3. His last normal bowel movement was yesterday. He denies any outright chills. PAST MEDICAL HISTORY: Significant for hypertension and morbid obesity, now resolved.   \n",
       "\n",
       "                    ner_chunk  begin  end  ner_label ner_confidence umls_code  \\\n",
       "0                  depression     50   59    PROBLEM         0.9926  C1999266   \n",
       "1                     anxiety     62   68    PROBLEM         0.9973  C1963064   \n",
       "2         shortness of breath    126  144    PROBLEM      0.8321667  C0748646   \n",
       "3                     anxiety    191  197    PROBLEM         0.9963  C1963064   \n",
       "4                      Ativan    289  294  TREATMENT         0.9994  C0278128   \n",
       "5                hypertension    457  468    PROBLEM         0.9973  C0455405   \n",
       "6              hypothyroidism    471  484    PROBLEM         0.9996  C4553310   \n",
       "7              cholelithiasis    487  500    PROBLEM         0.9995  C4228051   \n",
       "8       Port-A-Cath placement    503  523  TREATMENT     0.93799996  C3665823   \n",
       "9              hydronephrosis    530  543    PROBLEM         0.9965  C4697725   \n",
       "10     gastric bypass surgery     49   70  TREATMENT      0.7018666  C0548816   \n",
       "11                     nausea    210  215    PROBLEM         0.9988  C1963179   \n",
       "12  right upper quadrant pain    221  245    PROBLEM       0.952125  C4718731   \n",
       "13            overall malaise    367  381    PROBLEM         0.9534  C4552989   \n",
       "14    a low-grade temperature    387  409    PROBLEM         0.7988  C0020672   \n",
       "15                     chills    490  495    PROBLEM         0.7512  C4553185   \n",
       "16               hypertension    536  547    PROBLEM         0.9937  C0455405   \n",
       "17             morbid obesity    553  566    PROBLEM        0.99255  C2945676   \n",
       "\n",
       "   umls_confidence  \n",
       "0           0.9926  \n",
       "1           0.9973  \n",
       "2           0.2357  \n",
       "3           0.9963  \n",
       "4           0.0837  \n",
       "5           0.9973  \n",
       "6           0.9996  \n",
       "7           0.2464  \n",
       "8           0.1489  \n",
       "9           0.4060  \n",
       "10          0.3427  \n",
       "11          0.9988  \n",
       "12          0.2301  \n",
       "13          0.2206  \n",
       "14          0.1877  \n",
       "15          0.7512  \n",
       "16          0.9937  \n",
       "17          0.1367  "
      ]
     },
     "metadata": {},
     "output_type": "display_data"
    }
   ],
   "source": [
    "process_s3_json_output_and_save(validation_json_file_name)"
   ]
  },
  {
   "cell_type": "markdown",
   "metadata": {},
   "source": [
    "### JSON Lines"
   ]
  },
  {
   "cell_type": "code",
   "execution_count": null,
   "metadata": {
    "tags": []
   },
   "outputs": [],
   "source": [
    "transformer = model.transformer(\n",
    "    instance_count=1,\n",
    "    instance_type=batch_transform_inference_instance_type,\n",
    "    accept=\"application/jsonlines\",\n",
    "    output_path=validation_output_jsonl_path\n",
    ")\n",
    "transformer.transform(validation_input_jsonl_path, content_type=\"application/jsonlines\")\n",
    "transformer.wait()"
   ]
  },
  {
   "cell_type": "code",
   "execution_count": 19,
   "metadata": {
    "tags": []
   },
   "outputs": [],
   "source": [
    "from urllib.parse import urlparse\n",
    "\n",
    "def process_s3_jsonlines_output_and_save(validation_file_name):\n",
    "\n",
    "    output_file_path = f\"{jsonl_output_dir}/{validation_file_name}.out\"\n",
    "    parsed_url = urlparse(transformer.output_path)\n",
    "    file_key = f\"{parsed_url.path[1:]}{validation_file_name}.out\"\n",
    "    response = s3_client.get_object(Bucket=s3_bucket, Key=file_key)\n",
    "\n",
    "    data = response[\"Body\"].read().decode(\"utf-8\")\n",
    "    print(data)\n",
    "\n",
    "    # Save the data to the output file\n",
    "    with open(output_file_path, 'w') as f_out:\n",
    "        for item in data.split('\\n'):\n",
    "            f_out.write(item + '\\n')"
   ]
  },
  {
   "cell_type": "code",
   "execution_count": 20,
   "metadata": {
    "tags": []
   },
   "outputs": [
    {
     "name": "stdout",
     "output_type": "stream",
     "text": [
      "{\"predictions\": [{\"ner_chunk\": \"depression\", \"begin\": 50, \"end\": 59, \"ner_label\": \"PROBLEM\", \"ner_confidence\": \"0.9926\", \"umls_code\": \"C1999266\", \"umls_confidence\": \"0.9926\"}, {\"ner_chunk\": \"anxiety\", \"begin\": 62, \"end\": 68, \"ner_label\": \"PROBLEM\", \"ner_confidence\": \"0.9973\", \"umls_code\": \"C1963064\", \"umls_confidence\": \"0.9973\"}, {\"ner_chunk\": \"shortness of breath\", \"begin\": 126, \"end\": 144, \"ner_label\": \"PROBLEM\", \"ner_confidence\": \"0.8321667\", \"umls_code\": \"C0748646\", \"umls_confidence\": \"0.2357\"}, {\"ner_chunk\": \"anxiety\", \"begin\": 191, \"end\": 197, \"ner_label\": \"PROBLEM\", \"ner_confidence\": \"0.9963\", \"umls_code\": \"C1963064\", \"umls_confidence\": \"0.9963\"}, {\"ner_chunk\": \"Ativan\", \"begin\": 289, \"end\": 294, \"ner_label\": \"TREATMENT\", \"ner_confidence\": \"0.9994\", \"umls_code\": \"C0278128\", \"umls_confidence\": \"0.0837\"}, {\"ner_chunk\": \"hypertension\", \"begin\": 457, \"end\": 468, \"ner_label\": \"PROBLEM\", \"ner_confidence\": \"0.9973\", \"umls_code\": \"C0455405\", \"umls_confidence\": \"0.9973\"}, {\"ner_chunk\": \"hypothyroidism\", \"begin\": 471, \"end\": 484, \"ner_label\": \"PROBLEM\", \"ner_confidence\": \"0.9996\", \"umls_code\": \"C4553310\", \"umls_confidence\": \"0.9996\"}, {\"ner_chunk\": \"cholelithiasis\", \"begin\": 487, \"end\": 500, \"ner_label\": \"PROBLEM\", \"ner_confidence\": \"0.9995\", \"umls_code\": \"C4228051\", \"umls_confidence\": \"0.2464\"}, {\"ner_chunk\": \"Port-A-Cath placement\", \"begin\": 503, \"end\": 523, \"ner_label\": \"TREATMENT\", \"ner_confidence\": \"0.93799996\", \"umls_code\": \"C3665823\", \"umls_confidence\": \"0.1489\"}, {\"ner_chunk\": \"hydronephrosis\", \"begin\": 530, \"end\": 543, \"ner_label\": \"PROBLEM\", \"ner_confidence\": \"0.9965\", \"umls_code\": \"C4697725\", \"umls_confidence\": \"0.4060\"}]}\n",
      "{\"predictions\": [{\"ner_chunk\": \"gastric bypass surgery\", \"begin\": 49, \"end\": 70, \"ner_label\": \"TREATMENT\", \"ner_confidence\": \"0.7018666\", \"umls_code\": \"C0548816\", \"umls_confidence\": \"0.3427\"}, {\"ner_chunk\": \"nausea\", \"begin\": 210, \"end\": 215, \"ner_label\": \"PROBLEM\", \"ner_confidence\": \"0.9988\", \"umls_code\": \"C1963179\", \"umls_confidence\": \"0.9988\"}, {\"ner_chunk\": \"right upper quadrant pain\", \"begin\": 221, \"end\": 245, \"ner_label\": \"PROBLEM\", \"ner_confidence\": \"0.952125\", \"umls_code\": \"C4718731\", \"umls_confidence\": \"0.2301\"}, {\"ner_chunk\": \"overall malaise\", \"begin\": 367, \"end\": 381, \"ner_label\": \"PROBLEM\", \"ner_confidence\": \"0.9534\", \"umls_code\": \"C4552989\", \"umls_confidence\": \"0.2206\"}, {\"ner_chunk\": \"a low-grade temperature\", \"begin\": 387, \"end\": 409, \"ner_label\": \"PROBLEM\", \"ner_confidence\": \"0.7988\", \"umls_code\": \"C0020672\", \"umls_confidence\": \"0.1877\"}, {\"ner_chunk\": \"chills\", \"begin\": 490, \"end\": 495, \"ner_label\": \"PROBLEM\", \"ner_confidence\": \"0.7512\", \"umls_code\": \"C4553185\", \"umls_confidence\": \"0.7512\"}, {\"ner_chunk\": \"hypertension\", \"begin\": 536, \"end\": 547, \"ner_label\": \"PROBLEM\", \"ner_confidence\": \"0.9937\", \"umls_code\": \"C0455405\", \"umls_confidence\": \"0.9937\"}, {\"ner_chunk\": \"morbid obesity\", \"begin\": 553, \"end\": 566, \"ner_label\": \"PROBLEM\", \"ner_confidence\": \"0.99255\", \"umls_code\": \"C2945676\", \"umls_confidence\": \"0.1367\"}]}\n"
     ]
    }
   ],
   "source": [
    "process_s3_jsonlines_output_and_save(validation_jsonl_file_name)"
   ]
  },
  {
   "cell_type": "code",
   "execution_count": 21,
   "metadata": {
    "tags": []
   },
   "outputs": [
    {
     "name": "stderr",
     "output_type": "stream",
     "text": [
      "INFO:sagemaker:Deleting model with name: en-map-entity-umls-clinical-findings-re-2024-05-02-08-16-37-134\n"
     ]
    }
   ],
   "source": [
    "model.delete_model()"
   ]
  },
  {
   "cell_type": "markdown",
   "metadata": {},
   "source": [
    "### Unsubscribe to the listing (optional)"
   ]
  },
  {
   "cell_type": "markdown",
   "metadata": {
    "tags": []
   },
   "source": [
    "If you would like to unsubscribe to the model package, follow these steps. Before you cancel the subscription, ensure that you do not have any [deployable model](https://console.aws.amazon.com/sagemaker/home#/models) created from the model package or using the algorithm. Note - You can find this information by looking at the container name associated with the model. \n",
    "\n",
    "**Steps to unsubscribe to product from AWS Marketplace**:\n",
    "1. Navigate to __Machine Learning__ tab on [__Your Software subscriptions page__](https://aws.amazon.com/marketplace/ai/library?productType=ml&ref_=mlmp_gitdemo_indust)\n",
    "2. Locate the listing that you want to cancel the subscription for, and then choose __Cancel Subscription__  to cancel the subscription.\n",
    "\n"
   ]
  }
 ],
 "metadata": {
  "instance_type": "ml.t3.medium",
  "kernelspec": {
   "display_name": "conda_python3",
   "language": "python",
   "name": "conda_python3"
  },
  "language_info": {
   "codemirror_mode": {
    "name": "ipython",
    "version": 3
   },
   "file_extension": ".py",
   "mimetype": "text/x-python",
   "name": "python",
   "nbconvert_exporter": "python",
   "pygments_lexer": "ipython3",
   "version": "3.10.14"
  }
 },
 "nbformat": 4,
 "nbformat_minor": 4
}

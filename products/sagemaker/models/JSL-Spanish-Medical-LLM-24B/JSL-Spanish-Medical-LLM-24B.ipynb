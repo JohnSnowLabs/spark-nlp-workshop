{
 "cells": [
  {
   "cell_type": "markdown",
   "id": "82a4cf96-c239-49cc-88f9-a8e885bde191",
   "metadata": {},
   "source": [
    "## 1. Subscribe to the model package"
   ]
  },
  {
   "cell_type": "markdown",
   "id": "982d6ab4-d03d-4a5a-ab23-144d8e6ec3d6",
   "metadata": {},
   "source": [
    "To subscribe to the model package:\n",
    "1. Open the model package listing page [Spanish Medical LLM 24B]()\n",
    "1. On the AWS Marketplace listing, click on the **Continue to subscribe** button.\n",
    "1. On the **Subscribe to this software** page, review and click on **\"Accept Offer\"** if you and your organization agrees with EULA, pricing, and support terms. \n",
    "1. Once you click on **Continue to configuration button** and then choose a **region**, you will see a **Product Arn** displayed. This is the model package ARN that you need to specify while creating a deployable model using Boto3. Copy the ARN corresponding to your region and specify the same in the following cell."
   ]
  },
  {
   "cell_type": "markdown",
   "id": "dad4b722-a125-4219-9c22-009acf75414d",
   "metadata": {},
   "source": [
    "- **Model**: `JSL-Spanish-Medical-LLM-24B`\n",
    "- **Model Description**: Spanish Medical LLM 24B"
   ]
  },
  {
   "cell_type": "code",
   "execution_count": 1,
   "id": "9d1fb27b-e0ad-4759-937d-ae4edc209fc1",
   "metadata": {
    "tags": []
   },
   "outputs": [],
   "source": [
    "model_package_arn = \"<Customer to specify Model package ARN corresponding to their AWS region>\""
   ]
  },
  {
   "cell_type": "code",
   "execution_count": null,
   "id": "76ede1bf-2acb-4b5d-9db1-299abfeee20b",
   "metadata": {
    "tags": []
   },
   "outputs": [],
   "source": [
    "import os\n",
    "import base64\n",
    "import json\n",
    "import uuid\n",
    "from sagemaker import ModelPackage\n",
    "import sagemaker as sage\n",
    "from sagemaker import get_execution_role\n",
    "import boto3\n",
    "from IPython.display import Image, display\n",
    "from PIL import Image as ImageEdit\n",
    "import numpy as np\n",
    "import pandas as pd\n",
    "\n",
    "pd.set_option('display.max_rows', None)\n",
    "pd.set_option('display.max_columns', None)\n",
    "pd.set_option('display.max_colwidth', None)\n",
    "\n",
    "sagemaker_session = sage.Session()\n",
    "s3_bucket = sagemaker_session.default_bucket()\n",
    "region = sagemaker_session.boto_region_name\n",
    "account_id = boto3.client(\"sts\").get_caller_identity().get(\"Account\")\n",
    "role = get_execution_role()\n",
    "\n",
    "sagemaker = boto3.client(\"sagemaker\")\n",
    "s3_client = sagemaker_session.boto_session.client(\"s3\")\n",
    "ecr = boto3.client(\"ecr\")\n",
    "sm_runtime = boto3.client(\"sagemaker-runtime\")"
   ]
  },
  {
   "cell_type": "code",
   "execution_count": 3,
   "id": "07846ed0-ed90-4a11-a77c-00d1c3ca3cbd",
   "metadata": {
    "tags": []
   },
   "outputs": [],
   "source": [
    "model_name = \"JSL-Spanish-Medical-LLM-24B\"\n",
    "\n",
    "real_time_inference_instance_type = \"ml.g5.48xlarge\"\n",
    "batch_transform_inference_instance_type = \"ml.g5.48xlarge\""
   ]
  },
  {
   "cell_type": "markdown",
   "id": "08a626b7-f295-4c49-b856-ce237d5d3203",
   "metadata": {},
   "source": [
    "## 2. Create a deployable model from the model package."
   ]
  },
  {
   "cell_type": "code",
   "execution_count": 4,
   "id": "0e39b84b-7a9f-4004-a204-56af1fd555f1",
   "metadata": {
    "tags": []
   },
   "outputs": [],
   "source": [
    "model = ModelPackage(\n",
    "    role=role, \n",
    "    model_package_arn=model_package_arn, \n",
    "    sagemaker_session=sagemaker_session, \n",
    ")"
   ]
  },
  {
   "cell_type": "markdown",
   "id": "9e3a3a54-98d8-4a8a-b812-c33db9a2aa7d",
   "metadata": {},
   "source": [
    "## Model Configuration Documentation  \n",
    "\n",
    "### Default Configuration  \n",
    "The container comes with the following default configurations:  \n",
    "\n",
    "| Parameter                  | Default Value              | Description                                                                     |  \n",
    "|----------------------------|----------------------------|---------------------------------------------------------------------------------|  \n",
    "| **`host`**                 | `0.0.0.0`                  | Hostname for the server                                                         |  \n",
    "| **`port`**                 | `8080`                     | Port number used by the server                                                  |  \n",
    "| **`tensor_parallel_size`** | Auto                       | Automatically set to the number of available GPUs                               |   \n",
    "| **`tokenizer_mode`**       | `auto`                     | Automatically infers tokenizer configuration                                    |    \n",
    "\n",
    "### Hardcoded Settings  \n",
    "The following settings are hardcoded in the container and cannot be changed:  \n",
    "\n",
    "| Parameter       | Value           | Description                           |  \n",
    "|-----------------|-----------------|---------------------------------------|  \n",
    "| **`model`**     | `/opt/ml/model` | Model path where SageMaker mounts the model |  \n",
    "\n",
    "### Configurable Environment Variables  \n",
    "You can customize the vLLM server by setting environment variables when creating the model.  \n",
    "\n",
    "**Any parameter from the [vLLM documentation](https://docs.vllm.ai/en/latest/serving/openai_compatible_server.html#vllm-serve) can be set using the corresponding environment variable with the `SM_VLLM_` prefix.**  \n",
    "\n",
    "The container uses a script similar to the [SageMaker entrypoint example](https://docs.vllm.ai/en/latest/examples/sagemaker_entrypoint.html) from the vLLM documentation to convert environment variables to command-line arguments.  \n",
    "\n",
    "---  \n",
    "\n",
    "## Input Format  \n",
    "\n",
    "### 1. Chat Completion  \n",
    "\n",
    "#### Example Payload  \n",
    "```json  \n",
    "{  \n",
    "    \"model\": \"/opt/ml/model\",  \n",
    "    \"messages\": [  \n",
    "        {\"role\": \"system\", \"content\": \"Eres un asistente médico útil.\"},  \n",
    "        {\"role\": \"user\", \"content\": \"¿Qué debo hacer si tengo fiebre y dolores corporales?\"}  \n",
    "    ],  \n",
    "    \"max_tokens\": 1024,  \n",
    "    \"temperature\": 0.7  \n",
    "}  \n",
    "```  \n",
    "\n",
    "For additional parameters:  \n",
    "- [ChatCompletionRequest](https://github.com/vllm-project/vllm/blob/v0.8.5/vllm/entrypoints/openai/protocol.py#L232)  \n",
    "- [OpenAI's Chat API](https://platform.openai.com/docs/api-reference/chat/create)  \n",
    "\n",
    "---  \n",
    "\n",
    "### 2. Text Completion  \n",
    "\n",
    "#### Single Prompt Example  \n",
    "```json  \n",
    "{  \n",
    "    \"model\": \"/opt/ml/model\",  \n",
    "    \"prompt\": \"¿Qué debo hacer si tengo fiebre y dolores corporales?\",  \n",
    "    \"max_tokens\": 512,  \n",
    "    \"temperature\": 0.6  \n",
    "}  \n",
    "```  \n",
    "\n",
    "#### Multiple Prompts Example  \n",
    "```json  \n",
    "{  \n",
    "    \"model\": \"/opt/ml/model\",  \n",
    "    \"prompt\": [  \n",
    "        \"¿Cómo puedo mantener una buena salud renal?\",  \n",
    "        \"¿Cuáles son los síntomas de la hipertensión?\"  \n",
    "    ],  \n",
    "    \"max_tokens\": 512,  \n",
    "    \"temperature\": 0.6  \n",
    "}  \n",
    "```  \n",
    "\n",
    "Reference:  \n",
    "- [CompletionRequest](https://github.com/vllm-project/vllm/blob/v0.8.5/vllm/entrypoints/openai/protocol.py#L730)  \n",
    "- [OpenAI's Completions API](https://platform.openai.com/docs/api-reference/completions/create)  \n",
    "\n",
    "---  \n",
    "\n",
    "### Important Notes:\n",
    "- **Streaming Responses:** Add `\"stream\": true` to your request payload to enable streaming\n",
    "- **Model Path Requirement:** Always set `\"model\": \"/opt/ml/model\"` (SageMaker's fixed model location)"
   ]
  },
  {
   "cell_type": "markdown",
   "id": "6a846275-5af5-4679-9c52-d35ab157455b",
   "metadata": {},
   "source": [
    "## 3. Create an SageMaker Endpoint"
   ]
  },
  {
   "cell_type": "markdown",
   "id": "01b670fa-60d4-45a4-a0d6-3e8e2845b625",
   "metadata": {},
   "source": [
    "If you want to understand how real-time inference with Amazon SageMaker works, see [Documentation](https://docs.aws.amazon.com/sagemaker/latest/dg/how-it-works-hosting.html)."
   ]
  },
  {
   "cell_type": "code",
   "execution_count": null,
   "id": "8c19c0c0-3ead-4834-8c02-a192da19080b",
   "metadata": {
    "tags": []
   },
   "outputs": [],
   "source": [
    "predictor = model.deploy(\n",
    "    initial_instance_count=1,\n",
    "    instance_type=real_time_inference_instance_type, \n",
    "    endpoint_name=model_name,\n",
    "    model_data_download_timeout=3600\n",
    ")"
   ]
  },
  {
   "cell_type": "markdown",
   "id": "23d5c01b-b884-49c6-8b74-98911f6d8e5b",
   "metadata": {},
   "source": [
    "### 3.1 Real-time inference via Amazon SageMaker Endpoint"
   ]
  },
  {
   "cell_type": "markdown",
   "id": "07f13be5-3f3b-45db-829d-b99d4584913f",
   "metadata": {},
   "source": [
    "#### Initial setup"
   ]
  },
  {
   "cell_type": "code",
   "execution_count": 9,
   "id": "7b61fa7d-8d76-476f-91e2-8fea89e7dfa5",
   "metadata": {
    "tags": []
   },
   "outputs": [],
   "source": [
    "prompt1 = \"¿Qué debo hacer si tengo fiebre y dolores corporales?\"\n",
    "\n",
    "prompt2 = \"\"\"Una mujer embarazada de 23 años, con 22 semanas de gestación, se presenta con ardor al orinar. Ella menciona que comenzó hace un día y ha ido empeorando a pesar de beber más agua y tomar extracto de arándano. Por lo demás, se siente bien y está siendo seguida por un médico para su embarazo. Su temperatura es 97.7°F (36.5°C), la presión arterial es 122/77 mmHg, el pulso es de 80/min, las respiraciones son 19/min, y la saturación de oxígeno es 98% en aire ambiente. El examen físico es notable por la ausencia de dolor en el ángulo costovertebral y un útero grávido.\n",
    "\n",
    "¿Cuál de los siguientes es el mejor tratamiento para esta paciente?\n",
    "A: Ampicilina\n",
    "B: Ceftriaxona\n",
    "C: Ciprofloxacino\n",
    "D: Doxiciclina\n",
    "E: Nitrofurantoína\n",
    "\"\"\"\n",
    "\n",
    "prompts = [\n",
    "    \"¿Cómo puedo mantener una buena salud renal?\",\n",
    "    \"¿Cuáles son los síntomas de la hipertensión?\"\n",
    "]"
   ]
  },
  {
   "cell_type": "code",
   "execution_count": 10,
   "id": "bca8d319-02a4-44ad-b90c-216185f3098c",
   "metadata": {
    "tags": []
   },
   "outputs": [],
   "source": [
    "system_prompt = \"Actúe como asistente médico y responda únicamente en español. Ofrezca respuestas con encabezados numéricos estructurados y jerárquicos. Cuando sea necesario, incluya una conclusión clara y concisa que resuma los puntos clave o las recomendaciones.\""
   ]
  },
  {
   "cell_type": "code",
   "execution_count": 11,
   "id": "5c195a50-43e4-4341-ad1d-23ca6f0aa45b",
   "metadata": {
    "tags": []
   },
   "outputs": [],
   "source": [
    "def invoke_realtime_endpoint(record):\n",
    "\n",
    "    response = sm_runtime.invoke_endpoint(\n",
    "        EndpointName=model_name,\n",
    "        ContentType=\"application/json\",\n",
    "        Accept=\"application/json\",\n",
    "        Body=json.dumps(record),\n",
    "    )\n",
    "\n",
    "    return json.load(response[\"Body\"])"
   ]
  },
  {
   "cell_type": "markdown",
   "id": "e9a475e7-ad31-4b3b-b7b5-21310f541252",
   "metadata": {
    "tags": []
   },
   "source": [
    "#### Chat Completion"
   ]
  },
  {
   "cell_type": "code",
   "execution_count": 12,
   "id": "c22cf887-70d5-4a87-8476-988590228328",
   "metadata": {
    "tags": []
   },
   "outputs": [
    {
     "name": "stdout",
     "output_type": "stream",
     "text": [
      "### 1. Evaluación Inicial\n",
      "- **Medición de la Temperatura:** Utilice un termómetro para medir su temperatura corporal. La fiebre se define generalmente como una temperatura superior a 38°C (100.4°F).\n",
      "- **Observación de Síntomas:** Preste atención a otros síntomas que pueda estar experimentando, como dolor de cabeza, dolor de garganta, tos, o dificultad para respirar.\n",
      "\n",
      "### 2. Medidas Inmediatas\n",
      "- **Hidratación:** Beba abundantes líquidos para mantenerse hidratado. El agua, caldos, y bebidas electrolíticas son buenas opciones.\n",
      "- **Descanso:** Descansar es crucial para que su cuerpo pueda combatir la infección.\n",
      "- **Medicamentos:** Puede tomar medicamentos antipiréticos como el paracetamol o el ibuprofeno para reducir la fiebre y aliviar los dolores corporales. Siga las indicaciones del envase y no exceda la dosis recomendada.\n",
      "\n",
      "### 3. Monitoreo y Observación\n",
      "- **Control de la Temperatura:** Continúe midiendo su temperatura cada pocas horas para asegurarse de que no esté aumentando.\n",
      "- **Observación de Síntomas:** Si los síntomas empeoran o si aparecen nuevos síntomas, como dificultad para respirar, dolor en el pecho, o confusión, busque atención médica de inmediato.\n",
      "\n",
      "### 4. Cuándo Consultar a un Médico\n",
      "- **Síntomas Graves:** Si la fiebre es muy alta (superior a 40°C o 104°F) o si persiste por más de tres días.\n",
      "- **Otros Síntomas:** Si presenta síntomas como erupciones cutáneas, rigidez en el cuello, o dolor intenso en cualquier parte del cuerpo.\n",
      "- **Condiciones Preexistentes:** Si tiene condiciones médicas preexistentes como enfermedades cardíacas, diabetes, o un sistema inmunológico comprometido.\n",
      "\n",
      "### 5. Prevención de la Propagación\n",
      "- **Aislamiento:** Si sospecha que puede tener una infección contagiosa, trate de mantenerse alejado de otras personas para evitar la propagación.\n",
      "- **Higiene:** Lávese las manos frecuentemente con agua y jabón o use un desinfectante a base de alcohol.\n",
      "\n",
      "### Conclusión\n",
      "La fiebre y los dolores corporales pueden ser síntomas de una variedad de condiciones, desde infecciones virales hasta enfermedades más graves. Es importante mantenerse hidratado, descansar y tomar medicamentos antipiréticos si es necesario. Si los síntomas empeoran o persisten, es crucial buscar atención médica para un diagnóstico y tratamiento adecuados.\n"
     ]
    }
   ],
   "source": [
    "input_data = {\n",
    "    \"model\": \"/opt/ml/model\",\n",
    "    \"messages\": [\n",
    "        {\"role\": \"system\", \"content\": system_prompt},\n",
    "        {\"role\": \"user\", \"content\": prompt1},\n",
    "    ],\n",
    "    \"max_tokens\": 2048,\n",
    "    \"temperature\": 0.15,\n",
    "}\n",
    "\n",
    "result = invoke_realtime_endpoint(input_data)\n",
    "output_content = result['choices'][0]['message']['content']\n",
    "print(output_content)"
   ]
  },
  {
   "cell_type": "markdown",
   "id": "d1a76aec-391a-44e9-b385-99aa62f1b4bf",
   "metadata": {},
   "source": [
    "#### Text Completion"
   ]
  },
  {
   "cell_type": "code",
   "execution_count": 14,
   "id": "0c06b069-e3d8-48f4-9c09-fec59143ed11",
   "metadata": {
    "tags": []
   },
   "outputs": [
    {
     "name": "stdout",
     "output_type": "stream",
     "text": [
      "F: Trimethoprim-sulfametoxazol\n",
      "\n",
      "La respuesta correcta es E: Nitrofurantoína.\n",
      "\n",
      "La paciente presenta síntomas de infección del tracto urinario (ITU), que es común en mujeres embarazadas debido a cambios hormonales y anatómicos que facilitan la colonización bacteriana. La nitrofurantoína es el tratamiento de primera línea para las ITU no complicadas en mujeres embarazadas debido a su seguridad y eficacia. Es importante evitar medicamentos como el ciprofloxacino y la doxiciclina debido a sus efectos teratogénicos. Aunque la ampicilina y la ceftriaxona son opciones seguras durante el embarazo, no son el tratamiento de primera línea para ITU no complicadas. El trimethoprim-sulfametoxazol debe evitarse en el primer trimestre debido al riesgo de defectos congénitos.\n"
     ]
    }
   ],
   "source": [
    "input_data ={\n",
    "        \"model\": \"/opt/ml/model\",\n",
    "        \"prompt\": prompt2,\n",
    "        \"max_tokens\": 2048,\n",
    "        \"temperature\": 0.15,\n",
    "    }\n",
    "\n",
    "result = invoke_realtime_endpoint(input_data)\n",
    "output_text = result['choices'][0]['text']\n",
    "print(output_text)"
   ]
  },
  {
   "cell_type": "markdown",
   "id": "ccccf37b-9dee-4d38-a0dc-38f2aeaeb780",
   "metadata": {},
   "source": [
    "### 3.2 Real-time inference response as a stream via Amazon SageMaker Endpoint"
   ]
  },
  {
   "cell_type": "code",
   "execution_count": 16,
   "id": "dac2fe86-af82-4ae5-a838-162f65e6d0b1",
   "metadata": {
    "tags": []
   },
   "outputs": [],
   "source": [
    "def invoke_streaming_endpoint(record):\n",
    "    try:\n",
    "        response = sm_runtime.invoke_endpoint_with_response_stream(\n",
    "            EndpointName=model_name,\n",
    "            Body=json.dumps(record),\n",
    "            ContentType=\"application/json\",\n",
    "            Accept=\"text/event-stream\"\n",
    "        )\n",
    "\n",
    "        for event in response[\"Body\"]:\n",
    "            if \"PayloadPart\" in event:\n",
    "                chunk = event[\"PayloadPart\"][\"Bytes\"].decode(\"utf-8\")\n",
    "                if chunk.startswith(\"data:\"):\n",
    "                    try:\n",
    "                        data = json.loads(chunk[5:].strip())\n",
    "                        if \"choices\" in data and len(data[\"choices\"]) > 0:\n",
    "                            choice = data[\"choices\"][0]\n",
    "                            if \"text\" in choice:\n",
    "                                yield choice[\"text\"]\n",
    "                            elif \"delta\" in choice and \"content\" in choice[\"delta\"]:\n",
    "                                yield choice[\"delta\"][\"content\"]\n",
    "\n",
    "                    except json.JSONDecodeError:\n",
    "                        continue \n",
    "            elif \"ModelStreamError\" in event:\n",
    "                error = event[\"ModelStreamError\"]\n",
    "                yield f\"\\nStream error: {error['Message']} (Error code: {error['ErrorCode']})\"\n",
    "                break\n",
    "            elif \"InternalStreamFailure\" in event:\n",
    "                failure = event[\"InternalStreamFailure\"]\n",
    "                yield f\"\\nInternal stream failure: {failure['Message']}\"\n",
    "                break\n",
    "    except Exception as e:\n",
    "        yield f\"\\nAn error occurred during streaming: {str(e)}\""
   ]
  },
  {
   "cell_type": "markdown",
   "id": "d2c6f25e-6d6d-41c7-a7ab-8b979e97a145",
   "metadata": {},
   "source": [
    "#### Chat Completion"
   ]
  },
  {
   "cell_type": "code",
   "execution_count": 17,
   "id": "5d62d99f-67a1-46f7-ad52-d2d41b2c5e3a",
   "metadata": {
    "tags": []
   },
   "outputs": [
    {
     "name": "stdout",
     "output_type": "stream",
     "text": [
      "1 **Evaluación Inicial**\n",
      "   - **Medición de la Temperatura**: Utilice un termómetro para medir su temperatura corporal. La fiebre se define generalmente como una temperatura superior a 38°C (100.4°F).\n",
      "   - **Observación de Síntomas**: Preste atención a otros síntomas que pueda estar experimentando, como dolor de cabeza, dolor de garganta, tos, o dificultad para respirar.\n",
      "\n",
      "2. **Medidas Inmediatas**\n",
      "   - **Hidratación**: Beba abundantes líquidos para mantenerse hidratado. El agua, caldos y bebidas electrolíticas son buenas opciones.\n",
      "   - **Descanso**: Descansar es crucial para que su cuerpo pueda combatir la infección.\n",
      "   - **Medicamentos**: Puede tomar medicamentos antipiréticos como el paracetamol o el ibuprofeno para reducir la fiebre y aliviar los dolores corporales. Siga las indicaciones del envase y no exceda la dosis recomendada.\n",
      "\n",
      "3. **Monitoreo de Síntomas**\n",
      "   - **Observación Continua**: Monitoree su temperatura y otros síntomas regularmente.\n",
      "   - **Signos de Alarma**: Busque atención médica de inmediato si presenta alguno de los siguientes signos:\n",
      "     - Dificultad para respirar.\n",
      "     - Dolor en el pecho.\n",
      "     - Confusión o desorientación.\n",
      "     - Erupción cutánea o manchas rojas que no desaparecen al presionar.\n",
      "     - Fiebre alta que no responde a los medicamentos.\n",
      "     - Síntomas que empeoran o no mejoran después de unos días.\n",
      "\n",
      "4. **Consulta Médica**\n",
      "   - **Evaluación Profesional**: Si sus síntomas persisten o empeoran, es importante que consulte a un profesional de la salud. Un médico podrá realizar un examen físico y, si es necesario, ordenar pruebas adicionales para determinar la causa de la fiebre y los dolores corporales.\n",
      "   - **Tratamiento Adecuado**: Dependiendo del diagnóstico, el médico le recetará el tratamiento adecuado, que puede incluir antibióticos, antivirales, o simplemente medidas de apoyo.\n",
      "\n",
      "**Conclusión**: La fiebre y los dolores corporales pueden ser síntomas de diversas condiciones, desde infecciones virales hasta enfermedades más graves. Es fundamental mantenerse hidratado, descansar y tomar medicamentos antipiréticos para aliviar los síntomas. Sin embargo, si los síntomas persisten o empeoran, es crucial buscar atención médica para un diagnóstico y tratamiento adecuados."
     ]
    }
   ],
   "source": [
    "payload = {\n",
    "    \"model\": \"/opt/ml/model\",\n",
    "    \"messages\": [\n",
    "        {\"role\": \"system\", \"content\": system_prompt},\n",
    "        {\"role\": \"user\", \"content\": prompt1}\n",
    "    ],\n",
    "    \"max_tokens\": 2048,\n",
    "    \"temperature\": 0.15,\n",
    "    \"stream\": True\n",
    "}\n",
    "\n",
    "for chunk in invoke_streaming_endpoint(payload):\n",
    "    print(chunk, end=\"\", flush=True)"
   ]
  },
  {
   "cell_type": "markdown",
   "id": "f2d04094-f350-4950-b73a-212301dda35c",
   "metadata": {},
   "source": [
    "#### Text Completion"
   ]
  },
  {
   "cell_type": "code",
   "execution_count": 18,
   "id": "a6046a1f-96cb-4f76-b796-cd4a661f53e6",
   "metadata": {
    "tags": []
   },
   "outputs": [
    {
     "name": "stdout",
     "output_type": "stream",
     "text": [
      "F: Trimetoprim/sulfametoxazol\n",
      "\n",
      "La correcta es E: Nitrofurantoína.\n",
      "\n",
      "La paciente presenta síntomas de infección del tracto urinario (ITU). La nitrofurantoína es el de primera línea para las ITU no complicadas durante el embarazo. Es segura para el feto y efectiva contra la mayoría de las bacterias que causan ITU. Las opciones A, B, C, D y F no son recomendadas durante el embarazo debido a sus efectos potenciales sobre el feto."
     ]
    }
   ],
   "source": [
    "payload = {\n",
    "    \"model\": \"/opt/ml/model\",\n",
    "    \"prompt\": prompt2,\n",
    "    \"max_tokens\": 2048,\n",
    "    \"temperature\": 0.15,\n",
    "    \"stream\": True\n",
    "}\n",
    "\n",
    "for chunk in invoke_streaming_endpoint(payload):\n",
    "    print(chunk, end=\"\", flush=True)"
   ]
  },
  {
   "cell_type": "markdown",
   "id": "547960f3-6629-4c2d-a4d2-cdb26c9c61d0",
   "metadata": {},
   "source": [
    "Now that you have successfully performed a real-time inference, you do not need the endpoint any more. You can terminate the endpoint to avoid being charged."
   ]
  },
  {
   "cell_type": "code",
   "execution_count": null,
   "id": "488631f8-c3be-4b30-aba4-75d83ee588a3",
   "metadata": {
    "tags": []
   },
   "outputs": [],
   "source": [
    "model.sagemaker_session.delete_endpoint(model_name)\n",
    "model.sagemaker_session.delete_endpoint_config(model_name)"
   ]
  },
  {
   "cell_type": "markdown",
   "id": "c0e98cc5-6ea8-41bf-a78f-dbe6771caf55",
   "metadata": {},
   "source": [
    "## 4. Batch inference"
   ]
  },
  {
   "cell_type": "code",
   "execution_count": 20,
   "id": "f7d163c0-a6c7-49c5-a4ea-27b83670eb7b",
   "metadata": {
    "tags": []
   },
   "outputs": [],
   "source": [
    "validation_json_file_name1 = \"input1.json\"\n",
    "\n",
    "validation_input_json_path = f\"s3://{s3_bucket}/{model_name}/validation-input/\"\n",
    "validation_output_json_path = f\"s3://{s3_bucket}/{model_name}/validation-output/\"\n",
    "\n",
    "\n",
    "def write_and_upload_to_s3(input_data, file_name):\n",
    "    s3_client.put_object(\n",
    "        Bucket=s3_bucket,\n",
    "        Key=f\"{model_name}/validation-input/{file_name}\",\n",
    "        Body=(bytes(input_data.encode(\"UTF-8\"))),\n",
    "    )"
   ]
  },
  {
   "cell_type": "code",
   "execution_count": 21,
   "id": "23904344-4a1e-4e90-942e-dc9e53827369",
   "metadata": {
    "tags": []
   },
   "outputs": [],
   "source": [
    "input_json_data1 = json.dumps(\n",
    "    {\n",
    "        \"model\": \"/opt/ml/model\",\n",
    "        \"prompt\": prompts,\n",
    "        \"max_tokens\": 2048,\n",
    "        \"temperature\": 0.15,\n",
    "    }, \n",
    "    ensure_ascii=False\n",
    ")\n",
    "\n",
    "write_and_upload_to_s3(input_json_data1, f\"{validation_json_file_name1}\")"
   ]
  },
  {
   "cell_type": "code",
   "execution_count": null,
   "id": "40a9b441-d1e5-4bbc-8571-005d880c6c46",
   "metadata": {
    "tags": []
   },
   "outputs": [],
   "source": [
    "transformer = model.transformer(\n",
    "    instance_count=1,\n",
    "    instance_type=batch_transform_inference_instance_type,\n",
    "    accept=\"application/json\",\n",
    "    output_path=validation_output_json_path,\n",
    ")\n",
    "transformer.transform(validation_input_json_path, content_type=\"application/json\")\n",
    "transformer.wait()"
   ]
  },
  {
   "cell_type": "code",
   "execution_count": 24,
   "id": "142c53a9-2e64-4839-acbd-74bfbd7fc372",
   "metadata": {
    "tags": []
   },
   "outputs": [],
   "source": [
    "from urllib.parse import urlparse\n",
    "\n",
    "def retrieve_json_output_from_s3(validation_file_name):\n",
    "\n",
    "    parsed_url = urlparse(transformer.output_path)\n",
    "    file_key = f\"{parsed_url.path[1:]}{validation_file_name}.out\"\n",
    "    response = s3_client.get_object(Bucket=s3_bucket, Key=file_key)\n",
    "    result = json.loads(response[\"Body\"].read().decode(\"utf-8\"))\n",
    "\n",
    "    for idx, choice in enumerate(result.get(\"choices\", [])):\n",
    "        print(f\"Response {idx + 1}:\\n{choice.get('text', '')}\\n{'=' * 75}\")"
   ]
  },
  {
   "cell_type": "code",
   "execution_count": 25,
   "id": "b781965a-3891-4ac3-a580-9e187b262d39",
   "metadata": {
    "tags": []
   },
   "outputs": [
    {
     "name": "stdout",
     "output_type": "stream",
     "text": [
      "Response 1:\n",
      " La salud renal es fundamental para el bienestar general del cuerpo. Los riñones son responsables de filtrar los desechos y el exceso de líquidos de la sangre, regular los niveles de electrolitos y producir hormonas esenciales. Aquí hay algunas recomendaciones para mantener una buena salud renal:\n",
      "\n",
      "1. **Hidratación adecuada**: Beber suficiente agua ayuda a los riñones a eliminar los desechos y las toxinas del cuerpo. La cantidad recomendada puede variar, pero generalmente se sugiere entre 1.5 y 2 litros de agua al día, dependiendo de la actividad física y el clima.\n",
      "\n",
      "2. **Dieta equilibrada**: Consumir una dieta rica en frutas, verduras, granos enteros y proteínas magras puede ayudar a mantener la salud renal. Limitar el consumo de sal, azúcar y grasas saturadas también es beneficioso.\n",
      "\n",
      "3. **Control del peso**: Mantener un peso saludable reduce la presión sobre los riñones y disminuye el riesgo de enfermedades renales.\n",
      "\n",
      "4. **Evitar el tabaco y el alcohol**: Fumar y el consumo excesivo de alcohol pueden dañar los riñones. Evitar estos hábitos es crucial para la salud renal.\n",
      "\n",
      "5. **Controlar las enfermedades crónicas**: Enfermedades como la diabetes y la hipertensión pueden dañar los riñones. Mantener estos problemas bajo control con medicamentos y cambios en el estilo de vida es esencial.\n",
      "\n",
      "6. **Realizar ejercicio regularmente**: El ejercicio regular ayuda a mantener un peso saludable y mejora la circulación sanguínea, lo que beneficia a los riñones.\n",
      "\n",
      "7. **Evitar el uso excesivo de medicamentos**: Algunos medicamentos, como los antiinflamatorios no esteroideos (AINEs), pueden dañar los riñones si se usan en exceso. Siempre sigue las indicaciones de tu médico.\n",
      "\n",
      "8. **Chequeos médicos regulares**: Realizar chequeos médicos regulares, incluyendo análisis de sangre y orina, puede ayudar a detectar problemas renales en etapas tempranas.\n",
      "\n",
      "9. **Manejo del estrés**: El estrés crónico puede afectar la salud en general, incluyendo la función renal. Practicar técnicas de manejo del estrés como la meditación, el yoga o la respiración profunda puede ser beneficioso.\n",
      "\n",
      "10. **Evitar la exposición a sustancias tóxicas**: Algunas sustancias químicas y metales pesados pueden dañar los riñones. Evitar la exposición a estos elementos es importante.\n",
      "\n",
      "Siguiendo estas recomendaciones, puedes ayudar a mantener tus riñones saludables y reducir el riesgo de enfermedades renales.\n",
      "===========================================================================\n",
      "Response 2:\n",
      " La hipertensión arterial es una condición que se caracteriza por una presión arterial elevada de manera constante. En la mayoría de los casos, la hipertensión no presenta síntomas evidentes, lo que la convierte en una condición peligrosa porque puede pasar desapercibida durante mucho tiempo. Sin embargo, en algunos casos, pueden aparecer ciertos signos y síntomas que indican la presencia de hipertensión. A continuación, se describen algunos de los síntomas más comunes:\n",
      "\n",
      "1. **Dolor de cabeza**: Es uno de los síntomas más frecuentes y puede ser persistente o recurrente. Suele ser más intenso en la mañana o después de realizar esfuerzos físicos.\n",
      "\n",
      "2. **Zumbido en los oídos**: También conocido como tinnitus, puede ser un signo de hipertensión.\n",
      "\n",
      "3. **Visión borrosa**: La presión arterial elevada puede afectar los vasos sanguíneos en los ojos, causando visión borrosa o doble.\n",
      "\n",
      "4. **Fatiga o debilidad**: La hipertensión puede causar una sensación general de cansancio o debilidad.\n",
      "\n",
      "5. **Dolor en el pecho**: Aunque es menos común, el dolor en el pecho puede ser un síntoma de hipertensión, especialmente si está asociado con otros síntomas como dificultad para respirar.\n",
      "\n",
      "6. **Dificultad para respirar**: La hipertensión puede causar dificultad para respirar, especialmente durante el ejercicio o el esfuerzo físico.\n",
      "\n",
      "7. **Sangrado nasal**: Aunque no es un síntoma específico de hipertensión, puede ocurrir en personas con presión arterial elevada.\n",
      "\n",
      "8. **Palpitaciones**: Sensación de latidos rápidos o irregulares del corazón.\n",
      "\n",
      "9. **Sudoración excesiva**: Puede ser un síntoma de hipertensión, especialmente si se presenta junto con otros síntomas.\n",
      "\n",
      "Es importante tener en cuenta que la mayoría de las personas con hipertensión no presentan síntomas evidentes. Por esta razón, es fundamental realizar chequeos médicos regulares para monitorear la presión arterial y detectar cualquier problema a tiempo. Si se sospecha de hipertensión, es crucial consultar a un profesional de la salud para recibir un diagnóstico adecuado y un tratamiento apropiado.\n",
      "===========================================================================\n"
     ]
    }
   ],
   "source": [
    "retrieve_json_output_from_s3(validation_json_file_name1)"
   ]
  },
  {
   "cell_type": "markdown",
   "id": "f8e8f682-16a0-4a84-89e6-b5f4f0de3521",
   "metadata": {},
   "source": [
    "Congratulations! You just verified that the batch transform job is working as expected. Since the model is not required, you can delete it. Note that you are deleting the deployable model. Not the model package."
   ]
  },
  {
   "cell_type": "code",
   "execution_count": null,
   "id": "22a8df79-ad3b-4e85-a054-24931c15f3a3",
   "metadata": {
    "tags": []
   },
   "outputs": [],
   "source": [
    "model.delete_model()"
   ]
  },
  {
   "cell_type": "markdown",
   "id": "37215a51-bf01-4cf0-832a-c7f85a8a06c3",
   "metadata": {},
   "source": [
    "### Unsubscribe to the listing (optional)"
   ]
  },
  {
   "cell_type": "markdown",
   "id": "53cddd4d-4b27-4a94-95b8-5e027e6cd9cd",
   "metadata": {},
   "source": [
    "If you would like to unsubscribe to the model package, follow these steps. Before you cancel the subscription, ensure that you do not have any [deployable model](https://console.aws.amazon.com/sagemaker/home#/models) created from the model package or using the algorithm. Note - You can find this information by looking at the container name associated with the model. \n",
    "\n",
    "**Steps to unsubscribe to product from AWS Marketplace**:\n",
    "1. Navigate to __Machine Learning__ tab on [__Your Software subscriptions page__](https://aws.amazon.com/marketplace/ai/library?productType=ml&ref_=mlmp_gitdemo_indust)\n",
    "2. Locate the listing that you want to cancel the subscription for, and then choose __Cancel Subscription__  to cancel the subscription.\n",
    "\n"
   ]
  }
 ],
 "metadata": {
  "kernelspec": {
   "display_name": "conda_python3",
   "language": "python",
   "name": "conda_python3"
  },
  "language_info": {
   "codemirror_mode": {
    "name": "ipython",
    "version": 3
   },
   "file_extension": ".py",
   "mimetype": "text/x-python",
   "name": "python",
   "nbconvert_exporter": "python",
   "pygments_lexer": "ipython3",
   "version": "3.10.17"
  }
 },
 "nbformat": 4,
 "nbformat_minor": 5
}

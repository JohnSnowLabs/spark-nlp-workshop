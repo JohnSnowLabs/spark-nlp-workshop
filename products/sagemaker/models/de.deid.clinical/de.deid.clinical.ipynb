{
 "cells": [
  {
   "cell_type": "markdown",
   "metadata": {},
   "source": [
    "## 1. Subscribe to the model package"
   ]
  },
  {
   "cell_type": "markdown",
   "metadata": {},
   "source": [
    "To subscribe to the model package:\n",
    "1. Open the model package listing page <font color='red'> For Seller to update:[Title_of_your_product](Provide link to your marketplace listing of your product).</font>\n",
    "1. On the AWS Marketplace listing, click on the **Continue to subscribe** button.\n",
    "1. On the **Subscribe to this software** page, review and click on **\"Accept Offer\"** if you and your organization agrees with EULA, pricing, and support terms. \n",
    "1. Once you click on **Continue to configuration button** and then choose a **region**, you will see a **Product Arn** displayed. This is the model package ARN that you need to specify while creating a deployable model using Boto3. Copy the ARN corresponding to your region and specify the same in the following cell."
   ]
  },
  {
   "cell_type": "markdown",
   "metadata": {},
   "source": [
    "## Clinical Deidentification German\n",
    "\n",
    "Deidentification is essential for safeguarding patient privacy in clinical data, including texts, PDFs, images, and DICOM files containing Protected Health Information (PHI). PHI encompasses various health-related data, including common identifiers such as name, address, birth date, and Social Security Number.\n",
    "\n",
    "- **Model**: `de.deid.clinical`\n",
    "- **Model Description**: This pipeline can be used to deidentify PHI information from German medical texts. The PHI information will be masked and obfuscated in the resulting text. The pipeline can mask and obfuscate PATIENT, HOSPITAL, DATE, ORGANIZATION, CITY, STREET, USERNAME, PROFESSION, PHONE, COUNTRY, DOCTOR, AGE, CONTACT, ID, PHONE, ZIP, ACCOUNT, SSN, DLN, PLATE entities."
   ]
  },
  {
   "cell_type": "code",
   "execution_count": 23,
   "metadata": {
    "tags": []
   },
   "outputs": [],
   "source": [
    "model_package_arn = \"<Customer to specify Model package ARN corresponding to their AWS region>\""
   ]
  },
  {
   "cell_type": "code",
   "execution_count": 24,
   "metadata": {
    "tags": []
   },
   "outputs": [],
   "source": [
    "import base64\n",
    "import json\n",
    "import uuid\n",
    "from sagemaker import ModelPackage\n",
    "import sagemaker as sage\n",
    "from sagemaker import get_execution_role\n",
    "import boto3\n",
    "from IPython.display import Image, display\n",
    "from PIL import Image as ImageEdit\n",
    "import numpy as np"
   ]
  },
  {
   "cell_type": "code",
   "execution_count": 25,
   "metadata": {
    "tags": []
   },
   "outputs": [],
   "source": [
    "sagemaker_session = sage.Session()\n",
    "s3_bucket = sagemaker_session.default_bucket()\n",
    "region = sagemaker_session.boto_region_name\n",
    "account_id = boto3.client(\"sts\").get_caller_identity().get(\"Account\")\n",
    "role = get_execution_role()\n",
    "\n",
    "sagemaker = boto3.client(\"sagemaker\")\n",
    "s3_client = sagemaker_session.boto_session.client(\"s3\")\n",
    "ecr = boto3.client(\"ecr\")\n",
    "sm_runtime = boto3.client(\"sagemaker-runtime\")"
   ]
  },
  {
   "cell_type": "markdown",
   "metadata": {},
   "source": [
    "## 2. Create an endpoint and perform real-time inference"
   ]
  },
  {
   "cell_type": "markdown",
   "metadata": {},
   "source": [
    "If you want to understand how real-time inference with Amazon SageMaker works, see [Documentation](https://docs.aws.amazon.com/sagemaker/latest/dg/how-it-works-hosting.html)."
   ]
  },
  {
   "cell_type": "code",
   "execution_count": 26,
   "metadata": {
    "tags": []
   },
   "outputs": [],
   "source": [
    "model_name = \"de-deid-clinical\"\n",
    "\n",
    "content_type = \"application/json\"\n",
    "\n",
    "real_time_inference_instance_type = \"ml.m4.xlarge\"\n",
    "batch_transform_inference_instance_type = \"ml.m4.xlarge\"\n"
   ]
  },
  {
   "cell_type": "markdown",
   "metadata": {},
   "source": [
    "### A. Create an endpoint"
   ]
  },
  {
   "cell_type": "code",
   "execution_count": 27,
   "metadata": {
    "tags": []
   },
   "outputs": [
    {
     "name": "stderr",
     "output_type": "stream",
     "text": [
      "INFO:sagemaker:Creating model with name: de-deid-clinical-2024-04-02-17-44-41-617\n",
      "INFO:sagemaker:Creating endpoint-config with name de-deid-clinical\n",
      "INFO:sagemaker:Creating endpoint with name de-deid-clinical\n"
     ]
    },
    {
     "name": "stdout",
     "output_type": "stream",
     "text": [
      "--------!"
     ]
    }
   ],
   "source": [
    "# create a deployable model from the model package.\n",
    "model = ModelPackage(\n",
    "    role=role, model_package_arn=model_package_arn, sagemaker_session=sagemaker_session\n",
    ")\n",
    "\n",
    "# Deploy the model\n",
    "predictor = model.deploy(1, real_time_inference_instance_type, endpoint_name=model_name)"
   ]
  },
  {
   "cell_type": "markdown",
   "metadata": {},
   "source": [
    "Once endpoint has been created, you would be able to perform real-time inference."
   ]
  },
  {
   "cell_type": "code",
   "execution_count": 28,
   "metadata": {
    "tags": []
   },
   "outputs": [],
   "source": [
    "import json\n",
    "import pandas as pd\n",
    "import os\n",
    "import boto3\n",
    "\n",
    "\n",
    "# Set display options\n",
    "pd.set_option('display.max_rows', None)\n",
    "pd.set_option('display.max_columns', None)\n",
    "pd.set_option('display.max_colwidth', None)\n",
    "\n",
    "\n",
    "def process_data_and_invoke_realtime_endpoint(data_dicts):\n",
    "    for data_dict in data_dicts:\n",
    "        json_input_data = json.dumps(data_dict, ensure_ascii=False)\n",
    "        i = 1\n",
    "        input_file_name = f'inputs/real-time/input{i}.json'\n",
    "        output_file_name = f'outputs/real-time/out{i}.out'\n",
    "\n",
    "        while os.path.exists(input_file_name) or os.path.exists(output_file_name):\n",
    "            i += 1\n",
    "            input_file_name = f'inputs/real-time/input{i}.json'\n",
    "            output_file_name = f'outputs/real-time/out{i}.out'\n",
    "\n",
    "        os.makedirs(os.path.dirname(input_file_name), exist_ok=True)\n",
    "        os.makedirs(os.path.dirname(output_file_name), exist_ok=True)\n",
    "\n",
    "        with open(input_file_name, 'w', encoding=\"utf-8\") as f:\n",
    "            f.write(json_input_data)\n",
    "\n",
    "        s3_client.put_object(Bucket=s3_bucket, Key=f\"{model_name}/validation-input-json/real-time/{os.path.basename(input_file_name)}\", Body=bytes(json_input_data.encode('UTF-8')))\n",
    "\n",
    "        response = sm_runtime.invoke_endpoint(\n",
    "            EndpointName=model_name,\n",
    "            ContentType=content_type,\n",
    "            Accept=\"application/json\",\n",
    "            Body=json_input_data,\n",
    "        )\n",
    "\n",
    "        # Process response\n",
    "        response_data = json.loads(response[\"Body\"].read().decode(\"utf-8\"))\n",
    "        df = pd.DataFrame(response_data)\n",
    "        display(df)\n",
    "\n",
    "        # Save response data to file\n",
    "        with open(output_file_name, 'w') as f_out:\n",
    "            json.dump(response_data, f_out, indent=4 , ensure_ascii=False)"
   ]
  },
  {
   "cell_type": "markdown",
   "metadata": {},
   "source": [
    "### Initial Setup"
   ]
  },
  {
   "cell_type": "code",
   "execution_count": 29,
   "metadata": {
    "tags": []
   },
   "outputs": [],
   "source": [
    "docs = [\n",
    "    '''Herr Reus - Telefon: 0604876475 - Beruf: Koch an der Friedrich-Alexander Universität. Er berichtet über Krankenhausaufenthalte im Klinikum Nürnberg-Süd, und die Akte zeigt weitere Krankenhausaufenthalte, darunter Kreiskrankenhaus im Jahr 2001, Sankt Antonius Krankenhaus am 28 Juli 2000, Klinikum Ludwigsburg im Jahr 05/1966.''',\n",
    "\n",
    "    '''Dr.  Hans-Wolfgang Weihmann - RM57, Städt Klinikum Dresden-Friedrichstadt, Friedrichstraße 41, Dresden''',\n",
    "\n",
    "    '''Er arbeitete bis 24.08.1940 - Gärtner bei Planten un Blomen in Hamburg, verbrannte sich an beiden Beinen - entwickelte Geschwüre. Der Patient konsultierte Dr. Klein im September.''',\n",
    "\n",
    "    '''Koronare Herzkrankheit : s/p ant SEMI + Stent LAD Aug/1963 , Dr . Lars Meister , ETT Fallingbostel 24.02.2009 - neg . Scan auf Ischämie .'''\n",
    "\n",
    "]\n",
    "\n",
    "\n",
    "sample_text = \"\"\"Zusammenfassung : Michael Berger wird am Morgen des 12 Dezember 2018 ins St.Elisabeth Krankenhaus eingeliefert. \n",
    "Herr Michael Berger ist 76 Jahre alt und hat zu viel Wasser in den Beinen.\n",
    "\n",
    "Persönliche Daten :\n",
    "ID-Nummer: T0110053F\n",
    "Platte A-BC124\n",
    "Kontonummer: DE89370400440532013000\n",
    "SSN : 13110587M565\n",
    "Lizenznummer: B072RRE2I55\n",
    "Adresse : St.Johann-Straße 13 19300\n",
    "\"\"\""
   ]
  },
  {
   "cell_type": "markdown",
   "metadata": {
    "jp-MarkdownHeadingCollapsed": true,
    "tags": []
   },
   "source": [
    "### Important Parameters\n",
    "\n",
    "- **masking_policy**: `str`\n",
    "\n",
    "    Users can select a masking policy to determine how sensitive entities are handled:\n",
    "\n",
    "    Example: \"**Dr. Hans-Wolfgang Weihmann - RM57, Städt Klinikum Dresden-Friedrichstadt, Friedrichstraße 41, Dresden**\"\n",
    "\n",
    "    - **masked**: Default policy that masks entities with their type.\n",
    "\n",
    "      -> 'Dr.  `<PATIENT>` - `<USERNAME>`, `<HOSPITAL>`, `<STREET>`, `<CITY>`'\n",
    "\n",
    "    - **obfuscated**: Replaces sensitive entities with random values of the same type.\n",
    "\n",
    "      -> 'Dr.  `Karl-August Blümel` - `RP400`, `University Hospital Cologne`, `Fadime-Pölitz-Allee`, `Böblingen`'\n",
    "\n",
    "    - **masked_fixed_length_chars**: Masks entities with a fixed length of asterisks (\\*).\n",
    "\n",
    "      -> 'Dr.  `****` - `****`, `****`, `****`, `****`'\n",
    "\n",
    "    - **masked_with_chars**: Masks entities with asterisks (\\*).\n",
    "\n",
    "      -> 'Dr.  [`********************`] - [`**`], [`***********************************`], [`****************`], [`*****`]'\n",
    "\n",
    "- **sep**: `str`\n",
    "\n",
    "    Separator used to join subparts within each prediction.\n",
    "\n",
    "    By default, the separator is set to a single space (\" \"), but users can specify any other separator as needed. Necessary because the model outputs predictions as separate subparts, and the chosen separator is used to join them into coherent text.\n",
    "\n",
    "    The separator must be one of the following characters: space (' '), newline ('\\n'), comma (','), tab ('\\t'), or colon (':').\n",
    "\n",
    "You can specify these parameters in the input as follows:\n",
    "\n",
    "```json\n",
    "{\n",
    "    \"text\": [\n",
    "        \"Text document 1\",\n",
    "        \"Text document 2\",\n",
    "        ...\n",
    "    ],\n",
    "    \"masking_policy\": \"masked\",\n",
    "    \"sep\": \" \",\n",
    "}\n"
   ]
  },
  {
   "cell_type": "markdown",
   "metadata": {
    "tags": []
   },
   "source": [
    "### **Input format**: Single Text Document\n",
    "\n",
    "Provide a single text document as a string.\n",
    "\n",
    "  \n",
    "  \n",
    "```json\n",
    "{\n",
    "    \"text\": \"Single text document\"\n",
    "}\n",
    "```"
   ]
  },
  {
   "cell_type": "code",
   "execution_count": 30,
   "metadata": {
    "tags": []
   },
   "outputs": [
    {
     "data": {
      "text/html": [
       "<div>\n",
       "<style scoped>\n",
       "    .dataframe tbody tr th:only-of-type {\n",
       "        vertical-align: middle;\n",
       "    }\n",
       "\n",
       "    .dataframe tbody tr th {\n",
       "        vertical-align: top;\n",
       "    }\n",
       "\n",
       "    .dataframe thead th {\n",
       "        text-align: right;\n",
       "    }\n",
       "</style>\n",
       "<table border=\"1\" class=\"dataframe\">\n",
       "  <thead>\n",
       "    <tr style=\"text-align: right;\">\n",
       "      <th></th>\n",
       "      <th>predictions</th>\n",
       "    </tr>\n",
       "  </thead>\n",
       "  <tbody>\n",
       "    <tr>\n",
       "      <th>0</th>\n",
       "      <td>Zusammenfassung : &lt;PATIENT&gt; wird am Morgen des &lt;DATE&gt; ins &lt;HOSPITAL&gt; eingeliefert. Herr &lt;PATIENT&gt; ist &lt;AGE&gt; Jahre alt und hat zu viel Wasser in den Beinen. Persönliche Daten :\\nID-Nummer: &lt;ID&gt; Platte &lt;PLATE&gt; Kontonummer: &lt;ACCOUNT&gt;\\nSSN : &lt;SSN&gt; Lizenznummer: &lt;DLN&gt; Adresse : &lt;STREET&gt; &lt;ZIP&gt;</td>\n",
       "    </tr>\n",
       "  </tbody>\n",
       "</table>\n",
       "</div>"
      ],
      "text/plain": [
       "                                                                                                                                                                                                                                                                                        predictions\n",
       "0  Zusammenfassung : <PATIENT> wird am Morgen des <DATE> ins <HOSPITAL> eingeliefert. Herr <PATIENT> ist <AGE> Jahre alt und hat zu viel Wasser in den Beinen. Persönliche Daten :\\nID-Nummer: <ID> Platte <PLATE> Kontonummer: <ACCOUNT>\\nSSN : <SSN> Lizenznummer: <DLN> Adresse : <STREET> <ZIP>"
      ]
     },
     "metadata": {},
     "output_type": "display_data"
    }
   ],
   "source": [
    "# masked (default-policy)\n",
    "data_dicts = [\n",
    "    {\n",
    "        \"text\": sample_text\n",
    "    }\n",
    "]\n",
    "\n",
    "process_data_and_invoke_realtime_endpoint(data_dicts)"
   ]
  },
  {
   "cell_type": "code",
   "execution_count": 31,
   "metadata": {
    "tags": []
   },
   "outputs": [
    {
     "data": {
      "text/html": [
       "<div>\n",
       "<style scoped>\n",
       "    .dataframe tbody tr th:only-of-type {\n",
       "        vertical-align: middle;\n",
       "    }\n",
       "\n",
       "    .dataframe tbody tr th {\n",
       "        vertical-align: top;\n",
       "    }\n",
       "\n",
       "    .dataframe thead th {\n",
       "        text-align: right;\n",
       "    }\n",
       "</style>\n",
       "<table border=\"1\" class=\"dataframe\">\n",
       "  <thead>\n",
       "    <tr style=\"text-align: right;\">\n",
       "      <th></th>\n",
       "      <th>predictions</th>\n",
       "    </tr>\n",
       "  </thead>\n",
       "  <tbody>\n",
       "    <tr>\n",
       "      <th>0</th>\n",
       "      <td>Zusammenfassung : Hansgeorg Burger wird am Morgen des 12 Dezember 2018 ins Krankenhaus am Zoo Karlsruhe eingeliefert. Herr Hansgeorg Burger ist 10 Jahre alt und hat zu viel Wasser in den Beinen. Persönliche Daten :\\nID-Nummer: Z6109604V Platte W-UJ811 Kontonummer: 192837465738\\nSSN : 91478295A213 Lizenznummer: Y865HQI6N62 Adresse : Kösterring 4/1 95284</td>\n",
       "    </tr>\n",
       "  </tbody>\n",
       "</table>\n",
       "</div>"
      ],
      "text/plain": [
       "                                                                                                                                                                                                                                                                                                                                                          predictions\n",
       "0  Zusammenfassung : Hansgeorg Burger wird am Morgen des 12 Dezember 2018 ins Krankenhaus am Zoo Karlsruhe eingeliefert. Herr Hansgeorg Burger ist 10 Jahre alt und hat zu viel Wasser in den Beinen. Persönliche Daten :\\nID-Nummer: Z6109604V Platte W-UJ811 Kontonummer: 192837465738\\nSSN : 91478295A213 Lizenznummer: Y865HQI6N62 Adresse : Kösterring 4/1 95284"
      ]
     },
     "metadata": {},
     "output_type": "display_data"
    }
   ],
   "source": [
    "# obfuscated\n",
    "data_dicts = [\n",
    "    {\n",
    "        \"text\": sample_text,\n",
    "        \"masking_policy\": \"obfuscated\"\n",
    "    }\n",
    "]\n",
    "\n",
    "process_data_and_invoke_realtime_endpoint(data_dicts)"
   ]
  },
  {
   "cell_type": "markdown",
   "metadata": {},
   "source": [
    "### **Input format**: Array of Text Documents\n",
    "\n",
    "Use an array containing multiple text documents. Each element represents a separate text document.\n",
    "\n",
    "```json\n",
    "{\n",
    "    \"text\": [\n",
    "        \"Text document 1\",\n",
    "        \"Text document 2\",\n",
    "        ...\n",
    "    ]\n",
    "}\n",
    "```"
   ]
  },
  {
   "cell_type": "code",
   "execution_count": 32,
   "metadata": {
    "tags": []
   },
   "outputs": [
    {
     "data": {
      "text/html": [
       "<div>\n",
       "<style scoped>\n",
       "    .dataframe tbody tr th:only-of-type {\n",
       "        vertical-align: middle;\n",
       "    }\n",
       "\n",
       "    .dataframe tbody tr th {\n",
       "        vertical-align: top;\n",
       "    }\n",
       "\n",
       "    .dataframe thead th {\n",
       "        text-align: right;\n",
       "    }\n",
       "</style>\n",
       "<table border=\"1\" class=\"dataframe\">\n",
       "  <thead>\n",
       "    <tr style=\"text-align: right;\">\n",
       "      <th></th>\n",
       "      <th>predictions</th>\n",
       "    </tr>\n",
       "  </thead>\n",
       "  <tbody>\n",
       "    <tr>\n",
       "      <th>0</th>\n",
       "      <td>Herr &lt;PATIENT&gt; - Telefon: &lt;ID&gt; - Beruf: &lt;PROFESSION&gt; an der &lt;ORGANIZATION&gt;. Er berichtet über Krankenhausaufenthalte im &lt;HOSPITAL&gt;, und die Akte zeigt weitere Krankenhausaufenthalte, darunter &lt;HOSPITAL&gt; im Jahr &lt;DATE&gt;, &lt;HOSPITAL&gt; am &lt;DATE&gt;, &lt;HOSPITAL&gt; im Jahr &lt;DATE&gt;.</td>\n",
       "    </tr>\n",
       "    <tr>\n",
       "      <th>1</th>\n",
       "      <td>Dr.  &lt;DOCTOR&gt; - &lt;USERNAME&gt;, &lt;HOSPITAL&gt;, &lt;STREET&gt;, &lt;CITY&gt;</td>\n",
       "    </tr>\n",
       "    <tr>\n",
       "      <th>2</th>\n",
       "      <td>Er arbeitete bis &lt;DATE&gt; - &lt;PROFESSION&gt; bei &lt;ORGANIZATION&gt; in &lt;CITY&gt;, verbrannte sich an beiden Beinen - entwickelte Geschwüre. Der Patient konsultierte Dr. &lt;DOCTOR&gt; im &lt;DATE&gt;.</td>\n",
       "    </tr>\n",
       "    <tr>\n",
       "      <th>3</th>\n",
       "      <td>Koronare Herzkrankheit : s/p ant SEMI + Stent LAD &lt;DATE&gt; , Dr . &lt;DOCTOR&gt; , ETT &lt;CITY&gt; &lt;DATE&gt; - neg . Scan auf Ischämie .</td>\n",
       "    </tr>\n",
       "  </tbody>\n",
       "</table>\n",
       "</div>"
      ],
      "text/plain": [
       "                                                                                                                                                                                                                                                                   predictions\n",
       "0  Herr <PATIENT> - Telefon: <ID> - Beruf: <PROFESSION> an der <ORGANIZATION>. Er berichtet über Krankenhausaufenthalte im <HOSPITAL>, und die Akte zeigt weitere Krankenhausaufenthalte, darunter <HOSPITAL> im Jahr <DATE>, <HOSPITAL> am <DATE>, <HOSPITAL> im Jahr <DATE>.\n",
       "1                                                                                                                                                                                                                     Dr.  <DOCTOR> - <USERNAME>, <HOSPITAL>, <STREET>, <CITY>\n",
       "2                                                                                              Er arbeitete bis <DATE> - <PROFESSION> bei <ORGANIZATION> in <CITY>, verbrannte sich an beiden Beinen - entwickelte Geschwüre. Der Patient konsultierte Dr. <DOCTOR> im <DATE>.\n",
       "3                                                                                                                                                     Koronare Herzkrankheit : s/p ant SEMI + Stent LAD <DATE> , Dr . <DOCTOR> , ETT <CITY> <DATE> - neg . Scan auf Ischämie ."
      ]
     },
     "metadata": {},
     "output_type": "display_data"
    }
   ],
   "source": [
    "# masked (default-policy)\n",
    "data_dicts = [\n",
    "    {\n",
    "        \"text\": docs\n",
    "    }\n",
    "]\n",
    "\n",
    "process_data_and_invoke_realtime_endpoint(data_dicts)"
   ]
  },
  {
   "cell_type": "code",
   "execution_count": 33,
   "metadata": {
    "tags": []
   },
   "outputs": [
    {
     "data": {
      "text/html": [
       "<div>\n",
       "<style scoped>\n",
       "    .dataframe tbody tr th:only-of-type {\n",
       "        vertical-align: middle;\n",
       "    }\n",
       "\n",
       "    .dataframe tbody tr th {\n",
       "        vertical-align: top;\n",
       "    }\n",
       "\n",
       "    .dataframe thead th {\n",
       "        text-align: right;\n",
       "    }\n",
       "</style>\n",
       "<table border=\"1\" class=\"dataframe\">\n",
       "  <thead>\n",
       "    <tr style=\"text-align: right;\">\n",
       "      <th></th>\n",
       "      <th>predictions</th>\n",
       "    </tr>\n",
       "  </thead>\n",
       "  <tbody>\n",
       "    <tr>\n",
       "      <th>0</th>\n",
       "      <td>Herr Jolanta Ullmann - Telefon: 1610960454 - Beruf: Webentwickler an der SYSCO. Er berichtet über Krankenhausaufenthalte im Sankt Elisabeth Krankenhaus Leipzig, und die Akte zeigt weitere Krankenhausaufenthalte, darunter Universitätsklinikum Göttingen im Jahr 2001, St. Petrus Klinikum am 28 Juli 2000, Krankenhaus Nabburg im Jahr 05/1966.</td>\n",
       "    </tr>\n",
       "    <tr>\n",
       "      <th>1</th>\n",
       "      <td>Dr.  Karl-Dieter Lukas - Jupiter.Schürmann, Klinikum Hannover-Süd, Heinweg 2/9, Hannover</td>\n",
       "    </tr>\n",
       "    <tr>\n",
       "      <th>2</th>\n",
       "      <td>Er arbeitete bis 24.08.1940 - IT-Administrator bei Belkin in Teterow, verbrannte sich an beiden Beinen - entwickelte Geschwüre. Der Patient konsultierte Dr. Sorgatz Junker im September.</td>\n",
       "    </tr>\n",
       "    <tr>\n",
       "      <th>3</th>\n",
       "      <td>Koronare Herzkrankheit : s/p ant SEMI + Stent LAD Aug/1963 , Dr . Simon Reuter , ETT Hohenmölsen 24.02.2009 - neg . Scan auf Ischämie .</td>\n",
       "    </tr>\n",
       "  </tbody>\n",
       "</table>\n",
       "</div>"
      ],
      "text/plain": [
       "                                                                                                                                                                                                                                                                                                                                           predictions\n",
       "0  Herr Jolanta Ullmann - Telefon: 1610960454 - Beruf: Webentwickler an der SYSCO. Er berichtet über Krankenhausaufenthalte im Sankt Elisabeth Krankenhaus Leipzig, und die Akte zeigt weitere Krankenhausaufenthalte, darunter Universitätsklinikum Göttingen im Jahr 2001, St. Petrus Klinikum am 28 Juli 2000, Krankenhaus Nabburg im Jahr 05/1966.\n",
       "1                                                                                                                                                                                                                                                             Dr.  Karl-Dieter Lukas - Jupiter.Schürmann, Klinikum Hannover-Süd, Heinweg 2/9, Hannover\n",
       "2                                                                                                                                                            Er arbeitete bis 24.08.1940 - IT-Administrator bei Belkin in Teterow, verbrannte sich an beiden Beinen - entwickelte Geschwüre. Der Patient konsultierte Dr. Sorgatz Junker im September.\n",
       "3                                                                                                                                                                                                              Koronare Herzkrankheit : s/p ant SEMI + Stent LAD Aug/1963 , Dr . Simon Reuter , ETT Hohenmölsen 24.02.2009 - neg . Scan auf Ischämie ."
      ]
     },
     "metadata": {},
     "output_type": "display_data"
    }
   ],
   "source": [
    "# obfuscated\n",
    "data_dicts = [\n",
    "    {\n",
    "        \"text\": docs,\n",
    "        \"masking_policy\": \"obfuscated\"\n",
    "    }\n",
    "]\n",
    "\n",
    "process_data_and_invoke_realtime_endpoint(data_dicts)"
   ]
  },
  {
   "cell_type": "markdown",
   "metadata": {},
   "source": [
    "### C. Delete the endpoint"
   ]
  },
  {
   "cell_type": "markdown",
   "metadata": {},
   "source": [
    "Now that you have successfully performed a real-time inference, you do not need the endpoint any more. You can terminate the endpoint to avoid being charged."
   ]
  },
  {
   "cell_type": "code",
   "execution_count": 34,
   "metadata": {
    "tags": []
   },
   "outputs": [
    {
     "name": "stderr",
     "output_type": "stream",
     "text": [
      "INFO:sagemaker:Deleting endpoint with name: de-deid-clinical\n",
      "INFO:sagemaker:Deleting endpoint configuration with name: de-deid-clinical\n"
     ]
    }
   ],
   "source": [
    "model.sagemaker_session.delete_endpoint(model_name)\n",
    "model.sagemaker_session.delete_endpoint_config(model_name)"
   ]
  },
  {
   "cell_type": "markdown",
   "metadata": {
    "tags": []
   },
   "source": [
    "## 3. Batch inference"
   ]
  },
  {
   "cell_type": "code",
   "execution_count": 35,
   "metadata": {
    "tags": []
   },
   "outputs": [],
   "source": [
    "import os\n",
    "\n",
    "validation_file_name_1 = \"input_1.json\"\n",
    "validation_file_name_2 = \"input_2.json\"\n",
    "validation_file_name_3 = \"input_3.json\"\n",
    "validation_file_name_4 = \"input_4.json\"\n",
    "\n",
    "validation_input_path = f\"s3://{s3_bucket}/{model_name}/validation-input-json/batch\"\n",
    "validation_output_path = f\"s3://{s3_bucket}/{model_name}/validation-output-json/batch\"\n",
    "\n",
    "input_dir = 'inputs/batch'\n",
    "output_dir = 'outputs/batch'\n",
    "\n",
    "os.makedirs(input_dir, exist_ok=True)\n",
    "os.makedirs(output_dir, exist_ok=True)"
   ]
  },
  {
   "cell_type": "code",
   "execution_count": 36,
   "metadata": {
    "tags": []
   },
   "outputs": [],
   "source": [
    "import json\n",
    "\n",
    "def write_and_upload_to_s3(json_input_data, file_name):\n",
    "\n",
    "    json_data = json.dumps(json_input_data, ensure_ascii=False)\n",
    "\n",
    "    with open(file_name, \"w\", encoding=\"utf-8\") as f:\n",
    "        f.write(json_data)\n",
    "\n",
    "    s3_client.put_object(\n",
    "        Bucket=s3_bucket,\n",
    "        Key=f\"{model_name}/validation-input-json/batch/{os.path.basename(file_name)}\",\n",
    "        Body=(bytes(json_data.encode(\"UTF-8\"))),\n",
    "    )"
   ]
  },
  {
   "cell_type": "code",
   "execution_count": 37,
   "metadata": {
    "tags": []
   },
   "outputs": [],
   "source": [
    "# Define input JSON data for each validation file\n",
    "input_json_data = {\n",
    "    validation_file_name_1: {\"text\": docs},\n",
    "    validation_file_name_2: {\"text\": docs, \"masking_policy\": \"obfuscated\"},\n",
    "    validation_file_name_3: {\"text\": docs, \"masking_policy\": \"masked_fixed_length_chars\"},\n",
    "    validation_file_name_4: {\"text\": docs, \"masking_policy\": \"masked_with_chars\"},\n",
    "}\n",
    "\n",
    "# Write and upload each input JSON data to S3\n",
    "for file_name, json_data in input_json_data.items():\n",
    "    write_and_upload_to_s3(json_data, f\"{input_dir}/{file_name}\")"
   ]
  },
  {
   "cell_type": "code",
   "execution_count": null,
   "metadata": {
    "tags": []
   },
   "outputs": [],
   "source": [
    "# Initialize a SageMaker Transformer object for making predictions\n",
    "transformer = model.transformer(\n",
    "    instance_count=1,\n",
    "    instance_type=batch_transform_inference_instance_type,\n",
    "    accept=\"application/json\",\n",
    ")\n",
    "transformer.transform(validation_input_path, content_type=content_type)\n",
    "transformer.wait()"
   ]
  },
  {
   "cell_type": "code",
   "execution_count": 39,
   "metadata": {
    "tags": []
   },
   "outputs": [],
   "source": [
    "from urllib.parse import urlparse\n",
    "\n",
    "def process_s3_output_and_save(validation_file_name, output_file_name):\n",
    "\n",
    "    output_file_path = f\"{output_dir}/{output_file_name}\"\n",
    "    parsed_url = urlparse(transformer.output_path)\n",
    "    file_key = f\"{parsed_url.path[1:]}/{validation_file_name}.out\"\n",
    "    response = s3_client.get_object(Bucket=s3_bucket, Key=file_key)\n",
    "\n",
    "    data = json.loads(response[\"Body\"].read().decode(\"utf-8\"))\n",
    "    df = pd.DataFrame(data)\n",
    "    display(df)\n",
    "\n",
    "    # Save the data to the output file\n",
    "    with open(output_file_path, 'w', encoding='utf-8') as f_out:\n",
    "        json.dump(data, f_out, indent=4, ensure_ascii=False)"
   ]
  },
  {
   "cell_type": "markdown",
   "metadata": {},
   "source": [
    "#### masked (default-policy)"
   ]
  },
  {
   "cell_type": "code",
   "execution_count": 40,
   "metadata": {
    "tags": []
   },
   "outputs": [
    {
     "data": {
      "text/html": [
       "<div>\n",
       "<style scoped>\n",
       "    .dataframe tbody tr th:only-of-type {\n",
       "        vertical-align: middle;\n",
       "    }\n",
       "\n",
       "    .dataframe tbody tr th {\n",
       "        vertical-align: top;\n",
       "    }\n",
       "\n",
       "    .dataframe thead th {\n",
       "        text-align: right;\n",
       "    }\n",
       "</style>\n",
       "<table border=\"1\" class=\"dataframe\">\n",
       "  <thead>\n",
       "    <tr style=\"text-align: right;\">\n",
       "      <th></th>\n",
       "      <th>predictions</th>\n",
       "    </tr>\n",
       "  </thead>\n",
       "  <tbody>\n",
       "    <tr>\n",
       "      <th>0</th>\n",
       "      <td>Herr &lt;PATIENT&gt; - Telefon: &lt;ID&gt; - Beruf: &lt;PROFESSION&gt; an der &lt;ORGANIZATION&gt;. Er berichtet über Krankenhausaufenthalte im &lt;HOSPITAL&gt;, und die Akte zeigt weitere Krankenhausaufenthalte, darunter &lt;HOSPITAL&gt; im Jahr &lt;DATE&gt;, &lt;HOSPITAL&gt; am &lt;DATE&gt;, &lt;HOSPITAL&gt; im Jahr &lt;DATE&gt;.</td>\n",
       "    </tr>\n",
       "    <tr>\n",
       "      <th>1</th>\n",
       "      <td>Dr.  &lt;DOCTOR&gt; - &lt;USERNAME&gt;, &lt;HOSPITAL&gt;, &lt;STREET&gt;, &lt;CITY&gt;</td>\n",
       "    </tr>\n",
       "    <tr>\n",
       "      <th>2</th>\n",
       "      <td>Er arbeitete bis &lt;DATE&gt; - &lt;PROFESSION&gt; bei &lt;ORGANIZATION&gt; in &lt;CITY&gt;, verbrannte sich an beiden Beinen - entwickelte Geschwüre. Der Patient konsultierte Dr. &lt;DOCTOR&gt; im &lt;DATE&gt;.</td>\n",
       "    </tr>\n",
       "    <tr>\n",
       "      <th>3</th>\n",
       "      <td>Koronare Herzkrankheit : s/p ant SEMI + Stent LAD &lt;DATE&gt; , Dr . &lt;DOCTOR&gt; , ETT &lt;CITY&gt; &lt;DATE&gt; - neg . Scan auf Ischämie .</td>\n",
       "    </tr>\n",
       "  </tbody>\n",
       "</table>\n",
       "</div>"
      ],
      "text/plain": [
       "                                                                                                                                                                                                                                                                   predictions\n",
       "0  Herr <PATIENT> - Telefon: <ID> - Beruf: <PROFESSION> an der <ORGANIZATION>. Er berichtet über Krankenhausaufenthalte im <HOSPITAL>, und die Akte zeigt weitere Krankenhausaufenthalte, darunter <HOSPITAL> im Jahr <DATE>, <HOSPITAL> am <DATE>, <HOSPITAL> im Jahr <DATE>.\n",
       "1                                                                                                                                                                                                                     Dr.  <DOCTOR> - <USERNAME>, <HOSPITAL>, <STREET>, <CITY>\n",
       "2                                                                                              Er arbeitete bis <DATE> - <PROFESSION> bei <ORGANIZATION> in <CITY>, verbrannte sich an beiden Beinen - entwickelte Geschwüre. Der Patient konsultierte Dr. <DOCTOR> im <DATE>.\n",
       "3                                                                                                                                                     Koronare Herzkrankheit : s/p ant SEMI + Stent LAD <DATE> , Dr . <DOCTOR> , ETT <CITY> <DATE> - neg . Scan auf Ischämie ."
      ]
     },
     "metadata": {},
     "output_type": "display_data"
    }
   ],
   "source": [
    "process_s3_output_and_save(validation_file_name_1, \"out_1.out\")"
   ]
  },
  {
   "cell_type": "markdown",
   "metadata": {},
   "source": [
    "#### obfuscated"
   ]
  },
  {
   "cell_type": "code",
   "execution_count": 41,
   "metadata": {
    "tags": []
   },
   "outputs": [
    {
     "data": {
      "text/html": [
       "<div>\n",
       "<style scoped>\n",
       "    .dataframe tbody tr th:only-of-type {\n",
       "        vertical-align: middle;\n",
       "    }\n",
       "\n",
       "    .dataframe tbody tr th {\n",
       "        vertical-align: top;\n",
       "    }\n",
       "\n",
       "    .dataframe thead th {\n",
       "        text-align: right;\n",
       "    }\n",
       "</style>\n",
       "<table border=\"1\" class=\"dataframe\">\n",
       "  <thead>\n",
       "    <tr style=\"text-align: right;\">\n",
       "      <th></th>\n",
       "      <th>predictions</th>\n",
       "    </tr>\n",
       "  </thead>\n",
       "  <tbody>\n",
       "    <tr>\n",
       "      <th>0</th>\n",
       "      <td>Herr Jolanta Ullmann - Telefon: 1610960454 - Beruf: Webentwickler an der SYSCO. Er berichtet über Krankenhausaufenthalte im Sankt Elisabeth Krankenhaus Leipzig, und die Akte zeigt weitere Krankenhausaufenthalte, darunter Universitätsklinikum Göttingen im Jahr 2001, St. Petrus Klinikum am 28 Juli 2000, Krankenhaus Nabburg im Jahr 05/1966.</td>\n",
       "    </tr>\n",
       "    <tr>\n",
       "      <th>1</th>\n",
       "      <td>Dr.  Karl-Dieter Lukas - Jupiter.Schürmann, Klinikum Hannover-Süd, Heinweg 2/9, Hannover</td>\n",
       "    </tr>\n",
       "    <tr>\n",
       "      <th>2</th>\n",
       "      <td>Er arbeitete bis 24.08.1940 - IT-Administrator bei Belkin in Teterow, verbrannte sich an beiden Beinen - entwickelte Geschwüre. Der Patient konsultierte Dr. Sorgatz Junker im September.</td>\n",
       "    </tr>\n",
       "    <tr>\n",
       "      <th>3</th>\n",
       "      <td>Koronare Herzkrankheit : s/p ant SEMI + Stent LAD Aug/1963 , Dr . Simon Reuter , ETT Hohenmölsen 24.02.2009 - neg . Scan auf Ischämie .</td>\n",
       "    </tr>\n",
       "  </tbody>\n",
       "</table>\n",
       "</div>"
      ],
      "text/plain": [
       "                                                                                                                                                                                                                                                                                                                                           predictions\n",
       "0  Herr Jolanta Ullmann - Telefon: 1610960454 - Beruf: Webentwickler an der SYSCO. Er berichtet über Krankenhausaufenthalte im Sankt Elisabeth Krankenhaus Leipzig, und die Akte zeigt weitere Krankenhausaufenthalte, darunter Universitätsklinikum Göttingen im Jahr 2001, St. Petrus Klinikum am 28 Juli 2000, Krankenhaus Nabburg im Jahr 05/1966.\n",
       "1                                                                                                                                                                                                                                                             Dr.  Karl-Dieter Lukas - Jupiter.Schürmann, Klinikum Hannover-Süd, Heinweg 2/9, Hannover\n",
       "2                                                                                                                                                            Er arbeitete bis 24.08.1940 - IT-Administrator bei Belkin in Teterow, verbrannte sich an beiden Beinen - entwickelte Geschwüre. Der Patient konsultierte Dr. Sorgatz Junker im September.\n",
       "3                                                                                                                                                                                                              Koronare Herzkrankheit : s/p ant SEMI + Stent LAD Aug/1963 , Dr . Simon Reuter , ETT Hohenmölsen 24.02.2009 - neg . Scan auf Ischämie ."
      ]
     },
     "metadata": {},
     "output_type": "display_data"
    }
   ],
   "source": [
    "process_s3_output_and_save(validation_file_name_2, \"out_2.out\")"
   ]
  },
  {
   "cell_type": "markdown",
   "metadata": {},
   "source": [
    "#### masked_fixed_length_chars"
   ]
  },
  {
   "cell_type": "code",
   "execution_count": 42,
   "metadata": {
    "tags": []
   },
   "outputs": [
    {
     "data": {
      "text/html": [
       "<div>\n",
       "<style scoped>\n",
       "    .dataframe tbody tr th:only-of-type {\n",
       "        vertical-align: middle;\n",
       "    }\n",
       "\n",
       "    .dataframe tbody tr th {\n",
       "        vertical-align: top;\n",
       "    }\n",
       "\n",
       "    .dataframe thead th {\n",
       "        text-align: right;\n",
       "    }\n",
       "</style>\n",
       "<table border=\"1\" class=\"dataframe\">\n",
       "  <thead>\n",
       "    <tr style=\"text-align: right;\">\n",
       "      <th></th>\n",
       "      <th>predictions</th>\n",
       "    </tr>\n",
       "  </thead>\n",
       "  <tbody>\n",
       "    <tr>\n",
       "      <th>0</th>\n",
       "      <td>Herr **** - Telefon: **** - Beruf: **** an der ****. Er berichtet über Krankenhausaufenthalte im ****, und die Akte zeigt weitere Krankenhausaufenthalte, darunter **** im Jahr ****, **** am ****, **** im Jahr ****.</td>\n",
       "    </tr>\n",
       "    <tr>\n",
       "      <th>1</th>\n",
       "      <td>Dr.  **** - ****, ****, ****, ****</td>\n",
       "    </tr>\n",
       "    <tr>\n",
       "      <th>2</th>\n",
       "      <td>Er arbeitete bis **** - **** bei **** in ****, verbrannte sich an beiden Beinen - entwickelte Geschwüre. Der Patient konsultierte Dr. **** im ****.</td>\n",
       "    </tr>\n",
       "    <tr>\n",
       "      <th>3</th>\n",
       "      <td>Koronare Herzkrankheit : s/p ant SEMI + Stent LAD **** , Dr . **** , ETT **** **** - neg . Scan auf Ischämie .</td>\n",
       "    </tr>\n",
       "  </tbody>\n",
       "</table>\n",
       "</div>"
      ],
      "text/plain": [
       "                                                                                                                                                                                                              predictions\n",
       "0  Herr **** - Telefon: **** - Beruf: **** an der ****. Er berichtet über Krankenhausaufenthalte im ****, und die Akte zeigt weitere Krankenhausaufenthalte, darunter **** im Jahr ****, **** am ****, **** im Jahr ****.\n",
       "1                                                                                                                                                                                      Dr.  **** - ****, ****, ****, ****\n",
       "2                                                                     Er arbeitete bis **** - **** bei **** in ****, verbrannte sich an beiden Beinen - entwickelte Geschwüre. Der Patient konsultierte Dr. **** im ****.\n",
       "3                                                                                                          Koronare Herzkrankheit : s/p ant SEMI + Stent LAD **** , Dr . **** , ETT **** **** - neg . Scan auf Ischämie ."
      ]
     },
     "metadata": {},
     "output_type": "display_data"
    }
   ],
   "source": [
    "process_s3_output_and_save(validation_file_name_3, \"out_3.out\")"
   ]
  },
  {
   "cell_type": "markdown",
   "metadata": {},
   "source": [
    "#### masked_with_chars"
   ]
  },
  {
   "cell_type": "code",
   "execution_count": 43,
   "metadata": {
    "tags": []
   },
   "outputs": [
    {
     "data": {
      "text/html": [
       "<div>\n",
       "<style scoped>\n",
       "    .dataframe tbody tr th:only-of-type {\n",
       "        vertical-align: middle;\n",
       "    }\n",
       "\n",
       "    .dataframe tbody tr th {\n",
       "        vertical-align: top;\n",
       "    }\n",
       "\n",
       "    .dataframe thead th {\n",
       "        text-align: right;\n",
       "    }\n",
       "</style>\n",
       "<table border=\"1\" class=\"dataframe\">\n",
       "  <thead>\n",
       "    <tr style=\"text-align: right;\">\n",
       "      <th></th>\n",
       "      <th>predictions</th>\n",
       "    </tr>\n",
       "  </thead>\n",
       "  <tbody>\n",
       "    <tr>\n",
       "      <th>0</th>\n",
       "      <td>Herr [**] - Telefon: [********] - Beruf: [**] an der [*****************************]. Er berichtet über Krankenhausaufenthalte im [*******************], und die Akte zeigt weitere Krankenhausaufenthalte, darunter [**************] im Jahr [**], [************************] am [**********], [******************] im Jahr [*****].</td>\n",
       "    </tr>\n",
       "    <tr>\n",
       "      <th>1</th>\n",
       "      <td>Dr.  [********************] - [**], [***********************************], [****************], [*****]</td>\n",
       "    </tr>\n",
       "    <tr>\n",
       "      <th>2</th>\n",
       "      <td>Er arbeitete bis [********] - [*****] bei [***************] in [*****], verbrannte sich an beiden Beinen - entwickelte Geschwüre. Der Patient konsultierte Dr. [***] im [*******].</td>\n",
       "    </tr>\n",
       "    <tr>\n",
       "      <th>3</th>\n",
       "      <td>Koronare Herzkrankheit : s/p ant SEMI + Stent LAD [******] , Dr . [**********] , ETT [***********] [********] - neg . Scan auf Ischämie .</td>\n",
       "    </tr>\n",
       "  </tbody>\n",
       "</table>\n",
       "</div>"
      ],
      "text/plain": [
       "                                                                                                                                                                                                                                                                                                                             predictions\n",
       "0  Herr [**] - Telefon: [********] - Beruf: [**] an der [*****************************]. Er berichtet über Krankenhausaufenthalte im [*******************], und die Akte zeigt weitere Krankenhausaufenthalte, darunter [**************] im Jahr [**], [************************] am [**********], [******************] im Jahr [*****].\n",
       "1                                                                                                                                                                                                                                 Dr.  [********************] - [**], [***********************************], [****************], [*****]\n",
       "2                                                                                                                                                     Er arbeitete bis [********] - [*****] bei [***************] in [*****], verbrannte sich an beiden Beinen - entwickelte Geschwüre. Der Patient konsultierte Dr. [***] im [*******].\n",
       "3                                                                                                                                                                                              Koronare Herzkrankheit : s/p ant SEMI + Stent LAD [******] , Dr . [**********] , ETT [***********] [********] - neg . Scan auf Ischämie ."
      ]
     },
     "metadata": {},
     "output_type": "display_data"
    }
   ],
   "source": [
    "process_s3_output_and_save(validation_file_name_4, \"out_4.out\")"
   ]
  },
  {
   "cell_type": "code",
   "execution_count": 44,
   "metadata": {
    "tags": []
   },
   "outputs": [
    {
     "name": "stderr",
     "output_type": "stream",
     "text": [
      "INFO:sagemaker:Deleting model with name: de-deid-clinical-2024-04-02-17-49-33-976\n"
     ]
    }
   ],
   "source": [
    "model.delete_model()"
   ]
  },
  {
   "cell_type": "markdown",
   "metadata": {},
   "source": [
    "### Unsubscribe to the listing (optional)"
   ]
  },
  {
   "cell_type": "markdown",
   "metadata": {
    "tags": []
   },
   "source": [
    "If you would like to unsubscribe to the model package, follow these steps. Before you cancel the subscription, ensure that you do not have any [deployable model](https://console.aws.amazon.com/sagemaker/home#/models) created from the model package or using the algorithm. Note - You can find this information by looking at the container name associated with the model. \n",
    "\n",
    "**Steps to unsubscribe to product from AWS Marketplace**:\n",
    "1. Navigate to __Machine Learning__ tab on [__Your Software subscriptions page__](https://aws.amazon.com/marketplace/ai/library?productType=ml&ref_=mlmp_gitdemo_indust)\n",
    "2. Locate the listing that you want to cancel the subscription for, and then choose __Cancel Subscription__  to cancel the subscription.\n",
    "\n"
   ]
  }
 ],
 "metadata": {
  "instance_type": "ml.t3.medium",
  "kernelspec": {
   "display_name": "conda_python3",
   "language": "python",
   "name": "conda_python3"
  },
  "language_info": {
   "codemirror_mode": {
    "name": "ipython",
    "version": 3
   },
   "file_extension": ".py",
   "mimetype": "text/x-python",
   "name": "python",
   "nbconvert_exporter": "python",
   "pygments_lexer": "ipython3",
   "version": "3.10.13"
  }
 },
 "nbformat": 4,
 "nbformat_minor": 4
}

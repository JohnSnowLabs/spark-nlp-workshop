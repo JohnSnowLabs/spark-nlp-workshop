{
 "cells": [
  {
   "cell_type": "markdown",
   "metadata": {},
   "source": [
    "## 1. Subscribe to the model package"
   ]
  },
  {
   "cell_type": "markdown",
   "metadata": {},
   "source": [
    "To subscribe to the model package:\n",
    "1. Open the model package listing page <font color='red'> For Seller to update:[Title_of_your_product](Provide link to your marketplace listing of your product).</font>\n",
    "1. On the AWS Marketplace listing, click on the **Continue to subscribe** button.\n",
    "1. On the **Subscribe to this software** page, review and click on **\"Accept Offer\"** if you and your organization agrees with EULA, pricing, and support terms. \n",
    "1. Once you click on **Continue to configuration button** and then choose a **region**, you will see a **Product Arn** displayed. This is the model package ARN that you need to specify while creating a deployable model using Boto3. Copy the ARN corresponding to your region and specify the same in the following cell."
   ]
  },
  {
   "cell_type": "markdown",
   "metadata": {},
   "source": [
    "## Clinical Deidentification Arabic\n",
    "\n",
    "Deidentification is essential for safeguarding patient privacy in clinical data, including texts, PDFs, images, and DICOM files containing Protected Health Information (PHI). PHI encompasses various health-related data, including common identifiers such as name, address, birth date, and Social Security Number.\n",
    "\n",
    "- **Model**: `ar.deid.clinical`\n",
    "- **Model Description**: This pipeline can be used to deidentify Arabic PHI information from medical texts. The PHI information will be masked and obfuscated in the resulting text. The pipeline can mask and obfuscate CONTACT, NAME, DATE, ID, LOCATION, AGE, PATIENT, HOSPITAL, ORGANIZATION, CITY, STREET, USERNAME, SEX, IDNUM, EMAIL, ZIP, MEDICALRECORD, PROFESSION, PHONE, COUNTRY, DOCTOR, SSN, ACCOUNT, LICENSE, DLN and VIN"
   ]
  },
  {
   "cell_type": "code",
   "execution_count": 1,
   "metadata": {
    "tags": []
   },
   "outputs": [],
   "source": [
    "model_package_arn = \"<Customer to specify Model package ARN corresponding to their AWS region>\""
   ]
  },
  {
   "cell_type": "code",
   "execution_count": 24,
   "metadata": {
    "tags": []
   },
   "outputs": [],
   "source": [
    "import base64\n",
    "import json\n",
    "import uuid\n",
    "from sagemaker import ModelPackage\n",
    "import sagemaker as sage\n",
    "from sagemaker import get_execution_role\n",
    "import boto3\n",
    "from IPython.display import Image, display\n",
    "from PIL import Image as ImageEdit\n",
    "import numpy as np"
   ]
  },
  {
   "cell_type": "code",
   "execution_count": 25,
   "metadata": {
    "tags": []
   },
   "outputs": [],
   "source": [
    "sagemaker_session = sage.Session()\n",
    "s3_bucket = sagemaker_session.default_bucket()\n",
    "region = sagemaker_session.boto_region_name\n",
    "account_id = boto3.client(\"sts\").get_caller_identity().get(\"Account\")\n",
    "role = get_execution_role()\n",
    "\n",
    "sagemaker = boto3.client(\"sagemaker\")\n",
    "s3_client = sagemaker_session.boto_session.client(\"s3\")\n",
    "ecr = boto3.client(\"ecr\")\n",
    "sm_runtime = boto3.client(\"sagemaker-runtime\")"
   ]
  },
  {
   "cell_type": "markdown",
   "metadata": {},
   "source": [
    "## 2. Create an endpoint and perform real-time inference"
   ]
  },
  {
   "cell_type": "markdown",
   "metadata": {},
   "source": [
    "If you want to understand how real-time inference with Amazon SageMaker works, see [Documentation](https://docs.aws.amazon.com/sagemaker/latest/dg/how-it-works-hosting.html)."
   ]
  },
  {
   "cell_type": "code",
   "execution_count": 38,
   "metadata": {
    "tags": []
   },
   "outputs": [],
   "source": [
    "model_name = \"ar-deid-clinical\"\n",
    "\n",
    "real_time_inference_instance_type = \"ml.m4.xlarge\"\n",
    "batch_transform_inference_instance_type = \"ml.m4.xlarge\"\n"
   ]
  },
  {
   "cell_type": "markdown",
   "metadata": {},
   "source": [
    "### A. Create an endpoint"
   ]
  },
  {
   "cell_type": "code",
   "execution_count": 39,
   "metadata": {
    "tags": []
   },
   "outputs": [
    {
     "name": "stderr",
     "output_type": "stream",
     "text": [
      "INFO:sagemaker:Creating model with name: ar-deid-clinical-2024-05-02-18-15-25-696\n",
      "INFO:sagemaker:Creating endpoint-config with name ar-deid-clinical\n",
      "INFO:sagemaker:Creating endpoint with name ar-deid-clinical\n"
     ]
    },
    {
     "name": "stdout",
     "output_type": "stream",
     "text": [
      "---------!"
     ]
    }
   ],
   "source": [
    "# create a deployable model from the model package.\n",
    "model = ModelPackage(\n",
    "    role=role, model_package_arn=model_package_arn, sagemaker_session=sagemaker_session\n",
    ")\n",
    "\n",
    "# Deploy the model\n",
    "predictor = model.deploy(1, real_time_inference_instance_type, endpoint_name=model_name)"
   ]
  },
  {
   "cell_type": "markdown",
   "metadata": {},
   "source": [
    "Once endpoint has been created, you would be able to perform real-time inference."
   ]
  },
  {
   "cell_type": "code",
   "execution_count": 40,
   "metadata": {
    "tags": []
   },
   "outputs": [],
   "source": [
    "import json\n",
    "import pandas as pd\n",
    "import os\n",
    "import boto3\n",
    "\n",
    "# Set display options\n",
    "pd.set_option('display.max_rows', None)\n",
    "pd.set_option('display.max_columns', None)\n",
    "pd.set_option('display.max_colwidth', None)\n",
    "\n",
    "def process_data_and_invoke_realtime_endpoint(data, content_type, accept):\n",
    "\n",
    "    content_type_to_format = {'application/json': 'json', 'application/jsonlines': 'jsonl'}\n",
    "    input_format = content_type_to_format.get(content_type)\n",
    "    if content_type not in content_type_to_format.keys() or accept not in content_type_to_format.keys():\n",
    "        raise ValueError(\"Invalid content_type or accept. It should be either 'application/json' or 'application/jsonlines'.\")\n",
    "\n",
    "    i = 1\n",
    "    input_dir = f'inputs/real-time/{input_format}'\n",
    "    output_dir = f'outputs/real-time/{input_format}'\n",
    "    s3_input_dir = f\"{model_name}/validation-input/real-time/{input_format}\"\n",
    "    s3_output_dir = f\"{model_name}/validation-output/real-time/{input_format}\"\n",
    "\n",
    "    input_file_name = f'{input_dir}/input{i}.{input_format}'\n",
    "    output_file_name = f'{output_dir}/{os.path.basename(input_file_name)}.out'\n",
    "\n",
    "    while os.path.exists(input_file_name) or os.path.exists(output_file_name):\n",
    "        i += 1\n",
    "        input_file_name = f'{input_dir}/input{i}.{input_format}'\n",
    "        output_file_name = f'{output_dir}/{os.path.basename(input_file_name)}.out'\n",
    "\n",
    "\n",
    "    os.makedirs(os.path.dirname(input_file_name), exist_ok=True)\n",
    "    os.makedirs(os.path.dirname(output_file_name), exist_ok=True)\n",
    "    \n",
    "    input_data = json.dumps(data, indent=4, ensure_ascii=False) if content_type == 'application/json' else data\n",
    "\n",
    "\n",
    "    if content_type == 'application/json':\n",
    "        with open(input_file_name, \"w\", encoding='utf-8') as f:\n",
    "            f.write(input_data)\n",
    "    else:\n",
    "        with open(input_file_name, 'w', encoding='utf-8') as file:\n",
    "            for line in input_data.splitlines():\n",
    "                json_object = json.loads(line)\n",
    "                file.write(json.dumps(json_object, ensure_ascii=False) + '\\n')\n",
    "\n",
    "    with open(input_file_name, 'rb') as data:\n",
    "        s3_client.put_object(Bucket=s3_bucket, Key=f\"{s3_input_dir}/{os.path.basename(input_file_name)}\", Body=data)\n",
    "\n",
    "    # Invoke the SageMaker endpoint\n",
    "    response = sm_runtime.invoke_endpoint(\n",
    "        EndpointName=model_name,\n",
    "        ContentType=content_type,\n",
    "        Accept=accept,\n",
    "        Body=input_data,\n",
    "    )\n",
    "\n",
    "    # Read response data\n",
    "    response_data = json.loads(response[\"Body\"].read().decode(\"utf-8\")) if accept == 'application/json' else response['Body'].read().decode('utf-8')\n",
    "\n",
    "    # Save response data to file\n",
    "    with open(output_file_name, 'w') as f_out:\n",
    "        if accept == 'application/json':\n",
    "            json.dump(response_data, f_out, indent=4, ensure_ascii=False)\n",
    "        else:\n",
    "            for item in response_data.split('\\n'):\n",
    "                f_out.write(item + '\\n')\n",
    "\n",
    "    with open(output_file_name, 'rb') as data:\n",
    "        s3_client.put_object(Bucket=s3_bucket, Key=f\"{s3_output_dir}/{os.path.basename(output_file_name)}\", Body=data)\n",
    "\n",
    "    return response_data"
   ]
  },
  {
   "cell_type": "markdown",
   "metadata": {},
   "source": [
    "### Initial Setup"
   ]
  },
  {
   "cell_type": "code",
   "execution_count": 41,
   "metadata": {
    "tags": []
   },
   "outputs": [],
   "source": [
    "docs = [\"\"\"ملاحظات سريرية - مريض السكري:\n",
    "التاريخ: 30 مايو 2023\n",
    "اسم المريض: فاطمة علي\n",
    "العنوان: شارع الحرية، مبنى رقم 456، حي السلام، القاهرة\n",
    "الرمز البريدي: 67890\n",
    "البلد: مصر\n",
    "اسم المستشفى: مستشفى الشفاء\n",
    "اسم الطبيب: د. محمد صلاح\n",
    "تفاصيل الحالة:\n",
    "المريضة فاطمة علي، البالغة من العمر 42 عامًا، مصابة بمرض السكري من النوع 2. تشكو من زيادة في العطش والجوع المفرط والتبول المتكرر. تم تشخيصها بمرض السكري بعد فحص شامل وفحوصات مخبرية.\n",
    "الخطة:\n",
    "تم وصف دواء فموي لخفض مستوى السكر في الدم.\n",
    "يجب على المريضة مراجعة الطبيب بانتظام وإجراء اختبارات السكر في الدم بانتظام.\n",
    "يتعين على المريضة اتباع نظام غذائي صحي ومتوازن، يشمل الحد من استهلاك السكريات والنشويات.\n",
    "يجب مراقبة ضغط الدم والكولسترول أيضًا ومراعاة التعليمات الطبية المتعلقة بتلك الحالات.\n",
    "تعليم المريضة بشأن أعراض الارتفاع أو الانخفاض الحاد في مستوى السكر في الدم وكيفية التعامل معها.\"\"\",\n",
    "\n",
    "\"\"\"ملاحظات سريرية - مريض الربو:\n",
    "التاريخ: 30 مايو 2023\n",
    "اسم المريضة: ليلى حسن\n",
    "العنوان: شارع المعرفة، مبنى رقم 789، حي الأمانة، جدة\n",
    "الرمز البريدي: 54321\n",
    "البلد: المملكة العربية السعودية\n",
    "اسم المستشفى: مستشفى النور\n",
    "اسم الطبيب: د. أميرة أحمد\n",
    "تفاصيل الحالة:\n",
    "المريضة ليلى حسن، البالغة من العمر 35 عامًا، تعاني من مرض الربو المزمن. تشكو من ضيق التنفس والسعال المتكرر والشهيق الشديد. تم تشخيصها بمرض الربو بناءً على تاريخها الطبي واختبارات وظائف الرئة.\n",
    "الخطة:\n",
    "تم وصف مضادات الالتهاب غير الستيرويدية والموسعات القصبية لتحسين التنفس وتقليل التهيج.\n",
    "يجب على المريضة حمل معها جهاز الاستنشاق في حالة حدوث نوبة ربو حادة.\n",
    "يتعين على المريضة تجنب التحسس من العوامل المسببة للربو، مثل الدخان والغبار والحيوانات الأليفة.\n",
    "يجب مراقبة وظائف الرئة بانتظام ومتابعة التعليمات الطبية المتعلقة بمرض الربو.\n",
    "تعليم المريضة بشأن كيفية استخدام جهاز الاستنشاق بشكل صحيح وتقنيات التنفس الصحيح\"\"\",\n",
    "\n",
    "\"\"\"ملاحظات سريرية - مريض الضغط العالي:\n",
    "التاريخ: 30 مايو 2023\n",
    "اسم المريض: خالد محمد\n",
    "العنوان: شارع الشفاء، مبنى رقم 321، حي السعادة، الإسكندرية\n",
    "الرمز البريدي: 12345\n",
    "البلد: مصر\n",
    "اسم المستشفى: مستشفى الرحمة\n",
    "اسم الطبيب: د. ليلى علي\n",
    "تفاصيل الحالة:\n",
    "المريض خالد محمد، البالغ من العمر 60 عامًا، يعاني من ضغط الدم الارتفاعي. يشكو من الصداع المستمر والدوخة والتعب الشديد. تم تشخيصه بارتفاع ضغط الدم بعد فحص شامل وقياسات متكررة.\n",
    "الخطة:\n",
    "تم وصف دواءًا لخفض ضغط الدم ومراقبة المستويات بانتظام.\n",
    "يجب على المريض مراجعة الطبيب بانتظام لتقييم استجابته للعلاج وضبط الجرعات إن لزم الأمر.\n",
    "تعليم المريض بشأن أهمية اتباع نمط حياة صحي، بما في ذلك تجنب الأطعمة الغنية بالصوديوم وممارسة الرياضة بانتظام.\n",
    "يتعين على المريض مراقبة الوزن وتجنب التوتر النفسي والتدخين.\n",
    "ينصح المريض بإجراء فحوصات الكولسترول والسكر في الدم بانتظام.\"\"\",\n",
    "\n",
    "\"\"\"ملاحظات سريرية - مريضة الغدة الدرقية:\n",
    "التاريخ: 30 مايو 2023\n",
    "اسم المريضة: سارة عبد الرحمن\n",
    "العنوان: شارع النجاح، مبنى رقم 987، حي الأمل، القاهرة\n",
    "الرمز البريدي: 67890\n",
    "البلد: مصر\n",
    "اسم المستشفى: مستشفى الأمل\n",
    "اسم الطبيب: د. أحمد مصطفى\n",
    "تفاصيل الحالة:\n",
    "المريضة سارة عبد الرحمن، البالغة من العمر 45 عامًا، تعاني من اضطرابات في الغدة الدرقية. تشكو من زيادة الوزن والتعب والاكتئاب. تم تشخيصها بفرط نشاط الغدة الدرقية بعد فحص الدم والتحاليل المخبرية.\n",
    "الخطة:\n",
    "تم وصف العلاج الدوائي لتنظيم وظيفة الغدة الدرقية ومراقبة المستويات الهرمونية بانتظام.\n",
    "يجب على المريضة مراجعة الطبيب بانتظام لتقييم استجابتها للعلاج وضبط الجرعات إن لزم الأمر.\n",
    "تعليم المريضة بشأن أهمية اتباع نمط حياة صحي، بما في ذلك تناول الغذاء الصحي وممارسة النشاط البدني بانتظام.\n",
    "ينصح المريضة بإجراء فحوصات الدم الدورية لمتابعة مستويات الهرمونات وضبط العلاج.\n",
    "تعليم المريضة بشأن الأعراض التي يجب عليها مراقبتها والتقارير الفورية للطبيب، مثل التعب الشديد أو زيادة الوزن المفرط.\"\"\",\n",
    "]\n",
    "\n",
    "\n",
    "sample_text = \"\"\"ملاحظات سريرية - مريض الربو:\n",
    "التاريخ: 30 مايو 2023\n",
    "اسم المريض: أحمد سليمان\n",
    "العنوان: شارع السلام، مبنى رقم 555، حي الصفاء، الرياض\n",
    "الرمز البريدي: 54321\n",
    "البلد: المملكة العربية السعودية\n",
    "اسم المستشفى: مستشفى الأمانة\n",
    "اسم الطبيب: د. ريم الحمد\n",
    "تفاصيل الحالة:\n",
    "المريض أحمد سليمان، البالغ من العمر 30 عامًا، يعاني من مرض الربو المزمن. يشكو من ضيق التنفس والسعال المتكرر والشهيق الشديد. تم تشخيصه بمرض الربو بناءً على تاريخه الطبي واختبارات وظائف الرئة.\n",
    "الخطة:\n",
    "تم وصف مضادات الالتهاب غير الستيرويدية والموسعات القصبية لتحسين التنفس وتقليل التهيج.\n",
    "يجب على المريض مراجعة الطبيب بانتظام وتنظيم استخدام جهاز الاستنشاق وفحص وظائف الرئة بانتظام.\n",
    "ينصح المريض بتجنب التحسس من العوامل المسببة للربو وتجنب التدخين.\n",
    "يجب على المريض مراقبة الأعراض وتسجيلها والتقارير الفورية للطبيب في حالة حدوث نوبة ربو حادة.\n",
    "تعليم المريض بشأن تقنيات التنفس الصحيحة وكيفية استخدام جهاز الاستنشاق بشكل صحيح.\"\"\""
   ]
  },
  {
   "cell_type": "markdown",
   "metadata": {},
   "source": [
    "### Important Parameters\n",
    "\n",
    "- **masking_policy**: `str`\n",
    "\n",
    "    Users can select a masking policy to determine how sensitive entities are handled:\n",
    "\n",
    "    - **masked**: Default policy that masks entities with their type.\n",
    "\n",
    "    - **obfuscated**: Replaces sensitive entities with random values of the same type.\n",
    "\n",
    "    - **masked_fixed_length_chars**: Masks entities with a fixed length of asterisks (\\*).\n",
    "\n",
    "    - **masked_with_chars**: Masks entities with asterisks (\\*).\n",
    "\n",
    "\n",
    "- **sep**: `str`\n",
    "\n",
    "    Separator used to join subparts within each prediction.\n",
    "\n",
    "    By default, the separator is set to a single space (\" \"), but users can specify any other separator as needed. Necessary because the model outputs predictions as separate subparts, and the chosen separator is used to join them into coherent text.\n",
    "\n",
    "    The separator must be one of the following characters: space (' '), newline ('\\n'), comma (','), tab ('\\t'), or colon (':').\n",
    "    \n",
    "You can specify these parameters in the input as follows:\n",
    "\n",
    "```json\n",
    "{\n",
    "    \"text\": [\n",
    "        \"Text document 1\",\n",
    "        \"Text document 2\",\n",
    "        ...\n",
    "    ],\n",
    "    \"masking_policy\": \"masked\",\n",
    "    \"sep\": \" \",\n",
    "}\n",
    "```"
   ]
  },
  {
   "cell_type": "markdown",
   "metadata": {},
   "source": [
    "### JSON"
   ]
  },
  {
   "cell_type": "markdown",
   "metadata": {
    "tags": []
   },
   "source": [
    "\n",
    "1. **Input format**: Single Text Document\n",
    "\n",
    "Provide a single text document as a string.\n",
    "\n",
    "  \n",
    "  \n",
    "```json\n",
    "{\n",
    "    \"text\": \"Single text document\"\n",
    "}\n",
    "```\n",
    "\n",
    "2. **Input format**: Array of Text Documents\n",
    "\n",
    "Use an array containing multiple text documents. Each element represents a separate text document.\n",
    "\n",
    "```json\n",
    "{\n",
    "    \"text\": [\n",
    "        \"Text document 1\",\n",
    "        \"Text document 2\",\n",
    "        ...\n",
    "    ]\n",
    "}\n",
    "```"
   ]
  },
  {
   "cell_type": "markdown",
   "metadata": {
    "tags": []
   },
   "source": [
    "#### Example 1: masked (default-policy)"
   ]
  },
  {
   "cell_type": "code",
   "execution_count": 42,
   "metadata": {
    "tags": []
   },
   "outputs": [
    {
     "data": {
      "text/html": [
       "<div>\n",
       "<style scoped>\n",
       "    .dataframe tbody tr th:only-of-type {\n",
       "        vertical-align: middle;\n",
       "    }\n",
       "\n",
       "    .dataframe tbody tr th {\n",
       "        vertical-align: top;\n",
       "    }\n",
       "\n",
       "    .dataframe thead th {\n",
       "        text-align: right;\n",
       "    }\n",
       "</style>\n",
       "<table border=\"1\" class=\"dataframe\">\n",
       "  <thead>\n",
       "    <tr style=\"text-align: right;\">\n",
       "      <th></th>\n",
       "      <th>predictions</th>\n",
       "    </tr>\n",
       "  </thead>\n",
       "  <tbody>\n",
       "    <tr>\n",
       "      <th>0</th>\n",
       "      <td>ملاحظات سريرية - مريض الربو:\\nالتاريخ: [تاريخ] [تاريخ] اسم المريض: [دكتور] العنوان: شارع السلام، مبنى رقم [الرمز البريدي] حي [الموقع] الرمز البريدي: [الرمز البريدي] البلد: [المدينة] [البلد] اسم المستشفى: مستشفى الأمانة اسم الطبيب: د. [دكتور] تفاصيل الحالة:\\nالمريض أحمد سليمان، البالغ من العمر [العمر]عامًا، يعاني من مرض الربو المزمن. يشكو من ضيق التنفس والسعال المتكرر والشهيق الشديد. تم تشخيصه بمرض الربو بناءً على تاريخه الطبي واختبارات وظائف الرئة. الخطة:\\nتم وصف مضادات الالتهاب غير الستيرويدية والموسعات القصبية لتحسين التنفس وتقليل التهيج. يجب على المريض مراجعة الطبيب بانتظام وتنظيم استخدام جهاز الاستنشاق وفحص وظائف الرئة بانتظام. ينصح المريض بتجنب التحسس من العوامل المسببة للربو وتجنب التدخين. يجب على المريض مراقبة الأعراض وتسجيلها والتقارير الفورية للطبيب في حالة حدوث نوبة ربو حادة. تعليم المريض بشأن تقنيات التنفس الصحيحة وكيفية استخدام جهاز الاستنشاق بشكل صحيح.</td>\n",
       "    </tr>\n",
       "  </tbody>\n",
       "</table>\n",
       "</div>"
      ],
      "text/plain": [
       "                                                                                                                                                                                                                                                                                                                                                                                                                                                                                                                                                                                                                                                                                                                                                                                                                                                                                                     predictions\n",
       "0  ملاحظات سريرية - مريض الربو:\\nالتاريخ: [تاريخ] [تاريخ] اسم المريض: [دكتور] العنوان: شارع السلام، مبنى رقم [الرمز البريدي] حي [الموقع] الرمز البريدي: [الرمز البريدي] البلد: [المدينة] [البلد] اسم المستشفى: مستشفى الأمانة اسم الطبيب: د. [دكتور] تفاصيل الحالة:\\nالمريض أحمد سليمان، البالغ من العمر [العمر]عامًا، يعاني من مرض الربو المزمن. يشكو من ضيق التنفس والسعال المتكرر والشهيق الشديد. تم تشخيصه بمرض الربو بناءً على تاريخه الطبي واختبارات وظائف الرئة. الخطة:\\nتم وصف مضادات الالتهاب غير الستيرويدية والموسعات القصبية لتحسين التنفس وتقليل التهيج. يجب على المريض مراجعة الطبيب بانتظام وتنظيم استخدام جهاز الاستنشاق وفحص وظائف الرئة بانتظام. ينصح المريض بتجنب التحسس من العوامل المسببة للربو وتجنب التدخين. يجب على المريض مراقبة الأعراض وتسجيلها والتقارير الفورية للطبيب في حالة حدوث نوبة ربو حادة. تعليم المريض بشأن تقنيات التنفس الصحيحة وكيفية استخدام جهاز الاستنشاق بشكل صحيح."
      ]
     },
     "execution_count": 42,
     "metadata": {},
     "output_type": "execute_result"
    }
   ],
   "source": [
    "input_json_data = {\"text\": sample_text}\n",
    "\n",
    "data =  process_data_and_invoke_realtime_endpoint(input_json_data, content_type=\"application/json\" , accept=\"application/json\" )\n",
    "\n",
    "pd.DataFrame(data)"
   ]
  },
  {
   "cell_type": "markdown",
   "metadata": {},
   "source": [
    "#### Example 2: obfuscated"
   ]
  },
  {
   "cell_type": "code",
   "execution_count": 43,
   "metadata": {
    "tags": []
   },
   "outputs": [
    {
     "data": {
      "text/html": [
       "<div>\n",
       "<style scoped>\n",
       "    .dataframe tbody tr th:only-of-type {\n",
       "        vertical-align: middle;\n",
       "    }\n",
       "\n",
       "    .dataframe tbody tr th {\n",
       "        vertical-align: top;\n",
       "    }\n",
       "\n",
       "    .dataframe thead th {\n",
       "        text-align: right;\n",
       "    }\n",
       "</style>\n",
       "<table border=\"1\" class=\"dataframe\">\n",
       "  <thead>\n",
       "    <tr style=\"text-align: right;\">\n",
       "      <th></th>\n",
       "      <th>predictions</th>\n",
       "    </tr>\n",
       "  </thead>\n",
       "  <tbody>\n",
       "    <tr>\n",
       "      <th>0</th>\n",
       "      <td>ملاحظات سريرية - مريض الربو:\\nالتاريخ: 30 يونيو 2024 اسم المريض: خضر شحادة العنوان: شارع السلام، مبنى رقم 161، حي شارع المستقبل الرمز البريدي: 09604 البلد: زغوان الغربية أوزبكستان اسم المستشفى: مستشفى الأمانة اسم الطبيب: د. صالحة قاسم تفاصيل الحالة:\\nالمريض أحمد سليمان، البالغ من العمر 38عامًا، يعاني من مرض الربو المزمن. يشكو من ضيق التنفس والسعال المتكرر والشهيق الشديد. تم تشخيصه بمرض الربو بناءً على تاريخه الطبي واختبارات وظائف الرئة. الخطة:\\nتم وصف مضادات الالتهاب غير الستيرويدية والموسعات القصبية لتحسين التنفس وتقليل التهيج. يجب على المريض مراجعة الطبيب بانتظام وتنظيم استخدام جهاز الاستنشاق وفحص وظائف الرئة بانتظام. ينصح المريض بتجنب التحسس من العوامل المسببة للربو وتجنب التدخين. يجب على المريض مراقبة الأعراض وتسجيلها والتقارير الفورية للطبيب في حالة حدوث نوبة ربو حادة. تعليم المريض بشأن تقنيات التنفس الصحيحة وكيفية استخدام جهاز الاستنشاق بشكل صحيح.</td>\n",
       "    </tr>\n",
       "  </tbody>\n",
       "</table>\n",
       "</div>"
      ],
      "text/plain": [
       "                                                                                                                                                                                                                                                                                                                                                                                                                                                                                                                                                                                                                                                                                                                                                                                                                                                                                         predictions\n",
       "0  ملاحظات سريرية - مريض الربو:\\nالتاريخ: 30 يونيو 2024 اسم المريض: خضر شحادة العنوان: شارع السلام، مبنى رقم 161، حي شارع المستقبل الرمز البريدي: 09604 البلد: زغوان الغربية أوزبكستان اسم المستشفى: مستشفى الأمانة اسم الطبيب: د. صالحة قاسم تفاصيل الحالة:\\nالمريض أحمد سليمان، البالغ من العمر 38عامًا، يعاني من مرض الربو المزمن. يشكو من ضيق التنفس والسعال المتكرر والشهيق الشديد. تم تشخيصه بمرض الربو بناءً على تاريخه الطبي واختبارات وظائف الرئة. الخطة:\\nتم وصف مضادات الالتهاب غير الستيرويدية والموسعات القصبية لتحسين التنفس وتقليل التهيج. يجب على المريض مراجعة الطبيب بانتظام وتنظيم استخدام جهاز الاستنشاق وفحص وظائف الرئة بانتظام. ينصح المريض بتجنب التحسس من العوامل المسببة للربو وتجنب التدخين. يجب على المريض مراقبة الأعراض وتسجيلها والتقارير الفورية للطبيب في حالة حدوث نوبة ربو حادة. تعليم المريض بشأن تقنيات التنفس الصحيحة وكيفية استخدام جهاز الاستنشاق بشكل صحيح."
      ]
     },
     "execution_count": 43,
     "metadata": {},
     "output_type": "execute_result"
    }
   ],
   "source": [
    "input_json_data = {\"text\": sample_text, \"masking_policy\": \"obfuscated\"}\n",
    "\n",
    "data =  process_data_and_invoke_realtime_endpoint(input_json_data, content_type=\"application/json\" , accept=\"application/json\" )\n",
    "\n",
    "pd.DataFrame(data)"
   ]
  },
  {
   "cell_type": "markdown",
   "metadata": {},
   "source": [
    "#### Example 3: masked (default-policy)"
   ]
  },
  {
   "cell_type": "code",
   "execution_count": 44,
   "metadata": {
    "tags": []
   },
   "outputs": [
    {
     "data": {
      "text/html": [
       "<div>\n",
       "<style scoped>\n",
       "    .dataframe tbody tr th:only-of-type {\n",
       "        vertical-align: middle;\n",
       "    }\n",
       "\n",
       "    .dataframe tbody tr th {\n",
       "        vertical-align: top;\n",
       "    }\n",
       "\n",
       "    .dataframe thead th {\n",
       "        text-align: right;\n",
       "    }\n",
       "</style>\n",
       "<table border=\"1\" class=\"dataframe\">\n",
       "  <thead>\n",
       "    <tr style=\"text-align: right;\">\n",
       "      <th></th>\n",
       "      <th>predictions</th>\n",
       "    </tr>\n",
       "  </thead>\n",
       "  <tbody>\n",
       "    <tr>\n",
       "      <th>0</th>\n",
       "      <td>ملاحظات سريرية - مريض السكري:\\nالتاريخ: [تاريخ] [تاريخ] اسم المريض: [الاسم] العنوان: شارع الحرية، مبنى رقم [الرمز البريدي] حي السلام، [المدينة] الرمز البريدي: [الرمز البريدي] البلد: [البلد] اسم المستشفى: مستشفى الشفاء اسم الطبيب: د. [دكتور] تفاصيل الحالة:\\nالمريضة فاطمة علي، البالغة من العمر [العمر]عامًا، مصابة بمرض السكري من النوع 2. تشكو من زيادة في العطش والجوع المفرط والتبول المتكرر. تم تشخيصها بمرض السكري بعد فحص شامل وفحوصات مخبرية. الخطة:\\nتم وصف دواء فموي لخفض مستوى السكر في الدم. يجب على المريضة مراجعة الطبيب بانتظام وإجراء اختبارات السكر في الدم بانتظام. يتعين على المريضة اتباع نظام غذائي صحي ومتوازن، يشمل الحد من استهلاك السكريات والنشويات. يجب مراقبة ضغط الدم والكولسترول أيضًا ومراعاة التعليمات الطبية المتعلقة بتلك الحالات. تعليم المريضة بشأن أعراض الارتفاع أو الانخفاض الحاد في مستوى السكر في الدم وكيفية التعامل معها.</td>\n",
       "    </tr>\n",
       "    <tr>\n",
       "      <th>1</th>\n",
       "      <td>ملاحظات سريرية - مريض الربو:\\nالتاريخ: [تاريخ] [تاريخ] اسم المريضة: [المريض] العنوان: شارع المعرفة، مبنى رقم [الرمز البريدي] حي [الموقع] الرمز البريدي: [الرمز البريدي] البلد: [المدينة] [البلد] اسم المستشفى: [الموقع] اسم الطبيب: د. [دكتور] تفاصيل الحالة:\\nالمريضة [المريض] حسن، البالغة من العمر [العمر]عامًا، تعاني من مرض الربو المزمن. تشكو من ضيق التنفس والسعال المتكرر والشهيق الشديد. تم تشخيصها بمرض الربو بناءً على تاريخها الطبي واختبارات وظائف الرئة. الخطة:\\nتم وصف مضادات الالتهاب غير الستيرويدية والموسعات القصبية لتحسين التنفس وتقليل التهيج. يجب على المريضة حمل معها جهاز الاستنشاق في حالة حدوث نوبة ربو حادة. يتعين على المريضة تجنب التحسس من العوامل المسببة للربو، مثل الدخان والغبار والحيوانات الأليفة. يجب مراقبة وظائف الرئة بانتظام ومتابعة التعليمات الطبية المتعلقة بمرض الربو. \\nتعليم المريضة بشأن كيفية استخدام جهاز الاستنشاق بشكل صحيح وتقنيات التنفس الصحيح</td>\n",
       "    </tr>\n",
       "    <tr>\n",
       "      <th>2</th>\n",
       "      <td>ملاحظات سريرية - مريض الضغط العالي:\\nالتاريخ: [تاريخ] [تاريخ] اسم المريض: [المريض] العنوان: شارع الشفاء، مبنى رقم [٭٭٭٭٭٭٭] حي السعادة، [المدينة] الرمز البريدي: [الرمز البريدي] البلد: [البلد] اسم المستشفى: مستشفى الرحمة اسم الطبيب: د. [دكتور] تفاصيل الحالة:\\nالمريض خالد محمد، البالغ من العمر [العمر]عامًا، يعاني من ضغط الدم الارتفاعي. يشكو من الصداع المستمر والدوخة والتعب الشديد. تم تشخيصه بارتفاع ضغط الدم بعد فحص شامل وقياسات متكررة. الخطة:\\nتم وصف دواءًا لخفض ضغط الدم ومراقبة المستويات بانتظام. يجب على المريض مراجعة الطبيب بانتظام لتقييم استجابته للعلاج وضبط الجرعات إن لزم الأمر. تعليم المريض بشأن أهمية اتباع نمط حياة صحي، بما في ذلك تجنب الأطعمة الغنية بالصوديوم وممارسة الرياضة بانتظام. يتعين على المريض مراقبة الوزن وتجنب التوتر النفسي والتدخين. ينصح المريض بإجراء فحوصات الكولسترول والسكر في الدم بانتظام.</td>\n",
       "    </tr>\n",
       "    <tr>\n",
       "      <th>3</th>\n",
       "      <td>ملاحظات سريرية - مريضة الغدة الدرقية:\\nالتاريخ: [تاريخ] [تاريخ] اسم المريضة: [دكتور] العنوان: شارع النجاح، مبنى رقم [الرمز البريدي] حي [المدينة] [المدينة] الرمز البريدي: [الرمز البريدي] البلد: [البلد] اسم المستشفى: مستشفى الأمل اسم الطبيب: د. [الاسم] تفاصيل الحالة:\\nالمريضة [المريض] البالغة من العمر [العمر]عامًا، تعاني من اضطرابات في الغدة الدرقية. تشكو من زيادة الوزن والتعب والاكتئاب. تم تشخيصها بفرط نشاط الغدة الدرقية بعد فحص الدم والتحاليل المخبرية. الخطة:\\nتم وصف العلاج الدوائي لتنظيم وظيفة الغدة الدرقية ومراقبة المستويات الهرمونية بانتظام. يجب على المريضة مراجعة الطبيب بانتظام لتقييم استجابتها للعلاج وضبط الجرعات إن لزم الأمر. تعليم المريضة بشأن أهمية اتباع نمط حياة صحي، بما في ذلك تناول الغذاء الصحي وممارسة النشاط البدني بانتظام. ينصح المريضة بإجراء فحوصات الدم الدورية لمتابعة مستويات الهرمونات وضبط العلاج. تعليم المريضة بشأن الأعراض التي يجب عليها مراقبتها والتقارير الفورية للطبيب، مثل التعب الشديد أو زيادة الوزن المفرط.</td>\n",
       "    </tr>\n",
       "  </tbody>\n",
       "</table>\n",
       "</div>"
      ],
      "text/plain": [
       "                                                                                                                                                                                                                                                                                                                                                                                                                                                                                                                                                                                                                                                                                                                                                                                                                                                                                                                                                                     predictions\n",
       "0                                                                                                      ملاحظات سريرية - مريض السكري:\\nالتاريخ: [تاريخ] [تاريخ] اسم المريض: [الاسم] العنوان: شارع الحرية، مبنى رقم [الرمز البريدي] حي السلام، [المدينة] الرمز البريدي: [الرمز البريدي] البلد: [البلد] اسم المستشفى: مستشفى الشفاء اسم الطبيب: د. [دكتور] تفاصيل الحالة:\\nالمريضة فاطمة علي، البالغة من العمر [العمر]عامًا، مصابة بمرض السكري من النوع 2. تشكو من زيادة في العطش والجوع المفرط والتبول المتكرر. تم تشخيصها بمرض السكري بعد فحص شامل وفحوصات مخبرية. الخطة:\\nتم وصف دواء فموي لخفض مستوى السكر في الدم. يجب على المريضة مراجعة الطبيب بانتظام وإجراء اختبارات السكر في الدم بانتظام. يتعين على المريضة اتباع نظام غذائي صحي ومتوازن، يشمل الحد من استهلاك السكريات والنشويات. يجب مراقبة ضغط الدم والكولسترول أيضًا ومراعاة التعليمات الطبية المتعلقة بتلك الحالات. تعليم المريضة بشأن أعراض الارتفاع أو الانخفاض الحاد في مستوى السكر في الدم وكيفية التعامل معها.\n",
       "1                                                                         ملاحظات سريرية - مريض الربو:\\nالتاريخ: [تاريخ] [تاريخ] اسم المريضة: [المريض] العنوان: شارع المعرفة، مبنى رقم [الرمز البريدي] حي [الموقع] الرمز البريدي: [الرمز البريدي] البلد: [المدينة] [البلد] اسم المستشفى: [الموقع] اسم الطبيب: د. [دكتور] تفاصيل الحالة:\\nالمريضة [المريض] حسن، البالغة من العمر [العمر]عامًا، تعاني من مرض الربو المزمن. تشكو من ضيق التنفس والسعال المتكرر والشهيق الشديد. تم تشخيصها بمرض الربو بناءً على تاريخها الطبي واختبارات وظائف الرئة. الخطة:\\nتم وصف مضادات الالتهاب غير الستيرويدية والموسعات القصبية لتحسين التنفس وتقليل التهيج. يجب على المريضة حمل معها جهاز الاستنشاق في حالة حدوث نوبة ربو حادة. يتعين على المريضة تجنب التحسس من العوامل المسببة للربو، مثل الدخان والغبار والحيوانات الأليفة. يجب مراقبة وظائف الرئة بانتظام ومتابعة التعليمات الطبية المتعلقة بمرض الربو. \\nتعليم المريضة بشأن كيفية استخدام جهاز الاستنشاق بشكل صحيح وتقنيات التنفس الصحيح\n",
       "2                                                                                                                             ملاحظات سريرية - مريض الضغط العالي:\\nالتاريخ: [تاريخ] [تاريخ] اسم المريض: [المريض] العنوان: شارع الشفاء، مبنى رقم [٭٭٭٭٭٭٭] حي السعادة، [المدينة] الرمز البريدي: [الرمز البريدي] البلد: [البلد] اسم المستشفى: مستشفى الرحمة اسم الطبيب: د. [دكتور] تفاصيل الحالة:\\nالمريض خالد محمد، البالغ من العمر [العمر]عامًا، يعاني من ضغط الدم الارتفاعي. يشكو من الصداع المستمر والدوخة والتعب الشديد. تم تشخيصه بارتفاع ضغط الدم بعد فحص شامل وقياسات متكررة. الخطة:\\nتم وصف دواءًا لخفض ضغط الدم ومراقبة المستويات بانتظام. يجب على المريض مراجعة الطبيب بانتظام لتقييم استجابته للعلاج وضبط الجرعات إن لزم الأمر. تعليم المريض بشأن أهمية اتباع نمط حياة صحي، بما في ذلك تجنب الأطعمة الغنية بالصوديوم وممارسة الرياضة بانتظام. يتعين على المريض مراقبة الوزن وتجنب التوتر النفسي والتدخين. ينصح المريض بإجراء فحوصات الكولسترول والسكر في الدم بانتظام.\n",
       "3  ملاحظات سريرية - مريضة الغدة الدرقية:\\nالتاريخ: [تاريخ] [تاريخ] اسم المريضة: [دكتور] العنوان: شارع النجاح، مبنى رقم [الرمز البريدي] حي [المدينة] [المدينة] الرمز البريدي: [الرمز البريدي] البلد: [البلد] اسم المستشفى: مستشفى الأمل اسم الطبيب: د. [الاسم] تفاصيل الحالة:\\nالمريضة [المريض] البالغة من العمر [العمر]عامًا، تعاني من اضطرابات في الغدة الدرقية. تشكو من زيادة الوزن والتعب والاكتئاب. تم تشخيصها بفرط نشاط الغدة الدرقية بعد فحص الدم والتحاليل المخبرية. الخطة:\\nتم وصف العلاج الدوائي لتنظيم وظيفة الغدة الدرقية ومراقبة المستويات الهرمونية بانتظام. يجب على المريضة مراجعة الطبيب بانتظام لتقييم استجابتها للعلاج وضبط الجرعات إن لزم الأمر. تعليم المريضة بشأن أهمية اتباع نمط حياة صحي، بما في ذلك تناول الغذاء الصحي وممارسة النشاط البدني بانتظام. ينصح المريضة بإجراء فحوصات الدم الدورية لمتابعة مستويات الهرمونات وضبط العلاج. تعليم المريضة بشأن الأعراض التي يجب عليها مراقبتها والتقارير الفورية للطبيب، مثل التعب الشديد أو زيادة الوزن المفرط."
      ]
     },
     "execution_count": 44,
     "metadata": {},
     "output_type": "execute_result"
    }
   ],
   "source": [
    "input_json_data = {\"text\": docs}\n",
    "\n",
    "data =  process_data_and_invoke_realtime_endpoint(input_json_data, content_type=\"application/json\" , accept=\"application/json\" )\n",
    "\n",
    "pd.DataFrame(data)"
   ]
  },
  {
   "cell_type": "markdown",
   "metadata": {},
   "source": [
    "#### Example 4: obfuscated"
   ]
  },
  {
   "cell_type": "code",
   "execution_count": 45,
   "metadata": {
    "tags": []
   },
   "outputs": [
    {
     "data": {
      "text/html": [
       "<div>\n",
       "<style scoped>\n",
       "    .dataframe tbody tr th:only-of-type {\n",
       "        vertical-align: middle;\n",
       "    }\n",
       "\n",
       "    .dataframe tbody tr th {\n",
       "        vertical-align: top;\n",
       "    }\n",
       "\n",
       "    .dataframe thead th {\n",
       "        text-align: right;\n",
       "    }\n",
       "</style>\n",
       "<table border=\"1\" class=\"dataframe\">\n",
       "  <thead>\n",
       "    <tr style=\"text-align: right;\">\n",
       "      <th></th>\n",
       "      <th>predictions</th>\n",
       "    </tr>\n",
       "  </thead>\n",
       "  <tbody>\n",
       "    <tr>\n",
       "      <th>0</th>\n",
       "      <td>ملاحظات سريرية - مريض السكري:\\nالتاريخ: 30 يونيو 2024 اسم المريض: سهيل مسلم العنوان: شارع الحرية، مبنى رقم 161، حي السلام، القصر الرمز البريدي: 09604 البلد: أوكرانيا اسم المستشفى: مستشفى الشفاء اسم الطبيب: د. نسيمة هندية تفاصيل الحالة:\\nالمريضة فاطمة علي، البالغة من العمر 58عامًا، مصابة بمرض السكري من النوع 2. تشكو من زيادة في العطش والجوع المفرط والتبول المتكرر. تم تشخيصها بمرض السكري بعد فحص شامل وفحوصات مخبرية. الخطة:\\nتم وصف دواء فموي لخفض مستوى السكر في الدم. يجب على المريضة مراجعة الطبيب بانتظام وإجراء اختبارات السكر في الدم بانتظام. يتعين على المريضة اتباع نظام غذائي صحي ومتوازن، يشمل الحد من استهلاك السكريات والنشويات. يجب مراقبة ضغط الدم والكولسترول أيضًا ومراعاة التعليمات الطبية المتعلقة بتلك الحالات. تعليم المريضة بشأن أعراض الارتفاع أو الانخفاض الحاد في مستوى السكر في الدم وكيفية التعامل معها.</td>\n",
       "    </tr>\n",
       "    <tr>\n",
       "      <th>1</th>\n",
       "      <td>ملاحظات سريرية - مريض الربو:\\nالتاريخ: 30 يونيو 2024 اسم المريضة: حمدان فاطمة العنوان: شارع المعرفة، مبنى رقم 540، حي شارع الحيوانات الأليفة الرمز البريدي: 98119 البلد: زغوان الغربية أوزبكستان اسم المستشفى: شارع المدارس اسم الطبيب: د. هاشم جمال تفاصيل الحالة:\\nالمريضة شيماء رياضة حسن، البالغة من العمر 26عامًا، تعاني من مرض الربو المزمن. تشكو من ضيق التنفس والسعال المتكرر والشهيق الشديد. تم تشخيصها بمرض الربو بناءً على تاريخها الطبي واختبارات وظائف الرئة. الخطة:\\nتم وصف مضادات الالتهاب غير الستيرويدية والموسعات القصبية لتحسين التنفس وتقليل التهيج. يجب على المريضة حمل معها جهاز الاستنشاق في حالة حدوث نوبة ربو حادة. يتعين على المريضة تجنب التحسس من العوامل المسببة للربو، مثل الدخان والغبار والحيوانات الأليفة. يجب مراقبة وظائف الرئة بانتظام ومتابعة التعليمات الطبية المتعلقة بمرض الربو. \\nتعليم المريضة بشأن كيفية استخدام جهاز الاستنشاق بشكل صحيح وتقنيات التنفس الصحيح</td>\n",
       "    </tr>\n",
       "    <tr>\n",
       "      <th>2</th>\n",
       "      <td>ملاحظات سريرية - مريض الضغط العالي:\\nالتاريخ: 30 يونيو 2024 اسم المريض: شيزوفرين غدير العنوان: شارع الشفاء، مبنى رقم 147، حي السعادة، نابل الجنوبية الرمز البريدي: 82956 البلد: أوكرانيا اسم المستشفى: مستشفى الرحمة اسم الطبيب: د. ندا شناعة تفاصيل الحالة:\\nالمريض خالد محمد، البالغ من العمر 67عامًا، يعاني من ضغط الدم الارتفاعي. يشكو من الصداع المستمر والدوخة والتعب الشديد. تم تشخيصه بارتفاع ضغط الدم بعد فحص شامل وقياسات متكررة. الخطة:\\nتم وصف دواءًا لخفض ضغط الدم ومراقبة المستويات بانتظام. يجب على المريض مراجعة الطبيب بانتظام لتقييم استجابته للعلاج وضبط الجرعات إن لزم الأمر. تعليم المريض بشأن أهمية اتباع نمط حياة صحي، بما في ذلك تجنب الأطعمة الغنية بالصوديوم وممارسة الرياضة بانتظام. يتعين على المريض مراقبة الوزن وتجنب التوتر النفسي والتدخين. ينصح المريض بإجراء فحوصات الكولسترول والسكر في الدم بانتظام.</td>\n",
       "    </tr>\n",
       "    <tr>\n",
       "      <th>3</th>\n",
       "      <td>ملاحظات سريرية - مريضة الغدة الدرقية:\\nالتاريخ: 30 يونيو 2024 اسم المريضة: ثابت قدورة العنوان: شارع النجاح، مبنى رقم 213، حي الشبيكة الشمالية القصر الرمز البريدي: 08657 البلد: أوكرانيا اسم المستشفى: مستشفى الأمل اسم الطبيب: د. نورس زينب تفاصيل الحالة:\\nالمريضة ثابت قدورة البالغة من العمر 57عامًا، تعاني من اضطرابات في الغدة الدرقية. تشكو من زيادة الوزن والتعب والاكتئاب. تم تشخيصها بفرط نشاط الغدة الدرقية بعد فحص الدم والتحاليل المخبرية. الخطة:\\nتم وصف العلاج الدوائي لتنظيم وظيفة الغدة الدرقية ومراقبة المستويات الهرمونية بانتظام. يجب على المريضة مراجعة الطبيب بانتظام لتقييم استجابتها للعلاج وضبط الجرعات إن لزم الأمر. تعليم المريضة بشأن أهمية اتباع نمط حياة صحي، بما في ذلك تناول الغذاء الصحي وممارسة النشاط البدني بانتظام. ينصح المريضة بإجراء فحوصات الدم الدورية لمتابعة مستويات الهرمونات وضبط العلاج. تعليم المريضة بشأن الأعراض التي يجب عليها مراقبتها والتقارير الفورية للطبيب، مثل التعب الشديد أو زيادة الوزن المفرط.</td>\n",
       "    </tr>\n",
       "  </tbody>\n",
       "</table>\n",
       "</div>"
      ],
      "text/plain": [
       "                                                                                                                                                                                                                                                                                                                                                                                                                                                                                                                                                                                                                                                                                                                                                                                                                                                                                                                                                    predictions\n",
       "0                                                                                                              ملاحظات سريرية - مريض السكري:\\nالتاريخ: 30 يونيو 2024 اسم المريض: سهيل مسلم العنوان: شارع الحرية، مبنى رقم 161، حي السلام، القصر الرمز البريدي: 09604 البلد: أوكرانيا اسم المستشفى: مستشفى الشفاء اسم الطبيب: د. نسيمة هندية تفاصيل الحالة:\\nالمريضة فاطمة علي، البالغة من العمر 58عامًا، مصابة بمرض السكري من النوع 2. تشكو من زيادة في العطش والجوع المفرط والتبول المتكرر. تم تشخيصها بمرض السكري بعد فحص شامل وفحوصات مخبرية. الخطة:\\nتم وصف دواء فموي لخفض مستوى السكر في الدم. يجب على المريضة مراجعة الطبيب بانتظام وإجراء اختبارات السكر في الدم بانتظام. يتعين على المريضة اتباع نظام غذائي صحي ومتوازن، يشمل الحد من استهلاك السكريات والنشويات. يجب مراقبة ضغط الدم والكولسترول أيضًا ومراعاة التعليمات الطبية المتعلقة بتلك الحالات. تعليم المريضة بشأن أعراض الارتفاع أو الانخفاض الحاد في مستوى السكر في الدم وكيفية التعامل معها.\n",
       "1                                                    ملاحظات سريرية - مريض الربو:\\nالتاريخ: 30 يونيو 2024 اسم المريضة: حمدان فاطمة العنوان: شارع المعرفة، مبنى رقم 540، حي شارع الحيوانات الأليفة الرمز البريدي: 98119 البلد: زغوان الغربية أوزبكستان اسم المستشفى: شارع المدارس اسم الطبيب: د. هاشم جمال تفاصيل الحالة:\\nالمريضة شيماء رياضة حسن، البالغة من العمر 26عامًا، تعاني من مرض الربو المزمن. تشكو من ضيق التنفس والسعال المتكرر والشهيق الشديد. تم تشخيصها بمرض الربو بناءً على تاريخها الطبي واختبارات وظائف الرئة. الخطة:\\nتم وصف مضادات الالتهاب غير الستيرويدية والموسعات القصبية لتحسين التنفس وتقليل التهيج. يجب على المريضة حمل معها جهاز الاستنشاق في حالة حدوث نوبة ربو حادة. يتعين على المريضة تجنب التحسس من العوامل المسببة للربو، مثل الدخان والغبار والحيوانات الأليفة. يجب مراقبة وظائف الرئة بانتظام ومتابعة التعليمات الطبية المتعلقة بمرض الربو. \\nتعليم المريضة بشأن كيفية استخدام جهاز الاستنشاق بشكل صحيح وتقنيات التنفس الصحيح\n",
       "2                                                                                                                      ملاحظات سريرية - مريض الضغط العالي:\\nالتاريخ: 30 يونيو 2024 اسم المريض: شيزوفرين غدير العنوان: شارع الشفاء، مبنى رقم 147، حي السعادة، نابل الجنوبية الرمز البريدي: 82956 البلد: أوكرانيا اسم المستشفى: مستشفى الرحمة اسم الطبيب: د. ندا شناعة تفاصيل الحالة:\\nالمريض خالد محمد، البالغ من العمر 67عامًا، يعاني من ضغط الدم الارتفاعي. يشكو من الصداع المستمر والدوخة والتعب الشديد. تم تشخيصه بارتفاع ضغط الدم بعد فحص شامل وقياسات متكررة. الخطة:\\nتم وصف دواءًا لخفض ضغط الدم ومراقبة المستويات بانتظام. يجب على المريض مراجعة الطبيب بانتظام لتقييم استجابته للعلاج وضبط الجرعات إن لزم الأمر. تعليم المريض بشأن أهمية اتباع نمط حياة صحي، بما في ذلك تجنب الأطعمة الغنية بالصوديوم وممارسة الرياضة بانتظام. يتعين على المريض مراقبة الوزن وتجنب التوتر النفسي والتدخين. ينصح المريض بإجراء فحوصات الكولسترول والسكر في الدم بانتظام.\n",
       "3  ملاحظات سريرية - مريضة الغدة الدرقية:\\nالتاريخ: 30 يونيو 2024 اسم المريضة: ثابت قدورة العنوان: شارع النجاح، مبنى رقم 213، حي الشبيكة الشمالية القصر الرمز البريدي: 08657 البلد: أوكرانيا اسم المستشفى: مستشفى الأمل اسم الطبيب: د. نورس زينب تفاصيل الحالة:\\nالمريضة ثابت قدورة البالغة من العمر 57عامًا، تعاني من اضطرابات في الغدة الدرقية. تشكو من زيادة الوزن والتعب والاكتئاب. تم تشخيصها بفرط نشاط الغدة الدرقية بعد فحص الدم والتحاليل المخبرية. الخطة:\\nتم وصف العلاج الدوائي لتنظيم وظيفة الغدة الدرقية ومراقبة المستويات الهرمونية بانتظام. يجب على المريضة مراجعة الطبيب بانتظام لتقييم استجابتها للعلاج وضبط الجرعات إن لزم الأمر. تعليم المريضة بشأن أهمية اتباع نمط حياة صحي، بما في ذلك تناول الغذاء الصحي وممارسة النشاط البدني بانتظام. ينصح المريضة بإجراء فحوصات الدم الدورية لمتابعة مستويات الهرمونات وضبط العلاج. تعليم المريضة بشأن الأعراض التي يجب عليها مراقبتها والتقارير الفورية للطبيب، مثل التعب الشديد أو زيادة الوزن المفرط."
      ]
     },
     "execution_count": 45,
     "metadata": {},
     "output_type": "execute_result"
    }
   ],
   "source": [
    "input_json_data = {\"text\": docs, \"masking_policy\": \"obfuscated\"}\n",
    "\n",
    "data =  process_data_and_invoke_realtime_endpoint(input_json_data, content_type=\"application/json\" , accept=\"application/json\" )\n",
    "\n",
    "pd.DataFrame(data)"
   ]
  },
  {
   "cell_type": "markdown",
   "metadata": {},
   "source": [
    "### JSON Lines"
   ]
  },
  {
   "cell_type": "markdown",
   "metadata": {},
   "source": [
    "1. **Input format**: Provide input in JSON Lines format, where each line is a JSON object representing a text document along with any optional parameters.\n",
    "\n",
    "```json\n",
    "{\"text\": \"Text document 1\"}\n",
    "{\"text\": \"Text document 2\"}\n",
    "```"
   ]
  },
  {
   "cell_type": "code",
   "execution_count": 46,
   "metadata": {
    "tags": []
   },
   "outputs": [],
   "source": [
    "import json\n",
    "\n",
    "def create_jsonl(records, masking_policy):\n",
    "    json_records = []\n",
    "\n",
    "    for text in records:\n",
    "        record = {\n",
    "            \"text\": text,\n",
    "            \"masking_policy\": masking_policy\n",
    "        }\n",
    "        json_records.append(record)\n",
    "\n",
    "    json_lines = '\\n'.join(json.dumps(record) for record in json_records)\n",
    "\n",
    "    return json_lines\n"
   ]
  },
  {
   "cell_type": "markdown",
   "metadata": {
    "tags": []
   },
   "source": [
    "#### Example 1: masked (default-policy)"
   ]
  },
  {
   "cell_type": "code",
   "execution_count": 47,
   "metadata": {
    "tags": []
   },
   "outputs": [
    {
     "name": "stdout",
     "output_type": "stream",
     "text": [
      "{\"predictions\": \"ملاحظات سريرية - مريض السكري:\\nالتاريخ: [تاريخ] [تاريخ] اسم المريض: [الاسم] العنوان: شارع الحرية، مبنى رقم [الرمز البريدي] حي السلام، [المدينة] الرمز البريدي: [الرمز البريدي] البلد: [البلد] اسم المستشفى: مستشفى الشفاء اسم الطبيب: د. [دكتور] تفاصيل الحالة:\\nالمريضة فاطمة علي، البالغة من العمر [العمر]عامًا، مصابة بمرض السكري من النوع 2. تشكو من زيادة في العطش والجوع المفرط والتبول المتكرر. تم تشخيصها بمرض السكري بعد فحص شامل وفحوصات مخبرية. الخطة:\\nتم وصف دواء فموي لخفض مستوى السكر في الدم. يجب على المريضة مراجعة الطبيب بانتظام وإجراء اختبارات السكر في الدم بانتظام. يتعين على المريضة اتباع نظام غذائي صحي ومتوازن، يشمل الحد من استهلاك السكريات والنشويات. يجب مراقبة ضغط الدم والكولسترول أيضًا ومراعاة التعليمات الطبية المتعلقة بتلك الحالات. تعليم المريضة بشأن أعراض الارتفاع أو الانخفاض الحاد في مستوى السكر في الدم وكيفية التعامل معها.\"}\n",
      "{\"predictions\": \"ملاحظات سريرية - مريض الربو:\\nالتاريخ: [تاريخ] [تاريخ] اسم المريضة: [المريض] العنوان: شارع المعرفة، مبنى رقم [الرمز البريدي] حي [الموقع] الرمز البريدي: [الرمز البريدي] البلد: [المدينة] [البلد] اسم المستشفى: [الموقع] اسم الطبيب: د. [دكتور] تفاصيل الحالة:\\nالمريضة [المريض] حسن، البالغة من العمر [العمر]عامًا، تعاني من مرض الربو المزمن. تشكو من ضيق التنفس والسعال المتكرر والشهيق الشديد. تم تشخيصها بمرض الربو بناءً على تاريخها الطبي واختبارات وظائف الرئة. الخطة:\\nتم وصف مضادات الالتهاب غير الستيرويدية والموسعات القصبية لتحسين التنفس وتقليل التهيج. يجب على المريضة حمل معها جهاز الاستنشاق في حالة حدوث نوبة ربو حادة. يتعين على المريضة تجنب التحسس من العوامل المسببة للربو، مثل الدخان والغبار والحيوانات الأليفة. يجب مراقبة وظائف الرئة بانتظام ومتابعة التعليمات الطبية المتعلقة بمرض الربو. \\nتعليم المريضة بشأن كيفية استخدام جهاز الاستنشاق بشكل صحيح وتقنيات التنفس الصحيح\"}\n",
      "{\"predictions\": \"ملاحظات سريرية - مريض الضغط العالي:\\nالتاريخ: [تاريخ] [تاريخ] اسم المريض: [المريض] العنوان: شارع الشفاء، مبنى رقم [٭٭٭٭٭٭٭] حي السعادة، [المدينة] الرمز البريدي: [الرمز البريدي] البلد: [البلد] اسم المستشفى: مستشفى الرحمة اسم الطبيب: د. [دكتور] تفاصيل الحالة:\\nالمريض خالد محمد، البالغ من العمر [العمر]عامًا، يعاني من ضغط الدم الارتفاعي. يشكو من الصداع المستمر والدوخة والتعب الشديد. تم تشخيصه بارتفاع ضغط الدم بعد فحص شامل وقياسات متكررة. الخطة:\\nتم وصف دواءًا لخفض ضغط الدم ومراقبة المستويات بانتظام. يجب على المريض مراجعة الطبيب بانتظام لتقييم استجابته للعلاج وضبط الجرعات إن لزم الأمر. تعليم المريض بشأن أهمية اتباع نمط حياة صحي، بما في ذلك تجنب الأطعمة الغنية بالصوديوم وممارسة الرياضة بانتظام. يتعين على المريض مراقبة الوزن وتجنب التوتر النفسي والتدخين. ينصح المريض بإجراء فحوصات الكولسترول والسكر في الدم بانتظام.\"}\n",
      "{\"predictions\": \"ملاحظات سريرية - مريضة الغدة الدرقية:\\nالتاريخ: [تاريخ] [تاريخ] اسم المريضة: [دكتور] العنوان: شارع النجاح، مبنى رقم [الرمز البريدي] حي [المدينة] [المدينة] الرمز البريدي: [الرمز البريدي] البلد: [البلد] اسم المستشفى: مستشفى الأمل اسم الطبيب: د. [الاسم] تفاصيل الحالة:\\nالمريضة [المريض] البالغة من العمر [العمر]عامًا، تعاني من اضطرابات في الغدة الدرقية. تشكو من زيادة الوزن والتعب والاكتئاب. تم تشخيصها بفرط نشاط الغدة الدرقية بعد فحص الدم والتحاليل المخبرية. الخطة:\\nتم وصف العلاج الدوائي لتنظيم وظيفة الغدة الدرقية ومراقبة المستويات الهرمونية بانتظام. يجب على المريضة مراجعة الطبيب بانتظام لتقييم استجابتها للعلاج وضبط الجرعات إن لزم الأمر. تعليم المريضة بشأن أهمية اتباع نمط حياة صحي، بما في ذلك تناول الغذاء الصحي وممارسة النشاط البدني بانتظام. ينصح المريضة بإجراء فحوصات الدم الدورية لمتابعة مستويات الهرمونات وضبط العلاج. تعليم المريضة بشأن الأعراض التي يجب عليها مراقبتها والتقارير الفورية للطبيب، مثل التعب الشديد أو زيادة الوزن المفرط.\"}\n"
     ]
    }
   ],
   "source": [
    "input_jsonl_data = create_jsonl(docs, masking_policy=\"masked\")\n",
    "\n",
    "data =  process_data_and_invoke_realtime_endpoint(input_jsonl_data, content_type=\"application/jsonlines\" , accept=\"application/jsonlines\" )\n",
    "\n",
    "print(data)"
   ]
  },
  {
   "cell_type": "markdown",
   "metadata": {
    "tags": []
   },
   "source": [
    "#### Example 2: obfuscated"
   ]
  },
  {
   "cell_type": "code",
   "execution_count": 48,
   "metadata": {
    "tags": []
   },
   "outputs": [
    {
     "name": "stdout",
     "output_type": "stream",
     "text": [
      "{\"predictions\": \"ملاحظات سريرية - مريض السكري:\\nالتاريخ: 30 يونيو 2024 اسم المريض: سهيل مسلم العنوان: شارع الحرية، مبنى رقم 161، حي السلام، القصر الرمز البريدي: 09604 البلد: أوكرانيا اسم المستشفى: مستشفى الشفاء اسم الطبيب: د. نسيمة هندية تفاصيل الحالة:\\nالمريضة فاطمة علي، البالغة من العمر 58عامًا، مصابة بمرض السكري من النوع 2. تشكو من زيادة في العطش والجوع المفرط والتبول المتكرر. تم تشخيصها بمرض السكري بعد فحص شامل وفحوصات مخبرية. الخطة:\\nتم وصف دواء فموي لخفض مستوى السكر في الدم. يجب على المريضة مراجعة الطبيب بانتظام وإجراء اختبارات السكر في الدم بانتظام. يتعين على المريضة اتباع نظام غذائي صحي ومتوازن، يشمل الحد من استهلاك السكريات والنشويات. يجب مراقبة ضغط الدم والكولسترول أيضًا ومراعاة التعليمات الطبية المتعلقة بتلك الحالات. تعليم المريضة بشأن أعراض الارتفاع أو الانخفاض الحاد في مستوى السكر في الدم وكيفية التعامل معها.\"}\n",
      "{\"predictions\": \"ملاحظات سريرية - مريض الربو:\\nالتاريخ: 30 يونيو 2024 اسم المريضة: حمدان فاطمة العنوان: شارع المعرفة، مبنى رقم 161، حي شارع الحيوانات الأليفة الرمز البريدي: 09604 البلد: زغوان الغربية أوزبكستان اسم المستشفى: شارع المدارس اسم الطبيب: د. هاشم جمال تفاصيل الحالة:\\nالمريضة شيماء رياضة حسن، البالغة من العمر 26عامًا، تعاني من مرض الربو المزمن. تشكو من ضيق التنفس والسعال المتكرر والشهيق الشديد. تم تشخيصها بمرض الربو بناءً على تاريخها الطبي واختبارات وظائف الرئة. الخطة:\\nتم وصف مضادات الالتهاب غير الستيرويدية والموسعات القصبية لتحسين التنفس وتقليل التهيج. يجب على المريضة حمل معها جهاز الاستنشاق في حالة حدوث نوبة ربو حادة. يتعين على المريضة تجنب التحسس من العوامل المسببة للربو، مثل الدخان والغبار والحيوانات الأليفة. يجب مراقبة وظائف الرئة بانتظام ومتابعة التعليمات الطبية المتعلقة بمرض الربو. \\nتعليم المريضة بشأن كيفية استخدام جهاز الاستنشاق بشكل صحيح وتقنيات التنفس الصحيح\"}\n",
      "{\"predictions\": \"ملاحظات سريرية - مريض الضغط العالي:\\nالتاريخ: 30 يونيو 2024 اسم المريض: شيزوفرين غدير العنوان: شارع الشفاء، مبنى رقم 161، حي السعادة، نابل الجنوبية الرمز البريدي: 09604 البلد: أوكرانيا اسم المستشفى: مستشفى الرحمة اسم الطبيب: د. ندا شناعة تفاصيل الحالة:\\nالمريض خالد محمد، البالغ من العمر 67عامًا، يعاني من ضغط الدم الارتفاعي. يشكو من الصداع المستمر والدوخة والتعب الشديد. تم تشخيصه بارتفاع ضغط الدم بعد فحص شامل وقياسات متكررة. الخطة:\\nتم وصف دواءًا لخفض ضغط الدم ومراقبة المستويات بانتظام. يجب على المريض مراجعة الطبيب بانتظام لتقييم استجابته للعلاج وضبط الجرعات إن لزم الأمر. تعليم المريض بشأن أهمية اتباع نمط حياة صحي، بما في ذلك تجنب الأطعمة الغنية بالصوديوم وممارسة الرياضة بانتظام. يتعين على المريض مراقبة الوزن وتجنب التوتر النفسي والتدخين. ينصح المريض بإجراء فحوصات الكولسترول والسكر في الدم بانتظام.\"}\n",
      "{\"predictions\": \"ملاحظات سريرية - مريضة الغدة الدرقية:\\nالتاريخ: 30 يونيو 2024 اسم المريضة: ثابت قدورة العنوان: شارع النجاح، مبنى رقم 161، حي الشبيكة الشمالية القصر الرمز البريدي: 09604 البلد: أوكرانيا اسم المستشفى: مستشفى الأمل اسم الطبيب: د. نورس زينب تفاصيل الحالة:\\nالمريضة ثابت قدورة البالغة من العمر 57عامًا، تعاني من اضطرابات في الغدة الدرقية. تشكو من زيادة الوزن والتعب والاكتئاب. تم تشخيصها بفرط نشاط الغدة الدرقية بعد فحص الدم والتحاليل المخبرية. الخطة:\\nتم وصف العلاج الدوائي لتنظيم وظيفة الغدة الدرقية ومراقبة المستويات الهرمونية بانتظام. يجب على المريضة مراجعة الطبيب بانتظام لتقييم استجابتها للعلاج وضبط الجرعات إن لزم الأمر. تعليم المريضة بشأن أهمية اتباع نمط حياة صحي، بما في ذلك تناول الغذاء الصحي وممارسة النشاط البدني بانتظام. ينصح المريضة بإجراء فحوصات الدم الدورية لمتابعة مستويات الهرمونات وضبط العلاج. تعليم المريضة بشأن الأعراض التي يجب عليها مراقبتها والتقارير الفورية للطبيب، مثل التعب الشديد أو زيادة الوزن المفرط.\"}\n"
     ]
    }
   ],
   "source": [
    "input_jsonl_data = create_jsonl(docs, masking_policy=\"obfuscated\")\n",
    "\n",
    "data =  process_data_and_invoke_realtime_endpoint(input_jsonl_data, content_type=\"application/jsonlines\" , accept=\"application/jsonlines\" )\n",
    "\n",
    "print(data)"
   ]
  },
  {
   "cell_type": "markdown",
   "metadata": {},
   "source": [
    "### C. Delete the endpoint"
   ]
  },
  {
   "cell_type": "markdown",
   "metadata": {},
   "source": [
    "Now that you have successfully performed a real-time inference, you do not need the endpoint any more. You can terminate the endpoint to avoid being charged."
   ]
  },
  {
   "cell_type": "code",
   "execution_count": 49,
   "metadata": {
    "tags": []
   },
   "outputs": [
    {
     "name": "stderr",
     "output_type": "stream",
     "text": [
      "INFO:sagemaker:Deleting endpoint with name: ar-deid-clinical\n",
      "INFO:sagemaker:Deleting endpoint configuration with name: ar-deid-clinical\n"
     ]
    }
   ],
   "source": [
    "model.sagemaker_session.delete_endpoint(model_name)\n",
    "model.sagemaker_session.delete_endpoint_config(model_name)"
   ]
  },
  {
   "cell_type": "markdown",
   "metadata": {
    "tags": []
   },
   "source": [
    "## 3. Batch inference"
   ]
  },
  {
   "cell_type": "code",
   "execution_count": 16,
   "metadata": {
    "tags": []
   },
   "outputs": [],
   "source": [
    "import json\n",
    "import os\n",
    "\n",
    "\n",
    "input_dir = 'inputs/batch'\n",
    "json_input_dir = f\"{input_dir}/json\"\n",
    "jsonl_input_dir = f\"{input_dir}/jsonl\"\n",
    "\n",
    "output_dir = 'outputs/batch'\n",
    "json_output_dir = f\"{output_dir}/json\"\n",
    "jsonl_output_dir = f\"{output_dir}/jsonl\"\n",
    "\n",
    "os.makedirs(json_input_dir, exist_ok=True)\n",
    "os.makedirs(jsonl_input_dir, exist_ok=True)\n",
    "os.makedirs(json_output_dir, exist_ok=True)\n",
    "os.makedirs(jsonl_output_dir, exist_ok=True)\n",
    "\n",
    "\n",
    "validation_input_json_path = f\"s3://{s3_bucket}/{model_name}/validation-input/batch/json/\"\n",
    "validation_output_json_path = f\"s3://{s3_bucket}/{model_name}/validation-output/batch/json/\"\n",
    "\n",
    "validation_input_jsonl_path = f\"s3://{s3_bucket}/{model_name}/validation-input/batch/jsonl/\"\n",
    "validation_output_jsonl_path = f\"s3://{s3_bucket}/{model_name}/validation-output/batch/jsonl/\"\n",
    "\n",
    "\n",
    "def write_and_upload_to_s3(input_data, file_name):\n",
    "\n",
    "    file_format = os.path.splitext(file_name)[1].lower()\n",
    "    s3_key = f\"{model_name}/validation-input/batch/{file_format[1:]}/{os.path.basename(file_name)}\"\n",
    "\n",
    "    if file_format == \".json\":\n",
    "        input_data_json = json.dumps(input_data, indent=4, ensure_ascii=False)\n",
    "\n",
    "        with open(file_name, \"w\", encoding='utf-8') as f:\n",
    "            f.write(input_data_json)\n",
    "    elif file_format == \".jsonl\":\n",
    "        with open(file_name, 'w', encoding='utf-8') as file:\n",
    "            for line in input_data.splitlines():\n",
    "                json_object = json.loads(line)\n",
    "                file.write(json.dumps(json_object, ensure_ascii=False) + '\\n')\n",
    "\n",
    "    with open(file_name, 'rb') as data:\n",
    "        s3_client.put_object(Bucket=s3_bucket, Key=s3_key, Body=data)\n",
    "\n",
    "    return input_data\n",
    "\n",
    "\n",
    "input_json_data = {\n",
    "    \"input1.json\": {\"text\": docs, \"masking_policy\": \"masked\"},\n",
    "    \"input2.json\": {\"text\": docs, \"masking_policy\": \"obfuscated\"},\n",
    "    \"input3.json\": {\"text\": docs, \"masking_policy\": \"masked_fixed_length_chars\"},\n",
    "    \"input4.json\": {\"text\": docs, \"masking_policy\": \"masked_with_chars\"}\n",
    "}\n",
    "\n",
    "input_jsonl_data = {\n",
    "    \"input1.jsonl\": create_jsonl(docs, masking_policy=\"masked\"),\n",
    "    \"input2.jsonl\": create_jsonl(docs, masking_policy=\"obfuscated\"),\n",
    "    \"input3.jsonl\": create_jsonl(docs, masking_policy=\"masked_fixed_length_chars\"),\n",
    "    \"input4.jsonl\": create_jsonl(docs, masking_policy=\"masked_with_chars\")\n",
    "}\n",
    "\n",
    "\n",
    "for file_name, data in input_json_data.items():\n",
    "    write_and_upload_to_s3(data, f\"{json_input_dir}/{file_name}\")\n",
    "\n",
    "for file_name, data in input_jsonl_data.items():\n",
    "    write_and_upload_to_s3(data, f\"{jsonl_input_dir}/{file_name}\")\n",
    "\n"
   ]
  },
  {
   "cell_type": "markdown",
   "metadata": {},
   "source": [
    "### JSON"
   ]
  },
  {
   "cell_type": "code",
   "execution_count": null,
   "metadata": {
    "tags": []
   },
   "outputs": [],
   "source": [
    "# Initialize a SageMaker Transformer object for making predictions\n",
    "transformer = model.transformer(\n",
    "    instance_count=1,\n",
    "    instance_type=batch_transform_inference_instance_type,\n",
    "    accept=\"application/json\",\n",
    "    output_path=validation_output_json_path\n",
    ")\n",
    "\n",
    "transformer.transform(validation_input_json_path, content_type=\"application/json\")\n",
    "transformer.wait()"
   ]
  },
  {
   "cell_type": "code",
   "execution_count": 18,
   "metadata": {
    "tags": []
   },
   "outputs": [],
   "source": [
    "from urllib.parse import urlparse\n",
    "\n",
    "def process_s3_json_output_and_save(validation_file_name):\n",
    "    \n",
    "    output_file_path = f\"{json_output_dir}/{validation_file_name}.out\"\n",
    "    parsed_url = urlparse(transformer.output_path)\n",
    "    file_key = f\"{parsed_url.path[1:]}{validation_file_name}.out\"\n",
    "    response = s3_client.get_object(Bucket=s3_bucket, Key=file_key)\n",
    "\n",
    "    data = json.loads(response[\"Body\"].read().decode(\"utf-8\"))\n",
    "    df = pd.DataFrame(data)\n",
    "    display(df)\n",
    "\n",
    "    with open(output_file_path, 'w', encoding='utf-8') as f_out:\n",
    "        json.dump(data, f_out, indent=4, ensure_ascii=False)"
   ]
  },
  {
   "cell_type": "code",
   "execution_count": 19,
   "metadata": {
    "tags": []
   },
   "outputs": [
    {
     "name": "stdout",
     "output_type": "stream",
     "text": [
      "Masking policy: masked\n"
     ]
    },
    {
     "data": {
      "text/html": [
       "<div>\n",
       "<style scoped>\n",
       "    .dataframe tbody tr th:only-of-type {\n",
       "        vertical-align: middle;\n",
       "    }\n",
       "\n",
       "    .dataframe tbody tr th {\n",
       "        vertical-align: top;\n",
       "    }\n",
       "\n",
       "    .dataframe thead th {\n",
       "        text-align: right;\n",
       "    }\n",
       "</style>\n",
       "<table border=\"1\" class=\"dataframe\">\n",
       "  <thead>\n",
       "    <tr style=\"text-align: right;\">\n",
       "      <th></th>\n",
       "      <th>predictions</th>\n",
       "    </tr>\n",
       "  </thead>\n",
       "  <tbody>\n",
       "    <tr>\n",
       "      <th>0</th>\n",
       "      <td>ملاحظات سريرية - مريض السكري:\\nالتاريخ: [تاريخ] [تاريخ] اسم المريض: [الاسم] العنوان: شارع الحرية، مبنى رقم [الرمز البريدي] حي السلام، [المدينة] الرمز البريدي: [الرمز البريدي] البلد: [البلد] اسم المستشفى: مستشفى الشفاء اسم الطبيب: د. [دكتور] تفاصيل الحالة:\\nالمريضة فاطمة علي، البالغة من العمر [العمر]عامًا، مصابة بمرض السكري من النوع 2. تشكو من زيادة في العطش والجوع المفرط والتبول المتكرر. تم تشخيصها بمرض السكري بعد فحص شامل وفحوصات مخبرية. الخطة:\\nتم وصف دواء فموي لخفض مستوى السكر في الدم. يجب على المريضة مراجعة الطبيب بانتظام وإجراء اختبارات السكر في الدم بانتظام. يتعين على المريضة اتباع نظام غذائي صحي ومتوازن، يشمل الحد من استهلاك السكريات والنشويات. يجب مراقبة ضغط الدم والكولسترول أيضًا ومراعاة التعليمات الطبية المتعلقة بتلك الحالات. تعليم المريضة بشأن أعراض الارتفاع أو الانخفاض الحاد في مستوى السكر في الدم وكيفية التعامل معها.</td>\n",
       "    </tr>\n",
       "    <tr>\n",
       "      <th>1</th>\n",
       "      <td>ملاحظات سريرية - مريض الربو:\\nالتاريخ: [تاريخ] [تاريخ] اسم المريضة: [المريض] العنوان: شارع المعرفة، مبنى رقم [الرمز البريدي] حي [الموقع] الرمز البريدي: [الرمز البريدي] البلد: [المدينة] [البلد] اسم المستشفى: [الموقع] اسم الطبيب: د. [دكتور] تفاصيل الحالة:\\nالمريضة [المريض] حسن، البالغة من العمر [العمر]عامًا، تعاني من مرض الربو المزمن. تشكو من ضيق التنفس والسعال المتكرر والشهيق الشديد. تم تشخيصها بمرض الربو بناءً على تاريخها الطبي واختبارات وظائف الرئة. الخطة:\\nتم وصف مضادات الالتهاب غير الستيرويدية والموسعات القصبية لتحسين التنفس وتقليل التهيج. يجب على المريضة حمل معها جهاز الاستنشاق في حالة حدوث نوبة ربو حادة. يتعين على المريضة تجنب التحسس من العوامل المسببة للربو، مثل الدخان والغبار والحيوانات الأليفة. يجب مراقبة وظائف الرئة بانتظام ومتابعة التعليمات الطبية المتعلقة بمرض الربو. \\nتعليم المريضة بشأن كيفية استخدام جهاز الاستنشاق بشكل صحيح وتقنيات التنفس الصحيح</td>\n",
       "    </tr>\n",
       "    <tr>\n",
       "      <th>2</th>\n",
       "      <td>ملاحظات سريرية - مريض الضغط العالي:\\nالتاريخ: [تاريخ] [تاريخ] اسم المريض: [المريض] العنوان: شارع الشفاء، مبنى رقم [٭٭٭٭٭٭٭] حي السعادة، [المدينة] الرمز البريدي: [الرمز البريدي] البلد: [البلد] اسم المستشفى: مستشفى الرحمة اسم الطبيب: د. [دكتور] تفاصيل الحالة:\\nالمريض خالد محمد، البالغ من العمر [العمر]عامًا، يعاني من ضغط الدم الارتفاعي. يشكو من الصداع المستمر والدوخة والتعب الشديد. تم تشخيصه بارتفاع ضغط الدم بعد فحص شامل وقياسات متكررة. الخطة:\\nتم وصف دواءًا لخفض ضغط الدم ومراقبة المستويات بانتظام. يجب على المريض مراجعة الطبيب بانتظام لتقييم استجابته للعلاج وضبط الجرعات إن لزم الأمر. تعليم المريض بشأن أهمية اتباع نمط حياة صحي، بما في ذلك تجنب الأطعمة الغنية بالصوديوم وممارسة الرياضة بانتظام. يتعين على المريض مراقبة الوزن وتجنب التوتر النفسي والتدخين. ينصح المريض بإجراء فحوصات الكولسترول والسكر في الدم بانتظام.</td>\n",
       "    </tr>\n",
       "    <tr>\n",
       "      <th>3</th>\n",
       "      <td>ملاحظات سريرية - مريضة الغدة الدرقية:\\nالتاريخ: [تاريخ] [تاريخ] اسم المريضة: [دكتور] العنوان: شارع النجاح، مبنى رقم [الرمز البريدي] حي [المدينة] [المدينة] الرمز البريدي: [الرمز البريدي] البلد: [البلد] اسم المستشفى: مستشفى الأمل اسم الطبيب: د. [الاسم] تفاصيل الحالة:\\nالمريضة [المريض] البالغة من العمر [العمر]عامًا، تعاني من اضطرابات في الغدة الدرقية. تشكو من زيادة الوزن والتعب والاكتئاب. تم تشخيصها بفرط نشاط الغدة الدرقية بعد فحص الدم والتحاليل المخبرية. الخطة:\\nتم وصف العلاج الدوائي لتنظيم وظيفة الغدة الدرقية ومراقبة المستويات الهرمونية بانتظام. يجب على المريضة مراجعة الطبيب بانتظام لتقييم استجابتها للعلاج وضبط الجرعات إن لزم الأمر. تعليم المريضة بشأن أهمية اتباع نمط حياة صحي، بما في ذلك تناول الغذاء الصحي وممارسة النشاط البدني بانتظام. ينصح المريضة بإجراء فحوصات الدم الدورية لمتابعة مستويات الهرمونات وضبط العلاج. تعليم المريضة بشأن الأعراض التي يجب عليها مراقبتها والتقارير الفورية للطبيب، مثل التعب الشديد أو زيادة الوزن المفرط.</td>\n",
       "    </tr>\n",
       "  </tbody>\n",
       "</table>\n",
       "</div>"
      ],
      "text/plain": [
       "                                                                                                                                                                                                                                                                                                                                                                                                                                                                                                                                                                                                                                                                                                                                                                                                                                                                                                                                                                     predictions\n",
       "0                                                                                                      ملاحظات سريرية - مريض السكري:\\nالتاريخ: [تاريخ] [تاريخ] اسم المريض: [الاسم] العنوان: شارع الحرية، مبنى رقم [الرمز البريدي] حي السلام، [المدينة] الرمز البريدي: [الرمز البريدي] البلد: [البلد] اسم المستشفى: مستشفى الشفاء اسم الطبيب: د. [دكتور] تفاصيل الحالة:\\nالمريضة فاطمة علي، البالغة من العمر [العمر]عامًا، مصابة بمرض السكري من النوع 2. تشكو من زيادة في العطش والجوع المفرط والتبول المتكرر. تم تشخيصها بمرض السكري بعد فحص شامل وفحوصات مخبرية. الخطة:\\nتم وصف دواء فموي لخفض مستوى السكر في الدم. يجب على المريضة مراجعة الطبيب بانتظام وإجراء اختبارات السكر في الدم بانتظام. يتعين على المريضة اتباع نظام غذائي صحي ومتوازن، يشمل الحد من استهلاك السكريات والنشويات. يجب مراقبة ضغط الدم والكولسترول أيضًا ومراعاة التعليمات الطبية المتعلقة بتلك الحالات. تعليم المريضة بشأن أعراض الارتفاع أو الانخفاض الحاد في مستوى السكر في الدم وكيفية التعامل معها.\n",
       "1                                                                         ملاحظات سريرية - مريض الربو:\\nالتاريخ: [تاريخ] [تاريخ] اسم المريضة: [المريض] العنوان: شارع المعرفة، مبنى رقم [الرمز البريدي] حي [الموقع] الرمز البريدي: [الرمز البريدي] البلد: [المدينة] [البلد] اسم المستشفى: [الموقع] اسم الطبيب: د. [دكتور] تفاصيل الحالة:\\nالمريضة [المريض] حسن، البالغة من العمر [العمر]عامًا، تعاني من مرض الربو المزمن. تشكو من ضيق التنفس والسعال المتكرر والشهيق الشديد. تم تشخيصها بمرض الربو بناءً على تاريخها الطبي واختبارات وظائف الرئة. الخطة:\\nتم وصف مضادات الالتهاب غير الستيرويدية والموسعات القصبية لتحسين التنفس وتقليل التهيج. يجب على المريضة حمل معها جهاز الاستنشاق في حالة حدوث نوبة ربو حادة. يتعين على المريضة تجنب التحسس من العوامل المسببة للربو، مثل الدخان والغبار والحيوانات الأليفة. يجب مراقبة وظائف الرئة بانتظام ومتابعة التعليمات الطبية المتعلقة بمرض الربو. \\nتعليم المريضة بشأن كيفية استخدام جهاز الاستنشاق بشكل صحيح وتقنيات التنفس الصحيح\n",
       "2                                                                                                                             ملاحظات سريرية - مريض الضغط العالي:\\nالتاريخ: [تاريخ] [تاريخ] اسم المريض: [المريض] العنوان: شارع الشفاء، مبنى رقم [٭٭٭٭٭٭٭] حي السعادة، [المدينة] الرمز البريدي: [الرمز البريدي] البلد: [البلد] اسم المستشفى: مستشفى الرحمة اسم الطبيب: د. [دكتور] تفاصيل الحالة:\\nالمريض خالد محمد، البالغ من العمر [العمر]عامًا، يعاني من ضغط الدم الارتفاعي. يشكو من الصداع المستمر والدوخة والتعب الشديد. تم تشخيصه بارتفاع ضغط الدم بعد فحص شامل وقياسات متكررة. الخطة:\\nتم وصف دواءًا لخفض ضغط الدم ومراقبة المستويات بانتظام. يجب على المريض مراجعة الطبيب بانتظام لتقييم استجابته للعلاج وضبط الجرعات إن لزم الأمر. تعليم المريض بشأن أهمية اتباع نمط حياة صحي، بما في ذلك تجنب الأطعمة الغنية بالصوديوم وممارسة الرياضة بانتظام. يتعين على المريض مراقبة الوزن وتجنب التوتر النفسي والتدخين. ينصح المريض بإجراء فحوصات الكولسترول والسكر في الدم بانتظام.\n",
       "3  ملاحظات سريرية - مريضة الغدة الدرقية:\\nالتاريخ: [تاريخ] [تاريخ] اسم المريضة: [دكتور] العنوان: شارع النجاح، مبنى رقم [الرمز البريدي] حي [المدينة] [المدينة] الرمز البريدي: [الرمز البريدي] البلد: [البلد] اسم المستشفى: مستشفى الأمل اسم الطبيب: د. [الاسم] تفاصيل الحالة:\\nالمريضة [المريض] البالغة من العمر [العمر]عامًا، تعاني من اضطرابات في الغدة الدرقية. تشكو من زيادة الوزن والتعب والاكتئاب. تم تشخيصها بفرط نشاط الغدة الدرقية بعد فحص الدم والتحاليل المخبرية. الخطة:\\nتم وصف العلاج الدوائي لتنظيم وظيفة الغدة الدرقية ومراقبة المستويات الهرمونية بانتظام. يجب على المريضة مراجعة الطبيب بانتظام لتقييم استجابتها للعلاج وضبط الجرعات إن لزم الأمر. تعليم المريضة بشأن أهمية اتباع نمط حياة صحي، بما في ذلك تناول الغذاء الصحي وممارسة النشاط البدني بانتظام. ينصح المريضة بإجراء فحوصات الدم الدورية لمتابعة مستويات الهرمونات وضبط العلاج. تعليم المريضة بشأن الأعراض التي يجب عليها مراقبتها والتقارير الفورية للطبيب، مثل التعب الشديد أو زيادة الوزن المفرط."
      ]
     },
     "metadata": {},
     "output_type": "display_data"
    },
    {
     "name": "stdout",
     "output_type": "stream",
     "text": [
      "\n",
      "\n",
      "Masking policy: obfuscated\n"
     ]
    },
    {
     "data": {
      "text/html": [
       "<div>\n",
       "<style scoped>\n",
       "    .dataframe tbody tr th:only-of-type {\n",
       "        vertical-align: middle;\n",
       "    }\n",
       "\n",
       "    .dataframe tbody tr th {\n",
       "        vertical-align: top;\n",
       "    }\n",
       "\n",
       "    .dataframe thead th {\n",
       "        text-align: right;\n",
       "    }\n",
       "</style>\n",
       "<table border=\"1\" class=\"dataframe\">\n",
       "  <thead>\n",
       "    <tr style=\"text-align: right;\">\n",
       "      <th></th>\n",
       "      <th>predictions</th>\n",
       "    </tr>\n",
       "  </thead>\n",
       "  <tbody>\n",
       "    <tr>\n",
       "      <th>0</th>\n",
       "      <td>ملاحظات سريرية - مريض السكري:\\nالتاريخ: 30 يونيو 2024 اسم المريض: سهيل مسلم العنوان: شارع الحرية، مبنى رقم 161، حي السلام، القصر الرمز البريدي: 09604 البلد: أوكرانيا اسم المستشفى: مستشفى الشفاء اسم الطبيب: د. نسيمة هندية تفاصيل الحالة:\\nالمريضة فاطمة علي، البالغة من العمر 58عامًا، مصابة بمرض السكري من النوع 2. تشكو من زيادة في العطش والجوع المفرط والتبول المتكرر. تم تشخيصها بمرض السكري بعد فحص شامل وفحوصات مخبرية. الخطة:\\nتم وصف دواء فموي لخفض مستوى السكر في الدم. يجب على المريضة مراجعة الطبيب بانتظام وإجراء اختبارات السكر في الدم بانتظام. يتعين على المريضة اتباع نظام غذائي صحي ومتوازن، يشمل الحد من استهلاك السكريات والنشويات. يجب مراقبة ضغط الدم والكولسترول أيضًا ومراعاة التعليمات الطبية المتعلقة بتلك الحالات. تعليم المريضة بشأن أعراض الارتفاع أو الانخفاض الحاد في مستوى السكر في الدم وكيفية التعامل معها.</td>\n",
       "    </tr>\n",
       "    <tr>\n",
       "      <th>1</th>\n",
       "      <td>ملاحظات سريرية - مريض الربو:\\nالتاريخ: 30 يونيو 2024 اسم المريضة: حمدان فاطمة العنوان: شارع المعرفة، مبنى رقم 161، حي شارع الحيوانات الأليفة الرمز البريدي: 09604 البلد: زغوان الغربية أوزبكستان اسم المستشفى: شارع المدارس اسم الطبيب: د. هاشم جمال تفاصيل الحالة:\\nالمريضة شيماء رياضة حسن، البالغة من العمر 26عامًا، تعاني من مرض الربو المزمن. تشكو من ضيق التنفس والسعال المتكرر والشهيق الشديد. تم تشخيصها بمرض الربو بناءً على تاريخها الطبي واختبارات وظائف الرئة. الخطة:\\nتم وصف مضادات الالتهاب غير الستيرويدية والموسعات القصبية لتحسين التنفس وتقليل التهيج. يجب على المريضة حمل معها جهاز الاستنشاق في حالة حدوث نوبة ربو حادة. يتعين على المريضة تجنب التحسس من العوامل المسببة للربو، مثل الدخان والغبار والحيوانات الأليفة. يجب مراقبة وظائف الرئة بانتظام ومتابعة التعليمات الطبية المتعلقة بمرض الربو. \\nتعليم المريضة بشأن كيفية استخدام جهاز الاستنشاق بشكل صحيح وتقنيات التنفس الصحيح</td>\n",
       "    </tr>\n",
       "    <tr>\n",
       "      <th>2</th>\n",
       "      <td>ملاحظات سريرية - مريض الضغط العالي:\\nالتاريخ: 30 يونيو 2024 اسم المريض: شيزوفرين غدير العنوان: شارع الشفاء، مبنى رقم 161، حي السعادة، نابل الجنوبية الرمز البريدي: 09604 البلد: أوكرانيا اسم المستشفى: مستشفى الرحمة اسم الطبيب: د. ندا شناعة تفاصيل الحالة:\\nالمريض خالد محمد، البالغ من العمر 67عامًا، يعاني من ضغط الدم الارتفاعي. يشكو من الصداع المستمر والدوخة والتعب الشديد. تم تشخيصه بارتفاع ضغط الدم بعد فحص شامل وقياسات متكررة. الخطة:\\nتم وصف دواءًا لخفض ضغط الدم ومراقبة المستويات بانتظام. يجب على المريض مراجعة الطبيب بانتظام لتقييم استجابته للعلاج وضبط الجرعات إن لزم الأمر. تعليم المريض بشأن أهمية اتباع نمط حياة صحي، بما في ذلك تجنب الأطعمة الغنية بالصوديوم وممارسة الرياضة بانتظام. يتعين على المريض مراقبة الوزن وتجنب التوتر النفسي والتدخين. ينصح المريض بإجراء فحوصات الكولسترول والسكر في الدم بانتظام.</td>\n",
       "    </tr>\n",
       "    <tr>\n",
       "      <th>3</th>\n",
       "      <td>ملاحظات سريرية - مريضة الغدة الدرقية:\\nالتاريخ: 30 يونيو 2024 اسم المريضة: ثابت قدورة العنوان: شارع النجاح، مبنى رقم 161، حي الشبيكة الشمالية القصر الرمز البريدي: 09604 البلد: أوكرانيا اسم المستشفى: مستشفى الأمل اسم الطبيب: د. نورس زينب تفاصيل الحالة:\\nالمريضة ثابت قدورة البالغة من العمر 57عامًا، تعاني من اضطرابات في الغدة الدرقية. تشكو من زيادة الوزن والتعب والاكتئاب. تم تشخيصها بفرط نشاط الغدة الدرقية بعد فحص الدم والتحاليل المخبرية. الخطة:\\nتم وصف العلاج الدوائي لتنظيم وظيفة الغدة الدرقية ومراقبة المستويات الهرمونية بانتظام. يجب على المريضة مراجعة الطبيب بانتظام لتقييم استجابتها للعلاج وضبط الجرعات إن لزم الأمر. تعليم المريضة بشأن أهمية اتباع نمط حياة صحي، بما في ذلك تناول الغذاء الصحي وممارسة النشاط البدني بانتظام. ينصح المريضة بإجراء فحوصات الدم الدورية لمتابعة مستويات الهرمونات وضبط العلاج. تعليم المريضة بشأن الأعراض التي يجب عليها مراقبتها والتقارير الفورية للطبيب، مثل التعب الشديد أو زيادة الوزن المفرط.</td>\n",
       "    </tr>\n",
       "  </tbody>\n",
       "</table>\n",
       "</div>"
      ],
      "text/plain": [
       "                                                                                                                                                                                                                                                                                                                                                                                                                                                                                                                                                                                                                                                                                                                                                                                                                                                                                                                                                    predictions\n",
       "0                                                                                                              ملاحظات سريرية - مريض السكري:\\nالتاريخ: 30 يونيو 2024 اسم المريض: سهيل مسلم العنوان: شارع الحرية، مبنى رقم 161، حي السلام، القصر الرمز البريدي: 09604 البلد: أوكرانيا اسم المستشفى: مستشفى الشفاء اسم الطبيب: د. نسيمة هندية تفاصيل الحالة:\\nالمريضة فاطمة علي، البالغة من العمر 58عامًا، مصابة بمرض السكري من النوع 2. تشكو من زيادة في العطش والجوع المفرط والتبول المتكرر. تم تشخيصها بمرض السكري بعد فحص شامل وفحوصات مخبرية. الخطة:\\nتم وصف دواء فموي لخفض مستوى السكر في الدم. يجب على المريضة مراجعة الطبيب بانتظام وإجراء اختبارات السكر في الدم بانتظام. يتعين على المريضة اتباع نظام غذائي صحي ومتوازن، يشمل الحد من استهلاك السكريات والنشويات. يجب مراقبة ضغط الدم والكولسترول أيضًا ومراعاة التعليمات الطبية المتعلقة بتلك الحالات. تعليم المريضة بشأن أعراض الارتفاع أو الانخفاض الحاد في مستوى السكر في الدم وكيفية التعامل معها.\n",
       "1                                                    ملاحظات سريرية - مريض الربو:\\nالتاريخ: 30 يونيو 2024 اسم المريضة: حمدان فاطمة العنوان: شارع المعرفة، مبنى رقم 161، حي شارع الحيوانات الأليفة الرمز البريدي: 09604 البلد: زغوان الغربية أوزبكستان اسم المستشفى: شارع المدارس اسم الطبيب: د. هاشم جمال تفاصيل الحالة:\\nالمريضة شيماء رياضة حسن، البالغة من العمر 26عامًا، تعاني من مرض الربو المزمن. تشكو من ضيق التنفس والسعال المتكرر والشهيق الشديد. تم تشخيصها بمرض الربو بناءً على تاريخها الطبي واختبارات وظائف الرئة. الخطة:\\nتم وصف مضادات الالتهاب غير الستيرويدية والموسعات القصبية لتحسين التنفس وتقليل التهيج. يجب على المريضة حمل معها جهاز الاستنشاق في حالة حدوث نوبة ربو حادة. يتعين على المريضة تجنب التحسس من العوامل المسببة للربو، مثل الدخان والغبار والحيوانات الأليفة. يجب مراقبة وظائف الرئة بانتظام ومتابعة التعليمات الطبية المتعلقة بمرض الربو. \\nتعليم المريضة بشأن كيفية استخدام جهاز الاستنشاق بشكل صحيح وتقنيات التنفس الصحيح\n",
       "2                                                                                                                      ملاحظات سريرية - مريض الضغط العالي:\\nالتاريخ: 30 يونيو 2024 اسم المريض: شيزوفرين غدير العنوان: شارع الشفاء، مبنى رقم 161، حي السعادة، نابل الجنوبية الرمز البريدي: 09604 البلد: أوكرانيا اسم المستشفى: مستشفى الرحمة اسم الطبيب: د. ندا شناعة تفاصيل الحالة:\\nالمريض خالد محمد، البالغ من العمر 67عامًا، يعاني من ضغط الدم الارتفاعي. يشكو من الصداع المستمر والدوخة والتعب الشديد. تم تشخيصه بارتفاع ضغط الدم بعد فحص شامل وقياسات متكررة. الخطة:\\nتم وصف دواءًا لخفض ضغط الدم ومراقبة المستويات بانتظام. يجب على المريض مراجعة الطبيب بانتظام لتقييم استجابته للعلاج وضبط الجرعات إن لزم الأمر. تعليم المريض بشأن أهمية اتباع نمط حياة صحي، بما في ذلك تجنب الأطعمة الغنية بالصوديوم وممارسة الرياضة بانتظام. يتعين على المريض مراقبة الوزن وتجنب التوتر النفسي والتدخين. ينصح المريض بإجراء فحوصات الكولسترول والسكر في الدم بانتظام.\n",
       "3  ملاحظات سريرية - مريضة الغدة الدرقية:\\nالتاريخ: 30 يونيو 2024 اسم المريضة: ثابت قدورة العنوان: شارع النجاح، مبنى رقم 161، حي الشبيكة الشمالية القصر الرمز البريدي: 09604 البلد: أوكرانيا اسم المستشفى: مستشفى الأمل اسم الطبيب: د. نورس زينب تفاصيل الحالة:\\nالمريضة ثابت قدورة البالغة من العمر 57عامًا، تعاني من اضطرابات في الغدة الدرقية. تشكو من زيادة الوزن والتعب والاكتئاب. تم تشخيصها بفرط نشاط الغدة الدرقية بعد فحص الدم والتحاليل المخبرية. الخطة:\\nتم وصف العلاج الدوائي لتنظيم وظيفة الغدة الدرقية ومراقبة المستويات الهرمونية بانتظام. يجب على المريضة مراجعة الطبيب بانتظام لتقييم استجابتها للعلاج وضبط الجرعات إن لزم الأمر. تعليم المريضة بشأن أهمية اتباع نمط حياة صحي، بما في ذلك تناول الغذاء الصحي وممارسة النشاط البدني بانتظام. ينصح المريضة بإجراء فحوصات الدم الدورية لمتابعة مستويات الهرمونات وضبط العلاج. تعليم المريضة بشأن الأعراض التي يجب عليها مراقبتها والتقارير الفورية للطبيب، مثل التعب الشديد أو زيادة الوزن المفرط."
      ]
     },
     "metadata": {},
     "output_type": "display_data"
    },
    {
     "name": "stdout",
     "output_type": "stream",
     "text": [
      "\n",
      "\n",
      "Masking policy: masked_fixed_length_chars\n"
     ]
    },
    {
     "data": {
      "text/html": [
       "<div>\n",
       "<style scoped>\n",
       "    .dataframe tbody tr th:only-of-type {\n",
       "        vertical-align: middle;\n",
       "    }\n",
       "\n",
       "    .dataframe tbody tr th {\n",
       "        vertical-align: top;\n",
       "    }\n",
       "\n",
       "    .dataframe thead th {\n",
       "        text-align: right;\n",
       "    }\n",
       "</style>\n",
       "<table border=\"1\" class=\"dataframe\">\n",
       "  <thead>\n",
       "    <tr style=\"text-align: right;\">\n",
       "      <th></th>\n",
       "      <th>predictions</th>\n",
       "    </tr>\n",
       "  </thead>\n",
       "  <tbody>\n",
       "    <tr>\n",
       "      <th>0</th>\n",
       "      <td>ملاحظات سريرية - مريض السكري:\\nالتاريخ: ٭٭٭٭ ٭٭٭٭ اسم المريض: ٭٭٭٭ العنوان: شارع الحرية، مبنى رقم ٭٭٭٭ حي السلام، ٭٭٭٭ الرمز البريدي: ٭٭٭٭ البلد: ٭٭٭٭ اسم المستشفى: مستشفى الشفاء اسم الطبيب: د. ٭٭٭٭ تفاصيل الحالة:\\nالمريضة فاطمة علي، البالغة من العمر ٭٭٭٭عامًا، مصابة بمرض السكري من النوع 2. تشكو من زيادة في العطش والجوع المفرط والتبول المتكرر. تم تشخيصها بمرض السكري بعد فحص شامل وفحوصات مخبرية. الخطة:\\nتم وصف دواء فموي لخفض مستوى السكر في الدم. يجب على المريضة مراجعة الطبيب بانتظام وإجراء اختبارات السكر في الدم بانتظام. يتعين على المريضة اتباع نظام غذائي صحي ومتوازن، يشمل الحد من استهلاك السكريات والنشويات. يجب مراقبة ضغط الدم والكولسترول أيضًا ومراعاة التعليمات الطبية المتعلقة بتلك الحالات. تعليم المريضة بشأن أعراض الارتفاع أو الانخفاض الحاد في مستوى السكر في الدم وكيفية التعامل معها.</td>\n",
       "    </tr>\n",
       "    <tr>\n",
       "      <th>1</th>\n",
       "      <td>ملاحظات سريرية - مريض الربو:\\nالتاريخ: ٭٭٭٭ ٭٭٭٭ اسم المريضة: ٭٭٭٭ العنوان: شارع المعرفة، مبنى رقم ٭٭٭٭ حي ٭٭٭٭ الرمز البريدي: ٭٭٭٭ البلد: ٭٭٭٭ ٭٭٭٭ اسم المستشفى: ٭٭٭٭ اسم الطبيب: د. ٭٭٭٭ تفاصيل الحالة:\\nالمريضة ٭٭٭٭ حسن، البالغة من العمر ٭٭٭٭عامًا، تعاني من مرض الربو المزمن. تشكو من ضيق التنفس والسعال المتكرر والشهيق الشديد. تم تشخيصها بمرض الربو بناءً على تاريخها الطبي واختبارات وظائف الرئة. الخطة:\\nتم وصف مضادات الالتهاب غير الستيرويدية والموسعات القصبية لتحسين التنفس وتقليل التهيج. يجب على المريضة حمل معها جهاز الاستنشاق في حالة حدوث نوبة ربو حادة. يتعين على المريضة تجنب التحسس من العوامل المسببة للربو، مثل الدخان والغبار والحيوانات الأليفة. يجب مراقبة وظائف الرئة بانتظام ومتابعة التعليمات الطبية المتعلقة بمرض الربو. \\nتعليم المريضة بشأن كيفية استخدام جهاز الاستنشاق بشكل صحيح وتقنيات التنفس الصحيح</td>\n",
       "    </tr>\n",
       "    <tr>\n",
       "      <th>2</th>\n",
       "      <td>ملاحظات سريرية - مريض الضغط العالي:\\nالتاريخ: ٭٭٭٭ ٭٭٭٭ اسم المريض: ٭٭٭٭ العنوان: شارع الشفاء، مبنى رقم ٭٭٭٭ حي السعادة، ٭٭٭٭ الرمز البريدي: ٭٭٭٭ البلد: ٭٭٭٭ اسم المستشفى: مستشفى الرحمة اسم الطبيب: د. ٭٭٭٭ تفاصيل الحالة:\\nالمريض خالد محمد، البالغ من العمر ٭٭٭٭عامًا، يعاني من ضغط الدم الارتفاعي. يشكو من الصداع المستمر والدوخة والتعب الشديد. تم تشخيصه بارتفاع ضغط الدم بعد فحص شامل وقياسات متكررة. الخطة:\\nتم وصف دواءًا لخفض ضغط الدم ومراقبة المستويات بانتظام. يجب على المريض مراجعة الطبيب بانتظام لتقييم استجابته للعلاج وضبط الجرعات إن لزم الأمر. تعليم المريض بشأن أهمية اتباع نمط حياة صحي، بما في ذلك تجنب الأطعمة الغنية بالصوديوم وممارسة الرياضة بانتظام. يتعين على المريض مراقبة الوزن وتجنب التوتر النفسي والتدخين. ينصح المريض بإجراء فحوصات الكولسترول والسكر في الدم بانتظام.</td>\n",
       "    </tr>\n",
       "    <tr>\n",
       "      <th>3</th>\n",
       "      <td>ملاحظات سريرية - مريضة الغدة الدرقية:\\nالتاريخ: ٭٭٭٭ ٭٭٭٭ اسم المريضة: ٭٭٭٭ العنوان: شارع النجاح، مبنى رقم ٭٭٭٭ حي ٭٭٭٭ ٭٭٭٭ الرمز البريدي: ٭٭٭٭ البلد: ٭٭٭٭ اسم المستشفى: مستشفى الأمل اسم الطبيب: د. ٭٭٭٭ تفاصيل الحالة:\\nالمريضة ٭٭٭٭ البالغة من العمر ٭٭٭٭عامًا، تعاني من اضطرابات في الغدة الدرقية. تشكو من زيادة الوزن والتعب والاكتئاب. تم تشخيصها بفرط نشاط الغدة الدرقية بعد فحص الدم والتحاليل المخبرية. الخطة:\\nتم وصف العلاج الدوائي لتنظيم وظيفة الغدة الدرقية ومراقبة المستويات الهرمونية بانتظام. يجب على المريضة مراجعة الطبيب بانتظام لتقييم استجابتها للعلاج وضبط الجرعات إن لزم الأمر. تعليم المريضة بشأن أهمية اتباع نمط حياة صحي، بما في ذلك تناول الغذاء الصحي وممارسة النشاط البدني بانتظام. ينصح المريضة بإجراء فحوصات الدم الدورية لمتابعة مستويات الهرمونات وضبط العلاج. تعليم المريضة بشأن الأعراض التي يجب عليها مراقبتها والتقارير الفورية للطبيب، مثل التعب الشديد أو زيادة الوزن المفرط.</td>\n",
       "    </tr>\n",
       "  </tbody>\n",
       "</table>\n",
       "</div>"
      ],
      "text/plain": [
       "                                                                                                                                                                                                                                                                                                                                                                                                                                                                                                                                                                                                                                                                                                                                                                                                                                                                                                               predictions\n",
       "0                                                                                             ملاحظات سريرية - مريض السكري:\\nالتاريخ: ٭٭٭٭ ٭٭٭٭ اسم المريض: ٭٭٭٭ العنوان: شارع الحرية، مبنى رقم ٭٭٭٭ حي السلام، ٭٭٭٭ الرمز البريدي: ٭٭٭٭ البلد: ٭٭٭٭ اسم المستشفى: مستشفى الشفاء اسم الطبيب: د. ٭٭٭٭ تفاصيل الحالة:\\nالمريضة فاطمة علي، البالغة من العمر ٭٭٭٭عامًا، مصابة بمرض السكري من النوع 2. تشكو من زيادة في العطش والجوع المفرط والتبول المتكرر. تم تشخيصها بمرض السكري بعد فحص شامل وفحوصات مخبرية. الخطة:\\nتم وصف دواء فموي لخفض مستوى السكر في الدم. يجب على المريضة مراجعة الطبيب بانتظام وإجراء اختبارات السكر في الدم بانتظام. يتعين على المريضة اتباع نظام غذائي صحي ومتوازن، يشمل الحد من استهلاك السكريات والنشويات. يجب مراقبة ضغط الدم والكولسترول أيضًا ومراعاة التعليمات الطبية المتعلقة بتلك الحالات. تعليم المريضة بشأن أعراض الارتفاع أو الانخفاض الحاد في مستوى السكر في الدم وكيفية التعامل معها.\n",
       "1                                                                             ملاحظات سريرية - مريض الربو:\\nالتاريخ: ٭٭٭٭ ٭٭٭٭ اسم المريضة: ٭٭٭٭ العنوان: شارع المعرفة، مبنى رقم ٭٭٭٭ حي ٭٭٭٭ الرمز البريدي: ٭٭٭٭ البلد: ٭٭٭٭ ٭٭٭٭ اسم المستشفى: ٭٭٭٭ اسم الطبيب: د. ٭٭٭٭ تفاصيل الحالة:\\nالمريضة ٭٭٭٭ حسن، البالغة من العمر ٭٭٭٭عامًا، تعاني من مرض الربو المزمن. تشكو من ضيق التنفس والسعال المتكرر والشهيق الشديد. تم تشخيصها بمرض الربو بناءً على تاريخها الطبي واختبارات وظائف الرئة. الخطة:\\nتم وصف مضادات الالتهاب غير الستيرويدية والموسعات القصبية لتحسين التنفس وتقليل التهيج. يجب على المريضة حمل معها جهاز الاستنشاق في حالة حدوث نوبة ربو حادة. يتعين على المريضة تجنب التحسس من العوامل المسببة للربو، مثل الدخان والغبار والحيوانات الأليفة. يجب مراقبة وظائف الرئة بانتظام ومتابعة التعليمات الطبية المتعلقة بمرض الربو. \\nتعليم المريضة بشأن كيفية استخدام جهاز الاستنشاق بشكل صحيح وتقنيات التنفس الصحيح\n",
       "2                                                                                                               ملاحظات سريرية - مريض الضغط العالي:\\nالتاريخ: ٭٭٭٭ ٭٭٭٭ اسم المريض: ٭٭٭٭ العنوان: شارع الشفاء، مبنى رقم ٭٭٭٭ حي السعادة، ٭٭٭٭ الرمز البريدي: ٭٭٭٭ البلد: ٭٭٭٭ اسم المستشفى: مستشفى الرحمة اسم الطبيب: د. ٭٭٭٭ تفاصيل الحالة:\\nالمريض خالد محمد، البالغ من العمر ٭٭٭٭عامًا، يعاني من ضغط الدم الارتفاعي. يشكو من الصداع المستمر والدوخة والتعب الشديد. تم تشخيصه بارتفاع ضغط الدم بعد فحص شامل وقياسات متكررة. الخطة:\\nتم وصف دواءًا لخفض ضغط الدم ومراقبة المستويات بانتظام. يجب على المريض مراجعة الطبيب بانتظام لتقييم استجابته للعلاج وضبط الجرعات إن لزم الأمر. تعليم المريض بشأن أهمية اتباع نمط حياة صحي، بما في ذلك تجنب الأطعمة الغنية بالصوديوم وممارسة الرياضة بانتظام. يتعين على المريض مراقبة الوزن وتجنب التوتر النفسي والتدخين. ينصح المريض بإجراء فحوصات الكولسترول والسكر في الدم بانتظام.\n",
       "3  ملاحظات سريرية - مريضة الغدة الدرقية:\\nالتاريخ: ٭٭٭٭ ٭٭٭٭ اسم المريضة: ٭٭٭٭ العنوان: شارع النجاح، مبنى رقم ٭٭٭٭ حي ٭٭٭٭ ٭٭٭٭ الرمز البريدي: ٭٭٭٭ البلد: ٭٭٭٭ اسم المستشفى: مستشفى الأمل اسم الطبيب: د. ٭٭٭٭ تفاصيل الحالة:\\nالمريضة ٭٭٭٭ البالغة من العمر ٭٭٭٭عامًا، تعاني من اضطرابات في الغدة الدرقية. تشكو من زيادة الوزن والتعب والاكتئاب. تم تشخيصها بفرط نشاط الغدة الدرقية بعد فحص الدم والتحاليل المخبرية. الخطة:\\nتم وصف العلاج الدوائي لتنظيم وظيفة الغدة الدرقية ومراقبة المستويات الهرمونية بانتظام. يجب على المريضة مراجعة الطبيب بانتظام لتقييم استجابتها للعلاج وضبط الجرعات إن لزم الأمر. تعليم المريضة بشأن أهمية اتباع نمط حياة صحي، بما في ذلك تناول الغذاء الصحي وممارسة النشاط البدني بانتظام. ينصح المريضة بإجراء فحوصات الدم الدورية لمتابعة مستويات الهرمونات وضبط العلاج. تعليم المريضة بشأن الأعراض التي يجب عليها مراقبتها والتقارير الفورية للطبيب، مثل التعب الشديد أو زيادة الوزن المفرط."
      ]
     },
     "metadata": {},
     "output_type": "display_data"
    },
    {
     "name": "stdout",
     "output_type": "stream",
     "text": [
      "\n",
      "\n",
      "Masking policy: masked_with_chars\n"
     ]
    },
    {
     "data": {
      "text/html": [
       "<div>\n",
       "<style scoped>\n",
       "    .dataframe tbody tr th:only-of-type {\n",
       "        vertical-align: middle;\n",
       "    }\n",
       "\n",
       "    .dataframe tbody tr th {\n",
       "        vertical-align: top;\n",
       "    }\n",
       "\n",
       "    .dataframe thead th {\n",
       "        text-align: right;\n",
       "    }\n",
       "</style>\n",
       "<table border=\"1\" class=\"dataframe\">\n",
       "  <thead>\n",
       "    <tr style=\"text-align: right;\">\n",
       "      <th></th>\n",
       "      <th>predictions</th>\n",
       "    </tr>\n",
       "  </thead>\n",
       "  <tbody>\n",
       "    <tr>\n",
       "      <th>0</th>\n",
       "      <td>ملاحظات سريرية - مريض السكري:\\nالتاريخ: [٭٭٭٭٭] [٭٭] اسم المريض: [٭٭٭٭٭٭٭] العنوان: شارع الحرية، مبنى رقم [٭٭] حي السلام، [٭٭٭٭٭] الرمز البريدي: [٭٭٭] البلد: [٭] اسم المستشفى: مستشفى الشفاء اسم الطبيب: د. [٭٭٭٭٭٭٭] تفاصيل الحالة:\\nالمريضة فاطمة علي، البالغة من العمر ٭٭عامًا، مصابة بمرض السكري من النوع 2. تشكو من زيادة في العطش والجوع المفرط والتبول المتكرر. تم تشخيصها بمرض السكري بعد فحص شامل وفحوصات مخبرية. الخطة:\\nتم وصف دواء فموي لخفض مستوى السكر في الدم. يجب على المريضة مراجعة الطبيب بانتظام وإجراء اختبارات السكر في الدم بانتظام. يتعين على المريضة اتباع نظام غذائي صحي ومتوازن، يشمل الحد من استهلاك السكريات والنشويات. يجب مراقبة ضغط الدم والكولسترول أيضًا ومراعاة التعليمات الطبية المتعلقة بتلك الحالات. تعليم المريضة بشأن أعراض الارتفاع أو الانخفاض الحاد في مستوى السكر في الدم وكيفية التعامل معها.</td>\n",
       "    </tr>\n",
       "    <tr>\n",
       "      <th>1</th>\n",
       "      <td>ملاحظات سريرية - مريض الربو:\\nالتاريخ: [٭٭٭٭٭] [٭٭] اسم المريضة: [٭٭٭٭٭٭] العنوان: شارع المعرفة، مبنى رقم [٭٭] حي [٭٭٭٭٭٭٭٭٭٭] الرمز البريدي: [٭٭٭] البلد: [٭٭٭٭٭٭٭٭٭٭٭٭٭] [٭٭٭٭٭٭] اسم المستشفى: [٭٭٭٭٭٭٭٭٭٭] اسم الطبيب: د. [٭٭٭٭٭٭٭٭] تفاصيل الحالة:\\nالمريضة [٭٭] حسن، البالغة من العمر ٭٭عامًا، تعاني من مرض الربو المزمن. تشكو من ضيق التنفس والسعال المتكرر والشهيق الشديد. تم تشخيصها بمرض الربو بناءً على تاريخها الطبي واختبارات وظائف الرئة. الخطة:\\nتم وصف مضادات الالتهاب غير الستيرويدية والموسعات القصبية لتحسين التنفس وتقليل التهيج. يجب على المريضة حمل معها جهاز الاستنشاق في حالة حدوث نوبة ربو حادة. يتعين على المريضة تجنب التحسس من العوامل المسببة للربو، مثل الدخان والغبار والحيوانات الأليفة. يجب مراقبة وظائف الرئة بانتظام ومتابعة التعليمات الطبية المتعلقة بمرض الربو. \\nتعليم المريضة بشأن كيفية استخدام جهاز الاستنشاق بشكل صحيح وتقنيات التنفس الصحيح</td>\n",
       "    </tr>\n",
       "    <tr>\n",
       "      <th>2</th>\n",
       "      <td>ملاحظات سريرية - مريض الضغط العالي:\\nالتاريخ: [٭٭٭٭٭] [٭٭] اسم المريض: [٭٭٭٭٭٭٭] العنوان: شارع الشفاء، مبنى رقم [٭٭] حي السعادة، [٭٭٭٭٭٭٭٭] الرمز البريدي: [٭٭٭] البلد: [٭] اسم المستشفى: مستشفى الرحمة اسم الطبيب: د. [٭٭٭٭٭٭] تفاصيل الحالة:\\nالمريض خالد محمد، البالغ من العمر ٭٭عامًا، يعاني من ضغط الدم الارتفاعي. يشكو من الصداع المستمر والدوخة والتعب الشديد. تم تشخيصه بارتفاع ضغط الدم بعد فحص شامل وقياسات متكررة. الخطة:\\nتم وصف دواءًا لخفض ضغط الدم ومراقبة المستويات بانتظام. يجب على المريض مراجعة الطبيب بانتظام لتقييم استجابته للعلاج وضبط الجرعات إن لزم الأمر. تعليم المريض بشأن أهمية اتباع نمط حياة صحي، بما في ذلك تجنب الأطعمة الغنية بالصوديوم وممارسة الرياضة بانتظام. يتعين على المريض مراقبة الوزن وتجنب التوتر النفسي والتدخين. ينصح المريض بإجراء فحوصات الكولسترول والسكر في الدم بانتظام.</td>\n",
       "    </tr>\n",
       "    <tr>\n",
       "      <th>3</th>\n",
       "      <td>ملاحظات سريرية - مريضة الغدة الدرقية:\\nالتاريخ: [٭٭٭٭٭] [٭٭] اسم المريضة: [٭٭٭٭٭٭٭٭٭٭٭٭٭] العنوان: شارع النجاح، مبنى رقم [٭٭] حي [٭٭٭٭] [٭٭٭٭٭] الرمز البريدي: [٭٭٭] البلد: [٭] اسم المستشفى: مستشفى الأمل اسم الطبيب: د. [٭٭٭٭٭٭٭٭] تفاصيل الحالة:\\nالمريضة [٭٭٭٭٭٭٭٭٭٭٭٭٭٭] البالغة من العمر ٭٭عامًا، تعاني من اضطرابات في الغدة الدرقية. تشكو من زيادة الوزن والتعب والاكتئاب. تم تشخيصها بفرط نشاط الغدة الدرقية بعد فحص الدم والتحاليل المخبرية. الخطة:\\nتم وصف العلاج الدوائي لتنظيم وظيفة الغدة الدرقية ومراقبة المستويات الهرمونية بانتظام. يجب على المريضة مراجعة الطبيب بانتظام لتقييم استجابتها للعلاج وضبط الجرعات إن لزم الأمر. تعليم المريضة بشأن أهمية اتباع نمط حياة صحي، بما في ذلك تناول الغذاء الصحي وممارسة النشاط البدني بانتظام. ينصح المريضة بإجراء فحوصات الدم الدورية لمتابعة مستويات الهرمونات وضبط العلاج. تعليم المريضة بشأن الأعراض التي يجب عليها مراقبتها والتقارير الفورية للطبيب، مثل التعب الشديد أو زيادة الوزن المفرط.</td>\n",
       "    </tr>\n",
       "  </tbody>\n",
       "</table>\n",
       "</div>"
      ],
      "text/plain": [
       "                                                                                                                                                                                                                                                                                                                                                                                                                                                                                                                                                                                                                                                                                                                                                                                                                                                                                                                                                  predictions\n",
       "0                                                                                                                  ملاحظات سريرية - مريض السكري:\\nالتاريخ: [٭٭٭٭٭] [٭٭] اسم المريض: [٭٭٭٭٭٭٭] العنوان: شارع الحرية، مبنى رقم [٭٭] حي السلام، [٭٭٭٭٭] الرمز البريدي: [٭٭٭] البلد: [٭] اسم المستشفى: مستشفى الشفاء اسم الطبيب: د. [٭٭٭٭٭٭٭] تفاصيل الحالة:\\nالمريضة فاطمة علي، البالغة من العمر ٭٭عامًا، مصابة بمرض السكري من النوع 2. تشكو من زيادة في العطش والجوع المفرط والتبول المتكرر. تم تشخيصها بمرض السكري بعد فحص شامل وفحوصات مخبرية. الخطة:\\nتم وصف دواء فموي لخفض مستوى السكر في الدم. يجب على المريضة مراجعة الطبيب بانتظام وإجراء اختبارات السكر في الدم بانتظام. يتعين على المريضة اتباع نظام غذائي صحي ومتوازن، يشمل الحد من استهلاك السكريات والنشويات. يجب مراقبة ضغط الدم والكولسترول أيضًا ومراعاة التعليمات الطبية المتعلقة بتلك الحالات. تعليم المريضة بشأن أعراض الارتفاع أو الانخفاض الحاد في مستوى السكر في الدم وكيفية التعامل معها.\n",
       "1                                                                     ملاحظات سريرية - مريض الربو:\\nالتاريخ: [٭٭٭٭٭] [٭٭] اسم المريضة: [٭٭٭٭٭٭] العنوان: شارع المعرفة، مبنى رقم [٭٭] حي [٭٭٭٭٭٭٭٭٭٭] الرمز البريدي: [٭٭٭] البلد: [٭٭٭٭٭٭٭٭٭٭٭٭٭] [٭٭٭٭٭٭] اسم المستشفى: [٭٭٭٭٭٭٭٭٭٭] اسم الطبيب: د. [٭٭٭٭٭٭٭٭] تفاصيل الحالة:\\nالمريضة [٭٭] حسن، البالغة من العمر ٭٭عامًا، تعاني من مرض الربو المزمن. تشكو من ضيق التنفس والسعال المتكرر والشهيق الشديد. تم تشخيصها بمرض الربو بناءً على تاريخها الطبي واختبارات وظائف الرئة. الخطة:\\nتم وصف مضادات الالتهاب غير الستيرويدية والموسعات القصبية لتحسين التنفس وتقليل التهيج. يجب على المريضة حمل معها جهاز الاستنشاق في حالة حدوث نوبة ربو حادة. يتعين على المريضة تجنب التحسس من العوامل المسببة للربو، مثل الدخان والغبار والحيوانات الأليفة. يجب مراقبة وظائف الرئة بانتظام ومتابعة التعليمات الطبية المتعلقة بمرض الربو. \\nتعليم المريضة بشأن كيفية استخدام جهاز الاستنشاق بشكل صحيح وتقنيات التنفس الصحيح\n",
       "2                                                                                                                                  ملاحظات سريرية - مريض الضغط العالي:\\nالتاريخ: [٭٭٭٭٭] [٭٭] اسم المريض: [٭٭٭٭٭٭٭] العنوان: شارع الشفاء، مبنى رقم [٭٭] حي السعادة، [٭٭٭٭٭٭٭٭] الرمز البريدي: [٭٭٭] البلد: [٭] اسم المستشفى: مستشفى الرحمة اسم الطبيب: د. [٭٭٭٭٭٭] تفاصيل الحالة:\\nالمريض خالد محمد، البالغ من العمر ٭٭عامًا، يعاني من ضغط الدم الارتفاعي. يشكو من الصداع المستمر والدوخة والتعب الشديد. تم تشخيصه بارتفاع ضغط الدم بعد فحص شامل وقياسات متكررة. الخطة:\\nتم وصف دواءًا لخفض ضغط الدم ومراقبة المستويات بانتظام. يجب على المريض مراجعة الطبيب بانتظام لتقييم استجابته للعلاج وضبط الجرعات إن لزم الأمر. تعليم المريض بشأن أهمية اتباع نمط حياة صحي، بما في ذلك تجنب الأطعمة الغنية بالصوديوم وممارسة الرياضة بانتظام. يتعين على المريض مراقبة الوزن وتجنب التوتر النفسي والتدخين. ينصح المريض بإجراء فحوصات الكولسترول والسكر في الدم بانتظام.\n",
       "3  ملاحظات سريرية - مريضة الغدة الدرقية:\\nالتاريخ: [٭٭٭٭٭] [٭٭] اسم المريضة: [٭٭٭٭٭٭٭٭٭٭٭٭٭] العنوان: شارع النجاح، مبنى رقم [٭٭] حي [٭٭٭٭] [٭٭٭٭٭] الرمز البريدي: [٭٭٭] البلد: [٭] اسم المستشفى: مستشفى الأمل اسم الطبيب: د. [٭٭٭٭٭٭٭٭] تفاصيل الحالة:\\nالمريضة [٭٭٭٭٭٭٭٭٭٭٭٭٭٭] البالغة من العمر ٭٭عامًا، تعاني من اضطرابات في الغدة الدرقية. تشكو من زيادة الوزن والتعب والاكتئاب. تم تشخيصها بفرط نشاط الغدة الدرقية بعد فحص الدم والتحاليل المخبرية. الخطة:\\nتم وصف العلاج الدوائي لتنظيم وظيفة الغدة الدرقية ومراقبة المستويات الهرمونية بانتظام. يجب على المريضة مراجعة الطبيب بانتظام لتقييم استجابتها للعلاج وضبط الجرعات إن لزم الأمر. تعليم المريضة بشأن أهمية اتباع نمط حياة صحي، بما في ذلك تناول الغذاء الصحي وممارسة النشاط البدني بانتظام. ينصح المريضة بإجراء فحوصات الدم الدورية لمتابعة مستويات الهرمونات وضبط العلاج. تعليم المريضة بشأن الأعراض التي يجب عليها مراقبتها والتقارير الفورية للطبيب، مثل التعب الشديد أو زيادة الوزن المفرط."
      ]
     },
     "metadata": {},
     "output_type": "display_data"
    },
    {
     "name": "stdout",
     "output_type": "stream",
     "text": [
      "\n",
      "\n"
     ]
    }
   ],
   "source": [
    "masking_policies = {\n",
    "    \"masked\": \"input1.json\",\n",
    "    \"obfuscated\": \"input2.json\",\n",
    "    \"masked_fixed_length_chars\": \"input3.json\",\n",
    "    \"masked_with_chars\": \"input4.json\",\n",
    "}\n",
    "\n",
    "for policy_name, validation_file_name in masking_policies.items():\n",
    "    print(f\"Masking policy: {policy_name}\")\n",
    "    process_s3_json_output_and_save(validation_file_name)\n",
    "    print(\"\\n\")"
   ]
  },
  {
   "cell_type": "markdown",
   "metadata": {},
   "source": [
    "### JSON Lines"
   ]
  },
  {
   "cell_type": "code",
   "execution_count": null,
   "metadata": {
    "tags": []
   },
   "outputs": [],
   "source": [
    "transformer = model.transformer(\n",
    "    instance_count=1,\n",
    "    instance_type=batch_transform_inference_instance_type,\n",
    "    accept=\"application/jsonlines\",\n",
    "    output_path=validation_output_jsonl_path\n",
    ")\n",
    "transformer.transform(validation_input_jsonl_path, content_type=\"application/jsonlines\")\n",
    "transformer.wait()"
   ]
  },
  {
   "cell_type": "code",
   "execution_count": 21,
   "metadata": {
    "tags": []
   },
   "outputs": [],
   "source": [
    "from urllib.parse import urlparse\n",
    "\n",
    "def process_s3_jsonlines_output_and_save(validation_file_name):\n",
    "\n",
    "    output_file_path = f\"{jsonl_output_dir}/{validation_file_name}.out\"\n",
    "    parsed_url = urlparse(transformer.output_path)\n",
    "    file_key = f\"{parsed_url.path[1:]}{validation_file_name}.out\"\n",
    "    response = s3_client.get_object(Bucket=s3_bucket, Key=file_key)\n",
    "\n",
    "    data = response[\"Body\"].read().decode(\"utf-8\")\n",
    "    print(data)\n",
    "\n",
    "    # Save the data to the output file\n",
    "    with open(output_file_path, 'w') as f_out:\n",
    "        for item in data.split('\\n'):\n",
    "            f_out.write(item + '\\n')"
   ]
  },
  {
   "cell_type": "code",
   "execution_count": 22,
   "metadata": {
    "tags": []
   },
   "outputs": [
    {
     "name": "stdout",
     "output_type": "stream",
     "text": [
      "Masking policy: masked\n",
      "{\"predictions\": \"ملاحظات سريرية - مريض السكري:\\nالتاريخ: [تاريخ] [تاريخ] اسم المريض: [الاسم] العنوان: شارع الحرية، مبنى رقم [الرمز البريدي] حي السلام، [المدينة] الرمز البريدي: [الرمز البريدي] البلد: [البلد] اسم المستشفى: مستشفى الشفاء اسم الطبيب: د. [دكتور] تفاصيل الحالة:\\nالمريضة فاطمة علي، البالغة من العمر [العمر]عامًا، مصابة بمرض السكري من النوع 2. تشكو من زيادة في العطش والجوع المفرط والتبول المتكرر. تم تشخيصها بمرض السكري بعد فحص شامل وفحوصات مخبرية. الخطة:\\nتم وصف دواء فموي لخفض مستوى السكر في الدم. يجب على المريضة مراجعة الطبيب بانتظام وإجراء اختبارات السكر في الدم بانتظام. يتعين على المريضة اتباع نظام غذائي صحي ومتوازن، يشمل الحد من استهلاك السكريات والنشويات. يجب مراقبة ضغط الدم والكولسترول أيضًا ومراعاة التعليمات الطبية المتعلقة بتلك الحالات. تعليم المريضة بشأن أعراض الارتفاع أو الانخفاض الحاد في مستوى السكر في الدم وكيفية التعامل معها.\"}\n",
      "{\"predictions\": \"ملاحظات سريرية - مريض الربو:\\nالتاريخ: [تاريخ] [تاريخ] اسم المريضة: [المريض] العنوان: شارع المعرفة، مبنى رقم [الرمز البريدي] حي [الموقع] الرمز البريدي: [الرمز البريدي] البلد: [المدينة] [البلد] اسم المستشفى: [الموقع] اسم الطبيب: د. [دكتور] تفاصيل الحالة:\\nالمريضة [المريض] حسن، البالغة من العمر [العمر]عامًا، تعاني من مرض الربو المزمن. تشكو من ضيق التنفس والسعال المتكرر والشهيق الشديد. تم تشخيصها بمرض الربو بناءً على تاريخها الطبي واختبارات وظائف الرئة. الخطة:\\nتم وصف مضادات الالتهاب غير الستيرويدية والموسعات القصبية لتحسين التنفس وتقليل التهيج. يجب على المريضة حمل معها جهاز الاستنشاق في حالة حدوث نوبة ربو حادة. يتعين على المريضة تجنب التحسس من العوامل المسببة للربو، مثل الدخان والغبار والحيوانات الأليفة. يجب مراقبة وظائف الرئة بانتظام ومتابعة التعليمات الطبية المتعلقة بمرض الربو. \\nتعليم المريضة بشأن كيفية استخدام جهاز الاستنشاق بشكل صحيح وتقنيات التنفس الصحيح\"}\n",
      "{\"predictions\": \"ملاحظات سريرية - مريض الضغط العالي:\\nالتاريخ: [تاريخ] [تاريخ] اسم المريض: [المريض] العنوان: شارع الشفاء، مبنى رقم [٭٭٭٭٭٭٭] حي السعادة، [المدينة] الرمز البريدي: [الرمز البريدي] البلد: [البلد] اسم المستشفى: مستشفى الرحمة اسم الطبيب: د. [دكتور] تفاصيل الحالة:\\nالمريض خالد محمد، البالغ من العمر [العمر]عامًا، يعاني من ضغط الدم الارتفاعي. يشكو من الصداع المستمر والدوخة والتعب الشديد. تم تشخيصه بارتفاع ضغط الدم بعد فحص شامل وقياسات متكررة. الخطة:\\nتم وصف دواءًا لخفض ضغط الدم ومراقبة المستويات بانتظام. يجب على المريض مراجعة الطبيب بانتظام لتقييم استجابته للعلاج وضبط الجرعات إن لزم الأمر. تعليم المريض بشأن أهمية اتباع نمط حياة صحي، بما في ذلك تجنب الأطعمة الغنية بالصوديوم وممارسة الرياضة بانتظام. يتعين على المريض مراقبة الوزن وتجنب التوتر النفسي والتدخين. ينصح المريض بإجراء فحوصات الكولسترول والسكر في الدم بانتظام.\"}\n",
      "{\"predictions\": \"ملاحظات سريرية - مريضة الغدة الدرقية:\\nالتاريخ: [تاريخ] [تاريخ] اسم المريضة: [دكتور] العنوان: شارع النجاح، مبنى رقم [الرمز البريدي] حي [المدينة] [المدينة] الرمز البريدي: [الرمز البريدي] البلد: [البلد] اسم المستشفى: مستشفى الأمل اسم الطبيب: د. [الاسم] تفاصيل الحالة:\\nالمريضة [المريض] البالغة من العمر [العمر]عامًا، تعاني من اضطرابات في الغدة الدرقية. تشكو من زيادة الوزن والتعب والاكتئاب. تم تشخيصها بفرط نشاط الغدة الدرقية بعد فحص الدم والتحاليل المخبرية. الخطة:\\nتم وصف العلاج الدوائي لتنظيم وظيفة الغدة الدرقية ومراقبة المستويات الهرمونية بانتظام. يجب على المريضة مراجعة الطبيب بانتظام لتقييم استجابتها للعلاج وضبط الجرعات إن لزم الأمر. تعليم المريضة بشأن أهمية اتباع نمط حياة صحي، بما في ذلك تناول الغذاء الصحي وممارسة النشاط البدني بانتظام. ينصح المريضة بإجراء فحوصات الدم الدورية لمتابعة مستويات الهرمونات وضبط العلاج. تعليم المريضة بشأن الأعراض التي يجب عليها مراقبتها والتقارير الفورية للطبيب، مثل التعب الشديد أو زيادة الوزن المفرط.\"}\n",
      "\n",
      "\n",
      "Masking policy: obfuscated\n",
      "{\"predictions\": \"ملاحظات سريرية - مريض السكري:\\nالتاريخ: 30 يونيو 2024 اسم المريض: سهيل مسلم العنوان: شارع الحرية، مبنى رقم 161، حي السلام، القصر الرمز البريدي: 09604 البلد: أوكرانيا اسم المستشفى: مستشفى الشفاء اسم الطبيب: د. نسيمة هندية تفاصيل الحالة:\\nالمريضة فاطمة علي، البالغة من العمر 58عامًا، مصابة بمرض السكري من النوع 2. تشكو من زيادة في العطش والجوع المفرط والتبول المتكرر. تم تشخيصها بمرض السكري بعد فحص شامل وفحوصات مخبرية. الخطة:\\nتم وصف دواء فموي لخفض مستوى السكر في الدم. يجب على المريضة مراجعة الطبيب بانتظام وإجراء اختبارات السكر في الدم بانتظام. يتعين على المريضة اتباع نظام غذائي صحي ومتوازن، يشمل الحد من استهلاك السكريات والنشويات. يجب مراقبة ضغط الدم والكولسترول أيضًا ومراعاة التعليمات الطبية المتعلقة بتلك الحالات. تعليم المريضة بشأن أعراض الارتفاع أو الانخفاض الحاد في مستوى السكر في الدم وكيفية التعامل معها.\"}\n",
      "{\"predictions\": \"ملاحظات سريرية - مريض الربو:\\nالتاريخ: 30 يونيو 2024 اسم المريضة: حمدان فاطمة العنوان: شارع المعرفة، مبنى رقم 161، حي شارع الحيوانات الأليفة الرمز البريدي: 09604 البلد: زغوان الغربية أوزبكستان اسم المستشفى: شارع المدارس اسم الطبيب: د. هاشم جمال تفاصيل الحالة:\\nالمريضة شيماء رياضة حسن، البالغة من العمر 26عامًا، تعاني من مرض الربو المزمن. تشكو من ضيق التنفس والسعال المتكرر والشهيق الشديد. تم تشخيصها بمرض الربو بناءً على تاريخها الطبي واختبارات وظائف الرئة. الخطة:\\nتم وصف مضادات الالتهاب غير الستيرويدية والموسعات القصبية لتحسين التنفس وتقليل التهيج. يجب على المريضة حمل معها جهاز الاستنشاق في حالة حدوث نوبة ربو حادة. يتعين على المريضة تجنب التحسس من العوامل المسببة للربو، مثل الدخان والغبار والحيوانات الأليفة. يجب مراقبة وظائف الرئة بانتظام ومتابعة التعليمات الطبية المتعلقة بمرض الربو. \\nتعليم المريضة بشأن كيفية استخدام جهاز الاستنشاق بشكل صحيح وتقنيات التنفس الصحيح\"}\n",
      "{\"predictions\": \"ملاحظات سريرية - مريض الضغط العالي:\\nالتاريخ: 30 يونيو 2024 اسم المريض: شيزوفرين غدير العنوان: شارع الشفاء، مبنى رقم 161، حي السعادة، نابل الجنوبية الرمز البريدي: 09604 البلد: أوكرانيا اسم المستشفى: مستشفى الرحمة اسم الطبيب: د. ندا شناعة تفاصيل الحالة:\\nالمريض خالد محمد، البالغ من العمر 67عامًا، يعاني من ضغط الدم الارتفاعي. يشكو من الصداع المستمر والدوخة والتعب الشديد. تم تشخيصه بارتفاع ضغط الدم بعد فحص شامل وقياسات متكررة. الخطة:\\nتم وصف دواءًا لخفض ضغط الدم ومراقبة المستويات بانتظام. يجب على المريض مراجعة الطبيب بانتظام لتقييم استجابته للعلاج وضبط الجرعات إن لزم الأمر. تعليم المريض بشأن أهمية اتباع نمط حياة صحي، بما في ذلك تجنب الأطعمة الغنية بالصوديوم وممارسة الرياضة بانتظام. يتعين على المريض مراقبة الوزن وتجنب التوتر النفسي والتدخين. ينصح المريض بإجراء فحوصات الكولسترول والسكر في الدم بانتظام.\"}\n",
      "{\"predictions\": \"ملاحظات سريرية - مريضة الغدة الدرقية:\\nالتاريخ: 30 يونيو 2024 اسم المريضة: ثابت قدورة العنوان: شارع النجاح، مبنى رقم 161، حي الشبيكة الشمالية القصر الرمز البريدي: 09604 البلد: أوكرانيا اسم المستشفى: مستشفى الأمل اسم الطبيب: د. نورس زينب تفاصيل الحالة:\\nالمريضة ثابت قدورة البالغة من العمر 57عامًا، تعاني من اضطرابات في الغدة الدرقية. تشكو من زيادة الوزن والتعب والاكتئاب. تم تشخيصها بفرط نشاط الغدة الدرقية بعد فحص الدم والتحاليل المخبرية. الخطة:\\nتم وصف العلاج الدوائي لتنظيم وظيفة الغدة الدرقية ومراقبة المستويات الهرمونية بانتظام. يجب على المريضة مراجعة الطبيب بانتظام لتقييم استجابتها للعلاج وضبط الجرعات إن لزم الأمر. تعليم المريضة بشأن أهمية اتباع نمط حياة صحي، بما في ذلك تناول الغذاء الصحي وممارسة النشاط البدني بانتظام. ينصح المريضة بإجراء فحوصات الدم الدورية لمتابعة مستويات الهرمونات وضبط العلاج. تعليم المريضة بشأن الأعراض التي يجب عليها مراقبتها والتقارير الفورية للطبيب، مثل التعب الشديد أو زيادة الوزن المفرط.\"}\n",
      "\n",
      "\n",
      "Masking policy: masked_fixed_length_chars\n",
      "{\"predictions\": \"ملاحظات سريرية - مريض السكري:\\nالتاريخ: ٭٭٭٭ ٭٭٭٭ اسم المريض: ٭٭٭٭ العنوان: شارع الحرية، مبنى رقم ٭٭٭٭ حي السلام، ٭٭٭٭ الرمز البريدي: ٭٭٭٭ البلد: ٭٭٭٭ اسم المستشفى: مستشفى الشفاء اسم الطبيب: د. ٭٭٭٭ تفاصيل الحالة:\\nالمريضة فاطمة علي، البالغة من العمر ٭٭٭٭عامًا، مصابة بمرض السكري من النوع 2. تشكو من زيادة في العطش والجوع المفرط والتبول المتكرر. تم تشخيصها بمرض السكري بعد فحص شامل وفحوصات مخبرية. الخطة:\\nتم وصف دواء فموي لخفض مستوى السكر في الدم. يجب على المريضة مراجعة الطبيب بانتظام وإجراء اختبارات السكر في الدم بانتظام. يتعين على المريضة اتباع نظام غذائي صحي ومتوازن، يشمل الحد من استهلاك السكريات والنشويات. يجب مراقبة ضغط الدم والكولسترول أيضًا ومراعاة التعليمات الطبية المتعلقة بتلك الحالات. تعليم المريضة بشأن أعراض الارتفاع أو الانخفاض الحاد في مستوى السكر في الدم وكيفية التعامل معها.\"}\n",
      "{\"predictions\": \"ملاحظات سريرية - مريض الربو:\\nالتاريخ: ٭٭٭٭ ٭٭٭٭ اسم المريضة: ٭٭٭٭ العنوان: شارع المعرفة، مبنى رقم ٭٭٭٭ حي ٭٭٭٭ الرمز البريدي: ٭٭٭٭ البلد: ٭٭٭٭ ٭٭٭٭ اسم المستشفى: ٭٭٭٭ اسم الطبيب: د. ٭٭٭٭ تفاصيل الحالة:\\nالمريضة ٭٭٭٭ حسن، البالغة من العمر ٭٭٭٭عامًا، تعاني من مرض الربو المزمن. تشكو من ضيق التنفس والسعال المتكرر والشهيق الشديد. تم تشخيصها بمرض الربو بناءً على تاريخها الطبي واختبارات وظائف الرئة. الخطة:\\nتم وصف مضادات الالتهاب غير الستيرويدية والموسعات القصبية لتحسين التنفس وتقليل التهيج. يجب على المريضة حمل معها جهاز الاستنشاق في حالة حدوث نوبة ربو حادة. يتعين على المريضة تجنب التحسس من العوامل المسببة للربو، مثل الدخان والغبار والحيوانات الأليفة. يجب مراقبة وظائف الرئة بانتظام ومتابعة التعليمات الطبية المتعلقة بمرض الربو. \\nتعليم المريضة بشأن كيفية استخدام جهاز الاستنشاق بشكل صحيح وتقنيات التنفس الصحيح\"}\n",
      "{\"predictions\": \"ملاحظات سريرية - مريض الضغط العالي:\\nالتاريخ: ٭٭٭٭ ٭٭٭٭ اسم المريض: ٭٭٭٭ العنوان: شارع الشفاء، مبنى رقم ٭٭٭٭ حي السعادة، ٭٭٭٭ الرمز البريدي: ٭٭٭٭ البلد: ٭٭٭٭ اسم المستشفى: مستشفى الرحمة اسم الطبيب: د. ٭٭٭٭ تفاصيل الحالة:\\nالمريض خالد محمد، البالغ من العمر ٭٭٭٭عامًا، يعاني من ضغط الدم الارتفاعي. يشكو من الصداع المستمر والدوخة والتعب الشديد. تم تشخيصه بارتفاع ضغط الدم بعد فحص شامل وقياسات متكررة. الخطة:\\nتم وصف دواءًا لخفض ضغط الدم ومراقبة المستويات بانتظام. يجب على المريض مراجعة الطبيب بانتظام لتقييم استجابته للعلاج وضبط الجرعات إن لزم الأمر. تعليم المريض بشأن أهمية اتباع نمط حياة صحي، بما في ذلك تجنب الأطعمة الغنية بالصوديوم وممارسة الرياضة بانتظام. يتعين على المريض مراقبة الوزن وتجنب التوتر النفسي والتدخين. ينصح المريض بإجراء فحوصات الكولسترول والسكر في الدم بانتظام.\"}\n",
      "{\"predictions\": \"ملاحظات سريرية - مريضة الغدة الدرقية:\\nالتاريخ: ٭٭٭٭ ٭٭٭٭ اسم المريضة: ٭٭٭٭ العنوان: شارع النجاح، مبنى رقم ٭٭٭٭ حي ٭٭٭٭ ٭٭٭٭ الرمز البريدي: ٭٭٭٭ البلد: ٭٭٭٭ اسم المستشفى: مستشفى الأمل اسم الطبيب: د. ٭٭٭٭ تفاصيل الحالة:\\nالمريضة ٭٭٭٭ البالغة من العمر ٭٭٭٭عامًا، تعاني من اضطرابات في الغدة الدرقية. تشكو من زيادة الوزن والتعب والاكتئاب. تم تشخيصها بفرط نشاط الغدة الدرقية بعد فحص الدم والتحاليل المخبرية. الخطة:\\nتم وصف العلاج الدوائي لتنظيم وظيفة الغدة الدرقية ومراقبة المستويات الهرمونية بانتظام. يجب على المريضة مراجعة الطبيب بانتظام لتقييم استجابتها للعلاج وضبط الجرعات إن لزم الأمر. تعليم المريضة بشأن أهمية اتباع نمط حياة صحي، بما في ذلك تناول الغذاء الصحي وممارسة النشاط البدني بانتظام. ينصح المريضة بإجراء فحوصات الدم الدورية لمتابعة مستويات الهرمونات وضبط العلاج. تعليم المريضة بشأن الأعراض التي يجب عليها مراقبتها والتقارير الفورية للطبيب، مثل التعب الشديد أو زيادة الوزن المفرط.\"}\n",
      "\n",
      "\n",
      "Masking policy: masked_with_chars\n",
      "{\"predictions\": \"ملاحظات سريرية - مريض السكري:\\nالتاريخ: [٭٭٭٭٭] [٭٭] اسم المريض: [٭٭٭٭٭٭٭] العنوان: شارع الحرية، مبنى رقم [٭٭] حي السلام، [٭٭٭٭٭] الرمز البريدي: [٭٭٭] البلد: [٭] اسم المستشفى: مستشفى الشفاء اسم الطبيب: د. [٭٭٭٭٭٭٭] تفاصيل الحالة:\\nالمريضة فاطمة علي، البالغة من العمر ٭٭عامًا، مصابة بمرض السكري من النوع 2. تشكو من زيادة في العطش والجوع المفرط والتبول المتكرر. تم تشخيصها بمرض السكري بعد فحص شامل وفحوصات مخبرية. الخطة:\\nتم وصف دواء فموي لخفض مستوى السكر في الدم. يجب على المريضة مراجعة الطبيب بانتظام وإجراء اختبارات السكر في الدم بانتظام. يتعين على المريضة اتباع نظام غذائي صحي ومتوازن، يشمل الحد من استهلاك السكريات والنشويات. يجب مراقبة ضغط الدم والكولسترول أيضًا ومراعاة التعليمات الطبية المتعلقة بتلك الحالات. تعليم المريضة بشأن أعراض الارتفاع أو الانخفاض الحاد في مستوى السكر في الدم وكيفية التعامل معها.\"}\n",
      "{\"predictions\": \"ملاحظات سريرية - مريض الربو:\\nالتاريخ: [٭٭٭٭٭] [٭٭] اسم المريضة: [٭٭٭٭٭٭] العنوان: شارع المعرفة، مبنى رقم [٭٭] حي [٭٭٭٭٭٭٭٭٭٭] الرمز البريدي: [٭٭٭] البلد: [٭٭٭٭٭٭٭٭٭٭٭٭٭] [٭٭٭٭٭٭] اسم المستشفى: [٭٭٭٭٭٭٭٭٭٭] اسم الطبيب: د. [٭٭٭٭٭٭٭٭] تفاصيل الحالة:\\nالمريضة [٭٭] حسن، البالغة من العمر ٭٭عامًا، تعاني من مرض الربو المزمن. تشكو من ضيق التنفس والسعال المتكرر والشهيق الشديد. تم تشخيصها بمرض الربو بناءً على تاريخها الطبي واختبارات وظائف الرئة. الخطة:\\nتم وصف مضادات الالتهاب غير الستيرويدية والموسعات القصبية لتحسين التنفس وتقليل التهيج. يجب على المريضة حمل معها جهاز الاستنشاق في حالة حدوث نوبة ربو حادة. يتعين على المريضة تجنب التحسس من العوامل المسببة للربو، مثل الدخان والغبار والحيوانات الأليفة. يجب مراقبة وظائف الرئة بانتظام ومتابعة التعليمات الطبية المتعلقة بمرض الربو. \\nتعليم المريضة بشأن كيفية استخدام جهاز الاستنشاق بشكل صحيح وتقنيات التنفس الصحيح\"}\n",
      "{\"predictions\": \"ملاحظات سريرية - مريض الضغط العالي:\\nالتاريخ: [٭٭٭٭٭] [٭٭] اسم المريض: [٭٭٭٭٭٭٭] العنوان: شارع الشفاء، مبنى رقم [٭٭] حي السعادة، [٭٭٭٭٭٭٭٭] الرمز البريدي: [٭٭٭] البلد: [٭] اسم المستشفى: مستشفى الرحمة اسم الطبيب: د. [٭٭٭٭٭٭] تفاصيل الحالة:\\nالمريض خالد محمد، البالغ من العمر ٭٭عامًا، يعاني من ضغط الدم الارتفاعي. يشكو من الصداع المستمر والدوخة والتعب الشديد. تم تشخيصه بارتفاع ضغط الدم بعد فحص شامل وقياسات متكررة. الخطة:\\nتم وصف دواءًا لخفض ضغط الدم ومراقبة المستويات بانتظام. يجب على المريض مراجعة الطبيب بانتظام لتقييم استجابته للعلاج وضبط الجرعات إن لزم الأمر. تعليم المريض بشأن أهمية اتباع نمط حياة صحي، بما في ذلك تجنب الأطعمة الغنية بالصوديوم وممارسة الرياضة بانتظام. يتعين على المريض مراقبة الوزن وتجنب التوتر النفسي والتدخين. ينصح المريض بإجراء فحوصات الكولسترول والسكر في الدم بانتظام.\"}\n",
      "{\"predictions\": \"ملاحظات سريرية - مريضة الغدة الدرقية:\\nالتاريخ: [٭٭٭٭٭] [٭٭] اسم المريضة: [٭٭٭٭٭٭٭٭٭٭٭٭٭] العنوان: شارع النجاح، مبنى رقم [٭٭] حي [٭٭٭٭] [٭٭٭٭٭] الرمز البريدي: [٭٭٭] البلد: [٭] اسم المستشفى: مستشفى الأمل اسم الطبيب: د. [٭٭٭٭٭٭٭٭] تفاصيل الحالة:\\nالمريضة [٭٭٭٭٭٭٭٭٭٭٭٭٭٭] البالغة من العمر ٭٭عامًا، تعاني من اضطرابات في الغدة الدرقية. تشكو من زيادة الوزن والتعب والاكتئاب. تم تشخيصها بفرط نشاط الغدة الدرقية بعد فحص الدم والتحاليل المخبرية. الخطة:\\nتم وصف العلاج الدوائي لتنظيم وظيفة الغدة الدرقية ومراقبة المستويات الهرمونية بانتظام. يجب على المريضة مراجعة الطبيب بانتظام لتقييم استجابتها للعلاج وضبط الجرعات إن لزم الأمر. تعليم المريضة بشأن أهمية اتباع نمط حياة صحي، بما في ذلك تناول الغذاء الصحي وممارسة النشاط البدني بانتظام. ينصح المريضة بإجراء فحوصات الدم الدورية لمتابعة مستويات الهرمونات وضبط العلاج. تعليم المريضة بشأن الأعراض التي يجب عليها مراقبتها والتقارير الفورية للطبيب، مثل التعب الشديد أو زيادة الوزن المفرط.\"}\n",
      "\n",
      "\n"
     ]
    }
   ],
   "source": [
    "masking_policies = {\n",
    "    \"masked\": \"input1.jsonl\",\n",
    "    \"obfuscated\": \"input2.jsonl\",\n",
    "    \"masked_fixed_length_chars\": \"input3.jsonl\",\n",
    "    \"masked_with_chars\": \"input4.jsonl\",\n",
    "}\n",
    "\n",
    "for policy_name, validation_file_name in masking_policies.items():\n",
    "    print(f\"Masking policy: {policy_name}\")\n",
    "    process_s3_jsonlines_output_and_save(validation_file_name)\n",
    "    print(\"\\n\")"
   ]
  },
  {
   "cell_type": "code",
   "execution_count": 23,
   "metadata": {
    "tags": []
   },
   "outputs": [
    {
     "name": "stderr",
     "output_type": "stream",
     "text": [
      "INFO:sagemaker:Deleting model with name: ar-deid-clinical-2024-05-02-17-41-05-080\n"
     ]
    }
   ],
   "source": [
    "model.delete_model()"
   ]
  },
  {
   "cell_type": "markdown",
   "metadata": {},
   "source": [
    "### Unsubscribe to the listing (optional)"
   ]
  },
  {
   "cell_type": "markdown",
   "metadata": {
    "tags": []
   },
   "source": [
    "If you would like to unsubscribe to the model package, follow these steps. Before you cancel the subscription, ensure that you do not have any [deployable model](https://console.aws.amazon.com/sagemaker/home#/models) created from the model package or using the algorithm. Note - You can find this information by looking at the container name associated with the model. \n",
    "\n",
    "**Steps to unsubscribe to product from AWS Marketplace**:\n",
    "1. Navigate to __Machine Learning__ tab on [__Your Software subscriptions page__](https://aws.amazon.com/marketplace/ai/library?productType=ml&ref_=mlmp_gitdemo_indust)\n",
    "2. Locate the listing that you want to cancel the subscription for, and then choose __Cancel Subscription__  to cancel the subscription.\n",
    "\n"
   ]
  }
 ],
 "metadata": {
  "instance_type": "ml.t3.medium",
  "kernelspec": {
   "display_name": "conda_python3",
   "language": "python",
   "name": "conda_python3"
  },
  "language_info": {
   "codemirror_mode": {
    "name": "ipython",
    "version": 3
   },
   "file_extension": ".py",
   "mimetype": "text/x-python",
   "name": "python",
   "nbconvert_exporter": "python",
   "pygments_lexer": "ipython3",
   "version": "3.10.14"
  }
 },
 "nbformat": 4,
 "nbformat_minor": 4
}

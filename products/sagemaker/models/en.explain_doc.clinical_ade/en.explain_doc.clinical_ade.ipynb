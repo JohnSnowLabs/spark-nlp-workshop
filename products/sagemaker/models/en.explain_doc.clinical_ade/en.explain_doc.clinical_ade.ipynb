{
 "cells": [
  {
   "cell_type": "markdown",
   "metadata": {},
   "source": [
    "## 1. Subscribe to the model package"
   ]
  },
  {
   "cell_type": "markdown",
   "metadata": {},
   "source": [
    "To subscribe to the model package:\n",
    "1. Open the model package listing page [Extract Adverse Drug Events (ADE)](https://aws.amazon.com/marketplace/pp/prodview-sueq4zd6lhe7e)\n",
    "1. On the AWS Marketplace listing, click on the **Continue to subscribe** button.\n",
    "1. On the **Subscribe to this software** page, review and click on **\"Accept Offer\"** if you and your organization agrees with EULA, pricing, and support terms. \n",
    "1. Once you click on **Continue to configuration button** and then choose a **region**, you will see a **Product Arn** displayed. This is the model package ARN that you need to specify while creating a deployable model using Boto3. Copy the ARN corresponding to your region and specify the same in the following cell."
   ]
  },
  {
   "cell_type": "markdown",
   "metadata": {},
   "source": [
    "## Pipeline for Adverse Drug Events\n",
    "\n",
    "Overview:\n",
    "\n",
    "Clinical entity detection, assertion status assignment, and relation extraction are crucial for analyzing medical texts. These processes can be incredibly useful to healthcare professionals, researchers, and medical NLP practitioners, enabling the extraction of valuable insights from clinical literature, electronic health records, and patient notes.\n",
    "\n",
    "\n",
    "- **Model**: `en.explain_doc.clinical_ade`\n",
    "- **Model Description**: This pipeline will classify the document, extract ADE and DRUG clinical entities, assign assertion status to ADE entities, and relate Drugs with their ADEs.\n",
    "\n"
   ]
  },
  {
   "cell_type": "code",
   "execution_count": 2,
   "metadata": {
    "tags": []
   },
   "outputs": [],
   "source": [
    "model_package_arn = \"<Customer to specify Model package ARN corresponding to their AWS region>\""
   ]
  },
  {
   "cell_type": "code",
   "execution_count": 3,
   "metadata": {
    "tags": []
   },
   "outputs": [
    {
     "name": "stderr",
     "output_type": "stream",
     "text": [
      "/home/ec2-user/anaconda3/envs/python3/lib/python3.10/site-packages/sagemaker/base_serializers.py:28: UserWarning: A NumPy version >=1.23.5 and <2.3.0 is required for this version of SciPy (detected version 1.22.4)\n",
      "  import scipy.sparse\n"
     ]
    },
    {
     "name": "stdout",
     "output_type": "stream",
     "text": [
      "sagemaker.config INFO - Not applying SDK defaults from location: /etc/xdg/sagemaker/config.yaml\n",
      "sagemaker.config INFO - Not applying SDK defaults from location: /home/ec2-user/.config/sagemaker/config.yaml\n"
     ]
    }
   ],
   "source": [
    "import base64\n",
    "import json\n",
    "import uuid\n",
    "from sagemaker import ModelPackage\n",
    "import sagemaker as sage\n",
    "from sagemaker import get_execution_role\n",
    "import boto3\n",
    "from IPython.display import Image, display\n",
    "from PIL import Image as ImageEdit\n",
    "import numpy as np"
   ]
  },
  {
   "cell_type": "code",
   "execution_count": 4,
   "metadata": {
    "tags": []
   },
   "outputs": [],
   "source": [
    "sagemaker_session = sage.Session()\n",
    "s3_bucket = sagemaker_session.default_bucket()\n",
    "region = sagemaker_session.boto_region_name\n",
    "account_id = boto3.client(\"sts\").get_caller_identity().get(\"Account\")\n",
    "role = get_execution_role()\n",
    "\n",
    "sagemaker = boto3.client(\"sagemaker\")\n",
    "s3_client = sagemaker_session.boto_session.client(\"s3\")\n",
    "ecr = boto3.client(\"ecr\")\n",
    "sm_runtime = boto3.client(\"sagemaker-runtime\")"
   ]
  },
  {
   "cell_type": "code",
   "execution_count": 5,
   "metadata": {
    "tags": []
   },
   "outputs": [],
   "source": [
    "model_name = \"en-explain-doc-clinical-ade\"\n",
    "\n",
    "real_time_inference_instance_type = \"ml.m4.xlarge\"\n",
    "batch_transform_inference_instance_type = \"ml.m4.2xlarge\""
   ]
  },
  {
   "cell_type": "markdown",
   "metadata": {},
   "source": [
    "## 2. Create a deployable model from the model package."
   ]
  },
  {
   "cell_type": "code",
   "execution_count": 6,
   "metadata": {
    "tags": []
   },
   "outputs": [],
   "source": [
    "# create a deployable model from the model package.\n",
    "model = ModelPackage(\n",
    "    role=role, \n",
    "    model_package_arn=model_package_arn,\n",
    "    sagemaker_session=sagemaker_session,\n",
    ")"
   ]
  },
  {
   "cell_type": "markdown",
   "metadata": {},
   "source": [
    "### Input Format\n",
    "\n",
    "To use the model, you need to provide input in one of the following supported formats:\n",
    "\n",
    "#### JSON Format\n",
    "\n",
    "Provide input as JSON. We support two variations within this format:\n",
    "\n",
    "1. **Array of Text Documents**: \n",
    "   Use an array containing multiple text documents. Each element represents a separate text document.\n",
    "\n",
    "   ```json\n",
    "   {\n",
    "       \"text\": [\n",
    "           \"Text document 1\",\n",
    "           \"Text document 2\",\n",
    "           ...\n",
    "       ]\n",
    "   }\n",
    "\n",
    "    ```\n",
    "\n",
    "2. **Single Text Document**:\n",
    "   Provide a single text document as a string.\n",
    "\n",
    "\n",
    "   ```json\n",
    "    {\n",
    "        \"text\": \"Single text document\"\n",
    "    }\n",
    "   ```\n",
    "\n",
    "#### JSON Lines (JSONL) Format\n",
    "\n",
    "Provide input in JSON Lines format, where each line is a JSON object representing a text document.\n",
    "\n",
    "```\n",
    "{\"text\": \"Text document 1\"}\n",
    "{\"text\": \"Text document 2\"}\n",
    "```"
   ]
  },
  {
   "cell_type": "markdown",
   "metadata": {},
   "source": [
    "## 3. Create an endpoint and perform real-time inference"
   ]
  },
  {
   "cell_type": "markdown",
   "metadata": {},
   "source": [
    "If you want to understand how real-time inference with Amazon SageMaker works, see [Documentation](https://docs.aws.amazon.com/sagemaker/latest/dg/how-it-works-hosting.html)."
   ]
  },
  {
   "cell_type": "markdown",
   "metadata": {},
   "source": [
    "### A. Deploy the SageMaker model to an endpoint"
   ]
  },
  {
   "cell_type": "code",
   "execution_count": 7,
   "metadata": {
    "tags": []
   },
   "outputs": [
    {
     "name": "stdout",
     "output_type": "stream",
     "text": [
      "-----------!"
     ]
    }
   ],
   "source": [
    "# Deploy the model\n",
    "predictor = model.deploy(\n",
    "    initial_instance_count=1,\n",
    "    instance_type=real_time_inference_instance_type, \n",
    "    endpoint_name=model_name,\n",
    ")"
   ]
  },
  {
   "cell_type": "markdown",
   "metadata": {},
   "source": [
    "Once endpoint has been created, you would be able to perform real-time inference."
   ]
  },
  {
   "cell_type": "code",
   "execution_count": 8,
   "metadata": {
    "tags": []
   },
   "outputs": [],
   "source": [
    "import json\n",
    "import pandas as pd\n",
    "import os\n",
    "import boto3\n",
    "\n",
    "# Set display options\n",
    "pd.set_option('display.max_rows', None)\n",
    "pd.set_option('display.max_columns', None)\n",
    "pd.set_option('display.max_colwidth', None)\n",
    "\n",
    "def process_data_and_invoke_realtime_endpoint(data, content_type, accept):\n",
    "\n",
    "    content_type_to_format = {'application/json': 'json', 'application/jsonlines': 'jsonl'}\n",
    "    input_format = content_type_to_format.get(content_type)\n",
    "    if content_type not in content_type_to_format.keys() or accept not in content_type_to_format.keys():\n",
    "        raise ValueError(\"Invalid content_type or accept. It should be either 'application/json' or 'application/jsonlines'.\")\n",
    "\n",
    "    i = 1\n",
    "    input_dir = f'inputs/real-time/{input_format}'\n",
    "    output_dir = f'outputs/real-time/{input_format}'\n",
    "    s3_input_dir = f\"{model_name}/validation-input/real-time/{input_format}\"\n",
    "    s3_output_dir = f\"{model_name}/validation-output/real-time/{input_format}\"\n",
    "\n",
    "    input_file_name = f'{input_dir}/input{i}.{input_format}'\n",
    "    output_file_name = f'{output_dir}/{os.path.basename(input_file_name)}.out'\n",
    "\n",
    "    while os.path.exists(input_file_name) or os.path.exists(output_file_name):\n",
    "        i += 1\n",
    "        input_file_name = f'{input_dir}/input{i}.{input_format}'\n",
    "        output_file_name = f'{output_dir}/{os.path.basename(input_file_name)}.out'\n",
    "\n",
    "    os.makedirs(os.path.dirname(input_file_name), exist_ok=True)\n",
    "    os.makedirs(os.path.dirname(output_file_name), exist_ok=True)\n",
    "\n",
    "    input_data = json.dumps(data) if content_type == 'application/json' else data\n",
    "\n",
    "    # Write input data to file\n",
    "    with open(input_file_name, 'w') as f:\n",
    "        f.write(input_data)\n",
    "\n",
    "    # Upload input data to S3\n",
    "    s3_client.put_object(Bucket=s3_bucket, Key=f\"{s3_input_dir}/{os.path.basename(input_file_name)}\", Body=bytes(input_data.encode('UTF-8')))\n",
    "\n",
    "    # Invoke the SageMaker endpoint\n",
    "    response = sm_runtime.invoke_endpoint(\n",
    "        EndpointName=model_name,\n",
    "        ContentType=content_type,\n",
    "        Accept=accept,\n",
    "        Body=input_data,\n",
    "    )\n",
    "\n",
    "    # Read response data\n",
    "    response_data = json.loads(response[\"Body\"].read().decode(\"utf-8\")) if accept == 'application/json' else response['Body'].read().decode('utf-8')\n",
    "\n",
    "    # Save response data to file\n",
    "    with open(output_file_name, 'w') as f_out:\n",
    "        if accept == 'application/json':\n",
    "            json.dump(response_data, f_out, indent=4)\n",
    "        else:\n",
    "            for item in response_data.split('\\n'):\n",
    "                f_out.write(item + '\\n')\n",
    "\n",
    "    # Upload response data to S3\n",
    "    output_s3_key = f\"{s3_output_dir}/{os.path.basename(output_file_name)}\"\n",
    "    if accept == 'application/json':\n",
    "        s3_client.put_object(Bucket=s3_bucket, Key=output_s3_key, Body=json.dumps(response_data).encode('UTF-8'))\n",
    "    else:\n",
    "        s3_client.put_object(Bucket=s3_bucket, Key=output_s3_key, Body=response_data)\n",
    "\n",
    "    return response_data"
   ]
  },
  {
   "cell_type": "markdown",
   "metadata": {},
   "source": [
    "### Initial Setup"
   ]
  },
  {
   "cell_type": "code",
   "execution_count": 9,
   "metadata": {
    "tags": []
   },
   "outputs": [],
   "source": [
    "docs = [\n",
    "    '''Always tired, and possible blood clots. I was on Voltaren for about 4 years and all of the sudden had a minor stroke and had blood clots that traveled to my eye. I had every test in the book done at the hospital, and they couldn't find anything. I was completley healthy! I am thinking it was from the voltaren. I have been off of the drug for 8 months now, and have never felt better. I started eating healthy and working out and that has help alot. I can now sleep all thru the night. I wont take this again. If I have the pain, I will pop a tylonol instead.''',\n",
    "    '''I have an allergic reaction to vancomycin so I have itchy skin, sore throat/burning/itching, numbness of tongue and gums.I would not recommend this drug to anyone, especially since I have never had such an adverse reaction to any other medication.'''\n",
    "]\n",
    "\n",
    "\n",
    "sample_text = '''Been taking Lipitor for 15 years , have experienced severe fatigue a lot!!! . Doctor moved me to voltaren 2 months ago , so far , have only experienced cramps.'''\n"
   ]
  },
  {
   "cell_type": "markdown",
   "metadata": {},
   "source": [
    "### JSON"
   ]
  },
  {
   "cell_type": "code",
   "execution_count": 10,
   "metadata": {
    "tags": []
   },
   "outputs": [],
   "source": [
    "input_json_data = {\"text\": sample_text}\n",
    "\n",
    "data =  process_data_and_invoke_realtime_endpoint(input_json_data, content_type=\"application/json\" , accept=\"application/json\" )\n",
    "ner_df = pd.DataFrame(data[0][\"ner_predictions\"])\n",
    "assertion_df = pd.DataFrame(data[0][\"assertion_predictions\"])\n",
    "relation_df = pd.DataFrame(data[0][\"relation_predictions\"])\n",
    "classification_df = pd.DataFrame(data[0][\"classification_predictions\"])"
   ]
  },
  {
   "cell_type": "code",
   "execution_count": 11,
   "metadata": {
    "tags": []
   },
   "outputs": [
    {
     "data": {
      "text/html": [
       "<div>\n",
       "<style scoped>\n",
       "    .dataframe tbody tr th:only-of-type {\n",
       "        vertical-align: middle;\n",
       "    }\n",
       "\n",
       "    .dataframe tbody tr th {\n",
       "        vertical-align: top;\n",
       "    }\n",
       "\n",
       "    .dataframe thead th {\n",
       "        text-align: right;\n",
       "    }\n",
       "</style>\n",
       "<table border=\"1\" class=\"dataframe\">\n",
       "  <thead>\n",
       "    <tr style=\"text-align: right;\">\n",
       "      <th></th>\n",
       "      <th>ner_chunk</th>\n",
       "      <th>begin</th>\n",
       "      <th>end</th>\n",
       "      <th>ner_label</th>\n",
       "      <th>ner_confidence</th>\n",
       "    </tr>\n",
       "  </thead>\n",
       "  <tbody>\n",
       "    <tr>\n",
       "      <th>0</th>\n",
       "      <td>Lipitor</td>\n",
       "      <td>12</td>\n",
       "      <td>18</td>\n",
       "      <td>DRUG</td>\n",
       "      <td>0.9927</td>\n",
       "    </tr>\n",
       "    <tr>\n",
       "      <th>1</th>\n",
       "      <td>severe fatigue</td>\n",
       "      <td>52</td>\n",
       "      <td>65</td>\n",
       "      <td>ADE</td>\n",
       "      <td>0.48995</td>\n",
       "    </tr>\n",
       "    <tr>\n",
       "      <th>2</th>\n",
       "      <td>voltaren</td>\n",
       "      <td>97</td>\n",
       "      <td>104</td>\n",
       "      <td>DRUG</td>\n",
       "      <td>None</td>\n",
       "    </tr>\n",
       "    <tr>\n",
       "      <th>3</th>\n",
       "      <td>cramps</td>\n",
       "      <td>152</td>\n",
       "      <td>157</td>\n",
       "      <td>ADE</td>\n",
       "      <td>0.7472</td>\n",
       "    </tr>\n",
       "  </tbody>\n",
       "</table>\n",
       "</div>"
      ],
      "text/plain": [
       "        ner_chunk  begin  end ner_label ner_confidence\n",
       "0         Lipitor     12   18      DRUG         0.9927\n",
       "1  severe fatigue     52   65       ADE        0.48995\n",
       "2        voltaren     97  104      DRUG           None\n",
       "3          cramps    152  157       ADE         0.7472"
      ]
     },
     "execution_count": 11,
     "metadata": {},
     "output_type": "execute_result"
    }
   ],
   "source": [
    "ner_df"
   ]
  },
  {
   "cell_type": "code",
   "execution_count": 12,
   "metadata": {
    "tags": []
   },
   "outputs": [
    {
     "data": {
      "text/html": [
       "<div>\n",
       "<style scoped>\n",
       "    .dataframe tbody tr th:only-of-type {\n",
       "        vertical-align: middle;\n",
       "    }\n",
       "\n",
       "    .dataframe tbody tr th {\n",
       "        vertical-align: top;\n",
       "    }\n",
       "\n",
       "    .dataframe thead th {\n",
       "        text-align: right;\n",
       "    }\n",
       "</style>\n",
       "<table border=\"1\" class=\"dataframe\">\n",
       "  <thead>\n",
       "    <tr style=\"text-align: right;\">\n",
       "      <th></th>\n",
       "      <th>ner_chunk</th>\n",
       "      <th>begin</th>\n",
       "      <th>end</th>\n",
       "      <th>ner_label</th>\n",
       "      <th>assertion</th>\n",
       "    </tr>\n",
       "  </thead>\n",
       "  <tbody>\n",
       "    <tr>\n",
       "      <th>0</th>\n",
       "      <td>Lipitor</td>\n",
       "      <td>12</td>\n",
       "      <td>18</td>\n",
       "      <td>DRUG</td>\n",
       "      <td>Past</td>\n",
       "    </tr>\n",
       "    <tr>\n",
       "      <th>1</th>\n",
       "      <td>severe fatigue</td>\n",
       "      <td>52</td>\n",
       "      <td>65</td>\n",
       "      <td>ADE</td>\n",
       "      <td>Past</td>\n",
       "    </tr>\n",
       "    <tr>\n",
       "      <th>2</th>\n",
       "      <td>cramps</td>\n",
       "      <td>152</td>\n",
       "      <td>157</td>\n",
       "      <td>ADE</td>\n",
       "      <td>Past</td>\n",
       "    </tr>\n",
       "  </tbody>\n",
       "</table>\n",
       "</div>"
      ],
      "text/plain": [
       "        ner_chunk  begin  end ner_label assertion\n",
       "0         Lipitor     12   18      DRUG      Past\n",
       "1  severe fatigue     52   65       ADE      Past\n",
       "2          cramps    152  157       ADE      Past"
      ]
     },
     "execution_count": 12,
     "metadata": {},
     "output_type": "execute_result"
    }
   ],
   "source": [
    "assertion_df"
   ]
  },
  {
   "cell_type": "code",
   "execution_count": 13,
   "metadata": {
    "tags": []
   },
   "outputs": [
    {
     "data": {
      "text/html": [
       "<div>\n",
       "<style scoped>\n",
       "    .dataframe tbody tr th:only-of-type {\n",
       "        vertical-align: middle;\n",
       "    }\n",
       "\n",
       "    .dataframe tbody tr th {\n",
       "        vertical-align: top;\n",
       "    }\n",
       "\n",
       "    .dataframe thead th {\n",
       "        text-align: right;\n",
       "    }\n",
       "</style>\n",
       "<table border=\"1\" class=\"dataframe\">\n",
       "  <thead>\n",
       "    <tr style=\"text-align: right;\">\n",
       "      <th></th>\n",
       "      <th>ner_chunk1</th>\n",
       "      <th>ner_chunk1_begin</th>\n",
       "      <th>ner_chunk1_end</th>\n",
       "      <th>ner_label1</th>\n",
       "      <th>ner_chunk2</th>\n",
       "      <th>ner_chunk2_begin</th>\n",
       "      <th>ner_chunk2_end</th>\n",
       "      <th>ner_label2</th>\n",
       "      <th>relations</th>\n",
       "      <th>relation_confidence</th>\n",
       "    </tr>\n",
       "  </thead>\n",
       "  <tbody>\n",
       "    <tr>\n",
       "      <th>0</th>\n",
       "      <td>Lipitor</td>\n",
       "      <td>12</td>\n",
       "      <td>18</td>\n",
       "      <td>DRUG</td>\n",
       "      <td>severe fatigue</td>\n",
       "      <td>52</td>\n",
       "      <td>65</td>\n",
       "      <td>ADE</td>\n",
       "      <td>1</td>\n",
       "      <td>1.0</td>\n",
       "    </tr>\n",
       "  </tbody>\n",
       "</table>\n",
       "</div>"
      ],
      "text/plain": [
       "  ner_chunk1 ner_chunk1_begin ner_chunk1_end ner_label1      ner_chunk2  \\\n",
       "0    Lipitor               12             18       DRUG  severe fatigue   \n",
       "\n",
       "  ner_chunk2_begin ner_chunk2_end ner_label2 relations relation_confidence  \n",
       "0               52             65        ADE         1                 1.0  "
      ]
     },
     "execution_count": 13,
     "metadata": {},
     "output_type": "execute_result"
    }
   ],
   "source": [
    "relation_df"
   ]
  },
  {
   "cell_type": "code",
   "execution_count": 14,
   "metadata": {
    "tags": []
   },
   "outputs": [
    {
     "data": {
      "text/html": [
       "<div>\n",
       "<style scoped>\n",
       "    .dataframe tbody tr th:only-of-type {\n",
       "        vertical-align: middle;\n",
       "    }\n",
       "\n",
       "    .dataframe tbody tr th {\n",
       "        vertical-align: top;\n",
       "    }\n",
       "\n",
       "    .dataframe thead th {\n",
       "        text-align: right;\n",
       "    }\n",
       "</style>\n",
       "<table border=\"1\" class=\"dataframe\">\n",
       "  <thead>\n",
       "    <tr style=\"text-align: right;\">\n",
       "      <th></th>\n",
       "      <th>sentence</th>\n",
       "      <th>begin</th>\n",
       "      <th>end</th>\n",
       "      <th>class</th>\n",
       "      <th>class_confidence</th>\n",
       "    </tr>\n",
       "  </thead>\n",
       "  <tbody>\n",
       "    <tr>\n",
       "      <th>0</th>\n",
       "      <td>Been taking Lipitor for 15 years , have experienced severe fatigue a lot!!! .</td>\n",
       "      <td>0</td>\n",
       "      <td>76</td>\n",
       "      <td>ADE</td>\n",
       "      <td>0.9999447</td>\n",
       "    </tr>\n",
       "    <tr>\n",
       "      <th>1</th>\n",
       "      <td>Doctor moved me to voltaren 2 months ago , so far , have only experienced cramps.</td>\n",
       "      <td>78</td>\n",
       "      <td>158</td>\n",
       "      <td>ADE</td>\n",
       "      <td>0.9983479</td>\n",
       "    </tr>\n",
       "  </tbody>\n",
       "</table>\n",
       "</div>"
      ],
      "text/plain": [
       "                                                                            sentence  \\\n",
       "0      Been taking Lipitor for 15 years , have experienced severe fatigue a lot!!! .   \n",
       "1  Doctor moved me to voltaren 2 months ago , so far , have only experienced cramps.   \n",
       "\n",
       "   begin  end class class_confidence  \n",
       "0      0   76   ADE        0.9999447  \n",
       "1     78  158   ADE        0.9983479  "
      ]
     },
     "execution_count": 14,
     "metadata": {},
     "output_type": "execute_result"
    }
   ],
   "source": [
    "classification_df"
   ]
  },
  {
   "cell_type": "markdown",
   "metadata": {},
   "source": [
    "### JSON Lines"
   ]
  },
  {
   "cell_type": "code",
   "execution_count": 15,
   "metadata": {
    "tags": []
   },
   "outputs": [],
   "source": [
    "import json\n",
    "\n",
    "def create_jsonl(records):\n",
    "    \n",
    "    if isinstance(records, str):\n",
    "        records = [records]\n",
    "    \n",
    "    json_records = []\n",
    "\n",
    "    for text in records:\n",
    "        record = {\n",
    "            \"text\": text\n",
    "        }\n",
    "        json_records.append(record)\n",
    "\n",
    "    json_lines = '\\n'.join(json.dumps(record) for record in json_records)\n",
    "\n",
    "    return json_lines"
   ]
  },
  {
   "cell_type": "code",
   "execution_count": 16,
   "metadata": {
    "tags": []
   },
   "outputs": [
    {
     "name": "stdout",
     "output_type": "stream",
     "text": [
      "{\"ner_predictions\": [{\"ner_chunk\": \"Lipitor\", \"begin\": 12, \"end\": 18, \"ner_label\": \"DRUG\", \"ner_confidence\": \"0.9927\"}, {\"ner_chunk\": \"severe fatigue\", \"begin\": 52, \"end\": 65, \"ner_label\": \"ADE\", \"ner_confidence\": \"0.48995\"}, {\"ner_chunk\": \"voltaren\", \"begin\": 97, \"end\": 104, \"ner_label\": \"DRUG\", \"ner_confidence\": null}, {\"ner_chunk\": \"cramps\", \"begin\": 152, \"end\": 157, \"ner_label\": \"ADE\", \"ner_confidence\": \"0.7472\"}], \"relation_predictions\": [{\"ner_chunk1\": \"Lipitor\", \"ner_chunk1_begin\": \"12\", \"ner_chunk1_end\": \"18\", \"ner_label1\": \"DRUG\", \"ner_chunk2\": \"severe fatigue\", \"ner_chunk2_begin\": \"52\", \"ner_chunk2_end\": \"65\", \"ner_label2\": \"ADE\", \"relations\": \"1\", \"relation_confidence\": \"1.0\"}], \"assertion_predictions\": [{\"ner_chunk\": \"Lipitor\", \"begin\": 12, \"end\": 18, \"ner_label\": \"DRUG\", \"assertion\": \"Past\"}, {\"ner_chunk\": \"severe fatigue\", \"begin\": 52, \"end\": 65, \"ner_label\": \"ADE\", \"assertion\": \"Past\"}, {\"ner_chunk\": \"cramps\", \"begin\": 152, \"end\": 157, \"ner_label\": \"ADE\", \"assertion\": \"Past\"}], \"classification_predictions\": [{\"sentence\": \"Been taking Lipitor for 15 years , have experienced severe fatigue a lot!!! .\", \"begin\": 0, \"end\": 76, \"class\": \"ADE\", \"class_confidence\": \"0.9999447\"}, {\"sentence\": \"Doctor moved me to voltaren 2 months ago , so far , have only experienced cramps.\", \"begin\": 78, \"end\": 158, \"class\": \"ADE\", \"class_confidence\": \"0.9983479\"}]}\n"
     ]
    }
   ],
   "source": [
    "input_jsonl_data = create_jsonl(sample_text)\n",
    "data = process_data_and_invoke_realtime_endpoint(input_jsonl_data, content_type=\"application/jsonlines\" , accept=\"application/jsonlines\" )\n",
    "print(data)"
   ]
  },
  {
   "cell_type": "markdown",
   "metadata": {},
   "source": [
    "### C. Delete the endpoint"
   ]
  },
  {
   "cell_type": "markdown",
   "metadata": {},
   "source": [
    "Now that you have successfully performed a real-time inference, you do not need the endpoint any more. You can terminate the endpoint to avoid being charged."
   ]
  },
  {
   "cell_type": "code",
   "execution_count": 17,
   "metadata": {
    "tags": []
   },
   "outputs": [],
   "source": [
    "model.sagemaker_session.delete_endpoint(model_name)\n",
    "model.sagemaker_session.delete_endpoint_config(model_name)"
   ]
  },
  {
   "cell_type": "markdown",
   "metadata": {
    "tags": []
   },
   "source": [
    "## 4. Batch inference"
   ]
  },
  {
   "cell_type": "code",
   "execution_count": 18,
   "metadata": {
    "tags": []
   },
   "outputs": [],
   "source": [
    "import json\n",
    "import os\n",
    "\n",
    "input_dir = 'inputs/batch'\n",
    "json_input_dir = f\"{input_dir}/json\"\n",
    "jsonl_input_dir = f\"{input_dir}/jsonl\"\n",
    "\n",
    "output_dir = 'outputs/batch'\n",
    "json_output_dir = f\"{output_dir}/json\"\n",
    "jsonl_output_dir = f\"{output_dir}/jsonl\"\n",
    "\n",
    "os.makedirs(json_input_dir, exist_ok=True)\n",
    "os.makedirs(jsonl_input_dir, exist_ok=True)\n",
    "os.makedirs(json_output_dir, exist_ok=True)\n",
    "os.makedirs(jsonl_output_dir, exist_ok=True)\n",
    "\n",
    "validation_json_file_name = \"input.json\"\n",
    "\n",
    "validation_jsonl_file_name = \"input.jsonl\"\n",
    "\n",
    "validation_input_json_path = f\"s3://{s3_bucket}/{model_name}/validation-input/batch/json/\"\n",
    "validation_output_json_path = f\"s3://{s3_bucket}/{model_name}/validation-output/batch/json/\"\n",
    "\n",
    "validation_input_jsonl_path = f\"s3://{s3_bucket}/{model_name}/validation-input/batch/jsonl/\"\n",
    "validation_output_jsonl_path = f\"s3://{s3_bucket}/{model_name}/validation-output/batch/jsonl/\"\n",
    "\n",
    "def write_and_upload_to_s3(input_data, file_name):\n",
    "    file_format = os.path.splitext(file_name)[1].lower()\n",
    "    if file_format == \".json\":\n",
    "        input_data = json.dumps(input_data)\n",
    "\n",
    "    with open(file_name, \"w\") as f:\n",
    "        f.write(input_data)\n",
    "\n",
    "    s3_client.put_object(\n",
    "        Bucket=s3_bucket,\n",
    "        Key=f\"{model_name}/validation-input/batch/{file_format[1:]}/{os.path.basename(file_name)}\",\n",
    "        Body=(bytes(input_data.encode(\"UTF-8\"))),\n",
    "    )"
   ]
  },
  {
   "cell_type": "code",
   "execution_count": 19,
   "metadata": {
    "tags": []
   },
   "outputs": [],
   "source": [
    "input_jsonl_data = create_jsonl(docs)\n",
    "input_json_data = {\"text\": docs}\n",
    "\n",
    "write_and_upload_to_s3(input_json_data, f\"{json_input_dir}/{validation_json_file_name}\")\n",
    "\n",
    "write_and_upload_to_s3(input_jsonl_data, f\"{jsonl_input_dir}/{validation_jsonl_file_name}\")"
   ]
  },
  {
   "cell_type": "markdown",
   "metadata": {},
   "source": [
    "### JSON"
   ]
  },
  {
   "cell_type": "code",
   "execution_count": null,
   "metadata": {
    "tags": []
   },
   "outputs": [],
   "source": [
    "# Initialize a SageMaker Transformer object for making predictions\n",
    "transformer = model.transformer(\n",
    "    instance_count=1,\n",
    "    instance_type=batch_transform_inference_instance_type,\n",
    "    accept=\"application/json\",\n",
    "    output_path=validation_output_json_path\n",
    ")\n",
    "\n",
    "transformer.transform(validation_input_json_path, content_type=\"application/json\")\n",
    "transformer.wait()"
   ]
  },
  {
   "cell_type": "code",
   "execution_count": 21,
   "metadata": {
    "tags": []
   },
   "outputs": [],
   "source": [
    "from urllib.parse import urlparse\n",
    "\n",
    "def process_s3_json_output_and_save(validation_file_name):\n",
    "\n",
    "    output_file_path = f\"{json_output_dir}/{validation_file_name}.out\"\n",
    "    parsed_url = urlparse(transformer.output_path)\n",
    "    file_key = f\"{parsed_url.path[1:]}{validation_file_name}.out\"\n",
    "    response = s3_client.get_object(Bucket=s3_bucket, Key=file_key)\n",
    "\n",
    "    data = json.loads(response[\"Body\"].read().decode(\"utf-8\"))\n",
    "    # Define a dictionary with DataFrame objects and their names\n",
    "    display(data)\n",
    "    # Save the data to the output file\n",
    "    with open(output_file_path, 'w') as f_out:\n",
    "        json.dump(data, f_out, indent=4)"
   ]
  },
  {
   "cell_type": "code",
   "execution_count": 22,
   "metadata": {
    "tags": []
   },
   "outputs": [
    {
     "data": {
      "text/plain": [
       "[{'ner_predictions': [{'ner_chunk': 'Voltaren',\n",
       "    'begin': 49,\n",
       "    'end': 56,\n",
       "    'ner_label': 'DRUG',\n",
       "    'ner_confidence': '0.9929'},\n",
       "   {'ner_chunk': 'blood clots that traveled to my eye',\n",
       "    'begin': 125,\n",
       "    'end': 159,\n",
       "    'ner_label': 'ADE',\n",
       "    'ner_confidence': '0.7211286'},\n",
       "   {'ner_chunk': 'voltaren',\n",
       "    'begin': 302,\n",
       "    'end': 309,\n",
       "    'ner_label': 'DRUG',\n",
       "    'ner_confidence': '0.9874'},\n",
       "   {'ner_chunk': 'tylonol',\n",
       "    'begin': 544,\n",
       "    'end': 550,\n",
       "    'ner_label': 'DRUG',\n",
       "    'ner_confidence': '0.9445'}],\n",
       "  'relation_predictions': [],\n",
       "  'assertion_predictions': [{'ner_chunk': 'Voltaren',\n",
       "    'begin': 49,\n",
       "    'end': 56,\n",
       "    'ner_label': 'DRUG',\n",
       "    'assertion': 'Past'},\n",
       "   {'ner_chunk': 'blood clots that traveled to my eye',\n",
       "    'begin': 125,\n",
       "    'end': 159,\n",
       "    'ner_label': 'ADE',\n",
       "    'assertion': 'Past'},\n",
       "   {'ner_chunk': 'voltaren',\n",
       "    'begin': 302,\n",
       "    'end': 309,\n",
       "    'ner_label': 'DRUG',\n",
       "    'assertion': 'Past'},\n",
       "   {'ner_chunk': 'tylonol',\n",
       "    'begin': 544,\n",
       "    'end': 550,\n",
       "    'ner_label': 'DRUG',\n",
       "    'assertion': 'Planned'}],\n",
       "  'classification_predictions': [{'sentence': 'Always tired, and possible blood clots.',\n",
       "    'begin': 0,\n",
       "    'end': 38,\n",
       "    'class': 'ADE',\n",
       "    'class_confidence': '0.9999837'},\n",
       "   {'sentence': 'I was on Voltaren for about 4 years and all of the sudden had a minor stroke and had blood clots that traveled to my eye.',\n",
       "    'begin': 40,\n",
       "    'end': 160,\n",
       "    'class': 'ADE',\n",
       "    'class_confidence': '0.9999931'},\n",
       "   {'sentence': \"I had every test in the book done at the hospital, and they couldn't find anything.\",\n",
       "    'begin': 162,\n",
       "    'end': 244,\n",
       "    'class': 'noADE',\n",
       "    'class_confidence': '0.99997866'},\n",
       "   {'sentence': 'I was completley healthy!',\n",
       "    'begin': 246,\n",
       "    'end': 270,\n",
       "    'class': 'noADE',\n",
       "    'class_confidence': '0.99995303'},\n",
       "   {'sentence': 'I am thinking it was from the voltaren.',\n",
       "    'begin': 272,\n",
       "    'end': 310,\n",
       "    'class': 'noADE',\n",
       "    'class_confidence': '0.9992336'},\n",
       "   {'sentence': 'I have been off of the drug for 8 months now, and have never felt better.',\n",
       "    'begin': 312,\n",
       "    'end': 384,\n",
       "    'class': 'noADE',\n",
       "    'class_confidence': '0.97749734'},\n",
       "   {'sentence': 'I started eating healthy and working out and that has help alot.',\n",
       "    'begin': 386,\n",
       "    'end': 449,\n",
       "    'class': 'noADE',\n",
       "    'class_confidence': '0.9999896'},\n",
       "   {'sentence': 'I can now sleep all thru the night.',\n",
       "    'begin': 451,\n",
       "    'end': 485,\n",
       "    'class': 'ADE',\n",
       "    'class_confidence': '0.9971162'},\n",
       "   {'sentence': 'I wont take this again.',\n",
       "    'begin': 487,\n",
       "    'end': 509,\n",
       "    'class': 'noADE',\n",
       "    'class_confidence': '0.9999801'},\n",
       "   {'sentence': 'If I have the pain, I will pop a tylonol instead.',\n",
       "    'begin': 511,\n",
       "    'end': 559,\n",
       "    'class': 'noADE',\n",
       "    'class_confidence': '0.99999046'}]},\n",
       " {'ner_predictions': [{'ner_chunk': 'allergic reaction',\n",
       "    'begin': 10,\n",
       "    'end': 26,\n",
       "    'ner_label': 'ADE',\n",
       "    'ner_confidence': '0.68645'},\n",
       "   {'ner_chunk': 'vancomycin',\n",
       "    'begin': 31,\n",
       "    'end': 40,\n",
       "    'ner_label': 'DRUG',\n",
       "    'ner_confidence': '0.9998'},\n",
       "   {'ner_chunk': 'itchy skin',\n",
       "    'begin': 52,\n",
       "    'end': 61,\n",
       "    'ner_label': 'ADE',\n",
       "    'ner_confidence': '0.71365'},\n",
       "   {'ner_chunk': 'sore throat/burning/itching',\n",
       "    'begin': 64,\n",
       "    'end': 90,\n",
       "    'ner_label': 'ADE',\n",
       "    'ner_confidence': '0.81229997'},\n",
       "   {'ner_chunk': 'numbness of tongue',\n",
       "    'begin': 93,\n",
       "    'end': 110,\n",
       "    'ner_label': 'ADE',\n",
       "    'ner_confidence': '0.6829667'},\n",
       "   {'ner_chunk': 'gums',\n",
       "    'begin': 116,\n",
       "    'end': 119,\n",
       "    'ner_label': 'ADE',\n",
       "    'ner_confidence': '0.7055'}],\n",
       "  'relation_predictions': [{'ner_chunk1': 'allergic reaction',\n",
       "    'ner_chunk1_begin': '10',\n",
       "    'ner_chunk1_end': '26',\n",
       "    'ner_label1': 'ADE',\n",
       "    'ner_chunk2': 'vancomycin',\n",
       "    'ner_chunk2_begin': '31',\n",
       "    'ner_chunk2_end': '40',\n",
       "    'ner_label2': 'DRUG',\n",
       "    'relations': '1',\n",
       "    'relation_confidence': '1.0'},\n",
       "   {'ner_chunk1': 'vancomycin',\n",
       "    'ner_chunk1_begin': '31',\n",
       "    'ner_chunk1_end': '40',\n",
       "    'ner_label1': 'DRUG',\n",
       "    'ner_chunk2': 'itchy skin',\n",
       "    'ner_chunk2_begin': '52',\n",
       "    'ner_chunk2_end': '61',\n",
       "    'ner_label2': 'ADE',\n",
       "    'relations': '1',\n",
       "    'relation_confidence': '0.99999774'}],\n",
       "  'assertion_predictions': [{'ner_chunk': 'allergic reaction',\n",
       "    'begin': 10,\n",
       "    'end': 26,\n",
       "    'ner_label': 'ADE',\n",
       "    'assertion': 'Hypothetical'},\n",
       "   {'ner_chunk': 'vancomycin',\n",
       "    'begin': 31,\n",
       "    'end': 40,\n",
       "    'ner_label': 'DRUG',\n",
       "    'assertion': 'Hypothetical'},\n",
       "   {'ner_chunk': 'itchy skin',\n",
       "    'begin': 52,\n",
       "    'end': 61,\n",
       "    'ner_label': 'ADE',\n",
       "    'assertion': 'Absent'},\n",
       "   {'ner_chunk': 'sore throat/burning/itching',\n",
       "    'begin': 64,\n",
       "    'end': 90,\n",
       "    'ner_label': 'ADE',\n",
       "    'assertion': 'Hypothetical'},\n",
       "   {'ner_chunk': 'numbness of tongue',\n",
       "    'begin': 93,\n",
       "    'end': 110,\n",
       "    'ner_label': 'ADE',\n",
       "    'assertion': 'Absent'},\n",
       "   {'ner_chunk': 'gums',\n",
       "    'begin': 116,\n",
       "    'end': 119,\n",
       "    'ner_label': 'ADE',\n",
       "    'assertion': 'Hypothetical'}],\n",
       "  'classification_predictions': [{'sentence': 'I have an allergic reaction to vancomycin so I have itchy skin, sore throat/burning/itching, numbness of tongue and gums.',\n",
       "    'begin': 0,\n",
       "    'end': 120,\n",
       "    'class': 'ADE',\n",
       "    'class_confidence': '0.9999944'},\n",
       "   {'sentence': 'I would not recommend this drug to anyone, especially since I have never had such an adverse reaction to any other medication.',\n",
       "    'begin': 121,\n",
       "    'end': 246,\n",
       "    'class': 'ADE',\n",
       "    'class_confidence': '0.99999386'}]}]"
      ]
     },
     "metadata": {},
     "output_type": "display_data"
    }
   ],
   "source": [
    "process_s3_json_output_and_save(validation_json_file_name)"
   ]
  },
  {
   "cell_type": "markdown",
   "metadata": {},
   "source": [
    "### JSON Lines"
   ]
  },
  {
   "cell_type": "code",
   "execution_count": null,
   "metadata": {
    "tags": []
   },
   "outputs": [],
   "source": [
    "transformer = model.transformer(\n",
    "    instance_count=1,\n",
    "    instance_type=batch_transform_inference_instance_type,\n",
    "    accept=\"application/jsonlines\",\n",
    "    output_path=validation_output_jsonl_path\n",
    ")\n",
    "transformer.transform(validation_input_jsonl_path, content_type=\"application/jsonlines\")\n",
    "transformer.wait()"
   ]
  },
  {
   "cell_type": "code",
   "execution_count": 24,
   "metadata": {
    "tags": []
   },
   "outputs": [],
   "source": [
    "from urllib.parse import urlparse\n",
    "\n",
    "def process_s3_jsonlines_output_and_save(validation_file_name):\n",
    "\n",
    "    output_file_path = f\"{jsonl_output_dir}/{validation_file_name}.out\"\n",
    "    parsed_url = urlparse(transformer.output_path)\n",
    "    file_key = f\"{parsed_url.path[1:]}{validation_file_name}.out\"\n",
    "    response = s3_client.get_object(Bucket=s3_bucket, Key=file_key)\n",
    "\n",
    "    data = response[\"Body\"].read().decode(\"utf-8\")\n",
    "    print(data)\n",
    "\n",
    "    # Save the data to the output file\n",
    "    with open(output_file_path, 'w') as f_out:\n",
    "        for item in data.split('\\n'):\n",
    "            f_out.write(item + '\\n')"
   ]
  },
  {
   "cell_type": "code",
   "execution_count": 25,
   "metadata": {
    "tags": []
   },
   "outputs": [
    {
     "name": "stdout",
     "output_type": "stream",
     "text": [
      "{\"ner_predictions\": [{\"ner_chunk\": \"Voltaren\", \"begin\": 49, \"end\": 56, \"ner_label\": \"DRUG\", \"ner_confidence\": \"0.9929\"}, {\"ner_chunk\": \"blood clots that traveled to my eye\", \"begin\": 125, \"end\": 159, \"ner_label\": \"ADE\", \"ner_confidence\": \"0.7211286\"}, {\"ner_chunk\": \"voltaren\", \"begin\": 302, \"end\": 309, \"ner_label\": \"DRUG\", \"ner_confidence\": \"0.9874\"}, {\"ner_chunk\": \"tylonol\", \"begin\": 544, \"end\": 550, \"ner_label\": \"DRUG\", \"ner_confidence\": \"0.9445\"}], \"relation_predictions\": [], \"assertion_predictions\": [{\"ner_chunk\": \"Voltaren\", \"begin\": 49, \"end\": 56, \"ner_label\": \"DRUG\", \"assertion\": \"Past\"}, {\"ner_chunk\": \"blood clots that traveled to my eye\", \"begin\": 125, \"end\": 159, \"ner_label\": \"ADE\", \"assertion\": \"Past\"}, {\"ner_chunk\": \"voltaren\", \"begin\": 302, \"end\": 309, \"ner_label\": \"DRUG\", \"assertion\": \"Past\"}, {\"ner_chunk\": \"tylonol\", \"begin\": 544, \"end\": 550, \"ner_label\": \"DRUG\", \"assertion\": \"Planned\"}], \"classification_predictions\": [{\"sentence\": \"Always tired, and possible blood clots.\", \"begin\": 0, \"end\": 38, \"class\": \"ADE\", \"class_confidence\": \"0.9999837\"}, {\"sentence\": \"I was on Voltaren for about 4 years and all of the sudden had a minor stroke and had blood clots that traveled to my eye.\", \"begin\": 40, \"end\": 160, \"class\": \"ADE\", \"class_confidence\": \"0.9999931\"}, {\"sentence\": \"I had every test in the book done at the hospital, and they couldn't find anything.\", \"begin\": 162, \"end\": 244, \"class\": \"noADE\", \"class_confidence\": \"0.99997866\"}, {\"sentence\": \"I was completley healthy!\", \"begin\": 246, \"end\": 270, \"class\": \"noADE\", \"class_confidence\": \"0.99995303\"}, {\"sentence\": \"I am thinking it was from the voltaren.\", \"begin\": 272, \"end\": 310, \"class\": \"noADE\", \"class_confidence\": \"0.9992336\"}, {\"sentence\": \"I have been off of the drug for 8 months now, and have never felt better.\", \"begin\": 312, \"end\": 384, \"class\": \"noADE\", \"class_confidence\": \"0.97749734\"}, {\"sentence\": \"I started eating healthy and working out and that has help alot.\", \"begin\": 386, \"end\": 449, \"class\": \"noADE\", \"class_confidence\": \"0.9999896\"}, {\"sentence\": \"I can now sleep all thru the night.\", \"begin\": 451, \"end\": 485, \"class\": \"ADE\", \"class_confidence\": \"0.9971162\"}, {\"sentence\": \"I wont take this again.\", \"begin\": 487, \"end\": 509, \"class\": \"noADE\", \"class_confidence\": \"0.9999801\"}, {\"sentence\": \"If I have the pain, I will pop a tylonol instead.\", \"begin\": 511, \"end\": 559, \"class\": \"noADE\", \"class_confidence\": \"0.99999046\"}]}\n",
      "{\"ner_predictions\": [{\"ner_chunk\": \"allergic reaction\", \"begin\": 10, \"end\": 26, \"ner_label\": \"ADE\", \"ner_confidence\": \"0.68645\"}, {\"ner_chunk\": \"vancomycin\", \"begin\": 31, \"end\": 40, \"ner_label\": \"DRUG\", \"ner_confidence\": \"0.9998\"}, {\"ner_chunk\": \"itchy skin\", \"begin\": 52, \"end\": 61, \"ner_label\": \"ADE\", \"ner_confidence\": \"0.71365\"}, {\"ner_chunk\": \"sore throat/burning/itching\", \"begin\": 64, \"end\": 90, \"ner_label\": \"ADE\", \"ner_confidence\": \"0.81229997\"}, {\"ner_chunk\": \"numbness of tongue\", \"begin\": 93, \"end\": 110, \"ner_label\": \"ADE\", \"ner_confidence\": \"0.6829667\"}, {\"ner_chunk\": \"gums\", \"begin\": 116, \"end\": 119, \"ner_label\": \"ADE\", \"ner_confidence\": \"0.7055\"}], \"relation_predictions\": [{\"ner_chunk1\": \"allergic reaction\", \"ner_chunk1_begin\": \"10\", \"ner_chunk1_end\": \"26\", \"ner_label1\": \"ADE\", \"ner_chunk2\": \"vancomycin\", \"ner_chunk2_begin\": \"31\", \"ner_chunk2_end\": \"40\", \"ner_label2\": \"DRUG\", \"relations\": \"1\", \"relation_confidence\": \"1.0\"}, {\"ner_chunk1\": \"vancomycin\", \"ner_chunk1_begin\": \"31\", \"ner_chunk1_end\": \"40\", \"ner_label1\": \"DRUG\", \"ner_chunk2\": \"itchy skin\", \"ner_chunk2_begin\": \"52\", \"ner_chunk2_end\": \"61\", \"ner_label2\": \"ADE\", \"relations\": \"1\", \"relation_confidence\": \"0.99999774\"}], \"assertion_predictions\": [{\"ner_chunk\": \"allergic reaction\", \"begin\": 10, \"end\": 26, \"ner_label\": \"ADE\", \"assertion\": \"Hypothetical\"}, {\"ner_chunk\": \"vancomycin\", \"begin\": 31, \"end\": 40, \"ner_label\": \"DRUG\", \"assertion\": \"Hypothetical\"}, {\"ner_chunk\": \"itchy skin\", \"begin\": 52, \"end\": 61, \"ner_label\": \"ADE\", \"assertion\": \"Absent\"}, {\"ner_chunk\": \"sore throat/burning/itching\", \"begin\": 64, \"end\": 90, \"ner_label\": \"ADE\", \"assertion\": \"Hypothetical\"}, {\"ner_chunk\": \"numbness of tongue\", \"begin\": 93, \"end\": 110, \"ner_label\": \"ADE\", \"assertion\": \"Absent\"}, {\"ner_chunk\": \"gums\", \"begin\": 116, \"end\": 119, \"ner_label\": \"ADE\", \"assertion\": \"Hypothetical\"}], \"classification_predictions\": [{\"sentence\": \"I have an allergic reaction to vancomycin so I have itchy skin, sore throat/burning/itching, numbness of tongue and gums.\", \"begin\": 0, \"end\": 120, \"class\": \"ADE\", \"class_confidence\": \"0.9999944\"}, {\"sentence\": \"I would not recommend this drug to anyone, especially since I have never had such an adverse reaction to any other medication.\", \"begin\": 121, \"end\": 246, \"class\": \"ADE\", \"class_confidence\": \"0.99999386\"}]}\n"
     ]
    }
   ],
   "source": [
    "process_s3_jsonlines_output_and_save(validation_jsonl_file_name)"
   ]
  },
  {
   "cell_type": "code",
   "execution_count": 26,
   "metadata": {
    "tags": []
   },
   "outputs": [
    {
     "name": "stderr",
     "output_type": "stream",
     "text": [
      "INFO:sagemaker:Deleting model with name: en-explain-doc-clinical-ade-2024-09-12-12-20-57-795\n"
     ]
    }
   ],
   "source": [
    "model.delete_model()"
   ]
  },
  {
   "cell_type": "markdown",
   "metadata": {},
   "source": [
    "### Unsubscribe to the listing (optional)"
   ]
  },
  {
   "cell_type": "markdown",
   "metadata": {
    "tags": []
   },
   "source": [
    "If you would like to unsubscribe to the model package, follow these steps. Before you cancel the subscription, ensure that you do not have any [deployable model](https://console.aws.amazon.com/sagemaker/home#/models) created from the model package or using the algorithm. Note - You can find this information by looking at the container name associated with the model. \n",
    "\n",
    "**Steps to unsubscribe to product from AWS Marketplace**:\n",
    "1. Navigate to __Machine Learning__ tab on [__Your Software subscriptions page__](https://aws.amazon.com/marketplace/ai/library?productType=ml&ref_=mlmp_gitdemo_indust)\n",
    "2. Locate the listing that you want to cancel the subscription for, and then choose __Cancel Subscription__  to cancel the subscription.\n",
    "\n"
   ]
  }
 ],
 "metadata": {
  "instance_type": "ml.t3.medium",
  "kernelspec": {
   "display_name": "conda_python3",
   "language": "python",
   "name": "conda_python3"
  },
  "language_info": {
   "codemirror_mode": {
    "name": "ipython",
    "version": 3
   },
   "file_extension": ".py",
   "mimetype": "text/x-python",
   "name": "python",
   "nbconvert_exporter": "python",
   "pygments_lexer": "ipython3",
   "version": "3.10.14"
  }
 },
 "nbformat": 4,
 "nbformat_minor": 4
}

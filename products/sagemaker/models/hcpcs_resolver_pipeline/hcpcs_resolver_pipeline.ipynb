{
 "cells": [
  {
   "cell_type": "markdown",
   "metadata": {},
   "source": [
    "## 1. Subscribe to the model package"
   ]
  },
  {
   "cell_type": "markdown",
   "metadata": {},
   "source": [
    "To subscribe to the model package:\n",
    "1. Open the model package listing page <font color='red'> For Seller to update:[Title_of_your_product](Provide link to your marketplace listing of your product).</font>\n",
    "1. On the AWS Marketplace listing, click on the **Continue to subscribe** button.\n",
    "1. On the **Subscribe to this software** page, review and click on **\"Accept Offer\"** if you and your organization agrees with EULA, pricing, and support terms. \n",
    "1. Once you click on **Continue to configuration button** and then choose a **region**, you will see a **Product Arn** displayed. This is the model package ARN that you need to specify while creating a deployable model using Boto3. Copy the ARN corresponding to your region and specify the same in the following cell."
   ]
  },
  {
   "cell_type": "markdown",
   "metadata": {},
   "source": [
    "## Pipeline for Healthcare Common Procedure Coding System (HCPCS)\n",
    "\n",
    "- **Model**: `hcpcs_resolver_pipeline`\n",
    "- **Model Description**: This pipeline extracts PROCEDURE entities and maps them to their corresponding Healthcare Common Procedure Coding System (HCPCS) codes using `sbiobert_base_cased_mli` sentence embeddings."
   ]
  },
  {
   "cell_type": "code",
   "execution_count": 1,
   "metadata": {
    "tags": []
   },
   "outputs": [],
   "source": [
    "model_package_arn = \"<Customer to specify Model package ARN corresponding to their AWS region>\""
   ]
  },
  {
   "cell_type": "code",
   "execution_count": 2,
   "metadata": {
    "tags": []
   },
   "outputs": [
    {
     "name": "stdout",
     "output_type": "stream",
     "text": [
      "sagemaker.config INFO - Not applying SDK defaults from location: /etc/xdg/sagemaker/config.yaml\n",
      "sagemaker.config INFO - Not applying SDK defaults from location: /home/ec2-user/.config/sagemaker/config.yaml\n"
     ]
    }
   ],
   "source": [
    "import base64\n",
    "import json\n",
    "import uuid\n",
    "from sagemaker import ModelPackage\n",
    "import sagemaker as sage\n",
    "from sagemaker import get_execution_role\n",
    "import boto3\n",
    "from IPython.display import Image, display\n",
    "from PIL import Image as ImageEdit\n",
    "import numpy as np"
   ]
  },
  {
   "cell_type": "code",
   "execution_count": 3,
   "metadata": {
    "tags": []
   },
   "outputs": [],
   "source": [
    "sagemaker_session = sage.Session()\n",
    "s3_bucket = sagemaker_session.default_bucket()\n",
    "region = sagemaker_session.boto_region_name\n",
    "account_id = boto3.client(\"sts\").get_caller_identity().get(\"Account\")\n",
    "role = get_execution_role()\n",
    "\n",
    "sagemaker = boto3.client(\"sagemaker\")\n",
    "s3_client = sagemaker_session.boto_session.client(\"s3\")\n",
    "ecr = boto3.client(\"ecr\")\n",
    "sm_runtime = boto3.client(\"sagemaker-runtime\")"
   ]
  },
  {
   "cell_type": "markdown",
   "metadata": {},
   "source": [
    "## 2. Create an endpoint and perform real-time inference"
   ]
  },
  {
   "cell_type": "markdown",
   "metadata": {},
   "source": [
    "If you want to understand how real-time inference with Amazon SageMaker works, see [Documentation](https://docs.aws.amazon.com/sagemaker/latest/dg/how-it-works-hosting.html)."
   ]
  },
  {
   "cell_type": "code",
   "execution_count": 4,
   "metadata": {
    "tags": []
   },
   "outputs": [],
   "source": [
    "model_name = \"hcpcs-resolver-pipeline\"\n",
    "\n",
    "real_time_inference_instance_type = \"ml.m4.xlarge\"\n",
    "batch_transform_inference_instance_type = \"ml.m4.xlarge\"\n"
   ]
  },
  {
   "cell_type": "markdown",
   "metadata": {},
   "source": [
    "### A. Create an endpoint"
   ]
  },
  {
   "cell_type": "code",
   "execution_count": 5,
   "metadata": {
    "tags": []
   },
   "outputs": [
    {
     "name": "stdout",
     "output_type": "stream",
     "text": [
      "-------!"
     ]
    }
   ],
   "source": [
    "# create a deployable model from the model package.\n",
    "model = ModelPackage(\n",
    "    role=role, model_package_arn=model_package_arn, sagemaker_session=sagemaker_session\n",
    ")\n",
    "\n",
    "# Deploy the model\n",
    "predictor = model.deploy(1, real_time_inference_instance_type, endpoint_name=model_name)"
   ]
  },
  {
   "cell_type": "markdown",
   "metadata": {},
   "source": [
    "Once endpoint has been created, you would be able to perform real-time inference."
   ]
  },
  {
   "cell_type": "code",
   "execution_count": 6,
   "metadata": {
    "tags": []
   },
   "outputs": [],
   "source": [
    "import json\n",
    "import pandas as pd\n",
    "import os\n",
    "import boto3\n",
    "\n",
    "# Set display options\n",
    "pd.set_option('display.max_rows', None)\n",
    "pd.set_option('display.max_columns', None)\n",
    "pd.set_option('display.max_colwidth', None)\n",
    "\n",
    "def process_data_and_invoke_realtime_endpoint(data, content_type, accept):\n",
    "\n",
    "    content_type_to_format = {'application/json': 'json', 'application/jsonlines': 'jsonl'}\n",
    "    input_format = content_type_to_format.get(content_type)\n",
    "    if content_type not in content_type_to_format.keys() or accept not in content_type_to_format.keys():\n",
    "        raise ValueError(\"Invalid content_type or accept. It should be either 'application/json' or 'application/jsonlines'.\")\n",
    "\n",
    "    i = 1\n",
    "    input_dir = f'inputs/real-time/{input_format}'\n",
    "    output_dir = f'outputs/real-time/{input_format}'\n",
    "    s3_input_dir = f\"{model_name}/validation-input/real-time/{input_format}\"\n",
    "    s3_output_dir = f\"{model_name}/validation-output/real-time/{input_format}\"\n",
    "\n",
    "    input_file_name = f'{input_dir}/input{i}.{input_format}'\n",
    "    output_file_name = f'{output_dir}/{os.path.basename(input_file_name)}.out'\n",
    "\n",
    "    while os.path.exists(input_file_name) or os.path.exists(output_file_name):\n",
    "        i += 1\n",
    "        input_file_name = f'{input_dir}/input{i}.{input_format}'\n",
    "        output_file_name = f'{output_dir}/{os.path.basename(input_file_name)}.out'\n",
    "\n",
    "    os.makedirs(os.path.dirname(input_file_name), exist_ok=True)\n",
    "    os.makedirs(os.path.dirname(output_file_name), exist_ok=True)\n",
    "\n",
    "    input_data = json.dumps(data) if content_type == 'application/json' else data\n",
    "\n",
    "    # Write input data to file\n",
    "    with open(input_file_name, 'w') as f:\n",
    "        f.write(input_data)\n",
    "\n",
    "    # Upload input data to S3\n",
    "    s3_client.put_object(Bucket=s3_bucket, Key=f\"{s3_input_dir}/{os.path.basename(input_file_name)}\", Body=bytes(input_data.encode('UTF-8')))\n",
    "\n",
    "    # Invoke the SageMaker endpoint\n",
    "    response = sm_runtime.invoke_endpoint(\n",
    "        EndpointName=model_name,\n",
    "        ContentType=content_type,\n",
    "        Accept=accept,\n",
    "        Body=input_data,\n",
    "    )\n",
    "\n",
    "    # Read response data\n",
    "    response_data = json.loads(response[\"Body\"].read().decode(\"utf-8\")) if accept == 'application/json' else response['Body'].read().decode('utf-8')\n",
    "\n",
    "    # Save response data to file\n",
    "    with open(output_file_name, 'w') as f_out:\n",
    "        if accept == 'application/json':\n",
    "            json.dump(response_data, f_out, indent=4)\n",
    "        else:\n",
    "            for item in response_data.split('\\n'):\n",
    "                f_out.write(item + '\\n')\n",
    "\n",
    "    # Upload response data to S3\n",
    "    output_s3_key = f\"{s3_output_dir}/{os.path.basename(output_file_name)}\"\n",
    "    if accept == 'application/json':\n",
    "        s3_client.put_object(Bucket=s3_bucket, Key=output_s3_key, Body=json.dumps(response_data).encode('UTF-8'))\n",
    "    else:\n",
    "        s3_client.put_object(Bucket=s3_bucket, Key=output_s3_key, Body=response_data)\n",
    "\n",
    "    return response_data"
   ]
  },
  {
   "cell_type": "markdown",
   "metadata": {},
   "source": [
    "### Initial Setup"
   ]
  },
  {
   "cell_type": "code",
   "execution_count": 7,
   "metadata": {
    "tags": []
   },
   "outputs": [],
   "source": [
    "docs = [\n",
    "    \"\"\"The patient is a 40-year-old white male who presents with a chief complaint of \"chest pain\". The patient is diabetic and has a prior history of coronary artery disease. The patient presents today stating that his chest pain started yesterday evening and has been somewhat intermittent. He has been advised Aspirin 81 milligrams QDay. Humulin N. insulin 50 units in a.m. Hydrochlorothiazide 50 mg QDay. Nitroglycerin 1/150 sublingually PRN chest pain.\"\"\",\n",
    "    \"\"\"Two weeks prior to presentation , she was treated with a five-day course of amoxicillin for a respiratory tract infection . She was on metformin , glipizide , and dapagliflozin for T2DM and atorvastatin and gemfibrozil for HTG . She had been on dapagliflozin for six months at the time of presentation .The patient was seen by the endocrinology service and she was discharged on 40 units of insulin glargine at night , 12 units of insulin lispro with meals , and metformin 1000 mg two times a day.\"\"\",\n",
    "]\n",
    "\n",
    "\n",
    "sample_text = \"\"\"Mary received a mechanical prosthetic heart valve in June 2020, and the results were successful. Diabetes screening test performed, revealing abnormal result. She uses infusion pump for diabetes and a CPAP machine for sleep apnea. In 2021, She received a breast prosthesis implant.\"\"\""
   ]
  },
  {
   "cell_type": "markdown",
   "metadata": {},
   "source": [
    "### JSON"
   ]
  },
  {
   "cell_type": "markdown",
   "metadata": {},
   "source": [
    "#### Example 1"
   ]
  },
  {
   "cell_type": "markdown",
   "metadata": {},
   "source": [
    "  **Input format**:\n",
    "  \n",
    "  \n",
    "```json\n",
    "{\n",
    "    \"text\": \"Single text document\"\n",
    "}\n",
    "```"
   ]
  },
  {
   "cell_type": "code",
   "execution_count": 8,
   "metadata": {
    "tags": []
   },
   "outputs": [
    {
     "data": {
      "text/html": [
       "<div>\n",
       "<style scoped>\n",
       "    .dataframe tbody tr th:only-of-type {\n",
       "        vertical-align: middle;\n",
       "    }\n",
       "\n",
       "    .dataframe tbody tr th {\n",
       "        vertical-align: top;\n",
       "    }\n",
       "\n",
       "    .dataframe thead th {\n",
       "        text-align: right;\n",
       "    }\n",
       "</style>\n",
       "<table border=\"1\" class=\"dataframe\">\n",
       "  <thead>\n",
       "    <tr style=\"text-align: right;\">\n",
       "      <th></th>\n",
       "      <th>document</th>\n",
       "      <th>ner_chunk</th>\n",
       "      <th>begin</th>\n",
       "      <th>end</th>\n",
       "      <th>ner_label</th>\n",
       "      <th>ner_confidence</th>\n",
       "      <th>hcpcs_code</th>\n",
       "      <th>hcpcs_resolution</th>\n",
       "      <th>hcpcs_confidence</th>\n",
       "    </tr>\n",
       "  </thead>\n",
       "  <tbody>\n",
       "    <tr>\n",
       "      <th>0</th>\n",
       "      <td>Mary received a mechanical prosthetic heart valve in June 2020, and the results were successful. Diabetes screening test performed, revealing abnormal result. She uses infusion pump for diabetes and a CPAP machine for sleep apnea. In 2021, She received a breast prosthesis implant.</td>\n",
       "      <td>a mechanical prosthetic heart valve</td>\n",
       "      <td>14</td>\n",
       "      <td>48</td>\n",
       "      <td>PROCEDURE</td>\n",
       "      <td>0.83616</td>\n",
       "      <td>G0043</td>\n",
       "      <td>Patients with mechanical prosthetic heart valve</td>\n",
       "      <td>0.9922</td>\n",
       "    </tr>\n",
       "    <tr>\n",
       "      <th>1</th>\n",
       "      <td>Mary received a mechanical prosthetic heart valve in June 2020, and the results were successful. Diabetes screening test performed, revealing abnormal result. She uses infusion pump for diabetes and a CPAP machine for sleep apnea. In 2021, She received a breast prosthesis implant.</td>\n",
       "      <td>infusion pump</td>\n",
       "      <td>168</td>\n",
       "      <td>180</td>\n",
       "      <td>PROCEDURE</td>\n",
       "      <td>0.95785</td>\n",
       "      <td>C1772</td>\n",
       "      <td>Infusion pump, programmable (implantable)</td>\n",
       "      <td>0.3277</td>\n",
       "    </tr>\n",
       "    <tr>\n",
       "      <th>2</th>\n",
       "      <td>Mary received a mechanical prosthetic heart valve in June 2020, and the results were successful. Diabetes screening test performed, revealing abnormal result. She uses infusion pump for diabetes and a CPAP machine for sleep apnea. In 2021, She received a breast prosthesis implant.</td>\n",
       "      <td>a CPAP machine</td>\n",
       "      <td>199</td>\n",
       "      <td>212</td>\n",
       "      <td>PROCEDURE</td>\n",
       "      <td>0.955</td>\n",
       "      <td>E0601</td>\n",
       "      <td>Continuous positive airway pressure (cpap) device</td>\n",
       "      <td>0.3145</td>\n",
       "    </tr>\n",
       "    <tr>\n",
       "      <th>3</th>\n",
       "      <td>Mary received a mechanical prosthetic heart valve in June 2020, and the results were successful. Diabetes screening test performed, revealing abnormal result. She uses infusion pump for diabetes and a CPAP machine for sleep apnea. In 2021, She received a breast prosthesis implant.</td>\n",
       "      <td>a breast prosthesis implant</td>\n",
       "      <td>253</td>\n",
       "      <td>279</td>\n",
       "      <td>PROCEDURE</td>\n",
       "      <td>0.902725</td>\n",
       "      <td>C1789</td>\n",
       "      <td>Prosthesis, breast (implantable)</td>\n",
       "      <td>0.6677</td>\n",
       "    </tr>\n",
       "  </tbody>\n",
       "</table>\n",
       "</div>"
      ],
      "text/plain": [
       "                                                                                                                                                                                                                                                                                    document  \\\n",
       "0  Mary received a mechanical prosthetic heart valve in June 2020, and the results were successful. Diabetes screening test performed, revealing abnormal result. She uses infusion pump for diabetes and a CPAP machine for sleep apnea. In 2021, She received a breast prosthesis implant.   \n",
       "1  Mary received a mechanical prosthetic heart valve in June 2020, and the results were successful. Diabetes screening test performed, revealing abnormal result. She uses infusion pump for diabetes and a CPAP machine for sleep apnea. In 2021, She received a breast prosthesis implant.   \n",
       "2  Mary received a mechanical prosthetic heart valve in June 2020, and the results were successful. Diabetes screening test performed, revealing abnormal result. She uses infusion pump for diabetes and a CPAP machine for sleep apnea. In 2021, She received a breast prosthesis implant.   \n",
       "3  Mary received a mechanical prosthetic heart valve in June 2020, and the results were successful. Diabetes screening test performed, revealing abnormal result. She uses infusion pump for diabetes and a CPAP machine for sleep apnea. In 2021, She received a breast prosthesis implant.   \n",
       "\n",
       "                             ner_chunk  begin  end  ner_label ner_confidence  \\\n",
       "0  a mechanical prosthetic heart valve     14   48  PROCEDURE        0.83616   \n",
       "1                        infusion pump    168  180  PROCEDURE        0.95785   \n",
       "2                       a CPAP machine    199  212  PROCEDURE          0.955   \n",
       "3          a breast prosthesis implant    253  279  PROCEDURE       0.902725   \n",
       "\n",
       "  hcpcs_code                                   hcpcs_resolution  \\\n",
       "0      G0043    Patients with mechanical prosthetic heart valve   \n",
       "1      C1772          Infusion pump, programmable (implantable)   \n",
       "2      E0601  Continuous positive airway pressure (cpap) device   \n",
       "3      C1789                   Prosthesis, breast (implantable)   \n",
       "\n",
       "  hcpcs_confidence  \n",
       "0           0.9922  \n",
       "1           0.3277  \n",
       "2           0.3145  \n",
       "3           0.6677  "
      ]
     },
     "execution_count": 8,
     "metadata": {},
     "output_type": "execute_result"
    }
   ],
   "source": [
    "input_json_data = {\"text\": sample_text}\n",
    "\n",
    "data =  process_data_and_invoke_realtime_endpoint(input_json_data, content_type=\"application/json\" , accept=\"application/json\" )\n",
    "pd.DataFrame(data[\"predictions\"])"
   ]
  },
  {
   "cell_type": "markdown",
   "metadata": {},
   "source": [
    "#### Example 2"
   ]
  },
  {
   "cell_type": "markdown",
   "metadata": {},
   "source": [
    "  **Input format**:\n",
    "  \n",
    "  \n",
    "```json\n",
    "{\n",
    "    \"text\": [\n",
    "        \"Text document 1\",\n",
    "        \"Text document 2\",\n",
    "        ...\n",
    "    ]\n",
    "}\n",
    "```"
   ]
  },
  {
   "cell_type": "code",
   "execution_count": 9,
   "metadata": {
    "tags": []
   },
   "outputs": [
    {
     "data": {
      "text/html": [
       "<div>\n",
       "<style scoped>\n",
       "    .dataframe tbody tr th:only-of-type {\n",
       "        vertical-align: middle;\n",
       "    }\n",
       "\n",
       "    .dataframe tbody tr th {\n",
       "        vertical-align: top;\n",
       "    }\n",
       "\n",
       "    .dataframe thead th {\n",
       "        text-align: right;\n",
       "    }\n",
       "</style>\n",
       "<table border=\"1\" class=\"dataframe\">\n",
       "  <thead>\n",
       "    <tr style=\"text-align: right;\">\n",
       "      <th></th>\n",
       "      <th>document</th>\n",
       "      <th>ner_chunk</th>\n",
       "      <th>begin</th>\n",
       "      <th>end</th>\n",
       "      <th>ner_label</th>\n",
       "      <th>ner_confidence</th>\n",
       "      <th>hcpcs_code</th>\n",
       "      <th>hcpcs_resolution</th>\n",
       "      <th>hcpcs_confidence</th>\n",
       "    </tr>\n",
       "  </thead>\n",
       "  <tbody>\n",
       "    <tr>\n",
       "      <th>0</th>\n",
       "      <td>The patient is a 40-year-old white male who presents with a chief complaint of \"chest pain\". The patient is diabetic and has a prior history of coronary artery disease. The patient presents today stating that his chest pain started yesterday evening and has been somewhat intermittent. He has been advised Aspirin 81 milligrams QDay. Humulin N. insulin 50 units in a.m. Hydrochlorothiazide 50 mg QDay. Nitroglycerin 1/150 sublingually PRN chest pain.</td>\n",
       "      <td>Aspirin</td>\n",
       "      <td>306</td>\n",
       "      <td>312</td>\n",
       "      <td>PROCEDURE</td>\n",
       "      <td>0.9998</td>\n",
       "      <td>G8598</td>\n",
       "      <td>Aspirin or another antiplatelet therapy used</td>\n",
       "      <td>0.1169</td>\n",
       "    </tr>\n",
       "    <tr>\n",
       "      <th>1</th>\n",
       "      <td>The patient is a 40-year-old white male who presents with a chief complaint of \"chest pain\". The patient is diabetic and has a prior history of coronary artery disease. The patient presents today stating that his chest pain started yesterday evening and has been somewhat intermittent. He has been advised Aspirin 81 milligrams QDay. Humulin N. insulin 50 units in a.m. Hydrochlorothiazide 50 mg QDay. Nitroglycerin 1/150 sublingually PRN chest pain.</td>\n",
       "      <td>Humulin N</td>\n",
       "      <td>334</td>\n",
       "      <td>342</td>\n",
       "      <td>PROCEDURE</td>\n",
       "      <td>0.98345</td>\n",
       "      <td>TD</td>\n",
       "      <td>Rn</td>\n",
       "      <td>0.3187</td>\n",
       "    </tr>\n",
       "    <tr>\n",
       "      <th>2</th>\n",
       "      <td>The patient is a 40-year-old white male who presents with a chief complaint of \"chest pain\". The patient is diabetic and has a prior history of coronary artery disease. The patient presents today stating that his chest pain started yesterday evening and has been somewhat intermittent. He has been advised Aspirin 81 milligrams QDay. Humulin N. insulin 50 units in a.m. Hydrochlorothiazide 50 mg QDay. Nitroglycerin 1/150 sublingually PRN chest pain.</td>\n",
       "      <td>insulin</td>\n",
       "      <td>345</td>\n",
       "      <td>351</td>\n",
       "      <td>PROCEDURE</td>\n",
       "      <td>0.9881</td>\n",
       "      <td>E0784</td>\n",
       "      <td>External ambulatory infusion pump, insulin</td>\n",
       "      <td>0.2998</td>\n",
       "    </tr>\n",
       "    <tr>\n",
       "      <th>3</th>\n",
       "      <td>The patient is a 40-year-old white male who presents with a chief complaint of \"chest pain\". The patient is diabetic and has a prior history of coronary artery disease. The patient presents today stating that his chest pain started yesterday evening and has been somewhat intermittent. He has been advised Aspirin 81 milligrams QDay. Humulin N. insulin 50 units in a.m. Hydrochlorothiazide 50 mg QDay. Nitroglycerin 1/150 sublingually PRN chest pain.</td>\n",
       "      <td>Hydrochlorothiazide</td>\n",
       "      <td>370</td>\n",
       "      <td>388</td>\n",
       "      <td>PROCEDURE</td>\n",
       "      <td>0.9999</td>\n",
       "      <td>G6057</td>\n",
       "      <td>Phenothiazine</td>\n",
       "      <td>0.2268</td>\n",
       "    </tr>\n",
       "    <tr>\n",
       "      <th>4</th>\n",
       "      <td>The patient is a 40-year-old white male who presents with a chief complaint of \"chest pain\". The patient is diabetic and has a prior history of coronary artery disease. The patient presents today stating that his chest pain started yesterday evening and has been somewhat intermittent. He has been advised Aspirin 81 milligrams QDay. Humulin N. insulin 50 units in a.m. Hydrochlorothiazide 50 mg QDay. Nitroglycerin 1/150 sublingually PRN chest pain.</td>\n",
       "      <td>Nitroglycerin</td>\n",
       "      <td>402</td>\n",
       "      <td>414</td>\n",
       "      <td>PROCEDURE</td>\n",
       "      <td>0.9999</td>\n",
       "      <td>G6055</td>\n",
       "      <td>Nicotine</td>\n",
       "      <td>0.5803</td>\n",
       "    </tr>\n",
       "    <tr>\n",
       "      <th>5</th>\n",
       "      <td>Two weeks prior to presentation , she was treated with a five-day course of amoxicillin for a respiratory tract infection . She was on metformin , glipizide , and dapagliflozin for T2DM and atorvastatin and gemfibrozil for HTG . She had been on dapagliflozin for six months at the time of presentation .The patient was seen by the endocrinology service and she was discharged on 40 units of insulin glargine at night , 12 units of insulin lispro with meals , and metformin 1000 mg two times a day.</td>\n",
       "      <td>amoxicillin</td>\n",
       "      <td>76</td>\n",
       "      <td>86</td>\n",
       "      <td>PROCEDURE</td>\n",
       "      <td>0.997</td>\n",
       "      <td>G9498</td>\n",
       "      <td>Antibiotic regimen prescribed</td>\n",
       "      <td>0.3499</td>\n",
       "    </tr>\n",
       "    <tr>\n",
       "      <th>6</th>\n",
       "      <td>Two weeks prior to presentation , she was treated with a five-day course of amoxicillin for a respiratory tract infection . She was on metformin , glipizide , and dapagliflozin for T2DM and atorvastatin and gemfibrozil for HTG . She had been on dapagliflozin for six months at the time of presentation .The patient was seen by the endocrinology service and she was discharged on 40 units of insulin glargine at night , 12 units of insulin lispro with meals , and metformin 1000 mg two times a day.</td>\n",
       "      <td>metformin</td>\n",
       "      <td>135</td>\n",
       "      <td>143</td>\n",
       "      <td>PROCEDURE</td>\n",
       "      <td>0.9998</td>\n",
       "      <td>G6054</td>\n",
       "      <td>Methsuximide</td>\n",
       "      <td>0.3279</td>\n",
       "    </tr>\n",
       "    <tr>\n",
       "      <th>7</th>\n",
       "      <td>Two weeks prior to presentation , she was treated with a five-day course of amoxicillin for a respiratory tract infection . She was on metformin , glipizide , and dapagliflozin for T2DM and atorvastatin and gemfibrozil for HTG . She had been on dapagliflozin for six months at the time of presentation .The patient was seen by the endocrinology service and she was discharged on 40 units of insulin glargine at night , 12 units of insulin lispro with meals , and metformin 1000 mg two times a day.</td>\n",
       "      <td>glipizide</td>\n",
       "      <td>147</td>\n",
       "      <td>155</td>\n",
       "      <td>PROCEDURE</td>\n",
       "      <td>0.9999</td>\n",
       "      <td>G6054</td>\n",
       "      <td>Methsuximide</td>\n",
       "      <td>0.0938</td>\n",
       "    </tr>\n",
       "    <tr>\n",
       "      <th>8</th>\n",
       "      <td>Two weeks prior to presentation , she was treated with a five-day course of amoxicillin for a respiratory tract infection . She was on metformin , glipizide , and dapagliflozin for T2DM and atorvastatin and gemfibrozil for HTG . She had been on dapagliflozin for six months at the time of presentation .The patient was seen by the endocrinology service and she was discharged on 40 units of insulin glargine at night , 12 units of insulin lispro with meals , and metformin 1000 mg two times a day.</td>\n",
       "      <td>dapagliflozin</td>\n",
       "      <td>163</td>\n",
       "      <td>175</td>\n",
       "      <td>PROCEDURE</td>\n",
       "      <td>1.0</td>\n",
       "      <td>G6034</td>\n",
       "      <td>Doxepin</td>\n",
       "      <td>0.1965</td>\n",
       "    </tr>\n",
       "    <tr>\n",
       "      <th>9</th>\n",
       "      <td>Two weeks prior to presentation , she was treated with a five-day course of amoxicillin for a respiratory tract infection . She was on metformin , glipizide , and dapagliflozin for T2DM and atorvastatin and gemfibrozil for HTG . She had been on dapagliflozin for six months at the time of presentation .The patient was seen by the endocrinology service and she was discharged on 40 units of insulin glargine at night , 12 units of insulin lispro with meals , and metformin 1000 mg two times a day.</td>\n",
       "      <td>atorvastatin</td>\n",
       "      <td>190</td>\n",
       "      <td>201</td>\n",
       "      <td>PROCEDURE</td>\n",
       "      <td>0.9999</td>\n",
       "      <td>G8598</td>\n",
       "      <td>Aspirin or another antiplatelet therapy used</td>\n",
       "      <td>0.1142</td>\n",
       "    </tr>\n",
       "    <tr>\n",
       "      <th>10</th>\n",
       "      <td>Two weeks prior to presentation , she was treated with a five-day course of amoxicillin for a respiratory tract infection . She was on metformin , glipizide , and dapagliflozin for T2DM and atorvastatin and gemfibrozil for HTG . She had been on dapagliflozin for six months at the time of presentation .The patient was seen by the endocrinology service and she was discharged on 40 units of insulin glargine at night , 12 units of insulin lispro with meals , and metformin 1000 mg two times a day.</td>\n",
       "      <td>gemfibrozil</td>\n",
       "      <td>207</td>\n",
       "      <td>217</td>\n",
       "      <td>PROCEDURE</td>\n",
       "      <td>1.0</td>\n",
       "      <td>G6054</td>\n",
       "      <td>Methsuximide</td>\n",
       "      <td>0.1202</td>\n",
       "    </tr>\n",
       "    <tr>\n",
       "      <th>11</th>\n",
       "      <td>Two weeks prior to presentation , she was treated with a five-day course of amoxicillin for a respiratory tract infection . She was on metformin , glipizide , and dapagliflozin for T2DM and atorvastatin and gemfibrozil for HTG . She had been on dapagliflozin for six months at the time of presentation .The patient was seen by the endocrinology service and she was discharged on 40 units of insulin glargine at night , 12 units of insulin lispro with meals , and metformin 1000 mg two times a day.</td>\n",
       "      <td>dapagliflozin</td>\n",
       "      <td>245</td>\n",
       "      <td>257</td>\n",
       "      <td>PROCEDURE</td>\n",
       "      <td>0.9999</td>\n",
       "      <td>G6034</td>\n",
       "      <td>Doxepin</td>\n",
       "      <td>0.1965</td>\n",
       "    </tr>\n",
       "    <tr>\n",
       "      <th>12</th>\n",
       "      <td>Two weeks prior to presentation , she was treated with a five-day course of amoxicillin for a respiratory tract infection . She was on metformin , glipizide , and dapagliflozin for T2DM and atorvastatin and gemfibrozil for HTG . She had been on dapagliflozin for six months at the time of presentation .The patient was seen by the endocrinology service and she was discharged on 40 units of insulin glargine at night , 12 units of insulin lispro with meals , and metformin 1000 mg two times a day.</td>\n",
       "      <td>insulin glargine</td>\n",
       "      <td>391</td>\n",
       "      <td>406</td>\n",
       "      <td>PROCEDURE</td>\n",
       "      <td>0.98969996</td>\n",
       "      <td>E0784</td>\n",
       "      <td>External ambulatory infusion pump, insulin</td>\n",
       "      <td>0.4655</td>\n",
       "    </tr>\n",
       "    <tr>\n",
       "      <th>13</th>\n",
       "      <td>Two weeks prior to presentation , she was treated with a five-day course of amoxicillin for a respiratory tract infection . She was on metformin , glipizide , and dapagliflozin for T2DM and atorvastatin and gemfibrozil for HTG . She had been on dapagliflozin for six months at the time of presentation .The patient was seen by the endocrinology service and she was discharged on 40 units of insulin glargine at night , 12 units of insulin lispro with meals , and metformin 1000 mg two times a day.</td>\n",
       "      <td>insulin lispro</td>\n",
       "      <td>431</td>\n",
       "      <td>444</td>\n",
       "      <td>PROCEDURE</td>\n",
       "      <td>0.97045004</td>\n",
       "      <td>E0784</td>\n",
       "      <td>External ambulatory infusion pump, insulin</td>\n",
       "      <td>0.2429</td>\n",
       "    </tr>\n",
       "    <tr>\n",
       "      <th>14</th>\n",
       "      <td>Two weeks prior to presentation , she was treated with a five-day course of amoxicillin for a respiratory tract infection . She was on metformin , glipizide , and dapagliflozin for T2DM and atorvastatin and gemfibrozil for HTG . She had been on dapagliflozin for six months at the time of presentation .The patient was seen by the endocrinology service and she was discharged on 40 units of insulin glargine at night , 12 units of insulin lispro with meals , and metformin 1000 mg two times a day.</td>\n",
       "      <td>metformin</td>\n",
       "      <td>463</td>\n",
       "      <td>471</td>\n",
       "      <td>PROCEDURE</td>\n",
       "      <td>0.9992</td>\n",
       "      <td>G6054</td>\n",
       "      <td>Methsuximide</td>\n",
       "      <td>0.3279</td>\n",
       "    </tr>\n",
       "  </tbody>\n",
       "</table>\n",
       "</div>"
      ],
      "text/plain": [
       "                                                                                                                                                                                                                                                                                                                                                                                                                                                                                                             document  \\\n",
       "0                                                  The patient is a 40-year-old white male who presents with a chief complaint of \"chest pain\". The patient is diabetic and has a prior history of coronary artery disease. The patient presents today stating that his chest pain started yesterday evening and has been somewhat intermittent. He has been advised Aspirin 81 milligrams QDay. Humulin N. insulin 50 units in a.m. Hydrochlorothiazide 50 mg QDay. Nitroglycerin 1/150 sublingually PRN chest pain.   \n",
       "1                                                  The patient is a 40-year-old white male who presents with a chief complaint of \"chest pain\". The patient is diabetic and has a prior history of coronary artery disease. The patient presents today stating that his chest pain started yesterday evening and has been somewhat intermittent. He has been advised Aspirin 81 milligrams QDay. Humulin N. insulin 50 units in a.m. Hydrochlorothiazide 50 mg QDay. Nitroglycerin 1/150 sublingually PRN chest pain.   \n",
       "2                                                  The patient is a 40-year-old white male who presents with a chief complaint of \"chest pain\". The patient is diabetic and has a prior history of coronary artery disease. The patient presents today stating that his chest pain started yesterday evening and has been somewhat intermittent. He has been advised Aspirin 81 milligrams QDay. Humulin N. insulin 50 units in a.m. Hydrochlorothiazide 50 mg QDay. Nitroglycerin 1/150 sublingually PRN chest pain.   \n",
       "3                                                  The patient is a 40-year-old white male who presents with a chief complaint of \"chest pain\". The patient is diabetic and has a prior history of coronary artery disease. The patient presents today stating that his chest pain started yesterday evening and has been somewhat intermittent. He has been advised Aspirin 81 milligrams QDay. Humulin N. insulin 50 units in a.m. Hydrochlorothiazide 50 mg QDay. Nitroglycerin 1/150 sublingually PRN chest pain.   \n",
       "4                                                  The patient is a 40-year-old white male who presents with a chief complaint of \"chest pain\". The patient is diabetic and has a prior history of coronary artery disease. The patient presents today stating that his chest pain started yesterday evening and has been somewhat intermittent. He has been advised Aspirin 81 milligrams QDay. Humulin N. insulin 50 units in a.m. Hydrochlorothiazide 50 mg QDay. Nitroglycerin 1/150 sublingually PRN chest pain.   \n",
       "5   Two weeks prior to presentation , she was treated with a five-day course of amoxicillin for a respiratory tract infection . She was on metformin , glipizide , and dapagliflozin for T2DM and atorvastatin and gemfibrozil for HTG . She had been on dapagliflozin for six months at the time of presentation .The patient was seen by the endocrinology service and she was discharged on 40 units of insulin glargine at night , 12 units of insulin lispro with meals , and metformin 1000 mg two times a day.   \n",
       "6   Two weeks prior to presentation , she was treated with a five-day course of amoxicillin for a respiratory tract infection . She was on metformin , glipizide , and dapagliflozin for T2DM and atorvastatin and gemfibrozil for HTG . She had been on dapagliflozin for six months at the time of presentation .The patient was seen by the endocrinology service and she was discharged on 40 units of insulin glargine at night , 12 units of insulin lispro with meals , and metformin 1000 mg two times a day.   \n",
       "7   Two weeks prior to presentation , she was treated with a five-day course of amoxicillin for a respiratory tract infection . She was on metformin , glipizide , and dapagliflozin for T2DM and atorvastatin and gemfibrozil for HTG . She had been on dapagliflozin for six months at the time of presentation .The patient was seen by the endocrinology service and she was discharged on 40 units of insulin glargine at night , 12 units of insulin lispro with meals , and metformin 1000 mg two times a day.   \n",
       "8   Two weeks prior to presentation , she was treated with a five-day course of amoxicillin for a respiratory tract infection . She was on metformin , glipizide , and dapagliflozin for T2DM and atorvastatin and gemfibrozil for HTG . She had been on dapagliflozin for six months at the time of presentation .The patient was seen by the endocrinology service and she was discharged on 40 units of insulin glargine at night , 12 units of insulin lispro with meals , and metformin 1000 mg two times a day.   \n",
       "9   Two weeks prior to presentation , she was treated with a five-day course of amoxicillin for a respiratory tract infection . She was on metformin , glipizide , and dapagliflozin for T2DM and atorvastatin and gemfibrozil for HTG . She had been on dapagliflozin for six months at the time of presentation .The patient was seen by the endocrinology service and she was discharged on 40 units of insulin glargine at night , 12 units of insulin lispro with meals , and metformin 1000 mg two times a day.   \n",
       "10  Two weeks prior to presentation , she was treated with a five-day course of amoxicillin for a respiratory tract infection . She was on metformin , glipizide , and dapagliflozin for T2DM and atorvastatin and gemfibrozil for HTG . She had been on dapagliflozin for six months at the time of presentation .The patient was seen by the endocrinology service and she was discharged on 40 units of insulin glargine at night , 12 units of insulin lispro with meals , and metformin 1000 mg two times a day.   \n",
       "11  Two weeks prior to presentation , she was treated with a five-day course of amoxicillin for a respiratory tract infection . She was on metformin , glipizide , and dapagliflozin for T2DM and atorvastatin and gemfibrozil for HTG . She had been on dapagliflozin for six months at the time of presentation .The patient was seen by the endocrinology service and she was discharged on 40 units of insulin glargine at night , 12 units of insulin lispro with meals , and metformin 1000 mg two times a day.   \n",
       "12  Two weeks prior to presentation , she was treated with a five-day course of amoxicillin for a respiratory tract infection . She was on metformin , glipizide , and dapagliflozin for T2DM and atorvastatin and gemfibrozil for HTG . She had been on dapagliflozin for six months at the time of presentation .The patient was seen by the endocrinology service and she was discharged on 40 units of insulin glargine at night , 12 units of insulin lispro with meals , and metformin 1000 mg two times a day.   \n",
       "13  Two weeks prior to presentation , she was treated with a five-day course of amoxicillin for a respiratory tract infection . She was on metformin , glipizide , and dapagliflozin for T2DM and atorvastatin and gemfibrozil for HTG . She had been on dapagliflozin for six months at the time of presentation .The patient was seen by the endocrinology service and she was discharged on 40 units of insulin glargine at night , 12 units of insulin lispro with meals , and metformin 1000 mg two times a day.   \n",
       "14  Two weeks prior to presentation , she was treated with a five-day course of amoxicillin for a respiratory tract infection . She was on metformin , glipizide , and dapagliflozin for T2DM and atorvastatin and gemfibrozil for HTG . She had been on dapagliflozin for six months at the time of presentation .The patient was seen by the endocrinology service and she was discharged on 40 units of insulin glargine at night , 12 units of insulin lispro with meals , and metformin 1000 mg two times a day.   \n",
       "\n",
       "              ner_chunk  begin  end  ner_label ner_confidence hcpcs_code  \\\n",
       "0               Aspirin    306  312  PROCEDURE         0.9998      G8598   \n",
       "1             Humulin N    334  342  PROCEDURE        0.98345         TD   \n",
       "2               insulin    345  351  PROCEDURE         0.9881      E0784   \n",
       "3   Hydrochlorothiazide    370  388  PROCEDURE         0.9999      G6057   \n",
       "4         Nitroglycerin    402  414  PROCEDURE         0.9999      G6055   \n",
       "5           amoxicillin     76   86  PROCEDURE          0.997      G9498   \n",
       "6             metformin    135  143  PROCEDURE         0.9998      G6054   \n",
       "7             glipizide    147  155  PROCEDURE         0.9999      G6054   \n",
       "8         dapagliflozin    163  175  PROCEDURE            1.0      G6034   \n",
       "9          atorvastatin    190  201  PROCEDURE         0.9999      G8598   \n",
       "10          gemfibrozil    207  217  PROCEDURE            1.0      G6054   \n",
       "11        dapagliflozin    245  257  PROCEDURE         0.9999      G6034   \n",
       "12     insulin glargine    391  406  PROCEDURE     0.98969996      E0784   \n",
       "13       insulin lispro    431  444  PROCEDURE     0.97045004      E0784   \n",
       "14            metformin    463  471  PROCEDURE         0.9992      G6054   \n",
       "\n",
       "                                hcpcs_resolution hcpcs_confidence  \n",
       "0   Aspirin or another antiplatelet therapy used           0.1169  \n",
       "1                                             Rn           0.3187  \n",
       "2     External ambulatory infusion pump, insulin           0.2998  \n",
       "3                                  Phenothiazine           0.2268  \n",
       "4                                       Nicotine           0.5803  \n",
       "5                  Antibiotic regimen prescribed           0.3499  \n",
       "6                                   Methsuximide           0.3279  \n",
       "7                                   Methsuximide           0.0938  \n",
       "8                                        Doxepin           0.1965  \n",
       "9   Aspirin or another antiplatelet therapy used           0.1142  \n",
       "10                                  Methsuximide           0.1202  \n",
       "11                                       Doxepin           0.1965  \n",
       "12    External ambulatory infusion pump, insulin           0.4655  \n",
       "13    External ambulatory infusion pump, insulin           0.2429  \n",
       "14                                  Methsuximide           0.3279  "
      ]
     },
     "execution_count": 9,
     "metadata": {},
     "output_type": "execute_result"
    }
   ],
   "source": [
    "input_json_data = {\"text\": docs}\n",
    "\n",
    "data =  process_data_and_invoke_realtime_endpoint(input_json_data, content_type=\"application/json\" , accept=\"application/json\" )\n",
    "pd.DataFrame(data[\"predictions\"])"
   ]
  },
  {
   "cell_type": "markdown",
   "metadata": {},
   "source": [
    "### JSON Lines"
   ]
  },
  {
   "cell_type": "code",
   "execution_count": 10,
   "metadata": {
    "tags": []
   },
   "outputs": [],
   "source": [
    "import json\n",
    "\n",
    "def create_jsonl(records):\n",
    "    json_records = []\n",
    "\n",
    "    for text in records:\n",
    "        record = {\n",
    "            \"text\": text\n",
    "        }\n",
    "        json_records.append(record)\n",
    "\n",
    "    json_lines = '\\n'.join(json.dumps(record) for record in json_records)\n",
    "\n",
    "    return json_lines\n",
    "\n",
    "input_jsonl_data = create_jsonl(docs)"
   ]
  },
  {
   "cell_type": "markdown",
   "metadata": {},
   "source": [
    "#### Example 1"
   ]
  },
  {
   "cell_type": "markdown",
   "metadata": {},
   "source": [
    "  **Input format**:\n",
    "  \n",
    "```json\n",
    "{\"text\": \"Text document 1\"}\n",
    "{\"text\": \"Text document 2\"}\n",
    "```"
   ]
  },
  {
   "cell_type": "code",
   "execution_count": 11,
   "metadata": {
    "tags": []
   },
   "outputs": [
    {
     "name": "stdout",
     "output_type": "stream",
     "text": [
      "{\"predictions\": [{\"ner_chunk\": \"Aspirin\", \"begin\": 306, \"end\": 312, \"ner_label\": \"PROCEDURE\", \"ner_confidence\": \"0.9998\", \"hcpcs_code\": \"G8598\", \"hcpcs_resolution\": \"Aspirin or another antiplatelet therapy used\", \"hcpcs_confidence\": \"0.1169\"}, {\"ner_chunk\": \"Humulin N\", \"begin\": 334, \"end\": 342, \"ner_label\": \"PROCEDURE\", \"ner_confidence\": \"0.98345\", \"hcpcs_code\": \"   TD\", \"hcpcs_resolution\": \"Rn\", \"hcpcs_confidence\": \"0.3187\"}, {\"ner_chunk\": \"insulin\", \"begin\": 345, \"end\": 351, \"ner_label\": \"PROCEDURE\", \"ner_confidence\": \"0.9881\", \"hcpcs_code\": \"E0784\", \"hcpcs_resolution\": \"External ambulatory infusion pump, insulin\", \"hcpcs_confidence\": \"0.2998\"}, {\"ner_chunk\": \"Hydrochlorothiazide\", \"begin\": 370, \"end\": 388, \"ner_label\": \"PROCEDURE\", \"ner_confidence\": \"0.9999\", \"hcpcs_code\": \"G6057\", \"hcpcs_resolution\": \"Phenothiazine\", \"hcpcs_confidence\": \"0.2268\"}, {\"ner_chunk\": \"Nitroglycerin\", \"begin\": 402, \"end\": 414, \"ner_label\": \"PROCEDURE\", \"ner_confidence\": \"0.9999\", \"hcpcs_code\": \"G6055\", \"hcpcs_resolution\": \"Nicotine\", \"hcpcs_confidence\": \"0.5803\"}]}\n",
      "{\"predictions\": [{\"ner_chunk\": \"amoxicillin\", \"begin\": 76, \"end\": 86, \"ner_label\": \"PROCEDURE\", \"ner_confidence\": \"0.997\", \"hcpcs_code\": \"G9498\", \"hcpcs_resolution\": \"Antibiotic regimen prescribed\", \"hcpcs_confidence\": \"0.3499\"}, {\"ner_chunk\": \"metformin\", \"begin\": 135, \"end\": 143, \"ner_label\": \"PROCEDURE\", \"ner_confidence\": \"0.9998\", \"hcpcs_code\": \"G6054\", \"hcpcs_resolution\": \"Methsuximide\", \"hcpcs_confidence\": \"0.3279\"}, {\"ner_chunk\": \"glipizide\", \"begin\": 147, \"end\": 155, \"ner_label\": \"PROCEDURE\", \"ner_confidence\": \"0.9999\", \"hcpcs_code\": \"G6054\", \"hcpcs_resolution\": \"Methsuximide\", \"hcpcs_confidence\": \"0.0938\"}, {\"ner_chunk\": \"dapagliflozin\", \"begin\": 163, \"end\": 175, \"ner_label\": \"PROCEDURE\", \"ner_confidence\": \"1.0\", \"hcpcs_code\": \"G6034\", \"hcpcs_resolution\": \"Doxepin\", \"hcpcs_confidence\": \"0.1965\"}, {\"ner_chunk\": \"atorvastatin\", \"begin\": 190, \"end\": 201, \"ner_label\": \"PROCEDURE\", \"ner_confidence\": \"0.9999\", \"hcpcs_code\": \"G8598\", \"hcpcs_resolution\": \"Aspirin or another antiplatelet therapy used\", \"hcpcs_confidence\": \"0.1142\"}, {\"ner_chunk\": \"gemfibrozil\", \"begin\": 207, \"end\": 217, \"ner_label\": \"PROCEDURE\", \"ner_confidence\": \"1.0\", \"hcpcs_code\": \"G6054\", \"hcpcs_resolution\": \"Methsuximide\", \"hcpcs_confidence\": \"0.1202\"}, {\"ner_chunk\": \"dapagliflozin\", \"begin\": 245, \"end\": 257, \"ner_label\": \"PROCEDURE\", \"ner_confidence\": \"0.9999\", \"hcpcs_code\": \"G6034\", \"hcpcs_resolution\": \"Doxepin\", \"hcpcs_confidence\": \"0.1965\"}, {\"ner_chunk\": \"insulin glargine\", \"begin\": 391, \"end\": 406, \"ner_label\": \"PROCEDURE\", \"ner_confidence\": \"0.98969996\", \"hcpcs_code\": \"E0784\", \"hcpcs_resolution\": \"External ambulatory infusion pump, insulin\", \"hcpcs_confidence\": \"0.4655\"}, {\"ner_chunk\": \"insulin lispro\", \"begin\": 431, \"end\": 444, \"ner_label\": \"PROCEDURE\", \"ner_confidence\": \"0.97045004\", \"hcpcs_code\": \"E0784\", \"hcpcs_resolution\": \"External ambulatory infusion pump, insulin\", \"hcpcs_confidence\": \"0.2429\"}, {\"ner_chunk\": \"metformin\", \"begin\": 463, \"end\": 471, \"ner_label\": \"PROCEDURE\", \"ner_confidence\": \"0.9992\", \"hcpcs_code\": \"G6054\", \"hcpcs_resolution\": \"Methsuximide\", \"hcpcs_confidence\": \"0.3279\"}]}\n"
     ]
    }
   ],
   "source": [
    "data = process_data_and_invoke_realtime_endpoint(input_jsonl_data, content_type=\"application/jsonlines\" , accept=\"application/jsonlines\" )\n",
    "print(data)"
   ]
  },
  {
   "cell_type": "markdown",
   "metadata": {},
   "source": [
    "### C. Delete the endpoint"
   ]
  },
  {
   "cell_type": "markdown",
   "metadata": {},
   "source": [
    "Now that you have successfully performed a real-time inference, you do not need the endpoint any more. You can terminate the endpoint to avoid being charged."
   ]
  },
  {
   "cell_type": "code",
   "execution_count": 12,
   "metadata": {
    "tags": []
   },
   "outputs": [],
   "source": [
    "model.sagemaker_session.delete_endpoint(model_name)\n",
    "model.sagemaker_session.delete_endpoint_config(model_name)"
   ]
  },
  {
   "cell_type": "markdown",
   "metadata": {
    "tags": []
   },
   "source": [
    "## 3. Batch inference"
   ]
  },
  {
   "cell_type": "code",
   "execution_count": 13,
   "metadata": {
    "tags": []
   },
   "outputs": [],
   "source": [
    "import json\n",
    "import os\n",
    "\n",
    "input_dir = 'inputs/batch'\n",
    "json_input_dir = f\"{input_dir}/json\"\n",
    "jsonl_input_dir = f\"{input_dir}/jsonl\"\n",
    "\n",
    "output_dir = 'outputs/batch'\n",
    "json_output_dir = f\"{output_dir}/json\"\n",
    "jsonl_output_dir = f\"{output_dir}/jsonl\"\n",
    "\n",
    "os.makedirs(json_input_dir, exist_ok=True)\n",
    "os.makedirs(jsonl_input_dir, exist_ok=True)\n",
    "os.makedirs(json_output_dir, exist_ok=True)\n",
    "os.makedirs(jsonl_output_dir, exist_ok=True)\n",
    "\n",
    "validation_json_file_name = \"input.json\"\n",
    "\n",
    "validation_jsonl_file_name = \"input.jsonl\"\n",
    "\n",
    "validation_input_json_path = f\"s3://{s3_bucket}/{model_name}/validation-input/batch/json/\"\n",
    "validation_output_json_path = f\"s3://{s3_bucket}/{model_name}/validation-output/batch/json/\"\n",
    "\n",
    "validation_input_jsonl_path = f\"s3://{s3_bucket}/{model_name}/validation-input/batch/jsonl/\"\n",
    "validation_output_jsonl_path = f\"s3://{s3_bucket}/{model_name}/validation-output/batch/jsonl/\"\n",
    "\n",
    "def write_and_upload_to_s3(input_data, file_name):\n",
    "    file_format = os.path.splitext(file_name)[1].lower()\n",
    "    if file_format == \".json\":\n",
    "        input_data = json.dumps(input_data)\n",
    "\n",
    "    with open(file_name, \"w\") as f:\n",
    "        f.write(input_data)\n",
    "\n",
    "    s3_client.put_object(\n",
    "        Bucket=s3_bucket,\n",
    "        Key=f\"{model_name}/validation-input/batch/{file_format[1:]}/{os.path.basename(file_name)}\",\n",
    "        Body=(bytes(input_data.encode(\"UTF-8\"))),\n",
    "    )"
   ]
  },
  {
   "cell_type": "code",
   "execution_count": 14,
   "metadata": {
    "tags": []
   },
   "outputs": [],
   "source": [
    "input_jsonl_data = create_jsonl(docs)\n",
    "input_json_data = {\"text\": docs}\n",
    "\n",
    "write_and_upload_to_s3(input_json_data, f\"{json_input_dir}/{validation_json_file_name}\")\n",
    "\n",
    "write_and_upload_to_s3(input_jsonl_data, f\"{jsonl_input_dir}/{validation_jsonl_file_name}\")"
   ]
  },
  {
   "cell_type": "markdown",
   "metadata": {},
   "source": [
    "### JSON"
   ]
  },
  {
   "cell_type": "code",
   "execution_count": null,
   "metadata": {
    "tags": []
   },
   "outputs": [],
   "source": [
    "# Initialize a SageMaker Transformer object for making predictions\n",
    "transformer = model.transformer(\n",
    "    instance_count=1,\n",
    "    instance_type=batch_transform_inference_instance_type,\n",
    "    accept=\"application/json\",\n",
    "    output_path=validation_output_json_path\n",
    ")\n",
    "\n",
    "transformer.transform(validation_input_json_path, content_type=\"application/json\")\n",
    "transformer.wait()"
   ]
  },
  {
   "cell_type": "code",
   "execution_count": 16,
   "metadata": {
    "tags": []
   },
   "outputs": [],
   "source": [
    "from urllib.parse import urlparse\n",
    "\n",
    "def process_s3_json_output_and_save(validation_file_name):\n",
    "\n",
    "    output_file_path = f\"{json_output_dir}/{validation_file_name}.out\"\n",
    "    parsed_url = urlparse(transformer.output_path)\n",
    "    file_key = f\"{parsed_url.path[1:]}{validation_file_name}.out\"\n",
    "    response = s3_client.get_object(Bucket=s3_bucket, Key=file_key)\n",
    "\n",
    "    data = json.loads(response[\"Body\"].read().decode(\"utf-8\"))\n",
    "    df = pd.DataFrame(data[\"predictions\"])\n",
    "    display(df)\n",
    "\n",
    "    # Save the data to the output file\n",
    "    with open(output_file_path, 'w') as f_out:\n",
    "        json.dump(data, f_out, indent=4)"
   ]
  },
  {
   "cell_type": "code",
   "execution_count": 17,
   "metadata": {
    "tags": []
   },
   "outputs": [
    {
     "data": {
      "text/html": [
       "<div>\n",
       "<style scoped>\n",
       "    .dataframe tbody tr th:only-of-type {\n",
       "        vertical-align: middle;\n",
       "    }\n",
       "\n",
       "    .dataframe tbody tr th {\n",
       "        vertical-align: top;\n",
       "    }\n",
       "\n",
       "    .dataframe thead th {\n",
       "        text-align: right;\n",
       "    }\n",
       "</style>\n",
       "<table border=\"1\" class=\"dataframe\">\n",
       "  <thead>\n",
       "    <tr style=\"text-align: right;\">\n",
       "      <th></th>\n",
       "      <th>document</th>\n",
       "      <th>ner_chunk</th>\n",
       "      <th>begin</th>\n",
       "      <th>end</th>\n",
       "      <th>ner_label</th>\n",
       "      <th>ner_confidence</th>\n",
       "      <th>hcpcs_code</th>\n",
       "      <th>hcpcs_resolution</th>\n",
       "      <th>hcpcs_confidence</th>\n",
       "    </tr>\n",
       "  </thead>\n",
       "  <tbody>\n",
       "    <tr>\n",
       "      <th>0</th>\n",
       "      <td>The patient is a 40-year-old white male who presents with a chief complaint of \"chest pain\". The patient is diabetic and has a prior history of coronary artery disease. The patient presents today stating that his chest pain started yesterday evening and has been somewhat intermittent. He has been advised Aspirin 81 milligrams QDay. Humulin N. insulin 50 units in a.m. Hydrochlorothiazide 50 mg QDay. Nitroglycerin 1/150 sublingually PRN chest pain.</td>\n",
       "      <td>Aspirin</td>\n",
       "      <td>306</td>\n",
       "      <td>312</td>\n",
       "      <td>PROCEDURE</td>\n",
       "      <td>0.9998</td>\n",
       "      <td>G8598</td>\n",
       "      <td>Aspirin or another antiplatelet therapy used</td>\n",
       "      <td>0.1169</td>\n",
       "    </tr>\n",
       "    <tr>\n",
       "      <th>1</th>\n",
       "      <td>The patient is a 40-year-old white male who presents with a chief complaint of \"chest pain\". The patient is diabetic and has a prior history of coronary artery disease. The patient presents today stating that his chest pain started yesterday evening and has been somewhat intermittent. He has been advised Aspirin 81 milligrams QDay. Humulin N. insulin 50 units in a.m. Hydrochlorothiazide 50 mg QDay. Nitroglycerin 1/150 sublingually PRN chest pain.</td>\n",
       "      <td>Humulin N</td>\n",
       "      <td>334</td>\n",
       "      <td>342</td>\n",
       "      <td>PROCEDURE</td>\n",
       "      <td>0.98345</td>\n",
       "      <td>TD</td>\n",
       "      <td>Rn</td>\n",
       "      <td>0.3187</td>\n",
       "    </tr>\n",
       "    <tr>\n",
       "      <th>2</th>\n",
       "      <td>The patient is a 40-year-old white male who presents with a chief complaint of \"chest pain\". The patient is diabetic and has a prior history of coronary artery disease. The patient presents today stating that his chest pain started yesterday evening and has been somewhat intermittent. He has been advised Aspirin 81 milligrams QDay. Humulin N. insulin 50 units in a.m. Hydrochlorothiazide 50 mg QDay. Nitroglycerin 1/150 sublingually PRN chest pain.</td>\n",
       "      <td>insulin</td>\n",
       "      <td>345</td>\n",
       "      <td>351</td>\n",
       "      <td>PROCEDURE</td>\n",
       "      <td>0.9881</td>\n",
       "      <td>E0784</td>\n",
       "      <td>External ambulatory infusion pump, insulin</td>\n",
       "      <td>0.2998</td>\n",
       "    </tr>\n",
       "    <tr>\n",
       "      <th>3</th>\n",
       "      <td>The patient is a 40-year-old white male who presents with a chief complaint of \"chest pain\". The patient is diabetic and has a prior history of coronary artery disease. The patient presents today stating that his chest pain started yesterday evening and has been somewhat intermittent. He has been advised Aspirin 81 milligrams QDay. Humulin N. insulin 50 units in a.m. Hydrochlorothiazide 50 mg QDay. Nitroglycerin 1/150 sublingually PRN chest pain.</td>\n",
       "      <td>Hydrochlorothiazide</td>\n",
       "      <td>370</td>\n",
       "      <td>388</td>\n",
       "      <td>PROCEDURE</td>\n",
       "      <td>0.9999</td>\n",
       "      <td>G6057</td>\n",
       "      <td>Phenothiazine</td>\n",
       "      <td>0.2268</td>\n",
       "    </tr>\n",
       "    <tr>\n",
       "      <th>4</th>\n",
       "      <td>The patient is a 40-year-old white male who presents with a chief complaint of \"chest pain\". The patient is diabetic and has a prior history of coronary artery disease. The patient presents today stating that his chest pain started yesterday evening and has been somewhat intermittent. He has been advised Aspirin 81 milligrams QDay. Humulin N. insulin 50 units in a.m. Hydrochlorothiazide 50 mg QDay. Nitroglycerin 1/150 sublingually PRN chest pain.</td>\n",
       "      <td>Nitroglycerin</td>\n",
       "      <td>402</td>\n",
       "      <td>414</td>\n",
       "      <td>PROCEDURE</td>\n",
       "      <td>0.9999</td>\n",
       "      <td>G6055</td>\n",
       "      <td>Nicotine</td>\n",
       "      <td>0.5803</td>\n",
       "    </tr>\n",
       "    <tr>\n",
       "      <th>5</th>\n",
       "      <td>Two weeks prior to presentation , she was treated with a five-day course of amoxicillin for a respiratory tract infection . She was on metformin , glipizide , and dapagliflozin for T2DM and atorvastatin and gemfibrozil for HTG . She had been on dapagliflozin for six months at the time of presentation .The patient was seen by the endocrinology service and she was discharged on 40 units of insulin glargine at night , 12 units of insulin lispro with meals , and metformin 1000 mg two times a day.</td>\n",
       "      <td>amoxicillin</td>\n",
       "      <td>76</td>\n",
       "      <td>86</td>\n",
       "      <td>PROCEDURE</td>\n",
       "      <td>0.997</td>\n",
       "      <td>G9498</td>\n",
       "      <td>Antibiotic regimen prescribed</td>\n",
       "      <td>0.3499</td>\n",
       "    </tr>\n",
       "    <tr>\n",
       "      <th>6</th>\n",
       "      <td>Two weeks prior to presentation , she was treated with a five-day course of amoxicillin for a respiratory tract infection . She was on metformin , glipizide , and dapagliflozin for T2DM and atorvastatin and gemfibrozil for HTG . She had been on dapagliflozin for six months at the time of presentation .The patient was seen by the endocrinology service and she was discharged on 40 units of insulin glargine at night , 12 units of insulin lispro with meals , and metformin 1000 mg two times a day.</td>\n",
       "      <td>metformin</td>\n",
       "      <td>135</td>\n",
       "      <td>143</td>\n",
       "      <td>PROCEDURE</td>\n",
       "      <td>0.9998</td>\n",
       "      <td>G6054</td>\n",
       "      <td>Methsuximide</td>\n",
       "      <td>0.3279</td>\n",
       "    </tr>\n",
       "    <tr>\n",
       "      <th>7</th>\n",
       "      <td>Two weeks prior to presentation , she was treated with a five-day course of amoxicillin for a respiratory tract infection . She was on metformin , glipizide , and dapagliflozin for T2DM and atorvastatin and gemfibrozil for HTG . She had been on dapagliflozin for six months at the time of presentation .The patient was seen by the endocrinology service and she was discharged on 40 units of insulin glargine at night , 12 units of insulin lispro with meals , and metformin 1000 mg two times a day.</td>\n",
       "      <td>glipizide</td>\n",
       "      <td>147</td>\n",
       "      <td>155</td>\n",
       "      <td>PROCEDURE</td>\n",
       "      <td>0.9999</td>\n",
       "      <td>G6054</td>\n",
       "      <td>Methsuximide</td>\n",
       "      <td>0.0938</td>\n",
       "    </tr>\n",
       "    <tr>\n",
       "      <th>8</th>\n",
       "      <td>Two weeks prior to presentation , she was treated with a five-day course of amoxicillin for a respiratory tract infection . She was on metformin , glipizide , and dapagliflozin for T2DM and atorvastatin and gemfibrozil for HTG . She had been on dapagliflozin for six months at the time of presentation .The patient was seen by the endocrinology service and she was discharged on 40 units of insulin glargine at night , 12 units of insulin lispro with meals , and metformin 1000 mg two times a day.</td>\n",
       "      <td>dapagliflozin</td>\n",
       "      <td>163</td>\n",
       "      <td>175</td>\n",
       "      <td>PROCEDURE</td>\n",
       "      <td>1.0</td>\n",
       "      <td>G6034</td>\n",
       "      <td>Doxepin</td>\n",
       "      <td>0.1965</td>\n",
       "    </tr>\n",
       "    <tr>\n",
       "      <th>9</th>\n",
       "      <td>Two weeks prior to presentation , she was treated with a five-day course of amoxicillin for a respiratory tract infection . She was on metformin , glipizide , and dapagliflozin for T2DM and atorvastatin and gemfibrozil for HTG . She had been on dapagliflozin for six months at the time of presentation .The patient was seen by the endocrinology service and she was discharged on 40 units of insulin glargine at night , 12 units of insulin lispro with meals , and metformin 1000 mg two times a day.</td>\n",
       "      <td>atorvastatin</td>\n",
       "      <td>190</td>\n",
       "      <td>201</td>\n",
       "      <td>PROCEDURE</td>\n",
       "      <td>0.9999</td>\n",
       "      <td>G8598</td>\n",
       "      <td>Aspirin or another antiplatelet therapy used</td>\n",
       "      <td>0.1142</td>\n",
       "    </tr>\n",
       "    <tr>\n",
       "      <th>10</th>\n",
       "      <td>Two weeks prior to presentation , she was treated with a five-day course of amoxicillin for a respiratory tract infection . She was on metformin , glipizide , and dapagliflozin for T2DM and atorvastatin and gemfibrozil for HTG . She had been on dapagliflozin for six months at the time of presentation .The patient was seen by the endocrinology service and she was discharged on 40 units of insulin glargine at night , 12 units of insulin lispro with meals , and metformin 1000 mg two times a day.</td>\n",
       "      <td>gemfibrozil</td>\n",
       "      <td>207</td>\n",
       "      <td>217</td>\n",
       "      <td>PROCEDURE</td>\n",
       "      <td>1.0</td>\n",
       "      <td>G6054</td>\n",
       "      <td>Methsuximide</td>\n",
       "      <td>0.1202</td>\n",
       "    </tr>\n",
       "    <tr>\n",
       "      <th>11</th>\n",
       "      <td>Two weeks prior to presentation , she was treated with a five-day course of amoxicillin for a respiratory tract infection . She was on metformin , glipizide , and dapagliflozin for T2DM and atorvastatin and gemfibrozil for HTG . She had been on dapagliflozin for six months at the time of presentation .The patient was seen by the endocrinology service and she was discharged on 40 units of insulin glargine at night , 12 units of insulin lispro with meals , and metformin 1000 mg two times a day.</td>\n",
       "      <td>dapagliflozin</td>\n",
       "      <td>245</td>\n",
       "      <td>257</td>\n",
       "      <td>PROCEDURE</td>\n",
       "      <td>0.9999</td>\n",
       "      <td>G6034</td>\n",
       "      <td>Doxepin</td>\n",
       "      <td>0.1965</td>\n",
       "    </tr>\n",
       "    <tr>\n",
       "      <th>12</th>\n",
       "      <td>Two weeks prior to presentation , she was treated with a five-day course of amoxicillin for a respiratory tract infection . She was on metformin , glipizide , and dapagliflozin for T2DM and atorvastatin and gemfibrozil for HTG . She had been on dapagliflozin for six months at the time of presentation .The patient was seen by the endocrinology service and she was discharged on 40 units of insulin glargine at night , 12 units of insulin lispro with meals , and metformin 1000 mg two times a day.</td>\n",
       "      <td>insulin glargine</td>\n",
       "      <td>391</td>\n",
       "      <td>406</td>\n",
       "      <td>PROCEDURE</td>\n",
       "      <td>0.98969996</td>\n",
       "      <td>E0784</td>\n",
       "      <td>External ambulatory infusion pump, insulin</td>\n",
       "      <td>0.4655</td>\n",
       "    </tr>\n",
       "    <tr>\n",
       "      <th>13</th>\n",
       "      <td>Two weeks prior to presentation , she was treated with a five-day course of amoxicillin for a respiratory tract infection . She was on metformin , glipizide , and dapagliflozin for T2DM and atorvastatin and gemfibrozil for HTG . She had been on dapagliflozin for six months at the time of presentation .The patient was seen by the endocrinology service and she was discharged on 40 units of insulin glargine at night , 12 units of insulin lispro with meals , and metformin 1000 mg two times a day.</td>\n",
       "      <td>insulin lispro</td>\n",
       "      <td>431</td>\n",
       "      <td>444</td>\n",
       "      <td>PROCEDURE</td>\n",
       "      <td>0.97045004</td>\n",
       "      <td>E0784</td>\n",
       "      <td>External ambulatory infusion pump, insulin</td>\n",
       "      <td>0.2429</td>\n",
       "    </tr>\n",
       "    <tr>\n",
       "      <th>14</th>\n",
       "      <td>Two weeks prior to presentation , she was treated with a five-day course of amoxicillin for a respiratory tract infection . She was on metformin , glipizide , and dapagliflozin for T2DM and atorvastatin and gemfibrozil for HTG . She had been on dapagliflozin for six months at the time of presentation .The patient was seen by the endocrinology service and she was discharged on 40 units of insulin glargine at night , 12 units of insulin lispro with meals , and metformin 1000 mg two times a day.</td>\n",
       "      <td>metformin</td>\n",
       "      <td>463</td>\n",
       "      <td>471</td>\n",
       "      <td>PROCEDURE</td>\n",
       "      <td>0.9992</td>\n",
       "      <td>G6054</td>\n",
       "      <td>Methsuximide</td>\n",
       "      <td>0.3279</td>\n",
       "    </tr>\n",
       "  </tbody>\n",
       "</table>\n",
       "</div>"
      ],
      "text/plain": [
       "                                                                                                                                                                                                                                                                                                                                                                                                                                                                                                             document  \\\n",
       "0                                                  The patient is a 40-year-old white male who presents with a chief complaint of \"chest pain\". The patient is diabetic and has a prior history of coronary artery disease. The patient presents today stating that his chest pain started yesterday evening and has been somewhat intermittent. He has been advised Aspirin 81 milligrams QDay. Humulin N. insulin 50 units in a.m. Hydrochlorothiazide 50 mg QDay. Nitroglycerin 1/150 sublingually PRN chest pain.   \n",
       "1                                                  The patient is a 40-year-old white male who presents with a chief complaint of \"chest pain\". The patient is diabetic and has a prior history of coronary artery disease. The patient presents today stating that his chest pain started yesterday evening and has been somewhat intermittent. He has been advised Aspirin 81 milligrams QDay. Humulin N. insulin 50 units in a.m. Hydrochlorothiazide 50 mg QDay. Nitroglycerin 1/150 sublingually PRN chest pain.   \n",
       "2                                                  The patient is a 40-year-old white male who presents with a chief complaint of \"chest pain\". The patient is diabetic and has a prior history of coronary artery disease. The patient presents today stating that his chest pain started yesterday evening and has been somewhat intermittent. He has been advised Aspirin 81 milligrams QDay. Humulin N. insulin 50 units in a.m. Hydrochlorothiazide 50 mg QDay. Nitroglycerin 1/150 sublingually PRN chest pain.   \n",
       "3                                                  The patient is a 40-year-old white male who presents with a chief complaint of \"chest pain\". The patient is diabetic and has a prior history of coronary artery disease. The patient presents today stating that his chest pain started yesterday evening and has been somewhat intermittent. He has been advised Aspirin 81 milligrams QDay. Humulin N. insulin 50 units in a.m. Hydrochlorothiazide 50 mg QDay. Nitroglycerin 1/150 sublingually PRN chest pain.   \n",
       "4                                                  The patient is a 40-year-old white male who presents with a chief complaint of \"chest pain\". The patient is diabetic and has a prior history of coronary artery disease. The patient presents today stating that his chest pain started yesterday evening and has been somewhat intermittent. He has been advised Aspirin 81 milligrams QDay. Humulin N. insulin 50 units in a.m. Hydrochlorothiazide 50 mg QDay. Nitroglycerin 1/150 sublingually PRN chest pain.   \n",
       "5   Two weeks prior to presentation , she was treated with a five-day course of amoxicillin for a respiratory tract infection . She was on metformin , glipizide , and dapagliflozin for T2DM and atorvastatin and gemfibrozil for HTG . She had been on dapagliflozin for six months at the time of presentation .The patient was seen by the endocrinology service and she was discharged on 40 units of insulin glargine at night , 12 units of insulin lispro with meals , and metformin 1000 mg two times a day.   \n",
       "6   Two weeks prior to presentation , she was treated with a five-day course of amoxicillin for a respiratory tract infection . She was on metformin , glipizide , and dapagliflozin for T2DM and atorvastatin and gemfibrozil for HTG . She had been on dapagliflozin for six months at the time of presentation .The patient was seen by the endocrinology service and she was discharged on 40 units of insulin glargine at night , 12 units of insulin lispro with meals , and metformin 1000 mg two times a day.   \n",
       "7   Two weeks prior to presentation , she was treated with a five-day course of amoxicillin for a respiratory tract infection . She was on metformin , glipizide , and dapagliflozin for T2DM and atorvastatin and gemfibrozil for HTG . She had been on dapagliflozin for six months at the time of presentation .The patient was seen by the endocrinology service and she was discharged on 40 units of insulin glargine at night , 12 units of insulin lispro with meals , and metformin 1000 mg two times a day.   \n",
       "8   Two weeks prior to presentation , she was treated with a five-day course of amoxicillin for a respiratory tract infection . She was on metformin , glipizide , and dapagliflozin for T2DM and atorvastatin and gemfibrozil for HTG . She had been on dapagliflozin for six months at the time of presentation .The patient was seen by the endocrinology service and she was discharged on 40 units of insulin glargine at night , 12 units of insulin lispro with meals , and metformin 1000 mg two times a day.   \n",
       "9   Two weeks prior to presentation , she was treated with a five-day course of amoxicillin for a respiratory tract infection . She was on metformin , glipizide , and dapagliflozin for T2DM and atorvastatin and gemfibrozil for HTG . She had been on dapagliflozin for six months at the time of presentation .The patient was seen by the endocrinology service and she was discharged on 40 units of insulin glargine at night , 12 units of insulin lispro with meals , and metformin 1000 mg two times a day.   \n",
       "10  Two weeks prior to presentation , she was treated with a five-day course of amoxicillin for a respiratory tract infection . She was on metformin , glipizide , and dapagliflozin for T2DM and atorvastatin and gemfibrozil for HTG . She had been on dapagliflozin for six months at the time of presentation .The patient was seen by the endocrinology service and she was discharged on 40 units of insulin glargine at night , 12 units of insulin lispro with meals , and metformin 1000 mg two times a day.   \n",
       "11  Two weeks prior to presentation , she was treated with a five-day course of amoxicillin for a respiratory tract infection . She was on metformin , glipizide , and dapagliflozin for T2DM and atorvastatin and gemfibrozil for HTG . She had been on dapagliflozin for six months at the time of presentation .The patient was seen by the endocrinology service and she was discharged on 40 units of insulin glargine at night , 12 units of insulin lispro with meals , and metformin 1000 mg two times a day.   \n",
       "12  Two weeks prior to presentation , she was treated with a five-day course of amoxicillin for a respiratory tract infection . She was on metformin , glipizide , and dapagliflozin for T2DM and atorvastatin and gemfibrozil for HTG . She had been on dapagliflozin for six months at the time of presentation .The patient was seen by the endocrinology service and she was discharged on 40 units of insulin glargine at night , 12 units of insulin lispro with meals , and metformin 1000 mg two times a day.   \n",
       "13  Two weeks prior to presentation , she was treated with a five-day course of amoxicillin for a respiratory tract infection . She was on metformin , glipizide , and dapagliflozin for T2DM and atorvastatin and gemfibrozil for HTG . She had been on dapagliflozin for six months at the time of presentation .The patient was seen by the endocrinology service and she was discharged on 40 units of insulin glargine at night , 12 units of insulin lispro with meals , and metformin 1000 mg two times a day.   \n",
       "14  Two weeks prior to presentation , she was treated with a five-day course of amoxicillin for a respiratory tract infection . She was on metformin , glipizide , and dapagliflozin for T2DM and atorvastatin and gemfibrozil for HTG . She had been on dapagliflozin for six months at the time of presentation .The patient was seen by the endocrinology service and she was discharged on 40 units of insulin glargine at night , 12 units of insulin lispro with meals , and metformin 1000 mg two times a day.   \n",
       "\n",
       "              ner_chunk  begin  end  ner_label ner_confidence hcpcs_code  \\\n",
       "0               Aspirin    306  312  PROCEDURE         0.9998      G8598   \n",
       "1             Humulin N    334  342  PROCEDURE        0.98345         TD   \n",
       "2               insulin    345  351  PROCEDURE         0.9881      E0784   \n",
       "3   Hydrochlorothiazide    370  388  PROCEDURE         0.9999      G6057   \n",
       "4         Nitroglycerin    402  414  PROCEDURE         0.9999      G6055   \n",
       "5           amoxicillin     76   86  PROCEDURE          0.997      G9498   \n",
       "6             metformin    135  143  PROCEDURE         0.9998      G6054   \n",
       "7             glipizide    147  155  PROCEDURE         0.9999      G6054   \n",
       "8         dapagliflozin    163  175  PROCEDURE            1.0      G6034   \n",
       "9          atorvastatin    190  201  PROCEDURE         0.9999      G8598   \n",
       "10          gemfibrozil    207  217  PROCEDURE            1.0      G6054   \n",
       "11        dapagliflozin    245  257  PROCEDURE         0.9999      G6034   \n",
       "12     insulin glargine    391  406  PROCEDURE     0.98969996      E0784   \n",
       "13       insulin lispro    431  444  PROCEDURE     0.97045004      E0784   \n",
       "14            metformin    463  471  PROCEDURE         0.9992      G6054   \n",
       "\n",
       "                                hcpcs_resolution hcpcs_confidence  \n",
       "0   Aspirin or another antiplatelet therapy used           0.1169  \n",
       "1                                             Rn           0.3187  \n",
       "2     External ambulatory infusion pump, insulin           0.2998  \n",
       "3                                  Phenothiazine           0.2268  \n",
       "4                                       Nicotine           0.5803  \n",
       "5                  Antibiotic regimen prescribed           0.3499  \n",
       "6                                   Methsuximide           0.3279  \n",
       "7                                   Methsuximide           0.0938  \n",
       "8                                        Doxepin           0.1965  \n",
       "9   Aspirin or another antiplatelet therapy used           0.1142  \n",
       "10                                  Methsuximide           0.1202  \n",
       "11                                       Doxepin           0.1965  \n",
       "12    External ambulatory infusion pump, insulin           0.4655  \n",
       "13    External ambulatory infusion pump, insulin           0.2429  \n",
       "14                                  Methsuximide           0.3279  "
      ]
     },
     "metadata": {},
     "output_type": "display_data"
    }
   ],
   "source": [
    "process_s3_json_output_and_save(validation_json_file_name)"
   ]
  },
  {
   "cell_type": "markdown",
   "metadata": {},
   "source": [
    "### JSON Lines"
   ]
  },
  {
   "cell_type": "code",
   "execution_count": null,
   "metadata": {
    "tags": []
   },
   "outputs": [],
   "source": [
    "transformer = model.transformer(\n",
    "    instance_count=1,\n",
    "    instance_type=batch_transform_inference_instance_type,\n",
    "    accept=\"application/jsonlines\",\n",
    "    output_path=validation_output_jsonl_path\n",
    ")\n",
    "transformer.transform(validation_input_jsonl_path, content_type=\"application/jsonlines\")\n",
    "transformer.wait()"
   ]
  },
  {
   "cell_type": "code",
   "execution_count": 19,
   "metadata": {
    "tags": []
   },
   "outputs": [],
   "source": [
    "from urllib.parse import urlparse\n",
    "\n",
    "def process_s3_jsonlines_output_and_save(validation_file_name):\n",
    "\n",
    "    output_file_path = f\"{jsonl_output_dir}/{validation_file_name}.out\"\n",
    "    parsed_url = urlparse(transformer.output_path)\n",
    "    file_key = f\"{parsed_url.path[1:]}{validation_file_name}.out\"\n",
    "    response = s3_client.get_object(Bucket=s3_bucket, Key=file_key)\n",
    "\n",
    "    data = response[\"Body\"].read().decode(\"utf-8\")\n",
    "    print(data)\n",
    "\n",
    "    # Save the data to the output file\n",
    "    with open(output_file_path, 'w') as f_out:\n",
    "        for item in data.split('\\n'):\n",
    "            f_out.write(item + '\\n')"
   ]
  },
  {
   "cell_type": "code",
   "execution_count": 20,
   "metadata": {
    "tags": []
   },
   "outputs": [
    {
     "name": "stdout",
     "output_type": "stream",
     "text": [
      "{\"predictions\": [{\"ner_chunk\": \"Aspirin\", \"begin\": 306, \"end\": 312, \"ner_label\": \"PROCEDURE\", \"ner_confidence\": \"0.9998\", \"hcpcs_code\": \"G8598\", \"hcpcs_resolution\": \"Aspirin or another antiplatelet therapy used\", \"hcpcs_confidence\": \"0.1169\"}, {\"ner_chunk\": \"Humulin N\", \"begin\": 334, \"end\": 342, \"ner_label\": \"PROCEDURE\", \"ner_confidence\": \"0.98345\", \"hcpcs_code\": \"   TD\", \"hcpcs_resolution\": \"Rn\", \"hcpcs_confidence\": \"0.3187\"}, {\"ner_chunk\": \"insulin\", \"begin\": 345, \"end\": 351, \"ner_label\": \"PROCEDURE\", \"ner_confidence\": \"0.9881\", \"hcpcs_code\": \"E0784\", \"hcpcs_resolution\": \"External ambulatory infusion pump, insulin\", \"hcpcs_confidence\": \"0.2998\"}, {\"ner_chunk\": \"Hydrochlorothiazide\", \"begin\": 370, \"end\": 388, \"ner_label\": \"PROCEDURE\", \"ner_confidence\": \"0.9999\", \"hcpcs_code\": \"G6057\", \"hcpcs_resolution\": \"Phenothiazine\", \"hcpcs_confidence\": \"0.2268\"}, {\"ner_chunk\": \"Nitroglycerin\", \"begin\": 402, \"end\": 414, \"ner_label\": \"PROCEDURE\", \"ner_confidence\": \"0.9999\", \"hcpcs_code\": \"G6055\", \"hcpcs_resolution\": \"Nicotine\", \"hcpcs_confidence\": \"0.5803\"}]}\n",
      "{\"predictions\": [{\"ner_chunk\": \"amoxicillin\", \"begin\": 76, \"end\": 86, \"ner_label\": \"PROCEDURE\", \"ner_confidence\": \"0.997\", \"hcpcs_code\": \"G9498\", \"hcpcs_resolution\": \"Antibiotic regimen prescribed\", \"hcpcs_confidence\": \"0.3499\"}, {\"ner_chunk\": \"metformin\", \"begin\": 135, \"end\": 143, \"ner_label\": \"PROCEDURE\", \"ner_confidence\": \"0.9998\", \"hcpcs_code\": \"G6054\", \"hcpcs_resolution\": \"Methsuximide\", \"hcpcs_confidence\": \"0.3279\"}, {\"ner_chunk\": \"glipizide\", \"begin\": 147, \"end\": 155, \"ner_label\": \"PROCEDURE\", \"ner_confidence\": \"0.9999\", \"hcpcs_code\": \"G6054\", \"hcpcs_resolution\": \"Methsuximide\", \"hcpcs_confidence\": \"0.0938\"}, {\"ner_chunk\": \"dapagliflozin\", \"begin\": 163, \"end\": 175, \"ner_label\": \"PROCEDURE\", \"ner_confidence\": \"1.0\", \"hcpcs_code\": \"G6034\", \"hcpcs_resolution\": \"Doxepin\", \"hcpcs_confidence\": \"0.1965\"}, {\"ner_chunk\": \"atorvastatin\", \"begin\": 190, \"end\": 201, \"ner_label\": \"PROCEDURE\", \"ner_confidence\": \"0.9999\", \"hcpcs_code\": \"G8598\", \"hcpcs_resolution\": \"Aspirin or another antiplatelet therapy used\", \"hcpcs_confidence\": \"0.1142\"}, {\"ner_chunk\": \"gemfibrozil\", \"begin\": 207, \"end\": 217, \"ner_label\": \"PROCEDURE\", \"ner_confidence\": \"1.0\", \"hcpcs_code\": \"G6054\", \"hcpcs_resolution\": \"Methsuximide\", \"hcpcs_confidence\": \"0.1202\"}, {\"ner_chunk\": \"dapagliflozin\", \"begin\": 245, \"end\": 257, \"ner_label\": \"PROCEDURE\", \"ner_confidence\": \"0.9999\", \"hcpcs_code\": \"G6034\", \"hcpcs_resolution\": \"Doxepin\", \"hcpcs_confidence\": \"0.1965\"}, {\"ner_chunk\": \"insulin glargine\", \"begin\": 391, \"end\": 406, \"ner_label\": \"PROCEDURE\", \"ner_confidence\": \"0.98969996\", \"hcpcs_code\": \"E0784\", \"hcpcs_resolution\": \"External ambulatory infusion pump, insulin\", \"hcpcs_confidence\": \"0.4655\"}, {\"ner_chunk\": \"insulin lispro\", \"begin\": 431, \"end\": 444, \"ner_label\": \"PROCEDURE\", \"ner_confidence\": \"0.97045004\", \"hcpcs_code\": \"E0784\", \"hcpcs_resolution\": \"External ambulatory infusion pump, insulin\", \"hcpcs_confidence\": \"0.2429\"}, {\"ner_chunk\": \"metformin\", \"begin\": 463, \"end\": 471, \"ner_label\": \"PROCEDURE\", \"ner_confidence\": \"0.9992\", \"hcpcs_code\": \"G6054\", \"hcpcs_resolution\": \"Methsuximide\", \"hcpcs_confidence\": \"0.3279\"}]}\n"
     ]
    }
   ],
   "source": [
    "process_s3_jsonlines_output_and_save(validation_jsonl_file_name)"
   ]
  },
  {
   "cell_type": "code",
   "execution_count": 21,
   "metadata": {
    "tags": []
   },
   "outputs": [
    {
     "name": "stderr",
     "output_type": "stream",
     "text": [
      "INFO:sagemaker:Deleting model with name: hcpcs-resolver-pipeline-2024-06-07-09-31-46-168\n"
     ]
    }
   ],
   "source": [
    "model.delete_model()"
   ]
  },
  {
   "cell_type": "markdown",
   "metadata": {},
   "source": [
    "### Unsubscribe to the listing (optional)"
   ]
  },
  {
   "cell_type": "markdown",
   "metadata": {
    "tags": []
   },
   "source": [
    "If you would like to unsubscribe to the model package, follow these steps. Before you cancel the subscription, ensure that you do not have any [deployable model](https://console.aws.amazon.com/sagemaker/home#/models) created from the model package or using the algorithm. Note - You can find this information by looking at the container name associated with the model. \n",
    "\n",
    "**Steps to unsubscribe to product from AWS Marketplace**:\n",
    "1. Navigate to __Machine Learning__ tab on [__Your Software subscriptions page__](https://aws.amazon.com/marketplace/ai/library?productType=ml&ref_=mlmp_gitdemo_indust)\n",
    "2. Locate the listing that you want to cancel the subscription for, and then choose __Cancel Subscription__  to cancel the subscription.\n",
    "\n"
   ]
  }
 ],
 "metadata": {
  "instance_type": "ml.t3.medium",
  "kernelspec": {
   "display_name": "conda_python3",
   "language": "python",
   "name": "conda_python3"
  },
  "language_info": {
   "codemirror_mode": {
    "name": "ipython",
    "version": 3
   },
   "file_extension": ".py",
   "mimetype": "text/x-python",
   "name": "python",
   "nbconvert_exporter": "python",
   "pygments_lexer": "ipython3",
   "version": "3.10.14"
  }
 },
 "nbformat": 4,
 "nbformat_minor": 4
}

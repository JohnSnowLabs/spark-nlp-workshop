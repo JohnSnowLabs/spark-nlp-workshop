{
 "cells": [
  {
   "cell_type": "markdown",
   "metadata": {},
   "source": [
    "## 1. Subscribe to the model package"
   ]
  },
  {
   "cell_type": "markdown",
   "metadata": {},
   "source": [
    "To subscribe to the model package:\n",
    "1. Open the model package listing page: [Clinical De-identification - Portuguese](https://aws.amazon.com/marketplace/pp/prodview-toznqfuzuf35q).\n",
    "1. On the AWS Marketplace listing, click on the **Continue to subscribe** button.\n",
    "1. On the **Subscribe to this software** page, review and click on **\"Accept Offer\"** if you and your organization agrees with EULA, pricing, and support terms. \n",
    "1. Once you click on **Continue to configuration button** and then choose a **region**, you will see a **Product Arn** displayed. This is the model package ARN that you need to specify while creating a deployable model using Boto3. Copy the ARN corresponding to your region and specify the same in the following cell."
   ]
  },
  {
   "cell_type": "markdown",
   "metadata": {},
   "source": [
    "## Clinical Deidentification Portuguese\n",
    "\n",
    "Deidentification is essential for safeguarding patient privacy in clinical data, including texts, PDFs, images, and DICOM files containing Protected Health Information (PHI). PHI encompasses various health-related data, including common identifiers such as name, address, birth date, and Social Security Number.\n",
    "\n",
    "- **Model**: [pt.deid.clinical](https://nlp.johnsnowlabs.com/2022/06/21/clinical_deidentification_pt_3_0.html)\n",
    "- **Model Description**: This pipeline is trained with w2v_cc_300d portuguese embeddings and can be used to deidentify PHI information from medical texts in portuguese. The PHI information will be masked and obfuscated in the resulting text. The pipeline can mask, fake or obfuscate the following entities: AGE, DATE, PROFESSION, EMAIL, ID, COUNTRY, STREET, DOCTOR, HOSPITAL, PATIENT, URL, IP, ORGANIZATION, PHONE, ZIP, ACCOUNT, SSN, PLATE, SEX and IPADDR"
   ]
  },
  {
   "cell_type": "code",
   "execution_count": 1,
   "metadata": {
    "tags": []
   },
   "outputs": [],
   "source": [
    "model_package_arn = \"<Customer to specify Model package ARN corresponding to their AWS region>\""
   ]
  },
  {
   "cell_type": "code",
   "execution_count": null,
   "metadata": {
    "tags": []
   },
   "outputs": [],
   "source": [
    "import json\n",
    "import os\n",
    "import boto3\n",
    "import pandas as pd\n",
    "import sagemaker as sage\n",
    "from sagemaker import ModelPackage\n",
    "from sagemaker import get_execution_role\n",
    "from IPython.display import display\n",
    "from urllib.parse import urlparse"
   ]
  },
  {
   "cell_type": "code",
   "execution_count": null,
   "metadata": {
    "tags": []
   },
   "outputs": [],
   "source": [
    "sagemaker_session = sage.Session()\n",
    "s3_bucket = sagemaker_session.default_bucket()\n",
    "region = sagemaker_session.boto_region_name\n",
    "account_id = boto3.client(\"sts\").get_caller_identity().get(\"Account\")\n",
    "role = get_execution_role()\n",
    "\n",
    "sagemaker = boto3.client(\"sagemaker\")\n",
    "s3_client = sagemaker_session.boto_session.client(\"s3\")\n",
    "ecr = boto3.client(\"ecr\")\n",
    "sm_runtime = boto3.client(\"sagemaker-runtime\")\n",
    "\n",
    "# Set display options\n",
    "pd.set_option('display.max_rows', None)\n",
    "pd.set_option('display.max_columns', None)\n",
    "pd.set_option('display.max_colwidth', None)"
   ]
  },
  {
   "cell_type": "code",
   "execution_count": 4,
   "metadata": {
    "tags": []
   },
   "outputs": [],
   "source": [
    "model_name = \"pt-deid-clinical\"\n",
    "\n",
    "real_time_inference_instance_type = \"ml.m4.xlarge\"\n",
    "batch_transform_inference_instance_type = \"ml.m4.2xlarge\""
   ]
  },
  {
   "cell_type": "markdown",
   "metadata": {},
   "source": [
    "## 2. Create a deployable model from the model package."
   ]
  },
  {
   "cell_type": "code",
   "execution_count": 5,
   "metadata": {
    "tags": []
   },
   "outputs": [],
   "source": [
    "model = ModelPackage(\n",
    "    role=role, \n",
    "    model_package_arn=model_package_arn,\n",
    "    sagemaker_session=sagemaker_session,\n",
    ")"
   ]
  },
  {
   "cell_type": "markdown",
   "metadata": {},
   "source": [
    "### Input Format\n",
    "\n",
    "To use the model, you need to provide input in one of the following supported formats:\n",
    "\n",
    "#### JSON Format\n",
    "\n",
    "Provide input as JSON. We support two variations within this format:\n",
    "\n",
    "1. **Array of Text Documents**: \n",
    "   Use an array containing multiple text documents. Each element represents a separate text document.\n",
    "\n",
    "   ```json\n",
    "   {\n",
    "       \"text\": [\n",
    "           \"Text document 1\",\n",
    "           \"Text document 2\",\n",
    "           ...\n",
    "       ]\n",
    "   }\n",
    "\n",
    "    ```\n",
    "\n",
    "2. **Single Text Document**:\n",
    "   Provide a single text document as a string.\n",
    "\n",
    "\n",
    "   ```json\n",
    "    {\n",
    "        \"text\": \"Single text document\"\n",
    "    }\n",
    "   ```\n",
    "\n",
    "#### JSON Lines (JSONL) Format\n",
    "\n",
    "Provide input in JSON Lines format, where each line is a JSON object representing a text document.\n",
    "\n",
    "```\n",
    "{\"text\": \"Text document 1\"}\n",
    "{\"text\": \"Text document 2\"}\n",
    "```\n",
    "\n",
    "### Important Parameter\n",
    "\n",
    "- **masking_policy**: `str`\n",
    "\n",
    "    Users can select a masking policy to determine how sensitive entities are handled:\n",
    "\n",
    "    Example: \"**Dados do paciente. Nome: Mauro. Apelido: Gonçalves. NISS: 26 63514095. Endereço: Calle Miguel Benitez 90.**\"\n",
    "\n",
    "    - **masked**: Default policy that masks entities with their type.\n",
    "\n",
    "      -> 'Dados do `<SEX>`. Nome: `<PATIENT>`. Apelido: `<PATIENT>`. NISS: `<ID>`. Endereço: `<STREET>`.'\n",
    "\n",
    "    - **obfuscated**: Replaces sensitive entities with random values of the same type.\n",
    "\n",
    "      -> 'Dados do `Homen`. Nome: `Josefina Batista`. Apelido: `Tiago Santos`. NISS: `16 63514095`. Endereço: `Avenida da Liberdade, 17`.'\n",
    "\n",
    "    - **masked_fixed_length_chars**: Masks entities with a fixed length of asterisks (\\*).\n",
    "\n",
    "      -> 'Dados do `****`. Nome: `****`. Apelido: `****`. NISS: `****`. Endereço: `****`.'\n",
    "\n",
    "    - **masked_with_chars**: Masks entities with asterisks (\\*).\n",
    "\n",
    "      -> 'Dados do [`******`]. Nome: [`***`]. Apelido: [`*******`]. NISS: [`**********`]. Endereço: [`*********************`].'\n",
    "    \n",
    "You can specify these parameters in the input as follows:\n",
    "\n",
    "```json\n",
    "{\n",
    "    \"text\": [\n",
    "        \"Text document 1\",\n",
    "        \"Text document 2\",\n",
    "        ...\n",
    "    ],\n",
    "    \"masking_policy\": \"masked\"\n",
    "}\n",
    "```"
   ]
  },
  {
   "cell_type": "markdown",
   "metadata": {},
   "source": [
    "## 3. Create an endpoint and perform real-time inference"
   ]
  },
  {
   "cell_type": "markdown",
   "metadata": {},
   "source": [
    "If you want to understand how real-time inference with Amazon SageMaker works, see [Documentation](https://docs.aws.amazon.com/sagemaker/latest/dg/how-it-works-hosting.html)."
   ]
  },
  {
   "cell_type": "markdown",
   "metadata": {},
   "source": [
    "### A. Deploy the SageMaker model to an endpoint"
   ]
  },
  {
   "cell_type": "code",
   "execution_count": null,
   "metadata": {
    "tags": []
   },
   "outputs": [],
   "source": [
    "predictor = model.deploy(\n",
    "    initial_instance_count=1,\n",
    "    instance_type=real_time_inference_instance_type, \n",
    "    endpoint_name=model_name,\n",
    ")"
   ]
  },
  {
   "cell_type": "markdown",
   "metadata": {},
   "source": [
    "Once endpoint has been created, you would be able to perform real-time inference."
   ]
  },
  {
   "cell_type": "code",
   "execution_count": 7,
   "metadata": {
    "tags": []
   },
   "outputs": [],
   "source": [
    "def invoke_realtime_endpoint(record, content_type=\"application/json\", accept=\"application/json\"):\n",
    "    response = sm_runtime.invoke_endpoint(\n",
    "        EndpointName=model_name,\n",
    "        ContentType=content_type,\n",
    "        Accept=accept,\n",
    "        Body=json.dumps(record) if content_type == \"application/json\" else record,\n",
    "    )\n",
    "\n",
    "    response_body = response[\"Body\"].read().decode(\"utf-8\")\n",
    "\n",
    "    if accept == \"application/json\":\n",
    "        return json.loads(response_body)\n",
    "    elif accept == \"application/jsonlines\":\n",
    "        return response_body\n",
    "    else:\n",
    "        raise ValueError(f\"Unsupported accept type: {accept}\")"
   ]
  },
  {
   "cell_type": "markdown",
   "metadata": {},
   "source": [
    "### Initial Setup"
   ]
  },
  {
   "cell_type": "code",
   "execution_count": 8,
   "metadata": {
    "tags": []
   },
   "outputs": [],
   "source": [
    "docs = [\n",
    "'''Dados do paciente.\n",
    "Nome: Mauro.\n",
    "Apelido: Gonçalves.\n",
    "NISS: 26 63514095.\n",
    "Endereço: Calle Miguel Benitez 90.\n",
    "CÓDIGO POSTAL: 28016.\n",
    "Dados de cuidados.\n",
    "Data de nascimento: 03/03/1946.\n",
    "País: Portugal.\n",
    "Idade: 70 anos Sexo: M.\n",
    "Data de admissão: 12/12/2016.\n",
    "Doutor: Ignacio Navarro Cuéllar NºCol: 28 28 70973.\n",
    "Relatório clínico do paciente: Paciente de 70 anos, mineiro reformado, sem alergias medicamentosas conhecidas, que apresenta como história pessoal: acidente de trabalho antigo com fracturas vertebrais e das costelas; operado por doença de Dupuytren na mão direita e iliofemoral esquerda; Diabetes Mellitus tipo II, hipercolesterolemia e hiperuricemia; alcoolismo activo, fumador de 20 cigarros / dia.\n",
    "Foi encaminhado dos cuidados primários porque apresentou uma vez hematúria macroscópica pós-morte e depois microhaematúria persistente, com micturição normal.\n",
    "O exame físico mostrou um bom estado geral, com abdómen e genitália normais; o exame rectal foi compatível com adenoma de próstata de grau I/IV.\n",
    "A urinálise mostrou 4 glóbulos vermelhos/campo e 0-5 leucócitos/campo; o resto do sedimento estava normal.\n",
    "Hemograma normal; a bioquímica mostrou glicemia de 169 mg/dl e triglicéridos de 456 mg/dl; função hepática e renal normal. PSA de 1,16 ng/ml.\n",
    "A citologia da urina era repetidamente desconfiada por malignidade.\n",
    "A radiografia simples abdominal mostra alterações degenerativas na coluna lombar e calcificações vasculares tanto no hipocôndrio como na pélvis.\n",
    "A ecografia urológica revelou cistos corticais simples no rim direito, uma bexiga inalterada com boa capacidade e uma próstata com 30g de peso.\n",
    "O IVUS mostrou normofuncionalismo renal bilateral, calcificações na silhueta renal direita e ureteres artrosados com imagens de adição no terço superior de ambos os ureteres, relacionadas com pseudodiverticulose ureteral. O cistograma mostra uma bexiga com boa capacidade, mas com paredes trabeculadas em relação à bexiga de stress. A tomografia computorizada abdominal é normal.\n",
    "A cistoscopia revelou a existência de pequenos tumores na bexiga, e a ressecção transuretral foi realizada com o resultado anatomopatológico do carcinoma urotelial superficial da bexiga.\n",
    "Referido por: Miguel Santos - Avenida dos Aliados, 22 Portugal E-mail: nnavcu@hotmail.com.''',\n",
    "\n",
    "'''RELAÇÃO HOSPITALAR\n",
    "NOME: Pedro Gonçalves\n",
    "NHC: MVANSK92F09W408A\n",
    "ENDEREÇO: Rua Burcardo 7\n",
    "CÓDIGO POSTA... \n",
    "RELAÇÃO HOSPITALAR\n",
    "NOME: Pedro Gonçalves\n",
    "NHC: MVANSK92F09W408A\n",
    "ENDEREÇO: Rua Burcardo 7\n",
    "CÓDIGO POSTAL: 80139\n",
    "DATA DE NASCIMENTO: 03/03/1946\n",
    "IDADE: 70 anos\n",
    "SEXO: Homens\n",
    "E-MAIL: pgon21@tim.pt\n",
    "DATA DE ADMISSÃO: 12/12/2016\n",
    "DOUTORA: Eva Andrade\n",
    "RELATO CLÍNICO: 70 anos, aposentado, sem alergia a medicamentos conhecida, com a seguinte história: ex-acidente de trabalho com fratura de vértebras e costelas; operado de doença de Dupuytren na mão direita e ponte ílio-femoral esquerda; diabetes tipo II, hipercolesterolemia e hiperuricemia; alcoolismo ativo, fuma 20 cigarros/dia.\n",
    "Ele foi-nos encaminhado por apresentar hematúria macroscópica pós-evacuação em uma ocasião e microhematúria persistente posteriormente, com evacuação normal.\n",
    "O exame físico mostrou bom estado geral, com abdome e genitais normais; o toque retal foi compatível com adenoma de próstata grau I/IV.\n",
    "A urinálise mostrou 4 hemácias/campo e 0-5 leucócitos/campo; o resto do sedimento era normal.\n",
    "O hemograma é normal; a bioquímica mostrou uma glicemia de 169 mg/dl e triglicerídeos 456 mg/dl; função hepática e renal são normais. PSA de 1,16 ng/ml.\n",
    "\n",
    "DIRIGIDA A: Dr. Eva Andrade - Centro Hospitalar do Medio Ave - Avenida Dos Aliados, 56\n",
    "E-MAIL: evandrade@poste.pt'''\n",
    "\n",
    "]\n",
    "\n",
    "\n",
    "sample_text = \"\"\"Nome do paciente: Antonio Gonçalves\n",
    "NHC: 2569870.\n",
    "Endereço: Rua Das Flores 23.\n",
    "Código Postal: 21754-... \n",
    "Nome do paciente: Antonio Gonçalves\n",
    "NHC: 2569870.\n",
    "Endereço: Rua Das Flores 23.\n",
    "Código Postal: 21754-987.\n",
    "Dados de cuidados.\n",
    "Data de nascimento: 10/10/1963.\n",
    "Idade: 23 anos \n",
    "Data de admissão: 17/06/2016.\n",
    "Doutora: Maria Santos\"\"\""
   ]
  },
  {
   "cell_type": "markdown",
   "metadata": {},
   "source": [
    "### JSON"
   ]
  },
  {
   "cell_type": "markdown",
   "metadata": {},
   "source": [
    "#### Example 1: masked (default-policy)"
   ]
  },
  {
   "cell_type": "code",
   "execution_count": 9,
   "metadata": {
    "tags": []
   },
   "outputs": [
    {
     "name": "stdout",
     "output_type": "stream",
     "text": [
      "Nome do <SEX>: <PATIENT>\n",
      "NHC: <ID>.\n",
      "Endereço: <STREET>.\n",
      "Código Postal: <ZIP>-... \n",
      "Nome do <SEX>: <PATIENT>\n",
      "NHC: <ID>.\n",
      "Endereço: <STREET>.\n",
      "Código Postal: <ZIP>.\n",
      "Dados de cuidados.\n",
      "Data de nascimento: <DATE>.\n",
      "Idade: <AGE> anos \n",
      "Data de admissão: <DATE>.\n",
      "Doutora: <DOCTOR>\n"
     ]
    }
   ],
   "source": [
    "input_json_data = {\"text\": sample_text}\n",
    "response_json = invoke_realtime_endpoint(input_json_data, content_type=\"application/json\", accept=\"application/json\")\n",
    "print(response_json[\"predictions\"][0])"
   ]
  },
  {
   "cell_type": "markdown",
   "metadata": {},
   "source": [
    "#### Example 2: obfuscated"
   ]
  },
  {
   "cell_type": "code",
   "execution_count": 11,
   "metadata": {
    "tags": []
   },
   "outputs": [
    {
     "name": "stdout",
     "output_type": "stream",
     "text": [
      "Nome do Homen: Silvia Couto\n",
      "NHC: 7856923.\n",
      "Endereço: Avenida da Liberdade, 17.\n",
      "Código Postal: 70281-... \n",
      "Nome do Homen: Silvia Couto\n",
      "NHC: 7856923.\n",
      "Endereço: Avenida da Liberdade, 17.\n",
      "Código Postal: 70281-692.\n",
      "Dados de cuidados.\n",
      "Data de nascimento: 10/10/1963.\n",
      "Idade: 27 anos \n",
      "Data de admissão: 17/06/2016.\n",
      "Doutora: Isabel Magalhães\n"
     ]
    }
   ],
   "source": [
    "input_json_data = {\"text\": sample_text, \"masking_policy\": \"obfuscated\"}\n",
    "response_json = invoke_realtime_endpoint(input_json_data, content_type=\"application/json\", accept=\"application/json\")\n",
    "print(response_json[\"predictions\"][0])"
   ]
  },
  {
   "cell_type": "markdown",
   "metadata": {},
   "source": [
    "### JSON Lines"
   ]
  },
  {
   "cell_type": "code",
   "execution_count": 13,
   "metadata": {
    "tags": []
   },
   "outputs": [],
   "source": [
    "def create_jsonl(records, masking_policy=None):\n",
    "    json_records = []\n",
    "\n",
    "    if isinstance(records, str):\n",
    "        records = [records]\n",
    "\n",
    "    for text in records:\n",
    "        record = {\"text\": text}\n",
    "\n",
    "        if masking_policy is not None:\n",
    "            record[\"masking_policy\"] = masking_policy\n",
    "        json_records.append(record)\n",
    "\n",
    "    json_lines = '\\n'.join(json.dumps(record, ensure_ascii=False) for record in json_records)\n",
    "    return json_lines\n"
   ]
  },
  {
   "cell_type": "markdown",
   "metadata": {},
   "source": [
    "#### Example 1: masked (default-policy)"
   ]
  },
  {
   "cell_type": "code",
   "execution_count": 14,
   "metadata": {
    "tags": []
   },
   "outputs": [
    {
     "name": "stdout",
     "output_type": "stream",
     "text": [
      "{\"predictions\": \"Nome do <SEX>: <PATIENT>\\nNHC: <ID>.\\nEndereço: <STREET>.\\nCódigo Postal: <ZIP>-... \\nNome do <SEX>: <PATIENT>\\nNHC: <ID>.\\nEndereço: <STREET>.\\nCódigo Postal: <ZIP>.\\nDados de cuidados.\\nData de nascimento: <DATE>.\\nIdade: <AGE> anos \\nData de admissão: <DATE>.\\nDoutora: <DOCTOR>\"}\n"
     ]
    }
   ],
   "source": [
    "input_jsonl_data = create_jsonl(sample_text, masking_policy=\"masked\")\n",
    "data = invoke_realtime_endpoint(input_jsonl_data, content_type=\"application/jsonlines\" , accept=\"application/jsonlines\" )\n",
    "print(data)"
   ]
  },
  {
   "cell_type": "markdown",
   "metadata": {},
   "source": [
    "#### Example 2: obfuscated"
   ]
  },
  {
   "cell_type": "code",
   "execution_count": 16,
   "metadata": {
    "tags": []
   },
   "outputs": [
    {
     "name": "stdout",
     "output_type": "stream",
     "text": [
      "{\"predictions\": \"Nome do Homen: Silvia Couto\\nNHC: 7856923.\\nEndereço: Avenida da Liberdade, 17.\\nCódigo Postal: 70281-... \\nNome do Homen: Silvia Couto\\nNHC: 7856923.\\nEndereço: Avenida da Liberdade, 17.\\nCódigo Postal: 70281-692.\\nDados de cuidados.\\nData de nascimento: 10/10/1963.\\nIdade: 27 anos \\nData de admissão: 17/06/2016.\\nDoutora: Isabel Magalhães\"}\n"
     ]
    }
   ],
   "source": [
    "input_jsonl_data = create_jsonl(sample_text, masking_policy=\"obfuscated\")\n",
    "data = invoke_realtime_endpoint(input_jsonl_data, content_type=\"application/jsonlines\" , accept=\"application/jsonlines\" )\n",
    "print(data)"
   ]
  },
  {
   "cell_type": "markdown",
   "metadata": {},
   "source": [
    "### B. Delete the endpoint"
   ]
  },
  {
   "cell_type": "markdown",
   "metadata": {},
   "source": [
    "Now that you have successfully performed a real-time inference, you do not need the endpoint any more. You can terminate the endpoint to avoid being charged."
   ]
  },
  {
   "cell_type": "code",
   "execution_count": null,
   "metadata": {
    "tags": []
   },
   "outputs": [],
   "source": [
    "model.sagemaker_session.delete_endpoint(model_name)\n",
    "model.sagemaker_session.delete_endpoint_config(model_name)"
   ]
  },
  {
   "cell_type": "markdown",
   "metadata": {
    "tags": []
   },
   "source": [
    "## 4. Batch inference"
   ]
  },
  {
   "cell_type": "code",
   "execution_count": 19,
   "metadata": {
    "tags": []
   },
   "outputs": [],
   "source": [
    "validation_input_json_path = f\"s3://{s3_bucket}/{model_name}/validation-input/json/\"\n",
    "validation_output_json_path = f\"s3://{s3_bucket}/{model_name}/validation-output/json/\"\n",
    "\n",
    "validation_input_jsonl_path = f\"s3://{s3_bucket}/{model_name}/validation-input/jsonl/\"\n",
    "validation_output_jsonl_path = f\"s3://{s3_bucket}/{model_name}/validation-output/jsonl/\"\n",
    "\n",
    "def upload_to_s3(input_data, file_name):\n",
    "    file_format = os.path.splitext(file_name)[1].lower()\n",
    "    s3_client.put_object(\n",
    "        Bucket=s3_bucket,\n",
    "        Key=f\"{model_name}/validation-input/{file_format[1:]}/{file_name}\",\n",
    "        Body=input_data.encode(\"UTF-8\"),\n",
    "    )"
   ]
  },
  {
   "cell_type": "code",
   "execution_count": 20,
   "metadata": {
    "tags": []
   },
   "outputs": [],
   "source": [
    "# Create JSON and JSON Lines data\n",
    "input_json_data = {\n",
    "    \"input1.json\": json.dumps({\"text\": docs, \"masking_policy\": \"masked\"}, ensure_ascii=False),\n",
    "    \"input2.json\": json.dumps({\"text\": docs, \"masking_policy\": \"obfuscated\"}, ensure_ascii=False),\n",
    "    \"input3.json\": json.dumps({\"text\": docs, \"masking_policy\": \"masked_fixed_length_chars\"}, ensure_ascii=False),\n",
    "    \"input4.json\": json.dumps({\"text\": docs, \"masking_policy\": \"masked_with_chars\"}, ensure_ascii=False),\n",
    "}\n",
    "\n",
    "input_jsonl_data = {\n",
    "    \"input1.jsonl\": create_jsonl(docs, masking_policy=\"masked\"),\n",
    "    \"input2.jsonl\": create_jsonl(docs, masking_policy=\"obfuscated\"),\n",
    "    \"input3.jsonl\": create_jsonl(docs, masking_policy=\"masked_fixed_length_chars\"),\n",
    "    \"input4.jsonl\": create_jsonl(docs, masking_policy=\"masked_with_chars\")\n",
    "}\n",
    "\n",
    "# Upload JSON and JSON Lines data to S3\n",
    "for file_name, data in input_json_data.items():\n",
    "    upload_to_s3(data, file_name)\n",
    "\n",
    "for file_name, data in input_jsonl_data.items():\n",
    "    upload_to_s3(data, file_name)\n"
   ]
  },
  {
   "cell_type": "markdown",
   "metadata": {
    "tags": []
   },
   "source": [
    "### JSON"
   ]
  },
  {
   "cell_type": "code",
   "execution_count": null,
   "metadata": {
    "tags": []
   },
   "outputs": [],
   "source": [
    "transformer = model.transformer(\n",
    "    instance_count=1,\n",
    "    instance_type=batch_transform_inference_instance_type,\n",
    "    accept=\"application/json\",\n",
    "    output_path=validation_output_json_path\n",
    ")\n",
    "\n",
    "transformer.transform(validation_input_json_path, content_type=\"application/json\")\n",
    "transformer.wait()"
   ]
  },
  {
   "cell_type": "code",
   "execution_count": 22,
   "metadata": {
    "tags": []
   },
   "outputs": [],
   "source": [
    "def retrieve_json_output_from_s3(validation_file_name):\n",
    "    parsed_url = urlparse(transformer.output_path)\n",
    "    file_key = f\"{parsed_url.path[1:]}{validation_file_name}.out\"\n",
    "    response = s3_client.get_object(Bucket=s3_bucket, Key=file_key)\n",
    "\n",
    "    data = json.loads(response[\"Body\"].read().decode(\"utf-8\"))\n",
    "    display(data)"
   ]
  },
  {
   "cell_type": "code",
   "execution_count": 23,
   "metadata": {
    "tags": []
   },
   "outputs": [
    {
     "name": "stdout",
     "output_type": "stream",
     "text": [
      "-------------------------------------------------- masked --------------------------------------------------\n"
     ]
    },
    {
     "data": {
      "text/plain": [
       "{'predictions': ['Dados do <SEX>.\\nNome: <PATIENT>.\\nApelido: <PATIENT>.\\nNISS: <PHONE> 63514095.\\nEndereço: <STREET>.\\nCÓDIGO POSTAL: <ZIP>.\\nDados de cuidados.\\nData de nascimento: <DATE>.\\nPaís: <COUNTRY>.\\nIdade: <AGE> anos Sexo: <SEX>.\\nData de admissão: <DATE>.\\nDoutor: <DOCTOR> Cuéllar NºCol: <ID> <ID> <ID>.\\nRelatório clínico do <SEX>: <SEX> de <AGE> anos, mineiro reformado, sem alergias medicamentosas conhecidas, que apresenta como história pessoal: acidente de trabalho antigo com fracturas vertebrais e das costelas; operado por doença de Dupuytren na mão direita e iliofemoral esquerda; Diabetes Mellitus tipo II, hipercolesterolemia e hiperuricemia; alcoolismo activo, fumador de 20 cigarros / dia.\\nFoi encaminhado dos cuidados primários porque apresentou uma vez hematúria macroscópica pós-morte e depois microhaematúria persistente, com micturição normal.\\nO exame físico mostrou um bom estado geral, com abdómen e genitália normais; o exame rectal foi compatível com adenoma de próstata de grau I/IV.\\nA urinálise mostrou 4 glóbulos vermelhos/campo e 0-5 leucócitos/campo; o resto do sedimento estava normal.\\nHemograma normal; a bioquímica mostrou glicemia de 169 mg/dl e triglicér<SEX> de 456 mg/dl; função hepática e renal normal. PSA de 1,16 ng/ml.\\nA citologia da urina era repetidamente desconfiada por malignidade.\\nA radiografia simples abdominal mostra alterações degenerativas na coluna lombar e calcificações vasculares tanto no hipocôndrio como na pélvis.\\nA ecografia urológica revelou cistos corticais simples no rim direito, uma bexiga inalterada com boa capacidade e uma próstata com 30g de peso.\\nO IVUS mostrou normofuncionalismo renal bilateral, calcificações na silhueta renal direita e ureteres artrosados com imagens de adição no terço superior de ambos os ureteres, relacionadas com pseudodiverticulose ureteral. O cistograma mostra uma bexiga com boa capacidade, mas com paredes trabeculadas em relação à bexiga de stress. A tomografia computorizada abdominal é normal.\\nA cistoscopia revelou a existência de pequenos tumores na bexiga, e a ressecção transuretral foi realizada com o resultado anatomopatológico do carcinoma urotelial superficial da bexiga.\\nReferido por: <DOCTOR> - <STREET>, 22 <COUNTRY> E-mail: <EMAIL>.',\n",
       "  'RELAÇÃO HOSPITALAR\\nNOME: <DOCTOR>\\nNHC: <ID>\\nENDEREÇO: <STREET>\\nCÓDIGO POSTA... \\nRELAÇÃO HOSPITALAR\\nNOME: <PATIENT>\\nNHC: <ID>\\nENDEREÇO: <STREET>\\nCÓDIGO POSTAL: <ZIP>\\nDATA DE NASCIMENTO: <DATE>\\nIDADE: <AGE> anos\\nSEXO: <SEX>\\nE-MAIL: <EMAIL>\\nDATA DE ADMISSÃO: <DATE>\\nDOUTORA: <DOCTOR>\\nRELATO CLÍNICO: <AGE> anos, aposentado, sem alergia a medicamentos conhecida, com a seguinte história: ex-acidente de trabalho com fratura de vértebras e costelas; operado de doença de Dupuytren na mão direita e ponte ílio-femoral esquerda; diabetes tipo II, hipercolesterolemia e hiperuricemia; alcoolismo ativo, fuma 20 cigarros/dia.\\nEle foi-nos encaminhado por apresentar hematúria macroscópica pós-evacuação em uma ocasião e microhematúria persistente posteriormente, com evacuação normal.\\nO exame físico mostrou bom estado geral, com abdome e genitais normais; o toque retal foi compatível com adenoma de próstata grau I/IV.\\nA urinálise mostrou 4 hemácias/campo e 0-5 leucócitos/campo; o resto do sedimento era normal.\\nO hemograma é normal; a bioquímica mostrou uma glicemia de 169 mg/dl e triglicerídeos 456 mg/dl; função hepática e renal são normais. PSA de 1,16 ng/ml.\\n\\nDIRIGIDA A: Dr. <DOCTOR> - Centro <HOSPITAL> - <STREET>, 56\\nE-MAIL: evandrade@poste.pt']}"
      ]
     },
     "metadata": {},
     "output_type": "display_data"
    },
    {
     "name": "stdout",
     "output_type": "stream",
     "text": [
      "\n",
      "\n",
      "-------------------------------------------------- obfuscated --------------------------------------------------\n"
     ]
    },
    {
     "data": {
      "text/plain": [
       "{'predictions': ['Dados do Homen.\\nNome: Josefina Batista.\\nApelido: Tiago Santos.\\nNISS: 75 63514095.\\nEndereço: Avenida da Liberdade, 17.\\nCÓDIGO POSTAL: 79305.\\nDados de cuidados.\\nData de nascimento: 03/03/1946.\\nPaís: Brasil.\\nIdade: 77 anos Sexo: H..\\nData de admissão: 12/12/2016.\\nDoutor: Vasco Soares Cuéllar NºCol: 79 79 23624.\\nRelatório clínico do Homen: Homen de 77 anos, mineiro reformado, sem alergias medicamentosas conhecidas, que apresenta como história pessoal: acidente de trabalho antigo com fracturas vertebrais e das costelas; operado por doença de Dupuytren na mão direita e iliofemoral esquerda; Diabetes Mellitus tipo II, hipercolesterolemia e hiperuricemia; alcoolismo activo, fumador de 20 cigarros / dia.\\nFoi encaminhado dos cuidados primários porque apresentou uma vez hematúria macroscópica pós-morte e depois microhaematúria persistente, com micturição normal.\\nO exame físico mostrou um bom estado geral, com abdómen e genitália normais; o exame rectal foi compatível com adenoma de próstata de grau I/IV.\\nA urinálise mostrou 4 glóbulos vermelhos/campo e 0-5 leucócitos/campo; o resto do sedimento estava normal.\\nHemograma normal; a bioquímica mostrou glicemia de 169 mg/dl e triglicérH. de 456 mg/dl; função hepática e renal normal. PSA de 1,16 ng/ml.\\nA citologia da urina era repetidamente desconfiada por malignidade.\\nA radiografia simples abdominal mostra alterações degenerativas na coluna lombar e calcificações vasculares tanto no hipocôndrio como na pélvis.\\nA ecografia urológica revelou cistos corticais simples no rim direito, uma bexiga inalterada com boa capacidade e uma próstata com 30g de peso.\\nO IVUS mostrou normofuncionalismo renal bilateral, calcificações na silhueta renal direita e ureteres artrosados com imagens de adição no terço superior de ambos os ureteres, relacionadas com pseudodiverticulose ureteral. O cistograma mostra uma bexiga com boa capacidade, mas com paredes trabeculadas em relação à bexiga de stress. A tomografia computorizada abdominal é normal.\\nA cistoscopia revelou a existência de pequenos tumores na bexiga, e a ressecção transuretral foi realizada com o resultado anatomopatológico do carcinoma urotelial superficial da bexiga.\\nReferido por: Carlos Melo - Rua de Santa María, 100, 22 Brasil E-mail: eric.shannon@geegle.com.',\n",
       "  'RELAÇÃO HOSPITALAR\\nNOME: Vasco Soares\\nNHC: VONAZL67M36T139N\\nENDEREÇO: Rua Augusta, 19\\nCÓDIGO POSTA... \\nRELAÇÃO HOSPITALAR\\nNOME: Vasco Soares\\nNHC: VONAZL67M36T139N\\nENDEREÇO: Rua Augusta, 19\\nCÓDIGO POSTAL: 93046\\nDATA DE NASCIMENTO: 03/03/1946\\nIDADE: 77 anos\\nSEXO: Mulher\\nE-MAIL: richard@yahoo.pt\\nDATA DE ADMISSÃO: 12/12/2016\\nDOUTORA: Eva Coutinho\\nRELATO CLÍNICO: 77 anos, aposentado, sem alergia a medicamentos conhecida, com a seguinte história: ex-acidente de trabalho com fratura de vértebras e costelas; operado de doença de Dupuytren na mão direita e ponte ílio-femoral esquerda; diabetes tipo II, hipercolesterolemia e hiperuricemia; alcoolismo ativo, fuma 20 cigarros/dia.\\nEle foi-nos encaminhado por apresentar hematúria macroscópica pós-evacuação em uma ocasião e microhematúria persistente posteriormente, com evacuação normal.\\nO exame físico mostrou bom estado geral, com abdome e genitais normais; o toque retal foi compatível com adenoma de próstata grau I/IV.\\nA urinálise mostrou 4 hemácias/campo e 0-5 leucócitos/campo; o resto do sedimento era normal.\\nO hemograma é normal; a bioquímica mostrou uma glicemia de 169 mg/dl e triglicerídeos 456 mg/dl; função hepática e renal são normais. PSA de 1,16 ng/ml.\\n\\nDIRIGIDA A: Dr. Eva Coutinho - Centro Centro Hospitalar Universitario do Algarve - Rua de Santa María, 100, 56\\nE-MAIL: evandrade@poste.pt']}"
      ]
     },
     "metadata": {},
     "output_type": "display_data"
    },
    {
     "name": "stdout",
     "output_type": "stream",
     "text": [
      "\n",
      "\n",
      "-------------------------------------------------- masked_fixed_length_chars --------------------------------------------------\n"
     ]
    },
    {
     "data": {
      "text/plain": [
       "{'predictions': ['Dados do ****.\\nNome: ****.\\nApelido: ****.\\nNISS: **** 63514095.\\nEndereço: ****.\\nCÓDIGO POSTAL: ****.\\nDados de cuidados.\\nData de nascimento: ****.\\nPaís: ****.\\nIdade: **** anos Sexo: ****.\\nData de admissão: ****.\\nDoutor: **** Cuéllar NºCol: **** **** ****.\\nRelatório clínico do ****: **** de **** anos, mineiro reformado, sem alergias medicamentosas conhecidas, que apresenta como história pessoal: acidente de trabalho antigo com fracturas vertebrais e das costelas; operado por doença de Dupuytren na mão direita e iliofemoral esquerda; Diabetes Mellitus tipo II, hipercolesterolemia e hiperuricemia; alcoolismo activo, fumador de 20 cigarros / dia.\\nFoi encaminhado dos cuidados primários porque apresentou uma vez hematúria macroscópica pós-morte e depois microhaematúria persistente, com micturição normal.\\nO exame físico mostrou um bom estado geral, com abdómen e genitália normais; o exame rectal foi compatível com adenoma de próstata de grau I/IV.\\nA urinálise mostrou 4 glóbulos vermelhos/campo e 0-5 leucócitos/campo; o resto do sedimento estava normal.\\nHemograma normal; a bioquímica mostrou glicemia de 169 mg/dl e triglicér**** de 456 mg/dl; função hepática e renal normal. PSA de 1,16 ng/ml.\\nA citologia da urina era repetidamente desconfiada por malignidade.\\nA radiografia simples abdominal mostra alterações degenerativas na coluna lombar e calcificações vasculares tanto no hipocôndrio como na pélvis.\\nA ecografia urológica revelou cistos corticais simples no rim direito, uma bexiga inalterada com boa capacidade e uma próstata com 30g de peso.\\nO IVUS mostrou normofuncionalismo renal bilateral, calcificações na silhueta renal direita e ureteres artrosados com imagens de adição no terço superior de ambos os ureteres, relacionadas com pseudodiverticulose ureteral. O cistograma mostra uma bexiga com boa capacidade, mas com paredes trabeculadas em relação à bexiga de stress. A tomografia computorizada abdominal é normal.\\nA cistoscopia revelou a existência de pequenos tumores na bexiga, e a ressecção transuretral foi realizada com o resultado anatomopatológico do carcinoma urotelial superficial da bexiga.\\nReferido por: **** - ****, 22 **** E-mail: ****.',\n",
       "  'RELAÇÃO HOSPITALAR\\nNOME: ****\\nNHC: ****\\nENDEREÇO: ****\\nCÓDIGO POSTA... \\nRELAÇÃO HOSPITALAR\\nNOME: ****\\nNHC: ****\\nENDEREÇO: ****\\nCÓDIGO POSTAL: ****\\nDATA DE NASCIMENTO: ****\\nIDADE: **** anos\\nSEXO: ****\\nE-MAIL: ****\\nDATA DE ADMISSÃO: ****\\nDOUTORA: ****\\nRELATO CLÍNICO: **** anos, aposentado, sem alergia a medicamentos conhecida, com a seguinte história: ex-acidente de trabalho com fratura de vértebras e costelas; operado de doença de Dupuytren na mão direita e ponte ílio-femoral esquerda; diabetes tipo II, hipercolesterolemia e hiperuricemia; alcoolismo ativo, fuma 20 cigarros/dia.\\nEle foi-nos encaminhado por apresentar hematúria macroscópica pós-evacuação em uma ocasião e microhematúria persistente posteriormente, com evacuação normal.\\nO exame físico mostrou bom estado geral, com abdome e genitais normais; o toque retal foi compatível com adenoma de próstata grau I/IV.\\nA urinálise mostrou 4 hemácias/campo e 0-5 leucócitos/campo; o resto do sedimento era normal.\\nO hemograma é normal; a bioquímica mostrou uma glicemia de 169 mg/dl e triglicerídeos 456 mg/dl; função hepática e renal são normais. PSA de 1,16 ng/ml.\\n\\nDIRIGIDA A: Dr. **** - Centro **** - ****, 56\\nE-MAIL: evandrade@poste.pt']}"
      ]
     },
     "metadata": {},
     "output_type": "display_data"
    },
    {
     "name": "stdout",
     "output_type": "stream",
     "text": [
      "\n",
      "\n",
      "-------------------------------------------------- masked_with_chars --------------------------------------------------\n"
     ]
    },
    {
     "data": {
      "text/plain": [
       "{'predictions': ['Dados do [******].\\nNome: [***].\\nApelido: [*******].\\nNISS: ** 63514095.\\nEndereço: [*********************].\\nCÓDIGO POSTAL: [***].\\nDados de cuidados.\\nData de nascimento: [********].\\nPaís: [******].\\nIdade: ** anos Sexo: *.\\nData de admissão: [********].\\nDoutor: [*************] Cuéllar NºCol: ** ** [***].\\nRelatório clínico do [******]: [******] de ** anos, mineiro reformado, sem alergias medicamentosas conhecidas, que apresenta como história pessoal: acidente de trabalho antigo com fracturas vertebrais e das costelas; operado por doença de Dupuytren na mão direita e iliofemoral esquerda; Diabetes Mellitus tipo II, hipercolesterolemia e hiperuricemia; alcoolismo activo, fumador de 20 cigarros / dia.\\nFoi encaminhado dos cuidados primários porque apresentou uma vez hematúria macroscópica pós-morte e depois microhaematúria persistente, com micturição normal.\\nO exame físico mostrou um bom estado geral, com abdómen e genitália normais; o exame rectal foi compatível com adenoma de próstata de grau I/IV.\\nA urinálise mostrou 4 glóbulos vermelhos/campo e 0-5 leucócitos/campo; o resto do sedimento estava normal.\\nHemograma normal; a bioquímica mostrou glicemia de 169 mg/dl e triglicér[**] de 456 mg/dl; função hepática e renal normal. PSA de 1,16 ng/ml.\\nA citologia da urina era repetidamente desconfiada por malignidade.\\nA radiografia simples abdominal mostra alterações degenerativas na coluna lombar e calcificações vasculares tanto no hipocôndrio como na pélvis.\\nA ecografia urológica revelou cistos corticais simples no rim direito, uma bexiga inalterada com boa capacidade e uma próstata com 30g de peso.\\nO IVUS mostrou normofuncionalismo renal bilateral, calcificações na silhueta renal direita e ureteres artrosados com imagens de adição no terço superior de ambos os ureteres, relacionadas com pseudodiverticulose ureteral. O cistograma mostra uma bexiga com boa capacidade, mas com paredes trabeculadas em relação à bexiga de stress. A tomografia computorizada abdominal é normal.\\nA cistoscopia revelou a existência de pequenos tumores na bexiga, e a ressecção transuretral foi realizada com o resultado anatomopatológico do carcinoma urotelial superficial da bexiga.\\nReferido por: [***********] - [*****************], 22 [******] E-mail: [****************].',\n",
       "  'RELAÇÃO HOSPITALAR\\nNOME: [*************]\\nNHC: [**************]\\nENDEREÇO: [************]\\nCÓDIGO POSTA... \\nRELAÇÃO HOSPITALAR\\nNOME: [*************]\\nNHC: [**************]\\nENDEREÇO: [************]\\nCÓDIGO POSTAL: [***]\\nDATA DE NASCIMENTO: [********]\\nIDADE: ** anos\\nSEXO: [****]\\nE-MAIL: [***********]\\nDATA DE ADMISSÃO: [********]\\nDOUTORA: [*********]\\nRELATO CLÍNICO: ** anos, aposentado, sem alergia a medicamentos conhecida, com a seguinte história: ex-acidente de trabalho com fratura de vértebras e costelas; operado de doença de Dupuytren na mão direita e ponte ílio-femoral esquerda; diabetes tipo II, hipercolesterolemia e hiperuricemia; alcoolismo ativo, fuma 20 cigarros/dia.\\nEle foi-nos encaminhado por apresentar hematúria macroscópica pós-evacuação em uma ocasião e microhematúria persistente posteriormente, com evacuação normal.\\nO exame físico mostrou bom estado geral, com abdome e genitais normais; o toque retal foi compatível com adenoma de próstata grau I/IV.\\nA urinálise mostrou 4 hemácias/campo e 0-5 leucócitos/campo; o resto do sedimento era normal.\\nO hemograma é normal; a bioquímica mostrou uma glicemia de 169 mg/dl e triglicerídeos 456 mg/dl; função hepática e renal são normais. PSA de 1,16 ng/ml.\\n\\nDIRIGIDA A: Dr. [*********] - Centro [*********************] - [*****************], 56\\nE-MAIL: evandrade@poste.pt']}"
      ]
     },
     "metadata": {},
     "output_type": "display_data"
    },
    {
     "name": "stdout",
     "output_type": "stream",
     "text": [
      "\n",
      "\n"
     ]
    }
   ],
   "source": [
    "masking_policies = {\n",
    "    \"masked\": \"input1.json\",\n",
    "    \"obfuscated\": \"input2.json\",\n",
    "    \"masked_fixed_length_chars\": \"input3.json\",\n",
    "    \"masked_with_chars\": \"input4.json\",\n",
    "}\n",
    "\n",
    "for policy_name, validation_file_name in masking_policies.items():\n",
    "    print(\"-\"*50, policy_name ,\"-\"*50)\n",
    "    retrieve_json_output_from_s3(validation_file_name)\n",
    "    print(\"\\n\")"
   ]
  },
  {
   "cell_type": "markdown",
   "metadata": {},
   "source": [
    "### JSON Lines"
   ]
  },
  {
   "cell_type": "code",
   "execution_count": null,
   "metadata": {
    "tags": []
   },
   "outputs": [],
   "source": [
    "transformer = model.transformer(\n",
    "    instance_count=1,\n",
    "    instance_type=batch_transform_inference_instance_type,\n",
    "    accept=\"application/jsonlines\",\n",
    "    output_path=validation_output_jsonl_path\n",
    ")\n",
    "transformer.transform(validation_input_jsonl_path, content_type=\"application/jsonlines\")\n",
    "transformer.wait()"
   ]
  },
  {
   "cell_type": "code",
   "execution_count": 25,
   "metadata": {
    "tags": []
   },
   "outputs": [],
   "source": [
    "def retrieve_jsonlines_output_from_s3(validation_file_name):\n",
    "\n",
    "    parsed_url = urlparse(transformer.output_path)\n",
    "    file_key = f\"{parsed_url.path[1:]}{validation_file_name}.out\"\n",
    "    response = s3_client.get_object(Bucket=s3_bucket, Key=file_key)\n",
    "\n",
    "    data = response[\"Body\"].read().decode(\"utf-8\")\n",
    "    print(data)"
   ]
  },
  {
   "cell_type": "code",
   "execution_count": 26,
   "metadata": {
    "tags": []
   },
   "outputs": [
    {
     "name": "stdout",
     "output_type": "stream",
     "text": [
      "-------------------------------------------------- masked --------------------------------------------------\n",
      "{\"predictions\": \"Dados do <SEX>.\\nNome: <PATIENT>.\\nApelido: <PATIENT>.\\nNISS: <PHONE> 63514095.\\nEndereço: <STREET>.\\nCÓDIGO POSTAL: <ZIP>.\\nDados de cuidados.\\nData de nascimento: <DATE>.\\nPaís: <COUNTRY>.\\nIdade: <AGE> anos Sexo: <SEX>.\\nData de admissão: <DATE>.\\nDoutor: <DOCTOR> Cuéllar NºCol: <ID> <ID> <ID>.\\nRelatório clínico do <SEX>: <SEX> de <AGE> anos, mineiro reformado, sem alergias medicamentosas conhecidas, que apresenta como história pessoal: acidente de trabalho antigo com fracturas vertebrais e das costelas; operado por doença de Dupuytren na mão direita e iliofemoral esquerda; Diabetes Mellitus tipo II, hipercolesterolemia e hiperuricemia; alcoolismo activo, fumador de 20 cigarros / dia.\\nFoi encaminhado dos cuidados primários porque apresentou uma vez hematúria macroscópica pós-morte e depois microhaematúria persistente, com micturição normal.\\nO exame físico mostrou um bom estado geral, com abdómen e genitália normais; o exame rectal foi compatível com adenoma de próstata de grau I/IV.\\nA urinálise mostrou 4 glóbulos vermelhos/campo e 0-5 leucócitos/campo; o resto do sedimento estava normal.\\nHemograma normal; a bioquímica mostrou glicemia de 169 mg/dl e triglicér<SEX> de 456 mg/dl; função hepática e renal normal. PSA de 1,16 ng/ml.\\nA citologia da urina era repetidamente desconfiada por malignidade.\\nA radiografia simples abdominal mostra alterações degenerativas na coluna lombar e calcificações vasculares tanto no hipocôndrio como na pélvis.\\nA ecografia urológica revelou cistos corticais simples no rim direito, uma bexiga inalterada com boa capacidade e uma próstata com 30g de peso.\\nO IVUS mostrou normofuncionalismo renal bilateral, calcificações na silhueta renal direita e ureteres artrosados com imagens de adição no terço superior de ambos os ureteres, relacionadas com pseudodiverticulose ureteral. O cistograma mostra uma bexiga com boa capacidade, mas com paredes trabeculadas em relação à bexiga de stress. A tomografia computorizada abdominal é normal.\\nA cistoscopia revelou a existência de pequenos tumores na bexiga, e a ressecção transuretral foi realizada com o resultado anatomopatológico do carcinoma urotelial superficial da bexiga.\\nReferido por: <DOCTOR> - <STREET>, 22 <COUNTRY> E-mail: <EMAIL>.\"}\n",
      "{\"predictions\": \"RELAÇÃO HOSPITALAR\\nNOME: <DOCTOR>\\nNHC: <ID>\\nENDEREÇO: <STREET>\\nCÓDIGO POSTA... \\nRELAÇÃO HOSPITALAR\\nNOME: <PATIENT>\\nNHC: <ID>\\nENDEREÇO: <STREET>\\nCÓDIGO POSTAL: <ZIP>\\nDATA DE NASCIMENTO: <DATE>\\nIDADE: <AGE> anos\\nSEXO: <SEX>\\nE-MAIL: <EMAIL>\\nDATA DE ADMISSÃO: <DATE>\\nDOUTORA: <DOCTOR>\\nRELATO CLÍNICO: <AGE> anos, aposentado, sem alergia a medicamentos conhecida, com a seguinte história: ex-acidente de trabalho com fratura de vértebras e costelas; operado de doença de Dupuytren na mão direita e ponte ílio-femoral esquerda; diabetes tipo II, hipercolesterolemia e hiperuricemia; alcoolismo ativo, fuma 20 cigarros/dia.\\nEle foi-nos encaminhado por apresentar hematúria macroscópica pós-evacuação em uma ocasião e microhematúria persistente posteriormente, com evacuação normal.\\nO exame físico mostrou bom estado geral, com abdome e genitais normais; o toque retal foi compatível com adenoma de próstata grau I/IV.\\nA urinálise mostrou 4 hemácias/campo e 0-5 leucócitos/campo; o resto do sedimento era normal.\\nO hemograma é normal; a bioquímica mostrou uma glicemia de 169 mg/dl e triglicerídeos 456 mg/dl; função hepática e renal são normais. PSA de 1,16 ng/ml.\\n\\nDIRIGIDA A: Dr. <DOCTOR> - Centro <HOSPITAL> - <STREET>, 56\\nE-MAIL: evandrade@poste.pt\"}\n",
      "\n",
      "\n",
      "-------------------------------------------------- obfuscated --------------------------------------------------\n",
      "{\"predictions\": \"Dados do Homen.\\nNome: Josefina Batista.\\nApelido: Tiago Santos.\\nNISS: 75 63514095.\\nEndereço: Avenida da Liberdade, 17.\\nCÓDIGO POSTAL: 79305.\\nDados de cuidados.\\nData de nascimento: 03/03/1946.\\nPaís: Brasil.\\nIdade: 77 anos Sexo: H..\\nData de admissão: 12/12/2016.\\nDoutor: Vasco Soares Cuéllar NºCol: 79 79 23624.\\nRelatório clínico do Homen: Homen de 77 anos, mineiro reformado, sem alergias medicamentosas conhecidas, que apresenta como história pessoal: acidente de trabalho antigo com fracturas vertebrais e das costelas; operado por doença de Dupuytren na mão direita e iliofemoral esquerda; Diabetes Mellitus tipo II, hipercolesterolemia e hiperuricemia; alcoolismo activo, fumador de 20 cigarros / dia.\\nFoi encaminhado dos cuidados primários porque apresentou uma vez hematúria macroscópica pós-morte e depois microhaematúria persistente, com micturição normal.\\nO exame físico mostrou um bom estado geral, com abdómen e genitália normais; o exame rectal foi compatível com adenoma de próstata de grau I/IV.\\nA urinálise mostrou 4 glóbulos vermelhos/campo e 0-5 leucócitos/campo; o resto do sedimento estava normal.\\nHemograma normal; a bioquímica mostrou glicemia de 169 mg/dl e triglicérH. de 456 mg/dl; função hepática e renal normal. PSA de 1,16 ng/ml.\\nA citologia da urina era repetidamente desconfiada por malignidade.\\nA radiografia simples abdominal mostra alterações degenerativas na coluna lombar e calcificações vasculares tanto no hipocôndrio como na pélvis.\\nA ecografia urológica revelou cistos corticais simples no rim direito, uma bexiga inalterada com boa capacidade e uma próstata com 30g de peso.\\nO IVUS mostrou normofuncionalismo renal bilateral, calcificações na silhueta renal direita e ureteres artrosados com imagens de adição no terço superior de ambos os ureteres, relacionadas com pseudodiverticulose ureteral. O cistograma mostra uma bexiga com boa capacidade, mas com paredes trabeculadas em relação à bexiga de stress. A tomografia computorizada abdominal é normal.\\nA cistoscopia revelou a existência de pequenos tumores na bexiga, e a ressecção transuretral foi realizada com o resultado anatomopatológico do carcinoma urotelial superficial da bexiga.\\nReferido por: Carlos Melo - Rua de Santa María, 100, 22 Brasil E-mail: eric.shannon@geegle.com.\"}\n",
      "{\"predictions\": \"RELAÇÃO HOSPITALAR\\nNOME: Vasco Soares\\nNHC: VONAZL67M36T139N\\nENDEREÇO: Rua Augusta, 19\\nCÓDIGO POSTA... \\nRELAÇÃO HOSPITALAR\\nNOME: Vasco Soares\\nNHC: VONAZL67M36T139N\\nENDEREÇO: Rua Augusta, 19\\nCÓDIGO POSTAL: 93046\\nDATA DE NASCIMENTO: 03/03/1946\\nIDADE: 77 anos\\nSEXO: Mulher\\nE-MAIL: richard@yahoo.pt\\nDATA DE ADMISSÃO: 12/12/2016\\nDOUTORA: Eva Coutinho\\nRELATO CLÍNICO: 77 anos, aposentado, sem alergia a medicamentos conhecida, com a seguinte história: ex-acidente de trabalho com fratura de vértebras e costelas; operado de doença de Dupuytren na mão direita e ponte ílio-femoral esquerda; diabetes tipo II, hipercolesterolemia e hiperuricemia; alcoolismo ativo, fuma 20 cigarros/dia.\\nEle foi-nos encaminhado por apresentar hematúria macroscópica pós-evacuação em uma ocasião e microhematúria persistente posteriormente, com evacuação normal.\\nO exame físico mostrou bom estado geral, com abdome e genitais normais; o toque retal foi compatível com adenoma de próstata grau I/IV.\\nA urinálise mostrou 4 hemácias/campo e 0-5 leucócitos/campo; o resto do sedimento era normal.\\nO hemograma é normal; a bioquímica mostrou uma glicemia de 169 mg/dl e triglicerídeos 456 mg/dl; função hepática e renal são normais. PSA de 1,16 ng/ml.\\n\\nDIRIGIDA A: Dr. Eva Coutinho - Centro Centro Hospitalar Universitario do Algarve - Rua de Santa María, 100, 56\\nE-MAIL: evandrade@poste.pt\"}\n",
      "\n",
      "\n",
      "-------------------------------------------------- masked_fixed_length_chars --------------------------------------------------\n",
      "{\"predictions\": \"Dados do ****.\\nNome: ****.\\nApelido: ****.\\nNISS: **** 63514095.\\nEndereço: ****.\\nCÓDIGO POSTAL: ****.\\nDados de cuidados.\\nData de nascimento: ****.\\nPaís: ****.\\nIdade: **** anos Sexo: ****.\\nData de admissão: ****.\\nDoutor: **** Cuéllar NºCol: **** **** ****.\\nRelatório clínico do ****: **** de **** anos, mineiro reformado, sem alergias medicamentosas conhecidas, que apresenta como história pessoal: acidente de trabalho antigo com fracturas vertebrais e das costelas; operado por doença de Dupuytren na mão direita e iliofemoral esquerda; Diabetes Mellitus tipo II, hipercolesterolemia e hiperuricemia; alcoolismo activo, fumador de 20 cigarros / dia.\\nFoi encaminhado dos cuidados primários porque apresentou uma vez hematúria macroscópica pós-morte e depois microhaematúria persistente, com micturição normal.\\nO exame físico mostrou um bom estado geral, com abdómen e genitália normais; o exame rectal foi compatível com adenoma de próstata de grau I/IV.\\nA urinálise mostrou 4 glóbulos vermelhos/campo e 0-5 leucócitos/campo; o resto do sedimento estava normal.\\nHemograma normal; a bioquímica mostrou glicemia de 169 mg/dl e triglicér**** de 456 mg/dl; função hepática e renal normal. PSA de 1,16 ng/ml.\\nA citologia da urina era repetidamente desconfiada por malignidade.\\nA radiografia simples abdominal mostra alterações degenerativas na coluna lombar e calcificações vasculares tanto no hipocôndrio como na pélvis.\\nA ecografia urológica revelou cistos corticais simples no rim direito, uma bexiga inalterada com boa capacidade e uma próstata com 30g de peso.\\nO IVUS mostrou normofuncionalismo renal bilateral, calcificações na silhueta renal direita e ureteres artrosados com imagens de adição no terço superior de ambos os ureteres, relacionadas com pseudodiverticulose ureteral. O cistograma mostra uma bexiga com boa capacidade, mas com paredes trabeculadas em relação à bexiga de stress. A tomografia computorizada abdominal é normal.\\nA cistoscopia revelou a existência de pequenos tumores na bexiga, e a ressecção transuretral foi realizada com o resultado anatomopatológico do carcinoma urotelial superficial da bexiga.\\nReferido por: **** - ****, 22 **** E-mail: ****.\"}\n",
      "{\"predictions\": \"RELAÇÃO HOSPITALAR\\nNOME: ****\\nNHC: ****\\nENDEREÇO: ****\\nCÓDIGO POSTA... \\nRELAÇÃO HOSPITALAR\\nNOME: ****\\nNHC: ****\\nENDEREÇO: ****\\nCÓDIGO POSTAL: ****\\nDATA DE NASCIMENTO: ****\\nIDADE: **** anos\\nSEXO: ****\\nE-MAIL: ****\\nDATA DE ADMISSÃO: ****\\nDOUTORA: ****\\nRELATO CLÍNICO: **** anos, aposentado, sem alergia a medicamentos conhecida, com a seguinte história: ex-acidente de trabalho com fratura de vértebras e costelas; operado de doença de Dupuytren na mão direita e ponte ílio-femoral esquerda; diabetes tipo II, hipercolesterolemia e hiperuricemia; alcoolismo ativo, fuma 20 cigarros/dia.\\nEle foi-nos encaminhado por apresentar hematúria macroscópica pós-evacuação em uma ocasião e microhematúria persistente posteriormente, com evacuação normal.\\nO exame físico mostrou bom estado geral, com abdome e genitais normais; o toque retal foi compatível com adenoma de próstata grau I/IV.\\nA urinálise mostrou 4 hemácias/campo e 0-5 leucócitos/campo; o resto do sedimento era normal.\\nO hemograma é normal; a bioquímica mostrou uma glicemia de 169 mg/dl e triglicerídeos 456 mg/dl; função hepática e renal são normais. PSA de 1,16 ng/ml.\\n\\nDIRIGIDA A: Dr. **** - Centro **** - ****, 56\\nE-MAIL: evandrade@poste.pt\"}\n",
      "\n",
      "\n",
      "-------------------------------------------------- masked_with_chars --------------------------------------------------\n",
      "{\"predictions\": \"Dados do [******].\\nNome: [***].\\nApelido: [*******].\\nNISS: ** 63514095.\\nEndereço: [*********************].\\nCÓDIGO POSTAL: [***].\\nDados de cuidados.\\nData de nascimento: [********].\\nPaís: [******].\\nIdade: ** anos Sexo: *.\\nData de admissão: [********].\\nDoutor: [*************] Cuéllar NºCol: ** ** [***].\\nRelatório clínico do [******]: [******] de ** anos, mineiro reformado, sem alergias medicamentosas conhecidas, que apresenta como história pessoal: acidente de trabalho antigo com fracturas vertebrais e das costelas; operado por doença de Dupuytren na mão direita e iliofemoral esquerda; Diabetes Mellitus tipo II, hipercolesterolemia e hiperuricemia; alcoolismo activo, fumador de 20 cigarros / dia.\\nFoi encaminhado dos cuidados primários porque apresentou uma vez hematúria macroscópica pós-morte e depois microhaematúria persistente, com micturição normal.\\nO exame físico mostrou um bom estado geral, com abdómen e genitália normais; o exame rectal foi compatível com adenoma de próstata de grau I/IV.\\nA urinálise mostrou 4 glóbulos vermelhos/campo e 0-5 leucócitos/campo; o resto do sedimento estava normal.\\nHemograma normal; a bioquímica mostrou glicemia de 169 mg/dl e triglicér[**] de 456 mg/dl; função hepática e renal normal. PSA de 1,16 ng/ml.\\nA citologia da urina era repetidamente desconfiada por malignidade.\\nA radiografia simples abdominal mostra alterações degenerativas na coluna lombar e calcificações vasculares tanto no hipocôndrio como na pélvis.\\nA ecografia urológica revelou cistos corticais simples no rim direito, uma bexiga inalterada com boa capacidade e uma próstata com 30g de peso.\\nO IVUS mostrou normofuncionalismo renal bilateral, calcificações na silhueta renal direita e ureteres artrosados com imagens de adição no terço superior de ambos os ureteres, relacionadas com pseudodiverticulose ureteral. O cistograma mostra uma bexiga com boa capacidade, mas com paredes trabeculadas em relação à bexiga de stress. A tomografia computorizada abdominal é normal.\\nA cistoscopia revelou a existência de pequenos tumores na bexiga, e a ressecção transuretral foi realizada com o resultado anatomopatológico do carcinoma urotelial superficial da bexiga.\\nReferido por: [***********] - [*****************], 22 [******] E-mail: [****************].\"}\n",
      "{\"predictions\": \"RELAÇÃO HOSPITALAR\\nNOME: [*************]\\nNHC: [**************]\\nENDEREÇO: [************]\\nCÓDIGO POSTA... \\nRELAÇÃO HOSPITALAR\\nNOME: [*************]\\nNHC: [**************]\\nENDEREÇO: [************]\\nCÓDIGO POSTAL: [***]\\nDATA DE NASCIMENTO: [********]\\nIDADE: ** anos\\nSEXO: [****]\\nE-MAIL: [***********]\\nDATA DE ADMISSÃO: [********]\\nDOUTORA: [*********]\\nRELATO CLÍNICO: ** anos, aposentado, sem alergia a medicamentos conhecida, com a seguinte história: ex-acidente de trabalho com fratura de vértebras e costelas; operado de doença de Dupuytren na mão direita e ponte ílio-femoral esquerda; diabetes tipo II, hipercolesterolemia e hiperuricemia; alcoolismo ativo, fuma 20 cigarros/dia.\\nEle foi-nos encaminhado por apresentar hematúria macroscópica pós-evacuação em uma ocasião e microhematúria persistente posteriormente, com evacuação normal.\\nO exame físico mostrou bom estado geral, com abdome e genitais normais; o toque retal foi compatível com adenoma de próstata grau I/IV.\\nA urinálise mostrou 4 hemácias/campo e 0-5 leucócitos/campo; o resto do sedimento era normal.\\nO hemograma é normal; a bioquímica mostrou uma glicemia de 169 mg/dl e triglicerídeos 456 mg/dl; função hepática e renal são normais. PSA de 1,16 ng/ml.\\n\\nDIRIGIDA A: Dr. [*********] - Centro [*********************] - [*****************], 56\\nE-MAIL: evandrade@poste.pt\"}\n",
      "\n",
      "\n"
     ]
    }
   ],
   "source": [
    "masking_policies = {\n",
    "    \"masked\": \"input1.jsonl\",\n",
    "    \"obfuscated\": \"input2.jsonl\",\n",
    "    \"masked_fixed_length_chars\": \"input3.jsonl\",\n",
    "    \"masked_with_chars\": \"input4.jsonl\",\n",
    "}\n",
    "\n",
    "for policy_name, validation_file_name in masking_policies.items():\n",
    "    print(\"-\"*50, policy_name ,\"-\"*50)\n",
    "    retrieve_jsonlines_output_from_s3(validation_file_name)\n",
    "    print(\"\\n\")"
   ]
  },
  {
   "cell_type": "code",
   "execution_count": null,
   "metadata": {
    "tags": []
   },
   "outputs": [],
   "source": [
    "model.delete_model()"
   ]
  },
  {
   "cell_type": "markdown",
   "metadata": {},
   "source": [
    "### Unsubscribe to the listing (optional)"
   ]
  },
  {
   "cell_type": "markdown",
   "metadata": {
    "tags": []
   },
   "source": [
    "If you would like to unsubscribe to the model package, follow these steps. Before you cancel the subscription, ensure that you do not have any [deployable model](https://console.aws.amazon.com/sagemaker/home#/models) created from the model package or using the algorithm. Note - You can find this information by looking at the container name associated with the model. \n",
    "\n",
    "**Steps to unsubscribe to product from AWS Marketplace**:\n",
    "1. Navigate to __Machine Learning__ tab on [__Your Software subscriptions page__](https://aws.amazon.com/marketplace/ai/library?productType=ml&ref_=mlmp_gitdemo_indust)\n",
    "2. Locate the listing that you want to cancel the subscription for, and then choose __Cancel Subscription__  to cancel the subscription.\n",
    "\n"
   ]
  }
 ],
 "metadata": {
  "instance_type": "ml.t3.medium",
  "kernelspec": {
   "display_name": "conda_python3",
   "language": "python",
   "name": "conda_python3"
  },
  "language_info": {
   "codemirror_mode": {
    "name": "ipython",
    "version": 3
   },
   "file_extension": ".py",
   "mimetype": "text/x-python",
   "name": "python",
   "nbconvert_exporter": "python",
   "pygments_lexer": "ipython3",
   "version": "3.10.17"
  }
 },
 "nbformat": 4,
 "nbformat_minor": 4
}

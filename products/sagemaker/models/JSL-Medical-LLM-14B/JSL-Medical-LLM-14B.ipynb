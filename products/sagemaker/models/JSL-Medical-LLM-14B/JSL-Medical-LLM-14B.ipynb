{
 "cells": [
  {
   "cell_type": "markdown",
   "id": "82a4cf96-c239-49cc-88f9-a8e885bde191",
   "metadata": {},
   "source": [
    "## 1. Subscribe to the model package"
   ]
  },
  {
   "cell_type": "markdown",
   "id": "982d6ab4-d03d-4a5a-ab23-144d8e6ec3d6",
   "metadata": {},
   "source": [
    "To subscribe to the model package:\n",
    "1. Open the model package listing page [Medical LLM - 14B](https://aws.amazon.com/marketplace/pp/prodview-u5vx4onx5kucy)\n",
    "1. On the AWS Marketplace listing, click on the **Continue to subscribe** button.\n",
    "1. On the **Subscribe to this software** page, review and click on **\"Accept Offer\"** if you and your organization agrees with EULA, pricing, and support terms. \n",
    "1. Once you click on **Continue to configuration button** and then choose a **region**, you will see a **Product Arn** displayed. This is the model package ARN that you need to specify while creating a deployable model using Boto3. Copy the ARN corresponding to your region and specify the same in the following cell."
   ]
  },
  {
   "cell_type": "markdown",
   "id": "dad4b722-a125-4219-9c22-009acf75414d",
   "metadata": {},
   "source": [
    "- **Model**: `JSL-Medical-LLM-14B`  \n",
    "- **Model Description**: Medical LLM - 14B"
   ]
  },
  {
   "cell_type": "code",
   "execution_count": 1,
   "id": "9d1fb27b-e0ad-4759-937d-ae4edc209fc1",
   "metadata": {
    "tags": []
   },
   "outputs": [],
   "source": [
    "model_package_arn = \"<Customer to specify Model package ARN corresponding to their AWS region>\""
   ]
  },
  {
   "cell_type": "code",
   "execution_count": 9,
   "id": "76ede1bf-2acb-4b5d-9db1-299abfeee20b",
   "metadata": {
    "tags": []
   },
   "outputs": [],
   "source": [
    "import os\n",
    "import re\n",
    "import base64\n",
    "import json\n",
    "import uuid\n",
    "from sagemaker import ModelPackage\n",
    "import sagemaker as sage\n",
    "from sagemaker import get_execution_role\n",
    "import boto3\n",
    "from IPython.display import Image, display\n",
    "from PIL import Image as ImageEdit\n",
    "import numpy as np\n",
    "import pandas as pd\n",
    "\n",
    "pd.set_option('display.max_rows', None)\n",
    "pd.set_option('display.max_columns', None)\n",
    "pd.set_option('display.max_colwidth', None)\n",
    "\n",
    "sagemaker_session = sage.Session()\n",
    "s3_bucket = sagemaker_session.default_bucket()\n",
    "region = sagemaker_session.boto_region_name\n",
    "account_id = boto3.client(\"sts\").get_caller_identity().get(\"Account\")\n",
    "role = get_execution_role()\n",
    "\n",
    "sagemaker = boto3.client(\"sagemaker\")\n",
    "s3_client = sagemaker_session.boto_session.client(\"s3\")\n",
    "ecr = boto3.client(\"ecr\")\n",
    "sm_runtime = boto3.client(\"sagemaker-runtime\")"
   ]
  },
  {
   "cell_type": "code",
   "execution_count": 10,
   "id": "07846ed0-ed90-4a11-a77c-00d1c3ca3cbd",
   "metadata": {
    "tags": []
   },
   "outputs": [],
   "source": [
    "model_name = \"JSL-Medical-LLM-14B\"\n",
    "\n",
    "real_time_inference_instance_type = \"ml.g5.12xlarge\"\n",
    "batch_transform_inference_instance_type = \"ml.g5.12xlarge\""
   ]
  },
  {
   "cell_type": "markdown",
   "id": "9e3a3a54-98d8-4a8a-b812-c33db9a2aa7d",
   "metadata": {},
   "source": [
    "## Model Configuration Documentation  \n",
    "\n",
    "### Default Configuration  \n",
    "The container comes with the following default configurations:  \n",
    "\n",
    "| Parameter                  | Default Value | Description                                                                   |  \n",
    "|----------------------------|---------------|-------------------------------------------------------------------------------|  \n",
    "| **`dtype`**                | `auto`        | Data type for model weights and activations (automatically determined)        |  \n",
    "| **`tensor_parallel_size`** | Auto          | Automatically set to the number of available GPUs (`torch.cuda.device_count()`)|  \n",
    "| **`host`**                 | `0.0.0.0`     | Host name                                                                     |  \n",
    "| **`port`**                 | `8080`        | Port number                                                                   |  \n",
    "| **`tokenizer_mode`**       | `auto`        | Tokenizer mode (automatically determined)                                     |  \n",
    "| **`reasoning_parser`**     | `qwen3`       | Reasoning parser to use for extracting reasoning content from the model output|  \n",
    "\n",
    "### Hardcoded Settings  \n",
    "The following settings are hardcoded in the container and cannot be changed:  \n",
    "\n",
    "| Parameter       | Value           | Description                           |  \n",
    "|-----------------|-----------------|---------------------------------------|  \n",
    "| **`model`**     | `/opt/ml/model` | Model path where SageMaker mounts the model |  \n",
    "\n",
    "### Configurable Environment Variables  \n",
    "You can customize the vLLM server by setting environment variables when creating the model.  \n",
    "\n",
    "**Any parameter from the [vLLM documentation](https://docs.vllm.ai/en/latest/serving/openai_compatible_server.html#vllm-serve) can be set using the corresponding environment variable with the `SM_VLLM_` prefix.**  \n",
    "\n",
    "The container uses a script similar to the [SageMaker entrypoint example](https://docs.vllm.ai/en/v0.8.5/getting_started/examples/sagemaker-entrypoint.html) from the vLLM documentation to convert environment variables to command-line arguments.  \n",
    "\n",
    "---  \n",
    "\n",
    "## Input Format  \n",
    "\n",
    "### 1. Chat Completion  \n",
    "\n",
    "#### Example Payload  \n",
    "```json  \n",
    "{  \n",
    "    \"model\": \"/opt/ml/model\",  \n",
    "    \"messages\": [  \n",
    "        {\"role\": \"system\", \"content\": \"You are a helpful medical assistant.\"},  \n",
    "        {\"role\": \"user\", \"content\": \"What should I do if I have a fever and body aches?\"}  \n",
    "    ],  \n",
    "    \"max_tokens\": 1024,  \n",
    "    \"temperature\": 0.7  \n",
    "}  \n",
    "```  \n",
    "\n",
    "For additional parameters:  \n",
    "- [ChatCompletionRequest](https://github.com/vllm-project/vllm/blob/v0.9.2/vllm/entrypoints/openai/protocol.py#L223)  \n",
    "- [OpenAI's Chat API](https://platform.openai.com/docs/api-reference/chat/create)  \n",
    "\n",
    "---  \n",
    "\n",
    "### 2. Text Completion  \n",
    "\n",
    "#### Single Prompt Example  \n",
    "```json  \n",
    "{  \n",
    "    \"model\": \"/opt/ml/model\",  \n",
    "    \"prompt\": \"How can I maintain good kidney health?\",  \n",
    "    \"max_tokens\": 512,  \n",
    "    \"temperature\": 0.6  \n",
    "}  \n",
    "```  \n",
    "\n",
    "#### Multiple Prompts Example  \n",
    "```json  \n",
    "{  \n",
    "    \"model\": \"/opt/ml/model\",  \n",
    "    \"prompt\": [  \n",
    "        \"How can I maintain good kidney health?\",  \n",
    "        \"What are the best practices for kidney care?\"  \n",
    "    ],  \n",
    "    \"max_tokens\": 512,  \n",
    "    \"temperature\": 0.6  \n",
    "}  \n",
    "```  \n",
    "\n",
    "Reference:  \n",
    "- [CompletionRequest](https://github.com/vllm-project/vllm/blob/v0.9.2/vllm/entrypoints/openai/protocol.py#L741)  \n",
    "- [OpenAI's Completions API](https://platform.openai.com/docs/api-reference/completions/create)  \n",
    "\n",
    "---  \n",
    "\n",
    "### Important Notes:\n",
    "- **Streaming Responses:** Add `\"stream\": true` to your request payload to enable streaming\n",
    "- **Model Path Requirement:** Always set `\"model\": \"/opt/ml/model\"` (SageMaker's fixed model location)"
   ]
  },
  {
   "cell_type": "markdown",
   "id": "07f13be5-3f3b-45db-829d-b99d4584913f",
   "metadata": {},
   "source": [
    "### Initial setup"
   ]
  },
  {
   "cell_type": "code",
   "execution_count": 11,
   "id": "7b61fa7d-8d76-476f-91e2-8fea89e7dfa5",
   "metadata": {
    "tags": []
   },
   "outputs": [],
   "source": [
    "prompt1 = \"\"\"A 23-year-old pregnant woman at 22 weeks gestation presents with burning upon urination. She states it started 1 day ago and has been worsening despite drinking more water and taking cranberry extract. She otherwise feels well and is followed by a doctor for her pregnancy. Her temperature is 97.7°F (36.5°C), blood pressure is 122/77 mmHg, pulse is 80/min, respirations are 19/min, and oxygen saturation is 98% on room air. Physical exam is notable for an absence of costovertebral angle tenderness and a gravid uterus.\n",
    "\n",
    "Which of the following is the best treatment for this patient?\n",
    "A: Ampicillin\n",
    "B: Ceftriaxone\n",
    "C: Ciprofloxacin\n",
    "D: Doxycycline\n",
    "E: Nitrofurantoin\n",
    "\"\"\"\n",
    "\n",
    "prompt2 = \"What should I do if I have a fever and body aches?\"\n",
    "\n",
    "prompts = [\n",
    "    \"How can I maintain good kidney health?\",\n",
    "    \"What are the symptoms of high blood pressure?\"\n",
    "]\n",
    "\n"
   ]
  },
  {
   "cell_type": "code",
   "execution_count": 12,
   "id": "bca8d319-02a4-44ad-b90c-216185f3098c",
   "metadata": {
    "tags": []
   },
   "outputs": [],
   "source": [
    "system_prompt =\"You are a helpful medical assistant. Provide accurate, evidence-based information in response to the following question. Organize the response with clear hierarchical headings and include a conclusion if necessary.\""
   ]
  },
  {
   "cell_type": "markdown",
   "id": "08a626b7-f295-4c49-b856-ce237d5d3203",
   "metadata": {},
   "source": [
    "## 2. Create a deployable model from the model package."
   ]
  },
  {
   "cell_type": "code",
   "execution_count": 13,
   "id": "0e39b84b-7a9f-4004-a204-56af1fd555f1",
   "metadata": {
    "tags": []
   },
   "outputs": [],
   "source": [
    "model = ModelPackage(\n",
    "    role=role,\n",
    "    model_package_arn=model_package_arn,\n",
    "    sagemaker_session=sagemaker_session,\n",
    ")"
   ]
  },
  {
   "cell_type": "markdown",
   "id": "6a846275-5af5-4679-9c52-d35ab157455b",
   "metadata": {},
   "source": [
    "## 3. Create SageMaker Endpoint"
   ]
  },
  {
   "cell_type": "markdown",
   "id": "01b670fa-60d4-45a4-a0d6-3e8e2845b625",
   "metadata": {},
   "source": [
    "If you want to understand how real-time inference with Amazon SageMaker works, see [Documentation](https://docs.aws.amazon.com/sagemaker/latest/dg/how-it-works-hosting.html)."
   ]
  },
  {
   "cell_type": "code",
   "execution_count": 15,
   "id": "8c19c0c0-3ead-4834-8c02-a192da19080b",
   "metadata": {
    "tags": []
   },
   "outputs": [
    {
     "name": "stdout",
     "output_type": "stream",
     "text": [
      "---------------!"
     ]
    }
   ],
   "source": [
    "predictor = model.deploy(\n",
    "    initial_instance_count=1,\n",
    "    instance_type=real_time_inference_instance_type, \n",
    "    endpoint_name=model_name,\n",
    "    model_data_download_timeout=3600\n",
    ")"
   ]
  },
  {
   "cell_type": "markdown",
   "id": "23d5c01b-b884-49c6-8b74-98911f6d8e5b",
   "metadata": {
    "tags": []
   },
   "source": [
    "### 3.1 Real-time inference via Amazon SageMaker Endpoint"
   ]
  },
  {
   "cell_type": "code",
   "execution_count": 16,
   "id": "5c195a50-43e4-4341-ad1d-23ca6f0aa45b",
   "metadata": {
    "tags": []
   },
   "outputs": [],
   "source": [
    "def invoke_realtime_endpoint(record):\n",
    "\n",
    "    response = sm_runtime.invoke_endpoint(\n",
    "        EndpointName=model_name,\n",
    "        ContentType=\"application/json\",\n",
    "        Accept=\"application/json\",\n",
    "        Body=json.dumps(record),\n",
    "    )\n",
    "\n",
    "    return json.load(response[\"Body\"])"
   ]
  },
  {
   "cell_type": "code",
   "execution_count": 17,
   "id": "b39309bb-ba2c-4196-bd07-41c444269fc8",
   "metadata": {
    "tags": []
   },
   "outputs": [],
   "source": [
    "def print_colored(text, color='green'):\n",
    "    colors = {\n",
    "        'green': '\\033[92m',\n",
    "        'reset': '\\033[0m',\n",
    "    }\n",
    "    color_code = colors.get(color, colors['reset'])\n",
    "    print(f\"{color_code}{text}{colors['reset']}\", end=\"\", flush=True)"
   ]
  },
  {
   "cell_type": "markdown",
   "id": "e9a475e7-ad31-4b3b-b7b5-21310f541252",
   "metadata": {
    "tags": []
   },
   "source": [
    "#### Chat Completion"
   ]
  },
  {
   "cell_type": "code",
   "execution_count": 27,
   "id": "c22cf887-70d5-4a87-8476-988590228328",
   "metadata": {
    "tags": []
   },
   "outputs": [
    {
     "name": "stdout",
     "output_type": "stream",
     "text": [
      "\u001b[92m\n",
      "Okay, so I need to figure out the best treatment for this 23-year-old pregnant woman with burning upon urination at 22 weeks gestation. Let me start by recalling the information given. She has symptoms of dysuria for one day, which has worsened despite increased water intake and cranberry extract. She's otherwise feeling well, and her vital signs are normal except for a slightly low temperature (but within normal range). The physical exam shows no costovertebral angle tenderness, and her uterus is gravid.\n",
      "\n",
      "First, the primary concern here is a urinary tract infection (UTI) given the symptoms of dysuria. Since she's pregnant, I need to be cautious about which antibiotics are safe during pregnancy. The options are Ampicillin, Ceftriaxone, Ciprofloxacin, Doxycycline, and Nitrofurantoin.\n",
      "\n",
      "I remember that during pregnancy, certain antibiotics are preferred because others can harm the fetus. For example, fluoroquinolones like Ciprofloxacin are generally avoided in pregnancy due to potential risks to the developing fetus, such as joint and cartilage issues. Doxycycline is also not recommended in the second and third trimesters because it can cause discoloration of the teeth and inhibition of bone growth in the fetus.\n",
      "\n",
      "Nitrofurantoin is commonly used for UTIs in pregnancy, especially in the first trimester, but there's some caution in the third trimester because of the risk of neonatal hemolysis. However, at 22 weeks, which is in the second trimester, it's considered relatively safe. Amoxicillin or Ampicillin are also options, but I think Ampicillin is less commonly used compared to other options. Ceftriaxone is a third-generation cephalosporin and is considered safe in pregnancy, but it might be used for more severe infections or if there's a concern for resistant organisms.\n",
      "\n",
      "Wait, but the patient's symptoms are mild with no systemic signs like fever. She's on her second day, and the symptoms are worsening. So maybe a lower urinary tract infection (cystitis) rather than pyelonephritis. In that case, nitrofurantoin or amoxicillin might be appropriate. However, I should check the evidence-based guidelines for UTIs in pregnancy.\n",
      "\n",
      "According to the American College of Obstetricians and Gynecologists (ACOG), for asymptomatic bacteriuria, nitrofurantoin and amoxicillin are recommended, but for symptomatic UTI, they suggest nitrofurantoin, amoxicillin-clavulanate, or cephalexin. However, in the second trimester, nitrofurantoin is still considered safe. Ciprofloxacin and doxycycline are contraindicated. Ceftriaxone is an option for more severe cases or if there's a need for intravenous antibiotics.\n",
      "\n",
      "In this case, the patient is at 22 weeks with a mild UTI, so nitrofurantoin (option E) would be a good choice. However, if the patient has a history of UTIs or if there's a concern for resistant organisms, amoxicillin-clavulanate or cephalexin might be considered. But among the given options, nitrofurantoin is a standard recommendation for symptomatic UTIs in the second trimester.\n",
      "\n",
      "Wait, but I should also consider the patient's response to cranberry extract. Although the evidence on cranberry for UTIs is mixed, it's generally not a substitute for antibiotics. So the patient's worsening symptoms despite that would support the need for antibiotic treatment.\n",
      "\n",
      "Therefore, the best treatment options among the given choices would be either nitrofurantoin or ampicillin. However, looking at the options, nitrofurantoin (E) is listed as an option. Ampicillin (A) is also an option, but I think nitrofurantoin is more commonly used for UTIs. Ceftriaxone (B) is a third-generation cephalosporin and is considered safe in pregnancy but might be used for more severe infections. Ciprofloxacin (C) is not recommended, and doxycycline (D) is not recommended in the second trimester.\n",
      "\n",
      "So based on this, nitrofurantoin (E) is the best choice. However, some guidelines might prefer amoxicillin or ampicillin for first-line treatment. But in the options given, nitrofurantoin is an option, and ampicillin is also there. I need to check which is more commonly recommended for UTIs in pregnancy. According to the CDC, for pregnant women with UTIs, nitrofurantoin and amoxicillin are both considered safe. However, nitrofurantoin is preferred for UTIs in the second and third trimesters. So in this case, nitrofurantoin (E) would be the best answer.\n",
      "\u001b[0m\u001b[0m\n",
      "\n",
      "# Treatment for Urinary Tract Infection in Pregnancy\n",
      "\n",
      "## Clinical Assessment\n",
      "The 23-year-old pregnant woman at 22 weeks gestation presents with:\n",
      "- Dysuria (burning upon urination) for 1 day with worsening symptoms\n",
      "- Normal vital signs (temperature 97.7°F, blood pressure 122/77 mmHg)\n",
      "- Absence of systemic signs (no fever, no costovertebral angle tenderness)\n",
      "- No evidence of pyelonephritis\n",
      "\n",
      "## Differential Diagnosis\n",
      "This presentation is most consistent with a lower urinary tract infection (cystitis) rather than pyelonephritis.\n",
      "\n",
      "## Treatment Considerations\n",
      "Pregnant women require special consideration when selecting antibiotics due to potential fetal risks. Fluoroquinolones (Ciprofloxacin) and tetracyclines (Doxycycline) are generally contraindicated during pregnancy.\n",
      "\n",
      "## Recommended Therapy\n",
      "For a symptomatic urinary tract infection in the second trimester of pregnancy, **Nitrofurantoin (E)** is a recommended treatment option. Nitrofurantoin is considered safe during pregnancy for treating lower urinary tract infections, although caution is typically advised in the third trimester due to the risk of neonatal hemolysis.\n",
      "\n",
      "## Rationale for Other Options\n",
      "- **Ampicillin (A)**: While ampicillin is also considered safe during pregnancy, it is generally used for less severe infections or in cases of suspected ampicillin-resistant organisms.\n",
      "- **Ceftriaxone (B)**: A third-generation cephalosporin that is safe in pregnancy but typically reserved for more severe infections or when other options are contraindicated.\n",
      "- **Ciprofloxacin (C)**: Fluoroquinolones are contraindicated in pregnancy due to potential fetal cartilage damage.\n",
      "- **Doxycycline (D)**: Tetracyclines are contraindicated in pregnancy, particularly in the second and third trimesters, as they can cause fetal tooth discoloration and inhibit bone growth.\n",
      "\n",
      "## Conclusion\n",
      "**Nitrofurantoin (E)** is the best treatment option for this patient with a symptomatic urinary tract infection at 22 weeks gestation.\u001b[0m"
     ]
    }
   ],
   "source": [
    "input_data = {\n",
    "    \"model\": \"/opt/ml/model\",\n",
    "    \"messages\": [\n",
    "        {\"role\": \"system\", \"content\": system_prompt},\n",
    "        {\"role\": \"user\", \"content\": prompt1},\n",
    "    ],\n",
    "    \"max_tokens\": 8192,\n",
    "    \"temperature\": 0.7,\n",
    "    \"top_p\": 0.95,\n",
    "    \"top_k\": 20,\n",
    "    \"min_p\": 0.0,\n",
    "    \"presence_penalty\":0.0\n",
    "}\n",
    "\n",
    "result = invoke_realtime_endpoint(input_data)\n",
    "message = result[\"choices\"][0][\"message\"]\n",
    "\n",
    "reasoning_content = message.get(\"reasoning_content\")\n",
    "content = message.get(\"content\")\n",
    "\n",
    "print_colored(reasoning_content, 'green')\n",
    "print_colored(content, 'reset')"
   ]
  },
  {
   "cell_type": "markdown",
   "id": "d1a76aec-391a-44e9-b385-99aa62f1b4bf",
   "metadata": {},
   "source": [
    "#### Text Completion"
   ]
  },
  {
   "cell_type": "code",
   "execution_count": 29,
   "id": "0c06b069-e3d8-48f4-9c09-fec59143ed11",
   "metadata": {
    "tags": []
   },
   "outputs": [
    {
     "name": "stdout",
     "output_type": "stream",
     "text": [
      " # Managing Fever and Body Aches\n",
      "\n",
      "If you have a fever and body aches, it's important to take appropriate steps to manage your symptoms and determine if medical attention is needed. Here's a structured approach:\n",
      "\n",
      "## Initial Self-Care\n",
      "\n",
      "- **Rest**: Allow your body time to recover by getting plenty of sleep and avoiding strenuous activities\n",
      "- **Hydration**: Drink plenty of fluids to prevent dehydration\n",
      "- **Cooling measures**: Use cool compresses or take lukewarm baths to help reduce fever\n",
      "- **Over-the-counter medications**: Consider acetaminophen (Tylenol) or ibuprofen (Advil, Motrin) for fever and pain relief, following package instructions\n",
      "\n",
      "## When to Seek Medical Attention\n",
      "\n",
      "- **High fever**: If your temperature reaches 103°F (39.4°C) or higher\n",
      "- **Persistent symptoms**: If symptoms last more than 3-4 days or worsen over time\n",
      "- **Severe symptoms**: Difficulty breathing, chest pain, severe headache, confusion, or severe dehydration\n",
      "- **Underlying conditions**: If you have a chronic illness, weakened immune system, or are pregnant\n",
      "- **Vulnerable populations**: If you are very young, elderly, or have other health conditions\n",
      "\n",
      "## Additional Considerations\n",
      "\n",
      "- **Monitor your temperature**: Use a thermometer regularly to track your fever\n",
      "- **Avoid alcohol and caffeine**: These can worsen symptoms and dehydration\n",
      "- **Practice good hygiene**: Wash hands frequently to prevent spreading illness to others\n",
      "\n",
      "If your symptoms are severe or concerning, contact your healthcare provider for advice. In some cases, particularly with high fever or severe symptoms, it's important to seek medical attention promptly.\n"
     ]
    }
   ],
   "source": [
    "input_data ={\n",
    "        \"model\": \"/opt/ml/model\",\n",
    "        \"prompt\": f\"{system_prompt}\\n\\nUser: {prompt2}\\n\\nAssistant:\",\n",
    "        \"max_tokens\": 2048,\n",
    "        \"temperature\": 0.7,\n",
    "        \"top_p\": 0.95,\n",
    "        \"top_k\": 20,\n",
    "        \"min_p\": 0.0,\n",
    "        \"presence_penalty\":0.0\n",
    "    }\n",
    "\n",
    "result = invoke_realtime_endpoint(input_data)\n",
    "output_text = result['choices'][0]['text']\n",
    "print(output_text)"
   ]
  },
  {
   "cell_type": "markdown",
   "id": "ccccf37b-9dee-4d38-a0dc-38f2aeaeb780",
   "metadata": {},
   "source": [
    "### 3.2 Real-time inference response as a stream via Amazon SageMaker Endpoint"
   ]
  },
  {
   "cell_type": "code",
   "execution_count": 32,
   "id": "dac2fe86-af82-4ae5-a838-162f65e6d0b1",
   "metadata": {
    "tags": []
   },
   "outputs": [],
   "source": [
    "def invoke_streaming_endpoint(record):\n",
    "    try:\n",
    "        response = sm_runtime.invoke_endpoint_with_response_stream(\n",
    "            EndpointName=model_name,\n",
    "            Body=json.dumps(record),\n",
    "            ContentType=\"application/json\",\n",
    "            Accept=\"text/event-stream\"\n",
    "        )\n",
    "\n",
    "        is_chat_completion = \"messages\" in record\n",
    "\n",
    "        for event in response[\"Body\"]:\n",
    "            if \"PayloadPart\" in event:\n",
    "                chunk = event[\"PayloadPart\"][\"Bytes\"].decode(\"utf-8\")\n",
    "                if chunk.startswith(\"data:\"):\n",
    "                    try:\n",
    "                        data = json.loads(chunk[5:].strip())\n",
    "\n",
    "                        if \"choices\" not in data or len(data[\"choices\"]) == 0:\n",
    "                            continue\n",
    "\n",
    "                        choice = data[\"choices\"][0]\n",
    "                        if is_chat_completion:\n",
    "                            if \"delta\" in choice:\n",
    "                                delta = choice[\"delta\"]\n",
    "\n",
    "                                if \"reasoning_content\" in delta:\n",
    "                                    yield {'type': 'reasoning', 'content': delta[\"reasoning_content\"]}\n",
    "\n",
    "                                elif \"content\" in delta:\n",
    "                                    yield {'type': 'content', 'content': delta[\"content\"]}\n",
    "                        else:\n",
    "\n",
    "                            if \"text\" in choice:\n",
    "                                yield {'type': 'text', 'content': choice[\"text\"]}\n",
    "\n",
    "                    except json.JSONDecodeError:\n",
    "                        continue\n",
    "                        \n",
    "            elif \"ModelStreamError\" in event:\n",
    "                error = event[\"ModelStreamError\"]\n",
    "                yield {'type': 'error', 'content': f\"\\nStream error: {error['Message']} (Error code: {error['ErrorCode']})\"}\n",
    "                break\n",
    "            elif \"InternalStreamFailure\" in event:\n",
    "                failure = event[\"InternalStreamFailure\"]\n",
    "                yield {'type': 'error', 'content': f\"\\nInternal stream failure: {failure['Message']}\"}\n",
    "                break\n",
    "                \n",
    "    except Exception as e:\n",
    "        yield {'type': 'error', 'content': f\"\\nAn error occurred during streaming: {str(e)}\"}"
   ]
  },
  {
   "cell_type": "code",
   "execution_count": 33,
   "id": "428cd405-49aa-4466-bff7-b1b3a9538797",
   "metadata": {
    "tags": []
   },
   "outputs": [],
   "source": [
    "def handle_streaming_chunk(chunk):\n",
    "    \"\"\"\n",
    "    Handles and prints a streaming chunk with appropriate formatting\n",
    "    Args:\n",
    "        chunk: Dictionary with 'type' and 'content' keys\n",
    "    \"\"\"\n",
    "    if chunk['type'] == 'reasoning':\n",
    "        print_colored(chunk['content'], 'green')\n",
    "    elif chunk['type'] == 'content':\n",
    "        print_colored(chunk['content'], 'reset')\n",
    "    elif chunk['type'] == 'text':  # For text completion\n",
    "        print(chunk['content'], end=\"\", flush=True)\n",
    "    elif chunk['type'] == 'error':\n",
    "        print_colored(chunk['content'], 'reset')"
   ]
  },
  {
   "cell_type": "markdown",
   "id": "d2c6f25e-6d6d-41c7-a7ab-8b979e97a145",
   "metadata": {},
   "source": [
    "#### Chat Completion"
   ]
  },
  {
   "cell_type": "code",
   "execution_count": 36,
   "id": "5d62d99f-67a1-46f7-ad52-d2d41b2c5e3a",
   "metadata": {
    "tags": []
   },
   "outputs": [
    {
     "name": "stdout",
     "output_type": "stream",
     "text": [
      "\u001b[0m\u001b[0m\u001b[92m\n",
      "\u001b[0m\u001b[92mOkay\u001b[0m\u001b[92m,\u001b[0m\u001b[92m let\u001b[0m\u001b[92m's\u001b[0m\u001b[92m see\u001b[0m\u001b[92m.\u001b[0m\u001b[92m The\u001b[0m\u001b[92m patient\u001b[0m\u001b[92m is\u001b[0m\u001b[92m a\u001b[0m\u001b[92m \u001b[0m\u001b[92m2\u001b[0m\u001b[92m3\u001b[0m\u001b[92m-year\u001b[0m\u001b[92m-old\u001b[0m\u001b[92m woman\u001b[0m\u001b[92m at\u001b[0m\u001b[92m \u001b[0m\u001b[92m2\u001b[0m\u001b[92m2\u001b[0m\u001b[92m weeks\u001b[0m\u001b[92m gest\u001b[0m\u001b[92mation\u001b[0m\u001b[92m with\u001b[0m\u001b[92m burning\u001b[0m\u001b[92m upon\u001b[0m\u001b[92m ur\u001b[0m\u001b[92mination\u001b[0m\u001b[92m that\u001b[0m\u001b[92m started\u001b[0m\u001b[92m a\u001b[0m\u001b[92m day\u001b[0m\u001b[92m ago\u001b[0m\u001b[92m and\u001b[0m\u001b[92m has\u001b[0m\u001b[92m wors\u001b[0m\u001b[92mened\u001b[0m\u001b[92m despite\u001b[0m\u001b[92m drinking\u001b[0m\u001b[92m more\u001b[0m\u001b[92m water\u001b[0m\u001b[92m and\u001b[0m\u001b[92m taking\u001b[0m\u001b[92m cran\u001b[0m\u001b[92mberry\u001b[0m\u001b[92m extract\u001b[0m\u001b[92m.\u001b[0m\u001b[92m Her\u001b[0m\u001b[92m temperature\u001b[0m\u001b[92m is\u001b[0m\u001b[92m normal\u001b[0m\u001b[92m,\u001b[0m\u001b[92m blood\u001b[0m\u001b[92m pressure\u001b[0m\u001b[92m is\u001b[0m\u001b[92m okay\u001b[0m\u001b[92m,\u001b[0m\u001b[92m pulse\u001b[0m\u001b[92m is\u001b[0m\u001b[92m normal\u001b[0m\u001b[92m,\u001b[0m\u001b[92m respir\u001b[0m\u001b[92mations\u001b[0m\u001b[92m are\u001b[0m\u001b[92m normal\u001b[0m\u001b[92m,\u001b[0m\u001b[92m oxygen\u001b[0m\u001b[92m saturation\u001b[0m\u001b[92m is\u001b[0m\u001b[92m good\u001b[0m\u001b[92m.\u001b[0m\u001b[92m Physical\u001b[0m\u001b[92m exam\u001b[0m\u001b[92m shows\u001b[0m\u001b[92m no\u001b[0m\u001b[92m cost\u001b[0m\u001b[92mover\u001b[0m\u001b[92mte\u001b[0m\u001b[92mbral\u001b[0m\u001b[92m angle\u001b[0m\u001b[92m tend\u001b[0m\u001b[92merness\u001b[0m\u001b[92m and\u001b[0m\u001b[92m a\u001b[0m\u001b[92m gravid\u001b[0m\u001b[92m uterus\u001b[0m\u001b[92m.\u001b[0m\u001b[92m So\u001b[0m\u001b[92m,\u001b[0m\u001b[92m she\u001b[0m\u001b[92m's\u001b[0m\u001b[92m probably\u001b[0m\u001b[92m presenting\u001b[0m\u001b[92m with\u001b[0m\u001b[92m a\u001b[0m\u001b[92m urinary\u001b[0m\u001b[92m tract\u001b[0m\u001b[92m infection\u001b[0m\u001b[92m (\u001b[0m\u001b[92mUT\u001b[0m\u001b[92mI\u001b[0m\u001b[92m),\u001b[0m\u001b[92m likely\u001b[0m\u001b[92m a\u001b[0m\u001b[92m lower\u001b[0m\u001b[92m UT\u001b[0m\u001b[92mI\u001b[0m\u001b[92m since\u001b[0m\u001b[92m she\u001b[0m\u001b[92m has\u001b[0m\u001b[92m burning\u001b[0m\u001b[92m on\u001b[0m\u001b[92m ur\u001b[0m\u001b[92mination\u001b[0m\u001b[92m.\n",
      "\n",
      "\u001b[0m\u001b[92mNow\u001b[0m\u001b[92m,\u001b[0m\u001b[92m the\u001b[0m\u001b[92m question\u001b[0m\u001b[92m is\u001b[0m\u001b[92m about\u001b[0m\u001b[92m the\u001b[0m\u001b[92m best\u001b[0m\u001b[92m treatment\u001b[0m\u001b[92m.\u001b[0m\u001b[92m The\u001b[0m\u001b[92m options\u001b[0m\u001b[92m are\u001b[0m\u001b[92m antibiotics\u001b[0m\u001b[92m:\u001b[0m\u001b[92m Amp\u001b[0m\u001b[92mic\u001b[0m\u001b[92millin\u001b[0m\u001b[92m,\u001b[0m\u001b[92m C\u001b[0m\u001b[92mef\u001b[0m\u001b[92mtr\u001b[0m\u001b[92mia\u001b[0m\u001b[92mx\u001b[0m\u001b[92mone\u001b[0m\u001b[92m,\u001b[0m\u001b[92m C\u001b[0m\u001b[92mipro\u001b[0m\u001b[92mf\u001b[0m\u001b[92mlox\u001b[0m\u001b[92macin\u001b[0m\u001b[92m,\u001b[0m\u001b[92m Do\u001b[0m\u001b[92mx\u001b[0m\u001b[92myc\u001b[0m\u001b[92mycl\u001b[0m\u001b[92mine\u001b[0m\u001b[92m,\u001b[0m\u001b[92m Nit\u001b[0m\u001b[92mro\u001b[0m\u001b[92mfur\u001b[0m\u001b[92mant\u001b[0m\u001b[92moin\u001b[0m\u001b[92m.\n",
      "\n",
      "\u001b[0m\u001b[92mFirst\u001b[0m\u001b[92m,\u001b[0m\u001b[92m I\u001b[0m\u001b[92m need\u001b[0m\u001b[92m to\u001b[0m\u001b[92m consider\u001b[0m\u001b[92m the\u001b[0m\u001b[92m safety\u001b[0m\u001b[92m of\u001b[0m\u001b[92m each\u001b[0m\u001b[92m antibiotic\u001b[0m\u001b[92m during\u001b[0m\u001b[92m pregnancy\u001b[0m\u001b[92m.\u001b[0m\u001b[92m The\u001b[0m\u001b[92m third\u001b[0m\u001b[92m trimest\u001b[0m\u001b[92mer\u001b[0m\u001b[92m is\u001b[0m\u001b[92m when\u001b[0m\u001b[92m certain\u001b[0m\u001b[92m antibiotics\u001b[0m\u001b[92m might\u001b[0m\u001b[92m be\u001b[0m\u001b[92m contr\u001b[0m\u001b[92main\u001b[0m\u001b[92md\u001b[0m\u001b[92micated\u001b[0m\u001b[92m,\u001b[0m\u001b[92m but\u001b[0m\u001b[92m she\u001b[0m\u001b[92m's\u001b[0m\u001b[92m in\u001b[0m\u001b[92m the\u001b[0m\u001b[92m second\u001b[0m\u001b[92m trimest\u001b[0m\u001b[92mer\u001b[0m\u001b[92m here\u001b[0m\u001b[92m.\u001b[0m\u001b[92m Let\u001b[0m\u001b[92m me\u001b[0m\u001b[92m recall\u001b[0m\u001b[92m the\u001b[0m\u001b[92m guidelines\u001b[0m\u001b[92m for\u001b[0m\u001b[92m UT\u001b[0m\u001b[92mI\u001b[0m\u001b[92m management\u001b[0m\u001b[92m in\u001b[0m\u001b[92m.\n",
      "\n",
      "\u001b[0m\u001b[92mIn\u001b[0m\u001b[92m pregnancy\u001b[0m\u001b[92m,\u001b[0m\u001b[92m the\u001b[0m\u001b[92m treatment\u001b[0m\u001b[92m of\u001b[0m\u001b[92m UT\u001b[0m\u001b[92mIs\u001b[0m\u001b[92m involves\u001b[0m\u001b[92m antibiotics\u001b[0m\u001b[92m that\u001b[0m\u001b[92m are\u001b[0m\u001b[92m safe\u001b[0m\u001b[92m for\u001b[0m\u001b[92m the\u001b[0m\u001b[92m fetus\u001b[0m\u001b[92m.\u001b[0m\u001b[92m Common\u001b[0m\u001b[92mly\u001b[0m\u001b[92m used\u001b[0m\u001b[92m ones\u001b[0m\u001b[92m include\u001b[0m\u001b[92m nit\u001b[0m\u001b[92mro\u001b[0m\u001b[92mfur\u001b[0m\u001b[92mant\u001b[0m\u001b[92moin\u001b[0m\u001b[92m,\u001b[0m\u001b[92m am\u001b[0m\u001b[92mpic\u001b[0m\u001b[92millin\u001b[0m\u001b[92m,\u001b[0m\u001b[92m cep\u001b[0m\u001b[92mhal\u001b[0m\u001b[92mos\u001b[0m\u001b[92mpor\u001b[0m\u001b[92mins\u001b[0m\u001b[92m (\u001b[0m\u001b[92mlike\u001b[0m\u001b[92m c\u001b[0m\u001b[92mef\u001b[0m\u001b[92mtr\u001b[0m\u001b[92mia\u001b[0m\u001b[92mx\u001b[0m\u001b[92mone\u001b[0m\u001b[92m),\u001b[0m\u001b[92m and\u001b[0m\u001b[92m sometimes\u001b[0m\u001b[92m trim\u001b[0m\u001b[92meth\u001b[0m\u001b[92mop\u001b[0m\u001b[92mrim\u001b[0m\u001b[92m-s\u001b[0m\u001b[92mulf\u001b[0m\u001b[92mam\u001b[0m\u001b[92meth\u001b[0m\u001b[92mox\u001b[0m\u001b[92mazole\u001b[0m\u001b[92m,\u001b[0m\u001b[92m but\u001b[0m\u001b[92m that\u001b[0m\u001b[92m's\u001b[0m\u001b[92m not\u001b[0m\u001b[92m listed\u001b[0m\u001b[92m here\u001b[0m\u001b[92m.\u001b[0m\u001b[92m However\u001b[0m\u001b[92m,\u001b[0m\u001b[92m some\u001b[0m\u001b[92m antibiotics\u001b[0m\u001b[92m are\u001b[0m\u001b[92m contr\u001b[0m\u001b[92main\u001b[0m\u001b[92md\u001b[0m\u001b[92micated\u001b[0m\u001b[92m in\u001b[0m\u001b[92m pregnancy\u001b[0m\u001b[92m.\n",
      "\n",
      "\u001b[0m\u001b[92mC\u001b[0m\u001b[92mipro\u001b[0m\u001b[92mf\u001b[0m\u001b[92mlox\u001b[0m\u001b[92macin\u001b[0m\u001b[92m and\u001b[0m\u001b[92m do\u001b[0m\u001b[92mx\u001b[0m\u001b[92myc\u001b[0m\u001b[92mycl\u001b[0m\u001b[92mine\u001b[0m\u001b[92m are\u001b[0m\u001b[92m generally\u001b[0m\u001b[92m not\u001b[0m\u001b[92m recommended\u001b[0m\u001b[92m in\u001b[0m\u001b[92m pregnancy\u001b[0m\u001b[92m.\u001b[0m\u001b[92m C\u001b[0m\u001b[92mipro\u001b[0m\u001b[92mf\u001b[0m\u001b[92mlox\u001b[0m\u001b[92macin\u001b[0m\u001b[92m is\u001b[0m\u001b[92m a\u001b[0m\u001b[92m flu\u001b[0m\u001b[92moro\u001b[0m\u001b[92mquin\u001b[0m\u001b[92mol\u001b[0m\u001b[92mone\u001b[0m\u001b[92m,\u001b[0m\u001b[92m which\u001b[0m\u001b[92m can\u001b[0m\u001b[92m affect\u001b[0m\u001b[92m cart\u001b[0m\u001b[92milage\u001b[0m\u001b[92m development\u001b[0m\u001b[92m in\u001b[0m\u001b[92m the\u001b[0m\u001b[92m fetus\u001b[0m\u001b[92m.\u001b[0m\u001b[92m Do\u001b[0m\u001b[92mx\u001b[0m\u001b[92myc\u001b[0m\u001b[92mycl\u001b[0m\u001b[92mine\u001b[0m\u001b[92m is\u001b[0m\u001b[92m a\u001b[0m\u001b[92m t\u001b[0m\u001b[92metr\u001b[0m\u001b[92macy\u001b[0m\u001b[92mcline\u001b[0m\u001b[92m,\u001b[0m\u001b[92m which\u001b[0m\u001b[92m can\u001b[0m\u001b[92m cause\u001b[0m\u001b[92m disc\u001b[0m\u001b[92molor\u001b[0m\u001b[92mation\u001b[0m\u001b[92m of\u001b[0m\u001b[92m teeth\u001b[0m\u001b[92m and\u001b[0m\u001b[92m bone\u001b[0m\u001b[92m growth\u001b[0m\u001b[92m issues\u001b[0m\u001b[92m in\u001b[0m\u001b[92m the\u001b[0m\u001b[92m fetus\u001b[0m\u001b[92m,\u001b[0m\u001b[92m especially\u001b[0m\u001b[92m if\u001b[0m\u001b[92m taken\u001b[0m\u001b[92m during\u001b[0m\u001b[92m the\u001b[0m\u001b[92m second\u001b[0m\u001b[92m and\u001b[0m\u001b[92m third\u001b[0m\u001b[92m trimest\u001b[0m\u001b[92mers\u001b[0m\u001b[92m.\u001b[0m\u001b[92m So\u001b[0m\u001b[92m options\u001b[0m\u001b[92m C\u001b[0m\u001b[92m and\u001b[0m\u001b[92m D\u001b[0m\u001b[92m are\u001b[0m\u001b[92m likely\u001b[0m\u001b[92m not\u001b[0m\u001b[92m the\u001b[0m\u001b[92m best\u001b[0m\u001b[92m choices\u001b[0m\u001b[92m here\u001b[0m\u001b[92m.\n",
      "\n",
      "\u001b[0m\u001b[92mA\u001b[0m\u001b[92mmp\u001b[0m\u001b[92mic\u001b[0m\u001b[92millin\u001b[0m\u001b[92m is\u001b[0m\u001b[92m a\u001b[0m\u001b[92m pen\u001b[0m\u001b[92mic\u001b[0m\u001b[92millin\u001b[0m\u001b[92m,\u001b[0m\u001b[92m which\u001b[0m\u001b[92m is\u001b[0m\u001b[92m considered\u001b[0m\u001b[92m safe\u001b[0m\u001b[92m in\u001b[0m\u001b[92m pregnancy\u001b[0m\u001b[92m.\u001b[0m\u001b[92m It\u001b[0m\u001b[92m's\u001b[0m\u001b[92m often\u001b[0m\u001b[92m used\u001b[0m\u001b[92m for\u001b[0m\u001b[92m UT\u001b[0m\u001b[92mIs\u001b[0m\u001b[92m in\u001b[0m\u001b[92m pregnancy\u001b[0m\u001b[92m.\u001b[0m\u001b[92m However\u001b[0m\u001b[92m,\u001b[0m\u001b[92m resistance\u001b[0m\u001b[92m to\u001b[0m\u001b[92m am\u001b[0m\u001b[92mpic\u001b[0m\u001b[92millin\u001b[0m\u001b[92m can\u001b[0m\u001b[92m be\u001b[0m\u001b[92m an\u001b[0m\u001b[92m issue\u001b[0m\u001b[92m,\u001b[0m\u001b[92m so\u001b[0m\u001b[92m sometimes\u001b[0m\u001b[92m other\u001b[0m\u001b[92m options\u001b[0m\u001b[92m are\u001b[0m\u001b[92m preferred\u001b[0m\u001b[92m.\n",
      "\n",
      "\u001b[0m\u001b[92mC\u001b[0m\u001b[92mef\u001b[0m\u001b[92mtr\u001b[0m\u001b[92mia\u001b[0m\u001b[92mx\u001b[0m\u001b[92mone\u001b[0m\u001b[92m is\u001b[0m\u001b[92m a\u001b[0m\u001b[92m third\u001b[0m\u001b[92m-generation\u001b[0m\u001b[92m cep\u001b[0m\u001b[92mhal\u001b[0m\u001b[92mos\u001b[0m\u001b[92mpor\u001b[0m\u001b[92min\u001b[0m\u001b[92m.\u001b[0m\u001b[92m It\u001b[0m\u001b[92m's\u001b[0m\u001b[92m also\u001b[0m\u001b[92m considered\u001b[0m\u001b[92m safe\u001b[0m\u001b[92m in\u001b[0m\u001b[92m pregnancy\u001b[0m\u001b[92m and\u001b[0m\u001b[92m is\u001b[0m\u001b[92m used\u001b[0m\u001b[92m for\u001b[0m\u001b[92m UT\u001b[0m\u001b[92mIs\u001b[0m\u001b[92m.\u001b[0m\u001b[92m It\u001b[0m\u001b[92m's\u001b[0m\u001b[92m a\u001b[0m\u001b[92m good\u001b[0m\u001b[92m option\u001b[0m\u001b[92m,\u001b[0m\u001b[92m especially\u001b[0m\u001b[92m if\u001b[0m\u001b[92m there\u001b[0m\u001b[92m's\u001b[0m\u001b[92m concern\u001b[0m\u001b[92m about\u001b[0m\u001b[92m resistance\u001b[0m\u001b[92m to\u001b[0m\u001b[92m other\u001b[0m\u001b[92m antibiotics\u001b[0m\u001b[92m.\n",
      "\n",
      "\u001b[0m\u001b[92mNit\u001b[0m\u001b[92mro\u001b[0m\u001b[92mfur\u001b[0m\u001b[92mant\u001b[0m\u001b[92moin\u001b[0m\u001b[92m is\u001b[0m\u001b[92m another\u001b[0m\u001b[92m option\u001b[0m\u001b[92m.\u001b[0m\u001b[92m It\u001b[0m\u001b[92m's\u001b[0m\u001b[92m generally\u001b[0m\u001b[92m considered\u001b[0m\u001b[92m safe\u001b[0m\u001b[92m in\u001b[0m\u001b[92m pregnancy\u001b[0m\u001b[92m but\u001b[0m\u001b[92m with\u001b[0m\u001b[92m some\u001b[0m\u001b[92m cave\u001b[0m\u001b[92mats\u001b[0m\u001b[92m.\u001b[0m\u001b[92m It\u001b[0m\u001b[92m's\u001b[0m\u001b[92m usually\u001b[0m\u001b[92m not\u001b[0m\u001b[92m recommended\u001b[0m\u001b[92m in\u001b[0m\u001b[92m the\u001b[0m\u001b[92m third\u001b[0m\u001b[92m trimest\u001b[0m\u001b[92mer\u001b[0m\u001b[92m due\u001b[0m\u001b[92m to\u001b[0m\u001b[92m the\u001b[0m\u001b[92m risk\u001b[0m\u001b[92m of\u001b[0m\u001b[92m hem\u001b[0m\u001b[92moly\u001b[0m\u001b[92mtic\u001b[0m\u001b[92m an\u001b[0m\u001b[92memia\u001b[0m\u001b[92m in\u001b[0m\u001b[92m the\u001b[0m\u001b[92m newborn\u001b[0m\u001b[92m,\u001b[0m\u001b[92m but\u001b[0m\u001b[92m in\u001b[0m\u001b[92m the\u001b[0m\u001b[92m second\u001b[0m\u001b[92m trimest\u001b[0m\u001b[92mer\u001b[0m\u001b[92m,\u001b[0m\u001b[92m it\u001b[0m\u001b[92m's\u001b[0m\u001b[92m often\u001b[0m\u001b[92m used\u001b[0m\u001b[92m for\u001b[0m\u001b[92m UT\u001b[0m\u001b[92mIs\u001b[0m\u001b[92m.\n",
      "\n",
      "\u001b[0m\u001b[92mSo\u001b[0m\u001b[92m between\u001b[0m\u001b[92m the\u001b[0m\u001b[92m options\u001b[0m\u001b[92m,\u001b[0m\u001b[92m the\u001b[0m\u001b[92m safest\u001b[0m\u001b[92m and\u001b[0m\u001b[92m most\u001b[0m\u001b[92m commonly\u001b[0m\u001b[92m recommended\u001b[0m\u001b[92m antibiotics\u001b[0m\u001b[92m for\u001b[0m\u001b[92m a\u001b[0m\u001b[92m woman\u001b[0m\u001b[92m with\u001b[0m\u001b[92m a\u001b[0m\u001b[92m UT\u001b[0m\u001b[92mI\u001b[0m\u001b[92m in\u001b[0m\u001b[92m the\u001b[0m\u001b[92m second\u001b[0m\u001b[92m trimest\u001b[0m\u001b[92mer\u001b[0m\u001b[92m would\u001b[0m\u001b[92m be\u001b[0m\u001b[92m am\u001b[0m\u001b[92mpic\u001b[0m\u001b[92millin\u001b[0m\u001b[92m,\u001b[0m\u001b[92m c\u001b[0m\u001b[92mef\u001b[0m\u001b[92mtr\u001b[0m\u001b[92mia\u001b[0m\u001b[92mx\u001b[0m\u001b[92mone\u001b[0m\u001b[92m,\u001b[0m\u001b[92m or\u001b[0m\u001b[92m nit\u001b[0m\u001b[92mro\u001b[0m\u001b[92mfur\u001b[0m\u001b[92mant\u001b[0m\u001b[92moin\u001b[0m\u001b[92m.\n",
      "\n",
      "\u001b[0m\u001b[92mBut\u001b[0m\u001b[92m wait\u001b[0m\u001b[92m,\u001b[0m\u001b[92m the\u001b[0m\u001b[92m patient\u001b[0m\u001b[92m is\u001b[0m\u001b[92m in\u001b[0m\u001b[92m the\u001b[0m\u001b[92m second\u001b[0m\u001b[92m trimest\u001b[0m\u001b[92mer\u001b[0m\u001b[92m.\u001b[0m\u001b[92m Let\u001b[0m\u001b[92m me\u001b[0m\u001b[92m check\u001b[0m\u001b[92m the\u001b[0m\u001b[92m specific\u001b[0m\u001b[92m guidelines\u001b[0m\u001b[92m.\u001b[0m\u001b[92m For\u001b[0m\u001b[92m uncomp\u001b[0m\u001b[92mlicated\u001b[0m\u001b[92m UT\u001b[0m\u001b[92mIs\u001b[0m\u001b[92m in\u001b[0m\u001b[92m pregnancy\u001b[0m\u001b[92m,\u001b[0m\u001b[92m the\u001b[0m\u001b[92m College\u001b[0m\u001b[92m of\u001b[0m\u001b[92m Obst\u001b[0m\u001b[92metric\u001b[0m\u001b[92mians\u001b[0m\u001b[92m and\u001b[0m\u001b[92m G\u001b[0m\u001b[92mynec\u001b[0m\u001b[92mologists\u001b[0m\u001b[92m (\u001b[0m\u001b[92mAC\u001b[0m\u001b[92mOG\u001b[0m\u001b[92m)\u001b[0m\u001b[92m recommends\u001b[0m\u001b[92m antibiotics\u001b[0m\u001b[92m like\u001b[0m\u001b[92m am\u001b[0m\u001b[92mpic\u001b[0m\u001b[92millin\u001b[0m\u001b[92m,\u001b[0m\u001b[92m c\u001b[0m\u001b[92meph\u001b[0m\u001b[92malex\u001b[0m\u001b[92min\u001b[0m\u001b[92m,\u001b[0m\u001b[92m c\u001b[0m\u001b[92mef\u001b[0m\u001b[92mtr\u001b[0m\u001b[92mia\u001b[0m\u001b[92mx\u001b[0m\u001b[92mone\u001b[0m\u001b[92m,\u001b[0m\u001b[92m or\u001b[0m\u001b[92m nit\u001b[0m\u001b[92mro\u001b[0m\u001b[92mfur\u001b[0m\u001b[92mant\u001b[0m\u001b[92moin\u001b[0m\u001b[92m.\u001b[0m\u001b[92m Trim\u001b[0m\u001b[92meth\u001b[0m\u001b[92mop\u001b[0m\u001b[92mrim\u001b[0m\u001b[92m-s\u001b[0m\u001b[92mulf\u001b[0m\u001b[92mam\u001b[0m\u001b[92meth\u001b[0m\u001b[92mox\u001b[0m\u001b[92mazole\u001b[0m\u001b[92m is\u001b[0m\u001b[92m not\u001b[0m\u001b[92m recommended\u001b[0m\u001b[92m due\u001b[0m\u001b[92m to\u001b[0m\u001b[92m potential\u001b[0m\u001b[92m ter\u001b[0m\u001b[92mat\u001b[0m\u001b[92mogenic\u001b[0m\u001b[92m effects\u001b[0m\u001b[92m in\u001b[0m\u001b[92m the\u001b[0m\u001b[92m first\u001b[0m\u001b[92m trimest\u001b[0m\u001b[92mer\u001b[0m\u001b[92m and\u001b[0m\u001b[92m association\u001b[0m\u001b[92m with\u001b[0m\u001b[92m neon\u001b[0m\u001b[92matal\u001b[0m\u001b[92m ja\u001b[0m\u001b[92mund\u001b[0m\u001b[92mice\u001b[0m\u001b[92m.\u001b[0m\u001b[92m So\u001b[0m\u001b[92m,\u001b[0m\u001b[92m for\u001b[0m\u001b[92m the\u001b[0m\u001b[92m second\u001b[0m\u001b[92m trimest\u001b[0m\u001b[92mer\u001b[0m\u001b[92m,\u001b[0m\u001b[92m nit\u001b[0m\u001b[92mro\u001b[0m\u001b[92mfur\u001b[0m\u001b[92mant\u001b[0m\u001b[92moin\u001b[0m\u001b[92m is\u001b[0m\u001b[92m,\u001b[0m\u001b[92m but\u001b[0m\u001b[92m with\u001b[0m\u001b[92m the\u001b[0m\u001b[92m caveat\u001b[0m\u001b[92m to\u001b[0m\u001b[92m avoid\u001b[0m\u001b[92m the\u001b[0m\u001b[92m last\u001b[0m\u001b[92m weeks\u001b[0m\u001b[92m of\u001b[0m\u001b[92m pregnancy\u001b[0m\u001b[92m.\n",
      "\n",
      "\u001b[0m\u001b[92mIn\u001b[0m\u001b[92m this\u001b[0m\u001b[92m case\u001b[0m\u001b[92m,\u001b[0m\u001b[92m the\u001b[0m\u001b[92m patient\u001b[0m\u001b[92m is\u001b[0m\u001b[92m at\u001b[0m\u001b[92m \u001b[0m\u001b[92m2\u001b[0m\u001b[92m2\u001b[0m\u001b[92m weeks\u001b[0m\u001b[92m,\u001b[0m\u001b[92m so\u001b[0m\u001b[92m second\u001b[0m\u001b[92m trimest\u001b[0m\u001b[92mer\u001b[0m\u001b[92m.\u001b[0m\u001b[92m Nit\u001b[0m\u001b[92mro\u001b[0m\u001b[92mfur\u001b[0m\u001b[92mant\u001b[0m\u001b[92moin\u001b[0m\u001b[92m is\u001b[0m\u001b[92m an\u001b[0m\u001b[92m option\u001b[0m\u001b[92m.\u001b[0m\u001b[92m C\u001b[0m\u001b[92mef\u001b[0m\u001b[92mtr\u001b[0m\u001b[92mia\u001b[0m\u001b[92mx\u001b[0m\u001b[92mone\u001b[0m\u001b[92m is\u001b[0m\u001b[92m also\u001b[0m\u001b[92m acceptable\u001b[0m\u001b[92m.\u001b[0m\u001b[92m Amp\u001b[0m\u001b[92mic\u001b[0m\u001b[92millin\u001b[0m\u001b[92m is\u001b[0m\u001b[92m another\u001b[0m\u001b[92m option\u001b[0m\u001b[92m.\u001b[0m\u001b[92m Do\u001b[0m\u001b[92mx\u001b[0m\u001b[92myc\u001b[0m\u001b[92mycl\u001b[0m\u001b[92mine\u001b[0m\u001b[92m and\u001b[0m\u001b[92m c\u001b[0m\u001b[92mipro\u001b[0m\u001b[92mf\u001b[0m\u001b[92mlox\u001b[0m\u001b[92macin\u001b[0m\u001b[92m are\u001b[0m\u001b[92m contr\u001b[0m\u001b[92main\u001b[0m\u001b[92md\u001b[0m\u001b[92micated\u001b[0m\u001b[92m.\n",
      "\n",
      "\u001b[0m\u001b[92mSo\u001b[0m\u001b[92m which\u001b[0m\u001b[92m is\u001b[0m\u001b[92m the\u001b[0m\u001b[92m best\u001b[0m\u001b[92m?\u001b[0m\u001b[92m It\u001b[0m\u001b[92m might\u001b[0m\u001b[92m depend\u001b[0m\u001b[92m on\u001b[0m\u001b[92m local\u001b[0m\u001b[92m resistance\u001b[0m\u001b[92m patterns\u001b[0m\u001b[92m.\u001b[0m\u001b[92m If\u001b[0m\u001b[92m the\u001b[0m\u001b[92m patient\u001b[0m\u001b[92m has\u001b[0m\u001b[92m a\u001b[0m\u001b[92m UT\u001b[0m\u001b[92mI\u001b[0m\u001b[92m with\u001b[0m\u001b[92m possible\u001b[0m\u001b[92m py\u001b[0m\u001b[92mel\u001b[0m\u001b[92mone\u001b[0m\u001b[92mph\u001b[0m\u001b[92mritis\u001b[0m\u001b[92m,\u001b[0m\u001b[92m but\u001b[0m\u001b[92m she\u001b[0m\u001b[92m doesn\u001b[0m\u001b[92m't\u001b[0m\u001b[92m have\u001b[0m\u001b[92m fever\u001b[0m\u001b[92m,\u001b[0m\u001b[92m so\u001b[0m\u001b[92m likely\u001b[0m\u001b[92m a\u001b[0m\u001b[92m lower\u001b[0m\u001b[92m UT\u001b[0m\u001b[92mI\u001b[0m\u001b[92m.\u001b[0m\u001b[92m For\u001b[0m\u001b[92m lower\u001b[0m\u001b[92m UT\u001b[0m\u001b[92mIs\u001b[0m\u001b[92m,\u001b[0m\u001b[92m nit\u001b[0m\u001b[92mro\u001b[0m\u001b[92mfur\u001b[0m\u001b[92mant\u001b[0m\u001b[92moin\u001b[0m\u001b[92m is\u001b[0m\u001b[92m often\u001b[0m\u001b[92m used\u001b[0m\u001b[92m.\u001b[0m\u001b[92m However\u001b[0m\u001b[92m,\u001b[0m\u001b[92m am\u001b[0m\u001b[92mpic\u001b[0m\u001b[92millin\u001b[0m\u001b[92m is\u001b[0m\u001b[92m also\u001b[0m\u001b[92m a\u001b[0m\u001b[92m good\u001b[0m\u001b[92m choice\u001b[0m\u001b[92m.\u001b[0m\u001b[92m C\u001b[0m\u001b[92mef\u001b[0m\u001b[92mtr\u001b[0m\u001b[92mia\u001b[0m\u001b[92mx\u001b[0m\u001b[92mone\u001b[0m\u001b[92m is\u001b[0m\u001b[92m a\u001b[0m\u001b[92m good\u001b[0m\u001b[92m option\u001b[0m\u001b[92m as\u001b[0m\u001b[92m well\u001b[0m\u001b[92m.\n",
      "\n",
      "\u001b[0m\u001b[92mBut\u001b[0m\u001b[92m in\u001b[0m\u001b[92m the\u001b[0m\u001b[92m given\u001b[0m\u001b[92m options\u001b[0m\u001b[92m,\u001b[0m\u001b[92m the\u001b[0m\u001b[92m best\u001b[0m\u001b[92m would\u001b[0m\u001b[92m be\u001b[0m\u001b[92m nit\u001b[0m\u001b[92mro\u001b[0m\u001b[92mfur\u001b[0m\u001b[92mant\u001b[0m\u001b[92moin\u001b[0m\u001b[92m (\u001b[0m\u001b[92mE\u001b[0m\u001b[92m),\u001b[0m\u001b[92m am\u001b[0m\u001b[92mpic\u001b[0m\u001b[92millin\u001b[0m\u001b[92m (\u001b[0m\u001b[92mA\u001b[0m\u001b[92m),\u001b[0m\u001b[92m or\u001b[0m\u001b[92m c\u001b[0m\u001b[92mef\u001b[0m\u001b[92mtr\u001b[0m\u001b[92mia\u001b[0m\u001b[92mx\u001b[0m\u001b[92mone\u001b[0m\u001b[92m (\u001b[0m\u001b[92mB\u001b[0m\u001b[92m).\u001b[0m\u001b[92m However\u001b[0m\u001b[92m,\u001b[0m\u001b[92m the\u001b[0m\u001b[92m options\u001b[0m\u001b[92m are\u001b[0m\u001b[92m A\u001b[0m\u001b[92m to\u001b[0m\u001b[92m E\u001b[0m\u001b[92m.\u001b[0m\u001b[92m The\u001b[0m\u001b[92m question\u001b[0m\u001b[92m is\u001b[0m\u001b[92m which\u001b[0m\u001b[92m is\u001b[0m\u001b[92m the\u001b[0m\u001b[92m best\u001b[0m\u001b[92m treatment\u001b[0m\u001b[92m.\u001b[0m\u001b[92m that\u001b[0m\u001b[92m the\u001b[0m\u001b[92m patient\u001b[0m\u001b[92m is\u001b[0m\u001b[92m in\u001b[0m\u001b[92m the\u001b[0m\u001b[92m second\u001b[0m\u001b[92m trimest\u001b[0m\u001b[92mer\u001b[0m\u001b[92m,\u001b[0m\u001b[92m nit\u001b[0m\u001b[92mro\u001b[0m\u001b[92mfur\u001b[0m\u001b[92mant\u001b[0m\u001b[92moin\u001b[0m\u001b[92m is\u001b[0m\u001b[92m.\u001b[0m\u001b[92m However\u001b[0m\u001b[92m,\u001b[0m\u001b[92m some\u001b[0m\u001b[92m sources\u001b[0m\u001b[92m might\u001b[0m\u001b[92m prefer\u001b[0m\u001b[92m c\u001b[0m\u001b[92meph\u001b[0m\u001b[92malex\u001b[0m\u001b[92min\u001b[0m\u001b[92m or\u001b[0m\u001b[92m c\u001b[0m\u001b[92mef\u001b[0m\u001b[92mtr\u001b[0m\u001b[92mia\u001b[0m\u001b[92mx\u001b[0m\u001b[92mone\u001b[0m\u001b[92m for\u001b[0m\u001b[92m UT\u001b[0m\u001b[92mIs\u001b[0m\u001b[92m in\u001b[0m\u001b[92m pregnancy\u001b[0m\u001b[92m.\n",
      "\n",
      "\u001b[0m\u001b[92mWait\u001b[0m\u001b[92m,\u001b[0m\u001b[92m the\u001b[0m\u001b[92m options\u001b[0m\u001b[92m are\u001b[0m\u001b[92m Amp\u001b[0m\u001b[92mic\u001b[0m\u001b[92millin\u001b[0m\u001b[92m,\u001b[0m\u001b[92m C\u001b[0m\u001b[92mef\u001b[0m\u001b[92mtr\u001b[0m\u001b[92mia\u001b[0m\u001b[92mx\u001b[0m\u001b[92mone\u001b[0m\u001b[92m,\u001b[0m\u001b[92m C\u001b[0m\u001b[92mipro\u001b[0m\u001b[92mf\u001b[0m\u001b[92mlox\u001b[0m\u001b[92macin\u001b[0m\u001b[92m,\u001b[0m\u001b[92m Do\u001b[0m\u001b[92mx\u001b[0m\u001b[92myc\u001b[0m\u001b[92mycl\u001b[0m\u001b[92mine\u001b[0m\u001b[92m,\u001b[0m\u001b[92m Nit\u001b[0m\u001b[92mro\u001b[0m\u001b[92mfur\u001b[0m\u001b[92mant\u001b[0m\u001b[92moin\u001b[0m\u001b[92m.\n",
      "\n",
      "\u001b[0m\u001b[92mIn\u001b[0m\u001b[92m some\u001b[0m\u001b[92m guidelines\u001b[0m\u001b[92m,\u001b[0m\u001b[92m c\u001b[0m\u001b[92mef\u001b[0m\u001b[92mtr\u001b[0m\u001b[92mia\u001b[0m\u001b[92mx\u001b[0m\u001b[92mone\u001b[0m\u001b[92m is\u001b[0m\u001b[92m for\u001b[0m\u001b[92m UT\u001b[0m\u001b[92mIs\u001b[0m\u001b[92m in\u001b[0m\u001b[92m pregnancy\u001b[0m\u001b[92m,\u001b[0m\u001b[92m especially\u001b[0m\u001b[92m if\u001b[0m\u001b[92m the\u001b[0m\u001b[92m patient\u001b[0m\u001b[92m has\u001b[0m\u001b[92m a\u001b[0m\u001b[92m UT\u001b[0m\u001b[92mI\u001b[0m\u001b[92m with\u001b[0m\u001b[92m possible\u001b[0m\u001b[92m py\u001b[0m\u001b[92mel\u001b[0m\u001b[92mone\u001b[0m\u001b[92mph\u001b[0m\u001b[92mritis\u001b[0m\u001b[92m.\u001b[0m\u001b[92m But\u001b[0m\u001b[92m in\u001b[0m\u001b[92m this\u001b[0m\u001b[92m case\u001b[0m\u001b[92m,\u001b[0m\u001b[92m the\u001b[0m\u001b[92m patient\u001b[0m\u001b[92m doesn\u001b[0m\u001b[92m't\u001b[0m\u001b[92m have\u001b[0m\u001b[92m fever\u001b[0m\u001b[92m,\u001b[0m\u001b[92m so\u001b[0m\u001b[92m likely\u001b[0m\u001b[92m a\u001b[0m\u001b[92m lower\u001b[0m\u001b[92m UT\u001b[0m\u001b[92mI\u001b[0m\u001b[92m.\u001b[0m\u001b[92m However\u001b[0m\u001b[92m,\u001b[0m\u001b[92m the\u001b[0m\u001b[92m treatment\u001b[0m\u001b[92m for\u001b[0m\u001b[92m lower\u001b[0m\u001b[92m UT\u001b[0m\u001b[92mIs\u001b[0m\u001b[92m in\u001b[0m\u001b[92m is\u001b[0m\u001b[92m often\u001b[0m\u001b[92m nit\u001b[0m\u001b[92mro\u001b[0m\u001b[92mfur\u001b[0m\u001b[92mant\u001b[0m\u001b[92moin\u001b[0m\u001b[92m or\u001b[0m\u001b[92m am\u001b[0m\u001b[92mpic\u001b[0m\u001b[92millin\u001b[0m\u001b[92m.\n",
      "\n",
      "\u001b[0m\u001b[92mBut\u001b[0m\u001b[92m I\u001b[0m\u001b[92m need\u001b[0m\u001b[92m to\u001b[0m\u001b[92m recall\u001b[0m\u001b[92m if\u001b[0m\u001b[92m there\u001b[0m\u001b[92m are\u001b[0m\u001b[92m any\u001b[0m\u001b[92m specific\u001b[0m\u001b[92m reasons\u001b[0m\u001b[92m why\u001b[0m\u001b[92m one\u001b[0m\u001b[92m might\u001b[0m\u001b[92m be\u001b[0m\u001b[92m preferred\u001b[0m\u001b[92m over\u001b[0m\u001b[92m another\u001b[0m\u001b[92m.\u001b[0m\u001b[92m For\u001b[0m\u001b[92m example\u001b[0m\u001b[92m,\u001b[0m\u001b[92m nit\u001b[0m\u001b[92mro\u001b[0m\u001b[92mfur\u001b[0m\u001b[92mant\u001b[0m\u001b[92moin\u001b[0m\u001b[92m has\u001b[0m\u001b[92m a\u001b[0m\u001b[92m higher\u001b[0m\u001b[92m cure\u001b[0m\u001b[92m rate\u001b[0m\u001b[92m for\u001b[0m\u001b[92m UT\u001b[0m\u001b[92mIs\u001b[0m\u001b[92m but\u001b[0m\u001b[92m is\u001b[0m\u001b[92m associated\u001b[0m\u001b[92m with\u001b[0m\u001b[92m a\u001b[0m\u001b[92m higher\u001b[0m\u001b[92m rate\u001b[0m\u001b[92m of\u001b[0m\u001b[92m resistance\u001b[0m\u001b[92m in\u001b[0m\u001b[92m some\u001b[0m\u001b[92m regions\u001b[0m\u001b[92m.\u001b[0m\u001b[92m Amp\u001b[0m\u001b[92mic\u001b[0m\u001b[92millin\u001b[0m\u001b[92m is\u001b[0m\u001b[92m effective\u001b[0m\u001b[92m against\u001b[0m\u001b[92m E\u001b[0m\u001b[92m.\u001b[0m\u001b[92m coli\u001b[0m\u001b[92m,\u001b[0m\u001b[92m which\u001b[0m\u001b[92m is\u001b[0m\u001b[92m a\u001b[0m\u001b[92m common\u001b[0m\u001b[92m cause\u001b[0m\u001b[92m of\u001b[0m\u001b[92m UT\u001b[0m\u001b[92mIs\u001b[0m\u001b[92m,\u001b[0m\u001b[92m but\u001b[0m\u001b[92m resistance\u001b[0m\u001b[92m can\u001b[0m\u001b[92m be\u001b[0m\u001b[92m an\u001b[0m\u001b[92m issue\u001b[0m\u001b[92m.\n",
      "\n",
      "\u001b[0m\u001b[92mC\u001b[0m\u001b[92mef\u001b[0m\u001b[92mtr\u001b[0m\u001b[92mia\u001b[0m\u001b[92mx\u001b[0m\u001b[92mone\u001b[0m\u001b[92m is\u001b[0m\u001b[92m a\u001b[0m\u001b[92m good\u001b[0m\u001b[92m option\u001b[0m\u001b[92m as\u001b[0m\u001b[92m it\u001b[0m\u001b[92m's\u001b[0m\u001b[92m a\u001b[0m\u001b[92m broad\u001b[0m\u001b[92m-s\u001b[0m\u001b[92mpectrum\u001b[0m\u001b[92m antibiotic\u001b[0m\u001b[92m and\u001b[0m\u001b[92m effective\u001b[0m\u001b[92m against\u001b[0m\u001b[92m many\u001b[0m\u001b[92m organisms\u001b[0m\u001b[92m.\u001b[0m\u001b[92m However\u001b[0m\u001b[92m,\u001b[0m\u001b[92m it\u001b[0m\u001b[92m's\u001b[0m\u001b[92m usually\u001b[0m\u001b[92m given\u001b[0m\u001b[92m as\u001b[0m\u001b[92m an\u001b[0m\u001b[92m injection\u001b[0m\u001b[92m,\u001b[0m\u001b[92m but\u001b[0m\u001b[92m can\u001b[0m\u001b[92m be\u001b[0m\u001b[92m given\u001b[0m\u001b[92m orally\u001b[0m\u001b[92m.\u001b[0m\u001b[92m Wait\u001b[0m\u001b[92m,\u001b[0m\u001b[92m c\u001b[0m\u001b[92mef\u001b[0m\u001b[92mtr\u001b[0m\u001b[92mia\u001b[0m\u001b[92mx\u001b[0m\u001b[92mone\u001b[0m\u001b[92m is\u001b[0m\u001b[92m given\u001b[0m\u001b[92m intr\u001b[0m\u001b[92maven\u001b[0m\u001b[92mously\u001b[0m\u001b[92m or\u001b[0m\u001b[92m by\u001b[0m\u001b[92m.\u001b[0m\u001b[92m For\u001b[0m\u001b[92m an\u001b[0m\u001b[92m outpatient\u001b[0m\u001b[92m UT\u001b[0m\u001b[92mI\u001b[0m\u001b[92m,\u001b[0m\u001b[92m oral\u001b[0m\u001b[92m antibiotics\u001b[0m\u001b[92m are\u001b[0m\u001b[92m preferred\u001b[0m\u001b[92m.\u001b[0m\u001b[92m So\u001b[0m\u001b[92m c\u001b[0m\u001b[92mef\u001b[0m\u001b[92mtr\u001b[0m\u001b[92mia\u001b[0m\u001b[92mx\u001b[0m\u001b[92mone\u001b[0m\u001b[92m might\u001b[0m\u001b[92m not\u001b[0m\u001b[92m be\u001b[0m\u001b[92m the\u001b[0m\u001b[92m best\u001b[0m\u001b[92m oral\u001b[0m\u001b[92m option\u001b[0m\u001b[92m.\u001b[0m\u001b[92m Wait\u001b[0m\u001b[92m,\u001b[0m\u001b[92m but\u001b[0m\u001b[92m c\u001b[0m\u001b[92mef\u001b[0m\u001b[92mtr\u001b[0m\u001b[92mia\u001b[0m\u001b[92mx\u001b[0m\u001b[92mone\u001b[0m\u001b[92m can\u001b[0m\u001b[92m be\u001b[0m\u001b[92m given\u001b[0m\u001b[92m orally\u001b[0m\u001b[92m,\u001b[0m\u001b[92m but\u001b[0m\u001b[92m it\u001b[0m\u001b[92m's\u001b[0m\u001b[92m more\u001b[0m\u001b[92m commonly\u001b[0m\u001b[92m administered\u001b[0m\u001b[92m intr\u001b[0m\u001b[92maven\u001b[0m\u001b[92mously\u001b[0m\u001b[92m.\u001b[0m\u001b[92m However\u001b[0m\u001b[92m,\u001b[0m\u001b[92m in\u001b[0m\u001b[92m some\u001b[0m\u001b[92m cases\u001b[0m\u001b[92m,\u001b[0m\u001b[92m oral\u001b[0m\u001b[92m c\u001b[0m\u001b[92mef\u001b[0m\u001b[92mtr\u001b[0m\u001b[92mia\u001b[0m\u001b[92mx\u001b[0m\u001b[92mone\u001b[0m\u001b[92m is\u001b[0m\u001b[92m used\u001b[0m\u001b[92m.\u001b[0m\u001b[92m Alternatively\u001b[0m\u001b[92m,\u001b[0m\u001b[92m c\u001b[0m\u001b[92meph\u001b[0m\u001b[92malex\u001b[0m\u001b[92min\u001b[0m\u001b[92m is\u001b[0m\u001b[92m an\u001b[0m\u001b[92m oral\u001b[0m\u001b[92m cep\u001b[0m\u001b[92mhal\u001b[0m\u001b[92mos\u001b[0m\u001b[92mpor\u001b[0m\u001b[92min\u001b[0m\u001b[92m that\u001b[0m\u001b[92m is\u001b[0m\u001b[92m used\u001b[0m\u001b[92m for\u001b[0m\u001b[92m UT\u001b[0m\u001b[92mIs\u001b[0m\u001b[92m.\u001b[0m\u001b[92m But\u001b[0m\u001b[92m c\u001b[0m\u001b[92meph\u001b[0m\u001b[92malex\u001b[0m\u001b[92min\u001b[0m\u001b[92m is\u001b[0m\u001b[92m not\u001b[0m\u001b[92m listed\u001b[0m\u001b[92m here\u001b[0m\u001b[92m.\n",
      "\n",
      "\u001b[0m\u001b[92mSo\u001b[0m\u001b[92m the\u001b[0m\u001b[92m options\u001b[0m\u001b[92m given\u001b[0m\u001b[92m are\u001b[0m\u001b[92m am\u001b[0m\u001b[92mpic\u001b[0m\u001b[92millin\u001b[0m\u001b[92m,\u001b[0m\u001b[92m c\u001b[0m\u001b[92mef\u001b[0m\u001b[92mtr\u001b[0m\u001b[92mia\u001b[0m\u001b[92mx\u001b[0m\u001b[92mone\u001b[0m\u001b[92m,\u001b[0m\u001b[92m c\u001b[0m\u001b[92mipro\u001b[0m\u001b[92mf\u001b[0m\u001b[92mlox\u001b[0m\u001b[92macin\u001b[0m\u001b[92m,\u001b[0m\u001b[92m do\u001b[0m\u001b[92mx\u001b[0m\u001b[92myc\u001b[0m\u001b[92mycl\u001b[0m\u001b[92mine\u001b[0m\u001b[92m,\u001b[0m\u001b[92m and\u001b[0m\u001b[92m nit\u001b[0m\u001b[92mro\u001b[0m\u001b[92mfur\u001b[0m\u001b[92mant\u001b[0m\u001b[92moin\u001b[0m\u001b[92m.\u001b[0m\u001b[92m that\u001b[0m\u001b[92m,\u001b[0m\u001b[92m am\u001b[0m\u001b[92mpic\u001b[0m\u001b[92millin\u001b[0m\u001b[92m and\u001b[0m\u001b[92m nit\u001b[0m\u001b[92mro\u001b[0m\u001b[92mfur\u001b[0m\u001b[92mant\u001b[0m\u001b[92moin\u001b[0m\u001b[92m are\u001b[0m\u001b[92m both\u001b[0m\u001b[92m oral\u001b[0m\u001b[92m options\u001b[0m\u001b[92m.\u001b[0m\u001b[92m C\u001b[0m\u001b[92mef\u001b[0m\u001b[92mtr\u001b[0m\u001b[92mia\u001b[0m\u001b[92mx\u001b[0m\u001b[92mone\u001b[0m\u001b[92m is\u001b[0m\u001b[92m an\u001b[0m\u001b[92m inject\u001b[0m\u001b[92mable\u001b[0m\u001b[92m antibiotic\u001b[0m\u001b[92m but\u001b[0m\u001b[92m sometimes\u001b[0m\u001b[92m given\u001b[0m\u001b[92m orally\u001b[0m\u001b[92m.\u001b[0m\u001b[92m However\u001b[0m\u001b[92m,\u001b[0m\u001b[92m in\u001b[0m\u001b[92m the\u001b[0m\u001b[92m context\u001b[0m\u001b[92m of\u001b[0m\u001b[92m an\u001b[0m\u001b[92m outpatient\u001b[0m\u001b[92m UT\u001b[0m\u001b[92mI\u001b[0m\u001b[92m,\u001b[0m\u001b[92m oral\u001b[0m\u001b[92m administration\u001b[0m\u001b[92m is\u001b[0m\u001b[92m preferred\u001b[0m\u001b[92m.\u001b[0m\u001b[92m So\u001b[0m\u001b[92m c\u001b[0m\u001b[92mef\u001b[0m\u001b[92mtr\u001b[0m\u001b[92mia\u001b[0m\u001b[92mx\u001b[0m\u001b[92mone\u001b[0m\u001b[92m might\u001b[0m\u001b[92m not\u001b[0m\u001b[92m be\u001b[0m\u001b[92m the\u001b[0m\u001b[92m first\u001b[0m\u001b[92m-line\u001b[0m\u001b[92m unless\u001b[0m\u001b[92m there\u001b[0m\u001b[92m are\u001b[0m\u001b[92m specific\u001b[0m\u001b[92m reasons\u001b[0m\u001b[92m to\u001b[0m\u001b[92m use\u001b[0m\u001b[92m it\u001b[0m\u001b[92m.\n",
      "\n",
      "\u001b[0m\u001b[92mTherefore\u001b[0m\u001b[92m,\u001b[0m\u001b[92m between\u001b[0m\u001b[92m am\u001b[0m\u001b[92mpic\u001b[0m\u001b[92millin\u001b[0m\u001b[92m and\u001b[0m\u001b[92m nit\u001b[0m\u001b[92mro\u001b[0m\u001b[92mfur\u001b[0m\u001b[92mant\u001b[0m\u001b[92moin\u001b[0m\u001b[92m,\u001b[0m\u001b[92m which\u001b[0m\u001b[92m is\u001b[0m\u001b[92m better\u001b[0m\u001b[92m?\u001b[0m\u001b[92m Both\u001b[0m\u001b[92m are\u001b[0m\u001b[92m considered\u001b[0m\u001b[92m safe\u001b[0m\u001b[92m in\u001b[0m\u001b[92m.\u001b[0m\u001b[92m The\u001b[0m\u001b[92m choice\u001b[0m\u001b[92m might\u001b[0m\u001b[92m depend\u001b[0m\u001b[92m on\u001b[0m\u001b[92m resistance\u001b[0m\u001b[92m patterns\u001b[0m\u001b[92m.\u001b[0m\u001b[92m In\u001b[0m\u001b[92m some\u001b[0m\u001b[92m regions\u001b[0m\u001b[92m,\u001b[0m\u001b[92m nit\u001b[0m\u001b[92mro\u001b[0m\u001b[92mfur\u001b[0m\u001b[92mant\u001b[0m\u001b[92moin\u001b[0m\u001b[92m is\u001b[0m\u001b[92m for\u001b[0m\u001b[92m UT\u001b[0m\u001b[92mIs\u001b[0m\u001b[92m in\u001b[0m\u001b[92m pregnancy\u001b[0m\u001b[92m due\u001b[0m\u001b[92m to\u001b[0m\u001b[92m its\u001b[0m\u001b[92m efficacy\u001b[0m\u001b[92m,\u001b[0m\u001b[92m but\u001b[0m\u001b[92m am\u001b[0m\u001b[92mpic\u001b[0m\u001b[92millin\u001b[0m\u001b[92m is\u001b[0m\u001b[92m also\u001b[0m\u001b[92m a\u001b[0m\u001b[92m good\u001b[0m\u001b[92m option\u001b[0m\u001b[92m.\n",
      "\n",
      "\u001b[0m\u001b[92mHowever\u001b[0m\u001b[92m,\u001b[0m\u001b[92m the\u001b[0m\u001b[92m correct\u001b[0m\u001b[92m answer\u001b[0m\u001b[92m according\u001b[0m\u001b[92m to\u001b[0m\u001b[92m standard\u001b[0m\u001b[92m guidelines\u001b[0m\u001b[92m for\u001b[0m\u001b[92m UT\u001b[0m\u001b[92mIs\u001b[0m\u001b[92m in\u001b[0m\u001b[92m is\u001b[0m\u001b[92m often\u001b[0m\u001b[92m nit\u001b[0m\u001b[92mro\u001b[0m\u001b[92mfur\u001b[0m\u001b[92mant\u001b[0m\u001b[92moin\u001b[0m\u001b[92m or\u001b[0m\u001b[92m am\u001b[0m\u001b[92mpic\u001b[0m\u001b[92millin\u001b[0m\u001b[92m.\u001b[0m\u001b[92m If\u001b[0m\u001b[92m the\u001b[0m\u001b[92m patient\u001b[0m\u001b[92m is\u001b[0m\u001b[92m in\u001b[0m\u001b[92m the\u001b[0m\u001b[92m second\u001b[0m\u001b[92m trimest\u001b[0m\u001b[92mer\u001b[0m\u001b[92m,\u001b[0m\u001b[92m nit\u001b[0m\u001b[92mro\u001b[0m\u001b[92mfur\u001b[0m\u001b[92mant\u001b[0m\u001b[92moin\u001b[0m\u001b[92m is\u001b[0m\u001b[92m.\u001b[0m\u001b[92m But\u001b[0m\u001b[92m some\u001b[0m\u001b[92m guidelines\u001b[0m\u001b[92m might\u001b[0m\u001b[92m prefer\u001b[0m\u001b[92m am\u001b[0m\u001b[92mpic\u001b[0m\u001b[92millin\u001b[0m\u001b[92m or\u001b[0m\u001b[92m cep\u001b[0m\u001b[92mhal\u001b[0m\u001b[92mos\u001b[0m\u001b[92mpor\u001b[0m\u001b[92mins\u001b[0m\u001b[92m like\u001b[0m\u001b[92m c\u001b[0m\u001b[92meph\u001b[0m\u001b[92malex\u001b[0m\u001b[92min\u001b[0m\u001b[92m.\u001b[0m\u001b[92m Since\u001b[0m\u001b[92m c\u001b[0m\u001b[92meph\u001b[0m\u001b[92malex\u001b[0m\u001b[92min\u001b[0m\u001b[92m is\u001b[0m\u001b[92m not\u001b[0m\u001b[92m listed\u001b[0m\u001b[92m,\u001b[0m\u001b[92m c\u001b[0m\u001b[92mef\u001b[0m\u001b[92mtr\u001b[0m\u001b[92mia\u001b[0m\u001b[92mx\u001b[0m\u001b[92mone\u001b[0m\u001b[92m is\u001b[0m\u001b[92m an\u001b[0m\u001b[92m option\u001b[0m\u001b[92m.\n",
      "\n",
      "\u001b[0m\u001b[92mWait\u001b[0m\u001b[92m,\u001b[0m\u001b[92m but\u001b[0m\u001b[92m c\u001b[0m\u001b[92mef\u001b[0m\u001b[92mtr\u001b[0m\u001b[92mia\u001b[0m\u001b[92mx\u001b[0m\u001b[92mone\u001b[0m\u001b[92m is\u001b[0m\u001b[92m a\u001b[0m\u001b[92m third\u001b[0m\u001b[92m-generation\u001b[0m\u001b[92m cep\u001b[0m\u001b[92mhal\u001b[0m\u001b[92mos\u001b[0m\u001b[92mpor\u001b[0m\u001b[92min\u001b[0m\u001b[92m.\u001b[0m\u001b[92m C\u001b[0m\u001b[92meph\u001b[0m\u001b[92malex\u001b[0m\u001b[92min\u001b[0m\u001b[92m is\u001b[0m\u001b[92m a\u001b[0m\u001b[92m first\u001b[0m\u001b[92m-generation\u001b[0m\u001b[92m.\u001b[0m\u001b[92m Both\u001b[0m\u001b[92m are\u001b[0m\u001b[92m safe\u001b[0m\u001b[92m in\u001b[0m\u001b[92m pregnancy\u001b[0m\u001b[92m.\n",
      "\n",
      "\u001b[0m\u001b[92mIn\u001b[0m\u001b[92m conclusion\u001b[0m\u001b[92m,\u001b[0m\u001b[92m the\u001b[0m\u001b[92m options\u001b[0m\u001b[92m given\u001b[0m\u001b[92m and\u001b[0m\u001b[92m the\u001b[0m\u001b[92m safety\u001b[0m\u001b[92m in\u001b[0m\u001b[92m,\u001b[0m\u001b[92m the\u001b[0m\u001b[92m best\u001b[0m\u001b[92m choices\u001b[0m\u001b[92m are\u001b[0m\u001b[92m am\u001b[0m\u001b[92mpic\u001b[0m\u001b[92millin\u001b[0m\u001b[92m,\u001b[0m\u001b[92m c\u001b[0m\u001b[92mef\u001b[0m\u001b[92mtr\u001b[0m\u001b[92mia\u001b[0m\u001b[92mx\u001b[0m\u001b[92mone\u001b[0m\u001b[92m,\u001b[0m\u001b[92m or\u001b[0m\u001b[92m nit\u001b[0m\u001b[92mro\u001b[0m\u001b[92mfur\u001b[0m\u001b[92mant\u001b[0m\u001b[92moin\u001b[0m\u001b[92m.\u001b[0m\u001b[92m Between\u001b[0m\u001b[92m these\u001b[0m\u001b[92m,\u001b[0m\u001b[92m the\u001b[0m\u001b[92m most\u001b[0m\u001b[92m commonly\u001b[0m\u001b[92m recommended\u001b[0m\u001b[92m for\u001b[0m\u001b[92m lower\u001b[0m\u001b[92m UT\u001b[0m\u001b[92mIs\u001b[0m\u001b[92m in\u001b[0m\u001b[92m are\u001b[0m\u001b[92m am\u001b[0m\u001b[92mpic\u001b[0m\u001b[92millin\u001b[0m\u001b[92m and\u001b[0m\u001b[92m nit\u001b[0m\u001b[92mro\u001b[0m\u001b[92mfur\u001b[0m\u001b[92mant\u001b[0m\u001b[92moin\u001b[0m\u001b[92m.\u001b[0m\u001b[92m C\u001b[0m\u001b[92mef\u001b[0m\u001b[92mtr\u001b[0m\u001b[92mia\u001b[0m\u001b[92mx\u001b[0m\u001b[92mone\u001b[0m\u001b[92m is\u001b[0m\u001b[92m also\u001b[0m\u001b[92m safe\u001b[0m\u001b[92m but\u001b[0m\u001b[92m might\u001b[0m\u001b[92m be\u001b[0m\u001b[92m more\u001b[0m\u001b[92m commonly\u001b[0m\u001b[92m used\u001b[0m\u001b[92m for\u001b[0m\u001b[92m py\u001b[0m\u001b[92mel\u001b[0m\u001b[92mone\u001b[0m\u001b[92mph\u001b[0m\u001b[92mritis\u001b[0m\u001b[92m or\u001b[0m\u001b[92m if\u001b[0m\u001b[92m there\u001b[0m\u001b[92m's\u001b[0m\u001b[92m a\u001b[0m\u001b[92m concern\u001b[0m\u001b[92m about\u001b[0m\u001b[92m resistance\u001b[0m\u001b[92m.\n",
      "\n",
      "\u001b[0m\u001b[92mBut\u001b[0m\u001b[92m in\u001b[0m\u001b[92m this\u001b[0m\u001b[92m case\u001b[0m\u001b[92m,\u001b[0m\u001b[92m the\u001b[0m\u001b[92m patient\u001b[0m\u001b[92m's\u001b[0m\u001b[92m symptoms\u001b[0m\u001b[92m suggest\u001b[0m\u001b[92m a\u001b[0m\u001b[92m lower\u001b[0m\u001b[92m UT\u001b[0m\u001b[92mI\u001b[0m\u001b[92m.\u001b[0m\u001b[92m Therefore\u001b[0m\u001b[92m,\u001b[0m\u001b[92m nit\u001b[0m\u001b[92mro\u001b[0m\u001b[92mfur\u001b[0m\u001b[92mant\u001b[0m\u001b[92moin\u001b[0m\u001b[92m (\u001b[0m\u001b[92mE\u001b[0m\u001b[92m)\u001b[0m\u001b[92m or\u001b[0m\u001b[92m am\u001b[0m\u001b[92mpic\u001b[0m\u001b[92millin\u001b[0m\u001b[92m (\u001b[0m\u001b[92mA\u001b[0m\u001b[92m)\u001b[0m\u001b[92m would\u001b[0m\u001b[92m be\u001b[0m\u001b[92m the\u001b[0m\u001b[92m best\u001b[0m\u001b[92m options\u001b[0m\u001b[92m.\u001b[0m\u001b[92m However\u001b[0m\u001b[92m,\u001b[0m\u001b[92m the\u001b[0m\u001b[92m answer\u001b[0m\u001b[92m might\u001b[0m\u001b[92m depend\u001b[0m\u001b[92m on\u001b[0m\u001b[92m the\u001b[0m\u001b[92m specific\u001b[0m\u001b[92m guidelines\u001b[0m\u001b[92m followed\u001b[0m\u001b[92m.\u001b[0m\u001b[92m In\u001b[0m\u001b[92m some\u001b[0m\u001b[92m sources\u001b[0m\u001b[92m,\u001b[0m\u001b[92m nit\u001b[0m\u001b[92mro\u001b[0m\u001b[92mfur\u001b[0m\u001b[92mant\u001b[0m\u001b[92moin\u001b[0m\u001b[92m is\u001b[0m\u001b[92m preferred\u001b[0m\u001b[92m for\u001b[0m\u001b[92m uncomp\u001b[0m\u001b[92mlicated\u001b[0m\u001b[92m UT\u001b[0m\u001b[92mIs\u001b[0m\u001b[92m in\u001b[0m\u001b[92m pregnancy\u001b[0m\u001b[92m,\u001b[0m\u001b[92m while\u001b[0m\u001b[92m am\u001b[0m\u001b[92mpic\u001b[0m\u001b[92millin\u001b[0m\u001b[92m is\u001b[0m\u001b[92m used\u001b[0m\u001b[92m when\u001b[0m\u001b[92m resistance\u001b[0m\u001b[92m is\u001b[0m\u001b[92m a\u001b[0m\u001b[92m concern\u001b[0m\u001b[92m.\n",
      "\n",
      "\u001b[0m\u001b[92mAlternatively\u001b[0m\u001b[92m,\u001b[0m\u001b[92m c\u001b[0m\u001b[92mef\u001b[0m\u001b[92mtr\u001b[0m\u001b[92mia\u001b[0m\u001b[92mx\u001b[0m\u001b[92mone\u001b[0m\u001b[92m is\u001b[0m\u001b[92m a\u001b[0m\u001b[92m good\u001b[0m\u001b[92m option\u001b[0m\u001b[92m if\u001b[0m\u001b[92m the\u001b[0m\u001b[92m patient\u001b[0m\u001b[92m is\u001b[0m\u001b[92m not\u001b[0m\u001b[92m to\u001b[0m\u001b[92m oral\u001b[0m\u001b[92m antibiotics\u001b[0m\u001b[92m,\u001b[0m\u001b[92m but\u001b[0m\u001b[92m since\u001b[0m\u001b[92m the\u001b[0m\u001b[92m patient\u001b[0m\u001b[92m hasn\u001b[0m\u001b[92m't\u001b[0m\u001b[92m responded\u001b[0m\u001b[92m to\u001b[0m\u001b[92m cran\u001b[0m\u001b[92mberry\u001b[0m\u001b[92m extract\u001b[0m\u001b[92m and\u001b[0m\u001b[92m increased\u001b[0m\u001b[92m water\u001b[0m\u001b[92m intake\u001b[0m\u001b[92m,\u001b[0m\u001b[92m which\u001b[0m\u001b[92m are\u001b[0m\u001b[92m not\u001b[0m\u001b[92m effective\u001b[0m\u001b[92m treatments\u001b[0m\u001b[92m,\u001b[0m\u001b[92m she\u001b[0m\u001b[92m needs\u001b[0m\u001b[92m antibiotics\u001b[0m\u001b[92m.\u001b[0m\u001b[92m Given\u001b[0m\u001b[92m that\u001b[0m\u001b[92m,\u001b[0m\u001b[92m nit\u001b[0m\u001b[92mro\u001b[0m\u001b[92mfur\u001b[0m\u001b[92mant\u001b[0m\u001b[92moin\u001b[0m\u001b[92m or\u001b[0m\u001b[92m am\u001b[0m\u001b[92mpic\u001b[0m\u001b[92millin\u001b[0m\u001b[92m would\u001b[0m\u001b[92m be\u001b[0m\u001b[92m better\u001b[0m\u001b[92m choices\u001b[0m\u001b[92m.\n",
      "\n",
      "\u001b[0m\u001b[92mI\u001b[0m\u001b[92m think\u001b[0m\u001b[92m the\u001b[0m\u001b[92m answer\u001b[0m\u001b[92m is\u001b[0m\u001b[92m nit\u001b[0m\u001b[92mro\u001b[0m\u001b[92mfur\u001b[0m\u001b[92mant\u001b[0m\u001b[92moin\u001b[0m\u001b[92m (\u001b[0m\u001b[92mE\u001b[0m\u001b[92m)\u001b[0m\u001b[92m or\u001b[0m\u001b[92m am\u001b[0m\u001b[92mpic\u001b[0m\u001b[92millin\u001b[0m\u001b[92m (\u001b[0m\u001b[92mA\u001b[0m\u001b[92m).\u001b[0m\u001b[92m However\u001b[0m\u001b[92m,\u001b[0m\u001b[92m some\u001b[0m\u001b[92m sources\u001b[0m\u001b[92m might\u001b[0m\u001b[92m prefer\u001b[0m\u001b[92m nit\u001b[0m\u001b[92mro\u001b[0m\u001b[92mfur\u001b[0m\u001b[92mant\u001b[0m\u001b[92moin\u001b[0m\u001b[92m for\u001b[0m\u001b[92m UT\u001b[0m\u001b[92mIs\u001b[0m\u001b[92m in\u001b[0m\u001b[92m pregnancy\u001b[0m\u001b[92m.\u001b[0m\u001b[92m But\u001b[0m\u001b[92m I\u001b[0m\u001b[92m need\u001b[0m\u001b[92m to\u001b[0m\u001b[92m check\u001b[0m\u001b[92m the\u001b[0m\u001b[92m evidence\u001b[0m\u001b[92m.\n",
      "\n",
      "\u001b[0m\u001b[92mAccording\u001b[0m\u001b[92m to\u001b[0m\u001b[92m the\u001b[0m\u001b[92m CDC\u001b[0m\u001b[92m guidelines\u001b[0m\u001b[92m for\u001b[0m\u001b[92m UT\u001b[0m\u001b[92mI\u001b[0m\u001b[92m management\u001b[0m\u001b[92m in\u001b[0m\u001b[92m pregnancy\u001b[0m\u001b[92m,\u001b[0m\u001b[92m the\u001b[0m\u001b[92m first\u001b[0m\u001b[92m-line\u001b[0m\u001b[92m agents\u001b[0m\u001b[92m include\u001b[0m\u001b[92m am\u001b[0m\u001b[92mpic\u001b[0m\u001b[92millin\u001b[0m\u001b[92m,\u001b[0m\u001b[92m c\u001b[0m\u001b[92meph\u001b[0m\u001b[92malex\u001b[0m\u001b[92min\u001b[0m\u001b[92m,\u001b[0m\u001b[92m c\u001b[0m\u001b[92mef\u001b[0m\u001b[92mtr\u001b[0m\u001b[92mia\u001b[0m\u001b[92mx\u001b[0m\u001b[92mone\u001b[0m\u001b[92m,\u001b[0m\u001b[92m and\u001b[0m\u001b[92m nit\u001b[0m\u001b[92mro\u001b[0m\u001b[92mfur\u001b[0m\u001b[92mant\u001b[0m\u001b[92moin\u001b[0m\u001b[92m.\u001b[0m\u001b[92m For\u001b[0m\u001b[92m uncomp\u001b[0m\u001b[92mlicated\u001b[0m\u001b[92m UT\u001b[0m\u001b[92mIs\u001b[0m\u001b[92m,\u001b[0m\u001b[92m nit\u001b[0m\u001b[92mro\u001b[0m\u001b[92mfur\u001b[0m\u001b[92mant\u001b[0m\u001b[92moin\u001b[0m\u001b[92m is\u001b[0m\u001b[92m often\u001b[0m\u001b[92m used\u001b[0m\u001b[92m,\u001b[0m\u001b[92m but\u001b[0m\u001b[92m it\u001b[0m\u001b[92m's\u001b[0m\u001b[92m important\u001b[0m\u001b[92m to\u001b[0m\u001b[92m note\u001b[0m\u001b[92m that\u001b[0m\u001b[92m it\u001b[0m\u001b[92m should\u001b[0m\u001b[92m not\u001b[0m\u001b[92m be\u001b[0m\u001b[92m used\u001b[0m\u001b[92m in\u001b[0m\u001b[92m the\u001b[0m\u001b[92m third\u001b[0m\u001b[92m trimest\u001b[0m\u001b[92mer\u001b[0m\u001b[92m.\u001b[0m\u001b[92m Since\u001b[0m\u001b[92m this\u001b[0m\u001b[92m patient\u001b[0m\u001b[92m is\u001b[0m\u001b[92m in\u001b[0m\u001b[92m the\u001b[0m\u001b[92m second\u001b[0m\u001b[92m trimest\u001b[0m\u001b[92mer\u001b[0m\u001b[92m,\u001b[0m\u001b[92m nit\u001b[0m\u001b[92mro\u001b[0m\u001b[92mfur\u001b[0m\u001b[92mant\u001b[0m\u001b[92moin\u001b[0m\u001b[92m is\u001b[0m\u001b[92m.\n",
      "\n",
      "\u001b[0m\u001b[92mHowever\u001b[0m\u001b[92m,\u001b[0m\u001b[92m in\u001b[0m\u001b[92m some\u001b[0m\u001b[92m cases\u001b[0m\u001b[92m,\u001b[0m\u001b[92m c\u001b[0m\u001b[92meph\u001b[0m\u001b[92malex\u001b[0m\u001b[92min\u001b[0m\u001b[92m is\u001b[0m\u001b[92m preferred\u001b[0m\u001b[92m over\u001b[0m\u001b[92m nit\u001b[0m\u001b[92mro\u001b[0m\u001b[92mfur\u001b[0m\u001b[92mant\u001b[0m\u001b[92moin\u001b[0m\u001b[92m because\u001b[0m\u001b[92m of\u001b[0m\u001b[92m the\u001b[0m\u001b[92m risk\u001b[0m\u001b[92m of\u001b[0m\u001b[92m resistance\u001b[0m\u001b[92m.\u001b[0m\u001b[92m But\u001b[0m\u001b[92m again\u001b[0m\u001b[92m,\u001b[0m\u001b[92m this\u001b[0m\u001b[92m can\u001b[0m\u001b[92m vary\u001b[0m\u001b[92m by\u001b[0m\u001b[92m region\u001b[0m\u001b[92m.\n",
      "\n",
      "\u001b[0m\u001b[92mGiven\u001b[0m\u001b[92m the\u001b[0m\u001b[92m options\u001b[0m\u001b[92m,\u001b[0m\u001b[92m and\u001b[0m\u001b[92m considering\u001b[0m\u001b[92m that\u001b[0m\u001b[92m nit\u001b[0m\u001b[92mro\u001b[0m\u001b[92mfur\u001b[0m\u001b[92mant\u001b[0m\u001b[92moin\u001b[0m\u001b[92m is\u001b[0m\u001b[92m and\u001b[0m\u001b[92m safe\u001b[0m\u001b[92m in\u001b[0m\u001b[92m the\u001b[0m\u001b[92m second\u001b[0m\u001b[92m trimest\u001b[0m\u001b[92mer\u001b[0m\u001b[92m,\u001b[0m\u001b[92m the\u001b[0m\u001b[92m best\u001b[0m\u001b[92m treatment\u001b[0m\u001b[92m would\u001b[0m\u001b[92m be\u001b[0m\u001b[92m nit\u001b[0m\u001b[92mro\u001b[0m\u001b[92mfur\u001b[0m\u001b[92mant\u001b[0m\u001b[92moin\u001b[0m\u001b[92m (\u001b[0m\u001b[92mE\u001b[0m\u001b[92m).\u001b[0m\u001b[92m,\u001b[0m\u001b[92m am\u001b[0m\u001b[92mpic\u001b[0m\u001b[92millin\u001b[0m\u001b[92m (\u001b[0m\u001b[92mA\u001b[0m\u001b[92m)\u001b[0m\u001b[92m is\u001b[0m\u001b[92m also\u001b[0m\u001b[92m a\u001b[0m\u001b[92m good\u001b[0m\u001b[92m choice\u001b[0m\u001b[92m.\u001b[0m\u001b[92m However\u001b[0m\u001b[92m,\u001b[0m\u001b[92m in\u001b[0m\u001b[92m some\u001b[0m\u001b[92m guidelines\u001b[0m\u001b[92m,\u001b[0m\u001b[92m nit\u001b[0m\u001b[92mro\u001b[0m\u001b[92mfur\u001b[0m\u001b[92mant\u001b[0m\u001b[92moin\u001b[0m\u001b[92m is\u001b[0m\u001b[92m for\u001b[0m\u001b[92m lower\u001b[0m\u001b[92m UT\u001b[0m\u001b[92mIs\u001b[0m\u001b[92m in\u001b[0m\u001b[92m pregnancy\u001b[0m\u001b[92m.\n",
      "\n",
      "\u001b[0m\u001b[92mBut\u001b[0m\u001b[92m I\u001b[0m\u001b[92m need\u001b[0m\u001b[92m to\u001b[0m\u001b[92m check\u001b[0m\u001b[92m the\u001b[0m\u001b[92m A\u001b[0m\u001b[92mCO\u001b[0m\u001b[92mG\u001b[0m\u001b[92m.\u001b[0m\u001b[92m According\u001b[0m\u001b[92m to\u001b[0m\u001b[92m A\u001b[0m\u001b[92mCO\u001b[0m\u001b[92mG\u001b[0m\u001b[92m,\u001b[0m\u001b[92m for\u001b[0m\u001b[92m uncomp\u001b[0m\u001b[92mlicated\u001b[0m\u001b[92m UT\u001b[0m\u001b[92mIs\u001b[0m\u001b[92m in\u001b[0m\u001b[92m pregnancy\u001b[0m\u001b[92m,\u001b[0m\u001b[92m the\u001b[0m\u001b[92m recommended\u001b[0m\u001b[92m antibiotics\u001b[0m\u001b[92m include\u001b[0m\u001b[92m am\u001b[0m\u001b[92mpic\u001b[0m\u001b[92millin\u001b[0m\u001b[92m,\u001b[0m\u001b[92m c\u001b[0m\u001b[92meph\u001b[0m\u001b[92malex\u001b[0m\u001b[92min\u001b[0m\u001b[92m,\u001b[0m\u001b[92m c\u001b[0m\u001b[92mef\u001b[0m\u001b[92mtr\u001b[0m\u001b[92mia\u001b[0m\u001b[92mx\u001b[0m\u001b[92mone\u001b[0m\u001b[92m,\u001b[0m\u001b[92m or\u001b[0m\u001b[92m nit\u001b[0m\u001b[92mro\u001b[0m\u001b[92mfur\u001b[0m\u001b[92mant\u001b[0m\u001b[92moin\u001b[0m\u001b[92m.\u001b[0m\u001b[92m Trim\u001b[0m\u001b[92meth\u001b[0m\u001b[92mop\u001b[0m\u001b[92mrim\u001b[0m\u001b[92m-s\u001b[0m\u001b[92mulf\u001b[0m\u001b[92mam\u001b[0m\u001b[92meth\u001b[0m\u001b[92mox\u001b[0m\u001b[92mazole\u001b[0m\u001b[92m is\u001b[0m\u001b[92m not\u001b[0m\u001b[92m recommended\u001b[0m\u001b[92m due\u001b[0m\u001b[92m to\u001b[0m\u001b[92m potential\u001b[0m\u001b[92m risks\u001b[0m\u001b[92m.\u001b[0m\u001b[92m So\u001b[0m\u001b[92m both\u001b[0m\u001b[92m am\u001b[0m\u001b[92mpic\u001b[0m\u001b[92millin\u001b[0m\u001b[92m and\u001b[0m\u001b[92m nit\u001b[0m\u001b[92mro\u001b[0m\u001b[92mfur\u001b[0m\u001b[92mant\u001b[0m\u001b[92moin\u001b[0m\u001b[92m are\u001b[0m\u001b[92m acceptable\u001b[0m\u001b[92m.\n",
      "\n",
      "\u001b[0m\u001b[92mBut\u001b[0m\u001b[92m which\u001b[0m\u001b[92m is\u001b[0m\u001b[92m the\u001b[0m\u001b[92m best\u001b[0m\u001b[92m?\u001b[0m\u001b[92m The\u001b[0m\u001b[92m answer\u001b[0m\u001b[92m might\u001b[0m\u001b[92m depend\u001b[0m\u001b[92m on\u001b[0m\u001b[92m the\u001b[0m\u001b[92m situation\u001b[0m\u001b[92m.\u001b[0m\u001b[92m However\u001b[0m\u001b[92m,\u001b[0m\u001b[92m in\u001b[0m\u001b[92m the\u001b[0m\u001b[92m absence\u001b[0m\u001b[92m of\u001b[0m\u001b[92m more\u001b[0m\u001b[92m information\u001b[0m\u001b[92m,\u001b[0m\u001b[92m nit\u001b[0m\u001b[92mro\u001b[0m\u001b[92mfur\u001b[0m\u001b[92mant\u001b[0m\u001b[92moin\u001b[0m\u001b[92m is\u001b[0m\u001b[92m often\u001b[0m\u001b[92m used\u001b[0m\u001b[92m for\u001b[0m\u001b[92m UT\u001b[0m\u001b[92mIs\u001b[0m\u001b[92m in\u001b[0m\u001b[92m pregnancy\u001b[0m\u001b[92m.\u001b[0m\u001b[92m,\u001b[0m\u001b[92m the\u001b[0m\u001b[92m best\u001b[0m\u001b[92m treatment\u001b[0m\u001b[92m would\u001b[0m\u001b[92m be\u001b[0m\u001b[92m nit\u001b[0m\u001b[92mro\u001b[0m\u001b[92mfur\u001b[0m\u001b[92mant\u001b[0m\u001b[92moin\u001b[0m\u001b[92m (\u001b[0m\u001b[92mE\u001b[0m\u001b[92m).\u001b[0m\u001b[92m But\u001b[0m\u001b[92m I\u001b[0m\u001b[92m need\u001b[0m\u001b[92m to\u001b[0m\u001b[92m make\u001b[0m\u001b[92m sure\u001b[0m\u001b[92m that\u001b[0m\u001b[92m in\u001b[0m\u001b[92m the\u001b[0m\u001b[92m given\u001b[0m\u001b[92m options\u001b[0m\u001b[92m,\u001b[0m\u001b[92m nit\u001b[0m\u001b[92mro\u001b[0m\u001b[92mfur\u001b[0m\u001b[92mant\u001b[0m\u001b[92moin\u001b[0m\u001b[92m is\u001b[0m\u001b[92m an\u001b[0m\u001b[92m option\u001b[0m\u001b[92m.\u001b[0m\u001b[92m Yes\u001b[0m\u001b[92m,\u001b[0m\u001b[92m option\u001b[0m\u001b[92m E\u001b[0m\u001b[92m is\u001b[0m\u001b[92m nit\u001b[0m\u001b[92mro\u001b[0m\u001b[92mfur\u001b[0m\u001b[92mant\u001b[0m\u001b[92moin\u001b[0m\u001b[92m.\n",
      "\n",
      "\u001b[0m\u001b[92mSo\u001b[0m\u001b[92m the\u001b[0m\u001b[92m answer\u001b[0m\u001b[92m is\u001b[0m\u001b[92m E\u001b[0m\u001b[92m:\u001b[0m\u001b[92m Nit\u001b[0m\u001b[92mro\u001b[0m\u001b[92mfur\u001b[0m\u001b[92mant\u001b[0m\u001b[92moin\u001b[0m\u001b[92m.\n",
      "\u001b[0m\u001b[0m\n",
      "\n",
      "\u001b[0m\u001b[0m#\u001b[0m\u001b[0m Best\u001b[0m\u001b[0m Treatment\u001b[0m\u001b[0m for\u001b[0m\u001b[0m a\u001b[0m\u001b[0m \u001b[0m\u001b[0m2\u001b[0m\u001b[0m3\u001b[0m\u001b[0m-Year\u001b[0m\u001b[0m-\u001b[0m\u001b[0mOld\u001b[0m\u001b[0m Pregn\u001b[0m\u001b[0mant\u001b[0m\u001b[0m Woman\u001b[0m\u001b[0m with\u001b[0m\u001b[0m Ur\u001b[0m\u001b[0minary\u001b[0m\u001b[0m Tr\u001b[0m\u001b[0mact\u001b[0m\u001b[0m In\u001b[0m\u001b[0mfection\u001b[0m\u001b[0m\n",
      "\n",
      "\u001b[0m\u001b[0m##\u001b[0m\u001b[0m Clinical\u001b[0m\u001b[0m Scenario\u001b[0m\u001b[0m Analysis\u001b[0m\u001b[0m\n",
      "\u001b[0m\u001b[0mThe\u001b[0m\u001b[0m \u001b[0m\u001b[0m2\u001b[0m\u001b[0m3\u001b[0m\u001b[0m-year\u001b[0m\u001b[0m-old\u001b[0m\u001b[0m woman\u001b[0m\u001b[0m presents\u001b[0m\u001b[0m with\u001b[0m\u001b[0m burning\u001b[0m\u001b[0m upon\u001b[0m\u001b[0m ur\u001b[0m\u001b[0mination\u001b[0m\u001b[0m at\u001b[0m\u001b[0m \u001b[0m\u001b[0m2\u001b[0m\u001b[0m2\u001b[0m\u001b[0m weeks\u001b[0m\u001b[0m gest\u001b[0m\u001b[0mation\u001b[0m\u001b[0m,\u001b[0m\u001b[0m indicating\u001b[0m\u001b[0m a\u001b[0m\u001b[0m likely\u001b[0m\u001b[0m urinary\u001b[0m\u001b[0m tract\u001b[0m\u001b[0m infection\u001b[0m\u001b[0m (\u001b[0m\u001b[0mUT\u001b[0m\u001b[0mI\u001b[0m\u001b[0m).\u001b[0m\u001b[0m The\u001b[0m\u001b[0m absence\u001b[0m\u001b[0m of\u001b[0m\u001b[0m fever\u001b[0m\u001b[0m,\u001b[0m\u001b[0m normal\u001b[0m\u001b[0m vital\u001b[0m\u001b[0m signs\u001b[0m\u001b[0m,\u001b[0m\u001b[0m and\u001b[0m\u001b[0m negative\u001b[0m\u001b[0m cost\u001b[0m\u001b[0mover\u001b[0m\u001b[0mte\u001b[0m\u001b[0mbral\u001b[0m\u001b[0m angle\u001b[0m\u001b[0m tend\u001b[0m\u001b[0merness\u001b[0m\u001b[0m suggest\u001b[0m\u001b[0m a\u001b[0m\u001b[0m lower\u001b[0m\u001b[0m UT\u001b[0m\u001b[0mI\u001b[0m\u001b[0m rather\u001b[0m\u001b[0m than\u001b[0m\u001b[0m py\u001b[0m\u001b[0mel\u001b[0m\u001b[0mone\u001b[0m\u001b[0mph\u001b[0m\u001b[0mritis\u001b[0m\u001b[0m.\u001b[0m\u001b[0m The\u001b[0m\u001b[0m patient\u001b[0m\u001b[0m's\u001b[0m\u001b[0m symptoms\u001b[0m\u001b[0m have\u001b[0m\u001b[0m wors\u001b[0m\u001b[0mened\u001b[0m\u001b[0m despite\u001b[0m\u001b[0m conservative\u001b[0m\u001b[0m measures\u001b[0m\u001b[0m,\u001b[0m\u001b[0m necess\u001b[0m\u001b[0mitating\u001b[0m\u001b[0m antibiotic\u001b[0m\u001b[0m therapy\u001b[0m\u001b[0m.\n",
      "\n",
      "\u001b[0m\u001b[0m##\u001b[0m\u001b[0m Treatment\u001b[0m\u001b[0m Consider\u001b[0m\u001b[0mations\u001b[0m\u001b[0m\n",
      "\u001b[0m\u001b[0mFor\u001b[0m\u001b[0m UT\u001b[0m\u001b[0mIs\u001b[0m\u001b[0m during\u001b[0m\u001b[0m pregnancy\u001b[0m\u001b[0m,\u001b[0m\u001b[0m safety\u001b[0m\u001b[0m for\u001b[0m\u001b[0m both\u001b[0m\u001b[0m mother\u001b[0m\u001b[0m and\u001b[0m\u001b[0m fetus\u001b[0m\u001b[0m is\u001b[0m\u001b[0m paramount\u001b[0m\u001b[0m.\u001b[0m\u001b[0m Several\u001b[0m\u001b[0m antibiotics\u001b[0m\u001b[0m are\u001b[0m\u001b[0m considered\u001b[0m\u001b[0m safe\u001b[0m\u001b[0m during\u001b[0m\u001b[0m pregnancy\u001b[0m\u001b[0m,\u001b[0m\u001b[0m while\u001b[0m\u001b[0m others\u001b[0m\u001b[0m have\u001b[0m\u001b[0m contr\u001b[0m\u001b[0main\u001b[0m\u001b[0mdic\u001b[0m\u001b[0mations\u001b[0m\u001b[0m due\u001b[0m\u001b[0m to\u001b[0m\u001b[0m potential\u001b[0m\u001b[0m fetal\u001b[0m\u001b[0m effects\u001b[0m\u001b[0m:\n",
      "\n",
      "\u001b[0m\u001b[0m-\u001b[0m\u001b[0m **\u001b[0m\u001b[0mC\u001b[0m\u001b[0mipro\u001b[0m\u001b[0mf\u001b[0m\u001b[0mlox\u001b[0m\u001b[0macin\u001b[0m\u001b[0m (\u001b[0m\u001b[0mC\u001b[0m\u001b[0m)\u001b[0m\u001b[0m and\u001b[0m\u001b[0m Do\u001b[0m\u001b[0mx\u001b[0m\u001b[0myc\u001b[0m\u001b[0mycl\u001b[0m\u001b[0mine\u001b[0m\u001b[0m (\u001b[0m\u001b[0mD\u001b[0m\u001b[0m)**\u001b[0m\u001b[0m:\u001b[0m\u001b[0m Both\u001b[0m\u001b[0m are\u001b[0m\u001b[0m contr\u001b[0m\u001b[0main\u001b[0m\u001b[0md\u001b[0m\u001b[0micated\u001b[0m\u001b[0m in\u001b[0m\u001b[0m pregnancy\u001b[0m\u001b[0m due\u001b[0m\u001b[0m to\u001b[0m\u001b[0m potential\u001b[0m\u001b[0m adverse\u001b[0m\u001b[0m effects\u001b[0m\u001b[0m on\u001b[0m\u001b[0m fetal\u001b[0m\u001b[0m cart\u001b[0m\u001b[0milage\u001b[0m\u001b[0m development\u001b[0m\u001b[0m (\u001b[0m\u001b[0mflu\u001b[0m\u001b[0moro\u001b[0m\u001b[0mquin\u001b[0m\u001b[0mol\u001b[0m\u001b[0mones\u001b[0m\u001b[0m)\u001b[0m\u001b[0m and\u001b[0m\u001b[0m tooth\u001b[0m\u001b[0m/b\u001b[0m\u001b[0mone\u001b[0m\u001b[0m development\u001b[0m\u001b[0m (\u001b[0m\u001b[0mt\u001b[0m\u001b[0metr\u001b[0m\u001b[0macy\u001b[0m\u001b[0mcl\u001b[0m\u001b[0mines\u001b[0m\u001b[0m),\u001b[0m\u001b[0m respectively\u001b[0m\u001b[0m.\n",
      "\u001b[0m\u001b[0m-\u001b[0m\u001b[0m **\u001b[0m\u001b[0mC\u001b[0m\u001b[0mef\u001b[0m\u001b[0mtr\u001b[0m\u001b[0mia\u001b[0m\u001b[0mx\u001b[0m\u001b[0mone\u001b[0m\u001b[0m (\u001b[0m\u001b[0mB\u001b[0m\u001b[0m)**\u001b[0m\u001b[0m:\u001b[0m\u001b[0m A\u001b[0m\u001b[0m third\u001b[0m\u001b[0m-generation\u001b[0m\u001b[0m cep\u001b[0m\u001b[0mhal\u001b[0m\u001b[0mos\u001b[0m\u001b[0mpor\u001b[0m\u001b[0min\u001b[0m\u001b[0m that\u001b[0m\u001b[0m is\u001b[0m\u001b[0m generally\u001b[0m\u001b[0m considered\u001b[0m\u001b[0m safe\u001b[0m\u001b[0m in\u001b[0m\u001b[0m pregnancy\u001b[0m\u001b[0m,\u001b[0m\u001b[0m particularly\u001b[0m\u001b[0m for\u001b[0m\u001b[0m py\u001b[0m\u001b[0mel\u001b[0m\u001b[0mone\u001b[0m\u001b[0mph\u001b[0m\u001b[0mritis\u001b[0m\u001b[0m.\u001b[0m\u001b[0m It\u001b[0m\u001b[0m is\u001b[0m\u001b[0m administered\u001b[0m\u001b[0m parent\u001b[0m\u001b[0mer\u001b[0m\u001b[0mally\u001b[0m\u001b[0m but\u001b[0m\u001b[0m can\u001b[0m\u001b[0m be\u001b[0m\u001b[0m used\u001b[0m\u001b[0m for\u001b[0m\u001b[0m outpatient\u001b[0m\u001b[0m management\u001b[0m\u001b[0m in\u001b[0m\u001b[0m some\u001b[0m\u001b[0m cases\u001b[0m\u001b[0m.\n",
      "\u001b[0m\u001b[0m-\u001b[0m\u001b[0m **\u001b[0m\u001b[0mA\u001b[0m\u001b[0mmp\u001b[0m\u001b[0mic\u001b[0m\u001b[0millin\u001b[0m\u001b[0m (\u001b[0m\u001b[0mA\u001b[0m\u001b[0m)**\u001b[0m\u001b[0m:\u001b[0m\u001b[0m A\u001b[0m\u001b[0m pen\u001b[0m\u001b[0mic\u001b[0m\u001b[0millin\u001b[0m\u001b[0m antibiotic\u001b[0m\u001b[0m that\u001b[0m\u001b[0m is\u001b[0m\u001b[0m considered\u001b[0m\u001b[0m safe\u001b[0m\u001b[0m in\u001b[0m\u001b[0m pregnancy\u001b[0m\u001b[0m,\u001b[0m\u001b[0m though\u001b[0m\u001b[0m resistance\u001b[0m\u001b[0m patterns\u001b[0m\u001b[0m may\u001b[0m\u001b[0m vary\u001b[0m\u001b[0m by\u001b[0m\u001b[0m region\u001b[0m\u001b[0m.\n",
      "\u001b[0m\u001b[0m-\u001b[0m\u001b[0m **\u001b[0m\u001b[0mNit\u001b[0m\u001b[0mro\u001b[0m\u001b[0mfur\u001b[0m\u001b[0mant\u001b[0m\u001b[0moin\u001b[0m\u001b[0m (\u001b[0m\u001b[0mE\u001b[0m\u001b[0m)**\u001b[0m\u001b[0m:\u001b[0m\u001b[0m A\u001b[0m\u001b[0m nit\u001b[0m\u001b[0mro\u001b[0m\u001b[0mf\u001b[0m\u001b[0muran\u001b[0m\u001b[0m antibiotic\u001b[0m\u001b[0m that\u001b[0m\u001b[0m is\u001b[0m\u001b[0m considered\u001b[0m\u001b[0m safe\u001b[0m\u001b[0m in\u001b[0m\u001b[0m pregnancy\u001b[0m\u001b[0m for\u001b[0m\u001b[0m uncomp\u001b[0m\u001b[0mlicated\u001b[0m\u001b[0m UT\u001b[0m\u001b[0mIs\u001b[0m\u001b[0m in\u001b[0m\u001b[0m the\u001b[0m\u001b[0m second\u001b[0m\u001b[0m trimest\u001b[0m\u001b[0mer\u001b[0m\u001b[0m.\u001b[0m\u001b[0m However\u001b[0m\u001b[0m,\u001b[0m\u001b[0m it\u001b[0m\u001b[0m is\u001b[0m\u001b[0m typically\u001b[0m\u001b[0m avoided\u001b[0m\u001b[0m in\u001b[0m\u001b[0m the\u001b[0m\u001b[0m third\u001b[0m\u001b[0m trimest\u001b[0m\u001b[0mer\u001b[0m\u001b[0m due\u001b[0m\u001b[0m to\u001b[0m\u001b[0m potential\u001b[0m\u001b[0m risk\u001b[0m\u001b[0m of\u001b[0m\u001b[0m neon\u001b[0m\u001b[0matal\u001b[0m\u001b[0m hem\u001b[0m\u001b[0moly\u001b[0m\u001b[0mtic\u001b[0m\u001b[0m an\u001b[0m\u001b[0memia\u001b[0m\u001b[0m.\n",
      "\n",
      "\u001b[0m\u001b[0m##\u001b[0m\u001b[0m Evidence\u001b[0m\u001b[0m-Based\u001b[0m\u001b[0m Recommendation\u001b[0m\u001b[0m\n",
      "\u001b[0m\u001b[0mFor\u001b[0m\u001b[0m uncomp\u001b[0m\u001b[0mlicated\u001b[0m\u001b[0m lower\u001b[0m\u001b[0m UT\u001b[0m\u001b[0mIs\u001b[0m\u001b[0m in\u001b[0m\u001b[0m the\u001b[0m\u001b[0m second\u001b[0m\u001b[0m trimest\u001b[0m\u001b[0mer\u001b[0m\u001b[0m,\u001b[0m\u001b[0m **\u001b[0m\u001b[0mnit\u001b[0m\u001b[0mro\u001b[0m\u001b[0mfur\u001b[0m\u001b[0mant\u001b[0m\u001b[0moin\u001b[0m\u001b[0m (\u001b[0m\u001b[0mE\u001b[0m\u001b[0m)**\u001b[0m\u001b[0m is\u001b[0m\u001b[0m often\u001b[0m\u001b[0m a\u001b[0m\u001b[0m preferred\u001b[0m\u001b[0m choice\u001b[0m\u001b[0m due\u001b[0m\u001b[0m to\u001b[0m\u001b[0m its\u001b[0m\u001b[0m efficacy\u001b[0m\u001b[0m and\u001b[0m\u001b[0m safety\u001b[0m\u001b[0m profile\u001b[0m\u001b[0m in\u001b[0m\u001b[0m this\u001b[0m\u001b[0m period\u001b[0m\u001b[0m of\u001b[0m\u001b[0m pregnancy\u001b[0m\u001b[0m.\u001b[0m\u001b[0m However\u001b[0m\u001b[0m,\u001b[0m\u001b[0m **\u001b[0m\u001b[0mamp\u001b[0m\u001b[0mic\u001b[0m\u001b[0millin\u001b[0m\u001b[0m (\u001b[0m\u001b[0mA\u001b[0m\u001b[0m)**\u001b[0m\u001b[0m is\u001b[0m\u001b[0m also\u001b[0m\u001b[0m a\u001b[0m\u001b[0m valid\u001b[0m\u001b[0m option\u001b[0m\u001b[0m,\u001b[0m\u001b[0m particularly\u001b[0m\u001b[0m in\u001b[0m\u001b[0m regions\u001b[0m\u001b[0m with\u001b[0m\u001b[0m high\u001b[0m\u001b[0m am\u001b[0m\u001b[0mpic\u001b[0m\u001b[0millin\u001b[0m\u001b[0m resistance\u001b[0m\u001b[0m rates\u001b[0m\u001b[0m.\n",
      "\n",
      "\u001b[0m\u001b[0m**\u001b[0m\u001b[0mBest\u001b[0m\u001b[0m Treatment\u001b[0m\u001b[0m**:\u001b[0m\u001b[0m **\u001b[0m\u001b[0mE\u001b[0m\u001b[0m:\u001b[0m\u001b[0m Nit\u001b[0m\u001b[0mro\u001b[0m\u001b[0mfur\u001b[0m\u001b[0mant\u001b[0m\u001b[0moin\u001b[0m\u001b[0m**\u001b[0m"
     ]
    }
   ],
   "source": [
    "payload = {\n",
    "    \"model\": \"/opt/ml/model\",\n",
    "    \"messages\": [\n",
    "        {\"role\": \"system\", \"content\": system_prompt },\n",
    "        {\"role\": \"user\", \"content\": prompt1},\n",
    "    ],\n",
    "    \"max_tokens\": 8192,\n",
    "    \"temperature\": 0.7,\n",
    "    \"top_p\": 0.95,\n",
    "    \"top_k\": 20,\n",
    "    \"min_p\": 0.0,\n",
    "    \"presence_penalty\": 0.0,\n",
    "    \"stream\": True\n",
    "}\n",
    "\n",
    "for chunk in invoke_streaming_endpoint(payload):\n",
    "    handle_streaming_chunk(chunk)"
   ]
  },
  {
   "cell_type": "markdown",
   "id": "f2d04094-f350-4950-b73a-212301dda35c",
   "metadata": {},
   "source": [
    "#### Text Completion"
   ]
  },
  {
   "cell_type": "code",
   "execution_count": 37,
   "id": "a6046a1f-96cb-4f76-b796-cd4a661f53e6",
   "metadata": {
    "tags": []
   },
   "outputs": [
    {
     "name": "stdout",
     "output_type": "stream",
     "text": [
      " # Fever and Body Aches: Self-Care and When to Seek Medical Help\n",
      "\n",
      "## Initial Self-Care Measures\n",
      "\n",
      "1. **Stay hydrated**:\n",
      "   - Drink plenty of fluids (water, clear broths, electrolyte solutions)\n",
      "   - Avoid alcohol and caffeine\n",
      "\n",
      "2. **Rest**:\n",
      "   - Get adequate sleep and reduce physical activity\n",
      "   - Consider taking short naps if needed\n",
      "\n",
      "3. **Fever**:\n",
      "   - Take over-the-counter fever-reducing medications like acetaminophen or ibuprofen (follow package instructions)\n",
      "   - Use lukewarm (not cold) compresses on forehead or neck\n",
      "   - Consider a cool bath or shower (not cold)\n",
      "\n",
      "4. **Comfort measures**:\n",
      "   - Wear loose, breathable clothing\n",
      "   - Keep room temperature moderate (between 68-72°F/20-22°C)\n",
      "   - Use a humidifier if air is dry\n",
      "\n",
      "## When to Seek Medical Attention\n",
      "\n",
      "Contact a provider or emergency services if you:\n",
      "- Fever above 103°F (39.4°C) in adults or 100.4°F (38°C) in children\n",
      "- Persistent fever lasting more than 3-5 days\n",
      "- Difficulty breathing or shortness of breath\n",
      "- Chest pain or pressure\n",
      "- Severe headache, neck stiffness, or sensitivity to light\n",
      "- Confusion or altered mental state\n",
      "- Severe (dark urine, dry mouth, extreme thirst)\n",
      "- Rash, especially if it's rapidly\n",
      "- Symptoms suggesting specific conditions like COVID-19 ( if you have risk factors)\n",
      "\n",
      "## Considerations\n",
      "\n",
      "- For children: Monitor temperature closely and watch for signs of\n",
      "- For pregnant individuals: Consult your provider before taking any medications\n",
      "- If you have underlying health conditions or are on, contact your doctor for guidance\n",
      "- Do not ignore severe symptoms or worsening condition\n",
      "\n",
      "If symptoms persist beyond a few days or worsen, please seek medical attention promptly."
     ]
    }
   ],
   "source": [
    "payload = {\n",
    "    \"model\": \"/opt/ml/model\",\n",
    "    \"prompt\": f\"{system_prompt}\\n\\nUser: {prompt2}\\n\\nAssistant:\",\n",
    "    \"max_tokens\": 2048,\n",
    "    \"temperature\": 0.7,\n",
    "    \"top_p\": 0.95,\n",
    "    \"top_k\": 20,\n",
    "    \"min_p\": 0.0,\n",
    "    \"presence_penalty\":0.0,\n",
    "    \"stream\": True\n",
    "}\n",
    "\n",
    "for chunk in invoke_streaming_endpoint(payload):\n",
    "    handle_streaming_chunk(chunk)"
   ]
  },
  {
   "cell_type": "markdown",
   "id": "547960f3-6629-4c2d-a4d2-cdb26c9c61d0",
   "metadata": {},
   "source": [
    "Now that you have successfully performed a real-time inference, you do not need the endpoint any more. You can terminate the endpoint to avoid being charged."
   ]
  },
  {
   "cell_type": "code",
   "execution_count": 38,
   "id": "488631f8-c3be-4b30-aba4-75d83ee588a3",
   "metadata": {
    "tags": []
   },
   "outputs": [],
   "source": [
    "model.sagemaker_session.delete_endpoint(model_name)\n",
    "model.sagemaker_session.delete_endpoint_config(model_name)"
   ]
  },
  {
   "cell_type": "markdown",
   "id": "c0e98cc5-6ea8-41bf-a78f-dbe6771caf55",
   "metadata": {},
   "source": [
    "## 5. Batch inference"
   ]
  },
  {
   "cell_type": "code",
   "execution_count": 21,
   "id": "f7d163c0-a6c7-49c5-a4ea-27b83670eb7b",
   "metadata": {
    "tags": []
   },
   "outputs": [],
   "source": [
    "validation_json_file_name1 = \"input1.json\"\n",
    "\n",
    "validation_input_json_path = f\"s3://{s3_bucket}/{model_name}/validation-input/\"\n",
    "validation_output_json_path = f\"s3://{s3_bucket}/{model_name}/validation-output/\"\n",
    "\n",
    "\n",
    "def write_and_upload_to_s3(input_data, file_name):\n",
    "    s3_client.put_object(\n",
    "        Bucket=s3_bucket,\n",
    "        Key=f\"{model_name}/validation-input/{file_name}\",\n",
    "        Body=(bytes(input_data.encode(\"UTF-8\"))),\n",
    "    )"
   ]
  },
  {
   "cell_type": "code",
   "execution_count": 22,
   "id": "23904344-4a1e-4e90-942e-dc9e53827369",
   "metadata": {
    "tags": []
   },
   "outputs": [],
   "source": [
    "input_json_data1 = json.dumps(\n",
    "    {\n",
    "        \"model\": \"/opt/ml/model\",\n",
    "        \"prompt\": [f\"{system_prompt}\\n\\nUser: {prompt}\\n\\nAssistant:\" for prompt in prompts],\n",
    "        \"max_tokens\": 2048,\n",
    "        \"temperature\": 0.6,\n",
    "        \"top_p\": 0.95,\n",
    "        \"top_k\": 20,\n",
    "        \"min_p\": 0.0,\n",
    "        \"presence_penalty\":0.0,\n",
    "    }\n",
    ")\n",
    "\n",
    "write_and_upload_to_s3(input_json_data1, f\"{validation_json_file_name1}\")"
   ]
  },
  {
   "cell_type": "code",
   "execution_count": null,
   "id": "40a9b441-d1e5-4bbc-8571-005d880c6c46",
   "metadata": {
    "tags": []
   },
   "outputs": [],
   "source": [
    "transformer = model.transformer(\n",
    "    instance_count=1,\n",
    "    instance_type=batch_transform_inference_instance_type,\n",
    "    accept=\"application/json\",\n",
    "    output_path=validation_output_json_path,\n",
    ")\n",
    "transformer.transform(validation_input_json_path, content_type=\"application/json\")\n",
    "transformer.wait()"
   ]
  },
  {
   "cell_type": "code",
   "execution_count": null,
   "id": "142c53a9-2e64-4839-acbd-74bfbd7fc372",
   "metadata": {
    "tags": []
   },
   "outputs": [],
   "source": [
    "from urllib.parse import urlparse\n",
    "\n",
    "def retrieve_json_output_from_s3(validation_file_name):\n",
    "\n",
    "    parsed_url = urlparse(transformer.output_path)\n",
    "    file_key = f\"{parsed_url.path[1:]}{validation_file_name}.out\"\n",
    "    response = s3_client.get_object(Bucket=s3_bucket, Key=file_key)\n",
    "    result = json.loads(response[\"Body\"].read().decode(\"utf-8\"))\n",
    "    \n",
    "    for idx, choice in enumerate(result.get(\"choices\", [])):\n",
    "        print(f\"Response {idx + 1}:\\n{choice.get('text', '')}\\n{'=' * 75}\")\n"
   ]
  },
  {
   "cell_type": "code",
   "execution_count": 26,
   "id": "b781965a-3891-4ac3-a580-9e187b262d39",
   "metadata": {
    "tags": []
   },
   "outputs": [
    {
     "name": "stdout",
     "output_type": "stream",
     "text": [
      "Response 1:\n",
      " # Maintaining Good Kidney Health\n",
      "\n",
      "## General Lifestyle Recommendations\n",
      "\n",
      "### Hydration\n",
      "- Drink adequate water daily (8-10 glasses for most adults)\n",
      "- Monitor urine color (pale yellow is ideal)\n",
      "- Limit sugary drinks and excessive caffeine\n",
      "\n",
      "### Diet\n",
      "- Follow a balanced diet rich in fruits, vegetables, whole grains, and lean proteins\n",
      "- Limit sodium intake to less than 2,300 mg daily\n",
      "- Reduce processed foods and red meat consumption\n",
      "- Control protein intake, especially if you have kidney disease\n",
      "\n",
      "### Physical Activity\n",
      "- Engage in regular exercise (at least 150 minutes of moderate activity weekly)\n",
      "- Maintain a healthy weight\n",
      "- Avoid smoking and excessive alcohol consumption\n",
      "\n",
      "## Medical Management\n",
      "\n",
      "### Regular Checkups\n",
      "- Get routine kidney function tests (especially if you have risk factors)\n",
      "- Monitor blood pressure regularly\n",
      "- Follow treatment plans for diabetes, hypertension, and other conditions\n",
      "\n",
      "### Medication Management\n",
      "- Use medications as prescribed, especially for blood pressure and diabetes\n",
      "- Inform healthcare providers about all medications and supplements\n",
      "- Avoid over-the-counter pain medications like NSAIDs when possible\n",
      "\n",
      "## Specific Risk Factor Management\n",
      "\n",
      "### For People with Diabetes\n",
      "- Control blood sugar levels through medication, diet, and exercise\n",
      "- Monitor HbA1c levels regularly\n",
      "\n",
      "### For People with Hypertension\n",
      "- Maintain blood pressure below 130/80 mmHg\n",
      "- Follow recommended medication regimens\n",
      "\n",
      "### For People with a Family History\n",
      "- Get regular screening tests\n",
      "- Discuss genetic risks with healthcare providers\n",
      "\n",
      "## Warning Signs to Watch For\n",
      "- Changes in urination frequency or appearance\n",
      "- Swelling in legs or ankles\n",
      "- Fatigue or difficulty concentrating\n",
      "- Persistent nausea or vomiting\n",
      "- Unexplained weight loss\n",
      "\n",
      "## Conclusion\n",
      "Maintaining kidney health involves a combination of healthy lifestyle choices, regular medical monitoring, and proper management of underlying conditions. Early detection and intervention are crucial for preventing kidney disease progression.\n",
      "===========================================================================\n",
      "Response 2:\n",
      " # Symptoms of High Blood Pressure\n",
      "\n",
      "High blood pressure (hypertension) is often called the \"silent killer\" because it frequently has no symptoms until it causes serious complications. However, some people may experience:\n",
      "\n",
      "## Common Symptoms (when blood pressure is severely elevated)\n",
      "- Severe headaches\n",
      "- Nosebleeds\n",
      "- Shortness of breath\n",
      "- Chest pain\n",
      "- Visual changes\n",
      "- Fatigue\n",
      "- Dizziness\n",
      "- Confusion\n",
      "- Tinnitus (ringing in the ears)\n",
      "\n",
      "## Important Notes\n",
      "- Most people with high blood pressure don't experience any symptoms\n",
      "- These symptoms typically appear when blood pressure reaches dangerously high levels (stage 2 or 3 hypertension)\n",
      "- Regular blood pressure monitoring is essential, as you may not know you have high blood pressure without measurement\n",
      "- If you experience sudden, severe symptoms, seek medical attention immediately\n",
      "\n",
      "## Silent Nature of High Blood Pressure\n",
      "This condition often progresses without noticeable symptoms, which is why regular blood pressure checks are recommended for adults, especially those with risk factors like family history, obesity, or kidney disease.\n",
      "===========================================================================\n"
     ]
    }
   ],
   "source": [
    "retrieve_json_output_from_s3(validation_json_file_name1)"
   ]
  },
  {
   "cell_type": "markdown",
   "id": "f8e8f682-16a0-4a84-89e6-b5f4f0de3521",
   "metadata": {},
   "source": [
    "Congratulations! You just verified that the batch transform job is working as expected. Since the model is not required, you can delete it. Note that you are deleting the deployable model. Not the model package."
   ]
  },
  {
   "cell_type": "code",
   "execution_count": 27,
   "id": "22a8df79-ad3b-4e85-a054-24931c15f3a3",
   "metadata": {
    "tags": []
   },
   "outputs": [
    {
     "name": "stderr",
     "output_type": "stream",
     "text": [
      "INFO:sagemaker:Deleting model with name: JSL-Medical-LLM-14B-2025-07-11-09-18-49-255\n"
     ]
    }
   ],
   "source": [
    "model.delete_model()"
   ]
  },
  {
   "cell_type": "markdown",
   "id": "37215a51-bf01-4cf0-832a-c7f85a8a06c3",
   "metadata": {},
   "source": [
    "### Unsubscribe to the listing (optional)"
   ]
  },
  {
   "cell_type": "markdown",
   "id": "53cddd4d-4b27-4a94-95b8-5e027e6cd9cd",
   "metadata": {},
   "source": [
    "If you would like to unsubscribe to the model package, follow these steps. Before you cancel the subscription, ensure that you do not have any [deployable model](https://console.aws.amazon.com/sagemaker/home#/models) created from the model package or using the algorithm. Note - You can find this information by looking at the container name associated with the model. \n",
    "\n",
    "**Steps to unsubscribe to product from AWS Marketplace**:\n",
    "1. Navigate to __Machine Learning__ tab on [__Your Software subscriptions page__](https://aws.amazon.com/marketplace/ai/library?productType=ml&ref_=mlmp_gitdemo_indust)\n",
    "2. Locate the listing that you want to cancel the subscription for, and then choose __Cancel Subscription__  to cancel the subscription.\n",
    "\n"
   ]
  }
 ],
 "metadata": {
  "kernelspec": {
   "display_name": "lll",
   "language": "python",
   "name": "python3"
  },
  "language_info": {
   "codemirror_mode": {
    "name": "ipython",
    "version": 3
   },
   "file_extension": ".py",
   "mimetype": "text/x-python",
   "name": "python",
   "nbconvert_exporter": "python",
   "pygments_lexer": "ipython3",
   "version": "3.10.16"
  }
 },
 "nbformat": 4,
 "nbformat_minor": 5
}

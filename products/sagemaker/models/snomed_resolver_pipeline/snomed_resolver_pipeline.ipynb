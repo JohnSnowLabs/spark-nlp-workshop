{
 "cells": [
  {
   "cell_type": "markdown",
   "metadata": {},
   "source": [
    "## 1. Subscribe to the model package"
   ]
  },
  {
   "cell_type": "markdown",
   "metadata": {},
   "source": [
    "To subscribe to the model package:\n",
    "1. Open the model package listing page <font color='red'> For Seller to update:[Title_of_your_product](Provide link to your marketplace listing of your product).</font>\n",
    "1. On the AWS Marketplace listing, click on the **Continue to subscribe** button.\n",
    "1. On the **Subscribe to this software** page, review and click on **\"Accept Offer\"** if you and your organization agrees with EULA, pricing, and support terms. \n",
    "1. Once you click on **Continue to configuration button** and then choose a **region**, you will see a **Product Arn** displayed. This is the model package ARN that you need to specify while creating a deployable model using Boto3. Copy the ARN corresponding to your region and specify the same in the following cell."
   ]
  },
  {
   "cell_type": "markdown",
   "metadata": {},
   "source": [
    "## Pipeline for SNOMED Concept, All Concepts Version\n",
    "\n",
    "- **Model**: `snomed_resolver_pipeline`\n",
    "- **Model Description**: This pipeline extracts `Clinical Findings` , `Morph Abnormality`, `Clinical Drug`, `Clinical Drug Form`, `Procedure`, `Substance`, `Physical Object`, and `Body Structure` concepts from clinical notes and maps them to their corresponding SNOMED codes using `sbiobert_base_cased_mli` Sentence Bert Embeddings."
   ]
  },
  {
   "cell_type": "code",
   "execution_count": 1,
   "metadata": {
    "tags": []
   },
   "outputs": [],
   "source": [
    "model_package_arn = \"<Customer to specify Model package ARN corresponding to their AWS region>\""
   ]
  },
  {
   "cell_type": "code",
   "execution_count": 2,
   "metadata": {
    "tags": []
   },
   "outputs": [
    {
     "name": "stdout",
     "output_type": "stream",
     "text": [
      "sagemaker.config INFO - Not applying SDK defaults from location: /etc/xdg/sagemaker/config.yaml\n",
      "sagemaker.config INFO - Not applying SDK defaults from location: /home/ec2-user/.config/sagemaker/config.yaml\n"
     ]
    }
   ],
   "source": [
    "import base64\n",
    "import json\n",
    "import uuid\n",
    "from sagemaker import ModelPackage\n",
    "import sagemaker as sage\n",
    "from sagemaker import get_execution_role\n",
    "import boto3\n",
    "from IPython.display import Image, display\n",
    "from PIL import Image as ImageEdit\n",
    "import numpy as np"
   ]
  },
  {
   "cell_type": "code",
   "execution_count": 3,
   "metadata": {
    "tags": []
   },
   "outputs": [],
   "source": [
    "sagemaker_session = sage.Session()\n",
    "s3_bucket = sagemaker_session.default_bucket()\n",
    "region = sagemaker_session.boto_region_name\n",
    "account_id = boto3.client(\"sts\").get_caller_identity().get(\"Account\")\n",
    "role = get_execution_role()\n",
    "\n",
    "sagemaker = boto3.client(\"sagemaker\")\n",
    "s3_client = sagemaker_session.boto_session.client(\"s3\")\n",
    "ecr = boto3.client(\"ecr\")\n",
    "sm_runtime = boto3.client(\"sagemaker-runtime\")"
   ]
  },
  {
   "cell_type": "markdown",
   "metadata": {},
   "source": [
    "## 2. Create an endpoint and perform real-time inference"
   ]
  },
  {
   "cell_type": "markdown",
   "metadata": {},
   "source": [
    "If you want to understand how real-time inference with Amazon SageMaker works, see [Documentation](https://docs.aws.amazon.com/sagemaker/latest/dg/how-it-works-hosting.html)."
   ]
  },
  {
   "cell_type": "code",
   "execution_count": 4,
   "metadata": {
    "tags": []
   },
   "outputs": [],
   "source": [
    "model_name = \"snomed-resolver-pipeline\"\n",
    "\n",
    "real_time_inference_instance_type = \"ml.m4.xlarge\"\n",
    "batch_transform_inference_instance_type = \"ml.m4.xlarge\""
   ]
  },
  {
   "cell_type": "markdown",
   "metadata": {},
   "source": [
    "### A. Create an endpoint"
   ]
  },
  {
   "cell_type": "code",
   "execution_count": 5,
   "metadata": {
    "tags": []
   },
   "outputs": [
    {
     "name": "stdout",
     "output_type": "stream",
     "text": [
      "----------!"
     ]
    }
   ],
   "source": [
    "# create a deployable model from the model package.\n",
    "model = ModelPackage(\n",
    "    role=role, model_package_arn=model_package_arn, sagemaker_session=sagemaker_session\n",
    ")\n",
    "\n",
    "# Deploy the model\n",
    "predictor = model.deploy(1, real_time_inference_instance_type, endpoint_name=model_name)"
   ]
  },
  {
   "cell_type": "markdown",
   "metadata": {},
   "source": [
    "Once endpoint has been created, you would be able to perform real-time inference."
   ]
  },
  {
   "cell_type": "code",
   "execution_count": 6,
   "metadata": {
    "tags": []
   },
   "outputs": [],
   "source": [
    "import json\n",
    "import pandas as pd\n",
    "import os\n",
    "import boto3\n",
    "\n",
    "# Set display options\n",
    "pd.set_option('display.max_rows', None)\n",
    "pd.set_option('display.max_columns', None)\n",
    "pd.set_option('display.max_colwidth', None)\n",
    "\n",
    "def process_data_and_invoke_realtime_endpoint(data, content_type, accept):\n",
    "\n",
    "    content_type_to_format = {'application/json': 'json', 'application/jsonlines': 'jsonl'}\n",
    "    input_format = content_type_to_format.get(content_type)\n",
    "    if content_type not in content_type_to_format.keys() or accept not in content_type_to_format.keys():\n",
    "        raise ValueError(\"Invalid content_type or accept. It should be either 'application/json' or 'application/jsonlines'.\")\n",
    "\n",
    "    i = 1\n",
    "    input_dir = f'inputs/real-time/{input_format}'\n",
    "    output_dir = f'outputs/real-time/{input_format}'\n",
    "    s3_input_dir = f\"{model_name}/validation-input/real-time/{input_format}\"\n",
    "    s3_output_dir = f\"{model_name}/validation-output/real-time/{input_format}\"\n",
    "\n",
    "    input_file_name = f'{input_dir}/input{i}.{input_format}'\n",
    "    output_file_name = f'{output_dir}/{os.path.basename(input_file_name)}.out'\n",
    "\n",
    "    while os.path.exists(input_file_name) or os.path.exists(output_file_name):\n",
    "        i += 1\n",
    "        input_file_name = f'{input_dir}/input{i}.{input_format}'\n",
    "        output_file_name = f'{output_dir}/{os.path.basename(input_file_name)}.out'\n",
    "\n",
    "    os.makedirs(os.path.dirname(input_file_name), exist_ok=True)\n",
    "    os.makedirs(os.path.dirname(output_file_name), exist_ok=True)\n",
    "\n",
    "    input_data = json.dumps(data) if content_type == 'application/json' else data\n",
    "\n",
    "    # Write input data to file\n",
    "    with open(input_file_name, 'w') as f:\n",
    "        f.write(input_data)\n",
    "\n",
    "    # Upload input data to S3\n",
    "    s3_client.put_object(Bucket=s3_bucket, Key=f\"{s3_input_dir}/{os.path.basename(input_file_name)}\", Body=bytes(input_data.encode('UTF-8')))\n",
    "\n",
    "    # Invoke the SageMaker endpoint\n",
    "    response = sm_runtime.invoke_endpoint(\n",
    "        EndpointName=model_name,\n",
    "        ContentType=content_type,\n",
    "        Accept=accept,\n",
    "        Body=input_data,\n",
    "    )\n",
    "\n",
    "    # Read response data\n",
    "    response_data = json.loads(response[\"Body\"].read().decode(\"utf-8\")) if accept == 'application/json' else response['Body'].read().decode('utf-8')\n",
    "\n",
    "    # Save response data to file\n",
    "    with open(output_file_name, 'w') as f_out:\n",
    "        if accept == 'application/json':\n",
    "            json.dump(response_data, f_out, indent=4)\n",
    "        else:\n",
    "            for item in response_data.split('\\n'):\n",
    "                f_out.write(item + '\\n')\n",
    "\n",
    "    # Upload response data to S3\n",
    "    output_s3_key = f\"{s3_output_dir}/{os.path.basename(output_file_name)}\"\n",
    "    if accept == 'application/json':\n",
    "        s3_client.put_object(Bucket=s3_bucket, Key=output_s3_key, Body=json.dumps(response_data).encode('UTF-8'))\n",
    "    else:\n",
    "        s3_client.put_object(Bucket=s3_bucket, Key=output_s3_key, Body=response_data)\n",
    "\n",
    "    return response_data"
   ]
  },
  {
   "cell_type": "markdown",
   "metadata": {},
   "source": [
    "### Initial Setup"
   ]
  },
  {
   "cell_type": "code",
   "execution_count": 7,
   "metadata": {
    "tags": []
   },
   "outputs": [],
   "source": [
    "docs = [\n",
    "    \"\"\"The patient is a 40-year-old white male who presents with a chief complaint of \"chest pain\". The patient is diabetic and has a prior history of coronary artery disease. The patient presents today stating that his chest pain started yesterday evening and has been somewhat intermittent. He has been advised  81 milligrams QDay.  50 units in a.m.  50 mg QDay.  1/150 sublingually PRN chest pain.\"\"\",\n",
    "    \"\"\"Two weeks prior to presentation , she was treated with a five-day course of  for a respiratory tract infection . She was on  ,  , and  for T2DM and  and  for HTG . She had been on  for six months at the time of presentation .The patient was seen by the endocrinology service and she was discharged on 40 units of  at night , 12 units of  with meals , and  1000 mg two times a day.\"\"\",\n",
    "]\n",
    "\n",
    "\n",
    "\n",
    "sample_text = \"\"\"This is an 82-year-old male with a history of prior tobacco use, hypertension, chronic renal insufficiency, chronic obstructive pulmonary disease, gastritis, and transient ischemic attack. He initially presented to Braintree with ST elevation and was transferred to St. Margaret’s Center. He underwent cardiac catheterization because of the left main coronary artery stenosis, which was complicated by hypotension and bradycardia. He required atropine, IV fluids, and dopamine.\"\"\""
   ]
  },
  {
   "cell_type": "markdown",
   "metadata": {},
   "source": [
    "### JSON"
   ]
  },
  {
   "cell_type": "markdown",
   "metadata": {},
   "source": [
    "#### Example 1"
   ]
  },
  {
   "cell_type": "markdown",
   "metadata": {},
   "source": [
    "  **Input format**:\n",
    "  \n",
    "  \n",
    "```json\n",
    "{\n",
    "    \"text\": \"Single text document\"\n",
    "}\n",
    "```"
   ]
  },
  {
   "cell_type": "code",
   "execution_count": 8,
   "metadata": {
    "tags": []
   },
   "outputs": [
    {
     "data": {
      "text/html": [
       "<div>\n",
       "<style scoped>\n",
       "    .dataframe tbody tr th:only-of-type {\n",
       "        vertical-align: middle;\n",
       "    }\n",
       "\n",
       "    .dataframe tbody tr th {\n",
       "        vertical-align: top;\n",
       "    }\n",
       "\n",
       "    .dataframe thead th {\n",
       "        text-align: right;\n",
       "    }\n",
       "</style>\n",
       "<table border=\"1\" class=\"dataframe\">\n",
       "  <thead>\n",
       "    <tr style=\"text-align: right;\">\n",
       "      <th></th>\n",
       "      <th>document</th>\n",
       "      <th>ner_chunk</th>\n",
       "      <th>begin</th>\n",
       "      <th>end</th>\n",
       "      <th>ner_label</th>\n",
       "      <th>ner_confidence</th>\n",
       "      <th>snomed_code</th>\n",
       "      <th>snomed_resolution</th>\n",
       "      <th>snomed_confidence</th>\n",
       "    </tr>\n",
       "  </thead>\n",
       "  <tbody>\n",
       "    <tr>\n",
       "      <th>0</th>\n",
       "      <td>This is an 82-year-old male with a history of prior tobacco use, hypertension, chronic renal insufficiency, chronic obstructive pulmonary disease, gastritis, and transient ischemic attack. He initially presented to Braintree with ST elevation and was transferred to St. Margaret’s Center. He underwent cardiac catheterization because of the left main coronary artery stenosis, which was complicated by hypotension and bradycardia. He required atropine, IV fluids, and dopamine.</td>\n",
       "      <td>tobacco</td>\n",
       "      <td>52</td>\n",
       "      <td>58</td>\n",
       "      <td>Smoking</td>\n",
       "      <td>0.9935</td>\n",
       "      <td>57264008</td>\n",
       "      <td>tobacco</td>\n",
       "      <td>0.9899</td>\n",
       "    </tr>\n",
       "    <tr>\n",
       "      <th>1</th>\n",
       "      <td>This is an 82-year-old male with a history of prior tobacco use, hypertension, chronic renal insufficiency, chronic obstructive pulmonary disease, gastritis, and transient ischemic attack. He initially presented to Braintree with ST elevation and was transferred to St. Margaret’s Center. He underwent cardiac catheterization because of the left main coronary artery stenosis, which was complicated by hypotension and bradycardia. He required atropine, IV fluids, and dopamine.</td>\n",
       "      <td>hypertension</td>\n",
       "      <td>65</td>\n",
       "      <td>76</td>\n",
       "      <td>Hypertension</td>\n",
       "      <td>0.9999</td>\n",
       "      <td>161501007</td>\n",
       "      <td>h/o: hypertension</td>\n",
       "      <td>0.2622</td>\n",
       "    </tr>\n",
       "    <tr>\n",
       "      <th>2</th>\n",
       "      <td>This is an 82-year-old male with a history of prior tobacco use, hypertension, chronic renal insufficiency, chronic obstructive pulmonary disease, gastritis, and transient ischemic attack. He initially presented to Braintree with ST elevation and was transferred to St. Margaret’s Center. He underwent cardiac catheterization because of the left main coronary artery stenosis, which was complicated by hypotension and bradycardia. He required atropine, IV fluids, and dopamine.</td>\n",
       "      <td>chronic renal insufficiency</td>\n",
       "      <td>79</td>\n",
       "      <td>105</td>\n",
       "      <td>Kidney_Disease</td>\n",
       "      <td>0.91976666</td>\n",
       "      <td>73901000119107</td>\n",
       "      <td>history of renal insufficiency</td>\n",
       "      <td>0.2726</td>\n",
       "    </tr>\n",
       "    <tr>\n",
       "      <th>3</th>\n",
       "      <td>This is an 82-year-old male with a history of prior tobacco use, hypertension, chronic renal insufficiency, chronic obstructive pulmonary disease, gastritis, and transient ischemic attack. He initially presented to Braintree with ST elevation and was transferred to St. Margaret’s Center. He underwent cardiac catheterization because of the left main coronary artery stenosis, which was complicated by hypotension and bradycardia. He required atropine, IV fluids, and dopamine.</td>\n",
       "      <td>chronic obstructive pulmonary disease</td>\n",
       "      <td>108</td>\n",
       "      <td>144</td>\n",
       "      <td>Disease_Syndrome_Disorder</td>\n",
       "      <td>0.5127</td>\n",
       "      <td>394702007</td>\n",
       "      <td>chronic obstructive pulmonary disease follow-up</td>\n",
       "      <td>0.2271</td>\n",
       "    </tr>\n",
       "    <tr>\n",
       "      <th>4</th>\n",
       "      <td>This is an 82-year-old male with a history of prior tobacco use, hypertension, chronic renal insufficiency, chronic obstructive pulmonary disease, gastritis, and transient ischemic attack. He initially presented to Braintree with ST elevation and was transferred to St. Margaret’s Center. He underwent cardiac catheterization because of the left main coronary artery stenosis, which was complicated by hypotension and bradycardia. He required atropine, IV fluids, and dopamine.</td>\n",
       "      <td>gastritis</td>\n",
       "      <td>147</td>\n",
       "      <td>155</td>\n",
       "      <td>Disease_Syndrome_Disorder</td>\n",
       "      <td>0.9959</td>\n",
       "      <td>413241009</td>\n",
       "      <td>suspicion of gastritis</td>\n",
       "      <td>0.4956</td>\n",
       "    </tr>\n",
       "    <tr>\n",
       "      <th>5</th>\n",
       "      <td>This is an 82-year-old male with a history of prior tobacco use, hypertension, chronic renal insufficiency, chronic obstructive pulmonary disease, gastritis, and transient ischemic attack. He initially presented to Braintree with ST elevation and was transferred to St. Margaret’s Center. He underwent cardiac catheterization because of the left main coronary artery stenosis, which was complicated by hypotension and bradycardia. He required atropine, IV fluids, and dopamine.</td>\n",
       "      <td>transient ischemic attack</td>\n",
       "      <td>162</td>\n",
       "      <td>186</td>\n",
       "      <td>Cerebrovascular_Disease</td>\n",
       "      <td>0.5781</td>\n",
       "      <td>473129008</td>\n",
       "      <td>suspected transient ischemic attack</td>\n",
       "      <td>0.7540</td>\n",
       "    </tr>\n",
       "    <tr>\n",
       "      <th>6</th>\n",
       "      <td>This is an 82-year-old male with a history of prior tobacco use, hypertension, chronic renal insufficiency, chronic obstructive pulmonary disease, gastritis, and transient ischemic attack. He initially presented to Braintree with ST elevation and was transferred to St. Margaret’s Center. He underwent cardiac catheterization because of the left main coronary artery stenosis, which was complicated by hypotension and bradycardia. He required atropine, IV fluids, and dopamine.</td>\n",
       "      <td>ST elevation</td>\n",
       "      <td>230</td>\n",
       "      <td>241</td>\n",
       "      <td>snomed_term</td>\n",
       "      <td>0.64225</td>\n",
       "      <td>164931005</td>\n",
       "      <td>st elevation</td>\n",
       "      <td>0.9991</td>\n",
       "    </tr>\n",
       "    <tr>\n",
       "      <th>7</th>\n",
       "      <td>This is an 82-year-old male with a history of prior tobacco use, hypertension, chronic renal insufficiency, chronic obstructive pulmonary disease, gastritis, and transient ischemic attack. He initially presented to Braintree with ST elevation and was transferred to St. Margaret’s Center. He underwent cardiac catheterization because of the left main coronary artery stenosis, which was complicated by hypotension and bradycardia. He required atropine, IV fluids, and dopamine.</td>\n",
       "      <td>cardiac catheterization</td>\n",
       "      <td>302</td>\n",
       "      <td>324</td>\n",
       "      <td>Procedure</td>\n",
       "      <td>0.7781</td>\n",
       "      <td>41976001</td>\n",
       "      <td>cardiac catheterization</td>\n",
       "      <td>0.9747</td>\n",
       "    </tr>\n",
       "    <tr>\n",
       "      <th>8</th>\n",
       "      <td>This is an 82-year-old male with a history of prior tobacco use, hypertension, chronic renal insufficiency, chronic obstructive pulmonary disease, gastritis, and transient ischemic attack. He initially presented to Braintree with ST elevation and was transferred to St. Margaret’s Center. He underwent cardiac catheterization because of the left main coronary artery stenosis, which was complicated by hypotension and bradycardia. He required atropine, IV fluids, and dopamine.</td>\n",
       "      <td>the left main coronary artery stenosis</td>\n",
       "      <td>337</td>\n",
       "      <td>374</td>\n",
       "      <td>PROBLEM</td>\n",
       "      <td>0.84225005</td>\n",
       "      <td>1255621004</td>\n",
       "      <td>distal left coronary artery main stem stenosis</td>\n",
       "      <td>0.1880</td>\n",
       "    </tr>\n",
       "    <tr>\n",
       "      <th>9</th>\n",
       "      <td>This is an 82-year-old male with a history of prior tobacco use, hypertension, chronic renal insufficiency, chronic obstructive pulmonary disease, gastritis, and transient ischemic attack. He initially presented to Braintree with ST elevation and was transferred to St. Margaret’s Center. He underwent cardiac catheterization because of the left main coronary artery stenosis, which was complicated by hypotension and bradycardia. He required atropine, IV fluids, and dopamine.</td>\n",
       "      <td>hypotension</td>\n",
       "      <td>402</td>\n",
       "      <td>412</td>\n",
       "      <td>VS_Finding</td>\n",
       "      <td>0.9877</td>\n",
       "      <td>241727003</td>\n",
       "      <td>induced hypotension</td>\n",
       "      <td>0.8483</td>\n",
       "    </tr>\n",
       "    <tr>\n",
       "      <th>10</th>\n",
       "      <td>This is an 82-year-old male with a history of prior tobacco use, hypertension, chronic renal insufficiency, chronic obstructive pulmonary disease, gastritis, and transient ischemic attack. He initially presented to Braintree with ST elevation and was transferred to St. Margaret’s Center. He underwent cardiac catheterization because of the left main coronary artery stenosis, which was complicated by hypotension and bradycardia. He required atropine, IV fluids, and dopamine.</td>\n",
       "      <td>bradycardia</td>\n",
       "      <td>418</td>\n",
       "      <td>428</td>\n",
       "      <td>VS_Finding</td>\n",
       "      <td>0.9955</td>\n",
       "      <td>1217429005</td>\n",
       "      <td>asymptomatic bradycardia</td>\n",
       "      <td>0.3969</td>\n",
       "    </tr>\n",
       "    <tr>\n",
       "      <th>11</th>\n",
       "      <td>This is an 82-year-old male with a history of prior tobacco use, hypertension, chronic renal insufficiency, chronic obstructive pulmonary disease, gastritis, and transient ischemic attack. He initially presented to Braintree with ST elevation and was transferred to St. Margaret’s Center. He underwent cardiac catheterization because of the left main coronary artery stenosis, which was complicated by hypotension and bradycardia. He required atropine, IV fluids, and dopamine.</td>\n",
       "      <td>atropine</td>\n",
       "      <td>443</td>\n",
       "      <td>450</td>\n",
       "      <td>Drug_Ingredient</td>\n",
       "      <td>0.9979</td>\n",
       "      <td>73949004</td>\n",
       "      <td>atropine</td>\n",
       "      <td>0.9910</td>\n",
       "    </tr>\n",
       "    <tr>\n",
       "      <th>12</th>\n",
       "      <td>This is an 82-year-old male with a history of prior tobacco use, hypertension, chronic renal insufficiency, chronic obstructive pulmonary disease, gastritis, and transient ischemic attack. He initially presented to Braintree with ST elevation and was transferred to St. Margaret’s Center. He underwent cardiac catheterization because of the left main coronary artery stenosis, which was complicated by hypotension and bradycardia. He required atropine, IV fluids, and dopamine.</td>\n",
       "      <td>IV fluids</td>\n",
       "      <td>453</td>\n",
       "      <td>461</td>\n",
       "      <td>TREATMENT</td>\n",
       "      <td>0.98885</td>\n",
       "      <td>118431008</td>\n",
       "      <td>iv fluid</td>\n",
       "      <td>0.9087</td>\n",
       "    </tr>\n",
       "    <tr>\n",
       "      <th>13</th>\n",
       "      <td>This is an 82-year-old male with a history of prior tobacco use, hypertension, chronic renal insufficiency, chronic obstructive pulmonary disease, gastritis, and transient ischemic attack. He initially presented to Braintree with ST elevation and was transferred to St. Margaret’s Center. He underwent cardiac catheterization because of the left main coronary artery stenosis, which was complicated by hypotension and bradycardia. He required atropine, IV fluids, and dopamine.</td>\n",
       "      <td>dopamine</td>\n",
       "      <td>468</td>\n",
       "      <td>475</td>\n",
       "      <td>Drug_Ingredient</td>\n",
       "      <td>0.9924</td>\n",
       "      <td>59187003</td>\n",
       "      <td>dopamine</td>\n",
       "      <td>0.9816</td>\n",
       "    </tr>\n",
       "  </tbody>\n",
       "</table>\n",
       "</div>"
      ],
      "text/plain": [
       "                                                                                                                                                                                                                                                                                                                                                                                                                                                                                         document  \\\n",
       "0   This is an 82-year-old male with a history of prior tobacco use, hypertension, chronic renal insufficiency, chronic obstructive pulmonary disease, gastritis, and transient ischemic attack. He initially presented to Braintree with ST elevation and was transferred to St. Margaret’s Center. He underwent cardiac catheterization because of the left main coronary artery stenosis, which was complicated by hypotension and bradycardia. He required atropine, IV fluids, and dopamine.   \n",
       "1   This is an 82-year-old male with a history of prior tobacco use, hypertension, chronic renal insufficiency, chronic obstructive pulmonary disease, gastritis, and transient ischemic attack. He initially presented to Braintree with ST elevation and was transferred to St. Margaret’s Center. He underwent cardiac catheterization because of the left main coronary artery stenosis, which was complicated by hypotension and bradycardia. He required atropine, IV fluids, and dopamine.   \n",
       "2   This is an 82-year-old male with a history of prior tobacco use, hypertension, chronic renal insufficiency, chronic obstructive pulmonary disease, gastritis, and transient ischemic attack. He initially presented to Braintree with ST elevation and was transferred to St. Margaret’s Center. He underwent cardiac catheterization because of the left main coronary artery stenosis, which was complicated by hypotension and bradycardia. He required atropine, IV fluids, and dopamine.   \n",
       "3   This is an 82-year-old male with a history of prior tobacco use, hypertension, chronic renal insufficiency, chronic obstructive pulmonary disease, gastritis, and transient ischemic attack. He initially presented to Braintree with ST elevation and was transferred to St. Margaret’s Center. He underwent cardiac catheterization because of the left main coronary artery stenosis, which was complicated by hypotension and bradycardia. He required atropine, IV fluids, and dopamine.   \n",
       "4   This is an 82-year-old male with a history of prior tobacco use, hypertension, chronic renal insufficiency, chronic obstructive pulmonary disease, gastritis, and transient ischemic attack. He initially presented to Braintree with ST elevation and was transferred to St. Margaret’s Center. He underwent cardiac catheterization because of the left main coronary artery stenosis, which was complicated by hypotension and bradycardia. He required atropine, IV fluids, and dopamine.   \n",
       "5   This is an 82-year-old male with a history of prior tobacco use, hypertension, chronic renal insufficiency, chronic obstructive pulmonary disease, gastritis, and transient ischemic attack. He initially presented to Braintree with ST elevation and was transferred to St. Margaret’s Center. He underwent cardiac catheterization because of the left main coronary artery stenosis, which was complicated by hypotension and bradycardia. He required atropine, IV fluids, and dopamine.   \n",
       "6   This is an 82-year-old male with a history of prior tobacco use, hypertension, chronic renal insufficiency, chronic obstructive pulmonary disease, gastritis, and transient ischemic attack. He initially presented to Braintree with ST elevation and was transferred to St. Margaret’s Center. He underwent cardiac catheterization because of the left main coronary artery stenosis, which was complicated by hypotension and bradycardia. He required atropine, IV fluids, and dopamine.   \n",
       "7   This is an 82-year-old male with a history of prior tobacco use, hypertension, chronic renal insufficiency, chronic obstructive pulmonary disease, gastritis, and transient ischemic attack. He initially presented to Braintree with ST elevation and was transferred to St. Margaret’s Center. He underwent cardiac catheterization because of the left main coronary artery stenosis, which was complicated by hypotension and bradycardia. He required atropine, IV fluids, and dopamine.   \n",
       "8   This is an 82-year-old male with a history of prior tobacco use, hypertension, chronic renal insufficiency, chronic obstructive pulmonary disease, gastritis, and transient ischemic attack. He initially presented to Braintree with ST elevation and was transferred to St. Margaret’s Center. He underwent cardiac catheterization because of the left main coronary artery stenosis, which was complicated by hypotension and bradycardia. He required atropine, IV fluids, and dopamine.   \n",
       "9   This is an 82-year-old male with a history of prior tobacco use, hypertension, chronic renal insufficiency, chronic obstructive pulmonary disease, gastritis, and transient ischemic attack. He initially presented to Braintree with ST elevation and was transferred to St. Margaret’s Center. He underwent cardiac catheterization because of the left main coronary artery stenosis, which was complicated by hypotension and bradycardia. He required atropine, IV fluids, and dopamine.   \n",
       "10  This is an 82-year-old male with a history of prior tobacco use, hypertension, chronic renal insufficiency, chronic obstructive pulmonary disease, gastritis, and transient ischemic attack. He initially presented to Braintree with ST elevation and was transferred to St. Margaret’s Center. He underwent cardiac catheterization because of the left main coronary artery stenosis, which was complicated by hypotension and bradycardia. He required atropine, IV fluids, and dopamine.   \n",
       "11  This is an 82-year-old male with a history of prior tobacco use, hypertension, chronic renal insufficiency, chronic obstructive pulmonary disease, gastritis, and transient ischemic attack. He initially presented to Braintree with ST elevation and was transferred to St. Margaret’s Center. He underwent cardiac catheterization because of the left main coronary artery stenosis, which was complicated by hypotension and bradycardia. He required atropine, IV fluids, and dopamine.   \n",
       "12  This is an 82-year-old male with a history of prior tobacco use, hypertension, chronic renal insufficiency, chronic obstructive pulmonary disease, gastritis, and transient ischemic attack. He initially presented to Braintree with ST elevation and was transferred to St. Margaret’s Center. He underwent cardiac catheterization because of the left main coronary artery stenosis, which was complicated by hypotension and bradycardia. He required atropine, IV fluids, and dopamine.   \n",
       "13  This is an 82-year-old male with a history of prior tobacco use, hypertension, chronic renal insufficiency, chronic obstructive pulmonary disease, gastritis, and transient ischemic attack. He initially presented to Braintree with ST elevation and was transferred to St. Margaret’s Center. He underwent cardiac catheterization because of the left main coronary artery stenosis, which was complicated by hypotension and bradycardia. He required atropine, IV fluids, and dopamine.   \n",
       "\n",
       "                                 ner_chunk  begin  end  \\\n",
       "0                                  tobacco     52   58   \n",
       "1                             hypertension     65   76   \n",
       "2              chronic renal insufficiency     79  105   \n",
       "3    chronic obstructive pulmonary disease    108  144   \n",
       "4                                gastritis    147  155   \n",
       "5                transient ischemic attack    162  186   \n",
       "6                             ST elevation    230  241   \n",
       "7                  cardiac catheterization    302  324   \n",
       "8   the left main coronary artery stenosis    337  374   \n",
       "9                              hypotension    402  412   \n",
       "10                             bradycardia    418  428   \n",
       "11                                atropine    443  450   \n",
       "12                               IV fluids    453  461   \n",
       "13                                dopamine    468  475   \n",
       "\n",
       "                    ner_label ner_confidence     snomed_code  \\\n",
       "0                     Smoking         0.9935        57264008   \n",
       "1                Hypertension         0.9999       161501007   \n",
       "2              Kidney_Disease     0.91976666  73901000119107   \n",
       "3   Disease_Syndrome_Disorder         0.5127       394702007   \n",
       "4   Disease_Syndrome_Disorder         0.9959       413241009   \n",
       "5     Cerebrovascular_Disease         0.5781       473129008   \n",
       "6                 snomed_term        0.64225       164931005   \n",
       "7                   Procedure         0.7781        41976001   \n",
       "8                     PROBLEM     0.84225005      1255621004   \n",
       "9                  VS_Finding         0.9877       241727003   \n",
       "10                 VS_Finding         0.9955      1217429005   \n",
       "11            Drug_Ingredient         0.9979        73949004   \n",
       "12                  TREATMENT        0.98885       118431008   \n",
       "13            Drug_Ingredient         0.9924        59187003   \n",
       "\n",
       "                                  snomed_resolution snomed_confidence  \n",
       "0                                           tobacco            0.9899  \n",
       "1                                 h/o: hypertension            0.2622  \n",
       "2                    history of renal insufficiency            0.2726  \n",
       "3   chronic obstructive pulmonary disease follow-up            0.2271  \n",
       "4                            suspicion of gastritis            0.4956  \n",
       "5               suspected transient ischemic attack            0.7540  \n",
       "6                                      st elevation            0.9991  \n",
       "7                           cardiac catheterization            0.9747  \n",
       "8    distal left coronary artery main stem stenosis            0.1880  \n",
       "9                               induced hypotension            0.8483  \n",
       "10                         asymptomatic bradycardia            0.3969  \n",
       "11                                         atropine            0.9910  \n",
       "12                                         iv fluid            0.9087  \n",
       "13                                         dopamine            0.9816  "
      ]
     },
     "execution_count": 8,
     "metadata": {},
     "output_type": "execute_result"
    }
   ],
   "source": [
    "input_json_data = {\"text\": sample_text}\n",
    "\n",
    "data =  process_data_and_invoke_realtime_endpoint(input_json_data, content_type=\"application/json\" , accept=\"application/json\" )\n",
    "pd.DataFrame(data[\"predictions\"])"
   ]
  },
  {
   "cell_type": "markdown",
   "metadata": {},
   "source": [
    "#### Example 2"
   ]
  },
  {
   "cell_type": "markdown",
   "metadata": {},
   "source": [
    "  **Input format**:\n",
    "  \n",
    "  \n",
    "```json\n",
    "{\n",
    "    \"text\": [\n",
    "        \"Text document 1\",\n",
    "        \"Text document 2\",\n",
    "        ...\n",
    "    ]\n",
    "}\n",
    "```"
   ]
  },
  {
   "cell_type": "code",
   "execution_count": 9,
   "metadata": {
    "tags": []
   },
   "outputs": [
    {
     "data": {
      "text/html": [
       "<div>\n",
       "<style scoped>\n",
       "    .dataframe tbody tr th:only-of-type {\n",
       "        vertical-align: middle;\n",
       "    }\n",
       "\n",
       "    .dataframe tbody tr th {\n",
       "        vertical-align: top;\n",
       "    }\n",
       "\n",
       "    .dataframe thead th {\n",
       "        text-align: right;\n",
       "    }\n",
       "</style>\n",
       "<table border=\"1\" class=\"dataframe\">\n",
       "  <thead>\n",
       "    <tr style=\"text-align: right;\">\n",
       "      <th></th>\n",
       "      <th>document</th>\n",
       "      <th>ner_chunk</th>\n",
       "      <th>begin</th>\n",
       "      <th>end</th>\n",
       "      <th>ner_label</th>\n",
       "      <th>ner_confidence</th>\n",
       "      <th>snomed_code</th>\n",
       "      <th>snomed_resolution</th>\n",
       "      <th>snomed_confidence</th>\n",
       "    </tr>\n",
       "  </thead>\n",
       "  <tbody>\n",
       "    <tr>\n",
       "      <th>0</th>\n",
       "      <td>The patient is a 40-year-old white male who presents with a chief complaint of \"chest pain\". The patient is diabetic and has a prior history of coronary artery disease. The patient presents today stating that his chest pain started yesterday evening and has been somewhat intermittent. He has been advised  81 milligrams QDay.  50 units in a.m.  50 mg QDay.  1/150 sublingually PRN chest pain.</td>\n",
       "      <td>chest pain</td>\n",
       "      <td>80</td>\n",
       "      <td>89</td>\n",
       "      <td>Symptom</td>\n",
       "      <td>0.7448</td>\n",
       "      <td>1264062004</td>\n",
       "      <td>burning chest pain</td>\n",
       "      <td>0.2747</td>\n",
       "    </tr>\n",
       "    <tr>\n",
       "      <th>1</th>\n",
       "      <td>The patient is a 40-year-old white male who presents with a chief complaint of \"chest pain\". The patient is diabetic and has a prior history of coronary artery disease. The patient presents today stating that his chest pain started yesterday evening and has been somewhat intermittent. He has been advised  81 milligrams QDay.  50 units in a.m.  50 mg QDay.  1/150 sublingually PRN chest pain.</td>\n",
       "      <td>diabetic</td>\n",
       "      <td>108</td>\n",
       "      <td>115</td>\n",
       "      <td>Diabetes</td>\n",
       "      <td>0.9994</td>\n",
       "      <td>405751000</td>\n",
       "      <td>diabetes type</td>\n",
       "      <td>0.2538</td>\n",
       "    </tr>\n",
       "    <tr>\n",
       "      <th>2</th>\n",
       "      <td>The patient is a 40-year-old white male who presents with a chief complaint of \"chest pain\". The patient is diabetic and has a prior history of coronary artery disease. The patient presents today stating that his chest pain started yesterday evening and has been somewhat intermittent. He has been advised  81 milligrams QDay.  50 units in a.m.  50 mg QDay.  1/150 sublingually PRN chest pain.</td>\n",
       "      <td>coronary artery</td>\n",
       "      <td>144</td>\n",
       "      <td>158</td>\n",
       "      <td>snomed_term</td>\n",
       "      <td>0.68165</td>\n",
       "      <td>181294004</td>\n",
       "      <td>coronary artery</td>\n",
       "      <td>0.9099</td>\n",
       "    </tr>\n",
       "    <tr>\n",
       "      <th>3</th>\n",
       "      <td>The patient is a 40-year-old white male who presents with a chief complaint of \"chest pain\". The patient is diabetic and has a prior history of coronary artery disease. The patient presents today stating that his chest pain started yesterday evening and has been somewhat intermittent. He has been advised  81 milligrams QDay.  50 units in a.m.  50 mg QDay.  1/150 sublingually PRN chest pain.</td>\n",
       "      <td>his chest pain</td>\n",
       "      <td>209</td>\n",
       "      <td>222</td>\n",
       "      <td>PROBLEM</td>\n",
       "      <td>0.9519666</td>\n",
       "      <td>1264062004</td>\n",
       "      <td>burning chest pain</td>\n",
       "      <td>0.3204</td>\n",
       "    </tr>\n",
       "    <tr>\n",
       "      <th>4</th>\n",
       "      <td>The patient is a 40-year-old white male who presents with a chief complaint of \"chest pain\". The patient is diabetic and has a prior history of coronary artery disease. The patient presents today stating that his chest pain started yesterday evening and has been somewhat intermittent. He has been advised  81 milligrams QDay.  50 units in a.m.  50 mg QDay.  1/150 sublingually PRN chest pain.</td>\n",
       "      <td>somewhat intermittent</td>\n",
       "      <td>263</td>\n",
       "      <td>283</td>\n",
       "      <td>PROBLEM</td>\n",
       "      <td>0.71835</td>\n",
       "      <td>225417009</td>\n",
       "      <td>intermittent observation</td>\n",
       "      <td>0.1883</td>\n",
       "    </tr>\n",
       "    <tr>\n",
       "      <th>5</th>\n",
       "      <td>The patient is a 40-year-old white male who presents with a chief complaint of \"chest pain\". The patient is diabetic and has a prior history of coronary artery disease. The patient presents today stating that his chest pain started yesterday evening and has been somewhat intermittent. He has been advised  81 milligrams QDay.  50 units in a.m.  50 mg QDay.  1/150 sublingually PRN chest pain.</td>\n",
       "      <td>chest pain</td>\n",
       "      <td>382</td>\n",
       "      <td>391</td>\n",
       "      <td>Symptom</td>\n",
       "      <td>0.67995</td>\n",
       "      <td>1264062004</td>\n",
       "      <td>burning chest pain</td>\n",
       "      <td>0.2747</td>\n",
       "    </tr>\n",
       "    <tr>\n",
       "      <th>6</th>\n",
       "      <td>Two weeks prior to presentation , she was treated with a five-day course of  for a respiratory tract infection . She was on  ,  , and  for T2DM and  and  for HTG . She had been on  for six months at the time of presentation .The patient was seen by the endocrinology service and she was discharged on 40 units of  at night , 12 units of  with meals , and  1000 mg two times a day.</td>\n",
       "      <td>a respiratory tract infection</td>\n",
       "      <td>81</td>\n",
       "      <td>109</td>\n",
       "      <td>PROBLEM</td>\n",
       "      <td>0.87114996</td>\n",
       "      <td>787773004</td>\n",
       "      <td>suspected foreign body in respiratory tract</td>\n",
       "      <td>0.1899</td>\n",
       "    </tr>\n",
       "    <tr>\n",
       "      <th>7</th>\n",
       "      <td>Two weeks prior to presentation , she was treated with a five-day course of  for a respiratory tract infection . She was on  ,  , and  for T2DM and  and  for HTG . She had been on  for six months at the time of presentation .The patient was seen by the endocrinology service and she was discharged on 40 units of  at night , 12 units of  with meals , and  1000 mg two times a day.</td>\n",
       "      <td>T2DM</td>\n",
       "      <td>139</td>\n",
       "      <td>142</td>\n",
       "      <td>Diabetes</td>\n",
       "      <td>0.9779</td>\n",
       "      <td>77036005</td>\n",
       "      <td>tma2</td>\n",
       "      <td>0.2305</td>\n",
       "    </tr>\n",
       "    <tr>\n",
       "      <th>8</th>\n",
       "      <td>Two weeks prior to presentation , she was treated with a five-day course of  for a respiratory tract infection . She was on  ,  , and  for T2DM and  and  for HTG . She had been on  for six months at the time of presentation .The patient was seen by the endocrinology service and she was discharged on 40 units of  at night , 12 units of  with meals , and  1000 mg two times a day.</td>\n",
       "      <td>HTG</td>\n",
       "      <td>158</td>\n",
       "      <td>160</td>\n",
       "      <td>Hyperlipidemia</td>\n",
       "      <td>0.8938</td>\n",
       "      <td>30965005</td>\n",
       "      <td>hgf</td>\n",
       "      <td>0.1668</td>\n",
       "    </tr>\n",
       "  </tbody>\n",
       "</table>\n",
       "</div>"
      ],
      "text/plain": [
       "                                                                                                                                                                                                                                                                                                                                                                                                    document  \\\n",
       "0  The patient is a 40-year-old white male who presents with a chief complaint of \"chest pain\". The patient is diabetic and has a prior history of coronary artery disease. The patient presents today stating that his chest pain started yesterday evening and has been somewhat intermittent. He has been advised  81 milligrams QDay.  50 units in a.m.  50 mg QDay.  1/150 sublingually PRN chest pain.   \n",
       "1  The patient is a 40-year-old white male who presents with a chief complaint of \"chest pain\". The patient is diabetic and has a prior history of coronary artery disease. The patient presents today stating that his chest pain started yesterday evening and has been somewhat intermittent. He has been advised  81 milligrams QDay.  50 units in a.m.  50 mg QDay.  1/150 sublingually PRN chest pain.   \n",
       "2  The patient is a 40-year-old white male who presents with a chief complaint of \"chest pain\". The patient is diabetic and has a prior history of coronary artery disease. The patient presents today stating that his chest pain started yesterday evening and has been somewhat intermittent. He has been advised  81 milligrams QDay.  50 units in a.m.  50 mg QDay.  1/150 sublingually PRN chest pain.   \n",
       "3  The patient is a 40-year-old white male who presents with a chief complaint of \"chest pain\". The patient is diabetic and has a prior history of coronary artery disease. The patient presents today stating that his chest pain started yesterday evening and has been somewhat intermittent. He has been advised  81 milligrams QDay.  50 units in a.m.  50 mg QDay.  1/150 sublingually PRN chest pain.   \n",
       "4  The patient is a 40-year-old white male who presents with a chief complaint of \"chest pain\". The patient is diabetic and has a prior history of coronary artery disease. The patient presents today stating that his chest pain started yesterday evening and has been somewhat intermittent. He has been advised  81 milligrams QDay.  50 units in a.m.  50 mg QDay.  1/150 sublingually PRN chest pain.   \n",
       "5  The patient is a 40-year-old white male who presents with a chief complaint of \"chest pain\". The patient is diabetic and has a prior history of coronary artery disease. The patient presents today stating that his chest pain started yesterday evening and has been somewhat intermittent. He has been advised  81 milligrams QDay.  50 units in a.m.  50 mg QDay.  1/150 sublingually PRN chest pain.   \n",
       "6               Two weeks prior to presentation , she was treated with a five-day course of  for a respiratory tract infection . She was on  ,  , and  for T2DM and  and  for HTG . She had been on  for six months at the time of presentation .The patient was seen by the endocrinology service and she was discharged on 40 units of  at night , 12 units of  with meals , and  1000 mg two times a day.   \n",
       "7               Two weeks prior to presentation , she was treated with a five-day course of  for a respiratory tract infection . She was on  ,  , and  for T2DM and  and  for HTG . She had been on  for six months at the time of presentation .The patient was seen by the endocrinology service and she was discharged on 40 units of  at night , 12 units of  with meals , and  1000 mg two times a day.   \n",
       "8               Two weeks prior to presentation , she was treated with a five-day course of  for a respiratory tract infection . She was on  ,  , and  for T2DM and  and  for HTG . She had been on  for six months at the time of presentation .The patient was seen by the endocrinology service and she was discharged on 40 units of  at night , 12 units of  with meals , and  1000 mg two times a day.   \n",
       "\n",
       "                       ner_chunk  begin  end       ner_label ner_confidence  \\\n",
       "0                     chest pain     80   89         Symptom         0.7448   \n",
       "1                       diabetic    108  115        Diabetes         0.9994   \n",
       "2                coronary artery    144  158     snomed_term        0.68165   \n",
       "3                 his chest pain    209  222         PROBLEM      0.9519666   \n",
       "4          somewhat intermittent    263  283         PROBLEM        0.71835   \n",
       "5                     chest pain    382  391         Symptom        0.67995   \n",
       "6  a respiratory tract infection     81  109         PROBLEM     0.87114996   \n",
       "7                           T2DM    139  142        Diabetes         0.9779   \n",
       "8                            HTG    158  160  Hyperlipidemia         0.8938   \n",
       "\n",
       "  snomed_code                            snomed_resolution snomed_confidence  \n",
       "0  1264062004                           burning chest pain            0.2747  \n",
       "1   405751000                                diabetes type            0.2538  \n",
       "2   181294004                              coronary artery            0.9099  \n",
       "3  1264062004                           burning chest pain            0.3204  \n",
       "4   225417009                     intermittent observation            0.1883  \n",
       "5  1264062004                           burning chest pain            0.2747  \n",
       "6   787773004  suspected foreign body in respiratory tract            0.1899  \n",
       "7    77036005                                         tma2            0.2305  \n",
       "8    30965005                                          hgf            0.1668  "
      ]
     },
     "execution_count": 9,
     "metadata": {},
     "output_type": "execute_result"
    }
   ],
   "source": [
    "input_json_data = {\"text\": docs}\n",
    "\n",
    "data =  process_data_and_invoke_realtime_endpoint(input_json_data, content_type=\"application/json\" , accept=\"application/json\" )\n",
    "pd.DataFrame(data[\"predictions\"])"
   ]
  },
  {
   "cell_type": "markdown",
   "metadata": {},
   "source": [
    "### JSON Lines"
   ]
  },
  {
   "cell_type": "code",
   "execution_count": 10,
   "metadata": {
    "tags": []
   },
   "outputs": [],
   "source": [
    "import json\n",
    "\n",
    "def create_jsonl(records):\n",
    "    json_records = []\n",
    "\n",
    "    for text in records:\n",
    "        record = {\n",
    "            \"text\": text\n",
    "        }\n",
    "        json_records.append(record)\n",
    "\n",
    "    json_lines = '\\n'.join(json.dumps(record) for record in json_records)\n",
    "\n",
    "    return json_lines\n",
    "\n",
    "input_jsonl_data = create_jsonl(docs)"
   ]
  },
  {
   "cell_type": "markdown",
   "metadata": {},
   "source": [
    "#### Example 1"
   ]
  },
  {
   "cell_type": "markdown",
   "metadata": {},
   "source": [
    "  **Input format**:\n",
    "  \n",
    "```json\n",
    "{\"text\": \"Text document 1\"}\n",
    "{\"text\": \"Text document 2\"}\n",
    "```"
   ]
  },
  {
   "cell_type": "code",
   "execution_count": 11,
   "metadata": {
    "tags": []
   },
   "outputs": [
    {
     "name": "stdout",
     "output_type": "stream",
     "text": [
      "{\"predictions\": [{\"ner_chunk\": \"chest pain\", \"begin\": 80, \"end\": 89, \"ner_label\": \"Symptom\", \"ner_confidence\": \"0.7448\", \"snomed_code\": \"1264062004\", \"snomed_resolution\": \"burning chest pain\", \"snomed_confidence\": \"0.2747\"}, {\"ner_chunk\": \"diabetic\", \"begin\": 108, \"end\": 115, \"ner_label\": \"Diabetes\", \"ner_confidence\": \"0.9994\", \"snomed_code\": \"405751000\", \"snomed_resolution\": \"diabetes type\", \"snomed_confidence\": \"0.2538\"}, {\"ner_chunk\": \"coronary artery\", \"begin\": 144, \"end\": 158, \"ner_label\": \"snomed_term\", \"ner_confidence\": \"0.68165\", \"snomed_code\": \"181294004\", \"snomed_resolution\": \"coronary artery\", \"snomed_confidence\": \"0.9099\"}, {\"ner_chunk\": \"his chest pain\", \"begin\": 209, \"end\": 222, \"ner_label\": \"PROBLEM\", \"ner_confidence\": \"0.9519666\", \"snomed_code\": \"1264062004\", \"snomed_resolution\": \"burning chest pain\", \"snomed_confidence\": \"0.3204\"}, {\"ner_chunk\": \"somewhat intermittent\", \"begin\": 263, \"end\": 283, \"ner_label\": \"PROBLEM\", \"ner_confidence\": \"0.71835\", \"snomed_code\": \"225417009\", \"snomed_resolution\": \"intermittent observation\", \"snomed_confidence\": \"0.1883\"}, {\"ner_chunk\": \"chest pain\", \"begin\": 382, \"end\": 391, \"ner_label\": \"Symptom\", \"ner_confidence\": \"0.67995\", \"snomed_code\": \"1264062004\", \"snomed_resolution\": \"burning chest pain\", \"snomed_confidence\": \"0.2747\"}]}\n",
      "{\"predictions\": [{\"ner_chunk\": \"a respiratory tract infection\", \"begin\": 81, \"end\": 109, \"ner_label\": \"PROBLEM\", \"ner_confidence\": \"0.87114996\", \"snomed_code\": \"787773004\", \"snomed_resolution\": \"suspected foreign body in respiratory tract\", \"snomed_confidence\": \"0.1899\"}, {\"ner_chunk\": \"T2DM\", \"begin\": 139, \"end\": 142, \"ner_label\": \"Diabetes\", \"ner_confidence\": \"0.9779\", \"snomed_code\": \"77036005\", \"snomed_resolution\": \"tma2\", \"snomed_confidence\": \"0.2305\"}, {\"ner_chunk\": \"HTG\", \"begin\": 158, \"end\": 160, \"ner_label\": \"Hyperlipidemia\", \"ner_confidence\": \"0.8938\", \"snomed_code\": \"30965005\", \"snomed_resolution\": \"hgf\", \"snomed_confidence\": \"0.1668\"}]}\n"
     ]
    }
   ],
   "source": [
    "data = process_data_and_invoke_realtime_endpoint(input_jsonl_data, content_type=\"application/jsonlines\" , accept=\"application/jsonlines\" )\n",
    "print(data)"
   ]
  },
  {
   "cell_type": "markdown",
   "metadata": {},
   "source": [
    "### C. Delete the endpoint"
   ]
  },
  {
   "cell_type": "markdown",
   "metadata": {},
   "source": [
    "Now that you have successfully performed a real-time inference, you do not need the endpoint any more. You can terminate the endpoint to avoid being charged."
   ]
  },
  {
   "cell_type": "code",
   "execution_count": 12,
   "metadata": {
    "tags": []
   },
   "outputs": [],
   "source": [
    "model.sagemaker_session.delete_endpoint(model_name)\n",
    "model.sagemaker_session.delete_endpoint_config(model_name)"
   ]
  },
  {
   "cell_type": "markdown",
   "metadata": {
    "tags": []
   },
   "source": [
    "## 3. Batch inference"
   ]
  },
  {
   "cell_type": "code",
   "execution_count": 13,
   "metadata": {
    "tags": []
   },
   "outputs": [],
   "source": [
    "import json\n",
    "import os\n",
    "\n",
    "input_dir = 'inputs/batch'\n",
    "json_input_dir = f\"{input_dir}/json\"\n",
    "jsonl_input_dir = f\"{input_dir}/jsonl\"\n",
    "\n",
    "output_dir = 'outputs/batch'\n",
    "json_output_dir = f\"{output_dir}/json\"\n",
    "jsonl_output_dir = f\"{output_dir}/jsonl\"\n",
    "\n",
    "os.makedirs(json_input_dir, exist_ok=True)\n",
    "os.makedirs(jsonl_input_dir, exist_ok=True)\n",
    "os.makedirs(json_output_dir, exist_ok=True)\n",
    "os.makedirs(jsonl_output_dir, exist_ok=True)\n",
    "\n",
    "validation_json_file_name = \"input.json\"\n",
    "\n",
    "validation_jsonl_file_name = \"input.jsonl\"\n",
    "\n",
    "validation_input_json_path = f\"s3://{s3_bucket}/{model_name}/validation-input/batch/json/\"\n",
    "validation_output_json_path = f\"s3://{s3_bucket}/{model_name}/validation-output/batch/json/\"\n",
    "\n",
    "validation_input_jsonl_path = f\"s3://{s3_bucket}/{model_name}/validation-input/batch/jsonl/\"\n",
    "validation_output_jsonl_path = f\"s3://{s3_bucket}/{model_name}/validation-output/batch/jsonl/\"\n",
    "\n",
    "def write_and_upload_to_s3(input_data, file_name):\n",
    "    file_format = os.path.splitext(file_name)[1].lower()\n",
    "    if file_format == \".json\":\n",
    "        input_data = json.dumps(input_data)\n",
    "\n",
    "    with open(file_name, \"w\") as f:\n",
    "        f.write(input_data)\n",
    "\n",
    "    s3_client.put_object(\n",
    "        Bucket=s3_bucket,\n",
    "        Key=f\"{model_name}/validation-input/batch/{file_format[1:]}/{os.path.basename(file_name)}\",\n",
    "        Body=(bytes(input_data.encode(\"UTF-8\"))),\n",
    "    )"
   ]
  },
  {
   "cell_type": "code",
   "execution_count": 14,
   "metadata": {
    "tags": []
   },
   "outputs": [],
   "source": [
    "input_jsonl_data = create_jsonl(docs)\n",
    "input_json_data = {\"text\": docs}\n",
    "\n",
    "write_and_upload_to_s3(input_json_data, f\"{json_input_dir}/{validation_json_file_name}\")\n",
    "\n",
    "write_and_upload_to_s3(input_jsonl_data, f\"{jsonl_input_dir}/{validation_jsonl_file_name}\")"
   ]
  },
  {
   "cell_type": "markdown",
   "metadata": {},
   "source": [
    "### JSON"
   ]
  },
  {
   "cell_type": "code",
   "execution_count": null,
   "metadata": {
    "tags": []
   },
   "outputs": [],
   "source": [
    "# Initialize a SageMaker Transformer object for making predictions\n",
    "transformer = model.transformer(\n",
    "    instance_count=1,\n",
    "    instance_type=batch_transform_inference_instance_type,\n",
    "    accept=\"application/json\",\n",
    "    output_path=validation_output_json_path\n",
    ")\n",
    "\n",
    "transformer.transform(validation_input_json_path, content_type=\"application/json\")\n",
    "transformer.wait()"
   ]
  },
  {
   "cell_type": "code",
   "execution_count": 16,
   "metadata": {
    "tags": []
   },
   "outputs": [],
   "source": [
    "from urllib.parse import urlparse\n",
    "\n",
    "def process_s3_json_output_and_save(validation_file_name):\n",
    "\n",
    "    output_file_path = f\"{json_output_dir}/{validation_file_name}.out\"\n",
    "    parsed_url = urlparse(transformer.output_path)\n",
    "    file_key = f\"{parsed_url.path[1:]}{validation_file_name}.out\"\n",
    "    response = s3_client.get_object(Bucket=s3_bucket, Key=file_key)\n",
    "\n",
    "    data = json.loads(response[\"Body\"].read().decode(\"utf-8\"))\n",
    "    df = pd.DataFrame(data[\"predictions\"])\n",
    "    display(df)\n",
    "\n",
    "    # Save the data to the output file\n",
    "    with open(output_file_path, 'w') as f_out:\n",
    "        json.dump(data, f_out, indent=4)"
   ]
  },
  {
   "cell_type": "code",
   "execution_count": 17,
   "metadata": {
    "tags": []
   },
   "outputs": [
    {
     "data": {
      "text/html": [
       "<div>\n",
       "<style scoped>\n",
       "    .dataframe tbody tr th:only-of-type {\n",
       "        vertical-align: middle;\n",
       "    }\n",
       "\n",
       "    .dataframe tbody tr th {\n",
       "        vertical-align: top;\n",
       "    }\n",
       "\n",
       "    .dataframe thead th {\n",
       "        text-align: right;\n",
       "    }\n",
       "</style>\n",
       "<table border=\"1\" class=\"dataframe\">\n",
       "  <thead>\n",
       "    <tr style=\"text-align: right;\">\n",
       "      <th></th>\n",
       "      <th>document</th>\n",
       "      <th>ner_chunk</th>\n",
       "      <th>begin</th>\n",
       "      <th>end</th>\n",
       "      <th>ner_label</th>\n",
       "      <th>ner_confidence</th>\n",
       "      <th>snomed_code</th>\n",
       "      <th>snomed_resolution</th>\n",
       "      <th>snomed_confidence</th>\n",
       "    </tr>\n",
       "  </thead>\n",
       "  <tbody>\n",
       "    <tr>\n",
       "      <th>0</th>\n",
       "      <td>The patient is a 40-year-old white male who presents with a chief complaint of \"chest pain\". The patient is diabetic and has a prior history of coronary artery disease. The patient presents today stating that his chest pain started yesterday evening and has been somewhat intermittent. He has been advised  81 milligrams QDay.  50 units in a.m.  50 mg QDay.  1/150 sublingually PRN chest pain.</td>\n",
       "      <td>chest pain</td>\n",
       "      <td>80</td>\n",
       "      <td>89</td>\n",
       "      <td>Symptom</td>\n",
       "      <td>0.7448</td>\n",
       "      <td>1264062004</td>\n",
       "      <td>burning chest pain</td>\n",
       "      <td>0.2747</td>\n",
       "    </tr>\n",
       "    <tr>\n",
       "      <th>1</th>\n",
       "      <td>The patient is a 40-year-old white male who presents with a chief complaint of \"chest pain\". The patient is diabetic and has a prior history of coronary artery disease. The patient presents today stating that his chest pain started yesterday evening and has been somewhat intermittent. He has been advised  81 milligrams QDay.  50 units in a.m.  50 mg QDay.  1/150 sublingually PRN chest pain.</td>\n",
       "      <td>diabetic</td>\n",
       "      <td>108</td>\n",
       "      <td>115</td>\n",
       "      <td>Diabetes</td>\n",
       "      <td>0.9994</td>\n",
       "      <td>405751000</td>\n",
       "      <td>diabetes type</td>\n",
       "      <td>0.2538</td>\n",
       "    </tr>\n",
       "    <tr>\n",
       "      <th>2</th>\n",
       "      <td>The patient is a 40-year-old white male who presents with a chief complaint of \"chest pain\". The patient is diabetic and has a prior history of coronary artery disease. The patient presents today stating that his chest pain started yesterday evening and has been somewhat intermittent. He has been advised  81 milligrams QDay.  50 units in a.m.  50 mg QDay.  1/150 sublingually PRN chest pain.</td>\n",
       "      <td>coronary artery</td>\n",
       "      <td>144</td>\n",
       "      <td>158</td>\n",
       "      <td>snomed_term</td>\n",
       "      <td>0.68165</td>\n",
       "      <td>181294004</td>\n",
       "      <td>coronary artery</td>\n",
       "      <td>0.9099</td>\n",
       "    </tr>\n",
       "    <tr>\n",
       "      <th>3</th>\n",
       "      <td>The patient is a 40-year-old white male who presents with a chief complaint of \"chest pain\". The patient is diabetic and has a prior history of coronary artery disease. The patient presents today stating that his chest pain started yesterday evening and has been somewhat intermittent. He has been advised  81 milligrams QDay.  50 units in a.m.  50 mg QDay.  1/150 sublingually PRN chest pain.</td>\n",
       "      <td>his chest pain</td>\n",
       "      <td>209</td>\n",
       "      <td>222</td>\n",
       "      <td>PROBLEM</td>\n",
       "      <td>0.9519666</td>\n",
       "      <td>1264062004</td>\n",
       "      <td>burning chest pain</td>\n",
       "      <td>0.3204</td>\n",
       "    </tr>\n",
       "    <tr>\n",
       "      <th>4</th>\n",
       "      <td>The patient is a 40-year-old white male who presents with a chief complaint of \"chest pain\". The patient is diabetic and has a prior history of coronary artery disease. The patient presents today stating that his chest pain started yesterday evening and has been somewhat intermittent. He has been advised  81 milligrams QDay.  50 units in a.m.  50 mg QDay.  1/150 sublingually PRN chest pain.</td>\n",
       "      <td>somewhat intermittent</td>\n",
       "      <td>263</td>\n",
       "      <td>283</td>\n",
       "      <td>PROBLEM</td>\n",
       "      <td>0.71835</td>\n",
       "      <td>225417009</td>\n",
       "      <td>intermittent observation</td>\n",
       "      <td>0.1883</td>\n",
       "    </tr>\n",
       "    <tr>\n",
       "      <th>5</th>\n",
       "      <td>The patient is a 40-year-old white male who presents with a chief complaint of \"chest pain\". The patient is diabetic and has a prior history of coronary artery disease. The patient presents today stating that his chest pain started yesterday evening and has been somewhat intermittent. He has been advised  81 milligrams QDay.  50 units in a.m.  50 mg QDay.  1/150 sublingually PRN chest pain.</td>\n",
       "      <td>chest pain</td>\n",
       "      <td>382</td>\n",
       "      <td>391</td>\n",
       "      <td>Symptom</td>\n",
       "      <td>0.67995</td>\n",
       "      <td>1264062004</td>\n",
       "      <td>burning chest pain</td>\n",
       "      <td>0.2747</td>\n",
       "    </tr>\n",
       "    <tr>\n",
       "      <th>6</th>\n",
       "      <td>Two weeks prior to presentation , she was treated with a five-day course of  for a respiratory tract infection . She was on  ,  , and  for T2DM and  and  for HTG . She had been on  for six months at the time of presentation .The patient was seen by the endocrinology service and she was discharged on 40 units of  at night , 12 units of  with meals , and  1000 mg two times a day.</td>\n",
       "      <td>a respiratory tract infection</td>\n",
       "      <td>81</td>\n",
       "      <td>109</td>\n",
       "      <td>PROBLEM</td>\n",
       "      <td>0.87114996</td>\n",
       "      <td>787773004</td>\n",
       "      <td>suspected foreign body in respiratory tract</td>\n",
       "      <td>0.1899</td>\n",
       "    </tr>\n",
       "    <tr>\n",
       "      <th>7</th>\n",
       "      <td>Two weeks prior to presentation , she was treated with a five-day course of  for a respiratory tract infection . She was on  ,  , and  for T2DM and  and  for HTG . She had been on  for six months at the time of presentation .The patient was seen by the endocrinology service and she was discharged on 40 units of  at night , 12 units of  with meals , and  1000 mg two times a day.</td>\n",
       "      <td>T2DM</td>\n",
       "      <td>139</td>\n",
       "      <td>142</td>\n",
       "      <td>Diabetes</td>\n",
       "      <td>0.9779</td>\n",
       "      <td>77036005</td>\n",
       "      <td>tma2</td>\n",
       "      <td>0.2305</td>\n",
       "    </tr>\n",
       "    <tr>\n",
       "      <th>8</th>\n",
       "      <td>Two weeks prior to presentation , she was treated with a five-day course of  for a respiratory tract infection . She was on  ,  , and  for T2DM and  and  for HTG . She had been on  for six months at the time of presentation .The patient was seen by the endocrinology service and she was discharged on 40 units of  at night , 12 units of  with meals , and  1000 mg two times a day.</td>\n",
       "      <td>HTG</td>\n",
       "      <td>158</td>\n",
       "      <td>160</td>\n",
       "      <td>Hyperlipidemia</td>\n",
       "      <td>0.8938</td>\n",
       "      <td>30965005</td>\n",
       "      <td>hgf</td>\n",
       "      <td>0.1668</td>\n",
       "    </tr>\n",
       "  </tbody>\n",
       "</table>\n",
       "</div>"
      ],
      "text/plain": [
       "                                                                                                                                                                                                                                                                                                                                                                                                    document  \\\n",
       "0  The patient is a 40-year-old white male who presents with a chief complaint of \"chest pain\". The patient is diabetic and has a prior history of coronary artery disease. The patient presents today stating that his chest pain started yesterday evening and has been somewhat intermittent. He has been advised  81 milligrams QDay.  50 units in a.m.  50 mg QDay.  1/150 sublingually PRN chest pain.   \n",
       "1  The patient is a 40-year-old white male who presents with a chief complaint of \"chest pain\". The patient is diabetic and has a prior history of coronary artery disease. The patient presents today stating that his chest pain started yesterday evening and has been somewhat intermittent. He has been advised  81 milligrams QDay.  50 units in a.m.  50 mg QDay.  1/150 sublingually PRN chest pain.   \n",
       "2  The patient is a 40-year-old white male who presents with a chief complaint of \"chest pain\". The patient is diabetic and has a prior history of coronary artery disease. The patient presents today stating that his chest pain started yesterday evening and has been somewhat intermittent. He has been advised  81 milligrams QDay.  50 units in a.m.  50 mg QDay.  1/150 sublingually PRN chest pain.   \n",
       "3  The patient is a 40-year-old white male who presents with a chief complaint of \"chest pain\". The patient is diabetic and has a prior history of coronary artery disease. The patient presents today stating that his chest pain started yesterday evening and has been somewhat intermittent. He has been advised  81 milligrams QDay.  50 units in a.m.  50 mg QDay.  1/150 sublingually PRN chest pain.   \n",
       "4  The patient is a 40-year-old white male who presents with a chief complaint of \"chest pain\". The patient is diabetic and has a prior history of coronary artery disease. The patient presents today stating that his chest pain started yesterday evening and has been somewhat intermittent. He has been advised  81 milligrams QDay.  50 units in a.m.  50 mg QDay.  1/150 sublingually PRN chest pain.   \n",
       "5  The patient is a 40-year-old white male who presents with a chief complaint of \"chest pain\". The patient is diabetic and has a prior history of coronary artery disease. The patient presents today stating that his chest pain started yesterday evening and has been somewhat intermittent. He has been advised  81 milligrams QDay.  50 units in a.m.  50 mg QDay.  1/150 sublingually PRN chest pain.   \n",
       "6               Two weeks prior to presentation , she was treated with a five-day course of  for a respiratory tract infection . She was on  ,  , and  for T2DM and  and  for HTG . She had been on  for six months at the time of presentation .The patient was seen by the endocrinology service and she was discharged on 40 units of  at night , 12 units of  with meals , and  1000 mg two times a day.   \n",
       "7               Two weeks prior to presentation , she was treated with a five-day course of  for a respiratory tract infection . She was on  ,  , and  for T2DM and  and  for HTG . She had been on  for six months at the time of presentation .The patient was seen by the endocrinology service and she was discharged on 40 units of  at night , 12 units of  with meals , and  1000 mg two times a day.   \n",
       "8               Two weeks prior to presentation , she was treated with a five-day course of  for a respiratory tract infection . She was on  ,  , and  for T2DM and  and  for HTG . She had been on  for six months at the time of presentation .The patient was seen by the endocrinology service and she was discharged on 40 units of  at night , 12 units of  with meals , and  1000 mg two times a day.   \n",
       "\n",
       "                       ner_chunk  begin  end       ner_label ner_confidence  \\\n",
       "0                     chest pain     80   89         Symptom         0.7448   \n",
       "1                       diabetic    108  115        Diabetes         0.9994   \n",
       "2                coronary artery    144  158     snomed_term        0.68165   \n",
       "3                 his chest pain    209  222         PROBLEM      0.9519666   \n",
       "4          somewhat intermittent    263  283         PROBLEM        0.71835   \n",
       "5                     chest pain    382  391         Symptom        0.67995   \n",
       "6  a respiratory tract infection     81  109         PROBLEM     0.87114996   \n",
       "7                           T2DM    139  142        Diabetes         0.9779   \n",
       "8                            HTG    158  160  Hyperlipidemia         0.8938   \n",
       "\n",
       "  snomed_code                            snomed_resolution snomed_confidence  \n",
       "0  1264062004                           burning chest pain            0.2747  \n",
       "1   405751000                                diabetes type            0.2538  \n",
       "2   181294004                              coronary artery            0.9099  \n",
       "3  1264062004                           burning chest pain            0.3204  \n",
       "4   225417009                     intermittent observation            0.1883  \n",
       "5  1264062004                           burning chest pain            0.2747  \n",
       "6   787773004  suspected foreign body in respiratory tract            0.1899  \n",
       "7    77036005                                         tma2            0.2305  \n",
       "8    30965005                                          hgf            0.1668  "
      ]
     },
     "metadata": {},
     "output_type": "display_data"
    }
   ],
   "source": [
    "process_s3_json_output_and_save(validation_json_file_name)"
   ]
  },
  {
   "cell_type": "markdown",
   "metadata": {},
   "source": [
    "### JSON Lines"
   ]
  },
  {
   "cell_type": "code",
   "execution_count": null,
   "metadata": {
    "tags": []
   },
   "outputs": [],
   "source": [
    "transformer = model.transformer(\n",
    "    instance_count=1,\n",
    "    instance_type=batch_transform_inference_instance_type,\n",
    "    accept=\"application/jsonlines\",\n",
    "    output_path=validation_output_jsonl_path\n",
    ")\n",
    "transformer.transform(validation_input_jsonl_path, content_type=\"application/jsonlines\")\n",
    "transformer.wait()"
   ]
  },
  {
   "cell_type": "code",
   "execution_count": 19,
   "metadata": {
    "tags": []
   },
   "outputs": [],
   "source": [
    "from urllib.parse import urlparse\n",
    "\n",
    "def process_s3_jsonlines_output_and_save(validation_file_name):\n",
    "\n",
    "    output_file_path = f\"{jsonl_output_dir}/{validation_file_name}.out\"\n",
    "    parsed_url = urlparse(transformer.output_path)\n",
    "    file_key = f\"{parsed_url.path[1:]}{validation_file_name}.out\"\n",
    "    response = s3_client.get_object(Bucket=s3_bucket, Key=file_key)\n",
    "\n",
    "    data = response[\"Body\"].read().decode(\"utf-8\")\n",
    "    print(data)\n",
    "\n",
    "    # Save the data to the output file\n",
    "    with open(output_file_path, 'w') as f_out:\n",
    "        for item in data.split('\\n'):\n",
    "            f_out.write(item + '\\n')"
   ]
  },
  {
   "cell_type": "code",
   "execution_count": 20,
   "metadata": {
    "tags": []
   },
   "outputs": [
    {
     "name": "stdout",
     "output_type": "stream",
     "text": [
      "{\"predictions\": [{\"ner_chunk\": \"chest pain\", \"begin\": 80, \"end\": 89, \"ner_label\": \"Symptom\", \"ner_confidence\": \"0.7448\", \"snomed_code\": \"1264062004\", \"snomed_resolution\": \"burning chest pain\", \"snomed_confidence\": \"0.2747\"}, {\"ner_chunk\": \"diabetic\", \"begin\": 108, \"end\": 115, \"ner_label\": \"Diabetes\", \"ner_confidence\": \"0.9994\", \"snomed_code\": \"405751000\", \"snomed_resolution\": \"diabetes type\", \"snomed_confidence\": \"0.2538\"}, {\"ner_chunk\": \"coronary artery\", \"begin\": 144, \"end\": 158, \"ner_label\": \"snomed_term\", \"ner_confidence\": \"0.68165\", \"snomed_code\": \"181294004\", \"snomed_resolution\": \"coronary artery\", \"snomed_confidence\": \"0.9099\"}, {\"ner_chunk\": \"his chest pain\", \"begin\": 209, \"end\": 222, \"ner_label\": \"PROBLEM\", \"ner_confidence\": \"0.9519666\", \"snomed_code\": \"1264062004\", \"snomed_resolution\": \"burning chest pain\", \"snomed_confidence\": \"0.3204\"}, {\"ner_chunk\": \"somewhat intermittent\", \"begin\": 263, \"end\": 283, \"ner_label\": \"PROBLEM\", \"ner_confidence\": \"0.71835\", \"snomed_code\": \"225417009\", \"snomed_resolution\": \"intermittent observation\", \"snomed_confidence\": \"0.1883\"}, {\"ner_chunk\": \"chest pain\", \"begin\": 382, \"end\": 391, \"ner_label\": \"Symptom\", \"ner_confidence\": \"0.67995\", \"snomed_code\": \"1264062004\", \"snomed_resolution\": \"burning chest pain\", \"snomed_confidence\": \"0.2747\"}]}\n",
      "{\"predictions\": [{\"ner_chunk\": \"a respiratory tract infection\", \"begin\": 81, \"end\": 109, \"ner_label\": \"PROBLEM\", \"ner_confidence\": \"0.87114996\", \"snomed_code\": \"787773004\", \"snomed_resolution\": \"suspected foreign body in respiratory tract\", \"snomed_confidence\": \"0.1899\"}, {\"ner_chunk\": \"T2DM\", \"begin\": 139, \"end\": 142, \"ner_label\": \"Diabetes\", \"ner_confidence\": \"0.9779\", \"snomed_code\": \"77036005\", \"snomed_resolution\": \"tma2\", \"snomed_confidence\": \"0.2305\"}, {\"ner_chunk\": \"HTG\", \"begin\": 158, \"end\": 160, \"ner_label\": \"Hyperlipidemia\", \"ner_confidence\": \"0.8938\", \"snomed_code\": \"30965005\", \"snomed_resolution\": \"hgf\", \"snomed_confidence\": \"0.1668\"}]}\n"
     ]
    }
   ],
   "source": [
    "process_s3_jsonlines_output_and_save(validation_jsonl_file_name)"
   ]
  },
  {
   "cell_type": "code",
   "execution_count": 21,
   "metadata": {
    "tags": []
   },
   "outputs": [
    {
     "name": "stderr",
     "output_type": "stream",
     "text": [
      "INFO:sagemaker:Deleting model with name: snomed-resolver-pipeline-2024-06-10-13-32-30-750\n"
     ]
    }
   ],
   "source": [
    "model.delete_model()"
   ]
  },
  {
   "cell_type": "markdown",
   "metadata": {},
   "source": [
    "### Unsubscribe to the listing (optional)"
   ]
  },
  {
   "cell_type": "markdown",
   "metadata": {
    "tags": []
   },
   "source": [
    "If you would like to unsubscribe to the model package, follow these steps. Before you cancel the subscription, ensure that you do not have any [deployable model](https://console.aws.amazon.com/sagemaker/home#/models) created from the model package or using the algorithm. Note - You can find this information by looking at the container name associated with the model. \n",
    "\n",
    "**Steps to unsubscribe to product from AWS Marketplace**:\n",
    "1. Navigate to __Machine Learning__ tab on [__Your Software subscriptions page__](https://aws.amazon.com/marketplace/ai/library?productType=ml&ref_=mlmp_gitdemo_indust)\n",
    "2. Locate the listing that you want to cancel the subscription for, and then choose __Cancel Subscription__  to cancel the subscription.\n",
    "\n"
   ]
  }
 ],
 "metadata": {
  "instance_type": "ml.t3.medium",
  "kernelspec": {
   "display_name": "conda_python3",
   "language": "python",
   "name": "conda_python3"
  },
  "language_info": {
   "codemirror_mode": {
    "name": "ipython",
    "version": 3
   },
   "file_extension": ".py",
   "mimetype": "text/x-python",
   "name": "python",
   "nbconvert_exporter": "python",
   "pygments_lexer": "ipython3",
   "version": "3.10.14"
  }
 },
 "nbformat": 4,
 "nbformat_minor": 4
}

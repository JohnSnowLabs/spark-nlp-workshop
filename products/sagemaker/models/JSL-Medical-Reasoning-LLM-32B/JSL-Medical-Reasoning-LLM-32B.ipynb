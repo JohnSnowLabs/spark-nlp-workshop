{
 "cells": [
  {
   "cell_type": "markdown",
   "id": "82a4cf96-c239-49cc-88f9-a8e885bde191",
   "metadata": {},
   "source": [
    "## 1. Subscribe to the model package"
   ]
  },
  {
   "cell_type": "markdown",
   "id": "982d6ab4-d03d-4a5a-ab23-144d8e6ec3d6",
   "metadata": {},
   "source": [
    "To subscribe to the model package:\n",
    "1. Open the model package listing page [Medical Reasoning LLM - 32B]()\n",
    "1. On the AWS Marketplace listing, click on the **Continue to subscribe** button.\n",
    "1. On the **Subscribe to this software** page, review and click on **\"Accept Offer\"** if you and your organization agrees with EULA, pricing, and support terms. \n",
    "1. Once you click on **Continue to configuration button** and then choose a **region**, you will see a **Product Arn** displayed. This is the model package ARN that you need to specify while creating a deployable model using Boto3. Copy the ARN corresponding to your region and specify the same in the following cell."
   ]
  },
  {
   "cell_type": "markdown",
   "id": "dad4b722-a125-4219-9c22-009acf75414d",
   "metadata": {},
   "source": [
    "- **Model**: `JSL-Medical-Reasoning-LLM-32B`\n",
    "- **Model Description**: Medical model for summarization, question answering (open-book and closed-book), and general chat."
   ]
  },
  {
   "cell_type": "code",
   "execution_count": 1,
   "id": "9d1fb27b-e0ad-4759-937d-ae4edc209fc1",
   "metadata": {
    "tags": []
   },
   "outputs": [],
   "source": [
    "model_package_arn = \"<Customer to specify Model package ARN corresponding to their AWS region>\""
   ]
  },
  {
   "cell_type": "code",
   "execution_count": null,
   "id": "76ede1bf-2acb-4b5d-9db1-299abfeee20b",
   "metadata": {
    "tags": []
   },
   "outputs": [],
   "source": [
    "import os\n",
    "import base64\n",
    "import json\n",
    "import uuid\n",
    "from sagemaker import ModelPackage\n",
    "import sagemaker as sage\n",
    "from sagemaker import get_execution_role\n",
    "import boto3\n",
    "from IPython.display import Image, display\n",
    "from PIL import Image as ImageEdit\n",
    "import numpy as np\n",
    "import pandas as pd\n",
    "\n",
    "pd.set_option('display.max_rows', None)\n",
    "pd.set_option('display.max_columns', None)\n",
    "pd.set_option('display.max_colwidth', None)\n",
    "\n",
    "sagemaker_session = sage.Session()\n",
    "s3_bucket = sagemaker_session.default_bucket()\n",
    "region = sagemaker_session.boto_region_name\n",
    "account_id = boto3.client(\"sts\").get_caller_identity().get(\"Account\")\n",
    "role = get_execution_role()\n",
    "\n",
    "sagemaker = boto3.client(\"sagemaker\")\n",
    "s3_client = sagemaker_session.boto_session.client(\"s3\")\n",
    "ecr = boto3.client(\"ecr\")\n",
    "sm_runtime = boto3.client(\"sagemaker-runtime\")"
   ]
  },
  {
   "cell_type": "code",
   "execution_count": 9,
   "id": "07846ed0-ed90-4a11-a77c-00d1c3ca3cbd",
   "metadata": {
    "tags": []
   },
   "outputs": [],
   "source": [
    "model_name = \"JSL-Medical-Reasoning-LLM-32B\"\n",
    "\n",
    "real_time_inference_instance_type = \"ml.g5.48xlarge\"\n",
    "batch_transform_inference_instance_type = \"ml.g5.48xlarge\""
   ]
  },
  {
   "cell_type": "markdown",
   "id": "08a626b7-f295-4c49-b856-ce237d5d3203",
   "metadata": {},
   "source": [
    "## 2. Create a deployable model from the model package."
   ]
  },
  {
   "cell_type": "code",
   "execution_count": 66,
   "id": "0e39b84b-7a9f-4004-a204-56af1fd555f1",
   "metadata": {
    "tags": []
   },
   "outputs": [],
   "source": [
    "# Define ModelPackage\n",
    "model = ModelPackage(\n",
    "    role=role, \n",
    "    model_package_arn=model_package_arn, \n",
    "    sagemaker_session=sagemaker_session, \n",
    ")"
   ]
  },
  {
   "cell_type": "markdown",
   "id": "9e3a3a54-98d8-4a8a-b812-c33db9a2aa7d",
   "metadata": {},
   "source": [
    "## Model Configuration Documentation  \n",
    "\n",
    "### Default Configuration  \n",
    "The container comes with the following default configurations:  \n",
    "\n",
    "| Parameter                  | Default Value | Description                                                                   |  \n",
    "|----------------------------|---------------|-------------------------------------------------------------------------------|  \n",
    "| **`dtype`**                | `float16`     | Data type for model weights and activations                                   |  \n",
    "| **`max_model_len`**        | `32,768`      | Default maximum context length (`input + output ≤ max_model_len`). Automatically increases to `131,072` if GPU memory ≥ 240GB |  \n",
    "| **`tensor_parallel_size`** | Auto          | Automatically set to the number of available GPUs                            |  \n",
    "| **`host`**                 | `0.0.0.0`     | Host name                                                                     |  \n",
    "| **`port`**                 | `8080`        | Port number                                                                   |  \n",
    "\n",
    "### Hardcoded Settings  \n",
    "The following settings are hardcoded in the container and cannot be changed:  \n",
    "\n",
    "| Parameter       | Value           | Description                           |  \n",
    "|-----------------|-----------------|---------------------------------------|  \n",
    "| **`model`**     | `/opt/ml/model` | Model path where SageMaker mounts the model |  \n",
    "\n",
    "### Configurable Environment Variables  \n",
    "You can customize the vLLM server by setting environment variables when creating the model.  \n",
    "\n",
    "**Any parameter from the [vLLM documentation](https://docs.vllm.ai/en/latest/serving/openai_compatible_server.html#vllm-serve) can be set using the corresponding environment variable with the `SM_VLLM_` prefix.**  \n",
    "\n",
    "The container uses a script similar to the [SageMaker entrypoint example](https://docs.vllm.ai/en/latest/examples/sagemaker_entrypoint.html) from the vLLM documentation to convert environment variables to command-line arguments.  \n",
    "\n",
    "---  \n",
    "\n",
    "## Input Format  \n",
    "\n",
    "### 1. Chat Completion  \n",
    "\n",
    "#### Example Payload  \n",
    "```json  \n",
    "{  \n",
    "    \"model\": \"/opt/ml/model\",  \n",
    "    \"messages\": [  \n",
    "        {\"role\": \"system\", \"content\": \"You are a helpful medical assistant.\"},  \n",
    "        {\"role\": \"user\", \"content\": \"What should I do if I have a fever and body aches?\"}  \n",
    "    ],  \n",
    "    \"max_tokens\": 1024,  \n",
    "    \"temperature\": 0.7  \n",
    "}  \n",
    "```  \n",
    "\n",
    "For additional parameters:  \n",
    "- [ChatCompletionRequest](https://github.com/vllm-project/vllm/blob/v0.7.3/vllm/entrypoints/openai/protocol.py#L212)  \n",
    "- [OpenAI's Chat API](https://platform.openai.com/docs/api-reference/chat/create)  \n",
    "\n",
    "---  \n",
    "\n",
    "### 2. Text Completion  \n",
    "\n",
    "#### Single Prompt Example  \n",
    "```json  \n",
    "{  \n",
    "    \"model\": \"/opt/ml/model\",  \n",
    "    \"prompt\": \"How can I maintain good kidney health?\",  \n",
    "    \"max_tokens\": 512,  \n",
    "    \"temperature\": 0.6  \n",
    "}  \n",
    "```  \n",
    "\n",
    "#### Multiple Prompts Example  \n",
    "```json  \n",
    "{  \n",
    "    \"model\": \"/opt/ml/model\",  \n",
    "    \"prompt\": [  \n",
    "        \"How can I maintain good kidney health?\",  \n",
    "        \"What are the best practices for kidney care?\"  \n",
    "    ],  \n",
    "    \"max_tokens\": 512,  \n",
    "    \"temperature\": 0.6  \n",
    "}  \n",
    "```  \n",
    "\n",
    "Reference:  \n",
    "- [CompletionRequest](https://github.com/vllm-project/vllm/blob/v0.7.3/vllm/entrypoints/openai/protocol.py#L642)  \n",
    "- [OpenAI's Completions API](https://platform.openai.com/docs/api-reference/completions/create)  \n",
    "\n",
    "---  \n",
    "\n",
    "### Important Notes:\n",
    "- **Streaming Responses:** Add `\"stream\": true` to your request payload to enable streaming\n",
    "- **Model Path Requirement:** Always set `\"model\": \"/opt/ml/model\"` (SageMaker's fixed model location)\n"
   ]
  },
  {
   "cell_type": "markdown",
   "id": "6a846275-5af5-4679-9c52-d35ab157455b",
   "metadata": {},
   "source": [
    "## 3. Create an SageMaker Endpoint"
   ]
  },
  {
   "cell_type": "markdown",
   "id": "01b670fa-60d4-45a4-a0d6-3e8e2845b625",
   "metadata": {},
   "source": [
    "If you want to understand how real-time inference with Amazon SageMaker works, see [Documentation](https://docs.aws.amazon.com/sagemaker/latest/dg/how-it-works-hosting.html)."
   ]
  },
  {
   "cell_type": "code",
   "execution_count": null,
   "id": "8c19c0c0-3ead-4834-8c02-a192da19080b",
   "metadata": {
    "tags": []
   },
   "outputs": [],
   "source": [
    "# Deploy the model\n",
    "predictor = model.deploy(\n",
    "    initial_instance_count=1,\n",
    "    instance_type=real_time_inference_instance_type, \n",
    "    endpoint_name=model_name,\n",
    "    model_data_download_timeout=3600\n",
    ")"
   ]
  },
  {
   "cell_type": "markdown",
   "id": "23d5c01b-b884-49c6-8b74-98911f6d8e5b",
   "metadata": {},
   "source": [
    "### 3.1 Real-time inference via Amazon SageMaker Endpoint"
   ]
  },
  {
   "cell_type": "markdown",
   "id": "07f13be5-3f3b-45db-829d-b99d4584913f",
   "metadata": {},
   "source": [
    "#### Initial setup"
   ]
  },
  {
   "cell_type": "code",
   "execution_count": 101,
   "id": "7b61fa7d-8d76-476f-91e2-8fea89e7dfa5",
   "metadata": {
    "tags": []
   },
   "outputs": [],
   "source": [
    "prompt1 = \"\"\"A 23-year-old pregnant woman at 22 weeks gestation presents with burning upon urination. She states it started 1 day ago and has been worsening despite drinking more water and taking cranberry extract. She otherwise feels well and is followed by a doctor for her pregnancy. Her temperature is 97.7°F (36.5°C), blood pressure is 122/77 mmHg, pulse is 80/min, respirations are 19/min, and oxygen saturation is 98% on room air. Physical exam is notable for an absence of costovertebral angle tenderness and a gravid uterus.\n",
    "\n",
    "Which of the following is the best treatment for this patient?\n",
    "A: Ampicillin\n",
    "B: Ceftriaxone\n",
    "C: Ciprofloxacin\n",
    "D: Doxycycline\n",
    "E: Nitrofurantoin\n",
    "\"\"\"\n",
    "\n",
    "prompt2 = \"What should I do if I have a fever and body aches?\"\n",
    "\n",
    "prompts = [\n",
    "    \"How can I maintain good kidney health?\",\n",
    "    \"What are the symptoms of high blood pressure?\"\n",
    "]"
   ]
  },
  {
   "cell_type": "code",
   "execution_count": 102,
   "id": "5c195a50-43e4-4341-ad1d-23ca6f0aa45b",
   "metadata": {
    "tags": []
   },
   "outputs": [],
   "source": [
    "import time\n",
    "\n",
    "def invoke_realtime_endpoint(record):\n",
    "\n",
    "    response = sm_runtime.invoke_endpoint(\n",
    "        EndpointName=model_name,\n",
    "        ContentType=\"application/json\",\n",
    "        Accept=\"application/json\",\n",
    "        Body=json.dumps(record),\n",
    "    )\n",
    "\n",
    "    return json.load(response[\"Body\"])"
   ]
  },
  {
   "cell_type": "markdown",
   "id": "e9a475e7-ad31-4b3b-b7b5-21310f541252",
   "metadata": {
    "tags": []
   },
   "source": [
    "#### Chat Completion"
   ]
  },
  {
   "cell_type": "code",
   "execution_count": 103,
   "id": "c22cf887-70d5-4a87-8476-988590228328",
   "metadata": {
    "tags": []
   },
   "outputs": [
    {
     "name": "stdout",
     "output_type": "stream",
     "text": [
      "Okay, let's tackle this question step by step. So, we have a 23-year-old pregnant woman at 22 weeks gestation who's experiencing burning when she urinates. This symptom started just a day ago and has been getting worse even though she's been drinking more water and taking cranberry extract. She mentions she's otherwise feeling well and is under a doctor's care for her pregnancy. Her vital signs are all within normal limits: temperature 97.7°F, blood pressure 122/77 mmHg, pulse 80/min, respirations 19/min, and oxygen saturation 98% on room air. The physical exam doesn't show any costovertebral angle tenderness, which usually indicates kidney involvement in urinary tract infections, and there's a gravid uterus present.\n",
      "\n",
      "The question asks for the best treatment option among the choices given. The options are Amoxicillin, Ceftriaxone, Ciprofloxacin, Doxycycline, and Nitrofurantoin.\n",
      "\n",
      "First, I need to figure out what condition this patient is likely dealing with. The key symptom here is dysuria, which is burning upon urination. This is a classic sign of a urinary tract infection (UTI), particularly cystitis, which is an infection of the bladder. She's pregnant, which is important because pregnancy can increase the risk of UTIs due to physiological changes that affect the urinary tract. Also, she's at 22 weeks, which is in the second trimester.\n",
      "\n",
      "Now, she's tried cranberry extract and increased fluid intake, which are common self-care measures for UTIs, but they haven't helped, so she likely needs antibiotic treatment. Since she's pregnant, the choice of antibiotic becomes crucial because some antibiotics are contraindicated during pregnancy due to potential harm to the fetus.\n",
      "\n",
      "Looking at the options:\n",
      "\n",
      "A: Amoxicillin – This is a broad-spectrum penicillin antibiotic. It's generally considered safe in pregnancy and is often used for UTIs. However, I should consider the local antibiotic resistance patterns because if the bacteria causing the UTI are resistant to amoxicillin, it might not be effective.\n",
      "\n",
      "B: Ceftriaxone – This is a third-generation cephalosporin. Cephalosporins are generally considered safe during pregnancy. They cover a broader spectrum than amoxicillin, which might be useful if the infection is more severe, but in uncomplicated cystitis, they might not be necessary. However, they are often used in pregnant women, especially in regions with high amoxicillin resistance.\n",
      "\n",
      "C: Ciprofloxacin – This is a fluoroquinolone. Fluoroquinolones are generally avoided in pregnancy because they can affect cartilage development in the fetus. So this is likely not the best choice here.\n",
      "\n",
      "D: Doxycycline – This is a tetracycline antibiotic. Tetracyclines are contraindicated in pregnancy because they can discolor developing teeth and affect bone growth in the fetus. So this is also not a good option.\n",
      "\n",
      "E: Nitrofurantoin – This is an antibiotic specifically used for UTIs. It's considered safe in pregnancy, especially during the second trimester. However, its use is generally avoided in the third trimester due to the risk of hemolytic anemia in the newborn. Since she's at 22 weeks, which is in the second trimester, nitrofurantoin could be a viable option.\n",
      "\n",
      "Now, considering the guidelines for treating UTIs in pregnancy. The CDC and other guidelines recommend that for uncomplicated cystitis in pregnancy, first-line treatments typically include nitrofurantoin or trimethoprim-sulfamethoxazole (TMP-SMX). However, TMP-SMX isn't an option here. Amoxicillin and cephalexin are also often used if the patient is allergic to nitrofurantoin or if there's resistance. Cephalosporins like ceftriaxone are reserved for more complicated cases or if there's penicillin allergy with resistance.\n",
      "\n",
      "In this case, the patient has already tried self-care measures without improvement, so she likely needs antibiotics. Given that she's in the second trimester, nitrofurantoin is an option, but amoxicillin is also safe and commonly used. However, the choice between amoxicillin and ceftriaxone would depend on local resistance patterns. If the hospital or region has high amoxicillin resistance, then ceftriaxone might be preferred. Since the question doesn't provide information on resistance, I might have to assume standard practice.\n",
      "\n",
      "Another point is that nitrofurantoin is often preferred for uncomplicated cystitis due to its urinary tract penetration and shorter course. However, it's important to note that nitrofurantoin is not recommended in the third trimester because of the risk of hemolytic anemia in the newborn. Since she's in the second trimester, this is acceptable.\n",
      "\n",
      "But wait, the question is about the best treatment. If the infection is uncomplicated, nitrofurantoin is usually preferred. However, some sources might recommend amoxicillin or cephalosporins depending on allergy history and resistance. Since there's no info on allergy, and considering that nitrofurantoin is specifically indicated for UTIs and is safe up to the 36th week, it's a strong contender.\n",
      "\n",
      "Wait, but let me double-check. The American College of Obstetricians and Gynecologists (ACOG) guidelines suggest that for asymptomatic bacteriuria, antibiotics like nitrofurantoin or amoxicillin-clavulanate are used. For symptomatic UTIs, similar antibiotics are used, but sometimes oral cephalosporins like cephalexin are also considered. Intravenous antibiotics like ceftriaxone are usually reserved for complicated UTIs or pyelonephritis, especially if there are signs of kidney involvement. Since the patient doesn't have costovertebral angle tenderness, it's more likely cystitis rather than pyelonephritis.\n",
      "\n",
      "Given that, nitrofurantoin would be appropriate for cystitis, but amoxicillin is also a possibility. However, the question might be testing the knowledge that nitrofurantoin is a first-line agent for UTIs in pregnancy. But wait, in some areas, amoxicillin is more commonly used, especially if there's no local resistance.\n",
      "\n",
      "Alternatively, maybe the answer is ceftriaxone because it's a more broad-spectrum antibiotic and might be used if there's concern for more severe infection, but the question states she has no other symptoms and her vital signs are normal, indicating it's likely uncomplicated cystitis.\n",
      "\n",
      "Wait, but in the options given, Nitrofurantoin is E. Ciprofloxacin and Doxycycline are contraindicated in pregnancy. So between A, B, and E. If the question is testing knowledge of contraindications, then avoiding C and D is clear. Now between A, B, and E.\n",
      "\n",
      "In the absence of other specifics, the best treatment for uncomplicated cystitis in pregnancy is generally nitrofurantoin. Amoxicillin is also used but may have higher resistance rates. Ceftriaxone is a strong antibiotic, possibly overkill for uncomplicated cystitis unless there's a specific reason like allergy or resistance.\n",
      "\n",
      "Therefore, the best treatment here would be E: Nitrofurantoin.\n",
      "</think>\n",
      "\n",
      "The patient presents with symptoms suggestive of a urinary tract infection (UTI), specifically cystitis, given the dysuria and lack of costovertebral angle tenderness. Considering her pregnancy, the choice of antibiotic must be safe for both the mother and fetus. \n",
      "\n",
      "**Key considerations:**\n",
      "- **Ciprofloxacin (C)** and **Doxycycline (D)** are contraindicated in pregnancy due to potential fetal harm (e.g., cartilage damage and tooth discoloration, respectively).\n",
      "- **Amoxicillin (A)** and **Ceftriaxone (B)** are generally safe, but ceftriaxone is typically reserved for more severe or complicated UTIs, such as pyelonephritis. Given the absence of renal signs (e.g., fever, flank pain), this is less likely.\n",
      "- **Nitrofurantoin (E)** is a first-line treatment for uncomplicated cystitis in pregnancy, particularly during the second trimester. It has good urinary tract penetration and is contraindicated in the third trimester due to the risk of hemolytic anemia in the newborn.\n",
      "\n",
      "**Conclusion:** \n",
      "Given the patient's gestational age (22 weeks) and the uncomplicated nature of the UTI, **Nitrofurantoin (E)** is the most appropriate treatment option.\n",
      "\n",
      "**Answer: E: Nitrofurantoin**\n"
     ]
    }
   ],
   "source": [
    "input_data = {\n",
    "    \"model\": \"/opt/ml/model\",\n",
    "    \"messages\": [\n",
    "        {\"role\": \"system\", \"content\": \"You are a helpful medical assistant.\"},\n",
    "        {\"role\": \"user\", \"content\": prompt1},\n",
    "    ],\n",
    "    \"max_tokens\": 2048,\n",
    "    \"temperature\": 0.7,\n",
    "}\n",
    "\n",
    "result = invoke_realtime_endpoint(input_data)\n",
    "output_content = result['choices'][0]['message']['content']\n",
    "print(output_content)"
   ]
  },
  {
   "cell_type": "markdown",
   "id": "d1a76aec-391a-44e9-b385-99aa62f1b4bf",
   "metadata": {},
   "source": [
    "#### Text Completion"
   ]
  },
  {
   "cell_type": "code",
   "execution_count": 105,
   "id": "0c06b069-e3d8-48f4-9c09-fec59143ed11",
   "metadata": {
    "tags": []
   },
   "outputs": [
    {
     "name": "stdout",
     "output_type": "stream",
     "text": [
      " If you have a fever and body aches, here's what you can do to help alleviate your symptoms and feel better:\n",
      "\n",
      "1. **Rest**: Get plenty of rest to help your body fight off the infection or illness causing your symptoms.\n",
      "\n",
      "2. **Hydrate**: Drink plenty of fluids like water, herbal teas, or clear broths to stay hydrated. Fever can cause dehydration, so it's important to replenish fluids.\n",
      "\n",
      "3. **Cool Compresses**: Apply cool compresses to your forehead or body to help reduce fever and soothe aches.\n",
      "\n",
      "4. **Over-the-Counter Medications**: Consider taking over-the-counter medications like acetaminophen (Tylenol) or ibuprofen (Advil, Motrin) to reduce fever and alleviate body aches. Follow the dosage instructions carefully.\n",
      "\n",
      "5. **Light Clothing**: Wear light, loose-fitting clothing to help your body regulate temperature.\n",
      "\n",
      "6. **Comfortable Environment**: Stay in a cool, well-ventilated room to help manage your fever.\n",
      "\n",
      "7. **Monitor Symptoms**: Keep track of your temperature and any other symptoms you might be experiencing. If your fever is very high (e.g., 103°F or higher) or persists for more than a few days, or if you experience severe symptoms like difficulty breathing, chest pain, or confusion, seek medical attention promptly.\n",
      "\n",
      "8. **Consult a Healthcare Professional**: If your symptoms are severe, worsening, or accompanied by other concerning signs, consult a healthcare provider for proper evaluation and treatment.\n",
      "\n",
      "If you suspect you might have a serious illness or are concerned about your symptoms, it's always best to reach out to a healthcare professional for advice tailored to your specific situation. Please note that this information is not a substitute for professional medical advice, and I encourage you to consult with a healthcare provider for guidance on your particular case. If you're experiencing a medical emergency, seek immediate medical assistance. \n",
      "\n",
      "**Note**: The provided information is general and for educational purposes. Always consult a healthcare professional for personalized medical advice. If symptoms are severe or worsen, seek prompt medical attention. If you're experiencing a medical emergency, call your local emergency number or visit the nearest emergency room. \n",
      "\n",
      "**Disclaimer**: The information in this response is not a substitute for professional medical advice, diagnosis, or treatment. Always seek the advice of your physician or other qualified health provider with any questions you may have regarding a medical condition. If you think you may have a medical emergency, call your doctor or 911 immediately. \n",
      "\n",
      "**Additional Tips**:\n",
      "- **Gentle Movement**: Light stretching or gentle movement might help ease muscle aches, but avoid overexertion.\n",
      "- **Elevate Your Head**: Use pillows to elevate your head while lying down to help with breathing and reduce congestion if you have a cold or sinus issues.\n",
      "- **Humidifier**: A cool-mist humidifier can help soothe respiratory symptoms if your body aches are accompanied by a cough or congestion.\n",
      "\n",
      "**Important**: If you're unsure about the cause of your fever and body aches, or if you have chronic health conditions, it's important to consult a healthcare provider to determine the underlying cause and appropriate treatment.\n",
      "\n",
      "If your symptoms are related to a known illness or condition, follow your healthcare provider's advice. If you're taking any medications or have allergies, inform your healthcare provider before taking any new medications.\n",
      "\n",
      "**When to Seek Emergency Care**:\n",
      "- Fever over 103°F (39.4°C) in adults.\n",
      "- Fever that lasts more than three days.\n",
      "- Difficulty breathing or shortness of breath.\n",
      "- Chest pain or pressure.\n",
      "- Severe headache or stiff neck.\n",
      "- Confusion or difficulty waking up.\n",
      "- Rash that appears rapidly or changes abruptly.\n",
      "- Severe or persistent vomiting.\n",
      "- Signs of dehydration (e.g., dark urine, dizziness, dry mouth).\n",
      "- In children: fever in infants younger than three months, refusal to eat, trouble breathing, unusual crying, or lethargy.\n",
      "\n",
      "**Remember**: Health is a priority, and if you're feeling unwell, it's better to err on the side of caution and seek medical advice when in doubt. \n",
      "\n",
      "If you're experiencing a medical emergency, call your local emergency services or go to the nearest emergency room. \n",
      "\n",
      "**Stay Informed**: Keep yourself informed about health guidelines from reputable sources like the CDC or WHO, especially during outbreaks of illnesses like influenza, RSV, or other respiratory infections. \n",
      "\n",
      "**Prevention**: Practice good hygiene, such as washing hands regularly, covering coughs and sneezes, and avoiding close contact with sick individuals to prevent the spread of infections. \n",
      "\n",
      "**Follow-Up Care**: If you've been prescribed medication or advised to take specific steps by a healthcare provider, make sure to follow their instructions carefully and attend any recommended follow-up appointments. \n",
      "\n",
      "**Mental Health**: Being sick can be stressful. Practice self-care and consider reaching out to friends, family, or support networks if you're feeling overwhelmed. \n",
      "\n",
      "**Nutrition**: Eat light, nutritious meals if you're able to eat. Avoid heavy or greasy foods that might be harder to digest when you're unwell. \n",
      "\n",
      "**Avoid Alcohol and Smoking**: Alcohol and smoking can worsen symptoms and slow recovery. \n",
      "\n",
      "**Medication Safety**: Do not exceed the recommended dosage of over-the-counter medications, and avoid combining medications without consulting a healthcare provider to prevent interactions or side effects. \n",
      "\n",
      "**Monitor for Complications**: Keep an eye out for signs of complications like pneumonia, dehydration, or other infections, and seek medical attention if such signs appear. \n",
      "\n",
      "**Stay Home**: If you're contagious, stay home to prevent spreading the illness to others. \n",
      "\n",
      "**Restrooms and Hygiene**: Keep restrooms clean and use disinfectants to prevent the spread of germs. \n",
      "\n",
      "**Support Others**: If you're caring for someone who is sick, make sure to take precautions to protect your own health and well-being. \n",
      "\n",
      "**Stay Updated**: Follow guidelines from health authorities to stay informed about current health advisories and recommendations. \n",
      "\n",
      "**Final Note**: Your health is important, and taking proactive steps to manage symptoms and seek appropriate care can help you recover more quickly and effectively. If you have any concerns, don't hesitate to consult a healthcare professional. \n",
      "\n",
      "---\n",
      "\n",
      "Please remember that this guidance is general in nature and should not replace personalized medical advice from a qualified healthcare provider. If you have specific health conditions or concerns, consult your doctor for tailored recommendations.\n",
      "## \n",
      "\n",
      "I hope you feel better soon! Take care of yourself and reach out to healthcare professionals if needed. Stay safe and healthy! \n",
      "\n",
      "---\n",
      "\n",
      "**Additional Resources**:\n",
      "- **CDC (Centers for Disease Control and Prevention)**: Offers guidance on fever and illness management.\n",
      "- **WHO (World Health Organization)**: Provides global health information and advice.\n",
      "- **Local Health Departments**: Your local health department can provide area-specific health advisories and resources.\n",
      "- **Telehealth Services**: Many healthcare providers offer telehealth consultations for non-emergency medical advice. \n",
      "\n",
      "**Note**: Always verify the credibility of online health resources and consult a healthcare professional for medical advice. \n",
      "\n",
      "---\n",
      "\n",
      "Wishing you a swift recovery! If you need further information or support, feel free to reach out. Don't hesitate to seek help if your symptoms worsen or persist. \n",
      "\n",
      "--- \n",
      "\n",
      "**Key Points to Remember**:\n",
      "1. **Rest and Hydration**: Prioritize rest and fluids.\n",
      "2. **Medication**: Use OTC meds as directed to manage fever and aches.\n",
      "3. **Monitor Symptoms**: Watch for signs that may require medical attention.\n",
      "4. **Seek Help Promptly**: Don't delay in contacting a healthcare provider if you're concerned or experiencing severe symptoms. \n",
      "\n",
      "Take care! \n",
      "\n",
      "---\n",
      "\n",
      "**Final Reminder**: If you're feeling very unwell or your symptoms are alarming, seek emergency medical care immediately. Your health and safety are the top priority. \n",
      "\n",
      "--- \n",
      "\n",
      "Thank you for your question! I'm here to provide support and information. If you have any more questions or need further assistance, please let me know. Wishing you good health and a quick recovery! \n",
      "\n",
      "---\n",
      "\n",
      "**Important Safety Information**: This response is intended for informational purposes only and does not constitute medical advice. Always consult a healthcare provider for medical care and guidance. If you're experiencing a medical emergency, call your local emergency number or visit the nearest emergency room. \n",
      "\n",
      "---\n",
      "\n",
      "**Stay Safe and Healthy!** 🌟  \n",
      "\n",
      "If you're feeling unwell, I'm sorry to hear that. I hope you feel better soon! Take care and stay hydrated!  \n",
      "\n",
      "--- \n",
      "\n",
      "**Final Note**: Health information can be complex and varies by individual. Always consult a healthcare professional for personalized advice.  \n",
      "\n",
      "--- \n",
      "\n",
      "**Wishing You a Quick Recovery!** 💖  \n",
      "\n",
      "If you have any more questions or need further assistance, feel free to ask. Take care!  \n",
      "\n",
      "--- \n",
      "\n",
      "**Additional Tips for Managing Symptoms**:\n",
      "- **Warm Baths**: A warm bath can help soothe muscle aches and provide temporary relief from fever.\n",
      "- **Saltwater Gargle**: If sore throat accompanies body aches, gargling with warm salt water can help ease discomfort.\n",
      "- **Elevated Legs**: Raising your legs slightly while resting can promote circulation and reduce swelling in the lower extremities.\n",
      "- **Light Snacks**: Opt for easy-to-digest foods like bananas, toast, or applesauce if you have an appetite.\n",
      "\n",
      "**Avoid**: Heavy meals, caffeine, and alcohol while you're unwell, as they may exacerbate symptoms or hinder recovery. \n",
      "\n",
      "**Stay Connected**: Reach out to friends or family for support if you're feeling isolated or low in spirits. \n",
      "\n",
      "**Breathing Exercises**: Gentle breathing exercises or meditation can help reduce stress and promote relaxation during illness.  \n",
      "\n",
      "**When to Reassess**: If your symptoms improve after a few days of rest and medication, you may begin gradually reintroducing normal activities. However, if symptoms persist, worsen, or new symptoms arise, contact your healthcare provider. \n",
      "\n",
      "**Preventive Measures**: After recovering, consider taking\n"
     ]
    }
   ],
   "source": [
    "input_data ={\n",
    "        \"model\": \"/opt/ml/model\",\n",
    "        \"prompt\": prompt2,\n",
    "        \"max_tokens\": 2048,\n",
    "        \"temperature\": 0.7,\n",
    "    }\n",
    "\n",
    "result = invoke_realtime_endpoint(input_data)\n",
    "output_text = result['choices'][0]['text']\n",
    "print(output_text)"
   ]
  },
  {
   "cell_type": "markdown",
   "id": "ccccf37b-9dee-4d38-a0dc-38f2aeaeb780",
   "metadata": {},
   "source": [
    "### 3.2 Real-time inference response as a stream via Amazon SageMaker Endpoint"
   ]
  },
  {
   "cell_type": "code",
   "execution_count": 107,
   "id": "dac2fe86-af82-4ae5-a838-162f65e6d0b1",
   "metadata": {
    "tags": []
   },
   "outputs": [],
   "source": [
    "def invoke_streaming_endpoint(record):\n",
    "    try:\n",
    "        response = sm_runtime.invoke_endpoint_with_response_stream(\n",
    "            EndpointName=model_name,\n",
    "            Body=json.dumps(record),\n",
    "            ContentType=\"application/json\",\n",
    "            Accept=\"text/event-stream\"\n",
    "        )\n",
    "\n",
    "        for event in response[\"Body\"]:\n",
    "            if \"PayloadPart\" in event:\n",
    "                chunk = event[\"PayloadPart\"][\"Bytes\"].decode(\"utf-8\")\n",
    "                if chunk.startswith(\"data:\"):\n",
    "                    try:\n",
    "                        data = json.loads(chunk[5:].strip())\n",
    "                        if \"choices\" in data and len(data[\"choices\"]) > 0:\n",
    "                            choice = data[\"choices\"][0]\n",
    "                            if \"text\" in choice:\n",
    "                                yield choice[\"text\"]\n",
    "                            elif \"delta\" in choice and \"content\" in choice[\"delta\"]:\n",
    "                                yield choice[\"delta\"][\"content\"]\n",
    "\n",
    "                    except json.JSONDecodeError:\n",
    "                        continue \n",
    "            elif \"ModelStreamError\" in event:\n",
    "                error = event[\"ModelStreamError\"]\n",
    "                yield f\"\\nStream error: {error['Message']} (Error code: {error['ErrorCode']})\"\n",
    "                break\n",
    "            elif \"InternalStreamFailure\" in event:\n",
    "                failure = event[\"InternalStreamFailure\"]\n",
    "                yield f\"\\nInternal stream failure: {failure['Message']}\"\n",
    "                break\n",
    "    except Exception as e:\n",
    "        yield f\"\\nAn error occurred during streaming: {str(e)}\""
   ]
  },
  {
   "cell_type": "markdown",
   "id": "d2c6f25e-6d6d-41c7-a7ab-8b979e97a145",
   "metadata": {},
   "source": [
    "#### Chat Completion"
   ]
  },
  {
   "cell_type": "code",
   "execution_count": 108,
   "id": "5d62d99f-67a1-46f7-ad52-d2d41b2c5e3a",
   "metadata": {
    "tags": []
   },
   "outputs": [
    {
     "name": "stdout",
     "output_type": "stream",
     "text": [
      "Okay, so I have this question about a pregnant woman who's 23 years old and 22 weeks pregnant. She's coming in with a burning sensation when she pees, which started a day ago and is getting worse. She's tried drinking more water and taking cranberry extract, but it's not helping. She otherwise feels okay and is under a doctor's care for her pregnancy. Her vitals are all normal, no fever, blood pressure is good, pulse and respirations are normal. The physical exam doesn't show any costovertebral angle tenderness, which usually points to kidney issues, so that's probably not the case here. She has a gravid uterus, which just means she's pregnant.\n",
      "\n",
      "The question is asking what the best treatment is for her. The options are Ampicillin, Ceftriaxone, Ciprofloxacin, Doxycycline, or Nitrofurantoin. Alright, so let's break this down.\n",
      "\n",
      "First, the burning upon urination is classic for a urinary tract infection (UTI). Since she's pregnant, I know that UTIs can be more common during pregnancy because of physiological changes like increased urine stasis and changes in the urinary tract. Also, untreated UTIs can lead to more serious complications like pyelonephritis, which can be dangerous for both the mom and the baby.\n",
      "\n",
      "Now, the key here is that she's pregnant. So I need to consider which antibiotics are safe to use during pregnancy. I remember that some antibiotics are contraindicated or have precautions in pregnancy. Let me think about each option:\n",
      "\n",
      "A: Ampicillin. Ampicillin is a penicillin antibiotic. Penicillins are generally considered safe during pregnancy. So that's a possibility.\n",
      "\n",
      "B: Ceftriaxone. That's a cephalosporin. Cephalosporins are also generally considered safe in pregnancy, especially in the first trimester. I think they're even used for preterm labor to prevent infections, like Group B Streptococcus in some cases.\n",
      "\n",
      "C: Ciprofloxacin. Fluoroquinolones like ciprofloxacin are generally avoided in pregnancy because they can affect the developing cartilage in the fetus. So that's probably not a good choice here.\n",
      "\n",
      "D: Doxycycline. Tetracyclines, including doxycycline, are contraindicated in pregnancy because they can cause teeth discoloration and affect bone growth in the fetus. Definitely not safe.\n",
      "\n",
      "E: Nitrofurantoin. This is an antibiotic used for UTIs. I think it's considered safe during pregnancy, especially in the first and second trimesters. I've heard it's commonly used for UTIs in pregnant women. However, it's not usually recommended in the third trimester because of the risk of hemolytic anemia in the newborn. But she's only 22 weeks, so that's second trimester, so it might be okay. But wait, I think guidelines might recommend against using it even in the second trimester? Or is it okay?\n",
      "\n",
      "Hmm, I need to recall the current guidelines. I think nitrofurantoin is considered safe for UTIs in pregnancy, but it's not recommended in the third trimester. Since she's in the second trimester, it might be an option. But maybe there are other concerns. Also, nitrofurantoin can cause lung issues in the newborn, but that's more in the third trimester. So maybe it's acceptable here.\n",
      "\n",
      "But comparing that to ampicillin or cephalosporins. Ampicillin is a first-line treatment for UTIs in pregnancy, I believe. Ceftriaxone is a stronger antibiotic, maybe more for more serious infections like pyelonephritis. Since she doesn't have any signs of kidney infection (no CVA tenderness, no fever), maybe a simpler UTI, so ampicillin might be better.\n",
      "\n",
      "Wait, but what about the spectrum of the antibiotics? Ampicillin covers many of the common uropathogens, like E. coli, which is the most common cause of UTIs. However, sometimes UTIs in pregnancy can be caused by organisms that ampicillin doesn't cover as well, like Proteus or Klebsiella, which can be resistant. But without knowing the culture results, we have to go empirically.\n",
      "\n",
      "Cephalosporins have a broader spectrum. Ceftriaxone would cover more bacteria, including some that might be resistant to ampicillin. But is that necessary here? Since she's not having a complicated UTI, maybe ampicillin is sufficient.\n",
      "\n",
      "Also, nitrofurantoin is often used for uncomplicated cystitis in non-pregnant women. But in pregnancy, some guidelines prefer beta-lactams like ampicillin or amoxicillin to avoid the potential adverse effects of nitrofurantoin in pregnancy, even though it's considered safe in the first and second trimesters.\n",
      "\n",
      "So, considering all that, I think the best answer here would be either Ampicillin or Ceftriaxone. But which is better?\n",
      "\n",
      "Another angle: the question says she's been treated with cranberry extract and more water, but it's not helping. So she needs antibiotics. Since it's a UTI, usually, we'd go with a 3-7 day course of antibiotics. Ampicillin is a standard first-line.\n",
      "\n",
      "Wait, but in some regions, ampicillin resistance might be higher, making ceftriaxone a better choice. But without specific resistance data, the question is probably looking for the standard answer.\n",
      "\n",
      "I also remember that in pregnancy, for UTIs, the treatment is usually with an antibiotic that covers E. coli and other common uropathogens. Ampicillin is often used, but sometimes cephalosporins are preferred, especially if there's a history of resistance.\n",
      "\n",
      "Alternatively, considering the options given, Ceftriaxone is a potent antibiotic. However, for a simple UTI in pregnancy, a shorter course of ampicillin is typically used. Ceftriaxone might be more for complicated cases or if there's a concern for resistant organisms.\n",
      "\n",
      "Wait, but let's think about safety again. Ceftriaxone is a cephalosporin, which is generally safe in pregnancy. So why not use it? Maybe because it's a more powerful antibiotic than necessary for a simple UTI, and we should reserve stronger antibiotics for more severe cases.\n",
      "\n",
      "Also, nitrofurantoin is an option, but again, there might be some hesitation to use it even in the second trimester, or at least it's less preferred than beta-lactams.\n",
      "\n",
      "So putting this all together, the best treatment would be either ampicillin or ceftriaxone. But which is better? Since she's 22 weeks, and the question is about the best treatment, I think the standard approach would be to use ampicillin. However, I'm a bit uncertain because some sources might recommend ceftriaxone.\n",
      "\n",
      "Wait, another point: Ampicillin is often used for uncomplicated UTIs in pregnancy, but if there's a suspicion of pyelonephritis or complicated UTI, then IV antibiotics like ceftriaxone would be appropriate. However, in this case, the patient doesn't have signs of pyelonephritis (no fever, no CVA tenderness), so it's likely a simple cystitis.\n",
      "\n",
      "Therefore, the treatment of choice for uncomplicated urinary tract infection in pregnancy is usually nitrofurantoin. Wait, but earlier I thought nitrofurantoin is not preferred. Let me think again.\n",
      "\n",
      "Wait, guidelines might vary. The American College of Obstetricians and Gynecologists (ACOG) guidelines for UTI in pregnancy: for uncomplicated cystitis, they recommend nitrofurantoin, trimethoprim-sulfamethoxazole (TMP-SMX), or cephalexin. But TMP-SMX is not an option here, and cephalexin isn't listed, but ceftriaxone is. Hmm, but cephalexin isn't one of the options. Wait, the options are Ampicillin, Ceftriaxone, Ciprofloxacin, Doxycycline, or Nitrofurantoin.\n",
      "\n",
      "So, according to ACOG, nitrofurantoin is a first-line option for uncomplicated cystitis in pregnancy. However, nitrofurantoin is contraindicated in the third trimester due to the risk of hemolytic anemia in the newborn. Since this patient is in the second trimester, nitrofurantoin might be acceptable. But some guidelines may prefer to avoid it in pregnancy altogether, or at least use it cautiously.\n",
      "\n",
      "Alternatively, ampicillin is another first-line option, especially if there's a concern about resistance to nitrofurantoin. Cephalexin is a cephalosporin but not listed here. Ceftriaxone is a third-generation cephalosporin, which is more potent and usually used for more severe infections.\n",
      "\n",
      "So, considering the options given, and thinking that nitrofurantoin is acceptable in the second trimester, and is often used for UTIs in pregnancy, option E might be the answer. But I'm a bit confused because I thought ampicillin was commonly used.\n",
      "\n",
      "Wait, but I need to remember that nitrofurantoin can cause respiratory problems in the newborn if used in the third trimester, but not necessarily in the second. So, in the second trimester, it's generally considered safe. So, maybe nitrofurantoin is the best answer here.\n",
      "\n",
      "Alternatively, maybe the question expects us to choose ampicillin as the safer option. Hmm.\n",
      "\n",
      "Wait, let me think"
     ]
    }
   ],
   "source": [
    "payload = {\n",
    "    \"model\": \"/opt/ml/model\",\n",
    "    \"messages\": [\n",
    "        {\"role\": \"system\", \"content\": \"You are a helpful medical assistant.\"},\n",
    "        {\"role\": \"user\", \"content\": prompt1}\n",
    "    ],\n",
    "    \"max_tokens\": 2048,\n",
    "    \"temperature\": 0.7,\n",
    "    \"stream\": True\n",
    "}\n",
    "\n",
    "for chunk in invoke_streaming_endpoint(payload):\n",
    "    print(chunk, end=\"\", flush=True)"
   ]
  },
  {
   "cell_type": "markdown",
   "id": "f2d04094-f350-4950-b73a-212301dda35c",
   "metadata": {},
   "source": [
    "#### Text Completion"
   ]
  },
  {
   "cell_type": "code",
   "execution_count": 109,
   "id": "a6046a1f-96cb-4f76-b796-cd4a661f53e6",
   "metadata": {
    "tags": []
   },
   "outputs": [
    {
     "name": "stdout",
     "output_type": "stream",
     "text": [
      " How long will it take to recover?\n",
      "\n",
      "If you have a fever and body aches, it's to take care of yourself and monitor your symptoms. Here are some steps you can take:\n",
      "\n",
      "1. **Rest**: Give your body time to recover by getting plenty of rest.\n",
      "2. **Hydrate**: Drink fluids like water, herbal teas, or broths to stay hydrated.\n",
      "3. **Medication**: Over-the-counter medications like acetaminophen (Tylenol) or ibuprofen (Advil) can help reduce fever and relieve body aches.\n",
      "4. **Cool Compresses**: Applying a cool compress to your forehead may help lower your temperature.\n",
      "5. **Monitor Symptoms**: Keep track of your and any other symptoms you experience. If your fever is very high (over 103°F/39.4°C), lasts more than three days, or is by severe symptoms like difficulty breathing, chest pain, or, seek medical attention immediately.\n",
      "\n",
      "The duration of recovery depends on the underlying cause of your symptoms. If it's a common viral infection like the flu, you might start feeling better within a week, but it could take up to two weeks for all symptoms to resolve. If it's a infection, antibiotics may be necessary, and recovery could be quicker once treatment begins. If you're unsure about the cause or if your symptoms persist or worsen, consult a professional for an accurate diagnosis and appropriate treatment. They can provide additional guidance based on your specific situation. If you develop any severe symptoms, seek medical help right away. Health is, so don’t hesitate to reach out to a provider if needed. Hope you feel better soon! \n",
      "\n",
      "**Note:** This advice is general and not a for professional medical advice. Always consult a provider for personalized recommendations. If you're severe symptoms, seek emergency medical care. \n",
      "\n",
      "**Additional Information:**  \n",
      "- Avoid strenuous activities until you feel better.  \n",
      "- Light meals and easy-to-digest foods may be more comfortable if you're feeling nauseous.  \n",
      "- Stay isolated if you suspect contagious illness to prevent spreading it to others.  \n",
      "\n",
      "Take care and get well soon! If you need further guidance, feel free to ask. \n",
      "\n",
      "**When to Seek Immediate Medical Help:**  \n",
      "- Fever over 103°F (39.4°C) that isn't responding to medication.  \n",
      "- breathing or shortness of breath.  \n",
      "- Chest pain or pressure.  \n",
      "- Confusion or difficulty waking up.  \n",
      "- Severe headache, stiff neck, or sensitivity to light.  \n",
      "- Rash that appears suddenly, if it spreads quickly.  \n",
      "- Vomiting that prevents keeping fluids down.  \n",
      "- Seizures or convulsions.  \n",
      "- Unusual behavior changes.  \n",
      "\n",
      "If you any of these symptoms, seek medical attention without delay. Your health and safety are the top priority. \n",
      "\n",
      "**Additional Tips for Recovery:**  \n",
      "- Use a humidifier or take a warm bath to ease muscle aches and open up airways.  \n",
      "- Wear light clothing and use lightweight bedding to stay while reducing fever.  \n",
      "- Avoid alcohol and smoking, as they can worsen symptoms and slow recovery.  \n",
      "\n",
      "By these steps and monitoring your condition, you can support your body's healing process. However, if remains or your condition deteriorates, medical evaluation is essential. Take care of yourself, and I hope you recover fully soon! \n",
      "\n",
      "**Preventive Measures:**  \n",
      "- Wash your hands frequently with soap and water for at least 20 seconds.  \n",
      "- Avoid close contact with people who are sick.  \n",
      "- Cover your mouth and nose with a tissue when coughing or sneezing, then dispose of the tissue.  \n",
      "- Clean and disinfect surfaces that are touched often.  \n",
      "- Stay home when you're sick to prevent spreading illness to others.  \n",
      "\n",
      "These measures can help prevent the spread of and keep you healthy in the future. If you have any chronic health conditions or concerns about your symptoms, it’s always best to consult a healthcare provider for personalized advice. \n",
      "\n",
      "**Home Remedies to Try:**  \n",
      "- **Ginger Tea**: Ginger has anti-inflammatory properties that may help ease body aches and reduce fever.  \n",
      "- **Lemon Water with Honey**: Hydrates and provides a soothing effect on the throat and overall body.  \n",
      "- **Chicken Soup**: Warm broth can help with hydration and provide nutrients.  \n",
      "- **Peppermint Tea**: May help ease headaches and promote relaxation.  \n",
      "- **Epsom Salt Bath**: Can help relieve muscle aches and promote relaxation.  \n",
      "\n",
      "These home remedies are safe for most people but should complement, not replace, medical treatment if necessary. \n",
      "\n",
      "**Tracking Symptoms:**  \n",
      "- Keep a symptom diary noting the time, severity, and any changes.  \n",
      "- Record your temperature at regular intervals.  \n",
      "- Note any taken and their effects.  \n",
      "\n",
      "This can be helpful if you need to consult a healthcare provider, as it provides a clear picture of your condition's. \n",
      "\n",
      "**Mental Health Considerations:**  \n",
      "- Illness can be mentally taxing. Prioritize rest and.  \n",
      "- Engage in calming activities like reading or listening to music.  \n",
      "- Reach out to friends or family for support if needed.  \n",
      "\n",
      "Taking care of your mental health alongside your physical health can accelerate the recovery process. \n",
      "\n",
      "**When to Reintroduce Activities:**  \n",
      "- Gradually resume activities once your fever subsides and you feel more energetic.  \n",
      "- Avoid pushing yourself too hard initially. Listen to your body's signals.  \n",
      "\n",
      "It’s important to respect your body’s healing timeline to prevent relapse or illness. \n",
      "\n",
      "**Nutritional Support:**  \n",
      "- Opt for nutrient-dense foods like fruits, vegetables, and lean proteins to support immune function.  \n",
      "- Probiotic-rich foods like yogurt or kefir may help maintain gut health, which is linked to overall immunity.  \n",
      "\n",
      "Maintaining a balanced diet can your immune system and aid recovery. \n",
      "\n",
      "**Stay Informed:**  \n",
      "- Follow reliable health resources for updates on seasonal illnesses and strategies.  \n",
      "- Educate yourself on common illnesses and their symptoms to better understand what you're.  \n",
      "\n",
      "Knowledge can empower you to make informed decisions about your health. \n",
      "\n",
      "If you have any specific concerns or questions, don’t hesitate to reach out to a healthcare professional. They can provide tailored advice based on your health profile. Wishing you a speedy recovery! \n",
      "\n",
      "**Important Reminders:**  \n",
      "- Do not share medications with others.  \n",
      "- Follow dosage instructions carefully for over-the-counter medications.  \n",
      "- Avoid driving or operating machinery if you're feeling dizzy or weak.  \n",
      "- Rest your eyes and avoid screens if you're fatigue.  \n",
      "\n",
      "Prioritizing safety is crucial while you're unwell to prevent accidents and complications. \n",
      "\n",
      "**Final Thoughts:**  \n",
      "Recovering from a fever and body aches requires patience and self-care. By addressing symptoms effectively and seeking medical advice when needed, you can help your body heal efficiently. Stay proactive about your health, and don’t delay reaching out for professional help if you have any doubts. Wishing you a smooth recovery and good health! \n",
      "\n",
      "** Resources:**  \n",
      "- CDC (Centers for Disease Control and Prevention) website for health advisories and.  \n",
      "- WHO (World Health Organization) for global health updates and recommendations.  \n",
      "- Local health departments for community-specific health information.  \n",
      "\n",
      "These can provide up-to-date and accurate information to support your health decisions. \n",
      "\n",
      "If you're feeling overwhelmed or unsure, remember that healthcare providers are there to help. Don’t hesitate to schedule an appointment or seek guidance. Take care and get well soon! \n",
      "\n",
      "**Final Note:**  \n",
      "Your body’s is remarkable, and with proper care, it can overcome many illnesses. By following these guidelines and listening to your body, you’re taking essential steps toward recovery. Wishing you a quick and complete recovery! \n",
      "\n",
      "---\n",
      "\n",
      "This comprehensive guide covers various aspects of managing fever and body aches, including self-care, medical advice, and preventive measures. Always prioritize professional medical evaluation if symptoms persist or worsen. Stay healthy! \n",
      "\n",
      "---\n",
      "\n",
      "**Important:** The provided here is for general educational purposes only and should not be considered a substitute for professional medical advice,, or treatment. Always consult a qualified healthcare provider for guidance regarding your health. \n",
      "\n",
      "---\n",
      "\n",
      "**Stay Safe and Healthy!** 🌟"
     ]
    }
   ],
   "source": [
    "payload = {\n",
    "    \"model\": \"/opt/ml/model\",\n",
    "    \"prompt\": prompt2,\n",
    "    \"max_tokens\": 2048,\n",
    "    \"temperature\": 0.7,\n",
    "    \"stream\": True\n",
    "}\n",
    "\n",
    "for chunk in invoke_streaming_endpoint(payload):\n",
    "    print(chunk, end=\"\", flush=True)"
   ]
  },
  {
   "cell_type": "markdown",
   "id": "547960f3-6629-4c2d-a4d2-cdb26c9c61d0",
   "metadata": {},
   "source": [
    "Now that you have successfully performed a real-time inference, you do not need the endpoint any more. You can terminate the endpoint to avoid being charged."
   ]
  },
  {
   "cell_type": "code",
   "execution_count": null,
   "id": "488631f8-c3be-4b30-aba4-75d83ee588a3",
   "metadata": {
    "tags": []
   },
   "outputs": [],
   "source": [
    "model.sagemaker_session.delete_endpoint(model_name)\n",
    "model.sagemaker_session.delete_endpoint_config(model_name)"
   ]
  },
  {
   "cell_type": "markdown",
   "id": "c0e98cc5-6ea8-41bf-a78f-dbe6771caf55",
   "metadata": {},
   "source": [
    "## 4. Batch inference"
   ]
  },
  {
   "cell_type": "code",
   "execution_count": 111,
   "id": "f7d163c0-a6c7-49c5-a4ea-27b83670eb7b",
   "metadata": {
    "tags": []
   },
   "outputs": [],
   "source": [
    "import json\n",
    "import os\n",
    "\n",
    "# JSON file names\n",
    "validation_json_file_name1 = \"input1.json\"\n",
    "\n",
    "\n",
    "# JSON paths\n",
    "validation_input_json_path = f\"s3://{s3_bucket}/{model_name}/validation-input/\"\n",
    "validation_output_json_path = f\"s3://{s3_bucket}/{model_name}/validation-output/\"\n",
    "\n",
    "\n",
    "def write_and_upload_to_s3(input_data, file_name):\n",
    "    s3_client.put_object(\n",
    "        Bucket=s3_bucket,\n",
    "        Key=f\"{model_name}/validation-input/{file_name}\",\n",
    "        Body=(bytes(input_data.encode(\"UTF-8\"))),\n",
    "    )"
   ]
  },
  {
   "cell_type": "code",
   "execution_count": 112,
   "id": "23904344-4a1e-4e90-942e-dc9e53827369",
   "metadata": {
    "tags": []
   },
   "outputs": [],
   "source": [
    "input_json_data1 = json.dumps(\n",
    "    {\n",
    "        \"model\": \"/opt/ml/model\",\n",
    "        \"prompt\": prompts,\n",
    "        \"max_tokens\": 2048,\n",
    "        \"temperature\": 0.7,\n",
    "    }\n",
    ")\n",
    "\n",
    "write_and_upload_to_s3(input_json_data1, f\"{validation_json_file_name1}\")"
   ]
  },
  {
   "cell_type": "code",
   "execution_count": null,
   "id": "40a9b441-d1e5-4bbc-8571-005d880c6c46",
   "metadata": {
    "tags": []
   },
   "outputs": [],
   "source": [
    "transformer = model.transformer(\n",
    "    instance_count=1,\n",
    "    instance_type=batch_transform_inference_instance_type,\n",
    "    accept=\"application/json\",\n",
    "    output_path=validation_output_json_path,\n",
    ")\n",
    "transformer.transform(validation_input_json_path, content_type=\"application/json\")\n",
    "transformer.wait()"
   ]
  },
  {
   "cell_type": "code",
   "execution_count": null,
   "id": "142c53a9-2e64-4839-acbd-74bfbd7fc372",
   "metadata": {
    "tags": []
   },
   "outputs": [],
   "source": [
    "from urllib.parse import urlparse\n",
    "\n",
    "def retrieve_json_output_from_s3(validation_file_name):\n",
    "\n",
    "    parsed_url = urlparse(transformer.output_path)\n",
    "    file_key = f\"{parsed_url.path[1:]}{validation_file_name}.out\"\n",
    "    response = s3_client.get_object(Bucket=s3_bucket, Key=file_key)\n",
    "\n",
    "    data = json.loads(response[\"Body\"].read().decode(\"utf-8\"))\n",
    "    display(data)"
   ]
  },
  {
   "cell_type": "code",
   "execution_count": 119,
   "id": "b781965a-3891-4ac3-a580-9e187b262d39",
   "metadata": {
    "tags": []
   },
   "outputs": [
    {
     "data": {
      "text/plain": [
       "{'id': 'cmpl-f32e9abbc45e42f7a4f64d641a4f7d28',\n",
       " 'object': 'text_completion',\n",
       " 'created': 1743489315,\n",
       " 'model': '/opt/ml/model',\n",
       " 'choices': [{'index': 0,\n",
       "   'text': \" Maintaining good kidney health is crucial for overall well-being. Here are some tips to help you take care of your kidneys:\\n\\n1. **Stay Hydrated**: Drink plenty of water throughout the day to help your kidneys function properly. However, avoid overhydration, as it can also strain the kidneys.\\n\\n2. **Control Blood Pressure**: High blood pressure is a leading cause of kidney damage. Regularly monitor your blood pressure and follow your doctor's advice for maintaining it within a healthy range.\\n\\n3. **Manage Diabetes**: If you have diabetes, carefully control your blood sugar levels to prevent damage to your kidneys.\\n\\n4. **Eat a Balanced Diet**: Focus on a diet rich in fruits, vegetables, whole grains, and lean proteins. Limit processed foods, excessive salt, and sugary drinks.\\n\\n5. **Exercise Regularly**: Engage in physical activity to maintain a healthy weight and reduce the risk of conditions that can harm your kidneys.\\n\\n6. **Avoid Smoking and Excessive Alcohol**: Smoking can damage blood vessels and reduce blood flow to the kidneys. Excessive alcohol consumption can also lead to high blood pressure and liver disease, which can affect kidney function.\\n\\n7. **Limit Over-the-Counter Medications**: Some pain relievers, like NSAIDs (ibuprofen, naproxen), can be harmful to the kidneys if taken regularly. Use them only as directed.\\n\\n8. **Get Regular Check-ups**: Have your kidney function tested periodically, especially if you have risk factors like diabetes or high blood pressure.\\n\\nBy following these guidelines, you can support your kidney health and reduce the risk of kidney disease. Always consult your healthcare provider for personalized advice. For more information, you can visit the National Kidney Foundation's website. (Note: The provided link was intended to be a placeholder; replace it with an actual reputable source if needed.)  \\n\\n*Note: The information provided is for general guidance and should not substitute professional medical advice.*  \\n\\nPlease let me know if you need further assistance!  \\n\\n*Disclaimer: The above information is for educational purposes only and should not be considered medical advice. Always consult with a healthcare professional for personalized guidance.*  \\n\\n---  \\n**References:**  \\n- National Kidney Foundation. (2023). *Kidney Disease: Causes, Symptoms & Treatment*.  \\n- Mayo Clinic. (2023). *Kidney Disease: Prevention*.  \\n- American Kidney Fund. (2023). *How to Keep Your Kidneys Healthy*.  \\n- National Institute of Diabetes and Digestive and Kidney Diseases. (2023). *Kidney Disease*.  \\n\\n*For more detailed information, visit [National Kidney Foundation](https://www.kidney.org/).*\\n\\n---\\n\\nI hope these tips help you maintain good kidney health! Let me know if you need more information.  \\n\\n*Stay healthy!*  \\n\\n---  \\n**Additional Resources:**  \\n- **Diet Tips for Kidney Health**: Focus on low-sodium, low-protein diets. Consult a renal dietitian for personalized meal plans.  \\n- **Exercise Guidelines**: Aim for at least 150 minutes of moderate exercise weekly.  \\n- **Medication Safety**: Always read labels and follow dosage instructions.  \\n\\n*Remember, prevention is key!*  \\n\\n---  \\n**Final Note:**  \\nIf you experience symptoms such as swelling in the legs, ankles, or feet, changes in urine output, or persistent fatigue, consult your doctor promptly. These could be signs of kidney issues.  \\n\\n*Wishing you optimal kidney health!*  \\n\\n---  \\n**Contact Information:**  \\nIf you need further assistance or have specific questions, feel free to reach out.  \\n\\n*Thank you for consulting this guide!*  \\n\\n---  \\n**End of Document**  \\n\\n---\\n\\nI hope this comprehensive guide helps you maintain good kidney health. Let me know if you need more information or have specific questions!  \\n\\n*Stay healthy!*  \\n\\n---  \\n**Final Reminder:**  \\nRegular check-ups and a healthy lifestyle are your best allies in keeping your kidneys healthy.  \\n\\n*Wishing you all the best!*  \\n\\n---  \\n**End**  \\n\\n---\\n\\nIf you found this information helpful, please consider sharing it with others.  \\n\\n*Together, we can promote kidney health!*  \\n\\n---  \\n**Thank You!**  \\n\\n---  \\n**End of Guide**  \\n\\n---\\n\\nI'm always here to help! Let me know how I can assist you further.  \\n\\n*Take care!*  \\n\\n---  \\n**Additional Tips:**  \\n- **Monitor Protein Intake**: Excessive protein can strain the kidneys. Opt for plant-based proteins like beans and lentils.  \\n- **Avoid Dehydration**: Drink water throughout the day, especially during physical activity or hot weather.  \\n\\n*Small changes can make a big difference!*  \\n\\n---  \\n**Final Thought:**  \\nYour kidneys work tirelessly to filter waste and excess fluids from your body. Treat them well by adopting a kidney-friendly lifestyle.  \\n\\n*Happy and healthy kidneys mean a happy and healthy you!*  \\n\\n---  \\n**Thank You Again!**  \\n\\n---  \\n**End of Document**  \\n\\n---\\n\\nI hope this guide empowers you to take charge of your kidney health. Let me know if you need more support!  \\n\\n*Wishing you a lifetime of health and vitality!*  \\n\\n---  \\n**Your Health Matters!**  \\n\\n---  \\n**End**  \\n\\n---\\n\\nThank you for consulting this guide. If you have any feedback or need clarification, don't hesitate to ask.  \\n\\n*Stay informed, stay healthy!*  \\n\\n---  \\n**End of Guide**  \\n\\n---\\n\\nI'm here to help you navigate your health journey. Let me know how I can assist!  \\n\\n*Take care!*  \\n\\n---  \\n**Final Message:**  \\nYour kidneys are vital to your overall health. By making simple lifestyle adjustments, you can protect them and enhance your quality of life.  \\n\\n*Let's keep those kidneys healthy!*\\n\\n---  \\n**End**  \\n\\n---\\n\\nI hope these tips inspire you to prioritize kidney health. Let me know if you need more information or have specific questions!  \\n\\n*Wishing you optimal health!*  \\n\\n---  \\n**Thank You!**  \\n\\n---  \\n**End of Guide**  \\n\\n---\\n\\nI'm always here to help! Let me know how I can support you in maintaining good kidney health.  \\n\\n*Stay healthy and stay in touch!*  \\n\\n---  \\n**End**  \\n\\n---\\n\\nThank you for reading this guide. If you have any concerns about your kidney health, consult your healthcare provider.  \\n\\n*Your health is a priority!*  \\n\\n---  \\n**End of Document**  \\n\\n---\\n\\nI hope this guide provides valuable insights into maintaining kidney health. Let me know if you need more information or assistance!  \\n\\n*Take care and stay healthy!*  \\n\\n---  \\n**End**  \\n\\n---\\n\\nThank you for your time! If you have any questions or need further guidance, feel free to ask.  \\n\\n*Wishing you all the best in your journey to good health!*  \\n\\n---  \\n**End of Guide**  \\n\\n---\\n\\nI'm here to help you achieve and maintain good health. Let me know how I can support you!  \\n\\n*Take care!*  \\n\\n---  \\n**End**  \\n\\n---\\n\\nThank you for consulting this guide. If you have any feedback or need clarification, don't hesitate to reach out.  \\n\\n*Stay healthy and informed!*  \\n\\n---  \\n**End of Document**  \\n\\n---\\n\\nI hope this guide empowers you to make kidney-friendly choices. Let me know if you need more information or have specific questions!  \\n\\n*Wishing you a lifetime of health and vitality!*  \\n\\n---  \\n**End**  \\n\\n---\\n\\nThank you for reading! If you have any concerns about your kidney health, consult your healthcare provider.  \\n\\n*Your health is important!*  \\n\\n---  \\n**End of Guide**  \\n\\n---\\n\\nI'm always here to help! Let me know how I can assist you in maintaining good kidney health.  \\n\\n*Take care and stay healthy!*  \\n\\n---  \\n**End**  \\n\\n---\\n\\nThank you for your time! If you have any questions or need further guidance, feel free to ask.  \\n\\n*Wishing you all the best in your journey to good health!*  \\n\\n---  \\n**End of Document**  \\n\\n---\\n\\nI hope this guide provides valuable insights into maintaining kidney health. Let me know if you need more information or assistance!  \\n\\n*Take care and stay healthy!*  \\n\\n---  \\n**End**  \\n\\n---\\n\\nThank you for consulting this guide. If you have any feedback or need clarification, don't hesitate to ask.  \\n\\n*Stay healthy and informed!*  \\n\\n---  \\n**End of Guide**  \\n\\n---\\n\\nI'm here to help you achieve and maintain good health. Let me know how I can support you!  \\n\\n*Take care!*  \\n\\n---  \\n**End**  \\n\\n---\\n\\nThank you for reading! If you have any concerns about your kidney health, consult your healthcare provider.  \\n\\n*Your health is important!*  \\n\\n---  \\n**End of Document**  \\n\\n---\\n\\nI hope this guide empowers you to make kidney-friendly choices. Let me know if you need more information or have specific questions!  \\n\\n*Wishing you a lifetime of health and vitality!*  \\n\\n---  \\n**End**  \\n\\n---\\n\\nThank you for your time! If you have any questions or need further guidance, feel free to ask.  \\n\\n*Wishing you all the best in your journey to good health!*  \\n\\n---  \\n**End of Guide**  \\n\\n---\\n\\nI'm always here to help! Let me know how I can assist you in maintaining good kidney health.  \\n\\n*Take care and stay healthy!*  \\n\\n---  \\n**End**  \\n\\n---\\n\\nThank you for consulting this guide. If you have any feedback or need clarification, don't hesitate to reach out.  \\n\\n*Stay healthy and informed!*  \\n\\n---  \\n**End of Document**  \\n\\n---\\n\\nI hope this guide provides valuable insights into maintaining kidney health. Let me know if you need more information or assistance!  \\n\\n*Take care and stay healthy!*  \\n\\n---  \\n**End**  \\n\\n---\\n\\nThank you for reading! If you have any concerns about your kidney health, consult your healthcare provider.  \\n\\n*Your health is important!*  \\n\\n---  \\n**End of Guide**  \\n\\n---\\n\\nI'm here to help you achieve and maintain good health.\",\n",
       "   'logprobs': None,\n",
       "   'finish_reason': 'length',\n",
       "   'stop_reason': None,\n",
       "   'prompt_logprobs': None},\n",
       "  {'index': 1,\n",
       "   'text': ' High blood pressure, also known as hypertension, often doesn’t cause noticeable symptoms in the early stages. This is why it\\'s sometimes called the \"silent killer.\" However, when blood pressure becomes extremely high, it can lead to symptoms such as:\\n\\n1. **Severe Headaches**: Usually occurring at the back of the head, these headaches can be a sign of a hypertensive crisis.\\n\\n2. **Shortness of Breath**: Difficulty breathing, especially when lying flat or during physical activity.\\n\\n3. **Nosebleeds**: Frequent and severe nosebleeds might indicate high blood pressure.\\n\\n4. **Fatigue or Confusion**: Feeling unusually tired or having trouble concentrating.\\n\\n5. **Chest Pain**: Angina or chest discomfort due to strain on the heart.\\n\\n6. **Vision Problems**: Blurred vision or vision loss can occur if hypertension damages blood vessels in the eyes.\\n\\n7. **Irregular Heartbeat**: Palpitations or a racing heart can be a sign of stress on the cardiovascular system.\\n\\n8. **Blood in Urine**: This can indicate kidney damage from high blood pressure.\\n\\nIt’s important to note that these symptoms are more likely to appear when blood pressure is dangerously elevated (hypertensive crisis) and not in the early stages of hypertension. Regular blood pressure checks are crucial for early detection and management of high blood pressure to prevent complications like heart disease, stroke, and kidney damage. If you experience any of these symptoms, seek medical attention promptly.https://www.mayoclinic.org/diseases-conditions/high-blood-pressure/symptoms-causes/syc-20373410 https://www.heart.org/en/health-topics/high-blood-pressure/why-high-blood-pressure-is-a-silent-killer https://www.cdc.gov/bloodpressure/about.htm https://www.nlm.nih.gov/medlineplus/ency/article/000468.htm https://www.nhlbi.nih.gov/health-topics/high-blood-pressure https://www.healthline.com/health/high-blood-pressure-hypertension https://www.webmd.com/hypertension-high-blood-pressure/guide/high-blood-pressure-symptoms https://www.medicalnewstoday.com/articles/322206 https://www.health.harvard.edu/heart-health/high-blood-pressure-the-silent-killer https://www.medicinenet.com/high_blood_pressure/article.htm https://www.uhs.umich.edu/highbloodpressure https://www.bloodpressureuk.org/AboutBloodPressure/Whatisbloodpressure https://www.healthdirect.gov.au/high-blood-pressure-hypertension https://www.mayoclinic.org/diseases-conditions/high-blood-pressure/symptoms-causes/syc-20373410 https://www.heart.org/en/health-topics/high-blood-pressure/why-high-blood-pressure-is-a-silent-killer https://www.cdc.gov/bloodpressure/about.htm https://www.nlm.nih.gov/medlineplus/ency/article/000468.htm https://www.nhlbi.nih.gov/health-topics/high-blood-pressure https://www.healthline.com/health/high-blood-pressure-hypertension https://www.webmd.com/hypertension-high-blood-pressure/guide/high-blood-pressure-symptoms https://www.medicalnewstoday.com/articles/322206 https://www.health.harvard.edu/heart-health/high-blood-pressure-the-silent-killer https://www.medicinenet.com/high_blood_pressure/article.htm https://www.uhs.umich.edu/highbloodpressure https://www.bloodpressureuk.org/AboutBloodPressure/Whatisbloodpressure https://www.healthdirect.gov.au/high-blood-pressure-hypertension\\nThe symptoms of high blood pressure, or hypertension, often go unnoticed in its early stages. However, when blood pressure becomes severely elevated, it can lead to a hypertensive crisis, which may present with the following symptoms:\\n\\n1. **Severe Headaches**: Typically located at the back of the head, these headaches can be a sign of a hypertensive emergency.\\n2. **Shortness of Breath**: Difficulty breathing, particularly when lying down or during physical activity.\\n3. **Nosebleeds**: Frequent and severe episodes of nosebleeds.\\n4. **Fatigue or Confusion**: Unexplained tiredness or difficulty concentrating.\\n5. **Chest Pain**: Angina or discomfort in the chest area due to cardiac strain.\\n6. **Vision Problems**: Blurred vision or sudden vision loss, indicating potential damage to eye blood vessels.\\n7. **Irregular Heartbeat**: Palpitations or a racing heart, reflecting stress on the cardiovascular system.\\n8. **Blood in Urine**: A sign of possible kidney damage caused by hypertension.\\n\\nIt\\'s crucial to remember that these symptoms usually arise during a hypertensive crisis, not in the early stages of hypertension. Regular blood pressure monitoring is essential for early detection and management to prevent complications like heart disease, stroke, and kidney damage. If you experience any of these symptoms, seek immediate medical attention. \\n\\nFor more information, refer to reputable sources like the Mayo Clinic, CDC, and other health organizations, which provide detailed insights into hypertension and its management.https://www.mayoclinic.org/diseases-conditions/high-blood-pressure/symptoms-causes/syc-20373410 https://www.heart.org/en/health-topics/high-blood-pressure/why-high-blood-pressure-is-a-silent-killer https://www.cdc.gov/bloodpressure/about.htm https://www.nlm.nih.gov/medlineplus/ency/article/000468.htm https://www.nhlbi.nih.gov/health-topics/high-blood-pressure https://www.healthline.com/health/high-blood-pressure-hypertension https://www.webmd.com/hypertension-high-blood-pressure/guide/high-blood-pressure-symptoms https://www.medicalnewstoday.com/articles/322206 https://www.health.harvard.edu/heart-health/high-blood-pressure-the-silent-killer https://www.medicinenet.com/high_blood_pressure/article.htm https://www.uhs.umich.edu/highbloodpressure https://www.bloodpressureuk.org/AboutBloodPressure/Whatisbloodpressure https://www.healthdirect.gov.au/high-blood-pressure-hypertension https://www.mayoclinic.org/diseases-conditions/high-blood-pressure/symptoms-causes/syc-20373410 https://www.heart.org/en/health-topics/high-blood-pressure/why-high-blood-pressure-is-a-silent-killer https://www.cdc.gov/bloodpressure/about.htm https://www.nlm.nih.gov/medlineplus/ency/article/000468.htm https://www.nhlbi.nih.gov/health-topics/high-blood-pressure https://www.healthline.com/health/high-blood-pressure-hypertension https://www.webmd.com/hypertension-high-blood-pressure/guide/high-blood-pressure-symptoms https://www.medicalnewstoday.com/articles/322206 https://www.health.harvard.edu/heart-health/high-blood-pressure-the-silent-killer https://www.medicinenet.com/high_blood_pressure/article.htm https://www.uhs.umich.edu/highbloodpressure https://www.bloodpressureuk.org/AboutBloodPressure/Whatisbloodpressure https://www.healthdirect.gov.au/high-blood-pressure-hypertension\\nhttps://www.mayoclinic.org/diseases-conditions/high-blood-pressure/symptoms-causes/syc-20373410 https://www.heart.org/en/health-topics/high-blood-pressure/why-high-blood-pressure-is-a-silent-killer https://www.cdc.gov/bloodpressure/about.htm https://www.nlm.nih.gov/medlineplus/ency/article/000468.htm https://www.nhlbi.nih.gov/health-topics/high-blood-pressure https://www.healthline.com/health/high-blood-pressure-hypertension https://www.webmd.com/hypertension-high-blood-pressure/guide/high-blood-pressure-symptoms https://www.medicalnewstoday.com/articles/322206 https://www.health.harvard.edu/heart-health/high-blood-pressure-the-silent-killer https://www.medicinenet.com/high_blood_pressure/article.htm https://www.uhs.umich.edu/highbloodpressure https://www.bloodpressureuk.org/AboutBloodPressure/Whatisbloodpressure https://www.healthdirect.gov.au/high-blood-pressure-hypertension\\nhttps://www.mayoclinic.org/diseases-conditions/high-blood-pressure/symptoms-causes/syc-20373410 https://www.heart.org/en/health-topics/high-blood-pressure/why-high-blood-pressure-is-a-silent-killer https://www.cdc.gov/bloodpressure/about.htm https://www.nlm.nih.gov/medlineplus/ency/article/000468.htm https://www.nhlbi.nih.gov/health-topics/high-blood-pressure https://www.healthline.com/health/high-blood-pressure-hypertension https://www.webmd.com/hypertension-high-blood-pressure/guide/high-blood-pressure-symptoms https://www.medicalnewstoday.com/articles/322206 https://www.health.harvard.edu/heart-health/high-blood-pressure-the-silent-killer https://www.medicinenet.com/high_blood_pressure/article.htm https://www.uhs.umich.edu/highbloodpressure https://www.bloodpressureuk.org/AboutBloodPressure/Whatisbloodpressure https://www.healthdirect.gov.au/high-blood-pressure-hypertension\\nhttps://www.mayoclinic.org/diseases-conditions/high-blood-pressure/symptoms-causes/syc-20373410 https://www.heart.org/en/health-topics/high-blood',\n",
       "   'logprobs': None,\n",
       "   'finish_reason': 'length',\n",
       "   'stop_reason': None,\n",
       "   'prompt_logprobs': None}],\n",
       " 'usage': {'prompt_tokens': 17,\n",
       "  'total_tokens': 4113,\n",
       "  'completion_tokens': 4096,\n",
       "  'prompt_tokens_details': None}}"
      ]
     },
     "metadata": {},
     "output_type": "display_data"
    }
   ],
   "source": [
    "retrieve_json_output_from_s3(validation_json_file_name1)"
   ]
  },
  {
   "cell_type": "markdown",
   "id": "f8e8f682-16a0-4a84-89e6-b5f4f0de3521",
   "metadata": {},
   "source": [
    "Congratulations! You just verified that the batch transform job is working as expected. Since the model is not required, you can delete it. Note that you are deleting the deployable model. Not the model package."
   ]
  },
  {
   "cell_type": "code",
   "execution_count": null,
   "id": "22a8df79-ad3b-4e85-a054-24931c15f3a3",
   "metadata": {
    "tags": []
   },
   "outputs": [],
   "source": [
    "model.delete_model()"
   ]
  },
  {
   "cell_type": "markdown",
   "id": "37215a51-bf01-4cf0-832a-c7f85a8a06c3",
   "metadata": {},
   "source": [
    "### Unsubscribe to the listing (optional)"
   ]
  },
  {
   "cell_type": "markdown",
   "id": "53cddd4d-4b27-4a94-95b8-5e027e6cd9cd",
   "metadata": {},
   "source": [
    "If you would like to unsubscribe to the model package, follow these steps. Before you cancel the subscription, ensure that you do not have any [deployable model](https://console.aws.amazon.com/sagemaker/home#/models) created from the model package or using the algorithm. Note - You can find this information by looking at the container name associated with the model. \n",
    "\n",
    "**Steps to unsubscribe to product from AWS Marketplace**:\n",
    "1. Navigate to __Machine Learning__ tab on [__Your Software subscriptions page__](https://aws.amazon.com/marketplace/ai/library?productType=ml&ref_=mlmp_gitdemo_indust)\n",
    "2. Locate the listing that you want to cancel the subscription for, and then choose __Cancel Subscription__  to cancel the subscription.\n",
    "\n"
   ]
  }
 ],
 "metadata": {
  "kernelspec": {
   "display_name": "conda_python3",
   "language": "python",
   "name": "conda_python3"
  },
  "language_info": {
   "codemirror_mode": {
    "name": "ipython",
    "version": 3
   },
   "file_extension": ".py",
   "mimetype": "text/x-python",
   "name": "python",
   "nbconvert_exporter": "python",
   "pygments_lexer": "ipython3",
   "version": "3.10.16"
  }
 },
 "nbformat": 4,
 "nbformat_minor": 5
}

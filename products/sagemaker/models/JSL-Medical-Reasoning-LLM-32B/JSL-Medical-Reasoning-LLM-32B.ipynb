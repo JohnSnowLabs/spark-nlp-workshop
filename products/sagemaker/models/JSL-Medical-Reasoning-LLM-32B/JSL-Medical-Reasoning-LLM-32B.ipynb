{
 "cells": [
  {
   "cell_type": "markdown",
   "id": "82a4cf96-c239-49cc-88f9-a8e885bde191",
   "metadata": {},
   "source": [
    "## 1. Subscribe to the model package"
   ]
  },
  {
   "cell_type": "markdown",
   "id": "982d6ab4-d03d-4a5a-ab23-144d8e6ec3d6",
   "metadata": {},
   "source": [
    "To subscribe to the model package:\n",
    "1. Open the model package listing page [Medical Reasoning LLM - 32B](https://aws.amazon.com/marketplace/pp/prodview-x5bfvnroddgfe)\n",
    "1. On the AWS Marketplace listing, click on the **Continue to subscribe** button.\n",
    "1. On the **Subscribe to this software** page, review and click on **\"Accept Offer\"** if you and your organization agrees with EULA, pricing, and support terms. \n",
    "1. Once you click on **Continue to configuration button** and then choose a **region**, you will see a **Product Arn** displayed. This is the model package ARN that you need to specify while creating a deployable model using Boto3. Copy the ARN corresponding to your region and specify the same in the following cell."
   ]
  },
  {
   "cell_type": "markdown",
   "id": "dad4b722-a125-4219-9c22-009acf75414d",
   "metadata": {},
   "source": [
    "- **Model**: `JSL-Medical-Reasoning-LLM-32B`  \n",
    "- **Model Description**: Medical Reasoning LLM - 32B"
   ]
  },
  {
   "cell_type": "code",
   "execution_count": null,
   "id": "9d1fb27b-e0ad-4759-937d-ae4edc209fc1",
   "metadata": {
    "tags": []
   },
   "outputs": [],
   "source": [
    "model_package_arn = \"<Customer to specify Model package ARN corresponding to their AWS region>\""
   ]
  },
  {
   "cell_type": "code",
   "execution_count": null,
   "id": "76ede1bf-2acb-4b5d-9db1-299abfeee20b",
   "metadata": {
    "tags": []
   },
   "outputs": [],
   "source": [
    "import os\n",
    "import re\n",
    "import base64\n",
    "import json\n",
    "import uuid\n",
    "from sagemaker import ModelPackage\n",
    "import sagemaker as sage\n",
    "from sagemaker import get_execution_role\n",
    "import boto3\n",
    "from IPython.display import Image, display\n",
    "from PIL import Image as ImageEdit\n",
    "import numpy as np\n",
    "import pandas as pd\n",
    "\n",
    "pd.set_option('display.max_rows', None)\n",
    "pd.set_option('display.max_columns', None)\n",
    "pd.set_option('display.max_colwidth', None)\n",
    "\n",
    "sagemaker_session = sage.Session()\n",
    "s3_bucket = sagemaker_session.default_bucket()\n",
    "region = sagemaker_session.boto_region_name\n",
    "account_id = boto3.client(\"sts\").get_caller_identity().get(\"Account\")\n",
    "role = get_execution_role()\n",
    "\n",
    "sagemaker = boto3.client(\"sagemaker\")\n",
    "s3_client = sagemaker_session.boto_session.client(\"s3\")\n",
    "ecr = boto3.client(\"ecr\")\n",
    "sm_runtime = boto3.client(\"sagemaker-runtime\")"
   ]
  },
  {
   "cell_type": "code",
   "execution_count": 3,
   "id": "07846ed0-ed90-4a11-a77c-00d1c3ca3cbd",
   "metadata": {
    "tags": []
   },
   "outputs": [],
   "source": [
    "model_name = \"JSL-Medical-Reasoning-LLM-32B\"\n",
    "\n",
    "real_time_inference_instance_type = \"ml.g5.48xlarge\"\n",
    "batch_transform_inference_instance_type = \"ml.g5.48xlarge\""
   ]
  },
  {
   "cell_type": "markdown",
   "id": "9e3a3a54-98d8-4a8a-b812-c33db9a2aa7d",
   "metadata": {},
   "source": [
    "## Model Configuration Documentation  \n",
    "\n",
    "### Default Configuration  \n",
    "The container comes with the following default configurations:  \n",
    "\n",
    "| Parameter                  | Default Value | Description                                                                   |  \n",
    "|----------------------------|---------------|-------------------------------------------------------------------------------|  \n",
    "| **`dtype`**                | `auto`        | Data type for model weights and activations (automatically determined)        |  \n",
    "| **`tensor_parallel_size`** | Auto          | Automatically set to the number of available GPUs (`torch.cuda.device_count()`)|  \n",
    "| **`host`**                 | `0.0.0.0`     | Host name                                                                     |  \n",
    "| **`port`**                 | `8080`        | Port number                                                                   |  \n",
    "| **`tokenizer_mode`**       | `auto`        | Tokenizer mode (automatically determined)                                     |  \n",
    "| **`reasoning_parser`**     | `qwen3`       | Reasoning parser to use for extracting reasoning content from the model output|  \n",
    "\n",
    "### Hardcoded Settings  \n",
    "The following settings are hardcoded in the container and cannot be changed:  \n",
    "\n",
    "| Parameter       | Value           | Description                           |  \n",
    "|-----------------|-----------------|---------------------------------------|  \n",
    "| **`model`**     | `/opt/ml/model` | Model path where SageMaker mounts the model |  \n",
    "\n",
    "### Configurable Environment Variables  \n",
    "You can customize the vLLM server by setting environment variables when creating the model.  \n",
    "\n",
    "**Any parameter from the [vLLM documentation](https://docs.vllm.ai/en/latest/serving/openai_compatible_server.html#vllm-serve) can be set using the corresponding environment variable with the `SM_VLLM_` prefix.**  \n",
    "\n",
    "The container uses a script similar to the [SageMaker entrypoint example](https://docs.vllm.ai/en/v0.8.5/getting_started/examples/sagemaker-entrypoint.html) from the vLLM documentation to convert environment variables to command-line arguments.  \n",
    "\n",
    "---  \n",
    "\n",
    "## Input Format  \n",
    "\n",
    "### 1. Chat Completion  \n",
    "\n",
    "#### Example Payload  \n",
    "```json  \n",
    "{  \n",
    "    \"model\": \"/opt/ml/model\",  \n",
    "    \"messages\": [  \n",
    "        {\"role\": \"system\", \"content\": \"You are a helpful medical assistant.\"},  \n",
    "        {\"role\": \"user\", \"content\": \"What should I do if I have a fever and body aches?\"}  \n",
    "    ],  \n",
    "    \"max_tokens\": 1024,  \n",
    "    \"temperature\": 0.7  \n",
    "}  \n",
    "```  \n",
    "\n",
    "For additional parameters:  \n",
    "- [ChatCompletionRequest](https://github.com/vllm-project/vllm/blob/v0.9.2/vllm/entrypoints/openai/protocol.py#L223)  \n",
    "- [OpenAI's Chat API](https://platform.openai.com/docs/api-reference/chat/create)  \n",
    "\n",
    "---  \n",
    "\n",
    "### 2. Text Completion  \n",
    "\n",
    "#### Single Prompt Example  \n",
    "```json  \n",
    "{  \n",
    "    \"model\": \"/opt/ml/model\",  \n",
    "    \"prompt\": \"How can I maintain good kidney health?\",  \n",
    "    \"max_tokens\": 512,  \n",
    "    \"temperature\": 0.6  \n",
    "}  \n",
    "```  \n",
    "\n",
    "#### Multiple Prompts Example  \n",
    "```json  \n",
    "{  \n",
    "    \"model\": \"/opt/ml/model\",  \n",
    "    \"prompt\": [  \n",
    "        \"How can I maintain good kidney health?\",  \n",
    "        \"What are the best practices for kidney care?\"  \n",
    "    ],  \n",
    "    \"max_tokens\": 512,  \n",
    "    \"temperature\": 0.6  \n",
    "}  \n",
    "```  \n",
    "\n",
    "Reference:  \n",
    "- [CompletionRequest](https://github.com/vllm-project/vllm/blob/v0.9.2/vllm/entrypoints/openai/protocol.py#L741)  \n",
    "- [OpenAI's Completions API](https://platform.openai.com/docs/api-reference/completions/create)  \n",
    "\n",
    "---  \n",
    "\n",
    "### Important Notes:\n",
    "- **Streaming Responses:** Add `\"stream\": true` to your request payload to enable streaming\n",
    "- **Model Path Requirement:** Always set `\"model\": \"/opt/ml/model\"` (SageMaker's fixed model location)"
   ]
  },
  {
   "cell_type": "markdown",
   "id": "07f13be5-3f3b-45db-829d-b99d4584913f",
   "metadata": {},
   "source": [
    "### Initial setup"
   ]
  },
  {
   "cell_type": "code",
   "execution_count": 5,
   "id": "7b61fa7d-8d76-476f-91e2-8fea89e7dfa5",
   "metadata": {
    "tags": []
   },
   "outputs": [],
   "source": [
    "prompt1 = \"\"\"A 23-year-old pregnant woman at 22 weeks gestation presents with burning upon urination. She states it started 1 day ago and has been worsening despite drinking more water and taking cranberry extract. She otherwise feels well and is followed by a doctor for her pregnancy. Her temperature is 97.7°F (36.5°C), blood pressure is 122/77 mmHg, pulse is 80/min, respirations are 19/min, and oxygen saturation is 98% on room air. Physical exam is notable for an absence of costovertebral angle tenderness and a gravid uterus.\n",
    "\n",
    "Which of the following is the best treatment for this patient?\n",
    "A: Ampicillin\n",
    "B: Ceftriaxone\n",
    "C: Ciprofloxacin\n",
    "D: Doxycycline\n",
    "E: Nitrofurantoin\n",
    "\"\"\"\n",
    "\n",
    "prompt2 = \"What should I do if I have a fever and body aches?\"\n",
    "\n",
    "prompts = [\n",
    "    \"How can I maintain good kidney health?\",\n",
    "    \"What are the symptoms of high blood pressure?\"\n",
    "]\n",
    "\n"
   ]
  },
  {
   "cell_type": "code",
   "execution_count": 6,
   "id": "bca8d319-02a4-44ad-b90c-216185f3098c",
   "metadata": {
    "tags": []
   },
   "outputs": [],
   "source": [
    "system_prompt =\"You are a helpful medical assistant. Provide accurate, evidence-based information in response to the following question. Organize the response with clear hierarchical headings and include a conclusion if necessary.\""
   ]
  },
  {
   "cell_type": "markdown",
   "id": "08a626b7-f295-4c49-b856-ce237d5d3203",
   "metadata": {},
   "source": [
    "## 2. Create a deployable model from the model package."
   ]
  },
  {
   "cell_type": "code",
   "execution_count": 7,
   "id": "0e39b84b-7a9f-4004-a204-56af1fd555f1",
   "metadata": {
    "tags": []
   },
   "outputs": [],
   "source": [
    "model = ModelPackage(\n",
    "    role=role,\n",
    "    model_package_arn=model_package_arn,\n",
    "    sagemaker_session=sagemaker_session,\n",
    ")"
   ]
  },
  {
   "cell_type": "markdown",
   "id": "6a846275-5af5-4679-9c52-d35ab157455b",
   "metadata": {},
   "source": [
    "## 3. Create SageMaker Endpoint"
   ]
  },
  {
   "cell_type": "markdown",
   "id": "01b670fa-60d4-45a4-a0d6-3e8e2845b625",
   "metadata": {},
   "source": [
    "If you want to understand how real-time inference with Amazon SageMaker works, see [Documentation](https://docs.aws.amazon.com/sagemaker/latest/dg/how-it-works-hosting.html)."
   ]
  },
  {
   "cell_type": "code",
   "execution_count": 8,
   "id": "8c19c0c0-3ead-4834-8c02-a192da19080b",
   "metadata": {
    "tags": []
   },
   "outputs": [
    {
     "name": "stdout",
     "output_type": "stream",
     "text": [
      "----------------------------!"
     ]
    }
   ],
   "source": [
    "predictor = model.deploy(\n",
    "    initial_instance_count=1,\n",
    "    instance_type=real_time_inference_instance_type, \n",
    "    endpoint_name=model_name,\n",
    "    model_data_download_timeout=3600\n",
    ")"
   ]
  },
  {
   "cell_type": "markdown",
   "id": "23d5c01b-b884-49c6-8b74-98911f6d8e5b",
   "metadata": {
    "tags": []
   },
   "source": [
    "### 3.1 Real-time inference via Amazon SageMaker Endpoint"
   ]
  },
  {
   "cell_type": "code",
   "execution_count": 9,
   "id": "5c195a50-43e4-4341-ad1d-23ca6f0aa45b",
   "metadata": {
    "tags": []
   },
   "outputs": [],
   "source": [
    "def invoke_realtime_endpoint(record):\n",
    "\n",
    "    response = sm_runtime.invoke_endpoint(\n",
    "        EndpointName=model_name,\n",
    "        ContentType=\"application/json\",\n",
    "        Accept=\"application/json\",\n",
    "        Body=json.dumps(record),\n",
    "    )\n",
    "\n",
    "    return json.load(response[\"Body\"])"
   ]
  },
  {
   "cell_type": "code",
   "execution_count": 10,
   "id": "b39309bb-ba2c-4196-bd07-41c444269fc8",
   "metadata": {
    "tags": []
   },
   "outputs": [],
   "source": [
    "def print_colored(text, color='green'):\n",
    "    colors = {\n",
    "        'green': '\\033[92m',\n",
    "        'reset': '\\033[0m',\n",
    "    }\n",
    "    color_code = colors.get(color, colors['reset'])\n",
    "    print(f\"{color_code}{text}{colors['reset']}\", end=\"\", flush=True)"
   ]
  },
  {
   "cell_type": "markdown",
   "id": "e9a475e7-ad31-4b3b-b7b5-21310f541252",
   "metadata": {
    "tags": []
   },
   "source": [
    "#### Chat Completion"
   ]
  },
  {
   "cell_type": "code",
   "execution_count": 11,
   "id": "c22cf887-70d5-4a87-8476-988590228328",
   "metadata": {
    "tags": []
   },
   "outputs": [
    {
     "name": "stdout",
     "output_type": "stream",
     "text": [
      "\u001b[92m\n",
      "Okay, so I need to figure out the best treatment for this 23-year-old pregnant woman at 22 weeks who has burning upon urination. She's been experiencing it for a day and it's gotten worse despite drinking more water and taking cranberry extract. The key points here are that she's pregnant, her symptoms are of a urinary tract infection (UTI), and the options for treatment must be safe during pregnancy.\n",
      "\n",
      "First, I should recall that UTIs in pregnancy are common and can have serious complications if not treated, like preterm labor or pyelonephritis. So, prompt and appropriate antibiotic therapy is important. However, not all antibiotics are safe in pregnancy. The options given are Ampicillin, Ceftriaxone, Ciprofloxacin, Doxycycline, and Nitrofurantoin.\n",
      "\n",
      "I need to remember which of these are considered safe during pregnancy. Let me think. Fluoroquinolones like Ciprofloxacin are generally avoided in pregnancy because of potential effects on cartilage in the developing fetus. Tetracyclines like Doxycycline can cause dental discoloration and affect bone growth, so they're also not recommended, especially in the second and third trimesters. \n",
      "\n",
      "Nitrofurantoin is an option for UTIs, but there's some debate about its safety. I think it's generally considered safe in the first and second trimesters, but there are concerns about its use in the third trimester due to the risk of hemolytic anemia in the newborn, especially if given close to term. However, at 22 weeks, which is the second trimester, it might still be acceptable. But I should check the latest guidelines.\n",
      "\n",
      "Cephalosporins like Ceftriaxone are usually considered safe in pregnancy. Ampicillin is a penicillin and also considered safe. Both of these are first-line options for UTIs in pregnancy. However, the choice between them might depend on the specific guidelines and the likelihood of resistance.\n",
      "\n",
      "The patient has no costovertebral angle tenderness, so it's probably a lower UTI (cystitis) rather than pyelonephritis. For uncomplicated cystitis in pregnancy, the first-line treatments are typically nitrofurantoin, amoxicillin, or cephalexin. However, if there's a concern about resistance, a third-generation cephalosporin like ceftriaxone might be considered. \n",
      "\n",
      "Ciprofloxacin is a fluoroquinolone, which is generally avoided in pregnancy. Doxycycline is a tetracycline, which is also not recommended. \n",
      "\n",
      "So, between the options given, the best choices are likely Ampicillin (A), Ceftriaxone (B), or Nitrofurantoin (E). But which is the best? The guidelines from the CDC or ACOG might have more specific recommendations. For example, in 2021, the CDC recommends nitrofurantoin for uncomplicated cystitis in pregnancy, but with the caveat about the third trimester. Ceftriaxone might be used for more severe cases or if there's a concern about resistance. Ampicillin is a good option as well, but there might be more resistance to it now. \n",
      "\n",
      "Nitrofurantoin is a common choice for uncomplicated UTIs in pregnancy, but I need to make sure it's safe at 22 weeks. The package insert for nitrofurantoin says it can be used in the first and second trimesters but not in the third. So, at 22 weeks, it's acceptable. \n",
      "\n",
      "Therefore, the best answer is likely E: Nitrofurantoin. However, I should double-check if there are any other factors. The patient is at 22 weeks, which is in the second trimester, so nitrofurantoin is appropriate. Ceftriaxone is a good option too, but the question is asking for the best treatment. \n",
      "\n",
      "Wait, but some sources might prefer amoxicillin over nitrofurantoin. However, amoxicillin is a good option. The options given include Ampicillin (which is similar to amoxicillin). So, Ampicillin is a penicillin and is safe. However, in some cases, resistance to ampicillin can be an issue. \n",
      "\n",
      "Alternatively, Ceftriaxone is a third-generation cephalosporin, which is also safe and has good coverage. The choice between these might depend on the specific guidelines. The CDC's 2021 guidelines for uncomplicated cystitis in pregnancy list nitrofurantoin, amoxicillin, or cephalexin as first-line. Ceftriaxone is not listed as first-line for uncomplicated cystitis but might be used if there's a concern for resistance. \n",
      "\n",
      "Given that the patient is pregnant and the options are limited to the ones listed, the best treatment would be either Ampicillin or Nitrofurantoin. But which is more commonly recommended? \n",
      "\n",
      "I think that for uncomplicated cystitis in pregnancy, nitrofurantoin is often the first choice. However, in some cases, especially if there's a history of resistance, cephalexin or ampicillin might be preferred. \n",
      "\n",
      "Given the options, I think the correct answer is E: Nitrofurantoin. However, I should confirm if there are any other considerations. For example, if the patient is allergic to penicillin, but the question doesn't mention that. \n",
      "\n",
      "Alternatively, if the infection is more severe or suspected to be pyelonephritis, the treatment would be different, but in this case, the patient has no costovertebral tenderness, so it's likely a lower UTI. \n",
      "\n",
      "In summary, the best treatment is likely E: Nitrofurantoin, as it's a first-line option for uncomplicated cystitis in pregnancy. However, I need to ensure that the answer aligns with the latest guidelines. If there's a recent change, that could affect the answer, but based on standard practice, E is the best choice.\n",
      "\u001b[0m\u001b[0m\n",
      "\n",
      "# Evaluation and Treatment of Urinary Tract Infection in Pregnancy\n",
      "\n",
      "## Clinical Context\n",
      "The 23-year-old pregnant woman at 22 weeks gestation presents with burning upon urination, consistent with a urinary tract infection (UTI). The absence of costovertebral angle tenderness and normal vital signs suggest this is likely a lower UTI (cystitis) rather than pyelonephritis.\n",
      "\n",
      "## Antibiotic Safety in Pregnancy\n",
      "Not all antibiotics are safe for use during pregnancy. Key considerations include:\n",
      "- **Fluoroquinolones (Ciprofloxacin)**: Generally avoided in pregnancy due to potential cartilage effects on the fetus\n",
      "- **Tetracyclines (Doxycycline)**: Not recommended, particularly in the second and third trimesters, as they can cause dental discoloration and affect bone growth\n",
      "- **Nitrofurantoin**: Generally considered safe in the first and second trimesters, but has potential for hemolytic anemia in newborns if used in the third trimester\n",
      "- **Cephalosporins (Ceftriaxone)**: Generally considered safe in pregnancy\n",
      "- **Penicillins (Ampicillin)**: Considered safe during pregnancy\n",
      "\n",
      "## Evidence-Based Recommendations\n",
      "For uncomplicated cystitis in pregnancy, the CDC and ACOG recommend:\n",
      "- **Nitrofurantoin**: First-line treatment for uncomplicated cystitis in the first and second trimesters\n",
      "- **Amoxicillin or Cephalexin**: Also considered first-line options\n",
      "- **Ceftriaxone**: May be used if there's concern about resistance, but is not typically first-line for uncomplicated cystitis\n",
      "\n",
      "## Conclusion\n",
      "The best treatment for this patient is **E: Nitrofurantoin**. It is a first-line option for uncomplicated cystitis in the second trimester of pregnancy, and its safety profile makes it an appropriate choice for this 22-week pregnant patient.\u001b[0m"
     ]
    }
   ],
   "source": [
    "input_data = {\n",
    "    \"model\": \"/opt/ml/model\",\n",
    "    \"messages\": [\n",
    "        {\"role\": \"system\", \"content\": system_prompt},\n",
    "        {\"role\": \"user\", \"content\": prompt1},\n",
    "    ],\n",
    "    \"max_tokens\": 8192,\n",
    "    \"temperature\": 0.7,\n",
    "    \"top_p\": 0.95,\n",
    "    \"top_k\": 20,\n",
    "    \"min_p\": 0.0,\n",
    "    \"presence_penalty\":0.0\n",
    "}\n",
    "\n",
    "result = invoke_realtime_endpoint(input_data)\n",
    "message = result[\"choices\"][0][\"message\"]\n",
    "\n",
    "reasoning_content = message.get(\"reasoning_content\")\n",
    "content = message.get(\"content\")\n",
    "\n",
    "print_colored(reasoning_content, 'green')\n",
    "print_colored(content, 'reset')"
   ]
  },
  {
   "cell_type": "markdown",
   "id": "d1a76aec-391a-44e9-b385-99aa62f1b4bf",
   "metadata": {},
   "source": [
    "#### Text Completion"
   ]
  },
  {
   "cell_type": "code",
   "execution_count": 13,
   "id": "0c06b069-e3d8-48f4-9c09-fec59143ed11",
   "metadata": {
    "tags": []
   },
   "outputs": [
    {
     "name": "stdout",
     "output_type": "stream",
     "text": [
      " Okay, the user is asking what to do if they have a fever and body aches. First, I need to make sure I cover the immediate steps they can take at home. I should mention rest and hydration since those are common recommendations. Then, over-the-counter medications like acetaminophen or ibuprofen. It's important to note the correct dosages and any contraindications, like not giving aspirin to children.\n",
      "\n",
      "Next, I should address when to seek medical attention. High fever, persistent symptoms, or specific populations like pregnant women or those with chronic conditions might need to see a doctor. Also, warning signs like difficulty breathing or severe pain should be included.\n",
      "\n",
      "I need to provide evidence-based advice, so referencing guidelines from reputable sources like the CDC or WHO would be good. Also, mention the importance of staying home to prevent spreading illness. Maybe add a section about when to call a healthcare provider versus when to go to the ER. \n",
      "\n",
      "Wait, the user might be concerned about the cause of their symptoms. Should I mention possible causes like viral vs. bacterial infections? But the question is about what to do, not the cause. Focus on management and when to seek help. Also, include tips on using a thermometer, dressing appropriately, and cooling measures like a lukewarm bath.\n",
      "\n",
      "Make sure the response is structured with clear headings, as the user requested. Start with general advice, then specific steps, when to seek help, and evidence-based information. Conclude with a summary to reinforce the key points. Avoid medical jargon and keep the language clear and accessible. Double-check the recommended medications and dosages for accuracy. Okay, that should cover it.\n",
      "# Managing Fever and Body Aches: A Step-by-Step Guide\n",
      "\n",
      "## Immediate Self-Care Measures\n",
      "\n",
      "### 1. **Rest and Hydration**\n",
      "   - **Prioritize rest**: Allow your body to conserve energy to fight the underlying infection.\n",
      "   - **Stay hydrated**: Drink plenty of fluids (water, herbal tea, electrolyte drinks) to prevent dehydration, which can worsen symptoms.\n",
      "\n",
      "### 2. **Medication for Symptom Relief**\n",
      "   - **Over-the-counter options**:\n",
      "     - **Acetaminophen (Tylenol)**: Effective for reducing fever and pain. Adults can take 500-1000mg every 4-6 hours (max 4000mg daily).\n",
      "     - **Ibuprofen (Advil, Motrin)**: Reduces fever, pain, and inflammation. Adults can take 400mg every 6-8 hours (max 1200mg daily).\n",
      "   - **Important considerations**:\n",
      "     - Do not give aspirin to children under 18 (risk of Reye's syndrome).\n",
      "     - Avoid these medications if you have liver/kidney issues, bleeding disorders, or are pregnant (consult your doctor).\n",
      "\n",
      "### 3. **Cooling Measures**\n",
      "   - **Dress lightly**: Wear loose, breathable clothing to avoid trapping heat.\n",
      "   - **Lukewarm bath**: A 15-20 minute bath with slightly cool water can help lower body temperature.\n",
      "   - **Cool compress**: Apply a damp cloth to the forehead or neck for temporary relief.\n",
      "\n",
      "## When to Seek Medical Attention\n",
      "\n",
      "### 1. **Urgent Evaluation (Contact Healthcare Provider Immediately)**\n",
      "   - Fever of 103°F (39.4°C) or higher\n",
      "   - Fever lasting more than 3 days\n",
      "   - Severe headache, stiff neck, or sensitivity to light\n",
      "   - Confusion, difficulty breathing, or chest pain\n",
      "   - Rashes or unusual bleeding\n",
      "   - In children under 3 months with any fever\n",
      "\n",
      "### 2. **High-Risk Populations**\n",
      "   - Pregnant individuals\n",
      "   - People with chronic conditions (diabetes, heart disease, immunosuppression)\n",
      "   - Elderly adults (65+ years)\n",
      "   - Those with a weakened immune system\n",
      "\n",
      "## Evidence-Based Recommendations\n",
      "\n",
      "### 1. **Current Guidelines**\n",
      "   - The CDC recommends staying home and avoiding public places to prevent spreading illness.\n",
      "   - WHO advises against using alcohol or ice baths for fever reduction (risk of hypothermia).\n",
      "\n",
      "### 2. **Research-Backed Practices**\n",
      "   - Studies show that adequate sleep and hydration significantly reduce recovery time from viral infections.\n",
      "   - Research indicates that alternating acetaminophen and ibuprofen does not provide additional benefits over using one consistently.\n",
      "\n",
      "## Conclusion\n",
      "\n",
      "Fever and body aches are common symptoms of viral infections, which typically resolve within 7-10 days. Focus on symptom management, hydration, and rest. Monitor your condition closely, and seek medical attention if symptoms worsen or persist beyond 3-5 days. For high-risk individuals, early medical evaluation is strongly recommended. If you experience warning signs like difficulty breathing or severe pain, seek emergency care immediately.\n"
     ]
    }
   ],
   "source": [
    "input_data ={\n",
    "        \"model\": \"/opt/ml/model\",\n",
    "        \"prompt\": f\"{system_prompt}\\n\\nUser: {prompt2}\\n\\nAssistant:\",\n",
    "        \"max_tokens\": 2048,\n",
    "        \"temperature\": 0.7,\n",
    "        \"top_p\": 0.95,\n",
    "        \"top_k\": 20,\n",
    "        \"min_p\": 0.0,\n",
    "        \"presence_penalty\":0.0\n",
    "    }\n",
    "\n",
    "result = invoke_realtime_endpoint(input_data)\n",
    "output_text = result['choices'][0]['text']\n",
    "print(output_text)"
   ]
  },
  {
   "cell_type": "markdown",
   "id": "ccccf37b-9dee-4d38-a0dc-38f2aeaeb780",
   "metadata": {},
   "source": [
    "### 3.2 Real-time inference response as a stream via Amazon SageMaker Endpoint"
   ]
  },
  {
   "cell_type": "code",
   "execution_count": 16,
   "id": "dac2fe86-af82-4ae5-a838-162f65e6d0b1",
   "metadata": {
    "tags": []
   },
   "outputs": [],
   "source": [
    "def invoke_streaming_endpoint(record):\n",
    "    try:\n",
    "        response = sm_runtime.invoke_endpoint_with_response_stream(\n",
    "            EndpointName=model_name,\n",
    "            Body=json.dumps(record),\n",
    "            ContentType=\"application/json\",\n",
    "            Accept=\"text/event-stream\"\n",
    "        )\n",
    "\n",
    "        is_chat_completion = \"messages\" in record\n",
    "\n",
    "        for event in response[\"Body\"]:\n",
    "            if \"PayloadPart\" in event:\n",
    "                chunk = event[\"PayloadPart\"][\"Bytes\"].decode(\"utf-8\")\n",
    "                if chunk.startswith(\"data:\"):\n",
    "                    try:\n",
    "                        data = json.loads(chunk[5:].strip())\n",
    "\n",
    "                        if \"choices\" not in data or len(data[\"choices\"]) == 0:\n",
    "                            continue\n",
    "\n",
    "                        choice = data[\"choices\"][0]\n",
    "                        if is_chat_completion:\n",
    "                            if \"delta\" in choice:\n",
    "                                delta = choice[\"delta\"]\n",
    "\n",
    "                                if \"reasoning_content\" in delta:\n",
    "                                    yield {'type': 'reasoning', 'content': delta[\"reasoning_content\"]}\n",
    "\n",
    "                                elif \"content\" in delta:\n",
    "                                    yield {'type': 'content', 'content': delta[\"content\"]}\n",
    "                        else:\n",
    "\n",
    "                            if \"text\" in choice:\n",
    "                                yield {'type': 'text', 'content': choice[\"text\"]}\n",
    "\n",
    "                    except json.JSONDecodeError:\n",
    "                        continue\n",
    "                        \n",
    "            elif \"ModelStreamError\" in event:\n",
    "                error = event[\"ModelStreamError\"]\n",
    "                yield {'type': 'error', 'content': f\"\\nStream error: {error['Message']} (Error code: {error['ErrorCode']})\"}\n",
    "                break\n",
    "            elif \"InternalStreamFailure\" in event:\n",
    "                failure = event[\"InternalStreamFailure\"]\n",
    "                yield {'type': 'error', 'content': f\"\\nInternal stream failure: {failure['Message']}\"}\n",
    "                break\n",
    "                \n",
    "    except Exception as e:\n",
    "        yield {'type': 'error', 'content': f\"\\nAn error occurred during streaming: {str(e)}\"}"
   ]
  },
  {
   "cell_type": "code",
   "execution_count": 17,
   "id": "428cd405-49aa-4466-bff7-b1b3a9538797",
   "metadata": {
    "tags": []
   },
   "outputs": [],
   "source": [
    "def handle_streaming_chunk(chunk):\n",
    "    \"\"\"\n",
    "    Handles and prints a streaming chunk with appropriate formatting\n",
    "    Args:\n",
    "        chunk: Dictionary with 'type' and 'content' keys\n",
    "    \"\"\"\n",
    "    if chunk['type'] == 'reasoning':\n",
    "        print_colored(chunk['content'], 'green')\n",
    "    elif chunk['type'] == 'content':\n",
    "        print_colored(chunk['content'], 'reset')\n",
    "    elif chunk['type'] == 'text':  # For text completion\n",
    "        print(chunk['content'], end=\"\", flush=True)\n",
    "    elif chunk['type'] == 'error':\n",
    "        print_colored(chunk['content'], 'reset')"
   ]
  },
  {
   "cell_type": "markdown",
   "id": "d2c6f25e-6d6d-41c7-a7ab-8b979e97a145",
   "metadata": {},
   "source": [
    "#### Chat Completion"
   ]
  },
  {
   "cell_type": "code",
   "execution_count": 18,
   "id": "5d62d99f-67a1-46f7-ad52-d2d41b2c5e3a",
   "metadata": {
    "tags": []
   },
   "outputs": [
    {
     "name": "stdout",
     "output_type": "stream",
     "text": [
      "\u001b[0m\u001b[0m\u001b[92m\n",
      "\u001b[0m\u001b[92mOkay\u001b[0m\u001b[92m,\u001b[0m\u001b[92m let\u001b[0m\u001b[92m's\u001b[0m\u001b[92m see\u001b[0m\u001b[92m.\u001b[0m\u001b[92m A\u001b[0m\u001b[92m \u001b[0m\u001b[92m2\u001b[0m\u001b[92m3\u001b[0m\u001b[92m-year\u001b[0m\u001b[92m-old\u001b[0m\u001b[92m pregnant\u001b[0m\u001b[92m woman\u001b[0m\u001b[92m at\u001b[0m\u001b[92m \u001b[0m\u001b[92m2\u001b[0m\u001b[92m2\u001b[0m\u001b[92m weeks\u001b[0m\u001b[92m is\u001b[0m\u001b[92m experiencing\u001b[0m\u001b[92m burning\u001b[0m\u001b[92m during\u001b[0m\u001b[92m ur\u001b[0m\u001b[92mination\u001b[0m\u001b[92m,\u001b[0m\u001b[92m which\u001b[0m\u001b[92m started\u001b[0m\u001b[92m a\u001b[0m\u001b[92m day\u001b[0m\u001b[92m ago\u001b[0m\u001b[92m and\u001b[0m\u001b[92m hasn\u001b[0m\u001b[92m't\u001b[0m\u001b[92m improved\u001b[0m\u001b[92m with\u001b[0m\u001b[92m more\u001b[0m\u001b[92m water\u001b[0m\u001b[92m and\u001b[0m\u001b[92m cran\u001b[0m\u001b[92mberry\u001b[0m\u001b[92m.\u001b[0m\u001b[92m She\u001b[0m\u001b[92m's\u001b[0m\u001b[92m otherwise\u001b[0m\u001b[92m well\u001b[0m\u001b[92m,\u001b[0m\u001b[92m has\u001b[0m\u001b[92m a\u001b[0m\u001b[92m normal\u001b[0m\u001b[92m temperature\u001b[0m\u001b[92m,\u001b[0m\u001b[92m and\u001b[0m\u001b[92m no\u001b[0m\u001b[92m C\u001b[0m\u001b[92mVA\u001b[0m\u001b[92m tend\u001b[0m\u001b[92merness\u001b[0m\u001b[92m.\n",
      "\n",
      "\u001b[0m\u001b[92mFirst\u001b[0m\u001b[92m,\u001b[0m\u001b[92m I\u001b[0m\u001b[92m need\u001b[0m\u001b[92m to\u001b[0m\u001b[92m figure\u001b[0m\u001b[92m out\u001b[0m\u001b[92m what\u001b[0m\u001b[92m's\u001b[0m\u001b[92m causing\u001b[0m\u001b[92m the\u001b[0m\u001b[92m burning\u001b[0m\u001b[92m.\u001b[0m\u001b[92m The\u001b[0m\u001b[92m main\u001b[0m\u001b[92m differential\u001b[0m\u001b[92m for\u001b[0m\u001b[92m dys\u001b[0m\u001b[92muria\u001b[0m\u001b[92m in\u001b[0m\u001b[92m would\u001b[0m\u001b[92m be\u001b[0m\u001b[92m a\u001b[0m\u001b[92m urinary\u001b[0m\u001b[92m tract\u001b[0m\u001b[92m infection\u001b[0m\u001b[92m (\u001b[0m\u001b[92mUT\u001b[0m\u001b[92mI\u001b[0m\u001b[92m).\u001b[0m\u001b[92m increases\u001b[0m\u001b[92m the\u001b[0m\u001b[92m risk\u001b[0m\u001b[92m of\u001b[0m\u001b[92m UT\u001b[0m\u001b[92mIs\u001b[0m\u001b[92m due\u001b[0m\u001b[92m to\u001b[0m\u001b[92m hormonal\u001b[0m\u001b[92m changes\u001b[0m\u001b[92m and\u001b[0m\u001b[92m mechanical\u001b[0m\u001b[92m compression\u001b[0m\u001b[92m of\u001b[0m\u001b[92m the\u001b[0m\u001b[92m ure\u001b[0m\u001b[92mters\u001b[0m\u001b[92m by\u001b[0m\u001b[92m the\u001b[0m\u001b[92m enlarg\u001b[0m\u001b[92ming\u001b[0m\u001b[92m uterus\u001b[0m\u001b[92m,\u001b[0m\u001b[92m which\u001b[0m\u001b[92m can\u001b[0m\u001b[92m cause\u001b[0m\u001b[92m st\u001b[0m\u001b[92masis\u001b[0m\u001b[92m of\u001b[0m\u001b[92m urine\u001b[0m\u001b[92m.\n",
      "\n",
      "\u001b[0m\u001b[92mThe\u001b[0m\u001b[92m is\u001b[0m\u001b[92m about\u001b[0m\u001b[92m the\u001b[0m\u001b[92m best\u001b[0m\u001b[92m treatment\u001b[0m\u001b[92m.\u001b[0m\u001b[92m The\u001b[0m\u001b[92m options\u001b[0m\u001b[92m are\u001b[0m\u001b[92m Amp\u001b[0m\u001b[92mic\u001b[0m\u001b[92millin\u001b[0m\u001b[92m,\u001b[0m\u001b[92m C\u001b[0m\u001b[92mef\u001b[0m\u001b[92mtr\u001b[0m\u001b[92mia\u001b[0m\u001b[92mx\u001b[0m\u001b[92mone\u001b[0m\u001b[92m,\u001b[0m\u001b[92m C\u001b[0m\u001b[92mipro\u001b[0m\u001b[92mf\u001b[0m\u001b[92mlox\u001b[0m\u001b[92macin\u001b[0m\u001b[92m,\u001b[0m\u001b[92m Do\u001b[0m\u001b[92mx\u001b[0m\u001b[92myc\u001b[0m\u001b[92mycl\u001b[0m\u001b[92mine\u001b[0m\u001b[92m,\u001b[0m\u001b[92m and\u001b[0m\u001b[92m Nit\u001b[0m\u001b[92mro\u001b[0m\u001b[92mfur\u001b[0m\u001b[92mant\u001b[0m\u001b[92moin\u001b[0m\u001b[92m.\n",
      "\n",
      "\u001b[0m\u001b[92mI\u001b[0m\u001b[92m that\u001b[0m\u001b[92m certain\u001b[0m\u001b[92m antibiotics\u001b[0m\u001b[92m are\u001b[0m\u001b[92m preferred\u001b[0m\u001b[92m during\u001b[0m\u001b[92m pregnancy\u001b[0m\u001b[92m.\u001b[0m\u001b[92m For\u001b[0m\u001b[92m example\u001b[0m\u001b[92m,\u001b[0m\u001b[92m sulf\u001b[0m\u001b[92mon\u001b[0m\u001b[92mam\u001b[0m\u001b[92mides\u001b[0m\u001b[92m are\u001b[0m\u001b[92m avoided\u001b[0m\u001b[92m in\u001b[0m\u001b[92m the\u001b[0m\u001b[92m second\u001b[0m\u001b[92m and\u001b[0m\u001b[92m third\u001b[0m\u001b[92m trimest\u001b[0m\u001b[92mers\u001b[0m\u001b[92m because\u001b[0m\u001b[92m they\u001b[0m\u001b[92m can\u001b[0m\u001b[92m cause\u001b[0m\u001b[92m kern\u001b[0m\u001b[92micter\u001b[0m\u001b[92mus\u001b[0m\u001b[92m in\u001b[0m\u001b[92m the\u001b[0m\u001b[92m newborn\u001b[0m\u001b[92m.\u001b[0m\u001b[92m Nit\u001b[0m\u001b[92mro\u001b[0m\u001b[92mfur\u001b[0m\u001b[92mant\u001b[0m\u001b[92moin\u001b[0m\u001b[92m is\u001b[0m\u001b[92m often\u001b[0m\u001b[92m used\u001b[0m\u001b[92m for\u001b[0m\u001b[92m UT\u001b[0m\u001b[92mIs\u001b[0m\u001b[92m in\u001b[0m\u001b[92m pregnancy\u001b[0m\u001b[92m,\u001b[0m\u001b[92m but\u001b[0m\u001b[92m I\u001b[0m\u001b[92m think\u001b[0m\u001b[92m there\u001b[0m\u001b[92m's\u001b[0m\u001b[92m a\u001b[0m\u001b[92m recommendation\u001b[0m\u001b[92m to\u001b[0m\u001b[92m avoid\u001b[0m\u001b[92m it\u001b[0m\u001b[92m in\u001b[0m\u001b[92m the\u001b[0m\u001b[92m third\u001b[0m\u001b[92m trimest\u001b[0m\u001b[92mer\u001b[0m\u001b[92m due\u001b[0m\u001b[92m to\u001b[0m\u001b[92m the\u001b[0m\u001b[92m risk\u001b[0m\u001b[92m of\u001b[0m\u001b[92m hem\u001b[0m\u001b[92moly\u001b[0m\u001b[92mtic\u001b[0m\u001b[92m an\u001b[0m\u001b[92memia\u001b[0m\u001b[92m in\u001b[0m\u001b[92m the\u001b[0m\u001b[92m newborn\u001b[0m\u001b[92m.\u001b[0m\u001b[92m Since\u001b[0m\u001b[92m this\u001b[0m\u001b[92m patient\u001b[0m\u001b[92m is\u001b[0m\u001b[92m \u001b[0m\u001b[92m2\u001b[0m\u001b[92m2\u001b[0m\u001b[92m weeks\u001b[0m\u001b[92m,\u001b[0m\u001b[92m which\u001b[0m\u001b[92m is\u001b[0m\u001b[92m second\u001b[0m\u001b[92m trimest\u001b[0m\u001b[92mer\u001b[0m\u001b[92m,\u001b[0m\u001b[92m maybe\u001b[0m\u001b[92m Nit\u001b[0m\u001b[92mro\u001b[0m\u001b[92mfur\u001b[0m\u001b[92mant\u001b[0m\u001b[92moin\u001b[0m\u001b[92m is\u001b[0m\u001b[92m an\u001b[0m\u001b[92m option\u001b[0m\u001b[92m.\n",
      "\n",
      "\u001b[0m\u001b[92mC\u001b[0m\u001b[92mipro\u001b[0m\u001b[92mf\u001b[0m\u001b[92mlox\u001b[0m\u001b[92macin\u001b[0m\u001b[92m is\u001b[0m\u001b[92m a\u001b[0m\u001b[92m flu\u001b[0m\u001b[92moro\u001b[0m\u001b[92mquin\u001b[0m\u001b[92mol\u001b[0m\u001b[92mone\u001b[0m\u001b[92m.\u001b[0m\u001b[92m I\u001b[0m\u001b[92m recall\u001b[0m\u001b[92m that\u001b[0m\u001b[92m flu\u001b[0m\u001b[92moro\u001b[0m\u001b[92mquin\u001b[0m\u001b[92mol\u001b[0m\u001b[92mones\u001b[0m\u001b[92m are\u001b[0m\u001b[92m generally\u001b[0m\u001b[92m considered\u001b[0m\u001b[92m Category\u001b[0m\u001b[92m C\u001b[0m\u001b[92m in\u001b[0m\u001b[92m pregnancy\u001b[0m\u001b[92m,\u001b[0m\u001b[92m and\u001b[0m\u001b[92m there\u001b[0m\u001b[92m have\u001b[0m\u001b[92m been\u001b[0m\u001b[92m some\u001b[0m\u001b[92m concerns\u001b[0m\u001b[92m about\u001b[0m\u001b[92m cart\u001b[0m\u001b[92milage\u001b[0m\u001b[92m damage\u001b[0m\u001b[92m in\u001b[0m\u001b[92m the\u001b[0m\u001b[92m fetus\u001b[0m\u001b[92m.\u001b[0m\u001b[92m So\u001b[0m\u001b[92m maybe\u001b[0m\u001b[92m not\u001b[0m\u001b[92m the\u001b[0m\u001b[92m first\u001b[0m\u001b[92m choice\u001b[0m\u001b[92m.\n",
      "\n",
      "\u001b[0m\u001b[92mD\u001b[0m\u001b[92mox\u001b[0m\u001b[92myc\u001b[0m\u001b[92mycl\u001b[0m\u001b[92mine\u001b[0m\u001b[92m is\u001b[0m\u001b[92m a\u001b[0m\u001b[92m t\u001b[0m\u001b[92metr\u001b[0m\u001b[92macy\u001b[0m\u001b[92mcline\u001b[0m\u001b[92m.\u001b[0m\u001b[92m T\u001b[0m\u001b[92metr\u001b[0m\u001b[92macy\u001b[0m\u001b[92mcl\u001b[0m\u001b[92mines\u001b[0m\u001b[92m are\u001b[0m\u001b[92m not\u001b[0m\u001b[92m recommended\u001b[0m\u001b[92m in\u001b[0m\u001b[92m pregnancy\u001b[0m\u001b[92m,\u001b[0m\u001b[92m especially\u001b[0m\u001b[92m in\u001b[0m\u001b[92m the\u001b[0m\u001b[92m second\u001b[0m\u001b[92m and\u001b[0m\u001b[92m third\u001b[0m\u001b[92m trimest\u001b[0m\u001b[92mers\u001b[0m\u001b[92m,\u001b[0m\u001b[92m because\u001b[0m\u001b[92m they\u001b[0m\u001b[92m can\u001b[0m\u001b[92m affect\u001b[0m\u001b[92m fetal\u001b[0m\u001b[92m bone\u001b[0m\u001b[92m and\u001b[0m\u001b[92m teeth\u001b[0m\u001b[92m development\u001b[0m\u001b[92m.\n",
      "\n",
      "\u001b[0m\u001b[92mC\u001b[0m\u001b[92mef\u001b[0m\u001b[92mtr\u001b[0m\u001b[92mia\u001b[0m\u001b[92mx\u001b[0m\u001b[92mone\u001b[0m\u001b[92m is\u001b[0m\u001b[92m a\u001b[0m\u001b[92m third\u001b[0m\u001b[92m-generation\u001b[0m\u001b[92m cep\u001b[0m\u001b[92mhal\u001b[0m\u001b[92mos\u001b[0m\u001b[92mpor\u001b[0m\u001b[92min\u001b[0m\u001b[92m.\u001b[0m\u001b[92m C\u001b[0m\u001b[92mep\u001b[0m\u001b[92mhal\u001b[0m\u001b[92mos\u001b[0m\u001b[92mpor\u001b[0m\u001b[92mins\u001b[0m\u001b[92m are\u001b[0m\u001b[92m generally\u001b[0m\u001b[92m considered\u001b[0m\u001b[92m safe\u001b[0m\u001b[92m in\u001b[0m\u001b[92m pregnancy\u001b[0m\u001b[92m,\u001b[0m\u001b[92m but\u001b[0m\u001b[92m I\u001b[0m\u001b[92m think\u001b[0m\u001b[92m they\u001b[0m\u001b[92m're\u001b[0m\u001b[92m not\u001b[0m\u001b[92m the\u001b[0m\u001b[92m first\u001b[0m\u001b[92m-line\u001b[0m\u001b[92m for\u001b[0m\u001b[92m UT\u001b[0m\u001b[92mIs\u001b[0m\u001b[92m.\u001b[0m\u001b[92m First\u001b[0m\u001b[92m-line\u001b[0m\u001b[92m for\u001b[0m\u001b[92m UT\u001b[0m\u001b[92mIs\u001b[0m\u001b[92m in\u001b[0m\u001b[92m pregnancy\u001b[0m\u001b[92m might\u001b[0m\u001b[92m be\u001b[0m\u001b[92m am\u001b[0m\u001b[92mpic\u001b[0m\u001b[92millin\u001b[0m\u001b[92m,\u001b[0m\u001b[92m but\u001b[0m\u001b[92m wait\u001b[0m\u001b[92m,\u001b[0m\u001b[92m the\u001b[0m\u001b[92m resistance\u001b[0m\u001b[92m to\u001b[0m\u001b[92m am\u001b[0m\u001b[92mpic\u001b[0m\u001b[92millin\u001b[0m\u001b[92m is\u001b[0m\u001b[92m quite\u001b[0m\u001b[92m high\u001b[0m\u001b[92m,\u001b[0m\u001b[92m so\u001b[0m\u001b[92m sometimes\u001b[0m\u001b[92m other\u001b[0m\u001b[92m antibiotics\u001b[0m\u001b[92m are\u001b[0m\u001b[92m.\n",
      "\n",
      "\u001b[0m\u001b[92mWait\u001b[0m\u001b[92m,\u001b[0m\u001b[92m in\u001b[0m\u001b[92m the\u001b[0m\u001b[92m US\u001b[0m\u001b[92m,\u001b[0m\u001b[92m the\u001b[0m\u001b[92m standard\u001b[0m\u001b[92m treatment\u001b[0m\u001b[92m for\u001b[0m\u001b[92m uncomp\u001b[0m\u001b[92mlicated\u001b[0m\u001b[92m UT\u001b[0m\u001b[92mI\u001b[0m\u001b[92m in\u001b[0m\u001b[92m is\u001b[0m\u001b[92m often\u001b[0m\u001b[92m nit\u001b[0m\u001b[92mro\u001b[0m\u001b[92mfur\u001b[0m\u001b[92mant\u001b[0m\u001b[92moin\u001b[0m\u001b[92m (\u001b[0m\u001b[92mif\u001b[0m\u001b[92m not\u001b[0m\u001b[92m in\u001b[0m\u001b[92m third\u001b[0m\u001b[92m trimest\u001b[0m\u001b[92mer\u001b[0m\u001b[92m),\u001b[0m\u001b[92m trim\u001b[0m\u001b[92meth\u001b[0m\u001b[92mop\u001b[0m\u001b[92mrim\u001b[0m\u001b[92m-s\u001b[0m\u001b[92mulf\u001b[0m\u001b[92mam\u001b[0m\u001b[92meth\u001b[0m\u001b[92mox\u001b[0m\u001b[92mazole\u001b[0m\u001b[92m (\u001b[0m\u001b[92mbut\u001b[0m\u001b[92m sulf\u001b[0m\u001b[92mam\u001b[0m\u001b[92meth\u001b[0m\u001b[92mox\u001b[0m\u001b[92mazole\u001b[0m\u001b[92m is\u001b[0m\u001b[92m a\u001b[0m\u001b[92m sulf\u001b[0m\u001b[92mon\u001b[0m\u001b[92mamide\u001b[0m\u001b[92m,\u001b[0m\u001b[92m so\u001b[0m\u001b[92m third\u001b[0m\u001b[92m trimest\u001b[0m\u001b[92mer\u001b[0m\u001b[92m is\u001b[0m\u001b[92m a\u001b[0m\u001b[92m no\u001b[0m\u001b[92m-go\u001b[0m\u001b[92m),\u001b[0m\u001b[92m or\u001b[0m\u001b[92m am\u001b[0m\u001b[92moxic\u001b[0m\u001b[92millin\u001b[0m\u001b[92m-cl\u001b[0m\u001b[92mav\u001b[0m\u001b[92mulan\u001b[0m\u001b[92mate\u001b[0m\u001b[92m.\u001b[0m\u001b[92m However\u001b[0m\u001b[92m,\u001b[0m\u001b[92m if\u001b[0m\u001b[92m the\u001b[0m\u001b[92m patient\u001b[0m\u001b[92m is\u001b[0m\u001b[92m in\u001b[0m\u001b[92m the\u001b[0m\u001b[92m second\u001b[0m\u001b[92m trimest\u001b[0m\u001b[92mer\u001b[0m\u001b[92m,\u001b[0m\u001b[92m maybe\u001b[0m\u001b[92m Nit\u001b[0m\u001b[92mro\u001b[0m\u001b[92mfur\u001b[0m\u001b[92mant\u001b[0m\u001b[92moin\u001b[0m\u001b[92m is\u001b[0m\u001b[92m okay\u001b[0m\u001b[92m.\n",
      "\n",
      "\u001b[0m\u001b[92mThe\u001b[0m\u001b[92m patient\u001b[0m\u001b[92m is\u001b[0m\u001b[92m \u001b[0m\u001b[92m2\u001b[0m\u001b[92m2\u001b[0m\u001b[92m weeks\u001b[0m\u001b[92m,\u001b[0m\u001b[92m so\u001b[0m\u001b[92m Nit\u001b[0m\u001b[92mro\u001b[0m\u001b[92mfur\u001b[0m\u001b[92mant\u001b[0m\u001b[92moin\u001b[0m\u001b[92m is\u001b[0m\u001b[92m.\u001b[0m\u001b[92m The\u001b[0m\u001b[92m question\u001b[0m\u001b[92m is\u001b[0m\u001b[92m about\u001b[0m\u001b[92m the\u001b[0m\u001b[92m best\u001b[0m\u001b[92m treatment\u001b[0m\u001b[92m.\u001b[0m\u001b[92m So\u001b[0m\u001b[92m the\u001b[0m\u001b[92m options\u001b[0m\u001b[92m are\u001b[0m\u001b[92m E\u001b[0m\u001b[92m:\u001b[0m\u001b[92m Nit\u001b[0m\u001b[92mro\u001b[0m\u001b[92mfur\u001b[0m\u001b[92mant\u001b[0m\u001b[92moin\u001b[0m\u001b[92m.\n",
      "\n",
      "\u001b[0m\u001b[92mBut\u001b[0m\u001b[92m I\u001b[0m\u001b[92m need\u001b[0m\u001b[92m to\u001b[0m\u001b[92m check\u001b[0m\u001b[92m if\u001b[0m\u001b[92m there\u001b[0m\u001b[92m's\u001b[0m\u001b[92m a\u001b[0m\u001b[92m better\u001b[0m\u001b[92m answer\u001b[0m\u001b[92m.\u001b[0m\u001b[92m Amp\u001b[0m\u001b[92mic\u001b[0m\u001b[92millin\u001b[0m\u001b[92m is\u001b[0m\u001b[92m a\u001b[0m\u001b[92m pen\u001b[0m\u001b[92mic\u001b[0m\u001b[92millin\u001b[0m\u001b[92m.\u001b[0m\u001b[92m If\u001b[0m\u001b[92m the\u001b[0m\u001b[92m patient\u001b[0m\u001b[92m is\u001b[0m\u001b[92m,\u001b[0m\u001b[92m that\u001b[0m\u001b[92m's\u001b[0m\u001b[92m a\u001b[0m\u001b[92m problem\u001b[0m\u001b[92m,\u001b[0m\u001b[92m but\u001b[0m\u001b[92m the\u001b[0m\u001b[92m question\u001b[0m\u001b[92m doesn\u001b[0m\u001b[92m't\u001b[0m\u001b[92m mention\u001b[0m\u001b[92m any\u001b[0m\u001b[92m allergy\u001b[0m\u001b[92m.\u001b[0m\u001b[92m However\u001b[0m\u001b[92m,\u001b[0m\u001b[92m in\u001b[0m\u001b[92m the\u001b[0m\u001b[92m US\u001b[0m\u001b[92m,\u001b[0m\u001b[92m the\u001b[0m\u001b[92m for\u001b[0m\u001b[92m UT\u001b[0m\u001b[92mI\u001b[0m\u001b[92m in\u001b[0m\u001b[92m pregnancy\u001b[0m\u001b[92m is\u001b[0m\u001b[92m often\u001b[0m\u001b[92m Nit\u001b[0m\u001b[92mro\u001b[0m\u001b[92mfur\u001b[0m\u001b[92mant\u001b[0m\u001b[92moin\u001b[0m\u001b[92m or\u001b[0m\u001b[92m am\u001b[0m\u001b[92moxic\u001b[0m\u001b[92millin\u001b[0m\u001b[92m-cl\u001b[0m\u001b[92mav\u001b[0m\u001b[92mulan\u001b[0m\u001b[92mate\u001b[0m\u001b[92m.\u001b[0m\u001b[92m Amp\u001b[0m\u001b[92mic\u001b[0m\u001b[92millin\u001b[0m\u001b[92m is\u001b[0m\u001b[92m a\u001b[0m\u001b[92m possible\u001b[0m\u001b[92m option\u001b[0m\u001b[92m,\u001b[0m\u001b[92m but\u001b[0m\u001b[92m if\u001b[0m\u001b[92m the\u001b[0m\u001b[92m infection\u001b[0m\u001b[92m is\u001b[0m\u001b[92m resistant\u001b[0m\u001b[92m,\u001b[0m\u001b[92m that\u001b[0m\u001b[92m's\u001b[0m\u001b[92m a\u001b[0m\u001b[92m problem\u001b[0m\u001b[92m.\u001b[0m\u001b[92m However\u001b[0m\u001b[92m,\u001b[0m\u001b[92m the\u001b[0m\u001b[92m question\u001b[0m\u001b[92m is\u001b[0m\u001b[92m about\u001b[0m\u001b[92m the\u001b[0m\u001b[92m best\u001b[0m\u001b[92m treatment\u001b[0m\u001b[92m.\u001b[0m\u001b[92m The\u001b[0m\u001b[92m options\u001b[0m\u001b[92m given\u001b[0m\u001b[92m are\u001b[0m\u001b[92m Amp\u001b[0m\u001b[92mic\u001b[0m\u001b[92millin\u001b[0m\u001b[92m,\u001b[0m\u001b[92m C\u001b[0m\u001b[92mef\u001b[0m\u001b[92mtr\u001b[0m\u001b[92mia\u001b[0m\u001b[92mx\u001b[0m\u001b[92mone\u001b[0m\u001b[92m,\u001b[0m\u001b[92m C\u001b[0m\u001b[92mipro\u001b[0m\u001b[92mf\u001b[0m\u001b[92mlox\u001b[0m\u001b[92macin\u001b[0m\u001b[92m,\u001b[0m\u001b[92m Do\u001b[0m\u001b[92mx\u001b[0m\u001b[92myc\u001b[0m\u001b[92mycl\u001b[0m\u001b[92mine\u001b[0m\u001b[92m,\u001b[0m\u001b[92m Nit\u001b[0m\u001b[92mro\u001b[0m\u001b[92mfur\u001b[0m\u001b[92mant\u001b[0m\u001b[92moin\u001b[0m\u001b[92m.\n",
      "\n",
      "\u001b[0m\u001b[92mGiven\u001b[0m\u001b[92m that\u001b[0m\u001b[92m,\u001b[0m\u001b[92m the\u001b[0m\u001b[92m best\u001b[0m\u001b[92m answer\u001b[0m\u001b[92m is\u001b[0m\u001b[92m E\u001b[0m\u001b[92m:\u001b[0m\u001b[92m Nit\u001b[0m\u001b[92mro\u001b[0m\u001b[92mfur\u001b[0m\u001b[92mant\u001b[0m\u001b[92moin\u001b[0m\u001b[92m.\u001b[0m\u001b[92m However\u001b[0m\u001b[92m,\u001b[0m\u001b[92m I\u001b[0m\u001b[92m need\u001b[0m\u001b[92m to\u001b[0m\u001b[92m check\u001b[0m\u001b[92m if\u001b[0m\u001b[92m there\u001b[0m\u001b[92m are\u001b[0m\u001b[92m any\u001b[0m\u001b[92m other\u001b[0m\u001b[92m factors\u001b[0m\u001b[92m.\u001b[0m\u001b[92m The\u001b[0m\u001b[92m patient\u001b[0m\u001b[92m has\u001b[0m\u001b[92m no\u001b[0m\u001b[92m C\u001b[0m\u001b[92mVA\u001b[0m\u001b[92m tend\u001b[0m\u001b[92merness\u001b[0m\u001b[92m,\u001b[0m\u001b[92m so\u001b[0m\u001b[92m it\u001b[0m\u001b[92m's\u001b[0m\u001b[92m likely\u001b[0m\u001b[92m a\u001b[0m\u001b[92m lower\u001b[0m\u001b[92m UT\u001b[0m\u001b[92mI\u001b[0m\u001b[92m (\u001b[0m\u001b[92mc\u001b[0m\u001b[92myst\u001b[0m\u001b[92mitis\u001b[0m\u001b[92m)\u001b[0m\u001b[92m rather\u001b[0m\u001b[92m than\u001b[0m\u001b[92m py\u001b[0m\u001b[92mel\u001b[0m\u001b[92mone\u001b[0m\u001b[92mph\u001b[0m\u001b[92mritis\u001b[0m\u001b[92m.\u001b[0m\u001b[92m For\u001b[0m\u001b[92m lower\u001b[0m\u001b[92m UT\u001b[0m\u001b[92mI\u001b[0m\u001b[92m in\u001b[0m\u001b[92m pregnancy\u001b[0m\u001b[92m,\u001b[0m\u001b[92m the\u001b[0m\u001b[92m is\u001b[0m\u001b[92m often\u001b[0m\u001b[92m a\u001b[0m\u001b[92m \u001b[0m\u001b[92m7\u001b[0m\u001b[92m-day\u001b[0m\u001b[92m course\u001b[0m\u001b[92m of\u001b[0m\u001b[92m antibiotics\u001b[0m\u001b[92m.\u001b[0m\u001b[92m Nit\u001b[0m\u001b[92mro\u001b[0m\u001b[92mfur\u001b[0m\u001b[92mant\u001b[0m\u001b[92moin\u001b[0m\u001b[92m is\u001b[0m\u001b[92m a\u001b[0m\u001b[92m first\u001b[0m\u001b[92m-line\u001b[0m\u001b[92m option\u001b[0m\u001b[92m.\u001b[0m\u001b[92m Amp\u001b[0m\u001b[92mic\u001b[0m\u001b[92millin\u001b[0m\u001b[92m is\u001b[0m\u001b[92m also\u001b[0m\u001b[92m a\u001b[0m\u001b[92m possible\u001b[0m\u001b[92m option\u001b[0m\u001b[92m,\u001b[0m\u001b[92m but\u001b[0m\u001b[92m if\u001b[0m\u001b[92m the\u001b[0m\u001b[92m patient\u001b[0m\u001b[92m is\u001b[0m\u001b[92m in\u001b[0m\u001b[92m the\u001b[0m\u001b[92m second\u001b[0m\u001b[92m trimest\u001b[0m\u001b[92mer\u001b[0m\u001b[92m,\u001b[0m\u001b[92m Nit\u001b[0m\u001b[92mro\u001b[0m\u001b[92mfur\u001b[0m\u001b[92mant\u001b[0m\u001b[92moin\u001b[0m\u001b[92m is\u001b[0m\u001b[92m preferred\u001b[0m\u001b[92m.\u001b[0m\u001b[92m So\u001b[0m\u001b[92m E\u001b[0m\u001b[92m is\u001b[0m\u001b[92m the\u001b[0m\u001b[92m best\u001b[0m\u001b[92m choice\u001b[0m\u001b[92m.\n",
      "\u001b[0m\u001b[0m\n",
      "\n",
      "\u001b[0m\u001b[0m#\u001b[0m\u001b[0m Treatment\u001b[0m\u001b[0m of\u001b[0m\u001b[0m Dys\u001b[0m\u001b[0muria\u001b[0m\u001b[0m in\u001b[0m\u001b[0m a\u001b[0m\u001b[0m Pregn\u001b[0m\u001b[0mant\u001b[0m\u001b[0m Woman\u001b[0m\u001b[0m\n",
      "\n",
      "\u001b[0m\u001b[0m##\u001b[0m\u001b[0m Clinical\u001b[0m\u001b[0m Presentation\u001b[0m\u001b[0m\n",
      "\u001b[0m\u001b[0m-\u001b[0m\u001b[0m \u001b[0m\u001b[0m2\u001b[0m\u001b[0m3\u001b[0m\u001b[0m-year\u001b[0m\u001b[0m-old\u001b[0m\u001b[0m woman\u001b[0m\u001b[0m at\u001b[0m\u001b[0m \u001b[0m\u001b[0m2\u001b[0m\u001b[0m2\u001b[0m\u001b[0m weeks\u001b[0m\u001b[0m gest\u001b[0m\u001b[0mation\u001b[0m\u001b[0m\n",
      "\u001b[0m\u001b[0m-\u001b[0m\u001b[0m Symptoms\u001b[0m\u001b[0m:\u001b[0m\u001b[0m Burning\u001b[0m\u001b[0m upon\u001b[0m\u001b[0m ur\u001b[0m\u001b[0mination\u001b[0m\u001b[0m for\u001b[0m\u001b[0m \u001b[0m\u001b[0m1\u001b[0m\u001b[0m day\u001b[0m\u001b[0m,\u001b[0m\u001b[0m worsening\u001b[0m\u001b[0m despite\u001b[0m\u001b[0m increased\u001b[0m\u001b[0m water\u001b[0m\u001b[0m and\u001b[0m\u001b[0m cran\u001b[0m\u001b[0mberry\u001b[0m\u001b[0m extract\u001b[0m\u001b[0m\n",
      "\u001b[0m\u001b[0m-\u001b[0m\u001b[0m Vital\u001b[0m\u001b[0m signs\u001b[0m\u001b[0m:\u001b[0m\u001b[0m Normal\u001b[0m\u001b[0m (\u001b[0m\u001b[0m9\u001b[0m\u001b[0m7\u001b[0m\u001b[0m.\u001b[0m\u001b[0m7\u001b[0m\u001b[0m°F\u001b[0m\u001b[0m,\u001b[0m\u001b[0m \u001b[0m\u001b[0m1\u001b[0m\u001b[0m2\u001b[0m\u001b[0m2\u001b[0m\u001b[0m/\u001b[0m\u001b[0m7\u001b[0m\u001b[0m7\u001b[0m\u001b[0m mm\u001b[0m\u001b[0mH\u001b[0m\u001b[0mg\u001b[0m\u001b[0m,\u001b[0m\u001b[0m \u001b[0m\u001b[0m8\u001b[0m\u001b[0m0\u001b[0m\u001b[0m bpm\u001b[0m\u001b[0m,\u001b[0m\u001b[0m \u001b[0m\u001b[0m1\u001b[0m\u001b[0m9\u001b[0m\u001b[0m respir\u001b[0m\u001b[0mations\u001b[0m\u001b[0m,\u001b[0m\u001b[0m \u001b[0m\u001b[0m9\u001b[0m\u001b[0m8\u001b[0m\u001b[0m%\u001b[0m\u001b[0m O\u001b[0m\u001b[0m2\u001b[0m\u001b[0m)\n",
      "\u001b[0m\u001b[0m-\u001b[0m\u001b[0m Physical\u001b[0m\u001b[0m exam\u001b[0m\u001b[0m:\u001b[0m\u001b[0m No\u001b[0m\u001b[0m cost\u001b[0m\u001b[0mover\u001b[0m\u001b[0mte\u001b[0m\u001b[0mbral\u001b[0m\u001b[0m angle\u001b[0m\u001b[0m tend\u001b[0m\u001b[0merness\u001b[0m\u001b[0m,\u001b[0m\u001b[0m gravid\u001b[0m\u001b[0m uterus\u001b[0m\u001b[0m\n",
      "\n",
      "\u001b[0m\u001b[0m##\u001b[0m\u001b[0m Differential\u001b[0m\u001b[0m Diagnosis\u001b[0m\u001b[0m\n",
      "\u001b[0m\u001b[0m-\u001b[0m\u001b[0m **\u001b[0m\u001b[0mUn\u001b[0m\u001b[0mcomp\u001b[0m\u001b[0mlicated\u001b[0m\u001b[0m urinary\u001b[0m\u001b[0m tract\u001b[0m\u001b[0m infection\u001b[0m\u001b[0m (\u001b[0m\u001b[0mUT\u001b[0m\u001b[0mI\u001b[0m\u001b[0m)**\u001b[0m\u001b[0m:\u001b[0m\u001b[0m Most\u001b[0m\u001b[0m likely\u001b[0m\u001b[0m diagnosis\u001b[0m\u001b[0m\n",
      "\u001b[0m\u001b[0m \u001b[0m\u001b[0m -\u001b[0m\u001b[0m Pregnancy\u001b[0m\u001b[0m increases\u001b[0m\u001b[0m UT\u001b[0m\u001b[0mI\u001b[0m\u001b[0m risk\u001b[0m\u001b[0m due\u001b[0m\u001b[0m to\u001b[0m\u001b[0m hormonal\u001b[0m\u001b[0m changes\u001b[0m\u001b[0m and\u001b[0m\u001b[0m mechanical\u001b[0m\u001b[0m compression\u001b[0m\u001b[0m of\u001b[0m\u001b[0m ure\u001b[0m\u001b[0mters\u001b[0m\u001b[0m\n",
      "\n",
      "\u001b[0m\u001b[0m##\u001b[0m\u001b[0m Treatment\u001b[0m\u001b[0m Options\u001b[0m\u001b[0m Analysis\u001b[0m\u001b[0m\n",
      "\n",
      "\u001b[0m\u001b[0m###\u001b[0m\u001b[0m A\u001b[0m\u001b[0m:\u001b[0m\u001b[0m Amp\u001b[0m\u001b[0mic\u001b[0m\u001b[0millin\u001b[0m\u001b[0m\n",
      "\u001b[0m\u001b[0m-\u001b[0m\u001b[0m Pen\u001b[0m\u001b[0mic\u001b[0m\u001b[0millin\u001b[0m\u001b[0m antibiotic\u001b[0m\u001b[0m\n",
      "\u001b[0m\u001b[0m-\u001b[0m\u001b[0m Consider\u001b[0m\u001b[0med\u001b[0m\u001b[0m safe\u001b[0m\u001b[0m in\u001b[0m\u001b[0m pregnancy\u001b[0m\u001b[0m\n",
      "\u001b[0m\u001b[0m-\u001b[0m\u001b[0m Limited\u001b[0m\u001b[0m by\u001b[0m\u001b[0m high\u001b[0m\u001b[0m resistance\u001b[0m\u001b[0m rates\u001b[0m\u001b[0m in\u001b[0m\u001b[0m many\u001b[0m\u001b[0m regions\u001b[0m\u001b[0m\n",
      "\u001b[0m\u001b[0m-\u001b[0m\u001b[0m Not\u001b[0m\u001b[0m first\u001b[0m\u001b[0m-line\u001b[0m\u001b[0m for\u001b[0m\u001b[0m uncomp\u001b[0m\u001b[0mlicated\u001b[0m\u001b[0m UT\u001b[0m\u001b[0mI\u001b[0m\u001b[0m in\u001b[0m\u001b[0m pregnancy\u001b[0m\u001b[0m\n",
      "\n",
      "\u001b[0m\u001b[0m###\u001b[0m\u001b[0m B\u001b[0m\u001b[0m:\u001b[0m\u001b[0m C\u001b[0m\u001b[0mef\u001b[0m\u001b[0mtr\u001b[0m\u001b[0mia\u001b[0m\u001b[0mx\u001b[0m\u001b[0mone\u001b[0m\u001b[0m\n",
      "\u001b[0m\u001b[0m-\u001b[0m\u001b[0m Third\u001b[0m\u001b[0m-generation\u001b[0m\u001b[0m cep\u001b[0m\u001b[0mhal\u001b[0m\u001b[0mos\u001b[0m\u001b[0mpor\u001b[0m\u001b[0min\u001b[0m\u001b[0m\n",
      "\u001b[0m\u001b[0m-\u001b[0m\u001b[0m Generally\u001b[0m\u001b[0m safe\u001b[0m\u001b[0m in\u001b[0m\u001b[0m pregnancy\u001b[0m\u001b[0m\n",
      "\u001b[0m\u001b[0m-\u001b[0m\u001b[0m Not\u001b[0m\u001b[0m typically\u001b[0m\u001b[0m first\u001b[0m\u001b[0m-line\u001b[0m\u001b[0m for\u001b[0m\u001b[0m uncomp\u001b[0m\u001b[0mlicated\u001b[0m\u001b[0m UT\u001b[0m\u001b[0mI\u001b[0m\u001b[0m\n",
      "\u001b[0m\u001b[0m-\u001b[0m\u001b[0m May\u001b[0m\u001b[0m be\u001b[0m\u001b[0m used\u001b[0m\u001b[0m for\u001b[0m\u001b[0m py\u001b[0m\u001b[0mel\u001b[0m\u001b[0mone\u001b[0m\u001b[0mph\u001b[0m\u001b[0mritis\u001b[0m\u001b[0m\n",
      "\n",
      "\u001b[0m\u001b[0m###\u001b[0m\u001b[0m C\u001b[0m\u001b[0m:\u001b[0m\u001b[0m C\u001b[0m\u001b[0mipro\u001b[0m\u001b[0mf\u001b[0m\u001b[0mlox\u001b[0m\u001b[0macin\u001b[0m\u001b[0m\n",
      "\u001b[0m\u001b[0m-\u001b[0m\u001b[0m Flu\u001b[0m\u001b[0moro\u001b[0m\u001b[0mquin\u001b[0m\u001b[0mol\u001b[0m\u001b[0mone\u001b[0m\u001b[0m\n",
      "\u001b[0m\u001b[0m-\u001b[0m\u001b[0m Category\u001b[0m\u001b[0m C\u001b[0m\u001b[0m in\u001b[0m\u001b[0m pregnancy\u001b[0m\u001b[0m\n",
      "\u001b[0m\u001b[0m-\u001b[0m\u001b[0m Concern\u001b[0m\u001b[0ms\u001b[0m\u001b[0m about\u001b[0m\u001b[0m cart\u001b[0m\u001b[0milage\u001b[0m\u001b[0m damage\u001b[0m\u001b[0m in\u001b[0m\u001b[0m fetus\u001b[0m\u001b[0m\n",
      "\u001b[0m\u001b[0m-\u001b[0m\u001b[0m Not\u001b[0m\u001b[0m recommended\u001b[0m\u001b[0m for\u001b[0m\u001b[0m UT\u001b[0m\u001b[0mI\u001b[0m\u001b[0m in\u001b[0m\u001b[0m pregnant\u001b[0m\u001b[0m women\u001b[0m\u001b[0m\n",
      "\n",
      "\u001b[0m\u001b[0m###\u001b[0m\u001b[0m D\u001b[0m\u001b[0m:\u001b[0m\u001b[0m Do\u001b[0m\u001b[0mx\u001b[0m\u001b[0myc\u001b[0m\u001b[0mycl\u001b[0m\u001b[0mine\u001b[0m\u001b[0m\n",
      "\u001b[0m\u001b[0m-\u001b[0m\u001b[0m T\u001b[0m\u001b[0metr\u001b[0m\u001b[0macy\u001b[0m\u001b[0mcline\u001b[0m\u001b[0m\n",
      "\u001b[0m\u001b[0m-\u001b[0m\u001b[0m Not\u001b[0m\u001b[0m recommended\u001b[0m\u001b[0m in\u001b[0m\u001b[0m pregnancy\u001b[0m\u001b[0m\n",
      "\u001b[0m\u001b[0m-\u001b[0m\u001b[0m A\u001b[0m\u001b[0mffects\u001b[0m\u001b[0m fetal\u001b[0m\u001b[0m bone\u001b[0m\u001b[0m and\u001b[0m\u001b[0m teeth\u001b[0m\u001b[0m development\u001b[0m\u001b[0m\n",
      "\u001b[0m\u001b[0m-\u001b[0m\u001b[0m Avoid\u001b[0m\u001b[0med\u001b[0m\u001b[0m in\u001b[0m\u001b[0m second\u001b[0m\u001b[0m and\u001b[0m\u001b[0m third\u001b[0m\u001b[0m trimest\u001b[0m\u001b[0mers\u001b[0m\u001b[0m\n",
      "\n",
      "\u001b[0m\u001b[0m###\u001b[0m\u001b[0m E\u001b[0m\u001b[0m:\u001b[0m\u001b[0m Nit\u001b[0m\u001b[0mro\u001b[0m\u001b[0mfur\u001b[0m\u001b[0mant\u001b[0m\u001b[0moin\u001b[0m\u001b[0m\n",
      "\u001b[0m\u001b[0m-\u001b[0m\u001b[0m First\u001b[0m\u001b[0m-line\u001b[0m\u001b[0m for\u001b[0m\u001b[0m uncomp\u001b[0m\u001b[0mlicated\u001b[0m\u001b[0m UT\u001b[0m\u001b[0mI\u001b[0m\u001b[0m in\u001b[0m\u001b[0m pregnancy\u001b[0m\u001b[0m\n",
      "\u001b[0m\u001b[0m-\u001b[0m\u001b[0m Generally\u001b[0m\u001b[0m safe\u001b[0m\u001b[0m in\u001b[0m\u001b[0m second\u001b[0m\u001b[0m trimest\u001b[0m\u001b[0mer\u001b[0m\u001b[0m (\u001b[0m\u001b[0m2\u001b[0m\u001b[0m2\u001b[0m\u001b[0m weeks\u001b[0m\u001b[0m)\n",
      "\u001b[0m\u001b[0m-\u001b[0m\u001b[0m Avoid\u001b[0m\u001b[0med\u001b[0m\u001b[0m in\u001b[0m\u001b[0m third\u001b[0m\u001b[0m trimest\u001b[0m\u001b[0mer\u001b[0m\u001b[0m due\u001b[0m\u001b[0m to\u001b[0m\u001b[0m risk\u001b[0m\u001b[0m of\u001b[0m\u001b[0m neon\u001b[0m\u001b[0matal\u001b[0m\u001b[0m hem\u001b[0m\u001b[0moly\u001b[0m\u001b[0mtic\u001b[0m\u001b[0m an\u001b[0m\u001b[0memia\u001b[0m\u001b[0m\n",
      "\u001b[0m\u001b[0m-\u001b[0m\u001b[0m Effective\u001b[0m\u001b[0m against\u001b[0m\u001b[0m common\u001b[0m\u001b[0m u\u001b[0m\u001b[0mrop\u001b[0m\u001b[0math\u001b[0m\u001b[0mogens\u001b[0m\u001b[0m\n",
      "\n",
      "\u001b[0m\u001b[0m##\u001b[0m\u001b[0m Conclusion\u001b[0m\u001b[0m\n",
      "\u001b[0m\u001b[0mThe\u001b[0m\u001b[0m best\u001b[0m\u001b[0m treatment\u001b[0m\u001b[0m for\u001b[0m\u001b[0m this\u001b[0m\u001b[0m \u001b[0m\u001b[0m2\u001b[0m\u001b[0m2\u001b[0m\u001b[0m-week\u001b[0m\u001b[0m pregnant\u001b[0m\u001b[0m patient\u001b[0m\u001b[0m with\u001b[0m\u001b[0m uncomp\u001b[0m\u001b[0mlicated\u001b[0m\u001b[0m UT\u001b[0m\u001b[0mI\u001b[0m\u001b[0m symptoms\u001b[0m\u001b[0m is\u001b[0m\u001b[0m **\u001b[0m\u001b[0mNit\u001b[0m\u001b[0mro\u001b[0m\u001b[0mfur\u001b[0m\u001b[0mant\u001b[0m\u001b[0moin\u001b[0m\u001b[0m (\u001b[0m\u001b[0mOption\u001b[0m\u001b[0m E\u001b[0m\u001b[0m)**\u001b[0m\u001b[0m.\u001b[0m\u001b[0m This\u001b[0m\u001b[0m antibiotic\u001b[0m\u001b[0m is\u001b[0m\u001b[0m specifically\u001b[0m\u001b[0m recommended\u001b[0m\u001b[0m for\u001b[0m\u001b[0m uncomp\u001b[0m\u001b[0mlicated\u001b[0m\u001b[0m UT\u001b[0m\u001b[0mIs\u001b[0m\u001b[0m in\u001b[0m\u001b[0m pregnancy\u001b[0m\u001b[0m,\u001b[0m\u001b[0m particularly\u001b[0m\u001b[0m in\u001b[0m\u001b[0m the\u001b[0m\u001b[0m second\u001b[0m\u001b[0m trimest\u001b[0m\u001b[0mer\u001b[0m\u001b[0m,\u001b[0m\u001b[0m and\u001b[0m\u001b[0m is\u001b[0m\u001b[0m more\u001b[0m\u001b[0m effective\u001b[0m\u001b[0m than\u001b[0m\u001b[0m am\u001b[0m\u001b[0mpic\u001b[0m\u001b[0millin\u001b[0m\u001b[0m against\u001b[0m\u001b[0m common\u001b[0m\u001b[0m u\u001b[0m\u001b[0mrop\u001b[0m\u001b[0math\u001b[0m\u001b[0mogens\u001b[0m\u001b[0m.\u001b[0m\u001b[0m The\u001b[0m\u001b[0m other\u001b[0m\u001b[0m options\u001b[0m\u001b[0m either\u001b[0m\u001b[0m have\u001b[0m\u001b[0m safety\u001b[0m\u001b[0m concerns\u001b[0m\u001b[0m in\u001b[0m\u001b[0m pregnancy\u001b[0m\u001b[0m or\u001b[0m\u001b[0m are\u001b[0m\u001b[0m not\u001b[0m\u001b[0m first\u001b[0m\u001b[0m-line\u001b[0m\u001b[0m for\u001b[0m\u001b[0m uncomp\u001b[0m\u001b[0mlicated\u001b[0m\u001b[0m UT\u001b[0m\u001b[0mIs\u001b[0m\u001b[0m.\u001b[0m"
     ]
    }
   ],
   "source": [
    "payload = {\n",
    "    \"model\": \"/opt/ml/model\",\n",
    "    \"messages\": [\n",
    "        {\"role\": \"system\", \"content\": system_prompt },\n",
    "        {\"role\": \"user\", \"content\": prompt1},\n",
    "    ],\n",
    "    \"max_tokens\": 8192,\n",
    "    \"temperature\": 0.7,\n",
    "    \"top_p\": 0.95,\n",
    "    \"top_k\": 20,\n",
    "    \"min_p\": 0.0,\n",
    "    \"presence_penalty\": 0.0,\n",
    "    \"stream\": True\n",
    "}\n",
    "\n",
    "for chunk in invoke_streaming_endpoint(payload):\n",
    "    handle_streaming_chunk(chunk)"
   ]
  },
  {
   "cell_type": "markdown",
   "id": "f2d04094-f350-4950-b73a-212301dda35c",
   "metadata": {},
   "source": [
    "#### Text Completion"
   ]
  },
  {
   "cell_type": "code",
   "execution_count": 19,
   "id": "a6046a1f-96cb-4f76-b796-cd4a661f53e6",
   "metadata": {
    "tags": []
   },
   "outputs": [
    {
     "name": "stdout",
     "output_type": "stream",
     "text": [
      " Okay, the user is asking what to do if they have a fever and body aches. Let me start by thinking about the common causes of these symptoms. Fever and body aches are usually due to viral infections like the common cold or flu. But they could also be from other conditions like bacterial infections, issues, or even more serious things like sepsis, though that's less common.\n",
      "\n",
      "First, I need to cover the immediate steps someone should take. Rest and hydration are key. They should stay home to prevent spreading illness. Over-the-counter medications like acetaminophen or ibuprofen can help reduce fever and pain. But I should mention dosages and warnings, like not to exceed recommended amounts and to check for contraindications.\n",
      "\n",
      "Next, when to seek medical attention. High fever (over 104°F), breathing, severe headache, stiff neck,, persistent vomiting, or if the fever lasts more than a few days. Also, if they have a weakened immune system, they should see a doctor sooner.\n",
      "\n",
      "Home remedies might include cold compresses, warm baths, staying hydrated with water orte drinks, and a light diet. But I should note that these are supportive and not for medical advice.\n",
      "\n",
      "Diagnosis and would depend on the underlying cause. If it's viral, rest and OTC meds. If, antibiotics. The user should follow up with a healthcare provider for proper diagnosis.\n",
      "\n",
      "Prevention tips: good hygiene, vaccinations, avoiding sick people, and a healthy lifestyle. \n",
      "\n",
      "I need to make sure the is accurate and up-to-date. Also, avoid giving medical advice that could be harmful. Emphasize consulting a healthcare professional, for severe symptoms. Check if there are any recent guidelines or changes in recommendations. For example, the use of certain OTC during pregnancy or for children. Make sure to mention that if in doubt, it's better to seek medical help. Also, note that some symptoms like a stiff neck could indicate meningitis, which is a medical emergency. \n",
      "\n",
      "I should structure the response with clear headings, as the user requested. Start with immediate steps, then when to seek help, home remedies, diagnosis and, and prevention. Conclude with a summary and emphasis on consulting a provider. Avoid using markdown and keep it in plain text with clear sections. Make sure the language is clear and easy to, avoiding medical jargon where possible.\n",
      "# Managing Fever and Body Aches\n",
      "\n",
      "## Self-Care Measures\n",
      "\n",
      "1. **Rest**: Allow your body to recover by getting adequate sleep and physical activity.\n",
      "2. **Hydration**: Drink plenty of fluids (water, herbal tea, electrolyte solutions) to prevent dehydration.\n",
      "3. **Medication**:\n",
      "   - **Acetaminophen (Tylenol)**: 500-1000 mg every 4-6 hours (maximum 4000 mg/day for adults).\n",
      "   - **Ibuprofen (Advil, Motrin)**: 200-400 mg every 4-6 hours (not for children under 6 months).\n",
      "   - *Avoid*: Aspirin in children/teens due to Reye's syndrome risk.\n",
      "4. **Cool**: Use light blankets and maintain a room temperature.\n",
      "\n",
      "## When to Seek Medical Attention\n",
      "\n",
      "1. **Urgent Care Needed**:\n",
      "   - Fever >104°F (40°C) in adults or >100.4°F (38°C) in infants\n",
      "   - Difficulty breathing or chest pain\n",
      "   - Severe headache or stiff neck\n",
      "   - Confusion or altered mental state\n",
      "   - vomiting or inability to keep fluids down\n",
      "   - Rash that doesn't blanch when pressed\n",
      "   - Symptoms lasting >3-5 days without improvement\n",
      "\n",
      "2. **Special Considerations**:\n",
      "   - Pregnant individuals\n",
      "   - Those with weakened immune systems\n",
      "   - Children under 3 months of age\n",
      "   - People with chronic medical conditions\n",
      "\n",
      "## Home Remedies and Supportive Care\n",
      "\n",
      "1. **Cool Compress**: Apply to forehead or neck to help reduce fever.\n",
      "2. **Warm Bath**: Can temporarily lower body temperature.\n",
      "3. **Light Diet**: Consume easily digestible foods like soups, toast, or bananas.\n",
      "4. **Humidifier**: May help if accompanied by congestion.\n",
      "\n",
      "## and Treatment\n",
      "\n",
      "1. **Medical Evaluation**:\n",
      "   - Physical examination\n",
      "   - tests (blood work, throat cultures)\n",
      "   - Imaging studies if needed\n",
      "\n",
      "2. **Treatment Options**:\n",
      "   - **Viral**: Supportive care only (most common cause)\n",
      "   - **Bacterial infections**: Antibiotics (only when indicated)\n",
      "   - **Other causes**: Targeted treatments for conditions like disorders\n",
      "\n",
      "## Prevention\n",
      "\n",
      "1. **Vaccinations**: Annual flu shot, routine immunizations\n",
      "2. **Hygiene**: Regular handwashing, avoid close contact with sick individuals\n",
      "3. **Healthy Lifestyle**: Balanced diet, regular exercise, adequate sleep\n",
      "\n",
      "#\n",
      "\n",
      "While most fevers and body aches are due to common viral infections that resolve on their own, it's to monitor symptoms closely. If you severe or persistent symptoms, or if you're in a high-risk group, consult a healthcare provider promptly. Never self-treat serious conditions without professional guidance. For ongoing symptoms or concerns, seek in-person medical evaluation."
     ]
    }
   ],
   "source": [
    "payload = {\n",
    "    \"model\": \"/opt/ml/model\",\n",
    "    \"prompt\": f\"{system_prompt}\\n\\nUser: {prompt2}\\n\\nAssistant:\",\n",
    "    \"max_tokens\": 2048,\n",
    "    \"temperature\": 0.7,\n",
    "    \"top_p\": 0.95,\n",
    "    \"top_k\": 20,\n",
    "    \"min_p\": 0.0,\n",
    "    \"presence_penalty\":0.0,\n",
    "    \"stream\": True\n",
    "}\n",
    "\n",
    "for chunk in invoke_streaming_endpoint(payload):\n",
    "    handle_streaming_chunk(chunk)"
   ]
  },
  {
   "cell_type": "markdown",
   "id": "547960f3-6629-4c2d-a4d2-cdb26c9c61d0",
   "metadata": {},
   "source": [
    "Now that you have successfully performed a real-time inference, you do not need the endpoint any more. You can terminate the endpoint to avoid being charged."
   ]
  },
  {
   "cell_type": "code",
   "execution_count": 20,
   "id": "488631f8-c3be-4b30-aba4-75d83ee588a3",
   "metadata": {
    "tags": []
   },
   "outputs": [],
   "source": [
    "model.sagemaker_session.delete_endpoint(model_name)\n",
    "model.sagemaker_session.delete_endpoint_config(model_name)"
   ]
  },
  {
   "cell_type": "markdown",
   "id": "c0e98cc5-6ea8-41bf-a78f-dbe6771caf55",
   "metadata": {},
   "source": [
    "## 5. Batch inference"
   ]
  },
  {
   "cell_type": "code",
   "execution_count": 21,
   "id": "f7d163c0-a6c7-49c5-a4ea-27b83670eb7b",
   "metadata": {
    "tags": []
   },
   "outputs": [],
   "source": [
    "validation_json_file_name1 = \"input1.json\"\n",
    "\n",
    "validation_input_json_path = f\"s3://{s3_bucket}/{model_name}/validation-input/\"\n",
    "validation_output_json_path = f\"s3://{s3_bucket}/{model_name}/validation-output/\"\n",
    "\n",
    "\n",
    "def write_and_upload_to_s3(input_data, file_name):\n",
    "    s3_client.put_object(\n",
    "        Bucket=s3_bucket,\n",
    "        Key=f\"{model_name}/validation-input/{file_name}\",\n",
    "        Body=(bytes(input_data.encode(\"UTF-8\"))),\n",
    "    )"
   ]
  },
  {
   "cell_type": "code",
   "execution_count": 22,
   "id": "23904344-4a1e-4e90-942e-dc9e53827369",
   "metadata": {
    "tags": []
   },
   "outputs": [],
   "source": [
    "input_json_data1 = json.dumps(\n",
    "    {\n",
    "        \"model\": \"/opt/ml/model\",\n",
    "        \"prompt\": [f\"{system_prompt}\\n\\nUser: {prompt}\\n\\nAssistant:\" for prompt in prompts],\n",
    "        \"max_tokens\": 2048,\n",
    "        \"temperature\": 0.6,\n",
    "        \"top_p\": 0.95,\n",
    "        \"top_k\": 20,\n",
    "        \"min_p\": 0.0,\n",
    "        \"presence_penalty\":0.0,\n",
    "    }\n",
    ")\n",
    "\n",
    "write_and_upload_to_s3(input_json_data1, f\"{validation_json_file_name1}\")"
   ]
  },
  {
   "cell_type": "code",
   "execution_count": null,
   "id": "40a9b441-d1e5-4bbc-8571-005d880c6c46",
   "metadata": {
    "tags": []
   },
   "outputs": [],
   "source": [
    "transformer = model.transformer(\n",
    "    instance_count=1,\n",
    "    instance_type=batch_transform_inference_instance_type,\n",
    "    accept=\"application/json\",\n",
    "    output_path=validation_output_json_path,\n",
    ")\n",
    "transformer.transform(validation_input_json_path, content_type=\"application/json\")\n",
    "transformer.wait()"
   ]
  },
  {
   "cell_type": "code",
   "execution_count": null,
   "id": "142c53a9-2e64-4839-acbd-74bfbd7fc372",
   "metadata": {
    "tags": []
   },
   "outputs": [],
   "source": [
    "from urllib.parse import urlparse\n",
    "\n",
    "def retrieve_json_output_from_s3(validation_file_name):\n",
    "\n",
    "    parsed_url = urlparse(transformer.output_path)\n",
    "    file_key = f\"{parsed_url.path[1:]}{validation_file_name}.out\"\n",
    "    response = s3_client.get_object(Bucket=s3_bucket, Key=file_key)\n",
    "    result = json.loads(response[\"Body\"].read().decode(\"utf-8\"))\n",
    "    \n",
    "    for idx, choice in enumerate(result.get(\"choices\", [])):\n",
    "        print(f\"Response {idx + 1}:\\n{choice.get('text', '')}\\n{'=' * 75}\")"
   ]
  },
  {
   "cell_type": "code",
   "execution_count": 28,
   "id": "b781965a-3891-4ac3-a580-9e187b262d39",
   "metadata": {
    "tags": []
   },
   "outputs": [
    {
     "name": "stdout",
     "output_type": "stream",
     "text": [
      "Response 1:\n",
      " Okay, the user is asking how to maintain good kidney health. I need to provide a comprehensive answer based on evidence. Let me start by recalling the main factors that affect kidney health. First, staying hydrated is crucial because it helps the kidneys function properly. Then, diet plays a big role—limiting sodium, processed foods, and proteins. Blood pressure and blood sugar control are important since high levels can damage the kidneys. Regular exercise and avoiding smoking and excessive alcohol are also key. Monitoring for any symptoms like changes in urination or swelling is necessary. Also, checking medications, as some can be harmful to the kidneys. Maybe I should mention specific foods to include or avoid. Wait, I should structure this with clear headings. Let me make sure each section is evidence-based. For example, the American Kidney Fund recommends certain dietary guidelines. Also, the importance of managing diabetes and hypertension. I should also include the need for regular check-ups. Conclusion to summarize the main points. Let me check if there are any recent studies or guidelines I should reference. Avoid giving medical advice that's too specific, just general tips. Make sure the language is clear and not too technical. Alright, time to organize the response with the headings and bullet points as specified.\n",
      "</think>\n",
      "\n",
      "# Maintaining Good Kidney Health\n",
      "\n",
      "## 1. **Stay Hydrated**\n",
      "   - Drink adequate water daily to support kidney function and help flush out waste products. The general recommendation is 8-10 glasses (2-2.5 liters) of water per day, though individual needs vary based on activity level, climate, and health status.\n",
      "\n",
      "## 2. **Adopt a Kidney-Friendly Diet**\n",
      "   - **Limit sodium intake**: Excess sodium can raise blood pressure, straining the kidneys. Aim for less than 2,300 mg of sodium per day (ideally 1,500 mg for those with hypertension or kidney disease).\n",
      "   - **Reduce processed foods**: Minimize consumption of canned goods, fast food, and highly processed snacks, which are often high in sodium and unhealthy additives.\n",
      "   - **Balance protein intake**: Excessive protein (especially from red meat) can increase kidney workload. Opt for lean proteins like fish, poultry, and plant-based sources (e.g., beans, lentils).\n",
      "   - **Increase potassium and magnesium**: Foods like bananas, sweet potatoes, spinach, and avocados support kidney health by balancing electrolytes.\n",
      "\n",
      "## 3. **Manage Blood Pressure and Blood Sugar**\n",
      "   - **Control hypertension**: High blood pressure is a leading cause of kidney damage. Maintain a target of <130/80 mmHg, as recommended by the American Heart Association.\n",
      "   - **Regulate blood sugar**: For individuals with diabetes, keeping blood glucose levels within target ranges (e.g., A1C <7% for most adults) reduces the risk of diabetic kidney disease.\n",
      "\n",
      "## 4. **Exercise Regularly**\n",
      "   - Engage in moderate-intensity physical activity (e.g., brisk walking, cycling) for at least 150 minutes weekly. Exercise helps control weight, blood pressure, and blood sugar, all of which are critical for kidney health.\n",
      "\n",
      "## 5. **Avoid Harmful Substances**\n",
      "   - **Limit alcohol**: Excessive alcohol consumption can lead to dehydration and kidney stress. Stick to 1 drink per day for women and 2 for men.\n",
      "   - **Avoid smoking**: Smoking damages blood vessels, reducing blood flow to the kidneys and increasing the risk of kidney disease.\n",
      "   - **Be cautious with medications**: Overuse of nonsteroidal anti-inflammatory drugs (NSAIDs) like ibuprofen or naproxen can harm the kidneys. Consult a healthcare provider before long-term use.\n",
      "\n",
      "## 6. **Monitor for Early Warning Signs**\n",
      "   - Watch for symptoms such as:\n",
      "     - Changes in urination (frequency, color, or pain)\n",
      "     - Persistent fatigue or weakness\n",
      "     - Swelling in the legs, ankles, or face\n",
      "     - Nausea or vomiting\n",
      "   - Seek medical attention if these symptoms occur, as they may indicate kidney issues.\n",
      "\n",
      "## 7. **Regular Health Screenings**\n",
      "   - **Blood tests**: Check creatinine and estimated glomerular filtration rate (eGFR) to assess kidney function.\n",
      "   - **Urine tests**: Screen for protein or blood in the urine, which can signal kidney damage.\n",
      "   - Schedule annual check-ups, especially if you have risk factors like diabetes, hypertension, or a family history of kidney disease.\n",
      "\n",
      "## 8. **Maintain a Healthy Weight**\n",
      "   - Obesity increases the risk of hypertension, diabetes, and kidney disease. Aim for a body mass index (BMI) of 18.5–24.9 through balanced diet and exercise.\n",
      "\n",
      "## Conclusion\n",
      "Maintaining good kidney health requires a proactive approach, including hydration, a balanced diet, regular exercise, and managing chronic conditions like hypertension and diabetes. Early detection through regular screenings and prompt medical care can prevent or slow the progression of kidney disease. By adopting these evidence-based strategies, you can significantly reduce your risk of kidney complications and support long-term overall health.\n",
      "===========================================================================\n",
      "Response 2:\n",
      " \n",
      "# Symptoms of High Blood Pressure\n",
      "\n",
      "## Common Symptoms\n",
      "- Headaches\n",
      "- Shortness of breath\n",
      "- Nosebleeds\n",
      "- Dizziness or lightheadedness\n",
      "- Chest pain\n",
      "- Vision problems\n",
      "- Blood in the urine\n",
      "- Tinnitus (ringing in the ears)\n",
      "\n",
      "## Less Common Symptoms\n",
      "- Fatigue\n",
      "- Confusion\n",
      "- Anxiety\n",
      "- Insomnia\n",
      "- Difficulty concentrating\n",
      "- Irregular heartbeat\n",
      "- Swelling in the legs and ankles\n",
      "\n",
      "## Asymptomatic Nature\n",
      "High blood pressure is often called the \"silent killer\" because many people with the condition experience no symptoms, especially in the early stages.\n",
      "\n",
      "## When to Seek Medical Attention\n",
      "- If you experience any of the above symptoms, especially in combination\n",
      "- If you have a history of high blood pressure and symptoms suddenly worsen\n",
      "- If you have severe headaches, chest pain, or difficulty breathing\n",
      "\n",
      "## Conclusion\n",
      "High blood pressure can manifest with various symptoms, but it often presents without any noticeable signs. Regular blood pressure monitoring and consultation with healthcare professionals are essential for early detection and management.\n",
      "===========================================================================\n"
     ]
    }
   ],
   "source": [
    "retrieve_json_output_from_s3(validation_json_file_name1)"
   ]
  },
  {
   "cell_type": "markdown",
   "id": "f8e8f682-16a0-4a84-89e6-b5f4f0de3521",
   "metadata": {},
   "source": [
    "Congratulations! You just verified that the batch transform job is working as expected. Since the model is not required, you can delete it. Note that you are deleting the deployable model. Not the model package."
   ]
  },
  {
   "cell_type": "code",
   "execution_count": 29,
   "id": "22a8df79-ad3b-4e85-a054-24931c15f3a3",
   "metadata": {
    "tags": []
   },
   "outputs": [
    {
     "name": "stderr",
     "output_type": "stream",
     "text": [
      "INFO:sagemaker:Deleting model with name: JSL-Medical-Reasoning-LLM-32B-V2-2025-07-14-12-13-58-493\n"
     ]
    }
   ],
   "source": [
    "model.delete_model()"
   ]
  },
  {
   "cell_type": "markdown",
   "id": "37215a51-bf01-4cf0-832a-c7f85a8a06c3",
   "metadata": {},
   "source": [
    "### Unsubscribe to the listing (optional)"
   ]
  },
  {
   "cell_type": "markdown",
   "id": "53cddd4d-4b27-4a94-95b8-5e027e6cd9cd",
   "metadata": {},
   "source": [
    "If you would like to unsubscribe to the model package, follow these steps. Before you cancel the subscription, ensure that you do not have any [deployable model](https://console.aws.amazon.com/sagemaker/home#/models) created from the model package or using the algorithm. Note - You can find this information by looking at the container name associated with the model. \n",
    "\n",
    "**Steps to unsubscribe to product from AWS Marketplace**:\n",
    "1. Navigate to __Machine Learning__ tab on [__Your Software subscriptions page__](https://aws.amazon.com/marketplace/ai/library?productType=ml&ref_=mlmp_gitdemo_indust)\n",
    "2. Locate the listing that you want to cancel the subscription for, and then choose __Cancel Subscription__  to cancel the subscription.\n",
    "\n"
   ]
  }
 ],
 "metadata": {
  "kernelspec": {
   "display_name": "conda_python3",
   "language": "python",
   "name": "conda_python3"
  },
  "language_info": {
   "codemirror_mode": {
    "name": "ipython",
    "version": 3
   },
   "file_extension": ".py",
   "mimetype": "text/x-python",
   "name": "python",
   "nbconvert_exporter": "python",
   "pygments_lexer": "ipython3",
   "version": "3.10.18"
  }
 },
 "nbformat": 4,
 "nbformat_minor": 5
}

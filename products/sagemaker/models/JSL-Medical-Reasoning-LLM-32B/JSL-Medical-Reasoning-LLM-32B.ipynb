{
 "cells": [
  {
   "cell_type": "markdown",
   "id": "82a4cf96-c239-49cc-88f9-a8e885bde191",
   "metadata": {},
   "source": [
    "## 1. Subscribe to the model package"
   ]
  },
  {
   "cell_type": "markdown",
   "id": "982d6ab4-d03d-4a5a-ab23-144d8e6ec3d6",
   "metadata": {},
   "source": [
    "To subscribe to the model package:\n",
    "1. Open the model package listing page [Medical Reasoning LLM - 32B](https://aws.amazon.com/marketplace/pp/prodview-x5bfvnroddgfe)\n",
    "1. On the AWS Marketplace listing, click on the **Continue to subscribe** button.\n",
    "1. On the **Subscribe to this software** page, review and click on **\"Accept Offer\"** if you and your organization agrees with EULA, pricing, and support terms. \n",
    "1. Once you click on **Continue to configuration button** and then choose a **region**, you will see a **Product Arn** displayed. This is the model package ARN that you need to specify while creating a deployable model using Boto3. Copy the ARN corresponding to your region and specify the same in the following cell."
   ]
  },
  {
   "cell_type": "markdown",
   "id": "dad4b722-a125-4219-9c22-009acf75414d",
   "metadata": {},
   "source": [
    "- **Model**: `JSL-Medical-Reasoning-LLM-32B`  \n",
    "- **Model Description**: Medical Reasoning LLM - 32B"
   ]
  },
  {
   "cell_type": "code",
   "execution_count": null,
   "id": "9d1fb27b-e0ad-4759-937d-ae4edc209fc1",
   "metadata": {
    "tags": []
   },
   "outputs": [],
   "source": [
    "model_package_arn = \"<Customer to specify Model package ARN corresponding to their AWS region>\""
   ]
  },
  {
   "cell_type": "code",
   "execution_count": null,
   "id": "76ede1bf-2acb-4b5d-9db1-299abfeee20b",
   "metadata": {
    "tags": []
   },
   "outputs": [],
   "source": [
    "import os\n",
    "import re\n",
    "import copy\n",
    "import base64\n",
    "import json\n",
    "import uuid\n",
    "from sagemaker import ModelPackage\n",
    "import sagemaker as sage\n",
    "from sagemaker import get_execution_role\n",
    "import boto3\n",
    "from IPython.display import Image, display\n",
    "from PIL import Image as ImageEdit\n",
    "import numpy as np\n",
    "import pandas as pd\n",
    "\n",
    "pd.set_option('display.max_rows', None)\n",
    "pd.set_option('display.max_columns', None)\n",
    "pd.set_option('display.max_colwidth', None)\n",
    "\n",
    "sagemaker_session = sage.Session()\n",
    "s3_bucket = sagemaker_session.default_bucket()\n",
    "region = sagemaker_session.boto_region_name\n",
    "account_id = boto3.client(\"sts\").get_caller_identity().get(\"Account\")\n",
    "role = get_execution_role()\n",
    "\n",
    "sagemaker = boto3.client(\"sagemaker\")\n",
    "s3_client = sagemaker_session.boto_session.client(\"s3\")\n",
    "ecr = boto3.client(\"ecr\")\n",
    "sm_runtime = boto3.client(\"sagemaker-runtime\")"
   ]
  },
  {
   "cell_type": "code",
   "execution_count": 3,
   "id": "07846ed0-ed90-4a11-a77c-00d1c3ca3cbd",
   "metadata": {
    "tags": []
   },
   "outputs": [],
   "source": [
    "model_name = \"JSL-Medical-Reasoning-LLM-32B\"\n",
    "\n",
    "real_time_inference_instance_type = \"ml.g5.48xlarge\"\n",
    "batch_transform_inference_instance_type = \"ml.g5.48xlarge\""
   ]
  },
  {
   "cell_type": "markdown",
   "id": "9e3a3a54-98d8-4a8a-b812-c33db9a2aa7d",
   "metadata": {},
   "source": [
    "## Model Configuration Documentation  \n",
    "\n",
    "### Default Configuration  \n",
    "The container comes with the following default configurations:  \n",
    "\n",
    "| Parameter                  | Default Value | Description                                                                   |  \n",
    "|----------------------------|---------------|-------------------------------------------------------------------------------|  \n",
    "| **`dtype`**                | `auto`        | Data type for model weights and activations (automatically determined)        |  \n",
    "| **`tensor_parallel_size`** | Auto          | Automatically set to the number of available GPUs (`torch.cuda.device_count()`)|  \n",
    "| **`host`**                 | `0.0.0.0`     | Host name                                                                     |  \n",
    "| **`port`**                 | `8080`        | Port number                                                                   |  \n",
    "| **`tokenizer_mode`**       | `auto`        | Tokenizer mode (automatically determined)                                     |  \n",
    "| **`reasoning_parser`**     | `qwen3`       | Reasoning parser to use for extracting reasoning content from the model output|  \n",
    "\n",
    "### Hardcoded Settings  \n",
    "The following settings are hardcoded in the container and cannot be changed:  \n",
    "\n",
    "| Parameter       | Value           | Description                           |  \n",
    "|-----------------|-----------------|---------------------------------------|  \n",
    "| **`model`**     | `/opt/ml/model` | Model path where SageMaker mounts the model |  \n",
    "\n",
    "### Configurable Environment Variables  \n",
    "You can customize the vLLM server by setting environment variables when creating the model.  \n",
    "\n",
    "**Any parameter from the [vLLM documentation](https://docs.vllm.ai/en/latest/serving/openai_compatible_server.html#vllm-serve) can be set using the corresponding environment variable with the `SM_VLLM_` prefix.**  \n",
    "\n",
    "The container uses a script similar to the [SageMaker entrypoint example](https://docs.vllm.ai/en/v0.8.5/getting_started/examples/sagemaker-entrypoint.html) from the vLLM documentation to convert environment variables to command-line arguments.  \n",
    "\n",
    "---  \n",
    "\n",
    "## Input Format  \n",
    "\n",
    "### 1. Chat Completion  \n",
    "\n",
    "#### Example Payload  \n",
    "```json  \n",
    "{  \n",
    "    \"model\": \"/opt/ml/model\",  \n",
    "    \"messages\": [  \n",
    "        {\"role\": \"system\", \"content\": \"You are a helpful medical assistant.\"},  \n",
    "        {\"role\": \"user\", \"content\": \"What should I do if I have a fever and body aches?\"}  \n",
    "    ],  \n",
    "    \"max_tokens\": 1024,  \n",
    "    \"temperature\": 0.7  \n",
    "}  \n",
    "```  \n",
    "\n",
    "For additional parameters:  \n",
    "- [ChatCompletionRequest](https://github.com/vllm-project/vllm/blob/v0.9.2/vllm/entrypoints/openai/protocol.py#L223)  \n",
    "- [OpenAI's Chat API](https://platform.openai.com/docs/api-reference/chat/create)  \n",
    "\n",
    "---  \n",
    "\n",
    "### 2. Text Completion  \n",
    "\n",
    "#### Single Prompt Example  \n",
    "```json  \n",
    "{  \n",
    "    \"model\": \"/opt/ml/model\",  \n",
    "    \"prompt\": \"How can I maintain good kidney health?\",  \n",
    "    \"max_tokens\": 512,  \n",
    "    \"temperature\": 0.6  \n",
    "}  \n",
    "```  \n",
    "\n",
    "#### Multiple Prompts Example  \n",
    "```json  \n",
    "{  \n",
    "    \"model\": \"/opt/ml/model\",  \n",
    "    \"prompt\": [  \n",
    "        \"How can I maintain good kidney health?\",  \n",
    "        \"What are the best practices for kidney care?\"  \n",
    "    ],  \n",
    "    \"max_tokens\": 512,  \n",
    "    \"temperature\": 0.6  \n",
    "}  \n",
    "```  \n",
    "\n",
    "Reference:  \n",
    "- [CompletionRequest](https://github.com/vllm-project/vllm/blob/v0.9.2/vllm/entrypoints/openai/protocol.py#L741)  \n",
    "- [OpenAI's Completions API](https://platform.openai.com/docs/api-reference/completions/create)  \n",
    "\n",
    "---  \n",
    "\n",
    "### Important Notes:\n",
    "- **Streaming Responses:** Add `\"stream\": true` to your request payload to enable streaming\n",
    "- **Model Path Requirement:** Always set `\"model\": \"/opt/ml/model\"` (SageMaker's fixed model location)"
   ]
  },
  {
   "cell_type": "markdown",
   "id": "07f13be5-3f3b-45db-829d-b99d4584913f",
   "metadata": {},
   "source": [
    "### Initial setup"
   ]
  },
  {
   "cell_type": "code",
   "execution_count": 4,
   "id": "7b61fa7d-8d76-476f-91e2-8fea89e7dfa5",
   "metadata": {
    "tags": []
   },
   "outputs": [],
   "source": [
    "prompt1 = \"\"\"A 23-year-old pregnant woman at 22 weeks gestation presents with burning upon urination. She states it started 1 day ago and has been worsening despite drinking more water and taking cranberry extract. She otherwise feels well and is followed by a doctor for her pregnancy. Her temperature is 97.7°F (36.5°C), blood pressure is 122/77 mmHg, pulse is 80/min, respirations are 19/min, and oxygen saturation is 98% on room air. Physical exam is notable for an absence of costovertebral angle tenderness and a gravid uterus.\n",
    "\n",
    "Which of the following is the best treatment for this patient?\n",
    "A: Ampicillin\n",
    "B: Ceftriaxone\n",
    "C: Ciprofloxacin\n",
    "D: Doxycycline\n",
    "E: Nitrofurantoin\n",
    "\"\"\"\n",
    "\n",
    "prompt2 = \"What should I do if I have a fever and body aches?\"\n",
    "\n",
    "prompts = [\n",
    "    \"How can I maintain good kidney health?\",\n",
    "    \"What are the symptoms of high blood pressure?\"\n",
    "]\n",
    "\n"
   ]
  },
  {
   "cell_type": "code",
   "execution_count": 5,
   "id": "bca8d319-02a4-44ad-b90c-216185f3098c",
   "metadata": {
    "tags": []
   },
   "outputs": [],
   "source": [
    "system_prompt =\"You are a helpful medical assistant. Provide accurate, evidence-based information in response to the following question. Organize the response with clear hierarchical headings and include a conclusion if necessary.\""
   ]
  },
  {
   "cell_type": "markdown",
   "id": "08a626b7-f295-4c49-b856-ce237d5d3203",
   "metadata": {},
   "source": [
    "## 2. Create a deployable model from the model package."
   ]
  },
  {
   "cell_type": "code",
   "execution_count": 6,
   "id": "0e39b84b-7a9f-4004-a204-56af1fd555f1",
   "metadata": {
    "tags": []
   },
   "outputs": [],
   "source": [
    "model = ModelPackage(\n",
    "    role=role,\n",
    "    model_package_arn=model_package_arn,\n",
    "    sagemaker_session=sagemaker_session,\n",
    ")"
   ]
  },
  {
   "cell_type": "markdown",
   "id": "6a846275-5af5-4679-9c52-d35ab157455b",
   "metadata": {},
   "source": [
    "## 3. Create SageMaker Endpoint"
   ]
  },
  {
   "cell_type": "markdown",
   "id": "01b670fa-60d4-45a4-a0d6-3e8e2845b625",
   "metadata": {},
   "source": [
    "If you want to understand how real-time inference with Amazon SageMaker works, see [Documentation](https://docs.aws.amazon.com/sagemaker/latest/dg/how-it-works-hosting.html)."
   ]
  },
  {
   "cell_type": "code",
   "execution_count": 7,
   "id": "8c19c0c0-3ead-4834-8c02-a192da19080b",
   "metadata": {
    "tags": []
   },
   "outputs": [
    {
     "name": "stdout",
     "output_type": "stream",
     "text": [
      "--------------------------!"
     ]
    }
   ],
   "source": [
    "predictor = model.deploy(\n",
    "    initial_instance_count=1,\n",
    "    instance_type=real_time_inference_instance_type, \n",
    "    endpoint_name=model_name,\n",
    "    model_data_download_timeout=3600\n",
    ")"
   ]
  },
  {
   "cell_type": "markdown",
   "id": "23d5c01b-b884-49c6-8b74-98911f6d8e5b",
   "metadata": {
    "tags": []
   },
   "source": [
    "### 3.1 Real-time inference via Amazon SageMaker Endpoint"
   ]
  },
  {
   "cell_type": "code",
   "execution_count": 7,
   "id": "5c195a50-43e4-4341-ad1d-23ca6f0aa45b",
   "metadata": {
    "tags": []
   },
   "outputs": [],
   "source": [
    "def invoke_realtime_endpoint(record):\n",
    "\n",
    "    response = sm_runtime.invoke_endpoint(\n",
    "        EndpointName=model_name,\n",
    "        ContentType=\"application/json\",\n",
    "        Accept=\"application/json\",\n",
    "        Body=json.dumps(record),\n",
    "    )\n",
    "\n",
    "    return json.load(response[\"Body\"])"
   ]
  },
  {
   "cell_type": "code",
   "execution_count": 8,
   "id": "b39309bb-ba2c-4196-bd07-41c444269fc8",
   "metadata": {
    "tags": []
   },
   "outputs": [],
   "source": [
    "def print_colored(text, color='green'):\n",
    "    colors = {\n",
    "        'green': '\\033[92m',\n",
    "        'reset': '\\033[0m',\n",
    "    }\n",
    "    color_code = colors.get(color, colors['reset'])\n",
    "    print(f\"{color_code}{text}{colors['reset']}\", end=\"\", flush=True)"
   ]
  },
  {
   "cell_type": "markdown",
   "id": "e9a475e7-ad31-4b3b-b7b5-21310f541252",
   "metadata": {
    "tags": []
   },
   "source": [
    "#### Chat Completion"
   ]
  },
  {
   "cell_type": "code",
   "execution_count": 9,
   "id": "c22cf887-70d5-4a87-8476-988590228328",
   "metadata": {
    "tags": []
   },
   "outputs": [
    {
     "name": "stdout",
     "output_type": "stream",
     "text": [
      "\u001b[92m\n",
      "Okay, let's try to figure out the best treatment for this pregnant woman with burning on urination. So, the patient is 23 years old, 22 weeks pregnant, and presents with dysuria. The symptoms started a day ago and have been getting worse despite increased water and cranberry extract. She's otherwise well, with normal vital signs. No costovertebral angle tenderness, and a gravid uterus.\n",
      "\n",
      "First, I need to consider the possible diagnosis. Dysuria in pregnancy can be due to a urinary tract infection (UTI), which is common during pregnancy. Since she's in the second trimester, it's important to consider both lower UTI (cystitis) and upper UTI (pyelonephritis). However, there's no fever or flank pain, which are more suggestive of pyelonephritis. The absence of costovertebral tenderness also points away from pyelonephritis. So, it's likely a lower UTI, like cystitis.\n",
      "\n",
      "Now, the next step is to determine the appropriate antibiotic. The key here is to choose an antibiotic that's both effective against UTIs and safe during pregnancy. Let's look at the options given:\n",
      "\n",
      "A: Ampicillin\n",
      "B: Ceftriaxone\n",
      "C: Ciprofloxacin\n",
      "D: Doxycycline\n",
      "E: Nitrofurantoin\n",
      "\n",
      "I need to recall which of these antibiotics are considered safe in pregnancy. First, for UTIs, common first-line treatments during pregnancy are nitrofurantoin, amoxicillin-clavulanate, cephalexin, or sometimes trimethoprim-sulfamethoxazole (TMP-SMX) in the first trimester, but there's debate about its safety in later trimesters.\n",
      "\n",
      "Nitrofurantoin (E) is a common choice for lower UTIs in pregnancy, as it's effective and generally safe, except in the 37-42 weeks of pregnancy due to potential hemolytic anemia in the newborn. Since this patient is 22 weeks, it's a valid option. However, there's a concern about resistance, so if the infection is more severe, other antibiotics may be needed.\n",
      "\n",
      "Ciprofloxacin (C) is a fluoroquinolone. There's some debate about its safety in pregnancy. The FDA previously classified it as category C, and there were concerns about cartilage damage in the fetus. However, more recent evidence suggests that it's generally safe, but it's not typically first-line for uncomplicated cystitis in pregnancy. The American College of Obstetricians and Gynecologists (ACOG) and other guidelines often recommend avoiding fluoroquinolones in pregnancy if possible, unless there's no alternative.\n",
      "\n",
      "Doxycycline (D) is a tetracycline. Tetracyclines are not recommended in pregnancy, especially in the second and third trimesters, because they can cause discoloration of the fetal teeth and affect bone growth. So, this is not a good option.\n",
      "\n",
      "Ceftriaxone (B) is a third-generation cephalosporin. Cephalosporins are generally considered safe in pregnancy. They are used for more severe infections, such as pyelonephritis, but for a lower UTI, it might be overkill. However, if there's a suspicion of resistance or if the infection is more severe, it could be considered.\n",
      "\n",
      "Ampicillin (A) is a penicillin. It's safe in pregnancy and is used for UTIs, but the issue is that it's less effective due to increasing resistance. So, unless the local resistance patterns are known, it's not the first choice.\n",
      "\n",
      "So, for an uncomplicated lower UTI (cystitis) in pregnancy, the first-line antibiotics are usually nitrofurantoin, amoxicillin-clavulanate, or cephalexin. The options given here don't include amoxicillin-clavulanate or cephalexin, so we have to choose from the available options. Between the options, nitrofurantoin (E) is the most appropriate for a lower UTI. Ciprofloxacin (C) could be an option if there's no alternative, but it's not first-line. Ceftriaxone (B) is for more severe infections. Ampicillin (A) is less preferred due to resistance. Doxycycline (D) is not safe in pregnancy.\n",
      "\n",
      "Wait, but there's a nuance here. In some guidelines, if the infection is suspected to be more severe or if there's a risk of ascending infection, broader coverage is needed. However, in this case, the patient has no fever, no costovertebral tenderness, so it's likely a lower UTI. Therefore, nitrofurantoin is the best choice. However, there's a note that nitrofurantoin should be avoided in the last month of pregnancy. Since this patient is 22 weeks, it's acceptable.\n",
      "\n",
      "Therefore, the answer is E: Nitrofurantoin.\n",
      "\u001b[0m\u001b[0m\n",
      "\n",
      "# Clinical Case: Treatment of Dysuria in a Pregnant Woman\n",
      "\n",
      "## Patient Presentation\n",
      "A 23-year-old woman at 22 weeks gestation presents with a 1-day history of worsening dysuria. She reports no fever, flank pain, or costovertebral angle tenderness. Her vital signs are within normal limits, and she is otherwise well.\n",
      "\n",
      "## Differential Diagnosis\n",
      "The most likely diagnosis is a **lower urinary tract infection (cystitis)**, given the presence of dysuria and absence of systemic symptoms or pyelonephritis signs (e.g., fever, flank pain, or costovertebral angle tenderness). The patient is in the second trimester, and no evidence of ascending infection is present.\n",
      "\n",
      "---\n",
      "\n",
      "## Antibiotic Selection in Pregnancy\n",
      "### General Principles\n",
      "- **Safety in pregnancy** is paramount; antibiotics must be both effective and safe for the mother and fetus.\n",
      "- **First-line agents** for uncomplicated cystitis in pregnancy include:  \n",
      "  1. **Nitrofurantoin**  \n",
      "  2. **Amoxicillin-clavulanate**  \n",
      "  3. **Cephalexin**  \n",
      "  4. **Trimethoprim-sulfamethoxazole (TMP-SMX)** in the first trimester (with caution in later trimesters)  \n",
      "- Fluoroquinolones and tetracyclines are generally avoided in pregnancy.\n",
      "\n",
      "---\n",
      "\n",
      "## Evaluation of Answer Options\n",
      "\n",
      "| Option         | Safety in Pregnancy | First-line for Cystitis | Notes |\n",
      "|----------------|---------------------|--------------------------|-------|\n",
      "| **A: Ampicillin** | Safe (Category B)   | No (resistance concerns) | Limited efficacy due to resistance. |\n",
      "| **B: Ceftriaxone** | Safe (Category B)   | No (broader spectrum)    | Used for pyelonephritis, not first-line for cystitis. |\n",
      "| **C: Ciprofloxacin** | Controversial (Category C) | No | Avoided in pregnancy; potential fetal cartilage risk. |\n",
      "| **D: Doxycycline** | Unsafe (Category D)  | No | Contraindicated in pregnancy (affects fetal bone/teeth). |\n",
      "| **E: Nitrofurantoin** | Safe (Category B)   | **Yes** | First-line for cystitis in 22 weeks' gestation. |\n",
      "\n",
      "---\n",
      "\n",
      "## Conclusion\n",
      "**The best treatment for this patient is E: Nitrofurantoin.** It is a first-line, safe, and effective option for uncomplicated cystitis in pregnancy, particularly at 22 weeks' gestation.\u001b[0m"
     ]
    }
   ],
   "source": [
    "input_data = {\n",
    "    \"model\": \"/opt/ml/model\",\n",
    "    \"messages\": [\n",
    "        {\"role\": \"system\", \"content\": system_prompt},\n",
    "        {\"role\": \"user\", \"content\": prompt1},\n",
    "    ],\n",
    "    \"max_tokens\": 8192,\n",
    "    \"temperature\": 0.7,\n",
    "    \"top_p\": 0.95,\n",
    "    \"top_k\": 20,\n",
    "    \"min_p\": 0.0,\n",
    "    \"presence_penalty\":0.0\n",
    "}\n",
    "\n",
    "result = invoke_realtime_endpoint(input_data)\n",
    "message = result[\"choices\"][0][\"message\"]\n",
    "\n",
    "reasoning_content = message.get(\"reasoning_content\")\n",
    "content = message.get(\"content\")\n",
    "\n",
    "print_colored(reasoning_content, 'green')\n",
    "print_colored(content, 'reset')"
   ]
  },
  {
   "cell_type": "markdown",
   "id": "d1a76aec-391a-44e9-b385-99aa62f1b4bf",
   "metadata": {},
   "source": [
    "#### Text Completion"
   ]
  },
  {
   "cell_type": "code",
   "execution_count": 11,
   "id": "02d35237-574e-4d64-b796-65b10bce6459",
   "metadata": {
    "tags": []
   },
   "outputs": [
    {
     "name": "stdout",
     "output_type": "stream",
     "text": [
      "\u001b[92mOkay, the user is asking what to do if they have a fever and body aches. Let me start by recalling the common causes. Fever and body aches are usually symptoms of a viral infection, like the flu or a cold. They could also be from bacterial infections, but more often it's viral.\n",
      "\n",
      "First, I should address the immediate steps they can take. Rest is important because the body needs energy to fight off the infection. Hydration is key too, as fever can cause dehydration. They should drink water, herbal teas, or electrolyte solutions. Over-the-counter medications like acetaminophen or ibuprofen can help reduce fever and pain. I need to make sure to mention the correct dosages and possible side effects, like avoiding alcohol with acetaminophen.\n",
      "\n",
      "Monitoring symptoms is crucial. They should keep track of their temperature and note if the fever is getting worse or if other symptoms like difficulty breathing appear. If the fever is above 103°F or lasts more than a few days, they should seek medical attention. Also, if they have underlying health conditions, that might change the advice.\n",
      "\n",
      "When to see a doctor: High fever, persistent symptoms, severe pain, or signs of complications like a rash. It's also important to mention if they have a weakened immune system. Contacting a healthcare provider early can be necessary for proper diagnosis.\n",
      "\n",
      "Lifestyle and home remedies: Rest, hydration, using a humidifier, and applying a cool compress. Maybe suggest elevating the head to ease breathing if they have a stuffy nose. But avoid things like alcohol or smoking, which can worsen symptoms.\n",
      "\n",
      "Prevention: Good hygiene, staying home to avoid spreading illness, and getting vaccinated if applicable, like the flu vaccine.\n",
      "\n",
      "I should structure the answer with clear sections. Start with immediate care, then monitoring, when to seek help, home remedies, and prevention. Use bullet points for each step to make it easy to follow. Also, include a conclusion summarizing the key points. Need to make sure the information is evidence-based, so I'll reference common medical guidelines. Avoid any unproven remedies. Make sure the language is simple and accessible, avoiding medical jargon where possible.\n",
      "\n",
      "\u001b[0m\u001b[0m\n",
      "### Immediate Steps for Fever and Body Aches\n",
      "\n",
      "1. **Rest and Hydrate**  \n",
      "   - **Rest**: Allow your body to conserve energy to fight the infection. Avoid strenuous activities.  \n",
      "   - **Hydration**: Drink plenty of fluids (water, herbal tea, electrolyte solutions) to prevent dehydration, especially if you have a fever.  \n",
      "\n",
      "2. **Over-the-Counter (OTC) Medications**  \n",
      "   - **Acetaminophen (Tylenol) or Ibuprofen (Advil, Motrin)**: These can reduce fever and alleviate body aches. Follow the dosage instructions on the label.  \n",
      "   - **Caution**: Avoid alcohol while taking acetaminophen to reduce liver strain. Consult a healthcare provider if you have chronic health conditions (e.g., liver or kidney disease).  \n",
      "\n",
      "3. **Cool Compress or Lukewarm Bath**  \n",
      "   - Apply a cool, damp cloth to your forehead or take a lukewarm bath to lower body temperature. Avoid cold water, which may raise the body’s temperature in response.  \n",
      "\n",
      "---\n",
      "\n",
      "### Monitoring Symptoms\n",
      "\n",
      "1. **Track Fever Duration and Intensity**  \n",
      "   - Note if the fever is persistent (e.g., >103°F/39.4°C) or lasts more than 3–5 days.  \n",
      "   - Record any new or worsening symptoms (e.g., difficulty breathing, chest pain, rash).  \n",
      "\n",
      "2. **Assess for Red Flags**  \n",
      "   - Severe headaches, confusion, or stiff neck (may indicate meningitis).  \n",
      "   - Rapid breathing, bluish lips, or extreme fatigue (signs of respiratory or cardiac issues).  \n",
      "\n",
      "---\n",
      "\n",
      "### When to Seek Medical Attention\n",
      "\n",
      "1. **Urgent Care**  \n",
      "   - Call a healthcare provider or visit an emergency room if:  \n",
      "     - Fever is >104°F (40°C) and unresponsive to OTC medications.  \n",
      "     - Symptoms persist for more than 3 days or worsen after 5 days.  \n",
      "     - You experience difficulty breathing, chest pain, or neurological symptoms (e.g., seizures, confusion).  \n",
      "\n",
      "2. **Special Considerations**  \n",
      "   - **Children <3 months** with a fever >100.4°F (38°C) require immediate evaluation.  \n",
      "   - **Pregnant individuals** or those with chronic conditions (e.g., diabetes, immunosuppression) should consult a provider early.  \n",
      "\n",
      "---\n",
      "\n",
      "### Home Remedies and Lifestyle Adjustments\n",
      "\n",
      "1. **Comfort Measures**  \n",
      "   - Use a humidifier to ease congestion if present.  \n",
      "   - Elevate your head with an extra pillow to reduce sinus pressure.  \n",
      "\n",
      "2. **Diet and Nutrition**  \n",
      "   - Consume bland, easy-to-digest foods (e.g., soup, toast, bananas) if appetite is low.  \n",
      "   - Avoid caffeine and alcohol, which can dehydrate.  \n",
      "\n",
      "3. **Isolation and Hygiene**  \n",
      "   - Stay home to avoid spreading illness, especially if symptoms are contagious (e.g., viral infections).  \n",
      "   - Wash hands frequently and disinfect surfaces to prevent transmission.  \n",
      "\n",
      "---\n",
      "\n",
      "### Prevention and Long-Term Care\n",
      "\n",
      "1. **Vaccination**  \n",
      "   - Stay up to date with vaccines (e.g., flu, pneumococcal) to reduce risk of infections.  \n",
      "\n",
      "2. **Healthy Habits**  \n",
      "   - Practice regular handwashing, avoid close contact with sick individuals, and maintain a balanced diet to support immunity.  \n",
      "\n",
      "---\n",
      "\n",
      "### Conclusion  \n",
      "Fever and body aches are commonly caused by viral infections and often resolve with rest, hydration, and OTC care. Monitor symptoms closely and seek medical attention if they persist or worsen. Prioritize self-care and hygiene to aid recovery and prevent complications.\u001b[0m"
     ]
    }
   ],
   "source": [
    "input_data ={\n",
    "        \"model\": \"/opt/ml/model\",\n",
    "        \"prompt\": f\"{system_prompt}\\n\\nUser: {prompt2}\\n\\nAssistant:\",\n",
    "        \"max_tokens\": 2048,\n",
    "        \"temperature\": 0.7,\n",
    "        \"top_p\": 0.95,\n",
    "        \"top_k\": 20,\n",
    "        \"min_p\": 0.0,\n",
    "        \"presence_penalty\":0.0\n",
    "    }\n",
    "\n",
    "result = invoke_realtime_endpoint(input_data)\n",
    "output_text = result['choices'][0]['text']\n",
    "\n",
    "reasoning_match = re.match(r\"<think>\\n?(.*?)</think>\\n?\", output_text, flags=re.DOTALL)\n",
    "reasoning_content = None\n",
    "if reasoning_match:\n",
    "    reasoning_content = reasoning_match.group(1).rstrip()\n",
    "    content = output_text[len(reasoning_match.group(0)):]\n",
    "else:\n",
    "    content = output_text\n",
    "\n",
    "if reasoning_content:\n",
    "    print_colored(reasoning_content + \"\\n\\n\", 'green')\n",
    "\n",
    "print_colored(content, 'reset')"
   ]
  },
  {
   "cell_type": "markdown",
   "id": "ccccf37b-9dee-4d38-a0dc-38f2aeaeb780",
   "metadata": {},
   "source": [
    "### 3.2 Real-time inference response as a stream via Amazon SageMaker Endpoint"
   ]
  },
  {
   "cell_type": "code",
   "execution_count": 14,
   "id": "5fd3f26c-05ce-4f22-8271-f97ea572352d",
   "metadata": {
    "tags": []
   },
   "outputs": [],
   "source": [
    "def invoke_streaming_endpoint(record):\n",
    "    try:\n",
    "        response = sm_runtime.invoke_endpoint_with_response_stream(\n",
    "            EndpointName=model_name,\n",
    "            Body=json.dumps(record),\n",
    "            ContentType=\"application/json\",\n",
    "            Accept=\"text/event-stream\"\n",
    "        )\n",
    "\n",
    "        is_chat_completion = \"messages\" in record\n",
    "\n",
    "        for event in response[\"Body\"]:\n",
    "            if \"PayloadPart\" in event:\n",
    "                chunk = event[\"PayloadPart\"][\"Bytes\"].decode(\"utf-8\")\n",
    "                if chunk.startswith(\"data:\"):\n",
    "                    try:\n",
    "                        data = json.loads(chunk[5:].strip())\n",
    "\n",
    "                        if \"choices\" not in data or len(data[\"choices\"]) == 0:\n",
    "                            continue\n",
    "\n",
    "                        choice = data[\"choices\"][0]\n",
    "                        if is_chat_completion:\n",
    "                            if \"delta\" in choice:\n",
    "                                delta = choice[\"delta\"]\n",
    "\n",
    "                                if \"reasoning_content\" in delta:\n",
    "                                    yield {'type': 'reasoning', 'content': delta[\"reasoning_content\"]}\n",
    "\n",
    "                                elif \"content\" in delta:\n",
    "                                    yield {'type': 'content', 'content': delta[\"content\"]}\n",
    "                        else:\n",
    "\n",
    "                            if \"text\" in choice:\n",
    "                                yield {'type': 'text', 'content': choice[\"text\"]}\n",
    "\n",
    "                    except json.JSONDecodeError:\n",
    "                        continue\n",
    "\n",
    "            elif \"ModelStreamError\" in event:\n",
    "                error = event[\"ModelStreamError\"]\n",
    "                yield {'type': 'error', 'content': f\"\\nStream error: {error['Message']} (Error code: {error['ErrorCode']})\"}\n",
    "                break\n",
    "            elif \"InternalStreamFailure\" in event:\n",
    "                failure = event[\"InternalStreamFailure\"]\n",
    "                yield {'type': 'error', 'content': f\"\\nInternal stream failure: {failure['Message']}\"}\n",
    "                break\n",
    "\n",
    "    except Exception as e:\n",
    "        yield {'type': 'error', 'content': f\"\\nAn error occurred during streaming: {str(e)}\"}"
   ]
  },
  {
   "cell_type": "code",
   "execution_count": 15,
   "id": "9a00fb1b-1821-433f-bf84-edf9f0271c48",
   "metadata": {
    "tags": []
   },
   "outputs": [],
   "source": [
    "def handle_streaming_chunk(chunk):\n",
    "    \"\"\"\n",
    "    Handles and prints a streaming chunk with appropriate formatting\n",
    "    Args:\n",
    "        chunk: Dictionary with 'type' and 'content' keys\n",
    "    \"\"\"\n",
    "    if chunk['type'] == 'reasoning':\n",
    "        print_colored(chunk['content'], 'green')\n",
    "    elif chunk['type'] == 'content':\n",
    "        print_colored(chunk['content'], 'reset')\n",
    "    elif chunk['type'] == 'text':  # For text completion\n",
    "        print(chunk['content'], end=\"\", flush=True)\n",
    "    elif chunk['type'] == 'error':\n",
    "        print_colored(chunk['content'], 'reset')"
   ]
  },
  {
   "cell_type": "markdown",
   "id": "d2c6f25e-6d6d-41c7-a7ab-8b979e97a145",
   "metadata": {},
   "source": [
    "#### Chat Completion"
   ]
  },
  {
   "cell_type": "code",
   "execution_count": 16,
   "id": "5d62d99f-67a1-46f7-ad52-d2d41b2c5e3a",
   "metadata": {
    "tags": []
   },
   "outputs": [
    {
     "name": "stdout",
     "output_type": "stream",
     "text": [
      "\u001b[0m\u001b[0m\u001b[92m\n",
      "\u001b[0m\u001b[92mOkay\u001b[0m\u001b[92m,\u001b[0m\u001b[92m so\u001b[0m\u001b[92m I\u001b[0m\u001b[92m need\u001b[0m\u001b[92m to\u001b[0m\u001b[92m figure\u001b[0m\u001b[92m out\u001b[0m\u001b[92m the\u001b[0m\u001b[92m best\u001b[0m\u001b[92m treatment\u001b[0m\u001b[92m for\u001b[0m\u001b[92m this\u001b[0m\u001b[92m \u001b[0m\u001b[92m2\u001b[0m\u001b[92m3\u001b[0m\u001b[92m-year\u001b[0m\u001b[92m-old\u001b[0m\u001b[92m pregnant\u001b[0m\u001b[92m woman\u001b[0m\u001b[92m who\u001b[0m\u001b[92m's\u001b[0m\u001b[92m \u001b[0m\u001b[92m2\u001b[0m\u001b[92m2\u001b[0m\u001b[92m weeks\u001b[0m\u001b[92m along\u001b[0m\u001b[92m and\u001b[0m\u001b[92m has\u001b[0m\u001b[92m burning\u001b[0m\u001b[92m when\u001b[0m\u001b[92m she\u001b[0m\u001b[92m ur\u001b[0m\u001b[92min\u001b[0m\u001b[92mates\u001b[0m\u001b[92m.\u001b[0m\u001b[92m The\u001b[0m\u001b[92m symptoms\u001b[0m\u001b[92m started\u001b[0m\u001b[92m a\u001b[0m\u001b[92m day\u001b[0m\u001b[92m ago\u001b[0m\u001b[92m and\u001b[0m\u001b[92m are\u001b[0m\u001b[92m getting\u001b[0m\u001b[92m worse\u001b[0m\u001b[92m even\u001b[0m\u001b[92m after\u001b[0m\u001b[92m she\u001b[0m\u001b[92m's\u001b[0m\u001b[92m been\u001b[0m\u001b[92m drinking\u001b[0m\u001b[92m more\u001b[0m\u001b[92m water\u001b[0m\u001b[92m and\u001b[0m\u001b[92m taking\u001b[0m\u001b[92m cran\u001b[0m\u001b[92mberry\u001b[0m\u001b[92m extract\u001b[0m\u001b[92m.\u001b[0m\u001b[92m She\u001b[0m\u001b[92m's\u001b[0m\u001b[92m healthy\u001b[0m\u001b[92m,\u001b[0m\u001b[92m has\u001b[0m\u001b[92m a\u001b[0m\u001b[92m normal\u001b[0m\u001b[92m temperature\u001b[0m\u001b[92m,\u001b[0m\u001b[92m and\u001b[0m\u001b[92m her\u001b[0m\u001b[92m physical\u001b[0m\u001b[92m exam\u001b[0m\u001b[92m doesn\u001b[0m\u001b[92m't\u001b[0m\u001b[92m show\u001b[0m\u001b[92m any\u001b[0m\u001b[92m cost\u001b[0m\u001b[92mover\u001b[0m\u001b[92mte\u001b[0m\u001b[92mbral\u001b[0m\u001b[92m angle\u001b[0m\u001b[92m tend\u001b[0m\u001b[92merness\u001b[0m\u001b[92m,\u001b[0m\u001b[92m which\u001b[0m\u001b[92m is\u001b[0m\u001b[92m a\u001b[0m\u001b[92m sign\u001b[0m\u001b[92m of\u001b[0m\u001b[92m a\u001b[0m\u001b[92m possible\u001b[0m\u001b[92m kidney\u001b[0m\u001b[92m infection\u001b[0m\u001b[92m.\u001b[0m\u001b[92m \n",
      "\n",
      "\u001b[0m\u001b[92mFirst\u001b[0m\u001b[92m,\u001b[0m\u001b[92m the\u001b[0m\u001b[92m burning\u001b[0m\u001b[92m on\u001b[0m\u001b[92m ur\u001b[0m\u001b[92mination\u001b[0m\u001b[92m is\u001b[0m\u001b[92m a\u001b[0m\u001b[92m classic\u001b[0m\u001b[92m symptom\u001b[0m\u001b[92m of\u001b[0m\u001b[92m a\u001b[0m\u001b[92m urinary\u001b[0m\u001b[92m tract\u001b[0m\u001b[92m infection\u001b[0m\u001b[92m (\u001b[0m\u001b[92mUT\u001b[0m\u001b[92mI\u001b[0m\u001b[92m).\u001b[0m\u001b[92m Since\u001b[0m\u001b[92m she\u001b[0m\u001b[92m's\u001b[0m\u001b[92m pregnant\u001b[0m\u001b[92m,\u001b[0m\u001b[92m I\u001b[0m\u001b[92m need\u001b[0m\u001b[92m to\u001b[0m\u001b[92m which\u001b[0m\u001b[92m antibiotics\u001b[0m\u001b[92m are\u001b[0m\u001b[92m safe\u001b[0m\u001b[92m during\u001b[0m\u001b[92m pregnancy\u001b[0m\u001b[92m.\u001b[0m\u001b[92m Let\u001b[0m\u001b[92m's\u001b[0m\u001b[92m go\u001b[0m\u001b[92m through\u001b[0m\u001b[92m the\u001b[0m\u001b[92m options\u001b[0m\u001b[92m.\n",
      "\n",
      "\u001b[0m\u001b[92mThe\u001b[0m\u001b[92m choices\u001b[0m\u001b[92m are\u001b[0m\u001b[92m Amp\u001b[0m\u001b[92mic\u001b[0m\u001b[92millin\u001b[0m\u001b[92m,\u001b[0m\u001b[92m C\u001b[0m\u001b[92mef\u001b[0m\u001b[92mtr\u001b[0m\u001b[92mia\u001b[0m\u001b[92mx\u001b[0m\u001b[92mone\u001b[0m\u001b[92m,\u001b[0m\u001b[92m C\u001b[0m\u001b[92mipro\u001b[0m\u001b[92mf\u001b[0m\u001b[92mlox\u001b[0m\u001b[92macin\u001b[0m\u001b[92m,\u001b[0m\u001b[92m Do\u001b[0m\u001b[92mx\u001b[0m\u001b[92myc\u001b[0m\u001b[92mycl\u001b[0m\u001b[92mine\u001b[0m\u001b[92m,\u001b[0m\u001b[92m and\u001b[0m\u001b[92m Nit\u001b[0m\u001b[92mro\u001b[0m\u001b[92mfur\u001b[0m\u001b[92mant\u001b[0m\u001b[92moin\u001b[0m\u001b[92m.\u001b[0m\u001b[92m \n",
      "\n",
      "\u001b[0m\u001b[92mI\u001b[0m\u001b[92m remember\u001b[0m\u001b[92m that\u001b[0m\u001b[92m in\u001b[0m\u001b[92m pregnancy\u001b[0m\u001b[92m,\u001b[0m\u001b[92m certain\u001b[0m\u001b[92m antibiotics\u001b[0m\u001b[92m are\u001b[0m\u001b[92m because\u001b[0m\u001b[92m of\u001b[0m\u001b[92m safety\u001b[0m\u001b[92m for\u001b[0m\u001b[92m the\u001b[0m\u001b[92m fetus\u001b[0m\u001b[92m.\u001b[0m\u001b[92m For\u001b[0m\u001b[92m example\u001b[0m\u001b[92m,\u001b[0m\u001b[92m nit\u001b[0m\u001b[92mro\u001b[0m\u001b[92mfur\u001b[0m\u001b[92mant\u001b[0m\u001b[92moin\u001b[0m\u001b[92m is\u001b[0m\u001b[92m often\u001b[0m\u001b[92m used\u001b[0m\u001b[92m for\u001b[0m\u001b[92m UT\u001b[0m\u001b[92mIs\u001b[0m\u001b[92m in\u001b[0m\u001b[92m pregnancy\u001b[0m\u001b[92m,\u001b[0m\u001b[92m but\u001b[0m\u001b[92m I\u001b[0m\u001b[92m need\u001b[0m\u001b[92m to\u001b[0m\u001b[92m be\u001b[0m\u001b[92m careful\u001b[0m\u001b[92m with\u001b[0m\u001b[92m when\u001b[0m\u001b[92m it\u001b[0m\u001b[92m's\u001b[0m\u001b[92m used\u001b[0m\u001b[92m.\u001b[0m\u001b[92m I\u001b[0m\u001b[92m think\u001b[0m\u001b[92m nit\u001b[0m\u001b[92mro\u001b[0m\u001b[92mfur\u001b[0m\u001b[92mant\u001b[0m\u001b[92moin\u001b[0m\u001b[92m is\u001b[0m\u001b[92m safe\u001b[0m\u001b[92m in\u001b[0m\u001b[92m the\u001b[0m\u001b[92m first\u001b[0m\u001b[92m and\u001b[0m\u001b[92m second\u001b[0m\u001b[92m trimest\u001b[0m\u001b[92mers\u001b[0m\u001b[92m,\u001b[0m\u001b[92m but\u001b[0m\u001b[92m in\u001b[0m\u001b[92m the\u001b[0m\u001b[92m third\u001b[0m\u001b[92m trimest\u001b[0m\u001b[92mer\u001b[0m\u001b[92m,\u001b[0m\u001b[92m it\u001b[0m\u001b[92m might\u001b[0m\u001b[92m be\u001b[0m\u001b[92m avoided\u001b[0m\u001b[92m because\u001b[0m\u001b[92m of\u001b[0m\u001b[92m the\u001b[0m\u001b[92m risk\u001b[0m\u001b[92m of\u001b[0m\u001b[92m hem\u001b[0m\u001b[92moly\u001b[0m\u001b[92mtic\u001b[0m\u001b[92m an\u001b[0m\u001b[92memia\u001b[0m\u001b[92m in\u001b[0m\u001b[92m the\u001b[0m\u001b[92m newborn\u001b[0m\u001b[92m.\u001b[0m\u001b[92m Since\u001b[0m\u001b[92m this\u001b[0m\u001b[92m patient\u001b[0m\u001b[92m is\u001b[0m\u001b[92m at\u001b[0m\u001b[92m \u001b[0m\u001b[92m2\u001b[0m\u001b[92m2\u001b[0m\u001b[92m weeks\u001b[0m\u001b[92m,\u001b[0m\u001b[92m which\u001b[0m\u001b[92m is\u001b[0m\u001b[92m the\u001b[0m\u001b[92m second\u001b[0m\u001b[92m trimest\u001b[0m\u001b[92mer\u001b[0m\u001b[92m,\u001b[0m\u001b[92m nit\u001b[0m\u001b[92mro\u001b[0m\u001b[92mfur\u001b[0m\u001b[92mant\u001b[0m\u001b[92moin\u001b[0m\u001b[92m could\u001b[0m\u001b[92m be\u001b[0m\u001b[92m a\u001b[0m\u001b[92m answer\u001b[0m\u001b[92m.\u001b[0m\u001b[92m \n",
      "\n",
      "\u001b[0m\u001b[92mC\u001b[0m\u001b[92mipro\u001b[0m\u001b[92mf\u001b[0m\u001b[92mlox\u001b[0m\u001b[92macin\u001b[0m\u001b[92m is\u001b[0m\u001b[92m a\u001b[0m\u001b[92m flu\u001b[0m\u001b[92moro\u001b[0m\u001b[92mquin\u001b[0m\u001b[92mol\u001b[0m\u001b[92mone\u001b[0m\u001b[92m.\u001b[0m\u001b[92m I\u001b[0m\u001b[92m recall\u001b[0m\u001b[92m that\u001b[0m\u001b[92m flu\u001b[0m\u001b[92moro\u001b[0m\u001b[92mquin\u001b[0m\u001b[92mol\u001b[0m\u001b[92mones\u001b[0m\u001b[92m are\u001b[0m\u001b[92m generally\u001b[0m\u001b[92m not\u001b[0m\u001b[92m recommended\u001b[0m\u001b[92m during\u001b[0m\u001b[92m pregnancy\u001b[0m\u001b[92m,\u001b[0m\u001b[92m especially\u001b[0m\u001b[92m in\u001b[0m\u001b[92m the\u001b[0m\u001b[92m first\u001b[0m\u001b[92m and\u001b[0m\u001b[92m second\u001b[0m\u001b[92m trimest\u001b[0m\u001b[92mers\u001b[0m\u001b[92m,\u001b[0m\u001b[92m because\u001b[0m\u001b[92m of\u001b[0m\u001b[92m potential\u001b[0m\u001b[92m cart\u001b[0m\u001b[92milage\u001b[0m\u001b[92m issues\u001b[0m\u001b[92m in\u001b[0m\u001b[92m the\u001b[0m\u001b[92m fetus\u001b[0m\u001b[92m.\u001b[0m\u001b[92m Although\u001b[0m\u001b[92m some\u001b[0m\u001b[92m sources\u001b[0m\u001b[92m might\u001b[0m\u001b[92m say\u001b[0m\u001b[92m it\u001b[0m\u001b[92m's\u001b[0m\u001b[92m not\u001b[0m\u001b[92m absolutely\u001b[0m\u001b[92m contr\u001b[0m\u001b[92main\u001b[0m\u001b[92md\u001b[0m\u001b[92micated\u001b[0m\u001b[92m,\u001b[0m\u001b[92m it\u001b[0m\u001b[92m's\u001b[0m\u001b[92m usually\u001b[0m\u001b[92m avoided\u001b[0m\u001b[92m.\u001b[0m\u001b[92m \n",
      "\n",
      "\u001b[0m\u001b[92mD\u001b[0m\u001b[92mox\u001b[0m\u001b[92myc\u001b[0m\u001b[92mycl\u001b[0m\u001b[92mine\u001b[0m\u001b[92m is\u001b[0m\u001b[92m a\u001b[0m\u001b[92m t\u001b[0m\u001b[92metr\u001b[0m\u001b[92macy\u001b[0m\u001b[92mcline\u001b[0m\u001b[92m,\u001b[0m\u001b[92m and\u001b[0m\u001b[92m t\u001b[0m\u001b[92metr\u001b[0m\u001b[92macy\u001b[0m\u001b[92mcl\u001b[0m\u001b[92mines\u001b[0m\u001b[92m are\u001b[0m\u001b[92m contr\u001b[0m\u001b[92main\u001b[0m\u001b[92md\u001b[0m\u001b[92micated\u001b[0m\u001b[92m in\u001b[0m\u001b[92m pregnancy\u001b[0m\u001b[92m,\u001b[0m\u001b[92m in\u001b[0m\u001b[92m the\u001b[0m\u001b[92m second\u001b[0m\u001b[92m and\u001b[0m\u001b[92m third\u001b[0m\u001b[92m trimest\u001b[0m\u001b[92mers\u001b[0m\u001b[92m,\u001b[0m\u001b[92m because\u001b[0m\u001b[92m they\u001b[0m\u001b[92m can\u001b[0m\u001b[92m cause\u001b[0m\u001b[92m tooth\u001b[0m\u001b[92m disc\u001b[0m\u001b[92molor\u001b[0m\u001b[92mation\u001b[0m\u001b[92m in\u001b[0m\u001b[92m the\u001b[0m\u001b[92m fetus\u001b[0m\u001b[92m.\u001b[0m\u001b[92m \n",
      "\n",
      "\u001b[0m\u001b[92mA\u001b[0m\u001b[92mmp\u001b[0m\u001b[92mic\u001b[0m\u001b[92millin\u001b[0m\u001b[92m is\u001b[0m\u001b[92m a\u001b[0m\u001b[92m pen\u001b[0m\u001b[92mic\u001b[0m\u001b[92millin\u001b[0m\u001b[92m and\u001b[0m\u001b[92m is\u001b[0m\u001b[92m considered\u001b[0m\u001b[92m safe\u001b[0m\u001b[92m in\u001b[0m\u001b[92m pregnancy\u001b[0m\u001b[92m.\u001b[0m\u001b[92m It\u001b[0m\u001b[92m's\u001b[0m\u001b[92m often\u001b[0m\u001b[92m used\u001b[0m\u001b[92m for\u001b[0m\u001b[92m UT\u001b[0m\u001b[92mIs\u001b[0m\u001b[92m,\u001b[0m\u001b[92m but\u001b[0m\u001b[92m I\u001b[0m\u001b[92m need\u001b[0m\u001b[92m to\u001b[0m\u001b[92m check\u001b[0m\u001b[92m if\u001b[0m\u001b[92m it\u001b[0m\u001b[92m's\u001b[0m\u001b[92m the\u001b[0m\u001b[92m first\u001b[0m\u001b[92m-line\u001b[0m\u001b[92m choice\u001b[0m\u001b[92m.\u001b[0m\u001b[92m \n",
      "\n",
      "\u001b[0m\u001b[92mC\u001b[0m\u001b[92mef\u001b[0m\u001b[92mtr\u001b[0m\u001b[92mia\u001b[0m\u001b[92mx\u001b[0m\u001b[92mone\u001b[0m\u001b[92m is\u001b[0m\u001b[92m a\u001b[0m\u001b[92m third\u001b[0m\u001b[92m-generation\u001b[0m\u001b[92m cep\u001b[0m\u001b[92mhal\u001b[0m\u001b[92mos\u001b[0m\u001b[92mpor\u001b[0m\u001b[92min\u001b[0m\u001b[92m,\u001b[0m\u001b[92m and\u001b[0m\u001b[92m cep\u001b[0m\u001b[92mhal\u001b[0m\u001b[92mos\u001b[0m\u001b[92mpor\u001b[0m\u001b[92mins\u001b[0m\u001b[92m are\u001b[0m\u001b[92m also\u001b[0m\u001b[92m considered\u001b[0m\u001b[92m safe\u001b[0m\u001b[92m in\u001b[0m\u001b[92m pregnancy\u001b[0m\u001b[92m.\u001b[0m\u001b[92m They\u001b[0m\u001b[92m are\u001b[0m\u001b[92m used\u001b[0m\u001b[92m for\u001b[0m\u001b[92m various\u001b[0m\u001b[92m infections\u001b[0m\u001b[92m,\u001b[0m\u001b[92m including\u001b[0m\u001b[92m UT\u001b[0m\u001b[92mIs\u001b[0m\u001b[92m,\u001b[0m\u001b[92m but\u001b[0m\u001b[92m again\u001b[0m\u001b[92m,\u001b[0m\u001b[92m I\u001b[0m\u001b[92m need\u001b[0m\u001b[92m to\u001b[0m\u001b[92m see\u001b[0m\u001b[92m if\u001b[0m\u001b[92m it\u001b[0m\u001b[92m's\u001b[0m\u001b[92m the\u001b[0m\u001b[92m best\u001b[0m\u001b[92m choice\u001b[0m\u001b[92m here\u001b[0m\u001b[92m.\u001b[0m\u001b[92m \n",
      "\n",
      "\u001b[0m\u001b[92mThe\u001b[0m\u001b[92m patient\u001b[0m\u001b[92m is\u001b[0m\u001b[92m \u001b[0m\u001b[92m2\u001b[0m\u001b[92m2\u001b[0m\u001b[92m weeks\u001b[0m\u001b[92m pregnant\u001b[0m\u001b[92m,\u001b[0m\u001b[92m so\u001b[0m\u001b[92m the\u001b[0m\u001b[92m second\u001b[0m\u001b[92m trimest\u001b[0m\u001b[92mer\u001b[0m\u001b[92m.\u001b[0m\u001b[92m For\u001b[0m\u001b[92m a\u001b[0m\u001b[92m sympt\u001b[0m\u001b[92momatic\u001b[0m\u001b[92m UT\u001b[0m\u001b[92mI\u001b[0m\u001b[92m in\u001b[0m\u001b[92m,\u001b[0m\u001b[92m the\u001b[0m\u001b[92m guidelines\u001b[0m\u001b[92m (\u001b[0m\u001b[92mfrom\u001b[0m\u001b[92m the\u001b[0m\u001b[92m CDC\u001b[0m\u001b[92m or\u001b[0m\u001b[92m A\u001b[0m\u001b[92mCO\u001b[0m\u001b[92mG\u001b[0m\u001b[92m)\u001b[0m\u001b[92m recommend\u001b[0m\u001b[92m certain\u001b[0m\u001b[92m antibiotics\u001b[0m\u001b[92m.\u001b[0m\u001b[92m I\u001b[0m\u001b[92m think\u001b[0m\u001b[92m the\u001b[0m\u001b[92m first\u001b[0m\u001b[92m-line\u001b[0m\u001b[92m treatments\u001b[0m\u001b[92m are\u001b[0m\u001b[92m nit\u001b[0m\u001b[92mro\u001b[0m\u001b[92mfur\u001b[0m\u001b[92mant\u001b[0m\u001b[92moin\u001b[0m\u001b[92m,\u001b[0m\u001b[92m sulf\u001b[0m\u001b[92mam\u001b[0m\u001b[92meth\u001b[0m\u001b[92mox\u001b[0m\u001b[92mazole\u001b[0m\u001b[92m/\u001b[0m\u001b[92mtrim\u001b[0m\u001b[92meth\u001b[0m\u001b[92mop\u001b[0m\u001b[92mrim\u001b[0m\u001b[92m (\u001b[0m\u001b[92mif\u001b[0m\u001b[92m no\u001b[0m\u001b[92m),\u001b[0m\u001b[92m or\u001b[0m\u001b[92m cep\u001b[0m\u001b[92mhal\u001b[0m\u001b[92mos\u001b[0m\u001b[92mpor\u001b[0m\u001b[92mins\u001b[0m\u001b[92m.\u001b[0m\u001b[92m However\u001b[0m\u001b[92m,\u001b[0m\u001b[92m in\u001b[0m\u001b[92m the\u001b[0m\u001b[92m second\u001b[0m\u001b[92m trimest\u001b[0m\u001b[92mer\u001b[0m\u001b[92m,\u001b[0m\u001b[92m nit\u001b[0m\u001b[92mro\u001b[0m\u001b[92mfur\u001b[0m\u001b[92mant\u001b[0m\u001b[92moin\u001b[0m\u001b[92m is\u001b[0m\u001b[92m acceptable\u001b[0m\u001b[92m.\u001b[0m\u001b[92m \n",
      "\n",
      "\u001b[0m\u001b[92mWait\u001b[0m\u001b[92m,\u001b[0m\u001b[92m but\u001b[0m\u001b[92m there\u001b[0m\u001b[92m's\u001b[0m\u001b[92m a\u001b[0m\u001b[92m note\u001b[0m\u001b[92m that\u001b[0m\u001b[92m nit\u001b[0m\u001b[92mro\u001b[0m\u001b[92mfur\u001b[0m\u001b[92mant\u001b[0m\u001b[92moin\u001b[0m\u001b[92m should\u001b[0m\u001b[92m not\u001b[0m\u001b[92m be\u001b[0m\u001b[92m used\u001b[0m\u001b[92m in\u001b[0m\u001b[92m the\u001b[0m\u001b[92m third\u001b[0m\u001b[92m trimest\u001b[0m\u001b[92mer\u001b[0m\u001b[92m.\u001b[0m\u001b[92m So\u001b[0m\u001b[92m in\u001b[0m\u001b[92m the\u001b[0m\u001b[92m second\u001b[0m\u001b[92m trimest\u001b[0m\u001b[92mer\u001b[0m\u001b[92m,\u001b[0m\u001b[92m it\u001b[0m\u001b[92m's\u001b[0m\u001b[92m okay\u001b[0m\u001b[92m.\u001b[0m\u001b[92m \n",
      "\n",
      "\u001b[0m\u001b[92mSo\u001b[0m\u001b[92m in\u001b[0m\u001b[92m this\u001b[0m\u001b[92m case\u001b[0m\u001b[92m,\u001b[0m\u001b[92m the\u001b[0m\u001b[92m patient\u001b[0m\u001b[92m has\u001b[0m\u001b[92m a\u001b[0m\u001b[92m UT\u001b[0m\u001b[92mI\u001b[0m\u001b[92m.\u001b[0m\u001b[92m The\u001b[0m\u001b[92m options\u001b[0m\u001b[92m are\u001b[0m\u001b[92m E\u001b[0m\u001b[92m:\u001b[0m\u001b[92m Nit\u001b[0m\u001b[92mro\u001b[0m\u001b[92mfur\u001b[0m\u001b[92mant\u001b[0m\u001b[92moin\u001b[0m\u001b[92m.\u001b[0m\u001b[92m But\u001b[0m\u001b[92m I\u001b[0m\u001b[92m need\u001b[0m\u001b[92m to\u001b[0m\u001b[92m make\u001b[0m\u001b[92m sure\u001b[0m\u001b[92m.\u001b[0m\u001b[92m Alternatively\u001b[0m\u001b[92m,\u001b[0m\u001b[92m if\u001b[0m\u001b[92m the\u001b[0m\u001b[92m infection\u001b[0m\u001b[92m is\u001b[0m\u001b[92m more\u001b[0m\u001b[92m severe\u001b[0m\u001b[92m,\u001b[0m\u001b[92m like\u001b[0m\u001b[92m a\u001b[0m\u001b[92m py\u001b[0m\u001b[92mel\u001b[0m\u001b[92mone\u001b[0m\u001b[92mph\u001b[0m\u001b[92mritis\u001b[0m\u001b[92m,\u001b[0m\u001b[92m then\u001b[0m\u001b[92m a\u001b[0m\u001b[92m different\u001b[0m\u001b[92m antibiotic\u001b[0m\u001b[92m might\u001b[0m\u001b[92m be\u001b[0m\u001b[92m needed\u001b[0m\u001b[92m.\u001b[0m\u001b[92m But\u001b[0m\u001b[92m the\u001b[0m\u001b[92m patient\u001b[0m\u001b[92m has\u001b[0m\u001b[92m no\u001b[0m\u001b[92m cost\u001b[0m\u001b[92mover\u001b[0m\u001b[92mte\u001b[0m\u001b[92mbral\u001b[0m\u001b[92m angle\u001b[0m\u001b[92m tend\u001b[0m\u001b[92merness\u001b[0m\u001b[92m,\u001b[0m\u001b[92m so\u001b[0m\u001b[92m it\u001b[0m\u001b[92m's\u001b[0m\u001b[92m more\u001b[0m\u001b[92m likely\u001b[0m\u001b[92m a\u001b[0m\u001b[92m lower\u001b[0m\u001b[92m UT\u001b[0m\u001b[92mI\u001b[0m\u001b[92m,\u001b[0m\u001b[92m like\u001b[0m\u001b[92m cyst\u001b[0m\u001b[92mitis\u001b[0m\u001b[92m.\u001b[0m\u001b[92m \n",
      "\n",
      "\u001b[0m\u001b[92mFor\u001b[0m\u001b[92m uncomp\u001b[0m\u001b[92mlicated\u001b[0m\u001b[92m cyst\u001b[0m\u001b[92mitis\u001b[0m\u001b[92m in\u001b[0m\u001b[92m,\u001b[0m\u001b[92m nit\u001b[0m\u001b[92mro\u001b[0m\u001b[92mfur\u001b[0m\u001b[92mant\u001b[0m\u001b[92moin\u001b[0m\u001b[92m is\u001b[0m\u001b[92m a\u001b[0m\u001b[92m common\u001b[0m\u001b[92m choice\u001b[0m\u001b[92m.\u001b[0m\u001b[92m If\u001b[0m\u001b[92m there\u001b[0m\u001b[92m's\u001b[0m\u001b[92m resistance\u001b[0m\u001b[92m or\u001b[0m\u001b[92m the\u001b[0m\u001b[92m patient\u001b[0m\u001b[92m can\u001b[0m\u001b[92m't\u001b[0m\u001b[92m take\u001b[0m\u001b[92m it\u001b[0m\u001b[92m,\u001b[0m\u001b[92m then\u001b[0m\u001b[92m a\u001b[0m\u001b[92m cep\u001b[0m\u001b[92mhal\u001b[0m\u001b[92mos\u001b[0m\u001b[92mpor\u001b[0m\u001b[92min\u001b[0m\u001b[92m like\u001b[0m\u001b[92m c\u001b[0m\u001b[92mef\u001b[0m\u001b[92mtr\u001b[0m\u001b[92mia\u001b[0m\u001b[92mx\u001b[0m\u001b[92mone\u001b[0m\u001b[92m or\u001b[0m\u001b[92m am\u001b[0m\u001b[92mpic\u001b[0m\u001b[92millin\u001b[0m\u001b[92m.\u001b[0m\u001b[92m \n",
      "\n",
      "\u001b[0m\u001b[92mSo\u001b[0m\u001b[92m the\u001b[0m\u001b[92m best\u001b[0m\u001b[92m answer\u001b[0m\u001b[92m would\u001b[0m\u001b[92m be\u001b[0m\u001b[92m E\u001b[0m\u001b[92m:\u001b[0m\u001b[92m Nit\u001b[0m\u001b[92mro\u001b[0m\u001b[92mfur\u001b[0m\u001b[92mant\u001b[0m\u001b[92moin\u001b[0m\u001b[92m.\u001b[0m\u001b[92m \n",
      "\n",
      "\u001b[0m\u001b[92mBut\u001b[0m\u001b[92m wait\u001b[0m\u001b[92m,\u001b[0m\u001b[92m let\u001b[0m\u001b[92m me\u001b[0m\u001b[92m check\u001b[0m\u001b[92m.\u001b[0m\u001b[92m The\u001b[0m\u001b[92m CDC\u001b[0m\u001b[92m guidelines\u001b[0m\u001b[92m for\u001b[0m\u001b[92m the\u001b[0m\u001b[92m treatment\u001b[0m\u001b[92m of\u001b[0m\u001b[92m uncomp\u001b[0m\u001b[92mlicated\u001b[0m\u001b[92m UT\u001b[0m\u001b[92mIs\u001b[0m\u001b[92m in\u001b[0m\u001b[92m.\u001b[0m\u001b[92m They\u001b[0m\u001b[92m recommend\u001b[0m\u001b[92m nit\u001b[0m\u001b[92mro\u001b[0m\u001b[92mfur\u001b[0m\u001b[92mant\u001b[0m\u001b[92moin\u001b[0m\u001b[92m,\u001b[0m\u001b[92m sulf\u001b[0m\u001b[92mam\u001b[0m\u001b[92meth\u001b[0m\u001b[92mox\u001b[0m\u001b[92mazole\u001b[0m\u001b[92m/\u001b[0m\u001b[92mtrim\u001b[0m\u001b[92meth\u001b[0m\u001b[92mop\u001b[0m\u001b[92mrim\u001b[0m\u001b[92m,\u001b[0m\u001b[92m or\u001b[0m\u001b[92m fos\u001b[0m\u001b[92mf\u001b[0m\u001b[92mom\u001b[0m\u001b[92mycin\u001b[0m\u001b[92m.\u001b[0m\u001b[92m In\u001b[0m\u001b[92m the\u001b[0m\u001b[92m third\u001b[0m\u001b[92m trimest\u001b[0m\u001b[92mer\u001b[0m\u001b[92m,\u001b[0m\u001b[92m nit\u001b[0m\u001b[92mro\u001b[0m\u001b[92mfur\u001b[0m\u001b[92mant\u001b[0m\u001b[92moin\u001b[0m\u001b[92m is\u001b[0m\u001b[92m avoided\u001b[0m\u001b[92m.\u001b[0m\u001b[92m \n",
      "\n",
      "\u001b[0m\u001b[92mSince\u001b[0m\u001b[92m this\u001b[0m\u001b[92m is\u001b[0m\u001b[92m \u001b[0m\u001b[92m2\u001b[0m\u001b[92m2\u001b[0m\u001b[92m weeks\u001b[0m\u001b[92m,\u001b[0m\u001b[92m nit\u001b[0m\u001b[92mro\u001b[0m\u001b[92mfur\u001b[0m\u001b[92mant\u001b[0m\u001b[92moin\u001b[0m\u001b[92m is\u001b[0m\u001b[92m.\u001b[0m\u001b[92m Therefore\u001b[0m\u001b[92m,\u001b[0m\u001b[92m E\u001b[0m\u001b[92m is\u001b[0m\u001b[92m the\u001b[0m\u001b[92m correct\u001b[0m\u001b[92m answer\u001b[0m\u001b[92m.\n",
      "\u001b[0m\u001b[0m\n",
      "\n",
      "\u001b[0m\u001b[0m###\u001b[0m\u001b[0m Clinical\u001b[0m\u001b[0m Reason\u001b[0m\u001b[0ming\u001b[0m\u001b[0m for\u001b[0m\u001b[0m the\u001b[0m\u001b[0m Best\u001b[0m\u001b[0m Treatment\u001b[0m\u001b[0m of\u001b[0m\u001b[0m a\u001b[0m\u001b[0m Pregn\u001b[0m\u001b[0mant\u001b[0m\u001b[0m Patient\u001b[0m\u001b[0m with\u001b[0m\u001b[0m Burning\u001b[0m\u001b[0m on\u001b[0m\u001b[0m Ur\u001b[0m\u001b[0mination\u001b[0m\u001b[0m\n",
      "\n",
      "\u001b[0m\u001b[0m---\n",
      "\n",
      "\u001b[0m\u001b[0m####\u001b[0m\u001b[0m **\u001b[0m\u001b[0m1\u001b[0m\u001b[0m.\u001b[0m\u001b[0m Diagnosis\u001b[0m\u001b[0m and\u001b[0m\u001b[0m Differential\u001b[0m\u001b[0m Consider\u001b[0m\u001b[0mations\u001b[0m\u001b[0m**\n",
      "\u001b[0m\u001b[0m-\u001b[0m\u001b[0m **\u001b[0m\u001b[0mSym\u001b[0m\u001b[0mptoms\u001b[0m\u001b[0m and\u001b[0m\u001b[0m Context\u001b[0m\u001b[0m**:\u001b[0m\u001b[0m The\u001b[0m\u001b[0m \u001b[0m\u001b[0m2\u001b[0m\u001b[0m3\u001b[0m\u001b[0m-year\u001b[0m\u001b[0m-old\u001b[0m\u001b[0m pregnant\u001b[0m\u001b[0m woman\u001b[0m\u001b[0m at\u001b[0m\u001b[0m \u001b[0m\u001b[0m2\u001b[0m\u001b[0m2\u001b[0m\u001b[0m weeks\u001b[0m\u001b[0m gest\u001b[0m\u001b[0mation\u001b[0m\u001b[0m presents\u001b[0m\u001b[0m with\u001b[0m\u001b[0m **\u001b[0m\u001b[0mburn\u001b[0m\u001b[0ming\u001b[0m\u001b[0m on\u001b[0m\u001b[0m ur\u001b[0m\u001b[0mination\u001b[0m\u001b[0m**\u001b[0m\u001b[0m (\u001b[0m\u001b[0md\u001b[0m\u001b[0mys\u001b[0m\u001b[0muria\u001b[0m\u001b[0m),\u001b[0m\u001b[0m a\u001b[0m\u001b[0m classic\u001b[0m\u001b[0m symptom\u001b[0m\u001b[0m of\u001b[0m\u001b[0m a\u001b[0m\u001b[0m **\u001b[0m\u001b[0mur\u001b[0m\u001b[0minary\u001b[0m\u001b[0m tract\u001b[0m\u001b[0m infection\u001b[0m\u001b[0m (\u001b[0m\u001b[0mUT\u001b[0m\u001b[0mI\u001b[0m\u001b[0m)**\u001b[0m\u001b[0m.\u001b[0m\u001b[0m No\u001b[0m\u001b[0m systemic\u001b[0m\u001b[0m symptoms\u001b[0m\u001b[0m (\u001b[0m\u001b[0me\u001b[0m\u001b[0m.g\u001b[0m\u001b[0m.,\u001b[0m\u001b[0m fever\u001b[0m\u001b[0m,\u001b[0m\u001b[0m flank\u001b[0m\u001b[0m pain\u001b[0m\u001b[0m)\u001b[0m\u001b[0m or\u001b[0m\u001b[0m cost\u001b[0m\u001b[0mover\u001b[0m\u001b[0mte\u001b[0m\u001b[0mbral\u001b[0m\u001b[0m angle\u001b[0m\u001b[0m tend\u001b[0m\u001b[0merness\u001b[0m\u001b[0m are\u001b[0m\u001b[0m present\u001b[0m\u001b[0m,\u001b[0m\u001b[0m suggesting\u001b[0m\u001b[0m a\u001b[0m\u001b[0m **\u001b[0m\u001b[0mlower\u001b[0m\u001b[0m UT\u001b[0m\u001b[0mI\u001b[0m\u001b[0m**\u001b[0m\u001b[0m (\u001b[0m\u001b[0me\u001b[0m\u001b[0m.g\u001b[0m\u001b[0m.,\u001b[0m\u001b[0m cyst\u001b[0m\u001b[0mitis\u001b[0m\u001b[0m)\u001b[0m\u001b[0m rather\u001b[0m\u001b[0m than\u001b[0m\u001b[0m an\u001b[0m\u001b[0m upper\u001b[0m\u001b[0m UT\u001b[0m\u001b[0mI\u001b[0m\u001b[0m (\u001b[0m\u001b[0me\u001b[0m\u001b[0m.g\u001b[0m\u001b[0m.,\u001b[0m\u001b[0m py\u001b[0m\u001b[0mel\u001b[0m\u001b[0mone\u001b[0m\u001b[0mph\u001b[0m\u001b[0mritis\u001b[0m\u001b[0m).\n",
      "\u001b[0m\u001b[0m-\u001b[0m\u001b[0m **\u001b[0m\u001b[0mKey\u001b[0m\u001b[0m Risk\u001b[0m\u001b[0m Factor\u001b[0m\u001b[0m**:\u001b[0m\u001b[0m Pregnancy\u001b[0m\u001b[0m increases\u001b[0m\u001b[0m the\u001b[0m\u001b[0m risk\u001b[0m\u001b[0m of\u001b[0m\u001b[0m UT\u001b[0m\u001b[0mIs\u001b[0m\u001b[0m due\u001b[0m\u001b[0m to\u001b[0m\u001b[0m anatom\u001b[0m\u001b[0mical\u001b[0m\u001b[0m and\u001b[0m\u001b[0m hormonal\u001b[0m\u001b[0m changes\u001b[0m\u001b[0m (\u001b[0m\u001b[0me\u001b[0m\u001b[0m.g\u001b[0m\u001b[0m.,\u001b[0m\u001b[0m ure\u001b[0m\u001b[0mter\u001b[0m\u001b[0mal\u001b[0m\u001b[0m dilation\u001b[0m\u001b[0m,\u001b[0m\u001b[0m decreased\u001b[0m\u001b[0m bladder\u001b[0m\u001b[0m empty\u001b[0m\u001b[0ming\u001b[0m\u001b[0m).\n",
      "\n",
      "\u001b[0m\u001b[0m---\n",
      "\n",
      "\u001b[0m\u001b[0m####\u001b[0m\u001b[0m **\u001b[0m\u001b[0m2\u001b[0m\u001b[0m.\u001b[0m\u001b[0m Treatment\u001b[0m\u001b[0m Consider\u001b[0m\u001b[0mations\u001b[0m\u001b[0m in\u001b[0m\u001b[0m Pregnancy\u001b[0m\u001b[0m**\n",
      "\u001b[0m\u001b[0m-\u001b[0m\u001b[0m **\u001b[0m\u001b[0mSafety\u001b[0m\u001b[0m of\u001b[0m\u001b[0m Antib\u001b[0m\u001b[0miotics\u001b[0m\u001b[0m**:\u001b[0m\u001b[0m Certain\u001b[0m\u001b[0m antibiotics\u001b[0m\u001b[0m are\u001b[0m\u001b[0m contr\u001b[0m\u001b[0main\u001b[0m\u001b[0md\u001b[0m\u001b[0micated\u001b[0m\u001b[0m in\u001b[0m\u001b[0m pregnancy\u001b[0m\u001b[0m due\u001b[0m\u001b[0m to\u001b[0m\u001b[0m fetal\u001b[0m\u001b[0m risks\u001b[0m\u001b[0m.\u001b[0m\u001b[0m The\u001b[0m\u001b[0m goal\u001b[0m\u001b[0m is\u001b[0m\u001b[0m to\u001b[0m\u001b[0m select\u001b[0m\u001b[0m a\u001b[0m\u001b[0m **\u001b[0m\u001b[0msafe\u001b[0m\u001b[0m and\u001b[0m\u001b[0m effective\u001b[0m\u001b[0m**\u001b[0m\u001b[0m agent\u001b[0m\u001b[0m for\u001b[0m\u001b[0m both\u001b[0m\u001b[0m the\u001b[0m\u001b[0m patient\u001b[0m\u001b[0m and\u001b[0m\u001b[0m the\u001b[0m\u001b[0m fetus\u001b[0m\u001b[0m.\n",
      "\u001b[0m\u001b[0m-\u001b[0m\u001b[0m **\u001b[0m\u001b[0mFirst\u001b[0m\u001b[0m-Line\u001b[0m\u001b[0m Options\u001b[0m\u001b[0m for\u001b[0m\u001b[0m Un\u001b[0m\u001b[0mcomp\u001b[0m\u001b[0mlicated\u001b[0m\u001b[0m UT\u001b[0m\u001b[0mIs\u001b[0m\u001b[0m in\u001b[0m\u001b[0m Pregnancy\u001b[0m\u001b[0m**\u001b[0m\u001b[0m:\n",
      "\u001b[0m\u001b[0m \u001b[0m\u001b[0m -\u001b[0m\u001b[0m **\u001b[0m\u001b[0mNit\u001b[0m\u001b[0mro\u001b[0m\u001b[0mfur\u001b[0m\u001b[0mant\u001b[0m\u001b[0moin\u001b[0m\u001b[0m**\u001b[0m\u001b[0m (\u001b[0m\u001b[0m2\u001b[0m\u001b[0m2\u001b[0m\u001b[0m weeks\u001b[0m\u001b[0m is\u001b[0m\u001b[0m in\u001b[0m\u001b[0m the\u001b[0m\u001b[0m **\u001b[0m\u001b[0msecond\u001b[0m\u001b[0m trimest\u001b[0m\u001b[0mer\u001b[0m\u001b[0m**,\u001b[0m\u001b[0m so\u001b[0m\u001b[0m it\u001b[0m\u001b[0m is\u001b[0m\u001b[0m safe\u001b[0m\u001b[0m).\n",
      "\u001b[0m\u001b[0m \u001b[0m\u001b[0m -\u001b[0m\u001b[0m **\u001b[0m\u001b[0mS\u001b[0m\u001b[0mulf\u001b[0m\u001b[0mam\u001b[0m\u001b[0meth\u001b[0m\u001b[0mox\u001b[0m\u001b[0mazole\u001b[0m\u001b[0m/\u001b[0m\u001b[0mtrim\u001b[0m\u001b[0meth\u001b[0m\u001b[0mop\u001b[0m\u001b[0mrim\u001b[0m\u001b[0m**\u001b[0m\u001b[0m (\u001b[0m\u001b[0mTMP\u001b[0m\u001b[0m/\u001b[0m\u001b[0mSM\u001b[0m\u001b[0mX\u001b[0m\u001b[0m)\u001b[0m\u001b[0m if\u001b[0m\u001b[0m resistance\u001b[0m\u001b[0m is\u001b[0m\u001b[0m low\u001b[0m\u001b[0m.\n",
      "\u001b[0m\u001b[0m \u001b[0m\u001b[0m -\u001b[0m\u001b[0m **\u001b[0m\u001b[0mC\u001b[0m\u001b[0mep\u001b[0m\u001b[0mhal\u001b[0m\u001b[0mos\u001b[0m\u001b[0mpor\u001b[0m\u001b[0mins\u001b[0m\u001b[0m**\u001b[0m\u001b[0m (\u001b[0m\u001b[0me\u001b[0m\u001b[0m.g\u001b[0m\u001b[0m.,\u001b[0m\u001b[0m c\u001b[0m\u001b[0mef\u001b[0m\u001b[0mtr\u001b[0m\u001b[0mia\u001b[0m\u001b[0mx\u001b[0m\u001b[0mone\u001b[0m\u001b[0m,\u001b[0m\u001b[0m c\u001b[0m\u001b[0meph\u001b[0m\u001b[0malex\u001b[0m\u001b[0min\u001b[0m\u001b[0m)\u001b[0m\u001b[0m for\u001b[0m\u001b[0m resistant\u001b[0m\u001b[0m infections\u001b[0m\u001b[0m or\u001b[0m\u001b[0m if\u001b[0m\u001b[0m nit\u001b[0m\u001b[0mro\u001b[0m\u001b[0mfur\u001b[0m\u001b[0mant\u001b[0m\u001b[0moin\u001b[0m\u001b[0m/T\u001b[0m\u001b[0mMP\u001b[0m\u001b[0m/\u001b[0m\u001b[0mSM\u001b[0m\u001b[0mX\u001b[0m\u001b[0m are\u001b[0m\u001b[0m not\u001b[0m\u001b[0m suitable\u001b[0m\u001b[0m.\n",
      "\n",
      "\u001b[0m\u001b[0m---\n",
      "\n",
      "\u001b[0m\u001b[0m####\u001b[0m\u001b[0m **\u001b[0m\u001b[0m3\u001b[0m\u001b[0m.\u001b[0m\u001b[0m Evaluation\u001b[0m\u001b[0m of\u001b[0m\u001b[0m Answer\u001b[0m\u001b[0m Choices\u001b[0m\u001b[0m**\n",
      "\u001b[0m\u001b[0m-\u001b[0m\u001b[0m **\u001b[0m\u001b[0mA\u001b[0m\u001b[0m:\u001b[0m\u001b[0m Amp\u001b[0m\u001b[0mic\u001b[0m\u001b[0millin\u001b[0m\u001b[0m**\u001b[0m\u001b[0m  \n",
      "\u001b[0m\u001b[0m \u001b[0m\u001b[0m -\u001b[0m\u001b[0m A\u001b[0m\u001b[0m pen\u001b[0m\u001b[0mic\u001b[0m\u001b[0millin\u001b[0m\u001b[0m,\u001b[0m\u001b[0m generally\u001b[0m\u001b[0m safe\u001b[0m\u001b[0m in\u001b[0m\u001b[0m pregnancy\u001b[0m\u001b[0m.\u001b[0m\u001b[0m However\u001b[0m\u001b[0m,\u001b[0m\u001b[0m it\u001b[0m\u001b[0m is\u001b[0m\u001b[0m not\u001b[0m\u001b[0m the\u001b[0m\u001b[0m **\u001b[0m\u001b[0mfirst\u001b[0m\u001b[0m-line\u001b[0m\u001b[0m**\u001b[0m\u001b[0m for\u001b[0m\u001b[0m uncomp\u001b[0m\u001b[0mlicated\u001b[0m\u001b[0m UT\u001b[0m\u001b[0mIs\u001b[0m\u001b[0m due\u001b[0m\u001b[0m to\u001b[0m\u001b[0m potential\u001b[0m\u001b[0m resistance\u001b[0m\u001b[0m and\u001b[0m\u001b[0m less\u001b[0m\u001b[0m efficacy\u001b[0m\u001b[0m compared\u001b[0m\u001b[0m to\u001b[0m\u001b[0m nit\u001b[0m\u001b[0mro\u001b[0m\u001b[0mfur\u001b[0m\u001b[0mant\u001b[0m\u001b[0moin\u001b[0m\u001b[0m.\n",
      "\u001b[0m\u001b[0m-\u001b[0m\u001b[0m **\u001b[0m\u001b[0mB\u001b[0m\u001b[0m:\u001b[0m\u001b[0m C\u001b[0m\u001b[0mef\u001b[0m\u001b[0mtr\u001b[0m\u001b[0mia\u001b[0m\u001b[0mx\u001b[0m\u001b[0mone\u001b[0m\u001b[0m**\u001b[0m\u001b[0m  \n",
      "\u001b[0m\u001b[0m \u001b[0m\u001b[0m -\u001b[0m\u001b[0m A\u001b[0m\u001b[0m third\u001b[0m\u001b[0m-generation\u001b[0m\u001b[0m cep\u001b[0m\u001b[0mhal\u001b[0m\u001b[0mos\u001b[0m\u001b[0mpor\u001b[0m\u001b[0min\u001b[0m\u001b[0m,\u001b[0m\u001b[0m safe\u001b[0m\u001b[0m in\u001b[0m\u001b[0m pregnancy\u001b[0m\u001b[0m.\u001b[0m\u001b[0m Reserved\u001b[0m\u001b[0m for\u001b[0m\u001b[0m more\u001b[0m\u001b[0m severe\u001b[0m\u001b[0m infections\u001b[0m\u001b[0m or\u001b[0m\u001b[0m when\u001b[0m\u001b[0m other\u001b[0m\u001b[0m agents\u001b[0m\u001b[0m are\u001b[0m\u001b[0m contr\u001b[0m\u001b[0main\u001b[0m\u001b[0md\u001b[0m\u001b[0micated\u001b[0m\u001b[0m.\u001b[0m\u001b[0m Not\u001b[0m\u001b[0m the\u001b[0m\u001b[0m best\u001b[0m\u001b[0m first\u001b[0m\u001b[0m-line\u001b[0m\u001b[0m choice\u001b[0m\u001b[0m for\u001b[0m\u001b[0m this\u001b[0m\u001b[0m uncomp\u001b[0m\u001b[0mlicated\u001b[0m\u001b[0m case\u001b[0m\u001b[0m.\n",
      "\u001b[0m\u001b[0m-\u001b[0m\u001b[0m **\u001b[0m\u001b[0mC\u001b[0m\u001b[0m:\u001b[0m\u001b[0m C\u001b[0m\u001b[0mipro\u001b[0m\u001b[0mf\u001b[0m\u001b[0mlox\u001b[0m\u001b[0macin\u001b[0m\u001b[0m**\u001b[0m\u001b[0m  \n",
      "\u001b[0m\u001b[0m \u001b[0m\u001b[0m -\u001b[0m\u001b[0m A\u001b[0m\u001b[0m flu\u001b[0m\u001b[0moro\u001b[0m\u001b[0mquin\u001b[0m\u001b[0mol\u001b[0m\u001b[0mone\u001b[0m\u001b[0m,\u001b[0m\u001b[0m **\u001b[0m\u001b[0mnot\u001b[0m\u001b[0m recommended\u001b[0m\u001b[0m**\u001b[0m\u001b[0m in\u001b[0m\u001b[0m pregnancy\u001b[0m\u001b[0m due\u001b[0m\u001b[0m to\u001b[0m\u001b[0m potential\u001b[0m\u001b[0m cart\u001b[0m\u001b[0milage\u001b[0m\u001b[0m damage\u001b[0m\u001b[0m in\u001b[0m\u001b[0m the\u001b[0m\u001b[0m fetus\u001b[0m\u001b[0m.\n",
      "\u001b[0m\u001b[0m-\u001b[0m\u001b[0m **\u001b[0m\u001b[0mD\u001b[0m\u001b[0m:\u001b[0m\u001b[0m Do\u001b[0m\u001b[0mx\u001b[0m\u001b[0myc\u001b[0m\u001b[0mycl\u001b[0m\u001b[0mine\u001b[0m\u001b[0m**\u001b[0m\u001b[0m  \n",
      "\u001b[0m\u001b[0m \u001b[0m\u001b[0m -\u001b[0m\u001b[0m A\u001b[0m\u001b[0m t\u001b[0m\u001b[0metr\u001b[0m\u001b[0macy\u001b[0m\u001b[0mcline\u001b[0m\u001b[0m,\u001b[0m\u001b[0m **\u001b[0m\u001b[0mcontr\u001b[0m\u001b[0main\u001b[0m\u001b[0md\u001b[0m\u001b[0micated\u001b[0m\u001b[0m**\u001b[0m\u001b[0m in\u001b[0m\u001b[0m pregnancy\u001b[0m\u001b[0m (\u001b[0m\u001b[0mespecially\u001b[0m\u001b[0m second\u001b[0m\u001b[0m and\u001b[0m\u001b[0m third\u001b[0m\u001b[0m trimest\u001b[0m\u001b[0mers\u001b[0m\u001b[0m)\u001b[0m\u001b[0m due\u001b[0m\u001b[0m to\u001b[0m\u001b[0m risk\u001b[0m\u001b[0m of\u001b[0m\u001b[0m fetal\u001b[0m\u001b[0m tooth\u001b[0m\u001b[0m disc\u001b[0m\u001b[0molor\u001b[0m\u001b[0mation\u001b[0m\u001b[0m.\n",
      "\u001b[0m\u001b[0m-\u001b[0m\u001b[0m **\u001b[0m\u001b[0mE\u001b[0m\u001b[0m:\u001b[0m\u001b[0m Nit\u001b[0m\u001b[0mro\u001b[0m\u001b[0mfur\u001b[0m\u001b[0mant\u001b[0m\u001b[0moin\u001b[0m\u001b[0m**\u001b[0m\u001b[0m  \n",
      "\u001b[0m\u001b[0m \u001b[0m\u001b[0m -\u001b[0m\u001b[0m A\u001b[0m\u001b[0m first\u001b[0m\u001b[0m-line\u001b[0m\u001b[0m agent\u001b[0m\u001b[0m for\u001b[0m\u001b[0m uncomp\u001b[0m\u001b[0mlicated\u001b[0m\u001b[0m UT\u001b[0m\u001b[0mIs\u001b[0m\u001b[0m in\u001b[0m\u001b[0m pregnancy\u001b[0m\u001b[0m.\u001b[0m\u001b[0m Safe\u001b[0m\u001b[0m in\u001b[0m\u001b[0m the\u001b[0m\u001b[0m **\u001b[0m\u001b[0msecond\u001b[0m\u001b[0m trimest\u001b[0m\u001b[0mer\u001b[0m\u001b[0m**\u001b[0m\u001b[0m and\u001b[0m\u001b[0m highly\u001b[0m\u001b[0m effective\u001b[0m\u001b[0m for\u001b[0m\u001b[0m lower\u001b[0m\u001b[0m UT\u001b[0m\u001b[0mIs\u001b[0m\u001b[0m.\u001b[0m\u001b[0m Avoid\u001b[0m\u001b[0med\u001b[0m\u001b[0m in\u001b[0m\u001b[0m the\u001b[0m\u001b[0m **\u001b[0m\u001b[0mthird\u001b[0m\u001b[0m trimest\u001b[0m\u001b[0mer\u001b[0m\u001b[0m**\u001b[0m\u001b[0m due\u001b[0m\u001b[0m to\u001b[0m\u001b[0m neon\u001b[0m\u001b[0matal\u001b[0m\u001b[0m hem\u001b[0m\u001b[0moly\u001b[0m\u001b[0mtic\u001b[0m\u001b[0m an\u001b[0m\u001b[0memia\u001b[0m\u001b[0m risk\u001b[0m\u001b[0m.\n",
      "\n",
      "\u001b[0m\u001b[0m---\n",
      "\n",
      "\u001b[0m\u001b[0m####\u001b[0m\u001b[0m **\u001b[0m\u001b[0m4\u001b[0m\u001b[0m.\u001b[0m\u001b[0m Conclusion\u001b[0m\u001b[0m**\n",
      "\u001b[0m\u001b[0mThe\u001b[0m\u001b[0m best\u001b[0m\u001b[0m treatment\u001b[0m\u001b[0m for\u001b[0m\u001b[0m this\u001b[0m\u001b[0m \u001b[0m\u001b[0m2\u001b[0m\u001b[0m2\u001b[0m\u001b[0m-week\u001b[0m\u001b[0m pregnant\u001b[0m\u001b[0m woman\u001b[0m\u001b[0m with\u001b[0m\u001b[0m symptoms\u001b[0m\u001b[0m of\u001b[0m\u001b[0m a\u001b[0m\u001b[0m lower\u001b[0m\u001b[0m UT\u001b[0m\u001b[0mI\u001b[0m\u001b[0m is\u001b[0m\u001b[0m **\u001b[0m\u001b[0mNit\u001b[0m\u001b[0mro\u001b[0m\u001b[0mfur\u001b[0m\u001b[0mant\u001b[0m\u001b[0moin\u001b[0m\u001b[0m (\u001b[0m\u001b[0mE\u001b[0m\u001b[0m)**\u001b[0m\u001b[0m.\u001b[0m\u001b[0m It\u001b[0m\u001b[0m is\u001b[0m\u001b[0m a\u001b[0m\u001b[0m safe\u001b[0m\u001b[0m,\u001b[0m\u001b[0m effective\u001b[0m\u001b[0m,\u001b[0m\u001b[0m and\u001b[0m\u001b[0m evidence\u001b[0m\u001b[0m-based\u001b[0m\u001b[0m choice\u001b[0m\u001b[0m for\u001b[0m\u001b[0m uncomp\u001b[0m\u001b[0mlicated\u001b[0m\u001b[0m cyst\u001b[0m\u001b[0mitis\u001b[0m\u001b[0m in\u001b[0m\u001b[0m the\u001b[0m\u001b[0m second\u001b[0m\u001b[0m trimest\u001b[0m\u001b[0mer\u001b[0m\u001b[0m of\u001b[0m\u001b[0m pregnancy\u001b[0m\u001b[0m.\u001b[0m"
     ]
    }
   ],
   "source": [
    "payload = {\n",
    "    \"model\": \"/opt/ml/model\",\n",
    "    \"messages\": [\n",
    "        {\"role\": \"system\", \"content\": system_prompt },\n",
    "        {\"role\": \"user\", \"content\": prompt1},\n",
    "    ],\n",
    "    \"max_tokens\": 8192,\n",
    "    \"temperature\": 0.7,\n",
    "    \"top_p\": 0.95,\n",
    "    \"top_k\": 20,\n",
    "    \"min_p\": 0.0,\n",
    "    \"presence_penalty\": 0.0,\n",
    "    \"stream\": True\n",
    "}\n",
    "\n",
    "for chunk in invoke_streaming_endpoint(payload):\n",
    "    handle_streaming_chunk(chunk)"
   ]
  },
  {
   "cell_type": "markdown",
   "id": "f2d04094-f350-4950-b73a-212301dda35c",
   "metadata": {},
   "source": [
    "#### Text Completion"
   ]
  },
  {
   "cell_type": "code",
   "execution_count": 17,
   "id": "a6046a1f-96cb-4f76-b796-cd4a661f53e6",
   "metadata": {
    "tags": []
   },
   "outputs": [
    {
     "name": "stdout",
     "output_type": "stream",
     "text": [
      "<think>\n",
      "Okay, the user is asking what to do if they have a fever and body aches. Let me start by recalling common causes. Fevers and body aches are usually from viral infections like the flu or a common cold. But they could also be, like strep throat or something else. First, I should outline the steps someone should take when they have these symptoms.\n",
      "\n",
      "They need to rest and stay hydrated. That's basic. Fluids help with fever and prevent dehydration. Maybe mention water, herbal teas,tes. Then, over-the-counter medications. Acetaminophen or ibuprofen can reduce fever and pain. I should check the dosages and any contraindications, like liver issues for acetaminophen.\n",
      "\n",
      "Next, symptoms. They should keep an eye on the fever's duration and temperature. If it's over 103°F or lasts more than a few days, they should see a doctor. Also, if there are other symptoms like chest pain, breathing, or confusion, that's a red flag. \n",
      "\n",
      "Self-care measures like cool compresses, rest, and a cool room might help. But I should advise against alcohol and caffeine, as they can dehydrate. They might also consider a humidifier for comfort, especially if there's a cough.\n",
      "\n",
      "When to seek medical attention is important. If symptoms are severe, not improving, or there are underlying conditions like diabetes or a weakened immune system. Also, if they're pregnant or very young, they should consult a doctor. \n",
      "\n",
      "D diagnosis: I need to mention that while most are viral, bacterial infections require antibiotics. But the user should not self-diagnose. They should get a professional opinion if unsure. \n",
      "\n",
      "Prevention: Encourage good hygiene, like handwashing and avoiding close contact. Maybe suggest a flu shot if applicable. \n",
      "\n",
      "Wait, I should make sure the information is up-to-date and evidence-based. Check for any recent guidelines. Also, avoid recommending specific brands of OTC meds, just the general types. \n",
      "\n",
      ": Summarize the key points, reinforcing rest, hydration, OTC meds, monitoring, and when to see a doctor. Emphasize that most cases are mild and self-limiting, but to seek help if symptoms worsen.\n",
      "</think>\n",
      "\n",
      "### Managing Fever and Body Aches: A Step-by-Step Guide\n",
      "\n",
      "#### 1. **Initial Self-Care Measures**\n",
      "   - **Rest and Hydration:** \n",
      "     - Prioritize rest to allow your body to recover. Dehydration can worsen symptoms, so drink plenty of fluids (water, herbal teas, or oral rehydration solutions).\n",
      "     - Avoid alcohol and caffeine, as they can to dehydration.\n",
      "   - **Cool:** \n",
      "     - Stay in a cool, well-ventilated room. A lukewarm bath or cool compress on the forehead can help lower body temperature.\n",
      "   - **Light Clothing:** \n",
      "     - Wear loose, breathable clothing to avoid trapping heat.\n",
      "\n",
      "#### 2. **Over-the-Counter (OTC) Medications**\n",
      "   - **Fever and Pain Relief:** \n",
      "     - Acetaminophen (Tylenol) or ibuprofen (Advil, Motrin) can reduce fever and alleviate body aches. Follow dosage instructions based on age and weight.\n",
      "     - Avoid aspirin in children or teenagers due to the risk of Reye’s syndrome.\n",
      "   - **Antihistamines (if applicable):** \n",
      "     - For nasal congestion or runny nose, consider OTC antihistamines (e.g., loratadine, cetirizine).\n",
      "\n",
      "#### 3. **Monitoring Symptoms**\n",
      "   - ** Check:** \n",
      "     - Monitor your regularly. A fever is defined as ≥100.4°F (38°C). Seek medical attention if it exceeds 104°F (40°C) or persists for more than 3 days.\n",
      "   - **Symptom Progression:** \n",
      "     - Watch for symptoms, such as difficulty breathing, chest pain,, or severe headache. These may indicate a more serious condition.\n",
      "\n",
      "#### 4. **When to Seek Medical Attention**\n",
      "   - **Urgent:** \n",
      "     - If symptoms include: \n",
      "       - High fever unresponsive to OTC. \n",
      "       - Severe headache, neck stiffness, or sensitivity to light (possible meningitis).\n",
      "       - vomiting or diarrhea (risk of).\n",
      "       - Difficulty breathing or chest pain.\n",
      "   - **Vulnerable Populations:** \n",
      "     - Children under 3 months with a fever, pregnant individuals, or those with chronic conditions (e.g., diabetes, immunosuppression) should consult a healthcare provider promptly.\n",
      "\n",
      "#### 5. **D Diagnosis and Red Flags**\n",
      "   - **Common Causes:** \n",
      "     - Viral (flu, common cold, COVID-19) are the most frequent causes of fever and body aches. Bacterial infections (e.g., strep throat, sinusitis) may also present similarly.\n",
      "   - **Red Flags for Serious Illness:** \n",
      "     - Rashes that do not blanch (e.g., meningococcal infection). \n",
      "     - Neurological symptoms (seizures, altered mental status).\n",
      "     - Severe muscle weakness or joint pain (e.g., dengue, Lyme disease in endemic areas).\n",
      "\n",
      "#### 6. **Prevention and Recovery**\n",
      "   - **Isolation and Hygiene:** \n",
      "     - If (e.g., flu, COVID-19), isolate to prevent spreading the illness. Practice frequent handwashing and avoid close contact.\n",
      "   - **Nutrition:** \n",
      "     - Consume bland, easy-to-digest foods (e.g., soups, toast) if appetite is reduced.\n",
      "   - **Vaccination:** \n",
      "     - Stay up-to-date with vaccines (e.g., flu, pneumococcal) to prevent recurrent infections.\n",
      "\n",
      "---\n",
      "\n",
      "### **Conclusion**  \n",
      "Fever and body aches are often caused by viral infections and resolve within 5–7 days with rest, hydration, and OTC. However, persistent or severe symptoms may indicate a more serious condition requiring medical evaluation. Always prioritize self-care, monitor symptoms closely, and seek professional help if concerned."
     ]
    }
   ],
   "source": [
    "payload = {\n",
    "    \"model\": \"/opt/ml/model\",\n",
    "    \"prompt\": f\"{system_prompt}\\n\\nUser: {prompt2}\\n\\nAssistant:\",\n",
    "    \"max_tokens\": 2048,\n",
    "    \"temperature\": 0.7,\n",
    "    \"top_p\": 0.95,\n",
    "    \"top_k\": 20,\n",
    "    \"min_p\": 0.0,\n",
    "    \"presence_penalty\":0.0,\n",
    "    \"stream\": True\n",
    "}\n",
    "\n",
    "for chunk in invoke_streaming_endpoint(payload):\n",
    "    handle_streaming_chunk(chunk)"
   ]
  },
  {
   "cell_type": "markdown",
   "id": "547960f3-6629-4c2d-a4d2-cdb26c9c61d0",
   "metadata": {},
   "source": [
    "Now that you have successfully performed a real-time inference, you do not need the endpoint any more. You can terminate the endpoint to avoid being charged."
   ]
  },
  {
   "cell_type": "code",
   "execution_count": 18,
   "id": "488631f8-c3be-4b30-aba4-75d83ee588a3",
   "metadata": {
    "tags": []
   },
   "outputs": [],
   "source": [
    "model.sagemaker_session.delete_endpoint(model_name)\n",
    "model.sagemaker_session.delete_endpoint_config(model_name)"
   ]
  },
  {
   "cell_type": "markdown",
   "id": "c0e98cc5-6ea8-41bf-a78f-dbe6771caf55",
   "metadata": {},
   "source": [
    "## 5. Batch inference"
   ]
  },
  {
   "cell_type": "code",
   "execution_count": 19,
   "id": "f7d163c0-a6c7-49c5-a4ea-27b83670eb7b",
   "metadata": {
    "tags": []
   },
   "outputs": [],
   "source": [
    "validation_json_file_name1 = \"input1.json\"\n",
    "\n",
    "validation_input_json_path = f\"s3://{s3_bucket}/{model_name}/validation-input/\"\n",
    "validation_output_json_path = f\"s3://{s3_bucket}/{model_name}/validation-output/\"\n",
    "\n",
    "\n",
    "def write_and_upload_to_s3(input_data, file_name):\n",
    "    s3_client.put_object(\n",
    "        Bucket=s3_bucket,\n",
    "        Key=f\"{model_name}/validation-input/{file_name}\",\n",
    "        Body=(bytes(input_data.encode(\"UTF-8\"))),\n",
    "    )"
   ]
  },
  {
   "cell_type": "code",
   "execution_count": 20,
   "id": "23904344-4a1e-4e90-942e-dc9e53827369",
   "metadata": {
    "tags": []
   },
   "outputs": [],
   "source": [
    "input_json_data1 = json.dumps(\n",
    "    {\n",
    "        \"model\": \"/opt/ml/model\",\n",
    "        \"prompt\": [f\"{system_prompt}\\n\\nUser: {prompt}\\n\\nAssistant:\" for prompt in prompts],\n",
    "        \"max_tokens\": 2048,\n",
    "        \"temperature\": 0.6,\n",
    "        \"top_p\": 0.95,\n",
    "        \"top_k\": 20,\n",
    "        \"min_p\": 0.0,\n",
    "        \"presence_penalty\":0.0,\n",
    "    }\n",
    ")\n",
    "\n",
    "write_and_upload_to_s3(input_json_data1, f\"{validation_json_file_name1}\")"
   ]
  },
  {
   "cell_type": "code",
   "execution_count": null,
   "id": "40a9b441-d1e5-4bbc-8571-005d880c6c46",
   "metadata": {
    "tags": []
   },
   "outputs": [],
   "source": [
    "transformer = model.transformer(\n",
    "    instance_count=1,\n",
    "    instance_type=batch_transform_inference_instance_type,\n",
    "    accept=\"application/json\",\n",
    "    output_path=validation_output_json_path,\n",
    ")\n",
    "transformer.transform(validation_input_json_path, content_type=\"application/json\")\n",
    "transformer.wait()"
   ]
  },
  {
   "cell_type": "code",
   "execution_count": null,
   "id": "142c53a9-2e64-4839-acbd-74bfbd7fc372",
   "metadata": {
    "tags": []
   },
   "outputs": [],
   "source": [
    "from urllib.parse import urlparse\n",
    "\n",
    "def retrieve_json_output_from_s3(validation_file_name):\n",
    "\n",
    "    parsed_url = urlparse(transformer.output_path)\n",
    "    file_key = f\"{parsed_url.path[1:]}{validation_file_name}.out\"\n",
    "    response = s3_client.get_object(Bucket=s3_bucket, Key=file_key)\n",
    "    result = json.loads(response[\"Body\"].read().decode(\"utf-8\"))\n",
    "    \n",
    "    for idx, choice in enumerate(result.get(\"choices\", [])):\n",
    "        print(f\"Response {idx + 1}:\\n{choice.get('text', '')}\\n{'=' * 75}\")"
   ]
  },
  {
   "cell_type": "code",
   "execution_count": 24,
   "id": "b781965a-3891-4ac3-a580-9e187b262d39",
   "metadata": {
    "tags": []
   },
   "outputs": [
    {
     "name": "stdout",
     "output_type": "stream",
     "text": [
      "Response 1:\n",
      "<think>\n",
      "Okay, the user is asking how to maintain good kidney health. Let me start by recalling the key factors that contribute to kidney health. First, staying hydrated is important. I should mention that water helps the kidneys function properly. But how much is enough? Maybe 2-3 liters a day, but adjust based on activity and climate.\n",
      "\n",
      "Next, diet. Sodium intake is a big one. High sodium can increase blood pressure, which affects the kidneys. So, advising to limit processed foods and added salt makes sense. Also, protein intake. Too much protein, especially from animal sources, can strain the kidneys. Maybe recommend a balanced protein intake and choosing plant-based sources.\n",
      "\n",
      "Blood pressure control is crucial. High blood pressure is a leading cause of kidney disease. So, monitoring and managing it through lifestyle changes and medication if needed. Mention exercise and a low-sodium diet again here.\n",
      "\n",
      "Blood sugar management, especially for diabetics. Diabetes is another leading cause of kidney damage. Controlling blood sugar levels through diet, exercise, and medication is key.\n",
      "\n",
      "Avoiding nephrotoxic substances. Over-the-counter medications like NSAIDs can harm the kidneys if used excessively. Warn against long-term use without a doctor's advice.\n",
      "\n",
      "Regular check-ups. Suggesting routine blood and urine tests to check for early signs of kidney issues. Creatinine and GFR tests, and urine albumin.\n",
      "\n",
      "Lifestyle factors: quitting smoking and limiting alcohol. Both can contribute to kidney damage. Also, exercise to help with blood pressure and overall health.\n",
      "\n",
      "Avoiding infections. Some infections, like UTIs, can spread to the kidneys. Emphasize prompt treatment of infections.\n",
      "\n",
      "Limiting protein and phosphorus for those with existing kidney issues. Maybe note that if someone has kidney disease, their diet should be adjusted accordingly.\n",
      "\n",
      "I need to structure this in a clear, organized way. Maybe start with general tips, then break down into sections like hydration, diet, blood pressure, etc. Use headings as the user requested. Also, make sure the information is evidence-based, so I should reference common medical guidelines. Check if there are any recent studies or changes in recommendations. But I think the main points are covered. Let me make sure I don't miss anything. Also, include a conclusion that summarizes the key points. Alright, that should cover it.\n",
      "</think>\n",
      "\n",
      "# Maintaining Good Kidney Health: A Comprehensive Guide\n",
      "\n",
      "## 1. **Hydration and Fluid Intake**\n",
      "   - **Stay Adequately Hydrated**: Drink 2–3 liters of water daily, adjusting for climate, activity level, and health conditions. Proper hydration helps the kidneys filter waste and maintain fluid balance.\n",
      "   - **Avoid Excessive Caffeine and Alcohol**: These can dehydrate the body and strain kidney function. Limit intake to moderate levels (1–2 cups of coffee/day; 1 drink/day for women, 2 for men).\n",
      "\n",
      "## 2. **Dietary Management**\n",
      "   - **Limit Sodium Intake**: Restrict daily sodium to ≤2,300 mg (ideally 1,500 mg for high-risk individuals). Avoid processed foods, canned soups, and added salt to reduce blood pressure and kidney strain.\n",
      "   - **Balance Protein Intake**: Consume 0.8–1.0 g of protein per kg of body weight. Excessive protein (especially animal-based) can overwork the kidneys. Opt for plant-based sources (e.g., legumes) when possible.\n",
      "   - **Monitor Potassium and Phosphorus**: For those with kidney disease, limit high-potassium (e.g., bananas, potatoes) and high-phosphorus (e.g., dairy, nuts) foods to prevent mineral imbalances.\n",
      "\n",
      "## 3. **Blood Pressure and Blood Sugar Control**\n",
      "   - **Maintain Healthy Blood Pressure**: Aim for <120/80 mmHg. Uncontrolled hypertension is a leading cause of kidney damage. Use lifestyle changes (exercise, diet) and medications if prescribed.\n",
      "   - **Manage Diabetes**: Keep blood sugar levels within target ranges (HbA1c <7% for most adults). Diabetes is the most common cause of chronic kidney disease (CKD).\n",
      "\n",
      "## 4. **Avoid Nephrotoxic Substances**\n",
      "   - **Limit NSAID Use**: Avoid overuse of nonsteroidal anti-inflammatory drugs (e.g., ibuprofen, naproxen), which can impair kidney function, especially in older adults or those with pre-existing kidney issues.\n",
      "   - **Avoid Tobacco and Alcohol**: Smoking reduces blood flow to the kidneys, while excessive alcohol can raise blood pressure and contribute to kidney damage.\n",
      "\n",
      "## 5. **Regular Health Monitoring**\n",
      "   - **Screen for Early Signs**: Have annual kidney function tests, including:\n",
      "     - **Serum Creatinine and eGFR** (to assess filtration rate).\n",
      "     - **Urine Albumin-to-Creatinine Ratio** (to detect protein leakage, an early sign of damage).\n",
      "   - **Monitor for Infections**: Promptly treat urinary tract infections (UTIs) to prevent kidney infections (pyelonephritis).\n",
      "\n",
      "## 6. **Lifestyle and Physical Activity**\n",
      "   - **Exercise Regularly**: Aim for 150 minutes/week of moderate-intensity activity (e.g., brisk walking) to support cardiovascular and kidney health.\n",
      "   - **Maintain a Healthy Weight**: Obesity increases risks of hypertension, diabetes, and CKD. Aim for a BMI of 18.5–24.9.\n",
      "\n",
      "## 7. **Avoid Risky Behaviors and Environmental Toxins**\n",
      "   - **Prevent Dehydration in Extreme Conditions**: In hot climates or during intense exercise, replenish fluids to avoid kidney stress.\n",
      "   - **Avoid Illicit Drugs and Excessive Medications**: These can directly harm kidney function.\n",
      "\n",
      "---\n",
      "\n",
      "## **Conclusion**\n",
      "Maintaining kidney health requires a holistic approach, combining proper hydration, a balanced diet, blood pressure/sugar control, and regular monitoring. By adopting these evidence-based strategies, individuals can significantly reduce the risk of kidney disease and support long-term renal function. Early detection through routine check-ups is critical for preventing irreversible damage.\n",
      "===========================================================================\n",
      "Response 2:\n",
      "<think>\n",
      "Okay, the user is asking about the symptoms of high blood pressure. Let me start by recalling what I know. High blood pressure, or hypertension, is often called the \"silent killer\" because many people don't experience symptoms. But I need to make sure I'm accurate here.\n",
      "\n",
      "First, I should check the common symptoms. Headaches are a classic one, but they can be caused by many things. Dizziness or lightheadedness might also occur. I remember reading that blurred vision can be a symptom, though it's not common. Chest pain or palpitations could be related, but those might also indicate other heart issues. Shortness of breath, especially if the heart is working harder, is another possibility. Fatigue is another one I've heard about, but again, it's non-specific.\n",
      "\n",
      "Now, what about severe or malignant hypertension? In those cases, there might be more intense symptoms like severe headaches, confusion, or even nosebleeds. These are more concerning and require immediate attention. Also, if there's organ damage, like in the kidneys or eyes, there could be specific symptoms like blood in the urine or vision changes.\n",
      "\n",
      "I should also mention that most people with hypertension don't have symptoms, which is why regular check-ups are important. It's crucial to differentiate between regular hypertension and hypertensive crises. The latter is a medical emergency and needs urgent care.\n",
      "\n",
      "Wait, I need to make sure I'm not missing any key points. Maybe include that symptoms can vary and that some people might not have any at all. Also, the importance of monitoring blood pressure regularly, especially for those at risk. I should structure the answer with clear sections, like common symptoms, severe symptoms, and the silent nature of hypertension. Conclude by emphasizing the need for regular check-ups and management.\n",
      "</think>\n",
      "\n",
      "### Symptoms of High Blood Pressure (Hypertension)\n",
      "\n",
      "High blood pressure, or hypertension, is often asymptomatic, which is why it is sometimes called the \"silent killer.\" However, when symptoms do occur, they may include the following:\n",
      "\n",
      "---\n",
      "\n",
      "#### **1. Common Symptoms (Mild to Moderate Hypertension)**\n",
      "- **Headaches**: Occasional, non-specific headaches, though not always present.\n",
      "- **Dizziness or Lightheadedness**: Feeling unsteady or faint, especially with sudden changes in posture.\n",
      "- **Shortness of Breath**: Difficulty breathing, particularly during physical activity.\n",
      "- **Fatigue or Tiredness**: Unexplained exhaustion or low energy levels.\n",
      "- **Chest Pain or Palpitations**: Awareness of a racing, pounding, or irregular heartbeat.\n",
      "- **Blurred Vision**: Occasional visual disturbances, though less common.\n",
      "\n",
      "---\n",
      "\n",
      "#### **2. Severe Symptoms (Hypertensive Crisis)**\n",
      "A hypertensive crisis (systolic blood pressure ≥180 mmHg or diastolic ≥120 mmHg) can cause more intense symptoms and requires immediate medical attention:\n",
      "- **Severe Headache**: Intense, throbbing pain, often described as \"the worst headache of my life.\"\n",
      "- **Confusion or Difficulty Concentrating**: Mental fogginess or trouble focusing.\n",
      "- **Nausea or Vomiting**: Gastrointestinal distress.\n",
      "- **Nosebleeds**: Sudden, unexplained bleeding from the nose.\n",
      "- **Chest Pain or Pressure**: Indicates potential cardiac strain or complications.\n",
      "- **Shortness of Breath or Difficulty Breathing**: Suggests heart or lung involvement.\n",
      "- **Seizures or Loss of Consciousness**: Rare but life-threatening in extreme cases.\n",
      "\n",
      "---\n",
      "\n",
      "#### **3. Organ-Specific Symptoms (Long-Term Effects)**\n",
      "Chronic hypertension can damage organs, leading to:\n",
      "- **Kidney Damage**: Blood in urine, frequent urination, or swelling (edema).\n",
      "- **Eye Damage**: Vision changes, retinal hemorrhage, or blurred vision.\n",
      "- **Heart Complications**: Chest pain (angina), arrhythmias, or heart failure.\n",
      "\n",
      "---\n",
      "\n",
      "### **Key Considerations**\n",
      "- **Asymptomatic Nature**: Most individuals with hypertension do not experience symptoms until complications arise.\n",
      "- **Risk Factors**: Regular blood pressure monitoring is critical for those with risk factors (e.g., family history, obesity, smoking, or diabetes).\n",
      "- **Hypertensive Crisis**: Symptoms of a hypertensive crisis are medical emergencies requiring immediate treatment.\n",
      "\n",
      "---\n",
      "\n",
      "### **Conclusion**\n",
      "While many people with high blood pressure remain symptom-free, recognizing potential signs—especially in severe cases—is vital for timely intervention. Regular blood pressure checks and lifestyle modifications (e.g., diet, exercise, stress management) are essential for prevention and management. If severe symptoms occur, seek emergency medical care.\n",
      "===========================================================================\n"
     ]
    }
   ],
   "source": [
    "retrieve_json_output_from_s3(validation_json_file_name1)"
   ]
  },
  {
   "cell_type": "markdown",
   "id": "f8e8f682-16a0-4a84-89e6-b5f4f0de3521",
   "metadata": {},
   "source": [
    "Congratulations! You just verified that the batch transform job is working as expected. Since the model is not required, you can delete it. Note that you are deleting the deployable model. Not the model package."
   ]
  },
  {
   "cell_type": "code",
   "execution_count": null,
   "id": "22a8df79-ad3b-4e85-a054-24931c15f3a3",
   "metadata": {
    "tags": []
   },
   "outputs": [],
   "source": [
    "model.delete_model()"
   ]
  },
  {
   "cell_type": "markdown",
   "id": "37215a51-bf01-4cf0-832a-c7f85a8a06c3",
   "metadata": {},
   "source": [
    "### Unsubscribe to the listing (optional)"
   ]
  },
  {
   "cell_type": "markdown",
   "id": "53cddd4d-4b27-4a94-95b8-5e027e6cd9cd",
   "metadata": {},
   "source": [
    "If you would like to unsubscribe to the model package, follow these steps. Before you cancel the subscription, ensure that you do not have any [deployable model](https://console.aws.amazon.com/sagemaker/home#/models) created from the model package or using the algorithm. Note - You can find this information by looking at the container name associated with the model. \n",
    "\n",
    "**Steps to unsubscribe to product from AWS Marketplace**:\n",
    "1. Navigate to __Machine Learning__ tab on [__Your Software subscriptions page__](https://aws.amazon.com/marketplace/ai/library?productType=ml&ref_=mlmp_gitdemo_indust)\n",
    "2. Locate the listing that you want to cancel the subscription for, and then choose __Cancel Subscription__  to cancel the subscription.\n",
    "\n"
   ]
  }
 ],
 "metadata": {
  "kernelspec": {
   "display_name": "conda_python3",
   "language": "python",
   "name": "conda_python3"
  },
  "language_info": {
   "codemirror_mode": {
    "name": "ipython",
    "version": 3
   },
   "file_extension": ".py",
   "mimetype": "text/x-python",
   "name": "python",
   "nbconvert_exporter": "python",
   "pygments_lexer": "ipython3",
   "version": "3.10.18"
  }
 },
 "nbformat": 4,
 "nbformat_minor": 5
}

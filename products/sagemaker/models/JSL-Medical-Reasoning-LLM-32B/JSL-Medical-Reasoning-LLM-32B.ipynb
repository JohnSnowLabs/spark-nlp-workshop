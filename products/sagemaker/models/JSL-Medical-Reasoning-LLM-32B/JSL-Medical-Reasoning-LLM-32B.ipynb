{
 "cells": [
  {
   "cell_type": "markdown",
   "id": "82a4cf96-c239-49cc-88f9-a8e885bde191",
   "metadata": {},
   "source": [
    "## 1. Subscribe to the model package"
   ]
  },
  {
   "cell_type": "markdown",
   "id": "982d6ab4-d03d-4a5a-ab23-144d8e6ec3d6",
   "metadata": {},
   "source": [
    "To subscribe to the model package:\n",
    "1. Open the model package listing page [Medical Reasoning LLM - 32B](https://aws.amazon.com/marketplace/pp/prodview-x5bfvnroddgfe)\n",
    "1. On the AWS Marketplace listing, click on the **Continue to subscribe** button.\n",
    "1. On the **Subscribe to this software** page, review and click on **\"Accept Offer\"** if you and your organization agrees with EULA, pricing, and support terms. \n",
    "1. Once you click on **Continue to configuration button** and then choose a **region**, you will see a **Product Arn** displayed. This is the model package ARN that you need to specify while creating a deployable model using Boto3. Copy the ARN corresponding to your region and specify the same in the following cell."
   ]
  },
  {
   "cell_type": "markdown",
   "id": "dad4b722-a125-4219-9c22-009acf75414d",
   "metadata": {},
   "source": [
    "- **Model**: `JSL-Medical-Reasoning-LLM-32B`  \n",
    "- **Model Description**: Clinical reasoning LLM designed to support complex diagnostic and treatment decisions by simulating structured clinical thought processes, evaluating multiple hypotheses, assessing medical evidence, and delivering transparent, guideline-aligned recommendations."
   ]
  },
  {
   "cell_type": "code",
   "execution_count": null,
   "id": "9d1fb27b-e0ad-4759-937d-ae4edc209fc1",
   "metadata": {
    "tags": []
   },
   "outputs": [],
   "source": [
    "model_package_arn = \"<Customer to specify Model package ARN corresponding to their AWS region>\""
   ]
  },
  {
   "cell_type": "code",
   "execution_count": null,
   "id": "76ede1bf-2acb-4b5d-9db1-299abfeee20b",
   "metadata": {
    "tags": []
   },
   "outputs": [],
   "source": [
    "import os\n",
    "import base64\n",
    "import json\n",
    "import uuid\n",
    "from sagemaker import ModelPackage\n",
    "import sagemaker as sage\n",
    "from sagemaker import get_execution_role\n",
    "import boto3\n",
    "from IPython.display import Image, display\n",
    "from PIL import Image as ImageEdit\n",
    "import numpy as np\n",
    "import pandas as pd\n",
    "\n",
    "pd.set_option('display.max_rows', None)\n",
    "pd.set_option('display.max_columns', None)\n",
    "pd.set_option('display.max_colwidth', None)\n",
    "\n",
    "sagemaker_session = sage.Session()\n",
    "s3_bucket = sagemaker_session.default_bucket()\n",
    "region = sagemaker_session.boto_region_name\n",
    "account_id = boto3.client(\"sts\").get_caller_identity().get(\"Account\")\n",
    "role = get_execution_role()\n",
    "\n",
    "sagemaker = boto3.client(\"sagemaker\")\n",
    "s3_client = sagemaker_session.boto_session.client(\"s3\")\n",
    "ecr = boto3.client(\"ecr\")\n",
    "sm_runtime = boto3.client(\"sagemaker-runtime\")"
   ]
  },
  {
   "cell_type": "code",
   "execution_count": 3,
   "id": "07846ed0-ed90-4a11-a77c-00d1c3ca3cbd",
   "metadata": {
    "tags": []
   },
   "outputs": [],
   "source": [
    "model_name = \"JSL-Medical-Reasoning-LLM-32B\"\n",
    "\n",
    "real_time_inference_instance_type = \"ml.g5.48xlarge\"\n",
    "batch_transform_inference_instance_type = \"ml.g5.48xlarge\""
   ]
  },
  {
   "cell_type": "markdown",
   "id": "08a626b7-f295-4c49-b856-ce237d5d3203",
   "metadata": {},
   "source": [
    "## 2. Create a deployable model from the model package."
   ]
  },
  {
   "cell_type": "code",
   "execution_count": 4,
   "id": "0e39b84b-7a9f-4004-a204-56af1fd555f1",
   "metadata": {
    "tags": []
   },
   "outputs": [],
   "source": [
    "model = ModelPackage(\n",
    "    role=role, \n",
    "    model_package_arn=model_package_arn, \n",
    "    sagemaker_session=sagemaker_session, \n",
    ")"
   ]
  },
  {
   "cell_type": "markdown",
   "id": "9e3a3a54-98d8-4a8a-b812-c33db9a2aa7d",
   "metadata": {},
   "source": [
    "## Model Configuration Documentation  \n",
    "\n",
    "### Default Configuration  \n",
    "The container comes with the following default configurations:  \n",
    "\n",
    "| Parameter                  | Default Value | Description                                                                   |  \n",
    "|----------------------------|---------------|-------------------------------------------------------------------------------|  \n",
    "| **`dtype`**                | `float16`     | Data type for model weights and activations                                   |  \n",
    "| **`max_model_len`**        | `32,768`      | Default maximum context length (`input + output ≤ max_model_len`). Automatically increases to `131,072` if GPU memory ≥ 240GB |  \n",
    "| **`tensor_parallel_size`** | Auto          | Automatically set to the number of available GPUs                            |  \n",
    "| **`host`**                 | `0.0.0.0`     | Host name                                                                     |  \n",
    "| **`port`**                 | `8080`        | Port number                                                                   |  \n",
    "\n",
    "### Hardcoded Settings  \n",
    "The following settings are hardcoded in the container and cannot be changed:  \n",
    "\n",
    "| Parameter       | Value           | Description                           |  \n",
    "|-----------------|-----------------|---------------------------------------|  \n",
    "| **`model`**     | `/opt/ml/model` | Model path where SageMaker mounts the model |  \n",
    "\n",
    "### Configurable Environment Variables  \n",
    "You can customize the vLLM server by setting environment variables when creating the model.  \n",
    "\n",
    "**Any parameter from the [vLLM documentation](https://docs.vllm.ai/en/latest/serving/openai_compatible_server.html#vllm-serve) can be set using the corresponding environment variable with the `SM_VLLM_` prefix.**  \n",
    "\n",
    "The container uses a script similar to the [SageMaker entrypoint example](https://docs.vllm.ai/en/latest/examples/sagemaker_entrypoint.html) from the vLLM documentation to convert environment variables to command-line arguments.  \n",
    "\n",
    "---  \n",
    "\n",
    "## Input Format  \n",
    "\n",
    "### 1. Chat Completion  \n",
    "\n",
    "#### Example Payload  \n",
    "```json  \n",
    "{  \n",
    "    \"model\": \"/opt/ml/model\",  \n",
    "    \"messages\": [  \n",
    "        {\"role\": \"system\", \"content\": \"You are a helpful medical assistant.\"},  \n",
    "        {\"role\": \"user\", \"content\": \"What should I do if I have a fever and body aches?\"}  \n",
    "    ],  \n",
    "    \"max_tokens\": 1024,  \n",
    "    \"temperature\": 0.7  \n",
    "}  \n",
    "```  \n",
    "\n",
    "For additional parameters:  \n",
    "- [ChatCompletionRequest](https://github.com/vllm-project/vllm/blob/v0.7.3/vllm/entrypoints/openai/protocol.py#L212)  \n",
    "- [OpenAI's Chat API](https://platform.openai.com/docs/api-reference/chat/create)  \n",
    "\n",
    "---  \n",
    "\n",
    "### 2. Text Completion  \n",
    "\n",
    "#### Single Prompt Example  \n",
    "```json  \n",
    "{  \n",
    "    \"model\": \"/opt/ml/model\",  \n",
    "    \"prompt\": \"How can I maintain good kidney health?\",  \n",
    "    \"max_tokens\": 512,  \n",
    "    \"temperature\": 0.6  \n",
    "}  \n",
    "```  \n",
    "\n",
    "#### Multiple Prompts Example  \n",
    "```json  \n",
    "{  \n",
    "    \"model\": \"/opt/ml/model\",  \n",
    "    \"prompt\": [  \n",
    "        \"How can I maintain good kidney health?\",  \n",
    "        \"What are the best practices for kidney care?\"  \n",
    "    ],  \n",
    "    \"max_tokens\": 512,  \n",
    "    \"temperature\": 0.6  \n",
    "}  \n",
    "```  \n",
    "\n",
    "Reference:  \n",
    "- [CompletionRequest](https://github.com/vllm-project/vllm/blob/v0.7.3/vllm/entrypoints/openai/protocol.py#L642)  \n",
    "- [OpenAI's Completions API](https://platform.openai.com/docs/api-reference/completions/create)  \n",
    "\n",
    "---  \n",
    "\n",
    "### Important Notes:\n",
    "- **Streaming Responses:** Add `\"stream\": true` to your request payload to enable streaming\n",
    "- **Model Path Requirement:** Always set `\"model\": \"/opt/ml/model\"` (SageMaker's fixed model location)\n"
   ]
  },
  {
   "cell_type": "markdown",
   "id": "6a846275-5af5-4679-9c52-d35ab157455b",
   "metadata": {},
   "source": [
    "## 3. Create an SageMaker Endpoint"
   ]
  },
  {
   "cell_type": "markdown",
   "id": "01b670fa-60d4-45a4-a0d6-3e8e2845b625",
   "metadata": {},
   "source": [
    "If you want to understand how real-time inference with Amazon SageMaker works, see [Documentation](https://docs.aws.amazon.com/sagemaker/latest/dg/how-it-works-hosting.html)."
   ]
  },
  {
   "cell_type": "code",
   "execution_count": null,
   "id": "8c19c0c0-3ead-4834-8c02-a192da19080b",
   "metadata": {
    "tags": []
   },
   "outputs": [],
   "source": [
    "predictor = model.deploy(\n",
    "    initial_instance_count=1,\n",
    "    instance_type=real_time_inference_instance_type, \n",
    "    endpoint_name=model_name,\n",
    "    model_data_download_timeout=3600\n",
    ")"
   ]
  },
  {
   "cell_type": "markdown",
   "id": "23d5c01b-b884-49c6-8b74-98911f6d8e5b",
   "metadata": {},
   "source": [
    "### 3.1 Real-time inference via Amazon SageMaker Endpoint"
   ]
  },
  {
   "cell_type": "markdown",
   "id": "07f13be5-3f3b-45db-829d-b99d4584913f",
   "metadata": {},
   "source": [
    "#### Initial setup"
   ]
  },
  {
   "cell_type": "code",
   "execution_count": 6,
   "id": "7b61fa7d-8d76-476f-91e2-8fea89e7dfa5",
   "metadata": {
    "tags": []
   },
   "outputs": [],
   "source": [
    "prompt1 = \"How do emerging mRNA technologies compare to traditional vaccine approaches for disease prevention?\"\n",
    "\n",
    "prompt2 = \"\"\"Patients with xeroderma pigmentosum develop skin cancer when they are exposed to sunlight because they have a deficiency in:\n",
    "\n",
    "A. An enzyme essential to repair mismatched bases.\n",
    "B. UV specific endonuclease.\n",
    "C. DNA polymerase I.\n",
    "D. DNA polymerase III.\n",
    "E. Glycosylase that removes uracil bases from DNA.\"\"\"\n",
    "\n",
    "prompts = [\n",
    "    \"What are the early warning signs of stroke and what should I do if I suspect someone is having one?\",\n",
    "    \"How do different classes of antidepressants work and what factors determine which medication might be prescribed?\",\n",
    "    \"What is the relationship between inflammation, autoimmune conditions, and chronic disease progression?\"\n",
    "]"
   ]
  },
  {
   "cell_type": "code",
   "execution_count": 7,
   "id": "bca8d319-02a4-44ad-b90c-216185f3098c",
   "metadata": {
    "tags": []
   },
   "outputs": [],
   "source": [
    "system_prompt = \"\"\"You are a medical expert that reviews the problem, does reasoning, and then gives a final answer.\n",
    "Strictly follow this exact format for giving your output:\n",
    "\n",
    "<think>\n",
    "reasoning steps\n",
    "</think>\n",
    "\n",
    "**Final Answer**: [Conclusive Answer]\"\"\""
   ]
  },
  {
   "cell_type": "code",
   "execution_count": 8,
   "id": "5c195a50-43e4-4341-ad1d-23ca6f0aa45b",
   "metadata": {
    "tags": []
   },
   "outputs": [],
   "source": [
    "def invoke_realtime_endpoint(record):\n",
    "\n",
    "    response = sm_runtime.invoke_endpoint(\n",
    "        EndpointName=model_name,\n",
    "        ContentType=\"application/json\",\n",
    "        Accept=\"application/json\",\n",
    "        Body=json.dumps(record),\n",
    "    )\n",
    "\n",
    "    return json.load(response[\"Body\"])"
   ]
  },
  {
   "cell_type": "markdown",
   "id": "e9a475e7-ad31-4b3b-b7b5-21310f541252",
   "metadata": {
    "tags": []
   },
   "source": [
    "#### Chat Completion"
   ]
  },
  {
   "cell_type": "code",
   "execution_count": 9,
   "id": "c22cf887-70d5-4a87-8476-988590228328",
   "metadata": {
    "tags": []
   },
   "outputs": [
    {
     "name": "stdout",
     "output_type": "stream",
     "text": [
      "Okay, so I need to figure out how emerging mRNA technologies compare to traditional vaccines. Let me start by recalling what I know about vaccines in general. Traditional vaccines usually use a part of the pathogen, like proteins or inactivated viruses, to teach the immune system to recognize and fight off the real thing. Examples are things like the flu shot or the polio vaccine. These have been around for a long time and are proven to work.\n",
      "\n",
      "Now, mRNA vaccines are newer. I know that the Pfizer and Moderna vaccines for COVID-19 are mRNA-based. From what I remember, instead of introducing a part of the pathogen, mRNA vaccines give the body instructions (via mRNA) to produce a piece of the virus itself, like the spike protein in the case of SARS-CoV-2. The immune system then reacts to that protein, creating an immune response without the risk of infection because the mRNA doesn't enter the cell nucleus, so it doesn't affect DNA.\n",
      "\n",
      "Alright, so comparing the two, maybe the first point is how they work. Traditional vaccines introduce antigens directly, while mRNA tells the body to make them. That difference might have implications for safety and efficacy. Since mRNA doesn't have live pathogens, it should be safer for people with weakened immune systems or allergies, right? Traditional vaccines might have more side effects because they contain actual virus parts.\n",
      "\n",
      "Next, development time. I think mRNA vaccines can be developed faster because you don't need to grow the virus in labs or inactivate it. For example, during the pandemic, the mRNA vaccines were developed much quicker than traditional ones. That's a big advantage for rapidly emerging diseases or outbreaks.\n",
      "\n",
      "Then there's the production scalability. Once the mRNA sequence is figured out, it's easier to scale up production compared to traditional methods which might require growing viruses or bacteria, which can be more resource-intensive and take longer. This could mean mRNA vaccines can be produced in larger quantities faster.\n",
      "\n",
      "Cost is another factor. I'm not entirely sure, but maybe mRNA vaccines are more expensive to produce initially because of the need for special delivery systems like lipid nanoparticles. Traditional vaccines might be cheaper to mass-produce once the setup is in place, but the development costs could be lower for mRNA in the long run.\n",
      "\n",
      "Effectiveness might be similar for both, but mRNA vaccines might have an edge in how they stimulate the immune system, especially with T-cell responses, which could provide longer-lasting immunity. But traditional vaccines have a long track record of effectiveness, so that's a strong point for them.\n",
      "\n",
      "Storage and distribution are also important. I remember that mRNA vaccines require ultra-cold storage, which is a challenge in some parts of the world. Traditional vaccines might have more flexible storage requirements, making them easier to distribute in areas without advanced infrastructure.\n",
      "\n",
      "There's also the aspect of customization and adaptability. With mRNA, it's easier to modify the sequence for new virus variants or even different diseases, which is useful for rapidly evolving pathogens like influenza or coronaviruses. Traditional vaccines might need more time and resources to update for new strains.\n",
      "\n",
      "Potential side effects could be different too. Since mRNA doesn't use live pathogens, the side effects might be less severe, though there can still be local reactions or allergic responses. Traditional vaccines might have more varied side effects depending on the components used, like adjuvants or preservatives.\n",
      "\n",
      "Lastly, there's the regulatory and approval process. mRNA is a newer technology, so there might be more stringent regulations and longer approval processes initially, but as it becomes more established, that might change. Traditional vaccines have well-established regulatory pathways which can be quicker for approvals once the research is done.\n",
      "\n",
      "Putting all this together, mRNA vaccines offer faster development, easier scalability, and potential for more adaptable and effective immune responses, but they have challenges with storage and initial production costs. Traditional vaccines are tried and true, with proven safety and effectiveness, but they might be slower to develop and less adaptable to rapidly changing pathogens.\n",
      "\n",
      "I should double-check some points. For example, the immune response aspect: mRNA vaccines do trigger both B-cell and T-cell responses, which can be beneficial. Traditional vaccines, especially inactivated ones, might primarily stimulate B-cell responses, which produce antibodies. Live attenuated vaccines can induce T-cell responses, but they have safety considerations for immunocompromised individuals.\n",
      "\n",
      "Also, regarding storage, while some traditional vaccines need refrigeration, many don't require ultra-cold storage like mRNA vaccines. That makes a big difference in distribution logistics, especially in low-resource settings.\n",
      "\n",
      "In terms of side effects, mRNA vaccines can cause more systemic reactions like fever or fatigue, but they don't carry the risk of infection, unlike live attenuated vaccines. That's a significant safety advantage.\n",
      "\n",
      "I think that covers most of the key points. To summarize, mRNA vaccines have advantages in speed, scalability, and adaptability, especially for new pathogens, while traditional vaccines offer established safety profiles and easier storage, making them more accessible in certain contexts.\n",
      "</think>\n",
      "\n",
      "**Final Answer:** Emerging mRNA technologies differ significantly from traditional vaccine approaches in several key aspects:\n",
      "\n",
      "1. **Mechanism of Action**: \n",
      "   - **Traditional Vaccines**: Introduce antigens (e.g., proteins, inactivated pathogens) directly to stimulate an immune response.\n",
      "   - **mRNA Vaccines**: Deliver genetic instructions (mRNA) to cells to produce specific viral proteins, thereby inducing an immune response without introducing the pathogen itself.\n",
      "\n",
      "2. **Development and Production Speed**: \n",
      "   - **mRNA Vaccines**: Offer faster development and production times due to reliance on genetic sequence information, bypassing the need for virus cultivation or inactivation. This was notably evident during the rapid development of COVID-19 vaccines.\n",
      "   - **Traditional Vaccines**: Require longer development cycles involving pathogen isolation, growth, and testing, which can be resource-intensive.\n",
      "\n",
      "3. **Scalability**: \n",
      "   - **mRNA Vaccines**: Easier to scale up production once the mRNA sequence is established, as it relies on manufacturing processes rather than complex biological systems.\n",
      "   - **Traditional Vaccines**: May face scalability challenges, especially with live attenuated or inactivated vaccines, due to requirements for cell culture or egg-based production.\n",
      "\n",
      "4. **Safety Profile**: \n",
      "   - **mRNA Vaccines**: Generally safer for immunocompromised individuals and those with allergies, as they lack live pathogens or adjuvants.\n",
      "   - **Traditional Vaccines**: Carry risks associated with adjuvants, preservatives, or live pathogens in some cases (e.g., live attenuated vaccines).\n",
      "\n",
      "5. **Storage and Distribution**: \n",
      "   - **mRNA Vaccines**: Require ultra-cold storage, posing challenges in regions with limited infrastructure.\n",
      "   - **Traditional Vaccines**: Often have more flexible storage requirements (e.g., refrigeration), facilitating broader distribution.\n",
      "\n",
      "6. **Adaptability**: \n",
      "   - **mRNA Vaccines**: Easily modifiable to address new viral variants or diseases by altering the mRNA sequence, making them highly adaptable to rapidly evolving pathogens.\n",
      "   - **Traditional Vaccines**: Less adaptable; updating for new strains can involve lengthy processes (e.g., for influenza).\n",
      "\n",
      "7. **Immune Response**: \n",
      "   - **mRNA Vaccines**: Can induce robust B-cell and T-cell responses, potentially offering longer-lasting immunity.\n",
      "   - **Traditional Vaccines**: Primarily stimulate B-cell responses (e.g., inactivated vaccines), though live attenuated vaccines also induce T-cell responses.\n",
      "\n",
      "8. **Cost**: \n",
      "   - **mRNA Vaccines**: Higher initial production costs due to lipid nanoparticle delivery systems, but may offer long-term cost advantages due to scalability.\n",
      "   - **Traditional Vaccines**: Generally lower production costs once established, though development costs can be significant.\n",
      "\n",
      "**Conclusion**: mRNA vaccines excel in speed, scalability, and adaptability, particularly beneficial for emerging or rapidly evolving pathogens like SARS-CoV-2. Traditional vaccines, while slower to develop and less adaptable, offer proven safety, accessibility, and easier storage, making them invaluable in established disease prevention programs and resource-limited settings. The choice between the two depends on the specific disease context, logistical considerations, and public health priorities.\n"
     ]
    }
   ],
   "source": [
    "input_data = {\n",
    "    \"model\": \"/opt/ml/model\",\n",
    "    \"messages\": [\n",
    "        {\"role\": \"system\", \"content\": system_prompt},\n",
    "        {\"role\": \"user\", \"content\": prompt1},\n",
    "    ],\n",
    "    \"max_tokens\": 2048,\n",
    "    \"temperature\": 0.8,\n",
    "    \"top_p\": 0.95,\n",
    "}\n",
    "\n",
    "result = invoke_realtime_endpoint(input_data)\n",
    "output_content = result['choices'][0]['message']['content']\n",
    "print(output_content)"
   ]
  },
  {
   "cell_type": "markdown",
   "id": "d1a76aec-391a-44e9-b385-99aa62f1b4bf",
   "metadata": {},
   "source": [
    "#### Text Completion"
   ]
  },
  {
   "cell_type": "code",
   "execution_count": 13,
   "id": "0c06b069-e3d8-48f4-9c09-fec59143ed11",
   "metadata": {
    "tags": []
   },
   "outputs": [
    {
     "name": "stdout",
     "output_type": "stream",
     "text": [
      " </think>\n",
      "Xeroderma pigmentosum (XP) is a rare genetic disorder characterized by an extreme sensitivity to ultraviolet (UV) radiation, which leads to a high risk of developing skin cancers. The underlying cause of XP is a defect in the nucleotide excision repair (NER) pathway. This pathway is crucial for repairing DNA damage caused by UV light, such as thymine dimers and other bulky adducts.\n",
      "\n",
      "Let's analyze the options:\n",
      "\n",
      "**A. An enzyme essential to repair mismatched bases:** This refers to the mismatch repair (MMR) pathway, which corrects errors that occur during DNA replication, such as mismatched bases. While important, MMR is not directly involved in repairing UV-induced damage, making this option incorrect.\n",
      "\n",
      "**B. UV specific endonuclease:** The NER pathway involves several enzymes, including UV-specific endonucleases. These enzymes are responsible for cleaving the damaged DNA strand at specific sites surrounding the UV-induced lesions, allowing the repair machinery to replace the damaged segment. A deficiency in these enzymes would impair the NER pathway, leading to the accumulation of DNA damage and subsequent skin cancer development. This aligns with the pathophysiology of XP.\n",
      "\n",
      "**C. DNA polymerase I:** DNA polymerase I is involved in DNA replication and repair, particularly in filling in gaps left after DNA damage repair. While important, it is not the primary enzyme deficient in XP. The main issue in XP is the inability to initiate the repair process through endonuclease activity.\n",
      "\n",
      "**D. DNA polymerase III:** DNA polymerase III is the primary enzyme for DNA replication in prokaryotes and is not directly involved in the repair mechanisms that are deficient in XP. Therefore, this option is incorrect.\n",
      "\n",
      "**E. Glycosylase that removes uracil bases from DNA:** This refers to the base excision repair (BER) pathway, which addresses small base lesions like uracil. While BER is important for DNA repair, it is not the primary pathway affected in XP, which is more closely tied to NER.\n",
      "\n",
      "Considering the information, the most accurate answer is **B**, as the deficiency in UV-specific endonuclease directly impacts the NER pathway, leading to the accumulation of UV-induced DNA damage and the development of skin cancer in XP patients.\n",
      "</think>\n",
      "\n",
      "**Final Answer**: B. UV specific endonuclease.\n"
     ]
    }
   ],
   "source": [
    "input_data ={\n",
    "        \"model\": \"/opt/ml/model\",\n",
    "        \"prompt\": f\"{system_prompt}\\n\\nUser: {prompt2}\\n\\nAssistant:\",\n",
    "        \"max_tokens\": 2048,\n",
    "        \"temperature\": 0.8,\n",
    "        \"top_p\": 0.95,\n",
    "    }\n",
    "\n",
    "result = invoke_realtime_endpoint(input_data)\n",
    "output_text = result['choices'][0]['text']\n",
    "print(output_text)"
   ]
  },
  {
   "cell_type": "markdown",
   "id": "ccccf37b-9dee-4d38-a0dc-38f2aeaeb780",
   "metadata": {},
   "source": [
    "### 3.2 Real-time inference response as a stream via Amazon SageMaker Endpoint"
   ]
  },
  {
   "cell_type": "code",
   "execution_count": 11,
   "id": "dac2fe86-af82-4ae5-a838-162f65e6d0b1",
   "metadata": {
    "tags": []
   },
   "outputs": [],
   "source": [
    "def invoke_streaming_endpoint(record):\n",
    "    try:\n",
    "        response = sm_runtime.invoke_endpoint_with_response_stream(\n",
    "            EndpointName=model_name,\n",
    "            Body=json.dumps(record),\n",
    "            ContentType=\"application/json\",\n",
    "            Accept=\"text/event-stream\"\n",
    "        )\n",
    "\n",
    "        for event in response[\"Body\"]:\n",
    "            if \"PayloadPart\" in event:\n",
    "                chunk = event[\"PayloadPart\"][\"Bytes\"].decode(\"utf-8\")\n",
    "                if chunk.startswith(\"data:\"):\n",
    "                    try:\n",
    "                        data = json.loads(chunk[5:].strip())\n",
    "                        if \"choices\" in data and len(data[\"choices\"]) > 0:\n",
    "                            choice = data[\"choices\"][0]\n",
    "                            if \"text\" in choice:\n",
    "                                yield choice[\"text\"]\n",
    "                            elif \"delta\" in choice and \"content\" in choice[\"delta\"]:\n",
    "                                yield choice[\"delta\"][\"content\"]\n",
    "\n",
    "                    except json.JSONDecodeError:\n",
    "                        continue \n",
    "            elif \"ModelStreamError\" in event:\n",
    "                error = event[\"ModelStreamError\"]\n",
    "                yield f\"\\nStream error: {error['Message']} (Error code: {error['ErrorCode']})\"\n",
    "                break\n",
    "            elif \"InternalStreamFailure\" in event:\n",
    "                failure = event[\"InternalStreamFailure\"]\n",
    "                yield f\"\\nInternal stream failure: {failure['Message']}\"\n",
    "                break\n",
    "    except Exception as e:\n",
    "        yield f\"\\nAn error occurred during streaming: {str(e)}\""
   ]
  },
  {
   "cell_type": "markdown",
   "id": "d2c6f25e-6d6d-41c7-a7ab-8b979e97a145",
   "metadata": {},
   "source": [
    "#### Chat Completion"
   ]
  },
  {
   "cell_type": "code",
   "execution_count": 14,
   "id": "5d62d99f-67a1-46f7-ad52-d2d41b2c5e3a",
   "metadata": {
    "tags": []
   },
   "outputs": [
    {
     "name": "stdout",
     "output_type": "stream",
     "text": [
      "Okay, so I need to figure out how emerging mRNA technologies compare to traditional vaccine approaches for disease prevention. Hmm, where do I start? I know that mRNA vaccines have been making headlines, especially with the recent pandemic. But I'm not exactly sure how they differ from the traditional ones. Let me think.\n",
      "\n",
      "First, traditional vaccines usually use a weakened or inactivated pathogen, or parts of it, like proteins or sugars, to trigger an immune response. So things like the flu shot or the polio vaccine fall into this category. These vaccines essentially show the immune system what the pathogen looks like so that if the real thing ever comes along, the body is prepared.\n",
      "\n",
      "Now, mRNA vaccines are different. I remember reading that they use a small piece of genetic material called mRNA that instructs cells to produce a harmless piece of the virus, which then triggers an immune response. So instead of introducing the virus itself or part of it, they teach the body's cells to make a part of the virus. Interesting. That means the mRNA never enters the cell nucleus, right? So it doesn't affect our DNA. That's a key point.\n",
      "\n",
      "Let me think about the advantages of mRNA vaccines. They can be developed faster. I think during the pandemic, mRNA vaccines like Pfizer and Moderna were developed much more quickly than traditional vaccines. Why is that? Oh right, because you don't need to grow the virus or extract parts of it. You just need the genetic sequence of the pathogen. That must save a lot of time and resources.\n",
      "\n",
      "Another advantage is scalability. Once the mRNA is synthesized, it's easier to produce on a large scale compared to, say, growing viruses in chicken eggs or cell cultures. That's important for mass vaccination campaigns. Plus, mRNA vaccines can potentially be used for a variety of diseases, not just viruses. Like maybe cancer or other diseases that need specific protein targets.\n",
      "\n",
      "On the flip side, traditional vaccines have a proven track record. They've been used for decades, and we know a lot about their safety and efficacy. They are also generally more stable. Many traditional vaccines can be stored at regular refrigeration temperatures, whereas mRNA vaccines often need ultra-cold storage. That makes logistics more challenging, especially in areas without good infrastructure.\n",
      "\n",
      "Oh, and cost. I think traditional vaccines might be cheaper to produce and distribute because they're well-established and require less specialized equipment. mRNA vaccines might be more expensive initially, though economies of scale might help over time.\n",
      "\n",
      "Another thing to consider is the immune response. Some studies suggest that mRNA vaccines can elicit a strong immune response, including both antibodies and T cells. Traditional vaccines can also do this, but maybe not as effectively in some cases. But I'm not sure about the specifics here. I think the immune response can vary depending on the vaccine and the individual.\n",
      "\n",
      "Also, safety profile. Both types have good safety profiles, but mRNA vaccines are relatively new, so long-term safety data is limited. Traditional vaccines have been around longer, so we have more data on their long-term effects, which is reassuring.\n",
      "\n",
      "Wait, what about customization? Since mRNA vaccines are based on genetic sequences, it's easier to update them if the pathogen changes, like with influenza or coronaviruses. Traditional vaccines might need more time and resources to update, which could be a disadvantage when dealing with rapidly mutating viruses.\n",
      "\n",
      "Oh, and manufacturing flexibility. With mRNA, you can quickly adapt to new variants or even create new vaccines for different diseases without having to start from scratch. That's a big plus, especially in the face of new outbreaks.\n",
      "\n",
      "But then there's the issue of delivery mechanisms. mRNA is fragile, so it needs to be encapsulated in lipid nanoparticles to protect it until it reaches the cells. Traditional vaccines don't have this issue because their components are more stable.\n",
      "\n",
      "Let me summarize the key points:\n",
      "\n",
      "1. Development Speed: mRNA vaccines can be developed faster because they rely on genetic sequences rather than growing pathogens.\n",
      "2. Manufacturing and Scalability: mRNA may be scalable but requires specialized equipment; traditional vaccines might be cheaper and easier to manufacture on a large scale.\n",
      "3. Stability and Storage: mRNA often needs ultra-cold storage, while traditional vaccines can be stored at regular temps, making distribution easier in resource-limited areas.\n",
      "4. Immune Response: mRNA can induce both antibody and T-cell responses; traditional vaccines vary but are generally effective.\n",
      "5. Safety and Efficacy: Both have good safety profiles, but mRNA has less long-term data.\n",
      "6. Customization and Adaptability: mRNA is easier to update for new variants or diseases.\n",
      "7. Delivery Mechanism: mRNA needs lipid nanoparticles for delivery, which is an added complexity.\n",
      "\n",
      "I should also mention specific examples. The Pfizer-BioNTech and Moderna vaccines are mRNA-based and were pivotal in the pandemic. Traditional vaccines like the MMR (measles, mumps, rubella) vaccine or the DTaP (diphtheria, tetanus, pertussis) use inactivated or attenuated pathogens.\n",
      "\n",
      "In conclusion, mRNA technologies offer speed, adaptability, and strong immune responses but come with challenges in storage and initial cost. Traditional vaccines are proven, stable, and cost-effective but may take longer to develop and adapt to new threats. Each has its place depending on the disease, available infrastructure, and public health needs.\n",
      "</think>\n",
      "\n",
      "**Final Answer**: Emerging mRNA technologies and traditional vaccine approaches differ significantly in development speed, manufacturing, storage requirements, immune response, and adaptability. \n",
      "\n",
      "1. **Development Speed**: mRNA vaccines can be developed more quickly because they rely on genetic sequences, bypassing the need to grow or inactivate pathogens. Traditional vaccines, which use weakened, inactivated, or subunit components of pathogens, typically take longer to develop.\n",
      "\n",
      "2. **Manufacturing and Scalability**: While mRNA vaccines require specialized equipment for synthesis and lipid nanoparticle encapsulation, their production can be rapidly scaled. Traditional vaccines often involve complex processes like growing viruses in chicken eggs or cell cultures, which may be more cost-effective and established for large-scale distribution.\n",
      "\n",
      "3. **Storage Requirements**: mRNA vaccines often necessitate ultra-cold storage conditions, which pose logistical challenges, especially in resource-limited regions. In contrast, many traditional vaccines can be stored at regular refrigeration temperatures, enhancing their accessibility.\n",
      "\n",
      "4. **Immune Response**: mRNA vaccines induce both antibody and T-cell responses, potentially offering robust protection. Traditional vaccines also elicit strong immune responses but vary in their mechanisms depending on the specific vaccine and pathogen.\n",
      "\n",
      "5. **Safety and Efficacy**: Both types have strong safety profiles, but mRNA vaccines have less long-term data due to their relatively recent introduction. Traditional vaccines have extensive safety and efficacy data from decades of use.\n",
      "\n",
      "6. **Customization and Adaptability**: mRNA vaccines can be rapidly adapted to new variants or diseases by altering the genetic sequence, a significant advantage in应对 rapidly mutating pathogens. Traditional vaccines may require more time and resources to update.\n",
      "\n",
      "7. **Delivery Mechanism**: mRNA vaccines require lipid nanoparticles to protect the mRNA until cellular delivery, adding complexity. Traditional vaccines do not have this issue due to their more stable components.\n",
      "\n",
      "**In Summary**: mRNA vaccines excel in speed, adaptability, and strong immune responses but face challenges in storage and initial costs. Traditional vaccines offer proven efficacy, stability, and cost-effectiveness but may lag in adaptability and development speed. The choice between the two depends on disease-specific needs, infrastructure, and public health priorities."
     ]
    }
   ],
   "source": [
    "payload = {\n",
    "    \"model\": \"/opt/ml/model\",\n",
    "    \"messages\": [\n",
    "        {\"role\": \"system\", \"content\": system_prompt},\n",
    "        {\"role\": \"user\", \"content\": prompt1}\n",
    "    ],\n",
    "    \"max_tokens\": 2048,\n",
    "    \"temperature\": 0.8,\n",
    "    \"top_p\": 0.95,\n",
    "    \"stream\": True\n",
    "}\n",
    "\n",
    "for chunk in invoke_streaming_endpoint(payload):\n",
    "    print(chunk, end=\"\", flush=True)"
   ]
  },
  {
   "cell_type": "markdown",
   "id": "f2d04094-f350-4950-b73a-212301dda35c",
   "metadata": {},
   "source": [
    "#### Text Completion"
   ]
  },
  {
   "cell_type": "code",
   "execution_count": 15,
   "id": "a6046a1f-96cb-4f76-b796-cd4a661f53e6",
   "metadata": {
    "tags": []
   },
   "outputs": [
    {
     "name": "stdout",
     "output_type": "stream",
     "text": [
      " <think>\n",
      "Xeroderma pigmentosum (XP) is a rare genetic disorder characterized by an extreme sensitivity to ultraviolet (UV) radiation from sunlight, leading to a high risk of developing skin cancers. The is caused by defects in nucleotide excision repair (NER), a DNA repair mechanism that corrects damage caused by UV light, such as thymine dimers. These dimers disrupt normal DNA replication and can lead to mutations if not repaired.\n",
      "\n",
      "The question asks which enzyme deficiency is responsible for XP. Let's analyze the options:\n",
      "\n",
      "A. An enzyme essential to repair mismatched bases: This refers to mismatch repair (MMR), which corrects errors that occur during DNA replication, such as mismatched base pairs. However, XP is related to UV-induced damage, not errors, so this is incorrect.\n",
      "\n",
      "B. UV specific endonuclease: NER involves the recognition and excision of damaged DNA segments. UV-specific endonucleases are part of this process, specifically involved in cutting out the damaged DNA strand. This is a strong candidate.\n",
      "\n",
      "C. DNA polymerase I: This enzyme is involved in DNA replication and repair, particularly in filling gaps after NER. While important, the primary defect in XP is the to initiate repair, not fill gaps, making this less likely.\n",
      "\n",
      "D. DNA polymerase III: This is a key enzyme in DNA replication but not directly involved in NER. Thus, this is incorrect.\n",
      "\n",
      "E. Glycosylase that removes uracil bases from DNA: This is part of base excision repair (BER), which targets small base lesions like uracil. XP is linked to UV damage requiring NER, so this is incorrect.\n",
      "\n",
      "The correct answer is B, as UV-specific endonuclease deficiency is central to the NER defect in XP.\n",
      "</think>\n",
      "\n",
      "**Final Answer**: B. UV specific endonuclease."
     ]
    }
   ],
   "source": [
    "payload = {\n",
    "    \"model\": \"/opt/ml/model\",\n",
    "    \"prompt\": f\"{system_prompt}\\n\\nUser: {prompt2}\\n\\nAssistant:\",\n",
    "    \"max_tokens\": 2048,\n",
    "    \"temperature\": 0.8,\n",
    "    \"top_p\": 0.95,\n",
    "    \"stream\": True\n",
    "}\n",
    "\n",
    "for chunk in invoke_streaming_endpoint(payload):\n",
    "    print(chunk, end=\"\", flush=True)"
   ]
  },
  {
   "cell_type": "markdown",
   "id": "547960f3-6629-4c2d-a4d2-cdb26c9c61d0",
   "metadata": {},
   "source": [
    "Now that you have successfully performed a real-time inference, you do not need the endpoint any more. You can terminate the endpoint to avoid being charged."
   ]
  },
  {
   "cell_type": "code",
   "execution_count": null,
   "id": "488631f8-c3be-4b30-aba4-75d83ee588a3",
   "metadata": {
    "tags": []
   },
   "outputs": [],
   "source": [
    "model.sagemaker_session.delete_endpoint(model_name)\n",
    "model.sagemaker_session.delete_endpoint_config(model_name)"
   ]
  },
  {
   "cell_type": "markdown",
   "id": "c0e98cc5-6ea8-41bf-a78f-dbe6771caf55",
   "metadata": {},
   "source": [
    "## 4. Batch inference"
   ]
  },
  {
   "cell_type": "code",
   "execution_count": 18,
   "id": "f7d163c0-a6c7-49c5-a4ea-27b83670eb7b",
   "metadata": {
    "tags": []
   },
   "outputs": [],
   "source": [
    "validation_json_file_name1 = \"input1.json\"\n",
    "\n",
    "validation_input_json_path = f\"s3://{s3_bucket}/{model_name}/validation-input/\"\n",
    "validation_output_json_path = f\"s3://{s3_bucket}/{model_name}/validation-output/\"\n",
    "\n",
    "\n",
    "def write_and_upload_to_s3(input_data, file_name):\n",
    "    s3_client.put_object(\n",
    "        Bucket=s3_bucket,\n",
    "        Key=f\"{model_name}/validation-input/{file_name}\",\n",
    "        Body=(bytes(input_data.encode(\"UTF-8\"))),\n",
    "    )"
   ]
  },
  {
   "cell_type": "code",
   "execution_count": 19,
   "id": "23904344-4a1e-4e90-942e-dc9e53827369",
   "metadata": {
    "tags": []
   },
   "outputs": [],
   "source": [
    "input_json_data1 = json.dumps(\n",
    "    {\n",
    "        \"model\": \"/opt/ml/model\",\n",
    "        \"prompt\": [f\"{system_prompt}\\n\\nUser: {prompt}\\n\\nAssistant:\" for prompt in prompts],\n",
    "        \"max_tokens\": 2048,\n",
    "        \"temperature\": 0.8,\n",
    "        \"top_p\": 0.95,\n",
    "    }\n",
    ")\n",
    "\n",
    "write_and_upload_to_s3(input_json_data1, f\"{validation_json_file_name1}\")"
   ]
  },
  {
   "cell_type": "code",
   "execution_count": null,
   "id": "40a9b441-d1e5-4bbc-8571-005d880c6c46",
   "metadata": {
    "tags": []
   },
   "outputs": [],
   "source": [
    "transformer = model.transformer(\n",
    "    instance_count=1,\n",
    "    instance_type=batch_transform_inference_instance_type,\n",
    "    accept=\"application/json\",\n",
    "    output_path=validation_output_json_path,\n",
    ")\n",
    "transformer.transform(validation_input_json_path, content_type=\"application/json\")\n",
    "transformer.wait()"
   ]
  },
  {
   "cell_type": "code",
   "execution_count": null,
   "id": "142c53a9-2e64-4839-acbd-74bfbd7fc372",
   "metadata": {
    "tags": []
   },
   "outputs": [],
   "source": [
    "from urllib.parse import urlparse\n",
    "\n",
    "def retrieve_json_output_from_s3(validation_file_name):\n",
    "\n",
    "    parsed_url = urlparse(transformer.output_path)\n",
    "    file_key = f\"{parsed_url.path[1:]}{validation_file_name}.out\"\n",
    "    response = s3_client.get_object(Bucket=s3_bucket, Key=file_key)\n",
    "    result = json.loads(response[\"Body\"].read().decode(\"utf-8\"))\n",
    "    \n",
    "    for idx, choice in enumerate(result.get(\"choices\", [])):\n",
    "        print(f\"Response {idx + 1}:\\n{choice.get('text', '')}\\n{'=' * 75}\")"
   ]
  },
  {
   "cell_type": "code",
   "execution_count": 23,
   "id": "b781965a-3891-4ac3-a580-9e187b262d39",
   "metadata": {
    "tags": []
   },
   "outputs": [
    {
     "name": "stdout",
     "output_type": "stream",
     "text": [
      "Response 1:\n",
      " Alright, the user is asking about the early warning signs of a stroke and what to do if someone is having one. First, I need to recall the common symptoms of a stroke. I remember that strokes are medical emergencies, so the acronym FAST is crucial here. FAST stands for Face drooping, Arm weakness, Speech difficulty, and Time to call emergency services. But wait, there are other signs too, like sudden numbness or weakness on one side of the body, confusion, trouble speaking, vision problems, dizziness, and severe headache. I should list those as well to cover all bases.\n",
      "\n",
      "Next, I need to explain what to do if someone is showing these signs. The immediate action is to call emergency services. It's important to note that every second counts because prompt treatment can minimize brain damage. While waiting for help, the person should be made comfortable, lying on their side to prevent choking if they vomit, and kept calm. I should also mention not to give them anything to eat or drink in case they need surgery. Oh, and it's essential to note the time when symptoms started, as that information is critical for medical staff.\n",
      "\n",
      "Wait, I should also consider less common signs, like sudden severe headache without a known cause or loss of balance, especially in younger individuals. Including those might help the user recognize symptoms that aren't part of the FAST acronym. Also, emphasizing the importance of not delaying and always contacting professionals, even if symptoms subside, is key. Maybe I should add something about transient ischemic attacks (TIAs) and how they can be warning signs of a major stroke. That way, the user knows to take those seriously too.\n",
      "\n",
      "Putting it all together, the answer should start with the FAST acronym, list additional symptoms, explain the immediate actions, and provide some extra advice about monitoring and follow-up. I need to make sure the language is clear and easy to understand, avoiding medical jargon so anyone can grasp the steps quickly. Let me double-check the symptoms to ensure I haven't missed any major ones. Yes, the main ones are covered. Also, emphasizing the urgency and the importance of time is crucial. Alright, that should cover it comprehensively without overwhelming the reader.\n",
      "</think>\n",
      "\n",
      "The early warning signs of a stroke, often remembered by the acronym **FAST**, are:  \n",
      "- **F (Face Drooping):** One side of the face may droop or feel numb. Ask the person to smile.  \n",
      "- **A (Arm Weakness):** One arm may feel weak or numb. Ask the person to raise both arms.  \n",
      "- **S (Speech Difficulty):** Speech may be slurred or confusing. Ask the person to repeat a simple sentence.  \n",
      "- **T (Time to Call Emergency Services):** If any of these signs are present, act immediately.  \n",
      "\n",
      "**Additional signs of stroke include:**  \n",
      "- Sudden numbness or weakness in the leg, arm, or face.  \n",
      "- Sudden confusion or trouble understanding.  \n",
      "- Sudden trouble seeing in one or both eyes.  \n",
      "- Sudden trouble walking, dizziness, or loss of balance.  \n",
      "- Sudden severe headache with no known cause.  \n",
      "\n",
      "**What to do if you suspect a stroke:**  \n",
      "1. **Call emergency services (911 or your local number) immediately.** Time is critical, as prompt treatment can minimize brain damage.  \n",
      "2. **Note the time** when symptoms began. This information is crucial for medical staff.  \n",
      "3. **Keep the person calm and comfortable.** If conscious, have them lie on their side to prevent choking if they vomit.  \n",
      "4. **Do not give them food or drink.** They may need surgery, and an empty stomach is safer.  \n",
      "5. **Monitor their condition** until help arrives.  \n",
      "\n",
      "**Important Notes:**  \n",
      "- Even if symptoms subside (e.g., a transient ischemic attack, or \"mini-stroke\"), seek immediate medical attention.  \n",
      "- Stroke symptoms can vary and may not all be present. Trust your instincts and err on the side of caution.  \n",
      "\n",
      "Prompt action can significantly improve outcomes and reduce long-term disability. Always prioritize contacting emergency services first.  \n",
      "\n",
      "**Final Answer:** The early warning signs of a stroke include sudden face drooping, arm weakness, speech difficulty, and other symptoms like numbness, confusion, vision changes, or severe headache. If you suspect a stroke, **act FAST**: Call emergency services immediately, note the time symptoms began, keep the person calm, and avoid giving them food or drink. Time is critical for effective treatment.\n",
      "===========================================================================\n",
      "Response 2:\n",
      " Alright, so the user is asking about how different classes of antidepressants work and what factors determine which one a doctor might prescribe. First, I need to recall the main classes of antidepressants. Let me think... There are SSRIs, SNRIs, tricyclics, MAOIs, and then some newer ones like atypical antidepressants.\n",
      "\n",
      "Starting with SSRIs, those are selective serotonin reuptake inhibitors. I know they increase serotonin levels by blocking its reuptake into the presynaptic neuron. That makes sense. Then there's SNRIs, which are serotonin-norepinephrine reuptake inhibitors. They do the same thing but also affect norepinephrine. Tricyclic antidepressants, or TCAs, they work on both serotonin and norepinephrine too, but they have more side effects because they also block histamine and acetylcholine receptors. MAOIs are monoamine oxidase inhibitors; they prevent the breakdown of neurotransmitters like serotonin and norepinephrine, but they have strict dietary restrictions. Oh, and atypical antidepressants include things like bupropion, which affects dopamine more, and mirtazapine, which works on different receptors.\n",
      "\n",
      "Now, for the factors that determine which medication to prescribe. I think the first thing a doctor considers is the patient's symptoms. For example, if someone has insomnia, an SSRI might be better because some of them can help with sleep, while others like bupropion can cause insomnia. Then there's the patient's medical history. If they have heart issues, TCAs might not be the best choice due to their cardiovascular side effects. Also, past treatments matter; if a patient didn't respond to an SSRI before, maybe an SNRI would be tried next.\n",
      "\n",
      "Side effects are a big factor too. SSRIs often have gastrointestinal issues or sexual dysfunction, while TCAs can cause weight gain or dry mouth. The patient's lifestyle plays a role—someone with insomnia might need an antidepressant that helps them sleep, like mirtazapine. Cost and accessibility could be important if the patient has insurance or financial constraints.\n",
      "\n",
      "Then there's the patient's age. Elderly patients might be more sensitive to side effects, so starting with something like an SSRI that's generally safer could be better. On the flip side, younger patients might tolerate medications with more side effects better. Also, comorbid conditions. If someone has anxiety, an SSRI might be helpful, but if they have ADHD, something that also affects dopamine, like bupropion, could be more effective.\n",
      "\n",
      "I should also mention that sometimes it's a trial and error process. Doctors might start with a commonly prescribed SSRI like fluoxetine or sertraline and adjust based on how the patient responds. They also consider patient preference. If a patient has concerns about specific side effects, they might prefer an antidepressant that's less likely to cause those issues.\n",
      "\n",
      "Oh, and I shouldn't forget about drug interactions. If the patient is on other medications, that needs to be considered. For example, MAOIs interact with a lot of foods and drugs, so they're not usually first-line unless necessary.\n",
      "\n",
      "In summary, the mechanism of each antidepressant class is based on neurotransmitter reuptake or metabolism, and the choice of medication depends on the patient's specific symptoms, medical history, side effect profile, lifestyle, age, comorbidities, cost, and personal preference. It's a multifaceted decision that requires considering various factors to find the best fit for the patient.\n",
      "</think>\n",
      "\n",
      "Antidepressants work by modulating neurotransmitter systems in the brain to alleviate symptoms of depression. The primary classes of antidepressants and their mechanisms of action include:\n",
      "\n",
      "1. **SSRIs (Selective Serotonin Reuptake Inhibitors)**:\n",
      "   - *Mechanism*: Increase serotonin levels by blocking its reuptake into presynaptic neurons.\n",
      "   - *Examples*: Fluoxetine (Prozac), sertraline (Zoloft).\n",
      "\n",
      "2. **SNRIs (Serotonin-Norepinephrine Reuptake Inhibitors)**:\n",
      "   - *Mechanism*: Block reuptake of both serotonin and norepinephrine, enhancing both neurotransmitters.\n",
      "   - *Examples*: Venlafaxine (Effexor), duloxetine (Cymbalta).\n",
      "\n",
      "3. **TCAs (Tricyclic Antidepressants)**:\n",
      "   - *Mechanism*: Inhibit reuptake of serotonin and norepinephrine, but also block histamine and acetylcholine receptors, causing side effects.\n",
      "   - *Examples*: Amitriptyline, imipramine.\n",
      "\n",
      "4. **MAOIs (Monoamine Oxidase Inhibitors)**:\n",
      "   - *Mechanism*: Inhibit monoamine oxidase, preventing the breakdown of serotonin, norepinephrine, and dopamine.\n",
      "   - *Examples*: Phenelzine (Nardil), tranylcypromine (Parnate).\n",
      "   - *Note*: Require strict dietary restrictions (e.g., avoiding tyramine-rich foods).\n",
      "\n",
      "5. **Atypical Antidepressants**:\n",
      "   - *Mechanism*: Act on various neurotransmitters or receptors. For example:\n",
      "     - *Bupropion* (Wellbutrin): Affects dopamine and norepinephrine.\n",
      "     - *Mirtazapine* (Remeron): Blocks serotonin and noradrenergic receptors.\n",
      "     - *Vortioxetine* (Trintellix): Modulates serotonin signaling.\n",
      "\n",
      "---\n",
      "\n",
      "**Factors Influencing Medication Selection**:\n",
      "\n",
      "1. **Patient Symptoms**:\n",
      "   - Specific symptoms (e.g., insomnia, anxiety, or fatigue) guide the choice. For instance:\n",
      "     - *Insomnia*: SSRIs like escitalopram might be avoided if they worsen sleep, while mirtazapine can be helpful.\n",
      "     - *Anxiety*: SSRIs or SNRIs are often effective.\n",
      "\n",
      "2. **Medical History**:\n",
      "   - **Cardiovascular issues**: TCAs may be contraindicated due to their impact on heart function.\n",
      "   - **Seizure risk**: Medications like bupropion should be used cautiously.\n",
      "\n",
      "3. **Past Treatment Responses**:\n",
      "   - If a patient previously responded to an SSRI, it may be prioritized. If not, an SNRI or MAOI might be considered.\n",
      "\n",
      "4. **Side Effect Profile**:\n",
      "   - Common side effects (e.g., sexual dysfunction with SSRIs, weight gain with TCAs) influence selection. Patient preferences regarding tolerable side effects are crucial.\n",
      "\n",
      "5. **Lifestyle Considerations**:\n",
      "   - Dietary restrictions (e.g., MAOIs) or activity levels may affect choices (e.g., MAOIs for physically active individuals are often avoided).\n",
      "\n",
      "6. **Age**:\n",
      "   - **Elderly patients**: Often start with SSRIs or SNRIs due to fewer cardiac side effects.\n",
      "   - **Younger patients**: May tolerate medications with more side effects better.\n",
      "\n",
      "7. **Comorbid Conditions**:\n",
      "   - **Anxiety disorders**: SSRIs or SNRIs may be preferred.\n",
      "   - **ADHD**: Bupropion (which affects dopamine) might be useful.\n",
      "\n",
      "8. **Cost and Accessibility**:\n",
      "   - Insurance coverage and medication availability can influence the choice, especially for long-term treatment.\n",
      "\n",
      "9. **Drug Interactions**:\n",
      "   - Concurrent medications (e.g., blood thinners, antihypertensives) must be considered to avoid dangerous interactions.\n",
      "\n",
      "10. **Patient Preference**:\n",
      "    - Patient input on side effects they are willing to tolerate or medications they prefer can guide selection.\n",
      "\n",
      "---\n",
      "\n",
      "**Summary**:\n",
      "The choice of antidepressant involves balancing the patient’s specific symptoms, medical history, side effect tolerance, lifestyle, age, comorbidities, and cost. It often requires an iterative process, with adjustments based on the patient’s response and any adverse effects. Personalized medicine, informed by both clinical guidelines and patient-centered preferences, is key to effective treatment.\n",
      "===========================================================================\n",
      "Response 3:\n",
      " Alright, so I need to figure out how inflammation, autoimmune conditions, and chronic diseases are related. Let me start by breaking down each term and then see how they connect. \n",
      "\n",
      "First, inflammation. I know that inflammation is the body's natural response to injury or infection. It's like the body's way of protecting itself by increasing blood flow to the affected area, bringing in white blood cells to fight off pathogens or heal damage. But I've also heard that sometimes inflammation can become chronic, meaning it doesn't go away. That must be harmful because it could lead to damage in the body over time.\n",
      "\n",
      "Now, autoimmune conditions. These are diseases where the immune system mistakenly attacks the body's own tissues. Examples include rheumatoid arthritis, lupus, and multiple sclerosis. I think inflammation plays a big role here because when the immune system is attacking the body, it's causing inflammation in those areas. So, in autoimmune diseases, the inflammation is a result of the immune system's misdirection.\n",
      "\n",
      "Chronic diseases, like heart disease, diabetes, and certain cancers, are long-term conditions that develop slowly. I've read that chronic inflammation is a common factor in many of these diseases. For example, in heart disease, inflammation can contribute to the buildup of plaque in arteries. In diabetes, chronic inflammation might interfere with insulin function. So there's definitely a link between chronic inflammation and the progression of these diseases.\n",
      "\n",
      "Putting this together, autoimmune conditions involve the immune system attacking the body, which causes inflammation. This inflammation can then contribute to the development or worsening of chronic diseases. It's a bit of a cycle where autoimmune disorders lead to persistent inflammation, which in turn exacerbates chronic diseases.\n",
      "\n",
      "Wait, but I should check if chronic diseases can also cause inflammation. For instance, in obesity, fat cells can release inflammatory markers, leading to chronic inflammation that might contribute to diabetes and heart disease. So maybe the relationship is bidirectional. Inflammation from autoimmune issues can lead to chronic diseases, but chronic diseases can also cause inflammation, creating a feedback loop.\n",
      "\n",
      "Also, lifestyle factors like poor diet, lack of exercise, and stress can influence both inflammation levels and the risk of autoimmune diseases and chronic conditions. So it's not just a one-way street; various factors interplay here.\n",
      "\n",
      "I should also consider that some treatments for autoimmune conditions aim to reduce inflammation, which might also help in managing associated chronic diseases. For example, using anti-inflammatory medications in rheumatoid arthritis might slow down joint damage and potentially reduce the risk of cardiovascular issues linked to chronic inflammation.\n",
      "\n",
      "In summary, inflammation is a central player connecting autoimmune conditions and chronic diseases. Autoimmune diseases cause chronic inflammation, which then contributes to the progression of chronic diseases. Additionally, chronic diseases themselves can induce inflammation, making the situation worse. So the relationship is complex and involves both causation and exacerbation in multiple directions.\n",
      "\n",
      "\n",
      "</think>\n",
      "1. **Understanding Inflammation**: Inflammation is the body's immune response to injury, infection, or stress. It is characterized by redness, swelling, heat, and pain. While acute inflammation is a normal protective mechanism, chronic inflammation can lead to tissue damage and contribute to disease progression.\n",
      "\n",
      "2. **Autoimmune Conditions and Inflammation**: Autoimmune diseases occur when the immune system mistakenly attacks the body's own cells and tissues. Examples include rheumatoid arthritis, lupus, and type 1 diabetes. These conditions are often associated with chronic inflammation, as the immune system's aberrant activity leads to ongoing inflammatory responses in affected tissues.\n",
      "\n",
      "3. **Chronic Disease Progression**: Chronic diseases such as cardiovascular disease, diabetes, and certain cancers are long-term conditions that develop gradually. Many of these diseases involve persistent low-grade inflammation, which can be caused by various factors, including obesity, poor diet, and autoimmune activity.\n",
      "\n",
      "4. **Interconnection**: \n",
      "   - **Autoimmune Conditions Driving Chronic Inflammation**: The chronic activation of the immune system in autoimmune diseases directly contributes to sustained inflammation. This inflammation can then exacerbate or accelerate the progression of other chronic diseases.\n",
      "   - **Chronic Inflammation as a Shared Mechanism**: Chronic inflammation is a common underlying factor in both autoimmune conditions and chronic diseases. For example, inflammation in autoimmune arthritis can lead to joint damage, while systemic inflammation contributes to atherosclerosis in heart disease.\n",
      "   - **Bidirectional Relationship**: The relationship is not unidirectional. Chronic diseases can also induce inflammation. For instance, metabolic dysfunction in obesity leads to the release of inflammatory cytokines, which can worsen insulin resistance and contribute to type 2 diabetes.\n",
      "\n",
      "5. **Lifestyle and Environmental Factors**: Lifestyle choices such as diet, physical activity, and stress management influence both inflammation levels and the risk of developing autoimmune conditions and chronic diseases. Modifying these factors can help mitigate inflammatory processes.\n",
      "\n",
      "6. **Therapeutic Implications**: Treatments targeting inflammation, such as nonsteroidal anti-inflammatory drugs (NSAIDs) and immunosuppressants, are used to manage both autoimmune conditions and certain chronic diseases. Reducing inflammation can slow disease progression and improve quality of life.\n",
      "\n",
      "**Conclusion**: Inflammation serves as a critical link between autoimmune conditions and the progression of chronic diseases. Autoimmune diseases often cause chronic inflammation, which then exacerbates chronic diseases. Conversely, chronic diseases can induce inflammation, creating a feedback loop that worsens overall health. Addressing inflammation through medical and lifestyle interventions is essential for managing these interconnected conditions.\n",
      "</think>\n",
      "\n",
      "**Final Answer**: Inflammation is a central mechanism that connects autoimmune conditions and the progression of chronic diseases. Autoimmune diseases trigger chronic inflammation by causing the immune system to attack the body's tissues, which can then contribute to the development or worsening of chronic conditions such as heart disease, diabetes, and certain cancers. Conversely, chronic diseases themselves can induce inflammation, creating a bidirectional relationship where inflammation exacerbates both autoimmune conditions and chronic diseases. Lifestyle modifications and anti-inflammatory therapies are crucial for managing this interplay and improving health outcomes.\n",
      "===========================================================================\n"
     ]
    }
   ],
   "source": [
    "retrieve_json_output_from_s3(validation_json_file_name1)"
   ]
  },
  {
   "cell_type": "markdown",
   "id": "f8e8f682-16a0-4a84-89e6-b5f4f0de3521",
   "metadata": {},
   "source": [
    "Congratulations! You just verified that the batch transform job is working as expected. Since the model is not required, you can delete it. Note that you are deleting the deployable model. Not the model package."
   ]
  },
  {
   "cell_type": "code",
   "execution_count": null,
   "id": "22a8df79-ad3b-4e85-a054-24931c15f3a3",
   "metadata": {
    "tags": []
   },
   "outputs": [],
   "source": [
    "model.delete_model()"
   ]
  },
  {
   "cell_type": "markdown",
   "id": "37215a51-bf01-4cf0-832a-c7f85a8a06c3",
   "metadata": {},
   "source": [
    "### Unsubscribe to the listing (optional)"
   ]
  },
  {
   "cell_type": "markdown",
   "id": "53cddd4d-4b27-4a94-95b8-5e027e6cd9cd",
   "metadata": {},
   "source": [
    "If you would like to unsubscribe to the model package, follow these steps. Before you cancel the subscription, ensure that you do not have any [deployable model](https://console.aws.amazon.com/sagemaker/home#/models) created from the model package or using the algorithm. Note - You can find this information by looking at the container name associated with the model. \n",
    "\n",
    "**Steps to unsubscribe to product from AWS Marketplace**:\n",
    "1. Navigate to __Machine Learning__ tab on [__Your Software subscriptions page__](https://aws.amazon.com/marketplace/ai/library?productType=ml&ref_=mlmp_gitdemo_indust)\n",
    "2. Locate the listing that you want to cancel the subscription for, and then choose __Cancel Subscription__  to cancel the subscription.\n",
    "\n"
   ]
  }
 ],
 "metadata": {
  "kernelspec": {
   "display_name": "conda_python3",
   "language": "python",
   "name": "conda_python3"
  },
  "language_info": {
   "codemirror_mode": {
    "name": "ipython",
    "version": 3
   },
   "file_extension": ".py",
   "mimetype": "text/x-python",
   "name": "python",
   "nbconvert_exporter": "python",
   "pygments_lexer": "ipython3",
   "version": "3.10.16"
  }
 },
 "nbformat": 4,
 "nbformat_minor": 5
}

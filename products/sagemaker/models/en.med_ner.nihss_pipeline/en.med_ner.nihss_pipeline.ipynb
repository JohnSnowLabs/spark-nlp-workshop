{
 "cells": [
  {
   "cell_type": "markdown",
   "metadata": {},
   "source": [
    "## 1. Subscribe to the model package"
   ]
  },
  {
   "cell_type": "markdown",
   "metadata": {},
   "source": [
    "To subscribe to the model package:\n",
    "1. Open the model package listing page <font color='red'> For Seller to update:[Title_of_your_product](Provide link to your marketplace listing of your product).</font>\n",
    "1. On the AWS Marketplace listing, click on the **Continue to subscribe** button.\n",
    "1. On the **Subscribe to this software** page, review and click on **\"Accept Offer\"** if you and your organization agrees with EULA, pricing, and support terms. \n",
    "1. Once you click on **Continue to configuration button** and then choose a **region**, you will see a **Product Arn** displayed. This is the model package ARN that you need to specify while creating a deployable model using Boto3. Copy the ARN corresponding to your region and specify the same in the following cell."
   ]
  },
  {
   "cell_type": "markdown",
   "metadata": {},
   "source": [
    "## Pipeline to Extract neurologic deficits related to Stroke Scale (NIHSS)\n",
    "\n",
    "\n",
    "- **Model**: `en.med_ner.nihss_pipeline`\n",
    "- **Model Description**: The National Institutes of Health Stroke Scale (NIHSS) is a 15-item neurologic examination stroke scale. This pretrained pipeline is built on top of the `ner_nihss` model. It quantifies the physical manifestations of neurological deficits and provides crucial support for clinical decision-making and early-stage emergency triage."
   ]
  },
  {
   "cell_type": "code",
   "execution_count": 1,
   "metadata": {
    "tags": []
   },
   "outputs": [],
   "source": [
    "model_package_arn = \"<Customer to specify Model package ARN corresponding to their AWS region>\""
   ]
  },
  {
   "cell_type": "code",
   "execution_count": 2,
   "metadata": {
    "tags": []
   },
   "outputs": [
    {
     "name": "stdout",
     "output_type": "stream",
     "text": [
      "sagemaker.config INFO - Not applying SDK defaults from location: /etc/xdg/sagemaker/config.yaml\n",
      "sagemaker.config INFO - Not applying SDK defaults from location: /home/ec2-user/.config/sagemaker/config.yaml\n"
     ]
    }
   ],
   "source": [
    "import base64\n",
    "import json\n",
    "import uuid\n",
    "from sagemaker import ModelPackage\n",
    "import sagemaker as sage\n",
    "from sagemaker import get_execution_role\n",
    "import boto3\n",
    "from IPython.display import Image, display\n",
    "from PIL import Image as ImageEdit\n",
    "import numpy as np"
   ]
  },
  {
   "cell_type": "code",
   "execution_count": 3,
   "metadata": {
    "tags": []
   },
   "outputs": [],
   "source": [
    "sagemaker_session = sage.Session()\n",
    "s3_bucket = sagemaker_session.default_bucket()\n",
    "region = sagemaker_session.boto_region_name\n",
    "account_id = boto3.client(\"sts\").get_caller_identity().get(\"Account\")\n",
    "role = get_execution_role()\n",
    "\n",
    "sagemaker = boto3.client(\"sagemaker\")\n",
    "s3_client = sagemaker_session.boto_session.client(\"s3\")\n",
    "ecr = boto3.client(\"ecr\")\n",
    "sm_runtime = boto3.client(\"sagemaker-runtime\")"
   ]
  },
  {
   "cell_type": "markdown",
   "metadata": {},
   "source": [
    "## 2. Create an endpoint and perform real-time inference"
   ]
  },
  {
   "cell_type": "markdown",
   "metadata": {},
   "source": [
    "If you want to understand how real-time inference with Amazon SageMaker works, see [Documentation](https://docs.aws.amazon.com/sagemaker/latest/dg/how-it-works-hosting.html)."
   ]
  },
  {
   "cell_type": "code",
   "execution_count": 4,
   "metadata": {
    "tags": []
   },
   "outputs": [],
   "source": [
    "model_name = \"en-med-ner-nihss-pipeline\"\n",
    "\n",
    "content_type = \"application/json\"\n",
    "\n",
    "real_time_inference_instance_type = \"ml.m4.xlarge\"\n",
    "batch_transform_inference_instance_type = \"ml.m4.xlarge\"\n"
   ]
  },
  {
   "cell_type": "markdown",
   "metadata": {},
   "source": [
    "### A. Create an endpoint"
   ]
  },
  {
   "cell_type": "code",
   "execution_count": 5,
   "metadata": {
    "tags": []
   },
   "outputs": [
    {
     "name": "stdout",
     "output_type": "stream",
     "text": [
      "-------!"
     ]
    }
   ],
   "source": [
    "# create a deployable model from the model package.\n",
    "model = ModelPackage(\n",
    "    role=role, model_package_arn=model_package_arn, sagemaker_session=sagemaker_session\n",
    ")\n",
    "\n",
    "# Deploy the model\n",
    "predictor = model.deploy(1, real_time_inference_instance_type, endpoint_name=model_name)"
   ]
  },
  {
   "cell_type": "markdown",
   "metadata": {},
   "source": [
    "Once endpoint has been created, you would be able to perform real-time inference."
   ]
  },
  {
   "cell_type": "code",
   "execution_count": 6,
   "metadata": {
    "tags": []
   },
   "outputs": [],
   "source": [
    "import json\n",
    "import pandas as pd\n",
    "import os\n",
    "import boto3\n",
    "\n",
    "\n",
    "# Set display options\n",
    "pd.set_option('display.max_rows', None)\n",
    "pd.set_option('display.max_columns', None)\n",
    "pd.set_option('display.max_colwidth', None)\n",
    "\n",
    "\n",
    "def process_data_and_invoke_realtime_endpoint(data_dicts):\n",
    "    for data_dict in data_dicts:\n",
    "        json_input_data = json.dumps(data_dict)\n",
    "        i = 1\n",
    "        input_file_name = f'inputs/real-time/input{i}.json'\n",
    "        output_file_name = f'outputs/real-time/out{i}.out'\n",
    "\n",
    "        while os.path.exists(input_file_name) or os.path.exists(output_file_name):\n",
    "            i += 1\n",
    "            input_file_name = f'inputs/real-time/input{i}.json'\n",
    "            output_file_name = f'outputs/real-time/out{i}.out'\n",
    "\n",
    "        os.makedirs(os.path.dirname(input_file_name), exist_ok=True)\n",
    "        os.makedirs(os.path.dirname(output_file_name), exist_ok=True)\n",
    "\n",
    "        with open(input_file_name, 'w') as f:\n",
    "            f.write(json_input_data)\n",
    "\n",
    "        s3_client.put_object(Bucket=s3_bucket, Key=f\"{model_name}/validation-input-json/real-time/{os.path.basename(input_file_name)}\", Body=bytes(json_input_data.encode('UTF-8')))\n",
    "\n",
    "        response = sm_runtime.invoke_endpoint(\n",
    "            EndpointName=model_name,\n",
    "            ContentType=content_type,\n",
    "            Accept=\"application/json\",\n",
    "            Body=json_input_data,\n",
    "        )\n",
    "\n",
    "        # Process response\n",
    "        response_data = json.loads(response[\"Body\"].read().decode(\"utf-8\"))\n",
    "        df = pd.DataFrame(response_data['predictions'])\n",
    "        display(df)\n",
    "\n",
    "        # Save response data to file\n",
    "        with open(output_file_name, 'w') as f_out:\n",
    "            json.dump(response_data, f_out, indent=4)\n"
   ]
  },
  {
   "cell_type": "markdown",
   "metadata": {},
   "source": [
    "### Initial Setup"
   ]
  },
  {
   "cell_type": "code",
   "execution_count": 7,
   "metadata": {
    "tags": []
   },
   "outputs": [],
   "source": [
    "docs = [\n",
    "    \"BS soft , nontender ext : no edema NIH Stroke scale 15 .   1a LOC , Neurologic examination : Mental status : Awake and mildly lethargic , cooperative with most of exam , flat affect . Oriented to person . Mildly inattentive with exam . In the ED he was found to have L arm and leg weakness . He had a NIH stroke scale of 15 . He received tPA at 0155 which placed him.\",\n",
    "    \"There , her initial NIHSS score was 4 , as recorded by the ED physicians . This included 2 for weakness in her left leg and 2 for what they felt was subtle ataxia in her left arm and leg .\",\n",
    "\n",
    "]\n",
    "\n",
    "sample_text = \"Abdomen , soft , nontender . NIH stroke scale on presentation was 23 to 24 for , one for consciousness , two for month and year and two for eye / grip , 1to2 for gaze , two for face , eight for motor , one for limited ataxia , 1 to2 for sensory , three for best language . On the neurologic examination the patient was intermittently\""
   ]
  },
  {
   "cell_type": "markdown",
   "metadata": {},
   "source": [
    "#### Example 1"
   ]
  },
  {
   "cell_type": "markdown",
   "metadata": {},
   "source": [
    "  **Input format**:\n",
    "  \n",
    "  \n",
    "```json\n",
    "{\n",
    "    \"text\": \"Single text document\"\n",
    "}\n",
    "```"
   ]
  },
  {
   "cell_type": "code",
   "execution_count": 8,
   "metadata": {
    "tags": []
   },
   "outputs": [
    {
     "data": {
      "text/html": [
       "<div>\n",
       "<style scoped>\n",
       "    .dataframe tbody tr th:only-of-type {\n",
       "        vertical-align: middle;\n",
       "    }\n",
       "\n",
       "    .dataframe tbody tr th {\n",
       "        vertical-align: top;\n",
       "    }\n",
       "\n",
       "    .dataframe thead th {\n",
       "        text-align: right;\n",
       "    }\n",
       "</style>\n",
       "<table border=\"1\" class=\"dataframe\">\n",
       "  <thead>\n",
       "    <tr style=\"text-align: right;\">\n",
       "      <th></th>\n",
       "      <th>document</th>\n",
       "      <th>ner_chunk</th>\n",
       "      <th>begin</th>\n",
       "      <th>end</th>\n",
       "      <th>ner_label</th>\n",
       "      <th>confidence</th>\n",
       "    </tr>\n",
       "  </thead>\n",
       "  <tbody>\n",
       "    <tr>\n",
       "      <th>0</th>\n",
       "      <td>Abdomen , soft , nontender . NIH stroke scale on presentation was 23 to 24 for , one for consciousness , two for month and year and two for eye / grip , 1to2 for gaze , two for face , eight for motor , one for limited ataxia , 1 to2 for sensory , three for best language . On the neurologic examination the patient was intermittently</td>\n",
       "      <td>NIH stroke scale</td>\n",
       "      <td>29</td>\n",
       "      <td>44</td>\n",
       "      <td>NIHSS</td>\n",
       "      <td>0.9729667</td>\n",
       "    </tr>\n",
       "    <tr>\n",
       "      <th>1</th>\n",
       "      <td>Abdomen , soft , nontender . NIH stroke scale on presentation was 23 to 24 for , one for consciousness , two for month and year and two for eye / grip , 1to2 for gaze , two for face , eight for motor , one for limited ataxia , 1 to2 for sensory , three for best language . On the neurologic examination the patient was intermittently</td>\n",
       "      <td>23 to 24</td>\n",
       "      <td>66</td>\n",
       "      <td>73</td>\n",
       "      <td>Measurement</td>\n",
       "      <td>0.86083335</td>\n",
       "    </tr>\n",
       "    <tr>\n",
       "      <th>2</th>\n",
       "      <td>Abdomen , soft , nontender . NIH stroke scale on presentation was 23 to 24 for , one for consciousness , two for month and year and two for eye / grip , 1to2 for gaze , two for face , eight for motor , one for limited ataxia , 1 to2 for sensory , three for best language . On the neurologic examination the patient was intermittently</td>\n",
       "      <td>one</td>\n",
       "      <td>81</td>\n",
       "      <td>83</td>\n",
       "      <td>Measurement</td>\n",
       "      <td>0.8693</td>\n",
       "    </tr>\n",
       "    <tr>\n",
       "      <th>3</th>\n",
       "      <td>Abdomen , soft , nontender . NIH stroke scale on presentation was 23 to 24 for , one for consciousness , two for month and year and two for eye / grip , 1to2 for gaze , two for face , eight for motor , one for limited ataxia , 1 to2 for sensory , three for best language . On the neurologic examination the patient was intermittently</td>\n",
       "      <td>consciousness</td>\n",
       "      <td>89</td>\n",
       "      <td>101</td>\n",
       "      <td>1a_LOC</td>\n",
       "      <td>0.6258</td>\n",
       "    </tr>\n",
       "    <tr>\n",
       "      <th>4</th>\n",
       "      <td>Abdomen , soft , nontender . NIH stroke scale on presentation was 23 to 24 for , one for consciousness , two for month and year and two for eye / grip , 1to2 for gaze , two for face , eight for motor , one for limited ataxia , 1 to2 for sensory , three for best language . On the neurologic examination the patient was intermittently</td>\n",
       "      <td>two</td>\n",
       "      <td>105</td>\n",
       "      <td>107</td>\n",
       "      <td>Measurement</td>\n",
       "      <td>0.9637</td>\n",
       "    </tr>\n",
       "    <tr>\n",
       "      <th>5</th>\n",
       "      <td>Abdomen , soft , nontender . NIH stroke scale on presentation was 23 to 24 for , one for consciousness , two for month and year and two for eye / grip , 1to2 for gaze , two for face , eight for motor , one for limited ataxia , 1 to2 for sensory , three for best language . On the neurologic examination the patient was intermittently</td>\n",
       "      <td>month and year</td>\n",
       "      <td>113</td>\n",
       "      <td>126</td>\n",
       "      <td>1b_LOCQuestions</td>\n",
       "      <td>0.8323667</td>\n",
       "    </tr>\n",
       "    <tr>\n",
       "      <th>6</th>\n",
       "      <td>Abdomen , soft , nontender . NIH stroke scale on presentation was 23 to 24 for , one for consciousness , two for month and year and two for eye / grip , 1to2 for gaze , two for face , eight for motor , one for limited ataxia , 1 to2 for sensory , three for best language . On the neurologic examination the patient was intermittently</td>\n",
       "      <td>two</td>\n",
       "      <td>132</td>\n",
       "      <td>134</td>\n",
       "      <td>Measurement</td>\n",
       "      <td>0.9711</td>\n",
       "    </tr>\n",
       "    <tr>\n",
       "      <th>7</th>\n",
       "      <td>Abdomen , soft , nontender . NIH stroke scale on presentation was 23 to 24 for , one for consciousness , two for month and year and two for eye / grip , 1to2 for gaze , two for face , eight for motor , one for limited ataxia , 1 to2 for sensory , three for best language . On the neurologic examination the patient was intermittently</td>\n",
       "      <td>eye / grip</td>\n",
       "      <td>140</td>\n",
       "      <td>149</td>\n",
       "      <td>1c_LOCCommands</td>\n",
       "      <td>0.9123667</td>\n",
       "    </tr>\n",
       "    <tr>\n",
       "      <th>8</th>\n",
       "      <td>Abdomen , soft , nontender . NIH stroke scale on presentation was 23 to 24 for , one for consciousness , two for month and year and two for eye / grip , 1to2 for gaze , two for face , eight for motor , one for limited ataxia , 1 to2 for sensory , three for best language . On the neurologic examination the patient was intermittently</td>\n",
       "      <td>1to2</td>\n",
       "      <td>153</td>\n",
       "      <td>156</td>\n",
       "      <td>Measurement</td>\n",
       "      <td>0.8095</td>\n",
       "    </tr>\n",
       "    <tr>\n",
       "      <th>9</th>\n",
       "      <td>Abdomen , soft , nontender . NIH stroke scale on presentation was 23 to 24 for , one for consciousness , two for month and year and two for eye / grip , 1to2 for gaze , two for face , eight for motor , one for limited ataxia , 1 to2 for sensory , three for best language . On the neurologic examination the patient was intermittently</td>\n",
       "      <td>gaze</td>\n",
       "      <td>162</td>\n",
       "      <td>165</td>\n",
       "      <td>2_BestGaze</td>\n",
       "      <td>0.9009</td>\n",
       "    </tr>\n",
       "    <tr>\n",
       "      <th>10</th>\n",
       "      <td>Abdomen , soft , nontender . NIH stroke scale on presentation was 23 to 24 for , one for consciousness , two for month and year and two for eye / grip , 1to2 for gaze , two for face , eight for motor , one for limited ataxia , 1 to2 for sensory , three for best language . On the neurologic examination the patient was intermittently</td>\n",
       "      <td>two</td>\n",
       "      <td>169</td>\n",
       "      <td>171</td>\n",
       "      <td>Measurement</td>\n",
       "      <td>0.979</td>\n",
       "    </tr>\n",
       "    <tr>\n",
       "      <th>11</th>\n",
       "      <td>Abdomen , soft , nontender . NIH stroke scale on presentation was 23 to 24 for , one for consciousness , two for month and year and two for eye / grip , 1to2 for gaze , two for face , eight for motor , one for limited ataxia , 1 to2 for sensory , three for best language . On the neurologic examination the patient was intermittently</td>\n",
       "      <td>face</td>\n",
       "      <td>177</td>\n",
       "      <td>180</td>\n",
       "      <td>4_FacialPalsy</td>\n",
       "      <td>0.8778</td>\n",
       "    </tr>\n",
       "    <tr>\n",
       "      <th>12</th>\n",
       "      <td>Abdomen , soft , nontender . NIH stroke scale on presentation was 23 to 24 for , one for consciousness , two for month and year and two for eye / grip , 1to2 for gaze , two for face , eight for motor , one for limited ataxia , 1 to2 for sensory , three for best language . On the neurologic examination the patient was intermittently</td>\n",
       "      <td>eight</td>\n",
       "      <td>184</td>\n",
       "      <td>188</td>\n",
       "      <td>Measurement</td>\n",
       "      <td>0.9287</td>\n",
       "    </tr>\n",
       "    <tr>\n",
       "      <th>13</th>\n",
       "      <td>Abdomen , soft , nontender . NIH stroke scale on presentation was 23 to 24 for , one for consciousness , two for month and year and two for eye / grip , 1to2 for gaze , two for face , eight for motor , one for limited ataxia , 1 to2 for sensory , three for best language . On the neurologic examination the patient was intermittently</td>\n",
       "      <td>one</td>\n",
       "      <td>202</td>\n",
       "      <td>204</td>\n",
       "      <td>Measurement</td>\n",
       "      <td>0.9445</td>\n",
       "    </tr>\n",
       "    <tr>\n",
       "      <th>14</th>\n",
       "      <td>Abdomen , soft , nontender . NIH stroke scale on presentation was 23 to 24 for , one for consciousness , two for month and year and two for eye / grip , 1to2 for gaze , two for face , eight for motor , one for limited ataxia , 1 to2 for sensory , three for best language . On the neurologic examination the patient was intermittently</td>\n",
       "      <td>limited</td>\n",
       "      <td>210</td>\n",
       "      <td>216</td>\n",
       "      <td>7_LimbAtaxia</td>\n",
       "      <td>0.9516</td>\n",
       "    </tr>\n",
       "    <tr>\n",
       "      <th>15</th>\n",
       "      <td>Abdomen , soft , nontender . NIH stroke scale on presentation was 23 to 24 for , one for consciousness , two for month and year and two for eye / grip , 1to2 for gaze , two for face , eight for motor , one for limited ataxia , 1 to2 for sensory , three for best language . On the neurologic examination the patient was intermittently</td>\n",
       "      <td>ataxia</td>\n",
       "      <td>218</td>\n",
       "      <td>223</td>\n",
       "      <td>7_LimbAtaxia</td>\n",
       "      <td>0.6029</td>\n",
       "    </tr>\n",
       "    <tr>\n",
       "      <th>16</th>\n",
       "      <td>Abdomen , soft , nontender . NIH stroke scale on presentation was 23 to 24 for , one for consciousness , two for month and year and two for eye / grip , 1to2 for gaze , two for face , eight for motor , one for limited ataxia , 1 to2 for sensory , three for best language . On the neurologic examination the patient was intermittently</td>\n",
       "      <td>1 to2</td>\n",
       "      <td>227</td>\n",
       "      <td>231</td>\n",
       "      <td>Measurement</td>\n",
       "      <td>0.7192</td>\n",
       "    </tr>\n",
       "    <tr>\n",
       "      <th>17</th>\n",
       "      <td>Abdomen , soft , nontender . NIH stroke scale on presentation was 23 to 24 for , one for consciousness , two for month and year and two for eye / grip , 1to2 for gaze , two for face , eight for motor , one for limited ataxia , 1 to2 for sensory , three for best language . On the neurologic examination the patient was intermittently</td>\n",
       "      <td>sensory</td>\n",
       "      <td>237</td>\n",
       "      <td>243</td>\n",
       "      <td>8_Sensory</td>\n",
       "      <td>0.9729</td>\n",
       "    </tr>\n",
       "    <tr>\n",
       "      <th>18</th>\n",
       "      <td>Abdomen , soft , nontender . NIH stroke scale on presentation was 23 to 24 for , one for consciousness , two for month and year and two for eye / grip , 1to2 for gaze , two for face , eight for motor , one for limited ataxia , 1 to2 for sensory , three for best language . On the neurologic examination the patient was intermittently</td>\n",
       "      <td>three</td>\n",
       "      <td>247</td>\n",
       "      <td>251</td>\n",
       "      <td>Measurement</td>\n",
       "      <td>0.812</td>\n",
       "    </tr>\n",
       "    <tr>\n",
       "      <th>19</th>\n",
       "      <td>Abdomen , soft , nontender . NIH stroke scale on presentation was 23 to 24 for , one for consciousness , two for month and year and two for eye / grip , 1to2 for gaze , two for face , eight for motor , one for limited ataxia , 1 to2 for sensory , three for best language . On the neurologic examination the patient was intermittently</td>\n",
       "      <td>best language</td>\n",
       "      <td>257</td>\n",
       "      <td>269</td>\n",
       "      <td>9_BestLanguage</td>\n",
       "      <td>0.6618</td>\n",
       "    </tr>\n",
       "  </tbody>\n",
       "</table>\n",
       "</div>"
      ],
      "text/plain": [
       "                                                                                                                                                                                                                                                                                                                                         document  \\\n",
       "0   Abdomen , soft , nontender . NIH stroke scale on presentation was 23 to 24 for , one for consciousness , two for month and year and two for eye / grip , 1to2 for gaze , two for face , eight for motor , one for limited ataxia , 1 to2 for sensory , three for best language . On the neurologic examination the patient was intermittently   \n",
       "1   Abdomen , soft , nontender . NIH stroke scale on presentation was 23 to 24 for , one for consciousness , two for month and year and two for eye / grip , 1to2 for gaze , two for face , eight for motor , one for limited ataxia , 1 to2 for sensory , three for best language . On the neurologic examination the patient was intermittently   \n",
       "2   Abdomen , soft , nontender . NIH stroke scale on presentation was 23 to 24 for , one for consciousness , two for month and year and two for eye / grip , 1to2 for gaze , two for face , eight for motor , one for limited ataxia , 1 to2 for sensory , three for best language . On the neurologic examination the patient was intermittently   \n",
       "3   Abdomen , soft , nontender . NIH stroke scale on presentation was 23 to 24 for , one for consciousness , two for month and year and two for eye / grip , 1to2 for gaze , two for face , eight for motor , one for limited ataxia , 1 to2 for sensory , three for best language . On the neurologic examination the patient was intermittently   \n",
       "4   Abdomen , soft , nontender . NIH stroke scale on presentation was 23 to 24 for , one for consciousness , two for month and year and two for eye / grip , 1to2 for gaze , two for face , eight for motor , one for limited ataxia , 1 to2 for sensory , three for best language . On the neurologic examination the patient was intermittently   \n",
       "5   Abdomen , soft , nontender . NIH stroke scale on presentation was 23 to 24 for , one for consciousness , two for month and year and two for eye / grip , 1to2 for gaze , two for face , eight for motor , one for limited ataxia , 1 to2 for sensory , three for best language . On the neurologic examination the patient was intermittently   \n",
       "6   Abdomen , soft , nontender . NIH stroke scale on presentation was 23 to 24 for , one for consciousness , two for month and year and two for eye / grip , 1to2 for gaze , two for face , eight for motor , one for limited ataxia , 1 to2 for sensory , three for best language . On the neurologic examination the patient was intermittently   \n",
       "7   Abdomen , soft , nontender . NIH stroke scale on presentation was 23 to 24 for , one for consciousness , two for month and year and two for eye / grip , 1to2 for gaze , two for face , eight for motor , one for limited ataxia , 1 to2 for sensory , three for best language . On the neurologic examination the patient was intermittently   \n",
       "8   Abdomen , soft , nontender . NIH stroke scale on presentation was 23 to 24 for , one for consciousness , two for month and year and two for eye / grip , 1to2 for gaze , two for face , eight for motor , one for limited ataxia , 1 to2 for sensory , three for best language . On the neurologic examination the patient was intermittently   \n",
       "9   Abdomen , soft , nontender . NIH stroke scale on presentation was 23 to 24 for , one for consciousness , two for month and year and two for eye / grip , 1to2 for gaze , two for face , eight for motor , one for limited ataxia , 1 to2 for sensory , three for best language . On the neurologic examination the patient was intermittently   \n",
       "10  Abdomen , soft , nontender . NIH stroke scale on presentation was 23 to 24 for , one for consciousness , two for month and year and two for eye / grip , 1to2 for gaze , two for face , eight for motor , one for limited ataxia , 1 to2 for sensory , three for best language . On the neurologic examination the patient was intermittently   \n",
       "11  Abdomen , soft , nontender . NIH stroke scale on presentation was 23 to 24 for , one for consciousness , two for month and year and two for eye / grip , 1to2 for gaze , two for face , eight for motor , one for limited ataxia , 1 to2 for sensory , three for best language . On the neurologic examination the patient was intermittently   \n",
       "12  Abdomen , soft , nontender . NIH stroke scale on presentation was 23 to 24 for , one for consciousness , two for month and year and two for eye / grip , 1to2 for gaze , two for face , eight for motor , one for limited ataxia , 1 to2 for sensory , three for best language . On the neurologic examination the patient was intermittently   \n",
       "13  Abdomen , soft , nontender . NIH stroke scale on presentation was 23 to 24 for , one for consciousness , two for month and year and two for eye / grip , 1to2 for gaze , two for face , eight for motor , one for limited ataxia , 1 to2 for sensory , three for best language . On the neurologic examination the patient was intermittently   \n",
       "14  Abdomen , soft , nontender . NIH stroke scale on presentation was 23 to 24 for , one for consciousness , two for month and year and two for eye / grip , 1to2 for gaze , two for face , eight for motor , one for limited ataxia , 1 to2 for sensory , three for best language . On the neurologic examination the patient was intermittently   \n",
       "15  Abdomen , soft , nontender . NIH stroke scale on presentation was 23 to 24 for , one for consciousness , two for month and year and two for eye / grip , 1to2 for gaze , two for face , eight for motor , one for limited ataxia , 1 to2 for sensory , three for best language . On the neurologic examination the patient was intermittently   \n",
       "16  Abdomen , soft , nontender . NIH stroke scale on presentation was 23 to 24 for , one for consciousness , two for month and year and two for eye / grip , 1to2 for gaze , two for face , eight for motor , one for limited ataxia , 1 to2 for sensory , three for best language . On the neurologic examination the patient was intermittently   \n",
       "17  Abdomen , soft , nontender . NIH stroke scale on presentation was 23 to 24 for , one for consciousness , two for month and year and two for eye / grip , 1to2 for gaze , two for face , eight for motor , one for limited ataxia , 1 to2 for sensory , three for best language . On the neurologic examination the patient was intermittently   \n",
       "18  Abdomen , soft , nontender . NIH stroke scale on presentation was 23 to 24 for , one for consciousness , two for month and year and two for eye / grip , 1to2 for gaze , two for face , eight for motor , one for limited ataxia , 1 to2 for sensory , three for best language . On the neurologic examination the patient was intermittently   \n",
       "19  Abdomen , soft , nontender . NIH stroke scale on presentation was 23 to 24 for , one for consciousness , two for month and year and two for eye / grip , 1to2 for gaze , two for face , eight for motor , one for limited ataxia , 1 to2 for sensory , three for best language . On the neurologic examination the patient was intermittently   \n",
       "\n",
       "           ner_chunk  begin  end        ner_label  confidence  \n",
       "0   NIH stroke scale     29   44            NIHSS   0.9729667  \n",
       "1           23 to 24     66   73      Measurement  0.86083335  \n",
       "2                one     81   83      Measurement      0.8693  \n",
       "3      consciousness     89  101           1a_LOC      0.6258  \n",
       "4                two    105  107      Measurement      0.9637  \n",
       "5     month and year    113  126  1b_LOCQuestions   0.8323667  \n",
       "6                two    132  134      Measurement      0.9711  \n",
       "7         eye / grip    140  149   1c_LOCCommands   0.9123667  \n",
       "8               1to2    153  156      Measurement      0.8095  \n",
       "9               gaze    162  165       2_BestGaze      0.9009  \n",
       "10               two    169  171      Measurement       0.979  \n",
       "11              face    177  180    4_FacialPalsy      0.8778  \n",
       "12             eight    184  188      Measurement      0.9287  \n",
       "13               one    202  204      Measurement      0.9445  \n",
       "14           limited    210  216     7_LimbAtaxia      0.9516  \n",
       "15            ataxia    218  223     7_LimbAtaxia      0.6029  \n",
       "16             1 to2    227  231      Measurement      0.7192  \n",
       "17           sensory    237  243        8_Sensory      0.9729  \n",
       "18             three    247  251      Measurement       0.812  \n",
       "19     best language    257  269   9_BestLanguage      0.6618  "
      ]
     },
     "metadata": {},
     "output_type": "display_data"
    }
   ],
   "source": [
    "data_dicts = [\n",
    "    {\n",
    "        \"text\": sample_text\n",
    "    }\n",
    "]\n",
    "\n",
    "process_data_and_invoke_realtime_endpoint(data_dicts)\n"
   ]
  },
  {
   "cell_type": "markdown",
   "metadata": {},
   "source": [
    "#### Example 2"
   ]
  },
  {
   "cell_type": "markdown",
   "metadata": {},
   "source": [
    "  **Input format**:\n",
    "  \n",
    "  \n",
    "```json\n",
    "{\n",
    "    \"text\": [\n",
    "        \"Text document 1\",\n",
    "        \"Text document 2\",\n",
    "        ...\n",
    "    ]\n",
    "}\n",
    "```"
   ]
  },
  {
   "cell_type": "code",
   "execution_count": 9,
   "metadata": {
    "tags": []
   },
   "outputs": [
    {
     "data": {
      "text/html": [
       "<div>\n",
       "<style scoped>\n",
       "    .dataframe tbody tr th:only-of-type {\n",
       "        vertical-align: middle;\n",
       "    }\n",
       "\n",
       "    .dataframe tbody tr th {\n",
       "        vertical-align: top;\n",
       "    }\n",
       "\n",
       "    .dataframe thead th {\n",
       "        text-align: right;\n",
       "    }\n",
       "</style>\n",
       "<table border=\"1\" class=\"dataframe\">\n",
       "  <thead>\n",
       "    <tr style=\"text-align: right;\">\n",
       "      <th></th>\n",
       "      <th>document</th>\n",
       "      <th>ner_chunk</th>\n",
       "      <th>begin</th>\n",
       "      <th>end</th>\n",
       "      <th>ner_label</th>\n",
       "      <th>confidence</th>\n",
       "    </tr>\n",
       "  </thead>\n",
       "  <tbody>\n",
       "    <tr>\n",
       "      <th>0</th>\n",
       "      <td>BS soft , nontender ext : no edema NIH Stroke scale 15 .   1a LOC , Neurologic examination : Mental status : Awake and mildly lethargic , cooperative with most of exam , flat affect . Oriented to person . Mildly inattentive with exam . In the ED he was found to have L arm and leg weakness . He had a NIH stroke scale of 15 . He received tPA at 0155 which placed him.</td>\n",
       "      <td>NIH Stroke scale</td>\n",
       "      <td>35</td>\n",
       "      <td>50</td>\n",
       "      <td>NIHSS</td>\n",
       "      <td>0.9928667</td>\n",
       "    </tr>\n",
       "    <tr>\n",
       "      <th>1</th>\n",
       "      <td>BS soft , nontender ext : no edema NIH Stroke scale 15 .   1a LOC , Neurologic examination : Mental status : Awake and mildly lethargic , cooperative with most of exam , flat affect . Oriented to person . Mildly inattentive with exam . In the ED he was found to have L arm and leg weakness . He had a NIH stroke scale of 15 . He received tPA at 0155 which placed him.</td>\n",
       "      <td>15</td>\n",
       "      <td>52</td>\n",
       "      <td>53</td>\n",
       "      <td>Measurement</td>\n",
       "      <td>0.9969</td>\n",
       "    </tr>\n",
       "    <tr>\n",
       "      <th>2</th>\n",
       "      <td>BS soft , nontender ext : no edema NIH Stroke scale 15 .   1a LOC , Neurologic examination : Mental status : Awake and mildly lethargic , cooperative with most of exam , flat affect . Oriented to person . Mildly inattentive with exam . In the ED he was found to have L arm and leg weakness . He had a NIH stroke scale of 15 . He received tPA at 0155 which placed him.</td>\n",
       "      <td>1a LOC</td>\n",
       "      <td>59</td>\n",
       "      <td>64</td>\n",
       "      <td>1a_LOC</td>\n",
       "      <td>0.99705</td>\n",
       "    </tr>\n",
       "    <tr>\n",
       "      <th>3</th>\n",
       "      <td>BS soft , nontender ext : no edema NIH Stroke scale 15 .   1a LOC , Neurologic examination : Mental status : Awake and mildly lethargic , cooperative with most of exam , flat affect . Oriented to person . Mildly inattentive with exam . In the ED he was found to have L arm and leg weakness . He had a NIH stroke scale of 15 . He received tPA at 0155 which placed him.</td>\n",
       "      <td>NIH stroke scale</td>\n",
       "      <td>301</td>\n",
       "      <td>316</td>\n",
       "      <td>NIHSS</td>\n",
       "      <td>0.9732</td>\n",
       "    </tr>\n",
       "    <tr>\n",
       "      <th>4</th>\n",
       "      <td>BS soft , nontender ext : no edema NIH Stroke scale 15 .   1a LOC , Neurologic examination : Mental status : Awake and mildly lethargic , cooperative with most of exam , flat affect . Oriented to person . Mildly inattentive with exam . In the ED he was found to have L arm and leg weakness . He had a NIH stroke scale of 15 . He received tPA at 0155 which placed him.</td>\n",
       "      <td>15</td>\n",
       "      <td>321</td>\n",
       "      <td>322</td>\n",
       "      <td>Measurement</td>\n",
       "      <td>0.9877</td>\n",
       "    </tr>\n",
       "    <tr>\n",
       "      <th>5</th>\n",
       "      <td>There , her initial NIHSS score was 4 , as recorded by the ED physicians . This included 2 for weakness in her left leg and 2 for what they felt was subtle ataxia in her left arm and leg .</td>\n",
       "      <td>NIHSS score</td>\n",
       "      <td>20</td>\n",
       "      <td>30</td>\n",
       "      <td>NIHSS</td>\n",
       "      <td>0.7844</td>\n",
       "    </tr>\n",
       "    <tr>\n",
       "      <th>6</th>\n",
       "      <td>There , her initial NIHSS score was 4 , as recorded by the ED physicians . This included 2 for weakness in her left leg and 2 for what they felt was subtle ataxia in her left arm and leg .</td>\n",
       "      <td>4</td>\n",
       "      <td>36</td>\n",
       "      <td>36</td>\n",
       "      <td>Measurement</td>\n",
       "      <td>0.9997</td>\n",
       "    </tr>\n",
       "    <tr>\n",
       "      <th>7</th>\n",
       "      <td>There , her initial NIHSS score was 4 , as recorded by the ED physicians . This included 2 for weakness in her left leg and 2 for what they felt was subtle ataxia in her left arm and leg .</td>\n",
       "      <td>2</td>\n",
       "      <td>89</td>\n",
       "      <td>89</td>\n",
       "      <td>Measurement</td>\n",
       "      <td>0.9942</td>\n",
       "    </tr>\n",
       "    <tr>\n",
       "      <th>8</th>\n",
       "      <td>There , her initial NIHSS score was 4 , as recorded by the ED physicians . This included 2 for weakness in her left leg and 2 for what they felt was subtle ataxia in her left arm and leg .</td>\n",
       "      <td>left leg</td>\n",
       "      <td>111</td>\n",
       "      <td>118</td>\n",
       "      <td>6a_LeftLeg</td>\n",
       "      <td>0.6089</td>\n",
       "    </tr>\n",
       "    <tr>\n",
       "      <th>9</th>\n",
       "      <td>There , her initial NIHSS score was 4 , as recorded by the ED physicians . This included 2 for weakness in her left leg and 2 for what they felt was subtle ataxia in her left arm and leg .</td>\n",
       "      <td>2</td>\n",
       "      <td>124</td>\n",
       "      <td>124</td>\n",
       "      <td>Measurement</td>\n",
       "      <td>0.9998</td>\n",
       "    </tr>\n",
       "    <tr>\n",
       "      <th>10</th>\n",
       "      <td>There , her initial NIHSS score was 4 , as recorded by the ED physicians . This included 2 for weakness in her left leg and 2 for what they felt was subtle ataxia in her left arm and leg .</td>\n",
       "      <td>ataxia in her left arm and leg</td>\n",
       "      <td>156</td>\n",
       "      <td>185</td>\n",
       "      <td>7_LimbAtaxia</td>\n",
       "      <td>0.9308715</td>\n",
       "    </tr>\n",
       "  </tbody>\n",
       "</table>\n",
       "</div>"
      ],
      "text/plain": [
       "                                                                                                                                                                                                                                                                                                                                                                           document  \\\n",
       "0   BS soft , nontender ext : no edema NIH Stroke scale 15 .   1a LOC , Neurologic examination : Mental status : Awake and mildly lethargic , cooperative with most of exam , flat affect . Oriented to person . Mildly inattentive with exam . In the ED he was found to have L arm and leg weakness . He had a NIH stroke scale of 15 . He received tPA at 0155 which placed him.   \n",
       "1   BS soft , nontender ext : no edema NIH Stroke scale 15 .   1a LOC , Neurologic examination : Mental status : Awake and mildly lethargic , cooperative with most of exam , flat affect . Oriented to person . Mildly inattentive with exam . In the ED he was found to have L arm and leg weakness . He had a NIH stroke scale of 15 . He received tPA at 0155 which placed him.   \n",
       "2   BS soft , nontender ext : no edema NIH Stroke scale 15 .   1a LOC , Neurologic examination : Mental status : Awake and mildly lethargic , cooperative with most of exam , flat affect . Oriented to person . Mildly inattentive with exam . In the ED he was found to have L arm and leg weakness . He had a NIH stroke scale of 15 . He received tPA at 0155 which placed him.   \n",
       "3   BS soft , nontender ext : no edema NIH Stroke scale 15 .   1a LOC , Neurologic examination : Mental status : Awake and mildly lethargic , cooperative with most of exam , flat affect . Oriented to person . Mildly inattentive with exam . In the ED he was found to have L arm and leg weakness . He had a NIH stroke scale of 15 . He received tPA at 0155 which placed him.   \n",
       "4   BS soft , nontender ext : no edema NIH Stroke scale 15 .   1a LOC , Neurologic examination : Mental status : Awake and mildly lethargic , cooperative with most of exam , flat affect . Oriented to person . Mildly inattentive with exam . In the ED he was found to have L arm and leg weakness . He had a NIH stroke scale of 15 . He received tPA at 0155 which placed him.   \n",
       "5                                                                                                                                                                                      There , her initial NIHSS score was 4 , as recorded by the ED physicians . This included 2 for weakness in her left leg and 2 for what they felt was subtle ataxia in her left arm and leg .   \n",
       "6                                                                                                                                                                                      There , her initial NIHSS score was 4 , as recorded by the ED physicians . This included 2 for weakness in her left leg and 2 for what they felt was subtle ataxia in her left arm and leg .   \n",
       "7                                                                                                                                                                                      There , her initial NIHSS score was 4 , as recorded by the ED physicians . This included 2 for weakness in her left leg and 2 for what they felt was subtle ataxia in her left arm and leg .   \n",
       "8                                                                                                                                                                                      There , her initial NIHSS score was 4 , as recorded by the ED physicians . This included 2 for weakness in her left leg and 2 for what they felt was subtle ataxia in her left arm and leg .   \n",
       "9                                                                                                                                                                                      There , her initial NIHSS score was 4 , as recorded by the ED physicians . This included 2 for weakness in her left leg and 2 for what they felt was subtle ataxia in her left arm and leg .   \n",
       "10                                                                                                                                                                                     There , her initial NIHSS score was 4 , as recorded by the ED physicians . This included 2 for weakness in her left leg and 2 for what they felt was subtle ataxia in her left arm and leg .   \n",
       "\n",
       "                         ner_chunk  begin  end     ner_label confidence  \n",
       "0                 NIH Stroke scale     35   50         NIHSS  0.9928667  \n",
       "1                               15     52   53   Measurement     0.9969  \n",
       "2                           1a LOC     59   64        1a_LOC    0.99705  \n",
       "3                 NIH stroke scale    301  316         NIHSS     0.9732  \n",
       "4                               15    321  322   Measurement     0.9877  \n",
       "5                      NIHSS score     20   30         NIHSS     0.7844  \n",
       "6                                4     36   36   Measurement     0.9997  \n",
       "7                                2     89   89   Measurement     0.9942  \n",
       "8                         left leg    111  118    6a_LeftLeg     0.6089  \n",
       "9                                2    124  124   Measurement     0.9998  \n",
       "10  ataxia in her left arm and leg    156  185  7_LimbAtaxia  0.9308715  "
      ]
     },
     "metadata": {},
     "output_type": "display_data"
    }
   ],
   "source": [
    "data_dicts = [\n",
    "    {\n",
    "        \"text\": docs\n",
    "    }\n",
    "]\n",
    "\n",
    "process_data_and_invoke_realtime_endpoint(data_dicts)"
   ]
  },
  {
   "cell_type": "markdown",
   "metadata": {},
   "source": [
    "### C. Delete the endpoint"
   ]
  },
  {
   "cell_type": "markdown",
   "metadata": {},
   "source": [
    "Now that you have successfully performed a real-time inference, you do not need the endpoint any more. You can terminate the endpoint to avoid being charged."
   ]
  },
  {
   "cell_type": "code",
   "execution_count": 10,
   "metadata": {
    "tags": []
   },
   "outputs": [],
   "source": [
    "model.sagemaker_session.delete_endpoint(model_name)\n",
    "model.sagemaker_session.delete_endpoint_config(model_name)"
   ]
  },
  {
   "cell_type": "markdown",
   "metadata": {
    "tags": []
   },
   "source": [
    "## 3. Batch inference"
   ]
  },
  {
   "cell_type": "code",
   "execution_count": 11,
   "metadata": {
    "tags": []
   },
   "outputs": [],
   "source": [
    "import os\n",
    "\n",
    "validation_file_name = \"input.json\"\n",
    "\n",
    "validation_input_path = f\"s3://{s3_bucket}/{model_name}/validation-input-json/batch\"\n",
    "validation_output_path = f\"s3://{s3_bucket}/{model_name}/validation-output-json/batch\"\n",
    "\n",
    "input_dir = 'inputs/batch'\n",
    "output_dir = 'outputs/batch'\n",
    "\n",
    "os.makedirs(input_dir, exist_ok=True)\n",
    "os.makedirs(output_dir, exist_ok=True)"
   ]
  },
  {
   "cell_type": "code",
   "execution_count": 12,
   "metadata": {
    "tags": []
   },
   "outputs": [],
   "source": [
    "import json\n",
    "\n",
    "def write_and_upload_to_s3(json_input_data, file_name):\n",
    "\n",
    "    json_data = json.dumps(json_input_data)\n",
    "\n",
    "    with open(file_name, \"w\") as f:\n",
    "        f.write(json_data)\n",
    "\n",
    "    s3_client.put_object(\n",
    "        Bucket=s3_bucket,\n",
    "        Key=f\"{model_name}/validation-input-json/batch/{os.path.basename(file_name)}\",\n",
    "        Body=(bytes(json_data.encode(\"UTF-8\"))),\n",
    "    )\n"
   ]
  },
  {
   "cell_type": "code",
   "execution_count": 13,
   "metadata": {
    "tags": []
   },
   "outputs": [],
   "source": [
    "# Define input JSON data for each validation file\n",
    "input_json_data = {\"text\": docs}\n",
    "\n",
    "write_and_upload_to_s3(input_json_data, f\"{input_dir}/{validation_file_name}\")"
   ]
  },
  {
   "cell_type": "code",
   "execution_count": null,
   "metadata": {
    "tags": []
   },
   "outputs": [],
   "source": [
    "# Initialize a SageMaker Transformer object for making predictions\n",
    "transformer = model.transformer(\n",
    "    instance_count=1,\n",
    "    instance_type=batch_transform_inference_instance_type,\n",
    "    accept=\"application/json\",\n",
    ")\n",
    "transformer.transform(validation_input_path, content_type=content_type)\n",
    "transformer.wait()"
   ]
  },
  {
   "cell_type": "code",
   "execution_count": 15,
   "metadata": {
    "tags": []
   },
   "outputs": [],
   "source": [
    "from urllib.parse import urlparse\n",
    "\n",
    "def process_s3_output_and_save(validation_file_name, output_file_name):\n",
    "\n",
    "    output_file_path = f\"{output_dir}/{output_file_name}\"\n",
    "    parsed_url = urlparse(transformer.output_path)\n",
    "    file_key = f\"{parsed_url.path[1:]}/{validation_file_name}.out\"\n",
    "    response = s3_client.get_object(Bucket=s3_bucket, Key=file_key)\n",
    "\n",
    "    data = json.loads(response[\"Body\"].read().decode(\"utf-8\"))\n",
    "    df = pd.DataFrame(data[\"predictions\"])\n",
    "    display(df)\n",
    "\n",
    "    # Save the data to the output file\n",
    "    with open(output_file_path, 'w') as f_out:\n",
    "        json.dump(data, f_out, indent=4)"
   ]
  },
  {
   "cell_type": "code",
   "execution_count": 16,
   "metadata": {
    "tags": []
   },
   "outputs": [
    {
     "data": {
      "text/html": [
       "<div>\n",
       "<style scoped>\n",
       "    .dataframe tbody tr th:only-of-type {\n",
       "        vertical-align: middle;\n",
       "    }\n",
       "\n",
       "    .dataframe tbody tr th {\n",
       "        vertical-align: top;\n",
       "    }\n",
       "\n",
       "    .dataframe thead th {\n",
       "        text-align: right;\n",
       "    }\n",
       "</style>\n",
       "<table border=\"1\" class=\"dataframe\">\n",
       "  <thead>\n",
       "    <tr style=\"text-align: right;\">\n",
       "      <th></th>\n",
       "      <th>document</th>\n",
       "      <th>ner_chunk</th>\n",
       "      <th>begin</th>\n",
       "      <th>end</th>\n",
       "      <th>ner_label</th>\n",
       "      <th>confidence</th>\n",
       "    </tr>\n",
       "  </thead>\n",
       "  <tbody>\n",
       "    <tr>\n",
       "      <th>0</th>\n",
       "      <td>BS soft , nontender ext : no edema NIH Stroke scale 15 .   1a LOC , Neurologic examination : Mental status : Awake and mildly lethargic , cooperative with most of exam , flat affect . Oriented to person . Mildly inattentive with exam . In the ED he was found to have L arm and leg weakness . He had a NIH stroke scale of 15 . He received tPA at 0155 which placed him.</td>\n",
       "      <td>NIH Stroke scale</td>\n",
       "      <td>35</td>\n",
       "      <td>50</td>\n",
       "      <td>NIHSS</td>\n",
       "      <td>0.9928667</td>\n",
       "    </tr>\n",
       "    <tr>\n",
       "      <th>1</th>\n",
       "      <td>BS soft , nontender ext : no edema NIH Stroke scale 15 .   1a LOC , Neurologic examination : Mental status : Awake and mildly lethargic , cooperative with most of exam , flat affect . Oriented to person . Mildly inattentive with exam . In the ED he was found to have L arm and leg weakness . He had a NIH stroke scale of 15 . He received tPA at 0155 which placed him.</td>\n",
       "      <td>15</td>\n",
       "      <td>52</td>\n",
       "      <td>53</td>\n",
       "      <td>Measurement</td>\n",
       "      <td>0.9969</td>\n",
       "    </tr>\n",
       "    <tr>\n",
       "      <th>2</th>\n",
       "      <td>BS soft , nontender ext : no edema NIH Stroke scale 15 .   1a LOC , Neurologic examination : Mental status : Awake and mildly lethargic , cooperative with most of exam , flat affect . Oriented to person . Mildly inattentive with exam . In the ED he was found to have L arm and leg weakness . He had a NIH stroke scale of 15 . He received tPA at 0155 which placed him.</td>\n",
       "      <td>1a LOC</td>\n",
       "      <td>59</td>\n",
       "      <td>64</td>\n",
       "      <td>1a_LOC</td>\n",
       "      <td>0.99705</td>\n",
       "    </tr>\n",
       "    <tr>\n",
       "      <th>3</th>\n",
       "      <td>BS soft , nontender ext : no edema NIH Stroke scale 15 .   1a LOC , Neurologic examination : Mental status : Awake and mildly lethargic , cooperative with most of exam , flat affect . Oriented to person . Mildly inattentive with exam . In the ED he was found to have L arm and leg weakness . He had a NIH stroke scale of 15 . He received tPA at 0155 which placed him.</td>\n",
       "      <td>NIH stroke scale</td>\n",
       "      <td>301</td>\n",
       "      <td>316</td>\n",
       "      <td>NIHSS</td>\n",
       "      <td>0.9732</td>\n",
       "    </tr>\n",
       "    <tr>\n",
       "      <th>4</th>\n",
       "      <td>BS soft , nontender ext : no edema NIH Stroke scale 15 .   1a LOC , Neurologic examination : Mental status : Awake and mildly lethargic , cooperative with most of exam , flat affect . Oriented to person . Mildly inattentive with exam . In the ED he was found to have L arm and leg weakness . He had a NIH stroke scale of 15 . He received tPA at 0155 which placed him.</td>\n",
       "      <td>15</td>\n",
       "      <td>321</td>\n",
       "      <td>322</td>\n",
       "      <td>Measurement</td>\n",
       "      <td>0.9877</td>\n",
       "    </tr>\n",
       "    <tr>\n",
       "      <th>5</th>\n",
       "      <td>There , her initial NIHSS score was 4 , as recorded by the ED physicians . This included 2 for weakness in her left leg and 2 for what they felt was subtle ataxia in her left arm and leg .</td>\n",
       "      <td>NIHSS score</td>\n",
       "      <td>20</td>\n",
       "      <td>30</td>\n",
       "      <td>NIHSS</td>\n",
       "      <td>0.7844</td>\n",
       "    </tr>\n",
       "    <tr>\n",
       "      <th>6</th>\n",
       "      <td>There , her initial NIHSS score was 4 , as recorded by the ED physicians . This included 2 for weakness in her left leg and 2 for what they felt was subtle ataxia in her left arm and leg .</td>\n",
       "      <td>4</td>\n",
       "      <td>36</td>\n",
       "      <td>36</td>\n",
       "      <td>Measurement</td>\n",
       "      <td>0.9997</td>\n",
       "    </tr>\n",
       "    <tr>\n",
       "      <th>7</th>\n",
       "      <td>There , her initial NIHSS score was 4 , as recorded by the ED physicians . This included 2 for weakness in her left leg and 2 for what they felt was subtle ataxia in her left arm and leg .</td>\n",
       "      <td>2</td>\n",
       "      <td>89</td>\n",
       "      <td>89</td>\n",
       "      <td>Measurement</td>\n",
       "      <td>0.9942</td>\n",
       "    </tr>\n",
       "    <tr>\n",
       "      <th>8</th>\n",
       "      <td>There , her initial NIHSS score was 4 , as recorded by the ED physicians . This included 2 for weakness in her left leg and 2 for what they felt was subtle ataxia in her left arm and leg .</td>\n",
       "      <td>left leg</td>\n",
       "      <td>111</td>\n",
       "      <td>118</td>\n",
       "      <td>6a_LeftLeg</td>\n",
       "      <td>0.6089</td>\n",
       "    </tr>\n",
       "    <tr>\n",
       "      <th>9</th>\n",
       "      <td>There , her initial NIHSS score was 4 , as recorded by the ED physicians . This included 2 for weakness in her left leg and 2 for what they felt was subtle ataxia in her left arm and leg .</td>\n",
       "      <td>2</td>\n",
       "      <td>124</td>\n",
       "      <td>124</td>\n",
       "      <td>Measurement</td>\n",
       "      <td>0.9998</td>\n",
       "    </tr>\n",
       "    <tr>\n",
       "      <th>10</th>\n",
       "      <td>There , her initial NIHSS score was 4 , as recorded by the ED physicians . This included 2 for weakness in her left leg and 2 for what they felt was subtle ataxia in her left arm and leg .</td>\n",
       "      <td>ataxia in her left arm and leg</td>\n",
       "      <td>156</td>\n",
       "      <td>185</td>\n",
       "      <td>7_LimbAtaxia</td>\n",
       "      <td>0.9308715</td>\n",
       "    </tr>\n",
       "  </tbody>\n",
       "</table>\n",
       "</div>"
      ],
      "text/plain": [
       "                                                                                                                                                                                                                                                                                                                                                                           document  \\\n",
       "0   BS soft , nontender ext : no edema NIH Stroke scale 15 .   1a LOC , Neurologic examination : Mental status : Awake and mildly lethargic , cooperative with most of exam , flat affect . Oriented to person . Mildly inattentive with exam . In the ED he was found to have L arm and leg weakness . He had a NIH stroke scale of 15 . He received tPA at 0155 which placed him.   \n",
       "1   BS soft , nontender ext : no edema NIH Stroke scale 15 .   1a LOC , Neurologic examination : Mental status : Awake and mildly lethargic , cooperative with most of exam , flat affect . Oriented to person . Mildly inattentive with exam . In the ED he was found to have L arm and leg weakness . He had a NIH stroke scale of 15 . He received tPA at 0155 which placed him.   \n",
       "2   BS soft , nontender ext : no edema NIH Stroke scale 15 .   1a LOC , Neurologic examination : Mental status : Awake and mildly lethargic , cooperative with most of exam , flat affect . Oriented to person . Mildly inattentive with exam . In the ED he was found to have L arm and leg weakness . He had a NIH stroke scale of 15 . He received tPA at 0155 which placed him.   \n",
       "3   BS soft , nontender ext : no edema NIH Stroke scale 15 .   1a LOC , Neurologic examination : Mental status : Awake and mildly lethargic , cooperative with most of exam , flat affect . Oriented to person . Mildly inattentive with exam . In the ED he was found to have L arm and leg weakness . He had a NIH stroke scale of 15 . He received tPA at 0155 which placed him.   \n",
       "4   BS soft , nontender ext : no edema NIH Stroke scale 15 .   1a LOC , Neurologic examination : Mental status : Awake and mildly lethargic , cooperative with most of exam , flat affect . Oriented to person . Mildly inattentive with exam . In the ED he was found to have L arm and leg weakness . He had a NIH stroke scale of 15 . He received tPA at 0155 which placed him.   \n",
       "5                                                                                                                                                                                      There , her initial NIHSS score was 4 , as recorded by the ED physicians . This included 2 for weakness in her left leg and 2 for what they felt was subtle ataxia in her left arm and leg .   \n",
       "6                                                                                                                                                                                      There , her initial NIHSS score was 4 , as recorded by the ED physicians . This included 2 for weakness in her left leg and 2 for what they felt was subtle ataxia in her left arm and leg .   \n",
       "7                                                                                                                                                                                      There , her initial NIHSS score was 4 , as recorded by the ED physicians . This included 2 for weakness in her left leg and 2 for what they felt was subtle ataxia in her left arm and leg .   \n",
       "8                                                                                                                                                                                      There , her initial NIHSS score was 4 , as recorded by the ED physicians . This included 2 for weakness in her left leg and 2 for what they felt was subtle ataxia in her left arm and leg .   \n",
       "9                                                                                                                                                                                      There , her initial NIHSS score was 4 , as recorded by the ED physicians . This included 2 for weakness in her left leg and 2 for what they felt was subtle ataxia in her left arm and leg .   \n",
       "10                                                                                                                                                                                     There , her initial NIHSS score was 4 , as recorded by the ED physicians . This included 2 for weakness in her left leg and 2 for what they felt was subtle ataxia in her left arm and leg .   \n",
       "\n",
       "                         ner_chunk  begin  end     ner_label confidence  \n",
       "0                 NIH Stroke scale     35   50         NIHSS  0.9928667  \n",
       "1                               15     52   53   Measurement     0.9969  \n",
       "2                           1a LOC     59   64        1a_LOC    0.99705  \n",
       "3                 NIH stroke scale    301  316         NIHSS     0.9732  \n",
       "4                               15    321  322   Measurement     0.9877  \n",
       "5                      NIHSS score     20   30         NIHSS     0.7844  \n",
       "6                                4     36   36   Measurement     0.9997  \n",
       "7                                2     89   89   Measurement     0.9942  \n",
       "8                         left leg    111  118    6a_LeftLeg     0.6089  \n",
       "9                                2    124  124   Measurement     0.9998  \n",
       "10  ataxia in her left arm and leg    156  185  7_LimbAtaxia  0.9308715  "
      ]
     },
     "metadata": {},
     "output_type": "display_data"
    }
   ],
   "source": [
    "process_s3_output_and_save(validation_file_name, \"out.out\")"
   ]
  },
  {
   "cell_type": "code",
   "execution_count": 17,
   "metadata": {
    "tags": []
   },
   "outputs": [
    {
     "name": "stderr",
     "output_type": "stream",
     "text": [
      "INFO:sagemaker:Deleting model with name: en-med-ner-nihss-pipeline-2024-03-21-08-43-10-228\n"
     ]
    }
   ],
   "source": [
    "model.delete_model()"
   ]
  },
  {
   "cell_type": "markdown",
   "metadata": {},
   "source": [
    "### Unsubscribe to the listing (optional)"
   ]
  },
  {
   "cell_type": "markdown",
   "metadata": {
    "tags": []
   },
   "source": [
    "If you would like to unsubscribe to the model package, follow these steps. Before you cancel the subscription, ensure that you do not have any [deployable model](https://console.aws.amazon.com/sagemaker/home#/models) created from the model package or using the algorithm. Note - You can find this information by looking at the container name associated with the model. \n",
    "\n",
    "**Steps to unsubscribe to product from AWS Marketplace**:\n",
    "1. Navigate to __Machine Learning__ tab on [__Your Software subscriptions page__](https://aws.amazon.com/marketplace/ai/library?productType=ml&ref_=mlmp_gitdemo_indust)\n",
    "2. Locate the listing that you want to cancel the subscription for, and then choose __Cancel Subscription__  to cancel the subscription.\n",
    "\n"
   ]
  }
 ],
 "metadata": {
  "instance_type": "ml.t3.medium",
  "kernelspec": {
   "display_name": "conda_python3",
   "language": "python",
   "name": "conda_python3"
  },
  "language_info": {
   "codemirror_mode": {
    "name": "ipython",
    "version": 3
   },
   "file_extension": ".py",
   "mimetype": "text/x-python",
   "name": "python",
   "nbconvert_exporter": "python",
   "pygments_lexer": "ipython3",
   "version": "3.10.13"
  }
 },
 "nbformat": 4,
 "nbformat_minor": 4
}

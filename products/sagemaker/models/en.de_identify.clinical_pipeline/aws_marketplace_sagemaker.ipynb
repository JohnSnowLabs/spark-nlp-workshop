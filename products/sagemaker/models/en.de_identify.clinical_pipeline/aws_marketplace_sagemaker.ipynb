{
 "cells": [
  {
   "cell_type": "markdown",
   "metadata": {},
   "source": [
    "## 1. Subscribe to the model package"
   ]
  },
  {
   "cell_type": "markdown",
   "metadata": {},
   "source": [
    "To subscribe to the model package:\n",
    "1. Open the model package listing page <font color='red'> For Seller to update:[Title_of_your_product](Provide link to your marketplace listing of your product).</font>\n",
    "1. On the AWS Marketplace listing, click on the **Continue to subscribe** button.\n",
    "1. On the **Subscribe to this software** page, review and click on **\"Accept Offer\"** if you and your organization agrees with EULA, pricing, and support terms. \n",
    "1. Once you click on **Continue to configuration button** and then choose a **region**, you will see a **Product Arn** displayed. This is the model package ARN that you need to specify while creating a deployable model using Boto3. Copy the ARN corresponding to your region and specify the same in the following cell."
   ]
  },
  {
   "cell_type": "markdown",
   "metadata": {},
   "source": [
    "# Deidentification in Healthcare with Spark NLP\n",
    "\n",
    "## Background\n",
    "\n",
    "Deidentification plays a vital role in utilizing structured or unstructured clinical text for research and other purposes while safeguarding patient privacy and confidentiality. The John Snow Labs team has dedicated significant efforts to developing methods and corpora for the deidentification of clinical texts, PDFs, images, DICOM files, etc., containing Protected Health Information (PHI). PHI encompasses a wide range of data, including:\n",
    "\n",
    "- Individual’s past, present, or future physical or mental health or condition.\n",
    "- Provision of health care to the individual.\n",
    "- Past, present, or future payment for the health care.\n",
    "\n",
    "This information includes many common identifiers (e.g., name, address, birth date, Social Security Number) when they can be associated with health information.\n",
    "\n",
    "## Spark NLP for Healthcare's Approach\n",
    "\n",
    "Spark NLP for Healthcare offers several techniques and strategies for deidentification, including the following model:\n",
    "\n",
    "- **Model**: `en.de_identify.clinical_pipeline`\n",
    "- **Model Description**: Capable of deidentifying PHI information from medical texts by masking and obfuscating sensitive data. The pipeline can effectively handle entities such as AGE, CONTACT, DATE, ID, LOCATION, NAME, PROFESSION, CITY, COUNTRY, DOCTOR, HOSPITAL, IDNUM, MEDICALRECORD, ORGANIZATION, PATIENT, PHONE, STREET, USERNAME, ZIP, ACCOUNT, LICENSE, VIN, SSN, DLN, PLATE, IPADDR, EMAIL, and more, providing masked or obfuscated output.\n",
    "\n",
    "\n"
   ]
  },
  {
   "cell_type": "code",
   "execution_count": 45,
   "metadata": {
    "tags": []
   },
   "outputs": [],
   "source": [
    "model_package_arn = \"<Customer to specify Model package ARN corresponding to their AWS region>\""
   ]
  },
  {
   "cell_type": "code",
   "execution_count": 46,
   "metadata": {
    "tags": []
   },
   "outputs": [],
   "source": [
    "import base64\n",
    "import json\n",
    "import uuid\n",
    "from sagemaker import ModelPackage\n",
    "import sagemaker as sage\n",
    "from sagemaker import get_execution_role\n",
    "import boto3\n",
    "from IPython.display import Image, display\n",
    "from PIL import Image as ImageEdit\n",
    "import numpy as np"
   ]
  },
  {
   "cell_type": "code",
   "execution_count": 47,
   "metadata": {
    "tags": []
   },
   "outputs": [],
   "source": [
    "sagemaker_session = sage.Session()\n",
    "s3_bucket = sagemaker_session.default_bucket()\n",
    "region = sagemaker_session.boto_region_name\n",
    "account_id = boto3.client(\"sts\").get_caller_identity().get(\"Account\")\n",
    "role = get_execution_role()\n",
    "\n",
    "sagemaker = boto3.client(\"sagemaker\")\n",
    "s3_client = sagemaker_session.boto_session.client(\"s3\")\n",
    "ecr = boto3.client(\"ecr\")\n",
    "sm_runtime = boto3.client(\"sagemaker-runtime\")"
   ]
  },
  {
   "cell_type": "markdown",
   "metadata": {},
   "source": [
    "## 2. Create an endpoint and perform real-time inference"
   ]
  },
  {
   "cell_type": "markdown",
   "metadata": {},
   "source": [
    "If you want to understand how real-time inference with Amazon SageMaker works, see [Documentation](https://docs.aws.amazon.com/sagemaker/latest/dg/how-it-works-hosting.html)."
   ]
  },
  {
   "cell_type": "code",
   "execution_count": 48,
   "metadata": {
    "tags": []
   },
   "outputs": [],
   "source": [
    "model_name = \"en-de-identify-clinical-pipeline\"\n",
    "\n",
    "content_type = \"application/json\"\n",
    "\n",
    "real_time_inference_instance_type = \"ml.m4.xlarge\"\n",
    "batch_transform_inference_instance_type = \"ml.m4.xlarge\"\n"
   ]
  },
  {
   "cell_type": "markdown",
   "metadata": {},
   "source": [
    "### A. Create an endpoint"
   ]
  },
  {
   "cell_type": "code",
   "execution_count": 49,
   "metadata": {
    "tags": []
   },
   "outputs": [
    {
     "name": "stderr",
     "output_type": "stream",
     "text": [
      "INFO:sagemaker:Creating model with name: jsl-deidentify-clinical-pipeline-2024-02-19-16-04-44-671\n",
      "INFO:sagemaker:Creating endpoint-config with name en-de-identify-clinical-pipeline\n",
      "INFO:sagemaker:Creating endpoint with name en-de-identify-clinical-pipeline\n"
     ]
    },
    {
     "name": "stdout",
     "output_type": "stream",
     "text": [
      "-------------------!"
     ]
    }
   ],
   "source": [
    "# create a deployable model from the model package.\n",
    "model = ModelPackage(\n",
    "    role=role, model_package_arn=model_package_arn, sagemaker_session=sagemaker_session\n",
    ")\n",
    "\n",
    "# Deploy the model\n",
    "predictor = model.deploy(1, real_time_inference_instance_type, endpoint_name=model_name)"
   ]
  },
  {
   "cell_type": "markdown",
   "metadata": {},
   "source": [
    "Once endpoint has been created, you would be able to perform real-time inference."
   ]
  },
  {
   "cell_type": "markdown",
   "metadata": {},
   "source": [
    "### B. Perform real-time inference"
   ]
  },
  {
   "cell_type": "markdown",
   "metadata": {},
   "source": [
    "  **Input format**:\n",
    "  \n",
    "  \n",
    "  {\"**text**\": \"Input Text that is to be Deidentified\",\n",
    "    \"**masking_policy**\":\"Deidentification-Policy we want to follow\"\n",
    "    }"
   ]
  },
  {
   "cell_type": "code",
   "execution_count": 52,
   "metadata": {
    "tags": []
   },
   "outputs": [],
   "source": [
    "import json\n",
    "import pandas as pd\n",
    "import os\n",
    "import boto3\n",
    "\n",
    "\n",
    "# Set display options\n",
    "pd.set_option('display.max_rows', None)  \n",
    "pd.set_option('display.max_columns', None)  \n",
    "pd.set_option('display.max_colwidth', None) \n",
    "\n",
    "\n",
    "def process_data_and_invoke_realtime_endpoint(data_dicts):\n",
    "    for data_dict in data_dicts:\n",
    "        json_input_data = json.dumps(data_dict)\n",
    "        \n",
    "        i = 1\n",
    "        input_file_name = f'inputs/real-time/input{i}.json'\n",
    "        output_file_name = f'outputs/real-time/out{i}.out'\n",
    "        \n",
    "        while os.path.exists(input_file_name) or os.path.exists(output_file_name):\n",
    "            i += 1\n",
    "            input_file_name = f'inputs/real-time/input{i}.json'\n",
    "            output_file_name = f'outputs/real-time/out{i}.out'\n",
    "\n",
    "        os.makedirs(os.path.dirname(input_file_name), exist_ok=True)\n",
    "        os.makedirs(os.path.dirname(output_file_name), exist_ok=True)\n",
    "        \n",
    "        with open(input_file_name, 'w') as f:\n",
    "            f.write(json_input_data)\n",
    "        \n",
    "        s3_client.put_object(Bucket=s3_bucket, Key=f\"validation-input-json/{os.path.basename(input_file_name)}\", Body=bytes(json_input_data.encode('UTF-8')))\n",
    "        \n",
    "        response = sm_runtime.invoke_endpoint(\n",
    "            EndpointName=model_name,\n",
    "            ContentType=content_type,\n",
    "            Accept=\"application/json\",\n",
    "            Body=json_input_data,\n",
    "        )\n",
    "\n",
    "        # Process response\n",
    "        response_data = json.loads(response[\"Body\"].read().decode(\"utf-8\"))\n",
    "        masking_policy = data_dict.get(\"masking_policy\", \"masked\")\n",
    "        print(f\"Masking Policy: {masking_policy}\") \n",
    "        df = pd.DataFrame([response_data]) \n",
    "        display(df)\n",
    "        \n",
    "        # Save response data to file\n",
    "        with open(output_file_name, 'w') as f_out:\n",
    "            json.dump(response_data, f_out, indent=4)\n"
   ]
  },
  {
   "cell_type": "markdown",
   "metadata": {},
   "source": [
    "## Masking Policies\n",
    "\n",
    "Users can select a masking policy to determine how sensitive entities are handled:\n",
    "\n",
    "- **masked**: Default policy that masks entities with their type.\n",
    "  \n",
    "  Example: \"My name is Mike. I was admitted to the hospital yesterday.\"  \n",
    "  -> \"My name is `<PATIENT>`. I was admitted to the hospital yesterday.\"\n",
    "\n",
    "- **obfuscated**: Replaces sensitive entities with random values of the same type.\n",
    "  \n",
    "  Example: \"My name is Mike. I was admitted to the hospital yesterday.\"  \n",
    "  -> \"My name is `Barbaraann Share`. I was admitted to the hospital yesterday.\"\n",
    "\n",
    "- **masked_fixed_length_chars**: Masks entities with a fixed length of asterisks (*).\n",
    "  \n",
    "  Example: \"Name: Hendrickson, Ora, Record date: 2093-01-13, # 719435. Dr. John Green, E-MAIL: green@gmail.com.\"  \n",
    "  -> \"Name: `****`, Record date: `****`, # `****`. Dr. `****`, E-MAIL: `****`.\"\n",
    "\n",
    "- **masked_with_chars**: Masks entities with asterisks (*).\n",
    "  \n",
    "  Example: \"Name: Hendrickson, Ora, Record date: 2093-01-13, # 719435. Dr. John Green, E-MAIL: green@gmail.com.\"  \n",
    "  -> \"Name: `[**************]`, Record date: `[********]`, # `[****]`. Dr. `[********]`, E-MAIL: `[*************]`.\""
   ]
  },
  {
   "cell_type": "markdown",
   "metadata": {
    "tags": []
   },
   "source": [
    "### masked (default-policy) "
   ]
  },
  {
   "cell_type": "code",
   "execution_count": 53,
   "metadata": {
    "tags": []
   },
   "outputs": [
    {
     "name": "stdout",
     "output_type": "stream",
     "text": [
      "Masking Policy: masked\n"
     ]
    },
    {
     "data": {
      "text/html": [
       "<div>\n",
       "<style scoped>\n",
       "    .dataframe tbody tr th:only-of-type {\n",
       "        vertical-align: middle;\n",
       "    }\n",
       "\n",
       "    .dataframe tbody tr th {\n",
       "        vertical-align: top;\n",
       "    }\n",
       "\n",
       "    .dataframe thead th {\n",
       "        text-align: right;\n",
       "    }\n",
       "</style>\n",
       "<table border=\"1\" class=\"dataframe\">\n",
       "  <thead>\n",
       "    <tr style=\"text-align: right;\">\n",
       "      <th></th>\n",
       "      <th>predictions</th>\n",
       "    </tr>\n",
       "  </thead>\n",
       "  <tbody>\n",
       "    <tr>\n",
       "      <th>0</th>\n",
       "      <td>[Name : &lt;PATIENT&gt;, Record date: &lt;DATE&gt;, # &lt;DEVICE&gt;.  Dr. &lt;DOCTOR&gt;,  E-MAIL: &lt;EMAIL&gt;.]</td>\n",
       "    </tr>\n",
       "  </tbody>\n",
       "</table>\n",
       "</div>"
      ],
      "text/plain": [
       "                                                                             predictions\n",
       "0  [Name : <PATIENT>, Record date: <DATE>, # <DEVICE>.  Dr. <DOCTOR>,  E-MAIL: <EMAIL>.]"
      ]
     },
     "metadata": {},
     "output_type": "display_data"
    }
   ],
   "source": [
    "# Example usage:\n",
    "data_dicts = [\n",
    "    {\"text\": \"Name : Hendrickson, Ora, Record date: 2093-01-13, # 719435. Dr. John Green,  E-MAIL: green@gmail.com.\"},\n",
    "]\n",
    "process_data_and_invoke_realtime_endpoint(data_dicts)\n"
   ]
  },
  {
   "cell_type": "markdown",
   "metadata": {
    "tags": []
   },
   "source": [
    "### obfuscated"
   ]
  },
  {
   "cell_type": "code",
   "execution_count": 54,
   "metadata": {
    "tags": []
   },
   "outputs": [
    {
     "name": "stdout",
     "output_type": "stream",
     "text": [
      "Masking Policy: obfuscated\n"
     ]
    },
    {
     "data": {
      "text/html": [
       "<div>\n",
       "<style scoped>\n",
       "    .dataframe tbody tr th:only-of-type {\n",
       "        vertical-align: middle;\n",
       "    }\n",
       "\n",
       "    .dataframe tbody tr th {\n",
       "        vertical-align: top;\n",
       "    }\n",
       "\n",
       "    .dataframe thead th {\n",
       "        text-align: right;\n",
       "    }\n",
       "</style>\n",
       "<table border=\"1\" class=\"dataframe\">\n",
       "  <thead>\n",
       "    <tr style=\"text-align: right;\">\n",
       "      <th></th>\n",
       "      <th>predictions</th>\n",
       "    </tr>\n",
       "  </thead>\n",
       "  <tbody>\n",
       "    <tr>\n",
       "      <th>0</th>\n",
       "      <td>[Name : Lynne Logan, Record date: 2093-01-25, # L3157974.  Dr. Sherlon Handing,  E-MAIL: Marvin@yahoo.com.]</td>\n",
       "    </tr>\n",
       "  </tbody>\n",
       "</table>\n",
       "</div>"
      ],
      "text/plain": [
       "                                                                                                   predictions\n",
       "0  [Name : Lynne Logan, Record date: 2093-01-25, # L3157974.  Dr. Sherlon Handing,  E-MAIL: Marvin@yahoo.com.]"
      ]
     },
     "metadata": {},
     "output_type": "display_data"
    }
   ],
   "source": [
    "data_dicts = [\n",
    "    {\"text\": \"Name : Hendrickson, Ora, Record date: 2093-01-13, # 719435. Dr. John Green,  E-MAIL: green@gmail.com.\",\n",
    "    \"masking_policy\":\"obfuscated\"},\n",
    "\n",
    "]\n",
    "process_data_and_invoke_realtime_endpoint(data_dicts)\n"
   ]
  },
  {
   "cell_type": "markdown",
   "metadata": {
    "tags": []
   },
   "source": [
    "### fixed_length_chars"
   ]
  },
  {
   "cell_type": "code",
   "execution_count": 55,
   "metadata": {
    "tags": []
   },
   "outputs": [
    {
     "name": "stdout",
     "output_type": "stream",
     "text": [
      "Masking Policy: masked_fixed_length_chars\n"
     ]
    },
    {
     "data": {
      "text/html": [
       "<div>\n",
       "<style scoped>\n",
       "    .dataframe tbody tr th:only-of-type {\n",
       "        vertical-align: middle;\n",
       "    }\n",
       "\n",
       "    .dataframe tbody tr th {\n",
       "        vertical-align: top;\n",
       "    }\n",
       "\n",
       "    .dataframe thead th {\n",
       "        text-align: right;\n",
       "    }\n",
       "</style>\n",
       "<table border=\"1\" class=\"dataframe\">\n",
       "  <thead>\n",
       "    <tr style=\"text-align: right;\">\n",
       "      <th></th>\n",
       "      <th>predictions</th>\n",
       "    </tr>\n",
       "  </thead>\n",
       "  <tbody>\n",
       "    <tr>\n",
       "      <th>0</th>\n",
       "      <td>[Name : ****, Record date: ****, # ****.  Dr. ****,  E-MAIL: ****.]</td>\n",
       "    </tr>\n",
       "  </tbody>\n",
       "</table>\n",
       "</div>"
      ],
      "text/plain": [
       "                                                           predictions\n",
       "0  [Name : ****, Record date: ****, # ****.  Dr. ****,  E-MAIL: ****.]"
      ]
     },
     "metadata": {},
     "output_type": "display_data"
    }
   ],
   "source": [
    "data_dicts = [\n",
    "    {\"text\": \"Name : Hendrickson, Ora, Record date: 2093-01-13, # 719435. Dr. John Green,  E-MAIL: green@gmail.com.\",\n",
    "    \"masking_policy\":\"masked_fixed_length_chars\"},\n",
    "\n",
    "]\n",
    "process_data_and_invoke_realtime_endpoint(data_dicts)\n"
   ]
  },
  {
   "cell_type": "markdown",
   "metadata": {},
   "source": [
    "### masked_with_chars"
   ]
  },
  {
   "cell_type": "code",
   "execution_count": 56,
   "metadata": {
    "tags": []
   },
   "outputs": [
    {
     "name": "stdout",
     "output_type": "stream",
     "text": [
      "Masking Policy: masked_with_chars\n"
     ]
    },
    {
     "data": {
      "text/html": [
       "<div>\n",
       "<style scoped>\n",
       "    .dataframe tbody tr th:only-of-type {\n",
       "        vertical-align: middle;\n",
       "    }\n",
       "\n",
       "    .dataframe tbody tr th {\n",
       "        vertical-align: top;\n",
       "    }\n",
       "\n",
       "    .dataframe thead th {\n",
       "        text-align: right;\n",
       "    }\n",
       "</style>\n",
       "<table border=\"1\" class=\"dataframe\">\n",
       "  <thead>\n",
       "    <tr style=\"text-align: right;\">\n",
       "      <th></th>\n",
       "      <th>predictions</th>\n",
       "    </tr>\n",
       "  </thead>\n",
       "  <tbody>\n",
       "    <tr>\n",
       "      <th>0</th>\n",
       "      <td>[Name : [**************], Record date: [********], # [****].  Dr. [********],  E-MAIL: [*************].]</td>\n",
       "    </tr>\n",
       "  </tbody>\n",
       "</table>\n",
       "</div>"
      ],
      "text/plain": [
       "                                                                                                predictions\n",
       "0  [Name : [**************], Record date: [********], # [****].  Dr. [********],  E-MAIL: [*************].]"
      ]
     },
     "metadata": {},
     "output_type": "display_data"
    }
   ],
   "source": [
    "data_dicts = [\n",
    "    {\"text\": \"Name : Hendrickson, Ora, Record date: 2093-01-13, # 719435. Dr. John Green,  E-MAIL: green@gmail.com.\",\n",
    "    \"masking_policy\":\"masked_with_chars\"},\n",
    "\n",
    "]\n",
    "process_data_and_invoke_realtime_endpoint(data_dicts)\n"
   ]
  },
  {
   "cell_type": "markdown",
   "metadata": {},
   "source": [
    "### C. Delete the endpoint"
   ]
  },
  {
   "cell_type": "markdown",
   "metadata": {},
   "source": [
    "Now that you have successfully performed a real-time inference, you do not need the endpoint any more. You can terminate the endpoint to avoid being charged."
   ]
  },
  {
   "cell_type": "code",
   "execution_count": 57,
   "metadata": {
    "tags": []
   },
   "outputs": [
    {
     "name": "stderr",
     "output_type": "stream",
     "text": [
      "INFO:sagemaker:Deleting endpoint with name: en-de-identify-clinical-pipeline\n",
      "INFO:sagemaker:Deleting endpoint configuration with name: en-de-identify-clinical-pipeline\n"
     ]
    }
   ],
   "source": [
    "model.sagemaker_session.delete_endpoint(model_name)\n",
    "model.sagemaker_session.delete_endpoint_config(model_name)"
   ]
  },
  {
   "cell_type": "markdown",
   "metadata": {
    "tags": []
   },
   "source": [
    "## 3. Batch inference"
   ]
  },
  {
   "cell_type": "code",
   "execution_count": 58,
   "metadata": {
    "tags": []
   },
   "outputs": [],
   "source": [
    "validation_input_path = f\"s3://{s3_bucket}/validation-input-json/\"\n",
    "validation_output_path = f\"s3://{s3_bucket}/validation-output-json/\""
   ]
  },
  {
   "cell_type": "code",
   "execution_count": 74,
   "metadata": {
    "tags": []
   },
   "outputs": [],
   "source": [
    "input_file_name = 'inputs/batch/input.json'\n",
    "output_file_name = 'outputs/batch/out.out'\n",
    "\n",
    "os.makedirs(os.path.dirname(input_file_name), exist_ok=True)\n",
    "os.makedirs(os.path.dirname(output_file_name), exist_ok=True)"
   ]
  },
  {
   "cell_type": "code",
   "execution_count": null,
   "metadata": {
    "tags": []
   },
   "outputs": [],
   "source": [
    "transformer = model.transformer(\n",
    "    instance_count=1,\n",
    "    instance_type=\"ml.m4.xlarge\",\n",
    "    accept=\"application/json\",\n",
    ")\n",
    "transformer.transform(validation_input_path, content_type=content_type)\n",
    "transformer.wait()"
   ]
  },
  {
   "cell_type": "code",
   "execution_count": 75,
   "metadata": {
    "tags": []
   },
   "outputs": [],
   "source": [
    "validation_file_name = \"input.json\"\n",
    "input_json_data = {\"text\" :[\"Name : Hendrickson, Ora, Record date: 2093-01-13, # 719435. Dr. John Green,  E-MAIL: green@gmail.com.\", \"My name is Mike\"]}\n",
    "json_input_data = json.dumps(input_json_data)\n",
    "with open(input_file_name, 'w') as f:\n",
    "    f.write(json_input_data)"
   ]
  },
  {
   "cell_type": "code",
   "execution_count": 63,
   "metadata": {
    "tags": []
   },
   "outputs": [
    {
     "data": {
      "text/html": [
       "<div>\n",
       "<style scoped>\n",
       "    .dataframe tbody tr th:only-of-type {\n",
       "        vertical-align: middle;\n",
       "    }\n",
       "\n",
       "    .dataframe tbody tr th {\n",
       "        vertical-align: top;\n",
       "    }\n",
       "\n",
       "    .dataframe thead th {\n",
       "        text-align: right;\n",
       "    }\n",
       "</style>\n",
       "<table border=\"1\" class=\"dataframe\">\n",
       "  <thead>\n",
       "    <tr style=\"text-align: right;\">\n",
       "      <th></th>\n",
       "      <th>predictions</th>\n",
       "    </tr>\n",
       "  </thead>\n",
       "  <tbody>\n",
       "    <tr>\n",
       "      <th>0</th>\n",
       "      <td>Name : &lt;PATIENT&gt;, Record date: &lt;DATE&gt;, # &lt;DEVICE&gt;.  Dr. &lt;DOCTOR&gt;,  E-MAIL: &lt;EMAIL&gt;.</td>\n",
       "    </tr>\n",
       "    <tr>\n",
       "      <th>1</th>\n",
       "      <td>My name is &lt;PATIENT&gt;</td>\n",
       "    </tr>\n",
       "  </tbody>\n",
       "</table>\n",
       "</div>"
      ],
      "text/plain": [
       "                                                                           predictions\n",
       "0  Name : <PATIENT>, Record date: <DATE>, # <DEVICE>.  Dr. <DOCTOR>,  E-MAIL: <EMAIL>.\n",
       "1                                                                 My name is <PATIENT>"
      ]
     },
     "metadata": {},
     "output_type": "display_data"
    }
   ],
   "source": [
    "from urllib.parse import urlparse\n",
    "\n",
    "parsed_url = urlparse(transformer.output_path)\n",
    "file_key = f\"{parsed_url.path[1:]}/{validation_file_name}.out\"\n",
    "response = s3_client.get_object(Bucket=s3_bucket, Key=file_key)\n",
    "\n",
    "data = json.loads(response[\"Body\"].read().decode(\"utf-8\"))\n",
    "display(pd.DataFrame(data))\n",
    "\n",
    "with open(output_file_name, 'w') as f_out:\n",
    "    json.dump(data, f_out, indent=4)"
   ]
  },
  {
   "cell_type": "code",
   "execution_count": 64,
   "metadata": {
    "tags": []
   },
   "outputs": [
    {
     "name": "stderr",
     "output_type": "stream",
     "text": [
      "INFO:sagemaker:Deleting model with name: jsl-deidentify-clinical-pipeline-2024-02-19-16-17-56-416\n"
     ]
    }
   ],
   "source": [
    "model.delete_model()"
   ]
  },
  {
   "cell_type": "markdown",
   "metadata": {},
   "source": [
    "### Unsubscribe to the listing (optional)"
   ]
  },
  {
   "cell_type": "markdown",
   "metadata": {},
   "source": [
    "If you would like to unsubscribe to the model package, follow these steps. Before you cancel the subscription, ensure that you do not have any [deployable model](https://console.aws.amazon.com/sagemaker/home#/models) created from the model package or using the algorithm. Note - You can find this information by looking at the container name associated with the model. \n",
    "\n",
    "**Steps to unsubscribe to product from AWS Marketplace**:\n",
    "1. Navigate to __Machine Learning__ tab on [__Your Software subscriptions page__](https://aws.amazon.com/marketplace/ai/library?productType=ml&ref_=mlmp_gitdemo_indust)\n",
    "2. Locate the listing that you want to cancel the subscription for, and then choose __Cancel Subscription__  to cancel the subscription.\n",
    "\n"
   ]
  },
  {
   "cell_type": "code",
   "execution_count": null,
   "metadata": {},
   "outputs": [],
   "source": []
  }
 ],
 "metadata": {
  "instance_type": "ml.t3.medium",
  "kernelspec": {
   "display_name": "conda_python3",
   "language": "python",
   "name": "conda_python3"
  },
  "language_info": {
   "codemirror_mode": {
    "name": "ipython",
    "version": 3
   },
   "file_extension": ".py",
   "mimetype": "text/x-python",
   "name": "python",
   "nbconvert_exporter": "python",
   "pygments_lexer": "ipython3",
   "version": "3.10.13"
  }
 },
 "nbformat": 4,
 "nbformat_minor": 4
}

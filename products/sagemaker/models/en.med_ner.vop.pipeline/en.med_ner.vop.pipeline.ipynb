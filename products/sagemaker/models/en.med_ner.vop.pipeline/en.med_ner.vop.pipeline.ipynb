{
 "cells": [
  {
   "cell_type": "markdown",
   "metadata": {},
   "source": [
    "## 1. Subscribe to the model package"
   ]
  },
  {
   "cell_type": "markdown",
   "metadata": {},
   "source": [
    "To subscribe to the model package:\n",
    "1. Open the model package listing page [Extract entities from patient narratives](https://aws.amazon.com/marketplace/pp/prodview-dh4fiknh4ywrk)\n",
    "1. On the AWS Marketplace listing, click on the **Continue to subscribe** button.\n",
    "1. On the **Subscribe to this software** page, review and click on **\"Accept Offer\"** if you and your organization agrees with EULA, pricing, and support terms. \n",
    "1. Once you click on **Continue to configuration button** and then choose a **region**, you will see a **Product Arn** displayed. This is the model package ARN that you need to specify while creating a deployable model using Boto3. Copy the ARN corresponding to your region and specify the same in the following cell."
   ]
  },
  {
   "cell_type": "markdown",
   "metadata": {},
   "source": [
    "# Background\n",
    "\n",
    "- **Model**: `en.med_ner.vop.pipeline`\n",
    "\n",
    "- **Model Description**: This pipeline includes the full taxonomy Named-Entity Recognition model to extract information from health-related text in colloquial language. This pipeline extracts diagnoses, treatments, tests, anatomical references and demographic entities.\n"
   ]
  },
  {
   "cell_type": "code",
   "execution_count": 1,
   "metadata": {
    "tags": []
   },
   "outputs": [],
   "source": [
    "model_package_arn = \"<Customer to specify Model package ARN corresponding to their AWS region>\""
   ]
  },
  {
   "cell_type": "code",
   "execution_count": 2,
   "metadata": {
    "tags": []
   },
   "outputs": [
    {
     "name": "stdout",
     "output_type": "stream",
     "text": [
      "sagemaker.config INFO - Not applying SDK defaults from location: /etc/xdg/sagemaker/config.yaml\n",
      "sagemaker.config INFO - Not applying SDK defaults from location: /home/ec2-user/.config/sagemaker/config.yaml\n"
     ]
    }
   ],
   "source": [
    "import base64\n",
    "import json\n",
    "import uuid\n",
    "from sagemaker import ModelPackage\n",
    "import sagemaker as sage\n",
    "from sagemaker import get_execution_role\n",
    "import boto3\n",
    "from IPython.display import Image, display\n",
    "from PIL import Image as ImageEdit\n",
    "import numpy as np"
   ]
  },
  {
   "cell_type": "code",
   "execution_count": 3,
   "metadata": {
    "tags": []
   },
   "outputs": [],
   "source": [
    "sagemaker_session = sage.Session()\n",
    "s3_bucket = sagemaker_session.default_bucket()\n",
    "region = sagemaker_session.boto_region_name\n",
    "account_id = boto3.client(\"sts\").get_caller_identity().get(\"Account\")\n",
    "role = get_execution_role()\n",
    "\n",
    "sagemaker = boto3.client(\"sagemaker\")\n",
    "s3_client = sagemaker_session.boto_session.client(\"s3\")\n",
    "ecr = boto3.client(\"ecr\")\n",
    "sm_runtime = boto3.client(\"sagemaker-runtime\")"
   ]
  },
  {
   "cell_type": "markdown",
   "metadata": {},
   "source": [
    "## 2. Create an endpoint and perform real-time inference"
   ]
  },
  {
   "cell_type": "markdown",
   "metadata": {},
   "source": [
    "If you want to understand how real-time inference with Amazon SageMaker works, see [Documentation](https://docs.aws.amazon.com/sagemaker/latest/dg/how-it-works-hosting.html)."
   ]
  },
  {
   "cell_type": "code",
   "execution_count": 4,
   "metadata": {
    "tags": []
   },
   "outputs": [],
   "source": [
    "model_name = \"en-med-ner-vop-pipeline\"\n",
    "\n",
    "real_time_inference_instance_type = \"ml.m4.xlarge\"\n",
    "batch_transform_inference_instance_type = \"ml.m4.xlarge\"\n"
   ]
  },
  {
   "cell_type": "markdown",
   "metadata": {},
   "source": [
    "### A. Create an endpoint"
   ]
  },
  {
   "cell_type": "code",
   "execution_count": 5,
   "metadata": {
    "tags": []
   },
   "outputs": [
    {
     "name": "stdout",
     "output_type": "stream",
     "text": [
      "---------!"
     ]
    }
   ],
   "source": [
    "# create a deployable model from the model package.\n",
    "model = ModelPackage(\n",
    "    role=role, model_package_arn=model_package_arn, sagemaker_session=sagemaker_session\n",
    ")\n",
    "\n",
    "# Deploy the model\n",
    "predictor = model.deploy(1, real_time_inference_instance_type, endpoint_name=model_name)"
   ]
  },
  {
   "cell_type": "markdown",
   "metadata": {},
   "source": [
    "Once endpoint has been created, you would be able to perform real-time inference."
   ]
  },
  {
   "cell_type": "code",
   "execution_count": 6,
   "metadata": {
    "tags": []
   },
   "outputs": [],
   "source": [
    "import json\n",
    "import pandas as pd\n",
    "import os\n",
    "import boto3\n",
    "\n",
    "# Set display options\n",
    "pd.set_option('display.max_rows', None)\n",
    "pd.set_option('display.max_columns', None)\n",
    "pd.set_option('display.max_colwidth', None)\n",
    "\n",
    "def process_data_and_invoke_realtime_endpoint(data, content_type, accept):\n",
    "\n",
    "    content_type_to_format = {'application/json': 'json', 'application/jsonlines': 'jsonl'}\n",
    "    input_format = content_type_to_format.get(content_type)\n",
    "    if content_type not in content_type_to_format.keys() or accept not in content_type_to_format.keys():\n",
    "        raise ValueError(\"Invalid content_type or accept. It should be either 'application/json' or 'application/jsonlines'.\")\n",
    "\n",
    "    i = 1\n",
    "    input_dir = f'inputs/real-time/{input_format}'\n",
    "    output_dir = f'outputs/real-time/{input_format}'\n",
    "    s3_input_dir = f\"{model_name}/validation-input/real-time/{input_format}\"\n",
    "    s3_output_dir = f\"{model_name}/validation-output/real-time/{input_format}\"\n",
    "\n",
    "    input_file_name = f'{input_dir}/input{i}.{input_format}'\n",
    "    output_file_name = f'{output_dir}/{os.path.basename(input_file_name)}.out'\n",
    "\n",
    "    while os.path.exists(input_file_name) or os.path.exists(output_file_name):\n",
    "        i += 1\n",
    "        input_file_name = f'{input_dir}/input{i}.{input_format}'\n",
    "        output_file_name = f'{output_dir}/{os.path.basename(input_file_name)}.out'\n",
    "\n",
    "    os.makedirs(os.path.dirname(input_file_name), exist_ok=True)\n",
    "    os.makedirs(os.path.dirname(output_file_name), exist_ok=True)\n",
    "\n",
    "    input_data = json.dumps(data) if content_type == 'application/json' else data\n",
    "\n",
    "    # Write input data to file\n",
    "    with open(input_file_name, 'w') as f:\n",
    "        f.write(input_data)\n",
    "\n",
    "    # Upload input data to S3\n",
    "    s3_client.put_object(Bucket=s3_bucket, Key=f\"{s3_input_dir}/{os.path.basename(input_file_name)}\", Body=bytes(input_data.encode('UTF-8')))\n",
    "\n",
    "    # Invoke the SageMaker endpoint\n",
    "    response = sm_runtime.invoke_endpoint(\n",
    "        EndpointName=model_name,\n",
    "        ContentType=content_type,\n",
    "        Accept=accept,\n",
    "        Body=input_data,\n",
    "    )\n",
    "\n",
    "    # Read response data\n",
    "    response_data = json.loads(response[\"Body\"].read().decode(\"utf-8\")) if accept == 'application/json' else response['Body'].read().decode('utf-8')\n",
    "\n",
    "    # Save response data to file\n",
    "    with open(output_file_name, 'w') as f_out:\n",
    "        if accept == 'application/json':\n",
    "            json.dump(response_data, f_out, indent=4)\n",
    "        else:\n",
    "            for item in response_data.split('\\n'):\n",
    "                f_out.write(item + '\\n')\n",
    "\n",
    "    # Upload response data to S3\n",
    "    output_s3_key = f\"{s3_output_dir}/{os.path.basename(output_file_name)}\"\n",
    "    if accept == 'application/json':\n",
    "        s3_client.put_object(Bucket=s3_bucket, Key=output_s3_key, Body=json.dumps(response_data).encode('UTF-8'))\n",
    "    else:\n",
    "        s3_client.put_object(Bucket=s3_bucket, Key=output_s3_key, Body=response_data)\n",
    "\n",
    "    return response_data"
   ]
  },
  {
   "cell_type": "markdown",
   "metadata": {},
   "source": [
    "### Initial Setup"
   ]
  },
  {
   "cell_type": "code",
   "execution_count": 7,
   "metadata": {
    "tags": []
   },
   "outputs": [],
   "source": [
    "docs = [\n",
    "    \"Maria is a 20-year-old girl who was diagnosed with hyperthyroidism 1 month ago.\",\n",
    "    \"She is admitted to The John Hopkins Hospital 2 days ago with a history of gestational diabetes mellitus diagnosed. She denied pain and any headache.\"\n",
    "]\n",
    "\n",
    "\n",
    "sample_text = \"I'm a 28-year-old male recently diagnosed with high cholesterol. I've been prescribed statins, but I've heard a lot about their side effects and I'm worried. I'm experiencing muscle aches and I'm not sure if it's due to the medication. Has anyone else experienced this? Any advice would be appreciated.\""
   ]
  },
  {
   "cell_type": "markdown",
   "metadata": {},
   "source": [
    "### JSON"
   ]
  },
  {
   "cell_type": "markdown",
   "metadata": {},
   "source": [
    "#### Example 1"
   ]
  },
  {
   "cell_type": "markdown",
   "metadata": {},
   "source": [
    "  **Input format**:\n",
    "  \n",
    "  \n",
    "```json\n",
    "{\n",
    "    \"text\": \"Single text document\"\n",
    "}\n",
    "```"
   ]
  },
  {
   "cell_type": "code",
   "execution_count": 8,
   "metadata": {
    "tags": []
   },
   "outputs": [
    {
     "data": {
      "text/html": [
       "<div>\n",
       "<style scoped>\n",
       "    .dataframe tbody tr th:only-of-type {\n",
       "        vertical-align: middle;\n",
       "    }\n",
       "\n",
       "    .dataframe tbody tr th {\n",
       "        vertical-align: top;\n",
       "    }\n",
       "\n",
       "    .dataframe thead th {\n",
       "        text-align: right;\n",
       "    }\n",
       "</style>\n",
       "<table border=\"1\" class=\"dataframe\">\n",
       "  <thead>\n",
       "    <tr style=\"text-align: right;\">\n",
       "      <th></th>\n",
       "      <th>document</th>\n",
       "      <th>ner_chunk</th>\n",
       "      <th>begin</th>\n",
       "      <th>end</th>\n",
       "      <th>ner_label</th>\n",
       "      <th>ner_confidence</th>\n",
       "    </tr>\n",
       "  </thead>\n",
       "  <tbody>\n",
       "    <tr>\n",
       "      <th>0</th>\n",
       "      <td>I'm a 28-year-old male recently diagnosed with high cholesterol. I've been prescribed statins, but I've heard a lot about their side effects and I'm worried. I'm experiencing muscle aches and I'm not sure if it's due to the medication. Has anyone else experienced this? Any advice would be appreciated.</td>\n",
       "      <td>28-year-old</td>\n",
       "      <td>6</td>\n",
       "      <td>16</td>\n",
       "      <td>Age</td>\n",
       "      <td>0.9852</td>\n",
       "    </tr>\n",
       "    <tr>\n",
       "      <th>1</th>\n",
       "      <td>I'm a 28-year-old male recently diagnosed with high cholesterol. I've been prescribed statins, but I've heard a lot about their side effects and I'm worried. I'm experiencing muscle aches and I'm not sure if it's due to the medication. Has anyone else experienced this? Any advice would be appreciated.</td>\n",
       "      <td>male</td>\n",
       "      <td>18</td>\n",
       "      <td>21</td>\n",
       "      <td>Gender</td>\n",
       "      <td>0.999</td>\n",
       "    </tr>\n",
       "    <tr>\n",
       "      <th>2</th>\n",
       "      <td>I'm a 28-year-old male recently diagnosed with high cholesterol. I've been prescribed statins, but I've heard a lot about their side effects and I'm worried. I'm experiencing muscle aches and I'm not sure if it's due to the medication. Has anyone else experienced this? Any advice would be appreciated.</td>\n",
       "      <td>recently</td>\n",
       "      <td>23</td>\n",
       "      <td>30</td>\n",
       "      <td>DateTime</td>\n",
       "      <td>0.9892</td>\n",
       "    </tr>\n",
       "    <tr>\n",
       "      <th>3</th>\n",
       "      <td>I'm a 28-year-old male recently diagnosed with high cholesterol. I've been prescribed statins, but I've heard a lot about their side effects and I'm worried. I'm experiencing muscle aches and I'm not sure if it's due to the medication. Has anyone else experienced this? Any advice would be appreciated.</td>\n",
       "      <td>high</td>\n",
       "      <td>47</td>\n",
       "      <td>50</td>\n",
       "      <td>TestResult</td>\n",
       "      <td>0.6992</td>\n",
       "    </tr>\n",
       "    <tr>\n",
       "      <th>4</th>\n",
       "      <td>I'm a 28-year-old male recently diagnosed with high cholesterol. I've been prescribed statins, but I've heard a lot about their side effects and I'm worried. I'm experiencing muscle aches and I'm not sure if it's due to the medication. Has anyone else experienced this? Any advice would be appreciated.</td>\n",
       "      <td>cholesterol</td>\n",
       "      <td>52</td>\n",
       "      <td>62</td>\n",
       "      <td>Test</td>\n",
       "      <td>0.9851</td>\n",
       "    </tr>\n",
       "    <tr>\n",
       "      <th>5</th>\n",
       "      <td>I'm a 28-year-old male recently diagnosed with high cholesterol. I've been prescribed statins, but I've heard a lot about their side effects and I'm worried. I'm experiencing muscle aches and I'm not sure if it's due to the medication. Has anyone else experienced this? Any advice would be appreciated.</td>\n",
       "      <td>statins</td>\n",
       "      <td>86</td>\n",
       "      <td>92</td>\n",
       "      <td>Drug</td>\n",
       "      <td>0.9963</td>\n",
       "    </tr>\n",
       "    <tr>\n",
       "      <th>6</th>\n",
       "      <td>I'm a 28-year-old male recently diagnosed with high cholesterol. I've been prescribed statins, but I've heard a lot about their side effects and I'm worried. I'm experiencing muscle aches and I'm not sure if it's due to the medication. Has anyone else experienced this? Any advice would be appreciated.</td>\n",
       "      <td>muscle</td>\n",
       "      <td>175</td>\n",
       "      <td>180</td>\n",
       "      <td>BodyPart</td>\n",
       "      <td>0.9715</td>\n",
       "    </tr>\n",
       "    <tr>\n",
       "      <th>7</th>\n",
       "      <td>I'm a 28-year-old male recently diagnosed with high cholesterol. I've been prescribed statins, but I've heard a lot about their side effects and I'm worried. I'm experiencing muscle aches and I'm not sure if it's due to the medication. Has anyone else experienced this? Any advice would be appreciated.</td>\n",
       "      <td>aches</td>\n",
       "      <td>182</td>\n",
       "      <td>186</td>\n",
       "      <td>Symptom</td>\n",
       "      <td>0.984</td>\n",
       "    </tr>\n",
       "  </tbody>\n",
       "</table>\n",
       "</div>"
      ],
      "text/plain": [
       "                                                                                                                                                                                                                                                                                                         document  \\\n",
       "0  I'm a 28-year-old male recently diagnosed with high cholesterol. I've been prescribed statins, but I've heard a lot about their side effects and I'm worried. I'm experiencing muscle aches and I'm not sure if it's due to the medication. Has anyone else experienced this? Any advice would be appreciated.   \n",
       "1  I'm a 28-year-old male recently diagnosed with high cholesterol. I've been prescribed statins, but I've heard a lot about their side effects and I'm worried. I'm experiencing muscle aches and I'm not sure if it's due to the medication. Has anyone else experienced this? Any advice would be appreciated.   \n",
       "2  I'm a 28-year-old male recently diagnosed with high cholesterol. I've been prescribed statins, but I've heard a lot about their side effects and I'm worried. I'm experiencing muscle aches and I'm not sure if it's due to the medication. Has anyone else experienced this? Any advice would be appreciated.   \n",
       "3  I'm a 28-year-old male recently diagnosed with high cholesterol. I've been prescribed statins, but I've heard a lot about their side effects and I'm worried. I'm experiencing muscle aches and I'm not sure if it's due to the medication. Has anyone else experienced this? Any advice would be appreciated.   \n",
       "4  I'm a 28-year-old male recently diagnosed with high cholesterol. I've been prescribed statins, but I've heard a lot about their side effects and I'm worried. I'm experiencing muscle aches and I'm not sure if it's due to the medication. Has anyone else experienced this? Any advice would be appreciated.   \n",
       "5  I'm a 28-year-old male recently diagnosed with high cholesterol. I've been prescribed statins, but I've heard a lot about their side effects and I'm worried. I'm experiencing muscle aches and I'm not sure if it's due to the medication. Has anyone else experienced this? Any advice would be appreciated.   \n",
       "6  I'm a 28-year-old male recently diagnosed with high cholesterol. I've been prescribed statins, but I've heard a lot about their side effects and I'm worried. I'm experiencing muscle aches and I'm not sure if it's due to the medication. Has anyone else experienced this? Any advice would be appreciated.   \n",
       "7  I'm a 28-year-old male recently diagnosed with high cholesterol. I've been prescribed statins, but I've heard a lot about their side effects and I'm worried. I'm experiencing muscle aches and I'm not sure if it's due to the medication. Has anyone else experienced this? Any advice would be appreciated.   \n",
       "\n",
       "     ner_chunk  begin  end   ner_label ner_confidence  \n",
       "0  28-year-old      6   16         Age         0.9852  \n",
       "1         male     18   21      Gender          0.999  \n",
       "2     recently     23   30    DateTime         0.9892  \n",
       "3         high     47   50  TestResult         0.6992  \n",
       "4  cholesterol     52   62        Test         0.9851  \n",
       "5      statins     86   92        Drug         0.9963  \n",
       "6       muscle    175  180    BodyPart         0.9715  \n",
       "7        aches    182  186     Symptom          0.984  "
      ]
     },
     "execution_count": 8,
     "metadata": {},
     "output_type": "execute_result"
    }
   ],
   "source": [
    "input_json_data = {\"text\": sample_text}\n",
    "\n",
    "data =  process_data_and_invoke_realtime_endpoint(input_json_data, content_type=\"application/json\" , accept=\"application/json\" )\n",
    "pd.DataFrame(data[\"predictions\"])"
   ]
  },
  {
   "cell_type": "markdown",
   "metadata": {},
   "source": [
    "#### Example 2"
   ]
  },
  {
   "cell_type": "markdown",
   "metadata": {},
   "source": [
    "  **Input format**:\n",
    "  \n",
    "  \n",
    "```json\n",
    "{\n",
    "    \"text\": [\n",
    "        \"Text document 1\",\n",
    "        \"Text document 2\",\n",
    "        ...\n",
    "    ]\n",
    "}\n",
    "```"
   ]
  },
  {
   "cell_type": "code",
   "execution_count": 9,
   "metadata": {
    "tags": []
   },
   "outputs": [
    {
     "data": {
      "text/html": [
       "<div>\n",
       "<style scoped>\n",
       "    .dataframe tbody tr th:only-of-type {\n",
       "        vertical-align: middle;\n",
       "    }\n",
       "\n",
       "    .dataframe tbody tr th {\n",
       "        vertical-align: top;\n",
       "    }\n",
       "\n",
       "    .dataframe thead th {\n",
       "        text-align: right;\n",
       "    }\n",
       "</style>\n",
       "<table border=\"1\" class=\"dataframe\">\n",
       "  <thead>\n",
       "    <tr style=\"text-align: right;\">\n",
       "      <th></th>\n",
       "      <th>document</th>\n",
       "      <th>ner_chunk</th>\n",
       "      <th>begin</th>\n",
       "      <th>end</th>\n",
       "      <th>ner_label</th>\n",
       "      <th>ner_confidence</th>\n",
       "    </tr>\n",
       "  </thead>\n",
       "  <tbody>\n",
       "    <tr>\n",
       "      <th>0</th>\n",
       "      <td>Maria is a 20-year-old girl who was diagnosed with hyperthyroidism 1 month ago.</td>\n",
       "      <td>20-year-old</td>\n",
       "      <td>11</td>\n",
       "      <td>21</td>\n",
       "      <td>Age</td>\n",
       "      <td>0.9618</td>\n",
       "    </tr>\n",
       "    <tr>\n",
       "      <th>1</th>\n",
       "      <td>Maria is a 20-year-old girl who was diagnosed with hyperthyroidism 1 month ago.</td>\n",
       "      <td>girl</td>\n",
       "      <td>23</td>\n",
       "      <td>26</td>\n",
       "      <td>Gender</td>\n",
       "      <td>0.9991</td>\n",
       "    </tr>\n",
       "    <tr>\n",
       "      <th>2</th>\n",
       "      <td>Maria is a 20-year-old girl who was diagnosed with hyperthyroidism 1 month ago.</td>\n",
       "      <td>hyperthyroidism</td>\n",
       "      <td>51</td>\n",
       "      <td>65</td>\n",
       "      <td>Disease</td>\n",
       "      <td>0.9743</td>\n",
       "    </tr>\n",
       "    <tr>\n",
       "      <th>3</th>\n",
       "      <td>Maria is a 20-year-old girl who was diagnosed with hyperthyroidism 1 month ago.</td>\n",
       "      <td>1 month ago</td>\n",
       "      <td>67</td>\n",
       "      <td>77</td>\n",
       "      <td>DateTime</td>\n",
       "      <td>0.664</td>\n",
       "    </tr>\n",
       "    <tr>\n",
       "      <th>4</th>\n",
       "      <td>She is admitted to The John Hopkins Hospital 2 days ago with a history of gestational diabetes mellitus diagnosed. She denied pain and any headache.</td>\n",
       "      <td>She</td>\n",
       "      <td>0</td>\n",
       "      <td>2</td>\n",
       "      <td>Gender</td>\n",
       "      <td>1.0</td>\n",
       "    </tr>\n",
       "    <tr>\n",
       "      <th>5</th>\n",
       "      <td>She is admitted to The John Hopkins Hospital 2 days ago with a history of gestational diabetes mellitus diagnosed. She denied pain and any headache.</td>\n",
       "      <td>admitted</td>\n",
       "      <td>7</td>\n",
       "      <td>14</td>\n",
       "      <td>AdmissionDischarge</td>\n",
       "      <td>0.9999</td>\n",
       "    </tr>\n",
       "    <tr>\n",
       "      <th>6</th>\n",
       "      <td>She is admitted to The John Hopkins Hospital 2 days ago with a history of gestational diabetes mellitus diagnosed. She denied pain and any headache.</td>\n",
       "      <td>John Hopkins Hospital</td>\n",
       "      <td>23</td>\n",
       "      <td>43</td>\n",
       "      <td>ClinicalDept</td>\n",
       "      <td>0.6984666</td>\n",
       "    </tr>\n",
       "    <tr>\n",
       "      <th>7</th>\n",
       "      <td>She is admitted to The John Hopkins Hospital 2 days ago with a history of gestational diabetes mellitus diagnosed. She denied pain and any headache.</td>\n",
       "      <td>2 days ago</td>\n",
       "      <td>45</td>\n",
       "      <td>54</td>\n",
       "      <td>DateTime</td>\n",
       "      <td>0.8039</td>\n",
       "    </tr>\n",
       "    <tr>\n",
       "      <th>8</th>\n",
       "      <td>She is admitted to The John Hopkins Hospital 2 days ago with a history of gestational diabetes mellitus diagnosed. She denied pain and any headache.</td>\n",
       "      <td>gestational diabetes mellitus</td>\n",
       "      <td>74</td>\n",
       "      <td>102</td>\n",
       "      <td>Disease</td>\n",
       "      <td>0.6344333</td>\n",
       "    </tr>\n",
       "    <tr>\n",
       "      <th>9</th>\n",
       "      <td>She is admitted to The John Hopkins Hospital 2 days ago with a history of gestational diabetes mellitus diagnosed. She denied pain and any headache.</td>\n",
       "      <td>She</td>\n",
       "      <td>115</td>\n",
       "      <td>117</td>\n",
       "      <td>Gender</td>\n",
       "      <td>1.0</td>\n",
       "    </tr>\n",
       "    <tr>\n",
       "      <th>10</th>\n",
       "      <td>She is admitted to The John Hopkins Hospital 2 days ago with a history of gestational diabetes mellitus diagnosed. She denied pain and any headache.</td>\n",
       "      <td>pain</td>\n",
       "      <td>126</td>\n",
       "      <td>129</td>\n",
       "      <td>Symptom</td>\n",
       "      <td>0.998</td>\n",
       "    </tr>\n",
       "    <tr>\n",
       "      <th>11</th>\n",
       "      <td>She is admitted to The John Hopkins Hospital 2 days ago with a history of gestational diabetes mellitus diagnosed. She denied pain and any headache.</td>\n",
       "      <td>headache</td>\n",
       "      <td>139</td>\n",
       "      <td>146</td>\n",
       "      <td>Symptom</td>\n",
       "      <td>0.9986</td>\n",
       "    </tr>\n",
       "  </tbody>\n",
       "</table>\n",
       "</div>"
      ],
      "text/plain": [
       "                                                                                                                                                document  \\\n",
       "0                                                                        Maria is a 20-year-old girl who was diagnosed with hyperthyroidism 1 month ago.   \n",
       "1                                                                        Maria is a 20-year-old girl who was diagnosed with hyperthyroidism 1 month ago.   \n",
       "2                                                                        Maria is a 20-year-old girl who was diagnosed with hyperthyroidism 1 month ago.   \n",
       "3                                                                        Maria is a 20-year-old girl who was diagnosed with hyperthyroidism 1 month ago.   \n",
       "4   She is admitted to The John Hopkins Hospital 2 days ago with a history of gestational diabetes mellitus diagnosed. She denied pain and any headache.   \n",
       "5   She is admitted to The John Hopkins Hospital 2 days ago with a history of gestational diabetes mellitus diagnosed. She denied pain and any headache.   \n",
       "6   She is admitted to The John Hopkins Hospital 2 days ago with a history of gestational diabetes mellitus diagnosed. She denied pain and any headache.   \n",
       "7   She is admitted to The John Hopkins Hospital 2 days ago with a history of gestational diabetes mellitus diagnosed. She denied pain and any headache.   \n",
       "8   She is admitted to The John Hopkins Hospital 2 days ago with a history of gestational diabetes mellitus diagnosed. She denied pain and any headache.   \n",
       "9   She is admitted to The John Hopkins Hospital 2 days ago with a history of gestational diabetes mellitus diagnosed. She denied pain and any headache.   \n",
       "10  She is admitted to The John Hopkins Hospital 2 days ago with a history of gestational diabetes mellitus diagnosed. She denied pain and any headache.   \n",
       "11  She is admitted to The John Hopkins Hospital 2 days ago with a history of gestational diabetes mellitus diagnosed. She denied pain and any headache.   \n",
       "\n",
       "                        ner_chunk  begin  end           ner_label  \\\n",
       "0                     20-year-old     11   21                 Age   \n",
       "1                            girl     23   26              Gender   \n",
       "2                 hyperthyroidism     51   65             Disease   \n",
       "3                     1 month ago     67   77            DateTime   \n",
       "4                             She      0    2              Gender   \n",
       "5                        admitted      7   14  AdmissionDischarge   \n",
       "6           John Hopkins Hospital     23   43        ClinicalDept   \n",
       "7                      2 days ago     45   54            DateTime   \n",
       "8   gestational diabetes mellitus     74  102             Disease   \n",
       "9                             She    115  117              Gender   \n",
       "10                           pain    126  129             Symptom   \n",
       "11                       headache    139  146             Symptom   \n",
       "\n",
       "   ner_confidence  \n",
       "0          0.9618  \n",
       "1          0.9991  \n",
       "2          0.9743  \n",
       "3           0.664  \n",
       "4             1.0  \n",
       "5          0.9999  \n",
       "6       0.6984666  \n",
       "7          0.8039  \n",
       "8       0.6344333  \n",
       "9             1.0  \n",
       "10          0.998  \n",
       "11         0.9986  "
      ]
     },
     "execution_count": 9,
     "metadata": {},
     "output_type": "execute_result"
    }
   ],
   "source": [
    "input_json_data = {\"text\": docs}\n",
    "\n",
    "data =  process_data_and_invoke_realtime_endpoint(input_json_data, content_type=\"application/json\" , accept=\"application/json\" )\n",
    "pd.DataFrame(data[\"predictions\"])"
   ]
  },
  {
   "cell_type": "markdown",
   "metadata": {},
   "source": [
    "### JSON Lines"
   ]
  },
  {
   "cell_type": "markdown",
   "metadata": {},
   "source": [
    "  **Input format**:\n",
    "  \n",
    "```json\n",
    "{\"text\": \"Text document 1\"}\n",
    "{\"text\": \"Text document 2\"}\n",
    "```"
   ]
  },
  {
   "cell_type": "code",
   "execution_count": 10,
   "metadata": {
    "tags": []
   },
   "outputs": [],
   "source": [
    "import json\n",
    "\n",
    "def create_jsonl(records):\n",
    "    json_records = []\n",
    "\n",
    "    for text in records:\n",
    "        record = {\n",
    "            \"text\": text\n",
    "        }\n",
    "        json_records.append(record)\n",
    "\n",
    "    json_lines = '\\n'.join(json.dumps(record) for record in json_records)\n",
    "\n",
    "    return json_lines\n",
    "\n",
    "input_jsonl_data = create_jsonl(docs)"
   ]
  },
  {
   "cell_type": "markdown",
   "metadata": {},
   "source": [
    "#### Example 1"
   ]
  },
  {
   "cell_type": "code",
   "execution_count": 11,
   "metadata": {
    "tags": []
   },
   "outputs": [
    {
     "name": "stdout",
     "output_type": "stream",
     "text": [
      "{\"predictions\": [{\"ner_chunk\": \"20-year-old\", \"begin\": 11, \"end\": 21, \"ner_label\": \"Age\", \"ner_confidence\": \"0.9618\"}, {\"ner_chunk\": \"girl\", \"begin\": 23, \"end\": 26, \"ner_label\": \"Gender\", \"ner_confidence\": \"0.9991\"}, {\"ner_chunk\": \"hyperthyroidism\", \"begin\": 51, \"end\": 65, \"ner_label\": \"Disease\", \"ner_confidence\": \"0.9743\"}, {\"ner_chunk\": \"1 month ago\", \"begin\": 67, \"end\": 77, \"ner_label\": \"DateTime\", \"ner_confidence\": \"0.664\"}]}\n",
      "{\"predictions\": [{\"ner_chunk\": \"She\", \"begin\": 0, \"end\": 2, \"ner_label\": \"Gender\", \"ner_confidence\": \"1.0\"}, {\"ner_chunk\": \"admitted\", \"begin\": 7, \"end\": 14, \"ner_label\": \"AdmissionDischarge\", \"ner_confidence\": \"0.9999\"}, {\"ner_chunk\": \"John Hopkins Hospital\", \"begin\": 23, \"end\": 43, \"ner_label\": \"ClinicalDept\", \"ner_confidence\": \"0.6984666\"}, {\"ner_chunk\": \"2 days ago\", \"begin\": 45, \"end\": 54, \"ner_label\": \"DateTime\", \"ner_confidence\": \"0.8039\"}, {\"ner_chunk\": \"gestational diabetes mellitus\", \"begin\": 74, \"end\": 102, \"ner_label\": \"Disease\", \"ner_confidence\": \"0.6344333\"}, {\"ner_chunk\": \"She\", \"begin\": 115, \"end\": 117, \"ner_label\": \"Gender\", \"ner_confidence\": \"1.0\"}, {\"ner_chunk\": \"pain\", \"begin\": 126, \"end\": 129, \"ner_label\": \"Symptom\", \"ner_confidence\": \"0.998\"}, {\"ner_chunk\": \"headache\", \"begin\": 139, \"end\": 146, \"ner_label\": \"Symptom\", \"ner_confidence\": \"0.9986\"}]}\n"
     ]
    }
   ],
   "source": [
    "data = process_data_and_invoke_realtime_endpoint(input_jsonl_data, content_type=\"application/jsonlines\" , accept=\"application/jsonlines\" )\n",
    "print(data)"
   ]
  },
  {
   "cell_type": "markdown",
   "metadata": {},
   "source": [
    "### C. Delete the endpoint"
   ]
  },
  {
   "cell_type": "markdown",
   "metadata": {},
   "source": [
    "Now that you have successfully performed a real-time inference, you do not need the endpoint any more. You can terminate the endpoint to avoid being charged."
   ]
  },
  {
   "cell_type": "code",
   "execution_count": 12,
   "metadata": {
    "tags": []
   },
   "outputs": [],
   "source": [
    "model.sagemaker_session.delete_endpoint(model_name)\n",
    "model.sagemaker_session.delete_endpoint_config(model_name)"
   ]
  },
  {
   "cell_type": "markdown",
   "metadata": {
    "tags": []
   },
   "source": [
    "## 3. Batch inference"
   ]
  },
  {
   "cell_type": "code",
   "execution_count": 13,
   "metadata": {
    "tags": []
   },
   "outputs": [],
   "source": [
    "import json\n",
    "import os\n",
    "\n",
    "input_dir = 'inputs/batch'\n",
    "json_input_dir = f\"{input_dir}/json\"\n",
    "jsonl_input_dir = f\"{input_dir}/jsonl\"\n",
    "\n",
    "output_dir = 'outputs/batch'\n",
    "json_output_dir = f\"{output_dir}/json\"\n",
    "jsonl_output_dir = f\"{output_dir}/jsonl\"\n",
    "\n",
    "os.makedirs(json_input_dir, exist_ok=True)\n",
    "os.makedirs(jsonl_input_dir, exist_ok=True)\n",
    "os.makedirs(json_output_dir, exist_ok=True)\n",
    "os.makedirs(jsonl_output_dir, exist_ok=True)\n",
    "\n",
    "validation_json_file_name = \"input.json\"\n",
    "\n",
    "validation_jsonl_file_name = \"input.jsonl\"\n",
    "\n",
    "validation_input_json_path = f\"s3://{s3_bucket}/{model_name}/validation-input/batch/json/\"\n",
    "validation_output_json_path = f\"s3://{s3_bucket}/{model_name}/validation-output/batch/json/\"\n",
    "\n",
    "validation_input_jsonl_path = f\"s3://{s3_bucket}/{model_name}/validation-input/batch/jsonl/\"\n",
    "validation_output_jsonl_path = f\"s3://{s3_bucket}/{model_name}/validation-output/batch/jsonl/\"\n",
    "\n",
    "def write_and_upload_to_s3(input_data, file_name):\n",
    "    file_format = os.path.splitext(file_name)[1].lower()\n",
    "    if file_format == \".json\":\n",
    "        input_data = json.dumps(input_data)\n",
    "\n",
    "    with open(file_name, \"w\") as f:\n",
    "        f.write(input_data)\n",
    "\n",
    "    s3_client.put_object(\n",
    "        Bucket=s3_bucket,\n",
    "        Key=f\"{model_name}/validation-input/batch/{file_format[1:]}/{os.path.basename(file_name)}\",\n",
    "        Body=(bytes(input_data.encode(\"UTF-8\"))),\n",
    "    )"
   ]
  },
  {
   "cell_type": "code",
   "execution_count": 14,
   "metadata": {
    "tags": []
   },
   "outputs": [],
   "source": [
    "input_jsonl_data = create_jsonl(docs)\n",
    "input_json_data = {\"text\": docs}\n",
    "\n",
    "write_and_upload_to_s3(input_json_data, f\"{json_input_dir}/{validation_json_file_name}\")\n",
    "\n",
    "write_and_upload_to_s3(input_jsonl_data, f\"{jsonl_input_dir}/{validation_jsonl_file_name}\")"
   ]
  },
  {
   "cell_type": "markdown",
   "metadata": {},
   "source": [
    "### JSON"
   ]
  },
  {
   "cell_type": "code",
   "execution_count": null,
   "metadata": {
    "tags": []
   },
   "outputs": [],
   "source": [
    "# Initialize a SageMaker Transformer object for making predictions\n",
    "transformer = model.transformer(\n",
    "    instance_count=1,\n",
    "    instance_type=batch_transform_inference_instance_type,\n",
    "    accept=\"application/json\",\n",
    "    output_path=validation_output_json_path\n",
    ")\n",
    "\n",
    "transformer.transform(validation_input_json_path, content_type=\"application/json\")\n",
    "transformer.wait()"
   ]
  },
  {
   "cell_type": "code",
   "execution_count": 16,
   "metadata": {
    "tags": []
   },
   "outputs": [],
   "source": [
    "from urllib.parse import urlparse\n",
    "\n",
    "def process_s3_json_output_and_save(validation_file_name):\n",
    "\n",
    "    output_file_path = f\"{json_output_dir}/{validation_file_name}.out\"\n",
    "    parsed_url = urlparse(transformer.output_path)\n",
    "    file_key = f\"{parsed_url.path[1:]}{validation_file_name}.out\"\n",
    "    response = s3_client.get_object(Bucket=s3_bucket, Key=file_key)\n",
    "\n",
    "    data = json.loads(response[\"Body\"].read().decode(\"utf-8\"))\n",
    "    df = pd.DataFrame(data[\"predictions\"])\n",
    "    display(df)\n",
    "\n",
    "    # Save the data to the output file\n",
    "    with open(output_file_path, 'w') as f_out:\n",
    "        json.dump(data, f_out, indent=4)"
   ]
  },
  {
   "cell_type": "code",
   "execution_count": 17,
   "metadata": {
    "tags": []
   },
   "outputs": [
    {
     "data": {
      "text/html": [
       "<div>\n",
       "<style scoped>\n",
       "    .dataframe tbody tr th:only-of-type {\n",
       "        vertical-align: middle;\n",
       "    }\n",
       "\n",
       "    .dataframe tbody tr th {\n",
       "        vertical-align: top;\n",
       "    }\n",
       "\n",
       "    .dataframe thead th {\n",
       "        text-align: right;\n",
       "    }\n",
       "</style>\n",
       "<table border=\"1\" class=\"dataframe\">\n",
       "  <thead>\n",
       "    <tr style=\"text-align: right;\">\n",
       "      <th></th>\n",
       "      <th>document</th>\n",
       "      <th>ner_chunk</th>\n",
       "      <th>begin</th>\n",
       "      <th>end</th>\n",
       "      <th>ner_label</th>\n",
       "      <th>ner_confidence</th>\n",
       "    </tr>\n",
       "  </thead>\n",
       "  <tbody>\n",
       "    <tr>\n",
       "      <th>0</th>\n",
       "      <td>Maria is a 20-year-old girl who was diagnosed with hyperthyroidism 1 month ago.</td>\n",
       "      <td>20-year-old</td>\n",
       "      <td>11</td>\n",
       "      <td>21</td>\n",
       "      <td>Age</td>\n",
       "      <td>0.9618</td>\n",
       "    </tr>\n",
       "    <tr>\n",
       "      <th>1</th>\n",
       "      <td>Maria is a 20-year-old girl who was diagnosed with hyperthyroidism 1 month ago.</td>\n",
       "      <td>girl</td>\n",
       "      <td>23</td>\n",
       "      <td>26</td>\n",
       "      <td>Gender</td>\n",
       "      <td>0.9991</td>\n",
       "    </tr>\n",
       "    <tr>\n",
       "      <th>2</th>\n",
       "      <td>Maria is a 20-year-old girl who was diagnosed with hyperthyroidism 1 month ago.</td>\n",
       "      <td>hyperthyroidism</td>\n",
       "      <td>51</td>\n",
       "      <td>65</td>\n",
       "      <td>Disease</td>\n",
       "      <td>0.9743</td>\n",
       "    </tr>\n",
       "    <tr>\n",
       "      <th>3</th>\n",
       "      <td>Maria is a 20-year-old girl who was diagnosed with hyperthyroidism 1 month ago.</td>\n",
       "      <td>1 month ago</td>\n",
       "      <td>67</td>\n",
       "      <td>77</td>\n",
       "      <td>DateTime</td>\n",
       "      <td>0.664</td>\n",
       "    </tr>\n",
       "    <tr>\n",
       "      <th>4</th>\n",
       "      <td>She is admitted to The John Hopkins Hospital 2 days ago with a history of gestational diabetes mellitus diagnosed. She denied pain and any headache.</td>\n",
       "      <td>She</td>\n",
       "      <td>0</td>\n",
       "      <td>2</td>\n",
       "      <td>Gender</td>\n",
       "      <td>1.0</td>\n",
       "    </tr>\n",
       "    <tr>\n",
       "      <th>5</th>\n",
       "      <td>She is admitted to The John Hopkins Hospital 2 days ago with a history of gestational diabetes mellitus diagnosed. She denied pain and any headache.</td>\n",
       "      <td>admitted</td>\n",
       "      <td>7</td>\n",
       "      <td>14</td>\n",
       "      <td>AdmissionDischarge</td>\n",
       "      <td>0.9999</td>\n",
       "    </tr>\n",
       "    <tr>\n",
       "      <th>6</th>\n",
       "      <td>She is admitted to The John Hopkins Hospital 2 days ago with a history of gestational diabetes mellitus diagnosed. She denied pain and any headache.</td>\n",
       "      <td>John Hopkins Hospital</td>\n",
       "      <td>23</td>\n",
       "      <td>43</td>\n",
       "      <td>ClinicalDept</td>\n",
       "      <td>0.6984666</td>\n",
       "    </tr>\n",
       "    <tr>\n",
       "      <th>7</th>\n",
       "      <td>She is admitted to The John Hopkins Hospital 2 days ago with a history of gestational diabetes mellitus diagnosed. She denied pain and any headache.</td>\n",
       "      <td>2 days ago</td>\n",
       "      <td>45</td>\n",
       "      <td>54</td>\n",
       "      <td>DateTime</td>\n",
       "      <td>0.8039</td>\n",
       "    </tr>\n",
       "    <tr>\n",
       "      <th>8</th>\n",
       "      <td>She is admitted to The John Hopkins Hospital 2 days ago with a history of gestational diabetes mellitus diagnosed. She denied pain and any headache.</td>\n",
       "      <td>gestational diabetes mellitus</td>\n",
       "      <td>74</td>\n",
       "      <td>102</td>\n",
       "      <td>Disease</td>\n",
       "      <td>0.6344333</td>\n",
       "    </tr>\n",
       "    <tr>\n",
       "      <th>9</th>\n",
       "      <td>She is admitted to The John Hopkins Hospital 2 days ago with a history of gestational diabetes mellitus diagnosed. She denied pain and any headache.</td>\n",
       "      <td>She</td>\n",
       "      <td>115</td>\n",
       "      <td>117</td>\n",
       "      <td>Gender</td>\n",
       "      <td>1.0</td>\n",
       "    </tr>\n",
       "    <tr>\n",
       "      <th>10</th>\n",
       "      <td>She is admitted to The John Hopkins Hospital 2 days ago with a history of gestational diabetes mellitus diagnosed. She denied pain and any headache.</td>\n",
       "      <td>pain</td>\n",
       "      <td>126</td>\n",
       "      <td>129</td>\n",
       "      <td>Symptom</td>\n",
       "      <td>0.998</td>\n",
       "    </tr>\n",
       "    <tr>\n",
       "      <th>11</th>\n",
       "      <td>She is admitted to The John Hopkins Hospital 2 days ago with a history of gestational diabetes mellitus diagnosed. She denied pain and any headache.</td>\n",
       "      <td>headache</td>\n",
       "      <td>139</td>\n",
       "      <td>146</td>\n",
       "      <td>Symptom</td>\n",
       "      <td>0.9986</td>\n",
       "    </tr>\n",
       "  </tbody>\n",
       "</table>\n",
       "</div>"
      ],
      "text/plain": [
       "                                                                                                                                                document  \\\n",
       "0                                                                        Maria is a 20-year-old girl who was diagnosed with hyperthyroidism 1 month ago.   \n",
       "1                                                                        Maria is a 20-year-old girl who was diagnosed with hyperthyroidism 1 month ago.   \n",
       "2                                                                        Maria is a 20-year-old girl who was diagnosed with hyperthyroidism 1 month ago.   \n",
       "3                                                                        Maria is a 20-year-old girl who was diagnosed with hyperthyroidism 1 month ago.   \n",
       "4   She is admitted to The John Hopkins Hospital 2 days ago with a history of gestational diabetes mellitus diagnosed. She denied pain and any headache.   \n",
       "5   She is admitted to The John Hopkins Hospital 2 days ago with a history of gestational diabetes mellitus diagnosed. She denied pain and any headache.   \n",
       "6   She is admitted to The John Hopkins Hospital 2 days ago with a history of gestational diabetes mellitus diagnosed. She denied pain and any headache.   \n",
       "7   She is admitted to The John Hopkins Hospital 2 days ago with a history of gestational diabetes mellitus diagnosed. She denied pain and any headache.   \n",
       "8   She is admitted to The John Hopkins Hospital 2 days ago with a history of gestational diabetes mellitus diagnosed. She denied pain and any headache.   \n",
       "9   She is admitted to The John Hopkins Hospital 2 days ago with a history of gestational diabetes mellitus diagnosed. She denied pain and any headache.   \n",
       "10  She is admitted to The John Hopkins Hospital 2 days ago with a history of gestational diabetes mellitus diagnosed. She denied pain and any headache.   \n",
       "11  She is admitted to The John Hopkins Hospital 2 days ago with a history of gestational diabetes mellitus diagnosed. She denied pain and any headache.   \n",
       "\n",
       "                        ner_chunk  begin  end           ner_label  \\\n",
       "0                     20-year-old     11   21                 Age   \n",
       "1                            girl     23   26              Gender   \n",
       "2                 hyperthyroidism     51   65             Disease   \n",
       "3                     1 month ago     67   77            DateTime   \n",
       "4                             She      0    2              Gender   \n",
       "5                        admitted      7   14  AdmissionDischarge   \n",
       "6           John Hopkins Hospital     23   43        ClinicalDept   \n",
       "7                      2 days ago     45   54            DateTime   \n",
       "8   gestational diabetes mellitus     74  102             Disease   \n",
       "9                             She    115  117              Gender   \n",
       "10                           pain    126  129             Symptom   \n",
       "11                       headache    139  146             Symptom   \n",
       "\n",
       "   ner_confidence  \n",
       "0          0.9618  \n",
       "1          0.9991  \n",
       "2          0.9743  \n",
       "3           0.664  \n",
       "4             1.0  \n",
       "5          0.9999  \n",
       "6       0.6984666  \n",
       "7          0.8039  \n",
       "8       0.6344333  \n",
       "9             1.0  \n",
       "10          0.998  \n",
       "11         0.9986  "
      ]
     },
     "metadata": {},
     "output_type": "display_data"
    }
   ],
   "source": [
    "process_s3_json_output_and_save(validation_json_file_name)"
   ]
  },
  {
   "cell_type": "markdown",
   "metadata": {},
   "source": [
    "### JSON Lines"
   ]
  },
  {
   "cell_type": "code",
   "execution_count": null,
   "metadata": {
    "tags": []
   },
   "outputs": [],
   "source": [
    "transformer = model.transformer(\n",
    "    instance_count=1,\n",
    "    instance_type=batch_transform_inference_instance_type,\n",
    "    accept=\"application/jsonlines\",\n",
    "    output_path=validation_output_jsonl_path\n",
    ")\n",
    "transformer.transform(validation_input_jsonl_path, content_type=\"application/jsonlines\")\n",
    "transformer.wait()"
   ]
  },
  {
   "cell_type": "code",
   "execution_count": 19,
   "metadata": {
    "tags": []
   },
   "outputs": [],
   "source": [
    "from urllib.parse import urlparse\n",
    "\n",
    "def process_s3_jsonlines_output_and_save(validation_file_name):\n",
    "\n",
    "    output_file_path = f\"{jsonl_output_dir}/{validation_file_name}.out\"\n",
    "    parsed_url = urlparse(transformer.output_path)\n",
    "    file_key = f\"{parsed_url.path[1:]}{validation_file_name}.out\"\n",
    "    response = s3_client.get_object(Bucket=s3_bucket, Key=file_key)\n",
    "\n",
    "    data = response[\"Body\"].read().decode(\"utf-8\")\n",
    "    print(data)\n",
    "\n",
    "    # Save the data to the output file\n",
    "    with open(output_file_path, 'w') as f_out:\n",
    "        for item in data.split('\\n'):\n",
    "            f_out.write(item + '\\n')"
   ]
  },
  {
   "cell_type": "code",
   "execution_count": 20,
   "metadata": {
    "tags": []
   },
   "outputs": [
    {
     "name": "stdout",
     "output_type": "stream",
     "text": [
      "{\"predictions\": [{\"ner_chunk\": \"20-year-old\", \"begin\": 11, \"end\": 21, \"ner_label\": \"Age\", \"ner_confidence\": \"0.9618\"}, {\"ner_chunk\": \"girl\", \"begin\": 23, \"end\": 26, \"ner_label\": \"Gender\", \"ner_confidence\": \"0.9991\"}, {\"ner_chunk\": \"hyperthyroidism\", \"begin\": 51, \"end\": 65, \"ner_label\": \"Disease\", \"ner_confidence\": \"0.9743\"}, {\"ner_chunk\": \"1 month ago\", \"begin\": 67, \"end\": 77, \"ner_label\": \"DateTime\", \"ner_confidence\": \"0.664\"}]}\n",
      "{\"predictions\": [{\"ner_chunk\": \"She\", \"begin\": 0, \"end\": 2, \"ner_label\": \"Gender\", \"ner_confidence\": \"1.0\"}, {\"ner_chunk\": \"admitted\", \"begin\": 7, \"end\": 14, \"ner_label\": \"AdmissionDischarge\", \"ner_confidence\": \"0.9999\"}, {\"ner_chunk\": \"John Hopkins Hospital\", \"begin\": 23, \"end\": 43, \"ner_label\": \"ClinicalDept\", \"ner_confidence\": \"0.6984666\"}, {\"ner_chunk\": \"2 days ago\", \"begin\": 45, \"end\": 54, \"ner_label\": \"DateTime\", \"ner_confidence\": \"0.8039\"}, {\"ner_chunk\": \"gestational diabetes mellitus\", \"begin\": 74, \"end\": 102, \"ner_label\": \"Disease\", \"ner_confidence\": \"0.6344333\"}, {\"ner_chunk\": \"She\", \"begin\": 115, \"end\": 117, \"ner_label\": \"Gender\", \"ner_confidence\": \"1.0\"}, {\"ner_chunk\": \"pain\", \"begin\": 126, \"end\": 129, \"ner_label\": \"Symptom\", \"ner_confidence\": \"0.998\"}, {\"ner_chunk\": \"headache\", \"begin\": 139, \"end\": 146, \"ner_label\": \"Symptom\", \"ner_confidence\": \"0.9986\"}]}\n"
     ]
    }
   ],
   "source": [
    "process_s3_jsonlines_output_and_save(validation_jsonl_file_name)"
   ]
  },
  {
   "cell_type": "code",
   "execution_count": 21,
   "metadata": {
    "tags": []
   },
   "outputs": [
    {
     "name": "stderr",
     "output_type": "stream",
     "text": [
      "INFO:sagemaker:Deleting model with name: en-med-ner-vop-pipeline-2024-05-07-10-19-31-901\n"
     ]
    }
   ],
   "source": [
    "model.delete_model()"
   ]
  },
  {
   "cell_type": "markdown",
   "metadata": {},
   "source": [
    "### Unsubscribe to the listing (optional)"
   ]
  },
  {
   "cell_type": "markdown",
   "metadata": {
    "tags": []
   },
   "source": [
    "If you would like to unsubscribe to the model package, follow these steps. Before you cancel the subscription, ensure that you do not have any [deployable model](https://console.aws.amazon.com/sagemaker/home#/models) created from the model package or using the algorithm. Note - You can find this information by looking at the container name associated with the model. \n",
    "\n",
    "**Steps to unsubscribe to product from AWS Marketplace**:\n",
    "1. Navigate to __Machine Learning__ tab on [__Your Software subscriptions page__](https://aws.amazon.com/marketplace/ai/library?productType=ml&ref_=mlmp_gitdemo_indust)\n",
    "2. Locate the listing that you want to cancel the subscription for, and then choose __Cancel Subscription__  to cancel the subscription.\n",
    "\n"
   ]
  }
 ],
 "metadata": {
  "instance_type": "ml.t3.medium",
  "kernelspec": {
   "display_name": "conda_python3",
   "language": "python",
   "name": "conda_python3"
  },
  "language_info": {
   "codemirror_mode": {
    "name": "ipython",
    "version": 3
   },
   "file_extension": ".py",
   "mimetype": "text/x-python",
   "name": "python",
   "nbconvert_exporter": "python",
   "pygments_lexer": "ipython3",
   "version": "3.10.14"
  }
 },
 "nbformat": 4,
 "nbformat_minor": 4
}

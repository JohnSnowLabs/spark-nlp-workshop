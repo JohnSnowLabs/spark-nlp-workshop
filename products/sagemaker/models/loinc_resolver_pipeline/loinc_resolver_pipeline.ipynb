{
 "cells": [
  {
   "cell_type": "markdown",
   "metadata": {},
   "source": [
    "## 1. Subscribe to the model package"
   ]
  },
  {
   "cell_type": "markdown",
   "metadata": {},
   "source": [
    "To subscribe to the model package:\n",
    "1. Open the model package listing page <font color='red'> For Seller to update:[Title_of_your_product](Provide link to your marketplace listing of your product).</font>\n",
    "1. On the AWS Marketplace listing, click on the **Continue to subscribe** button.\n",
    "1. On the **Subscribe to this software** page, review and click on **\"Accept Offer\"** if you and your organization agrees with EULA, pricing, and support terms. \n",
    "1. Once you click on **Continue to configuration button** and then choose a **region**, you will see a **Product Arn** displayed. This is the model package ARN that you need to specify while creating a deployable model using Boto3. Copy the ARN corresponding to your region and specify the same in the following cell."
   ]
  },
  {
   "cell_type": "markdown",
   "metadata": {},
   "source": [
    "## Pipeline for Logical Observation Identifiers Names and Codes (LOINC)\n",
    "\n",
    "- **Model**: `loinc_resolver_pipeline`\n",
    "- **Model Description**: This pipeline extracts `Test` entities from clinical texts and maps them to their corresponding Logical Observation Identifiers Names and Codes (LOINC) codes using `sbiobert_base_cased_mli` Sentence Bert Embeddings."
   ]
  },
  {
   "cell_type": "code",
   "execution_count": 1,
   "metadata": {
    "tags": []
   },
   "outputs": [],
   "source": [
    "model_package_arn = \"<Customer to specify Model package ARN corresponding to their AWS region>\""
   ]
  },
  {
   "cell_type": "code",
   "execution_count": 17,
   "metadata": {
    "tags": []
   },
   "outputs": [],
   "source": [
    "import base64\n",
    "import json\n",
    "import uuid\n",
    "from sagemaker import ModelPackage\n",
    "import sagemaker as sage\n",
    "from sagemaker import get_execution_role\n",
    "import boto3\n",
    "from IPython.display import Image, display\n",
    "from PIL import Image as ImageEdit\n",
    "import numpy as np"
   ]
  },
  {
   "cell_type": "code",
   "execution_count": 18,
   "metadata": {
    "tags": []
   },
   "outputs": [],
   "source": [
    "sagemaker_session = sage.Session()\n",
    "s3_bucket = sagemaker_session.default_bucket()\n",
    "region = sagemaker_session.boto_region_name\n",
    "account_id = boto3.client(\"sts\").get_caller_identity().get(\"Account\")\n",
    "role = get_execution_role()\n",
    "\n",
    "sagemaker = boto3.client(\"sagemaker\")\n",
    "s3_client = sagemaker_session.boto_session.client(\"s3\")\n",
    "ecr = boto3.client(\"ecr\")\n",
    "sm_runtime = boto3.client(\"sagemaker-runtime\")"
   ]
  },
  {
   "cell_type": "markdown",
   "metadata": {},
   "source": [
    "## 2. Create an endpoint and perform real-time inference"
   ]
  },
  {
   "cell_type": "markdown",
   "metadata": {},
   "source": [
    "If you want to understand how real-time inference with Amazon SageMaker works, see [Documentation](https://docs.aws.amazon.com/sagemaker/latest/dg/how-it-works-hosting.html)."
   ]
  },
  {
   "cell_type": "code",
   "execution_count": 19,
   "metadata": {
    "tags": []
   },
   "outputs": [],
   "source": [
    "model_name = \"loinc-resolver-pipeline\"\n",
    "\n",
    "real_time_inference_instance_type = \"ml.m4.xlarge\"\n",
    "batch_transform_inference_instance_type = \"ml.m4.xlarge\"\n"
   ]
  },
  {
   "cell_type": "markdown",
   "metadata": {},
   "source": [
    "### A. Create an endpoint"
   ]
  },
  {
   "cell_type": "code",
   "execution_count": 20,
   "metadata": {
    "tags": []
   },
   "outputs": [
    {
     "name": "stderr",
     "output_type": "stream",
     "text": [
      "INFO:sagemaker:Creating model with name: loinc-resolver-pipeline-2024-06-10-12-19-31-977\n",
      "INFO:sagemaker:Creating endpoint-config with name loinc-resolver-pipeline\n",
      "INFO:sagemaker:Creating endpoint with name loinc-resolver-pipeline\n"
     ]
    },
    {
     "name": "stdout",
     "output_type": "stream",
     "text": [
      "----------!"
     ]
    }
   ],
   "source": [
    "# create a deployable model from the model package.\n",
    "model = ModelPackage(\n",
    "    role=role, model_package_arn=model_package_arn, sagemaker_session=sagemaker_session\n",
    ")\n",
    "\n",
    "# Deploy the model\n",
    "predictor = model.deploy(1, real_time_inference_instance_type, endpoint_name=model_name)"
   ]
  },
  {
   "cell_type": "markdown",
   "metadata": {},
   "source": [
    "Once endpoint has been created, you would be able to perform real-time inference."
   ]
  },
  {
   "cell_type": "code",
   "execution_count": 21,
   "metadata": {
    "tags": []
   },
   "outputs": [],
   "source": [
    "import json\n",
    "import pandas as pd\n",
    "import os\n",
    "import boto3\n",
    "\n",
    "# Set display options\n",
    "pd.set_option('display.max_rows', None)\n",
    "pd.set_option('display.max_columns', None)\n",
    "pd.set_option('display.max_colwidth', None)\n",
    "\n",
    "def process_data_and_invoke_realtime_endpoint(data, content_type, accept):\n",
    "\n",
    "    content_type_to_format = {'application/json': 'json', 'application/jsonlines': 'jsonl'}\n",
    "    input_format = content_type_to_format.get(content_type)\n",
    "    if content_type not in content_type_to_format.keys() or accept not in content_type_to_format.keys():\n",
    "        raise ValueError(\"Invalid content_type or accept. It should be either 'application/json' or 'application/jsonlines'.\")\n",
    "\n",
    "    i = 1\n",
    "    input_dir = f'inputs/real-time/{input_format}'\n",
    "    output_dir = f'outputs/real-time/{input_format}'\n",
    "    s3_input_dir = f\"{model_name}/validation-input/real-time/{input_format}\"\n",
    "    s3_output_dir = f\"{model_name}/validation-output/real-time/{input_format}\"\n",
    "\n",
    "    input_file_name = f'{input_dir}/input{i}.{input_format}'\n",
    "    output_file_name = f'{output_dir}/{os.path.basename(input_file_name)}.out'\n",
    "\n",
    "    while os.path.exists(input_file_name) or os.path.exists(output_file_name):\n",
    "        i += 1\n",
    "        input_file_name = f'{input_dir}/input{i}.{input_format}'\n",
    "        output_file_name = f'{output_dir}/{os.path.basename(input_file_name)}.out'\n",
    "\n",
    "    os.makedirs(os.path.dirname(input_file_name), exist_ok=True)\n",
    "    os.makedirs(os.path.dirname(output_file_name), exist_ok=True)\n",
    "\n",
    "    input_data = json.dumps(data) if content_type == 'application/json' else data\n",
    "\n",
    "    # Write input data to file\n",
    "    with open(input_file_name, 'w') as f:\n",
    "        f.write(input_data)\n",
    "\n",
    "    # Upload input data to S3\n",
    "    s3_client.put_object(Bucket=s3_bucket, Key=f\"{s3_input_dir}/{os.path.basename(input_file_name)}\", Body=bytes(input_data.encode('UTF-8')))\n",
    "\n",
    "    # Invoke the SageMaker endpoint\n",
    "    response = sm_runtime.invoke_endpoint(\n",
    "        EndpointName=model_name,\n",
    "        ContentType=content_type,\n",
    "        Accept=accept,\n",
    "        Body=input_data,\n",
    "    )\n",
    "\n",
    "    # Read response data\n",
    "    response_data = json.loads(response[\"Body\"].read().decode(\"utf-8\")) if accept == 'application/json' else response['Body'].read().decode('utf-8')\n",
    "\n",
    "    # Save response data to file\n",
    "    with open(output_file_name, 'w') as f_out:\n",
    "        if accept == 'application/json':\n",
    "            json.dump(response_data, f_out, indent=4)\n",
    "        else:\n",
    "            for item in response_data.split('\\n'):\n",
    "                f_out.write(item + '\\n')\n",
    "\n",
    "    # Upload response data to S3\n",
    "    output_s3_key = f\"{s3_output_dir}/{os.path.basename(output_file_name)}\"\n",
    "    if accept == 'application/json':\n",
    "        s3_client.put_object(Bucket=s3_bucket, Key=output_s3_key, Body=json.dumps(response_data).encode('UTF-8'))\n",
    "    else:\n",
    "        s3_client.put_object(Bucket=s3_bucket, Key=output_s3_key, Body=response_data)\n",
    "\n",
    "    return response_data"
   ]
  },
  {
   "cell_type": "markdown",
   "metadata": {},
   "source": [
    "### Initial Setup"
   ]
  },
  {
   "cell_type": "code",
   "execution_count": 22,
   "metadata": {
    "tags": []
   },
   "outputs": [],
   "source": [
    "docs = [\n",
    "    \"The patient is a 22-year-old female with a history of obesity. She has a Body mass index (BMI) of 33.5 kg/m2, aspartate aminotransferase 64, and alanine aminotransferase 126.\", \n",
    "    \"Final diagnosis:  : DNA was extracted from the peripheral blood specimen and a polymerase chain reaction (PCR)-based assay performed that is designed to detect the presence of two separate mutations in the FLT3 gene: (1) within a susceptible region that includes coding sequence for the intracellular juxtamembrane domain and (2)   Negative. Neither expansion of the region susceptible to nor changes consistent with mutation of the codon for ASP835 were identified.\",\n",
    "]\n",
    "\n",
    "\n",
    "sample_text = \"\"\"A 65-year-old woman presents to the office with generalized fatigue for the last 4 months.\n",
    "  She used to walk 1 mile each evening but now gets tired after 1-2 blocks. She has a history of Crohn disease and hypertension\n",
    "  for which she receives appropriate medications. She is married and lives with her husband. She eats a balanced diet that\n",
    "  includes chicken, fish, pork, fruits, and vegetables. She rarely drinks alcohol and denies tobacco use. Vital signs are\n",
    "  within normal limits. A physical examination is unremarkable. Laboratory studies show the following: Hemoglobin: 9.8g/dL, Hematocrit: 32%, Mean Corpuscular Volume: 110 μm3\"\"\""
   ]
  },
  {
   "cell_type": "markdown",
   "metadata": {},
   "source": [
    "### JSON"
   ]
  },
  {
   "cell_type": "markdown",
   "metadata": {},
   "source": [
    "#### Example 1"
   ]
  },
  {
   "cell_type": "markdown",
   "metadata": {},
   "source": [
    "  **Input format**:\n",
    "  \n",
    "  \n",
    "```json\n",
    "{\n",
    "    \"text\": \"Single text document\"\n",
    "}\n",
    "```"
   ]
  },
  {
   "cell_type": "code",
   "execution_count": 23,
   "metadata": {
    "tags": []
   },
   "outputs": [
    {
     "data": {
      "text/html": [
       "<div>\n",
       "<style scoped>\n",
       "    .dataframe tbody tr th:only-of-type {\n",
       "        vertical-align: middle;\n",
       "    }\n",
       "\n",
       "    .dataframe tbody tr th {\n",
       "        vertical-align: top;\n",
       "    }\n",
       "\n",
       "    .dataframe thead th {\n",
       "        text-align: right;\n",
       "    }\n",
       "</style>\n",
       "<table border=\"1\" class=\"dataframe\">\n",
       "  <thead>\n",
       "    <tr style=\"text-align: right;\">\n",
       "      <th></th>\n",
       "      <th>document</th>\n",
       "      <th>ner_chunk</th>\n",
       "      <th>begin</th>\n",
       "      <th>end</th>\n",
       "      <th>ner_label</th>\n",
       "      <th>ner_confidence</th>\n",
       "      <th>loinc_code</th>\n",
       "      <th>loinc_resolution</th>\n",
       "      <th>loinc_confidence</th>\n",
       "    </tr>\n",
       "  </thead>\n",
       "  <tbody>\n",
       "    <tr>\n",
       "      <th>0</th>\n",
       "      <td>A 65-year-old woman presents to the office with generalized fatigue for the last 4 months.\\n  She used to walk 1 mile each evening but now gets tired after 1-2 blocks. She has a history of Crohn disease and hypertension\\n  for which she receives appropriate medications. She is married and lives with her husband. She eats a balanced diet that\\n  includes chicken, fish, pork, fruits, and vegetables. She rarely drinks alcohol and denies tobacco use. Vital signs are\\n  within normal limits. A physical examination is unremarkable. Laboratory studies show the following: Hemoglobin: 9.8g/dL, Hematocrit: 32%, Mean Corpuscular Volume: 110 μm3</td>\n",
       "      <td>Vital signs</td>\n",
       "      <td>448</td>\n",
       "      <td>458</td>\n",
       "      <td>Test</td>\n",
       "      <td>0.87475</td>\n",
       "      <td>8716-3</td>\n",
       "      <td>Vital signs [Vital signs]</td>\n",
       "      <td>0.9796</td>\n",
       "    </tr>\n",
       "    <tr>\n",
       "      <th>1</th>\n",
       "      <td>A 65-year-old woman presents to the office with generalized fatigue for the last 4 months.\\n  She used to walk 1 mile each evening but now gets tired after 1-2 blocks. She has a history of Crohn disease and hypertension\\n  for which she receives appropriate medications. She is married and lives with her husband. She eats a balanced diet that\\n  includes chicken, fish, pork, fruits, and vegetables. She rarely drinks alcohol and denies tobacco use. Vital signs are\\n  within normal limits. A physical examination is unremarkable. Laboratory studies show the following: Hemoglobin: 9.8g/dL, Hematocrit: 32%, Mean Corpuscular Volume: 110 μm3</td>\n",
       "      <td>A physical examination</td>\n",
       "      <td>488</td>\n",
       "      <td>509</td>\n",
       "      <td>Test</td>\n",
       "      <td>0.91120005</td>\n",
       "      <td>LP7801-6</td>\n",
       "      <td>Physical exam [Physical exam]</td>\n",
       "      <td>0.2517</td>\n",
       "    </tr>\n",
       "    <tr>\n",
       "      <th>2</th>\n",
       "      <td>A 65-year-old woman presents to the office with generalized fatigue for the last 4 months.\\n  She used to walk 1 mile each evening but now gets tired after 1-2 blocks. She has a history of Crohn disease and hypertension\\n  for which she receives appropriate medications. She is married and lives with her husband. She eats a balanced diet that\\n  includes chicken, fish, pork, fruits, and vegetables. She rarely drinks alcohol and denies tobacco use. Vital signs are\\n  within normal limits. A physical examination is unremarkable. Laboratory studies show the following: Hemoglobin: 9.8g/dL, Hematocrit: 32%, Mean Corpuscular Volume: 110 μm3</td>\n",
       "      <td>Laboratory studies</td>\n",
       "      <td>528</td>\n",
       "      <td>545</td>\n",
       "      <td>Test</td>\n",
       "      <td>0.70070004</td>\n",
       "      <td>26436-6</td>\n",
       "      <td>Laboratory studies [Laboratory studies]</td>\n",
       "      <td>0.9922</td>\n",
       "    </tr>\n",
       "    <tr>\n",
       "      <th>3</th>\n",
       "      <td>A 65-year-old woman presents to the office with generalized fatigue for the last 4 months.\\n  She used to walk 1 mile each evening but now gets tired after 1-2 blocks. She has a history of Crohn disease and hypertension\\n  for which she receives appropriate medications. She is married and lives with her husband. She eats a balanced diet that\\n  includes chicken, fish, pork, fruits, and vegetables. She rarely drinks alcohol and denies tobacco use. Vital signs are\\n  within normal limits. A physical examination is unremarkable. Laboratory studies show the following: Hemoglobin: 9.8g/dL, Hematocrit: 32%, Mean Corpuscular Volume: 110 μm3</td>\n",
       "      <td>Hemoglobin</td>\n",
       "      <td>567</td>\n",
       "      <td>576</td>\n",
       "      <td>Test</td>\n",
       "      <td>0.9995</td>\n",
       "      <td>14775-1</td>\n",
       "      <td>Hemoglobin [Hemoglobin]</td>\n",
       "      <td>0.8477</td>\n",
       "    </tr>\n",
       "    <tr>\n",
       "      <th>4</th>\n",
       "      <td>A 65-year-old woman presents to the office with generalized fatigue for the last 4 months.\\n  She used to walk 1 mile each evening but now gets tired after 1-2 blocks. She has a history of Crohn disease and hypertension\\n  for which she receives appropriate medications. She is married and lives with her husband. She eats a balanced diet that\\n  includes chicken, fish, pork, fruits, and vegetables. She rarely drinks alcohol and denies tobacco use. Vital signs are\\n  within normal limits. A physical examination is unremarkable. Laboratory studies show the following: Hemoglobin: 9.8g/dL, Hematocrit: 32%, Mean Corpuscular Volume: 110 μm3</td>\n",
       "      <td>Hematocrit</td>\n",
       "      <td>588</td>\n",
       "      <td>597</td>\n",
       "      <td>Test</td>\n",
       "      <td>0.9986</td>\n",
       "      <td>11151-8</td>\n",
       "      <td>Hematocrit [Hematocrit]</td>\n",
       "      <td>0.9867</td>\n",
       "    </tr>\n",
       "    <tr>\n",
       "      <th>5</th>\n",
       "      <td>A 65-year-old woman presents to the office with generalized fatigue for the last 4 months.\\n  She used to walk 1 mile each evening but now gets tired after 1-2 blocks. She has a history of Crohn disease and hypertension\\n  for which she receives appropriate medications. She is married and lives with her husband. She eats a balanced diet that\\n  includes chicken, fish, pork, fruits, and vegetables. She rarely drinks alcohol and denies tobacco use. Vital signs are\\n  within normal limits. A physical examination is unremarkable. Laboratory studies show the following: Hemoglobin: 9.8g/dL, Hematocrit: 32%, Mean Corpuscular Volume: 110 μm3</td>\n",
       "      <td>Mean Corpuscular Volume</td>\n",
       "      <td>605</td>\n",
       "      <td>627</td>\n",
       "      <td>Test</td>\n",
       "      <td>0.7</td>\n",
       "      <td>11272-2</td>\n",
       "      <td>Erythrocyte mean corpuscular volume [Erythrocyte mean corpuscular volume]</td>\n",
       "      <td>0.2173</td>\n",
       "    </tr>\n",
       "  </tbody>\n",
       "</table>\n",
       "</div>"
      ],
      "text/plain": [
       "                                                                                                                                                                                                                                                                                                                                                                                                                                                                                                                                                                                                                                                            document  \\\n",
       "0  A 65-year-old woman presents to the office with generalized fatigue for the last 4 months.\\n  She used to walk 1 mile each evening but now gets tired after 1-2 blocks. She has a history of Crohn disease and hypertension\\n  for which she receives appropriate medications. She is married and lives with her husband. She eats a balanced diet that\\n  includes chicken, fish, pork, fruits, and vegetables. She rarely drinks alcohol and denies tobacco use. Vital signs are\\n  within normal limits. A physical examination is unremarkable. Laboratory studies show the following: Hemoglobin: 9.8g/dL, Hematocrit: 32%, Mean Corpuscular Volume: 110 μm3   \n",
       "1  A 65-year-old woman presents to the office with generalized fatigue for the last 4 months.\\n  She used to walk 1 mile each evening but now gets tired after 1-2 blocks. She has a history of Crohn disease and hypertension\\n  for which she receives appropriate medications. She is married and lives with her husband. She eats a balanced diet that\\n  includes chicken, fish, pork, fruits, and vegetables. She rarely drinks alcohol and denies tobacco use. Vital signs are\\n  within normal limits. A physical examination is unremarkable. Laboratory studies show the following: Hemoglobin: 9.8g/dL, Hematocrit: 32%, Mean Corpuscular Volume: 110 μm3   \n",
       "2  A 65-year-old woman presents to the office with generalized fatigue for the last 4 months.\\n  She used to walk 1 mile each evening but now gets tired after 1-2 blocks. She has a history of Crohn disease and hypertension\\n  for which she receives appropriate medications. She is married and lives with her husband. She eats a balanced diet that\\n  includes chicken, fish, pork, fruits, and vegetables. She rarely drinks alcohol and denies tobacco use. Vital signs are\\n  within normal limits. A physical examination is unremarkable. Laboratory studies show the following: Hemoglobin: 9.8g/dL, Hematocrit: 32%, Mean Corpuscular Volume: 110 μm3   \n",
       "3  A 65-year-old woman presents to the office with generalized fatigue for the last 4 months.\\n  She used to walk 1 mile each evening but now gets tired after 1-2 blocks. She has a history of Crohn disease and hypertension\\n  for which she receives appropriate medications. She is married and lives with her husband. She eats a balanced diet that\\n  includes chicken, fish, pork, fruits, and vegetables. She rarely drinks alcohol and denies tobacco use. Vital signs are\\n  within normal limits. A physical examination is unremarkable. Laboratory studies show the following: Hemoglobin: 9.8g/dL, Hematocrit: 32%, Mean Corpuscular Volume: 110 μm3   \n",
       "4  A 65-year-old woman presents to the office with generalized fatigue for the last 4 months.\\n  She used to walk 1 mile each evening but now gets tired after 1-2 blocks. She has a history of Crohn disease and hypertension\\n  for which she receives appropriate medications. She is married and lives with her husband. She eats a balanced diet that\\n  includes chicken, fish, pork, fruits, and vegetables. She rarely drinks alcohol and denies tobacco use. Vital signs are\\n  within normal limits. A physical examination is unremarkable. Laboratory studies show the following: Hemoglobin: 9.8g/dL, Hematocrit: 32%, Mean Corpuscular Volume: 110 μm3   \n",
       "5  A 65-year-old woman presents to the office with generalized fatigue for the last 4 months.\\n  She used to walk 1 mile each evening but now gets tired after 1-2 blocks. She has a history of Crohn disease and hypertension\\n  for which she receives appropriate medications. She is married and lives with her husband. She eats a balanced diet that\\n  includes chicken, fish, pork, fruits, and vegetables. She rarely drinks alcohol and denies tobacco use. Vital signs are\\n  within normal limits. A physical examination is unremarkable. Laboratory studies show the following: Hemoglobin: 9.8g/dL, Hematocrit: 32%, Mean Corpuscular Volume: 110 μm3   \n",
       "\n",
       "                 ner_chunk  begin  end ner_label ner_confidence loinc_code  \\\n",
       "0              Vital signs    448  458      Test        0.87475     8716-3   \n",
       "1   A physical examination    488  509      Test     0.91120005   LP7801-6   \n",
       "2       Laboratory studies    528  545      Test     0.70070004    26436-6   \n",
       "3               Hemoglobin    567  576      Test         0.9995    14775-1   \n",
       "4               Hematocrit    588  597      Test         0.9986    11151-8   \n",
       "5  Mean Corpuscular Volume    605  627      Test            0.7    11272-2   \n",
       "\n",
       "                                                            loinc_resolution  \\\n",
       "0                                                  Vital signs [Vital signs]   \n",
       "1                                              Physical exam [Physical exam]   \n",
       "2                                    Laboratory studies [Laboratory studies]   \n",
       "3                                                    Hemoglobin [Hemoglobin]   \n",
       "4                                                    Hematocrit [Hematocrit]   \n",
       "5  Erythrocyte mean corpuscular volume [Erythrocyte mean corpuscular volume]   \n",
       "\n",
       "  loinc_confidence  \n",
       "0           0.9796  \n",
       "1           0.2517  \n",
       "2           0.9922  \n",
       "3           0.8477  \n",
       "4           0.9867  \n",
       "5           0.2173  "
      ]
     },
     "execution_count": 23,
     "metadata": {},
     "output_type": "execute_result"
    }
   ],
   "source": [
    "input_json_data = {\"text\": sample_text}\n",
    "\n",
    "data =  process_data_and_invoke_realtime_endpoint(input_json_data, content_type=\"application/json\" , accept=\"application/json\" )\n",
    "pd.DataFrame(data[\"predictions\"])"
   ]
  },
  {
   "cell_type": "markdown",
   "metadata": {},
   "source": [
    "#### Example 2"
   ]
  },
  {
   "cell_type": "markdown",
   "metadata": {},
   "source": [
    "  **Input format**:\n",
    "  \n",
    "  \n",
    "```json\n",
    "{\n",
    "    \"text\": [\n",
    "        \"Text document 1\",\n",
    "        \"Text document 2\",\n",
    "        ...\n",
    "    ]\n",
    "}\n",
    "```"
   ]
  },
  {
   "cell_type": "code",
   "execution_count": 24,
   "metadata": {
    "tags": []
   },
   "outputs": [
    {
     "data": {
      "text/html": [
       "<div>\n",
       "<style scoped>\n",
       "    .dataframe tbody tr th:only-of-type {\n",
       "        vertical-align: middle;\n",
       "    }\n",
       "\n",
       "    .dataframe tbody tr th {\n",
       "        vertical-align: top;\n",
       "    }\n",
       "\n",
       "    .dataframe thead th {\n",
       "        text-align: right;\n",
       "    }\n",
       "</style>\n",
       "<table border=\"1\" class=\"dataframe\">\n",
       "  <thead>\n",
       "    <tr style=\"text-align: right;\">\n",
       "      <th></th>\n",
       "      <th>document</th>\n",
       "      <th>ner_chunk</th>\n",
       "      <th>begin</th>\n",
       "      <th>end</th>\n",
       "      <th>ner_label</th>\n",
       "      <th>ner_confidence</th>\n",
       "      <th>loinc_code</th>\n",
       "      <th>loinc_resolution</th>\n",
       "      <th>loinc_confidence</th>\n",
       "    </tr>\n",
       "  </thead>\n",
       "  <tbody>\n",
       "    <tr>\n",
       "      <th>0</th>\n",
       "      <td>The patient is a 22-year-old female with a history of obesity. She has a Body mass index (BMI) of 33.5 kg/m2, aspartate aminotransferase 64, and alanine aminotransferase 126.</td>\n",
       "      <td>BMI)</td>\n",
       "      <td>90</td>\n",
       "      <td>93</td>\n",
       "      <td>Test</td>\n",
       "      <td>0.698</td>\n",
       "      <td>39156-5</td>\n",
       "      <td>BMI [Body mass index]</td>\n",
       "      <td>0.4923</td>\n",
       "    </tr>\n",
       "    <tr>\n",
       "      <th>1</th>\n",
       "      <td>The patient is a 22-year-old female with a history of obesity. She has a Body mass index (BMI) of 33.5 kg/m2, aspartate aminotransferase 64, and alanine aminotransferase 126.</td>\n",
       "      <td>aspartate aminotransferase</td>\n",
       "      <td>110</td>\n",
       "      <td>135</td>\n",
       "      <td>Test</td>\n",
       "      <td>0.8905</td>\n",
       "      <td>14409-7</td>\n",
       "      <td>Aspartate aminotransferase [Aspartate aminotransferase]</td>\n",
       "      <td>0.9928</td>\n",
       "    </tr>\n",
       "    <tr>\n",
       "      <th>2</th>\n",
       "      <td>The patient is a 22-year-old female with a history of obesity. She has a Body mass index (BMI) of 33.5 kg/m2, aspartate aminotransferase 64, and alanine aminotransferase 126.</td>\n",
       "      <td>alanine aminotransferase</td>\n",
       "      <td>145</td>\n",
       "      <td>168</td>\n",
       "      <td>Test</td>\n",
       "      <td>0.825</td>\n",
       "      <td>16324-6</td>\n",
       "      <td>Alanine aminotransferase [Alanine aminotransferase]</td>\n",
       "      <td>0.9868</td>\n",
       "    </tr>\n",
       "    <tr>\n",
       "      <th>3</th>\n",
       "      <td>Final diagnosis:  : DNA was extracted from the peripheral blood specimen and a polymerase chain reaction (PCR)-based assay performed that is designed to detect the presence of two separate mutations in the FLT3 gene: (1) within a susceptible region that includes coding sequence for the intracellular juxtamembrane domain and (2)   Negative. Neither expansion of the region susceptible to nor changes consistent with mutation of the codon for ASP835 were identified.</td>\n",
       "      <td>the peripheral blood specimen</td>\n",
       "      <td>43</td>\n",
       "      <td>71</td>\n",
       "      <td>Test</td>\n",
       "      <td>0.69299996</td>\n",
       "      <td>LP7072-4</td>\n",
       "      <td>Blood peripheral [Blood peripheral]</td>\n",
       "      <td>0.4696</td>\n",
       "    </tr>\n",
       "    <tr>\n",
       "      <th>4</th>\n",
       "      <td>Final diagnosis:  : DNA was extracted from the peripheral blood specimen and a polymerase chain reaction (PCR)-based assay performed that is designed to detect the presence of two separate mutations in the FLT3 gene: (1) within a susceptible region that includes coding sequence for the intracellular juxtamembrane domain and (2)   Negative. Neither expansion of the region susceptible to nor changes consistent with mutation of the codon for ASP835 were identified.</td>\n",
       "      <td>a polymerase chain reaction</td>\n",
       "      <td>77</td>\n",
       "      <td>103</td>\n",
       "      <td>Test</td>\n",
       "      <td>0.73675</td>\n",
       "      <td>LP89236-1</td>\n",
       "      <td>RNA polymerase I [RNA polymerase I]</td>\n",
       "      <td>0.0792</td>\n",
       "    </tr>\n",
       "    <tr>\n",
       "      <th>5</th>\n",
       "      <td>Final diagnosis:  : DNA was extracted from the peripheral blood specimen and a polymerase chain reaction (PCR)-based assay performed that is designed to detect the presence of two separate mutations in the FLT3 gene: (1) within a susceptible region that includes coding sequence for the intracellular juxtamembrane domain and (2)   Negative. Neither expansion of the region susceptible to nor changes consistent with mutation of the codon for ASP835 were identified.</td>\n",
       "      <td>PCR)-based assay</td>\n",
       "      <td>106</td>\n",
       "      <td>121</td>\n",
       "      <td>Test</td>\n",
       "      <td>0.75715</td>\n",
       "      <td>13590-5</td>\n",
       "      <td>aPCR PPP [Activated protein C resistance]</td>\n",
       "      <td>0.0693</td>\n",
       "    </tr>\n",
       "  </tbody>\n",
       "</table>\n",
       "</div>"
      ],
      "text/plain": [
       "                                                                                                                                                                                                                                                                                                                                                                                                                                                                             document  \\\n",
       "0                                                                                                                                                                                                                                                                                                      The patient is a 22-year-old female with a history of obesity. She has a Body mass index (BMI) of 33.5 kg/m2, aspartate aminotransferase 64, and alanine aminotransferase 126.   \n",
       "1                                                                                                                                                                                                                                                                                                      The patient is a 22-year-old female with a history of obesity. She has a Body mass index (BMI) of 33.5 kg/m2, aspartate aminotransferase 64, and alanine aminotransferase 126.   \n",
       "2                                                                                                                                                                                                                                                                                                      The patient is a 22-year-old female with a history of obesity. She has a Body mass index (BMI) of 33.5 kg/m2, aspartate aminotransferase 64, and alanine aminotransferase 126.   \n",
       "3  Final diagnosis:  : DNA was extracted from the peripheral blood specimen and a polymerase chain reaction (PCR)-based assay performed that is designed to detect the presence of two separate mutations in the FLT3 gene: (1) within a susceptible region that includes coding sequence for the intracellular juxtamembrane domain and (2)   Negative. Neither expansion of the region susceptible to nor changes consistent with mutation of the codon for ASP835 were identified.   \n",
       "4  Final diagnosis:  : DNA was extracted from the peripheral blood specimen and a polymerase chain reaction (PCR)-based assay performed that is designed to detect the presence of two separate mutations in the FLT3 gene: (1) within a susceptible region that includes coding sequence for the intracellular juxtamembrane domain and (2)   Negative. Neither expansion of the region susceptible to nor changes consistent with mutation of the codon for ASP835 were identified.   \n",
       "5  Final diagnosis:  : DNA was extracted from the peripheral blood specimen and a polymerase chain reaction (PCR)-based assay performed that is designed to detect the presence of two separate mutations in the FLT3 gene: (1) within a susceptible region that includes coding sequence for the intracellular juxtamembrane domain and (2)   Negative. Neither expansion of the region susceptible to nor changes consistent with mutation of the codon for ASP835 were identified.   \n",
       "\n",
       "                       ner_chunk  begin  end ner_label ner_confidence  \\\n",
       "0                           BMI)     90   93      Test          0.698   \n",
       "1     aspartate aminotransferase    110  135      Test         0.8905   \n",
       "2       alanine aminotransferase    145  168      Test          0.825   \n",
       "3  the peripheral blood specimen     43   71      Test     0.69299996   \n",
       "4    a polymerase chain reaction     77  103      Test        0.73675   \n",
       "5               PCR)-based assay    106  121      Test        0.75715   \n",
       "\n",
       "  loinc_code                                         loinc_resolution  \\\n",
       "0    39156-5                                    BMI [Body mass index]   \n",
       "1    14409-7  Aspartate aminotransferase [Aspartate aminotransferase]   \n",
       "2    16324-6      Alanine aminotransferase [Alanine aminotransferase]   \n",
       "3   LP7072-4                      Blood peripheral [Blood peripheral]   \n",
       "4  LP89236-1                      RNA polymerase I [RNA polymerase I]   \n",
       "5    13590-5                aPCR PPP [Activated protein C resistance]   \n",
       "\n",
       "  loinc_confidence  \n",
       "0           0.4923  \n",
       "1           0.9928  \n",
       "2           0.9868  \n",
       "3           0.4696  \n",
       "4           0.0792  \n",
       "5           0.0693  "
      ]
     },
     "execution_count": 24,
     "metadata": {},
     "output_type": "execute_result"
    }
   ],
   "source": [
    "input_json_data = {\"text\": docs}\n",
    "\n",
    "data =  process_data_and_invoke_realtime_endpoint(input_json_data, content_type=\"application/json\" , accept=\"application/json\" )\n",
    "pd.DataFrame(data[\"predictions\"])"
   ]
  },
  {
   "cell_type": "markdown",
   "metadata": {},
   "source": [
    "### JSON Lines"
   ]
  },
  {
   "cell_type": "code",
   "execution_count": 25,
   "metadata": {
    "tags": []
   },
   "outputs": [],
   "source": [
    "import json\n",
    "\n",
    "def create_jsonl(records):\n",
    "    json_records = []\n",
    "\n",
    "    for text in records:\n",
    "        record = {\n",
    "            \"text\": text\n",
    "        }\n",
    "        json_records.append(record)\n",
    "\n",
    "    json_lines = '\\n'.join(json.dumps(record) for record in json_records)\n",
    "\n",
    "    return json_lines\n",
    "\n",
    "input_jsonl_data = create_jsonl(docs)"
   ]
  },
  {
   "cell_type": "markdown",
   "metadata": {},
   "source": [
    "#### Example 1"
   ]
  },
  {
   "cell_type": "markdown",
   "metadata": {},
   "source": [
    "  **Input format**:\n",
    "  \n",
    "```json\n",
    "{\"text\": \"Text document 1\"}\n",
    "{\"text\": \"Text document 2\"}\n",
    "```"
   ]
  },
  {
   "cell_type": "code",
   "execution_count": 26,
   "metadata": {
    "tags": []
   },
   "outputs": [
    {
     "name": "stdout",
     "output_type": "stream",
     "text": [
      "{\"predictions\": [{\"ner_chunk\": \"BMI)\", \"begin\": 90, \"end\": 93, \"ner_label\": \"Test\", \"ner_confidence\": \"0.698\", \"loinc_code\": \"39156-5\", \"loinc_resolution\": \"BMI [Body mass index]\", \"loinc_confidence\": \"0.4923\"}, {\"ner_chunk\": \"aspartate aminotransferase\", \"begin\": 110, \"end\": 135, \"ner_label\": \"Test\", \"ner_confidence\": \"0.8905\", \"loinc_code\": \"14409-7\", \"loinc_resolution\": \"Aspartate aminotransferase [Aspartate aminotransferase]\", \"loinc_confidence\": \"0.9928\"}, {\"ner_chunk\": \"alanine aminotransferase\", \"begin\": 145, \"end\": 168, \"ner_label\": \"Test\", \"ner_confidence\": \"0.825\", \"loinc_code\": \"16324-6\", \"loinc_resolution\": \"Alanine aminotransferase [Alanine aminotransferase]\", \"loinc_confidence\": \"0.9868\"}]}\n",
      "{\"predictions\": [{\"ner_chunk\": \"the peripheral blood specimen\", \"begin\": 43, \"end\": 71, \"ner_label\": \"Test\", \"ner_confidence\": \"0.69299996\", \"loinc_code\": \"LP7072-4\", \"loinc_resolution\": \"Blood peripheral [Blood peripheral]\", \"loinc_confidence\": \"0.4696\"}, {\"ner_chunk\": \"a polymerase chain reaction\", \"begin\": 77, \"end\": 103, \"ner_label\": \"Test\", \"ner_confidence\": \"0.73675\", \"loinc_code\": \"LP89236-1\", \"loinc_resolution\": \"RNA polymerase I [RNA polymerase I]\", \"loinc_confidence\": \"0.0792\"}, {\"ner_chunk\": \"PCR)-based assay\", \"begin\": 106, \"end\": 121, \"ner_label\": \"Test\", \"ner_confidence\": \"0.75715\", \"loinc_code\": \"13590-5\", \"loinc_resolution\": \"aPCR PPP [Activated protein C resistance]\", \"loinc_confidence\": \"0.0693\"}]}\n"
     ]
    }
   ],
   "source": [
    "data = process_data_and_invoke_realtime_endpoint(input_jsonl_data, content_type=\"application/jsonlines\" , accept=\"application/jsonlines\" )\n",
    "print(data)"
   ]
  },
  {
   "cell_type": "markdown",
   "metadata": {},
   "source": [
    "### C. Delete the endpoint"
   ]
  },
  {
   "cell_type": "markdown",
   "metadata": {},
   "source": [
    "Now that you have successfully performed a real-time inference, you do not need the endpoint any more. You can terminate the endpoint to avoid being charged."
   ]
  },
  {
   "cell_type": "code",
   "execution_count": 27,
   "metadata": {
    "tags": []
   },
   "outputs": [
    {
     "name": "stderr",
     "output_type": "stream",
     "text": [
      "INFO:sagemaker:Deleting endpoint with name: loinc-resolver-pipeline\n",
      "INFO:sagemaker:Deleting endpoint configuration with name: loinc-resolver-pipeline\n"
     ]
    }
   ],
   "source": [
    "model.sagemaker_session.delete_endpoint(model_name)\n",
    "model.sagemaker_session.delete_endpoint_config(model_name)"
   ]
  },
  {
   "cell_type": "markdown",
   "metadata": {
    "tags": []
   },
   "source": [
    "## 3. Batch inference"
   ]
  },
  {
   "cell_type": "code",
   "execution_count": 28,
   "metadata": {
    "tags": []
   },
   "outputs": [],
   "source": [
    "import json\n",
    "import os\n",
    "\n",
    "input_dir = 'inputs/batch'\n",
    "json_input_dir = f\"{input_dir}/json\"\n",
    "jsonl_input_dir = f\"{input_dir}/jsonl\"\n",
    "\n",
    "output_dir = 'outputs/batch'\n",
    "json_output_dir = f\"{output_dir}/json\"\n",
    "jsonl_output_dir = f\"{output_dir}/jsonl\"\n",
    "\n",
    "os.makedirs(json_input_dir, exist_ok=True)\n",
    "os.makedirs(jsonl_input_dir, exist_ok=True)\n",
    "os.makedirs(json_output_dir, exist_ok=True)\n",
    "os.makedirs(jsonl_output_dir, exist_ok=True)\n",
    "\n",
    "validation_json_file_name = \"input.json\"\n",
    "\n",
    "validation_jsonl_file_name = \"input.jsonl\"\n",
    "\n",
    "validation_input_json_path = f\"s3://{s3_bucket}/{model_name}/validation-input/batch/json/\"\n",
    "validation_output_json_path = f\"s3://{s3_bucket}/{model_name}/validation-output/batch/json/\"\n",
    "\n",
    "validation_input_jsonl_path = f\"s3://{s3_bucket}/{model_name}/validation-input/batch/jsonl/\"\n",
    "validation_output_jsonl_path = f\"s3://{s3_bucket}/{model_name}/validation-output/batch/jsonl/\"\n",
    "\n",
    "def write_and_upload_to_s3(input_data, file_name):\n",
    "    file_format = os.path.splitext(file_name)[1].lower()\n",
    "    if file_format == \".json\":\n",
    "        input_data = json.dumps(input_data)\n",
    "\n",
    "    with open(file_name, \"w\") as f:\n",
    "        f.write(input_data)\n",
    "\n",
    "    s3_client.put_object(\n",
    "        Bucket=s3_bucket,\n",
    "        Key=f\"{model_name}/validation-input/batch/{file_format[1:]}/{os.path.basename(file_name)}\",\n",
    "        Body=(bytes(input_data.encode(\"UTF-8\"))),\n",
    "    )"
   ]
  },
  {
   "cell_type": "code",
   "execution_count": 29,
   "metadata": {
    "tags": []
   },
   "outputs": [],
   "source": [
    "input_jsonl_data = create_jsonl(docs)\n",
    "input_json_data = {\"text\": docs}\n",
    "\n",
    "write_and_upload_to_s3(input_json_data, f\"{json_input_dir}/{validation_json_file_name}\")\n",
    "\n",
    "write_and_upload_to_s3(input_jsonl_data, f\"{jsonl_input_dir}/{validation_jsonl_file_name}\")"
   ]
  },
  {
   "cell_type": "markdown",
   "metadata": {},
   "source": [
    "### JSON"
   ]
  },
  {
   "cell_type": "code",
   "execution_count": null,
   "metadata": {
    "tags": []
   },
   "outputs": [],
   "source": [
    "# Initialize a SageMaker Transformer object for making predictions\n",
    "transformer = model.transformer(\n",
    "    instance_count=1,\n",
    "    instance_type=batch_transform_inference_instance_type,\n",
    "    accept=\"application/json\",\n",
    "    output_path=validation_output_json_path\n",
    ")\n",
    "\n",
    "transformer.transform(validation_input_json_path, content_type=\"application/json\")\n",
    "transformer.wait()"
   ]
  },
  {
   "cell_type": "code",
   "execution_count": 31,
   "metadata": {
    "tags": []
   },
   "outputs": [],
   "source": [
    "from urllib.parse import urlparse\n",
    "\n",
    "def process_s3_json_output_and_save(validation_file_name):\n",
    "\n",
    "    output_file_path = f\"{json_output_dir}/{validation_file_name}.out\"\n",
    "    parsed_url = urlparse(transformer.output_path)\n",
    "    file_key = f\"{parsed_url.path[1:]}{validation_file_name}.out\"\n",
    "    response = s3_client.get_object(Bucket=s3_bucket, Key=file_key)\n",
    "\n",
    "    data = json.loads(response[\"Body\"].read().decode(\"utf-8\"))\n",
    "    df = pd.DataFrame(data[\"predictions\"])\n",
    "    display(df)\n",
    "\n",
    "    # Save the data to the output file\n",
    "    with open(output_file_path, 'w') as f_out:\n",
    "        json.dump(data, f_out, indent=4)"
   ]
  },
  {
   "cell_type": "code",
   "execution_count": 32,
   "metadata": {
    "tags": []
   },
   "outputs": [
    {
     "data": {
      "text/html": [
       "<div>\n",
       "<style scoped>\n",
       "    .dataframe tbody tr th:only-of-type {\n",
       "        vertical-align: middle;\n",
       "    }\n",
       "\n",
       "    .dataframe tbody tr th {\n",
       "        vertical-align: top;\n",
       "    }\n",
       "\n",
       "    .dataframe thead th {\n",
       "        text-align: right;\n",
       "    }\n",
       "</style>\n",
       "<table border=\"1\" class=\"dataframe\">\n",
       "  <thead>\n",
       "    <tr style=\"text-align: right;\">\n",
       "      <th></th>\n",
       "      <th>document</th>\n",
       "      <th>ner_chunk</th>\n",
       "      <th>begin</th>\n",
       "      <th>end</th>\n",
       "      <th>ner_label</th>\n",
       "      <th>ner_confidence</th>\n",
       "      <th>loinc_code</th>\n",
       "      <th>loinc_resolution</th>\n",
       "      <th>loinc_confidence</th>\n",
       "    </tr>\n",
       "  </thead>\n",
       "  <tbody>\n",
       "    <tr>\n",
       "      <th>0</th>\n",
       "      <td>The patient is a 22-year-old female with a history of obesity. She has a Body mass index (BMI) of 33.5 kg/m2, aspartate aminotransferase 64, and alanine aminotransferase 126.</td>\n",
       "      <td>BMI)</td>\n",
       "      <td>90</td>\n",
       "      <td>93</td>\n",
       "      <td>Test</td>\n",
       "      <td>0.698</td>\n",
       "      <td>39156-5</td>\n",
       "      <td>BMI [Body mass index]</td>\n",
       "      <td>0.4923</td>\n",
       "    </tr>\n",
       "    <tr>\n",
       "      <th>1</th>\n",
       "      <td>The patient is a 22-year-old female with a history of obesity. She has a Body mass index (BMI) of 33.5 kg/m2, aspartate aminotransferase 64, and alanine aminotransferase 126.</td>\n",
       "      <td>aspartate aminotransferase</td>\n",
       "      <td>110</td>\n",
       "      <td>135</td>\n",
       "      <td>Test</td>\n",
       "      <td>0.8905</td>\n",
       "      <td>14409-7</td>\n",
       "      <td>Aspartate aminotransferase [Aspartate aminotransferase]</td>\n",
       "      <td>0.9928</td>\n",
       "    </tr>\n",
       "    <tr>\n",
       "      <th>2</th>\n",
       "      <td>The patient is a 22-year-old female with a history of obesity. She has a Body mass index (BMI) of 33.5 kg/m2, aspartate aminotransferase 64, and alanine aminotransferase 126.</td>\n",
       "      <td>alanine aminotransferase</td>\n",
       "      <td>145</td>\n",
       "      <td>168</td>\n",
       "      <td>Test</td>\n",
       "      <td>0.825</td>\n",
       "      <td>16324-6</td>\n",
       "      <td>Alanine aminotransferase [Alanine aminotransferase]</td>\n",
       "      <td>0.9868</td>\n",
       "    </tr>\n",
       "    <tr>\n",
       "      <th>3</th>\n",
       "      <td>Final diagnosis:  : DNA was extracted from the peripheral blood specimen and a polymerase chain reaction (PCR)-based assay performed that is designed to detect the presence of two separate mutations in the FLT3 gene: (1) within a susceptible region that includes coding sequence for the intracellular juxtamembrane domain and (2)   Negative. Neither expansion of the region susceptible to nor changes consistent with mutation of the codon for ASP835 were identified.</td>\n",
       "      <td>the peripheral blood specimen</td>\n",
       "      <td>43</td>\n",
       "      <td>71</td>\n",
       "      <td>Test</td>\n",
       "      <td>0.69299996</td>\n",
       "      <td>LP7072-4</td>\n",
       "      <td>Blood peripheral [Blood peripheral]</td>\n",
       "      <td>0.4696</td>\n",
       "    </tr>\n",
       "    <tr>\n",
       "      <th>4</th>\n",
       "      <td>Final diagnosis:  : DNA was extracted from the peripheral blood specimen and a polymerase chain reaction (PCR)-based assay performed that is designed to detect the presence of two separate mutations in the FLT3 gene: (1) within a susceptible region that includes coding sequence for the intracellular juxtamembrane domain and (2)   Negative. Neither expansion of the region susceptible to nor changes consistent with mutation of the codon for ASP835 were identified.</td>\n",
       "      <td>a polymerase chain reaction</td>\n",
       "      <td>77</td>\n",
       "      <td>103</td>\n",
       "      <td>Test</td>\n",
       "      <td>0.73675</td>\n",
       "      <td>LP89236-1</td>\n",
       "      <td>RNA polymerase I [RNA polymerase I]</td>\n",
       "      <td>0.0792</td>\n",
       "    </tr>\n",
       "    <tr>\n",
       "      <th>5</th>\n",
       "      <td>Final diagnosis:  : DNA was extracted from the peripheral blood specimen and a polymerase chain reaction (PCR)-based assay performed that is designed to detect the presence of two separate mutations in the FLT3 gene: (1) within a susceptible region that includes coding sequence for the intracellular juxtamembrane domain and (2)   Negative. Neither expansion of the region susceptible to nor changes consistent with mutation of the codon for ASP835 were identified.</td>\n",
       "      <td>PCR)-based assay</td>\n",
       "      <td>106</td>\n",
       "      <td>121</td>\n",
       "      <td>Test</td>\n",
       "      <td>0.75715</td>\n",
       "      <td>13590-5</td>\n",
       "      <td>aPCR PPP [Activated protein C resistance]</td>\n",
       "      <td>0.0693</td>\n",
       "    </tr>\n",
       "  </tbody>\n",
       "</table>\n",
       "</div>"
      ],
      "text/plain": [
       "                                                                                                                                                                                                                                                                                                                                                                                                                                                                             document  \\\n",
       "0                                                                                                                                                                                                                                                                                                      The patient is a 22-year-old female with a history of obesity. She has a Body mass index (BMI) of 33.5 kg/m2, aspartate aminotransferase 64, and alanine aminotransferase 126.   \n",
       "1                                                                                                                                                                                                                                                                                                      The patient is a 22-year-old female with a history of obesity. She has a Body mass index (BMI) of 33.5 kg/m2, aspartate aminotransferase 64, and alanine aminotransferase 126.   \n",
       "2                                                                                                                                                                                                                                                                                                      The patient is a 22-year-old female with a history of obesity. She has a Body mass index (BMI) of 33.5 kg/m2, aspartate aminotransferase 64, and alanine aminotransferase 126.   \n",
       "3  Final diagnosis:  : DNA was extracted from the peripheral blood specimen and a polymerase chain reaction (PCR)-based assay performed that is designed to detect the presence of two separate mutations in the FLT3 gene: (1) within a susceptible region that includes coding sequence for the intracellular juxtamembrane domain and (2)   Negative. Neither expansion of the region susceptible to nor changes consistent with mutation of the codon for ASP835 were identified.   \n",
       "4  Final diagnosis:  : DNA was extracted from the peripheral blood specimen and a polymerase chain reaction (PCR)-based assay performed that is designed to detect the presence of two separate mutations in the FLT3 gene: (1) within a susceptible region that includes coding sequence for the intracellular juxtamembrane domain and (2)   Negative. Neither expansion of the region susceptible to nor changes consistent with mutation of the codon for ASP835 were identified.   \n",
       "5  Final diagnosis:  : DNA was extracted from the peripheral blood specimen and a polymerase chain reaction (PCR)-based assay performed that is designed to detect the presence of two separate mutations in the FLT3 gene: (1) within a susceptible region that includes coding sequence for the intracellular juxtamembrane domain and (2)   Negative. Neither expansion of the region susceptible to nor changes consistent with mutation of the codon for ASP835 were identified.   \n",
       "\n",
       "                       ner_chunk  begin  end ner_label ner_confidence  \\\n",
       "0                           BMI)     90   93      Test          0.698   \n",
       "1     aspartate aminotransferase    110  135      Test         0.8905   \n",
       "2       alanine aminotransferase    145  168      Test          0.825   \n",
       "3  the peripheral blood specimen     43   71      Test     0.69299996   \n",
       "4    a polymerase chain reaction     77  103      Test        0.73675   \n",
       "5               PCR)-based assay    106  121      Test        0.75715   \n",
       "\n",
       "  loinc_code                                         loinc_resolution  \\\n",
       "0    39156-5                                    BMI [Body mass index]   \n",
       "1    14409-7  Aspartate aminotransferase [Aspartate aminotransferase]   \n",
       "2    16324-6      Alanine aminotransferase [Alanine aminotransferase]   \n",
       "3   LP7072-4                      Blood peripheral [Blood peripheral]   \n",
       "4  LP89236-1                      RNA polymerase I [RNA polymerase I]   \n",
       "5    13590-5                aPCR PPP [Activated protein C resistance]   \n",
       "\n",
       "  loinc_confidence  \n",
       "0           0.4923  \n",
       "1           0.9928  \n",
       "2           0.9868  \n",
       "3           0.4696  \n",
       "4           0.0792  \n",
       "5           0.0693  "
      ]
     },
     "metadata": {},
     "output_type": "display_data"
    }
   ],
   "source": [
    "process_s3_json_output_and_save(validation_json_file_name)"
   ]
  },
  {
   "cell_type": "markdown",
   "metadata": {},
   "source": [
    "### JSON Lines"
   ]
  },
  {
   "cell_type": "code",
   "execution_count": null,
   "metadata": {
    "tags": []
   },
   "outputs": [],
   "source": [
    "transformer = model.transformer(\n",
    "    instance_count=1,\n",
    "    instance_type=batch_transform_inference_instance_type,\n",
    "    accept=\"application/jsonlines\",\n",
    "    output_path=validation_output_jsonl_path\n",
    ")\n",
    "transformer.transform(validation_input_jsonl_path, content_type=\"application/jsonlines\")\n",
    "transformer.wait()"
   ]
  },
  {
   "cell_type": "code",
   "execution_count": 34,
   "metadata": {
    "tags": []
   },
   "outputs": [],
   "source": [
    "from urllib.parse import urlparse\n",
    "\n",
    "def process_s3_jsonlines_output_and_save(validation_file_name):\n",
    "\n",
    "    output_file_path = f\"{jsonl_output_dir}/{validation_file_name}.out\"\n",
    "    parsed_url = urlparse(transformer.output_path)\n",
    "    file_key = f\"{parsed_url.path[1:]}{validation_file_name}.out\"\n",
    "    response = s3_client.get_object(Bucket=s3_bucket, Key=file_key)\n",
    "\n",
    "    data = response[\"Body\"].read().decode(\"utf-8\")\n",
    "    print(data)\n",
    "\n",
    "    # Save the data to the output file\n",
    "    with open(output_file_path, 'w') as f_out:\n",
    "        for item in data.split('\\n'):\n",
    "            f_out.write(item + '\\n')"
   ]
  },
  {
   "cell_type": "code",
   "execution_count": 35,
   "metadata": {
    "tags": []
   },
   "outputs": [
    {
     "name": "stdout",
     "output_type": "stream",
     "text": [
      "{\"predictions\": [{\"ner_chunk\": \"BMI)\", \"begin\": 90, \"end\": 93, \"ner_label\": \"Test\", \"ner_confidence\": \"0.698\", \"loinc_code\": \"39156-5\", \"loinc_resolution\": \"BMI [Body mass index]\", \"loinc_confidence\": \"0.4923\"}, {\"ner_chunk\": \"aspartate aminotransferase\", \"begin\": 110, \"end\": 135, \"ner_label\": \"Test\", \"ner_confidence\": \"0.8905\", \"loinc_code\": \"14409-7\", \"loinc_resolution\": \"Aspartate aminotransferase [Aspartate aminotransferase]\", \"loinc_confidence\": \"0.9928\"}, {\"ner_chunk\": \"alanine aminotransferase\", \"begin\": 145, \"end\": 168, \"ner_label\": \"Test\", \"ner_confidence\": \"0.825\", \"loinc_code\": \"16324-6\", \"loinc_resolution\": \"Alanine aminotransferase [Alanine aminotransferase]\", \"loinc_confidence\": \"0.9868\"}]}\n",
      "{\"predictions\": [{\"ner_chunk\": \"the peripheral blood specimen\", \"begin\": 43, \"end\": 71, \"ner_label\": \"Test\", \"ner_confidence\": \"0.69299996\", \"loinc_code\": \"LP7072-4\", \"loinc_resolution\": \"Blood peripheral [Blood peripheral]\", \"loinc_confidence\": \"0.4696\"}, {\"ner_chunk\": \"a polymerase chain reaction\", \"begin\": 77, \"end\": 103, \"ner_label\": \"Test\", \"ner_confidence\": \"0.73675\", \"loinc_code\": \"LP89236-1\", \"loinc_resolution\": \"RNA polymerase I [RNA polymerase I]\", \"loinc_confidence\": \"0.0792\"}, {\"ner_chunk\": \"PCR)-based assay\", \"begin\": 106, \"end\": 121, \"ner_label\": \"Test\", \"ner_confidence\": \"0.75715\", \"loinc_code\": \"13590-5\", \"loinc_resolution\": \"aPCR PPP [Activated protein C resistance]\", \"loinc_confidence\": \"0.0693\"}]}\n"
     ]
    }
   ],
   "source": [
    "process_s3_jsonlines_output_and_save(validation_jsonl_file_name)"
   ]
  },
  {
   "cell_type": "code",
   "execution_count": 36,
   "metadata": {
    "tags": []
   },
   "outputs": [
    {
     "name": "stderr",
     "output_type": "stream",
     "text": [
      "INFO:sagemaker:Deleting model with name: loinc-resolver-pipeline-2024-06-10-12-35-00-545\n"
     ]
    }
   ],
   "source": [
    "model.delete_model()"
   ]
  },
  {
   "cell_type": "markdown",
   "metadata": {},
   "source": [
    "### Unsubscribe to the listing (optional)"
   ]
  },
  {
   "cell_type": "markdown",
   "metadata": {
    "tags": []
   },
   "source": [
    "If you would like to unsubscribe to the model package, follow these steps. Before you cancel the subscription, ensure that you do not have any [deployable model](https://console.aws.amazon.com/sagemaker/home#/models) created from the model package or using the algorithm. Note - You can find this information by looking at the container name associated with the model. \n",
    "\n",
    "**Steps to unsubscribe to product from AWS Marketplace**:\n",
    "1. Navigate to __Machine Learning__ tab on [__Your Software subscriptions page__](https://aws.amazon.com/marketplace/ai/library?productType=ml&ref_=mlmp_gitdemo_indust)\n",
    "2. Locate the listing that you want to cancel the subscription for, and then choose __Cancel Subscription__  to cancel the subscription.\n",
    "\n"
   ]
  }
 ],
 "metadata": {
  "instance_type": "ml.t3.medium",
  "kernelspec": {
   "display_name": "conda_python3",
   "language": "python",
   "name": "conda_python3"
  },
  "language_info": {
   "codemirror_mode": {
    "name": "ipython",
    "version": 3
   },
   "file_extension": ".py",
   "mimetype": "text/x-python",
   "name": "python",
   "nbconvert_exporter": "python",
   "pygments_lexer": "ipython3",
   "version": "3.10.14"
  }
 },
 "nbformat": 4,
 "nbformat_minor": 4
}

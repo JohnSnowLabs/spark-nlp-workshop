{
 "cells": [
  {
   "cell_type": "markdown",
   "metadata": {},
   "source": [
    "## 1. Subscribe to the model package"
   ]
  },
  {
   "cell_type": "markdown",
   "metadata": {},
   "source": [
    "To subscribe to the model package:\n",
    "1. Open the model package listing page <font color='red'> For Seller to update:[Title_of_your_product](Provide link to your marketplace listing of your product).</font>\n",
    "1. On the AWS Marketplace listing, click on the **Continue to subscribe** button.\n",
    "1. On the **Subscribe to this software** page, review and click on **\"Accept Offer\"** if you and your organization agrees with EULA, pricing, and support terms. \n",
    "1. Once you click on **Continue to configuration button** and then choose a **region**, you will see a **Product Arn** displayed. This is the model package ARN that you need to specify while creating a deployable model using Boto3. Copy the ARN corresponding to your region and specify the same in the following cell."
   ]
  },
  {
   "cell_type": "markdown",
   "metadata": {},
   "source": [
    "## NER \n",
    "\n",
    "Named Entity Recognition (NER) is a process in computational linguistics that involves identifying and classifying key elements in text into predefined categories. In this context, NER focuses on discerning terms relevant to heart disease risk factors and personal health information.\n",
    "\n",
    "- **Model**: `en.med_ner.risk_factors.pipeline`\n",
    "- **Model Description**: This pretrained pipeline is built on top of the ner_risk_factors model, designed specifically for identifying Heart Disease Risk Factors and Personal Health Information. The model recognizes entities including CAD, DIABETES, FAMILY_HIST, HYPERLIPIDEMIA, HYPERTENSION, MEDICATION, OBESE, PHI, and SMOKER.\n",
    "\n"
   ]
  },
  {
   "cell_type": "code",
   "execution_count": 1,
   "metadata": {
    "tags": []
   },
   "outputs": [],
   "source": [
    "model_package_arn = \"<Customer to specify Model package ARN corresponding to their AWS region>\""
   ]
  },
  {
   "cell_type": "code",
   "execution_count": 2,
   "metadata": {
    "tags": []
   },
   "outputs": [
    {
     "name": "stderr",
     "output_type": "stream",
     "text": [
      "/home/ec2-user/anaconda3/envs/python3/lib/python3.10/site-packages/pandas/core/computation/expressions.py:21: UserWarning: Pandas requires version '2.8.0' or newer of 'numexpr' (version '2.7.3' currently installed).\n",
      "  from pandas.core.computation.check import NUMEXPR_INSTALLED\n"
     ]
    },
    {
     "name": "stdout",
     "output_type": "stream",
     "text": [
      "sagemaker.config INFO - Not applying SDK defaults from location: /etc/xdg/sagemaker/config.yaml\n",
      "sagemaker.config INFO - Not applying SDK defaults from location: /home/ec2-user/.config/sagemaker/config.yaml\n"
     ]
    }
   ],
   "source": [
    "import base64\n",
    "import json\n",
    "import uuid\n",
    "from sagemaker import ModelPackage\n",
    "import sagemaker as sage\n",
    "from sagemaker import get_execution_role\n",
    "import boto3\n",
    "from IPython.display import Image, display\n",
    "from PIL import Image as ImageEdit\n",
    "import numpy as np"
   ]
  },
  {
   "cell_type": "code",
   "execution_count": 3,
   "metadata": {
    "tags": []
   },
   "outputs": [],
   "source": [
    "sagemaker_session = sage.Session()\n",
    "s3_bucket = sagemaker_session.default_bucket()\n",
    "region = sagemaker_session.boto_region_name\n",
    "account_id = boto3.client(\"sts\").get_caller_identity().get(\"Account\")\n",
    "role = get_execution_role()\n",
    "\n",
    "sagemaker = boto3.client(\"sagemaker\")\n",
    "s3_client = sagemaker_session.boto_session.client(\"s3\")\n",
    "ecr = boto3.client(\"ecr\")\n",
    "sm_runtime = boto3.client(\"sagemaker-runtime\")"
   ]
  },
  {
   "cell_type": "markdown",
   "metadata": {},
   "source": [
    "## 2. Create an endpoint and perform real-time inference"
   ]
  },
  {
   "cell_type": "markdown",
   "metadata": {},
   "source": [
    "If you want to understand how real-time inference with Amazon SageMaker works, see [Documentation](https://docs.aws.amazon.com/sagemaker/latest/dg/how-it-works-hosting.html)."
   ]
  },
  {
   "cell_type": "code",
   "execution_count": 4,
   "metadata": {
    "tags": []
   },
   "outputs": [],
   "source": [
    "model_name = \"en-med-ner-risk-factors-pipeline\"\n",
    "\n",
    "content_type = \"application/json\"\n",
    "\n",
    "real_time_inference_instance_type = \"ml.m4.xlarge\"\n",
    "batch_transform_inference_instance_type = \"ml.m4.xlarge\"\n"
   ]
  },
  {
   "cell_type": "markdown",
   "metadata": {},
   "source": [
    "### A. Create an endpoint"
   ]
  },
  {
   "cell_type": "code",
   "execution_count": 5,
   "metadata": {
    "tags": []
   },
   "outputs": [
    {
     "name": "stdout",
     "output_type": "stream",
     "text": [
      "---------------!"
     ]
    }
   ],
   "source": [
    "# create a deployable model from the model package.\n",
    "model = ModelPackage(\n",
    "    role=role, model_package_arn=model_package_arn, sagemaker_session=sagemaker_session\n",
    ")\n",
    "\n",
    "# Deploy the model\n",
    "predictor = model.deploy(1, real_time_inference_instance_type, endpoint_name=model_name)"
   ]
  },
  {
   "cell_type": "markdown",
   "metadata": {},
   "source": [
    "Once endpoint has been created, you would be able to perform real-time inference."
   ]
  },
  {
   "cell_type": "code",
   "execution_count": 6,
   "metadata": {
    "tags": []
   },
   "outputs": [],
   "source": [
    "import json\n",
    "import pandas as pd\n",
    "import os\n",
    "import boto3\n",
    "\n",
    "\n",
    "# Set display options\n",
    "pd.set_option('display.max_rows', None)\n",
    "pd.set_option('display.max_columns', None)\n",
    "pd.set_option('display.max_colwidth', None)\n",
    "\n",
    "\n",
    "def process_data_and_invoke_realtime_endpoint(data_dicts):\n",
    "    for data_dict in data_dicts:\n",
    "        json_input_data = json.dumps(data_dict)\n",
    "        i = 1\n",
    "        input_file_name = f'inputs/real-time/input{i}.json'\n",
    "        output_file_name = f'outputs/real-time/out{i}.out'\n",
    "\n",
    "        while os.path.exists(input_file_name) or os.path.exists(output_file_name):\n",
    "            i += 1\n",
    "            input_file_name = f'inputs/real-time/input{i}.json'\n",
    "            output_file_name = f'outputs/real-time/out{i}.out'\n",
    "\n",
    "        os.makedirs(os.path.dirname(input_file_name), exist_ok=True)\n",
    "        os.makedirs(os.path.dirname(output_file_name), exist_ok=True)\n",
    "\n",
    "        with open(input_file_name, 'w') as f:\n",
    "            f.write(json_input_data)\n",
    "\n",
    "        s3_client.put_object(Bucket=s3_bucket, Key=f\"{model_name}/validation-input-json/real-time/{os.path.basename(input_file_name)}\", Body=bytes(json_input_data.encode('UTF-8')))\n",
    "\n",
    "        response = sm_runtime.invoke_endpoint(\n",
    "            EndpointName=model_name,\n",
    "            ContentType=content_type,\n",
    "            Accept=\"application/json\",\n",
    "            Body=json_input_data,\n",
    "        )\n",
    "\n",
    "        # Process response\n",
    "        response_data = json.loads(response[\"Body\"].read().decode(\"utf-8\"))\n",
    "        df = pd.DataFrame(response_data['predictions'])\n",
    "        display(df)\n",
    "\n",
    "        # Save response data to file\n",
    "        with open(output_file_name, 'w') as f_out:\n",
    "            json.dump(response_data, f_out, indent=4)\n"
   ]
  },
  {
   "cell_type": "markdown",
   "metadata": {},
   "source": [
    "### Initial Setup"
   ]
  },
  {
   "cell_type": "code",
   "execution_count": 7,
   "metadata": {
    "tags": []
   },
   "outputs": [],
   "source": [
    "docs = [\n",
    "    '''HISTORY OF PRESENT ILLNESS: The patient is a 40-year-old white male who presents with a chief complaint of \"chest pain\".\n",
    "\n",
    "The patient is diabetic and has a prior history of coronary artery disease. The patient presents today stating that his chest pain started yesterday evening and has been somewhat intermittent. The severity of the pain has progressively increased. He describes the pain as a sharp and heavy pain which radiates to his neck & left arm. He ranks the pain a 7 on a scale of 1-10. He admits some shortness of breath & diaphoresis. He states that he has had nausea & 3 episodes of vomiting tonight. He denies any fever or chills. He admits prior episodes of similar pain prior to his PTCA in 1995. He states the pain is somewhat worse with walking and seems to be relieved with rest. There is no change in pain with positioning. He states that he took 3 nitroglycerin tablets sublingually over the past 1 hour, which he states has partially relieved his pain. The patient ranks his present pain a 4 on a scale of 1-10. The most recent episode of pain has lasted one-hour.\n",
    "\n",
    "The patient denies any history of recent surgery, head trauma, recent stroke, abnormal bleeding such as blood in urine or stool or nosebleed.\n",
    "\n",
    "REVIEW OF SYSTEMS: All other systems reviewed & are negative.\n",
    "\n",
    "PAST MEDICAL HISTORY: Diabetes mellitus type II, hypertension, coronary artery disease, atrial fibrillation, status post PTCA in 1995 by Dr. ABC.\n",
    "\n",
    "SOCIAL HISTORY: Denies alcohol or drugs. Smokes 2 packs of cigarettes per day. Works as a banker.\n",
    "\n",
    "FAMILY HISTORY: Positive for coronary artery disease (father & brother).''',\n",
    "\n",
    "\n",
    "    '''HISTORY OF PRESENT ILLNESS: This 57-year-old black female complains of having pain and discomfort in the left upper arm, especially when she walks and after heavy meals. This lasts anywhere from a few hours and is not associated with shortness of breath, palpitations, dizziness, or syncope. Patient does not get any chest pain or choking in the neck or pain in the back. Patient denies history of hypertension, diabetes mellitus, enlarged heart, heart murmur, history suggestive of previous myocardial infarction, or acute rheumatic polyarthritis during childhood. Her exercise tolerance is one to two blocks for shortness of breath and easy fatigability.\n",
    "\n",
    "MEDICATIONS: Patient does not take any specific medications.\n",
    "\n",
    "PAST HISTORY: The patient underwent hysterectomy in 1986.\n",
    "\n",
    "FAMILY HISTORY: The patient is married, has four children who are doing fine. Family history is positive for hypertension, congestive heart failure, obesity, cancer, and cerebrovascular accident.\n",
    "\n",
    "SOCIAL HISTORY: The patient smokes one pack of cigarettes per day and takes drinks on social occasions.'''\n",
    "]\n",
    "\n",
    "\n",
    "sample_text = \"\"\"In short, the patient is a 55-year-old gentleman with long-standing morbid obesity, resistant to nonsurgical methods of weight loss with BMI of 69.7 with comorbidities of hypertension, atrial fibrillation, hyperlipidemia, possible sleep apnea, and also osteoarthritis of the lower extremities. He is also an ex-smoker. He is currently smoking and he is planning to quit and at least he should do this six to eight days before for multiple reasons including decreasing the DVT, PE rates and marginal ulcer problems after surgery, which will be discussed later on.\"\"\""
   ]
  },
  {
   "cell_type": "markdown",
   "metadata": {},
   "source": [
    "### Output Levels\n",
    "\n",
    "The NER model produces predictions at two distinct output levels:\n",
    "- document\n",
    "- chunk\n",
    "\n",
    "`Note`: By default, the output level is chunk."
   ]
  },
  {
   "cell_type": "markdown",
   "metadata": {},
   "source": [
    "#### Output Level: Chunk"
   ]
  },
  {
   "cell_type": "markdown",
   "metadata": {},
   "source": [
    "  **Input format**:\n",
    "  \n",
    "  \n",
    "  {\"**text**\": \"Input Text from which biology and genetics terms are to be extracted.\"}"
   ]
  },
  {
   "cell_type": "code",
   "execution_count": 8,
   "metadata": {
    "tags": []
   },
   "outputs": [
    {
     "data": {
      "text/html": [
       "<div>\n",
       "<style scoped>\n",
       "    .dataframe tbody tr th:only-of-type {\n",
       "        vertical-align: middle;\n",
       "    }\n",
       "\n",
       "    .dataframe tbody tr th {\n",
       "        vertical-align: top;\n",
       "    }\n",
       "\n",
       "    .dataframe thead th {\n",
       "        text-align: right;\n",
       "    }\n",
       "</style>\n",
       "<table border=\"1\" class=\"dataframe\">\n",
       "  <thead>\n",
       "    <tr style=\"text-align: right;\">\n",
       "      <th></th>\n",
       "      <th>document</th>\n",
       "      <th>ner_chunk</th>\n",
       "      <th>begin</th>\n",
       "      <th>end</th>\n",
       "      <th>ner_label</th>\n",
       "      <th>confidence</th>\n",
       "    </tr>\n",
       "  </thead>\n",
       "  <tbody>\n",
       "    <tr>\n",
       "      <th>0</th>\n",
       "      <td>HISTORY OF PRESENT ILLNESS: The patient is a 40-year-old white male who presents with a chief complaint of \"chest pain\".\\n\\nThe patient is diabetic and has a prior history of coronary artery disease. The patient presents today stating that his chest pain started yesterday evening and has been somewhat intermittent. The severity of the pain has progressively increased. He describes the pain as a sharp and heavy pain which radiates to his neck &amp; left arm. He ranks the pain a 7 on a scale of 1-10. He admits some shortness of breath &amp; diaphoresis. He states that he has had nausea &amp; 3 episodes of vomiting tonight. He denies any fever or chills. He admits prior episodes of similar pain prior to his PTCA in 1995. He states the pain is somewhat worse with walking and seems to be relieved with rest. There is no change in pain with positioning. He states that he took 3 nitroglycerin tablets sublingually over the past 1 hour, which he states has partially relieved his pain. The patient ranks his present pain a 4 on a scale of 1-10. The most recent episode of pain has lasted one-hour.\\n\\nThe patient denies any history of recent surgery, head trauma, recent stroke, abnormal bleeding such as blood in urine or stool or nosebleed.\\n\\nREVIEW OF SYSTEMS: All other systems reviewed &amp; are negative.\\n\\nPAST MEDICAL HISTORY: Diabetes mellitus type II, hypertension, coronary artery disease, atrial fibrillation, status post PTCA in 1995 by Dr. ABC.\\n\\nSOCIAL HISTORY: Denies alcohol or drugs. Smokes 2 packs of cigarettes per day. Works as a banker.\\n\\nFAMILY HISTORY: Positive for coronary artery disease (father &amp; brother).</td>\n",
       "      <td>diabetic</td>\n",
       "      <td>137</td>\n",
       "      <td>144</td>\n",
       "      <td>DIABETES</td>\n",
       "      <td>0.9992</td>\n",
       "    </tr>\n",
       "    <tr>\n",
       "      <th>1</th>\n",
       "      <td>HISTORY OF PRESENT ILLNESS: The patient is a 40-year-old white male who presents with a chief complaint of \"chest pain\".\\n\\nThe patient is diabetic and has a prior history of coronary artery disease. The patient presents today stating that his chest pain started yesterday evening and has been somewhat intermittent. The severity of the pain has progressively increased. He describes the pain as a sharp and heavy pain which radiates to his neck &amp; left arm. He ranks the pain a 7 on a scale of 1-10. He admits some shortness of breath &amp; diaphoresis. He states that he has had nausea &amp; 3 episodes of vomiting tonight. He denies any fever or chills. He admits prior episodes of similar pain prior to his PTCA in 1995. He states the pain is somewhat worse with walking and seems to be relieved with rest. There is no change in pain with positioning. He states that he took 3 nitroglycerin tablets sublingually over the past 1 hour, which he states has partially relieved his pain. The patient ranks his present pain a 4 on a scale of 1-10. The most recent episode of pain has lasted one-hour.\\n\\nThe patient denies any history of recent surgery, head trauma, recent stroke, abnormal bleeding such as blood in urine or stool or nosebleed.\\n\\nREVIEW OF SYSTEMS: All other systems reviewed &amp; are negative.\\n\\nPAST MEDICAL HISTORY: Diabetes mellitus type II, hypertension, coronary artery disease, atrial fibrillation, status post PTCA in 1995 by Dr. ABC.\\n\\nSOCIAL HISTORY: Denies alcohol or drugs. Smokes 2 packs of cigarettes per day. Works as a banker.\\n\\nFAMILY HISTORY: Positive for coronary artery disease (father &amp; brother).</td>\n",
       "      <td>coronary artery disease</td>\n",
       "      <td>173</td>\n",
       "      <td>195</td>\n",
       "      <td>CAD</td>\n",
       "      <td>0.6896667</td>\n",
       "    </tr>\n",
       "    <tr>\n",
       "      <th>2</th>\n",
       "      <td>HISTORY OF PRESENT ILLNESS: The patient is a 40-year-old white male who presents with a chief complaint of \"chest pain\".\\n\\nThe patient is diabetic and has a prior history of coronary artery disease. The patient presents today stating that his chest pain started yesterday evening and has been somewhat intermittent. The severity of the pain has progressively increased. He describes the pain as a sharp and heavy pain which radiates to his neck &amp; left arm. He ranks the pain a 7 on a scale of 1-10. He admits some shortness of breath &amp; diaphoresis. He states that he has had nausea &amp; 3 episodes of vomiting tonight. He denies any fever or chills. He admits prior episodes of similar pain prior to his PTCA in 1995. He states the pain is somewhat worse with walking and seems to be relieved with rest. There is no change in pain with positioning. He states that he took 3 nitroglycerin tablets sublingually over the past 1 hour, which he states has partially relieved his pain. The patient ranks his present pain a 4 on a scale of 1-10. The most recent episode of pain has lasted one-hour.\\n\\nThe patient denies any history of recent surgery, head trauma, recent stroke, abnormal bleeding such as blood in urine or stool or nosebleed.\\n\\nREVIEW OF SYSTEMS: All other systems reviewed &amp; are negative.\\n\\nPAST MEDICAL HISTORY: Diabetes mellitus type II, hypertension, coronary artery disease, atrial fibrillation, status post PTCA in 1995 by Dr. ABC.\\n\\nSOCIAL HISTORY: Denies alcohol or drugs. Smokes 2 packs of cigarettes per day. Works as a banker.\\n\\nFAMILY HISTORY: Positive for coronary artery disease (father &amp; brother).</td>\n",
       "      <td>Diabetes mellitus type II</td>\n",
       "      <td>1317</td>\n",
       "      <td>1341</td>\n",
       "      <td>DIABETES</td>\n",
       "      <td>0.71244997</td>\n",
       "    </tr>\n",
       "    <tr>\n",
       "      <th>3</th>\n",
       "      <td>HISTORY OF PRESENT ILLNESS: The patient is a 40-year-old white male who presents with a chief complaint of \"chest pain\".\\n\\nThe patient is diabetic and has a prior history of coronary artery disease. The patient presents today stating that his chest pain started yesterday evening and has been somewhat intermittent. The severity of the pain has progressively increased. He describes the pain as a sharp and heavy pain which radiates to his neck &amp; left arm. He ranks the pain a 7 on a scale of 1-10. He admits some shortness of breath &amp; diaphoresis. He states that he has had nausea &amp; 3 episodes of vomiting tonight. He denies any fever or chills. He admits prior episodes of similar pain prior to his PTCA in 1995. He states the pain is somewhat worse with walking and seems to be relieved with rest. There is no change in pain with positioning. He states that he took 3 nitroglycerin tablets sublingually over the past 1 hour, which he states has partially relieved his pain. The patient ranks his present pain a 4 on a scale of 1-10. The most recent episode of pain has lasted one-hour.\\n\\nThe patient denies any history of recent surgery, head trauma, recent stroke, abnormal bleeding such as blood in urine or stool or nosebleed.\\n\\nREVIEW OF SYSTEMS: All other systems reviewed &amp; are negative.\\n\\nPAST MEDICAL HISTORY: Diabetes mellitus type II, hypertension, coronary artery disease, atrial fibrillation, status post PTCA in 1995 by Dr. ABC.\\n\\nSOCIAL HISTORY: Denies alcohol or drugs. Smokes 2 packs of cigarettes per day. Works as a banker.\\n\\nFAMILY HISTORY: Positive for coronary artery disease (father &amp; brother).</td>\n",
       "      <td>hypertension</td>\n",
       "      <td>1344</td>\n",
       "      <td>1355</td>\n",
       "      <td>HYPERTENSION</td>\n",
       "      <td>0.987</td>\n",
       "    </tr>\n",
       "    <tr>\n",
       "      <th>4</th>\n",
       "      <td>HISTORY OF PRESENT ILLNESS: The patient is a 40-year-old white male who presents with a chief complaint of \"chest pain\".\\n\\nThe patient is diabetic and has a prior history of coronary artery disease. The patient presents today stating that his chest pain started yesterday evening and has been somewhat intermittent. The severity of the pain has progressively increased. He describes the pain as a sharp and heavy pain which radiates to his neck &amp; left arm. He ranks the pain a 7 on a scale of 1-10. He admits some shortness of breath &amp; diaphoresis. He states that he has had nausea &amp; 3 episodes of vomiting tonight. He denies any fever or chills. He admits prior episodes of similar pain prior to his PTCA in 1995. He states the pain is somewhat worse with walking and seems to be relieved with rest. There is no change in pain with positioning. He states that he took 3 nitroglycerin tablets sublingually over the past 1 hour, which he states has partially relieved his pain. The patient ranks his present pain a 4 on a scale of 1-10. The most recent episode of pain has lasted one-hour.\\n\\nThe patient denies any history of recent surgery, head trauma, recent stroke, abnormal bleeding such as blood in urine or stool or nosebleed.\\n\\nREVIEW OF SYSTEMS: All other systems reviewed &amp; are negative.\\n\\nPAST MEDICAL HISTORY: Diabetes mellitus type II, hypertension, coronary artery disease, atrial fibrillation, status post PTCA in 1995 by Dr. ABC.\\n\\nSOCIAL HISTORY: Denies alcohol or drugs. Smokes 2 packs of cigarettes per day. Works as a banker.\\n\\nFAMILY HISTORY: Positive for coronary artery disease (father &amp; brother).</td>\n",
       "      <td>coronary artery disease</td>\n",
       "      <td>1358</td>\n",
       "      <td>1380</td>\n",
       "      <td>CAD</td>\n",
       "      <td>0.89136666</td>\n",
       "    </tr>\n",
       "    <tr>\n",
       "      <th>5</th>\n",
       "      <td>HISTORY OF PRESENT ILLNESS: The patient is a 40-year-old white male who presents with a chief complaint of \"chest pain\".\\n\\nThe patient is diabetic and has a prior history of coronary artery disease. The patient presents today stating that his chest pain started yesterday evening and has been somewhat intermittent. The severity of the pain has progressively increased. He describes the pain as a sharp and heavy pain which radiates to his neck &amp; left arm. He ranks the pain a 7 on a scale of 1-10. He admits some shortness of breath &amp; diaphoresis. He states that he has had nausea &amp; 3 episodes of vomiting tonight. He denies any fever or chills. He admits prior episodes of similar pain prior to his PTCA in 1995. He states the pain is somewhat worse with walking and seems to be relieved with rest. There is no change in pain with positioning. He states that he took 3 nitroglycerin tablets sublingually over the past 1 hour, which he states has partially relieved his pain. The patient ranks his present pain a 4 on a scale of 1-10. The most recent episode of pain has lasted one-hour.\\n\\nThe patient denies any history of recent surgery, head trauma, recent stroke, abnormal bleeding such as blood in urine or stool or nosebleed.\\n\\nREVIEW OF SYSTEMS: All other systems reviewed &amp; are negative.\\n\\nPAST MEDICAL HISTORY: Diabetes mellitus type II, hypertension, coronary artery disease, atrial fibrillation, status post PTCA in 1995 by Dr. ABC.\\n\\nSOCIAL HISTORY: Denies alcohol or drugs. Smokes 2 packs of cigarettes per day. Works as a banker.\\n\\nFAMILY HISTORY: Positive for coronary artery disease (father &amp; brother).</td>\n",
       "      <td>1995</td>\n",
       "      <td>1424</td>\n",
       "      <td>1427</td>\n",
       "      <td>PHI</td>\n",
       "      <td>0.9998</td>\n",
       "    </tr>\n",
       "    <tr>\n",
       "      <th>6</th>\n",
       "      <td>HISTORY OF PRESENT ILLNESS: The patient is a 40-year-old white male who presents with a chief complaint of \"chest pain\".\\n\\nThe patient is diabetic and has a prior history of coronary artery disease. The patient presents today stating that his chest pain started yesterday evening and has been somewhat intermittent. The severity of the pain has progressively increased. He describes the pain as a sharp and heavy pain which radiates to his neck &amp; left arm. He ranks the pain a 7 on a scale of 1-10. He admits some shortness of breath &amp; diaphoresis. He states that he has had nausea &amp; 3 episodes of vomiting tonight. He denies any fever or chills. He admits prior episodes of similar pain prior to his PTCA in 1995. He states the pain is somewhat worse with walking and seems to be relieved with rest. There is no change in pain with positioning. He states that he took 3 nitroglycerin tablets sublingually over the past 1 hour, which he states has partially relieved his pain. The patient ranks his present pain a 4 on a scale of 1-10. The most recent episode of pain has lasted one-hour.\\n\\nThe patient denies any history of recent surgery, head trauma, recent stroke, abnormal bleeding such as blood in urine or stool or nosebleed.\\n\\nREVIEW OF SYSTEMS: All other systems reviewed &amp; are negative.\\n\\nPAST MEDICAL HISTORY: Diabetes mellitus type II, hypertension, coronary artery disease, atrial fibrillation, status post PTCA in 1995 by Dr. ABC.\\n\\nSOCIAL HISTORY: Denies alcohol or drugs. Smokes 2 packs of cigarettes per day. Works as a banker.\\n\\nFAMILY HISTORY: Positive for coronary artery disease (father &amp; brother).</td>\n",
       "      <td>ABC</td>\n",
       "      <td>1436</td>\n",
       "      <td>1438</td>\n",
       "      <td>PHI</td>\n",
       "      <td>0.9998</td>\n",
       "    </tr>\n",
       "    <tr>\n",
       "      <th>7</th>\n",
       "      <td>HISTORY OF PRESENT ILLNESS: The patient is a 40-year-old white male who presents with a chief complaint of \"chest pain\".\\n\\nThe patient is diabetic and has a prior history of coronary artery disease. The patient presents today stating that his chest pain started yesterday evening and has been somewhat intermittent. The severity of the pain has progressively increased. He describes the pain as a sharp and heavy pain which radiates to his neck &amp; left arm. He ranks the pain a 7 on a scale of 1-10. He admits some shortness of breath &amp; diaphoresis. He states that he has had nausea &amp; 3 episodes of vomiting tonight. He denies any fever or chills. He admits prior episodes of similar pain prior to his PTCA in 1995. He states the pain is somewhat worse with walking and seems to be relieved with rest. There is no change in pain with positioning. He states that he took 3 nitroglycerin tablets sublingually over the past 1 hour, which he states has partially relieved his pain. The patient ranks his present pain a 4 on a scale of 1-10. The most recent episode of pain has lasted one-hour.\\n\\nThe patient denies any history of recent surgery, head trauma, recent stroke, abnormal bleeding such as blood in urine or stool or nosebleed.\\n\\nREVIEW OF SYSTEMS: All other systems reviewed &amp; are negative.\\n\\nPAST MEDICAL HISTORY: Diabetes mellitus type II, hypertension, coronary artery disease, atrial fibrillation, status post PTCA in 1995 by Dr. ABC.\\n\\nSOCIAL HISTORY: Denies alcohol or drugs. Smokes 2 packs of cigarettes per day. Works as a banker.\\n\\nFAMILY HISTORY: Positive for coronary artery disease (father &amp; brother).</td>\n",
       "      <td>Smokes 2 packs of cigarettes per day</td>\n",
       "      <td>1483</td>\n",
       "      <td>1518</td>\n",
       "      <td>SMOKER</td>\n",
       "      <td>0.63425714</td>\n",
       "    </tr>\n",
       "    <tr>\n",
       "      <th>8</th>\n",
       "      <td>HISTORY OF PRESENT ILLNESS: The patient is a 40-year-old white male who presents with a chief complaint of \"chest pain\".\\n\\nThe patient is diabetic and has a prior history of coronary artery disease. The patient presents today stating that his chest pain started yesterday evening and has been somewhat intermittent. The severity of the pain has progressively increased. He describes the pain as a sharp and heavy pain which radiates to his neck &amp; left arm. He ranks the pain a 7 on a scale of 1-10. He admits some shortness of breath &amp; diaphoresis. He states that he has had nausea &amp; 3 episodes of vomiting tonight. He denies any fever or chills. He admits prior episodes of similar pain prior to his PTCA in 1995. He states the pain is somewhat worse with walking and seems to be relieved with rest. There is no change in pain with positioning. He states that he took 3 nitroglycerin tablets sublingually over the past 1 hour, which he states has partially relieved his pain. The patient ranks his present pain a 4 on a scale of 1-10. The most recent episode of pain has lasted one-hour.\\n\\nThe patient denies any history of recent surgery, head trauma, recent stroke, abnormal bleeding such as blood in urine or stool or nosebleed.\\n\\nREVIEW OF SYSTEMS: All other systems reviewed &amp; are negative.\\n\\nPAST MEDICAL HISTORY: Diabetes mellitus type II, hypertension, coronary artery disease, atrial fibrillation, status post PTCA in 1995 by Dr. ABC.\\n\\nSOCIAL HISTORY: Denies alcohol or drugs. Smokes 2 packs of cigarettes per day. Works as a banker.\\n\\nFAMILY HISTORY: Positive for coronary artery disease (father &amp; brother).</td>\n",
       "      <td>banker</td>\n",
       "      <td>1532</td>\n",
       "      <td>1537</td>\n",
       "      <td>PHI</td>\n",
       "      <td>0.9779</td>\n",
       "    </tr>\n",
       "    <tr>\n",
       "      <th>9</th>\n",
       "      <td>HISTORY OF PRESENT ILLNESS: This 57-year-old black female complains of having pain and discomfort in the left upper arm, especially when she walks and after heavy meals. This lasts anywhere from a few hours and is not associated with shortness of breath, palpitations, dizziness, or syncope. Patient does not get any chest pain or choking in the neck or pain in the back. Patient denies history of hypertension, diabetes mellitus, enlarged heart, heart murmur, history suggestive of previous myocardial infarction, or acute rheumatic polyarthritis during childhood. Her exercise tolerance is one to two blocks for shortness of breath and easy fatigability.\\n\\nMEDICATIONS: Patient does not take any specific medications.\\n\\nPAST HISTORY: The patient underwent hysterectomy in 1986.\\n\\nFAMILY HISTORY: The patient is married, has four children who are doing fine. Family history is positive for hypertension, congestive heart failure, obesity, cancer, and cerebrovascular accident.\\n\\nSOCIAL HISTORY: The patient smokes one pack of cigarettes per day and takes drinks on social occasions.</td>\n",
       "      <td>hypertension</td>\n",
       "      <td>398</td>\n",
       "      <td>409</td>\n",
       "      <td>HYPERTENSION</td>\n",
       "      <td>0.9709</td>\n",
       "    </tr>\n",
       "    <tr>\n",
       "      <th>10</th>\n",
       "      <td>HISTORY OF PRESENT ILLNESS: This 57-year-old black female complains of having pain and discomfort in the left upper arm, especially when she walks and after heavy meals. This lasts anywhere from a few hours and is not associated with shortness of breath, palpitations, dizziness, or syncope. Patient does not get any chest pain or choking in the neck or pain in the back. Patient denies history of hypertension, diabetes mellitus, enlarged heart, heart murmur, history suggestive of previous myocardial infarction, or acute rheumatic polyarthritis during childhood. Her exercise tolerance is one to two blocks for shortness of breath and easy fatigability.\\n\\nMEDICATIONS: Patient does not take any specific medications.\\n\\nPAST HISTORY: The patient underwent hysterectomy in 1986.\\n\\nFAMILY HISTORY: The patient is married, has four children who are doing fine. Family history is positive for hypertension, congestive heart failure, obesity, cancer, and cerebrovascular accident.\\n\\nSOCIAL HISTORY: The patient smokes one pack of cigarettes per day and takes drinks on social occasions.</td>\n",
       "      <td>diabetes mellitus</td>\n",
       "      <td>412</td>\n",
       "      <td>428</td>\n",
       "      <td>DIABETES</td>\n",
       "      <td>0.8099</td>\n",
       "    </tr>\n",
       "    <tr>\n",
       "      <th>11</th>\n",
       "      <td>HISTORY OF PRESENT ILLNESS: This 57-year-old black female complains of having pain and discomfort in the left upper arm, especially when she walks and after heavy meals. This lasts anywhere from a few hours and is not associated with shortness of breath, palpitations, dizziness, or syncope. Patient does not get any chest pain or choking in the neck or pain in the back. Patient denies history of hypertension, diabetes mellitus, enlarged heart, heart murmur, history suggestive of previous myocardial infarction, or acute rheumatic polyarthritis during childhood. Her exercise tolerance is one to two blocks for shortness of breath and easy fatigability.\\n\\nMEDICATIONS: Patient does not take any specific medications.\\n\\nPAST HISTORY: The patient underwent hysterectomy in 1986.\\n\\nFAMILY HISTORY: The patient is married, has four children who are doing fine. Family history is positive for hypertension, congestive heart failure, obesity, cancer, and cerebrovascular accident.\\n\\nSOCIAL HISTORY: The patient smokes one pack of cigarettes per day and takes drinks on social occasions.</td>\n",
       "      <td>1986</td>\n",
       "      <td>772</td>\n",
       "      <td>775</td>\n",
       "      <td>PHI</td>\n",
       "      <td>0.9674</td>\n",
       "    </tr>\n",
       "  </tbody>\n",
       "</table>\n",
       "</div>"
      ],
      "text/plain": [
       "                                                                                                                                                                                                                                                                                                                                                                                                                                                                                                                                                                                                                                                                                                                                                                                                                                                                                                                                                                                                                                                                                                                                                                                                                                                                                                                                                                                                                                                                                                                                                                                                                                                                                     document  \\\n",
       "0   HISTORY OF PRESENT ILLNESS: The patient is a 40-year-old white male who presents with a chief complaint of \"chest pain\".\\n\\nThe patient is diabetic and has a prior history of coronary artery disease. The patient presents today stating that his chest pain started yesterday evening and has been somewhat intermittent. The severity of the pain has progressively increased. He describes the pain as a sharp and heavy pain which radiates to his neck & left arm. He ranks the pain a 7 on a scale of 1-10. He admits some shortness of breath & diaphoresis. He states that he has had nausea & 3 episodes of vomiting tonight. He denies any fever or chills. He admits prior episodes of similar pain prior to his PTCA in 1995. He states the pain is somewhat worse with walking and seems to be relieved with rest. There is no change in pain with positioning. He states that he took 3 nitroglycerin tablets sublingually over the past 1 hour, which he states has partially relieved his pain. The patient ranks his present pain a 4 on a scale of 1-10. The most recent episode of pain has lasted one-hour.\\n\\nThe patient denies any history of recent surgery, head trauma, recent stroke, abnormal bleeding such as blood in urine or stool or nosebleed.\\n\\nREVIEW OF SYSTEMS: All other systems reviewed & are negative.\\n\\nPAST MEDICAL HISTORY: Diabetes mellitus type II, hypertension, coronary artery disease, atrial fibrillation, status post PTCA in 1995 by Dr. ABC.\\n\\nSOCIAL HISTORY: Denies alcohol or drugs. Smokes 2 packs of cigarettes per day. Works as a banker.\\n\\nFAMILY HISTORY: Positive for coronary artery disease (father & brother).   \n",
       "1   HISTORY OF PRESENT ILLNESS: The patient is a 40-year-old white male who presents with a chief complaint of \"chest pain\".\\n\\nThe patient is diabetic and has a prior history of coronary artery disease. The patient presents today stating that his chest pain started yesterday evening and has been somewhat intermittent. The severity of the pain has progressively increased. He describes the pain as a sharp and heavy pain which radiates to his neck & left arm. He ranks the pain a 7 on a scale of 1-10. He admits some shortness of breath & diaphoresis. He states that he has had nausea & 3 episodes of vomiting tonight. He denies any fever or chills. He admits prior episodes of similar pain prior to his PTCA in 1995. He states the pain is somewhat worse with walking and seems to be relieved with rest. There is no change in pain with positioning. He states that he took 3 nitroglycerin tablets sublingually over the past 1 hour, which he states has partially relieved his pain. The patient ranks his present pain a 4 on a scale of 1-10. The most recent episode of pain has lasted one-hour.\\n\\nThe patient denies any history of recent surgery, head trauma, recent stroke, abnormal bleeding such as blood in urine or stool or nosebleed.\\n\\nREVIEW OF SYSTEMS: All other systems reviewed & are negative.\\n\\nPAST MEDICAL HISTORY: Diabetes mellitus type II, hypertension, coronary artery disease, atrial fibrillation, status post PTCA in 1995 by Dr. ABC.\\n\\nSOCIAL HISTORY: Denies alcohol or drugs. Smokes 2 packs of cigarettes per day. Works as a banker.\\n\\nFAMILY HISTORY: Positive for coronary artery disease (father & brother).   \n",
       "2   HISTORY OF PRESENT ILLNESS: The patient is a 40-year-old white male who presents with a chief complaint of \"chest pain\".\\n\\nThe patient is diabetic and has a prior history of coronary artery disease. The patient presents today stating that his chest pain started yesterday evening and has been somewhat intermittent. The severity of the pain has progressively increased. He describes the pain as a sharp and heavy pain which radiates to his neck & left arm. He ranks the pain a 7 on a scale of 1-10. He admits some shortness of breath & diaphoresis. He states that he has had nausea & 3 episodes of vomiting tonight. He denies any fever or chills. He admits prior episodes of similar pain prior to his PTCA in 1995. He states the pain is somewhat worse with walking and seems to be relieved with rest. There is no change in pain with positioning. He states that he took 3 nitroglycerin tablets sublingually over the past 1 hour, which he states has partially relieved his pain. The patient ranks his present pain a 4 on a scale of 1-10. The most recent episode of pain has lasted one-hour.\\n\\nThe patient denies any history of recent surgery, head trauma, recent stroke, abnormal bleeding such as blood in urine or stool or nosebleed.\\n\\nREVIEW OF SYSTEMS: All other systems reviewed & are negative.\\n\\nPAST MEDICAL HISTORY: Diabetes mellitus type II, hypertension, coronary artery disease, atrial fibrillation, status post PTCA in 1995 by Dr. ABC.\\n\\nSOCIAL HISTORY: Denies alcohol or drugs. Smokes 2 packs of cigarettes per day. Works as a banker.\\n\\nFAMILY HISTORY: Positive for coronary artery disease (father & brother).   \n",
       "3   HISTORY OF PRESENT ILLNESS: The patient is a 40-year-old white male who presents with a chief complaint of \"chest pain\".\\n\\nThe patient is diabetic and has a prior history of coronary artery disease. The patient presents today stating that his chest pain started yesterday evening and has been somewhat intermittent. The severity of the pain has progressively increased. He describes the pain as a sharp and heavy pain which radiates to his neck & left arm. He ranks the pain a 7 on a scale of 1-10. He admits some shortness of breath & diaphoresis. He states that he has had nausea & 3 episodes of vomiting tonight. He denies any fever or chills. He admits prior episodes of similar pain prior to his PTCA in 1995. He states the pain is somewhat worse with walking and seems to be relieved with rest. There is no change in pain with positioning. He states that he took 3 nitroglycerin tablets sublingually over the past 1 hour, which he states has partially relieved his pain. The patient ranks his present pain a 4 on a scale of 1-10. The most recent episode of pain has lasted one-hour.\\n\\nThe patient denies any history of recent surgery, head trauma, recent stroke, abnormal bleeding such as blood in urine or stool or nosebleed.\\n\\nREVIEW OF SYSTEMS: All other systems reviewed & are negative.\\n\\nPAST MEDICAL HISTORY: Diabetes mellitus type II, hypertension, coronary artery disease, atrial fibrillation, status post PTCA in 1995 by Dr. ABC.\\n\\nSOCIAL HISTORY: Denies alcohol or drugs. Smokes 2 packs of cigarettes per day. Works as a banker.\\n\\nFAMILY HISTORY: Positive for coronary artery disease (father & brother).   \n",
       "4   HISTORY OF PRESENT ILLNESS: The patient is a 40-year-old white male who presents with a chief complaint of \"chest pain\".\\n\\nThe patient is diabetic and has a prior history of coronary artery disease. The patient presents today stating that his chest pain started yesterday evening and has been somewhat intermittent. The severity of the pain has progressively increased. He describes the pain as a sharp and heavy pain which radiates to his neck & left arm. He ranks the pain a 7 on a scale of 1-10. He admits some shortness of breath & diaphoresis. He states that he has had nausea & 3 episodes of vomiting tonight. He denies any fever or chills. He admits prior episodes of similar pain prior to his PTCA in 1995. He states the pain is somewhat worse with walking and seems to be relieved with rest. There is no change in pain with positioning. He states that he took 3 nitroglycerin tablets sublingually over the past 1 hour, which he states has partially relieved his pain. The patient ranks his present pain a 4 on a scale of 1-10. The most recent episode of pain has lasted one-hour.\\n\\nThe patient denies any history of recent surgery, head trauma, recent stroke, abnormal bleeding such as blood in urine or stool or nosebleed.\\n\\nREVIEW OF SYSTEMS: All other systems reviewed & are negative.\\n\\nPAST MEDICAL HISTORY: Diabetes mellitus type II, hypertension, coronary artery disease, atrial fibrillation, status post PTCA in 1995 by Dr. ABC.\\n\\nSOCIAL HISTORY: Denies alcohol or drugs. Smokes 2 packs of cigarettes per day. Works as a banker.\\n\\nFAMILY HISTORY: Positive for coronary artery disease (father & brother).   \n",
       "5   HISTORY OF PRESENT ILLNESS: The patient is a 40-year-old white male who presents with a chief complaint of \"chest pain\".\\n\\nThe patient is diabetic and has a prior history of coronary artery disease. The patient presents today stating that his chest pain started yesterday evening and has been somewhat intermittent. The severity of the pain has progressively increased. He describes the pain as a sharp and heavy pain which radiates to his neck & left arm. He ranks the pain a 7 on a scale of 1-10. He admits some shortness of breath & diaphoresis. He states that he has had nausea & 3 episodes of vomiting tonight. He denies any fever or chills. He admits prior episodes of similar pain prior to his PTCA in 1995. He states the pain is somewhat worse with walking and seems to be relieved with rest. There is no change in pain with positioning. He states that he took 3 nitroglycerin tablets sublingually over the past 1 hour, which he states has partially relieved his pain. The patient ranks his present pain a 4 on a scale of 1-10. The most recent episode of pain has lasted one-hour.\\n\\nThe patient denies any history of recent surgery, head trauma, recent stroke, abnormal bleeding such as blood in urine or stool or nosebleed.\\n\\nREVIEW OF SYSTEMS: All other systems reviewed & are negative.\\n\\nPAST MEDICAL HISTORY: Diabetes mellitus type II, hypertension, coronary artery disease, atrial fibrillation, status post PTCA in 1995 by Dr. ABC.\\n\\nSOCIAL HISTORY: Denies alcohol or drugs. Smokes 2 packs of cigarettes per day. Works as a banker.\\n\\nFAMILY HISTORY: Positive for coronary artery disease (father & brother).   \n",
       "6   HISTORY OF PRESENT ILLNESS: The patient is a 40-year-old white male who presents with a chief complaint of \"chest pain\".\\n\\nThe patient is diabetic and has a prior history of coronary artery disease. The patient presents today stating that his chest pain started yesterday evening and has been somewhat intermittent. The severity of the pain has progressively increased. He describes the pain as a sharp and heavy pain which radiates to his neck & left arm. He ranks the pain a 7 on a scale of 1-10. He admits some shortness of breath & diaphoresis. He states that he has had nausea & 3 episodes of vomiting tonight. He denies any fever or chills. He admits prior episodes of similar pain prior to his PTCA in 1995. He states the pain is somewhat worse with walking and seems to be relieved with rest. There is no change in pain with positioning. He states that he took 3 nitroglycerin tablets sublingually over the past 1 hour, which he states has partially relieved his pain. The patient ranks his present pain a 4 on a scale of 1-10. The most recent episode of pain has lasted one-hour.\\n\\nThe patient denies any history of recent surgery, head trauma, recent stroke, abnormal bleeding such as blood in urine or stool or nosebleed.\\n\\nREVIEW OF SYSTEMS: All other systems reviewed & are negative.\\n\\nPAST MEDICAL HISTORY: Diabetes mellitus type II, hypertension, coronary artery disease, atrial fibrillation, status post PTCA in 1995 by Dr. ABC.\\n\\nSOCIAL HISTORY: Denies alcohol or drugs. Smokes 2 packs of cigarettes per day. Works as a banker.\\n\\nFAMILY HISTORY: Positive for coronary artery disease (father & brother).   \n",
       "7   HISTORY OF PRESENT ILLNESS: The patient is a 40-year-old white male who presents with a chief complaint of \"chest pain\".\\n\\nThe patient is diabetic and has a prior history of coronary artery disease. The patient presents today stating that his chest pain started yesterday evening and has been somewhat intermittent. The severity of the pain has progressively increased. He describes the pain as a sharp and heavy pain which radiates to his neck & left arm. He ranks the pain a 7 on a scale of 1-10. He admits some shortness of breath & diaphoresis. He states that he has had nausea & 3 episodes of vomiting tonight. He denies any fever or chills. He admits prior episodes of similar pain prior to his PTCA in 1995. He states the pain is somewhat worse with walking and seems to be relieved with rest. There is no change in pain with positioning. He states that he took 3 nitroglycerin tablets sublingually over the past 1 hour, which he states has partially relieved his pain. The patient ranks his present pain a 4 on a scale of 1-10. The most recent episode of pain has lasted one-hour.\\n\\nThe patient denies any history of recent surgery, head trauma, recent stroke, abnormal bleeding such as blood in urine or stool or nosebleed.\\n\\nREVIEW OF SYSTEMS: All other systems reviewed & are negative.\\n\\nPAST MEDICAL HISTORY: Diabetes mellitus type II, hypertension, coronary artery disease, atrial fibrillation, status post PTCA in 1995 by Dr. ABC.\\n\\nSOCIAL HISTORY: Denies alcohol or drugs. Smokes 2 packs of cigarettes per day. Works as a banker.\\n\\nFAMILY HISTORY: Positive for coronary artery disease (father & brother).   \n",
       "8   HISTORY OF PRESENT ILLNESS: The patient is a 40-year-old white male who presents with a chief complaint of \"chest pain\".\\n\\nThe patient is diabetic and has a prior history of coronary artery disease. The patient presents today stating that his chest pain started yesterday evening and has been somewhat intermittent. The severity of the pain has progressively increased. He describes the pain as a sharp and heavy pain which radiates to his neck & left arm. He ranks the pain a 7 on a scale of 1-10. He admits some shortness of breath & diaphoresis. He states that he has had nausea & 3 episodes of vomiting tonight. He denies any fever or chills. He admits prior episodes of similar pain prior to his PTCA in 1995. He states the pain is somewhat worse with walking and seems to be relieved with rest. There is no change in pain with positioning. He states that he took 3 nitroglycerin tablets sublingually over the past 1 hour, which he states has partially relieved his pain. The patient ranks his present pain a 4 on a scale of 1-10. The most recent episode of pain has lasted one-hour.\\n\\nThe patient denies any history of recent surgery, head trauma, recent stroke, abnormal bleeding such as blood in urine or stool or nosebleed.\\n\\nREVIEW OF SYSTEMS: All other systems reviewed & are negative.\\n\\nPAST MEDICAL HISTORY: Diabetes mellitus type II, hypertension, coronary artery disease, atrial fibrillation, status post PTCA in 1995 by Dr. ABC.\\n\\nSOCIAL HISTORY: Denies alcohol or drugs. Smokes 2 packs of cigarettes per day. Works as a banker.\\n\\nFAMILY HISTORY: Positive for coronary artery disease (father & brother).   \n",
       "9                                                                                                                                                                                                                                                                                                                                                                                                                                                                                                                                                             HISTORY OF PRESENT ILLNESS: This 57-year-old black female complains of having pain and discomfort in the left upper arm, especially when she walks and after heavy meals. This lasts anywhere from a few hours and is not associated with shortness of breath, palpitations, dizziness, or syncope. Patient does not get any chest pain or choking in the neck or pain in the back. Patient denies history of hypertension, diabetes mellitus, enlarged heart, heart murmur, history suggestive of previous myocardial infarction, or acute rheumatic polyarthritis during childhood. Her exercise tolerance is one to two blocks for shortness of breath and easy fatigability.\\n\\nMEDICATIONS: Patient does not take any specific medications.\\n\\nPAST HISTORY: The patient underwent hysterectomy in 1986.\\n\\nFAMILY HISTORY: The patient is married, has four children who are doing fine. Family history is positive for hypertension, congestive heart failure, obesity, cancer, and cerebrovascular accident.\\n\\nSOCIAL HISTORY: The patient smokes one pack of cigarettes per day and takes drinks on social occasions.   \n",
       "10                                                                                                                                                                                                                                                                                                                                                                                                                                                                                                                                                            HISTORY OF PRESENT ILLNESS: This 57-year-old black female complains of having pain and discomfort in the left upper arm, especially when she walks and after heavy meals. This lasts anywhere from a few hours and is not associated with shortness of breath, palpitations, dizziness, or syncope. Patient does not get any chest pain or choking in the neck or pain in the back. Patient denies history of hypertension, diabetes mellitus, enlarged heart, heart murmur, history suggestive of previous myocardial infarction, or acute rheumatic polyarthritis during childhood. Her exercise tolerance is one to two blocks for shortness of breath and easy fatigability.\\n\\nMEDICATIONS: Patient does not take any specific medications.\\n\\nPAST HISTORY: The patient underwent hysterectomy in 1986.\\n\\nFAMILY HISTORY: The patient is married, has four children who are doing fine. Family history is positive for hypertension, congestive heart failure, obesity, cancer, and cerebrovascular accident.\\n\\nSOCIAL HISTORY: The patient smokes one pack of cigarettes per day and takes drinks on social occasions.   \n",
       "11                                                                                                                                                                                                                                                                                                                                                                                                                                                                                                                                                            HISTORY OF PRESENT ILLNESS: This 57-year-old black female complains of having pain and discomfort in the left upper arm, especially when she walks and after heavy meals. This lasts anywhere from a few hours and is not associated with shortness of breath, palpitations, dizziness, or syncope. Patient does not get any chest pain or choking in the neck or pain in the back. Patient denies history of hypertension, diabetes mellitus, enlarged heart, heart murmur, history suggestive of previous myocardial infarction, or acute rheumatic polyarthritis during childhood. Her exercise tolerance is one to two blocks for shortness of breath and easy fatigability.\\n\\nMEDICATIONS: Patient does not take any specific medications.\\n\\nPAST HISTORY: The patient underwent hysterectomy in 1986.\\n\\nFAMILY HISTORY: The patient is married, has four children who are doing fine. Family history is positive for hypertension, congestive heart failure, obesity, cancer, and cerebrovascular accident.\\n\\nSOCIAL HISTORY: The patient smokes one pack of cigarettes per day and takes drinks on social occasions.   \n",
       "\n",
       "                               ner_chunk  begin   end     ner_label  \\\n",
       "0                               diabetic    137   144      DIABETES   \n",
       "1                coronary artery disease    173   195           CAD   \n",
       "2              Diabetes mellitus type II   1317  1341      DIABETES   \n",
       "3                           hypertension   1344  1355  HYPERTENSION   \n",
       "4                coronary artery disease   1358  1380           CAD   \n",
       "5                                   1995   1424  1427           PHI   \n",
       "6                                    ABC   1436  1438           PHI   \n",
       "7   Smokes 2 packs of cigarettes per day   1483  1518        SMOKER   \n",
       "8                                 banker   1532  1537           PHI   \n",
       "9                           hypertension    398   409  HYPERTENSION   \n",
       "10                     diabetes mellitus    412   428      DIABETES   \n",
       "11                                  1986    772   775           PHI   \n",
       "\n",
       "    confidence  \n",
       "0       0.9992  \n",
       "1    0.6896667  \n",
       "2   0.71244997  \n",
       "3        0.987  \n",
       "4   0.89136666  \n",
       "5       0.9998  \n",
       "6       0.9998  \n",
       "7   0.63425714  \n",
       "8       0.9779  \n",
       "9       0.9709  \n",
       "10      0.8099  \n",
       "11      0.9674  "
      ]
     },
     "metadata": {},
     "output_type": "display_data"
    }
   ],
   "source": [
    "# Example: 1\n",
    "data_dicts = [\n",
    "    {\n",
    "        \"text\": docs,\n",
    "        \"output_level\": \"chunk\"\n",
    "    }\n",
    "]\n",
    "\n",
    "process_data_and_invoke_realtime_endpoint(data_dicts)\n"
   ]
  },
  {
   "cell_type": "code",
   "execution_count": 9,
   "metadata": {
    "tags": []
   },
   "outputs": [
    {
     "data": {
      "text/html": [
       "<div>\n",
       "<style scoped>\n",
       "    .dataframe tbody tr th:only-of-type {\n",
       "        vertical-align: middle;\n",
       "    }\n",
       "\n",
       "    .dataframe tbody tr th {\n",
       "        vertical-align: top;\n",
       "    }\n",
       "\n",
       "    .dataframe thead th {\n",
       "        text-align: right;\n",
       "    }\n",
       "</style>\n",
       "<table border=\"1\" class=\"dataframe\">\n",
       "  <thead>\n",
       "    <tr style=\"text-align: right;\">\n",
       "      <th></th>\n",
       "      <th>document</th>\n",
       "      <th>ner_chunk</th>\n",
       "      <th>begin</th>\n",
       "      <th>end</th>\n",
       "      <th>ner_label</th>\n",
       "      <th>confidence</th>\n",
       "    </tr>\n",
       "  </thead>\n",
       "  <tbody>\n",
       "    <tr>\n",
       "      <th>0</th>\n",
       "      <td>In short, the patient is a 55-year-old gentleman with long-standing morbid obesity, resistant to nonsurgical methods of weight loss with BMI of 69.7 with comorbidities of hypertension, atrial fibrillation, hyperlipidemia, possible sleep apnea, and also osteoarthritis of the lower extremities. He is also an ex-smoker. He is currently smoking and he is planning to quit and at least he should do this six to eight days before for multiple reasons including decreasing the DVT, PE rates and marginal ulcer problems after surgery, which will be discussed later on.</td>\n",
       "      <td>morbid obesity</td>\n",
       "      <td>68</td>\n",
       "      <td>81</td>\n",
       "      <td>OBESE</td>\n",
       "      <td>0.717</td>\n",
       "    </tr>\n",
       "  </tbody>\n",
       "</table>\n",
       "</div>"
      ],
      "text/plain": [
       "                                                                                                                                                                                                                                                                                                                                                                                                                                                                                                                                                                             document  \\\n",
       "0  In short, the patient is a 55-year-old gentleman with long-standing morbid obesity, resistant to nonsurgical methods of weight loss with BMI of 69.7 with comorbidities of hypertension, atrial fibrillation, hyperlipidemia, possible sleep apnea, and also osteoarthritis of the lower extremities. He is also an ex-smoker. He is currently smoking and he is planning to quit and at least he should do this six to eight days before for multiple reasons including decreasing the DVT, PE rates and marginal ulcer problems after surgery, which will be discussed later on.   \n",
       "\n",
       "        ner_chunk  begin  end ner_label confidence  \n",
       "0  morbid obesity     68   81     OBESE      0.717  "
      ]
     },
     "metadata": {},
     "output_type": "display_data"
    }
   ],
   "source": [
    "# Example: 2\n",
    "data_dicts = [\n",
    "    {\n",
    "        \"text\": sample_text,\n",
    "        \"output_level\": \"chunk\"\n",
    "    }\n",
    "]\n",
    "\n",
    "process_data_and_invoke_realtime_endpoint(data_dicts)"
   ]
  },
  {
   "cell_type": "markdown",
   "metadata": {},
   "source": [
    "#### Output Level: Document"
   ]
  },
  {
   "cell_type": "markdown",
   "metadata": {},
   "source": [
    "  **Input format**:\n",
    "  \n",
    "  \n",
    "  {\"**text**\": \"Input Text from which biology and genetics terms are to be extracted.\", \"**output_level**\":\"document\"}"
   ]
  },
  {
   "cell_type": "code",
   "execution_count": 10,
   "metadata": {
    "tags": []
   },
   "outputs": [
    {
     "data": {
      "text/html": [
       "<div>\n",
       "<style scoped>\n",
       "    .dataframe tbody tr th:only-of-type {\n",
       "        vertical-align: middle;\n",
       "    }\n",
       "\n",
       "    .dataframe tbody tr th {\n",
       "        vertical-align: top;\n",
       "    }\n",
       "\n",
       "    .dataframe thead th {\n",
       "        text-align: right;\n",
       "    }\n",
       "</style>\n",
       "<table border=\"1\" class=\"dataframe\">\n",
       "  <thead>\n",
       "    <tr style=\"text-align: right;\">\n",
       "      <th></th>\n",
       "      <th>document</th>\n",
       "      <th>ner_chunk</th>\n",
       "      <th>begin</th>\n",
       "      <th>end</th>\n",
       "      <th>ner_label</th>\n",
       "      <th>confidence</th>\n",
       "    </tr>\n",
       "  </thead>\n",
       "  <tbody>\n",
       "    <tr>\n",
       "      <th>0</th>\n",
       "      <td>HISTORY OF PRESENT ILLNESS: The patient is a 40-year-old white male who presents with a chief complaint of \"chest pain\".\\n\\nThe patient is diabetic and has a prior history of coronary artery disease. The patient presents today stating that his chest pain started yesterday evening and has been somewhat intermittent. The severity of the pain has progressively increased. He describes the pain as a sharp and heavy pain which radiates to his neck &amp; left arm. He ranks the pain a 7 on a scale of 1-10. He admits some shortness of breath &amp; diaphoresis. He states that he has had nausea &amp; 3 episodes of vomiting tonight. He denies any fever or chills. He admits prior episodes of similar pain prior to his PTCA in 1995. He states the pain is somewhat worse with walking and seems to be relieved with rest. There is no change in pain with positioning. He states that he took 3 nitroglycerin tablets sublingually over the past 1 hour, which he states has partially relieved his pain. The patient ranks his present pain a 4 on a scale of 1-10. The most recent episode of pain has lasted one-hour.\\n\\nThe patient denies any history of recent surgery, head trauma, recent stroke, abnormal bleeding such as blood in urine or stool or nosebleed.\\n\\nREVIEW OF SYSTEMS: All other systems reviewed &amp; are negative.\\n\\nPAST MEDICAL HISTORY: Diabetes mellitus type II, hypertension, coronary artery disease, atrial fibrillation, status post PTCA in 1995 by Dr. ABC.\\n\\nSOCIAL HISTORY: Denies alcohol or drugs. Smokes 2 packs of cigarettes per day. Works as a banker.\\n\\nFAMILY HISTORY: Positive for coronary artery disease (father &amp; brother).</td>\n",
       "      <td>[diabetic, coronary artery disease, Diabetes mellitus type II, hypertension, coronary artery disease, 1995, ABC, Smokes 2 packs of cigarettes per day, banker]</td>\n",
       "      <td>[137, 173, 1317, 1344, 1358, 1424, 1436, 1483, 1532]</td>\n",
       "      <td>[144, 195, 1341, 1355, 1380, 1427, 1438, 1518, 1537]</td>\n",
       "      <td>[DIABETES, CAD, DIABETES, HYPERTENSION, CAD, PHI, PHI, SMOKER, PHI]</td>\n",
       "      <td>[0.9992, 0.6896667, 0.71244997, 0.987, 0.89136666, 0.9998, 0.9998, 0.63425714, 0.9779]</td>\n",
       "    </tr>\n",
       "    <tr>\n",
       "      <th>1</th>\n",
       "      <td>HISTORY OF PRESENT ILLNESS: This 57-year-old black female complains of having pain and discomfort in the left upper arm, especially when she walks and after heavy meals. This lasts anywhere from a few hours and is not associated with shortness of breath, palpitations, dizziness, or syncope. Patient does not get any chest pain or choking in the neck or pain in the back. Patient denies history of hypertension, diabetes mellitus, enlarged heart, heart murmur, history suggestive of previous myocardial infarction, or acute rheumatic polyarthritis during childhood. Her exercise tolerance is one to two blocks for shortness of breath and easy fatigability.\\n\\nMEDICATIONS: Patient does not take any specific medications.\\n\\nPAST HISTORY: The patient underwent hysterectomy in 1986.\\n\\nFAMILY HISTORY: The patient is married, has four children who are doing fine. Family history is positive for hypertension, congestive heart failure, obesity, cancer, and cerebrovascular accident.\\n\\nSOCIAL HISTORY: The patient smokes one pack of cigarettes per day and takes drinks on social occasions.</td>\n",
       "      <td>[hypertension, diabetes mellitus, 1986]</td>\n",
       "      <td>[398, 412, 772]</td>\n",
       "      <td>[409, 428, 775]</td>\n",
       "      <td>[HYPERTENSION, DIABETES, PHI]</td>\n",
       "      <td>[0.9709, 0.8099, 0.9674]</td>\n",
       "    </tr>\n",
       "  </tbody>\n",
       "</table>\n",
       "</div>"
      ],
      "text/plain": [
       "                                                                                                                                                                                                                                                                                                                                                                                                                                                                                                                                                                                                                                                                                                                                                                                                                                                                                                                                                                                                                                                                                                                                                                                                                                                                                                                                                                                                                                                                                                                                                                                                                                                                                    document  \\\n",
       "0  HISTORY OF PRESENT ILLNESS: The patient is a 40-year-old white male who presents with a chief complaint of \"chest pain\".\\n\\nThe patient is diabetic and has a prior history of coronary artery disease. The patient presents today stating that his chest pain started yesterday evening and has been somewhat intermittent. The severity of the pain has progressively increased. He describes the pain as a sharp and heavy pain which radiates to his neck & left arm. He ranks the pain a 7 on a scale of 1-10. He admits some shortness of breath & diaphoresis. He states that he has had nausea & 3 episodes of vomiting tonight. He denies any fever or chills. He admits prior episodes of similar pain prior to his PTCA in 1995. He states the pain is somewhat worse with walking and seems to be relieved with rest. There is no change in pain with positioning. He states that he took 3 nitroglycerin tablets sublingually over the past 1 hour, which he states has partially relieved his pain. The patient ranks his present pain a 4 on a scale of 1-10. The most recent episode of pain has lasted one-hour.\\n\\nThe patient denies any history of recent surgery, head trauma, recent stroke, abnormal bleeding such as blood in urine or stool or nosebleed.\\n\\nREVIEW OF SYSTEMS: All other systems reviewed & are negative.\\n\\nPAST MEDICAL HISTORY: Diabetes mellitus type II, hypertension, coronary artery disease, atrial fibrillation, status post PTCA in 1995 by Dr. ABC.\\n\\nSOCIAL HISTORY: Denies alcohol or drugs. Smokes 2 packs of cigarettes per day. Works as a banker.\\n\\nFAMILY HISTORY: Positive for coronary artery disease (father & brother).   \n",
       "1                                                                                                                                                                                                                                                                                                                                                                                                                                                                                                                                                            HISTORY OF PRESENT ILLNESS: This 57-year-old black female complains of having pain and discomfort in the left upper arm, especially when she walks and after heavy meals. This lasts anywhere from a few hours and is not associated with shortness of breath, palpitations, dizziness, or syncope. Patient does not get any chest pain or choking in the neck or pain in the back. Patient denies history of hypertension, diabetes mellitus, enlarged heart, heart murmur, history suggestive of previous myocardial infarction, or acute rheumatic polyarthritis during childhood. Her exercise tolerance is one to two blocks for shortness of breath and easy fatigability.\\n\\nMEDICATIONS: Patient does not take any specific medications.\\n\\nPAST HISTORY: The patient underwent hysterectomy in 1986.\\n\\nFAMILY HISTORY: The patient is married, has four children who are doing fine. Family history is positive for hypertension, congestive heart failure, obesity, cancer, and cerebrovascular accident.\\n\\nSOCIAL HISTORY: The patient smokes one pack of cigarettes per day and takes drinks on social occasions.   \n",
       "\n",
       "                                                                                                                                                        ner_chunk  \\\n",
       "0  [diabetic, coronary artery disease, Diabetes mellitus type II, hypertension, coronary artery disease, 1995, ABC, Smokes 2 packs of cigarettes per day, banker]   \n",
       "1                                                                                                                         [hypertension, diabetes mellitus, 1986]   \n",
       "\n",
       "                                                  begin  \\\n",
       "0  [137, 173, 1317, 1344, 1358, 1424, 1436, 1483, 1532]   \n",
       "1                                       [398, 412, 772]   \n",
       "\n",
       "                                                    end  \\\n",
       "0  [144, 195, 1341, 1355, 1380, 1427, 1438, 1518, 1537]   \n",
       "1                                       [409, 428, 775]   \n",
       "\n",
       "                                                             ner_label  \\\n",
       "0  [DIABETES, CAD, DIABETES, HYPERTENSION, CAD, PHI, PHI, SMOKER, PHI]   \n",
       "1                                        [HYPERTENSION, DIABETES, PHI]   \n",
       "\n",
       "                                                                               confidence  \n",
       "0  [0.9992, 0.6896667, 0.71244997, 0.987, 0.89136666, 0.9998, 0.9998, 0.63425714, 0.9779]  \n",
       "1                                                                [0.9709, 0.8099, 0.9674]  "
      ]
     },
     "metadata": {},
     "output_type": "display_data"
    }
   ],
   "source": [
    "# Example: 3\n",
    "data_dicts = [\n",
    "    {\n",
    "        \"text\": docs,\n",
    "        \"output_level\": \"document\"\n",
    "    }\n",
    "]\n",
    "\n",
    "process_data_and_invoke_realtime_endpoint(data_dicts)\n"
   ]
  },
  {
   "cell_type": "markdown",
   "metadata": {},
   "source": [
    "### C. Delete the endpoint"
   ]
  },
  {
   "cell_type": "markdown",
   "metadata": {},
   "source": [
    "Now that you have successfully performed a real-time inference, you do not need the endpoint any more. You can terminate the endpoint to avoid being charged."
   ]
  },
  {
   "cell_type": "code",
   "execution_count": 11,
   "metadata": {
    "tags": []
   },
   "outputs": [],
   "source": [
    "model.sagemaker_session.delete_endpoint(model_name)\n",
    "model.sagemaker_session.delete_endpoint_config(model_name)"
   ]
  },
  {
   "cell_type": "markdown",
   "metadata": {
    "tags": []
   },
   "source": [
    "## 3. Batch inference"
   ]
  },
  {
   "cell_type": "code",
   "execution_count": 12,
   "metadata": {
    "tags": []
   },
   "outputs": [],
   "source": [
    "import os\n",
    "\n",
    "validation_file_name_1 = \"input_1.json\"\n",
    "validation_file_name_2 = \"input_2.json\"\n",
    "validation_file_name_3 = \"input_3.json\"\n",
    "\n",
    "validation_input_path = f\"s3://{s3_bucket}/{model_name}/validation-input-json/batch\"\n",
    "validation_output_path = f\"s3://{s3_bucket}/{model_name}/validation-output-json/batch\"\n",
    "\n",
    "input_dir = 'inputs/batch'\n",
    "output_dir = 'outputs/batch'\n",
    "\n",
    "os.makedirs(input_dir, exist_ok=True)\n",
    "os.makedirs(output_dir, exist_ok=True)"
   ]
  },
  {
   "cell_type": "code",
   "execution_count": 13,
   "metadata": {
    "tags": []
   },
   "outputs": [],
   "source": [
    "import json\n",
    "\n",
    "def write_and_upload_to_s3(json_input_data, file_name):\n",
    "\n",
    "    json_data = json.dumps(json_input_data)\n",
    "\n",
    "    with open(file_name, \"w\") as f:\n",
    "        f.write(json_data)\n",
    "\n",
    "    s3_client.put_object(\n",
    "        Bucket=s3_bucket,\n",
    "        Key=f\"{model_name}/validation-input-json/batch/{os.path.basename(file_name)}\",\n",
    "        Body=(bytes(json_data.encode(\"UTF-8\"))),\n",
    "    )"
   ]
  },
  {
   "cell_type": "code",
   "execution_count": null,
   "metadata": {},
   "outputs": [],
   "source": [
    "# Define input JSON data for each validation file\n",
    "\n",
    "input_json_data = {\n",
    "    validation_file_name_1: {\n",
    "        \"text\": docs, \n",
    "        \"output_level\": \"chunk\"\n",
    "    },\n",
    "    validation_file_name_2: {\n",
    "        \"text\": sample_text, \n",
    "        \"output_level\": \"chunk\"\n",
    "    },\n",
    "    validation_file_name_3: {\n",
    "        \"text\": docs,\n",
    "        \"output_level\": \"document\"\n",
    "    }\n",
    "}\n",
    "\n",
    "# Write and upload each input JSON data to S3\n",
    "for file_name, json_data in input_json_data.items():\n",
    "    write_and_upload_to_s3(json_data, f\"{input_dir}/{file_name}\")"
   ]
  },
  {
   "cell_type": "code",
   "execution_count": null,
   "metadata": {
    "tags": []
   },
   "outputs": [],
   "source": [
    "# Initialize a SageMaker Transformer object for making predictions\n",
    "transformer = model.transformer(\n",
    "    instance_count=1,\n",
    "    instance_type=\"ml.m4.xlarge\",\n",
    "    accept=\"application/json\",\n",
    ")\n",
    "transformer.transform(validation_input_path, content_type=content_type)\n",
    "transformer.wait()"
   ]
  },
  {
   "cell_type": "code",
   "execution_count": 15,
   "metadata": {
    "tags": []
   },
   "outputs": [],
   "source": [
    "from urllib.parse import urlparse\n",
    "\n",
    "def process_s3_output_and_save(validation_file_name, output_file_name):\n",
    "\n",
    "    output_file_path = f\"{output_dir}/{output_file_name}\"\n",
    "    parsed_url = urlparse(transformer.output_path)\n",
    "    file_key = f\"{parsed_url.path[1:]}/{validation_file_name}.out\"\n",
    "    response = s3_client.get_object(Bucket=s3_bucket, Key=file_key)\n",
    "\n",
    "    data = json.loads(response[\"Body\"].read().decode(\"utf-8\"))\n",
    "    df = pd.DataFrame(data[\"predictions\"])\n",
    "    display(df)\n",
    "\n",
    "    # Save the data to the output file\n",
    "    with open(output_file_path, 'w') as f_out:\n",
    "        json.dump(data, f_out, indent=4)"
   ]
  },
  {
   "cell_type": "markdown",
   "metadata": {
    "tags": []
   },
   "source": [
    "#### Output Level: Chunk"
   ]
  },
  {
   "cell_type": "code",
   "execution_count": 16,
   "metadata": {
    "tags": []
   },
   "outputs": [
    {
     "data": {
      "text/html": [
       "<div>\n",
       "<style scoped>\n",
       "    .dataframe tbody tr th:only-of-type {\n",
       "        vertical-align: middle;\n",
       "    }\n",
       "\n",
       "    .dataframe tbody tr th {\n",
       "        vertical-align: top;\n",
       "    }\n",
       "\n",
       "    .dataframe thead th {\n",
       "        text-align: right;\n",
       "    }\n",
       "</style>\n",
       "<table border=\"1\" class=\"dataframe\">\n",
       "  <thead>\n",
       "    <tr style=\"text-align: right;\">\n",
       "      <th></th>\n",
       "      <th>document</th>\n",
       "      <th>ner_chunk</th>\n",
       "      <th>begin</th>\n",
       "      <th>end</th>\n",
       "      <th>ner_label</th>\n",
       "      <th>confidence</th>\n",
       "    </tr>\n",
       "  </thead>\n",
       "  <tbody>\n",
       "    <tr>\n",
       "      <th>0</th>\n",
       "      <td>HISTORY OF PRESENT ILLNESS: The patient is a 40-year-old white male who presents with a chief complaint of \"chest pain\".\\n\\nThe patient is diabetic and has a prior history of coronary artery disease. The patient presents today stating that his chest pain started yesterday evening and has been somewhat intermittent. The severity of the pain has progressively increased. He describes the pain as a sharp and heavy pain which radiates to his neck &amp; left arm. He ranks the pain a 7 on a scale of 1-10. He admits some shortness of breath &amp; diaphoresis. He states that he has had nausea &amp; 3 episodes of vomiting tonight. He denies any fever or chills. He admits prior episodes of similar pain prior to his PTCA in 1995. He states the pain is somewhat worse with walking and seems to be relieved with rest. There is no change in pain with positioning. He states that he took 3 nitroglycerin tablets sublingually over the past 1 hour, which he states has partially relieved his pain. The patient ranks his present pain a 4 on a scale of 1-10. The most recent episode of pain has lasted one-hour.\\n\\nThe patient denies any history of recent surgery, head trauma, recent stroke, abnormal bleeding such as blood in urine or stool or nosebleed.\\n\\nREVIEW OF SYSTEMS: All other systems reviewed &amp; are negative.\\n\\nPAST MEDICAL HISTORY: Diabetes mellitus type II, hypertension, coronary artery disease, atrial fibrillation, status post PTCA in 1995 by Dr. ABC.\\n\\nSOCIAL HISTORY: Denies alcohol or drugs. Smokes 2 packs of cigarettes per day. Works as a banker.\\n\\nFAMILY HISTORY: Positive for coronary artery disease (father &amp; brother).</td>\n",
       "      <td>diabetic</td>\n",
       "      <td>137</td>\n",
       "      <td>144</td>\n",
       "      <td>DIABETES</td>\n",
       "      <td>0.9992</td>\n",
       "    </tr>\n",
       "    <tr>\n",
       "      <th>1</th>\n",
       "      <td>HISTORY OF PRESENT ILLNESS: The patient is a 40-year-old white male who presents with a chief complaint of \"chest pain\".\\n\\nThe patient is diabetic and has a prior history of coronary artery disease. The patient presents today stating that his chest pain started yesterday evening and has been somewhat intermittent. The severity of the pain has progressively increased. He describes the pain as a sharp and heavy pain which radiates to his neck &amp; left arm. He ranks the pain a 7 on a scale of 1-10. He admits some shortness of breath &amp; diaphoresis. He states that he has had nausea &amp; 3 episodes of vomiting tonight. He denies any fever or chills. He admits prior episodes of similar pain prior to his PTCA in 1995. He states the pain is somewhat worse with walking and seems to be relieved with rest. There is no change in pain with positioning. He states that he took 3 nitroglycerin tablets sublingually over the past 1 hour, which he states has partially relieved his pain. The patient ranks his present pain a 4 on a scale of 1-10. The most recent episode of pain has lasted one-hour.\\n\\nThe patient denies any history of recent surgery, head trauma, recent stroke, abnormal bleeding such as blood in urine or stool or nosebleed.\\n\\nREVIEW OF SYSTEMS: All other systems reviewed &amp; are negative.\\n\\nPAST MEDICAL HISTORY: Diabetes mellitus type II, hypertension, coronary artery disease, atrial fibrillation, status post PTCA in 1995 by Dr. ABC.\\n\\nSOCIAL HISTORY: Denies alcohol or drugs. Smokes 2 packs of cigarettes per day. Works as a banker.\\n\\nFAMILY HISTORY: Positive for coronary artery disease (father &amp; brother).</td>\n",
       "      <td>coronary artery disease</td>\n",
       "      <td>173</td>\n",
       "      <td>195</td>\n",
       "      <td>CAD</td>\n",
       "      <td>0.6896667</td>\n",
       "    </tr>\n",
       "    <tr>\n",
       "      <th>2</th>\n",
       "      <td>HISTORY OF PRESENT ILLNESS: The patient is a 40-year-old white male who presents with a chief complaint of \"chest pain\".\\n\\nThe patient is diabetic and has a prior history of coronary artery disease. The patient presents today stating that his chest pain started yesterday evening and has been somewhat intermittent. The severity of the pain has progressively increased. He describes the pain as a sharp and heavy pain which radiates to his neck &amp; left arm. He ranks the pain a 7 on a scale of 1-10. He admits some shortness of breath &amp; diaphoresis. He states that he has had nausea &amp; 3 episodes of vomiting tonight. He denies any fever or chills. He admits prior episodes of similar pain prior to his PTCA in 1995. He states the pain is somewhat worse with walking and seems to be relieved with rest. There is no change in pain with positioning. He states that he took 3 nitroglycerin tablets sublingually over the past 1 hour, which he states has partially relieved his pain. The patient ranks his present pain a 4 on a scale of 1-10. The most recent episode of pain has lasted one-hour.\\n\\nThe patient denies any history of recent surgery, head trauma, recent stroke, abnormal bleeding such as blood in urine or stool or nosebleed.\\n\\nREVIEW OF SYSTEMS: All other systems reviewed &amp; are negative.\\n\\nPAST MEDICAL HISTORY: Diabetes mellitus type II, hypertension, coronary artery disease, atrial fibrillation, status post PTCA in 1995 by Dr. ABC.\\n\\nSOCIAL HISTORY: Denies alcohol or drugs. Smokes 2 packs of cigarettes per day. Works as a banker.\\n\\nFAMILY HISTORY: Positive for coronary artery disease (father &amp; brother).</td>\n",
       "      <td>Diabetes mellitus type II</td>\n",
       "      <td>1317</td>\n",
       "      <td>1341</td>\n",
       "      <td>DIABETES</td>\n",
       "      <td>0.71244997</td>\n",
       "    </tr>\n",
       "    <tr>\n",
       "      <th>3</th>\n",
       "      <td>HISTORY OF PRESENT ILLNESS: The patient is a 40-year-old white male who presents with a chief complaint of \"chest pain\".\\n\\nThe patient is diabetic and has a prior history of coronary artery disease. The patient presents today stating that his chest pain started yesterday evening and has been somewhat intermittent. The severity of the pain has progressively increased. He describes the pain as a sharp and heavy pain which radiates to his neck &amp; left arm. He ranks the pain a 7 on a scale of 1-10. He admits some shortness of breath &amp; diaphoresis. He states that he has had nausea &amp; 3 episodes of vomiting tonight. He denies any fever or chills. He admits prior episodes of similar pain prior to his PTCA in 1995. He states the pain is somewhat worse with walking and seems to be relieved with rest. There is no change in pain with positioning. He states that he took 3 nitroglycerin tablets sublingually over the past 1 hour, which he states has partially relieved his pain. The patient ranks his present pain a 4 on a scale of 1-10. The most recent episode of pain has lasted one-hour.\\n\\nThe patient denies any history of recent surgery, head trauma, recent stroke, abnormal bleeding such as blood in urine or stool or nosebleed.\\n\\nREVIEW OF SYSTEMS: All other systems reviewed &amp; are negative.\\n\\nPAST MEDICAL HISTORY: Diabetes mellitus type II, hypertension, coronary artery disease, atrial fibrillation, status post PTCA in 1995 by Dr. ABC.\\n\\nSOCIAL HISTORY: Denies alcohol or drugs. Smokes 2 packs of cigarettes per day. Works as a banker.\\n\\nFAMILY HISTORY: Positive for coronary artery disease (father &amp; brother).</td>\n",
       "      <td>hypertension</td>\n",
       "      <td>1344</td>\n",
       "      <td>1355</td>\n",
       "      <td>HYPERTENSION</td>\n",
       "      <td>0.987</td>\n",
       "    </tr>\n",
       "    <tr>\n",
       "      <th>4</th>\n",
       "      <td>HISTORY OF PRESENT ILLNESS: The patient is a 40-year-old white male who presents with a chief complaint of \"chest pain\".\\n\\nThe patient is diabetic and has a prior history of coronary artery disease. The patient presents today stating that his chest pain started yesterday evening and has been somewhat intermittent. The severity of the pain has progressively increased. He describes the pain as a sharp and heavy pain which radiates to his neck &amp; left arm. He ranks the pain a 7 on a scale of 1-10. He admits some shortness of breath &amp; diaphoresis. He states that he has had nausea &amp; 3 episodes of vomiting tonight. He denies any fever or chills. He admits prior episodes of similar pain prior to his PTCA in 1995. He states the pain is somewhat worse with walking and seems to be relieved with rest. There is no change in pain with positioning. He states that he took 3 nitroglycerin tablets sublingually over the past 1 hour, which he states has partially relieved his pain. The patient ranks his present pain a 4 on a scale of 1-10. The most recent episode of pain has lasted one-hour.\\n\\nThe patient denies any history of recent surgery, head trauma, recent stroke, abnormal bleeding such as blood in urine or stool or nosebleed.\\n\\nREVIEW OF SYSTEMS: All other systems reviewed &amp; are negative.\\n\\nPAST MEDICAL HISTORY: Diabetes mellitus type II, hypertension, coronary artery disease, atrial fibrillation, status post PTCA in 1995 by Dr. ABC.\\n\\nSOCIAL HISTORY: Denies alcohol or drugs. Smokes 2 packs of cigarettes per day. Works as a banker.\\n\\nFAMILY HISTORY: Positive for coronary artery disease (father &amp; brother).</td>\n",
       "      <td>coronary artery disease</td>\n",
       "      <td>1358</td>\n",
       "      <td>1380</td>\n",
       "      <td>CAD</td>\n",
       "      <td>0.89136666</td>\n",
       "    </tr>\n",
       "    <tr>\n",
       "      <th>5</th>\n",
       "      <td>HISTORY OF PRESENT ILLNESS: The patient is a 40-year-old white male who presents with a chief complaint of \"chest pain\".\\n\\nThe patient is diabetic and has a prior history of coronary artery disease. The patient presents today stating that his chest pain started yesterday evening and has been somewhat intermittent. The severity of the pain has progressively increased. He describes the pain as a sharp and heavy pain which radiates to his neck &amp; left arm. He ranks the pain a 7 on a scale of 1-10. He admits some shortness of breath &amp; diaphoresis. He states that he has had nausea &amp; 3 episodes of vomiting tonight. He denies any fever or chills. He admits prior episodes of similar pain prior to his PTCA in 1995. He states the pain is somewhat worse with walking and seems to be relieved with rest. There is no change in pain with positioning. He states that he took 3 nitroglycerin tablets sublingually over the past 1 hour, which he states has partially relieved his pain. The patient ranks his present pain a 4 on a scale of 1-10. The most recent episode of pain has lasted one-hour.\\n\\nThe patient denies any history of recent surgery, head trauma, recent stroke, abnormal bleeding such as blood in urine or stool or nosebleed.\\n\\nREVIEW OF SYSTEMS: All other systems reviewed &amp; are negative.\\n\\nPAST MEDICAL HISTORY: Diabetes mellitus type II, hypertension, coronary artery disease, atrial fibrillation, status post PTCA in 1995 by Dr. ABC.\\n\\nSOCIAL HISTORY: Denies alcohol or drugs. Smokes 2 packs of cigarettes per day. Works as a banker.\\n\\nFAMILY HISTORY: Positive for coronary artery disease (father &amp; brother).</td>\n",
       "      <td>1995</td>\n",
       "      <td>1424</td>\n",
       "      <td>1427</td>\n",
       "      <td>PHI</td>\n",
       "      <td>0.9998</td>\n",
       "    </tr>\n",
       "    <tr>\n",
       "      <th>6</th>\n",
       "      <td>HISTORY OF PRESENT ILLNESS: The patient is a 40-year-old white male who presents with a chief complaint of \"chest pain\".\\n\\nThe patient is diabetic and has a prior history of coronary artery disease. The patient presents today stating that his chest pain started yesterday evening and has been somewhat intermittent. The severity of the pain has progressively increased. He describes the pain as a sharp and heavy pain which radiates to his neck &amp; left arm. He ranks the pain a 7 on a scale of 1-10. He admits some shortness of breath &amp; diaphoresis. He states that he has had nausea &amp; 3 episodes of vomiting tonight. He denies any fever or chills. He admits prior episodes of similar pain prior to his PTCA in 1995. He states the pain is somewhat worse with walking and seems to be relieved with rest. There is no change in pain with positioning. He states that he took 3 nitroglycerin tablets sublingually over the past 1 hour, which he states has partially relieved his pain. The patient ranks his present pain a 4 on a scale of 1-10. The most recent episode of pain has lasted one-hour.\\n\\nThe patient denies any history of recent surgery, head trauma, recent stroke, abnormal bleeding such as blood in urine or stool or nosebleed.\\n\\nREVIEW OF SYSTEMS: All other systems reviewed &amp; are negative.\\n\\nPAST MEDICAL HISTORY: Diabetes mellitus type II, hypertension, coronary artery disease, atrial fibrillation, status post PTCA in 1995 by Dr. ABC.\\n\\nSOCIAL HISTORY: Denies alcohol or drugs. Smokes 2 packs of cigarettes per day. Works as a banker.\\n\\nFAMILY HISTORY: Positive for coronary artery disease (father &amp; brother).</td>\n",
       "      <td>ABC</td>\n",
       "      <td>1436</td>\n",
       "      <td>1438</td>\n",
       "      <td>PHI</td>\n",
       "      <td>0.9998</td>\n",
       "    </tr>\n",
       "    <tr>\n",
       "      <th>7</th>\n",
       "      <td>HISTORY OF PRESENT ILLNESS: The patient is a 40-year-old white male who presents with a chief complaint of \"chest pain\".\\n\\nThe patient is diabetic and has a prior history of coronary artery disease. The patient presents today stating that his chest pain started yesterday evening and has been somewhat intermittent. The severity of the pain has progressively increased. He describes the pain as a sharp and heavy pain which radiates to his neck &amp; left arm. He ranks the pain a 7 on a scale of 1-10. He admits some shortness of breath &amp; diaphoresis. He states that he has had nausea &amp; 3 episodes of vomiting tonight. He denies any fever or chills. He admits prior episodes of similar pain prior to his PTCA in 1995. He states the pain is somewhat worse with walking and seems to be relieved with rest. There is no change in pain with positioning. He states that he took 3 nitroglycerin tablets sublingually over the past 1 hour, which he states has partially relieved his pain. The patient ranks his present pain a 4 on a scale of 1-10. The most recent episode of pain has lasted one-hour.\\n\\nThe patient denies any history of recent surgery, head trauma, recent stroke, abnormal bleeding such as blood in urine or stool or nosebleed.\\n\\nREVIEW OF SYSTEMS: All other systems reviewed &amp; are negative.\\n\\nPAST MEDICAL HISTORY: Diabetes mellitus type II, hypertension, coronary artery disease, atrial fibrillation, status post PTCA in 1995 by Dr. ABC.\\n\\nSOCIAL HISTORY: Denies alcohol or drugs. Smokes 2 packs of cigarettes per day. Works as a banker.\\n\\nFAMILY HISTORY: Positive for coronary artery disease (father &amp; brother).</td>\n",
       "      <td>Smokes 2 packs of cigarettes per day</td>\n",
       "      <td>1483</td>\n",
       "      <td>1518</td>\n",
       "      <td>SMOKER</td>\n",
       "      <td>0.63425714</td>\n",
       "    </tr>\n",
       "    <tr>\n",
       "      <th>8</th>\n",
       "      <td>HISTORY OF PRESENT ILLNESS: The patient is a 40-year-old white male who presents with a chief complaint of \"chest pain\".\\n\\nThe patient is diabetic and has a prior history of coronary artery disease. The patient presents today stating that his chest pain started yesterday evening and has been somewhat intermittent. The severity of the pain has progressively increased. He describes the pain as a sharp and heavy pain which radiates to his neck &amp; left arm. He ranks the pain a 7 on a scale of 1-10. He admits some shortness of breath &amp; diaphoresis. He states that he has had nausea &amp; 3 episodes of vomiting tonight. He denies any fever or chills. He admits prior episodes of similar pain prior to his PTCA in 1995. He states the pain is somewhat worse with walking and seems to be relieved with rest. There is no change in pain with positioning. He states that he took 3 nitroglycerin tablets sublingually over the past 1 hour, which he states has partially relieved his pain. The patient ranks his present pain a 4 on a scale of 1-10. The most recent episode of pain has lasted one-hour.\\n\\nThe patient denies any history of recent surgery, head trauma, recent stroke, abnormal bleeding such as blood in urine or stool or nosebleed.\\n\\nREVIEW OF SYSTEMS: All other systems reviewed &amp; are negative.\\n\\nPAST MEDICAL HISTORY: Diabetes mellitus type II, hypertension, coronary artery disease, atrial fibrillation, status post PTCA in 1995 by Dr. ABC.\\n\\nSOCIAL HISTORY: Denies alcohol or drugs. Smokes 2 packs of cigarettes per day. Works as a banker.\\n\\nFAMILY HISTORY: Positive for coronary artery disease (father &amp; brother).</td>\n",
       "      <td>banker</td>\n",
       "      <td>1532</td>\n",
       "      <td>1537</td>\n",
       "      <td>PHI</td>\n",
       "      <td>0.9779</td>\n",
       "    </tr>\n",
       "    <tr>\n",
       "      <th>9</th>\n",
       "      <td>HISTORY OF PRESENT ILLNESS: This 57-year-old black female complains of having pain and discomfort in the left upper arm, especially when she walks and after heavy meals. This lasts anywhere from a few hours and is not associated with shortness of breath, palpitations, dizziness, or syncope. Patient does not get any chest pain or choking in the neck or pain in the back. Patient denies history of hypertension, diabetes mellitus, enlarged heart, heart murmur, history suggestive of previous myocardial infarction, or acute rheumatic polyarthritis during childhood. Her exercise tolerance is one to two blocks for shortness of breath and easy fatigability.\\n\\nMEDICATIONS: Patient does not take any specific medications.\\n\\nPAST HISTORY: The patient underwent hysterectomy in 1986.\\n\\nFAMILY HISTORY: The patient is married, has four children who are doing fine. Family history is positive for hypertension, congestive heart failure, obesity, cancer, and cerebrovascular accident.\\n\\nSOCIAL HISTORY: The patient smokes one pack of cigarettes per day and takes drinks on social occasions.</td>\n",
       "      <td>hypertension</td>\n",
       "      <td>398</td>\n",
       "      <td>409</td>\n",
       "      <td>HYPERTENSION</td>\n",
       "      <td>0.9709</td>\n",
       "    </tr>\n",
       "    <tr>\n",
       "      <th>10</th>\n",
       "      <td>HISTORY OF PRESENT ILLNESS: This 57-year-old black female complains of having pain and discomfort in the left upper arm, especially when she walks and after heavy meals. This lasts anywhere from a few hours and is not associated with shortness of breath, palpitations, dizziness, or syncope. Patient does not get any chest pain or choking in the neck or pain in the back. Patient denies history of hypertension, diabetes mellitus, enlarged heart, heart murmur, history suggestive of previous myocardial infarction, or acute rheumatic polyarthritis during childhood. Her exercise tolerance is one to two blocks for shortness of breath and easy fatigability.\\n\\nMEDICATIONS: Patient does not take any specific medications.\\n\\nPAST HISTORY: The patient underwent hysterectomy in 1986.\\n\\nFAMILY HISTORY: The patient is married, has four children who are doing fine. Family history is positive for hypertension, congestive heart failure, obesity, cancer, and cerebrovascular accident.\\n\\nSOCIAL HISTORY: The patient smokes one pack of cigarettes per day and takes drinks on social occasions.</td>\n",
       "      <td>diabetes mellitus</td>\n",
       "      <td>412</td>\n",
       "      <td>428</td>\n",
       "      <td>DIABETES</td>\n",
       "      <td>0.8099</td>\n",
       "    </tr>\n",
       "    <tr>\n",
       "      <th>11</th>\n",
       "      <td>HISTORY OF PRESENT ILLNESS: This 57-year-old black female complains of having pain and discomfort in the left upper arm, especially when she walks and after heavy meals. This lasts anywhere from a few hours and is not associated with shortness of breath, palpitations, dizziness, or syncope. Patient does not get any chest pain or choking in the neck or pain in the back. Patient denies history of hypertension, diabetes mellitus, enlarged heart, heart murmur, history suggestive of previous myocardial infarction, or acute rheumatic polyarthritis during childhood. Her exercise tolerance is one to two blocks for shortness of breath and easy fatigability.\\n\\nMEDICATIONS: Patient does not take any specific medications.\\n\\nPAST HISTORY: The patient underwent hysterectomy in 1986.\\n\\nFAMILY HISTORY: The patient is married, has four children who are doing fine. Family history is positive for hypertension, congestive heart failure, obesity, cancer, and cerebrovascular accident.\\n\\nSOCIAL HISTORY: The patient smokes one pack of cigarettes per day and takes drinks on social occasions.</td>\n",
       "      <td>1986</td>\n",
       "      <td>772</td>\n",
       "      <td>775</td>\n",
       "      <td>PHI</td>\n",
       "      <td>0.9674</td>\n",
       "    </tr>\n",
       "  </tbody>\n",
       "</table>\n",
       "</div>"
      ],
      "text/plain": [
       "                                                                                                                                                                                                                                                                                                                                                                                                                                                                                                                                                                                                                                                                                                                                                                                                                                                                                                                                                                                                                                                                                                                                                                                                                                                                                                                                                                                                                                                                                                                                                                                                                                                                                     document  \\\n",
       "0   HISTORY OF PRESENT ILLNESS: The patient is a 40-year-old white male who presents with a chief complaint of \"chest pain\".\\n\\nThe patient is diabetic and has a prior history of coronary artery disease. The patient presents today stating that his chest pain started yesterday evening and has been somewhat intermittent. The severity of the pain has progressively increased. He describes the pain as a sharp and heavy pain which radiates to his neck & left arm. He ranks the pain a 7 on a scale of 1-10. He admits some shortness of breath & diaphoresis. He states that he has had nausea & 3 episodes of vomiting tonight. He denies any fever or chills. He admits prior episodes of similar pain prior to his PTCA in 1995. He states the pain is somewhat worse with walking and seems to be relieved with rest. There is no change in pain with positioning. He states that he took 3 nitroglycerin tablets sublingually over the past 1 hour, which he states has partially relieved his pain. The patient ranks his present pain a 4 on a scale of 1-10. The most recent episode of pain has lasted one-hour.\\n\\nThe patient denies any history of recent surgery, head trauma, recent stroke, abnormal bleeding such as blood in urine or stool or nosebleed.\\n\\nREVIEW OF SYSTEMS: All other systems reviewed & are negative.\\n\\nPAST MEDICAL HISTORY: Diabetes mellitus type II, hypertension, coronary artery disease, atrial fibrillation, status post PTCA in 1995 by Dr. ABC.\\n\\nSOCIAL HISTORY: Denies alcohol or drugs. Smokes 2 packs of cigarettes per day. Works as a banker.\\n\\nFAMILY HISTORY: Positive for coronary artery disease (father & brother).   \n",
       "1   HISTORY OF PRESENT ILLNESS: The patient is a 40-year-old white male who presents with a chief complaint of \"chest pain\".\\n\\nThe patient is diabetic and has a prior history of coronary artery disease. The patient presents today stating that his chest pain started yesterday evening and has been somewhat intermittent. The severity of the pain has progressively increased. He describes the pain as a sharp and heavy pain which radiates to his neck & left arm. He ranks the pain a 7 on a scale of 1-10. He admits some shortness of breath & diaphoresis. He states that he has had nausea & 3 episodes of vomiting tonight. He denies any fever or chills. He admits prior episodes of similar pain prior to his PTCA in 1995. He states the pain is somewhat worse with walking and seems to be relieved with rest. There is no change in pain with positioning. He states that he took 3 nitroglycerin tablets sublingually over the past 1 hour, which he states has partially relieved his pain. The patient ranks his present pain a 4 on a scale of 1-10. The most recent episode of pain has lasted one-hour.\\n\\nThe patient denies any history of recent surgery, head trauma, recent stroke, abnormal bleeding such as blood in urine or stool or nosebleed.\\n\\nREVIEW OF SYSTEMS: All other systems reviewed & are negative.\\n\\nPAST MEDICAL HISTORY: Diabetes mellitus type II, hypertension, coronary artery disease, atrial fibrillation, status post PTCA in 1995 by Dr. ABC.\\n\\nSOCIAL HISTORY: Denies alcohol or drugs. Smokes 2 packs of cigarettes per day. Works as a banker.\\n\\nFAMILY HISTORY: Positive for coronary artery disease (father & brother).   \n",
       "2   HISTORY OF PRESENT ILLNESS: The patient is a 40-year-old white male who presents with a chief complaint of \"chest pain\".\\n\\nThe patient is diabetic and has a prior history of coronary artery disease. The patient presents today stating that his chest pain started yesterday evening and has been somewhat intermittent. The severity of the pain has progressively increased. He describes the pain as a sharp and heavy pain which radiates to his neck & left arm. He ranks the pain a 7 on a scale of 1-10. He admits some shortness of breath & diaphoresis. He states that he has had nausea & 3 episodes of vomiting tonight. He denies any fever or chills. He admits prior episodes of similar pain prior to his PTCA in 1995. He states the pain is somewhat worse with walking and seems to be relieved with rest. There is no change in pain with positioning. He states that he took 3 nitroglycerin tablets sublingually over the past 1 hour, which he states has partially relieved his pain. The patient ranks his present pain a 4 on a scale of 1-10. The most recent episode of pain has lasted one-hour.\\n\\nThe patient denies any history of recent surgery, head trauma, recent stroke, abnormal bleeding such as blood in urine or stool or nosebleed.\\n\\nREVIEW OF SYSTEMS: All other systems reviewed & are negative.\\n\\nPAST MEDICAL HISTORY: Diabetes mellitus type II, hypertension, coronary artery disease, atrial fibrillation, status post PTCA in 1995 by Dr. ABC.\\n\\nSOCIAL HISTORY: Denies alcohol or drugs. Smokes 2 packs of cigarettes per day. Works as a banker.\\n\\nFAMILY HISTORY: Positive for coronary artery disease (father & brother).   \n",
       "3   HISTORY OF PRESENT ILLNESS: The patient is a 40-year-old white male who presents with a chief complaint of \"chest pain\".\\n\\nThe patient is diabetic and has a prior history of coronary artery disease. The patient presents today stating that his chest pain started yesterday evening and has been somewhat intermittent. The severity of the pain has progressively increased. He describes the pain as a sharp and heavy pain which radiates to his neck & left arm. He ranks the pain a 7 on a scale of 1-10. He admits some shortness of breath & diaphoresis. He states that he has had nausea & 3 episodes of vomiting tonight. He denies any fever or chills. He admits prior episodes of similar pain prior to his PTCA in 1995. He states the pain is somewhat worse with walking and seems to be relieved with rest. There is no change in pain with positioning. He states that he took 3 nitroglycerin tablets sublingually over the past 1 hour, which he states has partially relieved his pain. The patient ranks his present pain a 4 on a scale of 1-10. The most recent episode of pain has lasted one-hour.\\n\\nThe patient denies any history of recent surgery, head trauma, recent stroke, abnormal bleeding such as blood in urine or stool or nosebleed.\\n\\nREVIEW OF SYSTEMS: All other systems reviewed & are negative.\\n\\nPAST MEDICAL HISTORY: Diabetes mellitus type II, hypertension, coronary artery disease, atrial fibrillation, status post PTCA in 1995 by Dr. ABC.\\n\\nSOCIAL HISTORY: Denies alcohol or drugs. Smokes 2 packs of cigarettes per day. Works as a banker.\\n\\nFAMILY HISTORY: Positive for coronary artery disease (father & brother).   \n",
       "4   HISTORY OF PRESENT ILLNESS: The patient is a 40-year-old white male who presents with a chief complaint of \"chest pain\".\\n\\nThe patient is diabetic and has a prior history of coronary artery disease. The patient presents today stating that his chest pain started yesterday evening and has been somewhat intermittent. The severity of the pain has progressively increased. He describes the pain as a sharp and heavy pain which radiates to his neck & left arm. He ranks the pain a 7 on a scale of 1-10. He admits some shortness of breath & diaphoresis. He states that he has had nausea & 3 episodes of vomiting tonight. He denies any fever or chills. He admits prior episodes of similar pain prior to his PTCA in 1995. He states the pain is somewhat worse with walking and seems to be relieved with rest. There is no change in pain with positioning. He states that he took 3 nitroglycerin tablets sublingually over the past 1 hour, which he states has partially relieved his pain. The patient ranks his present pain a 4 on a scale of 1-10. The most recent episode of pain has lasted one-hour.\\n\\nThe patient denies any history of recent surgery, head trauma, recent stroke, abnormal bleeding such as blood in urine or stool or nosebleed.\\n\\nREVIEW OF SYSTEMS: All other systems reviewed & are negative.\\n\\nPAST MEDICAL HISTORY: Diabetes mellitus type II, hypertension, coronary artery disease, atrial fibrillation, status post PTCA in 1995 by Dr. ABC.\\n\\nSOCIAL HISTORY: Denies alcohol or drugs. Smokes 2 packs of cigarettes per day. Works as a banker.\\n\\nFAMILY HISTORY: Positive for coronary artery disease (father & brother).   \n",
       "5   HISTORY OF PRESENT ILLNESS: The patient is a 40-year-old white male who presents with a chief complaint of \"chest pain\".\\n\\nThe patient is diabetic and has a prior history of coronary artery disease. The patient presents today stating that his chest pain started yesterday evening and has been somewhat intermittent. The severity of the pain has progressively increased. He describes the pain as a sharp and heavy pain which radiates to his neck & left arm. He ranks the pain a 7 on a scale of 1-10. He admits some shortness of breath & diaphoresis. He states that he has had nausea & 3 episodes of vomiting tonight. He denies any fever or chills. He admits prior episodes of similar pain prior to his PTCA in 1995. He states the pain is somewhat worse with walking and seems to be relieved with rest. There is no change in pain with positioning. He states that he took 3 nitroglycerin tablets sublingually over the past 1 hour, which he states has partially relieved his pain. The patient ranks his present pain a 4 on a scale of 1-10. The most recent episode of pain has lasted one-hour.\\n\\nThe patient denies any history of recent surgery, head trauma, recent stroke, abnormal bleeding such as blood in urine or stool or nosebleed.\\n\\nREVIEW OF SYSTEMS: All other systems reviewed & are negative.\\n\\nPAST MEDICAL HISTORY: Diabetes mellitus type II, hypertension, coronary artery disease, atrial fibrillation, status post PTCA in 1995 by Dr. ABC.\\n\\nSOCIAL HISTORY: Denies alcohol or drugs. Smokes 2 packs of cigarettes per day. Works as a banker.\\n\\nFAMILY HISTORY: Positive for coronary artery disease (father & brother).   \n",
       "6   HISTORY OF PRESENT ILLNESS: The patient is a 40-year-old white male who presents with a chief complaint of \"chest pain\".\\n\\nThe patient is diabetic and has a prior history of coronary artery disease. The patient presents today stating that his chest pain started yesterday evening and has been somewhat intermittent. The severity of the pain has progressively increased. He describes the pain as a sharp and heavy pain which radiates to his neck & left arm. He ranks the pain a 7 on a scale of 1-10. He admits some shortness of breath & diaphoresis. He states that he has had nausea & 3 episodes of vomiting tonight. He denies any fever or chills. He admits prior episodes of similar pain prior to his PTCA in 1995. He states the pain is somewhat worse with walking and seems to be relieved with rest. There is no change in pain with positioning. He states that he took 3 nitroglycerin tablets sublingually over the past 1 hour, which he states has partially relieved his pain. The patient ranks his present pain a 4 on a scale of 1-10. The most recent episode of pain has lasted one-hour.\\n\\nThe patient denies any history of recent surgery, head trauma, recent stroke, abnormal bleeding such as blood in urine or stool or nosebleed.\\n\\nREVIEW OF SYSTEMS: All other systems reviewed & are negative.\\n\\nPAST MEDICAL HISTORY: Diabetes mellitus type II, hypertension, coronary artery disease, atrial fibrillation, status post PTCA in 1995 by Dr. ABC.\\n\\nSOCIAL HISTORY: Denies alcohol or drugs. Smokes 2 packs of cigarettes per day. Works as a banker.\\n\\nFAMILY HISTORY: Positive for coronary artery disease (father & brother).   \n",
       "7   HISTORY OF PRESENT ILLNESS: The patient is a 40-year-old white male who presents with a chief complaint of \"chest pain\".\\n\\nThe patient is diabetic and has a prior history of coronary artery disease. The patient presents today stating that his chest pain started yesterday evening and has been somewhat intermittent. The severity of the pain has progressively increased. He describes the pain as a sharp and heavy pain which radiates to his neck & left arm. He ranks the pain a 7 on a scale of 1-10. He admits some shortness of breath & diaphoresis. He states that he has had nausea & 3 episodes of vomiting tonight. He denies any fever or chills. He admits prior episodes of similar pain prior to his PTCA in 1995. He states the pain is somewhat worse with walking and seems to be relieved with rest. There is no change in pain with positioning. He states that he took 3 nitroglycerin tablets sublingually over the past 1 hour, which he states has partially relieved his pain. The patient ranks his present pain a 4 on a scale of 1-10. The most recent episode of pain has lasted one-hour.\\n\\nThe patient denies any history of recent surgery, head trauma, recent stroke, abnormal bleeding such as blood in urine or stool or nosebleed.\\n\\nREVIEW OF SYSTEMS: All other systems reviewed & are negative.\\n\\nPAST MEDICAL HISTORY: Diabetes mellitus type II, hypertension, coronary artery disease, atrial fibrillation, status post PTCA in 1995 by Dr. ABC.\\n\\nSOCIAL HISTORY: Denies alcohol or drugs. Smokes 2 packs of cigarettes per day. Works as a banker.\\n\\nFAMILY HISTORY: Positive for coronary artery disease (father & brother).   \n",
       "8   HISTORY OF PRESENT ILLNESS: The patient is a 40-year-old white male who presents with a chief complaint of \"chest pain\".\\n\\nThe patient is diabetic and has a prior history of coronary artery disease. The patient presents today stating that his chest pain started yesterday evening and has been somewhat intermittent. The severity of the pain has progressively increased. He describes the pain as a sharp and heavy pain which radiates to his neck & left arm. He ranks the pain a 7 on a scale of 1-10. He admits some shortness of breath & diaphoresis. He states that he has had nausea & 3 episodes of vomiting tonight. He denies any fever or chills. He admits prior episodes of similar pain prior to his PTCA in 1995. He states the pain is somewhat worse with walking and seems to be relieved with rest. There is no change in pain with positioning. He states that he took 3 nitroglycerin tablets sublingually over the past 1 hour, which he states has partially relieved his pain. The patient ranks his present pain a 4 on a scale of 1-10. The most recent episode of pain has lasted one-hour.\\n\\nThe patient denies any history of recent surgery, head trauma, recent stroke, abnormal bleeding such as blood in urine or stool or nosebleed.\\n\\nREVIEW OF SYSTEMS: All other systems reviewed & are negative.\\n\\nPAST MEDICAL HISTORY: Diabetes mellitus type II, hypertension, coronary artery disease, atrial fibrillation, status post PTCA in 1995 by Dr. ABC.\\n\\nSOCIAL HISTORY: Denies alcohol or drugs. Smokes 2 packs of cigarettes per day. Works as a banker.\\n\\nFAMILY HISTORY: Positive for coronary artery disease (father & brother).   \n",
       "9                                                                                                                                                                                                                                                                                                                                                                                                                                                                                                                                                             HISTORY OF PRESENT ILLNESS: This 57-year-old black female complains of having pain and discomfort in the left upper arm, especially when she walks and after heavy meals. This lasts anywhere from a few hours and is not associated with shortness of breath, palpitations, dizziness, or syncope. Patient does not get any chest pain or choking in the neck or pain in the back. Patient denies history of hypertension, diabetes mellitus, enlarged heart, heart murmur, history suggestive of previous myocardial infarction, or acute rheumatic polyarthritis during childhood. Her exercise tolerance is one to two blocks for shortness of breath and easy fatigability.\\n\\nMEDICATIONS: Patient does not take any specific medications.\\n\\nPAST HISTORY: The patient underwent hysterectomy in 1986.\\n\\nFAMILY HISTORY: The patient is married, has four children who are doing fine. Family history is positive for hypertension, congestive heart failure, obesity, cancer, and cerebrovascular accident.\\n\\nSOCIAL HISTORY: The patient smokes one pack of cigarettes per day and takes drinks on social occasions.   \n",
       "10                                                                                                                                                                                                                                                                                                                                                                                                                                                                                                                                                            HISTORY OF PRESENT ILLNESS: This 57-year-old black female complains of having pain and discomfort in the left upper arm, especially when she walks and after heavy meals. This lasts anywhere from a few hours and is not associated with shortness of breath, palpitations, dizziness, or syncope. Patient does not get any chest pain or choking in the neck or pain in the back. Patient denies history of hypertension, diabetes mellitus, enlarged heart, heart murmur, history suggestive of previous myocardial infarction, or acute rheumatic polyarthritis during childhood. Her exercise tolerance is one to two blocks for shortness of breath and easy fatigability.\\n\\nMEDICATIONS: Patient does not take any specific medications.\\n\\nPAST HISTORY: The patient underwent hysterectomy in 1986.\\n\\nFAMILY HISTORY: The patient is married, has four children who are doing fine. Family history is positive for hypertension, congestive heart failure, obesity, cancer, and cerebrovascular accident.\\n\\nSOCIAL HISTORY: The patient smokes one pack of cigarettes per day and takes drinks on social occasions.   \n",
       "11                                                                                                                                                                                                                                                                                                                                                                                                                                                                                                                                                            HISTORY OF PRESENT ILLNESS: This 57-year-old black female complains of having pain and discomfort in the left upper arm, especially when she walks and after heavy meals. This lasts anywhere from a few hours and is not associated with shortness of breath, palpitations, dizziness, or syncope. Patient does not get any chest pain or choking in the neck or pain in the back. Patient denies history of hypertension, diabetes mellitus, enlarged heart, heart murmur, history suggestive of previous myocardial infarction, or acute rheumatic polyarthritis during childhood. Her exercise tolerance is one to two blocks for shortness of breath and easy fatigability.\\n\\nMEDICATIONS: Patient does not take any specific medications.\\n\\nPAST HISTORY: The patient underwent hysterectomy in 1986.\\n\\nFAMILY HISTORY: The patient is married, has four children who are doing fine. Family history is positive for hypertension, congestive heart failure, obesity, cancer, and cerebrovascular accident.\\n\\nSOCIAL HISTORY: The patient smokes one pack of cigarettes per day and takes drinks on social occasions.   \n",
       "\n",
       "                               ner_chunk  begin   end     ner_label  \\\n",
       "0                               diabetic    137   144      DIABETES   \n",
       "1                coronary artery disease    173   195           CAD   \n",
       "2              Diabetes mellitus type II   1317  1341      DIABETES   \n",
       "3                           hypertension   1344  1355  HYPERTENSION   \n",
       "4                coronary artery disease   1358  1380           CAD   \n",
       "5                                   1995   1424  1427           PHI   \n",
       "6                                    ABC   1436  1438           PHI   \n",
       "7   Smokes 2 packs of cigarettes per day   1483  1518        SMOKER   \n",
       "8                                 banker   1532  1537           PHI   \n",
       "9                           hypertension    398   409  HYPERTENSION   \n",
       "10                     diabetes mellitus    412   428      DIABETES   \n",
       "11                                  1986    772   775           PHI   \n",
       "\n",
       "    confidence  \n",
       "0       0.9992  \n",
       "1    0.6896667  \n",
       "2   0.71244997  \n",
       "3        0.987  \n",
       "4   0.89136666  \n",
       "5       0.9998  \n",
       "6       0.9998  \n",
       "7   0.63425714  \n",
       "8       0.9779  \n",
       "9       0.9709  \n",
       "10      0.8099  \n",
       "11      0.9674  "
      ]
     },
     "metadata": {},
     "output_type": "display_data"
    }
   ],
   "source": [
    "#Example: 1\n",
    "\n",
    "process_s3_output_and_save(validation_file_name_1, \"out_1.out\")"
   ]
  },
  {
   "cell_type": "code",
   "execution_count": 17,
   "metadata": {
    "tags": []
   },
   "outputs": [
    {
     "data": {
      "text/html": [
       "<div>\n",
       "<style scoped>\n",
       "    .dataframe tbody tr th:only-of-type {\n",
       "        vertical-align: middle;\n",
       "    }\n",
       "\n",
       "    .dataframe tbody tr th {\n",
       "        vertical-align: top;\n",
       "    }\n",
       "\n",
       "    .dataframe thead th {\n",
       "        text-align: right;\n",
       "    }\n",
       "</style>\n",
       "<table border=\"1\" class=\"dataframe\">\n",
       "  <thead>\n",
       "    <tr style=\"text-align: right;\">\n",
       "      <th></th>\n",
       "      <th>document</th>\n",
       "      <th>ner_chunk</th>\n",
       "      <th>begin</th>\n",
       "      <th>end</th>\n",
       "      <th>ner_label</th>\n",
       "      <th>confidence</th>\n",
       "    </tr>\n",
       "  </thead>\n",
       "  <tbody>\n",
       "    <tr>\n",
       "      <th>0</th>\n",
       "      <td>In short, the patient is a 55-year-old gentleman with long-standing morbid obesity, resistant to nonsurgical methods of weight loss with BMI of 69.7 with comorbidities of hypertension, atrial fibrillation, hyperlipidemia, possible sleep apnea, and also osteoarthritis of the lower extremities. He is also an ex-smoker. He is currently smoking and he is planning to quit and at least he should do this six to eight days before for multiple reasons including decreasing the DVT, PE rates and marginal ulcer problems after surgery, which will be discussed later on.</td>\n",
       "      <td>morbid obesity</td>\n",
       "      <td>68</td>\n",
       "      <td>81</td>\n",
       "      <td>OBESE</td>\n",
       "      <td>0.717</td>\n",
       "    </tr>\n",
       "  </tbody>\n",
       "</table>\n",
       "</div>"
      ],
      "text/plain": [
       "                                                                                                                                                                                                                                                                                                                                                                                                                                                                                                                                                                             document  \\\n",
       "0  In short, the patient is a 55-year-old gentleman with long-standing morbid obesity, resistant to nonsurgical methods of weight loss with BMI of 69.7 with comorbidities of hypertension, atrial fibrillation, hyperlipidemia, possible sleep apnea, and also osteoarthritis of the lower extremities. He is also an ex-smoker. He is currently smoking and he is planning to quit and at least he should do this six to eight days before for multiple reasons including decreasing the DVT, PE rates and marginal ulcer problems after surgery, which will be discussed later on.   \n",
       "\n",
       "        ner_chunk  begin  end ner_label confidence  \n",
       "0  morbid obesity     68   81     OBESE      0.717  "
      ]
     },
     "metadata": {},
     "output_type": "display_data"
    }
   ],
   "source": [
    "#Example: 2\n",
    "\n",
    "process_s3_output_and_save(validation_file_name_2, \"out_2.out\")"
   ]
  },
  {
   "cell_type": "markdown",
   "metadata": {},
   "source": [
    "#### Output Level: Document"
   ]
  },
  {
   "cell_type": "code",
   "execution_count": 18,
   "metadata": {
    "tags": []
   },
   "outputs": [
    {
     "data": {
      "text/html": [
       "<div>\n",
       "<style scoped>\n",
       "    .dataframe tbody tr th:only-of-type {\n",
       "        vertical-align: middle;\n",
       "    }\n",
       "\n",
       "    .dataframe tbody tr th {\n",
       "        vertical-align: top;\n",
       "    }\n",
       "\n",
       "    .dataframe thead th {\n",
       "        text-align: right;\n",
       "    }\n",
       "</style>\n",
       "<table border=\"1\" class=\"dataframe\">\n",
       "  <thead>\n",
       "    <tr style=\"text-align: right;\">\n",
       "      <th></th>\n",
       "      <th>document</th>\n",
       "      <th>ner_chunk</th>\n",
       "      <th>begin</th>\n",
       "      <th>end</th>\n",
       "      <th>ner_label</th>\n",
       "      <th>confidence</th>\n",
       "    </tr>\n",
       "  </thead>\n",
       "  <tbody>\n",
       "    <tr>\n",
       "      <th>0</th>\n",
       "      <td>HISTORY OF PRESENT ILLNESS: The patient is a 40-year-old white male who presents with a chief complaint of \"chest pain\".\\n\\nThe patient is diabetic and has a prior history of coronary artery disease. The patient presents today stating that his chest pain started yesterday evening and has been somewhat intermittent. The severity of the pain has progressively increased. He describes the pain as a sharp and heavy pain which radiates to his neck &amp; left arm. He ranks the pain a 7 on a scale of 1-10. He admits some shortness of breath &amp; diaphoresis. He states that he has had nausea &amp; 3 episodes of vomiting tonight. He denies any fever or chills. He admits prior episodes of similar pain prior to his PTCA in 1995. He states the pain is somewhat worse with walking and seems to be relieved with rest. There is no change in pain with positioning. He states that he took 3 nitroglycerin tablets sublingually over the past 1 hour, which he states has partially relieved his pain. The patient ranks his present pain a 4 on a scale of 1-10. The most recent episode of pain has lasted one-hour.\\n\\nThe patient denies any history of recent surgery, head trauma, recent stroke, abnormal bleeding such as blood in urine or stool or nosebleed.\\n\\nREVIEW OF SYSTEMS: All other systems reviewed &amp; are negative.\\n\\nPAST MEDICAL HISTORY: Diabetes mellitus type II, hypertension, coronary artery disease, atrial fibrillation, status post PTCA in 1995 by Dr. ABC.\\n\\nSOCIAL HISTORY: Denies alcohol or drugs. Smokes 2 packs of cigarettes per day. Works as a banker.\\n\\nFAMILY HISTORY: Positive for coronary artery disease (father &amp; brother).</td>\n",
       "      <td>[diabetic, coronary artery disease, Diabetes mellitus type II, hypertension, coronary artery disease, 1995, ABC, Smokes 2 packs of cigarettes per day, banker]</td>\n",
       "      <td>[137, 173, 1317, 1344, 1358, 1424, 1436, 1483, 1532]</td>\n",
       "      <td>[144, 195, 1341, 1355, 1380, 1427, 1438, 1518, 1537]</td>\n",
       "      <td>[DIABETES, CAD, DIABETES, HYPERTENSION, CAD, PHI, PHI, SMOKER, PHI]</td>\n",
       "      <td>[0.9992, 0.6896667, 0.71244997, 0.987, 0.89136666, 0.9998, 0.9998, 0.63425714, 0.9779]</td>\n",
       "    </tr>\n",
       "    <tr>\n",
       "      <th>1</th>\n",
       "      <td>HISTORY OF PRESENT ILLNESS: This 57-year-old black female complains of having pain and discomfort in the left upper arm, especially when she walks and after heavy meals. This lasts anywhere from a few hours and is not associated with shortness of breath, palpitations, dizziness, or syncope. Patient does not get any chest pain or choking in the neck or pain in the back. Patient denies history of hypertension, diabetes mellitus, enlarged heart, heart murmur, history suggestive of previous myocardial infarction, or acute rheumatic polyarthritis during childhood. Her exercise tolerance is one to two blocks for shortness of breath and easy fatigability.\\n\\nMEDICATIONS: Patient does not take any specific medications.\\n\\nPAST HISTORY: The patient underwent hysterectomy in 1986.\\n\\nFAMILY HISTORY: The patient is married, has four children who are doing fine. Family history is positive for hypertension, congestive heart failure, obesity, cancer, and cerebrovascular accident.\\n\\nSOCIAL HISTORY: The patient smokes one pack of cigarettes per day and takes drinks on social occasions.</td>\n",
       "      <td>[hypertension, diabetes mellitus, 1986]</td>\n",
       "      <td>[398, 412, 772]</td>\n",
       "      <td>[409, 428, 775]</td>\n",
       "      <td>[HYPERTENSION, DIABETES, PHI]</td>\n",
       "      <td>[0.9709, 0.8099, 0.9674]</td>\n",
       "    </tr>\n",
       "  </tbody>\n",
       "</table>\n",
       "</div>"
      ],
      "text/plain": [
       "                                                                                                                                                                                                                                                                                                                                                                                                                                                                                                                                                                                                                                                                                                                                                                                                                                                                                                                                                                                                                                                                                                                                                                                                                                                                                                                                                                                                                                                                                                                                                                                                                                                                                    document  \\\n",
       "0  HISTORY OF PRESENT ILLNESS: The patient is a 40-year-old white male who presents with a chief complaint of \"chest pain\".\\n\\nThe patient is diabetic and has a prior history of coronary artery disease. The patient presents today stating that his chest pain started yesterday evening and has been somewhat intermittent. The severity of the pain has progressively increased. He describes the pain as a sharp and heavy pain which radiates to his neck & left arm. He ranks the pain a 7 on a scale of 1-10. He admits some shortness of breath & diaphoresis. He states that he has had nausea & 3 episodes of vomiting tonight. He denies any fever or chills. He admits prior episodes of similar pain prior to his PTCA in 1995. He states the pain is somewhat worse with walking and seems to be relieved with rest. There is no change in pain with positioning. He states that he took 3 nitroglycerin tablets sublingually over the past 1 hour, which he states has partially relieved his pain. The patient ranks his present pain a 4 on a scale of 1-10. The most recent episode of pain has lasted one-hour.\\n\\nThe patient denies any history of recent surgery, head trauma, recent stroke, abnormal bleeding such as blood in urine or stool or nosebleed.\\n\\nREVIEW OF SYSTEMS: All other systems reviewed & are negative.\\n\\nPAST MEDICAL HISTORY: Diabetes mellitus type II, hypertension, coronary artery disease, atrial fibrillation, status post PTCA in 1995 by Dr. ABC.\\n\\nSOCIAL HISTORY: Denies alcohol or drugs. Smokes 2 packs of cigarettes per day. Works as a banker.\\n\\nFAMILY HISTORY: Positive for coronary artery disease (father & brother).   \n",
       "1                                                                                                                                                                                                                                                                                                                                                                                                                                                                                                                                                            HISTORY OF PRESENT ILLNESS: This 57-year-old black female complains of having pain and discomfort in the left upper arm, especially when she walks and after heavy meals. This lasts anywhere from a few hours and is not associated with shortness of breath, palpitations, dizziness, or syncope. Patient does not get any chest pain or choking in the neck or pain in the back. Patient denies history of hypertension, diabetes mellitus, enlarged heart, heart murmur, history suggestive of previous myocardial infarction, or acute rheumatic polyarthritis during childhood. Her exercise tolerance is one to two blocks for shortness of breath and easy fatigability.\\n\\nMEDICATIONS: Patient does not take any specific medications.\\n\\nPAST HISTORY: The patient underwent hysterectomy in 1986.\\n\\nFAMILY HISTORY: The patient is married, has four children who are doing fine. Family history is positive for hypertension, congestive heart failure, obesity, cancer, and cerebrovascular accident.\\n\\nSOCIAL HISTORY: The patient smokes one pack of cigarettes per day and takes drinks on social occasions.   \n",
       "\n",
       "                                                                                                                                                        ner_chunk  \\\n",
       "0  [diabetic, coronary artery disease, Diabetes mellitus type II, hypertension, coronary artery disease, 1995, ABC, Smokes 2 packs of cigarettes per day, banker]   \n",
       "1                                                                                                                         [hypertension, diabetes mellitus, 1986]   \n",
       "\n",
       "                                                  begin  \\\n",
       "0  [137, 173, 1317, 1344, 1358, 1424, 1436, 1483, 1532]   \n",
       "1                                       [398, 412, 772]   \n",
       "\n",
       "                                                    end  \\\n",
       "0  [144, 195, 1341, 1355, 1380, 1427, 1438, 1518, 1537]   \n",
       "1                                       [409, 428, 775]   \n",
       "\n",
       "                                                             ner_label  \\\n",
       "0  [DIABETES, CAD, DIABETES, HYPERTENSION, CAD, PHI, PHI, SMOKER, PHI]   \n",
       "1                                        [HYPERTENSION, DIABETES, PHI]   \n",
       "\n",
       "                                                                               confidence  \n",
       "0  [0.9992, 0.6896667, 0.71244997, 0.987, 0.89136666, 0.9998, 0.9998, 0.63425714, 0.9779]  \n",
       "1                                                                [0.9709, 0.8099, 0.9674]  "
      ]
     },
     "metadata": {},
     "output_type": "display_data"
    }
   ],
   "source": [
    "#Example: 3\n",
    "\n",
    "process_s3_output_and_save(validation_file_name_3, \"out_3.out\")"
   ]
  },
  {
   "cell_type": "code",
   "execution_count": 19,
   "metadata": {
    "tags": []
   },
   "outputs": [
    {
     "name": "stderr",
     "output_type": "stream",
     "text": [
      "INFO:sagemaker:Deleting model with name: en-med-ner-risk-factors-pipeline-2024-02-29-14-08-31-415\n"
     ]
    }
   ],
   "source": [
    "model.delete_model()"
   ]
  },
  {
   "cell_type": "markdown",
   "metadata": {},
   "source": [
    "### Unsubscribe to the listing (optional)"
   ]
  },
  {
   "cell_type": "markdown",
   "metadata": {
    "tags": []
   },
   "source": [
    "If you would like to unsubscribe to the model package, follow these steps. Before you cancel the subscription, ensure that you do not have any [deployable model](https://console.aws.amazon.com/sagemaker/home#/models) created from the model package or using the algorithm. Note - You can find this information by looking at the container name associated with the model. \n",
    "\n",
    "**Steps to unsubscribe to product from AWS Marketplace**:\n",
    "1. Navigate to __Machine Learning__ tab on [__Your Software subscriptions page__](https://aws.amazon.com/marketplace/ai/library?productType=ml&ref_=mlmp_gitdemo_indust)\n",
    "2. Locate the listing that you want to cancel the subscription for, and then choose __Cancel Subscription__  to cancel the subscription.\n",
    "\n"
   ]
  }
 ],
 "metadata": {
  "instance_type": "ml.t3.medium",
  "kernelspec": {
   "display_name": "conda_python3",
   "language": "python",
   "name": "conda_python3"
  },
  "language_info": {
   "codemirror_mode": {
    "name": "ipython",
    "version": 3
   },
   "file_extension": ".py",
   "mimetype": "text/x-python",
   "name": "python",
   "nbconvert_exporter": "python",
   "pygments_lexer": "ipython3",
   "version": "3.10.13"
  }
 },
 "nbformat": 4,
 "nbformat_minor": 4
}

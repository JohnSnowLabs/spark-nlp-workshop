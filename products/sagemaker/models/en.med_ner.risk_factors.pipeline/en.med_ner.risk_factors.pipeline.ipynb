{
 "cells": [
  {
   "cell_type": "markdown",
   "metadata": {},
   "source": [
    "## 1. Subscribe to the model package"
   ]
  },
  {
   "cell_type": "markdown",
   "metadata": {},
   "source": [
    "To subscribe to the model package:\n",
    "1. Open the model package listing page [Extract clinical risk factors](https://aws.amazon.com/marketplace/pp/prodview-u4jv2pqhkra7i)\n",
    "1. On the AWS Marketplace listing, click on the **Continue to subscribe** button.\n",
    "1. On the **Subscribe to this software** page, review and click on **\"Accept Offer\"** if you and your organization agrees with EULA, pricing, and support terms. \n",
    "1. Once you click on **Continue to configuration button** and then choose a **region**, you will see a **Product Arn** displayed. This is the model package ARN that you need to specify while creating a deployable model using Boto3. Copy the ARN corresponding to your region and specify the same in the following cell."
   ]
  },
  {
   "cell_type": "markdown",
   "metadata": {},
   "source": [
    "## Extract clinical risk factors\n",
    "\n",
    "- **Model**: [en.med_ner.risk_factors.pipeline](https://nlp.johnsnowlabs.com/2023/06/17/ner_risk_factors_pipeline_en.html)\n",
    "- **Model Description**: Pretrained named entity recognition pipeline specifically designed for identifying heart disease risk factors and personal health information.\n",
    "- **Predicted Entities:** `SMOKER`, `PHI`, `CAD`, `HYPERTENSION`, `HYPERLIPIDEMIA`, `MEDICATION`, `DIABETES`, `OBESE`, `FAMILY_HIST`"
   ]
  },
  {
   "cell_type": "code",
   "execution_count": 1,
   "metadata": {
    "tags": []
   },
   "outputs": [],
   "source": [
    "model_package_arn = \"<Customer to specify Model package ARN corresponding to their AWS region>\""
   ]
  },
  {
   "cell_type": "code",
   "execution_count": 22,
   "metadata": {
    "tags": []
   },
   "outputs": [],
   "source": [
    "import json\n",
    "import os\n",
    "import boto3\n",
    "import pandas as pd\n",
    "import sagemaker as sage\n",
    "from sagemaker import ModelPackage\n",
    "from sagemaker import get_execution_role\n",
    "from IPython.display import display\n",
    "from urllib.parse import urlparse"
   ]
  },
  {
   "cell_type": "code",
   "execution_count": 23,
   "metadata": {
    "tags": []
   },
   "outputs": [],
   "source": [
    "sagemaker_session = sage.Session()\n",
    "s3_bucket = sagemaker_session.default_bucket()\n",
    "region = sagemaker_session.boto_region_name\n",
    "account_id = boto3.client(\"sts\").get_caller_identity().get(\"Account\")\n",
    "role = get_execution_role()\n",
    "\n",
    "sagemaker = boto3.client(\"sagemaker\")\n",
    "s3_client = sagemaker_session.boto_session.client(\"s3\")\n",
    "ecr = boto3.client(\"ecr\")\n",
    "sm_runtime = boto3.client(\"sagemaker-runtime\")\n",
    "\n",
    "# Set display options\n",
    "pd.set_option('display.max_rows', None)\n",
    "pd.set_option('display.max_columns', None)\n",
    "pd.set_option('display.max_colwidth', None)"
   ]
  },
  {
   "cell_type": "code",
   "execution_count": 24,
   "metadata": {
    "tags": []
   },
   "outputs": [],
   "source": [
    "model_name = \"en-med-ner-risk-factors-pipeline\"\n",
    "\n",
    "real_time_inference_instance_type = \"ml.m4.xlarge\"\n",
    "batch_transform_inference_instance_type = \"ml.m4.2xlarge\""
   ]
  },
  {
   "cell_type": "markdown",
   "metadata": {},
   "source": [
    "## 2. Create a deployable model from the model package."
   ]
  },
  {
   "cell_type": "code",
   "execution_count": 25,
   "metadata": {
    "tags": []
   },
   "outputs": [],
   "source": [
    "model = ModelPackage(\n",
    "    role=role, \n",
    "    model_package_arn=model_package_arn,\n",
    "    sagemaker_session=sagemaker_session,\n",
    ")"
   ]
  },
  {
   "cell_type": "markdown",
   "metadata": {},
   "source": [
    "### Input Format\n",
    "\n",
    "To use the model, you need to provide input in one of the following supported formats:\n",
    "\n",
    "#### JSON Format\n",
    "\n",
    "Provide input as JSON. We support two variations within this format:\n",
    "\n",
    "1. **Array of Text Documents**: \n",
    "   Use an array containing multiple text documents. Each element represents a separate text document.\n",
    "\n",
    "   ```json\n",
    "   {\n",
    "       \"text\": [\n",
    "           \"Text document 1\",\n",
    "           \"Text document 2\",\n",
    "           ...\n",
    "       ]\n",
    "   }\n",
    "\n",
    "    ```\n",
    "\n",
    "2. **Single Text Document**:\n",
    "   Provide a single text document as a string.\n",
    "\n",
    "\n",
    "   ```json\n",
    "    {\n",
    "        \"text\": \"Single text document\"\n",
    "    }\n",
    "   ```\n",
    "\n",
    "#### JSON Lines (JSONL) Format\n",
    "\n",
    "Provide input in JSON Lines format, where each line is a JSON object representing a text document.\n",
    "\n",
    "```\n",
    "{\"text\": \"Text document 1\"}\n",
    "{\"text\": \"Text document 2\"}\n",
    "```"
   ]
  },
  {
   "cell_type": "markdown",
   "metadata": {},
   "source": [
    "## 3. Create an endpoint and perform real-time inference"
   ]
  },
  {
   "cell_type": "markdown",
   "metadata": {},
   "source": [
    "If you want to understand how real-time inference with Amazon SageMaker works, see [Documentation](https://docs.aws.amazon.com/sagemaker/latest/dg/how-it-works-hosting.html)."
   ]
  },
  {
   "cell_type": "markdown",
   "metadata": {},
   "source": [
    "### A. Deploy the SageMaker model to an endpoint"
   ]
  },
  {
   "cell_type": "code",
   "execution_count": null,
   "metadata": {
    "tags": []
   },
   "outputs": [],
   "source": [
    "predictor = model.deploy(\n",
    "    initial_instance_count=1,\n",
    "    instance_type=real_time_inference_instance_type, \n",
    "    endpoint_name=model_name,\n",
    ")"
   ]
  },
  {
   "cell_type": "markdown",
   "metadata": {},
   "source": [
    "Once endpoint has been created, you would be able to perform real-time inference."
   ]
  },
  {
   "cell_type": "code",
   "execution_count": 27,
   "metadata": {
    "tags": []
   },
   "outputs": [],
   "source": [
    "def invoke_realtime_endpoint(record, content_type=\"application/json\", accept=\"application/json\"):\n",
    "    response = sm_runtime.invoke_endpoint(\n",
    "        EndpointName=model_name,\n",
    "        ContentType=content_type,\n",
    "        Accept=accept,\n",
    "        Body=json.dumps(record) if content_type == \"application/json\" else record,\n",
    "    )\n",
    "\n",
    "    response_body = response[\"Body\"].read().decode(\"utf-8\")\n",
    "\n",
    "    if accept == \"application/json\":\n",
    "        return json.loads(response_body)\n",
    "    elif accept == \"application/jsonlines\":\n",
    "        return response_body\n",
    "    else:\n",
    "        raise ValueError(f\"Unsupported accept type: {accept}\")"
   ]
  },
  {
   "cell_type": "markdown",
   "metadata": {},
   "source": [
    "### Initial Setup"
   ]
  },
  {
   "cell_type": "code",
   "execution_count": 28,
   "metadata": {
    "tags": []
   },
   "outputs": [],
   "source": [
    "docs = [\n",
    "    '''HISTORY OF PRESENT ILLNESS: The patient is a 40-year-old white male who presents with a chief complaint of \"chest pain\".\n",
    "\n",
    "The patient is diabetic and has a prior history of coronary artery disease. The patient presents today stating that his chest pain started yesterday evening and has been somewhat intermittent. The severity of the pain has progressively increased. He describes the pain as a sharp and heavy pain which radiates to his neck & left arm. He ranks the pain a 7 on a scale of 1-10. He admits some shortness of breath & diaphoresis. He states that he has had nausea & 3 episodes of vomiting tonight. He denies any fever or chills. He admits prior episodes of similar pain prior to his PTCA in 1995. He states the pain is somewhat worse with walking and seems to be relieved with rest. There is no change in pain with positioning. He states that he took 3 nitroglycerin tablets sublingually over the past 1 hour, which he states has partially relieved his pain. The patient ranks his present pain a 4 on a scale of 1-10. The most recent episode of pain has lasted one-hour.\n",
    "\n",
    "The patient denies any history of recent surgery, head trauma, recent stroke, abnormal bleeding such as blood in urine or stool or nosebleed.\n",
    "\n",
    "REVIEW OF SYSTEMS: All other systems reviewed & are negative.\n",
    "\n",
    "PAST MEDICAL HISTORY: Diabetes mellitus type II, hypertension, coronary artery disease, atrial fibrillation, status post PTCA in 1995 by Dr. ABC.\n",
    "\n",
    "SOCIAL HISTORY: Denies alcohol or drugs. Smokes 2 packs of cigarettes per day. Works as a banker.\n",
    "\n",
    "FAMILY HISTORY: Positive for coronary artery disease (father & brother).''',\n",
    "\n",
    "\n",
    "    '''HISTORY OF PRESENT ILLNESS: This 57-year-old black female complains of having pain and discomfort in the left upper arm, especially when she walks and after heavy meals. This lasts anywhere from a few hours and is not associated with shortness of breath, palpitations, dizziness, or syncope. Patient does not get any chest pain or choking in the neck or pain in the back. Patient denies history of hypertension, diabetes mellitus, enlarged heart, heart murmur, history suggestive of previous myocardial infarction, or acute rheumatic polyarthritis during childhood. Her exercise tolerance is one to two blocks for shortness of breath and easy fatigability.\n",
    "\n",
    "MEDICATIONS: Patient does not take any specific medications.\n",
    "\n",
    "PAST HISTORY: The patient underwent hysterectomy in 1986.\n",
    "\n",
    "FAMILY HISTORY: The patient is married, has four children who are doing fine. Family history is positive for hypertension, congestive heart failure, obesity, cancer, and cerebrovascular accident.\n",
    "\n",
    "SOCIAL HISTORY: The patient smokes one pack of cigarettes per day and takes drinks on social occasions.'''\n",
    "]\n",
    "\n",
    "\n",
    "sample_text = \"\"\"In short, the patient is a 55-year-old gentleman with long-standing morbid obesity, resistant to nonsurgical methods of weight loss, with a BMI of 69.7. He has comorbidities including hypertension, atrial fibrillation, hyperlipidemia, possible sleep apnea, and osteoarthritis of the lower extremities. He is an ex-smoker, but he is currently smoking. He is planning to quit, and at least he should do this six to eight days before surgery for multiple reasons, including decreasing the DVT and PE rates and minimizing marginal ulcer problems after surgery, which will be discussed later on.\"\"\""
   ]
  },
  {
   "cell_type": "markdown",
   "metadata": {},
   "source": [
    "### JSON"
   ]
  },
  {
   "cell_type": "code",
   "execution_count": 29,
   "metadata": {
    "tags": []
   },
   "outputs": [
    {
     "data": {
      "text/html": [
       "<div>\n",
       "<style scoped>\n",
       "    .dataframe tbody tr th:only-of-type {\n",
       "        vertical-align: middle;\n",
       "    }\n",
       "\n",
       "    .dataframe tbody tr th {\n",
       "        vertical-align: top;\n",
       "    }\n",
       "\n",
       "    .dataframe thead th {\n",
       "        text-align: right;\n",
       "    }\n",
       "</style>\n",
       "<table border=\"1\" class=\"dataframe\">\n",
       "  <thead>\n",
       "    <tr style=\"text-align: right;\">\n",
       "      <th></th>\n",
       "      <th>ner_chunk</th>\n",
       "      <th>begin</th>\n",
       "      <th>end</th>\n",
       "      <th>ner_label</th>\n",
       "      <th>ner_confidence</th>\n",
       "    </tr>\n",
       "  </thead>\n",
       "  <tbody>\n",
       "    <tr>\n",
       "      <th>0</th>\n",
       "      <td>morbid obesity</td>\n",
       "      <td>68</td>\n",
       "      <td>81</td>\n",
       "      <td>OBESE</td>\n",
       "      <td>0.7796</td>\n",
       "    </tr>\n",
       "    <tr>\n",
       "      <th>1</th>\n",
       "      <td>BMI of 69.7</td>\n",
       "      <td>140</td>\n",
       "      <td>150</td>\n",
       "      <td>OBESE</td>\n",
       "      <td>0.6635</td>\n",
       "    </tr>\n",
       "    <tr>\n",
       "      <th>2</th>\n",
       "      <td>hypertension</td>\n",
       "      <td>184</td>\n",
       "      <td>195</td>\n",
       "      <td>HYPERTENSION</td>\n",
       "      <td>0.8817</td>\n",
       "    </tr>\n",
       "  </tbody>\n",
       "</table>\n",
       "</div>"
      ],
      "text/plain": [
       "        ner_chunk  begin  end     ner_label ner_confidence\n",
       "0  morbid obesity     68   81         OBESE         0.7796\n",
       "1     BMI of 69.7    140  150         OBESE         0.6635\n",
       "2    hypertension    184  195  HYPERTENSION         0.8817"
      ]
     },
     "execution_count": 29,
     "metadata": {},
     "output_type": "execute_result"
    }
   ],
   "source": [
    "input_json_data = {\"text\": sample_text}\n",
    "response_json = invoke_realtime_endpoint(input_json_data, content_type=\"application/json\", accept=\"application/json\")\n",
    "pd.DataFrame(response_json[\"predictions\"][0])"
   ]
  },
  {
   "cell_type": "markdown",
   "metadata": {},
   "source": [
    "### JSON Lines"
   ]
  },
  {
   "cell_type": "code",
   "execution_count": 30,
   "metadata": {
    "tags": []
   },
   "outputs": [],
   "source": [
    "def create_jsonl(records):\n",
    "    if isinstance(records, str):\n",
    "        records = [records]\n",
    "    json_records = [{\"text\": text} for text in records]\n",
    "    json_lines = \"\\n\".join(json.dumps(record) for record in json_records)\n",
    "    return json_lines"
   ]
  },
  {
   "cell_type": "code",
   "execution_count": 31,
   "metadata": {
    "tags": []
   },
   "outputs": [
    {
     "name": "stdout",
     "output_type": "stream",
     "text": [
      "{\"predictions\": [{\"ner_chunk\": \"morbid obesity\", \"begin\": 68, \"end\": 81, \"ner_label\": \"OBESE\", \"ner_confidence\": \"0.7796\"}, {\"ner_chunk\": \"BMI of 69.7\", \"begin\": 140, \"end\": 150, \"ner_label\": \"OBESE\", \"ner_confidence\": \"0.6635\"}, {\"ner_chunk\": \"hypertension\", \"begin\": 184, \"end\": 195, \"ner_label\": \"HYPERTENSION\", \"ner_confidence\": \"0.8817\"}]}\n"
     ]
    }
   ],
   "source": [
    "input_jsonl_data = create_jsonl(sample_text)\n",
    "data = invoke_realtime_endpoint(input_jsonl_data, content_type=\"application/jsonlines\" , accept=\"application/jsonlines\" )\n",
    "print(data)"
   ]
  },
  {
   "cell_type": "markdown",
   "metadata": {},
   "source": [
    "### B. Delete the endpoint"
   ]
  },
  {
   "cell_type": "markdown",
   "metadata": {},
   "source": [
    "Now that you have successfully performed a real-time inference, you do not need the endpoint any more. You can terminate the endpoint to avoid being charged."
   ]
  },
  {
   "cell_type": "code",
   "execution_count": null,
   "metadata": {
    "tags": []
   },
   "outputs": [],
   "source": [
    "model.sagemaker_session.delete_endpoint(model_name)\n",
    "model.sagemaker_session.delete_endpoint_config(model_name)"
   ]
  },
  {
   "cell_type": "markdown",
   "metadata": {
    "tags": []
   },
   "source": [
    "## 4. Batch inference"
   ]
  },
  {
   "cell_type": "code",
   "execution_count": 13,
   "metadata": {
    "tags": []
   },
   "outputs": [],
   "source": [
    "validation_json_file_name = \"input.json\"\n",
    "validation_jsonl_file_name = \"input.jsonl\"\n",
    "\n",
    "validation_input_json_path = f\"s3://{s3_bucket}/{model_name}/validation-input/json/\"\n",
    "validation_output_json_path = f\"s3://{s3_bucket}/{model_name}/validation-output/json/\"\n",
    "\n",
    "validation_input_jsonl_path = f\"s3://{s3_bucket}/{model_name}/validation-input/jsonl/\"\n",
    "validation_output_jsonl_path = f\"s3://{s3_bucket}/{model_name}/validation-output/jsonl/\"\n",
    "\n",
    "def upload_to_s3(input_data, file_name):\n",
    "    file_format = os.path.splitext(file_name)[1].lower()\n",
    "    s3_client.put_object(\n",
    "        Bucket=s3_bucket,\n",
    "        Key=f\"{model_name}/validation-input/{file_format[1:]}/{file_name}\",\n",
    "        Body=input_data.encode(\"UTF-8\"),\n",
    "    )"
   ]
  },
  {
   "cell_type": "code",
   "execution_count": 14,
   "metadata": {
    "tags": []
   },
   "outputs": [],
   "source": [
    "# Create JSON and JSON Lines data\n",
    "input_jsonl_data = create_jsonl(docs)\n",
    "input_json_data = json.dumps({\"text\": docs})\n",
    "\n",
    "# Upload JSON and JSON Lines data to S3\n",
    "upload_to_s3(input_json_data, validation_json_file_name)\n",
    "upload_to_s3(input_jsonl_data, validation_jsonl_file_name)"
   ]
  },
  {
   "cell_type": "markdown",
   "metadata": {
    "tags": []
   },
   "source": [
    "### JSON"
   ]
  },
  {
   "cell_type": "code",
   "execution_count": null,
   "metadata": {
    "tags": []
   },
   "outputs": [],
   "source": [
    "transformer = model.transformer(\n",
    "    instance_count=1,\n",
    "    instance_type=batch_transform_inference_instance_type,\n",
    "    accept=\"application/json\",\n",
    "    output_path=validation_output_json_path\n",
    ")\n",
    "\n",
    "transformer.transform(validation_input_json_path, content_type=\"application/json\")\n",
    "transformer.wait()"
   ]
  },
  {
   "cell_type": "code",
   "execution_count": 16,
   "metadata": {
    "tags": []
   },
   "outputs": [],
   "source": [
    "def retrieve_json_output_from_s3(validation_file_name):\n",
    "    parsed_url = urlparse(transformer.output_path)\n",
    "    file_key = f\"{parsed_url.path[1:]}{validation_file_name}.out\"\n",
    "    response = s3_client.get_object(Bucket=s3_bucket, Key=file_key)\n",
    "\n",
    "    data = json.loads(response[\"Body\"].read().decode(\"utf-8\"))\n",
    "    display(data)"
   ]
  },
  {
   "cell_type": "code",
   "execution_count": 17,
   "metadata": {
    "tags": []
   },
   "outputs": [
    {
     "data": {
      "text/plain": [
       "{'predictions': [[{'ner_chunk': 'diabetic',\n",
       "    'begin': 137,\n",
       "    'end': 144,\n",
       "    'ner_label': 'DIABETES',\n",
       "    'ner_confidence': '0.9992'},\n",
       "   {'ner_chunk': 'coronary artery disease',\n",
       "    'begin': 173,\n",
       "    'end': 195,\n",
       "    'ner_label': 'CAD',\n",
       "    'ner_confidence': '0.6896667'},\n",
       "   {'ner_chunk': 'Diabetes mellitus type II',\n",
       "    'begin': 1317,\n",
       "    'end': 1341,\n",
       "    'ner_label': 'DIABETES',\n",
       "    'ner_confidence': '0.71244997'},\n",
       "   {'ner_chunk': 'hypertension',\n",
       "    'begin': 1344,\n",
       "    'end': 1355,\n",
       "    'ner_label': 'HYPERTENSION',\n",
       "    'ner_confidence': '0.987'},\n",
       "   {'ner_chunk': 'coronary artery disease',\n",
       "    'begin': 1358,\n",
       "    'end': 1380,\n",
       "    'ner_label': 'CAD',\n",
       "    'ner_confidence': '0.89136666'},\n",
       "   {'ner_chunk': '1995',\n",
       "    'begin': 1424,\n",
       "    'end': 1427,\n",
       "    'ner_label': 'PHI',\n",
       "    'ner_confidence': '0.9998'},\n",
       "   {'ner_chunk': 'ABC',\n",
       "    'begin': 1436,\n",
       "    'end': 1438,\n",
       "    'ner_label': 'PHI',\n",
       "    'ner_confidence': '0.9998'},\n",
       "   {'ner_chunk': 'Smokes 2 packs of cigarettes per day',\n",
       "    'begin': 1483,\n",
       "    'end': 1518,\n",
       "    'ner_label': 'SMOKER',\n",
       "    'ner_confidence': '0.63425714'},\n",
       "   {'ner_chunk': 'banker',\n",
       "    'begin': 1532,\n",
       "    'end': 1537,\n",
       "    'ner_label': 'PHI',\n",
       "    'ner_confidence': '0.9779'}],\n",
       "  [{'ner_chunk': 'hypertension',\n",
       "    'begin': 398,\n",
       "    'end': 409,\n",
       "    'ner_label': 'HYPERTENSION',\n",
       "    'ner_confidence': '0.9709'},\n",
       "   {'ner_chunk': 'diabetes mellitus',\n",
       "    'begin': 412,\n",
       "    'end': 428,\n",
       "    'ner_label': 'DIABETES',\n",
       "    'ner_confidence': '0.8099'},\n",
       "   {'ner_chunk': '1986',\n",
       "    'begin': 772,\n",
       "    'end': 775,\n",
       "    'ner_label': 'PHI',\n",
       "    'ner_confidence': '0.9674'}]]}"
      ]
     },
     "metadata": {},
     "output_type": "display_data"
    }
   ],
   "source": [
    "retrieve_json_output_from_s3(validation_json_file_name)"
   ]
  },
  {
   "cell_type": "markdown",
   "metadata": {},
   "source": [
    "### JSON Lines"
   ]
  },
  {
   "cell_type": "code",
   "execution_count": null,
   "metadata": {
    "tags": []
   },
   "outputs": [],
   "source": [
    "transformer = model.transformer(\n",
    "    instance_count=1,\n",
    "    instance_type=batch_transform_inference_instance_type,\n",
    "    accept=\"application/jsonlines\",\n",
    "    output_path=validation_output_jsonl_path\n",
    ")\n",
    "transformer.transform(validation_input_jsonl_path, content_type=\"application/jsonlines\")\n",
    "transformer.wait()"
   ]
  },
  {
   "cell_type": "code",
   "execution_count": 19,
   "metadata": {
    "tags": []
   },
   "outputs": [],
   "source": [
    "def retrieve_jsonlines_output_from_s3(validation_file_name):\n",
    "\n",
    "    parsed_url = urlparse(transformer.output_path)\n",
    "    file_key = f\"{parsed_url.path[1:]}{validation_file_name}.out\"\n",
    "    response = s3_client.get_object(Bucket=s3_bucket, Key=file_key)\n",
    "\n",
    "    data = response[\"Body\"].read().decode(\"utf-8\")\n",
    "    print(data)"
   ]
  },
  {
   "cell_type": "code",
   "execution_count": 20,
   "metadata": {
    "tags": []
   },
   "outputs": [
    {
     "name": "stdout",
     "output_type": "stream",
     "text": [
      "{\"predictions\": [{\"ner_chunk\": \"diabetic\", \"begin\": 137, \"end\": 144, \"ner_label\": \"DIABETES\", \"ner_confidence\": \"0.9992\"}, {\"ner_chunk\": \"coronary artery disease\", \"begin\": 173, \"end\": 195, \"ner_label\": \"CAD\", \"ner_confidence\": \"0.6896667\"}, {\"ner_chunk\": \"Diabetes mellitus type II\", \"begin\": 1317, \"end\": 1341, \"ner_label\": \"DIABETES\", \"ner_confidence\": \"0.71244997\"}, {\"ner_chunk\": \"hypertension\", \"begin\": 1344, \"end\": 1355, \"ner_label\": \"HYPERTENSION\", \"ner_confidence\": \"0.987\"}, {\"ner_chunk\": \"coronary artery disease\", \"begin\": 1358, \"end\": 1380, \"ner_label\": \"CAD\", \"ner_confidence\": \"0.89136666\"}, {\"ner_chunk\": \"1995\", \"begin\": 1424, \"end\": 1427, \"ner_label\": \"PHI\", \"ner_confidence\": \"0.9998\"}, {\"ner_chunk\": \"ABC\", \"begin\": 1436, \"end\": 1438, \"ner_label\": \"PHI\", \"ner_confidence\": \"0.9998\"}, {\"ner_chunk\": \"Smokes 2 packs of cigarettes per day\", \"begin\": 1483, \"end\": 1518, \"ner_label\": \"SMOKER\", \"ner_confidence\": \"0.63425714\"}, {\"ner_chunk\": \"banker\", \"begin\": 1532, \"end\": 1537, \"ner_label\": \"PHI\", \"ner_confidence\": \"0.9779\"}]}\n",
      "{\"predictions\": [{\"ner_chunk\": \"hypertension\", \"begin\": 398, \"end\": 409, \"ner_label\": \"HYPERTENSION\", \"ner_confidence\": \"0.9709\"}, {\"ner_chunk\": \"diabetes mellitus\", \"begin\": 412, \"end\": 428, \"ner_label\": \"DIABETES\", \"ner_confidence\": \"0.8099\"}, {\"ner_chunk\": \"1986\", \"begin\": 772, \"end\": 775, \"ner_label\": \"PHI\", \"ner_confidence\": \"0.9674\"}]}\n"
     ]
    }
   ],
   "source": [
    "retrieve_jsonlines_output_from_s3(validation_jsonl_file_name)"
   ]
  },
  {
   "cell_type": "code",
   "execution_count": null,
   "metadata": {
    "tags": []
   },
   "outputs": [],
   "source": [
    "model.delete_model()"
   ]
  },
  {
   "cell_type": "markdown",
   "metadata": {},
   "source": [
    "### Unsubscribe to the listing (optional)"
   ]
  },
  {
   "cell_type": "markdown",
   "metadata": {
    "tags": []
   },
   "source": [
    "If you would like to unsubscribe to the model package, follow these steps. Before you cancel the subscription, ensure that you do not have any [deployable model](https://console.aws.amazon.com/sagemaker/home#/models) created from the model package or using the algorithm. Note - You can find this information by looking at the container name associated with the model. \n",
    "\n",
    "**Steps to unsubscribe to product from AWS Marketplace**:\n",
    "1. Navigate to __Machine Learning__ tab on [__Your Software subscriptions page__](https://aws.amazon.com/marketplace/ai/library?productType=ml&ref_=mlmp_gitdemo_indust)\n",
    "2. Locate the listing that you want to cancel the subscription for, and then choose __Cancel Subscription__  to cancel the subscription.\n",
    "\n"
   ]
  }
 ],
 "metadata": {
  "instance_type": "ml.t3.medium",
  "kernelspec": {
   "display_name": "conda_python3",
   "language": "python",
   "name": "conda_python3"
  },
  "language_info": {
   "codemirror_mode": {
    "name": "ipython",
    "version": 3
   },
   "file_extension": ".py",
   "mimetype": "text/x-python",
   "name": "python",
   "nbconvert_exporter": "python",
   "pygments_lexer": "ipython3",
   "version": "3.10.16"
  }
 },
 "nbformat": 4,
 "nbformat_minor": 4
}

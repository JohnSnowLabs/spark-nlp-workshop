{
 "cells": [
  {
   "cell_type": "markdown",
   "id": "82a4cf96-c239-49cc-88f9-a8e885bde191",
   "metadata": {},
   "source": [
    "## 1. Subscribe to the model package"
   ]
  },
  {
   "cell_type": "markdown",
   "id": "982d6ab4-d03d-4a5a-ab23-144d8e6ec3d6",
   "metadata": {},
   "source": [
    "To subscribe to the model package:\n",
    "1. Open the model package listing page <font color='red'> For Seller to update:[Title_of_your_product](Provide link to your marketplace listing of your product).</font>\n",
    "1. On the AWS Marketplace listing, click on the **Continue to subscribe** button.\n",
    "1. On the **Subscribe to this software** page, review and click on **\"Accept Offer\"** if you and your organization agrees with EULA, pricing, and support terms. \n",
    "1. Once you click on **Continue to configuration button** and then choose a **region**, you will see a **Product Arn** displayed. This is the model package ARN that you need to specify while creating a deployable model using Boto3. Copy the ARN corresponding to your region and specify the same in the following cell."
   ]
  },
  {
   "cell_type": "markdown",
   "id": "dad4b722-a125-4219-9c22-009acf75414d",
   "metadata": {},
   "source": [
    "\n",
    "- **Model**: `jsl-medical-summarization-qa`\n",
    "- **Model Description**: Medical Summarization and Medical Question Answering"
   ]
  },
  {
   "cell_type": "code",
   "execution_count": 1,
   "id": "9d1fb27b-e0ad-4759-937d-ae4edc209fc1",
   "metadata": {
    "tags": []
   },
   "outputs": [],
   "source": [
    "model_package_arn = \"<Customer to specify Model package ARN corresponding to their AWS region>\""
   ]
  },
  {
   "cell_type": "code",
   "execution_count": 2,
   "id": "76ede1bf-2acb-4b5d-9db1-299abfeee20b",
   "metadata": {
    "tags": []
   },
   "outputs": [
    {
     "name": "stdout",
     "output_type": "stream",
     "text": [
      "sagemaker.config INFO - Not applying SDK defaults from location: /etc/xdg/sagemaker/config.yaml\n",
      "sagemaker.config INFO - Not applying SDK defaults from location: /home/ec2-user/.config/sagemaker/config.yaml\n"
     ]
    }
   ],
   "source": [
    "import base64\n",
    "import json\n",
    "import uuid\n",
    "from sagemaker import ModelPackage\n",
    "import sagemaker as sage\n",
    "from sagemaker import get_execution_role\n",
    "import boto3\n",
    "from IPython.display import Image, display\n",
    "from PIL import Image as ImageEdit\n",
    "import numpy as np\n",
    "\n",
    "sagemaker_session = sage.Session()\n",
    "s3_bucket = sagemaker_session.default_bucket()\n",
    "region = sagemaker_session.boto_region_name\n",
    "account_id = boto3.client(\"sts\").get_caller_identity().get(\"Account\")\n",
    "role = get_execution_role()\n",
    "\n",
    "sagemaker = boto3.client(\"sagemaker\")\n",
    "s3_client = sagemaker_session.boto_session.client(\"s3\")\n",
    "ecr = boto3.client(\"ecr\")\n",
    "sm_runtime = boto3.client(\"sagemaker-runtime\")"
   ]
  },
  {
   "cell_type": "code",
   "execution_count": 3,
   "id": "07846ed0-ed90-4a11-a77c-00d1c3ca3cbd",
   "metadata": {
    "tags": []
   },
   "outputs": [],
   "source": [
    "model_name = \"jsl-medical-summarization-qa\"\n",
    "\n",
    "real_time_inference_instance_type = \"ml.g4dn.xlarge\"\n",
    "batch_transform_inference_instance_type = \"ml.g4dn.xlarge\""
   ]
  },
  {
   "cell_type": "markdown",
   "id": "08a626b7-f295-4c49-b856-ce237d5d3203",
   "metadata": {},
   "source": [
    "## 2. create a deployable model from the model package."
   ]
  },
  {
   "cell_type": "code",
   "execution_count": 4,
   "id": "0e39b84b-7a9f-4004-a204-56af1fd555f1",
   "metadata": {
    "tags": []
   },
   "outputs": [],
   "source": [
    "# Define Model and Endpoint configuration parameter\n",
    "config = {\n",
    "    'MAX_NEW_TOKENS': '1024',\n",
    "    'TEMPERATURE': '0.2'\n",
    "}\n",
    "\n",
    "model = ModelPackage(\n",
    "    role=role, \n",
    "    model_package_arn=model_package_arn, \n",
    "    sagemaker_session=sagemaker_session, \n",
    "    env=config\n",
    ")"
   ]
  },
  {
   "cell_type": "markdown",
   "id": "6a846275-5af5-4679-9c52-d35ab157455b",
   "metadata": {},
   "source": [
    "## 3. Create an endpoint and perform real-time inference"
   ]
  },
  {
   "cell_type": "markdown",
   "id": "01b670fa-60d4-45a4-a0d6-3e8e2845b625",
   "metadata": {},
   "source": [
    "If you want to understand how real-time inference with Amazon SageMaker works, see [Documentation](https://docs.aws.amazon.com/sagemaker/latest/dg/how-it-works-hosting.html)."
   ]
  },
  {
   "cell_type": "markdown",
   "id": "5b2a308b-5452-4f23-b130-55f876d1574b",
   "metadata": {},
   "source": [
    "### A. Deploy the SageMaker model to an endpoint"
   ]
  },
  {
   "cell_type": "code",
   "execution_count": 5,
   "id": "8c19c0c0-3ead-4834-8c02-a192da19080b",
   "metadata": {
    "tags": []
   },
   "outputs": [
    {
     "name": "stdout",
     "output_type": "stream",
     "text": [
      "----------!"
     ]
    }
   ],
   "source": [
    "# Deploy the model\n",
    "predictor = model.deploy(\n",
    "    initial_instance_count=1,\n",
    "    instance_type=real_time_inference_instance_type, \n",
    "    endpoint_name=model_name,\n",
    ")"
   ]
  },
  {
   "cell_type": "code",
   "execution_count": 6,
   "id": "5c195a50-43e4-4341-ad1d-23ca6f0aa45b",
   "metadata": {
    "tags": []
   },
   "outputs": [],
   "source": [
    "import json\n",
    "import pandas as pd\n",
    "import os\n",
    "import boto3\n",
    "\n",
    "# Set display options\n",
    "pd.set_option('display.max_rows', None)\n",
    "pd.set_option('display.max_columns', None)\n",
    "pd.set_option('display.max_colwidth', None)\n",
    "\n",
    "def process_data_and_invoke_realtime_endpoint(data, content_type, accept):\n",
    "\n",
    "    content_type_to_format = {'application/json': 'json', 'application/jsonlines': 'jsonl'}\n",
    "    input_format = content_type_to_format.get(content_type)\n",
    "    if content_type not in content_type_to_format.keys() or accept not in content_type_to_format.keys():\n",
    "        raise ValueError(\"Invalid content_type or accept. It should be either 'application/json' or 'application/jsonlines'.\")\n",
    "\n",
    "    i = 1\n",
    "    input_dir = f'inputs/real-time/{input_format}'\n",
    "    output_dir = f'outputs/real-time/{input_format}'\n",
    "    s3_input_dir = f\"{model_name}/validation-input/real-time/{input_format}\"\n",
    "    s3_output_dir = f\"{model_name}/validation-output/real-time/{input_format}\"\n",
    "\n",
    "    input_file_name = f'{input_dir}/input{i}.{input_format}'\n",
    "    output_file_name = f'{output_dir}/{os.path.basename(input_file_name)}.out'\n",
    "\n",
    "    while os.path.exists(input_file_name) or os.path.exists(output_file_name):\n",
    "        i += 1\n",
    "        input_file_name = f'{input_dir}/input{i}.{input_format}'\n",
    "        output_file_name = f'{output_dir}/{os.path.basename(input_file_name)}.out'\n",
    "\n",
    "    os.makedirs(os.path.dirname(input_file_name), exist_ok=True)\n",
    "    os.makedirs(os.path.dirname(output_file_name), exist_ok=True)\n",
    "\n",
    "    input_data = json.dumps(data) if content_type == 'application/json' else data\n",
    "\n",
    "    # Write input data to file\n",
    "    with open(input_file_name, 'w') as f:\n",
    "        f.write(input_data)\n",
    "\n",
    "    # Upload input data to S3\n",
    "    s3_client.put_object(Bucket=s3_bucket, Key=f\"{s3_input_dir}/{os.path.basename(input_file_name)}\", Body=bytes(input_data.encode('UTF-8')))\n",
    "\n",
    "    # Invoke the SageMaker endpoint\n",
    "    response = sm_runtime.invoke_endpoint(\n",
    "        EndpointName=model_name,\n",
    "        ContentType=content_type,\n",
    "        Accept=accept,\n",
    "        Body=input_data,\n",
    "    )\n",
    "\n",
    "    # Read response data\n",
    "    response_data = json.loads(response[\"Body\"].read().decode(\"utf-8\")) if accept == 'application/json' else response['Body'].read().decode('utf-8')\n",
    "\n",
    "    # Save response data to file\n",
    "    with open(output_file_name, 'w') as f_out:\n",
    "        if accept == 'application/json':\n",
    "            json.dump(response_data, f_out, indent=4)\n",
    "        else:\n",
    "            for item in response_data.split('\\n'):\n",
    "                f_out.write(item + '\\n')\n",
    "\n",
    "    # Upload response data to S3\n",
    "    output_s3_key = f\"{s3_output_dir}/{os.path.basename(output_file_name)}\"\n",
    "    if accept == 'application/json':\n",
    "        s3_client.put_object(Bucket=s3_bucket, Key=output_s3_key, Body=json.dumps(response_data).encode('UTF-8'))\n",
    "    else:\n",
    "        s3_client.put_object(Bucket=s3_bucket, Key=output_s3_key, Body=response_data)\n",
    "\n",
    "    return response_data"
   ]
  },
  {
   "cell_type": "markdown",
   "id": "35d6cf43-9641-4547-a6d9-410c009ecea4",
   "metadata": {},
   "source": [
    "## Important Parameters\n",
    "\n",
    "**Required Parameter:**\n",
    "- **`input_text`**: The input text(s) provided to the model.\n",
    "  - **Type**: `Union[str, dict, List[str], List[dict]]`\n",
    "  - **Constraints**: Provide a string for a single text or a list of strings for multiple inputs. Additionally, you can also provide a dictionary or a list containing multiple dictionaries with keys `context` and `question`. If you select the `open_book_qa` template, the model will format the input accordingly. If no template is selected, the `context` and `question` strings will be concatenated with a newline.\n",
    "\n",
    "**Optional Parameters for JSON Input Format:**\n",
    "- **`max_new_tokens`**: The maximum number of tokens the model should generate as output. (Can be passed as an environment variable while deploying the model from the model package.)\n",
    "  - **Type**: `int`\n",
    "  - **Default**: `128`\n",
    "  - **Constraints**: Must be a positive integer greater than 0.\n",
    "\n",
    "- **`temperature`**: The temperature parameter controlling the randomness of token generation. (Can be passed as an environment variable while creating a deployable model from the model package.)\n",
    "  - **Type**: `float`\n",
    "  - **Default**: `0.1`\n",
    "  - **Constraints**: Must be a float between 0.0 and 1.0.\n",
    "\n",
    "- **`template`**: You can select the predefined template.\n",
    "  - **Type**: `str`\n",
    "  - **Default**: `None`\n",
    "\n",
    "Chat template:\n",
    "`'<s><|user|>\\n{input_text}<|end|>\\n<|assistant|>\\n'`\n",
    "\n",
    "You can pick one of the following templates:\n",
    "```json\n",
    "{\n",
    "    \"summarization\": \"You are a helpful AI assistant.\\nSummarize the following document:\\n## Document Start ##\\n{context}\\n## Document End ##\",\n",
    "    \"open_book_qa\": \"You are a helpful AI assistant.\\nAnswer the following question based on the given context:\\n## Context Start ##\\n{context}\\n## Context End ##\\n## Question Start ##\\n{question}\\n## Question End ##\",\n",
    "}\n",
    "```\n",
    "You can select any of these templates according to your use case. We perform string formatting, then pass it to the chat template.\n",
    "\n",
    "\n",
    "If no template is provided, we take your `input_text` as it is and do not perform any formatting, directly passing your input to the chat template.\n",
    "\n",
    "> **Parameter Priority**: User-provided parameters are given priority, followed by environment variables, and finally default values.\n",
    "\n",
    "### Note:\n",
    "For JSON Lines input format, **max_new_tokens**, **temperature**, and **template** are not supported in the input request. You either need to specify these parameters as environment variables when creating the model from the model package, or the default parameters will be used.\n",
    "\n",
    "---\n",
    "\n",
    "### Model Configuration\n",
    "\n",
    "| Parameter                  | Value     | Description                                                                                                                                                                                                                                                                                                                               |\n",
    "|----------------------------|-----------|-------------------------------------------------------------------------------------------------------------------------------------------------------------------------------------------------------------------------------------------------------------------------------------------------------------------------------------------|\n",
    "| **`dtype`**                | `float16` | The data type for the model weights and activations.                                                                                                                                                                                                                                                                                      |\n",
    "| **`max_model_len`**        | `4,096`   | This indicates that your input and the model response combined should come under this limit (`input + output <= max_model_len`). |\n",
    "| **`tensor_parallel_size`** | Variable  | The number of GPUs to use for distributed execution with tensor parallelism.                                                                                                                                                                                                                                                              |\n",
    "\n",
    "Other than the parameters mentioned above, we are utilizing the default parameters specified for the `LLM` class in the [VLLM documentation](https://docs.vllm.ai/en/latest/dev/offline_inference/llm.html).\n",
    "\n",
    "#### Supported Instances\n",
    "\n",
    "| Instance Type     | GPU Model  | Number of GPUs | Total GPU Memory (GB) |\n",
    "|-------------------|------------|----------------|-----------------------|\n",
    "| `ml.g4dn.xlarge`  | NVIDIA T4  | 1              | 16                    |\n",
    "| `ml.g5.2xlarge`   | NVIDIA A10G| 1              | 24                    |\n",
    "\n",
    "\n",
    "Total Memory values are approximate. Usable memory may be slightly less. For pricing details, visit the [Amazon SageMaker pricing page](https://aws.amazon.com/sagemaker/pricing/).\n",
    "\n"
   ]
  },
  {
   "cell_type": "markdown",
   "id": "20ab6fa4-b51f-4f8d-9e79-4a45c450a0bf",
   "metadata": {},
   "source": [
    "### Question Answering"
   ]
  },
  {
   "cell_type": "markdown",
   "id": "2a67e1d0-ccdb-485b-8971-a0edcfda84f4",
   "metadata": {},
   "source": [
    "#### Initial setup"
   ]
  },
  {
   "cell_type": "code",
   "execution_count": 7,
   "id": "6b8d9f2f-5d11-41e2-979f-cce2a1478ace",
   "metadata": {
    "tags": []
   },
   "outputs": [],
   "source": [
    "open_book_qa = [\n",
    "    {\n",
    "        \"context\": \"Within the last several days, he has seen you in clinic and once again discussed whether or not to undergo radiation for his left temporal lesion. The patient has clearly been extremely ambivalent about this therapy for reasons that are not immediately apparent. It is clear that his MRI is progressing and that it seems unlikely at this time that anything other than radiation would be particularly effective. Despite repeatedly emphasizing this; however, the patient still is worried about potential long-term side effects from treatment that frankly seem unwarranted at this particular time\",\n",
    "        \"question\": \"What is the patient's concern regarding undergoing radiation therapy for his left temporal lesion?\"\n",
    "    },\n",
    "    {\n",
    "        \"context\": \"The patient is a 52-year-old male who is here for independent medical evaluation. The patient states that he works for ABC ABC as a temporary worker. He worked for ABCD too. The patient's main job was loading and unloading furniture and appliances for the home. The patient was approximately there for about two and a half weeks. Date of injury occurred back in October. The patient stating that he had history of previous back problems ongoing; however, he states that on this particular day back in October, he was unloading an 18-wheeler at ABC and he was bending down picking up boxes to unload and load. Unfortunately at this particular event, the patient had sharp pain in his lower back. Soon afterwards, he had radiating symptoms down his right buttock all the way down to the lateral part of his leg crossing his knee. This became progressively worse\", \n",
    "        \"question\": \"What symptoms did the patient experience after the injury?\"\n",
    "    },\n",
    "    {\n",
    "        \"context\": \"Patient with a past medical history of hypertension for 15 years. (Medical Transcription Sample Report) HISTORY OF PRESENT ILLNESS: The patient is a 74-year-old white woman who has a past medical history of hypertension for 15 years, history of CVA with no residual hemiparesis and uterine cancer with pulmonary metastases, who presented for evaluation of recent worsening of the hypertension. According to the patient, she had stable blood pressure for the past 12-15 years on 10 mg of lisinopril.\", \n",
    "        \"question\": \"What is the primary issue reported by the patient?\"\n",
    "    }\n",
    "]\n",
    "\n",
    "\n",
    "qa_prompt_template = \"Answer the following question based on the given context:\\n## Context Start ##\\n{context}\\n## Context End ##\\n## Question Start ##\\n{question}\\n## Question End ##\""
   ]
  },
  {
   "cell_type": "code",
   "execution_count": 8,
   "id": "a722a8bb-d2e0-4712-832e-3c9c093f234f",
   "metadata": {
    "tags": []
   },
   "outputs": [],
   "source": [
    "def generate_qa_prompts(qa_pairs):\n",
    "    prompts = []\n",
    "\n",
    "    for qa in qa_pairs:\n",
    "        context = qa.get('context')\n",
    "        question = qa.get('question')\n",
    "        prompt = qa_prompt_template.format(context=context, question=question)\n",
    "        prompts.append(prompt)\n",
    "\n",
    "    return prompts\n",
    "\n",
    "\n",
    "qa_prompts = generate_qa_prompts(open_book_qa)"
   ]
  },
  {
   "cell_type": "markdown",
   "id": "7d3b3fa6-c84d-4275-b906-d5746ac6270b",
   "metadata": {},
   "source": [
    "### JSON \n",
    "\n",
    "To use the model, you need to provide input in one of the following supported formats:\n",
    "\n",
    "#### Single Input\n",
    "\n",
    "Provide a single input as a JSON object.\n",
    "\n",
    "```json\n",
    "{\n",
    "    \"input_text\": \"input text\"\n",
    "}\n",
    "```\n",
    "\n",
    "Alternatively, you can provide a dictionary containing the keys `context` and `question`.\n",
    "\n",
    "```json\n",
    "{\n",
    "    \"input_text\": {\"context\": \"Context\", \"question\": \"Question\"},\n",
    "    \"template\": \"open_book_qa\"\n",
    "}\n",
    "```\n",
    "\n",
    "#### Multiple Inputs\n",
    "\n",
    "Provide multiple inputs as a JSON array.\n",
    "\n",
    "```json\n",
    "{\n",
    "    \"input_text\": [\n",
    "        \"input text 1\",\n",
    "        \"input text 2\"\n",
    "    ]\n",
    "}\n",
    "```\n",
    "\n",
    "Alternatively, you can provide an array of dictionaries, where each dictionary contains the keys `context` and `question`.\n",
    "\n",
    "```json\n",
    "{\n",
    "    \"input_text\": [\n",
    "        {\"context\": \"Context 1\", \"question\": \"Question 1\"},\n",
    "        {\"context\": \"Context 2\", \"question\": \"Question 2\"}\n",
    "    ],\n",
    "    \"template\": \"open_book_qa\"\n",
    "}\n",
    "```\n",
    "\n",
    "**Note**: If you provide dictionaries, you can specify the template as `open_book_qa`. If you don't select any template, it will concatenate both strings with a newline."
   ]
  },
  {
   "cell_type": "markdown",
   "id": "e9a475e7-ad31-4b3b-b7b5-21310f541252",
   "metadata": {
    "tags": []
   },
   "source": [
    "#### Example: 1"
   ]
  },
  {
   "cell_type": "code",
   "execution_count": 9,
   "id": "c22cf887-70d5-4a87-8476-988590228328",
   "metadata": {
    "tags": []
   },
   "outputs": [
    {
     "data": {
      "text/html": [
       "<div>\n",
       "<style scoped>\n",
       "    .dataframe tbody tr th:only-of-type {\n",
       "        vertical-align: middle;\n",
       "    }\n",
       "\n",
       "    .dataframe tbody tr th {\n",
       "        vertical-align: top;\n",
       "    }\n",
       "\n",
       "    .dataframe thead th {\n",
       "        text-align: right;\n",
       "    }\n",
       "</style>\n",
       "<table border=\"1\" class=\"dataframe\">\n",
       "  <thead>\n",
       "    <tr style=\"text-align: right;\">\n",
       "      <th></th>\n",
       "      <th>response</th>\n",
       "    </tr>\n",
       "  </thead>\n",
       "  <tbody>\n",
       "    <tr>\n",
       "      <th>0</th>\n",
       "      <td>The patient is concerned about potential long-term side effects from undergoing radiation therapy for his left temporal lesion.</td>\n",
       "    </tr>\n",
       "  </tbody>\n",
       "</table>\n",
       "</div>"
      ],
      "text/plain": [
       "                                                                                                                           response\n",
       "0   The patient is concerned about potential long-term side effects from undergoing radiation therapy for his left temporal lesion."
      ]
     },
     "execution_count": 9,
     "metadata": {},
     "output_type": "execute_result"
    }
   ],
   "source": [
    "input_json_data = {\n",
    "    \"input_text\": open_book_qa[0],\n",
    "    \"template\": \"open_book_qa\"\n",
    "}\n",
    "\n",
    "data =  process_data_and_invoke_realtime_endpoint(input_json_data, content_type=\"application/json\" , accept=\"application/json\" )\n",
    "pd.DataFrame(data)"
   ]
  },
  {
   "cell_type": "markdown",
   "id": "d1a76aec-391a-44e9-b385-99aa62f1b4bf",
   "metadata": {},
   "source": [
    "#### Example: 2"
   ]
  },
  {
   "cell_type": "code",
   "execution_count": 10,
   "id": "0c06b069-e3d8-48f4-9c09-fec59143ed11",
   "metadata": {
    "tags": []
   },
   "outputs": [
    {
     "data": {
      "text/html": [
       "<div>\n",
       "<style scoped>\n",
       "    .dataframe tbody tr th:only-of-type {\n",
       "        vertical-align: middle;\n",
       "    }\n",
       "\n",
       "    .dataframe tbody tr th {\n",
       "        vertical-align: top;\n",
       "    }\n",
       "\n",
       "    .dataframe thead th {\n",
       "        text-align: right;\n",
       "    }\n",
       "</style>\n",
       "<table border=\"1\" class=\"dataframe\">\n",
       "  <thead>\n",
       "    <tr style=\"text-align: right;\">\n",
       "      <th></th>\n",
       "      <th>response</th>\n",
       "    </tr>\n",
       "  </thead>\n",
       "  <tbody>\n",
       "    <tr>\n",
       "      <th>0</th>\n",
       "      <td>The patient is concerned about the potential long-term side effects of undergoing radiation therapy for his left temporal lesion.</td>\n",
       "    </tr>\n",
       "    <tr>\n",
       "      <th>1</th>\n",
       "      <td>After the injury, the patient experienced sharp lower back pain, radiating symptoms down his right buttock, and extending to the lateral part of his leg crossing his knee. These symptoms progressively worsened over time.</td>\n",
       "    </tr>\n",
       "    <tr>\n",
       "      <th>2</th>\n",
       "      <td>The primary issue reported by the patient is the recent worsening of her hypertension.</td>\n",
       "    </tr>\n",
       "  </tbody>\n",
       "</table>\n",
       "</div>"
      ],
      "text/plain": [
       "                                                                                                                                                                                                                        response\n",
       "0                                                                                              The patient is concerned about the potential long-term side effects of undergoing radiation therapy for his left temporal lesion.\n",
       "1   After the injury, the patient experienced sharp lower back pain, radiating symptoms down his right buttock, and extending to the lateral part of his leg crossing his knee. These symptoms progressively worsened over time.\n",
       "2                                                                                                                                         The primary issue reported by the patient is the recent worsening of her hypertension."
      ]
     },
     "execution_count": 10,
     "metadata": {},
     "output_type": "execute_result"
    }
   ],
   "source": [
    "input_json_data = {\n",
    "    \"input_text\": open_book_qa,  # The current timeout for InvokeEndpoint is 60 seconds, so carefully select the number of prompts you are sending in one request.\n",
    "    \"template\": \"open_book_qa\"\n",
    "}\n",
    "\n",
    "data =  process_data_and_invoke_realtime_endpoint(input_json_data, content_type=\"application/json\" , accept=\"application/json\" )\n",
    "pd.DataFrame(data)"
   ]
  },
  {
   "cell_type": "markdown",
   "id": "28c809e2-7d70-44b8-8f33-c6723a4d619d",
   "metadata": {},
   "source": [
    "#### Example: 3"
   ]
  },
  {
   "cell_type": "markdown",
   "id": "eeb3b4eb-42e5-458e-8075-d3b139b94f61",
   "metadata": {},
   "source": [
    "### JSON Lines"
   ]
  },
  {
   "cell_type": "markdown",
   "id": "bb2e6e27-63c0-4075-bd69-c922a3037d8f",
   "metadata": {},
   "source": [
    "- **Input Format**: Provide input in JSON Lines format, where each line is a JSON object\n",
    ".\n",
    "```\n",
    "{\"input_text\": \"input text 1\"}\n",
    "{\"input_text\": \"input text 2\"}\n",
    "```"
   ]
  },
  {
   "cell_type": "code",
   "execution_count": 11,
   "id": "f543f988-2ff6-4829-a2f5-0af9efd22810",
   "metadata": {
    "tags": []
   },
   "outputs": [],
   "source": [
    "import json\n",
    "\n",
    "def create_jsonl(records):\n",
    "    json_records = []\n",
    "\n",
    "    for text in records:\n",
    "        record = {\n",
    "            \"input_text\": text\n",
    "        }\n",
    "        json_records.append(record)\n",
    "\n",
    "    json_lines = '\\n'.join(json.dumps(record) for record in json_records)\n",
    "\n",
    "    return json_lines\n"
   ]
  },
  {
   "cell_type": "markdown",
   "id": "cb513bd1-3816-4983-9f7a-a91d854a4ec9",
   "metadata": {},
   "source": [
    "#### Example: 1"
   ]
  },
  {
   "cell_type": "code",
   "execution_count": 12,
   "id": "26591021-5cc5-40a3-8b7b-0149e2419eeb",
   "metadata": {
    "tags": []
   },
   "outputs": [
    {
     "name": "stdout",
     "output_type": "stream",
     "text": [
      "{\"response\": \" The patient is concerned about the potential long-term side effects of undergoing radiation therapy for his left temporal lesion.\"}\n",
      "{\"response\": \" After the injury, the patient experienced sharp lower back pain, radiating symptoms down his right buttock, and extending to the lateral part of his leg crossing his knee. These symptoms progressively worsened over time.\"}\n",
      "{\"response\": \" The primary issue reported by the patient is the recent worsening of her hypertension.\"}\n"
     ]
    }
   ],
   "source": [
    "input_jsonl_data  = create_jsonl(qa_prompts)\n",
    "\n",
    "data = process_data_and_invoke_realtime_endpoint(input_jsonl_data, content_type=\"application/jsonlines\" , accept=\"application/jsonlines\" )\n",
    "print(data)"
   ]
  },
  {
   "cell_type": "markdown",
   "id": "b2aba8d7-195c-4d3b-b509-0809de49a10f",
   "metadata": {},
   "source": [
    "### Summarization"
   ]
  },
  {
   "cell_type": "markdown",
   "id": "6ff38549-fbd1-45fa-8b83-5e7addcdd5ca",
   "metadata": {},
   "source": [
    "#### Initial setup"
   ]
  },
  {
   "cell_type": "code",
   "execution_count": 13,
   "id": "c611cf4a-a946-417a-80b9-c2d90f35c6cf",
   "metadata": {
    "tags": []
   },
   "outputs": [],
   "source": [
    "# Articles related to COVID-19 from the CORD-19 dataset\n",
    "covid19_articles = [\n",
    "    \"\"\"INTRODUCTION: Infection with the new coronavirus responsible for Severe Acute Respiratory Syndrome (SARS-CoV-2) continues to spread worldwide. In Brazil, there are already more than 230 thousand dead, many of these older adults. OBJECTIVE: To present the clinical characteristics of older Brazilian adults infected by COVID-19, in the epidemiological weeks (EW) 34-52, and to verify factors responsible for the increased risk of death. METHODS: Retrospective and observational study conducted with secondary publicly available data, provided by the Brazilian Ministry of Health. 1,544 confirmed cases of registered COVID-19 infection were included between August 16 and December 26, 2020, aged 60 or older. OUTCOMES: Demographic data, comorbidity, symptoms for disease, clinical information: days of hospitalization, chest X-ray, type of RT-PCR. RESULTS: 48% of patients admitted to the ICU with evidence for SARS-CoV-2 died. Symptoms and comorbidities related to increased chance of death (OR) were immunodeficiency (188%), kidney disease (166%), neurological disease (103%), dyspnea (86%), pneumopathy (55%), O2 saturation <95% (53%), respiratory discomfort (49%), age (36%), sore throat (31%), and sex (0.5%). There was a 5% increase in the chance of death for each year of life. CONCLUSION: Heart disease and Diabetes mellitus were the most frequent comorbidities, but did not indicate an increased risk of death from SARS-CoV-2 infection. Age, sex, sore throat, dyspnea, respiratory discomfort, O2 saturation <95%, neurological disease, pneumopathy, immunodeficiency, and kidney disease were significantly associated with risk of death from COVID-19.\"\"\",\n",
    "    \"\"\"OBJECTIVE: To compare maternal and perinatal outcomes between randomized trials and observational studies in which conservative management was performed for more than 48 h in patients with early-onset severe preeclampsia. METHODOLOGY: We searched PubMed, LILACS, Cochrane and Google Scholar. The studies were divided in two groups: randomized and observational studies, from 1990 to 2018 that included patients with severe preeclampsia before 34 weeks of gestation with pregnancy prolongation &#8805;48 h but that did not include fetal growth restriction or HELLP syndrome at the beginning. The main variables recorded were maternal and perinatal complications. MAIN RESULTS: Forty-four studies met the inclusion criteria, and 5 of these were randomized. The average pregnancy prolongation was 9 days, with no difference between groups. Maternal complications were significantly more common in observational studies, RR = 0.71, 95% CI (0.54-0.93), p = .009. Perinatal complications were also significantly more common in observational studies (RR = 0.89, 95% CI (0.80-0.98), p = .01) at the expense of stillbirth and neonatal deaths. The percentages of cesarean sections were significantly higher in randomized studies, RR = 1.54, 95% CI (1.46-1.64). There were 2 maternal deaths, both in observational studies. CONCLUSION: Observational studies in which conservative management of early-onset preeclampsia is performed and do not include patients with fetal growth restriction or patients with HELLP syndrome and where at least 2 days of pregnancy prolongation is achieved are associated with significantly more maternal and perinatal complications.\"\"\",\n",
    "    \"\"\"Background:In recent years, an integrated programme of vector control, screening and treatment of gambiense human African trypanosomiasis (gHAT) infections has led to a rapid decline in cases in the Mandoul disease focus of Chad. In this study, we assess whether elimination of transmission has already been achieved in the region despite low-level case reporting, quantify the role of intensified interventions in transmission reduction, and predict the trajectory of gHAT in Mandoul for the next decade under a range of control scenarios. Method: We utilise human case data (2000-2019) to update a previous model of transmission of gHAT in Mandoul. We also test the updated model, which now has refined assumptions on diagnostic specificity of the current algorithm and an improved fitting method, via a data censoring approach.Results:We conclude that passive detection rates have increased due to improvements in diagnostic availability in fixed health facilities since 2015, by 2.1-fold for stage 1 detection, and by 1.5-fold for stage 2. We find that whilst the diagnostic algorithm for active screening is estimated to be highly specific (99.93%, 95% CI: 99.91-99.95%), the high screening level and limited remaining infection means that some recently reported cases might be false positives, especially the ones that were not parasitologically confirmed. We also find that the focus-wide tsetse vector reduction estimated through model fitting (99.1%, 95% CI: 96.1-99.6%) is comparable to the very high reduction previously measured by the decline in catches of tsetse from monitoring traps. In line with previous results, the model suggests that transmission was likely interrupted in 2015 as a result of intensified interventions. Conclusions: We recommend that additional confirmatory testing is performed in Mandoul in order that the endgame can be carefully monitored now that infection levels are so low. More specific measurement of cases would better inform when it is safe to stop active screening and vector control.\"\"\",\n",
    "    \"\"\"Microanatomy of the vast majority of human organs at birth is characterized by marked differences as compared to adult organs, regarding their architecture and the cell types detectable at histology. In preterm neonates, these differences are even more evident, due to the lower level of organ maturation and to ongoing cell differentiation. One of the most remarkable finding in preterm tissues is the presence of huge amounts of stem/progenitor cells in multiple organs, including kidney, brain, heart, adrenals, and lungs. In other organs, such as liver, the completely different burden of cell types in preterm infants is mainly related to the different function of the liver during gestation, mainly focused on hematopoiesis, a function that is taken by bone marrow after birth. Our preliminary studies showed that the antigens expressed by stem/progenitors differ significantly from one organ to the next. Moreover, within each developing human tissue, reactivity for different stem cell markers also changes during gestation, according with the multiple differentiation steps encountered by each progenitor during development. A better knowledge of stem/progenitor cells of preterms will allow neonatologists to boost preterm organ maturation, favoring the differentiation of the multiple cells types that characterize each organ in at term neonates.\"\"\",\n",
    "]\n",
    "\n",
    "summarization_prompt_template = \"You are a helpful AI assistant.\\nSummarize the following document:\\n## Document Start ##\\n{article}\\n## Document End ##\""
   ]
  },
  {
   "cell_type": "code",
   "execution_count": 14,
   "id": "f22ab450-eec1-4e3f-b036-8a7cd5715d18",
   "metadata": {
    "tags": []
   },
   "outputs": [],
   "source": [
    "def generate_summarization_prompts(covid19_articles):\n",
    "    prompts = []\n",
    "    for i, article in enumerate(covid19_articles):\n",
    "        prompt = summarization_prompt_template.format(article=article)\n",
    "        prompts.append(prompt)\n",
    "    return prompts\n",
    "\n",
    "summarization_prompts = generate_summarization_prompts(covid19_articles)"
   ]
  },
  {
   "cell_type": "markdown",
   "id": "cfa42211-57c9-44bc-a8f4-a8c6c1c8b1ec",
   "metadata": {},
   "source": [
    "### JSON "
   ]
  },
  {
   "cell_type": "code",
   "execution_count": 15,
   "id": "40594e2f-fe7a-424b-9dd0-1056fdd16e40",
   "metadata": {
    "tags": []
   },
   "outputs": [
    {
     "data": {
      "text/html": [
       "<div>\n",
       "<style scoped>\n",
       "    .dataframe tbody tr th:only-of-type {\n",
       "        vertical-align: middle;\n",
       "    }\n",
       "\n",
       "    .dataframe tbody tr th {\n",
       "        vertical-align: top;\n",
       "    }\n",
       "\n",
       "    .dataframe thead th {\n",
       "        text-align: right;\n",
       "    }\n",
       "</style>\n",
       "<table border=\"1\" class=\"dataframe\">\n",
       "  <thead>\n",
       "    <tr style=\"text-align: right;\">\n",
       "      <th></th>\n",
       "      <th>response</th>\n",
       "    </tr>\n",
       "  </thead>\n",
       "  <tbody>\n",
       "    <tr>\n",
       "      <th>0</th>\n",
       "      <td>This study analyzed data from 1,544 older adults (aged 60+) in Brazil infected with COVID-19 between August and December 2020. It found that 48% of patients admitted to the ICU died, with several factors increasing the risk of death. These included immunodeficiency, kidney disease, neurological disease, dyspnea, pneumopathy, low oxygen saturation, respiratory discomfort, age, sore throat, and sex. However, heart disease and diabetes mellitus did not significantly increase the risk of death.</td>\n",
       "    </tr>\n",
       "    <tr>\n",
       "      <th>1</th>\n",
       "      <td>Observational studies in which conservative management of early-onset preeclampsia is performed and do not include patients with fetal growth restriction or patients with HELLP syndrome and where at least 2 days of pregnancy prolongation is achieved are associated with significantly more maternal and perinatal complications.</td>\n",
       "    </tr>\n",
       "    <tr>\n",
       "      <th>2</th>\n",
       "      <td>The study concludes that gHAT transmission in Mandoul, Chad, was likely interrupted in 2015 due to intensified interventions. Despite low-level case reporting, passive detection rates have increased due to improved diagnostic availability. However, some reported cases might be false positives. The study recommends additional confirmatory testing to monitor the endgame and determine when it's safe to stop active screening and vector control.</td>\n",
       "    </tr>\n",
       "    <tr>\n",
       "      <th>3</th>\n",
       "      <td>Preterm organs exhibit distinct differences in architecture and cell types compared to adult organs, due to lower maturation and ongoing cell differentiation. Notably, preterm tissues contain abundant stem/progenitor cells across various organs. In the liver, the unique cell types in preterm infants reflect its gestational function of hematopoiesis, a role assumed by bone marrow post-birth. Preliminary studies reveal significant differences in stem/progenitor cell antigens across organs. Additionally, stem cell marker reactivity varies during gestation, aligning with the multiple differentiation steps encountered by each progenitor during development. Understanding preterm stem/progenitor cells can aid neonatologists in enhancing preterm organ maturation and promoting the differentiation of multiple cell types characteristic of term neonates.</td>\n",
       "    </tr>\n",
       "  </tbody>\n",
       "</table>\n",
       "</div>"
      ],
      "text/plain": [
       "                                                                                                                                                                                                                                                                                                                                                                                                                                                                                                                                                                                                                                                                                                                                                                                                                                                                                  response\n",
       "0                                                                                                                                                                                                                                                                                                                                                                          This study analyzed data from 1,544 older adults (aged 60+) in Brazil infected with COVID-19 between August and December 2020. It found that 48% of patients admitted to the ICU died, with several factors increasing the risk of death. These included immunodeficiency, kidney disease, neurological disease, dyspnea, pneumopathy, low oxygen saturation, respiratory discomfort, age, sore throat, and sex. However, heart disease and diabetes mellitus did not significantly increase the risk of death.\n",
       "1                                                                                                                                                                                                                                                                                                                                                                                                                                                                                                                                                   Observational studies in which conservative management of early-onset preeclampsia is performed and do not include patients with fetal growth restriction or patients with HELLP syndrome and where at least 2 days of pregnancy prolongation is achieved are associated with significantly more maternal and perinatal complications.\n",
       "2                                                                                                                                                                                                                                                                                                                                                                                                                             The study concludes that gHAT transmission in Mandoul, Chad, was likely interrupted in 2015 due to intensified interventions. Despite low-level case reporting, passive detection rates have increased due to improved diagnostic availability. However, some reported cases might be false positives. The study recommends additional confirmatory testing to monitor the endgame and determine when it's safe to stop active screening and vector control.\n",
       "3   Preterm organs exhibit distinct differences in architecture and cell types compared to adult organs, due to lower maturation and ongoing cell differentiation. Notably, preterm tissues contain abundant stem/progenitor cells across various organs. In the liver, the unique cell types in preterm infants reflect its gestational function of hematopoiesis, a role assumed by bone marrow post-birth. Preliminary studies reveal significant differences in stem/progenitor cell antigens across organs. Additionally, stem cell marker reactivity varies during gestation, aligning with the multiple differentiation steps encountered by each progenitor during development. Understanding preterm stem/progenitor cells can aid neonatologists in enhancing preterm organ maturation and promoting the differentiation of multiple cell types characteristic of term neonates."
      ]
     },
     "execution_count": 15,
     "metadata": {},
     "output_type": "execute_result"
    }
   ],
   "source": [
    "input_json_data = {\"input_text\": covid19_articles, \"template\": \"summarization\"}\n",
    "\n",
    "data =  process_data_and_invoke_realtime_endpoint(input_json_data, content_type=\"application/json\" , accept=\"application/json\" )\n",
    "pd.DataFrame(data)"
   ]
  },
  {
   "cell_type": "markdown",
   "id": "068db4f9-5230-43f4-a61b-1b483f47559e",
   "metadata": {},
   "source": [
    "### JSON Lines"
   ]
  },
  {
   "cell_type": "code",
   "execution_count": 16,
   "id": "47f8e14c-63c5-48f3-b64c-9a3979ab9408",
   "metadata": {
    "tags": []
   },
   "outputs": [
    {
     "name": "stdout",
     "output_type": "stream",
     "text": [
      "{\"response\": \" In Brazil, over 230,000 people have died from COVID-19, many of whom were older adults. This study aimed to understand the clinical characteristics of older Brazilian adults infected with COVID-19 and identify factors contributing to increased mortality. The study found that 48% of patients admitted to the ICU with COVID-19 died. Several symptoms and comorbidities, including immunodeficiency, kidney disease, neurological disease, dyspnea, pneumopathy, low oxygen saturation, respiratory discomfort, age, sore throat, and sex, were associated with an increased risk of death from COVID-19. However, heart disease and diabetes mellitus did not indicate an increased risk of death.\"}\n",
      "{\"response\": \" Observational studies with conservative management for early-onset preeclampsia without fetal growth restriction or HELLP syndrome, and at least 2 days of pregnancy prolongation, are linked to higher maternal and perinatal complications compared to randomized trials.\"}\n",
      "{\"response\": \" The study concludes that transmission of gambiense human African trypanosomiasis (gHAT) in Mandoul, Chad, was likely interrupted in 2015 due to intensified interventions. However, due to low infection levels and potential false positives, additional confirmatory testing is recommended to carefully monitor the endgame. The study also suggests that more specific measurement of cases would better inform when it is safe to stop active screening and vector control.\"}\n",
      "{\"response\": \" Preterm organs exhibit distinct differences in architecture and cell types compared to adult organs, with preterm neonates showing even more pronounced differences due to ongoing cell differentiation and lower organ maturation. Notably, preterm tissues contain abundant stem/progenitor cells across various organs. In the liver, the different cell types in preterm infants reflect its gestational function of hematopoiesis, which is later taken over by bone marrow post-birth. Preliminary studies reveal significant differences in stem/progenitor cell antigens across organs, and within each tissue, stem cell marker reactivity changes during gestation. Understanding preterm stem/progenitor cells can help neonatologists enhance preterm organ maturation and promote the differentiation of cells characteristic of term neonates.\"}\n"
     ]
    }
   ],
   "source": [
    "input_jsonl_data  = create_jsonl(summarization_prompts)\n",
    "\n",
    "data = process_data_and_invoke_realtime_endpoint(input_jsonl_data, content_type=\"application/jsonlines\" , accept=\"application/jsonlines\" )\n",
    "print(data)"
   ]
  },
  {
   "cell_type": "markdown",
   "id": "547960f3-6629-4c2d-a4d2-cdb26c9c61d0",
   "metadata": {},
   "source": [
    "Now that you have successfully performed a real-time inference, you do not need the endpoint any more. You can terminate the endpoint to avoid being charged."
   ]
  },
  {
   "cell_type": "code",
   "execution_count": 17,
   "id": "488631f8-c3be-4b30-aba4-75d83ee588a3",
   "metadata": {
    "tags": []
   },
   "outputs": [],
   "source": [
    "model.sagemaker_session.delete_endpoint(model_name)\n",
    "model.sagemaker_session.delete_endpoint_config(model_name)"
   ]
  },
  {
   "cell_type": "markdown",
   "id": "c0e98cc5-6ea8-41bf-a78f-dbe6771caf55",
   "metadata": {},
   "source": [
    "## 4. Batch inference"
   ]
  },
  {
   "cell_type": "code",
   "execution_count": 19,
   "id": "f7d163c0-a6c7-49c5-a4ea-27b83670eb7b",
   "metadata": {
    "tags": []
   },
   "outputs": [],
   "source": [
    "import json\n",
    "import os\n",
    "\n",
    "\n",
    "\n",
    "input_dir = 'inputs/batch'\n",
    "json_input_dir = f\"{input_dir}/json\"\n",
    "jsonl_input_dir = f\"{input_dir}/jsonl\"\n",
    "\n",
    "output_dir = 'outputs/batch'\n",
    "json_output_dir = f\"{output_dir}/json\"\n",
    "jsonl_output_dir = f\"{output_dir}/jsonl\"\n",
    "\n",
    "os.makedirs(json_input_dir, exist_ok=True)\n",
    "os.makedirs(jsonl_input_dir, exist_ok=True)\n",
    "os.makedirs(json_output_dir, exist_ok=True)\n",
    "os.makedirs(jsonl_output_dir, exist_ok=True)\n",
    "\n",
    "\n",
    "\n",
    "# JSON file names\n",
    "validation_json_file_name1 = \"input1.json\"\n",
    "validation_json_file_name2 = \"input2.json\"\n",
    "\n",
    "# JSONL file names\n",
    "validation_jsonl_file_name1 = \"input1.jsonl\"\n",
    "validation_jsonl_file_name2 = \"input2.jsonl\"\n",
    "\n",
    "\n",
    "# JSON paths\n",
    "validation_input_json_path = f\"s3://{s3_bucket}/{model_name}/validation-input/batch/json/\"\n",
    "validation_output_json_path = f\"s3://{s3_bucket}/{model_name}/validation-output/batch/json/\"\n",
    "\n",
    "# JSONL paths\n",
    "validation_input_jsonl_path = f\"s3://{s3_bucket}/{model_name}/validation-input/batch/jsonl/\"\n",
    "validation_output_jsonl_path = f\"s3://{s3_bucket}/{model_name}/validation-output/batch/jsonl/\"\n",
    "\n",
    "def write_and_upload_to_s3(input_data, file_name):\n",
    "    file_format = os.path.splitext(file_name)[1].lower()\n",
    "    with open(file_name, \"w\") as f:\n",
    "        f.write(input_data)\n",
    "\n",
    "    s3_client.put_object(\n",
    "        Bucket=s3_bucket,\n",
    "        Key=f\"{model_name}/validation-input/batch/{file_format[1:]}/{os.path.basename(file_name)}\",\n",
    "        Body=(bytes(input_data.encode(\"UTF-8\"))),\n",
    "    )\n",
    "\n",
    "\n",
    "# Example data for JSONL files\n",
    "input_jsonl_data1 = create_jsonl(qa_prompts)\n",
    "input_jsonl_data2 = create_jsonl(summarization_prompts)\n",
    "\n",
    "# Example data for JSON files\n",
    "input_json_data1 = json.dumps({\"input_text\": open_book_qa, \"template\":\"open_book_qa\"})\n",
    "input_json_data2 = json.dumps({\"input_text\": covid19_articles, \"template\":\"summarization\"})\n",
    "\n",
    "\n",
    "# Write and upload JSONL data\n",
    "write_and_upload_to_s3(input_jsonl_data1, f\"{jsonl_input_dir}/{validation_jsonl_file_name1}\")\n",
    "write_and_upload_to_s3(input_jsonl_data2, f\"{jsonl_input_dir}/{validation_jsonl_file_name2}\")\n",
    "\n",
    "# Write and upload JSON data\n",
    "write_and_upload_to_s3(input_json_data1, f\"{json_input_dir}/{validation_json_file_name1}\")\n",
    "write_and_upload_to_s3(input_json_data2,  f\"{json_input_dir}/{validation_json_file_name2}\")\n"
   ]
  },
  {
   "cell_type": "markdown",
   "id": "1faaf6d5-859e-492c-a985-abc16626330e",
   "metadata": {},
   "source": [
    "### JSON"
   ]
  },
  {
   "cell_type": "code",
   "execution_count": null,
   "id": "2be2cdcc-57f6-4f30-8d8a-f740dd83a046",
   "metadata": {
    "tags": []
   },
   "outputs": [],
   "source": [
    "# Initialize a SageMaker Transformer object for making predictions\n",
    "transformer = model.transformer(\n",
    "    instance_count=1,\n",
    "    instance_type=batch_transform_inference_instance_type,\n",
    "    accept=\"application/json\",\n",
    "    output_path=validation_output_json_path\n",
    ")\n",
    "\n",
    "transformer.transform(validation_input_json_path, content_type=\"application/json\")\n",
    "transformer.wait()"
   ]
  },
  {
   "cell_type": "code",
   "execution_count": 21,
   "id": "142c53a9-2e64-4839-acbd-74bfbd7fc372",
   "metadata": {
    "tags": []
   },
   "outputs": [],
   "source": [
    "from urllib.parse import urlparse\n",
    "\n",
    "def process_s3_json_output_and_save(validation_file_name):\n",
    "\n",
    "    output_file_path = f\"{json_output_dir}/{validation_file_name}.out\"\n",
    "    parsed_url = urlparse(transformer.output_path)\n",
    "    file_key = f\"{parsed_url.path[1:]}{validation_file_name}.out\"\n",
    "    response = s3_client.get_object(Bucket=s3_bucket, Key=file_key)\n",
    "\n",
    "    data = json.loads(response[\"Body\"].read().decode(\"utf-8\"))\n",
    "    df = pd.DataFrame(data)\n",
    "    display(df)\n",
    "\n",
    "    # Save the data to the output file\n",
    "    with open(output_file_path, 'w') as f_out:\n",
    "        json.dump(data, f_out, indent=4)"
   ]
  },
  {
   "cell_type": "markdown",
   "id": "31266056-dcbc-4d4d-be1c-3cdf04b0b131",
   "metadata": {},
   "source": [
    "#### Example 1: Question Answering"
   ]
  },
  {
   "cell_type": "code",
   "execution_count": 22,
   "id": "b781965a-3891-4ac3-a580-9e187b262d39",
   "metadata": {
    "tags": []
   },
   "outputs": [
    {
     "data": {
      "text/html": [
       "<div>\n",
       "<style scoped>\n",
       "    .dataframe tbody tr th:only-of-type {\n",
       "        vertical-align: middle;\n",
       "    }\n",
       "\n",
       "    .dataframe tbody tr th {\n",
       "        vertical-align: top;\n",
       "    }\n",
       "\n",
       "    .dataframe thead th {\n",
       "        text-align: right;\n",
       "    }\n",
       "</style>\n",
       "<table border=\"1\" class=\"dataframe\">\n",
       "  <thead>\n",
       "    <tr style=\"text-align: right;\">\n",
       "      <th></th>\n",
       "      <th>response</th>\n",
       "    </tr>\n",
       "  </thead>\n",
       "  <tbody>\n",
       "    <tr>\n",
       "      <th>0</th>\n",
       "      <td>The patient is concerned about potential long-term side effects from undergoing radiation therapy for his left temporal lesion.</td>\n",
       "    </tr>\n",
       "    <tr>\n",
       "      <th>1</th>\n",
       "      <td>After the injury, the patient experienced sharp lower back pain, radiating symptoms down his right buttock, and extending to the lateral part of his leg crossing his knee. These symptoms progressively worsened over time.</td>\n",
       "    </tr>\n",
       "    <tr>\n",
       "      <th>2</th>\n",
       "      <td>The primary issue reported by the patient is the recent worsening of her hypertension.</td>\n",
       "    </tr>\n",
       "  </tbody>\n",
       "</table>\n",
       "</div>"
      ],
      "text/plain": [
       "                                                                                                                                                                                                                        response\n",
       "0                                                                                                The patient is concerned about potential long-term side effects from undergoing radiation therapy for his left temporal lesion.\n",
       "1   After the injury, the patient experienced sharp lower back pain, radiating symptoms down his right buttock, and extending to the lateral part of his leg crossing his knee. These symptoms progressively worsened over time.\n",
       "2                                                                                                                                         The primary issue reported by the patient is the recent worsening of her hypertension."
      ]
     },
     "metadata": {},
     "output_type": "display_data"
    }
   ],
   "source": [
    "# open_book_qa\n",
    "process_s3_json_output_and_save(validation_json_file_name1)"
   ]
  },
  {
   "cell_type": "markdown",
   "id": "07f6ccef-749b-4efc-a22f-0599852a6f43",
   "metadata": {},
   "source": [
    "#### Example 2: Summarization"
   ]
  },
  {
   "cell_type": "code",
   "execution_count": 23,
   "id": "15571a71-0110-47fb-a172-20af596cc483",
   "metadata": {
    "tags": []
   },
   "outputs": [
    {
     "data": {
      "text/html": [
       "<div>\n",
       "<style scoped>\n",
       "    .dataframe tbody tr th:only-of-type {\n",
       "        vertical-align: middle;\n",
       "    }\n",
       "\n",
       "    .dataframe tbody tr th {\n",
       "        vertical-align: top;\n",
       "    }\n",
       "\n",
       "    .dataframe thead th {\n",
       "        text-align: right;\n",
       "    }\n",
       "</style>\n",
       "<table border=\"1\" class=\"dataframe\">\n",
       "  <thead>\n",
       "    <tr style=\"text-align: right;\">\n",
       "      <th></th>\n",
       "      <th>response</th>\n",
       "    </tr>\n",
       "  </thead>\n",
       "  <tbody>\n",
       "    <tr>\n",
       "      <th>0</th>\n",
       "      <td>The study analyzed data from 1,544 COVID-19 patients aged 60 or older in Brazil, revealing that 48% of ICU admissions resulted in death. Factors increasing the risk of death included immunodeficiency, kidney disease, neurological disease, dyspnea, pneumopathy, low O2 saturation, respiratory discomfort, age, sore throat, and sex. Notably, heart disease and diabetes mellitus did not significantly increase the risk of death.</td>\n",
       "    </tr>\n",
       "    <tr>\n",
       "      <th>1</th>\n",
       "      <td>Observational studies with conservative management for early-onset preeclampsia without fetal growth restriction or HELLP syndrome, and at least 2 days of pregnancy prolongation, are associated with more maternal and perinatal complications compared to randomized trials.</td>\n",
       "    </tr>\n",
       "    <tr>\n",
       "      <th>2</th>\n",
       "      <td>The study concludes that passive detection rates for gHAT infections have increased due to improved diagnostic availability since 2015. The diagnostic algorithm for active screening is highly specific, but some reported cases might be false positives. The focus-wide tsetse vector reduction estimated through model fitting is comparable to previous reductions. The model suggests that transmission was likely interrupted in 2015 due to intensified interventions. Additional confirmatory testing is recommended to monitor the endgame as infection levels are low.</td>\n",
       "    </tr>\n",
       "    <tr>\n",
       "      <th>3</th>\n",
       "      <td>Preterm organs exhibit significant differences in architecture and cell types compared to adult organs, with preterm neonates showing even more pronounced differences due to ongoing cell differentiation. Notably, preterm tissues contain large amounts of stem/progenitor cells across various organs. The liver in preterm infants displays a unique cell composition reflecting its gestational function in hematopoiesis. Preliminary studies indicate distinct stem/progenitor cell antigens across organs and changing stem cell marker reactivity during gestation. Understanding preterm stem/progenitor cells could enhance neonatal organ maturation and differentiation.</td>\n",
       "    </tr>\n",
       "  </tbody>\n",
       "</table>\n",
       "</div>"
      ],
      "text/plain": [
       "                                                                                                                                                                                                                                                                                                                                                                                                                                                                                                                                                                                                                                                                                  response\n",
       "0                                                                                                                                                                                                                                                The study analyzed data from 1,544 COVID-19 patients aged 60 or older in Brazil, revealing that 48% of ICU admissions resulted in death. Factors increasing the risk of death included immunodeficiency, kidney disease, neurological disease, dyspnea, pneumopathy, low O2 saturation, respiratory discomfort, age, sore throat, and sex. Notably, heart disease and diabetes mellitus did not significantly increase the risk of death.\n",
       "1                                                                                                                                                                                                                                                                                                                                                                                                          Observational studies with conservative management for early-onset preeclampsia without fetal growth restriction or HELLP syndrome, and at least 2 days of pregnancy prolongation, are associated with more maternal and perinatal complications compared to randomized trials.\n",
       "2                                                                                                        The study concludes that passive detection rates for gHAT infections have increased due to improved diagnostic availability since 2015. The diagnostic algorithm for active screening is highly specific, but some reported cases might be false positives. The focus-wide tsetse vector reduction estimated through model fitting is comparable to previous reductions. The model suggests that transmission was likely interrupted in 2015 due to intensified interventions. Additional confirmatory testing is recommended to monitor the endgame as infection levels are low.\n",
       "3   Preterm organs exhibit significant differences in architecture and cell types compared to adult organs, with preterm neonates showing even more pronounced differences due to ongoing cell differentiation. Notably, preterm tissues contain large amounts of stem/progenitor cells across various organs. The liver in preterm infants displays a unique cell composition reflecting its gestational function in hematopoiesis. Preliminary studies indicate distinct stem/progenitor cell antigens across organs and changing stem cell marker reactivity during gestation. Understanding preterm stem/progenitor cells could enhance neonatal organ maturation and differentiation."
      ]
     },
     "metadata": {},
     "output_type": "display_data"
    }
   ],
   "source": [
    "process_s3_json_output_and_save(validation_json_file_name2)"
   ]
  },
  {
   "cell_type": "markdown",
   "id": "bdce77a4-60a9-4d19-8c5b-ddde4f8f2e27",
   "metadata": {},
   "source": [
    "### JSON Lines"
   ]
  },
  {
   "cell_type": "code",
   "execution_count": null,
   "id": "25479419-e281-4987-b1d0-9f57ce5f1e2c",
   "metadata": {
    "tags": []
   },
   "outputs": [],
   "source": [
    "transformer = model.transformer(\n",
    "    instance_count=1,\n",
    "    instance_type=batch_transform_inference_instance_type,\n",
    "    accept=\"application/jsonlines\",\n",
    "    output_path=validation_output_jsonl_path\n",
    ")\n",
    "transformer.transform(validation_input_jsonl_path, content_type=\"application/jsonlines\")\n",
    "transformer.wait()"
   ]
  },
  {
   "cell_type": "code",
   "execution_count": 25,
   "id": "ab85ffa0-c656-42be-9e9e-f458f465fe5b",
   "metadata": {
    "tags": []
   },
   "outputs": [],
   "source": [
    "from urllib.parse import urlparse\n",
    "\n",
    "def process_s3_jsonlines_output_and_save(validation_file_name):\n",
    "\n",
    "    output_file_path = f\"{jsonl_output_dir}/{validation_file_name}.out\"\n",
    "    parsed_url = urlparse(transformer.output_path)\n",
    "    file_key = f\"{parsed_url.path[1:]}{validation_file_name}.out\"\n",
    "    response = s3_client.get_object(Bucket=s3_bucket, Key=file_key)\n",
    "\n",
    "    data = response[\"Body\"].read().decode(\"utf-8\")\n",
    "    print(data)\n",
    "\n",
    "    # Save the data to the output file\n",
    "    with open(output_file_path, 'w') as f_out:\n",
    "        for item in data.split('\\n'):\n",
    "            f_out.write(item + '\\n')"
   ]
  },
  {
   "cell_type": "markdown",
   "id": "1d0b53a7-e6eb-45e5-8cdc-b970e3c0524f",
   "metadata": {},
   "source": [
    "#### Example 1: Question Answering"
   ]
  },
  {
   "cell_type": "code",
   "execution_count": 26,
   "id": "d66eb21b-1841-41f4-bf9c-e575b49ab0a1",
   "metadata": {
    "tags": []
   },
   "outputs": [
    {
     "name": "stdout",
     "output_type": "stream",
     "text": [
      "{\"response\": \" The patient is concerned about potential long-term side effects from undergoing radiation therapy for his left temporal lesion.\"}\n",
      "{\"response\": \" After the injury, the patient experienced sharp lower back pain, radiating symptoms down his right buttock, and extending to the lateral part of his leg crossing his knee. These symptoms progressively worsened.\"}\n",
      "{\"response\": \" The primary issue reported by the patient is the recent worsening of her hypertension.\"}\n"
     ]
    }
   ],
   "source": [
    "process_s3_jsonlines_output_and_save(validation_jsonl_file_name1)"
   ]
  },
  {
   "cell_type": "markdown",
   "id": "af3ca0a9-403e-4669-a91b-0e0a8af86e81",
   "metadata": {
    "tags": []
   },
   "source": [
    "#### Example 2: Summarization"
   ]
  },
  {
   "cell_type": "code",
   "execution_count": 27,
   "id": "417e3bf2-fc44-4837-86eb-589b467a0b6b",
   "metadata": {
    "tags": []
   },
   "outputs": [
    {
     "name": "stdout",
     "output_type": "stream",
     "text": [
      "{\"response\": \" In Brazil, over 230,000 people have died from COVID-19, many of whom were older adults. This study aimed to understand the clinical characteristics of older Brazilian adults infected with COVID-19 and identify factors that increase the risk of death. The study included 1,544 patients aged 60 or older, and found that 48% of patients admitted to the ICU died. Factors associated with an increased risk of death included immunodeficiency, kidney disease, neurological disease, dyspnea, pneumopathy, low oxygen saturation, respiratory discomfort, age, sore throat, and sex. However, heart disease and diabetes mellitus did not increase the risk of death.\"}\n",
      "{\"response\": \" Observational studies with conservative management for early-onset preeclampsia without fetal growth restriction or HELLP syndrome, and at least 2 days of pregnancy prolongation, are associated with significantly more maternal and perinatal complications compared to randomized trials.\"}\n",
      "{\"response\": \" The study concludes that passive detection rates have increased due to improvements in diagnostic availability. The diagnostic algorithm for active screening is highly specific. However, some recently reported cases might be false positives. The focus-wide tsetse vector reduction estimated through model fitting is comparable to the very high reduction previously measured by the decline in catches of tsetse from monitoring traps. The model suggests that transmission was likely interrupted in 2015 as a result of intensified interventions. Additional confirmatory testing is recommended in Mandoul to carefully monitor the endgame.\"}\n",
      "{\"response\": \" In preterm neonates, human organ microanatomy shows significant differences from adults, due to immaturity and ongoing cell differentiation. High amounts of stem/progenitor cells are found in multiple organs, including kidney, brain, heart, adrenals, and lungs. In the liver, the different cell types in preterm infants relate to its gestational function of hematopoiesis, a function taken over by bone marrow post-birth. Preliminary studies indicate that stem/progenitor cell antigens vary across organs, and their stem cell marker reactivity changes during gestation, reflecting the differentiation steps encountered by each progenitor during development. Understanding preterm stem/progenitor cells can help neonatologists enhance preterm organ maturation and promote the differentiation of multiple cell types characteristic of each organ in term neonates.\"}\n"
     ]
    }
   ],
   "source": [
    "process_s3_jsonlines_output_and_save(validation_jsonl_file_name2)"
   ]
  },
  {
   "cell_type": "code",
   "execution_count": 28,
   "id": "22a8df79-ad3b-4e85-a054-24931c15f3a3",
   "metadata": {
    "tags": []
   },
   "outputs": [
    {
     "name": "stderr",
     "output_type": "stream",
     "text": [
      "INFO:sagemaker:Deleting model with name: jsl-medical-summarization-qa-2024-06-24-14-16-18-095\n"
     ]
    }
   ],
   "source": [
    "model.delete_model()"
   ]
  },
  {
   "cell_type": "markdown",
   "id": "37215a51-bf01-4cf0-832a-c7f85a8a06c3",
   "metadata": {},
   "source": [
    "### Unsubscribe to the listing (optional)"
   ]
  },
  {
   "cell_type": "markdown",
   "id": "53cddd4d-4b27-4a94-95b8-5e027e6cd9cd",
   "metadata": {},
   "source": [
    "If you would like to unsubscribe to the model package, follow these steps. Before you cancel the subscription, ensure that you do not have any [deployable model](https://console.aws.amazon.com/sagemaker/home#/models) created from the model package or using the algorithm. Note - You can find this information by looking at the container name associated with the model. \n",
    "\n",
    "**Steps to unsubscribe to product from AWS Marketplace**:\n",
    "1. Navigate to __Machine Learning__ tab on [__Your Software subscriptions page__](https://aws.amazon.com/marketplace/ai/library?productType=ml&ref_=mlmp_gitdemo_indust)\n",
    "2. Locate the listing that you want to cancel the subscription for, and then choose __Cancel Subscription__  to cancel the subscription.\n",
    "\n"
   ]
  }
 ],
 "metadata": {
  "kernelspec": {
   "display_name": "conda_python3",
   "language": "python",
   "name": "conda_python3"
  },
  "language_info": {
   "codemirror_mode": {
    "name": "ipython",
    "version": 3
   },
   "file_extension": ".py",
   "mimetype": "text/x-python",
   "name": "python",
   "nbconvert_exporter": "python",
   "pygments_lexer": "ipython3",
   "version": "3.10.14"
  }
 },
 "nbformat": 4,
 "nbformat_minor": 5
}

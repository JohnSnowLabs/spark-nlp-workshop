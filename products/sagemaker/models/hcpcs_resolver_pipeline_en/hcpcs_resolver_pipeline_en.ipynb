{
 "cells": [
  {
   "cell_type": "markdown",
   "metadata": {},
   "source": [
    "## 1. Subscribe to the model package"
   ]
  },
  {
   "cell_type": "markdown",
   "metadata": {},
   "source": [
    "To subscribe to the model package:\n",
    "1. Open the model package listing page <font color='red'> For Seller to update:[Title_of_your_product](Provide link to your marketplace listing of your product).</font>\n",
    "1. On the AWS Marketplace listing, click on the **Continue to subscribe** button.\n",
    "1. On the **Subscribe to this software** page, review and click on **\"Accept Offer\"** if you and your organization agrees with EULA, pricing, and support terms. \n",
    "1. Once you click on **Continue to configuration button** and then choose a **region**, you will see a **Product Arn** displayed. This is the model package ARN that you need to specify while creating a deployable model using Boto3. Copy the ARN corresponding to your region and specify the same in the following cell."
   ]
  },
  {
   "cell_type": "markdown",
   "metadata": {},
   "source": [
    "## Pipeline for Healthcare Common Procedure Coding System (HCPCS)\n",
    "\n",
    "- **Model**: `hcpcs_resolver_pipeline_en`\n",
    "- **Model Description**: This pipeline extracts PROCEDURE entities and maps them to their corresponding Healthcare Common Procedure Coding System (HCPCS) codes using `sbiobert_base_cased_mli` sentence embeddings."
   ]
  },
  {
   "cell_type": "code",
   "execution_count": 1,
   "metadata": {
    "tags": []
   },
   "outputs": [],
   "source": [
    "model_package_arn = \"<Customer to specify Model package ARN corresponding to their AWS region>\""
   ]
  },
  {
   "cell_type": "code",
   "execution_count": 2,
   "metadata": {
    "tags": []
   },
   "outputs": [
    {
     "name": "stdout",
     "output_type": "stream",
     "text": [
      "sagemaker.config INFO - Not applying SDK defaults from location: /etc/xdg/sagemaker/config.yaml\n",
      "sagemaker.config INFO - Not applying SDK defaults from location: /home/ec2-user/.config/sagemaker/config.yaml\n"
     ]
    }
   ],
   "source": [
    "import base64\n",
    "import json\n",
    "import uuid\n",
    "from sagemaker import ModelPackage\n",
    "import sagemaker as sage\n",
    "from sagemaker import get_execution_role\n",
    "import boto3\n",
    "from IPython.display import Image, display\n",
    "from PIL import Image as ImageEdit\n",
    "import numpy as np"
   ]
  },
  {
   "cell_type": "code",
   "execution_count": 3,
   "metadata": {
    "tags": []
   },
   "outputs": [],
   "source": [
    "sagemaker_session = sage.Session()\n",
    "s3_bucket = sagemaker_session.default_bucket()\n",
    "region = sagemaker_session.boto_region_name\n",
    "account_id = boto3.client(\"sts\").get_caller_identity().get(\"Account\")\n",
    "role = get_execution_role()\n",
    "\n",
    "sagemaker = boto3.client(\"sagemaker\")\n",
    "s3_client = sagemaker_session.boto_session.client(\"s3\")\n",
    "ecr = boto3.client(\"ecr\")\n",
    "sm_runtime = boto3.client(\"sagemaker-runtime\")"
   ]
  },
  {
   "cell_type": "code",
   "execution_count": 4,
   "metadata": {
    "tags": []
   },
   "outputs": [],
   "source": [
    "model_name = \"hcpcs-resolver-pipeline-en\"\n",
    "\n",
    "real_time_inference_instance_type = \"ml.m4.xlarge\"\n",
    "batch_transform_inference_instance_type = \"ml.m4.2xlarge\""
   ]
  },
  {
   "cell_type": "markdown",
   "metadata": {},
   "source": [
    "## 2. Create a deployable model from the model package."
   ]
  },
  {
   "cell_type": "code",
   "execution_count": 5,
   "metadata": {
    "tags": []
   },
   "outputs": [],
   "source": [
    "# create a deployable model from the model package.\n",
    "model = ModelPackage(\n",
    "    role=role, \n",
    "    model_package_arn=model_package_arn,\n",
    "    sagemaker_session=sagemaker_session,\n",
    ")\n"
   ]
  },
  {
   "cell_type": "markdown",
   "metadata": {},
   "source": [
    "### Input Format\n",
    "\n",
    "To use the model, you need to provide input in one of the following supported formats:\n",
    "\n",
    "#### JSON Format\n",
    "\n",
    "Provide input as JSON. We support two variations within this format:\n",
    "\n",
    "1. **Array of Text Documents**: \n",
    "   Use an array containing multiple text documents. Each element represents a separate text document.\n",
    "\n",
    "   ```json\n",
    "   {\n",
    "       \"text\": [\n",
    "           \"Text document 1\",\n",
    "           \"Text document 2\",\n",
    "           ...\n",
    "       ]\n",
    "   }\n",
    "\n",
    "    ```\n",
    "\n",
    "2. **Single Text Document**:\n",
    "   Provide a single text document as a string.\n",
    "\n",
    "\n",
    "   ```json\n",
    "    {\n",
    "        \"text\": \"Single text document\"\n",
    "    }\n",
    "   ```\n",
    "\n",
    "#### JSON Lines (JSONL) Format\n",
    "\n",
    "Provide input in JSON Lines format, where each line is a JSON object representing a text document.\n",
    "\n",
    "```\n",
    "{\"text\": \"Text document 1\"}\n",
    "{\"text\": \"Text document 2\"}\n",
    "```"
   ]
  },
  {
   "cell_type": "markdown",
   "metadata": {},
   "source": [
    "## 3. Create an endpoint and perform real-time inference"
   ]
  },
  {
   "cell_type": "markdown",
   "metadata": {},
   "source": [
    "If you want to understand how real-time inference with Amazon SageMaker works, see [Documentation](https://docs.aws.amazon.com/sagemaker/latest/dg/how-it-works-hosting.html)."
   ]
  },
  {
   "cell_type": "markdown",
   "metadata": {},
   "source": [
    "### A. Deploy the SageMaker model to an endpoint"
   ]
  },
  {
   "cell_type": "code",
   "execution_count": 6,
   "metadata": {
    "tags": []
   },
   "outputs": [
    {
     "name": "stdout",
     "output_type": "stream",
     "text": [
      "---------!"
     ]
    }
   ],
   "source": [
    "# Deploy the model\n",
    "predictor = model.deploy(\n",
    "    initial_instance_count=1,\n",
    "    instance_type=real_time_inference_instance_type, \n",
    "    endpoint_name=model_name,\n",
    ")"
   ]
  },
  {
   "cell_type": "markdown",
   "metadata": {},
   "source": [
    "Once endpoint has been created, you would be able to perform real-time inference."
   ]
  },
  {
   "cell_type": "code",
   "execution_count": 7,
   "metadata": {
    "tags": []
   },
   "outputs": [],
   "source": [
    "import json\n",
    "import pandas as pd\n",
    "import os\n",
    "import boto3\n",
    "\n",
    "# Set display options\n",
    "pd.set_option('display.max_rows', None)\n",
    "pd.set_option('display.max_columns', None)\n",
    "pd.set_option('display.max_colwidth', None)\n",
    "\n",
    "\n",
    "def process_data_and_invoke_realtime_endpoint(data, content_type, accept):\n",
    "\n",
    "    content_type_to_format = {'application/json': 'json', 'application/jsonlines': 'jsonl'}\n",
    "    input_format = content_type_to_format.get(content_type)\n",
    "    if content_type not in content_type_to_format.keys() or accept not in content_type_to_format.keys():\n",
    "        raise ValueError(\"Invalid content_type or accept. It should be either 'application/json' or 'application/jsonlines'.\")\n",
    "\n",
    "    i = 1\n",
    "    input_dir = f'inputs/real-time/{input_format}'\n",
    "    output_dir = f'outputs/real-time/{input_format}'\n",
    "    s3_input_dir = f\"{model_name}/validation-input/real-time/{input_format}\"\n",
    "    s3_output_dir = f\"{model_name}/validation-output/real-time/{input_format}\"\n",
    "\n",
    "    input_file_name = f'{input_dir}/input{i}.{input_format}'\n",
    "    output_file_name = f'{output_dir}/{os.path.basename(input_file_name)}.out'\n",
    "\n",
    "    while os.path.exists(input_file_name) or os.path.exists(output_file_name):\n",
    "        i += 1\n",
    "        input_file_name = f'{input_dir}/input{i}.{input_format}'\n",
    "        output_file_name = f'{output_dir}/{os.path.basename(input_file_name)}.out'\n",
    "\n",
    "    os.makedirs(os.path.dirname(input_file_name), exist_ok=True)\n",
    "    os.makedirs(os.path.dirname(output_file_name), exist_ok=True)\n",
    "\n",
    "    input_data = json.dumps(data) if content_type == 'application/json' else data\n",
    "\n",
    "    # Write input data to file\n",
    "    with open(input_file_name, 'w') as f:\n",
    "        f.write(input_data)\n",
    "\n",
    "    # Upload input data to S3\n",
    "    s3_client.put_object(Bucket=s3_bucket, Key=f\"{s3_input_dir}/{os.path.basename(input_file_name)}\", Body=bytes(input_data.encode('UTF-8')))\n",
    "\n",
    "    # Invoke the SageMaker endpoint\n",
    "    response = sm_runtime.invoke_endpoint(\n",
    "        EndpointName=model_name,\n",
    "        ContentType=content_type,\n",
    "        Accept=accept,\n",
    "        Body=input_data,\n",
    "    )\n",
    "\n",
    "    # Read response data\n",
    "    response_data = json.loads(response[\"Body\"].read().decode(\"utf-8\")) if accept == 'application/json' else response['Body'].read().decode('utf-8')\n",
    "\n",
    "    # Save response data to file\n",
    "    with open(output_file_name, 'w') as f_out:\n",
    "        if accept == 'application/json':\n",
    "            json.dump(response_data, f_out, indent=4)\n",
    "        else:\n",
    "            for item in response_data.split('\\n'):\n",
    "                f_out.write(item + '\\n')\n",
    "\n",
    "    # Upload response data to S3\n",
    "    output_s3_key = f\"{s3_output_dir}/{os.path.basename(output_file_name)}\"\n",
    "    if accept == 'application/json':\n",
    "        s3_client.put_object(Bucket=s3_bucket, Key=output_s3_key, Body=json.dumps(response_data).encode('UTF-8'))\n",
    "    else:\n",
    "        s3_client.put_object(Bucket=s3_bucket, Key=output_s3_key, Body=response_data)\n",
    "\n",
    "    return response_data"
   ]
  },
  {
   "cell_type": "markdown",
   "metadata": {},
   "source": [
    "### Initial Setup"
   ]
  },
  {
   "cell_type": "code",
   "execution_count": 8,
   "metadata": {
    "tags": []
   },
   "outputs": [],
   "source": [
    "docs = [\n",
    "    \"\"\"The patient is a 40-year-old white male who presents with a chief complaint of \"chest pain\". The patient is diabetic and has a prior history of coronary artery disease. The patient presents today stating that his chest pain started yesterday evening and has been somewhat intermittent. He has been advised Aspirin 81 milligrams QDay. Humulin N. insulin 50 units in a.m. Hydrochlorothiazide 50 mg QDay. Nitroglycerin 1/150 sublingually PRN chest pain.\"\"\",\n",
    "    \"\"\"Two weeks prior to presentation , she was treated with a five-day course of amoxicillin for a respiratory tract infection . She was on metformin , glipizide , and dapagliflozin for T2DM and atorvastatin and gemfibrozil for HTG . She had been on dapagliflozin for six months at the time of presentation .The patient was seen by the endocrinology service and she was discharged on 40 units of insulin glargine at night , 12 units of insulin lispro with meals , and metformin 1000 mg two times a day.\"\"\",\n",
    "]\n",
    "\n",
    "sample_text = \"\"\"Mary received a mechanical prosthetic heart valve in June 2020, and the results were successful. Diabetes screening test performed, revealing abnormal result. She uses infusion pump for diabetes and a CPAP machine for sleep apnea. In 2021, She received a breast prosthesis implant.\"\"\""
   ]
  },
  {
   "cell_type": "markdown",
   "metadata": {},
   "source": [
    "### JSON"
   ]
  },
  {
   "cell_type": "code",
   "execution_count": 9,
   "metadata": {
    "tags": []
   },
   "outputs": [
    {
     "data": {
      "text/html": [
       "<div>\n",
       "<style scoped>\n",
       "    .dataframe tbody tr th:only-of-type {\n",
       "        vertical-align: middle;\n",
       "    }\n",
       "\n",
       "    .dataframe tbody tr th {\n",
       "        vertical-align: top;\n",
       "    }\n",
       "\n",
       "    .dataframe thead th {\n",
       "        text-align: right;\n",
       "    }\n",
       "</style>\n",
       "<table border=\"1\" class=\"dataframe\">\n",
       "  <thead>\n",
       "    <tr style=\"text-align: right;\">\n",
       "      <th></th>\n",
       "      <th>ner_chunk</th>\n",
       "      <th>begin</th>\n",
       "      <th>end</th>\n",
       "      <th>ner_label</th>\n",
       "      <th>ner_confidence</th>\n",
       "      <th>code</th>\n",
       "      <th>resolution</th>\n",
       "      <th>all_k_codes</th>\n",
       "      <th>all_k_resolutions</th>\n",
       "      <th>all_k_distances</th>\n",
       "    </tr>\n",
       "  </thead>\n",
       "  <tbody>\n",
       "    <tr>\n",
       "      <th>0</th>\n",
       "      <td>a mechanical prosthetic heart valve</td>\n",
       "      <td>14</td>\n",
       "      <td>48</td>\n",
       "      <td>PROCEDURE</td>\n",
       "      <td>0.83616</td>\n",
       "      <td>G0043</td>\n",
       "      <td>Patients with mechanical prosthetic heart valve</td>\n",
       "      <td>G0043:::C1824:::L8698:::Q0508:::C1764:::C1883:::   AV:::V5095:::L8699:::C1899:::L8615:::C1817:::L8630:::   RA:::V5273:::Q0507:::L8627:::L8616:::L8628:::L7510:::C1785:::L8618:::L8619:::Q0478:::A4612</td>\n",
       "      <td>Patients with mechanical prosthetic heart valve:::Generator, cardiac contractility modulation (implantable):::Miscellaneous component, supply or accessory for use with total artificial heart system:::Miscellaneous supply or accessory for use with an implanted ventricular assist device:::Event recorder, cardiac (implantable):::Adapter/extension, pacing lead or neurostimulator lead (implantable):::Item furnished in conjunction with a prosthetic device, prosthetic or orthotic:::Semi-implantable middle ear hearing prosthesis:::Prosthetic implant, not otherwise specified:::Lead, pacemaker/cardioverter-defibrillator combination (implantable):::Headset/headpiece for use with cochlear implant device, replacement:::Septal defect implant system, intracardiac:::Metacarpophalangeal joint implant:::Replacement of a dme, orthotic or prosthetic item:::Assistive listening device, for use with cochlear implant:::Miscellaneous supply or accessory for use with an external ventricular assist device:::Cochlear implant, external speech processor, component, replacement:::Microphone for use with cochlear implant device, replacement:::Cochlear implant, external controller component, replacement:::Repair of prosthetic device, repair or replace minor parts:::Pacemaker, dual chamber, rate-responsive (implantable):::Transmitter cable for use with cochlear implant device or auditory osseointegrated device, replacement:::Cochlear implant, external speech processor and controller, integrated system, replacement:::Power adapter for use with electric or electric/pneumatic ventricular assist device, vehicle type:::Battery cables; replacement for patient-owned ventilator</td>\n",
       "      <td>5.0285:::12.0859:::12.1701:::12.4047:::12.6035:::12.7683:::12.7944:::12.8725:::13.0988:::13.2692:::13.3015:::13.3538:::13.3684:::13.3699:::13.3699:::13.4406:::13.4473:::13.4595:::13.4826:::13.5638:::13.5843:::13.5895:::13.6011:::13.6032:::13.6326</td>\n",
       "    </tr>\n",
       "    <tr>\n",
       "      <th>1</th>\n",
       "      <td>infusion pump</td>\n",
       "      <td>168</td>\n",
       "      <td>180</td>\n",
       "      <td>PROCEDURE</td>\n",
       "      <td>0.95785</td>\n",
       "      <td>C1772</td>\n",
       "      <td>Infusion pump, programmable (implantable)</td>\n",
       "      <td>C1772:::   JA:::C1754:::A4220:::   SH:::B9004:::S9007:::B9002:::C1887:::A9277:::C2626:::C1729:::E0785:::C1755:::J9031:::E0791:::C1788:::A4353:::A4620:::   KD:::K0105:::E0784:::A9278:::A4480:::C1821</td>\n",
       "      <td>Infusion pump, programmable (implantable):::Administered intravenously:::Catheter, intradiscal:::Refill kit for implantable infusion pump:::Second concurrently administered infusion therapy:::Parenteral nutrition infusion pump, portable:::Ultrafiltration monitor:::Enteral nutrition infusion pump, any type:::Catheter, guiding (may include infusion/perfusion capability):::Transmitter; external, for use with interstitial continuous glucose monitoring system:::Infusion pump, non-programmable, temporary (implantable):::Catheter, drainage:::Implantable intraspinal (epidural/intrathecal) catheter used with implantable infusion pump, replacement:::Catheter, intraspinal:::Bcg (intravesical) per instillation:::Parenteral infusion pump, stationary, single or multi-channel:::Port, indwelling (implantable):::Intermittent urinary catheter, with insertion supplies:::Variable concentration mask:::Drug or biological infused through dme:::Iv hanger, each:::External ambulatory infusion pump, insulin:::Receiver (monitor); external, for use with interstitial continuous glucose monitoring system:::Vabra aspirator:::Interspinous process distraction device (implantable)</td>\n",
       "      <td>9.3487:::10.7028:::11.1157:::11.2839:::11.5007:::11.5293:::11.5971:::11.6919:::11.7318:::11.7456:::11.7574:::11.8079:::11.9601:::12.1554:::12.1567:::12.1791:::12.2640:::12.2825:::12.3008:::12.3038:::12.3786:::12.3827:::12.3878:::12.5546:::12.5996</td>\n",
       "    </tr>\n",
       "    <tr>\n",
       "      <th>2</th>\n",
       "      <td>a CPAP machine</td>\n",
       "      <td>199</td>\n",
       "      <td>212</td>\n",
       "      <td>PROCEDURE</td>\n",
       "      <td>0.955</td>\n",
       "      <td>E0601</td>\n",
       "      <td>Continuous positive airway pressure (cpap) device</td>\n",
       "      <td>E0601:::Q4246:::E0570:::E0860:::E0942:::E0457:::C1880:::L0972:::L0970:::   FY:::E2610:::E0840:::E0980:::E0985:::T2039:::V5170:::A7036:::G9674:::G6045:::   KC:::E2207:::E0459:::G1008:::M1027:::   ZB</td>\n",
       "      <td>Continuous positive airway pressure (cpap) device:::Coretext or protext, per cc:::Nebulizer, with compressor:::Traction equipment, overdoor, cervical:::Cervical head harness/halter:::Chest shell (cuirass):::Vena cava filter:::Lso, corset front:::Tlso, corset front:::X-ray taken using computed radiography technology/cassette-based imaging:::Wheelchair seat cushion, powered:::Traction frame, attached to headboard, cervical traction:::Safety vest, wheelchair:::Wheelchair accessory, seat lift mechanism:::Vehicle modifications, waiver; per service:::Hearing aid, cros, in the ear:::Chinstrap used with positive airway pressure device:::Patients with clinical ascvd diagnosis:::Dihydrocodeinone:::Replacement of special power wheelchair interface:::Wheelchair accessory, crutch and cane holder, each:::Chest wrap:::Clinical decision support mechanism cranberry peak, as defined by the medicare appropriate use criteria program:::Imaging of the head (ct or mri) was obtained:::Pfizer/hospira</td>\n",
       "      <td>10.9960:::12.0122:::12.3528:::12.4117:::13.0086:::13.0612:::13.3226:::13.3912:::13.5416:::13.5481:::13.5779:::13.7518:::13.8358:::13.8915:::13.9224:::14.0538:::14.1232:::14.1297:::14.1485:::14.1894:::14.2506:::14.2616:::14.2706:::14.3001:::14.3122</td>\n",
       "    </tr>\n",
       "    <tr>\n",
       "      <th>3</th>\n",
       "      <td>a breast prosthesis implant</td>\n",
       "      <td>253</td>\n",
       "      <td>279</td>\n",
       "      <td>PROCEDURE</td>\n",
       "      <td>0.902725</td>\n",
       "      <td>C1789</td>\n",
       "      <td>Prosthesis, breast (implantable)</td>\n",
       "      <td>C1789:::L8600:::L8010:::L8020:::L8031:::L8039:::A4282:::A4281:::G9829:::L8015:::L8035:::G9704:::A4283:::A4286:::A4280:::A4285:::A4284:::C8906:::J7307:::J7306:::S4989:::G0279:::G9831:::C8903:::L8002</td>\n",
       "      <td>Prosthesis, breast (implantable):::Implantable breast prosthesis, silicone or equal:::Breast prosthesis, mastectomy sleeve:::Breast prosthesis, mastectomy form:::Breast prosthesis, silicone or equal, with integral adhesive:::Breast prosthesis, not otherwise specified:::Adapter for breast pump, replacement:::Tubing for breast pump, replacement:::Breast adjuvant chemotherapy administered:::External breast prosthesis garment, with mastectomy form, post mastectomy:::Custom breast prosthesis, post mastectomy, molded to patient model:::Ajcc breast cancer stage i: t1 mic or t1a documented:::Cap for breast pump bottle, replacement:::Locking ring for breast pump, replacement:::Adhesive skin support attachment for use with external breast prosthesis, each:::Polycarbonate bottle for use with breast pump, replacement:::Breast shield and splash protector for use with breast pump, replacement:::Magnetic resonance imaging with contrast, breast; bilateral:::Etonogestrel (contraceptive) implant system, including implant and supplies:::Levonorgestrel (contraceptive) implant system, including implants and supplies:::Contraceptive intrauterine device (e.g., progestacert iud), including implants and supplies:::Diagnostic digital breast tomosynthesis, unilateral or bilateral (list separately in addition to 77065 or 77066):::Ajcc stage at breast cancer diagnosis = ii or iii:::Magnetic resonance imaging with contrast, breast; unilateral:::Breast prosthesis, mastectomy bra, with integrated breast prosthesis form, bilateral, any size, any type</td>\n",
       "      <td>7.1920:::8.7572:::9.7096:::10.0615:::10.3452:::10.4775:::11.2992:::12.0274:::12.2290:::12.4955:::12.6632:::12.6847:::12.8470:::12.9524:::12.9539:::12.9852:::13.0795:::13.4764:::13.5537:::13.7778:::13.8214:::13.8417:::13.8601:::13.9193:::13.9341</td>\n",
       "    </tr>\n",
       "  </tbody>\n",
       "</table>\n",
       "</div>"
      ],
      "text/plain": [
       "                             ner_chunk  begin  end  ner_label ner_confidence  \\\n",
       "0  a mechanical prosthetic heart valve     14   48  PROCEDURE        0.83616   \n",
       "1                        infusion pump    168  180  PROCEDURE        0.95785   \n",
       "2                       a CPAP machine    199  212  PROCEDURE          0.955   \n",
       "3          a breast prosthesis implant    253  279  PROCEDURE       0.902725   \n",
       "\n",
       "    code                                         resolution  \\\n",
       "0  G0043    Patients with mechanical prosthetic heart valve   \n",
       "1  C1772          Infusion pump, programmable (implantable)   \n",
       "2  E0601  Continuous positive airway pressure (cpap) device   \n",
       "3  C1789                   Prosthesis, breast (implantable)   \n",
       "\n",
       "                                                                                                                                                                                             all_k_codes  \\\n",
       "0  G0043:::C1824:::L8698:::Q0508:::C1764:::C1883:::   AV:::V5095:::L8699:::C1899:::L8615:::C1817:::L8630:::   RA:::V5273:::Q0507:::L8627:::L8616:::L8628:::L7510:::C1785:::L8618:::L8619:::Q0478:::A4612   \n",
       "1  C1772:::   JA:::C1754:::A4220:::   SH:::B9004:::S9007:::B9002:::C1887:::A9277:::C2626:::C1729:::E0785:::C1755:::J9031:::E0791:::C1788:::A4353:::A4620:::   KD:::K0105:::E0784:::A9278:::A4480:::C1821   \n",
       "2  E0601:::Q4246:::E0570:::E0860:::E0942:::E0457:::C1880:::L0972:::L0970:::   FY:::E2610:::E0840:::E0980:::E0985:::T2039:::V5170:::A7036:::G9674:::G6045:::   KC:::E2207:::E0459:::G1008:::M1027:::   ZB   \n",
       "3  C1789:::L8600:::L8010:::L8020:::L8031:::L8039:::A4282:::A4281:::G9829:::L8015:::L8035:::G9704:::A4283:::A4286:::A4280:::A4285:::A4284:::C8906:::J7307:::J7306:::S4989:::G0279:::G9831:::C8903:::L8002   \n",
       "\n",
       "                                                                                                                                                                                                                                                                                                                                                                                                                                                                                                                                                                                                                                                                                                                                                                                                                                                                                                                                                                                                                                                                                                                                                                                                                                                                                                                                                                                                                                                                                                                                                                                                                                                                                                                  all_k_resolutions  \\\n",
       "0  Patients with mechanical prosthetic heart valve:::Generator, cardiac contractility modulation (implantable):::Miscellaneous component, supply or accessory for use with total artificial heart system:::Miscellaneous supply or accessory for use with an implanted ventricular assist device:::Event recorder, cardiac (implantable):::Adapter/extension, pacing lead or neurostimulator lead (implantable):::Item furnished in conjunction with a prosthetic device, prosthetic or orthotic:::Semi-implantable middle ear hearing prosthesis:::Prosthetic implant, not otherwise specified:::Lead, pacemaker/cardioverter-defibrillator combination (implantable):::Headset/headpiece for use with cochlear implant device, replacement:::Septal defect implant system, intracardiac:::Metacarpophalangeal joint implant:::Replacement of a dme, orthotic or prosthetic item:::Assistive listening device, for use with cochlear implant:::Miscellaneous supply or accessory for use with an external ventricular assist device:::Cochlear implant, external speech processor, component, replacement:::Microphone for use with cochlear implant device, replacement:::Cochlear implant, external controller component, replacement:::Repair of prosthetic device, repair or replace minor parts:::Pacemaker, dual chamber, rate-responsive (implantable):::Transmitter cable for use with cochlear implant device or auditory osseointegrated device, replacement:::Cochlear implant, external speech processor and controller, integrated system, replacement:::Power adapter for use with electric or electric/pneumatic ventricular assist device, vehicle type:::Battery cables; replacement for patient-owned ventilator   \n",
       "1                                                                                                                                                                                                                                                                                                                                                                                                                                                                                                                      Infusion pump, programmable (implantable):::Administered intravenously:::Catheter, intradiscal:::Refill kit for implantable infusion pump:::Second concurrently administered infusion therapy:::Parenteral nutrition infusion pump, portable:::Ultrafiltration monitor:::Enteral nutrition infusion pump, any type:::Catheter, guiding (may include infusion/perfusion capability):::Transmitter; external, for use with interstitial continuous glucose monitoring system:::Infusion pump, non-programmable, temporary (implantable):::Catheter, drainage:::Implantable intraspinal (epidural/intrathecal) catheter used with implantable infusion pump, replacement:::Catheter, intraspinal:::Bcg (intravesical) per instillation:::Parenteral infusion pump, stationary, single or multi-channel:::Port, indwelling (implantable):::Intermittent urinary catheter, with insertion supplies:::Variable concentration mask:::Drug or biological infused through dme:::Iv hanger, each:::External ambulatory infusion pump, insulin:::Receiver (monitor); external, for use with interstitial continuous glucose monitoring system:::Vabra aspirator:::Interspinous process distraction device (implantable)   \n",
       "2                                                                                                                                                                                                                                                                                                                                                                                                                                                                                                                                                                                                                                                                                                    Continuous positive airway pressure (cpap) device:::Coretext or protext, per cc:::Nebulizer, with compressor:::Traction equipment, overdoor, cervical:::Cervical head harness/halter:::Chest shell (cuirass):::Vena cava filter:::Lso, corset front:::Tlso, corset front:::X-ray taken using computed radiography technology/cassette-based imaging:::Wheelchair seat cushion, powered:::Traction frame, attached to headboard, cervical traction:::Safety vest, wheelchair:::Wheelchair accessory, seat lift mechanism:::Vehicle modifications, waiver; per service:::Hearing aid, cros, in the ear:::Chinstrap used with positive airway pressure device:::Patients with clinical ascvd diagnosis:::Dihydrocodeinone:::Replacement of special power wheelchair interface:::Wheelchair accessory, crutch and cane holder, each:::Chest wrap:::Clinical decision support mechanism cranberry peak, as defined by the medicare appropriate use criteria program:::Imaging of the head (ct or mri) was obtained:::Pfizer/hospira   \n",
       "3                                                                                                                           Prosthesis, breast (implantable):::Implantable breast prosthesis, silicone or equal:::Breast prosthesis, mastectomy sleeve:::Breast prosthesis, mastectomy form:::Breast prosthesis, silicone or equal, with integral adhesive:::Breast prosthesis, not otherwise specified:::Adapter for breast pump, replacement:::Tubing for breast pump, replacement:::Breast adjuvant chemotherapy administered:::External breast prosthesis garment, with mastectomy form, post mastectomy:::Custom breast prosthesis, post mastectomy, molded to patient model:::Ajcc breast cancer stage i: t1 mic or t1a documented:::Cap for breast pump bottle, replacement:::Locking ring for breast pump, replacement:::Adhesive skin support attachment for use with external breast prosthesis, each:::Polycarbonate bottle for use with breast pump, replacement:::Breast shield and splash protector for use with breast pump, replacement:::Magnetic resonance imaging with contrast, breast; bilateral:::Etonogestrel (contraceptive) implant system, including implant and supplies:::Levonorgestrel (contraceptive) implant system, including implants and supplies:::Contraceptive intrauterine device (e.g., progestacert iud), including implants and supplies:::Diagnostic digital breast tomosynthesis, unilateral or bilateral (list separately in addition to 77065 or 77066):::Ajcc stage at breast cancer diagnosis = ii or iii:::Magnetic resonance imaging with contrast, breast; unilateral:::Breast prosthesis, mastectomy bra, with integrated breast prosthesis form, bilateral, any size, any type   \n",
       "\n",
       "                                                                                                                                                                                                                                           all_k_distances  \n",
       "0   5.0285:::12.0859:::12.1701:::12.4047:::12.6035:::12.7683:::12.7944:::12.8725:::13.0988:::13.2692:::13.3015:::13.3538:::13.3684:::13.3699:::13.3699:::13.4406:::13.4473:::13.4595:::13.4826:::13.5638:::13.5843:::13.5895:::13.6011:::13.6032:::13.6326  \n",
       "1   9.3487:::10.7028:::11.1157:::11.2839:::11.5007:::11.5293:::11.5971:::11.6919:::11.7318:::11.7456:::11.7574:::11.8079:::11.9601:::12.1554:::12.1567:::12.1791:::12.2640:::12.2825:::12.3008:::12.3038:::12.3786:::12.3827:::12.3878:::12.5546:::12.5996  \n",
       "2  10.9960:::12.0122:::12.3528:::12.4117:::13.0086:::13.0612:::13.3226:::13.3912:::13.5416:::13.5481:::13.5779:::13.7518:::13.8358:::13.8915:::13.9224:::14.0538:::14.1232:::14.1297:::14.1485:::14.1894:::14.2506:::14.2616:::14.2706:::14.3001:::14.3122  \n",
       "3     7.1920:::8.7572:::9.7096:::10.0615:::10.3452:::10.4775:::11.2992:::12.0274:::12.2290:::12.4955:::12.6632:::12.6847:::12.8470:::12.9524:::12.9539:::12.9852:::13.0795:::13.4764:::13.5537:::13.7778:::13.8214:::13.8417:::13.8601:::13.9193:::13.9341  "
      ]
     },
     "execution_count": 9,
     "metadata": {},
     "output_type": "execute_result"
    }
   ],
   "source": [
    "input_json_data = {\"text\": sample_text}\n",
    "data =  process_data_and_invoke_realtime_endpoint(input_json_data, content_type=\"application/json\" , accept=\"application/json\" )\n",
    "pd.DataFrame(data[\"predictions\"][0])"
   ]
  },
  {
   "cell_type": "markdown",
   "metadata": {},
   "source": [
    "### JSON Lines"
   ]
  },
  {
   "cell_type": "code",
   "execution_count": 10,
   "metadata": {
    "tags": []
   },
   "outputs": [],
   "source": [
    "import json\n",
    "\n",
    "def create_jsonl(records):\n",
    "\n",
    "    if isinstance(records, str):\n",
    "        records = [records]\n",
    "\n",
    "    json_records = []\n",
    "\n",
    "    for text in records:\n",
    "        record = {\n",
    "            \"text\": text\n",
    "        }\n",
    "        json_records.append(record)\n",
    "\n",
    "    json_lines = '\\n'.join(json.dumps(record) for record in json_records)\n",
    "\n",
    "    return json_lines"
   ]
  },
  {
   "cell_type": "code",
   "execution_count": 11,
   "metadata": {
    "tags": []
   },
   "outputs": [
    {
     "name": "stdout",
     "output_type": "stream",
     "text": [
      "{\"predictions\": [{\"ner_chunk\": \"a mechanical prosthetic heart valve\", \"begin\": 14, \"end\": 48, \"ner_label\": \"PROCEDURE\", \"ner_confidence\": \"0.83616\", \"code\": \"G0043\", \"resolution\": \"Patients with mechanical prosthetic heart valve\", \"all_k_codes\": \"G0043:::C1824:::L8698:::Q0508:::C1764:::C1883:::   AV:::V5095:::L8699:::C1899:::L8615:::C1817:::L8630:::   RA:::V5273:::Q0507:::L8627:::L8616:::L8628:::L7510:::C1785:::L8618:::L8619:::Q0478:::A4612\", \"all_k_resolutions\": \"Patients with mechanical prosthetic heart valve:::Generator, cardiac contractility modulation (implantable):::Miscellaneous component, supply or accessory for use with total artificial heart system:::Miscellaneous supply or accessory for use with an implanted ventricular assist device:::Event recorder, cardiac (implantable):::Adapter/extension, pacing lead or neurostimulator lead (implantable):::Item furnished in conjunction with a prosthetic device, prosthetic or orthotic:::Semi-implantable middle ear hearing prosthesis:::Prosthetic implant, not otherwise specified:::Lead, pacemaker/cardioverter-defibrillator combination (implantable):::Headset/headpiece for use with cochlear implant device, replacement:::Septal defect implant system, intracardiac:::Metacarpophalangeal joint implant:::Replacement of a dme, orthotic or prosthetic item:::Assistive listening device, for use with cochlear implant:::Miscellaneous supply or accessory for use with an external ventricular assist device:::Cochlear implant, external speech processor, component, replacement:::Microphone for use with cochlear implant device, replacement:::Cochlear implant, external controller component, replacement:::Repair of prosthetic device, repair or replace minor parts:::Pacemaker, dual chamber, rate-responsive (implantable):::Transmitter cable for use with cochlear implant device or auditory osseointegrated device, replacement:::Cochlear implant, external speech processor and controller, integrated system, replacement:::Power adapter for use with electric or electric/pneumatic ventricular assist device, vehicle type:::Battery cables; replacement for patient-owned ventilator\", \"all_k_distances\": \"5.0285:::12.0859:::12.1701:::12.4047:::12.6035:::12.7683:::12.7944:::12.8725:::13.0988:::13.2692:::13.3015:::13.3538:::13.3684:::13.3699:::13.3699:::13.4406:::13.4473:::13.4595:::13.4826:::13.5638:::13.5843:::13.5895:::13.6011:::13.6032:::13.6326\"}, {\"ner_chunk\": \"infusion pump\", \"begin\": 168, \"end\": 180, \"ner_label\": \"PROCEDURE\", \"ner_confidence\": \"0.95785\", \"code\": \"C1772\", \"resolution\": \"Infusion pump, programmable (implantable)\", \"all_k_codes\": \"C1772:::   JA:::C1754:::A4220:::   SH:::B9004:::S9007:::B9002:::C1887:::A9277:::C2626:::C1729:::E0785:::C1755:::J9031:::E0791:::C1788:::A4353:::A4620:::   KD:::K0105:::E0784:::A9278:::A4480:::C1821\", \"all_k_resolutions\": \"Infusion pump, programmable (implantable):::Administered intravenously:::Catheter, intradiscal:::Refill kit for implantable infusion pump:::Second concurrently administered infusion therapy:::Parenteral nutrition infusion pump, portable:::Ultrafiltration monitor:::Enteral nutrition infusion pump, any type:::Catheter, guiding (may include infusion/perfusion capability):::Transmitter; external, for use with interstitial continuous glucose monitoring system:::Infusion pump, non-programmable, temporary (implantable):::Catheter, drainage:::Implantable intraspinal (epidural/intrathecal) catheter used with implantable infusion pump, replacement:::Catheter, intraspinal:::Bcg (intravesical) per instillation:::Parenteral infusion pump, stationary, single or multi-channel:::Port, indwelling (implantable):::Intermittent urinary catheter, with insertion supplies:::Variable concentration mask:::Drug or biological infused through dme:::Iv hanger, each:::External ambulatory infusion pump, insulin:::Receiver (monitor); external, for use with interstitial continuous glucose monitoring system:::Vabra aspirator:::Interspinous process distraction device (implantable)\", \"all_k_distances\": \"9.3487:::10.7028:::11.1157:::11.2839:::11.5007:::11.5293:::11.5971:::11.6919:::11.7318:::11.7456:::11.7574:::11.8079:::11.9601:::12.1554:::12.1567:::12.1791:::12.2640:::12.2825:::12.3008:::12.3038:::12.3786:::12.3827:::12.3878:::12.5546:::12.5996\"}, {\"ner_chunk\": \"a CPAP machine\", \"begin\": 199, \"end\": 212, \"ner_label\": \"PROCEDURE\", \"ner_confidence\": \"0.955\", \"code\": \"E0601\", \"resolution\": \"Continuous positive airway pressure (cpap) device\", \"all_k_codes\": \"E0601:::Q4246:::E0570:::E0860:::E0942:::E0457:::C1880:::L0972:::L0970:::   FY:::E2610:::E0840:::E0980:::E0985:::T2039:::V5170:::A7036:::G9674:::G6045:::   KC:::E2207:::E0459:::G1008:::M1027:::   ZB\", \"all_k_resolutions\": \"Continuous positive airway pressure (cpap) device:::Coretext or protext, per cc:::Nebulizer, with compressor:::Traction equipment, overdoor, cervical:::Cervical head harness/halter:::Chest shell (cuirass):::Vena cava filter:::Lso, corset front:::Tlso, corset front:::X-ray taken using computed radiography technology/cassette-based imaging:::Wheelchair seat cushion, powered:::Traction frame, attached to headboard, cervical traction:::Safety vest, wheelchair:::Wheelchair accessory, seat lift mechanism:::Vehicle modifications, waiver; per service:::Hearing aid, cros, in the ear:::Chinstrap used with positive airway pressure device:::Patients with clinical ascvd diagnosis:::Dihydrocodeinone:::Replacement of special power wheelchair interface:::Wheelchair accessory, crutch and cane holder, each:::Chest wrap:::Clinical decision support mechanism cranberry peak, as defined by the medicare appropriate use criteria program:::Imaging of the head (ct or mri) was obtained:::Pfizer/hospira\", \"all_k_distances\": \"10.9960:::12.0122:::12.3528:::12.4117:::13.0086:::13.0612:::13.3226:::13.3912:::13.5416:::13.5481:::13.5779:::13.7518:::13.8358:::13.8915:::13.9224:::14.0538:::14.1232:::14.1297:::14.1485:::14.1894:::14.2506:::14.2616:::14.2706:::14.3001:::14.3122\"}, {\"ner_chunk\": \"a breast prosthesis implant\", \"begin\": 253, \"end\": 279, \"ner_label\": \"PROCEDURE\", \"ner_confidence\": \"0.902725\", \"code\": \"C1789\", \"resolution\": \"Prosthesis, breast (implantable)\", \"all_k_codes\": \"C1789:::L8600:::L8010:::L8020:::L8031:::L8039:::A4282:::A4281:::G9829:::L8015:::L8035:::G9704:::A4283:::A4286:::A4280:::A4285:::A4284:::C8906:::J7307:::J7306:::S4989:::G0279:::G9831:::C8903:::L8002\", \"all_k_resolutions\": \"Prosthesis, breast (implantable):::Implantable breast prosthesis, silicone or equal:::Breast prosthesis, mastectomy sleeve:::Breast prosthesis, mastectomy form:::Breast prosthesis, silicone or equal, with integral adhesive:::Breast prosthesis, not otherwise specified:::Adapter for breast pump, replacement:::Tubing for breast pump, replacement:::Breast adjuvant chemotherapy administered:::External breast prosthesis garment, with mastectomy form, post mastectomy:::Custom breast prosthesis, post mastectomy, molded to patient model:::Ajcc breast cancer stage i: t1 mic or t1a documented:::Cap for breast pump bottle, replacement:::Locking ring for breast pump, replacement:::Adhesive skin support attachment for use with external breast prosthesis, each:::Polycarbonate bottle for use with breast pump, replacement:::Breast shield and splash protector for use with breast pump, replacement:::Magnetic resonance imaging with contrast, breast; bilateral:::Etonogestrel (contraceptive) implant system, including implant and supplies:::Levonorgestrel (contraceptive) implant system, including implants and supplies:::Contraceptive intrauterine device (e.g., progestacert iud), including implants and supplies:::Diagnostic digital breast tomosynthesis, unilateral or bilateral (list separately in addition to 77065 or 77066):::Ajcc stage at breast cancer diagnosis = ii or iii:::Magnetic resonance imaging with contrast, breast; unilateral:::Breast prosthesis, mastectomy bra, with integrated breast prosthesis form, bilateral, any size, any type\", \"all_k_distances\": \"7.1920:::8.7572:::9.7096:::10.0615:::10.3452:::10.4775:::11.2992:::12.0274:::12.2290:::12.4955:::12.6632:::12.6847:::12.8470:::12.9524:::12.9539:::12.9852:::13.0795:::13.4764:::13.5537:::13.7778:::13.8214:::13.8417:::13.8601:::13.9193:::13.9341\"}]}\n"
     ]
    }
   ],
   "source": [
    "input_jsonl_data = create_jsonl(sample_text)\n",
    "data = process_data_and_invoke_realtime_endpoint(input_jsonl_data, content_type=\"application/jsonlines\" , accept=\"application/jsonlines\" )\n",
    "print(data)"
   ]
  },
  {
   "cell_type": "markdown",
   "metadata": {},
   "source": [
    "### B. Delete the endpoint"
   ]
  },
  {
   "cell_type": "markdown",
   "metadata": {},
   "source": [
    "Now that you have successfully performed a real-time inference, you do not need the endpoint any more. You can terminate the endpoint to avoid being charged."
   ]
  },
  {
   "cell_type": "code",
   "execution_count": 12,
   "metadata": {
    "tags": []
   },
   "outputs": [],
   "source": [
    "model.sagemaker_session.delete_endpoint(model_name)\n",
    "model.sagemaker_session.delete_endpoint_config(model_name)"
   ]
  },
  {
   "cell_type": "markdown",
   "metadata": {
    "tags": []
   },
   "source": [
    "## 4. Batch inference"
   ]
  },
  {
   "cell_type": "code",
   "execution_count": 13,
   "metadata": {
    "tags": []
   },
   "outputs": [],
   "source": [
    "import json\n",
    "import os\n",
    "\n",
    "input_dir = 'inputs/batch'\n",
    "json_input_dir = f\"{input_dir}/json\"\n",
    "jsonl_input_dir = f\"{input_dir}/jsonl\"\n",
    "\n",
    "output_dir = 'outputs/batch'\n",
    "json_output_dir = f\"{output_dir}/json\"\n",
    "jsonl_output_dir = f\"{output_dir}/jsonl\"\n",
    "\n",
    "os.makedirs(json_input_dir, exist_ok=True)\n",
    "os.makedirs(jsonl_input_dir, exist_ok=True)\n",
    "os.makedirs(json_output_dir, exist_ok=True)\n",
    "os.makedirs(jsonl_output_dir, exist_ok=True)\n",
    "\n",
    "validation_json_file_name = \"input.json\"\n",
    "\n",
    "validation_jsonl_file_name = \"input.jsonl\"\n",
    "\n",
    "validation_input_json_path = f\"s3://{s3_bucket}/{model_name}/validation-input/batch/json/\"\n",
    "validation_output_json_path = f\"s3://{s3_bucket}/{model_name}/validation-output/batch/json/\"\n",
    "\n",
    "validation_input_jsonl_path = f\"s3://{s3_bucket}/{model_name}/validation-input/batch/jsonl/\"\n",
    "validation_output_jsonl_path = f\"s3://{s3_bucket}/{model_name}/validation-output/batch/jsonl/\"\n",
    "\n",
    "def write_and_upload_to_s3(input_data, file_name):\n",
    "    file_format = os.path.splitext(file_name)[1].lower()\n",
    "    if file_format == \".json\":\n",
    "        input_data = json.dumps(input_data)\n",
    "\n",
    "    with open(file_name, \"w\") as f:\n",
    "        f.write(input_data)\n",
    "\n",
    "    s3_client.put_object(\n",
    "        Bucket=s3_bucket,\n",
    "        Key=f\"{model_name}/validation-input/batch/{file_format[1:]}/{os.path.basename(file_name)}\",\n",
    "        Body=(bytes(input_data.encode(\"UTF-8\"))),\n",
    "    )"
   ]
  },
  {
   "cell_type": "code",
   "execution_count": 14,
   "metadata": {
    "tags": []
   },
   "outputs": [],
   "source": [
    "input_jsonl_data = create_jsonl(docs)\n",
    "input_json_data = {\"text\": docs}\n",
    "\n",
    "write_and_upload_to_s3(input_json_data, f\"{json_input_dir}/{validation_json_file_name}\")\n",
    "\n",
    "write_and_upload_to_s3(input_jsonl_data, f\"{jsonl_input_dir}/{validation_jsonl_file_name}\")"
   ]
  },
  {
   "cell_type": "markdown",
   "metadata": {},
   "source": [
    "### JSON"
   ]
  },
  {
   "cell_type": "code",
   "execution_count": null,
   "metadata": {
    "tags": []
   },
   "outputs": [],
   "source": [
    "# Initialize a SageMaker Transformer object for making predictions\n",
    "transformer = model.transformer(\n",
    "    instance_count=1,\n",
    "    instance_type=batch_transform_inference_instance_type,\n",
    "    accept=\"application/json\",\n",
    "    output_path=validation_output_json_path\n",
    ")\n",
    "\n",
    "transformer.transform(validation_input_json_path, content_type=\"application/json\")\n",
    "transformer.wait()"
   ]
  },
  {
   "cell_type": "code",
   "execution_count": 16,
   "metadata": {
    "tags": []
   },
   "outputs": [],
   "source": [
    "from urllib.parse import urlparse\n",
    "\n",
    "def process_s3_json_output_and_save(validation_file_name):\n",
    "\n",
    "    output_file_path = f\"{json_output_dir}/{validation_file_name}.out\"\n",
    "    parsed_url = urlparse(transformer.output_path)\n",
    "    file_key = f\"{parsed_url.path[1:]}{validation_file_name}.out\"\n",
    "    response = s3_client.get_object(Bucket=s3_bucket, Key=file_key)\n",
    "\n",
    "    data = json.loads(response[\"Body\"].read().decode(\"utf-8\"))\n",
    "    display(data)\n",
    "\n",
    "    # Save the data to the output file\n",
    "    with open(output_file_path, 'w') as f_out:\n",
    "        json.dump(data, f_out, indent=4)"
   ]
  },
  {
   "cell_type": "code",
   "execution_count": 17,
   "metadata": {
    "tags": []
   },
   "outputs": [
    {
     "data": {
      "text/plain": [
       "{'predictions': [[{'ner_chunk': 'Aspirin',\n",
       "    'begin': 306,\n",
       "    'end': 312,\n",
       "    'ner_label': 'PROCEDURE',\n",
       "    'ner_confidence': '0.9998',\n",
       "    'code': 'G8598',\n",
       "    'resolution': 'Aspirin or another antiplatelet therapy used',\n",
       "    'all_k_codes': 'G8598:::M1055:::G9435:::G8895:::G6030:::C1765:::A4570:::G6038:::C1769:::C1884:::A4480:::S0518:::E1353:::G6049:::G6034:::A4617:::G6039:::   TD:::   JF:::A9300:::A4670:::S9007:::G8580:::E0945:::M0076',\n",
       "    'all_k_resolutions': 'Aspirin or another antiplatelet therapy used:::Aspirin or another antiplatelet therapy used:::Aspirin prescribed at discharge:::Oral aspirin or other antithrombotic therapy prescribed:::Amitriptyline:::Adhesion barrier:::Splint:::Salicylate:::Guide wire:::Embolization protective system:::Vabra aspirator:::Sunglasses frames:::Regulator:::Epiandrosterone:::Doxepin:::Mouth piece:::Acetaminophen:::Rn:::Compounded drug:::Exercise equipment:::Automatic blood pressure monitor:::Ultrafiltration monitor:::Antiplatelet medication contraindicated:::Extremity belt/harness:::Prolotherapy',\n",
       "    'all_k_distances': '11.2451:::11.2451:::11.7164:::11.9334:::12.0813:::12.0890:::12.0898:::12.1888:::12.2777:::12.3829:::12.3850:::12.5746:::12.6480:::12.6749:::12.7621:::12.7862:::12.7875:::12.7910:::12.7976:::12.9917:::12.9965:::13.0113:::13.1942:::13.2339:::13.3112'},\n",
       "   {'ner_chunk': 'Humulin N',\n",
       "    'begin': 334,\n",
       "    'end': 342,\n",
       "    'ner_label': 'PROCEDURE',\n",
       "    'ner_confidence': '0.98345',\n",
       "    'code': '   TD',\n",
       "    'resolution': 'Rn',\n",
       "    'all_k_codes': '   TD:::E0776:::   HL:::E1353:::A4480:::G6034:::C1782:::E1639:::G6048:::G6045:::A4617:::   TE:::A4565:::L0972:::G6050:::C1769:::   SZ:::   JF:::A4620:::G6038:::G6039:::L0970:::G6030:::   E3:::G6046',\n",
       "    'all_k_resolutions': 'Rn:::Iv pole:::Intern:::Regulator:::Vabra aspirator:::Doxepin:::Morcellator:::Scale, each:::Dimethadione:::Dihydrocodeinone:::Mouth piece:::Lpn/lvn:::Slings:::Lso, corset front:::Ethchlorvynol:::Guide wire:::Habilitative services:::Compounded drug:::Variable concentration mask:::Salicylate:::Acetaminophen:::Tlso, corset front:::Amitriptyline:::Upper right, eyelid:::Dihydromorphinone',\n",
       "    'all_k_distances': '9.4748:::10.4094:::11.1384:::11.3389:::11.5930:::11.6295:::11.7431:::11.8300:::11.8582:::11.8803:::11.9712:::12.0761:::12.2656:::12.2847:::12.2995:::12.4279:::12.4860:::12.5306:::12.5385:::12.5457:::12.5682:::12.5734:::12.6485:::12.7793:::12.8191'},\n",
       "   {'ner_chunk': 'insulin',\n",
       "    'begin': 345,\n",
       "    'end': 351,\n",
       "    'ner_label': 'PROCEDURE',\n",
       "    'ner_confidence': '0.9881',\n",
       "    'code': 'E0784',\n",
       "    'resolution': 'External ambulatory infusion pump, insulin',\n",
       "    'all_k_codes': 'E0784:::   TD:::   HL:::E0776:::C1754:::C1755:::E1353:::C1839:::G6051:::G6038:::G6030:::A4617:::A4620:::V2780:::G6054:::J7198:::G6039:::C1782:::K0105:::G6034:::   TE:::E0787:::J7194:::A4570:::   TM',\n",
       "    'all_k_resolutions': 'External ambulatory infusion pump, insulin:::Rn:::Intern:::Iv pole:::Catheter, intradiscal:::Catheter, intraspinal:::Regulator:::Iris prosthesis:::Flurazepam:::Salicylate:::Amitriptyline:::Mouth piece:::Variable concentration mask:::Oversize lens, per lens:::Methsuximide:::Anti-inhibitor, per i.u.:::Acetaminophen:::Morcellator:::Iv hanger, each:::Doxepin:::Lpn/lvn:::External ambulatory infusion pump, insulin, dosage rate adjustment using therapeutic continuous glucose sensing:::Factor ix, complex, per i.u.:::Splint:::Individualized education program (iep)',\n",
       "    'all_k_distances': '11.3946:::12.9058:::12.9890:::13.3516:::13.5599:::13.5837:::13.6318:::13.6362:::13.6380:::13.6731:::13.7162:::13.8065:::13.8196:::13.8481:::13.8912:::13.9461:::13.9687:::13.9916:::14.0078:::14.0651:::14.1037:::14.1391:::14.1959:::14.2002:::14.2989'},\n",
       "   {'ner_chunk': 'Hydrochlorothiazide',\n",
       "    'begin': 370,\n",
       "    'end': 388,\n",
       "    'ner_label': 'PROCEDURE',\n",
       "    'ner_confidence': '0.9999',\n",
       "    'code': 'G6057',\n",
       "    'resolution': 'Phenothiazine',\n",
       "    'all_k_codes': 'G6057:::G6050:::G6046:::G6030:::G6031:::G6045:::G6054:::G6051:::G6032:::G6039:::G9503:::   JF:::G6038:::G6052:::G6036:::G6048:::   SZ:::G6034:::G6053:::M0076:::G6047:::A5055:::A9285:::S2340:::G9742',\n",
       "    'all_k_resolutions': 'Phenothiazine:::Ethchlorvynol:::Dihydromorphinone:::Amitriptyline:::Benzodiazepines:::Dihydrocodeinone:::Methsuximide:::Flurazepam:::Desipramine:::Acetaminophen:::Patient taking tamsulosin hydrochloride:::Compounded drug:::Salicylate:::Meprobamate:::Assay of imipramine:::Dimethadione:::Habilitative services:::Doxepin:::Methadone:::Prolotherapy:::Dihydrotestosterone:::Stoma cap:::Inversion/eversion correction device:::Chemodenervation of abductor muscle(s) of vocal cord:::Psychiatric symptoms assessed',\n",
       "    'all_k_distances': '9.8139:::10.5531:::10.6651:::10.9062:::10.9661:::11.3613:::11.4324:::11.5314:::11.6179:::11.7324:::11.7566:::11.7801:::12.1597:::12.4415:::12.5427:::12.5986:::12.6624:::12.8560:::12.8697:::13.0140:::13.0533:::13.0543:::13.0828:::13.2350:::13.2782'},\n",
       "   {'ner_chunk': 'Nitroglycerin',\n",
       "    'begin': 402,\n",
       "    'end': 414,\n",
       "    'ner_label': 'PROCEDURE',\n",
       "    'ner_confidence': '0.9999',\n",
       "    'code': 'G6055',\n",
       "    'resolution': 'Nicotine',\n",
       "    'all_k_codes': 'G6055:::G6030:::G6037:::G6038:::S4990:::C1769:::G6039:::A4570:::G6032:::C2628:::S8210:::G8583:::K1020:::G6048:::A4670:::A5055:::A4663:::V5150:::A4615:::G6046:::C2626:::G6053:::C1763:::C1765:::B4081',\n",
       "    'all_k_resolutions': 'Nicotine:::Amitriptyline:::Nortriptyline:::Salicylate:::Nicotine patches, legend:::Guide wire:::Acetaminophen:::Splint:::Desipramine:::Catheter, occlusion:::Mucus trap:::Beta-blocker contraindicated:::Non-invasive vagus nerve stimulator:::Dimethadione:::Automatic blood pressure monitor:::Stoma cap:::Blood pressure cuff only:::Binaural, glasses:::Cannula, nasal:::Dihydromorphinone:::Infusion pump, non-programmable, temporary (implantable):::Methadone:::Connective tissue, non-human (includes synthetic):::Adhesion barrier:::Nasogastric tubing with stylet',\n",
       "    'all_k_distances': '10.1668:::11.9786:::12.5518:::12.8846:::13.1478:::13.3277:::13.6172:::13.7172:::13.8028:::14.1676:::14.1960:::14.3513:::14.3523:::14.3617:::14.4379:::14.4419:::14.4977:::14.4999:::14.5094:::14.5391:::14.5582:::14.5591:::14.5659:::14.6008:::14.6434'}],\n",
       "  [{'ner_chunk': 'amoxicillin',\n",
       "    'begin': 76,\n",
       "    'end': 86,\n",
       "    'ner_label': 'PROCEDURE',\n",
       "    'ner_confidence': '0.997',\n",
       "    'code': 'G9498',\n",
       "    'resolution': 'Antibiotic regimen prescribed',\n",
       "    'all_k_codes': 'G9498:::G8710:::G9961:::G6054:::G6038:::G6039:::G6052:::G9315:::A4400:::G6045:::G9558:::G9674:::A4480:::G6030:::L8613:::   SZ:::L8610:::G6048:::C1729:::G6034:::G9506:::M0076:::   V8:::C1782:::J7198',\n",
       "    'all_k_resolutions': 'Antibiotic regimen prescribed:::Patient prescribed or dispensed antibiotic:::Systemic antimicrobials prescribed:::Methsuximide:::Salicylate:::Acetaminophen:::Meprobamate:::Documentation amoxicillin, with or without clavulanate, prescribed as a first line antibiotic at the time of diagnosis:::Ostomy irrigation set:::Dihydrocodeinone:::Patient treated with a beta-lactam antibiotic as definitive therapy:::Patients with clinical ascvd diagnosis:::Vabra aspirator:::Amitriptyline:::Ossicula implant:::Habilitative services:::Ocular implant:::Dimethadione:::Catheter, drainage:::Doxepin:::Biologic immune response modifier prescribed:::Prolotherapy:::Infection present:::Morcellator:::Anti-inhibitor, per i.u.',\n",
       "    'all_k_distances': '9.8855:::10.6633:::11.0108:::11.3374:::12.5515:::12.6556:::12.6611:::12.6674:::12.8250:::12.8822:::12.8935:::13.0020:::13.0706:::13.2034:::13.2496:::13.2550:::13.3103:::13.3426:::13.4118:::13.5734:::13.5770:::13.5916:::13.6021:::13.6090:::13.6315'},\n",
       "   {'ner_chunk': 'metformin',\n",
       "    'begin': 135,\n",
       "    'end': 143,\n",
       "    'ner_label': 'PROCEDURE',\n",
       "    'ner_confidence': '0.9998',\n",
       "    'code': 'G6054',\n",
       "    'resolution': 'Methsuximide',\n",
       "    'all_k_codes': 'G6054:::G6053:::G6052:::G6038:::G6030:::V5020:::A4617:::V2299:::V2399:::G6051:::   JF:::G6048:::A4570:::G6039:::A0434:::G9498:::G6057:::   SC:::G9674:::S0518:::   AF:::   TF:::G8777:::M0076:::   TS',\n",
       "    'all_k_resolutions': 'Methsuximide:::Methadone:::Meprobamate:::Salicylate:::Amitriptyline:::Conformity evaluation:::Mouth piece:::Specialty bifocal (by report):::Specialty trifocal (by report):::Flurazepam:::Compounded drug:::Dimethadione:::Splint:::Acetaminophen:::Specialty care transport (sct):::Antibiotic regimen prescribed:::Phenothiazine:::Medically necessary service or supply:::Patients with clinical ascvd diagnosis:::Sunglasses frames:::Specialty physician:::Intermediate level of care:::Diabetes screening test performed:::Prolotherapy:::Follow-up service',\n",
       "    'all_k_distances': '10.9175:::11.5031:::12.7650:::12.7713:::13.2705:::13.5118:::13.5595:::13.5787:::13.5873:::13.5921:::13.6099:::13.6552:::13.7373:::13.7663:::13.8105:::13.8761:::13.9158:::13.9683:::14.0866:::14.1468:::14.1541:::14.1580:::14.1755:::14.1785:::14.1855'},\n",
       "   {'ner_chunk': 'glipizide',\n",
       "    'begin': 147,\n",
       "    'end': 155,\n",
       "    'ner_label': 'PROCEDURE',\n",
       "    'ner_confidence': '0.9999',\n",
       "    'code': 'G6054',\n",
       "    'resolution': 'Methsuximide',\n",
       "    'all_k_codes': 'G6054:::   JF:::G6032:::G6051:::S0516:::S5000:::V2756:::G6038:::G6036:::G6030:::G6052:::G6034:::G9189:::A4570:::   TW:::E1353:::G8450:::C1769:::G6031:::   GK:::G6057:::K0554:::V5150:::S9015:::G6048',\n",
       "    'all_k_resolutions': 'Methsuximide:::Compounded drug:::Desipramine:::Flurazepam:::Safety eyeglass frames:::Prescription drug, generic:::Eye glass case:::Salicylate:::Assay of imipramine:::Amitriptyline:::Meprobamate:::Doxepin:::Beta-blocker therapy prescribed or currently being taken:::Splint:::Back-up equipment:::Regulator:::Beta-blocker therapy prescribed:::Guide wire:::Benzodiazepines:::Reasonable and necessary item/service associated with a ga or gz modifier:::Phenothiazine:::Receiver (monitor), dedicated, for use with therapeutic glucose continuous monitor system:::Binaural, glasses:::Automated eeg monitoring:::Dimethadione',\n",
       "    'all_k_distances': '12.2586:::12.3637:::12.4552:::12.9095:::12.9185:::12.9473:::12.9489:::12.9900:::13.0250:::13.1804:::13.2219:::13.2314:::13.2646:::13.2688:::13.3136:::13.3487:::13.3935:::13.4118:::13.4876:::13.5019:::13.5281:::13.7279:::13.7626:::13.7660:::13.8237'},\n",
       "   {'ner_chunk': 'dapagliflozin',\n",
       "    'begin': 163,\n",
       "    'end': 175,\n",
       "    'ner_label': 'PROCEDURE',\n",
       "    'ner_confidence': '1.0',\n",
       "    'code': 'G6034',\n",
       "    'resolution': 'Doxepin',\n",
       "    'all_k_codes': 'G6034:::G6045:::G6032:::G6051:::A4480:::G6054:::G6057:::G6052:::G6048:::   JF:::H2020:::G6046:::   KD:::C1821:::A0394:::G6030:::G6036:::G0056:::Q4210:::A0434:::G6031:::S5121:::V2399:::L3265:::G4004',\n",
       "    'all_k_resolutions': 'Doxepin:::Dihydrocodeinone:::Desipramine:::Flurazepam:::Vabra aspirator:::Methsuximide:::Phenothiazine:::Meprobamate:::Dimethadione:::Compounded drug:::Therapeutic behavioral services, per diem:::Dihydromorphinone:::Drug or biological infused through dme:::Interspinous process distraction device (implantable):::Als specialized service disposable supplies; iv drug therapy:::Amitriptyline:::Assay of imipramine:::Optimizing chronic disease management mips value pathways:::Axolotl graft or axolotl dualgraft, per square centimeter:::Specialty care transport (sct):::Benzodiazepines:::Chore services; per diem:::Specialty trifocal (by report):::Plastazote sandal, each:::Endocrinology mips specialty set',\n",
       "    'all_k_distances': '11.5148:::11.7737:::12.0168:::12.2436:::12.8329:::13.2624:::13.3853:::13.4606:::13.6252:::13.6464:::13.6919:::13.6979:::13.7837:::13.9320:::13.9806:::14.0456:::14.0608:::14.0699:::14.0801:::14.1054:::14.1347:::14.1362:::14.1539:::14.1570:::14.1616'},\n",
       "   {'ner_chunk': 'atorvastatin',\n",
       "    'begin': 190,\n",
       "    'end': 201,\n",
       "    'ner_label': 'PROCEDURE',\n",
       "    'ner_confidence': '0.9999',\n",
       "    'code': 'G8598',\n",
       "    'resolution': 'Aspirin or another antiplatelet therapy used',\n",
       "    'all_k_codes': 'G8598:::M1055:::G8473:::G6030:::G8506:::A4480:::G9796:::G8895:::G8935:::G6034:::G6038:::L6686:::G2092:::C1753:::G6046:::L8613:::G8816:::G9441:::A9285:::G6054:::G9664:::L8670:::C1839:::G8580:::K1015',\n",
       "    'all_k_resolutions': 'Aspirin or another antiplatelet therapy used:::Aspirin or another antiplatelet therapy used:::Angiotensin converting enzyme (ace) inhibitor or angiotensin receptor blocker (arb) therapy prescribed:::Amitriptyline:::Patient receiving angiotensin converting enzyme (ace) inhibitor or angiotensin receptor blocker (arb) therapy:::Vabra aspirator:::Patient is currently on a statin therapy:::Oral aspirin or other antithrombotic therapy prescribed:::Clinician prescribed angiotensin converting enzyme (ace) inhibitor or angiotensin receptor blocker (arb) therapy:::Doxepin:::Salicylate:::Upper extremity addition, suction socket:::Angiotensin converting enzyme (ace) inhibitor or angiotensin receptor blocker (arb) or angiotensin receptor-neprilysin inhibitor (arni) therapy prescribed or currently being taken:::Catheter, intravascular ultrasound:::Dihydromorphinone:::Ossicula implant:::Statin medication prescribed at discharge:::Statin prescribed at discharge:::Inversion/eversion correction device:::Methsuximide:::Patients who are currently statin therapy users or received an order (prescription) for statin therapy:::Vascular graft material, synthetic, implant:::Iris prosthesis:::Antiplatelet medication contraindicated:::Foot, adductus positioning device, adjustable',\n",
       "    'all_k_distances': '11.7403:::11.7403:::11.9109:::12.5000:::12.5919:::12.6601:::12.7002:::12.7367:::12.9740:::13.0265:::13.0330:::13.0740:::13.0842:::13.1261:::13.1302:::13.2028:::13.2287:::13.2709:::13.2758:::13.2928:::13.3597:::13.4550:::13.4596:::13.4706:::13.5217'},\n",
       "   {'ner_chunk': 'gemfibrozil',\n",
       "    'begin': 207,\n",
       "    'end': 217,\n",
       "    'ner_label': 'PROCEDURE',\n",
       "    'ner_confidence': '1.0',\n",
       "    'code': 'G6054',\n",
       "    'resolution': 'Methsuximide',\n",
       "    'all_k_codes': 'G6054:::G9839:::G9506:::G6052:::G9845:::G6051:::G6030:::G6057:::S3722:::G4010:::G6053:::V2299:::M0076:::K0730:::A0434:::G9498:::V2399:::   ZC:::G4000:::G4031:::   AF:::   JF:::G6032:::A4652:::A4480',\n",
       "    'all_k_resolutions': 'Methsuximide:::Anti-egfr monoclonal antibody therapy:::Biologic immune response modifier prescribed:::Meprobamate:::Patient received anti-egfr monoclonal antibody therapy:::Flurazepam:::Amitriptyline:::Phenothiazine:::Dose optimization by area under the curve (auc) analysis, for infusional 5-fluorouracil:::Infectious disease mips specialty set:::Methadone:::Specialty bifocal (by report):::Prolotherapy:::Controlled dose inhalation drug delivery system:::Specialty care transport (sct):::Antibiotic regimen prescribed:::Specialty trifocal (by report):::Merck/samsung bioepis:::Dermatology mips specialty set:::Radiation oncology mips specialty set:::Specialty physician:::Compounded drug:::Desipramine:::Microcapillary tube sealant:::Vabra aspirator',\n",
       "    'all_k_distances': '11.9814:::12.1300:::12.2895:::12.4375:::12.6258:::13.1110:::13.1253:::13.1385:::13.2466:::13.2529:::13.2891:::13.2976:::13.5120:::13.5133:::13.5365:::13.5686:::13.5800:::13.5832:::13.6217:::13.6783:::13.6984:::13.7053:::13.7306:::13.7412:::13.7471'},\n",
       "   {'ner_chunk': 'dapagliflozin',\n",
       "    'begin': 245,\n",
       "    'end': 257,\n",
       "    'ner_label': 'PROCEDURE',\n",
       "    'ner_confidence': '0.9999',\n",
       "    'code': 'G6034',\n",
       "    'resolution': 'Doxepin',\n",
       "    'all_k_codes': 'G6034:::G6045:::G6032:::G6051:::A4480:::G6054:::G6057:::G6052:::G6048:::   JF:::H2020:::G6046:::   KD:::C1821:::A0394:::G6030:::G6036:::G0056:::Q4210:::A0434:::G6031:::S5121:::V2399:::L3265:::G4004',\n",
       "    'all_k_resolutions': 'Doxepin:::Dihydrocodeinone:::Desipramine:::Flurazepam:::Vabra aspirator:::Methsuximide:::Phenothiazine:::Meprobamate:::Dimethadione:::Compounded drug:::Therapeutic behavioral services, per diem:::Dihydromorphinone:::Drug or biological infused through dme:::Interspinous process distraction device (implantable):::Als specialized service disposable supplies; iv drug therapy:::Amitriptyline:::Assay of imipramine:::Optimizing chronic disease management mips value pathways:::Axolotl graft or axolotl dualgraft, per square centimeter:::Specialty care transport (sct):::Benzodiazepines:::Chore services; per diem:::Specialty trifocal (by report):::Plastazote sandal, each:::Endocrinology mips specialty set',\n",
       "    'all_k_distances': '11.5148:::11.7737:::12.0168:::12.2436:::12.8329:::13.2624:::13.3853:::13.4606:::13.6252:::13.6464:::13.6919:::13.6979:::13.7837:::13.9320:::13.9806:::14.0456:::14.0608:::14.0699:::14.0801:::14.1054:::14.1347:::14.1362:::14.1539:::14.1570:::14.1616'},\n",
       "   {'ner_chunk': 'insulin glargine',\n",
       "    'begin': 391,\n",
       "    'end': 406,\n",
       "    'ner_label': 'PROCEDURE',\n",
       "    'ner_confidence': '0.98969996',\n",
       "    'code': 'E0784',\n",
       "    'resolution': 'External ambulatory infusion pump, insulin',\n",
       "    'all_k_codes': 'E0784:::E0787:::A4231:::G8777:::G8809:::G6030:::G6054:::S0128:::J1930:::S5570:::J1610:::S0126:::A9576:::E2101:::S5560:::G6036:::J7203:::G6051:::J1162:::S0122:::C1821:::A4230:::K0554:::G8485:::J1458',\n",
       "    'all_k_resolutions': 'External ambulatory infusion pump, insulin:::External ambulatory infusion pump, insulin, dosage rate adjustment using therapeutic continuous glucose sensing:::Infusion set for external insulin pump, needle type:::Diabetes screening test performed:::Rh-immunoglobulin (rhogam) ordered:::Amitriptyline:::Methsuximide:::Injection, follitropin beta, 75 iu:::Injection, lanreotide, 1 mg:::Insulin delivery device, disposable pen (including insulin); 1.5 ml size:::Injection, glucagon hydrochloride, per 1 mg:::Injection, follitropin alfa, 75 iu:::Injection, gadoteridol, (prohance multipack), per ml:::Blood glucose monitor with integrated lancing/blood sample:::Insulin delivery device, reusable pen; 1.5 ml size:::Assay of imipramine:::Injection factor ix, (antihemophilic factor, recombinant), glycopegylated, (rebinyn), 1 iu:::Flurazepam:::Injection, digoxin immune fab (ovine), per vial:::Injection, menotropins, 75 iu:::Interspinous process distraction device (implantable):::Infusion set for external insulin pump, non needle cannula type:::Receiver (monitor), dedicated, for use with therapeutic glucose continuous monitor system:::I intend to report the diabetes mellitus (dm) measures group:::Injection, galsulfase, 1 mg',\n",
       "    'all_k_distances': '10.3416:::11.4356:::12.7540:::13.0186:::13.2145:::13.4240:::13.5142:::13.5708:::13.6303:::13.7195:::13.7824:::13.7969:::13.8027:::13.8492:::13.8785:::13.9147:::13.9724:::13.9746:::14.0166:::14.0696:::14.0939:::14.0944:::14.1151:::14.1186:::14.1361'},\n",
       "   {'ner_chunk': 'insulin lispro',\n",
       "    'begin': 431,\n",
       "    'end': 444,\n",
       "    'ner_label': 'PROCEDURE',\n",
       "    'ner_confidence': '0.97045004',\n",
       "    'code': 'E0784',\n",
       "    'resolution': 'External ambulatory infusion pump, insulin',\n",
       "    'all_k_codes': 'E0784:::G6030:::G6054:::E0787:::A4231:::G6051:::G6052:::G6034:::G8777:::G6036:::C1839:::S5560:::   TE:::S9145:::J7198:::C9113:::J1270:::G6032:::A4480:::S5570:::G6038:::V2399:::J7181:::M0076:::C1821',\n",
       "    'all_k_resolutions': 'External ambulatory infusion pump, insulin:::Amitriptyline:::Methsuximide:::External ambulatory infusion pump, insulin, dosage rate adjustment using therapeutic continuous glucose sensing:::Infusion set for external insulin pump, needle type:::Flurazepam:::Meprobamate:::Doxepin:::Diabetes screening test performed:::Assay of imipramine:::Iris prosthesis:::Insulin delivery device, reusable pen; 1.5 ml size:::Lpn/lvn:::Insulin pump initiation, instruction in initial use of pump (pump not included):::Anti-inhibitor, per i.u.:::Injection, pantoprazole sodium, per vial:::Injection, doxercalciferol, 1 mcg:::Desipramine:::Vabra aspirator:::Insulin delivery device, disposable pen (including insulin); 1.5 ml size:::Salicylate:::Specialty trifocal (by report):::Injection, factor xiii a-subunit, (recombinant), per iu:::Prolotherapy:::Interspinous process distraction device (implantable)',\n",
       "    'all_k_distances': '11.5040:::13.0605:::13.0745:::13.0756:::13.1586:::13.2311:::13.2866:::13.3995:::13.4090:::13.5013:::13.5557:::13.5840:::13.6224:::13.6236:::13.7466:::13.7549:::13.8173:::13.8272:::13.8992:::13.9012:::13.9192:::13.9225:::13.9343:::13.9629:::13.9962'},\n",
       "   {'ner_chunk': 'metformin',\n",
       "    'begin': 463,\n",
       "    'end': 471,\n",
       "    'ner_label': 'PROCEDURE',\n",
       "    'ner_confidence': '0.9992',\n",
       "    'code': 'G6054',\n",
       "    'resolution': 'Methsuximide',\n",
       "    'all_k_codes': 'G6054:::G6053:::G6052:::G6038:::G6030:::V5020:::A4617:::V2299:::V2399:::G6051:::   JF:::G6048:::A4570:::G6039:::A0434:::G9498:::G6057:::   SC:::G9674:::S0518:::   AF:::   TF:::G8777:::M0076:::   TS',\n",
       "    'all_k_resolutions': 'Methsuximide:::Methadone:::Meprobamate:::Salicylate:::Amitriptyline:::Conformity evaluation:::Mouth piece:::Specialty bifocal (by report):::Specialty trifocal (by report):::Flurazepam:::Compounded drug:::Dimethadione:::Splint:::Acetaminophen:::Specialty care transport (sct):::Antibiotic regimen prescribed:::Phenothiazine:::Medically necessary service or supply:::Patients with clinical ascvd diagnosis:::Sunglasses frames:::Specialty physician:::Intermediate level of care:::Diabetes screening test performed:::Prolotherapy:::Follow-up service',\n",
       "    'all_k_distances': '10.9175:::11.5031:::12.7650:::12.7713:::13.2705:::13.5118:::13.5595:::13.5787:::13.5873:::13.5921:::13.6099:::13.6552:::13.7373:::13.7663:::13.8105:::13.8761:::13.9158:::13.9683:::14.0866:::14.1468:::14.1541:::14.1580:::14.1755:::14.1785:::14.1855'}]]}"
      ]
     },
     "metadata": {},
     "output_type": "display_data"
    }
   ],
   "source": [
    "process_s3_json_output_and_save(validation_json_file_name)"
   ]
  },
  {
   "cell_type": "markdown",
   "metadata": {},
   "source": [
    "### JSON Lines"
   ]
  },
  {
   "cell_type": "code",
   "execution_count": null,
   "metadata": {
    "tags": []
   },
   "outputs": [],
   "source": [
    "transformer = model.transformer(\n",
    "    instance_count=1,\n",
    "    instance_type=batch_transform_inference_instance_type,\n",
    "    accept=\"application/jsonlines\",\n",
    "    output_path=validation_output_jsonl_path\n",
    ")\n",
    "transformer.transform(validation_input_jsonl_path, content_type=\"application/jsonlines\")\n",
    "transformer.wait()"
   ]
  },
  {
   "cell_type": "code",
   "execution_count": 19,
   "metadata": {
    "tags": []
   },
   "outputs": [],
   "source": [
    "from urllib.parse import urlparse\n",
    "\n",
    "def process_s3_jsonlines_output_and_save(validation_file_name):\n",
    "\n",
    "    output_file_path = f\"{jsonl_output_dir}/{validation_file_name}.out\"\n",
    "    parsed_url = urlparse(transformer.output_path)\n",
    "    file_key = f\"{parsed_url.path[1:]}{validation_file_name}.out\"\n",
    "    response = s3_client.get_object(Bucket=s3_bucket, Key=file_key)\n",
    "\n",
    "    data = response[\"Body\"].read().decode(\"utf-8\")\n",
    "    print(data)\n",
    "\n",
    "    # Save the data to the output file\n",
    "    with open(output_file_path, 'w') as f_out:\n",
    "        for item in data.split('\\n'):\n",
    "            f_out.write(item + '\\n')"
   ]
  },
  {
   "cell_type": "code",
   "execution_count": 20,
   "metadata": {
    "tags": []
   },
   "outputs": [
    {
     "name": "stdout",
     "output_type": "stream",
     "text": [
      "{\"predictions\": [{\"ner_chunk\": \"Aspirin\", \"begin\": 306, \"end\": 312, \"ner_label\": \"PROCEDURE\", \"ner_confidence\": \"0.9998\", \"code\": \"G8598\", \"resolution\": \"Aspirin or another antiplatelet therapy used\", \"all_k_codes\": \"G8598:::M1055:::G9435:::G8895:::G6030:::C1765:::A4570:::G6038:::C1769:::C1884:::A4480:::S0518:::E1353:::G6049:::G6034:::A4617:::G6039:::   TD:::   JF:::A9300:::A4670:::S9007:::G8580:::E0945:::M0076\", \"all_k_resolutions\": \"Aspirin or another antiplatelet therapy used:::Aspirin or another antiplatelet therapy used:::Aspirin prescribed at discharge:::Oral aspirin or other antithrombotic therapy prescribed:::Amitriptyline:::Adhesion barrier:::Splint:::Salicylate:::Guide wire:::Embolization protective system:::Vabra aspirator:::Sunglasses frames:::Regulator:::Epiandrosterone:::Doxepin:::Mouth piece:::Acetaminophen:::Rn:::Compounded drug:::Exercise equipment:::Automatic blood pressure monitor:::Ultrafiltration monitor:::Antiplatelet medication contraindicated:::Extremity belt/harness:::Prolotherapy\", \"all_k_distances\": \"11.2451:::11.2451:::11.7164:::11.9334:::12.0813:::12.0890:::12.0898:::12.1888:::12.2777:::12.3829:::12.3850:::12.5746:::12.6480:::12.6749:::12.7621:::12.7862:::12.7875:::12.7910:::12.7976:::12.9917:::12.9965:::13.0113:::13.1942:::13.2339:::13.3112\"}, {\"ner_chunk\": \"Humulin N\", \"begin\": 334, \"end\": 342, \"ner_label\": \"PROCEDURE\", \"ner_confidence\": \"0.98345\", \"code\": \"   TD\", \"resolution\": \"Rn\", \"all_k_codes\": \"   TD:::E0776:::   HL:::E1353:::A4480:::G6034:::C1782:::E1639:::G6048:::G6045:::A4617:::   TE:::A4565:::L0972:::G6050:::C1769:::   SZ:::   JF:::A4620:::G6038:::G6039:::L0970:::G6030:::   E3:::G6046\", \"all_k_resolutions\": \"Rn:::Iv pole:::Intern:::Regulator:::Vabra aspirator:::Doxepin:::Morcellator:::Scale, each:::Dimethadione:::Dihydrocodeinone:::Mouth piece:::Lpn/lvn:::Slings:::Lso, corset front:::Ethchlorvynol:::Guide wire:::Habilitative services:::Compounded drug:::Variable concentration mask:::Salicylate:::Acetaminophen:::Tlso, corset front:::Amitriptyline:::Upper right, eyelid:::Dihydromorphinone\", \"all_k_distances\": \"9.4748:::10.4094:::11.1384:::11.3389:::11.5930:::11.6295:::11.7431:::11.8300:::11.8582:::11.8803:::11.9712:::12.0761:::12.2656:::12.2847:::12.2995:::12.4279:::12.4860:::12.5306:::12.5385:::12.5457:::12.5682:::12.5734:::12.6485:::12.7793:::12.8191\"}, {\"ner_chunk\": \"insulin\", \"begin\": 345, \"end\": 351, \"ner_label\": \"PROCEDURE\", \"ner_confidence\": \"0.9881\", \"code\": \"E0784\", \"resolution\": \"External ambulatory infusion pump, insulin\", \"all_k_codes\": \"E0784:::   TD:::   HL:::E0776:::C1754:::C1755:::E1353:::C1839:::G6051:::G6038:::G6030:::A4617:::A4620:::V2780:::G6054:::J7198:::G6039:::C1782:::K0105:::G6034:::   TE:::E0787:::J7194:::A4570:::   TM\", \"all_k_resolutions\": \"External ambulatory infusion pump, insulin:::Rn:::Intern:::Iv pole:::Catheter, intradiscal:::Catheter, intraspinal:::Regulator:::Iris prosthesis:::Flurazepam:::Salicylate:::Amitriptyline:::Mouth piece:::Variable concentration mask:::Oversize lens, per lens:::Methsuximide:::Anti-inhibitor, per i.u.:::Acetaminophen:::Morcellator:::Iv hanger, each:::Doxepin:::Lpn/lvn:::External ambulatory infusion pump, insulin, dosage rate adjustment using therapeutic continuous glucose sensing:::Factor ix, complex, per i.u.:::Splint:::Individualized education program (iep)\", \"all_k_distances\": \"11.3946:::12.9058:::12.9890:::13.3516:::13.5599:::13.5837:::13.6318:::13.6362:::13.6380:::13.6731:::13.7162:::13.8065:::13.8196:::13.8481:::13.8912:::13.9461:::13.9687:::13.9916:::14.0078:::14.0651:::14.1037:::14.1391:::14.1959:::14.2002:::14.2989\"}, {\"ner_chunk\": \"Hydrochlorothiazide\", \"begin\": 370, \"end\": 388, \"ner_label\": \"PROCEDURE\", \"ner_confidence\": \"0.9999\", \"code\": \"G6057\", \"resolution\": \"Phenothiazine\", \"all_k_codes\": \"G6057:::G6050:::G6046:::G6030:::G6031:::G6045:::G6054:::G6051:::G6032:::G6039:::G9503:::   JF:::G6038:::G6052:::G6036:::G6048:::   SZ:::G6034:::G6053:::M0076:::G6047:::A5055:::A9285:::S2340:::G9742\", \"all_k_resolutions\": \"Phenothiazine:::Ethchlorvynol:::Dihydromorphinone:::Amitriptyline:::Benzodiazepines:::Dihydrocodeinone:::Methsuximide:::Flurazepam:::Desipramine:::Acetaminophen:::Patient taking tamsulosin hydrochloride:::Compounded drug:::Salicylate:::Meprobamate:::Assay of imipramine:::Dimethadione:::Habilitative services:::Doxepin:::Methadone:::Prolotherapy:::Dihydrotestosterone:::Stoma cap:::Inversion/eversion correction device:::Chemodenervation of abductor muscle(s) of vocal cord:::Psychiatric symptoms assessed\", \"all_k_distances\": \"9.8139:::10.5531:::10.6651:::10.9062:::10.9661:::11.3613:::11.4324:::11.5314:::11.6179:::11.7324:::11.7566:::11.7801:::12.1597:::12.4415:::12.5427:::12.5986:::12.6624:::12.8560:::12.8697:::13.0140:::13.0533:::13.0543:::13.0828:::13.2350:::13.2782\"}, {\"ner_chunk\": \"Nitroglycerin\", \"begin\": 402, \"end\": 414, \"ner_label\": \"PROCEDURE\", \"ner_confidence\": \"0.9999\", \"code\": \"G6055\", \"resolution\": \"Nicotine\", \"all_k_codes\": \"G6055:::G6030:::G6037:::G6038:::S4990:::C1769:::G6039:::A4570:::G6032:::C2628:::S8210:::G8583:::K1020:::G6048:::A4670:::A5055:::A4663:::V5150:::A4615:::G6046:::C2626:::G6053:::C1763:::C1765:::B4081\", \"all_k_resolutions\": \"Nicotine:::Amitriptyline:::Nortriptyline:::Salicylate:::Nicotine patches, legend:::Guide wire:::Acetaminophen:::Splint:::Desipramine:::Catheter, occlusion:::Mucus trap:::Beta-blocker contraindicated:::Non-invasive vagus nerve stimulator:::Dimethadione:::Automatic blood pressure monitor:::Stoma cap:::Blood pressure cuff only:::Binaural, glasses:::Cannula, nasal:::Dihydromorphinone:::Infusion pump, non-programmable, temporary (implantable):::Methadone:::Connective tissue, non-human (includes synthetic):::Adhesion barrier:::Nasogastric tubing with stylet\", \"all_k_distances\": \"10.1668:::11.9786:::12.5518:::12.8846:::13.1478:::13.3277:::13.6172:::13.7172:::13.8028:::14.1676:::14.1960:::14.3513:::14.3523:::14.3617:::14.4379:::14.4419:::14.4977:::14.4999:::14.5094:::14.5391:::14.5582:::14.5591:::14.5659:::14.6008:::14.6434\"}]}\n",
      "{\"predictions\": [{\"ner_chunk\": \"amoxicillin\", \"begin\": 76, \"end\": 86, \"ner_label\": \"PROCEDURE\", \"ner_confidence\": \"0.997\", \"code\": \"G9498\", \"resolution\": \"Antibiotic regimen prescribed\", \"all_k_codes\": \"G9498:::G8710:::G9961:::G6054:::G6038:::G6039:::G6052:::G9315:::A4400:::G6045:::G9558:::G9674:::A4480:::G6030:::L8613:::   SZ:::L8610:::G6048:::C1729:::G6034:::G9506:::M0076:::   V8:::C1782:::J7198\", \"all_k_resolutions\": \"Antibiotic regimen prescribed:::Patient prescribed or dispensed antibiotic:::Systemic antimicrobials prescribed:::Methsuximide:::Salicylate:::Acetaminophen:::Meprobamate:::Documentation amoxicillin, with or without clavulanate, prescribed as a first line antibiotic at the time of diagnosis:::Ostomy irrigation set:::Dihydrocodeinone:::Patient treated with a beta-lactam antibiotic as definitive therapy:::Patients with clinical ascvd diagnosis:::Vabra aspirator:::Amitriptyline:::Ossicula implant:::Habilitative services:::Ocular implant:::Dimethadione:::Catheter, drainage:::Doxepin:::Biologic immune response modifier prescribed:::Prolotherapy:::Infection present:::Morcellator:::Anti-inhibitor, per i.u.\", \"all_k_distances\": \"9.8855:::10.6633:::11.0108:::11.3374:::12.5515:::12.6556:::12.6611:::12.6674:::12.8250:::12.8822:::12.8935:::13.0020:::13.0706:::13.2034:::13.2496:::13.2550:::13.3103:::13.3426:::13.4118:::13.5734:::13.5770:::13.5916:::13.6021:::13.6090:::13.6315\"}, {\"ner_chunk\": \"metformin\", \"begin\": 135, \"end\": 143, \"ner_label\": \"PROCEDURE\", \"ner_confidence\": \"0.9998\", \"code\": \"G6054\", \"resolution\": \"Methsuximide\", \"all_k_codes\": \"G6054:::G6053:::G6052:::G6038:::G6030:::V5020:::A4617:::V2299:::V2399:::G6051:::   JF:::G6048:::A4570:::G6039:::A0434:::G9498:::G6057:::   SC:::G9674:::S0518:::   AF:::   TF:::G8777:::M0076:::   TS\", \"all_k_resolutions\": \"Methsuximide:::Methadone:::Meprobamate:::Salicylate:::Amitriptyline:::Conformity evaluation:::Mouth piece:::Specialty bifocal (by report):::Specialty trifocal (by report):::Flurazepam:::Compounded drug:::Dimethadione:::Splint:::Acetaminophen:::Specialty care transport (sct):::Antibiotic regimen prescribed:::Phenothiazine:::Medically necessary service or supply:::Patients with clinical ascvd diagnosis:::Sunglasses frames:::Specialty physician:::Intermediate level of care:::Diabetes screening test performed:::Prolotherapy:::Follow-up service\", \"all_k_distances\": \"10.9175:::11.5031:::12.7650:::12.7713:::13.2705:::13.5118:::13.5595:::13.5787:::13.5873:::13.5921:::13.6099:::13.6552:::13.7373:::13.7663:::13.8105:::13.8761:::13.9158:::13.9683:::14.0866:::14.1468:::14.1541:::14.1580:::14.1755:::14.1785:::14.1855\"}, {\"ner_chunk\": \"glipizide\", \"begin\": 147, \"end\": 155, \"ner_label\": \"PROCEDURE\", \"ner_confidence\": \"0.9999\", \"code\": \"G6054\", \"resolution\": \"Methsuximide\", \"all_k_codes\": \"G6054:::   JF:::G6032:::G6051:::S0516:::S5000:::V2756:::G6038:::G6036:::G6030:::G6052:::G6034:::G9189:::A4570:::   TW:::E1353:::G8450:::C1769:::G6031:::   GK:::G6057:::K0554:::V5150:::S9015:::G6048\", \"all_k_resolutions\": \"Methsuximide:::Compounded drug:::Desipramine:::Flurazepam:::Safety eyeglass frames:::Prescription drug, generic:::Eye glass case:::Salicylate:::Assay of imipramine:::Amitriptyline:::Meprobamate:::Doxepin:::Beta-blocker therapy prescribed or currently being taken:::Splint:::Back-up equipment:::Regulator:::Beta-blocker therapy prescribed:::Guide wire:::Benzodiazepines:::Reasonable and necessary item/service associated with a ga or gz modifier:::Phenothiazine:::Receiver (monitor), dedicated, for use with therapeutic glucose continuous monitor system:::Binaural, glasses:::Automated eeg monitoring:::Dimethadione\", \"all_k_distances\": \"12.2586:::12.3637:::12.4552:::12.9095:::12.9185:::12.9473:::12.9489:::12.9900:::13.0250:::13.1804:::13.2219:::13.2314:::13.2646:::13.2688:::13.3136:::13.3487:::13.3935:::13.4118:::13.4876:::13.5019:::13.5281:::13.7279:::13.7626:::13.7660:::13.8237\"}, {\"ner_chunk\": \"dapagliflozin\", \"begin\": 163, \"end\": 175, \"ner_label\": \"PROCEDURE\", \"ner_confidence\": \"1.0\", \"code\": \"G6034\", \"resolution\": \"Doxepin\", \"all_k_codes\": \"G6034:::G6045:::G6032:::G6051:::A4480:::G6054:::G6057:::G6052:::G6048:::   JF:::H2020:::G6046:::   KD:::C1821:::A0394:::G6030:::G6036:::G0056:::Q4210:::A0434:::G6031:::S5121:::V2399:::L3265:::G4004\", \"all_k_resolutions\": \"Doxepin:::Dihydrocodeinone:::Desipramine:::Flurazepam:::Vabra aspirator:::Methsuximide:::Phenothiazine:::Meprobamate:::Dimethadione:::Compounded drug:::Therapeutic behavioral services, per diem:::Dihydromorphinone:::Drug or biological infused through dme:::Interspinous process distraction device (implantable):::Als specialized service disposable supplies; iv drug therapy:::Amitriptyline:::Assay of imipramine:::Optimizing chronic disease management mips value pathways:::Axolotl graft or axolotl dualgraft, per square centimeter:::Specialty care transport (sct):::Benzodiazepines:::Chore services; per diem:::Specialty trifocal (by report):::Plastazote sandal, each:::Endocrinology mips specialty set\", \"all_k_distances\": \"11.5148:::11.7737:::12.0168:::12.2436:::12.8329:::13.2624:::13.3853:::13.4606:::13.6252:::13.6464:::13.6919:::13.6979:::13.7837:::13.9320:::13.9806:::14.0456:::14.0608:::14.0699:::14.0801:::14.1054:::14.1347:::14.1362:::14.1539:::14.1570:::14.1616\"}, {\"ner_chunk\": \"atorvastatin\", \"begin\": 190, \"end\": 201, \"ner_label\": \"PROCEDURE\", \"ner_confidence\": \"0.9999\", \"code\": \"G8598\", \"resolution\": \"Aspirin or another antiplatelet therapy used\", \"all_k_codes\": \"G8598:::M1055:::G8473:::G6030:::G8506:::A4480:::G9796:::G8895:::G8935:::G6034:::G6038:::L6686:::G2092:::C1753:::G6046:::L8613:::G8816:::G9441:::A9285:::G6054:::G9664:::L8670:::C1839:::G8580:::K1015\", \"all_k_resolutions\": \"Aspirin or another antiplatelet therapy used:::Aspirin or another antiplatelet therapy used:::Angiotensin converting enzyme (ace) inhibitor or angiotensin receptor blocker (arb) therapy prescribed:::Amitriptyline:::Patient receiving angiotensin converting enzyme (ace) inhibitor or angiotensin receptor blocker (arb) therapy:::Vabra aspirator:::Patient is currently on a statin therapy:::Oral aspirin or other antithrombotic therapy prescribed:::Clinician prescribed angiotensin converting enzyme (ace) inhibitor or angiotensin receptor blocker (arb) therapy:::Doxepin:::Salicylate:::Upper extremity addition, suction socket:::Angiotensin converting enzyme (ace) inhibitor or angiotensin receptor blocker (arb) or angiotensin receptor-neprilysin inhibitor (arni) therapy prescribed or currently being taken:::Catheter, intravascular ultrasound:::Dihydromorphinone:::Ossicula implant:::Statin medication prescribed at discharge:::Statin prescribed at discharge:::Inversion/eversion correction device:::Methsuximide:::Patients who are currently statin therapy users or received an order (prescription) for statin therapy:::Vascular graft material, synthetic, implant:::Iris prosthesis:::Antiplatelet medication contraindicated:::Foot, adductus positioning device, adjustable\", \"all_k_distances\": \"11.7403:::11.7403:::11.9109:::12.5000:::12.5919:::12.6601:::12.7002:::12.7367:::12.9740:::13.0265:::13.0330:::13.0740:::13.0842:::13.1261:::13.1302:::13.2028:::13.2287:::13.2709:::13.2758:::13.2928:::13.3597:::13.4550:::13.4596:::13.4706:::13.5217\"}, {\"ner_chunk\": \"gemfibrozil\", \"begin\": 207, \"end\": 217, \"ner_label\": \"PROCEDURE\", \"ner_confidence\": \"1.0\", \"code\": \"G6054\", \"resolution\": \"Methsuximide\", \"all_k_codes\": \"G6054:::G9839:::G9506:::G6052:::G9845:::G6051:::G6030:::G6057:::S3722:::G4010:::G6053:::V2299:::M0076:::K0730:::A0434:::G9498:::V2399:::   ZC:::G4000:::G4031:::   AF:::   JF:::G6032:::A4652:::A4480\", \"all_k_resolutions\": \"Methsuximide:::Anti-egfr monoclonal antibody therapy:::Biologic immune response modifier prescribed:::Meprobamate:::Patient received anti-egfr monoclonal antibody therapy:::Flurazepam:::Amitriptyline:::Phenothiazine:::Dose optimization by area under the curve (auc) analysis, for infusional 5-fluorouracil:::Infectious disease mips specialty set:::Methadone:::Specialty bifocal (by report):::Prolotherapy:::Controlled dose inhalation drug delivery system:::Specialty care transport (sct):::Antibiotic regimen prescribed:::Specialty trifocal (by report):::Merck/samsung bioepis:::Dermatology mips specialty set:::Radiation oncology mips specialty set:::Specialty physician:::Compounded drug:::Desipramine:::Microcapillary tube sealant:::Vabra aspirator\", \"all_k_distances\": \"11.9814:::12.1300:::12.2895:::12.4375:::12.6258:::13.1110:::13.1253:::13.1385:::13.2466:::13.2529:::13.2891:::13.2976:::13.5120:::13.5133:::13.5365:::13.5686:::13.5800:::13.5832:::13.6217:::13.6783:::13.6984:::13.7053:::13.7306:::13.7412:::13.7471\"}, {\"ner_chunk\": \"dapagliflozin\", \"begin\": 245, \"end\": 257, \"ner_label\": \"PROCEDURE\", \"ner_confidence\": \"0.9999\", \"code\": \"G6034\", \"resolution\": \"Doxepin\", \"all_k_codes\": \"G6034:::G6045:::G6032:::G6051:::A4480:::G6054:::G6057:::G6052:::G6048:::   JF:::H2020:::G6046:::   KD:::C1821:::A0394:::G6030:::G6036:::G0056:::Q4210:::A0434:::G6031:::S5121:::V2399:::L3265:::G4004\", \"all_k_resolutions\": \"Doxepin:::Dihydrocodeinone:::Desipramine:::Flurazepam:::Vabra aspirator:::Methsuximide:::Phenothiazine:::Meprobamate:::Dimethadione:::Compounded drug:::Therapeutic behavioral services, per diem:::Dihydromorphinone:::Drug or biological infused through dme:::Interspinous process distraction device (implantable):::Als specialized service disposable supplies; iv drug therapy:::Amitriptyline:::Assay of imipramine:::Optimizing chronic disease management mips value pathways:::Axolotl graft or axolotl dualgraft, per square centimeter:::Specialty care transport (sct):::Benzodiazepines:::Chore services; per diem:::Specialty trifocal (by report):::Plastazote sandal, each:::Endocrinology mips specialty set\", \"all_k_distances\": \"11.5148:::11.7737:::12.0168:::12.2436:::12.8329:::13.2624:::13.3853:::13.4606:::13.6252:::13.6464:::13.6919:::13.6979:::13.7837:::13.9320:::13.9806:::14.0456:::14.0608:::14.0699:::14.0801:::14.1054:::14.1347:::14.1362:::14.1539:::14.1570:::14.1616\"}, {\"ner_chunk\": \"insulin glargine\", \"begin\": 391, \"end\": 406, \"ner_label\": \"PROCEDURE\", \"ner_confidence\": \"0.98969996\", \"code\": \"E0784\", \"resolution\": \"External ambulatory infusion pump, insulin\", \"all_k_codes\": \"E0784:::E0787:::A4231:::G8777:::G8809:::G6030:::G6054:::S0128:::J1930:::S5570:::J1610:::S0126:::A9576:::E2101:::S5560:::G6036:::J7203:::G6051:::J1162:::S0122:::C1821:::A4230:::K0554:::G8485:::J1458\", \"all_k_resolutions\": \"External ambulatory infusion pump, insulin:::External ambulatory infusion pump, insulin, dosage rate adjustment using therapeutic continuous glucose sensing:::Infusion set for external insulin pump, needle type:::Diabetes screening test performed:::Rh-immunoglobulin (rhogam) ordered:::Amitriptyline:::Methsuximide:::Injection, follitropin beta, 75 iu:::Injection, lanreotide, 1 mg:::Insulin delivery device, disposable pen (including insulin); 1.5 ml size:::Injection, glucagon hydrochloride, per 1 mg:::Injection, follitropin alfa, 75 iu:::Injection, gadoteridol, (prohance multipack), per ml:::Blood glucose monitor with integrated lancing/blood sample:::Insulin delivery device, reusable pen; 1.5 ml size:::Assay of imipramine:::Injection factor ix, (antihemophilic factor, recombinant), glycopegylated, (rebinyn), 1 iu:::Flurazepam:::Injection, digoxin immune fab (ovine), per vial:::Injection, menotropins, 75 iu:::Interspinous process distraction device (implantable):::Infusion set for external insulin pump, non needle cannula type:::Receiver (monitor), dedicated, for use with therapeutic glucose continuous monitor system:::I intend to report the diabetes mellitus (dm) measures group:::Injection, galsulfase, 1 mg\", \"all_k_distances\": \"10.3416:::11.4356:::12.7540:::13.0186:::13.2145:::13.4240:::13.5142:::13.5708:::13.6303:::13.7195:::13.7824:::13.7969:::13.8027:::13.8492:::13.8785:::13.9147:::13.9724:::13.9746:::14.0166:::14.0696:::14.0939:::14.0944:::14.1151:::14.1186:::14.1361\"}, {\"ner_chunk\": \"insulin lispro\", \"begin\": 431, \"end\": 444, \"ner_label\": \"PROCEDURE\", \"ner_confidence\": \"0.97045004\", \"code\": \"E0784\", \"resolution\": \"External ambulatory infusion pump, insulin\", \"all_k_codes\": \"E0784:::G6030:::G6054:::E0787:::A4231:::G6051:::G6052:::G6034:::G8777:::G6036:::C1839:::S5560:::   TE:::S9145:::J7198:::C9113:::J1270:::G6032:::A4480:::S5570:::G6038:::V2399:::J7181:::M0076:::C1821\", \"all_k_resolutions\": \"External ambulatory infusion pump, insulin:::Amitriptyline:::Methsuximide:::External ambulatory infusion pump, insulin, dosage rate adjustment using therapeutic continuous glucose sensing:::Infusion set for external insulin pump, needle type:::Flurazepam:::Meprobamate:::Doxepin:::Diabetes screening test performed:::Assay of imipramine:::Iris prosthesis:::Insulin delivery device, reusable pen; 1.5 ml size:::Lpn/lvn:::Insulin pump initiation, instruction in initial use of pump (pump not included):::Anti-inhibitor, per i.u.:::Injection, pantoprazole sodium, per vial:::Injection, doxercalciferol, 1 mcg:::Desipramine:::Vabra aspirator:::Insulin delivery device, disposable pen (including insulin); 1.5 ml size:::Salicylate:::Specialty trifocal (by report):::Injection, factor xiii a-subunit, (recombinant), per iu:::Prolotherapy:::Interspinous process distraction device (implantable)\", \"all_k_distances\": \"11.5040:::13.0605:::13.0745:::13.0756:::13.1586:::13.2311:::13.2866:::13.3995:::13.4090:::13.5013:::13.5557:::13.5840:::13.6224:::13.6236:::13.7466:::13.7549:::13.8173:::13.8272:::13.8992:::13.9012:::13.9192:::13.9225:::13.9343:::13.9629:::13.9962\"}, {\"ner_chunk\": \"metformin\", \"begin\": 463, \"end\": 471, \"ner_label\": \"PROCEDURE\", \"ner_confidence\": \"0.9992\", \"code\": \"G6054\", \"resolution\": \"Methsuximide\", \"all_k_codes\": \"G6054:::G6053:::G6052:::G6038:::G6030:::V5020:::A4617:::V2299:::V2399:::G6051:::   JF:::G6048:::A4570:::G6039:::A0434:::G9498:::G6057:::   SC:::G9674:::S0518:::   AF:::   TF:::G8777:::M0076:::   TS\", \"all_k_resolutions\": \"Methsuximide:::Methadone:::Meprobamate:::Salicylate:::Amitriptyline:::Conformity evaluation:::Mouth piece:::Specialty bifocal (by report):::Specialty trifocal (by report):::Flurazepam:::Compounded drug:::Dimethadione:::Splint:::Acetaminophen:::Specialty care transport (sct):::Antibiotic regimen prescribed:::Phenothiazine:::Medically necessary service or supply:::Patients with clinical ascvd diagnosis:::Sunglasses frames:::Specialty physician:::Intermediate level of care:::Diabetes screening test performed:::Prolotherapy:::Follow-up service\", \"all_k_distances\": \"10.9175:::11.5031:::12.7650:::12.7713:::13.2705:::13.5118:::13.5595:::13.5787:::13.5873:::13.5921:::13.6099:::13.6552:::13.7373:::13.7663:::13.8105:::13.8761:::13.9158:::13.9683:::14.0866:::14.1468:::14.1541:::14.1580:::14.1755:::14.1785:::14.1855\"}]}\n"
     ]
    }
   ],
   "source": [
    "process_s3_jsonlines_output_and_save(validation_jsonl_file_name)"
   ]
  },
  {
   "cell_type": "code",
   "execution_count": 21,
   "metadata": {
    "tags": []
   },
   "outputs": [
    {
     "name": "stderr",
     "output_type": "stream",
     "text": [
      "INFO:sagemaker:Deleting model with name: hcpcs-resolver-pipeline-en-2024-11-19-18-03-12-294\n"
     ]
    }
   ],
   "source": [
    "model.delete_model()"
   ]
  },
  {
   "cell_type": "markdown",
   "metadata": {},
   "source": [
    "### Unsubscribe to the listing (optional)"
   ]
  },
  {
   "cell_type": "markdown",
   "metadata": {
    "tags": []
   },
   "source": [
    "If you would like to unsubscribe to the model package, follow these steps. Before you cancel the subscription, ensure that you do not have any [deployable model](https://console.aws.amazon.com/sagemaker/home#/models) created from the model package or using the algorithm. Note - You can find this information by looking at the container name associated with the model. \n",
    "\n",
    "**Steps to unsubscribe to product from AWS Marketplace**:\n",
    "1. Navigate to __Machine Learning__ tab on [__Your Software subscriptions page__](https://aws.amazon.com/marketplace/ai/library?productType=ml&ref_=mlmp_gitdemo_indust)\n",
    "2. Locate the listing that you want to cancel the subscription for, and then choose __Cancel Subscription__  to cancel the subscription.\n",
    "\n"
   ]
  }
 ],
 "metadata": {
  "instance_type": "ml.t3.medium",
  "kernelspec": {
   "display_name": "conda_python3",
   "language": "python",
   "name": "conda_python3"
  },
  "language_info": {
   "codemirror_mode": {
    "name": "ipython",
    "version": 3
   },
   "file_extension": ".py",
   "mimetype": "text/x-python",
   "name": "python",
   "nbconvert_exporter": "python",
   "pygments_lexer": "ipython3",
   "version": "3.10.15"
  }
 },
 "nbformat": 4,
 "nbformat_minor": 4
}

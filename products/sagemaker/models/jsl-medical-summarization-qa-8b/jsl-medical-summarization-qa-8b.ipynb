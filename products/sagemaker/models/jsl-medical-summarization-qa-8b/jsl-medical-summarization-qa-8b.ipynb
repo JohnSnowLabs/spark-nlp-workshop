{
 "cells": [
  {
   "cell_type": "markdown",
   "id": "82a4cf96-c239-49cc-88f9-a8e885bde191",
   "metadata": {},
   "source": [
    "## 1. Subscribe to the model package"
   ]
  },
  {
   "cell_type": "markdown",
   "id": "982d6ab4-d03d-4a5a-ab23-144d8e6ec3d6",
   "metadata": {},
   "source": [
    "To subscribe to the model package:\n",
    "1. Open the model package listing page: [Medical LLM](https://aws.amazon.com/marketplace/pp/prodview-z4jqmczvwgtby).\n",
    "1. On the AWS Marketplace listing, click on the **Continue to subscribe** button.\n",
    "1. On the **Subscribe to this software** page, review and click on **\"Accept Offer\"** if you and your organization agrees with EULA, pricing, and support terms. \n",
    "1. Once you click on **Continue to configuration button** and then choose a **region**, you will see a **Product Arn** displayed. This is the model package ARN that you need to specify while creating a deployable model using Boto3. Copy the ARN corresponding to your region and specify the same in the following cell."
   ]
  },
  {
   "cell_type": "markdown",
   "id": "dad4b722-a125-4219-9c22-009acf75414d",
   "metadata": {},
   "source": [
    "\n",
    "- **Model**: `jsl-medical-summarization-qa-8b`\n",
    "- **Model Description**: Medical model for summarization, question answering (open-book and closed-book), and general chat."
   ]
  },
  {
   "cell_type": "code",
   "execution_count": null,
   "id": "9d1fb27b-e0ad-4759-937d-ae4edc209fc1",
   "metadata": {
    "tags": []
   },
   "outputs": [],
   "source": [
    "model_package_arn = \"<Customer to specify Model package ARN corresponding to their AWS region>\""
   ]
  },
  {
   "cell_type": "code",
   "execution_count": null,
   "id": "76ede1bf-2acb-4b5d-9db1-299abfeee20b",
   "metadata": {
    "tags": []
   },
   "outputs": [],
   "source": [
    "from sagemaker import ModelPackage\n",
    "import sagemaker as sage\n",
    "from sagemaker import get_execution_role\n",
    "import boto3\n",
    "from IPython.display import display\n",
    "from io import StringIO\n",
    "\n",
    "sagemaker_session = sage.Session()\n",
    "s3_bucket = sagemaker_session.default_bucket()\n",
    "region = sagemaker_session.boto_region_name\n",
    "account_id = boto3.client(\"sts\").get_caller_identity().get(\"Account\")\n",
    "role = get_execution_role()\n",
    "\n",
    "sagemaker = boto3.client(\"sagemaker\")\n",
    "s3_client = sagemaker_session.boto_session.client(\"s3\")\n",
    "ecr = boto3.client(\"ecr\")\n",
    "sm_runtime = boto3.client(\"sagemaker-runtime\")"
   ]
  },
  {
   "cell_type": "code",
   "execution_count": null,
   "id": "07846ed0-ed90-4a11-a77c-00d1c3ca3cbd",
   "metadata": {
    "tags": []
   },
   "outputs": [],
   "source": [
    "model_name = \"jsl-medical-summarization-qa-8b\"\n",
    "\n",
    "real_time_inference_instance_type = \"ml.g5.2xlarge\"\n",
    "batch_transform_inference_instance_type = \"ml.g5.2xlarge\""
   ]
  },
  {
   "cell_type": "markdown",
   "id": "08a626b7-f295-4c49-b856-ce237d5d3203",
   "metadata": {},
   "source": [
    "## 2. Create a deployable model from the model package."
   ]
  },
  {
   "cell_type": "code",
   "execution_count": null,
   "id": "0e39b84b-7a9f-4004-a204-56af1fd555f1",
   "metadata": {
    "tags": []
   },
   "outputs": [],
   "source": [
    "# Define ModelPackage\n",
    "model = ModelPackage(\n",
    "    role=role,\n",
    "    model_package_arn=model_package_arn,\n",
    "    sagemaker_session=sagemaker_session\n",
    "\n",
    ")"
   ]
  },
  {
   "cell_type": "markdown",
   "id": "feadd478-4f99-4544-99e1-b97b0982a37c",
   "metadata": {},
   "source": [
    "### Important Parameters\n",
    "\n",
    "**Required Parameter:**\n",
    "- **`input_text`**: The input text(s) provided to the model.\n",
    "  - **Type**: `Union[str, dict, List[str], List[dict]]`\n",
    "  - **Constraints**: Provide a string for a single text or a list of strings for multiple inputs. Additionally, you can also provide a dictionary or a list containing multiple dictionaries with keys `context` and `question`. If you select the `open_book_qa` template, the model will format the input accordingly. If no template is selected, the `context` and `question` strings will be concatenated with a newline.\n",
    "\n",
    "**Optional Parameters for JSON Input Format:**\n",
    "- **`max_new_tokens`**: The maximum number of tokens the model should generate as output. (*Can be passed as an environment variable when initializing the SageMaker Transformer object for batch inference.*)\n",
    "  - **Type**: `int`\n",
    "  - **Default**: `1024`\n",
    "  - **Constraints**: Must be a positive integer greater than 0.\n",
    "\n",
    "- **`temperature`**: The temperature parameter controlling the randomness of token generation. (*Can be passed as an environment variable when initializing the SageMaker Transformer object for batch inference.*)\n",
    "  - **Type**: `float`\n",
    "  - **Default**: `0.2`\n",
    "  - **Constraints**: Must be a float between 0.0 and 1.0.\n",
    "\n",
    "- **`repetition_penalty`**: The repetition penalty parameter that penalizes new tokens based on whether they appear in the prompt and the generated text so far. Values > 1 encourage the model to use new tokens, while values < 1 encourage the model to repeat tokens. (*Can be passed as an environment variable when initializing the SageMaker Transformer object for batch inference.*)\n",
    "  - **Type**: `float`\n",
    "  - **Default**: `1.1`\n",
    "  - **Constraints**: Must be a float greater than 0 and less than or equal to 2.\n",
    "  \n",
    "- **`template`**: You can select the predefined template.\n",
    "  - **Type**: `str`\n",
    "  - **Default**: `None`\n",
    "  \n",
    "\n",
    "You can pick one of the following templates:\n",
    "```json\n",
    "{\n",
    "    \"summarization\": \"Summarize the following document:\\n## Document Start ##\\n{context}\\n## Document End ##\",\n",
    "    \"open_book_qa\": \"Answer the following question based on the given context:\\n## Context Start ##\\n{context}\\n## Context End ##\\n## Question Start ##\\n{question}\\n## Question End ##\",\n",
    "    \"closed_book_qa\": \"Answer the following question:\\n## Question Start ##\\n{question}\\n## Question End ##\",\n",
    "}\n",
    "```\n",
    "You can select any of these templates according to your use case. We perform string formatting, then pass it to the chat template.\n",
    "\n",
    "If no template is provided, we take your `input_text` as it is and do not perform any formatting, directly passing your input to the chat template.\n",
    "\n",
    "> **Parameter Priority**: User-provided parameters are given priority, followed by environment variables, and finally default values.\n",
    "\n",
    "**Note**: For JSON Lines input format, **max_new_tokens**, **temperature**, **repetition_penalty**, and **template** are not supported in the input request. You either need to specify these parameters as environment variables when initializing the SageMaker Transformer object for batch inference, or the default parameters will be used.\n",
    "\n",
    "\n",
    "---\n",
    "\n",
    "### Model Configuration\n",
    "\n",
    "| Parameter                  | Value     | Description                                                                                                                                                                                                                                                                                                                               |\n",
    "|----------------------------|-----------|-------------------------------------------------------------------------------------------------------------------------------------------------------------------------------------------------------------------------------------------------------------------------------------------------------------------------------------------|\n",
    "| **`dtype`**                | `float16` | The data type for the model weights and activations.                                                                                                                                                                                                                                                                                      |\n",
    "| **`max_model_len`**        | Variable  | This indicates that your input and the model response combined should come under this limit (`input + output <= max_model_len`). This is determined based on total available GPU memory: <ul><li>More than 58 GB GPU memory : 8,192 tokens</li><li>Less than 58 GB GPU memory: Default: 4,096 tokens.</li></ul> |\n",
    "| **`tensor_parallel_size`** | Variable  | The number of GPUs to use for distributed execution with tensor parallelism.                                                                                                                                                                                                                                                              |\n",
    "\n",
    "Other than the parameters mentioned above, we are utilizing the default parameters specified for the `LLM` class in the [VLLM documentation](https://docs.vllm.ai/en/latest/dev/offline_inference/llm.html).\n",
    "\n",
    "#### Instance-Specific `max_model_len` Values\n",
    "\n",
    "| Instance Type       | GPU Model  | Number of GPUs | Total GPU Memory (GB) | max_model_len   |\n",
    "|---------------------|------------|----------------|-----------------------|-----------------| \n",
    "| `ml.g5.2xlarge`     | NVIDIA A10G| 1              | 24                    | 4,096           |\n",
    "| `ml.g4dn.12xlarge`  | NVIDIA T4  | 4              | 64                    | 8,192           |\n",
    "\n",
    "\n",
    "Total Memory values are approximate. Usable memory may be slightly less. For pricing details, visit the [Amazon SageMaker pricing page](https://aws.amazon.com/sagemaker/pricing/)."
   ]
  },
  {
   "cell_type": "markdown",
   "id": "86f18c0f-9d95-449d-ae09-29d7d28fc4bd",
   "metadata": {},
   "source": [
    "### Input Format\n",
    "\n",
    "To use the model, you need to provide input in one of the following supported formats:\n",
    "\n",
    "#### Format 1: Single Input\n",
    "\n",
    "Provide a single input as a JSON object.\n",
    "\n",
    "```json\n",
    "{\n",
    "    \"input_text\": \"input text\"\n",
    "}\n",
    "```\n",
    "\n",
    "Alternatively, you can provide a dictionary containing the keys `context` and `question`.\n",
    "\n",
    "```json\n",
    "{\n",
    "    \"input_text\": {\"context\": \"Context\", \"question\": \"Question\"},\n",
    "    \"template\": \"open_book_qa\"\n",
    "}\n",
    "```\n",
    "\n",
    "#### Format 2: Multiple Inputs\n",
    "\n",
    "Provide multiple inputs as a JSON array.\n",
    "\n",
    "```json\n",
    "{\n",
    "    \"input_text\": [\n",
    "        \"input text 1\",\n",
    "        \"input text 2\"\n",
    "    ]\n",
    "}\n",
    "```\n",
    "\n",
    "Alternatively, you can provide an array of dictionaries, where each dictionary contains the keys `context` and `question`.\n",
    "\n",
    "```json\n",
    "{\n",
    "    \"input_text\": [\n",
    "        {\"context\": \"Context 1\", \"question\": \"Question 1\"},\n",
    "        {\"context\": \"Context 2\", \"question\": \"Question 2\"}\n",
    "    ],\n",
    "    \"template\": \"open_book_qa\"\n",
    "}\n",
    "```\n",
    "\n",
    "**Note**: If you provide dictionaries, you can specify the template as `open_book_qa`. If you don't select any template, it will concatenate both strings with a newline.\n",
    "\n",
    "\n",
    "#### Format 3: JSON Lines (JSONL):\n",
    "\n",
    "Provide input in JSON Lines format, where each line is a JSON object.\n",
    "```\n",
    "{\"input_text\": \"input text 1\"}\n",
    "{\"input_text\": \"input text 2\"}\n",
    "```\n"
   ]
  },
  {
   "cell_type": "markdown",
   "id": "6a846275-5af5-4679-9c52-d35ab157455b",
   "metadata": {},
   "source": [
    "## 3. Create an endpoint and perform real-time inference"
   ]
  },
  {
   "cell_type": "markdown",
   "id": "01b670fa-60d4-45a4-a0d6-3e8e2845b625",
   "metadata": {},
   "source": [
    "If you want to understand how real-time inference with Amazon SageMaker works, see [Documentation](https://docs.aws.amazon.com/sagemaker/latest/dg/how-it-works-hosting.html)."
   ]
  },
  {
   "cell_type": "markdown",
   "id": "5b2a308b-5452-4f23-b130-55f876d1574b",
   "metadata": {},
   "source": [
    "### A. Deploy the SageMaker model to an endpoint"
   ]
  },
  {
   "cell_type": "code",
   "execution_count": null,
   "id": "8c19c0c0-3ead-4834-8c02-a192da19080b",
   "metadata": {
    "tags": []
   },
   "outputs": [],
   "source": [
    "# Deploy the model\n",
    "predictor = model.deploy(\n",
    "    initial_instance_count=1,\n",
    "    instance_type=real_time_inference_instance_type, \n",
    "    endpoint_name=model_name,\n",
    ")"
   ]
  },
  {
   "cell_type": "code",
   "execution_count": null,
   "id": "5c195a50-43e4-4341-ad1d-23ca6f0aa45b",
   "metadata": {
    "tags": []
   },
   "outputs": [],
   "source": [
    "import json\n",
    "import pandas as pd\n",
    "import os\n",
    "\n",
    "# Set display options\n",
    "pd.set_option('display.max_rows', None)\n",
    "pd.set_option('display.max_columns', None)\n",
    "pd.set_option('display.max_colwidth', None)\n",
    "\n",
    "\n",
    "def invoke_endpoint(input_data: dict):\n",
    "    # Invoke the SageMaker endpoint with the input data \n",
    "\n",
    "    response = sm_runtime.invoke_endpoint(\n",
    "        EndpointName=model_name,\n",
    "        ContentType=\"application/json\",\n",
    "        Accept=\"application/json\",\n",
    "        Body=json.dumps(input_data),\n",
    "    )\n",
    "    return response[\"Body\"].read().decode(\"utf-8\")\n"
   ]
  },
  {
   "cell_type": "markdown",
   "id": "20ab6fa4-b51f-4f8d-9e79-4a45c450a0bf",
   "metadata": {},
   "source": [
    "### Question Answering"
   ]
  },
  {
   "cell_type": "markdown",
   "id": "e9a475e7-ad31-4b3b-b7b5-21310f541252",
   "metadata": {
    "tags": []
   },
   "source": [
    "#### Example: 1"
   ]
  },
  {
   "cell_type": "markdown",
   "id": "0cec2e03",
   "metadata": {},
   "source": [
    "##### Use built in Open Book QA template"
   ]
  },
  {
   "cell_type": "code",
   "execution_count": null,
   "id": "c22cf887-70d5-4a87-8476-988590228328",
   "metadata": {
    "tags": []
   },
   "outputs": [],
   "source": [
    "input_json_data = {\n",
    "    \"input_text\": {\n",
    "        \"context\": \"The patient is a 52-year-old male who is here for independent medical evaluation. The patient states that he works for ABC ABC as a temporary worker. He worked for ABCD too. The patient's main job was loading and unloading furniture and appliances for the home. The patient was approximately there for about two and a half weeks. Date of injury occurred back in October. The patient stating that he had history of previous back problems ongoing; however, he states that on this particular day back in October, he was unloading an 18-wheeler at ABC and he was bending down picking up boxes to unload and load. Unfortunately at this particular event, the patient had sharp pain in his lower back. Soon afterwards, he had radiating symptoms down his right buttock all the way down to the lateral part of his leg crossing his knee. This became progressively worse\", \n",
    "        \"question\": \"What symptoms did the patient experience after the injury?\"\n",
    "    },\n",
    "    \"template\": \"open_book_qa\"\n",
    "}\n",
    "\n",
    "response = invoke_endpoint(input_json_data)\n",
    "response"
   ]
  },
  {
   "cell_type": "markdown",
   "id": "d1a76aec-391a-44e9-b385-99aa62f1b4bf",
   "metadata": {},
   "source": [
    "#### Example: 2\n",
    "\n",
    "##### QA with Custom Template\n"
   ]
  },
  {
   "cell_type": "code",
   "execution_count": null,
   "id": "0c06b069-e3d8-48f4-9c09-fec59143ed11",
   "metadata": {
    "tags": []
   },
   "outputs": [],
   "source": [
    "input_json_data = {\n",
    "    \"input_text\": \"\"\"Answer the following question so a 5 year old child can understand based on the given context:\n",
    "    ## Context Start ##\n",
    "    Patient with a past medical history of hypertension for 15 years. (Medical Transcription Sample Report) HISTORY OF PRESENT ILLNESS: The patient is a 74-year-old white woman who has a past medical history of hypertension for 15 years, history of CVA with no residual hemiparesis and uterine cancer with pulmonary metastases, who presented for evaluation of recent worsening of the hypertension. According to the patient, she had stable blood pressure for the past 12-15 years on 10 mg of lisinopril.\n",
    "    ## Context End ##\n",
    "    ## Question Start ##\n",
    "    What is the primary issue reported by the patient?\n",
    "    ## Question End ##\"\"\",\n",
    "}\n",
    "# The timeout for InvokeEndpoint is 60 seconds, so please carefully select the number of input texts you are sending in one request.\n",
    "response = invoke_endpoint(input_json_data)\n",
    "response"
   ]
  },
  {
   "cell_type": "markdown",
   "id": "b2aba8d7-195c-4d3b-b509-0809de49a10f",
   "metadata": {},
   "source": [
    "### Summarization"
   ]
  },
  {
   "cell_type": "markdown",
   "id": "6ff38549-fbd1-45fa-8b83-5e7addcdd5ca",
   "metadata": {},
   "source": [
    "#### Example 1\n",
    "##### Built in Summarization template"
   ]
  },
  {
   "cell_type": "code",
   "execution_count": null,
   "id": "c611cf4a-a946-417a-80b9-c2d90f35c6cf",
   "metadata": {
    "tags": []
   },
   "outputs": [],
   "source": [
    "# Articles related to COVID-19 from the CORD-19 dataset\n",
    "covid19_articles = [\n",
    "    \"\"\"INTRODUCTION: Infection with the new coronavirus responsible for Severe Acute Respiratory Syndrome (SARS-CoV-2) continues to spread worldwide. \n",
    "    In Brazil, there are already more than 230 thousand dead, many of these older adults. OBJECTIVE: To present the clinical characteristics of older \n",
    "    Brazilian adults infected by COVID-19, in the epidemiological weeks (EW) 34-52, and to verify factors responsible for the increased risk of death. \n",
    "    METHODS: Retrospective and observational study conducted with secondary publicly available data, provided by the Brazilian Ministry of Health. \n",
    "    1,544 confirmed cases of registered COVID-19 infection were included between August 16 and December 26, 2020, aged 60 or older. OUTCOMES: Demographic data, \n",
    "    comorbidity, symptoms for disease, clinical information: days of hospitalization, chest X-ray, type of RT-PCR. RESULTS: 48% of patients admitted to the ICU \n",
    "    with evidence for SARS-CoV-2 died. Symptoms and comorbidities related to increased chance of death (OR) were immunodeficiency (188%), kidney disease (166%), \n",
    "    neurological disease (103%), dyspnea (86%), pneumopathy (55%), O2 saturation <95% (53%), respiratory discomfort (49%), age (36%), sore throat (31%), and sex (0.5%). \n",
    "    There was a 5% increase in the chance of death for each year of life. CONCLUSION: Heart disease and Diabetes mellitus were the most frequent comorbidities, but did not \n",
    "    indicate an increased risk of death from SARS-CoV-2 infection. Age, sex, sore throat, dyspnea, respiratory discomfort, O2 saturation <95%, neurological disease, pneumopathy,\n",
    "      immunodeficiency, and kidney disease were significantly associated with risk of death from COVID-19.\"\"\",\n",
    "\n",
    "    \"\"\"OBJECTIVE: To compare maternal and perinatal outcomes between randomized trials and observational studies in which conservative management was performed for more than 48 h \n",
    "    in patients with early-onset severe preeclampsia. METHODOLOGY: We searched PubMed, LILACS, Cochrane and Google Scholar. The studies were divided in two groups: randomized\n",
    "    and observational studies, from 1990 to 2018 that included patients with severe preeclampsia before 34 weeks of gestation with pregnancy prolongation &#8805;48 h but that did \n",
    "    not include fetal growth restriction or HELLP syndrome at the beginning. The main variables recorded were maternal and perinatal complications.\n",
    "    MAIN RESULTS: Forty-four studies met the inclusion criteria, and 5 of these were randomized.  The average pregnancy prolongation was 9 days, with no difference between groups.\n",
    "    Maternal complications were significantly more common in observational studies, RR = 0.71, 95% CI (0.54-0.93), p = .009. Perinatal complications were also significantly more common\n",
    "    in observational studies (RR = 0.89, 95% CI (0.80-0.98), p = .01) at the expense of stillbirth and neonatal deaths. The percentages of cesarean sections were significantly higher \n",
    "    in randomized studies, RR = 1.54, 95% CI (1.46-1.64).\n",
    "    There were 2 maternal deaths, both in observational studies. CONCLUSION: Observational studies in which conservative management of early-onset preeclampsia is performed and do \n",
    "    not include patients with fetal growth restriction or patients with HELLP syndrome and where at least 2 days of pregnancy prolongation is achieved are associated with significantly more maternal \n",
    "    and perinatal complications.\"\"\"\n",
    "]"
   ]
  },
  {
   "cell_type": "code",
   "execution_count": null,
   "id": "74cae5fc-7b6c-43f1-a47f-f2609f80a505",
   "metadata": {
    "tags": []
   },
   "outputs": [],
   "source": [
    "response = invoke_endpoint({\"input_text\": covid19_articles,\n",
    "                            \"template\": \"summarization\"})\n",
    "df = pd.DataFrame(json.loads(response))\n",
    "display(df)"
   ]
  },
  {
   "cell_type": "markdown",
   "id": "cfa42211-57c9-44bc-a8f4-a8c6c1c8b1ec",
   "metadata": {},
   "source": [
    "#### Custom Summarization Prompt\n"
   ]
  },
  {
   "cell_type": "code",
   "execution_count": null,
   "id": "40594e2f-fe7a-424b-9dd0-1056fdd16e40",
   "metadata": {
    "tags": []
   },
   "outputs": [],
   "source": [
    "\n",
    "custom_summarization_input ={\"input_text\": \"\"\"Summarize the following document in 30 words or less :\n",
    "## Document Start ##\n",
    "INTRODUCTION: Infection with the new coronavirus responsible for Severe Acute Respiratory Syndrome (SARS-CoV-2) continues to spread worldwide. In Brazil, there are already more than 230 thousand dead,\n",
    "many of these older adults. OBJECTIVE: To present the clinical characteristics of older Brazilian adults infected by COVID-19, in the epidemiological weeks (EW) 34-52, and to verify factors responsible for the increased risk of death. \n",
    "METHODS: Retrospective and observational study conducted with secondary publicly available data, provided by the Brazilian Ministry of Health. 1,544 confirmed cases of registered COVID-19 infection were included between August 16 and December 26, 2020, aged 60 or older. OUTCOMES: Demographic data, comorbidity, symptoms for disease, clinical information: days of hospitalization, chest X-ray, type of RT-PCR. RESULTS: 48% of patients admitted to the ICU with evidence for SARS-CoV-2 died. Symptoms and comorbidities related to increased chance of death (OR) \n",
    "were immunodeficiency (188%), kidney disease (166%), neurological disease (103%), dyspnea (86%), pneumopathy (55%), O2 saturation <95% (53%), respiratory discomfort (49%), age (36%), sore throat (31%), and sex (0.5%). There was a 5% increase in the chance of death for each year of life. CONCLUSION: Heart disease and Diabetes mellitus were the most frequent comorbidities,\n",
    "but did not indicate an increased risk of death from SARS-CoV-2 infection. Age, sex, sore throat, dyspnea, respiratory discomfort, O2 saturation <95%, neurological disease, pneumopathy, immunodeficiency, and kidney disease were significantly associated with risk of death from COVID-19.\n",
    "## Document End ##\n",
    "\"\"\"}\n",
    "response = invoke_endpoint(custom_summarization_input)\n",
    "response"
   ]
  },
  {
   "cell_type": "markdown",
   "id": "547960f3-6629-4c2d-a4d2-cdb26c9c61d0",
   "metadata": {},
   "source": [
    "Now that you have successfully performed a real-time inference, you do not need the endpoint any more. You can terminate the endpoint to avoid being charged."
   ]
  },
  {
   "cell_type": "code",
   "execution_count": null,
   "id": "488631f8-c3be-4b30-aba4-75d83ee588a3",
   "metadata": {
    "tags": []
   },
   "outputs": [],
   "source": [
    "model.sagemaker_session.delete_endpoint(model_name)\n",
    "model.sagemaker_session.delete_endpoint_config(model_name)"
   ]
  },
  {
   "cell_type": "markdown",
   "id": "c0e98cc5-6ea8-41bf-a78f-dbe6771caf55",
   "metadata": {},
   "source": [
    "## 4. Batch transform\n",
    "\n",
    "Useful when you need model prediction on large dataset or if you don't need immediate response.\n",
    "\n",
    "<b>JSONLines</b> is recommended for batch transform jobs as it can take advantage of batch parameters provided by Sagemaker transform jobs. Make sure you use appropriate transform parameters for JSONLines.\n",
    "See here: https://docs.aws.amazon.com/sagemaker/latest/dg/cdf-inference.html"
   ]
  },
  {
   "cell_type": "code",
   "execution_count": null,
   "id": "f7d163c0-a6c7-49c5-a4ea-27b83670eb7b",
   "metadata": {
    "tags": []
   },
   "outputs": [],
   "source": [
    "# Uploading data to S3 for batch transform\n",
    "import json\n",
    "\n",
    "# JSONL paths\n",
    "validation_input_jsonl_path = f\"s3://{s3_bucket}/{model_name}/validation-input/batch/jsonl/\"\n",
    "validation_output_jsonl_path = f\"s3://{s3_bucket}/{model_name}/validation-output/batch/jsonl/\"\n",
    "\n",
    "\n",
    "def create_jsonl(records):\n",
    "    json_records = []\n",
    "\n",
    "    for text in records:\n",
    "        record = {\n",
    "            \"input_text\": text\n",
    "        }\n",
    "        json_records.append(record)\n",
    "\n",
    "    json_lines = '\\n'.join(json.dumps(record) for record in json_records)\n",
    "\n",
    "    return json_lines\n",
    "\n",
    "\n",
    "def upload_to_s3(input_data):\n",
    "    s3_client.put_object(\n",
    "        Bucket=s3_bucket,\n",
    "        Key=f\"{model_name}/validation-input/batch/jsonl/input.jsonlines\",\n",
    "        Body=(bytes(input_data.encode(\"utf-8\"))),\n",
    "    )\n",
    "\n",
    "    \n",
    "def get_output_s3_file_content():\n",
    "    response = s3_client.get_object(\n",
    "        Bucket=s3_bucket,\n",
    "        Key=f\"{model_name}/validation-output/batch/jsonl/input.jsonlines.out\"\n",
    "    )\n",
    "    return response[\"Body\"].read().decode(\"utf-8\")\n",
    "\n",
    "\n",
    "\n"
   ]
  },
  {
   "cell_type": "markdown",
   "id": "83dbd656-ac1b-4e83-b983-b185a6716fa2",
   "metadata": {},
   "source": [
    "##### Upload JSONLines input to S3 bucket"
   ]
  },
  {
   "cell_type": "code",
   "execution_count": null,
   "id": "1010a203-ee9c-4bb5-8491-fa35ebd4ee38",
   "metadata": {
    "tags": []
   },
   "outputs": [],
   "source": [
    "# Example data for JSONL files\n",
    "\n",
    "batch_inputs = [\n",
    "    \"\"\"Answer the following question based on the given context:\\n## Context Start ##\\nWithin the last several days, he has seen you in clinic and once again discussed whether or not to undergo radiation for his left temporal lesion. The patient has clearly been extremely ambivalent about this therapy for reasons that are not immediately apparent. It is clear that his MRI is progressing and that it seems unlikely at this time that anything other than radiation would be particularly effective. Despite repeatedly emphasizing this; however, the patient still is worried about potential long-term side effects from treatment that frankly seem unwarranted at this particular time\\n## Context End ##\\n## Question Start ##\\nWhat is the patient's concern regarding undergoing radiation therapy for his left temporal lesion?\\n## Question End ##\"\"\",\n",
    "    \"\"\"Answer the following question so a 10 year old child can understand based on the given context:\\n## Context Start ##\\nThe patient is a 52-year-old male who is here for independent medical evaluation. The patient states that he works for ABC ABC as a temporary worker. He worked for ABCD too. The patient's main job was loading and unloading furniture and appliances for the home. The patient was approximately there for about two and a half weeks. Date of injury occurred back in October. The patient stating that he had history of previous back problems ongoing; however, he states that on this particular day back in October, he was unloading an 18-wheeler at ABC and he was bending down picking up boxes to unload and load. Unfortunately at this particular event, the patient had sharp pain in his lower back. Soon afterwards, he had radiating symptoms down his right buttock all the way down to the lateral part of his leg crossing his knee. This became progressively worse\\n## Context End ##\\n## Question Start ##\\nWhat symptoms did the patient experience after the injury?\\n## Question End ##\"\"\",\n",
    "    \"\"\"Answer the following question in less than 30 words with based on the given context:\\n## Context Start ##\\nPatient with a past medical history of hypertension for 15 years. (Medical Transcription Sample Report) HISTORY OF PRESENT ILLNESS: The patient is a 74-year-old white woman who has a past medical history of hypertension for 15 years, history of CVA with no residual hemiparesis and uterine cancer with pulmonary metastases, who presented for evaluation of recent worsening of the hypertension. According to the patient, she had stable blood pressure for the past 12-15 years on 10 mg of lisinopril.\\n## Context End ##\\n## Question Start ##\\nWhat is the primary issue reported by the patient?\\n## Question End ##\"\"\",\n",
    "    \"\"\"Summarize the following document:\\n## Document Start ##\\nINTRODUCTION: Infection with the new coronavirus responsible for Severe Acute Respiratory Syndrome (SARS-CoV-2) continues to spread worldwide. In Brazil, there are already more than 230 thousand dead, many of these older adults. OBJECTIVE: To present the clinical characteristics of older Brazilian adults infected by COVID-19, in the epidemiological weeks (EW) 34-52, and to verify factors responsible for the increased risk of death. METHODS: Retrospective and observational study conducted with secondary publicly available data, provided by the Brazilian Ministry of Health. 1,544 confirmed cases of registered COVID-19 infection were included between August 16 and December 26, 2020, aged 60 or older. OUTCOMES: Demographic data, comorbidity, symptoms for disease, clinical information: days of hospitalization, chest X-ray, type of RT-PCR. RESULTS: 48% of patients admitted to the ICU with evidence for SARS-CoV-2 died. Symptoms and comorbidities related to increased chance of death (OR) were immunodeficiency (188%), kidney disease (166%), neurological disease (103%), dyspnea (86%), pneumopathy (55%), O2 saturation <95% (53%), respiratory discomfort (49%), age (36%), sore throat (31%), and sex (0.5%). There was a 5% increase in the chance of death for each year of life. CONCLUSION: Heart disease and Diabetes mellitus were the most frequent comorbidities, but did not indicate an increased risk of death from SARS-CoV-2 infection. Age, sex, sore throat, dyspnea, respiratory discomfort, O2 saturation <95%, neurological disease, pneumopathy, immunodeficiency, and kidney disease were significantly associated with risk of death from COVID-19.\\n## Document End ##\"\"\",\n",
    "    \"\"\"Summarize the following document in less than 20 words:\\n## Document Start ##\\nOBJECTIVE: To compare maternal and perinatal outcomes between randomized trials and observational studies in which conservative management was performed for more than 48 h in patients with early-onset severe preeclampsia. METHODOLOGY: We searched PubMed, LILACS, Cochrane and Google Scholar. The studies were divided in two groups: randomized and observational studies, from 1990 to 2018 that included patients with severe preeclampsia before 34 weeks of gestation with pregnancy prolongation &#8805;48 h but that did not include fetal growth restriction or HELLP syndrome at the beginning. The main variables recorded were maternal and perinatal complications. MAIN RESULTS: Forty-four studies met the inclusion criteria, and 5 of these were randomized. The average pregnancy prolongation was 9 days, with no difference between groups. Maternal complications were significantly more common in observational studies, RR = 0.71, 95% CI (0.54-0.93), p = .009. Perinatal complications were also significantly more common in observational studies (RR = 0.89, 95% CI (0.80-0.98), p = .01) at the expense of stillbirth and neonatal deaths. The percentages of cesarean sections were significantly higher in randomized studies, RR = 1.54, 95% CI (1.46-1.64). There were 2 maternal deaths, both in observational studies. CONCLUSION: Observational studies in which conservative management of early-onset preeclampsia is performed and do not include patients with fetal growth restriction or patients with HELLP syndrome and where at least 2 days of pregnancy prolongation is achieved are associated with significantly more maternal and perinatal complications.\\n## Document End ##\"\"\",\n",
    "    \"\"\"Summarize the following document in less than 30 words:\\n## Document Start ##\\nBackground:In recent years, an integrated programme of vector control, screening and treatment of gambiense human African trypanosomiasis (gHAT) infections has led to a rapid decline in cases in the Mandoul disease focus of Chad. In this study, we assess whether elimination of transmission has already been achieved in the region despite low-level case reporting, quantify the role of intensified interventions in transmission reduction, and predict the trajectory of gHAT in Mandoul for the next decade under a range of control scenarios. Method: We utilise human case data (2000-2019) to update a previous model of transmission of gHAT in Mandoul. We also test the updated model, which now has refined assumptions on diagnostic specificity of the current algorithm and an improved fitting method, via a data censoring approach.Results:We conclude that passive detection rates have increased due to improvements in diagnostic availability in fixed health facilities since 2015, by 2.1-fold for stage 1 detection, and by 1.5-fold for stage 2. We find that whilst the diagnostic algorithm for active screening is estimated to be highly specific (99.93%, 95% CI: 99.91-99.95%), the high screening level and limited remaining infection means that some recently reported cases might be false positives, especially the ones that were not parasitologically confirmed. We also find that the focus-wide tsetse vector reduction estimated through model fitting (99.1%, 95% CI: 96.1-99.6%) is comparable to the very high reduction previously measured by the decline in catches of tsetse from monitoring traps. In line with previous results, the model suggests that transmission was likely interrupted in 2015 as a result of intensified interventions. Conclusions: We recommend that additional confirmatory testing is performed in Mandoul in order that the endgame can be carefully monitored now that infection levels are so low. More specific measurement of cases would better inform when it is safe to stop active screening and vector control.\\n## Document End ##\"\"\",\n",
    "    \"\"\"Summarize the following document in less than 10 words:\\n## Document Start ##\\nMicroanatomy of the vast majority of human organs at birth is characterized by marked differences as compared to adult organs, regarding their architecture and the cell types detectable at histology. In preterm neonates, these differences are even more evident, due to the lower level of organ maturation and to ongoing cell differentiation. One of the most remarkable finding in preterm tissues is the presence of huge amounts of stem/progenitor cells in multiple organs, including kidney, brain, heart, adrenals, and lungs. In other organs, such as liver, the completely different burden of cell types in preterm infants is mainly related to the different function of the liver during gestation, mainly focused on hematopoiesis, a function that is taken by bone marrow after birth. Our preliminary studies showed that the antigens expressed by stem/progenitors differ significantly from one organ to the next. Moreover, within each developing human tissue, reactivity for different stem cell markers also changes during gestation, according with the multiple differentiation steps encountered by each progenitor during development. A better knowledge of stem/progenitor cells of preterms will allow neonatologists to boost preterm organ maturation, favoring the differentiation of the multiple cells types that characterize each organ in at term neonates.\\n## Document End ##\"\"\",                \n",
    "]\n",
    "input_jsonl_data = create_jsonl(batch_inputs)"
   ]
  },
  {
   "cell_type": "code",
   "execution_count": null,
   "id": "ba601953-78a0-4523-9e3a-45eb5b6ae4a2",
   "metadata": {
    "tags": []
   },
   "outputs": [],
   "source": [
    "input_df = pd.read_json(StringIO(input_jsonl_data), lines=True)\n",
    "display(input_df)"
   ]
  },
  {
   "cell_type": "code",
   "execution_count": null,
   "id": "b5c42ff4-3b2c-42ed-b651-4c83c254b354",
   "metadata": {
    "tags": []
   },
   "outputs": [],
   "source": [
    "upload_to_s3(input_jsonl_data)"
   ]
  },
  {
   "cell_type": "code",
   "execution_count": null,
   "id": "25479419-e281-4987-b1d0-9f57ce5f1e2c",
   "metadata": {
    "tags": []
   },
   "outputs": [],
   "source": [
    "# Initialize a SageMaker Transformer object\n",
    "\n",
    "config = {\n",
    "    'MAX_NEW_TOKENS': '1024',\n",
    "    'TEMPERATURE': '0.2',\n",
    "    'REPETITION_PENALTY': '1.1'\n",
    "}\n",
    "\n",
    "\n",
    "transformer = model.transformer(\n",
    "    instance_count=1,\n",
    "    instance_type=batch_transform_inference_instance_type,\n",
    "    accept=\"application/jsonlines\",\n",
    "    assemble_with=\"Line\",\n",
    "    max_payload=1,\n",
    "    strategy=\"MultiRecord\",\n",
    "    output_path=validation_output_jsonl_path,\n",
    "    env=config\n",
    ")\n",
    "transformer.transform(validation_input_jsonl_path, content_type=\"application/jsonlines\",\n",
    "                      split_type=\"Line\")\n",
    "transformer.wait()"
   ]
  },
  {
   "cell_type": "code",
   "execution_count": null,
   "id": "388c9b9f-de72-44d4-b22b-c22b0336d925",
   "metadata": {
    "tags": []
   },
   "outputs": [],
   "source": [
    "output_content = get_output_s3_file_content()\n",
    "output_df = pd.read_json(StringIO(output_content), lines=True)\n",
    "display(output_df)"
   ]
  },
  {
   "cell_type": "code",
   "execution_count": null,
   "id": "22a8df79-ad3b-4e85-a054-24931c15f3a3",
   "metadata": {
    "tags": []
   },
   "outputs": [],
   "source": [
    "model.delete_model()"
   ]
  },
  {
   "cell_type": "markdown",
   "id": "37215a51-bf01-4cf0-832a-c7f85a8a06c3",
   "metadata": {},
   "source": [
    "## Unsubscribe to the listing (optional)"
   ]
  },
  {
   "cell_type": "markdown",
   "id": "53cddd4d-4b27-4a94-95b8-5e027e6cd9cd",
   "metadata": {},
   "source": [
    "If you would like to unsubscribe to the model package, follow these steps. Before you cancel the subscription, ensure that you do not have any [deployable model](https://console.aws.amazon.com/sagemaker/home#/models) created from the model package or using the algorithm. Note - You can find this information by looking at the container name associated with the model. \n",
    "\n",
    "**Steps to unsubscribe to product from AWS Marketplace**:\n",
    "1. Navigate to __Machine Learning__ tab on [__Your Software subscriptions page__](https://aws.amazon.com/marketplace/ai/library?productType=ml&ref_=mlmp_gitdemo_indust)\n",
    "2. Locate the listing that you want to cancel the subscription for, and then choose __Cancel Subscription__  to cancel the subscription.\n",
    "\n"
   ]
  }
 ],
 "metadata": {
  "kernelspec": {
   "display_name": "conda_python3",
   "language": "python",
   "name": "conda_python3"
  },
  "language_info": {
   "codemirror_mode": {
    "name": "ipython",
    "version": 3
   },
   "file_extension": ".py",
   "mimetype": "text/x-python",
   "name": "python",
   "nbconvert_exporter": "python",
   "pygments_lexer": "ipython3",
   "version": "3.10.14"
  }
 },
 "nbformat": 4,
 "nbformat_minor": 5
}

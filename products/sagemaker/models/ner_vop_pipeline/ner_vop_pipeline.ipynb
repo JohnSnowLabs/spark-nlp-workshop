{
 "cells": [
  {
   "cell_type": "markdown",
   "metadata": {},
   "source": [
    "## 1. Subscribe to the model package"
   ]
  },
  {
   "cell_type": "markdown",
   "metadata": {},
   "source": [
    "To subscribe to the model package:\n",
    "1. Open the model package listing page <font color='red'> For Seller to update:[Title_of_your_product](Provide link to your marketplace listing of your product).</font>\n",
    "1. On the AWS Marketplace listing, click on the **Continue to subscribe** button.\n",
    "1. On the **Subscribe to this software** page, review and click on **\"Accept Offer\"** if you and your organization agrees with EULA, pricing, and support terms. \n",
    "1. Once you click on **Continue to configuration button** and then choose a **region**, you will see a **Product Arn** displayed. This is the model package ARN that you need to specify while creating a deployable model using Boto3. Copy the ARN corresponding to your region and specify the same in the following cell."
   ]
  },
  {
   "cell_type": "markdown",
   "metadata": {},
   "source": [
    "# Background\n",
    "\n",
    "- **Model**: `ner_vop_pipeline`\n",
    "\n",
    "- **Model Description**: This pipeline includes the full taxonomy Named-Entity Recognition model to extract information from health-related text in colloquial language. This pipeline extracts diagnoses, treatments, tests, anatomical references and demographic entities.\n",
    "\n",
    "\n"
   ]
  },
  {
   "cell_type": "code",
   "execution_count": 1,
   "metadata": {
    "tags": []
   },
   "outputs": [],
   "source": [
    "model_package_arn = \"<Customer to specify Model package ARN corresponding to their AWS region>\""
   ]
  },
  {
   "cell_type": "code",
   "execution_count": 2,
   "metadata": {
    "tags": []
   },
   "outputs": [
    {
     "name": "stderr",
     "output_type": "stream",
     "text": [
      "/home/ec2-user/anaconda3/envs/python3/lib/python3.10/site-packages/pandas/core/computation/expressions.py:21: UserWarning: Pandas requires version '2.8.0' or newer of 'numexpr' (version '2.7.3' currently installed).\n",
      "  from pandas.core.computation.check import NUMEXPR_INSTALLED\n"
     ]
    },
    {
     "name": "stdout",
     "output_type": "stream",
     "text": [
      "sagemaker.config INFO - Not applying SDK defaults from location: /etc/xdg/sagemaker/config.yaml\n",
      "sagemaker.config INFO - Not applying SDK defaults from location: /home/ec2-user/.config/sagemaker/config.yaml\n"
     ]
    }
   ],
   "source": [
    "import base64\n",
    "import json\n",
    "import uuid\n",
    "from sagemaker import ModelPackage\n",
    "import sagemaker as sage\n",
    "from sagemaker import get_execution_role\n",
    "import boto3\n",
    "from IPython.display import Image, display\n",
    "from PIL import Image as ImageEdit\n",
    "import numpy as np"
   ]
  },
  {
   "cell_type": "code",
   "execution_count": 3,
   "metadata": {
    "tags": []
   },
   "outputs": [],
   "source": [
    "sagemaker_session = sage.Session()\n",
    "s3_bucket = sagemaker_session.default_bucket()\n",
    "region = sagemaker_session.boto_region_name\n",
    "account_id = boto3.client(\"sts\").get_caller_identity().get(\"Account\")\n",
    "role = get_execution_role()\n",
    "\n",
    "sagemaker = boto3.client(\"sagemaker\")\n",
    "s3_client = sagemaker_session.boto_session.client(\"s3\")\n",
    "ecr = boto3.client(\"ecr\")\n",
    "sm_runtime = boto3.client(\"sagemaker-runtime\")"
   ]
  },
  {
   "cell_type": "markdown",
   "metadata": {},
   "source": [
    "## 2. Create an endpoint and perform real-time inference"
   ]
  },
  {
   "cell_type": "markdown",
   "metadata": {},
   "source": [
    "If you want to understand how real-time inference with Amazon SageMaker works, see [Documentation](https://docs.aws.amazon.com/sagemaker/latest/dg/how-it-works-hosting.html)."
   ]
  },
  {
   "cell_type": "code",
   "execution_count": 4,
   "metadata": {
    "tags": []
   },
   "outputs": [],
   "source": [
    "model_name = \"jsl-ner-vop-pipeline\"\n",
    "\n",
    "content_type = \"application/json\"\n",
    "\n",
    "real_time_inference_instance_type = \"ml.m4.xlarge\"\n",
    "batch_transform_inference_instance_type = \"ml.m4.xlarge\"\n"
   ]
  },
  {
   "cell_type": "markdown",
   "metadata": {},
   "source": [
    "### A. Create an endpoint"
   ]
  },
  {
   "cell_type": "code",
   "execution_count": 5,
   "metadata": {
    "tags": []
   },
   "outputs": [
    {
     "name": "stdout",
     "output_type": "stream",
     "text": [
      "---------------!"
     ]
    }
   ],
   "source": [
    "# create a deployable model from the model package.\n",
    "model = ModelPackage(\n",
    "    role=role, model_package_arn=model_package_arn, sagemaker_session=sagemaker_session\n",
    ")\n",
    "\n",
    "# Deploy the model\n",
    "predictor = model.deploy(1, real_time_inference_instance_type, endpoint_name=model_name)"
   ]
  },
  {
   "cell_type": "markdown",
   "metadata": {},
   "source": [
    "Once endpoint has been created, you would be able to perform real-time inference."
   ]
  },
  {
   "cell_type": "code",
   "execution_count": 6,
   "metadata": {
    "tags": []
   },
   "outputs": [],
   "source": [
    "import json\n",
    "import pandas as pd\n",
    "import os\n",
    "import boto3\n",
    "\n",
    "\n",
    "# Set display options\n",
    "pd.set_option('display.max_rows', None)  \n",
    "pd.set_option('display.max_columns', None)  \n",
    "pd.set_option('display.max_colwidth', None) \n",
    "\n",
    "\n",
    "def process_data_and_invoke_realtime_endpoint(data_dicts):\n",
    "    for data_dict in data_dicts:\n",
    "        json_input_data = json.dumps(data_dict)    \n",
    "        i = 1\n",
    "        input_file_name = f'inputs/real-time/input{i}.json'\n",
    "        output_file_name = f'outputs/real-time/out{i}.out'\n",
    "        \n",
    "        while os.path.exists(input_file_name) or os.path.exists(output_file_name):\n",
    "            i += 1\n",
    "            input_file_name = f'inputs/real-time/input{i}.json'\n",
    "            output_file_name = f'outputs/real-time/out{i}.out'\n",
    "\n",
    "        os.makedirs(os.path.dirname(input_file_name), exist_ok=True)\n",
    "        os.makedirs(os.path.dirname(output_file_name), exist_ok=True)\n",
    "        \n",
    "        with open(input_file_name, 'w') as f:\n",
    "            f.write(json_input_data)\n",
    "        \n",
    "        s3_client.put_object(Bucket=s3_bucket, Key=f\"validation-input-json/{os.path.basename(input_file_name)}\", Body=bytes(json_input_data.encode('UTF-8')))\n",
    "        \n",
    "        response = sm_runtime.invoke_endpoint(\n",
    "            EndpointName=model_name,\n",
    "            ContentType=content_type,\n",
    "            Accept=\"application/json\",\n",
    "            Body=json_input_data,\n",
    "        )\n",
    "\n",
    "        # Process response\n",
    "        response_data = json.loads(response[\"Body\"].read().decode(\"utf-8\"))\n",
    "\n",
    "        df = pd.DataFrame(response_data['predictions'], columns=['document', 'ner_chunk', 'begin', 'end', 'ner_label', 'confidence'])\n",
    "        display(df)\n",
    "\n",
    "        # Save response data to file\n",
    "        with open(output_file_name, 'w') as f_out:\n",
    "            json.dump(response_data, f_out, indent=4)\n"
   ]
  },
  {
   "cell_type": "markdown",
   "metadata": {},
   "source": [
    "  **Input format**:\n",
    "  \n",
    "  \n",
    "  {\"**text**\": \"Refers to the complete text being analyzed by the pipeline, encompassing all content subjected to named entity recognition.\"}\n",
    "\n"
   ]
  },
  {
   "cell_type": "code",
   "execution_count": 7,
   "metadata": {
    "tags": []
   },
   "outputs": [
    {
     "data": {
      "text/html": [
       "<div>\n",
       "<style scoped>\n",
       "    .dataframe tbody tr th:only-of-type {\n",
       "        vertical-align: middle;\n",
       "    }\n",
       "\n",
       "    .dataframe tbody tr th {\n",
       "        vertical-align: top;\n",
       "    }\n",
       "\n",
       "    .dataframe thead th {\n",
       "        text-align: right;\n",
       "    }\n",
       "</style>\n",
       "<table border=\"1\" class=\"dataframe\">\n",
       "  <thead>\n",
       "    <tr style=\"text-align: right;\">\n",
       "      <th></th>\n",
       "      <th>document</th>\n",
       "      <th>ner_chunk</th>\n",
       "      <th>begin</th>\n",
       "      <th>end</th>\n",
       "      <th>ner_label</th>\n",
       "      <th>confidence</th>\n",
       "    </tr>\n",
       "  </thead>\n",
       "  <tbody>\n",
       "    <tr>\n",
       "      <th>0</th>\n",
       "      <td>Maria is a 20-year-old girl who was diagnosed with hyperthyroidism 1 month ago.</td>\n",
       "      <td>20-year-old</td>\n",
       "      <td>11</td>\n",
       "      <td>21</td>\n",
       "      <td>Age</td>\n",
       "      <td>0.9618</td>\n",
       "    </tr>\n",
       "    <tr>\n",
       "      <th>1</th>\n",
       "      <td>Maria is a 20-year-old girl who was diagnosed with hyperthyroidism 1 month ago.</td>\n",
       "      <td>girl</td>\n",
       "      <td>23</td>\n",
       "      <td>26</td>\n",
       "      <td>Gender</td>\n",
       "      <td>0.9991</td>\n",
       "    </tr>\n",
       "    <tr>\n",
       "      <th>2</th>\n",
       "      <td>Maria is a 20-year-old girl who was diagnosed with hyperthyroidism 1 month ago.</td>\n",
       "      <td>hyperthyroidism</td>\n",
       "      <td>51</td>\n",
       "      <td>65</td>\n",
       "      <td>Disease</td>\n",
       "      <td>0.9743</td>\n",
       "    </tr>\n",
       "    <tr>\n",
       "      <th>3</th>\n",
       "      <td>Maria is a 20-year-old girl who was diagnosed with hyperthyroidism 1 month ago.</td>\n",
       "      <td>1 month ago</td>\n",
       "      <td>67</td>\n",
       "      <td>77</td>\n",
       "      <td>DateTime</td>\n",
       "      <td>0.664</td>\n",
       "    </tr>\n",
       "    <tr>\n",
       "      <th>4</th>\n",
       "      <td>She is admitted to The John Hopkins Hospital 2 days ago with a history of gestational diabetes mellitus diagnosed. She denied pain and any headache.</td>\n",
       "      <td>She</td>\n",
       "      <td>0</td>\n",
       "      <td>2</td>\n",
       "      <td>Gender</td>\n",
       "      <td>1.0</td>\n",
       "    </tr>\n",
       "    <tr>\n",
       "      <th>5</th>\n",
       "      <td>She is admitted to The John Hopkins Hospital 2 days ago with a history of gestational diabetes mellitus diagnosed. She denied pain and any headache.</td>\n",
       "      <td>admitted</td>\n",
       "      <td>7</td>\n",
       "      <td>14</td>\n",
       "      <td>AdmissionDischarge</td>\n",
       "      <td>0.9999</td>\n",
       "    </tr>\n",
       "    <tr>\n",
       "      <th>6</th>\n",
       "      <td>She is admitted to The John Hopkins Hospital 2 days ago with a history of gestational diabetes mellitus diagnosed. She denied pain and any headache.</td>\n",
       "      <td>John Hopkins Hospital</td>\n",
       "      <td>23</td>\n",
       "      <td>43</td>\n",
       "      <td>ClinicalDept</td>\n",
       "      <td>0.6984666</td>\n",
       "    </tr>\n",
       "    <tr>\n",
       "      <th>7</th>\n",
       "      <td>She is admitted to The John Hopkins Hospital 2 days ago with a history of gestational diabetes mellitus diagnosed. She denied pain and any headache.</td>\n",
       "      <td>2 days ago</td>\n",
       "      <td>45</td>\n",
       "      <td>54</td>\n",
       "      <td>DateTime</td>\n",
       "      <td>0.8039</td>\n",
       "    </tr>\n",
       "    <tr>\n",
       "      <th>8</th>\n",
       "      <td>She is admitted to The John Hopkins Hospital 2 days ago with a history of gestational diabetes mellitus diagnosed. She denied pain and any headache.</td>\n",
       "      <td>gestational diabetes mellitus</td>\n",
       "      <td>74</td>\n",
       "      <td>102</td>\n",
       "      <td>Disease</td>\n",
       "      <td>0.6344333</td>\n",
       "    </tr>\n",
       "    <tr>\n",
       "      <th>9</th>\n",
       "      <td>She is admitted to The John Hopkins Hospital 2 days ago with a history of gestational diabetes mellitus diagnosed. She denied pain and any headache.</td>\n",
       "      <td>She</td>\n",
       "      <td>115</td>\n",
       "      <td>117</td>\n",
       "      <td>Gender</td>\n",
       "      <td>1.0</td>\n",
       "    </tr>\n",
       "    <tr>\n",
       "      <th>10</th>\n",
       "      <td>She is admitted to The John Hopkins Hospital 2 days ago with a history of gestational diabetes mellitus diagnosed. She denied pain and any headache.</td>\n",
       "      <td>pain</td>\n",
       "      <td>126</td>\n",
       "      <td>129</td>\n",
       "      <td>Symptom</td>\n",
       "      <td>0.998</td>\n",
       "    </tr>\n",
       "    <tr>\n",
       "      <th>11</th>\n",
       "      <td>She is admitted to The John Hopkins Hospital 2 days ago with a history of gestational diabetes mellitus diagnosed. She denied pain and any headache.</td>\n",
       "      <td>headache</td>\n",
       "      <td>139</td>\n",
       "      <td>146</td>\n",
       "      <td>Symptom</td>\n",
       "      <td>0.9986</td>\n",
       "    </tr>\n",
       "  </tbody>\n",
       "</table>\n",
       "</div>"
      ],
      "text/plain": [
       "                                                                                                                                                document  \\\n",
       "0                                                                        Maria is a 20-year-old girl who was diagnosed with hyperthyroidism 1 month ago.   \n",
       "1                                                                        Maria is a 20-year-old girl who was diagnosed with hyperthyroidism 1 month ago.   \n",
       "2                                                                        Maria is a 20-year-old girl who was diagnosed with hyperthyroidism 1 month ago.   \n",
       "3                                                                        Maria is a 20-year-old girl who was diagnosed with hyperthyroidism 1 month ago.   \n",
       "4   She is admitted to The John Hopkins Hospital 2 days ago with a history of gestational diabetes mellitus diagnosed. She denied pain and any headache.   \n",
       "5   She is admitted to The John Hopkins Hospital 2 days ago with a history of gestational diabetes mellitus diagnosed. She denied pain and any headache.   \n",
       "6   She is admitted to The John Hopkins Hospital 2 days ago with a history of gestational diabetes mellitus diagnosed. She denied pain and any headache.   \n",
       "7   She is admitted to The John Hopkins Hospital 2 days ago with a history of gestational diabetes mellitus diagnosed. She denied pain and any headache.   \n",
       "8   She is admitted to The John Hopkins Hospital 2 days ago with a history of gestational diabetes mellitus diagnosed. She denied pain and any headache.   \n",
       "9   She is admitted to The John Hopkins Hospital 2 days ago with a history of gestational diabetes mellitus diagnosed. She denied pain and any headache.   \n",
       "10  She is admitted to The John Hopkins Hospital 2 days ago with a history of gestational diabetes mellitus diagnosed. She denied pain and any headache.   \n",
       "11  She is admitted to The John Hopkins Hospital 2 days ago with a history of gestational diabetes mellitus diagnosed. She denied pain and any headache.   \n",
       "\n",
       "                        ner_chunk  begin  end           ner_label confidence  \n",
       "0                     20-year-old     11   21                 Age     0.9618  \n",
       "1                            girl     23   26              Gender     0.9991  \n",
       "2                 hyperthyroidism     51   65             Disease     0.9743  \n",
       "3                     1 month ago     67   77            DateTime      0.664  \n",
       "4                             She      0    2              Gender        1.0  \n",
       "5                        admitted      7   14  AdmissionDischarge     0.9999  \n",
       "6           John Hopkins Hospital     23   43        ClinicalDept  0.6984666  \n",
       "7                      2 days ago     45   54            DateTime     0.8039  \n",
       "8   gestational diabetes mellitus     74  102             Disease  0.6344333  \n",
       "9                             She    115  117              Gender        1.0  \n",
       "10                           pain    126  129             Symptom      0.998  \n",
       "11                       headache    139  146             Symptom     0.9986  "
      ]
     },
     "metadata": {},
     "output_type": "display_data"
    }
   ],
   "source": [
    "data_dicts = [ { \"text\" :[\"Maria is a 20-year-old girl who was diagnosed with hyperthyroidism 1 month ago.\",\n",
    "    \"She is admitted to The John Hopkins Hospital 2 days ago with a history of gestational diabetes mellitus diagnosed. She denied pain and any headache.\"]}\n",
    "             ]\n",
    "process_data_and_invoke_realtime_endpoint(data_dicts)\n"
   ]
  },
  {
   "cell_type": "code",
   "execution_count": 8,
   "metadata": {
    "tags": []
   },
   "outputs": [
    {
     "data": {
      "text/html": [
       "<div>\n",
       "<style scoped>\n",
       "    .dataframe tbody tr th:only-of-type {\n",
       "        vertical-align: middle;\n",
       "    }\n",
       "\n",
       "    .dataframe tbody tr th {\n",
       "        vertical-align: top;\n",
       "    }\n",
       "\n",
       "    .dataframe thead th {\n",
       "        text-align: right;\n",
       "    }\n",
       "</style>\n",
       "<table border=\"1\" class=\"dataframe\">\n",
       "  <thead>\n",
       "    <tr style=\"text-align: right;\">\n",
       "      <th></th>\n",
       "      <th>document</th>\n",
       "      <th>ner_chunk</th>\n",
       "      <th>begin</th>\n",
       "      <th>end</th>\n",
       "      <th>ner_label</th>\n",
       "      <th>confidence</th>\n",
       "    </tr>\n",
       "  </thead>\n",
       "  <tbody>\n",
       "    <tr>\n",
       "      <th>0</th>\n",
       "      <td>Mike, who is suffering from a rare form of cancer known as glioblastoma, recently underwent genomic sequencing that revealed a mutation in the TP53 gene, a key regulator in the cell cycle and apoptosis, often associated with tumor development.</td>\n",
       "      <td>cancer</td>\n",
       "      <td>43</td>\n",
       "      <td>48</td>\n",
       "      <td>Disease</td>\n",
       "      <td>0.9695</td>\n",
       "    </tr>\n",
       "    <tr>\n",
       "      <th>1</th>\n",
       "      <td>Mike, who is suffering from a rare form of cancer known as glioblastoma, recently underwent genomic sequencing that revealed a mutation in the TP53 gene, a key regulator in the cell cycle and apoptosis, often associated with tumor development.</td>\n",
       "      <td>glioblastoma</td>\n",
       "      <td>59</td>\n",
       "      <td>70</td>\n",
       "      <td>Disease</td>\n",
       "      <td>0.9747</td>\n",
       "    </tr>\n",
       "    <tr>\n",
       "      <th>2</th>\n",
       "      <td>Mike, who is suffering from a rare form of cancer known as glioblastoma, recently underwent genomic sequencing that revealed a mutation in the TP53 gene, a key regulator in the cell cycle and apoptosis, often associated with tumor development.</td>\n",
       "      <td>recently</td>\n",
       "      <td>73</td>\n",
       "      <td>80</td>\n",
       "      <td>DateTime</td>\n",
       "      <td>0.9734</td>\n",
       "    </tr>\n",
       "    <tr>\n",
       "      <th>3</th>\n",
       "      <td>Mike, who is suffering from a rare form of cancer known as glioblastoma, recently underwent genomic sequencing that revealed a mutation in the TP53 gene, a key regulator in the cell cycle and apoptosis, often associated with tumor development.</td>\n",
       "      <td>genomic sequencing</td>\n",
       "      <td>92</td>\n",
       "      <td>109</td>\n",
       "      <td>Test</td>\n",
       "      <td>0.51305</td>\n",
       "    </tr>\n",
       "    <tr>\n",
       "      <th>4</th>\n",
       "      <td>Mike, who is suffering from a rare form of cancer known as glioblastoma, recently underwent genomic sequencing that revealed a mutation in the TP53 gene, a key regulator in the cell cycle and apoptosis, often associated with tumor development.</td>\n",
       "      <td>TP53 gene</td>\n",
       "      <td>143</td>\n",
       "      <td>151</td>\n",
       "      <td>Test</td>\n",
       "      <td>0.5085</td>\n",
       "    </tr>\n",
       "    <tr>\n",
       "      <th>5</th>\n",
       "      <td>Mike, who is suffering from a rare form of cancer known as glioblastoma, recently underwent genomic sequencing that revealed a mutation in the TP53 gene, a key regulator in the cell cycle and apoptosis, often associated with tumor development.</td>\n",
       "      <td>apoptosis</td>\n",
       "      <td>192</td>\n",
       "      <td>200</td>\n",
       "      <td>Disease</td>\n",
       "      <td>0.7065</td>\n",
       "    </tr>\n",
       "    <tr>\n",
       "      <th>6</th>\n",
       "      <td>Mike, who is suffering from a rare form of cancer known as glioblastoma, recently underwent genomic sequencing that revealed a mutation in the TP53 gene, a key regulator in the cell cycle and apoptosis, often associated with tumor development.</td>\n",
       "      <td>tumor</td>\n",
       "      <td>225</td>\n",
       "      <td>229</td>\n",
       "      <td>Disease</td>\n",
       "      <td>0.9577</td>\n",
       "    </tr>\n",
       "  </tbody>\n",
       "</table>\n",
       "</div>"
      ],
      "text/plain": [
       "                                                                                                                                                                                                                                              document  \\\n",
       "0  Mike, who is suffering from a rare form of cancer known as glioblastoma, recently underwent genomic sequencing that revealed a mutation in the TP53 gene, a key regulator in the cell cycle and apoptosis, often associated with tumor development.   \n",
       "1  Mike, who is suffering from a rare form of cancer known as glioblastoma, recently underwent genomic sequencing that revealed a mutation in the TP53 gene, a key regulator in the cell cycle and apoptosis, often associated with tumor development.   \n",
       "2  Mike, who is suffering from a rare form of cancer known as glioblastoma, recently underwent genomic sequencing that revealed a mutation in the TP53 gene, a key regulator in the cell cycle and apoptosis, often associated with tumor development.   \n",
       "3  Mike, who is suffering from a rare form of cancer known as glioblastoma, recently underwent genomic sequencing that revealed a mutation in the TP53 gene, a key regulator in the cell cycle and apoptosis, often associated with tumor development.   \n",
       "4  Mike, who is suffering from a rare form of cancer known as glioblastoma, recently underwent genomic sequencing that revealed a mutation in the TP53 gene, a key regulator in the cell cycle and apoptosis, often associated with tumor development.   \n",
       "5  Mike, who is suffering from a rare form of cancer known as glioblastoma, recently underwent genomic sequencing that revealed a mutation in the TP53 gene, a key regulator in the cell cycle and apoptosis, often associated with tumor development.   \n",
       "6  Mike, who is suffering from a rare form of cancer known as glioblastoma, recently underwent genomic sequencing that revealed a mutation in the TP53 gene, a key regulator in the cell cycle and apoptosis, often associated with tumor development.   \n",
       "\n",
       "            ner_chunk  begin  end ner_label confidence  \n",
       "0              cancer     43   48   Disease     0.9695  \n",
       "1        glioblastoma     59   70   Disease     0.9747  \n",
       "2            recently     73   80  DateTime     0.9734  \n",
       "3  genomic sequencing     92  109      Test    0.51305  \n",
       "4           TP53 gene    143  151      Test     0.5085  \n",
       "5           apoptosis    192  200   Disease     0.7065  \n",
       "6               tumor    225  229   Disease     0.9577  "
      ]
     },
     "metadata": {},
     "output_type": "display_data"
    }
   ],
   "source": [
    "data_dicts = [\n",
    "    {\"text\" : \"\"\"Mike, who is suffering from a rare form of cancer known as glioblastoma, recently underwent genomic sequencing that revealed a mutation in the TP53 gene, a key regulator in the cell cycle and apoptosis, often associated with tumor development.\"\"\"},\n",
    "]\n",
    "\n",
    "process_data_and_invoke_realtime_endpoint(data_dicts)"
   ]
  },
  {
   "cell_type": "markdown",
   "metadata": {},
   "source": [
    "### C. Delete the endpoint"
   ]
  },
  {
   "cell_type": "markdown",
   "metadata": {},
   "source": [
    "Now that you have successfully performed a real-time inference, you do not need the endpoint any more. You can terminate the endpoint to avoid being charged."
   ]
  },
  {
   "cell_type": "code",
   "execution_count": 9,
   "metadata": {
    "tags": []
   },
   "outputs": [],
   "source": [
    "model.sagemaker_session.delete_endpoint(model_name)\n",
    "model.sagemaker_session.delete_endpoint_config(model_name)"
   ]
  },
  {
   "cell_type": "markdown",
   "metadata": {
    "tags": []
   },
   "source": [
    "## 3. Batch inference"
   ]
  },
  {
   "cell_type": "code",
   "execution_count": 10,
   "metadata": {
    "tags": []
   },
   "outputs": [],
   "source": [
    "validation_input_path = f\"s3://{s3_bucket}/validation-input-json/\"\n",
    "validation_output_path = f\"s3://{s3_bucket}/validation-output-json/\""
   ]
  },
  {
   "cell_type": "code",
   "execution_count": 11,
   "metadata": {
    "tags": []
   },
   "outputs": [],
   "source": [
    "input_file_name = 'inputs/batch/input.json'\n",
    "output_file_name = 'outputs/batch/out.out'\n",
    "\n",
    "os.makedirs(os.path.dirname(input_file_name), exist_ok=True)\n",
    "os.makedirs(os.path.dirname(output_file_name), exist_ok=True)"
   ]
  },
  {
   "cell_type": "code",
   "execution_count": null,
   "metadata": {
    "tags": []
   },
   "outputs": [],
   "source": [
    "transformer = model.transformer(\n",
    "    instance_count=1,\n",
    "    instance_type=\"ml.m4.xlarge\",\n",
    "    accept=\"application/json\",\n",
    ")\n",
    "transformer.transform(validation_input_path, content_type=content_type)\n",
    "transformer.wait()"
   ]
  },
  {
   "cell_type": "code",
   "execution_count": 13,
   "metadata": {
    "tags": []
   },
   "outputs": [],
   "source": [
    "validation_file_name = \"input.json\"\n",
    "input_json_data = {\"text\" :[\"Maria is a 20-year-old girl who was diagnosed with hyperthyroidism 1 month ago.\",\n",
    "    \"She is admitted to The John Hopkins Hospital 2 days ago with a history of gestational diabetes mellitus diagnosed. She denied pain and any headache.\"]}\n",
    "json_input_data = json.dumps(input_json_data)\n",
    "with open(input_file_name, 'w') as f:\n",
    "    f.write(json_input_data)"
   ]
  },
  {
   "cell_type": "code",
   "execution_count": 14,
   "metadata": {
    "tags": []
   },
   "outputs": [
    {
     "data": {
      "text/html": [
       "<div>\n",
       "<style scoped>\n",
       "    .dataframe tbody tr th:only-of-type {\n",
       "        vertical-align: middle;\n",
       "    }\n",
       "\n",
       "    .dataframe tbody tr th {\n",
       "        vertical-align: top;\n",
       "    }\n",
       "\n",
       "    .dataframe thead th {\n",
       "        text-align: right;\n",
       "    }\n",
       "</style>\n",
       "<table border=\"1\" class=\"dataframe\">\n",
       "  <thead>\n",
       "    <tr style=\"text-align: right;\">\n",
       "      <th></th>\n",
       "      <th>document</th>\n",
       "      <th>ner_chunk</th>\n",
       "      <th>begin</th>\n",
       "      <th>end</th>\n",
       "      <th>ner_label</th>\n",
       "      <th>confidence</th>\n",
       "    </tr>\n",
       "  </thead>\n",
       "  <tbody>\n",
       "    <tr>\n",
       "      <th>0</th>\n",
       "      <td>Maria is a 20-year-old girl who was diagnosed with hyperthyroidism 1 month ago.</td>\n",
       "      <td>20-year-old</td>\n",
       "      <td>11</td>\n",
       "      <td>21</td>\n",
       "      <td>Age</td>\n",
       "      <td>0.9618</td>\n",
       "    </tr>\n",
       "    <tr>\n",
       "      <th>1</th>\n",
       "      <td>Maria is a 20-year-old girl who was diagnosed with hyperthyroidism 1 month ago.</td>\n",
       "      <td>girl</td>\n",
       "      <td>23</td>\n",
       "      <td>26</td>\n",
       "      <td>Gender</td>\n",
       "      <td>0.9991</td>\n",
       "    </tr>\n",
       "    <tr>\n",
       "      <th>2</th>\n",
       "      <td>Maria is a 20-year-old girl who was diagnosed with hyperthyroidism 1 month ago.</td>\n",
       "      <td>hyperthyroidism</td>\n",
       "      <td>51</td>\n",
       "      <td>65</td>\n",
       "      <td>Disease</td>\n",
       "      <td>0.9743</td>\n",
       "    </tr>\n",
       "    <tr>\n",
       "      <th>3</th>\n",
       "      <td>Maria is a 20-year-old girl who was diagnosed with hyperthyroidism 1 month ago.</td>\n",
       "      <td>1 month ago</td>\n",
       "      <td>67</td>\n",
       "      <td>77</td>\n",
       "      <td>DateTime</td>\n",
       "      <td>0.664</td>\n",
       "    </tr>\n",
       "    <tr>\n",
       "      <th>4</th>\n",
       "      <td>She is admitted to The John Hopkins Hospital 2 days ago with a history of gestational diabetes mellitus diagnosed. She denied pain and any headache.</td>\n",
       "      <td>She</td>\n",
       "      <td>0</td>\n",
       "      <td>2</td>\n",
       "      <td>Gender</td>\n",
       "      <td>1.0</td>\n",
       "    </tr>\n",
       "    <tr>\n",
       "      <th>5</th>\n",
       "      <td>She is admitted to The John Hopkins Hospital 2 days ago with a history of gestational diabetes mellitus diagnosed. She denied pain and any headache.</td>\n",
       "      <td>admitted</td>\n",
       "      <td>7</td>\n",
       "      <td>14</td>\n",
       "      <td>AdmissionDischarge</td>\n",
       "      <td>0.9999</td>\n",
       "    </tr>\n",
       "    <tr>\n",
       "      <th>6</th>\n",
       "      <td>She is admitted to The John Hopkins Hospital 2 days ago with a history of gestational diabetes mellitus diagnosed. She denied pain and any headache.</td>\n",
       "      <td>John Hopkins Hospital</td>\n",
       "      <td>23</td>\n",
       "      <td>43</td>\n",
       "      <td>ClinicalDept</td>\n",
       "      <td>0.6984666</td>\n",
       "    </tr>\n",
       "    <tr>\n",
       "      <th>7</th>\n",
       "      <td>She is admitted to The John Hopkins Hospital 2 days ago with a history of gestational diabetes mellitus diagnosed. She denied pain and any headache.</td>\n",
       "      <td>2 days ago</td>\n",
       "      <td>45</td>\n",
       "      <td>54</td>\n",
       "      <td>DateTime</td>\n",
       "      <td>0.8039</td>\n",
       "    </tr>\n",
       "    <tr>\n",
       "      <th>8</th>\n",
       "      <td>She is admitted to The John Hopkins Hospital 2 days ago with a history of gestational diabetes mellitus diagnosed. She denied pain and any headache.</td>\n",
       "      <td>gestational diabetes mellitus</td>\n",
       "      <td>74</td>\n",
       "      <td>102</td>\n",
       "      <td>Disease</td>\n",
       "      <td>0.6344333</td>\n",
       "    </tr>\n",
       "    <tr>\n",
       "      <th>9</th>\n",
       "      <td>She is admitted to The John Hopkins Hospital 2 days ago with a history of gestational diabetes mellitus diagnosed. She denied pain and any headache.</td>\n",
       "      <td>She</td>\n",
       "      <td>115</td>\n",
       "      <td>117</td>\n",
       "      <td>Gender</td>\n",
       "      <td>1.0</td>\n",
       "    </tr>\n",
       "    <tr>\n",
       "      <th>10</th>\n",
       "      <td>She is admitted to The John Hopkins Hospital 2 days ago with a history of gestational diabetes mellitus diagnosed. She denied pain and any headache.</td>\n",
       "      <td>pain</td>\n",
       "      <td>126</td>\n",
       "      <td>129</td>\n",
       "      <td>Symptom</td>\n",
       "      <td>0.998</td>\n",
       "    </tr>\n",
       "    <tr>\n",
       "      <th>11</th>\n",
       "      <td>She is admitted to The John Hopkins Hospital 2 days ago with a history of gestational diabetes mellitus diagnosed. She denied pain and any headache.</td>\n",
       "      <td>headache</td>\n",
       "      <td>139</td>\n",
       "      <td>146</td>\n",
       "      <td>Symptom</td>\n",
       "      <td>0.9986</td>\n",
       "    </tr>\n",
       "  </tbody>\n",
       "</table>\n",
       "</div>"
      ],
      "text/plain": [
       "                                                                                                                                                document  \\\n",
       "0                                                                        Maria is a 20-year-old girl who was diagnosed with hyperthyroidism 1 month ago.   \n",
       "1                                                                        Maria is a 20-year-old girl who was diagnosed with hyperthyroidism 1 month ago.   \n",
       "2                                                                        Maria is a 20-year-old girl who was diagnosed with hyperthyroidism 1 month ago.   \n",
       "3                                                                        Maria is a 20-year-old girl who was diagnosed with hyperthyroidism 1 month ago.   \n",
       "4   She is admitted to The John Hopkins Hospital 2 days ago with a history of gestational diabetes mellitus diagnosed. She denied pain and any headache.   \n",
       "5   She is admitted to The John Hopkins Hospital 2 days ago with a history of gestational diabetes mellitus diagnosed. She denied pain and any headache.   \n",
       "6   She is admitted to The John Hopkins Hospital 2 days ago with a history of gestational diabetes mellitus diagnosed. She denied pain and any headache.   \n",
       "7   She is admitted to The John Hopkins Hospital 2 days ago with a history of gestational diabetes mellitus diagnosed. She denied pain and any headache.   \n",
       "8   She is admitted to The John Hopkins Hospital 2 days ago with a history of gestational diabetes mellitus diagnosed. She denied pain and any headache.   \n",
       "9   She is admitted to The John Hopkins Hospital 2 days ago with a history of gestational diabetes mellitus diagnosed. She denied pain and any headache.   \n",
       "10  She is admitted to The John Hopkins Hospital 2 days ago with a history of gestational diabetes mellitus diagnosed. She denied pain and any headache.   \n",
       "11  She is admitted to The John Hopkins Hospital 2 days ago with a history of gestational diabetes mellitus diagnosed. She denied pain and any headache.   \n",
       "\n",
       "                        ner_chunk  begin  end           ner_label confidence  \n",
       "0                     20-year-old     11   21                 Age     0.9618  \n",
       "1                            girl     23   26              Gender     0.9991  \n",
       "2                 hyperthyroidism     51   65             Disease     0.9743  \n",
       "3                     1 month ago     67   77            DateTime      0.664  \n",
       "4                             She      0    2              Gender        1.0  \n",
       "5                        admitted      7   14  AdmissionDischarge     0.9999  \n",
       "6           John Hopkins Hospital     23   43        ClinicalDept  0.6984666  \n",
       "7                      2 days ago     45   54            DateTime     0.8039  \n",
       "8   gestational diabetes mellitus     74  102             Disease  0.6344333  \n",
       "9                             She    115  117              Gender        1.0  \n",
       "10                           pain    126  129             Symptom      0.998  \n",
       "11                       headache    139  146             Symptom     0.9986  "
      ]
     },
     "metadata": {},
     "output_type": "display_data"
    }
   ],
   "source": [
    "from urllib.parse import urlparse\n",
    "\n",
    "parsed_url = urlparse(transformer.output_path)\n",
    "file_key = f\"{parsed_url.path[1:]}/{validation_file_name}.out\"\n",
    "response = s3_client.get_object(Bucket=s3_bucket, Key=file_key)\n",
    "\n",
    "data = json.loads(response[\"Body\"].read().decode(\"utf-8\"))\n",
    "df = pd.DataFrame(data['predictions'], columns=['document', 'ner_chunk', 'begin', 'end', 'ner_label', 'confidence'])\n",
    "display(df)\n",
    "\n",
    "with open(output_file_name, 'w') as f_out:\n",
    "    json.dump(data, f_out, indent=4)"
   ]
  },
  {
   "cell_type": "code",
   "execution_count": 15,
   "metadata": {
    "tags": []
   },
   "outputs": [
    {
     "name": "stderr",
     "output_type": "stream",
     "text": [
      "INFO:sagemaker:Deleting model with name: jsl-ner-vop-pipeline-2024-02-27-19-08-21-757\n"
     ]
    }
   ],
   "source": [
    "model.delete_model()"
   ]
  },
  {
   "cell_type": "markdown",
   "metadata": {},
   "source": [
    "### Unsubscribe to the listing (optional)"
   ]
  },
  {
   "cell_type": "markdown",
   "metadata": {
    "tags": []
   },
   "source": [
    "If you would like to unsubscribe to the model package, follow these steps. Before you cancel the subscription, ensure that you do not have any [deployable model](https://console.aws.amazon.com/sagemaker/home#/models) created from the model package or using the algorithm. Note - You can find this information by looking at the container name associated with the model. \n",
    "\n",
    "**Steps to unsubscribe to product from AWS Marketplace**:\n",
    "1. Navigate to __Machine Learning__ tab on [__Your Software subscriptions page__](https://aws.amazon.com/marketplace/ai/library?productType=ml&ref_=mlmp_gitdemo_indust)\n",
    "2. Locate the listing that you want to cancel the subscription for, and then choose __Cancel Subscription__  to cancel the subscription.\n",
    "\n"
   ]
  },
  {
   "cell_type": "code",
   "execution_count": null,
   "metadata": {},
   "outputs": [],
   "source": []
  },
  {
   "cell_type": "code",
   "execution_count": null,
   "metadata": {},
   "outputs": [],
   "source": []
  }
 ],
 "metadata": {
  "instance_type": "ml.t3.medium",
  "kernelspec": {
   "display_name": "conda_python3",
   "language": "python",
   "name": "conda_python3"
  },
  "language_info": {
   "codemirror_mode": {
    "name": "ipython",
    "version": 3
   },
   "file_extension": ".py",
   "mimetype": "text/x-python",
   "name": "python",
   "nbconvert_exporter": "python",
   "pygments_lexer": "ipython3",
   "version": "3.10.13"
  }
 },
 "nbformat": 4,
 "nbformat_minor": 4
}

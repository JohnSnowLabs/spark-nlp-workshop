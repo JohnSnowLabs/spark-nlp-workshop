{
 "cells": [
  {
   "cell_type": "markdown",
   "metadata": {},
   "source": [
    "## 1. Subscribe to the model package"
   ]
  },
  {
   "cell_type": "markdown",
   "metadata": {},
   "source": [
    "To subscribe to the model package:\n",
    "1. Open the model package listing page <font color='red'> For Seller to update:[Title_of_your_product](Provide link to your marketplace listing of your product).</font>\n",
    "1. On the AWS Marketplace listing, click on the **Continue to subscribe** button.\n",
    "1. On the **Subscribe to this software** page, review and click on **\"Accept Offer\"** if you and your organization agrees with EULA, pricing, and support terms. \n",
    "1. Once you click on **Continue to configuration button** and then choose a **region**, you will see a **Product Arn** displayed. This is the model package ARN that you need to specify while creating a deployable model using Boto3. Copy the ARN corresponding to your region and specify the same in the following cell."
   ]
  },
  {
   "cell_type": "markdown",
   "metadata": {},
   "source": [
    "## Pipeline for ICD-10-PCS\n",
    "\n",
    "- **Model**: `icd10pcs_vdb_resolver`\n",
    "- **Model Description**: This pretrained pipeline extracts clinical entities from clinical text and maps them to their corresponding ICD-10-PCS codes."
   ]
  },
  {
   "cell_type": "code",
   "execution_count": 1,
   "metadata": {
    "tags": []
   },
   "outputs": [],
   "source": [
    "model_package_arn = \"<Customer to specify Model package ARN corresponding to their AWS region>\""
   ]
  },
  {
   "cell_type": "code",
   "execution_count": null,
   "metadata": {
    "tags": []
   },
   "outputs": [],
   "source": [
    "import json\n",
    "import os\n",
    "import boto3\n",
    "import pandas as pd\n",
    "import sagemaker as sage\n",
    "from sagemaker import ModelPackage\n",
    "from sagemaker import get_execution_role\n",
    "from IPython.display import display\n",
    "from urllib.parse import urlparse\n"
   ]
  },
  {
   "cell_type": "code",
   "execution_count": 3,
   "metadata": {
    "tags": []
   },
   "outputs": [],
   "source": [
    "sagemaker_session = sage.Session()\n",
    "s3_bucket = sagemaker_session.default_bucket()\n",
    "region = sagemaker_session.boto_region_name\n",
    "account_id = boto3.client(\"sts\").get_caller_identity().get(\"Account\")\n",
    "role = get_execution_role()\n",
    "\n",
    "sagemaker = boto3.client(\"sagemaker\")\n",
    "s3_client = sagemaker_session.boto_session.client(\"s3\")\n",
    "ecr = boto3.client(\"ecr\")\n",
    "sm_runtime = boto3.client(\"sagemaker-runtime\")\n",
    "\n",
    "# Set display options\n",
    "pd.set_option('display.max_rows', None)\n",
    "pd.set_option('display.max_columns', None)\n",
    "pd.set_option('display.max_colwidth', None)"
   ]
  },
  {
   "cell_type": "code",
   "execution_count": 4,
   "metadata": {
    "tags": []
   },
   "outputs": [],
   "source": [
    "model_name = \"icd10pcs-vdb-resolver\"\n",
    "\n",
    "real_time_inference_instance_type = \"ml.m4.xlarge\"\n",
    "batch_transform_inference_instance_type = \"ml.m4.2xlarge\""
   ]
  },
  {
   "cell_type": "markdown",
   "metadata": {},
   "source": [
    "## 2. Create a deployable model from the model package."
   ]
  },
  {
   "cell_type": "code",
   "execution_count": 5,
   "metadata": {
    "tags": []
   },
   "outputs": [],
   "source": [
    "model = ModelPackage(\n",
    "    role=role, \n",
    "    model_package_arn=model_package_arn,\n",
    "    sagemaker_session=sagemaker_session,\n",
    ")"
   ]
  },
  {
   "cell_type": "markdown",
   "metadata": {},
   "source": [
    "### Input Format\n",
    "\n",
    "To use the model, you need to provide input in one of the following supported formats:\n",
    "\n",
    "#### JSON Format\n",
    "\n",
    "Provide input as JSON. We support two variations within this format:\n",
    "\n",
    "1. **Array of Text Documents**: \n",
    "   Use an array containing multiple text documents. Each element represents a separate text document.\n",
    "\n",
    "   ```json\n",
    "   {\n",
    "       \"text\": [\n",
    "           \"Text document 1\",\n",
    "           \"Text document 2\",\n",
    "           ...\n",
    "       ]\n",
    "   }\n",
    "\n",
    "    ```\n",
    "\n",
    "2. **Single Text Document**:\n",
    "   Provide a single text document as a string.\n",
    "\n",
    "\n",
    "   ```json\n",
    "    {\n",
    "        \"text\": \"Single text document\"\n",
    "    }\n",
    "   ```\n",
    "\n",
    "#### JSON Lines (JSONL) Format\n",
    "\n",
    "Provide input in JSON Lines format, where each line is a JSON object representing a text document.\n",
    "\n",
    "```\n",
    "{\"text\": \"Text document 1\"}\n",
    "{\"text\": \"Text document 2\"}\n",
    "```"
   ]
  },
  {
   "cell_type": "markdown",
   "metadata": {},
   "source": [
    "## 3. Create an endpoint and perform real-time inference"
   ]
  },
  {
   "cell_type": "markdown",
   "metadata": {},
   "source": [
    "If you want to understand how real-time inference with Amazon SageMaker works, see [Documentation](https://docs.aws.amazon.com/sagemaker/latest/dg/how-it-works-hosting.html)."
   ]
  },
  {
   "cell_type": "markdown",
   "metadata": {},
   "source": [
    "### A. Deploy the SageMaker model to an endpoint"
   ]
  },
  {
   "cell_type": "code",
   "execution_count": 6,
   "metadata": {
    "tags": []
   },
   "outputs": [
    {
     "name": "stdout",
     "output_type": "stream",
     "text": [
      "-----------!"
     ]
    }
   ],
   "source": [
    "predictor = model.deploy(\n",
    "    initial_instance_count=1,\n",
    "    instance_type=real_time_inference_instance_type, \n",
    "    endpoint_name=model_name,\n",
    ")"
   ]
  },
  {
   "cell_type": "markdown",
   "metadata": {},
   "source": [
    "Once endpoint has been created, you would be able to perform real-time inference."
   ]
  },
  {
   "cell_type": "code",
   "execution_count": 7,
   "metadata": {
    "tags": []
   },
   "outputs": [],
   "source": [
    "def invoke_realtime_endpoint(record, content_type=\"application/json\", accept=\"application/json\"):\n",
    "    response = sm_runtime.invoke_endpoint(\n",
    "        EndpointName=model_name,\n",
    "        ContentType=content_type,\n",
    "        Accept=accept,\n",
    "        Body=json.dumps(record) if content_type == \"application/json\" else record,\n",
    "    )\n",
    "\n",
    "    response_body = response[\"Body\"].read().decode(\"utf-8\")\n",
    "\n",
    "    if accept == \"application/json\":\n",
    "        return json.loads(response_body)\n",
    "    elif accept == \"application/jsonlines\":\n",
    "        return response_body\n",
    "    else:\n",
    "        raise ValueError(f\"Unsupported accept type: {accept}\")"
   ]
  },
  {
   "cell_type": "markdown",
   "metadata": {},
   "source": [
    "### Initial Setup"
   ]
  },
  {
   "cell_type": "code",
   "execution_count": 8,
   "metadata": {
    "tags": []
   },
   "outputs": [],
   "source": [
    "docs = [\n",
    "    \"A 45-year-old female patient presented with persistent chest pain and shortness of breath. After a thorough evaluation, it was decided to perform a coronary artery bypass graft (CABG) surgery. Post-operatively, the patient will be monitored in the intensive care unit (ICU) and will undergo cardiac rehabilitation.\", \n",
    "    \"A 30-year-old male patient arrived with severe trauma from a car accident. An emergency laparotomy was performed to control internal bleeding. The surgical team also carried out a splenectomy due to a ruptured spleen. The patient was stabilized and transferred to the surgical intensive care unit (SICU) for further observation and care.\",\n",
    "]\n",
    "\n",
    "\n",
    "\n",
    "sample_text = \"\"\"Given the severity of her abdominal examination and her persistence of her symptoms, it is detected that need for laparoscopic appendectomy and possible jejunectomy as well as pyeloplasty. We recommend performing a mediastinoscopy\"\"\""
   ]
  },
  {
   "cell_type": "markdown",
   "metadata": {},
   "source": [
    "### JSON"
   ]
  },
  {
   "cell_type": "code",
   "execution_count": 9,
   "metadata": {
    "tags": []
   },
   "outputs": [
    {
     "data": {
      "text/html": [
       "<div>\n",
       "<style scoped>\n",
       "    .dataframe tbody tr th:only-of-type {\n",
       "        vertical-align: middle;\n",
       "    }\n",
       "\n",
       "    .dataframe tbody tr th {\n",
       "        vertical-align: top;\n",
       "    }\n",
       "\n",
       "    .dataframe thead th {\n",
       "        text-align: right;\n",
       "    }\n",
       "</style>\n",
       "<table border=\"1\" class=\"dataframe\">\n",
       "  <thead>\n",
       "    <tr style=\"text-align: right;\">\n",
       "      <th></th>\n",
       "      <th>begin</th>\n",
       "      <th>end</th>\n",
       "      <th>ner_chunk</th>\n",
       "      <th>ner_label</th>\n",
       "      <th>ner_confidence</th>\n",
       "      <th>concept_code</th>\n",
       "      <th>resolution</th>\n",
       "      <th>score</th>\n",
       "      <th>all_codes</th>\n",
       "      <th>concept_name_detailed</th>\n",
       "      <th>all_resolutions</th>\n",
       "      <th>all_score</th>\n",
       "    </tr>\n",
       "  </thead>\n",
       "  <tbody>\n",
       "    <tr>\n",
       "      <th>0</th>\n",
       "      <td>114</td>\n",
       "      <td>138</td>\n",
       "      <td>laparoscopic appendectomy</td>\n",
       "      <td>Procedure</td>\n",
       "      <td>0.80225</td>\n",
       "      <td>0DBJ8ZZ</td>\n",
       "      <td>excision of appendix, endo</td>\n",
       "      <td>0.756066</td>\n",
       "      <td>[0DBJ8ZZ, 0DTJ8ZZ, 0DBJ0ZZ, 0DTJ0ZZ, 0DBJ4ZX]</td>\n",
       "      <td>[excision of appendix, endo [excision of appendix, endo], resection of appendix, endo [resection of appendix, endo], excision of appendix, open approach [excision of appendix, open approach], resection of appendix, open approach [resection of appendix, open approach], excision of appendix, perc endo approach, diagn [excision of appendix, perc endo approach, diagn]]</td>\n",
       "      <td>[excision of appendix, endo, resection of appendix, endo, excision of appendix, open approach, resection of appendix, open approach, excision of appendix, perc endo approach, diagn]</td>\n",
       "      <td>[0.7560662627220154, 0.7540384531021118, 0.7539170980453491, 0.7508572340011597, 0.741325855255127]</td>\n",
       "    </tr>\n",
       "    <tr>\n",
       "      <th>1</th>\n",
       "      <td>153</td>\n",
       "      <td>163</td>\n",
       "      <td>jejunectomy</td>\n",
       "      <td>Procedure</td>\n",
       "      <td>0.9984</td>\n",
       "      <td>0DBA8ZZ</td>\n",
       "      <td>excision of jejunum, endo</td>\n",
       "      <td>0.847592</td>\n",
       "      <td>[0DBA8ZZ, 0DTA8ZZ, 0DBA0ZZ, 0DTA0ZZ, 0DBA3ZZ]</td>\n",
       "      <td>[excision of jejunum, endo [excision of jejunum, endo], resection of jejunum, endo [resection of jejunum, endo], excision of jejunum, open approach [excision of jejunum, open approach], resection of jejunum, open approach [resection of jejunum, open approach], excision of jejunum, percutaneous approach [excision of jejunum, percutaneous approach]]</td>\n",
       "      <td>[excision of jejunum, endo, resection of jejunum, endo, excision of jejunum, open approach, resection of jejunum, open approach, excision of jejunum, percutaneous approach]</td>\n",
       "      <td>[0.8475918769836426, 0.8455489277839661, 0.8215798139572144, 0.8211894035339355, 0.8103318214416504]</td>\n",
       "    </tr>\n",
       "    <tr>\n",
       "      <th>2</th>\n",
       "      <td>176</td>\n",
       "      <td>186</td>\n",
       "      <td>pyeloplasty</td>\n",
       "      <td>Procedure</td>\n",
       "      <td>0.9992</td>\n",
       "      <td>0TV70ZZ</td>\n",
       "      <td>restriction of left ureter, open approach</td>\n",
       "      <td>0.741653</td>\n",
       "      <td>[0TV70ZZ, 0T14477, 0T13477, 0TQ43ZZ, 0T14476]</td>\n",
       "      <td>[restriction of left ureter, open approach [restriction of left ureter, open approach], bypass left kidney pelvis to left ureter with autologous tissue substitute, percutaneous endoscopic approach [bypass left kidney pelvis to left ureter with autologous tissue substitute, percutaneous endoscopic approach], bypass right kidney pelvis to left ureter with autologous tissue substitute, percutaneous endoscopic approach [bypass right kidney pelvis to left ureter with autologous tissue substitute, percutaneous endoscopic approach], repair left kidney pelvis, percutaneous approach [repair left kidney pelvis, percutaneous approach], bypass left kidney pelvis to right ureter with autologous tissue substitute, percutaneous endoscopic approach [bypass left kidney pelvis to right ureter with autologous tissue substitute, percutaneous endoscopic approach]]</td>\n",
       "      <td>[restriction of left ureter, open approach, bypass left kidney pelvis to left ureter with autologous tissue substitute, percutaneous endoscopic approach, bypass right kidney pelvis to left ureter with autologous tissue substitute, percutaneous endoscopic approach, repair left kidney pelvis, percutaneous approach, bypass left kidney pelvis to right ureter with autologous tissue substitute, percutaneous endoscopic approach]</td>\n",
       "      <td>[0.7416528463363647, 0.7383493185043335, 0.7379072904586792, 0.7371262311935425, 0.736879825592041]</td>\n",
       "    </tr>\n",
       "    <tr>\n",
       "      <th>3</th>\n",
       "      <td>215</td>\n",
       "      <td>229</td>\n",
       "      <td>mediastinoscopy</td>\n",
       "      <td>Procedure</td>\n",
       "      <td>0.9703</td>\n",
       "      <td>0WJC4ZZ</td>\n",
       "      <td>inspection of mediastinum, percutaneous endoscopic approach</td>\n",
       "      <td>0.811230</td>\n",
       "      <td>[0WJC4ZZ, 0WBC4ZX, 0WJC0ZZ, 0WJC3ZZ, 0WBC4ZZ]</td>\n",
       "      <td>[inspection of mediastinum, percutaneous endoscopic approach [inspection of mediastinum, percutaneous endoscopic approach], excision of mediastinum, percutaneous endoscopic approach, diagnostic [excision of mediastinum, percutaneous endoscopic approach, diagnostic], inspection of mediastinum, open approach [inspection of mediastinum, open approach], inspection of mediastinum, percutaneous approach [inspection of mediastinum, percutaneous approach], excision of mediastinum, percutaneous endoscopic approach [excision of mediastinum, percutaneous endoscopic approach]]</td>\n",
       "      <td>[inspection of mediastinum, percutaneous endoscopic approach, excision of mediastinum, percutaneous endoscopic approach, diagnostic, inspection of mediastinum, open approach, inspection of mediastinum, percutaneous approach, excision of mediastinum, percutaneous endoscopic approach]</td>\n",
       "      <td>[0.8112302422523499, 0.7847805619239807, 0.7827132940292358, 0.7778140902519226, 0.7676526308059692]</td>\n",
       "    </tr>\n",
       "  </tbody>\n",
       "</table>\n",
       "</div>"
      ],
      "text/plain": [
       "   begin  end                  ner_chunk  ner_label ner_confidence  \\\n",
       "0    114  138  laparoscopic appendectomy  Procedure        0.80225   \n",
       "1    153  163                jejunectomy  Procedure         0.9984   \n",
       "2    176  186                pyeloplasty  Procedure         0.9992   \n",
       "3    215  229            mediastinoscopy  Procedure         0.9703   \n",
       "\n",
       "  concept_code                                                   resolution  \\\n",
       "0      0DBJ8ZZ                                   excision of appendix, endo   \n",
       "1      0DBA8ZZ                                    excision of jejunum, endo   \n",
       "2      0TV70ZZ                    restriction of left ureter, open approach   \n",
       "3      0WJC4ZZ  inspection of mediastinum, percutaneous endoscopic approach   \n",
       "\n",
       "      score                                      all_codes  \\\n",
       "0  0.756066  [0DBJ8ZZ, 0DTJ8ZZ, 0DBJ0ZZ, 0DTJ0ZZ, 0DBJ4ZX]   \n",
       "1  0.847592  [0DBA8ZZ, 0DTA8ZZ, 0DBA0ZZ, 0DTA0ZZ, 0DBA3ZZ]   \n",
       "2  0.741653  [0TV70ZZ, 0T14477, 0T13477, 0TQ43ZZ, 0T14476]   \n",
       "3  0.811230  [0WJC4ZZ, 0WBC4ZX, 0WJC0ZZ, 0WJC3ZZ, 0WBC4ZZ]   \n",
       "\n",
       "                                                                                                                                                                                                                                                                                                                                                                                                                                                                                                                                                                                                                                                                                                                                                                                                                                                                     concept_name_detailed  \\\n",
       "0                                                                                                                                                                                                                                                                                                                                                                                                                                                                                                          [excision of appendix, endo [excision of appendix, endo], resection of appendix, endo [resection of appendix, endo], excision of appendix, open approach [excision of appendix, open approach], resection of appendix, open approach [resection of appendix, open approach], excision of appendix, perc endo approach, diagn [excision of appendix, perc endo approach, diagn]]   \n",
       "1                                                                                                                                                                                                                                                                                                                                                                                                                                                                                                                            [excision of jejunum, endo [excision of jejunum, endo], resection of jejunum, endo [resection of jejunum, endo], excision of jejunum, open approach [excision of jejunum, open approach], resection of jejunum, open approach [resection of jejunum, open approach], excision of jejunum, percutaneous approach [excision of jejunum, percutaneous approach]]   \n",
       "2  [restriction of left ureter, open approach [restriction of left ureter, open approach], bypass left kidney pelvis to left ureter with autologous tissue substitute, percutaneous endoscopic approach [bypass left kidney pelvis to left ureter with autologous tissue substitute, percutaneous endoscopic approach], bypass right kidney pelvis to left ureter with autologous tissue substitute, percutaneous endoscopic approach [bypass right kidney pelvis to left ureter with autologous tissue substitute, percutaneous endoscopic approach], repair left kidney pelvis, percutaneous approach [repair left kidney pelvis, percutaneous approach], bypass left kidney pelvis to right ureter with autologous tissue substitute, percutaneous endoscopic approach [bypass left kidney pelvis to right ureter with autologous tissue substitute, percutaneous endoscopic approach]]   \n",
       "3                                                                                                                                                                                                                                                                                              [inspection of mediastinum, percutaneous endoscopic approach [inspection of mediastinum, percutaneous endoscopic approach], excision of mediastinum, percutaneous endoscopic approach, diagnostic [excision of mediastinum, percutaneous endoscopic approach, diagnostic], inspection of mediastinum, open approach [inspection of mediastinum, open approach], inspection of mediastinum, percutaneous approach [inspection of mediastinum, percutaneous approach], excision of mediastinum, percutaneous endoscopic approach [excision of mediastinum, percutaneous endoscopic approach]]   \n",
       "\n",
       "                                                                                                                                                                                                                                                                                                                                                                                                                             all_resolutions  \\\n",
       "0                                                                                                                                                                                                                                                      [excision of appendix, endo, resection of appendix, endo, excision of appendix, open approach, resection of appendix, open approach, excision of appendix, perc endo approach, diagn]   \n",
       "1                                                                                                                                                                                                                                                               [excision of jejunum, endo, resection of jejunum, endo, excision of jejunum, open approach, resection of jejunum, open approach, excision of jejunum, percutaneous approach]   \n",
       "2  [restriction of left ureter, open approach, bypass left kidney pelvis to left ureter with autologous tissue substitute, percutaneous endoscopic approach, bypass right kidney pelvis to left ureter with autologous tissue substitute, percutaneous endoscopic approach, repair left kidney pelvis, percutaneous approach, bypass left kidney pelvis to right ureter with autologous tissue substitute, percutaneous endoscopic approach]   \n",
       "3                                                                                                                                                [inspection of mediastinum, percutaneous endoscopic approach, excision of mediastinum, percutaneous endoscopic approach, diagnostic, inspection of mediastinum, open approach, inspection of mediastinum, percutaneous approach, excision of mediastinum, percutaneous endoscopic approach]   \n",
       "\n",
       "                                                                                              all_score  \n",
       "0   [0.7560662627220154, 0.7540384531021118, 0.7539170980453491, 0.7508572340011597, 0.741325855255127]  \n",
       "1  [0.8475918769836426, 0.8455489277839661, 0.8215798139572144, 0.8211894035339355, 0.8103318214416504]  \n",
       "2   [0.7416528463363647, 0.7383493185043335, 0.7379072904586792, 0.7371262311935425, 0.736879825592041]  \n",
       "3  [0.8112302422523499, 0.7847805619239807, 0.7827132940292358, 0.7778140902519226, 0.7676526308059692]  "
      ]
     },
     "execution_count": 9,
     "metadata": {},
     "output_type": "execute_result"
    }
   ],
   "source": [
    "input_json_data = {\"text\": sample_text}\n",
    "response_json = invoke_realtime_endpoint(input_json_data, content_type=\"application/json\", accept=\"application/json\")\n",
    "pd.DataFrame(response_json[\"predictions\"][0])"
   ]
  },
  {
   "cell_type": "markdown",
   "metadata": {},
   "source": [
    "### JSON Lines"
   ]
  },
  {
   "cell_type": "code",
   "execution_count": 11,
   "metadata": {
    "tags": []
   },
   "outputs": [],
   "source": [
    "def create_jsonl(records):\n",
    "    if isinstance(records, str):\n",
    "        records = [records]\n",
    "    json_records = [{\"text\": text} for text in records]\n",
    "    json_lines = \"\\n\".join(json.dumps(record) for record in json_records)\n",
    "    return json_lines"
   ]
  },
  {
   "cell_type": "code",
   "execution_count": 12,
   "metadata": {
    "tags": []
   },
   "outputs": [
    {
     "name": "stdout",
     "output_type": "stream",
     "text": [
      "{\"predictions\": [{\"begin\": 114, \"end\": 138, \"ner_chunk\": \"laparoscopic appendectomy\", \"ner_label\": \"Procedure\", \"ner_confidence\": \"0.80225\", \"concept_code\": \"0DBJ8ZZ\", \"resolution\": \"excision of appendix, endo\", \"score\": 0.7560662627220154, \"all_codes\": [\"0DBJ8ZZ\", \"0DTJ8ZZ\", \"0DBJ0ZZ\", \"0DTJ0ZZ\", \"0DBJ4ZX\"], \"concept_name_detailed\": [\"excision of appendix, endo [excision of appendix, endo]\", \"resection of appendix, endo [resection of appendix, endo]\", \"excision of appendix, open approach [excision of appendix, open approach]\", \"resection of appendix, open approach [resection of appendix, open approach]\", \"excision of appendix, perc endo approach, diagn [excision of appendix, perc endo approach, diagn]\"], \"all_resolutions\": [\"excision of appendix, endo\", \"resection of appendix, endo\", \"excision of appendix, open approach\", \"resection of appendix, open approach\", \"excision of appendix, perc endo approach, diagn\"], \"all_score\": [0.7560662627220154, 0.7540384531021118, 0.7539170980453491, 0.7508572340011597, 0.741325855255127]}, {\"begin\": 153, \"end\": 163, \"ner_chunk\": \"jejunectomy\", \"ner_label\": \"Procedure\", \"ner_confidence\": \"0.9984\", \"concept_code\": \"0DBA8ZZ\", \"resolution\": \"excision of jejunum, endo\", \"score\": 0.8475918769836426, \"all_codes\": [\"0DBA8ZZ\", \"0DTA8ZZ\", \"0DBA0ZZ\", \"0DTA0ZZ\", \"0DBA3ZZ\"], \"concept_name_detailed\": [\"excision of jejunum, endo [excision of jejunum, endo]\", \"resection of jejunum, endo [resection of jejunum, endo]\", \"excision of jejunum, open approach [excision of jejunum, open approach]\", \"resection of jejunum, open approach [resection of jejunum, open approach]\", \"excision of jejunum, percutaneous approach [excision of jejunum, percutaneous approach]\"], \"all_resolutions\": [\"excision of jejunum, endo\", \"resection of jejunum, endo\", \"excision of jejunum, open approach\", \"resection of jejunum, open approach\", \"excision of jejunum, percutaneous approach\"], \"all_score\": [0.8475918769836426, 0.8455489277839661, 0.8215798139572144, 0.8211894035339355, 0.8103318214416504]}, {\"begin\": 176, \"end\": 186, \"ner_chunk\": \"pyeloplasty\", \"ner_label\": \"Procedure\", \"ner_confidence\": \"0.9992\", \"concept_code\": \"0TV70ZZ\", \"resolution\": \"restriction of left ureter, open approach\", \"score\": 0.7416528463363647, \"all_codes\": [\"0TV70ZZ\", \"0T14477\", \"0T13477\", \"0TQ43ZZ\", \"0T14476\"], \"concept_name_detailed\": [\"restriction of left ureter, open approach [restriction of left ureter, open approach]\", \"bypass left kidney pelvis to left ureter with autologous tissue substitute, percutaneous endoscopic approach [bypass left kidney pelvis to left ureter with autologous tissue substitute, percutaneous endoscopic approach]\", \"bypass right kidney pelvis to left ureter with autologous tissue substitute, percutaneous endoscopic approach [bypass right kidney pelvis to left ureter with autologous tissue substitute, percutaneous endoscopic approach]\", \"repair left kidney pelvis, percutaneous approach [repair left kidney pelvis, percutaneous approach]\", \"bypass left kidney pelvis to right ureter with autologous tissue substitute, percutaneous endoscopic approach [bypass left kidney pelvis to right ureter with autologous tissue substitute, percutaneous endoscopic approach]\"], \"all_resolutions\": [\"restriction of left ureter, open approach\", \"bypass left kidney pelvis to left ureter with autologous tissue substitute, percutaneous endoscopic approach\", \"bypass right kidney pelvis to left ureter with autologous tissue substitute, percutaneous endoscopic approach\", \"repair left kidney pelvis, percutaneous approach\", \"bypass left kidney pelvis to right ureter with autologous tissue substitute, percutaneous endoscopic approach\"], \"all_score\": [0.7416528463363647, 0.7383493185043335, 0.7379072904586792, 0.7371262311935425, 0.736879825592041]}, {\"begin\": 215, \"end\": 229, \"ner_chunk\": \"mediastinoscopy\", \"ner_label\": \"Procedure\", \"ner_confidence\": \"0.9703\", \"concept_code\": \"0WJC4ZZ\", \"resolution\": \"inspection of mediastinum, percutaneous endoscopic approach\", \"score\": 0.8112302422523499, \"all_codes\": [\"0WJC4ZZ\", \"0WBC4ZX\", \"0WJC0ZZ\", \"0WJC3ZZ\", \"0WBC4ZZ\"], \"concept_name_detailed\": [\"inspection of mediastinum, percutaneous endoscopic approach [inspection of mediastinum, percutaneous endoscopic approach]\", \"excision of mediastinum, percutaneous endoscopic approach, diagnostic [excision of mediastinum, percutaneous endoscopic approach, diagnostic]\", \"inspection of mediastinum, open approach [inspection of mediastinum, open approach]\", \"inspection of mediastinum, percutaneous approach [inspection of mediastinum, percutaneous approach]\", \"excision of mediastinum, percutaneous endoscopic approach [excision of mediastinum, percutaneous endoscopic approach]\"], \"all_resolutions\": [\"inspection of mediastinum, percutaneous endoscopic approach\", \"excision of mediastinum, percutaneous endoscopic approach, diagnostic\", \"inspection of mediastinum, open approach\", \"inspection of mediastinum, percutaneous approach\", \"excision of mediastinum, percutaneous endoscopic approach\"], \"all_score\": [0.8112302422523499, 0.7847805619239807, 0.7827132940292358, 0.7778140902519226, 0.7676526308059692]}]}\n"
     ]
    }
   ],
   "source": [
    "input_jsonl_data = create_jsonl(sample_text)\n",
    "data = invoke_realtime_endpoint(input_jsonl_data, content_type=\"application/jsonlines\" , accept=\"application/jsonlines\" )\n",
    "print(data)"
   ]
  },
  {
   "cell_type": "markdown",
   "metadata": {},
   "source": [
    "### B. Delete the endpoint"
   ]
  },
  {
   "cell_type": "markdown",
   "metadata": {},
   "source": [
    "Now that you have successfully performed a real-time inference, you do not need the endpoint any more. You can terminate the endpoint to avoid being charged."
   ]
  },
  {
   "cell_type": "code",
   "execution_count": 14,
   "metadata": {
    "tags": []
   },
   "outputs": [],
   "source": [
    "model.sagemaker_session.delete_endpoint(model_name)\n",
    "model.sagemaker_session.delete_endpoint_config(model_name)"
   ]
  },
  {
   "cell_type": "markdown",
   "metadata": {
    "tags": []
   },
   "source": [
    "## 4. Batch inference"
   ]
  },
  {
   "cell_type": "code",
   "execution_count": 15,
   "metadata": {
    "tags": []
   },
   "outputs": [],
   "source": [
    "validation_json_file_name = \"input.json\"\n",
    "validation_jsonl_file_name = \"input.jsonl\"\n",
    "\n",
    "validation_input_json_path = f\"s3://{s3_bucket}/{model_name}/validation-input/json/\"\n",
    "validation_output_json_path = f\"s3://{s3_bucket}/{model_name}/validation-output/json/\"\n",
    "\n",
    "validation_input_jsonl_path = f\"s3://{s3_bucket}/{model_name}/validation-input/jsonl/\"\n",
    "validation_output_jsonl_path = f\"s3://{s3_bucket}/{model_name}/validation-output/jsonl/\"\n",
    "\n",
    "def upload_to_s3(input_data, file_name):\n",
    "    file_format = os.path.splitext(file_name)[1].lower()\n",
    "    s3_client.put_object(\n",
    "        Bucket=s3_bucket,\n",
    "        Key=f\"{model_name}/validation-input/{file_format[1:]}/{file_name}\",\n",
    "        Body=input_data.encode(\"UTF-8\"),\n",
    "    )"
   ]
  },
  {
   "cell_type": "code",
   "execution_count": 16,
   "metadata": {
    "tags": []
   },
   "outputs": [],
   "source": [
    "# Create JSON and JSON Lines data\n",
    "input_jsonl_data = create_jsonl(docs)\n",
    "input_json_data = json.dumps({\"text\": docs})\n",
    "\n",
    "# Upload JSON and JSON Lines data to S3\n",
    "upload_to_s3(input_json_data, validation_json_file_name)\n",
    "upload_to_s3(input_jsonl_data, validation_jsonl_file_name)"
   ]
  },
  {
   "cell_type": "markdown",
   "metadata": {
    "tags": []
   },
   "source": [
    "### JSON"
   ]
  },
  {
   "cell_type": "code",
   "execution_count": null,
   "metadata": {
    "tags": []
   },
   "outputs": [],
   "source": [
    "transformer = model.transformer(\n",
    "    instance_count=1,\n",
    "    instance_type=batch_transform_inference_instance_type,\n",
    "    accept=\"application/json\",\n",
    "    output_path=validation_output_json_path\n",
    ")\n",
    "\n",
    "transformer.transform(validation_input_json_path, content_type=\"application/json\")\n",
    "transformer.wait()"
   ]
  },
  {
   "cell_type": "code",
   "execution_count": null,
   "metadata": {
    "tags": []
   },
   "outputs": [],
   "source": [
    "def retrieve_json_output_from_s3(validation_file_name):\n",
    "    parsed_url = urlparse(transformer.output_path)\n",
    "    file_key = f\"{parsed_url.path[1:]}{validation_file_name}.out\"\n",
    "    response = s3_client.get_object(Bucket=s3_bucket, Key=file_key)\n",
    "\n",
    "    data = json.loads(response[\"Body\"].read().decode(\"utf-8\"))\n",
    "    display(data)"
   ]
  },
  {
   "cell_type": "code",
   "execution_count": 21,
   "metadata": {
    "tags": []
   },
   "outputs": [
    {
     "data": {
      "text/plain": [
       "{'predictions': [[{'begin': 146,\n",
       "    'end': 175,\n",
       "    'ner_chunk': 'a coronary artery bypass graft',\n",
       "    'ner_label': 'Procedure',\n",
       "    'ner_confidence': '0.81618005',\n",
       "    'concept_code': '02100J3',\n",
       "    'resolution': 'bypass coronary artery, one artery from coronary artery with synthetic substitute, open approach',\n",
       "    'score': 0.8115347623825073,\n",
       "    'all_codes': ['02100J3', '02100JW', '02100J9', '02100KW', '02100JC'],\n",
       "    'concept_name_detailed': ['bypass coronary artery, one artery from coronary artery with synthetic substitute, open approach [bypass coronary artery, one artery from coronary artery with synthetic substitute, open approach]',\n",
       "     'bypass coronary artery, one artery from aorta with synthetic substitute, open approach [bypass coronary artery, one artery from aorta with synthetic substitute, open approach]',\n",
       "     'bypass coronary artery, one artery from left internal mammary with synthetic substitute, open approach [bypass coronary artery, one artery from left internal mammary with synthetic substitute, open approach]',\n",
       "     'bypass coronary artery, one artery from aorta with nonautologous tissue substitute, open approach [bypass coronary artery, one artery from aorta with nonautologous tissue substitute, open approach]',\n",
       "     'bypass coronary artery, one artery from thoracic artery with synthetic substitute, open approach [bypass coronary artery, one artery from thoracic artery with synthetic substitute, open approach]'],\n",
       "    'all_resolutions': ['bypass coronary artery, one artery from coronary artery with synthetic substitute, open approach',\n",
       "     'bypass coronary artery, one artery from aorta with synthetic substitute, open approach',\n",
       "     'bypass coronary artery, one artery from left internal mammary with synthetic substitute, open approach',\n",
       "     'bypass coronary artery, one artery from aorta with nonautologous tissue substitute, open approach',\n",
       "     'bypass coronary artery, one artery from thoracic artery with synthetic substitute, open approach'],\n",
       "    'all_score': [0.8115347623825073,\n",
       "     0.810929536819458,\n",
       "     0.8079298734664917,\n",
       "     0.8074605464935303,\n",
       "     0.8069242835044861]},\n",
       "   {'begin': 178,\n",
       "    'end': 181,\n",
       "    'ner_chunk': 'CABG',\n",
       "    'ner_label': 'Procedure',\n",
       "    'ner_confidence': '0.9907',\n",
       "    'concept_code': '021',\n",
       "    'resolution': 'medical and surgical @ heart and great vessels @ bypass',\n",
       "    'score': 0.7344455718994141,\n",
       "    'all_codes': ['021', '02H', '02R', '02103D4', '02V'],\n",
       "    'concept_name_detailed': ['medical and surgical @ heart and great vessels @ bypass [medical and surgical @ heart and great vessels @ bypass]',\n",
       "     'medical and surgical @ heart and great vessels @ insertion [medical and surgical @ heart and great vessels @ insertion]',\n",
       "     'medical and surgical @ heart and great vessels @ replacement [medical and surgical @ heart and great vessels @ replacement]',\n",
       "     'medical and surgical @ heart and great vessels @ bypass @ coronary artery, one artery @ percutaneous @ intraluminal device @ coronary vein [medical and surgical @ heart and great vessels @ bypass @ coronary artery, one artery @ percutaneous @ intraluminal device @ coronary vein]',\n",
       "     'medical and surgical @ heart and great vessels @ restriction [medical and surgical @ heart and great vessels @ restriction]'],\n",
       "    'all_resolutions': ['medical and surgical @ heart and great vessels @ bypass',\n",
       "     'medical and surgical @ heart and great vessels @ insertion',\n",
       "     'medical and surgical @ heart and great vessels @ replacement',\n",
       "     'medical and surgical @ heart and great vessels @ bypass @ coronary artery, one artery @ percutaneous @ intraluminal device @ coronary vein',\n",
       "     'medical and surgical @ heart and great vessels @ restriction'],\n",
       "    'all_score': [0.7344455718994141,\n",
       "     0.724323034286499,\n",
       "     0.7203197479248047,\n",
       "     0.7194197177886963,\n",
       "     0.7173919677734375]},\n",
       "   {'begin': 184,\n",
       "    'end': 190,\n",
       "    'ner_chunk': 'surgery',\n",
       "    'ner_label': 'Procedure',\n",
       "    'ner_confidence': '0.9928',\n",
       "    'concept_code': '0QT',\n",
       "    'resolution': 'medical and surgical @ lower bones @ resection',\n",
       "    'score': 0.734477698802948,\n",
       "    'all_codes': ['0QT', '0QB', '0NT', '0ST', '0PT'],\n",
       "    'concept_name_detailed': ['medical and surgical @ lower bones @ resection [medical and surgical @ lower bones @ resection]',\n",
       "     'medical and surgical @ lower bones @ excision [medical and surgical @ lower bones @ excision]',\n",
       "     'medical and surgical @ head and facial bones @ resection [medical and surgical @ head and facial bones @ resection]',\n",
       "     'medical and surgical @ lower joints @ resection [medical and surgical @ lower joints @ resection]',\n",
       "     'medical and surgical @ upper bones @ resection [medical and surgical @ upper bones @ resection]'],\n",
       "    'all_resolutions': ['medical and surgical @ lower bones @ resection',\n",
       "     'medical and surgical @ lower bones @ excision',\n",
       "     'medical and surgical @ head and facial bones @ resection',\n",
       "     'medical and surgical @ lower joints @ resection',\n",
       "     'medical and surgical @ upper bones @ resection'],\n",
       "    'all_score': [0.734477698802948,\n",
       "     0.7222322821617126,\n",
       "     0.7200230360031128,\n",
       "     0.7173627614974976,\n",
       "     0.7165983319282532]},\n",
       "   {'begin': 291,\n",
       "    'end': 312,\n",
       "    'ner_chunk': 'cardiac rehabilitation',\n",
       "    'ner_label': 'Procedure',\n",
       "    'ner_confidence': '0.94945',\n",
       "    'concept_code': 'F0776HZ',\n",
       "    'resolution': 'therapeutic exercise treatment of circulatory system - whole body using mechanical or electromechanical equipment',\n",
       "    'score': 0.7643641829490662,\n",
       "    'all_codes': ['F0776HZ', 'F0776FZ', 'F0776CZ', 'F0746FZ', 'F0746CZ'],\n",
       "    'concept_name_detailed': ['therapeutic exercise treatment of circulatory system - whole body using mechanical or electromechanical equipment [therapeutic exercise treatment of circulatory system - whole body using mechanical or electromechanical equipment]',\n",
       "     'therapeutic exercise treatment of circulatory system - whole body using assistive, adaptive, supportive or protective equipment [therapeutic exercise treatment of circulatory system - whole body using assistive, adaptive, supportive or protective equipment]',\n",
       "     'therapeutic exercise treatment of circulatory system - whole body using mechanical equipment [therapeutic exercise treatment of circulatory system - whole body using mechanical equipment]',\n",
       "     'therapeutic exercise treatment of circulatory system - head and neck using assistive, adaptive, supportive or protective equipment [therapeutic exercise treatment of circulatory system - head and neck using assistive, adaptive, supportive or protective equipment]',\n",
       "     'therapeutic exercise treatment of circulatory system - head and neck using mechanical equipment [therapeutic exercise treatment of circulatory system - head and neck using mechanical equipment]'],\n",
       "    'all_resolutions': ['therapeutic exercise treatment of circulatory system - whole body using mechanical or electromechanical equipment',\n",
       "     'therapeutic exercise treatment of circulatory system - whole body using assistive, adaptive, supportive or protective equipment',\n",
       "     'therapeutic exercise treatment of circulatory system - whole body using mechanical equipment',\n",
       "     'therapeutic exercise treatment of circulatory system - head and neck using assistive, adaptive, supportive or protective equipment',\n",
       "     'therapeutic exercise treatment of circulatory system - head and neck using mechanical equipment'],\n",
       "    'all_score': [0.7643641829490662,\n",
       "     0.7639845609664917,\n",
       "     0.7617868781089783,\n",
       "     0.7602097988128662,\n",
       "     0.759059727191925]}],\n",
       "  [{'begin': 75,\n",
       "    'end': 97,\n",
       "    'ner_chunk': 'An emergency laparotomy',\n",
       "    'ner_label': 'Procedure',\n",
       "    'ner_confidence': '0.68083334',\n",
       "    'concept_code': '0DTE7ZZ',\n",
       "    'resolution': 'resection of large intestine, via opening',\n",
       "    'score': 0.7090702056884766,\n",
       "    'all_codes': ['0DTE7ZZ', '0DTG7ZZ', '0D5J7ZZ', '0DT87ZZ', '0K5L0ZZ'],\n",
       "    'concept_name_detailed': ['resection of large intestine, via opening [resection of large intestine, via opening]',\n",
       "     'resection of left large intestine, via opening [resection of left large intestine, via opening]',\n",
       "     'destruction of appendix, via natural or artificial opening [destruction of appendix, via natural or artificial opening]',\n",
       "     'resection of small intestine, via opening [resection of small intestine, via opening]',\n",
       "     'destruction of left abdomen muscle, open approach [destruction of left abdomen muscle, open approach]'],\n",
       "    'all_resolutions': ['resection of large intestine, via opening',\n",
       "     'resection of left large intestine, via opening',\n",
       "     'destruction of appendix, via natural or artificial opening',\n",
       "     'resection of small intestine, via opening',\n",
       "     'destruction of left abdomen muscle, open approach'],\n",
       "    'all_score': [0.7090702056884766,\n",
       "     0.7067012786865234,\n",
       "     0.706182599067688,\n",
       "     0.704600989818573,\n",
       "     0.7044193744659424]},\n",
       "   {'begin': 178,\n",
       "    'end': 190,\n",
       "    'ner_chunk': 'a splenectomy',\n",
       "    'ner_label': 'Procedure',\n",
       "    'ner_confidence': '0.98399997',\n",
       "    'concept_code': '07PP0YZ',\n",
       "    'resolution': 'removal of other device from spleen, open approach',\n",
       "    'score': 0.790524959564209,\n",
       "    'all_codes': ['07PP0YZ', '07BP0ZZ', '07TP0ZZ', '06B10ZZ', '07BP3ZZ'],\n",
       "    'concept_name_detailed': ['removal of other device from spleen, open approach [removal of other device from spleen, open approach]',\n",
       "     'excision of spleen, open approach [excision of spleen, open approach]',\n",
       "     'resection of spleen, open approach [resection of spleen, open approach]',\n",
       "     'excision of splenic vein, open approach [excision of splenic vein, open approach]',\n",
       "     'excision of spleen, percutaneous approach [excision of spleen, percutaneous approach]'],\n",
       "    'all_resolutions': ['removal of other device from spleen, open approach',\n",
       "     'excision of spleen, open approach',\n",
       "     'resection of spleen, open approach',\n",
       "     'excision of splenic vein, open approach',\n",
       "     'excision of spleen, percutaneous approach'],\n",
       "    'all_score': [0.790524959564209,\n",
       "     0.7899670600891113,\n",
       "     0.7889449596405029,\n",
       "     0.7730028033256531,\n",
       "     0.7715580463409424]}]]}"
      ]
     },
     "metadata": {},
     "output_type": "display_data"
    }
   ],
   "source": [
    "retrieve_json_output_from_s3(validation_json_file_name)"
   ]
  },
  {
   "cell_type": "markdown",
   "metadata": {},
   "source": [
    "### JSON Lines"
   ]
  },
  {
   "cell_type": "code",
   "execution_count": null,
   "metadata": {
    "tags": []
   },
   "outputs": [],
   "source": [
    "transformer = model.transformer(\n",
    "    instance_count=1,\n",
    "    instance_type=batch_transform_inference_instance_type,\n",
    "    accept=\"application/jsonlines\",\n",
    "    output_path=validation_output_jsonl_path\n",
    ")\n",
    "transformer.transform(validation_input_jsonl_path, content_type=\"application/jsonlines\")\n",
    "transformer.wait()"
   ]
  },
  {
   "cell_type": "code",
   "execution_count": null,
   "metadata": {
    "tags": []
   },
   "outputs": [],
   "source": [
    "def retrieve_jsonlines_output_from_s3(validation_file_name):\n",
    "\n",
    "    parsed_url = urlparse(transformer.output_path)\n",
    "    file_key = f\"{parsed_url.path[1:]}{validation_file_name}.out\"\n",
    "    response = s3_client.get_object(Bucket=s3_bucket, Key=file_key)\n",
    "\n",
    "    data = response[\"Body\"].read().decode(\"utf-8\")\n",
    "    print(data)"
   ]
  },
  {
   "cell_type": "code",
   "execution_count": 24,
   "metadata": {
    "tags": []
   },
   "outputs": [
    {
     "name": "stdout",
     "output_type": "stream",
     "text": [
      "{\"predictions\": [{\"begin\": 146, \"end\": 175, \"ner_chunk\": \"a coronary artery bypass graft\", \"ner_label\": \"Procedure\", \"ner_confidence\": \"0.81618005\", \"concept_code\": \"02100J3\", \"resolution\": \"bypass coronary artery, one artery from coronary artery with synthetic substitute, open approach\", \"score\": 0.8115347623825073, \"all_codes\": [\"02100J3\", \"02100JW\", \"02100J9\", \"02100KW\", \"02100JC\"], \"concept_name_detailed\": [\"bypass coronary artery, one artery from coronary artery with synthetic substitute, open approach [bypass coronary artery, one artery from coronary artery with synthetic substitute, open approach]\", \"bypass coronary artery, one artery from aorta with synthetic substitute, open approach [bypass coronary artery, one artery from aorta with synthetic substitute, open approach]\", \"bypass coronary artery, one artery from left internal mammary with synthetic substitute, open approach [bypass coronary artery, one artery from left internal mammary with synthetic substitute, open approach]\", \"bypass coronary artery, one artery from aorta with nonautologous tissue substitute, open approach [bypass coronary artery, one artery from aorta with nonautologous tissue substitute, open approach]\", \"bypass coronary artery, one artery from thoracic artery with synthetic substitute, open approach [bypass coronary artery, one artery from thoracic artery with synthetic substitute, open approach]\"], \"all_resolutions\": [\"bypass coronary artery, one artery from coronary artery with synthetic substitute, open approach\", \"bypass coronary artery, one artery from aorta with synthetic substitute, open approach\", \"bypass coronary artery, one artery from left internal mammary with synthetic substitute, open approach\", \"bypass coronary artery, one artery from aorta with nonautologous tissue substitute, open approach\", \"bypass coronary artery, one artery from thoracic artery with synthetic substitute, open approach\"], \"all_score\": [0.8115347623825073, 0.810929536819458, 0.8079298734664917, 0.8074605464935303, 0.8069242835044861]}, {\"begin\": 178, \"end\": 181, \"ner_chunk\": \"CABG\", \"ner_label\": \"Procedure\", \"ner_confidence\": \"0.9907\", \"concept_code\": \"021\", \"resolution\": \"medical and surgical @ heart and great vessels @ bypass\", \"score\": 0.7344455718994141, \"all_codes\": [\"021\", \"02H\", \"02R\", \"02103D4\", \"02V\"], \"concept_name_detailed\": [\"medical and surgical @ heart and great vessels @ bypass [medical and surgical @ heart and great vessels @ bypass]\", \"medical and surgical @ heart and great vessels @ insertion [medical and surgical @ heart and great vessels @ insertion]\", \"medical and surgical @ heart and great vessels @ replacement [medical and surgical @ heart and great vessels @ replacement]\", \"medical and surgical @ heart and great vessels @ bypass @ coronary artery, one artery @ percutaneous @ intraluminal device @ coronary vein [medical and surgical @ heart and great vessels @ bypass @ coronary artery, one artery @ percutaneous @ intraluminal device @ coronary vein]\", \"medical and surgical @ heart and great vessels @ restriction [medical and surgical @ heart and great vessels @ restriction]\"], \"all_resolutions\": [\"medical and surgical @ heart and great vessels @ bypass\", \"medical and surgical @ heart and great vessels @ insertion\", \"medical and surgical @ heart and great vessels @ replacement\", \"medical and surgical @ heart and great vessels @ bypass @ coronary artery, one artery @ percutaneous @ intraluminal device @ coronary vein\", \"medical and surgical @ heart and great vessels @ restriction\"], \"all_score\": [0.7344455718994141, 0.724323034286499, 0.7203197479248047, 0.7194197177886963, 0.7173919677734375]}, {\"begin\": 184, \"end\": 190, \"ner_chunk\": \"surgery\", \"ner_label\": \"Procedure\", \"ner_confidence\": \"0.9928\", \"concept_code\": \"0QT\", \"resolution\": \"medical and surgical @ lower bones @ resection\", \"score\": 0.734477698802948, \"all_codes\": [\"0QT\", \"0QB\", \"0NT\", \"0ST\", \"0PT\"], \"concept_name_detailed\": [\"medical and surgical @ lower bones @ resection [medical and surgical @ lower bones @ resection]\", \"medical and surgical @ lower bones @ excision [medical and surgical @ lower bones @ excision]\", \"medical and surgical @ head and facial bones @ resection [medical and surgical @ head and facial bones @ resection]\", \"medical and surgical @ lower joints @ resection [medical and surgical @ lower joints @ resection]\", \"medical and surgical @ upper bones @ resection [medical and surgical @ upper bones @ resection]\"], \"all_resolutions\": [\"medical and surgical @ lower bones @ resection\", \"medical and surgical @ lower bones @ excision\", \"medical and surgical @ head and facial bones @ resection\", \"medical and surgical @ lower joints @ resection\", \"medical and surgical @ upper bones @ resection\"], \"all_score\": [0.734477698802948, 0.7222322821617126, 0.7200230360031128, 0.7173627614974976, 0.7165983319282532]}, {\"begin\": 291, \"end\": 312, \"ner_chunk\": \"cardiac rehabilitation\", \"ner_label\": \"Procedure\", \"ner_confidence\": \"0.94945\", \"concept_code\": \"F0776HZ\", \"resolution\": \"therapeutic exercise treatment of circulatory system - whole body using mechanical or electromechanical equipment\", \"score\": 0.7643641829490662, \"all_codes\": [\"F0776HZ\", \"F0776FZ\", \"F0776CZ\", \"F0746FZ\", \"F0746CZ\"], \"concept_name_detailed\": [\"therapeutic exercise treatment of circulatory system - whole body using mechanical or electromechanical equipment [therapeutic exercise treatment of circulatory system - whole body using mechanical or electromechanical equipment]\", \"therapeutic exercise treatment of circulatory system - whole body using assistive, adaptive, supportive or protective equipment [therapeutic exercise treatment of circulatory system - whole body using assistive, adaptive, supportive or protective equipment]\", \"therapeutic exercise treatment of circulatory system - whole body using mechanical equipment [therapeutic exercise treatment of circulatory system - whole body using mechanical equipment]\", \"therapeutic exercise treatment of circulatory system - head and neck using assistive, adaptive, supportive or protective equipment [therapeutic exercise treatment of circulatory system - head and neck using assistive, adaptive, supportive or protective equipment]\", \"therapeutic exercise treatment of circulatory system - head and neck using mechanical equipment [therapeutic exercise treatment of circulatory system - head and neck using mechanical equipment]\"], \"all_resolutions\": [\"therapeutic exercise treatment of circulatory system - whole body using mechanical or electromechanical equipment\", \"therapeutic exercise treatment of circulatory system - whole body using assistive, adaptive, supportive or protective equipment\", \"therapeutic exercise treatment of circulatory system - whole body using mechanical equipment\", \"therapeutic exercise treatment of circulatory system - head and neck using assistive, adaptive, supportive or protective equipment\", \"therapeutic exercise treatment of circulatory system - head and neck using mechanical equipment\"], \"all_score\": [0.7643641829490662, 0.7639845609664917, 0.7617868781089783, 0.7602097988128662, 0.759059727191925]}]}\n",
      "{\"predictions\": [{\"begin\": 75, \"end\": 97, \"ner_chunk\": \"An emergency laparotomy\", \"ner_label\": \"Procedure\", \"ner_confidence\": \"0.68083334\", \"concept_code\": \"0DTE7ZZ\", \"resolution\": \"resection of large intestine, via opening\", \"score\": 0.7090702056884766, \"all_codes\": [\"0DTE7ZZ\", \"0DTG7ZZ\", \"0D5J7ZZ\", \"0DT87ZZ\", \"0K5L0ZZ\"], \"concept_name_detailed\": [\"resection of large intestine, via opening [resection of large intestine, via opening]\", \"resection of left large intestine, via opening [resection of left large intestine, via opening]\", \"destruction of appendix, via natural or artificial opening [destruction of appendix, via natural or artificial opening]\", \"resection of small intestine, via opening [resection of small intestine, via opening]\", \"destruction of left abdomen muscle, open approach [destruction of left abdomen muscle, open approach]\"], \"all_resolutions\": [\"resection of large intestine, via opening\", \"resection of left large intestine, via opening\", \"destruction of appendix, via natural or artificial opening\", \"resection of small intestine, via opening\", \"destruction of left abdomen muscle, open approach\"], \"all_score\": [0.7090702056884766, 0.7067012786865234, 0.706182599067688, 0.704600989818573, 0.7044193744659424]}, {\"begin\": 178, \"end\": 190, \"ner_chunk\": \"a splenectomy\", \"ner_label\": \"Procedure\", \"ner_confidence\": \"0.98399997\", \"concept_code\": \"07PP0YZ\", \"resolution\": \"removal of other device from spleen, open approach\", \"score\": 0.790524959564209, \"all_codes\": [\"07PP0YZ\", \"07BP0ZZ\", \"07TP0ZZ\", \"06B10ZZ\", \"07BP3ZZ\"], \"concept_name_detailed\": [\"removal of other device from spleen, open approach [removal of other device from spleen, open approach]\", \"excision of spleen, open approach [excision of spleen, open approach]\", \"resection of spleen, open approach [resection of spleen, open approach]\", \"excision of splenic vein, open approach [excision of splenic vein, open approach]\", \"excision of spleen, percutaneous approach [excision of spleen, percutaneous approach]\"], \"all_resolutions\": [\"removal of other device from spleen, open approach\", \"excision of spleen, open approach\", \"resection of spleen, open approach\", \"excision of splenic vein, open approach\", \"excision of spleen, percutaneous approach\"], \"all_score\": [0.790524959564209, 0.7899670600891113, 0.7889449596405029, 0.7730028033256531, 0.7715580463409424]}]}\n"
     ]
    }
   ],
   "source": [
    "retrieve_jsonlines_output_from_s3(validation_jsonl_file_name)"
   ]
  },
  {
   "cell_type": "code",
   "execution_count": 25,
   "metadata": {
    "tags": []
   },
   "outputs": [
    {
     "name": "stderr",
     "output_type": "stream",
     "text": [
      "INFO:sagemaker:Deleting model with name: icd10pcs-vdb-resolver-2025-07-31-07-56-28-520\n"
     ]
    }
   ],
   "source": [
    "model.delete_model()"
   ]
  },
  {
   "cell_type": "markdown",
   "metadata": {},
   "source": [
    "### Unsubscribe to the listing (optional)"
   ]
  },
  {
   "cell_type": "markdown",
   "metadata": {
    "tags": []
   },
   "source": [
    "If you would like to unsubscribe to the model package, follow these steps. Before you cancel the subscription, ensure that you do not have any [deployable model](https://console.aws.amazon.com/sagemaker/home#/models) created from the model package or using the algorithm. Note - You can find this information by looking at the container name associated with the model. \n",
    "\n",
    "**Steps to unsubscribe to product from AWS Marketplace**:\n",
    "1. Navigate to __Machine Learning__ tab on [__Your Software subscriptions page__](https://aws.amazon.com/marketplace/ai/library?productType=ml&ref_=mlmp_gitdemo_indust)\n",
    "2. Locate the listing that you want to cancel the subscription for, and then choose __Cancel Subscription__  to cancel the subscription.\n",
    "\n"
   ]
  }
 ],
 "metadata": {
  "instance_type": "ml.t3.medium",
  "kernelspec": {
   "display_name": "conda_python3",
   "language": "python",
   "name": "conda_python3"
  },
  "language_info": {
   "codemirror_mode": {
    "name": "ipython",
    "version": 3
   },
   "file_extension": ".py",
   "mimetype": "text/x-python",
   "name": "python",
   "nbconvert_exporter": "python",
   "pygments_lexer": "ipython3",
   "version": "3.10.18"
  }
 },
 "nbformat": 4,
 "nbformat_minor": 4
}

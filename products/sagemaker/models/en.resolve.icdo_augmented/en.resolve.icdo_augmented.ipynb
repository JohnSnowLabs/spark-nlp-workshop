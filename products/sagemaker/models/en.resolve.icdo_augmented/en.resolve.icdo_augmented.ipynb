{
 "cells": [
  {
   "cell_type": "markdown",
   "metadata": {},
   "source": [
    "## 1. Subscribe to the model package"
   ]
  },
  {
   "cell_type": "markdown",
   "metadata": {},
   "source": [
    "To subscribe to the model package:\n",
    "1. Open the model package listing page <font color='red'> For Seller to update:[Title_of_your_product](Provide link to your marketplace listing of your product).</font>\n",
    "1. On the AWS Marketplace listing, click on the **Continue to subscribe** button.\n",
    "1. On the **Subscribe to this software** page, review and click on **\"Accept Offer\"** if you and your organization agrees with EULA, pricing, and support terms. \n",
    "1. Once you click on **Continue to configuration button** and then choose a **region**, you will see a **Product Arn** displayed. This is the model package ARN that you need to specify while creating a deployable model using Boto3. Copy the ARN corresponding to your region and specify the same in the following cell."
   ]
  },
  {
   "cell_type": "markdown",
   "metadata": {},
   "source": [
    "## Resolve Oncology terminology with ICD-O Taxonomy\n",
    "\n",
    "The International Classification of Diseases for Oncology (ICD-O) is a specialized system meticulously crafted for the classification and coding of neoplasms—those intricate entities we commonly refer to as tumors. ICD-O ensures consistent and precise reporting of cancer cases across various healthcare settings and research studies. By using standardized codes for tumor site, morphology, and behavior, it ensures accurate reporting and enables informed clinical management decisions.\n",
    "\n",
    "- **Model**: `en.resolve.icdo_augmented`\n",
    "- **Model Description**: This model is designed to map extracted clinical entities to specific ICD-O codes. It provides detailed code resolutions, top terms, and granular insights into body part references, enhancing precision in cancer-related documentation.\n"
   ]
  },
  {
   "cell_type": "code",
   "execution_count": 2,
   "metadata": {
    "tags": []
   },
   "outputs": [],
   "source": [
    "model_package_arn = \"<Customer to specify Model package ARN corresponding to their AWS region>\""
   ]
  },
  {
   "cell_type": "code",
   "execution_count": 3,
   "metadata": {
    "tags": []
   },
   "outputs": [
    {
     "name": "stdout",
     "output_type": "stream",
     "text": [
      "sagemaker.config INFO - Not applying SDK defaults from location: /etc/xdg/sagemaker/config.yaml\n",
      "sagemaker.config INFO - Not applying SDK defaults from location: /home/ec2-user/.config/sagemaker/config.yaml\n"
     ]
    }
   ],
   "source": [
    "import base64\n",
    "import json\n",
    "import uuid\n",
    "from sagemaker import ModelPackage\n",
    "import sagemaker as sage\n",
    "from sagemaker import get_execution_role\n",
    "import boto3\n",
    "from IPython.display import Image, display\n",
    "from PIL import Image as ImageEdit\n",
    "import numpy as np"
   ]
  },
  {
   "cell_type": "code",
   "execution_count": 4,
   "metadata": {
    "tags": []
   },
   "outputs": [],
   "source": [
    "sagemaker_session = sage.Session()\n",
    "s3_bucket = sagemaker_session.default_bucket()\n",
    "region = sagemaker_session.boto_region_name\n",
    "account_id = boto3.client(\"sts\").get_caller_identity().get(\"Account\")\n",
    "role = get_execution_role()\n",
    "\n",
    "sagemaker = boto3.client(\"sagemaker\")\n",
    "s3_client = sagemaker_session.boto_session.client(\"s3\")\n",
    "ecr = boto3.client(\"ecr\")\n",
    "sm_runtime = boto3.client(\"sagemaker-runtime\")"
   ]
  },
  {
   "cell_type": "markdown",
   "metadata": {},
   "source": [
    "## 2. Create an endpoint and perform real-time inference"
   ]
  },
  {
   "cell_type": "markdown",
   "metadata": {},
   "source": [
    "If you want to understand how real-time inference with Amazon SageMaker works, see [Documentation](https://docs.aws.amazon.com/sagemaker/latest/dg/how-it-works-hosting.html)."
   ]
  },
  {
   "cell_type": "code",
   "execution_count": 5,
   "metadata": {
    "tags": []
   },
   "outputs": [],
   "source": [
    "model_name = \"en-resolve-icdo-augmented\"\n",
    "\n",
    "real_time_inference_instance_type = \"ml.m4.xlarge\"\n",
    "batch_transform_inference_instance_type = \"ml.m4.xlarge\"\n"
   ]
  },
  {
   "cell_type": "markdown",
   "metadata": {},
   "source": [
    "### A. Create an endpoint"
   ]
  },
  {
   "cell_type": "code",
   "execution_count": 6,
   "metadata": {
    "tags": []
   },
   "outputs": [
    {
     "name": "stdout",
     "output_type": "stream",
     "text": [
      "---------!"
     ]
    }
   ],
   "source": [
    "# create a deployable model from the model package.\n",
    "model = ModelPackage(\n",
    "    role=role, model_package_arn=model_package_arn, sagemaker_session=sagemaker_session\n",
    ")\n",
    "\n",
    "# Deploy the model\n",
    "predictor = model.deploy(1, real_time_inference_instance_type, endpoint_name=model_name)"
   ]
  },
  {
   "cell_type": "markdown",
   "metadata": {},
   "source": [
    "Once endpoint has been created, you would be able to perform real-time inference."
   ]
  },
  {
   "cell_type": "code",
   "execution_count": 7,
   "metadata": {
    "tags": []
   },
   "outputs": [],
   "source": [
    "import json\n",
    "import pandas as pd\n",
    "import os\n",
    "import boto3\n",
    "\n",
    "# Set display options\n",
    "pd.set_option('display.max_rows', None)\n",
    "pd.set_option('display.max_columns', None)\n",
    "pd.set_option('display.max_colwidth', None)\n",
    "\n",
    "def process_data_and_invoke_realtime_endpoint(data, content_type, accept):\n",
    "\n",
    "    content_type_to_format = {'application/json': 'json', 'application/jsonlines': 'jsonl'}\n",
    "    input_format = content_type_to_format.get(content_type)\n",
    "    if content_type not in content_type_to_format.keys() or accept not in content_type_to_format.keys():\n",
    "        raise ValueError(\"Invalid content_type or accept. It should be either 'application/json' or 'application/jsonlines'.\")\n",
    "\n",
    "    i = 1\n",
    "    input_dir = f'inputs/real-time/{input_format}'\n",
    "    output_dir = f'outputs/real-time/{input_format}'\n",
    "    s3_input_dir = f\"{model_name}/validation-input/real-time/{input_format}\"\n",
    "    s3_output_dir = f\"{model_name}/validation-output/real-time/{input_format}\"\n",
    "\n",
    "    input_file_name = f'{input_dir}/input{i}.{input_format}'\n",
    "    output_file_name = f'{output_dir}/{os.path.basename(input_file_name)}.out'\n",
    "\n",
    "    while os.path.exists(input_file_name) or os.path.exists(output_file_name):\n",
    "        i += 1\n",
    "        input_file_name = f'{input_dir}/input{i}.{input_format}'\n",
    "        output_file_name = f'{output_dir}/{os.path.basename(input_file_name)}.out'\n",
    "\n",
    "    os.makedirs(os.path.dirname(input_file_name), exist_ok=True)\n",
    "    os.makedirs(os.path.dirname(output_file_name), exist_ok=True)\n",
    "\n",
    "    input_data = json.dumps(data) if content_type == 'application/json' else data\n",
    "\n",
    "    # Write input data to file\n",
    "    with open(input_file_name, 'w') as f:\n",
    "        f.write(input_data)\n",
    "\n",
    "    # Upload input data to S3\n",
    "    s3_client.put_object(Bucket=s3_bucket, Key=f\"{s3_input_dir}/{os.path.basename(input_file_name)}\", Body=bytes(input_data.encode('UTF-8')))\n",
    "\n",
    "    # Invoke the SageMaker endpoint\n",
    "    response = sm_runtime.invoke_endpoint(\n",
    "        EndpointName=model_name,\n",
    "        ContentType=content_type,\n",
    "        Accept=accept,\n",
    "        Body=input_data,\n",
    "    )\n",
    "\n",
    "    # Read response data\n",
    "    response_data = json.loads(response[\"Body\"].read().decode(\"utf-8\")) if accept == 'application/json' else response['Body'].read().decode('utf-8')\n",
    "\n",
    "    # Save response data to file\n",
    "    with open(output_file_name, 'w') as f_out:\n",
    "        if accept == 'application/json':\n",
    "            json.dump(response_data, f_out, indent=4)\n",
    "        else:\n",
    "            for item in response_data.split('\\n'):\n",
    "                f_out.write(item + '\\n')\n",
    "\n",
    "    # Upload response data to S3\n",
    "    output_s3_key = f\"{s3_output_dir}/{os.path.basename(output_file_name)}\"\n",
    "    if accept == 'application/json':\n",
    "        s3_client.put_object(Bucket=s3_bucket, Key=output_s3_key, Body=json.dumps(response_data).encode('UTF-8'))\n",
    "    else:\n",
    "        s3_client.put_object(Bucket=s3_bucket, Key=output_s3_key, Body=response_data)\n",
    "\n",
    "    return response_data"
   ]
  },
  {
   "cell_type": "markdown",
   "metadata": {},
   "source": [
    "### Initial Setup"
   ]
  },
  {
   "cell_type": "code",
   "execution_count": 8,
   "metadata": {
    "tags": []
   },
   "outputs": [],
   "source": [
    "docs = [\n",
    "    \"A few studies have demonstrated that ANGPTL1 functions as a tumor suppressor gene in breast cancer  , hepatocellular carcinoma  , colorectal cancer and parathyroid carcinoma.\", \n",
    "    \"TRAF6 is a putative oncogene in a variety of cancers including  bladder cancer , and skin cancer. WWP2 appears to regulate the expression of the well characterized tumor suppressor phosphatase and tensin homolog (PTEN)   in endometrial cancer   and squamous cell carcinoma.\",\n",
    "]\n",
    "\n",
    "\n",
    "sample_text = \"TRIM50 has only been shown to act as a tumor suppressor in hepatocellular carcinoma and ovary cancer. HOXA10 exerts an oncogenic role in several tumors endometrial adenocarcinoma .\""
   ]
  },
  {
   "cell_type": "markdown",
   "metadata": {},
   "source": [
    "### JSON"
   ]
  },
  {
   "cell_type": "markdown",
   "metadata": {},
   "source": [
    "#### Example 1"
   ]
  },
  {
   "cell_type": "markdown",
   "metadata": {},
   "source": [
    "  **Input format**:\n",
    "  \n",
    "  \n",
    "```json\n",
    "{\n",
    "    \"text\": \"Single text document\"\n",
    "}\n",
    "```"
   ]
  },
  {
   "cell_type": "code",
   "execution_count": 9,
   "metadata": {
    "tags": []
   },
   "outputs": [
    {
     "data": {
      "text/html": [
       "<div>\n",
       "<style scoped>\n",
       "    .dataframe tbody tr th:only-of-type {\n",
       "        vertical-align: middle;\n",
       "    }\n",
       "\n",
       "    .dataframe tbody tr th {\n",
       "        vertical-align: top;\n",
       "    }\n",
       "\n",
       "    .dataframe thead th {\n",
       "        text-align: right;\n",
       "    }\n",
       "</style>\n",
       "<table border=\"1\" class=\"dataframe\">\n",
       "  <thead>\n",
       "    <tr style=\"text-align: right;\">\n",
       "      <th></th>\n",
       "      <th>document</th>\n",
       "      <th>ner_chunk</th>\n",
       "      <th>begin</th>\n",
       "      <th>end</th>\n",
       "      <th>ner_label</th>\n",
       "      <th>ner_confidence</th>\n",
       "      <th>icdo_code</th>\n",
       "      <th>icdo_resolution</th>\n",
       "      <th>icdo_confidence</th>\n",
       "    </tr>\n",
       "  </thead>\n",
       "  <tbody>\n",
       "    <tr>\n",
       "      <th>0</th>\n",
       "      <td>TRIM50 has only been shown to act as a tumor suppressor in hepatocellular carcinoma and ovary cancer. HOXA10 exerts an oncogenic role in several tumors endometrial adenocarcinoma .</td>\n",
       "      <td>tumor suppressor</td>\n",
       "      <td>39</td>\n",
       "      <td>54</td>\n",
       "      <td>Oncological</td>\n",
       "      <td>0.75685</td>\n",
       "      <td>8001/1</td>\n",
       "      <td>tumor cells</td>\n",
       "      <td>0.3394</td>\n",
       "    </tr>\n",
       "    <tr>\n",
       "      <th>1</th>\n",
       "      <td>TRIM50 has only been shown to act as a tumor suppressor in hepatocellular carcinoma and ovary cancer. HOXA10 exerts an oncogenic role in several tumors endometrial adenocarcinoma .</td>\n",
       "      <td>hepatocellular carcinoma</td>\n",
       "      <td>59</td>\n",
       "      <td>82</td>\n",
       "      <td>Oncological</td>\n",
       "      <td>0.8806</td>\n",
       "      <td>8576/3</td>\n",
       "      <td>hepatoid carcinoma</td>\n",
       "      <td>1.0000</td>\n",
       "    </tr>\n",
       "    <tr>\n",
       "      <th>2</th>\n",
       "      <td>TRIM50 has only been shown to act as a tumor suppressor in hepatocellular carcinoma and ovary cancer. HOXA10 exerts an oncogenic role in several tumors endometrial adenocarcinoma .</td>\n",
       "      <td>ovary cancer</td>\n",
       "      <td>88</td>\n",
       "      <td>99</td>\n",
       "      <td>Oncological</td>\n",
       "      <td>0.8954</td>\n",
       "      <td>8010/3-C56.9</td>\n",
       "      <td>carcinoma, of ovary</td>\n",
       "      <td>0.3385</td>\n",
       "    </tr>\n",
       "    <tr>\n",
       "      <th>3</th>\n",
       "      <td>TRIM50 has only been shown to act as a tumor suppressor in hepatocellular carcinoma and ovary cancer. HOXA10 exerts an oncogenic role in several tumors endometrial adenocarcinoma .</td>\n",
       "      <td>HOXA10</td>\n",
       "      <td>102</td>\n",
       "      <td>107</td>\n",
       "      <td>Oncological</td>\n",
       "      <td>0.4475</td>\n",
       "      <td>C72.4</td>\n",
       "      <td>acoustic nerve</td>\n",
       "      <td>0.3350</td>\n",
       "    </tr>\n",
       "    <tr>\n",
       "      <th>4</th>\n",
       "      <td>TRIM50 has only been shown to act as a tumor suppressor in hepatocellular carcinoma and ovary cancer. HOXA10 exerts an oncogenic role in several tumors endometrial adenocarcinoma .</td>\n",
       "      <td>several</td>\n",
       "      <td>137</td>\n",
       "      <td>143</td>\n",
       "      <td>Modifier</td>\n",
       "      <td>0.4946</td>\n",
       "      <td>9982/3</td>\n",
       "      <td>rars</td>\n",
       "      <td>0.3400</td>\n",
       "    </tr>\n",
       "    <tr>\n",
       "      <th>5</th>\n",
       "      <td>TRIM50 has only been shown to act as a tumor suppressor in hepatocellular carcinoma and ovary cancer. HOXA10 exerts an oncogenic role in several tumors endometrial adenocarcinoma .</td>\n",
       "      <td>tumors endometrial adenocarcinoma</td>\n",
       "      <td>145</td>\n",
       "      <td>177</td>\n",
       "      <td>Oncological</td>\n",
       "      <td>0.8318</td>\n",
       "      <td>8384/3-C53.1</td>\n",
       "      <td>adenocarcinoma, endocervical type, of exocervix</td>\n",
       "      <td>0.3335</td>\n",
       "    </tr>\n",
       "  </tbody>\n",
       "</table>\n",
       "</div>"
      ],
      "text/plain": [
       "                                                                                                                                                                               document  \\\n",
       "0  TRIM50 has only been shown to act as a tumor suppressor in hepatocellular carcinoma and ovary cancer. HOXA10 exerts an oncogenic role in several tumors endometrial adenocarcinoma .   \n",
       "1  TRIM50 has only been shown to act as a tumor suppressor in hepatocellular carcinoma and ovary cancer. HOXA10 exerts an oncogenic role in several tumors endometrial adenocarcinoma .   \n",
       "2  TRIM50 has only been shown to act as a tumor suppressor in hepatocellular carcinoma and ovary cancer. HOXA10 exerts an oncogenic role in several tumors endometrial adenocarcinoma .   \n",
       "3  TRIM50 has only been shown to act as a tumor suppressor in hepatocellular carcinoma and ovary cancer. HOXA10 exerts an oncogenic role in several tumors endometrial adenocarcinoma .   \n",
       "4  TRIM50 has only been shown to act as a tumor suppressor in hepatocellular carcinoma and ovary cancer. HOXA10 exerts an oncogenic role in several tumors endometrial adenocarcinoma .   \n",
       "5  TRIM50 has only been shown to act as a tumor suppressor in hepatocellular carcinoma and ovary cancer. HOXA10 exerts an oncogenic role in several tumors endometrial adenocarcinoma .   \n",
       "\n",
       "                           ner_chunk  begin  end    ner_label ner_confidence  \\\n",
       "0                   tumor suppressor     39   54  Oncological        0.75685   \n",
       "1           hepatocellular carcinoma     59   82  Oncological         0.8806   \n",
       "2                       ovary cancer     88   99  Oncological         0.8954   \n",
       "3                             HOXA10    102  107  Oncological         0.4475   \n",
       "4                            several    137  143     Modifier         0.4946   \n",
       "5  tumors endometrial adenocarcinoma    145  177  Oncological         0.8318   \n",
       "\n",
       "      icdo_code                                  icdo_resolution  \\\n",
       "0        8001/1                                      tumor cells   \n",
       "1        8576/3                               hepatoid carcinoma   \n",
       "2  8010/3-C56.9                              carcinoma, of ovary   \n",
       "3         C72.4                                   acoustic nerve   \n",
       "4        9982/3                                             rars   \n",
       "5  8384/3-C53.1  adenocarcinoma, endocervical type, of exocervix   \n",
       "\n",
       "  icdo_confidence  \n",
       "0          0.3394  \n",
       "1          1.0000  \n",
       "2          0.3385  \n",
       "3          0.3350  \n",
       "4          0.3400  \n",
       "5          0.3335  "
      ]
     },
     "execution_count": 9,
     "metadata": {},
     "output_type": "execute_result"
    }
   ],
   "source": [
    "input_json_data = {\"text\": sample_text}\n",
    "\n",
    "data =  process_data_and_invoke_realtime_endpoint(input_json_data, content_type=\"application/json\" , accept=\"application/json\" )\n",
    "pd.DataFrame(data[\"predictions\"])"
   ]
  },
  {
   "cell_type": "markdown",
   "metadata": {},
   "source": [
    "#### Example 2"
   ]
  },
  {
   "cell_type": "markdown",
   "metadata": {},
   "source": [
    "  **Input format**:\n",
    "  \n",
    "  \n",
    "```json\n",
    "{\n",
    "    \"text\": [\n",
    "        \"Text document 1\",\n",
    "        \"Text document 2\",\n",
    "        ...\n",
    "    ]\n",
    "}\n",
    "```"
   ]
  },
  {
   "cell_type": "code",
   "execution_count": 10,
   "metadata": {
    "tags": []
   },
   "outputs": [
    {
     "data": {
      "text/html": [
       "<div>\n",
       "<style scoped>\n",
       "    .dataframe tbody tr th:only-of-type {\n",
       "        vertical-align: middle;\n",
       "    }\n",
       "\n",
       "    .dataframe tbody tr th {\n",
       "        vertical-align: top;\n",
       "    }\n",
       "\n",
       "    .dataframe thead th {\n",
       "        text-align: right;\n",
       "    }\n",
       "</style>\n",
       "<table border=\"1\" class=\"dataframe\">\n",
       "  <thead>\n",
       "    <tr style=\"text-align: right;\">\n",
       "      <th></th>\n",
       "      <th>document</th>\n",
       "      <th>ner_chunk</th>\n",
       "      <th>begin</th>\n",
       "      <th>end</th>\n",
       "      <th>ner_label</th>\n",
       "      <th>ner_confidence</th>\n",
       "      <th>icdo_code</th>\n",
       "      <th>icdo_resolution</th>\n",
       "      <th>icdo_confidence</th>\n",
       "    </tr>\n",
       "  </thead>\n",
       "  <tbody>\n",
       "    <tr>\n",
       "      <th>0</th>\n",
       "      <td>A few studies have demonstrated that ANGPTL1 functions as a tumor suppressor gene in breast cancer  , hepatocellular carcinoma  , colorectal cancer and parathyroid carcinoma.</td>\n",
       "      <td>tumor suppressor</td>\n",
       "      <td>60</td>\n",
       "      <td>75</td>\n",
       "      <td>Oncological</td>\n",
       "      <td>0.6416</td>\n",
       "      <td>8001/1</td>\n",
       "      <td>tumor cells</td>\n",
       "      <td>0.3394</td>\n",
       "    </tr>\n",
       "    <tr>\n",
       "      <th>1</th>\n",
       "      <td>A few studies have demonstrated that ANGPTL1 functions as a tumor suppressor gene in breast cancer  , hepatocellular carcinoma  , colorectal cancer and parathyroid carcinoma.</td>\n",
       "      <td>breast cancer</td>\n",
       "      <td>85</td>\n",
       "      <td>97</td>\n",
       "      <td>Oncological</td>\n",
       "      <td>0.939</td>\n",
       "      <td>8140/3-C50.9</td>\n",
       "      <td>adenocarcinoma, of breast</td>\n",
       "      <td>0.3384</td>\n",
       "    </tr>\n",
       "    <tr>\n",
       "      <th>2</th>\n",
       "      <td>A few studies have demonstrated that ANGPTL1 functions as a tumor suppressor gene in breast cancer  , hepatocellular carcinoma  , colorectal cancer and parathyroid carcinoma.</td>\n",
       "      <td>hepatocellular carcinoma</td>\n",
       "      <td>101</td>\n",
       "      <td>124</td>\n",
       "      <td>Oncological</td>\n",
       "      <td>0.94219995</td>\n",
       "      <td>8576/3</td>\n",
       "      <td>hepatoid carcinoma</td>\n",
       "      <td>1.0000</td>\n",
       "    </tr>\n",
       "    <tr>\n",
       "      <th>3</th>\n",
       "      <td>A few studies have demonstrated that ANGPTL1 functions as a tumor suppressor gene in breast cancer  , hepatocellular carcinoma  , colorectal cancer and parathyroid carcinoma.</td>\n",
       "      <td>colorectal cancer</td>\n",
       "      <td>128</td>\n",
       "      <td>144</td>\n",
       "      <td>Oncological</td>\n",
       "      <td>0.9151</td>\n",
       "      <td>8144/3-C18.9</td>\n",
       "      <td>adenocarcinoma, intestinal type of colon</td>\n",
       "      <td>0.3367</td>\n",
       "    </tr>\n",
       "    <tr>\n",
       "      <th>4</th>\n",
       "      <td>A few studies have demonstrated that ANGPTL1 functions as a tumor suppressor gene in breast cancer  , hepatocellular carcinoma  , colorectal cancer and parathyroid carcinoma.</td>\n",
       "      <td>parathyroid carcinoma</td>\n",
       "      <td>150</td>\n",
       "      <td>170</td>\n",
       "      <td>Oncological</td>\n",
       "      <td>0.8334</td>\n",
       "      <td>8010/3-C75.0</td>\n",
       "      <td>carcinoma, of parathyroid gland</td>\n",
       "      <td>0.3379</td>\n",
       "    </tr>\n",
       "    <tr>\n",
       "      <th>5</th>\n",
       "      <td>TRAF6 is a putative oncogene in a variety of cancers including  bladder cancer , and skin cancer. WWP2 appears to regulate the expression of the well characterized tumor suppressor phosphatase and tensin homolog (PTEN)   in endometrial cancer   and squamous cell carcinoma.</td>\n",
       "      <td>cancers</td>\n",
       "      <td>45</td>\n",
       "      <td>51</td>\n",
       "      <td>Oncological</td>\n",
       "      <td>0.9532</td>\n",
       "      <td>8000/3</td>\n",
       "      <td>cancer</td>\n",
       "      <td>0.3755</td>\n",
       "    </tr>\n",
       "    <tr>\n",
       "      <th>6</th>\n",
       "      <td>TRAF6 is a putative oncogene in a variety of cancers including  bladder cancer , and skin cancer. WWP2 appears to regulate the expression of the well characterized tumor suppressor phosphatase and tensin homolog (PTEN)   in endometrial cancer   and squamous cell carcinoma.</td>\n",
       "      <td>bladder cancer</td>\n",
       "      <td>63</td>\n",
       "      <td>76</td>\n",
       "      <td>Oncological</td>\n",
       "      <td>0.90855</td>\n",
       "      <td>8010/3-C67.9</td>\n",
       "      <td>carcinoma, of bladder</td>\n",
       "      <td>0.3374</td>\n",
       "    </tr>\n",
       "    <tr>\n",
       "      <th>7</th>\n",
       "      <td>TRAF6 is a putative oncogene in a variety of cancers including  bladder cancer , and skin cancer. WWP2 appears to regulate the expression of the well characterized tumor suppressor phosphatase and tensin homolog (PTEN)   in endometrial cancer   and squamous cell carcinoma.</td>\n",
       "      <td>skin cancer</td>\n",
       "      <td>84</td>\n",
       "      <td>94</td>\n",
       "      <td>Oncological</td>\n",
       "      <td>0.86455</td>\n",
       "      <td>8010/9-C44.9</td>\n",
       "      <td>carcinomatosis of skin</td>\n",
       "      <td>0.3417</td>\n",
       "    </tr>\n",
       "    <tr>\n",
       "      <th>8</th>\n",
       "      <td>TRAF6 is a putative oncogene in a variety of cancers including  bladder cancer , and skin cancer. WWP2 appears to regulate the expression of the well characterized tumor suppressor phosphatase and tensin homolog (PTEN)   in endometrial cancer   and squamous cell carcinoma.</td>\n",
       "      <td>tumor</td>\n",
       "      <td>163</td>\n",
       "      <td>167</td>\n",
       "      <td>Oncological</td>\n",
       "      <td>0.9767</td>\n",
       "      <td>8000/1</td>\n",
       "      <td>tumor</td>\n",
       "      <td>0.4155</td>\n",
       "    </tr>\n",
       "    <tr>\n",
       "      <th>9</th>\n",
       "      <td>TRAF6 is a putative oncogene in a variety of cancers including  bladder cancer , and skin cancer. WWP2 appears to regulate the expression of the well characterized tumor suppressor phosphatase and tensin homolog (PTEN)   in endometrial cancer   and squamous cell carcinoma.</td>\n",
       "      <td>endometrial cancer</td>\n",
       "      <td>221</td>\n",
       "      <td>238</td>\n",
       "      <td>Oncological</td>\n",
       "      <td>0.96150005</td>\n",
       "      <td>8380/3</td>\n",
       "      <td>endometrioid carcinoma</td>\n",
       "      <td>0.3409</td>\n",
       "    </tr>\n",
       "    <tr>\n",
       "      <th>10</th>\n",
       "      <td>TRAF6 is a putative oncogene in a variety of cancers including  bladder cancer , and skin cancer. WWP2 appears to regulate the expression of the well characterized tumor suppressor phosphatase and tensin homolog (PTEN)   in endometrial cancer   and squamous cell carcinoma.</td>\n",
       "      <td>squamous cell carcinoma</td>\n",
       "      <td>244</td>\n",
       "      <td>266</td>\n",
       "      <td>Oncological</td>\n",
       "      <td>0.9472</td>\n",
       "      <td>8070/3</td>\n",
       "      <td>squamous cell carcinoma</td>\n",
       "      <td>0.5531</td>\n",
       "    </tr>\n",
       "  </tbody>\n",
       "</table>\n",
       "</div>"
      ],
      "text/plain": [
       "                                                                                                                                                                                                                                                                             document  \\\n",
       "0                                                                                                      A few studies have demonstrated that ANGPTL1 functions as a tumor suppressor gene in breast cancer  , hepatocellular carcinoma  , colorectal cancer and parathyroid carcinoma.   \n",
       "1                                                                                                      A few studies have demonstrated that ANGPTL1 functions as a tumor suppressor gene in breast cancer  , hepatocellular carcinoma  , colorectal cancer and parathyroid carcinoma.   \n",
       "2                                                                                                      A few studies have demonstrated that ANGPTL1 functions as a tumor suppressor gene in breast cancer  , hepatocellular carcinoma  , colorectal cancer and parathyroid carcinoma.   \n",
       "3                                                                                                      A few studies have demonstrated that ANGPTL1 functions as a tumor suppressor gene in breast cancer  , hepatocellular carcinoma  , colorectal cancer and parathyroid carcinoma.   \n",
       "4                                                                                                      A few studies have demonstrated that ANGPTL1 functions as a tumor suppressor gene in breast cancer  , hepatocellular carcinoma  , colorectal cancer and parathyroid carcinoma.   \n",
       "5   TRAF6 is a putative oncogene in a variety of cancers including  bladder cancer , and skin cancer. WWP2 appears to regulate the expression of the well characterized tumor suppressor phosphatase and tensin homolog (PTEN)   in endometrial cancer   and squamous cell carcinoma.   \n",
       "6   TRAF6 is a putative oncogene in a variety of cancers including  bladder cancer , and skin cancer. WWP2 appears to regulate the expression of the well characterized tumor suppressor phosphatase and tensin homolog (PTEN)   in endometrial cancer   and squamous cell carcinoma.   \n",
       "7   TRAF6 is a putative oncogene in a variety of cancers including  bladder cancer , and skin cancer. WWP2 appears to regulate the expression of the well characterized tumor suppressor phosphatase and tensin homolog (PTEN)   in endometrial cancer   and squamous cell carcinoma.   \n",
       "8   TRAF6 is a putative oncogene in a variety of cancers including  bladder cancer , and skin cancer. WWP2 appears to regulate the expression of the well characterized tumor suppressor phosphatase and tensin homolog (PTEN)   in endometrial cancer   and squamous cell carcinoma.   \n",
       "9   TRAF6 is a putative oncogene in a variety of cancers including  bladder cancer , and skin cancer. WWP2 appears to regulate the expression of the well characterized tumor suppressor phosphatase and tensin homolog (PTEN)   in endometrial cancer   and squamous cell carcinoma.   \n",
       "10  TRAF6 is a putative oncogene in a variety of cancers including  bladder cancer , and skin cancer. WWP2 appears to regulate the expression of the well characterized tumor suppressor phosphatase and tensin homolog (PTEN)   in endometrial cancer   and squamous cell carcinoma.   \n",
       "\n",
       "                   ner_chunk  begin  end    ner_label ner_confidence  \\\n",
       "0           tumor suppressor     60   75  Oncological         0.6416   \n",
       "1              breast cancer     85   97  Oncological          0.939   \n",
       "2   hepatocellular carcinoma    101  124  Oncological     0.94219995   \n",
       "3          colorectal cancer    128  144  Oncological         0.9151   \n",
       "4      parathyroid carcinoma    150  170  Oncological         0.8334   \n",
       "5                    cancers     45   51  Oncological         0.9532   \n",
       "6             bladder cancer     63   76  Oncological        0.90855   \n",
       "7                skin cancer     84   94  Oncological        0.86455   \n",
       "8                      tumor    163  167  Oncological         0.9767   \n",
       "9         endometrial cancer    221  238  Oncological     0.96150005   \n",
       "10   squamous cell carcinoma    244  266  Oncological         0.9472   \n",
       "\n",
       "       icdo_code                           icdo_resolution icdo_confidence  \n",
       "0         8001/1                               tumor cells          0.3394  \n",
       "1   8140/3-C50.9                 adenocarcinoma, of breast          0.3384  \n",
       "2         8576/3                        hepatoid carcinoma          1.0000  \n",
       "3   8144/3-C18.9  adenocarcinoma, intestinal type of colon          0.3367  \n",
       "4   8010/3-C75.0           carcinoma, of parathyroid gland          0.3379  \n",
       "5         8000/3                                    cancer          0.3755  \n",
       "6   8010/3-C67.9                     carcinoma, of bladder          0.3374  \n",
       "7   8010/9-C44.9                    carcinomatosis of skin          0.3417  \n",
       "8         8000/1                                     tumor          0.4155  \n",
       "9         8380/3                    endometrioid carcinoma          0.3409  \n",
       "10        8070/3                   squamous cell carcinoma          0.5531  "
      ]
     },
     "execution_count": 10,
     "metadata": {},
     "output_type": "execute_result"
    }
   ],
   "source": [
    "input_json_data = {\"text\": docs}\n",
    "\n",
    "data =  process_data_and_invoke_realtime_endpoint(input_json_data, content_type=\"application/json\" , accept=\"application/json\" )\n",
    "pd.DataFrame(data[\"predictions\"])"
   ]
  },
  {
   "cell_type": "markdown",
   "metadata": {},
   "source": [
    "### JSON Lines"
   ]
  },
  {
   "cell_type": "markdown",
   "metadata": {},
   "source": [
    "  **Input format**:\n",
    "  \n",
    "```json\n",
    "{\"text\": \"Text document 1\"}\n",
    "{\"text\": \"Text document 2\"}\n",
    "```"
   ]
  },
  {
   "cell_type": "code",
   "execution_count": 11,
   "metadata": {
    "tags": []
   },
   "outputs": [],
   "source": [
    "import json\n",
    "\n",
    "def create_jsonl(records):\n",
    "    json_records = []\n",
    "\n",
    "    for text in records:\n",
    "        record = {\n",
    "            \"text\": text\n",
    "        }\n",
    "        json_records.append(record)\n",
    "\n",
    "    json_lines = '\\n'.join(json.dumps(record) for record in json_records)\n",
    "\n",
    "    return json_lines\n",
    "\n",
    "input_jsonl_data = create_jsonl(docs)"
   ]
  },
  {
   "cell_type": "markdown",
   "metadata": {},
   "source": [
    "#### Example 1"
   ]
  },
  {
   "cell_type": "code",
   "execution_count": 12,
   "metadata": {
    "tags": []
   },
   "outputs": [
    {
     "name": "stdout",
     "output_type": "stream",
     "text": [
      "{\"predictions\": [{\"ner_chunk\": \"tumor suppressor\", \"begin\": 60, \"end\": 75, \"ner_label\": \"Oncological\", \"ner_confidence\": \"0.6416\", \"icdo_code\": \"8001/1\", \"icdo_resolution\": \"tumor cells\", \"icdo_confidence\": \"0.3394\"}, {\"ner_chunk\": \"breast cancer\", \"begin\": 85, \"end\": 97, \"ner_label\": \"Oncological\", \"ner_confidence\": \"0.939\", \"icdo_code\": \"8140/3-C50.9\", \"icdo_resolution\": \"adenocarcinoma, of breast\", \"icdo_confidence\": \"0.3384\"}, {\"ner_chunk\": \"hepatocellular carcinoma\", \"begin\": 101, \"end\": 124, \"ner_label\": \"Oncological\", \"ner_confidence\": \"0.94219995\", \"icdo_code\": \"8576/3\", \"icdo_resolution\": \"hepatoid carcinoma\", \"icdo_confidence\": \"1.0000\"}, {\"ner_chunk\": \"colorectal cancer\", \"begin\": 128, \"end\": 144, \"ner_label\": \"Oncological\", \"ner_confidence\": \"0.9151\", \"icdo_code\": \"8144/3-C18.9\", \"icdo_resolution\": \"adenocarcinoma, intestinal type of colon\", \"icdo_confidence\": \"0.3367\"}, {\"ner_chunk\": \"parathyroid carcinoma\", \"begin\": 150, \"end\": 170, \"ner_label\": \"Oncological\", \"ner_confidence\": \"0.8334\", \"icdo_code\": \"8010/3-C75.0\", \"icdo_resolution\": \"carcinoma, of parathyroid gland\", \"icdo_confidence\": \"0.3379\"}]}\n",
      "{\"predictions\": [{\"ner_chunk\": \"cancers\", \"begin\": 45, \"end\": 51, \"ner_label\": \"Oncological\", \"ner_confidence\": \"0.9532\", \"icdo_code\": \"8000/3\", \"icdo_resolution\": \"cancer\", \"icdo_confidence\": \"0.3755\"}, {\"ner_chunk\": \"bladder cancer\", \"begin\": 63, \"end\": 76, \"ner_label\": \"Oncological\", \"ner_confidence\": \"0.90855\", \"icdo_code\": \"8010/3-C67.9\", \"icdo_resolution\": \"carcinoma, of bladder\", \"icdo_confidence\": \"0.3374\"}, {\"ner_chunk\": \"skin cancer\", \"begin\": 84, \"end\": 94, \"ner_label\": \"Oncological\", \"ner_confidence\": \"0.86455\", \"icdo_code\": \"8010/9-C44.9\", \"icdo_resolution\": \"carcinomatosis of skin\", \"icdo_confidence\": \"0.3417\"}, {\"ner_chunk\": \"tumor\", \"begin\": 163, \"end\": 167, \"ner_label\": \"Oncological\", \"ner_confidence\": \"0.9767\", \"icdo_code\": \"8000/1\", \"icdo_resolution\": \"tumor\", \"icdo_confidence\": \"0.4155\"}, {\"ner_chunk\": \"endometrial cancer\", \"begin\": 221, \"end\": 238, \"ner_label\": \"Oncological\", \"ner_confidence\": \"0.96150005\", \"icdo_code\": \"8380/3\", \"icdo_resolution\": \"endometrioid carcinoma\", \"icdo_confidence\": \"0.3409\"}, {\"ner_chunk\": \"squamous cell carcinoma\", \"begin\": 244, \"end\": 266, \"ner_label\": \"Oncological\", \"ner_confidence\": \"0.9472\", \"icdo_code\": \"8070/3\", \"icdo_resolution\": \"squamous cell carcinoma\", \"icdo_confidence\": \"0.5531\"}]}\n"
     ]
    }
   ],
   "source": [
    "data = process_data_and_invoke_realtime_endpoint(input_jsonl_data, content_type=\"application/jsonlines\" , accept=\"application/jsonlines\" )\n",
    "print(data)"
   ]
  },
  {
   "cell_type": "markdown",
   "metadata": {},
   "source": [
    "### C. Delete the endpoint"
   ]
  },
  {
   "cell_type": "markdown",
   "metadata": {},
   "source": [
    "Now that you have successfully performed a real-time inference, you do not need the endpoint any more. You can terminate the endpoint to avoid being charged."
   ]
  },
  {
   "cell_type": "code",
   "execution_count": 13,
   "metadata": {
    "tags": []
   },
   "outputs": [],
   "source": [
    "model.sagemaker_session.delete_endpoint(model_name)\n",
    "model.sagemaker_session.delete_endpoint_config(model_name)"
   ]
  },
  {
   "cell_type": "markdown",
   "metadata": {
    "tags": []
   },
   "source": [
    "## 3. Batch inference"
   ]
  },
  {
   "cell_type": "code",
   "execution_count": 14,
   "metadata": {
    "tags": []
   },
   "outputs": [],
   "source": [
    "import json\n",
    "import os\n",
    "\n",
    "input_dir = 'inputs/batch'\n",
    "json_input_dir = f\"{input_dir}/json\"\n",
    "jsonl_input_dir = f\"{input_dir}/jsonl\"\n",
    "\n",
    "output_dir = 'outputs/batch'\n",
    "json_output_dir = f\"{output_dir}/json\"\n",
    "jsonl_output_dir = f\"{output_dir}/jsonl\"\n",
    "\n",
    "os.makedirs(json_input_dir, exist_ok=True)\n",
    "os.makedirs(jsonl_input_dir, exist_ok=True)\n",
    "os.makedirs(json_output_dir, exist_ok=True)\n",
    "os.makedirs(jsonl_output_dir, exist_ok=True)\n",
    "\n",
    "validation_json_file_name = \"input.json\"\n",
    "\n",
    "validation_jsonl_file_name = \"input.jsonl\"\n",
    "\n",
    "validation_input_json_path = f\"s3://{s3_bucket}/{model_name}/validation-input/batch/json/\"\n",
    "validation_output_json_path = f\"s3://{s3_bucket}/{model_name}/validation-output/batch/json/\"\n",
    "\n",
    "validation_input_jsonl_path = f\"s3://{s3_bucket}/{model_name}/validation-input/batch/jsonl/\"\n",
    "validation_output_jsonl_path = f\"s3://{s3_bucket}/{model_name}/validation-output/batch/jsonl/\"\n",
    "\n",
    "def write_and_upload_to_s3(input_data, file_name):\n",
    "    file_format = os.path.splitext(file_name)[1].lower()\n",
    "    if file_format == \".json\":\n",
    "        input_data = json.dumps(input_data)\n",
    "\n",
    "    with open(file_name, \"w\") as f:\n",
    "        f.write(input_data)\n",
    "\n",
    "    s3_client.put_object(\n",
    "        Bucket=s3_bucket,\n",
    "        Key=f\"{model_name}/validation-input/batch/{file_format[1:]}/{os.path.basename(file_name)}\",\n",
    "        Body=(bytes(input_data.encode(\"UTF-8\"))),\n",
    "    )"
   ]
  },
  {
   "cell_type": "code",
   "execution_count": 15,
   "metadata": {
    "tags": []
   },
   "outputs": [],
   "source": [
    "input_jsonl_data = create_jsonl(docs)\n",
    "input_json_data = {\"text\": docs}\n",
    "\n",
    "write_and_upload_to_s3(input_json_data, f\"{json_input_dir}/{validation_json_file_name}\")\n",
    "\n",
    "write_and_upload_to_s3(input_jsonl_data, f\"{jsonl_input_dir}/{validation_jsonl_file_name}\")"
   ]
  },
  {
   "cell_type": "markdown",
   "metadata": {},
   "source": [
    "### JSON"
   ]
  },
  {
   "cell_type": "code",
   "execution_count": null,
   "metadata": {
    "tags": []
   },
   "outputs": [],
   "source": [
    "# Initialize a SageMaker Transformer object for making predictions\n",
    "transformer = model.transformer(\n",
    "    instance_count=1,\n",
    "    instance_type=batch_transform_inference_instance_type,\n",
    "    accept=\"application/json\",\n",
    "    output_path=validation_output_json_path\n",
    ")\n",
    "\n",
    "transformer.transform(validation_input_json_path, content_type=\"application/json\")\n",
    "transformer.wait()"
   ]
  },
  {
   "cell_type": "code",
   "execution_count": 17,
   "metadata": {
    "tags": []
   },
   "outputs": [],
   "source": [
    "from urllib.parse import urlparse\n",
    "\n",
    "def process_s3_json_output_and_save(validation_file_name):\n",
    "\n",
    "    output_file_path = f\"{json_output_dir}/{validation_file_name}.out\"\n",
    "    parsed_url = urlparse(transformer.output_path)\n",
    "    file_key = f\"{parsed_url.path[1:]}{validation_file_name}.out\"\n",
    "    response = s3_client.get_object(Bucket=s3_bucket, Key=file_key)\n",
    "\n",
    "    data = json.loads(response[\"Body\"].read().decode(\"utf-8\"))\n",
    "    df = pd.DataFrame(data[\"predictions\"])\n",
    "    display(df)\n",
    "\n",
    "    # Save the data to the output file\n",
    "    with open(output_file_path, 'w') as f_out:\n",
    "        json.dump(data, f_out, indent=4)"
   ]
  },
  {
   "cell_type": "code",
   "execution_count": 18,
   "metadata": {
    "tags": []
   },
   "outputs": [
    {
     "data": {
      "text/html": [
       "<div>\n",
       "<style scoped>\n",
       "    .dataframe tbody tr th:only-of-type {\n",
       "        vertical-align: middle;\n",
       "    }\n",
       "\n",
       "    .dataframe tbody tr th {\n",
       "        vertical-align: top;\n",
       "    }\n",
       "\n",
       "    .dataframe thead th {\n",
       "        text-align: right;\n",
       "    }\n",
       "</style>\n",
       "<table border=\"1\" class=\"dataframe\">\n",
       "  <thead>\n",
       "    <tr style=\"text-align: right;\">\n",
       "      <th></th>\n",
       "      <th>document</th>\n",
       "      <th>ner_chunk</th>\n",
       "      <th>begin</th>\n",
       "      <th>end</th>\n",
       "      <th>ner_label</th>\n",
       "      <th>ner_confidence</th>\n",
       "      <th>icdo_code</th>\n",
       "      <th>icdo_resolution</th>\n",
       "      <th>icdo_confidence</th>\n",
       "    </tr>\n",
       "  </thead>\n",
       "  <tbody>\n",
       "    <tr>\n",
       "      <th>0</th>\n",
       "      <td>A few studies have demonstrated that ANGPTL1 functions as a tumor suppressor gene in breast cancer  , hepatocellular carcinoma  , colorectal cancer and parathyroid carcinoma.</td>\n",
       "      <td>tumor suppressor</td>\n",
       "      <td>60</td>\n",
       "      <td>75</td>\n",
       "      <td>Oncological</td>\n",
       "      <td>0.6416</td>\n",
       "      <td>8001/1</td>\n",
       "      <td>tumor cells</td>\n",
       "      <td>0.3394</td>\n",
       "    </tr>\n",
       "    <tr>\n",
       "      <th>1</th>\n",
       "      <td>A few studies have demonstrated that ANGPTL1 functions as a tumor suppressor gene in breast cancer  , hepatocellular carcinoma  , colorectal cancer and parathyroid carcinoma.</td>\n",
       "      <td>breast cancer</td>\n",
       "      <td>85</td>\n",
       "      <td>97</td>\n",
       "      <td>Oncological</td>\n",
       "      <td>0.939</td>\n",
       "      <td>8140/3-C50.9</td>\n",
       "      <td>adenocarcinoma, of breast</td>\n",
       "      <td>0.3384</td>\n",
       "    </tr>\n",
       "    <tr>\n",
       "      <th>2</th>\n",
       "      <td>A few studies have demonstrated that ANGPTL1 functions as a tumor suppressor gene in breast cancer  , hepatocellular carcinoma  , colorectal cancer and parathyroid carcinoma.</td>\n",
       "      <td>hepatocellular carcinoma</td>\n",
       "      <td>101</td>\n",
       "      <td>124</td>\n",
       "      <td>Oncological</td>\n",
       "      <td>0.94219995</td>\n",
       "      <td>8576/3</td>\n",
       "      <td>hepatoid carcinoma</td>\n",
       "      <td>1.0000</td>\n",
       "    </tr>\n",
       "    <tr>\n",
       "      <th>3</th>\n",
       "      <td>A few studies have demonstrated that ANGPTL1 functions as a tumor suppressor gene in breast cancer  , hepatocellular carcinoma  , colorectal cancer and parathyroid carcinoma.</td>\n",
       "      <td>colorectal cancer</td>\n",
       "      <td>128</td>\n",
       "      <td>144</td>\n",
       "      <td>Oncological</td>\n",
       "      <td>0.9151</td>\n",
       "      <td>8144/3-C18.9</td>\n",
       "      <td>adenocarcinoma, intestinal type of colon</td>\n",
       "      <td>0.3367</td>\n",
       "    </tr>\n",
       "    <tr>\n",
       "      <th>4</th>\n",
       "      <td>A few studies have demonstrated that ANGPTL1 functions as a tumor suppressor gene in breast cancer  , hepatocellular carcinoma  , colorectal cancer and parathyroid carcinoma.</td>\n",
       "      <td>parathyroid carcinoma</td>\n",
       "      <td>150</td>\n",
       "      <td>170</td>\n",
       "      <td>Oncological</td>\n",
       "      <td>0.8334</td>\n",
       "      <td>8010/3-C75.0</td>\n",
       "      <td>carcinoma, of parathyroid gland</td>\n",
       "      <td>0.3379</td>\n",
       "    </tr>\n",
       "    <tr>\n",
       "      <th>5</th>\n",
       "      <td>TRAF6 is a putative oncogene in a variety of cancers including  bladder cancer , and skin cancer. WWP2 appears to regulate the expression of the well characterized tumor suppressor phosphatase and tensin homolog (PTEN)   in endometrial cancer   and squamous cell carcinoma.</td>\n",
       "      <td>cancers</td>\n",
       "      <td>45</td>\n",
       "      <td>51</td>\n",
       "      <td>Oncological</td>\n",
       "      <td>0.9532</td>\n",
       "      <td>8000/3</td>\n",
       "      <td>cancer</td>\n",
       "      <td>0.3755</td>\n",
       "    </tr>\n",
       "    <tr>\n",
       "      <th>6</th>\n",
       "      <td>TRAF6 is a putative oncogene in a variety of cancers including  bladder cancer , and skin cancer. WWP2 appears to regulate the expression of the well characterized tumor suppressor phosphatase and tensin homolog (PTEN)   in endometrial cancer   and squamous cell carcinoma.</td>\n",
       "      <td>bladder cancer</td>\n",
       "      <td>63</td>\n",
       "      <td>76</td>\n",
       "      <td>Oncological</td>\n",
       "      <td>0.90855</td>\n",
       "      <td>8010/3-C67.9</td>\n",
       "      <td>carcinoma, of bladder</td>\n",
       "      <td>0.3374</td>\n",
       "    </tr>\n",
       "    <tr>\n",
       "      <th>7</th>\n",
       "      <td>TRAF6 is a putative oncogene in a variety of cancers including  bladder cancer , and skin cancer. WWP2 appears to regulate the expression of the well characterized tumor suppressor phosphatase and tensin homolog (PTEN)   in endometrial cancer   and squamous cell carcinoma.</td>\n",
       "      <td>skin cancer</td>\n",
       "      <td>84</td>\n",
       "      <td>94</td>\n",
       "      <td>Oncological</td>\n",
       "      <td>0.86455</td>\n",
       "      <td>8010/9-C44.9</td>\n",
       "      <td>carcinomatosis of skin</td>\n",
       "      <td>0.3417</td>\n",
       "    </tr>\n",
       "    <tr>\n",
       "      <th>8</th>\n",
       "      <td>TRAF6 is a putative oncogene in a variety of cancers including  bladder cancer , and skin cancer. WWP2 appears to regulate the expression of the well characterized tumor suppressor phosphatase and tensin homolog (PTEN)   in endometrial cancer   and squamous cell carcinoma.</td>\n",
       "      <td>tumor</td>\n",
       "      <td>163</td>\n",
       "      <td>167</td>\n",
       "      <td>Oncological</td>\n",
       "      <td>0.9767</td>\n",
       "      <td>8000/1</td>\n",
       "      <td>tumor</td>\n",
       "      <td>0.4155</td>\n",
       "    </tr>\n",
       "    <tr>\n",
       "      <th>9</th>\n",
       "      <td>TRAF6 is a putative oncogene in a variety of cancers including  bladder cancer , and skin cancer. WWP2 appears to regulate the expression of the well characterized tumor suppressor phosphatase and tensin homolog (PTEN)   in endometrial cancer   and squamous cell carcinoma.</td>\n",
       "      <td>endometrial cancer</td>\n",
       "      <td>221</td>\n",
       "      <td>238</td>\n",
       "      <td>Oncological</td>\n",
       "      <td>0.96150005</td>\n",
       "      <td>8380/3</td>\n",
       "      <td>endometrioid carcinoma</td>\n",
       "      <td>0.3409</td>\n",
       "    </tr>\n",
       "    <tr>\n",
       "      <th>10</th>\n",
       "      <td>TRAF6 is a putative oncogene in a variety of cancers including  bladder cancer , and skin cancer. WWP2 appears to regulate the expression of the well characterized tumor suppressor phosphatase and tensin homolog (PTEN)   in endometrial cancer   and squamous cell carcinoma.</td>\n",
       "      <td>squamous cell carcinoma</td>\n",
       "      <td>244</td>\n",
       "      <td>266</td>\n",
       "      <td>Oncological</td>\n",
       "      <td>0.9472</td>\n",
       "      <td>8070/3</td>\n",
       "      <td>squamous cell carcinoma</td>\n",
       "      <td>0.5531</td>\n",
       "    </tr>\n",
       "  </tbody>\n",
       "</table>\n",
       "</div>"
      ],
      "text/plain": [
       "                                                                                                                                                                                                                                                                             document  \\\n",
       "0                                                                                                      A few studies have demonstrated that ANGPTL1 functions as a tumor suppressor gene in breast cancer  , hepatocellular carcinoma  , colorectal cancer and parathyroid carcinoma.   \n",
       "1                                                                                                      A few studies have demonstrated that ANGPTL1 functions as a tumor suppressor gene in breast cancer  , hepatocellular carcinoma  , colorectal cancer and parathyroid carcinoma.   \n",
       "2                                                                                                      A few studies have demonstrated that ANGPTL1 functions as a tumor suppressor gene in breast cancer  , hepatocellular carcinoma  , colorectal cancer and parathyroid carcinoma.   \n",
       "3                                                                                                      A few studies have demonstrated that ANGPTL1 functions as a tumor suppressor gene in breast cancer  , hepatocellular carcinoma  , colorectal cancer and parathyroid carcinoma.   \n",
       "4                                                                                                      A few studies have demonstrated that ANGPTL1 functions as a tumor suppressor gene in breast cancer  , hepatocellular carcinoma  , colorectal cancer and parathyroid carcinoma.   \n",
       "5   TRAF6 is a putative oncogene in a variety of cancers including  bladder cancer , and skin cancer. WWP2 appears to regulate the expression of the well characterized tumor suppressor phosphatase and tensin homolog (PTEN)   in endometrial cancer   and squamous cell carcinoma.   \n",
       "6   TRAF6 is a putative oncogene in a variety of cancers including  bladder cancer , and skin cancer. WWP2 appears to regulate the expression of the well characterized tumor suppressor phosphatase and tensin homolog (PTEN)   in endometrial cancer   and squamous cell carcinoma.   \n",
       "7   TRAF6 is a putative oncogene in a variety of cancers including  bladder cancer , and skin cancer. WWP2 appears to regulate the expression of the well characterized tumor suppressor phosphatase and tensin homolog (PTEN)   in endometrial cancer   and squamous cell carcinoma.   \n",
       "8   TRAF6 is a putative oncogene in a variety of cancers including  bladder cancer , and skin cancer. WWP2 appears to regulate the expression of the well characterized tumor suppressor phosphatase and tensin homolog (PTEN)   in endometrial cancer   and squamous cell carcinoma.   \n",
       "9   TRAF6 is a putative oncogene in a variety of cancers including  bladder cancer , and skin cancer. WWP2 appears to regulate the expression of the well characterized tumor suppressor phosphatase and tensin homolog (PTEN)   in endometrial cancer   and squamous cell carcinoma.   \n",
       "10  TRAF6 is a putative oncogene in a variety of cancers including  bladder cancer , and skin cancer. WWP2 appears to regulate the expression of the well characterized tumor suppressor phosphatase and tensin homolog (PTEN)   in endometrial cancer   and squamous cell carcinoma.   \n",
       "\n",
       "                   ner_chunk  begin  end    ner_label ner_confidence  \\\n",
       "0           tumor suppressor     60   75  Oncological         0.6416   \n",
       "1              breast cancer     85   97  Oncological          0.939   \n",
       "2   hepatocellular carcinoma    101  124  Oncological     0.94219995   \n",
       "3          colorectal cancer    128  144  Oncological         0.9151   \n",
       "4      parathyroid carcinoma    150  170  Oncological         0.8334   \n",
       "5                    cancers     45   51  Oncological         0.9532   \n",
       "6             bladder cancer     63   76  Oncological        0.90855   \n",
       "7                skin cancer     84   94  Oncological        0.86455   \n",
       "8                      tumor    163  167  Oncological         0.9767   \n",
       "9         endometrial cancer    221  238  Oncological     0.96150005   \n",
       "10   squamous cell carcinoma    244  266  Oncological         0.9472   \n",
       "\n",
       "       icdo_code                           icdo_resolution icdo_confidence  \n",
       "0         8001/1                               tumor cells          0.3394  \n",
       "1   8140/3-C50.9                 adenocarcinoma, of breast          0.3384  \n",
       "2         8576/3                        hepatoid carcinoma          1.0000  \n",
       "3   8144/3-C18.9  adenocarcinoma, intestinal type of colon          0.3367  \n",
       "4   8010/3-C75.0           carcinoma, of parathyroid gland          0.3379  \n",
       "5         8000/3                                    cancer          0.3755  \n",
       "6   8010/3-C67.9                     carcinoma, of bladder          0.3374  \n",
       "7   8010/9-C44.9                    carcinomatosis of skin          0.3417  \n",
       "8         8000/1                                     tumor          0.4155  \n",
       "9         8380/3                    endometrioid carcinoma          0.3409  \n",
       "10        8070/3                   squamous cell carcinoma          0.5531  "
      ]
     },
     "metadata": {},
     "output_type": "display_data"
    }
   ],
   "source": [
    "process_s3_json_output_and_save(validation_json_file_name)"
   ]
  },
  {
   "cell_type": "markdown",
   "metadata": {},
   "source": [
    "### JSON Lines"
   ]
  },
  {
   "cell_type": "code",
   "execution_count": null,
   "metadata": {
    "tags": []
   },
   "outputs": [],
   "source": [
    "transformer = model.transformer(\n",
    "    instance_count=1,\n",
    "    instance_type=batch_transform_inference_instance_type,\n",
    "    accept=\"application/jsonlines\",\n",
    "    output_path=validation_output_jsonl_path\n",
    ")\n",
    "transformer.transform(validation_input_jsonl_path, content_type=\"application/jsonlines\")\n",
    "transformer.wait()"
   ]
  },
  {
   "cell_type": "code",
   "execution_count": 20,
   "metadata": {
    "tags": []
   },
   "outputs": [],
   "source": [
    "from urllib.parse import urlparse\n",
    "\n",
    "def process_s3_jsonlines_output_and_save(validation_file_name):\n",
    "\n",
    "    output_file_path = f\"{jsonl_output_dir}/{validation_file_name}.out\"\n",
    "    parsed_url = urlparse(transformer.output_path)\n",
    "    file_key = f\"{parsed_url.path[1:]}{validation_file_name}.out\"\n",
    "    response = s3_client.get_object(Bucket=s3_bucket, Key=file_key)\n",
    "\n",
    "    data = response[\"Body\"].read().decode(\"utf-8\")\n",
    "    print(data)\n",
    "\n",
    "    # Save the data to the output file\n",
    "    with open(output_file_path, 'w') as f_out:\n",
    "        for item in data.split('\\n'):\n",
    "            f_out.write(item + '\\n')"
   ]
  },
  {
   "cell_type": "code",
   "execution_count": 21,
   "metadata": {
    "tags": []
   },
   "outputs": [
    {
     "name": "stdout",
     "output_type": "stream",
     "text": [
      "{\"predictions\": [{\"ner_chunk\": \"tumor suppressor\", \"begin\": 60, \"end\": 75, \"ner_label\": \"Oncological\", \"ner_confidence\": \"0.6416\", \"icdo_code\": \"8001/1\", \"icdo_resolution\": \"tumor cells\", \"icdo_confidence\": \"0.3394\"}, {\"ner_chunk\": \"breast cancer\", \"begin\": 85, \"end\": 97, \"ner_label\": \"Oncological\", \"ner_confidence\": \"0.939\", \"icdo_code\": \"8140/3-C50.9\", \"icdo_resolution\": \"adenocarcinoma, of breast\", \"icdo_confidence\": \"0.3384\"}, {\"ner_chunk\": \"hepatocellular carcinoma\", \"begin\": 101, \"end\": 124, \"ner_label\": \"Oncological\", \"ner_confidence\": \"0.94219995\", \"icdo_code\": \"8576/3\", \"icdo_resolution\": \"hepatoid carcinoma\", \"icdo_confidence\": \"1.0000\"}, {\"ner_chunk\": \"colorectal cancer\", \"begin\": 128, \"end\": 144, \"ner_label\": \"Oncological\", \"ner_confidence\": \"0.9151\", \"icdo_code\": \"8144/3-C18.9\", \"icdo_resolution\": \"adenocarcinoma, intestinal type of colon\", \"icdo_confidence\": \"0.3367\"}, {\"ner_chunk\": \"parathyroid carcinoma\", \"begin\": 150, \"end\": 170, \"ner_label\": \"Oncological\", \"ner_confidence\": \"0.8334\", \"icdo_code\": \"8010/3-C75.0\", \"icdo_resolution\": \"carcinoma, of parathyroid gland\", \"icdo_confidence\": \"0.3379\"}]}\n",
      "{\"predictions\": [{\"ner_chunk\": \"cancers\", \"begin\": 45, \"end\": 51, \"ner_label\": \"Oncological\", \"ner_confidence\": \"0.9532\", \"icdo_code\": \"8000/3\", \"icdo_resolution\": \"cancer\", \"icdo_confidence\": \"0.3755\"}, {\"ner_chunk\": \"bladder cancer\", \"begin\": 63, \"end\": 76, \"ner_label\": \"Oncological\", \"ner_confidence\": \"0.90855\", \"icdo_code\": \"8010/3-C67.9\", \"icdo_resolution\": \"carcinoma, of bladder\", \"icdo_confidence\": \"0.3374\"}, {\"ner_chunk\": \"skin cancer\", \"begin\": 84, \"end\": 94, \"ner_label\": \"Oncological\", \"ner_confidence\": \"0.86455\", \"icdo_code\": \"8010/9-C44.9\", \"icdo_resolution\": \"carcinomatosis of skin\", \"icdo_confidence\": \"0.3417\"}, {\"ner_chunk\": \"tumor\", \"begin\": 163, \"end\": 167, \"ner_label\": \"Oncological\", \"ner_confidence\": \"0.9767\", \"icdo_code\": \"8000/1\", \"icdo_resolution\": \"tumor\", \"icdo_confidence\": \"0.4155\"}, {\"ner_chunk\": \"endometrial cancer\", \"begin\": 221, \"end\": 238, \"ner_label\": \"Oncological\", \"ner_confidence\": \"0.96150005\", \"icdo_code\": \"8380/3\", \"icdo_resolution\": \"endometrioid carcinoma\", \"icdo_confidence\": \"0.3409\"}, {\"ner_chunk\": \"squamous cell carcinoma\", \"begin\": 244, \"end\": 266, \"ner_label\": \"Oncological\", \"ner_confidence\": \"0.9472\", \"icdo_code\": \"8070/3\", \"icdo_resolution\": \"squamous cell carcinoma\", \"icdo_confidence\": \"0.5531\"}]}\n"
     ]
    }
   ],
   "source": [
    "process_s3_jsonlines_output_and_save(validation_jsonl_file_name)"
   ]
  },
  {
   "cell_type": "code",
   "execution_count": 22,
   "metadata": {
    "tags": []
   },
   "outputs": [
    {
     "name": "stderr",
     "output_type": "stream",
     "text": [
      "INFO:sagemaker:Deleting model with name: en-resolve-icdo-augmented-2024-05-02-08-25-11-377\n"
     ]
    }
   ],
   "source": [
    "model.delete_model()"
   ]
  },
  {
   "cell_type": "markdown",
   "metadata": {},
   "source": [
    "### Unsubscribe to the listing (optional)"
   ]
  },
  {
   "cell_type": "markdown",
   "metadata": {
    "tags": []
   },
   "source": [
    "If you would like to unsubscribe to the model package, follow these steps. Before you cancel the subscription, ensure that you do not have any [deployable model](https://console.aws.amazon.com/sagemaker/home#/models) created from the model package or using the algorithm. Note - You can find this information by looking at the container name associated with the model. \n",
    "\n",
    "**Steps to unsubscribe to product from AWS Marketplace**:\n",
    "1. Navigate to __Machine Learning__ tab on [__Your Software subscriptions page__](https://aws.amazon.com/marketplace/ai/library?productType=ml&ref_=mlmp_gitdemo_indust)\n",
    "2. Locate the listing that you want to cancel the subscription for, and then choose __Cancel Subscription__  to cancel the subscription.\n",
    "\n"
   ]
  }
 ],
 "metadata": {
  "instance_type": "ml.t3.medium",
  "kernelspec": {
   "display_name": "conda_python3",
   "language": "python",
   "name": "conda_python3"
  },
  "language_info": {
   "codemirror_mode": {
    "name": "ipython",
    "version": 3
   },
   "file_extension": ".py",
   "mimetype": "text/x-python",
   "name": "python",
   "nbconvert_exporter": "python",
   "pygments_lexer": "ipython3",
   "version": "3.10.14"
  }
 },
 "nbformat": 4,
 "nbformat_minor": 4
}

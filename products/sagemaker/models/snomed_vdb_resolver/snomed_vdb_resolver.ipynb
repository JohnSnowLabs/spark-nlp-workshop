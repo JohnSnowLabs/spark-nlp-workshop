{
 "cells": [
  {
   "cell_type": "markdown",
   "metadata": {},
   "source": [
    "## 1. Subscribe to the model package"
   ]
  },
  {
   "cell_type": "markdown",
   "metadata": {},
   "source": [
    "To subscribe to the model package:\n",
    "1. Open the model package listing page <font color='red'> For Seller to update:[Title_of_your_product](Provide link to your marketplace listing of your product).</font>\n",
    "1. On the AWS Marketplace listing, click on the **Continue to subscribe** button.\n",
    "1. On the **Subscribe to this software** page, review and click on **\"Accept Offer\"** if you and your organization agrees with EULA, pricing, and support terms. \n",
    "1. Once you click on **Continue to configuration button** and then choose a **region**, you will see a **Product Arn** displayed. This is the model package ARN that you need to specify while creating a deployable model using Boto3. Copy the ARN corresponding to your region and specify the same in the following cell."
   ]
  },
  {
   "cell_type": "markdown",
   "metadata": {},
   "source": [
    "## SNOMED Resolver Pipeline\n",
    "\n",
    "- **Model**: `snomed_vdb_resolver`\n",
    "- **Model Description**: This pretrained pipeline extracts clinical entities from clinical text and maps them to their corresponding SNOMED codes."
   ]
  },
  {
   "cell_type": "code",
   "execution_count": 4,
   "metadata": {
    "tags": []
   },
   "outputs": [],
   "source": [
    "model_package_arn = \"<Customer to specify Model package ARN corresponding to their AWS region>\""
   ]
  },
  {
   "cell_type": "code",
   "execution_count": null,
   "metadata": {
    "tags": []
   },
   "outputs": [],
   "source": [
    "import json\n",
    "import os\n",
    "import boto3\n",
    "import pandas as pd\n",
    "import sagemaker as sage\n",
    "from sagemaker import ModelPackage\n",
    "from sagemaker import get_execution_role\n",
    "from IPython.display import display\n",
    "from urllib.parse import urlparse\n"
   ]
  },
  {
   "cell_type": "code",
   "execution_count": 5,
   "metadata": {
    "tags": []
   },
   "outputs": [],
   "source": [
    "sagemaker_session = sage.Session()\n",
    "s3_bucket = sagemaker_session.default_bucket()\n",
    "region = sagemaker_session.boto_region_name\n",
    "account_id = boto3.client(\"sts\").get_caller_identity().get(\"Account\")\n",
    "role = get_execution_role()\n",
    "\n",
    "sagemaker = boto3.client(\"sagemaker\")\n",
    "s3_client = sagemaker_session.boto_session.client(\"s3\")\n",
    "ecr = boto3.client(\"ecr\")\n",
    "sm_runtime = boto3.client(\"sagemaker-runtime\")\n",
    "\n",
    "# Set display options\n",
    "pd.set_option('display.max_rows', None)\n",
    "pd.set_option('display.max_columns', None)\n",
    "pd.set_option('display.max_colwidth', None)"
   ]
  },
  {
   "cell_type": "code",
   "execution_count": 6,
   "metadata": {
    "tags": []
   },
   "outputs": [],
   "source": [
    "model_name = \"snomed-vdb-resolver\"\n",
    "\n",
    "real_time_inference_instance_type = \"ml.m4.xlarge\"\n",
    "batch_transform_inference_instance_type = \"ml.m4.2xlarge\""
   ]
  },
  {
   "cell_type": "markdown",
   "metadata": {},
   "source": [
    "## 2. Create a deployable model from the model package."
   ]
  },
  {
   "cell_type": "code",
   "execution_count": 7,
   "metadata": {
    "tags": []
   },
   "outputs": [],
   "source": [
    "model = ModelPackage(\n",
    "    role=role, \n",
    "    model_package_arn=model_package_arn,\n",
    "    sagemaker_session=sagemaker_session,\n",
    ")"
   ]
  },
  {
   "cell_type": "markdown",
   "metadata": {},
   "source": [
    "### Input Format\n",
    "\n",
    "To use the model, you need to provide input in one of the following supported formats:\n",
    "\n",
    "#### JSON Format\n",
    "\n",
    "Provide input as JSON. We support two variations within this format:\n",
    "\n",
    "1. **Array of Text Documents**: \n",
    "   Use an array containing multiple text documents. Each element represents a separate text document.\n",
    "\n",
    "   ```json\n",
    "   {\n",
    "       \"text\": [\n",
    "           \"Text document 1\",\n",
    "           \"Text document 2\",\n",
    "           ...\n",
    "       ]\n",
    "   }\n",
    "\n",
    "    ```\n",
    "\n",
    "2. **Single Text Document**:\n",
    "   Provide a single text document as a string.\n",
    "\n",
    "\n",
    "   ```json\n",
    "    {\n",
    "        \"text\": \"Single text document\"\n",
    "    }\n",
    "   ```\n",
    "\n",
    "#### JSON Lines (JSONL) Format\n",
    "\n",
    "Provide input in JSON Lines format, where each line is a JSON object representing a text document.\n",
    "\n",
    "```\n",
    "{\"text\": \"Text document 1\"}\n",
    "{\"text\": \"Text document 2\"}\n",
    "```"
   ]
  },
  {
   "cell_type": "markdown",
   "metadata": {},
   "source": [
    "## 3. Create an endpoint and perform real-time inference"
   ]
  },
  {
   "cell_type": "markdown",
   "metadata": {},
   "source": [
    "If you want to understand how real-time inference with Amazon SageMaker works, see [Documentation](https://docs.aws.amazon.com/sagemaker/latest/dg/how-it-works-hosting.html)."
   ]
  },
  {
   "cell_type": "markdown",
   "metadata": {},
   "source": [
    "### A. Deploy the SageMaker model to an endpoint"
   ]
  },
  {
   "cell_type": "code",
   "execution_count": 8,
   "metadata": {
    "tags": []
   },
   "outputs": [
    {
     "name": "stdout",
     "output_type": "stream",
     "text": [
      "-------------!"
     ]
    }
   ],
   "source": [
    "predictor = model.deploy(\n",
    "    initial_instance_count=1,\n",
    "    instance_type=real_time_inference_instance_type, \n",
    "    endpoint_name=model_name,\n",
    ")"
   ]
  },
  {
   "cell_type": "markdown",
   "metadata": {},
   "source": [
    "Once endpoint has been created, you would be able to perform real-time inference."
   ]
  },
  {
   "cell_type": "code",
   "execution_count": 9,
   "metadata": {
    "tags": []
   },
   "outputs": [],
   "source": [
    "def invoke_realtime_endpoint(record, content_type=\"application/json\", accept=\"application/json\"):\n",
    "    response = sm_runtime.invoke_endpoint(\n",
    "        EndpointName=model_name,\n",
    "        ContentType=content_type,\n",
    "        Accept=accept,\n",
    "        Body=json.dumps(record) if content_type == \"application/json\" else record,\n",
    "    )\n",
    "\n",
    "    response_body = response[\"Body\"].read().decode(\"utf-8\")\n",
    "\n",
    "    if accept == \"application/json\":\n",
    "        return json.loads(response_body)\n",
    "    elif accept == \"application/jsonlines\":\n",
    "        return response_body\n",
    "    else:\n",
    "        raise ValueError(f\"Unsupported accept type: {accept}\")"
   ]
  },
  {
   "cell_type": "markdown",
   "metadata": {},
   "source": [
    "### Initial Setup"
   ]
  },
  {
   "cell_type": "code",
   "execution_count": 10,
   "metadata": {
    "tags": []
   },
   "outputs": [],
   "source": [
    "docs = [\n",
    "    \"\"\"The patient is a 40-year-old white male who presents with a chief complaint of \"chest pain\". The patient is diabetic and has a prior history of coronary artery disease. The patient presents today stating that his chest pain started yesterday evening and has been somewhat intermittent. He has been advised 81 milligrams QDay, 50 units in a.m., 50 mg QDay, 1/150 sublingually PRN chest pain.\"\"\",\n",
    "    \n",
    "    \"\"\"Two weeks prior to presentation, she was treated with a five-day course of for a respiratory tract infection. She was on , , and for T2DM and and for HTG. She had been on for six months at the time of presentation. The patient was seen by the endocrinology service and she was discharged on 40 units of at night, 12 units of with meals, and 1000 mg two times a day.\"\"\"\n",
    "]\n",
    "\n",
    "sample_text = \"\"\"This is an 82-year-old male with a history of prior tobacco use, hypertension, chronic renal insufficiency, chronic obstructive pulmonary disease, gastritis, and transient ischemic attack. He initially presented to Braintree with ST elevation and was transferred to St. Margaret’s Center. He underwent cardiac catheterization because of the left main coronary artery stenosis, which was complicated by hypotension and bradycardia. He required atropine, IV fluids, and dopamine.\"\"\""
   ]
  },
  {
   "cell_type": "markdown",
   "metadata": {},
   "source": [
    "### JSON"
   ]
  },
  {
   "cell_type": "code",
   "execution_count": 11,
   "metadata": {
    "tags": []
   },
   "outputs": [
    {
     "data": {
      "text/html": [
       "<div>\n",
       "<style scoped>\n",
       "    .dataframe tbody tr th:only-of-type {\n",
       "        vertical-align: middle;\n",
       "    }\n",
       "\n",
       "    .dataframe tbody tr th {\n",
       "        vertical-align: top;\n",
       "    }\n",
       "\n",
       "    .dataframe thead th {\n",
       "        text-align: right;\n",
       "    }\n",
       "</style>\n",
       "<table border=\"1\" class=\"dataframe\">\n",
       "  <thead>\n",
       "    <tr style=\"text-align: right;\">\n",
       "      <th></th>\n",
       "      <th>begin</th>\n",
       "      <th>end</th>\n",
       "      <th>ner_chunk</th>\n",
       "      <th>ner_label</th>\n",
       "      <th>ner_confidence</th>\n",
       "      <th>concept_code</th>\n",
       "      <th>resolution</th>\n",
       "      <th>score</th>\n",
       "      <th>all_codes</th>\n",
       "      <th>domain_class</th>\n",
       "      <th>all_resolutions</th>\n",
       "      <th>all_score</th>\n",
       "    </tr>\n",
       "  </thead>\n",
       "  <tbody>\n",
       "    <tr>\n",
       "      <th>0</th>\n",
       "      <td>52</td>\n",
       "      <td>58</td>\n",
       "      <td>tobacco</td>\n",
       "      <td>Smoking</td>\n",
       "      <td>0.9935</td>\n",
       "      <td>57264008</td>\n",
       "      <td>tobacco</td>\n",
       "      <td>1.000000</td>\n",
       "      <td>[57264008, 66562002, 102407002, 84498003, 26663004]</td>\n",
       "      <td>[Organism, Substance, Substance, Substance, Substance]</td>\n",
       "      <td>[tobacco, cigarette smoking tobacco, tobacco smoke, pipe smoking tobacco, cigar smoking tobacco]</td>\n",
       "      <td>[1.000000238418579, 0.9128879904747009, 0.9106560945510864, 0.8789343237876892, 0.8733211159706116]</td>\n",
       "    </tr>\n",
       "    <tr>\n",
       "      <th>1</th>\n",
       "      <td>65</td>\n",
       "      <td>76</td>\n",
       "      <td>hypertension</td>\n",
       "      <td>Hypertension</td>\n",
       "      <td>0.9999</td>\n",
       "      <td>38341003</td>\n",
       "      <td>hypertension</td>\n",
       "      <td>1.000000</td>\n",
       "      <td>[38341003, 75367002, 73578008, 28119000, 38341003]</td>\n",
       "      <td>[Clinical Finding, Observable Entity, Morph Abnormality, Clinical Finding, Clinical Finding]</td>\n",
       "      <td>[hypertension, blood pressure, hyperdistension, renal hypertension, high blood pressure]</td>\n",
       "      <td>[0.9999998807907104, 0.9066827297210693, 0.8890687823295593, 0.8857569694519043, 0.8678926825523376]</td>\n",
       "    </tr>\n",
       "    <tr>\n",
       "      <th>2</th>\n",
       "      <td>79</td>\n",
       "      <td>105</td>\n",
       "      <td>chronic renal insufficiency</td>\n",
       "      <td>Kidney_Disease</td>\n",
       "      <td>0.91976666</td>\n",
       "      <td>723190009</td>\n",
       "      <td>chronic renal insufficiency</td>\n",
       "      <td>1.000000</td>\n",
       "      <td>[723190009, 425369003, 42399005, 90688005, 42399005]</td>\n",
       "      <td>[Clinical Finding, Clinical Finding, Clinical Finding, Clinical Finding, Clinical Finding]</td>\n",
       "      <td>[chronic renal insufficiency, chronic progressive renal insufficiency, renal insufficiency, chronic renal failure, renal insufficiency syndrome]</td>\n",
       "      <td>[1.000000238418579, 0.9239168167114258, 0.9123026728630066, 0.8822140693664551, 0.8708065748214722]</td>\n",
       "    </tr>\n",
       "    <tr>\n",
       "      <th>3</th>\n",
       "      <td>108</td>\n",
       "      <td>144</td>\n",
       "      <td>chronic obstructive pulmonary disease</td>\n",
       "      <td>Disease_Syndrome_Disorder</td>\n",
       "      <td>0.5127</td>\n",
       "      <td>13645005</td>\n",
       "      <td>chronic obstructive pulmonary disease</td>\n",
       "      <td>1.000000</td>\n",
       "      <td>[13645005, 13645005, 13645005, 13645005, 13645005]</td>\n",
       "      <td>[Clinical Finding, Clinical Finding, Clinical Finding, Clinical Finding, Clinical Finding]</td>\n",
       "      <td>[chronic obstructive pulmonary disease, chronic obstructive lung disease, copd - chronic obstructive pulmonary disease, chronic obstructive airway disease, copd]</td>\n",
       "      <td>[1.0000001192092896, 0.953446626663208, 0.9277710914611816, 0.8972681760787964, 0.8662362694740295]</td>\n",
       "    </tr>\n",
       "    <tr>\n",
       "      <th>4</th>\n",
       "      <td>147</td>\n",
       "      <td>155</td>\n",
       "      <td>gastritis</td>\n",
       "      <td>Disease_Syndrome_Disorder</td>\n",
       "      <td>0.9959</td>\n",
       "      <td>4556007</td>\n",
       "      <td>gastritis</td>\n",
       "      <td>1.000000</td>\n",
       "      <td>[4556007, 723096000, 25458004, 1824008, 57433008]</td>\n",
       "      <td>[Clinical Finding, Clinical Finding, Clinical Finding, Clinical Finding, Clinical Finding]</td>\n",
       "      <td>[gastritis, bacterial gastritis, acute gastritis, allergic gastritis, reflux gastritis]</td>\n",
       "      <td>[1.000000238418579, 0.904236912727356, 0.8971583247184753, 0.8965718746185303, 0.8924410343170166]</td>\n",
       "    </tr>\n",
       "    <tr>\n",
       "      <th>5</th>\n",
       "      <td>162</td>\n",
       "      <td>186</td>\n",
       "      <td>transient ischemic attack</td>\n",
       "      <td>Cerebrovascular_Disease</td>\n",
       "      <td>0.5781</td>\n",
       "      <td>266257000</td>\n",
       "      <td>transient ischemic attack</td>\n",
       "      <td>1.000000</td>\n",
       "      <td>[266257000, 266257000, 57357009, 266257000, 266257000]</td>\n",
       "      <td>[Clinical Finding, Clinical Finding, Clinical Finding, Clinical Finding, Clinical Finding]</td>\n",
       "      <td>[transient ischemic attack, transient ischaemic attack, transient ischemia, tia - transient ischemic attack, transient cerebral ischemia]</td>\n",
       "      <td>[0.9999999403953552, 0.9563196897506714, 0.952727198600769, 0.9329274296760559, 0.928642988204956]</td>\n",
       "    </tr>\n",
       "    <tr>\n",
       "      <th>6</th>\n",
       "      <td>230</td>\n",
       "      <td>241</td>\n",
       "      <td>ST elevation</td>\n",
       "      <td>snomed_term</td>\n",
       "      <td>0.64225</td>\n",
       "      <td>164931005</td>\n",
       "      <td>st elevation</td>\n",
       "      <td>1.000000</td>\n",
       "      <td>[164931005, 76388001, 255456001, 103720008, 705008001]</td>\n",
       "      <td>[Observable Entity, Clinical Finding, Qualifier Value, Procedure, Clinical Finding]</td>\n",
       "      <td>[st elevation, st segment elevation, elevation, elevation, nos, anterior st segment elevation]</td>\n",
       "      <td>[1.0000004768371582, 0.8871583938598633, 0.8315354585647583, 0.8132315874099731, 0.8127869963645935]</td>\n",
       "    </tr>\n",
       "    <tr>\n",
       "      <th>7</th>\n",
       "      <td>302</td>\n",
       "      <td>324</td>\n",
       "      <td>cardiac catheterization</td>\n",
       "      <td>Procedure</td>\n",
       "      <td>0.7781</td>\n",
       "      <td>41976001</td>\n",
       "      <td>cardiac catheterization</td>\n",
       "      <td>1.000000</td>\n",
       "      <td>[41976001, 41976001, 41976001, 45211000, 41976001]</td>\n",
       "      <td>[Procedure, Procedure, Procedure, Procedure, Procedure]</td>\n",
       "      <td>[cardiac catheterization, cardiac catheterization procedure, cardiac catheterisation, catheterization, cardiac catheterisation procedure]</td>\n",
       "      <td>[1.0000001192092896, 0.9511892199516296, 0.9394111037254333, 0.9253654479980469, 0.9106451272964478]</td>\n",
       "    </tr>\n",
       "    <tr>\n",
       "      <th>8</th>\n",
       "      <td>337</td>\n",
       "      <td>374</td>\n",
       "      <td>the left main coronary artery stenosis</td>\n",
       "      <td>PROBLEM</td>\n",
       "      <td>0.84225005</td>\n",
       "      <td>371804009</td>\n",
       "      <td>left main coronary artery disease</td>\n",
       "      <td>0.916886</td>\n",
       "      <td>[371804009, 876857001, 1255569006, 1255569006, 1255569006]</td>\n",
       "      <td>[Clinical Finding, Clinical Finding, No_Concept_Class, No_Concept_Class, Clinical Finding]</td>\n",
       "      <td>[left main coronary artery disease, stenosis of left coronary artery main stem, ostial left main coronary artery stenosis, stenosis of ostial left main coronary artery, stenosis of ostium of left main coronary artery]</td>\n",
       "      <td>[0.9168858528137207, 0.9104209542274475, 0.8989307284355164, 0.8936089873313904, 0.8833144903182983]</td>\n",
       "    </tr>\n",
       "    <tr>\n",
       "      <th>9</th>\n",
       "      <td>402</td>\n",
       "      <td>412</td>\n",
       "      <td>hypotension</td>\n",
       "      <td>VS_Finding</td>\n",
       "      <td>0.9877</td>\n",
       "      <td>45007003</td>\n",
       "      <td>hypotension</td>\n",
       "      <td>1.000000</td>\n",
       "      <td>[45007003, 45007003, 28651003, 77545000, 45007003]</td>\n",
       "      <td>[Clinical Finding, Clinical Finding, Clinical Finding, Clinical Finding, Clinical Finding]</td>\n",
       "      <td>[hypotension, arterial hypotension, postural hypotension, chronic hypotension, hypotension, nos]</td>\n",
       "      <td>[1.0000001192092896, 0.9052620530128479, 0.8899021744728088, 0.8686476349830627, 0.8572293519973755]</td>\n",
       "    </tr>\n",
       "    <tr>\n",
       "      <th>10</th>\n",
       "      <td>418</td>\n",
       "      <td>428</td>\n",
       "      <td>bradycardia</td>\n",
       "      <td>VS_Finding</td>\n",
       "      <td>0.9955</td>\n",
       "      <td>48867003</td>\n",
       "      <td>bradycardia</td>\n",
       "      <td>1.000000</td>\n",
       "      <td>[48867003, 49710005, 421869004, 29894000, 426627000]</td>\n",
       "      <td>[Clinical Finding, Clinical Finding, Clinical Finding, Clinical Finding, Clinical Finding]</td>\n",
       "      <td>[bradycardia, sinus bradycardia, bradyarrhythmia, vagal bradycardia, ecg: bradycardia]</td>\n",
       "      <td>[1.000000238418579, 0.9310864806175232, 0.9199969172477722, 0.9140902161598206, 0.9087131023406982]</td>\n",
       "    </tr>\n",
       "    <tr>\n",
       "      <th>11</th>\n",
       "      <td>443</td>\n",
       "      <td>450</td>\n",
       "      <td>atropine</td>\n",
       "      <td>Drug_Ingredient</td>\n",
       "      <td>0.9979</td>\n",
       "      <td>73949004</td>\n",
       "      <td>atropine</td>\n",
       "      <td>1.000000</td>\n",
       "      <td>[73949004, 73949004, 349945006, 74237004, 294076004]</td>\n",
       "      <td>[Pharma/Biol Product, Pharma/Biol Product, Clinical Drug Form, Substance, Clinical Finding]</td>\n",
       "      <td>[atropine, atropine product, oral form atropine, atropine sulfate, atropine allergy]</td>\n",
       "      <td>[1.000000238418579, 0.9025111198425293, 0.8434849977493286, 0.8409863114356995, 0.83796626329422]</td>\n",
       "    </tr>\n",
       "    <tr>\n",
       "      <th>12</th>\n",
       "      <td>453</td>\n",
       "      <td>461</td>\n",
       "      <td>IV fluids</td>\n",
       "      <td>TREATMENT</td>\n",
       "      <td>0.98885</td>\n",
       "      <td>118431008</td>\n",
       "      <td>iv fluid</td>\n",
       "      <td>0.979719</td>\n",
       "      <td>[118431008, 118431008, 281800008, 118431008, 262278000]</td>\n",
       "      <td>[Substance, Substance, Procedure, Substance, Qualifier Value]</td>\n",
       "      <td>[iv fluid, intravenous fluid, iv - intravenous fluid replacement, fluid for intravenous administration, iv fluid warming]</td>\n",
       "      <td>[0.9797192811965942, 0.9000782370567322, 0.8945227265357971, 0.8855814933776855, 0.8775972723960876]</td>\n",
       "    </tr>\n",
       "    <tr>\n",
       "      <th>13</th>\n",
       "      <td>468</td>\n",
       "      <td>475</td>\n",
       "      <td>dopamine</td>\n",
       "      <td>Drug_Ingredient</td>\n",
       "      <td>0.9924</td>\n",
       "      <td>59187003</td>\n",
       "      <td>dopamine</td>\n",
       "      <td>1.000000</td>\n",
       "      <td>[59187003, 59187003, 412383006, 32779004, 37484001]</td>\n",
       "      <td>[Pharma/Biol Product, Pharma/Biol Product, Substance, Procedure, Substance]</td>\n",
       "      <td>[dopamine, dopamine product, dopamine agent, dopamine measurement, dopamine receptor]</td>\n",
       "      <td>[0.9999996423721313, 0.871300220489502, 0.8619929552078247, 0.8551105260848999, 0.8442040681838989]</td>\n",
       "    </tr>\n",
       "  </tbody>\n",
       "</table>\n",
       "</div>"
      ],
      "text/plain": [
       "    begin  end                               ner_chunk  \\\n",
       "0      52   58                                 tobacco   \n",
       "1      65   76                            hypertension   \n",
       "2      79  105             chronic renal insufficiency   \n",
       "3     108  144   chronic obstructive pulmonary disease   \n",
       "4     147  155                               gastritis   \n",
       "5     162  186               transient ischemic attack   \n",
       "6     230  241                            ST elevation   \n",
       "7     302  324                 cardiac catheterization   \n",
       "8     337  374  the left main coronary artery stenosis   \n",
       "9     402  412                             hypotension   \n",
       "10    418  428                             bradycardia   \n",
       "11    443  450                                atropine   \n",
       "12    453  461                               IV fluids   \n",
       "13    468  475                                dopamine   \n",
       "\n",
       "                    ner_label ner_confidence concept_code  \\\n",
       "0                     Smoking         0.9935     57264008   \n",
       "1                Hypertension         0.9999     38341003   \n",
       "2              Kidney_Disease     0.91976666    723190009   \n",
       "3   Disease_Syndrome_Disorder         0.5127     13645005   \n",
       "4   Disease_Syndrome_Disorder         0.9959      4556007   \n",
       "5     Cerebrovascular_Disease         0.5781    266257000   \n",
       "6                 snomed_term        0.64225    164931005   \n",
       "7                   Procedure         0.7781     41976001   \n",
       "8                     PROBLEM     0.84225005    371804009   \n",
       "9                  VS_Finding         0.9877     45007003   \n",
       "10                 VS_Finding         0.9955     48867003   \n",
       "11            Drug_Ingredient         0.9979     73949004   \n",
       "12                  TREATMENT        0.98885    118431008   \n",
       "13            Drug_Ingredient         0.9924     59187003   \n",
       "\n",
       "                               resolution     score  \\\n",
       "0                                 tobacco  1.000000   \n",
       "1                            hypertension  1.000000   \n",
       "2             chronic renal insufficiency  1.000000   \n",
       "3   chronic obstructive pulmonary disease  1.000000   \n",
       "4                               gastritis  1.000000   \n",
       "5               transient ischemic attack  1.000000   \n",
       "6                            st elevation  1.000000   \n",
       "7                 cardiac catheterization  1.000000   \n",
       "8       left main coronary artery disease  0.916886   \n",
       "9                             hypotension  1.000000   \n",
       "10                            bradycardia  1.000000   \n",
       "11                               atropine  1.000000   \n",
       "12                               iv fluid  0.979719   \n",
       "13                               dopamine  1.000000   \n",
       "\n",
       "                                                     all_codes  \\\n",
       "0          [57264008, 66562002, 102407002, 84498003, 26663004]   \n",
       "1           [38341003, 75367002, 73578008, 28119000, 38341003]   \n",
       "2         [723190009, 425369003, 42399005, 90688005, 42399005]   \n",
       "3           [13645005, 13645005, 13645005, 13645005, 13645005]   \n",
       "4            [4556007, 723096000, 25458004, 1824008, 57433008]   \n",
       "5       [266257000, 266257000, 57357009, 266257000, 266257000]   \n",
       "6       [164931005, 76388001, 255456001, 103720008, 705008001]   \n",
       "7           [41976001, 41976001, 41976001, 45211000, 41976001]   \n",
       "8   [371804009, 876857001, 1255569006, 1255569006, 1255569006]   \n",
       "9           [45007003, 45007003, 28651003, 77545000, 45007003]   \n",
       "10        [48867003, 49710005, 421869004, 29894000, 426627000]   \n",
       "11        [73949004, 73949004, 349945006, 74237004, 294076004]   \n",
       "12     [118431008, 118431008, 281800008, 118431008, 262278000]   \n",
       "13         [59187003, 59187003, 412383006, 32779004, 37484001]   \n",
       "\n",
       "                                                                                    domain_class  \\\n",
       "0                                         [Organism, Substance, Substance, Substance, Substance]   \n",
       "1   [Clinical Finding, Observable Entity, Morph Abnormality, Clinical Finding, Clinical Finding]   \n",
       "2     [Clinical Finding, Clinical Finding, Clinical Finding, Clinical Finding, Clinical Finding]   \n",
       "3     [Clinical Finding, Clinical Finding, Clinical Finding, Clinical Finding, Clinical Finding]   \n",
       "4     [Clinical Finding, Clinical Finding, Clinical Finding, Clinical Finding, Clinical Finding]   \n",
       "5     [Clinical Finding, Clinical Finding, Clinical Finding, Clinical Finding, Clinical Finding]   \n",
       "6            [Observable Entity, Clinical Finding, Qualifier Value, Procedure, Clinical Finding]   \n",
       "7                                        [Procedure, Procedure, Procedure, Procedure, Procedure]   \n",
       "8     [Clinical Finding, Clinical Finding, No_Concept_Class, No_Concept_Class, Clinical Finding]   \n",
       "9     [Clinical Finding, Clinical Finding, Clinical Finding, Clinical Finding, Clinical Finding]   \n",
       "10    [Clinical Finding, Clinical Finding, Clinical Finding, Clinical Finding, Clinical Finding]   \n",
       "11   [Pharma/Biol Product, Pharma/Biol Product, Clinical Drug Form, Substance, Clinical Finding]   \n",
       "12                                 [Substance, Substance, Procedure, Substance, Qualifier Value]   \n",
       "13                   [Pharma/Biol Product, Pharma/Biol Product, Substance, Procedure, Substance]   \n",
       "\n",
       "                                                                                                                                                                                                              all_resolutions  \\\n",
       "0                                                                                                                            [tobacco, cigarette smoking tobacco, tobacco smoke, pipe smoking tobacco, cigar smoking tobacco]   \n",
       "1                                                                                                                                    [hypertension, blood pressure, hyperdistension, renal hypertension, high blood pressure]   \n",
       "2                                                                            [chronic renal insufficiency, chronic progressive renal insufficiency, renal insufficiency, chronic renal failure, renal insufficiency syndrome]   \n",
       "3                                                           [chronic obstructive pulmonary disease, chronic obstructive lung disease, copd - chronic obstructive pulmonary disease, chronic obstructive airway disease, copd]   \n",
       "4                                                                                                                                     [gastritis, bacterial gastritis, acute gastritis, allergic gastritis, reflux gastritis]   \n",
       "5                                                                                   [transient ischemic attack, transient ischaemic attack, transient ischemia, tia - transient ischemic attack, transient cerebral ischemia]   \n",
       "6                                                                                                                              [st elevation, st segment elevation, elevation, elevation, nos, anterior st segment elevation]   \n",
       "7                                                                                   [cardiac catheterization, cardiac catheterization procedure, cardiac catheterisation, catheterization, cardiac catheterisation procedure]   \n",
       "8   [left main coronary artery disease, stenosis of left coronary artery main stem, ostial left main coronary artery stenosis, stenosis of ostial left main coronary artery, stenosis of ostium of left main coronary artery]   \n",
       "9                                                                                                                            [hypotension, arterial hypotension, postural hypotension, chronic hypotension, hypotension, nos]   \n",
       "10                                                                                                                                     [bradycardia, sinus bradycardia, bradyarrhythmia, vagal bradycardia, ecg: bradycardia]   \n",
       "11                                                                                                                                       [atropine, atropine product, oral form atropine, atropine sulfate, atropine allergy]   \n",
       "12                                                                                                  [iv fluid, intravenous fluid, iv - intravenous fluid replacement, fluid for intravenous administration, iv fluid warming]   \n",
       "13                                                                                                                                      [dopamine, dopamine product, dopamine agent, dopamine measurement, dopamine receptor]   \n",
       "\n",
       "                                                                                               all_score  \n",
       "0    [1.000000238418579, 0.9128879904747009, 0.9106560945510864, 0.8789343237876892, 0.8733211159706116]  \n",
       "1   [0.9999998807907104, 0.9066827297210693, 0.8890687823295593, 0.8857569694519043, 0.8678926825523376]  \n",
       "2    [1.000000238418579, 0.9239168167114258, 0.9123026728630066, 0.8822140693664551, 0.8708065748214722]  \n",
       "3    [1.0000001192092896, 0.953446626663208, 0.9277710914611816, 0.8972681760787964, 0.8662362694740295]  \n",
       "4     [1.000000238418579, 0.904236912727356, 0.8971583247184753, 0.8965718746185303, 0.8924410343170166]  \n",
       "5     [0.9999999403953552, 0.9563196897506714, 0.952727198600769, 0.9329274296760559, 0.928642988204956]  \n",
       "6   [1.0000004768371582, 0.8871583938598633, 0.8315354585647583, 0.8132315874099731, 0.8127869963645935]  \n",
       "7   [1.0000001192092896, 0.9511892199516296, 0.9394111037254333, 0.9253654479980469, 0.9106451272964478]  \n",
       "8   [0.9168858528137207, 0.9104209542274475, 0.8989307284355164, 0.8936089873313904, 0.8833144903182983]  \n",
       "9   [1.0000001192092896, 0.9052620530128479, 0.8899021744728088, 0.8686476349830627, 0.8572293519973755]  \n",
       "10   [1.000000238418579, 0.9310864806175232, 0.9199969172477722, 0.9140902161598206, 0.9087131023406982]  \n",
       "11     [1.000000238418579, 0.9025111198425293, 0.8434849977493286, 0.8409863114356995, 0.83796626329422]  \n",
       "12  [0.9797192811965942, 0.9000782370567322, 0.8945227265357971, 0.8855814933776855, 0.8775972723960876]  \n",
       "13   [0.9999996423721313, 0.871300220489502, 0.8619929552078247, 0.8551105260848999, 0.8442040681838989]  "
      ]
     },
     "execution_count": 11,
     "metadata": {},
     "output_type": "execute_result"
    }
   ],
   "source": [
    "input_json_data = {\"text\": sample_text}\n",
    "response_json = invoke_realtime_endpoint(input_json_data, content_type=\"application/json\", accept=\"application/json\")\n",
    "pd.DataFrame(response_json[\"predictions\"][0])"
   ]
  },
  {
   "cell_type": "markdown",
   "metadata": {},
   "source": [
    "### JSON Lines"
   ]
  },
  {
   "cell_type": "code",
   "execution_count": 13,
   "metadata": {
    "tags": []
   },
   "outputs": [],
   "source": [
    "def create_jsonl(records):\n",
    "    if isinstance(records, str):\n",
    "        records = [records]\n",
    "    json_records = [{\"text\": text} for text in records]\n",
    "    json_lines = \"\\n\".join(json.dumps(record) for record in json_records)\n",
    "    return json_lines"
   ]
  },
  {
   "cell_type": "code",
   "execution_count": 14,
   "metadata": {
    "tags": []
   },
   "outputs": [
    {
     "name": "stdout",
     "output_type": "stream",
     "text": [
      "{\"predictions\": [{\"begin\": 52, \"end\": 58, \"ner_chunk\": \"tobacco\", \"ner_label\": \"Smoking\", \"ner_confidence\": \"0.9935\", \"concept_code\": \"57264008\", \"resolution\": \"tobacco\", \"score\": 1.000000238418579, \"all_codes\": [\"57264008\", \"66562002\", \"102407002\", \"84498003\", \"26663004\"], \"domain_class\": [\"Organism\", \"Substance\", \"Substance\", \"Substance\", \"Substance\"], \"all_resolutions\": [\"tobacco\", \"cigarette smoking tobacco\", \"tobacco smoke\", \"pipe smoking tobacco\", \"cigar smoking tobacco\"], \"all_score\": [1.000000238418579, 0.9128879904747009, 0.9106560945510864, 0.8789343237876892, 0.8733211159706116]}, {\"begin\": 65, \"end\": 76, \"ner_chunk\": \"hypertension\", \"ner_label\": \"Hypertension\", \"ner_confidence\": \"0.9999\", \"concept_code\": \"38341003\", \"resolution\": \"hypertension\", \"score\": 0.9999998807907104, \"all_codes\": [\"38341003\", \"75367002\", \"73578008\", \"28119000\", \"38341003\"], \"domain_class\": [\"Clinical Finding\", \"Observable Entity\", \"Morph Abnormality\", \"Clinical Finding\", \"Clinical Finding\"], \"all_resolutions\": [\"hypertension\", \"blood pressure\", \"hyperdistension\", \"renal hypertension\", \"high blood pressure\"], \"all_score\": [0.9999998807907104, 0.9066827297210693, 0.8890687823295593, 0.8857569694519043, 0.8678926825523376]}, {\"begin\": 79, \"end\": 105, \"ner_chunk\": \"chronic renal insufficiency\", \"ner_label\": \"Kidney_Disease\", \"ner_confidence\": \"0.91976666\", \"concept_code\": \"723190009\", \"resolution\": \"chronic renal insufficiency\", \"score\": 1.000000238418579, \"all_codes\": [\"723190009\", \"425369003\", \"42399005\", \"90688005\", \"42399005\"], \"domain_class\": [\"Clinical Finding\", \"Clinical Finding\", \"Clinical Finding\", \"Clinical Finding\", \"Clinical Finding\"], \"all_resolutions\": [\"chronic renal insufficiency\", \"chronic progressive renal insufficiency\", \"renal insufficiency\", \"chronic renal failure\", \"renal insufficiency syndrome\"], \"all_score\": [1.000000238418579, 0.9239168167114258, 0.9123026728630066, 0.8822140693664551, 0.8708065748214722]}, {\"begin\": 108, \"end\": 144, \"ner_chunk\": \"chronic obstructive pulmonary disease\", \"ner_label\": \"Disease_Syndrome_Disorder\", \"ner_confidence\": \"0.5127\", \"concept_code\": \"13645005\", \"resolution\": \"chronic obstructive pulmonary disease\", \"score\": 1.0000001192092896, \"all_codes\": [\"13645005\", \"13645005\", \"13645005\", \"13645005\", \"13645005\"], \"domain_class\": [\"Clinical Finding\", \"Clinical Finding\", \"Clinical Finding\", \"Clinical Finding\", \"Clinical Finding\"], \"all_resolutions\": [\"chronic obstructive pulmonary disease\", \"chronic obstructive lung disease\", \"copd - chronic obstructive pulmonary disease\", \"chronic obstructive airway disease\", \"copd\"], \"all_score\": [1.0000001192092896, 0.953446626663208, 0.9277710914611816, 0.8972681760787964, 0.8662362694740295]}, {\"begin\": 147, \"end\": 155, \"ner_chunk\": \"gastritis\", \"ner_label\": \"Disease_Syndrome_Disorder\", \"ner_confidence\": \"0.9959\", \"concept_code\": \"4556007\", \"resolution\": \"gastritis\", \"score\": 1.000000238418579, \"all_codes\": [\"4556007\", \"723096000\", \"25458004\", \"1824008\", \"57433008\"], \"domain_class\": [\"Clinical Finding\", \"Clinical Finding\", \"Clinical Finding\", \"Clinical Finding\", \"Clinical Finding\"], \"all_resolutions\": [\"gastritis\", \"bacterial gastritis\", \"acute gastritis\", \"allergic gastritis\", \"reflux gastritis\"], \"all_score\": [1.000000238418579, 0.904236912727356, 0.8971583247184753, 0.8965718746185303, 0.8924410343170166]}, {\"begin\": 162, \"end\": 186, \"ner_chunk\": \"transient ischemic attack\", \"ner_label\": \"Cerebrovascular_Disease\", \"ner_confidence\": \"0.5781\", \"concept_code\": \"266257000\", \"resolution\": \"transient ischemic attack\", \"score\": 0.9999999403953552, \"all_codes\": [\"266257000\", \"266257000\", \"57357009\", \"266257000\", \"266257000\"], \"domain_class\": [\"Clinical Finding\", \"Clinical Finding\", \"Clinical Finding\", \"Clinical Finding\", \"Clinical Finding\"], \"all_resolutions\": [\"transient ischemic attack\", \"transient ischaemic attack\", \"transient ischemia\", \"tia - transient ischemic attack\", \"transient cerebral ischemia\"], \"all_score\": [0.9999999403953552, 0.9563196897506714, 0.952727198600769, 0.9329274296760559, 0.928642988204956]}, {\"begin\": 230, \"end\": 241, \"ner_chunk\": \"ST elevation\", \"ner_label\": \"snomed_term\", \"ner_confidence\": \"0.64225\", \"concept_code\": \"164931005\", \"resolution\": \"st elevation\", \"score\": 1.0000004768371582, \"all_codes\": [\"164931005\", \"76388001\", \"255456001\", \"103720008\", \"705008001\"], \"domain_class\": [\"Observable Entity\", \"Clinical Finding\", \"Qualifier Value\", \"Procedure\", \"Clinical Finding\"], \"all_resolutions\": [\"st elevation\", \"st segment elevation\", \"elevation\", \"elevation, nos\", \"anterior st segment elevation\"], \"all_score\": [1.0000004768371582, 0.8871583938598633, 0.8315354585647583, 0.8132315874099731, 0.8127869963645935]}, {\"begin\": 302, \"end\": 324, \"ner_chunk\": \"cardiac catheterization\", \"ner_label\": \"Procedure\", \"ner_confidence\": \"0.7781\", \"concept_code\": \"41976001\", \"resolution\": \"cardiac catheterization\", \"score\": 1.0000001192092896, \"all_codes\": [\"41976001\", \"41976001\", \"41976001\", \"45211000\", \"41976001\"], \"domain_class\": [\"Procedure\", \"Procedure\", \"Procedure\", \"Procedure\", \"Procedure\"], \"all_resolutions\": [\"cardiac catheterization\", \"cardiac catheterization procedure\", \"cardiac catheterisation\", \"catheterization\", \"cardiac catheterisation procedure\"], \"all_score\": [1.0000001192092896, 0.9511892199516296, 0.9394111037254333, 0.9253654479980469, 0.9106451272964478]}, {\"begin\": 337, \"end\": 374, \"ner_chunk\": \"the left main coronary artery stenosis\", \"ner_label\": \"PROBLEM\", \"ner_confidence\": \"0.84225005\", \"concept_code\": \"371804009\", \"resolution\": \"left main coronary artery disease\", \"score\": 0.9168858528137207, \"all_codes\": [\"371804009\", \"876857001\", \"1255569006\", \"1255569006\", \"1255569006\"], \"domain_class\": [\"Clinical Finding\", \"Clinical Finding\", \"No_Concept_Class\", \"No_Concept_Class\", \"Clinical Finding\"], \"all_resolutions\": [\"left main coronary artery disease\", \"stenosis of left coronary artery main stem\", \"ostial left main coronary artery stenosis\", \"stenosis of ostial left main coronary artery\", \"stenosis of ostium of left main coronary artery\"], \"all_score\": [0.9168858528137207, 0.9104209542274475, 0.8989307284355164, 0.8936089873313904, 0.8833144903182983]}, {\"begin\": 402, \"end\": 412, \"ner_chunk\": \"hypotension\", \"ner_label\": \"VS_Finding\", \"ner_confidence\": \"0.9877\", \"concept_code\": \"45007003\", \"resolution\": \"hypotension\", \"score\": 1.0000001192092896, \"all_codes\": [\"45007003\", \"45007003\", \"28651003\", \"77545000\", \"45007003\"], \"domain_class\": [\"Clinical Finding\", \"Clinical Finding\", \"Clinical Finding\", \"Clinical Finding\", \"Clinical Finding\"], \"all_resolutions\": [\"hypotension\", \"arterial hypotension\", \"postural hypotension\", \"chronic hypotension\", \"hypotension, nos\"], \"all_score\": [1.0000001192092896, 0.9052620530128479, 0.8899021744728088, 0.8686476349830627, 0.8572293519973755]}, {\"begin\": 418, \"end\": 428, \"ner_chunk\": \"bradycardia\", \"ner_label\": \"VS_Finding\", \"ner_confidence\": \"0.9955\", \"concept_code\": \"48867003\", \"resolution\": \"bradycardia\", \"score\": 1.000000238418579, \"all_codes\": [\"48867003\", \"49710005\", \"421869004\", \"29894000\", \"426627000\"], \"domain_class\": [\"Clinical Finding\", \"Clinical Finding\", \"Clinical Finding\", \"Clinical Finding\", \"Clinical Finding\"], \"all_resolutions\": [\"bradycardia\", \"sinus bradycardia\", \"bradyarrhythmia\", \"vagal bradycardia\", \"ecg: bradycardia\"], \"all_score\": [1.000000238418579, 0.9310864806175232, 0.9199969172477722, 0.9140902161598206, 0.9087131023406982]}, {\"begin\": 443, \"end\": 450, \"ner_chunk\": \"atropine\", \"ner_label\": \"Drug_Ingredient\", \"ner_confidence\": \"0.9979\", \"concept_code\": \"73949004\", \"resolution\": \"atropine\", \"score\": 1.000000238418579, \"all_codes\": [\"73949004\", \"73949004\", \"349945006\", \"74237004\", \"294076004\"], \"domain_class\": [\"Pharma/Biol Product\", \"Pharma/Biol Product\", \"Clinical Drug Form\", \"Substance\", \"Clinical Finding\"], \"all_resolutions\": [\"atropine\", \"atropine product\", \"oral form atropine\", \"atropine sulfate\", \"atropine allergy\"], \"all_score\": [1.000000238418579, 0.9025111198425293, 0.8434849977493286, 0.8409863114356995, 0.83796626329422]}, {\"begin\": 453, \"end\": 461, \"ner_chunk\": \"IV fluids\", \"ner_label\": \"TREATMENT\", \"ner_confidence\": \"0.98885\", \"concept_code\": \"118431008\", \"resolution\": \"iv fluid\", \"score\": 0.9797192811965942, \"all_codes\": [\"118431008\", \"118431008\", \"281800008\", \"118431008\", \"262278000\"], \"domain_class\": [\"Substance\", \"Substance\", \"Procedure\", \"Substance\", \"Qualifier Value\"], \"all_resolutions\": [\"iv fluid\", \"intravenous fluid\", \"iv - intravenous fluid replacement\", \"fluid for intravenous administration\", \"iv fluid warming\"], \"all_score\": [0.9797192811965942, 0.9000782370567322, 0.8945227265357971, 0.8855814933776855, 0.8775972723960876]}, {\"begin\": 468, \"end\": 475, \"ner_chunk\": \"dopamine\", \"ner_label\": \"Drug_Ingredient\", \"ner_confidence\": \"0.9924\", \"concept_code\": \"59187003\", \"resolution\": \"dopamine\", \"score\": 0.9999996423721313, \"all_codes\": [\"59187003\", \"59187003\", \"412383006\", \"32779004\", \"37484001\"], \"domain_class\": [\"Pharma/Biol Product\", \"Pharma/Biol Product\", \"Substance\", \"Procedure\", \"Substance\"], \"all_resolutions\": [\"dopamine\", \"dopamine product\", \"dopamine agent\", \"dopamine measurement\", \"dopamine receptor\"], \"all_score\": [0.9999996423721313, 0.871300220489502, 0.8619929552078247, 0.8551105260848999, 0.8442040681838989]}]}\n"
     ]
    }
   ],
   "source": [
    "input_jsonl_data = create_jsonl(sample_text)\n",
    "data = invoke_realtime_endpoint(input_jsonl_data, content_type=\"application/jsonlines\" , accept=\"application/jsonlines\" )\n",
    "print(data)"
   ]
  },
  {
   "cell_type": "markdown",
   "metadata": {},
   "source": [
    "### B. Delete the endpoint"
   ]
  },
  {
   "cell_type": "markdown",
   "metadata": {},
   "source": [
    "Now that you have successfully performed a real-time inference, you do not need the endpoint any more. You can terminate the endpoint to avoid being charged."
   ]
  },
  {
   "cell_type": "code",
   "execution_count": 16,
   "metadata": {
    "tags": []
   },
   "outputs": [],
   "source": [
    "model.sagemaker_session.delete_endpoint(model_name)\n",
    "model.sagemaker_session.delete_endpoint_config(model_name)"
   ]
  },
  {
   "cell_type": "markdown",
   "metadata": {
    "tags": []
   },
   "source": [
    "## 4. Batch inference"
   ]
  },
  {
   "cell_type": "code",
   "execution_count": 17,
   "metadata": {
    "tags": []
   },
   "outputs": [],
   "source": [
    "validation_json_file_name = \"input.json\"\n",
    "validation_jsonl_file_name = \"input.jsonl\"\n",
    "\n",
    "validation_input_json_path = f\"s3://{s3_bucket}/{model_name}/validation-input/json/\"\n",
    "validation_output_json_path = f\"s3://{s3_bucket}/{model_name}/validation-output/json/\"\n",
    "\n",
    "validation_input_jsonl_path = f\"s3://{s3_bucket}/{model_name}/validation-input/jsonl/\"\n",
    "validation_output_jsonl_path = f\"s3://{s3_bucket}/{model_name}/validation-output/jsonl/\"\n",
    "\n",
    "def upload_to_s3(input_data, file_name):\n",
    "    file_format = os.path.splitext(file_name)[1].lower()\n",
    "    s3_client.put_object(\n",
    "        Bucket=s3_bucket,\n",
    "        Key=f\"{model_name}/validation-input/{file_format[1:]}/{file_name}\",\n",
    "        Body=input_data.encode(\"UTF-8\"),\n",
    "    )"
   ]
  },
  {
   "cell_type": "code",
   "execution_count": 18,
   "metadata": {
    "tags": []
   },
   "outputs": [],
   "source": [
    "# Create JSON and JSON Lines data\n",
    "input_jsonl_data = create_jsonl(docs)\n",
    "input_json_data = json.dumps({\"text\": docs})\n",
    "\n",
    "# Upload JSON and JSON Lines data to S3\n",
    "upload_to_s3(input_json_data, validation_json_file_name)\n",
    "upload_to_s3(input_jsonl_data, validation_jsonl_file_name)"
   ]
  },
  {
   "cell_type": "markdown",
   "metadata": {
    "tags": []
   },
   "source": [
    "### JSON"
   ]
  },
  {
   "cell_type": "code",
   "execution_count": null,
   "metadata": {
    "tags": []
   },
   "outputs": [],
   "source": [
    "transformer = model.transformer(\n",
    "    instance_count=1,\n",
    "    instance_type=batch_transform_inference_instance_type,\n",
    "    accept=\"application/json\",\n",
    "    output_path=validation_output_json_path\n",
    ")\n",
    "\n",
    "transformer.transform(validation_input_json_path, content_type=\"application/json\")\n",
    "transformer.wait()"
   ]
  },
  {
   "cell_type": "code",
   "execution_count": null,
   "metadata": {
    "tags": []
   },
   "outputs": [],
   "source": [
    "def retrieve_json_output_from_s3(validation_file_name):\n",
    "    parsed_url = urlparse(transformer.output_path)\n",
    "    file_key = f\"{parsed_url.path[1:]}{validation_file_name}.out\"\n",
    "    response = s3_client.get_object(Bucket=s3_bucket, Key=file_key)\n",
    "\n",
    "    data = json.loads(response[\"Body\"].read().decode(\"utf-8\"))\n",
    "    display(data)"
   ]
  },
  {
   "cell_type": "code",
   "execution_count": 22,
   "metadata": {
    "tags": []
   },
   "outputs": [
    {
     "data": {
      "text/plain": [
       "{'predictions': [[{'begin': 80,\n",
       "    'end': 89,\n",
       "    'ner_chunk': 'chest pain',\n",
       "    'ner_label': 'Symptom',\n",
       "    'ner_confidence': '0.7448',\n",
       "    'concept_code': '29857009',\n",
       "    'resolution': 'chest pain',\n",
       "    'score': 1.0,\n",
       "    'all_codes': ['29857009',\n",
       "     '426396005',\n",
       "     '274664007',\n",
       "     '279084009',\n",
       "     '2237002'],\n",
       "    'domain_class': ['Clinical Finding',\n",
       "     'Clinical Finding',\n",
       "     'Clinical Finding',\n",
       "     'Clinical Finding',\n",
       "     'Clinical Finding'],\n",
       "    'all_resolutions': ['chest pain',\n",
       "     'cardiac chest pain',\n",
       "     'chest pain on breathing',\n",
       "     'chest discomfort',\n",
       "     'pleuritic chest pain'],\n",
       "    'all_score': [1.0,\n",
       "     0.9261186122894287,\n",
       "     0.8930981159210205,\n",
       "     0.889647364616394,\n",
       "     0.8866108655929565]},\n",
       "   {'begin': 108,\n",
       "    'end': 115,\n",
       "    'ner_chunk': 'diabetic',\n",
       "    'ner_label': 'Diabetes',\n",
       "    'ner_confidence': '0.9994',\n",
       "    'concept_code': '280137006',\n",
       "    'resolution': 'diabetic foot',\n",
       "    'score': 0.8424344062805176,\n",
       "    'all_codes': ['280137006',\n",
       "     '160670007',\n",
       "     '385804009',\n",
       "     '309350005',\n",
       "     '170747006'],\n",
       "    'domain_class': ['Clinical Finding',\n",
       "     'Clinical Finding',\n",
       "     'Procedure',\n",
       "     'Social Context',\n",
       "     'Clinical Finding'],\n",
       "    'all_resolutions': ['diabetic foot',\n",
       "     'diabetic diet',\n",
       "     'diabetic care',\n",
       "     'diabetologist',\n",
       "     'diabetic on insulin'],\n",
       "    'all_score': [0.8424344062805176,\n",
       "     0.8274567127227783,\n",
       "     0.8165045976638794,\n",
       "     0.8098065257072449,\n",
       "     0.808023989200592]},\n",
       "   {'begin': 144,\n",
       "    'end': 158,\n",
       "    'ner_chunk': 'coronary artery',\n",
       "    'ner_label': 'snomed_term',\n",
       "    'ner_confidence': '0.68165',\n",
       "    'concept_code': '181294004',\n",
       "    'resolution': 'coronary artery',\n",
       "    'score': 0.9999997615814209,\n",
       "    'all_codes': ['181294004',\n",
       "     '181294004',\n",
       "     '41801008',\n",
       "     '119204004',\n",
       "     '364092001'],\n",
       "    'domain_class': ['Body Structure',\n",
       "     'Body Structure',\n",
       "     'Body Structure',\n",
       "     'Body Structure',\n",
       "     'Observable Entity'],\n",
       "    'all_resolutions': ['coronary artery',\n",
       "     'ca - coronary artery',\n",
       "     'coronary artery structure',\n",
       "     'coronary artery part',\n",
       "     'coronary artery feature'],\n",
       "    'all_score': [0.9999997615814209,\n",
       "     0.8787338137626648,\n",
       "     0.8512691855430603,\n",
       "     0.8499417901039124,\n",
       "     0.8453324437141418]},\n",
       "   {'begin': 209,\n",
       "    'end': 222,\n",
       "    'ner_chunk': 'his chest pain',\n",
       "    'ner_label': 'PROBLEM',\n",
       "    'ner_confidence': '0.9519666',\n",
       "    'concept_code': '29857009',\n",
       "    'resolution': 'chest pain',\n",
       "    'score': 0.8550780415534973,\n",
       "    'all_codes': ['29857009',\n",
       "     '59139008',\n",
       "     '29857009',\n",
       "     '371030007',\n",
       "     '102591006'],\n",
       "    'domain_class': ['Clinical Finding',\n",
       "     'Clinical Finding',\n",
       "     'Clinical Finding',\n",
       "     'Clinical Finding',\n",
       "     'Clinical Finding'],\n",
       "    'all_resolutions': ['chest pain',\n",
       "     'crushing chest pain',\n",
       "     'chest pain, nos',\n",
       "     'squeezing chest pain',\n",
       "     'tenderness of chest'],\n",
       "    'all_score': [0.8550780415534973,\n",
       "     0.8436146378517151,\n",
       "     0.8431805968284607,\n",
       "     0.8388456702232361,\n",
       "     0.83170086145401]},\n",
       "   {'begin': 263,\n",
       "    'end': 283,\n",
       "    'ner_chunk': 'somewhat intermittent',\n",
       "    'ner_label': 'PROBLEM',\n",
       "    'ner_confidence': '0.71835',\n",
       "    'concept_code': '7087005',\n",
       "    'resolution': 'intermittent',\n",
       "    'score': 0.8606393933296204,\n",
       "    'all_codes': ['7087005',\n",
       "     '224376001',\n",
       "     '713568000',\n",
       "     '271824009',\n",
       "     '386798001'],\n",
       "    'domain_class': ['Qualifier Value',\n",
       "     'Clinical Finding',\n",
       "     'Clinical Finding',\n",
       "     'Clinical Finding',\n",
       "     'Clinical Finding'],\n",
       "    'all_resolutions': ['intermittent',\n",
       "     'works irregularly',\n",
       "     'occasionally tired',\n",
       "     'respiration intermittent',\n",
       "     'tends to be unstable in affect'],\n",
       "    'all_score': [0.8606393933296204,\n",
       "     0.778349757194519,\n",
       "     0.7751603126525879,\n",
       "     0.7734686732292175,\n",
       "     0.7726602554321289]},\n",
       "   {'begin': 379,\n",
       "    'end': 388,\n",
       "    'ner_chunk': 'chest pain',\n",
       "    'ner_label': 'Symptom',\n",
       "    'ner_confidence': '0.51765',\n",
       "    'concept_code': '29857009',\n",
       "    'resolution': 'chest pain',\n",
       "    'score': 1.0,\n",
       "    'all_codes': ['29857009',\n",
       "     '426396005',\n",
       "     '274664007',\n",
       "     '279084009',\n",
       "     '2237002'],\n",
       "    'domain_class': ['Clinical Finding',\n",
       "     'Clinical Finding',\n",
       "     'Clinical Finding',\n",
       "     'Clinical Finding',\n",
       "     'Clinical Finding'],\n",
       "    'all_resolutions': ['chest pain',\n",
       "     'cardiac chest pain',\n",
       "     'chest pain on breathing',\n",
       "     'chest discomfort',\n",
       "     'pleuritic chest pain'],\n",
       "    'all_score': [1.0,\n",
       "     0.9261186122894287,\n",
       "     0.8930981159210205,\n",
       "     0.889647364616394,\n",
       "     0.8866108655929565]}],\n",
       "  [{'begin': 79,\n",
       "    'end': 107,\n",
       "    'ner_chunk': 'a respiratory tract infection',\n",
       "    'ner_label': 'PROBLEM',\n",
       "    'ner_confidence': '0.87114996',\n",
       "    'concept_code': '275498002',\n",
       "    'resolution': 'respiratory tract infection',\n",
       "    'score': 0.8786616921424866,\n",
       "    'all_codes': ['275498002',\n",
       "     '707351006',\n",
       "     '707351006',\n",
       "     '878855001',\n",
       "     '312117008'],\n",
       "    'domain_class': ['Clinical Finding',\n",
       "     'Clinical Finding',\n",
       "     'Clinical Finding',\n",
       "     'Procedure',\n",
       "     'Clinical Finding'],\n",
       "    'all_resolutions': ['respiratory tract infection',\n",
       "     'institutionally acquired respiratory infection',\n",
       "     'respiratory infection, institutional',\n",
       "     'education about respiratory tract infection',\n",
       "     'bacterial respiratory infection'],\n",
       "    'all_score': [0.8786616921424866,\n",
       "     0.8161045908927917,\n",
       "     0.8152043223381042,\n",
       "     0.8135877251625061,\n",
       "     0.8124688267707825]},\n",
       "   {'begin': 133,\n",
       "    'end': 136,\n",
       "    'ner_chunk': 'T2DM',\n",
       "    'ner_label': 'Diabetes',\n",
       "    'ner_confidence': '0.9779',\n",
       "    'concept_code': '44054006',\n",
       "    'resolution': 't2dm - diabetes mellitus type 2',\n",
       "    'score': 0.8826607465744019,\n",
       "    'all_codes': ['44054006',\n",
       "     '44054006',\n",
       "     '44054006',\n",
       "     '444110003',\n",
       "     '721121000124104'],\n",
       "    'domain_class': ['Clinical Finding',\n",
       "     'Clinical Finding',\n",
       "     'Clinical Finding',\n",
       "     'Clinical Finding',\n",
       "     'Clinical Finding'],\n",
       "    'all_resolutions': ['t2dm - diabetes mellitus type 2',\n",
       "     'type 2 diabetes mellitus',\n",
       "     'diabetes mellitus type 2',\n",
       "     'type 2 diabetes mellitus well controlled',\n",
       "     'diabetes mellitus type 1 stage 2'],\n",
       "    'all_score': [0.8826607465744019,\n",
       "     0.7684905529022217,\n",
       "     0.7645324468612671,\n",
       "     0.7581313252449036,\n",
       "     0.7573235034942627]},\n",
       "   {'begin': 150,\n",
       "    'end': 152,\n",
       "    'ner_chunk': 'HTG',\n",
       "    'ner_label': 'Hyperlipidemia',\n",
       "    'ner_confidence': '0.8938',\n",
       "    'concept_code': '387407006',\n",
       "    'resolution': 'tg',\n",
       "    'score': 0.8197697401046753,\n",
       "    'all_codes': ['387407006',\n",
       "     '415720002',\n",
       "     '278910002',\n",
       "     '8203003',\n",
       "     '1228854003'],\n",
       "    'domain_class': ['Substance',\n",
       "     'Substance',\n",
       "     'Substance',\n",
       "     'Substance',\n",
       "     'No_Concept_Class'],\n",
       "    'all_resolutions': ['tg', 'tbg', 'ahg', 'hmg', 'hg'],\n",
       "    'all_score': [0.8197697401046753,\n",
       "     0.7953603863716125,\n",
       "     0.7846822142601013,\n",
       "     0.7800904512405396,\n",
       "     0.7798664569854736]}]]}"
      ]
     },
     "metadata": {},
     "output_type": "display_data"
    }
   ],
   "source": [
    "retrieve_json_output_from_s3(validation_json_file_name)"
   ]
  },
  {
   "cell_type": "markdown",
   "metadata": {},
   "source": [
    "### JSON Lines"
   ]
  },
  {
   "cell_type": "code",
   "execution_count": null,
   "metadata": {
    "tags": []
   },
   "outputs": [],
   "source": [
    "transformer = model.transformer(\n",
    "    instance_count=1,\n",
    "    instance_type=batch_transform_inference_instance_type,\n",
    "    accept=\"application/jsonlines\",\n",
    "    output_path=validation_output_jsonl_path\n",
    ")\n",
    "transformer.transform(validation_input_jsonl_path, content_type=\"application/jsonlines\")\n",
    "transformer.wait()"
   ]
  },
  {
   "cell_type": "code",
   "execution_count": null,
   "metadata": {
    "tags": []
   },
   "outputs": [],
   "source": [
    "def retrieve_jsonlines_output_from_s3(validation_file_name):\n",
    "\n",
    "    parsed_url = urlparse(transformer.output_path)\n",
    "    file_key = f\"{parsed_url.path[1:]}{validation_file_name}.out\"\n",
    "    response = s3_client.get_object(Bucket=s3_bucket, Key=file_key)\n",
    "\n",
    "    data = response[\"Body\"].read().decode(\"utf-8\")\n",
    "    print(data)"
   ]
  },
  {
   "cell_type": "code",
   "execution_count": 25,
   "metadata": {
    "tags": []
   },
   "outputs": [
    {
     "name": "stdout",
     "output_type": "stream",
     "text": [
      "{\"predictions\": [{\"begin\": 80, \"end\": 89, \"ner_chunk\": \"chest pain\", \"ner_label\": \"Symptom\", \"ner_confidence\": \"0.7448\", \"concept_code\": \"29857009\", \"resolution\": \"chest pain\", \"score\": 1.0, \"all_codes\": [\"29857009\", \"426396005\", \"274664007\", \"279084009\", \"2237002\"], \"domain_class\": [\"Clinical Finding\", \"Clinical Finding\", \"Clinical Finding\", \"Clinical Finding\", \"Clinical Finding\"], \"all_resolutions\": [\"chest pain\", \"cardiac chest pain\", \"chest pain on breathing\", \"chest discomfort\", \"pleuritic chest pain\"], \"all_score\": [1.0, 0.9261186122894287, 0.8930981159210205, 0.889647364616394, 0.8866108655929565]}, {\"begin\": 108, \"end\": 115, \"ner_chunk\": \"diabetic\", \"ner_label\": \"Diabetes\", \"ner_confidence\": \"0.9994\", \"concept_code\": \"280137006\", \"resolution\": \"diabetic foot\", \"score\": 0.8424344062805176, \"all_codes\": [\"280137006\", \"160670007\", \"385804009\", \"309350005\", \"170747006\"], \"domain_class\": [\"Clinical Finding\", \"Clinical Finding\", \"Procedure\", \"Social Context\", \"Clinical Finding\"], \"all_resolutions\": [\"diabetic foot\", \"diabetic diet\", \"diabetic care\", \"diabetologist\", \"diabetic on insulin\"], \"all_score\": [0.8424344062805176, 0.8274567127227783, 0.8165045976638794, 0.8098065257072449, 0.808023989200592]}, {\"begin\": 144, \"end\": 158, \"ner_chunk\": \"coronary artery\", \"ner_label\": \"snomed_term\", \"ner_confidence\": \"0.68165\", \"concept_code\": \"181294004\", \"resolution\": \"coronary artery\", \"score\": 0.9999997615814209, \"all_codes\": [\"181294004\", \"181294004\", \"41801008\", \"119204004\", \"364092001\"], \"domain_class\": [\"Body Structure\", \"Body Structure\", \"Body Structure\", \"Body Structure\", \"Observable Entity\"], \"all_resolutions\": [\"coronary artery\", \"ca - coronary artery\", \"coronary artery structure\", \"coronary artery part\", \"coronary artery feature\"], \"all_score\": [0.9999997615814209, 0.8787338137626648, 0.8512691855430603, 0.8499417901039124, 0.8453324437141418]}, {\"begin\": 209, \"end\": 222, \"ner_chunk\": \"his chest pain\", \"ner_label\": \"PROBLEM\", \"ner_confidence\": \"0.9519666\", \"concept_code\": \"29857009\", \"resolution\": \"chest pain\", \"score\": 0.8550780415534973, \"all_codes\": [\"29857009\", \"59139008\", \"29857009\", \"371030007\", \"102591006\"], \"domain_class\": [\"Clinical Finding\", \"Clinical Finding\", \"Clinical Finding\", \"Clinical Finding\", \"Clinical Finding\"], \"all_resolutions\": [\"chest pain\", \"crushing chest pain\", \"chest pain, nos\", \"squeezing chest pain\", \"tenderness of chest\"], \"all_score\": [0.8550780415534973, 0.8436146378517151, 0.8431805968284607, 0.8388456702232361, 0.83170086145401]}, {\"begin\": 263, \"end\": 283, \"ner_chunk\": \"somewhat intermittent\", \"ner_label\": \"PROBLEM\", \"ner_confidence\": \"0.71835\", \"concept_code\": \"7087005\", \"resolution\": \"intermittent\", \"score\": 0.8606393933296204, \"all_codes\": [\"7087005\", \"224376001\", \"713568000\", \"271824009\", \"386798001\"], \"domain_class\": [\"Qualifier Value\", \"Clinical Finding\", \"Clinical Finding\", \"Clinical Finding\", \"Clinical Finding\"], \"all_resolutions\": [\"intermittent\", \"works irregularly\", \"occasionally tired\", \"respiration intermittent\", \"tends to be unstable in affect\"], \"all_score\": [0.8606393933296204, 0.778349757194519, 0.7751603126525879, 0.7734686732292175, 0.7726602554321289]}, {\"begin\": 379, \"end\": 388, \"ner_chunk\": \"chest pain\", \"ner_label\": \"Symptom\", \"ner_confidence\": \"0.51765\", \"concept_code\": \"29857009\", \"resolution\": \"chest pain\", \"score\": 1.0, \"all_codes\": [\"29857009\", \"426396005\", \"274664007\", \"279084009\", \"2237002\"], \"domain_class\": [\"Clinical Finding\", \"Clinical Finding\", \"Clinical Finding\", \"Clinical Finding\", \"Clinical Finding\"], \"all_resolutions\": [\"chest pain\", \"cardiac chest pain\", \"chest pain on breathing\", \"chest discomfort\", \"pleuritic chest pain\"], \"all_score\": [1.0, 0.9261186122894287, 0.8930981159210205, 0.889647364616394, 0.8866108655929565]}]}\n",
      "{\"predictions\": [{\"begin\": 79, \"end\": 107, \"ner_chunk\": \"a respiratory tract infection\", \"ner_label\": \"PROBLEM\", \"ner_confidence\": \"0.87114996\", \"concept_code\": \"275498002\", \"resolution\": \"respiratory tract infection\", \"score\": 0.8786616921424866, \"all_codes\": [\"275498002\", \"707351006\", \"707351006\", \"878855001\", \"312117008\"], \"domain_class\": [\"Clinical Finding\", \"Clinical Finding\", \"Clinical Finding\", \"Procedure\", \"Clinical Finding\"], \"all_resolutions\": [\"respiratory tract infection\", \"institutionally acquired respiratory infection\", \"respiratory infection, institutional\", \"education about respiratory tract infection\", \"bacterial respiratory infection\"], \"all_score\": [0.8786616921424866, 0.8161045908927917, 0.8152043223381042, 0.8135877251625061, 0.8124688267707825]}, {\"begin\": 133, \"end\": 136, \"ner_chunk\": \"T2DM\", \"ner_label\": \"Diabetes\", \"ner_confidence\": \"0.9779\", \"concept_code\": \"44054006\", \"resolution\": \"t2dm - diabetes mellitus type 2\", \"score\": 0.8826607465744019, \"all_codes\": [\"44054006\", \"44054006\", \"44054006\", \"444110003\", \"721121000124104\"], \"domain_class\": [\"Clinical Finding\", \"Clinical Finding\", \"Clinical Finding\", \"Clinical Finding\", \"Clinical Finding\"], \"all_resolutions\": [\"t2dm - diabetes mellitus type 2\", \"type 2 diabetes mellitus\", \"diabetes mellitus type 2\", \"type 2 diabetes mellitus well controlled\", \"diabetes mellitus type 1 stage 2\"], \"all_score\": [0.8826607465744019, 0.7684905529022217, 0.7645324468612671, 0.7581313252449036, 0.7573235034942627]}, {\"begin\": 150, \"end\": 152, \"ner_chunk\": \"HTG\", \"ner_label\": \"Hyperlipidemia\", \"ner_confidence\": \"0.8938\", \"concept_code\": \"387407006\", \"resolution\": \"tg\", \"score\": 0.8197697401046753, \"all_codes\": [\"387407006\", \"415720002\", \"278910002\", \"8203003\", \"1228854003\"], \"domain_class\": [\"Substance\", \"Substance\", \"Substance\", \"Substance\", \"No_Concept_Class\"], \"all_resolutions\": [\"tg\", \"tbg\", \"ahg\", \"hmg\", \"hg\"], \"all_score\": [0.8197697401046753, 0.7953603863716125, 0.7846822142601013, 0.7800904512405396, 0.7798664569854736]}]}\n"
     ]
    }
   ],
   "source": [
    "retrieve_jsonlines_output_from_s3(validation_jsonl_file_name)"
   ]
  },
  {
   "cell_type": "code",
   "execution_count": 26,
   "metadata": {
    "tags": []
   },
   "outputs": [
    {
     "name": "stderr",
     "output_type": "stream",
     "text": [
      "INFO:sagemaker:Deleting model with name: snomed-vdb-resolver-2025-07-31-12-09-13-530\n"
     ]
    }
   ],
   "source": [
    "model.delete_model()"
   ]
  },
  {
   "cell_type": "markdown",
   "metadata": {},
   "source": [
    "### Unsubscribe to the listing (optional)"
   ]
  },
  {
   "cell_type": "markdown",
   "metadata": {
    "tags": []
   },
   "source": [
    "If you would like to unsubscribe to the model package, follow these steps. Before you cancel the subscription, ensure that you do not have any [deployable model](https://console.aws.amazon.com/sagemaker/home#/models) created from the model package or using the algorithm. Note - You can find this information by looking at the container name associated with the model. \n",
    "\n",
    "**Steps to unsubscribe to product from AWS Marketplace**:\n",
    "1. Navigate to __Machine Learning__ tab on [__Your Software subscriptions page__](https://aws.amazon.com/marketplace/ai/library?productType=ml&ref_=mlmp_gitdemo_indust)\n",
    "2. Locate the listing that you want to cancel the subscription for, and then choose __Cancel Subscription__  to cancel the subscription.\n",
    "\n"
   ]
  }
 ],
 "metadata": {
  "instance_type": "ml.t3.medium",
  "kernelspec": {
   "display_name": "conda_python3",
   "language": "python",
   "name": "conda_python3"
  },
  "language_info": {
   "codemirror_mode": {
    "name": "ipython",
    "version": 3
   },
   "file_extension": ".py",
   "mimetype": "text/x-python",
   "name": "python",
   "nbconvert_exporter": "python",
   "pygments_lexer": "ipython3",
   "version": "3.10.18"
  }
 },
 "nbformat": 4,
 "nbformat_minor": 4
}

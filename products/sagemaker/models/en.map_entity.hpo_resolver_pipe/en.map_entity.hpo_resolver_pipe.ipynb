{
 "cells": [
  {
   "cell_type": "markdown",
   "metadata": {},
   "source": [
    "## 1. Subscribe to the model package"
   ]
  },
  {
   "cell_type": "markdown",
   "metadata": {},
   "source": [
    "To subscribe to the model package:\n",
    "1. Open the model package listing page <font color='red'> For Seller to update:[Title_of_your_product](Provide link to your marketplace listing of your product).</font>\n",
    "1. On the AWS Marketplace listing, click on the **Continue to subscribe** button.\n",
    "1. On the **Subscribe to this software** page, review and click on **\"Accept Offer\"** if you and your organization agrees with EULA, pricing, and support terms. \n",
    "1. Once you click on **Continue to configuration button** and then choose a **region**, you will see a **Product Arn** displayed. This is the model package ARN that you need to specify while creating a deployable model using Boto3. Copy the ARN corresponding to your region and specify the same in the following cell."
   ]
  },
  {
   "cell_type": "markdown",
   "metadata": {},
   "source": [
    "## Resolve Clinical Health Information using the HPO taxonomy\n",
    "\n",
    "- **Model**: `en.map_entity.hpo_resolver_pipe`\n",
    "- **Model Description**: This advanced pipeline extracts human phenotype entities from clinical texts and utilizes the `sbiobert_base_cased_mli` Sentence Bert Embeddings to map these entities to their corresponding Human Phenotype Ontology (HPO) codes. It also returns associated codes from the following vocabularies for each HPO code: - MeSH (Medical Subject Headings)- SNOMED- UMLS (Unified Medical Language System ) - ORPHA (international reference resource for information on rare diseases and orphan drugs) - OMIM (Online Mendelian Inheritance in Man).\n"
   ]
  },
  {
   "cell_type": "code",
   "execution_count": 1,
   "metadata": {
    "tags": []
   },
   "outputs": [],
   "source": [
    "model_package_arn = \"<Customer to specify Model package ARN corresponding to their AWS region>\""
   ]
  },
  {
   "cell_type": "code",
   "execution_count": 2,
   "metadata": {
    "tags": []
   },
   "outputs": [
    {
     "name": "stderr",
     "output_type": "stream",
     "text": [
      "/home/ec2-user/anaconda3/envs/python3/lib/python3.10/site-packages/sagemaker/base_serializers.py:28: UserWarning: A NumPy version >=1.23.5 and <2.3.0 is required for this version of SciPy (detected version 1.22.4)\n",
      "  import scipy.sparse\n"
     ]
    },
    {
     "name": "stdout",
     "output_type": "stream",
     "text": [
      "sagemaker.config INFO - Not applying SDK defaults from location: /etc/xdg/sagemaker/config.yaml\n",
      "sagemaker.config INFO - Not applying SDK defaults from location: /home/ec2-user/.config/sagemaker/config.yaml\n"
     ]
    }
   ],
   "source": [
    "import base64\n",
    "import json\n",
    "import uuid\n",
    "from sagemaker import ModelPackage\n",
    "import sagemaker as sage\n",
    "from sagemaker import get_execution_role\n",
    "import boto3\n",
    "from IPython.display import Image, display\n",
    "from PIL import Image as ImageEdit\n",
    "import numpy as np"
   ]
  },
  {
   "cell_type": "code",
   "execution_count": 3,
   "metadata": {
    "tags": []
   },
   "outputs": [],
   "source": [
    "sagemaker_session = sage.Session()\n",
    "s3_bucket = sagemaker_session.default_bucket()\n",
    "region = sagemaker_session.boto_region_name\n",
    "account_id = boto3.client(\"sts\").get_caller_identity().get(\"Account\")\n",
    "role = get_execution_role()\n",
    "\n",
    "sagemaker = boto3.client(\"sagemaker\")\n",
    "s3_client = sagemaker_session.boto_session.client(\"s3\")\n",
    "ecr = boto3.client(\"ecr\")\n",
    "sm_runtime = boto3.client(\"sagemaker-runtime\")"
   ]
  },
  {
   "cell_type": "code",
   "execution_count": 4,
   "metadata": {
    "tags": []
   },
   "outputs": [],
   "source": [
    "model_name = \"en-map-entity-hpo-resolver-pipe\"\n",
    "\n",
    "real_time_inference_instance_type = \"ml.m4.xlarge\"\n",
    "batch_transform_inference_instance_type = \"ml.m4.2xlarge\"\n"
   ]
  },
  {
   "cell_type": "markdown",
   "metadata": {},
   "source": [
    "## 2. Create a deployable model from the model package."
   ]
  },
  {
   "cell_type": "code",
   "execution_count": 5,
   "metadata": {
    "tags": []
   },
   "outputs": [],
   "source": [
    "# create a deployable model from the model package.\n",
    "model = ModelPackage(\n",
    "    role=role, \n",
    "    model_package_arn=model_package_arn,\n",
    "    sagemaker_session=sagemaker_session,\n",
    ")\n"
   ]
  },
  {
   "cell_type": "markdown",
   "metadata": {},
   "source": [
    "### Input Format\n",
    "\n",
    "To use the model, you need to provide input in one of the following supported formats:\n",
    "\n",
    "#### JSON Format\n",
    "\n",
    "Provide input as JSON. We support two variations within this format:\n",
    "\n",
    "1. **Array of Text Documents**: \n",
    "   Use an array containing multiple text documents. Each element represents a separate text document.\n",
    "\n",
    "   ```json\n",
    "   {\n",
    "       \"text\": [\n",
    "           \"Text document 1\",\n",
    "           \"Text document 2\",\n",
    "           ...\n",
    "       ]\n",
    "   }\n",
    "\n",
    "    ```\n",
    "\n",
    "2. **Single Text Document**:\n",
    "   Provide a single text document as a string.\n",
    "\n",
    "\n",
    "   ```json\n",
    "    {\n",
    "        \"text\": \"Single text document\"\n",
    "    }\n",
    "   ```\n",
    "\n",
    "#### JSON Lines (JSONL) Format\n",
    "\n",
    "Provide input in JSON Lines format, where each line is a JSON object representing a text document.\n",
    "\n",
    "```\n",
    "{\"text\": \"Text document 1\"}\n",
    "{\"text\": \"Text document 2\"}\n",
    "```"
   ]
  },
  {
   "cell_type": "markdown",
   "metadata": {},
   "source": [
    "## 3. Create an endpoint and perform real-time inference"
   ]
  },
  {
   "cell_type": "markdown",
   "metadata": {},
   "source": [
    "If you want to understand how real-time inference with Amazon SageMaker works, see [Documentation](https://docs.aws.amazon.com/sagemaker/latest/dg/how-it-works-hosting.html)."
   ]
  },
  {
   "cell_type": "markdown",
   "metadata": {},
   "source": [
    "### A. Deploy the SageMaker model to an endpoint"
   ]
  },
  {
   "cell_type": "code",
   "execution_count": 6,
   "metadata": {
    "tags": []
   },
   "outputs": [
    {
     "name": "stdout",
     "output_type": "stream",
     "text": [
      "---------!"
     ]
    }
   ],
   "source": [
    "# Deploy the model\n",
    "predictor = model.deploy(\n",
    "    initial_instance_count=1,\n",
    "    instance_type=real_time_inference_instance_type, \n",
    "    endpoint_name=model_name,\n",
    ")"
   ]
  },
  {
   "cell_type": "markdown",
   "metadata": {},
   "source": [
    "Once endpoint has been created, you would be able to perform real-time inference."
   ]
  },
  {
   "cell_type": "code",
   "execution_count": 7,
   "metadata": {
    "tags": []
   },
   "outputs": [],
   "source": [
    "import json\n",
    "import pandas as pd\n",
    "import os\n",
    "import boto3\n",
    "\n",
    "# Set display options\n",
    "pd.set_option('display.max_rows', None)\n",
    "pd.set_option('display.max_columns', None)\n",
    "pd.set_option('display.max_colwidth', None)\n",
    "\n",
    "\n",
    "def process_data_and_invoke_realtime_endpoint(data, content_type, accept):\n",
    "\n",
    "    content_type_to_format = {'application/json': 'json', 'application/jsonlines': 'jsonl'}\n",
    "    input_format = content_type_to_format.get(content_type)\n",
    "    if content_type not in content_type_to_format.keys() or accept not in content_type_to_format.keys():\n",
    "        raise ValueError(\"Invalid content_type or accept. It should be either 'application/json' or 'application/jsonlines'.\")\n",
    "\n",
    "    i = 1\n",
    "    input_dir = f'inputs/real-time/{input_format}'\n",
    "    output_dir = f'outputs/real-time/{input_format}'\n",
    "    s3_input_dir = f\"{model_name}/validation-input/real-time/{input_format}\"\n",
    "    s3_output_dir = f\"{model_name}/validation-output/real-time/{input_format}\"\n",
    "\n",
    "    input_file_name = f'{input_dir}/input{i}.{input_format}'\n",
    "    output_file_name = f'{output_dir}/{os.path.basename(input_file_name)}.out'\n",
    "\n",
    "    while os.path.exists(input_file_name) or os.path.exists(output_file_name):\n",
    "        i += 1\n",
    "        input_file_name = f'{input_dir}/input{i}.{input_format}'\n",
    "        output_file_name = f'{output_dir}/{os.path.basename(input_file_name)}.out'\n",
    "\n",
    "    os.makedirs(os.path.dirname(input_file_name), exist_ok=True)\n",
    "    os.makedirs(os.path.dirname(output_file_name), exist_ok=True)\n",
    "\n",
    "    input_data = json.dumps(data) if content_type == 'application/json' else data\n",
    "\n",
    "    # Write input data to file\n",
    "    with open(input_file_name, 'w') as f:\n",
    "        f.write(input_data)\n",
    "\n",
    "    # Upload input data to S3\n",
    "    s3_client.put_object(Bucket=s3_bucket, Key=f\"{s3_input_dir}/{os.path.basename(input_file_name)}\", Body=bytes(input_data.encode('UTF-8')))\n",
    "\n",
    "    # Invoke the SageMaker endpoint\n",
    "    response = sm_runtime.invoke_endpoint(\n",
    "        EndpointName=model_name,\n",
    "        ContentType=content_type,\n",
    "        Accept=accept,\n",
    "        Body=input_data,\n",
    "    )\n",
    "\n",
    "    # Read response data\n",
    "    response_data = json.loads(response[\"Body\"].read().decode(\"utf-8\")) if accept == 'application/json' else response['Body'].read().decode('utf-8')\n",
    "\n",
    "    # Save response data to file\n",
    "    with open(output_file_name, 'w') as f_out:\n",
    "        if accept == 'application/json':\n",
    "            json.dump(response_data, f_out, indent=4)\n",
    "        else:\n",
    "            for item in response_data.split('\\n'):\n",
    "                f_out.write(item + '\\n')\n",
    "\n",
    "    # Upload response data to S3\n",
    "    output_s3_key = f\"{s3_output_dir}/{os.path.basename(output_file_name)}\"\n",
    "    if accept == 'application/json':\n",
    "        s3_client.put_object(Bucket=s3_bucket, Key=output_s3_key, Body=json.dumps(response_data).encode('UTF-8'))\n",
    "    else:\n",
    "        s3_client.put_object(Bucket=s3_bucket, Key=output_s3_key, Body=response_data)\n",
    "\n",
    "    return response_data"
   ]
  },
  {
   "cell_type": "markdown",
   "metadata": {},
   "source": [
    "### Initial Setup"
   ]
  },
  {
   "cell_type": "code",
   "execution_count": 8,
   "metadata": {
    "tags": []
   },
   "outputs": [],
   "source": [
    "docs = [\n",
    "    \"\"\"HPI: A 69-year-old white female with a history of depression, anxiety, admitted to the ABCD Hospital on February 6, 2007, for shortness of breath. The patient was consulted by Psychiatry for anxiety. I know this patient from a previous consult. During this recent admission, she was given Ativan 0.25 mg on a p.r.n. basis with relief after one to two hours. The patient was seen by Abc, MD, and Def, Ph.D. PAST MEDICAL HISTORY: The patient has a history of hypertension, hypothyroidism, cholelithiasis, Port-A-Cath placement, and hydronephrosis.\"\"\",\n",
    "    \"\"\" A 5-month-old boy brought by his parents because of 2 days of cough. Mother took him when cough started 2 days go to Clinic. But cough got worse and he also started having fever yesterday at night. Mother did not measure it. REVIEW OF SYSTEMS: No vomiting. No diarrhea. No skin rash. No cyanosis. \"\"\"]\n",
    "\n",
    "sample_text = \"\"\"She is followed by Dr. X in our office and has a history of severe tricuspid regurgitation. On 05/12/08, preserved left and right ventricular systolic function, aortic sclerosis with apparent mild aortic stenosis. She has previously had a Persantine Myoview nuclear rest-stress test scan completed at ABCD Medical Center in 07/06 that was negative. She has had significant mitral valve regurgitation in the past being moderate, but on the most recent echocardiogram on 05/12/08, that was not felt to be significant. She does have a history of significant hypertension in the past. She has had dizzy spells and denies clearly any true syncope. She has had bradycardia in the past from beta-blocker therapy.\"\"\""
   ]
  },
  {
   "cell_type": "markdown",
   "metadata": {},
   "source": [
    "### JSON"
   ]
  },
  {
   "cell_type": "code",
   "execution_count": 9,
   "metadata": {
    "tags": []
   },
   "outputs": [
    {
     "data": {
      "text/html": [
       "<div>\n",
       "<style scoped>\n",
       "    .dataframe tbody tr th:only-of-type {\n",
       "        vertical-align: middle;\n",
       "    }\n",
       "\n",
       "    .dataframe tbody tr th {\n",
       "        vertical-align: top;\n",
       "    }\n",
       "\n",
       "    .dataframe thead th {\n",
       "        text-align: right;\n",
       "    }\n",
       "</style>\n",
       "<table border=\"1\" class=\"dataframe\">\n",
       "  <thead>\n",
       "    <tr style=\"text-align: right;\">\n",
       "      <th></th>\n",
       "      <th>ner_chunk</th>\n",
       "      <th>begin</th>\n",
       "      <th>end</th>\n",
       "      <th>ner_label</th>\n",
       "      <th>ner_confidence</th>\n",
       "      <th>code</th>\n",
       "      <th>resolution</th>\n",
       "      <th>all_k_codes</th>\n",
       "      <th>all_k_resolutions</th>\n",
       "      <th>all_k_distances</th>\n",
       "      <th>all_k_aux_labels</th>\n",
       "    </tr>\n",
       "  </thead>\n",
       "  <tbody>\n",
       "    <tr>\n",
       "      <th>0</th>\n",
       "      <td>tricuspid regurgitation</td>\n",
       "      <td>67</td>\n",
       "      <td>89</td>\n",
       "      <td>HP</td>\n",
       "      <td>0.9826</td>\n",
       "      <td>HP:0005180</td>\n",
       "      <td>tricuspid regurgitation</td>\n",
       "      <td>HP:0005180:::HP:0010446:::HP:0001704:::HP:0001702:::HP:0030732:::HP:0031444:::HP:0011662:::HP:0031651:::HP:0031441:::HP:0031443:::HP:0011575:::HP:0001653:::HP:0010316:::HP:0001659:::HP:0031440:::HP:0001647:::HP:0011573</td>\n",
       "      <td>tricuspid regurgitation:::tricuspid stenosis:::tricuspid valve prolapse:::abnormality of the tricuspid valve:::tricuspid valve dysplasia:::dilatation of the tricuspid annulus:::tricuspid atresia:::abnormal tricuspid valve physiology:::abnormal tricuspid valve annulus morphology:::abnormal tricuspid valve leaflet morphology:::imperforate tricuspid valve:::mitral regurgitation:::ebstein anomaly of the tricuspid valve:::aortic valve regurgitation:::obsolete abnormal tricuspid valve morphology:::bicuspid aortic valve:::hypoplastic tricuspid valve</td>\n",
       "      <td>0.0000:::5.8977:::6.2173:::7.0236:::7.2061:::7.4600:::7.5063:::7.6319:::7.6426:::7.9385:::7.9596:::8.0861:::8.3368:::8.4977:::9.2676:::9.4231:::9.4823</td>\n",
       "      <td>MSH:D014262||SNOMED:111287006||UMLS:C0040961||ORPHA:228410:::MSH:D014264||SNOMED:49915006||UMLS:C0040963||ORPHA:391641:::MSH:D014263||SNOMED:253383003||UMLS:C0040962||ORPHA:1101:::UMLS:C4025753||ORPHA:1759:::UMLS:C4255215||ORPHA:1724::::::MSH:D018785||SNOMED:253455004,63042009||UMLS:C0243002||ORPHA:391641::::::::::::UMLS:C4023292||ORPHA:1880:::MSH:D008944||SNOMED:48724000||UMLS:C0026266,C3551535||ORPHA:363700:::MSH:D004437||SNOMED:204357006||UMLS:C0013481||ORPHA:466791:::MSH:D001022||SNOMED:60234000||UMLS:C0003504||ORPHA:2181::::::MSH:C562388||SNOMED:72352009||UMLS:C0149630||ORPHA:1772:::UMLS:C4023294||ORPHA:2255</td>\n",
       "    </tr>\n",
       "    <tr>\n",
       "      <th>1</th>\n",
       "      <td>aortic stenosis</td>\n",
       "      <td>197</td>\n",
       "      <td>211</td>\n",
       "      <td>HP</td>\n",
       "      <td>0.8053</td>\n",
       "      <td>HP:0001650</td>\n",
       "      <td>aortic stenosis</td>\n",
       "      <td>HP:0001650:::HP:0001682:::HP:0004381:::HP:0005174:::HP:0001691:::HP:0005145:::HP:0011611:::HP:0100545:::HP:0001659:::HP:0100546:::HP:0011645:::HP:0004942:::HP:0012397:::HP:0012727:::HP:0004380:::HP:0002616:::HP:0033538</td>\n",
       "      <td>aortic stenosis:::subvalvular aortic stenosis:::supravalvular aortic stenosis:::membranous subvalvular aortic stenosis:::muscular subvalvular aortic stenosis:::coronary artery stenosis:::aortic arch obstruction:::arterial stenosis:::aortic regurgitation:::carotid artery stenosis:::aortic sinus aneurysm:::aortic aneurysm:::aortic atherosclerosis:::thoracic aortic aneurysm:::aortic valve calcification:::aortic root aneurysm:::aortic annulus calcification</td>\n",
       "      <td>0.0000:::4.4104:::5.1986:::6.3503:::6.6584:::7.0477:::7.0632:::7.2026:::7.3230:::7.5884:::7.5889:::7.6998:::7.9957:::8.0672:::8.2905:::8.3184:::8.3248</td>\n",
       "      <td>MSH:D001024||SNOMED:60573004||UMLS:C0003507||ORPHA:536471:::MSH:D001020||SNOMED:204368006||UMLS:C0340375||ORPHA:1052:::MSH:D021921||SNOMED:268185002||UMLS:C0003499||ORPHA:391665:::UMLS:C1848978||ORPHA:3191:::UMLS:C3887554||OMIM:229310:::MSH:D023921||SNOMED:233970002||UMLS:C0242231||ORPHA:75565:::SNOMED:218728005||UMLS:C0152419||ORPHA:2255:::SNOMED:68109007||UMLS:C0038449||ORPHA:565:::MSH:D001022||SNOMED:60234000||UMLS:C0003504||ORPHA:2181:::MSH:D016893||SNOMED:64586002||UMLS:C0007282||ORPHA:536532:::SNOMED:54160000||UMLS:C2239253||ORPHA:1054:::MSH:D001014||SNOMED:67362008||UMLS:C0003486||ORPHA:1777:::SNOMED:81817003||UMLS:C0155733||ORPHA:412:::MSH:D017545||SNOMED:433068007||UMLS:C0162872||ORPHA:536467:::MSH:C562942||SNOMED:250978003||UMLS:C0428791||ORPHA:2072:::SNOMED:251036003||UMLS:C0238669||ORPHA:231160:::</td>\n",
       "    </tr>\n",
       "    <tr>\n",
       "      <th>2</th>\n",
       "      <td>mitral valve regurgitation</td>\n",
       "      <td>373</td>\n",
       "      <td>398</td>\n",
       "      <td>HP</td>\n",
       "      <td>0.91050005</td>\n",
       "      <td>HP:0001653</td>\n",
       "      <td>mitral valve regurgitation</td>\n",
       "      <td>HP:0001653:::HP:0001718:::HP:0001633:::HP:0001634:::HP:0031478:::HP:0031481:::HP:0001659:::HP:0031480:::HP:0005180:::HP:0004382:::HP:0033642:::HP:0005136:::HP:0011560:::HP:0031479:::HP:0011568:::HP:0011572</td>\n",
       "      <td>mitral valve regurgitation:::mitral valve stenosis:::abnormal mitral valve morphology:::mitral valve prolapse:::abnormal mitral valve annulus morphology:::abnormal mitral valve physiology:::aortic valve regurgitation:::abnormal mitral valve leaflet morphology:::tricuspid valve regurgitation:::mitral valve calcification:::mitral valve leaflet calcification:::mitral annular calcification:::mitral valve atresia:::dilatation of the mitral annulus:::double orifice mitral valve:::membranous supravalvular mitral stenosis</td>\n",
       "      <td>0.0000:::5.7524:::6.1888:::6.7052:::6.7775:::6.8148:::6.8635:::6.8820:::7.2420:::7.4868:::7.9232:::7.9290:::8.1783:::8.5622:::8.8716:::8.8908</td>\n",
       "      <td>MSH:D008944||SNOMED:48724000||UMLS:C0026266,C3551535||ORPHA:363700:::MSH:D008946||SNOMED:79619009||UMLS:C0026269||ORPHA:2248:::UMLS:C4025759||ORPHA:1724:::MSH:D008945||SNOMED:409712001,8074002||UMLS:C0026267||ORPHA:536467:::::::::MSH:D001022||SNOMED:60234000||UMLS:C0003504||ORPHA:2181::::::MSH:D014262||SNOMED:111287006||UMLS:C0040961||ORPHA:228410:::SNOMED:473372009||UMLS:C0919718||ORPHA:363618::::::UMLS:C1835130||OMIM:154700:::SNOMED:23063005||UMLS:C0344760||ORPHA:2248::::::SNOMED:253402005||UMLS:C0344770:::UMLS:C4021142</td>\n",
       "    </tr>\n",
       "    <tr>\n",
       "      <th>3</th>\n",
       "      <td>hypertension</td>\n",
       "      <td>555</td>\n",
       "      <td>566</td>\n",
       "      <td>HP</td>\n",
       "      <td>0.9848</td>\n",
       "      <td>HP:0000822</td>\n",
       "      <td>hypertension</td>\n",
       "      <td>HP:0000822:::HP:0007906:::HP:0000875:::HP:0100735:::HP:0001409:::HP:0002092:::HP:0100817:::HP:0002516:::HP:0000998:::HP:0008071:::HP:0004554:::HP:0003124:::HP:0000841:::HP:0004964:::HP:0003712:::HP:0100554:::HP:0001095:::HP:0030950</td>\n",
       "      <td>hypertension:::ocular hypertension:::episodic hypertension:::hypertensive crisis:::portal hypertension:::pulmonary arterial hypertension:::renovascular hypertension:::intracranial hypertension:::hypertrichosis:::maternal hypertension:::generalized hypertrichosis:::hypercholesterolemia:::hyperactive renin-angiotensin system:::pulmonary arterial medial hypertrophy:::hypertrophic muscles:::hemihypertrophy of upper limb:::hypertensive retinopathy:::pulmonary venous hypertension</td>\n",
       "      <td>0.0000:::6.9836:::7.8375:::8.4926:::8.6505:::8.7370:::8.8061:::9.1439:::9.1674:::9.7266:::9.7408:::9.8957:::9.9214:::10.3687:::10.4159:::10.4367:::10.4765:::10.4852</td>\n",
       "      <td>MSH:D006973||SNOMED:24184005,38341003||UMLS:C0020538,C0497247||ORPHA:231160:::SNOMED:112222000||UMLS:C0234708||ORPHA:280921:::UMLS:C1857175||OMIM:171300:::SNOMED:706882009||UMLS:C0020546||ORPHA:94093:::MSH:D006975||SNOMED:34742003||UMLS:C0020541||ORPHA:228426:::MSH:D006976,D065627||SNOMED:11399002,697898008,70995007||UMLS:C0020542,C2973725,C3203102||ORPHA:79282:::MSH:D006978||SNOMED:123799005||UMLS:C0020545||ORPHA:3472:::MSH:D019586||SNOMED:271719001||UMLS:C0151740||ORPHA:247525:::MSH:D006983||SNOMED:271607001,29966009||UMLS:C0020555||ORPHA:79277:::SNOMED:288250001||UMLS:C0565599||ORPHA:439167:::UMLS:C3277940||ORPHA:93400:::MSH:D006937||SNOMED:13644009,166830008||UMLS:C0020443,C0595929||ORPHA:79237:::UMLS:C1846345,C3150267||ORPHA:89938:::UMLS:C1504382||OMIM:178600:::UMLS:C2265792||ORPHA:99736:::SNOMED:253920006||UMLS:C0431810||ORPHA:2346:::MSH:D058437||SNOMED:6962006||UMLS:C0152132||ORPHA:94080:::ORPHA:79259</td>\n",
       "    </tr>\n",
       "    <tr>\n",
       "      <th>4</th>\n",
       "      <td>bradycardia</td>\n",
       "      <td>655</td>\n",
       "      <td>665</td>\n",
       "      <td>HP</td>\n",
       "      <td>0.9965</td>\n",
       "      <td>HP:0001662</td>\n",
       "      <td>bradycardia</td>\n",
       "      <td>HP:0001662:::HP:0001688:::HP:0002067:::HP:0046507:::HP:0000966:::HP:0031843:::HP:0500105:::HP:0500104:::HP:0500107:::HP:0002615:::HP:0008000:::HP:0001278:::HP:0001265:::HP:0002375:::HP:0031098:::HP:0004372</td>\n",
       "      <td>bradycardia:::sinus bradycardia:::bradykinesia:::bradypnea:::sweating, decreased:::bradyphrenia:::decreased systolic bp:::decreased diastolic bp:::isolated diastolic hypotension:::hypotension:::decreased blink reflex:::orthostatic hypotension:::decreased reflexes:::decreased spontaneous movements:::decreased plasma tsh:::reduced consciousness/confusion</td>\n",
       "      <td>0.0000:::3.6907:::6.7763:::7.2223:::8.3734:::8.4909:::8.5120:::8.6348:::8.6881:::9.0329:::9.1193:::9.2400:::9.3646:::9.7888:::9.7941:::9.9271</td>\n",
       "      <td>MSH:D001919||SNOMED:48867003||UMLS:C0428977||ORPHA:330001:::SNOMED:49710005||UMLS:C0085610||ORPHA:439232:::MSH:D018476||SNOMED:399317006||UMLS:C0233565||ORPHA:33069::::::MSH:D007007||SNOMED:45004005||UMLS:C0020620||ORPHA:69085:::ORPHA:2388::::::::::::MSH:D007022||SNOMED:45007003||UMLS:C0020649||ORPHA:556030:::MSH:D012021||SNOMED:103254005||UMLS:C0151572||ORPHA:280071:::MSH:D007024||SNOMED:28651003||UMLS:C0020651||ORPHA:556030:::SNOMED:405946002||UMLS:C0700078||ORPHA:370079:::MSH:D018476||SNOMED:255385008,43994002||UMLS:C0086439||ORPHA:280071:::ORPHA:300373:::SNOMED:3006004||UMLS:C0234428||ORPHA:29822</td>\n",
       "    </tr>\n",
       "  </tbody>\n",
       "</table>\n",
       "</div>"
      ],
      "text/plain": [
       "                    ner_chunk  begin  end ner_label ner_confidence  \\\n",
       "0     tricuspid regurgitation     67   89        HP         0.9826   \n",
       "1             aortic stenosis    197  211        HP         0.8053   \n",
       "2  mitral valve regurgitation    373  398        HP     0.91050005   \n",
       "3                hypertension    555  566        HP         0.9848   \n",
       "4                 bradycardia    655  665        HP         0.9965   \n",
       "\n",
       "         code                  resolution  \\\n",
       "0  HP:0005180     tricuspid regurgitation   \n",
       "1  HP:0001650             aortic stenosis   \n",
       "2  HP:0001653  mitral valve regurgitation   \n",
       "3  HP:0000822                hypertension   \n",
       "4  HP:0001662                 bradycardia   \n",
       "\n",
       "                                                                                                                                                                                                                               all_k_codes  \\\n",
       "0               HP:0005180:::HP:0010446:::HP:0001704:::HP:0001702:::HP:0030732:::HP:0031444:::HP:0011662:::HP:0031651:::HP:0031441:::HP:0031443:::HP:0011575:::HP:0001653:::HP:0010316:::HP:0001659:::HP:0031440:::HP:0001647:::HP:0011573   \n",
       "1               HP:0001650:::HP:0001682:::HP:0004381:::HP:0005174:::HP:0001691:::HP:0005145:::HP:0011611:::HP:0100545:::HP:0001659:::HP:0100546:::HP:0011645:::HP:0004942:::HP:0012397:::HP:0012727:::HP:0004380:::HP:0002616:::HP:0033538   \n",
       "2                            HP:0001653:::HP:0001718:::HP:0001633:::HP:0001634:::HP:0031478:::HP:0031481:::HP:0001659:::HP:0031480:::HP:0005180:::HP:0004382:::HP:0033642:::HP:0005136:::HP:0011560:::HP:0031479:::HP:0011568:::HP:0011572   \n",
       "3  HP:0000822:::HP:0007906:::HP:0000875:::HP:0100735:::HP:0001409:::HP:0002092:::HP:0100817:::HP:0002516:::HP:0000998:::HP:0008071:::HP:0004554:::HP:0003124:::HP:0000841:::HP:0004964:::HP:0003712:::HP:0100554:::HP:0001095:::HP:0030950   \n",
       "4                            HP:0001662:::HP:0001688:::HP:0002067:::HP:0046507:::HP:0000966:::HP:0031843:::HP:0500105:::HP:0500104:::HP:0500107:::HP:0002615:::HP:0008000:::HP:0001278:::HP:0001265:::HP:0002375:::HP:0031098:::HP:0004372   \n",
       "\n",
       "                                                                                                                                                                                                                                                                                                                                                                                                                                                                                                                                                      all_k_resolutions  \\\n",
       "0  tricuspid regurgitation:::tricuspid stenosis:::tricuspid valve prolapse:::abnormality of the tricuspid valve:::tricuspid valve dysplasia:::dilatation of the tricuspid annulus:::tricuspid atresia:::abnormal tricuspid valve physiology:::abnormal tricuspid valve annulus morphology:::abnormal tricuspid valve leaflet morphology:::imperforate tricuspid valve:::mitral regurgitation:::ebstein anomaly of the tricuspid valve:::aortic valve regurgitation:::obsolete abnormal tricuspid valve morphology:::bicuspid aortic valve:::hypoplastic tricuspid valve   \n",
       "1                                                                                              aortic stenosis:::subvalvular aortic stenosis:::supravalvular aortic stenosis:::membranous subvalvular aortic stenosis:::muscular subvalvular aortic stenosis:::coronary artery stenosis:::aortic arch obstruction:::arterial stenosis:::aortic regurgitation:::carotid artery stenosis:::aortic sinus aneurysm:::aortic aneurysm:::aortic atherosclerosis:::thoracic aortic aneurysm:::aortic valve calcification:::aortic root aneurysm:::aortic annulus calcification   \n",
       "2                               mitral valve regurgitation:::mitral valve stenosis:::abnormal mitral valve morphology:::mitral valve prolapse:::abnormal mitral valve annulus morphology:::abnormal mitral valve physiology:::aortic valve regurgitation:::abnormal mitral valve leaflet morphology:::tricuspid valve regurgitation:::mitral valve calcification:::mitral valve leaflet calcification:::mitral annular calcification:::mitral valve atresia:::dilatation of the mitral annulus:::double orifice mitral valve:::membranous supravalvular mitral stenosis   \n",
       "3                                                                        hypertension:::ocular hypertension:::episodic hypertension:::hypertensive crisis:::portal hypertension:::pulmonary arterial hypertension:::renovascular hypertension:::intracranial hypertension:::hypertrichosis:::maternal hypertension:::generalized hypertrichosis:::hypercholesterolemia:::hyperactive renin-angiotensin system:::pulmonary arterial medial hypertrophy:::hypertrophic muscles:::hemihypertrophy of upper limb:::hypertensive retinopathy:::pulmonary venous hypertension   \n",
       "4                                                                                                                                                                                                    bradycardia:::sinus bradycardia:::bradykinesia:::bradypnea:::sweating, decreased:::bradyphrenia:::decreased systolic bp:::decreased diastolic bp:::isolated diastolic hypotension:::hypotension:::decreased blink reflex:::orthostatic hypotension:::decreased reflexes:::decreased spontaneous movements:::decreased plasma tsh:::reduced consciousness/confusion   \n",
       "\n",
       "                                                                                                                                                        all_k_distances  \\\n",
       "0                0.0000:::5.8977:::6.2173:::7.0236:::7.2061:::7.4600:::7.5063:::7.6319:::7.6426:::7.9385:::7.9596:::8.0861:::8.3368:::8.4977:::9.2676:::9.4231:::9.4823   \n",
       "1                0.0000:::4.4104:::5.1986:::6.3503:::6.6584:::7.0477:::7.0632:::7.2026:::7.3230:::7.5884:::7.5889:::7.6998:::7.9957:::8.0672:::8.2905:::8.3184:::8.3248   \n",
       "2                         0.0000:::5.7524:::6.1888:::6.7052:::6.7775:::6.8148:::6.8635:::6.8820:::7.2420:::7.4868:::7.9232:::7.9290:::8.1783:::8.5622:::8.8716:::8.8908   \n",
       "3  0.0000:::6.9836:::7.8375:::8.4926:::8.6505:::8.7370:::8.8061:::9.1439:::9.1674:::9.7266:::9.7408:::9.8957:::9.9214:::10.3687:::10.4159:::10.4367:::10.4765:::10.4852   \n",
       "4                         0.0000:::3.6907:::6.7763:::7.2223:::8.3734:::8.4909:::8.5120:::8.6348:::8.6881:::9.0329:::9.1193:::9.2400:::9.3646:::9.7888:::9.7941:::9.9271   \n",
       "\n",
       "                                                                                                                                                                                                                                                                                                                                                                                                                                                                                                                                                                                                                                                                                                                                                                                                                                                                                                                                            all_k_aux_labels  \n",
       "0                                                                                                                                                                                                                                                                                                               MSH:D014262||SNOMED:111287006||UMLS:C0040961||ORPHA:228410:::MSH:D014264||SNOMED:49915006||UMLS:C0040963||ORPHA:391641:::MSH:D014263||SNOMED:253383003||UMLS:C0040962||ORPHA:1101:::UMLS:C4025753||ORPHA:1759:::UMLS:C4255215||ORPHA:1724::::::MSH:D018785||SNOMED:253455004,63042009||UMLS:C0243002||ORPHA:391641::::::::::::UMLS:C4023292||ORPHA:1880:::MSH:D008944||SNOMED:48724000||UMLS:C0026266,C3551535||ORPHA:363700:::MSH:D004437||SNOMED:204357006||UMLS:C0013481||ORPHA:466791:::MSH:D001022||SNOMED:60234000||UMLS:C0003504||ORPHA:2181::::::MSH:C562388||SNOMED:72352009||UMLS:C0149630||ORPHA:1772:::UMLS:C4023294||ORPHA:2255  \n",
       "1                                                                                                       MSH:D001024||SNOMED:60573004||UMLS:C0003507||ORPHA:536471:::MSH:D001020||SNOMED:204368006||UMLS:C0340375||ORPHA:1052:::MSH:D021921||SNOMED:268185002||UMLS:C0003499||ORPHA:391665:::UMLS:C1848978||ORPHA:3191:::UMLS:C3887554||OMIM:229310:::MSH:D023921||SNOMED:233970002||UMLS:C0242231||ORPHA:75565:::SNOMED:218728005||UMLS:C0152419||ORPHA:2255:::SNOMED:68109007||UMLS:C0038449||ORPHA:565:::MSH:D001022||SNOMED:60234000||UMLS:C0003504||ORPHA:2181:::MSH:D016893||SNOMED:64586002||UMLS:C0007282||ORPHA:536532:::SNOMED:54160000||UMLS:C2239253||ORPHA:1054:::MSH:D001014||SNOMED:67362008||UMLS:C0003486||ORPHA:1777:::SNOMED:81817003||UMLS:C0155733||ORPHA:412:::MSH:D017545||SNOMED:433068007||UMLS:C0162872||ORPHA:536467:::MSH:C562942||SNOMED:250978003||UMLS:C0428791||ORPHA:2072:::SNOMED:251036003||UMLS:C0238669||ORPHA:231160:::  \n",
       "2                                                                                                                                                                                                                                                                                                                                                                                                            MSH:D008944||SNOMED:48724000||UMLS:C0026266,C3551535||ORPHA:363700:::MSH:D008946||SNOMED:79619009||UMLS:C0026269||ORPHA:2248:::UMLS:C4025759||ORPHA:1724:::MSH:D008945||SNOMED:409712001,8074002||UMLS:C0026267||ORPHA:536467:::::::::MSH:D001022||SNOMED:60234000||UMLS:C0003504||ORPHA:2181::::::MSH:D014262||SNOMED:111287006||UMLS:C0040961||ORPHA:228410:::SNOMED:473372009||UMLS:C0919718||ORPHA:363618::::::UMLS:C1835130||OMIM:154700:::SNOMED:23063005||UMLS:C0344760||ORPHA:2248::::::SNOMED:253402005||UMLS:C0344770:::UMLS:C4021142  \n",
       "3  MSH:D006973||SNOMED:24184005,38341003||UMLS:C0020538,C0497247||ORPHA:231160:::SNOMED:112222000||UMLS:C0234708||ORPHA:280921:::UMLS:C1857175||OMIM:171300:::SNOMED:706882009||UMLS:C0020546||ORPHA:94093:::MSH:D006975||SNOMED:34742003||UMLS:C0020541||ORPHA:228426:::MSH:D006976,D065627||SNOMED:11399002,697898008,70995007||UMLS:C0020542,C2973725,C3203102||ORPHA:79282:::MSH:D006978||SNOMED:123799005||UMLS:C0020545||ORPHA:3472:::MSH:D019586||SNOMED:271719001||UMLS:C0151740||ORPHA:247525:::MSH:D006983||SNOMED:271607001,29966009||UMLS:C0020555||ORPHA:79277:::SNOMED:288250001||UMLS:C0565599||ORPHA:439167:::UMLS:C3277940||ORPHA:93400:::MSH:D006937||SNOMED:13644009,166830008||UMLS:C0020443,C0595929||ORPHA:79237:::UMLS:C1846345,C3150267||ORPHA:89938:::UMLS:C1504382||OMIM:178600:::UMLS:C2265792||ORPHA:99736:::SNOMED:253920006||UMLS:C0431810||ORPHA:2346:::MSH:D058437||SNOMED:6962006||UMLS:C0152132||ORPHA:94080:::ORPHA:79259  \n",
       "4                                                                                                                                                                                                                                                                                                                            MSH:D001919||SNOMED:48867003||UMLS:C0428977||ORPHA:330001:::SNOMED:49710005||UMLS:C0085610||ORPHA:439232:::MSH:D018476||SNOMED:399317006||UMLS:C0233565||ORPHA:33069::::::MSH:D007007||SNOMED:45004005||UMLS:C0020620||ORPHA:69085:::ORPHA:2388::::::::::::MSH:D007022||SNOMED:45007003||UMLS:C0020649||ORPHA:556030:::MSH:D012021||SNOMED:103254005||UMLS:C0151572||ORPHA:280071:::MSH:D007024||SNOMED:28651003||UMLS:C0020651||ORPHA:556030:::SNOMED:405946002||UMLS:C0700078||ORPHA:370079:::MSH:D018476||SNOMED:255385008,43994002||UMLS:C0086439||ORPHA:280071:::ORPHA:300373:::SNOMED:3006004||UMLS:C0234428||ORPHA:29822  "
      ]
     },
     "execution_count": 9,
     "metadata": {},
     "output_type": "execute_result"
    }
   ],
   "source": [
    "input_json_data = {\"text\": sample_text}\n",
    "data =  process_data_and_invoke_realtime_endpoint(input_json_data, content_type=\"application/json\" , accept=\"application/json\" )\n",
    "pd.DataFrame(data[\"predictions\"][0])"
   ]
  },
  {
   "cell_type": "markdown",
   "metadata": {},
   "source": [
    "### JSON Lines"
   ]
  },
  {
   "cell_type": "code",
   "execution_count": 10,
   "metadata": {
    "tags": []
   },
   "outputs": [],
   "source": [
    "import json\n",
    "\n",
    "def create_jsonl(records):\n",
    "\n",
    "    if isinstance(records, str):\n",
    "        records = [records]\n",
    "\n",
    "    json_records = []\n",
    "\n",
    "    for text in records:\n",
    "        record = {\n",
    "            \"text\": text\n",
    "        }\n",
    "        json_records.append(record)\n",
    "\n",
    "    json_lines = '\\n'.join(json.dumps(record) for record in json_records)\n",
    "\n",
    "    return json_lines"
   ]
  },
  {
   "cell_type": "code",
   "execution_count": 11,
   "metadata": {
    "tags": []
   },
   "outputs": [
    {
     "name": "stdout",
     "output_type": "stream",
     "text": [
      "{\"predictions\": [{\"ner_chunk\": \"tricuspid regurgitation\", \"begin\": 67, \"end\": 89, \"ner_label\": \"HP\", \"ner_confidence\": \"0.9826\", \"code\": \"HP:0005180\", \"resolution\": \"tricuspid regurgitation\", \"all_k_codes\": \"HP:0005180:::HP:0010446:::HP:0001704:::HP:0001702:::HP:0030732:::HP:0031444:::HP:0011662:::HP:0031651:::HP:0031441:::HP:0031443:::HP:0011575:::HP:0001653:::HP:0010316:::HP:0001659:::HP:0031440:::HP:0001647:::HP:0011573\", \"all_k_resolutions\": \"tricuspid regurgitation:::tricuspid stenosis:::tricuspid valve prolapse:::abnormality of the tricuspid valve:::tricuspid valve dysplasia:::dilatation of the tricuspid annulus:::tricuspid atresia:::abnormal tricuspid valve physiology:::abnormal tricuspid valve annulus morphology:::abnormal tricuspid valve leaflet morphology:::imperforate tricuspid valve:::mitral regurgitation:::ebstein anomaly of the tricuspid valve:::aortic valve regurgitation:::obsolete abnormal tricuspid valve morphology:::bicuspid aortic valve:::hypoplastic tricuspid valve\", \"all_k_distances\": \"0.0000:::5.8977:::6.2173:::7.0236:::7.2061:::7.4600:::7.5063:::7.6319:::7.6426:::7.9385:::7.9596:::8.0861:::8.3368:::8.4977:::9.2676:::9.4231:::9.4823\", \"all_k_aux_labels\": \"MSH:D014262||SNOMED:111287006||UMLS:C0040961||ORPHA:228410:::MSH:D014264||SNOMED:49915006||UMLS:C0040963||ORPHA:391641:::MSH:D014263||SNOMED:253383003||UMLS:C0040962||ORPHA:1101:::UMLS:C4025753||ORPHA:1759:::UMLS:C4255215||ORPHA:1724::::::MSH:D018785||SNOMED:253455004,63042009||UMLS:C0243002||ORPHA:391641::::::::::::UMLS:C4023292||ORPHA:1880:::MSH:D008944||SNOMED:48724000||UMLS:C0026266,C3551535||ORPHA:363700:::MSH:D004437||SNOMED:204357006||UMLS:C0013481||ORPHA:466791:::MSH:D001022||SNOMED:60234000||UMLS:C0003504||ORPHA:2181::::::MSH:C562388||SNOMED:72352009||UMLS:C0149630||ORPHA:1772:::UMLS:C4023294||ORPHA:2255\"}, {\"ner_chunk\": \"aortic stenosis\", \"begin\": 197, \"end\": 211, \"ner_label\": \"HP\", \"ner_confidence\": \"0.8053\", \"code\": \"HP:0001650\", \"resolution\": \"aortic stenosis\", \"all_k_codes\": \"HP:0001650:::HP:0001682:::HP:0004381:::HP:0005174:::HP:0001691:::HP:0005145:::HP:0011611:::HP:0100545:::HP:0001659:::HP:0100546:::HP:0011645:::HP:0004942:::HP:0012397:::HP:0012727:::HP:0004380:::HP:0002616:::HP:0033538\", \"all_k_resolutions\": \"aortic stenosis:::subvalvular aortic stenosis:::supravalvular aortic stenosis:::membranous subvalvular aortic stenosis:::muscular subvalvular aortic stenosis:::coronary artery stenosis:::aortic arch obstruction:::arterial stenosis:::aortic regurgitation:::carotid artery stenosis:::aortic sinus aneurysm:::aortic aneurysm:::aortic atherosclerosis:::thoracic aortic aneurysm:::aortic valve calcification:::aortic root aneurysm:::aortic annulus calcification\", \"all_k_distances\": \"0.0000:::4.4104:::5.1986:::6.3503:::6.6584:::7.0477:::7.0632:::7.2026:::7.3230:::7.5884:::7.5889:::7.6998:::7.9957:::8.0672:::8.2905:::8.3184:::8.3248\", \"all_k_aux_labels\": \"MSH:D001024||SNOMED:60573004||UMLS:C0003507||ORPHA:536471:::MSH:D001020||SNOMED:204368006||UMLS:C0340375||ORPHA:1052:::MSH:D021921||SNOMED:268185002||UMLS:C0003499||ORPHA:391665:::UMLS:C1848978||ORPHA:3191:::UMLS:C3887554||OMIM:229310:::MSH:D023921||SNOMED:233970002||UMLS:C0242231||ORPHA:75565:::SNOMED:218728005||UMLS:C0152419||ORPHA:2255:::SNOMED:68109007||UMLS:C0038449||ORPHA:565:::MSH:D001022||SNOMED:60234000||UMLS:C0003504||ORPHA:2181:::MSH:D016893||SNOMED:64586002||UMLS:C0007282||ORPHA:536532:::SNOMED:54160000||UMLS:C2239253||ORPHA:1054:::MSH:D001014||SNOMED:67362008||UMLS:C0003486||ORPHA:1777:::SNOMED:81817003||UMLS:C0155733||ORPHA:412:::MSH:D017545||SNOMED:433068007||UMLS:C0162872||ORPHA:536467:::MSH:C562942||SNOMED:250978003||UMLS:C0428791||ORPHA:2072:::SNOMED:251036003||UMLS:C0238669||ORPHA:231160:::\"}, {\"ner_chunk\": \"mitral valve regurgitation\", \"begin\": 373, \"end\": 398, \"ner_label\": \"HP\", \"ner_confidence\": \"0.91050005\", \"code\": \"HP:0001653\", \"resolution\": \"mitral valve regurgitation\", \"all_k_codes\": \"HP:0001653:::HP:0001718:::HP:0001633:::HP:0001634:::HP:0031478:::HP:0031481:::HP:0001659:::HP:0031480:::HP:0005180:::HP:0004382:::HP:0033642:::HP:0005136:::HP:0011560:::HP:0031479:::HP:0011568:::HP:0011572\", \"all_k_resolutions\": \"mitral valve regurgitation:::mitral valve stenosis:::abnormal mitral valve morphology:::mitral valve prolapse:::abnormal mitral valve annulus morphology:::abnormal mitral valve physiology:::aortic valve regurgitation:::abnormal mitral valve leaflet morphology:::tricuspid valve regurgitation:::mitral valve calcification:::mitral valve leaflet calcification:::mitral annular calcification:::mitral valve atresia:::dilatation of the mitral annulus:::double orifice mitral valve:::membranous supravalvular mitral stenosis\", \"all_k_distances\": \"0.0000:::5.7524:::6.1888:::6.7052:::6.7775:::6.8148:::6.8635:::6.8820:::7.2420:::7.4868:::7.9232:::7.9290:::8.1783:::8.5622:::8.8716:::8.8908\", \"all_k_aux_labels\": \"MSH:D008944||SNOMED:48724000||UMLS:C0026266,C3551535||ORPHA:363700:::MSH:D008946||SNOMED:79619009||UMLS:C0026269||ORPHA:2248:::UMLS:C4025759||ORPHA:1724:::MSH:D008945||SNOMED:409712001,8074002||UMLS:C0026267||ORPHA:536467:::::::::MSH:D001022||SNOMED:60234000||UMLS:C0003504||ORPHA:2181::::::MSH:D014262||SNOMED:111287006||UMLS:C0040961||ORPHA:228410:::SNOMED:473372009||UMLS:C0919718||ORPHA:363618::::::UMLS:C1835130||OMIM:154700:::SNOMED:23063005||UMLS:C0344760||ORPHA:2248::::::SNOMED:253402005||UMLS:C0344770:::UMLS:C4021142\"}, {\"ner_chunk\": \"hypertension\", \"begin\": 555, \"end\": 566, \"ner_label\": \"HP\", \"ner_confidence\": \"0.9848\", \"code\": \"HP:0000822\", \"resolution\": \"hypertension\", \"all_k_codes\": \"HP:0000822:::HP:0007906:::HP:0000875:::HP:0100735:::HP:0001409:::HP:0002092:::HP:0100817:::HP:0002516:::HP:0000998:::HP:0008071:::HP:0004554:::HP:0003124:::HP:0000841:::HP:0004964:::HP:0003712:::HP:0100554:::HP:0001095:::HP:0030950\", \"all_k_resolutions\": \"hypertension:::ocular hypertension:::episodic hypertension:::hypertensive crisis:::portal hypertension:::pulmonary arterial hypertension:::renovascular hypertension:::intracranial hypertension:::hypertrichosis:::maternal hypertension:::generalized hypertrichosis:::hypercholesterolemia:::hyperactive renin-angiotensin system:::pulmonary arterial medial hypertrophy:::hypertrophic muscles:::hemihypertrophy of upper limb:::hypertensive retinopathy:::pulmonary venous hypertension\", \"all_k_distances\": \"0.0000:::6.9836:::7.8375:::8.4926:::8.6505:::8.7370:::8.8061:::9.1439:::9.1674:::9.7266:::9.7408:::9.8957:::9.9214:::10.3687:::10.4159:::10.4367:::10.4765:::10.4852\", \"all_k_aux_labels\": \"MSH:D006973||SNOMED:24184005,38341003||UMLS:C0020538,C0497247||ORPHA:231160:::SNOMED:112222000||UMLS:C0234708||ORPHA:280921:::UMLS:C1857175||OMIM:171300:::SNOMED:706882009||UMLS:C0020546||ORPHA:94093:::MSH:D006975||SNOMED:34742003||UMLS:C0020541||ORPHA:228426:::MSH:D006976,D065627||SNOMED:11399002,697898008,70995007||UMLS:C0020542,C2973725,C3203102||ORPHA:79282:::MSH:D006978||SNOMED:123799005||UMLS:C0020545||ORPHA:3472:::MSH:D019586||SNOMED:271719001||UMLS:C0151740||ORPHA:247525:::MSH:D006983||SNOMED:271607001,29966009||UMLS:C0020555||ORPHA:79277:::SNOMED:288250001||UMLS:C0565599||ORPHA:439167:::UMLS:C3277940||ORPHA:93400:::MSH:D006937||SNOMED:13644009,166830008||UMLS:C0020443,C0595929||ORPHA:79237:::UMLS:C1846345,C3150267||ORPHA:89938:::UMLS:C1504382||OMIM:178600:::UMLS:C2265792||ORPHA:99736:::SNOMED:253920006||UMLS:C0431810||ORPHA:2346:::MSH:D058437||SNOMED:6962006||UMLS:C0152132||ORPHA:94080:::ORPHA:79259\"}, {\"ner_chunk\": \"bradycardia\", \"begin\": 655, \"end\": 665, \"ner_label\": \"HP\", \"ner_confidence\": \"0.9965\", \"code\": \"HP:0001662\", \"resolution\": \"bradycardia\", \"all_k_codes\": \"HP:0001662:::HP:0001688:::HP:0002067:::HP:0046507:::HP:0000966:::HP:0031843:::HP:0500105:::HP:0500104:::HP:0500107:::HP:0002615:::HP:0008000:::HP:0001278:::HP:0001265:::HP:0002375:::HP:0031098:::HP:0004372\", \"all_k_resolutions\": \"bradycardia:::sinus bradycardia:::bradykinesia:::bradypnea:::sweating, decreased:::bradyphrenia:::decreased systolic bp:::decreased diastolic bp:::isolated diastolic hypotension:::hypotension:::decreased blink reflex:::orthostatic hypotension:::decreased reflexes:::decreased spontaneous movements:::decreased plasma tsh:::reduced consciousness/confusion\", \"all_k_distances\": \"0.0000:::3.6907:::6.7763:::7.2223:::8.3734:::8.4909:::8.5120:::8.6348:::8.6881:::9.0329:::9.1193:::9.2400:::9.3646:::9.7888:::9.7941:::9.9271\", \"all_k_aux_labels\": \"MSH:D001919||SNOMED:48867003||UMLS:C0428977||ORPHA:330001:::SNOMED:49710005||UMLS:C0085610||ORPHA:439232:::MSH:D018476||SNOMED:399317006||UMLS:C0233565||ORPHA:33069::::::MSH:D007007||SNOMED:45004005||UMLS:C0020620||ORPHA:69085:::ORPHA:2388::::::::::::MSH:D007022||SNOMED:45007003||UMLS:C0020649||ORPHA:556030:::MSH:D012021||SNOMED:103254005||UMLS:C0151572||ORPHA:280071:::MSH:D007024||SNOMED:28651003||UMLS:C0020651||ORPHA:556030:::SNOMED:405946002||UMLS:C0700078||ORPHA:370079:::MSH:D018476||SNOMED:255385008,43994002||UMLS:C0086439||ORPHA:280071:::ORPHA:300373:::SNOMED:3006004||UMLS:C0234428||ORPHA:29822\"}]}\n"
     ]
    }
   ],
   "source": [
    "input_jsonl_data = create_jsonl(sample_text)\n",
    "data = process_data_and_invoke_realtime_endpoint(input_jsonl_data, content_type=\"application/jsonlines\" , accept=\"application/jsonlines\" )\n",
    "print(data)"
   ]
  },
  {
   "cell_type": "markdown",
   "metadata": {},
   "source": [
    "### B. Delete the endpoint"
   ]
  },
  {
   "cell_type": "markdown",
   "metadata": {},
   "source": [
    "Now that you have successfully performed a real-time inference, you do not need the endpoint any more. You can terminate the endpoint to avoid being charged."
   ]
  },
  {
   "cell_type": "code",
   "execution_count": 12,
   "metadata": {
    "tags": []
   },
   "outputs": [],
   "source": [
    "model.sagemaker_session.delete_endpoint(model_name)\n",
    "model.sagemaker_session.delete_endpoint_config(model_name)"
   ]
  },
  {
   "cell_type": "markdown",
   "metadata": {
    "tags": []
   },
   "source": [
    "## 4. Batch inference"
   ]
  },
  {
   "cell_type": "code",
   "execution_count": 13,
   "metadata": {
    "tags": []
   },
   "outputs": [],
   "source": [
    "import json\n",
    "import os\n",
    "\n",
    "input_dir = 'inputs/batch'\n",
    "json_input_dir = f\"{input_dir}/json\"\n",
    "jsonl_input_dir = f\"{input_dir}/jsonl\"\n",
    "\n",
    "output_dir = 'outputs/batch'\n",
    "json_output_dir = f\"{output_dir}/json\"\n",
    "jsonl_output_dir = f\"{output_dir}/jsonl\"\n",
    "\n",
    "os.makedirs(json_input_dir, exist_ok=True)\n",
    "os.makedirs(jsonl_input_dir, exist_ok=True)\n",
    "os.makedirs(json_output_dir, exist_ok=True)\n",
    "os.makedirs(jsonl_output_dir, exist_ok=True)\n",
    "\n",
    "validation_json_file_name = \"input.json\"\n",
    "\n",
    "validation_jsonl_file_name = \"input.jsonl\"\n",
    "\n",
    "validation_input_json_path = f\"s3://{s3_bucket}/{model_name}/validation-input/batch/json/\"\n",
    "validation_output_json_path = f\"s3://{s3_bucket}/{model_name}/validation-output/batch/json/\"\n",
    "\n",
    "validation_input_jsonl_path = f\"s3://{s3_bucket}/{model_name}/validation-input/batch/jsonl/\"\n",
    "validation_output_jsonl_path = f\"s3://{s3_bucket}/{model_name}/validation-output/batch/jsonl/\"\n",
    "\n",
    "def write_and_upload_to_s3(input_data, file_name):\n",
    "    file_format = os.path.splitext(file_name)[1].lower()\n",
    "    if file_format == \".json\":\n",
    "        input_data = json.dumps(input_data)\n",
    "\n",
    "    with open(file_name, \"w\") as f:\n",
    "        f.write(input_data)\n",
    "\n",
    "    s3_client.put_object(\n",
    "        Bucket=s3_bucket,\n",
    "        Key=f\"{model_name}/validation-input/batch/{file_format[1:]}/{os.path.basename(file_name)}\",\n",
    "        Body=(bytes(input_data.encode(\"UTF-8\"))),\n",
    "    )"
   ]
  },
  {
   "cell_type": "code",
   "execution_count": 14,
   "metadata": {
    "tags": []
   },
   "outputs": [],
   "source": [
    "input_jsonl_data = create_jsonl(docs)\n",
    "input_json_data = {\"text\": docs}\n",
    "\n",
    "write_and_upload_to_s3(input_json_data, f\"{json_input_dir}/{validation_json_file_name}\")\n",
    "\n",
    "write_and_upload_to_s3(input_jsonl_data, f\"{jsonl_input_dir}/{validation_jsonl_file_name}\")"
   ]
  },
  {
   "cell_type": "markdown",
   "metadata": {},
   "source": [
    "### JSON"
   ]
  },
  {
   "cell_type": "code",
   "execution_count": null,
   "metadata": {
    "tags": []
   },
   "outputs": [],
   "source": [
    "# Initialize a SageMaker Transformer object for making predictions\n",
    "transformer = model.transformer(\n",
    "    instance_count=1,\n",
    "    instance_type=batch_transform_inference_instance_type,\n",
    "    accept=\"application/json\",\n",
    "    output_path=validation_output_json_path\n",
    ")\n",
    "\n",
    "transformer.transform(validation_input_json_path, content_type=\"application/json\")\n",
    "transformer.wait()"
   ]
  },
  {
   "cell_type": "code",
   "execution_count": 16,
   "metadata": {
    "tags": []
   },
   "outputs": [],
   "source": [
    "from urllib.parse import urlparse\n",
    "\n",
    "def process_s3_json_output_and_save(validation_file_name):\n",
    "\n",
    "    output_file_path = f\"{json_output_dir}/{validation_file_name}.out\"\n",
    "    parsed_url = urlparse(transformer.output_path)\n",
    "    file_key = f\"{parsed_url.path[1:]}{validation_file_name}.out\"\n",
    "    response = s3_client.get_object(Bucket=s3_bucket, Key=file_key)\n",
    "\n",
    "    data = json.loads(response[\"Body\"].read().decode(\"utf-8\"))\n",
    "    display(data)\n",
    "\n",
    "    # Save the data to the output file\n",
    "    with open(output_file_path, 'w') as f_out:\n",
    "        json.dump(data, f_out, indent=4)"
   ]
  },
  {
   "cell_type": "code",
   "execution_count": 17,
   "metadata": {
    "tags": []
   },
   "outputs": [
    {
     "data": {
      "text/plain": [
       "{'predictions': [[{'ner_chunk': 'shortness',\n",
       "    'begin': 126,\n",
       "    'end': 134,\n",
       "    'ner_label': 'HP',\n",
       "    'ner_confidence': '0.8931',\n",
       "    'code': 'HP:0009826',\n",
       "    'resolution': 'short limb',\n",
       "    'all_k_codes': 'HP:0009826:::HP:0011927:::HP:0011219:::HP:0009824:::HP:0006385:::HP:0009381:::HP:0005773:::HP:0002984:::HP:0004279:::HP:0009821:::HP:0001773:::HP:0006402:::HP:0004322:::HP:0000331:::HP:0003502:::HP:0009237:::HP:0400005:::HP:0005792',\n",
       "    'all_k_resolutions': 'short limb:::short digit:::short face:::short arms:::short legs:::short finger:::short forearm:::short radii:::short hands:::short forearms:::short feet:::short outer part of limbs:::small stature:::short chin:::mild short stature:::short little finger:::short ear:::short upper arms',\n",
       "    'all_k_distances': '4.5894:::5.1137:::5.2076:::5.2497:::5.2998:::5.4811:::5.5209:::5.5477:::5.7461:::5.8376:::5.8744:::5.9193:::5.9920:::6.0456:::6.0716:::6.0995:::6.1374:::6.2386',\n",
       "    'all_k_aux_labels': 'UMLS:C0239399||ORPHA:79243:::UMLS:C1860176,C4023124||ORPHA:397715:::UMLS:C4023457||ORPHA:99772:::UMLS:C1837406||ORPHA:369837:::SNOMED:249786007||UMLS:C0426901||ORPHA:420794:::SNOMED:249765007||UMLS:C0239594,C1844548||ORPHA:459070:::UMLS:C1855299||ORPHA:1708:::SNOMED:205170001,93288001||UMLS:C0685381,C1840087||ORPHA:2249:::UMLS:C1843108||ORPHA:1786:::UMLS:C1855299||ORPHA:314795:::UMLS:C1848673||ORPHA:85166:::UMLS:C1840307||ORPHA:50945:::SNOMED:237836003||UMLS:C0349588||ORPHA:1770:::SNOMED:699439001||UMLS:C1839323,C3697248||ORPHA:228426:::UMLS:C3150077,C4020838||ORPHA:261911:::UMLS:C1842878||ORPHA:508488:::UMLS:C3551041||ORPHA:314647:::UMLS:C1832117||ORPHA:420794'},\n",
       "   {'ner_chunk': 'hypertension',\n",
       "    'begin': 457,\n",
       "    'end': 468,\n",
       "    'ner_label': 'HP',\n",
       "    'ner_confidence': '0.995',\n",
       "    'code': 'HP:0000822',\n",
       "    'resolution': 'hypertension',\n",
       "    'all_k_codes': 'HP:0000822:::HP:0007906:::HP:0000875:::HP:0100735:::HP:0001409:::HP:0002092:::HP:0100817:::HP:0002516:::HP:0000998:::HP:0008071:::HP:0004554:::HP:0003124:::HP:0000841:::HP:0004964:::HP:0003712:::HP:0100554:::HP:0001095:::HP:0030950',\n",
       "    'all_k_resolutions': 'hypertension:::ocular hypertension:::episodic hypertension:::hypertensive crisis:::portal hypertension:::pulmonary arterial hypertension:::renovascular hypertension:::intracranial hypertension:::hypertrichosis:::maternal hypertension:::generalized hypertrichosis:::hypercholesterolemia:::hyperactive renin-angiotensin system:::pulmonary arterial medial hypertrophy:::hypertrophic muscles:::hemihypertrophy of upper limb:::hypertensive retinopathy:::pulmonary venous hypertension',\n",
       "    'all_k_distances': '0.0000:::6.9836:::7.8375:::8.4926:::8.6505:::8.7370:::8.8061:::9.1439:::9.1674:::9.7266:::9.7408:::9.8957:::9.9214:::10.3687:::10.4159:::10.4367:::10.4765:::10.4852',\n",
       "    'all_k_aux_labels': 'MSH:D006973||SNOMED:24184005,38341003||UMLS:C0020538,C0497247||ORPHA:231160:::SNOMED:112222000||UMLS:C0234708||ORPHA:280921:::UMLS:C1857175||OMIM:171300:::SNOMED:706882009||UMLS:C0020546||ORPHA:94093:::MSH:D006975||SNOMED:34742003||UMLS:C0020541||ORPHA:228426:::MSH:D006976,D065627||SNOMED:11399002,697898008,70995007||UMLS:C0020542,C2973725,C3203102||ORPHA:79282:::MSH:D006978||SNOMED:123799005||UMLS:C0020545||ORPHA:3472:::MSH:D019586||SNOMED:271719001||UMLS:C0151740||ORPHA:247525:::MSH:D006983||SNOMED:271607001,29966009||UMLS:C0020555||ORPHA:79277:::SNOMED:288250001||UMLS:C0565599||ORPHA:439167:::UMLS:C3277940||ORPHA:93400:::MSH:D006937||SNOMED:13644009,166830008||UMLS:C0020443,C0595929||ORPHA:79237:::UMLS:C1846345,C3150267||ORPHA:89938:::UMLS:C1504382||OMIM:178600:::UMLS:C2265792||ORPHA:99736:::SNOMED:253920006||UMLS:C0431810||ORPHA:2346:::MSH:D058437||SNOMED:6962006||UMLS:C0152132||ORPHA:94080:::ORPHA:79259'},\n",
       "   {'ner_chunk': 'hypothyroidism',\n",
       "    'begin': 471,\n",
       "    'end': 484,\n",
       "    'ner_label': 'HP',\n",
       "    'ner_confidence': '0.9985',\n",
       "    'code': 'HP:0000821',\n",
       "    'resolution': 'hypothyroidism',\n",
       "    'all_k_codes': 'HP:0000821:::HP:0008245:::HP:0011787:::HP:0008191:::HP:0008237:::HP:0000832:::HP:0000851:::HP:0008223:::HP:0000829:::HP:0005990:::HP:0040075:::HP:0008188:::HP:0002930:::HP:0031507:::HP:0031098:::HP:0000860',\n",
       "    'all_k_resolutions': 'hypothyroidism:::secondary hypothyroidism:::central hypothyroidism:::athyroidal hypothyroidism:::tertiary hypothyroidism:::primary hypothyroidism:::congenital hypothyroidism:::subclinical hypothyroidism:::hypoparathyroidism:::thyroid hypoplasia:::hypopituitarism:::thyroid dysgenesis:::impaired sensitivity to thyroid hormone:::decreased circulating thyroxine level:::decreased thyrotropin level:::parathyroid hypoplasia',\n",
       "    'all_k_distances': '0.0000:::3.3831:::3.4253:::3.4839:::3.5025:::4.0627:::5.9735:::6.3597:::7.5255:::7.7986:::8.1450:::8.1630:::8.3778:::8.4558:::8.5022:::8.5635',\n",
       "    'all_k_aux_labels': 'MSH:D007037||SNOMED:40930008||UMLS:C0020676||ORPHA:1772:::SNOMED:82598004||UMLS:C3665349||ORPHA:251623:::SNOMED:26692000||UMLS:C0271801||ORPHA:514:::MSH:D050033||UMLS:C0749420,C4020805||ORPHA:95719:::SNOMED:37429009||UMLS:C0220998||ORPHA:2495:::SNOMED:111566002||UMLS:C0700502||ORPHA:391487:::MSH:D003409||SNOMED:190268003,217710005||UMLS:C0010308||ORPHA:2255:::SNOMED:237523006||UMLS:C0342162||ORPHA:247691:::MSH:D007011||SNOMED:36976004||UMLS:C0020626||ORPHA:2238:::MSH:D050033||SNOMED:367524008||UMLS:C0151516||ORPHA:2166:::MSH:D007018||SNOMED:74728003||UMLS:C0020635||ORPHA:251623:::MSH:D050033||UMLS:C1563716||ORPHA:442:::MSH:D018382||SNOMED:111567006,237559000,237560005,50375007||UMLS:C2940786||OMIM:188570:::ORPHA:398073:::ORPHA:300373:::UMLS:C1389851||ORPHA:2237'},\n",
       "   {'ner_chunk': 'hydronephrosis',\n",
       "    'begin': 530,\n",
       "    'end': 543,\n",
       "    'ner_label': 'HP',\n",
       "    'ner_confidence': '0.9873',\n",
       "    'code': 'HP:0000126',\n",
       "    'resolution': 'hydronephrosis',\n",
       "    'all_k_codes': 'HP:0000126:::HP:0006000:::HP:0000071:::HP:0000076:::HP:0003131:::HP:0000072:::HP:0030735:::HP:0100519:::HP:0008714:::HP:0000085:::HP:0000090:::HP:0000074:::HP:0012330:::HP:0000790:::HP:0008631:::HP:0011126:::HP:0025634:::HP:0000069:::HP:0100518',\n",
       "    'all_k_resolutions': 'hydronephrosis:::ureteral obstruction:::ureteral stenosis:::ureteral reflux:::cystinuria:::megaureter:::ureterovesical junction obstruction:::anuria:::ureterovesical stenosis:::horseshoe kidneys:::nephronophthisis:::ureteropelvic junction obstruction:::pyelonephritis:::hematuria:::ureteral dysgenesis:::nephroptosis:::abnormal ureter physiology:::ureter issue:::dysuria',\n",
       "    'all_k_distances': '0.0000:::9.1860:::9.3845:::9.4042:::9.5770:::9.6477:::9.8434:::9.8623:::9.9959:::10.2200:::10.2844:::10.3470:::10.3513:::10.3764:::10.3783:::10.4374:::10.5331:::10.5432:::10.5472',\n",
       "    'all_k_aux_labels': 'MSH:D006869||SNOMED:43064006||UMLS:C0020295||ORPHA:1780:::MSH:D014517||SNOMED:20018005||UMLS:C0041956||ORPHA:93599:::SNOMED:95574003||UMLS:C0521618||ORPHA:2257:::MSH:D014718||SNOMED:197811007||UMLS:C0042580||ORPHA:2237:::MSH:D003555||SNOMED:85020001||UMLS:C0010691||ORPHA:163693:::SNOMED:69758005,95576001||UMLS:C0521620,C4020897||ORPHA:2241:::UMLS:C2609249:::MSH:D001002||SNOMED:2472002||UMLS:C0003460||ORPHA:90038:::UMLS:C4024633||ORPHA:314585:::MSH:D000069337||SNOMED:41729002||UMLS:C0221353||ORPHA:1772:::SNOMED:204958008||UMLS:C0687120||ORPHA:474:::MSH:C537373||SNOMED:95575002||UMLS:C0521619||ORPHA:261112:::MSH:D011704||SNOMED:45816000||UMLS:C0034186||ORPHA:533:::MSH:D006417||SNOMED:34436003,53298000||UMLS:C0018965||ORPHA:93598:::UMLS:C4024653||OMIM:274265:::UMLS:C1384594::::::UMLS:C1840382||ORPHA:1770:::MSH:D053159||SNOMED:49650001||UMLS:C0013428||ORPHA:79276'}],\n",
       "  [{'ner_chunk': 'cough',\n",
       "    'begin': 63,\n",
       "    'end': 67,\n",
       "    'ner_label': 'HP',\n",
       "    'ner_confidence': '0.932',\n",
       "    'code': 'HP:0012735',\n",
       "    'resolution': 'cough',\n",
       "    'all_k_codes': 'HP:0012735:::HP:0031245:::HP:0031247:::HP:0033121:::HP:0002098:::HP:0002094:::HP:0001609:::HP:0030828:::HP:0002795:::HP:0012764:::HP:0025095:::HP:0002104:::HP:0004885:::HP:0008376:::HP:0002015:::HP:0025144:::HP:0001742',\n",
       "    'all_k_resolutions': 'cough:::wet cough:::whooping cough:::barking cough:::breathing difficulties:::breathing difficulty:::hoarseness:::wheezing:::respiratory problem:::orthopnea:::sneeze:::apnea:::episodic difficulty breathing:::breathy speech:::swallowing difficulties:::shivering:::congestion of nose',\n",
       "    'all_k_distances': '0.0000:::6.6824:::6.9902:::8.8540:::9.0417:::9.2651:::9.5332:::9.7235:::9.7884:::9.9335:::10.0228:::10.0361:::10.1292:::10.1296:::10.2351:::10.2353:::10.2585',\n",
       "    'all_k_aux_labels': 'MSH:D003371||SNOMED:263731006,272039006,49727002||UMLS:C0010200||ORPHA:83317:::ORPHA:31204:::::::::MSH:D004417||SNOMED:230145002,267036007,271825005||UMLS:C0013404,C0476273||ORPHA:26792:::MSH:D004417||SNOMED:230145002,267036007||UMLS:C0013404||ORPHA:26791:::MSH:D006685||SNOMED:50219008||UMLS:C0019825,C1854348||ORPHA:397973:::MSH:D012135||SNOMED:56018004||UMLS:C0043144||ORPHA:70588:::UMLS:C4025677||ORPHA:94068:::SNOMED:62744007||UMLS:C0085619||ORPHA:563::::::MSH:D001049||SNOMED:1023001,248583008||UMLS:C0003578||ORPHA:79241:::UMLS:C1844945||ORPHA:255210:::UMLS:C1834664||ORPHA:99771:::MSH:D003680||SNOMED:288939007,40739000||UMLS:C0011168||ORPHA:26791:::ORPHA:36238:::MSH:D015508||SNOMED:232209000,267100006,68235000||UMLS:C0027424,C0027429||ORPHA:79345'},\n",
       "   {'ner_chunk': 'cough',\n",
       "    'begin': 91,\n",
       "    'end': 95,\n",
       "    'ner_label': 'HP',\n",
       "    'ner_confidence': '0.9692',\n",
       "    'code': 'HP:0012735',\n",
       "    'resolution': 'cough',\n",
       "    'all_k_codes': 'HP:0012735:::HP:0031245:::HP:0031247:::HP:0033121:::HP:0002098:::HP:0002094:::HP:0001609:::HP:0030828:::HP:0002795:::HP:0012764:::HP:0025095:::HP:0002104:::HP:0004885:::HP:0008376:::HP:0002015:::HP:0025144:::HP:0001742',\n",
       "    'all_k_resolutions': 'cough:::wet cough:::whooping cough:::barking cough:::breathing difficulties:::breathing difficulty:::hoarseness:::wheezing:::respiratory problem:::orthopnea:::sneeze:::apnea:::episodic difficulty breathing:::breathy speech:::swallowing difficulties:::shivering:::congestion of nose',\n",
       "    'all_k_distances': '0.0000:::6.6824:::6.9902:::8.8540:::9.0417:::9.2651:::9.5332:::9.7235:::9.7884:::9.9335:::10.0228:::10.0361:::10.1292:::10.1296:::10.2351:::10.2353:::10.2585',\n",
       "    'all_k_aux_labels': 'MSH:D003371||SNOMED:263731006,272039006,49727002||UMLS:C0010200||ORPHA:83317:::ORPHA:31204:::::::::MSH:D004417||SNOMED:230145002,267036007,271825005||UMLS:C0013404,C0476273||ORPHA:26792:::MSH:D004417||SNOMED:230145002,267036007||UMLS:C0013404||ORPHA:26791:::MSH:D006685||SNOMED:50219008||UMLS:C0019825,C1854348||ORPHA:397973:::MSH:D012135||SNOMED:56018004||UMLS:C0043144||ORPHA:70588:::UMLS:C4025677||ORPHA:94068:::SNOMED:62744007||UMLS:C0085619||ORPHA:563::::::MSH:D001049||SNOMED:1023001,248583008||UMLS:C0003578||ORPHA:79241:::UMLS:C1844945||ORPHA:255210:::UMLS:C1834664||ORPHA:99771:::MSH:D003680||SNOMED:288939007,40739000||UMLS:C0011168||ORPHA:26791:::ORPHA:36238:::MSH:D015508||SNOMED:232209000,267100006,68235000||UMLS:C0027424,C0027429||ORPHA:79345'},\n",
       "   {'ner_chunk': 'fever',\n",
       "    'begin': 173,\n",
       "    'end': 177,\n",
       "    'ner_label': 'HP',\n",
       "    'ner_confidence': '0.9686',\n",
       "    'code': 'HP:0001945',\n",
       "    'resolution': 'fever',\n",
       "    'all_k_codes': 'HP:0001945:::HP:0001954:::HP:0033399:::HP:0032323:::HP:0025215:::HP:0033087:::HP:0011134:::HP:0002013:::HP:0000282:::HP:0002018:::HP:0001955:::HP:0003193:::HP:0011172:::HP:0032249:::HP:0000989:::HP:0000969:::HP:0000975:::HP:0001017:::HP:0000713:::HP:0100809:::HP:0002315',\n",
       "    'all_k_resolutions': 'fever:::intermittent fever:::persistent fever:::periodic fever:::triggered by fever:::quotidian fever:::mild fever:::emesis:::facial edema:::nausea:::unexplained fevers:::hay fever:::complex fever fit:::valley fever:::itchy skin:::edema:::increased sweating:::anemic pallor:::agitation:::scalp tenderness:::headache',\n",
       "    'all_k_distances': '0.0000:::4.2216:::4.3471:::5.4946:::6.9462:::7.5714:::8.3913:::9.5633:::9.6032:::9.6185:::9.7885:::9.9691:::10.0424:::10.1033:::10.1962:::10.2079:::10.2183:::10.2501:::10.3350:::10.3647:::10.3650',\n",
       "    'all_k_aux_labels': 'MSH:D005334||SNOMED:386661006,50177009||UMLS:C0015967||ORPHA:79276:::SNOMED:77957000||UMLS:C0277799||ORPHA:369939::::::ORPHA:2686::::::PMID:25220867:::SNOMED:304213008||UMLS:C0239574||ORPHA:1164:::MSH:D014839||SNOMED:249497008,300359004,422400008||UMLS:C0042963||ORPHA:26791:::SNOMED:445088006||UMLS:C0542571||ORPHA:221008:::MSH:D009325||SNOMED:422587007||UMLS:C0027497||ORPHA:79273:::UMLS:C1844662||ORPHA:642:::MSH:D065631||SNOMED:61582004||UMLS:C0847614,C2607914||ORPHA:2070:::MSH:D003294||SNOMED:433083002||UMLS:C0751057||ORPHA:33069::::::MSH:D011537||SNOMED:279333002,418290006,418363000,424492005||UMLS:C0033774||ORPHA:79278:::MSH:D004487||SNOMED:20741006,267038008,423666004,79654002||UMLS:C0013604||ORPHA:79278:::MSH:D006945,D013546||SNOMED:161857006,312230002,364538006,415690000,415691001,52613005||UMLS:C0020458,C0038990,C0700590||ORPHA:79276:::UMLS:C4025811||ORPHA:86839:::SNOMED:24199005||UMLS:C0085631||ORPHA:369891:::SNOMED:75851004||UMLS:C0151206,C0240940,C4073183||ORPHA:2583:::MSH:D006261||SNOMED:25064002||UMLS:C0018681||ORPHA:247525'},\n",
       "   {'ner_chunk': 'vomiting',\n",
       "    'begin': 248,\n",
       "    'end': 255,\n",
       "    'ner_label': 'HP',\n",
       "    'ner_confidence': '0.9931',\n",
       "    'code': 'HP:0002013',\n",
       "    'resolution': 'vomiting',\n",
       "    'all_k_codes': 'HP:0002013:::HP:0025089:::HP:0002018:::HP:0002017:::HP:0002572:::HP:0025144:::HP:0002587:::HP:0003270:::HP:0009926:::HP:0001046:::HP:0000713:::HP:0031733:::HP:0000980:::HP:0001336:::HP:0002307:::HP:0002524:::HP:0002248:::HP:0030207:::HP:0002329:::HP:0007209',\n",
       "    'all_k_resolutions': 'vomiting:::fecal vomiting:::nausea:::nausea and vomiting:::episodic vomiting:::shuddering:::projectile vomiting:::bloating:::tearing:::intermittent icterus:::agitation:::reflex tearing:::pallor:::jerking:::drooling:::cataplexy:::vomitting blood:::paradoxical breathing:::drowsiness:::facial paresis',\n",
       "    'all_k_distances': '0.0000:::6.6951:::7.1486:::7.3891:::7.5123:::7.6550:::8.1170:::8.1545:::8.3047:::8.5117:::8.5880:::8.6600:::8.6751:::8.7056:::8.7922:::8.8139:::8.9427:::8.9586:::8.9660:::9.0032',\n",
       "    'all_k_aux_labels': 'MSH:D014839||SNOMED:249497008,300359004,422400008||UMLS:C0042963||ORPHA:26791::::::MSH:D009325||SNOMED:422587007||UMLS:C0027497||ORPHA:79273:::SNOMED:16932000||UMLS:C0027498||ORPHA:79276:::UMLS:C1838993,C1857202||ORPHA:79273:::ORPHA:36238:::SNOMED:8579004||UMLS:C0221151||ORPHA:33475:::SNOMED:41931001,60728008||UMLS:C0000731||ORPHA:79276:::MSH:D007766||SNOMED:193982009,418035005||UMLS:C0152227||ORPHA:100093:::UMLS:C4025805||ORPHA:100085:::SNOMED:24199005||UMLS:C0085631||ORPHA:369891::::::MSH:D010167||SNOMED:398979000||UMLS:C0030232||ORPHA:29822:::MSH:D009207||SNOMED:127324008,17450006||UMLS:C0027066,C1854302||ORPHA:79279:::MSH:D012798||SNOMED:275295002,53827007,62718007||UMLS:C0013132,C0037036||ORPHA:477673:::MSH:D002385||SNOMED:46263000||UMLS:C0007384||ORPHA:2073:::MSH:D006396||SNOMED:8765009||UMLS:C0018926||ORPHA:71272:::MSH:D005409||SNOMED:12025005,78011002||UMLS:C0016196,C0231852:::MSH:D012894||SNOMED:271782001,79519003||UMLS:C0013144||ORPHA:79243:::MSH:D005158||SNOMED:280816001,95666008||UMLS:C0015469,C0427055||ORPHA:569'},\n",
       "   {'ner_chunk': 'skin rash',\n",
       "    'begin': 274,\n",
       "    'end': 282,\n",
       "    'ner_label': 'HP',\n",
       "    'ner_confidence': '0.8408',\n",
       "    'code': 'HP:0000988',\n",
       "    'resolution': 'skin rash',\n",
       "    'all_k_codes': 'HP:0000988:::HP:0000992:::HP:0011123:::HP:0001000:::HP:0001041:::HP:0009762:::HP:0100658:::HP:0000951:::HP:0001581:::HP:0100276:::HP:0000989:::HP:0200036:::HP:0033605:::HP:0002965:::HP:0032007:::HP:0011354:::HP:0007427:::HP:0040189',\n",
       "    'all_k_resolutions': 'skin rash:::photosensitive skin rashes:::skin inflammation:::pigmentary skin changes:::facial erythema:::facial wrinkling:::skin infection:::skin abnormality:::cutaneous infections:::skin pits:::skin itching:::skin nodule:::pustular rash:::cutaneous anergy:::skin maceration:::generalised abnormality of skin:::reticulated skin pigmentation:::flaking skin',\n",
       "    'all_k_distances': '0.0000:::5.5604:::7.0288:::8.2343:::8.3431:::8.4751:::8.5754:::8.6565:::8.7141:::8.7794:::8.8219:::8.8477:::8.8580:::8.8939:::8.9347:::8.9429:::8.9680:::9.0520',\n",
       "    'all_k_aux_labels': 'MSH:D005076||SNOMED:112625008,271807003||UMLS:C0015230||ORPHA:29822:::MSH:D010787||SNOMED:90128006||UMLS:C0349506||ORPHA:79278:::MSH:D003872||SNOMED:703938007||UMLS:C0011603,C3875321||ORPHA:26793:::UMLS:C1260926||ORPHA:79277:::MSH:D001821,D012393||SNOMED:20255002,271811009,398909004||UMLS:C0005874,C0035854,C0239488,C4020880||ORPHA:221008:::SNOMED:248194004||UMLS:C0262478||ORPHA:93932:::MSH:D002481,D017192||SNOMED:128045006,128936008,385627004||UMLS:C0007642,C0162627||ORPHA:229717:::MSH:D012868,D012871||SNOMED:199879009,95320005||UMLS:C0037268,C0037274||ORPHA:93552:::UMLS:C1853193||ORPHA:79277:::UMLS:C4020712,C4022172:::MSH:D011537||SNOMED:279333002,418290006,418363000,424492005||UMLS:C0033774||ORPHA:79278:::SNOMED:95319004||UMLS:C0037287||ORPHA:83313:::PMID:25029335:::UMLS:C1855781||OMIM:252250:::OMIM:615598:::UMLS:C4021157||ORPHA:94059:::UMLS:C3279575,C3279601||ORPHA:50815:::SNOMED:14411002,271767006||UMLS:C0237849||ORPHA:2269'},\n",
       "   {'ner_chunk': 'cyanosis',\n",
       "    'begin': 288,\n",
       "    'end': 295,\n",
       "    'ner_label': 'HP',\n",
       "    'ner_confidence': '0.9952',\n",
       "    'code': 'HP:0000961',\n",
       "    'resolution': 'cyanosis',\n",
       "    'all_k_codes': 'HP:0000961:::HP:0032556:::HP:0200048:::HP:0009914:::HP:0030764:::HP:0000418:::HP:0500164:::HP:0000458:::HP:0030207:::HP:0000486:::HP:0001281:::HP:0030319:::HP:0000980:::HP:0000970:::HP:0012378:::HP:0002524:::HP:0003270:::HP:0012375:::HP:0000473:::HP:0002312:::HP:0001289:::HP:0002321:::HP:0003401:::HP:0000973',\n",
       "    'all_k_resolutions': 'cyanosis:::circumoral cyanosis:::cyanotic episode:::cyclopia:::ochronosis:::pinched nose:::abnormal blood carbon dioxide level:::anosmia:::paradoxical respiration:::squint eyes:::tetany:::face weakness:::pallor:::anhydrosis:::malaise:::cataplexy:::bloating:::chemosis:::wry neck:::clumsiness:::confusion:::dizzy spell:::tingling:::cutaneous laxity',\n",
       "    'all_k_distances': '0.0000:::5.1199:::6.3355:::9.7645:::10.1094:::10.1346:::10.1575:::10.2009:::10.2368:::10.3505:::10.4019:::10.4722:::10.5109:::10.5397:::10.5566:::10.5939:::10.5945:::10.6127:::10.6142:::10.6433:::10.6451:::10.6505:::10.6602:::10.6639',\n",
       "    'all_k_aux_labels': 'MSH:D003490||SNOMED:119419001,3415004||UMLS:C0010520||ORPHA:2257:::ORPHA:1949:::SNOMED:301795004||UMLS:C0578475||ORPHA:33069:::MSH:C562573||SNOMED:205798005||UMLS:C0266667||ORPHA:2165:::MSH:D009794||SNOMED:410042009||UMLS:C0028817||PMID:12501223:::UMLS:C1837761||ORPHA:363528::::::MSH:D000857||SNOMED:44169009||UMLS:C0003126||ORPHA:2250:::MSH:D005409||SNOMED:12025005,78011002||UMLS:C0016196,C0231852:::MSH:D013285||SNOMED:128602000,22066006||UMLS:C0038379||ORPHA:79279:::MSH:D013746||SNOMED:10629009||UMLS:C0039621||ORPHA:567:::UMLS:C4022514||ORPHA:247691:::MSH:D010167||SNOMED:398979000||UMLS:C0030232||ORPHA:29822:::MSH:D007007||SNOMED:14662005,39659002||UMLS:C0003028||ORPHA:441:::MSH:D005221||SNOMED:248274002,84229001||UMLS:C0015672||ORPHA:29822:::MSH:D002385||SNOMED:46263000||UMLS:C0007384||ORPHA:2073:::SNOMED:41931001,60728008||UMLS:C0000731||ORPHA:79276:::SNOMED:8148005||UMLS:C0271298||ORPHA:319251:::MSH:D014103||SNOMED:270476009,70070008,74333002||UMLS:C0040485,C0152116,C0949445||ORPHA:536467:::SNOMED:7006003||UMLS:C0233844||ORPHA:79239:::MSH:D003221||SNOMED:286933003||UMLS:C0009676||ORPHA:79276:::MSH:D004244,D014717||SNOMED:271789005,399090003,399153001,404640003||UMLS:C0012833,C0042571||ORPHA:79279:::MSH:D010292||SNOMED:91019004||UMLS:C0030554||ORPHA:79279:::MSH:C531660,D003483||SNOMED:58588007||UMLS:C0010495,C2930812,C4280606||ORPHA:357074'}]]}"
      ]
     },
     "metadata": {},
     "output_type": "display_data"
    }
   ],
   "source": [
    "process_s3_json_output_and_save(validation_json_file_name)"
   ]
  },
  {
   "cell_type": "markdown",
   "metadata": {},
   "source": [
    "### JSON Lines"
   ]
  },
  {
   "cell_type": "code",
   "execution_count": null,
   "metadata": {
    "tags": []
   },
   "outputs": [],
   "source": [
    "transformer = model.transformer(\n",
    "    instance_count=1,\n",
    "    instance_type=batch_transform_inference_instance_type,\n",
    "    accept=\"application/jsonlines\",\n",
    "    output_path=validation_output_jsonl_path\n",
    ")\n",
    "transformer.transform(validation_input_jsonl_path, content_type=\"application/jsonlines\")\n",
    "transformer.wait()"
   ]
  },
  {
   "cell_type": "code",
   "execution_count": 19,
   "metadata": {
    "tags": []
   },
   "outputs": [],
   "source": [
    "from urllib.parse import urlparse\n",
    "\n",
    "def process_s3_jsonlines_output_and_save(validation_file_name):\n",
    "\n",
    "    output_file_path = f\"{jsonl_output_dir}/{validation_file_name}.out\"\n",
    "    parsed_url = urlparse(transformer.output_path)\n",
    "    file_key = f\"{parsed_url.path[1:]}{validation_file_name}.out\"\n",
    "    response = s3_client.get_object(Bucket=s3_bucket, Key=file_key)\n",
    "\n",
    "    data = response[\"Body\"].read().decode(\"utf-8\")\n",
    "    print(data)\n",
    "\n",
    "    # Save the data to the output file\n",
    "    with open(output_file_path, 'w') as f_out:\n",
    "        for item in data.split('\\n'):\n",
    "            f_out.write(item + '\\n')"
   ]
  },
  {
   "cell_type": "code",
   "execution_count": 20,
   "metadata": {
    "tags": []
   },
   "outputs": [
    {
     "name": "stdout",
     "output_type": "stream",
     "text": [
      "{\"predictions\": [{\"ner_chunk\": \"shortness\", \"begin\": 126, \"end\": 134, \"ner_label\": \"HP\", \"ner_confidence\": \"0.8931\", \"code\": \"HP:0009826\", \"resolution\": \"short limb\", \"all_k_codes\": \"HP:0009826:::HP:0011927:::HP:0011219:::HP:0009824:::HP:0006385:::HP:0009381:::HP:0005773:::HP:0002984:::HP:0004279:::HP:0009821:::HP:0001773:::HP:0006402:::HP:0004322:::HP:0000331:::HP:0003502:::HP:0009237:::HP:0400005:::HP:0005792\", \"all_k_resolutions\": \"short limb:::short digit:::short face:::short arms:::short legs:::short finger:::short forearm:::short radii:::short hands:::short forearms:::short feet:::short outer part of limbs:::small stature:::short chin:::mild short stature:::short little finger:::short ear:::short upper arms\", \"all_k_distances\": \"4.5894:::5.1137:::5.2076:::5.2497:::5.2998:::5.4811:::5.5209:::5.5477:::5.7461:::5.8376:::5.8744:::5.9193:::5.9920:::6.0456:::6.0716:::6.0995:::6.1374:::6.2386\", \"all_k_aux_labels\": \"UMLS:C0239399||ORPHA:79243:::UMLS:C1860176,C4023124||ORPHA:397715:::UMLS:C4023457||ORPHA:99772:::UMLS:C1837406||ORPHA:369837:::SNOMED:249786007||UMLS:C0426901||ORPHA:420794:::SNOMED:249765007||UMLS:C0239594,C1844548||ORPHA:459070:::UMLS:C1855299||ORPHA:1708:::SNOMED:205170001,93288001||UMLS:C0685381,C1840087||ORPHA:2249:::UMLS:C1843108||ORPHA:1786:::UMLS:C1855299||ORPHA:314795:::UMLS:C1848673||ORPHA:85166:::UMLS:C1840307||ORPHA:50945:::SNOMED:237836003||UMLS:C0349588||ORPHA:1770:::SNOMED:699439001||UMLS:C1839323,C3697248||ORPHA:228426:::UMLS:C3150077,C4020838||ORPHA:261911:::UMLS:C1842878||ORPHA:508488:::UMLS:C3551041||ORPHA:314647:::UMLS:C1832117||ORPHA:420794\"}, {\"ner_chunk\": \"hypertension\", \"begin\": 457, \"end\": 468, \"ner_label\": \"HP\", \"ner_confidence\": \"0.995\", \"code\": \"HP:0000822\", \"resolution\": \"hypertension\", \"all_k_codes\": \"HP:0000822:::HP:0007906:::HP:0000875:::HP:0100735:::HP:0001409:::HP:0002092:::HP:0100817:::HP:0002516:::HP:0000998:::HP:0008071:::HP:0004554:::HP:0003124:::HP:0000841:::HP:0004964:::HP:0003712:::HP:0100554:::HP:0001095:::HP:0030950\", \"all_k_resolutions\": \"hypertension:::ocular hypertension:::episodic hypertension:::hypertensive crisis:::portal hypertension:::pulmonary arterial hypertension:::renovascular hypertension:::intracranial hypertension:::hypertrichosis:::maternal hypertension:::generalized hypertrichosis:::hypercholesterolemia:::hyperactive renin-angiotensin system:::pulmonary arterial medial hypertrophy:::hypertrophic muscles:::hemihypertrophy of upper limb:::hypertensive retinopathy:::pulmonary venous hypertension\", \"all_k_distances\": \"0.0000:::6.9836:::7.8375:::8.4926:::8.6505:::8.7370:::8.8061:::9.1439:::9.1674:::9.7266:::9.7408:::9.8957:::9.9214:::10.3687:::10.4159:::10.4367:::10.4765:::10.4852\", \"all_k_aux_labels\": \"MSH:D006973||SNOMED:24184005,38341003||UMLS:C0020538,C0497247||ORPHA:231160:::SNOMED:112222000||UMLS:C0234708||ORPHA:280921:::UMLS:C1857175||OMIM:171300:::SNOMED:706882009||UMLS:C0020546||ORPHA:94093:::MSH:D006975||SNOMED:34742003||UMLS:C0020541||ORPHA:228426:::MSH:D006976,D065627||SNOMED:11399002,697898008,70995007||UMLS:C0020542,C2973725,C3203102||ORPHA:79282:::MSH:D006978||SNOMED:123799005||UMLS:C0020545||ORPHA:3472:::MSH:D019586||SNOMED:271719001||UMLS:C0151740||ORPHA:247525:::MSH:D006983||SNOMED:271607001,29966009||UMLS:C0020555||ORPHA:79277:::SNOMED:288250001||UMLS:C0565599||ORPHA:439167:::UMLS:C3277940||ORPHA:93400:::MSH:D006937||SNOMED:13644009,166830008||UMLS:C0020443,C0595929||ORPHA:79237:::UMLS:C1846345,C3150267||ORPHA:89938:::UMLS:C1504382||OMIM:178600:::UMLS:C2265792||ORPHA:99736:::SNOMED:253920006||UMLS:C0431810||ORPHA:2346:::MSH:D058437||SNOMED:6962006||UMLS:C0152132||ORPHA:94080:::ORPHA:79259\"}, {\"ner_chunk\": \"hypothyroidism\", \"begin\": 471, \"end\": 484, \"ner_label\": \"HP\", \"ner_confidence\": \"0.9985\", \"code\": \"HP:0000821\", \"resolution\": \"hypothyroidism\", \"all_k_codes\": \"HP:0000821:::HP:0008245:::HP:0011787:::HP:0008191:::HP:0008237:::HP:0000832:::HP:0000851:::HP:0008223:::HP:0000829:::HP:0005990:::HP:0040075:::HP:0008188:::HP:0002930:::HP:0031507:::HP:0031098:::HP:0000860\", \"all_k_resolutions\": \"hypothyroidism:::secondary hypothyroidism:::central hypothyroidism:::athyroidal hypothyroidism:::tertiary hypothyroidism:::primary hypothyroidism:::congenital hypothyroidism:::subclinical hypothyroidism:::hypoparathyroidism:::thyroid hypoplasia:::hypopituitarism:::thyroid dysgenesis:::impaired sensitivity to thyroid hormone:::decreased circulating thyroxine level:::decreased thyrotropin level:::parathyroid hypoplasia\", \"all_k_distances\": \"0.0000:::3.3831:::3.4253:::3.4839:::3.5025:::4.0627:::5.9735:::6.3597:::7.5255:::7.7986:::8.1450:::8.1630:::8.3778:::8.4558:::8.5022:::8.5635\", \"all_k_aux_labels\": \"MSH:D007037||SNOMED:40930008||UMLS:C0020676||ORPHA:1772:::SNOMED:82598004||UMLS:C3665349||ORPHA:251623:::SNOMED:26692000||UMLS:C0271801||ORPHA:514:::MSH:D050033||UMLS:C0749420,C4020805||ORPHA:95719:::SNOMED:37429009||UMLS:C0220998||ORPHA:2495:::SNOMED:111566002||UMLS:C0700502||ORPHA:391487:::MSH:D003409||SNOMED:190268003,217710005||UMLS:C0010308||ORPHA:2255:::SNOMED:237523006||UMLS:C0342162||ORPHA:247691:::MSH:D007011||SNOMED:36976004||UMLS:C0020626||ORPHA:2238:::MSH:D050033||SNOMED:367524008||UMLS:C0151516||ORPHA:2166:::MSH:D007018||SNOMED:74728003||UMLS:C0020635||ORPHA:251623:::MSH:D050033||UMLS:C1563716||ORPHA:442:::MSH:D018382||SNOMED:111567006,237559000,237560005,50375007||UMLS:C2940786||OMIM:188570:::ORPHA:398073:::ORPHA:300373:::UMLS:C1389851||ORPHA:2237\"}, {\"ner_chunk\": \"hydronephrosis\", \"begin\": 530, \"end\": 543, \"ner_label\": \"HP\", \"ner_confidence\": \"0.9873\", \"code\": \"HP:0000126\", \"resolution\": \"hydronephrosis\", \"all_k_codes\": \"HP:0000126:::HP:0006000:::HP:0000071:::HP:0000076:::HP:0003131:::HP:0000072:::HP:0030735:::HP:0100519:::HP:0008714:::HP:0000085:::HP:0000090:::HP:0000074:::HP:0012330:::HP:0000790:::HP:0008631:::HP:0011126:::HP:0025634:::HP:0000069:::HP:0100518\", \"all_k_resolutions\": \"hydronephrosis:::ureteral obstruction:::ureteral stenosis:::ureteral reflux:::cystinuria:::megaureter:::ureterovesical junction obstruction:::anuria:::ureterovesical stenosis:::horseshoe kidneys:::nephronophthisis:::ureteropelvic junction obstruction:::pyelonephritis:::hematuria:::ureteral dysgenesis:::nephroptosis:::abnormal ureter physiology:::ureter issue:::dysuria\", \"all_k_distances\": \"0.0000:::9.1860:::9.3845:::9.4042:::9.5770:::9.6477:::9.8434:::9.8623:::9.9959:::10.2200:::10.2844:::10.3470:::10.3513:::10.3764:::10.3783:::10.4374:::10.5331:::10.5432:::10.5472\", \"all_k_aux_labels\": \"MSH:D006869||SNOMED:43064006||UMLS:C0020295||ORPHA:1780:::MSH:D014517||SNOMED:20018005||UMLS:C0041956||ORPHA:93599:::SNOMED:95574003||UMLS:C0521618||ORPHA:2257:::MSH:D014718||SNOMED:197811007||UMLS:C0042580||ORPHA:2237:::MSH:D003555||SNOMED:85020001||UMLS:C0010691||ORPHA:163693:::SNOMED:69758005,95576001||UMLS:C0521620,C4020897||ORPHA:2241:::UMLS:C2609249:::MSH:D001002||SNOMED:2472002||UMLS:C0003460||ORPHA:90038:::UMLS:C4024633||ORPHA:314585:::MSH:D000069337||SNOMED:41729002||UMLS:C0221353||ORPHA:1772:::SNOMED:204958008||UMLS:C0687120||ORPHA:474:::MSH:C537373||SNOMED:95575002||UMLS:C0521619||ORPHA:261112:::MSH:D011704||SNOMED:45816000||UMLS:C0034186||ORPHA:533:::MSH:D006417||SNOMED:34436003,53298000||UMLS:C0018965||ORPHA:93598:::UMLS:C4024653||OMIM:274265:::UMLS:C1384594::::::UMLS:C1840382||ORPHA:1770:::MSH:D053159||SNOMED:49650001||UMLS:C0013428||ORPHA:79276\"}]}\n",
      "{\"predictions\": [{\"ner_chunk\": \"cough\", \"begin\": 63, \"end\": 67, \"ner_label\": \"HP\", \"ner_confidence\": \"0.932\", \"code\": \"HP:0012735\", \"resolution\": \"cough\", \"all_k_codes\": \"HP:0012735:::HP:0031245:::HP:0031247:::HP:0033121:::HP:0002098:::HP:0002094:::HP:0001609:::HP:0030828:::HP:0002795:::HP:0012764:::HP:0025095:::HP:0002104:::HP:0004885:::HP:0008376:::HP:0002015:::HP:0025144:::HP:0001742\", \"all_k_resolutions\": \"cough:::wet cough:::whooping cough:::barking cough:::breathing difficulties:::breathing difficulty:::hoarseness:::wheezing:::respiratory problem:::orthopnea:::sneeze:::apnea:::episodic difficulty breathing:::breathy speech:::swallowing difficulties:::shivering:::congestion of nose\", \"all_k_distances\": \"0.0000:::6.6824:::6.9902:::8.8540:::9.0417:::9.2651:::9.5332:::9.7235:::9.7884:::9.9335:::10.0228:::10.0361:::10.1292:::10.1296:::10.2351:::10.2353:::10.2585\", \"all_k_aux_labels\": \"MSH:D003371||SNOMED:263731006,272039006,49727002||UMLS:C0010200||ORPHA:83317:::ORPHA:31204:::::::::MSH:D004417||SNOMED:230145002,267036007,271825005||UMLS:C0013404,C0476273||ORPHA:26792:::MSH:D004417||SNOMED:230145002,267036007||UMLS:C0013404||ORPHA:26791:::MSH:D006685||SNOMED:50219008||UMLS:C0019825,C1854348||ORPHA:397973:::MSH:D012135||SNOMED:56018004||UMLS:C0043144||ORPHA:70588:::UMLS:C4025677||ORPHA:94068:::SNOMED:62744007||UMLS:C0085619||ORPHA:563::::::MSH:D001049||SNOMED:1023001,248583008||UMLS:C0003578||ORPHA:79241:::UMLS:C1844945||ORPHA:255210:::UMLS:C1834664||ORPHA:99771:::MSH:D003680||SNOMED:288939007,40739000||UMLS:C0011168||ORPHA:26791:::ORPHA:36238:::MSH:D015508||SNOMED:232209000,267100006,68235000||UMLS:C0027424,C0027429||ORPHA:79345\"}, {\"ner_chunk\": \"cough\", \"begin\": 91, \"end\": 95, \"ner_label\": \"HP\", \"ner_confidence\": \"0.9692\", \"code\": \"HP:0012735\", \"resolution\": \"cough\", \"all_k_codes\": \"HP:0012735:::HP:0031245:::HP:0031247:::HP:0033121:::HP:0002098:::HP:0002094:::HP:0001609:::HP:0030828:::HP:0002795:::HP:0012764:::HP:0025095:::HP:0002104:::HP:0004885:::HP:0008376:::HP:0002015:::HP:0025144:::HP:0001742\", \"all_k_resolutions\": \"cough:::wet cough:::whooping cough:::barking cough:::breathing difficulties:::breathing difficulty:::hoarseness:::wheezing:::respiratory problem:::orthopnea:::sneeze:::apnea:::episodic difficulty breathing:::breathy speech:::swallowing difficulties:::shivering:::congestion of nose\", \"all_k_distances\": \"0.0000:::6.6824:::6.9902:::8.8540:::9.0417:::9.2651:::9.5332:::9.7235:::9.7884:::9.9335:::10.0228:::10.0361:::10.1292:::10.1296:::10.2351:::10.2353:::10.2585\", \"all_k_aux_labels\": \"MSH:D003371||SNOMED:263731006,272039006,49727002||UMLS:C0010200||ORPHA:83317:::ORPHA:31204:::::::::MSH:D004417||SNOMED:230145002,267036007,271825005||UMLS:C0013404,C0476273||ORPHA:26792:::MSH:D004417||SNOMED:230145002,267036007||UMLS:C0013404||ORPHA:26791:::MSH:D006685||SNOMED:50219008||UMLS:C0019825,C1854348||ORPHA:397973:::MSH:D012135||SNOMED:56018004||UMLS:C0043144||ORPHA:70588:::UMLS:C4025677||ORPHA:94068:::SNOMED:62744007||UMLS:C0085619||ORPHA:563::::::MSH:D001049||SNOMED:1023001,248583008||UMLS:C0003578||ORPHA:79241:::UMLS:C1844945||ORPHA:255210:::UMLS:C1834664||ORPHA:99771:::MSH:D003680||SNOMED:288939007,40739000||UMLS:C0011168||ORPHA:26791:::ORPHA:36238:::MSH:D015508||SNOMED:232209000,267100006,68235000||UMLS:C0027424,C0027429||ORPHA:79345\"}, {\"ner_chunk\": \"fever\", \"begin\": 173, \"end\": 177, \"ner_label\": \"HP\", \"ner_confidence\": \"0.9686\", \"code\": \"HP:0001945\", \"resolution\": \"fever\", \"all_k_codes\": \"HP:0001945:::HP:0001954:::HP:0033399:::HP:0032323:::HP:0025215:::HP:0033087:::HP:0011134:::HP:0002013:::HP:0000282:::HP:0002018:::HP:0001955:::HP:0003193:::HP:0011172:::HP:0032249:::HP:0000989:::HP:0000969:::HP:0000975:::HP:0001017:::HP:0000713:::HP:0100809:::HP:0002315\", \"all_k_resolutions\": \"fever:::intermittent fever:::persistent fever:::periodic fever:::triggered by fever:::quotidian fever:::mild fever:::emesis:::facial edema:::nausea:::unexplained fevers:::hay fever:::complex fever fit:::valley fever:::itchy skin:::edema:::increased sweating:::anemic pallor:::agitation:::scalp tenderness:::headache\", \"all_k_distances\": \"0.0000:::4.2216:::4.3471:::5.4946:::6.9462:::7.5714:::8.3913:::9.5633:::9.6032:::9.6185:::9.7885:::9.9691:::10.0424:::10.1033:::10.1962:::10.2079:::10.2183:::10.2501:::10.3350:::10.3647:::10.3650\", \"all_k_aux_labels\": \"MSH:D005334||SNOMED:386661006,50177009||UMLS:C0015967||ORPHA:79276:::SNOMED:77957000||UMLS:C0277799||ORPHA:369939::::::ORPHA:2686::::::PMID:25220867:::SNOMED:304213008||UMLS:C0239574||ORPHA:1164:::MSH:D014839||SNOMED:249497008,300359004,422400008||UMLS:C0042963||ORPHA:26791:::SNOMED:445088006||UMLS:C0542571||ORPHA:221008:::MSH:D009325||SNOMED:422587007||UMLS:C0027497||ORPHA:79273:::UMLS:C1844662||ORPHA:642:::MSH:D065631||SNOMED:61582004||UMLS:C0847614,C2607914||ORPHA:2070:::MSH:D003294||SNOMED:433083002||UMLS:C0751057||ORPHA:33069::::::MSH:D011537||SNOMED:279333002,418290006,418363000,424492005||UMLS:C0033774||ORPHA:79278:::MSH:D004487||SNOMED:20741006,267038008,423666004,79654002||UMLS:C0013604||ORPHA:79278:::MSH:D006945,D013546||SNOMED:161857006,312230002,364538006,415690000,415691001,52613005||UMLS:C0020458,C0038990,C0700590||ORPHA:79276:::UMLS:C4025811||ORPHA:86839:::SNOMED:24199005||UMLS:C0085631||ORPHA:369891:::SNOMED:75851004||UMLS:C0151206,C0240940,C4073183||ORPHA:2583:::MSH:D006261||SNOMED:25064002||UMLS:C0018681||ORPHA:247525\"}, {\"ner_chunk\": \"vomiting\", \"begin\": 248, \"end\": 255, \"ner_label\": \"HP\", \"ner_confidence\": \"0.9931\", \"code\": \"HP:0002013\", \"resolution\": \"vomiting\", \"all_k_codes\": \"HP:0002013:::HP:0025089:::HP:0002018:::HP:0002017:::HP:0002572:::HP:0025144:::HP:0002587:::HP:0003270:::HP:0009926:::HP:0001046:::HP:0000713:::HP:0031733:::HP:0000980:::HP:0001336:::HP:0002307:::HP:0002524:::HP:0002248:::HP:0030207:::HP:0002329:::HP:0007209\", \"all_k_resolutions\": \"vomiting:::fecal vomiting:::nausea:::nausea and vomiting:::episodic vomiting:::shuddering:::projectile vomiting:::bloating:::tearing:::intermittent icterus:::agitation:::reflex tearing:::pallor:::jerking:::drooling:::cataplexy:::vomitting blood:::paradoxical breathing:::drowsiness:::facial paresis\", \"all_k_distances\": \"0.0000:::6.6951:::7.1486:::7.3891:::7.5123:::7.6550:::8.1170:::8.1545:::8.3047:::8.5117:::8.5880:::8.6600:::8.6751:::8.7056:::8.7922:::8.8139:::8.9427:::8.9586:::8.9660:::9.0032\", \"all_k_aux_labels\": \"MSH:D014839||SNOMED:249497008,300359004,422400008||UMLS:C0042963||ORPHA:26791::::::MSH:D009325||SNOMED:422587007||UMLS:C0027497||ORPHA:79273:::SNOMED:16932000||UMLS:C0027498||ORPHA:79276:::UMLS:C1838993,C1857202||ORPHA:79273:::ORPHA:36238:::SNOMED:8579004||UMLS:C0221151||ORPHA:33475:::SNOMED:41931001,60728008||UMLS:C0000731||ORPHA:79276:::MSH:D007766||SNOMED:193982009,418035005||UMLS:C0152227||ORPHA:100093:::UMLS:C4025805||ORPHA:100085:::SNOMED:24199005||UMLS:C0085631||ORPHA:369891::::::MSH:D010167||SNOMED:398979000||UMLS:C0030232||ORPHA:29822:::MSH:D009207||SNOMED:127324008,17450006||UMLS:C0027066,C1854302||ORPHA:79279:::MSH:D012798||SNOMED:275295002,53827007,62718007||UMLS:C0013132,C0037036||ORPHA:477673:::MSH:D002385||SNOMED:46263000||UMLS:C0007384||ORPHA:2073:::MSH:D006396||SNOMED:8765009||UMLS:C0018926||ORPHA:71272:::MSH:D005409||SNOMED:12025005,78011002||UMLS:C0016196,C0231852:::MSH:D012894||SNOMED:271782001,79519003||UMLS:C0013144||ORPHA:79243:::MSH:D005158||SNOMED:280816001,95666008||UMLS:C0015469,C0427055||ORPHA:569\"}, {\"ner_chunk\": \"skin rash\", \"begin\": 274, \"end\": 282, \"ner_label\": \"HP\", \"ner_confidence\": \"0.8408\", \"code\": \"HP:0000988\", \"resolution\": \"skin rash\", \"all_k_codes\": \"HP:0000988:::HP:0000992:::HP:0011123:::HP:0001000:::HP:0001041:::HP:0009762:::HP:0100658:::HP:0000951:::HP:0001581:::HP:0100276:::HP:0000989:::HP:0200036:::HP:0033605:::HP:0002965:::HP:0032007:::HP:0011354:::HP:0007427:::HP:0040189\", \"all_k_resolutions\": \"skin rash:::photosensitive skin rashes:::skin inflammation:::pigmentary skin changes:::facial erythema:::facial wrinkling:::skin infection:::skin abnormality:::cutaneous infections:::skin pits:::skin itching:::skin nodule:::pustular rash:::cutaneous anergy:::skin maceration:::generalised abnormality of skin:::reticulated skin pigmentation:::flaking skin\", \"all_k_distances\": \"0.0000:::5.5604:::7.0288:::8.2343:::8.3431:::8.4751:::8.5754:::8.6565:::8.7141:::8.7794:::8.8219:::8.8477:::8.8580:::8.8939:::8.9347:::8.9429:::8.9680:::9.0520\", \"all_k_aux_labels\": \"MSH:D005076||SNOMED:112625008,271807003||UMLS:C0015230||ORPHA:29822:::MSH:D010787||SNOMED:90128006||UMLS:C0349506||ORPHA:79278:::MSH:D003872||SNOMED:703938007||UMLS:C0011603,C3875321||ORPHA:26793:::UMLS:C1260926||ORPHA:79277:::MSH:D001821,D012393||SNOMED:20255002,271811009,398909004||UMLS:C0005874,C0035854,C0239488,C4020880||ORPHA:221008:::SNOMED:248194004||UMLS:C0262478||ORPHA:93932:::MSH:D002481,D017192||SNOMED:128045006,128936008,385627004||UMLS:C0007642,C0162627||ORPHA:229717:::MSH:D012868,D012871||SNOMED:199879009,95320005||UMLS:C0037268,C0037274||ORPHA:93552:::UMLS:C1853193||ORPHA:79277:::UMLS:C4020712,C4022172:::MSH:D011537||SNOMED:279333002,418290006,418363000,424492005||UMLS:C0033774||ORPHA:79278:::SNOMED:95319004||UMLS:C0037287||ORPHA:83313:::PMID:25029335:::UMLS:C1855781||OMIM:252250:::OMIM:615598:::UMLS:C4021157||ORPHA:94059:::UMLS:C3279575,C3279601||ORPHA:50815:::SNOMED:14411002,271767006||UMLS:C0237849||ORPHA:2269\"}, {\"ner_chunk\": \"cyanosis\", \"begin\": 288, \"end\": 295, \"ner_label\": \"HP\", \"ner_confidence\": \"0.9952\", \"code\": \"HP:0000961\", \"resolution\": \"cyanosis\", \"all_k_codes\": \"HP:0000961:::HP:0032556:::HP:0200048:::HP:0009914:::HP:0030764:::HP:0000418:::HP:0500164:::HP:0000458:::HP:0030207:::HP:0000486:::HP:0001281:::HP:0030319:::HP:0000980:::HP:0000970:::HP:0012378:::HP:0002524:::HP:0003270:::HP:0012375:::HP:0000473:::HP:0002312:::HP:0001289:::HP:0002321:::HP:0003401:::HP:0000973\", \"all_k_resolutions\": \"cyanosis:::circumoral cyanosis:::cyanotic episode:::cyclopia:::ochronosis:::pinched nose:::abnormal blood carbon dioxide level:::anosmia:::paradoxical respiration:::squint eyes:::tetany:::face weakness:::pallor:::anhydrosis:::malaise:::cataplexy:::bloating:::chemosis:::wry neck:::clumsiness:::confusion:::dizzy spell:::tingling:::cutaneous laxity\", \"all_k_distances\": \"0.0000:::5.1199:::6.3355:::9.7645:::10.1094:::10.1346:::10.1575:::10.2009:::10.2368:::10.3505:::10.4019:::10.4722:::10.5109:::10.5397:::10.5566:::10.5939:::10.5945:::10.6127:::10.6142:::10.6433:::10.6451:::10.6505:::10.6602:::10.6639\", \"all_k_aux_labels\": \"MSH:D003490||SNOMED:119419001,3415004||UMLS:C0010520||ORPHA:2257:::ORPHA:1949:::SNOMED:301795004||UMLS:C0578475||ORPHA:33069:::MSH:C562573||SNOMED:205798005||UMLS:C0266667||ORPHA:2165:::MSH:D009794||SNOMED:410042009||UMLS:C0028817||PMID:12501223:::UMLS:C1837761||ORPHA:363528::::::MSH:D000857||SNOMED:44169009||UMLS:C0003126||ORPHA:2250:::MSH:D005409||SNOMED:12025005,78011002||UMLS:C0016196,C0231852:::MSH:D013285||SNOMED:128602000,22066006||UMLS:C0038379||ORPHA:79279:::MSH:D013746||SNOMED:10629009||UMLS:C0039621||ORPHA:567:::UMLS:C4022514||ORPHA:247691:::MSH:D010167||SNOMED:398979000||UMLS:C0030232||ORPHA:29822:::MSH:D007007||SNOMED:14662005,39659002||UMLS:C0003028||ORPHA:441:::MSH:D005221||SNOMED:248274002,84229001||UMLS:C0015672||ORPHA:29822:::MSH:D002385||SNOMED:46263000||UMLS:C0007384||ORPHA:2073:::SNOMED:41931001,60728008||UMLS:C0000731||ORPHA:79276:::SNOMED:8148005||UMLS:C0271298||ORPHA:319251:::MSH:D014103||SNOMED:270476009,70070008,74333002||UMLS:C0040485,C0152116,C0949445||ORPHA:536467:::SNOMED:7006003||UMLS:C0233844||ORPHA:79239:::MSH:D003221||SNOMED:286933003||UMLS:C0009676||ORPHA:79276:::MSH:D004244,D014717||SNOMED:271789005,399090003,399153001,404640003||UMLS:C0012833,C0042571||ORPHA:79279:::MSH:D010292||SNOMED:91019004||UMLS:C0030554||ORPHA:79279:::MSH:C531660,D003483||SNOMED:58588007||UMLS:C0010495,C2930812,C4280606||ORPHA:357074\"}]}\n"
     ]
    }
   ],
   "source": [
    "process_s3_jsonlines_output_and_save(validation_jsonl_file_name)"
   ]
  },
  {
   "cell_type": "code",
   "execution_count": 21,
   "metadata": {
    "tags": []
   },
   "outputs": [
    {
     "name": "stderr",
     "output_type": "stream",
     "text": [
      "INFO:sagemaker:Deleting model with name: en-map-entity-hpo-resolver-pipe-2024-10-14-07-01-26-101\n"
     ]
    }
   ],
   "source": [
    "model.delete_model()"
   ]
  },
  {
   "cell_type": "markdown",
   "metadata": {},
   "source": [
    "### Unsubscribe to the listing (optional)"
   ]
  },
  {
   "cell_type": "markdown",
   "metadata": {
    "tags": []
   },
   "source": [
    "If you would like to unsubscribe to the model package, follow these steps. Before you cancel the subscription, ensure that you do not have any [deployable model](https://console.aws.amazon.com/sagemaker/home#/models) created from the model package or using the algorithm. Note - You can find this information by looking at the container name associated with the model. \n",
    "\n",
    "**Steps to unsubscribe to product from AWS Marketplace**:\n",
    "1. Navigate to __Machine Learning__ tab on [__Your Software subscriptions page__](https://aws.amazon.com/marketplace/ai/library?productType=ml&ref_=mlmp_gitdemo_indust)\n",
    "2. Locate the listing that you want to cancel the subscription for, and then choose __Cancel Subscription__  to cancel the subscription.\n",
    "\n"
   ]
  }
 ],
 "metadata": {
  "instance_type": "ml.t3.medium",
  "kernelspec": {
   "display_name": "conda_python3",
   "language": "python",
   "name": "conda_python3"
  },
  "language_info": {
   "codemirror_mode": {
    "name": "ipython",
    "version": 3
   },
   "file_extension": ".py",
   "mimetype": "text/x-python",
   "name": "python",
   "nbconvert_exporter": "python",
   "pygments_lexer": "ipython3",
   "version": "3.10.14"
  }
 },
 "nbformat": 4,
 "nbformat_minor": 4
}

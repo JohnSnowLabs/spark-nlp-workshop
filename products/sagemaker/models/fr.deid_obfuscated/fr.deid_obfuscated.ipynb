{
 "cells": [
  {
   "cell_type": "markdown",
   "metadata": {},
   "source": [
    "## 1. Subscribe to the model package"
   ]
  },
  {
   "cell_type": "markdown",
   "metadata": {},
   "source": [
    "To subscribe to the model package:\n",
    "1. Open the model package listing page: [Clinical De-identification for French](https://aws.amazon.com/marketplace/pp/prodview-yiju64qx2hokm).\n",
    "1. On the AWS Marketplace listing, click on the **Continue to subscribe** button.\n",
    "1. On the **Subscribe to this software** page, review and click on **\"Accept Offer\"** if you and your organization agrees with EULA, pricing, and support terms. \n",
    "1. Once you click on **Continue to configuration button** and then choose a **region**, you will see a **Product Arn** displayed. This is the model package ARN that you need to specify while creating a deployable model using Boto3. Copy the ARN corresponding to your region and specify the same in the following cell."
   ]
  },
  {
   "cell_type": "markdown",
   "metadata": {},
   "source": [
    "## Clinical Deidentification French\n",
    "\n",
    "Deidentification is essential for safeguarding patient privacy in clinical data, including texts, PDFs, images, and DICOM files containing Protected Health Information (PHI). PHI encompasses various health-related data, including common identifiers such as name, address, birth date, and Social Security Number.\n",
    "\n",
    "- **Model**: [fr.deid_obfuscated](https://nlp.johnsnowlabs.com/2023/06/17/clinical_deidentification_fr.html)\n",
    "- **Model Description**: This pipeline can be used to deidentify PHI information from medical texts in French. The pipeline can mask and obfuscate the following entities: DATE, AGE, SEX, PROFESSION, ORGANIZATION, PHONE, E-MAIL, ZIP, STREET, CITY, COUNTRY, PATIENT, DOCTOR, HOSPITAL, MEDICALRECORD, SSN, IDNUM, ACCOUNT, PLATE, USERNAME, URL, and IPADDR."
   ]
  },
  {
   "cell_type": "code",
   "execution_count": 1,
   "metadata": {
    "tags": []
   },
   "outputs": [],
   "source": [
    "model_package_arn = \"<Customer to specify Model package ARN corresponding to their AWS region>\""
   ]
  },
  {
   "cell_type": "code",
   "execution_count": null,
   "metadata": {
    "tags": []
   },
   "outputs": [],
   "source": [
    "import json\n",
    "import os\n",
    "import boto3\n",
    "import pandas as pd\n",
    "import sagemaker as sage\n",
    "from sagemaker import ModelPackage\n",
    "from sagemaker import get_execution_role\n",
    "from IPython.display import display\n",
    "from urllib.parse import urlparse"
   ]
  },
  {
   "cell_type": "code",
   "execution_count": null,
   "metadata": {
    "tags": []
   },
   "outputs": [],
   "source": [
    "sagemaker_session = sage.Session()\n",
    "s3_bucket = sagemaker_session.default_bucket()\n",
    "region = sagemaker_session.boto_region_name\n",
    "account_id = boto3.client(\"sts\").get_caller_identity().get(\"Account\")\n",
    "role = get_execution_role()\n",
    "\n",
    "sagemaker = boto3.client(\"sagemaker\")\n",
    "s3_client = sagemaker_session.boto_session.client(\"s3\")\n",
    "ecr = boto3.client(\"ecr\")\n",
    "sm_runtime = boto3.client(\"sagemaker-runtime\")\n",
    "\n",
    "# Set display options\n",
    "pd.set_option('display.max_rows', None)\n",
    "pd.set_option('display.max_columns', None)\n",
    "pd.set_option('display.max_colwidth', None)"
   ]
  },
  {
   "cell_type": "code",
   "execution_count": 4,
   "metadata": {
    "tags": []
   },
   "outputs": [],
   "source": [
    "model_name = \"fr-deid-obfuscated\"\n",
    "\n",
    "real_time_inference_instance_type = \"ml.m4.xlarge\"\n",
    "batch_transform_inference_instance_type = \"ml.m4.2xlarge\""
   ]
  },
  {
   "cell_type": "markdown",
   "metadata": {},
   "source": [
    "## 2. Create a deployable model from the model package."
   ]
  },
  {
   "cell_type": "code",
   "execution_count": 5,
   "metadata": {
    "tags": []
   },
   "outputs": [],
   "source": [
    "model = ModelPackage(\n",
    "    role=role, \n",
    "    model_package_arn=model_package_arn,\n",
    "    sagemaker_session=sagemaker_session,\n",
    ")"
   ]
  },
  {
   "cell_type": "markdown",
   "metadata": {},
   "source": [
    "### Input Format\n",
    "\n",
    "To use the model, you need to provide input in one of the following supported formats:\n",
    "\n",
    "#### JSON Format\n",
    "\n",
    "Provide input as JSON. We support two variations within this format:\n",
    "\n",
    "1. **Array of Text Documents**: \n",
    "   Use an array containing multiple text documents. Each element represents a separate text document.\n",
    "\n",
    "   ```json\n",
    "   {\n",
    "       \"text\": [\n",
    "           \"Text document 1\",\n",
    "           \"Text document 2\",\n",
    "           ...\n",
    "       ]\n",
    "   }\n",
    "\n",
    "    ```\n",
    "\n",
    "2. **Single Text Document**:\n",
    "   Provide a single text document as a string.\n",
    "\n",
    "\n",
    "   ```json\n",
    "    {\n",
    "        \"text\": \"Single text document\"\n",
    "    }\n",
    "   ```\n",
    "\n",
    "#### JSON Lines (JSONL) Format\n",
    "\n",
    "Provide input in JSON Lines format, where each line is a JSON object representing a text document.\n",
    "\n",
    "```\n",
    "{\"text\": \"Text document 1\"}\n",
    "{\"text\": \"Text document 2\"}\n",
    "```\n",
    "\n",
    "### Important Parameters\n",
    "\n",
    "- **masking_policy**: `str`\n",
    "\n",
    "    Users can select a masking policy to determine how sensitive entities are handled:\n",
    "\n",
    "    Example: \"**PRENOM : Éric, NOM : Lejeune, NUMÉRO DE SÉCURITÉ SOCIALE : 2730235238020, ADRESSE : 74 Boulevard Riou, VILLE : Sainte Annenec**\"\n",
    "\n",
    "    - **masked**: Default policy that masks entities with their type.\n",
    "\n",
    "      -> 'PRENOM : `<PATIENT>`, NOM : `<PATIENT>`, NUMÉRO DE SÉCURITÉ SOCIALE : `<SSN>`, ADRESSE : `<STREET>`, VILLE : `<CITY>`'\n",
    "\n",
    "    - **obfuscated**: Replaces sensitive entities with random values of the same type.\n",
    "\n",
    "      -> 'PRENOM : `Mlle Goncalves`, NOM : `Mme Garnier-Roussel`, NUMÉRO DE SÉCURITÉ SOCIALE : `129022554007724`, ADRESSE : `avenue de Mahe`, VILLE : `Meyer-sur-Lemoine`'\n",
    "\n",
    "    - **masked_fixed_length_chars**: Masks entities with a fixed length of asterisks (\\*).\n",
    "\n",
    "      -> 'PRENOM : `****`, NOM : `****`, NUMÉRO DE SÉCURITÉ SOCIALE : `****`, ADRESSE : `****`, VILLE : `****`'\n",
    "\n",
    "    - **masked_with_chars**: Masks entities with asterisks (\\*).\n",
    "\n",
    "      -> 'PRENOM : [`**`], NOM : [`*****`], NUMÉRO DE SÉCURITÉ SOCIALE : [`***********`], ADRESSE : [`***************`], VILLE : [`************`]'\n",
    "\n",
    "- **sep**: `str`\n",
    "\n",
    "    Separator used to join subparts within each prediction.\n",
    "\n",
    "    By default, the separator is set to a single space (\" \"), but users can specify any other separator as needed. Necessary because the model outputs predictions as separate subparts, and the chosen separator is used to join them into coherent text.\n",
    "\n",
    "    The separator must be one of the following characters: space (' '), newline ('\\n'), comma (','), tab ('\\t'), or colon (':').\n",
    "    \n",
    "You can specify these parameters in the input as follows:\n",
    "\n",
    "```json\n",
    "{\n",
    "    \"text\": [\n",
    "        \"Text document 1\",\n",
    "        \"Text document 2\",\n",
    "        ...\n",
    "    ],\n",
    "    \"masking_policy\": \"masked\",\n",
    "    \"sep\": \" \",\n",
    "}\n",
    "```"
   ]
  },
  {
   "cell_type": "markdown",
   "metadata": {},
   "source": [
    "## 3. Create an endpoint and perform real-time inference"
   ]
  },
  {
   "cell_type": "markdown",
   "metadata": {},
   "source": [
    "If you want to understand how real-time inference with Amazon SageMaker works, see [Documentation](https://docs.aws.amazon.com/sagemaker/latest/dg/how-it-works-hosting.html)."
   ]
  },
  {
   "cell_type": "markdown",
   "metadata": {},
   "source": [
    "### A. Deploy the SageMaker model to an endpoint"
   ]
  },
  {
   "cell_type": "code",
   "execution_count": null,
   "metadata": {
    "tags": []
   },
   "outputs": [],
   "source": [
    "predictor = model.deploy(\n",
    "    initial_instance_count=1,\n",
    "    instance_type=real_time_inference_instance_type, \n",
    "    endpoint_name=model_name,\n",
    ")"
   ]
  },
  {
   "cell_type": "markdown",
   "metadata": {},
   "source": [
    "Once endpoint has been created, you would be able to perform real-time inference."
   ]
  },
  {
   "cell_type": "code",
   "execution_count": 7,
   "metadata": {
    "tags": []
   },
   "outputs": [],
   "source": [
    "def invoke_realtime_endpoint(record, content_type=\"application/json\", accept=\"application/json\"):\n",
    "    response = sm_runtime.invoke_endpoint(\n",
    "        EndpointName=model_name,\n",
    "        ContentType=content_type,\n",
    "        Accept=accept,\n",
    "        Body=json.dumps(record) if content_type == \"application/json\" else record,\n",
    "    )\n",
    "\n",
    "    response_body = response[\"Body\"].read().decode(\"utf-8\")\n",
    "\n",
    "    if accept == \"application/json\":\n",
    "        return json.loads(response_body)\n",
    "    elif accept == \"application/jsonlines\":\n",
    "        return response_body\n",
    "    else:\n",
    "        raise ValueError(f\"Unsupported accept type: {accept}\")"
   ]
  },
  {
   "cell_type": "markdown",
   "metadata": {},
   "source": [
    "### Initial Setup"
   ]
  },
  {
   "cell_type": "code",
   "execution_count": 8,
   "metadata": {
    "tags": []
   },
   "outputs": [],
   "source": [
    "docs = [\n",
    "'''PRENOM : Jean, NOM : Dubois, NUMÉRO DE SÉCURITÉ SOCIALE : 1780160471058, ADRESSE : 18 Avenue Matabia... \n",
    "PRENOM : Jean, NOM : Dubois, NUMÉRO DE SÉCURITÉ SOCIALE : 1780160471058, ADRESSE : 18 Avenue Matabiau, VILLE : Grenoble\n",
    "CODE POSTAL : 38000, DATE DE NAISSANCE : 03/03/1946, Âge : 70 ans , Sexe : H, NUMÉRO DE TÉLÉPHONE : 06-777413307, COURRIEL : jdubois@hotmail.fr, DATE D'ADMISSION : 12/12/2016\n",
    "MÉDÉCIN : Dr Michel Renaud, RAPPORT CLINIQUE : 70 ans, retraité, sans allergie médicamenteuse connue, qui présente comme antécédents : ancien accident du travail avec fractures vertébrales et des côtes ; opéré de la maladie de Dupuytren à la main droite et d'un pontage ilio-fémoral gauche ; diabète de type II, hypercholestérolémie et hyperuricémie ; alcoolisme actif, fume 20 cigarettes / jour.\n",
    "Jean Dubois nous a été adressé car il présentait une hématurie macroscopique postmictionnelle à une occasion et une microhématurie persistante par la suite, avec une miction normale.\n",
    "L'examen physique a montré un bon état général, avec un abdomen et des organes génitaux normaux ; le toucher rectal était compatible avec un adénome de la prostate de grade I/IV.\n",
    "L'analyse d'urine a montré 4 globules rouges/champ et 0-5 leucocytes/champ ; le reste du sédiment était normal.\n",
    "Hémogramme normal ; la biochimie a montré une glycémie de 169 mg/dl et des triglycérides de 456 mg/dl ; les fonctions hépatiques et rénales étaient normales. PSA de 1,16 ng/ml.\n",
    "ADDRESSÉ À : Dre Marie Breton - Centre Hospitalier de Bellevue Service D'Endocrinologie et de Nutrition - Rue Paulin Bussières, 38000 Grenoble\n",
    "COURRIEL : mariebreton@chb.fr\n",
    "NUMÉRO DE TÉLÉPHONE : 06-34567890''',\n",
    "\n",
    "'''PRENOM : Éric, NOM : Lejeune, NUMÉRO DE SÉCURITÉ SOCIALE : 2730235238020, ADRESSE : 74 Boulevard Rio... \n",
    "PRENOM : Éric, NOM : Lejeune, NUMÉRO DE SÉCURITÉ SOCIALE : 2730235238020, ADRESSE : 74 Boulevard Riou, VILLE : Sainte Annenec\n",
    "CODE POSTAL : 49722, DATE DE NAISSANCE : 10/06/1980, Âge : 38 ans , Sexe : H, NUMÉRO DE TÉLÉPHONE : 06-90123456. COURRIEL : elej@free.fr, DATE D'ADMISSION : 08/11/2018\n",
    "MÉDÉCIN : Dre Martine Da Costa, RAPPORT CLINIQUE : \n",
    "Antécédents : Éric Lejeune de 38 ans, évalué en consultation pour une coxalgie droite d'un an et demi d'évolution, de caractéristiques mécaniques. Éric Lejeune a signalé une douleur à l'exercice et une légère limitation de la mobilité dans certaines postures. Mécanicien de profession, pendant son temps libre, Éric Lejeune faisait du vélo (40 km par jour le week-end), courait 3 fois par semaine pendant 50 minutes et marchait pendant une heure les jours où il ne courait pas. La douleur a progressivement augmenté et elle ne fait actuellement que marcher.\n",
    "EXAMEN PHYSIQUE : L'examen physique a révélé une douleur à la palpation dans le tiers moyen de la région inguinale droite avec une douleur à la flexion, à l'adduction et à la rotation, surtout à la rotation interne (manœuvre de choc positif). L'équilibre de l'articulation de la hanche est de 110o de flexion bilatérale, 10o de rotation interne droite, 40o de rotation interne gauche et 30o de rotation externe droite, 40o de rotation externe gauche. L'équilibre musculaire sur l'échelle de Daniels est 5/5 global bilatéral. Pas de douleur à la palpation des points sciatiques et les manœuvres de Valleix, Fabere, Lasegue et Bragard sont négatives. Pas non plus de douleur à la palpation de la bandelette iliotibiale et le test d'Ober était négatif. A l'examen de la marche, nous avons observé une absence de claudication et la posture monopodale alternée droite-gauche était stable, avec un Trendelenburg négatif. Le patient avait des douleurs lors de la marche avec une flexion forcée de la hanche et du genou.\n",
    "Examens complémentaires : Une radiologie ordinaire antéropostérieure (AP) a montré une déformation en forme de bosse dans la région fémorale cervicale droite. L'hémogramme, la biochimie, les hormones thyroïdiennes, les anticorps et les réactifs de phase aiguë requis étaient normaux.\n",
    "Au vu de ces résultats, une IRM de la hanche a été demandée, qui a montré de légères modifications sous-chondrales, avec un œdème osseux dans la hanche droite, avec une irrégularité corticale et une légère synovite dans l'interligne articulaire, avec une distension de la bourse ilio-psoas. La tête fémorale présente un petit îlot osseux et l'angle alpha est supérieur à 50o. L'arthrographie montre un pincement de l'interligne articulaire antéro-supérieur et postéro-inférieur, un col fémoral ostéophytique naissant avec de petites lésions sous-chondrales antéro-supérieures de la tête fémorale et de petits foyers d'œdème dans l'acétabulum antéro-supérieur. Pas de nécrose avasculaire ni de lésions du labrum. Une lésion kystique juxta-articulaire est également observée en regard du grand trochanter.\n",
    "Evolution : Avec le diagnostic de syndrome de conflit fémoroacétabulaire de type LEVA (également connu sous le nom de CAM), le patient s'est vu prescrire un traitement par magnétothérapie (15 séances) pour améliorer les symptômes de la douleur et le trophisme osseux.\n",
    "Éric Lejeune a été adressé à l'unité d'arthroscopie du service de traumatologie pour une évaluation de la chirurgie arthroscopique.\n",
    "Diagnostic principal : syndrome du conflit fémoroacétabulaire de type LEVA.\n",
    "TRAITEMENT : Un traitement pharmacologique est prescrit avec une combinaison de glucosamine-chondroïtine sulfate par voie orale 400 mg toutes les 12 heures pendant 3 mois et des anti-inflammatoires non stéroïdiens si nécessaire en cas de douleur. Elle a pour consigne de se reposer dans les sports pour éviter tout choc à l'articulation, avec une activité active contrôlée, en recommandant de ne pas dépasser 90 degrés de flexion de la hanche et d'éviter la rotation. Prenez rendez-vous pour un suivi une fois les sulfates de glucosamine-chondroïtine terminés afin de constater une amélioration clinique. Appelez le numéro des soins et des rendez-vous précédents de l'hôpital : 0470892301.\n",
    "ADDRESSÉ À : Pr Diane Martinez - Centre Hospitalier Saint Louis - 30 Rue Garcia, 49000 Angers\n",
    "COURRIEL : dmartinez@chsl.fr\n",
    "NUMÉRO DE TÉLÉPHONE : 06-44006512'''\n",
    "\n",
    "]\n",
    "\n",
    "\n",
    "sample_text = \"\"\"PRENOM : Aurélie\n",
    "NOM : Perrier\n",
    "NUMÉRO DE SÉCURITÉ SOCIALE : 2190150502008\n",
    "ADRESSE : 8 Rue Faivre\n",
    "VIL... \n",
    "PRENOM : Aurélie\n",
    "NOM : Perrier\n",
    "NUMÉRO DE SÉCURITÉ SOCIALE : 2190150502008\n",
    "ADRESSE : 8 Rue Faivre\n",
    "VILLE : Bousquet\n",
    "CODE POSTAL : 11631\n",
    "DATE DE NAISSANCE : 22/10/1960\n",
    "Âge : 44 ans \n",
    "Sexe : Femme\n",
    "COURRIEL : aurelieprr@orange.fr\n",
    "DATE D'ADMISSION : 31/12/2004\n",
    "MÉDÉCIN : Dr Alain Bouvet\n",
    "RAPPORT CLINIQUE : \n",
    "Motif de l'admission : Aurélie Perrier âgée de 44 ans, adressée à notre unité en raison d'une augmentation de volume dans la région zygomatique et d'une limitation progressive de l'ouverture de la bouche depuis 10 mois. Les antécédents médicaux n'étaient pas pertinents. \n",
    "Examen : L'examen physique extraoral a montré une asymétrie faciale due à une augmentation de volume de la joue gauche, de limites diffuses, de consistance osseuse, indolore, avec une peau d'apparence normale. L'ouverture de la bouche était de 30 mm. L'articulation temporomandibulaire (ATM) était normale à la palpation, avec des bruits ou des douleurs à l'ouverture. Sur l'orthopantomographie, nous avons observé une hypertrophie du processus coronoïde gauche. L'hypothèse diagnostique était une tumeur coronoïde.\n",
    "Tests complémentaires et évolution : Une incision a été pratiquée sur le bord antérieur du ramus mandibulaire, en désinsérant toutes les insertions du muscle temporal. Une pseudocapsule fibreuse a été trouvée autour de l'élargissement, qui a été libérée. Une coronoïdectomie a été effectuée. L'ouverture buccale a été immédiatement restaurée à 43 mm. L'évolution postopératoire s'est déroulée sans incident avec une sortie de l'hôpital après 48 heures.\n",
    "L'étude histopathologique a signalé la présence de fibres, d'os de néoformation et de tissu cartilagineux hyalin. Les contrôles ultérieurs se sont déroulés sans incident. La sortie définitive a été donnée à 10 mois, avec un remodelage presque complet de la déformation des joues.\n",
    "ADDRESSÉ À : Dr Joseph Pasquier - Centre Hospitalier de Carcassonne - 1060 Chemin de la Madeleine, 11000 Carcassonne\n",
    "NUMÉRO DE TÉLÉPHONE : 06-71105388\n",
    "COURRIEL : pasquier@orange.fr\"\"\""
   ]
  },
  {
   "cell_type": "markdown",
   "metadata": {},
   "source": [
    "### JSON"
   ]
  },
  {
   "cell_type": "markdown",
   "metadata": {},
   "source": [
    "#### Example 1: masked (default-policy)"
   ]
  },
  {
   "cell_type": "code",
   "execution_count": 9,
   "metadata": {
    "tags": []
   },
   "outputs": [
    {
     "data": {
      "text/html": [
       "<div>\n",
       "<style scoped>\n",
       "    .dataframe tbody tr th:only-of-type {\n",
       "        vertical-align: middle;\n",
       "    }\n",
       "\n",
       "    .dataframe tbody tr th {\n",
       "        vertical-align: top;\n",
       "    }\n",
       "\n",
       "    .dataframe thead th {\n",
       "        text-align: right;\n",
       "    }\n",
       "</style>\n",
       "<table border=\"1\" class=\"dataframe\">\n",
       "  <thead>\n",
       "    <tr style=\"text-align: right;\">\n",
       "      <th></th>\n",
       "      <th>predictions</th>\n",
       "    </tr>\n",
       "  </thead>\n",
       "  <tbody>\n",
       "    <tr>\n",
       "      <th>0</th>\n",
       "      <td>PRENOM : &lt;PATIENT&gt; NOM : &lt;PATIENT&gt; NUMÉRO DE SÉCURITÉ SOCIALE : &lt;SSN&gt; ADRESSE : &lt;CITY&gt;. .. \\nPRENOM : &lt;PATIENT&gt; NOM : &lt;PATIENT&gt; NUMÉRO DE SÉCURITÉ SOCIALE : &lt;SSN&gt; ADRESSE : &lt;STREET&gt; VILLE : &lt;CITY&gt; CODE POSTAL : &lt;ZIP&gt; DATE DE NAISSANCE : &lt;DATE&gt; Âge : &lt;AGE&gt; Sexe : &lt;SEX&gt; COURRIEL : &lt;E-MAIL&gt;\\nDATE D'ADMISSION : &lt;DATE&gt; MÉDÉCIN : &lt;DOCTOR&gt; RAPPORT CLINIQUE : \\nMotif de l'admission : &lt;PATIENT&gt; âgée de &lt;AGE&gt;ans, adressée à notre unité en raison d'une augmentation de volume dans la région zygomatique et d'une limitation progressive de l'ouverture de la bouche depuis 10 mois. &lt;CITY&gt; antécédents médicaux n'étaient pas pertinents. Examen : L'examen physique extraoral a montré une asymétrie faciale due à une augmentation de volume de la joue gauche, de limites diffuses, de consistance osseuse, indolore, avec une peau d'apparence normale. L'ouverture de la bouche était de 30 mm. L'articulation temporomandibulaire (ATM) était normale à la palpation, avec des bruits ou des douleurs à l'ouverture. Sur l'orthopantomographie, nous avons observé une hypertrophie du processus coronoïde gauche. L'hypothèse diagnostique était une tumeur coronoïde. Tests complémentaires et évolution : Une incision a été pratiquée sur le bord antérieur du ramus mandibulaire, en désinsérant toutes les insertions du muscle temporal. Une pseudocapsule fibreuse a été trouvée autour de l'élargissement, qui a été libérée. Une coronoïdectomie a été effectuée. L'ouverture buccale a été immédiatement restaurée à 43 mm. L'évolution postopératoire s'est déroulée sans incident avec une sortie de l'hôpital après 48 heures. L'étude histopathologique a signalé la présence de fibres, d'os de néoformation et de tissu cartilagineux hyalin. &lt;CITY&gt; contrôles ultérieurs se sont déroulés sans incident. La sortie définitive a été donnée à 10 mois, avec un remodelage presque complet de la déformation des joues. ADDRESSÉ À : &lt;DOCTOR&gt; - &lt;HOSPITAL&gt;, &lt;ZIP&gt;&lt;CITY&gt; NUMÉRO DE TÉLÉPHONE : &lt;PHONE&gt; COURRIEL : &lt;E-MAIL&gt;. fr</td>\n",
       "    </tr>\n",
       "  </tbody>\n",
       "</table>\n",
       "</div>"
      ],
      "text/plain": [
       "                                                                                                                                                                                                                                                                                                                                                                                                                                                                                                                                                                                                                                                                                                                                                                                                                                                                                                                                                                                                                                                                                                                                                                                                                                                                                                                                                                                                                                                                                                                                                                                                                                                                                                                                                                                                                                                                                                                                                                                                                                                   predictions\n",
       "0  PRENOM : <PATIENT> NOM : <PATIENT> NUMÉRO DE SÉCURITÉ SOCIALE : <SSN> ADRESSE : <CITY>. .. \\nPRENOM : <PATIENT> NOM : <PATIENT> NUMÉRO DE SÉCURITÉ SOCIALE : <SSN> ADRESSE : <STREET> VILLE : <CITY> CODE POSTAL : <ZIP> DATE DE NAISSANCE : <DATE> Âge : <AGE> Sexe : <SEX> COURRIEL : <E-MAIL>\\nDATE D'ADMISSION : <DATE> MÉDÉCIN : <DOCTOR> RAPPORT CLINIQUE : \\nMotif de l'admission : <PATIENT> âgée de <AGE>ans, adressée à notre unité en raison d'une augmentation de volume dans la région zygomatique et d'une limitation progressive de l'ouverture de la bouche depuis 10 mois. <CITY> antécédents médicaux n'étaient pas pertinents. Examen : L'examen physique extraoral a montré une asymétrie faciale due à une augmentation de volume de la joue gauche, de limites diffuses, de consistance osseuse, indolore, avec une peau d'apparence normale. L'ouverture de la bouche était de 30 mm. L'articulation temporomandibulaire (ATM) était normale à la palpation, avec des bruits ou des douleurs à l'ouverture. Sur l'orthopantomographie, nous avons observé une hypertrophie du processus coronoïde gauche. L'hypothèse diagnostique était une tumeur coronoïde. Tests complémentaires et évolution : Une incision a été pratiquée sur le bord antérieur du ramus mandibulaire, en désinsérant toutes les insertions du muscle temporal. Une pseudocapsule fibreuse a été trouvée autour de l'élargissement, qui a été libérée. Une coronoïdectomie a été effectuée. L'ouverture buccale a été immédiatement restaurée à 43 mm. L'évolution postopératoire s'est déroulée sans incident avec une sortie de l'hôpital après 48 heures. L'étude histopathologique a signalé la présence de fibres, d'os de néoformation et de tissu cartilagineux hyalin. <CITY> contrôles ultérieurs se sont déroulés sans incident. La sortie définitive a été donnée à 10 mois, avec un remodelage presque complet de la déformation des joues. ADDRESSÉ À : <DOCTOR> - <HOSPITAL>, <ZIP><CITY> NUMÉRO DE TÉLÉPHONE : <PHONE> COURRIEL : <E-MAIL>. fr"
      ]
     },
     "execution_count": 9,
     "metadata": {},
     "output_type": "execute_result"
    }
   ],
   "source": [
    "input_json_data = {\"text\": sample_text}\n",
    "response_json = invoke_realtime_endpoint(input_json_data, content_type=\"application/json\", accept=\"application/json\")\n",
    "pd.DataFrame(response_json)"
   ]
  },
  {
   "cell_type": "markdown",
   "metadata": {},
   "source": [
    "#### Example 2: obfuscated"
   ]
  },
  {
   "cell_type": "code",
   "execution_count": 11,
   "metadata": {
    "tags": []
   },
   "outputs": [
    {
     "data": {
      "text/html": [
       "<div>\n",
       "<style scoped>\n",
       "    .dataframe tbody tr th:only-of-type {\n",
       "        vertical-align: middle;\n",
       "    }\n",
       "\n",
       "    .dataframe tbody tr th {\n",
       "        vertical-align: top;\n",
       "    }\n",
       "\n",
       "    .dataframe thead th {\n",
       "        text-align: right;\n",
       "    }\n",
       "</style>\n",
       "<table border=\"1\" class=\"dataframe\">\n",
       "  <thead>\n",
       "    <tr style=\"text-align: right;\">\n",
       "      <th></th>\n",
       "      <th>predictions</th>\n",
       "    </tr>\n",
       "  </thead>\n",
       "  <tbody>\n",
       "    <tr>\n",
       "      <th>0</th>\n",
       "      <td>PRENOM : Mme Lacombe NOM : M. Besson NUMÉRO DE SÉCURITÉ SOCIALE : 1869829291997 ADRESSE : Faivre-sur-Andre. .. \\nPRENOM : Mme Lacombe NOM : M. Besson NUMÉRO DE SÉCURITÉ SOCIALE : 1869829291997 ADRESSE : 77, rue Timothée Bourgeois VILLE : Michaud-sur-Carpentier CODE POSTAL : 11831 DATE DE NAISSANCE : 22/10/1960 Âge : 48 ans Sexe : Homme COURRIEL : margotpichon@ifrance.com\\nDATE D'ADMISSION : 31/12/2004 MÉDÉCIN : Dr. Nicolas RAPPORT CLINIQUE : \\nMotif de l'admission : Mme Thibaut du Hebert âgée de 48ans, adressée à notre unité en raison d'une augmentation de volume dans la région zygomatique et d'une limitation progressive de l'ouverture de la bouche depuis 10 mois. Saint Nicolas antécédents médicaux n'étaient pas pertinents. Examen : L'examen physique extraoral a montré une asymétrie faciale due à une augmentation de volume de la joue gauche, de limites diffuses, de consistance osseuse, indolore, avec une peau d'apparence normale. L'ouverture de la bouche était de 30 mm. L'articulation temporomandibulaire (ATM) était normale à la palpation, avec des bruits ou des douleurs à l'ouverture. Sur l'orthopantomographie, nous avons observé une hypertrophie du processus coronoïde gauche. L'hypothèse diagnostique était une tumeur coronoïde. Tests complémentaires et évolution : Une incision a été pratiquée sur le bord antérieur du ramus mandibulaire, en désinsérant toutes les insertions du muscle temporal. Une pseudocapsule fibreuse a été trouvée autour de l'élargissement, qui a été libérée. Une coronoïdectomie a été effectuée. L'ouverture buccale a été immédiatement restaurée à 43 mm. L'évolution postopératoire s'est déroulée sans incident avec une sortie de l'hôpital après 48 heures. L'étude histopathologique a signalé la présence de fibres, d'os de néoformation et de tissu cartilagineux hyalin. Saint Nicolas contrôles ultérieurs se sont déroulés sans incident. La sortie définitive a été donnée à 10 mois, avec un remodelage presque complet de la déformation des joues. ADDRESSÉ À : Dre. Claude-Margaux Charrier - CENTRE HOSPITALIER ALPES ISERE, 11222Potier NUMÉRO DE TÉLÉPHONE : 84-37781966 COURRIEL : weissolivier@noos.fr. fr</td>\n",
       "    </tr>\n",
       "  </tbody>\n",
       "</table>\n",
       "</div>"
      ],
      "text/plain": [
       "                                                                                                                                                                                                                                                                                                                                                                                                                                                                                                                                                                                                                                                                                                                                                                                                                                                                                                                                                                                                                                                                                                                                                                                                                                                                                                                                                                                                                                                                                                                                                                                                                                                                                                                                                                                                                                                                                                                                                                                                                                                                                                                                                                                                                              predictions\n",
       "0  PRENOM : Mme Lacombe NOM : M. Besson NUMÉRO DE SÉCURITÉ SOCIALE : 1869829291997 ADRESSE : Faivre-sur-Andre. .. \\nPRENOM : Mme Lacombe NOM : M. Besson NUMÉRO DE SÉCURITÉ SOCIALE : 1869829291997 ADRESSE : 77, rue Timothée Bourgeois VILLE : Michaud-sur-Carpentier CODE POSTAL : 11831 DATE DE NAISSANCE : 22/10/1960 Âge : 48 ans Sexe : Homme COURRIEL : margotpichon@ifrance.com\\nDATE D'ADMISSION : 31/12/2004 MÉDÉCIN : Dr. Nicolas RAPPORT CLINIQUE : \\nMotif de l'admission : Mme Thibaut du Hebert âgée de 48ans, adressée à notre unité en raison d'une augmentation de volume dans la région zygomatique et d'une limitation progressive de l'ouverture de la bouche depuis 10 mois. Saint Nicolas antécédents médicaux n'étaient pas pertinents. Examen : L'examen physique extraoral a montré une asymétrie faciale due à une augmentation de volume de la joue gauche, de limites diffuses, de consistance osseuse, indolore, avec une peau d'apparence normale. L'ouverture de la bouche était de 30 mm. L'articulation temporomandibulaire (ATM) était normale à la palpation, avec des bruits ou des douleurs à l'ouverture. Sur l'orthopantomographie, nous avons observé une hypertrophie du processus coronoïde gauche. L'hypothèse diagnostique était une tumeur coronoïde. Tests complémentaires et évolution : Une incision a été pratiquée sur le bord antérieur du ramus mandibulaire, en désinsérant toutes les insertions du muscle temporal. Une pseudocapsule fibreuse a été trouvée autour de l'élargissement, qui a été libérée. Une coronoïdectomie a été effectuée. L'ouverture buccale a été immédiatement restaurée à 43 mm. L'évolution postopératoire s'est déroulée sans incident avec une sortie de l'hôpital après 48 heures. L'étude histopathologique a signalé la présence de fibres, d'os de néoformation et de tissu cartilagineux hyalin. Saint Nicolas contrôles ultérieurs se sont déroulés sans incident. La sortie définitive a été donnée à 10 mois, avec un remodelage presque complet de la déformation des joues. ADDRESSÉ À : Dre. Claude-Margaux Charrier - CENTRE HOSPITALIER ALPES ISERE, 11222Potier NUMÉRO DE TÉLÉPHONE : 84-37781966 COURRIEL : weissolivier@noos.fr. fr"
      ]
     },
     "execution_count": 11,
     "metadata": {},
     "output_type": "execute_result"
    }
   ],
   "source": [
    "input_json_data = {\"text\": sample_text, \"masking_policy\": \"obfuscated\"}\n",
    "response_json = invoke_realtime_endpoint(input_json_data, content_type=\"application/json\", accept=\"application/json\")\n",
    "pd.DataFrame(response_json)"
   ]
  },
  {
   "cell_type": "markdown",
   "metadata": {},
   "source": [
    "### JSON Lines"
   ]
  },
  {
   "cell_type": "code",
   "execution_count": 13,
   "metadata": {
    "tags": []
   },
   "outputs": [],
   "source": [
    "def create_jsonl(records, masking_policy=None):\n",
    "    json_records = []\n",
    "\n",
    "    if isinstance(records, str):\n",
    "        records = [records]\n",
    "\n",
    "    for text in records:\n",
    "        record = {\"text\": text}\n",
    "\n",
    "        if masking_policy is not None:\n",
    "            record[\"masking_policy\"] = masking_policy\n",
    "        json_records.append(record)\n",
    "\n",
    "    json_lines = '\\n'.join(json.dumps(record, ensure_ascii=False) for record in json_records)\n",
    "    return json_lines\n"
   ]
  },
  {
   "cell_type": "markdown",
   "metadata": {},
   "source": [
    "#### Example 1: masked (default-policy)"
   ]
  },
  {
   "cell_type": "code",
   "execution_count": 14,
   "metadata": {
    "tags": []
   },
   "outputs": [
    {
     "name": "stdout",
     "output_type": "stream",
     "text": [
      "{\"predictions\": \"PRENOM : <PATIENT> NOM : <PATIENT> NUMÉRO DE SÉCURITÉ SOCIALE : <SSN> ADRESSE : <CITY>. .. \\nPRENOM : <PATIENT> NOM : <PATIENT> NUMÉRO DE SÉCURITÉ SOCIALE : <SSN> ADRESSE : <STREET> VILLE : <CITY> CODE POSTAL : <ZIP> DATE DE NAISSANCE : <DATE> Âge : <AGE> Sexe : <SEX> COURRIEL : <E-MAIL>\\nDATE D'ADMISSION : <DATE> MÉDÉCIN : <DOCTOR> RAPPORT CLINIQUE : \\nMotif de l'admission : <PATIENT> âgée de <AGE>ans, adressée à notre unité en raison d'une augmentation de volume dans la région zygomatique et d'une limitation progressive de l'ouverture de la bouche depuis 10 mois. <CITY> antécédents médicaux n'étaient pas pertinents. Examen : L'examen physique extraoral a montré une asymétrie faciale due à une augmentation de volume de la joue gauche, de limites diffuses, de consistance osseuse, indolore, avec une peau d'apparence normale. L'ouverture de la bouche était de 30 mm. L'articulation temporomandibulaire (ATM) était normale à la palpation, avec des bruits ou des douleurs à l'ouverture. Sur l'orthopantomographie, nous avons observé une hypertrophie du processus coronoïde gauche. L'hypothèse diagnostique était une tumeur coronoïde. Tests complémentaires et évolution : Une incision a été pratiquée sur le bord antérieur du ramus mandibulaire, en désinsérant toutes les insertions du muscle temporal. Une pseudocapsule fibreuse a été trouvée autour de l'élargissement, qui a été libérée. Une coronoïdectomie a été effectuée. L'ouverture buccale a été immédiatement restaurée à 43 mm. L'évolution postopératoire s'est déroulée sans incident avec une sortie de l'hôpital après 48 heures. L'étude histopathologique a signalé la présence de fibres, d'os de néoformation et de tissu cartilagineux hyalin. <CITY> contrôles ultérieurs se sont déroulés sans incident. La sortie définitive a été donnée à 10 mois, avec un remodelage presque complet de la déformation des joues. ADDRESSÉ À : <DOCTOR> - <HOSPITAL>, <ZIP><CITY> NUMÉRO DE TÉLÉPHONE : <PHONE> COURRIEL : <E-MAIL>. fr\"}\n"
     ]
    }
   ],
   "source": [
    "input_jsonl_data = create_jsonl(sample_text, masking_policy=\"masked\")\n",
    "data = invoke_realtime_endpoint(input_jsonl_data, content_type=\"application/jsonlines\" , accept=\"application/jsonlines\" )\n",
    "print(data)"
   ]
  },
  {
   "cell_type": "markdown",
   "metadata": {},
   "source": [
    "#### Example 2: obfuscated"
   ]
  },
  {
   "cell_type": "code",
   "execution_count": 16,
   "metadata": {
    "tags": []
   },
   "outputs": [
    {
     "name": "stdout",
     "output_type": "stream",
     "text": [
      "{\"predictions\": \"PRENOM : Mme Lacombe NOM : M. Besson NUMÉRO DE SÉCURITÉ SOCIALE : 1869829291997 ADRESSE : Faivre-sur-Andre. .. \\nPRENOM : Mme Lacombe NOM : M. Besson NUMÉRO DE SÉCURITÉ SOCIALE : 1869829291997 ADRESSE : 77, rue Timothée Bourgeois VILLE : Michaud-sur-Carpentier CODE POSTAL : 11831 DATE DE NAISSANCE : 22/10/1960 Âge : 48 ans Sexe : Homme COURRIEL : margotpichon@ifrance.com\\nDATE D'ADMISSION : 31/12/2004 MÉDÉCIN : Dr. Nicolas RAPPORT CLINIQUE : \\nMotif de l'admission : Mme Thibaut du Hebert âgée de 48ans, adressée à notre unité en raison d'une augmentation de volume dans la région zygomatique et d'une limitation progressive de l'ouverture de la bouche depuis 10 mois. Saint Nicolas antécédents médicaux n'étaient pas pertinents. Examen : L'examen physique extraoral a montré une asymétrie faciale due à une augmentation de volume de la joue gauche, de limites diffuses, de consistance osseuse, indolore, avec une peau d'apparence normale. L'ouverture de la bouche était de 30 mm. L'articulation temporomandibulaire (ATM) était normale à la palpation, avec des bruits ou des douleurs à l'ouverture. Sur l'orthopantomographie, nous avons observé une hypertrophie du processus coronoïde gauche. L'hypothèse diagnostique était une tumeur coronoïde. Tests complémentaires et évolution : Une incision a été pratiquée sur le bord antérieur du ramus mandibulaire, en désinsérant toutes les insertions du muscle temporal. Une pseudocapsule fibreuse a été trouvée autour de l'élargissement, qui a été libérée. Une coronoïdectomie a été effectuée. L'ouverture buccale a été immédiatement restaurée à 43 mm. L'évolution postopératoire s'est déroulée sans incident avec une sortie de l'hôpital après 48 heures. L'étude histopathologique a signalé la présence de fibres, d'os de néoformation et de tissu cartilagineux hyalin. Saint Nicolas contrôles ultérieurs se sont déroulés sans incident. La sortie définitive a été donnée à 10 mois, avec un remodelage presque complet de la déformation des joues. ADDRESSÉ À : Dre. Claude-Margaux Charrier - CENTRE HOSPITALIER ALPES ISERE, 11222Potier NUMÉRO DE TÉLÉPHONE : 84-37781966 COURRIEL : weissolivier@noos.fr. fr\"}\n"
     ]
    }
   ],
   "source": [
    "input_jsonl_data = create_jsonl(sample_text, masking_policy=\"obfuscated\")\n",
    "data = invoke_realtime_endpoint(input_jsonl_data, content_type=\"application/jsonlines\" , accept=\"application/jsonlines\" )\n",
    "print(data)"
   ]
  },
  {
   "cell_type": "markdown",
   "metadata": {},
   "source": [
    "### B. Delete the endpoint"
   ]
  },
  {
   "cell_type": "markdown",
   "metadata": {},
   "source": [
    "Now that you have successfully performed a real-time inference, you do not need the endpoint any more. You can terminate the endpoint to avoid being charged."
   ]
  },
  {
   "cell_type": "code",
   "execution_count": null,
   "metadata": {
    "tags": []
   },
   "outputs": [],
   "source": [
    "model.sagemaker_session.delete_endpoint(model_name)\n",
    "model.sagemaker_session.delete_endpoint_config(model_name)"
   ]
  },
  {
   "cell_type": "markdown",
   "metadata": {
    "tags": []
   },
   "source": [
    "## 4. Batch inference"
   ]
  },
  {
   "cell_type": "code",
   "execution_count": 19,
   "metadata": {
    "tags": []
   },
   "outputs": [],
   "source": [
    "validation_input_json_path = f\"s3://{s3_bucket}/{model_name}/validation-input/json/\"\n",
    "validation_output_json_path = f\"s3://{s3_bucket}/{model_name}/validation-output/json/\"\n",
    "\n",
    "validation_input_jsonl_path = f\"s3://{s3_bucket}/{model_name}/validation-input/jsonl/\"\n",
    "validation_output_jsonl_path = f\"s3://{s3_bucket}/{model_name}/validation-output/jsonl/\"\n",
    "\n",
    "def upload_to_s3(input_data, file_name):\n",
    "    file_format = os.path.splitext(file_name)[1].lower()\n",
    "    s3_client.put_object(\n",
    "        Bucket=s3_bucket,\n",
    "        Key=f\"{model_name}/validation-input/{file_format[1:]}/{file_name}\",\n",
    "        Body=input_data.encode(\"UTF-8\"),\n",
    "    )"
   ]
  },
  {
   "cell_type": "code",
   "execution_count": 20,
   "metadata": {
    "tags": []
   },
   "outputs": [],
   "source": [
    "# Create JSON and JSON Lines data\n",
    "input_json_data = {\n",
    "    \"input1.json\": json.dumps({\"text\": docs, \"masking_policy\": \"masked\"}, ensure_ascii=False),\n",
    "    \"input2.json\": json.dumps({\"text\": docs, \"masking_policy\": \"obfuscated\"}, ensure_ascii=False),\n",
    "    \"input3.json\": json.dumps({\"text\": docs, \"masking_policy\": \"masked_fixed_length_chars\"}, ensure_ascii=False),\n",
    "    \"input4.json\": json.dumps({\"text\": docs, \"masking_policy\": \"masked_with_chars\"}, ensure_ascii=False),\n",
    "}\n",
    "\n",
    "input_jsonl_data = {\n",
    "    \"input1.jsonl\": create_jsonl(docs, masking_policy=\"masked\"),\n",
    "    \"input2.jsonl\": create_jsonl(docs, masking_policy=\"obfuscated\"),\n",
    "    \"input3.jsonl\": create_jsonl(docs, masking_policy=\"masked_fixed_length_chars\"),\n",
    "    \"input4.jsonl\": create_jsonl(docs, masking_policy=\"masked_with_chars\")\n",
    "}\n",
    "\n",
    "# Upload JSON and JSON Lines data to S3\n",
    "for file_name, data in input_json_data.items():\n",
    "    upload_to_s3(data, file_name)\n",
    "\n",
    "for file_name, data in input_jsonl_data.items():\n",
    "    upload_to_s3(data, file_name)\n"
   ]
  },
  {
   "cell_type": "markdown",
   "metadata": {
    "tags": []
   },
   "source": [
    "### JSON"
   ]
  },
  {
   "cell_type": "code",
   "execution_count": null,
   "metadata": {
    "tags": []
   },
   "outputs": [],
   "source": [
    "transformer = model.transformer(\n",
    "    instance_count=1,\n",
    "    instance_type=batch_transform_inference_instance_type,\n",
    "    accept=\"application/json\",\n",
    "    output_path=validation_output_json_path\n",
    ")\n",
    "\n",
    "transformer.transform(validation_input_json_path, content_type=\"application/json\")\n",
    "transformer.wait()"
   ]
  },
  {
   "cell_type": "code",
   "execution_count": null,
   "metadata": {
    "tags": []
   },
   "outputs": [],
   "source": [
    "def retrieve_json_output_from_s3(validation_file_name):\n",
    "    parsed_url = urlparse(transformer.output_path)\n",
    "    file_key = f\"{parsed_url.path[1:]}{validation_file_name}.out\"\n",
    "    response = s3_client.get_object(Bucket=s3_bucket, Key=file_key)\n",
    "\n",
    "    data = json.loads(response[\"Body\"].read().decode(\"utf-8\"))\n",
    "    display(data)"
   ]
  },
  {
   "cell_type": "code",
   "execution_count": 23,
   "metadata": {
    "tags": []
   },
   "outputs": [
    {
     "name": "stdout",
     "output_type": "stream",
     "text": [
      "Masking policy: masked\n"
     ]
    },
    {
     "data": {
      "text/plain": [
       "{'predictions': [\"PRENOM : Jean, NOM : Dubois, NUMÉRO DE SÉCURITÉ SOCIALE : <SSN>, ADRESSE : 18 Avenue Matabia. .. \\nPRENOM : Jean, NOM : Dubois, NUMÉRO DE SÉCURITÉ SOCIALE : <SSN>, ADRESSE : <STREET>, VILLE : <CITY> CODE POSTAL : <ZIP> DATE DE NAISSANCE : <DATE>, Âge : <AGE> , Sexe : <SEX>, NUMÉRO DE TÉLÉPHONE : <PHONE>, COURRIEL : <E-MAIL>, DATE D'ADMISSION : <DATE> MÉDÉCIN : <DOCTOR>, RAPPORT CLINIQUE : <AGE>ans, retraité, sans allergie médicamenteuse connue, qui présente comme antécédents : ancien accident du travail avec fractures vertébrales et des côtes ; opéré de la maladie de Dupuytren à la main droite et d'un pontage ilio-fémoral gauche ; diabète de type II, hypercholestérolémie et hyperuricémie ; alcoolisme actif, fume 20 cigarettes / jour. <PATIENT> nous a été adressé car <SEX> présentait une hématurie macroscopique postmictionnelle à une occasion et une microhématurie persistante par la suite, avec une miction normale. L'examen physique a montré un bon état général, avec un abdomen et des organes génitaux normaux ; le toucher rectal était compatible avec un adénome de la prostate de grade I/IV. L'analyse d'urine a montré 4 globules rouges/champ et 0-5 leucocytes/champ ; le reste du sédiment était normal.\\nHémogramme normal ; la biochimie a montré une glycémie de 169 mg/dl et des triglycérides de 456 mg/dl ; les fonctions hépatiques et rénales étaient normales. PSA de 1,16 ng/ml. ADDRESSÉ À : <DOCTOR> - <HOSPITAL> Service D'Endocrinologie et de Nutrition - <STREET>, <ZIP><CITY> COURRIEL : <E-MAIL>\\nNUMÉRO DE TÉLÉPHONE : <PHONE>\",\n",
       "  \"PRENOM : Éric, NOM : <PATIENT>, NUMÉRO DE SÉCURITÉ SOCIALE : <SSN>, ADRESSE : <AGE> Boulevard Rio. .. \\nPRENOM : Éric, NOM : <PATIENT>, NUMÉRO DE SÉCURITÉ SOCIALE : <SSN>, ADRESSE : <STREET>, VILLE : <CITY> CODE POSTAL : <ZIP> DATE DE NAISSANCE : <DATE>, Âge : <AGE> , Sexe : <SEX>, NUMÉRO DE TÉLÉPHONE : <PHONE>. COURRIEL : <E-MAIL>, DATE D'ADMISSION : <DATE> MÉDÉCIN : <DOCTOR>, RAPPORT CLINIQUE : \\nAntécédents : <PATIENT> de <AGE>, évalué en consultation pour une coxalgie droite d'un an et demi d'évolution, de caractéristiques mécaniques. <PATIENT> a signalé une douleur à l'exercice et une légère limitation de la mobilité dans certaines postures. <PROFESSION> de profession, pendant son temps libre, <PATIENT> faisait du vélo (40 km par jour le week-end), courait 3 fois par semaine pendant 50 minutes et marchait pendant une heure les jours où <SEX> ne courait pas. La douleur a progressivement augmenté et <SEX> ne fait actuellement que marcher. EXAMEN PHYSIQUE : L'examen physique a révélé une douleur à la palpation dans le tiers moyen de la région inguinale droite avec une douleur à la flexion, à l'adduction et à la rotation, surtout à la rotation interne (manœuvre de choc positif). L'équilibre de l'articulation de la hanche est de 110o de flexion bilatérale, 10o de rotation interne droite, 40o de rotation interne gauche et 30o de rotation externe droite, 40o de rotation externe gauche. L'équilibre musculaire sur l'échelle de Daniels est 5/5 global bilatéral. Pas de douleur à la palpation des points sciatiques et les manœuvres de Valleix, Fabere, Lasegue et Bragard sont négatives. Pas non plus de douleur à la palpation de la bandelette iliotibiale et le test d'Ober était négatif. A l'examen de la marche, nous avons observé une absence de claudication et la posture monopodale alternée droite-gauche était stable, avec un Trendelenburg négatif. Le <SEX> avait des douleurs lors de la marche avec une flexion forcée de la hanche et du genou. Examens complémentaires : Une radiologie ordinaire antéropostérieure (AP) a montré une déformation en forme de bosse dans la région fémorale cervicale droite. L'hémogramme, la biochimie, les hormones thyroïdiennes, les anticorps et les réactifs de phase aiguë requis étaient normaux. Au vu de ces résultats, une IRM de la hanche a été demandée, qui a montré de légères modifications sous-chondrales, avec un œdème osseux dans la hanche droite, avec une irrégularité corticale et une légère synovite dans l'interligne articulaire, avec une distension de la bourse ilio-psoas. La tête fémorale présente un petit îlot osseux et l'angle alpha est supérieur à 50o. L'arthrographie montre un pincement de l'interligne articulaire antéro-supérieur et postéro-inférieur, un col fémoral ostéophytique naissant avec de petites lésions sous-chondrales antéro-supérieures de la tête fémorale et de petits foyers d'œdème dans l'acétabulum antéro-supérieur. Pas de nécrose avasculaire ni de lésions du labrum. Une lésion kystique juxta-articulaire est également observée en regard du grand trochanter. Evolution : Avec le diagnostic de syndrome de conflit fémoroacétabulaire de type LEVA (également connu sous le nom de CAM), le <SEX> s'est vu prescrire un traitement par magnétothérapie (15 séances) pour améliorer les symptômes de la douleur et le trophisme osseux. <PATIENT> a été adressé à l'unité d'arthroscopie du service de traumatologie pour une évaluation de la chirurgie arthroscopique. Diagnostic principal : syndrome du conflit fémoroacétabulaire de type LEVA. TRAITEMENT : Un traitement pharmacologique est prescrit avec une combinaison de glucosamine-chondroïtine sulfate par voie orale 400 mg toutes les 12 heures pendant 3 mois et des anti-inflammatoires non stéroïdiens si nécessaire en cas de douleur. <SEX> a pour consigne de se reposer dans les sports pour éviter tout choc à l'articulation, avec une activité active contrôlée, en recommandant de ne pas dépasser 90 degrés de flexion de la hanche et d'éviter la rotation. Prenez rendez-vous pour un suivi une fois les sulfates de <PROFESSION> terminés afin de constater une amélioration clinique. Appelez le numéro des soins et des rendez-vous précédents de l'hôpital : <PHONE>. ADDRESSÉ À : <DOCTOR> - <HOSPITAL> <STREET>, <ZIP><CITY> COURRIEL : <E-MAIL>. fr\\nNUMÉRO DE TÉLÉPHONE : <PHONE>\"]}"
      ]
     },
     "metadata": {},
     "output_type": "display_data"
    },
    {
     "name": "stdout",
     "output_type": "stream",
     "text": [
      "\n",
      "\n",
      "Masking policy: obfuscated\n"
     ]
    },
    {
     "data": {
      "text/plain": [
       "{'predictions': [\"PRENOM : Jean, NOM : Dubois, NUMÉRO DE SÉCURITÉ SOCIALE : 0691071560149, ADRESSE : 18 Avenue Matabia. .. \\nPRENOM : Jean, NOM : Dubois, NUMÉRO DE SÉCURITÉ SOCIALE : 0691071560149, ADRESSE : boulevard de Vallet, VILLE : Sainte Martin CODE POSTAL : 18000 DATE DE NAISSANCE : 03/03/1946, Âge : 75 ans , Sexe : Femme, NUMÉRO DE TÉLÉPHONE : 62-111057761, COURRIEL : georgeslemonnier@live.com, DATE D'ADMISSION : 12/12/2016 MÉDÉCIN : Dr. Sauvage, RAPPORT CLINIQUE : 75ans, retraité, sans allergie médicamenteuse connue, qui présente comme antécédents : ancien accident du travail avec fractures vertébrales et des côtes ; opéré de la maladie de Dupuytren à la main droite et d'un pontage ilio-fémoral gauche ; diabète de type II, hypercholestérolémie et hyperuricémie ; alcoolisme actif, fume 20 cigarettes / jour. Mme Alexandrie Brun nous a été adressé car Homme présentait une hématurie macroscopique postmictionnelle à une occasion et une microhématurie persistante par la suite, avec une miction normale. L'examen physique a montré un bon état général, avec un abdomen et des organes génitaux normaux ; le toucher rectal était compatible avec un adénome de la prostate de grade I/IV. L'analyse d'urine a montré 4 globules rouges/champ et 0-5 leucocytes/champ ; le reste du sédiment était normal.\\nHémogramme normal ; la biochimie a montré une glycémie de 169 mg/dl et des triglycérides de 456 mg/dl ; les fonctions hépatiques et rénales étaient normales. PSA de 1,16 ng/ml. ADDRESSÉ À : Dre. Martinez - CENTRE HOSPITALIER D'ORTHEZ Service D'Endocrinologie et de Nutrition - 3, rue de Thibault, 18000Sainte Martin COURRIEL : massecatherine@bouygtel.fr\\nNUMÉRO DE TÉLÉPHONE : 95-03254769\",\n",
       "  \"PRENOM : Éric, NOM : Gérard Ribeiro, NUMÉRO DE SÉCURITÉ SOCIALE : 5843546541353, ADRESSE : 79 Boulevard Rio. .. \\nPRENOM : Éric, NOM : Gérard Ribeiro, NUMÉRO DE SÉCURITÉ SOCIALE : 5843546541353, ADRESSE : 57, rue René Guillon, VILLE : Sainte Michelledan CODE POSTAL : 25300 DATE DE NAISSANCE : 10/06/1980, Âge : 21 ans , Sexe : Femme, NUMÉRO DE TÉLÉPHONE : 62-36587092. COURRIEL : anastasiebecker@gmail.com, DATE D'ADMISSION : 08/11/2018 MÉDÉCIN : Dr Stéphanie Perret, RAPPORT CLINIQUE : \\nAntécédents : Mme Adèle Maillot de Chauveau de 21 ans, évalué en consultation pour une coxalgie droite d'un an et demi d'évolution, de caractéristiques mécaniques. Mme Adèle Maillot de Chauveau a signalé une douleur à l'exercice et une légère limitation de la mobilité dans certaines postures. coordonnateur d'études cliniques de profession, pendant son temps libre, Mme Adèle Maillot de Chauveau faisait du vélo (40 km par jour le week-end), courait 3 fois par semaine pendant 50 minutes et marchait pendant une heure les jours où Homme ne courait pas. La douleur a progressivement augmenté et Femme ne fait actuellement que marcher. EXAMEN PHYSIQUE : L'examen physique a révélé une douleur à la palpation dans le tiers moyen de la région inguinale droite avec une douleur à la flexion, à l'adduction et à la rotation, surtout à la rotation interne (manœuvre de choc positif). L'équilibre de l'articulation de la hanche est de 110o de flexion bilatérale, 10o de rotation interne droite, 40o de rotation interne gauche et 30o de rotation externe droite, 40o de rotation externe gauche. L'équilibre musculaire sur l'échelle de Daniels est 5/5 global bilatéral. Pas de douleur à la palpation des points sciatiques et les manœuvres de Valleix, Fabere, Lasegue et Bragard sont négatives. Pas non plus de douleur à la palpation de la bandelette iliotibiale et le test d'Ober était négatif. A l'examen de la marche, nous avons observé une absence de claudication et la posture monopodale alternée droite-gauche était stable, avec un Trendelenburg négatif. Le Homme avait des douleurs lors de la marche avec une flexion forcée de la hanche et du genou. Examens complémentaires : Une radiologie ordinaire antéropostérieure (AP) a montré une déformation en forme de bosse dans la région fémorale cervicale droite. L'hémogramme, la biochimie, les hormones thyroïdiennes, les anticorps et les réactifs de phase aiguë requis étaient normaux. Au vu de ces résultats, une IRM de la hanche a été demandée, qui a montré de légères modifications sous-chondrales, avec un œdème osseux dans la hanche droite, avec une irrégularité corticale et une légère synovite dans l'interligne articulaire, avec une distension de la bourse ilio-psoas. La tête fémorale présente un petit îlot osseux et l'angle alpha est supérieur à 50o. L'arthrographie montre un pincement de l'interligne articulaire antéro-supérieur et postéro-inférieur, un col fémoral ostéophytique naissant avec de petites lésions sous-chondrales antéro-supérieures de la tête fémorale et de petits foyers d'œdème dans l'acétabulum antéro-supérieur. Pas de nécrose avasculaire ni de lésions du labrum. Une lésion kystique juxta-articulaire est également observée en regard du grand trochanter. Evolution : Avec le diagnostic de syndrome de conflit fémoroacétabulaire de type LEVA (également connu sous le nom de CAM), le Homme s'est vu prescrire un traitement par magnétothérapie (15 séances) pour améliorer les symptômes de la douleur et le trophisme osseux. Mme Adèle Maillot de Chauveau a été adressé à l'unité d'arthroscopie du service de traumatologie pour une évaluation de la chirurgie arthroscopique. Diagnostic principal : syndrome du conflit fémoroacétabulaire de type LEVA. TRAITEMENT : Un traitement pharmacologique est prescrit avec une combinaison de glucosamine-chondroïtine sulfate par voie orale 400 mg toutes les 12 heures pendant 3 mois et des anti-inflammatoires non stéroïdiens si nécessaire en cas de douleur. Homme a pour consigne de se reposer dans les sports pour éviter tout choc à l'articulation, avec une activité active contrôlée, en recommandant de ne pas dépasser 90 degrés de flexion de la hanche et d'éviter la rotation. Prenez rendez-vous pour un suivi une fois les sulfates de ingénieur radioprotection terminés afin de constater une amélioration clinique. Appelez le numéro des soins et des rendez-vous précédents de l'hôpital : 8238650987. ADDRESSÉ À : Pr. Georges Besnard - CENTRE HOSPITALIER DE SAINTONGE SAINTES 2, boulevard de Rousset, 14777Perez-la-Forêt COURRIEL : oimbert@yahoo.fr. fr\\nNUMÉRO DE TÉLÉPHONE : 39-77339625\"]}"
      ]
     },
     "metadata": {},
     "output_type": "display_data"
    },
    {
     "name": "stdout",
     "output_type": "stream",
     "text": [
      "\n",
      "\n",
      "Masking policy: masked_fixed_length_chars\n"
     ]
    },
    {
     "data": {
      "text/plain": [
       "{'predictions': [\"PRENOM : Jean, NOM : Dubois, NUMÉRO DE SÉCURITÉ SOCIALE : ****, ADRESSE : 18 Avenue Matabia. .. \\nPRENOM : Jean, NOM : Dubois, NUMÉRO DE SÉCURITÉ SOCIALE : ****, ADRESSE : ****, VILLE : **** CODE POSTAL : **** DATE DE NAISSANCE : ****, Âge : **** , Sexe : ****, NUMÉRO DE TÉLÉPHONE : ****, COURRIEL : ****, DATE D'ADMISSION : **** MÉDÉCIN : ****, RAPPORT CLINIQUE : ****ans, retraité, sans allergie médicamenteuse connue, qui présente comme antécédents : ancien accident du travail avec fractures vertébrales et des côtes ; opéré de la maladie de Dupuytren à la main droite et d'un pontage ilio-fémoral gauche ; diabète de type II, hypercholestérolémie et hyperuricémie ; alcoolisme actif, fume 20 cigarettes / jour. **** nous a été adressé car **** présentait une hématurie macroscopique postmictionnelle à une occasion et une microhématurie persistante par la suite, avec une miction normale. L'examen physique a montré un bon état général, avec un abdomen et des organes génitaux normaux ; le toucher rectal était compatible avec un adénome de la prostate de grade I/IV. L'analyse d'urine a montré 4 globules rouges/champ et 0-5 leucocytes/champ ; le reste du sédiment était normal.\\nHémogramme normal ; la biochimie a montré une glycémie de 169 mg/dl et des triglycérides de 456 mg/dl ; les fonctions hépatiques et rénales étaient normales. PSA de 1,16 ng/ml. ADDRESSÉ À : **** - **** Service D'Endocrinologie et de Nutrition - ****, ******** COURRIEL : ****\\nNUMÉRO DE TÉLÉPHONE : ****\",\n",
       "  \"PRENOM : Éric, NOM : ****, NUMÉRO DE SÉCURITÉ SOCIALE : ****, ADRESSE : **** Boulevard Rio. .. \\nPRENOM : Éric, NOM : ****, NUMÉRO DE SÉCURITÉ SOCIALE : ****, ADRESSE : ****, VILLE : **** CODE POSTAL : **** DATE DE NAISSANCE : ****, Âge : **** , Sexe : ****, NUMÉRO DE TÉLÉPHONE : ****. COURRIEL : ****, DATE D'ADMISSION : **** MÉDÉCIN : ****, RAPPORT CLINIQUE : \\nAntécédents : **** de ****, évalué en consultation pour une coxalgie droite d'un an et demi d'évolution, de caractéristiques mécaniques. **** a signalé une douleur à l'exercice et une légère limitation de la mobilité dans certaines postures. **** de profession, pendant son temps libre, **** faisait du vélo (40 km par jour le week-end), courait 3 fois par semaine pendant 50 minutes et marchait pendant une heure les jours où **** ne courait pas. La douleur a progressivement augmenté et **** ne fait actuellement que marcher. EXAMEN PHYSIQUE : L'examen physique a révélé une douleur à la palpation dans le tiers moyen de la région inguinale droite avec une douleur à la flexion, à l'adduction et à la rotation, surtout à la rotation interne (manœuvre de choc positif). L'équilibre de l'articulation de la hanche est de 110o de flexion bilatérale, 10o de rotation interne droite, 40o de rotation interne gauche et 30o de rotation externe droite, 40o de rotation externe gauche. L'équilibre musculaire sur l'échelle de Daniels est 5/5 global bilatéral. Pas de douleur à la palpation des points sciatiques et les manœuvres de Valleix, Fabere, Lasegue et Bragard sont négatives. Pas non plus de douleur à la palpation de la bandelette iliotibiale et le test d'Ober était négatif. A l'examen de la marche, nous avons observé une absence de claudication et la posture monopodale alternée droite-gauche était stable, avec un Trendelenburg négatif. Le **** avait des douleurs lors de la marche avec une flexion forcée de la hanche et du genou. Examens complémentaires : Une radiologie ordinaire antéropostérieure (AP) a montré une déformation en forme de bosse dans la région fémorale cervicale droite. L'hémogramme, la biochimie, les hormones thyroïdiennes, les anticorps et les réactifs de phase aiguë requis étaient normaux. Au vu de ces résultats, une IRM de la hanche a été demandée, qui a montré de légères modifications sous-chondrales, avec un œdème osseux dans la hanche droite, avec une irrégularité corticale et une légère synovite dans l'interligne articulaire, avec une distension de la bourse ilio-psoas. La tête fémorale présente un petit îlot osseux et l'angle alpha est supérieur à 50o. L'arthrographie montre un pincement de l'interligne articulaire antéro-supérieur et postéro-inférieur, un col fémoral ostéophytique naissant avec de petites lésions sous-chondrales antéro-supérieures de la tête fémorale et de petits foyers d'œdème dans l'acétabulum antéro-supérieur. Pas de nécrose avasculaire ni de lésions du labrum. Une lésion kystique juxta-articulaire est également observée en regard du grand trochanter. Evolution : Avec le diagnostic de syndrome de conflit fémoroacétabulaire de type LEVA (également connu sous le nom de CAM), le **** s'est vu prescrire un traitement par magnétothérapie (15 séances) pour améliorer les symptômes de la douleur et le trophisme osseux. **** a été adressé à l'unité d'arthroscopie du service de traumatologie pour une évaluation de la chirurgie arthroscopique. Diagnostic principal : syndrome du conflit fémoroacétabulaire de type LEVA. TRAITEMENT : Un traitement pharmacologique est prescrit avec une combinaison de glucosamine-chondroïtine sulfate par voie orale 400 mg toutes les 12 heures pendant 3 mois et des anti-inflammatoires non stéroïdiens si nécessaire en cas de douleur. **** a pour consigne de se reposer dans les sports pour éviter tout choc à l'articulation, avec une activité active contrôlée, en recommandant de ne pas dépasser 90 degrés de flexion de la hanche et d'éviter la rotation. Prenez rendez-vous pour un suivi une fois les sulfates de **** terminés afin de constater une amélioration clinique. Appelez le numéro des soins et des rendez-vous précédents de l'hôpital : ****. ADDRESSÉ À : **** - **** ****, ******** COURRIEL : ****. fr\\nNUMÉRO DE TÉLÉPHONE : ****\"]}"
      ]
     },
     "metadata": {},
     "output_type": "display_data"
    },
    {
     "name": "stdout",
     "output_type": "stream",
     "text": [
      "\n",
      "\n",
      "Masking policy: masked_with_chars\n"
     ]
    },
    {
     "data": {
      "text/plain": [
       "{'predictions': [\"PRENOM : Jean, NOM : Dubois, NUMÉRO DE SÉCURITÉ SOCIALE : [***********], ADRESSE : 18 Avenue Matabia. .. \\nPRENOM : Jean, NOM : Dubois, NUMÉRO DE SÉCURITÉ SOCIALE : [***********], ADRESSE : [****************], VILLE : [******] CODE POSTAL : [***] DATE DE NAISSANCE : [********], Âge : [****] , Sexe : *, NUMÉRO DE TÉLÉPHONE : [**********], COURRIEL : [****************], DATE D'ADMISSION : [********] MÉDÉCIN : [**************], RAPPORT CLINIQUE : **ans, retraité, sans allergie médicamenteuse connue, qui présente comme antécédents : ancien accident du travail avec fractures vertébrales et des côtes ; opéré de la maladie de Dupuytren à la main droite et d'un pontage ilio-fémoral gauche ; diabète de type II, hypercholestérolémie et hyperuricémie ; alcoolisme actif, fume 20 cigarettes / jour. [*********] nous a été adressé car ** présentait une hématurie macroscopique postmictionnelle à une occasion et une microhématurie persistante par la suite, avec une miction normale. L'examen physique a montré un bon état général, avec un abdomen et des organes génitaux normaux ; le toucher rectal était compatible avec un adénome de la prostate de grade I/IV. L'analyse d'urine a montré 4 globules rouges/champ et 0-5 leucocytes/champ ; le reste du sédiment était normal.\\nHémogramme normal ; la biochimie a montré une glycémie de 169 mg/dl et des triglycérides de 456 mg/dl ; les fonctions hépatiques et rénales étaient normales. PSA de 1,16 ng/ml. ADDRESSÉ À : [**************] - [****************************] Service D'Endocrinologie et de Nutrition - [******************], [***][******] COURRIEL : [****************]\\nNUMÉRO DE TÉLÉPHONE : [*********]\",\n",
       "  \"PRENOM : Éric, NOM : [*****], NUMÉRO DE SÉCURITÉ SOCIALE : [***********], ADRESSE : ** Boulevard Rio. .. \\nPRENOM : Éric, NOM : [*****], NUMÉRO DE SÉCURITÉ SOCIALE : [***********], ADRESSE : [***************], VILLE : [************] CODE POSTAL : [***] DATE DE NAISSANCE : [********], Âge : [****] , Sexe : *, NUMÉRO DE TÉLÉPHONE : [*********]. COURRIEL : [**********], DATE D'ADMISSION : [********] MÉDÉCIN : [******************], RAPPORT CLINIQUE : \\nAntécédents : [**********] de [****], évalué en consultation pour une coxalgie droite d'un an et demi d'évolution, de caractéristiques mécaniques. [**********] a signalé une douleur à l'exercice et une légère limitation de la mobilité dans certaines postures. [********] de profession, pendant son temps libre, [**********] faisait du vélo (40 km par jour le week-end), courait 3 fois par semaine pendant 50 minutes et marchait pendant une heure les jours où ** ne courait pas. La douleur a progressivement augmenté et [**] ne fait actuellement que marcher. EXAMEN PHYSIQUE : L'examen physique a révélé une douleur à la palpation dans le tiers moyen de la région inguinale droite avec une douleur à la flexion, à l'adduction et à la rotation, surtout à la rotation interne (manœuvre de choc positif). L'équilibre de l'articulation de la hanche est de 110o de flexion bilatérale, 10o de rotation interne droite, 40o de rotation interne gauche et 30o de rotation externe droite, 40o de rotation externe gauche. L'équilibre musculaire sur l'échelle de Daniels est 5/5 global bilatéral. Pas de douleur à la palpation des points sciatiques et les manœuvres de Valleix, Fabere, Lasegue et Bragard sont négatives. Pas non plus de douleur à la palpation de la bandelette iliotibiale et le test d'Ober était négatif. A l'examen de la marche, nous avons observé une absence de claudication et la posture monopodale alternée droite-gauche était stable, avec un Trendelenburg négatif. Le [*****] avait des douleurs lors de la marche avec une flexion forcée de la hanche et du genou. Examens complémentaires : Une radiologie ordinaire antéropostérieure (AP) a montré une déformation en forme de bosse dans la région fémorale cervicale droite. L'hémogramme, la biochimie, les hormones thyroïdiennes, les anticorps et les réactifs de phase aiguë requis étaient normaux. Au vu de ces résultats, une IRM de la hanche a été demandée, qui a montré de légères modifications sous-chondrales, avec un œdème osseux dans la hanche droite, avec une irrégularité corticale et une légère synovite dans l'interligne articulaire, avec une distension de la bourse ilio-psoas. La tête fémorale présente un petit îlot osseux et l'angle alpha est supérieur à 50o. L'arthrographie montre un pincement de l'interligne articulaire antéro-supérieur et postéro-inférieur, un col fémoral ostéophytique naissant avec de petites lésions sous-chondrales antéro-supérieures de la tête fémorale et de petits foyers d'œdème dans l'acétabulum antéro-supérieur. Pas de nécrose avasculaire ni de lésions du labrum. Une lésion kystique juxta-articulaire est également observée en regard du grand trochanter. Evolution : Avec le diagnostic de syndrome de conflit fémoroacétabulaire de type LEVA (également connu sous le nom de CAM), le [*****] s'est vu prescrire un traitement par magnétothérapie (15 séances) pour améliorer les symptômes de la douleur et le trophisme osseux. [**********] a été adressé à l'unité d'arthroscopie du service de traumatologie pour une évaluation de la chirurgie arthroscopique. Diagnostic principal : syndrome du conflit fémoroacétabulaire de type LEVA. TRAITEMENT : Un traitement pharmacologique est prescrit avec une combinaison de glucosamine-chondroïtine sulfate par voie orale 400 mg toutes les 12 heures pendant 3 mois et des anti-inflammatoires non stéroïdiens si nécessaire en cas de douleur. [**] a pour consigne de se reposer dans les sports pour éviter tout choc à l'articulation, avec une activité active contrôlée, en recommandant de ne pas dépasser 90 degrés de flexion de la hanche et d'éviter la rotation. Prenez rendez-vous pour un suivi une fois les sulfates de [**********************] terminés afin de constater une amélioration clinique. Appelez le numéro des soins et des rendez-vous précédents de l'hôpital : [********]. ADDRESSÉ À : [***************] - [*********************************] [********], [***][****] COURRIEL : [************]. fr\\nNUMÉRO DE TÉLÉPHONE : [*********]\"]}"
      ]
     },
     "metadata": {},
     "output_type": "display_data"
    },
    {
     "name": "stdout",
     "output_type": "stream",
     "text": [
      "\n",
      "\n"
     ]
    }
   ],
   "source": [
    "masking_policies = {\n",
    "    \"masked\": \"input1.json\",\n",
    "    \"obfuscated\": \"input2.json\",\n",
    "    \"masked_fixed_length_chars\": \"input3.json\",\n",
    "    \"masked_with_chars\": \"input4.json\",\n",
    "}\n",
    "\n",
    "for policy_name, validation_file_name in masking_policies.items():\n",
    "    print(f\"Masking policy: {policy_name}\")\n",
    "    retrieve_json_output_from_s3(validation_file_name)\n",
    "    print(\"\\n\")"
   ]
  },
  {
   "cell_type": "markdown",
   "metadata": {},
   "source": [
    "### JSON Lines"
   ]
  },
  {
   "cell_type": "code",
   "execution_count": null,
   "metadata": {
    "tags": []
   },
   "outputs": [],
   "source": [
    "transformer = model.transformer(\n",
    "    instance_count=1,\n",
    "    instance_type=batch_transform_inference_instance_type,\n",
    "    accept=\"application/jsonlines\",\n",
    "    output_path=validation_output_jsonl_path\n",
    ")\n",
    "transformer.transform(validation_input_jsonl_path, content_type=\"application/jsonlines\")\n",
    "transformer.wait()"
   ]
  },
  {
   "cell_type": "code",
   "execution_count": null,
   "metadata": {
    "tags": []
   },
   "outputs": [],
   "source": [
    "def retrieve_jsonlines_output_from_s3(validation_file_name):\n",
    "\n",
    "    parsed_url = urlparse(transformer.output_path)\n",
    "    file_key = f\"{parsed_url.path[1:]}{validation_file_name}.out\"\n",
    "    response = s3_client.get_object(Bucket=s3_bucket, Key=file_key)\n",
    "\n",
    "    data = response[\"Body\"].read().decode(\"utf-8\")\n",
    "    print(data)"
   ]
  },
  {
   "cell_type": "code",
   "execution_count": 26,
   "metadata": {
    "tags": []
   },
   "outputs": [
    {
     "name": "stdout",
     "output_type": "stream",
     "text": [
      "Masking policy: masked\n",
      "{\"predictions\": \"PRENOM : Jean, NOM : Dubois, NUMÉRO DE SÉCURITÉ SOCIALE : <SSN>, ADRESSE : 18 Avenue Matabia. .. \\nPRENOM : Jean, NOM : Dubois, NUMÉRO DE SÉCURITÉ SOCIALE : <SSN>, ADRESSE : <STREET>, VILLE : <CITY> CODE POSTAL : <ZIP> DATE DE NAISSANCE : <DATE>, Âge : <AGE> , Sexe : <SEX>, NUMÉRO DE TÉLÉPHONE : <PHONE>, COURRIEL : <E-MAIL>, DATE D'ADMISSION : <DATE> MÉDÉCIN : <DOCTOR>, RAPPORT CLINIQUE : <AGE>ans, retraité, sans allergie médicamenteuse connue, qui présente comme antécédents : ancien accident du travail avec fractures vertébrales et des côtes ; opéré de la maladie de Dupuytren à la main droite et d'un pontage ilio-fémoral gauche ; diabète de type II, hypercholestérolémie et hyperuricémie ; alcoolisme actif, fume 20 cigarettes / jour. <PATIENT> nous a été adressé car <SEX> présentait une hématurie macroscopique postmictionnelle à une occasion et une microhématurie persistante par la suite, avec une miction normale. L'examen physique a montré un bon état général, avec un abdomen et des organes génitaux normaux ; le toucher rectal était compatible avec un adénome de la prostate de grade I/IV. L'analyse d'urine a montré 4 globules rouges/champ et 0-5 leucocytes/champ ; le reste du sédiment était normal.\\nHémogramme normal ; la biochimie a montré une glycémie de 169 mg/dl et des triglycérides de 456 mg/dl ; les fonctions hépatiques et rénales étaient normales. PSA de 1,16 ng/ml. ADDRESSÉ À : <DOCTOR> - <HOSPITAL> Service D'Endocrinologie et de Nutrition - <STREET>, <ZIP><CITY> COURRIEL : <E-MAIL>\\nNUMÉRO DE TÉLÉPHONE : <PHONE>\"}\n",
      "{\"predictions\": \"PRENOM : Éric, NOM : <PATIENT>, NUMÉRO DE SÉCURITÉ SOCIALE : <SSN>, ADRESSE : <AGE> Boulevard Rio. .. \\nPRENOM : Éric, NOM : <PATIENT>, NUMÉRO DE SÉCURITÉ SOCIALE : <SSN>, ADRESSE : <STREET>, VILLE : <CITY> CODE POSTAL : <ZIP> DATE DE NAISSANCE : <DATE>, Âge : <AGE> , Sexe : <SEX>, NUMÉRO DE TÉLÉPHONE : <PHONE>. COURRIEL : <E-MAIL>, DATE D'ADMISSION : <DATE> MÉDÉCIN : <DOCTOR>, RAPPORT CLINIQUE : \\nAntécédents : <PATIENT> de <AGE>, évalué en consultation pour une coxalgie droite d'un an et demi d'évolution, de caractéristiques mécaniques. <PATIENT> a signalé une douleur à l'exercice et une légère limitation de la mobilité dans certaines postures. <PROFESSION> de profession, pendant son temps libre, <PATIENT> faisait du vélo (40 km par jour le week-end), courait 3 fois par semaine pendant 50 minutes et marchait pendant une heure les jours où <SEX> ne courait pas. La douleur a progressivement augmenté et <SEX> ne fait actuellement que marcher. EXAMEN PHYSIQUE : L'examen physique a révélé une douleur à la palpation dans le tiers moyen de la région inguinale droite avec une douleur à la flexion, à l'adduction et à la rotation, surtout à la rotation interne (manœuvre de choc positif). L'équilibre de l'articulation de la hanche est de 110o de flexion bilatérale, 10o de rotation interne droite, 40o de rotation interne gauche et 30o de rotation externe droite, 40o de rotation externe gauche. L'équilibre musculaire sur l'échelle de Daniels est 5/5 global bilatéral. Pas de douleur à la palpation des points sciatiques et les manœuvres de Valleix, Fabere, Lasegue et Bragard sont négatives. Pas non plus de douleur à la palpation de la bandelette iliotibiale et le test d'Ober était négatif. A l'examen de la marche, nous avons observé une absence de claudication et la posture monopodale alternée droite-gauche était stable, avec un Trendelenburg négatif. Le <SEX> avait des douleurs lors de la marche avec une flexion forcée de la hanche et du genou. Examens complémentaires : Une radiologie ordinaire antéropostérieure (AP) a montré une déformation en forme de bosse dans la région fémorale cervicale droite. L'hémogramme, la biochimie, les hormones thyroïdiennes, les anticorps et les réactifs de phase aiguë requis étaient normaux. Au vu de ces résultats, une IRM de la hanche a été demandée, qui a montré de légères modifications sous-chondrales, avec un œdème osseux dans la hanche droite, avec une irrégularité corticale et une légère synovite dans l'interligne articulaire, avec une distension de la bourse ilio-psoas. La tête fémorale présente un petit îlot osseux et l'angle alpha est supérieur à 50o. L'arthrographie montre un pincement de l'interligne articulaire antéro-supérieur et postéro-inférieur, un col fémoral ostéophytique naissant avec de petites lésions sous-chondrales antéro-supérieures de la tête fémorale et de petits foyers d'œdème dans l'acétabulum antéro-supérieur. Pas de nécrose avasculaire ni de lésions du labrum. Une lésion kystique juxta-articulaire est également observée en regard du grand trochanter. Evolution : Avec le diagnostic de syndrome de conflit fémoroacétabulaire de type LEVA (également connu sous le nom de CAM), le <SEX> s'est vu prescrire un traitement par magnétothérapie (15 séances) pour améliorer les symptômes de la douleur et le trophisme osseux. <PATIENT> a été adressé à l'unité d'arthroscopie du service de traumatologie pour une évaluation de la chirurgie arthroscopique. Diagnostic principal : syndrome du conflit fémoroacétabulaire de type LEVA. TRAITEMENT : Un traitement pharmacologique est prescrit avec une combinaison de glucosamine-chondroïtine sulfate par voie orale 400 mg toutes les 12 heures pendant 3 mois et des anti-inflammatoires non stéroïdiens si nécessaire en cas de douleur. <SEX> a pour consigne de se reposer dans les sports pour éviter tout choc à l'articulation, avec une activité active contrôlée, en recommandant de ne pas dépasser 90 degrés de flexion de la hanche et d'éviter la rotation. Prenez rendez-vous pour un suivi une fois les sulfates de <PROFESSION> terminés afin de constater une amélioration clinique. Appelez le numéro des soins et des rendez-vous précédents de l'hôpital : <PHONE>. ADDRESSÉ À : <DOCTOR> - <HOSPITAL> <STREET>, <ZIP><CITY> COURRIEL : <E-MAIL>. fr\\nNUMÉRO DE TÉLÉPHONE : <PHONE>\"}\n",
      "\n",
      "\n",
      "Masking policy: obfuscated\n",
      "{\"predictions\": \"PRENOM : Jean, NOM : Dubois, NUMÉRO DE SÉCURITÉ SOCIALE : 0691071560149, ADRESSE : 18 Avenue Matabia. .. \\nPRENOM : Jean, NOM : Dubois, NUMÉRO DE SÉCURITÉ SOCIALE : 0691071560149, ADRESSE : boulevard de Vallet, VILLE : Sainte Martin CODE POSTAL : 18000 DATE DE NAISSANCE : 03/03/1946, Âge : 75 ans , Sexe : Femme, NUMÉRO DE TÉLÉPHONE : 62-111057761, COURRIEL : georgeslemonnier@live.com, DATE D'ADMISSION : 12/12/2016 MÉDÉCIN : Dr. Sauvage, RAPPORT CLINIQUE : 75ans, retraité, sans allergie médicamenteuse connue, qui présente comme antécédents : ancien accident du travail avec fractures vertébrales et des côtes ; opéré de la maladie de Dupuytren à la main droite et d'un pontage ilio-fémoral gauche ; diabète de type II, hypercholestérolémie et hyperuricémie ; alcoolisme actif, fume 20 cigarettes / jour. Mme Alexandrie Brun nous a été adressé car Homme présentait une hématurie macroscopique postmictionnelle à une occasion et une microhématurie persistante par la suite, avec une miction normale. L'examen physique a montré un bon état général, avec un abdomen et des organes génitaux normaux ; le toucher rectal était compatible avec un adénome de la prostate de grade I/IV. L'analyse d'urine a montré 4 globules rouges/champ et 0-5 leucocytes/champ ; le reste du sédiment était normal.\\nHémogramme normal ; la biochimie a montré une glycémie de 169 mg/dl et des triglycérides de 456 mg/dl ; les fonctions hépatiques et rénales étaient normales. PSA de 1,16 ng/ml. ADDRESSÉ À : Dre. Martinez - CENTRE HOSPITALIER D'ORTHEZ Service D'Endocrinologie et de Nutrition - 3, rue de Thibault, 18000Sainte Martin COURRIEL : massecatherine@bouygtel.fr\\nNUMÉRO DE TÉLÉPHONE : 95-03254769\"}\n",
      "{\"predictions\": \"PRENOM : Éric, NOM : Gérard Ribeiro, NUMÉRO DE SÉCURITÉ SOCIALE : 5843546541353, ADRESSE : 79 Boulevard Rio. .. \\nPRENOM : Éric, NOM : Gérard Ribeiro, NUMÉRO DE SÉCURITÉ SOCIALE : 5843546541353, ADRESSE : 57, rue René Guillon, VILLE : Sainte Michelledan CODE POSTAL : 25300 DATE DE NAISSANCE : 10/06/1980, Âge : 21 ans , Sexe : Femme, NUMÉRO DE TÉLÉPHONE : 62-36587092. COURRIEL : anastasiebecker@gmail.com, DATE D'ADMISSION : 08/11/2018 MÉDÉCIN : Dr Stéphanie Perret, RAPPORT CLINIQUE : \\nAntécédents : Mme Adèle Maillot de Chauveau de 21 ans, évalué en consultation pour une coxalgie droite d'un an et demi d'évolution, de caractéristiques mécaniques. Mme Adèle Maillot de Chauveau a signalé une douleur à l'exercice et une légère limitation de la mobilité dans certaines postures. coordonnateur d'études cliniques de profession, pendant son temps libre, Mme Adèle Maillot de Chauveau faisait du vélo (40 km par jour le week-end), courait 3 fois par semaine pendant 50 minutes et marchait pendant une heure les jours où Homme ne courait pas. La douleur a progressivement augmenté et Femme ne fait actuellement que marcher. EXAMEN PHYSIQUE : L'examen physique a révélé une douleur à la palpation dans le tiers moyen de la région inguinale droite avec une douleur à la flexion, à l'adduction et à la rotation, surtout à la rotation interne (manœuvre de choc positif). L'équilibre de l'articulation de la hanche est de 110o de flexion bilatérale, 10o de rotation interne droite, 40o de rotation interne gauche et 30o de rotation externe droite, 40o de rotation externe gauche. L'équilibre musculaire sur l'échelle de Daniels est 5/5 global bilatéral. Pas de douleur à la palpation des points sciatiques et les manœuvres de Valleix, Fabere, Lasegue et Bragard sont négatives. Pas non plus de douleur à la palpation de la bandelette iliotibiale et le test d'Ober était négatif. A l'examen de la marche, nous avons observé une absence de claudication et la posture monopodale alternée droite-gauche était stable, avec un Trendelenburg négatif. Le Homme avait des douleurs lors de la marche avec une flexion forcée de la hanche et du genou. Examens complémentaires : Une radiologie ordinaire antéropostérieure (AP) a montré une déformation en forme de bosse dans la région fémorale cervicale droite. L'hémogramme, la biochimie, les hormones thyroïdiennes, les anticorps et les réactifs de phase aiguë requis étaient normaux. Au vu de ces résultats, une IRM de la hanche a été demandée, qui a montré de légères modifications sous-chondrales, avec un œdème osseux dans la hanche droite, avec une irrégularité corticale et une légère synovite dans l'interligne articulaire, avec une distension de la bourse ilio-psoas. La tête fémorale présente un petit îlot osseux et l'angle alpha est supérieur à 50o. L'arthrographie montre un pincement de l'interligne articulaire antéro-supérieur et postéro-inférieur, un col fémoral ostéophytique naissant avec de petites lésions sous-chondrales antéro-supérieures de la tête fémorale et de petits foyers d'œdème dans l'acétabulum antéro-supérieur. Pas de nécrose avasculaire ni de lésions du labrum. Une lésion kystique juxta-articulaire est également observée en regard du grand trochanter. Evolution : Avec le diagnostic de syndrome de conflit fémoroacétabulaire de type LEVA (également connu sous le nom de CAM), le Homme s'est vu prescrire un traitement par magnétothérapie (15 séances) pour améliorer les symptômes de la douleur et le trophisme osseux. Mme Adèle Maillot de Chauveau a été adressé à l'unité d'arthroscopie du service de traumatologie pour une évaluation de la chirurgie arthroscopique. Diagnostic principal : syndrome du conflit fémoroacétabulaire de type LEVA. TRAITEMENT : Un traitement pharmacologique est prescrit avec une combinaison de glucosamine-chondroïtine sulfate par voie orale 400 mg toutes les 12 heures pendant 3 mois et des anti-inflammatoires non stéroïdiens si nécessaire en cas de douleur. Homme a pour consigne de se reposer dans les sports pour éviter tout choc à l'articulation, avec une activité active contrôlée, en recommandant de ne pas dépasser 90 degrés de flexion de la hanche et d'éviter la rotation. Prenez rendez-vous pour un suivi une fois les sulfates de ingénieur radioprotection terminés afin de constater une amélioration clinique. Appelez le numéro des soins et des rendez-vous précédents de l'hôpital : 8238650987. ADDRESSÉ À : Pr. Georges Besnard - CENTRE HOSPITALIER DE SAINTONGE SAINTES 2, boulevard de Rousset, 14777Perez-la-Forêt COURRIEL : oimbert@yahoo.fr. fr\\nNUMÉRO DE TÉLÉPHONE : 39-77339625\"}\n",
      "\n",
      "\n",
      "Masking policy: masked_fixed_length_chars\n",
      "{\"predictions\": \"PRENOM : Jean, NOM : Dubois, NUMÉRO DE SÉCURITÉ SOCIALE : ****, ADRESSE : 18 Avenue Matabia. .. \\nPRENOM : Jean, NOM : Dubois, NUMÉRO DE SÉCURITÉ SOCIALE : ****, ADRESSE : ****, VILLE : **** CODE POSTAL : **** DATE DE NAISSANCE : ****, Âge : **** , Sexe : ****, NUMÉRO DE TÉLÉPHONE : ****, COURRIEL : ****, DATE D'ADMISSION : **** MÉDÉCIN : ****, RAPPORT CLINIQUE : ****ans, retraité, sans allergie médicamenteuse connue, qui présente comme antécédents : ancien accident du travail avec fractures vertébrales et des côtes ; opéré de la maladie de Dupuytren à la main droite et d'un pontage ilio-fémoral gauche ; diabète de type II, hypercholestérolémie et hyperuricémie ; alcoolisme actif, fume 20 cigarettes / jour. **** nous a été adressé car **** présentait une hématurie macroscopique postmictionnelle à une occasion et une microhématurie persistante par la suite, avec une miction normale. L'examen physique a montré un bon état général, avec un abdomen et des organes génitaux normaux ; le toucher rectal était compatible avec un adénome de la prostate de grade I/IV. L'analyse d'urine a montré 4 globules rouges/champ et 0-5 leucocytes/champ ; le reste du sédiment était normal.\\nHémogramme normal ; la biochimie a montré une glycémie de 169 mg/dl et des triglycérides de 456 mg/dl ; les fonctions hépatiques et rénales étaient normales. PSA de 1,16 ng/ml. ADDRESSÉ À : **** - **** Service D'Endocrinologie et de Nutrition - ****, ******** COURRIEL : ****\\nNUMÉRO DE TÉLÉPHONE : ****\"}\n",
      "{\"predictions\": \"PRENOM : Éric, NOM : ****, NUMÉRO DE SÉCURITÉ SOCIALE : ****, ADRESSE : **** Boulevard Rio. .. \\nPRENOM : Éric, NOM : ****, NUMÉRO DE SÉCURITÉ SOCIALE : ****, ADRESSE : ****, VILLE : **** CODE POSTAL : **** DATE DE NAISSANCE : ****, Âge : **** , Sexe : ****, NUMÉRO DE TÉLÉPHONE : ****. COURRIEL : ****, DATE D'ADMISSION : **** MÉDÉCIN : ****, RAPPORT CLINIQUE : \\nAntécédents : **** de ****, évalué en consultation pour une coxalgie droite d'un an et demi d'évolution, de caractéristiques mécaniques. **** a signalé une douleur à l'exercice et une légère limitation de la mobilité dans certaines postures. **** de profession, pendant son temps libre, **** faisait du vélo (40 km par jour le week-end), courait 3 fois par semaine pendant 50 minutes et marchait pendant une heure les jours où **** ne courait pas. La douleur a progressivement augmenté et **** ne fait actuellement que marcher. EXAMEN PHYSIQUE : L'examen physique a révélé une douleur à la palpation dans le tiers moyen de la région inguinale droite avec une douleur à la flexion, à l'adduction et à la rotation, surtout à la rotation interne (manœuvre de choc positif). L'équilibre de l'articulation de la hanche est de 110o de flexion bilatérale, 10o de rotation interne droite, 40o de rotation interne gauche et 30o de rotation externe droite, 40o de rotation externe gauche. L'équilibre musculaire sur l'échelle de Daniels est 5/5 global bilatéral. Pas de douleur à la palpation des points sciatiques et les manœuvres de Valleix, Fabere, Lasegue et Bragard sont négatives. Pas non plus de douleur à la palpation de la bandelette iliotibiale et le test d'Ober était négatif. A l'examen de la marche, nous avons observé une absence de claudication et la posture monopodale alternée droite-gauche était stable, avec un Trendelenburg négatif. Le **** avait des douleurs lors de la marche avec une flexion forcée de la hanche et du genou. Examens complémentaires : Une radiologie ordinaire antéropostérieure (AP) a montré une déformation en forme de bosse dans la région fémorale cervicale droite. L'hémogramme, la biochimie, les hormones thyroïdiennes, les anticorps et les réactifs de phase aiguë requis étaient normaux. Au vu de ces résultats, une IRM de la hanche a été demandée, qui a montré de légères modifications sous-chondrales, avec un œdème osseux dans la hanche droite, avec une irrégularité corticale et une légère synovite dans l'interligne articulaire, avec une distension de la bourse ilio-psoas. La tête fémorale présente un petit îlot osseux et l'angle alpha est supérieur à 50o. L'arthrographie montre un pincement de l'interligne articulaire antéro-supérieur et postéro-inférieur, un col fémoral ostéophytique naissant avec de petites lésions sous-chondrales antéro-supérieures de la tête fémorale et de petits foyers d'œdème dans l'acétabulum antéro-supérieur. Pas de nécrose avasculaire ni de lésions du labrum. Une lésion kystique juxta-articulaire est également observée en regard du grand trochanter. Evolution : Avec le diagnostic de syndrome de conflit fémoroacétabulaire de type LEVA (également connu sous le nom de CAM), le **** s'est vu prescrire un traitement par magnétothérapie (15 séances) pour améliorer les symptômes de la douleur et le trophisme osseux. **** a été adressé à l'unité d'arthroscopie du service de traumatologie pour une évaluation de la chirurgie arthroscopique. Diagnostic principal : syndrome du conflit fémoroacétabulaire de type LEVA. TRAITEMENT : Un traitement pharmacologique est prescrit avec une combinaison de glucosamine-chondroïtine sulfate par voie orale 400 mg toutes les 12 heures pendant 3 mois et des anti-inflammatoires non stéroïdiens si nécessaire en cas de douleur. **** a pour consigne de se reposer dans les sports pour éviter tout choc à l'articulation, avec une activité active contrôlée, en recommandant de ne pas dépasser 90 degrés de flexion de la hanche et d'éviter la rotation. Prenez rendez-vous pour un suivi une fois les sulfates de **** terminés afin de constater une amélioration clinique. Appelez le numéro des soins et des rendez-vous précédents de l'hôpital : ****. ADDRESSÉ À : **** - **** ****, ******** COURRIEL : ****. fr\\nNUMÉRO DE TÉLÉPHONE : ****\"}\n",
      "\n",
      "\n",
      "Masking policy: masked_with_chars\n",
      "{\"predictions\": \"PRENOM : Jean, NOM : Dubois, NUMÉRO DE SÉCURITÉ SOCIALE : [***********], ADRESSE : 18 Avenue Matabia. .. \\nPRENOM : Jean, NOM : Dubois, NUMÉRO DE SÉCURITÉ SOCIALE : [***********], ADRESSE : [****************], VILLE : [******] CODE POSTAL : [***] DATE DE NAISSANCE : [********], Âge : [****] , Sexe : *, NUMÉRO DE TÉLÉPHONE : [**********], COURRIEL : [****************], DATE D'ADMISSION : [********] MÉDÉCIN : [**************], RAPPORT CLINIQUE : **ans, retraité, sans allergie médicamenteuse connue, qui présente comme antécédents : ancien accident du travail avec fractures vertébrales et des côtes ; opéré de la maladie de Dupuytren à la main droite et d'un pontage ilio-fémoral gauche ; diabète de type II, hypercholestérolémie et hyperuricémie ; alcoolisme actif, fume 20 cigarettes / jour. [*********] nous a été adressé car ** présentait une hématurie macroscopique postmictionnelle à une occasion et une microhématurie persistante par la suite, avec une miction normale. L'examen physique a montré un bon état général, avec un abdomen et des organes génitaux normaux ; le toucher rectal était compatible avec un adénome de la prostate de grade I/IV. L'analyse d'urine a montré 4 globules rouges/champ et 0-5 leucocytes/champ ; le reste du sédiment était normal.\\nHémogramme normal ; la biochimie a montré une glycémie de 169 mg/dl et des triglycérides de 456 mg/dl ; les fonctions hépatiques et rénales étaient normales. PSA de 1,16 ng/ml. ADDRESSÉ À : [**************] - [****************************] Service D'Endocrinologie et de Nutrition - [******************], [***][******] COURRIEL : [****************]\\nNUMÉRO DE TÉLÉPHONE : [*********]\"}\n",
      "{\"predictions\": \"PRENOM : Éric, NOM : [*****], NUMÉRO DE SÉCURITÉ SOCIALE : [***********], ADRESSE : ** Boulevard Rio. .. \\nPRENOM : Éric, NOM : [*****], NUMÉRO DE SÉCURITÉ SOCIALE : [***********], ADRESSE : [***************], VILLE : [************] CODE POSTAL : [***] DATE DE NAISSANCE : [********], Âge : [****] , Sexe : *, NUMÉRO DE TÉLÉPHONE : [*********]. COURRIEL : [**********], DATE D'ADMISSION : [********] MÉDÉCIN : [******************], RAPPORT CLINIQUE : \\nAntécédents : [**********] de [****], évalué en consultation pour une coxalgie droite d'un an et demi d'évolution, de caractéristiques mécaniques. [**********] a signalé une douleur à l'exercice et une légère limitation de la mobilité dans certaines postures. [********] de profession, pendant son temps libre, [**********] faisait du vélo (40 km par jour le week-end), courait 3 fois par semaine pendant 50 minutes et marchait pendant une heure les jours où ** ne courait pas. La douleur a progressivement augmenté et [**] ne fait actuellement que marcher. EXAMEN PHYSIQUE : L'examen physique a révélé une douleur à la palpation dans le tiers moyen de la région inguinale droite avec une douleur à la flexion, à l'adduction et à la rotation, surtout à la rotation interne (manœuvre de choc positif). L'équilibre de l'articulation de la hanche est de 110o de flexion bilatérale, 10o de rotation interne droite, 40o de rotation interne gauche et 30o de rotation externe droite, 40o de rotation externe gauche. L'équilibre musculaire sur l'échelle de Daniels est 5/5 global bilatéral. Pas de douleur à la palpation des points sciatiques et les manœuvres de Valleix, Fabere, Lasegue et Bragard sont négatives. Pas non plus de douleur à la palpation de la bandelette iliotibiale et le test d'Ober était négatif. A l'examen de la marche, nous avons observé une absence de claudication et la posture monopodale alternée droite-gauche était stable, avec un Trendelenburg négatif. Le [*****] avait des douleurs lors de la marche avec une flexion forcée de la hanche et du genou. Examens complémentaires : Une radiologie ordinaire antéropostérieure (AP) a montré une déformation en forme de bosse dans la région fémorale cervicale droite. L'hémogramme, la biochimie, les hormones thyroïdiennes, les anticorps et les réactifs de phase aiguë requis étaient normaux. Au vu de ces résultats, une IRM de la hanche a été demandée, qui a montré de légères modifications sous-chondrales, avec un œdème osseux dans la hanche droite, avec une irrégularité corticale et une légère synovite dans l'interligne articulaire, avec une distension de la bourse ilio-psoas. La tête fémorale présente un petit îlot osseux et l'angle alpha est supérieur à 50o. L'arthrographie montre un pincement de l'interligne articulaire antéro-supérieur et postéro-inférieur, un col fémoral ostéophytique naissant avec de petites lésions sous-chondrales antéro-supérieures de la tête fémorale et de petits foyers d'œdème dans l'acétabulum antéro-supérieur. Pas de nécrose avasculaire ni de lésions du labrum. Une lésion kystique juxta-articulaire est également observée en regard du grand trochanter. Evolution : Avec le diagnostic de syndrome de conflit fémoroacétabulaire de type LEVA (également connu sous le nom de CAM), le [*****] s'est vu prescrire un traitement par magnétothérapie (15 séances) pour améliorer les symptômes de la douleur et le trophisme osseux. [**********] a été adressé à l'unité d'arthroscopie du service de traumatologie pour une évaluation de la chirurgie arthroscopique. Diagnostic principal : syndrome du conflit fémoroacétabulaire de type LEVA. TRAITEMENT : Un traitement pharmacologique est prescrit avec une combinaison de glucosamine-chondroïtine sulfate par voie orale 400 mg toutes les 12 heures pendant 3 mois et des anti-inflammatoires non stéroïdiens si nécessaire en cas de douleur. [**] a pour consigne de se reposer dans les sports pour éviter tout choc à l'articulation, avec une activité active contrôlée, en recommandant de ne pas dépasser 90 degrés de flexion de la hanche et d'éviter la rotation. Prenez rendez-vous pour un suivi une fois les sulfates de [**********************] terminés afin de constater une amélioration clinique. Appelez le numéro des soins et des rendez-vous précédents de l'hôpital : [********]. ADDRESSÉ À : [***************] - [*********************************] [********], [***][****] COURRIEL : [************]. fr\\nNUMÉRO DE TÉLÉPHONE : [*********]\"}\n",
      "\n",
      "\n"
     ]
    }
   ],
   "source": [
    "masking_policies = {\n",
    "    \"masked\": \"input1.jsonl\",\n",
    "    \"obfuscated\": \"input2.jsonl\",\n",
    "    \"masked_fixed_length_chars\": \"input3.jsonl\",\n",
    "    \"masked_with_chars\": \"input4.jsonl\",\n",
    "}\n",
    "\n",
    "for policy_name, validation_file_name in masking_policies.items():\n",
    "    print(f\"Masking policy: {policy_name}\")\n",
    "    retrieve_jsonlines_output_from_s3(validation_file_name)\n",
    "    print(\"\\n\")"
   ]
  },
  {
   "cell_type": "code",
   "execution_count": null,
   "metadata": {
    "tags": []
   },
   "outputs": [],
   "source": [
    "model.delete_model()"
   ]
  },
  {
   "cell_type": "markdown",
   "metadata": {},
   "source": [
    "### Unsubscribe to the listing (optional)"
   ]
  },
  {
   "cell_type": "markdown",
   "metadata": {
    "tags": []
   },
   "source": [
    "If you would like to unsubscribe to the model package, follow these steps. Before you cancel the subscription, ensure that you do not have any [deployable model](https://console.aws.amazon.com/sagemaker/home#/models) created from the model package or using the algorithm. Note - You can find this information by looking at the container name associated with the model. \n",
    "\n",
    "**Steps to unsubscribe to product from AWS Marketplace**:\n",
    "1. Navigate to __Machine Learning__ tab on [__Your Software subscriptions page__](https://aws.amazon.com/marketplace/ai/library?productType=ml&ref_=mlmp_gitdemo_indust)\n",
    "2. Locate the listing that you want to cancel the subscription for, and then choose __Cancel Subscription__  to cancel the subscription.\n",
    "\n"
   ]
  }
 ],
 "metadata": {
  "instance_type": "ml.t3.medium",
  "kernelspec": {
   "display_name": "conda_python3",
   "language": "python",
   "name": "conda_python3"
  },
  "language_info": {
   "codemirror_mode": {
    "name": "ipython",
    "version": 3
   },
   "file_extension": ".py",
   "mimetype": "text/x-python",
   "name": "python",
   "nbconvert_exporter": "python",
   "pygments_lexer": "ipython3",
   "version": "3.10.16"
  }
 },
 "nbformat": 4,
 "nbformat_minor": 4
}

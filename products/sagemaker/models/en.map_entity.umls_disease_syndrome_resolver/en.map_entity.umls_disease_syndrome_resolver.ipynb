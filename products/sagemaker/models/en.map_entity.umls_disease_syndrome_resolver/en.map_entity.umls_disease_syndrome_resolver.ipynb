{
 "cells": [
  {
   "cell_type": "markdown",
   "metadata": {},
   "source": [
    "## 1. Subscribe to the model package"
   ]
  },
  {
   "cell_type": "markdown",
   "metadata": {},
   "source": [
    "To subscribe to the model package:\n",
    "1. Open the model package listing page [Extract Diseases and their UMLS Codes](https://aws.amazon.com/marketplace/pp/prodview-ppumqtrzdjfmu)\n",
    "1. On the AWS Marketplace listing, click on the **Continue to subscribe** button.\n",
    "1. On the **Subscribe to this software** page, review and click on **\"Accept Offer\"** if you and your organization agrees with EULA, pricing, and support terms. \n",
    "1. Once you click on **Continue to configuration button** and then choose a **region**, you will see a **Product Arn** displayed. This is the model package ARN that you need to specify while creating a deployable model using Boto3. Copy the ARN corresponding to your region and specify the same in the following cell."
   ]
  },
  {
   "cell_type": "markdown",
   "metadata": {},
   "source": [
    "## Diseases and Syndromes to UMLS Code Pipeline\n",
    "\n",
    "The Unified Medical Language System (UMLS) Code is a comprehensive coding system crucial for facilitating interoperability among various healthcare systems. It plays a crucial role in linking medical terms, enabling efficient exchange of healthcare information essential for tasks such as patient care coordination, ensuring consistency and accuracy in healthcare data exchange and analysis.\n",
    "\n",
    "- **Model**: `en.map_entity.umls_disease_syndrome_resolver`\n",
    "- **Model Description**: This pretrained pipeline maps entities (diseases and syndromes) to their corresponding UMLS CUI codes, providing seamless mapping between entities and their respective UMLS codes.\n"
   ]
  },
  {
   "cell_type": "code",
   "execution_count": 1,
   "metadata": {
    "tags": []
   },
   "outputs": [],
   "source": [
    "model_package_arn = \"<Customer to specify Model package ARN corresponding to their AWS region>\""
   ]
  },
  {
   "cell_type": "code",
   "execution_count": 2,
   "metadata": {
    "tags": []
   },
   "outputs": [
    {
     "name": "stdout",
     "output_type": "stream",
     "text": [
      "sagemaker.config INFO - Not applying SDK defaults from location: /etc/xdg/sagemaker/config.yaml\n",
      "sagemaker.config INFO - Not applying SDK defaults from location: /home/ec2-user/.config/sagemaker/config.yaml\n"
     ]
    }
   ],
   "source": [
    "import base64\n",
    "import json\n",
    "import uuid\n",
    "from sagemaker import ModelPackage\n",
    "import sagemaker as sage\n",
    "from sagemaker import get_execution_role\n",
    "import boto3\n",
    "from IPython.display import Image, display\n",
    "from PIL import Image as ImageEdit\n",
    "import numpy as np"
   ]
  },
  {
   "cell_type": "code",
   "execution_count": 3,
   "metadata": {
    "tags": []
   },
   "outputs": [],
   "source": [
    "sagemaker_session = sage.Session()\n",
    "s3_bucket = sagemaker_session.default_bucket()\n",
    "region = sagemaker_session.boto_region_name\n",
    "account_id = boto3.client(\"sts\").get_caller_identity().get(\"Account\")\n",
    "role = get_execution_role()\n",
    "\n",
    "sagemaker = boto3.client(\"sagemaker\")\n",
    "s3_client = sagemaker_session.boto_session.client(\"s3\")\n",
    "ecr = boto3.client(\"ecr\")\n",
    "sm_runtime = boto3.client(\"sagemaker-runtime\")"
   ]
  },
  {
   "cell_type": "markdown",
   "metadata": {},
   "source": [
    "## 2. Create an endpoint and perform real-time inference"
   ]
  },
  {
   "cell_type": "markdown",
   "metadata": {},
   "source": [
    "If you want to understand how real-time inference with Amazon SageMaker works, see [Documentation](https://docs.aws.amazon.com/sagemaker/latest/dg/how-it-works-hosting.html)."
   ]
  },
  {
   "cell_type": "code",
   "execution_count": 4,
   "metadata": {
    "tags": []
   },
   "outputs": [],
   "source": [
    "model_name = \"en-map-entity-umls-disease-syndrome-resolver\"\n",
    "\n",
    "real_time_inference_instance_type = \"ml.m4.xlarge\"\n",
    "batch_transform_inference_instance_type = \"ml.m4.xlarge\"\n"
   ]
  },
  {
   "cell_type": "markdown",
   "metadata": {},
   "source": [
    "### A. Create an endpoint"
   ]
  },
  {
   "cell_type": "code",
   "execution_count": 5,
   "metadata": {
    "tags": []
   },
   "outputs": [
    {
     "name": "stdout",
     "output_type": "stream",
     "text": [
      "----------!"
     ]
    }
   ],
   "source": [
    "# create a deployable model from the model package.\n",
    "model = ModelPackage(\n",
    "    role=role, model_package_arn=model_package_arn, sagemaker_session=sagemaker_session\n",
    ")\n",
    "\n",
    "# Deploy the model\n",
    "predictor = model.deploy(1, real_time_inference_instance_type, endpoint_name=model_name)"
   ]
  },
  {
   "cell_type": "markdown",
   "metadata": {},
   "source": [
    "Once endpoint has been created, you would be able to perform real-time inference."
   ]
  },
  {
   "cell_type": "code",
   "execution_count": 6,
   "metadata": {
    "tags": []
   },
   "outputs": [],
   "source": [
    "import json\n",
    "import pandas as pd\n",
    "import os\n",
    "import boto3\n",
    "\n",
    "# Set display options\n",
    "pd.set_option('display.max_rows', None)\n",
    "pd.set_option('display.max_columns', None)\n",
    "pd.set_option('display.max_colwidth', None)\n",
    "\n",
    "def process_data_and_invoke_realtime_endpoint(data, content_type, accept):\n",
    "\n",
    "    content_type_to_format = {'application/json': 'json', 'application/jsonlines': 'jsonl'}\n",
    "    input_format = content_type_to_format.get(content_type)\n",
    "    if content_type not in content_type_to_format.keys() or accept not in content_type_to_format.keys():\n",
    "        raise ValueError(\"Invalid content_type or accept. It should be either 'application/json' or 'application/jsonlines'.\")\n",
    "\n",
    "    i = 1\n",
    "    input_dir = f'inputs/real-time/{input_format}'\n",
    "    output_dir = f'outputs/real-time/{input_format}'\n",
    "    s3_input_dir = f\"{model_name}/validation-input/real-time/{input_format}\"\n",
    "    s3_output_dir = f\"{model_name}/validation-output/real-time/{input_format}\"\n",
    "\n",
    "    input_file_name = f'{input_dir}/input{i}.{input_format}'\n",
    "    output_file_name = f'{output_dir}/{os.path.basename(input_file_name)}.out'\n",
    "\n",
    "    while os.path.exists(input_file_name) or os.path.exists(output_file_name):\n",
    "        i += 1\n",
    "        input_file_name = f'{input_dir}/input{i}.{input_format}'\n",
    "        output_file_name = f'{output_dir}/{os.path.basename(input_file_name)}.out'\n",
    "\n",
    "    os.makedirs(os.path.dirname(input_file_name), exist_ok=True)\n",
    "    os.makedirs(os.path.dirname(output_file_name), exist_ok=True)\n",
    "\n",
    "    input_data = json.dumps(data) if content_type == 'application/json' else data\n",
    "\n",
    "    # Write input data to file\n",
    "    with open(input_file_name, 'w') as f:\n",
    "        f.write(input_data)\n",
    "\n",
    "    # Upload input data to S3\n",
    "    s3_client.put_object(Bucket=s3_bucket, Key=f\"{s3_input_dir}/{os.path.basename(input_file_name)}\", Body=bytes(input_data.encode('UTF-8')))\n",
    "\n",
    "    # Invoke the SageMaker endpoint\n",
    "    response = sm_runtime.invoke_endpoint(\n",
    "        EndpointName=model_name,\n",
    "        ContentType=content_type,\n",
    "        Accept=accept,\n",
    "        Body=input_data,\n",
    "    )\n",
    "\n",
    "    # Read response data\n",
    "    response_data = json.loads(response[\"Body\"].read().decode(\"utf-8\")) if accept == 'application/json' else response['Body'].read().decode('utf-8')\n",
    "\n",
    "    # Save response data to file\n",
    "    with open(output_file_name, 'w') as f_out:\n",
    "        if accept == 'application/json':\n",
    "            json.dump(response_data, f_out, indent=4)\n",
    "        else:\n",
    "            for item in response_data.split('\\n'):\n",
    "                f_out.write(item + '\\n')\n",
    "\n",
    "    # Upload response data to S3\n",
    "    output_s3_key = f\"{s3_output_dir}/{os.path.basename(output_file_name)}\"\n",
    "    if accept == 'application/json':\n",
    "        s3_client.put_object(Bucket=s3_bucket, Key=output_s3_key, Body=json.dumps(response_data).encode('UTF-8'))\n",
    "    else:\n",
    "        s3_client.put_object(Bucket=s3_bucket, Key=output_s3_key, Body=response_data)\n",
    "\n",
    "    return response_data"
   ]
  },
  {
   "cell_type": "markdown",
   "metadata": {},
   "source": [
    "### Initial Setup"
   ]
  },
  {
   "cell_type": "code",
   "execution_count": 7,
   "metadata": {
    "tags": []
   },
   "outputs": [],
   "source": [
    "docs = [\n",
    "    \"HTG-induced pancreatitis associated with an acute hepatitis, and obesity\",\n",
    "    \"A 34-year-old female with a history of poor appetite, gestational diabetes mellitus, acyclovir allergy and polyuria\",\n",
    "    \"A 45-year-old male diagnosed with hypertension and hyperlipidemia, experiencing chest pain and shortness of breath.\",\n",
    "\n",
    "]\n",
    "\n",
    "\n",
    "sample_text = \"A 25-year-old male with a history of asthma and allergic rhinitis experiencing wheezing, coughing, and shortness of breath.\""
   ]
  },
  {
   "cell_type": "markdown",
   "metadata": {},
   "source": [
    "### JSON"
   ]
  },
  {
   "cell_type": "markdown",
   "metadata": {},
   "source": [
    "#### Example 1"
   ]
  },
  {
   "cell_type": "markdown",
   "metadata": {},
   "source": [
    "  **Input format**:\n",
    "  \n",
    "  \n",
    "```json\n",
    "{\n",
    "    \"text\": \"Single text document\"\n",
    "}\n",
    "```"
   ]
  },
  {
   "cell_type": "code",
   "execution_count": 8,
   "metadata": {
    "tags": []
   },
   "outputs": [
    {
     "data": {
      "text/html": [
       "<div>\n",
       "<style scoped>\n",
       "    .dataframe tbody tr th:only-of-type {\n",
       "        vertical-align: middle;\n",
       "    }\n",
       "\n",
       "    .dataframe tbody tr th {\n",
       "        vertical-align: top;\n",
       "    }\n",
       "\n",
       "    .dataframe thead th {\n",
       "        text-align: right;\n",
       "    }\n",
       "</style>\n",
       "<table border=\"1\" class=\"dataframe\">\n",
       "  <thead>\n",
       "    <tr style=\"text-align: right;\">\n",
       "      <th></th>\n",
       "      <th>document</th>\n",
       "      <th>ner_chunk</th>\n",
       "      <th>begin</th>\n",
       "      <th>end</th>\n",
       "      <th>ner_label</th>\n",
       "      <th>ner_confidence</th>\n",
       "      <th>umls_code</th>\n",
       "      <th>umls_confidence</th>\n",
       "    </tr>\n",
       "  </thead>\n",
       "  <tbody>\n",
       "    <tr>\n",
       "      <th>0</th>\n",
       "      <td>A 25-year-old male with a history of asthma and allergic rhinitis experiencing wheezing, coughing, and shortness of breath.</td>\n",
       "      <td>asthma</td>\n",
       "      <td>37</td>\n",
       "      <td>42</td>\n",
       "      <td>PROBLEM</td>\n",
       "      <td>0.9883</td>\n",
       "      <td>C0004096</td>\n",
       "      <td>0.9883</td>\n",
       "    </tr>\n",
       "    <tr>\n",
       "      <th>1</th>\n",
       "      <td>A 25-year-old male with a history of asthma and allergic rhinitis experiencing wheezing, coughing, and shortness of breath.</td>\n",
       "      <td>allergic rhinitis</td>\n",
       "      <td>48</td>\n",
       "      <td>64</td>\n",
       "      <td>PROBLEM</td>\n",
       "      <td>0.98784995</td>\n",
       "      <td>C2607914</td>\n",
       "      <td>0.98784995</td>\n",
       "    </tr>\n",
       "    <tr>\n",
       "      <th>2</th>\n",
       "      <td>A 25-year-old male with a history of asthma and allergic rhinitis experiencing wheezing, coughing, and shortness of breath.</td>\n",
       "      <td>wheezing</td>\n",
       "      <td>79</td>\n",
       "      <td>86</td>\n",
       "      <td>PROBLEM</td>\n",
       "      <td>0.997</td>\n",
       "      <td>C1319018</td>\n",
       "      <td>0.1876</td>\n",
       "    </tr>\n",
       "    <tr>\n",
       "      <th>3</th>\n",
       "      <td>A 25-year-old male with a history of asthma and allergic rhinitis experiencing wheezing, coughing, and shortness of breath.</td>\n",
       "      <td>coughing</td>\n",
       "      <td>89</td>\n",
       "      <td>96</td>\n",
       "      <td>PROBLEM</td>\n",
       "      <td>0.999</td>\n",
       "      <td>C0043167</td>\n",
       "      <td>0.1291</td>\n",
       "    </tr>\n",
       "    <tr>\n",
       "      <th>4</th>\n",
       "      <td>A 25-year-old male with a history of asthma and allergic rhinitis experiencing wheezing, coughing, and shortness of breath.</td>\n",
       "      <td>shortness of breath</td>\n",
       "      <td>103</td>\n",
       "      <td>121</td>\n",
       "      <td>PROBLEM</td>\n",
       "      <td>0.8419666</td>\n",
       "      <td>C0748643</td>\n",
       "      <td>0.4083</td>\n",
       "    </tr>\n",
       "  </tbody>\n",
       "</table>\n",
       "</div>"
      ],
      "text/plain": [
       "                                                                                                                      document  \\\n",
       "0  A 25-year-old male with a history of asthma and allergic rhinitis experiencing wheezing, coughing, and shortness of breath.   \n",
       "1  A 25-year-old male with a history of asthma and allergic rhinitis experiencing wheezing, coughing, and shortness of breath.   \n",
       "2  A 25-year-old male with a history of asthma and allergic rhinitis experiencing wheezing, coughing, and shortness of breath.   \n",
       "3  A 25-year-old male with a history of asthma and allergic rhinitis experiencing wheezing, coughing, and shortness of breath.   \n",
       "4  A 25-year-old male with a history of asthma and allergic rhinitis experiencing wheezing, coughing, and shortness of breath.   \n",
       "\n",
       "             ner_chunk  begin  end ner_label ner_confidence umls_code  \\\n",
       "0               asthma     37   42   PROBLEM         0.9883  C0004096   \n",
       "1    allergic rhinitis     48   64   PROBLEM     0.98784995  C2607914   \n",
       "2             wheezing     79   86   PROBLEM          0.997  C1319018   \n",
       "3             coughing     89   96   PROBLEM          0.999  C0043167   \n",
       "4  shortness of breath    103  121   PROBLEM      0.8419666  C0748643   \n",
       "\n",
       "  umls_confidence  \n",
       "0          0.9883  \n",
       "1      0.98784995  \n",
       "2          0.1876  \n",
       "3          0.1291  \n",
       "4          0.4083  "
      ]
     },
     "execution_count": 8,
     "metadata": {},
     "output_type": "execute_result"
    }
   ],
   "source": [
    "input_json_data = {\"text\": sample_text}\n",
    "\n",
    "data =  process_data_and_invoke_realtime_endpoint(input_json_data, content_type=\"application/json\" , accept=\"application/json\" )\n",
    "pd.DataFrame(data[\"predictions\"])"
   ]
  },
  {
   "cell_type": "markdown",
   "metadata": {},
   "source": [
    "#### Example 2"
   ]
  },
  {
   "cell_type": "markdown",
   "metadata": {},
   "source": [
    "  **Input format**:\n",
    "  \n",
    "  \n",
    "```json\n",
    "{\n",
    "    \"text\": [\n",
    "        \"Text document 1\",\n",
    "        \"Text document 2\",\n",
    "        ...\n",
    "    ]\n",
    "}\n",
    "```"
   ]
  },
  {
   "cell_type": "code",
   "execution_count": 9,
   "metadata": {
    "tags": []
   },
   "outputs": [
    {
     "data": {
      "text/html": [
       "<div>\n",
       "<style scoped>\n",
       "    .dataframe tbody tr th:only-of-type {\n",
       "        vertical-align: middle;\n",
       "    }\n",
       "\n",
       "    .dataframe tbody tr th {\n",
       "        vertical-align: top;\n",
       "    }\n",
       "\n",
       "    .dataframe thead th {\n",
       "        text-align: right;\n",
       "    }\n",
       "</style>\n",
       "<table border=\"1\" class=\"dataframe\">\n",
       "  <thead>\n",
       "    <tr style=\"text-align: right;\">\n",
       "      <th></th>\n",
       "      <th>document</th>\n",
       "      <th>ner_chunk</th>\n",
       "      <th>begin</th>\n",
       "      <th>end</th>\n",
       "      <th>ner_label</th>\n",
       "      <th>ner_confidence</th>\n",
       "      <th>umls_code</th>\n",
       "      <th>umls_confidence</th>\n",
       "    </tr>\n",
       "  </thead>\n",
       "  <tbody>\n",
       "    <tr>\n",
       "      <th>0</th>\n",
       "      <td>HTG-induced pancreatitis associated with an acute hepatitis, and obesity</td>\n",
       "      <td>HTG-induced pancreatitis</td>\n",
       "      <td>0</td>\n",
       "      <td>23</td>\n",
       "      <td>PROBLEM</td>\n",
       "      <td>0.9539</td>\n",
       "      <td>C0376670</td>\n",
       "      <td>0.1170</td>\n",
       "    </tr>\n",
       "    <tr>\n",
       "      <th>1</th>\n",
       "      <td>HTG-induced pancreatitis associated with an acute hepatitis, and obesity</td>\n",
       "      <td>an acute hepatitis</td>\n",
       "      <td>41</td>\n",
       "      <td>58</td>\n",
       "      <td>PROBLEM</td>\n",
       "      <td>0.9794333</td>\n",
       "      <td>C0019159</td>\n",
       "      <td>0.2740</td>\n",
       "    </tr>\n",
       "    <tr>\n",
       "      <th>2</th>\n",
       "      <td>HTG-induced pancreatitis associated with an acute hepatitis, and obesity</td>\n",
       "      <td>obesity</td>\n",
       "      <td>65</td>\n",
       "      <td>71</td>\n",
       "      <td>PROBLEM</td>\n",
       "      <td>0.9828</td>\n",
       "      <td>C0028754</td>\n",
       "      <td>0.9828</td>\n",
       "    </tr>\n",
       "    <tr>\n",
       "      <th>3</th>\n",
       "      <td>A 34-year-old female with a history of poor appetite, gestational diabetes mellitus, acyclovir allergy and polyuria</td>\n",
       "      <td>poor appetite</td>\n",
       "      <td>39</td>\n",
       "      <td>51</td>\n",
       "      <td>PROBLEM</td>\n",
       "      <td>0.97704995</td>\n",
       "      <td>C0003123</td>\n",
       "      <td>0.3963</td>\n",
       "    </tr>\n",
       "    <tr>\n",
       "      <th>4</th>\n",
       "      <td>A 34-year-old female with a history of poor appetite, gestational diabetes mellitus, acyclovir allergy and polyuria</td>\n",
       "      <td>gestational diabetes mellitus</td>\n",
       "      <td>54</td>\n",
       "      <td>82</td>\n",
       "      <td>PROBLEM</td>\n",
       "      <td>0.95376664</td>\n",
       "      <td>C0085207</td>\n",
       "      <td>0.95376664</td>\n",
       "    </tr>\n",
       "    <tr>\n",
       "      <th>5</th>\n",
       "      <td>A 34-year-old female with a history of poor appetite, gestational diabetes mellitus, acyclovir allergy and polyuria</td>\n",
       "      <td>acyclovir allergy</td>\n",
       "      <td>85</td>\n",
       "      <td>101</td>\n",
       "      <td>PROBLEM</td>\n",
       "      <td>0.74755</td>\n",
       "      <td>C0571297</td>\n",
       "      <td>0.74755</td>\n",
       "    </tr>\n",
       "    <tr>\n",
       "      <th>6</th>\n",
       "      <td>A 34-year-old female with a history of poor appetite, gestational diabetes mellitus, acyclovir allergy and polyuria</td>\n",
       "      <td>polyuria</td>\n",
       "      <td>107</td>\n",
       "      <td>114</td>\n",
       "      <td>PROBLEM</td>\n",
       "      <td>0.9951</td>\n",
       "      <td>C0018965</td>\n",
       "      <td>0.1252</td>\n",
       "    </tr>\n",
       "    <tr>\n",
       "      <th>7</th>\n",
       "      <td>A 45-year-old male diagnosed with hypertension and hyperlipidemia, experiencing chest pain and shortness of breath.</td>\n",
       "      <td>hypertension</td>\n",
       "      <td>34</td>\n",
       "      <td>45</td>\n",
       "      <td>PROBLEM</td>\n",
       "      <td>0.9994</td>\n",
       "      <td>C0020538</td>\n",
       "      <td>0.9994</td>\n",
       "    </tr>\n",
       "    <tr>\n",
       "      <th>8</th>\n",
       "      <td>A 45-year-old male diagnosed with hypertension and hyperlipidemia, experiencing chest pain and shortness of breath.</td>\n",
       "      <td>hyperlipidemia</td>\n",
       "      <td>51</td>\n",
       "      <td>64</td>\n",
       "      <td>PROBLEM</td>\n",
       "      <td>0.9972</td>\n",
       "      <td>C0020473</td>\n",
       "      <td>0.9972</td>\n",
       "    </tr>\n",
       "    <tr>\n",
       "      <th>9</th>\n",
       "      <td>A 45-year-old male diagnosed with hypertension and hyperlipidemia, experiencing chest pain and shortness of breath.</td>\n",
       "      <td>chest pain</td>\n",
       "      <td>80</td>\n",
       "      <td>89</td>\n",
       "      <td>PROBLEM</td>\n",
       "      <td>0.99660003</td>\n",
       "      <td>C0694545</td>\n",
       "      <td>0.2079</td>\n",
       "    </tr>\n",
       "    <tr>\n",
       "      <th>10</th>\n",
       "      <td>A 45-year-old male diagnosed with hypertension and hyperlipidemia, experiencing chest pain and shortness of breath.</td>\n",
       "      <td>shortness of breath</td>\n",
       "      <td>95</td>\n",
       "      <td>113</td>\n",
       "      <td>PROBLEM</td>\n",
       "      <td>0.8344334</td>\n",
       "      <td>C0748643</td>\n",
       "      <td>0.4083</td>\n",
       "    </tr>\n",
       "  </tbody>\n",
       "</table>\n",
       "</div>"
      ],
      "text/plain": [
       "                                                                                                               document  \\\n",
       "0                                              HTG-induced pancreatitis associated with an acute hepatitis, and obesity   \n",
       "1                                              HTG-induced pancreatitis associated with an acute hepatitis, and obesity   \n",
       "2                                              HTG-induced pancreatitis associated with an acute hepatitis, and obesity   \n",
       "3   A 34-year-old female with a history of poor appetite, gestational diabetes mellitus, acyclovir allergy and polyuria   \n",
       "4   A 34-year-old female with a history of poor appetite, gestational diabetes mellitus, acyclovir allergy and polyuria   \n",
       "5   A 34-year-old female with a history of poor appetite, gestational diabetes mellitus, acyclovir allergy and polyuria   \n",
       "6   A 34-year-old female with a history of poor appetite, gestational diabetes mellitus, acyclovir allergy and polyuria   \n",
       "7   A 45-year-old male diagnosed with hypertension and hyperlipidemia, experiencing chest pain and shortness of breath.   \n",
       "8   A 45-year-old male diagnosed with hypertension and hyperlipidemia, experiencing chest pain and shortness of breath.   \n",
       "9   A 45-year-old male diagnosed with hypertension and hyperlipidemia, experiencing chest pain and shortness of breath.   \n",
       "10  A 45-year-old male diagnosed with hypertension and hyperlipidemia, experiencing chest pain and shortness of breath.   \n",
       "\n",
       "                        ner_chunk  begin  end ner_label ner_confidence  \\\n",
       "0        HTG-induced pancreatitis      0   23   PROBLEM         0.9539   \n",
       "1              an acute hepatitis     41   58   PROBLEM      0.9794333   \n",
       "2                         obesity     65   71   PROBLEM         0.9828   \n",
       "3                   poor appetite     39   51   PROBLEM     0.97704995   \n",
       "4   gestational diabetes mellitus     54   82   PROBLEM     0.95376664   \n",
       "5               acyclovir allergy     85  101   PROBLEM        0.74755   \n",
       "6                        polyuria    107  114   PROBLEM         0.9951   \n",
       "7                    hypertension     34   45   PROBLEM         0.9994   \n",
       "8                  hyperlipidemia     51   64   PROBLEM         0.9972   \n",
       "9                      chest pain     80   89   PROBLEM     0.99660003   \n",
       "10            shortness of breath     95  113   PROBLEM      0.8344334   \n",
       "\n",
       "   umls_code umls_confidence  \n",
       "0   C0376670          0.1170  \n",
       "1   C0019159          0.2740  \n",
       "2   C0028754          0.9828  \n",
       "3   C0003123          0.3963  \n",
       "4   C0085207      0.95376664  \n",
       "5   C0571297         0.74755  \n",
       "6   C0018965          0.1252  \n",
       "7   C0020538          0.9994  \n",
       "8   C0020473          0.9972  \n",
       "9   C0694545          0.2079  \n",
       "10  C0748643          0.4083  "
      ]
     },
     "execution_count": 9,
     "metadata": {},
     "output_type": "execute_result"
    }
   ],
   "source": [
    "input_json_data = {\"text\": docs}\n",
    "\n",
    "data =  process_data_and_invoke_realtime_endpoint(input_json_data, content_type=\"application/json\" , accept=\"application/json\" )\n",
    "pd.DataFrame(data[\"predictions\"])"
   ]
  },
  {
   "cell_type": "markdown",
   "metadata": {},
   "source": [
    "### JSON Lines"
   ]
  },
  {
   "cell_type": "markdown",
   "metadata": {},
   "source": [
    "  **Input format**:\n",
    "  \n",
    "```json\n",
    "{\"text\": \"Text document 1\"}\n",
    "{\"text\": \"Text document 2\"}\n",
    "```"
   ]
  },
  {
   "cell_type": "code",
   "execution_count": 10,
   "metadata": {
    "tags": []
   },
   "outputs": [],
   "source": [
    "import json\n",
    "\n",
    "def create_jsonl(records):\n",
    "    json_records = []\n",
    "\n",
    "    for text in records:\n",
    "        record = {\n",
    "            \"text\": text\n",
    "        }\n",
    "        json_records.append(record)\n",
    "\n",
    "    json_lines = '\\n'.join(json.dumps(record) for record in json_records)\n",
    "\n",
    "    return json_lines\n",
    "\n",
    "input_jsonl_data = create_jsonl(docs)"
   ]
  },
  {
   "cell_type": "markdown",
   "metadata": {},
   "source": [
    "#### Example 1"
   ]
  },
  {
   "cell_type": "code",
   "execution_count": 11,
   "metadata": {
    "tags": []
   },
   "outputs": [
    {
     "name": "stdout",
     "output_type": "stream",
     "text": [
      "{\"predictions\": [{\"ner_chunk\": \"HTG-induced pancreatitis\", \"begin\": 0, \"end\": 23, \"ner_label\": \"PROBLEM\", \"ner_confidence\": \"0.9539\", \"umls_code\": \"C0376670\", \"umls_confidence\": \"0.1170\"}, {\"ner_chunk\": \"an acute hepatitis\", \"begin\": 41, \"end\": 58, \"ner_label\": \"PROBLEM\", \"ner_confidence\": \"0.9794333\", \"umls_code\": \"C0019159\", \"umls_confidence\": \"0.2740\"}, {\"ner_chunk\": \"obesity\", \"begin\": 65, \"end\": 71, \"ner_label\": \"PROBLEM\", \"ner_confidence\": \"0.9828\", \"umls_code\": \"C0028754\", \"umls_confidence\": \"0.9828\"}]}\n",
      "{\"predictions\": [{\"ner_chunk\": \"poor appetite\", \"begin\": 39, \"end\": 51, \"ner_label\": \"PROBLEM\", \"ner_confidence\": \"0.97704995\", \"umls_code\": \"C0003123\", \"umls_confidence\": \"0.3963\"}, {\"ner_chunk\": \"gestational diabetes mellitus\", \"begin\": 54, \"end\": 82, \"ner_label\": \"PROBLEM\", \"ner_confidence\": \"0.95376664\", \"umls_code\": \"C0085207\", \"umls_confidence\": \"0.95376664\"}, {\"ner_chunk\": \"acyclovir allergy\", \"begin\": 85, \"end\": 101, \"ner_label\": \"PROBLEM\", \"ner_confidence\": \"0.74755\", \"umls_code\": \"C0571297\", \"umls_confidence\": \"0.74755\"}, {\"ner_chunk\": \"polyuria\", \"begin\": 107, \"end\": 114, \"ner_label\": \"PROBLEM\", \"ner_confidence\": \"0.9951\", \"umls_code\": \"C0018965\", \"umls_confidence\": \"0.1252\"}]}\n",
      "{\"predictions\": [{\"ner_chunk\": \"hypertension\", \"begin\": 34, \"end\": 45, \"ner_label\": \"PROBLEM\", \"ner_confidence\": \"0.9994\", \"umls_code\": \"C0020538\", \"umls_confidence\": \"0.9994\"}, {\"ner_chunk\": \"hyperlipidemia\", \"begin\": 51, \"end\": 64, \"ner_label\": \"PROBLEM\", \"ner_confidence\": \"0.9972\", \"umls_code\": \"C0020473\", \"umls_confidence\": \"0.9972\"}, {\"ner_chunk\": \"chest pain\", \"begin\": 80, \"end\": 89, \"ner_label\": \"PROBLEM\", \"ner_confidence\": \"0.99660003\", \"umls_code\": \"C0694545\", \"umls_confidence\": \"0.2079\"}, {\"ner_chunk\": \"shortness of breath\", \"begin\": 95, \"end\": 113, \"ner_label\": \"PROBLEM\", \"ner_confidence\": \"0.8344334\", \"umls_code\": \"C0748643\", \"umls_confidence\": \"0.4083\"}]}\n"
     ]
    }
   ],
   "source": [
    "data = process_data_and_invoke_realtime_endpoint(input_jsonl_data, content_type=\"application/jsonlines\" , accept=\"application/jsonlines\" )\n",
    "print(data)"
   ]
  },
  {
   "cell_type": "markdown",
   "metadata": {},
   "source": [
    "### C. Delete the endpoint"
   ]
  },
  {
   "cell_type": "markdown",
   "metadata": {},
   "source": [
    "Now that you have successfully performed a real-time inference, you do not need the endpoint any more. You can terminate the endpoint to avoid being charged."
   ]
  },
  {
   "cell_type": "code",
   "execution_count": 12,
   "metadata": {
    "tags": []
   },
   "outputs": [],
   "source": [
    "model.sagemaker_session.delete_endpoint(model_name)\n",
    "model.sagemaker_session.delete_endpoint_config(model_name)"
   ]
  },
  {
   "cell_type": "markdown",
   "metadata": {
    "tags": []
   },
   "source": [
    "## 3. Batch inference"
   ]
  },
  {
   "cell_type": "code",
   "execution_count": 13,
   "metadata": {
    "tags": []
   },
   "outputs": [],
   "source": [
    "import json\n",
    "import os\n",
    "\n",
    "input_dir = 'inputs/batch'\n",
    "json_input_dir = f\"{input_dir}/json\"\n",
    "jsonl_input_dir = f\"{input_dir}/jsonl\"\n",
    "\n",
    "output_dir = 'outputs/batch'\n",
    "json_output_dir = f\"{output_dir}/json\"\n",
    "jsonl_output_dir = f\"{output_dir}/jsonl\"\n",
    "\n",
    "os.makedirs(json_input_dir, exist_ok=True)\n",
    "os.makedirs(jsonl_input_dir, exist_ok=True)\n",
    "os.makedirs(json_output_dir, exist_ok=True)\n",
    "os.makedirs(jsonl_output_dir, exist_ok=True)\n",
    "\n",
    "validation_json_file_name = \"input.json\"\n",
    "\n",
    "validation_jsonl_file_name = \"input.jsonl\"\n",
    "\n",
    "validation_input_json_path = f\"s3://{s3_bucket}/{model_name}/validation-input/batch/json/\"\n",
    "validation_output_json_path = f\"s3://{s3_bucket}/{model_name}/validation-output/batch/json/\"\n",
    "\n",
    "validation_input_jsonl_path = f\"s3://{s3_bucket}/{model_name}/validation-input/batch/jsonl/\"\n",
    "validation_output_jsonl_path = f\"s3://{s3_bucket}/{model_name}/validation-output/batch/jsonl/\"\n",
    "\n",
    "def write_and_upload_to_s3(input_data, file_name):\n",
    "    file_format = os.path.splitext(file_name)[1].lower()\n",
    "    if file_format == \".json\":\n",
    "        input_data = json.dumps(input_data)\n",
    "\n",
    "    with open(file_name, \"w\") as f:\n",
    "        f.write(input_data)\n",
    "\n",
    "    s3_client.put_object(\n",
    "        Bucket=s3_bucket,\n",
    "        Key=f\"{model_name}/validation-input/batch/{file_format[1:]}/{os.path.basename(file_name)}\",\n",
    "        Body=(bytes(input_data.encode(\"UTF-8\"))),\n",
    "    )"
   ]
  },
  {
   "cell_type": "code",
   "execution_count": 14,
   "metadata": {
    "tags": []
   },
   "outputs": [],
   "source": [
    "input_jsonl_data = create_jsonl(docs)\n",
    "input_json_data = {\"text\": docs}\n",
    "\n",
    "write_and_upload_to_s3(input_json_data, f\"{json_input_dir}/{validation_json_file_name}\")\n",
    "\n",
    "write_and_upload_to_s3(input_jsonl_data, f\"{jsonl_input_dir}/{validation_jsonl_file_name}\")"
   ]
  },
  {
   "cell_type": "markdown",
   "metadata": {},
   "source": [
    "### JSON"
   ]
  },
  {
   "cell_type": "code",
   "execution_count": null,
   "metadata": {
    "tags": []
   },
   "outputs": [],
   "source": [
    "# Initialize a SageMaker Transformer object for making predictions\n",
    "transformer = model.transformer(\n",
    "    instance_count=1,\n",
    "    instance_type=batch_transform_inference_instance_type,\n",
    "    accept=\"application/json\",\n",
    "    output_path=validation_output_json_path\n",
    ")\n",
    "\n",
    "transformer.transform(validation_input_json_path, content_type=\"application/json\")\n",
    "transformer.wait()"
   ]
  },
  {
   "cell_type": "code",
   "execution_count": 16,
   "metadata": {
    "tags": []
   },
   "outputs": [],
   "source": [
    "from urllib.parse import urlparse\n",
    "\n",
    "def process_s3_json_output_and_save(validation_file_name):\n",
    "\n",
    "    output_file_path = f\"{json_output_dir}/{validation_file_name}.out\"\n",
    "    parsed_url = urlparse(transformer.output_path)\n",
    "    file_key = f\"{parsed_url.path[1:]}{validation_file_name}.out\"\n",
    "    response = s3_client.get_object(Bucket=s3_bucket, Key=file_key)\n",
    "\n",
    "    data = json.loads(response[\"Body\"].read().decode(\"utf-8\"))\n",
    "    df = pd.DataFrame(data[\"predictions\"])\n",
    "    display(df)\n",
    "\n",
    "    # Save the data to the output file\n",
    "    with open(output_file_path, 'w') as f_out:\n",
    "        json.dump(data, f_out, indent=4)"
   ]
  },
  {
   "cell_type": "code",
   "execution_count": 17,
   "metadata": {
    "tags": []
   },
   "outputs": [
    {
     "data": {
      "text/html": [
       "<div>\n",
       "<style scoped>\n",
       "    .dataframe tbody tr th:only-of-type {\n",
       "        vertical-align: middle;\n",
       "    }\n",
       "\n",
       "    .dataframe tbody tr th {\n",
       "        vertical-align: top;\n",
       "    }\n",
       "\n",
       "    .dataframe thead th {\n",
       "        text-align: right;\n",
       "    }\n",
       "</style>\n",
       "<table border=\"1\" class=\"dataframe\">\n",
       "  <thead>\n",
       "    <tr style=\"text-align: right;\">\n",
       "      <th></th>\n",
       "      <th>document</th>\n",
       "      <th>ner_chunk</th>\n",
       "      <th>begin</th>\n",
       "      <th>end</th>\n",
       "      <th>ner_label</th>\n",
       "      <th>ner_confidence</th>\n",
       "      <th>umls_code</th>\n",
       "      <th>umls_confidence</th>\n",
       "    </tr>\n",
       "  </thead>\n",
       "  <tbody>\n",
       "    <tr>\n",
       "      <th>0</th>\n",
       "      <td>HTG-induced pancreatitis associated with an acute hepatitis, and obesity</td>\n",
       "      <td>HTG-induced pancreatitis</td>\n",
       "      <td>0</td>\n",
       "      <td>23</td>\n",
       "      <td>PROBLEM</td>\n",
       "      <td>0.9539</td>\n",
       "      <td>C0376670</td>\n",
       "      <td>0.1170</td>\n",
       "    </tr>\n",
       "    <tr>\n",
       "      <th>1</th>\n",
       "      <td>HTG-induced pancreatitis associated with an acute hepatitis, and obesity</td>\n",
       "      <td>an acute hepatitis</td>\n",
       "      <td>41</td>\n",
       "      <td>58</td>\n",
       "      <td>PROBLEM</td>\n",
       "      <td>0.9794333</td>\n",
       "      <td>C0019159</td>\n",
       "      <td>0.2740</td>\n",
       "    </tr>\n",
       "    <tr>\n",
       "      <th>2</th>\n",
       "      <td>HTG-induced pancreatitis associated with an acute hepatitis, and obesity</td>\n",
       "      <td>obesity</td>\n",
       "      <td>65</td>\n",
       "      <td>71</td>\n",
       "      <td>PROBLEM</td>\n",
       "      <td>0.9828</td>\n",
       "      <td>C0028754</td>\n",
       "      <td>0.9828</td>\n",
       "    </tr>\n",
       "    <tr>\n",
       "      <th>3</th>\n",
       "      <td>A 34-year-old female with a history of poor appetite, gestational diabetes mellitus, acyclovir allergy and polyuria</td>\n",
       "      <td>poor appetite</td>\n",
       "      <td>39</td>\n",
       "      <td>51</td>\n",
       "      <td>PROBLEM</td>\n",
       "      <td>0.97704995</td>\n",
       "      <td>C0003123</td>\n",
       "      <td>0.3963</td>\n",
       "    </tr>\n",
       "    <tr>\n",
       "      <th>4</th>\n",
       "      <td>A 34-year-old female with a history of poor appetite, gestational diabetes mellitus, acyclovir allergy and polyuria</td>\n",
       "      <td>gestational diabetes mellitus</td>\n",
       "      <td>54</td>\n",
       "      <td>82</td>\n",
       "      <td>PROBLEM</td>\n",
       "      <td>0.95376664</td>\n",
       "      <td>C0085207</td>\n",
       "      <td>0.95376664</td>\n",
       "    </tr>\n",
       "    <tr>\n",
       "      <th>5</th>\n",
       "      <td>A 34-year-old female with a history of poor appetite, gestational diabetes mellitus, acyclovir allergy and polyuria</td>\n",
       "      <td>acyclovir allergy</td>\n",
       "      <td>85</td>\n",
       "      <td>101</td>\n",
       "      <td>PROBLEM</td>\n",
       "      <td>0.74755</td>\n",
       "      <td>C0571297</td>\n",
       "      <td>0.74755</td>\n",
       "    </tr>\n",
       "    <tr>\n",
       "      <th>6</th>\n",
       "      <td>A 34-year-old female with a history of poor appetite, gestational diabetes mellitus, acyclovir allergy and polyuria</td>\n",
       "      <td>polyuria</td>\n",
       "      <td>107</td>\n",
       "      <td>114</td>\n",
       "      <td>PROBLEM</td>\n",
       "      <td>0.9951</td>\n",
       "      <td>C0018965</td>\n",
       "      <td>0.1252</td>\n",
       "    </tr>\n",
       "    <tr>\n",
       "      <th>7</th>\n",
       "      <td>A 45-year-old male diagnosed with hypertension and hyperlipidemia, experiencing chest pain and shortness of breath.</td>\n",
       "      <td>hypertension</td>\n",
       "      <td>34</td>\n",
       "      <td>45</td>\n",
       "      <td>PROBLEM</td>\n",
       "      <td>0.9994</td>\n",
       "      <td>C0020538</td>\n",
       "      <td>0.9994</td>\n",
       "    </tr>\n",
       "    <tr>\n",
       "      <th>8</th>\n",
       "      <td>A 45-year-old male diagnosed with hypertension and hyperlipidemia, experiencing chest pain and shortness of breath.</td>\n",
       "      <td>hyperlipidemia</td>\n",
       "      <td>51</td>\n",
       "      <td>64</td>\n",
       "      <td>PROBLEM</td>\n",
       "      <td>0.9972</td>\n",
       "      <td>C0020473</td>\n",
       "      <td>0.9972</td>\n",
       "    </tr>\n",
       "    <tr>\n",
       "      <th>9</th>\n",
       "      <td>A 45-year-old male diagnosed with hypertension and hyperlipidemia, experiencing chest pain and shortness of breath.</td>\n",
       "      <td>chest pain</td>\n",
       "      <td>80</td>\n",
       "      <td>89</td>\n",
       "      <td>PROBLEM</td>\n",
       "      <td>0.99660003</td>\n",
       "      <td>C0694545</td>\n",
       "      <td>0.2079</td>\n",
       "    </tr>\n",
       "    <tr>\n",
       "      <th>10</th>\n",
       "      <td>A 45-year-old male diagnosed with hypertension and hyperlipidemia, experiencing chest pain and shortness of breath.</td>\n",
       "      <td>shortness of breath</td>\n",
       "      <td>95</td>\n",
       "      <td>113</td>\n",
       "      <td>PROBLEM</td>\n",
       "      <td>0.8344334</td>\n",
       "      <td>C0748643</td>\n",
       "      <td>0.4083</td>\n",
       "    </tr>\n",
       "  </tbody>\n",
       "</table>\n",
       "</div>"
      ],
      "text/plain": [
       "                                                                                                               document  \\\n",
       "0                                              HTG-induced pancreatitis associated with an acute hepatitis, and obesity   \n",
       "1                                              HTG-induced pancreatitis associated with an acute hepatitis, and obesity   \n",
       "2                                              HTG-induced pancreatitis associated with an acute hepatitis, and obesity   \n",
       "3   A 34-year-old female with a history of poor appetite, gestational diabetes mellitus, acyclovir allergy and polyuria   \n",
       "4   A 34-year-old female with a history of poor appetite, gestational diabetes mellitus, acyclovir allergy and polyuria   \n",
       "5   A 34-year-old female with a history of poor appetite, gestational diabetes mellitus, acyclovir allergy and polyuria   \n",
       "6   A 34-year-old female with a history of poor appetite, gestational diabetes mellitus, acyclovir allergy and polyuria   \n",
       "7   A 45-year-old male diagnosed with hypertension and hyperlipidemia, experiencing chest pain and shortness of breath.   \n",
       "8   A 45-year-old male diagnosed with hypertension and hyperlipidemia, experiencing chest pain and shortness of breath.   \n",
       "9   A 45-year-old male diagnosed with hypertension and hyperlipidemia, experiencing chest pain and shortness of breath.   \n",
       "10  A 45-year-old male diagnosed with hypertension and hyperlipidemia, experiencing chest pain and shortness of breath.   \n",
       "\n",
       "                        ner_chunk  begin  end ner_label ner_confidence  \\\n",
       "0        HTG-induced pancreatitis      0   23   PROBLEM         0.9539   \n",
       "1              an acute hepatitis     41   58   PROBLEM      0.9794333   \n",
       "2                         obesity     65   71   PROBLEM         0.9828   \n",
       "3                   poor appetite     39   51   PROBLEM     0.97704995   \n",
       "4   gestational diabetes mellitus     54   82   PROBLEM     0.95376664   \n",
       "5               acyclovir allergy     85  101   PROBLEM        0.74755   \n",
       "6                        polyuria    107  114   PROBLEM         0.9951   \n",
       "7                    hypertension     34   45   PROBLEM         0.9994   \n",
       "8                  hyperlipidemia     51   64   PROBLEM         0.9972   \n",
       "9                      chest pain     80   89   PROBLEM     0.99660003   \n",
       "10            shortness of breath     95  113   PROBLEM      0.8344334   \n",
       "\n",
       "   umls_code umls_confidence  \n",
       "0   C0376670          0.1170  \n",
       "1   C0019159          0.2740  \n",
       "2   C0028754          0.9828  \n",
       "3   C0003123          0.3963  \n",
       "4   C0085207      0.95376664  \n",
       "5   C0571297         0.74755  \n",
       "6   C0018965          0.1252  \n",
       "7   C0020538          0.9994  \n",
       "8   C0020473          0.9972  \n",
       "9   C0694545          0.2079  \n",
       "10  C0748643          0.4083  "
      ]
     },
     "metadata": {},
     "output_type": "display_data"
    }
   ],
   "source": [
    "process_s3_json_output_and_save(validation_json_file_name)"
   ]
  },
  {
   "cell_type": "markdown",
   "metadata": {},
   "source": [
    "### JSON Lines"
   ]
  },
  {
   "cell_type": "code",
   "execution_count": null,
   "metadata": {
    "tags": []
   },
   "outputs": [],
   "source": [
    "transformer = model.transformer(\n",
    "    instance_count=1,\n",
    "    instance_type=batch_transform_inference_instance_type,\n",
    "    accept=\"application/jsonlines\",\n",
    "    output_path=validation_output_jsonl_path\n",
    ")\n",
    "transformer.transform(validation_input_jsonl_path, content_type=\"application/jsonlines\")\n",
    "transformer.wait()"
   ]
  },
  {
   "cell_type": "code",
   "execution_count": 19,
   "metadata": {
    "tags": []
   },
   "outputs": [],
   "source": [
    "from urllib.parse import urlparse\n",
    "\n",
    "def process_s3_jsonlines_output_and_save(validation_file_name):\n",
    "\n",
    "    output_file_path = f\"{jsonl_output_dir}/{validation_file_name}.out\"\n",
    "    parsed_url = urlparse(transformer.output_path)\n",
    "    file_key = f\"{parsed_url.path[1:]}{validation_file_name}.out\"\n",
    "    response = s3_client.get_object(Bucket=s3_bucket, Key=file_key)\n",
    "\n",
    "    data = response[\"Body\"].read().decode(\"utf-8\")\n",
    "    print(data)\n",
    "\n",
    "    # Save the data to the output file\n",
    "    with open(output_file_path, 'w') as f_out:\n",
    "        for item in data.split('\\n'):\n",
    "            f_out.write(item + '\\n')"
   ]
  },
  {
   "cell_type": "code",
   "execution_count": 20,
   "metadata": {
    "tags": []
   },
   "outputs": [
    {
     "name": "stdout",
     "output_type": "stream",
     "text": [
      "{\"predictions\": [{\"ner_chunk\": \"HTG-induced pancreatitis\", \"begin\": 0, \"end\": 23, \"ner_label\": \"PROBLEM\", \"ner_confidence\": \"0.9539\", \"umls_code\": \"C0376670\", \"umls_confidence\": \"0.1170\"}, {\"ner_chunk\": \"an acute hepatitis\", \"begin\": 41, \"end\": 58, \"ner_label\": \"PROBLEM\", \"ner_confidence\": \"0.9794333\", \"umls_code\": \"C0019159\", \"umls_confidence\": \"0.2740\"}, {\"ner_chunk\": \"obesity\", \"begin\": 65, \"end\": 71, \"ner_label\": \"PROBLEM\", \"ner_confidence\": \"0.9828\", \"umls_code\": \"C0028754\", \"umls_confidence\": \"0.9828\"}]}\n",
      "{\"predictions\": [{\"ner_chunk\": \"poor appetite\", \"begin\": 39, \"end\": 51, \"ner_label\": \"PROBLEM\", \"ner_confidence\": \"0.97704995\", \"umls_code\": \"C0003123\", \"umls_confidence\": \"0.3963\"}, {\"ner_chunk\": \"gestational diabetes mellitus\", \"begin\": 54, \"end\": 82, \"ner_label\": \"PROBLEM\", \"ner_confidence\": \"0.95376664\", \"umls_code\": \"C0085207\", \"umls_confidence\": \"0.95376664\"}, {\"ner_chunk\": \"acyclovir allergy\", \"begin\": 85, \"end\": 101, \"ner_label\": \"PROBLEM\", \"ner_confidence\": \"0.74755\", \"umls_code\": \"C0571297\", \"umls_confidence\": \"0.74755\"}, {\"ner_chunk\": \"polyuria\", \"begin\": 107, \"end\": 114, \"ner_label\": \"PROBLEM\", \"ner_confidence\": \"0.9951\", \"umls_code\": \"C0018965\", \"umls_confidence\": \"0.1252\"}]}\n",
      "{\"predictions\": [{\"ner_chunk\": \"hypertension\", \"begin\": 34, \"end\": 45, \"ner_label\": \"PROBLEM\", \"ner_confidence\": \"0.9994\", \"umls_code\": \"C0020538\", \"umls_confidence\": \"0.9994\"}, {\"ner_chunk\": \"hyperlipidemia\", \"begin\": 51, \"end\": 64, \"ner_label\": \"PROBLEM\", \"ner_confidence\": \"0.9972\", \"umls_code\": \"C0020473\", \"umls_confidence\": \"0.9972\"}, {\"ner_chunk\": \"chest pain\", \"begin\": 80, \"end\": 89, \"ner_label\": \"PROBLEM\", \"ner_confidence\": \"0.99660003\", \"umls_code\": \"C0694545\", \"umls_confidence\": \"0.2079\"}, {\"ner_chunk\": \"shortness of breath\", \"begin\": 95, \"end\": 113, \"ner_label\": \"PROBLEM\", \"ner_confidence\": \"0.8344334\", \"umls_code\": \"C0748643\", \"umls_confidence\": \"0.4083\"}]}\n"
     ]
    }
   ],
   "source": [
    "process_s3_jsonlines_output_and_save(validation_jsonl_file_name)"
   ]
  },
  {
   "cell_type": "code",
   "execution_count": 21,
   "metadata": {
    "tags": []
   },
   "outputs": [
    {
     "name": "stderr",
     "output_type": "stream",
     "text": [
      "INFO:sagemaker:Deleting model with name: en-map-entity-umls-disease-syndrome-res-2024-05-06-12-09-46-519\n"
     ]
    }
   ],
   "source": [
    "model.delete_model()"
   ]
  },
  {
   "cell_type": "markdown",
   "metadata": {},
   "source": [
    "### Unsubscribe to the listing (optional)"
   ]
  },
  {
   "cell_type": "markdown",
   "metadata": {
    "tags": []
   },
   "source": [
    "If you would like to unsubscribe to the model package, follow these steps. Before you cancel the subscription, ensure that you do not have any [deployable model](https://console.aws.amazon.com/sagemaker/home#/models) created from the model package or using the algorithm. Note - You can find this information by looking at the container name associated with the model. \n",
    "\n",
    "**Steps to unsubscribe to product from AWS Marketplace**:\n",
    "1. Navigate to __Machine Learning__ tab on [__Your Software subscriptions page__](https://aws.amazon.com/marketplace/ai/library?productType=ml&ref_=mlmp_gitdemo_indust)\n",
    "2. Locate the listing that you want to cancel the subscription for, and then choose __Cancel Subscription__  to cancel the subscription.\n",
    "\n"
   ]
  }
 ],
 "metadata": {
  "instance_type": "ml.t3.medium",
  "kernelspec": {
   "display_name": "conda_python3",
   "language": "python",
   "name": "conda_python3"
  },
  "language_info": {
   "codemirror_mode": {
    "name": "ipython",
    "version": 3
   },
   "file_extension": ".py",
   "mimetype": "text/x-python",
   "name": "python",
   "nbconvert_exporter": "python",
   "pygments_lexer": "ipython3",
   "version": "3.10.14"
  }
 },
 "nbformat": 4,
 "nbformat_minor": 4
}

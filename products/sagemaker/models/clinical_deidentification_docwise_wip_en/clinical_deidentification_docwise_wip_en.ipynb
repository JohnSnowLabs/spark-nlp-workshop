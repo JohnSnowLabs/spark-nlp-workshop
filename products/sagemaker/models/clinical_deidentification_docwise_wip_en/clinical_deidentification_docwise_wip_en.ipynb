{
 "cells": [
  {
   "cell_type": "markdown",
   "metadata": {},
   "source": [
    "## 1. Subscribe to the model package"
   ]
  },
  {
   "cell_type": "markdown",
   "metadata": {},
   "source": [
    "To subscribe to the model package:\n",
    "1. Open the model package listing page [Deidentify Clinical Documents (EN)](https://aws.amazon.com/marketplace/pp/prodview-ghf7wfm7o2wva).\n",
    "1. On the AWS Marketplace listing, click on the **Continue to subscribe** button.\n",
    "1. On the **Subscribe to this software** page, review and click on **\"Accept Offer\"** if you and your organization agrees with EULA, pricing, and support terms. \n",
    "1. Once you click on **Continue to configuration button** and then choose a **region**, you will see a **Product Arn** displayed. This is the model package ARN that you need to specify while creating a deployable model using Boto3. Copy the ARN corresponding to your region and specify the same in the following cell."
   ]
  },
  {
   "cell_type": "markdown",
   "metadata": {},
   "source": [
    "## Deidentify Clinical Document (EN)\n",
    "\n",
    "- **Model**: `clinical_deidentification_docwise_wip_en`\n",
    "\n",
    "- **Model Description**: This pipeline can be used to deidentify PHI information from medical texts. The PHI information will be masked and obfuscated in the resulting text. \n",
    "The pipeline can mask and obfuscate `LOCATION`, `CONTACT`, `PROFESSION`, `NAME`, `DATE`, `ID`, `AGE`, `MEDICALRECORD`, `ORGANIZATION`, `HEALTHPLAN`, `DOCTOR`, `USERNAME`,\n",
    "`LOCATION-OTHER`, `URL`, `DEVICE`, `CITY`, `ZIP`, `STATE`, `PATIENT`, `COUNTRY`, `STREET`, `PHONE`, `HOSPITAL`, `EMAIL`, `IDNUM`, `BIOID`, `FAX`, `LOCATION_OTHER`, `DLN`,\n",
    "`SSN`, `ACCOUNT`, `PLATE`, `VIN`, `LICENSE`, `IP` entities.\n"
   ]
  },
  {
   "cell_type": "code",
   "execution_count": 1,
   "metadata": {
    "tags": []
   },
   "outputs": [],
   "source": [
    "model_package_arn = \"<Customer to specify Model package ARN corresponding to their AWS region>\""
   ]
  },
  {
   "cell_type": "code",
   "execution_count": 2,
   "metadata": {
    "tags": []
   },
   "outputs": [
    {
     "name": "stdout",
     "output_type": "stream",
     "text": [
      "sagemaker.config INFO - Not applying SDK defaults from location: /etc/xdg/sagemaker/config.yaml\n",
      "sagemaker.config INFO - Not applying SDK defaults from location: /home/ec2-user/.config/sagemaker/config.yaml\n"
     ]
    }
   ],
   "source": [
    "import base64\n",
    "import json\n",
    "import uuid\n",
    "from sagemaker import ModelPackage\n",
    "import sagemaker as sage\n",
    "from sagemaker import get_execution_role\n",
    "import boto3\n",
    "from IPython.display import Image, display\n",
    "from PIL import Image as ImageEdit\n",
    "import numpy as np"
   ]
  },
  {
   "cell_type": "code",
   "execution_count": 3,
   "metadata": {
    "tags": []
   },
   "outputs": [],
   "source": [
    "sagemaker_session = sage.Session()\n",
    "s3_bucket = sagemaker_session.default_bucket()\n",
    "region = sagemaker_session.boto_region_name\n",
    "account_id = boto3.client(\"sts\").get_caller_identity().get(\"Account\")\n",
    "role = get_execution_role()\n",
    "\n",
    "sagemaker = boto3.client(\"sagemaker\")\n",
    "s3_client = sagemaker_session.boto_session.client(\"s3\")\n",
    "ecr = boto3.client(\"ecr\")\n",
    "sm_runtime = boto3.client(\"sagemaker-runtime\")"
   ]
  },
  {
   "cell_type": "markdown",
   "metadata": {},
   "source": [
    "## 2. Create an endpoint and perform real-time inference"
   ]
  },
  {
   "cell_type": "markdown",
   "metadata": {},
   "source": [
    "If you want to understand how real-time inference with Amazon SageMaker works, see [Documentation](https://docs.aws.amazon.com/sagemaker/latest/dg/how-it-works-hosting.html)."
   ]
  },
  {
   "cell_type": "code",
   "execution_count": 4,
   "metadata": {
    "tags": []
   },
   "outputs": [],
   "source": [
    "model_name = \"clinical-deidentification-docwise-wip-en\"\n",
    "\n",
    "real_time_inference_instance_type = \"ml.m4.xlarge\"\n",
    "batch_transform_inference_instance_type = \"ml.m4.xlarge\""
   ]
  },
  {
   "cell_type": "markdown",
   "metadata": {},
   "source": [
    "### A. Create an endpoint"
   ]
  },
  {
   "cell_type": "code",
   "execution_count": 5,
   "metadata": {
    "tags": []
   },
   "outputs": [
    {
     "name": "stdout",
     "output_type": "stream",
     "text": [
      "----------!"
     ]
    }
   ],
   "source": [
    "# create a deployable model from the model package.\n",
    "model = ModelPackage(\n",
    "    role=role, model_package_arn=model_package_arn, sagemaker_session=sagemaker_session\n",
    ")\n",
    "\n",
    "# Deploy the model\n",
    "predictor = model.deploy(1, real_time_inference_instance_type, endpoint_name=model_name)"
   ]
  },
  {
   "cell_type": "markdown",
   "metadata": {},
   "source": [
    "Once endpoint has been created, you would be able to perform real-time inference."
   ]
  },
  {
   "cell_type": "code",
   "execution_count": 6,
   "metadata": {
    "tags": []
   },
   "outputs": [],
   "source": [
    "import json\n",
    "import pandas as pd\n",
    "import os\n",
    "import boto3\n",
    "\n",
    "# Set display options\n",
    "pd.set_option('display.max_rows', None)\n",
    "pd.set_option('display.max_columns', None)\n",
    "pd.set_option('display.max_colwidth', None)\n",
    "\n",
    "def process_data_and_invoke_realtime_endpoint(data, content_type, accept):\n",
    "\n",
    "    content_type_to_format = {'application/json': 'json', 'application/jsonlines': 'jsonl'}\n",
    "    input_format = content_type_to_format.get(content_type)\n",
    "    if content_type not in content_type_to_format.keys() or accept not in content_type_to_format.keys():\n",
    "        raise ValueError(\"Invalid content_type or accept. It should be either 'application/json' or 'application/jsonlines'.\")\n",
    "\n",
    "    i = 1\n",
    "    input_dir = f'inputs/real-time/{input_format}'\n",
    "    output_dir = f'outputs/real-time/{input_format}'\n",
    "    s3_input_dir = f\"{model_name}/validation-input/real-time/{input_format}\"\n",
    "    s3_output_dir = f\"{model_name}/validation-output/real-time/{input_format}\"\n",
    "\n",
    "    input_file_name = f'{input_dir}/input{i}.{input_format}'\n",
    "    output_file_name = f'{output_dir}/{os.path.basename(input_file_name)}.out'\n",
    "\n",
    "    while os.path.exists(input_file_name) or os.path.exists(output_file_name):\n",
    "        i += 1\n",
    "        input_file_name = f'{input_dir}/input{i}.{input_format}'\n",
    "        output_file_name = f'{output_dir}/{os.path.basename(input_file_name)}.out'\n",
    "\n",
    "    os.makedirs(os.path.dirname(input_file_name), exist_ok=True)\n",
    "    os.makedirs(os.path.dirname(output_file_name), exist_ok=True)\n",
    "\n",
    "    input_data = json.dumps(data) if content_type == 'application/json' else data\n",
    "\n",
    "    # Write input data to file\n",
    "    with open(input_file_name, 'w') as f:\n",
    "        f.write(input_data)\n",
    "\n",
    "    # Upload input data to S3\n",
    "    s3_client.put_object(Bucket=s3_bucket, Key=f\"{s3_input_dir}/{os.path.basename(input_file_name)}\", Body=bytes(input_data.encode('UTF-8')))\n",
    "\n",
    "    # Invoke the SageMaker endpoint\n",
    "    response = sm_runtime.invoke_endpoint(\n",
    "        EndpointName=model_name,\n",
    "        ContentType=content_type,\n",
    "        Accept=accept,\n",
    "        Body=input_data,\n",
    "    )\n",
    "\n",
    "    # Read response data\n",
    "    response_data = json.loads(response[\"Body\"].read().decode(\"utf-8\")) if accept == 'application/json' else response['Body'].read().decode('utf-8')\n",
    "\n",
    "    # Save response data to file\n",
    "    with open(output_file_name, 'w') as f_out:\n",
    "        if accept == 'application/json':\n",
    "            json.dump(response_data, f_out, indent=4)\n",
    "        else:\n",
    "            for item in response_data.split('\\n'):\n",
    "                f_out.write(item + '\\n')\n",
    "\n",
    "    # Upload response data to S3\n",
    "    output_s3_key = f\"{s3_output_dir}/{os.path.basename(output_file_name)}\"\n",
    "    if accept == 'application/json':\n",
    "        s3_client.put_object(Bucket=s3_bucket, Key=output_s3_key, Body=json.dumps(response_data).encode('UTF-8'))\n",
    "    else:\n",
    "        s3_client.put_object(Bucket=s3_bucket, Key=output_s3_key, Body=response_data)\n",
    "\n",
    "    return response_data"
   ]
  },
  {
   "cell_type": "markdown",
   "metadata": {},
   "source": [
    "### Initial Setup"
   ]
  },
  {
   "cell_type": "code",
   "execution_count": 7,
   "metadata": {
    "tags": []
   },
   "outputs": [],
   "source": [
    "docs = [\n",
    "'''Mr. William Garcia, 25 years-old , born in Beijing, was transfered to the The Johns Hopkins Hospital. Phone number: (541) 754-3010. MSW: 100009632582 . for his colonic polyps.  William Garcia wants to know the results from them.  He is not taking hydrochlorothiazide and is curious about his blood pressure. He said he has cut his alcohol back to 6 pack once a week.  William Garcia has cut back his cigarettes to one time per week. MR. # 50712249 P:   Follow up with Dr. Hobbs Spruce in 3 months. Gilbert P. Perez, M.D. Johns Hopkins Hospital 1800 Orleans St. PHONE: (+1) 410-955-5000 ''',\n",
    "\n",
    "'''Record date : 2022-01-13 , Ethan Hale , M.D . , Name : Ava Davis. EMAIL: davis_a@gmail.com. MR # 7190334  Phone : (555) 555-1212. Date : 01-13-1993 PCP : Oliveira , 29 years-old. A long history of insulin dependent diabetes, type 2; coronary artery disease; chronic renal insufficiency; peripheral vascular disease, also secondary to diabetes; who was originally admitted to an outside hospital for what appeared to be acute paraplegia, lower extremities.  Ava Davis was noted to have a large sacral wound; this is in a similar location with his previous laminectomy, and this continues to receive daily care. DD: 01/13/2022 . DV: 01/13/2022. Ethan Hale , M.D. MSW 754443200936. NewYork-Presbyterian Hospital . 525 East 68th Street. (85) 555-1212. ''',\n",
    "\n",
    "]\n",
    "\n",
    "\n",
    "sample_text = \"\"\"Record date : 2013-01-13, David Hale, M.D. is manager,  Name: Elvis Presley. Age: 17. Phone: (9) 7765-5632. MR. # 7194334 Date: 01-13-1993 PCP: Oliveira. Record date: 2012-11-09. Cocke County Baptist Hospital 0295 Keats Street. This 17-yr-old male, presented with chest heaviness that started during a pick-up basketball game. His past medical history was unremarkable. Elvis Presley denied prior cardiac symptoms and suffered no chest trauma during the game. His father had suffered an acute myocardial infarction at age 38. Elvis Presley was a nonsmoker, did not drink alcohol, and denied recreational drug use. Elvis Presley swallowed a tablet of aspirin before coming to the emergency room. His blood pressure was 160/90 mm Hg, and his heart rate was 80 bpm. Physical examination revealed no stigmata of Marfan syndrome. The rest of his physical examination was normal. DD: 01/13/2013 . DV: 01/13/2013, Cocke County Baptist Hospital 0295 Keats Street. PHONE : (+1) 423-625-2200 \"\"\""
   ]
  },
  {
   "cell_type": "markdown",
   "metadata": {},
   "source": [
    "### Important Parameter\n",
    "\n",
    "- **masking_policy**: `str`\n",
    "\n",
    "    Users can select a masking policy to determine how sensitive entities are handled:\n",
    "\n",
    "    - **masked**: Default policy that masks entities with their type.\n",
    "\n",
    "      Example: \"My name is Mike. I was admitted to the hospital yesterday.\"  \n",
    "      -> \"My name is `<PATIENT>`. I was admitted to the hospital yesterday.\"\n",
    "\n",
    "    - **obfuscated**: Replaces sensitive entities with random values of the same type.\n",
    "\n",
    "      Example: \"My name is Mike. I was admitted to the hospital yesterday.\"  \n",
    "      -> \"My name is `Barbaraann Share`. I was admitted to the hospital yesterday.\"\n",
    "\n",
    "    \n",
    "You can specify these parameters in the input as follows:\n",
    "\n",
    "```json\n",
    "{\n",
    "    \"text\": [\n",
    "        \"Text document 1\",\n",
    "        \"Text document 2\",\n",
    "        ...\n",
    "    ],\n",
    "    \"masking_policy\": \"masked\",\n",
    "}\n",
    "```\n"
   ]
  },
  {
   "cell_type": "markdown",
   "metadata": {},
   "source": [
    "### JSON"
   ]
  },
  {
   "cell_type": "markdown",
   "metadata": {
    "tags": []
   },
   "source": [
    "1. **Input format**: Single Text Document\n",
    "\n",
    "Provide a single text document as a string.\n",
    "\n",
    "  \n",
    "  \n",
    "```json\n",
    "{\n",
    "    \"text\": \"Single text document\"\n",
    "}\n",
    "```\n",
    "\n",
    "2. **Input format**: Array of Text Documents\n",
    "\n",
    "Use an array containing multiple text documents. Each element represents a separate text document.\n",
    "\n",
    "```json\n",
    "{\n",
    "    \"text\": [\n",
    "        \"Text document 1\",\n",
    "        \"Text document 2\",\n",
    "        ...\n",
    "    ]\n",
    "}\n",
    "```"
   ]
  },
  {
   "cell_type": "markdown",
   "metadata": {
    "tags": []
   },
   "source": [
    "#### Example 1: masked (default-policy)"
   ]
  },
  {
   "cell_type": "code",
   "execution_count": 8,
   "metadata": {
    "tags": []
   },
   "outputs": [
    {
     "data": {
      "text/html": [
       "<div>\n",
       "<style scoped>\n",
       "    .dataframe tbody tr th:only-of-type {\n",
       "        vertical-align: middle;\n",
       "    }\n",
       "\n",
       "    .dataframe tbody tr th {\n",
       "        vertical-align: top;\n",
       "    }\n",
       "\n",
       "    .dataframe thead th {\n",
       "        text-align: right;\n",
       "    }\n",
       "</style>\n",
       "<table border=\"1\" class=\"dataframe\">\n",
       "  <thead>\n",
       "    <tr style=\"text-align: right;\">\n",
       "      <th></th>\n",
       "      <th>predictions</th>\n",
       "    </tr>\n",
       "  </thead>\n",
       "  <tbody>\n",
       "    <tr>\n",
       "      <th>0</th>\n",
       "      <td>Record date : &lt;DATE&gt;, &lt;DOCTOR&gt;, M.D. is &lt;PROFESSION&gt;,  Name: &lt;PATIENT&gt;. Age: &lt;AGE&gt;. Phone: (&lt;AGE&gt;) &lt;AGE&gt;5-5632. MR. # &lt;MEDICALRECORD&gt; Date: &lt;DATE&gt; PCP: &lt;DOCTOR&gt;. Record date: &lt;DATE&gt;. &lt;HOSPITAL&gt; &lt;STREET&gt;. This &lt;AGE&gt;-yr-old male, presented with chest heaviness that started during a &lt;PROFESSION&gt;. His past medical history was unremarkable. &lt;PATIENT&gt; denied prior cardiac symptoms and suffered no chest trauma during the game. His father had suffered an acute myocardial infarction at age &lt;AGE&gt;. Elvis &lt;PATIENT&gt; was a nonsmoker, did not drink alcohol, and denied recreational drug use. &lt;PATIENT&gt; swallowed a tablet of aspirin before coming to the emergency room. His blood pressure was 160/90 mm Hg, and his heart rate was 80 bpm. Physical examination revealed no stigmata of Marfan syndrome. The rest of his physical examination was normal. DD: &lt;DATE&gt; . DV: &lt;DATE&gt;, Cocke &lt;LOCATION&gt; &lt;STREET&gt;. PHONE : &lt;PHONE&gt;</td>\n",
       "    </tr>\n",
       "  </tbody>\n",
       "</table>\n",
       "</div>"
      ],
      "text/plain": [
       "                                                                                                                                                                                                                                                                                                                                                                                                                                                                                                                                                                                                                                                                                                                                                                                                                                                                                                                                   predictions\n",
       "0  Record date : <DATE>, <DOCTOR>, M.D. is <PROFESSION>,  Name: <PATIENT>. Age: <AGE>. Phone: (<AGE>) <AGE>5-5632. MR. # <MEDICALRECORD> Date: <DATE> PCP: <DOCTOR>. Record date: <DATE>. <HOSPITAL> <STREET>. This <AGE>-yr-old male, presented with chest heaviness that started during a <PROFESSION>. His past medical history was unremarkable. <PATIENT> denied prior cardiac symptoms and suffered no chest trauma during the game. His father had suffered an acute myocardial infarction at age <AGE>. Elvis <PATIENT> was a nonsmoker, did not drink alcohol, and denied recreational drug use. <PATIENT> swallowed a tablet of aspirin before coming to the emergency room. His blood pressure was 160/90 mm Hg, and his heart rate was 80 bpm. Physical examination revealed no stigmata of Marfan syndrome. The rest of his physical examination was normal. DD: <DATE> . DV: <DATE>, Cocke <LOCATION> <STREET>. PHONE : <PHONE> "
      ]
     },
     "execution_count": 8,
     "metadata": {},
     "output_type": "execute_result"
    }
   ],
   "source": [
    "input_json_data = {\"text\": sample_text}\n",
    "\n",
    "data =  process_data_and_invoke_realtime_endpoint(input_json_data, content_type=\"application/json\" , accept=\"application/json\" )\n",
    "\n",
    "pd.DataFrame(data)"
   ]
  },
  {
   "cell_type": "markdown",
   "metadata": {},
   "source": [
    "#### Example 2: obfuscated"
   ]
  },
  {
   "cell_type": "code",
   "execution_count": 9,
   "metadata": {
    "tags": []
   },
   "outputs": [
    {
     "data": {
      "text/html": [
       "<div>\n",
       "<style scoped>\n",
       "    .dataframe tbody tr th:only-of-type {\n",
       "        vertical-align: middle;\n",
       "    }\n",
       "\n",
       "    .dataframe tbody tr th {\n",
       "        vertical-align: top;\n",
       "    }\n",
       "\n",
       "    .dataframe thead th {\n",
       "        text-align: right;\n",
       "    }\n",
       "</style>\n",
       "<table border=\"1\" class=\"dataframe\">\n",
       "  <thead>\n",
       "    <tr style=\"text-align: right;\">\n",
       "      <th></th>\n",
       "      <th>predictions</th>\n",
       "    </tr>\n",
       "  </thead>\n",
       "  <tbody>\n",
       "    <tr>\n",
       "      <th>0</th>\n",
       "      <td>Record date : 2013-02-28, Randall Bush, M.D. is Insurance underwriter,  Name: Hildegard Low. Age: 19. Phone: (4) 1405-5632. MR. # 7829562 Date: 02-28-1993 PCP: Raelene Bullocks. Record date: 2012-12-25. TEXAS HEALTH HARRIS METHODIST HOSPITAL SOUTHLAKE 1026 A Avenue Ne. This 19-yr-old male, presented with chest heaviness that started during a Risk manager. His past medical history was unremarkable. Hildegard Low denied prior cardiac symptoms and suffered no chest trauma during the game. His father had suffered an acute myocardial infarction at age 32. Elvis Linell Rhymes was a nonsmoker, did not drink alcohol, and denied recreational drug use. Hildegard Low swallowed a tablet of aspirin before coming to the emergency room. His blood pressure was 160/90 mm Hg, and his heart rate was 80 bpm. Physical examination revealed no stigmata of Marfan syndrome. The rest of his physical examination was normal. DD: 02/28/2013 . DV: 02/28/2013, Cocke 323 Evergreen Street 1026 A Avenue Ne. PHONE : (+1) 308-657-8469</td>\n",
       "    </tr>\n",
       "  </tbody>\n",
       "</table>\n",
       "</div>"
      ],
      "text/plain": [
       "                                                                                                                                                                                                                                                                                                                                                                                                                                                                                                                                                                                                                                                                                                                                                                                                                                                                                                                                                                                                                                               predictions\n",
       "0  Record date : 2013-02-28, Randall Bush, M.D. is Insurance underwriter,  Name: Hildegard Low. Age: 19. Phone: (4) 1405-5632. MR. # 7829562 Date: 02-28-1993 PCP: Raelene Bullocks. Record date: 2012-12-25. TEXAS HEALTH HARRIS METHODIST HOSPITAL SOUTHLAKE 1026 A Avenue Ne. This 19-yr-old male, presented with chest heaviness that started during a Risk manager. His past medical history was unremarkable. Hildegard Low denied prior cardiac symptoms and suffered no chest trauma during the game. His father had suffered an acute myocardial infarction at age 32. Elvis Linell Rhymes was a nonsmoker, did not drink alcohol, and denied recreational drug use. Hildegard Low swallowed a tablet of aspirin before coming to the emergency room. His blood pressure was 160/90 mm Hg, and his heart rate was 80 bpm. Physical examination revealed no stigmata of Marfan syndrome. The rest of his physical examination was normal. DD: 02/28/2013 . DV: 02/28/2013, Cocke 323 Evergreen Street 1026 A Avenue Ne. PHONE : (+1) 308-657-8469 "
      ]
     },
     "execution_count": 9,
     "metadata": {},
     "output_type": "execute_result"
    }
   ],
   "source": [
    "input_json_data = {\"text\": sample_text, \"masking_policy\": \"obfuscated\"}\n",
    "\n",
    "data =  process_data_and_invoke_realtime_endpoint(input_json_data, content_type=\"application/json\" , accept=\"application/json\" )\n",
    "\n",
    "pd.DataFrame(data)"
   ]
  },
  {
   "cell_type": "markdown",
   "metadata": {},
   "source": [
    "#### Example 3: masked (default-policy)"
   ]
  },
  {
   "cell_type": "code",
   "execution_count": 10,
   "metadata": {
    "tags": []
   },
   "outputs": [
    {
     "data": {
      "text/html": [
       "<div>\n",
       "<style scoped>\n",
       "    .dataframe tbody tr th:only-of-type {\n",
       "        vertical-align: middle;\n",
       "    }\n",
       "\n",
       "    .dataframe tbody tr th {\n",
       "        vertical-align: top;\n",
       "    }\n",
       "\n",
       "    .dataframe thead th {\n",
       "        text-align: right;\n",
       "    }\n",
       "</style>\n",
       "<table border=\"1\" class=\"dataframe\">\n",
       "  <thead>\n",
       "    <tr style=\"text-align: right;\">\n",
       "      <th></th>\n",
       "      <th>predictions</th>\n",
       "    </tr>\n",
       "  </thead>\n",
       "  <tbody>\n",
       "    <tr>\n",
       "      <th>0</th>\n",
       "      <td>Mr. &lt;PATIENT&gt;, &lt;AGE&gt; years-old , born in &lt;CITY&gt;, was transfered to the The &lt;HOSPITAL&gt;. Phone number: &lt;PHONE&gt;. MSW: &lt;PHONE&gt; . for his colonic polyps.  &lt;PATIENT&gt; wants to know the results from them.  He is not taking hydrochlorothiazide and is curious about his blood pressure. He said he has cut his alcohol back to 6 pack once a week.  &lt;PATIENT&gt; has cut back his cigarettes to one time per week. MR. # &lt;IDNUM&gt; P:   Follow up with Dr. &lt;DOCTOR&gt; in 3 months. &lt;DOCTOR&gt; P. &lt;DOCTOR&gt;, M.D. &lt;HOSPITAL&gt; &lt;STREET&gt;. PHONE: &lt;PHONE&gt;</td>\n",
       "    </tr>\n",
       "    <tr>\n",
       "      <th>1</th>\n",
       "      <td>Record date : &lt;DATE&gt; , &lt;DOCTOR&gt; , M.D . , Name : &lt;DOCTOR&gt;. &lt;NAME&gt;: &lt;EMAIL&gt;. MR # &lt;MEDICALRECORD&gt;  Phone : &lt;PHONE&gt;. Date : &lt;DATE&gt; PCP : &lt;DOCTOR&gt; , &lt;AGE&gt; years-old. A long history of insulin dependent diabetes, type 2; coronary artery disease; chronic renal insufficiency; peripheral vascular disease, also secondary to diabetes; who was originally admitted to an outside hospital for what appeared to be acute paraplegia, lower extremities.  Ava &lt;PATIENT&gt; was noted to have a large sacral wound; this is in a similar location with his previous laminectomy, and this continues to receive daily care. DD: &lt;DATE&gt; . DV: &lt;DATE&gt;. &lt;DOCTOR&gt; , M.D. MSW &lt;IDNUM&gt;. &lt;HOSPITAL&gt; . &lt;STREET&gt; &lt;CITY&gt;. &lt;PHONE&gt;.</td>\n",
       "    </tr>\n",
       "  </tbody>\n",
       "</table>\n",
       "</div>"
      ],
      "text/plain": [
       "                                                                                                                                                                                                                                                                                                                                                                                                                                                                                                                                                                                                                                                                                                           predictions\n",
       "0                                                                                                                                                                              Mr. <PATIENT>, <AGE> years-old , born in <CITY>, was transfered to the The <HOSPITAL>. Phone number: <PHONE>. MSW: <PHONE> . for his colonic polyps.  <PATIENT> wants to know the results from them.  He is not taking hydrochlorothiazide and is curious about his blood pressure. He said he has cut his alcohol back to 6 pack once a week.  <PATIENT> has cut back his cigarettes to one time per week. MR. # <IDNUM> P:   Follow up with Dr. <DOCTOR> in 3 months. <DOCTOR> P. <DOCTOR>, M.D. <HOSPITAL> <STREET>. PHONE: <PHONE> \n",
       "1  Record date : <DATE> , <DOCTOR> , M.D . , Name : <DOCTOR>. <NAME>: <EMAIL>. MR # <MEDICALRECORD>  Phone : <PHONE>. Date : <DATE> PCP : <DOCTOR> , <AGE> years-old. A long history of insulin dependent diabetes, type 2; coronary artery disease; chronic renal insufficiency; peripheral vascular disease, also secondary to diabetes; who was originally admitted to an outside hospital for what appeared to be acute paraplegia, lower extremities.  Ava <PATIENT> was noted to have a large sacral wound; this is in a similar location with his previous laminectomy, and this continues to receive daily care. DD: <DATE> . DV: <DATE>. <DOCTOR> , M.D. MSW <IDNUM>. <HOSPITAL> . <STREET> <CITY>. <PHONE>. "
      ]
     },
     "execution_count": 10,
     "metadata": {},
     "output_type": "execute_result"
    }
   ],
   "source": [
    "input_json_data = {\"text\": docs}\n",
    "# The timeout for InvokeEndpoint is 60 seconds, so please carefully select the number of input texts you are sending in one request.\n",
    "data =  process_data_and_invoke_realtime_endpoint(input_json_data, content_type=\"application/json\" , accept=\"application/json\" )\n",
    "\n",
    "pd.DataFrame(data)"
   ]
  },
  {
   "cell_type": "markdown",
   "metadata": {},
   "source": [
    "#### Example 4: obfuscated"
   ]
  },
  {
   "cell_type": "code",
   "execution_count": 11,
   "metadata": {
    "tags": []
   },
   "outputs": [
    {
     "data": {
      "text/html": [
       "<div>\n",
       "<style scoped>\n",
       "    .dataframe tbody tr th:only-of-type {\n",
       "        vertical-align: middle;\n",
       "    }\n",
       "\n",
       "    .dataframe tbody tr th {\n",
       "        vertical-align: top;\n",
       "    }\n",
       "\n",
       "    .dataframe thead th {\n",
       "        text-align: right;\n",
       "    }\n",
       "</style>\n",
       "<table border=\"1\" class=\"dataframe\">\n",
       "  <thead>\n",
       "    <tr style=\"text-align: right;\">\n",
       "      <th></th>\n",
       "      <th>predictions</th>\n",
       "    </tr>\n",
       "  </thead>\n",
       "  <tbody>\n",
       "    <tr>\n",
       "      <th>0</th>\n",
       "      <td>Mr. Irvin Mantel, 27 years-old , born in MARTTILA, was transfered to the The LARNED STATE HOSPITAL. Phone number: (237) 628-3151. MSW: 761607371062 . for his colonic polyps.  Irvin Mantel wants to know the results from them.  He is not taking hydrochlorothiazide and is curious about his blood pressure. He said he has cut his alcohol back to 6 pack once a week.  Irvin Mantel has cut back his cigarettes to one time per week. MR. # 69485462 P:   Follow up with Dr. Christain Courser in 3 months. Liberty Reed P. Glennis Lansing, M.D. LARNED STATE HOSPITAL 180 Floyd Avenue. PHONE: (+7) 035-009-3818</td>\n",
       "    </tr>\n",
       "    <tr>\n",
       "      <th>1</th>\n",
       "      <td>Record date : 2022-02-28 , Armando Lance , M.D . , Name : Rachael Budd. Carlette Cheers: Averel@hotmail.com. MR # 2993716  Phone : (967) 893-8101. Date : 02-28-1993 PCP : Raelene Bullocks , 22 years-old. A long history of insulin dependent diabetes, type 2; coronary artery disease; chronic renal insufficiency; peripheral vascular disease, also secondary to diabetes; who was originally admitted to an outside hospital for what appeared to be acute paraplegia, lower extremities.  Ava Jacklin Mascot was noted to have a large sacral wound; this is in a similar location with his previous laminectomy, and this continues to receive daily care. DD: 02/28/2022 . DV: 02/28/2022. Armando Lance , M.D. MSW 751025852778. MARSHALL COUNTY HOSPITAL . 3500 S Lafountain St EBEN. (24) 235-3614.</td>\n",
       "    </tr>\n",
       "  </tbody>\n",
       "</table>\n",
       "</div>"
      ],
      "text/plain": [
       "                                                                                                                                                                                                                                                                                                                                                                                                                                                                                                                                                                                                                                                                                                                                                                                                         predictions\n",
       "0                                                                                                                                                                                           Mr. Irvin Mantel, 27 years-old , born in MARTTILA, was transfered to the The LARNED STATE HOSPITAL. Phone number: (237) 628-3151. MSW: 761607371062 . for his colonic polyps.  Irvin Mantel wants to know the results from them.  He is not taking hydrochlorothiazide and is curious about his blood pressure. He said he has cut his alcohol back to 6 pack once a week.  Irvin Mantel has cut back his cigarettes to one time per week. MR. # 69485462 P:   Follow up with Dr. Christain Courser in 3 months. Liberty Reed P. Glennis Lansing, M.D. LARNED STATE HOSPITAL 180 Floyd Avenue. PHONE: (+7) 035-009-3818 \n",
       "1  Record date : 2022-02-28 , Armando Lance , M.D . , Name : Rachael Budd. Carlette Cheers: Averel@hotmail.com. MR # 2993716  Phone : (967) 893-8101. Date : 02-28-1993 PCP : Raelene Bullocks , 22 years-old. A long history of insulin dependent diabetes, type 2; coronary artery disease; chronic renal insufficiency; peripheral vascular disease, also secondary to diabetes; who was originally admitted to an outside hospital for what appeared to be acute paraplegia, lower extremities.  Ava Jacklin Mascot was noted to have a large sacral wound; this is in a similar location with his previous laminectomy, and this continues to receive daily care. DD: 02/28/2022 . DV: 02/28/2022. Armando Lance , M.D. MSW 751025852778. MARSHALL COUNTY HOSPITAL . 3500 S Lafountain St EBEN. (24) 235-3614. "
      ]
     },
     "execution_count": 11,
     "metadata": {},
     "output_type": "execute_result"
    }
   ],
   "source": [
    "input_json_data = {\"text\": docs, \"masking_policy\": \"obfuscated\"}\n",
    "# The timeout for InvokeEndpoint is 60 seconds, so please carefully select the number of input texts you are sending in one request.\n",
    "data =  process_data_and_invoke_realtime_endpoint(input_json_data, content_type=\"application/json\" , accept=\"application/json\" )\n",
    "\n",
    "pd.DataFrame(data)"
   ]
  },
  {
   "cell_type": "markdown",
   "metadata": {},
   "source": [
    "### JSON Lines"
   ]
  },
  {
   "cell_type": "markdown",
   "metadata": {},
   "source": [
    "1. **Input format**: Provide input in JSON Lines format, where each line is a JSON object representing a text document along with any optional parameters.\n",
    "\n",
    "```json\n",
    "{\"text\": \"Text document 1\"}\n",
    "{\"text\": \"Text document 2\"}\n",
    "```"
   ]
  },
  {
   "cell_type": "code",
   "execution_count": 13,
   "metadata": {
    "tags": []
   },
   "outputs": [],
   "source": [
    "import json\n",
    "\n",
    "def create_jsonl(records, masking_policy):\n",
    "    \n",
    "    if isinstance(records, str):\n",
    "        records = [records]\n",
    "    json_records = []\n",
    "\n",
    "    for text in records:\n",
    "        record = {\n",
    "            \"text\": text,\n",
    "            \"masking_policy\": masking_policy\n",
    "        }\n",
    "        json_records.append(record)\n",
    "\n",
    "    json_lines = '\\n'.join(json.dumps(record) for record in json_records)\n",
    "\n",
    "    return json_lines\n"
   ]
  },
  {
   "cell_type": "markdown",
   "metadata": {
    "tags": []
   },
   "source": [
    "#### Example 1: masked (default-policy)"
   ]
  },
  {
   "cell_type": "code",
   "execution_count": 14,
   "metadata": {
    "tags": []
   },
   "outputs": [
    {
     "name": "stdout",
     "output_type": "stream",
     "text": [
      "{\"predictions\": \"Mr. <PATIENT>, <AGE> years-old , born in <CITY>, was transfered to the The <HOSPITAL>. Phone number: <PHONE>. MSW: <PHONE> . for his colonic polyps.  <PATIENT> wants to know the results from them.  He is not taking hydrochlorothiazide and is curious about his blood pressure. He said he has cut his alcohol back to 6 pack once a week.  <PATIENT> has cut back his cigarettes to one time per week. MR. # <IDNUM> P:   Follow up with Dr. <DOCTOR> in 3 months. <DOCTOR> P. <DOCTOR>, M.D. <HOSPITAL> <STREET>. PHONE: <PHONE> \"}\n",
      "{\"predictions\": \"Record date : <DATE> , <DOCTOR> , M.D . , Name : <DOCTOR>. <NAME>: <EMAIL>. MR # <MEDICALRECORD>  Phone : <PHONE>. Date : <DATE> PCP : <DOCTOR> , <AGE> years-old. A long history of insulin dependent diabetes, type 2; coronary artery disease; chronic renal insufficiency; peripheral vascular disease, also secondary to diabetes; who was originally admitted to an outside hospital for what appeared to be acute paraplegia, lower extremities.  Ava <PATIENT> was noted to have a large sacral wound; this is in a similar location with his previous laminectomy, and this continues to receive daily care. DD: <DATE> . DV: <DATE>. <DOCTOR> , M.D. MSW <IDNUM>. <HOSPITAL> . <STREET> <CITY>. <PHONE>. \"}\n"
     ]
    }
   ],
   "source": [
    "input_jsonl_data = create_jsonl(docs, masking_policy=\"masked\")\n",
    "# The timeout for InvokeEndpoint is 60 seconds, so please carefully select the number of input texts you are sending in one request.\n",
    "data =  process_data_and_invoke_realtime_endpoint(input_jsonl_data, content_type=\"application/jsonlines\" , accept=\"application/jsonlines\" )\n",
    "\n",
    "print(data)"
   ]
  },
  {
   "cell_type": "markdown",
   "metadata": {
    "tags": []
   },
   "source": [
    "#### Example 2: obfuscated"
   ]
  },
  {
   "cell_type": "code",
   "execution_count": 15,
   "metadata": {
    "tags": []
   },
   "outputs": [
    {
     "name": "stdout",
     "output_type": "stream",
     "text": [
      "{\"predictions\": \"Mr. Irvin Mantel, 27 years-old , born in MARTTILA, was transfered to the The LARNED STATE HOSPITAL. Phone number: (119) 417-4081. MSW: 448185631497 . for his colonic polyps.  Irvin Mantel wants to know the results from them.  He is not taking hydrochlorothiazide and is curious about his blood pressure. He said he has cut his alcohol back to 6 pack once a week.  Irvin Mantel has cut back his cigarettes to one time per week. MR. # 02637858 P:   Follow up with Dr. Christain Courser in 3 months. Liberty Reed P. Glennis Lansing, M.D. LARNED STATE HOSPITAL 180 Floyd Avenue. PHONE: (+8) 502-774-1287 \"}\n",
      "{\"predictions\": \"Record date : 2022-02-28 , Armando Lance , M.D . , Name : Rachael Budd. Carlette Cheers: Averel@hotmail.com. MR # 8676720  Phone : (947) 096-2836. Date : 02-28-1993 PCP : Raelene Bullocks , 22 years-old. A long history of insulin dependent diabetes, type 2; coronary artery disease; chronic renal insufficiency; peripheral vascular disease, also secondary to diabetes; who was originally admitted to an outside hospital for what appeared to be acute paraplegia, lower extremities.  Ava Jacklin Mascot was noted to have a large sacral wound; this is in a similar location with his previous laminectomy, and this continues to receive daily care. DD: 02/28/2022 . DV: 02/28/2022. Armando Lance , M.D. MSW 629476546503. MARSHALL COUNTY HOSPITAL . 3500 S Lafountain St EBEN. (54) 656-8127. \"}\n"
     ]
    }
   ],
   "source": [
    "input_jsonl_data = create_jsonl(docs, masking_policy=\"obfuscated\")\n",
    "# The timeout for InvokeEndpoint is 60 seconds, so please carefully select the number of input texts you are sending in one request.\n",
    "data =  process_data_and_invoke_realtime_endpoint(input_jsonl_data, content_type=\"application/jsonlines\" , accept=\"application/jsonlines\" )\n",
    "\n",
    "print(data)"
   ]
  },
  {
   "cell_type": "markdown",
   "metadata": {},
   "source": [
    "### C. Delete the endpoint"
   ]
  },
  {
   "cell_type": "markdown",
   "metadata": {},
   "source": [
    "Now that you have successfully performed a real-time inference, you do not need the endpoint any more. You can terminate the endpoint to avoid being charged."
   ]
  },
  {
   "cell_type": "code",
   "execution_count": null,
   "metadata": {
    "tags": []
   },
   "outputs": [],
   "source": [
    "model.sagemaker_session.delete_endpoint(model_name)\n",
    "model.sagemaker_session.delete_endpoint_config(model_name)"
   ]
  },
  {
   "cell_type": "markdown",
   "metadata": {
    "tags": []
   },
   "source": [
    "## 3. Batch inference"
   ]
  },
  {
   "cell_type": "code",
   "execution_count": 18,
   "metadata": {
    "tags": []
   },
   "outputs": [],
   "source": [
    "import json\n",
    "import os\n",
    "\n",
    "\n",
    "input_dir = 'inputs/batch'\n",
    "json_input_dir = f\"{input_dir}/json\"\n",
    "jsonl_input_dir = f\"{input_dir}/jsonl\"\n",
    "\n",
    "output_dir = 'outputs/batch'\n",
    "json_output_dir = f\"{output_dir}/json\"\n",
    "jsonl_output_dir = f\"{output_dir}/jsonl\"\n",
    "\n",
    "os.makedirs(json_input_dir, exist_ok=True)\n",
    "os.makedirs(jsonl_input_dir, exist_ok=True)\n",
    "os.makedirs(json_output_dir, exist_ok=True)\n",
    "os.makedirs(jsonl_output_dir, exist_ok=True)\n",
    "\n",
    "\n",
    "validation_input_json_path = f\"s3://{s3_bucket}/{model_name}/validation-input/batch/json/\"\n",
    "validation_output_json_path = f\"s3://{s3_bucket}/{model_name}/validation-output/batch/json/\"\n",
    "\n",
    "validation_input_jsonl_path = f\"s3://{s3_bucket}/{model_name}/validation-input/batch/jsonl/\"\n",
    "validation_output_jsonl_path = f\"s3://{s3_bucket}/{model_name}/validation-output/batch/jsonl/\"\n",
    "\n",
    "def write_and_upload_to_s3(input_data, file_name):\n",
    "    file_format = os.path.splitext(file_name)[1].lower()\n",
    "    if file_format == \".json\":\n",
    "        input_data = json.dumps(input_data)\n",
    "\n",
    "    with open(file_name, \"w\") as f:\n",
    "        f.write(input_data)\n",
    "\n",
    "    s3_client.put_object(\n",
    "        Bucket=s3_bucket,\n",
    "        Key=f\"{model_name}/validation-input/batch/{file_format[1:]}/{os.path.basename(file_name)}\",\n",
    "        Body=(bytes(input_data.encode(\"UTF-8\"))),\n",
    "    )\n",
    "\n",
    "input_json_data = {\n",
    "    \"input1.json\": {\"text\": docs, \"masking_policy\": \"masked\"},\n",
    "    \"input2.json\": {\"text\": docs, \"masking_policy\": \"obfuscated\"},\n",
    "}\n",
    "\n",
    "input_jsonl_data = {\n",
    "    \"input1.jsonl\": create_jsonl(docs, masking_policy=\"masked\"),\n",
    "    \"input2.jsonl\": create_jsonl(docs, masking_policy=\"obfuscated\"),\n",
    "}\n",
    "\n",
    "\n",
    "for file_name, data in input_json_data.items():\n",
    "    write_and_upload_to_s3(data, f\"{json_input_dir}/{file_name}\")\n",
    "\n",
    "for file_name, data in input_jsonl_data.items():\n",
    "    write_and_upload_to_s3(data, f\"{jsonl_input_dir}/{file_name}\")\n",
    "\n"
   ]
  },
  {
   "cell_type": "markdown",
   "metadata": {},
   "source": [
    "### JSON"
   ]
  },
  {
   "cell_type": "code",
   "execution_count": null,
   "metadata": {
    "tags": []
   },
   "outputs": [],
   "source": [
    "# Initialize a SageMaker Transformer object for making predictions\n",
    "transformer = model.transformer(\n",
    "    instance_count=1,\n",
    "    instance_type=batch_transform_inference_instance_type,\n",
    "    accept=\"application/json\",\n",
    "    output_path=validation_output_json_path\n",
    ")\n",
    "\n",
    "transformer.transform(validation_input_json_path, content_type=\"application/json\")\n",
    "transformer.wait()"
   ]
  },
  {
   "cell_type": "code",
   "execution_count": 26,
   "metadata": {
    "tags": []
   },
   "outputs": [],
   "source": [
    "from urllib.parse import urlparse\n",
    "\n",
    "def process_s3_json_output_and_save(validation_file_name):\n",
    "    \n",
    "    output_file_path = f\"{json_output_dir}/{validation_file_name}.out\"\n",
    "    parsed_url = urlparse(transformer.output_path)\n",
    "    file_key = f\"{parsed_url.path[1:]}{validation_file_name}.out\"\n",
    "    response = s3_client.get_object(Bucket=s3_bucket, Key=file_key)\n",
    "\n",
    "    data = json.loads(response[\"Body\"].read().decode(\"utf-8\"))\n",
    "    df = pd.DataFrame(data)\n",
    "    display(df)\n",
    "\n",
    "    with open(output_file_path, 'w') as f_out:\n",
    "        json.dump(data, f_out, indent=4)"
   ]
  },
  {
   "cell_type": "code",
   "execution_count": 27,
   "metadata": {
    "tags": []
   },
   "outputs": [
    {
     "name": "stdout",
     "output_type": "stream",
     "text": [
      "Masking policy: masked\n"
     ]
    },
    {
     "data": {
      "text/html": [
       "<div>\n",
       "<style scoped>\n",
       "    .dataframe tbody tr th:only-of-type {\n",
       "        vertical-align: middle;\n",
       "    }\n",
       "\n",
       "    .dataframe tbody tr th {\n",
       "        vertical-align: top;\n",
       "    }\n",
       "\n",
       "    .dataframe thead th {\n",
       "        text-align: right;\n",
       "    }\n",
       "</style>\n",
       "<table border=\"1\" class=\"dataframe\">\n",
       "  <thead>\n",
       "    <tr style=\"text-align: right;\">\n",
       "      <th></th>\n",
       "      <th>predictions</th>\n",
       "    </tr>\n",
       "  </thead>\n",
       "  <tbody>\n",
       "    <tr>\n",
       "      <th>0</th>\n",
       "      <td>Mr. &lt;PATIENT&gt;, &lt;AGE&gt; years-old , born in &lt;CITY&gt;, was transfered to the The &lt;HOSPITAL&gt;. Phone number: &lt;PHONE&gt;. MSW: &lt;PHONE&gt; . for his colonic polyps.  &lt;PATIENT&gt; wants to know the results from them.  He is not taking hydrochlorothiazide and is curious about his blood pressure. He said he has cut his alcohol back to 6 pack once a week.  &lt;PATIENT&gt; has cut back his cigarettes to one time per week. MR. # &lt;IDNUM&gt; P:   Follow up with Dr. &lt;DOCTOR&gt; in 3 months. &lt;DOCTOR&gt; P. &lt;DOCTOR&gt;, M.D. &lt;HOSPITAL&gt; &lt;STREET&gt;. PHONE: &lt;PHONE&gt;</td>\n",
       "    </tr>\n",
       "    <tr>\n",
       "      <th>1</th>\n",
       "      <td>Record date : &lt;DATE&gt; , &lt;DOCTOR&gt; , M.D . , Name : &lt;DOCTOR&gt;. &lt;NAME&gt;: &lt;EMAIL&gt;. MR # &lt;MEDICALRECORD&gt;  Phone : &lt;PHONE&gt;. Date : &lt;DATE&gt; PCP : &lt;DOCTOR&gt; , &lt;AGE&gt; years-old. A long history of insulin dependent diabetes, type 2; coronary artery disease; chronic renal insufficiency; peripheral vascular disease, also secondary to diabetes; who was originally admitted to an outside hospital for what appeared to be acute paraplegia, lower extremities.  Ava &lt;PATIENT&gt; was noted to have a large sacral wound; this is in a similar location with his previous laminectomy, and this continues to receive daily care. DD: &lt;DATE&gt; . DV: &lt;DATE&gt;. &lt;DOCTOR&gt; , M.D. MSW &lt;IDNUM&gt;. &lt;HOSPITAL&gt; . &lt;STREET&gt; &lt;CITY&gt;. &lt;PHONE&gt;.</td>\n",
       "    </tr>\n",
       "  </tbody>\n",
       "</table>\n",
       "</div>"
      ],
      "text/plain": [
       "                                                                                                                                                                                                                                                                                                                                                                                                                                                                                                                                                                                                                                                                                                           predictions\n",
       "0                                                                                                                                                                              Mr. <PATIENT>, <AGE> years-old , born in <CITY>, was transfered to the The <HOSPITAL>. Phone number: <PHONE>. MSW: <PHONE> . for his colonic polyps.  <PATIENT> wants to know the results from them.  He is not taking hydrochlorothiazide and is curious about his blood pressure. He said he has cut his alcohol back to 6 pack once a week.  <PATIENT> has cut back his cigarettes to one time per week. MR. # <IDNUM> P:   Follow up with Dr. <DOCTOR> in 3 months. <DOCTOR> P. <DOCTOR>, M.D. <HOSPITAL> <STREET>. PHONE: <PHONE> \n",
       "1  Record date : <DATE> , <DOCTOR> , M.D . , Name : <DOCTOR>. <NAME>: <EMAIL>. MR # <MEDICALRECORD>  Phone : <PHONE>. Date : <DATE> PCP : <DOCTOR> , <AGE> years-old. A long history of insulin dependent diabetes, type 2; coronary artery disease; chronic renal insufficiency; peripheral vascular disease, also secondary to diabetes; who was originally admitted to an outside hospital for what appeared to be acute paraplegia, lower extremities.  Ava <PATIENT> was noted to have a large sacral wound; this is in a similar location with his previous laminectomy, and this continues to receive daily care. DD: <DATE> . DV: <DATE>. <DOCTOR> , M.D. MSW <IDNUM>. <HOSPITAL> . <STREET> <CITY>. <PHONE>. "
      ]
     },
     "metadata": {},
     "output_type": "display_data"
    },
    {
     "name": "stdout",
     "output_type": "stream",
     "text": [
      "\n",
      "\n",
      "Masking policy: obfuscated\n"
     ]
    },
    {
     "data": {
      "text/html": [
       "<div>\n",
       "<style scoped>\n",
       "    .dataframe tbody tr th:only-of-type {\n",
       "        vertical-align: middle;\n",
       "    }\n",
       "\n",
       "    .dataframe tbody tr th {\n",
       "        vertical-align: top;\n",
       "    }\n",
       "\n",
       "    .dataframe thead th {\n",
       "        text-align: right;\n",
       "    }\n",
       "</style>\n",
       "<table border=\"1\" class=\"dataframe\">\n",
       "  <thead>\n",
       "    <tr style=\"text-align: right;\">\n",
       "      <th></th>\n",
       "      <th>predictions</th>\n",
       "    </tr>\n",
       "  </thead>\n",
       "  <tbody>\n",
       "    <tr>\n",
       "      <th>0</th>\n",
       "      <td>Mr. Irvin Mantel, 27 years-old , born in MARTTILA, was transfered to the The LARNED STATE HOSPITAL. Phone number: (951) 884-1660. MSW: 630160109323 . for his colonic polyps.  Irvin Mantel wants to know the results from them.  He is not taking hydrochlorothiazide and is curious about his blood pressure. He said he has cut his alcohol back to 6 pack once a week.  Irvin Mantel has cut back his cigarettes to one time per week. MR. # 55732202 P:   Follow up with Dr. Christain Courser in 3 months. Liberty Reed P. Glennis Lansing, M.D. LARNED STATE HOSPITAL 180 Floyd Avenue. PHONE: (+5) 427-062-3762</td>\n",
       "    </tr>\n",
       "    <tr>\n",
       "      <th>1</th>\n",
       "      <td>Record date : 2022-02-28 , Armando Lance , M.D . , Name : Rachael Budd. Carlette Cheers: Averel@hotmail.com. MR # 8315176  Phone : (160) 737-1062. Date : 02-28-1993 PCP : Raelene Bullocks , 22 years-old. A long history of insulin dependent diabetes, type 2; coronary artery disease; chronic renal insufficiency; peripheral vascular disease, also secondary to diabetes; who was originally admitted to an outside hospital for what appeared to be acute paraplegia, lower extremities.  Ava Jacklin Mascot was noted to have a large sacral wound; this is in a similar location with his previous laminectomy, and this continues to receive daily care. DD: 02/28/2022 . DV: 02/28/2022. Armando Lance , M.D. MSW 694854627035. MARSHALL COUNTY HOSPITAL . 3500 S Lafountain St EBEN. (00) 938-1829.</td>\n",
       "    </tr>\n",
       "  </tbody>\n",
       "</table>\n",
       "</div>"
      ],
      "text/plain": [
       "                                                                                                                                                                                                                                                                                                                                                                                                                                                                                                                                                                                                                                                                                                                                                                                                         predictions\n",
       "0                                                                                                                                                                                           Mr. Irvin Mantel, 27 years-old , born in MARTTILA, was transfered to the The LARNED STATE HOSPITAL. Phone number: (951) 884-1660. MSW: 630160109323 . for his colonic polyps.  Irvin Mantel wants to know the results from them.  He is not taking hydrochlorothiazide and is curious about his blood pressure. He said he has cut his alcohol back to 6 pack once a week.  Irvin Mantel has cut back his cigarettes to one time per week. MR. # 55732202 P:   Follow up with Dr. Christain Courser in 3 months. Liberty Reed P. Glennis Lansing, M.D. LARNED STATE HOSPITAL 180 Floyd Avenue. PHONE: (+5) 427-062-3762 \n",
       "1  Record date : 2022-02-28 , Armando Lance , M.D . , Name : Rachael Budd. Carlette Cheers: Averel@hotmail.com. MR # 8315176  Phone : (160) 737-1062. Date : 02-28-1993 PCP : Raelene Bullocks , 22 years-old. A long history of insulin dependent diabetes, type 2; coronary artery disease; chronic renal insufficiency; peripheral vascular disease, also secondary to diabetes; who was originally admitted to an outside hospital for what appeared to be acute paraplegia, lower extremities.  Ava Jacklin Mascot was noted to have a large sacral wound; this is in a similar location with his previous laminectomy, and this continues to receive daily care. DD: 02/28/2022 . DV: 02/28/2022. Armando Lance , M.D. MSW 694854627035. MARSHALL COUNTY HOSPITAL . 3500 S Lafountain St EBEN. (00) 938-1829. "
      ]
     },
     "metadata": {},
     "output_type": "display_data"
    },
    {
     "name": "stdout",
     "output_type": "stream",
     "text": [
      "\n",
      "\n"
     ]
    }
   ],
   "source": [
    "masking_policies = {\n",
    "    \"masked\": \"input1.json\",\n",
    "    \"obfuscated\": \"input2.json\",\n",
    "}\n",
    "\n",
    "for policy_name, validation_file_name in masking_policies.items():\n",
    "    print(f\"Masking policy: {policy_name}\")\n",
    "    process_s3_json_output_and_save(validation_file_name)\n",
    "    print(\"\\n\")"
   ]
  },
  {
   "cell_type": "markdown",
   "metadata": {},
   "source": [
    "### JSON Lines"
   ]
  },
  {
   "cell_type": "code",
   "execution_count": null,
   "metadata": {
    "tags": []
   },
   "outputs": [],
   "source": [
    "transformer = model.transformer(\n",
    "    instance_count=1,\n",
    "    instance_type=batch_transform_inference_instance_type,\n",
    "    accept=\"application/jsonlines\",\n",
    "    output_path=validation_output_jsonl_path\n",
    ")\n",
    "transformer.transform(validation_input_jsonl_path, content_type=\"application/jsonlines\")\n",
    "transformer.wait()"
   ]
  },
  {
   "cell_type": "code",
   "execution_count": 29,
   "metadata": {
    "tags": []
   },
   "outputs": [],
   "source": [
    "from urllib.parse import urlparse\n",
    "\n",
    "def process_s3_jsonlines_output_and_save(validation_file_name):\n",
    "\n",
    "    output_file_path = f\"{jsonl_output_dir}/{validation_file_name}.out\"\n",
    "    parsed_url = urlparse(transformer.output_path)\n",
    "    file_key = f\"{parsed_url.path[1:]}{validation_file_name}.out\"\n",
    "    response = s3_client.get_object(Bucket=s3_bucket, Key=file_key)\n",
    "\n",
    "    data = response[\"Body\"].read().decode(\"utf-8\")\n",
    "    print(data)\n",
    "\n",
    "    # Save the data to the output file\n",
    "    with open(output_file_path, 'w') as f_out:\n",
    "        for item in data.split('\\n'):\n",
    "            f_out.write(item + '\\n')"
   ]
  },
  {
   "cell_type": "code",
   "execution_count": 30,
   "metadata": {
    "tags": []
   },
   "outputs": [
    {
     "name": "stdout",
     "output_type": "stream",
     "text": [
      "Masking policy: masked\n",
      "{\"predictions\": \"Mr. <PATIENT>, <AGE> years-old , born in <CITY>, was transfered to the The <HOSPITAL>. Phone number: <PHONE>. MSW: <PHONE> . for his colonic polyps.  <PATIENT> wants to know the results from them.  He is not taking hydrochlorothiazide and is curious about his blood pressure. He said he has cut his alcohol back to 6 pack once a week.  <PATIENT> has cut back his cigarettes to one time per week. MR. # <IDNUM> P:   Follow up with Dr. <DOCTOR> in 3 months. <DOCTOR> P. <DOCTOR>, M.D. <HOSPITAL> <STREET>. PHONE: <PHONE> \"}\n",
      "{\"predictions\": \"Record date : <DATE> , <DOCTOR> , M.D . , Name : <DOCTOR>. <NAME>: <EMAIL>. MR # <MEDICALRECORD>  Phone : <PHONE>. Date : <DATE> PCP : <DOCTOR> , <AGE> years-old. A long history of insulin dependent diabetes, type 2; coronary artery disease; chronic renal insufficiency; peripheral vascular disease, also secondary to diabetes; who was originally admitted to an outside hospital for what appeared to be acute paraplegia, lower extremities.  Ava <PATIENT> was noted to have a large sacral wound; this is in a similar location with his previous laminectomy, and this continues to receive daily care. DD: <DATE> . DV: <DATE>. <DOCTOR> , M.D. MSW <IDNUM>. <HOSPITAL> . <STREET> <CITY>. <PHONE>. \"}\n",
      "\n",
      "\n",
      "Masking policy: obfuscated\n",
      "{\"predictions\": \"Mr. Irvin Mantel, 27 years-old , born in MARTTILA, was transfered to the The LARNED STATE HOSPITAL. Phone number: (951) 884-1660. MSW: 630160109323 . for his colonic polyps.  Irvin Mantel wants to know the results from them.  He is not taking hydrochlorothiazide and is curious about his blood pressure. He said he has cut his alcohol back to 6 pack once a week.  Irvin Mantel has cut back his cigarettes to one time per week. MR. # 55732202 P:   Follow up with Dr. Christain Courser in 3 months. Liberty Reed P. Glennis Lansing, M.D. LARNED STATE HOSPITAL 180 Floyd Avenue. PHONE: (+5) 427-062-3762 \"}\n",
      "{\"predictions\": \"Record date : 2022-02-28 , Armando Lance , M.D . , Name : Rachael Budd. Carlette Cheers: Averel@hotmail.com. MR # 8315176  Phone : (160) 737-1062. Date : 02-28-1993 PCP : Raelene Bullocks , 22 years-old. A long history of insulin dependent diabetes, type 2; coronary artery disease; chronic renal insufficiency; peripheral vascular disease, also secondary to diabetes; who was originally admitted to an outside hospital for what appeared to be acute paraplegia, lower extremities.  Ava Jacklin Mascot was noted to have a large sacral wound; this is in a similar location with his previous laminectomy, and this continues to receive daily care. DD: 02/28/2022 . DV: 02/28/2022. Armando Lance , M.D. MSW 694854627035. MARSHALL COUNTY HOSPITAL . 3500 S Lafountain St EBEN. (00) 938-1829. \"}\n",
      "\n",
      "\n"
     ]
    }
   ],
   "source": [
    "masking_policies = {\n",
    "    \"masked\": \"input1.jsonl\",\n",
    "    \"obfuscated\": \"input2.jsonl\",\n",
    "}\n",
    "\n",
    "for policy_name, validation_file_name in masking_policies.items():\n",
    "    print(f\"Masking policy: {policy_name}\")\n",
    "    process_s3_jsonlines_output_and_save(validation_file_name)\n",
    "    print(\"\\n\")"
   ]
  },
  {
   "cell_type": "code",
   "execution_count": 31,
   "metadata": {
    "tags": []
   },
   "outputs": [
    {
     "name": "stderr",
     "output_type": "stream",
     "text": [
      "INFO:sagemaker:Deleting model with name: clinical-deidentification-docwise-wip-e-2024-11-07-11-14-04-816\n"
     ]
    }
   ],
   "source": [
    "model.delete_model()"
   ]
  },
  {
   "cell_type": "markdown",
   "metadata": {},
   "source": [
    "### Unsubscribe to the listing (optional)"
   ]
  },
  {
   "cell_type": "markdown",
   "metadata": {
    "tags": []
   },
   "source": [
    "If you would like to unsubscribe to the model package, follow these steps. Before you cancel the subscription, ensure that you do not have any [deployable model](https://console.aws.amazon.com/sagemaker/home#/models) created from the model package or using the algorithm. Note - You can find this information by looking at the container name associated with the model. \n",
    "\n",
    "**Steps to unsubscribe to product from AWS Marketplace**:\n",
    "1. Navigate to __Machine Learning__ tab on [__Your Software subscriptions page__](https://aws.amazon.com/marketplace/ai/library?productType=ml&ref_=mlmp_gitdemo_indust)\n",
    "2. Locate the listing that you want to cancel the subscription for, and then choose __Cancel Subscription__  to cancel the subscription.\n",
    "\n"
   ]
  }
 ],
 "metadata": {
  "instance_type": "ml.t3.medium",
  "kernelspec": {
   "display_name": "conda_python3",
   "language": "python",
   "name": "conda_python3"
  },
  "language_info": {
   "codemirror_mode": {
    "name": "ipython",
    "version": 3
   },
   "file_extension": ".py",
   "mimetype": "text/x-python",
   "name": "python",
   "nbconvert_exporter": "python",
   "pygments_lexer": "ipython3",
   "version": "3.10.15"
  }
 },
 "nbformat": 4,
 "nbformat_minor": 4
}

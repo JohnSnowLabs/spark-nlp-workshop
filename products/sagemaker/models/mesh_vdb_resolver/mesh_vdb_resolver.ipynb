{
 "cells": [
  {
   "cell_type": "markdown",
   "metadata": {},
   "source": [
    "## 1. Subscribe to the model package"
   ]
  },
  {
   "cell_type": "markdown",
   "metadata": {},
   "source": [
    "To subscribe to the model package:\n",
    "1. Open the model package listing page: [MeSH Clinical Terminology Mapper](https://aws.amazon.com/marketplace/pp/prodview-rfrl67uzxbhzk)\n",
    "1. On the AWS Marketplace listing, click on the **Continue to subscribe** button.\n",
    "1. On the **Subscribe to this software** page, review and click on **\"Accept Offer\"** if you and your organization agrees with EULA, pricing, and support terms. \n",
    "1. Once you click on **Continue to configuration button** and then choose a **region**, you will see a **Product Arn** displayed. This is the model package ARN that you need to specify while creating a deployable model using Boto3. Copy the ARN corresponding to your region and specify the same in the following cell."
   ]
  },
  {
   "cell_type": "markdown",
   "metadata": {},
   "source": [
    "## MeSH Clinical Terminology Mapper\n",
    "\n",
    "- **Model**: `mesh_vdb_resolver`\n",
    "- **Model Description**: This pretrained pipeline extracts clinical entities from clinical text and maps them to their corresponding Medical Subject Heading (MeSH) codes."
   ]
  },
  {
   "cell_type": "code",
   "execution_count": 1,
   "metadata": {
    "tags": []
   },
   "outputs": [],
   "source": [
    "model_package_arn = \"<Customer to specify Model package ARN corresponding to their AWS region>\""
   ]
  },
  {
   "cell_type": "code",
   "execution_count": null,
   "metadata": {
    "tags": []
   },
   "outputs": [],
   "source": [
    "import json\n",
    "import os\n",
    "import boto3\n",
    "import pandas as pd\n",
    "import sagemaker as sage\n",
    "from sagemaker import ModelPackage\n",
    "from sagemaker import get_execution_role\n",
    "from IPython.display import display\n",
    "from urllib.parse import urlparse\n"
   ]
  },
  {
   "cell_type": "code",
   "execution_count": 3,
   "metadata": {
    "tags": []
   },
   "outputs": [],
   "source": [
    "sagemaker_session = sage.Session()\n",
    "s3_bucket = sagemaker_session.default_bucket()\n",
    "region = sagemaker_session.boto_region_name\n",
    "account_id = boto3.client(\"sts\").get_caller_identity().get(\"Account\")\n",
    "role = get_execution_role()\n",
    "\n",
    "sagemaker = boto3.client(\"sagemaker\")\n",
    "s3_client = sagemaker_session.boto_session.client(\"s3\")\n",
    "ecr = boto3.client(\"ecr\")\n",
    "sm_runtime = boto3.client(\"sagemaker-runtime\")\n",
    "\n",
    "# Set display options\n",
    "pd.set_option('display.max_rows', None)\n",
    "pd.set_option('display.max_columns', None)\n",
    "pd.set_option('display.max_colwidth', None)"
   ]
  },
  {
   "cell_type": "code",
   "execution_count": 4,
   "metadata": {
    "tags": []
   },
   "outputs": [],
   "source": [
    "model_name = \"mesh-vdb-resolver\"\n",
    "\n",
    "real_time_inference_instance_type = \"ml.m4.xlarge\"\n",
    "batch_transform_inference_instance_type = \"ml.m4.2xlarge\""
   ]
  },
  {
   "cell_type": "markdown",
   "metadata": {},
   "source": [
    "## 2. Create a deployable model from the model package."
   ]
  },
  {
   "cell_type": "code",
   "execution_count": 5,
   "metadata": {
    "tags": []
   },
   "outputs": [],
   "source": [
    "model = ModelPackage(\n",
    "    role=role, \n",
    "    model_package_arn=model_package_arn,\n",
    "    sagemaker_session=sagemaker_session,\n",
    ")"
   ]
  },
  {
   "cell_type": "markdown",
   "metadata": {},
   "source": [
    "### Input Format\n",
    "\n",
    "To use the model, you need to provide input in one of the following supported formats:\n",
    "\n",
    "#### JSON Format\n",
    "\n",
    "Provide input as JSON. We support two variations within this format:\n",
    "\n",
    "1. **Array of Text Documents**: \n",
    "   Use an array containing multiple text documents. Each element represents a separate text document.\n",
    "\n",
    "   ```json\n",
    "   {\n",
    "       \"text\": [\n",
    "           \"Text document 1\",\n",
    "           \"Text document 2\",\n",
    "           ...\n",
    "       ]\n",
    "   }\n",
    "\n",
    "    ```\n",
    "\n",
    "2. **Single Text Document**:\n",
    "   Provide a single text document as a string.\n",
    "\n",
    "\n",
    "   ```json\n",
    "    {\n",
    "        \"text\": \"Single text document\"\n",
    "    }\n",
    "   ```\n",
    "\n",
    "#### JSON Lines (JSONL) Format\n",
    "\n",
    "Provide input in JSON Lines format, where each line is a JSON object representing a text document.\n",
    "\n",
    "```\n",
    "{\"text\": \"Text document 1\"}\n",
    "{\"text\": \"Text document 2\"}\n",
    "```"
   ]
  },
  {
   "cell_type": "markdown",
   "metadata": {},
   "source": [
    "## 3. Create an endpoint and perform real-time inference"
   ]
  },
  {
   "cell_type": "markdown",
   "metadata": {},
   "source": [
    "If you want to understand how real-time inference with Amazon SageMaker works, see [Documentation](https://docs.aws.amazon.com/sagemaker/latest/dg/how-it-works-hosting.html)."
   ]
  },
  {
   "cell_type": "markdown",
   "metadata": {},
   "source": [
    "### A. Deploy the SageMaker model to an endpoint"
   ]
  },
  {
   "cell_type": "code",
   "execution_count": 6,
   "metadata": {
    "tags": []
   },
   "outputs": [
    {
     "name": "stdout",
     "output_type": "stream",
     "text": [
      "--------------!"
     ]
    }
   ],
   "source": [
    "predictor = model.deploy(\n",
    "    initial_instance_count=1,\n",
    "    instance_type=real_time_inference_instance_type, \n",
    "    endpoint_name=model_name,\n",
    ")"
   ]
  },
  {
   "cell_type": "markdown",
   "metadata": {},
   "source": [
    "Once endpoint has been created, you would be able to perform real-time inference."
   ]
  },
  {
   "cell_type": "code",
   "execution_count": 7,
   "metadata": {
    "tags": []
   },
   "outputs": [],
   "source": [
    "def invoke_realtime_endpoint(record, content_type=\"application/json\", accept=\"application/json\"):\n",
    "    response = sm_runtime.invoke_endpoint(\n",
    "        EndpointName=model_name,\n",
    "        ContentType=content_type,\n",
    "        Accept=accept,\n",
    "        Body=json.dumps(record) if content_type == \"application/json\" else record,\n",
    "    )\n",
    "\n",
    "    response_body = response[\"Body\"].read().decode(\"utf-8\")\n",
    "\n",
    "    if accept == \"application/json\":\n",
    "        return json.loads(response_body)\n",
    "    elif accept == \"application/jsonlines\":\n",
    "        return response_body\n",
    "    else:\n",
    "        raise ValueError(f\"Unsupported accept type: {accept}\")"
   ]
  },
  {
   "cell_type": "markdown",
   "metadata": {},
   "source": [
    "### Initial Setup"
   ]
  },
  {
   "cell_type": "code",
   "execution_count": 8,
   "metadata": {
    "tags": []
   },
   "outputs": [],
   "source": [
    "docs = [\n",
    "    \"\"\"The patient is a 40-year-old white male who presents with a chief complaint of \"chest pain\". The patient is diabetic and has a prior history of coronary artery disease. The patient presents today stating that his chest pain started yesterday evening. He has been advised Aspirin 81 milligrams QDay. Humulin N. insulin 50 units in a.m. Hydrochlorothiazide 50 mg QDay. Nitroglycerin 1/150 sublingually PRN chest pain.\"\"\",\n",
    "    \"\"\" A 5-month-old boy brought by his parents because of 2 days of cough. Mother took him when cough started 2 days go to Clinic. But cough got worse and he also started having fever yesterday at night. Mother did not measure it. REVIEW OF SYSTEMS: No vomiting. No diarrhea. No skin rash. No cyanosis. \"\"\",\n",
    "]\n",
    "\n",
    "sample_text = \"\"\"She was admitted to the hospital with chest pain and found to have bilateral pleural effusion, the right greater than the left. We reviewed the pathology obtained from the pericardectomy in March 2006, which was diagnostic of mesothelioma. At this time, chest tube placement for drainage of the fluid occurred and thoracoscopy with fluid biopsies, which were performed, which revealed malignant mesothelioma.\"\"\""
   ]
  },
  {
   "cell_type": "markdown",
   "metadata": {},
   "source": [
    "### JSON"
   ]
  },
  {
   "cell_type": "code",
   "execution_count": 9,
   "metadata": {
    "tags": []
   },
   "outputs": [
    {
     "data": {
      "text/html": [
       "<div>\n",
       "<style scoped>\n",
       "    .dataframe tbody tr th:only-of-type {\n",
       "        vertical-align: middle;\n",
       "    }\n",
       "\n",
       "    .dataframe tbody tr th {\n",
       "        vertical-align: top;\n",
       "    }\n",
       "\n",
       "    .dataframe thead th {\n",
       "        text-align: right;\n",
       "    }\n",
       "</style>\n",
       "<table border=\"1\" class=\"dataframe\">\n",
       "  <thead>\n",
       "    <tr style=\"text-align: right;\">\n",
       "      <th></th>\n",
       "      <th>begin</th>\n",
       "      <th>end</th>\n",
       "      <th>ner_chunk</th>\n",
       "      <th>ner_label</th>\n",
       "      <th>ner_confidence</th>\n",
       "      <th>concept_code</th>\n",
       "      <th>resolution</th>\n",
       "      <th>score</th>\n",
       "      <th>all_codes</th>\n",
       "      <th>all_resolutions</th>\n",
       "      <th>all_score</th>\n",
       "    </tr>\n",
       "  </thead>\n",
       "  <tbody>\n",
       "    <tr>\n",
       "      <th>0</th>\n",
       "      <td>38</td>\n",
       "      <td>47</td>\n",
       "      <td>chest pain</td>\n",
       "      <td>PROBLEM</td>\n",
       "      <td>0.9943</td>\n",
       "      <td>D002637</td>\n",
       "      <td>chest pain</td>\n",
       "      <td>1.000000</td>\n",
       "      <td>[D002637, D002637, D002637, D002637, D013898]</td>\n",
       "      <td>[chest pain, chest pains, pain, chest, pains, chest, chest injury]</td>\n",
       "      <td>[1.0000003576278687, 0.922394871711731, 0.9001147150993347, 0.8813276290893555, 0.7900357246398926]</td>\n",
       "    </tr>\n",
       "    <tr>\n",
       "      <th>1</th>\n",
       "      <td>67</td>\n",
       "      <td>92</td>\n",
       "      <td>bilateral pleural effusion</td>\n",
       "      <td>PROBLEM</td>\n",
       "      <td>0.9502334</td>\n",
       "      <td>D010996</td>\n",
       "      <td>pleural effusion</td>\n",
       "      <td>0.825787</td>\n",
       "      <td>[D010996, D010996, D010996, D010996, D016066]</td>\n",
       "      <td>[pleural effusion, pleural effusions, effusion, pleural, effusions, pleural, effusion, malignant pleural]</td>\n",
       "      <td>[0.8257865905761719, 0.8088810443878174, 0.796427845954895, 0.7801889777183533, 0.7638202905654907]</td>\n",
       "    </tr>\n",
       "    <tr>\n",
       "      <th>2</th>\n",
       "      <td>140</td>\n",
       "      <td>152</td>\n",
       "      <td>the pathology</td>\n",
       "      <td>TEST</td>\n",
       "      <td>0.44089997</td>\n",
       "      <td>D010336</td>\n",
       "      <td>pathology</td>\n",
       "      <td>0.919547</td>\n",
       "      <td>[D010336, D010340, D010338, D010341, D057089]</td>\n",
       "      <td>[pathology, pathology, surgical, pathology, clinical, pathology, veterinary, pathology, molecular]</td>\n",
       "      <td>[0.9195465445518494, 0.8671680092811584, 0.8643243312835693, 0.8459447026252747, 0.8372940421104431]</td>\n",
       "    </tr>\n",
       "    <tr>\n",
       "      <th>3</th>\n",
       "      <td>168</td>\n",
       "      <td>185</td>\n",
       "      <td>the pericardectomy</td>\n",
       "      <td>TREATMENT</td>\n",
       "      <td>0.9546</td>\n",
       "      <td>D010492</td>\n",
       "      <td>pericardectomy</td>\n",
       "      <td>0.955846</td>\n",
       "      <td>[D010492, D010492, D010492, D010492, D010492]</td>\n",
       "      <td>[pericardectomy, pericardectomies, pericardotomy, pericardotomies, pericardiectomy]</td>\n",
       "      <td>[0.9558460116386414, 0.9290467500686646, 0.8579220175743103, 0.8520034551620483, 0.8384276628494263]</td>\n",
       "    </tr>\n",
       "    <tr>\n",
       "      <th>4</th>\n",
       "      <td>226</td>\n",
       "      <td>237</td>\n",
       "      <td>mesothelioma</td>\n",
       "      <td>PROBLEM</td>\n",
       "      <td>0.961</td>\n",
       "      <td>D000086002</td>\n",
       "      <td>malignant mesothelioma</td>\n",
       "      <td>0.904331</td>\n",
       "      <td>[D000086002, D000086002, D000086002, D054363, D000086002]</td>\n",
       "      <td>[malignant mesothelioma, malignant mesotheliomas, malignant pleural mesothelioma, fibrous mesothelioma, mesothelioma, malignant]</td>\n",
       "      <td>[0.9043309688568115, 0.8989654779434204, 0.8591769933700562, 0.8589586019515991, 0.8569139242172241]</td>\n",
       "    </tr>\n",
       "    <tr>\n",
       "      <th>5</th>\n",
       "      <td>254</td>\n",
       "      <td>273</td>\n",
       "      <td>chest tube placement</td>\n",
       "      <td>TREATMENT</td>\n",
       "      <td>0.95446664</td>\n",
       "      <td>D015505</td>\n",
       "      <td>chest tubes</td>\n",
       "      <td>0.870246</td>\n",
       "      <td>[D015505, D056446, D056446, D056446, D000069258]</td>\n",
       "      <td>[chest tubes, knee-chest position, knee chest position, knee-chest positions, chest aspirations]</td>\n",
       "      <td>[0.870246410369873, 0.7561070919036865, 0.7526574730873108, 0.7446746826171875, 0.740543007850647]</td>\n",
       "    </tr>\n",
       "    <tr>\n",
       "      <th>6</th>\n",
       "      <td>279</td>\n",
       "      <td>299</td>\n",
       "      <td>drainage of the fluid</td>\n",
       "      <td>PROBLEM</td>\n",
       "      <td>0.746675</td>\n",
       "      <td>D065634</td>\n",
       "      <td>fluid drainage, cerebrospinal</td>\n",
       "      <td>0.858006</td>\n",
       "      <td>[D065634, D065634, D004322, D065634, D065634]</td>\n",
       "      <td>[fluid drainage, cerebrospinal, drainage, cerebrospinal fluid, drainage, fluid drainages, cerebrospinal, cerebrospinal fluid drainage]</td>\n",
       "      <td>[0.8580055236816406, 0.8529242873191833, 0.8477861881256104, 0.8446167707443237, 0.838034987449646]</td>\n",
       "    </tr>\n",
       "    <tr>\n",
       "      <th>7</th>\n",
       "      <td>314</td>\n",
       "      <td>325</td>\n",
       "      <td>thoracoscopy</td>\n",
       "      <td>TREATMENT</td>\n",
       "      <td>0.7614</td>\n",
       "      <td>D013906</td>\n",
       "      <td>thoracoscopy</td>\n",
       "      <td>1.000000</td>\n",
       "      <td>[D013906, D013906, D020708, D013906, D013906]</td>\n",
       "      <td>[thoracoscopy, thoracoscopies, thoracoscopes, thoracoscopic surgery, thoracoscopic surgical procedures]</td>\n",
       "      <td>[1.0, 0.9153507351875305, 0.8540973663330078, 0.8537589907646179, 0.8490511178970337]</td>\n",
       "    </tr>\n",
       "    <tr>\n",
       "      <th>8</th>\n",
       "      <td>332</td>\n",
       "      <td>345</td>\n",
       "      <td>fluid biopsies</td>\n",
       "      <td>TEST</td>\n",
       "      <td>0.7463</td>\n",
       "      <td>D001706</td>\n",
       "      <td>biopsies</td>\n",
       "      <td>0.891502</td>\n",
       "      <td>[D001706, D001707, D000073890, D001707, D044963]</td>\n",
       "      <td>[biopsies, biopsies, puncture, liquid biopsy, puncture biopsies, fine needle biopsies]</td>\n",
       "      <td>[0.891502320766449, 0.8405726552009583, 0.8362082839012146, 0.8332265615463257, 0.8241764903068542]</td>\n",
       "    </tr>\n",
       "    <tr>\n",
       "      <th>9</th>\n",
       "      <td>385</td>\n",
       "      <td>406</td>\n",
       "      <td>malignant mesothelioma</td>\n",
       "      <td>PROBLEM</td>\n",
       "      <td>0.9796</td>\n",
       "      <td>D000086002</td>\n",
       "      <td>malignant mesothelioma</td>\n",
       "      <td>1.000001</td>\n",
       "      <td>[D000086002, D000086002, D000086002, D000086002, D000086002]</td>\n",
       "      <td>[malignant mesothelioma, malignant mesotheliomas, malignant pleural mesothelioma, malignant pleural mesotheliomas, mesothelioma, malignant]</td>\n",
       "      <td>[1.0000007152557373, 0.9908357858657837, 0.9494664669036865, 0.9431859254837036, 0.927587628364563]</td>\n",
       "    </tr>\n",
       "  </tbody>\n",
       "</table>\n",
       "</div>"
      ],
      "text/plain": [
       "   begin  end                   ner_chunk  ner_label ner_confidence  \\\n",
       "0     38   47                  chest pain    PROBLEM         0.9943   \n",
       "1     67   92  bilateral pleural effusion    PROBLEM      0.9502334   \n",
       "2    140  152               the pathology       TEST     0.44089997   \n",
       "3    168  185          the pericardectomy  TREATMENT         0.9546   \n",
       "4    226  237                mesothelioma    PROBLEM          0.961   \n",
       "5    254  273        chest tube placement  TREATMENT     0.95446664   \n",
       "6    279  299       drainage of the fluid    PROBLEM       0.746675   \n",
       "7    314  325                thoracoscopy  TREATMENT         0.7614   \n",
       "8    332  345              fluid biopsies       TEST         0.7463   \n",
       "9    385  406      malignant mesothelioma    PROBLEM         0.9796   \n",
       "\n",
       "  concept_code                     resolution     score  \\\n",
       "0      D002637                     chest pain  1.000000   \n",
       "1      D010996               pleural effusion  0.825787   \n",
       "2      D010336                      pathology  0.919547   \n",
       "3      D010492                 pericardectomy  0.955846   \n",
       "4   D000086002         malignant mesothelioma  0.904331   \n",
       "5      D015505                    chest tubes  0.870246   \n",
       "6      D065634  fluid drainage, cerebrospinal  0.858006   \n",
       "7      D013906                   thoracoscopy  1.000000   \n",
       "8      D001706                       biopsies  0.891502   \n",
       "9   D000086002         malignant mesothelioma  1.000001   \n",
       "\n",
       "                                                      all_codes  \\\n",
       "0                 [D002637, D002637, D002637, D002637, D013898]   \n",
       "1                 [D010996, D010996, D010996, D010996, D016066]   \n",
       "2                 [D010336, D010340, D010338, D010341, D057089]   \n",
       "3                 [D010492, D010492, D010492, D010492, D010492]   \n",
       "4     [D000086002, D000086002, D000086002, D054363, D000086002]   \n",
       "5              [D015505, D056446, D056446, D056446, D000069258]   \n",
       "6                 [D065634, D065634, D004322, D065634, D065634]   \n",
       "7                 [D013906, D013906, D020708, D013906, D013906]   \n",
       "8              [D001706, D001707, D000073890, D001707, D044963]   \n",
       "9  [D000086002, D000086002, D000086002, D000086002, D000086002]   \n",
       "\n",
       "                                                                                                                               all_resolutions  \\\n",
       "0                                                                           [chest pain, chest pains, pain, chest, pains, chest, chest injury]   \n",
       "1                                    [pleural effusion, pleural effusions, effusion, pleural, effusions, pleural, effusion, malignant pleural]   \n",
       "2                                           [pathology, pathology, surgical, pathology, clinical, pathology, veterinary, pathology, molecular]   \n",
       "3                                                          [pericardectomy, pericardectomies, pericardotomy, pericardotomies, pericardiectomy]   \n",
       "4             [malignant mesothelioma, malignant mesotheliomas, malignant pleural mesothelioma, fibrous mesothelioma, mesothelioma, malignant]   \n",
       "5                                             [chest tubes, knee-chest position, knee chest position, knee-chest positions, chest aspirations]   \n",
       "6       [fluid drainage, cerebrospinal, drainage, cerebrospinal fluid, drainage, fluid drainages, cerebrospinal, cerebrospinal fluid drainage]   \n",
       "7                                      [thoracoscopy, thoracoscopies, thoracoscopes, thoracoscopic surgery, thoracoscopic surgical procedures]   \n",
       "8                                                       [biopsies, biopsies, puncture, liquid biopsy, puncture biopsies, fine needle biopsies]   \n",
       "9  [malignant mesothelioma, malignant mesotheliomas, malignant pleural mesothelioma, malignant pleural mesotheliomas, mesothelioma, malignant]   \n",
       "\n",
       "                                                                                              all_score  \n",
       "0   [1.0000003576278687, 0.922394871711731, 0.9001147150993347, 0.8813276290893555, 0.7900357246398926]  \n",
       "1   [0.8257865905761719, 0.8088810443878174, 0.796427845954895, 0.7801889777183533, 0.7638202905654907]  \n",
       "2  [0.9195465445518494, 0.8671680092811584, 0.8643243312835693, 0.8459447026252747, 0.8372940421104431]  \n",
       "3  [0.9558460116386414, 0.9290467500686646, 0.8579220175743103, 0.8520034551620483, 0.8384276628494263]  \n",
       "4  [0.9043309688568115, 0.8989654779434204, 0.8591769933700562, 0.8589586019515991, 0.8569139242172241]  \n",
       "5    [0.870246410369873, 0.7561070919036865, 0.7526574730873108, 0.7446746826171875, 0.740543007850647]  \n",
       "6   [0.8580055236816406, 0.8529242873191833, 0.8477861881256104, 0.8446167707443237, 0.838034987449646]  \n",
       "7                 [1.0, 0.9153507351875305, 0.8540973663330078, 0.8537589907646179, 0.8490511178970337]  \n",
       "8   [0.891502320766449, 0.8405726552009583, 0.8362082839012146, 0.8332265615463257, 0.8241764903068542]  \n",
       "9   [1.0000007152557373, 0.9908357858657837, 0.9494664669036865, 0.9431859254837036, 0.927587628364563]  "
      ]
     },
     "execution_count": 9,
     "metadata": {},
     "output_type": "execute_result"
    }
   ],
   "source": [
    "input_json_data = {\"text\": sample_text}\n",
    "response_json = invoke_realtime_endpoint(input_json_data, content_type=\"application/json\", accept=\"application/json\")\n",
    "pd.DataFrame(response_json[\"predictions\"][0])"
   ]
  },
  {
   "cell_type": "markdown",
   "metadata": {},
   "source": [
    "### JSON Lines"
   ]
  },
  {
   "cell_type": "code",
   "execution_count": 11,
   "metadata": {
    "tags": []
   },
   "outputs": [],
   "source": [
    "def create_jsonl(records):\n",
    "    if isinstance(records, str):\n",
    "        records = [records]\n",
    "    json_records = [{\"text\": text} for text in records]\n",
    "    json_lines = \"\\n\".join(json.dumps(record) for record in json_records)\n",
    "    return json_lines"
   ]
  },
  {
   "cell_type": "code",
   "execution_count": 12,
   "metadata": {
    "tags": []
   },
   "outputs": [
    {
     "name": "stdout",
     "output_type": "stream",
     "text": [
      "{\"predictions\": [{\"begin\": 38, \"end\": 47, \"ner_chunk\": \"chest pain\", \"ner_label\": \"PROBLEM\", \"ner_confidence\": \"0.9943\", \"concept_code\": \"D002637\", \"resolution\": \"chest pain\", \"score\": 1.0000003576278687, \"all_codes\": [\"D002637\", \"D002637\", \"D002637\", \"D002637\", \"D013898\"], \"all_resolutions\": [\"chest pain\", \"chest pains\", \"pain, chest\", \"pains, chest\", \"chest injury\"], \"all_score\": [1.0000003576278687, 0.922394871711731, 0.9001147150993347, 0.8813276290893555, 0.7900357246398926]}, {\"begin\": 67, \"end\": 92, \"ner_chunk\": \"bilateral pleural effusion\", \"ner_label\": \"PROBLEM\", \"ner_confidence\": \"0.9502334\", \"concept_code\": \"D010996\", \"resolution\": \"pleural effusion\", \"score\": 0.8257865905761719, \"all_codes\": [\"D010996\", \"D010996\", \"D010996\", \"D010996\", \"D016066\"], \"all_resolutions\": [\"pleural effusion\", \"pleural effusions\", \"effusion, pleural\", \"effusions, pleural\", \"effusion, malignant pleural\"], \"all_score\": [0.8257865905761719, 0.8088810443878174, 0.796427845954895, 0.7801889777183533, 0.7638202905654907]}, {\"begin\": 140, \"end\": 152, \"ner_chunk\": \"the pathology\", \"ner_label\": \"TEST\", \"ner_confidence\": \"0.44089997\", \"concept_code\": \"D010336\", \"resolution\": \"pathology\", \"score\": 0.9195465445518494, \"all_codes\": [\"D010336\", \"D010340\", \"D010338\", \"D010341\", \"D057089\"], \"all_resolutions\": [\"pathology\", \"pathology, surgical\", \"pathology, clinical\", \"pathology, veterinary\", \"pathology, molecular\"], \"all_score\": [0.9195465445518494, 0.8671680092811584, 0.8643243312835693, 0.8459447026252747, 0.8372940421104431]}, {\"begin\": 168, \"end\": 185, \"ner_chunk\": \"the pericardectomy\", \"ner_label\": \"TREATMENT\", \"ner_confidence\": \"0.9546\", \"concept_code\": \"D010492\", \"resolution\": \"pericardectomy\", \"score\": 0.9558460116386414, \"all_codes\": [\"D010492\", \"D010492\", \"D010492\", \"D010492\", \"D010492\"], \"all_resolutions\": [\"pericardectomy\", \"pericardectomies\", \"pericardotomy\", \"pericardotomies\", \"pericardiectomy\"], \"all_score\": [0.9558460116386414, 0.9290467500686646, 0.8579220175743103, 0.8520034551620483, 0.8384276628494263]}, {\"begin\": 226, \"end\": 237, \"ner_chunk\": \"mesothelioma\", \"ner_label\": \"PROBLEM\", \"ner_confidence\": \"0.961\", \"concept_code\": \"D000086002\", \"resolution\": \"malignant mesothelioma\", \"score\": 0.9043309688568115, \"all_codes\": [\"D000086002\", \"D000086002\", \"D000086002\", \"D054363\", \"D000086002\"], \"all_resolutions\": [\"malignant mesothelioma\", \"malignant mesotheliomas\", \"malignant pleural mesothelioma\", \"fibrous mesothelioma\", \"mesothelioma, malignant\"], \"all_score\": [0.9043309688568115, 0.8989654779434204, 0.8591769933700562, 0.8589586019515991, 0.8569139242172241]}, {\"begin\": 254, \"end\": 273, \"ner_chunk\": \"chest tube placement\", \"ner_label\": \"TREATMENT\", \"ner_confidence\": \"0.95446664\", \"concept_code\": \"D015505\", \"resolution\": \"chest tubes\", \"score\": 0.870246410369873, \"all_codes\": [\"D015505\", \"D056446\", \"D056446\", \"D056446\", \"D000069258\"], \"all_resolutions\": [\"chest tubes\", \"knee-chest position\", \"knee chest position\", \"knee-chest positions\", \"chest aspirations\"], \"all_score\": [0.870246410369873, 0.7561070919036865, 0.7526574730873108, 0.7446746826171875, 0.740543007850647]}, {\"begin\": 279, \"end\": 299, \"ner_chunk\": \"drainage of the fluid\", \"ner_label\": \"PROBLEM\", \"ner_confidence\": \"0.746675\", \"concept_code\": \"D065634\", \"resolution\": \"fluid drainage, cerebrospinal\", \"score\": 0.8580055236816406, \"all_codes\": [\"D065634\", \"D065634\", \"D004322\", \"D065634\", \"D065634\"], \"all_resolutions\": [\"fluid drainage, cerebrospinal\", \"drainage, cerebrospinal fluid\", \"drainage\", \"fluid drainages, cerebrospinal\", \"cerebrospinal fluid drainage\"], \"all_score\": [0.8580055236816406, 0.8529242873191833, 0.8477861881256104, 0.8446167707443237, 0.838034987449646]}, {\"begin\": 314, \"end\": 325, \"ner_chunk\": \"thoracoscopy\", \"ner_label\": \"TREATMENT\", \"ner_confidence\": \"0.7614\", \"concept_code\": \"D013906\", \"resolution\": \"thoracoscopy\", \"score\": 1.0, \"all_codes\": [\"D013906\", \"D013906\", \"D020708\", \"D013906\", \"D013906\"], \"all_resolutions\": [\"thoracoscopy\", \"thoracoscopies\", \"thoracoscopes\", \"thoracoscopic surgery\", \"thoracoscopic surgical procedures\"], \"all_score\": [1.0, 0.9153507351875305, 0.8540973663330078, 0.8537589907646179, 0.8490511178970337]}, {\"begin\": 332, \"end\": 345, \"ner_chunk\": \"fluid biopsies\", \"ner_label\": \"TEST\", \"ner_confidence\": \"0.7463\", \"concept_code\": \"D001706\", \"resolution\": \"biopsies\", \"score\": 0.891502320766449, \"all_codes\": [\"D001706\", \"D001707\", \"D000073890\", \"D001707\", \"D044963\"], \"all_resolutions\": [\"biopsies\", \"biopsies, puncture\", \"liquid biopsy\", \"puncture biopsies\", \"fine needle biopsies\"], \"all_score\": [0.891502320766449, 0.8405726552009583, 0.8362082839012146, 0.8332265615463257, 0.8241764903068542]}, {\"begin\": 385, \"end\": 406, \"ner_chunk\": \"malignant mesothelioma\", \"ner_label\": \"PROBLEM\", \"ner_confidence\": \"0.9796\", \"concept_code\": \"D000086002\", \"resolution\": \"malignant mesothelioma\", \"score\": 1.0000007152557373, \"all_codes\": [\"D000086002\", \"D000086002\", \"D000086002\", \"D000086002\", \"D000086002\"], \"all_resolutions\": [\"malignant mesothelioma\", \"malignant mesotheliomas\", \"malignant pleural mesothelioma\", \"malignant pleural mesotheliomas\", \"mesothelioma, malignant\"], \"all_score\": [1.0000007152557373, 0.9908357858657837, 0.9494664669036865, 0.9431859254837036, 0.927587628364563]}]}\n"
     ]
    }
   ],
   "source": [
    "input_jsonl_data = create_jsonl(sample_text)\n",
    "data = invoke_realtime_endpoint(input_jsonl_data, content_type=\"application/jsonlines\" , accept=\"application/jsonlines\" )\n",
    "print(data)"
   ]
  },
  {
   "cell_type": "markdown",
   "metadata": {},
   "source": [
    "### B. Delete the endpoint"
   ]
  },
  {
   "cell_type": "markdown",
   "metadata": {},
   "source": [
    "Now that you have successfully performed a real-time inference, you do not need the endpoint any more. You can terminate the endpoint to avoid being charged."
   ]
  },
  {
   "cell_type": "code",
   "execution_count": 14,
   "metadata": {
    "tags": []
   },
   "outputs": [],
   "source": [
    "model.sagemaker_session.delete_endpoint(model_name)\n",
    "model.sagemaker_session.delete_endpoint_config(model_name)"
   ]
  },
  {
   "cell_type": "markdown",
   "metadata": {
    "tags": []
   },
   "source": [
    "## 4. Batch inference"
   ]
  },
  {
   "cell_type": "code",
   "execution_count": 15,
   "metadata": {
    "tags": []
   },
   "outputs": [],
   "source": [
    "validation_json_file_name = \"input.json\"\n",
    "validation_jsonl_file_name = \"input.jsonl\"\n",
    "\n",
    "validation_input_json_path = f\"s3://{s3_bucket}/{model_name}/validation-input/json/\"\n",
    "validation_output_json_path = f\"s3://{s3_bucket}/{model_name}/validation-output/json/\"\n",
    "\n",
    "validation_input_jsonl_path = f\"s3://{s3_bucket}/{model_name}/validation-input/jsonl/\"\n",
    "validation_output_jsonl_path = f\"s3://{s3_bucket}/{model_name}/validation-output/jsonl/\"\n",
    "\n",
    "def upload_to_s3(input_data, file_name):\n",
    "    file_format = os.path.splitext(file_name)[1].lower()\n",
    "    s3_client.put_object(\n",
    "        Bucket=s3_bucket,\n",
    "        Key=f\"{model_name}/validation-input/{file_format[1:]}/{file_name}\",\n",
    "        Body=input_data.encode(\"UTF-8\"),\n",
    "    )"
   ]
  },
  {
   "cell_type": "code",
   "execution_count": 16,
   "metadata": {
    "tags": []
   },
   "outputs": [],
   "source": [
    "# Create JSON and JSON Lines data\n",
    "input_jsonl_data = create_jsonl(docs)\n",
    "input_json_data = json.dumps({\"text\": docs})\n",
    "\n",
    "# Upload JSON and JSON Lines data to S3\n",
    "upload_to_s3(input_json_data, validation_json_file_name)\n",
    "upload_to_s3(input_jsonl_data, validation_jsonl_file_name)"
   ]
  },
  {
   "cell_type": "markdown",
   "metadata": {
    "tags": []
   },
   "source": [
    "### JSON"
   ]
  },
  {
   "cell_type": "code",
   "execution_count": null,
   "metadata": {
    "tags": []
   },
   "outputs": [],
   "source": [
    "transformer = model.transformer(\n",
    "    instance_count=1,\n",
    "    instance_type=batch_transform_inference_instance_type,\n",
    "    accept=\"application/json\",\n",
    "    output_path=validation_output_json_path\n",
    ")\n",
    "\n",
    "transformer.transform(validation_input_json_path, content_type=\"application/json\")\n",
    "transformer.wait()"
   ]
  },
  {
   "cell_type": "code",
   "execution_count": null,
   "metadata": {
    "tags": []
   },
   "outputs": [],
   "source": [
    "def retrieve_json_output_from_s3(validation_file_name):\n",
    "    parsed_url = urlparse(transformer.output_path)\n",
    "    file_key = f\"{parsed_url.path[1:]}{validation_file_name}.out\"\n",
    "    response = s3_client.get_object(Bucket=s3_bucket, Key=file_key)\n",
    "\n",
    "    data = json.loads(response[\"Body\"].read().decode(\"utf-8\"))\n",
    "    display(data)"
   ]
  },
  {
   "cell_type": "code",
   "execution_count": 21,
   "metadata": {
    "tags": []
   },
   "outputs": [
    {
     "data": {
      "text/plain": [
       "{'predictions': [[{'begin': 80,\n",
       "    'end': 89,\n",
       "    'ner_chunk': 'chest pain',\n",
       "    'ner_label': 'PROBLEM',\n",
       "    'ner_confidence': '0.81095004',\n",
       "    'concept_code': 'D002637',\n",
       "    'resolution': 'chest pain',\n",
       "    'score': 1.000000238418579,\n",
       "    'all_codes': ['D002637', 'D002637', 'D002637', 'D002637', 'D013898'],\n",
       "    'all_resolutions': ['chest pain',\n",
       "     'chest pains',\n",
       "     'pain, chest',\n",
       "     'pains, chest',\n",
       "     'chest injury'],\n",
       "    'all_score': [1.000000238418579,\n",
       "     0.9223949313163757,\n",
       "     0.9001147747039795,\n",
       "     0.8813276290893555,\n",
       "     0.7900357246398926]},\n",
       "   {'begin': 108,\n",
       "    'end': 115,\n",
       "    'ner_chunk': 'diabetic',\n",
       "    'ner_label': 'PROBLEM',\n",
       "    'ner_confidence': '0.9946',\n",
       "    'concept_code': 'D002271',\n",
       "    'resolution': 'diabetal',\n",
       "    'score': 0.9493172764778137,\n",
       "    'all_codes': ['D002271', 'D005905', 'C070071', 'D017719', 'D017719'],\n",
       "    'all_resolutions': ['diabetal',\n",
       "     'diabeta',\n",
       "     'diabeton',\n",
       "     'foot, diabetic',\n",
       "     'diabetic foot'],\n",
       "    'all_score': [0.9493172764778137,\n",
       "     0.8931193351745605,\n",
       "     0.8634507656097412,\n",
       "     0.8435543775558472,\n",
       "     0.8424345850944519]},\n",
       "   {'begin': 144,\n",
       "    'end': 166,\n",
       "    'ner_chunk': 'coronary artery disease',\n",
       "    'ner_label': 'PROBLEM',\n",
       "    'ner_confidence': '0.94269997',\n",
       "    'concept_code': 'D003324',\n",
       "    'resolution': 'coronary artery disease',\n",
       "    'score': 1.0000001192092896,\n",
       "    'all_codes': ['D003324', 'D003324', 'D003324', 'D003324', 'D003324'],\n",
       "    'all_resolutions': ['coronary artery disease',\n",
       "     'coronary artery diseases',\n",
       "     'artery disease, coronary',\n",
       "     'artery diseases, coronary',\n",
       "     'coronary arteriosclerosis'],\n",
       "    'all_score': [1.0000001192092896,\n",
       "     0.9600934982299805,\n",
       "     0.8984563946723938,\n",
       "     0.8772372603416443,\n",
       "     0.8711296916007996]},\n",
       "   {'begin': 209,\n",
       "    'end': 222,\n",
       "    'ner_chunk': 'his chest pain',\n",
       "    'ner_label': 'PROBLEM',\n",
       "    'ner_confidence': '0.9567666',\n",
       "    'concept_code': 'D002637',\n",
       "    'resolution': 'chest pain',\n",
       "    'score': 0.8550782799720764,\n",
       "    'all_codes': ['D002637', 'D002637', 'D002637', 'D002637', 'D013898'],\n",
       "    'all_resolutions': ['chest pain',\n",
       "     'pain, chest',\n",
       "     'pains, chest',\n",
       "     'chest pains',\n",
       "     'injury, chest'],\n",
       "    'all_score': [0.8550782799720764,\n",
       "     0.8530279994010925,\n",
       "     0.8295687437057495,\n",
       "     0.8216707706451416,\n",
       "     0.7635860443115234]},\n",
       "   {'begin': 271,\n",
       "    'end': 277,\n",
       "    'ner_chunk': 'Aspirin',\n",
       "    'ner_label': 'TREATMENT',\n",
       "    'ner_confidence': '0.9998',\n",
       "    'concept_code': 'D001241',\n",
       "    'resolution': 'aspirin',\n",
       "    'score': 0.999999463558197,\n",
       "    'all_codes': ['D001241', 'C102148', 'C557598', 'D002216', 'C095840'],\n",
       "    'all_resolutions': ['aspirin',\n",
       "     'nitroaspirin',\n",
       "     'aspirin-phosphatidylcholine',\n",
       "     'lopirin',\n",
       "     'bromoaspirin'],\n",
       "    'all_score': [0.999999463558197,\n",
       "     0.8318605422973633,\n",
       "     0.8297411203384399,\n",
       "     0.8272740244865417,\n",
       "     0.8154743909835815]},\n",
       "   {'begin': 299,\n",
       "    'end': 307,\n",
       "    'ner_chunk': 'Humulin N',\n",
       "    'ner_label': 'TREATMENT',\n",
       "    'ner_confidence': '0.98345',\n",
       "    'concept_code': 'D061386',\n",
       "    'resolution': 'humulin',\n",
       "    'score': 0.9254507422447205,\n",
       "    'all_codes': ['D061386', 'D061386', 'C045625', 'C091683', 'C081210'],\n",
       "    'all_resolutions': ['humulin',\n",
       "     'humulin s',\n",
       "     'nodulin',\n",
       "     'nosulin',\n",
       "     'humulinic acid'],\n",
       "    'all_score': [0.9254507422447205,\n",
       "     0.9025838375091553,\n",
       "     0.7947676181793213,\n",
       "     0.7928428649902344,\n",
       "     0.7591618299484253]},\n",
       "   {'begin': 310,\n",
       "    'end': 316,\n",
       "    'ner_chunk': 'insulin',\n",
       "    'ner_label': 'TREATMENT',\n",
       "    'ner_confidence': '0.9881',\n",
       "    'concept_code': 'D061385',\n",
       "    'resolution': 'insulins',\n",
       "    'score': 0.9472028017044067,\n",
       "    'all_codes': ['D061385', 'C007273', 'D061386', 'D007336', 'D061389'],\n",
       "    'all_resolutions': ['insulins',\n",
       "     'insulin, des-ala-',\n",
       "     'insulin, regular, human',\n",
       "     'insulin, nph',\n",
       "     'insulin, porcine'],\n",
       "    'all_score': [0.9472028017044067,\n",
       "     0.8462950587272644,\n",
       "     0.8460032343864441,\n",
       "     0.8412361741065979,\n",
       "     0.8363525867462158]},\n",
       "   {'begin': 335,\n",
       "    'end': 353,\n",
       "    'ner_chunk': 'Hydrochlorothiazide',\n",
       "    'ner_label': 'TREATMENT',\n",
       "    'ner_confidence': '0.9999',\n",
       "    'concept_code': 'D006852',\n",
       "    'resolution': 'hydrochlorothiazide',\n",
       "    'score': 0.9999994039535522,\n",
       "    'all_codes': ['D006852', 'D002740', 'D006852', 'C042169', 'C020743'],\n",
       "    'all_resolutions': ['hydrochlorothiazide',\n",
       "     'chlorothiazide',\n",
       "     'dihydrochlorothiazide',\n",
       "     'benzylhydrochlorothiazide',\n",
       "     'hydrochlorothiazide-triamterene'],\n",
       "    'all_score': [0.9999994039535522,\n",
       "     0.9405955672264099,\n",
       "     0.9194777011871338,\n",
       "     0.8802782297134399,\n",
       "     0.8533188104629517]},\n",
       "   {'begin': 367,\n",
       "    'end': 379,\n",
       "    'ner_chunk': 'Nitroglycerin',\n",
       "    'ner_label': 'TREATMENT',\n",
       "    'ner_confidence': '0.9999',\n",
       "    'concept_code': 'D005996',\n",
       "    'resolution': 'nitroglycerin',\n",
       "    'score': 0.9999996423721313,\n",
       "    'all_codes': ['D005996', 'D005996', 'C014686', 'C496680', 'C016014'],\n",
       "    'all_resolutions': ['nitroglycerin',\n",
       "     'nitroglyn',\n",
       "     'mononitroglycerol',\n",
       "     'nitroxycarnitine nitrate',\n",
       "     '4-nitrophenylglycerol'],\n",
       "    'all_score': [0.9999996423721313,\n",
       "     0.8743144869804382,\n",
       "     0.8509314060211182,\n",
       "     0.8292422294616699,\n",
       "     0.8227726817131042]},\n",
       "   {'begin': 404,\n",
       "    'end': 413,\n",
       "    'ner_chunk': 'chest pain',\n",
       "    'ner_label': 'PROBLEM',\n",
       "    'ner_confidence': '0.959',\n",
       "    'concept_code': 'D002637',\n",
       "    'resolution': 'chest pain',\n",
       "    'score': 1.000000238418579,\n",
       "    'all_codes': ['D002637', 'D002637', 'D002637', 'D002637', 'D013898'],\n",
       "    'all_resolutions': ['chest pain',\n",
       "     'chest pains',\n",
       "     'pain, chest',\n",
       "     'pains, chest',\n",
       "     'chest injury'],\n",
       "    'all_score': [1.000000238418579,\n",
       "     0.9223949313163757,\n",
       "     0.9001147747039795,\n",
       "     0.8813276290893555,\n",
       "     0.7900357246398926]}],\n",
       "  [{'begin': 63,\n",
       "    'end': 67,\n",
       "    'ner_chunk': 'cough',\n",
       "    'ner_label': 'PROBLEM',\n",
       "    'ner_confidence': '0.9737',\n",
       "    'concept_code': 'D003371',\n",
       "    'resolution': 'cough',\n",
       "    'score': 1.0,\n",
       "    'all_codes': ['D003371', 'D003371', 'D014917', 'D014917', 'C000589846'],\n",
       "    'all_resolutions': ['cough',\n",
       "     'coughs',\n",
       "     'cough, whooping',\n",
       "     'whooping cough',\n",
       "     'coughcode-n'],\n",
       "    'all_score': [1.0,\n",
       "     0.9196386337280273,\n",
       "     0.837946355342865,\n",
       "     0.7574732303619385,\n",
       "     0.7517421245574951]},\n",
       "   {'begin': 91,\n",
       "    'end': 95,\n",
       "    'ner_chunk': 'cough',\n",
       "    'ner_label': 'PROBLEM',\n",
       "    'ner_confidence': '0.9992',\n",
       "    'concept_code': 'D003371',\n",
       "    'resolution': 'cough',\n",
       "    'score': 1.0,\n",
       "    'all_codes': ['D003371', 'D003371', 'D014917', 'D014917', 'C000589846'],\n",
       "    'all_resolutions': ['cough',\n",
       "     'coughs',\n",
       "     'cough, whooping',\n",
       "     'whooping cough',\n",
       "     'coughcode-n'],\n",
       "    'all_score': [1.0,\n",
       "     0.9196386337280273,\n",
       "     0.837946355342865,\n",
       "     0.7574732303619385,\n",
       "     0.7517421245574951]},\n",
       "   {'begin': 130,\n",
       "    'end': 134,\n",
       "    'ner_chunk': 'cough',\n",
       "    'ner_label': 'PROBLEM',\n",
       "    'ner_confidence': '0.9992',\n",
       "    'concept_code': 'D003371',\n",
       "    'resolution': 'cough',\n",
       "    'score': 1.0,\n",
       "    'all_codes': ['D003371', 'D003371', 'D014917', 'D014917', 'C000589846'],\n",
       "    'all_resolutions': ['cough',\n",
       "     'coughs',\n",
       "     'cough, whooping',\n",
       "     'whooping cough',\n",
       "     'coughcode-n'],\n",
       "    'all_score': [1.0,\n",
       "     0.9196386337280273,\n",
       "     0.837946355342865,\n",
       "     0.7574732303619385,\n",
       "     0.7517421245574951]},\n",
       "   {'begin': 173,\n",
       "    'end': 177,\n",
       "    'ner_chunk': 'fever',\n",
       "    'ner_label': 'PROBLEM',\n",
       "    'ner_confidence': '0.9997',\n",
       "    'concept_code': 'D005334',\n",
       "    'resolution': 'fever',\n",
       "    'score': 1.000000238418579,\n",
       "    'all_codes': ['D005334', 'D005334', 'D011778', 'D011778', 'D011778'],\n",
       "    'all_resolutions': ['fever',\n",
       "     'fevers',\n",
       "     'fevers, query',\n",
       "     'fever, query',\n",
       "     'fevers, q'],\n",
       "    'all_score': [1.000000238418579,\n",
       "     0.926138699054718,\n",
       "     0.8635846376419067,\n",
       "     0.8553634285926819,\n",
       "     0.840775191783905]},\n",
       "   {'begin': 248,\n",
       "    'end': 255,\n",
       "    'ner_chunk': 'vomiting',\n",
       "    'ner_label': 'PROBLEM',\n",
       "    'ner_confidence': '0.9955',\n",
       "    'concept_code': 'D014839',\n",
       "    'resolution': 'vomiting',\n",
       "    'score': 1.000000238418579,\n",
       "    'all_codes': ['D014839', 'D020250', 'D014840', 'D009325', 'C536228'],\n",
       "    'all_resolutions': ['vomiting',\n",
       "     'vomiting, postoperative',\n",
       "     'vomiting, anticipatory',\n",
       "     'nausea',\n",
       "     'cyclical vomiting'],\n",
       "    'all_score': [1.000000238418579,\n",
       "     0.8096002340316772,\n",
       "     0.8043601512908936,\n",
       "     0.8031866550445557,\n",
       "     0.7970373034477234]},\n",
       "   {'begin': 261,\n",
       "    'end': 268,\n",
       "    'ner_chunk': 'diarrhea',\n",
       "    'ner_label': 'PROBLEM',\n",
       "    'ner_confidence': '0.9984',\n",
       "    'concept_code': 'D003967',\n",
       "    'resolution': 'diarrhea',\n",
       "    'score': 0.9999997019767761,\n",
       "    'all_codes': ['D003967', 'D003967', 'C565627', 'D004403', 'D004403'],\n",
       "    'all_resolutions': ['diarrhea',\n",
       "     'diarrheas',\n",
       "     'diarrhea, syndromic',\n",
       "     'infectious diarrheal disease',\n",
       "     'infectious diarrheal diseases'],\n",
       "    'all_score': [0.9999997019767761,\n",
       "     0.9340593814849854,\n",
       "     0.8388155102729797,\n",
       "     0.8328069448471069,\n",
       "     0.8185099959373474]},\n",
       "   {'begin': 274,\n",
       "    'end': 282,\n",
       "    'ner_chunk': 'skin rash',\n",
       "    'ner_label': 'PROBLEM',\n",
       "    'ner_confidence': '0.9907',\n",
       "    'concept_code': 'D005076',\n",
       "    'resolution': 'skin rash',\n",
       "    'score': 1.0000003576278687,\n",
       "    'all_codes': ['D005076', 'D005076', 'D005076', 'D003963', 'D003963'],\n",
       "    'all_resolutions': ['skin rash',\n",
       "     'rash',\n",
       "     'rash, skin',\n",
       "     'diaper rash',\n",
       "     'rash, diaper'],\n",
       "    'all_score': [1.0000003576278687,\n",
       "     0.903679370880127,\n",
       "     0.9034513235092163,\n",
       "     0.7977929711341858,\n",
       "     0.7784140706062317]},\n",
       "   {'begin': 288,\n",
       "    'end': 295,\n",
       "    'ner_chunk': 'cyanosis',\n",
       "    'ner_label': 'PROBLEM',\n",
       "    'ner_confidence': '0.9986',\n",
       "    'concept_code': 'D003490',\n",
       "    'resolution': 'cyanosis',\n",
       "    'score': 0.9999992847442627,\n",
       "    'all_codes': ['D003490', 'D003490', 'C565660', 'D008548', 'D027802'],\n",
       "    'all_resolutions': ['cyanosis',\n",
       "     'cyanoses',\n",
       "     'cyanosis and hepatic disease',\n",
       "     'melanosis',\n",
       "     'hypoxis'],\n",
       "    'all_score': [0.9999992847442627,\n",
       "     0.8472979068756104,\n",
       "     0.833354651927948,\n",
       "     0.7520582675933838,\n",
       "     0.7107992172241211]}]]}"
      ]
     },
     "metadata": {},
     "output_type": "display_data"
    }
   ],
   "source": [
    "retrieve_json_output_from_s3(validation_json_file_name)"
   ]
  },
  {
   "cell_type": "markdown",
   "metadata": {},
   "source": [
    "### JSON Lines"
   ]
  },
  {
   "cell_type": "code",
   "execution_count": null,
   "metadata": {
    "tags": []
   },
   "outputs": [],
   "source": [
    "transformer = model.transformer(\n",
    "    instance_count=1,\n",
    "    instance_type=batch_transform_inference_instance_type,\n",
    "    accept=\"application/jsonlines\",\n",
    "    output_path=validation_output_jsonl_path\n",
    ")\n",
    "transformer.transform(validation_input_jsonl_path, content_type=\"application/jsonlines\")\n",
    "transformer.wait()"
   ]
  },
  {
   "cell_type": "code",
   "execution_count": null,
   "metadata": {
    "tags": []
   },
   "outputs": [],
   "source": [
    "def retrieve_jsonlines_output_from_s3(validation_file_name):\n",
    "\n",
    "    parsed_url = urlparse(transformer.output_path)\n",
    "    file_key = f\"{parsed_url.path[1:]}{validation_file_name}.out\"\n",
    "    response = s3_client.get_object(Bucket=s3_bucket, Key=file_key)\n",
    "\n",
    "    data = response[\"Body\"].read().decode(\"utf-8\")\n",
    "    print(data)"
   ]
  },
  {
   "cell_type": "code",
   "execution_count": 24,
   "metadata": {
    "tags": []
   },
   "outputs": [
    {
     "name": "stdout",
     "output_type": "stream",
     "text": [
      "{\"predictions\": [{\"begin\": 80, \"end\": 89, \"ner_chunk\": \"chest pain\", \"ner_label\": \"PROBLEM\", \"ner_confidence\": \"0.81095004\", \"concept_code\": \"D002637\", \"resolution\": \"chest pain\", \"score\": 1.000000238418579, \"all_codes\": [\"D002637\", \"D002637\", \"D002637\", \"D002637\", \"D013898\"], \"all_resolutions\": [\"chest pain\", \"chest pains\", \"pain, chest\", \"pains, chest\", \"chest injury\"], \"all_score\": [1.000000238418579, 0.9223949313163757, 0.9001147747039795, 0.8813276290893555, 0.7900357246398926]}, {\"begin\": 108, \"end\": 115, \"ner_chunk\": \"diabetic\", \"ner_label\": \"PROBLEM\", \"ner_confidence\": \"0.9946\", \"concept_code\": \"D002271\", \"resolution\": \"diabetal\", \"score\": 0.9493172764778137, \"all_codes\": [\"D002271\", \"D005905\", \"C070071\", \"D017719\", \"D017719\"], \"all_resolutions\": [\"diabetal\", \"diabeta\", \"diabeton\", \"foot, diabetic\", \"diabetic foot\"], \"all_score\": [0.9493172764778137, 0.8931193351745605, 0.8634507656097412, 0.8435543775558472, 0.8424345850944519]}, {\"begin\": 144, \"end\": 166, \"ner_chunk\": \"coronary artery disease\", \"ner_label\": \"PROBLEM\", \"ner_confidence\": \"0.94269997\", \"concept_code\": \"D003324\", \"resolution\": \"coronary artery disease\", \"score\": 1.0000001192092896, \"all_codes\": [\"D003324\", \"D003324\", \"D003324\", \"D003324\", \"D003324\"], \"all_resolutions\": [\"coronary artery disease\", \"coronary artery diseases\", \"artery disease, coronary\", \"artery diseases, coronary\", \"coronary arteriosclerosis\"], \"all_score\": [1.0000001192092896, 0.9600934982299805, 0.8984563946723938, 0.8772372603416443, 0.8711296916007996]}, {\"begin\": 209, \"end\": 222, \"ner_chunk\": \"his chest pain\", \"ner_label\": \"PROBLEM\", \"ner_confidence\": \"0.9567666\", \"concept_code\": \"D002637\", \"resolution\": \"chest pain\", \"score\": 0.8550782799720764, \"all_codes\": [\"D002637\", \"D002637\", \"D002637\", \"D002637\", \"D013898\"], \"all_resolutions\": [\"chest pain\", \"pain, chest\", \"pains, chest\", \"chest pains\", \"injury, chest\"], \"all_score\": [0.8550782799720764, 0.8530279994010925, 0.8295687437057495, 0.8216707706451416, 0.7635860443115234]}, {\"begin\": 271, \"end\": 277, \"ner_chunk\": \"Aspirin\", \"ner_label\": \"TREATMENT\", \"ner_confidence\": \"0.9998\", \"concept_code\": \"D001241\", \"resolution\": \"aspirin\", \"score\": 0.999999463558197, \"all_codes\": [\"D001241\", \"C102148\", \"C557598\", \"D002216\", \"C095840\"], \"all_resolutions\": [\"aspirin\", \"nitroaspirin\", \"aspirin-phosphatidylcholine\", \"lopirin\", \"bromoaspirin\"], \"all_score\": [0.999999463558197, 0.8318605422973633, 0.8297411203384399, 0.8272740244865417, 0.8154743909835815]}, {\"begin\": 299, \"end\": 307, \"ner_chunk\": \"Humulin N\", \"ner_label\": \"TREATMENT\", \"ner_confidence\": \"0.98345\", \"concept_code\": \"D061386\", \"resolution\": \"humulin\", \"score\": 0.9254507422447205, \"all_codes\": [\"D061386\", \"D061386\", \"C045625\", \"C091683\", \"C081210\"], \"all_resolutions\": [\"humulin\", \"humulin s\", \"nodulin\", \"nosulin\", \"humulinic acid\"], \"all_score\": [0.9254507422447205, 0.9025838375091553, 0.7947676181793213, 0.7928428649902344, 0.7591618299484253]}, {\"begin\": 310, \"end\": 316, \"ner_chunk\": \"insulin\", \"ner_label\": \"TREATMENT\", \"ner_confidence\": \"0.9881\", \"concept_code\": \"D061385\", \"resolution\": \"insulins\", \"score\": 0.9472028017044067, \"all_codes\": [\"D061385\", \"C007273\", \"D061386\", \"D007336\", \"D061389\"], \"all_resolutions\": [\"insulins\", \"insulin, des-ala-\", \"insulin, regular, human\", \"insulin, nph\", \"insulin, porcine\"], \"all_score\": [0.9472028017044067, 0.8462950587272644, 0.8460032343864441, 0.8412361741065979, 0.8363525867462158]}, {\"begin\": 335, \"end\": 353, \"ner_chunk\": \"Hydrochlorothiazide\", \"ner_label\": \"TREATMENT\", \"ner_confidence\": \"0.9999\", \"concept_code\": \"D006852\", \"resolution\": \"hydrochlorothiazide\", \"score\": 0.9999994039535522, \"all_codes\": [\"D006852\", \"D002740\", \"D006852\", \"C042169\", \"C020743\"], \"all_resolutions\": [\"hydrochlorothiazide\", \"chlorothiazide\", \"dihydrochlorothiazide\", \"benzylhydrochlorothiazide\", \"hydrochlorothiazide-triamterene\"], \"all_score\": [0.9999994039535522, 0.9405955672264099, 0.9194777011871338, 0.8802782297134399, 0.8533188104629517]}, {\"begin\": 367, \"end\": 379, \"ner_chunk\": \"Nitroglycerin\", \"ner_label\": \"TREATMENT\", \"ner_confidence\": \"0.9999\", \"concept_code\": \"D005996\", \"resolution\": \"nitroglycerin\", \"score\": 0.9999996423721313, \"all_codes\": [\"D005996\", \"D005996\", \"C014686\", \"C496680\", \"C016014\"], \"all_resolutions\": [\"nitroglycerin\", \"nitroglyn\", \"mononitroglycerol\", \"nitroxycarnitine nitrate\", \"4-nitrophenylglycerol\"], \"all_score\": [0.9999996423721313, 0.8743144869804382, 0.8509314060211182, 0.8292422294616699, 0.8227726817131042]}, {\"begin\": 404, \"end\": 413, \"ner_chunk\": \"chest pain\", \"ner_label\": \"PROBLEM\", \"ner_confidence\": \"0.959\", \"concept_code\": \"D002637\", \"resolution\": \"chest pain\", \"score\": 1.000000238418579, \"all_codes\": [\"D002637\", \"D002637\", \"D002637\", \"D002637\", \"D013898\"], \"all_resolutions\": [\"chest pain\", \"chest pains\", \"pain, chest\", \"pains, chest\", \"chest injury\"], \"all_score\": [1.000000238418579, 0.9223949313163757, 0.9001147747039795, 0.8813276290893555, 0.7900357246398926]}]}\n",
      "{\"predictions\": [{\"begin\": 63, \"end\": 67, \"ner_chunk\": \"cough\", \"ner_label\": \"PROBLEM\", \"ner_confidence\": \"0.9737\", \"concept_code\": \"D003371\", \"resolution\": \"cough\", \"score\": 1.0, \"all_codes\": [\"D003371\", \"D003371\", \"D014917\", \"D014917\", \"C000589846\"], \"all_resolutions\": [\"cough\", \"coughs\", \"cough, whooping\", \"whooping cough\", \"coughcode-n\"], \"all_score\": [1.0, 0.9196386337280273, 0.837946355342865, 0.7574732303619385, 0.7517421245574951]}, {\"begin\": 91, \"end\": 95, \"ner_chunk\": \"cough\", \"ner_label\": \"PROBLEM\", \"ner_confidence\": \"0.9992\", \"concept_code\": \"D003371\", \"resolution\": \"cough\", \"score\": 1.0, \"all_codes\": [\"D003371\", \"D003371\", \"D014917\", \"D014917\", \"C000589846\"], \"all_resolutions\": [\"cough\", \"coughs\", \"cough, whooping\", \"whooping cough\", \"coughcode-n\"], \"all_score\": [1.0, 0.9196386337280273, 0.837946355342865, 0.7574732303619385, 0.7517421245574951]}, {\"begin\": 130, \"end\": 134, \"ner_chunk\": \"cough\", \"ner_label\": \"PROBLEM\", \"ner_confidence\": \"0.9992\", \"concept_code\": \"D003371\", \"resolution\": \"cough\", \"score\": 1.0, \"all_codes\": [\"D003371\", \"D003371\", \"D014917\", \"D014917\", \"C000589846\"], \"all_resolutions\": [\"cough\", \"coughs\", \"cough, whooping\", \"whooping cough\", \"coughcode-n\"], \"all_score\": [1.0, 0.9196386337280273, 0.837946355342865, 0.7574732303619385, 0.7517421245574951]}, {\"begin\": 173, \"end\": 177, \"ner_chunk\": \"fever\", \"ner_label\": \"PROBLEM\", \"ner_confidence\": \"0.9997\", \"concept_code\": \"D005334\", \"resolution\": \"fever\", \"score\": 1.000000238418579, \"all_codes\": [\"D005334\", \"D005334\", \"D011778\", \"D011778\", \"D011778\"], \"all_resolutions\": [\"fever\", \"fevers\", \"fevers, query\", \"fever, query\", \"fevers, q\"], \"all_score\": [1.000000238418579, 0.926138699054718, 0.8635846376419067, 0.8553634285926819, 0.840775191783905]}, {\"begin\": 248, \"end\": 255, \"ner_chunk\": \"vomiting\", \"ner_label\": \"PROBLEM\", \"ner_confidence\": \"0.9955\", \"concept_code\": \"D014839\", \"resolution\": \"vomiting\", \"score\": 1.000000238418579, \"all_codes\": [\"D014839\", \"D020250\", \"D014840\", \"D009325\", \"C536228\"], \"all_resolutions\": [\"vomiting\", \"vomiting, postoperative\", \"vomiting, anticipatory\", \"nausea\", \"cyclical vomiting\"], \"all_score\": [1.000000238418579, 0.8096002340316772, 0.8043601512908936, 0.8031866550445557, 0.7970373034477234]}, {\"begin\": 261, \"end\": 268, \"ner_chunk\": \"diarrhea\", \"ner_label\": \"PROBLEM\", \"ner_confidence\": \"0.9984\", \"concept_code\": \"D003967\", \"resolution\": \"diarrhea\", \"score\": 0.9999997019767761, \"all_codes\": [\"D003967\", \"D003967\", \"C565627\", \"D004403\", \"D004403\"], \"all_resolutions\": [\"diarrhea\", \"diarrheas\", \"diarrhea, syndromic\", \"infectious diarrheal disease\", \"infectious diarrheal diseases\"], \"all_score\": [0.9999997019767761, 0.9340593814849854, 0.8388155102729797, 0.8328069448471069, 0.8185099959373474]}, {\"begin\": 274, \"end\": 282, \"ner_chunk\": \"skin rash\", \"ner_label\": \"PROBLEM\", \"ner_confidence\": \"0.9907\", \"concept_code\": \"D005076\", \"resolution\": \"skin rash\", \"score\": 1.0000003576278687, \"all_codes\": [\"D005076\", \"D005076\", \"D005076\", \"D003963\", \"D003963\"], \"all_resolutions\": [\"skin rash\", \"rash\", \"rash, skin\", \"diaper rash\", \"rash, diaper\"], \"all_score\": [1.0000003576278687, 0.903679370880127, 0.9034513235092163, 0.7977929711341858, 0.7784140706062317]}, {\"begin\": 288, \"end\": 295, \"ner_chunk\": \"cyanosis\", \"ner_label\": \"PROBLEM\", \"ner_confidence\": \"0.9986\", \"concept_code\": \"D003490\", \"resolution\": \"cyanosis\", \"score\": 0.9999992847442627, \"all_codes\": [\"D003490\", \"D003490\", \"C565660\", \"D008548\", \"D027802\"], \"all_resolutions\": [\"cyanosis\", \"cyanoses\", \"cyanosis and hepatic disease\", \"melanosis\", \"hypoxis\"], \"all_score\": [0.9999992847442627, 0.8472979068756104, 0.833354651927948, 0.7520582675933838, 0.7107992172241211]}]}\n"
     ]
    }
   ],
   "source": [
    "retrieve_jsonlines_output_from_s3(validation_jsonl_file_name)"
   ]
  },
  {
   "cell_type": "code",
   "execution_count": 25,
   "metadata": {
    "tags": []
   },
   "outputs": [
    {
     "name": "stderr",
     "output_type": "stream",
     "text": [
      "INFO:sagemaker:Deleting model with name: mesh-vdb-resolver-2-2025-08-18-12-11-17-522\n"
     ]
    }
   ],
   "source": [
    "model.delete_model()"
   ]
  },
  {
   "cell_type": "markdown",
   "metadata": {},
   "source": [
    "### Unsubscribe to the listing (optional)"
   ]
  },
  {
   "cell_type": "markdown",
   "metadata": {
    "tags": []
   },
   "source": [
    "If you would like to unsubscribe to the model package, follow these steps. Before you cancel the subscription, ensure that you do not have any [deployable model](https://console.aws.amazon.com/sagemaker/home#/models) created from the model package or using the algorithm. Note - You can find this information by looking at the container name associated with the model. \n",
    "\n",
    "**Steps to unsubscribe to product from AWS Marketplace**:\n",
    "1. Navigate to __Machine Learning__ tab on [__Your Software subscriptions page__](https://aws.amazon.com/marketplace/ai/library?productType=ml&ref_=mlmp_gitdemo_indust)\n",
    "2. Locate the listing that you want to cancel the subscription for, and then choose __Cancel Subscription__  to cancel the subscription.\n",
    "\n"
   ]
  }
 ],
 "metadata": {
  "instance_type": "ml.t3.medium",
  "kernelspec": {
   "display_name": "conda_python3",
   "language": "python",
   "name": "conda_python3"
  },
  "language_info": {
   "codemirror_mode": {
    "name": "ipython",
    "version": 3
   },
   "file_extension": ".py",
   "mimetype": "text/x-python",
   "name": "python",
   "nbconvert_exporter": "python",
   "pygments_lexer": "ipython3",
   "version": "3.10.18"
  }
 },
 "nbformat": 4,
 "nbformat_minor": 4
}

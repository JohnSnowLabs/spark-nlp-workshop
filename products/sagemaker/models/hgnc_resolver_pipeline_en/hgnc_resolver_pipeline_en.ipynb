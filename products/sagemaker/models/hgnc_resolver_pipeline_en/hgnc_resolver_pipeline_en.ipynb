{
 "cells": [
  {
   "cell_type": "markdown",
   "metadata": {},
   "source": [
    "## 1. Subscribe to the model package"
   ]
  },
  {
   "cell_type": "markdown",
   "metadata": {},
   "source": [
    "To subscribe to the model package:\n",
    "1. Open the model package listing page <font color='red'> For Seller to update:[Title_of_your_product](Provide link to your marketplace listing of your product).</font>\n",
    "1. On the AWS Marketplace listing, click on the **Continue to subscribe** button.\n",
    "1. On the **Subscribe to this software** page, review and click on **\"Accept Offer\"** if you and your organization agrees with EULA, pricing, and support terms. \n",
    "1. Once you click on **Continue to configuration button** and then choose a **region**, you will see a **Product Arn** displayed. This is the model package ARN that you need to specify while creating a deployable model using Boto3. Copy the ARN corresponding to your region and specify the same in the following cell."
   ]
  },
  {
   "cell_type": "markdown",
   "metadata": {},
   "source": [
    "## Pipeline for HUGO Gene Nomenclature Committee (HGNC)\n",
    "\n",
    "- **Model**: `hgnc_resolver_pipeline`\n",
    "- **Model Description**: This pipeline extracts `GENE` entities and maps them to their corresponding HUGO Gene Nomenclature Committee (HGNC) codes using `sbiobert_base_cased_mli` sentence embeddings."
   ]
  },
  {
   "cell_type": "code",
   "execution_count": null,
   "metadata": {
    "tags": []
   },
   "outputs": [],
   "source": [
    "model_package_arn = \"<Customer to specify Model package ARN corresponding to their AWS region>\""
   ]
  },
  {
   "cell_type": "code",
   "execution_count": 2,
   "metadata": {
    "tags": []
   },
   "outputs": [
    {
     "name": "stdout",
     "output_type": "stream",
     "text": [
      "sagemaker.config INFO - Not applying SDK defaults from location: /etc/xdg/sagemaker/config.yaml\n",
      "sagemaker.config INFO - Not applying SDK defaults from location: /home/ec2-user/.config/sagemaker/config.yaml\n"
     ]
    }
   ],
   "source": [
    "import base64\n",
    "import json\n",
    "import uuid\n",
    "from sagemaker import ModelPackage\n",
    "import sagemaker as sage\n",
    "from sagemaker import get_execution_role\n",
    "import boto3\n",
    "from IPython.display import Image, display\n",
    "from PIL import Image as ImageEdit\n",
    "import numpy as np"
   ]
  },
  {
   "cell_type": "code",
   "execution_count": 3,
   "metadata": {
    "tags": []
   },
   "outputs": [],
   "source": [
    "sagemaker_session = sage.Session()\n",
    "s3_bucket = sagemaker_session.default_bucket()\n",
    "region = sagemaker_session.boto_region_name\n",
    "account_id = boto3.client(\"sts\").get_caller_identity().get(\"Account\")\n",
    "role = get_execution_role()\n",
    "\n",
    "sagemaker = boto3.client(\"sagemaker\")\n",
    "s3_client = sagemaker_session.boto_session.client(\"s3\")\n",
    "ecr = boto3.client(\"ecr\")\n",
    "sm_runtime = boto3.client(\"sagemaker-runtime\")"
   ]
  },
  {
   "cell_type": "markdown",
   "metadata": {},
   "source": [
    "## 2. Create an endpoint and perform real-time inference"
   ]
  },
  {
   "cell_type": "markdown",
   "metadata": {},
   "source": [
    "If you want to understand how real-time inference with Amazon SageMaker works, see [Documentation](https://docs.aws.amazon.com/sagemaker/latest/dg/how-it-works-hosting.html)."
   ]
  },
  {
   "cell_type": "code",
   "execution_count": 4,
   "metadata": {
    "tags": []
   },
   "outputs": [],
   "source": [
    "model_name = \"hgnc-resolver-pipeline\"\n",
    "\n",
    "real_time_inference_instance_type = \"ml.m4.xlarge\"\n",
    "batch_transform_inference_instance_type = \"ml.m4.xlarge\"\n"
   ]
  },
  {
   "cell_type": "markdown",
   "metadata": {},
   "source": [
    "### A. Create an endpoint"
   ]
  },
  {
   "cell_type": "code",
   "execution_count": 5,
   "metadata": {
    "tags": []
   },
   "outputs": [
    {
     "name": "stdout",
     "output_type": "stream",
     "text": [
      "----------!"
     ]
    }
   ],
   "source": [
    "# create a deployable model from the model package.\n",
    "model = ModelPackage(\n",
    "    role=role, model_package_arn=model_package_arn, sagemaker_session=sagemaker_session\n",
    ")\n",
    "\n",
    "# Deploy the model\n",
    "predictor = model.deploy(1, real_time_inference_instance_type, endpoint_name=model_name)"
   ]
  },
  {
   "cell_type": "markdown",
   "metadata": {},
   "source": [
    "Once endpoint has been created, you would be able to perform real-time inference."
   ]
  },
  {
   "cell_type": "code",
   "execution_count": 6,
   "metadata": {
    "tags": []
   },
   "outputs": [],
   "source": [
    "import json\n",
    "import pandas as pd\n",
    "import os\n",
    "import boto3\n",
    "\n",
    "# Set display options\n",
    "pd.set_option('display.max_rows', None)\n",
    "pd.set_option('display.max_columns', None)\n",
    "pd.set_option('display.max_colwidth', None)\n",
    "\n",
    "def process_data_and_invoke_realtime_endpoint(data, content_type, accept):\n",
    "\n",
    "    content_type_to_format = {'application/json': 'json', 'application/jsonlines': 'jsonl'}\n",
    "    input_format = content_type_to_format.get(content_type)\n",
    "    if content_type not in content_type_to_format.keys() or accept not in content_type_to_format.keys():\n",
    "        raise ValueError(\"Invalid content_type or accept. It should be either 'application/json' or 'application/jsonlines'.\")\n",
    "\n",
    "    i = 1\n",
    "    input_dir = f'inputs/real-time/{input_format}'\n",
    "    output_dir = f'outputs/real-time/{input_format}'\n",
    "    s3_input_dir = f\"{model_name}/validation-input/real-time/{input_format}\"\n",
    "    s3_output_dir = f\"{model_name}/validation-output/real-time/{input_format}\"\n",
    "\n",
    "    input_file_name = f'{input_dir}/input{i}.{input_format}'\n",
    "    output_file_name = f'{output_dir}/{os.path.basename(input_file_name)}.out'\n",
    "\n",
    "    while os.path.exists(input_file_name) or os.path.exists(output_file_name):\n",
    "        i += 1\n",
    "        input_file_name = f'{input_dir}/input{i}.{input_format}'\n",
    "        output_file_name = f'{output_dir}/{os.path.basename(input_file_name)}.out'\n",
    "\n",
    "    os.makedirs(os.path.dirname(input_file_name), exist_ok=True)\n",
    "    os.makedirs(os.path.dirname(output_file_name), exist_ok=True)\n",
    "\n",
    "    input_data = json.dumps(data) if content_type == 'application/json' else data\n",
    "\n",
    "    # Write input data to file\n",
    "    with open(input_file_name, 'w') as f:\n",
    "        f.write(input_data)\n",
    "\n",
    "    # Upload input data to S3\n",
    "    s3_client.put_object(Bucket=s3_bucket, Key=f\"{s3_input_dir}/{os.path.basename(input_file_name)}\", Body=bytes(input_data.encode('UTF-8')))\n",
    "\n",
    "    # Invoke the SageMaker endpoint\n",
    "    response = sm_runtime.invoke_endpoint(\n",
    "        EndpointName=model_name,\n",
    "        ContentType=content_type,\n",
    "        Accept=accept,\n",
    "        Body=input_data,\n",
    "    )\n",
    "\n",
    "    # Read response data\n",
    "    response_data = json.loads(response[\"Body\"].read().decode(\"utf-8\")) if accept == 'application/json' else response['Body'].read().decode('utf-8')\n",
    "\n",
    "    # Save response data to file\n",
    "    with open(output_file_name, 'w') as f_out:\n",
    "        if accept == 'application/json':\n",
    "            json.dump(response_data, f_out, indent=4)\n",
    "        else:\n",
    "            for item in response_data.split('\\n'):\n",
    "                f_out.write(item + '\\n')\n",
    "\n",
    "    # Upload response data to S3\n",
    "    output_s3_key = f\"{s3_output_dir}/{os.path.basename(output_file_name)}\"\n",
    "    if accept == 'application/json':\n",
    "        s3_client.put_object(Bucket=s3_bucket, Key=output_s3_key, Body=json.dumps(response_data).encode('UTF-8'))\n",
    "    else:\n",
    "        s3_client.put_object(Bucket=s3_bucket, Key=output_s3_key, Body=response_data)\n",
    "\n",
    "    return response_data"
   ]
  },
  {
   "cell_type": "markdown",
   "metadata": {},
   "source": [
    "### Initial Setup"
   ]
  },
  {
   "cell_type": "code",
   "execution_count": 7,
   "metadata": {
    "tags": []
   },
   "outputs": [],
   "source": [
    "docs = [\n",
    "    \"Recent studies have suggested a potential link between the double homeobox 4 like 20 (pseudogene), also known as DUX4L20, and FBXO48 and RNA guanine-7 methyltransferase \",\n",
    "    \"The EGFR gene encodes a protein that is involved in cell proliferation and survival. Mutations in this gene have been implicated in the development of several types of cancer.\"\n",
    "\n",
    "]\n",
    "\n",
    "\n",
    "sample_text = \"\"\"During today's consultation, we reviewed the results of the comprehensive genetic analysis performed on the patient. This analysis uncovered complex interactions between several genes: DUX4, DUX4L20, FBXO48, MYOD1, and PAX7. These findings are significant as they provide new understanding of the molecular pathways that are involved in muscle differentiation and may play a role in the development and progression of muscular dystrophies in this patient.\"\"\""
   ]
  },
  {
   "cell_type": "markdown",
   "metadata": {},
   "source": [
    "### JSON"
   ]
  },
  {
   "cell_type": "markdown",
   "metadata": {},
   "source": [
    "#### Example 1"
   ]
  },
  {
   "cell_type": "markdown",
   "metadata": {},
   "source": [
    "  **Input format**:\n",
    "  \n",
    "  \n",
    "```json\n",
    "{\n",
    "    \"text\": \"Single text document\"\n",
    "}\n",
    "```"
   ]
  },
  {
   "cell_type": "code",
   "execution_count": 8,
   "metadata": {
    "tags": []
   },
   "outputs": [
    {
     "data": {
      "text/html": [
       "<div>\n",
       "<style scoped>\n",
       "    .dataframe tbody tr th:only-of-type {\n",
       "        vertical-align: middle;\n",
       "    }\n",
       "\n",
       "    .dataframe tbody tr th {\n",
       "        vertical-align: top;\n",
       "    }\n",
       "\n",
       "    .dataframe thead th {\n",
       "        text-align: right;\n",
       "    }\n",
       "</style>\n",
       "<table border=\"1\" class=\"dataframe\">\n",
       "  <thead>\n",
       "    <tr style=\"text-align: right;\">\n",
       "      <th></th>\n",
       "      <th>0</th>\n",
       "      <th>1</th>\n",
       "      <th>2</th>\n",
       "      <th>3</th>\n",
       "      <th>4</th>\n",
       "    </tr>\n",
       "  </thead>\n",
       "  <tbody>\n",
       "    <tr>\n",
       "      <th>0</th>\n",
       "      <td>{'ner_chunk': 'DUX4', 'begin': 185, 'end': 188, 'ner_label': 'GENE', 'ner_confidence': '0.9697', 'code': 'HGNC:50800', 'resolution': 'DUX4 [double homeobox 4]', 'all_k_codes': 'HGNC:50800:::HGNC:3070:::HGNC:32183:::HGNC:38686:::HGNC:39517:::HGNC:37267:::HGNC:3082:::HGNC:51787:::HGNC:21517:::HGNC:2917:::HGNC:38670:::HGNC:25475:::HGNC:2910:::HGNC:18700:::HGNC:33855:::HGNC:38689:::HGNC:11175:::HGNC:15966:::HGNC:7727:::HGNC:20229:::HGNC:13906:::HGNC:48628:::HGNC:15518:::HGNC:11200:::HGNC:20161', 'all_k_resolutions': 'DUX4 [double homeobox 4]:::DUSP4 [dual specificity phosphatase 4]:::DUXAP4 [double homeobox A pseudogene 4]:::DUX4L4 [double homeobox 4 like 4 (pseudogene)]:::DUTP4 [deoxyuridine triphosphatase pseudogene 4]:::DUX4L2 [double homeobox 4 like 2 (pseudogene)]:::DUX4L1 [double homeobox 4 like 1 (pseudogene)]:::DUX4L49 [double homeobox 4 like 49 (pseudogene)]:::DUS4L [dihydrouridine synthase 4 like]:::DLX4 [distal-less homeobox 4]:::DUX4L8 [double homeobox 4 like 8 (pseudogene)]:::BEX4 [brain expressed X-linked 4]:::DLL4 [delta like canonical Notch ligand 4]:::DDX4 [DEAD-box helicase 4]:::DUX4L9 [double homeobox 4 like 9 (pseudogene)]:::DUX4L5 [double homeobox 4 like 5 (pseudogene)]:::SNX4 [sorting nexin 4]:::DAZ4 [deleted in azoospermia 4]:::NEDD4 [NEDD4 E3 ubiquitin protein ligase]:::DCAF4 [DDB1 and CUL4 associated factor 4]:::MXD4 [MAX dimerization protein 4]:::TEX49 [testis expressed 49]:::DCTN4 [dynactin subunit 4]:::SOX4 [SRY-box transcription factor 4]:::TOX4 [TOX high mobility group box family member 4]', 'all_k_distances': '0.0000:::3.6040:::3.6951:::3.8239:::4.1167:::4.2880:::4.5084:::4.8762:::4.9478:::5.0787:::5.1106:::5.1314:::5.2626:::5.3066:::5.3660:::5.4132:::5.4142:::5.6109:::5.6147:::5.6667:::5.6798:::5.7166:::5.7258:::5.7436:::5.8439'}</td>\n",
       "      <td>{'ner_chunk': 'DUX4L20', 'begin': 191, 'end': 197, 'ner_label': 'GENE', 'ner_confidence': '0.9412', 'code': 'HGNC:50801', 'resolution': 'DUX4L20 [double homeobox 4 like 20 (pseudogene)]', 'all_k_codes': 'HGNC:50801:::HGNC:39776:::HGNC:31982:::HGNC:26230:::HGNC:2743:::HGNC:42011:::HGNC:42254:::HGNC:42423:::HGNC:42207:::HGNC:50522:::HGNC:34070:::HGNC:24679:::HGNC:18357:::HGNC:25794:::HGNC:14478:::HGNC:42012:::HGNC:4475:::HGNC:19734:::HGNC:36437:::HGNC:42013:::HGNC:11598:::HGNC:30390:::HGNC:53837:::HGNC:37772:::HGNC:51516', 'all_k_resolutions': 'DUX4L20 [double homeobox 4 like 20 (pseudogene)]:::ZDHHC20P4 [zinc finger DHHC-type containing 20 pseudogene 4]:::ANKRD20A4P [ankyrin repeat domain 20 family member A4, pseudogene]:::TM4SF20 [transmembrane 4 L six family member 20]:::DDX20 [DEAD-box helicase 20]:::FAM204BP [family with sequence similarity 204 member B, pseudogene]:::MTND4LP20 [MT-ND4L pseudogene 20]:::ZBTB20-AS4 [ZBTB20 antisense RNA 4]:::MTND4P20 [MT-ND4 pseudogene 20]:::TOMM20P4 [TOMM20 pseudogene 4]:::RNY4P20 [RNY4 pseudogene 20]:::FBXL20 [F-box and leucine rich repeat protein 20]:::ARHGAP20 [Rho GTPase activating protein 20]:::FAM204A [family with sequence similarity 204 member A]:::MRPL20 [mitochondrial ribosomal protein L20]:::FAM204CP [family with sequence similarity 204 member C, pseudogene]:::GPR20 [G protein-coupled receptor 20]:::RANBP20P [RAN binding protein 20 pseudogene]:::RPS4XP20 [ribosomal protein S4X pseudogene 20]:::FAM204DP [family with sequence similarity 204 member D, pseudogene]:::TBX20 [T-box transcription factor 20]:::SNX20 [sorting nexin 20]:::PRR20G [proline rich 20G]:::GAPDHP20 [glyceraldehyde 3 phosphate dehydrogenase pseudogene 20]:::SPDYE20P [speedy/RINGO cell cycle regulator family member E20, pseudogene]', 'all_k_distances': '0.0000:::6.4373:::6.4389:::6.6875:::6.8085:::6.8100:::6.8730:::6.8812:::6.9250:::6.9846:::7.0950:::7.1020:::7.2438:::7.2766:::7.3176:::7.3252:::7.3437:::7.4235:::7.4729:::7.4762:::7.4965:::7.5218:::7.5315:::7.5501:::7.5699'}</td>\n",
       "      <td>{'ner_chunk': 'FBXO48', 'begin': 200, 'end': 205, 'ner_label': 'GENE', 'ner_confidence': '0.9676', 'code': 'HGNC:33857', 'resolution': 'FBXO48 [F-box protein 48]', 'all_k_codes': 'HGNC:33857:::HGNC:4930:::HGNC:16653:::HGNC:13114:::HGNC:22564:::HGNC:18533:::HGNC:37552:::HGNC:24635:::HGNC:23535:::HGNC:23385:::HGNC:23942:::HGNC:20807:::HGNC:23440:::HGNC:21368:::HGNC:23384:::HGNC:52393:::HGNC:23305:::HGNC:21785:::HGNC:23488:::HGNC:31272:::HGNC:1683:::HGNC:12079:::HGNC:37805:::HGNC:55157:::HGNC:31969', 'all_k_resolutions': 'FBXO48 [F-box protein 48]:::ZBTB48 [zinc finger and BTB domain containing 48]:::MRPL48 [mitochondrial ribosomal protein L48]:::ZNF48 [zinc finger protein 48]:::SPATA48 [spermatogenesis associated 48]:::USP48 [ubiquitin specific peptidase 48]:::PIRC48 [piwi-interacting RNA cluster 48]:::PRSS48 [serine protease 48]:::ZNF488 [zinc finger protein 488]:::ZNF484 [zinc finger protein 484]:::CYCSP48 [CYCS pseudogene 48]:::ZNF486 [zinc finger protein 486]:::ZNF485 [zinc finger protein 485]:::SNRNP48 [small nuclear ribonucleoprotein U11/U12 subunit 48]:::ZNF483 [zinc finger protein 483]:::TEX48 [testis expressed 48]:::ZNF480 [zinc finger protein 480]:::RBM48 [RNA binding motif protein 48]:::ZNF487 [zinc finger protein 487]:::OR4C48P [olfactory receptor family 4 subfamily C member 48 pseudogene]:::CD48 [CD48 molecule]:::TRAJ48 [T cell receptor alpha joining 48]:::GAPDHP48 [glyceraldehyde 3 phosphate dehydrogenase pseudogene 48]:::HMGN2P48 [high mobility group nucleosomal binding domain 2 pseudogene 48]:::FBXO47 [F-box protein 47]', 'all_k_distances': '0.0000:::5.3026:::5.3531:::5.4464:::5.8642:::5.8911:::5.9817:::6.0045:::6.1032:::6.1347:::6.1727:::6.2446:::6.3179:::6.3452:::6.3667:::6.3867:::6.3949:::6.4803:::6.5349:::6.5411:::6.5938:::6.6030:::6.6433:::6.7313:::6.8481'}</td>\n",
       "      <td>{'ner_chunk': 'MYOD1', 'begin': 208, 'end': 212, 'ner_label': 'GENE', 'ner_confidence': '0.9847', 'code': 'HGNC:7611', 'resolution': 'MYOD1 [myogenic differentiation 1]', 'all_k_codes': 'HGNC:7611:::HGNC:13879:::HGNC:7613:::HGNC:7582:::HGNC:7598:::HGNC:40750:::HGNC:40384:::HGNC:13880:::HGNC:6970:::HGNC:17590:::HGNC:23172:::HGNC:54810:::HGNC:7600:::HGNC:29401:::HGNC:18302:::HGNC:7599:::HGNC:7228:::HGNC:7622:::HGNC:28781:::HGNC:7623:::HGNC:29636:::HGNC:29917:::HGNC:7567:::HGNC:33741:::HGNC:4979', 'all_k_resolutions': 'MYOD1 [myogenic differentiation 1]:::MYO1H [myosin IH]:::MYOM1 [myomesin 1]:::MYL1 [myosin light chain 1]:::MYO1D [myosin ID]:::MYOCD-AS1 [MYOCD antisense RNA 1]:::MYADM-AS1 [MYADM antisense RNA 1]:::MYO1G [myosin IG]:::MDH1 [malate dehydrogenase 1]:::MYG1 [MYG1 exonuclease]:::MYCT1 [MYC target 1]:::MYG1-AS1 [MYG1 antisense RNA 1]:::MYO1F [myosin IF]:::MYSM1 [Myb like, SWIRM and MPN domains 1]:::MDN1 [midasin AAA ATPase 1]:::MYO1E [myosin IE]:::MRC1 [mannose receptor C-type 1]:::MYT1 [myelin transcription factor 1]:::MDP1 [magnesium dependent phosphatase 1]:::MYT1L [myelin transcription factor 1 like]:::MNS1 [meiosis specific nuclear structural 1]:::MDM1 [Mdm1 nuclear protein]:::MYH1 [myosin heavy chain 1]:::MSANTD1 [Myb/SANT DNA binding domain containing 1]:::MNX1 [motor neuron and pancreas homeobox 1]', 'all_k_distances': '0.0000:::6.0302:::6.2004:::6.2268:::6.4159:::6.6053:::6.6239:::6.7211:::6.7314:::6.7537:::6.7611:::6.8063:::6.8215:::6.8536:::6.9048:::6.9172:::6.9348:::6.9395:::6.9683:::7.0125:::7.0214:::7.0451:::7.0701:::7.0703:::7.0788'}</td>\n",
       "      <td>{'ner_chunk': 'PAX7', 'begin': 219, 'end': 222, 'ner_label': 'GENE', 'ner_confidence': '0.8536', 'code': 'HGNC:8621', 'resolution': 'PAX7 [paired box 7]', 'all_k_codes': 'HGNC:8621:::HGNC:8748:::HGNC:9351:::HGNC:8792:::HGNC:25557:::HGNC:8860:::HGNC:22958:::HGNC:12630:::HGNC:8791:::HGNC:13638:::HGNC:28130:::HGNC:21957:::HGNC:8767:::HGNC:38100:::HGNC:48824:::HGNC:28174:::HGNC:8659:::HGNC:26257:::HGNC:2292:::HGNC:28439:::HGNC:2291:::HGNC:9618:::HGNC:18196:::HGNC:3073:::HGNC:14971', 'all_k_resolutions': 'PAX7 [paired box 7]:::PCSK7 [proprotein convertase subtilisin/kexin type 7]:::PRDM7 [PR/SET domain 7]:::PDE7B [phosphodiesterase 7B]:::PRMT7 [protein arginine methyltransferase 7]:::PEX7 [peroxisomal biogenesis factor 7]:::PDLIM7 [PDZ and LIM domain 7]:::USP7 [ubiquitin specific peptidase 7]:::PDE7A [phosphodiesterase 7A]:::VENTXP7 [VENT homeobox pseudogene 7]:::PRR7 [proline rich 7, synaptic]:::KCTD7 [potassium channel tetramerization domain containing 7]:::PDCD7 [programmed cell death 7]:::PAICSP7 [phosphoribosylaminoimidazole carboxylase, phosphoribosylaminoimidazole succinocarboxamide synthetase pseudogene 7]:::PCAT7 [prostate cancer associated transcript 7]:::PLPP7 [phospholipid phosphatase 7 (inactive)]:::PCDH7 [protocadherin 7]:::PDZD7 [PDZ domain containing 7]:::COX7C [cytochrome c oxidase subunit 7C]:::CHMP7 [charged multivesicular body protein 7]:::COX7B [cytochrome c oxidase subunit 7B]:::PTK7 [protein tyrosine kinase 7 (inactive)]:::SOX7 [SRY-box transcription factor 7]:::DUSP7 [dual specificity phosphatase 7]:::SNX7 [sorting nexin 7]', 'all_k_distances': '0.0000:::7.7463:::7.7935:::7.7945:::7.8946:::7.9341:::7.9389:::7.9698:::8.0057:::8.0223:::8.0759:::8.0858:::8.1156:::8.1445:::8.1713:::8.1811:::8.1841:::8.2019:::8.2248:::8.2780:::8.3136:::8.3262:::8.3448:::8.3579:::8.4082'}</td>\n",
       "    </tr>\n",
       "  </tbody>\n",
       "</table>\n",
       "</div>"
      ],
      "text/plain": [
       "                                                                                                                                                                                                                                                                                                                                                                                                                                                                                                                                                                                                                                                                                                                                                                                                                                                                                                                                                                                                                                                                                                                                                                                                                                                                                                                                                                                                                                                                                                                                                                                                                                                                                                                                                                                                                                                             0  \\\n",
       "0  {'ner_chunk': 'DUX4', 'begin': 185, 'end': 188, 'ner_label': 'GENE', 'ner_confidence': '0.9697', 'code': 'HGNC:50800', 'resolution': 'DUX4 [double homeobox 4]', 'all_k_codes': 'HGNC:50800:::HGNC:3070:::HGNC:32183:::HGNC:38686:::HGNC:39517:::HGNC:37267:::HGNC:3082:::HGNC:51787:::HGNC:21517:::HGNC:2917:::HGNC:38670:::HGNC:25475:::HGNC:2910:::HGNC:18700:::HGNC:33855:::HGNC:38689:::HGNC:11175:::HGNC:15966:::HGNC:7727:::HGNC:20229:::HGNC:13906:::HGNC:48628:::HGNC:15518:::HGNC:11200:::HGNC:20161', 'all_k_resolutions': 'DUX4 [double homeobox 4]:::DUSP4 [dual specificity phosphatase 4]:::DUXAP4 [double homeobox A pseudogene 4]:::DUX4L4 [double homeobox 4 like 4 (pseudogene)]:::DUTP4 [deoxyuridine triphosphatase pseudogene 4]:::DUX4L2 [double homeobox 4 like 2 (pseudogene)]:::DUX4L1 [double homeobox 4 like 1 (pseudogene)]:::DUX4L49 [double homeobox 4 like 49 (pseudogene)]:::DUS4L [dihydrouridine synthase 4 like]:::DLX4 [distal-less homeobox 4]:::DUX4L8 [double homeobox 4 like 8 (pseudogene)]:::BEX4 [brain expressed X-linked 4]:::DLL4 [delta like canonical Notch ligand 4]:::DDX4 [DEAD-box helicase 4]:::DUX4L9 [double homeobox 4 like 9 (pseudogene)]:::DUX4L5 [double homeobox 4 like 5 (pseudogene)]:::SNX4 [sorting nexin 4]:::DAZ4 [deleted in azoospermia 4]:::NEDD4 [NEDD4 E3 ubiquitin protein ligase]:::DCAF4 [DDB1 and CUL4 associated factor 4]:::MXD4 [MAX dimerization protein 4]:::TEX49 [testis expressed 49]:::DCTN4 [dynactin subunit 4]:::SOX4 [SRY-box transcription factor 4]:::TOX4 [TOX high mobility group box family member 4]', 'all_k_distances': '0.0000:::3.6040:::3.6951:::3.8239:::4.1167:::4.2880:::4.5084:::4.8762:::4.9478:::5.0787:::5.1106:::5.1314:::5.2626:::5.3066:::5.3660:::5.4132:::5.4142:::5.6109:::5.6147:::5.6667:::5.6798:::5.7166:::5.7258:::5.7436:::5.8439'}   \n",
       "\n",
       "                                                                                                                                                                                                                                                                                                                                                                                                                                                                                                                                                                                                                                                                                                                                                                                                                                                                                                                                                                                                                                                                                                                                                                                                                                                                                                                                                                                                                                                                                                                                                                                                                                                                                                                                                                                                                                                                                                                                                                                                                                                                                                    1  \\\n",
       "0  {'ner_chunk': 'DUX4L20', 'begin': 191, 'end': 197, 'ner_label': 'GENE', 'ner_confidence': '0.9412', 'code': 'HGNC:50801', 'resolution': 'DUX4L20 [double homeobox 4 like 20 (pseudogene)]', 'all_k_codes': 'HGNC:50801:::HGNC:39776:::HGNC:31982:::HGNC:26230:::HGNC:2743:::HGNC:42011:::HGNC:42254:::HGNC:42423:::HGNC:42207:::HGNC:50522:::HGNC:34070:::HGNC:24679:::HGNC:18357:::HGNC:25794:::HGNC:14478:::HGNC:42012:::HGNC:4475:::HGNC:19734:::HGNC:36437:::HGNC:42013:::HGNC:11598:::HGNC:30390:::HGNC:53837:::HGNC:37772:::HGNC:51516', 'all_k_resolutions': 'DUX4L20 [double homeobox 4 like 20 (pseudogene)]:::ZDHHC20P4 [zinc finger DHHC-type containing 20 pseudogene 4]:::ANKRD20A4P [ankyrin repeat domain 20 family member A4, pseudogene]:::TM4SF20 [transmembrane 4 L six family member 20]:::DDX20 [DEAD-box helicase 20]:::FAM204BP [family with sequence similarity 204 member B, pseudogene]:::MTND4LP20 [MT-ND4L pseudogene 20]:::ZBTB20-AS4 [ZBTB20 antisense RNA 4]:::MTND4P20 [MT-ND4 pseudogene 20]:::TOMM20P4 [TOMM20 pseudogene 4]:::RNY4P20 [RNY4 pseudogene 20]:::FBXL20 [F-box and leucine rich repeat protein 20]:::ARHGAP20 [Rho GTPase activating protein 20]:::FAM204A [family with sequence similarity 204 member A]:::MRPL20 [mitochondrial ribosomal protein L20]:::FAM204CP [family with sequence similarity 204 member C, pseudogene]:::GPR20 [G protein-coupled receptor 20]:::RANBP20P [RAN binding protein 20 pseudogene]:::RPS4XP20 [ribosomal protein S4X pseudogene 20]:::FAM204DP [family with sequence similarity 204 member D, pseudogene]:::TBX20 [T-box transcription factor 20]:::SNX20 [sorting nexin 20]:::PRR20G [proline rich 20G]:::GAPDHP20 [glyceraldehyde 3 phosphate dehydrogenase pseudogene 20]:::SPDYE20P [speedy/RINGO cell cycle regulator family member E20, pseudogene]', 'all_k_distances': '0.0000:::6.4373:::6.4389:::6.6875:::6.8085:::6.8100:::6.8730:::6.8812:::6.9250:::6.9846:::7.0950:::7.1020:::7.2438:::7.2766:::7.3176:::7.3252:::7.3437:::7.4235:::7.4729:::7.4762:::7.4965:::7.5218:::7.5315:::7.5501:::7.5699'}   \n",
       "\n",
       "                                                                                                                                                                                                                                                                                                                                                                                                                                                                                                                                                                                                                                                                                                                                                                                                                                                                                                                                                                                                                                                                                                                                                                                                                                                                                                                                                                                                                                                                                                                                                                                                                                                                                                                                                                                                                                                                                2  \\\n",
       "0  {'ner_chunk': 'FBXO48', 'begin': 200, 'end': 205, 'ner_label': 'GENE', 'ner_confidence': '0.9676', 'code': 'HGNC:33857', 'resolution': 'FBXO48 [F-box protein 48]', 'all_k_codes': 'HGNC:33857:::HGNC:4930:::HGNC:16653:::HGNC:13114:::HGNC:22564:::HGNC:18533:::HGNC:37552:::HGNC:24635:::HGNC:23535:::HGNC:23385:::HGNC:23942:::HGNC:20807:::HGNC:23440:::HGNC:21368:::HGNC:23384:::HGNC:52393:::HGNC:23305:::HGNC:21785:::HGNC:23488:::HGNC:31272:::HGNC:1683:::HGNC:12079:::HGNC:37805:::HGNC:55157:::HGNC:31969', 'all_k_resolutions': 'FBXO48 [F-box protein 48]:::ZBTB48 [zinc finger and BTB domain containing 48]:::MRPL48 [mitochondrial ribosomal protein L48]:::ZNF48 [zinc finger protein 48]:::SPATA48 [spermatogenesis associated 48]:::USP48 [ubiquitin specific peptidase 48]:::PIRC48 [piwi-interacting RNA cluster 48]:::PRSS48 [serine protease 48]:::ZNF488 [zinc finger protein 488]:::ZNF484 [zinc finger protein 484]:::CYCSP48 [CYCS pseudogene 48]:::ZNF486 [zinc finger protein 486]:::ZNF485 [zinc finger protein 485]:::SNRNP48 [small nuclear ribonucleoprotein U11/U12 subunit 48]:::ZNF483 [zinc finger protein 483]:::TEX48 [testis expressed 48]:::ZNF480 [zinc finger protein 480]:::RBM48 [RNA binding motif protein 48]:::ZNF487 [zinc finger protein 487]:::OR4C48P [olfactory receptor family 4 subfamily C member 48 pseudogene]:::CD48 [CD48 molecule]:::TRAJ48 [T cell receptor alpha joining 48]:::GAPDHP48 [glyceraldehyde 3 phosphate dehydrogenase pseudogene 48]:::HMGN2P48 [high mobility group nucleosomal binding domain 2 pseudogene 48]:::FBXO47 [F-box protein 47]', 'all_k_distances': '0.0000:::5.3026:::5.3531:::5.4464:::5.8642:::5.8911:::5.9817:::6.0045:::6.1032:::6.1347:::6.1727:::6.2446:::6.3179:::6.3452:::6.3667:::6.3867:::6.3949:::6.4803:::6.5349:::6.5411:::6.5938:::6.6030:::6.6433:::6.7313:::6.8481'}   \n",
       "\n",
       "                                                                                                                                                                                                                                                                                                                                                                                                                                                                                                                                                                                                                                                                                                                                                                                                                                                                                                                                                                                                                                                                                                                                                                                                                                                                                                                                                                                                                                                                                                                                                                                                                                                 3  \\\n",
       "0  {'ner_chunk': 'MYOD1', 'begin': 208, 'end': 212, 'ner_label': 'GENE', 'ner_confidence': '0.9847', 'code': 'HGNC:7611', 'resolution': 'MYOD1 [myogenic differentiation 1]', 'all_k_codes': 'HGNC:7611:::HGNC:13879:::HGNC:7613:::HGNC:7582:::HGNC:7598:::HGNC:40750:::HGNC:40384:::HGNC:13880:::HGNC:6970:::HGNC:17590:::HGNC:23172:::HGNC:54810:::HGNC:7600:::HGNC:29401:::HGNC:18302:::HGNC:7599:::HGNC:7228:::HGNC:7622:::HGNC:28781:::HGNC:7623:::HGNC:29636:::HGNC:29917:::HGNC:7567:::HGNC:33741:::HGNC:4979', 'all_k_resolutions': 'MYOD1 [myogenic differentiation 1]:::MYO1H [myosin IH]:::MYOM1 [myomesin 1]:::MYL1 [myosin light chain 1]:::MYO1D [myosin ID]:::MYOCD-AS1 [MYOCD antisense RNA 1]:::MYADM-AS1 [MYADM antisense RNA 1]:::MYO1G [myosin IG]:::MDH1 [malate dehydrogenase 1]:::MYG1 [MYG1 exonuclease]:::MYCT1 [MYC target 1]:::MYG1-AS1 [MYG1 antisense RNA 1]:::MYO1F [myosin IF]:::MYSM1 [Myb like, SWIRM and MPN domains 1]:::MDN1 [midasin AAA ATPase 1]:::MYO1E [myosin IE]:::MRC1 [mannose receptor C-type 1]:::MYT1 [myelin transcription factor 1]:::MDP1 [magnesium dependent phosphatase 1]:::MYT1L [myelin transcription factor 1 like]:::MNS1 [meiosis specific nuclear structural 1]:::MDM1 [Mdm1 nuclear protein]:::MYH1 [myosin heavy chain 1]:::MSANTD1 [Myb/SANT DNA binding domain containing 1]:::MNX1 [motor neuron and pancreas homeobox 1]', 'all_k_distances': '0.0000:::6.0302:::6.2004:::6.2268:::6.4159:::6.6053:::6.6239:::6.7211:::6.7314:::6.7537:::6.7611:::6.8063:::6.8215:::6.8536:::6.9048:::6.9172:::6.9348:::6.9395:::6.9683:::7.0125:::7.0214:::7.0451:::7.0701:::7.0703:::7.0788'}   \n",
       "\n",
       "                                                                                                                                                                                                                                                                                                                                                                                                                                                                                                                                                                                                                                                                                                                                                                                                                                                                                                                                                                                                                                                                                                                                                                                                                                                                                                                                                                                                                                                                                                                                                                                                                                                                                                                                                                                                                                                                                         4  \n",
       "0  {'ner_chunk': 'PAX7', 'begin': 219, 'end': 222, 'ner_label': 'GENE', 'ner_confidence': '0.8536', 'code': 'HGNC:8621', 'resolution': 'PAX7 [paired box 7]', 'all_k_codes': 'HGNC:8621:::HGNC:8748:::HGNC:9351:::HGNC:8792:::HGNC:25557:::HGNC:8860:::HGNC:22958:::HGNC:12630:::HGNC:8791:::HGNC:13638:::HGNC:28130:::HGNC:21957:::HGNC:8767:::HGNC:38100:::HGNC:48824:::HGNC:28174:::HGNC:8659:::HGNC:26257:::HGNC:2292:::HGNC:28439:::HGNC:2291:::HGNC:9618:::HGNC:18196:::HGNC:3073:::HGNC:14971', 'all_k_resolutions': 'PAX7 [paired box 7]:::PCSK7 [proprotein convertase subtilisin/kexin type 7]:::PRDM7 [PR/SET domain 7]:::PDE7B [phosphodiesterase 7B]:::PRMT7 [protein arginine methyltransferase 7]:::PEX7 [peroxisomal biogenesis factor 7]:::PDLIM7 [PDZ and LIM domain 7]:::USP7 [ubiquitin specific peptidase 7]:::PDE7A [phosphodiesterase 7A]:::VENTXP7 [VENT homeobox pseudogene 7]:::PRR7 [proline rich 7, synaptic]:::KCTD7 [potassium channel tetramerization domain containing 7]:::PDCD7 [programmed cell death 7]:::PAICSP7 [phosphoribosylaminoimidazole carboxylase, phosphoribosylaminoimidazole succinocarboxamide synthetase pseudogene 7]:::PCAT7 [prostate cancer associated transcript 7]:::PLPP7 [phospholipid phosphatase 7 (inactive)]:::PCDH7 [protocadherin 7]:::PDZD7 [PDZ domain containing 7]:::COX7C [cytochrome c oxidase subunit 7C]:::CHMP7 [charged multivesicular body protein 7]:::COX7B [cytochrome c oxidase subunit 7B]:::PTK7 [protein tyrosine kinase 7 (inactive)]:::SOX7 [SRY-box transcription factor 7]:::DUSP7 [dual specificity phosphatase 7]:::SNX7 [sorting nexin 7]', 'all_k_distances': '0.0000:::7.7463:::7.7935:::7.7945:::7.8946:::7.9341:::7.9389:::7.9698:::8.0057:::8.0223:::8.0759:::8.0858:::8.1156:::8.1445:::8.1713:::8.1811:::8.1841:::8.2019:::8.2248:::8.2780:::8.3136:::8.3262:::8.3448:::8.3579:::8.4082'}  "
      ]
     },
     "execution_count": 8,
     "metadata": {},
     "output_type": "execute_result"
    }
   ],
   "source": [
    "input_json_data = {\"text\": sample_text}\n",
    "\n",
    "data =  process_data_and_invoke_realtime_endpoint(input_json_data, content_type=\"application/json\" , accept=\"application/json\" )\n",
    "pd.DataFrame(data[\"predictions\"])"
   ]
  },
  {
   "cell_type": "markdown",
   "metadata": {},
   "source": [
    "#### Example 2"
   ]
  },
  {
   "cell_type": "markdown",
   "metadata": {},
   "source": [
    "  **Input format**:\n",
    "  \n",
    "  \n",
    "```json\n",
    "{\n",
    "    \"text\": [\n",
    "        \"Text document 1\",\n",
    "        \"Text document 2\",\n",
    "        ...\n",
    "    ]\n",
    "}\n",
    "```"
   ]
  },
  {
   "cell_type": "code",
   "execution_count": 9,
   "metadata": {
    "tags": []
   },
   "outputs": [
    {
     "data": {
      "text/html": [
       "<div>\n",
       "<style scoped>\n",
       "    .dataframe tbody tr th:only-of-type {\n",
       "        vertical-align: middle;\n",
       "    }\n",
       "\n",
       "    .dataframe tbody tr th {\n",
       "        vertical-align: top;\n",
       "    }\n",
       "\n",
       "    .dataframe thead th {\n",
       "        text-align: right;\n",
       "    }\n",
       "</style>\n",
       "<table border=\"1\" class=\"dataframe\">\n",
       "  <thead>\n",
       "    <tr style=\"text-align: right;\">\n",
       "      <th></th>\n",
       "      <th>0</th>\n",
       "      <th>1</th>\n",
       "    </tr>\n",
       "  </thead>\n",
       "  <tbody>\n",
       "    <tr>\n",
       "      <th>0</th>\n",
       "      <td>{'ner_chunk': 'DUX4L20', 'begin': 113, 'end': 119, 'ner_label': 'GENE', 'ner_confidence': '0.9654', 'code': 'HGNC:50801', 'resolution': 'DUX4L20 [double homeobox 4 like 20 (pseudogene)]', 'all_k_codes': 'HGNC:50801:::HGNC:39776:::HGNC:31982:::HGNC:26230:::HGNC:2743:::HGNC:42011:::HGNC:42254:::HGNC:42423:::HGNC:42207:::HGNC:50522:::HGNC:34070:::HGNC:24679:::HGNC:18357:::HGNC:25794:::HGNC:14478:::HGNC:42012:::HGNC:4475:::HGNC:19734:::HGNC:36437:::HGNC:42013:::HGNC:11598:::HGNC:30390:::HGNC:53837:::HGNC:37772:::HGNC:51516', 'all_k_resolutions': 'DUX4L20 [double homeobox 4 like 20 (pseudogene)]:::ZDHHC20P4 [zinc finger DHHC-type containing 20 pseudogene 4]:::ANKRD20A4P [ankyrin repeat domain 20 family member A4, pseudogene]:::TM4SF20 [transmembrane 4 L six family member 20]:::DDX20 [DEAD-box helicase 20]:::FAM204BP [family with sequence similarity 204 member B, pseudogene]:::MTND4LP20 [MT-ND4L pseudogene 20]:::ZBTB20-AS4 [ZBTB20 antisense RNA 4]:::MTND4P20 [MT-ND4 pseudogene 20]:::TOMM20P4 [TOMM20 pseudogene 4]:::RNY4P20 [RNY4 pseudogene 20]:::FBXL20 [F-box and leucine rich repeat protein 20]:::ARHGAP20 [Rho GTPase activating protein 20]:::FAM204A [family with sequence similarity 204 member A]:::MRPL20 [mitochondrial ribosomal protein L20]:::FAM204CP [family with sequence similarity 204 member C, pseudogene]:::GPR20 [G protein-coupled receptor 20]:::RANBP20P [RAN binding protein 20 pseudogene]:::RPS4XP20 [ribosomal protein S4X pseudogene 20]:::FAM204DP [family with sequence similarity 204 member D, pseudogene]:::TBX20 [T-box transcription factor 20]:::SNX20 [sorting nexin 20]:::PRR20G [proline rich 20G]:::GAPDHP20 [glyceraldehyde 3 phosphate dehydrogenase pseudogene 20]:::SPDYE20P [speedy/RINGO cell cycle regulator family member E20, pseudogene]', 'all_k_distances': '0.0000:::6.4373:::6.4389:::6.6875:::6.8085:::6.8100:::6.8730:::6.8812:::6.9250:::6.9846:::7.0950:::7.1020:::7.2438:::7.2766:::7.3176:::7.3252:::7.3437:::7.4235:::7.4729:::7.4762:::7.4965:::7.5218:::7.5315:::7.5501:::7.5699'}</td>\n",
       "      <td>{'ner_chunk': 'FBXO48', 'begin': 126, 'end': 131, 'ner_label': 'GENE', 'ner_confidence': '0.9833', 'code': 'HGNC:33857', 'resolution': 'FBXO48 [F-box protein 48]', 'all_k_codes': 'HGNC:33857:::HGNC:4930:::HGNC:16653:::HGNC:13114:::HGNC:22564:::HGNC:18533:::HGNC:37552:::HGNC:24635:::HGNC:23535:::HGNC:23385:::HGNC:23942:::HGNC:20807:::HGNC:23440:::HGNC:21368:::HGNC:23384:::HGNC:52393:::HGNC:23305:::HGNC:21785:::HGNC:23488:::HGNC:31272:::HGNC:1683:::HGNC:12079:::HGNC:37805:::HGNC:55157:::HGNC:31969', 'all_k_resolutions': 'FBXO48 [F-box protein 48]:::ZBTB48 [zinc finger and BTB domain containing 48]:::MRPL48 [mitochondrial ribosomal protein L48]:::ZNF48 [zinc finger protein 48]:::SPATA48 [spermatogenesis associated 48]:::USP48 [ubiquitin specific peptidase 48]:::PIRC48 [piwi-interacting RNA cluster 48]:::PRSS48 [serine protease 48]:::ZNF488 [zinc finger protein 488]:::ZNF484 [zinc finger protein 484]:::CYCSP48 [CYCS pseudogene 48]:::ZNF486 [zinc finger protein 486]:::ZNF485 [zinc finger protein 485]:::SNRNP48 [small nuclear ribonucleoprotein U11/U12 subunit 48]:::ZNF483 [zinc finger protein 483]:::TEX48 [testis expressed 48]:::ZNF480 [zinc finger protein 480]:::RBM48 [RNA binding motif protein 48]:::ZNF487 [zinc finger protein 487]:::OR4C48P [olfactory receptor family 4 subfamily C member 48 pseudogene]:::CD48 [CD48 molecule]:::TRAJ48 [T cell receptor alpha joining 48]:::GAPDHP48 [glyceraldehyde 3 phosphate dehydrogenase pseudogene 48]:::HMGN2P48 [high mobility group nucleosomal binding domain 2 pseudogene 48]:::FBXO47 [F-box protein 47]', 'all_k_distances': '0.0000:::5.3026:::5.3531:::5.4464:::5.8642:::5.8911:::5.9817:::6.0045:::6.1032:::6.1347:::6.1727:::6.2446:::6.3179:::6.3452:::6.3667:::6.3867:::6.3949:::6.4803:::6.5349:::6.5411:::6.5938:::6.6030:::6.6433:::6.7313:::6.8481'}</td>\n",
       "    </tr>\n",
       "    <tr>\n",
       "      <th>1</th>\n",
       "      <td>{'ner_chunk': 'EGFR', 'begin': 4, 'end': 7, 'ner_label': 'GENE', 'ner_confidence': '0.9994', 'code': 'HGNC:3236', 'resolution': 'EGFR [epidermal growth factor receptor]', 'all_k_codes': 'HGNC:3236:::HGNC:3229:::HGNC:3697:::HGNC:16898:::HGNC:12691:::HGNC:4194:::HGNC:26330:::HGNC:3662:::HGNC:21869:::HGNC:341:::HGNC:3249:::HGNC:3785:::HGNC:330:::HGNC:5715:::HGNC:3642:::HGNC:4330:::HGNC:329:::HGNC:3481:::HGNC:17470:::HGNC:4570:::HGNC:3113:::HGNC:6583:::HGNC:3483:::HGNC:4267:::HGNC:28292', 'all_k_resolutions': 'EGFR [epidermal growth factor receptor]:::EGF [epidermal growth factor]:::FGR [FGR proto-oncogene, Src family tyrosine kinase]:::EFS [embryonal Fyn-associated substrate]:::EZR [ezrin]:::GCHFR [GTP cyclohydrolase I feedback regulator]:::EFHB [EF-hand domain family member B]:::FGB [fibrinogen beta chain]:::AGK [acylglycerol kinase]:::AGXT [alanine--glyoxylate aminotransferase]:::EIF1 [eukaryotic translation initiation factor 1]:::FNTB [farnesyltransferase, CAAX box, beta]:::AGRP [agouti related neuropeptide]:::IGK [immunoglobulin kappa locus]:::FDXR [ferredoxin reductase]:::GLRX [glutaredoxin]:::AGRN [agrin]:::ETFA [electron transfer flavoprotein subunit alpha]:::EPGN [epithelial mitogen]:::GRHPR [glyoxylate and hydroxypyruvate reductase]:::E2F1 [E2F transcription factor 1]:::EIF2D [eukaryotic translation initiation factor 2D]:::ETFDH [electron transfer flavoprotein dehydrogenase]:::GHSR [growth hormone secretagogue receptor]:::EID2 [EP300 interacting inhibitor of differentiation 2]', 'all_k_distances': '0.0000:::3.3460:::5.2179:::5.6404:::5.6526:::5.7774:::5.8601:::6.0288:::6.1888:::6.2019:::6.2093:::6.2857:::6.3732:::6.3836:::6.3873:::6.4167:::6.4422:::6.4935:::6.5067:::6.5083:::6.5229:::6.5325:::6.5553:::6.5696:::6.5797'}</td>\n",
       "      <td>None</td>\n",
       "    </tr>\n",
       "  </tbody>\n",
       "</table>\n",
       "</div>"
      ],
      "text/plain": [
       "                                                                                                                                                                                                                                                                                                                                                                                                                                                                                                                                                                                                                                                                                                                                                                                                                                                                                                                                                                                                                                                                                                                                                                                                                                                                                                                                                                                                                                                                                                                                                                                                                                                                                                                                                                                                                                                                                                                                                                                                                                                                                                    0  \\\n",
       "0  {'ner_chunk': 'DUX4L20', 'begin': 113, 'end': 119, 'ner_label': 'GENE', 'ner_confidence': '0.9654', 'code': 'HGNC:50801', 'resolution': 'DUX4L20 [double homeobox 4 like 20 (pseudogene)]', 'all_k_codes': 'HGNC:50801:::HGNC:39776:::HGNC:31982:::HGNC:26230:::HGNC:2743:::HGNC:42011:::HGNC:42254:::HGNC:42423:::HGNC:42207:::HGNC:50522:::HGNC:34070:::HGNC:24679:::HGNC:18357:::HGNC:25794:::HGNC:14478:::HGNC:42012:::HGNC:4475:::HGNC:19734:::HGNC:36437:::HGNC:42013:::HGNC:11598:::HGNC:30390:::HGNC:53837:::HGNC:37772:::HGNC:51516', 'all_k_resolutions': 'DUX4L20 [double homeobox 4 like 20 (pseudogene)]:::ZDHHC20P4 [zinc finger DHHC-type containing 20 pseudogene 4]:::ANKRD20A4P [ankyrin repeat domain 20 family member A4, pseudogene]:::TM4SF20 [transmembrane 4 L six family member 20]:::DDX20 [DEAD-box helicase 20]:::FAM204BP [family with sequence similarity 204 member B, pseudogene]:::MTND4LP20 [MT-ND4L pseudogene 20]:::ZBTB20-AS4 [ZBTB20 antisense RNA 4]:::MTND4P20 [MT-ND4 pseudogene 20]:::TOMM20P4 [TOMM20 pseudogene 4]:::RNY4P20 [RNY4 pseudogene 20]:::FBXL20 [F-box and leucine rich repeat protein 20]:::ARHGAP20 [Rho GTPase activating protein 20]:::FAM204A [family with sequence similarity 204 member A]:::MRPL20 [mitochondrial ribosomal protein L20]:::FAM204CP [family with sequence similarity 204 member C, pseudogene]:::GPR20 [G protein-coupled receptor 20]:::RANBP20P [RAN binding protein 20 pseudogene]:::RPS4XP20 [ribosomal protein S4X pseudogene 20]:::FAM204DP [family with sequence similarity 204 member D, pseudogene]:::TBX20 [T-box transcription factor 20]:::SNX20 [sorting nexin 20]:::PRR20G [proline rich 20G]:::GAPDHP20 [glyceraldehyde 3 phosphate dehydrogenase pseudogene 20]:::SPDYE20P [speedy/RINGO cell cycle regulator family member E20, pseudogene]', 'all_k_distances': '0.0000:::6.4373:::6.4389:::6.6875:::6.8085:::6.8100:::6.8730:::6.8812:::6.9250:::6.9846:::7.0950:::7.1020:::7.2438:::7.2766:::7.3176:::7.3252:::7.3437:::7.4235:::7.4729:::7.4762:::7.4965:::7.5218:::7.5315:::7.5501:::7.5699'}   \n",
       "1                                                                                                                                                                                                                                                                          {'ner_chunk': 'EGFR', 'begin': 4, 'end': 7, 'ner_label': 'GENE', 'ner_confidence': '0.9994', 'code': 'HGNC:3236', 'resolution': 'EGFR [epidermal growth factor receptor]', 'all_k_codes': 'HGNC:3236:::HGNC:3229:::HGNC:3697:::HGNC:16898:::HGNC:12691:::HGNC:4194:::HGNC:26330:::HGNC:3662:::HGNC:21869:::HGNC:341:::HGNC:3249:::HGNC:3785:::HGNC:330:::HGNC:5715:::HGNC:3642:::HGNC:4330:::HGNC:329:::HGNC:3481:::HGNC:17470:::HGNC:4570:::HGNC:3113:::HGNC:6583:::HGNC:3483:::HGNC:4267:::HGNC:28292', 'all_k_resolutions': 'EGFR [epidermal growth factor receptor]:::EGF [epidermal growth factor]:::FGR [FGR proto-oncogene, Src family tyrosine kinase]:::EFS [embryonal Fyn-associated substrate]:::EZR [ezrin]:::GCHFR [GTP cyclohydrolase I feedback regulator]:::EFHB [EF-hand domain family member B]:::FGB [fibrinogen beta chain]:::AGK [acylglycerol kinase]:::AGXT [alanine--glyoxylate aminotransferase]:::EIF1 [eukaryotic translation initiation factor 1]:::FNTB [farnesyltransferase, CAAX box, beta]:::AGRP [agouti related neuropeptide]:::IGK [immunoglobulin kappa locus]:::FDXR [ferredoxin reductase]:::GLRX [glutaredoxin]:::AGRN [agrin]:::ETFA [electron transfer flavoprotein subunit alpha]:::EPGN [epithelial mitogen]:::GRHPR [glyoxylate and hydroxypyruvate reductase]:::E2F1 [E2F transcription factor 1]:::EIF2D [eukaryotic translation initiation factor 2D]:::ETFDH [electron transfer flavoprotein dehydrogenase]:::GHSR [growth hormone secretagogue receptor]:::EID2 [EP300 interacting inhibitor of differentiation 2]', 'all_k_distances': '0.0000:::3.3460:::5.2179:::5.6404:::5.6526:::5.7774:::5.8601:::6.0288:::6.1888:::6.2019:::6.2093:::6.2857:::6.3732:::6.3836:::6.3873:::6.4167:::6.4422:::6.4935:::6.5067:::6.5083:::6.5229:::6.5325:::6.5553:::6.5696:::6.5797'}   \n",
       "\n",
       "                                                                                                                                                                                                                                                                                                                                                                                                                                                                                                                                                                                                                                                                                                                                                                                                                                                                                                                                                                                                                                                                                                                                                                                                                                                                                                                                                                                                                                                                                                                                                                                                                                                                                                                                                                                                                                                                                1  \n",
       "0  {'ner_chunk': 'FBXO48', 'begin': 126, 'end': 131, 'ner_label': 'GENE', 'ner_confidence': '0.9833', 'code': 'HGNC:33857', 'resolution': 'FBXO48 [F-box protein 48]', 'all_k_codes': 'HGNC:33857:::HGNC:4930:::HGNC:16653:::HGNC:13114:::HGNC:22564:::HGNC:18533:::HGNC:37552:::HGNC:24635:::HGNC:23535:::HGNC:23385:::HGNC:23942:::HGNC:20807:::HGNC:23440:::HGNC:21368:::HGNC:23384:::HGNC:52393:::HGNC:23305:::HGNC:21785:::HGNC:23488:::HGNC:31272:::HGNC:1683:::HGNC:12079:::HGNC:37805:::HGNC:55157:::HGNC:31969', 'all_k_resolutions': 'FBXO48 [F-box protein 48]:::ZBTB48 [zinc finger and BTB domain containing 48]:::MRPL48 [mitochondrial ribosomal protein L48]:::ZNF48 [zinc finger protein 48]:::SPATA48 [spermatogenesis associated 48]:::USP48 [ubiquitin specific peptidase 48]:::PIRC48 [piwi-interacting RNA cluster 48]:::PRSS48 [serine protease 48]:::ZNF488 [zinc finger protein 488]:::ZNF484 [zinc finger protein 484]:::CYCSP48 [CYCS pseudogene 48]:::ZNF486 [zinc finger protein 486]:::ZNF485 [zinc finger protein 485]:::SNRNP48 [small nuclear ribonucleoprotein U11/U12 subunit 48]:::ZNF483 [zinc finger protein 483]:::TEX48 [testis expressed 48]:::ZNF480 [zinc finger protein 480]:::RBM48 [RNA binding motif protein 48]:::ZNF487 [zinc finger protein 487]:::OR4C48P [olfactory receptor family 4 subfamily C member 48 pseudogene]:::CD48 [CD48 molecule]:::TRAJ48 [T cell receptor alpha joining 48]:::GAPDHP48 [glyceraldehyde 3 phosphate dehydrogenase pseudogene 48]:::HMGN2P48 [high mobility group nucleosomal binding domain 2 pseudogene 48]:::FBXO47 [F-box protein 47]', 'all_k_distances': '0.0000:::5.3026:::5.3531:::5.4464:::5.8642:::5.8911:::5.9817:::6.0045:::6.1032:::6.1347:::6.1727:::6.2446:::6.3179:::6.3452:::6.3667:::6.3867:::6.3949:::6.4803:::6.5349:::6.5411:::6.5938:::6.6030:::6.6433:::6.7313:::6.8481'}  \n",
       "1                                                                                                                                                                                                                                                                                                                                                                                                                                                                                                                                                                                                                                                                                                                                                                                                                                                                                                                                                                                                                                                                                                                                                                                                                                                                                                                                                                                                                                                                                                                                                                                                                                                                                                                                                                                                                                                                            None  "
      ]
     },
     "execution_count": 9,
     "metadata": {},
     "output_type": "execute_result"
    }
   ],
   "source": [
    "input_json_data = {\"text\": docs}\n",
    "\n",
    "data =  process_data_and_invoke_realtime_endpoint(input_json_data, content_type=\"application/json\" , accept=\"application/json\" )\n",
    "pd.DataFrame(data[\"predictions\"])"
   ]
  },
  {
   "cell_type": "markdown",
   "metadata": {},
   "source": [
    "### JSON Lines"
   ]
  },
  {
   "cell_type": "code",
   "execution_count": 10,
   "metadata": {
    "tags": []
   },
   "outputs": [],
   "source": [
    "import json\n",
    "\n",
    "def create_jsonl(records):\n",
    "    json_records = []\n",
    "\n",
    "    for text in records:\n",
    "        record = {\n",
    "            \"text\": text\n",
    "        }\n",
    "        json_records.append(record)\n",
    "\n",
    "    json_lines = '\\n'.join(json.dumps(record) for record in json_records)\n",
    "\n",
    "    return json_lines\n",
    "\n",
    "input_jsonl_data = create_jsonl(docs)"
   ]
  },
  {
   "cell_type": "markdown",
   "metadata": {},
   "source": [
    "#### Example 1"
   ]
  },
  {
   "cell_type": "markdown",
   "metadata": {},
   "source": [
    "  **Input format**:\n",
    "  \n",
    "```json\n",
    "{\"text\": \"Text document 1\"}\n",
    "{\"text\": \"Text document 2\"}\n",
    "```"
   ]
  },
  {
   "cell_type": "code",
   "execution_count": 11,
   "metadata": {
    "tags": []
   },
   "outputs": [
    {
     "name": "stdout",
     "output_type": "stream",
     "text": [
      "{\"predictions\": [{\"ner_chunk\": \"DUX4L20\", \"begin\": 113, \"end\": 119, \"ner_label\": \"GENE\", \"ner_confidence\": \"0.9654\", \"code\": \"HGNC:50801\", \"resolution\": \"DUX4L20 [double homeobox 4 like 20 (pseudogene)]\", \"all_k_codes\": \"HGNC:50801:::HGNC:39776:::HGNC:31982:::HGNC:26230:::HGNC:2743:::HGNC:42011:::HGNC:42254:::HGNC:42423:::HGNC:42207:::HGNC:50522:::HGNC:34070:::HGNC:24679:::HGNC:18357:::HGNC:25794:::HGNC:14478:::HGNC:42012:::HGNC:4475:::HGNC:19734:::HGNC:36437:::HGNC:42013:::HGNC:11598:::HGNC:30390:::HGNC:53837:::HGNC:37772:::HGNC:51516\", \"all_k_resolutions\": \"DUX4L20 [double homeobox 4 like 20 (pseudogene)]:::ZDHHC20P4 [zinc finger DHHC-type containing 20 pseudogene 4]:::ANKRD20A4P [ankyrin repeat domain 20 family member A4, pseudogene]:::TM4SF20 [transmembrane 4 L six family member 20]:::DDX20 [DEAD-box helicase 20]:::FAM204BP [family with sequence similarity 204 member B, pseudogene]:::MTND4LP20 [MT-ND4L pseudogene 20]:::ZBTB20-AS4 [ZBTB20 antisense RNA 4]:::MTND4P20 [MT-ND4 pseudogene 20]:::TOMM20P4 [TOMM20 pseudogene 4]:::RNY4P20 [RNY4 pseudogene 20]:::FBXL20 [F-box and leucine rich repeat protein 20]:::ARHGAP20 [Rho GTPase activating protein 20]:::FAM204A [family with sequence similarity 204 member A]:::MRPL20 [mitochondrial ribosomal protein L20]:::FAM204CP [family with sequence similarity 204 member C, pseudogene]:::GPR20 [G protein-coupled receptor 20]:::RANBP20P [RAN binding protein 20 pseudogene]:::RPS4XP20 [ribosomal protein S4X pseudogene 20]:::FAM204DP [family with sequence similarity 204 member D, pseudogene]:::TBX20 [T-box transcription factor 20]:::SNX20 [sorting nexin 20]:::PRR20G [proline rich 20G]:::GAPDHP20 [glyceraldehyde 3 phosphate dehydrogenase pseudogene 20]:::SPDYE20P [speedy/RINGO cell cycle regulator family member E20, pseudogene]\", \"all_k_distances\": \"0.0000:::6.4373:::6.4389:::6.6875:::6.8085:::6.8100:::6.8730:::6.8812:::6.9250:::6.9846:::7.0950:::7.1020:::7.2438:::7.2766:::7.3176:::7.3252:::7.3437:::7.4235:::7.4729:::7.4762:::7.4965:::7.5218:::7.5315:::7.5501:::7.5699\"}, {\"ner_chunk\": \"FBXO48\", \"begin\": 126, \"end\": 131, \"ner_label\": \"GENE\", \"ner_confidence\": \"0.9833\", \"code\": \"HGNC:33857\", \"resolution\": \"FBXO48 [F-box protein 48]\", \"all_k_codes\": \"HGNC:33857:::HGNC:4930:::HGNC:16653:::HGNC:13114:::HGNC:22564:::HGNC:18533:::HGNC:37552:::HGNC:24635:::HGNC:23535:::HGNC:23385:::HGNC:23942:::HGNC:20807:::HGNC:23440:::HGNC:21368:::HGNC:23384:::HGNC:52393:::HGNC:23305:::HGNC:21785:::HGNC:23488:::HGNC:31272:::HGNC:1683:::HGNC:12079:::HGNC:37805:::HGNC:55157:::HGNC:31969\", \"all_k_resolutions\": \"FBXO48 [F-box protein 48]:::ZBTB48 [zinc finger and BTB domain containing 48]:::MRPL48 [mitochondrial ribosomal protein L48]:::ZNF48 [zinc finger protein 48]:::SPATA48 [spermatogenesis associated 48]:::USP48 [ubiquitin specific peptidase 48]:::PIRC48 [piwi-interacting RNA cluster 48]:::PRSS48 [serine protease 48]:::ZNF488 [zinc finger protein 488]:::ZNF484 [zinc finger protein 484]:::CYCSP48 [CYCS pseudogene 48]:::ZNF486 [zinc finger protein 486]:::ZNF485 [zinc finger protein 485]:::SNRNP48 [small nuclear ribonucleoprotein U11/U12 subunit 48]:::ZNF483 [zinc finger protein 483]:::TEX48 [testis expressed 48]:::ZNF480 [zinc finger protein 480]:::RBM48 [RNA binding motif protein 48]:::ZNF487 [zinc finger protein 487]:::OR4C48P [olfactory receptor family 4 subfamily C member 48 pseudogene]:::CD48 [CD48 molecule]:::TRAJ48 [T cell receptor alpha joining 48]:::GAPDHP48 [glyceraldehyde 3 phosphate dehydrogenase pseudogene 48]:::HMGN2P48 [high mobility group nucleosomal binding domain 2 pseudogene 48]:::FBXO47 [F-box protein 47]\", \"all_k_distances\": \"0.0000:::5.3026:::5.3531:::5.4464:::5.8642:::5.8911:::5.9817:::6.0045:::6.1032:::6.1347:::6.1727:::6.2446:::6.3179:::6.3452:::6.3667:::6.3867:::6.3949:::6.4803:::6.5349:::6.5411:::6.5938:::6.6030:::6.6433:::6.7313:::6.8481\"}]}\n",
      "{\"predictions\": [{\"ner_chunk\": \"EGFR\", \"begin\": 4, \"end\": 7, \"ner_label\": \"GENE\", \"ner_confidence\": \"0.9994\", \"code\": \"HGNC:3236\", \"resolution\": \"EGFR [epidermal growth factor receptor]\", \"all_k_codes\": \"HGNC:3236:::HGNC:3229:::HGNC:3697:::HGNC:16898:::HGNC:12691:::HGNC:4194:::HGNC:26330:::HGNC:3662:::HGNC:21869:::HGNC:341:::HGNC:3249:::HGNC:3785:::HGNC:330:::HGNC:5715:::HGNC:3642:::HGNC:4330:::HGNC:329:::HGNC:3481:::HGNC:17470:::HGNC:4570:::HGNC:3113:::HGNC:6583:::HGNC:3483:::HGNC:4267:::HGNC:28292\", \"all_k_resolutions\": \"EGFR [epidermal growth factor receptor]:::EGF [epidermal growth factor]:::FGR [FGR proto-oncogene, Src family tyrosine kinase]:::EFS [embryonal Fyn-associated substrate]:::EZR [ezrin]:::GCHFR [GTP cyclohydrolase I feedback regulator]:::EFHB [EF-hand domain family member B]:::FGB [fibrinogen beta chain]:::AGK [acylglycerol kinase]:::AGXT [alanine--glyoxylate aminotransferase]:::EIF1 [eukaryotic translation initiation factor 1]:::FNTB [farnesyltransferase, CAAX box, beta]:::AGRP [agouti related neuropeptide]:::IGK [immunoglobulin kappa locus]:::FDXR [ferredoxin reductase]:::GLRX [glutaredoxin]:::AGRN [agrin]:::ETFA [electron transfer flavoprotein subunit alpha]:::EPGN [epithelial mitogen]:::GRHPR [glyoxylate and hydroxypyruvate reductase]:::E2F1 [E2F transcription factor 1]:::EIF2D [eukaryotic translation initiation factor 2D]:::ETFDH [electron transfer flavoprotein dehydrogenase]:::GHSR [growth hormone secretagogue receptor]:::EID2 [EP300 interacting inhibitor of differentiation 2]\", \"all_k_distances\": \"0.0000:::3.3460:::5.2179:::5.6404:::5.6526:::5.7774:::5.8601:::6.0288:::6.1888:::6.2019:::6.2093:::6.2857:::6.3732:::6.3836:::6.3873:::6.4167:::6.4422:::6.4935:::6.5067:::6.5083:::6.5229:::6.5325:::6.5553:::6.5696:::6.5797\"}]}\n"
     ]
    }
   ],
   "source": [
    "data = process_data_and_invoke_realtime_endpoint(input_jsonl_data, content_type=\"application/jsonlines\" , accept=\"application/jsonlines\" )\n",
    "print(data)"
   ]
  },
  {
   "cell_type": "markdown",
   "metadata": {},
   "source": [
    "### C. Delete the endpoint"
   ]
  },
  {
   "cell_type": "markdown",
   "metadata": {},
   "source": [
    "Now that you have successfully performed a real-time inference, you do not need the endpoint any more. You can terminate the endpoint to avoid being charged."
   ]
  },
  {
   "cell_type": "code",
   "execution_count": 12,
   "metadata": {
    "tags": []
   },
   "outputs": [],
   "source": [
    "model.sagemaker_session.delete_endpoint(model_name)\n",
    "model.sagemaker_session.delete_endpoint_config(model_name)"
   ]
  },
  {
   "cell_type": "markdown",
   "metadata": {
    "tags": []
   },
   "source": [
    "## 3. Batch inference"
   ]
  },
  {
   "cell_type": "code",
   "execution_count": 13,
   "metadata": {
    "tags": []
   },
   "outputs": [],
   "source": [
    "import json\n",
    "import os\n",
    "\n",
    "input_dir = 'inputs/batch'\n",
    "json_input_dir = f\"{input_dir}/json\"\n",
    "jsonl_input_dir = f\"{input_dir}/jsonl\"\n",
    "\n",
    "output_dir = 'outputs/batch'\n",
    "json_output_dir = f\"{output_dir}/json\"\n",
    "jsonl_output_dir = f\"{output_dir}/jsonl\"\n",
    "\n",
    "os.makedirs(json_input_dir, exist_ok=True)\n",
    "os.makedirs(jsonl_input_dir, exist_ok=True)\n",
    "os.makedirs(json_output_dir, exist_ok=True)\n",
    "os.makedirs(jsonl_output_dir, exist_ok=True)\n",
    "\n",
    "validation_json_file_name = \"input.json\"\n",
    "\n",
    "validation_jsonl_file_name = \"input.jsonl\"\n",
    "\n",
    "validation_input_json_path = f\"s3://{s3_bucket}/{model_name}/validation-input/batch/json/\"\n",
    "validation_output_json_path = f\"s3://{s3_bucket}/{model_name}/validation-output/batch/json/\"\n",
    "\n",
    "validation_input_jsonl_path = f\"s3://{s3_bucket}/{model_name}/validation-input/batch/jsonl/\"\n",
    "validation_output_jsonl_path = f\"s3://{s3_bucket}/{model_name}/validation-output/batch/jsonl/\"\n",
    "\n",
    "def write_and_upload_to_s3(input_data, file_name):\n",
    "    file_format = os.path.splitext(file_name)[1].lower()\n",
    "    if file_format == \".json\":\n",
    "        input_data = json.dumps(input_data)\n",
    "\n",
    "    with open(file_name, \"w\") as f:\n",
    "        f.write(input_data)\n",
    "\n",
    "    s3_client.put_object(\n",
    "        Bucket=s3_bucket,\n",
    "        Key=f\"{model_name}/validation-input/batch/{file_format[1:]}/{os.path.basename(file_name)}\",\n",
    "        Body=(bytes(input_data.encode(\"UTF-8\"))),\n",
    "    )"
   ]
  },
  {
   "cell_type": "code",
   "execution_count": 14,
   "metadata": {
    "tags": []
   },
   "outputs": [],
   "source": [
    "input_jsonl_data = create_jsonl(docs)\n",
    "input_json_data = {\"text\": docs}\n",
    "\n",
    "write_and_upload_to_s3(input_json_data, f\"{json_input_dir}/{validation_json_file_name}\")\n",
    "\n",
    "write_and_upload_to_s3(input_jsonl_data, f\"{jsonl_input_dir}/{validation_jsonl_file_name}\")"
   ]
  },
  {
   "cell_type": "markdown",
   "metadata": {},
   "source": [
    "### JSON"
   ]
  },
  {
   "cell_type": "code",
   "execution_count": 15,
   "metadata": {
    "tags": []
   },
   "outputs": [
    {
     "name": "stderr",
     "output_type": "stream",
     "text": [
      "INFO:sagemaker:Creating transform job with name: hgnc-resolver-pipeline-en-2024-12-03-08-39-34-010\n"
     ]
    },
    {
     "name": "stdout",
     "output_type": "stream",
     "text": [
      "...........................................\u001b[34m24/12/03 08:46:39 WARN NativeCodeLoader: Unable to load native-hadoop library for your platform... using builtin-java classes where applicable\u001b[0m\n",
      "\u001b[34mSetting default log level to \"WARN\".\u001b[0m\n",
      "\u001b[34mTo adjust logging level use sc.setLogLevel(newLevel). For SparkR, use setLogLevel(newLevel).\u001b[0m\n",
      "\n",
      "\u001b[34m#015[Stage 0:>                                                          (0 + 1) / 1]#015#015                                                                                #015INFO:     Started server process [7]\u001b[0m\n",
      "\u001b[34mINFO:     Waiting for application startup.\u001b[0m\n",
      "\u001b[34mINFO:     Application startup complete.\u001b[0m\n",
      "\u001b[34mINFO:     Uvicorn running on http://0.0.0.0:8080 (Press CTRL+C to quit)\u001b[0m\n",
      "\u001b[34m📋 Loading license number 0 from /root/.johnsnowlabs/licenses/license_number_{number}_for_Spark-Healthcare_Spark-OCR.json\u001b[0m\n",
      "\u001b[34m👌 Launched #033[92mcpu optimized#033[39m session with with: 🚀Spark-NLP==5.5.0, 💊Spark-Healthcare==5.5.0, running on ⚡ PySpark==3.4.0\u001b[0m\n",
      "\u001b[34mINFO:     169.254.255.130:48082 - \"GET /ping HTTP/1.1\" 200 OK\u001b[0m\n",
      "\u001b[34mINFO:     169.254.255.130:48092 - \"GET /execution-parameters HTTP/1.1\" 404 Not Found\u001b[0m\n",
      "\u001b[35m#015[Stage 0:>                                                          (0 + 1) / 1]#015#015                                                                                #015INFO:     Started server process [7]\u001b[0m\n",
      "\u001b[35mINFO:     Waiting for application startup.\u001b[0m\n",
      "\u001b[35mINFO:     Application startup complete.\u001b[0m\n",
      "\u001b[35mINFO:     Uvicorn running on http://0.0.0.0:8080 (Press CTRL+C to quit)\u001b[0m\n",
      "\u001b[35m📋 Loading license number 0 from /root/.johnsnowlabs/licenses/license_number_{number}_for_Spark-Healthcare_Spark-OCR.json\u001b[0m\n",
      "\u001b[35m👌 Launched #033[92mcpu optimized#033[39m session with with: 🚀Spark-NLP==5.5.0, 💊Spark-Healthcare==5.5.0, running on ⚡ PySpark==3.4.0\u001b[0m\n",
      "\u001b[35mINFO:     169.254.255.130:48082 - \"GET /ping HTTP/1.1\" 200 OK\u001b[0m\n",
      "\u001b[35mINFO:     169.254.255.130:48092 - \"GET /execution-parameters HTTP/1.1\" 404 Not Found\u001b[0m\n",
      "\u001b[32m2024-12-03T08:47:33.561:[sagemaker logs]: MaxConcurrentTransforms=1, MaxPayloadInMB=6, BatchStrategy=MULTI_RECORD\u001b[0m\n",
      "\u001b[34mINFO:     169.254.255.130:48102 - \"POST /invocations HTTP/1.1\" 200 OK\u001b[0m\n",
      "\u001b[35mINFO:     169.254.255.130:48102 - \"POST /invocations HTTP/1.1\" 200 OK\u001b[0m\n",
      "\u001b[34m24/12/03 08:46:39 WARN NativeCodeLoader: Unable to load native-hadoop library for your platform... using builtin-java classes where applicable\u001b[0m\n",
      "\u001b[34mSetting default log level to \"WARN\".\u001b[0m\n",
      "\u001b[34mTo adjust logging level use sc.setLogLevel(newLevel). For SparkR, use setLogLevel(newLevel).\u001b[0m\n",
      "\u001b[35m24/12/03 08:46:39 WARN NativeCodeLoader: Unable to load native-hadoop library for your platform... using builtin-java classes where applicable\u001b[0m\n",
      "\u001b[35mSetting default log level to \"WARN\".\u001b[0m\n",
      "\u001b[35mTo adjust logging level use sc.setLogLevel(newLevel). For SparkR, use setLogLevel(newLevel).\u001b[0m\n",
      "\u001b[34m#015[Stage 0:>                                                          (0 + 1) / 1]#015#015                                                                                #015INFO:     Started server process [7]\u001b[0m\n",
      "\u001b[34mINFO:     Waiting for application startup.\u001b[0m\n",
      "\u001b[34mINFO:     Application startup complete.\u001b[0m\n",
      "\u001b[34mINFO:     Uvicorn running on http://0.0.0.0:8080 (Press CTRL+C to quit)\u001b[0m\n",
      "\u001b[34m📋 Loading license number 0 from /root/.johnsnowlabs/licenses/license_number_{number}_for_Spark-Healthcare_Spark-OCR.json\u001b[0m\n",
      "\u001b[34m👌 Launched #033[92mcpu optimized#033[39m session with with: 🚀Spark-NLP==5.5.0, 💊Spark-Healthcare==5.5.0, running on ⚡ PySpark==3.4.0\u001b[0m\n",
      "\u001b[34mINFO:     169.254.255.130:48082 - \"GET /ping HTTP/1.1\" 200 OK\u001b[0m\n",
      "\u001b[34mINFO:     169.254.255.130:48092 - \"GET /execution-parameters HTTP/1.1\" 404 Not Found\u001b[0m\n",
      "\u001b[35m#015[Stage 0:>                                                          (0 + 1) / 1]#015#015                                                                                #015INFO:     Started server process [7]\u001b[0m\n",
      "\u001b[35mINFO:     Waiting for application startup.\u001b[0m\n",
      "\u001b[35mINFO:     Application startup complete.\u001b[0m\n",
      "\u001b[35mINFO:     Uvicorn running on http://0.0.0.0:8080 (Press CTRL+C to quit)\u001b[0m\n",
      "\u001b[35m📋 Loading license number 0 from /root/.johnsnowlabs/licenses/license_number_{number}_for_Spark-Healthcare_Spark-OCR.json\u001b[0m\n",
      "\u001b[35m👌 Launched #033[92mcpu optimized#033[39m session with with: 🚀Spark-NLP==5.5.0, 💊Spark-Healthcare==5.5.0, running on ⚡ PySpark==3.4.0\u001b[0m\n",
      "\u001b[35mINFO:     169.254.255.130:48082 - \"GET /ping HTTP/1.1\" 200 OK\u001b[0m\n",
      "\u001b[35mINFO:     169.254.255.130:48092 - \"GET /execution-parameters HTTP/1.1\" 404 Not Found\u001b[0m\n",
      "\u001b[32m2024-12-03T08:47:33.561:[sagemaker logs]: MaxConcurrentTransforms=1, MaxPayloadInMB=6, BatchStrategy=MULTI_RECORD\u001b[0m\n",
      "\u001b[34mINFO:     169.254.255.130:48102 - \"POST /invocations HTTP/1.1\" 200 OK\u001b[0m\n",
      "\u001b[35mINFO:     169.254.255.130:48102 - \"POST /invocations HTTP/1.1\" 200 OK\u001b[0m\n"
     ]
    }
   ],
   "source": [
    "# Initialize a SageMaker Transformer object for making predictions\n",
    "transformer = model.transformer(\n",
    "    instance_count=1,\n",
    "    instance_type=batch_transform_inference_instance_type,\n",
    "    accept=\"application/json\",\n",
    "    output_path=validation_output_json_path\n",
    ")\n",
    "\n",
    "transformer.transform(validation_input_json_path, content_type=\"application/json\")\n",
    "transformer.wait()"
   ]
  },
  {
   "cell_type": "code",
   "execution_count": 16,
   "metadata": {
    "tags": []
   },
   "outputs": [],
   "source": [
    "from urllib.parse import urlparse\n",
    "\n",
    "def process_s3_json_output_and_save(validation_file_name):\n",
    "\n",
    "    output_file_path = f\"{json_output_dir}/{validation_file_name}.out\"\n",
    "    parsed_url = urlparse(transformer.output_path)\n",
    "    file_key = f\"{parsed_url.path[1:]}{validation_file_name}.out\"\n",
    "    response = s3_client.get_object(Bucket=s3_bucket, Key=file_key)\n",
    "\n",
    "    data = json.loads(response[\"Body\"].read().decode(\"utf-8\"))\n",
    "    df = pd.DataFrame(data[\"predictions\"])\n",
    "    display(df)\n",
    "\n",
    "    # Save the data to the output file\n",
    "    with open(output_file_path, 'w') as f_out:\n",
    "        json.dump(data, f_out, indent=4)"
   ]
  },
  {
   "cell_type": "code",
   "execution_count": 17,
   "metadata": {
    "tags": []
   },
   "outputs": [
    {
     "data": {
      "text/html": [
       "<div>\n",
       "<style scoped>\n",
       "    .dataframe tbody tr th:only-of-type {\n",
       "        vertical-align: middle;\n",
       "    }\n",
       "\n",
       "    .dataframe tbody tr th {\n",
       "        vertical-align: top;\n",
       "    }\n",
       "\n",
       "    .dataframe thead th {\n",
       "        text-align: right;\n",
       "    }\n",
       "</style>\n",
       "<table border=\"1\" class=\"dataframe\">\n",
       "  <thead>\n",
       "    <tr style=\"text-align: right;\">\n",
       "      <th></th>\n",
       "      <th>0</th>\n",
       "      <th>1</th>\n",
       "    </tr>\n",
       "  </thead>\n",
       "  <tbody>\n",
       "    <tr>\n",
       "      <th>0</th>\n",
       "      <td>{'ner_chunk': 'DUX4L20', 'begin': 113, 'end': 119, 'ner_label': 'GENE', 'ner_confidence': '0.9654', 'code': 'HGNC:50801', 'resolution': 'DUX4L20 [double homeobox 4 like 20 (pseudogene)]', 'all_k_codes': 'HGNC:50801:::HGNC:39776:::HGNC:31982:::HGNC:26230:::HGNC:2743:::HGNC:42011:::HGNC:42254:::HGNC:42423:::HGNC:42207:::HGNC:50522:::HGNC:34070:::HGNC:24679:::HGNC:18357:::HGNC:25794:::HGNC:14478:::HGNC:42012:::HGNC:4475:::HGNC:19734:::HGNC:36437:::HGNC:42013:::HGNC:11598:::HGNC:30390:::HGNC:53837:::HGNC:37772:::HGNC:51516', 'all_k_resolutions': 'DUX4L20 [double homeobox 4 like 20 (pseudogene)]:::ZDHHC20P4 [zinc finger DHHC-type containing 20 pseudogene 4]:::ANKRD20A4P [ankyrin repeat domain 20 family member A4, pseudogene]:::TM4SF20 [transmembrane 4 L six family member 20]:::DDX20 [DEAD-box helicase 20]:::FAM204BP [family with sequence similarity 204 member B, pseudogene]:::MTND4LP20 [MT-ND4L pseudogene 20]:::ZBTB20-AS4 [ZBTB20 antisense RNA 4]:::MTND4P20 [MT-ND4 pseudogene 20]:::TOMM20P4 [TOMM20 pseudogene 4]:::RNY4P20 [RNY4 pseudogene 20]:::FBXL20 [F-box and leucine rich repeat protein 20]:::ARHGAP20 [Rho GTPase activating protein 20]:::FAM204A [family with sequence similarity 204 member A]:::MRPL20 [mitochondrial ribosomal protein L20]:::FAM204CP [family with sequence similarity 204 member C, pseudogene]:::GPR20 [G protein-coupled receptor 20]:::RANBP20P [RAN binding protein 20 pseudogene]:::RPS4XP20 [ribosomal protein S4X pseudogene 20]:::FAM204DP [family with sequence similarity 204 member D, pseudogene]:::TBX20 [T-box transcription factor 20]:::SNX20 [sorting nexin 20]:::PRR20G [proline rich 20G]:::GAPDHP20 [glyceraldehyde 3 phosphate dehydrogenase pseudogene 20]:::SPDYE20P [speedy/RINGO cell cycle regulator family member E20, pseudogene]', 'all_k_distances': '0.0000:::6.4373:::6.4389:::6.6875:::6.8085:::6.8100:::6.8730:::6.8812:::6.9250:::6.9846:::7.0950:::7.1020:::7.2438:::7.2766:::7.3176:::7.3252:::7.3437:::7.4235:::7.4729:::7.4762:::7.4965:::7.5218:::7.5315:::7.5501:::7.5699'}</td>\n",
       "      <td>{'ner_chunk': 'FBXO48', 'begin': 126, 'end': 131, 'ner_label': 'GENE', 'ner_confidence': '0.9833', 'code': 'HGNC:33857', 'resolution': 'FBXO48 [F-box protein 48]', 'all_k_codes': 'HGNC:33857:::HGNC:4930:::HGNC:16653:::HGNC:13114:::HGNC:22564:::HGNC:18533:::HGNC:37552:::HGNC:24635:::HGNC:23535:::HGNC:23385:::HGNC:23942:::HGNC:20807:::HGNC:23440:::HGNC:21368:::HGNC:23384:::HGNC:52393:::HGNC:23305:::HGNC:21785:::HGNC:23488:::HGNC:31272:::HGNC:1683:::HGNC:12079:::HGNC:37805:::HGNC:55157:::HGNC:31969', 'all_k_resolutions': 'FBXO48 [F-box protein 48]:::ZBTB48 [zinc finger and BTB domain containing 48]:::MRPL48 [mitochondrial ribosomal protein L48]:::ZNF48 [zinc finger protein 48]:::SPATA48 [spermatogenesis associated 48]:::USP48 [ubiquitin specific peptidase 48]:::PIRC48 [piwi-interacting RNA cluster 48]:::PRSS48 [serine protease 48]:::ZNF488 [zinc finger protein 488]:::ZNF484 [zinc finger protein 484]:::CYCSP48 [CYCS pseudogene 48]:::ZNF486 [zinc finger protein 486]:::ZNF485 [zinc finger protein 485]:::SNRNP48 [small nuclear ribonucleoprotein U11/U12 subunit 48]:::ZNF483 [zinc finger protein 483]:::TEX48 [testis expressed 48]:::ZNF480 [zinc finger protein 480]:::RBM48 [RNA binding motif protein 48]:::ZNF487 [zinc finger protein 487]:::OR4C48P [olfactory receptor family 4 subfamily C member 48 pseudogene]:::CD48 [CD48 molecule]:::TRAJ48 [T cell receptor alpha joining 48]:::GAPDHP48 [glyceraldehyde 3 phosphate dehydrogenase pseudogene 48]:::HMGN2P48 [high mobility group nucleosomal binding domain 2 pseudogene 48]:::FBXO47 [F-box protein 47]', 'all_k_distances': '0.0000:::5.3026:::5.3531:::5.4464:::5.8642:::5.8911:::5.9817:::6.0045:::6.1032:::6.1347:::6.1727:::6.2446:::6.3179:::6.3452:::6.3667:::6.3867:::6.3949:::6.4803:::6.5349:::6.5411:::6.5938:::6.6030:::6.6433:::6.7313:::6.8481'}</td>\n",
       "    </tr>\n",
       "    <tr>\n",
       "      <th>1</th>\n",
       "      <td>{'ner_chunk': 'EGFR', 'begin': 4, 'end': 7, 'ner_label': 'GENE', 'ner_confidence': '0.9994', 'code': 'HGNC:3236', 'resolution': 'EGFR [epidermal growth factor receptor]', 'all_k_codes': 'HGNC:3236:::HGNC:3229:::HGNC:3697:::HGNC:16898:::HGNC:12691:::HGNC:4194:::HGNC:26330:::HGNC:3662:::HGNC:21869:::HGNC:341:::HGNC:3249:::HGNC:3785:::HGNC:330:::HGNC:5715:::HGNC:3642:::HGNC:4330:::HGNC:329:::HGNC:3481:::HGNC:17470:::HGNC:4570:::HGNC:3113:::HGNC:6583:::HGNC:3483:::HGNC:4267:::HGNC:28292', 'all_k_resolutions': 'EGFR [epidermal growth factor receptor]:::EGF [epidermal growth factor]:::FGR [FGR proto-oncogene, Src family tyrosine kinase]:::EFS [embryonal Fyn-associated substrate]:::EZR [ezrin]:::GCHFR [GTP cyclohydrolase I feedback regulator]:::EFHB [EF-hand domain family member B]:::FGB [fibrinogen beta chain]:::AGK [acylglycerol kinase]:::AGXT [alanine--glyoxylate aminotransferase]:::EIF1 [eukaryotic translation initiation factor 1]:::FNTB [farnesyltransferase, CAAX box, beta]:::AGRP [agouti related neuropeptide]:::IGK [immunoglobulin kappa locus]:::FDXR [ferredoxin reductase]:::GLRX [glutaredoxin]:::AGRN [agrin]:::ETFA [electron transfer flavoprotein subunit alpha]:::EPGN [epithelial mitogen]:::GRHPR [glyoxylate and hydroxypyruvate reductase]:::E2F1 [E2F transcription factor 1]:::EIF2D [eukaryotic translation initiation factor 2D]:::ETFDH [electron transfer flavoprotein dehydrogenase]:::GHSR [growth hormone secretagogue receptor]:::EID2 [EP300 interacting inhibitor of differentiation 2]', 'all_k_distances': '0.0000:::3.3460:::5.2179:::5.6404:::5.6526:::5.7774:::5.8601:::6.0288:::6.1888:::6.2019:::6.2093:::6.2857:::6.3732:::6.3836:::6.3873:::6.4167:::6.4422:::6.4935:::6.5067:::6.5083:::6.5229:::6.5325:::6.5553:::6.5696:::6.5797'}</td>\n",
       "      <td>None</td>\n",
       "    </tr>\n",
       "  </tbody>\n",
       "</table>\n",
       "</div>"
      ],
      "text/plain": [
       "                                                                                                                                                                                                                                                                                                                                                                                                                                                                                                                                                                                                                                                                                                                                                                                                                                                                                                                                                                                                                                                                                                                                                                                                                                                                                                                                                                                                                                                                                                                                                                                                                                                                                                                                                                                                                                                                                                                                                                                                                                                                                                    0  \\\n",
       "0  {'ner_chunk': 'DUX4L20', 'begin': 113, 'end': 119, 'ner_label': 'GENE', 'ner_confidence': '0.9654', 'code': 'HGNC:50801', 'resolution': 'DUX4L20 [double homeobox 4 like 20 (pseudogene)]', 'all_k_codes': 'HGNC:50801:::HGNC:39776:::HGNC:31982:::HGNC:26230:::HGNC:2743:::HGNC:42011:::HGNC:42254:::HGNC:42423:::HGNC:42207:::HGNC:50522:::HGNC:34070:::HGNC:24679:::HGNC:18357:::HGNC:25794:::HGNC:14478:::HGNC:42012:::HGNC:4475:::HGNC:19734:::HGNC:36437:::HGNC:42013:::HGNC:11598:::HGNC:30390:::HGNC:53837:::HGNC:37772:::HGNC:51516', 'all_k_resolutions': 'DUX4L20 [double homeobox 4 like 20 (pseudogene)]:::ZDHHC20P4 [zinc finger DHHC-type containing 20 pseudogene 4]:::ANKRD20A4P [ankyrin repeat domain 20 family member A4, pseudogene]:::TM4SF20 [transmembrane 4 L six family member 20]:::DDX20 [DEAD-box helicase 20]:::FAM204BP [family with sequence similarity 204 member B, pseudogene]:::MTND4LP20 [MT-ND4L pseudogene 20]:::ZBTB20-AS4 [ZBTB20 antisense RNA 4]:::MTND4P20 [MT-ND4 pseudogene 20]:::TOMM20P4 [TOMM20 pseudogene 4]:::RNY4P20 [RNY4 pseudogene 20]:::FBXL20 [F-box and leucine rich repeat protein 20]:::ARHGAP20 [Rho GTPase activating protein 20]:::FAM204A [family with sequence similarity 204 member A]:::MRPL20 [mitochondrial ribosomal protein L20]:::FAM204CP [family with sequence similarity 204 member C, pseudogene]:::GPR20 [G protein-coupled receptor 20]:::RANBP20P [RAN binding protein 20 pseudogene]:::RPS4XP20 [ribosomal protein S4X pseudogene 20]:::FAM204DP [family with sequence similarity 204 member D, pseudogene]:::TBX20 [T-box transcription factor 20]:::SNX20 [sorting nexin 20]:::PRR20G [proline rich 20G]:::GAPDHP20 [glyceraldehyde 3 phosphate dehydrogenase pseudogene 20]:::SPDYE20P [speedy/RINGO cell cycle regulator family member E20, pseudogene]', 'all_k_distances': '0.0000:::6.4373:::6.4389:::6.6875:::6.8085:::6.8100:::6.8730:::6.8812:::6.9250:::6.9846:::7.0950:::7.1020:::7.2438:::7.2766:::7.3176:::7.3252:::7.3437:::7.4235:::7.4729:::7.4762:::7.4965:::7.5218:::7.5315:::7.5501:::7.5699'}   \n",
       "1                                                                                                                                                                                                                                                                          {'ner_chunk': 'EGFR', 'begin': 4, 'end': 7, 'ner_label': 'GENE', 'ner_confidence': '0.9994', 'code': 'HGNC:3236', 'resolution': 'EGFR [epidermal growth factor receptor]', 'all_k_codes': 'HGNC:3236:::HGNC:3229:::HGNC:3697:::HGNC:16898:::HGNC:12691:::HGNC:4194:::HGNC:26330:::HGNC:3662:::HGNC:21869:::HGNC:341:::HGNC:3249:::HGNC:3785:::HGNC:330:::HGNC:5715:::HGNC:3642:::HGNC:4330:::HGNC:329:::HGNC:3481:::HGNC:17470:::HGNC:4570:::HGNC:3113:::HGNC:6583:::HGNC:3483:::HGNC:4267:::HGNC:28292', 'all_k_resolutions': 'EGFR [epidermal growth factor receptor]:::EGF [epidermal growth factor]:::FGR [FGR proto-oncogene, Src family tyrosine kinase]:::EFS [embryonal Fyn-associated substrate]:::EZR [ezrin]:::GCHFR [GTP cyclohydrolase I feedback regulator]:::EFHB [EF-hand domain family member B]:::FGB [fibrinogen beta chain]:::AGK [acylglycerol kinase]:::AGXT [alanine--glyoxylate aminotransferase]:::EIF1 [eukaryotic translation initiation factor 1]:::FNTB [farnesyltransferase, CAAX box, beta]:::AGRP [agouti related neuropeptide]:::IGK [immunoglobulin kappa locus]:::FDXR [ferredoxin reductase]:::GLRX [glutaredoxin]:::AGRN [agrin]:::ETFA [electron transfer flavoprotein subunit alpha]:::EPGN [epithelial mitogen]:::GRHPR [glyoxylate and hydroxypyruvate reductase]:::E2F1 [E2F transcription factor 1]:::EIF2D [eukaryotic translation initiation factor 2D]:::ETFDH [electron transfer flavoprotein dehydrogenase]:::GHSR [growth hormone secretagogue receptor]:::EID2 [EP300 interacting inhibitor of differentiation 2]', 'all_k_distances': '0.0000:::3.3460:::5.2179:::5.6404:::5.6526:::5.7774:::5.8601:::6.0288:::6.1888:::6.2019:::6.2093:::6.2857:::6.3732:::6.3836:::6.3873:::6.4167:::6.4422:::6.4935:::6.5067:::6.5083:::6.5229:::6.5325:::6.5553:::6.5696:::6.5797'}   \n",
       "\n",
       "                                                                                                                                                                                                                                                                                                                                                                                                                                                                                                                                                                                                                                                                                                                                                                                                                                                                                                                                                                                                                                                                                                                                                                                                                                                                                                                                                                                                                                                                                                                                                                                                                                                                                                                                                                                                                                                                                1  \n",
       "0  {'ner_chunk': 'FBXO48', 'begin': 126, 'end': 131, 'ner_label': 'GENE', 'ner_confidence': '0.9833', 'code': 'HGNC:33857', 'resolution': 'FBXO48 [F-box protein 48]', 'all_k_codes': 'HGNC:33857:::HGNC:4930:::HGNC:16653:::HGNC:13114:::HGNC:22564:::HGNC:18533:::HGNC:37552:::HGNC:24635:::HGNC:23535:::HGNC:23385:::HGNC:23942:::HGNC:20807:::HGNC:23440:::HGNC:21368:::HGNC:23384:::HGNC:52393:::HGNC:23305:::HGNC:21785:::HGNC:23488:::HGNC:31272:::HGNC:1683:::HGNC:12079:::HGNC:37805:::HGNC:55157:::HGNC:31969', 'all_k_resolutions': 'FBXO48 [F-box protein 48]:::ZBTB48 [zinc finger and BTB domain containing 48]:::MRPL48 [mitochondrial ribosomal protein L48]:::ZNF48 [zinc finger protein 48]:::SPATA48 [spermatogenesis associated 48]:::USP48 [ubiquitin specific peptidase 48]:::PIRC48 [piwi-interacting RNA cluster 48]:::PRSS48 [serine protease 48]:::ZNF488 [zinc finger protein 488]:::ZNF484 [zinc finger protein 484]:::CYCSP48 [CYCS pseudogene 48]:::ZNF486 [zinc finger protein 486]:::ZNF485 [zinc finger protein 485]:::SNRNP48 [small nuclear ribonucleoprotein U11/U12 subunit 48]:::ZNF483 [zinc finger protein 483]:::TEX48 [testis expressed 48]:::ZNF480 [zinc finger protein 480]:::RBM48 [RNA binding motif protein 48]:::ZNF487 [zinc finger protein 487]:::OR4C48P [olfactory receptor family 4 subfamily C member 48 pseudogene]:::CD48 [CD48 molecule]:::TRAJ48 [T cell receptor alpha joining 48]:::GAPDHP48 [glyceraldehyde 3 phosphate dehydrogenase pseudogene 48]:::HMGN2P48 [high mobility group nucleosomal binding domain 2 pseudogene 48]:::FBXO47 [F-box protein 47]', 'all_k_distances': '0.0000:::5.3026:::5.3531:::5.4464:::5.8642:::5.8911:::5.9817:::6.0045:::6.1032:::6.1347:::6.1727:::6.2446:::6.3179:::6.3452:::6.3667:::6.3867:::6.3949:::6.4803:::6.5349:::6.5411:::6.5938:::6.6030:::6.6433:::6.7313:::6.8481'}  \n",
       "1                                                                                                                                                                                                                                                                                                                                                                                                                                                                                                                                                                                                                                                                                                                                                                                                                                                                                                                                                                                                                                                                                                                                                                                                                                                                                                                                                                                                                                                                                                                                                                                                                                                                                                                                                                                                                                                                            None  "
      ]
     },
     "metadata": {},
     "output_type": "display_data"
    }
   ],
   "source": [
    "process_s3_json_output_and_save(validation_json_file_name)"
   ]
  },
  {
   "cell_type": "markdown",
   "metadata": {},
   "source": [
    "### JSON Lines"
   ]
  },
  {
   "cell_type": "code",
   "execution_count": 18,
   "metadata": {
    "tags": []
   },
   "outputs": [
    {
     "name": "stderr",
     "output_type": "stream",
     "text": [
      "INFO:sagemaker:Creating model with name: hgnc-resolver-pipeline-en-2024-12-03-08-48-09-502\n",
      "INFO:sagemaker:Creating transform job with name: hgnc-resolver-pipeline-en-2024-12-03-08-48-10-162\n"
     ]
    },
    {
     "name": "stdout",
     "output_type": "stream",
     "text": [
      ".............................................\u001b[34m24/12/03 08:55:39 WARN NativeCodeLoader: Unable to load native-hadoop library for your platform... using builtin-java classes where applicable\u001b[0m\n",
      "\u001b[34mSetting default log level to \"WARN\".\u001b[0m\n",
      "\u001b[34mTo adjust logging level use sc.setLogLevel(newLevel). For SparkR, use setLogLevel(newLevel).\u001b[0m\n",
      "\n",
      "\u001b[34m#015[Stage 0:>                                                          (0 + 0) / 1]#015#015[Stage 0:>                                                          (0 + 1) / 1]#015#015                                                                                #015INFO:     Started server process [7]\u001b[0m\n",
      "\u001b[34mINFO:     Waiting for application startup.\u001b[0m\n",
      "\u001b[34mINFO:     Application startup complete.\u001b[0m\n",
      "\u001b[34mINFO:     Uvicorn running on http://0.0.0.0:8080 (Press CTRL+C to quit)\u001b[0m\n",
      "\u001b[34m📋 Loading license number 0 from /root/.johnsnowlabs/licenses/license_number_{number}_for_Spark-Healthcare_Spark-OCR.json\u001b[0m\n",
      "\u001b[34m👌 Launched #033[92mcpu optimized#033[39m session with with: 🚀Spark-NLP==5.5.0, 💊Spark-Healthcare==5.5.0, running on ⚡ PySpark==3.4.0\u001b[0m\n",
      "\u001b[34mINFO:     169.254.255.130:43502 - \"GET /ping HTTP/1.1\" 200 OK\u001b[0m\n",
      "\u001b[34mINFO:     169.254.255.130:43516 - \"GET /execution-parameters HTTP/1.1\" 404 Not Found\u001b[0m\n",
      "\u001b[35m#015[Stage 0:>                                                          (0 + 0) / 1]#015#015[Stage 0:>                                                          (0 + 1) / 1]#015#015                                                                                #015INFO:     Started server process [7]\u001b[0m\n",
      "\u001b[35mINFO:     Waiting for application startup.\u001b[0m\n",
      "\u001b[35mINFO:     Application startup complete.\u001b[0m\n",
      "\u001b[35mINFO:     Uvicorn running on http://0.0.0.0:8080 (Press CTRL+C to quit)\u001b[0m\n",
      "\u001b[35m📋 Loading license number 0 from /root/.johnsnowlabs/licenses/license_number_{number}_for_Spark-Healthcare_Spark-OCR.json\u001b[0m\n",
      "\u001b[35m👌 Launched #033[92mcpu optimized#033[39m session with with: 🚀Spark-NLP==5.5.0, 💊Spark-Healthcare==5.5.0, running on ⚡ PySpark==3.4.0\u001b[0m\n",
      "\u001b[35mINFO:     169.254.255.130:43502 - \"GET /ping HTTP/1.1\" 200 OK\u001b[0m\n",
      "\u001b[35mINFO:     169.254.255.130:43516 - \"GET /execution-parameters HTTP/1.1\" 404 Not Found\u001b[0m\n",
      "\u001b[32m2024-12-03T08:56:39.043:[sagemaker logs]: MaxConcurrentTransforms=1, MaxPayloadInMB=6, BatchStrategy=MULTI_RECORD\u001b[0m\n",
      "\u001b[34mINFO:     169.254.255.130:43518 - \"POST /invocations HTTP/1.1\" 200 OK\u001b[0m\n",
      "\u001b[35mINFO:     169.254.255.130:43518 - \"POST /invocations HTTP/1.1\" 200 OK\u001b[0m\n",
      "\u001b[34m24/12/03 08:55:39 WARN NativeCodeLoader: Unable to load native-hadoop library for your platform... using builtin-java classes where applicable\u001b[0m\n",
      "\u001b[35m24/12/03 08:55:39 WARN NativeCodeLoader: Unable to load native-hadoop library for your platform... using builtin-java classes where applicable\u001b[0m\n",
      "\u001b[34mSetting default log level to \"WARN\".\u001b[0m\n",
      "\u001b[34mTo adjust logging level use sc.setLogLevel(newLevel). For SparkR, use setLogLevel(newLevel).\u001b[0m\n",
      "\u001b[35mSetting default log level to \"WARN\".\u001b[0m\n",
      "\u001b[35mTo adjust logging level use sc.setLogLevel(newLevel). For SparkR, use setLogLevel(newLevel).\u001b[0m\n",
      "\u001b[34m#015[Stage 0:>                                                          (0 + 0) / 1]#015#015[Stage 0:>                                                          (0 + 1) / 1]#015#015                                                                                #015INFO:     Started server process [7]\u001b[0m\n",
      "\u001b[34mINFO:     Waiting for application startup.\u001b[0m\n",
      "\u001b[34mINFO:     Application startup complete.\u001b[0m\n",
      "\u001b[34mINFO:     Uvicorn running on http://0.0.0.0:8080 (Press CTRL+C to quit)\u001b[0m\n",
      "\u001b[34m📋 Loading license number 0 from /root/.johnsnowlabs/licenses/license_number_{number}_for_Spark-Healthcare_Spark-OCR.json\u001b[0m\n",
      "\u001b[34m👌 Launched #033[92mcpu optimized#033[39m session with with: 🚀Spark-NLP==5.5.0, 💊Spark-Healthcare==5.5.0, running on ⚡ PySpark==3.4.0\u001b[0m\n",
      "\u001b[34mINFO:     169.254.255.130:43502 - \"GET /ping HTTP/1.1\" 200 OK\u001b[0m\n",
      "\u001b[34mINFO:     169.254.255.130:43516 - \"GET /execution-parameters HTTP/1.1\" 404 Not Found\u001b[0m\n",
      "\u001b[35m#015[Stage 0:>                                                          (0 + 0) / 1]#015#015[Stage 0:>                                                          (0 + 1) / 1]#015#015                                                                                #015INFO:     Started server process [7]\u001b[0m\n",
      "\u001b[35mINFO:     Waiting for application startup.\u001b[0m\n",
      "\u001b[35mINFO:     Application startup complete.\u001b[0m\n",
      "\u001b[35mINFO:     Uvicorn running on http://0.0.0.0:8080 (Press CTRL+C to quit)\u001b[0m\n",
      "\u001b[35m📋 Loading license number 0 from /root/.johnsnowlabs/licenses/license_number_{number}_for_Spark-Healthcare_Spark-OCR.json\u001b[0m\n",
      "\u001b[35m👌 Launched #033[92mcpu optimized#033[39m session with with: 🚀Spark-NLP==5.5.0, 💊Spark-Healthcare==5.5.0, running on ⚡ PySpark==3.4.0\u001b[0m\n",
      "\u001b[35mINFO:     169.254.255.130:43502 - \"GET /ping HTTP/1.1\" 200 OK\u001b[0m\n",
      "\u001b[35mINFO:     169.254.255.130:43516 - \"GET /execution-parameters HTTP/1.1\" 404 Not Found\u001b[0m\n",
      "\u001b[32m2024-12-03T08:56:39.043:[sagemaker logs]: MaxConcurrentTransforms=1, MaxPayloadInMB=6, BatchStrategy=MULTI_RECORD\u001b[0m\n",
      "\u001b[34mINFO:     169.254.255.130:43518 - \"POST /invocations HTTP/1.1\" 200 OK\u001b[0m\n",
      "\u001b[35mINFO:     169.254.255.130:43518 - \"POST /invocations HTTP/1.1\" 200 OK\u001b[0m\n"
     ]
    }
   ],
   "source": [
    "transformer = model.transformer(\n",
    "    instance_count=1,\n",
    "    instance_type=batch_transform_inference_instance_type,\n",
    "    accept=\"application/jsonlines\",\n",
    "    output_path=validation_output_jsonl_path\n",
    ")\n",
    "transformer.transform(validation_input_jsonl_path, content_type=\"application/jsonlines\")\n",
    "transformer.wait()"
   ]
  },
  {
   "cell_type": "code",
   "execution_count": 19,
   "metadata": {
    "tags": []
   },
   "outputs": [],
   "source": [
    "from urllib.parse import urlparse\n",
    "\n",
    "def process_s3_jsonlines_output_and_save(validation_file_name):\n",
    "\n",
    "    output_file_path = f\"{jsonl_output_dir}/{validation_file_name}.out\"\n",
    "    parsed_url = urlparse(transformer.output_path)\n",
    "    file_key = f\"{parsed_url.path[1:]}{validation_file_name}.out\"\n",
    "    response = s3_client.get_object(Bucket=s3_bucket, Key=file_key)\n",
    "\n",
    "    data = response[\"Body\"].read().decode(\"utf-8\")\n",
    "    print(data)\n",
    "\n",
    "    # Save the data to the output file\n",
    "    with open(output_file_path, 'w') as f_out:\n",
    "        for item in data.split('\\n'):\n",
    "            f_out.write(item + '\\n')"
   ]
  },
  {
   "cell_type": "code",
   "execution_count": 20,
   "metadata": {
    "tags": []
   },
   "outputs": [
    {
     "name": "stdout",
     "output_type": "stream",
     "text": [
      "{\"predictions\": [{\"ner_chunk\": \"DUX4L20\", \"begin\": 113, \"end\": 119, \"ner_label\": \"GENE\", \"ner_confidence\": \"0.9654\", \"code\": \"HGNC:50801\", \"resolution\": \"DUX4L20 [double homeobox 4 like 20 (pseudogene)]\", \"all_k_codes\": \"HGNC:50801:::HGNC:39776:::HGNC:31982:::HGNC:26230:::HGNC:2743:::HGNC:42011:::HGNC:42254:::HGNC:42423:::HGNC:42207:::HGNC:50522:::HGNC:34070:::HGNC:24679:::HGNC:18357:::HGNC:25794:::HGNC:14478:::HGNC:42012:::HGNC:4475:::HGNC:19734:::HGNC:36437:::HGNC:42013:::HGNC:11598:::HGNC:30390:::HGNC:53837:::HGNC:37772:::HGNC:51516\", \"all_k_resolutions\": \"DUX4L20 [double homeobox 4 like 20 (pseudogene)]:::ZDHHC20P4 [zinc finger DHHC-type containing 20 pseudogene 4]:::ANKRD20A4P [ankyrin repeat domain 20 family member A4, pseudogene]:::TM4SF20 [transmembrane 4 L six family member 20]:::DDX20 [DEAD-box helicase 20]:::FAM204BP [family with sequence similarity 204 member B, pseudogene]:::MTND4LP20 [MT-ND4L pseudogene 20]:::ZBTB20-AS4 [ZBTB20 antisense RNA 4]:::MTND4P20 [MT-ND4 pseudogene 20]:::TOMM20P4 [TOMM20 pseudogene 4]:::RNY4P20 [RNY4 pseudogene 20]:::FBXL20 [F-box and leucine rich repeat protein 20]:::ARHGAP20 [Rho GTPase activating protein 20]:::FAM204A [family with sequence similarity 204 member A]:::MRPL20 [mitochondrial ribosomal protein L20]:::FAM204CP [family with sequence similarity 204 member C, pseudogene]:::GPR20 [G protein-coupled receptor 20]:::RANBP20P [RAN binding protein 20 pseudogene]:::RPS4XP20 [ribosomal protein S4X pseudogene 20]:::FAM204DP [family with sequence similarity 204 member D, pseudogene]:::TBX20 [T-box transcription factor 20]:::SNX20 [sorting nexin 20]:::PRR20G [proline rich 20G]:::GAPDHP20 [glyceraldehyde 3 phosphate dehydrogenase pseudogene 20]:::SPDYE20P [speedy/RINGO cell cycle regulator family member E20, pseudogene]\", \"all_k_distances\": \"0.0000:::6.4373:::6.4389:::6.6875:::6.8085:::6.8100:::6.8730:::6.8812:::6.9250:::6.9846:::7.0950:::7.1020:::7.2438:::7.2766:::7.3176:::7.3252:::7.3437:::7.4235:::7.4729:::7.4762:::7.4965:::7.5218:::7.5315:::7.5501:::7.5699\"}, {\"ner_chunk\": \"FBXO48\", \"begin\": 126, \"end\": 131, \"ner_label\": \"GENE\", \"ner_confidence\": \"0.9833\", \"code\": \"HGNC:33857\", \"resolution\": \"FBXO48 [F-box protein 48]\", \"all_k_codes\": \"HGNC:33857:::HGNC:4930:::HGNC:16653:::HGNC:13114:::HGNC:22564:::HGNC:18533:::HGNC:37552:::HGNC:24635:::HGNC:23535:::HGNC:23385:::HGNC:23942:::HGNC:20807:::HGNC:23440:::HGNC:21368:::HGNC:23384:::HGNC:52393:::HGNC:23305:::HGNC:21785:::HGNC:23488:::HGNC:31272:::HGNC:1683:::HGNC:12079:::HGNC:37805:::HGNC:55157:::HGNC:31969\", \"all_k_resolutions\": \"FBXO48 [F-box protein 48]:::ZBTB48 [zinc finger and BTB domain containing 48]:::MRPL48 [mitochondrial ribosomal protein L48]:::ZNF48 [zinc finger protein 48]:::SPATA48 [spermatogenesis associated 48]:::USP48 [ubiquitin specific peptidase 48]:::PIRC48 [piwi-interacting RNA cluster 48]:::PRSS48 [serine protease 48]:::ZNF488 [zinc finger protein 488]:::ZNF484 [zinc finger protein 484]:::CYCSP48 [CYCS pseudogene 48]:::ZNF486 [zinc finger protein 486]:::ZNF485 [zinc finger protein 485]:::SNRNP48 [small nuclear ribonucleoprotein U11/U12 subunit 48]:::ZNF483 [zinc finger protein 483]:::TEX48 [testis expressed 48]:::ZNF480 [zinc finger protein 480]:::RBM48 [RNA binding motif protein 48]:::ZNF487 [zinc finger protein 487]:::OR4C48P [olfactory receptor family 4 subfamily C member 48 pseudogene]:::CD48 [CD48 molecule]:::TRAJ48 [T cell receptor alpha joining 48]:::GAPDHP48 [glyceraldehyde 3 phosphate dehydrogenase pseudogene 48]:::HMGN2P48 [high mobility group nucleosomal binding domain 2 pseudogene 48]:::FBXO47 [F-box protein 47]\", \"all_k_distances\": \"0.0000:::5.3026:::5.3531:::5.4464:::5.8642:::5.8911:::5.9817:::6.0045:::6.1032:::6.1347:::6.1727:::6.2446:::6.3179:::6.3452:::6.3667:::6.3867:::6.3949:::6.4803:::6.5349:::6.5411:::6.5938:::6.6030:::6.6433:::6.7313:::6.8481\"}]}\n",
      "{\"predictions\": [{\"ner_chunk\": \"EGFR\", \"begin\": 4, \"end\": 7, \"ner_label\": \"GENE\", \"ner_confidence\": \"0.9994\", \"code\": \"HGNC:3236\", \"resolution\": \"EGFR [epidermal growth factor receptor]\", \"all_k_codes\": \"HGNC:3236:::HGNC:3229:::HGNC:3697:::HGNC:16898:::HGNC:12691:::HGNC:4194:::HGNC:26330:::HGNC:3662:::HGNC:21869:::HGNC:341:::HGNC:3249:::HGNC:3785:::HGNC:330:::HGNC:5715:::HGNC:3642:::HGNC:4330:::HGNC:329:::HGNC:3481:::HGNC:17470:::HGNC:4570:::HGNC:3113:::HGNC:6583:::HGNC:3483:::HGNC:4267:::HGNC:28292\", \"all_k_resolutions\": \"EGFR [epidermal growth factor receptor]:::EGF [epidermal growth factor]:::FGR [FGR proto-oncogene, Src family tyrosine kinase]:::EFS [embryonal Fyn-associated substrate]:::EZR [ezrin]:::GCHFR [GTP cyclohydrolase I feedback regulator]:::EFHB [EF-hand domain family member B]:::FGB [fibrinogen beta chain]:::AGK [acylglycerol kinase]:::AGXT [alanine--glyoxylate aminotransferase]:::EIF1 [eukaryotic translation initiation factor 1]:::FNTB [farnesyltransferase, CAAX box, beta]:::AGRP [agouti related neuropeptide]:::IGK [immunoglobulin kappa locus]:::FDXR [ferredoxin reductase]:::GLRX [glutaredoxin]:::AGRN [agrin]:::ETFA [electron transfer flavoprotein subunit alpha]:::EPGN [epithelial mitogen]:::GRHPR [glyoxylate and hydroxypyruvate reductase]:::E2F1 [E2F transcription factor 1]:::EIF2D [eukaryotic translation initiation factor 2D]:::ETFDH [electron transfer flavoprotein dehydrogenase]:::GHSR [growth hormone secretagogue receptor]:::EID2 [EP300 interacting inhibitor of differentiation 2]\", \"all_k_distances\": \"0.0000:::3.3460:::5.2179:::5.6404:::5.6526:::5.7774:::5.8601:::6.0288:::6.1888:::6.2019:::6.2093:::6.2857:::6.3732:::6.3836:::6.3873:::6.4167:::6.4422:::6.4935:::6.5067:::6.5083:::6.5229:::6.5325:::6.5553:::6.5696:::6.5797\"}]}\n"
     ]
    }
   ],
   "source": [
    "process_s3_jsonlines_output_and_save(validation_jsonl_file_name)"
   ]
  },
  {
   "cell_type": "code",
   "execution_count": 21,
   "metadata": {
    "tags": []
   },
   "outputs": [
    {
     "name": "stderr",
     "output_type": "stream",
     "text": [
      "INFO:sagemaker:Deleting model with name: hgnc-resolver-pipeline-en-2024-12-03-08-48-09-502\n"
     ]
    }
   ],
   "source": [
    "model.delete_model()"
   ]
  },
  {
   "cell_type": "code",
   "execution_count": 22,
   "metadata": {
    "tags": []
   },
   "outputs": [
    {
     "data": {
      "text/plain": [
       "'/home/ec2-user/SageMaker/vivek/models/hgnc_resolver_pipeline_en/sagemaker'"
      ]
     },
     "execution_count": 22,
     "metadata": {},
     "output_type": "execute_result"
    }
   ],
   "source": [
    "pwd"
   ]
  },
  {
   "cell_type": "markdown",
   "metadata": {},
   "source": [
    "### Unsubscribe to the listing (optional)"
   ]
  },
  {
   "cell_type": "markdown",
   "metadata": {
    "tags": []
   },
   "source": [
    "If you would like to unsubscribe to the model package, follow these steps. Before you cancel the subscription, ensure that you do not have any [deployable model](https://console.aws.amazon.com/sagemaker/home#/models) created from the model package or using the algorithm. Note - You can find this information by looking at the container name associated with the model. \n",
    "\n",
    "**Steps to unsubscribe to product from AWS Marketplace**:\n",
    "1. Navigate to __Machine Learning__ tab on [__Your Software subscriptions page__](https://aws.amazon.com/marketplace/ai/library?productType=ml&ref_=mlmp_gitdemo_indust)\n",
    "2. Locate the listing that you want to cancel the subscription for, and then choose __Cancel Subscription__  to cancel the subscription.\n",
    "\n"
   ]
  }
 ],
 "metadata": {
  "instance_type": "ml.t3.medium",
  "kernelspec": {
   "display_name": "conda_python3",
   "language": "python",
   "name": "conda_python3"
  },
  "language_info": {
   "codemirror_mode": {
    "name": "ipython",
    "version": 3
   },
   "file_extension": ".py",
   "mimetype": "text/x-python",
   "name": "python",
   "nbconvert_exporter": "python",
   "pygments_lexer": "ipython3",
   "version": "3.10.15"
  }
 },
 "nbformat": 4,
 "nbformat_minor": 4
}

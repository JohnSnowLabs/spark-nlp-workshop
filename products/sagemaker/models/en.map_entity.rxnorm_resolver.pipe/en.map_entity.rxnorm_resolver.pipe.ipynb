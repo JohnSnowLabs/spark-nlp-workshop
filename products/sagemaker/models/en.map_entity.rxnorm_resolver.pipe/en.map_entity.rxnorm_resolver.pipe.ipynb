{
 "cells": [
  {
   "cell_type": "markdown",
   "metadata": {},
   "source": [
    "## 1. Subscribe to the model package"
   ]
  },
  {
   "cell_type": "markdown",
   "metadata": {},
   "source": [
    "To subscribe to the model package:\n",
    "1. Open the model package listing page <font color='red'> For Seller to update:[Title_of_your_product](Provide link to your marketplace listing of your product).</font>\n",
    "1. On the AWS Marketplace listing, click on the **Continue to subscribe** button.\n",
    "1. On the **Subscribe to this software** page, review and click on **\"Accept Offer\"** if you and your organization agrees with EULA, pricing, and support terms. \n",
    "1. Once you click on **Continue to configuration button** and then choose a **region**, you will see a **Product Arn** displayed. This is the model package ARN that you need to specify while creating a deployable model using Boto3. Copy the ARN corresponding to your region and specify the same in the following cell."
   ]
  },
  {
   "cell_type": "markdown",
   "metadata": {},
   "source": [
    "## Mapping Entities with RxNorm Codes\n",
    "\n",
    "RxNorm, a standardized naming system for drugs, ensures interoperability among pharmacy systems by providing normalized names and unique identifiers for medicines and drugs. This facilitates efficient communication of drug-related information. Mapping Entities with RxNorm Codes ensures precise representation of medications in documents, facilitating smooth integration and enhancing patient safety.\n",
    "\n",
    "- **Model**: `en.map_entity.rxnorm_resolver.pipe`\n",
    "- **Model Description**: This pretrained pipeline resolves entities to their respective RxNorm codes, offering seamless mapping between entities and their corresponding RxNorm code.\n"
   ]
  },
  {
   "cell_type": "code",
   "execution_count": 1,
   "metadata": {
    "tags": []
   },
   "outputs": [],
   "source": [
    "model_package_arn = \"<Customer to specify Model package ARN corresponding to their AWS region>\""
   ]
  },
  {
   "cell_type": "code",
   "execution_count": 2,
   "metadata": {
    "tags": []
   },
   "outputs": [
    {
     "name": "stdout",
     "output_type": "stream",
     "text": [
      "sagemaker.config INFO - Not applying SDK defaults from location: /etc/xdg/sagemaker/config.yaml\n",
      "sagemaker.config INFO - Not applying SDK defaults from location: /home/ec2-user/.config/sagemaker/config.yaml\n"
     ]
    }
   ],
   "source": [
    "import base64\n",
    "import json\n",
    "import uuid\n",
    "from sagemaker import ModelPackage\n",
    "import sagemaker as sage\n",
    "from sagemaker import get_execution_role\n",
    "import boto3\n",
    "from IPython.display import Image, display\n",
    "from PIL import Image as ImageEdit\n",
    "import numpy as np"
   ]
  },
  {
   "cell_type": "code",
   "execution_count": 3,
   "metadata": {
    "tags": []
   },
   "outputs": [],
   "source": [
    "sagemaker_session = sage.Session()\n",
    "s3_bucket = sagemaker_session.default_bucket()\n",
    "region = sagemaker_session.boto_region_name\n",
    "account_id = boto3.client(\"sts\").get_caller_identity().get(\"Account\")\n",
    "role = get_execution_role()\n",
    "\n",
    "sagemaker = boto3.client(\"sagemaker\")\n",
    "s3_client = sagemaker_session.boto_session.client(\"s3\")\n",
    "ecr = boto3.client(\"ecr\")\n",
    "sm_runtime = boto3.client(\"sagemaker-runtime\")"
   ]
  },
  {
   "cell_type": "markdown",
   "metadata": {},
   "source": [
    "## 2. Create an endpoint and perform real-time inference"
   ]
  },
  {
   "cell_type": "markdown",
   "metadata": {},
   "source": [
    "If you want to understand how real-time inference with Amazon SageMaker works, see [Documentation](https://docs.aws.amazon.com/sagemaker/latest/dg/how-it-works-hosting.html)."
   ]
  },
  {
   "cell_type": "code",
   "execution_count": 4,
   "metadata": {
    "tags": []
   },
   "outputs": [],
   "source": [
    "model_name = \"en-map-entity-rxnorm-resolver-pipe\"\n",
    "\n",
    "content_type = \"application/json\"\n",
    "\n",
    "real_time_inference_instance_type = \"ml.m4.xlarge\"\n",
    "batch_transform_inference_instance_type = \"ml.m4.xlarge\"\n"
   ]
  },
  {
   "cell_type": "markdown",
   "metadata": {},
   "source": [
    "### A. Create an endpoint"
   ]
  },
  {
   "cell_type": "code",
   "execution_count": 5,
   "metadata": {
    "tags": []
   },
   "outputs": [
    {
     "name": "stdout",
     "output_type": "stream",
     "text": [
      "---------!"
     ]
    }
   ],
   "source": [
    "# create a deployable model from the model package.\n",
    "model = ModelPackage(\n",
    "    role=role, model_package_arn=model_package_arn, sagemaker_session=sagemaker_session\n",
    ")\n",
    "\n",
    "# Deploy the model\n",
    "predictor = model.deploy(1, real_time_inference_instance_type, endpoint_name=model_name)"
   ]
  },
  {
   "cell_type": "markdown",
   "metadata": {},
   "source": [
    "Once endpoint has been created, you would be able to perform real-time inference."
   ]
  },
  {
   "cell_type": "code",
   "execution_count": 6,
   "metadata": {
    "tags": []
   },
   "outputs": [],
   "source": [
    "import json\n",
    "import pandas as pd\n",
    "import os\n",
    "import boto3\n",
    "\n",
    "\n",
    "# Set display options\n",
    "pd.set_option('display.max_rows', None)\n",
    "pd.set_option('display.max_columns', None)\n",
    "pd.set_option('display.max_colwidth', None)\n",
    "\n",
    "\n",
    "def process_data_and_invoke_realtime_endpoint(data_dicts):\n",
    "    for data_dict in data_dicts:\n",
    "        json_input_data = json.dumps(data_dict)\n",
    "        i = 1\n",
    "        input_file_name = f'inputs/real-time/input{i}.json'\n",
    "        output_file_name = f'outputs/real-time/out{i}.out'\n",
    "\n",
    "        while os.path.exists(input_file_name) or os.path.exists(output_file_name):\n",
    "            i += 1\n",
    "            input_file_name = f'inputs/real-time/input{i}.json'\n",
    "            output_file_name = f'outputs/real-time/out{i}.out'\n",
    "\n",
    "        os.makedirs(os.path.dirname(input_file_name), exist_ok=True)\n",
    "        os.makedirs(os.path.dirname(output_file_name), exist_ok=True)\n",
    "\n",
    "        with open(input_file_name, 'w') as f:\n",
    "            f.write(json_input_data)\n",
    "\n",
    "        s3_client.put_object(Bucket=s3_bucket, Key=f\"{model_name}/validation-input-json/real-time/{os.path.basename(input_file_name)}\", Body=bytes(json_input_data.encode('UTF-8')))\n",
    "\n",
    "        response = sm_runtime.invoke_endpoint(\n",
    "            EndpointName=model_name,\n",
    "            ContentType=content_type,\n",
    "            Accept=\"application/json\",\n",
    "            Body=json_input_data,\n",
    "        )\n",
    "\n",
    "        # Process response\n",
    "        response_data = json.loads(response[\"Body\"].read().decode(\"utf-8\"))\n",
    "        df = pd.DataFrame(response_data['predictions'])\n",
    "        display(df)\n",
    "\n",
    "        # Save response data to file\n",
    "        with open(output_file_name, 'w') as f_out:\n",
    "            json.dump(response_data, f_out, indent=4)\n"
   ]
  },
  {
   "cell_type": "markdown",
   "metadata": {},
   "source": [
    "### Initial Setup"
   ]
  },
  {
   "cell_type": "code",
   "execution_count": 7,
   "metadata": {
    "tags": []
   },
   "outputs": [],
   "source": [
    "docs = [\n",
    "    \"The patient was given Adapin 10 MG, coumadn 5 mg\", \n",
    "    \"She is given folic acid 1 mg daily , levothyroxine 0.1 mg and aspirin 81 mg daily.\",\n",
    "    \"The doctor prescribed Lisinopril 20 MG once daily for hypertension.\"\n",
    "]\n",
    "\n",
    "\n",
    "sample_text = \"The patient was advised to take Omeprazole 20 mg daily before breakfast for acid reflux.\""
   ]
  },
  {
   "cell_type": "markdown",
   "metadata": {},
   "source": [
    "#### Example 1"
   ]
  },
  {
   "cell_type": "markdown",
   "metadata": {},
   "source": [
    "  **Input format**:\n",
    "  \n",
    "  \n",
    "```json\n",
    "{\n",
    "    \"text\": \"Single text document\"\n",
    "}\n",
    "```"
   ]
  },
  {
   "cell_type": "code",
   "execution_count": 8,
   "metadata": {
    "tags": []
   },
   "outputs": [
    {
     "data": {
      "text/html": [
       "<div>\n",
       "<style scoped>\n",
       "    .dataframe tbody tr th:only-of-type {\n",
       "        vertical-align: middle;\n",
       "    }\n",
       "\n",
       "    .dataframe tbody tr th {\n",
       "        vertical-align: top;\n",
       "    }\n",
       "\n",
       "    .dataframe thead th {\n",
       "        text-align: right;\n",
       "    }\n",
       "</style>\n",
       "<table border=\"1\" class=\"dataframe\">\n",
       "  <thead>\n",
       "    <tr style=\"text-align: right;\">\n",
       "      <th></th>\n",
       "      <th>document</th>\n",
       "      <th>ner_chunk</th>\n",
       "      <th>begin</th>\n",
       "      <th>end</th>\n",
       "      <th>ner_label</th>\n",
       "      <th>ner_confidence</th>\n",
       "      <th>rxnorm_code</th>\n",
       "      <th>rxnorm_confidence</th>\n",
       "    </tr>\n",
       "  </thead>\n",
       "  <tbody>\n",
       "    <tr>\n",
       "      <th>0</th>\n",
       "      <td>The patient was advised to take Omeprazole 20 mg daily before breakfast for acid reflux.</td>\n",
       "      <td>Omeprazole 20 mg</td>\n",
       "      <td>32</td>\n",
       "      <td>47</td>\n",
       "      <td>DRUG</td>\n",
       "      <td>0.69296664</td>\n",
       "      <td>389172</td>\n",
       "      <td>0.69296664</td>\n",
       "    </tr>\n",
       "    <tr>\n",
       "      <th>1</th>\n",
       "      <td>The patient was advised to take Omeprazole 20 mg daily before breakfast for acid reflux.</td>\n",
       "      <td>daily before breakfast</td>\n",
       "      <td>49</td>\n",
       "      <td>70</td>\n",
       "      <td>FREQUENCY</td>\n",
       "      <td>0.94656664</td>\n",
       "      <td>1166944</td>\n",
       "      <td>0.1544</td>\n",
       "    </tr>\n",
       "  </tbody>\n",
       "</table>\n",
       "</div>"
      ],
      "text/plain": [
       "                                                                                   document  \\\n",
       "0  The patient was advised to take Omeprazole 20 mg daily before breakfast for acid reflux.   \n",
       "1  The patient was advised to take Omeprazole 20 mg daily before breakfast for acid reflux.   \n",
       "\n",
       "                ner_chunk  begin  end  ner_label ner_confidence rxnorm_code  \\\n",
       "0        Omeprazole 20 mg     32   47       DRUG     0.69296664      389172   \n",
       "1  daily before breakfast     49   70  FREQUENCY     0.94656664     1166944   \n",
       "\n",
       "  rxnorm_confidence  \n",
       "0        0.69296664  \n",
       "1            0.1544  "
      ]
     },
     "metadata": {},
     "output_type": "display_data"
    }
   ],
   "source": [
    "data_dicts = [\n",
    "    {\n",
    "        \"text\": sample_text\n",
    "    }\n",
    "]\n",
    "\n",
    "process_data_and_invoke_realtime_endpoint(data_dicts)\n"
   ]
  },
  {
   "cell_type": "markdown",
   "metadata": {},
   "source": [
    "#### Example 2"
   ]
  },
  {
   "cell_type": "markdown",
   "metadata": {},
   "source": [
    "  **Input format**:\n",
    "  \n",
    "  \n",
    "```json\n",
    "{\n",
    "    \"text\": [\n",
    "        \"Text document 1\",\n",
    "        \"Text document 2\",\n",
    "        ...\n",
    "    ]\n",
    "}\n",
    "```"
   ]
  },
  {
   "cell_type": "code",
   "execution_count": 9,
   "metadata": {
    "tags": []
   },
   "outputs": [
    {
     "data": {
      "text/html": [
       "<div>\n",
       "<style scoped>\n",
       "    .dataframe tbody tr th:only-of-type {\n",
       "        vertical-align: middle;\n",
       "    }\n",
       "\n",
       "    .dataframe tbody tr th {\n",
       "        vertical-align: top;\n",
       "    }\n",
       "\n",
       "    .dataframe thead th {\n",
       "        text-align: right;\n",
       "    }\n",
       "</style>\n",
       "<table border=\"1\" class=\"dataframe\">\n",
       "  <thead>\n",
       "    <tr style=\"text-align: right;\">\n",
       "      <th></th>\n",
       "      <th>document</th>\n",
       "      <th>ner_chunk</th>\n",
       "      <th>begin</th>\n",
       "      <th>end</th>\n",
       "      <th>ner_label</th>\n",
       "      <th>ner_confidence</th>\n",
       "      <th>rxnorm_code</th>\n",
       "      <th>rxnorm_confidence</th>\n",
       "    </tr>\n",
       "  </thead>\n",
       "  <tbody>\n",
       "    <tr>\n",
       "      <th>0</th>\n",
       "      <td>The patient was given Adapin 10 MG, coumadn 5 mg</td>\n",
       "      <td>Adapin 10 MG</td>\n",
       "      <td>22</td>\n",
       "      <td>33</td>\n",
       "      <td>DRUG</td>\n",
       "      <td>0.6573</td>\n",
       "      <td>1000049</td>\n",
       "      <td>0.6573</td>\n",
       "    </tr>\n",
       "    <tr>\n",
       "      <th>1</th>\n",
       "      <td>The patient was given Adapin 10 MG, coumadn 5 mg</td>\n",
       "      <td>coumadn 5 mg</td>\n",
       "      <td>36</td>\n",
       "      <td>47</td>\n",
       "      <td>DRUG</td>\n",
       "      <td>0.6365</td>\n",
       "      <td>200883</td>\n",
       "      <td>0.0543</td>\n",
       "    </tr>\n",
       "    <tr>\n",
       "      <th>2</th>\n",
       "      <td>She is given folic acid 1 mg daily , levothyroxine 0.1 mg and aspirin 81 mg daily.</td>\n",
       "      <td>folic acid 1 mg</td>\n",
       "      <td>13</td>\n",
       "      <td>27</td>\n",
       "      <td>DRUG</td>\n",
       "      <td>0.67852503</td>\n",
       "      <td>315966</td>\n",
       "      <td>0.67852503</td>\n",
       "    </tr>\n",
       "    <tr>\n",
       "      <th>3</th>\n",
       "      <td>She is given folic acid 1 mg daily , levothyroxine 0.1 mg and aspirin 81 mg daily.</td>\n",
       "      <td>daily</td>\n",
       "      <td>29</td>\n",
       "      <td>33</td>\n",
       "      <td>FREQUENCY</td>\n",
       "      <td>0.9891</td>\n",
       "      <td>216351</td>\n",
       "      <td>0.9333</td>\n",
       "    </tr>\n",
       "    <tr>\n",
       "      <th>4</th>\n",
       "      <td>She is given folic acid 1 mg daily , levothyroxine 0.1 mg and aspirin 81 mg daily.</td>\n",
       "      <td>levothyroxine 0.1 mg</td>\n",
       "      <td>37</td>\n",
       "      <td>56</td>\n",
       "      <td>DRUG</td>\n",
       "      <td>0.8457667</td>\n",
       "      <td>892245</td>\n",
       "      <td>0.2008</td>\n",
       "    </tr>\n",
       "    <tr>\n",
       "      <th>5</th>\n",
       "      <td>She is given folic acid 1 mg daily , levothyroxine 0.1 mg and aspirin 81 mg daily.</td>\n",
       "      <td>aspirin 81 mg</td>\n",
       "      <td>62</td>\n",
       "      <td>74</td>\n",
       "      <td>DRUG</td>\n",
       "      <td>0.72886664</td>\n",
       "      <td>434451</td>\n",
       "      <td>0.72886664</td>\n",
       "    </tr>\n",
       "    <tr>\n",
       "      <th>6</th>\n",
       "      <td>She is given folic acid 1 mg daily , levothyroxine 0.1 mg and aspirin 81 mg daily.</td>\n",
       "      <td>daily</td>\n",
       "      <td>76</td>\n",
       "      <td>80</td>\n",
       "      <td>FREQUENCY</td>\n",
       "      <td>0.9967</td>\n",
       "      <td>216351</td>\n",
       "      <td>0.9333</td>\n",
       "    </tr>\n",
       "    <tr>\n",
       "      <th>7</th>\n",
       "      <td>The doctor prescribed Lisinopril 20 MG once daily for hypertension.</td>\n",
       "      <td>Lisinopril 20 MG</td>\n",
       "      <td>22</td>\n",
       "      <td>37</td>\n",
       "      <td>DRUG</td>\n",
       "      <td>0.6994</td>\n",
       "      <td>314077</td>\n",
       "      <td>0.6994</td>\n",
       "    </tr>\n",
       "    <tr>\n",
       "      <th>8</th>\n",
       "      <td>The doctor prescribed Lisinopril 20 MG once daily for hypertension.</td>\n",
       "      <td>once daily</td>\n",
       "      <td>39</td>\n",
       "      <td>48</td>\n",
       "      <td>FREQUENCY</td>\n",
       "      <td>0.94275</td>\n",
       "      <td>216351</td>\n",
       "      <td>0.1926</td>\n",
       "    </tr>\n",
       "  </tbody>\n",
       "</table>\n",
       "</div>"
      ],
      "text/plain": [
       "                                                                             document  \\\n",
       "0                                    The patient was given Adapin 10 MG, coumadn 5 mg   \n",
       "1                                    The patient was given Adapin 10 MG, coumadn 5 mg   \n",
       "2  She is given folic acid 1 mg daily , levothyroxine 0.1 mg and aspirin 81 mg daily.   \n",
       "3  She is given folic acid 1 mg daily , levothyroxine 0.1 mg and aspirin 81 mg daily.   \n",
       "4  She is given folic acid 1 mg daily , levothyroxine 0.1 mg and aspirin 81 mg daily.   \n",
       "5  She is given folic acid 1 mg daily , levothyroxine 0.1 mg and aspirin 81 mg daily.   \n",
       "6  She is given folic acid 1 mg daily , levothyroxine 0.1 mg and aspirin 81 mg daily.   \n",
       "7                 The doctor prescribed Lisinopril 20 MG once daily for hypertension.   \n",
       "8                 The doctor prescribed Lisinopril 20 MG once daily for hypertension.   \n",
       "\n",
       "              ner_chunk  begin  end  ner_label ner_confidence rxnorm_code  \\\n",
       "0          Adapin 10 MG     22   33       DRUG         0.6573     1000049   \n",
       "1          coumadn 5 mg     36   47       DRUG         0.6365      200883   \n",
       "2       folic acid 1 mg     13   27       DRUG     0.67852503      315966   \n",
       "3                 daily     29   33  FREQUENCY         0.9891      216351   \n",
       "4  levothyroxine 0.1 mg     37   56       DRUG      0.8457667      892245   \n",
       "5         aspirin 81 mg     62   74       DRUG     0.72886664      434451   \n",
       "6                 daily     76   80  FREQUENCY         0.9967      216351   \n",
       "7      Lisinopril 20 MG     22   37       DRUG         0.6994      314077   \n",
       "8            once daily     39   48  FREQUENCY        0.94275      216351   \n",
       "\n",
       "  rxnorm_confidence  \n",
       "0            0.6573  \n",
       "1            0.0543  \n",
       "2        0.67852503  \n",
       "3            0.9333  \n",
       "4            0.2008  \n",
       "5        0.72886664  \n",
       "6            0.9333  \n",
       "7            0.6994  \n",
       "8            0.1926  "
      ]
     },
     "metadata": {},
     "output_type": "display_data"
    }
   ],
   "source": [
    "data_dicts = [\n",
    "    {\n",
    "        \"text\": docs\n",
    "    }\n",
    "]\n",
    "\n",
    "process_data_and_invoke_realtime_endpoint(data_dicts)"
   ]
  },
  {
   "cell_type": "markdown",
   "metadata": {},
   "source": [
    "### C. Delete the endpoint"
   ]
  },
  {
   "cell_type": "markdown",
   "metadata": {},
   "source": [
    "Now that you have successfully performed a real-time inference, you do not need the endpoint any more. You can terminate the endpoint to avoid being charged."
   ]
  },
  {
   "cell_type": "code",
   "execution_count": 10,
   "metadata": {
    "tags": []
   },
   "outputs": [],
   "source": [
    "model.sagemaker_session.delete_endpoint(model_name)\n",
    "model.sagemaker_session.delete_endpoint_config(model_name)"
   ]
  },
  {
   "cell_type": "markdown",
   "metadata": {
    "tags": []
   },
   "source": [
    "## 3. Batch inference"
   ]
  },
  {
   "cell_type": "code",
   "execution_count": 11,
   "metadata": {
    "tags": []
   },
   "outputs": [],
   "source": [
    "import os\n",
    "\n",
    "validation_file_name = \"input.json\"\n",
    "\n",
    "validation_input_path = f\"s3://{s3_bucket}/{model_name}/validation-input-json/batch\"\n",
    "validation_output_path = f\"s3://{s3_bucket}/{model_name}/validation-output-json/batch\"\n",
    "\n",
    "input_dir = 'inputs/batch'\n",
    "output_dir = 'outputs/batch'\n",
    "\n",
    "os.makedirs(input_dir, exist_ok=True)\n",
    "os.makedirs(output_dir, exist_ok=True)"
   ]
  },
  {
   "cell_type": "code",
   "execution_count": 12,
   "metadata": {
    "tags": []
   },
   "outputs": [],
   "source": [
    "import json\n",
    "\n",
    "def write_and_upload_to_s3(json_input_data, file_name):\n",
    "\n",
    "    json_data = json.dumps(json_input_data)\n",
    "\n",
    "    with open(file_name, \"w\") as f:\n",
    "        f.write(json_data)\n",
    "\n",
    "    s3_client.put_object(\n",
    "        Bucket=s3_bucket,\n",
    "        Key=f\"{model_name}/validation-input-json/batch/{os.path.basename(file_name)}\",\n",
    "        Body=(bytes(json_data.encode(\"UTF-8\"))),\n",
    "    )\n"
   ]
  },
  {
   "cell_type": "code",
   "execution_count": 13,
   "metadata": {
    "tags": []
   },
   "outputs": [],
   "source": [
    "# Define input JSON data for each validation file\n",
    "input_json_data = {\"text\": docs}\n",
    "\n",
    "write_and_upload_to_s3(input_json_data, f\"{input_dir}/{validation_file_name}\")"
   ]
  },
  {
   "cell_type": "code",
   "execution_count": null,
   "metadata": {
    "tags": []
   },
   "outputs": [],
   "source": [
    "# Initialize a SageMaker Transformer object for making predictions\n",
    "transformer = model.transformer(\n",
    "    instance_count=1,\n",
    "    instance_type=batch_transform_inference_instance_type,\n",
    "    accept=\"application/json\",\n",
    ")\n",
    "transformer.transform(validation_input_path, content_type=content_type)\n",
    "transformer.wait()"
   ]
  },
  {
   "cell_type": "code",
   "execution_count": 15,
   "metadata": {
    "tags": []
   },
   "outputs": [],
   "source": [
    "from urllib.parse import urlparse\n",
    "\n",
    "def process_s3_output_and_save(validation_file_name, output_file_name):\n",
    "\n",
    "    output_file_path = f\"{output_dir}/{output_file_name}\"\n",
    "    parsed_url = urlparse(transformer.output_path)\n",
    "    file_key = f\"{parsed_url.path[1:]}/{validation_file_name}.out\"\n",
    "    response = s3_client.get_object(Bucket=s3_bucket, Key=file_key)\n",
    "\n",
    "    data = json.loads(response[\"Body\"].read().decode(\"utf-8\"))\n",
    "    df = pd.DataFrame(data[\"predictions\"])\n",
    "    display(df)\n",
    "\n",
    "    # Save the data to the output file\n",
    "    with open(output_file_path, 'w') as f_out:\n",
    "        json.dump(data, f_out, indent=4)"
   ]
  },
  {
   "cell_type": "code",
   "execution_count": 16,
   "metadata": {
    "tags": []
   },
   "outputs": [
    {
     "data": {
      "text/html": [
       "<div>\n",
       "<style scoped>\n",
       "    .dataframe tbody tr th:only-of-type {\n",
       "        vertical-align: middle;\n",
       "    }\n",
       "\n",
       "    .dataframe tbody tr th {\n",
       "        vertical-align: top;\n",
       "    }\n",
       "\n",
       "    .dataframe thead th {\n",
       "        text-align: right;\n",
       "    }\n",
       "</style>\n",
       "<table border=\"1\" class=\"dataframe\">\n",
       "  <thead>\n",
       "    <tr style=\"text-align: right;\">\n",
       "      <th></th>\n",
       "      <th>document</th>\n",
       "      <th>ner_chunk</th>\n",
       "      <th>begin</th>\n",
       "      <th>end</th>\n",
       "      <th>ner_label</th>\n",
       "      <th>ner_confidence</th>\n",
       "      <th>rxnorm_code</th>\n",
       "      <th>rxnorm_confidence</th>\n",
       "    </tr>\n",
       "  </thead>\n",
       "  <tbody>\n",
       "    <tr>\n",
       "      <th>0</th>\n",
       "      <td>The patient was given Adapin 10 MG, coumadn 5 mg</td>\n",
       "      <td>Adapin 10 MG</td>\n",
       "      <td>22</td>\n",
       "      <td>33</td>\n",
       "      <td>DRUG</td>\n",
       "      <td>0.6573</td>\n",
       "      <td>1000049</td>\n",
       "      <td>0.6573</td>\n",
       "    </tr>\n",
       "    <tr>\n",
       "      <th>1</th>\n",
       "      <td>The patient was given Adapin 10 MG, coumadn 5 mg</td>\n",
       "      <td>coumadn 5 mg</td>\n",
       "      <td>36</td>\n",
       "      <td>47</td>\n",
       "      <td>DRUG</td>\n",
       "      <td>0.6365</td>\n",
       "      <td>200883</td>\n",
       "      <td>0.0543</td>\n",
       "    </tr>\n",
       "    <tr>\n",
       "      <th>2</th>\n",
       "      <td>She is given folic acid 1 mg daily , levothyroxine 0.1 mg and aspirin 81 mg daily.</td>\n",
       "      <td>folic acid 1 mg</td>\n",
       "      <td>13</td>\n",
       "      <td>27</td>\n",
       "      <td>DRUG</td>\n",
       "      <td>0.67852503</td>\n",
       "      <td>315966</td>\n",
       "      <td>0.67852503</td>\n",
       "    </tr>\n",
       "    <tr>\n",
       "      <th>3</th>\n",
       "      <td>She is given folic acid 1 mg daily , levothyroxine 0.1 mg and aspirin 81 mg daily.</td>\n",
       "      <td>daily</td>\n",
       "      <td>29</td>\n",
       "      <td>33</td>\n",
       "      <td>FREQUENCY</td>\n",
       "      <td>0.9891</td>\n",
       "      <td>216351</td>\n",
       "      <td>0.9333</td>\n",
       "    </tr>\n",
       "    <tr>\n",
       "      <th>4</th>\n",
       "      <td>She is given folic acid 1 mg daily , levothyroxine 0.1 mg and aspirin 81 mg daily.</td>\n",
       "      <td>levothyroxine 0.1 mg</td>\n",
       "      <td>37</td>\n",
       "      <td>56</td>\n",
       "      <td>DRUG</td>\n",
       "      <td>0.8457667</td>\n",
       "      <td>892245</td>\n",
       "      <td>0.2008</td>\n",
       "    </tr>\n",
       "    <tr>\n",
       "      <th>5</th>\n",
       "      <td>She is given folic acid 1 mg daily , levothyroxine 0.1 mg and aspirin 81 mg daily.</td>\n",
       "      <td>aspirin 81 mg</td>\n",
       "      <td>62</td>\n",
       "      <td>74</td>\n",
       "      <td>DRUG</td>\n",
       "      <td>0.72886664</td>\n",
       "      <td>434451</td>\n",
       "      <td>0.72886664</td>\n",
       "    </tr>\n",
       "    <tr>\n",
       "      <th>6</th>\n",
       "      <td>She is given folic acid 1 mg daily , levothyroxine 0.1 mg and aspirin 81 mg daily.</td>\n",
       "      <td>daily</td>\n",
       "      <td>76</td>\n",
       "      <td>80</td>\n",
       "      <td>FREQUENCY</td>\n",
       "      <td>0.9967</td>\n",
       "      <td>216351</td>\n",
       "      <td>0.9333</td>\n",
       "    </tr>\n",
       "    <tr>\n",
       "      <th>7</th>\n",
       "      <td>The doctor prescribed Lisinopril 20 MG once daily for hypertension.</td>\n",
       "      <td>Lisinopril 20 MG</td>\n",
       "      <td>22</td>\n",
       "      <td>37</td>\n",
       "      <td>DRUG</td>\n",
       "      <td>0.6994</td>\n",
       "      <td>314077</td>\n",
       "      <td>0.6994</td>\n",
       "    </tr>\n",
       "    <tr>\n",
       "      <th>8</th>\n",
       "      <td>The doctor prescribed Lisinopril 20 MG once daily for hypertension.</td>\n",
       "      <td>once daily</td>\n",
       "      <td>39</td>\n",
       "      <td>48</td>\n",
       "      <td>FREQUENCY</td>\n",
       "      <td>0.94275</td>\n",
       "      <td>216351</td>\n",
       "      <td>0.1926</td>\n",
       "    </tr>\n",
       "  </tbody>\n",
       "</table>\n",
       "</div>"
      ],
      "text/plain": [
       "                                                                             document  \\\n",
       "0                                    The patient was given Adapin 10 MG, coumadn 5 mg   \n",
       "1                                    The patient was given Adapin 10 MG, coumadn 5 mg   \n",
       "2  She is given folic acid 1 mg daily , levothyroxine 0.1 mg and aspirin 81 mg daily.   \n",
       "3  She is given folic acid 1 mg daily , levothyroxine 0.1 mg and aspirin 81 mg daily.   \n",
       "4  She is given folic acid 1 mg daily , levothyroxine 0.1 mg and aspirin 81 mg daily.   \n",
       "5  She is given folic acid 1 mg daily , levothyroxine 0.1 mg and aspirin 81 mg daily.   \n",
       "6  She is given folic acid 1 mg daily , levothyroxine 0.1 mg and aspirin 81 mg daily.   \n",
       "7                 The doctor prescribed Lisinopril 20 MG once daily for hypertension.   \n",
       "8                 The doctor prescribed Lisinopril 20 MG once daily for hypertension.   \n",
       "\n",
       "              ner_chunk  begin  end  ner_label ner_confidence rxnorm_code  \\\n",
       "0          Adapin 10 MG     22   33       DRUG         0.6573     1000049   \n",
       "1          coumadn 5 mg     36   47       DRUG         0.6365      200883   \n",
       "2       folic acid 1 mg     13   27       DRUG     0.67852503      315966   \n",
       "3                 daily     29   33  FREQUENCY         0.9891      216351   \n",
       "4  levothyroxine 0.1 mg     37   56       DRUG      0.8457667      892245   \n",
       "5         aspirin 81 mg     62   74       DRUG     0.72886664      434451   \n",
       "6                 daily     76   80  FREQUENCY         0.9967      216351   \n",
       "7      Lisinopril 20 MG     22   37       DRUG         0.6994      314077   \n",
       "8            once daily     39   48  FREQUENCY        0.94275      216351   \n",
       "\n",
       "  rxnorm_confidence  \n",
       "0            0.6573  \n",
       "1            0.0543  \n",
       "2        0.67852503  \n",
       "3            0.9333  \n",
       "4            0.2008  \n",
       "5        0.72886664  \n",
       "6            0.9333  \n",
       "7            0.6994  \n",
       "8            0.1926  "
      ]
     },
     "metadata": {},
     "output_type": "display_data"
    }
   ],
   "source": [
    "process_s3_output_and_save(validation_file_name, \"out.out\")"
   ]
  },
  {
   "cell_type": "code",
   "execution_count": 17,
   "metadata": {
    "tags": []
   },
   "outputs": [
    {
     "name": "stderr",
     "output_type": "stream",
     "text": [
      "INFO:sagemaker:Deleting model with name: en-map-entity-rxnorm-resolver-pipe-2024-03-23-16-03-33-682\n"
     ]
    }
   ],
   "source": [
    "model.delete_model()"
   ]
  },
  {
   "cell_type": "markdown",
   "metadata": {},
   "source": [
    "### Unsubscribe to the listing (optional)"
   ]
  },
  {
   "cell_type": "markdown",
   "metadata": {
    "tags": []
   },
   "source": [
    "If you would like to unsubscribe to the model package, follow these steps. Before you cancel the subscription, ensure that you do not have any [deployable model](https://console.aws.amazon.com/sagemaker/home#/models) created from the model package or using the algorithm. Note - You can find this information by looking at the container name associated with the model. \n",
    "\n",
    "**Steps to unsubscribe to product from AWS Marketplace**:\n",
    "1. Navigate to __Machine Learning__ tab on [__Your Software subscriptions page__](https://aws.amazon.com/marketplace/ai/library?productType=ml&ref_=mlmp_gitdemo_indust)\n",
    "2. Locate the listing that you want to cancel the subscription for, and then choose __Cancel Subscription__  to cancel the subscription.\n",
    "\n"
   ]
  },
  {
   "cell_type": "code",
   "execution_count": null,
   "metadata": {},
   "outputs": [],
   "source": []
  }
 ],
 "metadata": {
  "instance_type": "ml.t3.medium",
  "kernelspec": {
   "display_name": "conda_python3",
   "language": "python",
   "name": "conda_python3"
  },
  "language_info": {
   "codemirror_mode": {
    "name": "ipython",
    "version": 3
   },
   "file_extension": ".py",
   "mimetype": "text/x-python",
   "name": "python",
   "nbconvert_exporter": "python",
   "pygments_lexer": "ipython3",
   "version": "3.10.13"
  }
 },
 "nbformat": 4,
 "nbformat_minor": 4
}

{
 "cells": [
  {
   "cell_type": "markdown",
   "metadata": {},
   "source": [
    "## 1. Subscribe to the model package"
   ]
  },
  {
   "cell_type": "markdown",
   "metadata": {},
   "source": [
    "To subscribe to the model package:\n",
    "1. Open the model package listing page <font color='red'> For Seller to update:[Title_of_your_product](Provide link to your marketplace listing of your product).</font>\n",
    "1. On the AWS Marketplace listing, click on the **Continue to subscribe** button.\n",
    "1. On the **Subscribe to this software** page, review and click on **\"Accept Offer\"** if you and your organization agrees with EULA, pricing, and support terms. \n",
    "1. Once you click on **Continue to configuration button** and then choose a **region**, you will see a **Product Arn** displayed. This is the model package ARN that you need to specify while creating a deployable model using Boto3. Copy the ARN corresponding to your region and specify the same in the following cell."
   ]
  },
  {
   "cell_type": "markdown",
   "metadata": {},
   "source": [
    "## Pipeline for Hierarchical Condition Categories (HCC) Sentence Entity Resolver\n",
    "\n",
    "- **Model**: `hcc_resolver_pipeline`\n",
    "- **Model Description**: This advanced pipeline extracts clinical conditions from clinical texts and utilizes the `sbiobert_base_cased_mli` Sentence Bert Embeddings to map these entities to their corresponding Hierarchical Condition Categories (HCC) codes."
   ]
  },
  {
   "cell_type": "code",
   "execution_count": 1,
   "metadata": {
    "tags": []
   },
   "outputs": [],
   "source": [
    "model_package_arn = \"<Customer to specify Model package ARN corresponding to their AWS region>\""
   ]
  },
  {
   "cell_type": "code",
   "execution_count": 2,
   "metadata": {
    "tags": []
   },
   "outputs": [
    {
     "name": "stdout",
     "output_type": "stream",
     "text": [
      "sagemaker.config INFO - Not applying SDK defaults from location: /etc/xdg/sagemaker/config.yaml\n",
      "sagemaker.config INFO - Not applying SDK defaults from location: /home/ec2-user/.config/sagemaker/config.yaml\n"
     ]
    }
   ],
   "source": [
    "import base64\n",
    "import json\n",
    "import uuid\n",
    "from sagemaker import ModelPackage\n",
    "import sagemaker as sage\n",
    "from sagemaker import get_execution_role\n",
    "import boto3\n",
    "from IPython.display import Image, display\n",
    "from PIL import Image as ImageEdit\n",
    "import numpy as np"
   ]
  },
  {
   "cell_type": "code",
   "execution_count": 3,
   "metadata": {
    "tags": []
   },
   "outputs": [],
   "source": [
    "sagemaker_session = sage.Session()\n",
    "s3_bucket = sagemaker_session.default_bucket()\n",
    "region = sagemaker_session.boto_region_name\n",
    "account_id = boto3.client(\"sts\").get_caller_identity().get(\"Account\")\n",
    "role = get_execution_role()\n",
    "\n",
    "sagemaker = boto3.client(\"sagemaker\")\n",
    "s3_client = sagemaker_session.boto_session.client(\"s3\")\n",
    "ecr = boto3.client(\"ecr\")\n",
    "sm_runtime = boto3.client(\"sagemaker-runtime\")"
   ]
  },
  {
   "cell_type": "markdown",
   "metadata": {},
   "source": [
    "## 2. Create an endpoint and perform real-time inference"
   ]
  },
  {
   "cell_type": "markdown",
   "metadata": {},
   "source": [
    "If you want to understand how real-time inference with Amazon SageMaker works, see [Documentation](https://docs.aws.amazon.com/sagemaker/latest/dg/how-it-works-hosting.html)."
   ]
  },
  {
   "cell_type": "code",
   "execution_count": 4,
   "metadata": {
    "tags": []
   },
   "outputs": [],
   "source": [
    "model_name = \"hcc-resolver-pipeline\"\n",
    "\n",
    "real_time_inference_instance_type = \"ml.m4.xlarge\"\n",
    "batch_transform_inference_instance_type = \"ml.m4.xlarge\"\n"
   ]
  },
  {
   "cell_type": "markdown",
   "metadata": {},
   "source": [
    "### A. Create an endpoint"
   ]
  },
  {
   "cell_type": "code",
   "execution_count": 5,
   "metadata": {
    "tags": []
   },
   "outputs": [
    {
     "name": "stdout",
     "output_type": "stream",
     "text": [
      "----------!"
     ]
    }
   ],
   "source": [
    "# create a deployable model from the model package.\n",
    "model = ModelPackage(\n",
    "    role=role, model_package_arn=model_package_arn, sagemaker_session=sagemaker_session\n",
    ")\n",
    "\n",
    "# Deploy the model\n",
    "predictor = model.deploy(1, real_time_inference_instance_type, endpoint_name=model_name)"
   ]
  },
  {
   "cell_type": "markdown",
   "metadata": {},
   "source": [
    "Once endpoint has been created, you would be able to perform real-time inference."
   ]
  },
  {
   "cell_type": "code",
   "execution_count": 6,
   "metadata": {
    "tags": []
   },
   "outputs": [],
   "source": [
    "import json\n",
    "import pandas as pd\n",
    "import os\n",
    "import boto3\n",
    "\n",
    "# Set display options\n",
    "pd.set_option('display.max_rows', None)\n",
    "pd.set_option('display.max_columns', None)\n",
    "pd.set_option('display.max_colwidth', None)\n",
    "\n",
    "def process_data_and_invoke_realtime_endpoint(data, content_type, accept):\n",
    "\n",
    "    content_type_to_format = {'application/json': 'json', 'application/jsonlines': 'jsonl'}\n",
    "    input_format = content_type_to_format.get(content_type)\n",
    "    if content_type not in content_type_to_format.keys() or accept not in content_type_to_format.keys():\n",
    "        raise ValueError(\"Invalid content_type or accept. It should be either 'application/json' or 'application/jsonlines'.\")\n",
    "\n",
    "    i = 1\n",
    "    input_dir = f'inputs/real-time/{input_format}'\n",
    "    output_dir = f'outputs/real-time/{input_format}'\n",
    "    s3_input_dir = f\"{model_name}/validation-input/real-time/{input_format}\"\n",
    "    s3_output_dir = f\"{model_name}/validation-output/real-time/{input_format}\"\n",
    "\n",
    "    input_file_name = f'{input_dir}/input{i}.{input_format}'\n",
    "    output_file_name = f'{output_dir}/{os.path.basename(input_file_name)}.out'\n",
    "\n",
    "    while os.path.exists(input_file_name) or os.path.exists(output_file_name):\n",
    "        i += 1\n",
    "        input_file_name = f'{input_dir}/input{i}.{input_format}'\n",
    "        output_file_name = f'{output_dir}/{os.path.basename(input_file_name)}.out'\n",
    "\n",
    "    os.makedirs(os.path.dirname(input_file_name), exist_ok=True)\n",
    "    os.makedirs(os.path.dirname(output_file_name), exist_ok=True)\n",
    "\n",
    "    input_data = json.dumps(data) if content_type == 'application/json' else data\n",
    "\n",
    "    # Write input data to file\n",
    "    with open(input_file_name, 'w') as f:\n",
    "        f.write(input_data)\n",
    "\n",
    "    # Upload input data to S3\n",
    "    s3_client.put_object(Bucket=s3_bucket, Key=f\"{s3_input_dir}/{os.path.basename(input_file_name)}\", Body=bytes(input_data.encode('UTF-8')))\n",
    "\n",
    "    # Invoke the SageMaker endpoint\n",
    "    response = sm_runtime.invoke_endpoint(\n",
    "        EndpointName=model_name,\n",
    "        ContentType=content_type,\n",
    "        Accept=accept,\n",
    "        Body=input_data,\n",
    "    )\n",
    "\n",
    "    # Read response data\n",
    "    response_data = json.loads(response[\"Body\"].read().decode(\"utf-8\")) if accept == 'application/json' else response['Body'].read().decode('utf-8')\n",
    "\n",
    "    # Save response data to file\n",
    "    with open(output_file_name, 'w') as f_out:\n",
    "        if accept == 'application/json':\n",
    "            json.dump(response_data, f_out, indent=4)\n",
    "        else:\n",
    "            for item in response_data.split('\\n'):\n",
    "                f_out.write(item + '\\n')\n",
    "\n",
    "    # Upload response data to S3\n",
    "    output_s3_key = f\"{s3_output_dir}/{os.path.basename(output_file_name)}\"\n",
    "    if accept == 'application/json':\n",
    "        s3_client.put_object(Bucket=s3_bucket, Key=output_s3_key, Body=json.dumps(response_data).encode('UTF-8'))\n",
    "    else:\n",
    "        s3_client.put_object(Bucket=s3_bucket, Key=output_s3_key, Body=response_data)\n",
    "\n",
    "    return response_data"
   ]
  },
  {
   "cell_type": "markdown",
   "metadata": {},
   "source": [
    "### Initial Setup"
   ]
  },
  {
   "cell_type": "code",
   "execution_count": 7,
   "metadata": {
    "tags": []
   },
   "outputs": [],
   "source": [
    "docs = [\n",
    "    \"\"\"The patient presents with a history of Hypertension and Hyperlipidemia, which have been managed with medication. Recent lab results indicate elevated cholesterol levels, and the patient reports occasional chest pain.\"\"\", \n",
    "    \"\"\"Upon examination, the patient was found to have signs of Congestive Heart Failure and Atrial Fibrillation. The patient's condition requires immediate attention and an adjustment of their current treatment plan.\"\"\",\n",
    "]\n",
    "\n",
    "\n",
    "\n",
    "sample_text = \"\"\"The patient's medical record indicates a diagnosis of Diabetes and Chronic Obstructive Pulmonary Disease, requiring comprehensive care and management.\"\"\""
   ]
  },
  {
   "cell_type": "markdown",
   "metadata": {},
   "source": [
    "### JSON"
   ]
  },
  {
   "cell_type": "markdown",
   "metadata": {},
   "source": [
    "#### Example 1"
   ]
  },
  {
   "cell_type": "markdown",
   "metadata": {},
   "source": [
    "  **Input format**:\n",
    "  \n",
    "  \n",
    "```json\n",
    "{\n",
    "    \"text\": \"Single text document\"\n",
    "}\n",
    "```"
   ]
  },
  {
   "cell_type": "code",
   "execution_count": 8,
   "metadata": {
    "tags": []
   },
   "outputs": [
    {
     "data": {
      "text/html": [
       "<div>\n",
       "<style scoped>\n",
       "    .dataframe tbody tr th:only-of-type {\n",
       "        vertical-align: middle;\n",
       "    }\n",
       "\n",
       "    .dataframe tbody tr th {\n",
       "        vertical-align: top;\n",
       "    }\n",
       "\n",
       "    .dataframe thead th {\n",
       "        text-align: right;\n",
       "    }\n",
       "</style>\n",
       "<table border=\"1\" class=\"dataframe\">\n",
       "  <thead>\n",
       "    <tr style=\"text-align: right;\">\n",
       "      <th></th>\n",
       "      <th>document</th>\n",
       "      <th>ner_chunk</th>\n",
       "      <th>begin</th>\n",
       "      <th>end</th>\n",
       "      <th>ner_label</th>\n",
       "      <th>ner_confidence</th>\n",
       "      <th>hcc_code</th>\n",
       "      <th>hcc_resolution</th>\n",
       "      <th>hcc_confidence</th>\n",
       "    </tr>\n",
       "  </thead>\n",
       "  <tbody>\n",
       "    <tr>\n",
       "      <th>0</th>\n",
       "      <td>The patient's medical record indicates a diagnosis of Diabetes and Chronic Obstructive Pulmonary Disease, requiring comprehensive care and management.</td>\n",
       "      <td>Diabetes</td>\n",
       "      <td>54</td>\n",
       "      <td>61</td>\n",
       "      <td>PROBLEM</td>\n",
       "      <td>0.9907</td>\n",
       "      <td>19</td>\n",
       "      <td>diabetes monitored [type 2 diabetes mellitus without complications]</td>\n",
       "      <td>0.5660</td>\n",
       "    </tr>\n",
       "    <tr>\n",
       "      <th>1</th>\n",
       "      <td>The patient's medical record indicates a diagnosis of Diabetes and Chronic Obstructive Pulmonary Disease, requiring comprehensive care and management.</td>\n",
       "      <td>Chronic Obstructive Pulmonary Disease</td>\n",
       "      <td>67</td>\n",
       "      <td>103</td>\n",
       "      <td>PROBLEM</td>\n",
       "      <td>0.95212495</td>\n",
       "      <td>111</td>\n",
       "      <td>chronic obstructive pulmonary disease [chronic obstructive pulmonary disease, unspecified]</td>\n",
       "      <td>0.9924</td>\n",
       "    </tr>\n",
       "  </tbody>\n",
       "</table>\n",
       "</div>"
      ],
      "text/plain": [
       "                                                                                                                                                 document  \\\n",
       "0  The patient's medical record indicates a diagnosis of Diabetes and Chronic Obstructive Pulmonary Disease, requiring comprehensive care and management.   \n",
       "1  The patient's medical record indicates a diagnosis of Diabetes and Chronic Obstructive Pulmonary Disease, requiring comprehensive care and management.   \n",
       "\n",
       "                               ner_chunk  begin  end ner_label ner_confidence  \\\n",
       "0                               Diabetes     54   61   PROBLEM         0.9907   \n",
       "1  Chronic Obstructive Pulmonary Disease     67  103   PROBLEM     0.95212495   \n",
       "\n",
       "  hcc_code  \\\n",
       "0       19   \n",
       "1      111   \n",
       "\n",
       "                                                                               hcc_resolution  \\\n",
       "0                         diabetes monitored [type 2 diabetes mellitus without complications]   \n",
       "1  chronic obstructive pulmonary disease [chronic obstructive pulmonary disease, unspecified]   \n",
       "\n",
       "  hcc_confidence  \n",
       "0         0.5660  \n",
       "1         0.9924  "
      ]
     },
     "execution_count": 8,
     "metadata": {},
     "output_type": "execute_result"
    }
   ],
   "source": [
    "input_json_data = {\"text\": sample_text}\n",
    "\n",
    "data =  process_data_and_invoke_realtime_endpoint(input_json_data, content_type=\"application/json\" , accept=\"application/json\" )\n",
    "pd.DataFrame(data[\"predictions\"])"
   ]
  },
  {
   "cell_type": "markdown",
   "metadata": {},
   "source": [
    "#### Example 2"
   ]
  },
  {
   "cell_type": "markdown",
   "metadata": {},
   "source": [
    "  **Input format**:\n",
    "  \n",
    "  \n",
    "```json\n",
    "{\n",
    "    \"text\": [\n",
    "        \"Text document 1\",\n",
    "        \"Text document 2\",\n",
    "        ...\n",
    "    ]\n",
    "}\n",
    "```"
   ]
  },
  {
   "cell_type": "code",
   "execution_count": 9,
   "metadata": {
    "tags": []
   },
   "outputs": [
    {
     "data": {
      "text/html": [
       "<div>\n",
       "<style scoped>\n",
       "    .dataframe tbody tr th:only-of-type {\n",
       "        vertical-align: middle;\n",
       "    }\n",
       "\n",
       "    .dataframe tbody tr th {\n",
       "        vertical-align: top;\n",
       "    }\n",
       "\n",
       "    .dataframe thead th {\n",
       "        text-align: right;\n",
       "    }\n",
       "</style>\n",
       "<table border=\"1\" class=\"dataframe\">\n",
       "  <thead>\n",
       "    <tr style=\"text-align: right;\">\n",
       "      <th></th>\n",
       "      <th>document</th>\n",
       "      <th>ner_chunk</th>\n",
       "      <th>begin</th>\n",
       "      <th>end</th>\n",
       "      <th>ner_label</th>\n",
       "      <th>ner_confidence</th>\n",
       "      <th>hcc_code</th>\n",
       "      <th>hcc_resolution</th>\n",
       "      <th>hcc_confidence</th>\n",
       "    </tr>\n",
       "  </thead>\n",
       "  <tbody>\n",
       "    <tr>\n",
       "      <th>0</th>\n",
       "      <td>The patient presents with a history of Hypertension and Hyperlipidemia, which have been managed with medication. Recent lab results indicate elevated cholesterol levels, and the patient reports occasional chest pain.</td>\n",
       "      <td>Hypertension</td>\n",
       "      <td>39</td>\n",
       "      <td>50</td>\n",
       "      <td>PROBLEM</td>\n",
       "      <td>0.9841</td>\n",
       "      <td>0</td>\n",
       "      <td>hypertension [essential (primary) hypertension]</td>\n",
       "      <td>1.0000</td>\n",
       "    </tr>\n",
       "    <tr>\n",
       "      <th>1</th>\n",
       "      <td>The patient presents with a history of Hypertension and Hyperlipidemia, which have been managed with medication. Recent lab results indicate elevated cholesterol levels, and the patient reports occasional chest pain.</td>\n",
       "      <td>Hyperlipidemia</td>\n",
       "      <td>56</td>\n",
       "      <td>69</td>\n",
       "      <td>PROBLEM</td>\n",
       "      <td>0.9989</td>\n",
       "      <td>0</td>\n",
       "      <td>hyperlipidemia [hyperlipidemia, unspecified]</td>\n",
       "      <td>0.9960</td>\n",
       "    </tr>\n",
       "    <tr>\n",
       "      <th>2</th>\n",
       "      <td>The patient presents with a history of Hypertension and Hyperlipidemia, which have been managed with medication. Recent lab results indicate elevated cholesterol levels, and the patient reports occasional chest pain.</td>\n",
       "      <td>elevated cholesterol levels</td>\n",
       "      <td>141</td>\n",
       "      <td>167</td>\n",
       "      <td>PROBLEM</td>\n",
       "      <td>0.89603335</td>\n",
       "      <td>0</td>\n",
       "      <td>serum cholesterol raised [abnormal levels of other serum enzymes]</td>\n",
       "      <td>1.0000</td>\n",
       "    </tr>\n",
       "    <tr>\n",
       "      <th>3</th>\n",
       "      <td>The patient presents with a history of Hypertension and Hyperlipidemia, which have been managed with medication. Recent lab results indicate elevated cholesterol levels, and the patient reports occasional chest pain.</td>\n",
       "      <td>occasional chest pain</td>\n",
       "      <td>194</td>\n",
       "      <td>214</td>\n",
       "      <td>PROBLEM</td>\n",
       "      <td>0.95759994</td>\n",
       "      <td>0</td>\n",
       "      <td>localised chest pain [pain, unspecified]</td>\n",
       "      <td>0.8106</td>\n",
       "    </tr>\n",
       "    <tr>\n",
       "      <th>4</th>\n",
       "      <td>Upon examination, the patient was found to have signs of Congestive Heart Failure and Atrial Fibrillation. The patient's condition requires immediate attention and an adjustment of their current treatment plan.</td>\n",
       "      <td>Congestive Heart Failure</td>\n",
       "      <td>57</td>\n",
       "      <td>80</td>\n",
       "      <td>PROBLEM</td>\n",
       "      <td>0.9709</td>\n",
       "      <td>0</td>\n",
       "      <td>chronic congestive heart failure [right heart failure]</td>\n",
       "      <td>0.8506</td>\n",
       "    </tr>\n",
       "    <tr>\n",
       "      <th>5</th>\n",
       "      <td>Upon examination, the patient was found to have signs of Congestive Heart Failure and Atrial Fibrillation. The patient's condition requires immediate attention and an adjustment of their current treatment plan.</td>\n",
       "      <td>Atrial Fibrillation</td>\n",
       "      <td>86</td>\n",
       "      <td>104</td>\n",
       "      <td>PROBLEM</td>\n",
       "      <td>0.99665</td>\n",
       "      <td>0</td>\n",
       "      <td>atrial fibrillation [unspecified atrial fibrillation and atrial flutter]</td>\n",
       "      <td>0.9712</td>\n",
       "    </tr>\n",
       "  </tbody>\n",
       "</table>\n",
       "</div>"
      ],
      "text/plain": [
       "                                                                                                                                                                                                                   document  \\\n",
       "0  The patient presents with a history of Hypertension and Hyperlipidemia, which have been managed with medication. Recent lab results indicate elevated cholesterol levels, and the patient reports occasional chest pain.   \n",
       "1  The patient presents with a history of Hypertension and Hyperlipidemia, which have been managed with medication. Recent lab results indicate elevated cholesterol levels, and the patient reports occasional chest pain.   \n",
       "2  The patient presents with a history of Hypertension and Hyperlipidemia, which have been managed with medication. Recent lab results indicate elevated cholesterol levels, and the patient reports occasional chest pain.   \n",
       "3  The patient presents with a history of Hypertension and Hyperlipidemia, which have been managed with medication. Recent lab results indicate elevated cholesterol levels, and the patient reports occasional chest pain.   \n",
       "4        Upon examination, the patient was found to have signs of Congestive Heart Failure and Atrial Fibrillation. The patient's condition requires immediate attention and an adjustment of their current treatment plan.   \n",
       "5        Upon examination, the patient was found to have signs of Congestive Heart Failure and Atrial Fibrillation. The patient's condition requires immediate attention and an adjustment of their current treatment plan.   \n",
       "\n",
       "                     ner_chunk  begin  end ner_label ner_confidence hcc_code  \\\n",
       "0                 Hypertension     39   50   PROBLEM         0.9841        0   \n",
       "1               Hyperlipidemia     56   69   PROBLEM         0.9989        0   \n",
       "2  elevated cholesterol levels    141  167   PROBLEM     0.89603335        0   \n",
       "3        occasional chest pain    194  214   PROBLEM     0.95759994        0   \n",
       "4     Congestive Heart Failure     57   80   PROBLEM         0.9709        0   \n",
       "5          Atrial Fibrillation     86  104   PROBLEM        0.99665        0   \n",
       "\n",
       "                                                             hcc_resolution  \\\n",
       "0                           hypertension [essential (primary) hypertension]   \n",
       "1                              hyperlipidemia [hyperlipidemia, unspecified]   \n",
       "2         serum cholesterol raised [abnormal levels of other serum enzymes]   \n",
       "3                                  localised chest pain [pain, unspecified]   \n",
       "4                    chronic congestive heart failure [right heart failure]   \n",
       "5  atrial fibrillation [unspecified atrial fibrillation and atrial flutter]   \n",
       "\n",
       "  hcc_confidence  \n",
       "0         1.0000  \n",
       "1         0.9960  \n",
       "2         1.0000  \n",
       "3         0.8106  \n",
       "4         0.8506  \n",
       "5         0.9712  "
      ]
     },
     "execution_count": 9,
     "metadata": {},
     "output_type": "execute_result"
    }
   ],
   "source": [
    "input_json_data = {\"text\": docs}\n",
    "\n",
    "data =  process_data_and_invoke_realtime_endpoint(input_json_data, content_type=\"application/json\" , accept=\"application/json\" )\n",
    "pd.DataFrame(data[\"predictions\"])"
   ]
  },
  {
   "cell_type": "markdown",
   "metadata": {},
   "source": [
    "### JSON Lines"
   ]
  },
  {
   "cell_type": "code",
   "execution_count": 10,
   "metadata": {
    "tags": []
   },
   "outputs": [],
   "source": [
    "import json\n",
    "\n",
    "def create_jsonl(records):\n",
    "    json_records = []\n",
    "\n",
    "    for text in records:\n",
    "        record = {\n",
    "            \"text\": text\n",
    "        }\n",
    "        json_records.append(record)\n",
    "\n",
    "    json_lines = '\\n'.join(json.dumps(record) for record in json_records)\n",
    "\n",
    "    return json_lines\n",
    "\n",
    "input_jsonl_data = create_jsonl(docs)"
   ]
  },
  {
   "cell_type": "markdown",
   "metadata": {},
   "source": [
    "#### Example 1"
   ]
  },
  {
   "cell_type": "markdown",
   "metadata": {},
   "source": [
    "  **Input format**:\n",
    "  \n",
    "```json\n",
    "{\"text\": \"Text document 1\"}\n",
    "{\"text\": \"Text document 2\"}\n",
    "```"
   ]
  },
  {
   "cell_type": "code",
   "execution_count": 11,
   "metadata": {
    "tags": []
   },
   "outputs": [
    {
     "name": "stdout",
     "output_type": "stream",
     "text": [
      "{\"predictions\": [{\"ner_chunk\": \"Hypertension\", \"begin\": 39, \"end\": 50, \"ner_label\": \"PROBLEM\", \"ner_confidence\": \"0.9841\", \"hcc_code\": \"0\", \"hcc_resolution\": \"hypertension [essential (primary) hypertension]\", \"hcc_confidence\": \"1.0000\"}, {\"ner_chunk\": \"Hyperlipidemia\", \"begin\": 56, \"end\": 69, \"ner_label\": \"PROBLEM\", \"ner_confidence\": \"0.9989\", \"hcc_code\": \"0\", \"hcc_resolution\": \"hyperlipidemia [hyperlipidemia, unspecified]\", \"hcc_confidence\": \"0.9960\"}, {\"ner_chunk\": \"elevated cholesterol levels\", \"begin\": 141, \"end\": 167, \"ner_label\": \"PROBLEM\", \"ner_confidence\": \"0.89603335\", \"hcc_code\": \"0\", \"hcc_resolution\": \"serum cholesterol raised [abnormal levels of other serum enzymes]\", \"hcc_confidence\": \"1.0000\"}, {\"ner_chunk\": \"occasional chest pain\", \"begin\": 194, \"end\": 214, \"ner_label\": \"PROBLEM\", \"ner_confidence\": \"0.95759994\", \"hcc_code\": \"0\", \"hcc_resolution\": \"localised chest pain [pain, unspecified]\", \"hcc_confidence\": \"0.8106\"}]}\n",
      "{\"predictions\": [{\"ner_chunk\": \"Congestive Heart Failure\", \"begin\": 57, \"end\": 80, \"ner_label\": \"PROBLEM\", \"ner_confidence\": \"0.9709\", \"hcc_code\": \"0\", \"hcc_resolution\": \"chronic congestive heart failure [right heart failure]\", \"hcc_confidence\": \"0.8506\"}, {\"ner_chunk\": \"Atrial Fibrillation\", \"begin\": 86, \"end\": 104, \"ner_label\": \"PROBLEM\", \"ner_confidence\": \"0.99665\", \"hcc_code\": \"0\", \"hcc_resolution\": \"atrial fibrillation [unspecified atrial fibrillation and atrial flutter]\", \"hcc_confidence\": \"0.9712\"}]}\n"
     ]
    }
   ],
   "source": [
    "data = process_data_and_invoke_realtime_endpoint(input_jsonl_data, content_type=\"application/jsonlines\" , accept=\"application/jsonlines\" )\n",
    "print(data)"
   ]
  },
  {
   "cell_type": "markdown",
   "metadata": {},
   "source": [
    "### C. Delete the endpoint"
   ]
  },
  {
   "cell_type": "markdown",
   "metadata": {},
   "source": [
    "Now that you have successfully performed a real-time inference, you do not need the endpoint any more. You can terminate the endpoint to avoid being charged."
   ]
  },
  {
   "cell_type": "code",
   "execution_count": 12,
   "metadata": {
    "tags": []
   },
   "outputs": [],
   "source": [
    "model.sagemaker_session.delete_endpoint(model_name)\n",
    "model.sagemaker_session.delete_endpoint_config(model_name)"
   ]
  },
  {
   "cell_type": "markdown",
   "metadata": {
    "tags": []
   },
   "source": [
    "## 3. Batch inference"
   ]
  },
  {
   "cell_type": "code",
   "execution_count": 13,
   "metadata": {
    "tags": []
   },
   "outputs": [],
   "source": [
    "import json\n",
    "import os\n",
    "\n",
    "input_dir = 'inputs/batch'\n",
    "json_input_dir = f\"{input_dir}/json\"\n",
    "jsonl_input_dir = f\"{input_dir}/jsonl\"\n",
    "\n",
    "output_dir = 'outputs/batch'\n",
    "json_output_dir = f\"{output_dir}/json\"\n",
    "jsonl_output_dir = f\"{output_dir}/jsonl\"\n",
    "\n",
    "os.makedirs(json_input_dir, exist_ok=True)\n",
    "os.makedirs(jsonl_input_dir, exist_ok=True)\n",
    "os.makedirs(json_output_dir, exist_ok=True)\n",
    "os.makedirs(jsonl_output_dir, exist_ok=True)\n",
    "\n",
    "validation_json_file_name = \"input.json\"\n",
    "\n",
    "validation_jsonl_file_name = \"input.jsonl\"\n",
    "\n",
    "validation_input_json_path = f\"s3://{s3_bucket}/{model_name}/validation-input/batch/json/\"\n",
    "validation_output_json_path = f\"s3://{s3_bucket}/{model_name}/validation-output/batch/json/\"\n",
    "\n",
    "validation_input_jsonl_path = f\"s3://{s3_bucket}/{model_name}/validation-input/batch/jsonl/\"\n",
    "validation_output_jsonl_path = f\"s3://{s3_bucket}/{model_name}/validation-output/batch/jsonl/\"\n",
    "\n",
    "def write_and_upload_to_s3(input_data, file_name):\n",
    "    file_format = os.path.splitext(file_name)[1].lower()\n",
    "    if file_format == \".json\":\n",
    "        input_data = json.dumps(input_data)\n",
    "\n",
    "    with open(file_name, \"w\") as f:\n",
    "        f.write(input_data)\n",
    "\n",
    "    s3_client.put_object(\n",
    "        Bucket=s3_bucket,\n",
    "        Key=f\"{model_name}/validation-input/batch/{file_format[1:]}/{os.path.basename(file_name)}\",\n",
    "        Body=(bytes(input_data.encode(\"UTF-8\"))),\n",
    "    )"
   ]
  },
  {
   "cell_type": "code",
   "execution_count": 14,
   "metadata": {
    "tags": []
   },
   "outputs": [],
   "source": [
    "input_jsonl_data = create_jsonl(docs)\n",
    "input_json_data = {\"text\": docs}\n",
    "\n",
    "write_and_upload_to_s3(input_json_data, f\"{json_input_dir}/{validation_json_file_name}\")\n",
    "\n",
    "write_and_upload_to_s3(input_jsonl_data, f\"{jsonl_input_dir}/{validation_jsonl_file_name}\")"
   ]
  },
  {
   "cell_type": "markdown",
   "metadata": {},
   "source": [
    "### JSON"
   ]
  },
  {
   "cell_type": "code",
   "execution_count": null,
   "metadata": {
    "tags": []
   },
   "outputs": [],
   "source": [
    "# Initialize a SageMaker Transformer object for making predictions\n",
    "transformer = model.transformer(\n",
    "    instance_count=1,\n",
    "    instance_type=batch_transform_inference_instance_type,\n",
    "    accept=\"application/json\",\n",
    "    output_path=validation_output_json_path\n",
    ")\n",
    "\n",
    "transformer.transform(validation_input_json_path, content_type=\"application/json\")\n",
    "transformer.wait()"
   ]
  },
  {
   "cell_type": "code",
   "execution_count": 16,
   "metadata": {
    "tags": []
   },
   "outputs": [],
   "source": [
    "from urllib.parse import urlparse\n",
    "\n",
    "def process_s3_json_output_and_save(validation_file_name):\n",
    "\n",
    "    output_file_path = f\"{json_output_dir}/{validation_file_name}.out\"\n",
    "    parsed_url = urlparse(transformer.output_path)\n",
    "    file_key = f\"{parsed_url.path[1:]}{validation_file_name}.out\"\n",
    "    response = s3_client.get_object(Bucket=s3_bucket, Key=file_key)\n",
    "\n",
    "    data = json.loads(response[\"Body\"].read().decode(\"utf-8\"))\n",
    "    df = pd.DataFrame(data[\"predictions\"])\n",
    "    display(df)\n",
    "\n",
    "    # Save the data to the output file\n",
    "    with open(output_file_path, 'w') as f_out:\n",
    "        json.dump(data, f_out, indent=4)"
   ]
  },
  {
   "cell_type": "code",
   "execution_count": 17,
   "metadata": {
    "tags": []
   },
   "outputs": [
    {
     "data": {
      "text/html": [
       "<div>\n",
       "<style scoped>\n",
       "    .dataframe tbody tr th:only-of-type {\n",
       "        vertical-align: middle;\n",
       "    }\n",
       "\n",
       "    .dataframe tbody tr th {\n",
       "        vertical-align: top;\n",
       "    }\n",
       "\n",
       "    .dataframe thead th {\n",
       "        text-align: right;\n",
       "    }\n",
       "</style>\n",
       "<table border=\"1\" class=\"dataframe\">\n",
       "  <thead>\n",
       "    <tr style=\"text-align: right;\">\n",
       "      <th></th>\n",
       "      <th>document</th>\n",
       "      <th>ner_chunk</th>\n",
       "      <th>begin</th>\n",
       "      <th>end</th>\n",
       "      <th>ner_label</th>\n",
       "      <th>ner_confidence</th>\n",
       "      <th>hcc_code</th>\n",
       "      <th>hcc_resolution</th>\n",
       "      <th>hcc_confidence</th>\n",
       "    </tr>\n",
       "  </thead>\n",
       "  <tbody>\n",
       "    <tr>\n",
       "      <th>0</th>\n",
       "      <td>The patient presents with a history of Hypertension and Hyperlipidemia, which have been managed with medication. Recent lab results indicate elevated cholesterol levels, and the patient reports occasional chest pain.</td>\n",
       "      <td>Hypertension</td>\n",
       "      <td>39</td>\n",
       "      <td>50</td>\n",
       "      <td>PROBLEM</td>\n",
       "      <td>0.9841</td>\n",
       "      <td>0</td>\n",
       "      <td>hypertension [essential (primary) hypertension]</td>\n",
       "      <td>1.0000</td>\n",
       "    </tr>\n",
       "    <tr>\n",
       "      <th>1</th>\n",
       "      <td>The patient presents with a history of Hypertension and Hyperlipidemia, which have been managed with medication. Recent lab results indicate elevated cholesterol levels, and the patient reports occasional chest pain.</td>\n",
       "      <td>Hyperlipidemia</td>\n",
       "      <td>56</td>\n",
       "      <td>69</td>\n",
       "      <td>PROBLEM</td>\n",
       "      <td>0.9989</td>\n",
       "      <td>0</td>\n",
       "      <td>hyperlipidemia [hyperlipidemia, unspecified]</td>\n",
       "      <td>0.9960</td>\n",
       "    </tr>\n",
       "    <tr>\n",
       "      <th>2</th>\n",
       "      <td>The patient presents with a history of Hypertension and Hyperlipidemia, which have been managed with medication. Recent lab results indicate elevated cholesterol levels, and the patient reports occasional chest pain.</td>\n",
       "      <td>elevated cholesterol levels</td>\n",
       "      <td>141</td>\n",
       "      <td>167</td>\n",
       "      <td>PROBLEM</td>\n",
       "      <td>0.89603335</td>\n",
       "      <td>0</td>\n",
       "      <td>serum cholesterol raised [abnormal levels of other serum enzymes]</td>\n",
       "      <td>1.0000</td>\n",
       "    </tr>\n",
       "    <tr>\n",
       "      <th>3</th>\n",
       "      <td>The patient presents with a history of Hypertension and Hyperlipidemia, which have been managed with medication. Recent lab results indicate elevated cholesterol levels, and the patient reports occasional chest pain.</td>\n",
       "      <td>occasional chest pain</td>\n",
       "      <td>194</td>\n",
       "      <td>214</td>\n",
       "      <td>PROBLEM</td>\n",
       "      <td>0.95759994</td>\n",
       "      <td>0</td>\n",
       "      <td>localised chest pain [pain, unspecified]</td>\n",
       "      <td>0.8106</td>\n",
       "    </tr>\n",
       "    <tr>\n",
       "      <th>4</th>\n",
       "      <td>Upon examination, the patient was found to have signs of Congestive Heart Failure and Atrial Fibrillation. The patient's condition requires immediate attention and an adjustment of their current treatment plan.</td>\n",
       "      <td>Congestive Heart Failure</td>\n",
       "      <td>57</td>\n",
       "      <td>80</td>\n",
       "      <td>PROBLEM</td>\n",
       "      <td>0.9709</td>\n",
       "      <td>0</td>\n",
       "      <td>chronic congestive heart failure [right heart failure]</td>\n",
       "      <td>0.8506</td>\n",
       "    </tr>\n",
       "    <tr>\n",
       "      <th>5</th>\n",
       "      <td>Upon examination, the patient was found to have signs of Congestive Heart Failure and Atrial Fibrillation. The patient's condition requires immediate attention and an adjustment of their current treatment plan.</td>\n",
       "      <td>Atrial Fibrillation</td>\n",
       "      <td>86</td>\n",
       "      <td>104</td>\n",
       "      <td>PROBLEM</td>\n",
       "      <td>0.99665</td>\n",
       "      <td>0</td>\n",
       "      <td>atrial fibrillation [unspecified atrial fibrillation and atrial flutter]</td>\n",
       "      <td>0.9712</td>\n",
       "    </tr>\n",
       "  </tbody>\n",
       "</table>\n",
       "</div>"
      ],
      "text/plain": [
       "                                                                                                                                                                                                                   document  \\\n",
       "0  The patient presents with a history of Hypertension and Hyperlipidemia, which have been managed with medication. Recent lab results indicate elevated cholesterol levels, and the patient reports occasional chest pain.   \n",
       "1  The patient presents with a history of Hypertension and Hyperlipidemia, which have been managed with medication. Recent lab results indicate elevated cholesterol levels, and the patient reports occasional chest pain.   \n",
       "2  The patient presents with a history of Hypertension and Hyperlipidemia, which have been managed with medication. Recent lab results indicate elevated cholesterol levels, and the patient reports occasional chest pain.   \n",
       "3  The patient presents with a history of Hypertension and Hyperlipidemia, which have been managed with medication. Recent lab results indicate elevated cholesterol levels, and the patient reports occasional chest pain.   \n",
       "4        Upon examination, the patient was found to have signs of Congestive Heart Failure and Atrial Fibrillation. The patient's condition requires immediate attention and an adjustment of their current treatment plan.   \n",
       "5        Upon examination, the patient was found to have signs of Congestive Heart Failure and Atrial Fibrillation. The patient's condition requires immediate attention and an adjustment of their current treatment plan.   \n",
       "\n",
       "                     ner_chunk  begin  end ner_label ner_confidence hcc_code  \\\n",
       "0                 Hypertension     39   50   PROBLEM         0.9841        0   \n",
       "1               Hyperlipidemia     56   69   PROBLEM         0.9989        0   \n",
       "2  elevated cholesterol levels    141  167   PROBLEM     0.89603335        0   \n",
       "3        occasional chest pain    194  214   PROBLEM     0.95759994        0   \n",
       "4     Congestive Heart Failure     57   80   PROBLEM         0.9709        0   \n",
       "5          Atrial Fibrillation     86  104   PROBLEM        0.99665        0   \n",
       "\n",
       "                                                             hcc_resolution  \\\n",
       "0                           hypertension [essential (primary) hypertension]   \n",
       "1                              hyperlipidemia [hyperlipidemia, unspecified]   \n",
       "2         serum cholesterol raised [abnormal levels of other serum enzymes]   \n",
       "3                                  localised chest pain [pain, unspecified]   \n",
       "4                    chronic congestive heart failure [right heart failure]   \n",
       "5  atrial fibrillation [unspecified atrial fibrillation and atrial flutter]   \n",
       "\n",
       "  hcc_confidence  \n",
       "0         1.0000  \n",
       "1         0.9960  \n",
       "2         1.0000  \n",
       "3         0.8106  \n",
       "4         0.8506  \n",
       "5         0.9712  "
      ]
     },
     "metadata": {},
     "output_type": "display_data"
    }
   ],
   "source": [
    "process_s3_json_output_and_save(validation_json_file_name)"
   ]
  },
  {
   "cell_type": "markdown",
   "metadata": {},
   "source": [
    "### JSON Lines"
   ]
  },
  {
   "cell_type": "code",
   "execution_count": null,
   "metadata": {
    "tags": []
   },
   "outputs": [],
   "source": [
    "transformer = model.transformer(\n",
    "    instance_count=1,\n",
    "    instance_type=batch_transform_inference_instance_type,\n",
    "    accept=\"application/jsonlines\",\n",
    "    output_path=validation_output_jsonl_path\n",
    ")\n",
    "transformer.transform(validation_input_jsonl_path, content_type=\"application/jsonlines\")\n",
    "transformer.wait()"
   ]
  },
  {
   "cell_type": "code",
   "execution_count": 19,
   "metadata": {
    "tags": []
   },
   "outputs": [],
   "source": [
    "from urllib.parse import urlparse\n",
    "\n",
    "def process_s3_jsonlines_output_and_save(validation_file_name):\n",
    "\n",
    "    output_file_path = f\"{jsonl_output_dir}/{validation_file_name}.out\"\n",
    "    parsed_url = urlparse(transformer.output_path)\n",
    "    file_key = f\"{parsed_url.path[1:]}{validation_file_name}.out\"\n",
    "    response = s3_client.get_object(Bucket=s3_bucket, Key=file_key)\n",
    "\n",
    "    data = response[\"Body\"].read().decode(\"utf-8\")\n",
    "    print(data)\n",
    "\n",
    "    # Save the data to the output file\n",
    "    with open(output_file_path, 'w') as f_out:\n",
    "        for item in data.split('\\n'):\n",
    "            f_out.write(item + '\\n')"
   ]
  },
  {
   "cell_type": "code",
   "execution_count": 20,
   "metadata": {
    "tags": []
   },
   "outputs": [
    {
     "name": "stdout",
     "output_type": "stream",
     "text": [
      "{\"predictions\": [{\"ner_chunk\": \"Hypertension\", \"begin\": 39, \"end\": 50, \"ner_label\": \"PROBLEM\", \"ner_confidence\": \"0.9841\", \"hcc_code\": \"0\", \"hcc_resolution\": \"hypertension [essential (primary) hypertension]\", \"hcc_confidence\": \"1.0000\"}, {\"ner_chunk\": \"Hyperlipidemia\", \"begin\": 56, \"end\": 69, \"ner_label\": \"PROBLEM\", \"ner_confidence\": \"0.9989\", \"hcc_code\": \"0\", \"hcc_resolution\": \"hyperlipidemia [hyperlipidemia, unspecified]\", \"hcc_confidence\": \"0.9960\"}, {\"ner_chunk\": \"elevated cholesterol levels\", \"begin\": 141, \"end\": 167, \"ner_label\": \"PROBLEM\", \"ner_confidence\": \"0.89603335\", \"hcc_code\": \"0\", \"hcc_resolution\": \"serum cholesterol raised [abnormal levels of other serum enzymes]\", \"hcc_confidence\": \"1.0000\"}, {\"ner_chunk\": \"occasional chest pain\", \"begin\": 194, \"end\": 214, \"ner_label\": \"PROBLEM\", \"ner_confidence\": \"0.95759994\", \"hcc_code\": \"0\", \"hcc_resolution\": \"localised chest pain [pain, unspecified]\", \"hcc_confidence\": \"0.8106\"}]}\n",
      "{\"predictions\": [{\"ner_chunk\": \"Congestive Heart Failure\", \"begin\": 57, \"end\": 80, \"ner_label\": \"PROBLEM\", \"ner_confidence\": \"0.9709\", \"hcc_code\": \"0\", \"hcc_resolution\": \"chronic congestive heart failure [right heart failure]\", \"hcc_confidence\": \"0.8506\"}, {\"ner_chunk\": \"Atrial Fibrillation\", \"begin\": 86, \"end\": 104, \"ner_label\": \"PROBLEM\", \"ner_confidence\": \"0.99665\", \"hcc_code\": \"0\", \"hcc_resolution\": \"atrial fibrillation [unspecified atrial fibrillation and atrial flutter]\", \"hcc_confidence\": \"0.9712\"}]}\n"
     ]
    }
   ],
   "source": [
    "process_s3_jsonlines_output_and_save(validation_jsonl_file_name)"
   ]
  },
  {
   "cell_type": "code",
   "execution_count": 21,
   "metadata": {
    "tags": []
   },
   "outputs": [
    {
     "name": "stderr",
     "output_type": "stream",
     "text": [
      "INFO:sagemaker:Deleting model with name: hcc-resolver-pipeline-2024-06-07-13-57-32-326\n"
     ]
    }
   ],
   "source": [
    "model.delete_model()"
   ]
  },
  {
   "cell_type": "markdown",
   "metadata": {},
   "source": [
    "### Unsubscribe to the listing (optional)"
   ]
  },
  {
   "cell_type": "markdown",
   "metadata": {
    "tags": []
   },
   "source": [
    "If you would like to unsubscribe to the model package, follow these steps. Before you cancel the subscription, ensure that you do not have any [deployable model](https://console.aws.amazon.com/sagemaker/home#/models) created from the model package or using the algorithm. Note - You can find this information by looking at the container name associated with the model. \n",
    "\n",
    "**Steps to unsubscribe to product from AWS Marketplace**:\n",
    "1. Navigate to __Machine Learning__ tab on [__Your Software subscriptions page__](https://aws.amazon.com/marketplace/ai/library?productType=ml&ref_=mlmp_gitdemo_indust)\n",
    "2. Locate the listing that you want to cancel the subscription for, and then choose __Cancel Subscription__  to cancel the subscription.\n",
    "\n"
   ]
  }
 ],
 "metadata": {
  "instance_type": "ml.t3.medium",
  "kernelspec": {
   "display_name": "conda_python3",
   "language": "python",
   "name": "conda_python3"
  },
  "language_info": {
   "codemirror_mode": {
    "name": "ipython",
    "version": 3
   },
   "file_extension": ".py",
   "mimetype": "text/x-python",
   "name": "python",
   "nbconvert_exporter": "python",
   "pygments_lexer": "ipython3",
   "version": "3.10.14"
  }
 },
 "nbformat": 4,
 "nbformat_minor": 4
}

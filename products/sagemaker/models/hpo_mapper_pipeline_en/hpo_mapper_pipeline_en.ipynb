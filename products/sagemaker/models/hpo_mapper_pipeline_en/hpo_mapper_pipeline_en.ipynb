{
 "cells": [
  {
   "cell_type": "markdown",
   "metadata": {},
   "source": [
    "## 1. Subscribe to the model package"
   ]
  },
  {
   "cell_type": "markdown",
   "metadata": {},
   "source": [
    "To subscribe to the model package:\n",
    "1. Open the model package listing page <font color='red'> For Seller to update:[Title_of_your_product](Provide link to your marketplace listing of your product).</font>\n",
    "1. On the AWS Marketplace listing, click on the **Continue to subscribe** button.\n",
    "1. On the **Subscribe to this software** page, review and click on **\"Accept Offer\"** if you and your organization agrees with EULA, pricing, and support terms. \n",
    "1. Once you click on **Continue to configuration button** and then choose a **region**, you will see a **Product Arn** displayed. This is the model package ARN that you need to specify while creating a deployable model using Boto3. Copy the ARN corresponding to your region and specify the same in the following cell."
   ]
  },
  {
   "cell_type": "markdown",
   "metadata": {},
   "source": [
    "## Extract and Map Human phenotype ontology entities to HPO codes\n",
    "\n",
    "- **Model**: [hpo_mapper_pipeline_en](https://nlp.johnsnowlabs.com/2025/05/02/hpo_mapper_pipeline_en.html)\n",
    "- **Model Description**: This pipeline is designed to map extracted phenotype entities from clinical or biomedical text to their corresponding Human Phenotype Ontology (HPO) codes. It ensures that observed symptoms, signs, and clinical abnormalities are standardized using HPO terminology."
   ]
  },
  {
   "cell_type": "code",
   "execution_count": 4,
   "metadata": {
    "tags": []
   },
   "outputs": [],
   "source": [
    "model_package_arn = \"<Customer to specify Model package ARN corresponding to their AWS region>\""
   ]
  },
  {
   "cell_type": "code",
   "execution_count": 5,
   "metadata": {
    "tags": []
   },
   "outputs": [],
   "source": [
    "import json\n",
    "import os\n",
    "import boto3\n",
    "import pandas as pd\n",
    "import sagemaker as sage\n",
    "from sagemaker import ModelPackage\n",
    "from sagemaker import get_execution_role\n",
    "from IPython.display import display\n",
    "from urllib.parse import urlparse\n"
   ]
  },
  {
   "cell_type": "code",
   "execution_count": 6,
   "metadata": {
    "tags": []
   },
   "outputs": [],
   "source": [
    "sagemaker_session = sage.Session()\n",
    "s3_bucket = sagemaker_session.default_bucket()\n",
    "region = sagemaker_session.boto_region_name\n",
    "account_id = boto3.client(\"sts\").get_caller_identity().get(\"Account\")\n",
    "role = get_execution_role()\n",
    "\n",
    "sagemaker = boto3.client(\"sagemaker\")\n",
    "s3_client = sagemaker_session.boto_session.client(\"s3\")\n",
    "ecr = boto3.client(\"ecr\")\n",
    "sm_runtime = boto3.client(\"sagemaker-runtime\")\n",
    "\n",
    "# Set display options\n",
    "pd.set_option('display.max_rows', None)\n",
    "pd.set_option('display.max_columns', None)\n",
    "pd.set_option('display.max_colwidth', None)"
   ]
  },
  {
   "cell_type": "code",
   "execution_count": 7,
   "metadata": {
    "tags": []
   },
   "outputs": [],
   "source": [
    "model_name = \"hpo-mapper-pipeline-en\"\n",
    "\n",
    "real_time_inference_instance_type = \"ml.m4.xlarge\"\n",
    "batch_transform_inference_instance_type = \"ml.m4.2xlarge\""
   ]
  },
  {
   "cell_type": "markdown",
   "metadata": {},
   "source": [
    "## 2. Create a deployable model from the model package."
   ]
  },
  {
   "cell_type": "code",
   "execution_count": 8,
   "metadata": {
    "tags": []
   },
   "outputs": [],
   "source": [
    "model = ModelPackage(\n",
    "    role=role, \n",
    "    model_package_arn=model_package_arn,\n",
    "    sagemaker_session=sagemaker_session,\n",
    ")"
   ]
  },
  {
   "cell_type": "markdown",
   "metadata": {},
   "source": [
    "### Input Format\n",
    "\n",
    "To use the model, you need to provide input in one of the following supported formats:\n",
    "\n",
    "#### JSON Format\n",
    "\n",
    "Provide input as JSON. We support two variations within this format:\n",
    "\n",
    "1. **Array of Text Documents**: \n",
    "   Use an array containing multiple text documents. Each element represents a separate text document.\n",
    "\n",
    "   ```json\n",
    "   {\n",
    "       \"text\": [\n",
    "           \"Text document 1\",\n",
    "           \"Text document 2\",\n",
    "           ...\n",
    "       ]\n",
    "   }\n",
    "\n",
    "    ```\n",
    "\n",
    "2. **Single Text Document**:\n",
    "   Provide a single text document as a string.\n",
    "\n",
    "\n",
    "   ```json\n",
    "    {\n",
    "        \"text\": \"Single text document\"\n",
    "    }\n",
    "   ```\n",
    "\n",
    "#### JSON Lines (JSONL) Format\n",
    "\n",
    "Provide input in JSON Lines format, where each line is a JSON object representing a text document.\n",
    "\n",
    "```\n",
    "{\"text\": \"Text document 1\"}\n",
    "{\"text\": \"Text document 2\"}\n",
    "```"
   ]
  },
  {
   "cell_type": "markdown",
   "metadata": {},
   "source": [
    "## 3. Create an endpoint and perform real-time inference"
   ]
  },
  {
   "cell_type": "markdown",
   "metadata": {},
   "source": [
    "If you want to understand how real-time inference with Amazon SageMaker works, see [Documentation](https://docs.aws.amazon.com/sagemaker/latest/dg/how-it-works-hosting.html)."
   ]
  },
  {
   "cell_type": "markdown",
   "metadata": {},
   "source": [
    "### A. Deploy the SageMaker model to an endpoint"
   ]
  },
  {
   "cell_type": "code",
   "execution_count": 9,
   "metadata": {
    "tags": []
   },
   "outputs": [
    {
     "name": "stdout",
     "output_type": "stream",
     "text": [
      "---------!"
     ]
    }
   ],
   "source": [
    "predictor = model.deploy(\n",
    "    initial_instance_count=1,\n",
    "    instance_type=real_time_inference_instance_type, \n",
    "    endpoint_name=model_name,\n",
    ")"
   ]
  },
  {
   "cell_type": "markdown",
   "metadata": {},
   "source": [
    "Once endpoint has been created, you would be able to perform real-time inference."
   ]
  },
  {
   "cell_type": "code",
   "execution_count": 10,
   "metadata": {
    "tags": []
   },
   "outputs": [],
   "source": [
    "def invoke_realtime_endpoint(record, content_type=\"application/json\", accept=\"application/json\"):\n",
    "    response = sm_runtime.invoke_endpoint(\n",
    "        EndpointName=model_name,\n",
    "        ContentType=content_type,\n",
    "        Accept=accept,\n",
    "        Body=json.dumps(record) if content_type == \"application/json\" else record,\n",
    "    )\n",
    "\n",
    "    response_body = response[\"Body\"].read().decode(\"utf-8\")\n",
    "\n",
    "    if accept == \"application/json\":\n",
    "        return json.loads(response_body)\n",
    "    elif accept == \"application/jsonlines\":\n",
    "        return response_body\n",
    "    else:\n",
    "        raise ValueError(f\"Unsupported accept type: {accept}\")"
   ]
  },
  {
   "cell_type": "markdown",
   "metadata": {},
   "source": [
    "### Initial Setup"
   ]
  },
  {
   "cell_type": "code",
   "execution_count": 11,
   "metadata": {
    "tags": []
   },
   "outputs": [],
   "source": [
    "docs = docs = [\n",
    "    \"\"\"HPI: A 69-year-old white female with a history of depression, anxiety, admitted to the ABCD Hospital on February 6, 2007, for shortness of breath. The patient was consulted by Psychiatry for anxiety. I know this patient from a previous consult. During this recent admission, she was given Ativan 0.25 mg on a p.r.n. basis with relief after one to two hours. The patient was seen by Abc, MD, and Def, Ph.D. PAST MEDICAL HISTORY: The patient has a history of hypertension, hypothyroidism, cholelithiasis, Port-A-Cath placement, and hydronephrosis.\"\"\",\n",
    "    \"\"\"A 5-month-old boy brought by his parents because of 2 days of cough. Mother took him when cough started 2 days go to Clinic. But cough got worse and he also started having fever yesterday at night. Mother did not measure it. REVIEW OF SYSTEMS: No vomiting. No diarrhea. No skin rash. No cyanosis.\"\"\"\n",
    "]\n",
    "\n",
    "sample_text = \"\"\"APNEA: Presumed apnea of prematurity since < 34 wks gestation at birth.\n",
    "HYPERBILIRUBINEMIA: At risk for hyperbilirubinemia d/t prematurity.\n",
    "1/25-1/30: Received Amp/Gent while undergoing sepsis evaluation.\"\"\""
   ]
  },
  {
   "cell_type": "markdown",
   "metadata": {},
   "source": [
    "### JSON"
   ]
  },
  {
   "cell_type": "code",
   "execution_count": 12,
   "metadata": {
    "tags": []
   },
   "outputs": [
    {
     "data": {
      "text/html": [
       "<div>\n",
       "<style scoped>\n",
       "    .dataframe tbody tr th:only-of-type {\n",
       "        vertical-align: middle;\n",
       "    }\n",
       "\n",
       "    .dataframe tbody tr th {\n",
       "        vertical-align: top;\n",
       "    }\n",
       "\n",
       "    .dataframe thead th {\n",
       "        text-align: right;\n",
       "    }\n",
       "</style>\n",
       "<table border=\"1\" class=\"dataframe\">\n",
       "  <thead>\n",
       "    <tr style=\"text-align: right;\">\n",
       "      <th></th>\n",
       "      <th>ner_chunk</th>\n",
       "      <th>begin</th>\n",
       "      <th>end</th>\n",
       "      <th>ner_label</th>\n",
       "      <th>assertion</th>\n",
       "      <th>assertion_confidence</th>\n",
       "      <th>code</th>\n",
       "    </tr>\n",
       "  </thead>\n",
       "  <tbody>\n",
       "    <tr>\n",
       "      <th>0</th>\n",
       "      <td>apnea</td>\n",
       "      <td>16</td>\n",
       "      <td>20</td>\n",
       "      <td>HPO</td>\n",
       "      <td>possible</td>\n",
       "      <td>0.5552</td>\n",
       "      <td>HP:0002104</td>\n",
       "    </tr>\n",
       "    <tr>\n",
       "      <th>1</th>\n",
       "      <td>hyperbilirubinemia</td>\n",
       "      <td>91</td>\n",
       "      <td>108</td>\n",
       "      <td>HPO</td>\n",
       "      <td>present</td>\n",
       "      <td>0.8931</td>\n",
       "      <td>HP:0002904</td>\n",
       "    </tr>\n",
       "    <tr>\n",
       "      <th>2</th>\n",
       "      <td>sepsis</td>\n",
       "      <td>167</td>\n",
       "      <td>172</td>\n",
       "      <td>HPO</td>\n",
       "      <td>present</td>\n",
       "      <td>0.9881</td>\n",
       "      <td>HP:0100806</td>\n",
       "    </tr>\n",
       "  </tbody>\n",
       "</table>\n",
       "</div>"
      ],
      "text/plain": [
       "            ner_chunk  begin  end ner_label assertion assertion_confidence  \\\n",
       "0               apnea     16   20       HPO  possible               0.5552   \n",
       "1  hyperbilirubinemia     91  108       HPO   present               0.8931   \n",
       "2              sepsis    167  172       HPO   present               0.9881   \n",
       "\n",
       "         code  \n",
       "0  HP:0002104  \n",
       "1  HP:0002904  \n",
       "2  HP:0100806  "
      ]
     },
     "execution_count": 12,
     "metadata": {},
     "output_type": "execute_result"
    }
   ],
   "source": [
    "input_json_data = {\"text\": sample_text}\n",
    "response_json = invoke_realtime_endpoint(input_json_data, content_type=\"application/json\", accept=\"application/json\")\n",
    "pd.DataFrame(response_json[\"predictions\"][0])"
   ]
  },
  {
   "cell_type": "markdown",
   "metadata": {},
   "source": [
    "### JSON Lines"
   ]
  },
  {
   "cell_type": "code",
   "execution_count": 13,
   "metadata": {
    "tags": []
   },
   "outputs": [],
   "source": [
    "def create_jsonl(records):\n",
    "    if isinstance(records, str):\n",
    "        records = [records]\n",
    "    json_records = [{\"text\": text} for text in records]\n",
    "    json_lines = \"\\n\".join(json.dumps(record) for record in json_records)\n",
    "    return json_lines"
   ]
  },
  {
   "cell_type": "code",
   "execution_count": 14,
   "metadata": {
    "tags": []
   },
   "outputs": [
    {
     "name": "stdout",
     "output_type": "stream",
     "text": [
      "{\"predictions\": [{\"ner_chunk\": \"apnea\", \"begin\": 16, \"end\": 20, \"ner_label\": \"HPO\", \"assertion\": \"possible\", \"assertion_confidence\": \"0.5552\", \"code\": \"HP:0002104\"}, {\"ner_chunk\": \"hyperbilirubinemia\", \"begin\": 91, \"end\": 108, \"ner_label\": \"HPO\", \"assertion\": \"present\", \"assertion_confidence\": \"0.8931\", \"code\": \"HP:0002904\"}, {\"ner_chunk\": \"sepsis\", \"begin\": 167, \"end\": 172, \"ner_label\": \"HPO\", \"assertion\": \"present\", \"assertion_confidence\": \"0.9881\", \"code\": \"HP:0100806\"}]}\n"
     ]
    }
   ],
   "source": [
    "input_jsonl_data = create_jsonl(sample_text)\n",
    "data = invoke_realtime_endpoint(input_jsonl_data, content_type=\"application/jsonlines\" , accept=\"application/jsonlines\" )\n",
    "print(data)"
   ]
  },
  {
   "cell_type": "markdown",
   "metadata": {},
   "source": [
    "### B. Delete the endpoint"
   ]
  },
  {
   "cell_type": "markdown",
   "metadata": {},
   "source": [
    "Now that you have successfully performed a real-time inference, you do not need the endpoint any more. You can terminate the endpoint to avoid being charged."
   ]
  },
  {
   "cell_type": "code",
   "execution_count": 15,
   "metadata": {
    "tags": []
   },
   "outputs": [],
   "source": [
    "model.sagemaker_session.delete_endpoint(model_name)\n",
    "model.sagemaker_session.delete_endpoint_config(model_name)"
   ]
  },
  {
   "cell_type": "markdown",
   "metadata": {
    "tags": []
   },
   "source": [
    "## 4. Batch inference"
   ]
  },
  {
   "cell_type": "code",
   "execution_count": 16,
   "metadata": {
    "tags": []
   },
   "outputs": [],
   "source": [
    "validation_json_file_name = \"input.json\"\n",
    "validation_jsonl_file_name = \"input.jsonl\"\n",
    "\n",
    "validation_input_json_path = f\"s3://{s3_bucket}/{model_name}/validation-input/json/\"\n",
    "validation_output_json_path = f\"s3://{s3_bucket}/{model_name}/validation-output/json/\"\n",
    "\n",
    "validation_input_jsonl_path = f\"s3://{s3_bucket}/{model_name}/validation-input/jsonl/\"\n",
    "validation_output_jsonl_path = f\"s3://{s3_bucket}/{model_name}/validation-output/jsonl/\"\n",
    "\n",
    "def upload_to_s3(input_data, file_name):\n",
    "    file_format = os.path.splitext(file_name)[1].lower()\n",
    "    s3_client.put_object(\n",
    "        Bucket=s3_bucket,\n",
    "        Key=f\"{model_name}/validation-input/{file_format[1:]}/{file_name}\",\n",
    "        Body=input_data.encode(\"UTF-8\"),\n",
    "    )"
   ]
  },
  {
   "cell_type": "code",
   "execution_count": 17,
   "metadata": {
    "tags": []
   },
   "outputs": [],
   "source": [
    "# Create JSON and JSON Lines data\n",
    "input_jsonl_data = create_jsonl(docs)\n",
    "input_json_data = json.dumps({\"text\": docs})\n",
    "\n",
    "# Upload JSON and JSON Lines data to S3\n",
    "upload_to_s3(input_json_data, validation_json_file_name)\n",
    "upload_to_s3(input_jsonl_data, validation_jsonl_file_name)"
   ]
  },
  {
   "cell_type": "markdown",
   "metadata": {
    "tags": []
   },
   "source": [
    "### JSON"
   ]
  },
  {
   "cell_type": "code",
   "execution_count": null,
   "metadata": {
    "tags": []
   },
   "outputs": [],
   "source": [
    "transformer = model.transformer(\n",
    "    instance_count=1,\n",
    "    instance_type=batch_transform_inference_instance_type,\n",
    "    accept=\"application/json\",\n",
    "    output_path=validation_output_json_path\n",
    ")\n",
    "\n",
    "transformer.transform(validation_input_json_path, content_type=\"application/json\")\n",
    "transformer.wait()"
   ]
  },
  {
   "cell_type": "code",
   "execution_count": 19,
   "metadata": {
    "tags": []
   },
   "outputs": [],
   "source": [
    "def retrieve_json_output_from_s3(validation_file_name):\n",
    "    parsed_url = urlparse(transformer.output_path)\n",
    "    file_key = f\"{parsed_url.path[1:]}{validation_file_name}.out\"\n",
    "    response = s3_client.get_object(Bucket=s3_bucket, Key=file_key)\n",
    "\n",
    "    data = json.loads(response[\"Body\"].read().decode(\"utf-8\"))\n",
    "    display(data)"
   ]
  },
  {
   "cell_type": "code",
   "execution_count": 20,
   "metadata": {
    "tags": []
   },
   "outputs": [
    {
     "data": {
      "text/plain": [
       "{'predictions': [[{'ner_chunk': 'depression',\n",
       "    'begin': 38,\n",
       "    'end': 47,\n",
       "    'ner_label': 'HPO',\n",
       "    'assertion': 'present',\n",
       "    'assertion_confidence': '0.9998',\n",
       "    'code': 'HP:0000716'},\n",
       "   {'ner_chunk': 'anxiety',\n",
       "    'begin': 50,\n",
       "    'end': 56,\n",
       "    'ner_label': 'HPO',\n",
       "    'assertion': 'present',\n",
       "    'assertion_confidence': '0.9999',\n",
       "    'code': 'HP:0000739'},\n",
       "   {'ner_chunk': 'anxiety',\n",
       "    'begin': 147,\n",
       "    'end': 153,\n",
       "    'ner_label': 'HPO',\n",
       "    'assertion': 'present',\n",
       "    'assertion_confidence': '0.9894',\n",
       "    'code': 'HP:0000739'},\n",
       "   {'ner_chunk': 'hypertension',\n",
       "    'begin': 332,\n",
       "    'end': 343,\n",
       "    'ner_label': 'HPO',\n",
       "    'assertion': 'present',\n",
       "    'assertion_confidence': '0.9998',\n",
       "    'code': 'HP:0000822'},\n",
       "   {'ner_chunk': 'hypothyroidism',\n",
       "    'begin': 346,\n",
       "    'end': 359,\n",
       "    'ner_label': 'HPO',\n",
       "    'assertion': 'present',\n",
       "    'assertion_confidence': '0.9991',\n",
       "    'code': 'HP:0000821'},\n",
       "   {'ner_chunk': 'cholelithiasis',\n",
       "    'begin': 362,\n",
       "    'end': 375,\n",
       "    'ner_label': 'HPO',\n",
       "    'assertion': 'present',\n",
       "    'assertion_confidence': '0.9884',\n",
       "    'code': 'HP:0001081'},\n",
       "   {'ner_chunk': 'hydronephrosis',\n",
       "    'begin': 401,\n",
       "    'end': 414,\n",
       "    'ner_label': 'HPO',\n",
       "    'assertion': 'present',\n",
       "    'assertion_confidence': '0.8432',\n",
       "    'code': 'HP:0000126'}],\n",
       "  [{'ner_chunk': 'cough',\n",
       "    'begin': 39,\n",
       "    'end': 43,\n",
       "    'ner_label': 'HPO',\n",
       "    'assertion': 'present',\n",
       "    'assertion_confidence': '0.8757',\n",
       "    'code': 'HP:0012735'},\n",
       "   {'ner_chunk': 'cough',\n",
       "    'begin': 58,\n",
       "    'end': 62,\n",
       "    'ner_label': 'HPO',\n",
       "    'assertion': 'present',\n",
       "    'assertion_confidence': '0.7881',\n",
       "    'code': 'HP:0012735'},\n",
       "   {'ner_chunk': 'cough',\n",
       "    'begin': 90,\n",
       "    'end': 94,\n",
       "    'ner_label': 'HPO',\n",
       "    'assertion': 'present',\n",
       "    'assertion_confidence': '0.9723',\n",
       "    'code': 'HP:0012735'},\n",
       "   {'ner_chunk': 'fever',\n",
       "    'begin': 119,\n",
       "    'end': 123,\n",
       "    'ner_label': 'HPO',\n",
       "    'assertion': 'present',\n",
       "    'assertion_confidence': '0.8807',\n",
       "    'code': 'HP:0001945'},\n",
       "   {'ner_chunk': 'vomiting',\n",
       "    'begin': 182,\n",
       "    'end': 189,\n",
       "    'ner_label': 'HPO',\n",
       "    'assertion': 'absent',\n",
       "    'assertion_confidence': '0.9975',\n",
       "    'code': 'HP:0002013'},\n",
       "   {'ner_chunk': 'diarrhea',\n",
       "    'begin': 195,\n",
       "    'end': 202,\n",
       "    'ner_label': 'HPO',\n",
       "    'assertion': 'absent',\n",
       "    'assertion_confidence': '0.9987',\n",
       "    'code': 'HP:0002014'},\n",
       "   {'ner_chunk': 'skin rash',\n",
       "    'begin': 208,\n",
       "    'end': 216,\n",
       "    'ner_label': 'HPO',\n",
       "    'assertion': 'absent',\n",
       "    'assertion_confidence': '0.9998',\n",
       "    'code': 'HP:0000988'},\n",
       "   {'ner_chunk': 'cyanosis',\n",
       "    'begin': 222,\n",
       "    'end': 229,\n",
       "    'ner_label': 'HPO',\n",
       "    'assertion': 'absent',\n",
       "    'assertion_confidence': '0.9998',\n",
       "    'code': 'HP:0000961'}]]}"
      ]
     },
     "metadata": {},
     "output_type": "display_data"
    }
   ],
   "source": [
    "retrieve_json_output_from_s3(validation_json_file_name)"
   ]
  },
  {
   "cell_type": "markdown",
   "metadata": {},
   "source": [
    "### JSON Lines"
   ]
  },
  {
   "cell_type": "code",
   "execution_count": null,
   "metadata": {
    "tags": []
   },
   "outputs": [],
   "source": [
    "transformer = model.transformer(\n",
    "    instance_count=1,\n",
    "    instance_type=batch_transform_inference_instance_type,\n",
    "    accept=\"application/jsonlines\",\n",
    "    output_path=validation_output_jsonl_path\n",
    ")\n",
    "transformer.transform(validation_input_jsonl_path, content_type=\"application/jsonlines\")\n",
    "transformer.wait()"
   ]
  },
  {
   "cell_type": "code",
   "execution_count": 22,
   "metadata": {
    "tags": []
   },
   "outputs": [],
   "source": [
    "def retrieve_jsonlines_output_from_s3(validation_file_name):\n",
    "\n",
    "    parsed_url = urlparse(transformer.output_path)\n",
    "    file_key = f\"{parsed_url.path[1:]}{validation_file_name}.out\"\n",
    "    response = s3_client.get_object(Bucket=s3_bucket, Key=file_key)\n",
    "\n",
    "    data = response[\"Body\"].read().decode(\"utf-8\")\n",
    "    print(data)"
   ]
  },
  {
   "cell_type": "code",
   "execution_count": 23,
   "metadata": {
    "tags": []
   },
   "outputs": [
    {
     "name": "stdout",
     "output_type": "stream",
     "text": [
      "{\"predictions\": [{\"ner_chunk\": \"depression\", \"begin\": 38, \"end\": 47, \"ner_label\": \"HPO\", \"assertion\": \"present\", \"assertion_confidence\": \"0.9998\", \"code\": \"HP:0000716\"}, {\"ner_chunk\": \"anxiety\", \"begin\": 50, \"end\": 56, \"ner_label\": \"HPO\", \"assertion\": \"present\", \"assertion_confidence\": \"0.9999\", \"code\": \"HP:0000739\"}, {\"ner_chunk\": \"anxiety\", \"begin\": 147, \"end\": 153, \"ner_label\": \"HPO\", \"assertion\": \"present\", \"assertion_confidence\": \"0.9894\", \"code\": \"HP:0000739\"}, {\"ner_chunk\": \"hypertension\", \"begin\": 332, \"end\": 343, \"ner_label\": \"HPO\", \"assertion\": \"present\", \"assertion_confidence\": \"0.9998\", \"code\": \"HP:0000822\"}, {\"ner_chunk\": \"hypothyroidism\", \"begin\": 346, \"end\": 359, \"ner_label\": \"HPO\", \"assertion\": \"present\", \"assertion_confidence\": \"0.9991\", \"code\": \"HP:0000821\"}, {\"ner_chunk\": \"cholelithiasis\", \"begin\": 362, \"end\": 375, \"ner_label\": \"HPO\", \"assertion\": \"present\", \"assertion_confidence\": \"0.9884\", \"code\": \"HP:0001081\"}, {\"ner_chunk\": \"hydronephrosis\", \"begin\": 401, \"end\": 414, \"ner_label\": \"HPO\", \"assertion\": \"present\", \"assertion_confidence\": \"0.8432\", \"code\": \"HP:0000126\"}]}\n",
      "{\"predictions\": [{\"ner_chunk\": \"cough\", \"begin\": 39, \"end\": 43, \"ner_label\": \"HPO\", \"assertion\": \"present\", \"assertion_confidence\": \"0.8757\", \"code\": \"HP:0012735\"}, {\"ner_chunk\": \"cough\", \"begin\": 58, \"end\": 62, \"ner_label\": \"HPO\", \"assertion\": \"present\", \"assertion_confidence\": \"0.7881\", \"code\": \"HP:0012735\"}, {\"ner_chunk\": \"cough\", \"begin\": 90, \"end\": 94, \"ner_label\": \"HPO\", \"assertion\": \"present\", \"assertion_confidence\": \"0.9723\", \"code\": \"HP:0012735\"}, {\"ner_chunk\": \"fever\", \"begin\": 119, \"end\": 123, \"ner_label\": \"HPO\", \"assertion\": \"present\", \"assertion_confidence\": \"0.8807\", \"code\": \"HP:0001945\"}, {\"ner_chunk\": \"vomiting\", \"begin\": 182, \"end\": 189, \"ner_label\": \"HPO\", \"assertion\": \"absent\", \"assertion_confidence\": \"0.9975\", \"code\": \"HP:0002013\"}, {\"ner_chunk\": \"diarrhea\", \"begin\": 195, \"end\": 202, \"ner_label\": \"HPO\", \"assertion\": \"absent\", \"assertion_confidence\": \"0.9987\", \"code\": \"HP:0002014\"}, {\"ner_chunk\": \"skin rash\", \"begin\": 208, \"end\": 216, \"ner_label\": \"HPO\", \"assertion\": \"absent\", \"assertion_confidence\": \"0.9998\", \"code\": \"HP:0000988\"}, {\"ner_chunk\": \"cyanosis\", \"begin\": 222, \"end\": 229, \"ner_label\": \"HPO\", \"assertion\": \"absent\", \"assertion_confidence\": \"0.9998\", \"code\": \"HP:0000961\"}]}\n"
     ]
    }
   ],
   "source": [
    "retrieve_jsonlines_output_from_s3(validation_jsonl_file_name)"
   ]
  },
  {
   "cell_type": "code",
   "execution_count": 24,
   "metadata": {
    "tags": []
   },
   "outputs": [
    {
     "name": "stderr",
     "output_type": "stream",
     "text": [
      "INFO:sagemaker:Deleting model with name: hpo-mapper-pipeline-en-2025-06-09-09-05-17-973\n"
     ]
    }
   ],
   "source": [
    "model.delete_model()"
   ]
  },
  {
   "cell_type": "markdown",
   "metadata": {},
   "source": [
    "### Unsubscribe to the listing (optional)"
   ]
  },
  {
   "cell_type": "markdown",
   "metadata": {
    "tags": []
   },
   "source": [
    "If you would like to unsubscribe to the model package, follow these steps. Before you cancel the subscription, ensure that you do not have any [deployable model](https://console.aws.amazon.com/sagemaker/home#/models) created from the model package or using the algorithm. Note - You can find this information by looking at the container name associated with the model. \n",
    "\n",
    "**Steps to unsubscribe to product from AWS Marketplace**:\n",
    "1. Navigate to __Machine Learning__ tab on [__Your Software subscriptions page__](https://aws.amazon.com/marketplace/ai/library?productType=ml&ref_=mlmp_gitdemo_indust)\n",
    "2. Locate the listing that you want to cancel the subscription for, and then choose __Cancel Subscription__  to cancel the subscription.\n",
    "\n"
   ]
  }
 ],
 "metadata": {
  "instance_type": "ml.t3.medium",
  "kernelspec": {
   "display_name": "conda_python3",
   "language": "python",
   "name": "conda_python3"
  },
  "language_info": {
   "codemirror_mode": {
    "name": "ipython",
    "version": 3
   },
   "file_extension": ".py",
   "mimetype": "text/x-python",
   "name": "python",
   "nbconvert_exporter": "python",
   "pygments_lexer": "ipython3",
   "version": "3.10.18"
  }
 },
 "nbformat": 4,
 "nbformat_minor": 4
}

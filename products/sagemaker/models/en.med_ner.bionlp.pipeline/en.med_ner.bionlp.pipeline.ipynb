{
 "cells": [
  {
   "cell_type": "markdown",
   "metadata": {},
   "source": [
    "## 1. Subscribe to the model package"
   ]
  },
  {
   "cell_type": "markdown",
   "metadata": {},
   "source": [
    "To subscribe to the model package:\n",
    "1. Open the model package listing page [Detect Cancer Genetics](https://aws.amazon.com/marketplace/pp/prodview-ju5im2hqfk4bo)\n",
    "1. On the AWS Marketplace listing, click on the **Continue to subscribe** button.\n",
    "1. On the **Subscribe to this software** page, review and click on **\"Accept Offer\"** if you and your organization agrees with EULA, pricing, and support terms. \n",
    "1. Once you click on **Continue to configuration button** and then choose a **region**, you will see a **Product Arn** displayed. This is the model package ARN that you need to specify while creating a deployable model using Boto3. Copy the ARN corresponding to your region and specify the same in the following cell."
   ]
  },
  {
   "cell_type": "markdown",
   "metadata": {},
   "source": [
    "## Detect Cancer Genetics\n",
    "\n",
    "\n",
    "- **Model**: `en.med_ner.bionlp.pipeline`\n",
    "- **Model Description**: Pretrained named entity recognition pipeline for biology and genetics terms.\n",
    "- **Predicted Entities:** `Amino_acid`, `Anatomical_system`, `Cancer`, `Cell`, `Cellular_component`, `Developing_anatomical_structure`, `Gene_or_gene_product`, `Immaterial_anatomical_entity`, `Multi-tissue_structure`, `Organ`, `Organism`, `Organism_subdivision`, `Organism_substance`, `Pathological_formation`, `Simple_chemical`, `Tissue`"
   ]
  },
  {
   "cell_type": "code",
   "execution_count": 1,
   "metadata": {
    "tags": []
   },
   "outputs": [],
   "source": [
    "model_package_arn = \"<Customer to specify Model package ARN corresponding to their AWS region>\""
   ]
  },
  {
   "cell_type": "code",
   "execution_count": null,
   "metadata": {
    "tags": []
   },
   "outputs": [],
   "source": [
    "import base64\n",
    "import json\n",
    "import uuid\n",
    "from sagemaker import ModelPackage\n",
    "import sagemaker as sage\n",
    "from sagemaker import get_execution_role\n",
    "import boto3\n",
    "from IPython.display import Image, display\n",
    "from PIL import Image as ImageEdit\n",
    "import numpy as np"
   ]
  },
  {
   "cell_type": "code",
   "execution_count": null,
   "metadata": {
    "tags": []
   },
   "outputs": [],
   "source": [
    "sagemaker_session = sage.Session()\n",
    "s3_bucket = sagemaker_session.default_bucket()\n",
    "region = sagemaker_session.boto_region_name\n",
    "account_id = boto3.client(\"sts\").get_caller_identity().get(\"Account\")\n",
    "role = get_execution_role()\n",
    "\n",
    "sagemaker = boto3.client(\"sagemaker\")\n",
    "s3_client = sagemaker_session.boto_session.client(\"s3\")\n",
    "ecr = boto3.client(\"ecr\")\n",
    "sm_runtime = boto3.client(\"sagemaker-runtime\")"
   ]
  },
  {
   "cell_type": "code",
   "execution_count": 4,
   "metadata": {
    "tags": []
   },
   "outputs": [],
   "source": [
    "model_name = \"en-med-ner-bionlp-pipeline\"\n",
    "\n",
    "real_time_inference_instance_type = \"ml.m4.xlarge\"\n",
    "batch_transform_inference_instance_type = \"ml.m4.2xlarge\""
   ]
  },
  {
   "cell_type": "markdown",
   "metadata": {},
   "source": [
    "## 2. Create a deployable model from the model package."
   ]
  },
  {
   "cell_type": "code",
   "execution_count": 5,
   "metadata": {
    "tags": []
   },
   "outputs": [],
   "source": [
    "# create a deployable model from the model package.\n",
    "model = ModelPackage(\n",
    "    role=role, \n",
    "    model_package_arn=model_package_arn,\n",
    "    sagemaker_session=sagemaker_session,\n",
    ")\n"
   ]
  },
  {
   "cell_type": "markdown",
   "metadata": {},
   "source": [
    "### Input Format\n",
    "\n",
    "To use the model, you need to provide input in one of the following supported formats:\n",
    "\n",
    "#### JSON Format\n",
    "\n",
    "Provide input as JSON. We support two variations within this format:\n",
    "\n",
    "1. **Array of Text Documents**: \n",
    "   Use an array containing multiple text documents. Each element represents a separate text document.\n",
    "\n",
    "   ```json\n",
    "   {\n",
    "       \"text\": [\n",
    "           \"Text document 1\",\n",
    "           \"Text document 2\",\n",
    "           ...\n",
    "       ]\n",
    "   }\n",
    "\n",
    "    ```\n",
    "\n",
    "2. **Single Text Document**:\n",
    "   Provide a single text document as a string.\n",
    "\n",
    "\n",
    "   ```json\n",
    "    {\n",
    "        \"text\": \"Single text document\"\n",
    "    }\n",
    "   ```\n",
    "\n",
    "#### JSON Lines (JSONL) Format\n",
    "\n",
    "Provide input in JSON Lines format, where each line is a JSON object representing a text document.\n",
    "\n",
    "```\n",
    "{\"text\": \"Text document 1\"}\n",
    "{\"text\": \"Text document 2\"}\n",
    "```"
   ]
  },
  {
   "cell_type": "markdown",
   "metadata": {},
   "source": [
    "## 3. Create an endpoint and perform real-time inference"
   ]
  },
  {
   "cell_type": "markdown",
   "metadata": {},
   "source": [
    "If you want to understand how real-time inference with Amazon SageMaker works, see [Documentation](https://docs.aws.amazon.com/sagemaker/latest/dg/how-it-works-hosting.html)."
   ]
  },
  {
   "cell_type": "markdown",
   "metadata": {},
   "source": [
    "### A. Deploy the SageMaker model to an endpoint"
   ]
  },
  {
   "cell_type": "code",
   "execution_count": 6,
   "metadata": {
    "tags": []
   },
   "outputs": [
    {
     "data": {
      "text/html": [
       "<pre style=\"white-space:pre;overflow-x:auto;line-height:normal;font-family:Menlo,'DejaVu Sans Mono',consolas,'Courier New',monospace\"><span style=\"color: #7fbfbf; text-decoration-color: #7fbfbf\">[01/06/25 11:39:06] </span><span style=\"color: #0069ff; text-decoration-color: #0069ff; font-weight: bold\">INFO    </span> Creating model with name:                                              <a href=\"file:///home/ec2-user/anaconda3/envs/python3/lib/python3.10/site-packages/sagemaker/session.py\" target=\"_blank\"><span style=\"color: #7f7f7f; text-decoration-color: #7f7f7f\">session.py</span></a><span style=\"color: #7f7f7f; text-decoration-color: #7f7f7f\">:</span><a href=\"file:///home/ec2-user/anaconda3/envs/python3/lib/python3.10/site-packages/sagemaker/session.py#4094\" target=\"_blank\"><span style=\"color: #7f7f7f; text-decoration-color: #7f7f7f\">4094</span></a>\n",
       "<span style=\"color: #7fbfbf; text-decoration-color: #7fbfbf\">                    </span>         en-med-ner-bionlp-pipeline-<span style=\"color: #008080; text-decoration-color: #008080; font-weight: bold\">2025</span>-01-06-11-39-05-987                     <span style=\"color: #7f7f7f; text-decoration-color: #7f7f7f\">               </span>\n",
       "</pre>\n"
      ],
      "text/plain": [
       "\u001b[2;36m[01/06/25 11:39:06]\u001b[0m\u001b[2;36m \u001b[0m\u001b[1;38;2;0;105;255mINFO    \u001b[0m Creating model with name:                                              \u001b]8;id=808352;file:///home/ec2-user/anaconda3/envs/python3/lib/python3.10/site-packages/sagemaker/session.py\u001b\\\u001b[2msession.py\u001b[0m\u001b]8;;\u001b\\\u001b[2m:\u001b[0m\u001b]8;id=150045;file:///home/ec2-user/anaconda3/envs/python3/lib/python3.10/site-packages/sagemaker/session.py#4094\u001b\\\u001b[2m4094\u001b[0m\u001b]8;;\u001b\\\n",
       "\u001b[2;36m                    \u001b[0m         en-med-ner-bionlp-pipeline-\u001b[1;36m2025\u001b[0m-01-06-11-39-05-987                     \u001b[2m               \u001b[0m\n"
      ]
     },
     "metadata": {},
     "output_type": "display_data"
    },
    {
     "data": {
      "text/html": [
       "<pre style=\"white-space:pre;overflow-x:auto;line-height:normal;font-family:Menlo,'DejaVu Sans Mono',consolas,'Courier New',monospace\"><span style=\"color: #7fbfbf; text-decoration-color: #7fbfbf\">                    </span><span style=\"color: #0069ff; text-decoration-color: #0069ff; font-weight: bold\">INFO    </span> Creating endpoint-config with name en-med-ner-bionlp-pipeline          <a href=\"file:///home/ec2-user/anaconda3/envs/python3/lib/python3.10/site-packages/sagemaker/session.py\" target=\"_blank\"><span style=\"color: #7f7f7f; text-decoration-color: #7f7f7f\">session.py</span></a><span style=\"color: #7f7f7f; text-decoration-color: #7f7f7f\">:</span><a href=\"file:///home/ec2-user/anaconda3/envs/python3/lib/python3.10/site-packages/sagemaker/session.py#5889\" target=\"_blank\"><span style=\"color: #7f7f7f; text-decoration-color: #7f7f7f\">5889</span></a>\n",
       "</pre>\n"
      ],
      "text/plain": [
       "\u001b[2;36m                   \u001b[0m\u001b[2;36m \u001b[0m\u001b[1;38;2;0;105;255mINFO    \u001b[0m Creating endpoint-config with name en-med-ner-bionlp-pipeline          \u001b]8;id=866587;file:///home/ec2-user/anaconda3/envs/python3/lib/python3.10/site-packages/sagemaker/session.py\u001b\\\u001b[2msession.py\u001b[0m\u001b]8;;\u001b\\\u001b[2m:\u001b[0m\u001b]8;id=999660;file:///home/ec2-user/anaconda3/envs/python3/lib/python3.10/site-packages/sagemaker/session.py#5889\u001b\\\u001b[2m5889\u001b[0m\u001b]8;;\u001b\\\n"
      ]
     },
     "metadata": {},
     "output_type": "display_data"
    },
    {
     "data": {
      "text/html": [
       "<pre style=\"white-space:pre;overflow-x:auto;line-height:normal;font-family:Menlo,'DejaVu Sans Mono',consolas,'Courier New',monospace\"><span style=\"color: #7fbfbf; text-decoration-color: #7fbfbf\">                    </span><span style=\"color: #0069ff; text-decoration-color: #0069ff; font-weight: bold\">INFO    </span> Creating endpoint with name en-med-ner-bionlp-pipeline                 <a href=\"file:///home/ec2-user/anaconda3/envs/python3/lib/python3.10/site-packages/sagemaker/session.py\" target=\"_blank\"><span style=\"color: #7f7f7f; text-decoration-color: #7f7f7f\">session.py</span></a><span style=\"color: #7f7f7f; text-decoration-color: #7f7f7f\">:</span><a href=\"file:///home/ec2-user/anaconda3/envs/python3/lib/python3.10/site-packages/sagemaker/session.py#4711\" target=\"_blank\"><span style=\"color: #7f7f7f; text-decoration-color: #7f7f7f\">4711</span></a>\n",
       "</pre>\n"
      ],
      "text/plain": [
       "\u001b[2;36m                   \u001b[0m\u001b[2;36m \u001b[0m\u001b[1;38;2;0;105;255mINFO    \u001b[0m Creating endpoint with name en-med-ner-bionlp-pipeline                 \u001b]8;id=11706;file:///home/ec2-user/anaconda3/envs/python3/lib/python3.10/site-packages/sagemaker/session.py\u001b\\\u001b[2msession.py\u001b[0m\u001b]8;;\u001b\\\u001b[2m:\u001b[0m\u001b]8;id=587782;file:///home/ec2-user/anaconda3/envs/python3/lib/python3.10/site-packages/sagemaker/session.py#4711\u001b\\\u001b[2m4711\u001b[0m\u001b]8;;\u001b\\\n"
      ]
     },
     "metadata": {},
     "output_type": "display_data"
    },
    {
     "name": "stdout",
     "output_type": "stream",
     "text": [
      "-------!"
     ]
    }
   ],
   "source": [
    "# Deploy the model\n",
    "predictor = model.deploy(\n",
    "    initial_instance_count=1,\n",
    "    instance_type=real_time_inference_instance_type, \n",
    "    endpoint_name=model_name,\n",
    ")"
   ]
  },
  {
   "cell_type": "markdown",
   "metadata": {},
   "source": [
    "Once endpoint has been created, you would be able to perform real-time inference."
   ]
  },
  {
   "cell_type": "code",
   "execution_count": 7,
   "metadata": {
    "tags": []
   },
   "outputs": [],
   "source": [
    "import json\n",
    "import pandas as pd\n",
    "import os\n",
    "import boto3\n",
    "\n",
    "# Set display options\n",
    "pd.set_option('display.max_rows', None)\n",
    "pd.set_option('display.max_columns', None)\n",
    "pd.set_option('display.max_colwidth', None)\n",
    "\n",
    "\n",
    "def process_data_and_invoke_realtime_endpoint(data, content_type, accept):\n",
    "\n",
    "    content_type_to_format = {'application/json': 'json', 'application/jsonlines': 'jsonl'}\n",
    "    input_format = content_type_to_format.get(content_type)\n",
    "    if content_type not in content_type_to_format.keys() or accept not in content_type_to_format.keys():\n",
    "        raise ValueError(\"Invalid content_type or accept. It should be either 'application/json' or 'application/jsonlines'.\")\n",
    "\n",
    "    i = 1\n",
    "    input_dir = f'inputs/real-time/{input_format}'\n",
    "    output_dir = f'outputs/real-time/{input_format}'\n",
    "    s3_input_dir = f\"{model_name}/validation-input/real-time/{input_format}\"\n",
    "    s3_output_dir = f\"{model_name}/validation-output/real-time/{input_format}\"\n",
    "\n",
    "    input_file_name = f'{input_dir}/input{i}.{input_format}'\n",
    "    output_file_name = f'{output_dir}/{os.path.basename(input_file_name)}.out'\n",
    "\n",
    "    while os.path.exists(input_file_name) or os.path.exists(output_file_name):\n",
    "        i += 1\n",
    "        input_file_name = f'{input_dir}/input{i}.{input_format}'\n",
    "        output_file_name = f'{output_dir}/{os.path.basename(input_file_name)}.out'\n",
    "\n",
    "    os.makedirs(os.path.dirname(input_file_name), exist_ok=True)\n",
    "    os.makedirs(os.path.dirname(output_file_name), exist_ok=True)\n",
    "\n",
    "    input_data = json.dumps(data) if content_type == 'application/json' else data\n",
    "\n",
    "    # Write input data to file\n",
    "    with open(input_file_name, 'w') as f:\n",
    "        f.write(input_data)\n",
    "\n",
    "    # Upload input data to S3\n",
    "    s3_client.put_object(Bucket=s3_bucket, Key=f\"{s3_input_dir}/{os.path.basename(input_file_name)}\", Body=bytes(input_data.encode('UTF-8')))\n",
    "\n",
    "    # Invoke the SageMaker endpoint\n",
    "    response = sm_runtime.invoke_endpoint(\n",
    "        EndpointName=model_name,\n",
    "        ContentType=content_type,\n",
    "        Accept=accept,\n",
    "        Body=input_data,\n",
    "    )\n",
    "\n",
    "    # Read response data\n",
    "    response_data = json.loads(response[\"Body\"].read().decode(\"utf-8\")) if accept == 'application/json' else response['Body'].read().decode('utf-8')\n",
    "\n",
    "    # Save response data to file\n",
    "    with open(output_file_name, 'w') as f_out:\n",
    "        if accept == 'application/json':\n",
    "            json.dump(response_data, f_out, indent=4)\n",
    "        else:\n",
    "            for item in response_data.split('\\n'):\n",
    "                f_out.write(item + '\\n')\n",
    "\n",
    "    # Upload response data to S3\n",
    "    output_s3_key = f\"{s3_output_dir}/{os.path.basename(output_file_name)}\"\n",
    "    if accept == 'application/json':\n",
    "        s3_client.put_object(Bucket=s3_bucket, Key=output_s3_key, Body=json.dumps(response_data).encode('UTF-8'))\n",
    "    else:\n",
    "        s3_client.put_object(Bucket=s3_bucket, Key=output_s3_key, Body=response_data)\n",
    "\n",
    "    return response_data"
   ]
  },
  {
   "cell_type": "markdown",
   "metadata": {},
   "source": [
    "### Initial Setup"
   ]
  },
  {
   "cell_type": "code",
   "execution_count": 8,
   "metadata": {
    "tags": []
   },
   "outputs": [],
   "source": [
    "docs = [\n",
    "    '''Under loupe magnification, the lesion was excised with 2 mm margins, oriented with sutures and submitted for frozen section pathology. The report was \"basal cell carcinoma with all margins free of tumor.\" Hemostasis was controlled with the Bovie. Excised lesion diameter was 1.2 cm. The defect was closed by elevating a left laterally based rotation flap utilizing the glabellar skin. The flap was elevated with a scalpel and Bovie, rotated into the defect without tension, sutured to the defect with scissors and inset in layers with interrupted 5-0 Vicryl for the dermis and running 5-0 Prolene for the skin. Donor site was closed in V-Y fashion with similar suture technique.''',\n",
    "    '''The patient was admitted for symptoms that sounded like postictal state. He was initially taken to the hospital. CT showed edema and slight midline shift, and therefore he was transferred here. He has been seen by the Hospitalists Service. He has not experienced a recurrent seizure. Electroencephalogram shows slowing. MRI of the brain shows a large inhomogeneous infiltrating right frontotemporal neoplasm surrounding the right middle cerebral artery. There is inhomogeneous uptake consistent with possible necrosis. He also has had a SPECT image of his brain, consistent with neoplasm, suggesting a relatively high-grade neoplasm. The patient was diagnosed with a brain tumor in 1999. We do not yet have all the details. He underwent a biopsy by Dr. Y. One of the notes suggested that this was a glioma, likely an oligodendroglioma, pending a second opinion at Clinic. That is not available on the chart as I dictate.''',\n",
    "]\n",
    "\n",
    "\n",
    "sample_text = '''The human KCNJ9 (Kir 3.3, GIRK3) is a member of the G-protein-activated inwardly rectifying potassium (GIRK) channel family. Here we describe the genomic organization of the KCNJ9 locus on chromosome 1q21-23 as a candidate gene for Type II diabetes mellitus in the Pima Indian population. The gene spans approximately 7.6 kb and contains one noncoding and two coding exons separated by approximately 2.2 and approximately 2.6 kb introns, respectively. We identified 14 single nucleotide polymorphisms (SNPs), including one that predicts a Val366Ala substitution, and an 8 base-pair (bp) insertion/deletion. Our expression studies revealed the presence of the transcript in various human tissues including pancreas, and two major insulin-responsive tissues: fat and skeletal muscle. The characterization of the KCNJ9 gene should facilitate further studies on the function of the KCNJ9 protein and allow evaluation of the potential role of the locus in Type II diabetes.'''"
   ]
  },
  {
   "cell_type": "markdown",
   "metadata": {},
   "source": [
    "### JSON"
   ]
  },
  {
   "cell_type": "code",
   "execution_count": 9,
   "metadata": {
    "tags": []
   },
   "outputs": [
    {
     "data": {
      "text/html": [
       "<div>\n",
       "<style scoped>\n",
       "    .dataframe tbody tr th:only-of-type {\n",
       "        vertical-align: middle;\n",
       "    }\n",
       "\n",
       "    .dataframe tbody tr th {\n",
       "        vertical-align: top;\n",
       "    }\n",
       "\n",
       "    .dataframe thead th {\n",
       "        text-align: right;\n",
       "    }\n",
       "</style>\n",
       "<table border=\"1\" class=\"dataframe\">\n",
       "  <thead>\n",
       "    <tr style=\"text-align: right;\">\n",
       "      <th></th>\n",
       "      <th>ner_chunk</th>\n",
       "      <th>begin</th>\n",
       "      <th>end</th>\n",
       "      <th>ner_label</th>\n",
       "      <th>ner_confidence</th>\n",
       "    </tr>\n",
       "  </thead>\n",
       "  <tbody>\n",
       "    <tr>\n",
       "      <th>0</th>\n",
       "      <td>human</td>\n",
       "      <td>4</td>\n",
       "      <td>8</td>\n",
       "      <td>Organism</td>\n",
       "      <td>0.9996</td>\n",
       "    </tr>\n",
       "    <tr>\n",
       "      <th>1</th>\n",
       "      <td>Kir 3.3</td>\n",
       "      <td>17</td>\n",
       "      <td>23</td>\n",
       "      <td>Gene_or_gene_product</td>\n",
       "      <td>0.99635</td>\n",
       "    </tr>\n",
       "    <tr>\n",
       "      <th>2</th>\n",
       "      <td>GIRK3</td>\n",
       "      <td>26</td>\n",
       "      <td>30</td>\n",
       "      <td>Gene_or_gene_product</td>\n",
       "      <td>1.0</td>\n",
       "    </tr>\n",
       "    <tr>\n",
       "      <th>3</th>\n",
       "      <td>potassium</td>\n",
       "      <td>92</td>\n",
       "      <td>100</td>\n",
       "      <td>Simple_chemical</td>\n",
       "      <td>0.9452</td>\n",
       "    </tr>\n",
       "    <tr>\n",
       "      <th>4</th>\n",
       "      <td>GIRK</td>\n",
       "      <td>103</td>\n",
       "      <td>106</td>\n",
       "      <td>Gene_or_gene_product</td>\n",
       "      <td>0.998</td>\n",
       "    </tr>\n",
       "    <tr>\n",
       "      <th>5</th>\n",
       "      <td>chromosome 1q21-23</td>\n",
       "      <td>189</td>\n",
       "      <td>206</td>\n",
       "      <td>Cellular_component</td>\n",
       "      <td>0.80295</td>\n",
       "    </tr>\n",
       "    <tr>\n",
       "      <th>6</th>\n",
       "      <td>Type II</td>\n",
       "      <td>232</td>\n",
       "      <td>238</td>\n",
       "      <td>Gene_or_gene_product</td>\n",
       "      <td>0.9992</td>\n",
       "    </tr>\n",
       "    <tr>\n",
       "      <th>7</th>\n",
       "      <td>human</td>\n",
       "      <td>681</td>\n",
       "      <td>685</td>\n",
       "      <td>Organism</td>\n",
       "      <td>1.0</td>\n",
       "    </tr>\n",
       "    <tr>\n",
       "      <th>8</th>\n",
       "      <td>tissues</td>\n",
       "      <td>687</td>\n",
       "      <td>693</td>\n",
       "      <td>Tissue</td>\n",
       "      <td>0.9999</td>\n",
       "    </tr>\n",
       "    <tr>\n",
       "      <th>9</th>\n",
       "      <td>pancreas</td>\n",
       "      <td>705</td>\n",
       "      <td>712</td>\n",
       "      <td>Organ</td>\n",
       "      <td>0.9995</td>\n",
       "    </tr>\n",
       "    <tr>\n",
       "      <th>10</th>\n",
       "      <td>tissues</td>\n",
       "      <td>748</td>\n",
       "      <td>754</td>\n",
       "      <td>Tissue</td>\n",
       "      <td>0.954</td>\n",
       "    </tr>\n",
       "    <tr>\n",
       "      <th>11</th>\n",
       "      <td>fat</td>\n",
       "      <td>757</td>\n",
       "      <td>759</td>\n",
       "      <td>Tissue</td>\n",
       "      <td>1.0</td>\n",
       "    </tr>\n",
       "    <tr>\n",
       "      <th>12</th>\n",
       "      <td>skeletal muscle</td>\n",
       "      <td>765</td>\n",
       "      <td>779</td>\n",
       "      <td>Tissue</td>\n",
       "      <td>0.9737</td>\n",
       "    </tr>\n",
       "    <tr>\n",
       "      <th>13</th>\n",
       "      <td>KCNJ9</td>\n",
       "      <td>810</td>\n",
       "      <td>814</td>\n",
       "      <td>Gene_or_gene_product</td>\n",
       "      <td>0.937</td>\n",
       "    </tr>\n",
       "    <tr>\n",
       "      <th>14</th>\n",
       "      <td>Type II</td>\n",
       "      <td>951</td>\n",
       "      <td>957</td>\n",
       "      <td>Gene_or_gene_product</td>\n",
       "      <td>0.99745</td>\n",
       "    </tr>\n",
       "  </tbody>\n",
       "</table>\n",
       "</div>"
      ],
      "text/plain": [
       "             ner_chunk  begin  end             ner_label ner_confidence\n",
       "0                human      4    8              Organism         0.9996\n",
       "1              Kir 3.3     17   23  Gene_or_gene_product        0.99635\n",
       "2                GIRK3     26   30  Gene_or_gene_product            1.0\n",
       "3            potassium     92  100       Simple_chemical         0.9452\n",
       "4                 GIRK    103  106  Gene_or_gene_product          0.998\n",
       "5   chromosome 1q21-23    189  206    Cellular_component        0.80295\n",
       "6              Type II    232  238  Gene_or_gene_product         0.9992\n",
       "7                human    681  685              Organism            1.0\n",
       "8              tissues    687  693                Tissue         0.9999\n",
       "9             pancreas    705  712                 Organ         0.9995\n",
       "10             tissues    748  754                Tissue          0.954\n",
       "11                 fat    757  759                Tissue            1.0\n",
       "12     skeletal muscle    765  779                Tissue         0.9737\n",
       "13               KCNJ9    810  814  Gene_or_gene_product          0.937\n",
       "14             Type II    951  957  Gene_or_gene_product        0.99745"
      ]
     },
     "execution_count": 9,
     "metadata": {},
     "output_type": "execute_result"
    }
   ],
   "source": [
    "input_json_data = {\"text\": sample_text}\n",
    "data =  process_data_and_invoke_realtime_endpoint(input_json_data, content_type=\"application/json\" , accept=\"application/json\" )\n",
    "pd.DataFrame(data[\"predictions\"][0])"
   ]
  },
  {
   "cell_type": "markdown",
   "metadata": {},
   "source": [
    "### JSON Lines"
   ]
  },
  {
   "cell_type": "code",
   "execution_count": 10,
   "metadata": {
    "tags": []
   },
   "outputs": [],
   "source": [
    "import json\n",
    "\n",
    "def create_jsonl(records):\n",
    "\n",
    "    if isinstance(records, str):\n",
    "        records = [records]\n",
    "\n",
    "    json_records = []\n",
    "\n",
    "    for text in records:\n",
    "        record = {\n",
    "            \"text\": text\n",
    "        }\n",
    "        json_records.append(record)\n",
    "\n",
    "    json_lines = '\\n'.join(json.dumps(record) for record in json_records)\n",
    "\n",
    "    return json_lines"
   ]
  },
  {
   "cell_type": "code",
   "execution_count": 11,
   "metadata": {
    "tags": []
   },
   "outputs": [
    {
     "name": "stdout",
     "output_type": "stream",
     "text": [
      "{\"predictions\": [{\"ner_chunk\": \"human\", \"begin\": 4, \"end\": 8, \"ner_label\": \"Organism\", \"ner_confidence\": \"0.9996\"}, {\"ner_chunk\": \"Kir 3.3\", \"begin\": 17, \"end\": 23, \"ner_label\": \"Gene_or_gene_product\", \"ner_confidence\": \"0.99635\"}, {\"ner_chunk\": \"GIRK3\", \"begin\": 26, \"end\": 30, \"ner_label\": \"Gene_or_gene_product\", \"ner_confidence\": \"1.0\"}, {\"ner_chunk\": \"potassium\", \"begin\": 92, \"end\": 100, \"ner_label\": \"Simple_chemical\", \"ner_confidence\": \"0.9452\"}, {\"ner_chunk\": \"GIRK\", \"begin\": 103, \"end\": 106, \"ner_label\": \"Gene_or_gene_product\", \"ner_confidence\": \"0.998\"}, {\"ner_chunk\": \"chromosome 1q21-23\", \"begin\": 189, \"end\": 206, \"ner_label\": \"Cellular_component\", \"ner_confidence\": \"0.80295\"}, {\"ner_chunk\": \"Type II\", \"begin\": 232, \"end\": 238, \"ner_label\": \"Gene_or_gene_product\", \"ner_confidence\": \"0.9992\"}, {\"ner_chunk\": \"human\", \"begin\": 681, \"end\": 685, \"ner_label\": \"Organism\", \"ner_confidence\": \"1.0\"}, {\"ner_chunk\": \"tissues\", \"begin\": 687, \"end\": 693, \"ner_label\": \"Tissue\", \"ner_confidence\": \"0.9999\"}, {\"ner_chunk\": \"pancreas\", \"begin\": 705, \"end\": 712, \"ner_label\": \"Organ\", \"ner_confidence\": \"0.9995\"}, {\"ner_chunk\": \"tissues\", \"begin\": 748, \"end\": 754, \"ner_label\": \"Tissue\", \"ner_confidence\": \"0.954\"}, {\"ner_chunk\": \"fat\", \"begin\": 757, \"end\": 759, \"ner_label\": \"Tissue\", \"ner_confidence\": \"1.0\"}, {\"ner_chunk\": \"skeletal muscle\", \"begin\": 765, \"end\": 779, \"ner_label\": \"Tissue\", \"ner_confidence\": \"0.9737\"}, {\"ner_chunk\": \"KCNJ9\", \"begin\": 810, \"end\": 814, \"ner_label\": \"Gene_or_gene_product\", \"ner_confidence\": \"0.937\"}, {\"ner_chunk\": \"Type II\", \"begin\": 951, \"end\": 957, \"ner_label\": \"Gene_or_gene_product\", \"ner_confidence\": \"0.99745\"}]}\n"
     ]
    }
   ],
   "source": [
    "input_jsonl_data = create_jsonl(sample_text)\n",
    "data = process_data_and_invoke_realtime_endpoint(input_jsonl_data, content_type=\"application/jsonlines\" , accept=\"application/jsonlines\" )\n",
    "print(data)"
   ]
  },
  {
   "cell_type": "markdown",
   "metadata": {},
   "source": [
    "### B. Delete the endpoint"
   ]
  },
  {
   "cell_type": "markdown",
   "metadata": {},
   "source": [
    "Now that you have successfully performed a real-time inference, you do not need the endpoint any more. You can terminate the endpoint to avoid being charged."
   ]
  },
  {
   "cell_type": "code",
   "execution_count": 12,
   "metadata": {
    "tags": []
   },
   "outputs": [
    {
     "data": {
      "text/html": [
       "<pre style=\"white-space:pre;overflow-x:auto;line-height:normal;font-family:Menlo,'DejaVu Sans Mono',consolas,'Courier New',monospace\"><span style=\"color: #7fbfbf; text-decoration-color: #7fbfbf\">[01/06/25 11:43:10] </span><span style=\"color: #0069ff; text-decoration-color: #0069ff; font-weight: bold\">INFO    </span> Deleting endpoint with name: en-med-ner-bionlp-pipeline                <a href=\"file:///home/ec2-user/anaconda3/envs/python3/lib/python3.10/site-packages/sagemaker/session.py\" target=\"_blank\"><span style=\"color: #7f7f7f; text-decoration-color: #7f7f7f\">session.py</span></a><span style=\"color: #7f7f7f; text-decoration-color: #7f7f7f\">:</span><a href=\"file:///home/ec2-user/anaconda3/envs/python3/lib/python3.10/site-packages/sagemaker/session.py#4855\" target=\"_blank\"><span style=\"color: #7f7f7f; text-decoration-color: #7f7f7f\">4855</span></a>\n",
       "</pre>\n"
      ],
      "text/plain": [
       "\u001b[2;36m[01/06/25 11:43:10]\u001b[0m\u001b[2;36m \u001b[0m\u001b[1;38;2;0;105;255mINFO    \u001b[0m Deleting endpoint with name: en-med-ner-bionlp-pipeline                \u001b]8;id=331457;file:///home/ec2-user/anaconda3/envs/python3/lib/python3.10/site-packages/sagemaker/session.py\u001b\\\u001b[2msession.py\u001b[0m\u001b]8;;\u001b\\\u001b[2m:\u001b[0m\u001b]8;id=105553;file:///home/ec2-user/anaconda3/envs/python3/lib/python3.10/site-packages/sagemaker/session.py#4855\u001b\\\u001b[2m4855\u001b[0m\u001b]8;;\u001b\\\n"
      ]
     },
     "metadata": {},
     "output_type": "display_data"
    },
    {
     "data": {
      "text/html": [
       "<pre style=\"white-space:pre;overflow-x:auto;line-height:normal;font-family:Menlo,'DejaVu Sans Mono',consolas,'Courier New',monospace\"><span style=\"color: #7fbfbf; text-decoration-color: #7fbfbf\">[01/06/25 11:43:11] </span><span style=\"color: #0069ff; text-decoration-color: #0069ff; font-weight: bold\">INFO    </span> Deleting endpoint configuration with name: en-med-ner-bionlp-pipeline  <a href=\"file:///home/ec2-user/anaconda3/envs/python3/lib/python3.10/site-packages/sagemaker/session.py\" target=\"_blank\"><span style=\"color: #7f7f7f; text-decoration-color: #7f7f7f\">session.py</span></a><span style=\"color: #7f7f7f; text-decoration-color: #7f7f7f\">:</span><a href=\"file:///home/ec2-user/anaconda3/envs/python3/lib/python3.10/site-packages/sagemaker/session.py#4865\" target=\"_blank\"><span style=\"color: #7f7f7f; text-decoration-color: #7f7f7f\">4865</span></a>\n",
       "</pre>\n"
      ],
      "text/plain": [
       "\u001b[2;36m[01/06/25 11:43:11]\u001b[0m\u001b[2;36m \u001b[0m\u001b[1;38;2;0;105;255mINFO    \u001b[0m Deleting endpoint configuration with name: en-med-ner-bionlp-pipeline  \u001b]8;id=186957;file:///home/ec2-user/anaconda3/envs/python3/lib/python3.10/site-packages/sagemaker/session.py\u001b\\\u001b[2msession.py\u001b[0m\u001b]8;;\u001b\\\u001b[2m:\u001b[0m\u001b]8;id=562410;file:///home/ec2-user/anaconda3/envs/python3/lib/python3.10/site-packages/sagemaker/session.py#4865\u001b\\\u001b[2m4865\u001b[0m\u001b]8;;\u001b\\\n"
      ]
     },
     "metadata": {},
     "output_type": "display_data"
    }
   ],
   "source": [
    "model.sagemaker_session.delete_endpoint(model_name)\n",
    "model.sagemaker_session.delete_endpoint_config(model_name)"
   ]
  },
  {
   "cell_type": "markdown",
   "metadata": {
    "tags": []
   },
   "source": [
    "## 4. Batch inference"
   ]
  },
  {
   "cell_type": "code",
   "execution_count": 13,
   "metadata": {
    "tags": []
   },
   "outputs": [],
   "source": [
    "import json\n",
    "import os\n",
    "\n",
    "input_dir = 'inputs/batch'\n",
    "json_input_dir = f\"{input_dir}/json\"\n",
    "jsonl_input_dir = f\"{input_dir}/jsonl\"\n",
    "\n",
    "output_dir = 'outputs/batch'\n",
    "json_output_dir = f\"{output_dir}/json\"\n",
    "jsonl_output_dir = f\"{output_dir}/jsonl\"\n",
    "\n",
    "os.makedirs(json_input_dir, exist_ok=True)\n",
    "os.makedirs(jsonl_input_dir, exist_ok=True)\n",
    "os.makedirs(json_output_dir, exist_ok=True)\n",
    "os.makedirs(jsonl_output_dir, exist_ok=True)\n",
    "\n",
    "validation_json_file_name = \"input.json\"\n",
    "\n",
    "validation_jsonl_file_name = \"input.jsonl\"\n",
    "\n",
    "validation_input_json_path = f\"s3://{s3_bucket}/{model_name}/validation-input/batch/json/\"\n",
    "validation_output_json_path = f\"s3://{s3_bucket}/{model_name}/validation-output/batch/json/\"\n",
    "\n",
    "validation_input_jsonl_path = f\"s3://{s3_bucket}/{model_name}/validation-input/batch/jsonl/\"\n",
    "validation_output_jsonl_path = f\"s3://{s3_bucket}/{model_name}/validation-output/batch/jsonl/\"\n",
    "\n",
    "def write_and_upload_to_s3(input_data, file_name):\n",
    "    file_format = os.path.splitext(file_name)[1].lower()\n",
    "    if file_format == \".json\":\n",
    "        input_data = json.dumps(input_data)\n",
    "\n",
    "    with open(file_name, \"w\") as f:\n",
    "        f.write(input_data)\n",
    "\n",
    "    s3_client.put_object(\n",
    "        Bucket=s3_bucket,\n",
    "        Key=f\"{model_name}/validation-input/batch/{file_format[1:]}/{os.path.basename(file_name)}\",\n",
    "        Body=(bytes(input_data.encode(\"UTF-8\"))),\n",
    "    )"
   ]
  },
  {
   "cell_type": "code",
   "execution_count": 14,
   "metadata": {
    "tags": []
   },
   "outputs": [],
   "source": [
    "input_jsonl_data = create_jsonl(docs)\n",
    "input_json_data = {\"text\": docs}\n",
    "\n",
    "write_and_upload_to_s3(input_json_data, f\"{json_input_dir}/{validation_json_file_name}\")\n",
    "\n",
    "write_and_upload_to_s3(input_jsonl_data, f\"{jsonl_input_dir}/{validation_jsonl_file_name}\")"
   ]
  },
  {
   "cell_type": "markdown",
   "metadata": {},
   "source": [
    "### JSON"
   ]
  },
  {
   "cell_type": "code",
   "execution_count": null,
   "metadata": {
    "tags": []
   },
   "outputs": [],
   "source": [
    "# Initialize a SageMaker Transformer object for making predictions\n",
    "transformer = model.transformer(\n",
    "    instance_count=1,\n",
    "    instance_type=batch_transform_inference_instance_type,\n",
    "    accept=\"application/json\",\n",
    "    output_path=validation_output_json_path\n",
    ")\n",
    "\n",
    "transformer.transform(validation_input_json_path, content_type=\"application/json\")\n",
    "transformer.wait()"
   ]
  },
  {
   "cell_type": "code",
   "execution_count": 16,
   "metadata": {
    "tags": []
   },
   "outputs": [],
   "source": [
    "from urllib.parse import urlparse\n",
    "\n",
    "def process_s3_json_output_and_save(validation_file_name):\n",
    "\n",
    "    output_file_path = f\"{json_output_dir}/{validation_file_name}.out\"\n",
    "    parsed_url = urlparse(transformer.output_path)\n",
    "    file_key = f\"{parsed_url.path[1:]}{validation_file_name}.out\"\n",
    "    response = s3_client.get_object(Bucket=s3_bucket, Key=file_key)\n",
    "\n",
    "    data = json.loads(response[\"Body\"].read().decode(\"utf-8\"))\n",
    "    display(data)\n",
    "\n",
    "    # Save the data to the output file\n",
    "    with open(output_file_path, 'w') as f_out:\n",
    "        json.dump(data, f_out, indent=4)"
   ]
  },
  {
   "cell_type": "code",
   "execution_count": 17,
   "metadata": {
    "tags": []
   },
   "outputs": [
    {
     "data": {
      "text/plain": [
       "{'predictions': [[{'ner_chunk': 'lesion',\n",
       "    'begin': 31,\n",
       "    'end': 36,\n",
       "    'ner_label': 'Pathological_formation',\n",
       "    'ner_confidence': '1.0'},\n",
       "   {'ner_chunk': 'basal cell carcinoma',\n",
       "    'begin': 151,\n",
       "    'end': 170,\n",
       "    'ner_label': 'Cancer',\n",
       "    'ner_confidence': '0.9991333'},\n",
       "   {'ner_chunk': 'tumor',\n",
       "    'begin': 197,\n",
       "    'end': 201,\n",
       "    'ner_label': 'Cancer',\n",
       "    'ner_confidence': '0.9999'},\n",
       "   {'ner_chunk': 'lesion',\n",
       "    'begin': 255,\n",
       "    'end': 260,\n",
       "    'ner_label': 'Pathological_formation',\n",
       "    'ner_confidence': '0.5082'},\n",
       "   {'ner_chunk': 'glabellar skin',\n",
       "    'begin': 369,\n",
       "    'end': 382,\n",
       "    'ner_label': 'Organ',\n",
       "    'ner_confidence': '0.79815'},\n",
       "   {'ner_chunk': 'flap',\n",
       "    'begin': 389,\n",
       "    'end': 392,\n",
       "    'ner_label': 'Tissue',\n",
       "    'ner_confidence': '0.9869'},\n",
       "   {'ner_chunk': 'dermis',\n",
       "    'begin': 566,\n",
       "    'end': 571,\n",
       "    'ner_label': 'Tissue',\n",
       "    'ner_confidence': '0.9969'},\n",
       "   {'ner_chunk': 'skin',\n",
       "    'begin': 605,\n",
       "    'end': 608,\n",
       "    'ner_label': 'Organ',\n",
       "    'ner_confidence': '0.9997'}],\n",
       "  [{'ner_chunk': 'patient',\n",
       "    'begin': 4,\n",
       "    'end': 10,\n",
       "    'ner_label': 'Organism',\n",
       "    'ner_confidence': '1.0'},\n",
       "   {'ner_chunk': 'He',\n",
       "    'begin': 73,\n",
       "    'end': 74,\n",
       "    'ner_label': 'Organism',\n",
       "    'ner_confidence': '0.5813'},\n",
       "   {'ner_chunk': 'edema',\n",
       "    'begin': 123,\n",
       "    'end': 127,\n",
       "    'ner_label': 'Pathological_formation',\n",
       "    'ner_confidence': '0.9999'},\n",
       "   {'ner_chunk': 'He',\n",
       "    'begin': 194,\n",
       "    'end': 195,\n",
       "    'ner_label': 'Organism',\n",
       "    'ner_confidence': '0.5297'},\n",
       "   {'ner_chunk': 'He',\n",
       "    'begin': 240,\n",
       "    'end': 241,\n",
       "    'ner_label': 'Organism',\n",
       "    'ner_confidence': '0.6873'},\n",
       "   {'ner_chunk': 'brain',\n",
       "    'begin': 331,\n",
       "    'end': 335,\n",
       "    'ner_label': 'Organ',\n",
       "    'ner_confidence': '0.9998'},\n",
       "   {'ner_chunk': 'right frontotemporal neoplasm',\n",
       "    'begin': 378,\n",
       "    'end': 406,\n",
       "    'ner_label': 'Cancer',\n",
       "    'ner_confidence': '0.88069993'},\n",
       "   {'ner_chunk': 'middle cerebral artery',\n",
       "    'begin': 430,\n",
       "    'end': 451,\n",
       "    'ner_label': 'Multi-tissue_structure',\n",
       "    'ner_confidence': '0.8303333'},\n",
       "   {'ner_chunk': 'He',\n",
       "    'begin': 519,\n",
       "    'end': 520,\n",
       "    'ner_label': 'Simple_chemical',\n",
       "    'ner_confidence': '0.4607'},\n",
       "   {'ner_chunk': 'brain',\n",
       "    'begin': 556,\n",
       "    'end': 560,\n",
       "    'ner_label': 'Organ',\n",
       "    'ner_confidence': '0.9983'},\n",
       "   {'ner_chunk': 'neoplasm',\n",
       "    'begin': 579,\n",
       "    'end': 586,\n",
       "    'ner_label': 'Cancer',\n",
       "    'ner_confidence': '0.9997'},\n",
       "   {'ner_chunk': 'neoplasm',\n",
       "    'begin': 624,\n",
       "    'end': 631,\n",
       "    'ner_label': 'Cancer',\n",
       "    'ner_confidence': '0.9998'},\n",
       "   {'ner_chunk': 'patient',\n",
       "    'begin': 638,\n",
       "    'end': 644,\n",
       "    'ner_label': 'Organism',\n",
       "    'ner_confidence': '1.0'},\n",
       "   {'ner_chunk': 'brain tumor',\n",
       "    'begin': 667,\n",
       "    'end': 677,\n",
       "    'ner_label': 'Cancer',\n",
       "    'ner_confidence': '0.99965'},\n",
       "   {'ner_chunk': 'glioma',\n",
       "    'begin': 799,\n",
       "    'end': 804,\n",
       "    'ner_label': 'Cancer',\n",
       "    'ner_confidence': '1.0'},\n",
       "   {'ner_chunk': 'oligodendroglioma',\n",
       "    'begin': 817,\n",
       "    'end': 833,\n",
       "    'ner_label': 'Cancer',\n",
       "    'ner_confidence': '1.0'}]]}"
      ]
     },
     "metadata": {},
     "output_type": "display_data"
    }
   ],
   "source": [
    "process_s3_json_output_and_save(validation_json_file_name)"
   ]
  },
  {
   "cell_type": "markdown",
   "metadata": {},
   "source": [
    "### JSON Lines"
   ]
  },
  {
   "cell_type": "code",
   "execution_count": null,
   "metadata": {
    "tags": []
   },
   "outputs": [],
   "source": [
    "transformer = model.transformer(\n",
    "    instance_count=1,\n",
    "    instance_type=batch_transform_inference_instance_type,\n",
    "    accept=\"application/jsonlines\",\n",
    "    output_path=validation_output_jsonl_path\n",
    ")\n",
    "transformer.transform(validation_input_jsonl_path, content_type=\"application/jsonlines\")\n",
    "transformer.wait()"
   ]
  },
  {
   "cell_type": "code",
   "execution_count": 19,
   "metadata": {
    "tags": []
   },
   "outputs": [],
   "source": [
    "from urllib.parse import urlparse\n",
    "\n",
    "def process_s3_jsonlines_output_and_save(validation_file_name):\n",
    "\n",
    "    output_file_path = f\"{jsonl_output_dir}/{validation_file_name}.out\"\n",
    "    parsed_url = urlparse(transformer.output_path)\n",
    "    file_key = f\"{parsed_url.path[1:]}{validation_file_name}.out\"\n",
    "    response = s3_client.get_object(Bucket=s3_bucket, Key=file_key)\n",
    "\n",
    "    data = response[\"Body\"].read().decode(\"utf-8\")\n",
    "    print(data)\n",
    "\n",
    "    # Save the data to the output file\n",
    "    with open(output_file_path, 'w') as f_out:\n",
    "        for item in data.split('\\n'):\n",
    "            f_out.write(item + '\\n')"
   ]
  },
  {
   "cell_type": "code",
   "execution_count": 20,
   "metadata": {
    "tags": []
   },
   "outputs": [
    {
     "name": "stdout",
     "output_type": "stream",
     "text": [
      "{\"predictions\": [{\"ner_chunk\": \"lesion\", \"begin\": 31, \"end\": 36, \"ner_label\": \"Pathological_formation\", \"ner_confidence\": \"1.0\"}, {\"ner_chunk\": \"basal cell carcinoma\", \"begin\": 151, \"end\": 170, \"ner_label\": \"Cancer\", \"ner_confidence\": \"0.9991333\"}, {\"ner_chunk\": \"tumor\", \"begin\": 197, \"end\": 201, \"ner_label\": \"Cancer\", \"ner_confidence\": \"0.9999\"}, {\"ner_chunk\": \"lesion\", \"begin\": 255, \"end\": 260, \"ner_label\": \"Pathological_formation\", \"ner_confidence\": \"0.5082\"}, {\"ner_chunk\": \"glabellar skin\", \"begin\": 369, \"end\": 382, \"ner_label\": \"Organ\", \"ner_confidence\": \"0.79815\"}, {\"ner_chunk\": \"flap\", \"begin\": 389, \"end\": 392, \"ner_label\": \"Tissue\", \"ner_confidence\": \"0.9869\"}, {\"ner_chunk\": \"dermis\", \"begin\": 566, \"end\": 571, \"ner_label\": \"Tissue\", \"ner_confidence\": \"0.9969\"}, {\"ner_chunk\": \"skin\", \"begin\": 605, \"end\": 608, \"ner_label\": \"Organ\", \"ner_confidence\": \"0.9997\"}]}\n",
      "{\"predictions\": [{\"ner_chunk\": \"patient\", \"begin\": 4, \"end\": 10, \"ner_label\": \"Organism\", \"ner_confidence\": \"1.0\"}, {\"ner_chunk\": \"He\", \"begin\": 73, \"end\": 74, \"ner_label\": \"Organism\", \"ner_confidence\": \"0.5813\"}, {\"ner_chunk\": \"edema\", \"begin\": 123, \"end\": 127, \"ner_label\": \"Pathological_formation\", \"ner_confidence\": \"0.9999\"}, {\"ner_chunk\": \"He\", \"begin\": 194, \"end\": 195, \"ner_label\": \"Organism\", \"ner_confidence\": \"0.5297\"}, {\"ner_chunk\": \"He\", \"begin\": 240, \"end\": 241, \"ner_label\": \"Organism\", \"ner_confidence\": \"0.6873\"}, {\"ner_chunk\": \"brain\", \"begin\": 331, \"end\": 335, \"ner_label\": \"Organ\", \"ner_confidence\": \"0.9998\"}, {\"ner_chunk\": \"right frontotemporal neoplasm\", \"begin\": 378, \"end\": 406, \"ner_label\": \"Cancer\", \"ner_confidence\": \"0.88069993\"}, {\"ner_chunk\": \"middle cerebral artery\", \"begin\": 430, \"end\": 451, \"ner_label\": \"Multi-tissue_structure\", \"ner_confidence\": \"0.8303333\"}, {\"ner_chunk\": \"He\", \"begin\": 519, \"end\": 520, \"ner_label\": \"Simple_chemical\", \"ner_confidence\": \"0.4607\"}, {\"ner_chunk\": \"brain\", \"begin\": 556, \"end\": 560, \"ner_label\": \"Organ\", \"ner_confidence\": \"0.9983\"}, {\"ner_chunk\": \"neoplasm\", \"begin\": 579, \"end\": 586, \"ner_label\": \"Cancer\", \"ner_confidence\": \"0.9997\"}, {\"ner_chunk\": \"neoplasm\", \"begin\": 624, \"end\": 631, \"ner_label\": \"Cancer\", \"ner_confidence\": \"0.9998\"}, {\"ner_chunk\": \"patient\", \"begin\": 638, \"end\": 644, \"ner_label\": \"Organism\", \"ner_confidence\": \"1.0\"}, {\"ner_chunk\": \"brain tumor\", \"begin\": 667, \"end\": 677, \"ner_label\": \"Cancer\", \"ner_confidence\": \"0.99965\"}, {\"ner_chunk\": \"glioma\", \"begin\": 799, \"end\": 804, \"ner_label\": \"Cancer\", \"ner_confidence\": \"1.0\"}, {\"ner_chunk\": \"oligodendroglioma\", \"begin\": 817, \"end\": 833, \"ner_label\": \"Cancer\", \"ner_confidence\": \"1.0\"}]}\n"
     ]
    }
   ],
   "source": [
    "process_s3_jsonlines_output_and_save(validation_jsonl_file_name)"
   ]
  },
  {
   "cell_type": "code",
   "execution_count": 21,
   "metadata": {
    "tags": []
   },
   "outputs": [
    {
     "data": {
      "text/html": [
       "<pre style=\"white-space:pre;overflow-x:auto;line-height:normal;font-family:Menlo,'DejaVu Sans Mono',consolas,'Courier New',monospace\"><span style=\"color: #7fbfbf; text-decoration-color: #7fbfbf\">[01/06/25 11:56:25] </span><span style=\"color: #0069ff; text-decoration-color: #0069ff; font-weight: bold\">INFO    </span> Deleting model with name:                                              <a href=\"file:///home/ec2-user/anaconda3/envs/python3/lib/python3.10/site-packages/sagemaker/session.py\" target=\"_blank\"><span style=\"color: #7f7f7f; text-decoration-color: #7f7f7f\">session.py</span></a><span style=\"color: #7f7f7f; text-decoration-color: #7f7f7f\">:</span><a href=\"file:///home/ec2-user/anaconda3/envs/python3/lib/python3.10/site-packages/sagemaker/session.py#5226\" target=\"_blank\"><span style=\"color: #7f7f7f; text-decoration-color: #7f7f7f\">5226</span></a>\n",
       "<span style=\"color: #7fbfbf; text-decoration-color: #7fbfbf\">                    </span>         en-med-ner-bionlp-pipeline-<span style=\"color: #008080; text-decoration-color: #008080; font-weight: bold\">2025</span>-01-06-11-50-16-248                     <span style=\"color: #7f7f7f; text-decoration-color: #7f7f7f\">               </span>\n",
       "</pre>\n"
      ],
      "text/plain": [
       "\u001b[2;36m[01/06/25 11:56:25]\u001b[0m\u001b[2;36m \u001b[0m\u001b[1;38;2;0;105;255mINFO    \u001b[0m Deleting model with name:                                              \u001b]8;id=550378;file:///home/ec2-user/anaconda3/envs/python3/lib/python3.10/site-packages/sagemaker/session.py\u001b\\\u001b[2msession.py\u001b[0m\u001b]8;;\u001b\\\u001b[2m:\u001b[0m\u001b]8;id=54592;file:///home/ec2-user/anaconda3/envs/python3/lib/python3.10/site-packages/sagemaker/session.py#5226\u001b\\\u001b[2m5226\u001b[0m\u001b]8;;\u001b\\\n",
       "\u001b[2;36m                    \u001b[0m         en-med-ner-bionlp-pipeline-\u001b[1;36m2025\u001b[0m-01-06-11-50-16-248                     \u001b[2m               \u001b[0m\n"
      ]
     },
     "metadata": {},
     "output_type": "display_data"
    }
   ],
   "source": [
    "model.delete_model()"
   ]
  },
  {
   "cell_type": "markdown",
   "metadata": {},
   "source": [
    "### Unsubscribe to the listing (optional)"
   ]
  },
  {
   "cell_type": "markdown",
   "metadata": {
    "tags": []
   },
   "source": [
    "If you would like to unsubscribe to the model package, follow these steps. Before you cancel the subscription, ensure that you do not have any [deployable model](https://console.aws.amazon.com/sagemaker/home#/models) created from the model package or using the algorithm. Note - You can find this information by looking at the container name associated with the model. \n",
    "\n",
    "**Steps to unsubscribe to product from AWS Marketplace**:\n",
    "1. Navigate to __Machine Learning__ tab on [__Your Software subscriptions page__](https://aws.amazon.com/marketplace/ai/library?productType=ml&ref_=mlmp_gitdemo_indust)\n",
    "2. Locate the listing that you want to cancel the subscription for, and then choose __Cancel Subscription__  to cancel the subscription.\n",
    "\n"
   ]
  }
 ],
 "metadata": {
  "instance_type": "ml.t3.medium",
  "kernelspec": {
   "display_name": "conda_python3",
   "language": "python",
   "name": "conda_python3"
  },
  "language_info": {
   "codemirror_mode": {
    "name": "ipython",
    "version": 3
   },
   "file_extension": ".py",
   "mimetype": "text/x-python",
   "name": "python",
   "nbconvert_exporter": "python",
   "pygments_lexer": "ipython3",
   "version": "3.10.16"
  }
 },
 "nbformat": 4,
 "nbformat_minor": 4
}

{
 "cells": [
  {
   "cell_type": "markdown",
   "metadata": {},
   "source": [
    "## 1. Subscribe to the model package"
   ]
  },
  {
   "cell_type": "markdown",
   "metadata": {},
   "source": [
    "To subscribe to the model package:\n",
    "1. Open the model package listing page <font color='red'> For Seller to update:[Title_of_your_product](Provide link to your marketplace listing of your product).</font>\n",
    "1. On the AWS Marketplace listing, click on the **Continue to subscribe** button.\n",
    "1. On the **Subscribe to this software** page, review and click on **\"Accept Offer\"** if you and your organization agrees with EULA, pricing, and support terms. \n",
    "1. Once you click on **Continue to configuration button** and then choose a **region**, you will see a **Product Arn** displayed. This is the model package ARN that you need to specify while creating a deployable model using Boto3. Copy the ARN corresponding to your region and specify the same in the following cell."
   ]
  },
  {
   "cell_type": "markdown",
   "metadata": {},
   "source": [
    "## Summarization\n",
    "\n",
    "Text summarization involves condensing lengthy textual content into a brief format while retaining its essential information and significance. The primary aim is to extract key details from a text document and present them concisely and comprehensibly. It plays a crucial role across various domains, including healthcare, aiding in efficient communication and decision-making.\n",
    "\n",
    "\n",
    "- **Model**: `en.summarize.clinical_laymen_onnx.pipeline`\n",
    "- **Model Description**: This pretrained pipeline is built on the top of summarizer_clinical_laymen_onnx model, which is is a modified version of LLM based summarization model that is finetuned with custom dataset by John Snow Labs to avoid using clinical jargon on the summaries. It can generate summaries up to 512 tokens given an input text (max 1024 tokens)."
   ]
  },
  {
   "cell_type": "code",
   "execution_count": 1,
   "metadata": {
    "tags": []
   },
   "outputs": [],
   "source": [
    "model_package_arn = \"<Customer to specify Model package ARN corresponding to their AWS region>\""
   ]
  },
  {
   "cell_type": "code",
   "execution_count": 2,
   "metadata": {
    "tags": []
   },
   "outputs": [
    {
     "name": "stdout",
     "output_type": "stream",
     "text": [
      "sagemaker.config INFO - Not applying SDK defaults from location: /etc/xdg/sagemaker/config.yaml\n",
      "sagemaker.config INFO - Not applying SDK defaults from location: /home/ec2-user/.config/sagemaker/config.yaml\n"
     ]
    }
   ],
   "source": [
    "import base64\n",
    "import json\n",
    "import uuid\n",
    "from sagemaker import ModelPackage\n",
    "import sagemaker as sage\n",
    "from sagemaker import get_execution_role\n",
    "import boto3\n",
    "from IPython.display import Image, display\n",
    "from PIL import Image as ImageEdit\n",
    "import numpy as np"
   ]
  },
  {
   "cell_type": "code",
   "execution_count": 3,
   "metadata": {
    "tags": []
   },
   "outputs": [],
   "source": [
    "sagemaker_session = sage.Session()\n",
    "s3_bucket = sagemaker_session.default_bucket()\n",
    "region = sagemaker_session.boto_region_name\n",
    "account_id = boto3.client(\"sts\").get_caller_identity().get(\"Account\")\n",
    "role = get_execution_role()\n",
    "\n",
    "sagemaker = boto3.client(\"sagemaker\")\n",
    "s3_client = sagemaker_session.boto_session.client(\"s3\")\n",
    "ecr = boto3.client(\"ecr\")\n",
    "sm_runtime = boto3.client(\"sagemaker-runtime\")"
   ]
  },
  {
   "cell_type": "markdown",
   "metadata": {},
   "source": [
    "## 2. Create an endpoint and perform real-time inference"
   ]
  },
  {
   "cell_type": "markdown",
   "metadata": {},
   "source": [
    "If you want to understand how real-time inference with Amazon SageMaker works, see [Documentation](https://docs.aws.amazon.com/sagemaker/latest/dg/how-it-works-hosting.html)."
   ]
  },
  {
   "cell_type": "code",
   "execution_count": 4,
   "metadata": {
    "tags": []
   },
   "outputs": [],
   "source": [
    "model_name = \"en-summarize-clinical-laymen-onnx-pipeline\"\n",
    "\n",
    "real_time_inference_instance_type = \"ml.m4.2xlarge\"\n",
    "batch_transform_inference_instance_type = \"ml.m4.2xlarge\""
   ]
  },
  {
   "cell_type": "markdown",
   "metadata": {},
   "source": [
    "### A. Create an endpoint"
   ]
  },
  {
   "cell_type": "code",
   "execution_count": 5,
   "metadata": {
    "tags": []
   },
   "outputs": [
    {
     "name": "stdout",
     "output_type": "stream",
     "text": [
      "-------!"
     ]
    }
   ],
   "source": [
    "# create a deployable model from the model package.\n",
    "model = ModelPackage(\n",
    "    role=role, model_package_arn=model_package_arn, sagemaker_session=sagemaker_session\n",
    ")\n",
    "\n",
    "# Deploy the model\n",
    "predictor = model.deploy(1, real_time_inference_instance_type, endpoint_name=model_name)"
   ]
  },
  {
   "cell_type": "markdown",
   "metadata": {},
   "source": [
    "Once endpoint has been created, you would be able to perform real-time inference."
   ]
  },
  {
   "cell_type": "markdown",
   "metadata": {},
   "source": [
    "### B. Perform real-time inference"
   ]
  },
  {
   "cell_type": "code",
   "execution_count": 6,
   "metadata": {
    "tags": []
   },
   "outputs": [],
   "source": [
    "import json\n",
    "import pandas as pd\n",
    "import os\n",
    "import boto3\n",
    "\n",
    "# Set display options\n",
    "pd.set_option('display.max_rows', None)\n",
    "pd.set_option('display.max_columns', None)\n",
    "pd.set_option('display.max_colwidth', None)\n",
    "\n",
    "def process_data_and_invoke_realtime_endpoint(data, content_type, accept):\n",
    "\n",
    "    content_type_to_format = {'application/json': 'json', 'application/jsonlines': 'jsonl'}\n",
    "    input_format = content_type_to_format.get(content_type)\n",
    "    if content_type not in content_type_to_format.keys() or accept not in content_type_to_format.keys():\n",
    "        raise ValueError(\"Invalid content_type or accept. It should be either 'application/json' or 'application/jsonlines'.\")\n",
    "\n",
    "    i = 1\n",
    "    input_dir = f'inputs/real-time/{input_format}'\n",
    "    output_dir = f'outputs/real-time/{input_format}'\n",
    "    s3_input_dir = f\"{model_name}/validation-input/real-time/{input_format}\"\n",
    "    s3_output_dir = f\"{model_name}/validation-output/real-time/{input_format}\"\n",
    "\n",
    "    input_file_name = f'{input_dir}/input{i}.{input_format}'\n",
    "    output_file_name = f'{output_dir}/{os.path.basename(input_file_name)}.out'\n",
    "\n",
    "    while os.path.exists(input_file_name) or os.path.exists(output_file_name):\n",
    "        i += 1\n",
    "        input_file_name = f'{input_dir}/input{i}.{input_format}'\n",
    "        output_file_name = f'{output_dir}/{os.path.basename(input_file_name)}.out'\n",
    "\n",
    "    os.makedirs(os.path.dirname(input_file_name), exist_ok=True)\n",
    "    os.makedirs(os.path.dirname(output_file_name), exist_ok=True)\n",
    "\n",
    "    input_data = json.dumps(data) if content_type == 'application/json' else data\n",
    "\n",
    "    # Write input data to file\n",
    "    with open(input_file_name, 'w') as f:\n",
    "        f.write(input_data)\n",
    "\n",
    "    # Upload input data to S3\n",
    "    s3_client.put_object(Bucket=s3_bucket, Key=f\"{s3_input_dir}/{os.path.basename(input_file_name)}\", Body=bytes(input_data.encode('UTF-8')))\n",
    "\n",
    "    # Invoke the SageMaker endpoint\n",
    "    response = sm_runtime.invoke_endpoint(\n",
    "        EndpointName=model_name,\n",
    "        ContentType=content_type,\n",
    "        Accept=accept,\n",
    "        Body=input_data,\n",
    "    )\n",
    "\n",
    "    # Read response data\n",
    "    response_data = json.loads(response[\"Body\"].read().decode(\"utf-8\")) if accept == 'application/json' else response['Body'].read().decode('utf-8')\n",
    "\n",
    "    # Save response data to file\n",
    "    with open(output_file_name, 'w') as f_out:\n",
    "        if accept == 'application/json':\n",
    "            json.dump(response_data, f_out, indent=4)\n",
    "        else:\n",
    "            for item in response_data.split('\\n'):\n",
    "                f_out.write(item + '\\n')\n",
    "\n",
    "    # Upload response data to S3\n",
    "    output_s3_key = f\"{s3_output_dir}/{os.path.basename(output_file_name)}\"\n",
    "    if accept == 'application/json':\n",
    "        s3_client.put_object(Bucket=s3_bucket, Key=output_s3_key, Body=json.dumps(response_data).encode('UTF-8'))\n",
    "    else:\n",
    "        s3_client.put_object(Bucket=s3_bucket, Key=output_s3_key, Body=response_data)\n",
    "\n",
    "    return response_data"
   ]
  },
  {
   "cell_type": "markdown",
   "metadata": {},
   "source": [
    "### Initial setup"
   ]
  },
  {
   "cell_type": "code",
   "execution_count": 7,
   "metadata": {
    "tags": []
   },
   "outputs": [],
   "source": [
    "docs = [\n",
    "\n",
    "    \"\"\"Samantha Brown came to my clinic for a consultation regarding the option of bariatric surgery for weight loss on November 12, 2010. Samantha Brown, a 38-year-old woman with a BMI of 46, is 5'7\" tall and weighs 293 pounds. The reason she is considering surgical intervention for weight loss is her ongoing struggle with obesity for more than 25 years and her desire to enhance her physical stamina and self-perception. Not only does her weight cause physical limitations, it also hampers her social interactions. Every time she has lost weight, she has ended up regaining it, often adding more pounds than she initially lost. For instance, she once shed 120 pounds, only to gain it back within a year. She has attempted various commercial diets and weight loss programs, such as Jenny Craig for five months in 1993 with a 20-pound loss, Optifast for three months in 1991 with a seven-pound loss, Herbalife for seven weeks in 2006 with a nine-pound loss, a gym regimen for three months in 2008 with a six-pound loss, South Beach Diet for four months in 2009 with a twelve-pound loss, and Alli for two months in 2006 with a six-pound loss. She has also experimented with numerous low-fat or fad diets. She took Fen-Phen for ten months with a 120-pound loss.\n",
    "    PAST MEDICAL HISTORY: She has a history of diabetes and sleep apnea.\n",
    "\n",
    "\n",
    "    PAST SURGICAL HISTORY: Noteworthy for appendectomy.\n",
    "\n",
    "\n",
    "    PSYCHOLOGICAL HISTORY: Unremarkable.\n",
    "\n",
    "\n",
    "    SOCIAL HISTORY: She is divorced. She has an occasional glass of wine. She has never smoked.\n",
    "\n",
    "\n",
    "    FAMILY HISTORY: Significant for obesity and type 2 diabetes.\n",
    "\n",
    "\n",
    "    MEDICATIONS: Metformin 500 mg twice daily, Amlodipine 5 mg daily, Lipitor 20 mg daily, Metoprolol 50 mg twice daily, and a daily multivitamin.\n",
    "\n",
    "\n",
    "    ALLERGIES: No known drug allergies.\n",
    "\n",
    "\n",
    "    REVIEW OF SYSTEMS: Unremarkable.\n",
    "\n",
    "\n",
    "    PHYSICAL EXAM: Samantha is an amiable woman appearing comfortable. Alert and fully oriented. HEENT: Normocephalic, without trauma. Extraocular movements are intact, sclerae are non-icteric. Lungs are clear upon bilateral auscultation. Cardiovascular system shows a regular rhythm. Abdomen is obese, pliable, without tenderness or distension. Extremities exhibit no signs of edema, clubbing, or cyanosis.\n",
    "\n",
    "\n",
    "    ASSESSMENT/PLAN: Samantha Brown is a 38-year-old woman with a BMI of 46, who is contemplating bariatric surgery, specifically gastric bypass rather than the Lap-Band. Samantha Brown will be requesting a letter of medical necessity from Dr. Benjamin Harris. She will also schedule appointments with my nutritionist and social worker, and will undergo an upper endoscopy. Once these steps are done, we will forward her application to her insurance company for approval.\"\"\",\n",
    "\n",
    "\n",
    "    \"\"\"Patient Name: John Davis\n",
    "    Age: 45\n",
    "\n",
    "\n",
    "    Gender: Male\n",
    "\n",
    "\n",
    "    Diagnosis: Acute Appendicitis\n",
    "\n",
    "\n",
    "    Procedure: Appendectomy\n",
    "\n",
    "\n",
    "    Summary: Mr. Davis presented with severe abdominal pain localized to the right lower quadrant. Physical examination and imaging confirmed the diagnosis of acute appendicitis. The patient underwent an emergency appendectomy, and the procedure was uneventful. Postoperatively, the patient recovered well and was discharged after two days.\"\"\",\n",
    "\n",
    "]\n",
    "\n",
    "\n",
    "\n",
    "sample_text = \"\"\"Olivia Smith was seen in my office for evaluation for elective surgical weight loss on October 6, 2008. Olivia Smith is a 34-year-old female with a BMI of 43. She is 5'6\" tall and weighs 267 pounds. She is motivated to attempt surgical weight loss because she has been overweight for over 20 years and wants to have more energy and improve her self-image. She is not only affected physically, but also socially by her weight. When she loses weight she always regains it and she always gains back more weight than she has lost. At one time, she lost 100 pounds and gained the weight back within a year. She has tried numerous commercial weight loss programs including Weight Watcher's for four months in 1992 with 15-pound weight loss, RS for two months in 1990 with six-pound weight loss, Slim Fast for six weeks in 2004 with eight-pound weight loss, an exercise program for two months in 2007 with a five-pound weight loss, Atkin's Diet for three months in 2008 with a ten-pound weight loss, and Dexatrim for one month in 2005 with a five-pound weight loss. She has also tried numerous fat reduction or fad diets. She was on Redux for nine months with a 100-pound weight loss.\n",
    "\n",
    "PAST MEDICAL HISTORY: She has a history of hypertension and shortness of breath.\n",
    "\n",
    "PAST SURGICAL HISTORY: Pertinent for cholecystectomy.\n",
    "\n",
    "PSYCHOLOGICAL HISTORY: Negative.\n",
    "\n",
    "SOCIAL HISTORY: She is single. She drinks alcohol once a week. She does not smoke.\n",
    "\n",
    "FAMILY HISTORY: Pertinent for obesity and hypertension.\n",
    "\n",
    "MEDICATIONS: Include Topamax 100 mg twice daily, Zoloft 100 mg twice daily, Abilify 5 mg daily, Motrin 800 mg daily, and a multivitamin.\n",
    "\n",
    "ALLERGIES: She has no known drug allergies.\n",
    "\n",
    "REVIEW OF SYSTEMS: Negative.\n",
    "\n",
    "PHYSICAL EXAM: This is a pleasant female in no acute distress. Alert and oriented x 3. HEENT: Normocephalic, atraumatic. Extraocular muscles intact, nonicteric sclerae. Chest is clear to auscultation bilaterally. Cardiovascular is normal sinus rhythm. Abdomen is obese, soft, nontender and nondistended. Extremities show no edema, clubbing or cyanosis.\n",
    "\n",
    "ASSESSMENT/PLAN: This is a 34-year-old female with a BMI of 43 who is interested in surgical weight via the gastric bypass as opposed to Lap-Band. Olivia Smith will be asking for a letter of medical necessity from Dr. Andrew Johnson. She will also see my nutritionist and social worker and have an upper endoscopy. Once this is completed, we will submit her to her insurance company for approval.\"\"\""
   ]
  },
  {
   "cell_type": "markdown",
   "metadata": {},
   "source": [
    "### JSON"
   ]
  },
  {
   "cell_type": "markdown",
   "metadata": {},
   "source": [
    "#### Example 1"
   ]
  },
  {
   "cell_type": "markdown",
   "metadata": {
    "tags": []
   },
   "source": [
    "  **Input format**:\n",
    "  \n",
    "  \n",
    "```json\n",
    "{\n",
    "    \"text\": \"Single text document\"\n",
    "}\n",
    "```"
   ]
  },
  {
   "cell_type": "code",
   "execution_count": 8,
   "metadata": {
    "tags": []
   },
   "outputs": [
    {
     "data": {
      "text/html": [
       "<div>\n",
       "<style scoped>\n",
       "    .dataframe tbody tr th:only-of-type {\n",
       "        vertical-align: middle;\n",
       "    }\n",
       "\n",
       "    .dataframe tbody tr th {\n",
       "        vertical-align: top;\n",
       "    }\n",
       "\n",
       "    .dataframe thead th {\n",
       "        text-align: right;\n",
       "    }\n",
       "</style>\n",
       "<table border=\"1\" class=\"dataframe\">\n",
       "  <thead>\n",
       "    <tr style=\"text-align: right;\">\n",
       "      <th></th>\n",
       "      <th>summary</th>\n",
       "    </tr>\n",
       "  </thead>\n",
       "  <tbody>\n",
       "    <tr>\n",
       "      <th>0</th>\n",
       "      <td>This is a clinical note about a 34-year-old woman who is interested in having weight loss surgery. She has been overweight for over 20 years and wants to have more energy and improve her self-image. She has tried many diets and weight loss programs, but has not been successful in keeping the weight off. She has a history of hypertension and shortness of breath, but is not allergic to any medications. She will have an upper endoscopy and will be contacted by a nutritionist and social worker. The plan is to have her weight loss surgery through the gastric bypass, rather than Lap-Band.</td>\n",
       "    </tr>\n",
       "  </tbody>\n",
       "</table>\n",
       "</div>"
      ],
      "text/plain": [
       "                                                                                                                                                                                                                                                                                                                                                                                                                                                                                                                                                                                                         summary\n",
       "0  This is a clinical note about a 34-year-old woman who is interested in having weight loss surgery. She has been overweight for over 20 years and wants to have more energy and improve her self-image. She has tried many diets and weight loss programs, but has not been successful in keeping the weight off. She has a history of hypertension and shortness of breath, but is not allergic to any medications. She will have an upper endoscopy and will be contacted by a nutritionist and social worker. The plan is to have her weight loss surgery through the gastric bypass, rather than Lap-Band."
      ]
     },
     "execution_count": 8,
     "metadata": {},
     "output_type": "execute_result"
    }
   ],
   "source": [
    "input_json_data = {\"text\": sample_text}\n",
    "\n",
    "data =  process_data_and_invoke_realtime_endpoint(input_json_data, content_type=\"application/json\" , accept=\"application/json\" )\n",
    "pd.DataFrame(data)"
   ]
  },
  {
   "cell_type": "markdown",
   "metadata": {},
   "source": [
    "#### Example 2"
   ]
  },
  {
   "cell_type": "markdown",
   "metadata": {},
   "source": [
    "  **Input format**:\n",
    "  \n",
    "  \n",
    "```json\n",
    "{\n",
    "    \"text\": [\n",
    "        \"Text document 1\",\n",
    "        \"Text document 2\",\n",
    "        ...\n",
    "    ]\n",
    "}\n",
    "```"
   ]
  },
  {
   "cell_type": "code",
   "execution_count": 9,
   "metadata": {
    "tags": []
   },
   "outputs": [
    {
     "data": {
      "text/html": [
       "<div>\n",
       "<style scoped>\n",
       "    .dataframe tbody tr th:only-of-type {\n",
       "        vertical-align: middle;\n",
       "    }\n",
       "\n",
       "    .dataframe tbody tr th {\n",
       "        vertical-align: top;\n",
       "    }\n",
       "\n",
       "    .dataframe thead th {\n",
       "        text-align: right;\n",
       "    }\n",
       "</style>\n",
       "<table border=\"1\" class=\"dataframe\">\n",
       "  <thead>\n",
       "    <tr style=\"text-align: right;\">\n",
       "      <th></th>\n",
       "      <th>summary</th>\n",
       "    </tr>\n",
       "  </thead>\n",
       "  <tbody>\n",
       "    <tr>\n",
       "      <th>0</th>\n",
       "      <td>This is a clinical note about a 38-year-old woman who is considering bariatric surgery for weight loss. She has been struggling with obesity for more than 25 years and wants to improve her physical stamina and self-perception. She has tried various diets and weight loss programs, including Jenny Craig, Optifast, Herbalife, a gym regimen, South Beach Diet, and Alli. She has a history of diabetes and sleep apnea, and has had appendectomy in the past. She takes Metformin, Amlodipine, Lipitor, Metoprolol, and a daily multivitamin. She will schedule appointments with a nutritionist and social worker and undergo an upper endoscopy. She will be approved for bariatric surgery and will be requesting a letter of medical necessity from her doctor.</td>\n",
       "    </tr>\n",
       "    <tr>\n",
       "      <th>1</th>\n",
       "      <td>This is a clinical note about a 45-year-old man who had severe abdominal pain in the right lower quadrant of his abdomen. He had an emergency appendectomy, which was performed to remove the appendix. The procedure was successful and the patient recovered well after two days. The patient was diagnosed with acute appendicitis, which means that the appendix was inflamed and causing pain. The patient underwent an emergency appendectomy, which means that the appendix was removed. The procedure was uneventful, and the patient recovered well after two days.</td>\n",
       "    </tr>\n",
       "  </tbody>\n",
       "</table>\n",
       "</div>"
      ],
      "text/plain": [
       "                                                                                                                                                                                                                                                                                                                                                                                                                                                                                                                                                                                                                                                                                                                                                                      summary\n",
       "0  This is a clinical note about a 38-year-old woman who is considering bariatric surgery for weight loss. She has been struggling with obesity for more than 25 years and wants to improve her physical stamina and self-perception. She has tried various diets and weight loss programs, including Jenny Craig, Optifast, Herbalife, a gym regimen, South Beach Diet, and Alli. She has a history of diabetes and sleep apnea, and has had appendectomy in the past. She takes Metformin, Amlodipine, Lipitor, Metoprolol, and a daily multivitamin. She will schedule appointments with a nutritionist and social worker and undergo an upper endoscopy. She will be approved for bariatric surgery and will be requesting a letter of medical necessity from her doctor.\n",
       "1                                                                                                                                                                                                This is a clinical note about a 45-year-old man who had severe abdominal pain in the right lower quadrant of his abdomen. He had an emergency appendectomy, which was performed to remove the appendix. The procedure was successful and the patient recovered well after two days. The patient was diagnosed with acute appendicitis, which means that the appendix was inflamed and causing pain. The patient underwent an emergency appendectomy, which means that the appendix was removed. The procedure was uneventful, and the patient recovered well after two days."
      ]
     },
     "execution_count": 9,
     "metadata": {},
     "output_type": "execute_result"
    }
   ],
   "source": [
    "input_json_data = {\"text\": docs}\n",
    "\n",
    "data =  process_data_and_invoke_realtime_endpoint(input_json_data, content_type=\"application/json\" , accept=\"application/json\" )\n",
    "pd.DataFrame(data)"
   ]
  },
  {
   "cell_type": "markdown",
   "metadata": {},
   "source": [
    "### JSON Lines\n"
   ]
  },
  {
   "cell_type": "code",
   "execution_count": 10,
   "metadata": {
    "tags": []
   },
   "outputs": [],
   "source": [
    "import json\n",
    "\n",
    "def create_jsonl(records):\n",
    "    json_records = []\n",
    "\n",
    "    for text in records:\n",
    "        record = {\n",
    "            \"text\": text\n",
    "        }\n",
    "        json_records.append(record)\n",
    "\n",
    "    json_lines = '\\n'.join(json.dumps(record) for record in json_records)\n",
    "\n",
    "    return json_lines\n",
    "\n",
    "input_jsonl_data = create_jsonl(docs)"
   ]
  },
  {
   "cell_type": "markdown",
   "metadata": {},
   "source": [
    "#### Example 1"
   ]
  },
  {
   "cell_type": "markdown",
   "metadata": {},
   "source": [
    "  **Input format**:\n",
    "  \n",
    "```json\n",
    "{\"text\": \"Text document 1\"}\n",
    "{\"text\": \"Text document 2\"}\n",
    "```"
   ]
  },
  {
   "cell_type": "code",
   "execution_count": 11,
   "metadata": {
    "tags": []
   },
   "outputs": [
    {
     "name": "stdout",
     "output_type": "stream",
     "text": [
      "{\"summary\": \"This is a clinical note about a 38-year-old woman who is considering bariatric surgery for weight loss. She has been struggling with obesity for more than 25 years and wants to improve her physical stamina and self-perception. She has tried various diets and weight loss programs, including Jenny Craig, Optifast, Herbalife, a gym regimen, South Beach Diet, and Alli. She has a history of diabetes and sleep apnea, and has had appendectomy in the past. She takes Metformin, Amlodipine, Lipitor, Metoprolol, and a daily multivitamin. She will schedule appointments with a nutritionist and social worker and undergo an upper endoscopy. She will be approved for bariatric surgery and will be requesting a letter of medical necessity from her doctor.\"}\n",
      "{\"summary\": \"This is a clinical note about a 45-year-old man who had severe abdominal pain in the right lower quadrant of his abdomen. He had an emergency appendectomy, which was performed to remove the appendix. The procedure was successful and the patient recovered well after two days. The patient was diagnosed with acute appendicitis, which means that the appendix was inflamed and causing pain. The patient underwent an emergency appendectomy, which means that the appendix was removed. The procedure was uneventful, and the patient recovered well after two days.\"}\n"
     ]
    }
   ],
   "source": [
    "data = process_data_and_invoke_realtime_endpoint(input_jsonl_data, content_type=\"application/jsonlines\" , accept=\"application/jsonlines\" )\n",
    "print(data)"
   ]
  },
  {
   "cell_type": "markdown",
   "metadata": {},
   "source": [
    "### C. Delete the endpoint"
   ]
  },
  {
   "cell_type": "markdown",
   "metadata": {},
   "source": [
    "Now that you have successfully performed a real-time inference, you do not need the endpoint any more. You can terminate the endpoint to avoid being charged."
   ]
  },
  {
   "cell_type": "code",
   "execution_count": 12,
   "metadata": {
    "tags": []
   },
   "outputs": [],
   "source": [
    "model.sagemaker_session.delete_endpoint(model_name)\n",
    "model.sagemaker_session.delete_endpoint_config(model_name)"
   ]
  },
  {
   "cell_type": "markdown",
   "metadata": {
    "tags": []
   },
   "source": [
    "## 3. Batch inference"
   ]
  },
  {
   "cell_type": "code",
   "execution_count": 13,
   "metadata": {
    "tags": []
   },
   "outputs": [],
   "source": [
    "import json\n",
    "import os\n",
    "\n",
    "input_dir = 'inputs/batch'\n",
    "json_input_dir = f\"{input_dir}/json\"\n",
    "jsonl_input_dir = f\"{input_dir}/jsonl\"\n",
    "\n",
    "output_dir = 'outputs/batch'\n",
    "json_output_dir = f\"{output_dir}/json\"\n",
    "jsonl_output_dir = f\"{output_dir}/jsonl\"\n",
    "\n",
    "os.makedirs(json_input_dir, exist_ok=True)\n",
    "os.makedirs(jsonl_input_dir, exist_ok=True)\n",
    "os.makedirs(json_output_dir, exist_ok=True)\n",
    "os.makedirs(jsonl_output_dir, exist_ok=True)\n",
    "\n",
    "validation_json_file_name = \"input.json\"\n",
    "\n",
    "validation_jsonl_file_name = \"input.jsonl\"\n",
    "\n",
    "validation_input_json_path = f\"s3://{s3_bucket}/{model_name}/validation-input/batch/json/\"\n",
    "validation_output_json_path = f\"s3://{s3_bucket}/{model_name}/validation-output/batch/json/\"\n",
    "\n",
    "validation_input_jsonl_path = f\"s3://{s3_bucket}/{model_name}/validation-input/batch/jsonl/\"\n",
    "validation_output_jsonl_path = f\"s3://{s3_bucket}/{model_name}/validation-output/batch/jsonl/\"\n",
    "\n",
    "def write_and_upload_to_s3(input_data, file_name):\n",
    "    file_format = os.path.splitext(file_name)[1].lower()\n",
    "    if file_format == \".json\":\n",
    "        input_data = json.dumps(input_data)\n",
    "\n",
    "    with open(file_name, \"w\") as f:\n",
    "        f.write(input_data)\n",
    "\n",
    "    s3_client.put_object(\n",
    "        Bucket=s3_bucket,\n",
    "        Key=f\"{model_name}/validation-input/batch/{file_format[1:]}/{os.path.basename(file_name)}\",\n",
    "        Body=(bytes(input_data.encode(\"UTF-8\"))),\n",
    "    )\n",
    "\n"
   ]
  },
  {
   "cell_type": "code",
   "execution_count": 14,
   "metadata": {
    "tags": []
   },
   "outputs": [],
   "source": [
    "input_jsonl_data = create_jsonl(docs)\n",
    "input_json_data = {\"text\": docs}\n",
    "\n",
    "write_and_upload_to_s3(input_json_data, f\"{json_input_dir}/{validation_json_file_name}\")\n",
    "\n",
    "write_and_upload_to_s3(input_jsonl_data, f\"{jsonl_input_dir}/{validation_jsonl_file_name}\")"
   ]
  },
  {
   "cell_type": "markdown",
   "metadata": {},
   "source": [
    "### JSON"
   ]
  },
  {
   "cell_type": "code",
   "execution_count": null,
   "metadata": {
    "tags": []
   },
   "outputs": [],
   "source": [
    "# Initialize a SageMaker Transformer object for making predictions\n",
    "transformer = model.transformer(\n",
    "    instance_count=1,\n",
    "    instance_type=batch_transform_inference_instance_type,\n",
    "    accept=\"application/json\",\n",
    "    output_path=validation_output_json_path\n",
    ")\n",
    "\n",
    "transformer.transform(validation_input_json_path, content_type=\"application/json\")\n",
    "transformer.wait()"
   ]
  },
  {
   "cell_type": "code",
   "execution_count": null,
   "metadata": {
    "tags": []
   },
   "outputs": [],
   "source": [
    "from urllib.parse import urlparse\n",
    "\n",
    "def process_s3_json_output_and_save(validation_file_name):\n",
    "\n",
    "    output_file_path = f\"{json_output_dir}/{validation_file_name}.out\"\n",
    "    parsed_url = urlparse(transformer.output_path)\n",
    "    file_key = f\"{parsed_url.path[1:]}{validation_file_name}.out\"\n",
    "    response = s3_client.get_object(Bucket=s3_bucket, Key=file_key)\n",
    "\n",
    "    data = json.loads(response[\"Body\"].read().decode(\"utf-8\"))\n",
    "    df = pd.DataFrame(data)\n",
    "    display(df)\n",
    "\n",
    "    # Save the data to the output file\n",
    "    with open(output_file_path, 'w') as f_out:\n",
    "        json.dump(data, f_out, indent=4)"
   ]
  },
  {
   "cell_type": "code",
   "execution_count": null,
   "metadata": {
    "tags": []
   },
   "outputs": [
    {
     "data": {
      "text/html": [
       "<div>\n",
       "<style scoped>\n",
       "    .dataframe tbody tr th:only-of-type {\n",
       "        vertical-align: middle;\n",
       "    }\n",
       "\n",
       "    .dataframe tbody tr th {\n",
       "        vertical-align: top;\n",
       "    }\n",
       "\n",
       "    .dataframe thead th {\n",
       "        text-align: right;\n",
       "    }\n",
       "</style>\n",
       "<table border=\"1\" class=\"dataframe\">\n",
       "  <thead>\n",
       "    <tr style=\"text-align: right;\">\n",
       "      <th></th>\n",
       "      <th>summary</th>\n",
       "    </tr>\n",
       "  </thead>\n",
       "  <tbody>\n",
       "    <tr>\n",
       "      <th>0</th>\n",
       "      <td>This is a clinical note about a 38-year-old woman who is considering bariatric surgery for weight loss. She has been struggling with obesity for more than 25 years and wants to improve her physical stamina and self-perception. She has tried various diets and weight loss programs, including Jenny Craig, Optifast, Herbalife, a gym regimen, South Beach Diet, and Alli. She has a history of diabetes and sleep apnea, and has had appendectomy in the past. She takes Metformin, Amlodipine, Lipitor, Metoprolol, and a daily multivitamin. She will schedule appointments with a nutritionist and social worker and undergo an upper endoscopy. She will be approved for bariatric surgery and will be requesting a letter of medical necessity from her doctor.</td>\n",
       "    </tr>\n",
       "    <tr>\n",
       "      <th>1</th>\n",
       "      <td>This is a clinical note about a 45-year-old man who had severe abdominal pain in the right lower quadrant of his abdomen. He had an emergency appendectomy, which was performed to remove the appendix. The procedure was successful and the patient recovered well after two days. The patient was diagnosed with acute appendicitis, which means that the appendix was inflamed and causing pain. The patient underwent an emergency appendectomy, which means that the appendix was removed. The procedure was uneventful, and the patient recovered well after two days.</td>\n",
       "    </tr>\n",
       "  </tbody>\n",
       "</table>\n",
       "</div>"
      ],
      "text/plain": [
       "                                                                                                                                                                                                                                                                                                                                                                                                                                                                                                                                                                                                                                                                                                                                                                      summary\n",
       "0  This is a clinical note about a 38-year-old woman who is considering bariatric surgery for weight loss. She has been struggling with obesity for more than 25 years and wants to improve her physical stamina and self-perception. She has tried various diets and weight loss programs, including Jenny Craig, Optifast, Herbalife, a gym regimen, South Beach Diet, and Alli. She has a history of diabetes and sleep apnea, and has had appendectomy in the past. She takes Metformin, Amlodipine, Lipitor, Metoprolol, and a daily multivitamin. She will schedule appointments with a nutritionist and social worker and undergo an upper endoscopy. She will be approved for bariatric surgery and will be requesting a letter of medical necessity from her doctor.\n",
       "1                                                                                                                                                                                                This is a clinical note about a 45-year-old man who had severe abdominal pain in the right lower quadrant of his abdomen. He had an emergency appendectomy, which was performed to remove the appendix. The procedure was successful and the patient recovered well after two days. The patient was diagnosed with acute appendicitis, which means that the appendix was inflamed and causing pain. The patient underwent an emergency appendectomy, which means that the appendix was removed. The procedure was uneventful, and the patient recovered well after two days."
      ]
     },
     "metadata": {},
     "output_type": "display_data"
    }
   ],
   "source": [
    "process_s3_json_output_and_save(validation_json_file_name)"
   ]
  },
  {
   "cell_type": "markdown",
   "metadata": {},
   "source": [
    "### JSON Lines"
   ]
  },
  {
   "cell_type": "code",
   "execution_count": null,
   "metadata": {
    "tags": []
   },
   "outputs": [],
   "source": [
    "transformer = model.transformer(\n",
    "    instance_count=1,\n",
    "    instance_type=batch_transform_inference_instance_type,\n",
    "    accept=\"application/jsonlines\",\n",
    "    output_path=validation_output_jsonl_path\n",
    ")\n",
    "transformer.transform(validation_input_jsonl_path, content_type=\"application/jsonlines\")\n",
    "transformer.wait()"
   ]
  },
  {
   "cell_type": "code",
   "execution_count": null,
   "metadata": {
    "tags": []
   },
   "outputs": [],
   "source": [
    "from urllib.parse import urlparse\n",
    "\n",
    "def process_s3_jsonlines_output_and_save(validation_file_name):\n",
    "\n",
    "    output_file_path = f\"{jsonl_output_dir}/{validation_file_name}.out\"\n",
    "    parsed_url = urlparse(transformer.output_path)\n",
    "    file_key = f\"{parsed_url.path[1:]}{validation_file_name}.out\"\n",
    "    response = s3_client.get_object(Bucket=s3_bucket, Key=file_key)\n",
    "\n",
    "    data = response[\"Body\"].read().decode(\"utf-8\")\n",
    "    print(data)\n",
    "\n",
    "    # Save the data to the output file\n",
    "    with open(output_file_path, 'w') as f_out:\n",
    "        for item in data.split('\\n'):\n",
    "            f_out.write(item + '\\n')"
   ]
  },
  {
   "cell_type": "code",
   "execution_count": null,
   "metadata": {
    "tags": []
   },
   "outputs": [
    {
     "name": "stdout",
     "output_type": "stream",
     "text": [
      "{\"summary\": \"This is a clinical note about a 38-year-old woman who is considering bariatric surgery for weight loss. She has been struggling with obesity for more than 25 years and wants to improve her physical stamina and self-perception. She has tried various diets and weight loss programs, including Jenny Craig, Optifast, Herbalife, a gym regimen, South Beach Diet, and Alli. She has a history of diabetes and sleep apnea, and has had appendectomy in the past. She takes Metformin, Amlodipine, Lipitor, Metoprolol, and a daily multivitamin. She will schedule appointments with a nutritionist and social worker and undergo an upper endoscopy. She will be approved for bariatric surgery and will be requesting a letter of medical necessity from her doctor.\"}\n",
      "{\"summary\": \"This is a clinical note about a 45-year-old man who had severe abdominal pain in the right lower quadrant of his abdomen. He had an emergency appendectomy, which was performed to remove the appendix. The procedure was successful and the patient recovered well after two days. The patient was diagnosed with acute appendicitis, which means that the appendix was inflamed and causing pain. The patient underwent an emergency appendectomy, which means that the appendix was removed. The procedure was uneventful, and the patient recovered well after two days.\"}\n"
     ]
    }
   ],
   "source": [
    "process_s3_jsonlines_output_and_save(validation_jsonl_file_name)"
   ]
  },
  {
   "cell_type": "code",
   "execution_count": null,
   "metadata": {
    "tags": []
   },
   "outputs": [
    {
     "name": "stderr",
     "output_type": "stream",
     "text": [
      "INFO:sagemaker:Deleting model with name: en-summarize-clinical-laymen-onnx-pipel-2024-05-02-12-44-03-861\n"
     ]
    }
   ],
   "source": [
    "model.delete_model()"
   ]
  },
  {
   "cell_type": "markdown",
   "metadata": {},
   "source": [
    "### Unsubscribe to the listing (optional)"
   ]
  },
  {
   "cell_type": "markdown",
   "metadata": {},
   "source": [
    "If you would like to unsubscribe to the model package, follow these steps. Before you cancel the subscription, ensure that you do not have any [deployable model](https://console.aws.amazon.com/sagemaker/home#/models) created from the model package or using the algorithm. Note - You can find this information by looking at the container name associated with the model. \n",
    "\n",
    "**Steps to unsubscribe to product from AWS Marketplace**:\n",
    "1. Navigate to __Machine Learning__ tab on [__Your Software subscriptions page__](https://aws.amazon.com/marketplace/ai/library?productType=ml&ref_=mlmp_gitdemo_indust)\n",
    "2. Locate the listing that you want to cancel the subscription for, and then choose __Cancel Subscription__  to cancel the subscription.\n",
    "\n"
   ]
  }
 ],
 "metadata": {
  "instance_type": "ml.t3.medium",
  "kernelspec": {
   "display_name": "conda_python3",
   "language": "python",
   "name": "conda_python3"
  },
  "language_info": {
   "codemirror_mode": {
    "name": "ipython",
    "version": 3
   },
   "file_extension": ".py",
   "mimetype": "text/x-python",
   "name": "python",
   "nbconvert_exporter": "python",
   "pygments_lexer": "ipython3",
   "version": "3.10.14"
  }
 },
 "nbformat": 4,
 "nbformat_minor": 4
}

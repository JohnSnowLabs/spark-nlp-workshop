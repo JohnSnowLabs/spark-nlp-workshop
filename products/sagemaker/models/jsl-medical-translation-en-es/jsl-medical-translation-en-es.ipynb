{
 "cells": [
  {
   "cell_type": "markdown",
   "id": "b04fcd6b-2ba4-41a3-80f8-7297f53e7fe1",
   "metadata": {},
   "source": [
    "## 1. Subscribe to the model package"
   ]
  },
  {
   "cell_type": "markdown",
   "id": "2f0cb09c-b511-4dde-866e-8efd6171cef2",
   "metadata": {},
   "source": [
    "To subscribe to the model package:\n",
    "1. Open the model package listing page <font color='red'> For Seller to update:[Title_of_your_product](Provide link to your marketplace listing of your product).</font>\n",
    "1. On the AWS Marketplace listing, click on the **Continue to subscribe** button.\n",
    "1. On the **Subscribe to this software** page, review and click on **\"Accept Offer\"** if you and your organization agrees with EULA, pricing, and support terms. \n",
    "1. Once you click on **Continue to configuration button** and then choose a **region**, you will see a **Product Arn** displayed. This is the model package ARN that you need to specify while creating a deployable model using Boto3. Copy the ARN corresponding to your region and specify the same in the following cell."
   ]
  },
  {
   "cell_type": "markdown",
   "id": "af7f497c-e83e-4c3b-a9f3-0ed8d208324b",
   "metadata": {},
   "source": [
    "## Medical Text Translation (EN-ES)\n",
    "\n",
    "- **Model**: `jsl-medical-translation-en-es`\n",
    "- **Model Description**: Medical text translation between English (EN) and Spanish (ES). The model supports a maximum input length of 1024 tokens.\n"
   ]
  },
  {
   "cell_type": "code",
   "execution_count": 1,
   "id": "e9064f51-d7bf-412a-9414-34714da431ce",
   "metadata": {
    "tags": []
   },
   "outputs": [],
   "source": [
    "model_package_arn = \"<Customer to specify Model package ARN corresponding to their AWS region>\""
   ]
  },
  {
   "cell_type": "code",
   "execution_count": 2,
   "id": "f62e72b1-ecd4-4ed8-a79a-38679c04cecc",
   "metadata": {
    "tags": []
   },
   "outputs": [
    {
     "name": "stdout",
     "output_type": "stream",
     "text": [
      "sagemaker.config INFO - Not applying SDK defaults from location: /etc/xdg/sagemaker/config.yaml\n",
      "sagemaker.config INFO - Not applying SDK defaults from location: /home/ec2-user/.config/sagemaker/config.yaml\n"
     ]
    }
   ],
   "source": [
    "import base64\n",
    "import json\n",
    "import uuid\n",
    "from sagemaker import ModelPackage\n",
    "import sagemaker as sage\n",
    "from sagemaker import get_execution_role\n",
    "import boto3\n",
    "from IPython.display import Image, display\n",
    "from PIL import Image as ImageEdit\n",
    "import numpy as np"
   ]
  },
  {
   "cell_type": "code",
   "execution_count": 3,
   "id": "921995dd-3c78-456f-86b9-a33da463c6fe",
   "metadata": {
    "tags": []
   },
   "outputs": [],
   "source": [
    "sagemaker_session = sage.Session()\n",
    "s3_bucket = sagemaker_session.default_bucket()\n",
    "region = sagemaker_session.boto_region_name\n",
    "account_id = boto3.client(\"sts\").get_caller_identity().get(\"Account\")\n",
    "role = get_execution_role()\n",
    "\n",
    "sagemaker = boto3.client(\"sagemaker\")\n",
    "s3_client = sagemaker_session.boto_session.client(\"s3\")\n",
    "ecr = boto3.client(\"ecr\")\n",
    "sm_runtime = boto3.client(\"sagemaker-runtime\")"
   ]
  },
  {
   "cell_type": "code",
   "execution_count": 4,
   "id": "2f5465d5-ba64-4887-9121-3d8455b362dc",
   "metadata": {
    "tags": []
   },
   "outputs": [],
   "source": [
    "model_name = \"jsl-medical-translation-en-es\"\n",
    "\n",
    "real_time_inference_instance_type = \"ml.m4.2xlarge\"\n",
    "batch_transform_inference_instance_type = \"ml.m4.2xlarge\""
   ]
  },
  {
   "cell_type": "markdown",
   "id": "db96a6a0-2caf-4d1d-96cc-b4ae415ef1c9",
   "metadata": {},
   "source": [
    "## Using the Model Package\n",
    "\n",
    "This model package can be used to translate text from English to Spanish or vice versa. To specify the translation direction, set the `TRANSLATION_DIRECTION` environment variable. The possible values for `TRANSLATION_DIRECTION` are:\n",
    "\n",
    "- `'en_to_es'` for translating English to Spanish\n",
    "- `'es_to_en'` for translating Spanish to English\n",
    "\n",
    "If `TRANSLATION_DIRECTION` is not provided, the default value `'en_to_es'` will be used.\n"
   ]
  },
  {
   "cell_type": "markdown",
   "id": "17fcdb36-fcdd-46b5-94ef-8bb0a16e87c2",
   "metadata": {},
   "source": [
    "## 2. create a deployable model from the model package (EN ==> ES)."
   ]
  },
  {
   "cell_type": "code",
   "execution_count": 5,
   "id": "c899babc-9300-4f84-a1dd-03903fa4850a",
   "metadata": {
    "tags": []
   },
   "outputs": [],
   "source": [
    "# Define Model and Endpoint configuration parameter\n",
    "\n",
    "config = {\n",
    "    'TRANSLATION_DIRECTION': 'en_to_es',\n",
    "}\n",
    "\n",
    "\n",
    "model = ModelPackage(\n",
    "    role=role, \n",
    "    model_package_arn=model_package_arn, \n",
    "    sagemaker_session=sagemaker_session, \n",
    "    env=config\n",
    ")"
   ]
  },
  {
   "cell_type": "markdown",
   "id": "4f6e0c20-9371-49c8-acf0-0e816aca65bd",
   "metadata": {},
   "source": [
    "### 2.1 Create an endpoint and perform real-time inference"
   ]
  },
  {
   "cell_type": "markdown",
   "id": "1ef21fc2-1e99-4931-85ff-3f1b0b179df8",
   "metadata": {
    "tags": []
   },
   "source": [
    "If you want to understand how real-time inference with Amazon SageMaker works, see [Documentation](https://docs.aws.amazon.com/sagemaker/latest/dg/how-it-works-hosting.html)."
   ]
  },
  {
   "cell_type": "markdown",
   "id": "27106c4a-fcf7-446d-af6e-564b15053390",
   "metadata": {},
   "source": [
    "#### A. Deploy the SageMaker model to an endpoint"
   ]
  },
  {
   "cell_type": "code",
   "execution_count": 6,
   "id": "e9bf5ac0-e8ff-49f4-be25-fc5681947aba",
   "metadata": {
    "tags": []
   },
   "outputs": [
    {
     "name": "stdout",
     "output_type": "stream",
     "text": [
      "----------!"
     ]
    }
   ],
   "source": [
    "# Deploy the model\n",
    "predictor = model.deploy(\n",
    "    initial_instance_count=1,\n",
    "    instance_type=real_time_inference_instance_type, \n",
    "    endpoint_name=model_name,\n",
    ")"
   ]
  },
  {
   "cell_type": "markdown",
   "id": "5c34799f-68e9-4141-9d57-715ffaa23eba",
   "metadata": {},
   "source": [
    "Once endpoint has been created, you would be able to perform real-time inference."
   ]
  },
  {
   "cell_type": "code",
   "execution_count": 7,
   "id": "7ade76c6-3c87-464f-bff1-3fd939a9aa61",
   "metadata": {
    "tags": []
   },
   "outputs": [],
   "source": [
    "import json\n",
    "import pandas as pd\n",
    "import os\n",
    "import boto3\n",
    "\n",
    "# Set display options\n",
    "pd.set_option('display.max_rows', None)\n",
    "pd.set_option('display.max_columns', None)\n",
    "pd.set_option('display.max_colwidth', None)\n",
    "\n",
    "def process_data_and_invoke_realtime_endpoint(data, content_type, accept, translation_direction):\n",
    "\n",
    "    content_type_to_format = {'application/json': 'json', 'application/jsonlines': 'jsonl'}\n",
    "    input_format = content_type_to_format.get(content_type)\n",
    "    if content_type not in content_type_to_format.keys() or accept not in content_type_to_format.keys():\n",
    "        raise ValueError(\"Invalid content_type or accept. It should be either 'application/json' or 'application/jsonlines'.\")\n",
    "\n",
    "    i = 1\n",
    "    input_dir = f'inputs/{translation_direction}/real-time/{input_format}'\n",
    "    output_dir = f'outputs/{translation_direction}/real-time/{input_format}'\n",
    "    s3_input_dir = f\"{model_name}/validation-input/{translation_direction}/real-time/{input_format}\"\n",
    "    s3_output_dir = f\"{model_name}/validation-output/{translation_direction}/real-time/{input_format}\"\n",
    "\n",
    "    input_file_name = f'{input_dir}/input{i}.{input_format}'\n",
    "    output_file_name = f'{output_dir}/{os.path.basename(input_file_name)}.out'\n",
    "\n",
    "    while os.path.exists(input_file_name) or os.path.exists(output_file_name):\n",
    "        i += 1\n",
    "        input_file_name = f'{input_dir}/input{i}.{input_format}'\n",
    "        output_file_name = f'{output_dir}/{os.path.basename(input_file_name)}.out'\n",
    "\n",
    "\n",
    "    os.makedirs(os.path.dirname(input_file_name), exist_ok=True)\n",
    "    os.makedirs(os.path.dirname(output_file_name), exist_ok=True)\n",
    "    \n",
    "    input_data = json.dumps(data, indent=4, ensure_ascii=False) if content_type == 'application/json' else data\n",
    "\n",
    "\n",
    "    if content_type == 'application/json':\n",
    "        with open(input_file_name, \"w\", encoding='utf-8') as f:\n",
    "            f.write(input_data)\n",
    "    else:\n",
    "        with open(input_file_name, 'w', encoding='utf-8') as file:\n",
    "            for line in input_data.splitlines():\n",
    "                json_object = json.loads(line)\n",
    "                file.write(json.dumps(json_object, ensure_ascii=False) + '\\n')\n",
    "\n",
    "    with open(input_file_name, 'rb') as data:\n",
    "        s3_client.put_object(Bucket=s3_bucket, Key=f\"{s3_input_dir}/{os.path.basename(input_file_name)}\", Body=data)\n",
    "\n",
    "    # Invoke the SageMaker endpoint\n",
    "    response = sm_runtime.invoke_endpoint(\n",
    "        EndpointName=model_name,\n",
    "        ContentType=content_type,\n",
    "        Accept=accept,\n",
    "        Body=input_data,\n",
    "    )\n",
    "\n",
    "    # Read response data\n",
    "    response_data = json.loads(response[\"Body\"].read().decode(\"utf-8\")) if accept == 'application/json' else response['Body'].read().decode('utf-8')\n",
    "\n",
    "    # Save response data to file\n",
    "    with open(output_file_name, 'w') as f_out:\n",
    "        if accept == 'application/json':\n",
    "            json.dump(response_data, f_out, indent=4, ensure_ascii=False)\n",
    "        else:\n",
    "            for item in response_data.split('\\n'):\n",
    "                f_out.write(item + '\\n')\n",
    "\n",
    "    with open(output_file_name, 'rb') as data:\n",
    "        s3_client.put_object(Bucket=s3_bucket, Key=f\"{s3_output_dir}/{os.path.basename(output_file_name)}\", Body=data)\n",
    "\n",
    "    return response_data"
   ]
  },
  {
   "cell_type": "markdown",
   "id": "78db54c9-45fb-4a98-bd72-3d4309cdec11",
   "metadata": {},
   "source": [
    "#### Initial Setup"
   ]
  },
  {
   "cell_type": "code",
   "execution_count": 8,
   "id": "22325356-ec1b-422a-a43a-5646d9fffe61",
   "metadata": {
    "tags": []
   },
   "outputs": [],
   "source": [
    "english_text = \"Primary empty sella turcica associated with diabetes insipidus and campimetric defect\"\n",
    "english_records = [\n",
    "    \"The patient was diagnosed with acute myocardial infarction.\",\n",
    "    \"Chronic obstructive pulmonary disease is characterized by long-term breathing problems.\",\n",
    "]"
   ]
  },
  {
   "cell_type": "markdown",
   "id": "cf3f6d1b-a818-4b7c-8904-709d48b2f24b",
   "metadata": {},
   "source": [
    "### JSON"
   ]
  },
  {
   "cell_type": "markdown",
   "id": "395429b5-df5e-458f-b732-b32522297f01",
   "metadata": {},
   "source": [
    "\n",
    "1. **Input format**: Single Text Document\n",
    "\n",
    "Provide a single text document as a string.\n",
    "\n",
    "  \n",
    "  \n",
    "```json\n",
    "{\n",
    "    \"text\": \"Single text document\"\n",
    "}\n",
    "```\n",
    "\n",
    "2. **Input format**: Array of Text Documents\n",
    "\n",
    "Use an array containing multiple text documents. Each element represents a separate text document.\n",
    "\n",
    "```json\n",
    "{\n",
    "    \"text\": [\n",
    "        \"Text document 1\",\n",
    "        \"Text document 2\",\n",
    "        ...\n",
    "    ]\n",
    "}\n",
    "```"
   ]
  },
  {
   "cell_type": "markdown",
   "id": "84b4612b-a399-4247-9e9e-6f72a8ae777d",
   "metadata": {},
   "source": [
    "##### Example 1"
   ]
  },
  {
   "cell_type": "code",
   "execution_count": 9,
   "id": "4f0ac7a7-7637-42ac-945d-2a1f63d0ca53",
   "metadata": {
    "tags": []
   },
   "outputs": [
    {
     "data": {
      "text/html": [
       "<div>\n",
       "<style scoped>\n",
       "    .dataframe tbody tr th:only-of-type {\n",
       "        vertical-align: middle;\n",
       "    }\n",
       "\n",
       "    .dataframe tbody tr th {\n",
       "        vertical-align: top;\n",
       "    }\n",
       "\n",
       "    .dataframe thead th {\n",
       "        text-align: right;\n",
       "    }\n",
       "</style>\n",
       "<table border=\"1\" class=\"dataframe\">\n",
       "  <thead>\n",
       "    <tr style=\"text-align: right;\">\n",
       "      <th></th>\n",
       "      <th>predictions</th>\n",
       "    </tr>\n",
       "  </thead>\n",
       "  <tbody>\n",
       "    <tr>\n",
       "      <th>0</th>\n",
       "      <td>Sella turca vacía primaria asociada a diabetes insípida y defecto campimétrico.</td>\n",
       "    </tr>\n",
       "  </tbody>\n",
       "</table>\n",
       "</div>"
      ],
      "text/plain": [
       "                                                                       predictions\n",
       "0  Sella turca vacía primaria asociada a diabetes insípida y defecto campimétrico."
      ]
     },
     "execution_count": 9,
     "metadata": {},
     "output_type": "execute_result"
    }
   ],
   "source": [
    "input_json_data = {\"text\": english_text}\n",
    "\n",
    "data =  process_data_and_invoke_realtime_endpoint(input_json_data, content_type=\"application/json\" , accept=\"application/json\", translation_direction=\"en-to-es\")\n",
    "\n",
    "pd.DataFrame(data)"
   ]
  },
  {
   "cell_type": "markdown",
   "id": "d0837468-9281-47fd-a514-d8d34297378e",
   "metadata": {},
   "source": [
    "##### Example 2"
   ]
  },
  {
   "cell_type": "code",
   "execution_count": 10,
   "id": "429632d7-b588-4a76-a06b-6b928dbd3d46",
   "metadata": {
    "tags": []
   },
   "outputs": [
    {
     "data": {
      "text/html": [
       "<div>\n",
       "<style scoped>\n",
       "    .dataframe tbody tr th:only-of-type {\n",
       "        vertical-align: middle;\n",
       "    }\n",
       "\n",
       "    .dataframe tbody tr th {\n",
       "        vertical-align: top;\n",
       "    }\n",
       "\n",
       "    .dataframe thead th {\n",
       "        text-align: right;\n",
       "    }\n",
       "</style>\n",
       "<table border=\"1\" class=\"dataframe\">\n",
       "  <thead>\n",
       "    <tr style=\"text-align: right;\">\n",
       "      <th></th>\n",
       "      <th>predictions</th>\n",
       "    </tr>\n",
       "  </thead>\n",
       "  <tbody>\n",
       "    <tr>\n",
       "      <th>0</th>\n",
       "      <td>El paciente fue diagnosticado de infarto agudo de miocardio.</td>\n",
       "    </tr>\n",
       "    <tr>\n",
       "      <th>1</th>\n",
       "      <td>La enfermedad pulmonar obstructiva crónica se caracteriza por problemas respiratorios a largo plazo.</td>\n",
       "    </tr>\n",
       "  </tbody>\n",
       "</table>\n",
       "</div>"
      ],
      "text/plain": [
       "                                                                                            predictions\n",
       "0                                          El paciente fue diagnosticado de infarto agudo de miocardio.\n",
       "1  La enfermedad pulmonar obstructiva crónica se caracteriza por problemas respiratorios a largo plazo."
      ]
     },
     "execution_count": 10,
     "metadata": {},
     "output_type": "execute_result"
    }
   ],
   "source": [
    "input_json_data = {\"text\": english_records} #The timeout for InvokeEndpoint is 60 seconds, so please carefully select the number of input texts you are sending in one request.\n",
    "\n",
    "data =  process_data_and_invoke_realtime_endpoint(input_json_data, content_type=\"application/json\" , accept=\"application/json\", translation_direction=\"en-to-es\")\n",
    "\n",
    "pd.DataFrame(data)"
   ]
  },
  {
   "cell_type": "markdown",
   "id": "5f30d3da-cf96-4894-adce-3de7d85a1b88",
   "metadata": {},
   "source": [
    "#### JSON Lines"
   ]
  },
  {
   "cell_type": "markdown",
   "id": "0157d70f-7fd1-42c9-b8ec-324ef5407844",
   "metadata": {},
   "source": [
    "**Input format**: Provide input in JSON Lines format, where each line is a JSON object representing a text document along with any optional parameters.\n",
    "\n",
    "```json\n",
    "{\"text\": \"Text document 1\"}\n",
    "{\"text\": \"Text document 2\"}\n",
    "```"
   ]
  },
  {
   "cell_type": "code",
   "execution_count": 11,
   "id": "27da6f13-6ac7-4522-aa12-a0ecfc0d1329",
   "metadata": {
    "tags": []
   },
   "outputs": [],
   "source": [
    "import json\n",
    "\n",
    "def create_jsonl(records):\n",
    "    json_records = []\n",
    "\n",
    "    for text in records:\n",
    "        record = {\n",
    "            \"text\": text\n",
    "        }\n",
    "        json_records.append(record)\n",
    "\n",
    "    json_lines = '\\n'.join(json.dumps(record) for record in json_records)\n",
    "\n",
    "    return json_lines"
   ]
  },
  {
   "cell_type": "markdown",
   "id": "a47d991b-79a6-4eb9-a7f6-5d8f48ca5ddd",
   "metadata": {},
   "source": [
    "##### Example 1"
   ]
  },
  {
   "cell_type": "code",
   "execution_count": 12,
   "id": "0f6159b7-a154-4a79-b1ae-fd9d466b6cbe",
   "metadata": {
    "tags": []
   },
   "outputs": [
    {
     "name": "stdout",
     "output_type": "stream",
     "text": [
      "{\"predictions\": \"El paciente fue diagnosticado de infarto agudo de miocardio.\"}\n",
      "{\"predictions\": \"La enfermedad pulmonar obstructiva crónica se caracteriza por problemas respiratorios a largo plazo.\"}\n"
     ]
    }
   ],
   "source": [
    "input_jsonl_data = create_jsonl(english_records) #The timeout for InvokeEndpoint is 60 seconds, so please carefully select the number of input texts you are sending in one request.\n",
    "\n",
    "data =  process_data_and_invoke_realtime_endpoint(input_jsonl_data, content_type=\"application/jsonlines\" , accept=\"application/jsonlines\", translation_direction=\"en-to-es\")\n",
    "\n",
    "print(data)"
   ]
  },
  {
   "cell_type": "markdown",
   "id": "a018f3d1-609e-4513-ad13-2dc4e118d8ec",
   "metadata": {},
   "source": [
    "#### C. Delete the endpoint"
   ]
  },
  {
   "cell_type": "markdown",
   "id": "46dd0448-55ea-44e7-ae8d-a0f7f65e3402",
   "metadata": {},
   "source": [
    "Now that you have successfully performed a real-time inference, you do not need the endpoint any more. You can terminate the endpoint to avoid being charged."
   ]
  },
  {
   "cell_type": "code",
   "execution_count": 13,
   "id": "c674fed8-ff21-4dbe-be82-1021456db7ac",
   "metadata": {
    "tags": []
   },
   "outputs": [],
   "source": [
    "model.sagemaker_session.delete_endpoint(model_name)\n",
    "model.sagemaker_session.delete_endpoint_config(model_name)"
   ]
  },
  {
   "cell_type": "markdown",
   "id": "c721b3c7-2356-4c52-89ce-fa659abc3f33",
   "metadata": {},
   "source": [
    "### 2.2 Batch inference"
   ]
  },
  {
   "cell_type": "code",
   "execution_count": 14,
   "id": "5aae2c81-a712-4e8b-a542-4a92ceb301df",
   "metadata": {
    "tags": []
   },
   "outputs": [],
   "source": [
    "import json\n",
    "import os\n",
    "\n",
    "\n",
    "input_dir = 'inputs/en-to-es/batch'\n",
    "json_input_dir = f\"{input_dir}/json\"\n",
    "jsonl_input_dir = f\"{input_dir}/jsonl\"\n",
    "\n",
    "output_dir = 'outputs/en-to-es/batch'\n",
    "json_output_dir = f\"{output_dir}/json\"\n",
    "jsonl_output_dir = f\"{output_dir}/jsonl\"\n",
    "\n",
    "# JSON file names\n",
    "validation_json_file_name = \"input.json\"\n",
    "\n",
    "# JSONL file names\n",
    "validation_jsonl_file_name = \"input.jsonl\"\n",
    "\n",
    "\n",
    "os.makedirs(json_input_dir, exist_ok=True)\n",
    "os.makedirs(jsonl_input_dir, exist_ok=True)\n",
    "os.makedirs(json_output_dir, exist_ok=True)\n",
    "os.makedirs(jsonl_output_dir, exist_ok=True)\n",
    "\n",
    "\n",
    "validation_input_json_path = f\"s3://{s3_bucket}/{model_name}/validation-input/en-to-es/batch/json/\"\n",
    "validation_output_json_path = f\"s3://{s3_bucket}/{model_name}/validation-output/en-to-es/batch/json/\"\n",
    "\n",
    "validation_input_jsonl_path = f\"s3://{s3_bucket}/{model_name}/validation-input/en-to-es/batch/jsonl/\"\n",
    "validation_output_jsonl_path = f\"s3://{s3_bucket}/{model_name}/validation-output/en-to-es/batch/jsonl/\"\n",
    "\n",
    "\n",
    "def write_and_upload_to_s3(input_data, file_name, translation_direction):\n",
    "\n",
    "    file_format = os.path.splitext(file_name)[1].lower()\n",
    "    s3_key = f\"{model_name}/validation-input/{translation_direction}/batch/{file_format[1:]}/{os.path.basename(file_name)}\"\n",
    "\n",
    "    if file_format == \".json\":\n",
    "        input_data_json = json.dumps(input_data, indent=4, ensure_ascii=False)\n",
    "\n",
    "        with open(file_name, \"w\", encoding='utf-8') as f:\n",
    "            f.write(input_data_json)\n",
    "    elif file_format == \".jsonl\":\n",
    "        with open(file_name, 'w', encoding='utf-8') as file:\n",
    "            for line in input_data.splitlines():\n",
    "                json_object = json.loads(line)\n",
    "                file.write(json.dumps(json_object, ensure_ascii=False) + '\\n')\n",
    "\n",
    "    with open(file_name, 'rb') as data:\n",
    "        s3_client.put_object(Bucket=s3_bucket, Key=s3_key, Body=data)\n",
    "\n",
    "\n",
    "\n",
    "input_jsonl_data = create_jsonl(english_records)\n",
    "input_json_data ={\"text\": english_records}\n",
    "\n",
    "\n",
    "write_and_upload_to_s3(input_jsonl_data, f\"{jsonl_input_dir}/{validation_jsonl_file_name}\",translation_direction = \"en-to-es\")\n",
    "write_and_upload_to_s3(input_json_data, f\"{json_input_dir}/{validation_json_file_name}\", translation_direction = \"en-to-es\")"
   ]
  },
  {
   "cell_type": "markdown",
   "id": "08cd8234-0293-4fad-b2ac-2a48dd26f22c",
   "metadata": {},
   "source": [
    "#### JSON"
   ]
  },
  {
   "cell_type": "code",
   "execution_count": null,
   "id": "13c29945-b8cf-4244-b45e-c8846c11671b",
   "metadata": {
    "tags": []
   },
   "outputs": [],
   "source": [
    "# Initialize a SageMaker Transformer object for making predictions\n",
    "transformer = model.transformer(\n",
    "    instance_count=1,\n",
    "    instance_type=batch_transform_inference_instance_type,\n",
    "    accept=\"application/json\",\n",
    "    output_path=validation_output_json_path\n",
    ")\n",
    "\n",
    "transformer.transform(validation_input_json_path, content_type=\"application/json\")\n",
    "transformer.wait()"
   ]
  },
  {
   "cell_type": "code",
   "execution_count": 16,
   "id": "63d44269-5441-4466-8946-63a96f67f8da",
   "metadata": {
    "tags": []
   },
   "outputs": [],
   "source": [
    "from urllib.parse import urlparse\n",
    "\n",
    "def process_s3_json_output_and_save(validation_file_name):\n",
    "    \n",
    "    output_file_path = f\"{json_output_dir}/{validation_file_name}.out\"\n",
    "    parsed_url = urlparse(transformer.output_path)\n",
    "    file_key = f\"{parsed_url.path[1:]}{validation_file_name}.out\"\n",
    "    response = s3_client.get_object(Bucket=s3_bucket, Key=file_key)\n",
    "\n",
    "    data = json.loads(response[\"Body\"].read().decode(\"utf-8\"))\n",
    "    df = pd.DataFrame(data)\n",
    "    display(df)\n",
    "\n",
    "    with open(output_file_path, 'w', encoding='utf-8') as f_out:\n",
    "        json.dump(data, f_out, indent=4, ensure_ascii=False)"
   ]
  },
  {
   "cell_type": "code",
   "execution_count": 17,
   "id": "b9faea27-0cb1-4696-a18f-eaf0629aa6a1",
   "metadata": {
    "tags": []
   },
   "outputs": [
    {
     "data": {
      "text/html": [
       "<div>\n",
       "<style scoped>\n",
       "    .dataframe tbody tr th:only-of-type {\n",
       "        vertical-align: middle;\n",
       "    }\n",
       "\n",
       "    .dataframe tbody tr th {\n",
       "        vertical-align: top;\n",
       "    }\n",
       "\n",
       "    .dataframe thead th {\n",
       "        text-align: right;\n",
       "    }\n",
       "</style>\n",
       "<table border=\"1\" class=\"dataframe\">\n",
       "  <thead>\n",
       "    <tr style=\"text-align: right;\">\n",
       "      <th></th>\n",
       "      <th>predictions</th>\n",
       "    </tr>\n",
       "  </thead>\n",
       "  <tbody>\n",
       "    <tr>\n",
       "      <th>0</th>\n",
       "      <td>El paciente fue diagnosticado de infarto agudo de miocardio.</td>\n",
       "    </tr>\n",
       "    <tr>\n",
       "      <th>1</th>\n",
       "      <td>La enfermedad pulmonar obstructiva crónica se caracteriza por problemas respiratorios a largo plazo.</td>\n",
       "    </tr>\n",
       "  </tbody>\n",
       "</table>\n",
       "</div>"
      ],
      "text/plain": [
       "                                                                                            predictions\n",
       "0                                          El paciente fue diagnosticado de infarto agudo de miocardio.\n",
       "1  La enfermedad pulmonar obstructiva crónica se caracteriza por problemas respiratorios a largo plazo."
      ]
     },
     "metadata": {},
     "output_type": "display_data"
    }
   ],
   "source": [
    "process_s3_json_output_and_save(validation_json_file_name)"
   ]
  },
  {
   "cell_type": "markdown",
   "id": "83ab822a-7b45-4589-9114-1fb5350f77a4",
   "metadata": {},
   "source": [
    "#### JSON Lines"
   ]
  },
  {
   "cell_type": "code",
   "execution_count": null,
   "id": "836cb580-eb3c-43e9-8cad-ed576f79f359",
   "metadata": {
    "tags": []
   },
   "outputs": [],
   "source": [
    "transformer = model.transformer(\n",
    "    instance_count=1,\n",
    "    instance_type=batch_transform_inference_instance_type,\n",
    "    accept=\"application/jsonlines\",\n",
    "    output_path=validation_output_jsonl_path\n",
    ")\n",
    "transformer.transform(validation_input_jsonl_path, content_type=\"application/jsonlines\")\n",
    "transformer.wait()"
   ]
  },
  {
   "cell_type": "code",
   "execution_count": 19,
   "id": "b8ca59fa-8bb9-4034-b3cc-94b879a207d7",
   "metadata": {
    "tags": []
   },
   "outputs": [],
   "source": [
    "from urllib.parse import urlparse\n",
    "\n",
    "def process_s3_jsonlines_output_and_save(validation_file_name):\n",
    "\n",
    "    output_file_path = f\"{jsonl_output_dir}/{validation_file_name}.out\"\n",
    "    parsed_url = urlparse(transformer.output_path)\n",
    "    file_key = f\"{parsed_url.path[1:]}{validation_file_name}.out\"\n",
    "    response = s3_client.get_object(Bucket=s3_bucket, Key=file_key)\n",
    "\n",
    "    data = response[\"Body\"].read().decode(\"utf-8\")\n",
    "    print(data)\n",
    "\n",
    "    # Save the data to the output file\n",
    "    with open(output_file_path, 'w') as f_out:\n",
    "        for item in data.split('\\n'):\n",
    "            f_out.write(item + '\\n')"
   ]
  },
  {
   "cell_type": "code",
   "execution_count": 20,
   "id": "b8edfdea-a9ca-4ea1-9522-9db32b840c79",
   "metadata": {
    "tags": []
   },
   "outputs": [
    {
     "name": "stdout",
     "output_type": "stream",
     "text": [
      "{\"predictions\": \"El paciente fue diagnosticado de infarto agudo de miocardio.\"}\n",
      "{\"predictions\": \"La enfermedad pulmonar obstructiva crónica se caracteriza por problemas respiratorios a largo plazo.\"}\n"
     ]
    }
   ],
   "source": [
    "process_s3_jsonlines_output_and_save(validation_jsonl_file_name)"
   ]
  },
  {
   "cell_type": "code",
   "execution_count": 21,
   "id": "de875f21-8763-4155-8146-2a50ad91c372",
   "metadata": {
    "tags": []
   },
   "outputs": [
    {
     "name": "stderr",
     "output_type": "stream",
     "text": [
      "INFO:sagemaker:Deleting model with name: jsl-medical-translation-en-es-2024-07-03-14-25-17-522\n"
     ]
    }
   ],
   "source": [
    "model.delete_model()"
   ]
  },
  {
   "cell_type": "markdown",
   "id": "f19c6495-671a-44c5-99b3-d71b3b191bcb",
   "metadata": {},
   "source": [
    "## 3. create a deployable model from the model package (ES ==> EN)."
   ]
  },
  {
   "cell_type": "code",
   "execution_count": 22,
   "id": "c714651e-2823-417f-b617-6be13ca84edf",
   "metadata": {
    "tags": []
   },
   "outputs": [],
   "source": [
    "# Define Model and Endpoint configuration parameter\n",
    "\n",
    "config = {\n",
    "    'TRANSLATION_DIRECTION': 'es_to_en',\n",
    "}\n",
    "\n",
    "\n",
    "model = ModelPackage(\n",
    "    role=role, \n",
    "    model_package_arn=model_package_arn, \n",
    "    sagemaker_session=sagemaker_session, \n",
    "    env=config\n",
    ")"
   ]
  },
  {
   "cell_type": "markdown",
   "id": "c58d099f-8c1f-407c-8118-f2a822bfbba7",
   "metadata": {},
   "source": [
    "### 3.1 Create an endpoint and perform real-time inference"
   ]
  },
  {
   "cell_type": "markdown",
   "id": "528755ac-cb2f-49f5-b69c-882e010c7593",
   "metadata": {
    "tags": []
   },
   "source": [
    "If you want to understand how real-time inference with Amazon SageMaker works, see [Documentation](https://docs.aws.amazon.com/sagemaker/latest/dg/how-it-works-hosting.html)."
   ]
  },
  {
   "cell_type": "markdown",
   "id": "180a3c35-0abc-4ef8-925b-9c064b433995",
   "metadata": {},
   "source": [
    "#### A. Deploy the SageMaker model to an endpoint"
   ]
  },
  {
   "cell_type": "code",
   "execution_count": null,
   "id": "4b3cfdc9-46df-4002-9e79-8ca6ebb6c00a",
   "metadata": {
    "tags": []
   },
   "outputs": [],
   "source": [
    "# Deploy the model\n",
    "predictor = model.deploy(\n",
    "    initial_instance_count=1,\n",
    "    instance_type=real_time_inference_instance_type, \n",
    "    endpoint_name=model_name,\n",
    ")"
   ]
  },
  {
   "cell_type": "markdown",
   "id": "61696a67-b58f-4122-a993-7e9ac318f6cb",
   "metadata": {},
   "source": [
    "Once endpoint has been created, you would be able to perform real-time inference."
   ]
  },
  {
   "cell_type": "markdown",
   "id": "d3b88d03-dbcc-4bdf-83e2-9f0d7d8da390",
   "metadata": {},
   "source": [
    "#### Initial Setup"
   ]
  },
  {
   "cell_type": "code",
   "execution_count": 24,
   "id": "d15e5e6c-9503-45f9-aa68-e9a4de72ec63",
   "metadata": {
    "tags": []
   },
   "outputs": [],
   "source": [
    "spanish_text = \"Evaluación clínico-radiológica de la técnica de aloinjerto compactado y vástago cementado en cirugías de revisión de cadera.\"\n",
    "spanish_records = [\n",
    "    \"El paciente fue sometido a una tomografía computarizada del abdomen.\",\n",
    "    \"La hipertensión arterial es una condición crónica que puede causar daño a varios órganos.\"\n",
    "]"
   ]
  },
  {
   "cell_type": "markdown",
   "id": "4e733719-2fe5-48c9-8e9d-e736ed7ddcb8",
   "metadata": {},
   "source": [
    "#### JSON"
   ]
  },
  {
   "cell_type": "markdown",
   "id": "114a50ca-730c-4b37-af19-9867e25cd0aa",
   "metadata": {},
   "source": [
    "##### Example 1"
   ]
  },
  {
   "cell_type": "code",
   "execution_count": 25,
   "id": "9483327e-c705-4a9d-9f6a-8f2189a2557b",
   "metadata": {
    "tags": []
   },
   "outputs": [
    {
     "data": {
      "text/html": [
       "<div>\n",
       "<style scoped>\n",
       "    .dataframe tbody tr th:only-of-type {\n",
       "        vertical-align: middle;\n",
       "    }\n",
       "\n",
       "    .dataframe tbody tr th {\n",
       "        vertical-align: top;\n",
       "    }\n",
       "\n",
       "    .dataframe thead th {\n",
       "        text-align: right;\n",
       "    }\n",
       "</style>\n",
       "<table border=\"1\" class=\"dataframe\">\n",
       "  <thead>\n",
       "    <tr style=\"text-align: right;\">\n",
       "      <th></th>\n",
       "      <th>predictions</th>\n",
       "    </tr>\n",
       "  </thead>\n",
       "  <tbody>\n",
       "    <tr>\n",
       "      <th>0</th>\n",
       "      <td>Clinico-radiological evaluation of the compact allo-graft and cemented stent technic in hip revision surgeries.</td>\n",
       "    </tr>\n",
       "  </tbody>\n",
       "</table>\n",
       "</div>"
      ],
      "text/plain": [
       "                                                                                                       predictions\n",
       "0  Clinico-radiological evaluation of the compact allo-graft and cemented stent technic in hip revision surgeries."
      ]
     },
     "execution_count": 25,
     "metadata": {},
     "output_type": "execute_result"
    }
   ],
   "source": [
    "input_json_data = {\"text\": spanish_text}\n",
    "\n",
    "data =  process_data_and_invoke_realtime_endpoint(input_json_data, content_type=\"application/json\" , accept=\"application/json\", translation_direction=\"es-to-en\")\n",
    "\n",
    "pd.DataFrame(data)"
   ]
  },
  {
   "cell_type": "markdown",
   "id": "7eb3966f-6c14-4216-9d34-260d9304af3a",
   "metadata": {},
   "source": [
    "##### Example 2"
   ]
  },
  {
   "cell_type": "code",
   "execution_count": 26,
   "id": "221c1b9b-75de-41c6-b003-6b05c57f7b71",
   "metadata": {
    "tags": []
   },
   "outputs": [
    {
     "data": {
      "text/html": [
       "<div>\n",
       "<style scoped>\n",
       "    .dataframe tbody tr th:only-of-type {\n",
       "        vertical-align: middle;\n",
       "    }\n",
       "\n",
       "    .dataframe tbody tr th {\n",
       "        vertical-align: top;\n",
       "    }\n",
       "\n",
       "    .dataframe thead th {\n",
       "        text-align: right;\n",
       "    }\n",
       "</style>\n",
       "<table border=\"1\" class=\"dataframe\">\n",
       "  <thead>\n",
       "    <tr style=\"text-align: right;\">\n",
       "      <th></th>\n",
       "      <th>predictions</th>\n",
       "    </tr>\n",
       "  </thead>\n",
       "  <tbody>\n",
       "    <tr>\n",
       "      <th>0</th>\n",
       "      <td>The patient was subjected to computed tomography of the abdomen.</td>\n",
       "    </tr>\n",
       "    <tr>\n",
       "      <th>1</th>\n",
       "      <td>Arterial hypertension is a chronic condition that can cause damage to various organs.</td>\n",
       "    </tr>\n",
       "  </tbody>\n",
       "</table>\n",
       "</div>"
      ],
      "text/plain": [
       "                                                                             predictions\n",
       "0                       The patient was subjected to computed tomography of the abdomen.\n",
       "1  Arterial hypertension is a chronic condition that can cause damage to various organs."
      ]
     },
     "execution_count": 26,
     "metadata": {},
     "output_type": "execute_result"
    }
   ],
   "source": [
    "input_json_data = {\"text\": spanish_records} #The timeout for InvokeEndpoint is 60 seconds, so please carefully select the number of input texts you are sending in one request.\n",
    "\n",
    "data =  process_data_and_invoke_realtime_endpoint(input_json_data, content_type=\"application/json\" , accept=\"application/json\", translation_direction=\"es-to-en\")\n",
    "\n",
    "pd.DataFrame(data)"
   ]
  },
  {
   "cell_type": "markdown",
   "id": "566175c4-314b-4412-b97d-aaa9d9acabd1",
   "metadata": {},
   "source": [
    "#### JSON Lines"
   ]
  },
  {
   "cell_type": "markdown",
   "id": "fa43de2e-5c0e-4431-a68a-4de9dd98499f",
   "metadata": {},
   "source": [
    "##### Example 1"
   ]
  },
  {
   "cell_type": "code",
   "execution_count": 27,
   "id": "14917e89-816c-498a-9788-24fbce543bca",
   "metadata": {
    "tags": []
   },
   "outputs": [
    {
     "name": "stdout",
     "output_type": "stream",
     "text": [
      "{\"predictions\": \"The patient was subjected to computed tomography of the abdomen.\"}\n",
      "{\"predictions\": \"Arterial hypertension is a chronic condition that can cause damage to various organs.\"}\n"
     ]
    }
   ],
   "source": [
    "input_jsonl_data = create_jsonl(spanish_records) #The timeout for InvokeEndpoint is 60 seconds, so please carefully select the number of input texts you are sending in one request.\n",
    "\n",
    "data =  process_data_and_invoke_realtime_endpoint(input_jsonl_data, content_type=\"application/jsonlines\" , accept=\"application/jsonlines\", translation_direction=\"es-to-en\")\n",
    "\n",
    "print(data)"
   ]
  },
  {
   "cell_type": "markdown",
   "id": "7aab326f-e872-4446-b084-03c86283c58f",
   "metadata": {},
   "source": [
    "#### C. Delete the endpoint"
   ]
  },
  {
   "cell_type": "markdown",
   "id": "495cc71e-f82a-430a-b5bf-4fbbe16f86a6",
   "metadata": {},
   "source": [
    "Now that you have successfully performed a real-time inference, you do not need the endpoint any more. You can terminate the endpoint to avoid being charged."
   ]
  },
  {
   "cell_type": "code",
   "execution_count": 28,
   "id": "d5f06989-779c-4ac2-87a8-92d0fb4718f5",
   "metadata": {
    "tags": []
   },
   "outputs": [
    {
     "name": "stderr",
     "output_type": "stream",
     "text": [
      "INFO:sagemaker:Deleting endpoint with name: jsl-medical-translation-en-es\n",
      "INFO:sagemaker:Deleting endpoint configuration with name: jsl-medical-translation-en-es\n"
     ]
    }
   ],
   "source": [
    "model.sagemaker_session.delete_endpoint(model_name)\n",
    "model.sagemaker_session.delete_endpoint_config(model_name)"
   ]
  },
  {
   "cell_type": "markdown",
   "id": "2aaa72cd-f020-4fac-aa25-3dadbb204903",
   "metadata": {},
   "source": [
    "## 3.2 Batch inference"
   ]
  },
  {
   "cell_type": "code",
   "execution_count": 29,
   "id": "328b45c4-816c-4ab5-8114-730206d5dbbd",
   "metadata": {
    "tags": []
   },
   "outputs": [],
   "source": [
    "import json\n",
    "import os\n",
    "\n",
    "\n",
    "input_dir = 'inputs/es-to-en/batch'\n",
    "json_input_dir = f\"{input_dir}/json\"\n",
    "jsonl_input_dir = f\"{input_dir}/jsonl\"\n",
    "\n",
    "output_dir = 'outputs/es-to-en/batch'\n",
    "json_output_dir = f\"{output_dir}/json\"\n",
    "jsonl_output_dir = f\"{output_dir}/jsonl\"\n",
    "\n",
    "# JSON file names\n",
    "validation_json_file_name = \"input.json\"\n",
    "\n",
    "# JSONL file names\n",
    "validation_jsonl_file_name = \"input.jsonl\"\n",
    "\n",
    "\n",
    "os.makedirs(json_input_dir, exist_ok=True)\n",
    "os.makedirs(jsonl_input_dir, exist_ok=True)\n",
    "os.makedirs(json_output_dir, exist_ok=True)\n",
    "os.makedirs(jsonl_output_dir, exist_ok=True)\n",
    "\n",
    "\n",
    "validation_input_json_path = f\"s3://{s3_bucket}/{model_name}/validation-input/es-to-en/batch/json/\"\n",
    "validation_output_json_path = f\"s3://{s3_bucket}/{model_name}/validation-output/es-to-en/batch/json/\"\n",
    "\n",
    "validation_input_jsonl_path = f\"s3://{s3_bucket}/{model_name}/validation-input/es-to-en/batch/jsonl/\"\n",
    "validation_output_jsonl_path = f\"s3://{s3_bucket}/{model_name}/validation-output/es-to-en/batch/jsonl/\"\n",
    "\n",
    "\n",
    "\n",
    "input_jsonl_data = create_jsonl(spanish_records)\n",
    "input_json_data ={\"text\": spanish_records}\n",
    "\n",
    "\n",
    "write_and_upload_to_s3(input_jsonl_data, f\"{jsonl_input_dir}/{validation_jsonl_file_name}\",translation_direction = \"es-to-en\")\n",
    "write_and_upload_to_s3(input_json_data, f\"{json_input_dir}/{validation_json_file_name}\", translation_direction = \"es-to-en\")"
   ]
  },
  {
   "cell_type": "markdown",
   "id": "131e64f5-3ff0-4107-816b-1559792e1405",
   "metadata": {},
   "source": [
    "#### JSON"
   ]
  },
  {
   "cell_type": "code",
   "execution_count": null,
   "id": "182c19bd-74c0-4950-a539-875faf384ea7",
   "metadata": {
    "tags": []
   },
   "outputs": [],
   "source": [
    "# Initialize a SageMaker Transformer object for making predictions\n",
    "transformer = model.transformer(\n",
    "    instance_count=1,\n",
    "    instance_type=batch_transform_inference_instance_type,\n",
    "    accept=\"application/json\",\n",
    "    output_path=validation_output_json_path\n",
    ")\n",
    "\n",
    "transformer.transform(validation_input_json_path, content_type=\"application/json\")\n",
    "transformer.wait()"
   ]
  },
  {
   "cell_type": "code",
   "execution_count": 31,
   "id": "f4efda9f-141e-4471-ab27-da07653b7db8",
   "metadata": {
    "tags": []
   },
   "outputs": [
    {
     "data": {
      "text/html": [
       "<div>\n",
       "<style scoped>\n",
       "    .dataframe tbody tr th:only-of-type {\n",
       "        vertical-align: middle;\n",
       "    }\n",
       "\n",
       "    .dataframe tbody tr th {\n",
       "        vertical-align: top;\n",
       "    }\n",
       "\n",
       "    .dataframe thead th {\n",
       "        text-align: right;\n",
       "    }\n",
       "</style>\n",
       "<table border=\"1\" class=\"dataframe\">\n",
       "  <thead>\n",
       "    <tr style=\"text-align: right;\">\n",
       "      <th></th>\n",
       "      <th>predictions</th>\n",
       "    </tr>\n",
       "  </thead>\n",
       "  <tbody>\n",
       "    <tr>\n",
       "      <th>0</th>\n",
       "      <td>The patient was subjected to computed tomography of the abdomen.</td>\n",
       "    </tr>\n",
       "    <tr>\n",
       "      <th>1</th>\n",
       "      <td>Arterial hypertension is a chronic condition that can cause damage to various organs.</td>\n",
       "    </tr>\n",
       "  </tbody>\n",
       "</table>\n",
       "</div>"
      ],
      "text/plain": [
       "                                                                             predictions\n",
       "0                       The patient was subjected to computed tomography of the abdomen.\n",
       "1  Arterial hypertension is a chronic condition that can cause damage to various organs."
      ]
     },
     "metadata": {},
     "output_type": "display_data"
    }
   ],
   "source": [
    "process_s3_json_output_and_save(validation_json_file_name)"
   ]
  },
  {
   "cell_type": "markdown",
   "id": "4c9c8019-8e09-41e2-b0c4-5b29426d3df1",
   "metadata": {},
   "source": [
    "#### JSON Lines"
   ]
  },
  {
   "cell_type": "code",
   "execution_count": null,
   "id": "197114fc-e0ce-4f8f-a1d5-414f2579cbf4",
   "metadata": {
    "tags": []
   },
   "outputs": [],
   "source": [
    "transformer = model.transformer(\n",
    "    instance_count=1,\n",
    "    instance_type=batch_transform_inference_instance_type,\n",
    "    accept=\"application/jsonlines\",\n",
    "    output_path=validation_output_jsonl_path\n",
    ")\n",
    "transformer.transform(validation_input_jsonl_path, content_type=\"application/jsonlines\")\n",
    "transformer.wait()"
   ]
  },
  {
   "cell_type": "code",
   "execution_count": 35,
   "id": "f387c980-df7f-417b-b680-5600f581c701",
   "metadata": {
    "tags": []
   },
   "outputs": [
    {
     "name": "stdout",
     "output_type": "stream",
     "text": [
      "{\"predictions\": \"The patient was subjected to computed tomography of the abdomen.\"}\n",
      "{\"predictions\": \"Arterial hypertension is a chronic condition that can cause damage to various organs.\"}\n"
     ]
    }
   ],
   "source": [
    "process_s3_jsonlines_output_and_save(validation_jsonl_file_name)"
   ]
  },
  {
   "cell_type": "code",
   "execution_count": null,
   "id": "c0b93180-f993-451f-b198-d727197d3e81",
   "metadata": {
    "tags": []
   },
   "outputs": [],
   "source": [
    "model.delete_model()"
   ]
  },
  {
   "cell_type": "markdown",
   "id": "b64aba4a-5dd4-48ed-b4f1-cab18e79cc92",
   "metadata": {},
   "source": [
    "### Unsubscribe to the listing (optional)"
   ]
  },
  {
   "cell_type": "markdown",
   "id": "f6b918d9-c58c-4280-8df5-5071bafca391",
   "metadata": {},
   "source": [
    "If you would like to unsubscribe to the model package, follow these steps. Before you cancel the subscription, ensure that you do not have any [deployable model](https://console.aws.amazon.com/sagemaker/home#/models) created from the model package or using the algorithm. Note - You can find this information by looking at the container name associated with the model. \n",
    "\n",
    "**Steps to unsubscribe to product from AWS Marketplace**:\n",
    "1. Navigate to __Machine Learning__ tab on [__Your Software subscriptions page__](https://aws.amazon.com/marketplace/ai/library?productType=ml&ref_=mlmp_gitdemo_indust)\n",
    "2. Locate the listing that you want to cancel the subscription for, and then choose __Cancel Subscription__  to cancel the subscription.\n",
    "\n"
   ]
  }
 ],
 "metadata": {
  "kernelspec": {
   "display_name": "conda_tensorflow2_p310",
   "language": "python",
   "name": "conda_tensorflow2_p310"
  },
  "language_info": {
   "codemirror_mode": {
    "name": "ipython",
    "version": 3
   },
   "file_extension": ".py",
   "mimetype": "text/x-python",
   "name": "python",
   "nbconvert_exporter": "python",
   "pygments_lexer": "ipython3",
   "version": "3.10.14"
  }
 },
 "nbformat": 4,
 "nbformat_minor": 5
}

{
 "cells": [
  {
   "cell_type": "markdown",
   "id": "b04fcd6b-2ba4-41a3-80f8-7297f53e7fe1",
   "metadata": {},
   "source": [
    "## 1. Subscribe to the model package"
   ]
  },
  {
   "cell_type": "markdown",
   "id": "2f0cb09c-b511-4dde-866e-8efd6171cef2",
   "metadata": {},
   "source": [
    "To subscribe to the model package:\n",
    "1. Open the model package listing page: [Medical Text Translation (EN-ES)](https://aws.amazon.com/marketplace/pp/prodview-lwpnc66c6bcug).\n",
    "1. On the AWS Marketplace listing, click on the **Continue to subscribe** button.\n",
    "1. On the **Subscribe to this software** page, review and click on **\"Accept Offer\"** if you and your organization agrees with EULA, pricing, and support terms. \n",
    "1. Once you click on **Continue to configuration button** and then choose a **region**, you will see a **Product Arn** displayed. This is the model package ARN that you need to specify while creating a deployable model using Boto3. Copy the ARN corresponding to your region and specify the same in the following cell."
   ]
  },
  {
   "cell_type": "markdown",
   "id": "af7f497c-e83e-4c3b-a9f3-0ed8d208324b",
   "metadata": {},
   "source": [
    "## Medical Text Translation (EN-ES)\n",
    "\n",
    "- **Model**: `jsl-medical-translation-en-es`\n",
    "- **Model Description**: Medical text translation between English (EN) and Spanish (ES).\n"
   ]
  },
  {
   "cell_type": "code",
   "execution_count": 1,
   "id": "e9064f51-d7bf-412a-9414-34714da431ce",
   "metadata": {
    "tags": []
   },
   "outputs": [],
   "source": [
    "model_package_arn = \"<Customer to specify Model package ARN corresponding to their AWS region>\""
   ]
  },
  {
   "cell_type": "code",
   "execution_count": 12,
   "id": "f62e72b1-ecd4-4ed8-a79a-38679c04cecc",
   "metadata": {
    "tags": []
   },
   "outputs": [],
   "source": [
    "import json\n",
    "import os\n",
    "import boto3\n",
    "import pandas as pd\n",
    "import sagemaker as sage\n",
    "from sagemaker import ModelPackage\n",
    "from sagemaker import get_execution_role\n",
    "from IPython.display import display\n",
    "from urllib.parse import urlparse"
   ]
  },
  {
   "cell_type": "code",
   "execution_count": 13,
   "id": "921995dd-3c78-456f-86b9-a33da463c6fe",
   "metadata": {
    "tags": []
   },
   "outputs": [],
   "source": [
    "sagemaker_session = sage.Session()\n",
    "s3_bucket = sagemaker_session.default_bucket()\n",
    "region = sagemaker_session.boto_region_name\n",
    "account_id = boto3.client(\"sts\").get_caller_identity().get(\"Account\")\n",
    "role = get_execution_role()\n",
    "\n",
    "sagemaker = boto3.client(\"sagemaker\")\n",
    "s3_client = sagemaker_session.boto_session.client(\"s3\")\n",
    "ecr = boto3.client(\"ecr\")\n",
    "sm_runtime = boto3.client(\"sagemaker-runtime\")\n",
    "\n",
    "# Set display options\n",
    "pd.set_option('display.max_rows', None)\n",
    "pd.set_option('display.max_columns', None)\n",
    "pd.set_option('display.max_colwidth', None)"
   ]
  },
  {
   "cell_type": "code",
   "execution_count": null,
   "id": "2f5465d5-ba64-4887-9121-3d8455b362dc",
   "metadata": {
    "tags": []
   },
   "outputs": [],
   "source": [
    "model_name = \"jsl-medical-translation-en-es\"\n",
    "\n",
    "real_time_inference_instance_type = \"ml.g5.2xlarge\"\n",
    "batch_transform_inference_instance_type = \"ml.g5.2xlarge\""
   ]
  },
  {
   "cell_type": "markdown",
   "id": "17fcdb36-fcdd-46b5-94ef-8bb0a16e87c2",
   "metadata": {},
   "source": [
    "## 2. create a deployable model from the model package."
   ]
  },
  {
   "cell_type": "code",
   "execution_count": 15,
   "id": "c899babc-9300-4f84-a1dd-03903fa4850a",
   "metadata": {
    "tags": []
   },
   "outputs": [],
   "source": [
    "# Define ModelPackage\n",
    "\n",
    "model = ModelPackage(\n",
    "    role=role,\n",
    "    model_package_arn=model_package_arn,\n",
    "    sagemaker_session=sagemaker_session,\n",
    ")"
   ]
  },
  {
   "cell_type": "markdown",
   "id": "5d2202ed-40e7-4d39-88a9-08dfd96cf93c",
   "metadata": {},
   "source": [
    "### Input Format\n",
    "\n",
    "To use the model, you need to provide input in one of the following supported formats:\n",
    "\n",
    "#### JSON Format\n",
    "\n",
    "Provide input as JSON. We support two variations within this format:\n",
    "\n",
    "1. **Array of Text Documents**: \n",
    "   Use an array containing multiple text documents. Each element represents a separate text document.\n",
    "\n",
    "   ```json\n",
    "   {\n",
    "       \"text\": [\n",
    "           \"Text document 1\",\n",
    "           \"Text document 2\",\n",
    "           ...\n",
    "       ]\n",
    "   }\n",
    "\n",
    "    ```\n",
    "\n",
    "2. **Single Text Document**:\n",
    "   Provide a single text document as a string.\n",
    "\n",
    "\n",
    "   ```json\n",
    "    {\n",
    "        \"text\": \"Single text document\"\n",
    "    }\n",
    "   ```\n",
    "\n",
    "#### JSON Lines (JSONL) Format\n",
    "\n",
    "Provide input in JSON Lines format, where each line is a JSON object representing a text document.\n",
    "\n",
    "```\n",
    "{\"text\": \"Text document 1\"}\n",
    "{\"text\": \"Text document 2\"}\n",
    "```\n",
    "\n",
    "\n",
    "#### Important Parameters\n",
    "\n",
    "- direction: str\n",
    "   - Allowed values: [\"en_to_es\", \"es_to_en\"]\n",
    "   - Default: \"en_to_es\"\n",
    "You can specify these parameters in the input as follows:\n",
    "```json\n",
    "{\n",
    "    \"text\": [\n",
    "        \"Text document 1\",\n",
    "        \"Text document 2\",\n",
    "        ...\n",
    "    ],\n",
    "    \"direction\": \"en_to_es\"\n",
    "}\n",
    "```"
   ]
  },
  {
   "cell_type": "markdown",
   "id": "4f6e0c20-9371-49c8-acf0-0e816aca65bd",
   "metadata": {},
   "source": [
    "### 2.1 Create an endpoint and perform real-time inference"
   ]
  },
  {
   "cell_type": "markdown",
   "id": "1ef21fc2-1e99-4931-85ff-3f1b0b179df8",
   "metadata": {
    "tags": []
   },
   "source": [
    "If you want to understand how real-time inference with Amazon SageMaker works, see [Documentation](https://docs.aws.amazon.com/sagemaker/latest/dg/how-it-works-hosting.html)."
   ]
  },
  {
   "cell_type": "markdown",
   "id": "27106c4a-fcf7-446d-af6e-564b15053390",
   "metadata": {},
   "source": [
    "#### A. Deploy the SageMaker model to an endpoint"
   ]
  },
  {
   "cell_type": "code",
   "execution_count": 16,
   "id": "e9bf5ac0-e8ff-49f4-be25-fc5681947aba",
   "metadata": {
    "tags": []
   },
   "outputs": [
    {
     "name": "stdout",
     "output_type": "stream",
     "text": [
      "-----------!"
     ]
    }
   ],
   "source": [
    "# Deploy the model\n",
    "predictor = model.deploy(\n",
    "    initial_instance_count=1,\n",
    "    instance_type=real_time_inference_instance_type, \n",
    "    endpoint_name=model_name,\n",
    ")"
   ]
  },
  {
   "cell_type": "markdown",
   "id": "5c34799f-68e9-4141-9d57-715ffaa23eba",
   "metadata": {},
   "source": [
    "Once endpoint has been created, you would be able to perform real-time inference."
   ]
  },
  {
   "cell_type": "code",
   "execution_count": 17,
   "id": "7ade76c6-3c87-464f-bff1-3fd939a9aa61",
   "metadata": {
    "tags": []
   },
   "outputs": [],
   "source": [
    "def invoke_realtime_endpoint(record, content_type=\"application/json\", accept=\"application/json\"):\n",
    "    response = sm_runtime.invoke_endpoint(\n",
    "        EndpointName=model_name,\n",
    "        ContentType=content_type,\n",
    "        Accept=accept,\n",
    "        Body=json.dumps(record) if content_type == \"application/json\" else record,\n",
    "    )\n",
    "\n",
    "    response_body = response[\"Body\"].read().decode(\"utf-8\")\n",
    "\n",
    "    if accept == \"application/json\":\n",
    "        return json.loads(response_body)\n",
    "    elif accept == \"application/jsonlines\":\n",
    "        return response_body\n",
    "    else:\n",
    "        raise ValueError(f\"Unsupported accept type: {accept}\")"
   ]
  },
  {
   "cell_type": "markdown",
   "id": "78db54c9-45fb-4a98-bd72-3d4309cdec11",
   "metadata": {},
   "source": [
    "#### Initial Setup"
   ]
  },
  {
   "cell_type": "code",
   "execution_count": 18,
   "id": "22325356-ec1b-422a-a43a-5646d9fffe61",
   "metadata": {
    "tags": []
   },
   "outputs": [],
   "source": [
    "english_text = \"Primary empty sella turcica associated with diabetes insipidus and campimetric defect\"\n",
    "english_records = [\n",
    "    \"The patient was diagnosed with acute myocardial infarction.\",\n",
    "    \"Chronic obstructive pulmonary disease is characterized by long-term breathing problems.\",\n",
    "]\n",
    "\n",
    "\n",
    "spanish_text = \"Evaluación clínico-radiológica de la técnica de aloinjerto compactado y vástago cementado en cirugías de revisión de cadera.\"\n",
    "spanish_records = [\n",
    "    \"El paciente fue sometido a una tomografía computarizada del abdomen.\",\n",
    "    \"La hipertensión arterial es una condición crónica que puede causar daño a varios órganos.\"\n",
    "]"
   ]
  },
  {
   "cell_type": "markdown",
   "id": "cf3f6d1b-a818-4b7c-8904-709d48b2f24b",
   "metadata": {},
   "source": [
    "#### JSON"
   ]
  },
  {
   "cell_type": "markdown",
   "id": "84b4612b-a399-4247-9e9e-6f72a8ae777d",
   "metadata": {},
   "source": [
    "##### Example 1"
   ]
  },
  {
   "cell_type": "code",
   "execution_count": 21,
   "id": "4f0ac7a7-7637-42ac-945d-2a1f63d0ca53",
   "metadata": {
    "tags": []
   },
   "outputs": [
    {
     "data": {
      "text/html": [
       "<div>\n",
       "<style scoped>\n",
       "    .dataframe tbody tr th:only-of-type {\n",
       "        vertical-align: middle;\n",
       "    }\n",
       "\n",
       "    .dataframe tbody tr th {\n",
       "        vertical-align: top;\n",
       "    }\n",
       "\n",
       "    .dataframe thead th {\n",
       "        text-align: right;\n",
       "    }\n",
       "</style>\n",
       "<table border=\"1\" class=\"dataframe\">\n",
       "  <thead>\n",
       "    <tr style=\"text-align: right;\">\n",
       "      <th></th>\n",
       "      <th>predictions</th>\n",
       "    </tr>\n",
       "  </thead>\n",
       "  <tbody>\n",
       "    <tr>\n",
       "      <th>0</th>\n",
       "      <td>Sele turcica primaria vacía asociada con diabetes insípida y defecto campimétrico</td>\n",
       "    </tr>\n",
       "  </tbody>\n",
       "</table>\n",
       "</div>"
      ],
      "text/plain": [
       "                                                                         predictions\n",
       "0  Sele turcica primaria vacía asociada con diabetes insípida y defecto campimétrico"
      ]
     },
     "execution_count": 21,
     "metadata": {},
     "output_type": "execute_result"
    }
   ],
   "source": [
    "input_json_data = {\"text\": english_text, \"direction\": \"en_to_es\"}\n",
    "\n",
    "response_json =  invoke_realtime_endpoint(input_json_data, content_type=\"application/json\" , accept=\"application/json\")\n",
    "\n",
    "pd.DataFrame(response_json)"
   ]
  },
  {
   "cell_type": "markdown",
   "id": "d0837468-9281-47fd-a514-d8d34297378e",
   "metadata": {},
   "source": [
    "##### Example 2"
   ]
  },
  {
   "cell_type": "code",
   "execution_count": 24,
   "id": "429632d7-b588-4a76-a06b-6b928dbd3d46",
   "metadata": {
    "tags": []
   },
   "outputs": [
    {
     "data": {
      "text/html": [
       "<div>\n",
       "<style scoped>\n",
       "    .dataframe tbody tr th:only-of-type {\n",
       "        vertical-align: middle;\n",
       "    }\n",
       "\n",
       "    .dataframe tbody tr th {\n",
       "        vertical-align: top;\n",
       "    }\n",
       "\n",
       "    .dataframe thead th {\n",
       "        text-align: right;\n",
       "    }\n",
       "</style>\n",
       "<table border=\"1\" class=\"dataframe\">\n",
       "  <thead>\n",
       "    <tr style=\"text-align: right;\">\n",
       "      <th></th>\n",
       "      <th>predictions</th>\n",
       "    </tr>\n",
       "  </thead>\n",
       "  <tbody>\n",
       "    <tr>\n",
       "      <th>0</th>\n",
       "      <td>Radiologic evaluation of the compacted allograft and cemented stem technique in hip revision surgeries.</td>\n",
       "    </tr>\n",
       "  </tbody>\n",
       "</table>\n",
       "</div>"
      ],
      "text/plain": [
       "                                                                                               predictions\n",
       "0  Radiologic evaluation of the compacted allograft and cemented stem technique in hip revision surgeries."
      ]
     },
     "execution_count": 24,
     "metadata": {},
     "output_type": "execute_result"
    }
   ],
   "source": [
    "input_json_data = {\"text\": spanish_text, \"direction\": \"es_to_en\"}\n",
    "\n",
    "response_json =  invoke_realtime_endpoint(input_json_data, content_type=\"application/json\" , accept=\"application/json\")\n",
    "\n",
    "pd.DataFrame(response_json)"
   ]
  },
  {
   "cell_type": "markdown",
   "id": "5f30d3da-cf96-4894-adce-3de7d85a1b88",
   "metadata": {},
   "source": [
    "#### JSON Lines"
   ]
  },
  {
   "cell_type": "code",
   "execution_count": 36,
   "id": "27da6f13-6ac7-4522-aa12-a0ecfc0d1329",
   "metadata": {
    "tags": []
   },
   "outputs": [],
   "source": [
    "import json\n",
    "\n",
    "def create_jsonl(records, direction):\n",
    "    if isinstance(records, str):\n",
    "        records = [records]\n",
    "    json_lines = '\\n'.join(json.dumps({\"text\": text, \"direction\": direction}, ensure_ascii=False) for text in records)\n",
    "\n",
    "    return json_lines\n"
   ]
  },
  {
   "cell_type": "markdown",
   "id": "a47d991b-79a6-4eb9-a7f6-5d8f48ca5ddd",
   "metadata": {},
   "source": [
    "##### Example 1"
   ]
  },
  {
   "cell_type": "code",
   "execution_count": 27,
   "id": "0f6159b7-a154-4a79-b1ae-fd9d466b6cbe",
   "metadata": {
    "tags": []
   },
   "outputs": [
    {
     "name": "stdout",
     "output_type": "stream",
     "text": [
      "{\"predictions\": \"Sele turcica primaria vacía asociada con diabetes insípida y defecto campimétrico\"}\n"
     ]
    }
   ],
   "source": [
    "input_jsonl_data = create_jsonl(english_text, direction= \"en_to_es\")\n",
    "\n",
    "response_json =  invoke_realtime_endpoint(input_jsonl_data, content_type=\"application/jsonlines\" , accept=\"application/jsonlines\")\n",
    "\n",
    "print(response_json)"
   ]
  },
  {
   "cell_type": "markdown",
   "id": "7ed0df63-1d69-48d6-8f9c-f8d660027e61",
   "metadata": {},
   "source": [
    "##### Example 2"
   ]
  },
  {
   "cell_type": "code",
   "execution_count": 30,
   "id": "04653af4-fd84-4baa-a7de-773be6b25899",
   "metadata": {
    "tags": []
   },
   "outputs": [
    {
     "name": "stdout",
     "output_type": "stream",
     "text": [
      "{\"predictions\": \"Radiologic evaluation of the compacted allograft and cemented stem technique in hip revision surgeries.\"}\n"
     ]
    }
   ],
   "source": [
    "input_jsonl_data = create_jsonl(spanish_text, direction= \"es_to_en\")\n",
    "\n",
    "response_json =  invoke_realtime_endpoint(input_jsonl_data, content_type=\"application/jsonlines\" , accept=\"application/jsonlines\")\n",
    "\n",
    "print(response_json)"
   ]
  },
  {
   "cell_type": "markdown",
   "id": "a018f3d1-609e-4513-ad13-2dc4e118d8ec",
   "metadata": {},
   "source": [
    "#### C. Delete the endpoint"
   ]
  },
  {
   "cell_type": "markdown",
   "id": "46dd0448-55ea-44e7-ae8d-a0f7f65e3402",
   "metadata": {},
   "source": [
    "Now that you have successfully performed a real-time inference, you do not need the endpoint any more. You can terminate the endpoint to avoid being charged."
   ]
  },
  {
   "cell_type": "code",
   "execution_count": 32,
   "id": "c674fed8-ff21-4dbe-be82-1021456db7ac",
   "metadata": {
    "tags": []
   },
   "outputs": [],
   "source": [
    "model.sagemaker_session.delete_endpoint(model_name)\n",
    "model.sagemaker_session.delete_endpoint_config(model_name)"
   ]
  },
  {
   "cell_type": "markdown",
   "id": "c721b3c7-2356-4c52-89ce-fa659abc3f33",
   "metadata": {},
   "source": [
    "### 2.2 Batch inference"
   ]
  },
  {
   "cell_type": "code",
   "execution_count": 37,
   "id": "711a0237-4b8a-4cb1-aedc-03e5324f673e",
   "metadata": {
    "tags": []
   },
   "outputs": [],
   "source": [
    "validation_json_file_name1 = \"input1.json\"\n",
    "validation_json_file_name2 = \"input2.json\"\n",
    "\n",
    "validation_jsonl_file_name1 = \"input1.jsonl\"\n",
    "validation_jsonl_file_name2 = \"input2.jsonl\"\n",
    "\n",
    "validation_input_json_path = f\"s3://{s3_bucket}/{model_name}/validation-input/json/\"\n",
    "validation_output_json_path = f\"s3://{s3_bucket}/{model_name}/validation-output/json/\"\n",
    "\n",
    "validation_input_jsonl_path = f\"s3://{s3_bucket}/{model_name}/validation-input/jsonl/\"\n",
    "validation_output_jsonl_path = f\"s3://{s3_bucket}/{model_name}/validation-output/jsonl/\"\n",
    "\n",
    "def upload_to_s3(input_data, file_name):\n",
    "    file_format = os.path.splitext(file_name)[1].lower()\n",
    "    s3_client.put_object(\n",
    "        Bucket=s3_bucket,\n",
    "        Key=f\"{model_name}/validation-input/{file_format[1:]}/{file_name}\",\n",
    "        Body=input_data.encode(\"UTF-8\"),\n",
    "    )"
   ]
  },
  {
   "cell_type": "code",
   "execution_count": 38,
   "id": "5aae2c81-a712-4e8b-a542-4a92ceb301df",
   "metadata": {
    "tags": []
   },
   "outputs": [],
   "source": [
    "# Example data for JSONL files\n",
    "input_jsonl_data1 = create_jsonl(english_records, direction= \"en_to_es\")\n",
    "input_jsonl_data2 = create_jsonl(spanish_records, direction= \"es_to_en\")\n",
    "\n",
    "# Example data for JSON files\n",
    "input_json_data1 = json.dumps({\"text\": english_records, \"direction\": \"en_to_es\"}, ensure_ascii=False)\n",
    "input_json_data2 = json.dumps({\"text\": spanish_records, \"direction\": \"es_to_en\"}, ensure_ascii=False)\n",
    "\n",
    "# Write and upload JSONL data\n",
    "upload_to_s3(input_jsonl_data1, validation_jsonl_file_name1)\n",
    "upload_to_s3(input_jsonl_data2, validation_jsonl_file_name2)\n",
    "\n",
    "# Write and upload JSON data\n",
    "upload_to_s3(input_json_data1, validation_json_file_name1)\n",
    "upload_to_s3(input_json_data2,  validation_json_file_name2)\n"
   ]
  },
  {
   "cell_type": "markdown",
   "id": "08cd8234-0293-4fad-b2ac-2a48dd26f22c",
   "metadata": {},
   "source": [
    "#### JSON"
   ]
  },
  {
   "cell_type": "code",
   "execution_count": null,
   "id": "4c5f30a8-5b90-48aa-a3e1-531c880493d8",
   "metadata": {
    "tags": []
   },
   "outputs": [],
   "source": [
    "# Initialize a SageMaker Transformer object for making predictions\n",
    "transformer = model.transformer(\n",
    "    instance_count=1,\n",
    "    instance_type=batch_transform_inference_instance_type,\n",
    "    accept=\"application/json\",\n",
    "    output_path=validation_output_json_path\n",
    ")\n",
    "\n",
    "transformer.transform(validation_input_json_path, content_type=\"application/json\")\n",
    "transformer.wait()"
   ]
  },
  {
   "cell_type": "code",
   "execution_count": null,
   "id": "63d44269-5441-4466-8946-63a96f67f8da",
   "metadata": {
    "tags": []
   },
   "outputs": [],
   "source": [
    "def retrieve_json_output_from_s3(validation_file_name):\n",
    "    parsed_url = urlparse(transformer.output_path)\n",
    "    file_key = f\"{parsed_url.path[1:]}{validation_file_name}.out\"\n",
    "    response = s3_client.get_object(Bucket=s3_bucket, Key=file_key)\n",
    "\n",
    "    data = json.loads(response[\"Body\"].read().decode(\"utf-8\"))\n",
    "    display(data)"
   ]
  },
  {
   "cell_type": "code",
   "execution_count": 45,
   "id": "b9faea27-0cb1-4696-a18f-eaf0629aa6a1",
   "metadata": {
    "tags": []
   },
   "outputs": [
    {
     "data": {
      "text/plain": [
       "{'predictions': ['Se diagnosticó al paciente un infarto agudo de miocardio.',\n",
       "  'La enfermedad pulmonar obstructiva crónica se caracteriza por problemas respiratorios a largo plazo.']}"
      ]
     },
     "metadata": {},
     "output_type": "display_data"
    }
   ],
   "source": [
    "# EN ==> ES\n",
    "retrieve_json_output_from_s3(validation_json_file_name1)"
   ]
  },
  {
   "cell_type": "code",
   "execution_count": 47,
   "id": "d15674e9-af20-48db-accd-5cecf60dd476",
   "metadata": {
    "tags": []
   },
   "outputs": [
    {
     "data": {
      "text/plain": [
       "{'predictions': ['The patient underwent a CT scan of the abdomen.',\n",
       "  'Hypertension is a chronic condition that can cause damage to several organs.']}"
      ]
     },
     "metadata": {},
     "output_type": "display_data"
    }
   ],
   "source": [
    "# ES ==> EN\n",
    "retrieve_json_output_from_s3(validation_json_file_name2)"
   ]
  },
  {
   "cell_type": "markdown",
   "id": "83ab822a-7b45-4589-9114-1fb5350f77a4",
   "metadata": {},
   "source": [
    "#### JSON Lines"
   ]
  },
  {
   "cell_type": "code",
   "execution_count": null,
   "id": "836cb580-eb3c-43e9-8cad-ed576f79f359",
   "metadata": {
    "tags": []
   },
   "outputs": [],
   "source": [
    "transformer = model.transformer(\n",
    "    instance_count=1,\n",
    "    instance_type=batch_transform_inference_instance_type,\n",
    "    accept=\"application/jsonlines\",\n",
    "    output_path=validation_output_jsonl_path\n",
    ")\n",
    "transformer.transform(validation_input_jsonl_path, content_type=\"application/jsonlines\")\n",
    "transformer.wait()"
   ]
  },
  {
   "cell_type": "code",
   "execution_count": null,
   "id": "b8ca59fa-8bb9-4034-b3cc-94b879a207d7",
   "metadata": {
    "tags": []
   },
   "outputs": [],
   "source": [
    "def retrieve_jsonlines_output_from_s3(validation_file_name):\n",
    "\n",
    "    parsed_url = urlparse(transformer.output_path)\n",
    "    file_key = f\"{parsed_url.path[1:]}{validation_file_name}.out\"\n",
    "    response = s3_client.get_object(Bucket=s3_bucket, Key=file_key)\n",
    "\n",
    "    data = response[\"Body\"].read().decode(\"utf-8\")\n",
    "    print(data)"
   ]
  },
  {
   "cell_type": "code",
   "execution_count": 51,
   "id": "b8edfdea-a9ca-4ea1-9522-9db32b840c79",
   "metadata": {
    "tags": []
   },
   "outputs": [
    {
     "name": "stdout",
     "output_type": "stream",
     "text": [
      "{\"predictions\": \"Se diagnosticó al paciente un infarto agudo de miocardio.\"}\n",
      "{\"predictions\": \"La enfermedad pulmonar obstructiva crónica se caracteriza por problemas respiratorios a largo plazo.\"}\n"
     ]
    }
   ],
   "source": [
    "# EN ==> ES\n",
    "retrieve_jsonlines_output_from_s3(validation_jsonl_file_name1)"
   ]
  },
  {
   "cell_type": "code",
   "execution_count": 52,
   "id": "b1c2c718-f241-4adb-804f-ce1f13affded",
   "metadata": {
    "tags": []
   },
   "outputs": [
    {
     "name": "stdout",
     "output_type": "stream",
     "text": [
      "{\"predictions\": \"The patient underwent a CT scan of the abdomen.\"}\n",
      "{\"predictions\": \"Hypertension is a chronic condition that can cause damage to several organs.\"}\n"
     ]
    }
   ],
   "source": [
    "# ES ==> EN\n",
    "retrieve_jsonlines_output_from_s3(validation_jsonl_file_name2)"
   ]
  },
  {
   "cell_type": "code",
   "execution_count": 25,
   "id": "de875f21-8763-4155-8146-2a50ad91c372",
   "metadata": {
    "tags": []
   },
   "outputs": [
    {
     "name": "stderr",
     "output_type": "stream",
     "text": [
      "INFO:sagemaker:Deleting model with name: jsl-medical-translation-en-es-1-2024-09-13-14-18-21-133\n"
     ]
    }
   ],
   "source": [
    "model.delete_model()"
   ]
  },
  {
   "cell_type": "markdown",
   "id": "b64aba4a-5dd4-48ed-b4f1-cab18e79cc92",
   "metadata": {},
   "source": [
    "### Unsubscribe to the listing (optional)"
   ]
  },
  {
   "cell_type": "markdown",
   "id": "f6b918d9-c58c-4280-8df5-5071bafca391",
   "metadata": {},
   "source": [
    "If you would like to unsubscribe to the model package, follow these steps. Before you cancel the subscription, ensure that you do not have any [deployable model](https://console.aws.amazon.com/sagemaker/home#/models) created from the model package or using the algorithm. Note - You can find this information by looking at the container name associated with the model. \n",
    "\n",
    "**Steps to unsubscribe to product from AWS Marketplace**:\n",
    "1. Navigate to __Machine Learning__ tab on [__Your Software subscriptions page__](https://aws.amazon.com/marketplace/ai/library?productType=ml&ref_=mlmp_gitdemo_indust)\n",
    "2. Locate the listing that you want to cancel the subscription for, and then choose __Cancel Subscription__  to cancel the subscription.\n",
    "\n"
   ]
  }
 ],
 "metadata": {
  "kernelspec": {
   "display_name": "conda_tensorflow2_p310",
   "language": "python",
   "name": "conda_tensorflow2_p310"
  },
  "language_info": {
   "codemirror_mode": {
    "name": "ipython",
    "version": 3
   },
   "file_extension": ".py",
   "mimetype": "text/x-python",
   "name": "python",
   "nbconvert_exporter": "python",
   "pygments_lexer": "ipython3",
   "version": "3.10.18"
  }
 },
 "nbformat": 4,
 "nbformat_minor": 5
}

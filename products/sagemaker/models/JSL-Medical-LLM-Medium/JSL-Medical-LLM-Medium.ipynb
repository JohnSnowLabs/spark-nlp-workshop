{
 "cells": [
  {
   "cell_type": "markdown",
   "id": "82a4cf96-c239-49cc-88f9-a8e885bde191",
   "metadata": {},
   "source": [
    "## 1. Subscribe to the model package"
   ]
  },
  {
   "cell_type": "markdown",
   "id": "982d6ab4-d03d-4a5a-ab23-144d8e6ec3d6",
   "metadata": {},
   "source": [
    "To subscribe to the model package:\n",
    "1. Open the model package listing page [Medical LLM - Medium](https://aws.amazon.com/marketplace/pp/prodview-z4jqmczvwgtby)\n",
    "1. On the AWS Marketplace listing, click on the **Continue to subscribe** button.\n",
    "1. On the **Subscribe to this software** page, review and click on **\"Accept Offer\"** if you and your organization agrees with EULA, pricing, and support terms. \n",
    "1. Once you click on **Continue to configuration button** and then choose a **region**, you will see a **Product Arn** displayed. This is the model package ARN that you need to specify while creating a deployable model using Boto3. Copy the ARN corresponding to your region and specify the same in the following cell."
   ]
  },
  {
   "cell_type": "markdown",
   "id": "dad4b722-a125-4219-9c22-009acf75414d",
   "metadata": {},
   "source": [
    "- **Model**: `JSL-Medical-LLM-Medium`  \n",
    "- **Model Description**: Medical LLM optimized for summarization, answering complex clinical questions, and retrieval-augmented generation (RAG). Designed to process clinical notes, patient records, and biomedical literature, supporting real-time, high-quality responses for a broad range of healthcare and life sciences applications."
   ]
  },
  {
   "cell_type": "code",
   "execution_count": 1,
   "id": "9d1fb27b-e0ad-4759-937d-ae4edc209fc1",
   "metadata": {
    "tags": []
   },
   "outputs": [],
   "source": [
    "model_package_arn = \"<Customer to specify Model package ARN corresponding to their AWS region>\""
   ]
  },
  {
   "cell_type": "code",
   "execution_count": null,
   "id": "76ede1bf-2acb-4b5d-9db1-299abfeee20b",
   "metadata": {
    "tags": []
   },
   "outputs": [],
   "source": [
    "import os\n",
    "import base64\n",
    "import json\n",
    "import uuid\n",
    "from sagemaker import ModelPackage\n",
    "import sagemaker as sage\n",
    "from sagemaker import get_execution_role\n",
    "import boto3\n",
    "from IPython.display import Image, display\n",
    "from PIL import Image as ImageEdit\n",
    "import numpy as np\n",
    "import pandas as pd\n",
    "\n",
    "pd.set_option('display.max_rows', None)\n",
    "pd.set_option('display.max_columns', None)\n",
    "pd.set_option('display.max_colwidth', None)\n",
    "\n",
    "sagemaker_session = sage.Session()\n",
    "s3_bucket = sagemaker_session.default_bucket()\n",
    "region = sagemaker_session.boto_region_name\n",
    "account_id = boto3.client(\"sts\").get_caller_identity().get(\"Account\")\n",
    "role = get_execution_role()\n",
    "\n",
    "sagemaker = boto3.client(\"sagemaker\")\n",
    "s3_client = sagemaker_session.boto_session.client(\"s3\")\n",
    "ecr = boto3.client(\"ecr\")\n",
    "sm_runtime = boto3.client(\"sagemaker-runtime\")"
   ]
  },
  {
   "cell_type": "code",
   "execution_count": 35,
   "id": "07846ed0-ed90-4a11-a77c-00d1c3ca3cbd",
   "metadata": {
    "tags": []
   },
   "outputs": [],
   "source": [
    "model_name = \"JSL-Medical-LLM-Medium\"\n",
    "\n",
    "real_time_inference_instance_type = \"ml.p4d.24xlarge\"\n",
    "batch_transform_inference_instance_type = \"ml.g5.48xlarge\""
   ]
  },
  {
   "cell_type": "markdown",
   "id": "08a626b7-f295-4c49-b856-ce237d5d3203",
   "metadata": {},
   "source": [
    "## 2. Create a deployable model from the model package."
   ]
  },
  {
   "cell_type": "code",
   "execution_count": 36,
   "id": "0e39b84b-7a9f-4004-a204-56af1fd555f1",
   "metadata": {
    "tags": []
   },
   "outputs": [],
   "source": [
    "model = ModelPackage(\n",
    "    role=role, \n",
    "    model_package_arn=model_package_arn, \n",
    "    sagemaker_session=sagemaker_session, \n",
    ")"
   ]
  },
  {
   "cell_type": "markdown",
   "id": "9e3a3a54-98d8-4a8a-b812-c33db9a2aa7d",
   "metadata": {},
   "source": [
    "## Model Configuration Documentation  \n",
    "\n",
    "### Default Configuration  \n",
    "The container comes with the following default configurations:  \n",
    "\n",
    "| Parameter                  | Default Value | Description                                                                   |  \n",
    "|----------------------------|---------------|-------------------------------------------------------------------------------|  \n",
    "| **`dtype`**                | `float16`     | Data type for model weights and activations                                   |  \n",
    "| **`max_model_len`**        | `8192`        | Default maximum context length (`input + output ≤ max_model_len`). Automatically increases based on available GPU memory: <br>- `32768` if total GPU memory ≥ 240 GB <br>- `131072` if total GPU memory ≥ 480 GB |  \n",
    "| **`tensor_parallel_size`** | Auto          | Automatically set to the number of available GPUs                            |  \n",
    "| **`host`**                 | `0.0.0.0`     | Host name                                                                     |  \n",
    "| **`port`**                 | `8080`        | Port number                                                                   |  \n",
    "\n",
    "### Hardcoded Settings  \n",
    "The following settings are hardcoded in the container and cannot be changed:  \n",
    "\n",
    "| Parameter       | Value           | Description                           |  \n",
    "|-----------------|-----------------|---------------------------------------|  \n",
    "| **`model`**     | `/opt/ml/model` | Model path where SageMaker mounts the model |  \n",
    "\n",
    "### Configurable Environment Variables  \n",
    "You can customize the vLLM server by setting environment variables when creating the model.  \n",
    "\n",
    "**Any parameter from the [vLLM documentation](https://docs.vllm.ai/en/latest/serving/openai_compatible_server.html#vllm-serve) can be set using the corresponding environment variable with the `SM_VLLM_` prefix.**  \n",
    "\n",
    "The container uses a script similar to the [SageMaker entrypoint example](https://docs.vllm.ai/en/latest/examples/sagemaker_entrypoint.html) from the vLLM documentation to convert environment variables to command-line arguments.  \n",
    "\n",
    "---  \n",
    "\n",
    "## Input Format  \n",
    "\n",
    "### 1. Chat Completion  \n",
    "\n",
    "#### Example Payload  \n",
    "\n",
    "```json  \n",
    "{  \n",
    "    \"model\": \"/opt/ml/model\",  \n",
    "    \"messages\": [  \n",
    "        {\"role\": \"system\", \"content\": \"You are a helpful medical assistant.\"},  \n",
    "        {\"role\": \"user\", \"content\": \"What should I do if I have a fever and body aches?\"}  \n",
    "    ],  \n",
    "    \"max_tokens\": 1024,  \n",
    "    \"temperature\": 0.7  \n",
    "}  \n",
    "```  \n",
    "\n",
    "For additional parameters:  \n",
    "- [ChatCompletionRequest](https://github.com/vllm-project/vllm/blob/v0.7.3/vllm/entrypoints/openai/protocol.py#L212)  \n",
    "- [OpenAI's Chat API](https://platform.openai.com/docs/api-reference/chat/create)  \n",
    "\n",
    "---  \n",
    "\n",
    "### 2. Text Completion  \n",
    "\n",
    "#### Single Prompt Example  \n",
    "\n",
    "```json  \n",
    "{  \n",
    "    \"model\": \"/opt/ml/model\",  \n",
    "    \"prompt\": \"How can I maintain good kidney health?\",  \n",
    "    \"max_tokens\": 512,  \n",
    "    \"temperature\": 0.6  \n",
    "}  \n",
    "```  \n",
    "\n",
    "#### Multiple Prompts Example  \n",
    "\n",
    "```json  \n",
    "{  \n",
    "    \"model\": \"/opt/ml/model\",  \n",
    "    \"prompt\": [  \n",
    "        \"How can I maintain good kidney health?\",  \n",
    "        \"What are the best practices for kidney care?\"  \n",
    "    ],  \n",
    "    \"max_tokens\": 512,  \n",
    "    \"temperature\": 0.6  \n",
    "}  \n",
    "```  \n",
    "\n",
    "Reference:  \n",
    "- [CompletionRequest](https://github.com/vllm-project/vllm/blob/v0.7.3/vllm/entrypoints/openai/protocol.py#L642)  \n",
    "- [OpenAI's Completions API](https://platform.openai.com/docs/api-reference/completions/create)  \n",
    "\n",
    "---  \n",
    "### Important Notes:\n",
    "- **Streaming Responses:** Add `\"stream\": true` to your request payload to enable streaming\n",
    "- **Model Path Requirement:** Always set `\"model\": \"/opt/ml/model\"` (SageMaker's fixed model location)\n"
   ]
  },
  {
   "cell_type": "markdown",
   "id": "6a846275-5af5-4679-9c52-d35ab157455b",
   "metadata": {},
   "source": [
    "## 3. Create an SageMaker Endpoint"
   ]
  },
  {
   "cell_type": "markdown",
   "id": "01b670fa-60d4-45a4-a0d6-3e8e2845b625",
   "metadata": {},
   "source": [
    "If you want to understand how real-time inference with Amazon SageMaker works, see [Documentation](https://docs.aws.amazon.com/sagemaker/latest/dg/how-it-works-hosting.html)."
   ]
  },
  {
   "cell_type": "code",
   "execution_count": null,
   "id": "8c19c0c0-3ead-4834-8c02-a192da19080b",
   "metadata": {
    "tags": []
   },
   "outputs": [],
   "source": [
    "predictor = model.deploy(\n",
    "    initial_instance_count=1,\n",
    "    instance_type=real_time_inference_instance_type, \n",
    "    endpoint_name=model_name,\n",
    "    model_data_download_timeout=3600\n",
    ")"
   ]
  },
  {
   "cell_type": "markdown",
   "id": "23d5c01b-b884-49c6-8b74-98911f6d8e5b",
   "metadata": {},
   "source": [
    "### 3.1 Real-time inference via Amazon SageMaker Endpoint"
   ]
  },
  {
   "cell_type": "markdown",
   "id": "07f13be5-3f3b-45db-829d-b99d4584913f",
   "metadata": {},
   "source": [
    "#### Initial setup"
   ]
  },
  {
   "cell_type": "code",
   "execution_count": 34,
   "id": "7b61fa7d-8d76-476f-91e2-8fea89e7dfa5",
   "metadata": {
    "tags": []
   },
   "outputs": [],
   "source": [
    "prompt1 = \"How do emerging mRNA technologies compare to traditional vaccine approaches for disease prevention?\"\n",
    "\n",
    "prompt2 = \"What screening tests are recommended for adults over 50 with family history of colorectal cancer?\"\n",
    "\n",
    "prompts = [\n",
    "    \"What are the early warning signs of stroke and what should I do if I suspect someone is having one?\",\n",
    "    \"How do different classes of antidepressants work and what factors determine which medication might be prescribed?\",\n",
    "    \"What is the relationship between inflammation, autoimmune conditions, and chronic disease progression?\"\n",
    "]"
   ]
  },
  {
   "cell_type": "code",
   "execution_count": 7,
   "id": "bca8d319-02a4-44ad-b90c-216185f3098c",
   "metadata": {
    "tags": []
   },
   "outputs": [],
   "source": [
    "system_prompt = \"\"\"You are a medical expert. Please structure your response with minimal headings with hierarchical numbering, end your response with a conclusion\"\"\""
   ]
  },
  {
   "cell_type": "code",
   "execution_count": 8,
   "id": "5c195a50-43e4-4341-ad1d-23ca6f0aa45b",
   "metadata": {
    "tags": []
   },
   "outputs": [],
   "source": [
    "def invoke_realtime_endpoint(record):\n",
    "\n",
    "    response = sm_runtime.invoke_endpoint(\n",
    "        EndpointName=model_name,\n",
    "        ContentType=\"application/json\",\n",
    "        Accept=\"application/json\",\n",
    "        Body=json.dumps(record),\n",
    "    )\n",
    "\n",
    "    return json.load(response[\"Body\"])"
   ]
  },
  {
   "cell_type": "markdown",
   "id": "e9a475e7-ad31-4b3b-b7b5-21310f541252",
   "metadata": {
    "tags": []
   },
   "source": [
    "#### Chat Completion"
   ]
  },
  {
   "cell_type": "code",
   "execution_count": 9,
   "id": "c22cf887-70d5-4a87-8476-988590228328",
   "metadata": {
    "tags": []
   },
   "outputs": [
    {
     "name": "stdout",
     "output_type": "stream",
     "text": [
      "1. **Introduction to mRNA and Traditional Vaccines**\n",
      "   - Emerging mRNA (messenger RNA) technologies represent a novel approach in vaccine development compared to traditional methods.\n",
      "   - Traditional vaccines typically use weakened or killed pathogens, or parts of them such as proteins or sugars, to stimulate the immune system.\n",
      "\n",
      "2. **Mechanism Comparison**\n",
      "   2.1. **Traditional Vaccines**: These work by directly introducing antigens into the body, which then triggers an immune response. The immune system recognizes these foreign substances, processes them, and mounts a defense against future infections.\n",
      "   2.2. **mRNA Vaccines**: Instead of using actual antigens, mRNA vaccines contain genetic instructions (mRNA) that encode for specific viral proteins. Once inside host cells, this mRNA instructs the cell machinery to produce these proteins. The immune system then responds to these proteins as it would to actual infection, building immunity without causing disease.\n",
      "\n",
      "3. **Advantages of mRNA Technologies Over Traditional Approaches**\n",
      "   3.1. **Speed of Development**: mRNA vaccines can be designed, produced, and tested much faster than traditional vaccines. This rapid response capability is particularly valuable during pandemics where time is critical.\n",
      "   3.2. **Flexibility and Adaptability**: Since mRNA vaccines rely on genetic sequences rather than physical components of viruses, they can be more easily adapted to new strains or variants of diseases.\n",
      "   3.3. **Safety Profile**: By not containing live or attenuated pathogens, mRNA vaccines may offer a safer profile, especially for immunocompromised individuals.\n",
      "   3.4. **Manufacturing Efficiency**: Production processes for mRNA vaccines can be standardized and scaled up more efficiently compared to traditional vaccine manufacturing.\n",
      "\n",
      "4. **Challenges and Limitations of mRNA Vaccines**\n",
      "   4.1. **Stability Issues**: mRNA molecules are inherently unstable and require specialized storage conditions, usually at very low temperatures, to maintain their integrity.\n",
      "   4.2. **Immune Response Duration**: There's ongoing research to understand how long the protection from mRNA vaccines lasts compared to traditional vaccines.\n",
      "   4.3. **Public Acceptance and Trust**: New technologies often face skepticism and mistrust among some segments of the population, affecting uptake rates.\n",
      "\n",
      "5. **Conclusion**\n",
      "In summary, mRNA technologies offer significant advancements over traditional vaccine approaches, including speed, flexibility, and potentially improved safety profiles. While challenges remain, such as stability concerns and understanding long-term immunity, the benefits of mRNA vaccines have been clearly demonstrated during recent global health crises. As research continues, these technologies hold great promise for revolutionizing disease prevention strategies in the future.\n"
     ]
    }
   ],
   "source": [
    "input_data = {\n",
    "    \"model\": \"/opt/ml/model\",\n",
    "    \"messages\": [\n",
    "        {\"role\": \"system\", \"content\": system_prompt},\n",
    "        {\"role\": \"user\", \"content\": prompt1},\n",
    "    ],\n",
    "    \"max_tokens\": 2048,\n",
    "    \"temperature\": 0.6,\n",
    "    \"top_p\":0.9,\n",
    "    \"repetition_penalty\": 1.1,\n",
    "    \"top_k\":50\n",
    "}\n",
    "\n",
    "result = invoke_realtime_endpoint(input_data)\n",
    "output_content = result['choices'][0]['message']['content']\n",
    "print(output_content)"
   ]
  },
  {
   "cell_type": "markdown",
   "id": "d1a76aec-391a-44e9-b385-99aa62f1b4bf",
   "metadata": {},
   "source": [
    "#### Text Completion"
   ]
  },
  {
   "cell_type": "code",
   "execution_count": 13,
   "id": "0c06b069-e3d8-48f4-9c09-fec59143ed11",
   "metadata": {
    "tags": []
   },
   "outputs": [
    {
     "name": "stdout",
     "output_type": "stream",
     "text": [
      " (Age 55+)\n",
      "Adults aged 55 and older with a family history of colorectal cancer should undergo regular screening to detect the disease early, when it is most treatable. The following screening tests are commonly recommended:\n",
      "1. **Colonoscopy**: This is considered the gold standard for colorectal cancer screening. It involves inserting a flexible tube with a camera into the rectum to visually examine the entire colon for polyps or cancerous growths. Colonoscopy can also remove precancerous polyps during the procedure.\n",
      "   - Recommended frequency: Every 5-10 years if previous results were normal.\n",
      "\n",
      "2. **Fecal Immunochemical Test (FIT)**: This test checks stool samples for tiny amounts of blood that could indicate bleeding from a tumor in the colon or rectum.\n",
      "   - Recommended frequency: Annually.\n",
      "\n",
      "3. **Stool DNA Test (Cologuard)**: This test looks for genetic mutations associated with colon cancer as well as hidden blood in stool samples.\n",
      "   - Recommended frequency: Every 3 years.\n",
      "\n",
      "4. **Flexible Sigmoidoscopy**: Similar to colonoscopy but only examines the lower part of the colon. It may be less effective than colonoscopy because it doesn't look at the entire colon.\n",
      "   - Recommended frequency: Every 5-10 years if previous results were normal.\n",
      "\n",
      "5. **CT Colonography (Virtual Colonoscopy)**: Uses CT scans to create images of the colon and rectum. It's less invasive than traditional colonoscopy but still requires bowel preparation.\n",
      "   - Recommended frequency: Every 5 years if previous results were normal.\n",
      "\n",
      "**Additional Considerations for Those with a Family History:**\n",
      "- If you have a first-degree relative (parent, sibling, child) diagnosed with colorectal cancer, especially before age 60, your doctor might recommend starting screening earlier (possibly at age 40) and more frequently.\n",
      "- If there's a history of familial adenomatous polyposis (FAP) or hereditary nonpolyposis colorectal cancer (HNPCC), which are inherited conditions that significantly increase the risk of developing colorectal cancer, more intensive screening and possibly prophylactic surgery may be recommended.\n",
      "\n",
      "It's essential to discuss your specific risk factors and medical history with your healthcare provider to determine the best screening plan tailored to your needs. Regular follow-up appointments will help monitor any changes in your health status and adjust your screening schedule accordingly.\n"
     ]
    }
   ],
   "source": [
    "input_data ={\n",
    "        \"model\": \"/opt/ml/model\",\n",
    "        \"prompt\": prompt2,\n",
    "        \"max_tokens\": 2048,\n",
    "        \"temperature\": 0.6,\n",
    "        \"top_p\":0.9,\n",
    "        \"repetition_penalty\": 1.1,\n",
    "        \"top_k\":50\n",
    "    }\n",
    "\n",
    "result = invoke_realtime_endpoint(input_data)\n",
    "output_text = result['choices'][0]['text']\n",
    "print(output_text)"
   ]
  },
  {
   "cell_type": "markdown",
   "id": "ccccf37b-9dee-4d38-a0dc-38f2aeaeb780",
   "metadata": {},
   "source": [
    "### 3.2 Real-time inference response as a stream via Amazon SageMaker Endpoint"
   ]
  },
  {
   "cell_type": "code",
   "execution_count": 15,
   "id": "dac2fe86-af82-4ae5-a838-162f65e6d0b1",
   "metadata": {
    "tags": []
   },
   "outputs": [],
   "source": [
    "def invoke_streaming_endpoint(record):\n",
    "    try:\n",
    "        response = sm_runtime.invoke_endpoint_with_response_stream(\n",
    "            EndpointName=model_name,\n",
    "            Body=json.dumps(record),\n",
    "            ContentType=\"application/json\",\n",
    "            Accept=\"text/event-stream\"\n",
    "        )\n",
    "\n",
    "        for event in response[\"Body\"]:\n",
    "            if \"PayloadPart\" in event:\n",
    "                chunk = event[\"PayloadPart\"][\"Bytes\"].decode(\"utf-8\")\n",
    "                if chunk.startswith(\"data:\"):\n",
    "                    try:\n",
    "                        data = json.loads(chunk[5:].strip())\n",
    "                        if \"choices\" in data and len(data[\"choices\"]) > 0:\n",
    "                            choice = data[\"choices\"][0]\n",
    "                            if \"text\" in choice:\n",
    "                                yield choice[\"text\"]\n",
    "                            elif \"delta\" in choice and \"content\" in choice[\"delta\"]:\n",
    "                                yield choice[\"delta\"][\"content\"]\n",
    "\n",
    "                    except json.JSONDecodeError:\n",
    "                        continue \n",
    "            elif \"ModelStreamError\" in event:\n",
    "                error = event[\"ModelStreamError\"]\n",
    "                yield f\"\\nStream error: {error['Message']} (Error code: {error['ErrorCode']})\"\n",
    "                break\n",
    "            elif \"InternalStreamFailure\" in event:\n",
    "                failure = event[\"InternalStreamFailure\"]\n",
    "                yield f\"\\nInternal stream failure: {failure['Message']}\"\n",
    "                break\n",
    "    except Exception as e:\n",
    "        yield f\"\\nAn error occurred during streaming: {str(e)}\""
   ]
  },
  {
   "cell_type": "markdown",
   "id": "d2c6f25e-6d6d-41c7-a7ab-8b979e97a145",
   "metadata": {},
   "source": [
    "#### Chat Completion"
   ]
  },
  {
   "cell_type": "code",
   "execution_count": 17,
   "id": "5d62d99f-67a1-46f7-ad52-d2d41b2c5e3a",
   "metadata": {
    "tags": []
   },
   "outputs": [
    {
     "name": "stdout",
     "output_type": "stream",
     "text": [
      "### Comparison of mRNA Technologies and Traditional Vaccine Approaches\n",
      "\n",
      "1. **Development Speed**\n",
      "   - **mRNA Vaccines**: Offer faster development timelines compared to traditional vaccines. They can be designed, produced, and tested in a matter of months rather than years.\n",
      "   - **Traditional Vaccines**: Typically require longer development periods due to the need for culturing pathogens or producing proteins.\n",
      "\n",
      "2. **Manufacturing Flexibility and Scalability**\n",
      "   - **mRNA Vaccines**: Can be manufactured using standardized processes regardless of the target antigen. This allows for rapid scaling up of production.\n",
      "   - **Traditional Vaccines**: Often require specific manufacturing facilities tailored to each type of vaccine, limiting flexibility and scalability.\n",
      "\n",
      "3. **Safety Profile**\n",
      "   - **mRNA Vaccines**: Generally have shown favorable safety profiles in clinical trials, with side effects typically being mild and temporary (e.g., injection site pain, fatigue).\n",
      "   - **Traditional Vaccines**: Also have well-established safety records but may carry different risks depending on their composition (e.g., live attenuated vs. inactivated viruses).\n",
      "\n",
      "4. **Immune Response Efficacy**\n",
      "   - **mRNA Vaccines**: Have demonstrated high efficacy against various diseases by inducing both humoral and cellular immune responses.\n",
      "   - **Traditional Vaccines**: Vary in efficacy based on the disease targeted and the population receiving them, but many offer strong protection against serious infections.\n",
      "\n",
      "5. **Adaptability to New Variants**\n",
      "   - **mRNA Vaccines**: Allow for quick adaptation to new viral variants through simple changes in the RNA sequence, making them highly versatile for responding to evolving pathogens.\n",
      "   - **Traditional Vaccines**: May require more significant reformulation and testing when dealing with new variants, which can slow down response times.\n",
      "\n",
      "6. **Storage and Distribution**\n",
      "   - **mRNA Vaccines**: Initially required ultra-low temperature storage, though newer formulations are being developed that can be stored at refrigerated temperatures.\n",
      "   - **Traditional Vaccines**: Storage requirements vary widely among types but often include refrigeration; some can be stored at room temperature.\n",
      "\n",
      "7. **Cost-Effectiveness**\n",
      "   - **mRNA Vaccines**: The initial investment in infrastructure is high, but once established, they can be cost-effective, especially considering the speed of development and potential for multipurpose platforms.\n",
      "   - **Traditional Vaccines**: Costs vary significantly depending on the complexity of production, scale, and distribution networks.\n",
      "\n",
      "### Conclusion\n",
      "\n",
      "Emerging mRNA technologies represent a significant advancement in vaccine development, offering unparalleled speed, adaptability, and potentially lower long-term costs. While traditional vaccine approaches have proven track records and continue to play crucial roles in global health, mRNA vaccines provide an innovative toolset that complements existing strategies. As technology continues to evolve, we can expect further improvements in mRNA vaccine design, production efficiency, and accessibility, ultimately enhancing our capacity to prevent and respond to infectious diseases worldwide."
     ]
    }
   ],
   "source": [
    "payload = {\n",
    "    \"model\": \"/opt/ml/model\",\n",
    "    \"messages\": [\n",
    "        {\"role\": \"system\", \"content\": system_prompt},\n",
    "        {\"role\": \"user\", \"content\": prompt1}\n",
    "    ],\n",
    "    \"max_tokens\": 2048,\n",
    "    \"temperature\": 0.6,\n",
    "    \"top_p\":0.9,\n",
    "    \"repetition_penalty\": 1.1,\n",
    "    \"top_k\":50,\n",
    "    \"stream\": True\n",
    "}\n",
    "\n",
    "for chunk in invoke_streaming_endpoint(payload):\n",
    "    print(chunk, end=\"\", flush=True)"
   ]
  },
  {
   "cell_type": "markdown",
   "id": "f2d04094-f350-4950-b73a-212301dda35c",
   "metadata": {},
   "source": [
    "#### Text Completion"
   ]
  },
  {
   "cell_type": "code",
   "execution_count": 19,
   "id": "a6046a1f-96cb-4f76-b796-cd4a661f53e6",
   "metadata": {
    "tags": []
   },
   "outputs": [
    {
     "name": "stdout",
     "output_type": "stream",
     "text": [
      " Adults who have a first-degree relative (parent, sibling, or child) with a history of colorectal cancer should begin regular screening at age 40, or 10 years before the earliest age at which their relative was.\n",
      "How often should someone with a family history of colon cancer be screened?\n",
      "If you have a strong family history of colon cancer, your doctor may recommend that you start getting screened earlier than age 45 and/or more frequently. For example: If one first-degree relative (such as a parent, brother, sister, or child) has been diagnosed with colon cancer or adenomatous polyps, you may need to start screening at age 40 or 10 years before the age when your relative was, whichever comes first.\n",
      "Should I get a colonoscopy if I have a family history of colon cancer?\n",
      "Having a family history of colon cancer increases your risk of it yourself. Because of this, it’s to discuss your individual risk factors with your healthcare provider to determine the best schedule for you. A colonoscopy is usually recommended for people with a family history of colon cancer because it allows doctors to visualize the entire colon and remove any precancerous polyps they find during the procedure.\n",
      "What are some other screening options besides colonoscopy for with a family history of colon cancer?\n",
      "Besides colonoscopy, there are other screening options available for with a family history of colon cancer. These include:\n",
      "1. Fecal Occult Blood Test (FOBT): This test checks for blood in stool samples.\n",
      "2. Flexible Sigmoidoscopy: Similar to colonoscopy but only examines the lower part of the colon.\n",
      "3. CT Colonography (Virtual Colonoscopy): Uses X-rays and computers to create images of the colon.\n",
      "4. Stool DNA Test: Looks for genetic changes in stool samples that could indicate cancer.\n",
      "\n",
      "Your healthcare provider can help you decide on the most appropriate screening method based on your specific situation and preferences.\n",
      "\n",
      "Can genetic testing play a role in determining my risk for colon cancer due to family history?\n",
      "Yes, genetic testing can provide valuable information about inherited risks for colon cancer. Certain genetic syndromes like Lynch syndrome and Familial Adenomatous Polyposis (FAP) increase the risk of developing colon cancer. Genetic counseling and testing may be recommended for individuals with a strong family history of colon cancer to identify potential genetic mutations and guide personalized screening recommendations. Consult with your provider or a genetic counselor to discuss whether genetic testing might be for you."
     ]
    }
   ],
   "source": [
    "payload = {\n",
    "    \"model\": \"/opt/ml/model\",\n",
    "    \"prompt\": prompt2,\n",
    "    \"max_tokens\": 2048,\n",
    "    \"temperature\": 0.6,\n",
    "    \"top_p\":0.9,\n",
    "    \"repetition_penalty\": 1.1,\n",
    "    \"top_k\":50,\n",
    "    \"stream\": True\n",
    "}\n",
    "\n",
    "for chunk in invoke_streaming_endpoint(payload):\n",
    "    print(chunk, end=\"\", flush=True)"
   ]
  },
  {
   "cell_type": "markdown",
   "id": "547960f3-6629-4c2d-a4d2-cdb26c9c61d0",
   "metadata": {},
   "source": [
    "Now that you have successfully performed a real-time inference, you do not need the endpoint any more. You can terminate the endpoint to avoid being charged."
   ]
  },
  {
   "cell_type": "code",
   "execution_count": null,
   "id": "488631f8-c3be-4b30-aba4-75d83ee588a3",
   "metadata": {
    "tags": []
   },
   "outputs": [],
   "source": [
    "model.sagemaker_session.delete_endpoint(model_name)\n",
    "model.sagemaker_session.delete_endpoint_config(model_name)"
   ]
  },
  {
   "cell_type": "markdown",
   "id": "c0e98cc5-6ea8-41bf-a78f-dbe6771caf55",
   "metadata": {},
   "source": [
    "## 4. Batch inference"
   ]
  },
  {
   "cell_type": "code",
   "execution_count": 37,
   "id": "f7d163c0-a6c7-49c5-a4ea-27b83670eb7b",
   "metadata": {
    "tags": []
   },
   "outputs": [],
   "source": [
    "validation_json_file_name1 = \"input1.json\"\n",
    "\n",
    "validation_input_json_path = f\"s3://{s3_bucket}/{model_name}/validation-input/\"\n",
    "validation_output_json_path = f\"s3://{s3_bucket}/{model_name}/validation-output/\"\n",
    "\n",
    "\n",
    "def write_and_upload_to_s3(input_data, file_name):\n",
    "    s3_client.put_object(\n",
    "        Bucket=s3_bucket,\n",
    "        Key=f\"{model_name}/validation-input/{file_name}\",\n",
    "        Body=(bytes(input_data.encode(\"UTF-8\"))),\n",
    "    )"
   ]
  },
  {
   "cell_type": "code",
   "execution_count": 38,
   "id": "23904344-4a1e-4e90-942e-dc9e53827369",
   "metadata": {
    "tags": []
   },
   "outputs": [],
   "source": [
    "input_json_data1 = json.dumps(\n",
    "    {\n",
    "        \"model\": \"/opt/ml/model\",\n",
    "        \"prompt\": prompts,\n",
    "        \"max_tokens\": 2048,\n",
    "        \"temperature\": 0.6,\n",
    "        \"top_p\":0.9,\n",
    "        \"repetition_penalty\": 1.1,\n",
    "        \"top_k\":50\n",
    "    }\n",
    ")\n",
    "\n",
    "write_and_upload_to_s3(input_json_data1, f\"{validation_json_file_name1}\")"
   ]
  },
  {
   "cell_type": "code",
   "execution_count": null,
   "id": "40a9b441-d1e5-4bbc-8571-005d880c6c46",
   "metadata": {
    "tags": []
   },
   "outputs": [],
   "source": [
    "transformer = model.transformer(\n",
    "    instance_count=1,\n",
    "    instance_type=batch_transform_inference_instance_type,\n",
    "    accept=\"application/json\",\n",
    "    output_path=validation_output_json_path,\n",
    ")\n",
    "transformer.transform(validation_input_json_path, content_type=\"application/json\")\n",
    "transformer.wait()"
   ]
  },
  {
   "cell_type": "code",
   "execution_count": null,
   "id": "142c53a9-2e64-4839-acbd-74bfbd7fc372",
   "metadata": {
    "tags": []
   },
   "outputs": [],
   "source": [
    "from urllib.parse import urlparse\n",
    "\n",
    "def retrieve_json_output_from_s3(validation_file_name):\n",
    "\n",
    "    parsed_url = urlparse(transformer.output_path)\n",
    "    file_key = f\"{parsed_url.path[1:]}{validation_file_name}.out\"\n",
    "    response = s3_client.get_object(Bucket=s3_bucket, Key=file_key)\n",
    "    result = json.loads(response[\"Body\"].read().decode(\"utf-8\"))\n",
    "    \n",
    "    for idx, choice in enumerate(result.get(\"choices\", [])):\n",
    "        print(f\"Response {idx + 1}:\\n{choice.get('text', '')}\\n{'=' * 75}\")"
   ]
  },
  {
   "cell_type": "code",
   "execution_count": 42,
   "id": "b781965a-3891-4ac3-a580-9e187b262d39",
   "metadata": {
    "tags": []
   },
   "outputs": [
    {
     "name": "stdout",
     "output_type": "stream",
     "text": [
      "Response 1:\n",
      " Every second counts in responding to a stroke, so it's crucial to recognize the warning signs and take immediate action. Here are the key things to know:\n",
      "\n",
      "**Early Warning Signs of Stroke:**\n",
      "\n",
      "1. **Face:** Ask the person to smile. Does one side of their face droop?\n",
      "2. **Arm:** Ask the person to raise both arms. Does one arm drift downward?\n",
      "3. **Speech:** Ask the person to repeat a simple sentence. Is their speech slurred or difficult to understand?\n",
      "4. **Time:** Time is of the essence! If you observe any of these symptoms, call for emergency medical services immediately.\n",
      "\n",
      "Additional symptoms may include:\n",
      "- Sudden weakness or numbness in the face, arm, or leg\n",
      "- Sudden confusion or trouble speaking or understanding speech\n",
      "- Sudden trouble seeing in one or both eyes\n",
      "- Sudden severe headache with no known cause\n",
      "- Sudden trouble walking, dizziness, loss of balance, or lack of coordination\n",
      "\n",
      "**What to Do If You Suspect Someone Is Having a Stroke:**\n",
      "\n",
      "1. **Call Emergency Services Immediately:** In the U.S., dial 911; in other countries, use your local emergency number.\n",
      "2. **Note the Time:** The time when symptoms first appeared is critical information for healthcare providers.\n",
      "3. **Provide Information:** When you call, give as much detail as possible about the symptoms you've observed.\n",
      "4. **Stay with the Person:** Don't leave them alone until help arrives.\n",
      "5. **Do Not Give Them Anything to Eat or Drink:** This could potentially worsen the situation.\n",
      "\n",
      "Prompt medical attention can significantly improve outcomes for people experiencing a stroke. Remembering the \"FAST\" acronym (Face, Arm, Speech, Time) can help guide your response in an emergency situation. For more detailed information, consult resources from reputable health organizations such as the American Heart Association or the National Institute of Neurological Disorders and Stroke.\n",
      "===========================================================================\n",
      "Response 2:\n",
      " Antidepressant medications are used to treat a variety of mental health conditions, including depression, anxiety disorders, post-traumatic stress disorder (PTSD), and others. There are several classes of antidepressants, each with its own mechanism of action and potential side effects.\n",
      "1. **Selective Serotonin Reuptake Inhibitors (SSRIs):**\n",
      "   - **Mechanism:** SSRIs work by increasing the levels of serotonin in the brain. They block the reabsorption of serotonin into neurons after it has been released, allowing more serotonin to remain available for other neurons to use.\n",
      "   - **Examples:** Fluoxetine (Prozac), sertraline (Zoloft), paroxetine (Paxil), citalopram (Celexa), escitalopram (Lexapro).\n",
      "   - **Common Uses:** Depression, generalized anxiety disorder, panic disorder, social anxiety disorder, obsessive-compulsive disorder.\n",
      "\n",
      "2. **Serotonin-Norepinephrine Reuptake Inhibitors (SNRIs):**\n",
      "   - **Mechanism:** SNRIs increase both serotonin and norepinephrine levels by blocking their reuptake. This dual effect can provide relief from symptoms of depression that haven't responded well to SSRIs alone.\n",
      "   - **Examples:** Venlafaxine (Effexor), duloxetine (Cymbalta), desvenlafaxine (Pristiq).\n",
      "   - **Common Uses:** Major depressive disorder, generalized anxiety disorder, fibromyalgia, neuropathic pain.\n",
      "\n",
      "3. **Tricyclic Antidepressants (TCAs):**\n",
      "   - **Mechanism:** TCAs also increase the levels of serotonin and norepinephrine but have a broader impact on neurotransmitter systems compared to SSRIs and SNRIs. They affect histamine, acetylcholine, and alpha-1 adrenergic receptors as well, leading to more side effects.\n",
      "   - **Examples:** Amitriptyline (Elavil), imipramine (Tofranil), nortriptyline (Pamelor), desipramine (Norpramin).\n",
      "   - **Common Uses:** Severe depression, chronic pain syndromes, migraines, bedwetting.\n",
      "\n",
      "4. **Monoamine Oxidase Inhibitors (MAOIs):**\n",
      "   - **Mechanism:** MAOIs prevent the breakdown of serotonin, norepinephrine, and dopamine by inhibiting the enzyme monoamine oxidase. This results in increased levels of these neurotransmitters.\n",
      "   - **Examples:** Phenelzine (Nardil), tranylcypromine (Parnate), isocarboxazid (Marplan).\n",
      "   - **Common Uses:** Treatment-resistant depression. Due to dietary restrictions and interactions with other medications, they are generally not first-line treatments.\n",
      "\n",
      "5. **Atypical Antidepressants:**\n",
      "   - **Mechanism:** These drugs don't fit neatly into any category due to their unique mechanisms of action. Examples include bupropion (Wellbutrin), mirtazapine (Remeron), and vilazodone (Viibryd). Bupropion primarily affects dopamine and norepinephrine, while mirtazapine increases central noradrenergic and serotonergic activity through antagonism of certain receptors.\n",
      "   - **Examples and Common Uses:**\n",
      "     - **Bupropion (Wellbutrin):** Depression, seasonal affective disorder, smoking cessation.\n",
      "     - **Mirtazapine (Remeron):** Depression, especially when there's significant sleep disturbance or weight loss.\n",
      "     - **Vilazodone (Viibryd):** Depression.\n",
      "\n",
      "The choice of an antidepressant depends on several factors:\n",
      "- **Specific Diagnosis:** Different antidepressants may be preferred for different conditions (e.g., SSRIs for anxiety disorders, SNRIs for chronic pain).\n",
      "- **Side Effect Profile:** Patients' preferences regarding potential side effects can guide selection. For example, someone who needs to stay alert during the day might prefer bupropion over sedating options like mirtazapine.\n",
      "- **Past Response:** If a patient has had success with a particular class of antidepressants before, this may influence future treatment choices.\n",
      "- **Comorbid Conditions:** Presence of other medical conditions or taking other medications can limit options due to potential drug-drug interactions or contraindications.\n",
      "- **Patient Preferences:** Personal preferences regarding dosing frequency, cost, and specific concerns about side effects play a role.\n",
      "- **Family History:** A positive response to a particular medication within a family can sometimes inform treatment decisions.\n",
      "\n",
      "Given the complexity and individual variability in response to antidepressants, finding the right medication often involves trial and error under the guidance of a healthcare provider. Regular follow-up appointments are crucial to monitor effectiveness and adjust treatment plans as needed.\n",
      "===========================================================================\n",
      "Response 3:\n",
      " In this episode, Dr. Nancy Lin, Ph.D., a renowned expert in immunology and autoimmunity, shares her insights on how inflammation can trigger or exacerbate various autoimmune conditions and contribute to chronic disease development.\n",
      "Dr. Lin explains that inflammation is a natural response of the immune system, but when it becomes chronic or dysregulated, it can lead to tissue damage and autoimmune diseases such as rheumatoid arthritis, lupus, and multiple sclerosis. She discusses the role of cytokines, chemokines, and other inflammatory mediators in perpetuating inflammation and highlights the importance of identifying and addressing underlying triggers, including genetic predisposition, environmental factors, and lifestyle choices.\n",
      "\n",
      "Key takeaways from this conversation include:\n",
      "\n",
      "1. **Inflammation's dual role**: While acute inflammation is essential for fighting infections, chronic inflammation can be detrimental and contribute to autoimmune conditions and chronic diseases.\n",
      "2. **Autoimmune disease mechanisms**: Dr. Lin explains how self-reactive immune cells, such as autoreactive T-cells and B-cells, can target healthy tissues, leading to autoimmune diseases like rheumatoid arthritis and lupus.\n",
      "3. **Cytokine imbalance**: The overproduction or underproduction of specific cytokines, such as TNF-α, IL-6, and IL-17, can drive inflammation and autoimmune responses.\n",
      "4. **Environmental and lifestyle factors**: Exposure to toxins, stress, poor diet, and lack of sleep can all contribute to chronic inflammation and increase the risk of developing autoimmune conditions.\n",
      "5. **Personalized approaches**: Dr. Lin emphasizes the need for individualized treatment strategies, taking into account each person's unique genetic profile, medical history, and lifestyle factors.\n",
      "\n",
      "By understanding the complex relationships between inflammation, autoimmune conditions, and chronic disease progression, healthcare providers and individuals can work together to develop targeted interventions and prevent or manage these debilitating conditions.\n",
      "\n",
      "**Timestamps:**\n",
      "\n",
      "* 0:00 - Introduction\n",
      "* 2:30 - Inflammation's dual role\n",
      "* 10:45 - Autoimmune disease mechanisms\n",
      "* 18:30 - Cytokine imbalance\n",
      "* 25:15 - Environmental and lifestyle factors\n",
      "* 33:00 - Personalized approaches\n",
      "* 40:45 - Conclusion\n",
      "\n",
      "**Guest Bio:**\n",
      "Dr. Nancy Lin, Ph.D., is an immunologist with expertise in autoimmunity, inflammation, and immunotherapy. Her research focuses on understanding the molecular mechanisms driving autoimmune diseases and developing novel therapeutic strategies. Dr. Lin has published numerous papers in top-tier scientific journals and has received several awards for her contributions to the field.\n",
      "\n",
      "**Resources:**\n",
      "\n",
      "* National Institute of Allergy and Infectious Diseases (NIAID): [www.niaid.nih.gov](http://www.niaid.nih.gov)\n",
      "* American Autoimmune Related Diseases Association (AARDA): [www.aarda.org](http://www.aarda.org)\n",
      "* Dr. Lin's research publications: [www.researchgate.net/profile/Nancy_Lin5](http://www.researchgate.net/profile/Nancy_Lin5)\n",
      "\n",
      "**Disclaimer:** The information presented in this podcast is for educational purposes only and should not be considered as professional advice. Consult with a qualified healthcare provider before making any changes to your treatment plan or lifestyle.\n",
      "===========================================================================\n"
     ]
    }
   ],
   "source": [
    "retrieve_json_output_from_s3(validation_json_file_name1)"
   ]
  },
  {
   "cell_type": "markdown",
   "id": "f8e8f682-16a0-4a84-89e6-b5f4f0de3521",
   "metadata": {},
   "source": [
    "Congratulations! You just verified that the batch transform job is working as expected. Since the model is not required, you can delete it. Note that you are deleting the deployable model. Not the model package."
   ]
  },
  {
   "cell_type": "code",
   "execution_count": null,
   "id": "22a8df79-ad3b-4e85-a054-24931c15f3a3",
   "metadata": {
    "tags": []
   },
   "outputs": [],
   "source": [
    "model.delete_model()"
   ]
  },
  {
   "cell_type": "markdown",
   "id": "37215a51-bf01-4cf0-832a-c7f85a8a06c3",
   "metadata": {},
   "source": [
    "### Unsubscribe to the listing (optional)"
   ]
  },
  {
   "cell_type": "markdown",
   "id": "53cddd4d-4b27-4a94-95b8-5e027e6cd9cd",
   "metadata": {},
   "source": [
    "If you would like to unsubscribe to the model package, follow these steps. Before you cancel the subscription, ensure that you do not have any [deployable model](https://console.aws.amazon.com/sagemaker/home#/models) created from the model package or using the algorithm. Note - You can find this information by looking at the container name associated with the model. \n",
    "\n",
    "**Steps to unsubscribe to product from AWS Marketplace**:\n",
    "1. Navigate to __Machine Learning__ tab on [__Your Software subscriptions page__](https://aws.amazon.com/marketplace/ai/library?productType=ml&ref_=mlmp_gitdemo_indust)\n",
    "2. Locate the listing that you want to cancel the subscription for, and then choose __Cancel Subscription__  to cancel the subscription.\n",
    "\n"
   ]
  }
 ],
 "metadata": {
  "kernelspec": {
   "display_name": "conda_python3",
   "language": "python",
   "name": "conda_python3"
  },
  "language_info": {
   "codemirror_mode": {
    "name": "ipython",
    "version": 3
   },
   "file_extension": ".py",
   "mimetype": "text/x-python",
   "name": "python",
   "nbconvert_exporter": "python",
   "pygments_lexer": "ipython3",
   "version": "3.10.16"
  }
 },
 "nbformat": 4,
 "nbformat_minor": 5
}

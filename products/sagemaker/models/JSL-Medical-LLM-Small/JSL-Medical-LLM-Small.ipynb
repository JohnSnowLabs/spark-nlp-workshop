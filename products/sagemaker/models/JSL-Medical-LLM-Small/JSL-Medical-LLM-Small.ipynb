{
 "cells": [
  {
   "cell_type": "markdown",
   "id": "82a4cf96-c239-49cc-88f9-a8e885bde191",
   "metadata": {},
   "source": [
    "## 1. Subscribe to the model package"
   ]
  },
  {
   "cell_type": "markdown",
   "id": "982d6ab4-d03d-4a5a-ab23-144d8e6ec3d6",
   "metadata": {},
   "source": [
    "To subscribe to the model package:\n",
    "1. Open the model package listing page: [Medical LLM - Small](https://aws.amazon.com/marketplace/pp/prodview-yrajldynampw4)\n",
    "1. On the AWS Marketplace listing, click on the **Continue to subscribe** button.\n",
    "1. On the **Subscribe to this software** page, review and click on **\"Accept Offer\"** if you and your organization agrees with EULA, pricing, and support terms. \n",
    "1. Once you click on **Continue to configuration button** and then choose a **region**, you will see a **Product Arn** displayed. This is the model package ARN that you need to specify while creating a deployable model using Boto3. Copy the ARN corresponding to your region and specify the same in the following cell."
   ]
  },
  {
   "cell_type": "markdown",
   "id": "dad4b722-a125-4219-9c22-009acf75414d",
   "metadata": {},
   "source": [
    "- **Model**: `JSL-Medical-LLM-Small`  \n",
    "- **Model Description**: Medical LLM optimized for summarization, clinical question answering, and retrieval-augmented generation (RAG). Designed to transform clinical notes, patient records, and medical reports into concise summaries while delivering accurate, context-aware responses to open and closed medical queries.\n"
   ]
  },
  {
   "cell_type": "code",
   "execution_count": 1,
   "id": "9d1fb27b-e0ad-4759-937d-ae4edc209fc1",
   "metadata": {
    "tags": []
   },
   "outputs": [],
   "source": [
    "model_package_arn = \"<Customer to specify Model package ARN corresponding to their AWS region>\""
   ]
  },
  {
   "cell_type": "code",
   "execution_count": null,
   "id": "76ede1bf-2acb-4b5d-9db1-299abfeee20b",
   "metadata": {
    "tags": []
   },
   "outputs": [],
   "source": [
    "import os\n",
    "import base64\n",
    "import json\n",
    "import uuid\n",
    "from sagemaker import ModelPackage\n",
    "import sagemaker as sage\n",
    "from sagemaker import get_execution_role\n",
    "import boto3\n",
    "from IPython.display import Image, display\n",
    "from PIL import Image as ImageEdit\n",
    "import numpy as np\n",
    "import pandas as pd\n",
    "\n",
    "pd.set_option('display.max_rows', None)\n",
    "pd.set_option('display.max_columns', None)\n",
    "pd.set_option('display.max_colwidth', None)\n",
    "\n",
    "sagemaker_session = sage.Session()\n",
    "s3_bucket = sagemaker_session.default_bucket()\n",
    "region = sagemaker_session.boto_region_name\n",
    "account_id = boto3.client(\"sts\").get_caller_identity().get(\"Account\")\n",
    "role = get_execution_role()\n",
    "\n",
    "sagemaker = boto3.client(\"sagemaker\")\n",
    "s3_client = sagemaker_session.boto_session.client(\"s3\")\n",
    "ecr = boto3.client(\"ecr\")\n",
    "sm_runtime = boto3.client(\"sagemaker-runtime\")"
   ]
  },
  {
   "cell_type": "code",
   "execution_count": 3,
   "id": "07846ed0-ed90-4a11-a77c-00d1c3ca3cbd",
   "metadata": {
    "tags": []
   },
   "outputs": [],
   "source": [
    "model_name = \"JSL-Medical-LLM-Small\"\n",
    "\n",
    "real_time_inference_instance_type = \"ml.g4dn.12xlarge\"\n",
    "batch_transform_inference_instance_type = \"ml.g4dn.12xlarge\""
   ]
  },
  {
   "cell_type": "markdown",
   "id": "08a626b7-f295-4c49-b856-ce237d5d3203",
   "metadata": {},
   "source": [
    "## 2. Create a deployable model from the model package."
   ]
  },
  {
   "cell_type": "code",
   "execution_count": 4,
   "id": "0e39b84b-7a9f-4004-a204-56af1fd555f1",
   "metadata": {
    "tags": []
   },
   "outputs": [],
   "source": [
    "model = ModelPackage(\n",
    "    role=role, \n",
    "    model_package_arn=model_package_arn, \n",
    "    sagemaker_session=sagemaker_session, \n",
    ")"
   ]
  },
  {
   "cell_type": "markdown",
   "id": "9e3a3a54-98d8-4a8a-b812-c33db9a2aa7d",
   "metadata": {},
   "source": [
    "## Model Configuration Documentation  \n",
    "\n",
    "### Default Configuration  \n",
    "The container comes with the following default configurations:  \n",
    "\n",
    "| Parameter                  | Default Value | Description                                                                   |  \n",
    "|----------------------------|---------------|-------------------------------------------------------------------------------|  \n",
    "| **`dtype`**                | `float16`     | Data type for model weights and activations                                   |  \n",
    "| **`max_model_len`**        | `32,768`      | Maximum length for input and output combined (`input + output ≤ max_model_len`) |  \n",
    "| **`tensor_parallel_size`** | Auto          | Automatically set to the number of available GPUs                            |  \n",
    "| **`host`**                 | `0.0.0.0`     | Host name                                                                     |  \n",
    "| **`port`**                 | `8080`        | Port number                                                                   |  \n",
    "\n",
    "### Hardcoded Settings  \n",
    "The following settings are hardcoded in the container and cannot be changed:  \n",
    "\n",
    "| Parameter       | Value           | Description                           |  \n",
    "|-----------------|-----------------|---------------------------------------|  \n",
    "| **`model`**     | `/opt/ml/model` | Model path where SageMaker mounts the model |  \n",
    "\n",
    "### Configurable Environment Variables  \n",
    "You can customize the vLLM server by setting environment variables when creating the model.  \n",
    "\n",
    "**Any parameter from the [vLLM documentation](https://docs.vllm.ai/en/latest/serving/openai_compatible_server.html#vllm-serve) can be set using the corresponding environment variable with the `SM_VLLM_` prefix.**  \n",
    "\n",
    "The container uses a script similar to the [SageMaker entrypoint example](https://docs.vllm.ai/en/latest/examples/sagemaker_entrypoint.html) from the vLLM documentation to convert environment variables to command-line arguments.  \n",
    "\n",
    "---  \n",
    "\n",
    "## Input Format  \n",
    "\n",
    "### 1. Chat Completion  \n",
    "\n",
    "#### Example Payload  \n",
    "```json  \n",
    "{  \n",
    "    \"model\": \"/opt/ml/model\",  \n",
    "    \"messages\": [  \n",
    "        {\"role\": \"system\", \"content\": \"You are a helpful medical assistant.\"},  \n",
    "        {\"role\": \"user\", \"content\": \"What should I do if I have a fever and body aches?\"}  \n",
    "    ],  \n",
    "    \"max_tokens\": 1024,  \n",
    "    \"temperature\": 0.7  \n",
    "}  \n",
    "```  \n",
    "\n",
    "For additional parameters:  \n",
    "- [ChatCompletionRequest](https://github.com/vllm-project/vllm/blob/v0.7.3/vllm/entrypoints/openai/protocol.py#L212)  \n",
    "- [OpenAI's Chat API](https://platform.openai.com/docs/api-reference/chat/create)  \n",
    "\n",
    "---  \n",
    "\n",
    "### 2. Text Completion  \n",
    "\n",
    "#### Single Prompt Example  \n",
    "```json  \n",
    "{  \n",
    "    \"model\": \"/opt/ml/model\",  \n",
    "    \"prompt\": \"How can I maintain good kidney health?\",  \n",
    "    \"max_tokens\": 512,  \n",
    "    \"temperature\": 0.6  \n",
    "}  \n",
    "```  \n",
    "\n",
    "#### Multiple Prompts Example  \n",
    "```json  \n",
    "{  \n",
    "    \"model\": \"/opt/ml/model\",  \n",
    "    \"prompt\": [  \n",
    "        \"How can I maintain good kidney health?\",  \n",
    "        \"What are the best practices for kidney care?\"  \n",
    "    ],  \n",
    "    \"max_tokens\": 512,  \n",
    "    \"temperature\": 0.6  \n",
    "}  \n",
    "```  \n",
    "\n",
    "Reference:  \n",
    "- [CompletionRequest](https://github.com/vllm-project/vllm/blob/v0.7.3/vllm/entrypoints/openai/protocol.py#L642)  \n",
    "- [OpenAI's Completions API](https://platform.openai.com/docs/api-reference/completions/create)  \n",
    "\n",
    "---  \n",
    "\n",
    "### Important Notes:\n",
    "- **Streaming Responses:** Add `\"stream\": true` to your request payload to enable streaming\n",
    "- **Model Path Requirement:** Always set `\"model\": \"/opt/ml/model\"` (SageMaker's fixed model location)"
   ]
  },
  {
   "cell_type": "markdown",
   "id": "6a846275-5af5-4679-9c52-d35ab157455b",
   "metadata": {},
   "source": [
    "## 3. Create an SageMaker Endpoint"
   ]
  },
  {
   "cell_type": "markdown",
   "id": "01b670fa-60d4-45a4-a0d6-3e8e2845b625",
   "metadata": {},
   "source": [
    "If you want to understand how real-time inference with Amazon SageMaker works, see [Documentation](https://docs.aws.amazon.com/sagemaker/latest/dg/how-it-works-hosting.html)."
   ]
  },
  {
   "cell_type": "code",
   "execution_count": null,
   "id": "8c19c0c0-3ead-4834-8c02-a192da19080b",
   "metadata": {
    "tags": []
   },
   "outputs": [],
   "source": [
    "predictor = model.deploy(\n",
    "    initial_instance_count=1,\n",
    "    instance_type=real_time_inference_instance_type, \n",
    "    endpoint_name=model_name,\n",
    "    model_data_download_timeout=3600\n",
    ")"
   ]
  },
  {
   "cell_type": "markdown",
   "id": "23d5c01b-b884-49c6-8b74-98911f6d8e5b",
   "metadata": {},
   "source": [
    "### 3.1 Real-time inference via Amazon SageMaker Endpoint"
   ]
  },
  {
   "cell_type": "markdown",
   "id": "07f13be5-3f3b-45db-829d-b99d4584913f",
   "metadata": {},
   "source": [
    "#### Initial setup"
   ]
  },
  {
   "cell_type": "code",
   "execution_count": 6,
   "id": "7b61fa7d-8d76-476f-91e2-8fea89e7dfa5",
   "metadata": {
    "tags": []
   },
   "outputs": [],
   "source": [
    "prompt1 = \"How do emerging mRNA technologies compare to traditional vaccine approaches for disease prevention?\"\n",
    "\n",
    "prompt2 = \"\"\"A 23-year-old pregnant woman at 22 weeks gestation presents with burning upon urination. She states it started 1 day ago and has been worsening despite drinking more water and taking cranberry extract. She otherwise feels well and is followed by a doctor for her pregnancy. Her temperature is 97.7°F (36.5°C), blood pressure is 122/77 mmHg, pulse is 80/min, respirations are 19/min, and oxygen saturation is 98% on room air. Physical exam is notable for an absence of costovertebral angle tenderness and a gravid uterus.\n",
    "\n",
    "Which of the following is the best treatment for this patient?\n",
    "A: Ampicillin\n",
    "B: Ceftriaxone\n",
    "C: Ciprofloxacin\n",
    "D: Doxycycline\n",
    "E: Nitrofurantoin\n",
    "\"\"\"\n",
    "\n",
    "prompts = [\n",
    "    \"What are the early warning signs of stroke and what should I do if I suspect someone is having one?\",\n",
    "    \"How do different classes of antidepressants work and what factors determine which medication might be prescribed?\",\n",
    "    \"What is the relationship between inflammation, autoimmune conditions, and chronic disease progression?\"\n",
    "]"
   ]
  },
  {
   "cell_type": "code",
   "execution_count": 7,
   "id": "bca8d319-02a4-44ad-b90c-216185f3098c",
   "metadata": {
    "tags": []
   },
   "outputs": [],
   "source": [
    "system_prompt = \"You are a helpful medical assistant.\""
   ]
  },
  {
   "cell_type": "code",
   "execution_count": 8,
   "id": "5c195a50-43e4-4341-ad1d-23ca6f0aa45b",
   "metadata": {
    "tags": []
   },
   "outputs": [],
   "source": [
    "def invoke_realtime_endpoint(record):\n",
    "\n",
    "    response = sm_runtime.invoke_endpoint(\n",
    "        EndpointName=model_name,\n",
    "        ContentType=\"application/json\",\n",
    "        Accept=\"application/json\",\n",
    "        Body=json.dumps(record),\n",
    "    )\n",
    "\n",
    "    return json.load(response[\"Body\"])"
   ]
  },
  {
   "cell_type": "markdown",
   "id": "e9a475e7-ad31-4b3b-b7b5-21310f541252",
   "metadata": {
    "tags": []
   },
   "source": [
    "#### Chat Completion"
   ]
  },
  {
   "cell_type": "code",
   "execution_count": 9,
   "id": "c22cf887-70d5-4a87-8476-988590228328",
   "metadata": {
    "tags": []
   },
   "outputs": [
    {
     "name": "stdout",
     "output_type": "stream",
     "text": [
      "Emerging mRNA (messenger RNA) technologies represent a significant advancement in vaccine development compared to traditional approaches. Here's how they compare:\n",
      "\n",
      "1. Mechanism of Action:\n",
      "   - **Traditional Vaccines:** These include whole pathogens, inactivated or attenuated pathogens, or subunit proteins and viruses. Traditional vaccines work by stimulating an immune response to a specific antigen (part of the pathogen).\n",
      "   - **mRNA Vaccines:** These vaccines use mRNA to instruct cells to produce a specific protein from a pathogen. The immune system then recognizes this protein and mounts an immune response to protect against the pathogen.\n",
      "\n",
      "2. Speed of Development:\n",
      "   - **Traditional Vaccines:** Development can take many years due to the need to isolate and grow the pathogen, which can be challenging and time-consuming.\n",
      "   - **mRNA Vaccines:** mRNA vaccines can be developed and produced more quickly. Once the genetic sequence of the pathogen is known, the mRNA sequence can be rapidly synthesized and tested.\n",
      "\n",
      "3. Safety:\n",
      "   - **Traditional Vaccines:** There are known risks associated with traditional vaccines, such as allergic reactions or in the case of live-attenuated vaccines, the potential for infection from the weakened pathogen.\n",
      "   - **mRNA Vaccines:** mRNA vaccines are generally considered safer because they do not use whole pathogens or live-attenuated organisms. The mRNA itself does not integrate into the genome and is rapidly degraded by the body.\n",
      "\n",
      "4. Efficacy:\n",
      "   - **Traditional Vaccines:** Efficacy varies and can be limited by the pathogen's ability to mutate or by the vaccine's inability to provide complete protection.\n",
      "   - **mRNA Vaccines:** mRNA vaccines have shown high efficacy in clinical trials, particularly for rapidly mutating pathogens like SARS-CoV-2. They can be easily updated to match new strains, enhancing their potential for ongoing protection.\n",
      "\n",
      "5. Manufacturing and Scalability:\n",
      "   - **Traditional Vaccines:** Manufacturing processes can be complex and require large-scale facilities.\n",
      "   - **mRNA Vaccines:** mRNA vaccines can be produced using cell-free systems, which are faster and more flexible. This allows for rapid scaling up of production to meet demand.\n",
      "\n",
      "6. Storage and Distribution:\n",
      "   - **Traditional Vaccines:** Storage conditions vary widely and can be stringent, requiring cold storage facilities.\n",
      "   - **mRNA Vaccines:** While some mRNA vaccines require ultra-cold storage, ongoing research aims to develop formulations that can be stored at standard refrigeration temperatures, improving distribution logistics.\n",
      "\n",
      "In summary, mRNA vaccines offer a faster, potentially safer, and more adaptable method for developing and distributing vaccines compared to traditional approaches. They also provide a platform for rapid response to emerging infectious diseases, as evidenced by the successful development of mRNA vaccines against SARS-CoV-2.\n"
     ]
    }
   ],
   "source": [
    "input_data = {\n",
    "    \"model\": \"/opt/ml/model\",\n",
    "    \"messages\": [\n",
    "        {\"role\": \"system\", \"content\": system_prompt},\n",
    "        {\"role\": \"user\", \"content\": prompt1},\n",
    "    ],\n",
    "    \"max_tokens\": 2048,\n",
    "    \"temperature\": 0.8,\n",
    "    \"top_p\": 0.95,\n",
    "}\n",
    "\n",
    "result = invoke_realtime_endpoint(input_data)\n",
    "output_content = result['choices'][0]['message']['content']\n",
    "print(output_content)"
   ]
  },
  {
   "cell_type": "markdown",
   "id": "d1a76aec-391a-44e9-b385-99aa62f1b4bf",
   "metadata": {},
   "source": [
    "#### Text Completion"
   ]
  },
  {
   "cell_type": "code",
   "execution_count": 11,
   "id": "0c06b069-e3d8-48f4-9c09-fec59143ed11",
   "metadata": {
    "tags": []
   },
   "outputs": [
    {
     "name": "stdout",
     "output_type": "stream",
     "text": [
      " The best treatment option for this patient, who presents with symptoms consistent with a urinary tract infection (UTI), is:\n",
      "\n",
      "E: Nitrofurantoin\n",
      "\n",
      "Here's a detailed rationale for this choice:\n",
      "\n",
      "### Clinical Presentation:\n",
      "- Symptoms: Burning upon urination (dysuria) for 1 day.\n",
      "- Maternal and Fetal Concerns: Pregnancy at 22 weeks gestation.\n",
      "\n",
      "### Diagnostic Considerations:\n",
      "- The absence of costovertebral angle tenderness suggests a lower UTI (cystitis) rather than a more severe upper UTI involving the kidneys (pyelonephritis).\n",
      "- An absence of fever and other systemic symptoms supports the diagnosis of cystitis.\n",
      "\n",
      "### Treatment Principles:\n",
      "- UTIs during pregnancy need prompt treatment to prevent complications such as pyelonephritis.\n",
      "- The choice of antibiotics should consider the safety of both the mother and the fetus.\n",
      "\n",
      "### Antibiotic Selection:\n",
      "- **Ampicillin**: Generally not recommended due to potential resistance and its effect on gut flora.\n",
      "- **Ceftriaxone**: Preferred for pyelonephritis but not typically required for cystitis.\n",
      "- **Ciprofloxacin**: Effective but contraindicated in pregnancy due to potential adverse effects on fetal development.\n",
      "- **Doxycycline**: Effective but contraindicated in pregnancy due to potential adverse effects on fetal development.\n",
      "- **Nitrofurantoin**: Highly effective for cystitis, with a good safety profile in pregnancy. It is often the drug of choice for treating UTIs in pregnant women.\n",
      "\n",
      "### Conclusion:\n",
      "- **Nitrofurantoin** is the most appropriate antibiotic for this patient based on the clinical presentation and safety considerations during pregnancy.\n",
      "\n",
      "### Recommendations:\n",
      "- Prescribe nitrofurantoin as the first-line treatment.\n",
      "- Ensure the patient completes the full course of antibiotics to prevent recurrence or resistance.\n",
      "- Monitor the patient for any worsening symptoms or signs of pyelonephritis.\n",
      "\n",
      "By choosing nitrofurantoin, you can effectively treat the UTI while ensuring the safety of the mother and fetus.\n"
     ]
    }
   ],
   "source": [
    "input_data ={\n",
    "        \"model\": \"/opt/ml/model\",\n",
    "        \"prompt\": f\"{system_prompt}\\n\\nUser: {prompt2}\\n\\nAssistant:\",\n",
    "        \"max_tokens\": 2048,\n",
    "        \"temperature\": 0.8,\n",
    "        \"top_p\": 0.95,\n",
    "    }\n",
    "\n",
    "result = invoke_realtime_endpoint(input_data)\n",
    "output_text = result['choices'][0]['text']\n",
    "print(output_text)"
   ]
  },
  {
   "cell_type": "markdown",
   "id": "ccccf37b-9dee-4d38-a0dc-38f2aeaeb780",
   "metadata": {},
   "source": [
    "### 3.2 Real-time inference response as a stream via Amazon SageMaker Endpoint"
   ]
  },
  {
   "cell_type": "code",
   "execution_count": 13,
   "id": "dac2fe86-af82-4ae5-a838-162f65e6d0b1",
   "metadata": {
    "tags": []
   },
   "outputs": [],
   "source": [
    "def invoke_streaming_endpoint(record):\n",
    "    try:\n",
    "        response = sm_runtime.invoke_endpoint_with_response_stream(\n",
    "            EndpointName=model_name,\n",
    "            Body=json.dumps(record),\n",
    "            ContentType=\"application/json\",\n",
    "            Accept=\"text/event-stream\"\n",
    "        )\n",
    "\n",
    "        for event in response[\"Body\"]:\n",
    "            if \"PayloadPart\" in event:\n",
    "                chunk = event[\"PayloadPart\"][\"Bytes\"].decode(\"utf-8\")\n",
    "                if chunk.startswith(\"data:\"):\n",
    "                    try:\n",
    "                        data = json.loads(chunk[5:].strip())\n",
    "                        if \"choices\" in data and len(data[\"choices\"]) > 0:\n",
    "                            choice = data[\"choices\"][0]\n",
    "                            if \"text\" in choice:\n",
    "                                yield choice[\"text\"]\n",
    "                            elif \"delta\" in choice and \"content\" in choice[\"delta\"]:\n",
    "                                yield choice[\"delta\"][\"content\"]\n",
    "\n",
    "                    except json.JSONDecodeError:\n",
    "                        continue \n",
    "            elif \"ModelStreamError\" in event:\n",
    "                error = event[\"ModelStreamError\"]\n",
    "                yield f\"\\nStream error: {error['Message']} (Error code: {error['ErrorCode']})\"\n",
    "                break\n",
    "            elif \"InternalStreamFailure\" in event:\n",
    "                failure = event[\"InternalStreamFailure\"]\n",
    "                yield f\"\\nInternal stream failure: {failure['Message']}\"\n",
    "                break\n",
    "    except Exception as e:\n",
    "        yield f\"\\nAn error occurred during streaming: {str(e)}\""
   ]
  },
  {
   "cell_type": "markdown",
   "id": "d2c6f25e-6d6d-41c7-a7ab-8b979e97a145",
   "metadata": {},
   "source": [
    "#### Chat Completion"
   ]
  },
  {
   "cell_type": "code",
   "execution_count": 14,
   "id": "5d62d99f-67a1-46f7-ad52-d2d41b2c5e3a",
   "metadata": {
    "tags": []
   },
   "outputs": [
    {
     "name": "stdout",
     "output_type": "stream",
     "text": [
      "Emerging mRNA technologies offer several advantages over traditional vaccine approaches, although both have their specific strengths and limitations.\n",
      "\n",
      "**Advantages of mRNA Vaccines:**\n",
      "\n",
      "1. **Speed of Development**: mRNA vaccines can be developed and produced relatively quickly, often within months, compared to years for traditional vaccines. This is particularly important during public health emergencies such as the current COVID-19 pandemic.\n",
      "\n",
      "2. **Scalability**: mRNA vaccines can be easily scaled up for mass production once the manufacturing process is optimized, which can be faster than scaling up for some traditional vaccines.\n",
      "\n",
      "3. **Modular Design**: mRNA vaccines can be easily modified to include multiple antigens or to target new variants of a virus, making them adaptable to evolving infectious agents.\n",
      "\n",
      "4. **No Replication**: Unlike some live attenuated vaccines, mRNA vaccines do not replicate in the body, which reduces the risk of adverse effects associated with replication.\n",
      "\n",
      "5. **Stable at Lower Temperatures**: mRNA vaccines can be stored at higher temperatures than some traditional vaccines, although they still require cold storage for optimal stability.\n",
      "\n",
      "**Limitations of mRNA Vaccines:**\n",
      "\n",
      "1. **Stability Issues**: mRNA is inherently unstable and can degrade quickly, which necessitates storage and handling at specific temperatures (e.g., -70°C for some mRNA vaccines).\n",
      "\n",
      "2. **Immune System Interaction**: mRNA vaccines are relatively new, and there is still ongoing research on how the immune system interacts with these vaccines over time, including potential long-term side effects.\n",
      "\n",
      "3. **Delivery Mechanism**: Effective delivery of mRNA to cells can be challenging, and current formulations require the use of lipid nanoparticles or other carriers, which can have their own limitations.\n",
      "\n",
      "4. **Cost and Accessibility**: The initial costs of developing and producing mRNA vaccines can be high, and there may be challenges in ensuring global accessibility, especially in low-resource settings.\n",
      "\n",
      "**Traditional Vaccine Approaches:**\n",
      "\n",
      "1. **Proven Efficacy and Safety**: Traditional vaccines, including inactivated, live attenuated, and subunit vaccines, have a long history of use and proven efficacy and safety profiles. They are well-understood in terms of how they work and the immune response they generate.\n",
      "\n",
      "2. **Stable at Room Temperature**: Many traditional vaccines can be stored at room temperature or standard refrigeration temperatures, making them easier to transport and store, especially in areas with limited infrastructure.\n",
      "\n",
      "3. **Long-Term Stability**: Traditional vaccines often have a long shelf life, which can be advantageous for stockpiling and long-term use.\n",
      "\n",
      "4. **Broad Spectrum of Technologies**: Traditional vaccines include various types such as inactivated, live attenuated, and conjugate vaccines, each with specific advantages depending on the disease and target population.\n",
      "\n",
      "**Conclusion:**\n",
      "\n",
      "Both mRNA and traditional vaccine technologies have their unique advantages and limitations. mRNA vaccines represent a significant advancement in vaccine technology, offering speed and adaptability that are crucial for responding to rapidly evolving pathogens. Traditional vaccines, however, have a solid track record of safety and efficacy and remain essential for many diseases. The choice of vaccine technology often depends on the specific disease, epidemiological context, and logistical constraints."
     ]
    }
   ],
   "source": [
    "payload = {\n",
    "    \"model\": \"/opt/ml/model\",\n",
    "    \"messages\": [\n",
    "        {\"role\": \"system\", \"content\": system_prompt},\n",
    "        {\"role\": \"user\", \"content\": prompt1}\n",
    "    ],\n",
    "    \"max_tokens\": 2048,\n",
    "    \"temperature\": 0.8,\n",
    "    \"top_p\": 0.95,\n",
    "    \"stream\": True\n",
    "}\n",
    "\n",
    "for chunk in invoke_streaming_endpoint(payload):\n",
    "    print(chunk, end=\"\", flush=True)"
   ]
  },
  {
   "cell_type": "markdown",
   "id": "f2d04094-f350-4950-b73a-212301dda35c",
   "metadata": {},
   "source": [
    "#### Text Completion"
   ]
  },
  {
   "cell_type": "code",
   "execution_count": 15,
   "id": "a6046a1f-96cb-4f76-b796-cd4a661f53e6",
   "metadata": {
    "tags": []
   },
   "outputs": [
    {
     "name": "stdout",
     "output_type": "stream",
     "text": [
      " The best treatment for this patient is E: Nitrofurantoin.\n",
      "\n",
      "The patient presents with symptoms suggestive of uncomplicated urinary tract infection (UTI). Given her pregnancy status, we need to consider safe options that are well-tolerated during pregnancy.\n",
      "\n",
      "- **Ampicillin**: While it is safe in, it is not a first-line option for UTIs due to its low efficacy against certain uropathogens.\n",
      "- **Ceftriaxone**: This antibiotic is effective, but it is reserved for more serious infections or complicated UTIs, not for an uncomplicated UTI.\n",
      "- **Ciprofloxacin**: This is not a recommended option for pregnant women as it can cause harm to the fetus.\n",
      "- **Doxycycline**: This is contraindicated in pregnancy due to adverse effects on fetal bone development and dentition.\n",
      "\n",
      "**Nitrofurantoin**: This is the preferred option for pregnant women with uncomplicated UTIs. It has a long history of use during pregnancy and is known to be safe for both the mother and the fetus when used at doses. The American College of Obstetricians and Gynecologists (ACOG) and the American Academy of Family Physicians (AAFP) nitrofurantoin as a first-line treatment for pregnant women with uncomplicated UTIs.\n",
      "\n",
      "Therefore, the best treatment for this patient is Nitrofurantoin."
     ]
    }
   ],
   "source": [
    "payload = {\n",
    "    \"model\": \"/opt/ml/model\",\n",
    "    \"prompt\": f\"{system_prompt}\\n\\nUser: {prompt2}\\n\\nAssistant:\",\n",
    "    \"max_tokens\": 2048,\n",
    "    \"temperature\": 0.8,\n",
    "    \"top_p\": 0.95,\n",
    "    \"stream\": True\n",
    "}\n",
    "\n",
    "for chunk in invoke_streaming_endpoint(payload):\n",
    "    print(chunk, end=\"\", flush=True)"
   ]
  },
  {
   "cell_type": "markdown",
   "id": "547960f3-6629-4c2d-a4d2-cdb26c9c61d0",
   "metadata": {},
   "source": [
    "Now that you have successfully performed a real-time inference, you do not need the endpoint any more. You can terminate the endpoint to avoid being charged."
   ]
  },
  {
   "cell_type": "code",
   "execution_count": null,
   "id": "488631f8-c3be-4b30-aba4-75d83ee588a3",
   "metadata": {
    "tags": []
   },
   "outputs": [],
   "source": [
    "model.sagemaker_session.delete_endpoint(model_name)\n",
    "model.sagemaker_session.delete_endpoint_config(model_name)"
   ]
  },
  {
   "cell_type": "markdown",
   "id": "c0e98cc5-6ea8-41bf-a78f-dbe6771caf55",
   "metadata": {},
   "source": [
    "## 4. Batch inference"
   ]
  },
  {
   "cell_type": "code",
   "execution_count": 17,
   "id": "f7d163c0-a6c7-49c5-a4ea-27b83670eb7b",
   "metadata": {
    "tags": []
   },
   "outputs": [],
   "source": [
    "validation_json_file_name1 = \"input1.json\"\n",
    "\n",
    "validation_input_json_path = f\"s3://{s3_bucket}/{model_name}/validation-input/\"\n",
    "validation_output_json_path = f\"s3://{s3_bucket}/{model_name}/validation-output/\"\n",
    "\n",
    "\n",
    "def write_and_upload_to_s3(input_data, file_name):\n",
    "    s3_client.put_object(\n",
    "        Bucket=s3_bucket,\n",
    "        Key=f\"{model_name}/validation-input/{file_name}\",\n",
    "        Body=(bytes(input_data.encode(\"UTF-8\"))),\n",
    "    )"
   ]
  },
  {
   "cell_type": "code",
   "execution_count": 18,
   "id": "23904344-4a1e-4e90-942e-dc9e53827369",
   "metadata": {
    "tags": []
   },
   "outputs": [],
   "source": [
    "input_json_data1 = json.dumps(\n",
    "    {\n",
    "        \"model\": \"/opt/ml/model\",\n",
    "        \"prompt\": [f\"{system_prompt}\\n\\nUser: {prompt}\\n\\nAssistant:\" for prompt in prompts],\n",
    "        \"max_tokens\": 2048,\n",
    "        \"temperature\": 0.8,\n",
    "        \"top_p\": 0.95,\n",
    "    }\n",
    ")\n",
    "\n",
    "write_and_upload_to_s3(input_json_data1, f\"{validation_json_file_name1}\")"
   ]
  },
  {
   "cell_type": "code",
   "execution_count": null,
   "id": "40a9b441-d1e5-4bbc-8571-005d880c6c46",
   "metadata": {
    "tags": []
   },
   "outputs": [],
   "source": [
    "transformer = model.transformer(\n",
    "    instance_count=1,\n",
    "    instance_type=batch_transform_inference_instance_type,\n",
    "    accept=\"application/json\",\n",
    "    output_path=validation_output_json_path,\n",
    ")\n",
    "transformer.transform(validation_input_json_path, content_type=\"application/json\")\n",
    "transformer.wait()"
   ]
  },
  {
   "cell_type": "code",
   "execution_count": null,
   "id": "142c53a9-2e64-4839-acbd-74bfbd7fc372",
   "metadata": {
    "tags": []
   },
   "outputs": [],
   "source": [
    "from urllib.parse import urlparse\n",
    "\n",
    "def retrieve_json_output_from_s3(validation_file_name):\n",
    "\n",
    "    parsed_url = urlparse(transformer.output_path)\n",
    "    file_key = f\"{parsed_url.path[1:]}{validation_file_name}.out\"\n",
    "    response = s3_client.get_object(Bucket=s3_bucket, Key=file_key)\n",
    "    result = json.loads(response[\"Body\"].read().decode(\"utf-8\"))\n",
    "\n",
    "    for idx, choice in enumerate(result.get(\"choices\", [])):\n",
    "        print(f\"Response {idx + 1}:\\n{choice.get('text', '')}\\n{'=' * 75}\")"
   ]
  },
  {
   "cell_type": "code",
   "execution_count": 25,
   "id": "b781965a-3891-4ac3-a580-9e187b262d39",
   "metadata": {
    "tags": []
   },
   "outputs": [
    {
     "name": "stdout",
     "output_type": "stream",
     "text": [
      "Response 1:\n",
      " Medical Assistant: The early warning signs of stroke can be remembered using the mnemonic F.A.S.T.:\n",
      "\n",
      "1. **F**ace Drooping: Ask the person to smile. If one side of the face is drooping or feels numb, this may be a sign of a stroke.\n",
      "2. **A**rm Weakness: Ask the person to raise both arms. If one arm is weak or numb, this could also be a sign.\n",
      "3. **S**peech Difficulty: If the person has trouble speaking or finds it hard to understand words, slurred speech, or if they repeat the same phrase or sentence, this could indicate a stroke.\n",
      "4. **T**ime to Call 911: If you observe any of these signs, even if they appear to resolve, it's crucial to call emergency services immediately. Time is critical in treating a stroke, as prompt medical intervention can significantly improve outcomes.\n",
      "\n",
      "Other signs and symptoms may include:\n",
      "- **Sudden numbness or weakness in the leg**\n",
      "- **Trouble walking, dizziness, loss of balance or coordination**\n",
      "- **Severe headache with no known cause**\n",
      "\n",
      "Upon recognizing these signs, you should call 911 immediately and seek medical attention as soon as possible. Emergency medical treatment can help reduce brain damage and improve recovery.\n",
      "===========================================================================\n",
      "Response 2:\n",
      " Medical Assistant: Antidepressants are classified into several classes, each working through different mechanisms to alleviate symptoms of depression. Here's a brief overview of the main types and how they function:\n",
      "\n",
      "1. Selective Serotonin Reuptake Inhibitors (SSRIs): These medications, such as fluoxetine (Prozac), sertraline (Zoloft), and paroxetine (Paxil), primarily increase the levels of serotonin, a neurotransmitter involved in mood regulation, in the brain. They do this by blocking the reuptake of serotonin into the presynaptic neurons, effectively increasing its availability in the synaptic cleft.\n",
      "\n",
      "2. Serotonin and Norepinephrine Reuptake Inhibitors (SNRIs): Examples include venlafaxine (Effexor) and duloxetine (Cymbalta). SNRIs enhance the effects of both serotonin and norepinephrine, two neurotransmitters that regulate mood, by inhibiting their reuptake. This dual action can be particularly effective for certain individuals with depression.\n",
      "\n",
      "3. Tricyclic Antidepressants (TCAs): Drugs like amitriptyline, imipramine, and nortriptyline also work by increasing the concentration of norepinephrine and serotonin in the brain. However, they have a broader effect on various neurotransmitters and receptors, which can lead to a wider range of side effects.\n",
      "\n",
      "4. Monoamine Oxidase Inhibitors (MAOIs): MAOIs, such as phenelzine (Nardil) and tranylcypromine (Parnate), work by blocking the action of monoamine oxidase enzymes that break down neurotransmitters. This increases the levels of neurotransmitters like norepinephrine, serotonin, and dopamine in the brain. Due to significant dietary restrictions and potential drug interactions, MAOIs are typically reserved for cases where other medications have failed.\n",
      "\n",
      "5. Atypical Antidepressants: This category includes medications like bupropion (Wellbutrin), mirtazapine (Remeron), and vortioxetine (Trintellix). They act on different neurotransmitter systems and mechanisms, such as increasing norepinephrine and dopamine release, blocking serotonin reuptake, or regulating serotonin receptors.\n",
      "\n",
      "When determining which medication to prescribe, healthcare providers consider several factors:\n",
      "\n",
      "1. Patient History: A thorough assessment of the patient's medical history, including previous treatments and responses to antidepressants, is crucial.\n",
      "\n",
      "2. Symptoms: The specific symptoms and severity of depression may influence the choice of medication. For example, SSRIs might be preferred for patients with anxiety or obsessive-compulsive disorder (OCD).\n",
      "\n",
      "3. Side Effects: Individual tolerance to side effects is a critical consideration. SSRIs, for instance, are often preferred due to their generally milder side effect profile compared to TCAs.\n",
      "\n",
      "4. Comorbid Conditions: Co-occurring health issues, such as cardiovascular disease, can impact medication selection. TCAs, for example, can have significant cardiovascular side effects, making them less suitable for patients with heart conditions.\n",
      "\n",
      "5. Drug-Drug Interactions: The patient's current medication regimen is carefully reviewed to avoid potential interactions. This is especially important for medications like MAOIs, which have numerous contraindications.\n",
      "\n",
      "6. Patient Preference: In some cases, patient preference may influence the choice of antidepressant, particularly when there are multiple options with similar efficacy.\n",
      "\n",
      "In summary, the selection of antidepressant medication involves a comprehensive evaluation of the patient's individual circumstances and the specific mechanisms of action of the available treatments. Each class of antidepressant has its unique advantages and disadvantages, and the goal is to find the most effective and tolerable medication for each patient.\n",
      "===========================================================================\n",
      "Response 3:\n",
      " Chronic inflammation is a complex process that plays a significant role in the development and progression of many autoimmune conditions and chronic diseases. Here’s an overview of the key relationships and mechanisms involved:\n",
      "\n",
      "1. **Chronic Inflammation:**\n",
      "   - Chronic inflammation is a prolonged inflammatory response that persists over time, often without an identifiable cause or an infectious agent.\n",
      "   - This type of inflammation is characterized by persistent activation of the immune system, leading to ongoing damage to tissues and organs.\n",
      "\n",
      "2. **Autoimmune Conditions:**\n",
      "   - Autoimmune conditions occur when the immune system mistakenly attacks the body's own tissues, mistaking them for foreign invaders.\n",
      "   - Chronic inflammation is a hallmark of most autoimmune conditions, such as rheumatoid arthritis, lupus, multiple sclerosis, and inflammatory bowel diseases.\n",
      "\n",
      "3. **Mechanisms of Chronic Inflammation in Autoimmune Conditions:**\n",
      "   - **Autoantibodies:** In autoimmune conditions, the immune system produces autoantibodies that target and destroy specific tissues or organs.\n",
      "   - **Cytokine Imbalance:** Chronic inflammation often involves imbalances in cytokines (signaling molecules) such as TNF-alpha, IL-1, IL-6, and interferons, which promote inflammation and tissue damage.\n",
      "   - **Macrophage Activation:** Activated macrophages release pro-inflammatory mediators that contribute to tissue damage and chronic disease progression.\n",
      "   - **Endothelial Dysfunction:** Chronic inflammation can lead to endothelial dysfunction, which contributes to the development of cardiovascular diseases and other complications.\n",
      "\n",
      "4. **Chronic Disease Progression:**\n",
      "   - Chronic inflammation has been linked to the progression of several chronic diseases, including cardiovascular diseases, type 2 diabetes, neurodegenerative diseases, and cancer.\n",
      "   - For example:\n",
      "     - **Cardiovascular Diseases:** Chronic inflammation can lead to atherosclerosis, a condition where plaque builds up in arteries, increasing the risk of heart attacks and strokes.\n",
      "     - **Type 2 Diabetes:** Chronic inflammation can contribute to insulin resistance, a key factor in the development of type 2 diabetes.\n",
      "     - **Neurodegenerative Diseases:** Chronic inflammation in the central nervous system has been implicated in the progression of diseases such as Alzheimer's and Parkinson's.\n",
      "     - **Cancer:** Chronic inflammation can promote tumor growth and metastasis by creating an environment that supports cancer cell survival and proliferation.\n",
      "\n",
      "5. **Prevention and Management:**\n",
      "   - Managing chronic inflammation involves addressing the underlying causes, such as lifestyle factors, diet, and genetic predispositions.\n",
      "   - Antioxidants, anti-inflammatory drugs, and immunomodulatory therapies are commonly used to manage chronic inflammation and its associated conditions.\n",
      "   - Lifestyle modifications, including a balanced diet, regular exercise, stress reduction, and adequate sleep, are also crucial in mitigating chronic inflammation and its effects.\n",
      "\n",
      "In summary, chronic inflammation is intricately linked to the development and progression of autoimmune conditions and chronic diseases. Understanding these relationships is essential for developing effective prevention and treatment strategies.\n",
      "===========================================================================\n"
     ]
    }
   ],
   "source": [
    "retrieve_json_output_from_s3(validation_json_file_name1)"
   ]
  },
  {
   "cell_type": "markdown",
   "id": "f8e8f682-16a0-4a84-89e6-b5f4f0de3521",
   "metadata": {},
   "source": [
    "Congratulations! You just verified that the batch transform job is working as expected. Since the model is not required, you can delete it. Note that you are deleting the deployable model. Not the model package."
   ]
  },
  {
   "cell_type": "code",
   "execution_count": null,
   "id": "22a8df79-ad3b-4e85-a054-24931c15f3a3",
   "metadata": {
    "tags": []
   },
   "outputs": [],
   "source": [
    "model.delete_model()"
   ]
  },
  {
   "cell_type": "markdown",
   "id": "37215a51-bf01-4cf0-832a-c7f85a8a06c3",
   "metadata": {},
   "source": [
    "### Unsubscribe to the listing (optional)"
   ]
  },
  {
   "cell_type": "markdown",
   "id": "53cddd4d-4b27-4a94-95b8-5e027e6cd9cd",
   "metadata": {},
   "source": [
    "If you would like to unsubscribe to the model package, follow these steps. Before you cancel the subscription, ensure that you do not have any [deployable model](https://console.aws.amazon.com/sagemaker/home#/models) created from the model package or using the algorithm. Note - You can find this information by looking at the container name associated with the model. \n",
    "\n",
    "**Steps to unsubscribe to product from AWS Marketplace**:\n",
    "1. Navigate to __Machine Learning__ tab on [__Your Software subscriptions page__](https://aws.amazon.com/marketplace/ai/library?productType=ml&ref_=mlmp_gitdemo_indust)\n",
    "2. Locate the listing that you want to cancel the subscription for, and then choose __Cancel Subscription__  to cancel the subscription.\n",
    "\n"
   ]
  }
 ],
 "metadata": {
  "kernelspec": {
   "display_name": "conda_python3",
   "language": "python",
   "name": "conda_python3"
  },
  "language_info": {
   "codemirror_mode": {
    "name": "ipython",
    "version": 3
   },
   "file_extension": ".py",
   "mimetype": "text/x-python",
   "name": "python",
   "nbconvert_exporter": "python",
   "pygments_lexer": "ipython3",
   "version": "3.10.16"
  }
 },
 "nbformat": 4,
 "nbformat_minor": 5
}

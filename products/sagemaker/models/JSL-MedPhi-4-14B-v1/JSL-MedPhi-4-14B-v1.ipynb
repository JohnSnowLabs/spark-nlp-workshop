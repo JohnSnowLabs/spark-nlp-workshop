{
 "cells": [
  {
   "cell_type": "markdown",
   "id": "82a4cf96-c239-49cc-88f9-a8e885bde191",
   "metadata": {},
   "source": [
    "## 1. Subscribe to the model package"
   ]
  },
  {
   "cell_type": "markdown",
   "id": "982d6ab4-d03d-4a5a-ab23-144d8e6ec3d6",
   "metadata": {},
   "source": [
    "To subscribe to the model package:\n",
    "1. Open the model package listing page [Medical LLM - 14B ](https://aws.amazon.com/marketplace/pp/prodview-u5vx4onx5kucy)\n",
    "1. On the AWS Marketplace listing, click on the **Continue to subscribe** button.\n",
    "1. On the **Subscribe to this software** page, review and click on **\"Accept Offer\"** if you and your organization agrees with EULA, pricing, and support terms. \n",
    "1. Once you click on **Continue to configuration button** and then choose a **region**, you will see a **Product Arn** displayed. This is the model package ARN that you need to specify while creating a deployable model using Boto3. Copy the ARN corresponding to your region and specify the same in the following cell."
   ]
  },
  {
   "cell_type": "markdown",
   "id": "dad4b722-a125-4219-9c22-009acf75414d",
   "metadata": {},
   "source": [
    "- **Model**: `JSL-MedPhi-4-14B-v1`\n",
    "- **Model Description**: Medical model for summarization, question answering (open-book and closed-book), and general chat."
   ]
  },
  {
   "cell_type": "code",
   "execution_count": 1,
   "id": "9d1fb27b-e0ad-4759-937d-ae4edc209fc1",
   "metadata": {
    "tags": []
   },
   "outputs": [],
   "source": [
    "model_package_arn = \"<Customer to specify Model package ARN corresponding to their AWS region>\""
   ]
  },
  {
   "cell_type": "code",
   "execution_count": null,
   "id": "76ede1bf-2acb-4b5d-9db1-299abfeee20b",
   "metadata": {
    "tags": []
   },
   "outputs": [],
   "source": [
    "import os\n",
    "import base64\n",
    "import json\n",
    "import uuid\n",
    "from sagemaker import ModelPackage\n",
    "import sagemaker as sage\n",
    "from sagemaker import get_execution_role\n",
    "import boto3\n",
    "from IPython.display import Image, display\n",
    "from PIL import Image as ImageEdit\n",
    "import numpy as np\n",
    "import pandas as pd\n",
    "\n",
    "pd.set_option('display.max_rows', None)\n",
    "pd.set_option('display.max_columns', None)\n",
    "pd.set_option('display.max_colwidth', None)\n",
    "\n",
    "sagemaker_session = sage.Session()\n",
    "s3_bucket = sagemaker_session.default_bucket()\n",
    "region = sagemaker_session.boto_region_name\n",
    "account_id = boto3.client(\"sts\").get_caller_identity().get(\"Account\")\n",
    "role = get_execution_role()\n",
    "\n",
    "sagemaker = boto3.client(\"sagemaker\")\n",
    "s3_client = sagemaker_session.boto_session.client(\"s3\")\n",
    "ecr = boto3.client(\"ecr\")\n",
    "sm_runtime = boto3.client(\"sagemaker-runtime\")"
   ]
  },
  {
   "cell_type": "code",
   "execution_count": 3,
   "id": "07846ed0-ed90-4a11-a77c-00d1c3ca3cbd",
   "metadata": {
    "tags": []
   },
   "outputs": [],
   "source": [
    "model_name = \"JSL-MedPhi-4-14B-v1\"\n",
    "\n",
    "real_time_inference_instance_type = \"ml.g5.12xlarge\"\n",
    "batch_transform_inference_instance_type = \"ml.g5.12xlarge\""
   ]
  },
  {
   "cell_type": "markdown",
   "id": "08a626b7-f295-4c49-b856-ce237d5d3203",
   "metadata": {},
   "source": [
    "## 2. create a deployable model from the model package."
   ]
  },
  {
   "cell_type": "code",
   "execution_count": 4,
   "id": "0e39b84b-7a9f-4004-a204-56af1fd555f1",
   "metadata": {
    "tags": []
   },
   "outputs": [],
   "source": [
    "# Define ModelPackage\n",
    "model = ModelPackage(\n",
    "    role=role, \n",
    "    model_package_arn=model_package_arn, \n",
    "    sagemaker_session=sagemaker_session, \n",
    ")"
   ]
  },
  {
   "cell_type": "markdown",
   "id": "9e3a3a54-98d8-4a8a-b812-c33db9a2aa7d",
   "metadata": {},
   "source": [
    "### Important Parameters\n",
    "\n",
    "**Required Parameter:**\n",
    "- **`input_text`**: The input text(s) provided to the model.\n",
    "  - **Type**: `Union[str, dict, List[str], List[dict]]`\n",
    "  - **Constraints**: Provide a string for a single text or a list of strings for multiple inputs. Additionally, you can provide a dictionary or a list of dictionaries with keys `context` and `question` with `open_book_qa`, and the input will be formatted accordingly before sending to the model. If no template is selected, the `context` and `question` strings will be concatenated with a newline.\n",
    "\n",
    "**Optional Parameters (Inside `params` Key):**\n",
    "- **`max_tokens`**: The maximum number of tokens the model should generate as output.\n",
    "  - **Type**: `int`\n",
    "  - **Default**: `1024`\n",
    "  - **Constraints**: Must be a positive integer greater than 0.\n",
    "\n",
    "- **`temperature`**: The temperature parameter controlling the randomness of token generation.\n",
    "  - **Type**: `float`\n",
    "  - **Default**: `0.7`\n",
    "  - **Constraints**: Must be a float greater than or equal to 0.\n",
    "\n",
    "- **`repetition_penalty`**: Penalizes new tokens based on whether they appear in the prompt and generated text so far. Values > 1 discourage repetition, while values < 1 encourage it.\n",
    "  - **Type**: `float`\n",
    "  - **Default**: `1.2`\n",
    "  - **Constraints**: Must be a float in the range (0.0, 2.0].\n",
    "\n",
    "- **`top_p`**: Controls nucleus sampling by selecting tokens with a cumulative probability of `top_p`.\n",
    "  - **Type**: `float`\n",
    "  - **Default**: `0.9`\n",
    "  - **Constraints**: Must be a float in (0, 1].\n",
    "\n",
    "- **`top_k`**: Limits the token selection to the `top_k` most likely tokens.\n",
    "  - **Type**: `int`\n",
    "  - **Default**: `50`\n",
    "  - **Constraints**: Must be -1 (disable) or a positive integer.\n",
    "\n",
    "- **`template`**: Specifies the predefined template to apply to the input text.\n",
    "  - **Type**: `str`\n",
    "  - **Default**: `None`\n",
    "\n",
    "**Templates Available:**\n",
    "```json\n",
    "{\n",
    "    \"summarization\": \"Summarize the following document:\\n## Document Start ##\\n{context}\\n## Document End ##\",\n",
    "    \"open_book_qa\": \"Answer the following question based on the given context:\\n## Context Start ##\\n{context}\\n## Context End ##\\n## Question Start ##\\n{question}\\n## Question End ##\",\n",
    "    \"closed_book_qa\": \"Answer the following question:\\n## Question Start ##\\n{question}\\n## Question End ##\"\n",
    "}\n",
    "```\n",
    "If no template is provided, the `input_text` is used directly without formatting.\n",
    "\n",
    "> **Parameter Priority**: User-provided parameters take precedence, followed by environment variables, and then default values.\n",
    "\n",
    "---\n",
    "\n",
    "### Model Configuration\n",
    "\n",
    "| Parameter                  | Value     | Description                                                                                                                                                     |\n",
    "|----------------------------|-----------|-----------------------------------------------------------------------------------------------------------------------------------------------------------------|\n",
    "| **`dtype`**                | `float16` | Data type for model weights and activations.                                                                                                                   |\n",
    "| **`max_model_len`**        | `16384`  | Maximum length for input and output combined (`input + output ≤ max_model_len`).                                                                            |\n",
    "| **`tensor_parallel_size`** | `2`  | Number of GPUs used for distributed execution with tensor parallelism.                                                                                          |\n",
    "\n",
    "Other parameters use defaults from the [VLLM documentation](https://docs.vllm.ai/en/latest/dev/offline_inference/llm.html).\n",
    "\n",
    "---\n",
    "\n",
    "### Input Format\n",
    "\n",
    "To use the model, provide input in one of the following formats:\n",
    "\n",
    "#### Format 1: Single Input\n",
    "Provide a single input as a JSON object.\n",
    "\n",
    "```json\n",
    "{\n",
    "    \"input_text\": \"input text\",\n",
    "    \"params\": {\n",
    "        \"max_tokens\": 1024,\n",
    "        \"temperature\": 0.7\n",
    "    }\n",
    "}\n",
    "```\n",
    "\n",
    "Alternatively, provide a dictionary with `context` and `question` keys.\n",
    "\n",
    "```json\n",
    "{\n",
    "    \"input_text\": {\"context\": \"Context\", \"question\": \"Question\"},\n",
    "    \"params\": {\n",
    "        \"max_tokens\": 1024,\n",
    "        \"template\": \"open_book_qa\"\n",
    "    }\n",
    "}\n",
    "```\n",
    "\n",
    "#### Format 2: Multiple Inputs\n",
    "Provide multiple inputs as a JSON array.\n",
    "\n",
    "```json\n",
    "{\n",
    "    \"input_text\": [\n",
    "        \"input text 1\",\n",
    "        \"input text 2\"\n",
    "    ],\n",
    "    \"params\": {\n",
    "        \"max_tokens\": 1024,\n",
    "        \"temperature\": 0.7\n",
    "    }\n",
    "}\n",
    "```\n",
    "\n",
    "Alternatively, provide an array of dictionaries with `context` and `question` keys.\n",
    "\n",
    "```json\n",
    "{\n",
    "    \"input_text\": [\n",
    "        {\"context\": \"Context 1\", \"question\": \"Question 1\"},\n",
    "        {\"context\": \"Context 2\", \"question\": \"Question 2\"}\n",
    "    ],\n",
    "    \"params\": {\n",
    "        \"max_tokens\": 1024,\n",
    "        \"template\": \"open_book_qa\"\n",
    "    }\n",
    "}\n",
    "```\n",
    "\n",
    "**Note**: If you provide dictionaries, you can specify the template as `open_book_qa`. If no template is selected, `context` and `question` are concatenated with a newline.\n",
    "\n",
    "#### Format 3: JSON Lines (JSONL)\n",
    "Provide input in JSON Lines format, where each line is a JSON object.\n",
    "\n",
    "```\n",
    "{\"input_text\": \"input text 1\", \"params\": {\"max_tokens\": 1024}}\n",
    "{\"input_text\": \"input text 2\", \"params\": {\"max_tokens\": 512}}\n",
    "```"
   ]
  },
  {
   "cell_type": "markdown",
   "id": "6a846275-5af5-4679-9c52-d35ab157455b",
   "metadata": {},
   "source": [
    "## 3. Create an endpoint and perform real-time inference"
   ]
  },
  {
   "cell_type": "markdown",
   "id": "01b670fa-60d4-45a4-a0d6-3e8e2845b625",
   "metadata": {},
   "source": [
    "If you want to understand how real-time inference with Amazon SageMaker works, see [Documentation](https://docs.aws.amazon.com/sagemaker/latest/dg/how-it-works-hosting.html)."
   ]
  },
  {
   "cell_type": "markdown",
   "id": "5b2a308b-5452-4f23-b130-55f876d1574b",
   "metadata": {},
   "source": [
    "### A. Deploy the SageMaker model to an endpoint"
   ]
  },
  {
   "cell_type": "code",
   "execution_count": null,
   "id": "8c19c0c0-3ead-4834-8c02-a192da19080b",
   "metadata": {
    "tags": []
   },
   "outputs": [],
   "source": [
    "# Deploy the model\n",
    "predictor = model.deploy(\n",
    "    initial_instance_count=1,\n",
    "    instance_type=real_time_inference_instance_type, \n",
    "    endpoint_name=model_name,\n",
    "    model_data_download_timeout=3600\n",
    ")"
   ]
  },
  {
   "cell_type": "code",
   "execution_count": 6,
   "id": "5c195a50-43e4-4341-ad1d-23ca6f0aa45b",
   "metadata": {
    "tags": []
   },
   "outputs": [],
   "source": [
    "import time\n",
    "\n",
    "def invoke_realtime_endpoint(record):\n",
    "\n",
    "    response = sm_runtime.invoke_endpoint(\n",
    "        EndpointName=model_name,\n",
    "        ContentType=\"application/json\",\n",
    "        Accept=\"application/json\",\n",
    "        Body=json.dumps(record),\n",
    "    )\n",
    "\n",
    "    return json.load(response[\"Body\"])"
   ]
  },
  {
   "cell_type": "markdown",
   "id": "20ab6fa4-b51f-4f8d-9e79-4a45c450a0bf",
   "metadata": {},
   "source": [
    "### Question Answering"
   ]
  },
  {
   "cell_type": "markdown",
   "id": "2a67e1d0-ccdb-485b-8971-a0edcfda84f4",
   "metadata": {},
   "source": [
    "#### Initial setup"
   ]
  },
  {
   "cell_type": "code",
   "execution_count": 7,
   "id": "6b8d9f2f-5d11-41e2-979f-cce2a1478ace",
   "metadata": {
    "tags": []
   },
   "outputs": [],
   "source": [
    "open_book_qa = [\n",
    "    {\n",
    "        \"context\": \"Within the last several days, he has seen you in clinic and once again discussed whether or not to undergo radiation for his left temporal lesion. The patient has clearly been extremely ambivalent about this therapy for reasons that are not immediately apparent. It is clear that his MRI is progressing and that it seems unlikely at this time that anything other than radiation would be particularly effective. Despite repeatedly emphasizing this; however, the patient still is worried about potential long-term side effects from treatment that frankly seem unwarranted at this particular time\",\n",
    "        \"question\": \"What is the patient's concern regarding undergoing radiation therapy for his left temporal lesion?\"\n",
    "    },\n",
    "    {\n",
    "        \"context\": \"The patient is a 52-year-old male who is here for independent medical evaluation. The patient states that he works for ABC ABC as a temporary worker. He worked for ABCD too. The patient's main job was loading and unloading furniture and appliances for the home. The patient was approximately there for about two and a half weeks. Date of injury occurred back in October. The patient stating that he had history of previous back problems ongoing; however, he states that on this particular day back in October, he was unloading an 18-wheeler at ABC and he was bending down picking up boxes to unload and load. Unfortunately at this particular event, the patient had sharp pain in his lower back. Soon afterwards, he had radiating symptoms down his right buttock all the way down to the lateral part of his leg crossing his knee. This became progressively worse\", \n",
    "        \"question\": \"What symptoms did the patient experience after the injury?\"\n",
    "    },\n",
    "    {\n",
    "        \"context\": \"Patient with a past medical history of hypertension for 15 years. (Medical Transcription Sample Report) HISTORY OF PRESENT ILLNESS: The patient is a 74-year-old white woman who has a past medical history of hypertension for 15 years, history of CVA with no residual hemiparesis and uterine cancer with pulmonary metastases, who presented for evaluation of recent worsening of the hypertension. According to the patient, she had stable blood pressure for the past 12-15 years on 10 mg of lisinopril.\", \n",
    "        \"question\": \"What is the primary issue reported by the patient?\"\n",
    "    }\n",
    "]\n",
    "\n",
    "\n",
    "closed_book_qa = \"\"\"\n",
    "A 23-year-old pregnant woman at 22 weeks gestation presents with burning upon urination. She states it started 1 day ago and has been worsening despite drinking more water and taking cranberry extract. She otherwise feels well and is followed by a doctor for her pregnancy. Her temperature is 97.7°F (36.5°C), blood pressure is 122/77 mmHg, pulse is 80/min, respirations are 19/min, and oxygen saturation is 98% on room air. Physical exam is notable for an absence of costovertebral angle tenderness and a gravid uterus.\n",
    "\n",
    "Which of the following is the best treatment for this patient?\n",
    "A: Ampicillin\n",
    "B: Ceftriaxone\n",
    "C: Ciprofloxacin\n",
    "D: Doxycycline\n",
    "E: Nitrofurantoin\n",
    "\"\"\"\n"
   ]
  },
  {
   "cell_type": "markdown",
   "id": "e9a475e7-ad31-4b3b-b7b5-21310f541252",
   "metadata": {
    "tags": []
   },
   "source": [
    "#### Example: 1"
   ]
  },
  {
   "cell_type": "code",
   "execution_count": 8,
   "id": "c22cf887-70d5-4a87-8476-988590228328",
   "metadata": {
    "tags": []
   },
   "outputs": [
    {
     "data": {
      "text/html": [
       "<div>\n",
       "<style scoped>\n",
       "    .dataframe tbody tr th:only-of-type {\n",
       "        vertical-align: middle;\n",
       "    }\n",
       "\n",
       "    .dataframe tbody tr th {\n",
       "        vertical-align: top;\n",
       "    }\n",
       "\n",
       "    .dataframe thead th {\n",
       "        text-align: right;\n",
       "    }\n",
       "</style>\n",
       "<table border=\"1\" class=\"dataframe\">\n",
       "  <thead>\n",
       "    <tr style=\"text-align: right;\">\n",
       "      <th></th>\n",
       "      <th>response</th>\n",
       "    </tr>\n",
       "  </thead>\n",
       "  <tbody>\n",
       "    <tr>\n",
       "      <th>0</th>\n",
       "      <td>The symptoms described in the scenario suggest that the patient may have cystitis or another form of urinary tract infection (UTI). Given that she is pregnant, medication choice must take into account both efficacy against common uropathogens and safety during pregnancy.\\n\\nAmong the options provided:\\n\\n- **Ampicillin** can be used to treat UTIs but might not cover all typical pathogens.\\n  \\n- **Ceftriaxone** is typically reserved for more severe infections like pyelonephritis and requires intravenous administration; thus, it's less ideal as initial outpatient therapy unless there’s evidence of systemic involvement.\\n  \\n- **Ciprofloxacin** should generally be avoided during pregnancy due to potential risks associated with fetal development.\\n  \\n- **Doxycycline** also poses significant risk during pregnancy because of its effects on bone growth and teeth discoloration in fetuses.\\n  \\n- **Nitrofurantoin**, however, is considered safe throughout most of pregnancy except near term (usually after 37 weeks) when there is a risk of neonatal hemolysis if administered close to delivery time.\\n\\nTherefore, given these considerations, **Option E: Nitrofurantoin** would be the preferred first-line agent for treating uncomplicated urinary tract infections in pregnant women outside the late third trimester. It effectively treats many causative bacteria while having a good safety profile for use during pregnancy. Always ensure antibiotic choices align with local antibiogram data where possible. \\n\\nAs always, clinical judgment based on individual circumstances and consultation with relevant guidelines from obstetricians or infectious disease specialists should guide final management decisions.</td>\n",
       "    </tr>\n",
       "  </tbody>\n",
       "</table>\n",
       "</div>"
      ],
      "text/plain": [
       "                                                                                                                                                                                                                                                                                                                                                                                                                                                                                                                                                                                                                                                                                                                                                                                                                                                                                                                                                                                                                                                                                                                                                                                                                                                                                                                                                                                                                                                                                                                                                                                                                                                                                                                                                                           response\n",
       "0  The symptoms described in the scenario suggest that the patient may have cystitis or another form of urinary tract infection (UTI). Given that she is pregnant, medication choice must take into account both efficacy against common uropathogens and safety during pregnancy.\\n\\nAmong the options provided:\\n\\n- **Ampicillin** can be used to treat UTIs but might not cover all typical pathogens.\\n  \\n- **Ceftriaxone** is typically reserved for more severe infections like pyelonephritis and requires intravenous administration; thus, it's less ideal as initial outpatient therapy unless there’s evidence of systemic involvement.\\n  \\n- **Ciprofloxacin** should generally be avoided during pregnancy due to potential risks associated with fetal development.\\n  \\n- **Doxycycline** also poses significant risk during pregnancy because of its effects on bone growth and teeth discoloration in fetuses.\\n  \\n- **Nitrofurantoin**, however, is considered safe throughout most of pregnancy except near term (usually after 37 weeks) when there is a risk of neonatal hemolysis if administered close to delivery time.\\n\\nTherefore, given these considerations, **Option E: Nitrofurantoin** would be the preferred first-line agent for treating uncomplicated urinary tract infections in pregnant women outside the late third trimester. It effectively treats many causative bacteria while having a good safety profile for use during pregnancy. Always ensure antibiotic choices align with local antibiogram data where possible. \\n\\nAs always, clinical judgment based on individual circumstances and consultation with relevant guidelines from obstetricians or infectious disease specialists should guide final management decisions."
      ]
     },
     "execution_count": 8,
     "metadata": {},
     "output_type": "execute_result"
    }
   ],
   "source": [
    "input_data = {\n",
    "    \"input_text\": closed_book_qa,\n",
    "    \"params\": {\"template\": \"closed_book_qa\"}\n",
    "}\n",
    "\n",
    "data  = invoke_realtime_endpoint(input_data)\n",
    "pd.DataFrame(data)"
   ]
  },
  {
   "cell_type": "markdown",
   "id": "d1a76aec-391a-44e9-b385-99aa62f1b4bf",
   "metadata": {},
   "source": [
    "#### Example: 2"
   ]
  },
  {
   "cell_type": "code",
   "execution_count": 10,
   "id": "0c06b069-e3d8-48f4-9c09-fec59143ed11",
   "metadata": {
    "tags": []
   },
   "outputs": [
    {
     "data": {
      "text/html": [
       "<div>\n",
       "<style scoped>\n",
       "    .dataframe tbody tr th:only-of-type {\n",
       "        vertical-align: middle;\n",
       "    }\n",
       "\n",
       "    .dataframe tbody tr th {\n",
       "        vertical-align: top;\n",
       "    }\n",
       "\n",
       "    .dataframe thead th {\n",
       "        text-align: right;\n",
       "    }\n",
       "</style>\n",
       "<table border=\"1\" class=\"dataframe\">\n",
       "  <thead>\n",
       "    <tr style=\"text-align: right;\">\n",
       "      <th></th>\n",
       "      <th>response</th>\n",
       "    </tr>\n",
       "  </thead>\n",
       "  <tbody>\n",
       "    <tr>\n",
       "      <th>0</th>\n",
       "      <td>The patient is concerned about the potential long-term side effects of radiation therapy for his left temporal lesion. This worry persists despite being informed multiple times that radiation appears to be necessary due to the progression observed in his MRI scans.</td>\n",
       "    </tr>\n",
       "    <tr>\n",
       "      <th>1</th>\n",
       "      <td>After the injury, the patient experienced:\\n\\n1. Sharp pain in his lower back.\\n2. Radiating symptoms down his right buttock extending to the lateral part of his leg, crossing over his knee.\\n\\nThese symptoms worsened progressively following the incident.</td>\n",
       "    </tr>\n",
       "    <tr>\n",
       "      <th>2</th>\n",
       "      <td>The primary issue reported by the patient is the \"recent worsening of her hypertension.\"</td>\n",
       "    </tr>\n",
       "  </tbody>\n",
       "</table>\n",
       "</div>"
      ],
      "text/plain": [
       "                                                                                                                                                                                                                                                                    response\n",
       "0  The patient is concerned about the potential long-term side effects of radiation therapy for his left temporal lesion. This worry persists despite being informed multiple times that radiation appears to be necessary due to the progression observed in his MRI scans.\n",
       "1            After the injury, the patient experienced:\\n\\n1. Sharp pain in his lower back.\\n2. Radiating symptoms down his right buttock extending to the lateral part of his leg, crossing over his knee.\\n\\nThese symptoms worsened progressively following the incident.\n",
       "2                                                                                                                                                                                   The primary issue reported by the patient is the \"recent worsening of her hypertension.\""
      ]
     },
     "execution_count": 10,
     "metadata": {},
     "output_type": "execute_result"
    }
   ],
   "source": [
    "input_data = {\n",
    "    \"input_text\": open_book_qa,\n",
    "    \"params\": {\"template\": \"open_book_qa\"}\n",
    "}\n",
    "# The timeout for InvokeEndpoint is 60 seconds, so please carefully select the number of input texts you are sending in one request.\n",
    "data = invoke_realtime_endpoint(input_data)\n",
    "pd.DataFrame(data)"
   ]
  },
  {
   "cell_type": "markdown",
   "id": "b2aba8d7-195c-4d3b-b509-0809de49a10f",
   "metadata": {},
   "source": [
    "### Summarization"
   ]
  },
  {
   "cell_type": "markdown",
   "id": "6ff38549-fbd1-45fa-8b83-5e7addcdd5ca",
   "metadata": {},
   "source": [
    "#### Initial setup"
   ]
  },
  {
   "cell_type": "code",
   "execution_count": 12,
   "id": "c611cf4a-a946-417a-80b9-c2d90f35c6cf",
   "metadata": {
    "tags": []
   },
   "outputs": [],
   "source": [
    "# Articles related to COVID-19 from the CORD-19 dataset\n",
    "covid19_articles = [\n",
    "    \"\"\"INTRODUCTION: Infection with the new coronavirus responsible for Severe Acute Respiratory Syndrome (SARS-CoV-2) continues to spread worldwide. In Brazil, there are already more than 230 thousand dead, many of these older adults. OBJECTIVE: To present the clinical characteristics of older Brazilian adults infected by COVID-19, in the epidemiological weeks (EW) 34-52, and to verify factors responsible for the increased risk of death. METHODS: Retrospective and observational study conducted with secondary publicly available data, provided by the Brazilian Ministry of Health. 1,544 confirmed cases of registered COVID-19 infection were included between August 16 and December 26, 2020, aged 60 or older. OUTCOMES: Demographic data, comorbidity, symptoms for disease, clinical information: days of hospitalization, chest X-ray, type of RT-PCR. RESULTS: 48% of patients admitted to the ICU with evidence for SARS-CoV-2 died. Symptoms and comorbidities related to increased chance of death (OR) were immunodeficiency (188%), kidney disease (166%), neurological disease (103%), dyspnea (86%), pneumopathy (55%), O2 saturation <95% (53%), respiratory discomfort (49%), age (36%), sore throat (31%), and sex (0.5%). There was a 5% increase in the chance of death for each year of life. CONCLUSION: Heart disease and Diabetes mellitus were the most frequent comorbidities, but did not indicate an increased risk of death from SARS-CoV-2 infection. Age, sex, sore throat, dyspnea, respiratory discomfort, O2 saturation <95%, neurological disease, pneumopathy, immunodeficiency, and kidney disease were significantly associated with risk of death from COVID-19.\"\"\",\n",
    "    \"\"\"OBJECTIVE: To compare maternal and perinatal outcomes between randomized trials and observational studies in which conservative management was performed for more than 48 h in patients with early-onset severe preeclampsia. METHODOLOGY: We searched PubMed, LILACS, Cochrane and Google Scholar. The studies were divided in two groups: randomized and observational studies, from 1990 to 2018 that included patients with severe preeclampsia before 34 weeks of gestation with pregnancy prolongation &#8805;48 h but that did not include fetal growth restriction or HELLP syndrome at the beginning. The main variables recorded were maternal and perinatal complications. MAIN RESULTS: Forty-four studies met the inclusion criteria, and 5 of these were randomized. The average pregnancy prolongation was 9 days, with no difference between groups. Maternal complications were significantly more common in observational studies, RR = 0.71, 95% CI (0.54-0.93), p = .009. Perinatal complications were also significantly more common in observational studies (RR = 0.89, 95% CI (0.80-0.98), p = .01) at the expense of stillbirth and neonatal deaths. The percentages of cesarean sections were significantly higher in randomized studies, RR = 1.54, 95% CI (1.46-1.64). There were 2 maternal deaths, both in observational studies. CONCLUSION: Observational studies in which conservative management of early-onset preeclampsia is performed and do not include patients with fetal growth restriction or patients with HELLP syndrome and where at least 2 days of pregnancy prolongation is achieved are associated with significantly more maternal and perinatal complications.\"\"\",\n",
    "    \"\"\"Background:In recent years, an integrated programme of vector control, screening and treatment of gambiense human African trypanosomiasis (gHAT) infections has led to a rapid decline in cases in the Mandoul disease focus of Chad. In this study, we assess whether elimination of transmission has already been achieved in the region despite low-level case reporting, quantify the role of intensified interventions in transmission reduction, and predict the trajectory of gHAT in Mandoul for the next decade under a range of control scenarios. Method: We utilise human case data (2000-2019) to update a previous model of transmission of gHAT in Mandoul. We also test the updated model, which now has refined assumptions on diagnostic specificity of the current algorithm and an improved fitting method, via a data censoring approach.Results:We conclude that passive detection rates have increased due to improvements in diagnostic availability in fixed health facilities since 2015, by 2.1-fold for stage 1 detection, and by 1.5-fold for stage 2. We find that whilst the diagnostic algorithm for active screening is estimated to be highly specific (99.93%, 95% CI: 99.91-99.95%), the high screening level and limited remaining infection means that some recently reported cases might be false positives, especially the ones that were not parasitologically confirmed. We also find that the focus-wide tsetse vector reduction estimated through model fitting (99.1%, 95% CI: 96.1-99.6%) is comparable to the very high reduction previously measured by the decline in catches of tsetse from monitoring traps. In line with previous results, the model suggests that transmission was likely interrupted in 2015 as a result of intensified interventions. Conclusions: We recommend that additional confirmatory testing is performed in Mandoul in order that the endgame can be carefully monitored now that infection levels are so low. More specific measurement of cases would better inform when it is safe to stop active screening and vector control.\"\"\",\n",
    "    \"\"\"Microanatomy of the vast majority of human organs at birth is characterized by marked differences as compared to adult organs, regarding their architecture and the cell types detectable at histology. In preterm neonates, these differences are even more evident, due to the lower level of organ maturation and to ongoing cell differentiation. One of the most remarkable finding in preterm tissues is the presence of huge amounts of stem/progenitor cells in multiple organs, including kidney, brain, heart, adrenals, and lungs. In other organs, such as liver, the completely different burden of cell types in preterm infants is mainly related to the different function of the liver during gestation, mainly focused on hematopoiesis, a function that is taken by bone marrow after birth. Our preliminary studies showed that the antigens expressed by stem/progenitors differ significantly from one organ to the next. Moreover, within each developing human tissue, reactivity for different stem cell markers also changes during gestation, according with the multiple differentiation steps encountered by each progenitor during development. A better knowledge of stem/progenitor cells of preterms will allow neonatologists to boost preterm organ maturation, favoring the differentiation of the multiple cells types that characterize each organ in at term neonates.\"\"\",\n",
    "]"
   ]
  },
  {
   "cell_type": "markdown",
   "id": "cfa42211-57c9-44bc-a8f4-a8c6c1c8b1ec",
   "metadata": {},
   "source": [
    "#### Example: 1"
   ]
  },
  {
   "cell_type": "code",
   "execution_count": 13,
   "id": "40594e2f-fe7a-424b-9dd0-1056fdd16e40",
   "metadata": {
    "tags": []
   },
   "outputs": [
    {
     "data": {
      "text/html": [
       "<div>\n",
       "<style scoped>\n",
       "    .dataframe tbody tr th:only-of-type {\n",
       "        vertical-align: middle;\n",
       "    }\n",
       "\n",
       "    .dataframe tbody tr th {\n",
       "        vertical-align: top;\n",
       "    }\n",
       "\n",
       "    .dataframe thead th {\n",
       "        text-align: right;\n",
       "    }\n",
       "</style>\n",
       "<table border=\"1\" class=\"dataframe\">\n",
       "  <thead>\n",
       "    <tr style=\"text-align: right;\">\n",
       "      <th></th>\n",
       "      <th>response</th>\n",
       "    </tr>\n",
       "  </thead>\n",
       "  <tbody>\n",
       "    <tr>\n",
       "      <th>0</th>\n",
       "      <td>The document presents findings on the impact of COVID-19 among older Brazilian adults during specific epidemiological weeks in late 2020:\\n\\n**Introduction:** The ongoing global pandemic caused by SARS-CoV-2 has led to significant mortality rates globally, including over 230,000 deaths in Brazil.\\n\\n**Objective:** This retrospective study aims to describe the clinical features of elderly Brazilians affected by COVID-19 and identify factors that elevate the risk of death.\\n\\n**Methods:** Data collected retrospectively from public sources provided by the Brazilian Ministry of Health includes 1,544 individuals aged 60 years or above diagnosed with COVID-19 between August 16 and December 26, 2020.\\n\\n**Outcomes &amp; Results:** \\n- **Mortality Rate:** Among those hospitalized in ICUs, nearly half succumbed to the virus.\\n- **Risk Factors Identified:** Increased odds ratios for death include conditions such as immunodeficiency, kidney disease, neurological diseases, dyspnea, pneumopathy, low oxygen saturation (&lt;95%), respiratory distress, advanced age, and male gender. Notably, heart disease and diabetes were common yet didn't correlate with higher mortality risks.\\n  \\n**Conclusion:** Several health issues like age, certain infections, and pre-existing conditions notably heighten the likelihood of fatal outcomes due to COVID-19 in this demographic group. \\n\\nThis summary highlights key aspects without delving into detailed statistical analysis presented in the original text. For comprehensive insights, consulting the full report is recommended.</td>\n",
       "    </tr>\n",
       "    <tr>\n",
       "      <th>1</th>\n",
       "      <td>The study aimed to evaluate maternal and perinatal outcomes when conservative management exceeding 48 hours is applied to cases of early-onset severe preeclampsia without including those with fetal growth restriction or HELLP syndrome.\\n\\n**Methodology:**  \\nA review of literature spanning from 1990 to 2018 across databases like PubMed, LILACS, Cochrane, and Google Scholar identified relevant studies categorized into randomized and observational types.\\n\\n**Main Results:**  \\nOut of 44 qualifying studies, five were randomized. Both study categories showed an average pregnancy extension of about nine days:\\n\\n- **Maternal Complications**: More frequent in observational studies compared to randomized ones (Relative Risk [RR] = 0.71).\\n- **Perinatal Complications**: Also more prevalent in observational studies, particularly affecting rates of stillbirths and neonatal deaths (RR = 0.89).\\n- **Cesarean Sections**: Higher incidence noted in randomized studies (RR = 1.54).\\n\\nTwo maternal fatalities occurred exclusively within observational studies.\\n\\n**Conclusion:**  \\nObservational studies indicated greater risks of maternal and perinatal complications under similar conditions as opposed to randomized controlled settings. This suggests potential benefits of structured protocols typically found in randomized trials.</td>\n",
       "    </tr>\n",
       "    <tr>\n",
       "      <th>2</th>\n",
       "      <td>The document discusses efforts to eliminate Gambiense Human African Trypanosomiasis (gHAT) in the Mandoul district of Chad. It highlights significant progress made through integrated programs involving vector control, screening, and treatment, leading to reduced transmission.\\n\\nKey findings include:\\n\\n1. **Increased Detection Rates**: Since 2015, there's been a notable increase in passive detection rates at health facilities—by 2.1 times for early-stage and 1.5 times for late-stage detections.\\n\\n2. **Diagnostic Specificity**: The diagnostic algorithms used in screenings show high specificity (99.93%). However, given the low prevalence of the disease, some positive reports may be false positives unless confirmed parasitologically.\\n\\n3. **Vector Reduction**: Model estimates indicate a substantial decrease in the tsetse fly population responsible for transmitting gHAT, aligning closely with reductions observed in trap catch data.\\n\\n4. **Transmission Interruption**: Intensified intervention measures appear to have successfully disrupted transmission around 2015.\\n\\nConclusively, while promising strides toward eliminating gHAT have been made, further confirmatory tests are recommended to ensure accurate tracking of residual infections. This will help determine appropriate timelines for ceasing active screening and vector control activities safely.</td>\n",
       "    </tr>\n",
       "    <tr>\n",
       "      <th>3</th>\n",
       "      <td>The microanatomy of human organs at birth shows significant structural and cellular differences when compared to those in adults. These distinctions are particularly pronounced in preterm neonates due to less mature organs and active cell differentiation processes. Notably, preterm tissues contain large quantities of stem or progenitor cells across various organs like kidneys, brains, hearts, adrenal glands, and lungs.\\n\\nIn contrast, the liver's role shifts dramatically post-birth; it primarily supports hematopoiesis (blood formation) before birth but transitions this function to the bone marrow afterward. Preliminary research indicates variability in antigen expression among stem/progenitor cells between different organs and throughout gestational stages, reflecting diverse developmental pathways.\\n\\nUnderstanding these stem/progenitor cells could enable neonatologists to enhance organ maturity in preterm babies, promoting proper differentiation into fully functional structures seen in full-term newborns. This insight holds potential therapeutic implications for improving outcomes in premature births.</td>\n",
       "    </tr>\n",
       "  </tbody>\n",
       "</table>\n",
       "</div>"
      ],
      "text/plain": [
       "                                                                                                                                                                                                                                                                                                                                                                                                                                                                                                                                                                                                                                                                                                                                                                                                                                                                                                                                                                                                                                                                                                                                                                                                                                                                                                                                                                                                                                                                                                                                                                                                                     response\n",
       "0  The document presents findings on the impact of COVID-19 among older Brazilian adults during specific epidemiological weeks in late 2020:\\n\\n**Introduction:** The ongoing global pandemic caused by SARS-CoV-2 has led to significant mortality rates globally, including over 230,000 deaths in Brazil.\\n\\n**Objective:** This retrospective study aims to describe the clinical features of elderly Brazilians affected by COVID-19 and identify factors that elevate the risk of death.\\n\\n**Methods:** Data collected retrospectively from public sources provided by the Brazilian Ministry of Health includes 1,544 individuals aged 60 years or above diagnosed with COVID-19 between August 16 and December 26, 2020.\\n\\n**Outcomes & Results:** \\n- **Mortality Rate:** Among those hospitalized in ICUs, nearly half succumbed to the virus.\\n- **Risk Factors Identified:** Increased odds ratios for death include conditions such as immunodeficiency, kidney disease, neurological diseases, dyspnea, pneumopathy, low oxygen saturation (<95%), respiratory distress, advanced age, and male gender. Notably, heart disease and diabetes were common yet didn't correlate with higher mortality risks.\\n  \\n**Conclusion:** Several health issues like age, certain infections, and pre-existing conditions notably heighten the likelihood of fatal outcomes due to COVID-19 in this demographic group. \\n\\nThis summary highlights key aspects without delving into detailed statistical analysis presented in the original text. For comprehensive insights, consulting the full report is recommended.\n",
       "1                                                                                                                                                                                                                                        The study aimed to evaluate maternal and perinatal outcomes when conservative management exceeding 48 hours is applied to cases of early-onset severe preeclampsia without including those with fetal growth restriction or HELLP syndrome.\\n\\n**Methodology:**  \\nA review of literature spanning from 1990 to 2018 across databases like PubMed, LILACS, Cochrane, and Google Scholar identified relevant studies categorized into randomized and observational types.\\n\\n**Main Results:**  \\nOut of 44 qualifying studies, five were randomized. Both study categories showed an average pregnancy extension of about nine days:\\n\\n- **Maternal Complications**: More frequent in observational studies compared to randomized ones (Relative Risk [RR] = 0.71).\\n- **Perinatal Complications**: Also more prevalent in observational studies, particularly affecting rates of stillbirths and neonatal deaths (RR = 0.89).\\n- **Cesarean Sections**: Higher incidence noted in randomized studies (RR = 1.54).\\n\\nTwo maternal fatalities occurred exclusively within observational studies.\\n\\n**Conclusion:**  \\nObservational studies indicated greater risks of maternal and perinatal complications under similar conditions as opposed to randomized controlled settings. This suggests potential benefits of structured protocols typically found in randomized trials.\n",
       "2                                                                                                                                                                                                   The document discusses efforts to eliminate Gambiense Human African Trypanosomiasis (gHAT) in the Mandoul district of Chad. It highlights significant progress made through integrated programs involving vector control, screening, and treatment, leading to reduced transmission.\\n\\nKey findings include:\\n\\n1. **Increased Detection Rates**: Since 2015, there's been a notable increase in passive detection rates at health facilities—by 2.1 times for early-stage and 1.5 times for late-stage detections.\\n\\n2. **Diagnostic Specificity**: The diagnostic algorithms used in screenings show high specificity (99.93%). However, given the low prevalence of the disease, some positive reports may be false positives unless confirmed parasitologically.\\n\\n3. **Vector Reduction**: Model estimates indicate a substantial decrease in the tsetse fly population responsible for transmitting gHAT, aligning closely with reductions observed in trap catch data.\\n\\n4. **Transmission Interruption**: Intensified intervention measures appear to have successfully disrupted transmission around 2015.\\n\\nConclusively, while promising strides toward eliminating gHAT have been made, further confirmatory tests are recommended to ensure accurate tracking of residual infections. This will help determine appropriate timelines for ceasing active screening and vector control activities safely.\n",
       "3                                                                                                                                                                                                                                                                                                                                                                                                                                                            The microanatomy of human organs at birth shows significant structural and cellular differences when compared to those in adults. These distinctions are particularly pronounced in preterm neonates due to less mature organs and active cell differentiation processes. Notably, preterm tissues contain large quantities of stem or progenitor cells across various organs like kidneys, brains, hearts, adrenal glands, and lungs.\\n\\nIn contrast, the liver's role shifts dramatically post-birth; it primarily supports hematopoiesis (blood formation) before birth but transitions this function to the bone marrow afterward. Preliminary research indicates variability in antigen expression among stem/progenitor cells between different organs and throughout gestational stages, reflecting diverse developmental pathways.\\n\\nUnderstanding these stem/progenitor cells could enable neonatologists to enhance organ maturity in preterm babies, promoting proper differentiation into fully functional structures seen in full-term newborns. This insight holds potential therapeutic implications for improving outcomes in premature births."
      ]
     },
     "execution_count": 13,
     "metadata": {},
     "output_type": "execute_result"
    }
   ],
   "source": [
    "input_data = {\n",
    "    \"input_text\": covid19_articles,\n",
    "    \"params\": {\"template\": \"summarization\", \"temperature\":0.2}\n",
    "}\n",
    "\n",
    "# The timeout for InvokeEndpoint is 60 seconds, so please carefully select the number of input texts you are sending in one request.\n",
    "data = invoke_realtime_endpoint(input_data)\n",
    "pd.DataFrame(data)"
   ]
  },
  {
   "cell_type": "markdown",
   "id": "547960f3-6629-4c2d-a4d2-cdb26c9c61d0",
   "metadata": {},
   "source": [
    "Now that you have successfully performed a real-time inference, you do not need the endpoint any more. You can terminate the endpoint to avoid being charged."
   ]
  },
  {
   "cell_type": "code",
   "execution_count": null,
   "id": "488631f8-c3be-4b30-aba4-75d83ee588a3",
   "metadata": {
    "tags": []
   },
   "outputs": [],
   "source": [
    "model.sagemaker_session.delete_endpoint(model_name)\n",
    "model.sagemaker_session.delete_endpoint_config(model_name)"
   ]
  },
  {
   "cell_type": "markdown",
   "id": "c0e98cc5-6ea8-41bf-a78f-dbe6771caf55",
   "metadata": {},
   "source": [
    "## 4. Batch inference"
   ]
  },
  {
   "cell_type": "code",
   "execution_count": 17,
   "id": "f7d163c0-a6c7-49c5-a4ea-27b83670eb7b",
   "metadata": {
    "tags": []
   },
   "outputs": [],
   "source": [
    "import json\n",
    "import os\n",
    "\n",
    "# JSON file names\n",
    "validation_json_file_name1 = \"input1.json\"\n",
    "validation_json_file_name2 = \"input2.json\"\n",
    "\n",
    "# JSONL file names\n",
    "validation_jsonl_file_name1 = \"input1.jsonl\"\n",
    "validation_jsonl_file_name2 = \"input2.jsonl\"\n",
    "\n",
    "\n",
    "# JSON paths\n",
    "validation_input_json_path = f\"s3://{s3_bucket}/{model_name}/validation-input/json/\"\n",
    "validation_output_json_path = f\"s3://{s3_bucket}/{model_name}/validation-output/json/\"\n",
    "\n",
    "# JSONL paths\n",
    "validation_input_jsonl_path = f\"s3://{s3_bucket}/{model_name}/validation-input/jsonl/\"\n",
    "validation_output_jsonl_path = f\"s3://{s3_bucket}/{model_name}/validation-output/jsonl/\"\n",
    "\n",
    "\n",
    "def write_and_upload_to_s3(input_data, file_name):\n",
    "    file_format = os.path.splitext(file_name)[1].lower()\n",
    "\n",
    "    s3_client.put_object(\n",
    "        Bucket=s3_bucket,\n",
    "        Key=f\"{model_name}/validation-input/{file_format[1:]}/{os.path.basename(file_name)}\",\n",
    "        Body=(bytes(input_data.encode(\"UTF-8\"))),\n",
    "    )\n"
   ]
  },
  {
   "cell_type": "code",
   "execution_count": 18,
   "id": "23904344-4a1e-4e90-942e-dc9e53827369",
   "metadata": {
    "tags": []
   },
   "outputs": [],
   "source": [
    "def create_jsonl(records, params=None):\n",
    "    if isinstance(records, str):\n",
    "        records = [records]\n",
    "\n",
    "    json_records = [\n",
    "        {\"input_text\": text} if params is None else {\"input_text\": text, \"params\": params}\n",
    "        for text in records\n",
    "    ]\n",
    "\n",
    "    return '\\n'.join(json.dumps(record, ensure_ascii=False) for record in json_records)\n",
    "\n",
    "\n",
    "# Example data for JSONL files\n",
    "input_jsonl_data1 = create_jsonl(open_book_qa, params = {\"template\": \"open_book_qa\"})\n",
    "input_jsonl_data2 = create_jsonl(covid19_articles, params = {\"template\": \"summarization\"})\n",
    "\n",
    "# Example data for JSON files\n",
    "input_json_data1 = json.dumps({\"input_text\": open_book_qa, \"params\": {\"template\": \"open_book_qa\"}})\n",
    "input_json_data2 = json.dumps({\"input_text\": covid19_articles, \"params\": {\"template\": \"summarization\"}})\n",
    "\n",
    "\n",
    "# Write and upload JSONL data\n",
    "write_and_upload_to_s3(input_jsonl_data1, f\"{validation_jsonl_file_name1}\")\n",
    "write_and_upload_to_s3(input_jsonl_data2, f\"{validation_jsonl_file_name2}\")\n",
    "\n",
    "# Write and upload JSON data\n",
    "write_and_upload_to_s3(input_json_data1, f\"{validation_json_file_name1}\")\n",
    "write_and_upload_to_s3(input_json_data2,  f\"{validation_json_file_name2}\")"
   ]
  },
  {
   "cell_type": "markdown",
   "id": "1faaf6d5-859e-492c-a985-abc16626330e",
   "metadata": {},
   "source": [
    "### JSON"
   ]
  },
  {
   "cell_type": "code",
   "execution_count": null,
   "id": "2be2cdcc-57f6-4f30-8d8a-f740dd83a046",
   "metadata": {
    "tags": []
   },
   "outputs": [],
   "source": [
    "transformer = model.transformer(\n",
    "    instance_count=1,\n",
    "    instance_type=batch_transform_inference_instance_type,\n",
    "    accept=\"application/json\",\n",
    "    output_path=validation_output_json_path,\n",
    ")\n",
    "\n",
    "transformer.transform(validation_input_json_path, content_type=\"application/json\")\n",
    "transformer.wait()"
   ]
  },
  {
   "cell_type": "code",
   "execution_count": 20,
   "id": "142c53a9-2e64-4839-acbd-74bfbd7fc372",
   "metadata": {
    "tags": []
   },
   "outputs": [],
   "source": [
    "from urllib.parse import urlparse\n",
    "\n",
    "def retrieve_json_output_from_s3(validation_file_name):\n",
    "\n",
    "    parsed_url = urlparse(transformer.output_path)\n",
    "    file_key = f\"{parsed_url.path[1:]}{validation_file_name}.out\"\n",
    "    response = s3_client.get_object(Bucket=s3_bucket, Key=file_key)\n",
    "\n",
    "    data = json.loads(response[\"Body\"].read().decode(\"utf-8\"))\n",
    "    df = pd.DataFrame(data)\n",
    "    display(df)\n"
   ]
  },
  {
   "cell_type": "markdown",
   "id": "31266056-dcbc-4d4d-be1c-3cdf04b0b131",
   "metadata": {},
   "source": [
    "#### Example 1: Question Answering"
   ]
  },
  {
   "cell_type": "code",
   "execution_count": 21,
   "id": "b781965a-3891-4ac3-a580-9e187b262d39",
   "metadata": {
    "tags": []
   },
   "outputs": [
    {
     "data": {
      "text/html": [
       "<div>\n",
       "<style scoped>\n",
       "    .dataframe tbody tr th:only-of-type {\n",
       "        vertical-align: middle;\n",
       "    }\n",
       "\n",
       "    .dataframe tbody tr th {\n",
       "        vertical-align: top;\n",
       "    }\n",
       "\n",
       "    .dataframe thead th {\n",
       "        text-align: right;\n",
       "    }\n",
       "</style>\n",
       "<table border=\"1\" class=\"dataframe\">\n",
       "  <thead>\n",
       "    <tr style=\"text-align: right;\">\n",
       "      <th></th>\n",
       "      <th>response</th>\n",
       "    </tr>\n",
       "  </thead>\n",
       "  <tbody>\n",
       "    <tr>\n",
       "      <th>0</th>\n",
       "      <td>The patient's primary concern regarding undergoing radiation therapy for his left temporal lesion is related to the potential long-term side effects of the treatment. Although these concerns may appear unfounded to the clinician, they have contributed significantly to the patient’s ambivalence towards opting for radiation therapy despite its necessity due to the progression observed in the MRI scans.</td>\n",
       "    </tr>\n",
       "    <tr>\n",
       "      <th>1</th>\n",
       "      <td>After the injury, the patient experienced:\\n\\n1. Sharp pain in his lower back.\\n2. Radiating symptoms down his right buttock extending to the lateral part of his leg across the knee.\\n\\nThese symptoms were noted to become progressively worse following the incident.</td>\n",
       "    </tr>\n",
       "    <tr>\n",
       "      <th>2</th>\n",
       "      <td>The primary issue reported by the patient is the recent worsening of her hypertension despite being on 10 mg of lisinopril for the past 12-15 years.</td>\n",
       "    </tr>\n",
       "  </tbody>\n",
       "</table>\n",
       "</div>"
      ],
      "text/plain": [
       "                                                                                                                                                                                                                                                                                                                                                                                                              response\n",
       "0  The patient's primary concern regarding undergoing radiation therapy for his left temporal lesion is related to the potential long-term side effects of the treatment. Although these concerns may appear unfounded to the clinician, they have contributed significantly to the patient’s ambivalence towards opting for radiation therapy despite its necessity due to the progression observed in the MRI scans.\n",
       "1                                                                                                                                            After the injury, the patient experienced:\\n\\n1. Sharp pain in his lower back.\\n2. Radiating symptoms down his right buttock extending to the lateral part of his leg across the knee.\\n\\nThese symptoms were noted to become progressively worse following the incident.\n",
       "2                                                                                                                                                                                                                                                                 The primary issue reported by the patient is the recent worsening of her hypertension despite being on 10 mg of lisinopril for the past 12-15 years."
      ]
     },
     "metadata": {},
     "output_type": "display_data"
    }
   ],
   "source": [
    "# open_book_qa\n",
    "retrieve_json_output_from_s3(validation_json_file_name1)"
   ]
  },
  {
   "cell_type": "markdown",
   "id": "07f6ccef-749b-4efc-a22f-0599852a6f43",
   "metadata": {},
   "source": [
    "#### Example 2: Summarization"
   ]
  },
  {
   "cell_type": "code",
   "execution_count": 22,
   "id": "15571a71-0110-47fb-a172-20af596cc483",
   "metadata": {
    "tags": []
   },
   "outputs": [
    {
     "data": {
      "text/html": [
       "<div>\n",
       "<style scoped>\n",
       "    .dataframe tbody tr th:only-of-type {\n",
       "        vertical-align: middle;\n",
       "    }\n",
       "\n",
       "    .dataframe tbody tr th {\n",
       "        vertical-align: top;\n",
       "    }\n",
       "\n",
       "    .dataframe thead th {\n",
       "        text-align: right;\n",
       "    }\n",
       "</style>\n",
       "<table border=\"1\" class=\"dataframe\">\n",
       "  <thead>\n",
       "    <tr style=\"text-align: right;\">\n",
       "      <th></th>\n",
       "      <th>response</th>\n",
       "    </tr>\n",
       "  </thead>\n",
       "  <tbody>\n",
       "    <tr>\n",
       "      <th>0</th>\n",
       "      <td>The document presents findings on the impact of COVID-19 among older adults in Brazil during epidemiologic weeks 34-52 of 2020:\\n\\n### Introduction\\n- The ongoing global pandemic caused by SARS-CoV-2 has led to over 230,000 deaths in Brazil, predominantly affecting older individuals.\\n\\n### Objective\\n- Investigate the clinical features of elderly Brazilians affected by COVID-19 and identify factors contributing to higher mortality risks.\\n\\n### Methods\\n- A retrospective observational analysis using public health data from the Brazilian Ministry of Health involving 1,544 confirmed COVID-19 cases in people aged 60 years and above.\\n\\n### Outcomes &amp; Results\\n- **Mortality**: Approximately 48% of those who required intensive care units (ICUs) due to SARS-CoV-2 passed away.\\n- Significant predictors of death include conditions such as immunodeficiency, kidney disease, and neurological disorders; symptoms like dyspnea, low oxygen saturation (&lt;95%), and severe respiratory issues also elevated mortality risk.\\n- Every additional year of age slightly raised the likelihood of dying by about 5%.\\n\\n### Conclusion\\n- Although heart disease and diabetes mellitus were common comorbidities, they weren't linked to heightened death risk. Factors strongly correlated with fatality rates involved various comorbidities and specific symptomatic indicators including age, gender disparities, respiratory complications, and certain chronic illnesses. \\n\\nThis summary encapsulates key insights into how demographic variables and underlying health conditions influence outcomes in older populations afflicted by COVID-19 in Brazil.</td>\n",
       "    </tr>\n",
       "    <tr>\n",
       "      <th>1</th>\n",
       "      <td>### Summary:\\n\\n**Objective:**  \\nTo evaluate differences in maternal and perinatal outcomes between randomized controlled trials and observational studies regarding the use of conservative management for over 48 hours in cases of early-onset severe preeclampsia.\\n\\n**Methodology:**  \\nA literature search across databases such as PubMed, LILACS, Cochrane Library, and Google Scholar identified relevant studies published between 1990 and 2018 on pregnant women under 34 weeks' gestation experiencing severe preeclampsia without initial fetal growth restriction or HELLP syndrome who had prolonged pregnancies of ≥48 hours due to conservative management.\\n\\n**Main Results:**  \\nOut of 44 eligible studies, five were randomized controlled trials. Both study types showed an average pregnancy prolongation duration of nine days. Significant findings indicated increased rates of maternal and perinatal complications in observational studies compared to randomized ones, including higher instances of stillbirths and neonatal deaths. Additionally, the rate of caesarean deliveries was notably greater in randomized studies. Two maternal fatalities occurred exclusively within the observational group.\\n\\n**Conclusion:**  \\nObservational studies report substantially more adverse maternal and perinatal events when employing conservative management strategies for early-onset severe preeclampsia excluding those with concurrent conditions like fetal growth restrictions or HELLP syndrome, even if the pregnancy extends beyond two additional days. Randomized trials tend to have lower complication rates possibly linked to differing intervention protocols and patient selection biases inherent in non-randomized designs.</td>\n",
       "    </tr>\n",
       "    <tr>\n",
       "      <th>2</th>\n",
       "      <td>The document discusses efforts to eliminate Gambiense Human African Trypanosomiasis (gHAT) in the Mandoul district of Chad through enhanced vector control, screening, and treatment programs. The study uses historical human case data from 2000 to 2019 to refine a transmission model for gHAT, incorporating updates like improved diagnostics and advanced modeling techniques.\\n\\nKey findings include:\\n\\n1. **Increased Detection Rates**: Since 2015, there's been a significant rise in early-stage diagnosis at fixed healthcare facilities—detection rate doubled for Stage 1 and rose by 50% for Stage 2.\\n   \\n2. **Diagnostic Specificity**: Active screening shows extremely high specificity (~99.93%). However, given high screening volumes and few remaining infections, some recent positive diagnoses may be false positives unless confirmed parasitologically.\\n\\n3. **Vector Reduction Success**: Model estimates indicate over 99% reduction in the tsetse fly population, corroborating past measurements based on trap catches. This aligns with predictions suggesting interruption of transmission around 2015 due to aggressive intervention strategies.\\n\\n4. **Recommendations**: To ensure precise assessment during the final stages of eradication, further confirmatory tests are advised to accurately gauge true infection prevalence before potentially halting intensive screenings and ongoing vector control measures. \\n\\nOverall, while progress towards eliminating gHAT transmission appears promising, meticulous verification remains crucial to safely transition out of intense control phases.</td>\n",
       "    </tr>\n",
       "    <tr>\n",
       "      <th>3</th>\n",
       "      <td>The microanatomy of many human organs at birth differs notably from adulthood, particularly in terms of structure and cellular composition observable under microscopy. This difference is pronounced in preterm neonates due to less mature organs and active cell differentiation processes. Preterm tissues often contain large quantities of stem/progenitor cells across various organs like kidneys, brains, hearts, adrenal glands, and lungs.\\n\\nIn contrast, the diversity of cell types in organs such as the liver relates primarily to its role in fetal life (hematopoiesis) before this function transitions postnatally to the bone marrow. Preliminary research indicates significant variation in antigen expression among stem/progenitor cells between different organs and throughout stages of gestational development. Understanding these variations could help neonatologists enhance the maturation process of preterm organs, promoting the proper differentiation necessary for full-term functionality.</td>\n",
       "    </tr>\n",
       "  </tbody>\n",
       "</table>\n",
       "</div>"
      ],
      "text/plain": [
       "                                                                                                                                                                                                                                                                                                                                                                                                                                                                                                                                                                                                                                                                                                                                                                                                                                                                                                                                                                                                                                                                                                                                                                                                                                                                                                                                                                                                                                                                                                                                                                                                                                                                                                                                                                                response\n",
       "0                                                                                         The document presents findings on the impact of COVID-19 among older adults in Brazil during epidemiologic weeks 34-52 of 2020:\\n\\n### Introduction\\n- The ongoing global pandemic caused by SARS-CoV-2 has led to over 230,000 deaths in Brazil, predominantly affecting older individuals.\\n\\n### Objective\\n- Investigate the clinical features of elderly Brazilians affected by COVID-19 and identify factors contributing to higher mortality risks.\\n\\n### Methods\\n- A retrospective observational analysis using public health data from the Brazilian Ministry of Health involving 1,544 confirmed COVID-19 cases in people aged 60 years and above.\\n\\n### Outcomes & Results\\n- **Mortality**: Approximately 48% of those who required intensive care units (ICUs) due to SARS-CoV-2 passed away.\\n- Significant predictors of death include conditions such as immunodeficiency, kidney disease, and neurological disorders; symptoms like dyspnea, low oxygen saturation (<95%), and severe respiratory issues also elevated mortality risk.\\n- Every additional year of age slightly raised the likelihood of dying by about 5%.\\n\\n### Conclusion\\n- Although heart disease and diabetes mellitus were common comorbidities, they weren't linked to heightened death risk. Factors strongly correlated with fatality rates involved various comorbidities and specific symptomatic indicators including age, gender disparities, respiratory complications, and certain chronic illnesses. \\n\\nThis summary encapsulates key insights into how demographic variables and underlying health conditions influence outcomes in older populations afflicted by COVID-19 in Brazil.\n",
       "1  ### Summary:\\n\\n**Objective:**  \\nTo evaluate differences in maternal and perinatal outcomes between randomized controlled trials and observational studies regarding the use of conservative management for over 48 hours in cases of early-onset severe preeclampsia.\\n\\n**Methodology:**  \\nA literature search across databases such as PubMed, LILACS, Cochrane Library, and Google Scholar identified relevant studies published between 1990 and 2018 on pregnant women under 34 weeks' gestation experiencing severe preeclampsia without initial fetal growth restriction or HELLP syndrome who had prolonged pregnancies of ≥48 hours due to conservative management.\\n\\n**Main Results:**  \\nOut of 44 eligible studies, five were randomized controlled trials. Both study types showed an average pregnancy prolongation duration of nine days. Significant findings indicated increased rates of maternal and perinatal complications in observational studies compared to randomized ones, including higher instances of stillbirths and neonatal deaths. Additionally, the rate of caesarean deliveries was notably greater in randomized studies. Two maternal fatalities occurred exclusively within the observational group.\\n\\n**Conclusion:**  \\nObservational studies report substantially more adverse maternal and perinatal events when employing conservative management strategies for early-onset severe preeclampsia excluding those with concurrent conditions like fetal growth restrictions or HELLP syndrome, even if the pregnancy extends beyond two additional days. Randomized trials tend to have lower complication rates possibly linked to differing intervention protocols and patient selection biases inherent in non-randomized designs.\n",
       "2                                                                                                                                    The document discusses efforts to eliminate Gambiense Human African Trypanosomiasis (gHAT) in the Mandoul district of Chad through enhanced vector control, screening, and treatment programs. The study uses historical human case data from 2000 to 2019 to refine a transmission model for gHAT, incorporating updates like improved diagnostics and advanced modeling techniques.\\n\\nKey findings include:\\n\\n1. **Increased Detection Rates**: Since 2015, there's been a significant rise in early-stage diagnosis at fixed healthcare facilities—detection rate doubled for Stage 1 and rose by 50% for Stage 2.\\n   \\n2. **Diagnostic Specificity**: Active screening shows extremely high specificity (~99.93%). However, given high screening volumes and few remaining infections, some recent positive diagnoses may be false positives unless confirmed parasitologically.\\n\\n3. **Vector Reduction Success**: Model estimates indicate over 99% reduction in the tsetse fly population, corroborating past measurements based on trap catches. This aligns with predictions suggesting interruption of transmission around 2015 due to aggressive intervention strategies.\\n\\n4. **Recommendations**: To ensure precise assessment during the final stages of eradication, further confirmatory tests are advised to accurately gauge true infection prevalence before potentially halting intensive screenings and ongoing vector control measures. \\n\\nOverall, while progress towards eliminating gHAT transmission appears promising, meticulous verification remains crucial to safely transition out of intense control phases.\n",
       "3                                                                                                                                                                                                                                                                                                                                                                                                                                                                                                                                                                                                                                                                                                                                                    The microanatomy of many human organs at birth differs notably from adulthood, particularly in terms of structure and cellular composition observable under microscopy. This difference is pronounced in preterm neonates due to less mature organs and active cell differentiation processes. Preterm tissues often contain large quantities of stem/progenitor cells across various organs like kidneys, brains, hearts, adrenal glands, and lungs.\\n\\nIn contrast, the diversity of cell types in organs such as the liver relates primarily to its role in fetal life (hematopoiesis) before this function transitions postnatally to the bone marrow. Preliminary research indicates significant variation in antigen expression among stem/progenitor cells between different organs and throughout stages of gestational development. Understanding these variations could help neonatologists enhance the maturation process of preterm organs, promoting the proper differentiation necessary for full-term functionality."
      ]
     },
     "metadata": {},
     "output_type": "display_data"
    }
   ],
   "source": [
    "retrieve_json_output_from_s3(validation_json_file_name2)"
   ]
  },
  {
   "cell_type": "markdown",
   "id": "bdce77a4-60a9-4d19-8c5b-ddde4f8f2e27",
   "metadata": {},
   "source": [
    "### JSON Lines"
   ]
  },
  {
   "cell_type": "code",
   "execution_count": null,
   "id": "25479419-e281-4987-b1d0-9f57ce5f1e2c",
   "metadata": {
    "tags": []
   },
   "outputs": [],
   "source": [
    "transformer = model.transformer(\n",
    "    instance_count=1,\n",
    "    instance_type=batch_transform_inference_instance_type,\n",
    "    accept=\"application/jsonlines\",\n",
    "    output_path=validation_output_jsonl_path,\n",
    ")\n",
    "transformer.transform(validation_input_jsonl_path, content_type=\"application/jsonlines\")\n",
    "transformer.wait()"
   ]
  },
  {
   "cell_type": "code",
   "execution_count": 24,
   "id": "ab85ffa0-c656-42be-9e9e-f458f465fe5b",
   "metadata": {
    "tags": []
   },
   "outputs": [],
   "source": [
    "from urllib.parse import urlparse\n",
    "\n",
    "def retrieve_jsonlines_output_from_s3(validation_file_name):\n",
    "\n",
    "    parsed_url = urlparse(transformer.output_path)\n",
    "    file_key = f\"{parsed_url.path[1:]}{validation_file_name}.out\"\n",
    "    response = s3_client.get_object(Bucket=s3_bucket, Key=file_key)\n",
    "\n",
    "    data = response[\"Body\"].read().decode(\"utf-8\")\n",
    "    print(data)\n"
   ]
  },
  {
   "cell_type": "markdown",
   "id": "1d0b53a7-e6eb-45e5-8cdc-b970e3c0524f",
   "metadata": {},
   "source": [
    "#### Example 1: Question Answering"
   ]
  },
  {
   "cell_type": "code",
   "execution_count": 25,
   "id": "d66eb21b-1841-41f4-bf9c-e575b49ab0a1",
   "metadata": {
    "tags": []
   },
   "outputs": [
    {
     "name": "stdout",
     "output_type": "stream",
     "text": [
      "{\"response\": \"The patient's primary concern regarding undergoing radiation therapy for his left temporal lesion is related to the potential long-term side effects of the treatment. Although these concerns may appear unfounded to the clinician, they have contributed significantly to the patient\\u2019s ambivalence towards opting for radiation therapy despite its necessity due to the progression observed in the MRI scans.\"}\n",
      "{\"response\": \"After the injury, the patient experienced:\\n\\n1. Sharp pain in his lower back.\\n2. Radiating symptoms down his right buttock extending to the lateral part of his leg across the knee.\\n\\nThese symptoms were noted to become progressively worse following the incident.\"}\n",
      "{\"response\": \"The primary issue reported by the patient is the recent worsening of her hypertension despite being on 10 mg of lisinopril for the past 12-15 years.\"}\n"
     ]
    }
   ],
   "source": [
    "# open_book_qa\n",
    "retrieve_jsonlines_output_from_s3(validation_jsonl_file_name1)"
   ]
  },
  {
   "cell_type": "markdown",
   "id": "af3ca0a9-403e-4669-a91b-0e0a8af86e81",
   "metadata": {
    "tags": []
   },
   "source": [
    "#### Example 2: Summarization"
   ]
  },
  {
   "cell_type": "code",
   "execution_count": 26,
   "id": "417e3bf2-fc44-4837-86eb-589b467a0b6b",
   "metadata": {
    "tags": []
   },
   "outputs": [
    {
     "name": "stdout",
     "output_type": "stream",
     "text": [
      "{\"response\": \"The document presents findings on the impact of COVID-19 among older adults in Brazil during epidemiologic weeks 34-52 of 2020:\\n\\n### Introduction\\n- The ongoing global pandemic caused by SARS-CoV-2 has led to over 230,000 deaths in Brazil, predominantly affecting older individuals.\\n\\n### Objective\\n- Investigate the clinical features of elderly Brazilians affected by COVID-19 and identify factors contributing to higher mortality risks.\\n\\n### Methods\\n- A retrospective observational analysis using public health data from the Brazilian Ministry of Health involving 1,544 confirmed COVID-19 cases in people aged 60 years and above.\\n\\n### Outcomes & Results\\n- **Mortality**: Approximately 48% of those who required intensive care units (ICUs) due to SARS-CoV-2 passed away.\\n- Significant predictors of death include conditions such as immunodeficiency, kidney disease, and neurological disorders; symptoms like dyspnea, low oxygen saturation (<95%), and severe respiratory issues also elevated mortality risk.\\n- Every additional year of age slightly raised the likelihood of dying by about 5%.\\n\\n### Conclusion\\n- Although heart disease and diabetes mellitus were common comorbidities, they weren't linked to heightened death risk. Factors strongly correlated with fatality rates involved various comorbidities and specific symptomatic indicators including age, gender disparities, respiratory complications, and certain chronic illnesses. \\n\\nThis summary encapsulates key insights into how demographic variables and underlying health conditions influence outcomes in older populations afflicted by COVID-19 in Brazil.\"}\n",
      "{\"response\": \"### Summary:\\n\\n**Objective:**  \\nTo evaluate differences in maternal and perinatal outcomes between randomized controlled trials and observational studies regarding the use of conservative management for over 48 hours in cases of early-onset severe preeclampsia.\\n\\n**Methodology:**  \\nA literature search across databases such as PubMed, LILACS, Cochrane Library, and Google Scholar identified relevant studies published between 1990 and 2018 on pregnant women under 34 weeks' gestation experiencing severe preeclampsia without initial fetal growth restriction or HELLP syndrome who had prolonged pregnancies of \\u226548 hours due to conservative management.\\n\\n**Main Results:**  \\nOut of 44 eligible studies, five were randomized controlled trials. Both study types showed an average pregnancy prolongation duration of nine days. Significant findings indicated increased rates of maternal and perinatal complications in observational studies compared to randomized ones, including higher instances of stillbirths and neonatal deaths. Additionally, the rate of caesarean deliveries was notably greater in randomized studies. Two maternal fatalities occurred exclusively within the observational group.\\n\\n**Conclusion:**  \\nObservational studies report substantially more adverse maternal and perinatal events when employing conservative management strategies for early-onset severe preeclampsia excluding those with concurrent conditions like fetal growth restrictions or HELLP syndrome, even if the pregnancy extends beyond two additional days. Randomized trials tend to have lower complication rates possibly linked to differing intervention protocols and patient selection biases inherent in non-randomized designs.\"}\n",
      "{\"response\": \"The document discusses efforts to eliminate Gambiense Human African Trypanosomiasis (gHAT) in the Mandoul district of Chad through enhanced vector control, screening, and treatment programs. The study uses historical human case data from 2000 to 2019 to refine a transmission model for gHAT, incorporating updates like improved diagnostics and advanced modeling techniques.\\n\\nKey findings include:\\n\\n1. **Increased Detection Rates**: Since 2015, there's been a significant rise in early-stage diagnosis at fixed healthcare facilities\\u2014detection rate doubled for Stage 1 and rose by 50% for Stage 2.\\n   \\n2. **Diagnostic Specificity**: Active screening shows extremely high specificity (~99.93%). However, given high screening volumes and few remaining infections, some recent positive diagnoses may be false positives unless confirmed parasitologically.\\n\\n3. **Vector Reduction Success**: Model estimates indicate over 99% reduction in the tsetse fly population, corroborating past measurements based on trap catches. This aligns with predictions suggesting interruption of transmission around 2015 due to aggressive intervention strategies.\\n\\n4. **Recommendations**: To ensure precise assessment during the final stages of eradication, further confirmatory tests are advised to accurately gauge true infection prevalence before potentially halting intensive screenings and ongoing vector control measures. \\n\\nOverall, while progress towards eliminating gHAT transmission appears promising, meticulous verification remains crucial to safely transition out of intense control phases.\"}\n",
      "{\"response\": \"The microanatomy of many human organs at birth differs notably from adulthood, particularly in terms of structure and cellular composition observable under microscopy. This difference is pronounced in preterm neonates due to less mature organs and active cell differentiation processes. Preterm tissues often contain large quantities of stem/progenitor cells across various organs like kidneys, brains, hearts, adrenal glands, and lungs.\\n\\nIn contrast, the diversity of cell types in organs such as the liver relates primarily to its role in fetal life (hematopoiesis) before this function transitions postnatally to the bone marrow. Preliminary research indicates significant variation in antigen expression among stem/progenitor cells between different organs and throughout stages of gestational development. Understanding these variations could help neonatologists enhance the maturation process of preterm organs, promoting the proper differentiation necessary for full-term functionality.\"}\n"
     ]
    }
   ],
   "source": [
    "retrieve_jsonlines_output_from_s3(validation_jsonl_file_name2)"
   ]
  },
  {
   "cell_type": "code",
   "execution_count": null,
   "id": "22a8df79-ad3b-4e85-a054-24931c15f3a3",
   "metadata": {
    "tags": []
   },
   "outputs": [],
   "source": [
    "model.delete_model()"
   ]
  },
  {
   "cell_type": "markdown",
   "id": "37215a51-bf01-4cf0-832a-c7f85a8a06c3",
   "metadata": {},
   "source": [
    "### Unsubscribe to the listing (optional)"
   ]
  },
  {
   "cell_type": "markdown",
   "id": "53cddd4d-4b27-4a94-95b8-5e027e6cd9cd",
   "metadata": {},
   "source": [
    "If you would like to unsubscribe to the model package, follow these steps. Before you cancel the subscription, ensure that you do not have any [deployable model](https://console.aws.amazon.com/sagemaker/home#/models) created from the model package or using the algorithm. Note - You can find this information by looking at the container name associated with the model. \n",
    "\n",
    "**Steps to unsubscribe to product from AWS Marketplace**:\n",
    "1. Navigate to __Machine Learning__ tab on [__Your Software subscriptions page__](https://aws.amazon.com/marketplace/ai/library?productType=ml&ref_=mlmp_gitdemo_indust)\n",
    "2. Locate the listing that you want to cancel the subscription for, and then choose __Cancel Subscription__  to cancel the subscription.\n",
    "\n"
   ]
  }
 ],
 "metadata": {
  "kernelspec": {
   "display_name": "conda_python3",
   "language": "python",
   "name": "conda_python3"
  },
  "language_info": {
   "codemirror_mode": {
    "name": "ipython",
    "version": 3
   },
   "file_extension": ".py",
   "mimetype": "text/x-python",
   "name": "python",
   "nbconvert_exporter": "python",
   "pygments_lexer": "ipython3",
   "version": "3.10.16"
  }
 },
 "nbformat": 4,
 "nbformat_minor": 5
}

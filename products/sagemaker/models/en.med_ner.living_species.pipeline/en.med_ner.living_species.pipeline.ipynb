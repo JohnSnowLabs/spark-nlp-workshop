{
 "cells": [
  {
   "cell_type": "markdown",
   "metadata": {},
   "source": [
    "## 1. Subscribe to the model package"
   ]
  },
  {
   "cell_type": "markdown",
   "metadata": {},
   "source": [
    "To subscribe to the model package:\n",
    "1. Open the model package listing page <font color='red'> For Seller to update:[Title_of_your_product](Provide link to your marketplace listing of your product).</font>\n",
    "1. On the AWS Marketplace listing, click on the **Continue to subscribe** button.\n",
    "1. On the **Subscribe to this software** page, review and click on **\"Accept Offer\"** if you and your organization agrees with EULA, pricing, and support terms. \n",
    "1. Once you click on **Continue to configuration button** and then choose a **region**, you will see a **Product Arn** displayed. This is the model package ARN that you need to specify while creating a deployable model using Boto3. Copy the ARN corresponding to your region and specify the same in the following cell."
   ]
  },
  {
   "cell_type": "markdown",
   "metadata": {},
   "source": [
    "## Pipeline to Detect Living Species\n",
    "\n",
    "\n",
    "- **Model**: `en.med_ner.living_species.pipeline`\n",
    "- **Model Description**: This pretrained pipeline is built on top of the `ner_living_species` model, which extracts living species from clinical texts. This extraction is critical to scientific disciplines such as medicine, biology, ecology/biodiversity, nutrition, and agriculture."
   ]
  },
  {
   "cell_type": "code",
   "execution_count": 1,
   "metadata": {
    "tags": []
   },
   "outputs": [],
   "source": [
    "model_package_arn = \"<Customer to specify Model package ARN corresponding to their AWS region>\""
   ]
  },
  {
   "cell_type": "code",
   "execution_count": 2,
   "metadata": {
    "tags": []
   },
   "outputs": [
    {
     "name": "stdout",
     "output_type": "stream",
     "text": [
      "sagemaker.config INFO - Not applying SDK defaults from location: /etc/xdg/sagemaker/config.yaml\n",
      "sagemaker.config INFO - Not applying SDK defaults from location: /home/ec2-user/.config/sagemaker/config.yaml\n"
     ]
    }
   ],
   "source": [
    "import base64\n",
    "import json\n",
    "import uuid\n",
    "from sagemaker import ModelPackage\n",
    "import sagemaker as sage\n",
    "from sagemaker import get_execution_role\n",
    "import boto3\n",
    "from IPython.display import Image, display\n",
    "from PIL import Image as ImageEdit\n",
    "import numpy as np"
   ]
  },
  {
   "cell_type": "code",
   "execution_count": 3,
   "metadata": {
    "tags": []
   },
   "outputs": [],
   "source": [
    "sagemaker_session = sage.Session()\n",
    "s3_bucket = sagemaker_session.default_bucket()\n",
    "region = sagemaker_session.boto_region_name\n",
    "account_id = boto3.client(\"sts\").get_caller_identity().get(\"Account\")\n",
    "role = get_execution_role()\n",
    "\n",
    "sagemaker = boto3.client(\"sagemaker\")\n",
    "s3_client = sagemaker_session.boto_session.client(\"s3\")\n",
    "ecr = boto3.client(\"ecr\")\n",
    "sm_runtime = boto3.client(\"sagemaker-runtime\")"
   ]
  },
  {
   "cell_type": "markdown",
   "metadata": {},
   "source": [
    "## 2. Create an endpoint and perform real-time inference"
   ]
  },
  {
   "cell_type": "markdown",
   "metadata": {},
   "source": [
    "If you want to understand how real-time inference with Amazon SageMaker works, see [Documentation](https://docs.aws.amazon.com/sagemaker/latest/dg/how-it-works-hosting.html)."
   ]
  },
  {
   "cell_type": "code",
   "execution_count": 4,
   "metadata": {
    "tags": []
   },
   "outputs": [],
   "source": [
    "model_name = \"en-med-ner-living-species-pipeline\"\n",
    "\n",
    "real_time_inference_instance_type = \"ml.m4.xlarge\"\n",
    "batch_transform_inference_instance_type = \"ml.m4.xlarge\"\n"
   ]
  },
  {
   "cell_type": "markdown",
   "metadata": {},
   "source": [
    "### A. Create an endpoint"
   ]
  },
  {
   "cell_type": "code",
   "execution_count": 5,
   "metadata": {
    "tags": []
   },
   "outputs": [
    {
     "name": "stdout",
     "output_type": "stream",
     "text": [
      "--------!"
     ]
    }
   ],
   "source": [
    "# create a deployable model from the model package.\n",
    "model = ModelPackage(\n",
    "    role=role, model_package_arn=model_package_arn, sagemaker_session=sagemaker_session\n",
    ")\n",
    "\n",
    "# Deploy the model\n",
    "predictor = model.deploy(1, real_time_inference_instance_type, endpoint_name=model_name)"
   ]
  },
  {
   "cell_type": "markdown",
   "metadata": {},
   "source": [
    "Once endpoint has been created, you would be able to perform real-time inference."
   ]
  },
  {
   "cell_type": "code",
   "execution_count": 6,
   "metadata": {
    "tags": []
   },
   "outputs": [],
   "source": [
    "import json\n",
    "import pandas as pd\n",
    "import os\n",
    "import boto3\n",
    "\n",
    "# Set display options\n",
    "pd.set_option('display.max_rows', None)\n",
    "pd.set_option('display.max_columns', None)\n",
    "pd.set_option('display.max_colwidth', None)\n",
    "\n",
    "def process_data_and_invoke_realtime_endpoint(data, content_type, accept):\n",
    "\n",
    "    content_type_to_format = {'application/json': 'json', 'application/jsonlines': 'jsonl'}\n",
    "    input_format = content_type_to_format.get(content_type)\n",
    "    if content_type not in content_type_to_format.keys() or accept not in content_type_to_format.keys():\n",
    "        raise ValueError(\"Invalid content_type or accept. It should be either 'application/json' or 'application/jsonlines'.\")\n",
    "\n",
    "    i = 1\n",
    "    input_dir = f'inputs/real-time/{input_format}'\n",
    "    output_dir = f'outputs/real-time/{input_format}'\n",
    "    s3_input_dir = f\"{model_name}/validation-input/real-time/{input_format}\"\n",
    "    s3_output_dir = f\"{model_name}/validation-output/real-time/{input_format}\"\n",
    "\n",
    "    input_file_name = f'{input_dir}/input{i}.{input_format}'\n",
    "    output_file_name = f'{output_dir}/{os.path.basename(input_file_name)}.out'\n",
    "\n",
    "    while os.path.exists(input_file_name) or os.path.exists(output_file_name):\n",
    "        i += 1\n",
    "        input_file_name = f'{input_dir}/input{i}.{input_format}'\n",
    "        output_file_name = f'{output_dir}/{os.path.basename(input_file_name)}.out'\n",
    "\n",
    "    os.makedirs(os.path.dirname(input_file_name), exist_ok=True)\n",
    "    os.makedirs(os.path.dirname(output_file_name), exist_ok=True)\n",
    "\n",
    "    input_data = json.dumps(data) if content_type == 'application/json' else data\n",
    "\n",
    "    # Write input data to file\n",
    "    with open(input_file_name, 'w') as f:\n",
    "        f.write(input_data)\n",
    "\n",
    "    # Upload input data to S3\n",
    "    s3_client.put_object(Bucket=s3_bucket, Key=f\"{s3_input_dir}/{os.path.basename(input_file_name)}\", Body=bytes(input_data.encode('UTF-8')))\n",
    "\n",
    "    # Invoke the SageMaker endpoint\n",
    "    response = sm_runtime.invoke_endpoint(\n",
    "        EndpointName=model_name,\n",
    "        ContentType=content_type,\n",
    "        Accept=accept,\n",
    "        Body=input_data,\n",
    "    )\n",
    "\n",
    "    # Read response data\n",
    "    response_data = json.loads(response[\"Body\"].read().decode(\"utf-8\")) if accept == 'application/json' else response['Body'].read().decode('utf-8')\n",
    "\n",
    "    # Save response data to file\n",
    "    with open(output_file_name, 'w') as f_out:\n",
    "        if accept == 'application/json':\n",
    "            json.dump(response_data, f_out, indent=4)\n",
    "        else:\n",
    "            for item in response_data.split('\\n'):\n",
    "                f_out.write(item + '\\n')\n",
    "\n",
    "    # Upload response data to S3\n",
    "    output_s3_key = f\"{s3_output_dir}/{os.path.basename(output_file_name)}\"\n",
    "    if accept == 'application/json':\n",
    "        s3_client.put_object(Bucket=s3_bucket, Key=output_s3_key, Body=json.dumps(response_data).encode('UTF-8'))\n",
    "    else:\n",
    "        s3_client.put_object(Bucket=s3_bucket, Key=output_s3_key, Body=response_data)\n",
    "\n",
    "    return response_data"
   ]
  },
  {
   "cell_type": "markdown",
   "metadata": {},
   "source": [
    "### Initial Setup"
   ]
  },
  {
   "cell_type": "code",
   "execution_count": 7,
   "metadata": {
    "tags": []
   },
   "outputs": [],
   "source": [
    "docs = [\n",
    "    \"\"\"42-year-old woman with end-stage chronic kidney disease, secondary to lupus nephropathy, and on peritoneal dialysis. History of four episodes of bacterial peritonitis and change of Tenckhoff catheter six months prior to admission due to catheter dysfunction. Three peritoneal fluid samples during her hospitalisation tested positive for Fusarium spp. The patient responded favourably and continued outpatient treatment with voriconazole (4mg/kg every 12 hours orally). All three isolates were identified as species of the Fusarium solani complex. In vitro susceptibility to itraconazole, voriconazole and posaconazole, according to Clinical and Laboratory Standards Institute - CLSI (M38-A) methodology, showed a minimum inhibitory concentration (MIC) in all three isolates and for all three antifungals of >16 μg/mL.\"\"\",\n",
    "\n",
    "    \"\"\"A nine-month-old boy consulted for severe perianal erythema. A first rectal smear was performed with a negative result of the rapid streptococcal antigen detection test after 24 hours, so treatment was started with clotrimazole. As the patient did not progress well, it was decided to repeat the rectal and pharyngotonsillar smear, finding a positive result for rapid detection of streptococcal antigen in the rectal sample and negative in the pharyngotonsillar sample. Culture of the rectal specimen was negative for fungi and showed growth of GABHS. Treatment with oral penicillin was started for 10 days, with resolution of the picture.\"\"\",\n",
    "\n",
    "]\n",
    "\n",
    "sample_text = \"Five-year-old boy presenting with perianal erythema accompanied by anal pain on defecation, afebrile. An anal and pharyngeal swab was taken and a rapid streptococcus test was performed, which was positive in the anal swab, with GABHS growing in the rectal culture. Treatment was started with oral penicillin. Twenty days later she returned because, despite initially improving, the erythema reappeared with less intensity, accompanied by constipation and fissures on examination. Topical mupirocin was prescribed with partial improvement of the symptoms after four days, and topical clotrimazole was added due to suspicion of fungal superinfection, with final resolution of the symptoms.\""
   ]
  },
  {
   "cell_type": "markdown",
   "metadata": {},
   "source": [
    "### JSON"
   ]
  },
  {
   "cell_type": "markdown",
   "metadata": {},
   "source": [
    "#### Example 1"
   ]
  },
  {
   "cell_type": "markdown",
   "metadata": {},
   "source": [
    "  **Input format**:\n",
    "  \n",
    "  \n",
    "```json\n",
    "{\n",
    "    \"text\": \"Single text document\"\n",
    "}\n",
    "```"
   ]
  },
  {
   "cell_type": "code",
   "execution_count": 8,
   "metadata": {
    "tags": []
   },
   "outputs": [
    {
     "data": {
      "text/html": [
       "<div>\n",
       "<style scoped>\n",
       "    .dataframe tbody tr th:only-of-type {\n",
       "        vertical-align: middle;\n",
       "    }\n",
       "\n",
       "    .dataframe tbody tr th {\n",
       "        vertical-align: top;\n",
       "    }\n",
       "\n",
       "    .dataframe thead th {\n",
       "        text-align: right;\n",
       "    }\n",
       "</style>\n",
       "<table border=\"1\" class=\"dataframe\">\n",
       "  <thead>\n",
       "    <tr style=\"text-align: right;\">\n",
       "      <th></th>\n",
       "      <th>document</th>\n",
       "      <th>ner_chunk</th>\n",
       "      <th>begin</th>\n",
       "      <th>end</th>\n",
       "      <th>ner_label</th>\n",
       "      <th>ner_confidence</th>\n",
       "    </tr>\n",
       "  </thead>\n",
       "  <tbody>\n",
       "    <tr>\n",
       "      <th>0</th>\n",
       "      <td>Five-year-old boy presenting with perianal erythema accompanied by anal pain on defecation, afebrile. An anal and pharyngeal swab was taken and a rapid streptococcus test was performed, which was positive in the anal swab, with GABHS growing in the rectal culture. Treatment was started with oral penicillin. Twenty days later she returned because, despite initially improving, the erythema reappeared with less intensity, accompanied by constipation and fissures on examination. Topical mupirocin was prescribed with partial improvement of the symptoms after four days, and topical clotrimazole was added due to suspicion of fungal superinfection, with final resolution of the symptoms.</td>\n",
       "      <td>boy</td>\n",
       "      <td>14</td>\n",
       "      <td>16</td>\n",
       "      <td>HUMAN</td>\n",
       "      <td>0.6578</td>\n",
       "    </tr>\n",
       "    <tr>\n",
       "      <th>1</th>\n",
       "      <td>Five-year-old boy presenting with perianal erythema accompanied by anal pain on defecation, afebrile. An anal and pharyngeal swab was taken and a rapid streptococcus test was performed, which was positive in the anal swab, with GABHS growing in the rectal culture. Treatment was started with oral penicillin. Twenty days later she returned because, despite initially improving, the erythema reappeared with less intensity, accompanied by constipation and fissures on examination. Topical mupirocin was prescribed with partial improvement of the symptoms after four days, and topical clotrimazole was added due to suspicion of fungal superinfection, with final resolution of the symptoms.</td>\n",
       "      <td>streptococcus</td>\n",
       "      <td>152</td>\n",
       "      <td>164</td>\n",
       "      <td>SPECIES</td>\n",
       "      <td>0.9774</td>\n",
       "    </tr>\n",
       "    <tr>\n",
       "      <th>2</th>\n",
       "      <td>Five-year-old boy presenting with perianal erythema accompanied by anal pain on defecation, afebrile. An anal and pharyngeal swab was taken and a rapid streptococcus test was performed, which was positive in the anal swab, with GABHS growing in the rectal culture. Treatment was started with oral penicillin. Twenty days later she returned because, despite initially improving, the erythema reappeared with less intensity, accompanied by constipation and fissures on examination. Topical mupirocin was prescribed with partial improvement of the symptoms after four days, and topical clotrimazole was added due to suspicion of fungal superinfection, with final resolution of the symptoms.</td>\n",
       "      <td>fungal</td>\n",
       "      <td>626</td>\n",
       "      <td>631</td>\n",
       "      <td>SPECIES</td>\n",
       "      <td>0.9917</td>\n",
       "    </tr>\n",
       "  </tbody>\n",
       "</table>\n",
       "</div>"
      ],
      "text/plain": [
       "                                                                                                                                                                                                                                                                                                                                                                                                                                                                                                                                                                                                                                                                                                          document  \\\n",
       "0  Five-year-old boy presenting with perianal erythema accompanied by anal pain on defecation, afebrile. An anal and pharyngeal swab was taken and a rapid streptococcus test was performed, which was positive in the anal swab, with GABHS growing in the rectal culture. Treatment was started with oral penicillin. Twenty days later she returned because, despite initially improving, the erythema reappeared with less intensity, accompanied by constipation and fissures on examination. Topical mupirocin was prescribed with partial improvement of the symptoms after four days, and topical clotrimazole was added due to suspicion of fungal superinfection, with final resolution of the symptoms.   \n",
       "1  Five-year-old boy presenting with perianal erythema accompanied by anal pain on defecation, afebrile. An anal and pharyngeal swab was taken and a rapid streptococcus test was performed, which was positive in the anal swab, with GABHS growing in the rectal culture. Treatment was started with oral penicillin. Twenty days later she returned because, despite initially improving, the erythema reappeared with less intensity, accompanied by constipation and fissures on examination. Topical mupirocin was prescribed with partial improvement of the symptoms after four days, and topical clotrimazole was added due to suspicion of fungal superinfection, with final resolution of the symptoms.   \n",
       "2  Five-year-old boy presenting with perianal erythema accompanied by anal pain on defecation, afebrile. An anal and pharyngeal swab was taken and a rapid streptococcus test was performed, which was positive in the anal swab, with GABHS growing in the rectal culture. Treatment was started with oral penicillin. Twenty days later she returned because, despite initially improving, the erythema reappeared with less intensity, accompanied by constipation and fissures on examination. Topical mupirocin was prescribed with partial improvement of the symptoms after four days, and topical clotrimazole was added due to suspicion of fungal superinfection, with final resolution of the symptoms.   \n",
       "\n",
       "       ner_chunk  begin  end ner_label ner_confidence  \n",
       "0            boy     14   16     HUMAN         0.6578  \n",
       "1  streptococcus    152  164   SPECIES         0.9774  \n",
       "2         fungal    626  631   SPECIES         0.9917  "
      ]
     },
     "execution_count": 8,
     "metadata": {},
     "output_type": "execute_result"
    }
   ],
   "source": [
    "input_json_data = {\"text\": sample_text}\n",
    "\n",
    "data =  process_data_and_invoke_realtime_endpoint(input_json_data, content_type=\"application/json\" , accept=\"application/json\" )\n",
    "pd.DataFrame(data[\"predictions\"])"
   ]
  },
  {
   "cell_type": "markdown",
   "metadata": {},
   "source": [
    "#### Example 2"
   ]
  },
  {
   "cell_type": "markdown",
   "metadata": {},
   "source": [
    "  **Input format**:\n",
    "  \n",
    "  \n",
    "```json\n",
    "{\n",
    "    \"text\": [\n",
    "        \"Text document 1\",\n",
    "        \"Text document 2\",\n",
    "        ...\n",
    "    ]\n",
    "}\n",
    "```"
   ]
  },
  {
   "cell_type": "code",
   "execution_count": 9,
   "metadata": {
    "tags": []
   },
   "outputs": [
    {
     "data": {
      "text/html": [
       "<div>\n",
       "<style scoped>\n",
       "    .dataframe tbody tr th:only-of-type {\n",
       "        vertical-align: middle;\n",
       "    }\n",
       "\n",
       "    .dataframe tbody tr th {\n",
       "        vertical-align: top;\n",
       "    }\n",
       "\n",
       "    .dataframe thead th {\n",
       "        text-align: right;\n",
       "    }\n",
       "</style>\n",
       "<table border=\"1\" class=\"dataframe\">\n",
       "  <thead>\n",
       "    <tr style=\"text-align: right;\">\n",
       "      <th></th>\n",
       "      <th>document</th>\n",
       "      <th>ner_chunk</th>\n",
       "      <th>begin</th>\n",
       "      <th>end</th>\n",
       "      <th>ner_label</th>\n",
       "      <th>ner_confidence</th>\n",
       "    </tr>\n",
       "  </thead>\n",
       "  <tbody>\n",
       "    <tr>\n",
       "      <th>0</th>\n",
       "      <td>42-year-old woman with end-stage chronic kidney disease, secondary to lupus nephropathy, and on peritoneal dialysis. History of four episodes of bacterial peritonitis and change of Tenckhoff catheter six months prior to admission due to catheter dysfunction. Three peritoneal fluid samples during her hospitalisation tested positive for Fusarium spp. The patient responded favourably and continued outpatient treatment with voriconazole (4mg/kg every 12 hours orally). All three isolates were identified as species of the Fusarium solani complex. In vitro susceptibility to itraconazole, voriconazole and posaconazole, according to Clinical and Laboratory Standards Institute - CLSI (M38-A) methodology, showed a minimum inhibitory concentration (MIC) in all three isolates and for all three antifungals of &gt;16 μg/mL.</td>\n",
       "      <td>woman</td>\n",
       "      <td>12</td>\n",
       "      <td>16</td>\n",
       "      <td>HUMAN</td>\n",
       "      <td>0.9993</td>\n",
       "    </tr>\n",
       "    <tr>\n",
       "      <th>1</th>\n",
       "      <td>42-year-old woman with end-stage chronic kidney disease, secondary to lupus nephropathy, and on peritoneal dialysis. History of four episodes of bacterial peritonitis and change of Tenckhoff catheter six months prior to admission due to catheter dysfunction. Three peritoneal fluid samples during her hospitalisation tested positive for Fusarium spp. The patient responded favourably and continued outpatient treatment with voriconazole (4mg/kg every 12 hours orally). All three isolates were identified as species of the Fusarium solani complex. In vitro susceptibility to itraconazole, voriconazole and posaconazole, according to Clinical and Laboratory Standards Institute - CLSI (M38-A) methodology, showed a minimum inhibitory concentration (MIC) in all three isolates and for all three antifungals of &gt;16 μg/mL.</td>\n",
       "      <td>bacterial</td>\n",
       "      <td>145</td>\n",
       "      <td>153</td>\n",
       "      <td>SPECIES</td>\n",
       "      <td>0.9815</td>\n",
       "    </tr>\n",
       "    <tr>\n",
       "      <th>2</th>\n",
       "      <td>42-year-old woman with end-stage chronic kidney disease, secondary to lupus nephropathy, and on peritoneal dialysis. History of four episodes of bacterial peritonitis and change of Tenckhoff catheter six months prior to admission due to catheter dysfunction. Three peritoneal fluid samples during her hospitalisation tested positive for Fusarium spp. The patient responded favourably and continued outpatient treatment with voriconazole (4mg/kg every 12 hours orally). All three isolates were identified as species of the Fusarium solani complex. In vitro susceptibility to itraconazole, voriconazole and posaconazole, according to Clinical and Laboratory Standards Institute - CLSI (M38-A) methodology, showed a minimum inhibitory concentration (MIC) in all three isolates and for all three antifungals of &gt;16 μg/mL.</td>\n",
       "      <td>Fusarium spp</td>\n",
       "      <td>337</td>\n",
       "      <td>348</td>\n",
       "      <td>SPECIES</td>\n",
       "      <td>0.96440005</td>\n",
       "    </tr>\n",
       "    <tr>\n",
       "      <th>3</th>\n",
       "      <td>42-year-old woman with end-stage chronic kidney disease, secondary to lupus nephropathy, and on peritoneal dialysis. History of four episodes of bacterial peritonitis and change of Tenckhoff catheter six months prior to admission due to catheter dysfunction. Three peritoneal fluid samples during her hospitalisation tested positive for Fusarium spp. The patient responded favourably and continued outpatient treatment with voriconazole (4mg/kg every 12 hours orally). All three isolates were identified as species of the Fusarium solani complex. In vitro susceptibility to itraconazole, voriconazole and posaconazole, according to Clinical and Laboratory Standards Institute - CLSI (M38-A) methodology, showed a minimum inhibitory concentration (MIC) in all three isolates and for all three antifungals of &gt;16 μg/mL.</td>\n",
       "      <td>patient</td>\n",
       "      <td>355</td>\n",
       "      <td>361</td>\n",
       "      <td>HUMAN</td>\n",
       "      <td>0.9984</td>\n",
       "    </tr>\n",
       "    <tr>\n",
       "      <th>4</th>\n",
       "      <td>42-year-old woman with end-stage chronic kidney disease, secondary to lupus nephropathy, and on peritoneal dialysis. History of four episodes of bacterial peritonitis and change of Tenckhoff catheter six months prior to admission due to catheter dysfunction. Three peritoneal fluid samples during her hospitalisation tested positive for Fusarium spp. The patient responded favourably and continued outpatient treatment with voriconazole (4mg/kg every 12 hours orally). All three isolates were identified as species of the Fusarium solani complex. In vitro susceptibility to itraconazole, voriconazole and posaconazole, according to Clinical and Laboratory Standards Institute - CLSI (M38-A) methodology, showed a minimum inhibitory concentration (MIC) in all three isolates and for all three antifungals of &gt;16 μg/mL.</td>\n",
       "      <td>species</td>\n",
       "      <td>507</td>\n",
       "      <td>513</td>\n",
       "      <td>SPECIES</td>\n",
       "      <td>0.8838</td>\n",
       "    </tr>\n",
       "    <tr>\n",
       "      <th>5</th>\n",
       "      <td>42-year-old woman with end-stage chronic kidney disease, secondary to lupus nephropathy, and on peritoneal dialysis. History of four episodes of bacterial peritonitis and change of Tenckhoff catheter six months prior to admission due to catheter dysfunction. Three peritoneal fluid samples during her hospitalisation tested positive for Fusarium spp. The patient responded favourably and continued outpatient treatment with voriconazole (4mg/kg every 12 hours orally). All three isolates were identified as species of the Fusarium solani complex. In vitro susceptibility to itraconazole, voriconazole and posaconazole, according to Clinical and Laboratory Standards Institute - CLSI (M38-A) methodology, showed a minimum inhibitory concentration (MIC) in all three isolates and for all three antifungals of &gt;16 μg/mL.</td>\n",
       "      <td>Fusarium solani complex</td>\n",
       "      <td>522</td>\n",
       "      <td>544</td>\n",
       "      <td>SPECIES</td>\n",
       "      <td>0.7486666</td>\n",
       "    </tr>\n",
       "    <tr>\n",
       "      <th>6</th>\n",
       "      <td>42-year-old woman with end-stage chronic kidney disease, secondary to lupus nephropathy, and on peritoneal dialysis. History of four episodes of bacterial peritonitis and change of Tenckhoff catheter six months prior to admission due to catheter dysfunction. Three peritoneal fluid samples during her hospitalisation tested positive for Fusarium spp. The patient responded favourably and continued outpatient treatment with voriconazole (4mg/kg every 12 hours orally). All three isolates were identified as species of the Fusarium solani complex. In vitro susceptibility to itraconazole, voriconazole and posaconazole, according to Clinical and Laboratory Standards Institute - CLSI (M38-A) methodology, showed a minimum inhibitory concentration (MIC) in all three isolates and for all three antifungals of &gt;16 μg/mL.</td>\n",
       "      <td>antifungals</td>\n",
       "      <td>792</td>\n",
       "      <td>802</td>\n",
       "      <td>SPECIES</td>\n",
       "      <td>0.9847</td>\n",
       "    </tr>\n",
       "    <tr>\n",
       "      <th>7</th>\n",
       "      <td>A nine-month-old boy consulted for severe perianal erythema. A first rectal smear was performed with a negative result of the rapid streptococcal antigen detection test after 24 hours, so treatment was started with clotrimazole. As the patient did not progress well, it was decided to repeat the rectal and pharyngotonsillar smear, finding a positive result for rapid detection of streptococcal antigen in the rectal sample and negative in the pharyngotonsillar sample. Culture of the rectal specimen was negative for fungi and showed growth of GABHS. Treatment with oral penicillin was started for 10 days, with resolution of the picture.</td>\n",
       "      <td>streptococcal</td>\n",
       "      <td>132</td>\n",
       "      <td>144</td>\n",
       "      <td>SPECIES</td>\n",
       "      <td>0.9772</td>\n",
       "    </tr>\n",
       "    <tr>\n",
       "      <th>8</th>\n",
       "      <td>A nine-month-old boy consulted for severe perianal erythema. A first rectal smear was performed with a negative result of the rapid streptococcal antigen detection test after 24 hours, so treatment was started with clotrimazole. As the patient did not progress well, it was decided to repeat the rectal and pharyngotonsillar smear, finding a positive result for rapid detection of streptococcal antigen in the rectal sample and negative in the pharyngotonsillar sample. Culture of the rectal specimen was negative for fungi and showed growth of GABHS. Treatment with oral penicillin was started for 10 days, with resolution of the picture.</td>\n",
       "      <td>patient</td>\n",
       "      <td>236</td>\n",
       "      <td>242</td>\n",
       "      <td>HUMAN</td>\n",
       "      <td>0.962</td>\n",
       "    </tr>\n",
       "    <tr>\n",
       "      <th>9</th>\n",
       "      <td>A nine-month-old boy consulted for severe perianal erythema. A first rectal smear was performed with a negative result of the rapid streptococcal antigen detection test after 24 hours, so treatment was started with clotrimazole. As the patient did not progress well, it was decided to repeat the rectal and pharyngotonsillar smear, finding a positive result for rapid detection of streptococcal antigen in the rectal sample and negative in the pharyngotonsillar sample. Culture of the rectal specimen was negative for fungi and showed growth of GABHS. Treatment with oral penicillin was started for 10 days, with resolution of the picture.</td>\n",
       "      <td>streptococcal</td>\n",
       "      <td>381</td>\n",
       "      <td>393</td>\n",
       "      <td>SPECIES</td>\n",
       "      <td>0.9628</td>\n",
       "    </tr>\n",
       "    <tr>\n",
       "      <th>10</th>\n",
       "      <td>A nine-month-old boy consulted for severe perianal erythema. A first rectal smear was performed with a negative result of the rapid streptococcal antigen detection test after 24 hours, so treatment was started with clotrimazole. As the patient did not progress well, it was decided to repeat the rectal and pharyngotonsillar smear, finding a positive result for rapid detection of streptococcal antigen in the rectal sample and negative in the pharyngotonsillar sample. Culture of the rectal specimen was negative for fungi and showed growth of GABHS. Treatment with oral penicillin was started for 10 days, with resolution of the picture.</td>\n",
       "      <td>fungi</td>\n",
       "      <td>518</td>\n",
       "      <td>522</td>\n",
       "      <td>SPECIES</td>\n",
       "      <td>0.9359</td>\n",
       "    </tr>\n",
       "  </tbody>\n",
       "</table>\n",
       "</div>"
      ],
      "text/plain": [
       "                                                                                                                                                                                                                                                                                                                                                                                                                                                                                                                                                                                                                                                                                                                                                                                                                                             document  \\\n",
       "0   42-year-old woman with end-stage chronic kidney disease, secondary to lupus nephropathy, and on peritoneal dialysis. History of four episodes of bacterial peritonitis and change of Tenckhoff catheter six months prior to admission due to catheter dysfunction. Three peritoneal fluid samples during her hospitalisation tested positive for Fusarium spp. The patient responded favourably and continued outpatient treatment with voriconazole (4mg/kg every 12 hours orally). All three isolates were identified as species of the Fusarium solani complex. In vitro susceptibility to itraconazole, voriconazole and posaconazole, according to Clinical and Laboratory Standards Institute - CLSI (M38-A) methodology, showed a minimum inhibitory concentration (MIC) in all three isolates and for all three antifungals of >16 μg/mL.   \n",
       "1   42-year-old woman with end-stage chronic kidney disease, secondary to lupus nephropathy, and on peritoneal dialysis. History of four episodes of bacterial peritonitis and change of Tenckhoff catheter six months prior to admission due to catheter dysfunction. Three peritoneal fluid samples during her hospitalisation tested positive for Fusarium spp. The patient responded favourably and continued outpatient treatment with voriconazole (4mg/kg every 12 hours orally). All three isolates were identified as species of the Fusarium solani complex. In vitro susceptibility to itraconazole, voriconazole and posaconazole, according to Clinical and Laboratory Standards Institute - CLSI (M38-A) methodology, showed a minimum inhibitory concentration (MIC) in all three isolates and for all three antifungals of >16 μg/mL.   \n",
       "2   42-year-old woman with end-stage chronic kidney disease, secondary to lupus nephropathy, and on peritoneal dialysis. History of four episodes of bacterial peritonitis and change of Tenckhoff catheter six months prior to admission due to catheter dysfunction. Three peritoneal fluid samples during her hospitalisation tested positive for Fusarium spp. The patient responded favourably and continued outpatient treatment with voriconazole (4mg/kg every 12 hours orally). All three isolates were identified as species of the Fusarium solani complex. In vitro susceptibility to itraconazole, voriconazole and posaconazole, according to Clinical and Laboratory Standards Institute - CLSI (M38-A) methodology, showed a minimum inhibitory concentration (MIC) in all three isolates and for all three antifungals of >16 μg/mL.   \n",
       "3   42-year-old woman with end-stage chronic kidney disease, secondary to lupus nephropathy, and on peritoneal dialysis. History of four episodes of bacterial peritonitis and change of Tenckhoff catheter six months prior to admission due to catheter dysfunction. Three peritoneal fluid samples during her hospitalisation tested positive for Fusarium spp. The patient responded favourably and continued outpatient treatment with voriconazole (4mg/kg every 12 hours orally). All three isolates were identified as species of the Fusarium solani complex. In vitro susceptibility to itraconazole, voriconazole and posaconazole, according to Clinical and Laboratory Standards Institute - CLSI (M38-A) methodology, showed a minimum inhibitory concentration (MIC) in all three isolates and for all three antifungals of >16 μg/mL.   \n",
       "4   42-year-old woman with end-stage chronic kidney disease, secondary to lupus nephropathy, and on peritoneal dialysis. History of four episodes of bacterial peritonitis and change of Tenckhoff catheter six months prior to admission due to catheter dysfunction. Three peritoneal fluid samples during her hospitalisation tested positive for Fusarium spp. The patient responded favourably and continued outpatient treatment with voriconazole (4mg/kg every 12 hours orally). All three isolates were identified as species of the Fusarium solani complex. In vitro susceptibility to itraconazole, voriconazole and posaconazole, according to Clinical and Laboratory Standards Institute - CLSI (M38-A) methodology, showed a minimum inhibitory concentration (MIC) in all three isolates and for all three antifungals of >16 μg/mL.   \n",
       "5   42-year-old woman with end-stage chronic kidney disease, secondary to lupus nephropathy, and on peritoneal dialysis. History of four episodes of bacterial peritonitis and change of Tenckhoff catheter six months prior to admission due to catheter dysfunction. Three peritoneal fluid samples during her hospitalisation tested positive for Fusarium spp. The patient responded favourably and continued outpatient treatment with voriconazole (4mg/kg every 12 hours orally). All three isolates were identified as species of the Fusarium solani complex. In vitro susceptibility to itraconazole, voriconazole and posaconazole, according to Clinical and Laboratory Standards Institute - CLSI (M38-A) methodology, showed a minimum inhibitory concentration (MIC) in all three isolates and for all three antifungals of >16 μg/mL.   \n",
       "6   42-year-old woman with end-stage chronic kidney disease, secondary to lupus nephropathy, and on peritoneal dialysis. History of four episodes of bacterial peritonitis and change of Tenckhoff catheter six months prior to admission due to catheter dysfunction. Three peritoneal fluid samples during her hospitalisation tested positive for Fusarium spp. The patient responded favourably and continued outpatient treatment with voriconazole (4mg/kg every 12 hours orally). All three isolates were identified as species of the Fusarium solani complex. In vitro susceptibility to itraconazole, voriconazole and posaconazole, according to Clinical and Laboratory Standards Institute - CLSI (M38-A) methodology, showed a minimum inhibitory concentration (MIC) in all three isolates and for all three antifungals of >16 μg/mL.   \n",
       "7                                                                                                                                                                                     A nine-month-old boy consulted for severe perianal erythema. A first rectal smear was performed with a negative result of the rapid streptococcal antigen detection test after 24 hours, so treatment was started with clotrimazole. As the patient did not progress well, it was decided to repeat the rectal and pharyngotonsillar smear, finding a positive result for rapid detection of streptococcal antigen in the rectal sample and negative in the pharyngotonsillar sample. Culture of the rectal specimen was negative for fungi and showed growth of GABHS. Treatment with oral penicillin was started for 10 days, with resolution of the picture.   \n",
       "8                                                                                                                                                                                     A nine-month-old boy consulted for severe perianal erythema. A first rectal smear was performed with a negative result of the rapid streptococcal antigen detection test after 24 hours, so treatment was started with clotrimazole. As the patient did not progress well, it was decided to repeat the rectal and pharyngotonsillar smear, finding a positive result for rapid detection of streptococcal antigen in the rectal sample and negative in the pharyngotonsillar sample. Culture of the rectal specimen was negative for fungi and showed growth of GABHS. Treatment with oral penicillin was started for 10 days, with resolution of the picture.   \n",
       "9                                                                                                                                                                                     A nine-month-old boy consulted for severe perianal erythema. A first rectal smear was performed with a negative result of the rapid streptococcal antigen detection test after 24 hours, so treatment was started with clotrimazole. As the patient did not progress well, it was decided to repeat the rectal and pharyngotonsillar smear, finding a positive result for rapid detection of streptococcal antigen in the rectal sample and negative in the pharyngotonsillar sample. Culture of the rectal specimen was negative for fungi and showed growth of GABHS. Treatment with oral penicillin was started for 10 days, with resolution of the picture.   \n",
       "10                                                                                                                                                                                    A nine-month-old boy consulted for severe perianal erythema. A first rectal smear was performed with a negative result of the rapid streptococcal antigen detection test after 24 hours, so treatment was started with clotrimazole. As the patient did not progress well, it was decided to repeat the rectal and pharyngotonsillar smear, finding a positive result for rapid detection of streptococcal antigen in the rectal sample and negative in the pharyngotonsillar sample. Culture of the rectal specimen was negative for fungi and showed growth of GABHS. Treatment with oral penicillin was started for 10 days, with resolution of the picture.   \n",
       "\n",
       "                  ner_chunk  begin  end ner_label ner_confidence  \n",
       "0                     woman     12   16     HUMAN         0.9993  \n",
       "1                 bacterial    145  153   SPECIES         0.9815  \n",
       "2              Fusarium spp    337  348   SPECIES     0.96440005  \n",
       "3                   patient    355  361     HUMAN         0.9984  \n",
       "4                   species    507  513   SPECIES         0.8838  \n",
       "5   Fusarium solani complex    522  544   SPECIES      0.7486666  \n",
       "6               antifungals    792  802   SPECIES         0.9847  \n",
       "7             streptococcal    132  144   SPECIES         0.9772  \n",
       "8                   patient    236  242     HUMAN          0.962  \n",
       "9             streptococcal    381  393   SPECIES         0.9628  \n",
       "10                    fungi    518  522   SPECIES         0.9359  "
      ]
     },
     "execution_count": 9,
     "metadata": {},
     "output_type": "execute_result"
    }
   ],
   "source": [
    "input_json_data = {\"text\": docs}\n",
    "\n",
    "data =  process_data_and_invoke_realtime_endpoint(input_json_data, content_type=\"application/json\" , accept=\"application/json\" )\n",
    "pd.DataFrame(data[\"predictions\"])"
   ]
  },
  {
   "cell_type": "markdown",
   "metadata": {},
   "source": [
    "### JSON Lines"
   ]
  },
  {
   "cell_type": "markdown",
   "metadata": {},
   "source": [
    "  **Input format**:\n",
    "  \n",
    "```json\n",
    "{\"text\": \"Text document 1\"}\n",
    "{\"text\": \"Text document 2\"}\n",
    "```"
   ]
  },
  {
   "cell_type": "code",
   "execution_count": 10,
   "metadata": {
    "tags": []
   },
   "outputs": [],
   "source": [
    "import json\n",
    "\n",
    "def create_jsonl(records):\n",
    "    json_records = []\n",
    "\n",
    "    for text in records:\n",
    "        record = {\n",
    "            \"text\": text\n",
    "        }\n",
    "        json_records.append(record)\n",
    "\n",
    "    json_lines = '\\n'.join(json.dumps(record) for record in json_records)\n",
    "\n",
    "    return json_lines\n",
    "\n",
    "input_jsonl_data = create_jsonl(docs)"
   ]
  },
  {
   "cell_type": "markdown",
   "metadata": {},
   "source": [
    "#### Example 1"
   ]
  },
  {
   "cell_type": "code",
   "execution_count": 11,
   "metadata": {
    "tags": []
   },
   "outputs": [
    {
     "name": "stdout",
     "output_type": "stream",
     "text": [
      "{\"predictions\": [{\"ner_chunk\": \"woman\", \"begin\": 12, \"end\": 16, \"ner_label\": \"HUMAN\", \"ner_confidence\": \"0.9993\"}, {\"ner_chunk\": \"bacterial\", \"begin\": 145, \"end\": 153, \"ner_label\": \"SPECIES\", \"ner_confidence\": \"0.9815\"}, {\"ner_chunk\": \"Fusarium spp\", \"begin\": 337, \"end\": 348, \"ner_label\": \"SPECIES\", \"ner_confidence\": \"0.96440005\"}, {\"ner_chunk\": \"patient\", \"begin\": 355, \"end\": 361, \"ner_label\": \"HUMAN\", \"ner_confidence\": \"0.9984\"}, {\"ner_chunk\": \"species\", \"begin\": 507, \"end\": 513, \"ner_label\": \"SPECIES\", \"ner_confidence\": \"0.8838\"}, {\"ner_chunk\": \"Fusarium solani complex\", \"begin\": 522, \"end\": 544, \"ner_label\": \"SPECIES\", \"ner_confidence\": \"0.7486666\"}, {\"ner_chunk\": \"antifungals\", \"begin\": 792, \"end\": 802, \"ner_label\": \"SPECIES\", \"ner_confidence\": \"0.9847\"}]}\n",
      "{\"predictions\": [{\"ner_chunk\": \"streptococcal\", \"begin\": 132, \"end\": 144, \"ner_label\": \"SPECIES\", \"ner_confidence\": \"0.9772\"}, {\"ner_chunk\": \"patient\", \"begin\": 236, \"end\": 242, \"ner_label\": \"HUMAN\", \"ner_confidence\": \"0.962\"}, {\"ner_chunk\": \"streptococcal\", \"begin\": 381, \"end\": 393, \"ner_label\": \"SPECIES\", \"ner_confidence\": \"0.9628\"}, {\"ner_chunk\": \"fungi\", \"begin\": 518, \"end\": 522, \"ner_label\": \"SPECIES\", \"ner_confidence\": \"0.9359\"}]}\n"
     ]
    }
   ],
   "source": [
    "data = process_data_and_invoke_realtime_endpoint(input_jsonl_data, content_type=\"application/jsonlines\" , accept=\"application/jsonlines\" )\n",
    "print(data)"
   ]
  },
  {
   "cell_type": "markdown",
   "metadata": {},
   "source": [
    "### C. Delete the endpoint"
   ]
  },
  {
   "cell_type": "markdown",
   "metadata": {},
   "source": [
    "Now that you have successfully performed a real-time inference, you do not need the endpoint any more. You can terminate the endpoint to avoid being charged."
   ]
  },
  {
   "cell_type": "code",
   "execution_count": 12,
   "metadata": {
    "tags": []
   },
   "outputs": [],
   "source": [
    "model.sagemaker_session.delete_endpoint(model_name)\n",
    "model.sagemaker_session.delete_endpoint_config(model_name)"
   ]
  },
  {
   "cell_type": "markdown",
   "metadata": {
    "tags": []
   },
   "source": [
    "## 3. Batch inference"
   ]
  },
  {
   "cell_type": "code",
   "execution_count": 13,
   "metadata": {
    "tags": []
   },
   "outputs": [],
   "source": [
    "import json\n",
    "import os\n",
    "\n",
    "input_dir = 'inputs/batch'\n",
    "json_input_dir = f\"{input_dir}/json\"\n",
    "jsonl_input_dir = f\"{input_dir}/jsonl\"\n",
    "\n",
    "output_dir = 'outputs/batch'\n",
    "json_output_dir = f\"{output_dir}/json\"\n",
    "jsonl_output_dir = f\"{output_dir}/jsonl\"\n",
    "\n",
    "os.makedirs(json_input_dir, exist_ok=True)\n",
    "os.makedirs(jsonl_input_dir, exist_ok=True)\n",
    "os.makedirs(json_output_dir, exist_ok=True)\n",
    "os.makedirs(jsonl_output_dir, exist_ok=True)\n",
    "\n",
    "validation_json_file_name = \"input.json\"\n",
    "\n",
    "validation_jsonl_file_name = \"input.jsonl\"\n",
    "\n",
    "validation_input_json_path = f\"s3://{s3_bucket}/{model_name}/validation-input/batch/json/\"\n",
    "validation_output_json_path = f\"s3://{s3_bucket}/{model_name}/validation-output/batch/json/\"\n",
    "\n",
    "validation_input_jsonl_path = f\"s3://{s3_bucket}/{model_name}/validation-input/batch/jsonl/\"\n",
    "validation_output_jsonl_path = f\"s3://{s3_bucket}/{model_name}/validation-output/batch/jsonl/\"\n",
    "\n",
    "def write_and_upload_to_s3(input_data, file_name):\n",
    "    file_format = os.path.splitext(file_name)[1].lower()\n",
    "    if file_format == \".json\":\n",
    "        input_data = json.dumps(input_data)\n",
    "\n",
    "    with open(file_name, \"w\") as f:\n",
    "        f.write(input_data)\n",
    "\n",
    "    s3_client.put_object(\n",
    "        Bucket=s3_bucket,\n",
    "        Key=f\"{model_name}/validation-input/batch/{file_format[1:]}/{os.path.basename(file_name)}\",\n",
    "        Body=(bytes(input_data.encode(\"UTF-8\"))),\n",
    "    )"
   ]
  },
  {
   "cell_type": "code",
   "execution_count": 14,
   "metadata": {
    "tags": []
   },
   "outputs": [],
   "source": [
    "input_jsonl_data = create_jsonl(docs)\n",
    "input_json_data = {\"text\": docs}\n",
    "\n",
    "write_and_upload_to_s3(input_json_data, f\"{json_input_dir}/{validation_json_file_name}\")\n",
    "\n",
    "write_and_upload_to_s3(input_jsonl_data, f\"{jsonl_input_dir}/{validation_jsonl_file_name}\")"
   ]
  },
  {
   "cell_type": "markdown",
   "metadata": {},
   "source": [
    "### JSON"
   ]
  },
  {
   "cell_type": "code",
   "execution_count": null,
   "metadata": {
    "tags": []
   },
   "outputs": [],
   "source": [
    "# Initialize a SageMaker Transformer object for making predictions\n",
    "transformer = model.transformer(\n",
    "    instance_count=1,\n",
    "    instance_type=batch_transform_inference_instance_type,\n",
    "    accept=\"application/json\",\n",
    "    output_path=validation_output_json_path\n",
    ")\n",
    "\n",
    "transformer.transform(validation_input_json_path, content_type=\"application/json\")\n",
    "transformer.wait()"
   ]
  },
  {
   "cell_type": "code",
   "execution_count": 16,
   "metadata": {
    "tags": []
   },
   "outputs": [],
   "source": [
    "from urllib.parse import urlparse\n",
    "\n",
    "def process_s3_json_output_and_save(validation_file_name):\n",
    "\n",
    "    output_file_path = f\"{json_output_dir}/{validation_file_name}.out\"\n",
    "    parsed_url = urlparse(transformer.output_path)\n",
    "    file_key = f\"{parsed_url.path[1:]}{validation_file_name}.out\"\n",
    "    response = s3_client.get_object(Bucket=s3_bucket, Key=file_key)\n",
    "\n",
    "    data = json.loads(response[\"Body\"].read().decode(\"utf-8\"))\n",
    "    df = pd.DataFrame(data[\"predictions\"])\n",
    "    display(df)\n",
    "\n",
    "    # Save the data to the output file\n",
    "    with open(output_file_path, 'w') as f_out:\n",
    "        json.dump(data, f_out, indent=4)"
   ]
  },
  {
   "cell_type": "code",
   "execution_count": 17,
   "metadata": {
    "tags": []
   },
   "outputs": [
    {
     "data": {
      "text/html": [
       "<div>\n",
       "<style scoped>\n",
       "    .dataframe tbody tr th:only-of-type {\n",
       "        vertical-align: middle;\n",
       "    }\n",
       "\n",
       "    .dataframe tbody tr th {\n",
       "        vertical-align: top;\n",
       "    }\n",
       "\n",
       "    .dataframe thead th {\n",
       "        text-align: right;\n",
       "    }\n",
       "</style>\n",
       "<table border=\"1\" class=\"dataframe\">\n",
       "  <thead>\n",
       "    <tr style=\"text-align: right;\">\n",
       "      <th></th>\n",
       "      <th>document</th>\n",
       "      <th>ner_chunk</th>\n",
       "      <th>begin</th>\n",
       "      <th>end</th>\n",
       "      <th>ner_label</th>\n",
       "      <th>ner_confidence</th>\n",
       "    </tr>\n",
       "  </thead>\n",
       "  <tbody>\n",
       "    <tr>\n",
       "      <th>0</th>\n",
       "      <td>42-year-old woman with end-stage chronic kidney disease, secondary to lupus nephropathy, and on peritoneal dialysis. History of four episodes of bacterial peritonitis and change of Tenckhoff catheter six months prior to admission due to catheter dysfunction. Three peritoneal fluid samples during her hospitalisation tested positive for Fusarium spp. The patient responded favourably and continued outpatient treatment with voriconazole (4mg/kg every 12 hours orally). All three isolates were identified as species of the Fusarium solani complex. In vitro susceptibility to itraconazole, voriconazole and posaconazole, according to Clinical and Laboratory Standards Institute - CLSI (M38-A) methodology, showed a minimum inhibitory concentration (MIC) in all three isolates and for all three antifungals of &gt;16 μg/mL.</td>\n",
       "      <td>woman</td>\n",
       "      <td>12</td>\n",
       "      <td>16</td>\n",
       "      <td>HUMAN</td>\n",
       "      <td>0.9993</td>\n",
       "    </tr>\n",
       "    <tr>\n",
       "      <th>1</th>\n",
       "      <td>42-year-old woman with end-stage chronic kidney disease, secondary to lupus nephropathy, and on peritoneal dialysis. History of four episodes of bacterial peritonitis and change of Tenckhoff catheter six months prior to admission due to catheter dysfunction. Three peritoneal fluid samples during her hospitalisation tested positive for Fusarium spp. The patient responded favourably and continued outpatient treatment with voriconazole (4mg/kg every 12 hours orally). All three isolates were identified as species of the Fusarium solani complex. In vitro susceptibility to itraconazole, voriconazole and posaconazole, according to Clinical and Laboratory Standards Institute - CLSI (M38-A) methodology, showed a minimum inhibitory concentration (MIC) in all three isolates and for all three antifungals of &gt;16 μg/mL.</td>\n",
       "      <td>bacterial</td>\n",
       "      <td>145</td>\n",
       "      <td>153</td>\n",
       "      <td>SPECIES</td>\n",
       "      <td>0.9815</td>\n",
       "    </tr>\n",
       "    <tr>\n",
       "      <th>2</th>\n",
       "      <td>42-year-old woman with end-stage chronic kidney disease, secondary to lupus nephropathy, and on peritoneal dialysis. History of four episodes of bacterial peritonitis and change of Tenckhoff catheter six months prior to admission due to catheter dysfunction. Three peritoneal fluid samples during her hospitalisation tested positive for Fusarium spp. The patient responded favourably and continued outpatient treatment with voriconazole (4mg/kg every 12 hours orally). All three isolates were identified as species of the Fusarium solani complex. In vitro susceptibility to itraconazole, voriconazole and posaconazole, according to Clinical and Laboratory Standards Institute - CLSI (M38-A) methodology, showed a minimum inhibitory concentration (MIC) in all three isolates and for all three antifungals of &gt;16 μg/mL.</td>\n",
       "      <td>Fusarium spp</td>\n",
       "      <td>337</td>\n",
       "      <td>348</td>\n",
       "      <td>SPECIES</td>\n",
       "      <td>0.96440005</td>\n",
       "    </tr>\n",
       "    <tr>\n",
       "      <th>3</th>\n",
       "      <td>42-year-old woman with end-stage chronic kidney disease, secondary to lupus nephropathy, and on peritoneal dialysis. History of four episodes of bacterial peritonitis and change of Tenckhoff catheter six months prior to admission due to catheter dysfunction. Three peritoneal fluid samples during her hospitalisation tested positive for Fusarium spp. The patient responded favourably and continued outpatient treatment with voriconazole (4mg/kg every 12 hours orally). All three isolates were identified as species of the Fusarium solani complex. In vitro susceptibility to itraconazole, voriconazole and posaconazole, according to Clinical and Laboratory Standards Institute - CLSI (M38-A) methodology, showed a minimum inhibitory concentration (MIC) in all three isolates and for all three antifungals of &gt;16 μg/mL.</td>\n",
       "      <td>patient</td>\n",
       "      <td>355</td>\n",
       "      <td>361</td>\n",
       "      <td>HUMAN</td>\n",
       "      <td>0.9984</td>\n",
       "    </tr>\n",
       "    <tr>\n",
       "      <th>4</th>\n",
       "      <td>42-year-old woman with end-stage chronic kidney disease, secondary to lupus nephropathy, and on peritoneal dialysis. History of four episodes of bacterial peritonitis and change of Tenckhoff catheter six months prior to admission due to catheter dysfunction. Three peritoneal fluid samples during her hospitalisation tested positive for Fusarium spp. The patient responded favourably and continued outpatient treatment with voriconazole (4mg/kg every 12 hours orally). All three isolates were identified as species of the Fusarium solani complex. In vitro susceptibility to itraconazole, voriconazole and posaconazole, according to Clinical and Laboratory Standards Institute - CLSI (M38-A) methodology, showed a minimum inhibitory concentration (MIC) in all three isolates and for all three antifungals of &gt;16 μg/mL.</td>\n",
       "      <td>species</td>\n",
       "      <td>507</td>\n",
       "      <td>513</td>\n",
       "      <td>SPECIES</td>\n",
       "      <td>0.8838</td>\n",
       "    </tr>\n",
       "    <tr>\n",
       "      <th>5</th>\n",
       "      <td>42-year-old woman with end-stage chronic kidney disease, secondary to lupus nephropathy, and on peritoneal dialysis. History of four episodes of bacterial peritonitis and change of Tenckhoff catheter six months prior to admission due to catheter dysfunction. Three peritoneal fluid samples during her hospitalisation tested positive for Fusarium spp. The patient responded favourably and continued outpatient treatment with voriconazole (4mg/kg every 12 hours orally). All three isolates were identified as species of the Fusarium solani complex. In vitro susceptibility to itraconazole, voriconazole and posaconazole, according to Clinical and Laboratory Standards Institute - CLSI (M38-A) methodology, showed a minimum inhibitory concentration (MIC) in all three isolates and for all three antifungals of &gt;16 μg/mL.</td>\n",
       "      <td>Fusarium solani complex</td>\n",
       "      <td>522</td>\n",
       "      <td>544</td>\n",
       "      <td>SPECIES</td>\n",
       "      <td>0.7486666</td>\n",
       "    </tr>\n",
       "    <tr>\n",
       "      <th>6</th>\n",
       "      <td>42-year-old woman with end-stage chronic kidney disease, secondary to lupus nephropathy, and on peritoneal dialysis. History of four episodes of bacterial peritonitis and change of Tenckhoff catheter six months prior to admission due to catheter dysfunction. Three peritoneal fluid samples during her hospitalisation tested positive for Fusarium spp. The patient responded favourably and continued outpatient treatment with voriconazole (4mg/kg every 12 hours orally). All three isolates were identified as species of the Fusarium solani complex. In vitro susceptibility to itraconazole, voriconazole and posaconazole, according to Clinical and Laboratory Standards Institute - CLSI (M38-A) methodology, showed a minimum inhibitory concentration (MIC) in all three isolates and for all three antifungals of &gt;16 μg/mL.</td>\n",
       "      <td>antifungals</td>\n",
       "      <td>792</td>\n",
       "      <td>802</td>\n",
       "      <td>SPECIES</td>\n",
       "      <td>0.9847</td>\n",
       "    </tr>\n",
       "    <tr>\n",
       "      <th>7</th>\n",
       "      <td>A nine-month-old boy consulted for severe perianal erythema. A first rectal smear was performed with a negative result of the rapid streptococcal antigen detection test after 24 hours, so treatment was started with clotrimazole. As the patient did not progress well, it was decided to repeat the rectal and pharyngotonsillar smear, finding a positive result for rapid detection of streptococcal antigen in the rectal sample and negative in the pharyngotonsillar sample. Culture of the rectal specimen was negative for fungi and showed growth of GABHS. Treatment with oral penicillin was started for 10 days, with resolution of the picture.</td>\n",
       "      <td>streptococcal</td>\n",
       "      <td>132</td>\n",
       "      <td>144</td>\n",
       "      <td>SPECIES</td>\n",
       "      <td>0.9772</td>\n",
       "    </tr>\n",
       "    <tr>\n",
       "      <th>8</th>\n",
       "      <td>A nine-month-old boy consulted for severe perianal erythema. A first rectal smear was performed with a negative result of the rapid streptococcal antigen detection test after 24 hours, so treatment was started with clotrimazole. As the patient did not progress well, it was decided to repeat the rectal and pharyngotonsillar smear, finding a positive result for rapid detection of streptococcal antigen in the rectal sample and negative in the pharyngotonsillar sample. Culture of the rectal specimen was negative for fungi and showed growth of GABHS. Treatment with oral penicillin was started for 10 days, with resolution of the picture.</td>\n",
       "      <td>patient</td>\n",
       "      <td>236</td>\n",
       "      <td>242</td>\n",
       "      <td>HUMAN</td>\n",
       "      <td>0.962</td>\n",
       "    </tr>\n",
       "    <tr>\n",
       "      <th>9</th>\n",
       "      <td>A nine-month-old boy consulted for severe perianal erythema. A first rectal smear was performed with a negative result of the rapid streptococcal antigen detection test after 24 hours, so treatment was started with clotrimazole. As the patient did not progress well, it was decided to repeat the rectal and pharyngotonsillar smear, finding a positive result for rapid detection of streptococcal antigen in the rectal sample and negative in the pharyngotonsillar sample. Culture of the rectal specimen was negative for fungi and showed growth of GABHS. Treatment with oral penicillin was started for 10 days, with resolution of the picture.</td>\n",
       "      <td>streptococcal</td>\n",
       "      <td>381</td>\n",
       "      <td>393</td>\n",
       "      <td>SPECIES</td>\n",
       "      <td>0.9628</td>\n",
       "    </tr>\n",
       "    <tr>\n",
       "      <th>10</th>\n",
       "      <td>A nine-month-old boy consulted for severe perianal erythema. A first rectal smear was performed with a negative result of the rapid streptococcal antigen detection test after 24 hours, so treatment was started with clotrimazole. As the patient did not progress well, it was decided to repeat the rectal and pharyngotonsillar smear, finding a positive result for rapid detection of streptococcal antigen in the rectal sample and negative in the pharyngotonsillar sample. Culture of the rectal specimen was negative for fungi and showed growth of GABHS. Treatment with oral penicillin was started for 10 days, with resolution of the picture.</td>\n",
       "      <td>fungi</td>\n",
       "      <td>518</td>\n",
       "      <td>522</td>\n",
       "      <td>SPECIES</td>\n",
       "      <td>0.9359</td>\n",
       "    </tr>\n",
       "  </tbody>\n",
       "</table>\n",
       "</div>"
      ],
      "text/plain": [
       "                                                                                                                                                                                                                                                                                                                                                                                                                                                                                                                                                                                                                                                                                                                                                                                                                                             document  \\\n",
       "0   42-year-old woman with end-stage chronic kidney disease, secondary to lupus nephropathy, and on peritoneal dialysis. History of four episodes of bacterial peritonitis and change of Tenckhoff catheter six months prior to admission due to catheter dysfunction. Three peritoneal fluid samples during her hospitalisation tested positive for Fusarium spp. The patient responded favourably and continued outpatient treatment with voriconazole (4mg/kg every 12 hours orally). All three isolates were identified as species of the Fusarium solani complex. In vitro susceptibility to itraconazole, voriconazole and posaconazole, according to Clinical and Laboratory Standards Institute - CLSI (M38-A) methodology, showed a minimum inhibitory concentration (MIC) in all three isolates and for all three antifungals of >16 μg/mL.   \n",
       "1   42-year-old woman with end-stage chronic kidney disease, secondary to lupus nephropathy, and on peritoneal dialysis. History of four episodes of bacterial peritonitis and change of Tenckhoff catheter six months prior to admission due to catheter dysfunction. Three peritoneal fluid samples during her hospitalisation tested positive for Fusarium spp. The patient responded favourably and continued outpatient treatment with voriconazole (4mg/kg every 12 hours orally). All three isolates were identified as species of the Fusarium solani complex. In vitro susceptibility to itraconazole, voriconazole and posaconazole, according to Clinical and Laboratory Standards Institute - CLSI (M38-A) methodology, showed a minimum inhibitory concentration (MIC) in all three isolates and for all three antifungals of >16 μg/mL.   \n",
       "2   42-year-old woman with end-stage chronic kidney disease, secondary to lupus nephropathy, and on peritoneal dialysis. History of four episodes of bacterial peritonitis and change of Tenckhoff catheter six months prior to admission due to catheter dysfunction. Three peritoneal fluid samples during her hospitalisation tested positive for Fusarium spp. The patient responded favourably and continued outpatient treatment with voriconazole (4mg/kg every 12 hours orally). All three isolates were identified as species of the Fusarium solani complex. In vitro susceptibility to itraconazole, voriconazole and posaconazole, according to Clinical and Laboratory Standards Institute - CLSI (M38-A) methodology, showed a minimum inhibitory concentration (MIC) in all three isolates and for all three antifungals of >16 μg/mL.   \n",
       "3   42-year-old woman with end-stage chronic kidney disease, secondary to lupus nephropathy, and on peritoneal dialysis. History of four episodes of bacterial peritonitis and change of Tenckhoff catheter six months prior to admission due to catheter dysfunction. Three peritoneal fluid samples during her hospitalisation tested positive for Fusarium spp. The patient responded favourably and continued outpatient treatment with voriconazole (4mg/kg every 12 hours orally). All three isolates were identified as species of the Fusarium solani complex. In vitro susceptibility to itraconazole, voriconazole and posaconazole, according to Clinical and Laboratory Standards Institute - CLSI (M38-A) methodology, showed a minimum inhibitory concentration (MIC) in all three isolates and for all three antifungals of >16 μg/mL.   \n",
       "4   42-year-old woman with end-stage chronic kidney disease, secondary to lupus nephropathy, and on peritoneal dialysis. History of four episodes of bacterial peritonitis and change of Tenckhoff catheter six months prior to admission due to catheter dysfunction. Three peritoneal fluid samples during her hospitalisation tested positive for Fusarium spp. The patient responded favourably and continued outpatient treatment with voriconazole (4mg/kg every 12 hours orally). All three isolates were identified as species of the Fusarium solani complex. In vitro susceptibility to itraconazole, voriconazole and posaconazole, according to Clinical and Laboratory Standards Institute - CLSI (M38-A) methodology, showed a minimum inhibitory concentration (MIC) in all three isolates and for all three antifungals of >16 μg/mL.   \n",
       "5   42-year-old woman with end-stage chronic kidney disease, secondary to lupus nephropathy, and on peritoneal dialysis. History of four episodes of bacterial peritonitis and change of Tenckhoff catheter six months prior to admission due to catheter dysfunction. Three peritoneal fluid samples during her hospitalisation tested positive for Fusarium spp. The patient responded favourably and continued outpatient treatment with voriconazole (4mg/kg every 12 hours orally). All three isolates were identified as species of the Fusarium solani complex. In vitro susceptibility to itraconazole, voriconazole and posaconazole, according to Clinical and Laboratory Standards Institute - CLSI (M38-A) methodology, showed a minimum inhibitory concentration (MIC) in all three isolates and for all three antifungals of >16 μg/mL.   \n",
       "6   42-year-old woman with end-stage chronic kidney disease, secondary to lupus nephropathy, and on peritoneal dialysis. History of four episodes of bacterial peritonitis and change of Tenckhoff catheter six months prior to admission due to catheter dysfunction. Three peritoneal fluid samples during her hospitalisation tested positive for Fusarium spp. The patient responded favourably and continued outpatient treatment with voriconazole (4mg/kg every 12 hours orally). All three isolates were identified as species of the Fusarium solani complex. In vitro susceptibility to itraconazole, voriconazole and posaconazole, according to Clinical and Laboratory Standards Institute - CLSI (M38-A) methodology, showed a minimum inhibitory concentration (MIC) in all three isolates and for all three antifungals of >16 μg/mL.   \n",
       "7                                                                                                                                                                                     A nine-month-old boy consulted for severe perianal erythema. A first rectal smear was performed with a negative result of the rapid streptococcal antigen detection test after 24 hours, so treatment was started with clotrimazole. As the patient did not progress well, it was decided to repeat the rectal and pharyngotonsillar smear, finding a positive result for rapid detection of streptococcal antigen in the rectal sample and negative in the pharyngotonsillar sample. Culture of the rectal specimen was negative for fungi and showed growth of GABHS. Treatment with oral penicillin was started for 10 days, with resolution of the picture.   \n",
       "8                                                                                                                                                                                     A nine-month-old boy consulted for severe perianal erythema. A first rectal smear was performed with a negative result of the rapid streptococcal antigen detection test after 24 hours, so treatment was started with clotrimazole. As the patient did not progress well, it was decided to repeat the rectal and pharyngotonsillar smear, finding a positive result for rapid detection of streptococcal antigen in the rectal sample and negative in the pharyngotonsillar sample. Culture of the rectal specimen was negative for fungi and showed growth of GABHS. Treatment with oral penicillin was started for 10 days, with resolution of the picture.   \n",
       "9                                                                                                                                                                                     A nine-month-old boy consulted for severe perianal erythema. A first rectal smear was performed with a negative result of the rapid streptococcal antigen detection test after 24 hours, so treatment was started with clotrimazole. As the patient did not progress well, it was decided to repeat the rectal and pharyngotonsillar smear, finding a positive result for rapid detection of streptococcal antigen in the rectal sample and negative in the pharyngotonsillar sample. Culture of the rectal specimen was negative for fungi and showed growth of GABHS. Treatment with oral penicillin was started for 10 days, with resolution of the picture.   \n",
       "10                                                                                                                                                                                    A nine-month-old boy consulted for severe perianal erythema. A first rectal smear was performed with a negative result of the rapid streptococcal antigen detection test after 24 hours, so treatment was started with clotrimazole. As the patient did not progress well, it was decided to repeat the rectal and pharyngotonsillar smear, finding a positive result for rapid detection of streptococcal antigen in the rectal sample and negative in the pharyngotonsillar sample. Culture of the rectal specimen was negative for fungi and showed growth of GABHS. Treatment with oral penicillin was started for 10 days, with resolution of the picture.   \n",
       "\n",
       "                  ner_chunk  begin  end ner_label ner_confidence  \n",
       "0                     woman     12   16     HUMAN         0.9993  \n",
       "1                 bacterial    145  153   SPECIES         0.9815  \n",
       "2              Fusarium spp    337  348   SPECIES     0.96440005  \n",
       "3                   patient    355  361     HUMAN         0.9984  \n",
       "4                   species    507  513   SPECIES         0.8838  \n",
       "5   Fusarium solani complex    522  544   SPECIES      0.7486666  \n",
       "6               antifungals    792  802   SPECIES         0.9847  \n",
       "7             streptococcal    132  144   SPECIES         0.9772  \n",
       "8                   patient    236  242     HUMAN          0.962  \n",
       "9             streptococcal    381  393   SPECIES         0.9628  \n",
       "10                    fungi    518  522   SPECIES         0.9359  "
      ]
     },
     "metadata": {},
     "output_type": "display_data"
    }
   ],
   "source": [
    "process_s3_json_output_and_save(validation_json_file_name)"
   ]
  },
  {
   "cell_type": "markdown",
   "metadata": {},
   "source": [
    "### JSON Lines"
   ]
  },
  {
   "cell_type": "code",
   "execution_count": null,
   "metadata": {
    "tags": []
   },
   "outputs": [],
   "source": [
    "transformer = model.transformer(\n",
    "    instance_count=1,\n",
    "    instance_type=batch_transform_inference_instance_type,\n",
    "    accept=\"application/jsonlines\",\n",
    "    output_path=validation_output_jsonl_path\n",
    ")\n",
    "transformer.transform(validation_input_jsonl_path, content_type=\"application/jsonlines\")\n",
    "transformer.wait()"
   ]
  },
  {
   "cell_type": "code",
   "execution_count": 19,
   "metadata": {
    "tags": []
   },
   "outputs": [],
   "source": [
    "from urllib.parse import urlparse\n",
    "\n",
    "def process_s3_jsonlines_output_and_save(validation_file_name):\n",
    "\n",
    "    output_file_path = f\"{jsonl_output_dir}/{validation_file_name}.out\"\n",
    "    parsed_url = urlparse(transformer.output_path)\n",
    "    file_key = f\"{parsed_url.path[1:]}{validation_file_name}.out\"\n",
    "    response = s3_client.get_object(Bucket=s3_bucket, Key=file_key)\n",
    "\n",
    "    data = response[\"Body\"].read().decode(\"utf-8\")\n",
    "    print(data)\n",
    "\n",
    "    # Save the data to the output file\n",
    "    with open(output_file_path, 'w') as f_out:\n",
    "        for item in data.split('\\n'):\n",
    "            f_out.write(item + '\\n')"
   ]
  },
  {
   "cell_type": "code",
   "execution_count": 20,
   "metadata": {
    "tags": []
   },
   "outputs": [
    {
     "name": "stdout",
     "output_type": "stream",
     "text": [
      "{\"predictions\": [{\"ner_chunk\": \"woman\", \"begin\": 12, \"end\": 16, \"ner_label\": \"HUMAN\", \"ner_confidence\": \"0.9993\"}, {\"ner_chunk\": \"bacterial\", \"begin\": 145, \"end\": 153, \"ner_label\": \"SPECIES\", \"ner_confidence\": \"0.9815\"}, {\"ner_chunk\": \"Fusarium spp\", \"begin\": 337, \"end\": 348, \"ner_label\": \"SPECIES\", \"ner_confidence\": \"0.96440005\"}, {\"ner_chunk\": \"patient\", \"begin\": 355, \"end\": 361, \"ner_label\": \"HUMAN\", \"ner_confidence\": \"0.9984\"}, {\"ner_chunk\": \"species\", \"begin\": 507, \"end\": 513, \"ner_label\": \"SPECIES\", \"ner_confidence\": \"0.8838\"}, {\"ner_chunk\": \"Fusarium solani complex\", \"begin\": 522, \"end\": 544, \"ner_label\": \"SPECIES\", \"ner_confidence\": \"0.7486666\"}, {\"ner_chunk\": \"antifungals\", \"begin\": 792, \"end\": 802, \"ner_label\": \"SPECIES\", \"ner_confidence\": \"0.9847\"}]}\n",
      "{\"predictions\": [{\"ner_chunk\": \"streptococcal\", \"begin\": 132, \"end\": 144, \"ner_label\": \"SPECIES\", \"ner_confidence\": \"0.9772\"}, {\"ner_chunk\": \"patient\", \"begin\": 236, \"end\": 242, \"ner_label\": \"HUMAN\", \"ner_confidence\": \"0.962\"}, {\"ner_chunk\": \"streptococcal\", \"begin\": 381, \"end\": 393, \"ner_label\": \"SPECIES\", \"ner_confidence\": \"0.9628\"}, {\"ner_chunk\": \"fungi\", \"begin\": 518, \"end\": 522, \"ner_label\": \"SPECIES\", \"ner_confidence\": \"0.9359\"}]}\n"
     ]
    }
   ],
   "source": [
    "process_s3_jsonlines_output_and_save(validation_jsonl_file_name)"
   ]
  },
  {
   "cell_type": "code",
   "execution_count": 21,
   "metadata": {
    "tags": []
   },
   "outputs": [
    {
     "name": "stderr",
     "output_type": "stream",
     "text": [
      "INFO:sagemaker:Deleting model with name: en-med-ner-living-species-pipeline-2024-05-07-07-46-29-635\n"
     ]
    }
   ],
   "source": [
    "model.delete_model()"
   ]
  },
  {
   "cell_type": "markdown",
   "metadata": {},
   "source": [
    "### Unsubscribe to the listing (optional)"
   ]
  },
  {
   "cell_type": "markdown",
   "metadata": {
    "tags": []
   },
   "source": [
    "If you would like to unsubscribe to the model package, follow these steps. Before you cancel the subscription, ensure that you do not have any [deployable model](https://console.aws.amazon.com/sagemaker/home#/models) created from the model package or using the algorithm. Note - You can find this information by looking at the container name associated with the model. \n",
    "\n",
    "**Steps to unsubscribe to product from AWS Marketplace**:\n",
    "1. Navigate to __Machine Learning__ tab on [__Your Software subscriptions page__](https://aws.amazon.com/marketplace/ai/library?productType=ml&ref_=mlmp_gitdemo_indust)\n",
    "2. Locate the listing that you want to cancel the subscription for, and then choose __Cancel Subscription__  to cancel the subscription.\n",
    "\n"
   ]
  }
 ],
 "metadata": {
  "instance_type": "ml.t3.medium",
  "kernelspec": {
   "display_name": "conda_python3",
   "language": "python",
   "name": "conda_python3"
  },
  "language_info": {
   "codemirror_mode": {
    "name": "ipython",
    "version": 3
   },
   "file_extension": ".py",
   "mimetype": "text/x-python",
   "name": "python",
   "nbconvert_exporter": "python",
   "pygments_lexer": "ipython3",
   "version": "3.10.14"
  }
 },
 "nbformat": 4,
 "nbformat_minor": 4
}

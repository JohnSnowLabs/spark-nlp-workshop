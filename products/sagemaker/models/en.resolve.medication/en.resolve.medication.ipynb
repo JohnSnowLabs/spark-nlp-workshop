{
 "cells": [
  {
   "cell_type": "markdown",
   "metadata": {},
   "source": [
    "## 1. Subscribe to the model package"
   ]
  },
  {
   "cell_type": "markdown",
   "metadata": {},
   "source": [
    "To subscribe to the model package:\n",
    "1. Open the model package listing page <font color='red'> For Seller to update:[Title_of_your_product](Provide link to your marketplace listing of your product).</font>\n",
    "1. On the AWS Marketplace listing, click on the **Continue to subscribe** button.\n",
    "1. On the **Subscribe to this software** page, review and click on **\"Accept Offer\"** if you and your organization agrees with EULA, pricing, and support terms. \n",
    "1. Once you click on **Continue to configuration button** and then choose a **region**, you will see a **Product Arn** displayed. This is the model package ARN that you need to specify while creating a deployable model using Boto3. Copy the ARN corresponding to your region and specify the same in the following cell."
   ]
  },
  {
   "cell_type": "markdown",
   "metadata": {},
   "source": [
    "## Pipeline to Resolve Medication Codes\n",
    "\n",
    "\n",
    "- **Model**: `en.resolve.medication`\n",
    "- **Model Description**: This pretrained resolver pipeline extracts medications and resolves their adverse reactions (ADE), RxNorm, UMLS, NDC, and SNOMED CT codes, as well as action/treatments, from clinical text, providing support for both branded and non-branded medications.\n"
   ]
  },
  {
   "cell_type": "code",
   "execution_count": 1,
   "metadata": {
    "tags": []
   },
   "outputs": [],
   "source": [
    "model_package_arn = \"<Customer to specify Model package ARN corresponding to their AWS region>\""
   ]
  },
  {
   "cell_type": "code",
   "execution_count": 19,
   "metadata": {
    "tags": []
   },
   "outputs": [],
   "source": [
    "import base64\n",
    "import json\n",
    "import uuid\n",
    "from sagemaker import ModelPackage\n",
    "import sagemaker as sage\n",
    "from sagemaker import get_execution_role\n",
    "import boto3\n",
    "from IPython.display import Image, display\n",
    "from PIL import Image as ImageEdit\n",
    "import numpy as np"
   ]
  },
  {
   "cell_type": "code",
   "execution_count": 20,
   "metadata": {
    "tags": []
   },
   "outputs": [],
   "source": [
    "sagemaker_session = sage.Session()\n",
    "s3_bucket = sagemaker_session.default_bucket()\n",
    "region = sagemaker_session.boto_region_name\n",
    "account_id = boto3.client(\"sts\").get_caller_identity().get(\"Account\")\n",
    "role = get_execution_role()\n",
    "\n",
    "sagemaker = boto3.client(\"sagemaker\")\n",
    "s3_client = sagemaker_session.boto_session.client(\"s3\")\n",
    "ecr = boto3.client(\"ecr\")\n",
    "sm_runtime = boto3.client(\"sagemaker-runtime\")"
   ]
  },
  {
   "cell_type": "markdown",
   "metadata": {},
   "source": [
    "## 2. Create an endpoint and perform real-time inference"
   ]
  },
  {
   "cell_type": "markdown",
   "metadata": {},
   "source": [
    "If you want to understand how real-time inference with Amazon SageMaker works, see [Documentation](https://docs.aws.amazon.com/sagemaker/latest/dg/how-it-works-hosting.html)."
   ]
  },
  {
   "cell_type": "code",
   "execution_count": 21,
   "metadata": {
    "tags": []
   },
   "outputs": [],
   "source": [
    "model_name = \"en-resolve-medication\"\n",
    "\n",
    "real_time_inference_instance_type = \"ml.m4.xlarge\"\n",
    "batch_transform_inference_instance_type = \"ml.m4.xlarge\""
   ]
  },
  {
   "cell_type": "markdown",
   "metadata": {},
   "source": [
    "### A. Create an endpoint"
   ]
  },
  {
   "cell_type": "code",
   "execution_count": 23,
   "metadata": {
    "tags": []
   },
   "outputs": [
    {
     "name": "stderr",
     "output_type": "stream",
     "text": [
      "INFO:sagemaker:Creating model with name: en-resolve-medication-2024-05-17-07-44-20-320\n",
      "INFO:sagemaker:Creating endpoint-config with name en-resolve-medication\n",
      "INFO:sagemaker:Creating endpoint with name en-resolve-medication\n"
     ]
    },
    {
     "name": "stdout",
     "output_type": "stream",
     "text": [
      "--------------!"
     ]
    }
   ],
   "source": [
    "# create a deployable model from the model package.\n",
    "model = ModelPackage(\n",
    "    role=role, model_package_arn=model_package_arn, sagemaker_session=sagemaker_session\n",
    ")\n",
    "\n",
    "# Deploy the model\n",
    "predictor = model.deploy(1, real_time_inference_instance_type, endpoint_name=model_name)"
   ]
  },
  {
   "cell_type": "markdown",
   "metadata": {},
   "source": [
    "Once endpoint has been created, you would be able to perform real-time inference."
   ]
  },
  {
   "cell_type": "code",
   "execution_count": 24,
   "metadata": {
    "tags": []
   },
   "outputs": [],
   "source": [
    "import json\n",
    "import pandas as pd\n",
    "import os\n",
    "import boto3\n",
    "\n",
    "# Set display options\n",
    "pd.set_option('display.max_rows', None)\n",
    "pd.set_option('display.max_columns', None)\n",
    "pd.set_option('display.max_colwidth', None)\n",
    "\n",
    "def process_data_and_invoke_realtime_endpoint(data, content_type, accept):\n",
    "\n",
    "    content_type_to_format = {'application/json': 'json', 'application/jsonlines': 'jsonl'}\n",
    "    input_format = content_type_to_format.get(content_type)\n",
    "    if content_type not in content_type_to_format.keys() or accept not in content_type_to_format.keys():\n",
    "        raise ValueError(\"Invalid content_type or accept. It should be either 'application/json' or 'application/jsonlines'.\")\n",
    "\n",
    "    i = 1\n",
    "    input_dir = f'inputs/real-time/{input_format}'\n",
    "    output_dir = f'outputs/real-time/{input_format}'\n",
    "    s3_input_dir = f\"{model_name}/validation-input/real-time/{input_format}\"\n",
    "    s3_output_dir = f\"{model_name}/validation-output/real-time/{input_format}\"\n",
    "\n",
    "    input_file_name = f'{input_dir}/input{i}.{input_format}'\n",
    "    output_file_name = f'{output_dir}/{os.path.basename(input_file_name)}.out'\n",
    "\n",
    "    while os.path.exists(input_file_name) or os.path.exists(output_file_name):\n",
    "        i += 1\n",
    "        input_file_name = f'{input_dir}/input{i}.{input_format}'\n",
    "        output_file_name = f'{output_dir}/{os.path.basename(input_file_name)}.out'\n",
    "\n",
    "    os.makedirs(os.path.dirname(input_file_name), exist_ok=True)\n",
    "    os.makedirs(os.path.dirname(output_file_name), exist_ok=True)\n",
    "\n",
    "    input_data = json.dumps(data) if content_type == 'application/json' else data\n",
    "\n",
    "    # Write input data to file\n",
    "    with open(input_file_name, 'w') as f:\n",
    "        f.write(input_data)\n",
    "\n",
    "    # Upload input data to S3\n",
    "    s3_client.put_object(Bucket=s3_bucket, Key=f\"{s3_input_dir}/{os.path.basename(input_file_name)}\", Body=bytes(input_data.encode('UTF-8')))\n",
    "\n",
    "    # Invoke the SageMaker endpoint\n",
    "    response = sm_runtime.invoke_endpoint(\n",
    "        EndpointName=model_name,\n",
    "        ContentType=content_type,\n",
    "        Accept=accept,\n",
    "        Body=input_data,\n",
    "    )\n",
    "\n",
    "    # Read response data\n",
    "    response_data = json.loads(response[\"Body\"].read().decode(\"utf-8\")) if accept == 'application/json' else response['Body'].read().decode('utf-8')\n",
    "\n",
    "    # Save response data to file\n",
    "    with open(output_file_name, 'w') as f_out:\n",
    "        if accept == 'application/json':\n",
    "            json.dump(response_data, f_out, indent=4)\n",
    "        else:\n",
    "            for item in response_data.split('\\n'):\n",
    "                f_out.write(item + '\\n')\n",
    "\n",
    "    # Upload response data to S3\n",
    "    output_s3_key = f\"{s3_output_dir}/{os.path.basename(output_file_name)}\"\n",
    "    if accept == 'application/json':\n",
    "        s3_client.put_object(Bucket=s3_bucket, Key=output_s3_key, Body=json.dumps(response_data).encode('UTF-8'))\n",
    "    else:\n",
    "        s3_client.put_object(Bucket=s3_bucket, Key=output_s3_key, Body=response_data)\n",
    "\n",
    "    return response_data"
   ]
  },
  {
   "cell_type": "markdown",
   "metadata": {},
   "source": [
    "### Initial Setup"
   ]
  },
  {
   "cell_type": "code",
   "execution_count": 25,
   "metadata": {
    "tags": []
   },
   "outputs": [],
   "source": [
    "docs = [\n",
    "    \"The patient was given Adapin 10 MG, coumadin 5mg\",\n",
    "    \"She is given folic acid 1 mg daily , levothyroxine 0.1 mg and aspirin 81 mg daily.\",\n",
    "    \"The doctor prescribed Lisinopril 20 MG once daily for hypertension.\"\n",
    "]\n",
    "\n",
    "\n",
    "\n",
    "sample_text = \"\"\"The patient was prescribed Amlodopine Vallarta 10-320mg, Eviplera. The other patient is given Lescol 40 MG and Everolimus 1.5 mg tablet.\"\"\"\n"
   ]
  },
  {
   "cell_type": "markdown",
   "metadata": {},
   "source": [
    "### JSON"
   ]
  },
  {
   "cell_type": "markdown",
   "metadata": {},
   "source": [
    "#### Example 1"
   ]
  },
  {
   "cell_type": "markdown",
   "metadata": {},
   "source": [
    "  **Input format**:\n",
    "  \n",
    "  \n",
    "```json\n",
    "{\n",
    "    \"text\": \"Single text document\"\n",
    "}\n",
    "```"
   ]
  },
  {
   "cell_type": "code",
   "execution_count": 26,
   "metadata": {
    "tags": []
   },
   "outputs": [
    {
     "data": {
      "text/html": [
       "<div>\n",
       "<style scoped>\n",
       "    .dataframe tbody tr th:only-of-type {\n",
       "        vertical-align: middle;\n",
       "    }\n",
       "\n",
       "    .dataframe tbody tr th {\n",
       "        vertical-align: top;\n",
       "    }\n",
       "\n",
       "    .dataframe thead th {\n",
       "        text-align: right;\n",
       "    }\n",
       "</style>\n",
       "<table border=\"1\" class=\"dataframe\">\n",
       "  <thead>\n",
       "    <tr style=\"text-align: right;\">\n",
       "      <th></th>\n",
       "      <th>document</th>\n",
       "      <th>ner_chunk</th>\n",
       "      <th>begin</th>\n",
       "      <th>end</th>\n",
       "      <th>ner_label</th>\n",
       "      <th>ner_confidence</th>\n",
       "      <th>ade</th>\n",
       "      <th>rxnorm_code</th>\n",
       "      <th>action</th>\n",
       "      <th>treatment</th>\n",
       "      <th>umls_code</th>\n",
       "      <th>snomed_ct_code</th>\n",
       "      <th>product_ndc</th>\n",
       "      <th>package_ndc</th>\n",
       "    </tr>\n",
       "  </thead>\n",
       "  <tbody>\n",
       "    <tr>\n",
       "      <th>0</th>\n",
       "      <td>The patient was prescribed Amlodopine Vallarta 10-320mg, Eviplera. The other patient is given Lescol 40 MG and Everolimus 1.5 mg tablet.</td>\n",
       "      <td>Amlodopine Vallarta 10-320mg</td>\n",
       "      <td>27</td>\n",
       "      <td>54</td>\n",
       "      <td>DRUG</td>\n",
       "      <td>0.8083666</td>\n",
       "      <td>Gynaecomastia</td>\n",
       "      <td>722131</td>\n",
       "      <td>NONE</td>\n",
       "      <td>NONE</td>\n",
       "      <td>C1949334</td>\n",
       "      <td>425838008</td>\n",
       "      <td>00093-7693</td>\n",
       "      <td>00093-7693-56</td>\n",
       "    </tr>\n",
       "    <tr>\n",
       "      <th>1</th>\n",
       "      <td>The patient was prescribed Amlodopine Vallarta 10-320mg, Eviplera. The other patient is given Lescol 40 MG and Everolimus 1.5 mg tablet.</td>\n",
       "      <td>Eviplera</td>\n",
       "      <td>57</td>\n",
       "      <td>64</td>\n",
       "      <td>DRUG</td>\n",
       "      <td>None</td>\n",
       "      <td>Anxiety</td>\n",
       "      <td>217010</td>\n",
       "      <td>Inhibitory Bone Resorption</td>\n",
       "      <td>Osteoporosis</td>\n",
       "      <td>C0720318</td>\n",
       "      <td>NONE</td>\n",
       "      <td>NONE</td>\n",
       "      <td>NONE</td>\n",
       "    </tr>\n",
       "    <tr>\n",
       "      <th>2</th>\n",
       "      <td>The patient was prescribed Amlodopine Vallarta 10-320mg, Eviplera. The other patient is given Lescol 40 MG and Everolimus 1.5 mg tablet.</td>\n",
       "      <td>Lescol 40 MG</td>\n",
       "      <td>94</td>\n",
       "      <td>105</td>\n",
       "      <td>DRUG</td>\n",
       "      <td>0.60043335</td>\n",
       "      <td>NONE</td>\n",
       "      <td>103919</td>\n",
       "      <td>Hypocholesterolemic</td>\n",
       "      <td>Heterozygous Familial Hypercholesterolemia</td>\n",
       "      <td>C0353573</td>\n",
       "      <td>NONE</td>\n",
       "      <td>00078-0234</td>\n",
       "      <td>00078-0234-05</td>\n",
       "    </tr>\n",
       "    <tr>\n",
       "      <th>3</th>\n",
       "      <td>The patient was prescribed Amlodopine Vallarta 10-320mg, Eviplera. The other patient is given Lescol 40 MG and Everolimus 1.5 mg tablet.</td>\n",
       "      <td>Everolimus 1.5 mg tablet</td>\n",
       "      <td>111</td>\n",
       "      <td>134</td>\n",
       "      <td>DRUG</td>\n",
       "      <td>0.719375</td>\n",
       "      <td>Acute myocardial infarction</td>\n",
       "      <td>2056895</td>\n",
       "      <td>NONE</td>\n",
       "      <td>NONE</td>\n",
       "      <td>C4723581</td>\n",
       "      <td>NONE</td>\n",
       "      <td>00054-0604</td>\n",
       "      <td>00054-0604-21</td>\n",
       "    </tr>\n",
       "  </tbody>\n",
       "</table>\n",
       "</div>"
      ],
      "text/plain": [
       "                                                                                                                                   document  \\\n",
       "0  The patient was prescribed Amlodopine Vallarta 10-320mg, Eviplera. The other patient is given Lescol 40 MG and Everolimus 1.5 mg tablet.   \n",
       "1  The patient was prescribed Amlodopine Vallarta 10-320mg, Eviplera. The other patient is given Lescol 40 MG and Everolimus 1.5 mg tablet.   \n",
       "2  The patient was prescribed Amlodopine Vallarta 10-320mg, Eviplera. The other patient is given Lescol 40 MG and Everolimus 1.5 mg tablet.   \n",
       "3  The patient was prescribed Amlodopine Vallarta 10-320mg, Eviplera. The other patient is given Lescol 40 MG and Everolimus 1.5 mg tablet.   \n",
       "\n",
       "                      ner_chunk  begin  end ner_label ner_confidence  \\\n",
       "0  Amlodopine Vallarta 10-320mg     27   54      DRUG      0.8083666   \n",
       "1                      Eviplera     57   64      DRUG           None   \n",
       "2                  Lescol 40 MG     94  105      DRUG     0.60043335   \n",
       "3      Everolimus 1.5 mg tablet    111  134      DRUG       0.719375   \n",
       "\n",
       "                           ade rxnorm_code                      action  \\\n",
       "0                Gynaecomastia      722131                        NONE   \n",
       "1                      Anxiety      217010  Inhibitory Bone Resorption   \n",
       "2                         NONE      103919         Hypocholesterolemic   \n",
       "3  Acute myocardial infarction     2056895                        NONE   \n",
       "\n",
       "                                    treatment umls_code snomed_ct_code  \\\n",
       "0                                        NONE  C1949334      425838008   \n",
       "1                                Osteoporosis  C0720318           NONE   \n",
       "2  Heterozygous Familial Hypercholesterolemia  C0353573           NONE   \n",
       "3                                        NONE  C4723581           NONE   \n",
       "\n",
       "  product_ndc    package_ndc  \n",
       "0  00093-7693  00093-7693-56  \n",
       "1        NONE           NONE  \n",
       "2  00078-0234  00078-0234-05  \n",
       "3  00054-0604  00054-0604-21  "
      ]
     },
     "execution_count": 26,
     "metadata": {},
     "output_type": "execute_result"
    }
   ],
   "source": [
    "input_json_data = {\"text\": sample_text}\n",
    "\n",
    "data =  process_data_and_invoke_realtime_endpoint(input_json_data, content_type=\"application/json\" , accept=\"application/json\" )\n",
    "pd.DataFrame(data[\"predictions\"])"
   ]
  },
  {
   "cell_type": "markdown",
   "metadata": {},
   "source": [
    "#### Example 2"
   ]
  },
  {
   "cell_type": "markdown",
   "metadata": {},
   "source": [
    "  **Input format**:\n",
    "  \n",
    "  \n",
    "```json\n",
    "{\n",
    "    \"text\": [\n",
    "        \"Text document 1\",\n",
    "        \"Text document 2\",\n",
    "        ...\n",
    "    ]\n",
    "}\n",
    "```"
   ]
  },
  {
   "cell_type": "code",
   "execution_count": 27,
   "metadata": {
    "tags": []
   },
   "outputs": [
    {
     "data": {
      "text/html": [
       "<div>\n",
       "<style scoped>\n",
       "    .dataframe tbody tr th:only-of-type {\n",
       "        vertical-align: middle;\n",
       "    }\n",
       "\n",
       "    .dataframe tbody tr th {\n",
       "        vertical-align: top;\n",
       "    }\n",
       "\n",
       "    .dataframe thead th {\n",
       "        text-align: right;\n",
       "    }\n",
       "</style>\n",
       "<table border=\"1\" class=\"dataframe\">\n",
       "  <thead>\n",
       "    <tr style=\"text-align: right;\">\n",
       "      <th></th>\n",
       "      <th>document</th>\n",
       "      <th>ner_chunk</th>\n",
       "      <th>begin</th>\n",
       "      <th>end</th>\n",
       "      <th>ner_label</th>\n",
       "      <th>ner_confidence</th>\n",
       "      <th>ade</th>\n",
       "      <th>rxnorm_code</th>\n",
       "      <th>action</th>\n",
       "      <th>treatment</th>\n",
       "      <th>umls_code</th>\n",
       "      <th>snomed_ct_code</th>\n",
       "      <th>product_ndc</th>\n",
       "      <th>package_ndc</th>\n",
       "    </tr>\n",
       "  </thead>\n",
       "  <tbody>\n",
       "    <tr>\n",
       "      <th>0</th>\n",
       "      <td>The patient was given Adapin 10 MG, coumadin 5mg</td>\n",
       "      <td>Adapin 10 MG</td>\n",
       "      <td>22</td>\n",
       "      <td>33</td>\n",
       "      <td>DRUG</td>\n",
       "      <td>0.6684</td>\n",
       "      <td>NONE</td>\n",
       "      <td>1000049</td>\n",
       "      <td>NONE</td>\n",
       "      <td>NONE</td>\n",
       "      <td>NONE</td>\n",
       "      <td>NONE</td>\n",
       "      <td>NONE</td>\n",
       "      <td>NONE</td>\n",
       "    </tr>\n",
       "    <tr>\n",
       "      <th>1</th>\n",
       "      <td>The patient was given Adapin 10 MG, coumadin 5mg</td>\n",
       "      <td>coumadin 5mg</td>\n",
       "      <td>36</td>\n",
       "      <td>47</td>\n",
       "      <td>DRUG</td>\n",
       "      <td>0.6889</td>\n",
       "      <td>NONE</td>\n",
       "      <td>855333</td>\n",
       "      <td>Anticoagulant</td>\n",
       "      <td>Cerebrovascular Accident</td>\n",
       "      <td>C2709920</td>\n",
       "      <td>NONE</td>\n",
       "      <td>NONE</td>\n",
       "      <td>NONE</td>\n",
       "    </tr>\n",
       "    <tr>\n",
       "      <th>2</th>\n",
       "      <td>She is given folic acid 1 mg daily , levothyroxine 0.1 mg and aspirin 81 mg daily.</td>\n",
       "      <td>folic acid 1 mg</td>\n",
       "      <td>13</td>\n",
       "      <td>27</td>\n",
       "      <td>DRUG</td>\n",
       "      <td>0.67852503</td>\n",
       "      <td>Dyspnoea</td>\n",
       "      <td>315966</td>\n",
       "      <td>NONE</td>\n",
       "      <td>NONE</td>\n",
       "      <td>C0986175</td>\n",
       "      <td>NONE</td>\n",
       "      <td>11528-0135</td>\n",
       "      <td>11528-0135-01</td>\n",
       "    </tr>\n",
       "    <tr>\n",
       "      <th>3</th>\n",
       "      <td>She is given folic acid 1 mg daily , levothyroxine 0.1 mg and aspirin 81 mg daily.</td>\n",
       "      <td>levothyroxine 0.1 mg</td>\n",
       "      <td>37</td>\n",
       "      <td>56</td>\n",
       "      <td>DRUG</td>\n",
       "      <td>0.8457667</td>\n",
       "      <td>Dyspnoea</td>\n",
       "      <td>1115267</td>\n",
       "      <td>NONE</td>\n",
       "      <td>NONE</td>\n",
       "      <td>C3162905</td>\n",
       "      <td>NONE</td>\n",
       "      <td>42023-0201</td>\n",
       "      <td>42023-0201-01</td>\n",
       "    </tr>\n",
       "    <tr>\n",
       "      <th>4</th>\n",
       "      <td>She is given folic acid 1 mg daily , levothyroxine 0.1 mg and aspirin 81 mg daily.</td>\n",
       "      <td>aspirin 81 mg</td>\n",
       "      <td>62</td>\n",
       "      <td>74</td>\n",
       "      <td>DRUG</td>\n",
       "      <td>0.72886664</td>\n",
       "      <td>Pyrexia</td>\n",
       "      <td>434451</td>\n",
       "      <td>NONE</td>\n",
       "      <td>NONE</td>\n",
       "      <td>C1363721</td>\n",
       "      <td>NONE</td>\n",
       "      <td>NONE</td>\n",
       "      <td>NONE</td>\n",
       "    </tr>\n",
       "    <tr>\n",
       "      <th>5</th>\n",
       "      <td>The doctor prescribed Lisinopril 20 MG once daily for hypertension.</td>\n",
       "      <td>Lisinopril 20 MG</td>\n",
       "      <td>22</td>\n",
       "      <td>37</td>\n",
       "      <td>DRUG</td>\n",
       "      <td>0.6994</td>\n",
       "      <td>NONE</td>\n",
       "      <td>314077</td>\n",
       "      <td>NONE</td>\n",
       "      <td>NONE</td>\n",
       "      <td>C0981556</td>\n",
       "      <td>318860005</td>\n",
       "      <td>00143-1268</td>\n",
       "      <td>00143-9713-01</td>\n",
       "    </tr>\n",
       "  </tbody>\n",
       "</table>\n",
       "</div>"
      ],
      "text/plain": [
       "                                                                             document  \\\n",
       "0                                    The patient was given Adapin 10 MG, coumadin 5mg   \n",
       "1                                    The patient was given Adapin 10 MG, coumadin 5mg   \n",
       "2  She is given folic acid 1 mg daily , levothyroxine 0.1 mg and aspirin 81 mg daily.   \n",
       "3  She is given folic acid 1 mg daily , levothyroxine 0.1 mg and aspirin 81 mg daily.   \n",
       "4  She is given folic acid 1 mg daily , levothyroxine 0.1 mg and aspirin 81 mg daily.   \n",
       "5                 The doctor prescribed Lisinopril 20 MG once daily for hypertension.   \n",
       "\n",
       "              ner_chunk  begin  end ner_label ner_confidence       ade  \\\n",
       "0          Adapin 10 MG     22   33      DRUG         0.6684      NONE   \n",
       "1          coumadin 5mg     36   47      DRUG         0.6889      NONE   \n",
       "2       folic acid 1 mg     13   27      DRUG     0.67852503  Dyspnoea   \n",
       "3  levothyroxine 0.1 mg     37   56      DRUG      0.8457667  Dyspnoea   \n",
       "4         aspirin 81 mg     62   74      DRUG     0.72886664   Pyrexia   \n",
       "5      Lisinopril 20 MG     22   37      DRUG         0.6994      NONE   \n",
       "\n",
       "  rxnorm_code         action                 treatment umls_code  \\\n",
       "0     1000049           NONE                      NONE      NONE   \n",
       "1      855333  Anticoagulant  Cerebrovascular Accident  C2709920   \n",
       "2      315966           NONE                      NONE  C0986175   \n",
       "3     1115267           NONE                      NONE  C3162905   \n",
       "4      434451           NONE                      NONE  C1363721   \n",
       "5      314077           NONE                      NONE  C0981556   \n",
       "\n",
       "  snomed_ct_code product_ndc    package_ndc  \n",
       "0           NONE        NONE           NONE  \n",
       "1           NONE        NONE           NONE  \n",
       "2           NONE  11528-0135  11528-0135-01  \n",
       "3           NONE  42023-0201  42023-0201-01  \n",
       "4           NONE        NONE           NONE  \n",
       "5      318860005  00143-1268  00143-9713-01  "
      ]
     },
     "execution_count": 27,
     "metadata": {},
     "output_type": "execute_result"
    }
   ],
   "source": [
    "input_json_data = {\"text\": docs}\n",
    "\n",
    "data =  process_data_and_invoke_realtime_endpoint(input_json_data, content_type=\"application/json\" , accept=\"application/json\" )\n",
    "pd.DataFrame(data[\"predictions\"])"
   ]
  },
  {
   "cell_type": "markdown",
   "metadata": {},
   "source": [
    "### JSON Lines"
   ]
  },
  {
   "cell_type": "markdown",
   "metadata": {},
   "source": [
    "  **Input format**:\n",
    "  \n",
    "```json\n",
    "{\"text\": \"Text document 1\"}\n",
    "{\"text\": \"Text document 2\"}\n",
    "```"
   ]
  },
  {
   "cell_type": "code",
   "execution_count": 28,
   "metadata": {
    "tags": []
   },
   "outputs": [],
   "source": [
    "import json\n",
    "\n",
    "def create_jsonl(records):\n",
    "    json_records = []\n",
    "\n",
    "    for text in records:\n",
    "        record = {\n",
    "            \"text\": text\n",
    "        }\n",
    "        json_records.append(record)\n",
    "\n",
    "    json_lines = '\\n'.join(json.dumps(record) for record in json_records)\n",
    "\n",
    "    return json_lines\n",
    "\n",
    "input_jsonl_data = create_jsonl(docs)"
   ]
  },
  {
   "cell_type": "markdown",
   "metadata": {},
   "source": [
    "#### Example 1"
   ]
  },
  {
   "cell_type": "code",
   "execution_count": 29,
   "metadata": {
    "tags": []
   },
   "outputs": [
    {
     "name": "stdout",
     "output_type": "stream",
     "text": [
      "{\"predictions\": [{\"ner_chunk\": \"Adapin 10 MG\", \"begin\": 22, \"end\": 33, \"ner_label\": \"DRUG\", \"ner_confidence\": \"0.6684\", \"ade\": \"NONE\", \"rxnorm_code\": \"1000049\", \"action\": \"NONE\", \"treatment\": \"NONE\", \"umls_code\": \"NONE\", \"snomed_ct_code\": \"NONE\", \"product_ndc\": \"NONE\", \"package_ndc\": \"NONE\"}, {\"ner_chunk\": \"coumadin 5mg\", \"begin\": 36, \"end\": 47, \"ner_label\": \"DRUG\", \"ner_confidence\": \"0.6889\", \"ade\": \"NONE\", \"rxnorm_code\": \"855333\", \"action\": \"Anticoagulant\", \"treatment\": \"Cerebrovascular Accident\", \"umls_code\": \"C2709920\", \"snomed_ct_code\": \"NONE\", \"product_ndc\": \"NONE\", \"package_ndc\": \"NONE\"}]}\n",
      "{\"predictions\": [{\"ner_chunk\": \"folic acid 1 mg\", \"begin\": 13, \"end\": 27, \"ner_label\": \"DRUG\", \"ner_confidence\": \"0.67852503\", \"ade\": \"Dyspnoea\", \"rxnorm_code\": \"315966\", \"action\": \"NONE\", \"treatment\": \"NONE\", \"umls_code\": \"C0986175\", \"snomed_ct_code\": \"NONE\", \"product_ndc\": \"11528-0135\", \"package_ndc\": \"11528-0135-01\"}, {\"ner_chunk\": \"levothyroxine 0.1 mg\", \"begin\": 37, \"end\": 56, \"ner_label\": \"DRUG\", \"ner_confidence\": \"0.8457667\", \"ade\": \"Dyspnoea\", \"rxnorm_code\": \"1115267\", \"action\": \"NONE\", \"treatment\": \"NONE\", \"umls_code\": \"C3162905\", \"snomed_ct_code\": \"NONE\", \"product_ndc\": \"42023-0201\", \"package_ndc\": \"42023-0201-01\"}, {\"ner_chunk\": \"aspirin 81 mg\", \"begin\": 62, \"end\": 74, \"ner_label\": \"DRUG\", \"ner_confidence\": \"0.72886664\", \"ade\": \"Pyrexia\", \"rxnorm_code\": \"434451\", \"action\": \"NONE\", \"treatment\": \"NONE\", \"umls_code\": \"C1363721\", \"snomed_ct_code\": \"NONE\", \"product_ndc\": \"NONE\", \"package_ndc\": \"NONE\"}]}\n",
      "{\"predictions\": [{\"ner_chunk\": \"Lisinopril 20 MG\", \"begin\": 22, \"end\": 37, \"ner_label\": \"DRUG\", \"ner_confidence\": \"0.6994\", \"ade\": \"NONE\", \"rxnorm_code\": \"314077\", \"action\": \"NONE\", \"treatment\": \"NONE\", \"umls_code\": \"C0981556\", \"snomed_ct_code\": \"318860005\", \"product_ndc\": \"00143-1268\", \"package_ndc\": \"00143-9713-01\"}]}\n"
     ]
    }
   ],
   "source": [
    "data = process_data_and_invoke_realtime_endpoint(input_jsonl_data, content_type=\"application/jsonlines\" , accept=\"application/jsonlines\" )\n",
    "print(data)"
   ]
  },
  {
   "cell_type": "markdown",
   "metadata": {},
   "source": [
    "### C. Delete the endpoint"
   ]
  },
  {
   "cell_type": "markdown",
   "metadata": {},
   "source": [
    "Now that you have successfully performed a real-time inference, you do not need the endpoint any more. You can terminate the endpoint to avoid being charged."
   ]
  },
  {
   "cell_type": "code",
   "execution_count": 30,
   "metadata": {
    "tags": []
   },
   "outputs": [
    {
     "name": "stderr",
     "output_type": "stream",
     "text": [
      "INFO:sagemaker:Deleting endpoint with name: en-resolve-medication\n",
      "INFO:sagemaker:Deleting endpoint configuration with name: en-resolve-medication\n"
     ]
    }
   ],
   "source": [
    "model.sagemaker_session.delete_endpoint(model_name)\n",
    "model.sagemaker_session.delete_endpoint_config(model_name)"
   ]
  },
  {
   "cell_type": "markdown",
   "metadata": {
    "tags": []
   },
   "source": [
    "## 3. Batch inference"
   ]
  },
  {
   "cell_type": "code",
   "execution_count": 31,
   "metadata": {
    "tags": []
   },
   "outputs": [],
   "source": [
    "import json\n",
    "import os\n",
    "\n",
    "input_dir = 'inputs/batch'\n",
    "json_input_dir = f\"{input_dir}/json\"\n",
    "jsonl_input_dir = f\"{input_dir}/jsonl\"\n",
    "\n",
    "output_dir = 'outputs/batch'\n",
    "json_output_dir = f\"{output_dir}/json\"\n",
    "jsonl_output_dir = f\"{output_dir}/jsonl\"\n",
    "\n",
    "os.makedirs(json_input_dir, exist_ok=True)\n",
    "os.makedirs(jsonl_input_dir, exist_ok=True)\n",
    "os.makedirs(json_output_dir, exist_ok=True)\n",
    "os.makedirs(jsonl_output_dir, exist_ok=True)\n",
    "\n",
    "validation_json_file_name = \"input.json\"\n",
    "\n",
    "validation_jsonl_file_name = \"input.jsonl\"\n",
    "\n",
    "validation_input_json_path = f\"s3://{s3_bucket}/{model_name}/validation-input/batch/json/\"\n",
    "validation_output_json_path = f\"s3://{s3_bucket}/{model_name}/validation-output/batch/json/\"\n",
    "\n",
    "validation_input_jsonl_path = f\"s3://{s3_bucket}/{model_name}/validation-input/batch/jsonl/\"\n",
    "validation_output_jsonl_path = f\"s3://{s3_bucket}/{model_name}/validation-output/batch/jsonl/\"\n",
    "\n",
    "def write_and_upload_to_s3(input_data, file_name):\n",
    "    file_format = os.path.splitext(file_name)[1].lower()\n",
    "    if file_format == \".json\":\n",
    "        input_data = json.dumps(input_data)\n",
    "\n",
    "    with open(file_name, \"w\") as f:\n",
    "        f.write(input_data)\n",
    "\n",
    "    s3_client.put_object(\n",
    "        Bucket=s3_bucket,\n",
    "        Key=f\"{model_name}/validation-input/batch/{file_format[1:]}/{os.path.basename(file_name)}\",\n",
    "        Body=(bytes(input_data.encode(\"UTF-8\"))),\n",
    "    )"
   ]
  },
  {
   "cell_type": "code",
   "execution_count": 32,
   "metadata": {
    "tags": []
   },
   "outputs": [],
   "source": [
    "input_jsonl_data = create_jsonl(docs)\n",
    "input_json_data = {\"text\": docs}\n",
    "\n",
    "write_and_upload_to_s3(input_json_data, f\"{json_input_dir}/{validation_json_file_name}\")\n",
    "\n",
    "write_and_upload_to_s3(input_jsonl_data, f\"{jsonl_input_dir}/{validation_jsonl_file_name}\")"
   ]
  },
  {
   "cell_type": "markdown",
   "metadata": {},
   "source": [
    "### JSON"
   ]
  },
  {
   "cell_type": "code",
   "execution_count": null,
   "metadata": {
    "tags": []
   },
   "outputs": [],
   "source": [
    "# Initialize a SageMaker Transformer object for making predictions\n",
    "transformer = model.transformer(\n",
    "    instance_count=1,\n",
    "    instance_type=batch_transform_inference_instance_type,\n",
    "    accept=\"application/json\",\n",
    "    output_path=validation_output_json_path\n",
    ")\n",
    "\n",
    "transformer.transform(validation_input_json_path, content_type=\"application/json\")\n",
    "transformer.wait()"
   ]
  },
  {
   "cell_type": "code",
   "execution_count": 34,
   "metadata": {
    "tags": []
   },
   "outputs": [],
   "source": [
    "from urllib.parse import urlparse\n",
    "\n",
    "def process_s3_json_output_and_save(validation_file_name):\n",
    "\n",
    "    output_file_path = f\"{json_output_dir}/{validation_file_name}.out\"\n",
    "    parsed_url = urlparse(transformer.output_path)\n",
    "    file_key = f\"{parsed_url.path[1:]}{validation_file_name}.out\"\n",
    "    response = s3_client.get_object(Bucket=s3_bucket, Key=file_key)\n",
    "\n",
    "    data = json.loads(response[\"Body\"].read().decode(\"utf-8\"))\n",
    "    df = pd.DataFrame(data[\"predictions\"])\n",
    "    display(df)\n",
    "\n",
    "    # Save the data to the output file\n",
    "    with open(output_file_path, 'w') as f_out:\n",
    "        json.dump(data, f_out, indent=4)"
   ]
  },
  {
   "cell_type": "code",
   "execution_count": 35,
   "metadata": {
    "tags": []
   },
   "outputs": [
    {
     "data": {
      "text/html": [
       "<div>\n",
       "<style scoped>\n",
       "    .dataframe tbody tr th:only-of-type {\n",
       "        vertical-align: middle;\n",
       "    }\n",
       "\n",
       "    .dataframe tbody tr th {\n",
       "        vertical-align: top;\n",
       "    }\n",
       "\n",
       "    .dataframe thead th {\n",
       "        text-align: right;\n",
       "    }\n",
       "</style>\n",
       "<table border=\"1\" class=\"dataframe\">\n",
       "  <thead>\n",
       "    <tr style=\"text-align: right;\">\n",
       "      <th></th>\n",
       "      <th>document</th>\n",
       "      <th>ner_chunk</th>\n",
       "      <th>begin</th>\n",
       "      <th>end</th>\n",
       "      <th>ner_label</th>\n",
       "      <th>ner_confidence</th>\n",
       "      <th>ade</th>\n",
       "      <th>rxnorm_code</th>\n",
       "      <th>action</th>\n",
       "      <th>treatment</th>\n",
       "      <th>umls_code</th>\n",
       "      <th>snomed_ct_code</th>\n",
       "      <th>product_ndc</th>\n",
       "      <th>package_ndc</th>\n",
       "    </tr>\n",
       "  </thead>\n",
       "  <tbody>\n",
       "    <tr>\n",
       "      <th>0</th>\n",
       "      <td>The patient was given Adapin 10 MG, coumadin 5mg</td>\n",
       "      <td>Adapin 10 MG</td>\n",
       "      <td>22</td>\n",
       "      <td>33</td>\n",
       "      <td>DRUG</td>\n",
       "      <td>0.6684</td>\n",
       "      <td>NONE</td>\n",
       "      <td>1000049</td>\n",
       "      <td>NONE</td>\n",
       "      <td>NONE</td>\n",
       "      <td>NONE</td>\n",
       "      <td>NONE</td>\n",
       "      <td>NONE</td>\n",
       "      <td>NONE</td>\n",
       "    </tr>\n",
       "    <tr>\n",
       "      <th>1</th>\n",
       "      <td>The patient was given Adapin 10 MG, coumadin 5mg</td>\n",
       "      <td>coumadin 5mg</td>\n",
       "      <td>36</td>\n",
       "      <td>47</td>\n",
       "      <td>DRUG</td>\n",
       "      <td>0.6889</td>\n",
       "      <td>NONE</td>\n",
       "      <td>855333</td>\n",
       "      <td>Anticoagulant</td>\n",
       "      <td>Cerebrovascular Accident</td>\n",
       "      <td>C2709920</td>\n",
       "      <td>NONE</td>\n",
       "      <td>NONE</td>\n",
       "      <td>NONE</td>\n",
       "    </tr>\n",
       "    <tr>\n",
       "      <th>2</th>\n",
       "      <td>She is given folic acid 1 mg daily , levothyroxine 0.1 mg and aspirin 81 mg daily.</td>\n",
       "      <td>folic acid 1 mg</td>\n",
       "      <td>13</td>\n",
       "      <td>27</td>\n",
       "      <td>DRUG</td>\n",
       "      <td>0.67852503</td>\n",
       "      <td>Dyspnoea</td>\n",
       "      <td>315966</td>\n",
       "      <td>NONE</td>\n",
       "      <td>NONE</td>\n",
       "      <td>C0986175</td>\n",
       "      <td>NONE</td>\n",
       "      <td>11528-0135</td>\n",
       "      <td>11528-0135-01</td>\n",
       "    </tr>\n",
       "    <tr>\n",
       "      <th>3</th>\n",
       "      <td>She is given folic acid 1 mg daily , levothyroxine 0.1 mg and aspirin 81 mg daily.</td>\n",
       "      <td>levothyroxine 0.1 mg</td>\n",
       "      <td>37</td>\n",
       "      <td>56</td>\n",
       "      <td>DRUG</td>\n",
       "      <td>0.8457667</td>\n",
       "      <td>Dyspnoea</td>\n",
       "      <td>1115267</td>\n",
       "      <td>NONE</td>\n",
       "      <td>NONE</td>\n",
       "      <td>C3162905</td>\n",
       "      <td>NONE</td>\n",
       "      <td>42023-0201</td>\n",
       "      <td>42023-0201-01</td>\n",
       "    </tr>\n",
       "    <tr>\n",
       "      <th>4</th>\n",
       "      <td>She is given folic acid 1 mg daily , levothyroxine 0.1 mg and aspirin 81 mg daily.</td>\n",
       "      <td>aspirin 81 mg</td>\n",
       "      <td>62</td>\n",
       "      <td>74</td>\n",
       "      <td>DRUG</td>\n",
       "      <td>0.72886664</td>\n",
       "      <td>Pyrexia</td>\n",
       "      <td>434451</td>\n",
       "      <td>NONE</td>\n",
       "      <td>NONE</td>\n",
       "      <td>C1363721</td>\n",
       "      <td>NONE</td>\n",
       "      <td>NONE</td>\n",
       "      <td>NONE</td>\n",
       "    </tr>\n",
       "    <tr>\n",
       "      <th>5</th>\n",
       "      <td>The doctor prescribed Lisinopril 20 MG once daily for hypertension.</td>\n",
       "      <td>Lisinopril 20 MG</td>\n",
       "      <td>22</td>\n",
       "      <td>37</td>\n",
       "      <td>DRUG</td>\n",
       "      <td>0.6994</td>\n",
       "      <td>NONE</td>\n",
       "      <td>314077</td>\n",
       "      <td>NONE</td>\n",
       "      <td>NONE</td>\n",
       "      <td>C0981556</td>\n",
       "      <td>318860005</td>\n",
       "      <td>00143-1268</td>\n",
       "      <td>00143-9713-01</td>\n",
       "    </tr>\n",
       "  </tbody>\n",
       "</table>\n",
       "</div>"
      ],
      "text/plain": [
       "                                                                             document  \\\n",
       "0                                    The patient was given Adapin 10 MG, coumadin 5mg   \n",
       "1                                    The patient was given Adapin 10 MG, coumadin 5mg   \n",
       "2  She is given folic acid 1 mg daily , levothyroxine 0.1 mg and aspirin 81 mg daily.   \n",
       "3  She is given folic acid 1 mg daily , levothyroxine 0.1 mg and aspirin 81 mg daily.   \n",
       "4  She is given folic acid 1 mg daily , levothyroxine 0.1 mg and aspirin 81 mg daily.   \n",
       "5                 The doctor prescribed Lisinopril 20 MG once daily for hypertension.   \n",
       "\n",
       "              ner_chunk  begin  end ner_label ner_confidence       ade  \\\n",
       "0          Adapin 10 MG     22   33      DRUG         0.6684      NONE   \n",
       "1          coumadin 5mg     36   47      DRUG         0.6889      NONE   \n",
       "2       folic acid 1 mg     13   27      DRUG     0.67852503  Dyspnoea   \n",
       "3  levothyroxine 0.1 mg     37   56      DRUG      0.8457667  Dyspnoea   \n",
       "4         aspirin 81 mg     62   74      DRUG     0.72886664   Pyrexia   \n",
       "5      Lisinopril 20 MG     22   37      DRUG         0.6994      NONE   \n",
       "\n",
       "  rxnorm_code         action                 treatment umls_code  \\\n",
       "0     1000049           NONE                      NONE      NONE   \n",
       "1      855333  Anticoagulant  Cerebrovascular Accident  C2709920   \n",
       "2      315966           NONE                      NONE  C0986175   \n",
       "3     1115267           NONE                      NONE  C3162905   \n",
       "4      434451           NONE                      NONE  C1363721   \n",
       "5      314077           NONE                      NONE  C0981556   \n",
       "\n",
       "  snomed_ct_code product_ndc    package_ndc  \n",
       "0           NONE        NONE           NONE  \n",
       "1           NONE        NONE           NONE  \n",
       "2           NONE  11528-0135  11528-0135-01  \n",
       "3           NONE  42023-0201  42023-0201-01  \n",
       "4           NONE        NONE           NONE  \n",
       "5      318860005  00143-1268  00143-9713-01  "
      ]
     },
     "metadata": {},
     "output_type": "display_data"
    }
   ],
   "source": [
    "process_s3_json_output_and_save(validation_json_file_name)"
   ]
  },
  {
   "cell_type": "markdown",
   "metadata": {},
   "source": [
    "### JSON Lines"
   ]
  },
  {
   "cell_type": "code",
   "execution_count": null,
   "metadata": {
    "tags": []
   },
   "outputs": [],
   "source": [
    "transformer = model.transformer(\n",
    "    instance_count=1,\n",
    "    instance_type=batch_transform_inference_instance_type,\n",
    "    accept=\"application/jsonlines\",\n",
    "    output_path=validation_output_jsonl_path\n",
    ")\n",
    "transformer.transform(validation_input_jsonl_path, content_type=\"application/jsonlines\")\n",
    "transformer.wait()"
   ]
  },
  {
   "cell_type": "code",
   "execution_count": 37,
   "metadata": {
    "tags": []
   },
   "outputs": [],
   "source": [
    "from urllib.parse import urlparse\n",
    "\n",
    "def process_s3_jsonlines_output_and_save(validation_file_name):\n",
    "\n",
    "    output_file_path = f\"{jsonl_output_dir}/{validation_file_name}.out\"\n",
    "    parsed_url = urlparse(transformer.output_path)\n",
    "    file_key = f\"{parsed_url.path[1:]}{validation_file_name}.out\"\n",
    "    response = s3_client.get_object(Bucket=s3_bucket, Key=file_key)\n",
    "\n",
    "    data = response[\"Body\"].read().decode(\"utf-8\")\n",
    "    print(data)\n",
    "\n",
    "    # Save the data to the output file\n",
    "    with open(output_file_path, 'w') as f_out:\n",
    "        for item in data.split('\\n'):\n",
    "            f_out.write(item + '\\n')"
   ]
  },
  {
   "cell_type": "code",
   "execution_count": 38,
   "metadata": {
    "tags": []
   },
   "outputs": [
    {
     "name": "stdout",
     "output_type": "stream",
     "text": [
      "{\"predictions\": [{\"ner_chunk\": \"Adapin 10 MG\", \"begin\": 22, \"end\": 33, \"ner_label\": \"DRUG\", \"ner_confidence\": \"0.6684\", \"ade\": \"NONE\", \"rxnorm_code\": \"1000049\", \"action\": \"NONE\", \"treatment\": \"NONE\", \"umls_code\": \"NONE\", \"snomed_ct_code\": \"NONE\", \"product_ndc\": \"NONE\", \"package_ndc\": \"NONE\"}, {\"ner_chunk\": \"coumadin 5mg\", \"begin\": 36, \"end\": 47, \"ner_label\": \"DRUG\", \"ner_confidence\": \"0.6889\", \"ade\": \"NONE\", \"rxnorm_code\": \"855333\", \"action\": \"Anticoagulant\", \"treatment\": \"Cerebrovascular Accident\", \"umls_code\": \"C2709920\", \"snomed_ct_code\": \"NONE\", \"product_ndc\": \"NONE\", \"package_ndc\": \"NONE\"}]}\n",
      "{\"predictions\": [{\"ner_chunk\": \"folic acid 1 mg\", \"begin\": 13, \"end\": 27, \"ner_label\": \"DRUG\", \"ner_confidence\": \"0.67852503\", \"ade\": \"Dyspnoea\", \"rxnorm_code\": \"315966\", \"action\": \"NONE\", \"treatment\": \"NONE\", \"umls_code\": \"C0986175\", \"snomed_ct_code\": \"NONE\", \"product_ndc\": \"11528-0135\", \"package_ndc\": \"11528-0135-01\"}, {\"ner_chunk\": \"levothyroxine 0.1 mg\", \"begin\": 37, \"end\": 56, \"ner_label\": \"DRUG\", \"ner_confidence\": \"0.8457667\", \"ade\": \"Dyspnoea\", \"rxnorm_code\": \"1115267\", \"action\": \"NONE\", \"treatment\": \"NONE\", \"umls_code\": \"C3162905\", \"snomed_ct_code\": \"NONE\", \"product_ndc\": \"42023-0201\", \"package_ndc\": \"42023-0201-01\"}, {\"ner_chunk\": \"aspirin 81 mg\", \"begin\": 62, \"end\": 74, \"ner_label\": \"DRUG\", \"ner_confidence\": \"0.72886664\", \"ade\": \"Pyrexia\", \"rxnorm_code\": \"434451\", \"action\": \"NONE\", \"treatment\": \"NONE\", \"umls_code\": \"C1363721\", \"snomed_ct_code\": \"NONE\", \"product_ndc\": \"NONE\", \"package_ndc\": \"NONE\"}]}\n",
      "{\"predictions\": [{\"ner_chunk\": \"Lisinopril 20 MG\", \"begin\": 22, \"end\": 37, \"ner_label\": \"DRUG\", \"ner_confidence\": \"0.6994\", \"ade\": \"NONE\", \"rxnorm_code\": \"314077\", \"action\": \"NONE\", \"treatment\": \"NONE\", \"umls_code\": \"C0981556\", \"snomed_ct_code\": \"318860005\", \"product_ndc\": \"00143-1268\", \"package_ndc\": \"00143-9713-01\"}]}\n"
     ]
    }
   ],
   "source": [
    "process_s3_jsonlines_output_and_save(validation_jsonl_file_name)"
   ]
  },
  {
   "cell_type": "code",
   "execution_count": 39,
   "metadata": {
    "tags": []
   },
   "outputs": [
    {
     "name": "stderr",
     "output_type": "stream",
     "text": [
      "INFO:sagemaker:Deleting model with name: en-resolve-medication-2024-05-17-08-03-47-873\n"
     ]
    }
   ],
   "source": [
    "model.delete_model()"
   ]
  },
  {
   "cell_type": "markdown",
   "metadata": {},
   "source": [
    "### Unsubscribe to the listing (optional)"
   ]
  },
  {
   "cell_type": "markdown",
   "metadata": {
    "tags": []
   },
   "source": [
    "If you would like to unsubscribe to the model package, follow these steps. Before you cancel the subscription, ensure that you do not have any [deployable model](https://console.aws.amazon.com/sagemaker/home#/models) created from the model package or using the algorithm. Note - You can find this information by looking at the container name associated with the model. \n",
    "\n",
    "**Steps to unsubscribe to product from AWS Marketplace**:\n",
    "1. Navigate to __Machine Learning__ tab on [__Your Software subscriptions page__](https://aws.amazon.com/marketplace/ai/library?productType=ml&ref_=mlmp_gitdemo_indust)\n",
    "2. Locate the listing that you want to cancel the subscription for, and then choose __Cancel Subscription__  to cancel the subscription.\n",
    "\n"
   ]
  }
 ],
 "metadata": {
  "instance_type": "ml.t3.medium",
  "kernelspec": {
   "display_name": "conda_python3",
   "language": "python",
   "name": "conda_python3"
  },
  "language_info": {
   "codemirror_mode": {
    "name": "ipython",
    "version": 3
   },
   "file_extension": ".py",
   "mimetype": "text/x-python",
   "name": "python",
   "nbconvert_exporter": "python",
   "pygments_lexer": "ipython3",
   "version": "3.10.14"
  }
 },
 "nbformat": 4,
 "nbformat_minor": 4
}

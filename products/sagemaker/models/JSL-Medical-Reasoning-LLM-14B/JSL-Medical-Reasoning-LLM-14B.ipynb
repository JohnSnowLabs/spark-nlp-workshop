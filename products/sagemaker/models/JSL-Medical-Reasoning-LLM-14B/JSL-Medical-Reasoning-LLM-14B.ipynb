{
 "cells": [
  {
   "cell_type": "markdown",
   "id": "82a4cf96-c239-49cc-88f9-a8e885bde191",
   "metadata": {},
   "source": [
    "## 1. Subscribe to the model package"
   ]
  },
  {
   "cell_type": "markdown",
   "id": "982d6ab4-d03d-4a5a-ab23-144d8e6ec3d6",
   "metadata": {},
   "source": [
    "To subscribe to the model package:\n",
    "1. Open the model package listing page [Medical Reasoning LLM - 14B]()\n",
    "1. On the AWS Marketplace listing, click on the **Continue to subscribe** button.\n",
    "1. On the **Subscribe to this software** page, review and click on **\"Accept Offer\"** if you and your organization agrees with EULA, pricing, and support terms. \n",
    "1. Once you click on **Continue to configuration button** and then choose a **region**, you will see a **Product Arn** displayed. This is the model package ARN that you need to specify while creating a deployable model using Boto3. Copy the ARN corresponding to your region and specify the same in the following cell."
   ]
  },
  {
   "cell_type": "markdown",
   "id": "dad4b722-a125-4219-9c22-009acf75414d",
   "metadata": {},
   "source": [
    "- **Model**: `JSL-Medical-Reasoning-LLM-14B`\n",
    "- **Model Description**: Medical model for summarization, question answering (open-book and closed-book), and general chat."
   ]
  },
  {
   "cell_type": "code",
   "execution_count": null,
   "id": "9d1fb27b-e0ad-4759-937d-ae4edc209fc1",
   "metadata": {
    "tags": []
   },
   "outputs": [],
   "source": [
    "model_package_arn = \"<Customer to specify Model package ARN corresponding to their AWS region>\""
   ]
  },
  {
   "cell_type": "code",
   "execution_count": null,
   "id": "76ede1bf-2acb-4b5d-9db1-299abfeee20b",
   "metadata": {
    "tags": []
   },
   "outputs": [],
   "source": [
    "import os\n",
    "import base64\n",
    "import json\n",
    "import uuid\n",
    "from sagemaker import ModelPackage\n",
    "import sagemaker as sage\n",
    "from sagemaker import get_execution_role\n",
    "import boto3\n",
    "from IPython.display import Image, display\n",
    "from PIL import Image as ImageEdit\n",
    "import numpy as np\n",
    "import pandas as pd\n",
    "\n",
    "pd.set_option('display.max_rows', None)\n",
    "pd.set_option('display.max_columns', None)\n",
    "pd.set_option('display.max_colwidth', None)\n",
    "\n",
    "sagemaker_session = sage.Session()\n",
    "s3_bucket = sagemaker_session.default_bucket()\n",
    "region = sagemaker_session.boto_region_name\n",
    "account_id = boto3.client(\"sts\").get_caller_identity().get(\"Account\")\n",
    "role = get_execution_role()\n",
    "\n",
    "sagemaker = boto3.client(\"sagemaker\")\n",
    "s3_client = sagemaker_session.boto_session.client(\"s3\")\n",
    "ecr = boto3.client(\"ecr\")\n",
    "sm_runtime = boto3.client(\"sagemaker-runtime\")"
   ]
  },
  {
   "cell_type": "code",
   "execution_count": null,
   "id": "07846ed0-ed90-4a11-a77c-00d1c3ca3cbd",
   "metadata": {
    "tags": []
   },
   "outputs": [],
   "source": [
    "model_name = \"JSL-Medical-Reasoning-LLM-14B\"\n",
    "\n",
    "real_time_inference_instance_type = \"ml.g4dn.12xlarge\"\n",
    "batch_transform_inference_instance_type = \"ml.g4dn.12xlarge\""
   ]
  },
  {
   "cell_type": "markdown",
   "id": "08a626b7-f295-4c49-b856-ce237d5d3203",
   "metadata": {},
   "source": [
    "## 2. Create a deployable model from the model package."
   ]
  },
  {
   "cell_type": "code",
   "execution_count": 30,
   "id": "0e39b84b-7a9f-4004-a204-56af1fd555f1",
   "metadata": {
    "tags": []
   },
   "outputs": [],
   "source": [
    "# Define ModelPackage\n",
    "model = ModelPackage(\n",
    "    role=role, \n",
    "    model_package_arn=model_package_arn, \n",
    "    sagemaker_session=sagemaker_session, \n",
    ")"
   ]
  },
  {
   "cell_type": "markdown",
   "id": "9e3a3a54-98d8-4a8a-b812-c33db9a2aa7d",
   "metadata": {},
   "source": [
    "## Model Configuration Documentation  \n",
    "\n",
    "### Default Configuration  \n",
    "The container comes with the following default configurations:  \n",
    "\n",
    "| Parameter                  | Default Value | Description                                                                   |  \n",
    "|----------------------------|---------------|-------------------------------------------------------------------------------|  \n",
    "| **`dtype`**                | `float16`     | Data type for model weights and activations                                   |  \n",
    "| **`max_model_len`**        | `32,768`      | Maximum length for input and output combined (`input + output ≤ max_model_len`) |  \n",
    "| **`tensor_parallel_size`** | Auto          | Automatically set to the number of available GPUs                            |  \n",
    "| **`host`**                 | `0.0.0.0`     | Host name                                                                     |  \n",
    "| **`port`**                 | `8080`        | Port number                                                                   |  \n",
    "\n",
    "### Hardcoded Settings  \n",
    "The following settings are hardcoded in the container and cannot be changed:  \n",
    "\n",
    "| Parameter       | Value           | Description                           |  \n",
    "|-----------------|-----------------|---------------------------------------|  \n",
    "| **`model`**     | `/opt/ml/model` | Model path where SageMaker mounts the model |  \n",
    "\n",
    "### Configurable Environment Variables  \n",
    "You can customize the vLLM server by setting environment variables when creating the model.  \n",
    "\n",
    "**Any parameter from the [vLLM documentation](https://docs.vllm.ai/en/latest/serving/openai_compatible_server.html#vllm-serve) can be set using the corresponding environment variable with the `SM_VLLM_` prefix.**  \n",
    "\n",
    "The container uses a script similar to the [SageMaker entrypoint example](https://docs.vllm.ai/en/latest/examples/sagemaker_entrypoint.html) from the vLLM documentation to convert environment variables to command-line arguments.  \n",
    "\n",
    "---  \n",
    "\n",
    "## Input Format  \n",
    "\n",
    "### 1. Chat Completion  \n",
    "\n",
    "#### Example Payload  \n",
    "```json  \n",
    "{  \n",
    "    \"model\": \"/opt/ml/model\",  \n",
    "    \"messages\": [  \n",
    "        {\"role\": \"system\", \"content\": \"You are a helpful medical assistant.\"},  \n",
    "        {\"role\": \"user\", \"content\": \"What should I do if I have a fever and body aches?\"}  \n",
    "    ],  \n",
    "    \"max_tokens\": 1024,  \n",
    "    \"temperature\": 0.7  \n",
    "}  \n",
    "```  \n",
    "\n",
    "For additional parameters:  \n",
    "- [ChatCompletionRequest](https://github.com/vllm-project/vllm/blob/v0.7.3/vllm/entrypoints/openai/protocol.py#L212)  \n",
    "- [OpenAI's Chat API](https://platform.openai.com/docs/api-reference/chat/create)  \n",
    "\n",
    "---  \n",
    "\n",
    "### 2. Text Completion  \n",
    "\n",
    "#### Single Prompt Example  \n",
    "```json  \n",
    "{  \n",
    "    \"model\": \"/opt/ml/model\",  \n",
    "    \"prompt\": \"How can I maintain good kidney health?\",  \n",
    "    \"max_tokens\": 512,  \n",
    "    \"temperature\": 0.6  \n",
    "}  \n",
    "```  \n",
    "\n",
    "#### Multiple Prompts Example  \n",
    "```json  \n",
    "{  \n",
    "    \"model\": \"/opt/ml/model\",  \n",
    "    \"prompt\": [  \n",
    "        \"How can I maintain good kidney health?\",  \n",
    "        \"What are the best practices for kidney care?\"  \n",
    "    ],  \n",
    "    \"max_tokens\": 512,  \n",
    "    \"temperature\": 0.6  \n",
    "}  \n",
    "```  \n",
    "\n",
    "Reference:  \n",
    "- [CompletionRequest](https://github.com/vllm-project/vllm/blob/v0.7.3/vllm/entrypoints/openai/protocol.py#L642)  \n",
    "- [OpenAI's Completions API](https://platform.openai.com/docs/api-reference/completions/create)  \n",
    "\n",
    "---  \n",
    "\n",
    "### Important Notes:\n",
    "- **Streaming Responses:** Add `\"stream\": true` to your request payload to enable streaming\n",
    "- **Model Path Requirement:** Always set `\"model\": \"/opt/ml/model\"` (SageMaker's fixed model location)"
   ]
  },
  {
   "cell_type": "markdown",
   "id": "6a846275-5af5-4679-9c52-d35ab157455b",
   "metadata": {},
   "source": [
    "## 3. Create an SageMaker Endpoint"
   ]
  },
  {
   "cell_type": "markdown",
   "id": "01b670fa-60d4-45a4-a0d6-3e8e2845b625",
   "metadata": {},
   "source": [
    "If you want to understand how real-time inference with Amazon SageMaker works, see [Documentation](https://docs.aws.amazon.com/sagemaker/latest/dg/how-it-works-hosting.html)."
   ]
  },
  {
   "cell_type": "code",
   "execution_count": null,
   "id": "8c19c0c0-3ead-4834-8c02-a192da19080b",
   "metadata": {
    "tags": []
   },
   "outputs": [],
   "source": [
    "# Deploy the model\n",
    "predictor = model.deploy(\n",
    "    initial_instance_count=1,\n",
    "    instance_type=real_time_inference_instance_type, \n",
    "    endpoint_name=model_name,\n",
    "    model_data_download_timeout=3600\n",
    ")"
   ]
  },
  {
   "cell_type": "markdown",
   "id": "23d5c01b-b884-49c6-8b74-98911f6d8e5b",
   "metadata": {},
   "source": [
    "### 3.1 Real-time inference via Amazon SageMaker Endpoint"
   ]
  },
  {
   "cell_type": "markdown",
   "id": "07f13be5-3f3b-45db-829d-b99d4584913f",
   "metadata": {},
   "source": [
    "#### Initial setup"
   ]
  },
  {
   "cell_type": "code",
   "execution_count": 41,
   "id": "7b61fa7d-8d76-476f-91e2-8fea89e7dfa5",
   "metadata": {
    "tags": []
   },
   "outputs": [],
   "source": [
    "prompt1 = \"\"\"A 23-year-old pregnant woman at 22 weeks gestation presents with burning upon urination. She states it started 1 day ago and has been worsening despite drinking more water and taking cranberry extract. She otherwise feels well and is followed by a doctor for her pregnancy. Her temperature is 97.7°F (36.5°C), blood pressure is 122/77 mmHg, pulse is 80/min, respirations are 19/min, and oxygen saturation is 98% on room air. Physical exam is notable for an absence of costovertebral angle tenderness and a gravid uterus.\n",
    "\n",
    "Which of the following is the best treatment for this patient?\n",
    "A: Ampicillin\n",
    "B: Ceftriaxone\n",
    "C: Ciprofloxacin\n",
    "D: Doxycycline\n",
    "E: Nitrofurantoin\n",
    "\"\"\"\n",
    "\n",
    "prompt2 = \"What should I do if I have a fever and body aches?\"\n",
    "\n",
    "prompts = [\n",
    "    \"How can I maintain good kidney health?\",\n",
    "    \"What are the symptoms of high blood pressure?\"\n",
    "]"
   ]
  },
  {
   "cell_type": "code",
   "execution_count": 42,
   "id": "5c195a50-43e4-4341-ad1d-23ca6f0aa45b",
   "metadata": {
    "tags": []
   },
   "outputs": [],
   "source": [
    "import time\n",
    "\n",
    "def invoke_realtime_endpoint(record):\n",
    "\n",
    "    response = sm_runtime.invoke_endpoint(\n",
    "        EndpointName=model_name,\n",
    "        ContentType=\"application/json\",\n",
    "        Accept=\"application/json\",\n",
    "        Body=json.dumps(record),\n",
    "    )\n",
    "\n",
    "    return json.load(response[\"Body\"])"
   ]
  },
  {
   "cell_type": "markdown",
   "id": "e9a475e7-ad31-4b3b-b7b5-21310f541252",
   "metadata": {
    "tags": []
   },
   "source": [
    "#### Chat Completion"
   ]
  },
  {
   "cell_type": "code",
   "execution_count": 43,
   "id": "d1a3ab1a-f557-4d73-9301-dfb5f884cc5b",
   "metadata": {
    "tags": []
   },
   "outputs": [
    {
     "name": "stdout",
     "output_type": "stream",
     "text": [
      "The patient presents with symptoms of a urinary tract infection (UTI) during pregnancy, specifically burning upon urination, which has not improved despite home remedies. Given her gestational age (22 weeks) and the absence of systemic symptoms like fever, the most appropriate first-line treatment for an uncomplicated UTI in pregnancy is an antibiotic that is both safe for the mother and the fetus.\n",
      "\n",
      "**Ampicillin** (Option A) is typically used for treating infections such as UTIs in pregnant women, but it is not the most appropriate choice here because it is no longer often recommended as a first-line treatment due to increasing resistance. Additionally, it may not cover the common pathogens responsible for UTIs in pregnant women.\n",
      "\n",
      "**Ciprofloxacin** (Option C) and **Doxycycline** (Option D) are **contraindicated** in pregnancy due to potential risks to the fetus, including joint abnormalities with doxycycline and cartilage toxicity with ciprofloxacin.\n",
      "\n",
      "**Ceftriaxone** (Option B) is a broad-spectrum antibiotic that can be used in pregnancy, but it is typically reserved for more severe infections or when there is a need for intramuscular or intravenous treatment. For a simple UTI, oral antibiotics are preferred.\n",
      "\n",
      "**Nitrofurantoin** (Option E) is an appropriate and commonly used first-line oral antibiotic for treating uncomplicated UTIs in pregnancy. It is considered safe for both the mother and the fetus when used for short-term treatment.\n",
      "\n",
      "Given the patient's presentation and her gestational age, **Nitrofurantoin** is the best treatment option for her uncomplicated UTI. \n",
      "\n",
      "**Answer: E: Nitrofurantoin**\n"
     ]
    }
   ],
   "source": [
    "input_data = {\n",
    "    \"model\": \"/opt/ml/model\",\n",
    "    \"messages\": [\n",
    "        {\"role\": \"system\", \"content\": \"You are a helpful medical assistant.\"},\n",
    "        {\"role\": \"user\", \"content\": prompt1},\n",
    "    ],\n",
    "    \"max_tokens\": 2048,\n",
    "    \"temperature\": 0.7,\n",
    "}\n",
    "\n",
    "result = invoke_realtime_endpoint(input_data)\n",
    "output_content = result['choices'][0]['message']['content']\n",
    "print(output_content)"
   ]
  },
  {
   "cell_type": "markdown",
   "id": "d1a76aec-391a-44e9-b385-99aa62f1b4bf",
   "metadata": {},
   "source": [
    "#### Text Completion"
   ]
  },
  {
   "cell_type": "code",
   "execution_count": 45,
   "id": "0c06b069-e3d8-48f4-9c09-fec59143ed11",
   "metadata": {
    "tags": []
   },
   "outputs": [
    {
     "name": "stdout",
     "output_type": "stream",
     "text": [
      " If you have a fever and body aches, here are some steps to take:\n",
      "\n",
      "1. **Rest**: Get plenty of rest to help your body fight off the illness.\n",
      "\n",
      "2. **Stay Hydrated**: Drink plenty of fluids like water, clear broths, or fruit juices to maintain your hydration levels.\n",
      "\n",
      "3. **Take Medications**: Over-the-counter medications such as acetaminophen (Tylenol) or ibuprofen (Advil) can help reduce fever and alleviate body aches. Make sure to follow the recommended dosages and consult a healthcare provider if you have any underlying health conditions or are taking other medications.\n",
      "\n",
      "4. **Use Fever-Reducing Measures**: Cool compresses or a lukewarm bath can help lower a high fever.\n",
      "\n",
      "5. **Monitor Your Symptoms**: Keep an eye on any changes in your condition. If your symptoms worsen, persist for more than a few days, or if you experience additional concerning symptoms (such as difficulty breathing, persistent vomiting, severe headache, or rash), seek medical care promptly.\n",
      "\n",
      "6. **Practice Good Hygiene**: Wash your hands frequently and cover your mouth and nose when coughing or sneezing to avoid spreading any potential infections to others.\n",
      "\n",
      "If you have any underlying medical conditions, are pregnant, or have concerns about your symptoms, it's important to consult your healthcare provider for personalized advice and treatment. They can determine whether your symptoms require medical attention or if they are likely to resolve on their own with home care. Additionally, if you are unsure about the cause of your symptoms, especially during current public health situations, reaching out to a healthcare provider can provide clarity and necessary guidance. **Please note**: This information is not a substitute for professional medical advice. If you have any medical concerns, it's always best to consult a healthcare professional.\n"
     ]
    }
   ],
   "source": [
    "input_data ={\n",
    "        \"model\": \"/opt/ml/model\",\n",
    "        \"prompt\": prompt2,\n",
    "        \"max_tokens\": 2048,\n",
    "        \"temperature\": 0.7,\n",
    "    }\n",
    "\n",
    "result = invoke_realtime_endpoint(input_data)\n",
    "output_text = result['choices'][0]['text']\n",
    "print(output_text)"
   ]
  },
  {
   "cell_type": "markdown",
   "id": "ccccf37b-9dee-4d38-a0dc-38f2aeaeb780",
   "metadata": {},
   "source": [
    "### 3.2 Real-time inference response as a stream via Amazon SageMaker Endpoint"
   ]
  },
  {
   "cell_type": "code",
   "execution_count": 47,
   "id": "dac2fe86-af82-4ae5-a838-162f65e6d0b1",
   "metadata": {
    "tags": []
   },
   "outputs": [],
   "source": [
    "def invoke_streaming_endpoint(record):\n",
    "    try:\n",
    "        response = sm_runtime.invoke_endpoint_with_response_stream(\n",
    "            EndpointName=model_name,\n",
    "            Body=json.dumps(record),\n",
    "            ContentType=\"application/json\",\n",
    "            Accept=\"text/event-stream\"\n",
    "        )\n",
    "\n",
    "        for event in response[\"Body\"]:\n",
    "            if \"PayloadPart\" in event:\n",
    "                chunk = event[\"PayloadPart\"][\"Bytes\"].decode(\"utf-8\")\n",
    "                if chunk.startswith(\"data:\"):\n",
    "                    try:\n",
    "                        data = json.loads(chunk[5:].strip())\n",
    "                        if \"choices\" in data and len(data[\"choices\"]) > 0:\n",
    "                            choice = data[\"choices\"][0]\n",
    "                            if \"text\" in choice:\n",
    "                                yield choice[\"text\"]\n",
    "                            elif \"delta\" in choice and \"content\" in choice[\"delta\"]:\n",
    "                                yield choice[\"delta\"][\"content\"]\n",
    "\n",
    "                    except json.JSONDecodeError:\n",
    "                        continue \n",
    "            elif \"ModelStreamError\" in event:\n",
    "                error = event[\"ModelStreamError\"]\n",
    "                yield f\"\\nStream error: {error['Message']} (Error code: {error['ErrorCode']})\"\n",
    "                break\n",
    "            elif \"InternalStreamFailure\" in event:\n",
    "                failure = event[\"InternalStreamFailure\"]\n",
    "                yield f\"\\nInternal stream failure: {failure['Message']}\"\n",
    "                break\n",
    "    except Exception as e:\n",
    "        yield f\"\\nAn error occurred during streaming: {str(e)}\""
   ]
  },
  {
   "cell_type": "markdown",
   "id": "d2c6f25e-6d6d-41c7-a7ab-8b979e97a145",
   "metadata": {},
   "source": [
    "#### Chat Completion"
   ]
  },
  {
   "cell_type": "code",
   "execution_count": 48,
   "id": "5d62d99f-67a1-46f7-ad52-d2d41b2c5e3a",
   "metadata": {
    "tags": []
   },
   "outputs": [
    {
     "name": "stdout",
     "output_type": "stream",
     "text": [
      "The most appropriate treatment for this patient is **E: Nitrofurantoin**.\n",
      "\n",
      "**Explanation:**\n",
      "- **Clinical Presentation:** The patient presents with symptoms of a urinary tract infection (UTI), specifically dysuria (burning during urination), which has been worsening despite increased fluid intake and cranberry extract use.\n",
      "- **Pregnancy Considerations:** Pregnant women require special antibiotic considerations due to potential risks to the fetus. Specifically, antibiotics like fluoroquinolones (Ciprofloxacin) and tetracyclines (Doxycycline) are contraindicated in pregnant women as they can cause harm to the developing fetus.\n",
      "- **Drug Options:**\n",
      "  - **Ampicillin:** While ampicillin is generally safe in pregnancy, it is less commonly used for uncomplicated UTIs and may not be the first-line choice.\n",
      "  - **Ceftriaxone:** This is typically reserved for more severe infections or complicated UTIs. It is generally considered safe in pregnancy but is not the first-line treatment for uncomplicated UTIs.\n",
      "  - **Ciprofloxacin:** This is contraindicated in pregnancy due to potential damage to cartilage and bone in the developing fetus.\n",
      "  - **Doxycycline:** This is also contraindicated in pregnancy due to potential harm to the developing fetus.\n",
      "  - **Nitrofurantoin:** This is commonly used for uncomplicated UTIs in pregnant women and is generally considered safe when used at appropriate doses. It is effective against the common pathogens causing UTIs and does not pose significant risks to the fetus.\n",
      "\n",
      "**Conclusion:** Given the patient's pregnancy status and the need for a safe and effective antibiotic, Nitrofurantoin is the best treatment option."
     ]
    }
   ],
   "source": [
    "payload = {\n",
    "    \"model\": \"/opt/ml/model\",\n",
    "    \"messages\": [\n",
    "        {\"role\": \"system\", \"content\": \"You are a helpful medical assistant.\"},\n",
    "        {\"role\": \"user\", \"content\": prompt1}\n",
    "    ],\n",
    "    \"max_tokens\": 2048,\n",
    "    \"temperature\": 0.7,\n",
    "    \"stream\": True\n",
    "}\n",
    "\n",
    "for chunk in invoke_streaming_endpoint(payload):\n",
    "    print(chunk, end=\"\", flush=True)"
   ]
  },
  {
   "cell_type": "markdown",
   "id": "f2d04094-f350-4950-b73a-212301dda35c",
   "metadata": {},
   "source": [
    "#### Text Completion"
   ]
  },
  {
   "cell_type": "code",
   "execution_count": 50,
   "id": "a6046a1f-96cb-4f76-b796-cd4a661f53e6",
   "metadata": {
    "tags": []
   },
   "outputs": [
    {
     "name": "stdout",
     "output_type": "stream",
     "text": [
      " If you have a fever and body aches, here are some steps you can take to manage your symptoms:\n",
      "\n",
      "1. **Stay Hydrated**: Drink plenty of fluids like water, herbal teas, or clear broths. Staying hydrated helps your body fight off infections and can help lower a fever.\n",
      "\n",
      "2. **Rest**: Allow your body the time it needs to recover. Resting helps conserve your energy and supports the immune response.\n",
      "\n",
      "3. **Take Medication**: Over-the-counter medications like acetaminophen (Tylenol) or ibuprofen (Advil, Motrin) can help reduce fever and alleviate body aches. Follow the dosing instructions carefully and consult a provider if you have any concerns about which medication to use.\n",
      "\n",
      "4. **Use Fever-Reducing Measures**: A cool bath or sponge bath can help bring down a fever. Avoid using alcohol or cold water, as this can cause shivering and increase your body temperature.\n",
      "\n",
      "5. **Comfort Measures**: Dress in lightweight clothing and use light blankets to avoid overheating. Use a fan or air to maintain a comfortable room temperature.\n",
      "\n",
      "6. **Monitor Symptoms**: Keep track of your and any other symptoms. If your fever persists for more than 3 days, is very high (above 103°F or 39.4°C), or is by severe symptoms like shortness of breath, severe chest pain, confusion, vomiting, or signs of dehydration, seek medical attention promptly.\n",
      "\n",
      "7. **Practice Good Hygiene**: Wash your hands regularly to avoid spreading any potential infection to others.\n",
      "\n",
      "8. **Isolate If**: If you are experiencing symptoms that could be, avoiding close contact with others and public health guidelines can help prevent the spread of illness.\n",
      "\n",
      "If your symptoms are severe, persistent, or if you have underlying health conditions, it’s to consult a healthcare provider for personalized advice and treatment. They can help determine the cause of your symptoms and provide suitable care based on your specific situation. For more specific advice or if you are unsure, contact a healthcare professional. Remember, it's to seek medical care if you're unsure about your situation or if you have any concerns. Here's a list of steps you can take: 1. Stay hydrated by drinking plenty of fluids, such as water, herbal teas, or clear broths. Staying hydrated helps your body fight infections and can lower your fever. 2. Get plenty of rest to conserve your energy and allow your body to recover. 3. Take over-the-counter medications like acetaminophen (Tylenol) or ibuprofen (Advil, Motrin) to reduce fever and alleviate body aches. Follow dosing instructions carefully and consult a provider about which medication is best for you. 4. Use fever-reducing measures such as a cool bath or sponge bath. Avoid using cold water or alcohol, as this can cause shivering and increase your fever. 5. Dress in lightweight clothing and use light blankets to avoid overheating. Use a fan or air to maintain a comfortable room temperature. 6. Monitor your symptoms. If your fever persists for more than three days, is very high (above 103°F or 39.4°C), or is by severe symptoms like shortness of breath, severe chest pain, confusion, vomiting, or signs of dehydration, seek medical attention promptly. 7. Practice good hygiene by washing your hands regularly to prevent the spread of illness. 8. If your symptoms are contagious, isolate yourself from others to avoid spreading the infection. 9. If you have underlying health conditions or are unsure about your symptoms, consult a healthcare provider for personalized advice and treatment. Remember, if your symptoms are severe, persistent, or if you are unsure about their cause, it's to seek medical care. A provider can help determine the cause of your symptoms and provide suitable care based on your specific situation. For more specific advice or if you have any doubts, contact a healthcare professional directly. If your symptoms are severe, persistent, or by other concerning signs like shortness of breath, chest pain, confusion, or severe dehydration, it's important to seek medical attention as soon as possible. Here's a list of steps you can take:\n",
      "\n",
      "1. **Stay Hydrated**:\n",
      "   - Drink plenty of fluids such as water, herbal teas, clear broths, orte-rich beverages like sports drinks. Staying hydrated helps your body fight infection and can help lower your fever.\n",
      "\n",
      "2. **Rest**:\n",
      "   - Ensure you get plenty of rest. Your body needs energy to fight off the, and resting helps conserve that energy.\n",
      "\n",
      "3. **Over-the-Counter Medications**:\n",
      "   - Use like acetaminophen (Tylenol) or ibuprofen (Advil, Motrin) to reduce fever and relieve body aches. Follow the dosing instructions carefully and consult a provider if you have any concerns about which medication to use or if you have underlying health conditions.\n",
      "\n",
      "4. **Fever-Reducing Measures**:\n",
      "   - Take a cool bath or use cool compresses to help bring down your. Avoid using cold water or alcohol, as this can cause shivering and actually raise your body temperature.\n",
      "\n",
      "5. **Comfort Measures**:\n",
      "   - Dress in lightweight clothing and use light blankets to avoid overheating. Maintain a comfortable room with the help of a fan or air.\n",
      "\n",
      "6. **Monitor Symptoms**:\n",
      "   - Keep track of your temperature and any other symptoms. If your fever persists for more than three days, is very high (above 103°F or 39.4°C), or if you severe symptoms like shortness of breath, chest pain, confusion, persistent vomiting, or signs of dehydration, seek medical attention immediately.\n",
      "\n",
      "7. **Practice Good Hygiene**:\n",
      "   - Wash your hands frequently with soap and water for at least 20 seconds or use an alcohol-based hand sanitizer to prevent the spread of illness.\n",
      "\n",
      "8. **Isolate If Necessary**:\n",
      "   - If your symptoms could be contagious, avoid close contact with others and follow public health guidelines to prevent the spread of illness.\n",
      "\n",
      "9. **Seek Medical Advice**:\n",
      "   - If you have underlying health conditions, are unsure about your symptoms, or if your symptoms are severe or, consult a healthcare provider for personalized advice and treatment.\n",
      "\n",
      "If you have any concerns or are unsure about your symptoms, do not hesitate to contact a healthcare professional for guidance. They can provide you with the appropriate care based on your specific situation. Additionally, if you are severe symptoms or if your condition worsens, seek medical attention promptly to ensure proper care and. If your symptoms are severe,, or accompanied by other concerning signs like shortness of breath, chest pain, confusion, or severe dehydration, it's important to seek medical attention as soon as possible. Here are the steps you should take:\n",
      "\n",
      "1. **Stay Hydrated**: Drink plenty of fluids such as water, herbal teas, clear broths, orte-rich beverages like sports drinks. Hydration helps your body fight infections and can help lower your fever.\n",
      "\n",
      "2. **Rest**: Get plenty of rest to conserve your energy and allow your body to recover.\n",
      "\n",
      "3. **Over-the-Counter Medications**:\n",
      "   - **Acetaminophen (Tylenol)**: Take as directed to reduce fever and alleviate body aches.\n",
      "   - **Ibuprofen (Advil, Motrin)**: Use as directed to reduce fever and relieve pain. It’s safe for adults, but consult a provider if you have kidney disease, a history of ulcers, or are taking blood thinners.\n",
      "\n",
      "4. **Fever-Reducing Measures**:\n",
      "   - **Cool Bath or Sponge Bath**: Use lukewarm water to help lower your temperature. Avoid using cold water or alcohol, as this can cause shivering and increase your body.\n",
      "   - **Cool Compresses**: Apply cool, damp cloths to your forehead and neck.\n",
      "\n",
      "5. **Comfort Measures**:\n",
      "   - **Lightweight Clothing**: Dress in loose, clothing to avoid overheating.\n",
      "   - **Cool Room Temperature**: Use a fan or air to maintain a comfortable room temperature.\n",
      "\n",
      "6. **Monitor Symptoms**:\n",
      "   - Keep track of your temperature and any other symptoms. If your fever persists for more than three days, is very high (above 103°F or 39.4°C), or if you severe symptoms like:\n",
      "     - Shortness of breath\n",
      "     - Chest pain\n",
      "     - Confusion\n",
      "     - vomiting\n",
      "     - Severe (dark urine, dizziness, dry mouth)\n",
      "     - Seek medical attention immediately.\n",
      "\n",
      "7. **Practice Good Hygiene**:\n",
      "   - Wash your hands frequently with soap and water for at least 20 seconds or use an alcohol-based hand sanitizer to prevent the spread of illness.\n",
      "\n",
      "8. **Isolate If Necessary**:\n",
      "   - If your symptoms could be contagious, avoid close contact with others and follow public health guidelines to prevent the spread of illness.\n",
      "\n",
      "9. **Seek Medical Advice**:\n",
      "   - If you have underlying health conditions, are unsure about your symptoms, or if your symptoms are severe or, consult a healthcare provider for personalized advice and treatment.\n",
      "\n",
      "**When to Seek Medical Attention**:\n",
      "- If your fever is extremely high (above 103°F or 39.4°C) or does not respond to over-the-counter medications.\n",
      "- If you severe symptoms such as shortness of breath, chest pain, confusion, or vomiting.\n",
      "- If you have health conditions that might affect your ability to fight off infection.\n",
      "- If your symptoms are worsening instead of improving over time.\n",
      "\n",
      "If you have any concerns or are unsure about your symptoms, do not hesitate to contact a healthcare professional for guidance. They can provide you with the appropriate care based on your specific situation. Additionally"
     ]
    }
   ],
   "source": [
    "payload = {\n",
    "    \"model\": \"/opt/ml/model\",\n",
    "    \"prompt\": prompt2,\n",
    "    \"max_tokens\": 2048,\n",
    "    \"temperature\": 0.7,\n",
    "    \"stream\": True\n",
    "}\n",
    "\n",
    "for chunk in invoke_streaming_endpoint(payload):\n",
    "    print(chunk, end=\"\", flush=True)"
   ]
  },
  {
   "cell_type": "markdown",
   "id": "547960f3-6629-4c2d-a4d2-cdb26c9c61d0",
   "metadata": {},
   "source": [
    "Now that you have successfully performed a real-time inference, you do not need the endpoint any more. You can terminate the endpoint to avoid being charged."
   ]
  },
  {
   "cell_type": "code",
   "execution_count": null,
   "id": "488631f8-c3be-4b30-aba4-75d83ee588a3",
   "metadata": {
    "tags": []
   },
   "outputs": [],
   "source": [
    "model.sagemaker_session.delete_endpoint(model_name)\n",
    "model.sagemaker_session.delete_endpoint_config(model_name)"
   ]
  },
  {
   "cell_type": "markdown",
   "id": "c0e98cc5-6ea8-41bf-a78f-dbe6771caf55",
   "metadata": {},
   "source": [
    "## 4. Batch inference"
   ]
  },
  {
   "cell_type": "code",
   "execution_count": 56,
   "id": "f7d163c0-a6c7-49c5-a4ea-27b83670eb7b",
   "metadata": {
    "tags": []
   },
   "outputs": [],
   "source": [
    "import json\n",
    "import os\n",
    "\n",
    "# JSON file names\n",
    "validation_json_file_name1 = \"input1.json\"\n",
    "\n",
    "\n",
    "# JSON paths\n",
    "validation_input_json_path = f\"s3://{s3_bucket}/{model_name}/validation-input/\"\n",
    "validation_output_json_path = f\"s3://{s3_bucket}/{model_name}/validation-output/\"\n",
    "\n",
    "\n",
    "def write_and_upload_to_s3(input_data, file_name):\n",
    "    s3_client.put_object(\n",
    "        Bucket=s3_bucket,\n",
    "        Key=f\"{model_name}/validation-input/{file_name}\",\n",
    "        Body=(bytes(input_data.encode(\"UTF-8\"))),\n",
    "    )"
   ]
  },
  {
   "cell_type": "code",
   "execution_count": 57,
   "id": "23904344-4a1e-4e90-942e-dc9e53827369",
   "metadata": {
    "tags": []
   },
   "outputs": [],
   "source": [
    "input_json_data1 = json.dumps(\n",
    "    {\n",
    "        \"model\": \"/opt/ml/model\",\n",
    "        \"prompt\": prompts,\n",
    "        \"max_tokens\": 2048,\n",
    "        \"temperature\": 0.7,\n",
    "    }\n",
    ")\n",
    "\n",
    "write_and_upload_to_s3(input_json_data1, f\"{validation_json_file_name1}\")"
   ]
  },
  {
   "cell_type": "code",
   "execution_count": null,
   "id": "2be2cdcc-57f6-4f30-8d8a-f740dd83a046",
   "metadata": {
    "tags": []
   },
   "outputs": [],
   "source": [
    "transformer = model.transformer(\n",
    "    instance_count=1,\n",
    "    instance_type=batch_transform_inference_instance_type,\n",
    "    accept=\"application/json\",\n",
    "    output_path=validation_output_json_path,\n",
    ")\n",
    "transformer.transform(validation_input_json_path, content_type=\"application/json\")\n",
    "transformer.wait()"
   ]
  },
  {
   "cell_type": "code",
   "execution_count": null,
   "id": "142c53a9-2e64-4839-acbd-74bfbd7fc372",
   "metadata": {
    "tags": []
   },
   "outputs": [],
   "source": [
    "from urllib.parse import urlparse\n",
    "\n",
    "def retrieve_json_output_from_s3(validation_file_name):\n",
    "\n",
    "    parsed_url = urlparse(transformer.output_path)\n",
    "    file_key = f\"{parsed_url.path[1:]}{validation_file_name}.out\"\n",
    "    response = s3_client.get_object(Bucket=s3_bucket, Key=file_key)\n",
    "\n",
    "    data = json.loads(response[\"Body\"].read().decode(\"utf-8\"))\n",
    "    display(data)"
   ]
  },
  {
   "cell_type": "code",
   "execution_count": 61,
   "id": "b781965a-3891-4ac3-a580-9e187b262d39",
   "metadata": {
    "tags": []
   },
   "outputs": [
    {
     "data": {
      "text/plain": [
       "{'id': 'cmpl-86c6f7fe2ead4dc79ba5942eecfb9930',\n",
       " 'object': 'text_completion',\n",
       " 'created': 1743489812,\n",
       " 'model': '/opt/ml/model',\n",
       " 'choices': [{'index': 0,\n",
       "   'text': \" Maintaining good kidney health is essential because kidneys play a critical role in filtering waste products and excess water from your blood, regulating blood pressure, and producing hormones that help keep your bones strong. Here are some tips to help you maintain kidney health:\\n\\n1. **Stay Hydrated**: Drink plenty of water throughout the day to help your kidneys remove toxins and waste products from your blood.\\n\\n2. **Eat a Balanced Diet**: Include plenty of whole grains, fruits, and vegetables in your diet. Cut back on salt and processed foods to help manage blood pressure, which is a major risk factor for kidney disease.\\n\\n3. **Maintain a Healthy Weight**: Being overweight or obese can increase your risk of developing kidney disease. Regular exercise and a healthy diet can help you maintain a healthy weight.\\n\\n4. **Control Blood Pressure and Blood Sugar**: High blood pressure and diabetes are the leading causes of kidney disease. Regular check-ups can help monitor and manage these conditions.\\n\\n5. **Limit Alcohol and Avoid Smoking**: Both alcohol and tobacco use can damage the kidneys and lead to kidney disease.\\n\\n6. **Be Cautious with Pain Relievers**: Overusing certain over-the-counter pain relievers, such as ibuprofen and naproxen, can harm your kidneys. Use these medications as directed and consult a healthcare provider if you need to take them regularly.\\n\\n7. **Monitor Your Kidney Function**: Regular check-ups and screenings, especially if you have risk factors for kidney disease (such as diabetes, high blood pressure, or a family history of kidney problems), can help catch problems early.\\n\\n8. **Manage Chronic Conditions**: If you have conditions like diabetes or hypertension, it’s crucial to manage them effectively to prevent kidney damage.\\n\\n9. **Avoid Exposure to Toxic Substances**: Some chemicals and medications can damage your kidneys. Follow safety precautions at work and at home, and only use medications as prescribed by your healthcare provider.\\n\\n10. **Stay Active**: Regular physical activity can help maintain a healthy weight, control blood pressure, and improve blood sugar control.\\n\\nBy incorporating these habits into your lifestyle, you can reduce your risk of developing kidney problems and promote overall kidney health. If you have concerns about your kidney health, it's always a good idea to consult with a healthcare professional. They can provide personalized advice based on your medical history and current health status. \\n\\n**Sources:**\\n- National Institute of Diabetes and Digestive and Kidney Diseases (NIDDK)\\n- American Kidney Fund\\n- Mayo Clinic\\n\\n---\\n\\n**Note:** This information is intended for general guidance and is not a substitute for professional medical advice. If you suspect you have kidney problems or are at risk for kidney disease, please consult a healthcare professional for personalized advice.\",\n",
       "   'logprobs': None,\n",
       "   'finish_reason': 'stop',\n",
       "   'stop_reason': None,\n",
       "   'prompt_logprobs': None},\n",
       "  {'index': 1,\n",
       "   'text': \" How is it diagnosed and treated?\\nHigh blood pressure, also known as hypertension, is a condition in which the force of the blood against the walls of the arteries is consistently too high. Here's an overview of its symptoms, diagnosis, and treatment:\\n\\n### Symptoms of High Blood Pressure\\nHigh blood pressure typically does not cause noticeable symptoms. Many people with hypertension may feel fine and not realize they have it until it causes heart, brain, or kidney damage. However, some people might experience:\\n\\n- **Headaches**\\n- **Dizziness**\\n- **Nosebleeds**\\n- **Blurred vision**\\n- **Shortness of breath**\\n- **Fatigue**\\n- **Irregular heartbeat**\\n\\nIt's important to note that these symptoms are not specific to high blood pressure and can be caused by other conditions.\\n\\n### Diagnosis of High Blood Pressure\\nBlood pressure is measured using a device called a sphygmomanometer or blood pressure cuff. The reading is given in millimeters of mercury (mmHg) and is recorded as two numbers:\\n\\n1. **Systolic Pressure:** The top number, which indicates the pressure when the heart beats.\\n2. **Diastolic Pressure:** The bottom number, which indicates the pressure when the heart is at rest between beats.\\n\\n**Blood Pressure Categories:**\\n- **Normal:** <120/80 mmHg\\n- **Elevated:** 120-129/80 mmHg\\n- **Stage 1 Hypertension:** 130-139/80-89 mmHg\\n- **Stage 2 Hypertension:** ≥140/90 mmHg\\n- **Hypertensive Crisis (Emergency):** >180/120 mmHg\\n\\n**Diagnosis Steps:**\\n1. **Initial Measurement:** Blood pressure is taken during a routine check-up.\\n2. **Monitoring:** To confirm the diagnosis, blood pressure is often measured multiple times over several days or weeks.\\n3. **Health Assessment:** The healthcare provider may evaluate risk factors such as age, family history, lifestyle habits, and other health conditions.\\n\\n### Treatment of High Blood Pressure\\nTreatment for high blood pressure typically involves a combination of lifestyle changes and, if necessary, medication. The goal is to lower blood pressure to prevent complications such as heart disease, stroke, and kidney damage.\\n\\n**Lifestyle Changes:**\\n1. **Diet:** Reduce sodium intake, increase potassium-rich foods, and follow a heart-healthy diet like the DASH diet.\\n2. **Exercise:** Engage in regular physical activity (at least 150 minutes of moderate aerobic activity or 75 minutes of vigorous activity each week).\\n3. **Weight Management:** Maintain a healthy weight or lose excess pounds.\\n4. **Limit Alcohol:** Drink alcohol in moderation or avoid it altogether.\\n5. **Quit Smoking:** Smoking raises blood pressure and damages blood vessels.\\n6. **Manage Stress:** Practice relaxation techniques like meditation, deep breathing, or yoga.\\n\\n**Medications:**\\nSeveral types of medications are used to treat high blood pressure, including:\\n\\n- **Diuretics:** Help the kidneys eliminate excess salt and water, which lowers blood pressure.\\n- **ACE Inhibitors:** Relax blood vessels by blocking the angiotensin-converting enzyme.\\n- **ARBs (Angiotensin Receptor Blockers):** Block the effects of angiotensin, a hormone that narrows blood vessels.\\n- **Calcium Channel Blockers:** Relax and widen blood vessels.\\n- **Beta-Blockers:** Slow down the heart rate and reduce the amount of work the heart has to do.\\n- **Alpha-Blockers:** Relax muscles in the walls of blood vessels.\\n- **Renin Inhibitors:** Lower renin levels, which helps relax blood vessels and lower blood pressure.\\n\\n**Monitoring:**\\nRegular follow-ups with your healthcare provider are crucial to monitor blood pressure and adjust treatment as necessary.\\n\\n### Conclusion\\nHigh blood pressure is often asymptomatic but can lead to severe health issues if left untreated. Early detection through regular blood pressure checks and adopting a healthy lifestyle are key to managing hypertension effectively. If lifestyle changes alone aren't sufficient, medications may be prescribed to help control blood pressure levels. Always consult with a healthcare professional for personalized advice and treatment plans.\",\n",
       "   'logprobs': None,\n",
       "   'finish_reason': 'stop',\n",
       "   'stop_reason': None,\n",
       "   'prompt_logprobs': None}],\n",
       " 'usage': {'prompt_tokens': 17,\n",
       "  'total_tokens': 1452,\n",
       "  'completion_tokens': 1435,\n",
       "  'prompt_tokens_details': None}}"
      ]
     },
     "metadata": {},
     "output_type": "display_data"
    }
   ],
   "source": [
    "retrieve_json_output_from_s3(validation_json_file_name1)"
   ]
  },
  {
   "cell_type": "markdown",
   "id": "f8e8f682-16a0-4a84-89e6-b5f4f0de3521",
   "metadata": {},
   "source": [
    "Congratulations! You just verified that the batch transform job is working as expected. Since the model is not required, you can delete it. Note that you are deleting the deployable model. Not the model package."
   ]
  },
  {
   "cell_type": "code",
   "execution_count": null,
   "id": "22a8df79-ad3b-4e85-a054-24931c15f3a3",
   "metadata": {
    "tags": []
   },
   "outputs": [],
   "source": [
    "model.delete_model()"
   ]
  },
  {
   "cell_type": "markdown",
   "id": "37215a51-bf01-4cf0-832a-c7f85a8a06c3",
   "metadata": {},
   "source": [
    "### Unsubscribe to the listing (optional)"
   ]
  },
  {
   "cell_type": "markdown",
   "id": "53cddd4d-4b27-4a94-95b8-5e027e6cd9cd",
   "metadata": {},
   "source": [
    "If you would like to unsubscribe to the model package, follow these steps. Before you cancel the subscription, ensure that you do not have any [deployable model](https://console.aws.amazon.com/sagemaker/home#/models) created from the model package or using the algorithm. Note - You can find this information by looking at the container name associated with the model. \n",
    "\n",
    "**Steps to unsubscribe to product from AWS Marketplace**:\n",
    "1. Navigate to __Machine Learning__ tab on [__Your Software subscriptions page__](https://aws.amazon.com/marketplace/ai/library?productType=ml&ref_=mlmp_gitdemo_indust)\n",
    "2. Locate the listing that you want to cancel the subscription for, and then choose __Cancel Subscription__  to cancel the subscription.\n",
    "\n"
   ]
  }
 ],
 "metadata": {
  "kernelspec": {
   "display_name": "conda_python3",
   "language": "python",
   "name": "conda_python3"
  },
  "language_info": {
   "codemirror_mode": {
    "name": "ipython",
    "version": 3
   },
   "file_extension": ".py",
   "mimetype": "text/x-python",
   "name": "python",
   "nbconvert_exporter": "python",
   "pygments_lexer": "ipython3",
   "version": "3.10.16"
  }
 },
 "nbformat": 4,
 "nbformat_minor": 5
}

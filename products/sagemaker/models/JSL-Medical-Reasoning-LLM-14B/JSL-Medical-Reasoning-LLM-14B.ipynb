{
 "cells": [
  {
   "cell_type": "markdown",
   "id": "82a4cf96-c239-49cc-88f9-a8e885bde191",
   "metadata": {},
   "source": [
    "## 1. Subscribe to the model package"
   ]
  },
  {
   "cell_type": "markdown",
   "id": "982d6ab4-d03d-4a5a-ab23-144d8e6ec3d6",
   "metadata": {},
   "source": [
    "To subscribe to the model package:\n",
    "1. Open the model package listing page [Medical Reasoning LLM - 14B]()\n",
    "1. On the AWS Marketplace listing, click on the **Continue to subscribe** button.\n",
    "1. On the **Subscribe to this software** page, review and click on **\"Accept Offer\"** if you and your organization agrees with EULA, pricing, and support terms. \n",
    "1. Once you click on **Continue to configuration button** and then choose a **region**, you will see a **Product Arn** displayed. This is the model package ARN that you need to specify while creating a deployable model using Boto3. Copy the ARN corresponding to your region and specify the same in the following cell."
   ]
  },
  {
   "cell_type": "markdown",
   "id": "dad4b722-a125-4219-9c22-009acf75414d",
   "metadata": {},
   "source": [
    "- **Model**: `JSL-Medical-Reasoning-LLM-14B`\n",
    "- **Model Description**: Medical model for summarization, question answering (open-book and closed-book), and general chat."
   ]
  },
  {
   "cell_type": "code",
   "execution_count": 1,
   "id": "9d1fb27b-e0ad-4759-937d-ae4edc209fc1",
   "metadata": {
    "tags": []
   },
   "outputs": [],
   "source": [
    "model_package_arn = \"<Customer to specify Model package ARN corresponding to their AWS region>\""
   ]
  },
  {
   "cell_type": "code",
   "execution_count": null,
   "id": "76ede1bf-2acb-4b5d-9db1-299abfeee20b",
   "metadata": {
    "tags": []
   },
   "outputs": [],
   "source": [
    "import os\n",
    "import base64\n",
    "import json\n",
    "import uuid\n",
    "from sagemaker import ModelPackage\n",
    "import sagemaker as sage\n",
    "from sagemaker import get_execution_role\n",
    "import boto3\n",
    "from IPython.display import Image, display\n",
    "from PIL import Image as ImageEdit\n",
    "import numpy as np\n",
    "import pandas as pd\n",
    "\n",
    "pd.set_option('display.max_rows', None)\n",
    "pd.set_option('display.max_columns', None)\n",
    "pd.set_option('display.max_colwidth', None)\n",
    "\n",
    "sagemaker_session = sage.Session()\n",
    "s3_bucket = sagemaker_session.default_bucket()\n",
    "region = sagemaker_session.boto_region_name\n",
    "account_id = boto3.client(\"sts\").get_caller_identity().get(\"Account\")\n",
    "role = get_execution_role()\n",
    "\n",
    "sagemaker = boto3.client(\"sagemaker\")\n",
    "s3_client = sagemaker_session.boto_session.client(\"s3\")\n",
    "ecr = boto3.client(\"ecr\")\n",
    "sm_runtime = boto3.client(\"sagemaker-runtime\")"
   ]
  },
  {
   "cell_type": "code",
   "execution_count": 3,
   "id": "07846ed0-ed90-4a11-a77c-00d1c3ca3cbd",
   "metadata": {
    "tags": []
   },
   "outputs": [],
   "source": [
    "model_name = \"JSL-Medical-Reasoning-LLM-14B\"\n",
    "\n",
    "real_time_inference_instance_type = \"ml.g4dn.12xlarge\"\n",
    "batch_transform_inference_instance_type = \"ml.g4dn.12xlarge\""
   ]
  },
  {
   "cell_type": "markdown",
   "id": "08a626b7-f295-4c49-b856-ce237d5d3203",
   "metadata": {},
   "source": [
    "## 2. Create a deployable model from the model package."
   ]
  },
  {
   "cell_type": "code",
   "execution_count": 4,
   "id": "0e39b84b-7a9f-4004-a204-56af1fd555f1",
   "metadata": {
    "tags": []
   },
   "outputs": [],
   "source": [
    "model = ModelPackage(\n",
    "    role=role, \n",
    "    model_package_arn=model_package_arn, \n",
    "    sagemaker_session=sagemaker_session, \n",
    ")"
   ]
  },
  {
   "cell_type": "markdown",
   "id": "9e3a3a54-98d8-4a8a-b812-c33db9a2aa7d",
   "metadata": {},
   "source": [
    "## Model Configuration Documentation  \n",
    "\n",
    "### Default Configuration  \n",
    "The container comes with the following default configurations:  \n",
    "\n",
    "| Parameter                  | Default Value | Description                                                                   |  \n",
    "|----------------------------|---------------|-------------------------------------------------------------------------------|  \n",
    "| **`dtype`**                | `float16`     | Data type for model weights and activations                                   |  \n",
    "| **`max_model_len`**        | `32,768`      | Maximum length for input and output combined (`input + output ≤ max_model_len`) |  \n",
    "| **`tensor_parallel_size`** | Auto          | Automatically set to the number of available GPUs                            |  \n",
    "| **`host`**                 | `0.0.0.0`     | Host name                                                                     |  \n",
    "| **`port`**                 | `8080`        | Port number                                                                   |  \n",
    "\n",
    "### Hardcoded Settings  \n",
    "The following settings are hardcoded in the container and cannot be changed:  \n",
    "\n",
    "| Parameter       | Value           | Description                           |  \n",
    "|-----------------|-----------------|---------------------------------------|  \n",
    "| **`model`**     | `/opt/ml/model` | Model path where SageMaker mounts the model |  \n",
    "\n",
    "### Configurable Environment Variables  \n",
    "You can customize the vLLM server by setting environment variables when creating the model.  \n",
    "\n",
    "**Any parameter from the [vLLM documentation](https://docs.vllm.ai/en/latest/serving/openai_compatible_server.html#vllm-serve) can be set using the corresponding environment variable with the `SM_VLLM_` prefix.**  \n",
    "\n",
    "The container uses a script similar to the [SageMaker entrypoint example](https://docs.vllm.ai/en/latest/examples/sagemaker_entrypoint.html) from the vLLM documentation to convert environment variables to command-line arguments.  \n",
    "\n",
    "---  \n",
    "\n",
    "## Input Format  \n",
    "\n",
    "### 1. Chat Completion  \n",
    "\n",
    "#### Example Payload  \n",
    "```json  \n",
    "{  \n",
    "    \"model\": \"/opt/ml/model\",  \n",
    "    \"messages\": [  \n",
    "        {\"role\": \"system\", \"content\": \"You are a helpful medical assistant.\"},  \n",
    "        {\"role\": \"user\", \"content\": \"What should I do if I have a fever and body aches?\"}  \n",
    "    ],  \n",
    "    \"max_tokens\": 1024,  \n",
    "    \"temperature\": 0.7  \n",
    "}  \n",
    "```  \n",
    "\n",
    "For additional parameters:  \n",
    "- [ChatCompletionRequest](https://github.com/vllm-project/vllm/blob/v0.7.3/vllm/entrypoints/openai/protocol.py#L212)  \n",
    "- [OpenAI's Chat API](https://platform.openai.com/docs/api-reference/chat/create)  \n",
    "\n",
    "---  \n",
    "\n",
    "### 2. Text Completion  \n",
    "\n",
    "#### Single Prompt Example  \n",
    "```json  \n",
    "{  \n",
    "    \"model\": \"/opt/ml/model\",  \n",
    "    \"prompt\": \"How can I maintain good kidney health?\",  \n",
    "    \"max_tokens\": 512,  \n",
    "    \"temperature\": 0.6  \n",
    "}  \n",
    "```  \n",
    "\n",
    "#### Multiple Prompts Example  \n",
    "```json  \n",
    "{  \n",
    "    \"model\": \"/opt/ml/model\",  \n",
    "    \"prompt\": [  \n",
    "        \"How can I maintain good kidney health?\",  \n",
    "        \"What are the best practices for kidney care?\"  \n",
    "    ],  \n",
    "    \"max_tokens\": 512,  \n",
    "    \"temperature\": 0.6  \n",
    "}  \n",
    "```  \n",
    "\n",
    "Reference:  \n",
    "- [CompletionRequest](https://github.com/vllm-project/vllm/blob/v0.7.3/vllm/entrypoints/openai/protocol.py#L642)  \n",
    "- [OpenAI's Completions API](https://platform.openai.com/docs/api-reference/completions/create)  \n",
    "\n",
    "---  \n",
    "\n",
    "### Important Notes:\n",
    "- **Streaming Responses:** Add `\"stream\": true` to your request payload to enable streaming\n",
    "- **Model Path Requirement:** Always set `\"model\": \"/opt/ml/model\"` (SageMaker's fixed model location)"
   ]
  },
  {
   "cell_type": "markdown",
   "id": "6a846275-5af5-4679-9c52-d35ab157455b",
   "metadata": {},
   "source": [
    "## 3. Create an SageMaker Endpoint"
   ]
  },
  {
   "cell_type": "markdown",
   "id": "01b670fa-60d4-45a4-a0d6-3e8e2845b625",
   "metadata": {},
   "source": [
    "If you want to understand how real-time inference with Amazon SageMaker works, see [Documentation](https://docs.aws.amazon.com/sagemaker/latest/dg/how-it-works-hosting.html)."
   ]
  },
  {
   "cell_type": "code",
   "execution_count": null,
   "id": "8c19c0c0-3ead-4834-8c02-a192da19080b",
   "metadata": {
    "tags": []
   },
   "outputs": [],
   "source": [
    "predictor = model.deploy(\n",
    "    initial_instance_count=1,\n",
    "    instance_type=real_time_inference_instance_type, \n",
    "    endpoint_name=model_name,\n",
    "    model_data_download_timeout=3600\n",
    ")"
   ]
  },
  {
   "cell_type": "markdown",
   "id": "23d5c01b-b884-49c6-8b74-98911f6d8e5b",
   "metadata": {},
   "source": [
    "### 3.1 Real-time inference via Amazon SageMaker Endpoint"
   ]
  },
  {
   "cell_type": "markdown",
   "id": "07f13be5-3f3b-45db-829d-b99d4584913f",
   "metadata": {},
   "source": [
    "#### Initial setup"
   ]
  },
  {
   "cell_type": "code",
   "execution_count": 6,
   "id": "7b61fa7d-8d76-476f-91e2-8fea89e7dfa5",
   "metadata": {
    "tags": []
   },
   "outputs": [],
   "source": [
    "prompt1 = \"How do emerging mRNA technologies compare to traditional vaccine approaches for disease prevention?\"\n",
    "\n",
    "prompt2 = \"What screening tests are recommended for adults over 50 with family history of colorectal cancer?\"\n",
    "\n",
    "prompts = [\n",
    "    \"What are the early warning signs of stroke and what should I do if I suspect someone is having one?\",\n",
    "    \"How do different classes of antidepressants work and what factors determine which medication might be prescribed?\",\n",
    "    \"What is the relationship between inflammation, autoimmune conditions, and chronic disease progression?\"\n",
    "]"
   ]
  },
  {
   "cell_type": "code",
   "execution_count": 7,
   "id": "bca8d319-02a4-44ad-b90c-216185f3098c",
   "metadata": {
    "tags": []
   },
   "outputs": [],
   "source": [
    "system_prompt = \"\"\"You are a medical expert that reviews the problem, does reasoning, and then gives a final answer.\n",
    "Strictly follow this exact format for giving your output:\n",
    "\n",
    "<think>\n",
    "reasoning steps\n",
    "</think>\n",
    "\n",
    "**Final Answer**: [Conclusive Answer]\"\"\""
   ]
  },
  {
   "cell_type": "code",
   "execution_count": 8,
   "id": "5c195a50-43e4-4341-ad1d-23ca6f0aa45b",
   "metadata": {
    "tags": []
   },
   "outputs": [],
   "source": [
    "def invoke_realtime_endpoint(record):\n",
    "\n",
    "    response = sm_runtime.invoke_endpoint(\n",
    "        EndpointName=model_name,\n",
    "        ContentType=\"application/json\",\n",
    "        Accept=\"application/json\",\n",
    "        Body=json.dumps(record),\n",
    "    )\n",
    "\n",
    "    return json.load(response[\"Body\"])"
   ]
  },
  {
   "cell_type": "markdown",
   "id": "e9a475e7-ad31-4b3b-b7b5-21310f541252",
   "metadata": {
    "tags": []
   },
   "source": [
    "#### Chat Completion"
   ]
  },
  {
   "cell_type": "code",
   "execution_count": 9,
   "id": "c22cf887-70d5-4a87-8476-988590228328",
   "metadata": {
    "tags": []
   },
   "outputs": [
    {
     "name": "stdout",
     "output_type": "stream",
     "text": [
      "<think>\n",
      "Emerging mRNA technologies represent a significant advancement in vaccine development compared to traditional approaches, offering several advantages and potential challenges. Here's a comparative analysis:\n",
      "\n",
      "1. **Mechanism of Action**:\n",
      "   - **Traditional Vaccines**: These typically use inactivated or attenuated pathogens, proteins, or toxins to stimulate an immune response. They introduce a weakened or dead form of the pathogen or specific components of the pathogen into the body.\n",
      "   - **mRNA Vaccines**: mRNA vaccines deliver genetic instructions (mRNA) that code for a specific antigen (usually a protein from the pathogen) directly into cells. Cells then produce the antigen, which triggers an immune response without introducing any live or infectious material.\n",
      "\n",
      "2. **Development Speed and Flexibility**:\n",
      "   - **Traditional Vaccines**: Development can be lengthy, often taking several years, due to the need for extensive testing of pathogens, toxins, or proteins.\n",
      "   - **mRNA Vaccines**: mRNA vaccines can be developed more rapidly because they rely on the genetic code of the pathogen, which can be quickly sequenced and synthesized. This was evident during the rapid development of mRNA vaccines for COVID-19.\n",
      "\n",
      "3. **Safety Profile**:\n",
      "   - **Traditional Vaccines**: Generally considered safe, but side effects can occur, especially with live attenuated vaccines.\n",
      "   - **mRNA Vaccines**: Reported side effects tend to be mild (e.g., injection-site pain, fatigue) and transient. The absence of live pathogens or toxins reduces the risk of adverse reactions.\n",
      "\n",
      "4. **Efficacy**:\n",
      "   - **Traditional Vaccines**: Efficacy varies; some are highly effective, while others may have lower effectiveness or require multiple doses.\n",
      "   - **mRNA Vaccines**: Early data suggests high efficacy for the mRNA vaccines developed against SARS-CoV-2, with protection rates around 95%. Their ability to induce both cellular and humoral immunity is a significant advantage.\n",
      "\n",
      "5. **Storage and Distribution**:\n",
      "   - **Traditional Vaccines**: Many require refrigeration but can be stored at standard cold chain temperatures.\n",
      "   - **mRNA Vaccines**: Require ultra-cold storage temperatures (e.g., -70°C for some mRNA vaccines), which can be a logistical challenge for widespread distribution, especially in low-resource settings.\n",
      "\n",
      "6. **Population Considerations**:\n",
      "   - **Traditional Vaccines**: Often adapted for specific populations, such as live attenuated vaccines for immunocompromised individuals.\n",
      "   - **mRNA Vaccines**: May have limitations in certain populations, like those with genetic mutations affecting mRNA processing. However, they can be tailored to address specific antigenic targets.\n",
      "\n",
      "7. **Long-Term Efficacy and Immunity**:\n",
      "   - **Traditional Vaccines**: Long-term efficacy is well-established for many vaccines, but some require booster shots.\n",
      "   - **mRNA Vaccines**: Long-term efficacy and immunity are still under investigation. Current data suggest durable protection, but ongoing studies are needed to confirm long-term effects.\n",
      "\n",
      "8. **Future Potential**:\n",
      "   - **Traditional Vaccines**: Continued refinement and innovation in vaccine technology.\n",
      "   - **mRNA Vaccines**: Potential for rapid response to new pathogens, personalized medicine, and combination vaccines targeting multiple diseases.\n",
      "\n",
      "**Conclusion**: mRNA technologies offer faster development, high efficacy, and safety profiles that are favorable compared to traditional vaccine approaches. However, challenges such as storage requirements and population-specific considerations still need to be addressed. The integration of both approaches can lead to comprehensive and adaptable strategies for disease prevention.\n",
      "</think>\n",
      "\n",
      "**Final Answer**: mRNA technologies offer faster development, high efficacy, and safety profiles that are favorable compared to traditional vaccine approaches. However, challenges such as storage requirements and population-specific considerations still need to be addressed.\n"
     ]
    }
   ],
   "source": [
    "input_data = {\n",
    "    \"model\": \"/opt/ml/model\",\n",
    "    \"messages\": [\n",
    "        {\"role\": \"system\", \"content\": system_prompt},\n",
    "        {\"role\": \"user\", \"content\": prompt1},\n",
    "    ],\n",
    "    \"max_tokens\": 2048,\n",
    "    \"temperature\": 0.8,\n",
    "    \"top_p\": 0.95,\n",
    "}\n",
    "\n",
    "result = invoke_realtime_endpoint(input_data)\n",
    "output_content = result['choices'][0]['message']['content']\n",
    "print(output_content)"
   ]
  },
  {
   "cell_type": "markdown",
   "id": "d1a76aec-391a-44e9-b385-99aa62f1b4bf",
   "metadata": {},
   "source": [
    "#### Text Completion"
   ]
  },
  {
   "cell_type": "code",
   "execution_count": 11,
   "id": "0c06b069-e3d8-48f4-9c09-fec59143ed11",
   "metadata": {
    "tags": []
   },
   "outputs": [
    {
     "name": "stdout",
     "output_type": "stream",
     "text": [
      " <think> The recommended screening tests for adults over 50 with a family history of colorectal cancer include: 1. **Colonoscopy**: This is the most thorough test, allowing direct visualization of the colon and rectum for any abnormal growths or polyps. It's typically performed every 5 years if the first test is normal, but may need to be done more frequently based on family history. 2. **Fecal Occult Blood Test (FOBT)** or **Fecal Immunochemical Test (FIT)**: These tests check for hidden blood in the stool, which can be an early sign of cancer. They are often used in combination with a colonoscopy or as a follow-up test. 3. **Computed Tomography Colonography (CTC)** or **Virtual Colonoscopy**: This involves taking detailed X-ray images of the colon and rectum. It's another option for detecting polyps or cancer, especially if a traditional colonoscopy is not possible. 4. **Flexible Sigmoidoscopy**: This test examines the lower part of the colon and rectum. It's usually recommended every 5 years in conjunction with an annual FOBT/FIT. 5. **Double-Contrast Barium Enema**: This involves taking X-rays of the colon after it's been filled with a barium solution, but it's less commonly used now. Given the increased risk due to family history, it's important to start screening earlier and possibly follow a more intensive surveillance schedule recommended by a healthcare provider. </think> **Final Answer**: Colonoscopy, fecal occult blood test (FOBT), flexible sigmoidoscopy, fecal immunochemical test (FIT), and computed tomography colonography (CTC).\n"
     ]
    }
   ],
   "source": [
    "input_data ={\n",
    "        \"model\": \"/opt/ml/model\",\n",
    "        \"prompt\": f\"{system_prompt}\\n\\nUser: {prompt2}\\n\\nAssistant:\",\n",
    "        \"max_tokens\": 2048,\n",
    "        \"temperature\": 0.8,\n",
    "        \"top_p\": 0.95,\n",
    "    }\n",
    "\n",
    "result = invoke_realtime_endpoint(input_data)\n",
    "output_text = result['choices'][0]['text']\n",
    "print(output_text)"
   ]
  },
  {
   "cell_type": "markdown",
   "id": "ccccf37b-9dee-4d38-a0dc-38f2aeaeb780",
   "metadata": {},
   "source": [
    "### 3.2 Real-time inference response as a stream via Amazon SageMaker Endpoint"
   ]
  },
  {
   "cell_type": "code",
   "execution_count": 13,
   "id": "dac2fe86-af82-4ae5-a838-162f65e6d0b1",
   "metadata": {
    "tags": []
   },
   "outputs": [],
   "source": [
    "def invoke_streaming_endpoint(record):\n",
    "    try:\n",
    "        response = sm_runtime.invoke_endpoint_with_response_stream(\n",
    "            EndpointName=model_name,\n",
    "            Body=json.dumps(record),\n",
    "            ContentType=\"application/json\",\n",
    "            Accept=\"text/event-stream\"\n",
    "        )\n",
    "\n",
    "        for event in response[\"Body\"]:\n",
    "            if \"PayloadPart\" in event:\n",
    "                chunk = event[\"PayloadPart\"][\"Bytes\"].decode(\"utf-8\")\n",
    "                if chunk.startswith(\"data:\"):\n",
    "                    try:\n",
    "                        data = json.loads(chunk[5:].strip())\n",
    "                        if \"choices\" in data and len(data[\"choices\"]) > 0:\n",
    "                            choice = data[\"choices\"][0]\n",
    "                            if \"text\" in choice:\n",
    "                                yield choice[\"text\"]\n",
    "                            elif \"delta\" in choice and \"content\" in choice[\"delta\"]:\n",
    "                                yield choice[\"delta\"][\"content\"]\n",
    "\n",
    "                    except json.JSONDecodeError:\n",
    "                        continue \n",
    "            elif \"ModelStreamError\" in event:\n",
    "                error = event[\"ModelStreamError\"]\n",
    "                yield f\"\\nStream error: {error['Message']} (Error code: {error['ErrorCode']})\"\n",
    "                break\n",
    "            elif \"InternalStreamFailure\" in event:\n",
    "                failure = event[\"InternalStreamFailure\"]\n",
    "                yield f\"\\nInternal stream failure: {failure['Message']}\"\n",
    "                break\n",
    "    except Exception as e:\n",
    "        yield f\"\\nAn error occurred during streaming: {str(e)}\""
   ]
  },
  {
   "cell_type": "markdown",
   "id": "d2c6f25e-6d6d-41c7-a7ab-8b979e97a145",
   "metadata": {},
   "source": [
    "#### Chat Completion"
   ]
  },
  {
   "cell_type": "code",
   "execution_count": 14,
   "id": "5d62d99f-67a1-46f7-ad52-d2d41b2c5e3a",
   "metadata": {
    "tags": []
   },
   "outputs": [
    {
     "name": "stdout",
     "output_type": "stream",
     "text": [
      "<think>\n",
      "Emerging mRNA technologies a significant advancement in vaccine development, offering several advantages over traditional vaccine approaches for disease prevention. Here's a detailed comparison:\n",
      "\n",
      "1. **Mechanism of Action**:\n",
      "   - **Traditional Vaccines**: These typically use inactivated or attenuated pathogens, viral vectors, or subunit components (like proteins) to stimulate an immune response. They induce both antibody and cellular immunity.\n",
      "   - **mRNA Vaccines**: These use genetic material (mRNA) that instructs cells to produce a specific viral protein, which then triggers an immune response. They primarily induce antibody responses but can also generate some cellular immunity with additional components.\n",
      "\n",
      "2. **Speed and Flexibility**:\n",
      "   - **Traditional Vaccines**: Developing and scaling up traditional vaccines can take months to years, as they require the growth of pathogens or the production of viral vectors and proteins.\n",
      "   - **mRNA Vaccines**: mRNA vaccines can be designed and manufactured more quickly, often within weeks, because they rely on synthetic mRNA that can be rapidly produced once the genetic sequence is known.\n",
      "\n",
      "3. **Safety Profile**:\n",
      "   - **Traditional Vaccines**: Generally considered safe, but some may have side effects or risks associated with using live or inactivated pathogens.\n",
      "   - **mRNA Vaccines**: Do not use live pathogens, reducing the risk of infection or disease. Potential side effects are usually mild and transient.\n",
      "\n",
      "4. **Storage and Distribution**:\n",
      "   - **Traditional Vaccines**: Many require refrigeration or freezing, which can pose challenges for distribution in resource-limited settings.\n",
      "   - **mRNA Vaccines**: Typically require ultra-cold storage conditions, which can be a logistical challenge. However, newer formulations are being developed to stabilize mRNA at standard refrigeration temperatures.\n",
      "\n",
      "5. **Targeting Specific Pathogens**:\n",
      "   - **Traditional Vaccines**: Effective against a wide range of pathogens, but each vaccine may require a new production cycle for a new pathogen.\n",
      "   - **mRNA Vaccines**: Highly adaptable to new pathogens, allowing for rapid response to emerging threats. For example, mRNA vaccines were quickly developed for SARS-CoV-2 and its variants.\n",
      "\n",
      "6. **Immune Response**:\n",
      "   - **Traditional Vaccines**: Can induce both humoral (antibody) and cellular (T-cell) immunity, which is crucial for long-term protection.\n",
      "   - **mRNA Vaccines**: Primarily induce strong humoral immunity. While they can generate some cellular immunity, especially with the inclusion of adjuvants or additional mRNA components, traditional vaccines generally provide more robust cellular immunity.\n",
      "\n",
      "7. **Manufacturing and Scalability**:\n",
      "   - **Traditional Vaccines**: Manufacturing processes can be complex and time-consuming, especially for live-attenuated or viral vector vaccines.\n",
      "   - **mRNA Vaccines**: mRNA production can be scaled up more efficiently using modern biotechnology, potentially reducing production times and costs.\n",
      "\n",
      "8. **Efficacy Against Emerging Variants**:\n",
      "   - **Traditional Vaccines**: May require updates or booster shots as new variants emerge, depending on their antigenic differences.\n",
      "   - **mRNA Vaccines**: More easily modified to target new variants, allowing for rapid adjustments to the vaccine composition.\n",
      "\n",
      "9. **Adjuvants**:\n",
      "   - **Traditional Vaccines**: Often require adjuvants to enhance the immune response.\n",
      "   - **mRNA Vaccines**: Can incorporate adjuvants or additional mRNA components to boost efficacy, but they are not inherently dependent on adjuvants.\n",
      "\n",
      "10. **Accessibility and Global Distribution**:\n",
      "    - **Traditional Vaccines**: Long-established and widely distributed, with extensive infrastructure for cold chain management.\n",
      "    - **mRNA Vaccines**: While they offer new opportunities, the requirement for ultra-cold storage presents challenges, particularly in developing countries. Efforts are ongoing to stabilize mRNA for standard refrigeration temperatures.\n",
      "\n",
      "In summary, mRNA technologies offer a faster and more flexible approach to vaccine development, particularly for new or rapidly evolving pathogens. They can be rapidly adapted to emerging threats and have demonstrated high efficacy against diseases like COVID-19. However, traditional vaccines remain critical for a wide range of diseases and offer advantages in terms of broader immune responses and established distribution networks. The combination of both approaches is likely to be optimal for comprehensive disease prevention.\n",
      "</think>\n",
      "\n",
      "**Final Answer**: mRNA technologies offer a faster, more flexible, and adaptable approach to vaccine development compared to traditional methods. They can be rapidly designed and manufactured, allowing for quick responses to new pathogens. However, traditional vaccines remain essential for a wide range of diseases and provide broader immune responses, including robust cellular immunity. The combination of both approaches is optimal for comprehensive disease prevention."
     ]
    }
   ],
   "source": [
    "payload = {\n",
    "    \"model\": \"/opt/ml/model\",\n",
    "    \"messages\": [\n",
    "        {\"role\": \"system\", \"content\": system_prompt},\n",
    "        {\"role\": \"user\", \"content\": prompt1}\n",
    "    ],\n",
    "    \"max_tokens\": 2048,\n",
    "    \"temperature\": 0.8,\n",
    "    \"top_p\": 0.95,\n",
    "    \"stream\": True\n",
    "}\n",
    "\n",
    "for chunk in invoke_streaming_endpoint(payload):\n",
    "    print(chunk, end=\"\", flush=True)"
   ]
  },
  {
   "cell_type": "markdown",
   "id": "f2d04094-f350-4950-b73a-212301dda35c",
   "metadata": {},
   "source": [
    "#### Text Completion"
   ]
  },
  {
   "cell_type": "code",
   "execution_count": 15,
   "id": "a6046a1f-96cb-4f76-b796-cd4a661f53e6",
   "metadata": {
    "tags": []
   },
   "outputs": [
    {
     "name": "stdout",
     "output_type": "stream",
     "text": [
      " <think>\n",
      "In adults over the age of 50 who have a family history of colorectal cancer, the primary goal of screening is to detect early signs of the disease, including polyps or cancer itself. These screenings are crucial because early detection can significantly improve treatment outcomes and survival rates.\n",
      "\n",
      "1. **Colonoscopy**: This is the most comprehensive and widely recommended screening method for with a family history of colorectal cancer. During a colonoscopy, a long, flexible tube with a camera is inserted into the colon to visualize the entire large intestine and rectum. This allows the doctor to identify and remove any polyps or areas, potentially preventing cancer or detecting it in its earliest stages.\n",
      "\n",
      "2. **Flexible Sigmoidoscopy**: Although less comprehensive than a colonoscopy, a flexible sigmoidoscopy can still be effective for screening the lower part of the colon and rectum. It involves using a shorter scope to examine the left side of the colon and rectum. However, because it only covers a portion of the colon, it may not be as for detecting cancers or polyps in the right side.\n",
      "\n",
      "3. **Fecal Immunochemical Test (FIT)**: This is a non-invasive test that involves collecting a stool sample at home and sending it to a laboratory for analysis. FIT detects hidden blood in the stool, which could be a sign of colorectal cancer. However, its is lower compared to colonoscopy, and it requires annual or biannual testing.\n",
      "\n",
      "4. **Stool DNA Test (Cologuard)**: This test combines the detection of blood in the stool with a DNA analysis to identify genetic markers that might indicate the presence of colorectal cancer. It is more sensitive than FIT but less so than colonoscopy. The test is every three years.\n",
      "\n",
      "5. **Double-Contrast Barium Enema**: This imaging test involves inserting a liquid contrast agent into the colon to enhance visibility under X-ray. Although it can help identify abnormalities, it is less commonly used due to the availability of more direct and comprehensive methods like colonoscopy.\n",
      "\n",
      "6. **CT Colonography (Virtual Colonoscopy)**: This is a non-invasive imaging technique that uses CT scans to create detailed images of the colon and rectum. It can be a good alternative for those who cannot undergo traditional colonoscopy, but it still requires bowel preparation and may necessitate follow-up colonoscopy if abnormalities are detected.\n",
      "\n",
      "Given the family history of colorectal cancer, the **colonoscopy** is the initial screening method due to its nature and ability to both detect and remove polyps. Follow-up screenings and the choice of additional methods can be tailored based on the results of the initial colonoscopy and risk factors.\n",
      "</think>\n",
      "\n",
      "**Final Answer:** Colonoscopy, FIT, Cologuard, and possibly flexible sigmoidoscopy or CT colonography. (Colonoscopy is the most thorough and recommended method.)"
     ]
    }
   ],
   "source": [
    "payload = {\n",
    "    \"model\": \"/opt/ml/model\",\n",
    "    \"prompt\": f\"{system_prompt}\\n\\nUser: {prompt2}\\n\\nAssistant:\",\n",
    "    \"max_tokens\": 2048,\n",
    "    \"temperature\": 0.8,\n",
    "    \"top_p\": 0.95,\n",
    "    \"stream\": True\n",
    "}\n",
    "\n",
    "for chunk in invoke_streaming_endpoint(payload):\n",
    "    print(chunk, end=\"\", flush=True)"
   ]
  },
  {
   "cell_type": "markdown",
   "id": "547960f3-6629-4c2d-a4d2-cdb26c9c61d0",
   "metadata": {},
   "source": [
    "Now that you have successfully performed a real-time inference, you do not need the endpoint any more. You can terminate the endpoint to avoid being charged."
   ]
  },
  {
   "cell_type": "code",
   "execution_count": null,
   "id": "488631f8-c3be-4b30-aba4-75d83ee588a3",
   "metadata": {
    "tags": []
   },
   "outputs": [],
   "source": [
    "model.sagemaker_session.delete_endpoint(model_name)\n",
    "model.sagemaker_session.delete_endpoint_config(model_name)"
   ]
  },
  {
   "cell_type": "markdown",
   "id": "c0e98cc5-6ea8-41bf-a78f-dbe6771caf55",
   "metadata": {},
   "source": [
    "## 4. Batch inference"
   ]
  },
  {
   "cell_type": "code",
   "execution_count": 17,
   "id": "f7d163c0-a6c7-49c5-a4ea-27b83670eb7b",
   "metadata": {
    "tags": []
   },
   "outputs": [],
   "source": [
    "validation_json_file_name1 = \"input1.json\"\n",
    "\n",
    "validation_input_json_path = f\"s3://{s3_bucket}/{model_name}/validation-input/\"\n",
    "validation_output_json_path = f\"s3://{s3_bucket}/{model_name}/validation-output/\"\n",
    "\n",
    "\n",
    "def write_and_upload_to_s3(input_data, file_name):\n",
    "    s3_client.put_object(\n",
    "        Bucket=s3_bucket,\n",
    "        Key=f\"{model_name}/validation-input/{file_name}\",\n",
    "        Body=(bytes(input_data.encode(\"UTF-8\"))),\n",
    "    )"
   ]
  },
  {
   "cell_type": "code",
   "execution_count": 18,
   "id": "23904344-4a1e-4e90-942e-dc9e53827369",
   "metadata": {
    "tags": []
   },
   "outputs": [],
   "source": [
    "input_json_data1 = json.dumps(\n",
    "    {\n",
    "        \"model\": \"/opt/ml/model\",\n",
    "        \"prompt\": [f\"{system_prompt}\\n\\nUser: {prompt}\\n\\nAssistant:\" for prompt in prompts],\n",
    "        \"max_tokens\": 2048,\n",
    "        \"temperature\": 0.8,\n",
    "        \"top_p\": 0.95,\n",
    "    }\n",
    ")\n",
    "\n",
    "write_and_upload_to_s3(input_json_data1, f\"{validation_json_file_name1}\")"
   ]
  },
  {
   "cell_type": "code",
   "execution_count": null,
   "id": "40a9b441-d1e5-4bbc-8571-005d880c6c46",
   "metadata": {
    "tags": []
   },
   "outputs": [],
   "source": [
    "transformer = model.transformer(\n",
    "    instance_count=1,\n",
    "    instance_type=batch_transform_inference_instance_type,\n",
    "    accept=\"application/json\",\n",
    "    output_path=validation_output_json_path,\n",
    ")\n",
    "transformer.transform(validation_input_json_path, content_type=\"application/json\")\n",
    "transformer.wait()"
   ]
  },
  {
   "cell_type": "code",
   "execution_count": null,
   "id": "142c53a9-2e64-4839-acbd-74bfbd7fc372",
   "metadata": {
    "tags": []
   },
   "outputs": [],
   "source": [
    "from urllib.parse import urlparse\n",
    "\n",
    "def retrieve_json_output_from_s3(validation_file_name):\n",
    "\n",
    "    parsed_url = urlparse(transformer.output_path)\n",
    "    file_key = f\"{parsed_url.path[1:]}{validation_file_name}.out\"\n",
    "    response = s3_client.get_object(Bucket=s3_bucket, Key=file_key)\n",
    "    result = json.loads(response[\"Body\"].read().decode(\"utf-8\"))\n",
    "    \n",
    "    for idx, choice in enumerate(result.get(\"choices\", [])):\n",
    "        print(f\"Response {idx + 1}:\\n{choice.get('text', '')}\\n{'=' * 75}\")"
   ]
  },
  {
   "cell_type": "code",
   "execution_count": 22,
   "id": "b781965a-3891-4ac3-a580-9e187b262d39",
   "metadata": {
    "tags": []
   },
   "outputs": [
    {
     "name": "stdout",
     "output_type": "stream",
     "text": [
      "Response 1:\n",
      " <think> The early warning signs of a stroke include sudden numbness or weakness, especially on one side of the body; confusion or trouble speaking; severe headache with no known cause; trouble seeing in one or both eyes; and trouble walking, dizziness, or loss of balance or coordination. If you suspect someone is having a stroke, it's crucial to act FAST: Face drooping, Arm weakness, Speech difficulty, and Time to call emergency services immediately. Prompt medical attention is vital because the sooner treatment starts, the better the chances of recovery and minimizing brain damage. </think> **Final Answer:** The early warning signs of a stroke include sudden numbness or weakness, especially on one side of the body; confusion or trouble speaking; severe headache with no known cause; trouble seeing in one or both eyes; and trouble walking, dizziness, or loss of balance or coordination. If you suspect someone is having a stroke, it's crucial to act FAST: Face drooping, Arm weakness, Speech difficulty, and Time to call emergency services immediately. Prompt medical attention is vital because the sooner treatment starts, the better the chances of recovery and minimizing brain damage.\n",
      "===========================================================================\n",
      "Response 2:\n",
      " <think>\n",
      "Different classes of antidepressants work through various mechanisms to alleviate symptoms of depression. Here's a breakdown of the main classes and how they function:\n",
      "\n",
      "1. **Selective Serotonin Reuptake Inhibitors (SSRIs):**\n",
      "   - **Mechanism:** SSRIs primarily increase the availability of serotonin in the brain by blocking its reabsorption (reuptake) into neurons. This leads to higher levels of serotonin in the synaptic cleft, enhancing communication between brain cells.\n",
      "   - **Examples:** Fluoxetine (Prozac), Sertraline (Zoloft), Escitalopram (Lexapro).\n",
      "\n",
      "2. **Serotonin-Norepinephrine Reuptake Inhibitors (SNRIs):**\n",
      "   - **Mechanism:** SNRIs inhibit the reuptake of both serotonin and norepinephrine, increasing their levels in the brain. This dual action can be particularly beneficial for treating depression and anxiety disorders.\n",
      "   - **Examples:** Venlafaxine (Effexor), Duloxetine (Cymbalta), Desvenlafaxine (Pristiq).\n",
      "\n",
      "3. **Tricyclic Antidepressants (TCAs):**\n",
      "   - **Mechanism:** TCAs block the reuptake of serotonin and norepinephrine, similar to SNRIs. They also have additional effects on other neurotransmitters like histamine, acetylcholine, and dopamine, which can lead to side effects.\n",
      "   - **Examples:** Amitriptyline (Elavil), Nortriptyline (Pamelor), Imipramine (Tofranil).\n",
      "\n",
      "4. **Monoamine Oxidase Inhibitors (MAOIs):**\n",
      "   - **Mechanism:** MAOIs inhibit the enzyme monoamine oxidase, which breaks down serotonin, norepinephrine, and dopamine. This leads to increased levels of these neurotransmitters in the brain.\n",
      "   - **Examples:** Phenelzine (Nardil), Tranylcypromine (Parnate), Isocarboxazid (Marplan).\n",
      "\n",
      "5. **Atypical Antidepressants:**\n",
      "   - **Mechanism:** These medications affect multiple neurotransmitter systems and do not fit neatly into the above categories. They may influence serotonin, norepinephrine, dopamine, and other neurotransmitters.\n",
      "   - **Examples:** Bupropion (Wellbutrin), Mirtazapine (Remeron), Vortioxetine (Trintellix).\n",
      "\n",
      "6. **Norepinephrine-Dopamine Reuptake Inhibitors (NDRIs):**\n",
      "   - **Mechanism:** NDRIs primarily block the reuptake of dopamine and norepinephrine, enhancing their activity in the brain.\n",
      "   - **Example:** Bupropion (Wellbutrin).\n",
      "\n",
      "7. **Tranquilizers and Mood Stabilizers:**\n",
      "   - **Mechanism:** These medications can be used adjunctively to manage specific symptoms or as standalone treatments. For example, lithium and anticonvulsants like lamotrigine are mood stabilizers that can help with bipolar disorder.\n",
      "   - **Examples:** Lithium, Valproate (Depakote), Lamotrigine (Lamictal).\n",
      "\n",
      "**Factors Determining Medication Prescription:**\n",
      "\n",
      "1. **Patient's Symptom Profile:**\n",
      "   - The specific symptoms and severity of depression influence the choice of antidepressant. For example, SSRIs are often preferred for moderate to severe depression, while SNRIs may be chosen if anxiety is a significant issue.\n",
      "\n",
      "2. **Medical History:**\n",
      "   - Past medical conditions, including cardiovascular issues, liver or kidney problems, and other medications being taken, must be considered to avoid drug interactions and adverse effects.\n",
      "\n",
      "3. **Patient Preferences:**\n",
      "   - Some patients may prefer medications with fewer side effects or those that don't cause weight gain. Patient preference is an important consideration in selecting an antidepressant.\n",
      "\n",
      "4. **Cost and Accessibility:**\n",
      "   - The availability and cost of medications can influence the choice, especially if the patient lacks insurance coverage.\n",
      "\n",
      "5. **Side Effects and Tolerability:**\n",
      "   - Each antidepressant class has different potential side effects. For instance, SSRIs commonly cause nausea, sexual dysfunction, and insomnia, while TCAs may lead to weight gain and drowsiness. Physicians choose based on which side effects the patient can tolerate better.\n",
      "\n",
      "6. **Previous Treatment Responses:**\n",
      "   - If a patient has responded well to a particular antidepressant in the past, the same medication may be prescribed again.\n",
      "\n",
      "7. **Comorbid Conditions:**\n",
      "   - The presence of other mental health conditions, such as anxiety disorders, bipolar disorder, or obsessive-compulsive disorder, can guide the selection of a medication that targets multiple symptoms effectively.\n",
      "\n",
      "8. **Duration of Treatment:**\n",
      "   - Some medications are better suited for long-term management of depression, while others might be used for acute treatment.\n",
      "\n",
      "9. **Special Populations:**\n",
      "   - Pregnant women, nursing mothers, or patients with substance use disorders may require different treatment approaches and medications.\n",
      "\n",
      "10. **Combination Therapy:**\n",
      "    - In some cases, a combination of medications from different classes or the addition of non-pharmacological treatments like therapy may be necessary to achieve optimal results.\n",
      "\n",
      "**Conclusion:** Antidepressants work through various mechanisms to affect neurotransmitter levels in the brain, each with its own set of benefits and potential side effects. The choice of medication is influenced by a range of factors, including the patient's symptomatology, medical history, and individual preferences. A comprehensive assessment by a healthcare professional is essential to determine the most appropriate treatment plan.\n",
      "</think>\n",
      "\n",
      "**Final Answer:** Different classes of antidepressants work through various mechanisms to affect neurotransmitter levels in the brain. SSRIs increase serotonin, SNRIs increase both serotonin and norepinephrine, TCAs block reuptake of multiple neurotransmitters, MAOIs inhibit monoamine oxidase, atypical antidepressants influence multiple neurotransmitters, NDRIs enhance dopamine and norepinephrine, and tranquilizers and mood stabilizers manage specific symptoms. Factors determining medication choice include symptom profile, medical history, patient preferences, cost, side effects, previous treatment responses, comorbid conditions, duration of treatment, special populations, and potential for combination therapy. Each medication's mechanism and potential benefits and side effects guide the selection, tailored to the individual patient's needs.\n",
      "===========================================================================\n",
      "Response 3:\n",
      " <think>\n",
      "Inflammation is a complex biological response to harmful stimuli, such as pathogens, damaged cells, or irritants. It plays a critical role in the body's defense mechanisms by helping to eliminate the initial cause of cell injury and facilitate the healing process. However, when inflammation becomes chronic, it can contribute to the development and progression of various diseases.\n",
      "\n",
      "Autoimmune conditions arise when the immune system mistakenly attacks the body's own tissues. This misdirected immune response often leads to chronic inflammation as the body continually attempts to fend off perceived threats. Chronic inflammation can exacerbate autoimmune conditions by causing ongoing damage to tissues and organs, thereby promoting disease progression.\n",
      "\n",
      "In the context of chronic diseases, persistent inflammation can contribute to the deterioration of health in several ways. For example, in cardiovascular disease, chronic inflammation promotes the formation and stabilization of atherosclerotic plaques, which can lead to heart attacks and strokes. Similarly, in neurodegenerative diseases like Alzheimer's, chronic inflammation may accelerate the accumulation of toxic proteins and neuronal damage. Chronic inflammation also plays a role in metabolic disorders such as diabetes, where it contributes to insulin resistance and further complications.\n",
      "\n",
      "In summary, chronic inflammation can exacerbate autoimmune conditions and contribute to the progression of chronic diseases by promoting ongoing tissue damage and dysfunction. Managing inflammation through lifestyle modifications, medications, and other interventions is therefore crucial in preventing and treating these conditions.\n",
      "</think>\n",
      "\n",
      "**Final Answer:** Chronic inflammation exacerbates autoimmune conditions and contributes to the progression of chronic diseases by promoting ongoing tissue damage and dysfunction. Managing inflammation is crucial in preventing and treating these conditions.\n",
      "===========================================================================\n"
     ]
    }
   ],
   "source": [
    "retrieve_json_output_from_s3(validation_json_file_name1)"
   ]
  },
  {
   "cell_type": "markdown",
   "id": "f8e8f682-16a0-4a84-89e6-b5f4f0de3521",
   "metadata": {},
   "source": [
    "Congratulations! You just verified that the batch transform job is working as expected. Since the model is not required, you can delete it. Note that you are deleting the deployable model. Not the model package."
   ]
  },
  {
   "cell_type": "code",
   "execution_count": null,
   "id": "22a8df79-ad3b-4e85-a054-24931c15f3a3",
   "metadata": {
    "tags": []
   },
   "outputs": [],
   "source": [
    "model.delete_model()"
   ]
  },
  {
   "cell_type": "markdown",
   "id": "37215a51-bf01-4cf0-832a-c7f85a8a06c3",
   "metadata": {},
   "source": [
    "### Unsubscribe to the listing (optional)"
   ]
  },
  {
   "cell_type": "markdown",
   "id": "53cddd4d-4b27-4a94-95b8-5e027e6cd9cd",
   "metadata": {},
   "source": [
    "If you would like to unsubscribe to the model package, follow these steps. Before you cancel the subscription, ensure that you do not have any [deployable model](https://console.aws.amazon.com/sagemaker/home#/models) created from the model package or using the algorithm. Note - You can find this information by looking at the container name associated with the model. \n",
    "\n",
    "**Steps to unsubscribe to product from AWS Marketplace**:\n",
    "1. Navigate to __Machine Learning__ tab on [__Your Software subscriptions page__](https://aws.amazon.com/marketplace/ai/library?productType=ml&ref_=mlmp_gitdemo_indust)\n",
    "2. Locate the listing that you want to cancel the subscription for, and then choose __Cancel Subscription__  to cancel the subscription.\n",
    "\n"
   ]
  }
 ],
 "metadata": {
  "kernelspec": {
   "display_name": "conda_python3",
   "language": "python",
   "name": "conda_python3"
  },
  "language_info": {
   "codemirror_mode": {
    "name": "ipython",
    "version": 3
   },
   "file_extension": ".py",
   "mimetype": "text/x-python",
   "name": "python",
   "nbconvert_exporter": "python",
   "pygments_lexer": "ipython3",
   "version": "3.10.16"
  }
 },
 "nbformat": 4,
 "nbformat_minor": 5
}

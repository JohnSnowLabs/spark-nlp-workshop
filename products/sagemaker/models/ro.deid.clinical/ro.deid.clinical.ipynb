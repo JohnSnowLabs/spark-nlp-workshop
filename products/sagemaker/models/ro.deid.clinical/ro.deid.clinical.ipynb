{
 "cells": [
  {
   "cell_type": "markdown",
   "metadata": {},
   "source": [
    "## 1. Subscribe to the model package"
   ]
  },
  {
   "cell_type": "markdown",
   "metadata": {},
   "source": [
    "To subscribe to the model package:\n",
    "1. Open the model package listing page <font color='red'> For Seller to update:[Title_of_your_product](Provide link to your marketplace listing of your product).</font>\n",
    "1. On the AWS Marketplace listing, click on the **Continue to subscribe** button.\n",
    "1. On the **Subscribe to this software** page, review and click on **\"Accept Offer\"** if you and your organization agrees with EULA, pricing, and support terms. \n",
    "1. Once you click on **Continue to configuration button** and then choose a **region**, you will see a **Product Arn** displayed. This is the model package ARN that you need to specify while creating a deployable model using Boto3. Copy the ARN corresponding to your region and specify the same in the following cell."
   ]
  },
  {
   "cell_type": "markdown",
   "metadata": {},
   "source": [
    "## Clinical Deidentification Romanian\n",
    "\n",
    "Deidentification is essential for safeguarding patient privacy in clinical data, including texts, PDFs, images, and DICOM files containing Protected Health Information (PHI). PHI encompasses various health-related data, including common identifiers such as name, address, birth date, and Social Security Number.\n",
    "\n",
    "- **Model**: `ro.deid.clinical`\n",
    "- **Model Description**: This pipeline is trained with w2v_cc_300d Romanian embeddings and can be used to deidentify PHI information from medical texts in Romanian. The PHI information will be masked and obfuscated in the resulting text. The pipeline can mask, fake or obfuscate the following entities: AGE, CITY, COUNTRY, DATE, DOCTOR, EMAIL, FAX, HOSPITAL, IDNUM, LOCATION-OTHER, MEDICALRECORD, ORGANIZATION, PATIENT, PHONE, PROFESSION, STREET, ZIP, ACCOUNT, LICENSE, PLATE"
   ]
  },
  {
   "cell_type": "code",
   "execution_count": 1,
   "metadata": {
    "tags": []
   },
   "outputs": [],
   "source": [
    "model_package_arn = \"<Customer to specify Model package ARN corresponding to their AWS region>\""
   ]
  },
  {
   "cell_type": "code",
   "execution_count": 2,
   "metadata": {
    "tags": []
   },
   "outputs": [
    {
     "name": "stdout",
     "output_type": "stream",
     "text": [
      "sagemaker.config INFO - Not applying SDK defaults from location: /etc/xdg/sagemaker/config.yaml\n",
      "sagemaker.config INFO - Not applying SDK defaults from location: /home/ec2-user/.config/sagemaker/config.yaml\n"
     ]
    }
   ],
   "source": [
    "import base64\n",
    "import json\n",
    "import uuid\n",
    "from sagemaker import ModelPackage\n",
    "import sagemaker as sage\n",
    "from sagemaker import get_execution_role\n",
    "import boto3\n",
    "from IPython.display import Image, display\n",
    "from PIL import Image as ImageEdit\n",
    "import numpy as np"
   ]
  },
  {
   "cell_type": "code",
   "execution_count": 3,
   "metadata": {
    "tags": []
   },
   "outputs": [],
   "source": [
    "sagemaker_session = sage.Session()\n",
    "s3_bucket = sagemaker_session.default_bucket()\n",
    "region = sagemaker_session.boto_region_name\n",
    "account_id = boto3.client(\"sts\").get_caller_identity().get(\"Account\")\n",
    "role = get_execution_role()\n",
    "\n",
    "sagemaker = boto3.client(\"sagemaker\")\n",
    "s3_client = sagemaker_session.boto_session.client(\"s3\")\n",
    "ecr = boto3.client(\"ecr\")\n",
    "sm_runtime = boto3.client(\"sagemaker-runtime\")"
   ]
  },
  {
   "cell_type": "markdown",
   "metadata": {},
   "source": [
    "## 2. Create an endpoint and perform real-time inference"
   ]
  },
  {
   "cell_type": "markdown",
   "metadata": {},
   "source": [
    "If you want to understand how real-time inference with Amazon SageMaker works, see [Documentation](https://docs.aws.amazon.com/sagemaker/latest/dg/how-it-works-hosting.html)."
   ]
  },
  {
   "cell_type": "code",
   "execution_count": 4,
   "metadata": {
    "tags": []
   },
   "outputs": [],
   "source": [
    "model_name = \"ro-deid-clinical\"\n",
    "\n",
    "real_time_inference_instance_type = \"ml.m4.xlarge\"\n",
    "batch_transform_inference_instance_type = \"ml.m4.2xlarge\""
   ]
  },
  {
   "cell_type": "markdown",
   "metadata": {},
   "source": [
    "### A. Create an endpoint"
   ]
  },
  {
   "cell_type": "code",
   "execution_count": 5,
   "metadata": {
    "tags": []
   },
   "outputs": [
    {
     "name": "stdout",
     "output_type": "stream",
     "text": [
      "--------!"
     ]
    }
   ],
   "source": [
    "# create a deployable model from the model package.\n",
    "model = ModelPackage(\n",
    "    role=role, model_package_arn=model_package_arn, sagemaker_session=sagemaker_session\n",
    ")\n",
    "\n",
    "# Deploy the model\n",
    "predictor = model.deploy(1, real_time_inference_instance_type, endpoint_name=model_name)"
   ]
  },
  {
   "cell_type": "markdown",
   "metadata": {},
   "source": [
    "Once endpoint has been created, you would be able to perform real-time inference."
   ]
  },
  {
   "cell_type": "code",
   "execution_count": 6,
   "metadata": {
    "tags": []
   },
   "outputs": [],
   "source": [
    "import json\n",
    "import pandas as pd\n",
    "import os\n",
    "import boto3\n",
    "\n",
    "# Set display options\n",
    "pd.set_option('display.max_rows', None)\n",
    "pd.set_option('display.max_columns', None)\n",
    "pd.set_option('display.max_colwidth', None)\n",
    "\n",
    "def process_data_and_invoke_realtime_endpoint(data, content_type, accept):\n",
    "\n",
    "    content_type_to_format = {'application/json': 'json', 'application/jsonlines': 'jsonl'}\n",
    "    input_format = content_type_to_format.get(content_type)\n",
    "    if content_type not in content_type_to_format.keys() or accept not in content_type_to_format.keys():\n",
    "        raise ValueError(\"Invalid content_type or accept. It should be either 'application/json' or 'application/jsonlines'.\")\n",
    "\n",
    "    i = 1\n",
    "    input_dir = f'inputs/real-time/{input_format}'\n",
    "    output_dir = f'outputs/real-time/{input_format}'\n",
    "    s3_input_dir = f\"{model_name}/validation-input/real-time/{input_format}\"\n",
    "    s3_output_dir = f\"{model_name}/validation-output/real-time/{input_format}\"\n",
    "\n",
    "    input_file_name = f'{input_dir}/input{i}.{input_format}'\n",
    "    output_file_name = f'{output_dir}/{os.path.basename(input_file_name)}.out'\n",
    "\n",
    "    while os.path.exists(input_file_name) or os.path.exists(output_file_name):\n",
    "        i += 1\n",
    "        input_file_name = f'{input_dir}/input{i}.{input_format}'\n",
    "        output_file_name = f'{output_dir}/{os.path.basename(input_file_name)}.out'\n",
    "\n",
    "\n",
    "    os.makedirs(os.path.dirname(input_file_name), exist_ok=True)\n",
    "    os.makedirs(os.path.dirname(output_file_name), exist_ok=True)\n",
    "\n",
    "    input_data = json.dumps(data, indent=4, ensure_ascii=False) if content_type == 'application/json' else data\n",
    "\n",
    "\n",
    "    if content_type == 'application/json':\n",
    "        with open(input_file_name, \"w\", encoding='utf-8') as f:\n",
    "            f.write(input_data)\n",
    "    else:\n",
    "        with open(input_file_name, 'w', encoding='utf-8') as file:\n",
    "            for line in input_data.splitlines():\n",
    "                json_object = json.loads(line)\n",
    "                file.write(json.dumps(json_object, ensure_ascii=False) + '\\n')\n",
    "\n",
    "    with open(input_file_name, 'rb') as data:\n",
    "        s3_client.put_object(Bucket=s3_bucket, Key=f\"{s3_input_dir}/{os.path.basename(input_file_name)}\", Body=data)\n",
    "\n",
    "    # Invoke the SageMaker endpoint\n",
    "    response = sm_runtime.invoke_endpoint(\n",
    "        EndpointName=model_name,\n",
    "        ContentType=content_type,\n",
    "        Accept=accept,\n",
    "        Body=input_data,\n",
    "    )\n",
    "\n",
    "    # Read response data\n",
    "    response_data = json.loads(response[\"Body\"].read().decode(\"utf-8\")) if accept == 'application/json' else response['Body'].read().decode('utf-8')\n",
    "\n",
    "    # Save response data to file\n",
    "    with open(output_file_name, 'w') as f_out:\n",
    "        if accept == 'application/json':\n",
    "            json.dump(response_data, f_out, indent=4, ensure_ascii=False)\n",
    "        else:\n",
    "            for item in response_data.split('\\n'):\n",
    "                f_out.write(item + '\\n')\n",
    "\n",
    "    with open(output_file_name, 'rb') as data:\n",
    "        s3_client.put_object(Bucket=s3_bucket, Key=f\"{s3_output_dir}/{os.path.basename(output_file_name)}\", Body=data)\n",
    "\n",
    "    return response_data"
   ]
  },
  {
   "cell_type": "markdown",
   "metadata": {},
   "source": [
    "### Initial Setup"
   ]
  },
  {
   "cell_type": "code",
   "execution_count": 7,
   "metadata": {
    "tags": []
   },
   "outputs": [],
   "source": [
    "docs = [\n",
    "'''LABORATOR RADIOLOGIE, Strada Ababei, Sacueni, 354573 , TEL : 0265-210110 , E-MAIL: OFFICE@SMURD\n",
    "Data... \n",
    "LABORATOR RADIOLOGIE, Strada Ababei, Sacueni, 354573 , TEL : 0265-210110 , E-MAIL: OFFICE@SMURD\n",
    "Data setului de analize : 10 May 2022 18:45:00\n",
    "Inregistrat de : PAUL DANIEL TUDOR \n",
    "Nume si prenume : MILASAN DANUT \n",
    "Varsta : 45 , Sex : Masculin\n",
    "TEL : 456 45 789 2 \n",
    "E-mail : damut__d@hotmail.com \n",
    "C.N.P : 1761218264378 \n",
    "Cod pacient : 627480543615010\n",
    "Licență : K0004567S, \n",
    "Înmatriculare : BD32904, \n",
    "Cont : SEWS324095192710408,\n",
    " \n",
    "LA ORA : 10/12/2021 14:54_ \n",
    "VALIDAT DE :Dr. IOANA GHIBAN ; \n",
    "INVESTIGATII : CT TORACICÃ NATIVÃ''',\n",
    "\n",
    "'''Medic : Dr. Agota EVELYN, \n",
    "C.N.P : 2450502264401, Data setului de analize: 25 May 2022 \n",
    "Varsta : 77,... \n",
    "Medic : Dr. Agota EVELYN, \n",
    "C.N.P : 2450502264401, Data setului de analize: 25 May 2022 \n",
    "Varsta : 77, Nume si Prenume : BUREAN MARIA \n",
    "Tel: +40(235)413773, \n",
    "E-mail : maria@gmail.com,\n",
    "Licență : B004256985M, \n",
    "Înmatriculare : CD205113, \n",
    "Cont : FXHZ7170951927104999, \n",
    "Spitalul Pentru Ochi, Drumul de Deal ,Nr. 972 Vaslui, 737405\n",
    "\n",
    "bolus 10 ml Iomeron 350 urmate de 30 ml flush salin cu 5 ml/s .\n",
    "Se continua cu 65 ml contrast si 30 ml flush salin , cu acelasi flux .\n",
    "Se efectueaza o examinare angio-CT coronariana cu achizitii spirale cu reconstructii retrospective la o frecventa cardiaca medie de 60/min .\n",
    "Opacifiere buna a patului vascular si cavitatilor cardiace .\n",
    "Fara incidente sau accidente pe parcursul examinarii .\n",
    "\n",
    "CONCLUZII : - Stare dupa stentare ramus intermedius si artera coronara dreapta .\n",
    "Aspect corespunzator al stenturilor , cu minima stenoza la nivelul ACD si cu flux distal corespunzator.'''\n",
    "\n",
    "]\n",
    "\n",
    "\n",
    "sample_text = \"\"\"TOMOGRAFIA COMPUTERIZATA A CREIERULUI INVESTIGATII REZULTAT DLP \n",
    "Medic Laborator : BURIAN MONICA\n",
    "PRO... \n",
    "TOMOGRAFIA COMPUTERIZATA A CREIERULUI INVESTIGATII REZULTAT DLP \n",
    "Medic Laborator : BURIAN MONICA\n",
    "PROTOCOL DE EXPLORARE PRIN COMPUTER TOMOGRAFIE DATA : 11 FEBRUARIE 2022 \n",
    "Nume si prenume : RUS OLIMPIU DUMITRU , 49 ani, Sex : M, TEL : +40 67 5745, E-mail : olimpiu_d@gmail.com\n",
    "CNP : 1730104060763, Licență : E000198985A, Înmatriculare : CD32156, Cont : LZWZ7170951927104999,\n",
    " \n",
    "Solicitare : Angio CT coronarian , kg : 100 Dg . de trimitere Stare post-AVCI . Stare post-trombectomie . Proces inlocuitor de spatiu ventricular stang\n",
    "Trimis de : Sectia Clinica Neurologie 1a SCJU Tirgu Mures\n",
    "Medic : Dr.Melanie Dana\n",
    "CONCLUZII : - Tromb ventricular stang de 20/40/17 mm , - Leziuni sechelar ischemice in segmentele apicale septal si inferior , cu aspect anevrismal apical VS - Leziune non-ischemica/MINOCA ?\n",
    "48\tmediocardiaca septala - Examenul AngioCT coronarian nu pune in evidenta ateromatoza sau stenoze coronariene semnificative.\"\"\""
   ]
  },
  {
   "cell_type": "markdown",
   "metadata": {},
   "source": [
    "### Important Parameters\n",
    "\n",
    "- **masking_policy**: `str`\n",
    "\n",
    "    Users can select a masking policy to determine how sensitive entities are handled:\n",
    "\n",
    "    Example: \"**LABORATOR RADStrada AbabeidaSacueni, 354573i, 3545730265-21011065-210110 ,OFFICE@SMURDICE@SMURD**\"\n",
    "\n",
    "    - **masked**: Default policy that masks entities with their type.\n",
    "\n",
    "      -> 'LABORATOR RADIOLOGIE, `<STREET>`, `<CITY>`, `<ZIP>` , TEL : `<PHONE>` , E-MAIL: `<EMAIL>`'\n",
    "\n",
    "    - **obfuscated**: Replaces sensitive entities with random values of the same type.\n",
    "\n",
    "      -> 'LABORATOR RADIOLOGIE, `Intrarea Diaconescu`, `Aiud`, `302784` , TEL : `0263 144 119` , E-MAIL: `jeneltudor@email.ro`'\n",
    "\n",
    "    - **masked_fixed_length_chars**: Masks entities with a fixed length of asterisks (\\*).\n",
    "\n",
    "      -> 'LABORATOR RADIOLOGIE, `****`, `****`, `****` , TEL : `****` , E-MAIL: `****`'\n",
    "\n",
    "    - **masked_with_chars**: Masks entities with asterisks (\\*).\n",
    "\n",
    "      -> 'LABORATOR RADIOLOGIE, [`***********`], [`*****`], [`****`] , TEL : [`*********`] , E-MAIL: [`**********`]'\n",
    "\n",
    "- **sep**: `str`\n",
    "\n",
    "    Separator used to join subparts within each prediction.\n",
    "\n",
    "    By default, the separator is set to a single space (\" \"), but users can specify any other separator as needed. Necessary because the model outputs predictions as separate subparts, and the chosen separator is used to join them into coherent text.\n",
    "\n",
    "    The separator must be one of the following characters: space (' '), newline ('\\n'), comma (','), tab ('\\t'), or colon (':').\n",
    "    \n",
    "You can specify these parameters in the input as follows:\n",
    "\n",
    "```json\n",
    "{\n",
    "    \"text\": [\n",
    "        \"Text document 1\",\n",
    "        \"Text document 2\",\n",
    "        ...\n",
    "    ],\n",
    "    \"masking_policy\": \"masked\",\n",
    "    \"sep\": \" \",\n",
    "}\n",
    "```"
   ]
  },
  {
   "cell_type": "markdown",
   "metadata": {},
   "source": [
    "### JSON"
   ]
  },
  {
   "cell_type": "markdown",
   "metadata": {
    "tags": []
   },
   "source": [
    "\n",
    "1. **Input format**: Single Text Document\n",
    "\n",
    "Provide a single text document as a string.\n",
    "\n",
    "  \n",
    "  \n",
    "```json\n",
    "{\n",
    "    \"text\": \"Single text document\"\n",
    "}\n",
    "```\n",
    "\n",
    "2. **Input format**: Array of Text Documents\n",
    "\n",
    "Use an array containing multiple text documents. Each element represents a separate text document.\n",
    "\n",
    "```json\n",
    "{\n",
    "    \"text\": [\n",
    "        \"Text document 1\",\n",
    "        \"Text document 2\",\n",
    "        ...\n",
    "    ]\n",
    "}\n",
    "```"
   ]
  },
  {
   "cell_type": "markdown",
   "metadata": {
    "tags": []
   },
   "source": [
    "#### Example 1: masked (default-policy)"
   ]
  },
  {
   "cell_type": "code",
   "execution_count": 8,
   "metadata": {
    "tags": []
   },
   "outputs": [
    {
     "data": {
      "text/html": [
       "<div>\n",
       "<style scoped>\n",
       "    .dataframe tbody tr th:only-of-type {\n",
       "        vertical-align: middle;\n",
       "    }\n",
       "\n",
       "    .dataframe tbody tr th {\n",
       "        vertical-align: top;\n",
       "    }\n",
       "\n",
       "    .dataframe thead th {\n",
       "        text-align: right;\n",
       "    }\n",
       "</style>\n",
       "<table border=\"1\" class=\"dataframe\">\n",
       "  <thead>\n",
       "    <tr style=\"text-align: right;\">\n",
       "      <th></th>\n",
       "      <th>predictions</th>\n",
       "    </tr>\n",
       "  </thead>\n",
       "  <tbody>\n",
       "    <tr>\n",
       "      <th>0</th>\n",
       "      <td>TOMOGRAFIA COMPUTERIZATA A CREIERULUI INVESTIGATII REZULTAT DLP Medic Laborator : &lt;DOCTOR&gt; PRO. .. TOMOGRAFIA COMPUTERIZATA A CREIERULUI INVESTIGATII REZULTAT DLP Medic Laborator : &lt;DOCTOR&gt; PROTOCOL DE EXPLORARE PRIN COMPUTER TOMOGRAFIE DATA : &lt;DATE&gt; Nume si prenume : &lt;PATIENT&gt; , &lt;AGE&gt; ani, Sex : M, TEL : &lt;PHONE&gt;, E-mail : &lt;EMAIL&gt; CNP : &lt;LICENSE&gt;, Licență : &lt;LICENSE&gt;, Înmatriculare : &lt;PLATE&gt;, Cont : &lt;ACCOUNT&gt;,\\n \\nSolicitare : Angio CT coronarian , kg : 100 Dg . de trimitere Stare post-AVCI . Stare post-trombectomie . Proces inlocuitor de spatiu ventricular stang Trimis de : Sectia Clinica Neurologie 1a &lt;HOSPITAL&gt; Medic : &lt;DOCTOR&gt; CONCLUZII : - Tromb ventricular stang de 20/40/17 mm , - Leziuni sechelar ischemice in segmentele apicale septal si inferior , cu aspect anevrismal apical VS - Leziune non-ischemica/MINOCA ? 48\\tmediocardiaca septala - Examenul AngioCT coronarian nu pune in evidenta ateromatoza sau stenoze coronariene semnificative.</td>\n",
       "    </tr>\n",
       "  </tbody>\n",
       "</table>\n",
       "</div>"
      ],
      "text/plain": [
       "                                                                                                                                                                                                                                                                                                                                                                                                                                                                                                                                                                                                                                                                                                                                                                                                                                                                                                                                                                                    predictions\n",
       "0  TOMOGRAFIA COMPUTERIZATA A CREIERULUI INVESTIGATII REZULTAT DLP Medic Laborator : <DOCTOR> PRO. .. TOMOGRAFIA COMPUTERIZATA A CREIERULUI INVESTIGATII REZULTAT DLP Medic Laborator : <DOCTOR> PROTOCOL DE EXPLORARE PRIN COMPUTER TOMOGRAFIE DATA : <DATE> Nume si prenume : <PATIENT> , <AGE> ani, Sex : M, TEL : <PHONE>, E-mail : <EMAIL> CNP : <LICENSE>, Licență : <LICENSE>, Înmatriculare : <PLATE>, Cont : <ACCOUNT>,\\n \\nSolicitare : Angio CT coronarian , kg : 100 Dg . de trimitere Stare post-AVCI . Stare post-trombectomie . Proces inlocuitor de spatiu ventricular stang Trimis de : Sectia Clinica Neurologie 1a <HOSPITAL> Medic : <DOCTOR> CONCLUZII : - Tromb ventricular stang de 20/40/17 mm , - Leziuni sechelar ischemice in segmentele apicale septal si inferior , cu aspect anevrismal apical VS - Leziune non-ischemica/MINOCA ? 48\\tmediocardiaca septala - Examenul AngioCT coronarian nu pune in evidenta ateromatoza sau stenoze coronariene semnificative."
      ]
     },
     "execution_count": 8,
     "metadata": {},
     "output_type": "execute_result"
    }
   ],
   "source": [
    "input_json_data = {\"text\": sample_text}\n",
    "\n",
    "data =  process_data_and_invoke_realtime_endpoint(input_json_data, content_type=\"application/json\" , accept=\"application/json\" )\n",
    "\n",
    "pd.DataFrame(data)"
   ]
  },
  {
   "cell_type": "markdown",
   "metadata": {},
   "source": [
    "#### Example 2: obfuscated"
   ]
  },
  {
   "cell_type": "code",
   "execution_count": 9,
   "metadata": {
    "tags": []
   },
   "outputs": [
    {
     "data": {
      "text/html": [
       "<div>\n",
       "<style scoped>\n",
       "    .dataframe tbody tr th:only-of-type {\n",
       "        vertical-align: middle;\n",
       "    }\n",
       "\n",
       "    .dataframe tbody tr th {\n",
       "        vertical-align: top;\n",
       "    }\n",
       "\n",
       "    .dataframe thead th {\n",
       "        text-align: right;\n",
       "    }\n",
       "</style>\n",
       "<table border=\"1\" class=\"dataframe\">\n",
       "  <thead>\n",
       "    <tr style=\"text-align: right;\">\n",
       "      <th></th>\n",
       "      <th>predictions</th>\n",
       "    </tr>\n",
       "  </thead>\n",
       "  <tbody>\n",
       "    <tr>\n",
       "      <th>0</th>\n",
       "      <td>TOMOGRAFIA COMPUTERIZATA A CREIERULUI INVESTIGATII REZULTAT DLP Medic Laborator : Doina Gheorghiu PRO. .. TOMOGRAFIA COMPUTERIZATA A CREIERULUI INVESTIGATII REZULTAT DLP Medic Laborator : Doina Gheorghiu PROTOCOL DE EXPLORARE PRIN COMPUTER TOMOGRAFIE DATA : 11 FEBRUARIE 2022 Nume si prenume : Dinut Liliana Daniela , 83 ani, Sex : M, TEL : +16 10 9604, E-mail : lstancu@zzup.ro CNP : 5409811914782, Licență : N562130865H, Înmatriculare : QI69629, Cont : SEAE8282288015490352,\\n \\nSolicitare : Angio CT coronarian , kg : 100 Dg . de trimitere Stare post-AVCI . Stare post-trombectomie . Proces inlocuitor de spatiu ventricular stang Trimis de : Sectia Clinica Neurologie 1a Institutul Clinic de Urologie si Transplant Renal Medic : Agata Voinea CONCLUZII : - Tromb ventricular stang de 20/40/17 mm , - Leziuni sechelar ischemice in segmentele apicale septal si inferior , cu aspect anevrismal apical VS - Leziune non-ischemica/MINOCA ? 48\\tmediocardiaca septala - Examenul AngioCT coronarian nu pune in evidenta ateromatoza sau stenoze coronariene semnificative.</td>\n",
       "    </tr>\n",
       "  </tbody>\n",
       "</table>\n",
       "</div>"
      ],
      "text/plain": [
       "                                                                                                                                                                                                                                                                                                                                                                                                                                                                                                                                                                                                                                                                                                                                                                                                                                                                                                                                                                                                                                                                                              predictions\n",
       "0  TOMOGRAFIA COMPUTERIZATA A CREIERULUI INVESTIGATII REZULTAT DLP Medic Laborator : Doina Gheorghiu PRO. .. TOMOGRAFIA COMPUTERIZATA A CREIERULUI INVESTIGATII REZULTAT DLP Medic Laborator : Doina Gheorghiu PROTOCOL DE EXPLORARE PRIN COMPUTER TOMOGRAFIE DATA : 11 FEBRUARIE 2022 Nume si prenume : Dinut Liliana Daniela , 83 ani, Sex : M, TEL : +16 10 9604, E-mail : lstancu@zzup.ro CNP : 5409811914782, Licență : N562130865H, Înmatriculare : QI69629, Cont : SEAE8282288015490352,\\n \\nSolicitare : Angio CT coronarian , kg : 100 Dg . de trimitere Stare post-AVCI . Stare post-trombectomie . Proces inlocuitor de spatiu ventricular stang Trimis de : Sectia Clinica Neurologie 1a Institutul Clinic de Urologie si Transplant Renal Medic : Agata Voinea CONCLUZII : - Tromb ventricular stang de 20/40/17 mm , - Leziuni sechelar ischemice in segmentele apicale septal si inferior , cu aspect anevrismal apical VS - Leziune non-ischemica/MINOCA ? 48\\tmediocardiaca septala - Examenul AngioCT coronarian nu pune in evidenta ateromatoza sau stenoze coronariene semnificative."
      ]
     },
     "execution_count": 9,
     "metadata": {},
     "output_type": "execute_result"
    }
   ],
   "source": [
    "input_json_data = {\"text\": sample_text, \"masking_policy\": \"obfuscated\"}\n",
    "\n",
    "data =  process_data_and_invoke_realtime_endpoint(input_json_data, content_type=\"application/json\" , accept=\"application/json\" )\n",
    "\n",
    "pd.DataFrame(data)"
   ]
  },
  {
   "cell_type": "markdown",
   "metadata": {},
   "source": [
    "#### Example 3: masked (default-policy)"
   ]
  },
  {
   "cell_type": "code",
   "execution_count": 10,
   "metadata": {
    "tags": []
   },
   "outputs": [
    {
     "data": {
      "text/html": [
       "<div>\n",
       "<style scoped>\n",
       "    .dataframe tbody tr th:only-of-type {\n",
       "        vertical-align: middle;\n",
       "    }\n",
       "\n",
       "    .dataframe tbody tr th {\n",
       "        vertical-align: top;\n",
       "    }\n",
       "\n",
       "    .dataframe thead th {\n",
       "        text-align: right;\n",
       "    }\n",
       "</style>\n",
       "<table border=\"1\" class=\"dataframe\">\n",
       "  <thead>\n",
       "    <tr style=\"text-align: right;\">\n",
       "      <th></th>\n",
       "      <th>predictions</th>\n",
       "    </tr>\n",
       "  </thead>\n",
       "  <tbody>\n",
       "    <tr>\n",
       "      <th>0</th>\n",
       "      <td>LABORATOR RADIOLOGIE, &lt;STREET&gt;, &lt;CITY&gt;, &lt;ZIP&gt; , TEL : &lt;PHONE&gt; , E-MAIL: &lt;EMAIL&gt; Data. .. LABORATOR RADIOLOGIE, &lt;STREET&gt;, &lt;CITY&gt;, &lt;ZIP&gt; , TEL : &lt;PHONE&gt; , E-MAIL: &lt;EMAIL&gt; Data setului de analize : &lt;DATE&gt; 18:45:00 Inregistrat de : &lt;DOCTOR&gt; &lt;DOCTOR&gt; Nume si prenume : &lt;PATIENT&gt; Varsta : &lt;AGE&gt; , Sex : Masculin TEL : &lt;PHONE&gt; E-mail : &lt;EMAIL&gt; C.N.P : &lt;IDNUM&gt; Cod pacient : &lt;IDNUM&gt; Licență : &lt;LICENSE&gt;, Înmatriculare : &lt;PLATE&gt;, \\nCont : &lt;ACCOUNT&gt;,\\n \\nLA ORA : &lt;DATE&gt; 14:54_ VALIDAT DE :Dr. &lt;DOCTOR&gt; ; \\nINVESTIGATII : CT TORACICÃ NATIVÃ</td>\n",
       "    </tr>\n",
       "    <tr>\n",
       "      <th>1</th>\n",
       "      <td>Medic : Dr. &lt;DOCTOR&gt;, \\nC.N.P : &lt;IDNUM&gt;, Data setului de analize: &lt;DATE&gt; Varsta : &lt;AGE&gt;&lt;PATIENT&gt; Medic : Dr. &lt;DOCTOR&gt;, \\nC.N.P : &lt;IDNUM&gt;, Data setului de analize: &lt;DATE&gt; Varsta : &lt;AGE&gt;, Nume si Prenume : &lt;PATIENT&gt; Tel: &lt;PHONE&gt;, \\nE-mail : &lt;EMAIL&gt;,\\nLicență : &lt;LICENSE&gt;, \\nÎnmatriculare : &lt;PLATE&gt;, \\nCont : &lt;ACCOUNT&gt;, \\n&lt;HOSPITAL&gt; ,&lt;STREET&gt; &lt;CITY&gt;, &lt;ZIP&gt;\\n\\nbolus 10 ml Iomeron 350 urmate de 30 ml flush salin cu 5 ml/s . Se continua cu 65 ml contrast si 30 ml flush salin , cu acelasi flux . Se efectueaza o examinare angio-CT coronariana cu achizitii spirale cu reconstructii retrospective la o frecventa cardiaca medie de 60/min . Opacifiere buna a patului vascular si cavitatilor cardiace . Fara incidente sau accidente pe parcursul examinarii . CONCLUZII : - Stare dupa stentare ramus intermedius si artera coronara dreapta . Aspect corespunzator al stenturilor , cu minima stenoza la nivelul ACD si cu flux distal corespunzator.</td>\n",
       "    </tr>\n",
       "  </tbody>\n",
       "</table>\n",
       "</div>"
      ],
      "text/plain": [
       "                                                                                                                                                                                                                                                                                                                                                                                                                                                                                                                                                                                                                                                                                                                                                                                                                                                                                                                                                             predictions\n",
       "0                                                                                                                                                                                                                                                                                                                                                                                                                     LABORATOR RADIOLOGIE, <STREET>, <CITY>, <ZIP> , TEL : <PHONE> , E-MAIL: <EMAIL> Data. .. LABORATOR RADIOLOGIE, <STREET>, <CITY>, <ZIP> , TEL : <PHONE> , E-MAIL: <EMAIL> Data setului de analize : <DATE> 18:45:00 Inregistrat de : <DOCTOR> <DOCTOR> Nume si prenume : <PATIENT> Varsta : <AGE> , Sex : Masculin TEL : <PHONE> E-mail : <EMAIL> C.N.P : <IDNUM> Cod pacient : <IDNUM> Licență : <LICENSE>, Înmatriculare : <PLATE>, \\nCont : <ACCOUNT>,\\n \\nLA ORA : <DATE> 14:54_ VALIDAT DE :Dr. <DOCTOR> ; \\nINVESTIGATII : CT TORACICÃ NATIVÃ\n",
       "1  Medic : Dr. <DOCTOR>, \\nC.N.P : <IDNUM>, Data setului de analize: <DATE> Varsta : <AGE><PATIENT> Medic : Dr. <DOCTOR>, \\nC.N.P : <IDNUM>, Data setului de analize: <DATE> Varsta : <AGE>, Nume si Prenume : <PATIENT> Tel: <PHONE>, \\nE-mail : <EMAIL>,\\nLicență : <LICENSE>, \\nÎnmatriculare : <PLATE>, \\nCont : <ACCOUNT>, \\n<HOSPITAL> ,<STREET> <CITY>, <ZIP>\\n\\nbolus 10 ml Iomeron 350 urmate de 30 ml flush salin cu 5 ml/s . Se continua cu 65 ml contrast si 30 ml flush salin , cu acelasi flux . Se efectueaza o examinare angio-CT coronariana cu achizitii spirale cu reconstructii retrospective la o frecventa cardiaca medie de 60/min . Opacifiere buna a patului vascular si cavitatilor cardiace . Fara incidente sau accidente pe parcursul examinarii . CONCLUZII : - Stare dupa stentare ramus intermedius si artera coronara dreapta . Aspect corespunzator al stenturilor , cu minima stenoza la nivelul ACD si cu flux distal corespunzator."
      ]
     },
     "execution_count": 10,
     "metadata": {},
     "output_type": "execute_result"
    }
   ],
   "source": [
    "input_json_data = {\"text\": docs}\n",
    "\n",
    "data =  process_data_and_invoke_realtime_endpoint(input_json_data, content_type=\"application/json\" , accept=\"application/json\" )\n",
    "\n",
    "pd.DataFrame(data)"
   ]
  },
  {
   "cell_type": "markdown",
   "metadata": {},
   "source": [
    "#### Example 4: obfuscated"
   ]
  },
  {
   "cell_type": "code",
   "execution_count": 11,
   "metadata": {
    "tags": []
   },
   "outputs": [
    {
     "data": {
      "text/html": [
       "<div>\n",
       "<style scoped>\n",
       "    .dataframe tbody tr th:only-of-type {\n",
       "        vertical-align: middle;\n",
       "    }\n",
       "\n",
       "    .dataframe tbody tr th {\n",
       "        vertical-align: top;\n",
       "    }\n",
       "\n",
       "    .dataframe thead th {\n",
       "        text-align: right;\n",
       "    }\n",
       "</style>\n",
       "<table border=\"1\" class=\"dataframe\">\n",
       "  <thead>\n",
       "    <tr style=\"text-align: right;\">\n",
       "      <th></th>\n",
       "      <th>predictions</th>\n",
       "    </tr>\n",
       "  </thead>\n",
       "  <tbody>\n",
       "    <tr>\n",
       "      <th>0</th>\n",
       "      <td>LABORATOR RADIOLOGIE, Drumul Tudor, Aiud, 161096 , TEL : 0454-098119 , E-MAIL: jeneltudor@email.ro Data. .. LABORATOR RADIOLOGIE, Drumul Tudor, Aiud, 147829 , TEL : 5621-308657 , E-MAIL: jeneltudor@email.ro Data setului de analize : 10 May 2022 18:45:00 Inregistrat de : EFTIMIE, Sinică Doina Gheorghiu Nume si prenume : Dobrin Figan Varsta : 94 , Sex : Masculin TEL : 846 96 295 2 E-mail : hcristea@141.ro C.N.P : 8413244010272 Cod pacient : 536644034742595 Licență : G3875643P, Înmatriculare : IR51884, \\nCont : OATD2344587666964477,\\n \\nLA ORA : 10/12/2021 14:54_ VALIDAT DE :Dr. Iurie Caius Stoica ; \\nINVESTIGATII : CT TORACICÃ NATIVÃ</td>\n",
       "    </tr>\n",
       "    <tr>\n",
       "      <th>1</th>\n",
       "      <td>Medic : Dr. R.T., \\nC.N.P : 1660630160109, Data setului de analize: 25 May 2022 Varsta : 91Dinut Liliana Daniela Medic : Dr. R.T., \\nC.N.P : 3235573220254, Data setului de analize: 25 May 2022 Varsta : 91, Nume si Prenume : Dragan Mihai Tel: +27(062)376283, \\nE-mail : jeneltudor@email.ro,\\nLicență : T517616073X, \\nÎnmatriculare : TG626948, \\nCont : KHHO5029180812813651, \\nInstitutul Clinic de Urologie si Transplant Renal ,Intrarea Diaconescu Curcani, 546270\\n\\nbolus 10 ml Iomeron 350 urmate de 30 ml flush salin cu 5 ml/s . Se continua cu 65 ml contrast si 30 ml flush salin , cu acelasi flux . Se efectueaza o examinare angio-CT coronariana cu achizitii spirale cu reconstructii retrospective la o frecventa cardiaca medie de 60/min . Opacifiere buna a patului vascular si cavitatilor cardiace . Fara incidente sau accidente pe parcursul examinarii . CONCLUZII : - Stare dupa stentare ramus intermedius si artera coronara dreapta . Aspect corespunzator al stenturilor , cu minima stenoza la nivelul ACD si cu flux distal corespunzator.</td>\n",
       "    </tr>\n",
       "  </tbody>\n",
       "</table>\n",
       "</div>"
      ],
      "text/plain": [
       "                                                                                                                                                                                                                                                                                                                                                                                                                                                                                                                                                                                                                                                                                                                                                                                                                                                                                                                                                                                                                                                                         predictions\n",
       "0                                                                                                                                                                                                                                                                                                                                                                                                                    LABORATOR RADIOLOGIE, Drumul Tudor, Aiud, 161096 , TEL : 0454-098119 , E-MAIL: jeneltudor@email.ro Data. .. LABORATOR RADIOLOGIE, Drumul Tudor, Aiud, 147829 , TEL : 5621-308657 , E-MAIL: jeneltudor@email.ro Data setului de analize : 10 May 2022 18:45:00 Inregistrat de : EFTIMIE, Sinică Doina Gheorghiu Nume si prenume : Dobrin Figan Varsta : 94 , Sex : Masculin TEL : 846 96 295 2 E-mail : hcristea@141.ro C.N.P : 8413244010272 Cod pacient : 536644034742595 Licență : G3875643P, Înmatriculare : IR51884, \\nCont : OATD2344587666964477,\\n \\nLA ORA : 10/12/2021 14:54_ VALIDAT DE :Dr. Iurie Caius Stoica ; \\nINVESTIGATII : CT TORACICÃ NATIVÃ\n",
       "1  Medic : Dr. R.T., \\nC.N.P : 1660630160109, Data setului de analize: 25 May 2022 Varsta : 91Dinut Liliana Daniela Medic : Dr. R.T., \\nC.N.P : 3235573220254, Data setului de analize: 25 May 2022 Varsta : 91, Nume si Prenume : Dragan Mihai Tel: +27(062)376283, \\nE-mail : jeneltudor@email.ro,\\nLicență : T517616073X, \\nÎnmatriculare : TG626948, \\nCont : KHHO5029180812813651, \\nInstitutul Clinic de Urologie si Transplant Renal ,Intrarea Diaconescu Curcani, 546270\\n\\nbolus 10 ml Iomeron 350 urmate de 30 ml flush salin cu 5 ml/s . Se continua cu 65 ml contrast si 30 ml flush salin , cu acelasi flux . Se efectueaza o examinare angio-CT coronariana cu achizitii spirale cu reconstructii retrospective la o frecventa cardiaca medie de 60/min . Opacifiere buna a patului vascular si cavitatilor cardiace . Fara incidente sau accidente pe parcursul examinarii . CONCLUZII : - Stare dupa stentare ramus intermedius si artera coronara dreapta . Aspect corespunzator al stenturilor , cu minima stenoza la nivelul ACD si cu flux distal corespunzator."
      ]
     },
     "execution_count": 11,
     "metadata": {},
     "output_type": "execute_result"
    }
   ],
   "source": [
    "input_json_data = {\"text\": docs, \"masking_policy\": \"obfuscated\"}\n",
    "\n",
    "data =  process_data_and_invoke_realtime_endpoint(input_json_data, content_type=\"application/json\" , accept=\"application/json\" )\n",
    "\n",
    "pd.DataFrame(data)"
   ]
  },
  {
   "cell_type": "markdown",
   "metadata": {},
   "source": [
    "### JSON Lines"
   ]
  },
  {
   "cell_type": "markdown",
   "metadata": {},
   "source": [
    "1. **Input format**: Provide input in JSON Lines format, where each line is a JSON object representing a text document along with any optional parameters.\n",
    "\n",
    "```json\n",
    "{\"text\": \"Text document 1\"}\n",
    "{\"text\": \"Text document 2\"}\n",
    "```"
   ]
  },
  {
   "cell_type": "code",
   "execution_count": 12,
   "metadata": {
    "tags": []
   },
   "outputs": [],
   "source": [
    "import json\n",
    "\n",
    "def create_jsonl(records, masking_policy):\n",
    "    json_records = []\n",
    "\n",
    "    for text in records:\n",
    "        record = {\n",
    "            \"text\": text,\n",
    "            \"masking_policy\": masking_policy\n",
    "        }\n",
    "        json_records.append(record)\n",
    "\n",
    "    json_lines = '\\n'.join(json.dumps(record) for record in json_records)\n",
    "\n",
    "    return json_lines"
   ]
  },
  {
   "cell_type": "markdown",
   "metadata": {
    "tags": []
   },
   "source": [
    "#### Example 1: masked (default-policy)"
   ]
  },
  {
   "cell_type": "code",
   "execution_count": 13,
   "metadata": {
    "tags": []
   },
   "outputs": [
    {
     "name": "stdout",
     "output_type": "stream",
     "text": [
      "{\"predictions\": \"LABORATOR RADIOLOGIE, <STREET>, <CITY>, <ZIP> , TEL : <PHONE> , E-MAIL: <EMAIL> Data. .. LABORATOR RADIOLOGIE, <STREET>, <CITY>, <ZIP> , TEL : <PHONE> , E-MAIL: <EMAIL> Data setului de analize : <DATE> 18:45:00 Inregistrat de : <DOCTOR> <DOCTOR> Nume si prenume : <PATIENT> Varsta : <AGE> , Sex : Masculin TEL : <PHONE> E-mail : <EMAIL> C.N.P : <IDNUM> Cod pacient : <IDNUM> Licență : <LICENSE>, Înmatriculare : <PLATE>, \\nCont : <ACCOUNT>,\\n \\nLA ORA : <DATE> 14:54_ VALIDAT DE :Dr. <DOCTOR> ; \\nINVESTIGATII : CT TORACICÃ NATIVÃ\"}\n",
      "{\"predictions\": \"Medic : Dr. <DOCTOR>, \\nC.N.P : <IDNUM>, Data setului de analize: <DATE> Varsta : <AGE><PATIENT> Medic : Dr. <DOCTOR>, \\nC.N.P : <IDNUM>, Data setului de analize: <DATE> Varsta : <AGE>, Nume si Prenume : <PATIENT> Tel: <PHONE>, \\nE-mail : <EMAIL>,\\nLicență : <LICENSE>, \\nÎnmatriculare : <PLATE>, \\nCont : <ACCOUNT>, \\n<HOSPITAL> ,<STREET> <CITY>, <ZIP>\\n\\nbolus 10 ml Iomeron 350 urmate de 30 ml flush salin cu 5 ml/s . Se continua cu 65 ml contrast si 30 ml flush salin , cu acelasi flux . Se efectueaza o examinare angio-CT coronariana cu achizitii spirale cu reconstructii retrospective la o frecventa cardiaca medie de 60/min . Opacifiere buna a patului vascular si cavitatilor cardiace . Fara incidente sau accidente pe parcursul examinarii . CONCLUZII : - Stare dupa stentare ramus intermedius si artera coronara dreapta . Aspect corespunzator al stenturilor , cu minima stenoza la nivelul ACD si cu flux distal corespunzator.\"}\n"
     ]
    }
   ],
   "source": [
    "input_jsonl_data = create_jsonl(docs, masking_policy=\"masked\")\n",
    "\n",
    "data =  process_data_and_invoke_realtime_endpoint(input_jsonl_data, content_type=\"application/jsonlines\" , accept=\"application/jsonlines\" )\n",
    "\n",
    "print(data)"
   ]
  },
  {
   "cell_type": "markdown",
   "metadata": {
    "tags": []
   },
   "source": [
    "#### Example 2: obfuscated"
   ]
  },
  {
   "cell_type": "code",
   "execution_count": 14,
   "metadata": {
    "tags": []
   },
   "outputs": [
    {
     "name": "stdout",
     "output_type": "stream",
     "text": [
      "{\"predictions\": \"LABORATOR RADIOLOGIE, Drumul Tudor, Aiud, 161096 , TEL : 0454-098119 , E-MAIL: jeneltudor@email.ro Data. .. LABORATOR RADIOLOGIE, Drumul Tudor, Aiud, 147829 , TEL : 5621-308657 , E-MAIL: jeneltudor@email.ro Data setului de analize : 10 May 2022 18:45:00 Inregistrat de : EFTIMIE, Sinică Doina Gheorghiu Nume si prenume : Dobrin Figan Varsta : 94 , Sex : Masculin TEL : 846 96 295 2 E-mail : hcristea@141.ro C.N.P : 8413244010272 Cod pacient : 536644034742595 Licență : G3875643P, Înmatriculare : IR51884, \\nCont : OATD2344587666964477,\\n \\nLA ORA : 10/12/2021 14:54_ VALIDAT DE :Dr. Iurie Caius Stoica ; \\nINVESTIGATII : CT TORACICÃ NATIVÃ\"}\n",
      "{\"predictions\": \"Medic : Dr. R.T., \\nC.N.P : 1610960454098, Data setului de analize: 25 May 2022 Varsta : 91Dinut Liliana Daniela Medic : Dr. R.T., \\nC.N.P : 1191478295621, Data setului de analize: 25 May 2022 Varsta : 91, Nume si Prenume : Dragan Mihai Tel: +30(865)784696, \\nE-mail : jeneltudor@email.ro,\\nLicență : E952841324M, \\nÎnmatriculare : WN027253, \\nCont : KHHO5029180812813651, \\nInstitutul Clinic de Urologie si Transplant Renal ,Intrarea Diaconescu Curcani, 664403\\n\\nbolus 10 ml Iomeron 350 urmate de 30 ml flush salin cu 5 ml/s . Se continua cu 65 ml contrast si 30 ml flush salin , cu acelasi flux . Se efectueaza o examinare angio-CT coronariana cu achizitii spirale cu reconstructii retrospective la o frecventa cardiaca medie de 60/min . Opacifiere buna a patului vascular si cavitatilor cardiace . Fara incidente sau accidente pe parcursul examinarii . CONCLUZII : - Stare dupa stentare ramus intermedius si artera coronara dreapta . Aspect corespunzator al stenturilor , cu minima stenoza la nivelul ACD si cu flux distal corespunzator.\"}\n"
     ]
    }
   ],
   "source": [
    "input_jsonl_data = create_jsonl(docs, masking_policy=\"obfuscated\")\n",
    "\n",
    "data =  process_data_and_invoke_realtime_endpoint(input_jsonl_data, content_type=\"application/jsonlines\" , accept=\"application/jsonlines\" )\n",
    "\n",
    "print(data)"
   ]
  },
  {
   "cell_type": "markdown",
   "metadata": {},
   "source": [
    "### C. Delete the endpoint"
   ]
  },
  {
   "cell_type": "markdown",
   "metadata": {},
   "source": [
    "Now that you have successfully performed a real-time inference, you do not need the endpoint any more. You can terminate the endpoint to avoid being charged."
   ]
  },
  {
   "cell_type": "code",
   "execution_count": 15,
   "metadata": {
    "tags": []
   },
   "outputs": [],
   "source": [
    "model.sagemaker_session.delete_endpoint(model_name)\n",
    "model.sagemaker_session.delete_endpoint_config(model_name)"
   ]
  },
  {
   "cell_type": "markdown",
   "metadata": {
    "tags": []
   },
   "source": [
    "## 3. Batch inference"
   ]
  },
  {
   "cell_type": "code",
   "execution_count": 16,
   "metadata": {
    "tags": []
   },
   "outputs": [],
   "source": [
    "import json\n",
    "import os\n",
    "\n",
    "\n",
    "input_dir = 'inputs/batch'\n",
    "json_input_dir = f\"{input_dir}/json\"\n",
    "jsonl_input_dir = f\"{input_dir}/jsonl\"\n",
    "\n",
    "output_dir = 'outputs/batch'\n",
    "json_output_dir = f\"{output_dir}/json\"\n",
    "jsonl_output_dir = f\"{output_dir}/jsonl\"\n",
    "\n",
    "os.makedirs(json_input_dir, exist_ok=True)\n",
    "os.makedirs(jsonl_input_dir, exist_ok=True)\n",
    "os.makedirs(json_output_dir, exist_ok=True)\n",
    "os.makedirs(jsonl_output_dir, exist_ok=True)\n",
    "\n",
    "\n",
    "validation_input_json_path = f\"s3://{s3_bucket}/{model_name}/validation-input/batch/json/\"\n",
    "validation_output_json_path = f\"s3://{s3_bucket}/{model_name}/validation-output/batch/json/\"\n",
    "\n",
    "validation_input_jsonl_path = f\"s3://{s3_bucket}/{model_name}/validation-input/batch/jsonl/\"\n",
    "validation_output_jsonl_path = f\"s3://{s3_bucket}/{model_name}/validation-output/batch/jsonl/\"\n",
    "\n",
    "\n",
    "def write_and_upload_to_s3(input_data, file_name):\n",
    "\n",
    "    file_format = os.path.splitext(file_name)[1].lower()\n",
    "    s3_key = f\"{model_name}/validation-input/batch/{file_format[1:]}/{os.path.basename(file_name)}\"\n",
    "\n",
    "    if file_format == \".json\":\n",
    "        input_data_json = json.dumps(input_data, indent=4, ensure_ascii=False)\n",
    "\n",
    "        with open(file_name, \"w\", encoding='utf-8') as f:\n",
    "            f.write(input_data_json)\n",
    "    elif file_format == \".jsonl\":\n",
    "        with open(file_name, 'w', encoding='utf-8') as file:\n",
    "            for line in input_data.splitlines():\n",
    "                json_object = json.loads(line)\n",
    "                file.write(json.dumps(json_object, ensure_ascii=False) + '\\n')\n",
    "\n",
    "    with open(file_name, 'rb') as data:\n",
    "        s3_client.put_object(Bucket=s3_bucket, Key=s3_key, Body=data)\n",
    "\n",
    "    return input_data\n",
    "\n",
    "\n",
    "input_json_data = {\n",
    "    \"input1.json\": {\"text\": docs, \"masking_policy\": \"masked\"},\n",
    "    \"input2.json\": {\"text\": docs, \"masking_policy\": \"obfuscated\"},\n",
    "    \"input3.json\": {\"text\": docs, \"masking_policy\": \"masked_fixed_length_chars\"},\n",
    "    \"input4.json\": {\"text\": docs, \"masking_policy\": \"masked_with_chars\"}\n",
    "}\n",
    "\n",
    "input_jsonl_data = {\n",
    "    \"input1.jsonl\": create_jsonl(docs, masking_policy=\"masked\"),\n",
    "    \"input2.jsonl\": create_jsonl(docs, masking_policy=\"obfuscated\"),\n",
    "    \"input3.jsonl\": create_jsonl(docs, masking_policy=\"masked_fixed_length_chars\"),\n",
    "    \"input4.jsonl\": create_jsonl(docs, masking_policy=\"masked_with_chars\")\n",
    "}\n",
    "\n",
    "\n",
    "for file_name, data in input_json_data.items():\n",
    "    write_and_upload_to_s3(data, f\"{json_input_dir}/{file_name}\")\n",
    "\n",
    "for file_name, data in input_jsonl_data.items():\n",
    "    write_and_upload_to_s3(data, f\"{jsonl_input_dir}/{file_name}\")\n",
    "\n"
   ]
  },
  {
   "cell_type": "markdown",
   "metadata": {},
   "source": [
    "### JSON"
   ]
  },
  {
   "cell_type": "code",
   "execution_count": null,
   "metadata": {
    "tags": []
   },
   "outputs": [],
   "source": [
    "# Initialize a SageMaker Transformer object for making predictions\n",
    "transformer = model.transformer(\n",
    "    instance_count=1,\n",
    "    instance_type=batch_transform_inference_instance_type,\n",
    "    accept=\"application/json\",\n",
    "    output_path=validation_output_json_path\n",
    ")\n",
    "\n",
    "transformer.transform(validation_input_json_path, content_type=\"application/json\")\n",
    "transformer.wait()"
   ]
  },
  {
   "cell_type": "code",
   "execution_count": 18,
   "metadata": {
    "tags": []
   },
   "outputs": [],
   "source": [
    "from urllib.parse import urlparse\n",
    "\n",
    "def process_s3_json_output_and_save(validation_file_name):\n",
    "    \n",
    "    output_file_path = f\"{json_output_dir}/{validation_file_name}.out\"\n",
    "    parsed_url = urlparse(transformer.output_path)\n",
    "    file_key = f\"{parsed_url.path[1:]}{validation_file_name}.out\"\n",
    "    response = s3_client.get_object(Bucket=s3_bucket, Key=file_key)\n",
    "\n",
    "    data = json.loads(response[\"Body\"].read().decode(\"utf-8\"))\n",
    "    df = pd.DataFrame(data)\n",
    "    display(df)\n",
    "\n",
    "    with open(output_file_path, 'w', encoding='utf-8') as f_out:\n",
    "        json.dump(data, f_out, indent=4, ensure_ascii=False)"
   ]
  },
  {
   "cell_type": "code",
   "execution_count": 19,
   "metadata": {
    "tags": []
   },
   "outputs": [
    {
     "name": "stdout",
     "output_type": "stream",
     "text": [
      "Masking policy: masked\n"
     ]
    },
    {
     "data": {
      "text/html": [
       "<div>\n",
       "<style scoped>\n",
       "    .dataframe tbody tr th:only-of-type {\n",
       "        vertical-align: middle;\n",
       "    }\n",
       "\n",
       "    .dataframe tbody tr th {\n",
       "        vertical-align: top;\n",
       "    }\n",
       "\n",
       "    .dataframe thead th {\n",
       "        text-align: right;\n",
       "    }\n",
       "</style>\n",
       "<table border=\"1\" class=\"dataframe\">\n",
       "  <thead>\n",
       "    <tr style=\"text-align: right;\">\n",
       "      <th></th>\n",
       "      <th>predictions</th>\n",
       "    </tr>\n",
       "  </thead>\n",
       "  <tbody>\n",
       "    <tr>\n",
       "      <th>0</th>\n",
       "      <td>LABORATOR RADIOLOGIE, &lt;STREET&gt;, &lt;CITY&gt;, &lt;ZIP&gt; , TEL : &lt;PHONE&gt; , E-MAIL: &lt;EMAIL&gt; Data. .. LABORATOR RADIOLOGIE, &lt;STREET&gt;, &lt;CITY&gt;, &lt;ZIP&gt; , TEL : &lt;PHONE&gt; , E-MAIL: &lt;EMAIL&gt; Data setului de analize : &lt;DATE&gt; 18:45:00 Inregistrat de : &lt;DOCTOR&gt; &lt;DOCTOR&gt; Nume si prenume : &lt;PATIENT&gt; Varsta : &lt;AGE&gt; , Sex : Masculin TEL : &lt;PHONE&gt; E-mail : &lt;EMAIL&gt; C.N.P : &lt;IDNUM&gt; Cod pacient : &lt;IDNUM&gt; Licență : &lt;LICENSE&gt;, Înmatriculare : &lt;PLATE&gt;, \\nCont : &lt;ACCOUNT&gt;,\\n \\nLA ORA : &lt;DATE&gt; 14:54_ VALIDAT DE :Dr. &lt;DOCTOR&gt; ; \\nINVESTIGATII : CT TORACICÃ NATIVÃ</td>\n",
       "    </tr>\n",
       "    <tr>\n",
       "      <th>1</th>\n",
       "      <td>Medic : Dr. &lt;DOCTOR&gt;, \\nC.N.P : &lt;IDNUM&gt;, Data setului de analize: &lt;DATE&gt; Varsta : &lt;AGE&gt;&lt;PATIENT&gt; Medic : Dr. &lt;DOCTOR&gt;, \\nC.N.P : &lt;IDNUM&gt;, Data setului de analize: &lt;DATE&gt; Varsta : &lt;AGE&gt;, Nume si Prenume : &lt;PATIENT&gt; Tel: &lt;PHONE&gt;, \\nE-mail : &lt;EMAIL&gt;,\\nLicență : &lt;LICENSE&gt;, \\nÎnmatriculare : &lt;PLATE&gt;, \\nCont : &lt;ACCOUNT&gt;, \\n&lt;HOSPITAL&gt; ,&lt;STREET&gt; &lt;CITY&gt;, &lt;ZIP&gt;\\n\\nbolus 10 ml Iomeron 350 urmate de 30 ml flush salin cu 5 ml/s . Se continua cu 65 ml contrast si 30 ml flush salin , cu acelasi flux . Se efectueaza o examinare angio-CT coronariana cu achizitii spirale cu reconstructii retrospective la o frecventa cardiaca medie de 60/min . Opacifiere buna a patului vascular si cavitatilor cardiace . Fara incidente sau accidente pe parcursul examinarii . CONCLUZII : - Stare dupa stentare ramus intermedius si artera coronara dreapta . Aspect corespunzator al stenturilor , cu minima stenoza la nivelul ACD si cu flux distal corespunzator.</td>\n",
       "    </tr>\n",
       "  </tbody>\n",
       "</table>\n",
       "</div>"
      ],
      "text/plain": [
       "                                                                                                                                                                                                                                                                                                                                                                                                                                                                                                                                                                                                                                                                                                                                                                                                                                                                                                                                                             predictions\n",
       "0                                                                                                                                                                                                                                                                                                                                                                                                                     LABORATOR RADIOLOGIE, <STREET>, <CITY>, <ZIP> , TEL : <PHONE> , E-MAIL: <EMAIL> Data. .. LABORATOR RADIOLOGIE, <STREET>, <CITY>, <ZIP> , TEL : <PHONE> , E-MAIL: <EMAIL> Data setului de analize : <DATE> 18:45:00 Inregistrat de : <DOCTOR> <DOCTOR> Nume si prenume : <PATIENT> Varsta : <AGE> , Sex : Masculin TEL : <PHONE> E-mail : <EMAIL> C.N.P : <IDNUM> Cod pacient : <IDNUM> Licență : <LICENSE>, Înmatriculare : <PLATE>, \\nCont : <ACCOUNT>,\\n \\nLA ORA : <DATE> 14:54_ VALIDAT DE :Dr. <DOCTOR> ; \\nINVESTIGATII : CT TORACICÃ NATIVÃ\n",
       "1  Medic : Dr. <DOCTOR>, \\nC.N.P : <IDNUM>, Data setului de analize: <DATE> Varsta : <AGE><PATIENT> Medic : Dr. <DOCTOR>, \\nC.N.P : <IDNUM>, Data setului de analize: <DATE> Varsta : <AGE>, Nume si Prenume : <PATIENT> Tel: <PHONE>, \\nE-mail : <EMAIL>,\\nLicență : <LICENSE>, \\nÎnmatriculare : <PLATE>, \\nCont : <ACCOUNT>, \\n<HOSPITAL> ,<STREET> <CITY>, <ZIP>\\n\\nbolus 10 ml Iomeron 350 urmate de 30 ml flush salin cu 5 ml/s . Se continua cu 65 ml contrast si 30 ml flush salin , cu acelasi flux . Se efectueaza o examinare angio-CT coronariana cu achizitii spirale cu reconstructii retrospective la o frecventa cardiaca medie de 60/min . Opacifiere buna a patului vascular si cavitatilor cardiace . Fara incidente sau accidente pe parcursul examinarii . CONCLUZII : - Stare dupa stentare ramus intermedius si artera coronara dreapta . Aspect corespunzator al stenturilor , cu minima stenoza la nivelul ACD si cu flux distal corespunzator."
      ]
     },
     "metadata": {},
     "output_type": "display_data"
    },
    {
     "name": "stdout",
     "output_type": "stream",
     "text": [
      "\n",
      "\n",
      "Masking policy: obfuscated\n"
     ]
    },
    {
     "data": {
      "text/html": [
       "<div>\n",
       "<style scoped>\n",
       "    .dataframe tbody tr th:only-of-type {\n",
       "        vertical-align: middle;\n",
       "    }\n",
       "\n",
       "    .dataframe tbody tr th {\n",
       "        vertical-align: top;\n",
       "    }\n",
       "\n",
       "    .dataframe thead th {\n",
       "        text-align: right;\n",
       "    }\n",
       "</style>\n",
       "<table border=\"1\" class=\"dataframe\">\n",
       "  <thead>\n",
       "    <tr style=\"text-align: right;\">\n",
       "      <th></th>\n",
       "      <th>predictions</th>\n",
       "    </tr>\n",
       "  </thead>\n",
       "  <tbody>\n",
       "    <tr>\n",
       "      <th>0</th>\n",
       "      <td>LABORATOR RADIOLOGIE, Drumul Tudor, Aiud, 161096 , TEL : 0454-098119 , E-MAIL: jeneltudor@email.ro Data. .. LABORATOR RADIOLOGIE, Drumul Tudor, Aiud, 147829 , TEL : 5621-308657 , E-MAIL: jeneltudor@email.ro Data setului de analize : 10 May 2022 18:45:00 Inregistrat de : EFTIMIE, Sinică Doina Gheorghiu Nume si prenume : Dobrin Figan Varsta : 94 , Sex : Masculin TEL : 846 96 295 2 E-mail : hcristea@141.ro C.N.P : 8413244010272 Cod pacient : 536644034742595 Licență : G3875643P, Înmatriculare : IR51884, \\nCont : OATD2344587666964477,\\n \\nLA ORA : 10/12/2021 14:54_ VALIDAT DE :Dr. Iurie Caius Stoica ; \\nINVESTIGATII : CT TORACICÃ NATIVÃ</td>\n",
       "    </tr>\n",
       "    <tr>\n",
       "      <th>1</th>\n",
       "      <td>Medic : Dr. R.T., \\nC.N.P : 1610960454098, Data setului de analize: 25 May 2022 Varsta : 91Dinut Liliana Daniela Medic : Dr. R.T., \\nC.N.P : 1191478295621, Data setului de analize: 25 May 2022 Varsta : 91, Nume si Prenume : Dragan Mihai Tel: +30(865)784696, \\nE-mail : jeneltudor@email.ro,\\nLicență : E952841324M, \\nÎnmatriculare : WN027253, \\nCont : KHHO5029180812813651, \\nInstitutul Clinic de Urologie si Transplant Renal ,Intrarea Diaconescu Curcani, 664403\\n\\nbolus 10 ml Iomeron 350 urmate de 30 ml flush salin cu 5 ml/s . Se continua cu 65 ml contrast si 30 ml flush salin , cu acelasi flux . Se efectueaza o examinare angio-CT coronariana cu achizitii spirale cu reconstructii retrospective la o frecventa cardiaca medie de 60/min . Opacifiere buna a patului vascular si cavitatilor cardiace . Fara incidente sau accidente pe parcursul examinarii . CONCLUZII : - Stare dupa stentare ramus intermedius si artera coronara dreapta . Aspect corespunzator al stenturilor , cu minima stenoza la nivelul ACD si cu flux distal corespunzator.</td>\n",
       "    </tr>\n",
       "  </tbody>\n",
       "</table>\n",
       "</div>"
      ],
      "text/plain": [
       "                                                                                                                                                                                                                                                                                                                                                                                                                                                                                                                                                                                                                                                                                                                                                                                                                                                                                                                                                                                                                                                                         predictions\n",
       "0                                                                                                                                                                                                                                                                                                                                                                                                                    LABORATOR RADIOLOGIE, Drumul Tudor, Aiud, 161096 , TEL : 0454-098119 , E-MAIL: jeneltudor@email.ro Data. .. LABORATOR RADIOLOGIE, Drumul Tudor, Aiud, 147829 , TEL : 5621-308657 , E-MAIL: jeneltudor@email.ro Data setului de analize : 10 May 2022 18:45:00 Inregistrat de : EFTIMIE, Sinică Doina Gheorghiu Nume si prenume : Dobrin Figan Varsta : 94 , Sex : Masculin TEL : 846 96 295 2 E-mail : hcristea@141.ro C.N.P : 8413244010272 Cod pacient : 536644034742595 Licență : G3875643P, Înmatriculare : IR51884, \\nCont : OATD2344587666964477,\\n \\nLA ORA : 10/12/2021 14:54_ VALIDAT DE :Dr. Iurie Caius Stoica ; \\nINVESTIGATII : CT TORACICÃ NATIVÃ\n",
       "1  Medic : Dr. R.T., \\nC.N.P : 1610960454098, Data setului de analize: 25 May 2022 Varsta : 91Dinut Liliana Daniela Medic : Dr. R.T., \\nC.N.P : 1191478295621, Data setului de analize: 25 May 2022 Varsta : 91, Nume si Prenume : Dragan Mihai Tel: +30(865)784696, \\nE-mail : jeneltudor@email.ro,\\nLicență : E952841324M, \\nÎnmatriculare : WN027253, \\nCont : KHHO5029180812813651, \\nInstitutul Clinic de Urologie si Transplant Renal ,Intrarea Diaconescu Curcani, 664403\\n\\nbolus 10 ml Iomeron 350 urmate de 30 ml flush salin cu 5 ml/s . Se continua cu 65 ml contrast si 30 ml flush salin , cu acelasi flux . Se efectueaza o examinare angio-CT coronariana cu achizitii spirale cu reconstructii retrospective la o frecventa cardiaca medie de 60/min . Opacifiere buna a patului vascular si cavitatilor cardiace . Fara incidente sau accidente pe parcursul examinarii . CONCLUZII : - Stare dupa stentare ramus intermedius si artera coronara dreapta . Aspect corespunzator al stenturilor , cu minima stenoza la nivelul ACD si cu flux distal corespunzator."
      ]
     },
     "metadata": {},
     "output_type": "display_data"
    },
    {
     "name": "stdout",
     "output_type": "stream",
     "text": [
      "\n",
      "\n",
      "Masking policy: masked_fixed_length_chars\n"
     ]
    },
    {
     "data": {
      "text/html": [
       "<div>\n",
       "<style scoped>\n",
       "    .dataframe tbody tr th:only-of-type {\n",
       "        vertical-align: middle;\n",
       "    }\n",
       "\n",
       "    .dataframe tbody tr th {\n",
       "        vertical-align: top;\n",
       "    }\n",
       "\n",
       "    .dataframe thead th {\n",
       "        text-align: right;\n",
       "    }\n",
       "</style>\n",
       "<table border=\"1\" class=\"dataframe\">\n",
       "  <thead>\n",
       "    <tr style=\"text-align: right;\">\n",
       "      <th></th>\n",
       "      <th>predictions</th>\n",
       "    </tr>\n",
       "  </thead>\n",
       "  <tbody>\n",
       "    <tr>\n",
       "      <th>0</th>\n",
       "      <td>LABORATOR RADIOLOGIE, ****, ****, **** , TEL : **** , E-MAIL: **** Data. .. LABORATOR RADIOLOGIE, ****, ****, **** , TEL : **** , E-MAIL: **** Data setului de analize : **** 18:45:00 Inregistrat de : **** **** Nume si prenume : **** Varsta : **** , Sex : Masculin TEL : **** E-mail : **** C.N.P : **** Cod pacient : **** Licență : ****, Înmatriculare : ****, \\nCont : ****,\\n \\nLA ORA : **** 14:54_ VALIDAT DE :Dr. **** ; \\nINVESTIGATII : CT TORACICÃ NATIVÃ</td>\n",
       "    </tr>\n",
       "    <tr>\n",
       "      <th>1</th>\n",
       "      <td>Medic : Dr. ****, \\nC.N.P : ****, Data setului de analize: **** Varsta : ******** Medic : Dr. ****, \\nC.N.P : ****, Data setului de analize: **** Varsta : ****, Nume si Prenume : **** Tel: ****, \\nE-mail : ****,\\nLicență : ****, \\nÎnmatriculare : ****, \\nCont : ****, \\n**** ,**** ****, ****\\n\\nbolus 10 ml Iomeron 350 urmate de 30 ml flush salin cu 5 ml/s . Se continua cu 65 ml contrast si 30 ml flush salin , cu acelasi flux . Se efectueaza o examinare angio-CT coronariana cu achizitii spirale cu reconstructii retrospective la o frecventa cardiaca medie de 60/min . Opacifiere buna a patului vascular si cavitatilor cardiace . Fara incidente sau accidente pe parcursul examinarii . CONCLUZII : - Stare dupa stentare ramus intermedius si artera coronara dreapta . Aspect corespunzator al stenturilor , cu minima stenoza la nivelul ACD si cu flux distal corespunzator.</td>\n",
       "    </tr>\n",
       "  </tbody>\n",
       "</table>\n",
       "</div>"
      ],
      "text/plain": [
       "                                                                                                                                                                                                                                                                                                                                                                                                                                                                                                                                                                                                                                                                                                                                                                                                                                                                                               predictions\n",
       "0                                                                                                                                                                                                                                                                                                                                                                                                                                LABORATOR RADIOLOGIE, ****, ****, **** , TEL : **** , E-MAIL: **** Data. .. LABORATOR RADIOLOGIE, ****, ****, **** , TEL : **** , E-MAIL: **** Data setului de analize : **** 18:45:00 Inregistrat de : **** **** Nume si prenume : **** Varsta : **** , Sex : Masculin TEL : **** E-mail : **** C.N.P : **** Cod pacient : **** Licență : ****, Înmatriculare : ****, \\nCont : ****,\\n \\nLA ORA : **** 14:54_ VALIDAT DE :Dr. **** ; \\nINVESTIGATII : CT TORACICÃ NATIVÃ\n",
       "1  Medic : Dr. ****, \\nC.N.P : ****, Data setului de analize: **** Varsta : ******** Medic : Dr. ****, \\nC.N.P : ****, Data setului de analize: **** Varsta : ****, Nume si Prenume : **** Tel: ****, \\nE-mail : ****,\\nLicență : ****, \\nÎnmatriculare : ****, \\nCont : ****, \\n**** ,**** ****, ****\\n\\nbolus 10 ml Iomeron 350 urmate de 30 ml flush salin cu 5 ml/s . Se continua cu 65 ml contrast si 30 ml flush salin , cu acelasi flux . Se efectueaza o examinare angio-CT coronariana cu achizitii spirale cu reconstructii retrospective la o frecventa cardiaca medie de 60/min . Opacifiere buna a patului vascular si cavitatilor cardiace . Fara incidente sau accidente pe parcursul examinarii . CONCLUZII : - Stare dupa stentare ramus intermedius si artera coronara dreapta . Aspect corespunzator al stenturilor , cu minima stenoza la nivelul ACD si cu flux distal corespunzator."
      ]
     },
     "metadata": {},
     "output_type": "display_data"
    },
    {
     "name": "stdout",
     "output_type": "stream",
     "text": [
      "\n",
      "\n",
      "Masking policy: masked_with_chars\n"
     ]
    },
    {
     "data": {
      "text/html": [
       "<div>\n",
       "<style scoped>\n",
       "    .dataframe tbody tr th:only-of-type {\n",
       "        vertical-align: middle;\n",
       "    }\n",
       "\n",
       "    .dataframe tbody tr th {\n",
       "        vertical-align: top;\n",
       "    }\n",
       "\n",
       "    .dataframe thead th {\n",
       "        text-align: right;\n",
       "    }\n",
       "</style>\n",
       "<table border=\"1\" class=\"dataframe\">\n",
       "  <thead>\n",
       "    <tr style=\"text-align: right;\">\n",
       "      <th></th>\n",
       "      <th>predictions</th>\n",
       "    </tr>\n",
       "  </thead>\n",
       "  <tbody>\n",
       "    <tr>\n",
       "      <th>0</th>\n",
       "      <td>LABORATOR RADIOLOGIE, [***********], [*****], [****] , TEL : [*********] , E-MAIL: [**********] Data. .. LABORATOR RADIOLOGIE, [***********], [*****], [****] , TEL : [*********] , E-MAIL: [**********] Data setului de analize : [*********] 18:45:00 Inregistrat de : [*********] [***] Nume si prenume : [***********] Varsta : ** , Sex : Masculin TEL : [**********] E-mail : [******************] C.N.P : [***********] Cod pacient : [*************] Licență : [*******], Înmatriculare : [*****], \\nCont : [*****************],\\n \\nLA ORA : [********] 14:54_ VALIDAT DE :Dr. [**********] ; \\nINVESTIGATII : CT TORACICÃ NATIVÃ</td>\n",
       "    </tr>\n",
       "    <tr>\n",
       "      <th>1</th>\n",
       "      <td>Medic : Dr. [**********], \\nC.N.P : [***********], Data setului de analize: [*********] Varsta : **[**] Medic : Dr. [**********], \\nC.N.P : [***********], Data setului de analize: [*********] Varsta : **, Nume si Prenume : [**********] Tel: [************], \\nE-mail : [*************],\\nLicență : [*********], \\nÎnmatriculare : [******], \\nCont : [******************], \\n[**********************************] ,[*****] [****], [****]\\n\\nbolus 10 ml Iomeron 350 urmate de 30 ml flush salin cu 5 ml/s . Se continua cu 65 ml contrast si 30 ml flush salin , cu acelasi flux . Se efectueaza o examinare angio-CT coronariana cu achizitii spirale cu reconstructii retrospective la o frecventa cardiaca medie de 60/min . Opacifiere buna a patului vascular si cavitatilor cardiace . Fara incidente sau accidente pe parcursul examinarii . CONCLUZII : - Stare dupa stentare ramus intermedius si artera coronara dreapta . Aspect corespunzator al stenturilor , cu minima stenoza la nivelul ACD si cu flux distal corespunzator.</td>\n",
       "    </tr>\n",
       "  </tbody>\n",
       "</table>\n",
       "</div>"
      ],
      "text/plain": [
       "                                                                                                                                                                                                                                                                                                                                                                                                                                                                                                                                                                                                                                                                                                                                                                                                                                                                                                                                                                                                                                          predictions\n",
       "0                                                                                                                                                                                                                                                                                                                                                                                                          LABORATOR RADIOLOGIE, [***********], [*****], [****] , TEL : [*********] , E-MAIL: [**********] Data. .. LABORATOR RADIOLOGIE, [***********], [*****], [****] , TEL : [*********] , E-MAIL: [**********] Data setului de analize : [*********] 18:45:00 Inregistrat de : [*********] [***] Nume si prenume : [***********] Varsta : ** , Sex : Masculin TEL : [**********] E-mail : [******************] C.N.P : [***********] Cod pacient : [*************] Licență : [*******], Înmatriculare : [*****], \\nCont : [*****************],\\n \\nLA ORA : [********] 14:54_ VALIDAT DE :Dr. [**********] ; \\nINVESTIGATII : CT TORACICÃ NATIVÃ\n",
       "1  Medic : Dr. [**********], \\nC.N.P : [***********], Data setului de analize: [*********] Varsta : **[**] Medic : Dr. [**********], \\nC.N.P : [***********], Data setului de analize: [*********] Varsta : **, Nume si Prenume : [**********] Tel: [************], \\nE-mail : [*************],\\nLicență : [*********], \\nÎnmatriculare : [******], \\nCont : [******************], \\n[**********************************] ,[*****] [****], [****]\\n\\nbolus 10 ml Iomeron 350 urmate de 30 ml flush salin cu 5 ml/s . Se continua cu 65 ml contrast si 30 ml flush salin , cu acelasi flux . Se efectueaza o examinare angio-CT coronariana cu achizitii spirale cu reconstructii retrospective la o frecventa cardiaca medie de 60/min . Opacifiere buna a patului vascular si cavitatilor cardiace . Fara incidente sau accidente pe parcursul examinarii . CONCLUZII : - Stare dupa stentare ramus intermedius si artera coronara dreapta . Aspect corespunzator al stenturilor , cu minima stenoza la nivelul ACD si cu flux distal corespunzator."
      ]
     },
     "metadata": {},
     "output_type": "display_data"
    },
    {
     "name": "stdout",
     "output_type": "stream",
     "text": [
      "\n",
      "\n"
     ]
    }
   ],
   "source": [
    "masking_policies = {\n",
    "    \"masked\": \"input1.json\",\n",
    "    \"obfuscated\": \"input2.json\",\n",
    "    \"masked_fixed_length_chars\": \"input3.json\",\n",
    "    \"masked_with_chars\": \"input4.json\",\n",
    "}\n",
    "\n",
    "for policy_name, validation_file_name in masking_policies.items():\n",
    "    print(f\"Masking policy: {policy_name}\")\n",
    "    process_s3_json_output_and_save(validation_file_name)\n",
    "    print(\"\\n\")"
   ]
  },
  {
   "cell_type": "markdown",
   "metadata": {},
   "source": [
    "### JSON Lines"
   ]
  },
  {
   "cell_type": "code",
   "execution_count": null,
   "metadata": {
    "tags": []
   },
   "outputs": [],
   "source": [
    "transformer = model.transformer(\n",
    "    instance_count=1,\n",
    "    instance_type=batch_transform_inference_instance_type,\n",
    "    accept=\"application/jsonlines\",\n",
    "    output_path=validation_output_jsonl_path\n",
    ")\n",
    "transformer.transform(validation_input_jsonl_path, content_type=\"application/jsonlines\")\n",
    "transformer.wait()"
   ]
  },
  {
   "cell_type": "code",
   "execution_count": 21,
   "metadata": {
    "tags": []
   },
   "outputs": [],
   "source": [
    "from urllib.parse import urlparse\n",
    "\n",
    "def process_s3_jsonlines_output_and_save(validation_file_name):\n",
    "\n",
    "    output_file_path = f\"{jsonl_output_dir}/{validation_file_name}.out\"\n",
    "    parsed_url = urlparse(transformer.output_path)\n",
    "    file_key = f\"{parsed_url.path[1:]}{validation_file_name}.out\"\n",
    "    response = s3_client.get_object(Bucket=s3_bucket, Key=file_key)\n",
    "\n",
    "    data = response[\"Body\"].read().decode(\"utf-8\")\n",
    "    print(data)\n",
    "\n",
    "    # Save the data to the output file\n",
    "    with open(output_file_path, 'w') as f_out:\n",
    "        for item in data.split('\\n'):\n",
    "            f_out.write(item + '\\n')"
   ]
  },
  {
   "cell_type": "code",
   "execution_count": 22,
   "metadata": {
    "tags": []
   },
   "outputs": [
    {
     "name": "stdout",
     "output_type": "stream",
     "text": [
      "Masking policy: masked\n",
      "{\"predictions\": \"LABORATOR RADIOLOGIE, <STREET>, <CITY>, <ZIP> , TEL : <PHONE> , E-MAIL: <EMAIL> Data. .. LABORATOR RADIOLOGIE, <STREET>, <CITY>, <ZIP> , TEL : <PHONE> , E-MAIL: <EMAIL> Data setului de analize : <DATE> 18:45:00 Inregistrat de : <DOCTOR> <DOCTOR> Nume si prenume : <PATIENT> Varsta : <AGE> , Sex : Masculin TEL : <PHONE> E-mail : <EMAIL> C.N.P : <IDNUM> Cod pacient : <IDNUM> Licență : <LICENSE>, Înmatriculare : <PLATE>, \\nCont : <ACCOUNT>,\\n \\nLA ORA : <DATE> 14:54_ VALIDAT DE :Dr. <DOCTOR> ; \\nINVESTIGATII : CT TORACICÃ NATIVÃ\"}\n",
      "{\"predictions\": \"Medic : Dr. <DOCTOR>, \\nC.N.P : <IDNUM>, Data setului de analize: <DATE> Varsta : <AGE><PATIENT> Medic : Dr. <DOCTOR>, \\nC.N.P : <IDNUM>, Data setului de analize: <DATE> Varsta : <AGE>, Nume si Prenume : <PATIENT> Tel: <PHONE>, \\nE-mail : <EMAIL>,\\nLicență : <LICENSE>, \\nÎnmatriculare : <PLATE>, \\nCont : <ACCOUNT>, \\n<HOSPITAL> ,<STREET> <CITY>, <ZIP>\\n\\nbolus 10 ml Iomeron 350 urmate de 30 ml flush salin cu 5 ml/s . Se continua cu 65 ml contrast si 30 ml flush salin , cu acelasi flux . Se efectueaza o examinare angio-CT coronariana cu achizitii spirale cu reconstructii retrospective la o frecventa cardiaca medie de 60/min . Opacifiere buna a patului vascular si cavitatilor cardiace . Fara incidente sau accidente pe parcursul examinarii . CONCLUZII : - Stare dupa stentare ramus intermedius si artera coronara dreapta . Aspect corespunzator al stenturilor , cu minima stenoza la nivelul ACD si cu flux distal corespunzator.\"}\n",
      "\n",
      "\n",
      "Masking policy: obfuscated\n",
      "{\"predictions\": \"LABORATOR RADIOLOGIE, Drumul Tudor, Aiud, 161096 , TEL : 0454-098119 , E-MAIL: jeneltudor@email.ro Data. .. LABORATOR RADIOLOGIE, Drumul Tudor, Aiud, 147829 , TEL : 5621-308657 , E-MAIL: jeneltudor@email.ro Data setului de analize : 10 May 2022 18:45:00 Inregistrat de : EFTIMIE, Sinică Doina Gheorghiu Nume si prenume : Dobrin Figan Varsta : 94 , Sex : Masculin TEL : 846 96 295 2 E-mail : hcristea@141.ro C.N.P : 8413244010272 Cod pacient : 536644034742595 Licență : G3875643P, Înmatriculare : IR51884, \\nCont : OATD2344587666964477,\\n \\nLA ORA : 10/12/2021 14:54_ VALIDAT DE :Dr. Iurie Caius Stoica ; \\nINVESTIGATII : CT TORACICÃ NATIVÃ\"}\n",
      "{\"predictions\": \"Medic : Dr. R.T., \\nC.N.P : 1610960454098, Data setului de analize: 25 May 2022 Varsta : 91Dinut Liliana Daniela Medic : Dr. R.T., \\nC.N.P : 1191478295621, Data setului de analize: 25 May 2022 Varsta : 91, Nume si Prenume : Dragan Mihai Tel: +30(865)784696, \\nE-mail : jeneltudor@email.ro,\\nLicență : E952841324M, \\nÎnmatriculare : WN027253, \\nCont : KHHO5029180812813651, \\nInstitutul Clinic de Urologie si Transplant Renal ,Intrarea Diaconescu Curcani, 664403\\n\\nbolus 10 ml Iomeron 350 urmate de 30 ml flush salin cu 5 ml/s . Se continua cu 65 ml contrast si 30 ml flush salin , cu acelasi flux . Se efectueaza o examinare angio-CT coronariana cu achizitii spirale cu reconstructii retrospective la o frecventa cardiaca medie de 60/min . Opacifiere buna a patului vascular si cavitatilor cardiace . Fara incidente sau accidente pe parcursul examinarii . CONCLUZII : - Stare dupa stentare ramus intermedius si artera coronara dreapta . Aspect corespunzator al stenturilor , cu minima stenoza la nivelul ACD si cu flux distal corespunzator.\"}\n",
      "\n",
      "\n",
      "Masking policy: masked_fixed_length_chars\n",
      "{\"predictions\": \"LABORATOR RADIOLOGIE, ****, ****, **** , TEL : **** , E-MAIL: **** Data. .. LABORATOR RADIOLOGIE, ****, ****, **** , TEL : **** , E-MAIL: **** Data setului de analize : **** 18:45:00 Inregistrat de : **** **** Nume si prenume : **** Varsta : **** , Sex : Masculin TEL : **** E-mail : **** C.N.P : **** Cod pacient : **** Licență : ****, Înmatriculare : ****, \\nCont : ****,\\n \\nLA ORA : **** 14:54_ VALIDAT DE :Dr. **** ; \\nINVESTIGATII : CT TORACICÃ NATIVÃ\"}\n",
      "{\"predictions\": \"Medic : Dr. ****, \\nC.N.P : ****, Data setului de analize: **** Varsta : ******** Medic : Dr. ****, \\nC.N.P : ****, Data setului de analize: **** Varsta : ****, Nume si Prenume : **** Tel: ****, \\nE-mail : ****,\\nLicență : ****, \\nÎnmatriculare : ****, \\nCont : ****, \\n**** ,**** ****, ****\\n\\nbolus 10 ml Iomeron 350 urmate de 30 ml flush salin cu 5 ml/s . Se continua cu 65 ml contrast si 30 ml flush salin , cu acelasi flux . Se efectueaza o examinare angio-CT coronariana cu achizitii spirale cu reconstructii retrospective la o frecventa cardiaca medie de 60/min . Opacifiere buna a patului vascular si cavitatilor cardiace . Fara incidente sau accidente pe parcursul examinarii . CONCLUZII : - Stare dupa stentare ramus intermedius si artera coronara dreapta . Aspect corespunzator al stenturilor , cu minima stenoza la nivelul ACD si cu flux distal corespunzator.\"}\n",
      "\n",
      "\n",
      "Masking policy: masked_with_chars\n",
      "{\"predictions\": \"LABORATOR RADIOLOGIE, [***********], [*****], [****] , TEL : [*********] , E-MAIL: [**********] Data. .. LABORATOR RADIOLOGIE, [***********], [*****], [****] , TEL : [*********] , E-MAIL: [**********] Data setului de analize : [*********] 18:45:00 Inregistrat de : [*********] [***] Nume si prenume : [***********] Varsta : ** , Sex : Masculin TEL : [**********] E-mail : [******************] C.N.P : [***********] Cod pacient : [*************] Licență : [*******], Înmatriculare : [*****], \\nCont : [*****************],\\n \\nLA ORA : [********] 14:54_ VALIDAT DE :Dr. [**********] ; \\nINVESTIGATII : CT TORACICÃ NATIVÃ\"}\n",
      "{\"predictions\": \"Medic : Dr. [**********], \\nC.N.P : [***********], Data setului de analize: [*********] Varsta : **[**] Medic : Dr. [**********], \\nC.N.P : [***********], Data setului de analize: [*********] Varsta : **, Nume si Prenume : [**********] Tel: [************], \\nE-mail : [*************],\\nLicență : [*********], \\nÎnmatriculare : [******], \\nCont : [******************], \\n[**********************************] ,[*****] [****], [****]\\n\\nbolus 10 ml Iomeron 350 urmate de 30 ml flush salin cu 5 ml/s . Se continua cu 65 ml contrast si 30 ml flush salin , cu acelasi flux . Se efectueaza o examinare angio-CT coronariana cu achizitii spirale cu reconstructii retrospective la o frecventa cardiaca medie de 60/min . Opacifiere buna a patului vascular si cavitatilor cardiace . Fara incidente sau accidente pe parcursul examinarii . CONCLUZII : - Stare dupa stentare ramus intermedius si artera coronara dreapta . Aspect corespunzator al stenturilor , cu minima stenoza la nivelul ACD si cu flux distal corespunzator.\"}\n",
      "\n",
      "\n"
     ]
    }
   ],
   "source": [
    "masking_policies = {\n",
    "    \"masked\": \"input1.jsonl\",\n",
    "    \"obfuscated\": \"input2.jsonl\",\n",
    "    \"masked_fixed_length_chars\": \"input3.jsonl\",\n",
    "    \"masked_with_chars\": \"input4.jsonl\",\n",
    "}\n",
    "\n",
    "for policy_name, validation_file_name in masking_policies.items():\n",
    "    print(f\"Masking policy: {policy_name}\")\n",
    "    process_s3_jsonlines_output_and_save(validation_file_name)\n",
    "    print(\"\\n\")"
   ]
  },
  {
   "cell_type": "code",
   "execution_count": 23,
   "metadata": {
    "tags": []
   },
   "outputs": [
    {
     "name": "stderr",
     "output_type": "stream",
     "text": [
      "INFO:sagemaker:Deleting model with name: ro-deid-clinical-2024-05-21-07-14-05-940\n"
     ]
    }
   ],
   "source": [
    "model.delete_model()"
   ]
  },
  {
   "cell_type": "markdown",
   "metadata": {},
   "source": [
    "### Unsubscribe to the listing (optional)"
   ]
  },
  {
   "cell_type": "markdown",
   "metadata": {
    "tags": []
   },
   "source": [
    "If you would like to unsubscribe to the model package, follow these steps. Before you cancel the subscription, ensure that you do not have any [deployable model](https://console.aws.amazon.com/sagemaker/home#/models) created from the model package or using the algorithm. Note - You can find this information by looking at the container name associated with the model. \n",
    "\n",
    "**Steps to unsubscribe to product from AWS Marketplace**:\n",
    "1. Navigate to __Machine Learning__ tab on [__Your Software subscriptions page__](https://aws.amazon.com/marketplace/ai/library?productType=ml&ref_=mlmp_gitdemo_indust)\n",
    "2. Locate the listing that you want to cancel the subscription for, and then choose __Cancel Subscription__  to cancel the subscription.\n",
    "\n"
   ]
  }
 ],
 "metadata": {
  "instance_type": "ml.t3.medium",
  "kernelspec": {
   "display_name": "conda_python3",
   "language": "python",
   "name": "conda_python3"
  },
  "language_info": {
   "codemirror_mode": {
    "name": "ipython",
    "version": 3
   },
   "file_extension": ".py",
   "mimetype": "text/x-python",
   "name": "python",
   "nbconvert_exporter": "python",
   "pygments_lexer": "ipython3",
   "version": "3.10.14"
  }
 },
 "nbformat": 4,
 "nbformat_minor": 4
}

{
 "cells": [
  {
   "cell_type": "markdown",
   "metadata": {},
   "source": [
    "## 1. Subscribe to the model package"
   ]
  },
  {
   "cell_type": "markdown",
   "metadata": {},
   "source": [
    "To subscribe to the model package:\n",
    "1. Open the model package listing page <font color='red'> For Seller to update:[Title_of_your_product](Provide link to your marketplace listing of your product).</font>\n",
    "1. On the AWS Marketplace listing, click on the **Continue to subscribe** button.\n",
    "1. On the **Subscribe to this software** page, review and click on **\"Accept Offer\"** if you and your organization agrees with EULA, pricing, and support terms. \n",
    "1. Once you click on **Continue to configuration button** and then choose a **region**, you will see a **Product Arn** displayed. This is the model package ARN that you need to specify while creating a deployable model using Boto3. Copy the ARN corresponding to your region and specify the same in the following cell."
   ]
  },
  {
   "cell_type": "markdown",
   "metadata": {},
   "source": [
    "## Clinical Deidentification Romanian\n",
    "\n",
    "Deidentification is essential for safeguarding patient privacy in clinical data, including texts, PDFs, images, and DICOM files containing Protected Health Information (PHI). PHI encompasses various health-related data, including common identifiers such as name, address, birth date, and Social Security Number.\n",
    "\n",
    "- **Model**: `ro.deid.clinical`\n",
    "- **Model Description**: This pipeline is trained with w2v_cc_300d Romanian embeddings and can be used to deidentify PHI information from medical texts in Romanian. The PHI information will be masked and obfuscated in the resulting text. The pipeline can mask, fake or obfuscate the following entities: AGE, CITY, COUNTRY, DATE, DOCTOR, EMAIL, FAX, HOSPITAL, IDNUM, LOCATION-OTHER, MEDICALRECORD, ORGANIZATION, PATIENT, PHONE, PROFESSION, STREET, ZIP, ACCOUNT, LICENSE, PLATE"
   ]
  },
  {
   "cell_type": "code",
   "execution_count": 1,
   "metadata": {
    "tags": []
   },
   "outputs": [],
   "source": [
    "model_package_arn = \"<Customer to specify Model package ARN corresponding to their AWS region>\""
   ]
  },
  {
   "cell_type": "code",
   "execution_count": 2,
   "metadata": {
    "tags": []
   },
   "outputs": [
    {
     "name": "stdout",
     "output_type": "stream",
     "text": [
      "sagemaker.config INFO - Not applying SDK defaults from location: /etc/xdg/sagemaker/config.yaml\n",
      "sagemaker.config INFO - Not applying SDK defaults from location: /home/ec2-user/.config/sagemaker/config.yaml\n"
     ]
    }
   ],
   "source": [
    "import base64\n",
    "import json\n",
    "import uuid\n",
    "from sagemaker import ModelPackage\n",
    "import sagemaker as sage\n",
    "from sagemaker import get_execution_role\n",
    "import boto3\n",
    "from IPython.display import Image, display\n",
    "from PIL import Image as ImageEdit\n",
    "import numpy as np"
   ]
  },
  {
   "cell_type": "code",
   "execution_count": 3,
   "metadata": {
    "tags": []
   },
   "outputs": [],
   "source": [
    "sagemaker_session = sage.Session()\n",
    "s3_bucket = sagemaker_session.default_bucket()\n",
    "region = sagemaker_session.boto_region_name\n",
    "account_id = boto3.client(\"sts\").get_caller_identity().get(\"Account\")\n",
    "role = get_execution_role()\n",
    "\n",
    "sagemaker = boto3.client(\"sagemaker\")\n",
    "s3_client = sagemaker_session.boto_session.client(\"s3\")\n",
    "ecr = boto3.client(\"ecr\")\n",
    "sm_runtime = boto3.client(\"sagemaker-runtime\")"
   ]
  },
  {
   "cell_type": "markdown",
   "metadata": {},
   "source": [
    "## 2. Create an endpoint and perform real-time inference"
   ]
  },
  {
   "cell_type": "markdown",
   "metadata": {},
   "source": [
    "If you want to understand how real-time inference with Amazon SageMaker works, see [Documentation](https://docs.aws.amazon.com/sagemaker/latest/dg/how-it-works-hosting.html)."
   ]
  },
  {
   "cell_type": "code",
   "execution_count": 4,
   "metadata": {
    "tags": []
   },
   "outputs": [],
   "source": [
    "model_name = \"ro-deid-clinical\"\n",
    "\n",
    "content_type = \"application/json\"\n",
    "\n",
    "real_time_inference_instance_type = \"ml.m4.xlarge\"\n",
    "batch_transform_inference_instance_type = \"ml.m4.xlarge\"\n"
   ]
  },
  {
   "cell_type": "markdown",
   "metadata": {},
   "source": [
    "### A. Create an endpoint"
   ]
  },
  {
   "cell_type": "code",
   "execution_count": 5,
   "metadata": {
    "tags": []
   },
   "outputs": [
    {
     "name": "stdout",
     "output_type": "stream",
     "text": [
      "---------!"
     ]
    }
   ],
   "source": [
    "# create a deployable model from the model package.\n",
    "model = ModelPackage(\n",
    "    role=role, model_package_arn=model_package_arn, sagemaker_session=sagemaker_session\n",
    ")\n",
    "\n",
    "# Deploy the model\n",
    "predictor = model.deploy(1, real_time_inference_instance_type, endpoint_name=model_name)"
   ]
  },
  {
   "cell_type": "markdown",
   "metadata": {},
   "source": [
    "Once endpoint has been created, you would be able to perform real-time inference."
   ]
  },
  {
   "cell_type": "code",
   "execution_count": 6,
   "metadata": {
    "tags": []
   },
   "outputs": [],
   "source": [
    "import json\n",
    "import pandas as pd\n",
    "import os\n",
    "import boto3\n",
    "\n",
    "\n",
    "# Set display options\n",
    "pd.set_option('display.max_rows', None)\n",
    "pd.set_option('display.max_columns', None)\n",
    "pd.set_option('display.max_colwidth', None)\n",
    "\n",
    "\n",
    "def process_data_and_invoke_realtime_endpoint(data_dicts):\n",
    "    for data_dict in data_dicts:\n",
    "        json_input_data = json.dumps(data_dict, ensure_ascii=False)\n",
    "        i = 1\n",
    "        input_file_name = f'inputs/real-time/input{i}.json'\n",
    "        output_file_name = f'outputs/real-time/out{i}.out'\n",
    "\n",
    "        while os.path.exists(input_file_name) or os.path.exists(output_file_name):\n",
    "            i += 1\n",
    "            input_file_name = f'inputs/real-time/input{i}.json'\n",
    "            output_file_name = f'outputs/real-time/out{i}.out'\n",
    "\n",
    "        os.makedirs(os.path.dirname(input_file_name), exist_ok=True)\n",
    "        os.makedirs(os.path.dirname(output_file_name), exist_ok=True)\n",
    "\n",
    "        with open(input_file_name, 'w', encoding=\"utf-8\") as f:\n",
    "            f.write(json_input_data)\n",
    "\n",
    "        s3_client.put_object(Bucket=s3_bucket, Key=f\"{model_name}/validation-input-json/real-time/{os.path.basename(input_file_name)}\", Body=bytes(json_input_data.encode('UTF-8')))\n",
    "\n",
    "        response = sm_runtime.invoke_endpoint(\n",
    "            EndpointName=model_name,\n",
    "            ContentType=content_type,\n",
    "            Accept=\"application/json\",\n",
    "            Body=json_input_data,\n",
    "        )\n",
    "\n",
    "        # Process response\n",
    "        response_data = json.loads(response[\"Body\"].read().decode(\"utf-8\"))\n",
    "        df = pd.DataFrame(response_data)\n",
    "        display(df)\n",
    "\n",
    "        # Save response data to file\n",
    "        with open(output_file_name, 'w') as f_out:\n",
    "            json.dump(response_data, f_out, indent=4 , ensure_ascii=False)"
   ]
  },
  {
   "cell_type": "markdown",
   "metadata": {},
   "source": [
    "### Initial Setup"
   ]
  },
  {
   "cell_type": "code",
   "execution_count": 7,
   "metadata": {
    "tags": []
   },
   "outputs": [],
   "source": [
    "docs = [\n",
    "'''LABORATOR RADStrada AbabeidaSacueni, 354573i, 3545730265-21011065-210110 ,OFFICE@SMURDICE@SMURD\n",
    "Data setului de a10 May 2022 May 2022 18:45:00\n",
    "InregistPAUL DANIELUTUDORIEL TUDOR \n",
    "Nume si pMILASAN DANUTSAN DANUT \n",
    "45rsta : 45 , Sex : Mascul456 45 789 2 45 789 2 \n",
    "damut__d@hotmail.comtmail.com 1761218264378218264378 \n",
    "Cod p627480543615010543615010\n",
    "LK0004567SK0004567S, \n",
    "ÎnmatriBD32904: BD32904,SEWS324095192710408192710408,\n",
    "\n",
    "LA ORA : 10/12/2021 14:54_ \n",
    "VALIDATIOANA GHIBANNA GHIBAN ; \n",
    "INVESTIGATII : CT TORACICÃ NATIVÃ''',\n",
    "\n",
    "'''C.N.P : 2450Agota EVELYNata setului245050226440125 May 2022 \n",
    "Varsta : 77,..25 May 2022Dr. Agota E77LYN, \n",
    "C.N.P : 245050BUREAN MARIAa setul+40(235)413773 25 May 2022maria@gmail.comNume si PrenB004256985MN MARIA \n",
    "Tel: +40(2CD2051133, \n",
    "E-mailFXHZ7170951927104999LicSpitalul Pentru Ochi, Drumul de Deal CNr. 972,Vaslui :737405170951927104999, \n",
    "Spitalul Pentru Ochi, Drumul de Deal ,Nr. 972 Vaslui, 737405\n",
    "\n",
    "bolus 10 ml Iomeron 350 urmate de 30 ml flush salin cu 5 ml/s .\n",
    "Se continua cu 65 ml contrast si 30 ml flush salin , cu acelasi flux .\n",
    "Se efectueaza o examinare angio-CT coronariana cu achizitii spirale cu reconstructii retrospective la o frecventa cardiaca medie de 60/min .\n",
    "Opacifiere buna a patului vascular si cavitatilor cardiace .\n",
    "Fara incidente sau accidente pe parcursul examinarii .\n",
    "\n",
    "CONCLUZII : - Stare dupa stentare ramus intermedius si artera coronara dreapta .\n",
    "Aspect corespunzator al stenturilor , cu minima stenoza la nivelul ACD si cu flux distal corespunzator.'''\n",
    "\n",
    "]\n",
    "\n",
    "\n",
    "sample_text = \"\"\"TOMOGRAFIA COMPUTERIZATA A CREIERULUI INVESTIGATII REZULTAT DLP\n",
    "Medic Laborator : BURIAN MONICA\n",
    "PROTOCOL DE EXPLORARE PRIN COMPUTER TOMOGRAFIE DATA : 11 FEBRUARIE 2022\n",
    "Nume si prenume : RUS OLIMPIU DUMITRU , 49 ani, Sex : M\n",
    "TEL : +40 67 5745,\n",
    "E-mail : olimpiu_d@gmail.com\n",
    "CNP : 1730104060763\n",
    "Licență : E000198985A, Înmatriculare : CD32156, Cont : LZWZ7170951927104999,\n",
    "Solicitare : Angio CT coronarian\n",
    "kg : 100 Dg .\n",
    "de trimitere Stare post-AVCI .\n",
    "Stare post-trombectomie .\n",
    "Proces inlocuitor de spatiu ventricular stang\n",
    "Trimis de : Sectia Clinica Neurologie 1a SCJU Tirgu Mures\n",
    "Medic : Dr.Melanie Dana\n",
    "CONCLUZII : - Tromb ventricular stang de 20/40/17 mm , - Leziuni sechelar ischemice in segmentele apicale septal si inferior , cu aspect anevrismal apical VS - Leziune non-ischemica/MINOCA ?\n",
    "48 mediocardiaca septala - Examenul AngioCT coronarian nu pune in evidenta ateromatoza sau stenoze coronariene semnificative.\n",
    "\"\"\""
   ]
  },
  {
   "cell_type": "markdown",
   "metadata": {
    "jp-MarkdownHeadingCollapsed": true,
    "tags": []
   },
   "source": [
    "### Important Parameters\n",
    "\n",
    "- **masking_policy**: `str`\n",
    "\n",
    "    Users can select a masking policy to determine how sensitive entities are handled:\n",
    "\n",
    "    Example: \"**LABORATOR RADStrada AbabeidaSacueni, 354573i, 3545730265-21011065-210110 ,OFFICE@SMURDICE@SMURD**\"\n",
    "\n",
    "    - **masked**: Default policy that masks entities with their type.\n",
    "\n",
    "      -> 'LABORATOR RADIOLOGIE, `<STREET>`, `<CITY>`, `<ZIP>` , TEL : `<PHONE>` , E-MAIL: `<EMAIL>`'\n",
    "\n",
    "    - **obfuscated**: Replaces sensitive entities with random values of the same type.\n",
    "\n",
    "      -> 'LABORATOR RADIOLOGIE, `Intrarea Diaconescu`, `Aiud`, `302784` , TEL : `0263 144 119` , E-MAIL: `jeneltudor@email.ro`'\n",
    "\n",
    "    - **masked_fixed_length_chars**: Masks entities with a fixed length of asterisks (\\*).\n",
    "\n",
    "      -> 'LABORATOR RADIOLOGIE, `****`, `****`, `****` , TEL : `****` , E-MAIL: `****`'\n",
    "\n",
    "    - **masked_with_chars**: Masks entities with asterisks (\\*).\n",
    "\n",
    "      -> 'LABORATOR RADIOLOGIE, [`***********`], [`*****`], [`****`] , TEL : [`*********`] , E-MAIL: [`**********`]'\n",
    "\n",
    "- **sep**: `str`\n",
    "\n",
    "    Separator used to join subparts within each prediction.\n",
    "\n",
    "    By default, the separator is set to a single space (\" \"), but users can specify any other separator as needed. Necessary because the model outputs predictions as separate subparts, and the chosen separator is used to join them into coherent text.\n",
    "\n",
    "    The separator must be one of the following characters: space (' '), newline ('\\n'), comma (','), tab ('\\t'), or colon (':').\n",
    "    \n",
    "You can specify these parameters in the input as follows:\n",
    "\n",
    "```json\n",
    "{\n",
    "    \"text\": [\n",
    "        \"Text document 1\",\n",
    "        \"Text document 2\",\n",
    "        ...\n",
    "    ],\n",
    "    \"masking_policy\": \"masked\",\n",
    "    \"sep\": \" \",\n",
    "}\n",
    "```"
   ]
  },
  {
   "cell_type": "markdown",
   "metadata": {
    "tags": []
   },
   "source": [
    "### **Input format**: Single Text Document\n",
    "\n",
    "Provide a single text document as a string.\n",
    "\n",
    "  \n",
    "  \n",
    "```json\n",
    "{\n",
    "    \"text\": \"Single text document\"\n",
    "}\n",
    "```"
   ]
  },
  {
   "cell_type": "code",
   "execution_count": 8,
   "metadata": {
    "tags": []
   },
   "outputs": [
    {
     "data": {
      "text/html": [
       "<div>\n",
       "<style scoped>\n",
       "    .dataframe tbody tr th:only-of-type {\n",
       "        vertical-align: middle;\n",
       "    }\n",
       "\n",
       "    .dataframe tbody tr th {\n",
       "        vertical-align: top;\n",
       "    }\n",
       "\n",
       "    .dataframe thead th {\n",
       "        text-align: right;\n",
       "    }\n",
       "</style>\n",
       "<table border=\"1\" class=\"dataframe\">\n",
       "  <thead>\n",
       "    <tr style=\"text-align: right;\">\n",
       "      <th></th>\n",
       "      <th>predictions</th>\n",
       "    </tr>\n",
       "  </thead>\n",
       "  <tbody>\n",
       "    <tr>\n",
       "      <th>0</th>\n",
       "      <td>TOMOGRAFIA COMPUTERIZATA A CREIERULUI INVESTIGATII REZULTAT DLP Medic Laborator : &lt;DOCTOR&gt; PROTOCOL DE EXPLORARE PRIN COMPUTER TOMOGRAFIE DATA : &lt;DATE&gt; Nume si prenume : &lt;PATIENT&gt; , &lt;AGE&gt; ani, Sex : M\\nTEL : &lt;PHONE&gt;,\\nE-mail : &lt;EMAIL&gt; CNP : &lt;IDNUM&gt; Licență : &lt;LICENSE&gt;, Înmatriculare : &lt;PLATE&gt;, Cont : &lt;ACCOUNT&gt;,\\nSolicitare : Angio CT coronarian\\nkg : 100 Dg .\\nde trimitere Stare post-AVCI . Stare post-trombectomie . Proces inlocuitor de spatiu ventricular stang Trimis de : Sectia Clinica Neurologie 1a &lt;HOSPITAL&gt; Medic : &lt;DOCTOR&gt; CONCLUZII : - Tromb ventricular stang de 20/40/17 mm , - Leziuni sechelar ischemice in segmentele apicale septal si inferior , cu aspect anevrismal apical VS - Leziune non-ischemica/MINOCA ? 48 mediocardiaca septala - Examenul AngioCT coronarian nu pune in evidenta ateromatoza sau stenoze coronariene semnificative.</td>\n",
       "    </tr>\n",
       "  </tbody>\n",
       "</table>\n",
       "</div>"
      ],
      "text/plain": [
       "                                                                                                                                                                                                                                                                                                                                                                                                                                                                                                                                                                                                                                                                                                                                                                                                                                                                           predictions\n",
       "0  TOMOGRAFIA COMPUTERIZATA A CREIERULUI INVESTIGATII REZULTAT DLP Medic Laborator : <DOCTOR> PROTOCOL DE EXPLORARE PRIN COMPUTER TOMOGRAFIE DATA : <DATE> Nume si prenume : <PATIENT> , <AGE> ani, Sex : M\\nTEL : <PHONE>,\\nE-mail : <EMAIL> CNP : <IDNUM> Licență : <LICENSE>, Înmatriculare : <PLATE>, Cont : <ACCOUNT>,\\nSolicitare : Angio CT coronarian\\nkg : 100 Dg .\\nde trimitere Stare post-AVCI . Stare post-trombectomie . Proces inlocuitor de spatiu ventricular stang Trimis de : Sectia Clinica Neurologie 1a <HOSPITAL> Medic : <DOCTOR> CONCLUZII : - Tromb ventricular stang de 20/40/17 mm , - Leziuni sechelar ischemice in segmentele apicale septal si inferior , cu aspect anevrismal apical VS - Leziune non-ischemica/MINOCA ? 48 mediocardiaca septala - Examenul AngioCT coronarian nu pune in evidenta ateromatoza sau stenoze coronariene semnificative."
      ]
     },
     "metadata": {},
     "output_type": "display_data"
    }
   ],
   "source": [
    "# masked (default-policy)\n",
    "data_dicts = [\n",
    "    {\n",
    "        \"text\": sample_text\n",
    "    }\n",
    "]\n",
    "\n",
    "process_data_and_invoke_realtime_endpoint(data_dicts)"
   ]
  },
  {
   "cell_type": "code",
   "execution_count": 9,
   "metadata": {
    "tags": []
   },
   "outputs": [
    {
     "data": {
      "text/html": [
       "<div>\n",
       "<style scoped>\n",
       "    .dataframe tbody tr th:only-of-type {\n",
       "        vertical-align: middle;\n",
       "    }\n",
       "\n",
       "    .dataframe tbody tr th {\n",
       "        vertical-align: top;\n",
       "    }\n",
       "\n",
       "    .dataframe thead th {\n",
       "        text-align: right;\n",
       "    }\n",
       "</style>\n",
       "<table border=\"1\" class=\"dataframe\">\n",
       "  <thead>\n",
       "    <tr style=\"text-align: right;\">\n",
       "      <th></th>\n",
       "      <th>predictions</th>\n",
       "    </tr>\n",
       "  </thead>\n",
       "  <tbody>\n",
       "    <tr>\n",
       "      <th>0</th>\n",
       "      <td>TOMOGRAFIA COMPUTERIZATA A CREIERULUI INVESTIGATII REZULTAT DLP Medic Laborator : Doina Gheorghiu PROTOCOL DE EXPLORARE PRIN COMPUTER TOMOGRAFIE DATA : 11 FEBRUARIE 2022 Nume si prenume : Dinut Liliana Daniela , 83 ani, Sex : M\\nTEL : +16 10 9604,\\nE-mail : lstancu@zzup.ro CNP : 5409811914782 Licență : N562130865H, Înmatriculare : QI69629, Cont : SEAE8282288015490352,\\nSolicitare : Angio CT coronarian\\nkg : 100 Dg .\\nde trimitere Stare post-AVCI . Stare post-trombectomie . Proces inlocuitor de spatiu ventricular stang Trimis de : Sectia Clinica Neurologie 1a Institutul Clinic de Urologie si Transplant Renal Medic : Agata Voinea CONCLUZII : - Tromb ventricular stang de 20/40/17 mm , - Leziuni sechelar ischemice in segmentele apicale septal si inferior , cu aspect anevrismal apical VS - Leziune non-ischemica/MINOCA ? 48 mediocardiaca septala - Examenul AngioCT coronarian nu pune in evidenta ateromatoza sau stenoze coronariene semnificative.</td>\n",
       "    </tr>\n",
       "  </tbody>\n",
       "</table>\n",
       "</div>"
      ],
      "text/plain": [
       "                                                                                                                                                                                                                                                                                                                                                                                                                                                                                                                                                                                                                                                                                                                                                                                                                                                                                                                                                                                predictions\n",
       "0  TOMOGRAFIA COMPUTERIZATA A CREIERULUI INVESTIGATII REZULTAT DLP Medic Laborator : Doina Gheorghiu PROTOCOL DE EXPLORARE PRIN COMPUTER TOMOGRAFIE DATA : 11 FEBRUARIE 2022 Nume si prenume : Dinut Liliana Daniela , 83 ani, Sex : M\\nTEL : +16 10 9604,\\nE-mail : lstancu@zzup.ro CNP : 5409811914782 Licență : N562130865H, Înmatriculare : QI69629, Cont : SEAE8282288015490352,\\nSolicitare : Angio CT coronarian\\nkg : 100 Dg .\\nde trimitere Stare post-AVCI . Stare post-trombectomie . Proces inlocuitor de spatiu ventricular stang Trimis de : Sectia Clinica Neurologie 1a Institutul Clinic de Urologie si Transplant Renal Medic : Agata Voinea CONCLUZII : - Tromb ventricular stang de 20/40/17 mm , - Leziuni sechelar ischemice in segmentele apicale septal si inferior , cu aspect anevrismal apical VS - Leziune non-ischemica/MINOCA ? 48 mediocardiaca septala - Examenul AngioCT coronarian nu pune in evidenta ateromatoza sau stenoze coronariene semnificative."
      ]
     },
     "metadata": {},
     "output_type": "display_data"
    }
   ],
   "source": [
    "# obfuscated\n",
    "data_dicts = [\n",
    "    {\n",
    "        \"text\": sample_text,\n",
    "        \"masking_policy\": \"obfuscated\"\n",
    "    }\n",
    "]\n",
    "\n",
    "process_data_and_invoke_realtime_endpoint(data_dicts)"
   ]
  },
  {
   "cell_type": "markdown",
   "metadata": {},
   "source": [
    "### **Input format**: Array of Text Documents\n",
    "\n",
    "Use an array containing multiple text documents. Each element represents a separate text document.\n",
    "\n",
    "```json\n",
    "{\n",
    "    \"text\": [\n",
    "        \"Text document 1\",\n",
    "        \"Text document 2\",\n",
    "        ...\n",
    "    ]\n",
    "}\n",
    "```"
   ]
  },
  {
   "cell_type": "code",
   "execution_count": 10,
   "metadata": {
    "tags": []
   },
   "outputs": [
    {
     "data": {
      "text/html": [
       "<div>\n",
       "<style scoped>\n",
       "    .dataframe tbody tr th:only-of-type {\n",
       "        vertical-align: middle;\n",
       "    }\n",
       "\n",
       "    .dataframe tbody tr th {\n",
       "        vertical-align: top;\n",
       "    }\n",
       "\n",
       "    .dataframe thead th {\n",
       "        text-align: right;\n",
       "    }\n",
       "</style>\n",
       "<table border=\"1\" class=\"dataframe\">\n",
       "  <thead>\n",
       "    <tr style=\"text-align: right;\">\n",
       "      <th></th>\n",
       "      <th>predictions</th>\n",
       "    </tr>\n",
       "  </thead>\n",
       "  <tbody>\n",
       "    <tr>\n",
       "      <th>0</th>\n",
       "      <td>LABORATOR RADStrada AbabeidaSacueni, &lt;ZIP&gt;, &lt;ZIP&gt; ,&lt;EMAIL&gt; Data setului de &lt;DATE&gt; 18:45:00 InregistPAUL &lt;ORGANIZATION&gt; Nume si &lt;ORGANIZATION&gt; 45rsta : 45 , Sex : Mascul456 45 789 2 45 789 2 \\n&lt;EMAIL&gt; &lt;IDNUM&gt; Cod &lt;IDNUM&gt; &lt;IDNUM&gt;, ÎnmatriBD32904: BD32904,SEWS324095192710408192710408,\\n\\nLA ORA : &lt;DATE&gt; 14:54_ VALIDATIOANA GHIBANNA GHIBAN ; \\nINVESTIGATII : CT TORACICÃ NATIVÃ</td>\n",
       "    </tr>\n",
       "    <tr>\n",
       "      <th>1</th>\n",
       "      <td>C.N.P : 2450Agota EVELYNata &lt;IDNUM&gt; Varsta : &lt;AGE&gt; May 2022Dr. &lt;DOCTOR&gt;, \\nC.N.P : 245050BUREAN MARIAa &lt;PHONE&gt; &lt;DATE&gt; si &lt;IDNUM&gt; &lt;DOCTOR&gt; Tel: &lt;PHONE&gt;, \\nE-mailFXHZ7170951927104999LicSpitalul Pentru Ochi, &lt;STREET&gt; de Deal CNr. 972,Vaslui :&lt;IDNUM&gt;, \\n&lt;HOSPITAL&gt;, &lt;STREET&gt; ,&lt;STREET&gt; &lt;CITY&gt;, &lt;ZIP&gt;\\n\\nbolus 10 ml Iomeron 350 urmate de 30 ml flush salin cu 5 ml/s . Se continua cu 65 ml contrast si 30 ml flush salin , cu acelasi flux . Se efectueaza o examinare angio-CT coronariana cu achizitii spirale cu reconstructii retrospective la o frecventa cardiaca medie de 60/min . Opacifiere buna a patului vascular si cavitatilor cardiace . Fara incidente sau accidente pe parcursul examinarii . CONCLUZII : - Stare dupa stentare ramus intermedius si artera coronara dreapta . Aspect corespunzator al stenturilor , cu minima stenoza la nivelul ACD si cu flux distal corespunzator.</td>\n",
       "    </tr>\n",
       "  </tbody>\n",
       "</table>\n",
       "</div>"
      ],
      "text/plain": [
       "                                                                                                                                                                                                                                                                                                                                                                                                                                                                                                                                                                                                                                                                                                                                                                                                                                                                                                  predictions\n",
       "0                                                                                                                                                                                                                                                                                                                                                                                                                                                                                                                     LABORATOR RADStrada AbabeidaSacueni, <ZIP>, <ZIP> ,<EMAIL> Data setului de <DATE> 18:45:00 InregistPAUL <ORGANIZATION> Nume si <ORGANIZATION> 45rsta : 45 , Sex : Mascul456 45 789 2 45 789 2 \\n<EMAIL> <IDNUM> Cod <IDNUM> <IDNUM>, ÎnmatriBD32904: BD32904,SEWS324095192710408192710408,\\n\\nLA ORA : <DATE> 14:54_ VALIDATIOANA GHIBANNA GHIBAN ; \\nINVESTIGATII : CT TORACICÃ NATIVÃ\n",
       "1  C.N.P : 2450Agota EVELYNata <IDNUM> Varsta : <AGE> May 2022Dr. <DOCTOR>, \\nC.N.P : 245050BUREAN MARIAa <PHONE> <DATE> si <IDNUM> <DOCTOR> Tel: <PHONE>, \\nE-mailFXHZ7170951927104999LicSpitalul Pentru Ochi, <STREET> de Deal CNr. 972,Vaslui :<IDNUM>, \\n<HOSPITAL>, <STREET> ,<STREET> <CITY>, <ZIP>\\n\\nbolus 10 ml Iomeron 350 urmate de 30 ml flush salin cu 5 ml/s . Se continua cu 65 ml contrast si 30 ml flush salin , cu acelasi flux . Se efectueaza o examinare angio-CT coronariana cu achizitii spirale cu reconstructii retrospective la o frecventa cardiaca medie de 60/min . Opacifiere buna a patului vascular si cavitatilor cardiace . Fara incidente sau accidente pe parcursul examinarii . CONCLUZII : - Stare dupa stentare ramus intermedius si artera coronara dreapta . Aspect corespunzator al stenturilor , cu minima stenoza la nivelul ACD si cu flux distal corespunzator."
      ]
     },
     "metadata": {},
     "output_type": "display_data"
    }
   ],
   "source": [
    "# masked (default-policy)\n",
    "data_dicts = [\n",
    "    {\n",
    "        \"text\": docs\n",
    "    }\n",
    "]\n",
    "\n",
    "process_data_and_invoke_realtime_endpoint(data_dicts)"
   ]
  },
  {
   "cell_type": "code",
   "execution_count": 11,
   "metadata": {
    "tags": []
   },
   "outputs": [
    {
     "data": {
      "text/html": [
       "<div>\n",
       "<style scoped>\n",
       "    .dataframe tbody tr th:only-of-type {\n",
       "        vertical-align: middle;\n",
       "    }\n",
       "\n",
       "    .dataframe tbody tr th {\n",
       "        vertical-align: top;\n",
       "    }\n",
       "\n",
       "    .dataframe thead th {\n",
       "        text-align: right;\n",
       "    }\n",
       "</style>\n",
       "<table border=\"1\" class=\"dataframe\">\n",
       "  <thead>\n",
       "    <tr style=\"text-align: right;\">\n",
       "      <th></th>\n",
       "      <th>predictions</th>\n",
       "    </tr>\n",
       "  </thead>\n",
       "  <tbody>\n",
       "    <tr>\n",
       "      <th>0</th>\n",
       "      <td>LABORATOR RADStrada AbabeidaSacueni, 161096E, 4540981191-47829562-130865 ,tudorsmaranda@kappa.ro Data setului de a10 May 2022 May 2022 18:45:00 InregistPAUL STAR FALEZA HOUSE SRL Nume si DRYNET TRADING SRL 45rsta : 45 , Sex : Mascul456 45 789 2 45 789 2 \\nsabin66@zzup.ro 7846962952841324401027 Cod O536644034742595638756433 IR5188416SA6301601U, ÎnmatriBD32904: BD32904,SEWS324095192710408192710408,\\n\\nLA ORA : 10/12/2021 14:54_ VALIDATIOANA GHIBANNA GHIBAN ; \\nINVESTIGATII : CT TORACICÃ NATIVÃ</td>\n",
       "    </tr>\n",
       "    <tr>\n",
       "      <th>1</th>\n",
       "      <td>C.N.P : 2450Agota EVELYNata XNATFTD322025427062376 EGB 1517 Varsta : 94 May 2022Dr. NISTOR Eliana, \\nC.N.P : 245050BUREAN MARIAa OHYWV+37(106)269485 25 May 2022maria@gmail.comNume si IOEVO350093818EX Doina Gheorghiu Tel: +93(7JI9678938, \\nE-mailFXHZ7170951927104999LicSpitalul Pentru Ochi, Bulevardul Cristea de Deal CNr. 972,Vaslui :101751025852778242353, \\nAcademia Româna Spitalul Universitar de Urgenta “Elias”, Aleea Nistor ,Intrarea Diaconescu Curcani, 614431\\n\\nbolus 10 ml Iomeron 350 urmate de 30 ml flush salin cu 5 ml/s . Se continua cu 65 ml contrast si 30 ml flush salin , cu acelasi flux . Se efectueaza o examinare angio-CT coronariana cu achizitii spirale cu reconstructii retrospective la o frecventa cardiaca medie de 60/min . Opacifiere buna a patului vascular si cavitatilor cardiace . Fara incidente sau accidente pe parcursul examinarii . CONCLUZII : - Stare dupa stentare ramus intermedius si artera coronara dreapta . Aspect corespunzator al stenturilor , cu minima stenoza la nivelul ACD si cu flux distal corespunzator.</td>\n",
       "    </tr>\n",
       "  </tbody>\n",
       "</table>\n",
       "</div>"
      ],
      "text/plain": [
       "                                                                                                                                                                                                                                                                                                                                                                                                                                                                                                                                                                                                                                                                                                                                                                                                                                                                                                                                                                                                                                                                             predictions\n",
       "0                                                                                                                                                                                                                                                                                                                                                                                                                                                                                                                                                                       LABORATOR RADStrada AbabeidaSacueni, 161096E, 4540981191-47829562-130865 ,tudorsmaranda@kappa.ro Data setului de a10 May 2022 May 2022 18:45:00 InregistPAUL STAR FALEZA HOUSE SRL Nume si DRYNET TRADING SRL 45rsta : 45 , Sex : Mascul456 45 789 2 45 789 2 \\nsabin66@zzup.ro 7846962952841324401027 Cod O536644034742595638756433 IR5188416SA6301601U, ÎnmatriBD32904: BD32904,SEWS324095192710408192710408,\\n\\nLA ORA : 10/12/2021 14:54_ VALIDATIOANA GHIBANNA GHIBAN ; \\nINVESTIGATII : CT TORACICÃ NATIVÃ\n",
       "1  C.N.P : 2450Agota EVELYNata XNATFTD322025427062376 EGB 1517 Varsta : 94 May 2022Dr. NISTOR Eliana, \\nC.N.P : 245050BUREAN MARIAa OHYWV+37(106)269485 25 May 2022maria@gmail.comNume si IOEVO350093818EX Doina Gheorghiu Tel: +93(7JI9678938, \\nE-mailFXHZ7170951927104999LicSpitalul Pentru Ochi, Bulevardul Cristea de Deal CNr. 972,Vaslui :101751025852778242353, \\nAcademia Româna Spitalul Universitar de Urgenta “Elias”, Aleea Nistor ,Intrarea Diaconescu Curcani, 614431\\n\\nbolus 10 ml Iomeron 350 urmate de 30 ml flush salin cu 5 ml/s . Se continua cu 65 ml contrast si 30 ml flush salin , cu acelasi flux . Se efectueaza o examinare angio-CT coronariana cu achizitii spirale cu reconstructii retrospective la o frecventa cardiaca medie de 60/min . Opacifiere buna a patului vascular si cavitatilor cardiace . Fara incidente sau accidente pe parcursul examinarii . CONCLUZII : - Stare dupa stentare ramus intermedius si artera coronara dreapta . Aspect corespunzator al stenturilor , cu minima stenoza la nivelul ACD si cu flux distal corespunzator."
      ]
     },
     "metadata": {},
     "output_type": "display_data"
    }
   ],
   "source": [
    "# obfuscated\n",
    "data_dicts = [\n",
    "    {\n",
    "        \"text\": docs,\n",
    "        \"masking_policy\": \"obfuscated\"\n",
    "    }\n",
    "]\n",
    "\n",
    "process_data_and_invoke_realtime_endpoint(data_dicts)"
   ]
  },
  {
   "cell_type": "markdown",
   "metadata": {},
   "source": [
    "### C. Delete the endpoint"
   ]
  },
  {
   "cell_type": "markdown",
   "metadata": {},
   "source": [
    "Now that you have successfully performed a real-time inference, you do not need the endpoint any more. You can terminate the endpoint to avoid being charged."
   ]
  },
  {
   "cell_type": "code",
   "execution_count": 12,
   "metadata": {
    "tags": []
   },
   "outputs": [],
   "source": [
    "model.sagemaker_session.delete_endpoint(model_name)\n",
    "model.sagemaker_session.delete_endpoint_config(model_name)"
   ]
  },
  {
   "cell_type": "markdown",
   "metadata": {
    "tags": []
   },
   "source": [
    "## 3. Batch inference"
   ]
  },
  {
   "cell_type": "code",
   "execution_count": 13,
   "metadata": {
    "tags": []
   },
   "outputs": [],
   "source": [
    "import os\n",
    "\n",
    "validation_file_name_1 = \"input_1.json\"\n",
    "validation_file_name_2 = \"input_2.json\"\n",
    "validation_file_name_3 = \"input_3.json\"\n",
    "validation_file_name_4 = \"input_4.json\"\n",
    "\n",
    "validation_input_path = f\"s3://{s3_bucket}/{model_name}/validation-input-json/batch\"\n",
    "validation_output_path = f\"s3://{s3_bucket}/{model_name}/validation-output-json/batch\"\n",
    "\n",
    "input_dir = 'inputs/batch'\n",
    "output_dir = 'outputs/batch'\n",
    "\n",
    "os.makedirs(input_dir, exist_ok=True)\n",
    "os.makedirs(output_dir, exist_ok=True)"
   ]
  },
  {
   "cell_type": "code",
   "execution_count": 14,
   "metadata": {
    "tags": []
   },
   "outputs": [],
   "source": [
    "import json\n",
    "\n",
    "def write_and_upload_to_s3(json_input_data, file_name):\n",
    "\n",
    "    json_data = json.dumps(json_input_data, ensure_ascii=False)\n",
    "\n",
    "    with open(file_name, \"w\", encoding=\"utf-8\") as f:\n",
    "        f.write(json_data)\n",
    "\n",
    "    s3_client.put_object(\n",
    "        Bucket=s3_bucket,\n",
    "        Key=f\"{model_name}/validation-input-json/batch/{os.path.basename(file_name)}\",\n",
    "        Body=(bytes(json_data.encode(\"UTF-8\"))),\n",
    "    )"
   ]
  },
  {
   "cell_type": "code",
   "execution_count": 15,
   "metadata": {
    "tags": []
   },
   "outputs": [],
   "source": [
    "# Define input JSON data for each validation file\n",
    "input_json_data = {\n",
    "    validation_file_name_1: {\"text\": docs},\n",
    "    validation_file_name_2: {\"text\": docs, \"masking_policy\": \"obfuscated\"},\n",
    "    validation_file_name_3: {\"text\": docs, \"masking_policy\": \"masked_fixed_length_chars\"},\n",
    "    validation_file_name_4: {\"text\": docs, \"masking_policy\": \"masked_with_chars\"},\n",
    "}\n",
    "\n",
    "# Write and upload each input JSON data to S3\n",
    "for file_name, json_data in input_json_data.items():\n",
    "    write_and_upload_to_s3(json_data, f\"{input_dir}/{file_name}\")"
   ]
  },
  {
   "cell_type": "code",
   "execution_count": null,
   "metadata": {
    "tags": []
   },
   "outputs": [],
   "source": [
    "# Initialize a SageMaker Transformer object for making predictions\n",
    "transformer = model.transformer(\n",
    "    instance_count=1,\n",
    "    instance_type= batch_transform_inference_instance_type,\n",
    "    accept=\"application/json\",\n",
    ")\n",
    "transformer.transform(validation_input_path, content_type=content_type)\n",
    "transformer.wait()"
   ]
  },
  {
   "cell_type": "code",
   "execution_count": 17,
   "metadata": {
    "tags": []
   },
   "outputs": [],
   "source": [
    "from urllib.parse import urlparse\n",
    "\n",
    "def process_s3_output_and_save(validation_file_name, output_file_name):\n",
    "\n",
    "    output_file_path = f\"{output_dir}/{output_file_name}\"\n",
    "    parsed_url = urlparse(transformer.output_path)\n",
    "    file_key = f\"{parsed_url.path[1:]}/{validation_file_name}.out\"\n",
    "    response = s3_client.get_object(Bucket=s3_bucket, Key=file_key)\n",
    "\n",
    "    data = json.loads(response[\"Body\"].read().decode(\"utf-8\"))\n",
    "    df = pd.DataFrame(data)\n",
    "    display(df)\n",
    "\n",
    "    # Save the data to the output file\n",
    "    with open(output_file_path, 'w', encoding='utf-8') as f_out:\n",
    "        json.dump(data, f_out, indent=4, ensure_ascii=False)"
   ]
  },
  {
   "cell_type": "markdown",
   "metadata": {},
   "source": [
    "#### masked (default-policy)"
   ]
  },
  {
   "cell_type": "code",
   "execution_count": 18,
   "metadata": {
    "tags": []
   },
   "outputs": [
    {
     "data": {
      "text/html": [
       "<div>\n",
       "<style scoped>\n",
       "    .dataframe tbody tr th:only-of-type {\n",
       "        vertical-align: middle;\n",
       "    }\n",
       "\n",
       "    .dataframe tbody tr th {\n",
       "        vertical-align: top;\n",
       "    }\n",
       "\n",
       "    .dataframe thead th {\n",
       "        text-align: right;\n",
       "    }\n",
       "</style>\n",
       "<table border=\"1\" class=\"dataframe\">\n",
       "  <thead>\n",
       "    <tr style=\"text-align: right;\">\n",
       "      <th></th>\n",
       "      <th>predictions</th>\n",
       "    </tr>\n",
       "  </thead>\n",
       "  <tbody>\n",
       "    <tr>\n",
       "      <th>0</th>\n",
       "      <td>LABORATOR RADStrada AbabeidaSacueni, &lt;ZIP&gt;, &lt;ZIP&gt; ,&lt;EMAIL&gt; Data setului de &lt;DATE&gt; 18:45:00 InregistPAUL &lt;ORGANIZATION&gt; Nume si &lt;ORGANIZATION&gt; 45rsta : 45 , Sex : Mascul456 45 789 2 45 789 2 \\n&lt;EMAIL&gt; &lt;IDNUM&gt; Cod &lt;IDNUM&gt; &lt;IDNUM&gt;, ÎnmatriBD32904: BD32904,SEWS324095192710408192710408,\\n\\nLA ORA : &lt;DATE&gt; 14:54_ VALIDATIOANA GHIBANNA GHIBAN ; \\nINVESTIGATII : CT TORACICÃ NATIVÃ</td>\n",
       "    </tr>\n",
       "    <tr>\n",
       "      <th>1</th>\n",
       "      <td>C.N.P : 2450Agota EVELYNata &lt;IDNUM&gt; Varsta : &lt;AGE&gt; May 2022Dr. &lt;DOCTOR&gt;, \\nC.N.P : 245050BUREAN MARIAa &lt;PHONE&gt; &lt;DATE&gt; si &lt;IDNUM&gt; &lt;DOCTOR&gt; Tel: &lt;PHONE&gt;, \\nE-mailFXHZ7170951927104999LicSpitalul Pentru Ochi, &lt;STREET&gt; de Deal CNr. 972,Vaslui :&lt;IDNUM&gt;, \\n&lt;HOSPITAL&gt;, &lt;STREET&gt; ,&lt;STREET&gt; &lt;CITY&gt;, &lt;ZIP&gt;\\n\\nbolus 10 ml Iomeron 350 urmate de 30 ml flush salin cu 5 ml/s . Se continua cu 65 ml contrast si 30 ml flush salin , cu acelasi flux . Se efectueaza o examinare angio-CT coronariana cu achizitii spirale cu reconstructii retrospective la o frecventa cardiaca medie de 60/min . Opacifiere buna a patului vascular si cavitatilor cardiace . Fara incidente sau accidente pe parcursul examinarii . CONCLUZII : - Stare dupa stentare ramus intermedius si artera coronara dreapta . Aspect corespunzator al stenturilor , cu minima stenoza la nivelul ACD si cu flux distal corespunzator.</td>\n",
       "    </tr>\n",
       "  </tbody>\n",
       "</table>\n",
       "</div>"
      ],
      "text/plain": [
       "                                                                                                                                                                                                                                                                                                                                                                                                                                                                                                                                                                                                                                                                                                                                                                                                                                                                                                  predictions\n",
       "0                                                                                                                                                                                                                                                                                                                                                                                                                                                                                                                     LABORATOR RADStrada AbabeidaSacueni, <ZIP>, <ZIP> ,<EMAIL> Data setului de <DATE> 18:45:00 InregistPAUL <ORGANIZATION> Nume si <ORGANIZATION> 45rsta : 45 , Sex : Mascul456 45 789 2 45 789 2 \\n<EMAIL> <IDNUM> Cod <IDNUM> <IDNUM>, ÎnmatriBD32904: BD32904,SEWS324095192710408192710408,\\n\\nLA ORA : <DATE> 14:54_ VALIDATIOANA GHIBANNA GHIBAN ; \\nINVESTIGATII : CT TORACICÃ NATIVÃ\n",
       "1  C.N.P : 2450Agota EVELYNata <IDNUM> Varsta : <AGE> May 2022Dr. <DOCTOR>, \\nC.N.P : 245050BUREAN MARIAa <PHONE> <DATE> si <IDNUM> <DOCTOR> Tel: <PHONE>, \\nE-mailFXHZ7170951927104999LicSpitalul Pentru Ochi, <STREET> de Deal CNr. 972,Vaslui :<IDNUM>, \\n<HOSPITAL>, <STREET> ,<STREET> <CITY>, <ZIP>\\n\\nbolus 10 ml Iomeron 350 urmate de 30 ml flush salin cu 5 ml/s . Se continua cu 65 ml contrast si 30 ml flush salin , cu acelasi flux . Se efectueaza o examinare angio-CT coronariana cu achizitii spirale cu reconstructii retrospective la o frecventa cardiaca medie de 60/min . Opacifiere buna a patului vascular si cavitatilor cardiace . Fara incidente sau accidente pe parcursul examinarii . CONCLUZII : - Stare dupa stentare ramus intermedius si artera coronara dreapta . Aspect corespunzator al stenturilor , cu minima stenoza la nivelul ACD si cu flux distal corespunzator."
      ]
     },
     "metadata": {},
     "output_type": "display_data"
    }
   ],
   "source": [
    "process_s3_output_and_save(validation_file_name_1, \"out_1.out\")"
   ]
  },
  {
   "cell_type": "markdown",
   "metadata": {},
   "source": [
    "#### obfuscated"
   ]
  },
  {
   "cell_type": "code",
   "execution_count": 19,
   "metadata": {
    "tags": []
   },
   "outputs": [
    {
     "data": {
      "text/html": [
       "<div>\n",
       "<style scoped>\n",
       "    .dataframe tbody tr th:only-of-type {\n",
       "        vertical-align: middle;\n",
       "    }\n",
       "\n",
       "    .dataframe tbody tr th {\n",
       "        vertical-align: top;\n",
       "    }\n",
       "\n",
       "    .dataframe thead th {\n",
       "        text-align: right;\n",
       "    }\n",
       "</style>\n",
       "<table border=\"1\" class=\"dataframe\">\n",
       "  <thead>\n",
       "    <tr style=\"text-align: right;\">\n",
       "      <th></th>\n",
       "      <th>predictions</th>\n",
       "    </tr>\n",
       "  </thead>\n",
       "  <tbody>\n",
       "    <tr>\n",
       "      <th>0</th>\n",
       "      <td>LABORATOR RADStrada AbabeidaSacueni, 161096E, 4540981191-47829562-130865 ,tudorsmaranda@kappa.ro Data setului de a10 May 2022 May 2022 18:45:00 InregistPAUL STAR FALEZA HOUSE SRL Nume si DRYNET TRADING SRL 45rsta : 45 , Sex : Mascul456 45 789 2 45 789 2 \\nsabin66@zzup.ro 7846962952841324401027 Cod O536644034742595638756433 IR5188416SA6301601U, ÎnmatriBD32904: BD32904,SEWS324095192710408192710408,\\n\\nLA ORA : 10/12/2021 14:54_ VALIDATIOANA GHIBANNA GHIBAN ; \\nINVESTIGATII : CT TORACICÃ NATIVÃ</td>\n",
       "    </tr>\n",
       "    <tr>\n",
       "      <th>1</th>\n",
       "      <td>C.N.P : 2450Agota EVELYNata ZOXWRUE454098119147829 FAO 1308 Varsta : 94 May 2022Dr. NISTOR Eliana, \\nC.N.P : 245050BUREAN MARIAa MVHQI+69(629)528413 25 May 2022maria@gmail.comNume si KGMWN027253664QI Doina Gheorghiu Tel: +34(7QQ5956387, \\nE-mailFXHZ7170951927104999LicSpitalul Pentru Ochi, Bulevardul Cristea de Deal CNr. 972,Vaslui :564332951884166063016, \\nAcademia Româna Spitalul Universitar de Urgenta “Elias”, Aleea Nistor ,Intrarea Diaconescu Curcani, 010932\\n\\nbolus 10 ml Iomeron 350 urmate de 30 ml flush salin cu 5 ml/s . Se continua cu 65 ml contrast si 30 ml flush salin , cu acelasi flux . Se efectueaza o examinare angio-CT coronariana cu achizitii spirale cu reconstructii retrospective la o frecventa cardiaca medie de 60/min . Opacifiere buna a patului vascular si cavitatilor cardiace . Fara incidente sau accidente pe parcursul examinarii . CONCLUZII : - Stare dupa stentare ramus intermedius si artera coronara dreapta . Aspect corespunzator al stenturilor , cu minima stenoza la nivelul ACD si cu flux distal corespunzator.</td>\n",
       "    </tr>\n",
       "  </tbody>\n",
       "</table>\n",
       "</div>"
      ],
      "text/plain": [
       "                                                                                                                                                                                                                                                                                                                                                                                                                                                                                                                                                                                                                                                                                                                                                                                                                                                                                                                                                                                                                                                                             predictions\n",
       "0                                                                                                                                                                                                                                                                                                                                                                                                                                                                                                                                                                       LABORATOR RADStrada AbabeidaSacueni, 161096E, 4540981191-47829562-130865 ,tudorsmaranda@kappa.ro Data setului de a10 May 2022 May 2022 18:45:00 InregistPAUL STAR FALEZA HOUSE SRL Nume si DRYNET TRADING SRL 45rsta : 45 , Sex : Mascul456 45 789 2 45 789 2 \\nsabin66@zzup.ro 7846962952841324401027 Cod O536644034742595638756433 IR5188416SA6301601U, ÎnmatriBD32904: BD32904,SEWS324095192710408192710408,\\n\\nLA ORA : 10/12/2021 14:54_ VALIDATIOANA GHIBANNA GHIBAN ; \\nINVESTIGATII : CT TORACICÃ NATIVÃ\n",
       "1  C.N.P : 2450Agota EVELYNata ZOXWRUE454098119147829 FAO 1308 Varsta : 94 May 2022Dr. NISTOR Eliana, \\nC.N.P : 245050BUREAN MARIAa MVHQI+69(629)528413 25 May 2022maria@gmail.comNume si KGMWN027253664QI Doina Gheorghiu Tel: +34(7QQ5956387, \\nE-mailFXHZ7170951927104999LicSpitalul Pentru Ochi, Bulevardul Cristea de Deal CNr. 972,Vaslui :564332951884166063016, \\nAcademia Româna Spitalul Universitar de Urgenta “Elias”, Aleea Nistor ,Intrarea Diaconescu Curcani, 010932\\n\\nbolus 10 ml Iomeron 350 urmate de 30 ml flush salin cu 5 ml/s . Se continua cu 65 ml contrast si 30 ml flush salin , cu acelasi flux . Se efectueaza o examinare angio-CT coronariana cu achizitii spirale cu reconstructii retrospective la o frecventa cardiaca medie de 60/min . Opacifiere buna a patului vascular si cavitatilor cardiace . Fara incidente sau accidente pe parcursul examinarii . CONCLUZII : - Stare dupa stentare ramus intermedius si artera coronara dreapta . Aspect corespunzator al stenturilor , cu minima stenoza la nivelul ACD si cu flux distal corespunzator."
      ]
     },
     "metadata": {},
     "output_type": "display_data"
    }
   ],
   "source": [
    "process_s3_output_and_save(validation_file_name_2, \"out_2.out\")"
   ]
  },
  {
   "cell_type": "markdown",
   "metadata": {},
   "source": [
    "#### masked_fixed_length_chars"
   ]
  },
  {
   "cell_type": "code",
   "execution_count": 20,
   "metadata": {
    "tags": []
   },
   "outputs": [
    {
     "data": {
      "text/html": [
       "<div>\n",
       "<style scoped>\n",
       "    .dataframe tbody tr th:only-of-type {\n",
       "        vertical-align: middle;\n",
       "    }\n",
       "\n",
       "    .dataframe tbody tr th {\n",
       "        vertical-align: top;\n",
       "    }\n",
       "\n",
       "    .dataframe thead th {\n",
       "        text-align: right;\n",
       "    }\n",
       "</style>\n",
       "<table border=\"1\" class=\"dataframe\">\n",
       "  <thead>\n",
       "    <tr style=\"text-align: right;\">\n",
       "      <th></th>\n",
       "      <th>predictions</th>\n",
       "    </tr>\n",
       "  </thead>\n",
       "  <tbody>\n",
       "    <tr>\n",
       "      <th>0</th>\n",
       "      <td>LABORATOR RADStrada AbabeidaSacueni, ****, **** ,**** Data setului de **** 18:45:00 InregistPAUL **** Nume si **** 45rsta : 45 , Sex : Mascul456 45 789 2 45 789 2 \\n**** **** Cod **** ****, ÎnmatriBD32904: BD32904,SEWS324095192710408192710408,\\n\\nLA ORA : **** 14:54_ VALIDATIOANA GHIBANNA GHIBAN ; \\nINVESTIGATII : CT TORACICÃ NATIVÃ</td>\n",
       "    </tr>\n",
       "    <tr>\n",
       "      <th>1</th>\n",
       "      <td>C.N.P : 2450Agota EVELYNata **** Varsta : **** May 2022Dr. ****, \\nC.N.P : 245050BUREAN MARIAa **** **** si **** **** Tel: ****, \\nE-mailFXHZ7170951927104999LicSpitalul Pentru Ochi, **** de Deal CNr. 972,Vaslui :****, \\n****, **** ,**** ****, ****\\n\\nbolus 10 ml Iomeron 350 urmate de 30 ml flush salin cu 5 ml/s . Se continua cu 65 ml contrast si 30 ml flush salin , cu acelasi flux . Se efectueaza o examinare angio-CT coronariana cu achizitii spirale cu reconstructii retrospective la o frecventa cardiaca medie de 60/min . Opacifiere buna a patului vascular si cavitatilor cardiace . Fara incidente sau accidente pe parcursul examinarii . CONCLUZII : - Stare dupa stentare ramus intermedius si artera coronara dreapta . Aspect corespunzator al stenturilor , cu minima stenoza la nivelul ACD si cu flux distal corespunzator.</td>\n",
       "    </tr>\n",
       "  </tbody>\n",
       "</table>\n",
       "</div>"
      ],
      "text/plain": [
       "                                                                                                                                                                                                                                                                                                                                                                                                                                                                                                                                                                                                                                                                                                                                                                                                                                                   predictions\n",
       "0                                                                                                                                                                                                                                                                                                                                                                                                                                                                                                               LABORATOR RADStrada AbabeidaSacueni, ****, **** ,**** Data setului de **** 18:45:00 InregistPAUL **** Nume si **** 45rsta : 45 , Sex : Mascul456 45 789 2 45 789 2 \\n**** **** Cod **** ****, ÎnmatriBD32904: BD32904,SEWS324095192710408192710408,\\n\\nLA ORA : **** 14:54_ VALIDATIOANA GHIBANNA GHIBAN ; \\nINVESTIGATII : CT TORACICÃ NATIVÃ\n",
       "1  C.N.P : 2450Agota EVELYNata **** Varsta : **** May 2022Dr. ****, \\nC.N.P : 245050BUREAN MARIAa **** **** si **** **** Tel: ****, \\nE-mailFXHZ7170951927104999LicSpitalul Pentru Ochi, **** de Deal CNr. 972,Vaslui :****, \\n****, **** ,**** ****, ****\\n\\nbolus 10 ml Iomeron 350 urmate de 30 ml flush salin cu 5 ml/s . Se continua cu 65 ml contrast si 30 ml flush salin , cu acelasi flux . Se efectueaza o examinare angio-CT coronariana cu achizitii spirale cu reconstructii retrospective la o frecventa cardiaca medie de 60/min . Opacifiere buna a patului vascular si cavitatilor cardiace . Fara incidente sau accidente pe parcursul examinarii . CONCLUZII : - Stare dupa stentare ramus intermedius si artera coronara dreapta . Aspect corespunzator al stenturilor , cu minima stenoza la nivelul ACD si cu flux distal corespunzator."
      ]
     },
     "metadata": {},
     "output_type": "display_data"
    }
   ],
   "source": [
    "process_s3_output_and_save(validation_file_name_3, \"out_3.out\")"
   ]
  },
  {
   "cell_type": "markdown",
   "metadata": {},
   "source": [
    "#### masked_with_chars"
   ]
  },
  {
   "cell_type": "code",
   "execution_count": 21,
   "metadata": {
    "tags": []
   },
   "outputs": [
    {
     "data": {
      "text/html": [
       "<div>\n",
       "<style scoped>\n",
       "    .dataframe tbody tr th:only-of-type {\n",
       "        vertical-align: middle;\n",
       "    }\n",
       "\n",
       "    .dataframe tbody tr th {\n",
       "        vertical-align: top;\n",
       "    }\n",
       "\n",
       "    .dataframe thead th {\n",
       "        text-align: right;\n",
       "    }\n",
       "</style>\n",
       "<table border=\"1\" class=\"dataframe\">\n",
       "  <thead>\n",
       "    <tr style=\"text-align: right;\">\n",
       "      <th></th>\n",
       "      <th>predictions</th>\n",
       "    </tr>\n",
       "  </thead>\n",
       "  <tbody>\n",
       "    <tr>\n",
       "      <th>0</th>\n",
       "      <td>LABORATOR RADStrada AbabeidaSacueni, [*****], [************************] ,[*******************] Data setului de [*******************] 18:45:00 InregistPAUL [*******************] Nume si [*********************] 45rsta : 45 , Sex : Mascul456 45 789 2 45 789 2 \\n[***************************] [********************] Cod [***********************] [*****************], ÎnmatriBD32904: BD32904,SEWS324095192710408192710408,\\n\\nLA ORA : [********] 14:54_ VALIDATIOANA GHIBANNA GHIBAN ; \\nINVESTIGATII : CT TORACICÃ NATIVÃ</td>\n",
       "    </tr>\n",
       "    <tr>\n",
       "      <th>1</th>\n",
       "      <td>C.N.P : 2450Agota EVELYNata [*****************************] Varsta : [*****] May 2022Dr. [**********], \\nC.N.P : 245050BUREAN MARIAa [*****************] [****************************] si [**************] [***] Tel: [************], \\nE-mailFXHZ7170951927104999LicSpitalul Pentru Ochi, [****] de Deal CNr. 972,Vaslui :[*******************], \\n[******************], [************] ,[*****] [****], [****]\\n\\nbolus 10 ml Iomeron 350 urmate de 30 ml flush salin cu 5 ml/s . Se continua cu 65 ml contrast si 30 ml flush salin , cu acelasi flux . Se efectueaza o examinare angio-CT coronariana cu achizitii spirale cu reconstructii retrospective la o frecventa cardiaca medie de 60/min . Opacifiere buna a patului vascular si cavitatilor cardiace . Fara incidente sau accidente pe parcursul examinarii . CONCLUZII : - Stare dupa stentare ramus intermedius si artera coronara dreapta . Aspect corespunzator al stenturilor , cu minima stenoza la nivelul ACD si cu flux distal corespunzator.</td>\n",
       "    </tr>\n",
       "  </tbody>\n",
       "</table>\n",
       "</div>"
      ],
      "text/plain": [
       "                                                                                                                                                                                                                                                                                                                                                                                                                                                                                                                                                                                                                                                                                                                                                                                                                                                                                                                                                                                                             predictions\n",
       "0                                                                                                                                                                                                                                                                                                                                                                                                                                                                                     LABORATOR RADStrada AbabeidaSacueni, [*****], [************************] ,[*******************] Data setului de [*******************] 18:45:00 InregistPAUL [*******************] Nume si [*********************] 45rsta : 45 , Sex : Mascul456 45 789 2 45 789 2 \\n[***************************] [********************] Cod [***********************] [*****************], ÎnmatriBD32904: BD32904,SEWS324095192710408192710408,\\n\\nLA ORA : [********] 14:54_ VALIDATIOANA GHIBANNA GHIBAN ; \\nINVESTIGATII : CT TORACICÃ NATIVÃ\n",
       "1  C.N.P : 2450Agota EVELYNata [*****************************] Varsta : [*****] May 2022Dr. [**********], \\nC.N.P : 245050BUREAN MARIAa [*****************] [****************************] si [**************] [***] Tel: [************], \\nE-mailFXHZ7170951927104999LicSpitalul Pentru Ochi, [****] de Deal CNr. 972,Vaslui :[*******************], \\n[******************], [************] ,[*****] [****], [****]\\n\\nbolus 10 ml Iomeron 350 urmate de 30 ml flush salin cu 5 ml/s . Se continua cu 65 ml contrast si 30 ml flush salin , cu acelasi flux . Se efectueaza o examinare angio-CT coronariana cu achizitii spirale cu reconstructii retrospective la o frecventa cardiaca medie de 60/min . Opacifiere buna a patului vascular si cavitatilor cardiace . Fara incidente sau accidente pe parcursul examinarii . CONCLUZII : - Stare dupa stentare ramus intermedius si artera coronara dreapta . Aspect corespunzator al stenturilor , cu minima stenoza la nivelul ACD si cu flux distal corespunzator."
      ]
     },
     "metadata": {},
     "output_type": "display_data"
    }
   ],
   "source": [
    "process_s3_output_and_save(validation_file_name_4, \"out_4.out\")"
   ]
  },
  {
   "cell_type": "code",
   "execution_count": 22,
   "metadata": {
    "tags": []
   },
   "outputs": [
    {
     "name": "stderr",
     "output_type": "stream",
     "text": [
      "INFO:sagemaker:Deleting model with name: ro-deid-clinical-2024-04-02-18-52-43-145\n"
     ]
    }
   ],
   "source": [
    "model.delete_model()"
   ]
  },
  {
   "cell_type": "markdown",
   "metadata": {},
   "source": [
    "### Unsubscribe to the listing (optional)"
   ]
  },
  {
   "cell_type": "markdown",
   "metadata": {
    "tags": []
   },
   "source": [
    "If you would like to unsubscribe to the model package, follow these steps. Before you cancel the subscription, ensure that you do not have any [deployable model](https://console.aws.amazon.com/sagemaker/home#/models) created from the model package or using the algorithm. Note - You can find this information by looking at the container name associated with the model. \n",
    "\n",
    "**Steps to unsubscribe to product from AWS Marketplace**:\n",
    "1. Navigate to __Machine Learning__ tab on [__Your Software subscriptions page__](https://aws.amazon.com/marketplace/ai/library?productType=ml&ref_=mlmp_gitdemo_indust)\n",
    "2. Locate the listing that you want to cancel the subscription for, and then choose __Cancel Subscription__  to cancel the subscription.\n",
    "\n"
   ]
  },
  {
   "cell_type": "code",
   "execution_count": null,
   "metadata": {},
   "outputs": [],
   "source": []
  }
 ],
 "metadata": {
  "instance_type": "ml.t3.medium",
  "kernelspec": {
   "display_name": "conda_python3",
   "language": "python",
   "name": "conda_python3"
  },
  "language_info": {
   "codemirror_mode": {
    "name": "ipython",
    "version": 3
   },
   "file_extension": ".py",
   "mimetype": "text/x-python",
   "name": "python",
   "nbconvert_exporter": "python",
   "pygments_lexer": "ipython3",
   "version": "3.10.13"
  }
 },
 "nbformat": 4,
 "nbformat_minor": 4
}

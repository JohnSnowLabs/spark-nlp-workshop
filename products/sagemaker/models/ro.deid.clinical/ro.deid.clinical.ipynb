{
 "cells": [
  {
   "cell_type": "markdown",
   "metadata": {},
   "source": [
    "## 1. Subscribe to the model package"
   ]
  },
  {
   "cell_type": "markdown",
   "metadata": {},
   "source": [
    "To subscribe to the model package:\n",
    "1. Open the model package listing page: [Clinical De-identification for Romanian](https://aws.amazon.com/marketplace/pp/prodview-ytlqgqtgkou7s)\n",
    "1. On the AWS Marketplace listing, click on the **Continue to subscribe** button.\n",
    "1. On the **Subscribe to this software** page, review and click on **\"Accept Offer\"** if you and your organization agrees with EULA, pricing, and support terms. \n",
    "1. Once you click on **Continue to configuration button** and then choose a **region**, you will see a **Product Arn** displayed. This is the model package ARN that you need to specify while creating a deployable model using Boto3. Copy the ARN corresponding to your region and specify the same in the following cell."
   ]
  },
  {
   "cell_type": "markdown",
   "metadata": {},
   "source": [
    "## Clinical Deidentification Romanian\n",
    "\n",
    "Deidentification is essential for safeguarding patient privacy in clinical data, including texts, PDFs, images, and DICOM files containing Protected Health Information (PHI). PHI encompasses various health-related data, including common identifiers such as name, address, birth date, and Social Security Number.\n",
    "\n",
    "- **Model**: [ro.deid.clinical](https://nlp.johnsnowlabs.com/2023/06/17/clinical_deidentification_ro.html)\n",
    "- **Model Description**: This pipeline is trained with w2v_cc_300d Romanian embeddings and can be used to deidentify PHI information from medical texts in Romanian. The PHI information will be masked and obfuscated in the resulting text. The pipeline can mask, fake or obfuscate the following entities: AGE, CITY, COUNTRY, DATE, DOCTOR, EMAIL, FAX, HOSPITAL, IDNUM, LOCATION-OTHER, MEDICALRECORD, ORGANIZATION, PATIENT, PHONE, PROFESSION, STREET, ZIP, ACCOUNT, LICENSE, PLATE"
   ]
  },
  {
   "cell_type": "code",
   "execution_count": 1,
   "metadata": {
    "tags": []
   },
   "outputs": [],
   "source": [
    "model_package_arn = \"<Customer to specify Model package ARN corresponding to their AWS region>\""
   ]
  },
  {
   "cell_type": "code",
   "execution_count": null,
   "metadata": {
    "tags": []
   },
   "outputs": [],
   "source": [
    "import json\n",
    "import os\n",
    "import boto3\n",
    "import pandas as pd\n",
    "import sagemaker as sage\n",
    "from sagemaker import ModelPackage\n",
    "from sagemaker import get_execution_role\n",
    "from IPython.display import display\n",
    "from urllib.parse import urlparse"
   ]
  },
  {
   "cell_type": "code",
   "execution_count": null,
   "metadata": {
    "tags": []
   },
   "outputs": [],
   "source": [
    "sagemaker_session = sage.Session()\n",
    "s3_bucket = sagemaker_session.default_bucket()\n",
    "region = sagemaker_session.boto_region_name\n",
    "account_id = boto3.client(\"sts\").get_caller_identity().get(\"Account\")\n",
    "role = get_execution_role()\n",
    "\n",
    "sagemaker = boto3.client(\"sagemaker\")\n",
    "s3_client = sagemaker_session.boto_session.client(\"s3\")\n",
    "ecr = boto3.client(\"ecr\")\n",
    "sm_runtime = boto3.client(\"sagemaker-runtime\")\n",
    "\n",
    "# Set display options\n",
    "pd.set_option('display.max_rows', None)\n",
    "pd.set_option('display.max_columns', None)\n",
    "pd.set_option('display.max_colwidth', None)"
   ]
  },
  {
   "cell_type": "code",
   "execution_count": 4,
   "metadata": {
    "tags": []
   },
   "outputs": [],
   "source": [
    "model_name = \"ro-deid-clinical\"\n",
    "\n",
    "real_time_inference_instance_type = \"ml.m4.xlarge\"\n",
    "batch_transform_inference_instance_type = \"ml.m4.2xlarge\""
   ]
  },
  {
   "cell_type": "markdown",
   "metadata": {},
   "source": [
    "## 2. Create a deployable model from the model package."
   ]
  },
  {
   "cell_type": "code",
   "execution_count": 5,
   "metadata": {
    "tags": []
   },
   "outputs": [],
   "source": [
    "model = ModelPackage(\n",
    "    role=role, \n",
    "    model_package_arn=model_package_arn,\n",
    "    sagemaker_session=sagemaker_session,\n",
    ")"
   ]
  },
  {
   "cell_type": "markdown",
   "metadata": {},
   "source": [
    "### Input Format\n",
    "\n",
    "To use the model, you need to provide input in one of the following supported formats:\n",
    "\n",
    "#### JSON Format\n",
    "\n",
    "Provide input as JSON. We support two variations within this format:\n",
    "\n",
    "1. **Array of Text Documents**: \n",
    "   Use an array containing multiple text documents. Each element represents a separate text document.\n",
    "\n",
    "   ```json\n",
    "   {\n",
    "       \"text\": [\n",
    "           \"Text document 1\",\n",
    "           \"Text document 2\",\n",
    "           ...\n",
    "       ]\n",
    "   }\n",
    "\n",
    "    ```\n",
    "\n",
    "2. **Single Text Document**:\n",
    "   Provide a single text document as a string.\n",
    "\n",
    "\n",
    "   ```json\n",
    "    {\n",
    "        \"text\": \"Single text document\"\n",
    "    }\n",
    "   ```\n",
    "\n",
    "#### JSON Lines (JSONL) Format\n",
    "\n",
    "Provide input in JSON Lines format, where each line is a JSON object representing a text document.\n",
    "\n",
    "```\n",
    "{\"text\": \"Text document 1\"}\n",
    "{\"text\": \"Text document 2\"}\n",
    "```\n",
    "\n",
    "### Important Parameter\n",
    "\n",
    "- **masking_policy**: `str`\n",
    "\n",
    "    Users can select a masking policy to determine how sensitive entities are handled:\n",
    "\n",
    "    Example: \"**LABORATOR RADStrada AbabeidaSacueni, 354573i, 3545730265-21011065-210110 ,OFFICE@SMURDICE@SMURD**\"\n",
    "\n",
    "    - **masked**: Default policy that masks entities with their type.\n",
    "\n",
    "      -> 'LABORATOR RADIOLOGIE, `<STREET>`, `<CITY>`, `<ZIP>` , TEL : `<PHONE>` , E-MAIL: `<EMAIL>`'\n",
    "\n",
    "    - **obfuscated**: Replaces sensitive entities with random values of the same type.\n",
    "\n",
    "      -> 'LABORATOR RADIOLOGIE, `Intrarea Diaconescu`, `Aiud`, `302784` , TEL : `0263 144 119` , E-MAIL: `jeneltudor@email.ro`'\n",
    "\n",
    "    - **masked_fixed_length_chars**: Masks entities with a fixed length of asterisks (\\*).\n",
    "\n",
    "      -> 'LABORATOR RADIOLOGIE, `****`, `****`, `****` , TEL : `****` , E-MAIL: `****`'\n",
    "\n",
    "    - **masked_with_chars**: Masks entities with asterisks (\\*).\n",
    "\n",
    "      -> 'LABORATOR RADIOLOGIE, [`***********`], [`*****`], [`****`] , TEL : [`*********`] , E-MAIL: [`**********`]'\n",
    "    \n",
    "You can specify these parameters in the input as follows:\n",
    "\n",
    "```json\n",
    "{\n",
    "    \"text\": [\n",
    "        \"Text document 1\",\n",
    "        \"Text document 2\",\n",
    "        ...\n",
    "    ],\n",
    "    \"masking_policy\": \"masked\",\n",
    "}\n",
    "```"
   ]
  },
  {
   "cell_type": "markdown",
   "metadata": {},
   "source": [
    "## 3. Create an endpoint and perform real-time inference"
   ]
  },
  {
   "cell_type": "markdown",
   "metadata": {},
   "source": [
    "If you want to understand how real-time inference with Amazon SageMaker works, see [Documentation](https://docs.aws.amazon.com/sagemaker/latest/dg/how-it-works-hosting.html)."
   ]
  },
  {
   "cell_type": "markdown",
   "metadata": {},
   "source": [
    "### A. Deploy the SageMaker model to an endpoint"
   ]
  },
  {
   "cell_type": "code",
   "execution_count": null,
   "metadata": {
    "tags": []
   },
   "outputs": [],
   "source": [
    "predictor = model.deploy(\n",
    "    initial_instance_count=1,\n",
    "    instance_type=real_time_inference_instance_type, \n",
    "    endpoint_name=model_name,\n",
    ")"
   ]
  },
  {
   "cell_type": "markdown",
   "metadata": {},
   "source": [
    "Once endpoint has been created, you would be able to perform real-time inference."
   ]
  },
  {
   "cell_type": "code",
   "execution_count": 7,
   "metadata": {
    "tags": []
   },
   "outputs": [],
   "source": [
    "def invoke_realtime_endpoint(record, content_type=\"application/json\", accept=\"application/json\"):\n",
    "    response = sm_runtime.invoke_endpoint(\n",
    "        EndpointName=model_name,\n",
    "        ContentType=content_type,\n",
    "        Accept=accept,\n",
    "        Body=json.dumps(record) if content_type == \"application/json\" else record,\n",
    "    )\n",
    "\n",
    "    response_body = response[\"Body\"].read().decode(\"utf-8\")\n",
    "\n",
    "    if accept == \"application/json\":\n",
    "        return json.loads(response_body)\n",
    "    elif accept == \"application/jsonlines\":\n",
    "        return response_body\n",
    "    else:\n",
    "        raise ValueError(f\"Unsupported accept type: {accept}\")"
   ]
  },
  {
   "cell_type": "markdown",
   "metadata": {},
   "source": [
    "### Initial Setup"
   ]
  },
  {
   "cell_type": "code",
   "execution_count": 8,
   "metadata": {
    "tags": []
   },
   "outputs": [],
   "source": [
    "docs = [\n",
    "'''LABORATOR RADIOLOGIE, Strada Ababei, Sacueni, 354573 , TEL : 0265-210110 , E-MAIL: OFFICE@SMURD\n",
    "Data... \n",
    "LABORATOR RADIOLOGIE, Strada Ababei, Sacueni, 354573 , TEL : 0265-210110 , E-MAIL: OFFICE@SMURD\n",
    "Data setului de analize : 10 May 2022 18:45:00\n",
    "Inregistrat de : PAUL DANIEL TUDOR \n",
    "Nume si prenume : MILASAN DANUT \n",
    "Varsta : 45 , Sex : Masculin\n",
    "TEL : 456 45 789 2 \n",
    "E-mail : damut__d@hotmail.com \n",
    "C.N.P : 1761218264378 \n",
    "Cod pacient : 627480543615010\n",
    "Licență : K0004567S, \n",
    "Înmatriculare : BD32904, \n",
    "Cont : SEWS324095192710408,\n",
    " \n",
    "LA ORA : 10/12/2021 14:54_ \n",
    "VALIDAT DE :Dr. IOANA GHIBAN ; \n",
    "INVESTIGATII : CT TORACICÃ NATIVÃ''',\n",
    "\n",
    "'''Medic : Dr. Agota EVELYN, \n",
    "C.N.P : 2450502264401, Data setului de analize: 25 May 2022 \n",
    "Varsta : 77,... \n",
    "Medic : Dr. Agota EVELYN, \n",
    "C.N.P : 2450502264401, Data setului de analize: 25 May 2022 \n",
    "Varsta : 77, Nume si Prenume : BUREAN MARIA \n",
    "Tel: +40(235)413773, \n",
    "E-mail : maria@gmail.com,\n",
    "Licență : B004256985M, \n",
    "Înmatriculare : CD205113, \n",
    "Cont : FXHZ7170951927104999, \n",
    "Spitalul Pentru Ochi, Drumul de Deal ,Nr. 972 Vaslui, 737405\n",
    "\n",
    "bolus 10 ml Iomeron 350 urmate de 30 ml flush salin cu 5 ml/s .\n",
    "Se continua cu 65 ml contrast si 30 ml flush salin , cu acelasi flux .\n",
    "Se efectueaza o examinare angio-CT coronariana cu achizitii spirale cu reconstructii retrospective la o frecventa cardiaca medie de 60/min .\n",
    "Opacifiere buna a patului vascular si cavitatilor cardiace .\n",
    "Fara incidente sau accidente pe parcursul examinarii .\n",
    "\n",
    "CONCLUZII : - Stare dupa stentare ramus intermedius si artera coronara dreapta .\n",
    "Aspect corespunzator al stenturilor , cu minima stenoza la nivelul ACD si cu flux distal corespunzator.'''\n",
    "\n",
    "]\n",
    "\n",
    "\n",
    "sample_text = \"\"\"TOMOGRAFIA COMPUTERIZATA A CREIERULUI INVESTIGATII REZULTAT DLP \n",
    "Medic Laborator : BURIAN MONICA\n",
    "PRO... \n",
    "TOMOGRAFIA COMPUTERIZATA A CREIERULUI INVESTIGATII REZULTAT DLP \n",
    "Medic Laborator : BURIAN MONICA\n",
    "PROTOCOL DE EXPLORARE PRIN COMPUTER TOMOGRAFIE DATA : 11 FEBRUARIE 2022 \n",
    "Nume si prenume : RUS OLIMPIU DUMITRU , 49 ani, Sex : M, TEL : +40 67 5745, E-mail : olimpiu_d@gmail.com\n",
    "CNP : 1730104060763, Licență : E000198985A, Înmatriculare : CD32156, Cont : LZWZ7170951927104999,\n",
    " \n",
    "Solicitare : Angio CT coronarian , kg : 100 Dg . de trimitere Stare post-AVCI . Stare post-trombectomie . Proces inlocuitor de spatiu ventricular stang\n",
    "Trimis de : Sectia Clinica Neurologie 1a SCJU Tirgu Mures\n",
    "Medic : Dr.Melanie Dana\n",
    "CONCLUZII : - Tromb ventricular stang de 20/40/17 mm , - Leziuni sechelar ischemice in segmentele apicale septal si inferior , cu aspect anevrismal apical VS - Leziune non-ischemica/MINOCA ?\n",
    "48\tmediocardiaca septala - Examenul AngioCT coronarian nu pune in evidenta ateromatoza sau stenoze coronariene semnificative.\"\"\""
   ]
  },
  {
   "cell_type": "markdown",
   "metadata": {},
   "source": [
    "### JSON"
   ]
  },
  {
   "cell_type": "markdown",
   "metadata": {},
   "source": [
    "#### Example 1: masked (default-policy)"
   ]
  },
  {
   "cell_type": "code",
   "execution_count": 9,
   "metadata": {
    "tags": []
   },
   "outputs": [
    {
     "name": "stdout",
     "output_type": "stream",
     "text": [
      "TOMOGRAFIA COMPUTERIZATA A CREIERULUI INVESTIGATII REZULTAT DLP \n",
      "Medic Laborator : <DOCTOR>\n",
      "PRO... \n",
      "TOMOGRAFIA COMPUTERIZATA A CREIERULUI INVESTIGATII REZULTAT DLP \n",
      "Medic Laborator : <DOCTOR>\n",
      "PROTOCOL DE EXPLORARE PRIN COMPUTER TOMOGRAFIE DATA : <DATE> \n",
      "Nume si prenume : <PATIENT> , <AGE> ani, Sex : M, TEL : <PHONE>, E-mail : <EMAIL>\n",
      "CNP : <LICENSE>, Licență : <LICENSE>, Înmatriculare : <PLATE>, Cont : <ACCOUNT>,\n",
      " \n",
      "Solicitare : Angio CT coronarian , kg : 100 Dg . de trimitere Stare post-AVCI . Stare post-trombectomie . Proces inlocuitor de spatiu ventricular stang\n",
      "Trimis de : Sectia Clinica Neurologie 1a <HOSPITAL>\n",
      "Medic : <DOCTOR>\n",
      "CONCLUZII : - Tromb ventricular stang de 20/40/17 mm , - Leziuni sechelar ischemice in segmentele apicale septal si inferior , cu aspect anevrismal apical VS - Leziune non-ischemica/MINOCA ?\n",
      "48\tmediocardiaca septala - Examenul AngioCT coronarian nu pune in evidenta ateromatoza sau stenoze coronariene semnificative.\n"
     ]
    }
   ],
   "source": [
    "input_json_data = {\"text\": sample_text}\n",
    "response_json = invoke_realtime_endpoint(input_json_data, content_type=\"application/json\", accept=\"application/json\")\n",
    "print(response_json[\"predictions\"][0])"
   ]
  },
  {
   "cell_type": "markdown",
   "metadata": {},
   "source": [
    "#### Example 2: obfuscated"
   ]
  },
  {
   "cell_type": "code",
   "execution_count": 11,
   "metadata": {
    "tags": []
   },
   "outputs": [
    {
     "name": "stdout",
     "output_type": "stream",
     "text": [
      "TOMOGRAFIA COMPUTERIZATA A CREIERULUI INVESTIGATII REZULTAT DLP \n",
      "Medic Laborator : DOINA GHEORGHIU\n",
      "PRO... \n",
      "TOMOGRAFIA COMPUTERIZATA A CREIERULUI INVESTIGATII REZULTAT DLP \n",
      "Medic Laborator : DOINA GHEORGHIU\n",
      "PROTOCOL DE EXPLORARE PRIN COMPUTER TOMOGRAFIE DATA : 11 FEBRUARIE 2022 \n",
      "Nume si prenume : DINUT LILIANA DANIELA , 58 ani, Sex : M, TEL : +57 96 2652, E-mail : lstancu@zzup.ro\n",
      "CNP : 4687475797698, Licență : R777403032X, Înmatriculare : HM81429, Cont : SEAE8282288015490352,\n",
      " \n",
      "Solicitare : Angio CT coronarian , kg : 100 Dg . de trimitere Stare post-AVCI . Stare post-trombectomie . Proces inlocuitor de spatiu ventricular stang\n",
      "Trimis de : Sectia Clinica Neurologie 1a Institutul Clinic de Urologie si Transplant Renal\n",
      "Medic : Agata Voinea\n",
      "CONCLUZII : - Tromb ventricular stang de 20/40/17 mm , - Leziuni sechelar ischemice in segmentele apicale septal si inferior , cu aspect anevrismal apical VS - Leziune non-ischemica/MINOCA ?\n",
      "48\tmediocardiaca septala - Examenul AngioCT coronarian nu pune in evidenta ateromatoza sau stenoze coronariene semnificative.\n"
     ]
    }
   ],
   "source": [
    "input_json_data = {\"text\": sample_text, \"masking_policy\": \"obfuscated\"}\n",
    "response_json = invoke_realtime_endpoint(input_json_data, content_type=\"application/json\", accept=\"application/json\")\n",
    "print(response_json[\"predictions\"][0])"
   ]
  },
  {
   "cell_type": "markdown",
   "metadata": {},
   "source": [
    "### JSON Lines"
   ]
  },
  {
   "cell_type": "code",
   "execution_count": 13,
   "metadata": {
    "tags": []
   },
   "outputs": [],
   "source": [
    "def create_jsonl(records, masking_policy=None):\n",
    "    json_records = []\n",
    "\n",
    "    if isinstance(records, str):\n",
    "        records = [records]\n",
    "\n",
    "    for text in records:\n",
    "        record = {\"text\": text}\n",
    "\n",
    "        if masking_policy is not None:\n",
    "            record[\"masking_policy\"] = masking_policy\n",
    "        json_records.append(record)\n",
    "\n",
    "    json_lines = '\\n'.join(json.dumps(record, ensure_ascii=False) for record in json_records)\n",
    "    return json_lines\n"
   ]
  },
  {
   "cell_type": "markdown",
   "metadata": {},
   "source": [
    "#### Example 1: masked (default-policy)"
   ]
  },
  {
   "cell_type": "code",
   "execution_count": 14,
   "metadata": {
    "tags": []
   },
   "outputs": [
    {
     "name": "stdout",
     "output_type": "stream",
     "text": [
      "{\"predictions\": \"TOMOGRAFIA COMPUTERIZATA A CREIERULUI INVESTIGATII REZULTAT DLP \\nMedic Laborator : <DOCTOR>\\nPRO... \\nTOMOGRAFIA COMPUTERIZATA A CREIERULUI INVESTIGATII REZULTAT DLP \\nMedic Laborator : <DOCTOR>\\nPROTOCOL DE EXPLORARE PRIN COMPUTER TOMOGRAFIE DATA : <DATE> \\nNume si prenume : <PATIENT> , <AGE> ani, Sex : M, TEL : <PHONE>, E-mail : <EMAIL>\\nCNP : <LICENSE>, Licență : <LICENSE>, Înmatriculare : <PLATE>, Cont : <ACCOUNT>,\\n \\nSolicitare : Angio CT coronarian , kg : 100 Dg . de trimitere Stare post-AVCI . Stare post-trombectomie . Proces inlocuitor de spatiu ventricular stang\\nTrimis de : Sectia Clinica Neurologie 1a <HOSPITAL>\\nMedic : <DOCTOR>\\nCONCLUZII : - Tromb ventricular stang de 20/40/17 mm , - Leziuni sechelar ischemice in segmentele apicale septal si inferior , cu aspect anevrismal apical VS - Leziune non-ischemica/MINOCA ?\\n48\\tmediocardiaca septala - Examenul AngioCT coronarian nu pune in evidenta ateromatoza sau stenoze coronariene semnificative.\"}\n"
     ]
    }
   ],
   "source": [
    "input_jsonl_data = create_jsonl(sample_text, masking_policy=\"masked\")\n",
    "data = invoke_realtime_endpoint(input_jsonl_data, content_type=\"application/jsonlines\" , accept=\"application/jsonlines\" )\n",
    "print(data)"
   ]
  },
  {
   "cell_type": "markdown",
   "metadata": {},
   "source": [
    "#### Example 2: obfuscated"
   ]
  },
  {
   "cell_type": "code",
   "execution_count": 16,
   "metadata": {
    "tags": []
   },
   "outputs": [
    {
     "name": "stdout",
     "output_type": "stream",
     "text": [
      "{\"predictions\": \"TOMOGRAFIA COMPUTERIZATA A CREIERULUI INVESTIGATII REZULTAT DLP \\nMedic Laborator : DOINA GHEORGHIU\\nPRO... \\nTOMOGRAFIA COMPUTERIZATA A CREIERULUI INVESTIGATII REZULTAT DLP \\nMedic Laborator : DOINA GHEORGHIU\\nPROTOCOL DE EXPLORARE PRIN COMPUTER TOMOGRAFIE DATA : 11 FEBRUARIE 2022 \\nNume si prenume : DINUT LILIANA DANIELA , 58 ani, Sex : M, TEL : +57 96 2652, E-mail : lstancu@zzup.ro\\nCNP : 4687475797698, Licență : R777403032X, Înmatriculare : HM81429, Cont : SEAE8282288015490352,\\n \\nSolicitare : Angio CT coronarian , kg : 100 Dg . de trimitere Stare post-AVCI . Stare post-trombectomie . Proces inlocuitor de spatiu ventricular stang\\nTrimis de : Sectia Clinica Neurologie 1a Institutul Clinic de Urologie si Transplant Renal\\nMedic : Agata Voinea\\nCONCLUZII : - Tromb ventricular stang de 20/40/17 mm , - Leziuni sechelar ischemice in segmentele apicale septal si inferior , cu aspect anevrismal apical VS - Leziune non-ischemica/MINOCA ?\\n48\\tmediocardiaca septala - Examenul AngioCT coronarian nu pune in evidenta ateromatoza sau stenoze coronariene semnificative.\"}\n"
     ]
    }
   ],
   "source": [
    "input_jsonl_data = create_jsonl(sample_text, masking_policy=\"obfuscated\")\n",
    "data = invoke_realtime_endpoint(input_jsonl_data, content_type=\"application/jsonlines\" , accept=\"application/jsonlines\" )\n",
    "print(data)"
   ]
  },
  {
   "cell_type": "markdown",
   "metadata": {},
   "source": [
    "### B. Delete the endpoint"
   ]
  },
  {
   "cell_type": "markdown",
   "metadata": {},
   "source": [
    "Now that you have successfully performed a real-time inference, you do not need the endpoint any more. You can terminate the endpoint to avoid being charged."
   ]
  },
  {
   "cell_type": "code",
   "execution_count": null,
   "metadata": {
    "tags": []
   },
   "outputs": [],
   "source": [
    "model.sagemaker_session.delete_endpoint(model_name)\n",
    "model.sagemaker_session.delete_endpoint_config(model_name)"
   ]
  },
  {
   "cell_type": "markdown",
   "metadata": {
    "tags": []
   },
   "source": [
    "## 4. Batch inference"
   ]
  },
  {
   "cell_type": "code",
   "execution_count": 19,
   "metadata": {
    "tags": []
   },
   "outputs": [],
   "source": [
    "validation_input_json_path = f\"s3://{s3_bucket}/{model_name}/validation-input/json/\"\n",
    "validation_output_json_path = f\"s3://{s3_bucket}/{model_name}/validation-output/json/\"\n",
    "\n",
    "validation_input_jsonl_path = f\"s3://{s3_bucket}/{model_name}/validation-input/jsonl/\"\n",
    "validation_output_jsonl_path = f\"s3://{s3_bucket}/{model_name}/validation-output/jsonl/\"\n",
    "\n",
    "def upload_to_s3(input_data, file_name):\n",
    "    file_format = os.path.splitext(file_name)[1].lower()\n",
    "    s3_client.put_object(\n",
    "        Bucket=s3_bucket,\n",
    "        Key=f\"{model_name}/validation-input/{file_format[1:]}/{file_name}\",\n",
    "        Body=input_data.encode(\"UTF-8\"),\n",
    "    )"
   ]
  },
  {
   "cell_type": "code",
   "execution_count": 20,
   "metadata": {
    "tags": []
   },
   "outputs": [],
   "source": [
    "# Create JSON and JSON Lines data\n",
    "input_json_data = {\n",
    "    \"input1.json\": json.dumps({\"text\": docs, \"masking_policy\": \"masked\"}, ensure_ascii=False),\n",
    "    \"input2.json\": json.dumps({\"text\": docs, \"masking_policy\": \"obfuscated\"}, ensure_ascii=False),\n",
    "    \"input3.json\": json.dumps({\"text\": docs, \"masking_policy\": \"masked_fixed_length_chars\"}, ensure_ascii=False),\n",
    "    \"input4.json\": json.dumps({\"text\": docs, \"masking_policy\": \"masked_with_chars\"}, ensure_ascii=False),\n",
    "}\n",
    "\n",
    "input_jsonl_data = {\n",
    "    \"input1.jsonl\": create_jsonl(docs, masking_policy=\"masked\"),\n",
    "    \"input2.jsonl\": create_jsonl(docs, masking_policy=\"obfuscated\"),\n",
    "    \"input3.jsonl\": create_jsonl(docs, masking_policy=\"masked_fixed_length_chars\"),\n",
    "    \"input4.jsonl\": create_jsonl(docs, masking_policy=\"masked_with_chars\")\n",
    "}\n",
    "\n",
    "# Upload JSON and JSON Lines data to S3\n",
    "for file_name, data in input_json_data.items():\n",
    "    upload_to_s3(data, file_name)\n",
    "\n",
    "for file_name, data in input_jsonl_data.items():\n",
    "    upload_to_s3(data, file_name)\n"
   ]
  },
  {
   "cell_type": "markdown",
   "metadata": {
    "tags": []
   },
   "source": [
    "### JSON"
   ]
  },
  {
   "cell_type": "code",
   "execution_count": null,
   "metadata": {
    "tags": []
   },
   "outputs": [],
   "source": [
    "transformer = model.transformer(\n",
    "    instance_count=1,\n",
    "    instance_type=batch_transform_inference_instance_type,\n",
    "    accept=\"application/json\",\n",
    "    output_path=validation_output_json_path\n",
    ")\n",
    "\n",
    "transformer.transform(validation_input_json_path, content_type=\"application/json\")\n",
    "transformer.wait()"
   ]
  },
  {
   "cell_type": "code",
   "execution_count": 22,
   "metadata": {
    "tags": []
   },
   "outputs": [],
   "source": [
    "def retrieve_json_output_from_s3(validation_file_name):\n",
    "    parsed_url = urlparse(transformer.output_path)\n",
    "    file_key = f\"{parsed_url.path[1:]}{validation_file_name}.out\"\n",
    "    response = s3_client.get_object(Bucket=s3_bucket, Key=file_key)\n",
    "\n",
    "    data = json.loads(response[\"Body\"].read().decode(\"utf-8\"))\n",
    "    display(data)"
   ]
  },
  {
   "cell_type": "code",
   "execution_count": 23,
   "metadata": {
    "tags": []
   },
   "outputs": [
    {
     "name": "stdout",
     "output_type": "stream",
     "text": [
      "-------------------------------------------------- masked --------------------------------------------------\n"
     ]
    },
    {
     "data": {
      "text/plain": [
       "{'predictions': ['LABORATOR RADIOLOGIE, <STREET>, <CITY>, <ZIP> , TEL : <PHONE> , E-MAIL: <EMAIL>\\nData... \\nLABORATOR RADIOLOGIE, <STREET>, <CITY>, <ZIP> , TEL : <PHONE> , E-MAIL: <EMAIL>\\nData setului de analize : <DATE> 18:45:00\\nInregistrat de : <DOCTOR> <DOCTOR> \\nNume si prenume : <PATIENT> \\nVarsta : <AGE> , Sex : Masculin\\nTEL : <PHONE> \\nE-mail : <EMAIL> \\nC.N.P : <IDNUM> \\nCod pacient : <IDNUM>\\nLicență : <LICENSE>, \\nÎnmatriculare : <PLATE>, \\nCont : <ACCOUNT>,\\n \\nLA ORA : <DATE> 14:54_ \\nVALIDAT DE :Dr. <DOCTOR> ; \\nINVESTIGATII : CT TORACICÃ NATIVÃ',\n",
       "  'Medic : Dr. <DOCTOR>, \\nC.N.P : <IDNUM>, Data setului de analize: <DATE> \\nVarsta : <AGE><PATIENT> \\nMedic : Dr. <DOCTOR>, \\nC.N.P : <IDNUM>, Data setului de analize: <DATE> \\nVarsta : <AGE>, Nume si Prenume : <PATIENT> \\nTel: <PHONE>, \\nE-mail : <EMAIL>,\\nLicență : <LICENSE>, \\nÎnmatriculare : <PLATE>, \\nCont : <ACCOUNT>, \\n<HOSPITAL> ,<STREET> <CITY>, <ZIP>\\n\\nbolus 10 ml Iomeron 350 urmate de 30 ml flush salin cu 5 ml/s .\\nSe continua cu 65 ml contrast si 30 ml flush salin , cu acelasi flux .\\nSe efectueaza o examinare angio-CT coronariana cu achizitii spirale cu reconstructii retrospective la o frecventa cardiaca medie de 60/min .\\nOpacifiere buna a patului vascular si cavitatilor cardiace .\\nFara incidente sau accidente pe parcursul examinarii .\\n\\nCONCLUZII : - Stare dupa stentare ramus intermedius si artera coronara dreapta .\\nAspect corespunzator al stenturilor , cu minima stenoza la nivelul ACD si cu flux distal corespunzator.']}"
      ]
     },
     "metadata": {},
     "output_type": "display_data"
    },
    {
     "name": "stdout",
     "output_type": "stream",
     "text": [
      "\n",
      "\n",
      "-------------------------------------------------- obfuscated --------------------------------------------------\n"
     ]
    },
    {
     "data": {
      "text/plain": [
       "{'predictions': ['LABORATOR RADIOLOGIE, Drumul Tudor, Titu, 825268 , TEL : 7192-147447 , E-MAIL: jeneltudor@email.ro\\nData... \\nLABORATOR RADIOLOGIE, Drumul Tudor, Titu, 825268 , TEL : 7192-147447 , E-MAIL: jeneltudor@email.ro\\nData setului de analize : 10 May 2022 18:45:00\\nInregistrat de : EFTIMIE, SINICĂ DOINA GHEORGHIU \\nNume si prenume : DOBRIN FIGAN \\nVarsta : 42 , Sex : Masculin\\nTEL : 529 52 630 1 \\nE-mail : hcristea@141.ro \\nC.N.P : 4694143195863 \\nCod pacient : 916537258942747\\nLicență : V7775296J, \\nÎnmatriculare : CM81075, \\nCont : OATD2344587666964477,\\n \\nLA ORA : 10/12/2021 14:54_ \\nVALIDAT DE :Dr. IURIE CAIUS STOICA ; \\nINVESTIGATII : CT TORACICÃ NATIVÃ',\n",
       "  'Medic : Dr. R.T., \\nC.N.P : 1527271195574, Data setului de analize: 25 May 2022 \\nVarsta : 68DINUT LILIANA DANIELA \\nMedic : Dr. R.T., \\nC.N.P : 1527271195574, Data setului de analize: 25 May 2022 \\nVarsta : 68, Nume si Prenume : DRAGAN MIHAI \\nTel: +57(182)548668, \\nE-mail : jeneltudor@email.ro,\\nLicență : C775129032F, \\nÎnmatriculare : HM172448, \\nCont : KHHO5029180812813651, \\nInstitutul Clinic de Urologie si Transplant Renal ,Intrarea Diaconescu Aiud, 686572\\n\\nbolus 10 ml Iomeron 350 urmate de 30 ml flush salin cu 5 ml/s .\\nSe continua cu 65 ml contrast si 30 ml flush salin , cu acelasi flux .\\nSe efectueaza o examinare angio-CT coronariana cu achizitii spirale cu reconstructii retrospective la o frecventa cardiaca medie de 60/min .\\nOpacifiere buna a patului vascular si cavitatilor cardiace .\\nFara incidente sau accidente pe parcursul examinarii .\\n\\nCONCLUZII : - Stare dupa stentare ramus intermedius si artera coronara dreapta .\\nAspect corespunzator al stenturilor , cu minima stenoza la nivelul ACD si cu flux distal corespunzator.']}"
      ]
     },
     "metadata": {},
     "output_type": "display_data"
    },
    {
     "name": "stdout",
     "output_type": "stream",
     "text": [
      "\n",
      "\n",
      "-------------------------------------------------- masked_fixed_length_chars --------------------------------------------------\n"
     ]
    },
    {
     "data": {
      "text/plain": [
       "{'predictions': ['LABORATOR RADIOLOGIE, ****, ****, **** , TEL : **** , E-MAIL: ****\\nData... \\nLABORATOR RADIOLOGIE, ****, ****, **** , TEL : **** , E-MAIL: ****\\nData setului de analize : **** 18:45:00\\nInregistrat de : **** **** \\nNume si prenume : **** \\nVarsta : **** , Sex : Masculin\\nTEL : **** \\nE-mail : **** \\nC.N.P : **** \\nCod pacient : ****\\nLicență : ****, \\nÎnmatriculare : ****, \\nCont : ****,\\n \\nLA ORA : **** 14:54_ \\nVALIDAT DE :Dr. **** ; \\nINVESTIGATII : CT TORACICÃ NATIVÃ',\n",
       "  'Medic : Dr. ****, \\nC.N.P : ****, Data setului de analize: **** \\nVarsta : ******** \\nMedic : Dr. ****, \\nC.N.P : ****, Data setului de analize: **** \\nVarsta : ****, Nume si Prenume : **** \\nTel: ****, \\nE-mail : ****,\\nLicență : ****, \\nÎnmatriculare : ****, \\nCont : ****, \\n**** ,**** ****, ****\\n\\nbolus 10 ml Iomeron 350 urmate de 30 ml flush salin cu 5 ml/s .\\nSe continua cu 65 ml contrast si 30 ml flush salin , cu acelasi flux .\\nSe efectueaza o examinare angio-CT coronariana cu achizitii spirale cu reconstructii retrospective la o frecventa cardiaca medie de 60/min .\\nOpacifiere buna a patului vascular si cavitatilor cardiace .\\nFara incidente sau accidente pe parcursul examinarii .\\n\\nCONCLUZII : - Stare dupa stentare ramus intermedius si artera coronara dreapta .\\nAspect corespunzator al stenturilor , cu minima stenoza la nivelul ACD si cu flux distal corespunzator.']}"
      ]
     },
     "metadata": {},
     "output_type": "display_data"
    },
    {
     "name": "stdout",
     "output_type": "stream",
     "text": [
      "\n",
      "\n",
      "-------------------------------------------------- masked_with_chars --------------------------------------------------\n"
     ]
    },
    {
     "data": {
      "text/plain": [
       "{'predictions': ['LABORATOR RADIOLOGIE, [***********], [*****], [****] , TEL : [*********] , E-MAIL: [**********]\\nData... \\nLABORATOR RADIOLOGIE, [***********], [*****], [****] , TEL : [*********] , E-MAIL: [**********]\\nData setului de analize : [*********] 18:45:00\\nInregistrat de : [*********] [***] \\nNume si prenume : [***********] \\nVarsta : ** , Sex : Masculin\\nTEL : [**********] \\nE-mail : [******************] \\nC.N.P : [***********] \\nCod pacient : [*************]\\nLicență : [*******], \\nÎnmatriculare : [*****], \\nCont : [*****************],\\n \\nLA ORA : [********] 14:54_ \\nVALIDAT DE :Dr. [**********] ; \\nINVESTIGATII : CT TORACICÃ NATIVÃ',\n",
       "  'Medic : Dr. [**********], \\nC.N.P : [***********], Data setului de analize: [*********] \\nVarsta : **[**] \\nMedic : Dr. [**********], \\nC.N.P : [***********], Data setului de analize: [*********] \\nVarsta : **, Nume si Prenume : [**********] \\nTel: [************], \\nE-mail : [*************],\\nLicență : [*********], \\nÎnmatriculare : [******], \\nCont : [******************], \\n[**********************************] ,[*****] [****], [****]\\n\\nbolus 10 ml Iomeron 350 urmate de 30 ml flush salin cu 5 ml/s .\\nSe continua cu 65 ml contrast si 30 ml flush salin , cu acelasi flux .\\nSe efectueaza o examinare angio-CT coronariana cu achizitii spirale cu reconstructii retrospective la o frecventa cardiaca medie de 60/min .\\nOpacifiere buna a patului vascular si cavitatilor cardiace .\\nFara incidente sau accidente pe parcursul examinarii .\\n\\nCONCLUZII : - Stare dupa stentare ramus intermedius si artera coronara dreapta .\\nAspect corespunzator al stenturilor , cu minima stenoza la nivelul ACD si cu flux distal corespunzator.']}"
      ]
     },
     "metadata": {},
     "output_type": "display_data"
    },
    {
     "name": "stdout",
     "output_type": "stream",
     "text": [
      "\n",
      "\n"
     ]
    }
   ],
   "source": [
    "masking_policies = {\n",
    "    \"masked\": \"input1.json\",\n",
    "    \"obfuscated\": \"input2.json\",\n",
    "    \"masked_fixed_length_chars\": \"input3.json\",\n",
    "    \"masked_with_chars\": \"input4.json\",\n",
    "}\n",
    "\n",
    "for policy_name, validation_file_name in masking_policies.items():\n",
    "    print(\"-\"*50, policy_name ,\"-\"*50)\n",
    "    retrieve_json_output_from_s3(validation_file_name)\n",
    "    print(\"\\n\")"
   ]
  },
  {
   "cell_type": "markdown",
   "metadata": {},
   "source": [
    "### JSON Lines"
   ]
  },
  {
   "cell_type": "code",
   "execution_count": null,
   "metadata": {
    "tags": []
   },
   "outputs": [],
   "source": [
    "transformer = model.transformer(\n",
    "    instance_count=1,\n",
    "    instance_type=batch_transform_inference_instance_type,\n",
    "    accept=\"application/jsonlines\",\n",
    "    output_path=validation_output_jsonl_path\n",
    ")\n",
    "transformer.transform(validation_input_jsonl_path, content_type=\"application/jsonlines\")\n",
    "transformer.wait()"
   ]
  },
  {
   "cell_type": "code",
   "execution_count": 25,
   "metadata": {
    "tags": []
   },
   "outputs": [],
   "source": [
    "def retrieve_jsonlines_output_from_s3(validation_file_name):\n",
    "\n",
    "    parsed_url = urlparse(transformer.output_path)\n",
    "    file_key = f\"{parsed_url.path[1:]}{validation_file_name}.out\"\n",
    "    response = s3_client.get_object(Bucket=s3_bucket, Key=file_key)\n",
    "\n",
    "    data = response[\"Body\"].read().decode(\"utf-8\")\n",
    "    print(data)"
   ]
  },
  {
   "cell_type": "code",
   "execution_count": 26,
   "metadata": {
    "tags": []
   },
   "outputs": [
    {
     "name": "stdout",
     "output_type": "stream",
     "text": [
      "-------------------------------------------------- masked --------------------------------------------------\n",
      "{\"predictions\": \"LABORATOR RADIOLOGIE, <STREET>, <CITY>, <ZIP> , TEL : <PHONE> , E-MAIL: <EMAIL>\\nData... \\nLABORATOR RADIOLOGIE, <STREET>, <CITY>, <ZIP> , TEL : <PHONE> , E-MAIL: <EMAIL>\\nData setului de analize : <DATE> 18:45:00\\nInregistrat de : <DOCTOR> <DOCTOR> \\nNume si prenume : <PATIENT> \\nVarsta : <AGE> , Sex : Masculin\\nTEL : <PHONE> \\nE-mail : <EMAIL> \\nC.N.P : <IDNUM> \\nCod pacient : <IDNUM>\\nLicență : <LICENSE>, \\nÎnmatriculare : <PLATE>, \\nCont : <ACCOUNT>,\\n \\nLA ORA : <DATE> 14:54_ \\nVALIDAT DE :Dr. <DOCTOR> ; \\nINVESTIGATII : CT TORACICÃ NATIVÃ\"}\n",
      "{\"predictions\": \"Medic : Dr. <DOCTOR>, \\nC.N.P : <IDNUM>, Data setului de analize: <DATE> \\nVarsta : <AGE><PATIENT> \\nMedic : Dr. <DOCTOR>, \\nC.N.P : <IDNUM>, Data setului de analize: <DATE> \\nVarsta : <AGE>, Nume si Prenume : <PATIENT> \\nTel: <PHONE>, \\nE-mail : <EMAIL>,\\nLicență : <LICENSE>, \\nÎnmatriculare : <PLATE>, \\nCont : <ACCOUNT>, \\n<HOSPITAL> ,<STREET> <CITY>, <ZIP>\\n\\nbolus 10 ml Iomeron 350 urmate de 30 ml flush salin cu 5 ml/s .\\nSe continua cu 65 ml contrast si 30 ml flush salin , cu acelasi flux .\\nSe efectueaza o examinare angio-CT coronariana cu achizitii spirale cu reconstructii retrospective la o frecventa cardiaca medie de 60/min .\\nOpacifiere buna a patului vascular si cavitatilor cardiace .\\nFara incidente sau accidente pe parcursul examinarii .\\n\\nCONCLUZII : - Stare dupa stentare ramus intermedius si artera coronara dreapta .\\nAspect corespunzator al stenturilor , cu minima stenoza la nivelul ACD si cu flux distal corespunzator.\"}\n",
      "\n",
      "\n",
      "-------------------------------------------------- obfuscated --------------------------------------------------\n",
      "{\"predictions\": \"LABORATOR RADIOLOGIE, Drumul Tudor, Titu, 825268 , TEL : 7192-147447 , E-MAIL: jeneltudor@email.ro\\nData... \\nLABORATOR RADIOLOGIE, Drumul Tudor, Titu, 825268 , TEL : 7192-147447 , E-MAIL: jeneltudor@email.ro\\nData setului de analize : 10 May 2022 18:45:00\\nInregistrat de : EFTIMIE, SINICĂ DOINA GHEORGHIU \\nNume si prenume : DOBRIN FIGAN \\nVarsta : 42 , Sex : Masculin\\nTEL : 529 52 630 1 \\nE-mail : hcristea@141.ro \\nC.N.P : 4694143195863 \\nCod pacient : 916537258942747\\nLicență : V7775296J, \\nÎnmatriculare : CM81075, \\nCont : OATD2344587666964477,\\n \\nLA ORA : 10/12/2021 14:54_ \\nVALIDAT DE :Dr. IURIE CAIUS STOICA ; \\nINVESTIGATII : CT TORACICÃ NATIVÃ\"}\n",
      "{\"predictions\": \"Medic : Dr. R.T., \\nC.N.P : 1527271195574, Data setului de analize: 25 May 2022 \\nVarsta : 68DINUT LILIANA DANIELA \\nMedic : Dr. R.T., \\nC.N.P : 1527271195574, Data setului de analize: 25 May 2022 \\nVarsta : 68, Nume si Prenume : DRAGAN MIHAI \\nTel: +57(182)548668, \\nE-mail : jeneltudor@email.ro,\\nLicență : C775129032F, \\nÎnmatriculare : HM172448, \\nCont : KHHO5029180812813651, \\nInstitutul Clinic de Urologie si Transplant Renal ,Intrarea Diaconescu Aiud, 686572\\n\\nbolus 10 ml Iomeron 350 urmate de 30 ml flush salin cu 5 ml/s .\\nSe continua cu 65 ml contrast si 30 ml flush salin , cu acelasi flux .\\nSe efectueaza o examinare angio-CT coronariana cu achizitii spirale cu reconstructii retrospective la o frecventa cardiaca medie de 60/min .\\nOpacifiere buna a patului vascular si cavitatilor cardiace .\\nFara incidente sau accidente pe parcursul examinarii .\\n\\nCONCLUZII : - Stare dupa stentare ramus intermedius si artera coronara dreapta .\\nAspect corespunzator al stenturilor , cu minima stenoza la nivelul ACD si cu flux distal corespunzator.\"}\n",
      "\n",
      "\n",
      "-------------------------------------------------- masked_fixed_length_chars --------------------------------------------------\n",
      "{\"predictions\": \"LABORATOR RADIOLOGIE, ****, ****, **** , TEL : **** , E-MAIL: ****\\nData... \\nLABORATOR RADIOLOGIE, ****, ****, **** , TEL : **** , E-MAIL: ****\\nData setului de analize : **** 18:45:00\\nInregistrat de : **** **** \\nNume si prenume : **** \\nVarsta : **** , Sex : Masculin\\nTEL : **** \\nE-mail : **** \\nC.N.P : **** \\nCod pacient : ****\\nLicență : ****, \\nÎnmatriculare : ****, \\nCont : ****,\\n \\nLA ORA : **** 14:54_ \\nVALIDAT DE :Dr. **** ; \\nINVESTIGATII : CT TORACICÃ NATIVÃ\"}\n",
      "{\"predictions\": \"Medic : Dr. ****, \\nC.N.P : ****, Data setului de analize: **** \\nVarsta : ******** \\nMedic : Dr. ****, \\nC.N.P : ****, Data setului de analize: **** \\nVarsta : ****, Nume si Prenume : **** \\nTel: ****, \\nE-mail : ****,\\nLicență : ****, \\nÎnmatriculare : ****, \\nCont : ****, \\n**** ,**** ****, ****\\n\\nbolus 10 ml Iomeron 350 urmate de 30 ml flush salin cu 5 ml/s .\\nSe continua cu 65 ml contrast si 30 ml flush salin , cu acelasi flux .\\nSe efectueaza o examinare angio-CT coronariana cu achizitii spirale cu reconstructii retrospective la o frecventa cardiaca medie de 60/min .\\nOpacifiere buna a patului vascular si cavitatilor cardiace .\\nFara incidente sau accidente pe parcursul examinarii .\\n\\nCONCLUZII : - Stare dupa stentare ramus intermedius si artera coronara dreapta .\\nAspect corespunzator al stenturilor , cu minima stenoza la nivelul ACD si cu flux distal corespunzator.\"}\n",
      "\n",
      "\n",
      "-------------------------------------------------- masked_with_chars --------------------------------------------------\n",
      "{\"predictions\": \"LABORATOR RADIOLOGIE, [***********], [*****], [****] , TEL : [*********] , E-MAIL: [**********]\\nData... \\nLABORATOR RADIOLOGIE, [***********], [*****], [****] , TEL : [*********] , E-MAIL: [**********]\\nData setului de analize : [*********] 18:45:00\\nInregistrat de : [*********] [***] \\nNume si prenume : [***********] \\nVarsta : ** , Sex : Masculin\\nTEL : [**********] \\nE-mail : [******************] \\nC.N.P : [***********] \\nCod pacient : [*************]\\nLicență : [*******], \\nÎnmatriculare : [*****], \\nCont : [*****************],\\n \\nLA ORA : [********] 14:54_ \\nVALIDAT DE :Dr. [**********] ; \\nINVESTIGATII : CT TORACICÃ NATIVÃ\"}\n",
      "{\"predictions\": \"Medic : Dr. [**********], \\nC.N.P : [***********], Data setului de analize: [*********] \\nVarsta : **[**] \\nMedic : Dr. [**********], \\nC.N.P : [***********], Data setului de analize: [*********] \\nVarsta : **, Nume si Prenume : [**********] \\nTel: [************], \\nE-mail : [*************],\\nLicență : [*********], \\nÎnmatriculare : [******], \\nCont : [******************], \\n[**********************************] ,[*****] [****], [****]\\n\\nbolus 10 ml Iomeron 350 urmate de 30 ml flush salin cu 5 ml/s .\\nSe continua cu 65 ml contrast si 30 ml flush salin , cu acelasi flux .\\nSe efectueaza o examinare angio-CT coronariana cu achizitii spirale cu reconstructii retrospective la o frecventa cardiaca medie de 60/min .\\nOpacifiere buna a patului vascular si cavitatilor cardiace .\\nFara incidente sau accidente pe parcursul examinarii .\\n\\nCONCLUZII : - Stare dupa stentare ramus intermedius si artera coronara dreapta .\\nAspect corespunzator al stenturilor , cu minima stenoza la nivelul ACD si cu flux distal corespunzator.\"}\n",
      "\n",
      "\n"
     ]
    }
   ],
   "source": [
    "masking_policies = {\n",
    "    \"masked\": \"input1.jsonl\",\n",
    "    \"obfuscated\": \"input2.jsonl\",\n",
    "    \"masked_fixed_length_chars\": \"input3.jsonl\",\n",
    "    \"masked_with_chars\": \"input4.jsonl\",\n",
    "}\n",
    "\n",
    "for policy_name, validation_file_name in masking_policies.items():\n",
    "    print(\"-\"*50, policy_name ,\"-\"*50)\n",
    "    retrieve_jsonlines_output_from_s3(validation_file_name)\n",
    "    print(\"\\n\")"
   ]
  },
  {
   "cell_type": "code",
   "execution_count": null,
   "metadata": {
    "tags": []
   },
   "outputs": [],
   "source": [
    "model.delete_model()"
   ]
  },
  {
   "cell_type": "markdown",
   "metadata": {},
   "source": [
    "### Unsubscribe to the listing (optional)"
   ]
  },
  {
   "cell_type": "markdown",
   "metadata": {
    "tags": []
   },
   "source": [
    "If you would like to unsubscribe to the model package, follow these steps. Before you cancel the subscription, ensure that you do not have any [deployable model](https://console.aws.amazon.com/sagemaker/home#/models) created from the model package or using the algorithm. Note - You can find this information by looking at the container name associated with the model. \n",
    "\n",
    "**Steps to unsubscribe to product from AWS Marketplace**:\n",
    "1. Navigate to __Machine Learning__ tab on [__Your Software subscriptions page__](https://aws.amazon.com/marketplace/ai/library?productType=ml&ref_=mlmp_gitdemo_indust)\n",
    "2. Locate the listing that you want to cancel the subscription for, and then choose __Cancel Subscription__  to cancel the subscription.\n",
    "\n"
   ]
  }
 ],
 "metadata": {
  "instance_type": "ml.t3.medium",
  "kernelspec": {
   "display_name": "conda_python3",
   "language": "python",
   "name": "conda_python3"
  },
  "language_info": {
   "codemirror_mode": {
    "name": "ipython",
    "version": 3
   },
   "file_extension": ".py",
   "mimetype": "text/x-python",
   "name": "python",
   "nbconvert_exporter": "python",
   "pygments_lexer": "ipython3",
   "version": "3.10.17"
  }
 },
 "nbformat": 4,
 "nbformat_minor": 4
}

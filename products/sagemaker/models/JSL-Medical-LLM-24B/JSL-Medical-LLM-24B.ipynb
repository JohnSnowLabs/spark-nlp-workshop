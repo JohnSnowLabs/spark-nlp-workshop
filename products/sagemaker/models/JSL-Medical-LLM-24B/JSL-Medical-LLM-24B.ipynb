{
 "cells": [
  {
   "cell_type": "markdown",
   "id": "82a4cf96-c239-49cc-88f9-a8e885bde191",
   "metadata": {},
   "source": [
    "## 1. Subscribe to the model package"
   ]
  },
  {
   "cell_type": "markdown",
   "id": "982d6ab4-d03d-4a5a-ab23-144d8e6ec3d6",
   "metadata": {},
   "source": [
    "To subscribe to the model package:\n",
    "1. Open the model package listing page [Medical LLM - 24B](https://aws.amazon.com/marketplace/pp/prodview-sagwxj5hcox4o)\n",
    "1. On the AWS Marketplace listing, click on the **Continue to subscribe** button.\n",
    "1. On the **Subscribe to this software** page, review and click on **\"Accept Offer\"** if you and your organization agrees with EULA, pricing, and support terms. \n",
    "1. Once you click on **Continue to configuration button** and then choose a **region**, you will see a **Product Arn** displayed. This is the model package ARN that you need to specify while creating a deployable model using Boto3. Copy the ARN corresponding to your region and specify the same in the following cell."
   ]
  },
  {
   "cell_type": "markdown",
   "id": "dad4b722-a125-4219-9c22-009acf75414d",
   "metadata": {},
   "source": [
    "**Model**: `JSL-Medical-LLM-24B`  \n",
    "**Model Description**: Medical LLM tailored for efficient clinical summarization, question answering, and retrieval-augmented generation (RAG). Delivers high-quality, context-aware responses while balancing performance and cost—ideal for healthcare institutions seeking accurate medical analysis without heavy compute requirements."
   ]
  },
  {
   "cell_type": "code",
   "execution_count": 2,
   "id": "9d1fb27b-e0ad-4759-937d-ae4edc209fc1",
   "metadata": {
    "tags": []
   },
   "outputs": [],
   "source": [
    "model_package_arn = \"<Customer to specify Model package ARN corresponding to their AWS region>\""
   ]
  },
  {
   "cell_type": "code",
   "execution_count": null,
   "id": "76ede1bf-2acb-4b5d-9db1-299abfeee20b",
   "metadata": {
    "tags": []
   },
   "outputs": [],
   "source": [
    "import os\n",
    "import base64\n",
    "import json\n",
    "import uuid\n",
    "from sagemaker import ModelPackage\n",
    "import sagemaker as sage\n",
    "from sagemaker import get_execution_role\n",
    "import boto3\n",
    "from IPython.display import Image, display\n",
    "from PIL import Image as ImageEdit\n",
    "import numpy as np\n",
    "import pandas as pd\n",
    "\n",
    "pd.set_option('display.max_rows', None)\n",
    "pd.set_option('display.max_columns', None)\n",
    "pd.set_option('display.max_colwidth', None)\n",
    "\n",
    "sagemaker_session = sage.Session()\n",
    "s3_bucket = sagemaker_session.default_bucket()\n",
    "region = sagemaker_session.boto_region_name\n",
    "account_id = boto3.client(\"sts\").get_caller_identity().get(\"Account\")\n",
    "role = get_execution_role()\n",
    "\n",
    "sagemaker = boto3.client(\"sagemaker\")\n",
    "s3_client = sagemaker_session.boto_session.client(\"s3\")\n",
    "ecr = boto3.client(\"ecr\")\n",
    "sm_runtime = boto3.client(\"sagemaker-runtime\")"
   ]
  },
  {
   "cell_type": "code",
   "execution_count": 7,
   "id": "07846ed0-ed90-4a11-a77c-00d1c3ca3cbd",
   "metadata": {
    "tags": []
   },
   "outputs": [],
   "source": [
    "model_name = \"JSL-Medical-LLM-24B\"\n",
    "\n",
    "real_time_inference_instance_type = \"ml.g5.48xlarge\"\n",
    "batch_transform_inference_instance_type = \"ml.g5.48xlarge\""
   ]
  },
  {
   "cell_type": "markdown",
   "id": "08a626b7-f295-4c49-b856-ce237d5d3203",
   "metadata": {},
   "source": [
    "## 2. Create a deployable model from the model package."
   ]
  },
  {
   "cell_type": "code",
   "execution_count": 8,
   "id": "0e39b84b-7a9f-4004-a204-56af1fd555f1",
   "metadata": {
    "tags": []
   },
   "outputs": [],
   "source": [
    "model = ModelPackage(\n",
    "    role=role, \n",
    "    model_package_arn=model_package_arn, \n",
    "    sagemaker_session=sagemaker_session, \n",
    ")"
   ]
  },
  {
   "cell_type": "markdown",
   "id": "9e3a3a54-98d8-4a8a-b812-c33db9a2aa7d",
   "metadata": {},
   "source": [
    "## Model Configuration Documentation  \n",
    "\n",
    "### Default Configuration  \n",
    "The container comes with the following default configurations:  \n",
    "\n",
    "| Parameter                  | Default Value | Description                                                                   |  \n",
    "|----------------------------|---------------|-------------------------------------------------------------------------------|  \n",
    "| **`dtype`**                | `float16`     | Data type for model weights and activations                                   |  \n",
    "| **`max_model_len`**        | `32,768`      | Maximum length for input and output combined (`input + output ≤ max_model_len`) |  \n",
    "| **`tensor_parallel_size`** | Auto          | Automatically set to the number of available GPUs                            |  \n",
    "| **`host`**                 | `0.0.0.0`     | Host name                                                                     |  \n",
    "| **`port`**                 | `8080`        | Port number                                                                   |  \n",
    "\n",
    "### Hardcoded Settings  \n",
    "The following settings are hardcoded in the container and cannot be changed:  \n",
    "\n",
    "| Parameter       | Value           | Description                           |  \n",
    "|-----------------|-----------------|---------------------------------------|  \n",
    "| **`model`**     | `/opt/ml/model` | Model path where SageMaker mounts the model |  \n",
    "\n",
    "### Configurable Environment Variables  \n",
    "You can customize the vLLM server by setting environment variables when creating the model.  \n",
    "\n",
    "**Any parameter from the [vLLM documentation](https://docs.vllm.ai/en/latest/serving/openai_compatible_server.html#vllm-serve) can be set using the corresponding environment variable with the `SM_VLLM_` prefix.**  \n",
    "\n",
    "The container uses a script similar to the [SageMaker entrypoint example](https://docs.vllm.ai/en/latest/examples/sagemaker_entrypoint.html) from the vLLM documentation to convert environment variables to command-line arguments.  \n",
    "\n",
    "---  \n",
    "\n",
    "## Input Format  \n",
    "\n",
    "### 1. Chat Completion  \n",
    "\n",
    "#### Example Payload  \n",
    "```json  \n",
    "{  \n",
    "    \"model\": \"/opt/ml/model\",  \n",
    "    \"messages\": [  \n",
    "        {\"role\": \"system\", \"content\": \"You are a helpful medical assistant.\"},  \n",
    "        {\"role\": \"user\", \"content\": \"What should I do if I have a fever and body aches?\"}  \n",
    "    ],  \n",
    "    \"max_tokens\": 1024,  \n",
    "    \"temperature\": 0.7  \n",
    "}  \n",
    "```  \n",
    "\n",
    "For additional parameters:  \n",
    "- [ChatCompletionRequest](https://github.com/vllm-project/vllm/blob/v0.7.3/vllm/entrypoints/openai/protocol.py#L212)  \n",
    "- [OpenAI's Chat API](https://platform.openai.com/docs/api-reference/chat/create)  \n",
    "\n",
    "---  \n",
    "\n",
    "### 2. Text Completion  \n",
    "\n",
    "#### Single Prompt Example  \n",
    "```json  \n",
    "{  \n",
    "    \"model\": \"/opt/ml/model\",  \n",
    "    \"prompt\": \"How can I maintain good kidney health?\",  \n",
    "    \"max_tokens\": 512,  \n",
    "    \"temperature\": 0.6  \n",
    "}  \n",
    "```  \n",
    "\n",
    "#### Multiple Prompts Example  \n",
    "```json  \n",
    "{  \n",
    "    \"model\": \"/opt/ml/model\",  \n",
    "    \"prompt\": [  \n",
    "        \"How can I maintain good kidney health?\",  \n",
    "        \"What are the best practices for kidney care?\"  \n",
    "    ],  \n",
    "    \"max_tokens\": 512,  \n",
    "    \"temperature\": 0.6  \n",
    "}  \n",
    "```  \n",
    "\n",
    "Reference:  \n",
    "- [CompletionRequest](https://github.com/vllm-project/vllm/blob/v0.7.3/vllm/entrypoints/openai/protocol.py#L642)  \n",
    "- [OpenAI's Completions API](https://platform.openai.com/docs/api-reference/completions/create)  \n",
    "\n",
    "---  \n",
    "\n",
    "### Important Notes:\n",
    "- **Streaming Responses:** Add `\"stream\": true` to your request payload to enable streaming\n",
    "- **Model Path Requirement:** Always set `\"model\": \"/opt/ml/model\"` (SageMaker's fixed model location)"
   ]
  },
  {
   "cell_type": "markdown",
   "id": "6a846275-5af5-4679-9c52-d35ab157455b",
   "metadata": {},
   "source": [
    "## 3. Create an SageMaker Endpoint"
   ]
  },
  {
   "cell_type": "markdown",
   "id": "01b670fa-60d4-45a4-a0d6-3e8e2845b625",
   "metadata": {},
   "source": [
    "If you want to understand how real-time inference with Amazon SageMaker works, see [Documentation](https://docs.aws.amazon.com/sagemaker/latest/dg/how-it-works-hosting.html)."
   ]
  },
  {
   "cell_type": "code",
   "execution_count": null,
   "id": "8c19c0c0-3ead-4834-8c02-a192da19080b",
   "metadata": {
    "tags": []
   },
   "outputs": [],
   "source": [
    "predictor = model.deploy(\n",
    "    initial_instance_count=1,\n",
    "    instance_type=real_time_inference_instance_type, \n",
    "    endpoint_name=model_name,\n",
    "    model_data_download_timeout=3600\n",
    ")"
   ]
  },
  {
   "cell_type": "markdown",
   "id": "23d5c01b-b884-49c6-8b74-98911f6d8e5b",
   "metadata": {},
   "source": [
    "### 3.1 Real-time inference via Amazon SageMaker Endpoint"
   ]
  },
  {
   "cell_type": "markdown",
   "id": "07f13be5-3f3b-45db-829d-b99d4584913f",
   "metadata": {},
   "source": [
    "#### Initial setup"
   ]
  },
  {
   "cell_type": "code",
   "execution_count": 10,
   "id": "7b61fa7d-8d76-476f-91e2-8fea89e7dfa5",
   "metadata": {
    "tags": []
   },
   "outputs": [],
   "source": [
    "prompt1 = \"How do emerging mRNA technologies compare to traditional vaccine approaches for disease prevention?\"\n",
    "\n",
    "prompt2 = \"\"\"A 23-year-old pregnant woman at 22 weeks gestation presents with burning upon urination. She states it started 1 day ago and has been worsening despite drinking more water and taking cranberry extract. She otherwise feels well and is followed by a doctor for her pregnancy. Her temperature is 97.7°F (36.5°C), blood pressure is 122/77 mmHg, pulse is 80/min, respirations are 19/min, and oxygen saturation is 98% on room air. Physical exam is notable for an absence of costovertebral angle tenderness and a gravid uterus.\n",
    "\n",
    "Which of the following is the best treatment for this patient?\n",
    "A: Ampicillin\n",
    "B: Ceftriaxone\n",
    "C: Ciprofloxacin\n",
    "D: Doxycycline\n",
    "E: Nitrofurantoin\n",
    "\"\"\"\n",
    "\n",
    "prompts = [\n",
    "    \"What are the early warning signs of stroke and what should I do if I suspect someone is having one?\",\n",
    "    \"How do different classes of antidepressants work and what factors determine which medication might be prescribed?\",\n",
    "    \"What is the relationship between inflammation, autoimmune conditions, and chronic disease progression?\"\n",
    "]"
   ]
  },
  {
   "cell_type": "code",
   "execution_count": 11,
   "id": "bca8d319-02a4-44ad-b90c-216185f3098c",
   "metadata": {
    "tags": []
   },
   "outputs": [],
   "source": [
    "system_prompt = \"You are a helpful medical assistant.\""
   ]
  },
  {
   "cell_type": "code",
   "execution_count": 12,
   "id": "5c195a50-43e4-4341-ad1d-23ca6f0aa45b",
   "metadata": {
    "tags": []
   },
   "outputs": [],
   "source": [
    "def invoke_realtime_endpoint(record):\n",
    "\n",
    "    response = sm_runtime.invoke_endpoint(\n",
    "        EndpointName=model_name,\n",
    "        ContentType=\"application/json\",\n",
    "        Accept=\"application/json\",\n",
    "        Body=json.dumps(record),\n",
    "    )\n",
    "\n",
    "    return json.load(response[\"Body\"])"
   ]
  },
  {
   "cell_type": "markdown",
   "id": "e9a475e7-ad31-4b3b-b7b5-21310f541252",
   "metadata": {
    "tags": []
   },
   "source": [
    "#### Chat Completion"
   ]
  },
  {
   "cell_type": "code",
   "execution_count": 13,
   "id": "c22cf887-70d5-4a87-8476-988590228328",
   "metadata": {
    "tags": []
   },
   "outputs": [
    {
     "name": "stdout",
     "output_type": "stream",
     "text": [
      "Emerging mRNA technologies and traditional vaccine approaches both aim to prevent diseases, but they do so through different mechanisms and have distinct advantages and disadvantages. Here's a comparison:\n",
      "\n",
      "### Traditional Vaccine Approaches\n",
      "\n",
      "1. **Mechanism**:\n",
      "   - **Inactivated Vaccines**: Contain killed or inactivated pathogens (e.g., polio vaccine).\n",
      "   - **Live Attenuated Vaccines**: Contain weakened forms of the pathogen (e.g., measles vaccine).\n",
      "   - **Subunit Vaccines**: Contain specific parts of the pathogen, such as proteins or sugars (e.g., hepatitis B vaccine).\n",
      "   - **Toxoid Vaccines**: Contain inactivated toxins produced by the pathogen (e.g., tetanus vaccine).\n",
      "   - **Conjugate Vaccines**: Combine a weak antigen with a strong antigen to elicit a stronger immune response (e.g., Hib vaccine).\n",
      "\n",
      "2. **Advantages**:\n",
      "   - **Established Safety Profiles**: Many traditional vaccines have been used for decades, and their safety and efficacy are well-documented.\n",
      "   - **Production and Storage**: Some traditional vaccines can be produced and stored more easily than mRNA vaccines.\n",
      "   - **Broad Applicability**: Useful for a wide range of pathogens, including viruses and bacteria.\n",
      "\n",
      "3. **Disadvantages**:\n",
      "   - **Manufacturing Complexity**: Some traditional vaccines require complex manufacturing processes, such as growing and purifying viruses.\n",
      "   - **Potential for Adverse Reactions**: Live attenuated vaccines can sometimes cause disease in immunocompromised individuals.\n",
      "\n",
      "### Emerging mRNA Technologies\n",
      "\n",
      "1. **Mechanism**:\n",
      "   - **mRNA Vaccines**: Deliver messenger RNA that encodes for specific antigens (e.g., the spike protein of SARS-CoV-2). The mRNA is translated into proteins by the host's cells, which then trigger an immune response.\n",
      "\n",
      "2. **Advantages**:\n",
      "   - **Rapid Development**: mRNA vaccines can be developed and manufactured more quickly than traditional vaccines, as they do not require growing the pathogen.\n",
      "   - **Versatility**: Can be easily modified to target different pathogens or variants.\n",
      "   - **Immune Response**: Often elicit a strong immune response, including both antibody and T-cell responses.\n",
      "\n",
      "3. **Disadvantages**:\n",
      "   - **Storage and Stability**: mRNA vaccines typically require cold storage, which can be challenging for distribution.\n",
      "   - **Novelty**: Relatively new technology with less long-term safety data compared to traditional vaccines.\n",
      "   - **Immune Response**: The long-term durability of the immune response is still being studied.\n",
      "\n",
      "### Comparative Summary\n",
      "\n",
      "- **Speed of Development**: mRNA vaccines are generally faster to develop and deploy.\n",
      "- **Flexibility**: mRNA vaccines can be quickly adapted to new variants or different pathogens.\n",
      "- **Safety and Efficacy**: Traditional vaccines have well-established safety profiles, while mRNA vaccines are showing strong safety and efficacy data but with less long-term data.\n",
      "- **Production and Distribution**: Traditional vaccines may have simpler production and storage requirements, while mRNA vaccines require cold storage.\n",
      "\n",
      "In conclusion, both traditional and mRNA vaccine approaches have their strengths and weaknesses, and the choice between them may depend on the specific disease, the target population, and logistical considerations.\n"
     ]
    }
   ],
   "source": [
    "input_data = {\n",
    "    \"model\": \"/opt/ml/model\",\n",
    "    \"messages\": [\n",
    "        {\"role\": \"system\", \"content\": system_prompt},\n",
    "        {\"role\": \"user\", \"content\": prompt1},\n",
    "    ],\n",
    "    \"max_tokens\": 2048,\n",
    "    \"temperature\": 0.8,\n",
    "    \"top_p\": 0.95,\n",
    "}\n",
    "\n",
    "result = invoke_realtime_endpoint(input_data)\n",
    "output_content = result['choices'][0]['message']['content']\n",
    "print(output_content)"
   ]
  },
  {
   "cell_type": "markdown",
   "id": "d1a76aec-391a-44e9-b385-99aa62f1b4bf",
   "metadata": {},
   "source": [
    "#### Text Completion"
   ]
  },
  {
   "cell_type": "code",
   "execution_count": 15,
   "id": "0c06b069-e3d8-48f4-9c09-fec59143ed11",
   "metadata": {
    "tags": []
   },
   "outputs": [
    {
     "name": "stdout",
     "output_type": "stream",
     "text": [
      " The best treatment for this patient is:\n",
      "\n",
      "E: Nitrofurantoin\n",
      "\n",
      "Explanation:\n",
      "The patient is a 23-year-old pregnant woman at 22 weeks gestation presenting with dysuria (burning upon urination), which suggests a urinary tract infection (UTI). The absence of costovertebral angle tenderness makes a pyelonephritis less likely. Given her pregnancy, the choice of antibiotic must be safe for the fetus.\n",
      "\n",
      "Nitrofurantoin is a first-line treatment for UTIs during pregnancy because it is safe and effective. It is commonly used to treat uncomplicated UTIs in pregnant women.\n",
      "\n",
      "Ampicillin is also an option, but nitrofurantoin is generally preferred due to its safety profile and effectiveness.\n",
      "\n",
      "Ceftriaxone, ciprofloxacin, and doxycycline are not recommended during pregnancy due to potential risks to the fetus. Ceftriaxone is generally safe but not typically used for uncomplicated UTIs. Ciprofloxacin is in the fluoroquinolone class, which is contraindicated in pregnancy. Doxycycline is a tetracycline, which is also contraindicated in pregnancy.\n",
      "\n",
      "Therefore, the best treatment for this patient is nitrofurantoin.\n"
     ]
    }
   ],
   "source": [
    "input_data ={\n",
    "        \"model\": \"/opt/ml/model\",\n",
    "        \"prompt\": f\"{system_prompt}\\n\\nUser: {prompt2}\\n\\nAssistant:\",\n",
    "        \"max_tokens\": 2048,\n",
    "        \"temperature\": 0.8,\n",
    "        \"top_p\": 0.95,\n",
    "    }\n",
    "\n",
    "result = invoke_realtime_endpoint(input_data)\n",
    "output_text = result['choices'][0]['text']\n",
    "print(output_text)"
   ]
  },
  {
   "cell_type": "markdown",
   "id": "ccccf37b-9dee-4d38-a0dc-38f2aeaeb780",
   "metadata": {},
   "source": [
    "### 3.2 Real-time inference response as a stream via Amazon SageMaker Endpoint"
   ]
  },
  {
   "cell_type": "code",
   "execution_count": 17,
   "id": "dac2fe86-af82-4ae5-a838-162f65e6d0b1",
   "metadata": {
    "tags": []
   },
   "outputs": [],
   "source": [
    "def invoke_streaming_endpoint(record):\n",
    "    try:\n",
    "        response = sm_runtime.invoke_endpoint_with_response_stream(\n",
    "            EndpointName=model_name,\n",
    "            Body=json.dumps(record),\n",
    "            ContentType=\"application/json\",\n",
    "            Accept=\"text/event-stream\"\n",
    "        )\n",
    "\n",
    "        for event in response[\"Body\"]:\n",
    "            if \"PayloadPart\" in event:\n",
    "                chunk = event[\"PayloadPart\"][\"Bytes\"].decode(\"utf-8\")\n",
    "                if chunk.startswith(\"data:\"):\n",
    "                    try:\n",
    "                        data = json.loads(chunk[5:].strip())\n",
    "                        if \"choices\" in data and len(data[\"choices\"]) > 0:\n",
    "                            choice = data[\"choices\"][0]\n",
    "                            if \"text\" in choice:\n",
    "                                yield choice[\"text\"]\n",
    "                            elif \"delta\" in choice and \"content\" in choice[\"delta\"]:\n",
    "                                yield choice[\"delta\"][\"content\"]\n",
    "\n",
    "                    except json.JSONDecodeError:\n",
    "                        continue \n",
    "            elif \"ModelStreamError\" in event:\n",
    "                error = event[\"ModelStreamError\"]\n",
    "                yield f\"\\nStream error: {error['Message']} (Error code: {error['ErrorCode']})\"\n",
    "                break\n",
    "            elif \"InternalStreamFailure\" in event:\n",
    "                failure = event[\"InternalStreamFailure\"]\n",
    "                yield f\"\\nInternal stream failure: {failure['Message']}\"\n",
    "                break\n",
    "    except Exception as e:\n",
    "        yield f\"\\nAn error occurred during streaming: {str(e)}\""
   ]
  },
  {
   "cell_type": "markdown",
   "id": "d2c6f25e-6d6d-41c7-a7ab-8b979e97a145",
   "metadata": {},
   "source": [
    "#### Chat Completion"
   ]
  },
  {
   "cell_type": "code",
   "execution_count": 18,
   "id": "5d62d99f-67a1-46f7-ad52-d2d41b2c5e3a",
   "metadata": {
    "tags": []
   },
   "outputs": [
    {
     "name": "stdout",
     "output_type": "stream",
     "text": [
      "Emerging mRNA (messenger) technologies and traditional vaccine approaches each have their own strengths and weaknesses when it comes to disease prevention. Here's a comparison:\n",
      "\n",
      "### Traditional Vaccine Approaches\n",
      "\n",
      "1. **Types**:\n",
      "   - **Inactivated Vaccines**: Contain killed versions of the pathogen.\n",
      "   - **Live-Attenuated Vaccines**: Contain weakened versions of the pathogen.\n",
      "   - **Subunit, Recombinant, Polysaccharide, and Conjugate Vaccines**: Contain parts of the pathogen or pathogen components.\n",
      "   - **Toxoid Vaccines**: Contain inactivated toxins produced by pathogens.\n",
      "\n",
      "2. **Advantages**:\n",
      "   - **Established Safety Profiles**: Many traditional vaccines have been in use for decades, with well-established safety and efficacy profiles.\n",
      "   - **Durability**: Some traditional vaccines, like the smallpox vaccine, provide long-lasting immunity.\n",
      "   - **Logistics**: Certain traditional vaccines, such as inactivated vaccines, do not require cold chain storage.\n",
      "\n",
      "3. **Disadvantages**:\n",
      "   - **Production Complexity**: Some traditional vaccines, especially live-attenuated ones, can be difficult and time-consuming to produce.\n",
      "   - **Storage Requirements**: Many traditional vaccines require refrigeration or freezing, which can be logistically challenging.\n",
      "   - **Efficacy**: Some traditional vaccines, like inactivated vaccines, may not stimulate a strong immune response compared to mRNA vaccines.\n",
      "\n",
      "### Emerging mRNA Vaccines\n",
      "\n",
      "1. **Mechanism**:\n",
      "   - mRNA vaccines contain instructions for the body to produce a specific antigen, which then triggers an immune response.\n",
      "\n",
      "2. **Advantages**:\n",
      "   - **Rapid Development**: mRNA vaccines can be developed and manufactured more quickly than traditional vaccines, as seen with the COVID-19 mRNA vaccines.\n",
      "   - **Flexibility**: The technology can be easily adapted to different pathogens by changing the mRNA sequence.\n",
      "   - **Immune Response**: mRNA vaccines often elicit a robust immune response, including both humoral and cellular immunity.\n",
      "\n",
      "3. **Disadvantages**:\n",
      "   - **Storage Requirements**: mRNA vaccines typically require ultra-cold storage, which can be logistically challenging in some regions.\n",
      "   - **Durability**: The long-term efficacy and durability of mRNA vaccines are still being studied.\n",
      "   - **Safety Concerns**: While mRNA vaccines have shown to be safe in clinical trials, long-term safety data is still being collected.\n",
      "\n",
      "### Comparative Points\n",
      "\n",
      "- **Efficacy**: Both traditional and mRNA vaccines can be highly effective, but mRNA vaccines often produce a stronger immune response.\n",
      "- **Speed of Development**: mRNA vaccines can be developed much faster than traditional vaccines, making them particularly useful in pandemic situations.\n",
      "- **Logistics**: Traditional vaccines generally have simpler storage requirements, which can be an advantage in resource-limited settings.\n",
      "- **Versatility**: mRNA vaccines can be quickly adapted to new pathogens, offering a flexible approach to emerging diseases.\n",
      "\n",
      "In summary, both traditional and mRNA vaccines have their unique advantages and challenges. The choice between them often depends on the specific context, including the nature of the pathogen, the urgency of the situation, and the available resources."
     ]
    }
   ],
   "source": [
    "payload = {\n",
    "    \"model\": \"/opt/ml/model\",\n",
    "    \"messages\": [\n",
    "        {\"role\": \"system\", \"content\": system_prompt},\n",
    "        {\"role\": \"user\", \"content\": prompt1}\n",
    "    ],\n",
    "    \"max_tokens\": 2048,\n",
    "    \"temperature\": 0.8,\n",
    "    \"top_p\": 0.95,\n",
    "    \"stream\": True\n",
    "}\n",
    "\n",
    "for chunk in invoke_streaming_endpoint(payload):\n",
    "    print(chunk, end=\"\", flush=True)"
   ]
  },
  {
   "cell_type": "markdown",
   "id": "f2d04094-f350-4950-b73a-212301dda35c",
   "metadata": {},
   "source": [
    "#### Text Completion"
   ]
  },
  {
   "cell_type": "code",
   "execution_count": 19,
   "id": "a6046a1f-96cb-4f76-b796-cd4a661f53e6",
   "metadata": {
    "tags": []
   },
   "outputs": [
    {
     "name": "stdout",
     "output_type": "stream",
     "text": [
      " E: Nitrofurantoin\n",
      "\n",
      "Nitrofurantoin is the best treatment for this patient. She likely has a urinary tract infection (UTI), which is common in pregnancy. Nitrofurantoin is safe to use in pregnancy and is against most common urinary pathogens. Ampicillin and cephalosporins (like ceftriaxone) are also safe options, but nitrofurantoin is preferred. Ciprofloxacin and doxycycline are contraindicated in pregnancy due to risks to the developing fetus."
     ]
    }
   ],
   "source": [
    "payload = {\n",
    "    \"model\": \"/opt/ml/model\",\n",
    "    \"prompt\": f\"{system_prompt}\\n\\nUser: {prompt2}\\n\\nAssistant:\",\n",
    "    \"max_tokens\": 2048,\n",
    "    \"temperature\": 0.8,\n",
    "    \"top_p\": 0.95,\n",
    "    \"stream\": True\n",
    "}\n",
    "\n",
    "for chunk in invoke_streaming_endpoint(payload):\n",
    "    print(chunk, end=\"\", flush=True)"
   ]
  },
  {
   "cell_type": "markdown",
   "id": "547960f3-6629-4c2d-a4d2-cdb26c9c61d0",
   "metadata": {},
   "source": [
    "Now that you have successfully performed a real-time inference, you do not need the endpoint any more. You can terminate the endpoint to avoid being charged."
   ]
  },
  {
   "cell_type": "code",
   "execution_count": null,
   "id": "488631f8-c3be-4b30-aba4-75d83ee588a3",
   "metadata": {
    "tags": []
   },
   "outputs": [],
   "source": [
    "model.sagemaker_session.delete_endpoint(model_name)\n",
    "model.sagemaker_session.delete_endpoint_config(model_name)"
   ]
  },
  {
   "cell_type": "markdown",
   "id": "c0e98cc5-6ea8-41bf-a78f-dbe6771caf55",
   "metadata": {},
   "source": [
    "## 4. Batch inference"
   ]
  },
  {
   "cell_type": "code",
   "execution_count": 21,
   "id": "f7d163c0-a6c7-49c5-a4ea-27b83670eb7b",
   "metadata": {
    "tags": []
   },
   "outputs": [],
   "source": [
    "validation_json_file_name1 = \"input1.json\"\n",
    "\n",
    "validation_input_json_path = f\"s3://{s3_bucket}/{model_name}/validation-input/\"\n",
    "validation_output_json_path = f\"s3://{s3_bucket}/{model_name}/validation-output/\"\n",
    "\n",
    "\n",
    "def write_and_upload_to_s3(input_data, file_name):\n",
    "    s3_client.put_object(\n",
    "        Bucket=s3_bucket,\n",
    "        Key=f\"{model_name}/validation-input/{file_name}\",\n",
    "        Body=(bytes(input_data.encode(\"UTF-8\"))),\n",
    "    )"
   ]
  },
  {
   "cell_type": "code",
   "execution_count": 22,
   "id": "23904344-4a1e-4e90-942e-dc9e53827369",
   "metadata": {
    "tags": []
   },
   "outputs": [],
   "source": [
    "input_json_data1 = json.dumps(\n",
    "    {\n",
    "        \"model\": \"/opt/ml/model\",\n",
    "        \"prompt\": [f\"{system_prompt}\\n\\nUser: {prompt}\\n\\nAssistant:\" for prompt in prompts],\n",
    "        \"max_tokens\": 2048,\n",
    "        \"temperature\": 0.8,\n",
    "        \"top_p\": 0.95,\n",
    "    }\n",
    ")\n",
    "\n",
    "write_and_upload_to_s3(input_json_data1, f\"{validation_json_file_name1}\")"
   ]
  },
  {
   "cell_type": "code",
   "execution_count": null,
   "id": "40a9b441-d1e5-4bbc-8571-005d880c6c46",
   "metadata": {
    "tags": []
   },
   "outputs": [],
   "source": [
    "transformer = model.transformer(\n",
    "    instance_count=1,\n",
    "    instance_type=batch_transform_inference_instance_type,\n",
    "    accept=\"application/json\",\n",
    "    output_path=validation_output_json_path,\n",
    ")\n",
    "transformer.transform(validation_input_json_path, content_type=\"application/json\")\n",
    "transformer.wait()"
   ]
  },
  {
   "cell_type": "code",
   "execution_count": null,
   "id": "142c53a9-2e64-4839-acbd-74bfbd7fc372",
   "metadata": {
    "tags": []
   },
   "outputs": [],
   "source": [
    "from urllib.parse import urlparse\n",
    "\n",
    "def retrieve_json_output_from_s3(validation_file_name):\n",
    "\n",
    "    parsed_url = urlparse(transformer.output_path)\n",
    "    file_key = f\"{parsed_url.path[1:]}{validation_file_name}.out\"\n",
    "    response = s3_client.get_object(Bucket=s3_bucket, Key=file_key)\n",
    "    result = json.loads(response[\"Body\"].read().decode(\"utf-8\"))\n",
    "    \n",
    "    for idx, choice in enumerate(result.get(\"choices\", [])):\n",
    "        print(f\"Response {idx + 1}:\\n{choice.get('text', '')}\\n{'=' * 75}\")"
   ]
  },
  {
   "cell_type": "code",
   "execution_count": 26,
   "id": "b781965a-3891-4ac3-a580-9e187b262d39",
   "metadata": {
    "tags": []
   },
   "outputs": [
    {
     "name": "stdout",
     "output_type": "stream",
     "text": [
      "Response 1:\n",
      " The early warning signs of a stroke, which can be remembered by the acronym FAST, include:\n",
      "\n",
      "- **Face Drooping**: One side of the face droops or is numb. Ask the person to smile.\n",
      "- **Arm Weakness**: One arm is weak or numb. Ask the person to raise both arms. Does one arm drift downward?\n",
      "- **Speech Difficulty**: Speech is slurred, is hard to understand, or the person has difficulty speaking.\n",
      "- **Time to Call 911**: If someone shows any of these symptoms, even if the symptoms go away, call 911 immediately and get the person to the hospital as quickly as possible.\n",
      "\n",
      "Other signs to watch for include:\n",
      "\n",
      "- Sudden numbness or weakness of the leg, arm, or face, especially on one side of the body\n",
      "- Sudden confusion, trouble speaking, or understanding\n",
      "- Sudden trouble seeing in one or both eyes\n",
      "- Sudden trouble walking, dizziness, loss of balance, or coordination\n",
      "- Sudden severe headache with no known cause\n",
      "\n",
      "If you suspect someone is having a stroke, it is crucial to act quickly:\n",
      "\n",
      "1. **Call 911** immediately.\n",
      "2. **Note the time** when symptoms first appeared. This information is important for treatment.\n",
      "3. **Stay with the person** until emergency services arrive.\n",
      "4. **Do not give the person anything to eat or drink.**\n",
      "5. **Try to keep the person calm and comfortable.**\n",
      "\n",
      "Early recognition and prompt treatment can significantly improve the chances of recovery and reduce the risk of long-term disability.\n",
      "===========================================================================\n",
      "Response 2:\n",
      " Antidepressants are medications used to treat depression and other mood disorders. They work by altering the levels of neurotransmitters in the brain, which are chemical messengers that help regulate mood. Here are some of the main classes of antidepressants and how they work:\n",
      "\n",
      "1. **Selective Serotonin Reuptake Inhibitors (SSRIs)**: SSRIs work by blocking the reabsorption (reuptake) of serotonin, a neurotransmitter associated with mood regulation. This increases the availability of serotonin in the brain. Examples include fluoxetine (Prozac), sertraline (Zoloft), and escitalopram (Lexapro).\n",
      "\n",
      "2. **Serotonin and Norepinephrine Reuptake Inhibitors (SNRIs)**: SNRIs block the reuptake of both serotonin and norepinephrine, another neurotransmitter involved in mood regulation. Examples include venlafaxine (Effexor) and duloxetine (Cymbalta).\n",
      "\n",
      "3. **Tricyclic Antidepressants (TCAs)**: TCAs work by blocking the reuptake of both serotonin and norepinephrine, but they also affect other neurotransmitters and receptors. Examples include amitriptyline (Elavil) and nortriptyline (Pamelor).\n",
      "\n",
      "4. **Monoamine Oxidase Inhibitors (MAOIs)**: MAOIs work by inhibiting the enzyme monoamine oxidase, which breaks down neurotransmitters like serotonin, norepinephrine, and dopamine. Examples include phenelzine (Nardil) and tranylcypromine (Parnate).\n",
      "\n",
      "5. **Atypical Antidepressants**: These are antidepressants that don't fit into the other categories. They have unique mechanisms of action. Examples include bupropion (Wellbutrin), which affects dopamine and norepinephrine, and trazodone (Desyrel), which affects serotonin.\n",
      "\n",
      "Several factors determine which medication might be prescribed:\n",
      "\n",
      "1. **Severity of Symptoms**: More severe depression may require a different or stronger medication.\n",
      "\n",
      "2. **Previous Response to Treatment**: If a patient has responded well to a particular antidepressant in the past, the same or a similar medication may be prescribed.\n",
      "\n",
      "3. **Side Effects**: Different antidepressants have different side effect profiles. The choice of medication may be influenced by a patient's tolerance for certain side effects.\n",
      "\n",
      "4. **Co-existing Conditions**: The presence of other medical or psychiatric conditions can influence the choice of antidepressant.\n",
      "\n",
      "5. **Patient Preference**: The patient's preference and willingness to take a particular medication can also play a role.\n",
      "\n",
      "6. **Cost and Accessibility**: The cost of the medication and whether it is covered by the patient's insurance may also be considered.\n",
      "\n",
      "7. **Risk of Suicide**: In some cases, the potential risk of suicide may influence the choice of medication, as certain antidepressants may be safer in this regard.\n",
      "===========================================================================\n",
      "Response 3:\n",
      " Inflammation is a complex biological response to harmful stimuli, such as pathogens, damaged cells, or irritants, and it plays a crucial role in the body's defense mechanisms. However, when inflammation becomes chronic, it can contribute to the development and progression of various autoimmune conditions and chronic diseases.\n",
      "\n",
      "Autoimmune conditions occur when the immune system mistakenly attacks healthy tissues in the body. Chronic inflammation can exacerbate these conditions by further activating the immune system and causing additional tissue damage. For example, in rheumatoid arthritis, chronic inflammation leads to joint destruction and deformity. Similarly, in systemic lupus erythematosus, chronic inflammation can affect multiple organs and systems, leading to a wide range of symptoms and complications.\n",
      "\n",
      "Chronic diseases, such as cardiovascular disease, type 2 diabetes, and certain types of cancer, are also associated with chronic inflammation. In these cases, persistent inflammation can contribute to the development and progression of the disease by promoting tissue damage, fibrosis, and other pathological changes. For instance, chronic inflammation in the arterial walls can lead to the formation of atherosclerotic plaques, increasing the risk of heart attacks and strokes. Similarly, chronic inflammation in the pancreas can contribute to the development of type 2 diabetes by impairing insulin secretion and action.\n",
      "\n",
      "In summary, chronic inflammation plays a significant role in the development and progression of autoimmune conditions and chronic diseases. Managing inflammation through lifestyle changes, medications, and other interventions can help improve outcomes and reduce the risk of complications in these conditions.\n",
      "===========================================================================\n"
     ]
    }
   ],
   "source": [
    "retrieve_json_output_from_s3(validation_json_file_name1)"
   ]
  },
  {
   "cell_type": "markdown",
   "id": "f8e8f682-16a0-4a84-89e6-b5f4f0de3521",
   "metadata": {},
   "source": [
    "Congratulations! You just verified that the batch transform job is working as expected. Since the model is not required, you can delete it. Note that you are deleting the deployable model. Not the model package."
   ]
  },
  {
   "cell_type": "code",
   "execution_count": null,
   "id": "22a8df79-ad3b-4e85-a054-24931c15f3a3",
   "metadata": {
    "tags": []
   },
   "outputs": [],
   "source": [
    "model.delete_model()"
   ]
  },
  {
   "cell_type": "markdown",
   "id": "37215a51-bf01-4cf0-832a-c7f85a8a06c3",
   "metadata": {},
   "source": [
    "### Unsubscribe to the listing (optional)"
   ]
  },
  {
   "cell_type": "markdown",
   "id": "53cddd4d-4b27-4a94-95b8-5e027e6cd9cd",
   "metadata": {},
   "source": [
    "If you would like to unsubscribe to the model package, follow these steps. Before you cancel the subscription, ensure that you do not have any [deployable model](https://console.aws.amazon.com/sagemaker/home#/models) created from the model package or using the algorithm. Note - You can find this information by looking at the container name associated with the model. \n",
    "\n",
    "**Steps to unsubscribe to product from AWS Marketplace**:\n",
    "1. Navigate to __Machine Learning__ tab on [__Your Software subscriptions page__](https://aws.amazon.com/marketplace/ai/library?productType=ml&ref_=mlmp_gitdemo_indust)\n",
    "2. Locate the listing that you want to cancel the subscription for, and then choose __Cancel Subscription__  to cancel the subscription.\n",
    "\n"
   ]
  }
 ],
 "metadata": {
  "kernelspec": {
   "display_name": "conda_python3",
   "language": "python",
   "name": "conda_python3"
  },
  "language_info": {
   "codemirror_mode": {
    "name": "ipython",
    "version": 3
   },
   "file_extension": ".py",
   "mimetype": "text/x-python",
   "name": "python",
   "nbconvert_exporter": "python",
   "pygments_lexer": "ipython3",
   "version": "3.10.16"
  }
 },
 "nbformat": 4,
 "nbformat_minor": 5
}

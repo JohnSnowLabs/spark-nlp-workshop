{
 "cells": [
  {
   "cell_type": "markdown",
   "metadata": {},
   "source": [
    "## 1. Subscribe to the model package"
   ]
  },
  {
   "cell_type": "markdown",
   "metadata": {},
   "source": [
    "To subscribe to the model package:\n",
    "1. Open the model package listing page: [Human phenotype ontology entity resolver](https://aws.amazon.com/marketplace/pp/prodview-tevdjtpf7wj2w)\n",
    "1. On the AWS Marketplace listing, click on the **Continue to subscribe** button.\n",
    "1. On the **Subscribe to this software** page, review and click on **\"Accept Offer\"** if you and your organization agrees with EULA, pricing, and support terms. \n",
    "1. Once you click on **Continue to configuration button** and then choose a **region**, you will see a **Product Arn** displayed. This is the model package ARN that you need to specify while creating a deployable model using Boto3. Copy the ARN corresponding to your region and specify the same in the following cell."
   ]
  },
  {
   "cell_type": "markdown",
   "metadata": {},
   "source": [
    "## Pipeline for Human Phenotype Ontology (HPO) Sentence Entity Resolver\n",
    "\n",
    "- **Model**: `hpo_vdb_resolver`\n",
    "- **Model Description**: This pretrained pipeline extracts human phenotype entities from clinical text and maps them to their corresponding Human Phenotype Ontology (HPO) codes."
   ]
  },
  {
   "cell_type": "code",
   "execution_count": 1,
   "metadata": {
    "tags": []
   },
   "outputs": [],
   "source": [
    "model_package_arn = \"<Customer to specify Model package ARN corresponding to their AWS region>\""
   ]
  },
  {
   "cell_type": "code",
   "execution_count": null,
   "metadata": {
    "tags": []
   },
   "outputs": [],
   "source": [
    "import base64\n",
    "import json\n",
    "import uuid\n",
    "from sagemaker import ModelPackage\n",
    "import sagemaker as sage\n",
    "from sagemaker import get_execution_role\n",
    "import boto3\n",
    "from IPython.display import Image, display\n",
    "from PIL import Image as ImageEdit\n",
    "import numpy as np"
   ]
  },
  {
   "cell_type": "code",
   "execution_count": null,
   "metadata": {
    "tags": []
   },
   "outputs": [],
   "source": [
    "sagemaker_session = sage.Session()\n",
    "s3_bucket = sagemaker_session.default_bucket()\n",
    "region = sagemaker_session.boto_region_name\n",
    "account_id = boto3.client(\"sts\").get_caller_identity().get(\"Account\")\n",
    "role = get_execution_role()\n",
    "\n",
    "sagemaker = boto3.client(\"sagemaker\")\n",
    "s3_client = sagemaker_session.boto_session.client(\"s3\")\n",
    "ecr = boto3.client(\"ecr\")\n",
    "sm_runtime = boto3.client(\"sagemaker-runtime\")"
   ]
  },
  {
   "cell_type": "code",
   "execution_count": 4,
   "metadata": {
    "tags": []
   },
   "outputs": [],
   "source": [
    "model_name = \"hpo-vdb-resolver\"\n",
    "\n",
    "real_time_inference_instance_type = \"ml.m4.xlarge\"\n",
    "batch_transform_inference_instance_type = \"ml.m4.2xlarge\""
   ]
  },
  {
   "cell_type": "markdown",
   "metadata": {},
   "source": [
    "## 2. Create a deployable model from the model package."
   ]
  },
  {
   "cell_type": "code",
   "execution_count": 5,
   "metadata": {
    "tags": []
   },
   "outputs": [],
   "source": [
    "# create a deployable model from the model package.\n",
    "model = ModelPackage(\n",
    "    role=role, \n",
    "    model_package_arn=model_package_arn,\n",
    "    sagemaker_session=sagemaker_session,\n",
    ")\n"
   ]
  },
  {
   "cell_type": "markdown",
   "metadata": {},
   "source": [
    "### Input Format\n",
    "\n",
    "To use the model, you need to provide input in one of the following supported formats:\n",
    "\n",
    "#### JSON Format\n",
    "\n",
    "Provide input as JSON. We support two variations within this format:\n",
    "\n",
    "1. **Array of Text Documents**: \n",
    "   Use an array containing multiple text documents. Each element represents a separate text document.\n",
    "\n",
    "   ```json\n",
    "   {\n",
    "       \"text\": [\n",
    "           \"Text document 1\",\n",
    "           \"Text document 2\",\n",
    "           ...\n",
    "       ]\n",
    "   }\n",
    "\n",
    "    ```\n",
    "\n",
    "2. **Single Text Document**:\n",
    "   Provide a single text document as a string.\n",
    "\n",
    "\n",
    "   ```json\n",
    "    {\n",
    "        \"text\": \"Single text document\"\n",
    "    }\n",
    "   ```\n",
    "\n",
    "#### JSON Lines (JSONL) Format\n",
    "\n",
    "Provide input in JSON Lines format, where each line is a JSON object representing a text document.\n",
    "\n",
    "```\n",
    "{\"text\": \"Text document 1\"}\n",
    "{\"text\": \"Text document 2\"}\n",
    "```"
   ]
  },
  {
   "cell_type": "markdown",
   "metadata": {},
   "source": [
    "## 3. Create an endpoint and perform real-time inference"
   ]
  },
  {
   "cell_type": "markdown",
   "metadata": {},
   "source": [
    "If you want to understand how real-time inference with Amazon SageMaker works, see [Documentation](https://docs.aws.amazon.com/sagemaker/latest/dg/how-it-works-hosting.html)."
   ]
  },
  {
   "cell_type": "markdown",
   "metadata": {},
   "source": [
    "### A. Deploy the SageMaker model to an endpoint"
   ]
  },
  {
   "cell_type": "code",
   "execution_count": null,
   "metadata": {
    "tags": []
   },
   "outputs": [],
   "source": [
    "# Deploy the model\n",
    "predictor = model.deploy(\n",
    "    initial_instance_count=1,\n",
    "    instance_type=real_time_inference_instance_type, \n",
    "    endpoint_name=model_name,\n",
    ")"
   ]
  },
  {
   "cell_type": "markdown",
   "metadata": {},
   "source": [
    "Once endpoint has been created, you would be able to perform real-time inference."
   ]
  },
  {
   "cell_type": "code",
   "execution_count": 7,
   "metadata": {
    "tags": []
   },
   "outputs": [],
   "source": [
    "import json\n",
    "import pandas as pd\n",
    "import os\n",
    "import boto3\n",
    "\n",
    "# Set display options\n",
    "pd.set_option('display.max_rows', None)\n",
    "pd.set_option('display.max_columns', None)\n",
    "pd.set_option('display.max_colwidth', None)\n",
    "\n",
    "\n",
    "def process_data_and_invoke_realtime_endpoint(data, content_type, accept):\n",
    "\n",
    "    content_type_to_format = {'application/json': 'json', 'application/jsonlines': 'jsonl'}\n",
    "    input_format = content_type_to_format.get(content_type)\n",
    "    if content_type not in content_type_to_format.keys() or accept not in content_type_to_format.keys():\n",
    "        raise ValueError(\"Invalid content_type or accept. It should be either 'application/json' or 'application/jsonlines'.\")\n",
    "\n",
    "    i = 1\n",
    "    input_dir = f'inputs/real-time/{input_format}'\n",
    "    output_dir = f'outputs/real-time/{input_format}'\n",
    "    s3_input_dir = f\"{model_name}/validation-input/real-time/{input_format}\"\n",
    "    s3_output_dir = f\"{model_name}/validation-output/real-time/{input_format}\"\n",
    "\n",
    "    input_file_name = f'{input_dir}/input{i}.{input_format}'\n",
    "    output_file_name = f'{output_dir}/{os.path.basename(input_file_name)}.out'\n",
    "\n",
    "    while os.path.exists(input_file_name) or os.path.exists(output_file_name):\n",
    "        i += 1\n",
    "        input_file_name = f'{input_dir}/input{i}.{input_format}'\n",
    "        output_file_name = f'{output_dir}/{os.path.basename(input_file_name)}.out'\n",
    "\n",
    "    os.makedirs(os.path.dirname(input_file_name), exist_ok=True)\n",
    "    os.makedirs(os.path.dirname(output_file_name), exist_ok=True)\n",
    "\n",
    "    input_data = json.dumps(data) if content_type == 'application/json' else data\n",
    "\n",
    "    # Write input data to file\n",
    "    with open(input_file_name, 'w') as f:\n",
    "        f.write(input_data)\n",
    "\n",
    "    # Upload input data to S3\n",
    "    s3_client.put_object(Bucket=s3_bucket, Key=f\"{s3_input_dir}/{os.path.basename(input_file_name)}\", Body=bytes(input_data.encode('UTF-8')))\n",
    "\n",
    "    # Invoke the SageMaker endpoint\n",
    "    response = sm_runtime.invoke_endpoint(\n",
    "        EndpointName=model_name,\n",
    "        ContentType=content_type,\n",
    "        Accept=accept,\n",
    "        Body=input_data,\n",
    "    )\n",
    "\n",
    "    # Read response data\n",
    "    response_data = json.loads(response[\"Body\"].read().decode(\"utf-8\")) if accept == 'application/json' else response['Body'].read().decode('utf-8')\n",
    "\n",
    "    # Save response data to file\n",
    "    with open(output_file_name, 'w') as f_out:\n",
    "        if accept == 'application/json':\n",
    "            json.dump(response_data, f_out, indent=4)\n",
    "        else:\n",
    "            for item in response_data.split('\\n'):\n",
    "                f_out.write(item + '\\n')\n",
    "\n",
    "    # Upload response data to S3\n",
    "    output_s3_key = f\"{s3_output_dir}/{os.path.basename(output_file_name)}\"\n",
    "    if accept == 'application/json':\n",
    "        s3_client.put_object(Bucket=s3_bucket, Key=output_s3_key, Body=json.dumps(response_data).encode('UTF-8'))\n",
    "    else:\n",
    "        s3_client.put_object(Bucket=s3_bucket, Key=output_s3_key, Body=response_data)\n",
    "\n",
    "    return response_data"
   ]
  },
  {
   "cell_type": "markdown",
   "metadata": {},
   "source": [
    "### Initial Setup"
   ]
  },
  {
   "cell_type": "code",
   "execution_count": 8,
   "metadata": {
    "tags": []
   },
   "outputs": [],
   "source": [
    "docs = [\n",
    "    \"\"\"HPI: A 69-year-old white female with a history of depression, anxiety, admitted to the ABCD Hospital on February 6, 2007, for shortness of breath. The patient was consulted by Psychiatry for anxiety. I know this patient from a previous consult. During this recent admission, she was given Ativan 0.25 mg on a p.r.n. basis with relief after one to two hours. The patient was seen by Abc, MD, and Def, Ph.D. PAST MEDICAL HISTORY: The patient has a history of hypertension, hypothyroidism, cholelithiasis, Port-A-Cath placement, and hydronephrosis.\"\"\",\n",
    "    \"\"\" A 5-month-old boy brought by his parents because of 2 days of cough. Mother took him when cough started 2 days go to Clinic. But cough got worse and he also started having fever yesterday at night. Mother did not measure it. REVIEW OF SYSTEMS: No vomiting. No diarrhea. No skin rash. No cyanosis. \"\"\"]\n",
    "\n",
    "sample_text = \"\"\"She is followed by Dr. X in our office and has a history of severe tricuspid regurgitation. On 05/12/08, preserved left and right ventricular systolic function, aortic sclerosis with apparent mild aortic stenosis. She has previously had a Persantine Myoview nuclear rest-stress test scan completed at ABCD Medical Center in 07/06 that was negative. She has had significant mitral valve regurgitation in the past being moderate, but on the most recent echocardiogram on 05/12/08, that was not felt to be significant. She does have a history of significant hypertension in the past. She has had dizzy spells and denies clearly any true syncope. She has had bradycardia in the past from beta-blocker therapy.\"\"\""
   ]
  },
  {
   "cell_type": "markdown",
   "metadata": {},
   "source": [
    "### JSON"
   ]
  },
  {
   "cell_type": "code",
   "execution_count": 9,
   "metadata": {
    "tags": []
   },
   "outputs": [
    {
     "data": {
      "text/html": [
       "<div>\n",
       "<style scoped>\n",
       "    .dataframe tbody tr th:only-of-type {\n",
       "        vertical-align: middle;\n",
       "    }\n",
       "\n",
       "    .dataframe tbody tr th {\n",
       "        vertical-align: top;\n",
       "    }\n",
       "\n",
       "    .dataframe thead th {\n",
       "        text-align: right;\n",
       "    }\n",
       "</style>\n",
       "<table border=\"1\" class=\"dataframe\">\n",
       "  <thead>\n",
       "    <tr style=\"text-align: right;\">\n",
       "      <th></th>\n",
       "      <th>begin</th>\n",
       "      <th>end</th>\n",
       "      <th>ner_chunk</th>\n",
       "      <th>ner_label</th>\n",
       "      <th>ner_confidence</th>\n",
       "      <th>concept_code</th>\n",
       "      <th>resolution</th>\n",
       "      <th>score</th>\n",
       "      <th>aux</th>\n",
       "      <th>all_codes</th>\n",
       "      <th>all_resolutions</th>\n",
       "      <th>all_score</th>\n",
       "    </tr>\n",
       "  </thead>\n",
       "  <tbody>\n",
       "    <tr>\n",
       "      <th>0</th>\n",
       "      <td>67</td>\n",
       "      <td>89</td>\n",
       "      <td>tricuspid regurgitation</td>\n",
       "      <td>HP</td>\n",
       "      <td>0.9826</td>\n",
       "      <td>HP:0005180</td>\n",
       "      <td>tricuspid regurgitation</td>\n",
       "      <td>1.0</td>\n",
       "      <td>[Fyler:1161||SNOMEDCT_US:111287006||UMLS:C0040961, Fyler:1161||SNOMEDCT_US:111287006||UMLS:C0040961, Fyler:1161||SNOMEDCT_US:111287006||UMLS:C0040961, EPCC:06.01.92||ICD-10:Q22.4||SNOMEDCT_US:49915006||UMLS:C0040963, EPCC:06.01.00||UMLS:C4025753]</td>\n",
       "      <td>[HP:0005180, HP:0005180, HP:0005180, HP:0010446, HP:0001702]</td>\n",
       "      <td>[tricuspid regurgitation, tricuspid valve regurgitation, tricuspid insufficiency, tricuspid stenosis, abnormality of the tricuspid valve]</td>\n",
       "      <td>[1.0000003576278687, 0.9726435542106628, 0.8386023640632629, 0.8336495161056519, 0.8167619705200195]</td>\n",
       "    </tr>\n",
       "    <tr>\n",
       "      <th>1</th>\n",
       "      <td>197</td>\n",
       "      <td>211</td>\n",
       "      <td>aortic stenosis</td>\n",
       "      <td>HP</td>\n",
       "      <td>0.8053</td>\n",
       "      <td>HP:0001650</td>\n",
       "      <td>aortic stenosis</td>\n",
       "      <td>1.0</td>\n",
       "      <td>[Fyler:1411||SNOMEDCT_US:60573004||UMLS:C0003507, Fyler:1411||SNOMEDCT_US:60573004||UMLS:C0003507, Fyler:1411||SNOMEDCT_US:60573004||UMLS:C0003507, SNOMEDCT_US:204368006||UMLS:C0340375, SNOMEDCT_US:204368006||UMLS:C0340375]</td>\n",
       "      <td>[HP:0001650, HP:0001650, HP:0001650, HP:0001682, HP:0001682]</td>\n",
       "      <td>[aortic stenosis, aortic valve stenosis, valvular aortic stenosis, subvalvular aortic stenosis, subaortic stenosis]</td>\n",
       "      <td>[0.9999999403953552, 0.9627023935317993, 0.9433531165122986, 0.8516278266906738, 0.8179107904434204]</td>\n",
       "    </tr>\n",
       "    <tr>\n",
       "      <th>2</th>\n",
       "      <td>373</td>\n",
       "      <td>398</td>\n",
       "      <td>mitral valve regurgitation</td>\n",
       "      <td>HP</td>\n",
       "      <td>0.91050005</td>\n",
       "      <td>HP:0001653</td>\n",
       "      <td>mitral valve regurgitation</td>\n",
       "      <td>1.0</td>\n",
       "      <td>[Fyler:1151||SNOMEDCT_US:48724000||UMLS:C0026266||UMLS:C3551535, Fyler:1151||SNOMEDCT_US:48724000||UMLS:C0026266||UMLS:C3551535, SNOMEDCT_US:60234000||UMLS:C0003504, SNOMEDCT_US:91434003||UMLS:C0034088, -]</td>\n",
       "      <td>[HP:0001653, HP:0001653, HP:0001659, HP:0010444, HP:0034376]</td>\n",
       "      <td>[mitral valve regurgitation, mitral regurgitation, aortic valve regurgitation, pulmonary valve regurgitation, atrioventricular valve regurgitation]</td>\n",
       "      <td>[0.9999997615814209, 0.9782090187072754, 0.8417404890060425, 0.838316798210144, 0.8361339569091797]</td>\n",
       "    </tr>\n",
       "    <tr>\n",
       "      <th>3</th>\n",
       "      <td>555</td>\n",
       "      <td>566</td>\n",
       "      <td>hypertension</td>\n",
       "      <td>HP</td>\n",
       "      <td>0.9848</td>\n",
       "      <td>HP:0000822</td>\n",
       "      <td>hypertension</td>\n",
       "      <td>1.0</td>\n",
       "      <td>[SNOMEDCT_US:24184005||SNOMEDCT_US:38341003||UMLS:C0020538||UMLS:C0497247, SNOMEDCT_US:24184005||SNOMEDCT_US:38341003||UMLS:C0020538||UMLS:C0497247, SNOMEDCT_US:24184005||SNOMEDCT_US:38341003||UMLS:C0020538||UMLS:C0497247, SNOMEDCT_US:24184005||SNOMEDCT_US:38341003||UMLS:C0020538||UMLS:C0497247, -]</td>\n",
       "      <td>[HP:0000822, HP:0000822, HP:0000822, HP:0000822, HP:0032263]</td>\n",
       "      <td>[hypertension, high blood pressure, arterial hypertension, systemic hypertension, increased blood pressure]</td>\n",
       "      <td>[0.9999998211860657, 0.8678926825523376, 0.8463543057441711, 0.8321573734283447, 0.8045231103897095]</td>\n",
       "    </tr>\n",
       "    <tr>\n",
       "      <th>4</th>\n",
       "      <td>655</td>\n",
       "      <td>665</td>\n",
       "      <td>bradycardia</td>\n",
       "      <td>HP</td>\n",
       "      <td>0.9965</td>\n",
       "      <td>HP:0001662</td>\n",
       "      <td>bradycardia</td>\n",
       "      <td>1.0</td>\n",
       "      <td>[SNOMEDCT_US:48867003||UMLS:C0428977, Fyler:7013||SNOMEDCT_US:49710005||UMLS:C0085610, SNOMEDCT_US:48867003||UMLS:C0428977, SNOMEDCT_US:3424008||SNOMEDCT_US:86651002||UMLS:C0039231||UMLS:C4020868, SNOMEDCT_US:80313002||UMLS:C0030252]</td>\n",
       "      <td>[HP:0001662, HP:0001688, HP:0001662, HP:0001649, HP:0001962]</td>\n",
       "      <td>[bradycardia, sinus bradycardia, brachycardia, tachycardia, heart palpitations]</td>\n",
       "      <td>[1.000000238418579, 0.9310865998268127, 0.7624821066856384, 0.7563266754150391, 0.7407756447792053]</td>\n",
       "    </tr>\n",
       "  </tbody>\n",
       "</table>\n",
       "</div>"
      ],
      "text/plain": [
       "   begin  end                   ner_chunk ner_label ner_confidence  \\\n",
       "0     67   89     tricuspid regurgitation        HP         0.9826   \n",
       "1    197  211             aortic stenosis        HP         0.8053   \n",
       "2    373  398  mitral valve regurgitation        HP     0.91050005   \n",
       "3    555  566                hypertension        HP         0.9848   \n",
       "4    655  665                 bradycardia        HP         0.9965   \n",
       "\n",
       "  concept_code                  resolution  score  \\\n",
       "0   HP:0005180     tricuspid regurgitation    1.0   \n",
       "1   HP:0001650             aortic stenosis    1.0   \n",
       "2   HP:0001653  mitral valve regurgitation    1.0   \n",
       "3   HP:0000822                hypertension    1.0   \n",
       "4   HP:0001662                 bradycardia    1.0   \n",
       "\n",
       "                                                                                                                                                                                                                                                                                                           aux  \\\n",
       "0                                                       [Fyler:1161||SNOMEDCT_US:111287006||UMLS:C0040961, Fyler:1161||SNOMEDCT_US:111287006||UMLS:C0040961, Fyler:1161||SNOMEDCT_US:111287006||UMLS:C0040961, EPCC:06.01.92||ICD-10:Q22.4||SNOMEDCT_US:49915006||UMLS:C0040963, EPCC:06.01.00||UMLS:C4025753]   \n",
       "1                                                                              [Fyler:1411||SNOMEDCT_US:60573004||UMLS:C0003507, Fyler:1411||SNOMEDCT_US:60573004||UMLS:C0003507, Fyler:1411||SNOMEDCT_US:60573004||UMLS:C0003507, SNOMEDCT_US:204368006||UMLS:C0340375, SNOMEDCT_US:204368006||UMLS:C0340375]   \n",
       "2                                                                                                [Fyler:1151||SNOMEDCT_US:48724000||UMLS:C0026266||UMLS:C3551535, Fyler:1151||SNOMEDCT_US:48724000||UMLS:C0026266||UMLS:C3551535, SNOMEDCT_US:60234000||UMLS:C0003504, SNOMEDCT_US:91434003||UMLS:C0034088, -]   \n",
       "3  [SNOMEDCT_US:24184005||SNOMEDCT_US:38341003||UMLS:C0020538||UMLS:C0497247, SNOMEDCT_US:24184005||SNOMEDCT_US:38341003||UMLS:C0020538||UMLS:C0497247, SNOMEDCT_US:24184005||SNOMEDCT_US:38341003||UMLS:C0020538||UMLS:C0497247, SNOMEDCT_US:24184005||SNOMEDCT_US:38341003||UMLS:C0020538||UMLS:C0497247, -]   \n",
       "4                                                                    [SNOMEDCT_US:48867003||UMLS:C0428977, Fyler:7013||SNOMEDCT_US:49710005||UMLS:C0085610, SNOMEDCT_US:48867003||UMLS:C0428977, SNOMEDCT_US:3424008||SNOMEDCT_US:86651002||UMLS:C0039231||UMLS:C4020868, SNOMEDCT_US:80313002||UMLS:C0030252]   \n",
       "\n",
       "                                                      all_codes  \\\n",
       "0  [HP:0005180, HP:0005180, HP:0005180, HP:0010446, HP:0001702]   \n",
       "1  [HP:0001650, HP:0001650, HP:0001650, HP:0001682, HP:0001682]   \n",
       "2  [HP:0001653, HP:0001653, HP:0001659, HP:0010444, HP:0034376]   \n",
       "3  [HP:0000822, HP:0000822, HP:0000822, HP:0000822, HP:0032263]   \n",
       "4  [HP:0001662, HP:0001688, HP:0001662, HP:0001649, HP:0001962]   \n",
       "\n",
       "                                                                                                                                       all_resolutions  \\\n",
       "0            [tricuspid regurgitation, tricuspid valve regurgitation, tricuspid insufficiency, tricuspid stenosis, abnormality of the tricuspid valve]   \n",
       "1                                  [aortic stenosis, aortic valve stenosis, valvular aortic stenosis, subvalvular aortic stenosis, subaortic stenosis]   \n",
       "2  [mitral valve regurgitation, mitral regurgitation, aortic valve regurgitation, pulmonary valve regurgitation, atrioventricular valve regurgitation]   \n",
       "3                                          [hypertension, high blood pressure, arterial hypertension, systemic hypertension, increased blood pressure]   \n",
       "4                                                                      [bradycardia, sinus bradycardia, brachycardia, tachycardia, heart palpitations]   \n",
       "\n",
       "                                                                                              all_score  \n",
       "0  [1.0000003576278687, 0.9726435542106628, 0.8386023640632629, 0.8336495161056519, 0.8167619705200195]  \n",
       "1  [0.9999999403953552, 0.9627023935317993, 0.9433531165122986, 0.8516278266906738, 0.8179107904434204]  \n",
       "2   [0.9999997615814209, 0.9782090187072754, 0.8417404890060425, 0.838316798210144, 0.8361339569091797]  \n",
       "3  [0.9999998211860657, 0.8678926825523376, 0.8463543057441711, 0.8321573734283447, 0.8045231103897095]  \n",
       "4   [1.000000238418579, 0.9310865998268127, 0.7624821066856384, 0.7563266754150391, 0.7407756447792053]  "
      ]
     },
     "execution_count": 9,
     "metadata": {},
     "output_type": "execute_result"
    }
   ],
   "source": [
    "input_json_data = {\"text\": sample_text}\n",
    "data =  process_data_and_invoke_realtime_endpoint(input_json_data, content_type=\"application/json\" , accept=\"application/json\" )\n",
    "pd.DataFrame(data[\"predictions\"][0])"
   ]
  },
  {
   "cell_type": "markdown",
   "metadata": {},
   "source": [
    "### JSON Lines"
   ]
  },
  {
   "cell_type": "code",
   "execution_count": 10,
   "metadata": {
    "tags": []
   },
   "outputs": [],
   "source": [
    "import json\n",
    "\n",
    "def create_jsonl(records):\n",
    "\n",
    "    if isinstance(records, str):\n",
    "        records = [records]\n",
    "\n",
    "    json_records = []\n",
    "\n",
    "    for text in records:\n",
    "        record = {\n",
    "            \"text\": text\n",
    "        }\n",
    "        json_records.append(record)\n",
    "\n",
    "    json_lines = '\\n'.join(json.dumps(record) for record in json_records)\n",
    "\n",
    "    return json_lines"
   ]
  },
  {
   "cell_type": "code",
   "execution_count": 11,
   "metadata": {
    "tags": []
   },
   "outputs": [
    {
     "name": "stdout",
     "output_type": "stream",
     "text": [
      "{\"predictions\": [{\"begin\": 67, \"end\": 89, \"ner_chunk\": \"tricuspid regurgitation\", \"ner_label\": \"HP\", \"ner_confidence\": \"0.9826\", \"concept_code\": \"HP:0005180\", \"resolution\": \"tricuspid regurgitation\", \"score\": 1.0000003576278687, \"aux\": [\"Fyler:1161||SNOMEDCT_US:111287006||UMLS:C0040961\", \"Fyler:1161||SNOMEDCT_US:111287006||UMLS:C0040961\", \"Fyler:1161||SNOMEDCT_US:111287006||UMLS:C0040961\", \"EPCC:06.01.92||ICD-10:Q22.4||SNOMEDCT_US:49915006||UMLS:C0040963\", \"EPCC:06.01.00||UMLS:C4025753\"], \"all_codes\": [\"HP:0005180\", \"HP:0005180\", \"HP:0005180\", \"HP:0010446\", \"HP:0001702\"], \"all_resolutions\": [\"tricuspid regurgitation\", \"tricuspid valve regurgitation\", \"tricuspid insufficiency\", \"tricuspid stenosis\", \"abnormality of the tricuspid valve\"], \"all_score\": [1.0000003576278687, 0.9726435542106628, 0.8386023640632629, 0.8336495161056519, 0.8167619705200195]}, {\"begin\": 197, \"end\": 211, \"ner_chunk\": \"aortic stenosis\", \"ner_label\": \"HP\", \"ner_confidence\": \"0.8053\", \"concept_code\": \"HP:0001650\", \"resolution\": \"aortic stenosis\", \"score\": 0.9999999403953552, \"aux\": [\"Fyler:1411||SNOMEDCT_US:60573004||UMLS:C0003507\", \"Fyler:1411||SNOMEDCT_US:60573004||UMLS:C0003507\", \"Fyler:1411||SNOMEDCT_US:60573004||UMLS:C0003507\", \"SNOMEDCT_US:204368006||UMLS:C0340375\", \"SNOMEDCT_US:204368006||UMLS:C0340375\"], \"all_codes\": [\"HP:0001650\", \"HP:0001650\", \"HP:0001650\", \"HP:0001682\", \"HP:0001682\"], \"all_resolutions\": [\"aortic stenosis\", \"aortic valve stenosis\", \"valvular aortic stenosis\", \"subvalvular aortic stenosis\", \"subaortic stenosis\"], \"all_score\": [0.9999999403953552, 0.9627023935317993, 0.9433531165122986, 0.8516278266906738, 0.8179107904434204]}, {\"begin\": 373, \"end\": 398, \"ner_chunk\": \"mitral valve regurgitation\", \"ner_label\": \"HP\", \"ner_confidence\": \"0.91050005\", \"concept_code\": \"HP:0001653\", \"resolution\": \"mitral valve regurgitation\", \"score\": 0.9999997615814209, \"aux\": [\"Fyler:1151||SNOMEDCT_US:48724000||UMLS:C0026266||UMLS:C3551535\", \"Fyler:1151||SNOMEDCT_US:48724000||UMLS:C0026266||UMLS:C3551535\", \"SNOMEDCT_US:60234000||UMLS:C0003504\", \"SNOMEDCT_US:91434003||UMLS:C0034088\", \"-\"], \"all_codes\": [\"HP:0001653\", \"HP:0001653\", \"HP:0001659\", \"HP:0010444\", \"HP:0034376\"], \"all_resolutions\": [\"mitral valve regurgitation\", \"mitral regurgitation\", \"aortic valve regurgitation\", \"pulmonary valve regurgitation\", \"atrioventricular valve regurgitation\"], \"all_score\": [0.9999997615814209, 0.9782090187072754, 0.8417404890060425, 0.838316798210144, 0.8361339569091797]}, {\"begin\": 555, \"end\": 566, \"ner_chunk\": \"hypertension\", \"ner_label\": \"HP\", \"ner_confidence\": \"0.9848\", \"concept_code\": \"HP:0000822\", \"resolution\": \"hypertension\", \"score\": 0.9999998211860657, \"aux\": [\"SNOMEDCT_US:24184005||SNOMEDCT_US:38341003||UMLS:C0020538||UMLS:C0497247\", \"SNOMEDCT_US:24184005||SNOMEDCT_US:38341003||UMLS:C0020538||UMLS:C0497247\", \"SNOMEDCT_US:24184005||SNOMEDCT_US:38341003||UMLS:C0020538||UMLS:C0497247\", \"SNOMEDCT_US:24184005||SNOMEDCT_US:38341003||UMLS:C0020538||UMLS:C0497247\", \"-\"], \"all_codes\": [\"HP:0000822\", \"HP:0000822\", \"HP:0000822\", \"HP:0000822\", \"HP:0032263\"], \"all_resolutions\": [\"hypertension\", \"high blood pressure\", \"arterial hypertension\", \"systemic hypertension\", \"increased blood pressure\"], \"all_score\": [0.9999998211860657, 0.8678926825523376, 0.8463543057441711, 0.8321573734283447, 0.8045231103897095]}, {\"begin\": 655, \"end\": 665, \"ner_chunk\": \"bradycardia\", \"ner_label\": \"HP\", \"ner_confidence\": \"0.9965\", \"concept_code\": \"HP:0001662\", \"resolution\": \"bradycardia\", \"score\": 1.000000238418579, \"aux\": [\"SNOMEDCT_US:48867003||UMLS:C0428977\", \"Fyler:7013||SNOMEDCT_US:49710005||UMLS:C0085610\", \"SNOMEDCT_US:48867003||UMLS:C0428977\", \"SNOMEDCT_US:3424008||SNOMEDCT_US:86651002||UMLS:C0039231||UMLS:C4020868\", \"SNOMEDCT_US:80313002||UMLS:C0030252\"], \"all_codes\": [\"HP:0001662\", \"HP:0001688\", \"HP:0001662\", \"HP:0001649\", \"HP:0001962\"], \"all_resolutions\": [\"bradycardia\", \"sinus bradycardia\", \"brachycardia\", \"tachycardia\", \"heart palpitations\"], \"all_score\": [1.000000238418579, 0.9310865998268127, 0.7624821066856384, 0.7563266754150391, 0.7407756447792053]}]}\n"
     ]
    }
   ],
   "source": [
    "input_jsonl_data = create_jsonl(sample_text)\n",
    "data = process_data_and_invoke_realtime_endpoint(input_jsonl_data, content_type=\"application/jsonlines\" , accept=\"application/jsonlines\" )\n",
    "print(data)"
   ]
  },
  {
   "cell_type": "markdown",
   "metadata": {},
   "source": [
    "### B. Delete the endpoint"
   ]
  },
  {
   "cell_type": "markdown",
   "metadata": {},
   "source": [
    "Now that you have successfully performed a real-time inference, you do not need the endpoint any more. You can terminate the endpoint to avoid being charged."
   ]
  },
  {
   "cell_type": "code",
   "execution_count": null,
   "metadata": {
    "tags": []
   },
   "outputs": [],
   "source": [
    "model.sagemaker_session.delete_endpoint(model_name)\n",
    "model.sagemaker_session.delete_endpoint_config(model_name)"
   ]
  },
  {
   "cell_type": "markdown",
   "metadata": {
    "tags": []
   },
   "source": [
    "## 4. Batch inference"
   ]
  },
  {
   "cell_type": "code",
   "execution_count": 13,
   "metadata": {
    "tags": []
   },
   "outputs": [],
   "source": [
    "import json\n",
    "import os\n",
    "\n",
    "input_dir = 'inputs/batch'\n",
    "json_input_dir = f\"{input_dir}/json\"\n",
    "jsonl_input_dir = f\"{input_dir}/jsonl\"\n",
    "\n",
    "output_dir = 'outputs/batch'\n",
    "json_output_dir = f\"{output_dir}/json\"\n",
    "jsonl_output_dir = f\"{output_dir}/jsonl\"\n",
    "\n",
    "os.makedirs(json_input_dir, exist_ok=True)\n",
    "os.makedirs(jsonl_input_dir, exist_ok=True)\n",
    "os.makedirs(json_output_dir, exist_ok=True)\n",
    "os.makedirs(jsonl_output_dir, exist_ok=True)\n",
    "\n",
    "validation_json_file_name = \"input.json\"\n",
    "\n",
    "validation_jsonl_file_name = \"input.jsonl\"\n",
    "\n",
    "validation_input_json_path = f\"s3://{s3_bucket}/{model_name}/validation-input/batch/json/\"\n",
    "validation_output_json_path = f\"s3://{s3_bucket}/{model_name}/validation-output/batch/json/\"\n",
    "\n",
    "validation_input_jsonl_path = f\"s3://{s3_bucket}/{model_name}/validation-input/batch/jsonl/\"\n",
    "validation_output_jsonl_path = f\"s3://{s3_bucket}/{model_name}/validation-output/batch/jsonl/\"\n",
    "\n",
    "def write_and_upload_to_s3(input_data, file_name):\n",
    "    file_format = os.path.splitext(file_name)[1].lower()\n",
    "    if file_format == \".json\":\n",
    "        input_data = json.dumps(input_data)\n",
    "\n",
    "    with open(file_name, \"w\") as f:\n",
    "        f.write(input_data)\n",
    "\n",
    "    s3_client.put_object(\n",
    "        Bucket=s3_bucket,\n",
    "        Key=f\"{model_name}/validation-input/batch/{file_format[1:]}/{os.path.basename(file_name)}\",\n",
    "        Body=(bytes(input_data.encode(\"UTF-8\"))),\n",
    "    )"
   ]
  },
  {
   "cell_type": "code",
   "execution_count": 14,
   "metadata": {
    "tags": []
   },
   "outputs": [],
   "source": [
    "input_jsonl_data = create_jsonl(docs)\n",
    "input_json_data = {\"text\": docs}\n",
    "\n",
    "write_and_upload_to_s3(input_json_data, f\"{json_input_dir}/{validation_json_file_name}\")\n",
    "\n",
    "write_and_upload_to_s3(input_jsonl_data, f\"{jsonl_input_dir}/{validation_jsonl_file_name}\")"
   ]
  },
  {
   "cell_type": "markdown",
   "metadata": {},
   "source": [
    "### JSON"
   ]
  },
  {
   "cell_type": "code",
   "execution_count": null,
   "metadata": {
    "tags": []
   },
   "outputs": [],
   "source": [
    "# Initialize a SageMaker Transformer object for making predictions\n",
    "transformer = model.transformer(\n",
    "    instance_count=1,\n",
    "    instance_type=batch_transform_inference_instance_type,\n",
    "    accept=\"application/json\",\n",
    "    output_path=validation_output_json_path\n",
    ")\n",
    "\n",
    "transformer.transform(validation_input_json_path, content_type=\"application/json\")\n",
    "transformer.wait()"
   ]
  },
  {
   "cell_type": "code",
   "execution_count": 16,
   "metadata": {
    "tags": []
   },
   "outputs": [],
   "source": [
    "from urllib.parse import urlparse\n",
    "\n",
    "def process_s3_json_output_and_save(validation_file_name):\n",
    "\n",
    "    output_file_path = f\"{json_output_dir}/{validation_file_name}.out\"\n",
    "    parsed_url = urlparse(transformer.output_path)\n",
    "    file_key = f\"{parsed_url.path[1:]}{validation_file_name}.out\"\n",
    "    response = s3_client.get_object(Bucket=s3_bucket, Key=file_key)\n",
    "\n",
    "    data = json.loads(response[\"Body\"].read().decode(\"utf-8\"))\n",
    "    display(data)\n",
    "\n",
    "    # Save the data to the output file\n",
    "    with open(output_file_path, 'w') as f_out:\n",
    "        json.dump(data, f_out, indent=4)"
   ]
  },
  {
   "cell_type": "code",
   "execution_count": 17,
   "metadata": {
    "tags": []
   },
   "outputs": [
    {
     "data": {
      "text/plain": [
       "{'predictions': [[{'begin': 126,\n",
       "    'end': 134,\n",
       "    'ner_chunk': 'shortness',\n",
       "    'ner_label': 'HP',\n",
       "    'ner_confidence': '0.8931',\n",
       "    'concept_code': 'HP:0004322',\n",
       "    'resolution': 'short stature',\n",
       "    'score': 0.8393914699554443,\n",
       "    'aux': ['SNOMEDCT_US:237836003||UMLS:C0349588',\n",
       "     'SNOMEDCT_US:34911001||UMLS:C4551492',\n",
       "     'UMLS:C0239399',\n",
       "     'UMLS:C0239399',\n",
       "     'UMLS:C3150077||UMLS:C4020838'],\n",
       "    'all_codes': ['HP:0004322',\n",
       "     'HP:0000054',\n",
       "     'HP:0009826',\n",
       "     'HP:0009826',\n",
       "     'HP:0003502'],\n",
       "    'all_resolutions': ['short stature',\n",
       "     'short penis',\n",
       "     'short limb',\n",
       "     'short limbs',\n",
       "     'short stature, mild'],\n",
       "    'all_score': [0.8393914699554443,\n",
       "     0.8264893889427185,\n",
       "     0.8134717345237732,\n",
       "     0.812436580657959,\n",
       "     0.8091142177581787]},\n",
       "   {'begin': 457,\n",
       "    'end': 468,\n",
       "    'ner_chunk': 'hypertension',\n",
       "    'ner_label': 'HP',\n",
       "    'ner_confidence': '0.995',\n",
       "    'concept_code': 'HP:0000822',\n",
       "    'resolution': 'hypertension',\n",
       "    'score': 0.9999997615814209,\n",
       "    'aux': ['SNOMEDCT_US:24184005||SNOMEDCT_US:38341003||UMLS:C0020538||UMLS:C0497247',\n",
       "     'SNOMEDCT_US:24184005||SNOMEDCT_US:38341003||UMLS:C0020538||UMLS:C0497247',\n",
       "     'SNOMEDCT_US:24184005||SNOMEDCT_US:38341003||UMLS:C0020538||UMLS:C0497247',\n",
       "     'SNOMEDCT_US:24184005||SNOMEDCT_US:38341003||UMLS:C0020538||UMLS:C0497247',\n",
       "     '-'],\n",
       "    'all_codes': ['HP:0000822',\n",
       "     'HP:0000822',\n",
       "     'HP:0000822',\n",
       "     'HP:0000822',\n",
       "     'HP:0032263'],\n",
       "    'all_resolutions': ['hypertension',\n",
       "     'high blood pressure',\n",
       "     'arterial hypertension',\n",
       "     'systemic hypertension',\n",
       "     'increased blood pressure'],\n",
       "    'all_score': [0.9999997615814209,\n",
       "     0.8678927421569824,\n",
       "     0.8463542461395264,\n",
       "     0.8321571350097656,\n",
       "     0.8045231103897095]},\n",
       "   {'begin': 471,\n",
       "    'end': 484,\n",
       "    'ner_chunk': 'hypothyroidism',\n",
       "    'ner_label': 'HP',\n",
       "    'ner_confidence': '0.9985',\n",
       "    'concept_code': 'HP:0000821',\n",
       "    'resolution': 'hypothyroidism',\n",
       "    'score': 1.0000001192092896,\n",
       "    'aux': ['SNOMEDCT_US:40930008||UMLS:C0020676',\n",
       "     'UMLS:C0749420||UMLS:C4020805',\n",
       "     'SNOMEDCT_US:82598004||UMLS:C3665349',\n",
       "     'SNOMEDCT_US:37429009||UMLS:C0220998',\n",
       "     'SNOMEDCT_US:82598004||UMLS:C3665349'],\n",
       "    'all_codes': ['HP:0000821',\n",
       "     'HP:0008191',\n",
       "     'HP:0008245',\n",
       "     'HP:0008237',\n",
       "     'HP:0008245'],\n",
       "    'all_resolutions': ['hypothyroidism',\n",
       "     'athyroidal hypothyroidism',\n",
       "     'pituitary hypothyroidism',\n",
       "     'hypothalamic hypothyroidism',\n",
       "     'tsh deficient hypothyroidism'],\n",
       "    'all_score': [1.0000001192092896,\n",
       "     0.9175962209701538,\n",
       "     0.903052031993866,\n",
       "     0.869316577911377,\n",
       "     0.8513739109039307]},\n",
       "   {'begin': 530,\n",
       "    'end': 543,\n",
       "    'ner_chunk': 'hydronephrosis',\n",
       "    'ner_label': 'HP',\n",
       "    'ner_confidence': '0.9873',\n",
       "    'concept_code': 'HP:0000126',\n",
       "    'resolution': 'hydronephrosis',\n",
       "    'score': 1.000000238418579,\n",
       "    'aux': ['Fyler:4502||SNOMEDCT_US:43064006||UMLS:C0020295',\n",
       "     'SNOMEDCT_US:52254009||UMLS:C0027726',\n",
       "     'SNOMEDCT_US:430035004||UMLS:C2317073',\n",
       "     'SNOMEDCT_US:48796009||UMLS:C3501848',\n",
       "     'SNOMEDCT_US:430035004||UMLS:C2317073'],\n",
       "    'all_codes': ['HP:0000126',\n",
       "     'HP:0000100',\n",
       "     'HP:0010945',\n",
       "     'HP:0008677',\n",
       "     'HP:0010945'],\n",
       "    'all_resolutions': ['hydronephrosis',\n",
       "     'nephrosis',\n",
       "     'mild foetal hydronephrosis',\n",
       "     'congenital nephrosis',\n",
       "     'mild fetal hydronephrosis'],\n",
       "    'all_score': [1.000000238418579,\n",
       "     0.8544374108314514,\n",
       "     0.787274956703186,\n",
       "     0.7787907123565674,\n",
       "     0.772007942199707]}],\n",
       "  [{'begin': 63,\n",
       "    'end': 67,\n",
       "    'ner_chunk': 'cough',\n",
       "    'ner_label': 'HP',\n",
       "    'ner_confidence': '0.932',\n",
       "    'concept_code': 'HP:0012735',\n",
       "    'resolution': 'cough',\n",
       "    'score': 0.9999998807907104,\n",
       "    'aux': ['SNOMEDCT_US:263731006||SNOMEDCT_US:272039006||SNOMEDCT_US:49727002||UMLS:C0010200',\n",
       "     'SNOMEDCT_US:263731006||SNOMEDCT_US:272039006||SNOMEDCT_US:49727002||UMLS:C0010200',\n",
       "     '-',\n",
       "     'SNOMEDCT_US:66857006||SNOMEDCT_US:6686005||UMLS:C0019079',\n",
       "     '-'],\n",
       "    'all_codes': ['HP:0012735',\n",
       "     'HP:0012735',\n",
       "     'HP:0031245',\n",
       "     'HP:0002105',\n",
       "     'HP:0031246'],\n",
       "    'all_resolutions': ['cough',\n",
       "     'coughing',\n",
       "     'wet cough',\n",
       "     'coughing up blood',\n",
       "     'dry cough'],\n",
       "    'all_score': [0.9999998807907104,\n",
       "     0.9338811635971069,\n",
       "     0.8569259643554688,\n",
       "     0.8362500667572021,\n",
       "     0.8267486095428467]},\n",
       "   {'begin': 91,\n",
       "    'end': 95,\n",
       "    'ner_chunk': 'cough',\n",
       "    'ner_label': 'HP',\n",
       "    'ner_confidence': '0.9692',\n",
       "    'concept_code': 'HP:0012735',\n",
       "    'resolution': 'cough',\n",
       "    'score': 0.9999998807907104,\n",
       "    'aux': ['SNOMEDCT_US:263731006||SNOMEDCT_US:272039006||SNOMEDCT_US:49727002||UMLS:C0010200',\n",
       "     'SNOMEDCT_US:263731006||SNOMEDCT_US:272039006||SNOMEDCT_US:49727002||UMLS:C0010200',\n",
       "     '-',\n",
       "     'SNOMEDCT_US:66857006||SNOMEDCT_US:6686005||UMLS:C0019079',\n",
       "     '-'],\n",
       "    'all_codes': ['HP:0012735',\n",
       "     'HP:0012735',\n",
       "     'HP:0031245',\n",
       "     'HP:0002105',\n",
       "     'HP:0031246'],\n",
       "    'all_resolutions': ['cough',\n",
       "     'coughing',\n",
       "     'wet cough',\n",
       "     'coughing up blood',\n",
       "     'dry cough'],\n",
       "    'all_score': [0.9999998807907104,\n",
       "     0.9338811635971069,\n",
       "     0.8569259643554688,\n",
       "     0.8362500667572021,\n",
       "     0.8267486095428467]},\n",
       "   {'begin': 173,\n",
       "    'end': 177,\n",
       "    'ner_chunk': 'fever',\n",
       "    'ner_label': 'HP',\n",
       "    'ner_confidence': '0.9686',\n",
       "    'concept_code': 'HP:0001945',\n",
       "    'resolution': 'fever',\n",
       "    'score': 1.0000003576278687,\n",
       "    'aux': ['SNOMEDCT_US:386661006||SNOMEDCT_US:50177009||UMLS:C0015967',\n",
       "     '-',\n",
       "     'SNOMEDCT_US:304213008||UMLS:C0239574',\n",
       "     '-',\n",
       "     '-'],\n",
       "    'all_codes': ['HP:0001945',\n",
       "     'HP:0025215',\n",
       "     'HP:0011134',\n",
       "     'HP:0032323',\n",
       "     'HP:0025256'],\n",
       "    'all_resolutions': ['fever',\n",
       "     'triggered by fever',\n",
       "     'mild fever',\n",
       "     'periodic fever',\n",
       "     'fever improves condition'],\n",
       "    'all_score': [1.0000003576278687,\n",
       "     0.8348252177238464,\n",
       "     0.7997647523880005,\n",
       "     0.789909839630127,\n",
       "     0.7785427570343018]},\n",
       "   {'begin': 248,\n",
       "    'end': 255,\n",
       "    'ner_chunk': 'vomiting',\n",
       "    'ner_label': 'HP',\n",
       "    'ner_confidence': '0.9931',\n",
       "    'concept_code': 'HP:0002013',\n",
       "    'resolution': 'vomiting',\n",
       "    'score': 1.0000001192092896,\n",
       "    'aux': ['MEDDRA:10047700||SNOMEDCT_US:249497008||SNOMEDCT_US:300359004||SNOMEDCT_US:422400008||UMLS:C0042963',\n",
       "     'MEDDRA:10047700||SNOMEDCT_US:249497008||SNOMEDCT_US:300359004||SNOMEDCT_US:422400008||UMLS:C0042963',\n",
       "     'SNOMEDCT_US:16932000||UMLS:C0027498',\n",
       "     'SNOMEDCT_US:8579004||UMLS:C0221151',\n",
       "     '-'],\n",
       "    'all_codes': ['HP:0002013',\n",
       "     'HP:0002013',\n",
       "     'HP:0002017',\n",
       "     'HP:0002587',\n",
       "     'HP:0025089'],\n",
       "    'all_resolutions': ['vomiting',\n",
       "     'throwing up',\n",
       "     'nausea and vomiting',\n",
       "     'projectile vomiting',\n",
       "     'faecal vomiting'],\n",
       "    'all_score': [1.0000001192092896,\n",
       "     0.8848099708557129,\n",
       "     0.8553993701934814,\n",
       "     0.8523432016372681,\n",
       "     0.8342018127441406]},\n",
       "   {'begin': 274,\n",
       "    'end': 282,\n",
       "    'ner_chunk': 'skin rash',\n",
       "    'ner_label': 'HP',\n",
       "    'ner_confidence': '0.8408',\n",
       "    'concept_code': 'HP:0000988',\n",
       "    'resolution': 'skin rash',\n",
       "    'score': 1.000000238418579,\n",
       "    'aux': ['MEDDRA:10037844||SNOMEDCT_US:112625008||SNOMEDCT_US:271807003||UMLS:C0015230',\n",
       "     'MEDDRA:10037844||SNOMEDCT_US:112625008||SNOMEDCT_US:271807003||UMLS:C0015230',\n",
       "     '-',\n",
       "     'SNOMEDCT_US:279333002||SNOMEDCT_US:418290006||SNOMEDCT_US:418363000||SNOMEDCT_US:424492005||UMLS:C0033774',\n",
       "     '-'],\n",
       "    'all_codes': ['HP:0000988',\n",
       "     'HP:0000988',\n",
       "     'HP:0025300',\n",
       "     'HP:0000989',\n",
       "     'HP:0033605'],\n",
       "    'all_resolutions': ['skin rash',\n",
       "     'rash',\n",
       "     'butterfly rash',\n",
       "     'itchy skin',\n",
       "     'pustular rash'],\n",
       "    'all_score': [1.000000238418579,\n",
       "     0.903679370880127,\n",
       "     0.8198336362838745,\n",
       "     0.7995640635490417,\n",
       "     0.7980647683143616]},\n",
       "   {'begin': 288,\n",
       "    'end': 295,\n",
       "    'ner_chunk': 'cyanosis',\n",
       "    'ner_label': 'HP',\n",
       "    'ner_confidence': '0.9952',\n",
       "    'concept_code': 'HP:0000961',\n",
       "    'resolution': 'cyanosis',\n",
       "    'score': 0.9999992251396179,\n",
       "    'aux': ['SNOMEDCT_US:119419001||SNOMEDCT_US:3415004||UMLS:C0010520',\n",
       "     '-',\n",
       "     '-',\n",
       "     '-',\n",
       "     '-'],\n",
       "    'all_codes': ['HP:0000961',\n",
       "     'HP:0034034',\n",
       "     'HP:0034031',\n",
       "     'HP:0032556',\n",
       "     'HP:0034032'],\n",
       "    'all_resolutions': ['cyanosis',\n",
       "     'differential cyanosis',\n",
       "     'facial cyanosis',\n",
       "     'circumoral cyanosis',\n",
       "     'central cyanosis'],\n",
       "    'all_score': [0.9999992251396179,\n",
       "     0.8496111631393433,\n",
       "     0.8461570143699646,\n",
       "     0.8398361206054688,\n",
       "     0.8376049995422363]}]]}"
      ]
     },
     "metadata": {},
     "output_type": "display_data"
    }
   ],
   "source": [
    "process_s3_json_output_and_save(validation_json_file_name)"
   ]
  },
  {
   "cell_type": "markdown",
   "metadata": {},
   "source": [
    "### JSON Lines"
   ]
  },
  {
   "cell_type": "code",
   "execution_count": null,
   "metadata": {
    "tags": []
   },
   "outputs": [],
   "source": [
    "transformer = model.transformer(\n",
    "    instance_count=1,\n",
    "    instance_type=batch_transform_inference_instance_type,\n",
    "    accept=\"application/jsonlines\",\n",
    "    output_path=validation_output_jsonl_path\n",
    ")\n",
    "transformer.transform(validation_input_jsonl_path, content_type=\"application/jsonlines\")\n",
    "transformer.wait()"
   ]
  },
  {
   "cell_type": "code",
   "execution_count": 19,
   "metadata": {
    "tags": []
   },
   "outputs": [],
   "source": [
    "from urllib.parse import urlparse\n",
    "\n",
    "def process_s3_jsonlines_output_and_save(validation_file_name):\n",
    "\n",
    "    output_file_path = f\"{jsonl_output_dir}/{validation_file_name}.out\"\n",
    "    parsed_url = urlparse(transformer.output_path)\n",
    "    file_key = f\"{parsed_url.path[1:]}{validation_file_name}.out\"\n",
    "    response = s3_client.get_object(Bucket=s3_bucket, Key=file_key)\n",
    "\n",
    "    data = response[\"Body\"].read().decode(\"utf-8\")\n",
    "    print(data)\n",
    "\n",
    "    # Save the data to the output file\n",
    "    with open(output_file_path, 'w') as f_out:\n",
    "        for item in data.split('\\n'):\n",
    "            f_out.write(item + '\\n')"
   ]
  },
  {
   "cell_type": "code",
   "execution_count": 20,
   "metadata": {
    "tags": []
   },
   "outputs": [
    {
     "name": "stdout",
     "output_type": "stream",
     "text": [
      "{\"predictions\": [{\"begin\": 126, \"end\": 134, \"ner_chunk\": \"shortness\", \"ner_label\": \"HP\", \"ner_confidence\": \"0.8931\", \"concept_code\": \"HP:0004322\", \"resolution\": \"short stature\", \"score\": 0.8393914699554443, \"aux\": [\"SNOMEDCT_US:237836003||UMLS:C0349588\", \"SNOMEDCT_US:34911001||UMLS:C4551492\", \"UMLS:C0239399\", \"UMLS:C0239399\", \"UMLS:C3150077||UMLS:C4020838\"], \"all_codes\": [\"HP:0004322\", \"HP:0000054\", \"HP:0009826\", \"HP:0009826\", \"HP:0003502\"], \"all_resolutions\": [\"short stature\", \"short penis\", \"short limb\", \"short limbs\", \"short stature, mild\"], \"all_score\": [0.8393914699554443, 0.8264893889427185, 0.8134717345237732, 0.812436580657959, 0.8091142177581787]}, {\"begin\": 457, \"end\": 468, \"ner_chunk\": \"hypertension\", \"ner_label\": \"HP\", \"ner_confidence\": \"0.995\", \"concept_code\": \"HP:0000822\", \"resolution\": \"hypertension\", \"score\": 0.9999997615814209, \"aux\": [\"SNOMEDCT_US:24184005||SNOMEDCT_US:38341003||UMLS:C0020538||UMLS:C0497247\", \"SNOMEDCT_US:24184005||SNOMEDCT_US:38341003||UMLS:C0020538||UMLS:C0497247\", \"SNOMEDCT_US:24184005||SNOMEDCT_US:38341003||UMLS:C0020538||UMLS:C0497247\", \"SNOMEDCT_US:24184005||SNOMEDCT_US:38341003||UMLS:C0020538||UMLS:C0497247\", \"-\"], \"all_codes\": [\"HP:0000822\", \"HP:0000822\", \"HP:0000822\", \"HP:0000822\", \"HP:0032263\"], \"all_resolutions\": [\"hypertension\", \"high blood pressure\", \"arterial hypertension\", \"systemic hypertension\", \"increased blood pressure\"], \"all_score\": [0.9999997615814209, 0.8678927421569824, 0.8463542461395264, 0.8321571350097656, 0.8045231103897095]}, {\"begin\": 471, \"end\": 484, \"ner_chunk\": \"hypothyroidism\", \"ner_label\": \"HP\", \"ner_confidence\": \"0.9985\", \"concept_code\": \"HP:0000821\", \"resolution\": \"hypothyroidism\", \"score\": 1.0000001192092896, \"aux\": [\"SNOMEDCT_US:40930008||UMLS:C0020676\", \"UMLS:C0749420||UMLS:C4020805\", \"SNOMEDCT_US:82598004||UMLS:C3665349\", \"SNOMEDCT_US:37429009||UMLS:C0220998\", \"SNOMEDCT_US:82598004||UMLS:C3665349\"], \"all_codes\": [\"HP:0000821\", \"HP:0008191\", \"HP:0008245\", \"HP:0008237\", \"HP:0008245\"], \"all_resolutions\": [\"hypothyroidism\", \"athyroidal hypothyroidism\", \"pituitary hypothyroidism\", \"hypothalamic hypothyroidism\", \"tsh deficient hypothyroidism\"], \"all_score\": [1.0000001192092896, 0.9175962209701538, 0.903052031993866, 0.869316577911377, 0.8513739109039307]}, {\"begin\": 530, \"end\": 543, \"ner_chunk\": \"hydronephrosis\", \"ner_label\": \"HP\", \"ner_confidence\": \"0.9873\", \"concept_code\": \"HP:0000126\", \"resolution\": \"hydronephrosis\", \"score\": 1.000000238418579, \"aux\": [\"Fyler:4502||SNOMEDCT_US:43064006||UMLS:C0020295\", \"SNOMEDCT_US:52254009||UMLS:C0027726\", \"SNOMEDCT_US:430035004||UMLS:C2317073\", \"SNOMEDCT_US:48796009||UMLS:C3501848\", \"SNOMEDCT_US:430035004||UMLS:C2317073\"], \"all_codes\": [\"HP:0000126\", \"HP:0000100\", \"HP:0010945\", \"HP:0008677\", \"HP:0010945\"], \"all_resolutions\": [\"hydronephrosis\", \"nephrosis\", \"mild foetal hydronephrosis\", \"congenital nephrosis\", \"mild fetal hydronephrosis\"], \"all_score\": [1.000000238418579, 0.8544374108314514, 0.787274956703186, 0.7787907123565674, 0.772007942199707]}]}\n",
      "{\"predictions\": [{\"begin\": 63, \"end\": 67, \"ner_chunk\": \"cough\", \"ner_label\": \"HP\", \"ner_confidence\": \"0.932\", \"concept_code\": \"HP:0012735\", \"resolution\": \"cough\", \"score\": 0.9999998807907104, \"aux\": [\"SNOMEDCT_US:263731006||SNOMEDCT_US:272039006||SNOMEDCT_US:49727002||UMLS:C0010200\", \"SNOMEDCT_US:263731006||SNOMEDCT_US:272039006||SNOMEDCT_US:49727002||UMLS:C0010200\", \"-\", \"SNOMEDCT_US:66857006||SNOMEDCT_US:6686005||UMLS:C0019079\", \"-\"], \"all_codes\": [\"HP:0012735\", \"HP:0012735\", \"HP:0031245\", \"HP:0002105\", \"HP:0031246\"], \"all_resolutions\": [\"cough\", \"coughing\", \"wet cough\", \"coughing up blood\", \"dry cough\"], \"all_score\": [0.9999998807907104, 0.9338811635971069, 0.8569259643554688, 0.8362500667572021, 0.8267486095428467]}, {\"begin\": 91, \"end\": 95, \"ner_chunk\": \"cough\", \"ner_label\": \"HP\", \"ner_confidence\": \"0.9692\", \"concept_code\": \"HP:0012735\", \"resolution\": \"cough\", \"score\": 0.9999998807907104, \"aux\": [\"SNOMEDCT_US:263731006||SNOMEDCT_US:272039006||SNOMEDCT_US:49727002||UMLS:C0010200\", \"SNOMEDCT_US:263731006||SNOMEDCT_US:272039006||SNOMEDCT_US:49727002||UMLS:C0010200\", \"-\", \"SNOMEDCT_US:66857006||SNOMEDCT_US:6686005||UMLS:C0019079\", \"-\"], \"all_codes\": [\"HP:0012735\", \"HP:0012735\", \"HP:0031245\", \"HP:0002105\", \"HP:0031246\"], \"all_resolutions\": [\"cough\", \"coughing\", \"wet cough\", \"coughing up blood\", \"dry cough\"], \"all_score\": [0.9999998807907104, 0.9338811635971069, 0.8569259643554688, 0.8362500667572021, 0.8267486095428467]}, {\"begin\": 173, \"end\": 177, \"ner_chunk\": \"fever\", \"ner_label\": \"HP\", \"ner_confidence\": \"0.9686\", \"concept_code\": \"HP:0001945\", \"resolution\": \"fever\", \"score\": 1.0000003576278687, \"aux\": [\"SNOMEDCT_US:386661006||SNOMEDCT_US:50177009||UMLS:C0015967\", \"-\", \"SNOMEDCT_US:304213008||UMLS:C0239574\", \"-\", \"-\"], \"all_codes\": [\"HP:0001945\", \"HP:0025215\", \"HP:0011134\", \"HP:0032323\", \"HP:0025256\"], \"all_resolutions\": [\"fever\", \"triggered by fever\", \"mild fever\", \"periodic fever\", \"fever improves condition\"], \"all_score\": [1.0000003576278687, 0.8348252177238464, 0.7997647523880005, 0.789909839630127, 0.7785427570343018]}, {\"begin\": 248, \"end\": 255, \"ner_chunk\": \"vomiting\", \"ner_label\": \"HP\", \"ner_confidence\": \"0.9931\", \"concept_code\": \"HP:0002013\", \"resolution\": \"vomiting\", \"score\": 1.0000001192092896, \"aux\": [\"MEDDRA:10047700||SNOMEDCT_US:249497008||SNOMEDCT_US:300359004||SNOMEDCT_US:422400008||UMLS:C0042963\", \"MEDDRA:10047700||SNOMEDCT_US:249497008||SNOMEDCT_US:300359004||SNOMEDCT_US:422400008||UMLS:C0042963\", \"SNOMEDCT_US:16932000||UMLS:C0027498\", \"SNOMEDCT_US:8579004||UMLS:C0221151\", \"-\"], \"all_codes\": [\"HP:0002013\", \"HP:0002013\", \"HP:0002017\", \"HP:0002587\", \"HP:0025089\"], \"all_resolutions\": [\"vomiting\", \"throwing up\", \"nausea and vomiting\", \"projectile vomiting\", \"faecal vomiting\"], \"all_score\": [1.0000001192092896, 0.8848099708557129, 0.8553993701934814, 0.8523432016372681, 0.8342018127441406]}, {\"begin\": 274, \"end\": 282, \"ner_chunk\": \"skin rash\", \"ner_label\": \"HP\", \"ner_confidence\": \"0.8408\", \"concept_code\": \"HP:0000988\", \"resolution\": \"skin rash\", \"score\": 1.000000238418579, \"aux\": [\"MEDDRA:10037844||SNOMEDCT_US:112625008||SNOMEDCT_US:271807003||UMLS:C0015230\", \"MEDDRA:10037844||SNOMEDCT_US:112625008||SNOMEDCT_US:271807003||UMLS:C0015230\", \"-\", \"SNOMEDCT_US:279333002||SNOMEDCT_US:418290006||SNOMEDCT_US:418363000||SNOMEDCT_US:424492005||UMLS:C0033774\", \"-\"], \"all_codes\": [\"HP:0000988\", \"HP:0000988\", \"HP:0025300\", \"HP:0000989\", \"HP:0033605\"], \"all_resolutions\": [\"skin rash\", \"rash\", \"butterfly rash\", \"itchy skin\", \"pustular rash\"], \"all_score\": [1.000000238418579, 0.903679370880127, 0.8198336362838745, 0.7995640635490417, 0.7980647683143616]}, {\"begin\": 288, \"end\": 295, \"ner_chunk\": \"cyanosis\", \"ner_label\": \"HP\", \"ner_confidence\": \"0.9952\", \"concept_code\": \"HP:0000961\", \"resolution\": \"cyanosis\", \"score\": 0.9999992251396179, \"aux\": [\"SNOMEDCT_US:119419001||SNOMEDCT_US:3415004||UMLS:C0010520\", \"-\", \"-\", \"-\", \"-\"], \"all_codes\": [\"HP:0000961\", \"HP:0034034\", \"HP:0034031\", \"HP:0032556\", \"HP:0034032\"], \"all_resolutions\": [\"cyanosis\", \"differential cyanosis\", \"facial cyanosis\", \"circumoral cyanosis\", \"central cyanosis\"], \"all_score\": [0.9999992251396179, 0.8496111631393433, 0.8461570143699646, 0.8398361206054688, 0.8376049995422363]}]}\n"
     ]
    }
   ],
   "source": [
    "process_s3_jsonlines_output_and_save(validation_jsonl_file_name)"
   ]
  },
  {
   "cell_type": "code",
   "execution_count": null,
   "metadata": {
    "tags": []
   },
   "outputs": [],
   "source": [
    "model.delete_model()"
   ]
  },
  {
   "cell_type": "markdown",
   "metadata": {},
   "source": [
    "### Unsubscribe to the listing (optional)"
   ]
  },
  {
   "cell_type": "markdown",
   "metadata": {
    "tags": []
   },
   "source": [
    "If you would like to unsubscribe to the model package, follow these steps. Before you cancel the subscription, ensure that you do not have any [deployable model](https://console.aws.amazon.com/sagemaker/home#/models) created from the model package or using the algorithm. Note - You can find this information by looking at the container name associated with the model. \n",
    "\n",
    "**Steps to unsubscribe to product from AWS Marketplace**:\n",
    "1. Navigate to __Machine Learning__ tab on [__Your Software subscriptions page__](https://aws.amazon.com/marketplace/ai/library?productType=ml&ref_=mlmp_gitdemo_indust)\n",
    "2. Locate the listing that you want to cancel the subscription for, and then choose __Cancel Subscription__  to cancel the subscription.\n",
    "\n"
   ]
  }
 ],
 "metadata": {
  "instance_type": "ml.t3.medium",
  "kernelspec": {
   "display_name": "conda_python3",
   "language": "python",
   "name": "conda_python3"
  },
  "language_info": {
   "codemirror_mode": {
    "name": "ipython",
    "version": 3
   },
   "file_extension": ".py",
   "mimetype": "text/x-python",
   "name": "python",
   "nbconvert_exporter": "python",
   "pygments_lexer": "ipython3",
   "version": "3.10.16"
  }
 },
 "nbformat": 4,
 "nbformat_minor": 4
}

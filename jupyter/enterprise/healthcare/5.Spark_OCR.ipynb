{
 "nbformat": 4,
 "nbformat_minor": 0,
 "metadata": {
  "colab": {
   "name": "5_Spark_OCR.ipynb",
   "provenance": [],
   "collapsed_sections": [],
   "toc_visible": true
  },
  "kernelspec": {
   "display_name": "Python 3",
   "language": "python",
   "name": "python3"
  },
  "language_info": {
   "codemirror_mode": {
    "name": "ipython",
    "version": 3
   },
   "file_extension": ".py",
   "mimetype": "text/x-python",
   "name": "python",
   "nbconvert_exporter": "python",
   "pygments_lexer": "ipython3",
   "version": "3.7.4"
  }
 },
 "cells": [
  {
   "cell_type": "markdown",
   "metadata": {
    "id": "I08sFJYCxR0Z"
   },
   "source": [
    "![JohnSnowLabs](https://nlp.johnsnowlabs.com/assets/images/logo.png)"
   ]
  },
  {
   "cell_type": "markdown",
   "metadata": {
    "id": "VJbAaitZrXus"
   },
   "source": [
    "[![Open In Colab](https://colab.research.google.com/assets/colab-badge.svg)](https://colab.research.google.com/github/JohnSnowLabs/spark-nlp-workshop/blob/master/jupyter/enterprise/healthcare/5.Spark_OCR.ipynb)"
   ]
  },
  {
   "cell_type": "markdown",
   "metadata": {
    "id": "Niy3mZAjoayg"
   },
   "source": [
    "# Spark OCR "
   ]
  },
  {
   "cell_type": "markdown",
   "metadata": {
    "id": "okhT7AcXxben"
   },
   "source": [
    "## Colab Setup"
   ]
  },
  {
   "cell_type": "code",
   "metadata": {
    "id": "W5Bo9XgBJ625"
   },
   "source": [
    "import json\n",
    "\n",
    "from google.colab import files\n",
    "\n",
    "license_keys = files.upload()\n",
    "\n",
    "with open(list(license_keys.keys())[0]) as f:\n",
    "    license_keys = json.load(f)\n",
    "\n",
    "\n",
    "ocr_secret = license_keys[\"SPARK_OCR_SECRET\"]         # OCR_SECRET\n",
    "ocr_version = ocr_secret.split(\"-\")[0]                # OCR_VERSION\n",
    "jsl_secret = license_keys[\"SECRET\"]                   # SECRET\n",
    "jsl_version = jsl_secret.split(\"-\")[0]                # JSL_VERSION\n",
    "public_version = license_keys[\"PUBLIC_VERSION\"]       # PUBLIC_VERSION   "
   ],
   "execution_count": null,
   "outputs": []
  },
  {
   "cell_type": "code",
   "metadata": {
    "id": "tfEv5R8pI8g0"
   },
   "source": [
    "# Install Java 8 if in Google Colab\n",
    "%%bash\n",
    "if python -c 'import google.colab' &> /dev/null; then\n",
    "    echo \"Run on Google Colab!\"\n",
    "    echo \"Install Open JDK\"\n",
    "    apt-get install -y openjdk-8-jdk-headless -qq > /dev/null\n",
    "    java -version\n",
    "fi"
   ],
   "execution_count": null,
   "outputs": []
  },
  {
   "cell_type": "code",
   "metadata": {
    "id": "0sWxFfdYLQI8"
   },
   "source": [
    "import sys\n",
    "import os\n",
    "\n",
    "# Adjust environmental variable if in Google Colab\n",
    "if 'google.colab' in sys.modules:\n",
    "  os.environ[\"JAVA_HOME\"] = \"/usr/lib/jvm/java-8-openjdk-amd64\"\n",
    "  os.environ[\"PATH\"] = os.environ[\"JAVA_HOME\"] + \"/bin:\" + os.environ[\"PATH\"]\n",
    "\n",
    "os.environ['JSL_OCR_LICENSE'] = license_keys[\"SPARK_OCR_LICENSE\"]\n",
    "\n",
    "!java -version"
   ],
   "execution_count": null,
   "outputs": []
  },
  {
   "cell_type": "code",
   "metadata": {
    "id": "-38_FA033u3E"
   },
   "source": [
    "# Install Spark OCR\n",
    "%pip install spark-ocr==$ocr_version\\.spark30 --extra-index-url=https://pypi.johnsnowlabs.com/$ocr_secret --upgrade"
   ],
   "execution_count": null,
   "outputs": []
  },
  {
   "cell_type": "markdown",
   "metadata": {
    "id": "LRGeiAF1q1vv"
   },
   "source": [
    "<b><h1>!!! ATTENTION !!!\n",
    "\n",
    "After you run this cell ^^ , you need to RESTART the COLAB RUNTIME and RE-RUN all cells above AGAIN due to Colab predefined settings.**"
   ]
  },
  {
   "cell_type": "code",
   "metadata": {
    "id": "lC4Tt3onRBJy"
   },
   "source": [
    "import sparkocr\n",
    "import sys\n",
    "from pyspark.sql import SparkSession\n",
    "from sparkocr import start\n",
    "import os\n",
    "import base64\n",
    "from sparkocr.transformers import *\n",
    "from pyspark.ml import PipelineModel\n",
    "from pyspark.sql import functions as F\n",
    "from sparkocr.enums import *\n",
    "from sparkocr.utils import display_images"
   ],
   "execution_count": null,
   "outputs": []
  },
  {
   "cell_type": "code",
   "metadata": {
    "id": "LME81NOHFjqC",
    "colab": {
     "base_uri": "https://localhost:8080/",
     "height": 270
    },
    "outputId": "cc52e711-c0c1-4a49-a489-45177649eb44"
   },
   "source": [
    "# Start spark\n",
    "spark = start(secret=ocr_secret)\n",
    "spark"
   ],
   "execution_count": null,
   "outputs": []
  },
  {
   "cell_type": "markdown",
   "metadata": {
    "id": "wrcd5xhwrcC_"
   },
   "source": [
    "## Pdf to Text \n"
   ]
  },
  {
   "cell_type": "code",
   "metadata": {
    "id": "Kj8tsYfljiBP"
   },
   "source": [
    "!wget -q -O sample_doc.pdf http://www.asx.com.au/asxpdf/20171103/pdf/43nyyw9r820c6r.pdf"
   ],
   "execution_count": null,
   "outputs": []
  },
  {
   "cell_type": "code",
   "metadata": {
    "id": "FwAGTafIj4Bi"
   },
   "source": [
    "def pipeline():\n",
    "    \n",
    "    # Transform PDF document to images per page\n",
    "    pdf_to_image = PdfToImage()\\\n",
    "          .setInputCol(\"content\")\\\n",
    "          .setOutputCol(\"image\")\n",
    "\n",
    "    # Run OCR\n",
    "    ocr = ImageToText()\\\n",
    "          .setInputCol(\"image\")\\\n",
    "          .setOutputCol(\"text\")\\\n",
    "          .setConfidenceThreshold(65)\n",
    "    \n",
    "    pipeline = PipelineModel(stages=[\n",
    "        pdf_to_image,\n",
    "        ocr\n",
    "    ])\n",
    "    \n",
    "    return pipeline"
   ],
   "execution_count": null,
   "outputs": []
  },
  {
   "cell_type": "code",
   "metadata": {
    "id": "xNh4i1Woj6oo"
   },
   "source": [
    "pdf = 'sample_doc.pdf'\n",
    "pdf_example_df = spark.read.format(\"binaryFile\").load(pdf).cache()"
   ],
   "execution_count": null,
   "outputs": []
  },
  {
   "cell_type": "code",
   "metadata": {
    "id": "Tp7a9yMqkCGu"
   },
   "source": [
    "result = pipeline().transform(pdf_example_df).cache()"
   ],
   "execution_count": null,
   "outputs": []
  },
  {
   "cell_type": "code",
   "metadata": {
    "colab": {
     "base_uri": "https://localhost:8080/"
    },
    "id": "VWND8q95kE47",
    "outputId": "dc37a159-eeb2-4c17-b251-d11d89baaac6"
   },
   "source": [
    "result.select(\"pagenum\",\"text\", \"confidence\").show()"
   ],
   "execution_count": null,
   "outputs": []
  },
  {
   "cell_type": "code",
   "metadata": {
    "colab": {
     "base_uri": "https://localhost:8080/"
    },
    "id": "rj7rv4b7kTNo",
    "outputId": "9935b6d8-0c0a-43a9-ea26-803e5e1f2ab8"
   },
   "source": [
    "result.select(\"text\").collect()"
   ],
   "execution_count": null,
   "outputs": []
  },
  {
   "cell_type": "code",
   "metadata": {
    "colab": {
     "base_uri": "https://localhost:8080/"
    },
    "id": "bqbnotCfkK58",
    "outputId": "cbf32dab-c76b-4aed-d176-3fb921cf1f82"
   },
   "source": [
    "print(\"\\n\".join([row.text for row in result.select(\"text\").collect()]))\n"
   ],
   "execution_count": null,
   "outputs": []
  },
  {
   "cell_type": "markdown",
   "metadata": {
    "id": "kdsJk00Br8CC"
   },
   "source": [
    "###  With Skew Correction"
   ]
  },
  {
   "cell_type": "code",
   "metadata": {
    "id": "BAXZ3PFNjmgo"
   },
   "source": [
    "from sparkocr.transformers import *\n",
    "from pyspark.ml import PipelineModel\n",
    "from sparkocr.utils import display_image\n",
    "from sparkocr.metrics import score"
   ],
   "execution_count": null,
   "outputs": []
  },
  {
   "cell_type": "code",
   "metadata": {
    "id": "6cIb7V9IsBNi"
   },
   "source": [
    "def ocr_pipeline(skew_correction=False):\n",
    "    \n",
    "    # Transforrm PDF document to images per page\n",
    "    pdf_to_image = PdfToImage()\\\n",
    "          .setInputCol(\"content\")\\\n",
    "          .setOutputCol(\"image\")\n",
    "\n",
    "    # Image skew corrector \n",
    "    skew_corrector = ImageSkewCorrector()\\\n",
    "          .setInputCol(\"image\")\\\n",
    "          .setOutputCol(\"corrected_image\")\\\n",
    "          .setAutomaticSkewCorrection(skew_correction)\n",
    "\n",
    "    # Run OCR\n",
    "    ocr = ImageToText()\\\n",
    "          .setInputCol(\"corrected_image\")\\\n",
    "          .setOutputCol(\"text\")\n",
    "    \n",
    "    pipeline = PipelineModel(stages=[\n",
    "        pdf_to_image,\n",
    "        skew_corrector,\n",
    "        ocr\n",
    "    ])\n",
    "    \n",
    "    return pipeline"
   ],
   "execution_count": null,
   "outputs": []
  },
  {
   "cell_type": "code",
   "metadata": {
    "id": "OJcxUPPqOois"
   },
   "source": [
    "!wget -q https://raw.githubusercontent.com/JohnSnowLabs/spark-nlp-workshop/master/tutorials/Certification_Trainings/Healthcare/data/ocr/400_rot.pdf"
   ],
   "execution_count": null,
   "outputs": []
  },
  {
   "cell_type": "code",
   "metadata": {
    "id": "0UlhfHEYtU76"
   },
   "source": [
    "pdf_rotated_df = spark.read.format(\"binaryFile\").load('400_rot.pdf').cache()"
   ],
   "execution_count": null,
   "outputs": []
  },
  {
   "cell_type": "code",
   "metadata": {
    "id": "bYQe1heJtXYx"
   },
   "source": [
    "pdf_pipeline = ocr_pipeline(False) \n",
    "\n",
    "result = pdf_pipeline.transform(pdf_rotated_df).cache()"
   ],
   "execution_count": null,
   "outputs": []
  },
  {
   "cell_type": "code",
   "metadata": {
    "colab": {
     "base_uri": "https://localhost:8080/"
    },
    "id": "-5lY6fZnQOj4",
    "outputId": "0eb11a56-da8d-4e76-fb27-d7a4ab942df4"
   },
   "source": [
    "result.show()"
   ],
   "execution_count": null,
   "outputs": []
  },
  {
   "cell_type": "code",
   "metadata": {
    "colab": {
     "base_uri": "https://localhost:8080/"
    },
    "id": "KIngWL7bQDcb",
    "outputId": "d290e531-6f8a-42f1-c3a8-3bf80d155f95"
   },
   "source": [
    "result.select(\"pagenum\").collect()[0].pagenum"
   ],
   "execution_count": null,
   "outputs": []
  },
  {
   "cell_type": "code",
   "metadata": {
    "colab": {
     "base_uri": "https://localhost:8080/",
     "height": 1000
    },
    "id": "rR57LCA5PluJ",
    "outputId": "023b1a89-5f8c-4061-be65-43e9af8dcc2d"
   },
   "source": [
    "display_image(result.select(\"image\").collect()[0].image)"
   ],
   "execution_count": null,
   "outputs": []
  },
  {
   "cell_type": "markdown",
   "metadata": {
    "id": "dl-Ilq4Zwfhq"
   },
   "source": [
    "### Display recognized text without skew correction\n"
   ]
  },
  {
   "cell_type": "code",
   "metadata": {
    "colab": {
     "base_uri": "https://localhost:8080/"
    },
    "id": "9EU_b2y4tavx",
    "outputId": "5a5c9289-3c64-4619-e479-15f2d086b9d7"
   },
   "source": [
    "result.select(\"pagenum\",\"text\", \"confidence\").show()"
   ],
   "execution_count": null,
   "outputs": []
  },
  {
   "cell_type": "code",
   "metadata": {
    "colab": {
     "base_uri": "https://localhost:8080/"
    },
    "id": "eNxCvtgqwlIC",
    "outputId": "382a8780-b9e3-44b2-e969-fd91f406cc90"
   },
   "source": [
    "print(\"\\n\".join([row.text for row in result.select(\"text\").collect()]))"
   ],
   "execution_count": null,
   "outputs": []
  },
  {
   "cell_type": "markdown",
   "metadata": {
    "id": "quH_2fczw0Td"
   },
   "source": [
    "### Display results with skew correction"
   ]
  },
  {
   "cell_type": "code",
   "metadata": {
    "colab": {
     "base_uri": "https://localhost:8080/"
    },
    "id": "6SPde4WBQ-Vt",
    "outputId": "33471d27-7d97-4594-f1f4-e46416e2daf7"
   },
   "source": [
    "pdf_pipeline = ocr_pipeline(True) \n",
    "\n",
    "corrected_result = pdf_pipeline.transform(pdf_rotated_df).cache()\n",
    "\n",
    "print(\"\\n\".join([row.text for row in corrected_result.select(\"text\").collect()]))\n"
   ],
   "execution_count": null,
   "outputs": []
  },
  {
   "cell_type": "code",
   "metadata": {
    "colab": {
     "base_uri": "https://localhost:8080/"
    },
    "id": "vgn7YFZtw7kY",
    "outputId": "bc0d8311-d9a1-42dc-e36c-c1150afa46bc"
   },
   "source": [
    "corrected_result.select(\"pagenum\",\"text\", \"confidence\").show()\n"
   ],
   "execution_count": null,
   "outputs": []
  },
  {
   "cell_type": "markdown",
   "metadata": {
    "id": "9Ek0XS9CzBTL"
   },
   "source": [
    "### Display skew corrected images"
   ]
  },
  {
   "cell_type": "code",
   "metadata": {
    "colab": {
     "base_uri": "https://localhost:8080/",
     "height": 1000
    },
    "id": "iKsIxz7EzCs6",
    "outputId": "67762c67-8185-4603-aafc-1d3268195fcd"
   },
   "source": [
    "display_image(corrected_result.select(\"corrected_image\").collect()[0].corrected_image)"
   ],
   "execution_count": null,
   "outputs": []
  },
  {
   "cell_type": "markdown",
   "metadata": {
    "id": "3FyRn9dHxMU5"
   },
   "source": [
    "### Compute score and compare\n",
    "Read original text and calculate scores for both results."
   ]
  },
  {
   "cell_type": "code",
   "metadata": {
    "id": "qUsJW3AoRTXd"
   },
   "source": [
    "!wget -q https://raw.githubusercontent.com/JohnSnowLabs/spark-nlp-workshop/master/tutorials/Certification_Trainings/Healthcare/data/ocr/400.txt"
   ],
   "execution_count": null,
   "outputs": []
  },
  {
   "cell_type": "code",
   "metadata": {
    "colab": {
     "base_uri": "https://localhost:8080/"
    },
    "id": "XszOJzejwAwR",
    "outputId": "b98ffbe9-1453-476e-b12a-280b8afbf9a6"
   },
   "source": [
    "detected = \"\\n\".join([row.text for row in result.collect()])\n",
    "corrected_detected = \"\\n\".join([row.text for row in corrected_result.collect()])\n",
    "\n",
    "# read original text\n",
    "pdf_rotated_text = open('400.txt', \"r\").read()\n",
    "\n",
    "# compute scores\n",
    "detected_score = score(pdf_rotated_text, detected)\n",
    "corrected_score = score(pdf_rotated_text, corrected_detected)\n",
    "\n",
    "#  print scores\n",
    "print(\"Score without skew correction: {0}\".format(detected_score))\n",
    "print(\"Score with skew correction: {0}\".format(corrected_score))"
   ],
   "execution_count": null,
   "outputs": []
  },
  {
   "cell_type": "markdown",
   "metadata": {
    "id": "HT2g2VF4STV8"
   },
   "source": [
    "## Reading multiple pdfs from folder"
   ]
  },
  {
   "cell_type": "code",
   "metadata": {
    "colab": {
     "base_uri": "https://localhost:8080/"
    },
    "id": "EoWSrO2E2WBg",
    "outputId": "32436c3f-ab32-4c23-9734-56c8be5ac14f"
   },
   "source": [
    "pdf_path = \"/content/*.pdf\"\n",
    "\n",
    "pdfs = spark.read.format(\"binaryFile\").load(pdf_path).cache()\n",
    "#images = spark.read.format(\"binaryFile\").load('text_with_noise.png').cache()\n",
    "\n",
    "pdfs.count()"
   ],
   "execution_count": null,
   "outputs": []
  },
  {
   "cell_type": "code",
   "metadata": {
    "id": "t1HmMgqLuxvi"
   },
   "source": [
    "# Transforrm PDF document to images per page\n",
    "pdf_to_image = PdfToImage()\\\n",
    "      .setInputCol(\"content\")\\\n",
    "      .setOutputCol(\"image\")\n",
    "\n",
    "# Run OCR\n",
    "ocr = ImageToText()\\\n",
    "      .setInputCol(\"image\")\\\n",
    "      .setOutputCol(\"text\")\\\n",
    "      .setConfidenceThreshold(65)\\\n",
    "      .setIgnoreResolution(False)\n",
    "\n",
    "ocr_pipeline = PipelineModel(stages=[\n",
    "    pdf_to_image,\n",
    "    ocr\n",
    "])\n"
   ],
   "execution_count": null,
   "outputs": []
  },
  {
   "cell_type": "code",
   "metadata": {
    "id": "vF9M6OC_4UGU"
   },
   "source": [
    "results = ocr_pipeline.transform(pdfs)\n"
   ],
   "execution_count": null,
   "outputs": []
  },
  {
   "cell_type": "code",
   "metadata": {
    "colab": {
     "base_uri": "https://localhost:8080/"
    },
    "id": "pKfGC4D2aR1d",
    "outputId": "dd88f299-075b-4ca4-aeeb-36a855910acf"
   },
   "source": [
    "results.columns"
   ],
   "execution_count": null,
   "outputs": []
  },
  {
   "cell_type": "code",
   "metadata": {
    "colab": {
     "base_uri": "https://localhost:8080/"
    },
    "id": "HBPkZ7QeaTif",
    "outputId": "284b7683-643f-470c-f5b9-9124e3a18fb9"
   },
   "source": [
    "results.select('path','confidence','text').show()"
   ],
   "execution_count": null,
   "outputs": []
  },
  {
   "cell_type": "markdown",
   "metadata": {
    "id": "kXy09T8mwRJF"
   },
   "source": [
    "## Image processing after reading a pdf"
   ]
  },
  {
   "cell_type": "code",
   "metadata": {
    "id": "G2O7WqltKVR0"
   },
   "source": [
    "from sparkocr.enums import *\n",
    "\n",
    "# Read binary as image\n",
    "pdf_to_image = PdfToImage()\\\n",
    "  .setInputCol(\"content\")\\\n",
    "  .setOutputCol(\"image\")\\\n",
    "  .setResolution(400)\n",
    "\n",
    "# Binarize using adaptive tresholding\n",
    "binarizer = ImageAdaptiveThresholding()\\\n",
    "  .setInputCol(\"image\")\\\n",
    "  .setOutputCol(\"binarized_image\")\\\n",
    "  .setBlockSize(91)\\\n",
    "  .setOffset(50)\n",
    "\n",
    "# Apply morphology opening\n",
    "opening = ImageMorphologyOperation()\\\n",
    "  .setKernelShape(KernelShape.SQUARE)\\\n",
    "  .setOperation(MorphologyOperationType.OPENING)\\\n",
    "  .setKernelSize(3)\\\n",
    "  .setInputCol(\"binarized_image\")\\\n",
    "  .setOutputCol(\"opening_image\")\n",
    "\n",
    "# Remove small objects\n",
    "remove_objects = ImageRemoveObjects()\\\n",
    "  .setInputCol(\"opening_image\")\\\n",
    "  .setOutputCol(\"corrected_image\")\\\n",
    "  .setMinSizeObject(130)\n",
    "\n",
    "# Image Layout Analyzer for detect regions\n",
    "image_layout_analyzer = ImageLayoutAnalyzer()\\\n",
    "  .setInputCol(\"corrected_image\")\\\n",
    "  .setOutputCol(\"region\")\\\n",
    "\n",
    "draw_regions = ImageDrawRegions()\\\n",
    "  .setInputCol(\"corrected_image\")\\\n",
    "  .setInputRegionsCol(\"region\")\\\n",
    "  .setOutputCol(\"image_with_regions\")\n",
    "\n",
    "# Run tesseract OCR for corrected image\n",
    "ocr_corrected = ImageToText()\\\n",
    "  .setInputCol(\"corrected_image\")\\\n",
    "  .setOutputCol(\"corrected_text\")\\\n",
    "  .setPositionsCol(\"corrected_positions\")\\\n",
    "  .setConfidenceThreshold(65)\n",
    "\n",
    "# Run OCR for original image\n",
    "ocr = ImageToText()\\\n",
    "  .setInputCol(\"image\")\\\n",
    "  .setOutputCol(\"text\")\n",
    "\n",
    "# OCR pipeline\n",
    "image_pipeline = PipelineModel(stages=[\n",
    "    pdf_to_image,\n",
    "    binarizer,\n",
    "    opening,\n",
    "    remove_objects,\n",
    "    image_layout_analyzer,\n",
    "    draw_regions,\n",
    "    ocr,\n",
    "    ocr_corrected\n",
    "])"
   ],
   "execution_count": null,
   "outputs": []
  },
  {
   "cell_type": "code",
   "metadata": {
    "id": "tM5rz4KwtBEL"
   },
   "source": [
    "! wget -q https://raw.githubusercontent.com/JohnSnowLabs/spark-ocr-workshop/master/jupyter/data/pdfs/noised.pdf"
   ],
   "execution_count": null,
   "outputs": []
  },
  {
   "cell_type": "code",
   "metadata": {
    "colab": {
     "base_uri": "https://localhost:8080/"
    },
    "id": "JAIAhfJitIPZ",
    "outputId": "9e6f8c32-ca22-4c2d-db21-ba4e7fa09e74"
   },
   "source": [
    "image_df = spark.read.format(\"binaryFile\").load('noised.pdf').cache()\n",
    "image_df.show()"
   ],
   "execution_count": null,
   "outputs": []
  },
  {
   "cell_type": "code",
   "metadata": {
    "id": "VsHSMgLqtOo-"
   },
   "source": [
    "result = image_pipeline \\\n",
    ".transform(image_df) \\\n",
    ".cache()"
   ],
   "execution_count": null,
   "outputs": []
  },
  {
   "cell_type": "code",
   "metadata": {
    "colab": {
     "base_uri": "https://localhost:8080/",
     "height": 1000
    },
    "id": "wX7phZ3z0BYj",
    "outputId": "4e4bf5fa-0c13-4eab-bcc9-6ebb77a69ddb"
   },
   "source": [
    "for r in result.distinct().collect():\n",
    "  \n",
    "    print(\"Original: %s\" % r.path)\n",
    "    display_image(r.image)\n",
    "\n",
    "    print(\"Corrected: %s\" % r.path)\n",
    "    display_image(r.corrected_image)"
   ],
   "execution_count": null,
   "outputs": []
  },
  {
   "cell_type": "markdown",
   "metadata": {
    "id": "VD2BoEMwt8oZ"
   },
   "source": [
    "### Results with original image"
   ]
  },
  {
   "cell_type": "code",
   "metadata": {
    "colab": {
     "base_uri": "https://localhost:8080/"
    },
    "id": "cY__BZUStTVw",
    "outputId": "a368bfb7-7423-4cf3-fd9b-1bf401a0cdec"
   },
   "source": [
    "from termcolor import colored\n",
    "\n",
    "grouped_results = result.groupBy(\"path\", \"pagenum\").agg(F.concat_ws(\"\", F.collect_list(\"text\")).alias(\"text\"))\n",
    "for row in grouped_results.collect():\n",
    "    print(colored(\"Filename:\\n%s , page: %d\" % (row.path, row.pagenum), \"red\"))\n",
    "    print(\"Recognized text:\\n%s\" % row.text)"
   ],
   "execution_count": null,
   "outputs": []
  },
  {
   "cell_type": "markdown",
   "metadata": {
    "id": "mHOpQf8YtgwI"
   },
   "source": [
    "### Results with corrected image\n"
   ]
  },
  {
   "cell_type": "code",
   "metadata": {
    "colab": {
     "base_uri": "https://localhost:8080/"
    },
    "id": "QYLD5GYitUxQ",
    "outputId": "e50fa56b-6667-486a-a16f-dcfe22be15a5"
   },
   "source": [
    "grouped_results = result.groupBy(\"path\", \"pagenum\").agg(F.concat_ws(\"\", F.collect_list(\"corrected_text\")).alias(\"corrected_text\"))\n",
    "for row in grouped_results.collect():\n",
    "    print(colored(\"Filename:\\n%s , page: %d\" % (row.path, row.pagenum), \"red\"))\n",
    "    print(\"Recognized text:\\n%s\" % row.corrected_text)"
   ],
   "execution_count": null,
   "outputs": []
  },
  {
   "cell_type": "code",
   "metadata": {
    "colab": {
     "base_uri": "https://localhost:8080/"
    },
    "id": "KmcmM3NquFPW",
    "outputId": "29ac3d5c-ac9b-486b-8568-5166637b4ee4"
   },
   "source": [
    "result.columns"
   ],
   "execution_count": null,
   "outputs": []
  },
  {
   "cell_type": "markdown",
   "metadata": {
    "id": "_K582Shu1dUj"
   },
   "source": [
    "### Abby output"
   ]
  },
  {
   "cell_type": "code",
   "metadata": {
    "id": "ecBhTMWI1cGF"
   },
   "source": [
    "abbyy = \"\"\"-----\n",
    "% Date: 7/16/68\n",
    "X*: I; * • ■ Sample No. 5031___ — .*\n",
    "•* Original request made by _____Mr. C. L. Tucker, Jr. on\n",
    "Sample specifications written by\n",
    "BLEND CASING RECASING\n",
    "OLD GOLD STRAIGHT Tobacco Blend\n",
    "Control for Sample No. 5030\n",
    "John H. M. Bohlken\n",
    "FINAL FLAVOR\n",
    ") 7/10/68\n",
    "MENTHOL FLAVOR\n",
    "• Cigarettes; * . .v\\ . /,*, *, S •\n",
    "Brand --------- OLD GOLD STRAIGHT -V . ••••\n",
    "; . L e n g t h ------- — 85 mm. . : '\n",
    "Circumference-- 25.3 mm. • ' *;. • •\n",
    "P a p e r ---------- Ecusta 556 • * .\n",
    "F i r m n e s s---- —— OLD GOLD STRAIGHT . ! •■'\n",
    "D r a w ___________ OLD GOLD STRAIGHT\n",
    "W e i g h t --------- 0LD GOLD STRAIGHT Wrappings: « -\n",
    "Tipping Paper — — *\n",
    "p H n f —. — — _ _ ~ L a b e l s ----OLD GOLD STRAIGHT\n",
    "( • Filter Length-- . — Closures--- Standard Blue .\n",
    "^ ^ ; • Tear Tape— Gold\n",
    "Cartons --- OLD GOLD STRAIGHT\n",
    "s Requirements: . - •' • Markings-- Sample number on each\n",
    "• pack and carton Laboratory----- One Tray .\n",
    "O t h e r s --------- * , s • • . 4\n",
    "Laboratory A n a l ysis^ I \" '/***• * 7 ' ^ ^\n",
    "Tars and Nicotine, Taste Panel, Burning Time, Gas Phase Analysis,\n",
    "Benzo (A) Pyrene Analyses — J-ZZ-Zf'- (£. / •\n",
    "Responsibility;\n",
    "Tobacco B l e n d ------Manufacturing - A. Kraus . . * -\n",
    "Filter Production--- —\n",
    "• Making & P a c k i n g---Product Development , John H. M. Bohlken\n",
    "Shipping -----------\n",
    "Reports:\n",
    "t\n",
    "Written by — John H. M. Bohlken\n",
    "Original to - Mr. C. L. Tucker, Jr.\n",
    "Copies t o ---Dr. A. W. Spears\n",
    "• 9 ..\n",
    "\"\"\""
   ],
   "execution_count": null,
   "outputs": []
  },
  {
   "cell_type": "markdown",
   "metadata": {
    "id": "9V7_s8Bs1jZi"
   },
   "source": [
    "### Display original and corrected images with regions\n"
   ]
  },
  {
   "cell_type": "code",
   "metadata": {
    "colab": {
     "base_uri": "https://localhost:8080/",
     "height": 1000
    },
    "id": "J5-kjby21fl_",
    "outputId": "bd9f7216-3ae8-497a-beb8-c9ef5e93ad23"
   },
   "source": [
    "for r in result.select(\"path\",\"image\",\"image_with_regions\").distinct().collect():\n",
    "    print(\"Original: %s\" % r.path)\n",
    "    display_image(r.image)\n",
    "    print(\"Corrected: %s\" % r.path)\n",
    "    display_image(r.image_with_regions)"
   ],
   "execution_count": null,
   "outputs": []
  },
  {
   "cell_type": "markdown",
   "metadata": {
    "id": "DoR5iX2G989t"
   },
   "source": [
    "## Image (or Natural Scene) to Text"
   ]
  },
  {
   "cell_type": "code",
   "metadata": {
    "id": "zuaoi9H482Zl"
   },
   "source": [
    "! wget -q https://raw.githubusercontent.com/JohnSnowLabs/spark-ocr-workshop/master/jupyter/data/images/text_with_noise.png"
   ],
   "execution_count": null,
   "outputs": []
  },
  {
   "cell_type": "code",
   "metadata": {
    "id": "iR-lq_0j833B",
    "colab": {
     "base_uri": "https://localhost:8080/",
     "height": 963
    },
    "outputId": "c0c494b2-9479-4723-fcc2-06f06d1025a7"
   },
   "source": [
    "image_df = spark.read.format(\"binaryFile\").load('text_with_noise.png').cache()\n",
    "\n",
    "# Read binary as image\n",
    "binary_to_image = BinaryToImage()\n",
    "binary_to_image.setInputCol(\"content\")\n",
    "binary_to_image.setOutputCol(\"image\")\n",
    "\n",
    "# Scale image\n",
    "scaler = ImageScaler()\n",
    "scaler.setInputCol(\"image\")\n",
    "scaler.setOutputCol(\"scaled_image\")\n",
    "scaler.setScaleFactor(2.0)\n",
    "\n",
    "# Binarize using adaptive tresholding\n",
    "binarizer = ImageAdaptiveThresholding()\n",
    "binarizer.setInputCol(\"scaled_image\")\n",
    "binarizer.setOutputCol(\"binarized_image\")\n",
    "binarizer.setBlockSize(71)\n",
    "binarizer.setOffset(65)\n",
    "\n",
    "remove_objects = ImageRemoveObjects()\n",
    "remove_objects.setInputCol(\"binarized_image\")\n",
    "remove_objects.setOutputCol(\"cleared_image\")\n",
    "remove_objects.setMinSizeObject(400)\n",
    "remove_objects.setMaxSizeObject(4000)\n",
    "\n",
    "# Run OCR\n",
    "ocr = ImageToText()\n",
    "ocr.setInputCol(\"cleared_image\")\n",
    "ocr.setOutputCol(\"text\")\n",
    "ocr.setConfidenceThreshold(50)\n",
    "ocr.setIgnoreResolution(False)\n",
    "\n",
    "# OCR pipeline\n",
    "noisy_pipeline = PipelineModel(stages=[\n",
    "    binary_to_image,\n",
    "    scaler,\n",
    "    binarizer,\n",
    "    remove_objects,\n",
    "    ocr\n",
    "])\n",
    "\n",
    "\n",
    "result = noisy_pipeline \\\n",
    ".transform(image_df) \\\n",
    ".cache()\n",
    "\n",
    "\n",
    "for r in result.distinct().collect():\n",
    "    print(\"Original: %s\" % r.path)\n",
    "    display_image(r.image)\n",
    "    print(\"Binarized\")\n",
    "    display_image(r.binarized_image)\n",
    "    print(\"Removing objects\")\n",
    "    display_image(r.cleared_image)\n"
   ],
   "execution_count": null,
   "outputs": []
  },
  {
   "cell_type": "code",
   "metadata": {
    "colab": {
     "base_uri": "https://localhost:8080/"
    },
    "id": "_SRXlRr9_eGk",
    "outputId": "8ba8cb9b-69d2-4e58-c17a-333c465238f9"
   },
   "source": [
    "print(\"\\n\".join([row.text for row in result.select(\"text\").collect()]))"
   ],
   "execution_count": null,
   "outputs": []
  },
  {
   "cell_type": "markdown",
   "metadata": {
    "id": "7VjHI0hjACLI"
   },
   "source": [
    "### Text from Scene"
   ]
  },
  {
   "cell_type": "code",
   "metadata": {
    "id": "Q5BanjN2AlLK"
   },
   "source": [
    "!wget -q https://raw.githubusercontent.com/JohnSnowLabs/spark-nlp-workshop/master/tutorials/Certification_Trainings/Healthcare/data/ocr/natural_scene.jpeg"
   ],
   "execution_count": null,
   "outputs": []
  },
  {
   "cell_type": "code",
   "metadata": {
    "id": "xtu9hpEL9saX",
    "colab": {
     "base_uri": "https://localhost:8080/",
     "height": 1000
    },
    "outputId": "1a2e7cf3-83d5-45a7-cb83-fde043ddc09a"
   },
   "source": [
    "image_df = spark.read.format(\"binaryFile\").load('natural_scene.jpeg').cache()\n",
    "\n",
    "# Apply morphology opening\n",
    "morpholy_operation = ImageMorphologyOperation()\n",
    "morpholy_operation.setKernelShape(KernelShape.DISK)\n",
    "morpholy_operation.setKernelSize(5)\n",
    "morpholy_operation.setOperation(\"closing\")\n",
    "morpholy_operation.setInputCol(\"cleared_image\")\n",
    "morpholy_operation.setOutputCol(\"corrected_image\")\n",
    "\n",
    "# Run OCR\n",
    "ocr = ImageToText()\n",
    "ocr.setInputCol(\"corrected_image\")\n",
    "ocr.setOutputCol(\"text\")\n",
    "ocr.setConfidenceThreshold(50)\n",
    "ocr.setIgnoreResolution(False)\n",
    "\n",
    "# OCR pipeline\n",
    "scene_pipeline = PipelineModel(stages=[\n",
    "    binary_to_image,\n",
    "    scaler,\n",
    "    binarizer,\n",
    "    remove_objects,\n",
    "    morpholy_operation,\n",
    "    ocr\n",
    "])\n",
    "\n",
    "result = scene_pipeline \\\n",
    ".transform(image_df) \\\n",
    ".cache()\n",
    "\n",
    "\n",
    "for r in result.distinct().collect():\n",
    "    print(\"Original: %s\" % r.path)\n",
    "    display_image(r.image)\n",
    "    print(\"Binarized\")\n",
    "    display_image(r.binarized_image)\n",
    "    print(\"Removing objects\")\n",
    "    display_image(r.cleared_image)\n",
    "    print(\"Morphology closing\")\n",
    "    display_image(r.corrected_image)"
   ],
   "execution_count": null,
   "outputs": []
  },
  {
   "cell_type": "markdown",
   "metadata": {
    "id": "58-RfPri0xk3"
   },
   "source": [
    "## DOCX Processing (version 1.10.0)"
   ]
  },
  {
   "cell_type": "markdown",
   "metadata": {
    "id": "G9oV5wtD8O-8"
   },
   "source": [
    "### Read DOCX document as binary file"
   ]
  },
  {
   "cell_type": "code",
   "metadata": {
    "id": "kB9dAvMk8Rl3"
   },
   "source": [
    "import pkg_resources\n",
    "doc_example = pkg_resources.resource_filename('sparkocr', 'resources/ocr/docs/doc2.docx')\n",
    "doc_example_df = spark.read.format(\"binaryFile\").load(doc_example).cache()"
   ],
   "execution_count": null,
   "outputs": []
  },
  {
   "cell_type": "markdown",
   "metadata": {
    "id": "LjfPNSar1BsW"
   },
   "source": [
    "### DocxtoText"
   ]
  },
  {
   "cell_type": "markdown",
   "metadata": {
    "id": "TZPHmLAH7b9o"
   },
   "source": [
    "#### Extract text using DocToText transformer"
   ]
  },
  {
   "cell_type": "code",
   "metadata": {
    "id": "xxRSsOVe0udx"
   },
   "source": [
    "from sparkocr.transformers import *\n",
    "\n",
    "doc_to_text = DocToText()\n",
    "doc_to_text.setInputCol(\"content\")\n",
    "doc_to_text.setOutputCol(\"text\")\n",
    "\n",
    "result = doc_to_text.transform(doc_example_df)"
   ],
   "execution_count": null,
   "outputs": []
  },
  {
   "cell_type": "markdown",
   "metadata": {
    "id": "QMA16ZGt7hGb"
   },
   "source": [
    "#### Display result DataFrame"
   ]
  },
  {
   "cell_type": "code",
   "metadata": {
    "id": "vqklj_AV7Hml",
    "colab": {
     "base_uri": "https://localhost:8080/"
    },
    "outputId": "0ec31995-b582-4d04-e3a7-90831c59a010"
   },
   "source": [
    "result.show()"
   ],
   "execution_count": null,
   "outputs": []
  },
  {
   "cell_type": "markdown",
   "metadata": {
    "id": "ETclaT1h7mNT"
   },
   "source": [
    "#### Display extracted text"
   ]
  },
  {
   "cell_type": "code",
   "metadata": {
    "id": "Rl3SfEUM7Rs-",
    "colab": {
     "base_uri": "https://localhost:8080/"
    },
    "outputId": "15ec5e1a-ecfc-47d2-db18-2457f63be395"
   },
   "source": [
    "print(\"\\n\".join([row.text for row in result.select(\"text\").collect()]))"
   ],
   "execution_count": null,
   "outputs": []
  },
  {
   "cell_type": "markdown",
   "metadata": {
    "id": "u0VlfU6w2AGI"
   },
   "source": [
    "### DocxToTextTable\n",
    "#### (Extracting table data from Microsoft DOCX documents)"
   ]
  },
  {
   "cell_type": "markdown",
   "metadata": {
    "id": "XDazuQyP8mEb"
   },
   "source": [
    "#### Preview document using DocToPdf and PdfToImage transformers"
   ]
  },
  {
   "cell_type": "code",
   "metadata": {
    "id": "JVfMqUkk0wkE",
    "colab": {
     "base_uri": "https://localhost:8080/",
     "height": 1000
    },
    "outputId": "6587e75f-3dd7-4f08-8114-b7ea80a69a2e"
   },
   "source": [
    "image_df = PdfToImage().transform(DocToPdf().setOutputCol(\"content\").transform(doc_example_df))\n",
    "for r in image_df.select(\"image\").collect():\n",
    "    display_image(r.image)"
   ],
   "execution_count": null,
   "outputs": []
  },
  {
   "cell_type": "markdown",
   "metadata": {
    "id": "6J_p9fBQ9gpJ"
   },
   "source": [
    "#### Extract text using DocToText transformer"
   ]
  },
  {
   "cell_type": "code",
   "metadata": {
    "id": "YNgJGNDr8-M3",
    "colab": {
     "base_uri": "https://localhost:8080/"
    },
    "outputId": "bb20a569-d47c-42e8-e8b3-c4f69b180f21"
   },
   "source": [
    "doc_to_table = DocToTextTable()\n",
    "doc_to_table.setInputCol(\"content\")\n",
    "doc_to_table.setOutputCol(\"tables\")\n",
    "\n",
    "result = doc_to_table.transform(doc_example_df)\n",
    "\n",
    "result.show()"
   ],
   "execution_count": null,
   "outputs": []
  },
  {
   "cell_type": "code",
   "metadata": {
    "id": "Tbf6EQW99xhp",
    "colab": {
     "base_uri": "https://localhost:8080/"
    },
    "outputId": "630233fc-7b08-4e1b-b3ad-33406d071ab0"
   },
   "source": [
    "result.select(result[\"tables.chunks\"].getItem(3)[\"chunkText\"]).show(truncate=False)"
   ],
   "execution_count": null,
   "outputs": []
  },
  {
   "cell_type": "markdown",
   "metadata": {
    "id": "9x5XXSAT-YxT"
   },
   "source": [
    "#### Display extracted data in JSON format"
   ]
  },
  {
   "cell_type": "code",
   "metadata": {
    "id": "Ejlbb80W9w6B",
    "colab": {
     "base_uri": "https://localhost:8080/"
    },
    "outputId": "e1fc25b1-025c-4295-c589-56b4d5afcddf"
   },
   "source": [
    "import json\n",
    "df_json = result.select(\"tables\").toJSON()\n",
    "for row in df_json.collect():\n",
    "    print(json.dumps(json.loads(row), indent=4))"
   ],
   "execution_count": null,
   "outputs": []
  },
  {
   "cell_type": "markdown",
   "metadata": {
    "id": "RVrFH1DU2DMN"
   },
   "source": [
    "## Text to Pdf"
   ]
  },
  {
   "cell_type": "code",
   "metadata": {
    "id": "Z09Vuxus2Ccb"
   },
   "source": [
    "def pipeline():\n",
    "    # Transforrm PDF document to images per page\n",
    "    pdf_to_image = PdfToImage() \\\n",
    "        .setInputCol(\"content\") \\\n",
    "        .setOutputCol(\"image\") \\\n",
    "        .setKeepInput(True)\n",
    "    \n",
    "    # Run OCR\n",
    "    ocr = ImageToText() \\\n",
    "        .setInputCol(\"image\") \\\n",
    "        .setOutputCol(\"text\") \\\n",
    "        .setConfidenceThreshold(60) \\\n",
    "        .setIgnoreResolution(False) \\\n",
    "        .setPageSegMode(PageSegmentationMode.SPARSE_TEXT)\n",
    "    \n",
    "    # Render results to PDF\n",
    "    textToPdf = TextToPdf() \\\n",
    "        .setInputCol(\"positions\") \\\n",
    "        .setInputImage(\"image\") \\\n",
    "        .setOutputCol(\"pdf\")\n",
    "\n",
    "    pipeline = PipelineModel(stages=[\n",
    "        pdf_to_image,\n",
    "        ocr,\n",
    "        textToPdf\n",
    "    ])\n",
    "    \n",
    "    return pipeline"
   ],
   "execution_count": null,
   "outputs": []
  },
  {
   "cell_type": "code",
   "metadata": {
    "id": "A_I2hWUy2IMI"
   },
   "source": [
    "!wget -q https://raw.githubusercontent.com/JohnSnowLabs/spark-nlp-workshop/master/tutorials/Certification_Trainings/Healthcare/data/ocr/test_document.pdf"
   ],
   "execution_count": null,
   "outputs": []
  },
  {
   "cell_type": "code",
   "metadata": {
    "id": "G81aUZ3q2OVh"
   },
   "source": [
    "pdf_example_df = spark.read.format(\"binaryFile\").load('test_document.pdf').cache()\n"
   ],
   "execution_count": null,
   "outputs": []
  },
  {
   "cell_type": "code",
   "metadata": {
    "id": "aKDWZc9h27v0"
   },
   "source": [
    "result = pipeline().transform(pdf_example_df).cache()"
   ],
   "execution_count": null,
   "outputs": []
  },
  {
   "cell_type": "code",
   "metadata": {
    "id": "_zeO9SVP32i-",
    "colab": {
     "base_uri": "https://localhost:8080/"
    },
    "outputId": "59743149-69a0-4037-85b3-e84ac0c48ba8"
   },
   "source": [
    "result.columns"
   ],
   "execution_count": null,
   "outputs": []
  },
  {
   "cell_type": "code",
   "metadata": {
    "colab": {
     "base_uri": "https://localhost:8080/",
     "height": 1000
    },
    "id": "OyJVkb523iYV",
    "outputId": "c7db993d-11e1-4370-c0a0-8f32cf0f9b92"
   },
   "source": [
    "display_image(PdfToImage().transform(pdf_example_df).select(\"image\").collect()[0].image)"
   ],
   "execution_count": null,
   "outputs": []
  },
  {
   "cell_type": "code",
   "metadata": {
    "id": "vFSSheKJ29y7"
   },
   "source": [
    "# Store results to pdf file\n",
    "pdf = result.select(\"pdf\").head().pdf\n",
    "\n",
    "pdfFile = open(\"result.pdf\", \"wb\")\n",
    "\n",
    "pdfFile.write(pdf)\n",
    "\n",
    "pdfFile.close()"
   ],
   "execution_count": null,
   "outputs": []
  },
  {
   "cell_type": "code",
   "metadata": {
    "id": "-RACahLy3Mf1",
    "colab": {
     "base_uri": "https://localhost:8080/",
     "height": 1000
    },
    "outputId": "a0020010-ed17-49a2-9022-add4511d434f"
   },
   "source": [
    "# Convert pdf to image and display¶\n",
    "\n",
    "image_df = PdfToImage() \\\n",
    "    .setInputCol(\"pdf\") \\\n",
    "    .setOutputCol(\"image\") \\\n",
    "    .transform(result.select(\"pdf\", \"path\"))\n",
    "\n",
    "for r in image_df.collect():\n",
    "    display_image(r.image)\n"
   ],
   "execution_count": null,
   "outputs": []
  },
  {
   "cell_type": "markdown",
   "metadata": {
    "id": "Tl8Y6Fyh1an4"
   },
   "source": [
    "# Spark OCR with Spark NLP for Healthcare"
   ]
  },
  {
   "cell_type": "markdown",
   "metadata": {
    "id": "uzWgVekn1gku"
   },
   "source": [
    "## Install Spark NLP for Healthare"
   ]
  },
  {
   "cell_type": "code",
   "metadata": {
    "id": "xGIgLynI2H3z"
   },
   "source": [
    "# Install pyspark spark-nlp\n",
    "! pip install --upgrade spark-nlp==$public_version findspark\n",
    "! pip install --upgrade spark-nlp-jsl==$jsl_version  --extra-index-url https://pypi.johnsnowlabs.com/$jsl_secret"
   ],
   "execution_count": null,
   "outputs": []
  },
  {
   "cell_type": "markdown",
   "metadata": {
    "id": "mcNCO0plmS02"
   },
   "source": [
    "<b><h1>!!! ATTENTION !!!</h1>\n",
    "\n",
    "<b><h2>After you run this cell ^^ , here are the steps that you should follow:</h2>\n",
    "\n",
    "* RESTART the COLAB RUNTIME\n",
    "* RE-RUN the first cell of the notebook to upload your license_key file again and set up the environment\n",
    "* RE-RUN this ^^ cell again\n",
    "\n",
    "Then you can go ahead."
   ]
  },
  {
   "cell_type": "code",
   "metadata": {
    "id": "v5LJhdFreE3C"
   },
   "source": [
    "import os\n",
    "import sparkocr\n",
    "import sys\n",
    "import json\n",
    "from pyspark.sql import SparkSession\n",
    "from sparkocr import start\n",
    "import base64\n",
    "from sparkocr.transformers import *\n",
    "from pyspark.ml import PipelineModel\n",
    "from pyspark.sql import functions as F\n",
    "from sparkocr.utils import display_images\n",
    "from sparkocr.transformers import ImageToHocr, VisualDocumentClassifier, BinaryToImage\n",
    "from sparkocr.utils import display_image\n",
    "from sparkocr.enums import *\n",
    "\n",
    "\n",
    "os.environ[\"SPARK_NLP_LICENSE\"] = license_keys[\"SPARK_NLP_LICENSE\"]     # SPARK_NLP_LICENSE\n",
    "os.environ[\"AWS_ACCESS_KEY_ID\"] = license_keys[\"AWS_ACCESS_KEY_ID\"]     # AWS_ACCESS_KEY_ID\n",
    "os.environ[\"AWS_SECRET_ACCESS_KEY\"] = license_keys[\"AWS_SECRET_ACCESS_KEY\"]\n",
    "os.environ['JSL_OCR_LICENSE'] = license_keys[\"SPARK_OCR_LICENSE\"]"
   ],
   "execution_count": null,
   "outputs": []
  },
  {
   "cell_type": "markdown",
   "metadata": {
    "id": "wYNX6FYEF4e0"
   },
   "source": [
    "## Start Spark Session with Spark NLP for Healthcare"
   ]
  },
  {
   "cell_type": "code",
   "metadata": {
    "id": "vDIzhpKkF4Aq",
    "colab": {
     "base_uri": "https://localhost:8080/",
     "height": 287
    },
    "outputId": "48bd964f-c993-4134-9617-b04f4d482337"
   },
   "source": [
    "spark = sparkocr.start(secret=ocr_secret, \n",
    "                       nlp_version=public_version,\n",
    "                       nlp_secret=jsl_secret,\n",
    "                       nlp_internal=jsl_version)\n",
    "spark"
   ],
   "execution_count": null,
   "outputs": []
  },
  {
   "cell_type": "markdown",
   "metadata": {
    "id": "SfzwFIw3aU0q"
   },
   "source": [
    "## Dicom Image Deidentifier "
   ]
  },
  {
   "cell_type": "markdown",
   "metadata": {
    "id": "RRlppvfyaYR-"
   },
   "source": [
    "### Deidentification Pipeline"
   ]
  },
  {
   "cell_type": "code",
   "metadata": {
    "id": "OUzwlZ4NuWXm"
   },
   "source": [
    "from pyspark.ml import Pipeline\n",
    "from pyspark.sql import SparkSession\n",
    "\n",
    "from sparkocr.transformers import *\n",
    "from sparkocr.enums import *\n",
    "from sparkocr.utils import display_image, display_images\n",
    "from sparkocr.metrics import score\n",
    "from sparknlp.annotator import *\n",
    "from sparknlp_jsl.annotator import *\n",
    "from sparknlp.base import *\n",
    "import sparknlp_jsl"
   ],
   "execution_count": null,
   "outputs": []
  },
  {
   "cell_type": "code",
   "metadata": {
    "id": "eUxjTdHLaesH"
   },
   "source": [
    "def deidentification_nlp_pipeline(input_column, prefix = \"\"):\n",
    "    document_assembler = DocumentAssembler() \\\n",
    "        .setInputCol(input_column) \\\n",
    "        .setOutputCol(prefix + \"document\")\n",
    "\n",
    "    # Sentence Detector annotator, processes various sentences per line\n",
    "    sentence_detector = SentenceDetector() \\\n",
    "        .setInputCols([prefix + \"document\"]) \\\n",
    "        .setOutputCol(prefix + \"sentence\")\n",
    "\n",
    "    tokenizer = Tokenizer() \\\n",
    "        .setInputCols([prefix + \"sentence\"]) \\\n",
    "        .setOutputCol(prefix + \"token\")\n",
    "\n",
    "    # Clinical word embeddings\n",
    "    word_embeddings = WordEmbeddingsModel.pretrained(\"embeddings_clinical\", \"en\", \"clinical/models\") \\\n",
    "        .setInputCols([prefix + \"sentence\", prefix + \"token\"]) \\\n",
    "        .setOutputCol(prefix + \"embeddings\")\n",
    "    # NER model trained on i2b2 (sampled from MIMIC) dataset\n",
    "    clinical_ner = MedicalNerModel.pretrained(\"ner_deid_large\", \"en\", \"clinical/models\") \\\n",
    "        .setInputCols([prefix + \"sentence\", prefix + \"token\", prefix + \"embeddings\"]) \\\n",
    "        .setOutputCol(prefix + \"ner\")\n",
    "\n",
    "    custom_ner_converter = NerConverter() \\\n",
    "        .setInputCols([prefix + \"sentence\", prefix + \"token\", prefix + \"ner\"]) \\\n",
    "        .setOutputCol(prefix + \"ner_chunk\") \\\n",
    "        .setWhiteList(['NAME', 'AGE', 'CONTACT', 'LOCATION', 'PROFESSION', 'PERSON', 'DATE'])\n",
    "\n",
    "    nlp_pipeline = Pipeline(stages=[\n",
    "            document_assembler,\n",
    "            sentence_detector,\n",
    "            tokenizer,\n",
    "            word_embeddings,\n",
    "            clinical_ner,\n",
    "            custom_ner_converter\n",
    "        ])\n",
    "    empty_data = spark.createDataFrame([[\"\"]]).toDF(input_column)\n",
    "    nlp_model = nlp_pipeline.fit(empty_data)\n",
    "    return nlp_model"
   ],
   "execution_count": null,
   "outputs": []
  },
  {
   "cell_type": "markdown",
   "metadata": {
    "id": "2SgIcnWNafMZ"
   },
   "source": [
    "### Define OCR transformers and pipeline"
   ]
  },
  {
   "cell_type": "code",
   "metadata": {
    "id": "PSDZ8_qxaloZ",
    "colab": {
     "base_uri": "https://localhost:8080/"
    },
    "outputId": "0f17226f-b381-401a-c42b-15e9fae6b137"
   },
   "source": [
    "# Convert to images\n",
    "binary_to_image = BinaryToImage() \\\n",
    "    .setInputCol(\"content\") \\\n",
    "    .setOutputCol(\"image_raw\")\n",
    "\n",
    "# Extract text from image\n",
    "ocr = ImageToText() \\\n",
    "    .setInputCol(\"image_raw\") \\\n",
    "    .setOutputCol(\"text\") \\\n",
    "    .setIgnoreResolution(False) \\\n",
    "    .setPageIteratorLevel(PageIteratorLevel.SYMBOL) \\\n",
    "    .setPageSegMode(PageSegmentationMode.SPARSE_TEXT) \\\n",
    "    .setConfidenceThreshold(70)\n",
    "\n",
    "# Found coordinates of sensitive data\n",
    "position_finder = PositionFinder() \\\n",
    "    .setInputCols(\"ner_chunk\") \\\n",
    "    .setOutputCol(\"coordinates\") \\\n",
    "    .setPageMatrixCol(\"positions\") \\\n",
    "    .setMatchingWindow(1000) \\\n",
    "    .setPadding(1)\n",
    "\n",
    "# Draw filled rectangle for hide sensitive data\n",
    "drawRegions = ImageDrawRegions()  \\\n",
    "    .setInputCol(\"image_raw\")  \\\n",
    "    .setInputRegionsCol(\"coordinates\")  \\\n",
    "    .setOutputCol(\"image_with_regions\")  \\\n",
    "    .setFilledRect(True) \\\n",
    "    .setRectColor(Color.gray)\n",
    "    \n",
    "\n",
    "# OCR pipeline\n",
    "pipeline = Pipeline(stages=[\n",
    "    binary_to_image,\n",
    "    ocr,\n",
    "    deidentification_nlp_pipeline(input_column=\"text\"),\n",
    "    position_finder,\n",
    "    drawRegions\n",
    "])"
   ],
   "execution_count": null,
   "outputs": []
  },
  {
   "cell_type": "markdown",
   "metadata": {
    "id": "LRhLoClhamOp"
   },
   "source": [
    "### Load Image"
   ]
  },
  {
   "cell_type": "code",
   "metadata": {
    "id": "lkKJLHuCapmx"
   },
   "source": [
    "import pkg_resources\n",
    "image_path = pkg_resources.resource_filename('sparkocr', 'resources/ocr/images/p1.jpg')\n",
    "image_df = spark.read.format(\"binaryFile\").load(image_path)"
   ],
   "execution_count": null,
   "outputs": []
  },
  {
   "cell_type": "markdown",
   "metadata": {
    "id": "dpvI9j6JaqVG"
   },
   "source": [
    "### Run Pipeline"
   ]
  },
  {
   "cell_type": "code",
   "metadata": {
    "id": "pgYxkmsGaudx"
   },
   "source": [
    "result = pipeline.fit(image_df).transform(image_df).cache()"
   ],
   "execution_count": null,
   "outputs": []
  },
  {
   "cell_type": "code",
   "metadata": {
    "id": "AykT2toriiBA",
    "colab": {
     "base_uri": "https://localhost:8080/"
    },
    "outputId": "8911f2d4-d504-4824-b9ea-7728e7fb6e2d"
   },
   "source": [
    "result.select('text').show(1, truncate=False)"
   ],
   "execution_count": null,
   "outputs": []
  },
  {
   "cell_type": "code",
   "metadata": {
    "id": "YLzDbCgZauJV",
    "colab": {
     "base_uri": "https://localhost:8080/"
    },
    "outputId": "04764893-b91e-4034-9bfd-dab6b8cbd76f"
   },
   "source": [
    "# Chunks to hide\n",
    "result.select('ner_chunk').show(2, False)"
   ],
   "execution_count": null,
   "outputs": []
  },
  {
   "cell_type": "code",
   "metadata": {
    "id": "B7Tnh7VxbGWP",
    "colab": {
     "base_uri": "https://localhost:8080/"
    },
    "outputId": "8a7b1899-2353-420a-f4ba-9b88ee595d8b"
   },
   "source": [
    "# Coordinates of Chunks to Hide\n",
    "result.select('coordinates').show(2, False)"
   ],
   "execution_count": null,
   "outputs": []
  },
  {
   "cell_type": "markdown",
   "metadata": {
    "id": "mrRt2pnEau91"
   },
   "source": [
    "### Show original and deidentified images"
   ]
  },
  {
   "cell_type": "code",
   "metadata": {
    "id": "R8et5ogyq6Ce"
   },
   "source": [
    "from sparkocr.utils import display_image, to_pil_image\n",
    "import matplotlib.pyplot as plt"
   ],
   "execution_count": null,
   "outputs": []
  },
  {
   "cell_type": "code",
   "metadata": {
    "id": "c2y9RMzCa08H",
    "colab": {
     "base_uri": "https://localhost:8080/",
     "height": 832
    },
    "outputId": "94a237ef-7deb-4598-e406-c31849b1173b"
   },
   "source": [
    "for r in result.select(\"image_raw\", \"image_with_regions\").collect():\n",
    "    img_orig = r.image_raw\n",
    "    img_deid = r.image_with_regions\n",
    "\n",
    "    img_pil_orig = to_pil_image(img_orig, img_orig.mode)\n",
    "    img_pil_deid = to_pil_image(img_deid, img_deid.mode)\n",
    "\n",
    "    plt.figure(figsize=(24,16))\n",
    "    plt.subplot(1, 2, 1)\n",
    "    plt.imshow(img_pil_orig, cmap='gray')\n",
    "    plt.title('original')\n",
    "    plt.subplot(1, 2, 2)\n",
    "    plt.imshow(img_pil_deid, cmap='gray')\n",
    "    plt.title(\"de-id'd\")\n",
    "    plt.show()"
   ],
   "execution_count": null,
   "outputs": []
  },
  {
   "cell_type": "markdown",
   "metadata": {
    "id": "0sJIIvpx7k--"
   },
   "source": [
    "## Dicom to Image"
   ]
  },
  {
   "cell_type": "code",
   "metadata": {
    "id": "BofbrmT15M1l"
   },
   "source": [
    "! mkdir dicom\n",
    "! wget -q https://raw.githubusercontent.com/JohnSnowLabs/spark-ocr-workshop/master/jupyter/data/dicom/deidentify-brains-front-medical-3.dcm -O /content/dicom/dicom_1.dcm\n",
    "! wget -q https://raw.githubusercontent.com/JohnSnowLabs/spark-ocr-workshop/master/jupyter/data/dicom/deidentify-medical-1.dcm  -O /content/dicom/dicom_2.dcm\n",
    "! wget -q https://raw.githubusercontent.com/JohnSnowLabs/spark-ocr-workshop/master/jupyter/data/dicom/deidentify-medical-2.dcm  -O /content/dicom/dicom_3.dcm"
   ],
   "execution_count": null,
   "outputs": []
  },
  {
   "cell_type": "code",
   "metadata": {
    "colab": {
     "base_uri": "https://localhost:8080/",
     "height": 1000
    },
    "id": "eXwT_FyS5Oq-",
    "outputId": "97d7240c-6c7b-4f44-c819-0bb803b8c03f"
   },
   "source": [
    "dicom_path = './dicom/*.dcm'\n",
    "\n",
    "# Read dicom file as binary file\n",
    "dicom_df = spark.read.format(\"binaryFile\").load(dicom_path)\n",
    "\n",
    "\n",
    "dicomToImage = DicomToImage() \\\n",
    "  .setInputCol(\"content\") \\\n",
    "  .setOutputCol(\"image\") \\\n",
    "  .setMetadataCol(\"meta\")\n",
    "\n",
    "data = dicomToImage.transform(dicom_df)\n",
    "\n",
    "for image in data.collect():\n",
    "      display_image(image.image)\n",
    "\n"
   ],
   "execution_count": null,
   "outputs": []
  },
  {
   "cell_type": "code",
   "metadata": {
    "colab": {
     "base_uri": "https://localhost:8080/"
    },
    "id": "XP6dufVm5SSy",
    "outputId": "8d589f03-1eec-4699-9ec9-55df0d56d7bf"
   },
   "source": [
    "# Extract text from image\n",
    "ocr = ImageToText() \\\n",
    "    .setInputCol(\"image\") \\\n",
    "    .setOutputCol(\"text\") \\\n",
    "    .setIgnoreResolution(False) \\\n",
    "    .setOcrParams([\"preserve_interword_spaces=0\"])\n",
    "\n",
    "\n",
    "print(\"\\n\".join([row.text for row in ocr.transform(data).select(\"text\").collect()]))\n"
   ],
   "execution_count": null,
   "outputs": []
  },
  {
   "cell_type": "markdown",
   "metadata": {
    "id": "BxqZWNDVsTO4"
   },
   "source": [
    "## Table Detection"
   ]
  },
  {
   "cell_type": "markdown",
   "metadata": {
    "id": "Lttmj2_3DvTm"
   },
   "source": [
    "**Load images**"
   ]
  },
  {
   "cell_type": "code",
   "metadata": {
    "id": "HVKJRS29sZHV"
   },
   "source": [
    "! wget -q raw.githubusercontent.com/JohnSnowLabs/spark-ocr-workshop/master/jupyter/data/tab_images/cTDaR_t10168.jpg -P table_image/\n",
    "! wget -q raw.githubusercontent.com/JohnSnowLabs/spark-ocr-workshop/master/jupyter/data/tab_images/cTDaR_t10011.jpg -P table_image/"
   ],
   "execution_count": null,
   "outputs": []
  },
  {
   "cell_type": "markdown",
   "metadata": {
    "id": "1fup7iKwDxtj"
   },
   "source": [
    "**Read and display images**"
   ]
  },
  {
   "cell_type": "code",
   "metadata": {
    "colab": {
     "base_uri": "https://localhost:8080/",
     "height": 1000
    },
    "id": "7zSeSgtbtGI-",
    "outputId": "d400728d-3ec1-4661-da5d-719e481511b5"
   },
   "source": [
    "image_df = spark.read.format(\"binaryFile\").load(\"/content/table_image/*.jpg\")\n",
    "\n",
    "display_images(BinaryToImage().transform(image_df), \"image\")"
   ],
   "execution_count": null,
   "outputs": []
  },
  {
   "cell_type": "markdown",
   "metadata": {
    "id": "365FO1UrD1Un"
   },
   "source": [
    "**Create OCR Pipeline**"
   ]
  },
  {
   "cell_type": "code",
   "metadata": {
    "colab": {
     "base_uri": "https://localhost:8080/"
    },
    "id": "kn69uk9Zu_0n",
    "outputId": "a7897e54-9223-4817-fdb4-f76ce8b1b34c"
   },
   "source": [
    "binary_to_image = BinaryToImage() \n",
    "binary_to_image.setImageType(ImageType.TYPE_3BYTE_BGR)\n",
    "\n",
    "table_detector = ImageTableDetector.pretrained(\"general_model_table_detection_v2\", \"en\", \"clinical/ocr\")\n",
    "table_detector.setInputCol(\"image\")\n",
    "table_detector.setOutputCol(\"table_regions\")\n",
    "\n",
    "draw_regions = ImageDrawRegions()\n",
    "draw_regions.setInputCol(\"image\")\n",
    "draw_regions.setInputRegionsCol(\"table_regions\")\n",
    "draw_regions.setOutputCol(\"image_with_regions\")\n",
    "\n",
    "pipeline = PipelineModel(stages=[\n",
    "    binary_to_image,\n",
    "    table_detector,\n",
    "    draw_regions\n",
    "])"
   ],
   "execution_count": null,
   "outputs": []
  },
  {
   "cell_type": "markdown",
   "metadata": {
    "id": "TAe4aAEPD7yf"
   },
   "source": [
    "**Show results**"
   ]
  },
  {
   "cell_type": "code",
   "metadata": {
    "colab": {
     "base_uri": "https://localhost:8080/",
     "height": 1000
    },
    "id": "53dXnGQmwice",
    "outputId": "440ac391-7289-4538-e44d-d10064a8450a"
   },
   "source": [
    "result =  pipeline.transform(image_df)\n",
    "display_images(result, \"image_with_regions\")"
   ],
   "execution_count": null,
   "outputs": []
  },
  {
   "cell_type": "markdown",
   "metadata": {
    "id": "Jf4VMyqOEbBq"
   },
   "source": [
    "## Table Recognition"
   ]
  },
  {
   "cell_type": "code",
   "metadata": {
    "id": "T13zUnYhE4XX"
   },
   "source": [
    "from pyspark.sql.functions import desc, row_number, monotonically_increasing_id\n",
    "from pyspark.sql.window import Window\n",
    "import pyspark.sql.functions as f"
   ],
   "execution_count": null,
   "outputs": []
  },
  {
   "cell_type": "markdown",
   "metadata": {
    "id": "JZcmBA4AF92b"
   },
   "source": [
    "**Load and display the images.**"
   ]
  },
  {
   "cell_type": "code",
   "metadata": {
    "colab": {
     "base_uri": "https://localhost:8080/",
     "height": 1000
    },
    "id": "0awzgIydEeIg",
    "outputId": "63e7167c-8782-4d26-8981-4c92b9e46156"
   },
   "source": [
    "image_df= spark.read.format(\"binaryFile\").load(\"table_image\")\n",
    "\n",
    "# add index to the dataframe\n",
    "image_df_with_seq_id = image_df.withColumn('index', row_number().over(Window.orderBy(monotonically_increasing_id())) - 1)\n",
    "\n",
    "display_images(BinaryToImage().transform(image_df), \"image\")"
   ],
   "execution_count": null,
   "outputs": []
  },
  {
   "cell_type": "markdown",
   "metadata": {
    "id": "E40yjxJnF1_I"
   },
   "source": [
    "**Create OCR pipeline.**"
   ]
  },
  {
   "cell_type": "code",
   "metadata": {
    "colab": {
     "base_uri": "https://localhost:8080/"
    },
    "id": "cSUgEg8lE8Sc",
    "outputId": "02cb533b-c6ff-4f46-bf39-b5211ded3728"
   },
   "source": [
    "binary_to_image = BinaryToImage()\n",
    "# need set image type for correct work TableDetection model\n",
    "binary_to_image.setImageType(ImageType.TYPE_3BYTE_BGR)\n",
    "\n",
    "table_detector = ImageTableDetector.pretrained(\"general_model_table_detection_v2\", \"en\", \"clinical/ocr\")\n",
    "table_detector.setInputCol(\"image\")\n",
    "table_detector.setOutputCol(\"region\")\n",
    "\n",
    "splitter = ImageSplitRegions()\n",
    "splitter.setInputCol(\"image\")\n",
    "splitter.setInputRegionsCol(\"region\")\n",
    "splitter.setOutputCol(\"table_image\")\n",
    "splitter.setDropCols(\"image\")\n",
    "splitter.setImageType(ImageType.TYPE_BYTE_GRAY)\n",
    "\n",
    "scaler = ImageScaler()\n",
    "scaler.setInputCol(\"table_image\")\n",
    "scaler.setOutputCol(\"scaled_image\")\n",
    "scaler.setScaleFactor(2)\n",
    "\n",
    "cell_detector = ImageTableCellDetector()\n",
    "cell_detector.setInputCol(\"scaled_image\")\n",
    "cell_detector.setOutputCol(\"cells\")\n",
    "cell_detector.setKeepInput(True)\n",
    "\n",
    "table_recognition = ImageCellsToTextTable()\n",
    "table_recognition.setInputCol(\"scaled_image\")\n",
    "table_recognition.setCellsCol('cells')\n",
    "table_recognition.setMargin(1)\n",
    "table_recognition.setStrip(True)\n",
    "table_recognition.setOutputCol('table')\n",
    "\n",
    "\n",
    "pipeline = PipelineModel(stages=[\n",
    "    binary_to_image,\n",
    "    table_detector,\n",
    "    splitter,\n",
    "    scaler,\n",
    "    cell_detector,\n",
    "    table_recognition\n",
    "])"
   ],
   "execution_count": null,
   "outputs": []
  },
  {
   "cell_type": "markdown",
   "metadata": {
    "id": "o8vocA5mFT2R"
   },
   "source": [
    "**Run the pipeline and display the tables in the images.**"
   ]
  },
  {
   "cell_type": "code",
   "metadata": {
    "colab": {
     "base_uri": "https://localhost:8080/",
     "height": 1000
    },
    "id": "wQXtf6l3FAmE",
    "outputId": "a29b314e-036d-4306-fb31-ded784acb70e"
   },
   "source": [
    "results = pipeline.transform(image_df_with_seq_id).cache()\n",
    "display_images(results, \"table_image\")"
   ],
   "execution_count": null,
   "outputs": []
  },
  {
   "cell_type": "markdown",
   "metadata": {
    "id": "QpnXZcsLFSDz"
   },
   "source": [
    "**Show table content for first file.**"
   ]
  },
  {
   "cell_type": "code",
   "metadata": {
    "colab": {
     "base_uri": "https://localhost:8080/"
    },
    "id": "7c4z7r9UFDQv",
    "outputId": "0b63a7e1-3cde-4383-d43d-6da1dbe82e33"
   },
   "source": [
    "path_array = f.split(results['path'], '/')\n",
    "\n",
    "exploded_results = results.withColumn('filename', path_array.getItem(f.size(path_array)- 1)) \\\n",
    "    .select(\"index\", \"table\", \"region\",\"filename\") \\\n",
    "    .withColumn(\"cells\", f.explode(f.col(\"table.chunks\"))) \\\n",
    "    .select([f.col(\"filename\"), f.col(\"region.index\").alias(\"table\")] + [f.col(\"cells\")[i].getField(\"chunkText\").alias(f\"col{i}\") for i in\n",
    "             range(0, 3)])\n",
    "\n",
    "exploded_results.filter(f.col(\"index\") == 0).show(10, False)"
   ],
   "execution_count": null,
   "outputs": []
  },
  {
   "cell_type": "markdown",
   "metadata": {
    "id": "wQyIDDtSFKj1"
   },
   "source": [
    "**Show table content for the second file.**"
   ]
  },
  {
   "cell_type": "code",
   "metadata": {
    "colab": {
     "base_uri": "https://localhost:8080/"
    },
    "id": "LwbQ1MX1FGH-",
    "outputId": "58e64547-a16c-476e-eb95-e5075d0da76b"
   },
   "source": [
    "exploded_results.filter(f.col(\"index\") == 1).show(100, False)"
   ],
   "execution_count": null,
   "outputs": []
  },
  {
   "cell_type": "markdown",
   "metadata": {
    "id": "K2NlmVUbCpTk"
   },
   "source": [
    "## Table Cell Recognition"
   ]
  },
  {
   "cell_type": "markdown",
   "metadata": {
    "id": "Esw2EmGoDlTO"
   },
   "source": [
    "**Read and display images**"
   ]
  },
  {
   "cell_type": "code",
   "metadata": {
    "colab": {
     "base_uri": "https://localhost:8080/",
     "height": 1000
    },
    "id": "IX23pGTACsLE",
    "outputId": "d5b11a76-435b-4670-a044-0cee1b6370c1"
   },
   "source": [
    "import pkg_resources\n",
    "test_image_path = pkg_resources.resource_filename('sparkocr', 'resources/ocr/tableImage/*.png')\n",
    "image_df= spark.read.format(\"binaryFile\").load(test_image_path)\n",
    "\n",
    "display_images(BinaryToImage().transform(image_df), \"image\")"
   ],
   "execution_count": null,
   "outputs": []
  },
  {
   "cell_type": "markdown",
   "metadata": {
    "id": "jxiDot9NDel0"
   },
   "source": [
    "**Define OCR Pipeline**"
   ]
  },
  {
   "cell_type": "code",
   "metadata": {
    "id": "zLj4Qda5DH69"
   },
   "source": [
    "binary_to_image = BinaryToImage()\n",
    "binary_to_image.setImageType(ImageType.TYPE_BYTE_GRAY)\n",
    "binary_to_image.setInputCol(\"content\")\n",
    "\n",
    "cell_detector = ImageTableCellDetector()\n",
    "cell_detector.setInputCol(\"image\")\n",
    "cell_detector.setOutputCol(\"cells\")\n",
    "cell_detector.setKeepInput(True)\n",
    "\n",
    "table_recognition = ImageCellsToTextTable()\n",
    "table_recognition.setInputCol(\"image\")\n",
    "table_recognition.setCellsCol('cells')\n",
    "table_recognition.setMargin(2)\n",
    "table_recognition.setStrip(True)\n",
    "table_recognition.setOutputCol('table')\n",
    "\n",
    "pipeline = PipelineModel(stages=[\n",
    "    binary_to_image,\n",
    "     cell_detector,\n",
    "     table_recognition\n",
    "])"
   ],
   "execution_count": null,
   "outputs": []
  },
  {
   "cell_type": "markdown",
   "metadata": {
    "id": "8RuVEbrZDZ83"
   },
   "source": [
    "**Run Pipeline**"
   ]
  },
  {
   "cell_type": "code",
   "metadata": {
    "id": "A2WKKpHoDJM2"
   },
   "source": [
    "results = pipeline.transform(image_df).cache()\n",
    "\n",
    "path_array = f.split(results['path'], '/')\n",
    "\n",
    "exploded_results = results.withColumn('filename', path_array.getItem(f.size(path_array)- 1)) \\\n",
    "    .select(\"table\", \"filename\") \\\n",
    "    .withColumn(\"cells\", f.explode(f.col(\"table.chunks\"))) \\\n",
    "    .select([f.col(\"filename\")] + [f.col(\"cells\")[i].getField(\"chunkText\").alias(f\"col{i}\") for i in\n",
    "             range(0, 7)]) \\"
   ],
   "execution_count": null,
   "outputs": []
  },
  {
   "cell_type": "markdown",
   "metadata": {
    "id": "O-LCRPGVDWHq"
   },
   "source": [
    "**Show recognized cells for first image**"
   ]
  },
  {
   "cell_type": "code",
   "metadata": {
    "colab": {
     "base_uri": "https://localhost:8080/"
    },
    "id": "WOCRvd5lDMVu",
    "outputId": "b733a8f4-cf38-400e-8f75-3366ff29e698"
   },
   "source": [
    "exploded_results.filter(f.col(\"filename\") == \"table0.png\") \\\n",
    "    .show(20, False)"
   ],
   "execution_count": null,
   "outputs": []
  },
  {
   "cell_type": "markdown",
   "metadata": {
    "id": "JFUToTU_DSS6"
   },
   "source": [
    "**Show recognized cells for second image**"
   ]
  },
  {
   "cell_type": "code",
   "metadata": {
    "colab": {
     "base_uri": "https://localhost:8080/"
    },
    "id": "LgZa2ouiDPAE",
    "outputId": "31dfd0bb-a100-4eb0-d4bd-19783ac3a05c"
   },
   "source": [
    "exploded_results.filter(f.col(\"filename\") == \"table1.png\") \\\n",
    "    .show(20, False)"
   ],
   "execution_count": null,
   "outputs": []
  },
  {
   "cell_type": "markdown",
   "metadata": {
    "id": "mWLe4J59uTO-"
   },
   "source": [
    "# More example here\n",
    "\n",
    "https://github.com/JohnSnowLabs/spark-ocr-workshop"
   ]
  }
 ]
}
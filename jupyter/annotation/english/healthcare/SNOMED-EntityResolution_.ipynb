{
 "cells": [
  {
   "cell_type": "code",
   "execution_count": null,
   "metadata": {},
   "outputs": [],
   "source": [
    "#Please make sure you have SparkNLP 2.4.1 and SparkNLP Enterprise 2.4.1"
   ]
  },
  {
   "cell_type": "code",
   "execution_count": 3,
   "metadata": {},
   "outputs": [],
   "source": [
    "import sys, time\n",
    "sys.path.append(\"/home/fernandrez/JSL/repos/spark-nlp/python\")\n",
    "sys.path.append(\"/home/fernandrez/JSL/repos/spark-nlp-internal/python\")\n",
    "\n",
    "from sparknlp.base import *\n",
    "from sparknlp.annotator import *\n",
    "from sparknlp_jsl.annotator import *\n",
    "from sparknlp.pretrained import ResourceDownloader\n",
    "import pyspark.sql.functions as F\n",
    "#from pyspark.sql.types import StructType, StructField, StringType\n",
    "from pyspark.ml import Pipeline, PipelineModel\n",
    "from pyspark.ml.feature import HashingTF, IDF\n",
    "from pyspark.ml.feature import StringIndexerModel\n",
    "from pyspark.ml.classification import OneVsRestModel"
   ]
  },
  {
   "cell_type": "code",
   "execution_count": 5,
   "metadata": {},
   "outputs": [],
   "source": [
    "concepts = concepts = spark.read.format(\"csv\").option(\"header\",\"true\").load(\"../../../../data/resolution/snomed_sample.csv\")\\\n",
    ".withColumn(\"term\", F.expr(\"lower(term)\"))"
   ]
  },
  {
   "cell_type": "code",
   "execution_count": null,
   "metadata": {},
   "outputs": [],
   "source": []
  },
  {
   "cell_type": "code",
   "execution_count": 6,
   "metadata": {},
   "outputs": [],
   "source": [
    "tokenizer_chars = [\"'\",\",\",\"/\",\" \",\".\",\"|\",\"@\",\"#\",\"%\",\"&\",\"$\",\"[\",\"]\",\"(\",\")\",\"-\",\";\",\"=\"]"
   ]
  },
  {
   "cell_type": "code",
   "execution_count": 7,
   "metadata": {},
   "outputs": [],
   "source": [
    "docAssembler = DocumentAssembler().setInputCol(\"term\").setOutputCol(\"document\")\n",
    "\n",
    "tokenizer = Tokenizer().setInputCols(\"document\").setOutputCol(\"token\")\\\n",
    "    .setSplitChars(tokenizer_chars)\n",
    "\n",
    "pipelineModel = Pipeline().setStages([docAssembler, tokenizer]).fit(concepts)"
   ]
  },
  {
   "cell_type": "code",
   "execution_count": null,
   "metadata": {},
   "outputs": [],
   "source": []
  },
  {
   "cell_type": "code",
   "execution_count": 8,
   "metadata": {},
   "outputs": [],
   "source": [
    "ngrammer = NGramGenerator()\\\n",
    "    .setInputCols([\"token\"])\\\n",
    "    .setOutputCol(\"ngram\")\\\n",
    "    .setEnableCumulative(True)\\\n",
    "    .setDelimiter(\"_\")\n",
    "\n",
    "ngramToken = Chunk2Token()\\\n",
    "    .setInputCols(\"ngram\")\\\n",
    "    .setOutputCol(\"ngram_token\")\n",
    "\n",
    "pipelineNgrams = PipelineModel(stages=[\n",
    "    ngrammer,\n",
    "    ngramToken])"
   ]
  },
  {
   "cell_type": "code",
   "execution_count": 9,
   "metadata": {},
   "outputs": [
    {
     "name": "stdout",
     "output_type": "stream",
     "text": [
      "embeddings_icdoem_2ng download started this may take some time.\n",
      "Approximate size to download 10.9 GB\n",
      "[OK!]\n"
     ]
    }
   ],
   "source": [
    "embeddingsModel = WordEmbeddingsModel.pretrained(\"embeddings_icdoem_2ng\", \"en\", \"clinical/models\")\\\n",
    "    .setInputCols(\"document\", \"token\")\\\n",
    "    .setOutputCol(\"embeddings\")"
   ]
  },
  {
   "cell_type": "code",
   "execution_count": null,
   "metadata": {},
   "outputs": [],
   "source": []
  },
  {
   "cell_type": "code",
   "execution_count": 10,
   "metadata": {},
   "outputs": [],
   "source": [
    "doc2Chunk = Doc2Chunk().setInputCols(\"document\").setOutputCol(\"chunk\")\n",
    "\n",
    "chunkEmbeddings = ChunkEmbeddings()\\\n",
    "    .setInputCols(\"chunk\", \"embeddings\")\\\n",
    "    .setOutputCol(\"chunk_embeddings\")\n",
    "\n",
    "pipelineChunkEmbeddings = PipelineModel([doc2Chunk, chunkEmbeddings])"
   ]
  },
  {
   "cell_type": "code",
   "execution_count": 11,
   "metadata": {},
   "outputs": [],
   "source": [
    "concepts_embedded = PipelineModel([pipelineModel, pipelineNgrams, embeddingsModel, pipelineChunkEmbeddings]).transform(concepts)"
   ]
  },
  {
   "cell_type": "code",
   "execution_count": 12,
   "metadata": {},
   "outputs": [],
   "source": [
    "concepts_embedded.write.mode(\"overwrite\").save(\"data/concepts_embedded\")"
   ]
  },
  {
   "cell_type": "code",
   "execution_count": 13,
   "metadata": {},
   "outputs": [],
   "source": [
    "concepts_embedded = spark.read.load(\"data/concepts_embedded\")"
   ]
  },
  {
   "cell_type": "code",
   "execution_count": 14,
   "metadata": {},
   "outputs": [
    {
     "data": {
      "text/plain": [
       "0.8656463292885626"
      ]
     },
     "execution_count": 14,
     "metadata": {},
     "output_type": "execute_result"
    }
   ],
   "source": [
    "#Let's check embeddings coverage\n",
    "concepts_embedded.selectExpr(\"conceptId\",\"explode(embeddings) as embs\")\\\n",
    ".selectExpr(\"conceptId\",\"case when embs.metadata.isOOV=='false' then 1 else 0 end as coverage\")\\\n",
    ".groupby(\"conceptId\").agg(F.expr(\"avg(coverage) as cov\")).orderBy(\"cov\").toPandas()[\"cov\"].mean()"
   ]
  },
  {
   "cell_type": "code",
   "execution_count": 15,
   "metadata": {},
   "outputs": [
    {
     "name": "stdout",
     "output_type": "stream",
     "text": [
      "+-----------+-----+\n",
      "|word       |count|\n",
      "+-----------+-----+\n",
      "|(          |1680 |\n",
      "|of         |1518 |\n",
      "|disorder   |409  |\n",
      "|procedure  |337  |\n",
      "|structure  |325  |\n",
      "|finding    |222  |\n",
      "|body       |209  |\n",
      "|product    |202  |\n",
      "|to         |181  |\n",
      "|entire     |154  |\n",
      "|organism   |146  |\n",
      "|with       |141  |\n",
      "|in         |141  |\n",
      "|substance  |138  |\n",
      "|and        |130  |\n",
      "|-          |120  |\n",
      "|by         |112  |\n",
      "|1          |102  |\n",
      "|containing |100  |\n",
      "|form       |98   |\n",
      "|left       |81   |\n",
      "|2          |76   |\n",
      "|only       |73   |\n",
      "|right      |71   |\n",
      "|dose       |68   |\n",
      "|neoplasm   |67   |\n",
      "|for        |67   |\n",
      "|on         |67   |\n",
      "|measurement|64   |\n",
      "|:          |63   |\n",
      "|artery     |60   |\n",
      "|joint      |59   |\n",
      "|value      |56   |\n",
      "|qualifier  |56   |\n",
      "|or         |53   |\n",
      "|0          |52   |\n",
      "|5          |52   |\n",
      "|due        |50   |\n",
      "|medicinal  |49   |\n",
      "|skin       |47   |\n",
      "|blood      |47   |\n",
      "|antibody   |46   |\n",
      "|virus      |46   |\n",
      "|oral       |44   |\n",
      "|3          |44   |\n",
      "|tissue     |43   |\n",
      "|poisoning  |43   |\n",
      "|syndrome   |43   |\n",
      "|fracture   |42   |\n",
      "|open       |41   |\n",
      "|injury     |41   |\n",
      "|using      |40   |\n",
      "|observable |40   |\n",
      "|nerve      |39   |\n",
      "|malignant  |39   |\n",
      "|bone       |38   |\n",
      "|caused     |38   |\n",
      "|entity     |38   |\n",
      "|genus      |37   |\n",
      "|congenital |37   |\n",
      "|history    |37   |\n",
      "|from       |37   |\n",
      "|acid       |36   |\n",
      "|4          |35   |\n",
      "|vein       |35   |\n",
      "|lower      |35   |\n",
      "|a          |34   |\n",
      "|assessment |34   |\n",
      "|therapy    |33   |\n",
      "|abnormality|32   |\n",
      "|situation  |32   |\n",
      "|group      |31   |\n",
      "|upper      |30   |\n",
      "|muscle     |30   |\n",
      "|wound      |30   |\n",
      "|antigen    |29   |\n",
      "|9          |29   |\n",
      "|region     |29   |\n",
      "|morphologic|29   |\n",
      "|closed     |28   |\n",
      "|8          |28   |\n",
      "|cord       |27   |\n",
      "|drug       |27   |\n",
      "|limb       |27   |\n",
      "|examination|27   |\n",
      "|excision   |26   |\n",
      "|ligament   |26   |\n",
      "|foot       |26   |\n",
      "|occupation |26   |\n",
      "|tumor      |26   |\n",
      "|chronic    |26   |\n",
      "|test       |25   |\n",
      "|anterior   |25   |\n",
      "|level      |25   |\n",
      "|specimen   |25   |\n",
      "|the        |25   |\n",
      "|family     |24   |\n",
      "|primary    |24   |\n",
      "|cervical   |24   |\n",
      "|bilateral  |24   |\n",
      "+-----------+-----+\n",
      "only showing top 100 rows\n",
      "\n"
     ]
    }
   ],
   "source": [
    "word_distribution = concepts_embedded.selectExpr(\"explode(token.result) as word\").groupby(\"word\").count()\n",
    "word_distribution.orderBy(\"count\",ascending=True).show(100, False)"
   ]
  },
  {
   "cell_type": "code",
   "execution_count": 16,
   "metadata": {},
   "outputs": [
    {
     "data": {
      "text/plain": [
       "5316"
      ]
     },
     "execution_count": 16,
     "metadata": {},
     "output_type": "execute_result"
    }
   ],
   "source": [
    "word_distribution.count()"
   ]
  },
  {
   "cell_type": "code",
   "execution_count": null,
   "metadata": {},
   "outputs": [],
   "source": []
  },
  {
   "cell_type": "code",
   "execution_count": 17,
   "metadata": {},
   "outputs": [],
   "source": [
    "#Currently working on making the first layer available using the Pretrained framework -> 2.4.2\n",
    "#model_idx = ResourceDownloader.downloadModel(\"StringIndexerModel\", \"resolve_snomed_l1_idx_icdoem_2ng\", \"en\", \"clinical/models\")\n",
    "#model_tfidf = ResourceDownloader.downloadPipeline(\"resolve_snomed_l1_tfidf_icdoem_2ng\", \"en\", \"clinical/models\")\n",
    "#model_ovrlrc = ResourceDownloader.downloadModel(\"OneVsRestModel\", \"resolve_snomed_l1_ovrlrc_icdoem_2ng\", \"en\", \"clinical/models\")"
   ]
  },
  {
   "cell_type": "code",
   "execution_count": 19,
   "metadata": {},
   "outputs": [],
   "source": [
    "sidx = StringIndexerModel.load(\"_models/snomed_indexer\")"
   ]
  },
  {
   "cell_type": "code",
   "execution_count": 20,
   "metadata": {},
   "outputs": [],
   "source": [
    "layer1 = DocumentLogRegClassifierApproach()\\\n",
    "    .setInputCols(\"ngram_token\")\\\n",
    "    .setOutputCol(\"partition\")\\\n",
    "    .setLabels(sidx.labels)\\\n",
    "    .setVectorizationModelPath(\"_models/snomed_tfidfer\")\\\n",
    "    .setClassificationModelPath(\"_models/snomed_ovrlrc\")\\\n",
    "    .fit(concepts_embedded)\\\n",
    "    .setMergeChunks(False)"
   ]
  },
  {
   "cell_type": "code",
   "execution_count": 21,
   "metadata": {},
   "outputs": [
    {
     "name": "stdout",
     "output_type": "stream",
     "text": [
      "resolve_snomed_l2_icdoem_2ng download started this may take some time.\n",
      "Approx size to download 1.1 GB\n",
      "[OK!]\n"
     ]
    }
   ],
   "source": [
    "#Second layer is available through the Pretrained framework\n",
    "layer_2 = RecursivePipelineModel(\n",
    "    ResourceDownloader.downloadPipeline(\"resolve_snomed_l2_icdoem_2ng\", \"en\", \"clinical/models\")\n",
    ")"
   ]
  },
  {
   "cell_type": "code",
   "execution_count": 22,
   "metadata": {},
   "outputs": [],
   "source": [
    "fullPipeline = Pipeline().setStages([layer1, layer_2]).fit(concepts_embedded)"
   ]
  },
  {
   "cell_type": "code",
   "execution_count": 23,
   "metadata": {},
   "outputs": [],
   "source": [
    "start = time.time()\n",
    "transformed_full = fullPipeline.transform(concepts_embedded)"
   ]
  },
  {
   "cell_type": "code",
   "execution_count": 24,
   "metadata": {},
   "outputs": [],
   "source": [
    "predicted = transformed_full.withColumn(\"prediction\", F.expr(\"partition.result[0]\")).cache()\n",
    "metrics = predicted.withColumn(\"ok\",F.expr(\"case when prediction==topTerm then 1 else 0 end\"))\\\n",
    "                                   .groupby(\"topTerm\").agg(F.expr(\"avg(ok) as recall\"), F.expr(\"count(ok) as tr_cnt\"))\\\n",
    "                                    .join(\n",
    "predicted.withColumn(\"ok\",F.expr(\"case when prediction==topTerm then 1 else 0 end\"))\\\n",
    "                                   .groupby(\"prediction\").agg(F.expr(\"avg(ok) as precision\")),F.col(\"topTerm\")==F.col(\"prediction\")\n",
    ").withColumn(\"f1\", F.expr(\"2*precision*recall/(precision+recall)\")).orderBy(\"f1\")\\\n",
    ".selectExpr(\"topTerm\",\"tr_cnt\",\"round(precision,3) as train_precision\",\"round(recall,3) as train_recall\",\"round(f1, 3) as train_f1\")"
   ]
  },
  {
   "cell_type": "code",
   "execution_count": 25,
   "metadata": {},
   "outputs": [
    {
     "name": "stdout",
     "output_type": "stream",
     "text": [
      "+-------------------------------------------------------------+------+---------------+------------+--------+\n",
      "|topTerm                                                      |tr_cnt|train_precision|train_recall|train_f1|\n",
      "+-------------------------------------------------------------+------+---------------+------------+--------+\n",
      "|General clinical state finding (finding)                     |5     |0.8            |0.8         |0.8     |\n",
      "|Wound finding (finding)                                      |9     |0.8            |0.889       |0.842   |\n",
      "|Disease (disorder)                                           |325   |0.843          |0.895       |0.869   |\n",
      "|Finding by method (finding)                                  |20    |0.857          |0.9         |0.878   |\n",
      "|SNOMED CT Model Component (metadata)                         |14    |0.867          |0.929       |0.897   |\n",
      "|Finding by site (finding)                                    |722   |0.884          |0.911       |0.898   |\n",
      "|Clinical history and observation findings (finding)          |178   |0.895          |0.91        |0.903   |\n",
      "|Qualifier value (qualifier value)                            |124   |0.947          |0.863       |0.903   |\n",
      "|Evaluation finding (finding)                                 |58    |0.912          |0.897       |0.904   |\n",
      "|Neurological finding (finding)                               |22    |0.909          |0.909       |0.909   |\n",
      "|Observable entity (observable entity)                        |86    |0.899          |0.93        |0.914   |\n",
      "|Social context (social concept)                              |51    |0.957          |0.882       |0.918   |\n",
      "|Substance (substance)                                        |307   |0.934          |0.919       |0.926   |\n",
      "|Special concept (special concept)                            |8     |1.0            |0.875       |0.933   |\n",
      "|Situation with explicit context (situation)                  |60    |0.921          |0.967       |0.943   |\n",
      "|Organism (organism)                                          |345   |0.97           |0.942       |0.956   |\n",
      "|Body structure (body structure)                              |489   |0.959          |0.953       |0.956   |\n",
      "|Staging and scales (staging scale)                           |24    |1.0            |0.917       |0.957   |\n",
      "|Specimen (specimen)                                          |23    |0.92           |1.0         |0.958   |\n",
      "|Event (event)                                                |42    |0.953          |0.976       |0.965   |\n",
      "|Procedure (procedure)                                        |738   |0.96           |0.97        |0.965   |\n",
      "|Administrative statuses (finding)                            |30    |0.967          |0.967       |0.967   |\n",
      "|Pharmaceutical / biologic product (product)                  |170   |0.982          |0.982       |0.982   |\n",
      "|Propensity to adverse reaction (finding)                     |11    |1.0            |1.0         |1.0     |\n",
      "|Environment or geographical location (environment / location)|18    |1.0            |1.0         |1.0     |\n",
      "+-------------------------------------------------------------+------+---------------+------------+--------+\n",
      "\n"
     ]
    }
   ],
   "source": [
    "metrics.show(100, False)"
   ]
  },
  {
   "cell_type": "code",
   "execution_count": 26,
   "metadata": {},
   "outputs": [],
   "source": [
    "with_alternatives = predicted\\\n",
    "    .withColumn(\"resolution\",F.expr(\"split(substring(snomed_code.metadata[0]['all_k_results'],2,length(snomed_code.metadata[0]['all_k_results'])-2),'\\\\\\\\],\\\\\\\\[')\"))"
   ]
  },
  {
   "cell_type": "code",
   "execution_count": 27,
   "metadata": {},
   "outputs": [],
   "source": [
    "evaled = with_alternatives\\\n",
    "    .withColumn(\"good\", F.expr(\"case when conceptId=snomed_code.result[0] then 1 else 0 end\"))\\\n",
    "    .withColumn(\"hat5\", F.expr(\"case when array_contains(slice(resolution, 1, 5), conceptId) then 1 else 0 end\"))\\\n",
    "    .withColumn(\"hat10\", F.expr(\"case when array_contains(slice(resolution, 1, 10), conceptId) then 1 else 0 end\"))\\\n",
    "    .withColumn(\"hat20\", F.expr(\"case when array_contains(slice(resolution, 1, 20), conceptId) then 1 else 0 end\"))\\\n",
    "    .withColumn(\"hat30\", F.expr(\"case when array_contains(slice(resolution, 1, 30), conceptId) then 1 else 0 end\"))\\\n",
    "    .withColumn(\"hat500\", F.expr(\"case when array_contains(slice(resolution, 1, 500), conceptId) then 1 else 0 end\"))"
   ]
  },
  {
   "cell_type": "code",
   "execution_count": 28,
   "metadata": {},
   "outputs": [
    {
     "name": "stdout",
     "output_type": "stream",
     "text": [
      "+-------------------------------------------------------------+----+----+-----+-----+-----+------+-----+\n",
      "|topTerm                                                      |good|hat5|hat10|hat20|hat30|hat500|total|\n",
      "+-------------------------------------------------------------+----+----+-----+-----+-----+------+-----+\n",
      "|Procedure (procedure)                                        |0.94|0.95|0.95 |0.96 |0.96 |0.96  |738  |\n",
      "|Finding by site (finding)                                    |0.88|0.9 |0.9  |0.9  |0.9  |0.9   |722  |\n",
      "|Body structure (body structure)                              |0.91|0.93|0.93 |0.93 |0.93 |0.93  |489  |\n",
      "|Organism (organism)                                          |0.5 |0.57|0.61 |0.66 |0.67 |0.67  |345  |\n",
      "|Disease (disorder)                                           |0.85|0.87|0.87 |0.88 |0.88 |0.88  |325  |\n",
      "|Substance (substance)                                        |0.68|0.78|0.79 |0.79 |0.8  |0.8   |307  |\n",
      "|Clinical history and observation findings (finding)          |0.86|0.89|0.89 |0.9  |0.9  |0.9   |178  |\n",
      "|Pharmaceutical / biologic product (product)                  |0.85|0.92|0.92 |0.94 |0.94 |0.94  |170  |\n",
      "|Qualifier value (qualifier value)                            |0.57|0.67|0.69 |0.73 |0.74 |0.74  |124  |\n",
      "|Observable entity (observable entity)                        |0.87|0.93|0.93 |0.93 |0.93 |0.93  |86   |\n",
      "|Situation with explicit context (situation)                  |0.93|0.95|0.97 |0.97 |0.97 |0.97  |60   |\n",
      "|Evaluation finding (finding)                                 |0.84|0.9 |0.9  |0.9  |0.9  |0.9   |58   |\n",
      "|Social context (social concept)                              |0.75|0.84|0.86 |0.88 |0.88 |0.88  |51   |\n",
      "|Event (event)                                                |0.95|0.98|0.98 |0.98 |0.98 |0.98  |42   |\n",
      "|Administrative statuses (finding)                            |0.9 |0.97|0.97 |0.97 |0.97 |0.97  |30   |\n",
      "|Staging and scales (staging scale)                           |0.88|0.92|0.92 |0.92 |0.92 |0.92  |24   |\n",
      "|Specimen (specimen)                                          |0.96|1.0 |1.0  |1.0  |1.0  |1.0   |23   |\n",
      "|Neurological finding (finding)                               |0.91|0.91|0.91 |0.91 |0.91 |0.91  |22   |\n",
      "|Finding by method (finding)                                  |0.85|0.9 |0.9  |0.9  |0.9  |0.9   |20   |\n",
      "|Environment or geographical location (environment / location)|0.94|0.94|0.94 |0.94 |0.94 |0.94  |18   |\n",
      "|SNOMED CT Model Component (metadata)                         |0.79|0.86|0.86 |0.86 |0.93 |0.93  |14   |\n",
      "|Propensity to adverse reaction (finding)                     |0.73|0.73|0.73 |0.82 |0.82 |0.82  |11   |\n",
      "|Wound finding (finding)                                      |0.89|0.89|0.89 |0.89 |0.89 |0.89  |9    |\n",
      "|Special concept (special concept)                            |0.88|0.88|0.88 |0.88 |0.88 |0.88  |8    |\n",
      "|Edema (finding)                                              |0.0 |0.0 |0.0  |0.0  |0.0  |0.0   |7    |\n",
      "|Record artifact (record artifact)                            |0.0 |0.0 |0.0  |0.0  |0.0  |0.0   |6    |\n",
      "|General clinical state finding (finding)                     |0.8 |0.8 |0.8  |0.8  |0.8  |0.8   |5    |\n",
      "|Fetal finding (finding)                                      |0.0 |0.0 |0.0  |0.0  |0.0  |0.0   |5    |\n",
      "|Bleeding (finding)                                           |0.0 |0.0 |0.0  |0.0  |0.0  |0.0   |4    |\n",
      "|Erythema (finding)                                           |0.0 |0.0 |0.0  |0.0  |0.0  |0.0   |1    |\n",
      "|Effect of exposure to physical force (finding)               |0.0 |0.0 |0.0  |0.0  |0.0  |0.0   |1    |\n",
      "|Deformity (finding)                                          |0.0 |0.0 |0.0  |0.0  |0.0  |0.0   |1    |\n",
      "|Color finding (finding)                                      |0.0 |0.0 |0.0  |0.0  |0.0  |0.0   |1    |\n",
      "|Urine finding (finding)                                      |0.0 |0.0 |0.0  |0.0  |0.0  |0.0   |1    |\n",
      "|Finding reported by subject or history provider (finding)    |0.0 |0.0 |0.0  |0.0  |0.0  |0.0   |1    |\n",
      "+-------------------------------------------------------------+----+----+-----+-----+-----+------+-----+\n",
      "\n"
     ]
    }
   ],
   "source": [
    "evaled.groupby(\"topTerm\").agg(\n",
    "    F.mean(\"good\"), \n",
    "    F.mean(\"hat5\"), \n",
    "    F.mean(\"hat10\"), \n",
    "    F.mean(\"hat20\"), \n",
    "    F.mean(\"hat30\"), \n",
    "    F.mean(\"hat500\"), \n",
    "    F.count(\"good\")).orderBy(\"count(good)\", ascending=False)\\\n",
    ".selectExpr(\"topTerm\",\n",
    "            \"round(`avg(good)`, 2) as good\",\n",
    "            \"round(`avg(hat5)`, 2) as hat5\",\n",
    "            \"round(`avg(hat10)`, 2) as hat10\",\n",
    "            \"round(`avg(hat20)`, 2) as hat20\",\n",
    "            \"round(`avg(hat30)`, 2) as hat30\",\n",
    "            \"round(`avg(hat500)`, 2) as hat500\",\n",
    "            \"`count(good)` as total\")\\\n",
    ".show(100,False)"
   ]
  },
  {
   "cell_type": "code",
   "execution_count": 29,
   "metadata": {},
   "outputs": [
    {
     "name": "stdout",
     "output_type": "stream",
     "text": [
      "7.69 minutes\n"
     ]
    }
   ],
   "source": [
    "print(round((time.time()-start)/60, 2), \"minutes\")"
   ]
  },
  {
   "cell_type": "code",
   "execution_count": null,
   "metadata": {},
   "outputs": [],
   "source": []
  }
 ],
 "metadata": {
  "kernelspec": {
   "display_name": "jsl368",
   "language": "python",
   "name": "jsl368"
  },
  "language_info": {
   "codemirror_mode": {
    "name": "ipython",
    "version": 3
   },
   "file_extension": ".py",
   "mimetype": "text/x-python",
   "name": "python",
   "nbconvert_exporter": "python",
   "pygments_lexer": "ipython3",
   "version": "3.6.8"
  }
 },
 "nbformat": 4,
 "nbformat_minor": 2
}

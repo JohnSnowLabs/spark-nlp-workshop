{
 "cells": [
  {
   "cell_type": "code",
   "execution_count": 1,
   "metadata": {},
   "outputs": [],
   "source": [
    "import sys, time\n",
    "sys.path.append(\"/home/fernandrez/JSL/repos/spark-nlp/python\")\n",
    "sys.path.append(\"/home/fernandrez/JSL/repos/spark-nlp-internal/python\")"
   ]
  },
  {
   "cell_type": "code",
   "execution_count": 2,
   "metadata": {},
   "outputs": [],
   "source": [
    "import sys, time\n",
    "\n",
    "from sparknlp.base import *\n",
    "from sparknlp.annotator import *\n",
    "from sparknlp_jsl.annotator import *\n",
    "from sparknlp.pretrained import ResourceDownloader\n",
    "import pyspark.sql.functions as F\n",
    "#from pyspark.sql.types import StructType, StructField, StringType\n",
    "from pyspark.ml import Pipeline, PipelineModel\n",
    "from pyspark.ml.feature import HashingTF, IDF\n",
    "from pyspark.ml.feature import StringIndexerModel\n",
    "from pyspark.ml.classification import OneVsRestModel"
   ]
  },
  {
   "cell_type": "code",
   "execution_count": 3,
   "metadata": {},
   "outputs": [],
   "source": [
    "concepts = concepts = spark.read.format(\"csv\").option(\"header\",\"true\").load(\"../../../../data/resolution/rxnorm_sample.csv\")\\\n",
    ".withColumn(\"STR\", F.expr(\"lower(STR)\"))"
   ]
  },
  {
   "cell_type": "code",
   "execution_count": null,
   "metadata": {},
   "outputs": [],
   "source": []
  },
  {
   "cell_type": "code",
   "execution_count": 4,
   "metadata": {},
   "outputs": [],
   "source": [
    "tokenizer_chars = [\"'\",\",\",\"/\",\" \",\".\",\"|\",\"@\",\"#\",\"%\",\"&\",\"$\",\"[\",\"]\",\"(\",\")\",\"-\",\";\",\"=\"]"
   ]
  },
  {
   "cell_type": "code",
   "execution_count": 5,
   "metadata": {},
   "outputs": [],
   "source": [
    "docAssembler = DocumentAssembler().setInputCol(\"STR\").setOutputCol(\"document\")\n",
    "\n",
    "tokenizer = Tokenizer().setInputCols(\"document\").setOutputCol(\"token\")\\\n",
    "    .setSplitChars(tokenizer_chars)\n",
    "\n",
    "pipelineModel = Pipeline().setStages([docAssembler, tokenizer]).fit(concepts)"
   ]
  },
  {
   "cell_type": "code",
   "execution_count": null,
   "metadata": {},
   "outputs": [],
   "source": []
  },
  {
   "cell_type": "code",
   "execution_count": 6,
   "metadata": {},
   "outputs": [],
   "source": [
    "ngrammer = NGramGenerator()\\\n",
    "    .setInputCols([\"token\"])\\\n",
    "    .setOutputCol(\"ngram\")\\\n",
    "    .setEnableCumulative(True)\\\n",
    "    .setDelimiter(\"_\")\n",
    "\n",
    "ngramToken = Chunk2Token()\\\n",
    "    .setInputCols(\"ngram\")\\\n",
    "    .setOutputCol(\"ngram_token\")\n",
    "\n",
    "pipelineNgrams = PipelineModel(stages=[\n",
    "    ngrammer,\n",
    "    ngramToken])"
   ]
  },
  {
   "cell_type": "code",
   "execution_count": 7,
   "metadata": {},
   "outputs": [
    {
     "name": "stdout",
     "output_type": "stream",
     "text": [
      "embeddings_icdoem_2ng download started this may take some time.\n",
      "Approximate size to download 10.9 GB\n",
      "[OK!]\n"
     ]
    }
   ],
   "source": [
    "embeddingsModel = WordEmbeddingsModel.pretrained(\"embeddings_icdoem_2ng\", \"en\", \"clinical/models\")\\\n",
    "    .setInputCols(\"document\", \"token\")\\\n",
    "    .setOutputCol(\"embeddings\")"
   ]
  },
  {
   "cell_type": "code",
   "execution_count": null,
   "metadata": {},
   "outputs": [],
   "source": []
  },
  {
   "cell_type": "code",
   "execution_count": 8,
   "metadata": {},
   "outputs": [],
   "source": [
    "doc2Chunk = Doc2Chunk().setInputCols(\"document\").setOutputCol(\"chunk\")\n",
    "\n",
    "chunkEmbeddings = ChunkEmbeddings()\\\n",
    "    .setInputCols(\"chunk\", \"embeddings\")\\\n",
    "    .setOutputCol(\"chunk_embeddings\")\n",
    "\n",
    "pipelineChunkEmbeddings = PipelineModel([doc2Chunk, chunkEmbeddings])"
   ]
  },
  {
   "cell_type": "code",
   "execution_count": 9,
   "metadata": {},
   "outputs": [],
   "source": [
    "concepts_embedded = PipelineModel([pipelineModel, pipelineNgrams, embeddingsModel, pipelineChunkEmbeddings]).transform(concepts)"
   ]
  },
  {
   "cell_type": "code",
   "execution_count": 10,
   "metadata": {},
   "outputs": [],
   "source": [
    "concepts_embedded.write.mode(\"overwrite\").save(\"data/rxnorm_concepts_embedded\")"
   ]
  },
  {
   "cell_type": "code",
   "execution_count": 11,
   "metadata": {},
   "outputs": [],
   "source": [
    "concepts_embedded = spark.read.load(\"data/rxnorm_concepts_embedded\")"
   ]
  },
  {
   "cell_type": "code",
   "execution_count": 12,
   "metadata": {},
   "outputs": [
    {
     "data": {
      "text/plain": [
       "0.4221108830768571"
      ]
     },
     "execution_count": 12,
     "metadata": {},
     "output_type": "execute_result"
    }
   ],
   "source": [
    "#Let's check embeddings coverage\n",
    "concepts_embedded.selectExpr(\"STY_TTY\",\"explode(embeddings) as embs\")\\\n",
    ".selectExpr(\"STY_TTY\",\"case when embs.metadata.isOOV=='false' then 1 else 0 end as coverage\")\\\n",
    ".groupby(\"STY_TTY\").agg(F.expr(\"avg(coverage) as cov\")).orderBy(\"cov\").toPandas()[\"cov\"].mean()"
   ]
  },
  {
   "cell_type": "code",
   "execution_count": 13,
   "metadata": {},
   "outputs": [
    {
     "name": "stdout",
     "output_type": "stream",
     "text": [
      "+---------------+-----+\n",
      "|word           |count|\n",
      "+---------------+-----+\n",
      "|0              |479  |\n",
      "|mg             |336  |\n",
      "|1              |248  |\n",
      "|5              |204  |\n",
      "|-              |180  |\n",
      "|2              |175  |\n",
      "|.              |162  |\n",
      "|ml             |134  |\n",
      "|oral           |133  |\n",
      "|3              |113  |\n",
      "|,              |86   |\n",
      "|)              |69   |\n",
      "|(              |69   |\n",
      "|in             |63   |\n",
      "|product        |62   |\n",
      "|tablet         |61   |\n",
      "|4              |60   |\n",
      "|g              |57   |\n",
      "|6              |56   |\n",
      "|topical        |47   |\n",
      "|7              |43   |\n",
      "|8              |39   |\n",
      "|acid           |32   |\n",
      "|solution       |26   |\n",
      "|9              |26   |\n",
      "|capsule        |25   |\n",
      "|mcg            |23   |\n",
      "|release        |19   |\n",
      "|powder         |18   |\n",
      "|hydrochloride  |18   |\n",
      "|vitamin        |16   |\n",
      "|\"              |16   |\n",
      "|extended       |16   |\n",
      "|gram           |15   |\n",
      "|potassium      |14   |\n",
      "|liquid         |14   |\n",
      "|injectable     |14   |\n",
      "|chloride       |13   |\n",
      "|iu             |13   |\n",
      "|spf            |12   |\n",
      "|cream          |12   |\n",
      "|zinc           |12   |\n",
      "|only           |12   |\n",
      "|lotion         |11   |\n",
      "|hcl            |11   |\n",
      "|tab            |11   |\n",
      "|phenylephrine  |11   |\n",
      "|miscell        |10   |\n",
      "|octinoxate     |10   |\n",
      "|calcium        |10   |\n",
      "|containing     |10   |\n",
      "|sodium         |10   |\n",
      "|x              |9    |\n",
      "|iron           |9    |\n",
      "|guaifenesin    |9    |\n",
      "|meq            |9    |\n",
      "|chewable       |8    |\n",
      "|injection      |8    |\n",
      "|form           |8    |\n",
      "|e              |8    |\n",
      "|extract        |8    |\n",
      "|magnesium      |8    |\n",
      "|medicinal      |8    |\n",
      "|pill           |8    |\n",
      "|ascorbic       |8    |\n",
      "|ophthalmic     |8    |\n",
      "|suspension     |8    |\n",
      "|dioxide        |7    |\n",
      "|syringe        |7    |\n",
      "|gel            |7    |\n",
      "|dose           |7    |\n",
      "|unt            |7    |\n",
      "|and            |7    |\n",
      "|phosphate      |7    |\n",
      "|oxybenzone     |7    |\n",
      "|hr             |7    |\n",
      "|oil            |7    |\n",
      "|a              |7    |\n",
      "|avobenzone     |6    |\n",
      "|salicylic      |6    |\n",
      "|selenium       |6    |\n",
      "|acetaminophen  |6    |\n",
      "|octisalate     |6    |\n",
      "|broad          |6    |\n",
      "|pseudoephedrine|6    |\n",
      "|inj            |6    |\n",
      "|spectrum       |6    |\n",
      "|titanium       |6    |\n",
      "|camphor        |6    |\n",
      "|estradiol      |6    |\n",
      "|d              |6    |\n",
      "|ointment       |5    |\n",
      "|oxide          |5    |\n",
      "|b              |5    |\n",
      "|intravenous    |5    |\n",
      "|octocrylene    |5    |\n",
      "|menthol        |5    |\n",
      "|pack           |5    |\n",
      "|stick          |5    |\n",
      "|kit            |5    |\n",
      "+---------------+-----+\n",
      "only showing top 100 rows\n",
      "\n"
     ]
    }
   ],
   "source": [
    "word_distribution = concepts_embedded.selectExpr(\"explode(token.result) as word\").groupby(\"word\").count()\n",
    "word_distribution.orderBy(\"count\",ascending=False).show(100, False)"
   ]
  },
  {
   "cell_type": "code",
   "execution_count": 14,
   "metadata": {},
   "outputs": [
    {
     "data": {
      "text/plain": [
       "958"
      ]
     },
     "execution_count": 14,
     "metadata": {},
     "output_type": "execute_result"
    }
   ],
   "source": [
    "word_distribution.count()"
   ]
  },
  {
   "cell_type": "code",
   "execution_count": null,
   "metadata": {},
   "outputs": [],
   "source": []
  },
  {
   "cell_type": "code",
   "execution_count": 15,
   "metadata": {},
   "outputs": [],
   "source": [
    "#Currently working on making the first layer available using the Pretrained framework -> 2.4.2\n",
    "#model_idx = ResourceDownloader.downloadModel(\"StringIndexerModel\", \"resolve_snomed_l1_idx_icdoem_2ng\", \"en\", \"clinical/models\")\n",
    "#model_tfidf = ResourceDownloader.downloadPipeline(\"resolve_snomed_l1_tfidf_icdoem_2ng\", \"en\", \"clinical/models\")\n",
    "#model_ovrlrc = ResourceDownloader.downloadModel(\"OneVsRestModel\", \"resolve_snomed_l1_ovrlrc_icdoem_2ng\", \"en\", \"clinical/models\")"
   ]
  },
  {
   "cell_type": "code",
   "execution_count": 16,
   "metadata": {},
   "outputs": [],
   "source": [
    "sidx = StringIndexerModel.load(\"_models/rxnorm_indexer\")"
   ]
  },
  {
   "cell_type": "code",
   "execution_count": 17,
   "metadata": {},
   "outputs": [],
   "source": [
    "layer1 = DocumentLogRegClassifierApproach()\\\n",
    "    .setInputCols(\"ngram_token\")\\\n",
    "    .setOutputCol(\"partition\")\\\n",
    "    .setLabels(sidx.labels)\\\n",
    "    .setVectorizationModelPath(\"_models/rxnorm_tfidfer\")\\\n",
    "    .setClassificationModelPath(\"_models/rxnorm_ovrlrc\")\\\n",
    "    .fit(concepts_embedded)\\\n",
    "    .setMergeChunks(False)"
   ]
  },
  {
   "cell_type": "code",
   "execution_count": 19,
   "metadata": {},
   "outputs": [
    {
     "name": "stdout",
     "output_type": "stream",
     "text": [
      "resolve_rxnorm_l2_icdoem_2ng download started this may take some time.\n",
      "Approx size to download 514.4 MB\n",
      "[OK!]\n"
     ]
    }
   ],
   "source": [
    "#Second layer is available through the Pretrained framework\n",
    "layer_2 = RecursivePipelineModel(\n",
    "    ResourceDownloader.downloadPipeline(\"resolve_rxnorm_l2_icdoem_2ng\", \"en\", \"clinical/models\")\n",
    ")"
   ]
  },
  {
   "cell_type": "code",
   "execution_count": 20,
   "metadata": {},
   "outputs": [],
   "source": [
    "fullPipeline = Pipeline().setStages([layer1, layer_2]).fit(concepts_embedded)"
   ]
  },
  {
   "cell_type": "code",
   "execution_count": 21,
   "metadata": {},
   "outputs": [],
   "source": [
    "start = time.time()\n",
    "transformed_full = fullPipeline.transform(concepts_embedded)"
   ]
  },
  {
   "cell_type": "code",
   "execution_count": 33,
   "metadata": {},
   "outputs": [],
   "source": [
    "predicted = transformed_full.withColumn(\"prediction\", F.expr(\"partition.result[0]\")).cache()\n",
    "metrics = predicted.withColumn(\"ok\",F.expr(\"case when prediction==STY_TTY then 1 else 0 end\"))\\\n",
    "                                   .groupby(\"STY_TTY\").agg(F.expr(\"avg(ok) as recall\"), F.expr(\"count(ok) as tr_cnt\"))\\\n",
    "                                    .join(\n",
    "predicted.withColumn(\"ok\",F.expr(\"case when prediction==STY_TTY then 1 else 0 end\"))\\\n",
    "                                   .groupby(\"prediction\").agg(F.expr(\"avg(ok) as precision\")),F.col(\"STY_TTY\")==F.col(\"prediction\")\n",
    ").withColumn(\"f1\", F.expr(\"2*precision*recall/(precision+recall)\")).orderBy(\"f1\")\\\n",
    ".selectExpr(\"STY_TTY\",\"tr_cnt\",\"round(precision,3) as train_precision\",\"round(recall,3) as train_recall\",\"round(f1, 3) as train_f1\")"
   ]
  },
  {
   "cell_type": "code",
   "execution_count": 34,
   "metadata": {},
   "outputs": [
    {
     "name": "stdout",
     "output_type": "stream",
     "text": [
      "+------------------------------------------------------+------+---------------+------------+--------+\n",
      "|STY_TTY                                               |tr_cnt|train_precision|train_recall|train_f1|\n",
      "+------------------------------------------------------+------+---------------+------------+--------+\n",
      "|Manufactured Object                                   |3     |1.0            |0.333       |0.5     |\n",
      "|Indicator, Reagent, or Diagnostic Aid                 |2     |0.5            |0.5         |0.5     |\n",
      "|Clinical Drug Semantic Drug Component                 |23    |0.447          |0.913       |0.6     |\n",
      "|Biomedical or Dental Material                         |5     |0.5            |0.8         |0.615   |\n",
      "|Organic Chemical                                      |8     |0.583          |0.875       |0.7     |\n",
      "|Pharmacologic Substance                               |46    |0.673          |0.804       |0.733   |\n",
      "|Clinical Drug Semantic Clinical Drug                  |39    |0.667          |0.923       |0.774   |\n",
      "|Clinical Drug Clinical drug name in abbreviated format|27    |0.885          |0.852       |0.868   |\n",
      "|Clinical Drug Clinical Drug                           |86    |0.916          |0.884       |0.899   |\n",
      "|Clinical Drug Semantic clinical drug group            |19    |0.947          |0.947       |0.947   |\n",
      "|Clinical Drug Semantic branded drug group             |29    |0.933          |0.966       |0.949   |\n",
      "|Food                                                  |10    |0.909          |1.0         |0.952   |\n",
      "|Clinical Drug Semantic clinical drug and form         |11    |0.917          |1.0         |0.957   |\n",
      "|Drug Delivery Device                                  |13    |0.929          |1.0         |0.963   |\n",
      "|Substance                                             |21    |0.955          |1.0         |0.977   |\n",
      "|Medical Device                                        |28    |0.966          |1.0         |0.982   |\n",
      "|Immunologic Factor                                    |3     |1.0            |1.0         |1.0     |\n",
      "+------------------------------------------------------+------+---------------+------------+--------+\n",
      "\n"
     ]
    }
   ],
   "source": [
    "metrics.show(100, False)"
   ]
  },
  {
   "cell_type": "code",
   "execution_count": 25,
   "metadata": {},
   "outputs": [],
   "source": [
    "with_alternatives = predicted\\\n",
    "    .withColumn(\"resolution\",F.expr(\"split(substring(rxnorm_code.metadata[0]['all_k_results'],2,length(rxnorm_code.metadata[0]['all_k_results'])-2),'\\\\\\\\],\\\\\\\\[')\"))"
   ]
  },
  {
   "cell_type": "code",
   "execution_count": 28,
   "metadata": {},
   "outputs": [],
   "source": [
    "evaled = with_alternatives\\\n",
    "    .withColumn(\"good\", F.expr(\"case when RXCUI=rxnorm_code.result[0] then 1 else 0 end\"))\\\n",
    "    .withColumn(\"hat5\", F.expr(\"case when array_contains(slice(resolution, 1, 5), RXCUI) then 1 else 0 end\"))\\\n",
    "    .withColumn(\"hat10\", F.expr(\"case when array_contains(slice(resolution, 1, 10), RXCUI) then 1 else 0 end\"))\\\n",
    "    .withColumn(\"hat20\", F.expr(\"case when array_contains(slice(resolution, 1, 20), RXCUI) then 1 else 0 end\"))\\\n",
    "    .withColumn(\"hat30\", F.expr(\"case when array_contains(slice(resolution, 1, 30), RXCUI) then 1 else 0 end\"))\\\n",
    "    .withColumn(\"hat500\", F.expr(\"case when array_contains(slice(resolution, 1, 500), RXCUI) then 1 else 0 end\"))"
   ]
  },
  {
   "cell_type": "code",
   "execution_count": 29,
   "metadata": {},
   "outputs": [
    {
     "name": "stdout",
     "output_type": "stream",
     "text": [
      "+------------------------------------------------------+----+----+-----+-----+-----+------+-----+\n",
      "|STY_TTY                                               |good|hat5|hat10|hat20|hat30|hat500|total|\n",
      "+------------------------------------------------------+----+----+-----+-----+-----+------+-----+\n",
      "|Clinical Drug Clinical Drug                           |0.55|0.85|0.93 |0.95 |0.95 |0.95  |86   |\n",
      "|Pharmacologic Substance                               |0.74|0.78|0.78 |0.78 |0.8  |0.8   |46   |\n",
      "|Clinical Drug Semantic Clinical Drug                  |0.28|0.67|0.85 |0.92 |0.92 |0.92  |39   |\n",
      "|Clinical Drug Semantic branded drug group             |0.34|0.45|0.45 |0.48 |0.48 |0.48  |29   |\n",
      "|Medical Device                                        |0.43|0.71|0.79 |0.86 |0.86 |0.86  |28   |\n",
      "|Clinical Drug Clinical drug name in abbreviated format|0.44|0.78|0.78 |0.93 |0.93 |0.93  |27   |\n",
      "|Clinical Drug Semantic Drug Component                 |0.17|0.57|0.61 |0.83 |0.91 |0.91  |23   |\n",
      "|Clinical Drug Semantic Branded Drug Component         |0.0 |0.0 |0.0  |0.0  |0.0  |0.0   |22   |\n",
      "|Substance                                             |0.9 |1.0 |1.0  |1.0  |1.0  |1.0   |21   |\n",
      "|Clinical Drug Semantic clinical drug group            |0.89|0.95|0.95 |0.95 |0.95 |0.95  |19   |\n",
      "|Clinical Drug Semantic branded drug                   |0.0 |0.0 |0.0  |0.0  |0.0  |0.0   |16   |\n",
      "|Drug Delivery Device                                  |0.54|0.77|0.85 |0.85 |0.92 |0.92  |13   |\n",
      "|Clinical Drug Semantic clinical drug and form         |1.0 |1.0 |1.0  |1.0  |1.0  |1.0   |11   |\n",
      "|Food                                                  |0.9 |1.0 |1.0  |1.0  |1.0  |1.0   |10   |\n",
      "|Organic Chemical                                      |0.63|0.63|0.63 |0.63 |0.63 |0.63  |8    |\n",
      "| Row(annotatorType='token'                            |0.0 |0.0 |0.0  |0.0  |0.0  |0.0   |5    |\n",
      "|Biomedical or Dental Material                         |0.6 |0.6 |0.6  |0.6  |0.6  |0.6   |5    |\n",
      "|Manufactured Object                                   |0.33|0.33|0.33 |0.33 |0.33 |0.33  |3    |\n",
      "| begin=22                                             |0.0 |0.0 |0.0  |0.0  |0.0  |0.0   |3    |\n",
      "|Immunologic Factor                                    |1.0 |1.0 |1.0  |1.0  |1.0  |1.0   |3    |\n",
      "|Indicator, Reagent, or Diagnostic Aid                 |0.5 |0.5 |0.5  |0.5  |0.5  |0.5   |2    |\n",
      "| begin=19                                             |0.0 |0.0 |0.0  |0.0  |0.0  |0.0   |2    |\n",
      "| begin=38                                             |0.0 |0.0 |0.0  |0.0  |0.0  |0.0   |1    |\n",
      "| begin=27                                             |0.0 |0.0 |0.0  |0.0  |0.0  |0.0   |1    |\n",
      "| begin=29                                             |0.0 |0.0 |0.0  |0.0  |0.0  |0.0   |1    |\n",
      "| begin=30                                             |0.0 |0.0 |0.0  |0.0  |0.0  |0.0   |1    |\n",
      "| result='                                             |0.0 |0.0 |0.0  |0.0  |0.0  |0.0   |1    |\n",
      "| begin=7                                              |0.0 |0.0 |0.0  |0.0  |0.0  |0.0   |1    |\n",
      "| begin=45                                             |0.0 |0.0 |0.0  |0.0  |0.0  |0.0   |1    |\n",
      "+------------------------------------------------------+----+----+-----+-----+-----+------+-----+\n",
      "\n"
     ]
    }
   ],
   "source": [
    "evaled.groupby(\"STY_TTY\").agg(\n",
    "    F.mean(\"good\"), \n",
    "    F.mean(\"hat5\"), \n",
    "    F.mean(\"hat10\"), \n",
    "    F.mean(\"hat20\"), \n",
    "    F.mean(\"hat30\"), \n",
    "    F.mean(\"hat500\"), \n",
    "    F.count(\"good\")).orderBy(\"count(good)\", ascending=False)\\\n",
    ".selectExpr(\"STY_TTY\",\n",
    "            \"round(`avg(good)`, 2) as good\",\n",
    "            \"round(`avg(hat5)`, 2) as hat5\",\n",
    "            \"round(`avg(hat10)`, 2) as hat10\",\n",
    "            \"round(`avg(hat20)`, 2) as hat20\",\n",
    "            \"round(`avg(hat30)`, 2) as hat30\",\n",
    "            \"round(`avg(hat500)`, 2) as hat500\",\n",
    "            \"`count(good)` as total\")\\\n",
    ".show(100,False)"
   ]
  },
  {
   "cell_type": "code",
   "execution_count": 30,
   "metadata": {},
   "outputs": [
    {
     "name": "stdout",
     "output_type": "stream",
     "text": [
      "2.64 minutes\n"
     ]
    }
   ],
   "source": [
    "print(round((time.time()-start)/60, 2), \"minutes\")"
   ]
  },
  {
   "cell_type": "code",
   "execution_count": null,
   "metadata": {},
   "outputs": [],
   "source": []
  }
 ],
 "metadata": {
  "kernelspec": {
   "display_name": "jsl368",
   "language": "python",
   "name": "jsl368"
  },
  "language_info": {
   "codemirror_mode": {
    "name": "ipython",
    "version": 3
   },
   "file_extension": ".py",
   "mimetype": "text/x-python",
   "name": "python",
   "nbconvert_exporter": "python",
   "pygments_lexer": "ipython3",
   "version": "3.6.8"
  }
 },
 "nbformat": 4,
 "nbformat_minor": 2
}

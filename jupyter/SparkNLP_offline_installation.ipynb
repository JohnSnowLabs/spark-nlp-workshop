{
 "cells": [
  {
   "cell_type": "markdown",
   "metadata": {
    "id": "PA-GQ-icbc4l"
   },
   "source": [
    "# Description\n",
    "## This notebok provides set of commands to install Spark NLP for offline usage. It contains 4 sections:\n",
    "\n",
    "0) Initial setup\n",
    "\n",
    "1) Download all dependencies for Spark NLP\n",
    "\n",
    "2) Download all dependencies for Spark NLP (enterprise/licensed)\n",
    "\n",
    "3) Download all dependencies for Spark NLP OCR\n",
    "\n",
    "4) Download all models/embeddings for offline usage\n",
    "\n",
    "    4-1) Download public models with wget shell command \\\n",
    "    4-2) Download licensed models via boto3 \\\n",
    "    4-3) Download licensed models via ResourcceDownloader / InternalResourceDownloader methods \\ \n",
    "    \n",
    "       \n",
    "`p.s: This notebook runned succesfully in:`\n",
    "\n",
    "               `Distributor ID: Ubuntu  \n",
    "                Description:    Ubuntu 22.04.3 LTS  \n",
    "                Release:        22.04`  \n",
    "                \n"
   ]
  },
  {
   "cell_type": "markdown",
   "metadata": {
    "id": "JQfDxcj_cHfB"
   },
   "source": [
    "## 0) Initial setup"
   ]
  },
  {
   "cell_type": "code",
   "execution_count": 1,
   "metadata": {
    "colab": {
     "base_uri": "https://localhost:8080/",
     "height": 54
    },
    "id": "gksUrPmN6uk7",
    "outputId": "05e6b829-2faa-4a1e-f666-00b3279f0052"
   },
   "outputs": [
    {
     "data": {
      "text/plain": [
       "dict_keys(['SPARK_NLP_LICENSE', 'SECRET', 'JSL_VERSION', 'SPARK_OCR_LICENSE', 'SPARK_OCR_SECRET', 'OCR_VERSION', 'PUBLIC_VERSION', 'AWS_ACCESS_KEY_ID', 'AWS_SECRET_ACCESS_KEY'])"
      ]
     },
     "execution_count": 1,
     "metadata": {},
     "output_type": "execute_result"
    }
   ],
   "source": [
    "# load and point the licence_keys as 'spark_jsl.json' file\n",
    "\n",
    "import json, os\n",
    "\n",
    "with open('spark_jsl.json') as f:\n",
    "    license_keys = json.load(f)\n",
    "\n",
    "\n",
    "locals().update(license_keys)\n",
    "os.environ.update(license_keys)\n",
    "license_keys.keys()\n",
    "\n"
   ]
  },
  {
   "cell_type": "code",
   "execution_count": 3,
   "metadata": {},
   "outputs": [],
   "source": [
    "! sudo apt-get update -qq"
   ]
  },
  {
   "cell_type": "code",
   "execution_count": 5,
   "metadata": {},
   "outputs": [
    {
     "name": "stdout",
     "output_type": "stream",
     "text": [
      "Scanning processes...                                                           \n",
      "Scanning candidates...                                                          \n",
      "Scanning linux images...                                                        \n",
      "\n",
      "Running kernel seems to be up-to-date.\n",
      "\n",
      "Restarting services...\n"
     ]
    }
   ],
   "source": [
    "# installing JAVA\n",
    "\n",
    "! sudo apt-get install -y openjdk-8-jdk-headless -qq > /dev/null"
   ]
  },
  {
   "cell_type": "code",
   "execution_count": 2,
   "metadata": {
    "colab": {
     "base_uri": "https://localhost:8080/",
     "height": 68
    },
    "id": "VKzKoFqYeuXV",
    "outputId": "e43e3d88-a357-4b0d-86ca-ecd14e4de0a1"
   },
   "outputs": [
    {
     "name": "stdout",
     "output_type": "stream",
     "text": [
      "openjdk version \"1.8.0_392\"\n",
      "OpenJDK Runtime Environment (build 1.8.0_392-8u392-ga-1~22.04-b08)\n",
      "OpenJDK 64-Bit Server VM (build 25.392-b08, mixed mode)\n"
     ]
    }
   ],
   "source": [
    "import os\n",
    "os.environ[\"JAVA_HOME\"] = \"/usr/lib/jvm/java-8-openjdk-amd64\"\n",
    "os.environ[\"PATH\"] = os.environ[\"JAVA_HOME\"] + \"/bin:\" + os.environ[\"PATH\"]\n",
    "!java -version"
   ]
  },
  {
   "cell_type": "code",
   "execution_count": 3,
   "metadata": {},
   "outputs": [
    {
     "name": "stdout",
     "output_type": "stream",
     "text": [
      "/usr/lib/jvm/java-8-openjdk-amd64\n"
     ]
    }
   ],
   "source": [
    "print(os.environ[\"JAVA_HOME\"])"
   ]
  },
  {
   "cell_type": "code",
   "execution_count": 4,
   "metadata": {
    "colab": {
     "base_uri": "https://localhost:8080/",
     "height": 68
    },
    "id": "wFLhAlrrekgY",
    "outputId": "3645e311-51d5-4175-8562-0d80e1c33b72"
   },
   "outputs": [],
   "source": [
    "!pip install --upgrade -q pyspark==3.4.1"
   ]
  },
  {
   "cell_type": "code",
   "execution_count": 4,
   "metadata": {
    "colab": {
     "base_uri": "https://localhost:8080/",
     "height": 34
    },
    "id": "JcCaD_opjW2j",
    "outputId": "40ab71c2-7d13-4550-dc1a-1bc1de9aff3d"
   },
   "outputs": [
    {
     "name": "stdout",
     "output_type": "stream",
     "text": [
      "pyspark                3.4.1\n"
     ]
    }
   ],
   "source": [
    "!pip list | grep spark"
   ]
  },
  {
   "cell_type": "code",
   "execution_count": null,
   "metadata": {},
   "outputs": [],
   "source": [
    "! curl \"https://awscli.amazonaws.com/awscli-exe-linux-x86_64.zip\" -o \"awscliv2.zip\"\n",
    "! unzip awscliv2.zip  # sudo apt install unzip if not installed\n",
    "! sudo ./aws/install"
   ]
  },
  {
   "cell_type": "markdown",
   "metadata": {},
   "source": [
    "## 1) Download all dependencies for Spark NLP"
   ]
  },
  {
   "cell_type": "code",
   "execution_count": 8,
   "metadata": {
    "id": "c1c6LBDRi94D"
   },
   "outputs": [
    {
     "name": "stdout",
     "output_type": "stream",
     "text": [
      "--2023-12-30 18:14:16--  https://s3.amazonaws.com/auxdata.johnsnowlabs.com/public/jars/spark-nlp-assembly-5.2.0.jar\n",
      "Resolving s3.amazonaws.com (s3.amazonaws.com)... 16.182.38.160, 52.216.9.101, 52.216.93.221, ...\n",
      "Connecting to s3.amazonaws.com (s3.amazonaws.com)|16.182.38.160|:443... connected.\n",
      "HTTP request sent, awaiting response... "
     ]
    },
    {
     "name": "stdout",
     "output_type": "stream",
     "text": [
      "200 OK\n",
      "Length: 722128385 (689M) [application/java-archive]\n",
      "Saving to: ‘/usr/lib/spark/jars/spark-nlp-assembly-5.2.0.jar’\n",
      "\n",
      "spark-nlp-assembly- 100%[===================>] 688.67M  35.5MB/s    in 19s     \n",
      "\n",
      "2023-12-30 18:14:36 (35.5 MB/s) - ‘/usr/lib/spark/jars/spark-nlp-assembly-5.2.0.jar’ saved [722128385/722128385]\n",
      "\n"
     ]
    }
   ],
   "source": [
    "# spark-nlp jar\n",
    "!sudo wget  https://s3.amazonaws.com/auxdata.johnsnowlabs.com/public/jars/spark-nlp-assembly-$PUBLIC_VERSION.jar -P /usr/lib/spark/jars/"
   ]
  },
  {
   "cell_type": "code",
   "execution_count": 11,
   "metadata": {},
   "outputs": [
    {
     "name": "stdout",
     "output_type": "stream",
     "text": [
      "Defaulting to user installation because normal site-packages is not writeable\n",
      "Collecting spark-nlp==5.2.0\n",
      "  Downloading spark_nlp-5.2.0-py2.py3-none-any.whl (548 kB)\n",
      "\u001b[2K     \u001b[90m━━━━━━━━━━━━━━━━━━━━━━━━━━━━━━━━━━━━━━━\u001b[0m \u001b[32m548.5/548.5 KB\u001b[0m \u001b[31m7.6 MB/s\u001b[0m eta \u001b[36m0:00:00\u001b[0m00:01\u001b[0m00:01\u001b[0m\n",
      "\u001b[?25hInstalling collected packages: spark-nlp\n",
      "Successfully installed spark-nlp-5.2.0\n"
     ]
    }
   ],
   "source": [
    "# spark-nlp wheel\n",
    "! pip install spark-nlp==$PUBLIC_VERSION"
   ]
  },
  {
   "cell_type": "code",
   "execution_count": 12,
   "metadata": {},
   "outputs": [
    {
     "name": "stdout",
     "output_type": "stream",
     "text": [
      "pyspark                3.4.1\n",
      "spark-nlp              5.2.0\n"
     ]
    }
   ],
   "source": [
    "!pip list | grep spark"
   ]
  },
  {
   "cell_type": "markdown",
   "metadata": {
    "id": "S1lC_kgv0QU8"
   },
   "source": [
    "## 2) Download all dependencies for Spark NLP (enterprise/licensed)"
   ]
  },
  {
   "cell_type": "code",
   "execution_count": 13,
   "metadata": {
    "id": "MVP0_TeTIVB9"
   },
   "outputs": [
    {
     "name": "stdout",
     "output_type": "stream",
     "text": [
      "--2023-12-30 18:38:58--  https://s3.eu-west-1.amazonaws.com/pypi.johnsnowlabs.com/5.2.0-b05bf6cf9656ef4a0fe918a037481a8ef7245fcb/spark-nlp-jsl-5.2.0.jar\n",
      "Resolving s3.eu-west-1.amazonaws.com (s3.eu-west-1.amazonaws.com)... 52.92.19.224, 52.92.4.16, 52.218.56.11, ...\n",
      "Connecting to s3.eu-west-1.amazonaws.com (s3.eu-west-1.amazonaws.com)|52.92.19.224|:443... connected.\n",
      "HTTP request sent, awaiting response... 200 OK\n",
      "Length: 40061499 (38M) [application/octet-stream]\n",
      "Saving to: ‘/usr/lib/spark/jars/spark-nlp-jsl-5.2.0.jar’\n",
      "\n",
      "spark-nlp-jsl-5.2.0 100%[===================>]  38.21M  19.2MB/s    in 2.0s    \n",
      "\n",
      "2023-12-30 18:39:00 (19.2 MB/s) - ‘/usr/lib/spark/jars/spark-nlp-jsl-5.2.0.jar’ saved [40061499/40061499]\n",
      "\n"
     ]
    }
   ],
   "source": [
    "# spark nlp JSL JAR\n",
    "!sudo wget https://s3.eu-west-1.amazonaws.com/pypi.johnsnowlabs.com/$SECRET/spark-nlp-jsl-$JSL_VERSION.jar -P /usr/lib/spark/jars/"
   ]
  },
  {
   "cell_type": "code",
   "execution_count": 15,
   "metadata": {
    "id": "Re8Nz55gGINz"
   },
   "outputs": [
    {
     "name": "stdout",
     "output_type": "stream",
     "text": [
      "--2023-12-30 18:41:09--  https://s3.eu-west-1.amazonaws.com/pypi.johnsnowlabs.com/5.2.0-b05bf6cf9656ef4a0fe918a037481a8ef7245fcb/spark-nlp-jsl/spark_nlp_jsl-5.2.0-py3-none-any.whl\n",
      "Resolving s3.eu-west-1.amazonaws.com (s3.eu-west-1.amazonaws.com)... 52.218.90.59, 52.218.36.218, 52.92.17.144, ...\n",
      "Connecting to s3.eu-west-1.amazonaws.com (s3.eu-west-1.amazonaws.com)|52.218.90.59|:443... "
     ]
    },
    {
     "name": "stdout",
     "output_type": "stream",
     "text": [
      "connected.\n",
      "HTTP request sent, awaiting response... 200 OK\n",
      "Length: 473226 (462K) [application/x-gzip]\n",
      "Saving to: ‘/usr/lib/spark/jars/spark_nlp_jsl-5.2.0-py3-none-any.whl’\n",
      "\n",
      "spark_nlp_jsl-5.2.0 100%[===================>] 462.13K  1.66MB/s    in 0.3s    \n",
      "\n",
      "2023-12-30 18:41:10 (1.66 MB/s) - ‘/usr/lib/spark/jars/spark_nlp_jsl-5.2.0-py3-none-any.whl’ saved [473226/473226]\n",
      "\n"
     ]
    }
   ],
   "source": [
    "# park nlp JSL wheel\n",
    "! sudo wget https://s3.eu-west-1.amazonaws.com/pypi.johnsnowlabs.com/$SECRET/spark-nlp-jsl/spark_nlp_jsl-$JSL_VERSION-py3-none-any.whl -P /usr/lib/spark/jars/"
   ]
  },
  {
   "cell_type": "code",
   "execution_count": 6,
   "metadata": {
    "id": "MZ9ZXoNZGZfv"
   },
   "outputs": [
    {
     "name": "stdout",
     "output_type": "stream",
     "text": [
      "\u001b[31mERROR: pip's dependency resolver does not currently take into account all the packages that are installed. This behaviour is the source of the following dependency conflicts.\n",
      "spark-ocr 5.1.2 requires spark-nlp==5.1.2, but you have spark-nlp 5.1.1 which is incompatible.\u001b[0m\u001b[31m\n",
      "\u001b[0m"
     ]
    }
   ],
   "source": [
    "!pip install -q /usr/lib/spark/jars/spark_nlp_jsl-$JSL_VERSION-py3-none-any.whl"
   ]
  },
  {
   "cell_type": "code",
   "execution_count": 17,
   "metadata": {
    "colab": {
     "base_uri": "https://localhost:8080/",
     "height": 68
    },
    "id": "eMz1WnR-GbdS",
    "outputId": "db7697f5-9742-4da8-8c39-981701fd3810"
   },
   "outputs": [
    {
     "name": "stdout",
     "output_type": "stream",
     "text": [
      "pyspark                3.4.1\n",
      "spark-nlp              5.2.0\n",
      "spark-nlp-jsl          5.2.0\n"
     ]
    }
   ],
   "source": [
    "!pip list | grep spark"
   ]
  },
  {
   "cell_type": "markdown",
   "metadata": {
    "id": "O40K3dk0HTTJ"
   },
   "source": [
    "## 3) Download all dependencies for Spark NLP OCR"
   ]
  },
  {
   "cell_type": "markdown",
   "metadata": {},
   "source": [
    "`note: if you do not have Johnsnowlabs SparkOCR license, skip this part`"
   ]
  },
  {
   "cell_type": "code",
   "execution_count": 18,
   "metadata": {
    "id": "U2wt9j78CM2j"
   },
   "outputs": [],
   "source": [
    "# spark ocr JAR\n",
    "!sudo wget -q https://s3.eu-west-1.amazonaws.com/pypi.johnsnowlabs.com/$SPARK_OCR_SECRET/jars/spark-ocr-assembly-$OCR_VERSION.jar -P /usr/lib/spark/jars/\n",
    "\n",
    "#spark ocr wheel\n",
    "!sudo wget -q https://s3.eu-west-1.amazonaws.com/pypi.johnsnowlabs.com/$SPARK_OCR_SECRET/spark-ocr/spark_ocr-$OCR_VERSION-py3-none-any.whl -P /usr/lib/spark/jars/"
   ]
  },
  {
   "cell_type": "code",
   "execution_count": 19,
   "metadata": {},
   "outputs": [
    {
     "name": "stdout",
     "output_type": "stream",
     "text": [
      "total 1231488\n",
      "-rw-r--r-- 1 root root 722128385 Dec  8 21:21 spark-nlp-assembly-5.2.0.jar\n",
      "-rw-r--r-- 1 root root  40061499 Dec 23 21:13 spark-nlp-jsl-5.2.0.jar\n",
      "-rw-r--r-- 1 root root 457626988 Nov 17 16:50 spark-ocr-assembly-5.1.0.jar\n",
      "-rw-r--r-- 1 root root    473226 Dec 23 21:13 spark_nlp_jsl-5.2.0-py3-none-any.whl\n",
      "-rw-r--r-- 1 root root  40736607 Nov 17 16:50 spark_ocr-5.1.0-py3-none-any.whl\n"
     ]
    }
   ],
   "source": [
    "!ls -l /usr/lib/spark/jars/"
   ]
  },
  {
   "cell_type": "code",
   "execution_count": 20,
   "metadata": {
    "id": "lvRdkgezH3ZG"
   },
   "outputs": [
    {
     "name": "stdout",
     "output_type": "stream",
     "text": [
      "\u001b[31mERROR: pip's dependency resolver does not currently take into account all the packages that are installed. This behaviour is the source of the following dependency conflicts.\n",
      "spark-nlp-jsl 5.2.0 requires spark-nlp==5.2.0, but you have spark-nlp 5.1.2 which is incompatible.\u001b[0m\u001b[31m\n",
      "\u001b[0m"
     ]
    }
   ],
   "source": [
    "!pip install -q /usr/lib/spark/jars/spark_ocr-$OCR_VERSION-py3-none-any.whl"
   ]
  },
  {
   "cell_type": "code",
   "execution_count": null,
   "metadata": {},
   "outputs": [],
   "source": [
    "# to fix version incompatibility run below again\n",
    "\n",
    "# pip install spark-nlp==$PUBLIC_VERSION"
   ]
  },
  {
   "cell_type": "code",
   "execution_count": 12,
   "metadata": {
    "colab": {
     "base_uri": "https://localhost:8080/",
     "height": 85
    },
    "id": "_jay9Oo4H4vm",
    "outputId": "506068a1-6675-4107-a589-153d99cf0ac8"
   },
   "outputs": [
    {
     "name": "stdout",
     "output_type": "stream",
     "text": [
      "pyspark                3.4.0\n",
      "spark-nlp              5.2.0\n",
      "spark-nlp-jsl          5.2.0\n",
      "spark-ocr              5.1.0\n"
     ]
    }
   ],
   "source": [
    "#sanity check\n",
    "!pip list | grep spark"
   ]
  },
  {
   "cell_type": "markdown",
   "metadata": {
    "id": "Q-8LX-epIq2N"
   },
   "source": [
    "`Installation done. Let's download the models...`"
   ]
  },
  {
   "cell_type": "markdown",
   "metadata": {
    "id": "rlSvYKY4I2jk"
   },
   "source": [
    "## 4) Download all models/embeddings for offline usage"
   ]
  },
  {
   "cell_type": "markdown",
   "metadata": {},
   "source": [
    "### Downloading Public Models simply by wget shell command"
   ]
  },
  {
   "cell_type": "code",
   "execution_count": 22,
   "metadata": {},
   "outputs": [],
   "source": [
    "!mkdir models"
   ]
  },
  {
   "cell_type": "code",
   "execution_count": 8,
   "metadata": {},
   "outputs": [
    {
     "name": "stdout",
     "output_type": "stream",
     "text": [
      "--2023-12-30 19:42:15--  https://s3.amazonaws.com/auxdata.johnsnowlabs.com/public/models/glove_100d_en_2.4.0_2.4_1579690104032.zip\n",
      "Resolving s3.amazonaws.com (s3.amazonaws.com)... 54.231.168.0, 54.231.226.88, 52.217.229.184, ...\n",
      "Connecting to s3.amazonaws.com (s3.amazonaws.com)|54.231.168.0|:443... connected.\n",
      "HTTP request sent, awaiting response... 200 OK\n",
      "Length: 152394105 (145M) [application/zip]\n",
      "Saving to: ‘models/glove_100d_en_2.4.0_2.4_1579690104032.zip’\n",
      "\n",
      "glove_100d_en_2.4.0 100%[===================>] 145.33M   104MB/s    in 1.4s    \n",
      "\n",
      "2023-12-30 19:42:16 (104 MB/s) - ‘models/glove_100d_en_2.4.0_2.4_1579690104032.zip’ saved [152394105/152394105]\n",
      "\n"
     ]
    }
   ],
   "source": [
    "!sudo wget  -P models/ https://s3.amazonaws.com/auxdata.johnsnowlabs.com/public/models/ner_dl_en_2.4.3_2.4_1584624950746.zip \n",
    "!sudo wget  -P models/ https://s3.amazonaws.com/auxdata.johnsnowlabs.com/public/models/glove_100d_en_2.4.0_2.4_1579690104032.zip"
   ]
  },
  {
   "cell_type": "code",
   "execution_count": 9,
   "metadata": {
    "id": "SGI4DSrjLfhJ"
   },
   "outputs": [],
   "source": [
    "!unzip -q models/ner_dl_en_2.4.3_2.4_1584624950746.zip -d ner_dl_glove/"
   ]
  },
  {
   "cell_type": "code",
   "execution_count": 10,
   "metadata": {
    "id": "-uv0nAgB323j"
   },
   "outputs": [],
   "source": [
    "!unzip -q models/glove_100d_en_2.4.0_2.4_1579690104032.zip -d glove_embeddings/"
   ]
  },
  {
   "cell_type": "code",
   "execution_count": 8,
   "metadata": {
    "id": "dSy25ADGyXGS"
   },
   "outputs": [],
   "source": [
    "ner_local_path = 'ner_dl_glove'\n",
    "embeddings_local_path = 'glove_embeddings'"
   ]
  },
  {
   "cell_type": "code",
   "execution_count": 4,
   "metadata": {
    "id": "OPBk1kOizK9u"
   },
   "outputs": [],
   "source": [
    "import json\n",
    "import os\n",
    "from pyspark.ml import Pipeline\n",
    "from pyspark.sql import SparkSession\n",
    "\n",
    "from sparknlp.annotator import *\n",
    "from sparknlp_jsl.annotator import *\n",
    "from sparknlp.base import *\n",
    "import sparknlp_jsl"
   ]
  },
  {
   "cell_type": "code",
   "execution_count": null,
   "metadata": {},
   "outputs": [],
   "source": [
    "import sparkocr\n",
    "from sparkocr import start\n",
    "from sparkocr.transformers import *\n",
    "from sparkocr.enums import *\n",
    "from sparkocr.utils import *\n",
    "from sparkocr.metrics import score"
   ]
  },
  {
   "cell_type": "code",
   "execution_count": 17,
   "metadata": {},
   "outputs": [
    {
     "name": "stdout",
     "output_type": "stream",
     "text": [
      "total 1231488\n",
      "-rw-r--r-- 1 root root 722128385 Dec  8 21:21 spark-nlp-assembly-5.2.0.jar\n",
      "-rw-r--r-- 1 root root  40061499 Dec 23 21:13 spark-nlp-jsl-5.2.0.jar\n",
      "-rw-r--r-- 1 root root 457626988 Nov 17 16:50 spark-ocr-assembly-5.1.0.jar\n",
      "-rw-r--r-- 1 root root    473226 Dec 23 21:13 spark_nlp_jsl-5.2.0-py3-none-any.whl\n",
      "-rw-r--r-- 1 root root  40736607 Nov 17 16:50 spark_ocr-5.1.0-py3-none-any.whl\n"
     ]
    }
   ],
   "source": [
    "!ls -l /usr/lib/spark/jars/"
   ]
  },
  {
   "cell_type": "code",
   "execution_count": null,
   "metadata": {
    "id": "FVzd5SJFzOAA"
   },
   "outputs": [],
   "source": [
    "def start():\n",
    "    builder = SparkSession.builder \\\n",
    "        .appName(\"Spark NLP Licensed\") \\\n",
    "        .master(\"local[*]\") \\\n",
    "        .config(\"spark.driver.memory\", \"10G\") \\\n",
    "        .config(\"spark.serializer\", \"org.apache.spark.serializer.KryoSerializer\") \\\n",
    "        .config(\"spark.kryoserializer.buffer.max\", \"2000M\")\\\n",
    "        .config(\"spark.sql.legacy.allowUntypedScalaUDF\", \"true\")\\\n",
    "        .config(\"spark.jars\", f\"/usr/lib/spark/jars/spark-nlp-assembly-{PUBLIC_VERSION}.jar, /usr/lib/spark/jars/spark-nlp-jsl-{JSL_VERSION}.jar\")\n",
    "    return builder.getOrCreate()\n",
    "\n",
    "spark = start()"
   ]
  },
  {
   "cell_type": "markdown",
   "metadata": {},
   "source": [
    "`To start a spark session with licensed SparkOCR modul:`\n",
    "\n",
    "```def start():\n",
    "    builder = SparkSession.builder \\\n",
    "        .appName(\"Spark NLP Licensed\") \\\n",
    "        .master(\"local[*]\") \\\n",
    "        .config(\"spark.driver.memory\", \"10G\") \\\n",
    "        .config(\"spark.serializer\", \"org.apache.spark.serializer.KryoSerializer\") \\\n",
    "        .config(\"spark.kryoserializer.buffer.max\", \"2000M\")\\\n",
    "        .config(\"spark.sql.legacy.allowUntypedScalaUDF\", \"true\")\\\n",
    "            .config(\"spark.jars\", f\"/usr/lib/spark/jars/spark-nlp-assembly-{PUBLIC_VERSION}.jar, /usr/lib/spark/jars/spark-nlp-jsl-{JSL_VERSION}.jar, /usr/lib/spark/jars/spark-ocr-assembly-{OCR_VERSION}.jar\")\n",
    "    return builder.getOrCreate()\n",
    "\n",
    "spark = start()```"
   ]
  },
  {
   "cell_type": "code",
   "execution_count": 19,
   "metadata": {},
   "outputs": [],
   "source": [
    "spark.sparkContext.setLogLevel(\"error\")\n"
   ]
  },
  {
   "cell_type": "code",
   "execution_count": null,
   "metadata": {
    "id": "uRs4AIfry7dQ"
   },
   "outputs": [],
   "source": [
    "documentAssembler = DocumentAssembler()\\\n",
    "    .setInputCol(\"text\")\\\n",
    "    .setOutputCol(\"document\")\n",
    "\n",
    "tokenizer = Tokenizer() \\\n",
    "    .setInputCols([\"document\"]) \\\n",
    "    .setOutputCol(\"token\")\n",
    "\n",
    "# ner_dl model is trained with glove_100d. So we use the same embeddings in the pipeline\n",
    "glove_embeddings = WordEmbeddingsModel.load(embeddings_local_path).\\\n",
    "  setInputCols([\"document\", 'token']).\\\n",
    "  setOutputCol(\"embeddings\")\n",
    "\n",
    "# NER model trained on i2b2 (sampled from MIMIC) dataset\n",
    "public_ner = NerDLModel.load(ner_local_path) \\\n",
    "  .setInputCols([\"document\", \"token\", \"embeddings\"]) \\\n",
    "  .setOutputCol(\"ner\")\n",
    "\n",
    "nlpPipeline = Pipeline(stages=[\n",
    " documentAssembler, \n",
    " tokenizer,\n",
    " glove_embeddings,\n",
    " public_ner\n",
    " ])\n",
    "\n",
    "empty_df = spark.createDataFrame([['']]).toDF(\"text\")\n",
    "\n",
    "pipelineModel = nlpPipeline.fit(empty_df)"
   ]
  },
  {
   "cell_type": "code",
   "execution_count": 12,
   "metadata": {
    "colab": {
     "base_uri": "https://localhost:8080/",
     "height": 119
    },
    "id": "-F9F8e7CMgYM",
    "outputId": "09c1e8d6-b77f-4ebf-8aa7-b6eb2155660e"
   },
   "outputs": [
    {
     "name": "stdout",
     "output_type": "stream",
     "text": [
      "+----------------------------------------+-------------------------------------+\n",
      "|result                                  |result                               |\n",
      "+----------------------------------------+-------------------------------------+\n",
      "|[Peter, Parker, lives, in, New, York, .]|[B-PER, I-PER, O, O, B-LOC, I-LOC, O]|\n",
      "+----------------------------------------+-------------------------------------+\n",
      "\n"
     ]
    }
   ],
   "source": [
    "df = spark.createDataFrame([['Peter Parker lives in New York.']]).toDF(\"text\")\n",
    "\n",
    "result = pipelineModel.transform(df)\n",
    "\n",
    "result.select('token.result','ner.result').show(truncate=False)"
   ]
  },
  {
   "cell_type": "code",
   "execution_count": 13,
   "metadata": {
    "colab": {
     "base_uri": "https://localhost:8080/",
     "height": 136
    },
    "id": "xoboVMnO4KaD",
    "outputId": "a586aeb4-5431-42c6-b543-bcbba503e2cd"
   },
   "outputs": [
    {
     "data": {
      "text/plain": [
       "[('Peter', 'B-PER'),\n",
       " ('Parker', 'I-PER'),\n",
       " ('lives', 'O'),\n",
       " ('in', 'O'),\n",
       " ('New', 'B-LOC'),\n",
       " ('York', 'I-LOC'),\n",
       " ('.', 'O')]"
      ]
     },
     "execution_count": 13,
     "metadata": {},
     "output_type": "execute_result"
    }
   ],
   "source": [
    "light_model = LightPipeline(pipelineModel)\n",
    "\n",
    "text = 'Peter Parker lives in New York.'\n",
    "\n",
    "light_result = light_model.annotate(text)\n",
    "\n",
    "list(zip(light_result['token'], light_result['ner']))"
   ]
  },
  {
   "cell_type": "markdown",
   "metadata": {},
   "source": [
    "## Downloading Licensed model via Boto3"
   ]
  },
  {
   "cell_type": "code",
   "execution_count": 15,
   "metadata": {
    "id": "-Echfpd-4jhc"
   },
   "outputs": [],
   "source": [
    "import shutil\n",
    "import boto3\n",
    "\n",
    "# Add your credentials \n",
    "ACCESS_KEY = AWS_ACCESS_KEY_ID\n",
    "SECRET_KEY = AWS_SECRET_ACCESS_KEY\n",
    "\n",
    "# Connect\n",
    "s3 = boto3.resource('s3', aws_access_key_id=ACCESS_KEY, aws_secret_access_key=SECRET_KEY)\n",
    "buck_auxdata = s3.Bucket('auxdata.johnsnowlabs.com')"
   ]
  },
  {
   "cell_type": "code",
   "execution_count": null,
   "metadata": {},
   "outputs": [],
   "source": [
    "ACCESS_KEY, SECRET_KEY"
   ]
  },
  {
   "cell_type": "code",
   "execution_count": 17,
   "metadata": {},
   "outputs": [],
   "source": [
    "!mkdir zip_files"
   ]
  },
  {
   "cell_type": "markdown",
   "metadata": {},
   "source": [
    "`List all models and retrieve the required model name & model link`"
   ]
  },
  {
   "cell_type": "code",
   "execution_count": null,
   "metadata": {},
   "outputs": [],
   "source": [
    "from sparknlp.pretrained import ResourceDownloader\n",
    "ResourceDownloader.clearCache(\"ner_jsl\",\"en\",\"clinical/models\")"
   ]
  },
  {
   "cell_type": "code",
   "execution_count": 78,
   "metadata": {},
   "outputs": [
    {
     "name": "stdout",
     "output_type": "stream",
     "text": [
      "There are 137 ner_oncology related models \n",
      " {'name': 'ner_oncology_wip', 'sparkVersion': '3.0', 'version': '3.5.0', 'language': 'en', 'date': '2022-07-25T17:48:26.053', 'readyToUse': 'true'}\n"
     ]
    }
   ],
   "source": [
    "from sparknlp_jsl.compatibility import Compatibility\n",
    "\n",
    "compatibility = Compatibility(spark)\n",
    "\n",
    "term = 'ner_oncology'\n",
    "models = compatibility.findVersion(term)\n",
    "\n",
    "print(f\"There are {len(models)} {term} related models\" ,\"\\n\", models[0])"
   ]
  },
  {
   "cell_type": "code",
   "execution_count": 81,
   "metadata": {},
   "outputs": [
    {
     "data": {
      "text/html": [
       "<div>\n",
       "<style scoped>\n",
       "    .dataframe tbody tr th:only-of-type {\n",
       "        vertical-align: middle;\n",
       "    }\n",
       "\n",
       "    .dataframe tbody tr th {\n",
       "        vertical-align: top;\n",
       "    }\n",
       "\n",
       "    .dataframe thead th {\n",
       "        text-align: right;\n",
       "    }\n",
       "</style>\n",
       "<table border=\"1\" class=\"dataframe\">\n",
       "  <thead>\n",
       "    <tr style=\"text-align: right;\">\n",
       "      <th></th>\n",
       "      <th>name</th>\n",
       "      <th>download_link</th>\n",
       "    </tr>\n",
       "  </thead>\n",
       "  <tbody>\n",
       "    <tr>\n",
       "      <th>0</th>\n",
       "      <td>pos_clinical</td>\n",
       "      <td>https://s3.amazonaws.com/auxdata.johnsnowlabs.com/clinical/models/pos_clinical_en_2.0.2_2.4_1556660550177.zip</td>\n",
       "    </tr>\n",
       "    <tr>\n",
       "      <th>1</th>\n",
       "      <td>deidentify_rb</td>\n",
       "      <td>https://s3.amazonaws.com/auxdata.johnsnowlabs.com/clinical/models/deidentify_rb_en_2.0.2_2.4_1559672122511.zip</td>\n",
       "    </tr>\n",
       "    <tr>\n",
       "      <th>2</th>\n",
       "      <td>embeddings_clinical</td>\n",
       "      <td>https://s3.amazonaws.com/auxdata.johnsnowlabs.com/clinical/models/embeddings_clinical_en_2.4.0_2.4_1580237286004.zip</td>\n",
       "    </tr>\n",
       "    <tr>\n",
       "      <th>3</th>\n",
       "      <td>ner_crf</td>\n",
       "      <td>https://s3.amazonaws.com/auxdata.johnsnowlabs.com/clinical/models/ner_crf_en_2.4.0_2.4_1580237286004.zip</td>\n",
       "    </tr>\n",
       "    <tr>\n",
       "      <th>4</th>\n",
       "      <td>assertion_dl_en</td>\n",
       "      <td>https://s3.amazonaws.com/auxdata.johnsnowlabs.com/clinical/models/assertion_dl_en_2.4.0_2.4_1580237286004.zip</td>\n",
       "    </tr>\n",
       "  </tbody>\n",
       "</table>\n",
       "</div>"
      ],
      "text/plain": [
       "                  name  \\\n",
       "0         pos_clinical   \n",
       "1        deidentify_rb   \n",
       "2  embeddings_clinical   \n",
       "3              ner_crf   \n",
       "4      assertion_dl_en   \n",
       "\n",
       "                                                                                                          download_link  \n",
       "0         https://s3.amazonaws.com/auxdata.johnsnowlabs.com/clinical/models/pos_clinical_en_2.0.2_2.4_1556660550177.zip  \n",
       "1        https://s3.amazonaws.com/auxdata.johnsnowlabs.com/clinical/models/deidentify_rb_en_2.0.2_2.4_1559672122511.zip  \n",
       "2  https://s3.amazonaws.com/auxdata.johnsnowlabs.com/clinical/models/embeddings_clinical_en_2.4.0_2.4_1580237286004.zip  \n",
       "3              https://s3.amazonaws.com/auxdata.johnsnowlabs.com/clinical/models/ner_crf_en_2.4.0_2.4_1580237286004.zip  \n",
       "4         https://s3.amazonaws.com/auxdata.johnsnowlabs.com/clinical/models/assertion_dl_en_2.4.0_2.4_1580237286004.zip  "
      ]
     },
     "execution_count": 81,
     "metadata": {},
     "output_type": "execute_result"
    }
   ],
   "source": [
    "# list of all models\n",
    "\n",
    "!wget https://nlp.johnsnowlabs.com/models.json\n",
    " \n",
    "import json\n",
    " \n",
    "with open (\"models.json\", \"r\", encoding=\"utf-8\") as f:\n",
    "  full_list = json.load(f)\n",
    "import pandas as pd\n",
    "\n",
    "df = pd.DataFrame(full_list)\n",
    "pd.set_option('display.max_colwidth', 150)\n",
    "df[[\"name\",\"download_link\"]].head()\n"
   ]
  },
  {
   "cell_type": "code",
   "execution_count": 23,
   "metadata": {},
   "outputs": [],
   "source": [
    "# the table above contain all models and necessary data.\n",
    "# navigate the table, find the model you need and get the link to donload\n",
    " \n",
    "# Download the embedding model \n",
    "buck_auxdata.download_file('clinical/models/embeddings_clinical_en_2.4.0_2.4_1580237286004.zip',\n",
    "'zip_files/embeddings_clinical_en_2.4.0_2.4_1580237286004.zip')\n",
    "\n",
    "# Unzip\n",
    "shutil.unpack_archive('zip_files/embeddings_clinical_en_2.4.0_2.4_1580237286004.zip',\n",
    "'models/embeddings_clinical', 'zip')\n",
    "\n",
    "\n",
    "# Download the ner_clinical_large model \n",
    "buck_auxdata.download_file('clinical/models/ner_clinical_large_en_3.0.0_3.0_1617206114650.zip',\n",
    "'zip_files/ner_clinical_large_en_3.0.0_3.0_1617206114650.zip')\n",
    "\n",
    "# Unzip\n",
    "shutil.unpack_archive('zip_files/ner_clinical_large_en_3.0.0_3.0_1617206114650.zip',\n",
    "'models/ner_clinical_large', 'zip')"
   ]
  },
  {
   "cell_type": "markdown",
   "metadata": {},
   "source": [
    "`let's test the downloaded models`"
   ]
  },
  {
   "cell_type": "code",
   "execution_count": null,
   "metadata": {},
   "outputs": [],
   "source": [
    "# Annotator that transforms a text column from dataframe into an Annotation ready for NLP\n",
    "documentAssembler = DocumentAssembler()\\\n",
    "    .setInputCol(\"text\")\\\n",
    "    .setOutputCol(\"document\")\n",
    "        \n",
    "sentenceDetector = SentenceDetector()\\\n",
    "    .setInputCols([\"document\"])\\\n",
    "    .setOutputCol(\"sentence\")\n",
    " \n",
    "# Tokenizer splits words in a relevant format for NLP\n",
    "tokenizer = Tokenizer()\\\n",
    "    .setInputCols([\"sentence\"])\\\n",
    "    .setOutputCol(\"token\")\n",
    "\n",
    "# Clinical word embeddings trained on PubMED dataset\n",
    "word_embeddings_loaded = WordEmbeddingsModel.load(\"./models/embeddings_clinical\")\\\n",
    "    .setInputCols([\"sentence\",\"token\"])\\\n",
    "    .setOutputCol(\"embeddings\")\n",
    "\n",
    "# NER model trained on i2b2 (sampled from MIMIC) dataset\n",
    "clinical_ner_loaded = MedicalNerModel.load(\"./models/ner_clinical_large\")\\\n",
    "    .setInputCols([\"sentence\",\"token\",\"embeddings\"])\\\n",
    "    .setOutputCol(\"ner\")\\\n",
    "    .setLabelCasing(\"upper\") #decide if we want to return the tags in upper or lower case \n",
    "\n",
    "ner_converter = NerConverter()\\\n",
    "    .setInputCols([\"sentence\",\"token\",\"ner\"])\\\n",
    "    .setOutputCol(\"ner_chunk\")\n",
    "\n",
    "nlpPipeline = Pipeline(stages=[\n",
    "        documentAssembler,\n",
    "        sentenceDetector,\n",
    "        tokenizer,\n",
    "        word_embeddings_loaded,\n",
    "        clinical_ner_loaded,\n",
    "        ner_converter])\n",
    "\n",
    "\n",
    "empty_data = spark.createDataFrame([[\"\"]]).toDF(\"text\")\n",
    "\n",
    "model = nlpPipeline.fit(empty_data)"
   ]
  },
  {
   "cell_type": "code",
   "execution_count": 25,
   "metadata": {},
   "outputs": [
    {
     "name": "stdout",
     "output_type": "stream",
     "text": [
      "\n",
      "A 28-year-old female with a history of gestational diabetes mellitus diagnosed eight years prior to presentation and subsequent type two diabetes mellitus ( T2DM ), one prior episode of HTG-induced pancreatitis three years prior to presentation , and associated with an acute hepatitis , presented with a one-week history of polyuria , poor appetite , and vomiting . \n",
      "She was on metformin , glipizide , and dapagliflozin for T2DM and atorvastatin and gemfibrozil for HTG . She had been on dapagliflozin for six months at the time of presentation . \n",
      "Physical examination on presentation was significant for dry oral mucosa ; significantly , her abdominal examination was benign with no tenderness , guarding , or rigidity . Pertinent laboratory findings on admission were : serum glucose 111 mg/dl ,  creatinine 0.4 mg/dL , triglycerides 508 mg/dL , total cholesterol 122 mg/dL , and venous pH 7.27 . \n",
      "\n"
     ]
    },
    {
     "data": {
      "text/html": [
       "<div>\n",
       "<style scoped>\n",
       "    .dataframe tbody tr th:only-of-type {\n",
       "        vertical-align: middle;\n",
       "    }\n",
       "\n",
       "    .dataframe tbody tr th {\n",
       "        vertical-align: top;\n",
       "    }\n",
       "\n",
       "    .dataframe thead th {\n",
       "        text-align: right;\n",
       "    }\n",
       "</style>\n",
       "<table border=\"1\" class=\"dataframe\">\n",
       "  <thead>\n",
       "    <tr style=\"text-align: right;\">\n",
       "      <th></th>\n",
       "      <th>chunks</th>\n",
       "      <th>begin</th>\n",
       "      <th>end</th>\n",
       "      <th>sentence_id</th>\n",
       "      <th>entities</th>\n",
       "      <th>confidence</th>\n",
       "    </tr>\n",
       "  </thead>\n",
       "  <tbody>\n",
       "    <tr>\n",
       "      <th>0</th>\n",
       "      <td>gestational diabetes mellitus</td>\n",
       "      <td>40</td>\n",
       "      <td>68</td>\n",
       "      <td>0</td>\n",
       "      <td>PROBLEM</td>\n",
       "      <td>0.91976666</td>\n",
       "    </tr>\n",
       "    <tr>\n",
       "      <th>1</th>\n",
       "      <td>subsequent type two diabetes mellitus</td>\n",
       "      <td>118</td>\n",
       "      <td>154</td>\n",
       "      <td>0</td>\n",
       "      <td>PROBLEM</td>\n",
       "      <td>0.75924003</td>\n",
       "    </tr>\n",
       "  </tbody>\n",
       "</table>\n",
       "</div>"
      ],
      "text/plain": [
       "                                  chunks  begin  end sentence_id entities  \\\n",
       "0          gestational diabetes mellitus     40   68           0  PROBLEM   \n",
       "1  subsequent type two diabetes mellitus    118  154           0  PROBLEM   \n",
       "\n",
       "   confidence  \n",
       "0  0.91976666  \n",
       "1  0.75924003  "
      ]
     },
     "execution_count": 25,
     "metadata": {},
     "output_type": "execute_result"
    }
   ],
   "source": [
    "# fullAnnotate in LightPipeline\n",
    "\n",
    "text = '''\n",
    "A 28-year-old female with a history of gestational diabetes mellitus diagnosed eight years prior to presentation and subsequent type two diabetes mellitus ( T2DM ), one prior episode of HTG-induced pancreatitis three years prior to presentation , and associated with an acute hepatitis , presented with a one-week history of polyuria , poor appetite , and vomiting . \n",
    "She was on metformin , glipizide , and dapagliflozin for T2DM and atorvastatin and gemfibrozil for HTG . She had been on dapagliflozin for six months at the time of presentation . \n",
    "Physical examination on presentation was significant for dry oral mucosa ; significantly , her abdominal examination was benign with no tenderness , guarding , or rigidity . Pertinent laboratory findings on admission were : serum glucose 111 mg/dl ,  creatinine 0.4 mg/dL , triglycerides 508 mg/dL , total cholesterol 122 mg/dL , and venous pH 7.27 . \n",
    "'''\n",
    "\n",
    "print (text)\n",
    "\n",
    "light_model = LightPipeline(model)\n",
    "\n",
    "light_result = light_model.fullAnnotate(text)\n",
    "\n",
    "\n",
    "chunks = []\n",
    "entities = []\n",
    "sentence= []\n",
    "begin = []\n",
    "end = []\n",
    "confidence = []\n",
    "\n",
    "for n in light_result[0]['ner_chunk']:\n",
    "        \n",
    "    begin.append(n.begin)\n",
    "    end.append(n.end)\n",
    "    chunks.append(n.result)\n",
    "    entities.append(n.metadata['entity']) \n",
    "    sentence.append(n.metadata['sentence'])\n",
    "    confidence.append(n.metadata['confidence'])\n",
    "    \n",
    "    \n",
    "import pandas as pd\n",
    "\n",
    "df_clinical = pd.DataFrame({'chunks':chunks, \n",
    "                            'begin': begin, \n",
    "                            'end':end, \n",
    "                            'sentence_id':sentence, \n",
    "                            'entities':entities,\n",
    "                            'confidence':confidence})\n",
    "\n",
    "df_clinical.head(2)"
   ]
  },
  {
   "cell_type": "markdown",
   "metadata": {},
   "source": [
    "### Download via ResourceDownloader method"
   ]
  },
  {
   "cell_type": "code",
   "execution_count": 44,
   "metadata": {},
   "outputs": [],
   "source": [
    "from sparknlp.pretrained import ResourceDownloader\n",
    "\n",
    "#The first argument is the path to the zip file and the second one is the folder.\n",
    "\n",
    "ResourceDownloader.downloadModelDirectly(\"clinical/models/embeddings_clinical_en_2.4.0_2.4_1580237286004.zip\", \"clinical/models\")  \n",
    "ResourceDownloader.downloadModelDirectly(\"clinical/models/ner_clinical_large_en_3.0.0_3.0_1617206114650.zip\", \"clinical/models\") "
   ]
  },
  {
   "attachments": {
    "image.png": {
     "image/png": "[encoded data removed]"
    }
   },
   "cell_type": "markdown",
   "metadata": {},
   "source": [
    "Another waw is copying the s3 link of a model from https://nlp.johnsnowlabs.com/models page\n",
    "\n",
    "![image.png](attachment:image.png)"
   ]
  },
  {
   "cell_type": "code",
   "execution_count": 57,
   "metadata": {},
   "outputs": [],
   "source": [
    "link = \"s3://auxdata.johnsnowlabs.com/clinical/models/ner_jsl_en_4.2.0_3.0_1666181370373.zip\"\n",
    "ResourceDownloader.downloadModelDirectly(link, \"clinical/models\") \n",
    "\n",
    "link = \"s3://auxdata.johnsnowlabs.com/clinical/models/embeddings_clinical_en_2.4.0_2.4_1580237286004.zip\"\n",
    "ResourceDownloader.downloadModelDirectly(link \"clinical/models\") \n"
   ]
  },
  {
   "cell_type": "code",
   "execution_count": 58,
   "metadata": {},
   "outputs": [],
   "source": [
    "# or simply put the model name below:\n",
    "\n",
    "model_name = \"ner_clinical_large\"\n",
    "from sparknlp_jsl.updateModels import UpdateModels\n",
    "UpdateModels.updateModels([model_name, \"ner_jsl\"])"
   ]
  },
  {
   "cell_type": "markdown",
   "metadata": {},
   "source": [
    "### Download via InternalResourceDownloader method"
   ]
  },
  {
   "cell_type": "code",
   "execution_count": 83,
   "metadata": {},
   "outputs": [],
   "source": [
    "# very similar to ResourceDownloader method you can use InternalResourceDownloader as below and specify where to download\n",
    "from sparknlp_jsl.pretrained import InternalResourceDownloader\n",
    "\n",
    "InternalResourceDownloader.downloadModelDirectly(\"clinical/models/embeddings_clinical_en_2.4.0_2.4_1580237286004.zip\", \"clinical/models\", cache_folder_path=\"TESTFOLDER\")  \n",
    "InternalResourceDownloader.downloadModelDirectly(\"clinical/models/ner_clinical_large_en_3.0.0_3.0_1617206114650.zip\", \"clinical/models\", cache_folder_path=\"TESTFOLDER\")"
   ]
  },
  {
   "cell_type": "code",
   "execution_count": 45,
   "metadata": {},
   "outputs": [],
   "source": [
    "WordEmbeddingsPath =  \"cache_pretrained/embeddings_clinical_en_2.4.0_2.4_1580237286004\"\n",
    "NerModelPath = \"cache_pretrained/ner_clinical_large_en_3.0.0_3.0_1617206114650\""
   ]
  },
  {
   "cell_type": "markdown",
   "metadata": {},
   "source": [
    "`let's test the downloaded models`"
   ]
  },
  {
   "cell_type": "code",
   "execution_count": null,
   "metadata": {},
   "outputs": [],
   "source": [
    "# Annotator that transforms a text column from dataframe into an Annotation ready for NLP\n",
    "documentAssembler = DocumentAssembler()\\\n",
    "    .setInputCol(\"text\")\\\n",
    "    .setOutputCol(\"document\")\n",
    "        \n",
    "sentenceDetector = SentenceDetector()\\\n",
    "    .setInputCols([\"document\"])\\\n",
    "    .setOutputCol(\"sentence\")\n",
    " \n",
    "# Tokenizer splits words in a relevant format for NLP\n",
    "tokenizer = Tokenizer()\\\n",
    "    .setInputCols([\"sentence\"])\\\n",
    "    .setOutputCol(\"token\")\n",
    "\n",
    "# Clinical word embeddings trained on PubMED dataset\n",
    "word_embeddings = WordEmbeddingsModel.load(WordEmbeddingsPath)\\\n",
    "    .setInputCols([\"sentence\", \"token\"])\\\n",
    "    .setOutputCol(\"embeddings\")\n",
    "\n",
    "# NER model trained on i2b2 (sampled from MIMIC) dataset\n",
    "jsl_ner = MedicalNerModel.load(NerModelPath) \\\n",
    "    .setInputCols([\"sentence\", \"token\", \"embeddings\"]) \\\n",
    "    .setOutputCol(\"ner\")\\\n",
    "    .setLabelCasing(\"upper\") #decide if we want to return the tags in upper or lower case \n",
    "\n",
    "ner_converter = NerConverter()\\\n",
    "    .setInputCols([\"sentence\",\"token\",\"ner\"])\\\n",
    "    .setOutputCol(\"ner_chunk\")\n",
    "\n",
    "nlpPipeline = Pipeline(stages=[\n",
    "        documentAssembler,\n",
    "        sentenceDetector,\n",
    "        tokenizer,\n",
    "        word_embeddings,\n",
    "        jsl_ner,\n",
    "        ner_converter])\n",
    "\n",
    "empty_data = spark.createDataFrame([[\"\"]]).toDF(\"text\")\n",
    "\n",
    "model = nlpPipeline.fit(empty_data)"
   ]
  },
  {
   "cell_type": "code",
   "execution_count": 47,
   "metadata": {},
   "outputs": [
    {
     "name": "stdout",
     "output_type": "stream",
     "text": [
      "\n",
      "A 28-year-old female with a history of gestational diabetes mellitus diagnosed eight years prior to presentation and subsequent type two diabetes mellitus ( T2DM ), one prior episode of HTG-induced pancreatitis three years prior to presentation , and associated with an acute hepatitis , presented with a one-week history of polyuria , poor appetite , and vomiting . \n",
      "She was on metformin , glipizide , and dapagliflozin for T2DM and atorvastatin and gemfibrozil for HTG . She had been on dapagliflozin for six months at the time of presentation . \n",
      "Physical examination on presentation was significant for dry oral mucosa ; significantly , her abdominal examination was benign with no tenderness , guarding , or rigidity . Pertinent laboratory findings on admission were : serum glucose 111 mg/dl ,  creatinine 0.4 mg/dL , triglycerides 508 mg/dL , total cholesterol 122 mg/dL , and venous pH 7.27 . \n",
      "\n"
     ]
    },
    {
     "data": {
      "text/html": [
       "<div>\n",
       "<style scoped>\n",
       "    .dataframe tbody tr th:only-of-type {\n",
       "        vertical-align: middle;\n",
       "    }\n",
       "\n",
       "    .dataframe tbody tr th {\n",
       "        vertical-align: top;\n",
       "    }\n",
       "\n",
       "    .dataframe thead th {\n",
       "        text-align: right;\n",
       "    }\n",
       "</style>\n",
       "<table border=\"1\" class=\"dataframe\">\n",
       "  <thead>\n",
       "    <tr style=\"text-align: right;\">\n",
       "      <th></th>\n",
       "      <th>chunks</th>\n",
       "      <th>begin</th>\n",
       "      <th>end</th>\n",
       "      <th>sentence_id</th>\n",
       "      <th>entities</th>\n",
       "      <th>confidence</th>\n",
       "    </tr>\n",
       "  </thead>\n",
       "  <tbody>\n",
       "    <tr>\n",
       "      <th>0</th>\n",
       "      <td>gestational diabetes mellitus</td>\n",
       "      <td>40</td>\n",
       "      <td>68</td>\n",
       "      <td>0</td>\n",
       "      <td>PROBLEM</td>\n",
       "      <td>0.91976666</td>\n",
       "    </tr>\n",
       "    <tr>\n",
       "      <th>1</th>\n",
       "      <td>subsequent type two diabetes mellitus</td>\n",
       "      <td>118</td>\n",
       "      <td>154</td>\n",
       "      <td>0</td>\n",
       "      <td>PROBLEM</td>\n",
       "      <td>0.75924003</td>\n",
       "    </tr>\n",
       "    <tr>\n",
       "      <th>2</th>\n",
       "      <td>T2DM</td>\n",
       "      <td>158</td>\n",
       "      <td>161</td>\n",
       "      <td>0</td>\n",
       "      <td>PROBLEM</td>\n",
       "      <td>0.9917</td>\n",
       "    </tr>\n",
       "    <tr>\n",
       "      <th>3</th>\n",
       "      <td>HTG-induced pancreatitis</td>\n",
       "      <td>187</td>\n",
       "      <td>210</td>\n",
       "      <td>0</td>\n",
       "      <td>PROBLEM</td>\n",
       "      <td>0.97535</td>\n",
       "    </tr>\n",
       "    <tr>\n",
       "      <th>4</th>\n",
       "      <td>an acute hepatitis</td>\n",
       "      <td>268</td>\n",
       "      <td>285</td>\n",
       "      <td>0</td>\n",
       "      <td>PROBLEM</td>\n",
       "      <td>0.9440667</td>\n",
       "    </tr>\n",
       "  </tbody>\n",
       "</table>\n",
       "</div>"
      ],
      "text/plain": [
       "                                  chunks  begin  end sentence_id entities  \\\n",
       "0          gestational diabetes mellitus     40   68           0  PROBLEM   \n",
       "1  subsequent type two diabetes mellitus    118  154           0  PROBLEM   \n",
       "2                                   T2DM    158  161           0  PROBLEM   \n",
       "3               HTG-induced pancreatitis    187  210           0  PROBLEM   \n",
       "4                     an acute hepatitis    268  285           0  PROBLEM   \n",
       "\n",
       "   confidence  \n",
       "0  0.91976666  \n",
       "1  0.75924003  \n",
       "2      0.9917  \n",
       "3     0.97535  \n",
       "4   0.9440667  "
      ]
     },
     "execution_count": 47,
     "metadata": {},
     "output_type": "execute_result"
    }
   ],
   "source": [
    "# fullAnnotate in LightPipeline\n",
    "\n",
    "text = '''\n",
    "A 28-year-old female with a history of gestational diabetes mellitus diagnosed eight years prior to presentation and subsequent type two diabetes mellitus ( T2DM ), one prior episode of HTG-induced pancreatitis three years prior to presentation , and associated with an acute hepatitis , presented with a one-week history of polyuria , poor appetite , and vomiting . \n",
    "She was on metformin , glipizide , and dapagliflozin for T2DM and atorvastatin and gemfibrozil for HTG . She had been on dapagliflozin for six months at the time of presentation . \n",
    "Physical examination on presentation was significant for dry oral mucosa ; significantly , her abdominal examination was benign with no tenderness , guarding , or rigidity . Pertinent laboratory findings on admission were : serum glucose 111 mg/dl ,  creatinine 0.4 mg/dL , triglycerides 508 mg/dL , total cholesterol 122 mg/dL , and venous pH 7.27 . \n",
    "'''\n",
    "print (text)\n",
    "\n",
    "light_model = LightPipeline(model)\n",
    "\n",
    "light_result = light_model.fullAnnotate(text)\n",
    "\n",
    "chunks = []\n",
    "entities = []\n",
    "sentence= []\n",
    "begin = []\n",
    "end = []\n",
    "confidence = []\n",
    "\n",
    "for n in light_result[0]['ner_chunk']:\n",
    "        \n",
    "    begin.append(n.begin)\n",
    "    end.append(n.end)\n",
    "    chunks.append(n.result)\n",
    "    entities.append(n.metadata['entity']) \n",
    "    sentence.append(n.metadata['sentence'])\n",
    "    confidence.append(n.metadata['confidence'])\n",
    "    \n",
    "import pandas as pd\n",
    "\n",
    "df_clinical = pd.DataFrame({'chunks':chunks, \n",
    "                            'begin': begin, \n",
    "                            'end':end, \n",
    "                            'sentence_id':sentence, \n",
    "                            'entities':entities,\n",
    "                            'confidence':confidence})\n",
    "\n",
    "df_clinical.head(5)"
   ]
  }
 ],
 "metadata": {
  "colab": {
   "collapsed_sections": [],
   "name": "SparkNLP_offline_installation.ipynb",
   "provenance": [],
   "toc_visible": true
  },
  "kernelspec": {
   "display_name": "Python 3 (ipykernel)",
   "language": "python",
   "name": "python3"
  },
  "language_info": {
   "codemirror_mode": {
    "name": "ipython",
    "version": 3
   },
   "file_extension": ".py",
   "mimetype": "text/x-python",
   "name": "python",
   "nbconvert_exporter": "python",
   "pygments_lexer": "ipython3",
   "version": "3.10.12"
  }
 },
 "nbformat": 4,
 "nbformat_minor": 1
}

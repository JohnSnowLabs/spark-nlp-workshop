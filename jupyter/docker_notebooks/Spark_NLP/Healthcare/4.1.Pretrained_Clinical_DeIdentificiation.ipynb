{
 "cells": [
  {
   "cell_type": "markdown",
   "metadata": {
    "id": "I08sFJYCxR0Z"
   },
   "source": [
    "![JohnSnowLabs](https://nlp.johnsnowlabs.com/assets/images/logo.png)"
   ]
  },
  {
   "cell_type": "markdown",
   "metadata": {
    "id": "LKI5K1wQrSe9"
   },
   "source": [
    "[![Open In Colab](https://colab.research.google.com/assets/colab-badge.svg)](https://colab.research.google.com/github/JohnSnowLabs/spark-nlp-workshop/blob/master/tutorials/Certification_Trainings/Healthcare/4.1.Pretrained_Clinical_DeIdentificiation.ipynb)"
   ]
  },
  {
   "cell_type": "markdown",
   "metadata": {
    "id": "Niy3mZAjoayg"
   },
   "source": [
    "# Pretrained Clinical Deidentification "
   ]
  },
  {
   "cell_type": "code",
   "execution_count": null,
   "metadata": {
    "id": "xTdv7jLBJYoQ"
   },
   "outputs": [],
   "source": [
    "import os\n",
    "\n",
    "jsl_secret = os.getenv('SECRET')\n",
    "\n",
    "import sparknlp\n",
    "sparknlp_version = sparknlp.version()\n",
    "import sparknlp_jsl\n",
    "jsl_version = sparknlp_jsl.version()\n",
    "\n",
    "print (jsl_secret)"
   ]
  },
  {
   "cell_type": "code",
   "execution_count": null,
   "metadata": {
    "colab": {
     "base_uri": "https://localhost:8080/"
    },
    "executionInfo": {
     "elapsed": 138023,
     "status": "ok",
     "timestamp": 1618561751454,
     "user": {
      "displayName": "muhammet şantaş",
      "photoUrl": "",
      "userId": "01037434825541536598"
     },
     "user_tz": -180
    },
    "id": "9-PzVG9KYfxa",
    "outputId": "f36bf033-c50a-465b-d9f2-d86bce02c630"
   },
   "outputs": [
    {
     "name": "stdout",
     "output_type": "stream",
     "text": [
      "Spark NLP Version : 3.0.1\n",
      "Spark NLP_JSL Version : 3.0.0\n"
     ]
    }
   ],
   "source": [
    "import json\n",
    "import os\n",
    "from pyspark.ml import Pipeline,PipelineModel\n",
    "from pyspark.sql import SparkSession\n",
    "\n",
    "from sparknlp.annotator import *\n",
    "from sparknlp_jsl.annotator import *\n",
    "from sparknlp.base import *\n",
    "import sparknlp_jsl\n",
    "import sparknlp\n",
    "\n",
    "params = {\"spark.driver.memory\":\"16G\",\n",
    "\"spark.kryoserializer.buffer.max\":\"2000M\",\n",
    "\"spark.driver.maxResultSize\":\"2000M\"}\n",
    "\n",
    "spark = sparknlp_jsl.start(jsl_secret, params=params)\n",
    "\n",
    "\n",
    "print (\"Spark NLP Version :\", sparknlp.version())\n",
    "print (\"Spark NLP_JSL Version :\", sparknlp_jsl.version())"
   ]
  },
  {
   "cell_type": "code",
   "execution_count": null,
   "metadata": {
    "id": "VtLIEJtPf88T"
   },
   "outputs": [],
   "source": [
    "# if you want to start the session with custom params as in start function above\n",
    "def start(secret):\n",
    "    builder = SparkSession.builder \\\n",
    "        .appName(\"Spark NLP Licensed\") \\\n",
    "        .master(\"local[*]\") \\\n",
    "        .config(\"spark.driver.memory\", \"16G\") \\\n",
    "        .config(\"spark.serializer\", \"org.apache.spark.serializer.KryoSerializer\") \\\n",
    "        .config(\"spark.kryoserializer.buffer.max\", \"2000M\") \\\n",
    "        .config(\"spark.jars.packages\", \"com.johnsnowlabs.nlp:spark-nlp_2.11:\"+version) \\\n",
    "        .config(\"spark.jars\", \"https://pypi.johnsnowlabs.com/\"+secret+\"/spark-nlp-jsl-\"+jsl_version+\".jar\")\n",
    "      \n",
    "    return builder.getOrCreate()\n",
    "\n",
    "#spark = start(secret)"
   ]
  },
  {
   "cell_type": "code",
   "execution_count": null,
   "metadata": {
    "colab": {
     "base_uri": "https://localhost:8080/",
     "height": 216
    },
    "executionInfo": {
     "elapsed": 133590,
     "status": "ok",
     "timestamp": 1618561751466,
     "user": {
      "displayName": "muhammet şantaş",
      "photoUrl": "",
      "userId": "01037434825541536598"
     },
     "user_tz": -180
    },
    "id": "V1wrGrq0GClP",
    "outputId": "5aef3a46-06a2-4d77-b1d0-d2116ac4c605"
   },
   "outputs": [
    {
     "data": {
      "text/html": [
       "\n",
       "            <div>\n",
       "                <p><b>SparkSession - in-memory</b></p>\n",
       "                \n",
       "        <div>\n",
       "            <p><b>SparkContext</b></p>\n",
       "\n",
       "            <p><a href=\"http://20f08cfaeb9c:4040\">Spark UI</a></p>\n",
       "\n",
       "            <dl>\n",
       "              <dt>Version</dt>\n",
       "                <dd><code>v3.1.1</code></dd>\n",
       "              <dt>Master</dt>\n",
       "                <dd><code>local[*]</code></dd>\n",
       "              <dt>AppName</dt>\n",
       "                <dd><code>Spark NLP Licensed</code></dd>\n",
       "            </dl>\n",
       "        </div>\n",
       "        \n",
       "            </div>\n",
       "        "
      ],
      "text/plain": [
       "<pyspark.sql.session.SparkSession at 0x7fbf166ae450>"
      ]
     },
     "execution_count": 5,
     "metadata": {
      "tags": []
     },
     "output_type": "execute_result"
    }
   ],
   "source": [
    "spark"
   ]
  },
  {
   "cell_type": "markdown",
   "metadata": {
    "id": "rFQifkFYihOc"
   },
   "source": [
    "# Deidentification Model"
   ]
  },
  {
   "cell_type": "markdown",
   "metadata": {
    "id": "2eY0jM7kf88f"
   },
   "source": [
    "Protected Health Information: \n",
    "- individual’s past, present, or future physical or mental health or condition\n",
    "- provision of health care to the individual\n",
    "- past, present, or future payment for the health care \n",
    "\n",
    "Protected health information includes many common identifiers (e.g., name, address, birth date, Social Security Number) when they can be associated with the health information."
   ]
  },
  {
   "cell_type": "markdown",
   "metadata": {
    "id": "ZKln9C7Ef88f"
   },
   "source": [
    "Load NER pipeline to isentify protected entities:"
   ]
  },
  {
   "cell_type": "code",
   "execution_count": null,
   "metadata": {
    "id": "ONMo7NWXU19B"
   },
   "outputs": [],
   "source": [
    "import pandas as pd\n",
    "\n",
    "pd.set_option('display.max_columns', None)  \n",
    "pd.set_option('display.expand_frame_repr', False)\n",
    "pd.set_option('max_colwidth', None)\n",
    "\n",
    "\n",
    "import pyspark.sql.functions as F\n",
    "import string\n",
    "import numpy as np\n",
    "from sparknlp.util import *\n",
    "from sparknlp.pretrained import ResourceDownloader"
   ]
  },
  {
   "cell_type": "code",
   "execution_count": null,
   "metadata": {
    "colab": {
     "base_uri": "https://localhost:8080/"
    },
    "executionInfo": {
     "elapsed": 265101,
     "status": "ok",
     "timestamp": 1618561892899,
     "user": {
      "displayName": "muhammet şantaş",
      "photoUrl": "",
      "userId": "01037434825541536598"
     },
     "user_tz": -180
    },
    "id": "qHzG7Wvhgcex",
    "outputId": "5afb5044-7742-4f4f-e42f-b32ebc9b17f7"
   },
   "outputs": [
    {
     "name": "stdout",
     "output_type": "stream",
     "text": [
      "embeddings_clinical download started this may take some time.\n",
      "Approximate size to download 1.6 GB\n",
      "[OK!]\n",
      "ner_deid_large download started this may take some time.\n",
      "Approximate size to download 14.1 MB\n",
      "[OK!]\n"
     ]
    }
   ],
   "source": [
    "documentAssembler = DocumentAssembler()\\\n",
    "  .setInputCol(\"text\")\\\n",
    "  .setOutputCol(\"document\")\n",
    "\n",
    "# Sentence Detector annotator, processes various sentences per line\n",
    "\n",
    "sentenceDetector = SentenceDetector()\\\n",
    "  .setInputCols([\"document\"])\\\n",
    "  .setOutputCol(\"sentence\")\n",
    "\n",
    "# Tokenizer splits words in a relevant format for NLP\n",
    "\n",
    "tokenizer = Tokenizer()\\\n",
    "  .setInputCols([\"sentence\"])\\\n",
    "  .setOutputCol(\"token\")\n",
    "\n",
    "# Clinical word embeddings trained on PubMED dataset\n",
    "\n",
    "word_embeddings = WordEmbeddingsModel.pretrained(\"embeddings_clinical\", \"en\", \"clinical/models\")\\\n",
    "  .setInputCols([\"sentence\", \"token\"])\\\n",
    "  .setOutputCol(\"embeddings\")\n",
    "\n",
    "# NER model trained on n2c2 (de-identification and Heart Disease Risk Factors Challenge) datasets)\n",
    "\n",
    "clinical_ner = MedicalNerModel.pretrained(\"ner_deid_large\", \"en\", \"clinical/models\") \\\n",
    "  .setInputCols([\"sentence\", \"token\", \"embeddings\"]) \\\n",
    "  .setOutputCol(\"ner\")\n",
    "\n",
    "ner_converter = NerConverterInternal()\\\n",
    "  .setInputCols([\"sentence\", \"token\", \"ner\"])\\\n",
    "  .setOutputCol(\"ner_chunk\")\n",
    "\n",
    "nlpPipeline = Pipeline(stages=[\n",
    "    documentAssembler, \n",
    "    sentenceDetector,\n",
    "    tokenizer,\n",
    "    word_embeddings,\n",
    "    clinical_ner,\n",
    "    ner_converter])\n",
    "\n",
    "empty_data = spark.createDataFrame([[\"\"]]).toDF(\"text\")\n",
    "\n",
    "model = nlpPipeline.fit(empty_data)"
   ]
  },
  {
   "cell_type": "markdown",
   "metadata": {
    "id": "woAJhVv6f88m"
   },
   "source": [
    "### Pretrained NER models extracts:\n",
    "\n",
    "- Name\n",
    "- Profession\n",
    "- Age\n",
    "- Date\n",
    "- Contact(Telephone numbers, FAX numbers, Email addresses)\n",
    "- Location (Address, City, Postal code, Hospital Name, Employment information)\n",
    "- Id (Social Security numbers, Medical record numbers, Internet protocol addresses)"
   ]
  },
  {
   "cell_type": "code",
   "execution_count": null,
   "metadata": {
    "id": "Fxdh4CBBf88n"
   },
   "outputs": [],
   "source": [
    "text ='''\n",
    "A . Record date : 2093-01-13 , David Hale , M.D . , Name : Hendrickson , Ora MR . # 7194334 Date : 01/13/93 PCP : Oliveira , 25 years-old , Record date : 2079-11-09 . Cocke County Baptist Hospital . 0295 Keats Street\n",
    "'''"
   ]
  },
  {
   "cell_type": "code",
   "execution_count": null,
   "metadata": {
    "id": "AE7cILT6f88q"
   },
   "outputs": [],
   "source": [
    "result = model.transform(spark.createDataFrame([[text]]).toDF(\"text\"))"
   ]
  },
  {
   "cell_type": "code",
   "execution_count": null,
   "metadata": {
    "id": "5cxcMyvLf88u"
   },
   "outputs": [],
   "source": [
    "result_df = result.select(F.explode(F.arrays_zip('token.result', 'ner.result')).alias(\"cols\")) \\\n",
    ".select(F.expr(\"cols['0']\").alias(\"token\"),\n",
    "        F.expr(\"cols['1']\").alias(\"ner_label\"))"
   ]
  },
  {
   "cell_type": "code",
   "execution_count": null,
   "metadata": {
    "colab": {
     "base_uri": "https://localhost:8080/"
    },
    "executionInfo": {
     "elapsed": 14881,
     "status": "ok",
     "timestamp": 1618562120727,
     "user": {
      "displayName": "muhammet şantaş",
      "photoUrl": "",
      "userId": "01037434825541536598"
     },
     "user_tz": -180
    },
    "id": "nygC3Hbzf88x",
    "outputId": "012e33c7-8dd3-4ba8-843e-8d20978be635"
   },
   "outputs": [
    {
     "name": "stdout",
     "output_type": "stream",
     "text": [
      "+----------+-----+\n",
      "|ner_label |count|\n",
      "+----------+-----+\n",
      "|O         |27   |\n",
      "|I-LOCATION|5    |\n",
      "|I-NAME    |3    |\n",
      "|B-DATE    |3    |\n",
      "|B-NAME    |3    |\n",
      "|B-LOCATION|2    |\n",
      "|B-ID      |1    |\n",
      "|B-AGE     |1    |\n",
      "+----------+-----+\n",
      "\n"
     ]
    }
   ],
   "source": [
    "result_df.select(\"token\", \"ner_label\").groupBy('ner_label').count().orderBy('count', ascending=False).show(truncate=False)"
   ]
  },
  {
   "cell_type": "markdown",
   "metadata": {
    "id": "DJvt31qlf880"
   },
   "source": [
    "### Check extracted sensetive entities"
   ]
  },
  {
   "cell_type": "code",
   "execution_count": null,
   "metadata": {
    "colab": {
     "base_uri": "https://localhost:8080/"
    },
    "executionInfo": {
     "elapsed": 2287,
     "status": "ok",
     "timestamp": 1618562161202,
     "user": {
      "displayName": "muhammet şantaş",
      "photoUrl": "",
      "userId": "01037434825541536598"
     },
     "user_tz": -180
    },
    "id": "gneft_Mgf881",
    "outputId": "0417b3df-eb5a-49e6-e121-a70043946498"
   },
   "outputs": [
    {
     "name": "stdout",
     "output_type": "stream",
     "text": [
      "+-----------------------------+---------+\n",
      "|chunk                        |ner_label|\n",
      "+-----------------------------+---------+\n",
      "|2093-01-13                   |DATE     |\n",
      "|David Hale                   |NAME     |\n",
      "|Hendrickson , Ora            |NAME     |\n",
      "|7194334                      |ID       |\n",
      "|01/13/93                     |DATE     |\n",
      "|Oliveira                     |NAME     |\n",
      "|25                           |AGE      |\n",
      "|2079-11-09                   |DATE     |\n",
      "|Cocke County Baptist Hospital|LOCATION |\n",
      "|0295 Keats Street            |LOCATION |\n",
      "+-----------------------------+---------+\n",
      "\n"
     ]
    }
   ],
   "source": [
    "result.select(F.explode(F.arrays_zip('ner_chunk.result', 'ner_chunk.metadata')).alias(\"cols\")) \\\n",
    ".select(F.expr(\"cols['0']\").alias(\"chunk\"),\n",
    "        F.expr(\"cols['1']['entity']\").alias(\"ner_label\")).show(truncate=False)"
   ]
  },
  {
   "cell_type": "markdown",
   "metadata": {
    "id": "vHgjbu0Xf885"
   },
   "source": [
    "We can find the cases, where the model will skip some important entities, for example:"
   ]
  },
  {
   "cell_type": "code",
   "execution_count": null,
   "metadata": {
    "id": "3I9EdNGMf885"
   },
   "outputs": [],
   "source": [
    "text ='''\n",
    "Patient Aiqing, 25 years-old , born in Beijing, was transfered to the The Johns Hopkins Hospital. Phone number: (541) 754-3010. MSW 100009632582\n",
    "'''"
   ]
  },
  {
   "cell_type": "code",
   "execution_count": null,
   "metadata": {
    "id": "NFlcDIG5f888"
   },
   "outputs": [],
   "source": [
    "result2 = model.transform(spark.createDataFrame([[text]]).toDF(\"text\"))"
   ]
  },
  {
   "cell_type": "code",
   "execution_count": null,
   "metadata": {
    "colab": {
     "base_uri": "https://localhost:8080/"
    },
    "executionInfo": {
     "elapsed": 1954,
     "status": "ok",
     "timestamp": 1618562229942,
     "user": {
      "displayName": "muhammet şantaş",
      "photoUrl": "",
      "userId": "01037434825541536598"
     },
     "user_tz": -180
    },
    "id": "xg5StqfBf89B",
    "outputId": "d958960e-c201-40bf-a632-332b9e657eba"
   },
   "outputs": [
    {
     "name": "stdout",
     "output_type": "stream",
     "text": [
      "+----------------------+---------+\n",
      "|chunk                 |ner_label|\n",
      "+----------------------+---------+\n",
      "|25                    |AGE      |\n",
      "|Beijing               |LOCATION |\n",
      "|Johns Hopkins Hospital|LOCATION |\n",
      "|(541) 754-3010        |CONTACT  |\n",
      "|100009632582          |ID       |\n",
      "+----------------------+---------+\n",
      "\n"
     ]
    }
   ],
   "source": [
    "result2.select(F.explode(F.arrays_zip('ner_chunk.result', 'ner_chunk.metadata')).alias(\"cols\")) \\\n",
    ".select(F.expr(\"cols['0']\").alias(\"chunk\"),\n",
    "        F.expr(\"cols['1']['entity']\").alias(\"ner_label\")).show(truncate=False)"
   ]
  },
  {
   "cell_type": "markdown",
   "metadata": {
    "id": "DExQOzZxf89E"
   },
   "source": [
    "For these entities we can add a dictionary to the pipeline, by using **NerOverwriter()**:"
   ]
  },
  {
   "cell_type": "code",
   "execution_count": null,
   "metadata": {
    "id": "UPu8J-FBf89E"
   },
   "outputs": [],
   "source": [
    "neroverwriter = NerOverwriter() \\\n",
    "    .setInputCols([\"ner\"]) \\\n",
    "    .setOutputCol(\"ner_overwrited\") \\\n",
    "    .setStopWords(['Aiqing']) \\\n",
    "    .setNewResult(\"I-NAME\")\n",
    "\n",
    "ner_converter = NerConverterInternal()\\\n",
    "    .setInputCols([\"sentence\", \"token\", \"ner_overwrited\"])\\\n",
    "    .setOutputCol(\"ner_chunk\")\n",
    "\n",
    "nlpPipeline = Pipeline(stages=[\n",
    "    documentAssembler, \n",
    "    sentenceDetector,\n",
    "    tokenizer,\n",
    "    word_embeddings,\n",
    "    clinical_ner,\n",
    "    neroverwriter,\n",
    "    ner_converter])\n",
    "\n",
    "empty_data = spark.createDataFrame([[\"\"]]).toDF(\"text\")\n",
    "\n",
    "model = nlpPipeline.fit(empty_data)"
   ]
  },
  {
   "cell_type": "markdown",
   "metadata": {
    "id": "rgkbyhLBf89H"
   },
   "source": [
    "Let's test the model after modification:"
   ]
  },
  {
   "cell_type": "code",
   "execution_count": null,
   "metadata": {
    "id": "Bx3Numhlf89I"
   },
   "outputs": [],
   "source": [
    "result2 = model.transform(spark.createDataFrame([[text]]).toDF(\"text\"))"
   ]
  },
  {
   "cell_type": "code",
   "execution_count": null,
   "metadata": {
    "colab": {
     "base_uri": "https://localhost:8080/"
    },
    "executionInfo": {
     "elapsed": 1428,
     "status": "ok",
     "timestamp": 1618562258013,
     "user": {
      "displayName": "muhammet şantaş",
      "photoUrl": "",
      "userId": "01037434825541536598"
     },
     "user_tz": -180
    },
    "id": "S76-ayLGf89L",
    "outputId": "5577371c-46a3-46e8-c04d-72a4214cb5da"
   },
   "outputs": [
    {
     "name": "stdout",
     "output_type": "stream",
     "text": [
      "+----------+----------+\n",
      "|     token| ner_label|\n",
      "+----------+----------+\n",
      "|   Patient|         O|\n",
      "|    Aiqing|         O|\n",
      "|         ,|         O|\n",
      "|        25|     B-AGE|\n",
      "| years-old|         O|\n",
      "|         ,|         O|\n",
      "|      born|         O|\n",
      "|        in|         O|\n",
      "|   Beijing|B-LOCATION|\n",
      "|         ,|         O|\n",
      "|       was|         O|\n",
      "|transfered|         O|\n",
      "|        to|         O|\n",
      "|       the|         O|\n",
      "|       The|         O|\n",
      "|     Johns|B-LOCATION|\n",
      "|   Hopkins|I-LOCATION|\n",
      "|  Hospital|I-LOCATION|\n",
      "|         .|         O|\n",
      "|     Phone|         O|\n",
      "+----------+----------+\n",
      "only showing top 20 rows\n",
      "\n"
     ]
    }
   ],
   "source": [
    "result_df2 = result2.select(F.explode(F.arrays_zip('token.result', 'ner.result')).alias(\"cols\")) \\\n",
    ".select(F.expr(\"cols['0']\").alias(\"token\"),\n",
    "        F.expr(\"cols['1']\").alias(\"ner_label\"))\n",
    "\n",
    "result_df2.show()"
   ]
  },
  {
   "cell_type": "code",
   "execution_count": null,
   "metadata": {
    "colab": {
     "base_uri": "https://localhost:8080/"
    },
    "executionInfo": {
     "elapsed": 1761,
     "status": "ok",
     "timestamp": 1618562267089,
     "user": {
      "displayName": "muhammet şantaş",
      "photoUrl": "",
      "userId": "01037434825541536598"
     },
     "user_tz": -180
    },
    "id": "cTTMqSN_sLJk",
    "outputId": "a12b9e0f-d353-4a3a-978a-2e4afefcf932"
   },
   "outputs": [
    {
     "name": "stdout",
     "output_type": "stream",
     "text": [
      "+----------------------+---------+\n",
      "|chunk                 |ner_label|\n",
      "+----------------------+---------+\n",
      "|Aiqing                |NAME     |\n",
      "|25                    |AGE      |\n",
      "|Beijing               |LOCATION |\n",
      "|Johns Hopkins Hospital|LOCATION |\n",
      "|(541) 754-3010        |CONTACT  |\n",
      "|100009632582          |ID       |\n",
      "+----------------------+---------+\n",
      "\n"
     ]
    }
   ],
   "source": [
    "result2.select(F.explode(F.arrays_zip('ner_chunk.result', 'ner_chunk.metadata')).alias(\"cols\")) \\\n",
    ".select(F.expr(\"cols['0']\").alias(\"chunk\"),\n",
    "        F.expr(\"cols['1']['entity']\").alias(\"ner_label\")).show(truncate=False)"
   ]
  },
  {
   "cell_type": "markdown",
   "metadata": {
    "id": "U3MySdbyf89P"
   },
   "source": [
    "As we can see, now name **Aiqing** was identified correctly"
   ]
  },
  {
   "cell_type": "markdown",
   "metadata": {
    "id": "EkD3zogqf89Q"
   },
   "source": [
    "### Excluding entities from deidentification"
   ]
  },
  {
   "cell_type": "markdown",
   "metadata": {
    "id": "my04HL3rf89Q"
   },
   "source": [
    "Sometimes we need to leave some entities in the text, for example, if we want to analyze the frequency of the disease by the hospital. In this case, we need to use parameter **setWhiteList()** to modify NerChunk output. This parameter having using a list of entities type to deidentify as an input. So, if we want to leave the location in the list we need to remove this tag from the list:"
   ]
  },
  {
   "cell_type": "code",
   "execution_count": null,
   "metadata": {
    "id": "3Bj066u9f89R"
   },
   "outputs": [],
   "source": [
    "ner_converter = NerConverterInternal()\\\n",
    "    .setInputCols([\"sentence\", \"token\", \"ner_overwrited\"])\\\n",
    "    .setOutputCol(\"ner_chunk\") \\\n",
    "    .setWhiteList(['NAME', 'PROFESSION', 'ID', 'AGE',\n",
    "               'DATE', 'CONTACT'])\n",
    "\n",
    "nlpPipeline = Pipeline(stages=[\n",
    "    documentAssembler, \n",
    "    sentenceDetector,\n",
    "    tokenizer,\n",
    "    word_embeddings,\n",
    "    clinical_ner,\n",
    "    neroverwriter,\n",
    "    ner_converter])\n",
    "\n",
    "empty_data = spark.createDataFrame([[\"\"]]).toDF(\"text\")\n",
    "\n",
    "model_with_white_list = nlpPipeline.fit(empty_data)"
   ]
  },
  {
   "cell_type": "code",
   "execution_count": null,
   "metadata": {
    "id": "oWNZR2trf89U"
   },
   "outputs": [],
   "source": [
    "text ='''\n",
    "A . Record date : 2093-01-13 , David Hale , M.D . , Name : Hendrickson , Ora MR . # 7194334 Date : 01/13/93 PCP : Oliveira , 25 years-old , Record date : 2079-11-09 . The Johns Hopkins Hospital . 0295 Keats Street\n",
    "'''\n",
    "\n",
    "result_with_white_list = model_with_white_list.transform(spark.createDataFrame([[text]]).toDF(\"text\"))"
   ]
  },
  {
   "cell_type": "code",
   "execution_count": null,
   "metadata": {
    "colab": {
     "base_uri": "https://localhost:8080/"
    },
    "executionInfo": {
     "elapsed": 2152,
     "status": "ok",
     "timestamp": 1618562315708,
     "user": {
      "displayName": "muhammet şantaş",
      "photoUrl": "",
      "userId": "01037434825541536598"
     },
     "user_tz": -180
    },
    "id": "HFTW28Cbf89Y",
    "outputId": "3b0812b4-72b6-4446-e51f-dadceb5aa404"
   },
   "outputs": [
    {
     "name": "stdout",
     "output_type": "stream",
     "text": [
      "+-----------------+---------+\n",
      "|chunk            |ner_label|\n",
      "+-----------------+---------+\n",
      "|2093-01-13       |DATE     |\n",
      "|David Hale       |NAME     |\n",
      "|Hendrickson , Ora|NAME     |\n",
      "|7194334          |ID       |\n",
      "|01/13/93         |DATE     |\n",
      "|Oliveira         |NAME     |\n",
      "|25               |AGE      |\n",
      "|2079-11-09       |DATE     |\n",
      "+-----------------+---------+\n",
      "\n"
     ]
    }
   ],
   "source": [
    "result_with_white_list.select(F.explode(F.arrays_zip('ner_chunk.result', 'ner_chunk.metadata')).alias(\"cols\")) \\\n",
    ".select(F.expr(\"cols['0']\").alias(\"chunk\"),\n",
    "        F.expr(\"cols['1']['entity']\").alias(\"ner_label\")).show(truncate=False)"
   ]
  },
  {
   "cell_type": "markdown",
   "metadata": {
    "id": "rckvYUKVf89b"
   },
   "source": [
    "## Masking and Obfuscation"
   ]
  },
  {
   "cell_type": "markdown",
   "metadata": {
    "id": "HLt9SFX5f89b"
   },
   "source": [
    "### Replace this enitites with Tags - Masking"
   ]
  },
  {
   "cell_type": "code",
   "execution_count": null,
   "metadata": {
    "colab": {
     "base_uri": "https://localhost:8080/"
    },
    "executionInfo": {
     "elapsed": 6604,
     "status": "ok",
     "timestamp": 1618562333358,
     "user": {
      "displayName": "muhammet şantaş",
      "photoUrl": "",
      "userId": "01037434825541536598"
     },
     "user_tz": -180
    },
    "id": "WaFe5bZzhEXT",
    "outputId": "112cc5c8-5d66-4814-fb3a-8795a1c9304f"
   },
   "outputs": [
    {
     "name": "stdout",
     "output_type": "stream",
     "text": [
      "deidentify_large download started this may take some time.\n",
      "Approximate size to download 188.1 KB\n",
      "[OK!]\n"
     ]
    }
   ],
   "source": [
    "deidentification = DeIdentificationModel.pretrained(\"deidentify_large\", \"en\", \"clinical/models\") \\\n",
    "      .setInputCols([\"sentence\", \"token\", \"ner_chunk\"]) \\\n",
    "      .setOutputCol(\"deidentified\") \\\n",
    "      .setMode(\"mask\")"
   ]
  },
  {
   "cell_type": "code",
   "execution_count": null,
   "metadata": {
    "id": "CZ3QgzH2AD-h"
   },
   "outputs": [],
   "source": [
    "text ='''\n",
    "A . Record date : 2093-01-13 , David Hale , M.D . , Name : Hendrickson , Ora MR . # 7194334 Date : 01/13/93 PCP : Oliveira , 25 years-old , Record date : 2079-11-09 . The Johns Hopkins Hospital. 0295 Keats Street\n",
    "'''\n",
    "result = model.transform(spark.createDataFrame([[text]]).toDF(\"text\"))"
   ]
  },
  {
   "cell_type": "code",
   "execution_count": null,
   "metadata": {
    "colab": {
     "base_uri": "https://localhost:8080/"
    },
    "executionInfo": {
     "elapsed": 2695,
     "status": "ok",
     "timestamp": 1618562343999,
     "user": {
      "displayName": "muhammet şantaş",
      "photoUrl": "",
      "userId": "01037434825541536598"
     },
     "user_tz": -180
    },
    "id": "Pg8fRNyQsZFd",
    "outputId": "97aa5f30-8fc1-40dc-b02e-9571f5081f3f"
   },
   "outputs": [
    {
     "name": "stdout",
     "output_type": "stream",
     "text": [
      "+----------------------+---------+\n",
      "|chunk                 |ner_label|\n",
      "+----------------------+---------+\n",
      "|2093-01-13            |DATE     |\n",
      "|David Hale            |NAME     |\n",
      "|Hendrickson , Ora     |NAME     |\n",
      "|7194334               |ID       |\n",
      "|01/13/93              |DATE     |\n",
      "|Oliveira              |NAME     |\n",
      "|25                    |AGE      |\n",
      "|2079-11-09            |DATE     |\n",
      "|Johns Hopkins Hospital|LOCATION |\n",
      "|0295 Keats Street     |LOCATION |\n",
      "+----------------------+---------+\n",
      "\n"
     ]
    }
   ],
   "source": [
    "result.select(F.explode(F.arrays_zip('ner_chunk.result', 'ner_chunk.metadata')).alias(\"cols\")) \\\n",
    ".select(F.expr(\"cols['0']\").alias(\"chunk\"),\n",
    "        F.expr(\"cols['1']['entity']\").alias(\"ner_label\")).show(truncate=False)"
   ]
  },
  {
   "cell_type": "code",
   "execution_count": null,
   "metadata": {
    "id": "KIGNZ52Sf89e"
   },
   "outputs": [],
   "source": [
    "deid_text = deidentification.transform(result)"
   ]
  },
  {
   "cell_type": "code",
   "execution_count": null,
   "metadata": {
    "colab": {
     "base_uri": "https://localhost:8080/",
     "height": 244
    },
    "executionInfo": {
     "elapsed": 1892,
     "status": "ok",
     "timestamp": 1618562356972,
     "user": {
      "displayName": "muhammet şantaş",
      "photoUrl": "",
      "userId": "01037434825541536598"
     },
     "user_tz": -180
    },
    "id": "v2hzD4eRf89i",
    "outputId": "5190edac-b9f0-4f2a-8344-1801092458dc"
   },
   "outputs": [
    {
     "data": {
      "text/html": [
       "<div>\n",
       "<style scoped>\n",
       "    .dataframe tbody tr th:only-of-type {\n",
       "        vertical-align: middle;\n",
       "    }\n",
       "\n",
       "    .dataframe tbody tr th {\n",
       "        vertical-align: top;\n",
       "    }\n",
       "\n",
       "    .dataframe thead th {\n",
       "        text-align: right;\n",
       "    }\n",
       "</style>\n",
       "<table border=\"1\" class=\"dataframe\">\n",
       "  <thead>\n",
       "    <tr style=\"text-align: right;\">\n",
       "      <th></th>\n",
       "      <th>sentence</th>\n",
       "      <th>deidentified</th>\n",
       "    </tr>\n",
       "  </thead>\n",
       "  <tbody>\n",
       "    <tr>\n",
       "      <th>0</th>\n",
       "      <td>A .</td>\n",
       "      <td>A .</td>\n",
       "    </tr>\n",
       "    <tr>\n",
       "      <th>1</th>\n",
       "      <td>Record date : 2093-01-13 , David Hale , M.D .</td>\n",
       "      <td>Record date : &lt;DATE&gt; , &lt;NAME&gt; , M.D .</td>\n",
       "    </tr>\n",
       "    <tr>\n",
       "      <th>2</th>\n",
       "      <td>, Name : Hendrickson , Ora MR .</td>\n",
       "      <td>, Name : &lt;NAME&gt; MR .</td>\n",
       "    </tr>\n",
       "    <tr>\n",
       "      <th>3</th>\n",
       "      <td># 7194334 Date : 01/13/93 PCP : Oliveira , 25 years-old , Record date : 2079-11-09 .</td>\n",
       "      <td># &lt;ID&gt; Date : &lt;DATE&gt; PCP : &lt;NAME&gt; , &lt;AGE&gt; years-old , Record date : &lt;DATE&gt; .</td>\n",
       "    </tr>\n",
       "    <tr>\n",
       "      <th>4</th>\n",
       "      <td>The Johns Hopkins Hospital.</td>\n",
       "      <td>The &lt;LOCATION&gt;.</td>\n",
       "    </tr>\n",
       "    <tr>\n",
       "      <th>5</th>\n",
       "      <td>0295 Keats Street</td>\n",
       "      <td>&lt;LOCATION&gt;</td>\n",
       "    </tr>\n",
       "  </tbody>\n",
       "</table>\n",
       "</div>"
      ],
      "text/plain": [
       "                                                                               sentence                                                                  deidentified\n",
       "0                                                                                   A .                                                                           A .\n",
       "1                                         Record date : 2093-01-13 , David Hale , M.D .                                         Record date : <DATE> , <NAME> , M.D .\n",
       "2                                                       , Name : Hendrickson , Ora MR .                                                          , Name : <NAME> MR .\n",
       "3  # 7194334 Date : 01/13/93 PCP : Oliveira , 25 years-old , Record date : 2079-11-09 .  # <ID> Date : <DATE> PCP : <NAME> , <AGE> years-old , Record date : <DATE> .\n",
       "4                                                           The Johns Hopkins Hospital.                                                               The <LOCATION>.\n",
       "5                                                                     0295 Keats Street                                                                    <LOCATION>"
      ]
     },
     "execution_count": 33,
     "metadata": {
      "tags": []
     },
     "output_type": "execute_result"
    }
   ],
   "source": [
    "deid_text.select(F.explode(F.arrays_zip('sentence.result', 'deidentified.result')).alias(\"cols\")) \\\n",
    ".select(F.expr(\"cols['0']\").alias(\"sentence\"), F.expr(\"cols['1']\").alias(\"deidentified\")).toPandas()"
   ]
  },
  {
   "cell_type": "markdown",
   "metadata": {
    "id": "HJokGuGxf89k"
   },
   "source": [
    "### Use **Obfuscate** mode"
   ]
  },
  {
   "cell_type": "markdown",
   "metadata": {
    "id": "KG0Bvua7f89l"
   },
   "source": [
    "In the **Obfuscate** mode, DeIdentificationModel will replace sensitive entities with random values of the same type. \n",
    "\n",
    "Will be replaced: \n",
    "- Name\n",
    "- Location\n",
    "- Contacts\n",
    "- Profession\n",
    "\n",
    "Will be tagged:\n",
    "- Age\n",
    "- Date\n",
    "- ID"
   ]
  },
  {
   "cell_type": "code",
   "execution_count": null,
   "metadata": {
    "colab": {
     "base_uri": "https://localhost:8080/"
    },
    "executionInfo": {
     "elapsed": 4107,
     "status": "ok",
     "timestamp": 1618562771470,
     "user": {
      "displayName": "muhammet şantaş",
      "photoUrl": "",
      "userId": "01037434825541536598"
     },
     "user_tz": -180
    },
    "id": "bpMxWZCxVrVf",
    "outputId": "7c560d11-0a65-4829-df2d-3b9fbccee810"
   },
   "outputs": [
    {
     "name": "stdout",
     "output_type": "stream",
     "text": [
      "deidentify_large download started this may take some time.\n",
      "Approximate size to download 188.1 KB\n",
      "[OK!]\n"
     ]
    }
   ],
   "source": [
    "obfuscation = DeIdentificationModel.pretrained(\"deidentify_large\", \"en\", \"clinical/models\") \\\n",
    "      .setInputCols([\"sentence\", \"token\", \"ner_chunk\"]) \\\n",
    "      .setOutputCol(\"deidentified\") \\\n",
    "      .setMode(\"obfuscate\")\\\n",
    "      .setObfuscateDate(True)"
   ]
  },
  {
   "cell_type": "code",
   "execution_count": null,
   "metadata": {
    "id": "_i8Yi2T9Q7er"
   },
   "outputs": [],
   "source": [
    "text ='''\n",
    "A . Record date : 2093-01-13 , David Hale , M.D . , Name : Hendrickson , Ora MR . # 7194334 Date : 01/13/93 PCP : Oliveira , 25 years-old , Record date : 2079-11-09 . Johns Hopkins Hospital. 0295 Keats Street\n",
    "'''\n",
    "result = model.transform(spark.createDataFrame([[text]]).toDF(\"text\"))"
   ]
  },
  {
   "cell_type": "code",
   "execution_count": null,
   "metadata": {
    "colab": {
     "base_uri": "https://localhost:8080/"
    },
    "executionInfo": {
     "elapsed": 287213,
     "status": "ok",
     "timestamp": 1618432736131,
     "user": {
      "displayName": "muhammet şantaş",
      "photoUrl": "",
      "userId": "01037434825541536598"
     },
     "user_tz": -180
    },
    "id": "XGA_M7DNUFdm",
    "outputId": "22be0c88-0298-4c4f-fe8f-3f48611c5b21"
   },
   "outputs": [
    {
     "name": "stdout",
     "output_type": "stream",
     "text": [
      "+--------------------+--------------------+--------------------+--------------------+--------------------+--------------------+--------------------+--------------------+\n",
      "|                text|            document|            sentence|               token|          embeddings|                 ner|      ner_overwrited|           ner_chunk|\n",
      "+--------------------+--------------------+--------------------+--------------------+--------------------+--------------------+--------------------+--------------------+\n",
      "|\n",
      "A . Record date ...|[{document, 0, 20...|[{document, 1, 3,...|[{token, 1, 1, A,...|[{word_embeddings...|[{named_entity, 1...|[{named_entity, 1...|[{chunk, 19, 28, ...|\n",
      "+--------------------+--------------------+--------------------+--------------------+--------------------+--------------------+--------------------+--------------------+\n",
      "\n"
     ]
    }
   ],
   "source": [
    "result.show()"
   ]
  },
  {
   "cell_type": "code",
   "execution_count": null,
   "metadata": {
    "id": "vgiHhAWgrsGQ"
   },
   "outputs": [],
   "source": [
    "obfusated_text = obfuscation.transform(result)"
   ]
  },
  {
   "cell_type": "code",
   "execution_count": null,
   "metadata": {
    "colab": {
     "base_uri": "https://localhost:8080/"
    },
    "executionInfo": {
     "elapsed": 1608,
     "status": "ok",
     "timestamp": 1618562774350,
     "user": {
      "displayName": "muhammet şantaş",
      "photoUrl": "",
      "userId": "01037434825541536598"
     },
     "user_tz": -180
    },
    "id": "u4nZG8UnUNMF",
    "outputId": "f8d52e69-75fb-46b8-85f3-ea6fc1c4b2f7"
   },
   "outputs": [
    {
     "data": {
      "text/plain": [
       "[Row(result=['O', 'O', 'O', 'O', 'O', 'B-DATE', 'O', 'B-NAME', 'I-NAME', 'O', 'O', 'O', 'O', 'O', 'O', 'B-NAME', 'I-NAME', 'I-NAME', 'O', 'O', 'O', 'B-ID', 'O', 'O', 'B-DATE', 'O', 'O', 'B-NAME', 'O', 'B-AGE', 'O', 'O', 'O', 'O', 'O', 'B-DATE', 'O', 'B-LOCATION', 'I-LOCATION', 'I-LOCATION', 'O', 'B-LOCATION', 'I-LOCATION', 'I-LOCATION'])]"
      ]
     },
     "execution_count": 37,
     "metadata": {
      "tags": []
     },
     "output_type": "execute_result"
    }
   ],
   "source": [
    "obfusated_text.select('ner.result').take(1)"
   ]
  },
  {
   "cell_type": "code",
   "execution_count": null,
   "metadata": {
    "colab": {
     "base_uri": "https://localhost:8080/",
     "height": 244
    },
    "executionInfo": {
     "elapsed": 2239,
     "status": "ok",
     "timestamp": 1618562820709,
     "user": {
      "displayName": "muhammet şantaş",
      "photoUrl": "",
      "userId": "01037434825541536598"
     },
     "user_tz": -180
    },
    "id": "wiiJ5GAff89s",
    "outputId": "859aedcf-63fe-4e99-82a2-6e7135ad9389"
   },
   "outputs": [
    {
     "data": {
      "text/html": [
       "<div>\n",
       "<style scoped>\n",
       "    .dataframe tbody tr th:only-of-type {\n",
       "        vertical-align: middle;\n",
       "    }\n",
       "\n",
       "    .dataframe tbody tr th {\n",
       "        vertical-align: top;\n",
       "    }\n",
       "\n",
       "    .dataframe thead th {\n",
       "        text-align: right;\n",
       "    }\n",
       "</style>\n",
       "<table border=\"1\" class=\"dataframe\">\n",
       "  <thead>\n",
       "    <tr style=\"text-align: right;\">\n",
       "      <th></th>\n",
       "      <th>sentence</th>\n",
       "      <th>deidentified</th>\n",
       "    </tr>\n",
       "  </thead>\n",
       "  <tbody>\n",
       "    <tr>\n",
       "      <th>0</th>\n",
       "      <td>A .</td>\n",
       "      <td>A .</td>\n",
       "    </tr>\n",
       "    <tr>\n",
       "      <th>1</th>\n",
       "      <td>Record date : 2093-01-13 , David Hale , M.D .</td>\n",
       "      <td>Record date : 2093-02-24 , Kia , M.D .</td>\n",
       "    </tr>\n",
       "    <tr>\n",
       "      <th>2</th>\n",
       "      <td>, Name : Hendrickson , Ora MR .</td>\n",
       "      <td>, Name : PAUL MR .</td>\n",
       "    </tr>\n",
       "    <tr>\n",
       "      <th>3</th>\n",
       "      <td># 7194334 Date : 01/13/93 PCP : Oliveira , 25 years-old , Record date : 2079-11-09 .</td>\n",
       "      <td># &lt;ID&gt; Date : 03-13-1964 PCP : Seana , &lt;AGE&gt; years-old , Record date : 2079-12-26 .</td>\n",
       "    </tr>\n",
       "    <tr>\n",
       "      <th>4</th>\n",
       "      <td>Johns Hopkins Hospital.</td>\n",
       "      <td>313 Asselsestraat 7.</td>\n",
       "    </tr>\n",
       "    <tr>\n",
       "      <th>5</th>\n",
       "      <td>0295 Keats Street</td>\n",
       "      <td>229 South Dalton</td>\n",
       "    </tr>\n",
       "  </tbody>\n",
       "</table>\n",
       "</div>"
      ],
      "text/plain": [
       "                                                                               sentence                                                                         deidentified\n",
       "0                                                                                   A .                                                                                  A .\n",
       "1                                         Record date : 2093-01-13 , David Hale , M.D .                                               Record date : 2093-02-24 , Kia , M.D .\n",
       "2                                                       , Name : Hendrickson , Ora MR .                                                                   , Name : PAUL MR .\n",
       "3  # 7194334 Date : 01/13/93 PCP : Oliveira , 25 years-old , Record date : 2079-11-09 .  # <ID> Date : 03-13-1964 PCP : Seana , <AGE> years-old , Record date : 2079-12-26 .\n",
       "4                                                               Johns Hopkins Hospital.                                                                 313 Asselsestraat 7.\n",
       "5                                                                     0295 Keats Street                                                                     229 South Dalton"
      ]
     },
     "execution_count": 40,
     "metadata": {
      "tags": []
     },
     "output_type": "execute_result"
    }
   ],
   "source": [
    "obfusated_text.select(F.explode(F.arrays_zip('sentence.result', 'deidentified.result')).alias(\"cols\")) \\\n",
    ".select(F.expr(\"cols['0']\").alias(\"sentence\"), F.expr(\"cols['1']\").alias(\"deidentified\")).toPandas()"
   ]
  },
  {
   "cell_type": "markdown",
   "metadata": {
    "id": "MxBPaNYKcXVT"
   },
   "source": [
    "### Obfuscation with **\"faker\"** parameter in `.setObfuscateRefSource()`\n",
    "- Dates will be changed according to the given parameter in `.setDays()` "
   ]
  },
  {
   "cell_type": "code",
   "execution_count": null,
   "metadata": {
    "colab": {
     "base_uri": "https://localhost:8080/"
    },
    "executionInfo": {
     "elapsed": 9654,
     "status": "ok",
     "timestamp": 1618562880047,
     "user": {
      "displayName": "muhammet şantaş",
      "photoUrl": "",
      "userId": "01037434825541536598"
     },
     "user_tz": -180
    },
    "id": "UrJvGzkGb7B9",
    "outputId": "c73a783e-d6c6-479a-8a2e-aefd048f12c4"
   },
   "outputs": [
    {
     "name": "stdout",
     "output_type": "stream",
     "text": [
      "ner_deid_enriched download started this may take some time.\n",
      "Approximate size to download 14.2 MB\n",
      "[OK!]\n"
     ]
    }
   ],
   "source": [
    "deid_ner = MedicalNerModel.pretrained(\"ner_deid_enriched\", \"en\", \"clinical/models\") \\\n",
    "      .setInputCols([\"sentence\", \"token\", \"embeddings\"]) \\\n",
    "      .setOutputCol(\"ner\")\n",
    "\n",
    "obfuscation = DeIdentification()\\\n",
    "      .setInputCols([\"sentence\", \"token\", \"ner_chunk\"])\\\n",
    "      .setOutputCol(\"deidentified\")\\\n",
    "      .setMode(\"obfuscate\") \\\n",
    "      .setObfuscateRefSource(\"faker\") \\\n",
    "      .setObfuscateDate(True) \\\n",
    "      .setDateTag(\"DATE\")\\\n",
    "      .setDays(5)\n",
    "\n",
    "\n",
    "pipeline = Pipeline(stages=[\n",
    "      documentAssembler, \n",
    "      sentenceDetector,\n",
    "      tokenizer,\n",
    "      word_embeddings,\n",
    "      deid_ner,\n",
    "      neroverwriter,\n",
    "      ner_converter,\n",
    "      obfuscation\n",
    "])\n",
    "\n",
    "\n",
    "empty_data = spark.createDataFrame([[\"\"]]).toDF(\"text\")\n",
    "\n",
    "model = pipeline.fit(empty_data)"
   ]
  },
  {
   "cell_type": "code",
   "execution_count": null,
   "metadata": {
    "colab": {
     "base_uri": "https://localhost:8080/",
     "height": 244
    },
    "executionInfo": {
     "elapsed": 2687,
     "status": "ok",
     "timestamp": 1618562884906,
     "user": {
      "displayName": "muhammet şantaş",
      "photoUrl": "",
      "userId": "01037434825541536598"
     },
     "user_tz": -180
    },
    "id": "grC-Luoob7Tx",
    "outputId": "211f0da9-637e-4d41-9749-5f98b9903e36"
   },
   "outputs": [
    {
     "data": {
      "text/html": [
       "<div>\n",
       "<style scoped>\n",
       "    .dataframe tbody tr th:only-of-type {\n",
       "        vertical-align: middle;\n",
       "    }\n",
       "\n",
       "    .dataframe tbody tr th {\n",
       "        vertical-align: top;\n",
       "    }\n",
       "\n",
       "    .dataframe thead th {\n",
       "        text-align: right;\n",
       "    }\n",
       "</style>\n",
       "<table border=\"1\" class=\"dataframe\">\n",
       "  <thead>\n",
       "    <tr style=\"text-align: right;\">\n",
       "      <th></th>\n",
       "      <th>sentence</th>\n",
       "      <th>deidentified</th>\n",
       "    </tr>\n",
       "  </thead>\n",
       "  <tbody>\n",
       "    <tr>\n",
       "      <th>0</th>\n",
       "      <td>A .</td>\n",
       "      <td>A .</td>\n",
       "    </tr>\n",
       "    <tr>\n",
       "      <th>1</th>\n",
       "      <td>Record date : 2093-01-13 , David Hale , M.D .</td>\n",
       "      <td>Record date : 2093-01-18 , David Hale , M.D .</td>\n",
       "    </tr>\n",
       "    <tr>\n",
       "      <th>2</th>\n",
       "      <td>, Name : Hendrickson , Ora MR .</td>\n",
       "      <td>, Name : Hendrickson , Ora MR .</td>\n",
       "    </tr>\n",
       "    <tr>\n",
       "      <th>3</th>\n",
       "      <td># 7194334 Date : 01/13/93 PCP : Oliveira , 25 years-old , Record date : 2079-11-09 .</td>\n",
       "      <td># 03.27.52.01.78 Date : 11-11-2015 PCP : Oliveira , 56 years-old , Record date : 2079-11-14 .</td>\n",
       "    </tr>\n",
       "    <tr>\n",
       "      <th>4</th>\n",
       "      <td>Johns Hopkins Hospital.</td>\n",
       "      <td>Johns Hopkins Hospital.</td>\n",
       "    </tr>\n",
       "    <tr>\n",
       "      <th>5</th>\n",
       "      <td>0295 Keats Street</td>\n",
       "      <td>0295 Keats Street</td>\n",
       "    </tr>\n",
       "  </tbody>\n",
       "</table>\n",
       "</div>"
      ],
      "text/plain": [
       "                                                                               sentence                                                                                   deidentified\n",
       "0                                                                                   A .                                                                                            A .\n",
       "1                                         Record date : 2093-01-13 , David Hale , M.D .                                                  Record date : 2093-01-18 , David Hale , M.D .\n",
       "2                                                       , Name : Hendrickson , Ora MR .                                                                , Name : Hendrickson , Ora MR .\n",
       "3  # 7194334 Date : 01/13/93 PCP : Oliveira , 25 years-old , Record date : 2079-11-09 .  # 03.27.52.01.78 Date : 11-11-2015 PCP : Oliveira , 56 years-old , Record date : 2079-11-14 .\n",
       "4                                                               Johns Hopkins Hospital.                                                                        Johns Hopkins Hospital.\n",
       "5                                                                     0295 Keats Street                                                                              0295 Keats Street"
      ]
     },
     "execution_count": 42,
     "metadata": {
      "tags": []
     },
     "output_type": "execute_result"
    }
   ],
   "source": [
    "text ='''\n",
    "A . Record date : 2093-01-13 , David Hale , M.D . , Name : Hendrickson , Ora MR . # 7194334 Date : 01/13/93 PCP : Oliveira , 25 years-old , Record date : 2079-11-09 . Johns Hopkins Hospital. 0295 Keats Street\n",
    "'''\n",
    "result = model.transform(spark.createDataFrame([[text]]).toDF(\"text\"))\n",
    "\n",
    "result.select(F.explode(F.arrays_zip('sentence.result', 'deidentified.result')).alias(\"cols\")) \\\n",
    ".select(F.expr(\"cols['0']\").alias(\"sentence\"), F.expr(\"cols['1']\").alias(\"deidentified\")).toPandas()"
   ]
  },
  {
   "cell_type": "markdown",
   "metadata": {
    "id": "9jAMC21Hf89v"
   },
   "source": [
    "## Use full pipeline in the Light model"
   ]
  },
  {
   "cell_type": "code",
   "execution_count": null,
   "metadata": {
    "id": "kaUnGYhOf89w"
   },
   "outputs": [],
   "source": [
    "finisher = Finisher() \\\n",
    "    .setInputCols(\"deidentified\")\n",
    "\n",
    "ner_converter = NerConverterInternal()\\\n",
    "  .setInputCols([\"sentence\", \"token\", \"ner_overwrited\"])\\\n",
    "  .setOutputCol(\"ner_chunk\") "
   ]
  },
  {
   "cell_type": "code",
   "execution_count": null,
   "metadata": {
    "id": "Qhq7n1IahS_Y"
   },
   "outputs": [],
   "source": [
    "pipeline = Pipeline(stages=[\n",
    "    documentAssembler, \n",
    "    sentenceDetector,\n",
    "    tokenizer,\n",
    "    word_embeddings,\n",
    "    clinical_ner,\n",
    "    neroverwriter,\n",
    "    ner_converter,\n",
    "    obfuscation])"
   ]
  },
  {
   "cell_type": "code",
   "execution_count": null,
   "metadata": {
    "id": "ZohbvibZf891"
   },
   "outputs": [],
   "source": [
    "empty_data = spark.createDataFrame([[\"\"]]).toDF(\"text\")\n",
    "\n",
    "model = pipeline.fit(empty_data)"
   ]
  },
  {
   "cell_type": "code",
   "execution_count": null,
   "metadata": {
    "id": "DhtnLajzgNNb"
   },
   "outputs": [],
   "source": [
    "light_model = LightPipeline(model)"
   ]
  },
  {
   "cell_type": "code",
   "execution_count": null,
   "metadata": {
    "id": "_sC_bn1Hhs9g"
   },
   "outputs": [],
   "source": [
    "text ='''\n",
    "A . Record date : 2093-01-13 , David Hale , M.D . , Name : Hendrickson , Ora MR . # 7194334 Date : 01-13-1993 PCP : Oliveira , 25 years-old , Record date : 2079-11-09 . Cocke County Baptist Hospital . 0295 Keats Street\n",
    "'''"
   ]
  },
  {
   "cell_type": "code",
   "execution_count": null,
   "metadata": {
    "colab": {
     "base_uri": "https://localhost:8080/"
    },
    "executionInfo": {
     "elapsed": 297065,
     "status": "ok",
     "timestamp": 1618432746102,
     "user": {
      "displayName": "muhammet şantaş",
      "photoUrl": "",
      "userId": "01037434825541536598"
     },
     "user_tz": -180
    },
    "id": "jbblkrvjEHn9",
    "outputId": "4b0f1b28-590a-4512-ba5f-efa9a0361e6e"
   },
   "outputs": [
    {
     "data": {
      "text/plain": [
       "['A .',\n",
       " 'Record date : 2093-01-18 , Mohmad Gordon , M.D .',\n",
       " ', Name : Anna Lawson MR .',\n",
       " '# D8839800 Date : 01-18-1993 PCP : Ranko Carroll , 58 years-old , Record date : 2079-11-14 .',\n",
       " '682 Guerrerostad .',\n",
       " '395 Tværgyden 40']"
      ]
     },
     "execution_count": 41,
     "metadata": {
      "tags": []
     },
     "output_type": "execute_result"
    }
   ],
   "source": [
    "annotated_text = light_model.annotate(text)\n",
    "annotated_text['deidentified']"
   ]
  },
  {
   "cell_type": "code",
   "execution_count": null,
   "metadata": {
    "colab": {
     "base_uri": "https://localhost:8080/"
    },
    "executionInfo": {
     "elapsed": 297053,
     "status": "ok",
     "timestamp": 1618432746103,
     "user": {
      "displayName": "muhammet şantaş",
      "photoUrl": "",
      "userId": "01037434825541536598"
     },
     "user_tz": -180
    },
    "id": "BqNvJOvQvy99",
    "outputId": "5528af55-6faf-47c6-9b2a-01385de14134"
   },
   "outputs": [
    {
     "data": {
      "text/plain": [
       "[('A', 'O'),\n",
       " ('.', 'O'),\n",
       " ('Record', 'O'),\n",
       " ('date', 'O'),\n",
       " (':', 'O'),\n",
       " ('2093-01-13', 'B-DATE'),\n",
       " (',', 'O'),\n",
       " ('David', 'B-NAME'),\n",
       " ('Hale', 'I-NAME'),\n",
       " (',', 'O'),\n",
       " ('M.D', 'O'),\n",
       " ('.', 'O'),\n",
       " (',', 'O'),\n",
       " ('Name', 'O'),\n",
       " (':', 'O'),\n",
       " ('Hendrickson', 'B-NAME'),\n",
       " (',', 'I-NAME'),\n",
       " ('Ora', 'I-NAME'),\n",
       " ('MR', 'O'),\n",
       " ('.', 'O'),\n",
       " ('#', 'O'),\n",
       " ('7194334', 'B-ID'),\n",
       " ('Date', 'O'),\n",
       " (':', 'O'),\n",
       " ('01-13-1993', 'B-DATE'),\n",
       " ('PCP', 'O'),\n",
       " (':', 'O'),\n",
       " ('Oliveira', 'B-NAME'),\n",
       " (',', 'O'),\n",
       " ('25', 'B-AGE'),\n",
       " ('years-old', 'O'),\n",
       " (',', 'O'),\n",
       " ('Record', 'O'),\n",
       " ('date', 'O'),\n",
       " (':', 'O'),\n",
       " ('2079-11-09', 'B-DATE'),\n",
       " ('.', 'O'),\n",
       " ('Cocke', 'B-LOCATION'),\n",
       " ('County', 'I-LOCATION'),\n",
       " ('Baptist', 'I-LOCATION'),\n",
       " ('Hospital', 'I-LOCATION'),\n",
       " ('.', 'O'),\n",
       " ('0295', 'B-LOCATION'),\n",
       " ('Keats', 'I-LOCATION'),\n",
       " ('Street', 'I-LOCATION')]"
      ]
     },
     "execution_count": 42,
     "metadata": {
      "tags": []
     },
     "output_type": "execute_result"
    }
   ],
   "source": [
    "list(zip(annotated_text['token'], annotated_text['ner']))"
   ]
  },
  {
   "cell_type": "code",
   "execution_count": null,
   "metadata": {
    "colab": {
     "base_uri": "https://localhost:8080/"
    },
    "executionInfo": {
     "elapsed": 297042,
     "status": "ok",
     "timestamp": 1618432746104,
     "user": {
      "displayName": "muhammet şantaş",
      "photoUrl": "",
      "userId": "01037434825541536598"
     },
     "user_tz": -180
    },
    "id": "zploSXHnw1B5",
    "outputId": "906cda3f-7446-4f01-aab4-73b3b0b122eb"
   },
   "outputs": [
    {
     "data": {
      "text/plain": [
       "['2093-01-13',\n",
       " 'David Hale',\n",
       " 'Hendrickson , Ora',\n",
       " '7194334',\n",
       " '01-13-1993',\n",
       " 'Oliveira',\n",
       " '25',\n",
       " '2079-11-09',\n",
       " 'Cocke County Baptist Hospital',\n",
       " '0295 Keats Street']"
      ]
     },
     "execution_count": 43,
     "metadata": {
      "tags": []
     },
     "output_type": "execute_result"
    }
   ],
   "source": [
    "annotated_text['ner_chunk']"
   ]
  },
  {
   "cell_type": "code",
   "execution_count": null,
   "metadata": {
    "colab": {
     "base_uri": "https://localhost:8080/"
    },
    "executionInfo": {
     "elapsed": 297409,
     "status": "ok",
     "timestamp": 1618432746484,
     "user": {
      "displayName": "muhammet şantaş",
      "photoUrl": "",
      "userId": "01037434825541536598"
     },
     "user_tz": -180
    },
    "id": "0emrh9kBfRKf",
    "outputId": "b9f3e5e6-6f9f-4c04-9213-359ee5b6a687"
   },
   "outputs": [
    {
     "data": {
      "text/plain": [
       "['Record date : 2093-01-18, Mohmad Gordon, M.D. is Museum/gallery conservator, \\nName: Anna Lawson MR. # D8839800 Date: 01-18-1993 PCP: Ranko Carroll.',\n",
       " 'Record date: 2079-11-14.',\n",
       " '682 Guerrerostad.',\n",
       " '395 Tværgyden 40.',\n",
       " 'This 17-yr-old male, presented with chest heaviness that started during a pick-up basketball game.',\n",
       " 'His past medical history was unremarkable.',\n",
       " 'He denied prior cardiac symptoms and suffered no chest trauma during the game.',\n",
       " 'His father had suffered an acute myocardial infarction at age',\n",
       " '38. The patient was a nonsmoker, did not drink alcohol, and denied recreational drug use.',\n",
       " 'He swallowed a tablet of aspirin before coming to the emergency room.',\n",
       " 'His blood pressure was 160/90 mm Hg, and his heart rate was 80 bpm.',\n",
       " 'Physical examination revealed no stigmata of Marfan syndrome.',\n",
       " 'The rest of his physical examination was normal.']"
      ]
     },
     "execution_count": 44,
     "metadata": {
      "tags": []
     },
     "output_type": "execute_result"
    }
   ],
   "source": [
    "source_text = '''Record date : 2093-01-13, David Hale, M.D. is manager, \n",
    "Name: Hendrickson, Ora MR. # 7194334 Date: 01-13-1993 PCP: Oliveira.\n",
    "Record date: 2079-11-09. Cocke County Baptist Hospital. 0295 Keats Street.\n",
    "This 17-yr-old male, presented with chest heaviness that started during a pick-up basketball game. His past medical history was unremarkable. He denied prior cardiac symptoms and suffered no chest trauma during the game. His father had suffered an acute myocardial infarction at age 38. The patient was a nonsmoker, did not drink alcohol, and denied recreational drug use. He swallowed a tablet of aspirin before coming to the emergency room. His blood pressure was 160/90 mm Hg, and his heart rate was 80 bpm. Physical examination revealed no stigmata of Marfan syndrome. The rest of his physical examination was normal.'''\n",
    "\n",
    "annotated_text = light_model.annotate(source_text)\n",
    "annotated_text['deidentified']"
   ]
  },
  {
   "cell_type": "markdown",
   "metadata": {
    "id": "gvfk9aBgf8-C"
   },
   "source": [
    "## Train custom Model\n"
   ]
  },
  {
   "cell_type": "code",
   "execution_count": null,
   "metadata": {
    "colab": {
     "base_uri": "https://localhost:8080/"
    },
    "executionInfo": {
     "elapsed": 313084,
     "status": "ok",
     "timestamp": 1618432762171,
     "user": {
      "displayName": "muhammet şantaş",
      "photoUrl": "",
      "userId": "01037434825541536598"
     },
     "user_tz": -180
    },
    "id": "zrCiTFwq2SkX",
    "outputId": "9cef53bc-120e-49ba-9cdf-740fb1fdf57d"
   },
   "outputs": [
    {
     "name": "stdout",
     "output_type": "stream",
     "text": [
      "glove_100d download started this may take some time.\n",
      "Approximate size to download 145.3 MB\n",
      "[OK!]\n",
      "ner_dl download started this may take some time.\n",
      "Approximate size to download 13.6 MB\n",
      "[OK!]\n"
     ]
    }
   ],
   "source": [
    "glove_embeddings = WordEmbeddingsModel.pretrained('glove_100d')\\\n",
    "          .setInputCols([\"document\", \"token\"])\\\n",
    "          .setOutputCol(\"embeddings\")\n",
    "\n",
    "public_ner = NerDLModel.pretrained(\"ner_dl\", 'en') \\\n",
    "          .setInputCols([\"document\", \"token\", \"embeddings\"]) \\\n",
    "          .setOutputCol(\"ner\")\n",
    "\n",
    "ner_converter = NerConverterInternal()\\\n",
    "          .setInputCols([\"sentence\", \"token\", \"ner\"])\\\n",
    "          .setOutputCol(\"ner_chunk\")\n"
   ]
  },
  {
   "cell_type": "code",
   "execution_count": null,
   "metadata": {
    "id": "EAn2UqKwf8-W"
   },
   "outputs": [],
   "source": [
    "\n",
    "nlpPipeline = Pipeline(stages=[\n",
    "    documentAssembler, \n",
    "    sentenceDetector,\n",
    "    tokenizer,\n",
    "    glove_embeddings,\n",
    "    public_ner,\n",
    "    ner_converter])\n",
    "\n",
    "empty_data = spark.createDataFrame([[\"\"]]).toDF(\"text\")\n",
    "\n",
    "custom_model = nlpPipeline.fit(result)"
   ]
  },
  {
   "cell_type": "code",
   "execution_count": null,
   "metadata": {
    "id": "hGifAYcjf8-Z"
   },
   "outputs": [],
   "source": [
    "source_text = '''Record date : 2093-01-13, David Hale lives in New York'''"
   ]
  },
  {
   "cell_type": "code",
   "execution_count": null,
   "metadata": {
    "id": "Kw4TP_M1f8-c"
   },
   "outputs": [],
   "source": [
    "result = custom_model.transform(spark.createDataFrame([[source_text]]).toDF(\"text\"))"
   ]
  },
  {
   "cell_type": "markdown",
   "metadata": {
    "id": "v4P_w-nDf8-e"
   },
   "source": [
    "#### We got new entities in the model 'PER' and 'ORG'"
   ]
  },
  {
   "cell_type": "code",
   "execution_count": null,
   "metadata": {
    "colab": {
     "base_uri": "https://localhost:8080/"
    },
    "executionInfo": {
     "elapsed": 315165,
     "status": "ok",
     "timestamp": 1618432764279,
     "user": {
      "displayName": "muhammet şantaş",
      "photoUrl": "",
      "userId": "01037434825541536598"
     },
     "user_tz": -180
    },
    "id": "CJk7dAbYf8-f",
    "outputId": "028c279e-c01f-43a5-89e1-1a3f64cdc8ac"
   },
   "outputs": [
    {
     "name": "stdout",
     "output_type": "stream",
     "text": [
      "+----------+---------+\n",
      "|chunk     |ner_label|\n",
      "+----------+---------+\n",
      "|David Hale|PER      |\n",
      "|New York  |LOC      |\n",
      "+----------+---------+\n",
      "\n"
     ]
    }
   ],
   "source": [
    "result.select(F.explode(F.arrays_zip('ner_chunk.result', 'ner_chunk.metadata')).alias(\"cols\")) \\\n",
    ".select(F.expr(\"cols['0']\").alias(\"chunk\"),\n",
    "        F.expr(\"cols['1']['entity']\").alias(\"ner_label\")).show(truncate=False)"
   ]
  },
  {
   "cell_type": "markdown",
   "metadata": {
    "id": "Sx5Uitz1vedz"
   },
   "source": [
    "### Mask custom entities"
   ]
  },
  {
   "cell_type": "code",
   "execution_count": null,
   "metadata": {
    "id": "x1nLENcavdCE"
   },
   "outputs": [],
   "source": [
    "deidentification = DeIdentification() \\\n",
    "      .setInputCols([\"sentence\", \"token\", \"ner_chunk\"]) \\\n",
    "      .setOutputCol(\"deidentified\") \\\n",
    "      .setMode(\"mask\")"
   ]
  },
  {
   "cell_type": "code",
   "execution_count": null,
   "metadata": {
    "id": "eL4vIm9TvdWY"
   },
   "outputs": [],
   "source": [
    "deid_model = deidentification.fit(result)\n",
    "deid_text = deid_model.transform(result)"
   ]
  },
  {
   "cell_type": "code",
   "execution_count": null,
   "metadata": {
    "colab": {
     "base_uri": "https://localhost:8080/",
     "height": 97
    },
    "executionInfo": {
     "elapsed": 315874,
     "status": "ok",
     "timestamp": 1618432765011,
     "user": {
      "displayName": "muhammet şantaş",
      "photoUrl": "",
      "userId": "01037434825541536598"
     },
     "user_tz": -180
    },
    "id": "LeIoxeRWvdSZ",
    "outputId": "ab6afe59-a653-43df-98b8-ad888675c205"
   },
   "outputs": [
    {
     "data": {
      "text/html": [
       "<div>\n",
       "<style scoped>\n",
       "    .dataframe tbody tr th:only-of-type {\n",
       "        vertical-align: middle;\n",
       "    }\n",
       "\n",
       "    .dataframe tbody tr th {\n",
       "        vertical-align: top;\n",
       "    }\n",
       "\n",
       "    .dataframe thead th {\n",
       "        text-align: right;\n",
       "    }\n",
       "</style>\n",
       "<table border=\"1\" class=\"dataframe\">\n",
       "  <thead>\n",
       "    <tr style=\"text-align: right;\">\n",
       "      <th></th>\n",
       "      <th>sentence</th>\n",
       "      <th>deidentified</th>\n",
       "    </tr>\n",
       "  </thead>\n",
       "  <tbody>\n",
       "    <tr>\n",
       "      <th>0</th>\n",
       "      <td>Record date : 2093-01-13, David Hale lives in New York</td>\n",
       "      <td>Record date : &lt;DATE&gt;, &lt;PER&gt; lives in &lt;LOC&gt;</td>\n",
       "    </tr>\n",
       "  </tbody>\n",
       "</table>\n",
       "</div>"
      ],
      "text/plain": [
       "                                                 sentence                                deidentified\n",
       "0  Record date : 2093-01-13, David Hale lives in New York  Record date : <DATE>, <PER> lives in <LOC>"
      ]
     },
     "execution_count": 52,
     "metadata": {
      "tags": []
     },
     "output_type": "execute_result"
    }
   ],
   "source": [
    "deid_text.select(F.explode(F.arrays_zip('sentence.result', 'deidentified.result')).alias(\"cols\")) \\\n",
    ".select(F.expr(\"cols['0']\").alias(\"sentence\"), F.expr(\"cols['1']\").alias(\"deidentified\")).toPandas()"
   ]
  },
  {
   "cell_type": "code",
   "execution_count": null,
   "metadata": {
    "id": "QpLr7HKI1EQq"
   },
   "outputs": [],
   "source": [
    "deid_model.write().overwrite().save('custom_deid_masker_model')"
   ]
  },
  {
   "cell_type": "markdown",
   "metadata": {
    "id": "hOHhaQKbf8-h"
   },
   "source": [
    "In order to obfuscate new entities we have to a create custom Deidentification Model with new dictionary"
   ]
  },
  {
   "cell_type": "code",
   "execution_count": null,
   "metadata": {
    "id": "Nze0cSh7fR9W"
   },
   "outputs": [],
   "source": [
    "obfuscation_list = ['Marvin MARSHALL#PER',\n",
    "      'Hubert GROGAN#PER',\n",
    "      'ALTHEA COLBURN#PER',\n",
    "      'Kalil AMIN#PER',\n",
    "      'Inci FOUNTAIN#PER',\n",
    "      'Surrey#ORG',\n",
    "      'Warwickshire#ORG',\n",
    "      'Derbyshire#ORG',\n",
    "      'Leicestershire#ORG',\n",
    "      'Glamorgan#ORG',\n",
    "      'Durham#ORG',\n",
    "      'Los Angeles#LOC']\n",
    "\n",
    "with open('obfuscation.txt', 'a') as the_file:\n",
    "    for line in obfuscation_list:\n",
    "      the_file.write(line + '\\n')"
   ]
  },
  {
   "cell_type": "code",
   "execution_count": null,
   "metadata": {
    "id": "enpmmCfbf8-j"
   },
   "outputs": [],
   "source": [
    "obfuscator = DeIdentification() \\\n",
    "    .setInputCols([\"sentence\", \"token\", \"ner_chunk\"]) \\\n",
    "    .setOutputCol(\"deidentified\") \\\n",
    "    .setMode('obfuscate') \\\n",
    "    .setRefSep('#') \\\n",
    "    .setObfuscateRefFile('obfuscation.txt') \\\n",
    "    .setObfuscateDate(True)\n"
   ]
  },
  {
   "cell_type": "code",
   "execution_count": null,
   "metadata": {
    "id": "Gia6ufwhf8-l"
   },
   "outputs": [],
   "source": [
    "obfuscator_model = obfuscator.fit(result)"
   ]
  },
  {
   "cell_type": "code",
   "execution_count": null,
   "metadata": {
    "id": "TTAkmJWuktxI"
   },
   "outputs": [],
   "source": [
    "obfuscator_model.write().overwrite().save('custom_obfuscator_model')"
   ]
  },
  {
   "cell_type": "code",
   "execution_count": null,
   "metadata": {
    "id": "YfMT8lIZf8-n"
   },
   "outputs": [],
   "source": [
    "obfusc_text = obfuscator_model.transform(result)"
   ]
  },
  {
   "cell_type": "code",
   "execution_count": null,
   "metadata": {
    "colab": {
     "base_uri": "https://localhost:8080/",
     "height": 97
    },
    "executionInfo": {
     "elapsed": 318039,
     "status": "ok",
     "timestamp": 1618432767220,
     "user": {
      "displayName": "muhammet şantaş",
      "photoUrl": "",
      "userId": "01037434825541536598"
     },
     "user_tz": -180
    },
    "id": "p4ONlR9309Rk",
    "outputId": "41b210ae-1b18-4539-d6a9-4d05e1db5760"
   },
   "outputs": [
    {
     "data": {
      "text/html": [
       "<div>\n",
       "<style scoped>\n",
       "    .dataframe tbody tr th:only-of-type {\n",
       "        vertical-align: middle;\n",
       "    }\n",
       "\n",
       "    .dataframe tbody tr th {\n",
       "        vertical-align: top;\n",
       "    }\n",
       "\n",
       "    .dataframe thead th {\n",
       "        text-align: right;\n",
       "    }\n",
       "</style>\n",
       "<table border=\"1\" class=\"dataframe\">\n",
       "  <thead>\n",
       "    <tr style=\"text-align: right;\">\n",
       "      <th></th>\n",
       "      <th>sentence</th>\n",
       "      <th>deidentified</th>\n",
       "    </tr>\n",
       "  </thead>\n",
       "  <tbody>\n",
       "    <tr>\n",
       "      <th>0</th>\n",
       "      <td>Record date : 2093-01-13, David Hale lives in New York</td>\n",
       "      <td>Record date : 2093-03-14, ALTHEA COLBURN lives in Los Angeles</td>\n",
       "    </tr>\n",
       "  </tbody>\n",
       "</table>\n",
       "</div>"
      ],
      "text/plain": [
       "                                                 sentence                                                   deidentified\n",
       "0  Record date : 2093-01-13, David Hale lives in New York  Record date : 2093-03-14, ALTHEA COLBURN lives in Los Angeles"
      ]
     },
     "execution_count": 59,
     "metadata": {
      "tags": []
     },
     "output_type": "execute_result"
    }
   ],
   "source": [
    "obfusc_text.select(F.explode(F.arrays_zip('sentence.result', 'deidentified.result')).alias(\"cols\")) \\\n",
    ".select(F.expr(\"cols['0']\").alias(\"sentence\"), F.expr(\"cols['1']\").alias(\"deidentified\")).toPandas()"
   ]
  },
  {
   "cell_type": "markdown",
   "metadata": {
    "id": "wGkE5kEmQmN6"
   },
   "source": [
    "# Structured Deidentification"
   ]
  },
  {
   "cell_type": "code",
   "execution_count": null,
   "metadata": {
    "id": "k3Q_begcRHHZ"
   },
   "outputs": [],
   "source": [
    "!wget https://raw.githubusercontent.com/JohnSnowLabs/spark-nlp-workshop/master/tutorials/Certification_Trainings/Healthcare/data/hipaa-table-001.txt"
   ]
  },
  {
   "cell_type": "code",
   "execution_count": null,
   "metadata": {
    "colab": {
     "base_uri": "https://localhost:8080/"
    },
    "executionInfo": {
     "elapsed": 319166,
     "status": "ok",
     "timestamp": 1618432768384,
     "user": {
      "displayName": "muhammet şantaş",
      "photoUrl": "",
      "userId": "01037434825541536598"
     },
     "user_tz": -180
    },
    "id": "kdxnDJJF6300",
    "outputId": "5f74c178-9e6f-44fc-906d-ceca65a51061"
   },
   "outputs": [
    {
     "name": "stdout",
     "output_type": "stream",
     "text": [
      "+---------------+----------+---+----------------------------------------------------+-------+--------------+---+---+\n",
      "|NAME           |DOB       |AGE|ADDRESS                                             |ZIPCODE|TEL           |SBP|DBP|\n",
      "+---------------+----------+---+----------------------------------------------------+-------+--------------+---+---+\n",
      "|Cecilia Chapman|04/02/1935|83 |711-2880 Nulla St. Mankato Mississippi              |69200  |(257) 563-7401|101|42 |\n",
      "|Iris Watson    |03/10/2009|9  |P.O. Box 283 8562 Fusce Rd. Frederick Nebraska      |20620  |(372) 587-2335|159|122|\n",
      "|Bryar Pitts    |11/01/1921|98 |5543 Aliquet St. Fort Dodge GA                      |20783  |(717) 450-4729|149|52 |\n",
      "|Theodore Lowe  |13/02/2002|16 |Ap #867-859 Sit Rd. Azusa New York                  |39531  |(793) 151-6230|134|115|\n",
      "|Calista Wise   |20/08/1942|76 |7292 Dictum Av. San Antonio MI                      |47096  |(492) 709-6392|139|78 |\n",
      "|Kyla Olsen     |12/05/1973|45 |Ap #651-8679 Sodales Av. Tamuning PA                |10855  |(654) 393-5734|120|112|\n",
      "|Forrest Ray    |11/01/1991|27 |191-103 Integer Rd. Corona New Mexico               |8219   |(404) 960-3807|143|126|\n",
      "|Hiroko Potter  |18/11/1937|81 |P.O. Box 887 2508 Dolor. Av. Muskegon KY            |12482  |(314) 244-6306|147|75 |\n",
      "|Celeste Slater |12/05/1980|38 |606-3727 Ullamcorper. Street Roseville NH           |11523  |(786) 713-8616|147|123|\n",
      "|Nyssa Vazquez  |24/09/1956|62 |511-5762 At Rd. Chelsea MI                          |67708  |(947) 278-5929|129|50 |\n",
      "|Lawrence Moreno|26/12/1906|112|935-9940 Tortor. Street Santa Rosa MN               |98804  |(684) 579-1879|133|102|\n",
      "|Ina Moran      |26/10/1983|35 |P.O. Box 929 4189 Nunc Road Lebanon KY              |69409  |(389) 737-2852|101|67 |\n",
      "|Aaron Hawkins  |26/09/2009|9  |5587 Nunc. Avenue Erie Rhode Island                 |24975  |(660) 663-4518|87 |81 |\n",
      "|Hedy Greene    |03/10/1920|98 |Ap #696-3279 Viverra. Avenue Latrobe DE             |38100  |(608) 265-2215|128|123|\n",
      "|Melvin Porter  |14/08/1911|107|P.O. Box 132 1599 Curabitur Rd. Bandera South Dakota|45149  |(959) 119-8364|83 |43 |\n",
      "|Keefe Sellers  |16/05/1937|81 |347-7666 Iaculis St. Woodruff SC                    |49854  |(468) 353-2641|148|109|\n",
      "|Joan Romero    |08/12/2004|14 |666-4366 Lacinia Avenue Idaho Falls Ohio            |19253  |(248) 675-4007|75 |53 |\n",
      "|Davis Patrick  |09/01/1956|63 |P.O. Box 147 2546 Sociosqu Rd. Bethlehem Utah       |2913   |(939) 353-1107|142|62 |\n",
      "|Leilani Boyer  |18/10/1934|84 |557-6308 Lacinia Road San Bernardino ND             |9289   |(570) 873-7090|137|48 |\n",
      "|Colby Bernard  |02/10/1905|113|Ap #285-7193 Ullamcorper Avenue Amesbury HI         |93373  |(302) 259-2375|84 |41 |\n",
      "+---------------+----------+---+----------------------------------------------------+-------+--------------+---+---+\n",
      "only showing top 20 rows\n",
      "\n"
     ]
    }
   ],
   "source": [
    "df = spark.read.format(\"csv\") \\\n",
    "    .option(\"sep\", \"\\t\") \\\n",
    "    .option(\"inferSchema\", \"true\") \\\n",
    "    .option(\"header\", \"true\") \\\n",
    "    .load(\"hipaa-table-001.txt\")\n",
    "\n",
    "df = df.withColumnRenamed(\"PATIENT\",\"NAME\")\n",
    "df.show(truncate=False)"
   ]
  },
  {
   "cell_type": "code",
   "execution_count": null,
   "metadata": {
    "id": "c5NXSxvVRUvZ"
   },
   "outputs": [],
   "source": [
    "from sparknlp_jsl.structured_deidentification import StructuredDeidentification\n"
   ]
  },
  {
   "cell_type": "code",
   "execution_count": null,
   "metadata": {
    "id": "qDBO6FzGRxKy"
   },
   "outputs": [],
   "source": [
    "obfuscator_unique_ref_test = '''Will Perry#PATIENT\n",
    "John Smith#PATIENT\n",
    "Marvin MARSHALL#PATIENT\n",
    "Hubert GROGAN#PATIENT\n",
    "ALTHEA COLBURN#PATIENT\n",
    "Kalil AMIN#PATIENT\n",
    "Inci FOUNTAIN#PATIENT\n",
    "Aberdeen#CITY\n",
    "Louisburg St#STREET\n",
    "France#LOC\n",
    "Nick Riviera#DOCTOR\n",
    "5552312#PHONE\n",
    "St James Hospital#HOSPITAL\n",
    "Calle del Libertador#ADDRESS\n",
    "111#ID\n",
    "Will#DOCTOR'''\n",
    "\n",
    "with open('obfuscator_unique_ref_test.txt', 'w') as f:\n",
    "  f.write(obfuscator_unique_ref_test)"
   ]
  },
  {
   "cell_type": "code",
   "execution_count": null,
   "metadata": {
    "colab": {
     "base_uri": "https://localhost:8080/"
    },
    "executionInfo": {
     "elapsed": 322249,
     "status": "ok",
     "timestamp": 1618432771492,
     "user": {
      "displayName": "muhammet şantaş",
      "photoUrl": "",
      "userId": "01037434825541536598"
     },
     "user_tz": -180
    },
    "id": "fPupLHT6R1_S",
    "outputId": "d01b992d-a1e8-4ada-d517-d589bd028cff"
   },
   "outputs": [
    {
     "name": "stdout",
     "output_type": "stream",
     "text": [
      "+-----------------------+----+\n",
      "|NAME                   |AGE |\n",
      "+-----------------------+----+\n",
      "|[Oliver Sandgreen]     |[34]|\n",
      "|[Moustafa Kristiansen] |[93]|\n",
      "|[Antti Alatalo]        |[19]|\n",
      "|[Genghis Rose]         |[21]|\n",
      "|[Mathias Rustad]       |[80]|\n",
      "|[Gauthier Dias]        |[22]|\n",
      "|[Tomás Čechová]        |[61]|\n",
      "|[Concordio Villanueva] |[29]|\n",
      "|[John Henriksen]       |[45]|\n",
      "|[Anastasio Ferreira]   |[76]|\n",
      "|[Mohsin Miller]        |[33]|\n",
      "|[Kayla Brkić]          |[45]|\n",
      "|[Ricky Geisler]        |[93]|\n",
      "|[Rasmus Takaki]        |[19]|\n",
      "|[Annemette Christensen]|[59]|\n",
      "|[William Johansen]     |[29]|\n",
      "|[Christophe Fuchs]     |[19]|\n",
      "|[Jaroslava Woźniak]    |[21]|\n",
      "|[Nathaniel Wheeler]    |[8] |\n",
      "|[Marisa Schiavone]     |[75]|\n",
      "+-----------------------+----+\n",
      "only showing top 20 rows\n",
      "\n"
     ]
    }
   ],
   "source": [
    "obfuscator = StructuredDeidentification(spark,{\"NAME\":\"PATIENT\",\"AGE\":\"AGE\"},\"/content/obfuscator_unique_ref_test.txt\")\n",
    "obfuscator_df = obfuscator.obfuscateColumns(df)\n",
    "obfuscator_df.select(\"NAME\",\"AGE\").show(truncate=False)"
   ]
  }
 ],
 "metadata": {
  "colab": {
   "collapsed_sections": [],
   "name": "4.1.Pretrained_Clinical_DeIdentificiation.ipynb",
   "provenance": [
    {
     "file_id": "https://github.com/JohnSnowLabs/spark-nlp-workshop/blob/master/tutorials/Certification_Trainings/Healthcare/4.1.Pretrained_Clinical_DeIdentificiation.ipynb",
     "timestamp": 1620677665766
    },
    {
     "file_id": "https://github.com/JohnSnowLabs/spark-nlp-workshop/blob/master/tutorials/Certification_Trainings/Healthcare/4.1.Pretrained_Clinical_DeIdentificiation.ipynb",
     "timestamp": 1617795395104
    }
   ]
  },
  "kernelspec": {
   "display_name": "Python 3 (ipykernel)",
   "language": "python",
   "name": "python3"
  },
  "language_info": {
   "codemirror_mode": {
    "name": "ipython",
    "version": 3
   },
   "file_extension": ".py",
   "mimetype": "text/x-python",
   "name": "python",
   "nbconvert_exporter": "python",
   "pygments_lexer": "ipython3",
   "version": "3.7.6"
  }
 },
 "nbformat": 4,
 "nbformat_minor": 1
}

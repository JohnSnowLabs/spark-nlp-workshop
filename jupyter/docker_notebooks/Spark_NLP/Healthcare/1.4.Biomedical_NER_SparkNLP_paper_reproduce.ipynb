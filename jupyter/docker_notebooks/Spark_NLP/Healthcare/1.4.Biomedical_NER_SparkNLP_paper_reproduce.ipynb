{
 "cells": [
  {
   "cell_type": "markdown",
   "metadata": {
    "id": "sXatvRX899i0"
   },
   "source": [
    "![JohnSnowLabs](https://nlp.johnsnowlabs.com/assets/images/logo.png)"
   ]
  },
  {
   "cell_type": "markdown",
   "metadata": {
    "id": "jOkfgBXDwxhz"
   },
   "source": [
    "[![Open In Colab](https://colab.research.google.com/assets/colab-badge.svg)](https://colab.research.google.com/github/JohnSnowLabs/spark-nlp-workshop/blob/master/tutorials/Certification_Trainings/Healthcare/1.4.Biomedical_NER_SparkNLP_paper_reproduce.ipynb)"
   ]
  },
  {
   "cell_type": "markdown",
   "metadata": {
    "id": "HCIg1pQpelJS"
   },
   "source": [
    "# Biomedical Named Entity Recognition (NER) at Scale\n",
    "\n",
    "official paper : https://arxiv.org/abs/2011.06315\n",
    "\n",
    "NER in Spark NLP Colab notebooks: https://colab.research.google.com/github/JohnSnowLabs/spark-nlp-workshop/blob/master/tutorials/Certification_Trainings/Public/4.NERDL_Training.ipynb"
   ]
  },
  {
   "cell_type": "markdown",
   "metadata": {
    "id": "JryP7HLODLnc"
   },
   "source": [
    "## Blogposts and videos:\n",
    "\n",
    "\n",
    "\n",
    "https://towardsdatascience.com/named-entity-recognition-ner-with-bert-in-spark-nlp-874df20d1d77\n",
    "\n",
    "NerDL worksghop (90 min): https://www.youtube.com/watch?v=YM-e4eOiQ34\n",
    "\n",
    "https://medium.com/spark-nlp/named-entity-recognition-for-healthcare-with-sparknlp-nerdl-and-nercrf-a7751b6ad571\n",
    "\n",
    "https://medium.com/atlas-research/ner-for-clinical-text-7c73caddd180"
   ]
  },
  {
   "cell_type": "code",
   "execution_count": null,
   "metadata": {
    "colab": {
     "base_uri": "https://localhost:8080/",
     "height": 241
    },
    "id": "8DFCYTaDC1qZ",
    "outputId": "d38b5891-abfa-4d81-8242-27fa61f3c519"
   },
   "outputs": [
    {
     "name": "stdout",
     "output_type": "stream",
     "text": [
      "Spark NLP version 3.1.1\n",
      "Apache Spark version: 3.0.3\n"
     ]
    },
    {
     "data": {
      "text/html": [
       "\n",
       "            <div>\n",
       "                <p><b>SparkSession - in-memory</b></p>\n",
       "                \n",
       "        <div>\n",
       "            <p><b>SparkContext</b></p>\n",
       "\n",
       "            <p><a href=\"http://e11871c308d8:4040\">Spark UI</a></p>\n",
       "\n",
       "            <dl>\n",
       "              <dt>Version</dt>\n",
       "                <dd><code>v3.0.3</code></dd>\n",
       "              <dt>Master</dt>\n",
       "                <dd><code>local[*]</code></dd>\n",
       "              <dt>AppName</dt>\n",
       "                <dd><code>Spark NLP</code></dd>\n",
       "            </dl>\n",
       "        </div>\n",
       "        \n",
       "            </div>\n",
       "        "
      ],
      "text/plain": [
       "<pyspark.sql.session.SparkSession at 0x7f88534d8110>"
      ]
     },
     "execution_count": 2,
     "metadata": {
      "tags": []
     },
     "output_type": "execute_result"
    }
   ],
   "source": [
    "import sparknlp\n",
    "\n",
    "spark = sparknlp.start() # for GPU training >> sparknlp.start(gpu = True)\n",
    "\n",
    "from sparknlp.base import *\n",
    "from sparknlp.annotator import *\n",
    "\n",
    "print(\"Spark NLP version\", sparknlp.version())\n",
    "\n",
    "print(\"Apache Spark version:\", spark.version)\n",
    "\n",
    "spark"
   ]
  },
  {
   "cell_type": "markdown",
   "metadata": {
    "id": "YG1zLzzLEbyI"
   },
   "source": [
    "## CoNLL Data Prep \n",
    "\n",
    "We are going to use NCBI-Disease dataset in this notebook. All the other datasets used in the official paper arw prepared using the datasets at https://github.com/cambridgeltl/MTL-Bioinformatics-2016/tree/master/data. Since the data preparation steps from official tsv dfiles to conll format we utilize here is a time consuming and proprietary process, we share only one of them (**NCBI-Disease**) as an example. "
   ]
  },
  {
   "cell_type": "code",
   "execution_count": null,
   "metadata": {
    "id": "MSg4fdlHD6x6"
   },
   "outputs": [],
   "source": [
    "!wget -q https://raw.githubusercontent.com/JohnSnowLabs/spark-nlp-workshop/master/tutorials/Certification_Trainings/Healthcare/data/NCBI_disease_official_test.conll\n",
    "!wget -q https://raw.githubusercontent.com/JohnSnowLabs/spark-nlp-workshop/master/tutorials/Certification_Trainings/Healthcare/data/NCBI_disease_official_train_dev.conll"
   ]
  },
  {
   "cell_type": "code",
   "execution_count": null,
   "metadata": {
    "colab": {
     "base_uri": "https://localhost:8080/"
    },
    "id": "C1Mn-tuqEofp",
    "outputId": "87b89bbf-95b8-48a9-ba30-507503982384"
   },
   "outputs": [
    {
     "name": "stdout",
     "output_type": "stream",
     "text": [
      "-DOCSTART- -X- -X- O\n",
      "\n",
      "Clustering NN O O\n",
      "of NN O O\n",
      "missense NN O O\n",
      "mutations NN O O\n",
      "in NN O O\n",
      "the NN O O\n",
      "ataxia NN O B-Disease\n",
      "- NN O I-Disease\n",
      "telangiectasia NN O I-Disease\n",
      "gene NN O O\n",
      "in NN O O\n",
      "a NN O O\n",
      "sporadic NN O B-Disease\n",
      "T NN O I-Disease\n",
      "- NN O I-Disease\n",
      "cell NN O I-Disease\n",
      "leukaemia NN O I-Disease\n",
      ". NN O O\n",
      "\n",
      "Ataxia NN O B-Disease\n",
      "- NN O I-Disease\n",
      "telangiectasia NN O I-Disease\n",
      "( NN O O\n",
      "A NN O B-Disease\n",
      "- NN O I-Disease\n",
      "T NN O I-Disease\n",
      ") NN O O\n",
      "is NN O O\n",
      "a NN O O\n",
      "recessive NN O B-Disease\n",
      "m\n"
     ]
    }
   ],
   "source": [
    "with open(\"NCBI_disease_official_test.conll\") as f:\n",
    "    train_txt =f.read()\n",
    "\n",
    "print (train_txt[:500])"
   ]
  },
  {
   "cell_type": "code",
   "execution_count": null,
   "metadata": {
    "colab": {
     "base_uri": "https://localhost:8080/"
    },
    "id": "wG9RpnKCFffi",
    "outputId": "59122dc9-c177-4329-9fcf-edc984bcf348"
   },
   "outputs": [
    {
     "name": "stdout",
     "output_type": "stream",
     "text": [
      "+--------------------+--------------------+--------------------+--------------------+--------------------+--------------------+\n",
      "|                text|            document|            sentence|               token|                 pos|               label|\n",
      "+--------------------+--------------------+--------------------+--------------------+--------------------+--------------------+\n",
      "|Identification of...|[[document, 0, 89...|[[document, 0, 89...|[[token, 0, 13, I...|[[pos, 0, 13, NN,...|[[named_entity, 0...|\n",
      "|The adenomatous p...|[[document, 0, 21...|[[document, 0, 21...|[[token, 0, 2, Th...|[[pos, 0, 2, NN, ...|[[named_entity, 0...|\n",
      "|Complex formation...|[[document, 0, 63...|[[document, 0, 63...|[[token, 0, 6, Co...|[[pos, 0, 6, NN, ...|[[named_entity, 0...|\n",
      "+--------------------+--------------------+--------------------+--------------------+--------------------+--------------------+\n",
      "only showing top 3 rows\n",
      "\n"
     ]
    }
   ],
   "source": [
    "from sparknlp.training import CoNLL\n",
    "\n",
    "training_data = CoNLL().readDataset(spark, 'NCBI_disease_official_train_dev.conll')\n",
    "\n",
    "training_data.show(3)"
   ]
  },
  {
   "cell_type": "code",
   "execution_count": null,
   "metadata": {
    "colab": {
     "base_uri": "https://localhost:8080/"
    },
    "id": "R6xa4jp8Szs0",
    "outputId": "b0c4f81f-fb17-47a0-d0fd-9a4bafcff8be"
   },
   "outputs": [
    {
     "data": {
      "text/plain": [
       "6347"
      ]
     },
     "execution_count": 6,
     "metadata": {
      "tags": []
     },
     "output_type": "execute_result"
    }
   ],
   "source": [
    "training_data.count()"
   ]
  },
  {
   "cell_type": "code",
   "execution_count": null,
   "metadata": {
    "colab": {
     "base_uri": "https://localhost:8080/"
    },
    "id": "94A1JedtFpDp",
    "outputId": "9aac25e1-a9ce-4421-c1a5-c9c020a739b9"
   },
   "outputs": [
    {
     "name": "stdout",
     "output_type": "stream",
     "text": [
      "+--------------+---+---------+\n",
      "|         token|pos|ner_label|\n",
      "+--------------+---+---------+\n",
      "|Identification| NN|        O|\n",
      "|            of| NN|        O|\n",
      "|          APC2| NN|        O|\n",
      "|             ,| NN|        O|\n",
      "|             a| NN|        O|\n",
      "|     homologue| NN|        O|\n",
      "|            of| NN|        O|\n",
      "|           the| NN|        O|\n",
      "|   adenomatous| NN|B-Disease|\n",
      "|     polyposis| NN|I-Disease|\n",
      "|          coli| NN|I-Disease|\n",
      "|        tumour| NN|I-Disease|\n",
      "|    suppressor| NN|        O|\n",
      "|             .| NN|        O|\n",
      "|           The| NN|        O|\n",
      "|   adenomatous| NN|B-Disease|\n",
      "|     polyposis| NN|I-Disease|\n",
      "|          coli| NN|I-Disease|\n",
      "|             (| NN|I-Disease|\n",
      "|           APC| NN|I-Disease|\n",
      "+--------------+---+---------+\n",
      "only showing top 20 rows\n",
      "\n"
     ]
    }
   ],
   "source": [
    "import pyspark.sql.functions as F\n",
    "\n",
    "training_data.select(F.explode(F.arrays_zip('token.result', 'pos.result',  'label.result')).alias(\"cols\")) \\\n",
    ".select(F.expr(\"cols['0']\").alias(\"token\"),\n",
    "        F.expr(\"cols['1']\").alias(\"pos\"),\n",
    "        F.expr(\"cols['2']\").alias(\"ner_label\")).show(truncate=50)"
   ]
  },
  {
   "cell_type": "code",
   "execution_count": null,
   "metadata": {
    "colab": {
     "base_uri": "https://localhost:8080/"
    },
    "id": "puWWnmUbGFVh",
    "outputId": "a5cbfc54-7ee1-46f3-efbb-b2e0fef3a938"
   },
   "outputs": [
    {
     "name": "stdout",
     "output_type": "stream",
     "text": [
      "+------------+------+\n",
      "|ground_truth|count |\n",
      "+------------+------+\n",
      "|O           |146544|\n",
      "|I-Disease   |7205  |\n",
      "|B-Disease   |5921  |\n",
      "+------------+------+\n",
      "\n"
     ]
    }
   ],
   "source": [
    "training_data.select(F.explode(F.arrays_zip('token.result','label.result')).alias(\"cols\")) \\\n",
    ".select(F.expr(\"cols['0']\").alias(\"token\"),\n",
    "        F.expr(\"cols['1']\").alias(\"ground_truth\")).groupBy('ground_truth').count().orderBy('count', ascending=False).show(100,truncate=False)"
   ]
  },
  {
   "cell_type": "code",
   "execution_count": null,
   "metadata": {
    "colab": {
     "base_uri": "https://localhost:8080/"
    },
    "id": "qOACRQvC_pnC",
    "outputId": "45d5f6dd-f230-4485-ba00-3eff3a5bf7a2"
   },
   "outputs": [
    {
     "name": "stdout",
     "output_type": "stream",
     "text": [
      "+------------+-----+\n",
      "|ground_truth|count|\n",
      "+------------+-----+\n",
      "|O           |22450|\n",
      "|I-Disease   |1087 |\n",
      "|B-Disease   |960  |\n",
      "+------------+-----+\n",
      "\n"
     ]
    }
   ],
   "source": [
    "\n",
    "test_data = CoNLL().readDataset(spark, 'NCBI_disease_official_test.conll')\n",
    "\n",
    "test_data.select(F.explode(F.arrays_zip('token.result','label.result')).alias(\"cols\")) \\\n",
    ".select(F.expr(\"cols['0']\").alias(\"token\"),\n",
    "        F.expr(\"cols['1']\").alias(\"ground_truth\")).groupBy('ground_truth').count().orderBy('count', ascending=False).show(100,truncate=False)"
   ]
  },
  {
   "cell_type": "code",
   "execution_count": null,
   "metadata": {
    "colab": {
     "base_uri": "https://localhost:8080/"
    },
    "id": "fw2p7DOwGZto",
    "outputId": "0226e389-adb4-40e5-84d5-c72912d06ddd"
   },
   "outputs": [
    {
     "name": "stdout",
     "output_type": "stream",
     "text": [
      "glove_6B_300 download started this may take some time.\n",
      "Approximate size to download 426.2 MB\n",
      "[OK!]\n"
     ]
    }
   ],
   "source": [
    "# You can use any word embeddings you want (Glove, Elmo, Bert, custom etc.)\n",
    "\n",
    "glove_embeddings = WordEmbeddingsModel.pretrained('glove_6B_300','xx')\\\n",
    "          .setInputCols([\"sentence\", \"token\"])\\\n",
    "          .setOutputCol(\"embeddings\")\n",
    "    "
   ]
  },
  {
   "cell_type": "markdown",
   "metadata": {
    "id": "zrpqv0Q3Bcyr"
   },
   "source": [
    "**We will get the embeddings for test set and write to disk as a parquet to be able to get metrics after each epoch during training.**"
   ]
  },
  {
   "cell_type": "code",
   "execution_count": null,
   "metadata": {
    "id": "SBy2ZmDFBiSo"
   },
   "outputs": [],
   "source": [
    "glove_embeddings.transform(test_data).write.parquet('test_data_with_embeddings.parquet')"
   ]
  },
  {
   "cell_type": "code",
   "execution_count": null,
   "metadata": {
    "id": "rlRN1IJDENHO"
   },
   "outputs": [],
   "source": [
    "!mkdir ner_logs"
   ]
  },
  {
   "cell_type": "code",
   "execution_count": null,
   "metadata": {
    "id": "8NFG_NK6G67o"
   },
   "outputs": [],
   "source": [
    "nerTagger = NerDLApproach()\\\n",
    "      .setInputCols([\"sentence\", \"token\", \"embeddings\"])\\\n",
    "      .setLabelColumn(\"label\")\\\n",
    "      .setOutputCol(\"ner\")\\\n",
    "      .setMaxEpochs(10)\\\n",
    "      .setLr(0.003)\\\n",
    "      .setBatchSize(8)\\\n",
    "      .setRandomSeed(0)\\\n",
    "      .setVerbose(1)\\\n",
    "      .setEvaluationLogExtended(True) \\\n",
    "      .setEnableOutputLogs(True)\\\n",
    "      .setIncludeConfidence(True)\\\n",
    "      .setTestDataset('test_data_with_embeddings.parquet')\\\n",
    "      .setOutputLogsPath('ner_logs') # if not set, logs will be written to ~/annotator_logs\n",
    " #    .setGraphFolder('graphs') >> put your graph file (pb) under this folder if you are using a custom graph generated thru 4.1 NerDL-Graph.ipynb notebook\n",
    " #    .setEnableMemoryOptimizer() >> if you have a limited memory and a large conll file, you can set this True to train batch by batch \n",
    "    \n",
    "# do hyperparameter by tuning the params above (max epoch, LR, dropout etc.) to get better results\n",
    "ner_pipeline = Pipeline(stages=[\n",
    "      glove_embeddings,\n",
    "      nerTagger\n",
    " ])\n"
   ]
  },
  {
   "cell_type": "markdown",
   "metadata": {
    "id": "1fggBlAjQoTl"
   },
   "source": [
    "### Fitting"
   ]
  },
  {
   "cell_type": "code",
   "execution_count": null,
   "metadata": {
    "colab": {
     "base_uri": "https://localhost:8080/"
    },
    "id": "-cmPOQx6Gti6",
    "outputId": "9721a74b-eae9-49fe-f4e6-605dcae6d7fd"
   },
   "outputs": [
    {
     "name": "stdout",
     "output_type": "stream",
     "text": [
      "CPU times: user 9.12 s, sys: 981 ms, total: 10.1 s\n",
      "Wall time: 33min 16s\n"
     ]
    }
   ],
   "source": [
    "%%time\n",
    "\n",
    "ner_model = ner_pipeline.fit(training_data)\n",
    "\n",
    "# 1 epoch takes around 3 min with batch size=8\n",
    "# if you get an error for incompatible TF graph, use 4.1 NerDL-Graph.ipynb notebook to create a graph"
   ]
  },
  {
   "cell_type": "code",
   "execution_count": null,
   "metadata": {
    "colab": {
     "base_uri": "https://localhost:8080/"
    },
    "id": "zFXJ760TMK9t",
    "outputId": "4606c6c4-df0b-43f9-91b8-c944ab65fb81"
   },
   "outputs": [
    {
     "name": "stdout",
     "output_type": "stream",
     "text": [
      "total 8\n",
      "-rw-r--r-- 1 root root 5021 Jun 24 11:30 NerDLApproach_af2879065348.log\n"
     ]
    }
   ],
   "source": [
    "#! cd ~/annotator_logs && ls -lt\n",
    "!cd ner_logs && ls -lt"
   ]
  },
  {
   "cell_type": "code",
   "execution_count": null,
   "metadata": {
    "colab": {
     "base_uri": "https://localhost:8080/"
    },
    "id": "FwGTRKmBGIW8",
    "outputId": "b96e38e6-599d-4042-a6b9-7d0af1b92070"
   },
   "outputs": [
    {
     "name": "stdout",
     "output_type": "stream",
     "text": [
      "\n",
      "Epoch 10/10 - 185.40s - loss: 421.31494 - batches: 795\n",
      "Quality on test dataset: \n",
      "time to finish evaluation: 5.56s\n",
      "label\t tp\t fp\t fn\t prec\t rec\t f1\n",
      "I-Disease\t 925\t 153\t 162\t 0.8580705\t 0.850966\t 0.85450345\n",
      "B-Disease\t 812\t 149\t 148\t 0.8449532\t 0.84583336\t 0.84539306\n",
      "tp: 1737 fp: 302 fn: 310 labels: 2\n",
      "Macro-average\t prec: 0.85151184, rec: 0.84839964, f1: 0.84995294\n",
      "Micro-average\t prec: 0.8518882, rec: 0.84855884, f1: 0.85022026\n"
     ]
    }
   ],
   "source": [
    "!tail -n 10 ner_logs/NerDLApproach_af2879065348.log"
   ]
  },
  {
   "cell_type": "markdown",
   "metadata": {
    "id": "AgdnSdjtQkZW"
   },
   "source": [
    "### Test set evaluation"
   ]
  },
  {
   "cell_type": "code",
   "execution_count": null,
   "metadata": {
    "colab": {
     "base_uri": "https://localhost:8080/"
    },
    "id": "bbyhDUFDN63V",
    "outputId": "e1202f84-3def-45ca-f862-45772cbff758"
   },
   "outputs": [
    {
     "name": "stdout",
     "output_type": "stream",
     "text": [
      "+--------------+------------+----------+\n",
      "|token         |ground_truth|prediction|\n",
      "+--------------+------------+----------+\n",
      "|Clustering    |O           |O         |\n",
      "|of            |O           |O         |\n",
      "|missense      |O           |O         |\n",
      "|mutations     |O           |O         |\n",
      "|in            |O           |O         |\n",
      "|the           |O           |O         |\n",
      "|ataxia        |B-Disease   |B-Disease |\n",
      "|-             |I-Disease   |I-Disease |\n",
      "|telangiectasia|I-Disease   |I-Disease |\n",
      "|gene          |O           |O         |\n",
      "|in            |O           |O         |\n",
      "|a             |O           |O         |\n",
      "|sporadic      |B-Disease   |B-Disease |\n",
      "|T             |I-Disease   |I-Disease |\n",
      "|-             |I-Disease   |I-Disease |\n",
      "|cell          |I-Disease   |I-Disease |\n",
      "|leukaemia     |I-Disease   |I-Disease |\n",
      "|.             |O           |O         |\n",
      "|Ataxia        |B-Disease   |B-Disease |\n",
      "|-             |I-Disease   |I-Disease |\n",
      "+--------------+------------+----------+\n",
      "only showing top 20 rows\n",
      "\n"
     ]
    }
   ],
   "source": [
    "import pyspark.sql.functions as F\n",
    "\n",
    "predictions = ner_model.transform(test_data)\n",
    "\n",
    "predictions.select(F.explode(F.arrays_zip('token.result','label.result','ner.result')).alias(\"cols\")) \\\n",
    ".select(F.expr(\"cols['0']\").alias(\"token\"),\n",
    "        F.expr(\"cols['1']\").alias(\"ground_truth\"),\n",
    "        F.expr(\"cols['2']\").alias(\"prediction\")).show(truncate=False)"
   ]
  },
  {
   "cell_type": "markdown",
   "metadata": {
    "id": "5oi4rvrwVGoR"
   },
   "source": [
    "Licensed user will have an access to internal NERDLMetrics module to do this more efficient and easily without going out of Spark. But open source users need to use sklearn.metrics or any other equivalent module to do the same."
   ]
  },
  {
   "cell_type": "code",
   "execution_count": null,
   "metadata": {
    "colab": {
     "base_uri": "https://localhost:8080/"
    },
    "id": "Up-eKXlzN-vx",
    "outputId": "a5ac6a2c-3800-4de8-c747-b2b7ea934185"
   },
   "outputs": [
    {
     "name": "stdout",
     "output_type": "stream",
     "text": [
      "              precision    recall  f1-score   support\n",
      "\n",
      "   B-Disease       0.84      0.85      0.85       960\n",
      "   I-Disease       0.86      0.85      0.85      1087\n",
      "           O       0.99      0.99      0.99     22450\n",
      "\n",
      "    accuracy                           0.98     24497\n",
      "   macro avg       0.90      0.90      0.90     24497\n",
      "weighted avg       0.98      0.98      0.98     24497\n",
      "\n"
     ]
    }
   ],
   "source": [
    "from sklearn.metrics import classification_report\n",
    "\n",
    "preds_df = predictions.select(F.explode(F.arrays_zip('token.result','label.result','ner.result')).alias(\"cols\")) \\\n",
    ".select(F.expr(\"cols['0']\").alias(\"token\"),\n",
    "        F.expr(\"cols['1']\").alias(\"ground_truth\"),\n",
    "        F.expr(\"cols['2']\").alias(\"prediction\")).toPandas()\n",
    "\n",
    "print (classification_report(preds_df['ground_truth'], preds_df['prediction']))\n"
   ]
  },
  {
   "cell_type": "markdown",
   "metadata": {
    "id": "P0sD2CU4HP-H"
   },
   "source": [
    "### Entity level evaluation (strict eval)"
   ]
  },
  {
   "cell_type": "code",
   "execution_count": null,
   "metadata": {
    "id": "mpkUb1gyHOk-"
   },
   "outputs": [],
   "source": [
    "!wget  -q https://raw.githubusercontent.com/JohnSnowLabs/spark-nlp-workshop/master/tutorials/Certification_Trainings/Public/utils/conll_eval.py"
   ]
  },
  {
   "cell_type": "code",
   "execution_count": null,
   "metadata": {
    "colab": {
     "base_uri": "https://localhost:8080/"
    },
    "id": "jpiIrbx5I8qI",
    "outputId": "eeb0b691-8d3d-4a86-b5db-67b880efce05"
   },
   "outputs": [
    {
     "name": "stdout",
     "output_type": "stream",
     "text": [
      "processed 24497 tokens with 960 phrases; found: 961 phrases; correct: 790.\n",
      "accuracy:  84.86%; (non-O)\n",
      "accuracy:  97.85%; precision:  82.21%; recall:  82.29%; FB1:  82.25\n",
      "          Disease: precision:  82.21%; recall:  82.29%; FB1:  82.25  961\n"
     ]
    }
   ],
   "source": [
    "import conll_eval\n",
    "\n",
    "metrics = conll_eval.evaluate(preds_df['ground_truth'].values, preds_df['prediction'].values)"
   ]
  },
  {
   "cell_type": "code",
   "execution_count": null,
   "metadata": {
    "colab": {
     "base_uri": "https://localhost:8080/"
    },
    "id": "vZ0jme54KDyC",
    "outputId": "f5bd08d2-a367-414d-d00f-e2c03c11eca6"
   },
   "outputs": [
    {
     "data": {
      "text/plain": [
       "(82.20603537981269, 82.29166666666666, 82.24882873503384)"
      ]
     },
     "execution_count": 21,
     "metadata": {
      "tags": []
     },
     "output_type": "execute_result"
    }
   ],
   "source": [
    "# micro, macro, avg\n",
    "metrics[0]"
   ]
  },
  {
   "cell_type": "code",
   "execution_count": null,
   "metadata": {
    "colab": {
     "base_uri": "https://localhost:8080/",
     "height": 78
    },
    "id": "YMZu0ottJkmn",
    "outputId": "d11e59b3-09af-4d91-ef51-fd00fd2fba86"
   },
   "outputs": [
    {
     "data": {
      "text/html": [
       "<div>\n",
       "<style scoped>\n",
       "    .dataframe tbody tr th:only-of-type {\n",
       "        vertical-align: middle;\n",
       "    }\n",
       "\n",
       "    .dataframe tbody tr th {\n",
       "        vertical-align: top;\n",
       "    }\n",
       "\n",
       "    .dataframe thead th {\n",
       "        text-align: right;\n",
       "    }\n",
       "</style>\n",
       "<table border=\"1\" class=\"dataframe\">\n",
       "  <thead>\n",
       "    <tr style=\"text-align: right;\">\n",
       "      <th></th>\n",
       "      <th>entity</th>\n",
       "      <th>precision</th>\n",
       "      <th>recall</th>\n",
       "      <th>f1</th>\n",
       "      <th>support</th>\n",
       "    </tr>\n",
       "  </thead>\n",
       "  <tbody>\n",
       "    <tr>\n",
       "      <th>0</th>\n",
       "      <td>Disease</td>\n",
       "      <td>82.206035</td>\n",
       "      <td>82.291667</td>\n",
       "      <td>82.248829</td>\n",
       "      <td>961</td>\n",
       "    </tr>\n",
       "  </tbody>\n",
       "</table>\n",
       "</div>"
      ],
      "text/plain": [
       "    entity  precision     recall         f1  support\n",
       "0  Disease  82.206035  82.291667  82.248829      961"
      ]
     },
     "execution_count": 22,
     "metadata": {
      "tags": []
     },
     "output_type": "execute_result"
    }
   ],
   "source": [
    "import pandas as pd\n",
    "pd.DataFrame(metrics[1], columns=['entity','precision','recall','f1','support'])"
   ]
  },
  {
   "cell_type": "markdown",
   "metadata": {
    "id": "DVBxVC2yi12r"
   },
   "source": [
    "### Ner log parser"
   ]
  },
  {
   "cell_type": "code",
   "execution_count": null,
   "metadata": {
    "id": "cyKawgE8i4TN"
   },
   "outputs": [],
   "source": [
    "!wget -q https://raw.githubusercontent.com/JohnSnowLabs/spark-nlp-workshop/master/tutorials/Certification_Trainings/Public/utils/ner_log_parser.py"
   ]
  },
  {
   "cell_type": "code",
   "execution_count": null,
   "metadata": {
    "id": "ixBftahAi--T"
   },
   "outputs": [],
   "source": [
    "import ner_log_parser"
   ]
  },
  {
   "cell_type": "code",
   "execution_count": null,
   "metadata": {
    "id": "G50Msn3kjNhY"
   },
   "outputs": [],
   "source": [
    "%matplotlib inline"
   ]
  },
  {
   "cell_type": "code",
   "execution_count": null,
   "metadata": {
    "colab": {
     "base_uri": "https://localhost:8080/",
     "height": 1000
    },
    "id": "hQ2tEbyRjC0E",
    "outputId": "ffb62916-b879-413e-f123-7baf360bb45a"
   },
   "outputs": [
    {
     "data": {
      "image/png": "[encoded data removed]",
      "text/plain": [
       "<Figure size 1440x1440 with 6 Axes>"
      ]
     },
     "metadata": {
      "needs_background": "light",
      "tags": []
     },
     "output_type": "display_data"
    },
    {
     "data": {
      "image/png": "[encoded data removed]",
      "text/plain": [
       "<Figure size 1440x1440 with 6 Axes>"
      ]
     },
     "metadata": {
      "needs_background": "light",
      "tags": []
     },
     "output_type": "display_data"
    }
   ],
   "source": [
    "ner_log_parser.get_charts('/content/ner_logs/NerDLApproach_af2879065348.log')"
   ]
  },
  {
   "cell_type": "code",
   "execution_count": null,
   "metadata": {
    "colab": {
     "base_uri": "https://localhost:8080/",
     "height": 512
    },
    "id": "_XErW0ZCKfim",
    "outputId": "e13e5e58-bebe-4550-d404-02f545a99114"
   },
   "outputs": [
    {
     "data": {
      "image/png": "[encoded data removed]",
      "text/plain": [
       "<Figure size 576x576 with 1 Axes>"
      ]
     },
     "metadata": {
      "needs_background": "light",
      "tags": []
     },
     "output_type": "display_data"
    }
   ],
   "source": [
    "ner_log_parser.loss_plot('/content/ner_logs/NerDLApproach_af2879065348.log')"
   ]
  },
  {
   "cell_type": "markdown",
   "metadata": {
    "id": "WuJ5YZ9sXU13"
   },
   "source": [
    "### Saving the trained model"
   ]
  },
  {
   "cell_type": "code",
   "execution_count": null,
   "metadata": {
    "colab": {
     "base_uri": "https://localhost:8080/"
    },
    "id": "KBcoOwvwXV8p",
    "outputId": "a0a4bdf6-b87f-4127-dbd6-d529cb0dbf35"
   },
   "outputs": [
    {
     "data": {
      "text/plain": [
       "[WORD_EMBEDDINGS_MODEL_9641998d2b4c, NerDLModel_cb1647587f99]"
      ]
     },
     "execution_count": 29,
     "metadata": {
      "tags": []
     },
     "output_type": "execute_result"
    }
   ],
   "source": [
    "ner_model.stages"
   ]
  },
  {
   "cell_type": "code",
   "execution_count": null,
   "metadata": {
    "id": "gRLbhTh1XYo2"
   },
   "outputs": [],
   "source": [
    "ner_model.stages[1].write().overwrite().save('NER_glove_e10_b8')"
   ]
  },
  {
   "cell_type": "code",
   "execution_count": null,
   "metadata": {
    "colab": {
     "base_uri": "https://localhost:8080/"
    },
    "id": "k6B_m0HeXhvo",
    "outputId": "4061dbd3-c71e-4e5a-fb4b-f54f26e35e93"
   },
   "outputs": [
    {
     "name": "stdout",
     "output_type": "stream",
     "text": [
      "total 217684\n",
      "drwxr-xr-x  4 root root      4096 Jun 24 11:36 NER_glove_e10_b8\n",
      "drwxr-xr-x  2 root root      4096 Jun 24 11:35 __pycache__\n",
      "-rw-r--r--  1 root root      3826 Jun 24 11:35 ner_log_parser.py\n",
      "-rw-r--r--  1 root root      7431 Jun 24 11:34 conll_eval.py\n",
      "drwxr-xr-x  2 root root      4096 Jun 24 10:58 ner_logs\n",
      "drwxr-xr-x  2 root root      4096 Jun 24 10:57 test_data_with_embeddings.parquet\n",
      "-rw-r--r--  1 root root   2136193 Jun 24 10:55 NCBI_disease_official_train_dev.conll\n",
      "-rw-r--r--  1 root root    328172 Jun 24 10:55 NCBI_disease_official_test.conll\n",
      "-rw-r--r--  1 root root 220400553 Jun 17 05:28 spark-3.0.3-bin-hadoop2.7.tgz\n",
      "drwxr-xr-x 13 1000 1000      4096 Jun 17 05:27 spark-3.0.3-bin-hadoop2.7\n",
      "drwxr-xr-x  1 root root      4096 Jun 15 13:37 sample_data\n"
     ]
    }
   ],
   "source": [
    "!ls -lt"
   ]
  },
  {
   "cell_type": "markdown",
   "metadata": {
    "id": "gK0rbohHRNmG"
   },
   "source": [
    "## Prediction Pipeline"
   ]
  },
  {
   "cell_type": "code",
   "execution_count": null,
   "metadata": {
    "colab": {
     "base_uri": "https://localhost:8080/"
    },
    "id": "XCLEQcCeQ8pn",
    "outputId": "9fae6651-2911-48e1-a92a-bb8093134518"
   },
   "outputs": [
    {
     "name": "stdout",
     "output_type": "stream",
     "text": [
      "glove_6B_300 download started this may take some time.\n",
      "Approximate size to download 426.2 MB\n",
      "[OK!]\n"
     ]
    }
   ],
   "source": [
    "document = DocumentAssembler()\\\n",
    "        .setInputCol(\"text\")\\\n",
    "        .setOutputCol(\"document\")\n",
    "\n",
    "sentence = SentenceDetector()\\\n",
    "        .setInputCols(['document'])\\\n",
    "        .setOutputCol('sentence')\n",
    "\n",
    "token = Tokenizer()\\\n",
    "        .setInputCols(['sentence'])\\\n",
    "        .setOutputCol('token')\n",
    "\n",
    "glove_embeddings = WordEmbeddingsModel.pretrained('glove_6B_300','xx')\\\n",
    "        .setInputCols([\"sentence\", \"token\"])\\\n",
    "        .setOutputCol(\"embeddings\")\n",
    "  \n",
    "loaded_ner_model = NerDLModel.load(\"NER_glove_e10_b8\")\\\n",
    "        .setInputCols([\"sentence\", \"token\", \"embeddings\"])\\\n",
    "        .setOutputCol(\"ner\")\n",
    "\n",
    "converter = NerConverter()\\\n",
    "        .setInputCols([\"sentence\", \"token\", \"ner\"])\\\n",
    "        .setOutputCol(\"ner_span\")\n",
    "\n",
    "ner_prediction_pipeline = Pipeline(stages = [\n",
    "        document,\n",
    "        sentence,\n",
    "        token,\n",
    "        glove_embeddings,\n",
    "        loaded_ner_model,\n",
    "        converter\n",
    "])"
   ]
  },
  {
   "cell_type": "code",
   "execution_count": null,
   "metadata": {
    "id": "gsokdubdX1vE"
   },
   "outputs": [],
   "source": [
    "empty_data = spark.createDataFrame([['']]).toDF(\"text\")\n",
    "\n",
    "prediction_model = ner_prediction_pipeline.fit(empty_data)\n"
   ]
  },
  {
   "cell_type": "code",
   "execution_count": null,
   "metadata": {
    "colab": {
     "base_uri": "https://localhost:8080/"
    },
    "id": "rR8b0tQlX7E8",
    "outputId": "7a5c08bb-0a9b-4af8-ffc5-5255a402c61a"
   },
   "outputs": [
    {
     "name": "stdout",
     "output_type": "stream",
     "text": [
      "+----------------------------------------------------------------------------------------------------+\n",
      "|                                                                                                text|\n",
      "+----------------------------------------------------------------------------------------------------+\n",
      "|\n",
      "A 28-year-old female with a history of gestational diabetes mellitus diagnosed eight years prior...|\n",
      "+----------------------------------------------------------------------------------------------------+\n",
      "\n"
     ]
    }
   ],
   "source": [
    "text = '''\n",
    "A 28-year-old female with a history of gestational diabetes mellitus diagnosed eight years prior to presentation and subsequent type two diabetes mellitus ( T2DM ), one prior episode of HTG-induced pancreatitis three years prior to presentation , associated with an acute hepatitis , and obesity with a body mass index ( BMI ) of 33.5 kg/m2 , presented with a one-week history of polyuria , polydipsia , poor appetite , and vomiting .\n",
    "'''\n",
    "\n",
    "sample_data = spark.createDataFrame([[text]]).toDF(\"text\")\n",
    "\n",
    "sample_data.show(truncate=100)"
   ]
  },
  {
   "cell_type": "code",
   "execution_count": null,
   "metadata": {
    "colab": {
     "base_uri": "https://localhost:8080/"
    },
    "id": "WdeKg30uX_rk",
    "outputId": "2ddedd11-a2b0-49e0-ba8f-72191266d2a9"
   },
   "outputs": [
    {
     "name": "stdout",
     "output_type": "stream",
     "text": [
      "+---------------------------------------+-------+\n",
      "|chunk                                  |entity |\n",
      "+---------------------------------------+-------+\n",
      "|gestational diabetes mellitus diagnosed|Disease|\n",
      "|diabetes mellitus                      |Disease|\n",
      "|T2DM ),                                |Disease|\n",
      "|HTG-induced pancreatitis               |Disease|\n",
      "|acute hepatitis                        |Disease|\n",
      "|obesity                                |Disease|\n",
      "|BMI                                    |Disease|\n",
      "|polyuria                               |Disease|\n",
      "|polydipsia                             |Disease|\n",
      "+---------------------------------------+-------+\n",
      "\n"
     ]
    }
   ],
   "source": [
    "preds = prediction_model.transform(sample_data)\n",
    "\n",
    "preds.select(F.explode(F.arrays_zip(\"ner_span.result\",\"ner_span.metadata\")).alias(\"entities\")) \\\n",
    ".select(F.expr(\"entities['0']\").alias(\"chunk\"),\n",
    "        F.expr(\"entities['1'].entity\").alias(\"entity\")).show(truncate=False)"
   ]
  },
  {
   "cell_type": "code",
   "execution_count": null,
   "metadata": {
    "id": "UG6eBHQZYIhb"
   },
   "outputs": [],
   "source": [
    "from sparknlp.base import LightPipeline\n",
    "\n",
    "light_model = LightPipeline(prediction_model)"
   ]
  },
  {
   "cell_type": "code",
   "execution_count": null,
   "metadata": {
    "colab": {
     "base_uri": "https://localhost:8080/"
    },
    "id": "7Hr5gtKbYLOW",
    "outputId": "01fead7f-3850-4e9f-8cbc-35bb0d630d0f"
   },
   "outputs": [
    {
     "data": {
      "text/plain": [
       "[('A', 'O'),\n",
       " ('28-year-old', 'O'),\n",
       " ('female', 'O'),\n",
       " ('with', 'O'),\n",
       " ('a', 'O'),\n",
       " ('history', 'O'),\n",
       " ('of', 'O'),\n",
       " ('gestational', 'B-Disease'),\n",
       " ('diabetes', 'I-Disease'),\n",
       " ('mellitus', 'I-Disease'),\n",
       " ('diagnosed', 'I-Disease'),\n",
       " ('eight', 'O'),\n",
       " ('years', 'O'),\n",
       " ('prior', 'O'),\n",
       " ('to', 'O'),\n",
       " ('presentation', 'O'),\n",
       " ('and', 'O'),\n",
       " ('subsequent', 'O'),\n",
       " ('type', 'O'),\n",
       " ('two', 'O'),\n",
       " ('diabetes', 'B-Disease'),\n",
       " ('mellitus', 'I-Disease'),\n",
       " ('(', 'O'),\n",
       " ('T2DM', 'B-Disease'),\n",
       " ('),', 'I-Disease'),\n",
       " ('one', 'O'),\n",
       " ('prior', 'O'),\n",
       " ('episode', 'O'),\n",
       " ('of', 'O'),\n",
       " ('HTG-induced', 'B-Disease'),\n",
       " ('pancreatitis', 'I-Disease'),\n",
       " ('three', 'O'),\n",
       " ('years', 'O'),\n",
       " ('prior', 'O'),\n",
       " ('to', 'O'),\n",
       " ('presentation', 'O'),\n",
       " (',', 'O'),\n",
       " ('associated', 'O'),\n",
       " ('with', 'O'),\n",
       " ('an', 'O'),\n",
       " ('acute', 'B-Disease'),\n",
       " ('hepatitis', 'I-Disease'),\n",
       " (',', 'O'),\n",
       " ('and', 'O'),\n",
       " ('obesity', 'B-Disease'),\n",
       " ('with', 'O'),\n",
       " ('a', 'O'),\n",
       " ('body', 'O'),\n",
       " ('mass', 'O'),\n",
       " ('index', 'O'),\n",
       " ('(', 'O'),\n",
       " ('BMI', 'B-Disease'),\n",
       " (')', 'O'),\n",
       " ('of', 'O'),\n",
       " ('33.5', 'O'),\n",
       " ('kg/m2', 'O'),\n",
       " (',', 'O'),\n",
       " ('presented', 'O'),\n",
       " ('with', 'O'),\n",
       " ('a', 'O'),\n",
       " ('one-week', 'O'),\n",
       " ('history', 'O'),\n",
       " ('of', 'O'),\n",
       " ('polyuria', 'B-Disease'),\n",
       " (',', 'O'),\n",
       " ('polydipsia', 'B-Disease'),\n",
       " (',', 'O'),\n",
       " ('poor', 'O'),\n",
       " ('appetite', 'O'),\n",
       " (',', 'O'),\n",
       " ('and', 'O'),\n",
       " ('vomiting', 'O'),\n",
       " ('.', 'O')]"
      ]
     },
     "execution_count": 43,
     "metadata": {
      "tags": []
     },
     "output_type": "execute_result"
    }
   ],
   "source": [
    "result = light_model.annotate(text)\n",
    "\n",
    "list(zip(result['token'], result['ner']))"
   ]
  },
  {
   "cell_type": "code",
   "execution_count": null,
   "metadata": {
    "colab": {
     "base_uri": "https://localhost:8080/",
     "height": 653
    },
    "id": "OO4xKzhIZEDc",
    "outputId": "d2c43013-8e57-425b-a30d-cbdb474dfa11"
   },
   "outputs": [
    {
     "data": {
      "text/html": [
       "<div>\n",
       "<style scoped>\n",
       "    .dataframe tbody tr th:only-of-type {\n",
       "        vertical-align: middle;\n",
       "    }\n",
       "\n",
       "    .dataframe tbody tr th {\n",
       "        vertical-align: top;\n",
       "    }\n",
       "\n",
       "    .dataframe thead th {\n",
       "        text-align: right;\n",
       "    }\n",
       "</style>\n",
       "<table border=\"1\" class=\"dataframe\">\n",
       "  <thead>\n",
       "    <tr style=\"text-align: right;\">\n",
       "      <th></th>\n",
       "      <th>sent_id</th>\n",
       "      <th>token</th>\n",
       "      <th>start</th>\n",
       "      <th>end</th>\n",
       "      <th>ner</th>\n",
       "    </tr>\n",
       "  </thead>\n",
       "  <tbody>\n",
       "    <tr>\n",
       "      <th>0</th>\n",
       "      <td>0</td>\n",
       "      <td>A</td>\n",
       "      <td>1</td>\n",
       "      <td>1</td>\n",
       "      <td>O</td>\n",
       "    </tr>\n",
       "    <tr>\n",
       "      <th>1</th>\n",
       "      <td>0</td>\n",
       "      <td>28-year-old</td>\n",
       "      <td>3</td>\n",
       "      <td>13</td>\n",
       "      <td>O</td>\n",
       "    </tr>\n",
       "    <tr>\n",
       "      <th>2</th>\n",
       "      <td>0</td>\n",
       "      <td>female</td>\n",
       "      <td>15</td>\n",
       "      <td>20</td>\n",
       "      <td>O</td>\n",
       "    </tr>\n",
       "    <tr>\n",
       "      <th>3</th>\n",
       "      <td>0</td>\n",
       "      <td>with</td>\n",
       "      <td>22</td>\n",
       "      <td>25</td>\n",
       "      <td>O</td>\n",
       "    </tr>\n",
       "    <tr>\n",
       "      <th>4</th>\n",
       "      <td>0</td>\n",
       "      <td>a</td>\n",
       "      <td>27</td>\n",
       "      <td>27</td>\n",
       "      <td>O</td>\n",
       "    </tr>\n",
       "    <tr>\n",
       "      <th>5</th>\n",
       "      <td>0</td>\n",
       "      <td>history</td>\n",
       "      <td>29</td>\n",
       "      <td>35</td>\n",
       "      <td>O</td>\n",
       "    </tr>\n",
       "    <tr>\n",
       "      <th>6</th>\n",
       "      <td>0</td>\n",
       "      <td>of</td>\n",
       "      <td>37</td>\n",
       "      <td>38</td>\n",
       "      <td>O</td>\n",
       "    </tr>\n",
       "    <tr>\n",
       "      <th>7</th>\n",
       "      <td>0</td>\n",
       "      <td>gestational</td>\n",
       "      <td>40</td>\n",
       "      <td>50</td>\n",
       "      <td>B-Disease</td>\n",
       "    </tr>\n",
       "    <tr>\n",
       "      <th>8</th>\n",
       "      <td>0</td>\n",
       "      <td>diabetes</td>\n",
       "      <td>52</td>\n",
       "      <td>59</td>\n",
       "      <td>I-Disease</td>\n",
       "    </tr>\n",
       "    <tr>\n",
       "      <th>9</th>\n",
       "      <td>0</td>\n",
       "      <td>mellitus</td>\n",
       "      <td>61</td>\n",
       "      <td>68</td>\n",
       "      <td>I-Disease</td>\n",
       "    </tr>\n",
       "    <tr>\n",
       "      <th>10</th>\n",
       "      <td>0</td>\n",
       "      <td>diagnosed</td>\n",
       "      <td>70</td>\n",
       "      <td>78</td>\n",
       "      <td>I-Disease</td>\n",
       "    </tr>\n",
       "    <tr>\n",
       "      <th>11</th>\n",
       "      <td>0</td>\n",
       "      <td>eight</td>\n",
       "      <td>80</td>\n",
       "      <td>84</td>\n",
       "      <td>O</td>\n",
       "    </tr>\n",
       "    <tr>\n",
       "      <th>12</th>\n",
       "      <td>0</td>\n",
       "      <td>years</td>\n",
       "      <td>86</td>\n",
       "      <td>90</td>\n",
       "      <td>O</td>\n",
       "    </tr>\n",
       "    <tr>\n",
       "      <th>13</th>\n",
       "      <td>0</td>\n",
       "      <td>prior</td>\n",
       "      <td>92</td>\n",
       "      <td>96</td>\n",
       "      <td>O</td>\n",
       "    </tr>\n",
       "    <tr>\n",
       "      <th>14</th>\n",
       "      <td>0</td>\n",
       "      <td>to</td>\n",
       "      <td>98</td>\n",
       "      <td>99</td>\n",
       "      <td>O</td>\n",
       "    </tr>\n",
       "    <tr>\n",
       "      <th>15</th>\n",
       "      <td>0</td>\n",
       "      <td>presentation</td>\n",
       "      <td>101</td>\n",
       "      <td>112</td>\n",
       "      <td>O</td>\n",
       "    </tr>\n",
       "    <tr>\n",
       "      <th>16</th>\n",
       "      <td>0</td>\n",
       "      <td>and</td>\n",
       "      <td>114</td>\n",
       "      <td>116</td>\n",
       "      <td>O</td>\n",
       "    </tr>\n",
       "    <tr>\n",
       "      <th>17</th>\n",
       "      <td>0</td>\n",
       "      <td>subsequent</td>\n",
       "      <td>118</td>\n",
       "      <td>127</td>\n",
       "      <td>O</td>\n",
       "    </tr>\n",
       "    <tr>\n",
       "      <th>18</th>\n",
       "      <td>0</td>\n",
       "      <td>type</td>\n",
       "      <td>129</td>\n",
       "      <td>132</td>\n",
       "      <td>O</td>\n",
       "    </tr>\n",
       "    <tr>\n",
       "      <th>19</th>\n",
       "      <td>0</td>\n",
       "      <td>two</td>\n",
       "      <td>134</td>\n",
       "      <td>136</td>\n",
       "      <td>O</td>\n",
       "    </tr>\n",
       "  </tbody>\n",
       "</table>\n",
       "</div>"
      ],
      "text/plain": [
       "    sent_id         token  start  end        ner\n",
       "0         0             A      1    1          O\n",
       "1         0   28-year-old      3   13          O\n",
       "2         0        female     15   20          O\n",
       "3         0          with     22   25          O\n",
       "4         0             a     27   27          O\n",
       "5         0       history     29   35          O\n",
       "6         0            of     37   38          O\n",
       "7         0   gestational     40   50  B-Disease\n",
       "8         0      diabetes     52   59  I-Disease\n",
       "9         0      mellitus     61   68  I-Disease\n",
       "10        0     diagnosed     70   78  I-Disease\n",
       "11        0         eight     80   84          O\n",
       "12        0         years     86   90          O\n",
       "13        0         prior     92   96          O\n",
       "14        0            to     98   99          O\n",
       "15        0  presentation    101  112          O\n",
       "16        0           and    114  116          O\n",
       "17        0    subsequent    118  127          O\n",
       "18        0          type    129  132          O\n",
       "19        0           two    134  136          O"
      ]
     },
     "execution_count": 46,
     "metadata": {
      "tags": []
     },
     "output_type": "execute_result"
    }
   ],
   "source": [
    "import pandas as pd\n",
    "\n",
    "result = light_model.fullAnnotate(text)\n",
    "\n",
    "ner_df= pd.DataFrame([(int(x.metadata['sentence']), x.result, x.begin, x.end, y.result) for x,y in zip(result[0][\"token\"], result[0][\"ner\"])], \n",
    "                      columns=['sent_id','token','start','end','ner'])\n",
    "ner_df.head(20)"
   ]
  },
  {
   "cell_type": "markdown",
   "metadata": {
    "id": "xAdLlcMjejMm"
   },
   "source": [
    "### Highlight Entities"
   ]
  },
  {
   "cell_type": "code",
   "execution_count": null,
   "metadata": {
    "colab": {
     "base_uri": "https://localhost:8080/"
    },
    "id": "e7VHgpjX-h3-",
    "outputId": "3788d5b2-00e7-4ff3-b0ab-2722981c8144"
   },
   "outputs": [
    {
     "data": {
      "text/plain": [
       "dict_keys(['document', 'ner_span', 'token', 'ner', 'embeddings', 'sentence'])"
      ]
     },
     "execution_count": 49,
     "metadata": {
      "tags": []
     },
     "output_type": "execute_result"
    }
   ],
   "source": [
    "ann_text = light_model.fullAnnotate(text)[0]\n",
    "ann_text.keys()"
   ]
  },
  {
   "cell_type": "code",
   "execution_count": null,
   "metadata": {
    "colab": {
     "base_uri": "https://localhost:8080/",
     "height": 221
    },
    "id": "hBsoIxMc-k7z",
    "outputId": "7aa970cb-e65b-4242-9869-076d05d9802d"
   },
   "outputs": [
    {
     "name": "stdout",
     "output_type": "stream",
     "text": [
      "Standard Output\n"
     ]
    },
    {
     "data": {
      "text/html": [
       "\n",
       "<style>\n",
       "    @import url('https://fonts.googleapis.com/css2?family=Montserrat:wght@300;400;500;600;700&display=swap');\n",
       "    @import url('https://fonts.googleapis.com/css2?family=Vistol Regular:wght@300;400;500;600;700&display=swap');\n",
       "    \n",
       "    .spark-nlp-display-scroll-entities {\n",
       "        border: 1px solid #E7EDF0;\n",
       "        border-radius: 3px;\n",
       "        text-align: justify;\n",
       "        \n",
       "    }\n",
       "    .spark-nlp-display-scroll-entities span {  \n",
       "        font-size: 14px;\n",
       "        line-height: 24px;\n",
       "        color: #536B76;\n",
       "        font-family: 'Montserrat', sans-serif !important;\n",
       "    }\n",
       "    \n",
       "    .spark-nlp-display-entity-wrapper{\n",
       "    \n",
       "        display: inline-grid;\n",
       "        text-align: center;\n",
       "        border-radius: 4px;\n",
       "        margin: 0 2px 5px 2px;\n",
       "        padding: 1px\n",
       "    }\n",
       "    .spark-nlp-display-entity-name{\n",
       "        font-size: 14px;\n",
       "        line-height: 24px;\n",
       "        font-family: 'Montserrat', sans-serif !important;\n",
       "        \n",
       "        background: #f1f2f3;\n",
       "        border-width: medium;\n",
       "        text-align: center;\n",
       "        \n",
       "        font-weight: 400;\n",
       "        \n",
       "        border-radius: 5px;\n",
       "        padding: 2px 5px;\n",
       "        display: block;\n",
       "        margin: 3px 2px;\n",
       "    \n",
       "    }\n",
       "    .spark-nlp-display-entity-type{\n",
       "        font-size: 14px;\n",
       "        line-height: 24px;\n",
       "        color: #ffffff;\n",
       "        font-family: 'Montserrat', sans-serif !important;\n",
       "        \n",
       "        text-transform: uppercase;\n",
       "        \n",
       "        font-weight: 500;\n",
       "\n",
       "        display: block;\n",
       "        padding: 3px 5px;\n",
       "    }\n",
       "    \n",
       "    .spark-nlp-display-entity-resolution{\n",
       "        font-size: 14px;\n",
       "        line-height: 24px;\n",
       "        color: #ffffff;\n",
       "        font-family: 'Vistol Regular', sans-serif !important;\n",
       "        \n",
       "        text-transform: uppercase;\n",
       "        \n",
       "        font-weight: 500;\n",
       "\n",
       "        display: block;\n",
       "        padding: 3px 5px;\n",
       "    }\n",
       "    \n",
       "    .spark-nlp-display-others{\n",
       "        font-size: 14px;\n",
       "        line-height: 24px;\n",
       "        font-family: 'Montserrat', sans-serif !important;\n",
       "        \n",
       "        font-weight: 400;\n",
       "    }\n",
       "\n",
       "</style>\n",
       " <span class=\"spark-nlp-display-others\" style=\"background-color: white\"><br>A 28-year-old female with a history of </span><span class=\"spark-nlp-display-entity-wrapper\" style=\"background-color: #820D7F\"><span class=\"spark-nlp-display-entity-name\">gestational diabetes mellitus diagnosed </span><span class=\"spark-nlp-display-entity-type\">Disease</span></span><span class=\"spark-nlp-display-others\" style=\"background-color: white\"> eight years prior to presentation and subsequent type two </span><span class=\"spark-nlp-display-entity-wrapper\" style=\"background-color: #820D7F\"><span class=\"spark-nlp-display-entity-name\">diabetes mellitus </span><span class=\"spark-nlp-display-entity-type\">Disease</span></span><span class=\"spark-nlp-display-others\" style=\"background-color: white\"> ( </span><span class=\"spark-nlp-display-entity-wrapper\" style=\"background-color: #820D7F\"><span class=\"spark-nlp-display-entity-name\">T2DM ), </span><span class=\"spark-nlp-display-entity-type\">Disease</span></span><span class=\"spark-nlp-display-others\" style=\"background-color: white\"> one prior episode of </span><span class=\"spark-nlp-display-entity-wrapper\" style=\"background-color: #820D7F\"><span class=\"spark-nlp-display-entity-name\">HTG-induced pancreatitis </span><span class=\"spark-nlp-display-entity-type\">Disease</span></span><span class=\"spark-nlp-display-others\" style=\"background-color: white\"> three years prior to presentation , associated with an </span><span class=\"spark-nlp-display-entity-wrapper\" style=\"background-color: #820D7F\"><span class=\"spark-nlp-display-entity-name\">acute hepatitis </span><span class=\"spark-nlp-display-entity-type\">Disease</span></span><span class=\"spark-nlp-display-others\" style=\"background-color: white\"> , and </span><span class=\"spark-nlp-display-entity-wrapper\" style=\"background-color: #820D7F\"><span class=\"spark-nlp-display-entity-name\">obesity </span><span class=\"spark-nlp-display-entity-type\">Disease</span></span><span class=\"spark-nlp-display-others\" style=\"background-color: white\"> with a body mass index ( </span><span class=\"spark-nlp-display-entity-wrapper\" style=\"background-color: #820D7F\"><span class=\"spark-nlp-display-entity-name\">BMI </span><span class=\"spark-nlp-display-entity-type\">Disease</span></span><span class=\"spark-nlp-display-others\" style=\"background-color: white\"> ) of 33.5 kg/m2 , presented with a one-week history of </span><span class=\"spark-nlp-display-entity-wrapper\" style=\"background-color: #820D7F\"><span class=\"spark-nlp-display-entity-name\">polyuria </span><span class=\"spark-nlp-display-entity-type\">Disease</span></span><span class=\"spark-nlp-display-others\" style=\"background-color: white\"> , </span><span class=\"spark-nlp-display-entity-wrapper\" style=\"background-color: #820D7F\"><span class=\"spark-nlp-display-entity-name\">polydipsia </span><span class=\"spark-nlp-display-entity-type\">Disease</span></span><span class=\"spark-nlp-display-others\" style=\"background-color: white\"> , poor appetite , and vomiting .<br></span></div>"
      ],
      "text/plain": [
       "<IPython.core.display.HTML object>"
      ]
     },
     "metadata": {
      "tags": []
     },
     "output_type": "display_data"
    }
   ],
   "source": [
    "from sparknlp_display import NerVisualizer\n",
    "\n",
    "visualiser = NerVisualizer()\n",
    "print ('Standard Output')\n",
    "visualiser.display(ann_text, label_col='ner_span', document_col='document')\n"
   ]
  }
 ],
 "metadata": {
  "accelerator": "GPU",
  "colab": {
   "collapsed_sections": [],
   "name": "1.4.Biomedical_NER_SparkNLP_paper_reproduce.ipynb",
   "provenance": []
  },
  "kernelspec": {
   "display_name": "Python 3 (ipykernel)",
   "language": "python",
   "name": "python3"
  },
  "language_info": {
   "codemirror_mode": {
    "name": "ipython",
    "version": 3
   },
   "file_extension": ".py",
   "mimetype": "text/x-python",
   "name": "python",
   "nbconvert_exporter": "python",
   "pygments_lexer": "ipython3",
   "version": "3.7.6"
  }
 },
 "nbformat": 4,
 "nbformat_minor": 1
}

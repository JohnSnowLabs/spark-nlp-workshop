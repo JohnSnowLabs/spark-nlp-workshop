{
 "cells": [
  {
   "cell_type": "markdown",
   "metadata": {
    "id": "_ZDCTs685mzt"
   },
   "source": [
    "![JohnSnowLabs](https://nlp.johnsnowlabs.com/assets/images/logo.png)"
   ]
  },
  {
   "cell_type": "markdown",
   "metadata": {
    "id": "sQFJ6aT4nfhw"
   },
   "source": [
    "[![Open In Colab](https://colab.research.google.com/assets/colab-badge.svg)](https://colab.research.google.com/github/JohnSnowLabs/spark-nlp-workshop/blob/master/tutorials/Certification_Trainings/Healthcare/23.Drug_Normalizer.ipynb)"
   ]
  },
  {
   "cell_type": "markdown",
   "metadata": {
    "id": "qRExAXlX5mzz"
   },
   "source": [
    "# 23.Clinical Drug Normalizer"
   ]
  },
  {
   "cell_type": "markdown",
   "metadata": {
    "id": "AHgUNvnN5mz0"
   },
   "source": [
    "### New Annotator that transforms text to the format used in the RxNorm and SNOMED standards"
   ]
  },
  {
   "cell_type": "markdown",
   "metadata": {
    "id": "X-BSrjva5mz0"
   },
   "source": [
    "It takes in input annotated documents of type Array\\[AnnotatorType\\](DOCUMENT) and gives as output annotated document of type AnnotatorType.DOCUMENT .\n",
    "\n",
    "Parameters are:\n",
    "- inputCol: input column name string which targets a column of type Array(AnnotatorType.DOCUMENT).\n",
    "- outputCol: output column name string which targets a column of type AnnotatorType.DOCUMENT.\n",
    "- lowercase: whether to convert strings to lowercase. Default is False.\n",
    "- policy: rule to remove patterns from text.  Valid policy values are:  \n",
    "  + **\"all\"**,   \n",
    "  + **\"abbreviations\"**,   \n",
    "  + **\"dosages\"** \n",
    "   \n",
    "Defaults is \"all\". \"abbreviation\" policy used to expend common drugs abbreviations, \"dosages\" policy used to convert drugs dosages and values to the standard form (see examples bellow)."
   ]
  },
  {
   "cell_type": "markdown",
   "metadata": {
    "id": "lmtcfKIz5mz0",
    "pycharm": {
     "name": "#%% md\n"
    }
   },
   "source": [
    "#### Examples of transformation:\n",
    "    \n",
    "1) \"Sodium Chloride/Potassium Chloride 13bag\"  >>>  \"Sodium Chloride / Potassium Chloride **13 bag**\" : add extra spaces in the form entity\n",
    "\n",
    "2) \"interferon alfa-2b 10 million unit ( 1 ml ) injec\" >>> \"interferon alfa - 2b 10000000 unt ( 1 ml ) injection \" : convert **10 million unit** to the **10000000 unt**, replace **injec** with **injection**\n",
    "\n",
    "3) \"aspirin 10 meq/ 5 ml oral sol\" >>> \"aspirin 2 meq/ml oral solution\" : normalize **10 meq/ 5 ml** to the **2 meq/ml**, extend abbreviation **oral sol** to the **oral solution**\n",
    "\n",
    "4) \"adalimumab 54.5 + 43.2 gm\" >>> \"adalimumab 97700 mg\" : combine **54.5 + 43.2** and normalize **gm** to **mg**\n",
    "\n",
    "5) \"Agnogenic one  half cup\" >>> \"Agnogenic 0.5 oral solution\" : replace **one  half** to the **0.5**, normalize **cup** to the **oral solution**"
   ]
  },
  {
   "cell_type": "code",
   "execution_count": 2,
   "metadata": {
    "id": "F7BN6q-8UNc7"
   },
   "outputs": [],
   "source": [
    "import os\n",
    "\n",
    "jsl_secret = os.getenv('SECRET')\n",
    "\n",
    "import sparknlp\n",
    "sparknlp_version = sparknlp.version()\n",
    "import sparknlp_jsl\n",
    "jsl_version = sparknlp_jsl.version()\n",
    "\n",
    "print (jsl_secret)"
   ]
  },
  {
   "cell_type": "code",
   "execution_count": 3,
   "metadata": {
    "colab": {
     "base_uri": "https://localhost:8080/"
    },
    "id": "7Gg3kybJtJbW",
    "outputId": "61cbb146-1e0d-4502-83c5-1743cfe2750a"
   },
   "outputs": [
    {
     "name": "stdout",
     "output_type": "stream",
     "text": [
      "3.1.2\n",
      "3.1.2\n"
     ]
    }
   ],
   "source": [
    "import json\n",
    "import os\n",
    "from pyspark.ml import Pipeline,PipelineModel\n",
    "from pyspark.sql import SparkSession\n",
    "\n",
    "from sparknlp.annotator import *\n",
    "from sparknlp_jsl.annotator import *\n",
    "from sparknlp.base import *\n",
    "import sparknlp_jsl\n",
    "import sparknlp\n",
    "\n",
    "params = {\"spark.driver.memory\":\"16G\",\n",
    "\"spark.kryoserializer.buffer.max\":\"2000M\",\n",
    "\"spark.driver.maxResultSize\":\"2000M\"}\n",
    "\n",
    "spark = sparknlp_jsl.start(jsl_secret,params=params)\n",
    "\n",
    "print (sparknlp.version())\n",
    "print (sparknlp_jsl.version())"
   ]
  },
  {
   "cell_type": "code",
   "execution_count": 4,
   "metadata": {
    "id": "hx2jxxCaVlOV"
   },
   "outputs": [],
   "source": [
    " # if you want to start the session with custom params as in start function above\n",
    "\n",
    "def start(secret):\n",
    "    builder = SparkSession.builder \\\n",
    "        .appName(\"Spark NLP Licensed\") \\\n",
    "        .master(\"local[*]\") \\\n",
    "        .config(\"spark.driver.memory\", \"16G\") \\\n",
    "        .config(\"spark.serializer\", \"org.apache.spark.serializer.KryoSerializer\") \\\n",
    "        .config(\"spark.kryoserializer.buffer.max\", \"2000M\") \\\n",
    "        .config(\"spark.jars.packages\", \"com.johnsnowlabs.nlp:spark-nlp_2.11:\"+version)  \\\n",
    "        .config(\"spark.jars\", \"https://pypi.johnsnowlabs.com/\"+secret+\"/spark-nlp-jsl-\"+jsl_version+\".jar\")\n",
    "      \n",
    "    return builder.getOrCreate()\n",
    "\n",
    "# spark = start(secret)"
   ]
  },
  {
   "cell_type": "code",
   "execution_count": 5,
   "metadata": {
    "colab": {
     "base_uri": "https://localhost:8080/",
     "height": 208
    },
    "id": "7zP-9FcXVzx7",
    "outputId": "5add7785-cd50-4ac1-a230-82cf69df3aa1"
   },
   "outputs": [
    {
     "data": {
      "text/html": [
       "\n",
       "            <div>\n",
       "                <p><b>SparkSession - in-memory</b></p>\n",
       "                \n",
       "        <div>\n",
       "            <p><b>SparkContext</b></p>\n",
       "\n",
       "            <p><a href=\"http://f0688b9823b5:4040\">Spark UI</a></p>\n",
       "\n",
       "            <dl>\n",
       "              <dt>Version</dt>\n",
       "                <dd><code>v3.1.1</code></dd>\n",
       "              <dt>Master</dt>\n",
       "                <dd><code>local[*]</code></dd>\n",
       "              <dt>AppName</dt>\n",
       "                <dd><code>Spark NLP Licensed</code></dd>\n",
       "            </dl>\n",
       "        </div>\n",
       "        \n",
       "            </div>\n",
       "        "
      ],
      "text/plain": [
       "<pyspark.sql.session.SparkSession at 0x7fe2d0effe10>"
      ]
     },
     "execution_count": 5,
     "metadata": {
      "tags": []
     },
     "output_type": "execute_result"
    }
   ],
   "source": [
    "spark"
   ]
  },
  {
   "cell_type": "code",
   "execution_count": 6,
   "metadata": {
    "colab": {
     "base_uri": "https://localhost:8080/"
    },
    "id": "1zgsiTxjaiMd",
    "outputId": "d884269e-25da-4fe2-d497-698702168796"
   },
   "outputs": [
    {
     "name": "stdout",
     "output_type": "stream",
     "text": [
      "+----+-------------------------------------------------+----------------------------------------------------+\n",
      "|cuid|                                             text|                              target_normalized_text|\n",
      "+----+-------------------------------------------------+----------------------------------------------------+\n",
      "|   A|         Sodium Chloride/Potassium Chloride 13bag|         Sodium Chloride / Potassium Chloride 13 bag|\n",
      "|   B|interferon alfa-2b 10 million unit ( 1 ml ) injec|interferon alfa - 2b 10000000 unt ( 1 ml ) injection|\n",
      "|   C|                    aspirin 10 meq/ 5 ml oral sol|                      aspirin 2 meq/ml oral solution|\n",
      "+----+-------------------------------------------------+----------------------------------------------------+\n",
      "\n"
     ]
    }
   ],
   "source": [
    "# Sample data\n",
    "data_to_normalize = spark.createDataFrame([\n",
    "            (\"A\", \"Sodium Chloride/Potassium Chloride 13bag\", \"Sodium Chloride / Potassium Chloride 13 bag\"),\n",
    "            (\"B\", \"interferon alfa-2b 10 million unit ( 1 ml ) injec\", \"interferon alfa - 2b 10000000 unt ( 1 ml ) injection\"),\n",
    "            (\"C\", \"aspirin 10 meq/ 5 ml oral sol\", \"aspirin 2 meq/ml oral solution\")\n",
    "        ]).toDF(\"cuid\", \"text\", \"target_normalized_text\")\n",
    "\n",
    "data_to_normalize.show(truncate=100)"
   ]
  },
  {
   "cell_type": "code",
   "execution_count": 7,
   "metadata": {
    "colab": {
     "base_uri": "https://localhost:8080/"
    },
    "id": "r2Yr96wrWPUH",
    "outputId": "815c63d6-a1f7-4552-c4be-cfab92d7bbef"
   },
   "outputs": [
    {
     "name": "stdout",
     "output_type": "stream",
     "text": [
      "+-------------------------------------------------------------------------------------------+----------------------------------------------------+----------------------------------------------------+\n",
      "|document                                                                                   |target_normalized_text                              |all_normalized_text                                 |\n",
      "+-------------------------------------------------------------------------------------------+----------------------------------------------------+----------------------------------------------------+\n",
      "|[{document, 0, 39, Sodium Chloride/Potassium Chloride 13bag, {sentence -> 0}, []}]         |Sodium Chloride / Potassium Chloride 13 bag         |Sodium Chloride / Potassium Chloride 13 bag         |\n",
      "|[{document, 0, 48, interferon alfa-2b 10 million unit ( 1 ml ) injec, {sentence -> 0}, []}]|interferon alfa - 2b 10000000 unt ( 1 ml ) injection|interferon alfa - 2b 10000000 unt ( 1 ml ) injection|\n",
      "|[{document, 0, 28, aspirin 10 meq/ 5 ml oral sol, {sentence -> 0}, []}]                    |aspirin 2 meq/ml oral solution                      |aspirin 2 meq/ml oral solution                      |\n",
      "+-------------------------------------------------------------------------------------------+----------------------------------------------------+----------------------------------------------------+\n",
      "\n"
     ]
    }
   ],
   "source": [
    "# Annotator that transforms a text column from dataframe into normalized text (with all policy)\n",
    "\n",
    "document_assembler = DocumentAssembler()\\\n",
    "    .setInputCol(\"text\")\\\n",
    "    .setOutputCol(\"document\")\n",
    "\n",
    "policy = \"all\"\n",
    "\n",
    "drug_normalizer = DrugNormalizer() \\\n",
    "    .setInputCols(\"document\") \\\n",
    "    .setOutputCol(\"document_normalized\") \\\n",
    "    .setPolicy(policy)\n",
    "\n",
    "drug_normalizer_pipeline = Pipeline(stages=[\n",
    "    document_assembler,\n",
    "    drug_normalizer\n",
    "    ])\n",
    "\n",
    "ds = drug_normalizer_pipeline.fit(data_to_normalize).transform(data_to_normalize)\n",
    "\n",
    "ds = ds.selectExpr(\"document\", \"target_normalized_text\", \"explode(document_normalized.result) as all_normalized_text\")\n",
    "ds.show(truncate = False)"
   ]
  },
  {
   "cell_type": "code",
   "execution_count": 16,
   "metadata": {
    "colab": {
     "base_uri": "https://localhost:8080/"
    },
    "id": "wgQw1ZnV5mz5",
    "outputId": "6053296d-0b22-43d4-9fc0-a6b455c7f473"
   },
   "outputs": [
    {
     "name": "stdout",
     "output_type": "stream",
     "text": [
      "+----------------------------------------------------+----------------------------------------------------+-----------------------------------------------------+\n",
      "|                              target_normalized_text|                                 all_normalized_text|                                 abbr_normalized_text|\n",
      "+----------------------------------------------------+----------------------------------------------------+-----------------------------------------------------+\n",
      "|         Sodium Chloride / Potassium Chloride 13 bag|         Sodium Chloride / Potassium Chloride 13 bag|             Sodium Chloride/Potassium Chloride 13bag|\n",
      "|interferon alfa - 2b 10000000 unt ( 1 ml ) injection|interferon alfa - 2b 10000000 unt ( 1 ml ) injection|interferon alfa-2b 10 million unit ( 1 ml ) injection|\n",
      "|                      aspirin 2 meq/ml oral solution|                      aspirin 2 meq/ml oral solution|                   aspirin 10 meq/ 5 ml oral solution|\n",
      "+----------------------------------------------------+----------------------------------------------------+-----------------------------------------------------+\n",
      "\n"
     ]
    }
   ],
   "source": [
    "# Annotator that transforms a text column from dataframe into normalized text (with abbreviations only policy)\n",
    "\n",
    "policy = \"abbreviations\"\n",
    "\n",
    "drug_normalizer_abb = DrugNormalizer() \\\n",
    "    .setInputCols(\"document\") \\\n",
    "    .setOutputCol(\"document_normalized_abbreviations\") \\\n",
    "    .setPolicy(policy)\n",
    "\n",
    "ds = drug_normalizer_abb.transform(ds)\n",
    "\n",
    "ds = ds.selectExpr(\"document\", \"target_normalized_text\", \"all_normalized_text\", \"explode(document_normalized_abbreviations.result) as abbr_normalized_text\")\n",
    "ds.select(\"target_normalized_text\", \"all_normalized_text\", \"abbr_normalized_text\").show(truncate=1000)"
   ]
  },
  {
   "cell_type": "code",
   "execution_count": 9,
   "metadata": {
    "colab": {
     "base_uri": "https://localhost:8080/"
    },
    "id": "JtsRZL_ybwhb",
    "outputId": "3440f73b-87de-4ec0-a841-2520c5834ee3"
   },
   "outputs": [
    {
     "name": "stdout",
     "output_type": "stream",
     "text": [
      "+----------------------------------------------------+----------------------------------------------------+------------------------------------------------+\n",
      "|                              target_normalized_text|                                 all_normalized_text|                             dos_normalized_text|\n",
      "+----------------------------------------------------+----------------------------------------------------+------------------------------------------------+\n",
      "|         Sodium Chloride / Potassium Chloride 13 bag|         Sodium Chloride / Potassium Chloride 13 bag|     Sodium Chloride / Potassium Chloride 13 bag|\n",
      "|interferon alfa - 2b 10000000 unt ( 1 ml ) injection|interferon alfa - 2b 10000000 unt ( 1 ml ) injection|interferon alfa - 2b 10000000 unt ( 1 ml ) injec|\n",
      "|                      aspirin 2 meq/ml oral solution|                      aspirin 2 meq/ml oral solution|                       aspirin 2 meq/ml oral sol|\n",
      "+----------------------------------------------------+----------------------------------------------------+------------------------------------------------+\n",
      "\n"
     ]
    }
   ],
   "source": [
    "# Transform a text column from dataframe into normalized text (with dosages only policy)\n",
    "\n",
    "policy = \"dosages\"\n",
    "\n",
    "drug_normalizer_abb = DrugNormalizer() \\\n",
    "    .setInputCols(\"document\") \\\n",
    "    .setOutputCol(\"document_normalized_dosages\") \\\n",
    "    .setPolicy(policy)\n",
    "\n",
    "ds = drug_normalizer_abb.transform(ds)\n",
    "\n",
    "ds.selectExpr(\"target_normalized_text\", \"all_normalized_text\", \"explode(document_normalized_dosages.result) as dos_normalized_text\").show(truncate=1000)  "
   ]
  },
  {
   "cell_type": "markdown",
   "metadata": {
    "id": "RbIOEhtZ5mz6"
   },
   "source": [
    "#### Apply normalizer only on NER chunks"
   ]
  },
  {
   "cell_type": "code",
   "execution_count": 10,
   "metadata": {
    "colab": {
     "base_uri": "https://localhost:8080/"
    },
    "id": "Dg1aE3WR5mz6",
    "outputId": "37d78b6e-1377-4324-d1ce-36f892fe198c"
   },
   "outputs": [
    {
     "name": "stdout",
     "output_type": "stream",
     "text": [
      "embeddings_clinical download started this may take some time.\n",
      "Approximate size to download 1.6 GB\n",
      "[OK!]\n",
      "ner_posology_large download started this may take some time.\n",
      "Approximate size to download 13.8 MB\n",
      "[OK!]\n"
     ]
    }
   ],
   "source": [
    "documentAssembler = DocumentAssembler()\\\n",
    "    .setInputCol(\"text\")\\\n",
    "    .setOutputCol(\"document\")\n",
    " \n",
    "# Sentence Detector annotator, processes various sentences per line\n",
    "sentenceDetector = SentenceDetector()\\\n",
    "    .setInputCols([\"document\"])\\\n",
    "    .setOutputCol(\"sentence\")\n",
    "  \n",
    "# Tokenizer splits words in a relevant format for NLP\n",
    "tokenizer = Tokenizer()\\\n",
    "    .setInputCols([\"sentence\"])\\\n",
    "    .setOutputCol(\"token\")\\\n",
    "    .addSplitChars(\";\")\n",
    "  \n",
    "# Clinical word embeddings trained on PubMED dataset\n",
    "word_embeddings = WordEmbeddingsModel.pretrained(\"embeddings_clinical\", \"en\", \"clinical/models\")\\\n",
    "    .setInputCols([\"sentence\", \"token\"])\\\n",
    "    .setOutputCol(\"embeddings\")\n",
    " \n",
    "# Extract entities with NER model posology\n",
    "posology_ner = MedicalNerModel.pretrained(\"ner_posology_large\", \"en\", \"clinical/models\") \\\n",
    "    .setInputCols([\"sentence\", \"token\", \"embeddings\"]) \\\n",
    "    .setOutputCol(\"ner_posology\")\n",
    "  \n",
    "# Group extracted entities into the chunks\n",
    "ner_converter = NerConverter()\\\n",
    "    .setInputCols([\"sentence\", \"token\", \"ner_posology\"])\\\n",
    "    .setOutputCol(\"ner_chunk_posology\")\n",
    " \n",
    "# Convert extracted entities to the doc with chunks in metadata\n",
    "c2doc = Chunk2Doc()\\\n",
    "    .setInputCols(\"ner_chunk_posology\")\\\n",
    "    .setOutputCol(\"chunk_doc\") \n",
    "\n",
    "# Transform a chunk document into normalized text\n",
    "drug_normalizer = DrugNormalizer() \\\n",
    "    .setInputCols(\"chunk_doc\") \\\n",
    "    .setOutputCol(\"document_normalized_dosages\")\\\n",
    "    .setPolicy(\"all\")\n",
    "\n",
    "nlpPipeline = Pipeline(stages=[\n",
    "    documentAssembler, \n",
    "    sentenceDetector,\n",
    "    tokenizer,\n",
    "    word_embeddings,\n",
    "    posology_ner,\n",
    "    ner_converter,\n",
    "    c2doc,\n",
    "    drug_normalizer])\n",
    "\n",
    "empty_data = spark.createDataFrame([[\"\"]]).toDF(\"text\")\n",
    "\n",
    "model = nlpPipeline.fit(empty_data)"
   ]
  },
  {
   "cell_type": "code",
   "execution_count": 11,
   "metadata": {
    "id": "Zvg4Qe5Z5mz7"
   },
   "outputs": [],
   "source": [
    "! wget -q https://s3.amazonaws.com/auxdata.johnsnowlabs.com/public/resources/en/pubmed/pubmed_sample_text_small.csv"
   ]
  },
  {
   "cell_type": "code",
   "execution_count": 12,
   "metadata": {
    "colab": {
     "base_uri": "https://localhost:8080/"
    },
    "id": "SKDWIpue5mz7",
    "outputId": "689b71fd-ddc0-4576-a1eb-ba184160d906"
   },
   "outputs": [
    {
     "name": "stdout",
     "output_type": "stream",
     "text": [
      "+--------------------------------------------------+\n",
      "|                                              text|\n",
      "+--------------------------------------------------+\n",
      "|The human KCNJ9 (Kir 3.3, GIRK3) is a member of...|\n",
      "|BACKGROUND: At present, it is one of the most i...|\n",
      "|OBJECTIVE: To investigate the relationship betw...|\n",
      "|Combined EEG/fMRI recording has been used to lo...|\n",
      "|Kohlschutter syndrome is a rare neurodegenerati...|\n",
      "|Statistical analysis of neuroimages is commonly...|\n",
      "|The synthetic DOX-LNA conjugate was characteriz...|\n",
      "|Our objective was to compare three different me...|\n",
      "|We conducted a phase II study to assess the eff...|\n",
      "|\"\"\"Monomeric sarcosine oxidase (MSOX) is a flav...|\n",
      "|We presented the tachinid fly Exorista japonica...|\n",
      "|The literature dealing with the water conductin...|\n",
      "|A novel approach to synthesize chitosan-O-isopr...|\n",
      "|An HPLC-ESI-MS-MS method has been developed for...|\n",
      "|The localizing and lateralizing values of eye a...|\n",
      "|OBJECTIVE: To evaluate the effectiveness and ac...|\n",
      "|For the construction of new combinatorial libra...|\n",
      "|We report the results of a screen for genetic a...|\n",
      "|Intraparenchymal pericatheter cyst is rarely re...|\n",
      "|It is known that patients with Klinefelter's sy...|\n",
      "+--------------------------------------------------+\n",
      "only showing top 20 rows\n",
      "\n"
     ]
    }
   ],
   "source": [
    "import pyspark.sql.functions as F\n",
    "\n",
    "pubMedDF = spark.read\\\n",
    "                .option(\"header\", \"true\")\\\n",
    "                .csv(\"pubmed_sample_text_small.csv\")\\\n",
    "                \n",
    "pubMedDF.show(truncate=50)"
   ]
  },
  {
   "cell_type": "code",
   "execution_count": 13,
   "metadata": {
    "id": "2UCCH6Wc5mz7"
   },
   "outputs": [],
   "source": [
    "result = model.transform(pubMedDF.limit(100))"
   ]
  },
  {
   "cell_type": "code",
   "execution_count": 14,
   "metadata": {
    "colab": {
     "base_uri": "https://localhost:8080/"
    },
    "id": "2jB11A4K-Idt",
    "outputId": "01b80cdc-475f-4166-d92b-663c87724244"
   },
   "outputs": [
    {
     "name": "stdout",
     "output_type": "stream",
     "text": [
      "+--------------------+--------------------+--------------------+--------------------+--------------------+--------------------+--------------------+--------------------+---------------------------+\n",
      "|                text|            document|            sentence|               token|          embeddings|        ner_posology|  ner_chunk_posology|           chunk_doc|document_normalized_dosages|\n",
      "+--------------------+--------------------+--------------------+--------------------+--------------------+--------------------+--------------------+--------------------+---------------------------+\n",
      "|The human KCNJ9 (...|[{document, 0, 95...|[{document, 0, 12...|[{token, 0, 2, Th...|[{word_embeddings...|[{named_entity, 0...|[{chunk, 52, 122,...|[{document, 52, 1...|       [{document, 52, 7...|\n",
      "|BACKGROUND: At pr...|[{document, 0, 14...|[{document, 0, 19...|[{token, 0, 9, BA...|[{word_embeddings...|[{named_entity, 0...|[{chunk, 167, 180...|[{document, 167, ...|       [{document, 167, ...|\n",
      "+--------------------+--------------------+--------------------+--------------------+--------------------+--------------------+--------------------+--------------------+---------------------------+\n",
      "only showing top 2 rows\n",
      "\n"
     ]
    }
   ],
   "source": [
    "result.show(2)"
   ]
  },
  {
   "cell_type": "code",
   "execution_count": 15,
   "metadata": {
    "colab": {
     "base_uri": "https://localhost:8080/"
    },
    "id": "dEYrLo945mz8",
    "outputId": "8f572cb8-9f09-449b-cc7d-08b3c12be93c"
   },
   "outputs": [
    {
     "name": "stdout",
     "output_type": "stream",
     "text": [
      "+-----------------------------------------------------------------------------+\n",
      "|                                                                          col|\n",
      "+-----------------------------------------------------------------------------+\n",
      "|G - protein - activated inwardly rectifying potassium ( GIRK ) channel family|\n",
      "|                                                                8 base - pair|\n",
      "|                                                               anthracyclines|\n",
      "|                                                                      taxanes|\n",
      "|                                                                 usefulnessof|\n",
      "|                                                                  vinorelbine|\n",
      "|                                                                  vinorelbine|\n",
      "|                                                               anthracyclines|\n",
      "|                                                                      taxanes|\n",
      "|                                                               Vinorelbinewas|\n",
      "|                                                                 25 mg /m ( 2|\n",
      "|                                                                intravenously|\n",
      "|                                                                      on days|\n",
      "|                                                                  nine cycles|\n",
      "|                                                                     Themajor|\n",
      "|                                                              thatvinorelbine|\n",
      "|                                                               anthracyclines|\n",
      "|                                                                      taxanes|\n",
      "|                                                               testsperformed|\n",
      "|                                                                statisticfrom|\n",
      "+-----------------------------------------------------------------------------+\n",
      "only showing top 20 rows\n",
      "\n"
     ]
    }
   ],
   "source": [
    "import pyspark.sql.functions as F\n",
    "result.select(F.explode('document_normalized_dosages.result')).show(truncate=100)"
   ]
  }
 ],
 "metadata": {
  "colab": {
   "collapsed_sections": [],
   "name": "23.Drug_Normalizer.ipynb",
   "provenance": []
  },
  "kernelspec": {
   "display_name": "Python 3 (ipykernel)",
   "language": "python",
   "name": "python3"
  },
  "language_info": {
   "codemirror_mode": {
    "name": "ipython",
    "version": 3
   },
   "file_extension": ".py",
   "mimetype": "text/x-python",
   "name": "python",
   "nbconvert_exporter": "python",
   "pygments_lexer": "ipython3",
   "version": "3.7.6"
  },
  "pycharm": {
   "stem_cell": {
    "cell_type": "raw",
    "metadata": {
     "collapsed": false
    },
    "source": []
   }
  }
 },
 "nbformat": 4,
 "nbformat_minor": 1
}

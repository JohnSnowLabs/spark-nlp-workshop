{
 "cells": [
  {
   "cell_type": "markdown",
   "metadata": {
    "id": "Hwsv9vDmvbr1"
   },
   "source": [
    "![JohnSnowLabs](https://nlp.johnsnowlabs.com/assets/images/logo.png)"
   ]
  },
  {
   "cell_type": "markdown",
   "metadata": {
    "id": "jIs4dsyfvhEi"
   },
   "source": [
    " [![Open In Colab](https://colab.research.google.com/assets/colab-badge.svg)](https://colab.research.google.com/github/JohnSnowLabs/spark-nlp-workshop/blob/master/tutorials/Certification_Trainings/Healthcare/13.Snomed_Entity_Resolver_Model_Training.ipynb)"
   ]
  },
  {
   "cell_type": "markdown",
   "metadata": {
    "id": "N6w49Yx5Bjw5"
   },
   "source": [
    "# 13. Snomed Entity Resolver Model Training"
   ]
  },
  {
   "cell_type": "code",
   "execution_count": 4,
   "metadata": {
    "id": "gJzmNJjph6wo"
   },
   "outputs": [],
   "source": [
    "import os\n",
    "\n",
    "jsl_secret = os.getenv('SECRET')\n",
    "\n",
    "import sparknlp\n",
    "sparknlp_version = sparknlp.version()\n",
    "import sparknlp_jsl\n",
    "jsl_version = sparknlp_jsl.version()\n",
    "\n",
    "print (jsl_secret)"
   ]
  },
  {
   "cell_type": "code",
   "execution_count": null,
   "metadata": {
    "id": "QzezXHbGhx6r"
   },
   "outputs": [],
   "source": [
    "import json\n",
    "import os\n",
    "import sparknlp_jsl\n",
    "import sparknlp\n",
    "from pyspark.ml import Pipeline, PipelineModel\n",
    "from pyspark.sql import SparkSession\n",
    "import sys, time\n",
    "from sparknlp.base import *\n",
    "from sparknlp.annotator import *\n",
    "from sparknlp.util import *\n",
    "from sparknlp_jsl.annotator import *\n",
    "\n",
    "from sparknlp.pretrained import ResourceDownloader\n",
    "from pyspark.sql import functions as F\n",
    "from pyspark.sql.types import StructType, StructField, StringType\n",
    "\n",
    "params = {\"spark.driver.memory\":\"16G\",\n",
    "\"spark.kryoserializer.buffer.max\":\"2000M\",\n",
    "\"spark.driver.maxResultSize\":\"2000M\"}\n",
    "\n",
    "spark = sparknlp_jsl.start(jsl_secret,params=params)\n",
    "\n",
    "print (sparknlp.version())\n",
    "print (sparknlp_jsl.version())"
   ]
  },
  {
   "cell_type": "markdown",
   "metadata": {
    "id": "zRigNZ3XBrMV"
   },
   "source": [
    "## Load datasets"
   ]
  },
  {
   "cell_type": "code",
   "execution_count": 6,
   "metadata": {
    "id": "neOur2ZHxm2w"
   },
   "outputs": [],
   "source": [
    "!wget -q https://raw.githubusercontent.com/JohnSnowLabs/spark-nlp-workshop/master/tutorials/Certification_Trainings/Healthcare/data/AskAPatient.fold-0.test.txt\n",
    "!wget -q https://raw.githubusercontent.com/JohnSnowLabs/spark-nlp-workshop/master/tutorials/Certification_Trainings/Healthcare/data/AskAPatient.fold-0.train.txt\n",
    "!wget -q https://raw.githubusercontent.com/JohnSnowLabs/spark-nlp-workshop/master/tutorials/Certification_Trainings/Healthcare/data/AskAPatient.fold-0.validation.txt"
   ]
  },
  {
   "cell_type": "code",
   "execution_count": 7,
   "metadata": {
    "id": "QK1EGRYPwHX1"
   },
   "outputs": [],
   "source": [
    "import pandas as pd\n",
    "\n",
    "cols = [\"conceptId\",\"_term\",\"term\"]\n",
    "\n",
    "aap_tr = pd.read_csv(\"AskAPatient.fold-0.train.txt\",sep=\"\\t\",encoding=\"ISO-8859-1\",header=None)\n",
    "aap_tr.columns = cols\n",
    "aap_tr[\"conceptId\"] = aap_tr.conceptId.apply(str)\n",
    "\n",
    "aap_ts = pd.read_csv(\"AskAPatient.fold-0.test.txt\",sep=\"\\t\",header=None)\n",
    "aap_ts.columns = cols\n",
    "aap_ts[\"conceptId\"] = aap_ts.conceptId.apply(str)\n",
    "\n",
    "aap_vl = pd.read_csv(\"AskAPatient.fold-0.validation.txt\",sep=\"\\t\",header=None)\n",
    "aap_vl.columns = cols\n",
    "aap_vl[\"conceptId\"] = aap_vl.conceptId.apply(str)"
   ]
  },
  {
   "cell_type": "code",
   "execution_count": 8,
   "metadata": {
    "colab": {
     "base_uri": "https://localhost:8080/",
     "height": 205
    },
    "id": "iB_Q2LFkyO1p",
    "outputId": "1d4e20a6-2322-48b5-b4af-4dc279403bf6"
   },
   "outputs": [
    {
     "data": {
      "text/html": [
       "<div>\n",
       "<style scoped>\n",
       "    .dataframe tbody tr th:only-of-type {\n",
       "        vertical-align: middle;\n",
       "    }\n",
       "\n",
       "    .dataframe tbody tr th {\n",
       "        vertical-align: top;\n",
       "    }\n",
       "\n",
       "    .dataframe thead th {\n",
       "        text-align: right;\n",
       "    }\n",
       "</style>\n",
       "<table border=\"1\" class=\"dataframe\">\n",
       "  <thead>\n",
       "    <tr style=\"text-align: right;\">\n",
       "      <th></th>\n",
       "      <th>conceptId</th>\n",
       "      <th>_term</th>\n",
       "      <th>term</th>\n",
       "    </tr>\n",
       "  </thead>\n",
       "  <tbody>\n",
       "    <tr>\n",
       "      <th>0</th>\n",
       "      <td>267032009</td>\n",
       "      <td>Tired all the time</td>\n",
       "      <td>persisten feeling of tiredness</td>\n",
       "    </tr>\n",
       "    <tr>\n",
       "      <th>1</th>\n",
       "      <td>22298006</td>\n",
       "      <td>Myocardial infarction</td>\n",
       "      <td>HEART ATTACK</td>\n",
       "    </tr>\n",
       "    <tr>\n",
       "      <th>2</th>\n",
       "      <td>3877011000036101</td>\n",
       "      <td>Lipitor</td>\n",
       "      <td>LIPITOR</td>\n",
       "    </tr>\n",
       "    <tr>\n",
       "      <th>3</th>\n",
       "      <td>415690000</td>\n",
       "      <td>Sweating</td>\n",
       "      <td>sweated</td>\n",
       "    </tr>\n",
       "    <tr>\n",
       "      <th>4</th>\n",
       "      <td>248491001</td>\n",
       "      <td>Swollen knee</td>\n",
       "      <td>swelling at knee</td>\n",
       "    </tr>\n",
       "  </tbody>\n",
       "</table>\n",
       "</div>"
      ],
      "text/plain": [
       "          conceptId                  _term                            term\n",
       "0         267032009     Tired all the time  persisten feeling of tiredness\n",
       "1          22298006  Myocardial infarction                    HEART ATTACK\n",
       "2  3877011000036101                Lipitor                         LIPITOR\n",
       "3         415690000               Sweating                         sweated\n",
       "4         248491001           Swollen knee                swelling at knee"
      ]
     },
     "execution_count": 8,
     "metadata": {
      "tags": []
     },
     "output_type": "execute_result"
    }
   ],
   "source": [
    "aap_vl.head()"
   ]
  },
  {
   "cell_type": "code",
   "execution_count": 9,
   "metadata": {
    "id": "E2aBz1rEv5gc"
   },
   "outputs": [],
   "source": [
    "aap_train_sdf = spark.createDataFrame(aap_tr)\n",
    "aap_test_sdf = spark.createDataFrame(aap_ts)\n",
    "aap_val_sdf = spark.createDataFrame(aap_vl)"
   ]
  },
  {
   "cell_type": "markdown",
   "metadata": {
    "id": "BE5WoycOXx0O"
   },
   "source": [
    "# Sentence Entity Resolver (sBioBert sentence embeddings) (after v2.7)"
   ]
  },
  {
   "cell_type": "code",
   "execution_count": 10,
   "metadata": {
    "colab": {
     "base_uri": "https://localhost:8080/"
    },
    "id": "2Xy1Xpt1YfyV",
    "outputId": "a8424237-0a56-438f-fdaa-9b8fe8c46ccd"
   },
   "outputs": [
    {
     "name": "stdout",
     "output_type": "stream",
     "text": [
      "+----------------+--------------------+--------------------+\n",
      "|       conceptId|               _term|                term|\n",
      "+----------------+--------------------+--------------------+\n",
      "|       108367008|Dislocation of joint|Dislocation of joint|\n",
      "|3384011000036100|           Arthrotec|           Arthrotec|\n",
      "|       166717003|Serum creatinine ...|Serum creatinine ...|\n",
      "|3877011000036101|             Lipitor|             Lipitor|\n",
      "|       402234004|         Foot eczema|         Foot eczema|\n",
      "|       404640003|           Dizziness|           Dizziness|\n",
      "|       271681002|        Stomach ache|        Stomach ache|\n",
      "|        76948002|         Severe pain|         Severe pain|\n",
      "|        36031001|        Burning feet|        Burning feet|\n",
      "|        76948002|         Severe pain|         Severe pain|\n",
      "|        42399005|       Renal failure|       Renal failure|\n",
      "|       288227007|Myalgia/myositis ...|Myalgia/myositis ...|\n",
      "|       419723007|       Mentally dull|       Mentally dull|\n",
      "|       248490000|    Bloating symptom|    Bloating symptom|\n",
      "|        22253000|                Pain|                Pain|\n",
      "|       162076009|Excessive upper g...|Excessive upper g...|\n",
      "|       247592009|Poor short-term m...|Poor short-term m...|\n",
      "|        62507009|    Pins and needles|    Pins and needles|\n",
      "|3877011000036101|             Lipitor|             Lipitor|\n",
      "|        62507009|    Pins and needles|    Pins and needles|\n",
      "+----------------+--------------------+--------------------+\n",
      "only showing top 20 rows\n",
      "\n"
     ]
    }
   ],
   "source": [
    "aap_train_sdf.show()"
   ]
  },
  {
   "cell_type": "code",
   "execution_count": 11,
   "metadata": {
    "colab": {
     "base_uri": "https://localhost:8080/"
    },
    "id": "BywAIMq2ZjmJ",
    "outputId": "7fc7f907-7f87-4133-f94c-7d2048b5e68d"
   },
   "outputs": [
    {
     "name": "stdout",
     "output_type": "stream",
     "text": [
      "root\n",
      " |-- conceptId: string (nullable = true)\n",
      " |-- _term: string (nullable = true)\n",
      " |-- term: string (nullable = true)\n",
      "\n"
     ]
    }
   ],
   "source": [
    "aap_train_sdf.printSchema()"
   ]
  },
  {
   "cell_type": "code",
   "execution_count": 12,
   "metadata": {
    "colab": {
     "base_uri": "https://localhost:8080/"
    },
    "id": "77HxAFzLX4zm",
    "outputId": "a014cbbb-fc21-4645-fbc6-c22fca90c1b8"
   },
   "outputs": [
    {
     "name": "stdout",
     "output_type": "stream",
     "text": [
      "sbiobert_base_cased_mli download started this may take some time.\n",
      "Approximate size to download 384.3 MB\n",
      "[OK!]\n"
     ]
    }
   ],
   "source": [
    "documentAssembler = DocumentAssembler()\\\n",
    "    .setInputCol(\"_term\")\\\n",
    "    .setOutputCol(\"sentence\")\n",
    "\n",
    "bert_embeddings = BertSentenceEmbeddings.pretrained(\"sbiobert_base_cased_mli\", \"en\", \"clinical/models\")\\\n",
    "    .setInputCols([\"sentence\"])\\\n",
    "    .setOutputCol(\"bert_embeddings\")\n",
    "\n",
    "snomed_training_pipeline = Pipeline(stages = [\n",
    "    documentAssembler,\n",
    "    bert_embeddings])\n",
    "\n",
    "snomed_training_model = snomed_training_pipeline.fit(aap_train_sdf)\n",
    "\n",
    "snomed_data = snomed_training_model.transform(aap_train_sdf)\n"
   ]
  },
  {
   "cell_type": "code",
   "execution_count": 13,
   "metadata": {
    "colab": {
     "base_uri": "https://localhost:8080/"
    },
    "id": "eTF2AmJFYpcZ",
    "outputId": "c8d63d25-bded-465a-deb6-6146aea37abe"
   },
   "outputs": [
    {
     "name": "stdout",
     "output_type": "stream",
     "text": [
      "CPU times: user 9.59 s, sys: 1.06 s, total: 10.6 s\n",
      "Wall time: 30min\n"
     ]
    }
   ],
   "source": [
    "bertExtractor = SentenceEntityResolverApproach()\\\n",
    "  .setNeighbours(25)\\\n",
    "  .setThreshold(1000)\\\n",
    "  .setInputCols(\"bert_embeddings\")\\\n",
    "  .setNormalizedCol(\"_term\")\\\n",
    "  .setLabelCol(\"conceptId\")\\\n",
    "  .setOutputCol('snomed_code')\\\n",
    "  .setDistanceFunction(\"EUCLIDIAN\")\\\n",
    "  .setCaseSensitive(False)\n",
    "\n",
    "%time snomed_model = bertExtractor.fit(snomed_data)"
   ]
  },
  {
   "cell_type": "code",
   "execution_count": 14,
   "metadata": {
    "id": "v6d-ZuYk4mVs"
   },
   "outputs": [],
   "source": [
    "# save if you will need that later\n",
    "snomed_model.write().overwrite().save(\"biobertresolve_snomed_askapatient\")"
   ]
  },
  {
   "cell_type": "code",
   "execution_count": 15,
   "metadata": {
    "id": "tUvjpB8YZlz2"
   },
   "outputs": [],
   "source": [
    "prediction_Model = PipelineModel(stages=[snomed_training_model, snomed_model])\n",
    "\n",
    "aap_train_pred= prediction_Model.transform(aap_train_sdf).cache()\n",
    "aap_test_pred= prediction_Model.transform(aap_test_sdf).cache()\n",
    "aap_val_pred= prediction_Model.transform(aap_val_sdf).cache()"
   ]
  },
  {
   "cell_type": "code",
   "execution_count": 16,
   "metadata": {
    "colab": {
     "base_uri": "https://localhost:8080/"
    },
    "id": "zK02FvVNZvsr",
    "outputId": "968cb5e2-7065-4592-9983-8acd45a03f97"
   },
   "outputs": [
    {
     "name": "stdout",
     "output_type": "stream",
     "text": [
      "+----------------+--------------------------------+------------------------------------+---------------------+--------------------------------------+--------------------------------------------------+\n",
      "|       conceptId|                            term|                               _term|snomed_code[0].result|snomed_code[0].metadata[resolved_text]|        snomed_code[0].metadata[all_k_resolutions]|\n",
      "+----------------+--------------------------------+------------------------------------+---------------------+--------------------------------------+--------------------------------------------------+\n",
      "|       108367008|                     dislocating|                Dislocation of joint|            108367008|                  Dislocation of joint|Dislocation of joint:::Joint injury:::Disorder ...|\n",
      "|3384011000036100|                       Arthrotec|                           Arthrotec|     3384011000036100|                             Arthrotec|                                         Arthrotec|\n",
      "|       166717003|               elevated creatine|             Serum creatinine raised|            166717003|               Serum creatinine raised|Serum creatinine raised:::Increased creatine ki...|\n",
      "|3877011000036101|                         Lipitor|                             Lipitor|     3877011000036101|                               Lipitor|                                           Lipitor|\n",
      "|       402234004|                  Eczema on feet|                         Foot eczema|            402234004|                           Foot eczema|Foot eczema:::Eczema:::Hand eczema:::Tendonitis...|\n",
      "|       404640003|                           dizzy|                           Dizziness|            404640003|                             Dizziness|                                         Dizziness|\n",
      "|       271681002|   pain in the pit of my stomach|                        Stomach ache|            271681002|                          Stomach ache|                                      Stomach ache|\n",
      "|        76948002|extreme muscle pain in shoulders|                         Severe pain|             76948002|                           Severe pain|                                       Severe pain|\n",
      "|        36031001|                    Burning feet|                        Burning feet|             36031001|                          Burning feet|                  Burning feet:::Burning sensation|\n",
      "|        76948002|             imence pain in legs|                         Severe pain|             76948002|                           Severe pain|                                       Severe pain|\n",
      "|        42399005|              kidney malfunction|                       Renal failure|             42399005|                         Renal failure|Renal failure:::Renal impairment:::Renal injury...|\n",
      "|       288227007|        muscle pain in my biceps|        Myalgia/myositis - upper arm|            288227007|          Myalgia/myositis - upper arm|Myalgia/myositis - upper arm:::Myalgia/myositis...|\n",
      "|       419723007|                       brain fog|                       Mentally dull|            419723007|                         Mentally dull|                                     Mentally dull|\n",
      "|       248490000|                        bloating|                    Bloating symptom|            248490000|                      Bloating symptom|                                  Bloating symptom|\n",
      "|        22253000|                            pain|                                Pain|             22253000|                                  Pain|                                              Pain|\n",
      "|       162076009|                             gas|Excessive upper gastrointestinal gas|            162076009|  Excessive upper gastrointestinal gas|              Excessive upper gastrointestinal gas|\n",
      "|       247592009|          Short term memory loss|              Poor short-term memory|            247592009|                Poor short-term memory|                            Poor short-term memory|\n",
      "|        62507009|             tingling in my feet|                    Pins and needles|             62507009|                      Pins and needles|                                  Pins and needles|\n",
      "|3877011000036101|                         LIPITOR|                             Lipitor|     3877011000036101|                               Lipitor|                                           Lipitor|\n",
      "|        62507009|   tingling on left side of face|                    Pins and needles|             62507009|                      Pins and needles|                                  Pins and needles|\n",
      "+----------------+--------------------------------+------------------------------------+---------------------+--------------------------------------+--------------------------------------------------+\n",
      "only showing top 20 rows\n",
      "\n"
     ]
    }
   ],
   "source": [
    "aap_test_pred.selectExpr(\"conceptId\",\"term\",\"_term\",\"snomed_code[0].result\",\"snomed_code[0].metadata.resolved_text\",\"snomed_code[0].metadata.all_k_resolutions\").show(truncate=50)"
   ]
  },
  {
   "cell_type": "code",
   "execution_count": 17,
   "metadata": {
    "colab": {
     "base_uri": "https://localhost:8080/"
    },
    "id": "43VFVLaM3ify",
    "outputId": "6f248fe9-997a-4fa9-dde4-5f8d14e38355"
   },
   "outputs": [
    {
     "name": "stdout",
     "output_type": "stream",
     "text": [
      "+----------------+------------------------------+---------------------+---------------------+--------------------------------------+--------------------------------------------------+\n",
      "|       conceptId|                          term|                _term|snomed_code[0].result|snomed_code[0].metadata[resolved_text]|        snomed_code[0].metadata[all_k_resolutions]|\n",
      "+----------------+------------------------------+---------------------+---------------------+--------------------------------------+--------------------------------------------------+\n",
      "|       267032009|persisten feeling of tiredness|   Tired all the time|            267032009|                    Tired all the time|Tired all the time:::Always sleepy:::Constant pain|\n",
      "|        22298006|                  HEART ATTACK|Myocardial infarction|             22298006|                 Myocardial infarction|                             Myocardial infarction|\n",
      "|3877011000036101|                       LIPITOR|              Lipitor|     3877011000036101|                               Lipitor|                                           Lipitor|\n",
      "|       415690000|                       sweated|             Sweating|            415690000|                              Sweating|            Sweating:::Sweating problem:::Swelling|\n",
      "|       248491001|              swelling at knee|         Swollen knee|            248491001|                          Swollen knee|Swollen knee:::Swollen feet:::Swollen legs:::Sw...|\n",
      "|       248490000|                      bloating|     Bloating symptom|            248490000|                      Bloating symptom|                                  Bloating symptom|\n",
      "|       162059005|                 stomach upset|        Upset stomach|            162059005|                         Upset stomach|                                     Upset stomach|\n",
      "|3877011000036101|                       Lipitor|              Lipitor|     3877011000036101|                               Lipitor|                                           Lipitor|\n",
      "|        62507009|                      tingling|     Pins and needles|             62507009|                      Pins and needles|                                  Pins and needles|\n",
      "|       238131007|                   over weight|           Overweight|            238131007|                            Overweight|Overweight:::Heavy legs:::Increased lipid:::Exc...|\n",
      "|        73595000|                        stress|               Stress|             73595000|                                Stress|                    Stress:::Sedated:::Stiff limbs|\n",
      "|3877011000036101|                       lipitor|              Lipitor|     3877011000036101|                               Lipitor|                                           Lipitor|\n",
      "|3877011000036101|                       Lipitor|              Lipitor|     3877011000036101|                               Lipitor|                                           Lipitor|\n",
      "|        22253000|                          hurt|                 Pain|             22253000|                                  Pain|                                              Pain|\n",
      "|        73211009|                      diabetes|    Diabetes mellitus|             73211009|                     Diabetes mellitus|                                 Diabetes mellitus|\n",
      "|        10601006|                     sore legs|   Pain in lower limb|             10601006|                    Pain in lower limb|                                Pain in lower limb|\n",
      "|        75694006|       acute pancreatic attack|         Pancreatitis|             75694006|                          Pancreatitis|Pancreatitis:::Peritonitis:::Hepatomegaly:::Hep...|\n",
      "|        51197009|     SEVERE abdominal cramping|       Stomach cramps|             51197009|                        Stomach cramps|                                    Stomach cramps|\n",
      "|         3723001|                     arthrites|            Arthritis|              3723001|                             Arthritis|                                         Arthritis|\n",
      "|       271767006|        skin began to come off|      Peeling of skin|            271767006|                       Peeling of skin|Peeling of skin:::Scab of skin:::Discolouration...|\n",
      "+----------------+------------------------------+---------------------+---------------------+--------------------------------------+--------------------------------------------------+\n",
      "only showing top 20 rows\n",
      "\n"
     ]
    }
   ],
   "source": [
    "aap_val_pred.selectExpr(\"conceptId\",\"term\",\"_term\",\"snomed_code[0].result\",\"snomed_code[0].metadata.resolved_text\",\"snomed_code[0].metadata.all_k_resolutions\").show(truncate=50)"
   ]
  }
 ],
 "metadata": {
  "colab": {
   "collapsed_sections": [],
   "name": "13.Snomed_Entity_Resolver_Model_Training.ipynb",
   "provenance": []
  },
  "kernelspec": {
   "display_name": "Python 3 (ipykernel)",
   "language": "python",
   "name": "python3"
  },
  "language_info": {
   "codemirror_mode": {
    "name": "ipython",
    "version": 3
   },
   "file_extension": ".py",
   "mimetype": "text/x-python",
   "name": "python",
   "nbconvert_exporter": "python",
   "pygments_lexer": "ipython3",
   "version": "3.7.6"
  }
 },
 "nbformat": 4,
 "nbformat_minor": 1
}

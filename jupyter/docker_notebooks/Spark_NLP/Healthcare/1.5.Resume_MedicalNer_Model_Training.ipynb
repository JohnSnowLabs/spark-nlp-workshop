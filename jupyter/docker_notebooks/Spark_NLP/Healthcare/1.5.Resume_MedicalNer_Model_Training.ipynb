{
 "cells": [
  {
   "cell_type": "markdown",
   "metadata": {
    "id": "I08sFJYCxR0Z"
   },
   "source": [
    "![JohnSnowLabs](https://nlp.johnsnowlabs.com/assets/images/logo.png)"
   ]
  },
  {
   "cell_type": "markdown",
   "metadata": {
    "id": "FwJ-P56kq6FU"
   },
   "source": [
    "[![Open In Colab](https://colab.research.google.com/assets/colab-badge.svg)](https://colab.research.google.com/github/JohnSnowLabs/spark-nlp-workshop/blob/master/tutorials/Certification_Trainings/Healthcare/1.5.Resume_MedicalNer_Model_Training.ipynb)"
   ]
  },
  {
   "cell_type": "markdown",
   "metadata": {
    "id": "7ztGkR5mb6zN"
   },
   "source": [
    "# 1.5 Resume MedicalNer Model Training\n",
    "\n",
    "Steps:\n",
    "- Train a new model for a few epochs.\n",
    "- Load the same model and train for more epochs on the same taxnonomy, and check stats.\n",
    "- Train a model already trained on a different data"
   ]
  },
  {
   "cell_type": "markdown",
   "metadata": {
    "id": "-68NMdHxJIco"
   },
   "source": [
    "## Colab Setup"
   ]
  },
  {
   "cell_type": "code",
   "execution_count": null,
   "metadata": {},
   "outputs": [],
   "source": [
    "import os\n",
    "\n",
    "jsl_secret = os.getenv('SECRET')\n",
    "\n",
    "import sparknlp\n",
    "sparknlp_version = sparknlp.version()\n",
    "import sparknlp_jsl\n",
    "jsl_version = sparknlp_jsl.version()\n",
    "\n",
    "print (jsl_secret)"
   ]
  },
  {
   "cell_type": "code",
   "execution_count": 3,
   "metadata": {
    "id": "wIp1yLCWNWsn"
   },
   "outputs": [],
   "source": [
    "# if you want to start the session with custom params as in start function above\n",
    "def start(secret):\n",
    "    builder = SparkSession.builder \\\n",
    "        .appName(\"Spark NLP Licensed\") \\\n",
    "        .master(\"local[*]\") \\\n",
    "        .config(\"spark.driver.memory\", \"16G\") \\\n",
    "        .config(\"spark.serializer\", \"org.apache.spark.serializer.KryoSerializer\") \\\n",
    "        .config(\"spark.kryoserializer.buffer.max\", \"2000M\") \\\n",
    "        .config(\"spark.jars.packages\", \"com.johnsnowlabs.nlp:spark-nlp_2.12:\"+sparknlp_version) \\\n",
    "        .config(\"spark.jars\", \"https://pypi.johnsnowlabs.com/\"+jsl_secret+\"/spark-nlp-jsl-\"+jsl_version+\".jar\")\n",
    "      \n",
    "    return builder.getOrCreate()\n",
    "\n",
    "#spark = start(secret)"
   ]
  },
  {
   "cell_type": "code",
   "execution_count": 4,
   "metadata": {
    "colab": {
     "base_uri": "https://localhost:8080/"
    },
    "id": "1t5Kp93GcH7z",
    "outputId": "2d66b762-25a1-4f7a-f1e7-36f4dc72e5da"
   },
   "outputs": [
    {
     "name": "stdout",
     "output_type": "stream",
     "text": [
      "Spark NLP Version : 3.1.2\n",
      "Spark NLP_JSL Version : 3.1.2\n"
     ]
    }
   ],
   "source": [
    "import json\n",
    "import os\n",
    "from pyspark.ml import Pipeline,PipelineModel\n",
    "from pyspark.sql import SparkSession\n",
    "\n",
    "from sparknlp.annotator import *\n",
    "from sparknlp_jsl.annotator import *\n",
    "from sparknlp.base import *\n",
    "import sparknlp_jsl\n",
    "import sparknlp\n",
    "\n",
    "params = {\"spark.driver.memory\":\"16G\",\n",
    "\"spark.kryoserializer.buffer.max\":\"2000M\",\n",
    "\"spark.driver.maxResultSize\":\"2000M\"}\n",
    "\n",
    "spark = sparknlp_jsl.start(jsl_secret, params=params)\n",
    "\n",
    "print (\"Spark NLP Version :\", sparknlp.version())\n",
    "print (\"Spark NLP_JSL Version :\", sparknlp_jsl.version())"
   ]
  },
  {
   "cell_type": "markdown",
   "metadata": {
    "id": "PeWhvSsHRXsf"
   },
   "source": [
    "## Download Clinical Word Embeddings for training"
   ]
  },
  {
   "cell_type": "code",
   "execution_count": 5,
   "metadata": {
    "colab": {
     "base_uri": "https://localhost:8080/"
    },
    "id": "Ua5dHNeyRWQc",
    "outputId": "bb3e7012-400b-4592-aebf-df212002756a"
   },
   "outputs": [
    {
     "name": "stdout",
     "output_type": "stream",
     "text": [
      "embeddings_clinical download started this may take some time.\n",
      "Approximate size to download 1.6 GB\n",
      "[OK!]\n"
     ]
    }
   ],
   "source": [
    "clinical_embeddings = WordEmbeddingsModel.pretrained('embeddings_clinical', \"en\", \"clinical/models\")\\\n",
    "    .setInputCols([\"sentence\", \"token\"])\\\n",
    "    .setOutputCol(\"embeddings\")"
   ]
  },
  {
   "cell_type": "markdown",
   "metadata": {
    "id": "bfT1AaKvOG4J"
   },
   "source": [
    "## Download Data for Training (NCBI Disease Dataset)"
   ]
  },
  {
   "cell_type": "code",
   "execution_count": 6,
   "metadata": {
    "id": "KMOycTPUcty7"
   },
   "outputs": [],
   "source": [
    "!wget -q https://raw.githubusercontent.com/JohnSnowLabs/spark-nlp-workshop/master/tutorials/Certification_Trainings/Healthcare/data/NCBI_disease_official_test.conll\n",
    "!wget -q https://raw.githubusercontent.com/JohnSnowLabs/spark-nlp-workshop/master/tutorials/Certification_Trainings/Healthcare/data/NCBI_disease_official_train_dev.conll"
   ]
  },
  {
   "cell_type": "code",
   "execution_count": 7,
   "metadata": {
    "colab": {
     "base_uri": "https://localhost:8080/"
    },
    "id": "FetZIfagc-eh",
    "outputId": "131de531-7725-47d1-99a9-39e370f89802"
   },
   "outputs": [
    {
     "name": "stdout",
     "output_type": "stream",
     "text": [
      "+--------------------+--------------------+--------------------+--------------------+--------------------+--------------------+\n",
      "|                text|            document|            sentence|               token|                 pos|               label|\n",
      "+--------------------+--------------------+--------------------+--------------------+--------------------+--------------------+\n",
      "|Identification of...|[[document, 0, 89...|[[document, 0, 89...|[[token, 0, 13, I...|[[pos, 0, 13, NN,...|[[named_entity, 0...|\n",
      "|The adenomatous p...|[[document, 0, 21...|[[document, 0, 21...|[[token, 0, 2, Th...|[[pos, 0, 2, NN, ...|[[named_entity, 0...|\n",
      "|Complex formation...|[[document, 0, 63...|[[document, 0, 63...|[[token, 0, 6, Co...|[[pos, 0, 6, NN, ...|[[named_entity, 0...|\n",
      "+--------------------+--------------------+--------------------+--------------------+--------------------+--------------------+\n",
      "only showing top 3 rows\n",
      "\n"
     ]
    }
   ],
   "source": [
    "from sparknlp.training import CoNLL\n",
    "\n",
    "training_data = CoNLL().readDataset(spark, 'NCBI_disease_official_train_dev.conll')\n",
    "\n",
    "training_data.show(3)"
   ]
  },
  {
   "cell_type": "code",
   "execution_count": 8,
   "metadata": {
    "colab": {
     "base_uri": "https://localhost:8080/"
    },
    "id": "Fm1bfPJidC9X",
    "outputId": "6dd55407-b119-4231-a7f6-477a6725ea32"
   },
   "outputs": [
    {
     "name": "stdout",
     "output_type": "stream",
     "text": [
      "+--------------------+--------------------+--------------------+--------------------+--------------------+--------------------+\n",
      "|                text|            document|            sentence|               token|                 pos|               label|\n",
      "+--------------------+--------------------+--------------------+--------------------+--------------------+--------------------+\n",
      "|Clustering of mis...|[[document, 0, 10...|[[document, 0, 10...|[[token, 0, 9, Cl...|[[pos, 0, 9, NN, ...|[[named_entity, 0...|\n",
      "|Ataxia - telangie...|[[document, 0, 13...|[[document, 0, 13...|[[token, 0, 5, At...|[[pos, 0, 5, NN, ...|[[named_entity, 0...|\n",
      "|The risk of cance...|[[document, 0, 15...|[[document, 0, 15...|[[token, 0, 2, Th...|[[pos, 0, 2, NN, ...|[[named_entity, 0...|\n",
      "+--------------------+--------------------+--------------------+--------------------+--------------------+--------------------+\n",
      "only showing top 3 rows\n",
      "\n"
     ]
    }
   ],
   "source": [
    "from sparknlp.training import CoNLL\n",
    "\n",
    "test_data = CoNLL().readDataset(spark, 'NCBI_disease_official_test.conll')\n",
    "\n",
    "test_data.show(3)"
   ]
  },
  {
   "cell_type": "markdown",
   "metadata": {
    "id": "AaTp5atqc_C-"
   },
   "source": [
    "## Split the test data into two parts:\n",
    "- We Keep the first part separate and use it for training the model further, as it will be totally unseen data from the same taxonomy.\n",
    "\n",
    "- The second part will be used to testing and evaluating"
   ]
  },
  {
   "cell_type": "code",
   "execution_count": 9,
   "metadata": {
    "id": "D_gInTNZRhnC"
   },
   "outputs": [],
   "source": [
    "(test_data_1, test_data_2) = test_data.randomSplit([0.5, 0.5], seed = 100)\n",
    "\n",
    "# save the test data as parquet for easy testing\n",
    "clinical_embeddings.transform(test_data_1).write.parquet('test_1.parquet')\n",
    "\n",
    "clinical_embeddings.transform(test_data_2).write.parquet('test_2.parquet')"
   ]
  },
  {
   "cell_type": "markdown",
   "metadata": {
    "id": "WX2jO2FPRo6Q"
   },
   "source": [
    "## Train a new model, pause, and resume training on the same dataset."
   ]
  },
  {
   "cell_type": "markdown",
   "metadata": {
    "id": "tc2Uoh_YR3dA"
   },
   "source": [
    "### Create a graph"
   ]
  },
  {
   "cell_type": "code",
   "execution_count": 10,
   "metadata": {
    "colab": {
     "base_uri": "https://localhost:8080/"
    },
    "id": "WFzmo-JzRs3x",
    "outputId": "3cd807f2-ab15-43dc-fce4-668c2444c475"
   },
   "outputs": [
    {
     "name": "stdout",
     "output_type": "stream",
     "text": [
      "TensorFlow 1.x selected.\n",
      "ner_dl parameters.\n",
      "Parameter            Required   Default value        Description\n",
      "ntags                yes        -                    Number of tags.\n",
      "embeddings_dim       no         200                  Embeddings dimension.\n",
      "nchars               no         100                  Number of chars.\n",
      "lstm_size            no         128                  Number of LSTM units.\n",
      "gpu_device           no         0                    Device for training.\n",
      "is_medical           no         0                    Build a Medical Ner graph.\n",
      "WARNING:tensorflow:From /tensorflow-1.15.2/python3.7/tensorflow_core/python/compat/v2_compat.py:68: disable_resource_variables (from tensorflow.python.ops.variable_scope) is deprecated and will be removed in a future version.\n",
      "Instructions for updating:\n",
      "non-resource variables are not supported in the long term\n",
      "WARNING:tensorflow:From /usr/local/lib/python3.7/dist-packages/sparknlp_jsl/_tf_graph_builders/ner_dl/ner_model.py:12: The name tf.disable_v2_behavior is deprecated. Please use tf.compat.v1.disable_v2_behavior instead.\n",
      "\n",
      "WARNING:tensorflow:From /tensorflow-1.15.2/python3.7/tensorflow_core/python/ops/resource_variable_ops.py:1630: calling BaseResourceVariable.__init__ (from tensorflow.python.ops.resource_variable_ops) with constraint is deprecated and will be removed in a future version.\n",
      "Instructions for updating:\n",
      "If using Keras pass *_constraint arguments to layers.\n",
      "WARNING:tensorflow:From /tensorflow-1.15.2/python3.7/tensorflow_core/python/ops/init_ops.py:97: calling GlorotUniform.__init__ (from tensorflow.python.ops.init_ops) with dtype is deprecated and will be removed in a future version.\n",
      "Instructions for updating:\n",
      "Call initializer instance with the dtype argument instead of passing it to the constructor\n",
      "WARNING:tensorflow:From /tensorflow-1.15.2/python3.7/tensorflow_core/python/ops/init_ops.py:97: calling Orthogonal.__init__ (from tensorflow.python.ops.init_ops) with dtype is deprecated and will be removed in a future version.\n",
      "Instructions for updating:\n",
      "Call initializer instance with the dtype argument instead of passing it to the constructor\n",
      "WARNING:tensorflow:From /tensorflow-1.15.2/python3.7/tensorflow_core/python/ops/init_ops.py:97: calling Zeros.__init__ (from tensorflow.python.ops.init_ops) with dtype is deprecated and will be removed in a future version.\n",
      "Instructions for updating:\n",
      "Call initializer instance with the dtype argument instead of passing it to the constructor\n",
      "WARNING:tensorflow:From /tensorflow-1.15.2/python3.7/tensorflow_core/python/keras/backend.py:3994: where (from tensorflow.python.ops.array_ops) is deprecated and will be removed in a future version.\n",
      "Instructions for updating:\n",
      "Use tf.where in 2.0, which has the same broadcast rule as np.where\n",
      "WARNING:tensorflow:\n",
      "The TensorFlow contrib module will not be included in TensorFlow 2.0.\n",
      "For more information, please see:\n",
      "  * https://github.com/tensorflow/community/blob/master/rfcs/20180907-contrib-sunset.md\n",
      "  * https://github.com/tensorflow/addons\n",
      "  * https://github.com/tensorflow/io (for I/O related ops)\n",
      "If you depend on functionality not listed there, please file an issue.\n",
      "\n",
      "WARNING:tensorflow:From /tensorflow-1.15.2/python3.7/tensorflow_core/contrib/rnn/python/ops/lstm_ops.py:597: Layer.add_variable (from tensorflow.python.keras.engine.base_layer) is deprecated and will be removed in a future version.\n",
      "Instructions for updating:\n",
      "Please use `layer.add_weight` method instead.\n",
      "WARNING:tensorflow:From /tensorflow-1.15.2/python3.7/tensorflow_core/contrib/crf/python/ops/crf.py:213: dynamic_rnn (from tensorflow.python.ops.rnn) is deprecated and will be removed in a future version.\n",
      "Instructions for updating:\n",
      "Please use `keras.layers.RNN(cell)`, which is equivalent to this API\n",
      "ner_dl graph exported to ./medical_ner_graphs/blstm_12_200_128_128.pb\n"
     ]
    }
   ],
   "source": [
    "from sparknlp_jsl.training import tf_graph\n",
    "%tensorflow_version 1.x\n",
    "tf_graph.print_model_params(\"ner_dl\")\n",
    "\n",
    "tf_graph.build(\"ner_dl\", build_params={\"embeddings_dim\": 200, \"nchars\": 128, \"ntags\": 12, \"is_medical\": 1}, model_location=\"./medical_ner_graphs\", model_filename=\"auto\")\n"
   ]
  },
  {
   "cell_type": "markdown",
   "metadata": {
    "id": "PT5pF7V7R69G"
   },
   "source": [
    "### Train for 2 epochs"
   ]
  },
  {
   "cell_type": "code",
   "execution_count": 12,
   "metadata": {
    "id": "X7J4j069R9ty"
   },
   "outputs": [],
   "source": [
    "nerTagger = MedicalNerApproach()\\\n",
    "      .setInputCols([\"sentence\", \"token\", \"embeddings\"])\\\n",
    "      .setLabelColumn(\"label\")\\\n",
    "      .setOutputCol(\"ner\")\\\n",
    "      .setMaxEpochs(2)\\\n",
    "      .setLr(0.003)\\\n",
    "      .setBatchSize(8)\\\n",
    "      .setRandomSeed(0)\\\n",
    "      .setVerbose(1)\\\n",
    "      .setEvaluationLogExtended(True) \\\n",
    "      .setEnableOutputLogs(True)\\\n",
    "      .setIncludeConfidence(True)\\\n",
    "      .setTestDataset('./test_2.parquet')\\\n",
    "      .setGraphFolder('./medical_ner_graphs')\\\n",
    "      .setOutputLogsPath('./ner_logs')\n",
    "\n",
    "ner_pipeline = Pipeline(stages=[\n",
    "      clinical_embeddings,\n",
    "      nerTagger\n",
    " ])"
   ]
  },
  {
   "cell_type": "code",
   "execution_count": 13,
   "metadata": {
    "colab": {
     "base_uri": "https://localhost:8080/"
    },
    "id": "u5Phv3rFSBR_",
    "outputId": "1ff40f2a-11f5-415b-b473-f397a354861a"
   },
   "outputs": [
    {
     "name": "stdout",
     "output_type": "stream",
     "text": [
      "CPU times: user 3.28 s, sys: 297 ms, total: 3.57 s\n",
      "Wall time: 11min 40s\n"
     ]
    }
   ],
   "source": [
    "\n",
    "%%time\n",
    "ner_model = ner_pipeline.fit(training_data)\n"
   ]
  },
  {
   "cell_type": "code",
   "execution_count": null,
   "metadata": {
    "colab": {
     "base_uri": "https://localhost:8080/"
    },
    "id": "sPZ2tmHFSBUy",
    "outputId": "a1475145-b11b-4c46-f677-e4c7d517b0b8"
   },
   "outputs": [
    {
     "name": "stdout",
     "output_type": "stream",
     "text": [
      "Name of the selected graph: /content/./medical_ner_graphs/blstm_12_200_128_128.pb\n",
      "Training started - total epochs: 2 - lr: 0.003 - batch size: 8 - labels: 3 - chars: 84 - training examples: 6347\n",
      "\n",
      "\n",
      "Epoch 1/2 started, lr: 0.003, dataset size: 6347\n",
      "\n",
      "\n",
      "Epoch 1/2 - 237.31s - loss: 2064.9941 - batches: 795\n",
      "Quality on test dataset: \n",
      "time to finish evaluation: 7.34s\n",
      "label\t tp\t fp\t fn\t prec\t rec\t f1\n",
      "I-Disease\t 494\t 121\t 42\t 0.80325204\t 0.92164177\t 0.858384\n",
      "B-Disease\t 388\t 90\t 76\t 0.8117155\t 0.8362069\t 0.82377917\n",
      "tp: 882 fp: 211 fn: 118 labels: 2\n",
      "Macro-average\t prec: 0.8074838, rec: 0.87892437, f1: 0.84169084\n",
      "Micro-average\t prec: 0.8069533, rec: 0.882, f1: 0.8428094\n",
      "\n",
      "\n",
      "Epoch 2/2 started, lr: 0.0029850747, dataset size: 6347\n",
      "\n",
      "\n",
      "Epoch 2/2 - 235.26s - loss: 806.94214 - batches: 795\n",
      "Quality on test dataset: \n",
      "time to finish evaluation: 6.18s\n",
      "label\t tp\t fp\t fn\t prec\t rec\t f1\n",
      "I-Disease\t 476\t 81\t 60\t 0.8545781\t 0.8880597\t 0.8709972\n",
      "B-Disease\t 382\t 58\t 82\t 0.8681818\t 0.82327586\t 0.8451327\n",
      "tp: 858 fp: 139 fn: 142 labels: 2\n",
      "Macro-average\t prec: 0.86138, rec: 0.85566777, f1: 0.85851437\n",
      "Micro-average\t prec: 0.86058176, rec: 0.858, f1: 0.85928893\n"
     ]
    }
   ],
   "source": [
    "# Training Logs\n",
    "! cat ner_logs/MedicalNerApproach_a6231a3fe051.log"
   ]
  },
  {
   "cell_type": "code",
   "execution_count": 15,
   "metadata": {
    "colab": {
     "base_uri": "https://localhost:8080/"
    },
    "id": "p2onzNGuP_QH",
    "outputId": "d244425b-eec5-4803-efb6-307dee139b26"
   },
   "outputs": [
    {
     "name": "stdout",
     "output_type": "stream",
     "text": [
      "Name of the selected graph: /content/./medical_ner_graphs/blstm_12_200_128_128.pb\n",
      "Training started - total epochs: 4 - lr: 0.003 - batch size: 8 - labels: 3 - chars: 84 - training examples: 6347\n",
      "\n",
      "\n",
      "Epoch 1/4 started, lr: 0.003, dataset size: 6347\n",
      "\n",
      "\n",
      "Epoch 1/4 - 161.11s - loss: 1997.8568 - batches: 795\n",
      "Quality on test dataset: \n",
      "time to finish evaluation: 4.95s\n",
      "label\t tp\t fp\t fn\t prec\t rec\t f1\n",
      "I-Disease\t 510\t 194\t 26\t 0.7244318\t 0.95149255\t 0.8225807\n",
      "B-Disease\t 390\t 110\t 74\t 0.78\t 0.8405172\t 0.8091286\n",
      "tp: 900 fp: 304 fn: 100 labels: 2\n",
      "Macro-average\t prec: 0.75221586, rec: 0.8960049, f1: 0.8178384\n",
      "Micro-average\t prec: 0.7475083, rec: 0.9, f1: 0.8166969\n",
      "\n",
      "\n",
      "Epoch 2/4 started, lr: 0.0029850747, dataset size: 6347\n",
      "\n",
      "\n",
      "Epoch 2/4 - 161.94s - loss: 777.53375 - batches: 795\n",
      "Quality on test dataset: \n",
      "time to finish evaluation: 4.13s\n",
      "label\t tp\t fp\t fn\t prec\t rec\t f1\n",
      "I-Disease\t 462\t 60\t 74\t 0.88505745\t 0.8619403\t 0.87334585\n",
      "B-Disease\t 362\t 47\t 102\t 0.8850856\t 0.7801724\t 0.8293242\n",
      "tp: 824 fp: 107 fn: 176 labels: 2\n",
      "Macro-average\t prec: 0.8850715, rec: 0.82105637, f1: 0.851863\n",
      "Micro-average\t prec: 0.88506985, rec: 0.824, f1: 0.85344386\n",
      "\n",
      "\n",
      "Epoch 3/4 started, lr: 0.0029702971, dataset size: 6347\n",
      "\n",
      "\n",
      "Epoch 3/4 - 170.37s - loss: 612.242 - batches: 795\n",
      "Quality on test dataset: \n",
      "time to finish evaluation: 4.06s\n",
      "label\t tp\t fp\t fn\t prec\t rec\t f1\n",
      "I-Disease\t 469\t 68\t 67\t 0.8733706\t 0.875\t 0.8741845\n",
      "B-Disease\t 415\t 61\t 49\t 0.87184876\t 0.89439654\t 0.88297874\n",
      "tp: 884 fp: 129 fn: 116 labels: 2\n",
      "Macro-average\t prec: 0.8726097, rec: 0.8846983, f1: 0.87861234\n",
      "Micro-average\t prec: 0.87265545, rec: 0.884, f1: 0.8782911\n",
      "\n",
      "\n",
      "Epoch 4/4 started, lr: 0.002955665, dataset size: 6347\n",
      "\n",
      "\n",
      "Epoch 4/4 - 158.83s - loss: 511.67746 - batches: 795\n",
      "Quality on test dataset: \n",
      "time to finish evaluation: 4.01s\n",
      "label\t tp\t fp\t fn\t prec\t rec\t f1\n",
      "I-Disease\t 453\t 40\t 83\t 0.9188641\t 0.8451493\t 0.88046646\n",
      "B-Disease\t 384\t 41\t 80\t 0.9035294\t 0.82758623\t 0.8638921\n",
      "tp: 837 fp: 81 fn: 163 labels: 2\n",
      "Macro-average\t prec: 0.9111967, rec: 0.8363677, f1: 0.87218016\n",
      "Micro-average\t prec: 0.9117647, rec: 0.837, f1: 0.87278414\n"
     ]
    }
   ],
   "source": [
    "# Logs of 4 consecutive epochs to compare with 2+2 epochs on separate datasets from same taxonomy\n",
    "\n",
    "#!cat ner_logs/MedicalNerApproach_4d3d69967c3f.log"
   ]
  },
  {
   "cell_type": "markdown",
   "metadata": {
    "id": "qLKJpTfKWLwC"
   },
   "source": [
    "### Evaluate"
   ]
  },
  {
   "cell_type": "code",
   "execution_count": null,
   "metadata": {
    "colab": {
     "base_uri": "https://localhost:8080/"
    },
    "id": "Ec5aux5DSBXE",
    "outputId": "faa6bd42-83a0-4d09-c83d-852c43258701"
   },
   "outputs": [
    {
     "name": "stdout",
     "output_type": "stream",
     "text": [
      "+-------+-----+----+----+-----+---------+------+------+\n",
      "| entity|   tp|  fp|  fn|total|precision|recall|    f1|\n",
      "+-------+-----+----+----+-----+---------+------+------+\n",
      "|Disease|377.0|63.0|83.0|460.0|   0.8568|0.8196|0.8378|\n",
      "+-------+-----+----+----+-----+---------+------+------+\n",
      "\n",
      "+------------------+\n",
      "|             macro|\n",
      "+------------------+\n",
      "|0.8377777777777777|\n",
      "+------------------+\n",
      "\n",
      "None\n",
      "+------------------+\n",
      "|             micro|\n",
      "+------------------+\n",
      "|0.8377777777777777|\n",
      "+------------------+\n",
      "\n",
      "None\n"
     ]
    }
   ],
   "source": [
    "from sparknlp_jsl.eval import NerDLMetrics\n",
    "import pyspark.sql.functions as F\n",
    "\n",
    "pred_df = ner_model.stages[1].transform(clinical_embeddings.transform(test_data_2))\n",
    "\n",
    "evaler = NerDLMetrics(mode=\"full_chunk\", dropO=True)\n",
    "\n",
    "eval_result = evaler.computeMetricsFromDF(pred_df.select(\"label\",\"ner\"), prediction_col=\"ner\", label_col=\"label\").cache()\n",
    "\n",
    "eval_result.withColumn(\"precision\", F.round(eval_result[\"precision\"],4))\\\n",
    "    .withColumn(\"recall\", F.round(eval_result[\"recall\"],4))\\\n",
    "    .withColumn(\"f1\", F.round(eval_result[\"f1\"],4)).show(100)\n",
    "\n",
    "print(eval_result.selectExpr(\"avg(f1) as macro\").show())\n",
    "print (eval_result.selectExpr(\"sum(f1*total) as sumprod\",\"sum(total) as sumtotal\").selectExpr(\"sumprod/sumtotal as micro\").show())"
   ]
  },
  {
   "cell_type": "markdown",
   "metadata": {
    "id": "77HQ3yYyT-RZ"
   },
   "source": [
    "### Save the model to disk"
   ]
  },
  {
   "cell_type": "code",
   "execution_count": null,
   "metadata": {
    "id": "_KEUa1yaSBZW"
   },
   "outputs": [],
   "source": [
    "ner_model.stages[1].write().overwrite().save('models/NCBI_NER_2_epoch')"
   ]
  },
  {
   "cell_type": "markdown",
   "metadata": {
    "id": "y_U4mQcXUTg7"
   },
   "source": [
    "### Train using the saved model on unseen dataset\n",
    "#### We use unseen data from same taxonomy"
   ]
  },
  {
   "cell_type": "code",
   "execution_count": null,
   "metadata": {
    "id": "dgFviuf5SBei"
   },
   "outputs": [],
   "source": [
    "\n",
    "nerTagger = MedicalNerApproach()\\\n",
    "      .setInputCols([\"sentence\", \"token\", \"embeddings\"])\\\n",
    "      .setLabelColumn(\"label\")\\\n",
    "      .setOutputCol(\"ner\")\\\n",
    "      .setMaxEpochs(2)\\\n",
    "      .setLr(0.003)\\\n",
    "      .setBatchSize(8)\\\n",
    "      .setRandomSeed(0)\\\n",
    "      .setVerbose(1)\\\n",
    "      .setEvaluationLogExtended(True) \\\n",
    "      .setEnableOutputLogs(True)\\\n",
    "      .setIncludeConfidence(True)\\\n",
    "      .setTestDataset('/content/test_2.parquet')\\\n",
    "      .setOutputLogsPath('ner_logs')\\\n",
    "      .setGraphFolder('medical_ner_graphs')\\\n",
    "      .setPretrainedModelPath(\"models/NCBI_NER_2_epoch\") ## load exisitng model\n",
    "    \n",
    "ner_pipeline = Pipeline(stages=[\n",
    "      clinical_embeddings,\n",
    "      nerTagger\n",
    " ])"
   ]
  },
  {
   "cell_type": "code",
   "execution_count": null,
   "metadata": {
    "colab": {
     "base_uri": "https://localhost:8080/"
    },
    "id": "xVZGKEsKUSrS",
    "outputId": "703f9cf1-d4c6-4940-fcde-b63ac716b6e5"
   },
   "outputs": [
    {
     "name": "stdout",
     "output_type": "stream",
     "text": [
      "CPU times: user 373 ms, sys: 45.1 ms, total: 418 ms\n",
      "Wall time: 1min 2s\n"
     ]
    }
   ],
   "source": [
    "\n",
    "%%time\n",
    "ner_model_retrained = ner_pipeline.fit(test_data_1)\n"
   ]
  },
  {
   "cell_type": "code",
   "execution_count": null,
   "metadata": {
    "colab": {
     "base_uri": "https://localhost:8080/"
    },
    "id": "zVTfOVnIgwpP",
    "outputId": "01418d26-5c93-456b-cf88-990ea4ab07f6"
   },
   "outputs": [
    {
     "name": "stdout",
     "output_type": "stream",
     "text": [
      "Name of the selected graph: pretrained graph\n",
      "Training started - total epochs: 2 - lr: 0.003 - batch size: 8 - labels: 3 - chars: 79 - training examples: 477\n",
      "\n",
      "\n",
      "Epoch 1/2 started, lr: 0.003, dataset size: 477\n",
      "\n",
      "\n",
      "Epoch 1/2 - 20.49s - loss: 89.05175 - batches: 61\n",
      "Quality on test dataset: \n",
      "time to finish evaluation: 7.03s\n",
      "label\t tp\t fp\t fn\t prec\t rec\t f1\n",
      "I-Disease\t 449\t 51\t 87\t 0.898\t 0.83768654\t 0.86679536\n",
      "B-Disease\t 390\t 51\t 74\t 0.88435376\t 0.8405172\t 0.86187845\n",
      "tp: 839 fp: 102 fn: 161 labels: 2\n",
      "Macro-average\t prec: 0.8911769, rec: 0.8391019, f1: 0.8643558\n",
      "Micro-average\t prec: 0.89160466, rec: 0.839, f1: 0.8645028\n",
      "\n",
      "\n",
      "Epoch 2/2 started, lr: 0.0029850747, dataset size: 477\n",
      "\n",
      "\n",
      "Epoch 2/2 - 19.23s - loss: 50.519394 - batches: 61\n",
      "Quality on test dataset: \n",
      "time to finish evaluation: 6.61s\n",
      "label\t tp\t fp\t fn\t prec\t rec\t f1\n",
      "I-Disease\t 496\t 81\t 40\t 0.8596187\t 0.92537314\t 0.8912848\n",
      "B-Disease\t 421\t 70\t 43\t 0.8574338\t 0.9073276\t 0.88167536\n",
      "tp: 917 fp: 151 fn: 83 labels: 2\n",
      "Macro-average\t prec: 0.85852623, rec: 0.91635036, f1: 0.88649637\n",
      "Micro-average\t prec: 0.8586142, rec: 0.917, f1: 0.88684714\n"
     ]
    }
   ],
   "source": [
    "!cat ./ner_logs/MedicalNerApproach_f7726480b5ef.log"
   ]
  },
  {
   "cell_type": "code",
   "execution_count": null,
   "metadata": {
    "colab": {
     "base_uri": "https://localhost:8080/"
    },
    "id": "K_vg2Ajse6aZ",
    "outputId": "990e0287-b12a-4f6d-ed9d-7e49ec585d39"
   },
   "outputs": [
    {
     "name": "stdout",
     "output_type": "stream",
     "text": [
      "+-------+-----+----+----+-----+---------+------+------+\n",
      "| entity|   tp|  fp|  fn|total|precision|recall|    f1|\n",
      "+-------+-----+----+----+-----+---------+------+------+\n",
      "|Disease|410.0|81.0|50.0|460.0|    0.835|0.8913|0.8623|\n",
      "+-------+-----+----+----+-----+---------+------+------+\n",
      "\n",
      "+------------------+\n",
      "|             macro|\n",
      "+------------------+\n",
      "|0.8622502628811777|\n",
      "+------------------+\n",
      "\n",
      "None\n",
      "+------------------+\n",
      "|             micro|\n",
      "+------------------+\n",
      "|0.8622502628811777|\n",
      "+------------------+\n",
      "\n",
      "None\n"
     ]
    }
   ],
   "source": [
    "from sparknlp_jsl.eval import NerDLMetrics\n",
    "import pyspark.sql.functions as F\n",
    "\n",
    "pred_df = ner_model_retrained.stages[1].transform(clinical_embeddings.transform(test_data_2))\n",
    "\n",
    "evaler = NerDLMetrics(mode=\"full_chunk\", dropO=True)\n",
    "\n",
    "eval_result = evaler.computeMetricsFromDF(pred_df.select(\"label\",\"ner\"), prediction_col=\"ner\", label_col=\"label\").cache()\n",
    "\n",
    "eval_result.withColumn(\"precision\", F.round(eval_result[\"precision\"],4))\\\n",
    "    .withColumn(\"recall\", F.round(eval_result[\"recall\"],4))\\\n",
    "    .withColumn(\"f1\", F.round(eval_result[\"f1\"],4)).show(100)\n",
    "\n",
    "print(eval_result.selectExpr(\"avg(f1) as macro\").show())\n",
    "print (eval_result.selectExpr(\"sum(f1*total) as sumprod\",\"sum(total) as sumtotal\").selectExpr(\"sumprod/sumtotal as micro\").show())"
   ]
  },
  {
   "cell_type": "markdown",
   "metadata": {
    "id": "rw0jTK2RbMAi"
   },
   "source": [
    "## Now let's take a model trained on a different dataset and train on this dataset"
   ]
  },
  {
   "cell_type": "code",
   "execution_count": null,
   "metadata": {
    "colab": {
     "base_uri": "https://localhost:8080/"
    },
    "id": "U2eVAVhfUSt0",
    "outputId": "82f61d3c-ae2c-42fe-daff-66f03e0f367e"
   },
   "outputs": [
    {
     "name": "stdout",
     "output_type": "stream",
     "text": [
      "ner_jsl download started this may take some time.\n",
      "Approximate size to download 14.5 MB\n",
      "[OK!]\n"
     ]
    },
    {
     "data": {
      "text/plain": [
       "['O',\n",
       " 'B-Injury_or_Poisoning',\n",
       " 'B-Direction',\n",
       " 'B-Test',\n",
       " 'I-Route',\n",
       " 'B-Admission_Discharge',\n",
       " 'B-Death_Entity',\n",
       " 'I-Oxygen_Therapy',\n",
       " 'I-Drug_BrandName',\n",
       " 'B-Relationship_Status',\n",
       " 'B-Duration',\n",
       " 'I-Alcohol',\n",
       " 'I-Triglycerides',\n",
       " 'I-Date',\n",
       " 'B-Respiration',\n",
       " 'B-Hyperlipidemia',\n",
       " 'I-Test',\n",
       " 'B-Birth_Entity',\n",
       " 'I-VS_Finding',\n",
       " 'B-Age',\n",
       " 'I-Social_History_Header',\n",
       " 'B-Labour_Delivery',\n",
       " 'I-Medical_Device',\n",
       " 'B-Family_History_Header',\n",
       " 'B-BMI',\n",
       " 'I-Fetus_NewBorn',\n",
       " 'I-BMI',\n",
       " 'B-Temperature',\n",
       " 'I-Section_Header',\n",
       " 'I-Communicable_Disease',\n",
       " 'I-ImagingFindings',\n",
       " 'I-Psychological_Condition',\n",
       " 'I-Obesity',\n",
       " 'I-Sexually_Active_or_Sexual_Orientation',\n",
       " 'I-Modifier',\n",
       " 'B-Alcohol',\n",
       " 'I-Temperature',\n",
       " 'I-Vaccine',\n",
       " 'I-Symptom',\n",
       " 'B-Kidney_Disease',\n",
       " 'I-Pulse',\n",
       " 'B-Oncological',\n",
       " 'I-EKG_Findings',\n",
       " 'B-Medical_History_Header',\n",
       " 'I-Relationship_Status',\n",
       " 'I-Blood_Pressure',\n",
       " 'B-Cerebrovascular_Disease',\n",
       " 'I-Diabetes',\n",
       " 'B-Oxygen_Therapy',\n",
       " 'B-O2_Saturation',\n",
       " 'B-Psychological_Condition',\n",
       " 'B-Heart_Disease',\n",
       " 'I-Frequency',\n",
       " 'B-Employment',\n",
       " 'B-Obesity',\n",
       " 'B-Disease_Syndrome_Disorder',\n",
       " 'I-Oncological',\n",
       " 'B-Pregnancy',\n",
       " 'I-RelativeDate',\n",
       " 'I-Procedure',\n",
       " 'B-ImagingFindings',\n",
       " 'I-Overweight',\n",
       " 'B-Procedure',\n",
       " 'I-Labour_Delivery',\n",
       " 'B-Medical_Device',\n",
       " 'I-Family_History_Header',\n",
       " 'B-Race_Ethnicity',\n",
       " 'I-Hypertension',\n",
       " 'I-External_body_part_or_region',\n",
       " 'I-Imaging_Technique',\n",
       " 'I-Kidney_Disease',\n",
       " 'B-Section_Header',\n",
       " 'I-Medical_History_Header',\n",
       " 'I-Test_Result',\n",
       " 'I-Direction',\n",
       " 'I-Treatment',\n",
       " 'B-Symptom',\n",
       " 'I-Substance',\n",
       " 'B-Treatment',\n",
       " 'B-Substance',\n",
       " 'I-Clinical_Dept',\n",
       " 'I-Death_Entity',\n",
       " 'B-Route',\n",
       " 'B-Drug_Ingredient',\n",
       " 'I-LDL',\n",
       " 'I-Heart_Disease',\n",
       " 'I-Duration',\n",
       " 'B-Blood_Pressure',\n",
       " 'I-Respiration',\n",
       " 'B-Diet',\n",
       " 'I-Age',\n",
       " 'B-External_body_part_or_region',\n",
       " 'B-LDL',\n",
       " 'B-VS_Finding',\n",
       " 'I-O2_Saturation',\n",
       " 'I-Race_Ethnicity',\n",
       " 'I-Substance_Quantity',\n",
       " 'B-Allergen',\n",
       " 'B-EKG_Findings',\n",
       " 'B-Imaging_Technique',\n",
       " 'I-Diet',\n",
       " 'I-Gender',\n",
       " 'I-Allergen',\n",
       " 'B-Triglycerides',\n",
       " 'B-RelativeTime',\n",
       " 'I-Disease_Syndrome_Disorder',\n",
       " 'B-Gender',\n",
       " 'I-Injury_or_Poisoning',\n",
       " 'B-Pulse',\n",
       " 'I-Total_Cholesterol',\n",
       " 'B-Social_History_Header',\n",
       " 'I-Cerebrovascular_Disease',\n",
       " 'B-Substance_Quantity',\n",
       " 'B-Diabetes',\n",
       " 'I-Admission_Discharge',\n",
       " 'B-Modifier',\n",
       " 'B-Internal_organ_or_component',\n",
       " 'B-Clinical_Dept',\n",
       " 'I-Internal_organ_or_component',\n",
       " 'I-RelativeTime',\n",
       " 'I-Vital_Signs_Header',\n",
       " 'I-Hyperlipidemia',\n",
       " 'I-Smoking',\n",
       " 'I-Height',\n",
       " 'I-Drug_Ingredient',\n",
       " 'B-Form',\n",
       " 'I-Employment',\n",
       " 'B-Drug_BrandName',\n",
       " 'B-Strength',\n",
       " 'B-Fetus_NewBorn',\n",
       " 'B-RelativeDate',\n",
       " 'I-Weight',\n",
       " 'B-Height',\n",
       " 'B-Test_Result',\n",
       " 'B-Sexually_Active_or_Sexual_Orientation',\n",
       " 'B-Frequency',\n",
       " 'B-Time',\n",
       " 'I-Strength',\n",
       " 'B-Weight',\n",
       " 'B-Vaccine',\n",
       " 'I-Pregnancy',\n",
       " 'I-Form',\n",
       " 'B-Vital_Signs_Header',\n",
       " 'I-Dosage',\n",
       " 'I-Time',\n",
       " 'B-Communicable_Disease',\n",
       " 'B-Dosage',\n",
       " 'B-Overweight',\n",
       " 'B-Hypertension',\n",
       " 'B-HDL',\n",
       " 'B-Total_Cholesterol',\n",
       " 'I-HDL',\n",
       " 'B-Smoking',\n",
       " 'B-Date']"
      ]
     },
     "execution_count": 23,
     "metadata": {
      "tags": []
     },
     "output_type": "execute_result"
    }
   ],
   "source": [
    "jsl_ner = MedicalNerModel.pretrained('ner_jsl','en','clinical/models')\n",
    "\n",
    "jsl_ner.getClasses()"
   ]
  },
  {
   "cell_type": "markdown",
   "metadata": {
    "id": "EL0NQ88ofMur"
   },
   "source": [
    "### Now train a model using this model as base"
   ]
  },
  {
   "cell_type": "code",
   "execution_count": null,
   "metadata": {
    "id": "f-zM49XJbb2j"
   },
   "outputs": [],
   "source": [
    "\n",
    "nerTagger = MedicalNerApproach()\\\n",
    "      .setInputCols([\"sentence\", \"token\", \"embeddings\"])\\\n",
    "      .setLabelColumn(\"label\")\\\n",
    "      .setOutputCol(\"ner\")\\\n",
    "      .setMaxEpochs(2)\\\n",
    "      .setLr(0.003)\\\n",
    "      .setBatchSize(8)\\\n",
    "      .setRandomSeed(0)\\\n",
    "      .setVerbose(1)\\\n",
    "      .setEvaluationLogExtended(True) \\\n",
    "      .setEnableOutputLogs(True)\\\n",
    "      .setIncludeConfidence(True)\\\n",
    "      .setTestDataset('/content/test_2.parquet')\\\n",
    "      .setOutputLogsPath('ner_logs')\\\n",
    "      .setGraphFolder('medical_ner_graphs')\\\n",
    "      .setPretrainedModelPath(\"/root/cache_pretrained/ner_jsl_en_3.1.0_2.4_1624566960534\")\\\n",
    "      .setOverrideExistingTags(True) # since the tags do not align, set this flag to true\n",
    "    \n",
    "# do hyperparameter by tuning the params above (max epoch, LR, dropout etc.) to get better results\n",
    "ner_pipeline = Pipeline(stages=[\n",
    "      clinical_embeddings,\n",
    "      nerTagger\n",
    " ])"
   ]
  },
  {
   "cell_type": "code",
   "execution_count": null,
   "metadata": {
    "colab": {
     "base_uri": "https://localhost:8080/"
    },
    "id": "dXKmO-MJbb5N",
    "outputId": "fbe64b0f-b9ee-4e9c-8165-0d44b2089f3f"
   },
   "outputs": [
    {
     "name": "stdout",
     "output_type": "stream",
     "text": [
      "CPU times: user 3.66 s, sys: 360 ms, total: 4.02 s\n",
      "Wall time: 11min 35s\n"
     ]
    }
   ],
   "source": [
    "\n",
    "%%time\n",
    "ner_jsl_retrained = ner_pipeline.fit(training_data)\n"
   ]
  },
  {
   "cell_type": "code",
   "execution_count": null,
   "metadata": {
    "colab": {
     "base_uri": "https://localhost:8080/"
    },
    "id": "ra_btnoXgvnF",
    "outputId": "749fbc03-feb3-4bb7-c90e-de244950ce73"
   },
   "outputs": [
    {
     "name": "stdout",
     "output_type": "stream",
     "text": [
      "Name of the selected graph: pretrained graph\n",
      "Training started - total epochs: 2 - lr: 0.003 - batch size: 8 - labels: 3 - chars: 84 - training examples: 6347\n",
      "\n",
      "\n",
      "Epoch 1/2 started, lr: 0.003, dataset size: 6347\n",
      "\n",
      "\n",
      "Epoch 1/2 - 296.37s - loss: 2145.1052 - batches: 795\n",
      "Quality on test dataset: \n",
      "time to finish evaluation: 16.62s\n",
      "label\t tp\t fp\t fn\t prec\t rec\t f1\n",
      "I-Disease\t 431\t 55\t 105\t 0.8868313\t 0.8041045\t 0.8434442\n",
      "B-Disease\t 394\t 87\t 70\t 0.81912684\t 0.8491379\t 0.8338624\n",
      "tp: 825 fp: 142 fn: 175 labels: 2\n",
      "Macro-average\t prec: 0.85297906, rec: 0.8266212, f1: 0.83959335\n",
      "Micro-average\t prec: 0.85315406, rec: 0.825, f1: 0.8388409\n",
      "\n",
      "\n",
      "Epoch 2/2 started, lr: 0.0029850747, dataset size: 6347\n",
      "\n",
      "\n",
      "Epoch 2/2 - 319.75s - loss: 985.34314 - batches: 795\n",
      "Quality on test dataset: \n",
      "time to finish evaluation: 15.92s\n",
      "label\t tp\t fp\t fn\t prec\t rec\t f1\n",
      "I-Disease\t 442\t 69\t 94\t 0.8649706\t 0.82462686\t 0.8443171\n",
      "B-Disease\t 396\t 70\t 68\t 0.8497854\t 0.8534483\t 0.85161287\n",
      "tp: 838 fp: 139 fn: 162 labels: 2\n",
      "Macro-average\t prec: 0.857378, rec: 0.83903754, f1: 0.84810865\n",
      "Micro-average\t prec: 0.85772777, rec: 0.838, f1: 0.8477491\n"
     ]
    }
   ],
   "source": [
    "!cat ./ner_logs/MedicalNerApproach_880049ba07d7.log"
   ]
  },
  {
   "cell_type": "code",
   "execution_count": null,
   "metadata": {
    "colab": {
     "base_uri": "https://localhost:8080/"
    },
    "id": "yKeO-Kqcbb7i",
    "outputId": "666f8b59-47c7-40b5-ef76-9376eb86e081"
   },
   "outputs": [
    {
     "name": "stdout",
     "output_type": "stream",
     "text": [
      "+-------+-----+----+----+-----+---------+------+-----+\n",
      "| entity|   tp|  fp|  fn|total|precision|recall|   f1|\n",
      "+-------+-----+----+----+-----+---------+------+-----+\n",
      "|Disease|388.0|78.0|72.0|460.0|   0.8326|0.8435|0.838|\n",
      "+-------+-----+----+----+-----+---------+------+-----+\n",
      "\n",
      "+-----------------+\n",
      "|            macro|\n",
      "+-----------------+\n",
      "|0.838012958963283|\n",
      "+-----------------+\n",
      "\n",
      "None\n",
      "+------------------+\n",
      "|             micro|\n",
      "+------------------+\n",
      "|0.8380129589632831|\n",
      "+------------------+\n",
      "\n",
      "None\n"
     ]
    }
   ],
   "source": [
    "from sparknlp_jsl.eval import NerDLMetrics\n",
    "import pyspark.sql.functions as F\n",
    "\n",
    "pred_df = ner_jsl_retrained.stages[1].transform(clinical_embeddings.transform(test_data_2))\n",
    "\n",
    "evaler = NerDLMetrics(mode=\"full_chunk\", dropO=True)\n",
    "\n",
    "eval_result = evaler.computeMetricsFromDF(pred_df.select(\"label\",\"ner\"), prediction_col=\"ner\", label_col=\"label\").cache()\n",
    "\n",
    "eval_result.withColumn(\"precision\", F.round(eval_result[\"precision\"],4))\\\n",
    "    .withColumn(\"recall\", F.round(eval_result[\"recall\"],4))\\\n",
    "    .withColumn(\"f1\", F.round(eval_result[\"f1\"],4)).show(100)\n",
    "\n",
    "print(eval_result.selectExpr(\"avg(f1) as macro\").show())\n",
    "print (eval_result.selectExpr(\"sum(f1*total) as sumprod\",\"sum(total) as sumtotal\").selectExpr(\"sumprod/sumtotal as micro\").show())"
   ]
  }
 ],
 "metadata": {
  "colab": {
   "collapsed_sections": [],
   "name": "1.5.Resume_MedicalNer_Model_Training.ipynb",
   "provenance": []
  },
  "kernelspec": {
   "display_name": "Python 3 (ipykernel)",
   "language": "python",
   "name": "python3"
  },
  "language_info": {
   "codemirror_mode": {
    "name": "ipython",
    "version": 3
   },
   "file_extension": ".py",
   "mimetype": "text/x-python",
   "name": "python",
   "nbconvert_exporter": "python",
   "pygments_lexer": "ipython3",
   "version": "3.7.6"
  }
 },
 "nbformat": 4,
 "nbformat_minor": 1
}

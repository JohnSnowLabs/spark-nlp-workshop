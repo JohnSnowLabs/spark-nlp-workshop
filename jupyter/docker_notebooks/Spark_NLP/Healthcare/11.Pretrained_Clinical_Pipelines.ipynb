{
 "cells": [
  {
   "cell_type": "markdown",
   "metadata": {
    "id": "SymssfV7IcQ7"
   },
   "source": [
    "![JohnSnowLabs](https://nlp.johnsnowlabs.com/assets/images/logo.png)"
   ]
  },
  {
   "cell_type": "markdown",
   "metadata": {
    "id": "MCjxEZg_IfJo"
   },
   "source": [
    "[![Open In Colab](https://colab.research.google.com/assets/colab-badge.svg)](https://colab.research.google.com/github/JohnSnowLabs/spark-nlp-workshop/blob/master/tutorials/Certification_Trainings/Healthcare/11.Pretrained_Clinical_Pipelines.ipynb)"
   ]
  },
  {
   "cell_type": "markdown",
   "metadata": {
    "id": "v4uN8ZP_Itdo"
   },
   "source": [
    "# 11. Pretrained_Clinical_Pipelines"
   ]
  },
  {
   "cell_type": "code",
   "execution_count": null,
   "metadata": {
    "id": "R6iawCF1hDtv"
   },
   "outputs": [],
   "source": [
    "import os\n",
    "\n",
    "jsl_secret = os.getenv('SECRET')\n",
    "\n",
    "import sparknlp\n",
    "sparknlp_version = sparknlp.version()\n",
    "import sparknlp_jsl\n",
    "jsl_version = sparknlp_jsl.version()\n",
    "\n",
    "print (jsl_secret)"
   ]
  },
  {
   "cell_type": "code",
   "execution_count": null,
   "metadata": {
    "colab": {
     "base_uri": "https://localhost:8080/"
    },
    "id": "xzNgN33jNHTe",
    "outputId": "673442cd-21ec-4262-9a1c-5736bd515883"
   },
   "outputs": [
    {
     "name": "stdout",
     "output_type": "stream",
     "text": [
      "Spark NLP Version : 3.1.2\n",
      "Spark NLP_JSL Version : 3.1.2\n"
     ]
    }
   ],
   "source": [
    "import json\n",
    "import os\n",
    "from pyspark.ml import Pipeline\n",
    "from pyspark.sql import SparkSession\n",
    "\n",
    "from sparknlp.annotator import *\n",
    "from sparknlp_jsl.annotator import *\n",
    "from sparknlp.base import *\n",
    "import sparknlp_jsl\n",
    "import sparknlp\n",
    "\n",
    "params = {\"spark.driver.memory\":\"16G\",\n",
    "\"spark.kryoserializer.buffer.max\":\"2000M\",\n",
    "\"spark.driver.maxResultSize\":\"2000M\"}\n",
    "\n",
    "spark = sparknlp_jsl.start(jsl_secret,params=params)\n",
    "\n",
    "print (\"Spark NLP Version :\", sparknlp.version())\n",
    "print (\"Spark NLP_JSL Version :\", sparknlp_jsl.version())"
   ]
  },
  {
   "cell_type": "markdown",
   "metadata": {
    "id": "9CzSCbXSKLSC"
   },
   "source": [
    "\n",
    "<b>  if you want to work with Spark 2.3 </b>\n",
    "```\n",
    "import os\n",
    "\n",
    "# Install java\n",
    "! apt-get update -qq\n",
    "! apt-get install -y openjdk-8-jdk-headless -qq > /dev/null\n",
    "\n",
    "!wget -q https://archive.apache.org/dist/spark/spark-2.3.0/spark-2.3.0-bin-hadoop2.7.tgz\n",
    "\n",
    "!tar xf spark-2.3.0-bin-hadoop2.7.tgz\n",
    "!pip install -q findspark\n",
    "\n",
    "os.environ[\"JAVA_HOME\"] = \"/usr/lib/jvm/java-8-openjdk-amd64\"\n",
    "os.environ[\"PATH\"] = os.environ[\"JAVA_HOME\"] + \"/bin:\" + os.environ[\"PATH\"]\n",
    "os.environ[\"SPARK_HOME\"] = \"/content/spark-2.3.0-bin-hadoop2.7\"\n",
    "! java -version\n",
    "\n",
    "import findspark\n",
    "findspark.init()\n",
    "from pyspark.sql import SparkSession\n",
    "\n",
    "! pip install --ignore-installed -q spark-nlp==2.7.5\n",
    "import sparknlp\n",
    "\n",
    "spark = sparknlp.start(spark23=True)\n",
    "```"
   ]
  },
  {
   "cell_type": "markdown",
   "metadata": {
    "id": "hmhC6kMHKYyh"
   },
   "source": [
    "## Pretrained Pipelines"
   ]
  },
  {
   "cell_type": "markdown",
   "metadata": {
    "id": "dLFDvuupKeGH"
   },
   "source": [
    "In order to save you from creating a pipeline from scratch, Spark NLP also has a pre-trained pipelines that are already fitted using certain annotators and transformers according to various use cases.\n",
    "\n",
    "Here is the list of clinical pre-trained pipelines: \n",
    "\n",
    "> These clinical pipelines are trained with `embeddings_healthcare_100d` and accuracies might be 1-2% lower than `embeddings_clinical` which is 200d.\n",
    "\n",
    "**1.   explain_clinical_doc_carp** :\n",
    "\n",
    "> a pipeline with `ner_clinical`, `assertion_dl`, `re_clinical` and `ner_posology`. It will extract clinical and medication entities, assign assertion status and find relationships between clinical entities.\n",
    "\n",
    "**2.   explain_clinical_doc_era** :\n",
    "\n",
    "> a pipeline with `ner_clinical_events`, `assertion_dl` and `re_temporal_events_clinical`. It will extract clinical entities, assign assertion status and find temporal relationships between clinical entities.\n",
    "\n",
    "**3.   recognize_entities_posology** :\n",
    "\n",
    "> a pipeline with `ner_posology`. It will only extract medication entities.\n",
    "\n",
    "\n",
    "*Since 3rd pipeline is already a subset of 1st and 2nd pipeline, we will only cover the first two pipelines in this notebook.*\n",
    "\n",
    "**4.   explain_clinical_doc_ade** :\n",
    "\n",
    "> a pipeline for `Adverse Drug Events (ADE)` with `ner_ade_biobert`, `assertiondl_biobert`, `classifierdl_ade_conversational_biobert` and `re_ade_biobert`. It will classify the document, extract `ADE` and `DRUG` entities, assign assertion status to `ADE` entities, and relate them with `DRUG` entities, then assign ADE status to a text (`True` means ADE, `False` means not related to ADE).\n",
    "\n",
    "**letter codes in the naming conventions:**\n",
    "\n",
    "> c : ner_clinical\n",
    "\n",
    "> e : ner_clinical_events\n",
    "\n",
    "> r : relation extraction\n",
    "\n",
    "> p : ner_posology\n",
    "\n",
    "> a : assertion\n",
    "\n",
    "> ade : adverse drug events\n",
    "\n",
    "**Relation Extraction types:**\n",
    "\n",
    "`re_clinical` >> TrIP (improved), TrWP (worsened), TrCP (caused problem), TrAP (administered), TrNAP (avoided), TeRP (revealed problem), TeCP (investigate problem), PIP (problems related)\n",
    "\n",
    "`re_temporal_events_clinical` >> `AFTER`, `BEFORE`, `OVERLAP`\n",
    "\n",
    "**5.  icd10cm_snomed_mapping:**\n",
    "\n",
    "> a pipeline converts ICD10CM codes to Snomed codes. Just feed a comma or white space delimited ICD10CM codes and it will return the corresponding SNOMED codes as a list.\n",
    "\n",
    "**6.  snomed_icd10cm_mapping:**\n",
    "\n",
    "> a pipeline converts Snomed codes to ICD10CM codes. Just feed a comma or white space delimited SNOMED codes and it will return the corresponding ICD10CM codes as a list.\n"
   ]
  },
  {
   "cell_type": "markdown",
   "metadata": {
    "id": "pK2Tt0ZuRy2B"
   },
   "source": [
    "## 1.explain_clinical_doc_carp \n",
    "\n",
    "a pipeline with ner_clinical, assertion_dl, re_clinical and ner_posology. It will extract clinical and medication entities, assign assertion status and find relationships between clinical entities."
   ]
  },
  {
   "cell_type": "code",
   "execution_count": null,
   "metadata": {
    "id": "Y1di9iuJMiXl"
   },
   "outputs": [],
   "source": [
    "from sparknlp.pretrained import PretrainedPipeline"
   ]
  },
  {
   "cell_type": "code",
   "execution_count": null,
   "metadata": {
    "colab": {
     "base_uri": "https://localhost:8080/"
    },
    "id": "4rg3oe37R1wX",
    "outputId": "a5a3620d-0f88-4669-bd2e-f8c643c922e4"
   },
   "outputs": [
    {
     "name": "stdout",
     "output_type": "stream",
     "text": [
      "explain_clinical_doc_carp download started this may take some time.\n",
      "Approx size to download 1.6 GB\n",
      "[OK!]\n"
     ]
    }
   ],
   "source": [
    "pipeline = PretrainedPipeline('explain_clinical_doc_carp', 'en', 'clinical/models')"
   ]
  },
  {
   "cell_type": "code",
   "execution_count": null,
   "metadata": {
    "colab": {
     "base_uri": "https://localhost:8080/"
    },
    "id": "V7OaKtxjvA7f",
    "outputId": "b0b8e571-5256-4789-c04b-ddf8075e970d"
   },
   "outputs": [
    {
     "data": {
      "text/plain": [
       "[DocumentAssembler_9619f8fd837c,\n",
       " SentenceDetector_c0b14c755033,\n",
       " REGEX_TOKENIZER_352efbad7483,\n",
       " POS_6f55785005bf,\n",
       " dependency_d5a8da6c9093,\n",
       " WORD_EMBEDDINGS_MODEL_9004b1d00302,\n",
       " MedicalNerModel_cd5ce67b529f,\n",
       " NerConverter_89fec9d64d2a,\n",
       " MedicalNerModel_4a303d875127,\n",
       " NerConverter_50c49f50f3ec,\n",
       " ASSERTION_DL_25881ab6309e,\n",
       " RelationExtractionModel_9c255241fec3]"
      ]
     },
     "execution_count": 7,
     "metadata": {
      "tags": []
     },
     "output_type": "execute_result"
    }
   ],
   "source": [
    "pipeline.model.stages"
   ]
  },
  {
   "cell_type": "code",
   "execution_count": null,
   "metadata": {
    "id": "d9eRK3IKUurq"
   },
   "outputs": [],
   "source": [
    "# Load pretrained pipeline from local disk:\n",
    "\n",
    "# >> pipeline_local = PretrainedPipeline.from_disk('/root/cache_pretrained/explain_clinical_doc_carp_en_2.5.5_2.4_1597841630062')"
   ]
  },
  {
   "cell_type": "code",
   "execution_count": null,
   "metadata": {
    "colab": {
     "base_uri": "https://localhost:8080/"
    },
    "id": "3xmhwW2MVKYa",
    "outputId": "732aaff0-050b-4fae-914a-a3d965d2ddc8"
   },
   "outputs": [
    {
     "data": {
      "text/plain": [
       "dict_keys(['sentences', 'clinical_ner_tags', 'document', 'clinical_ner_chunks', 'assertion', 'clinical_relations', 'posology_ner_tags', 'tokens', 'posology_ner_chunks', 'embeddings', 'pos_tags', 'dependencies'])"
      ]
     },
     "execution_count": 8,
     "metadata": {
      "tags": []
     },
     "output_type": "execute_result"
    }
   ],
   "source": [
    "text =\"\"\"A 28-year-old female with a history of gestational diabetes mellitus, used to take metformin 1000 mg two times a day, presented with a one-week history of polyuria , polydipsia , poor appetite , and vomiting .\n",
    "She was seen by the endocrinology service and discharged on 40 units of insulin glargine at night, 12 units of insulin lispro with meals.\n",
    "\"\"\"\n",
    "\n",
    "annotations = pipeline.annotate(text)\n",
    "\n",
    "annotations.keys()\n"
   ]
  },
  {
   "cell_type": "code",
   "execution_count": null,
   "metadata": {
    "colab": {
     "base_uri": "https://localhost:8080/",
     "height": 653
    },
    "id": "X4z-RbyZVvgR",
    "outputId": "6ffdd300-7346-4fd2-e43a-ecb074a38d26"
   },
   "outputs": [
    {
     "data": {
      "text/html": [
       "<div>\n",
       "<style scoped>\n",
       "    .dataframe tbody tr th:only-of-type {\n",
       "        vertical-align: middle;\n",
       "    }\n",
       "\n",
       "    .dataframe tbody tr th {\n",
       "        vertical-align: top;\n",
       "    }\n",
       "\n",
       "    .dataframe thead th {\n",
       "        text-align: right;\n",
       "    }\n",
       "</style>\n",
       "<table border=\"1\" class=\"dataframe\">\n",
       "  <thead>\n",
       "    <tr style=\"text-align: right;\">\n",
       "      <th></th>\n",
       "      <th>tokens</th>\n",
       "      <th>clinical_ner_tags</th>\n",
       "      <th>posology_ner_tags</th>\n",
       "      <th>POS_tags</th>\n",
       "      <th>dependencies</th>\n",
       "    </tr>\n",
       "  </thead>\n",
       "  <tbody>\n",
       "    <tr>\n",
       "      <th>0</th>\n",
       "      <td>A</td>\n",
       "      <td>O</td>\n",
       "      <td>O</td>\n",
       "      <td>DD</td>\n",
       "      <td>female</td>\n",
       "    </tr>\n",
       "    <tr>\n",
       "      <th>1</th>\n",
       "      <td>28-year-old</td>\n",
       "      <td>O</td>\n",
       "      <td>O</td>\n",
       "      <td>NN</td>\n",
       "      <td>female</td>\n",
       "    </tr>\n",
       "    <tr>\n",
       "      <th>2</th>\n",
       "      <td>female</td>\n",
       "      <td>O</td>\n",
       "      <td>O</td>\n",
       "      <td>NN</td>\n",
       "      <td>ROOT</td>\n",
       "    </tr>\n",
       "    <tr>\n",
       "      <th>3</th>\n",
       "      <td>with</td>\n",
       "      <td>O</td>\n",
       "      <td>O</td>\n",
       "      <td>II</td>\n",
       "      <td>history</td>\n",
       "    </tr>\n",
       "    <tr>\n",
       "      <th>4</th>\n",
       "      <td>a</td>\n",
       "      <td>O</td>\n",
       "      <td>O</td>\n",
       "      <td>DD</td>\n",
       "      <td>history</td>\n",
       "    </tr>\n",
       "    <tr>\n",
       "      <th>5</th>\n",
       "      <td>history</td>\n",
       "      <td>O</td>\n",
       "      <td>O</td>\n",
       "      <td>NN</td>\n",
       "      <td>female</td>\n",
       "    </tr>\n",
       "    <tr>\n",
       "      <th>6</th>\n",
       "      <td>of</td>\n",
       "      <td>O</td>\n",
       "      <td>O</td>\n",
       "      <td>II</td>\n",
       "      <td>history</td>\n",
       "    </tr>\n",
       "    <tr>\n",
       "      <th>7</th>\n",
       "      <td>gestational</td>\n",
       "      <td>B-PROBLEM</td>\n",
       "      <td>O</td>\n",
       "      <td>JJ</td>\n",
       "      <td>of</td>\n",
       "    </tr>\n",
       "    <tr>\n",
       "      <th>8</th>\n",
       "      <td>diabetes</td>\n",
       "      <td>I-PROBLEM</td>\n",
       "      <td>O</td>\n",
       "      <td>NN</td>\n",
       "      <td>mellitus</td>\n",
       "    </tr>\n",
       "    <tr>\n",
       "      <th>9</th>\n",
       "      <td>mellitus</td>\n",
       "      <td>I-PROBLEM</td>\n",
       "      <td>O</td>\n",
       "      <td>NN</td>\n",
       "      <td>gestational</td>\n",
       "    </tr>\n",
       "    <tr>\n",
       "      <th>10</th>\n",
       "      <td>,</td>\n",
       "      <td>O</td>\n",
       "      <td>O</td>\n",
       "      <td>NN</td>\n",
       "      <td>used</td>\n",
       "    </tr>\n",
       "    <tr>\n",
       "      <th>11</th>\n",
       "      <td>used</td>\n",
       "      <td>O</td>\n",
       "      <td>O</td>\n",
       "      <td>VVN</td>\n",
       "      <td>mellitus</td>\n",
       "    </tr>\n",
       "    <tr>\n",
       "      <th>12</th>\n",
       "      <td>to</td>\n",
       "      <td>O</td>\n",
       "      <td>O</td>\n",
       "      <td>TO</td>\n",
       "      <td>take</td>\n",
       "    </tr>\n",
       "    <tr>\n",
       "      <th>13</th>\n",
       "      <td>take</td>\n",
       "      <td>O</td>\n",
       "      <td>O</td>\n",
       "      <td>VVI</td>\n",
       "      <td>used</td>\n",
       "    </tr>\n",
       "    <tr>\n",
       "      <th>14</th>\n",
       "      <td>metformin</td>\n",
       "      <td>B-TREATMENT</td>\n",
       "      <td>B-DRUG</td>\n",
       "      <td>NN</td>\n",
       "      <td>take</td>\n",
       "    </tr>\n",
       "    <tr>\n",
       "      <th>15</th>\n",
       "      <td>1000</td>\n",
       "      <td>O</td>\n",
       "      <td>B-STRENGTH</td>\n",
       "      <td>MC</td>\n",
       "      <td>metformin</td>\n",
       "    </tr>\n",
       "    <tr>\n",
       "      <th>16</th>\n",
       "      <td>mg</td>\n",
       "      <td>O</td>\n",
       "      <td>I-STRENGTH</td>\n",
       "      <td>NN</td>\n",
       "      <td>1000</td>\n",
       "    </tr>\n",
       "    <tr>\n",
       "      <th>17</th>\n",
       "      <td>two</td>\n",
       "      <td>O</td>\n",
       "      <td>B-FREQUENCY</td>\n",
       "      <td>MC</td>\n",
       "      <td>times</td>\n",
       "    </tr>\n",
       "    <tr>\n",
       "      <th>18</th>\n",
       "      <td>times</td>\n",
       "      <td>O</td>\n",
       "      <td>I-FREQUENCY</td>\n",
       "      <td>NNS</td>\n",
       "      <td>mg</td>\n",
       "    </tr>\n",
       "    <tr>\n",
       "      <th>19</th>\n",
       "      <td>a</td>\n",
       "      <td>O</td>\n",
       "      <td>I-FREQUENCY</td>\n",
       "      <td>DD</td>\n",
       "      <td>day</td>\n",
       "    </tr>\n",
       "  </tbody>\n",
       "</table>\n",
       "</div>"
      ],
      "text/plain": [
       "         tokens clinical_ner_tags posology_ner_tags POS_tags dependencies\n",
       "0             A                 O                 O       DD       female\n",
       "1   28-year-old                 O                 O       NN       female\n",
       "2        female                 O                 O       NN         ROOT\n",
       "3          with                 O                 O       II      history\n",
       "4             a                 O                 O       DD      history\n",
       "5       history                 O                 O       NN       female\n",
       "6            of                 O                 O       II      history\n",
       "7   gestational         B-PROBLEM                 O       JJ           of\n",
       "8      diabetes         I-PROBLEM                 O       NN     mellitus\n",
       "9      mellitus         I-PROBLEM                 O       NN  gestational\n",
       "10            ,                 O                 O       NN         used\n",
       "11         used                 O                 O      VVN     mellitus\n",
       "12           to                 O                 O       TO         take\n",
       "13         take                 O                 O      VVI         used\n",
       "14    metformin       B-TREATMENT            B-DRUG       NN         take\n",
       "15         1000                 O        B-STRENGTH       MC    metformin\n",
       "16           mg                 O        I-STRENGTH       NN         1000\n",
       "17          two                 O       B-FREQUENCY       MC        times\n",
       "18        times                 O       I-FREQUENCY      NNS           mg\n",
       "19            a                 O       I-FREQUENCY       DD          day"
      ]
     },
     "execution_count": 9,
     "metadata": {
      "tags": []
     },
     "output_type": "execute_result"
    }
   ],
   "source": [
    "import pandas as pd\n",
    "\n",
    "rows = list(zip(annotations['tokens'], annotations['clinical_ner_tags'], annotations['posology_ner_tags'], annotations['pos_tags'], annotations['dependencies']))\n",
    "\n",
    "df = pd.DataFrame(rows, columns = ['tokens','clinical_ner_tags','posology_ner_tags','POS_tags','dependencies'])\n",
    "\n",
    "df.head(20)"
   ]
  },
  {
   "cell_type": "code",
   "execution_count": null,
   "metadata": {
    "colab": {
     "base_uri": "https://localhost:8080/",
     "height": 170
    },
    "id": "5Hlwc2M2Xl_y",
    "outputId": "f56a546f-2020-4ed1-d581-ec0ccca61aa2"
   },
   "outputs": [
    {
     "data": {
      "text/html": [
       "<div>\n",
       "<style scoped>\n",
       "    .dataframe tbody tr th:only-of-type {\n",
       "        vertical-align: middle;\n",
       "    }\n",
       "\n",
       "    .dataframe tbody tr th {\n",
       "        vertical-align: top;\n",
       "    }\n",
       "\n",
       "    .dataframe thead th {\n",
       "        text-align: right;\n",
       "    }\n",
       "</style>\n",
       "<table border=\"1\" class=\"dataframe\">\n",
       "  <thead>\n",
       "    <tr style=\"text-align: right;\">\n",
       "      <th></th>\n",
       "      <th>chunks</th>\n",
       "      <th>entities</th>\n",
       "      <th>assertion</th>\n",
       "    </tr>\n",
       "  </thead>\n",
       "  <tbody>\n",
       "    <tr>\n",
       "      <th>0</th>\n",
       "      <td>a headache</td>\n",
       "      <td>PROBLEM</td>\n",
       "      <td>present</td>\n",
       "    </tr>\n",
       "    <tr>\n",
       "      <th>1</th>\n",
       "      <td>anxious</td>\n",
       "      <td>PROBLEM</td>\n",
       "      <td>conditional</td>\n",
       "    </tr>\n",
       "    <tr>\n",
       "      <th>2</th>\n",
       "      <td>alopecia</td>\n",
       "      <td>PROBLEM</td>\n",
       "      <td>absent</td>\n",
       "    </tr>\n",
       "    <tr>\n",
       "      <th>3</th>\n",
       "      <td>pain</td>\n",
       "      <td>PROBLEM</td>\n",
       "      <td>absent</td>\n",
       "    </tr>\n",
       "  </tbody>\n",
       "</table>\n",
       "</div>"
      ],
      "text/plain": [
       "       chunks entities    assertion\n",
       "0  a headache  PROBLEM      present\n",
       "1     anxious  PROBLEM  conditional\n",
       "2    alopecia  PROBLEM       absent\n",
       "3        pain  PROBLEM       absent"
      ]
     },
     "execution_count": 10,
     "metadata": {
      "tags": []
     },
     "output_type": "execute_result"
    }
   ],
   "source": [
    "text = 'Patient has a headache for the last 2 weeks and appears anxious when she walks fast. No alopecia noted. She denies pain'\n",
    "\n",
    "result = pipeline.fullAnnotate(text)[0]\n",
    "\n",
    "chunks=[]\n",
    "entities=[]\n",
    "status=[]\n",
    "\n",
    "for n,m in zip(result['clinical_ner_chunks'],result['assertion']):\n",
    "    \n",
    "    chunks.append(n.result)\n",
    "    entities.append(n.metadata['entity']) \n",
    "    status.append(m.result)\n",
    "        \n",
    "df = pd.DataFrame({'chunks':chunks, 'entities':entities, 'assertion':status})\n",
    "\n",
    "df"
   ]
  },
  {
   "cell_type": "code",
   "execution_count": null,
   "metadata": {
    "colab": {
     "base_uri": "https://localhost:8080/",
     "height": 502
    },
    "id": "wF9PCC18Y7eE",
    "outputId": "1fe46adf-3895-41a7-8945-88c6a7233ffd"
   },
   "outputs": [
    {
     "data": {
      "text/html": [
       "<div>\n",
       "<style scoped>\n",
       "    .dataframe tbody tr th:only-of-type {\n",
       "        vertical-align: middle;\n",
       "    }\n",
       "\n",
       "    .dataframe tbody tr th {\n",
       "        vertical-align: top;\n",
       "    }\n",
       "\n",
       "    .dataframe thead th {\n",
       "        text-align: right;\n",
       "    }\n",
       "</style>\n",
       "<table border=\"1\" class=\"dataframe\">\n",
       "  <thead>\n",
       "    <tr style=\"text-align: right;\">\n",
       "      <th></th>\n",
       "      <th>chunks</th>\n",
       "      <th>begin</th>\n",
       "      <th>end</th>\n",
       "      <th>entities</th>\n",
       "    </tr>\n",
       "  </thead>\n",
       "  <tbody>\n",
       "    <tr>\n",
       "      <th>0</th>\n",
       "      <td>1 unit</td>\n",
       "      <td>28</td>\n",
       "      <td>33</td>\n",
       "      <td>DOSAGE</td>\n",
       "    </tr>\n",
       "    <tr>\n",
       "      <th>1</th>\n",
       "      <td>Advil</td>\n",
       "      <td>38</td>\n",
       "      <td>42</td>\n",
       "      <td>DRUG</td>\n",
       "    </tr>\n",
       "    <tr>\n",
       "      <th>2</th>\n",
       "      <td>for 5 days</td>\n",
       "      <td>44</td>\n",
       "      <td>53</td>\n",
       "      <td>DURATION</td>\n",
       "    </tr>\n",
       "    <tr>\n",
       "      <th>3</th>\n",
       "      <td>1 unit</td>\n",
       "      <td>96</td>\n",
       "      <td>101</td>\n",
       "      <td>DOSAGE</td>\n",
       "    </tr>\n",
       "    <tr>\n",
       "      <th>4</th>\n",
       "      <td>Metformin</td>\n",
       "      <td>106</td>\n",
       "      <td>114</td>\n",
       "      <td>DRUG</td>\n",
       "    </tr>\n",
       "    <tr>\n",
       "      <th>5</th>\n",
       "      <td>daily</td>\n",
       "      <td>116</td>\n",
       "      <td>120</td>\n",
       "      <td>FREQUENCY</td>\n",
       "    </tr>\n",
       "    <tr>\n",
       "      <th>6</th>\n",
       "      <td>40 units</td>\n",
       "      <td>190</td>\n",
       "      <td>197</td>\n",
       "      <td>DOSAGE</td>\n",
       "    </tr>\n",
       "    <tr>\n",
       "      <th>7</th>\n",
       "      <td>insulin glargine</td>\n",
       "      <td>202</td>\n",
       "      <td>217</td>\n",
       "      <td>DRUG</td>\n",
       "    </tr>\n",
       "    <tr>\n",
       "      <th>8</th>\n",
       "      <td>at night</td>\n",
       "      <td>219</td>\n",
       "      <td>226</td>\n",
       "      <td>FREQUENCY</td>\n",
       "    </tr>\n",
       "    <tr>\n",
       "      <th>9</th>\n",
       "      <td>12 units</td>\n",
       "      <td>231</td>\n",
       "      <td>238</td>\n",
       "      <td>DOSAGE</td>\n",
       "    </tr>\n",
       "    <tr>\n",
       "      <th>10</th>\n",
       "      <td>insulin lispro</td>\n",
       "      <td>243</td>\n",
       "      <td>256</td>\n",
       "      <td>DRUG</td>\n",
       "    </tr>\n",
       "    <tr>\n",
       "      <th>11</th>\n",
       "      <td>with meals</td>\n",
       "      <td>258</td>\n",
       "      <td>267</td>\n",
       "      <td>FREQUENCY</td>\n",
       "    </tr>\n",
       "    <tr>\n",
       "      <th>12</th>\n",
       "      <td>metformin</td>\n",
       "      <td>275</td>\n",
       "      <td>283</td>\n",
       "      <td>DRUG</td>\n",
       "    </tr>\n",
       "    <tr>\n",
       "      <th>13</th>\n",
       "      <td>1000 mg</td>\n",
       "      <td>285</td>\n",
       "      <td>291</td>\n",
       "      <td>STRENGTH</td>\n",
       "    </tr>\n",
       "    <tr>\n",
       "      <th>14</th>\n",
       "      <td>two times a day</td>\n",
       "      <td>293</td>\n",
       "      <td>307</td>\n",
       "      <td>FREQUENCY</td>\n",
       "    </tr>\n",
       "  </tbody>\n",
       "</table>\n",
       "</div>"
      ],
      "text/plain": [
       "              chunks  begin  end   entities\n",
       "0             1 unit     28   33     DOSAGE\n",
       "1              Advil     38   42       DRUG\n",
       "2         for 5 days     44   53   DURATION\n",
       "3             1 unit     96  101     DOSAGE\n",
       "4          Metformin    106  114       DRUG\n",
       "5              daily    116  120  FREQUENCY\n",
       "6           40 units    190  197     DOSAGE\n",
       "7   insulin glargine    202  217       DRUG\n",
       "8           at night    219  226  FREQUENCY\n",
       "9           12 units    231  238     DOSAGE\n",
       "10    insulin lispro    243  256       DRUG\n",
       "11        with meals    258  267  FREQUENCY\n",
       "12         metformin    275  283       DRUG\n",
       "13           1000 mg    285  291   STRENGTH\n",
       "14   two times a day    293  307  FREQUENCY"
      ]
     },
     "execution_count": 11,
     "metadata": {
      "tags": []
     },
     "output_type": "execute_result"
    }
   ],
   "source": [
    "text = \"\"\"\n",
    "The patient was prescribed 1 unit of Advil for 5 days after meals. The patient was also \n",
    "given 1 unit of Metformin daily.\n",
    "He was seen by the endocrinology service and she was discharged on 40 units of insulin glargine at night , \n",
    "12 units of insulin lispro with meals , and metformin 1000 mg two times a day.\n",
    "\"\"\"\n",
    "\n",
    "result = pipeline.fullAnnotate(text)[0]\n",
    "\n",
    "chunks=[]\n",
    "entities=[]\n",
    "begins=[]\n",
    "ends=[]\n",
    "\n",
    "for n in result['posology_ner_chunks']:\n",
    "    \n",
    "    chunks.append(n.result)\n",
    "    begins.append(n.begin)\n",
    "    ends.append(n.end)\n",
    "    entities.append(n.metadata['entity']) \n",
    "        \n",
    "df = pd.DataFrame({'chunks':chunks, 'begin':begins, 'end':ends, 'entities':entities})\n",
    "\n",
    "df"
   ]
  },
  {
   "cell_type": "markdown",
   "metadata": {
    "id": "ljp4EmCxaDNd"
   },
   "source": [
    "## **2.   explain_clinical_doc_era** \n",
    "\n",
    "> a pipeline with `ner_clinical_events`, `assertion_dl` and `re_temporal_events_clinical`. It will extract clinical entities, assign assertion status and find temporal relationships between clinical entities.\n",
    "\n"
   ]
  },
  {
   "cell_type": "code",
   "execution_count": null,
   "metadata": {
    "colab": {
     "base_uri": "https://localhost:8080/"
    },
    "id": "BMWEfu1QuXY5",
    "outputId": "a1750132-f721-4646-8378-b00562caff56"
   },
   "outputs": [
    {
     "name": "stdout",
     "output_type": "stream",
     "text": [
      "explain_clinical_doc_era download started this may take some time.\n",
      "Approx size to download 1.6 GB\n",
      "[OK!]\n"
     ]
    }
   ],
   "source": [
    "era_pipeline = PretrainedPipeline('explain_clinical_doc_era', 'en', 'clinical/models')"
   ]
  },
  {
   "cell_type": "code",
   "execution_count": null,
   "metadata": {
    "colab": {
     "base_uri": "https://localhost:8080/"
    },
    "id": "xWhFRqvpvIOl",
    "outputId": "a493c1a0-d6a1-461e-bf23-80e5c7c9e656"
   },
   "outputs": [
    {
     "data": {
      "text/plain": [
       "[DocumentAssembler_81ef1f17c7c1,\n",
       " SentenceDetector_0b67d45c215f,\n",
       " REGEX_TOKENIZER_4d38514cc549,\n",
       " POS_6f55785005bf,\n",
       " dependency_d5a8da6c9093,\n",
       " WORD_EMBEDDINGS_MODEL_9004b1d00302,\n",
       " MedicalNerModel_7cb29c8c904c,\n",
       " NerConverter_dc8e863a00ea,\n",
       " RelationExtractionModel_14b00157fc1a,\n",
       " ASSERTION_DL_25881ab6309e]"
      ]
     },
     "execution_count": 13,
     "metadata": {
      "tags": []
     },
     "output_type": "execute_result"
    }
   ],
   "source": [
    "era_pipeline.model.stages"
   ]
  },
  {
   "cell_type": "code",
   "execution_count": null,
   "metadata": {
    "id": "O9cTLFNUaQNU"
   },
   "outputs": [],
   "source": [
    "text =\"\"\"She is admitted to The John Hopkins Hospital 2 days ago with a history of gestational diabetes mellitus diagnosed. She denied pain and any headache.\n",
    "She was seen by the endocrinology service and she was discharged on 03/02/2018 on 40 units of insulin glargine, \n",
    "12 units of insulin lispro, and metformin 1000 mg two times a day. She had close follow-up with endocrinology post discharge. \n",
    "\"\"\"\n",
    "\n",
    "result = era_pipeline.fullAnnotate(text)[0]\n"
   ]
  },
  {
   "cell_type": "code",
   "execution_count": null,
   "metadata": {
    "colab": {
     "base_uri": "https://localhost:8080/"
    },
    "id": "1igwWvsgu7z6",
    "outputId": "60aa25d4-a74d-4a1b-d3dd-94f3e9b9e361"
   },
   "outputs": [
    {
     "data": {
      "text/plain": [
       "dict_keys(['sentences', 'clinical_ner_tags', 'document', 'clinical_ner_chunks', 'assertion', 'clinical_relations', 'tokens', 'embeddings', 'pos_tags', 'dependencies'])"
      ]
     },
     "execution_count": 15,
     "metadata": {
      "tags": []
     },
     "output_type": "execute_result"
    }
   ],
   "source": [
    "result.keys()"
   ]
  },
  {
   "cell_type": "code",
   "execution_count": null,
   "metadata": {
    "colab": {
     "base_uri": "https://localhost:8080/",
     "height": 502
    },
    "id": "6rejwSLjyW8S",
    "outputId": "0a35679e-2b86-4a45-c2a9-c5590c76c190"
   },
   "outputs": [
    {
     "data": {
      "text/html": [
       "<div>\n",
       "<style scoped>\n",
       "    .dataframe tbody tr th:only-of-type {\n",
       "        vertical-align: middle;\n",
       "    }\n",
       "\n",
       "    .dataframe tbody tr th {\n",
       "        vertical-align: top;\n",
       "    }\n",
       "\n",
       "    .dataframe thead th {\n",
       "        text-align: right;\n",
       "    }\n",
       "</style>\n",
       "<table border=\"1\" class=\"dataframe\">\n",
       "  <thead>\n",
       "    <tr style=\"text-align: right;\">\n",
       "      <th></th>\n",
       "      <th>chunks</th>\n",
       "      <th>begin</th>\n",
       "      <th>end</th>\n",
       "      <th>entities</th>\n",
       "    </tr>\n",
       "  </thead>\n",
       "  <tbody>\n",
       "    <tr>\n",
       "      <th>0</th>\n",
       "      <td>admitted</td>\n",
       "      <td>7</td>\n",
       "      <td>14</td>\n",
       "      <td>OCCURRENCE</td>\n",
       "    </tr>\n",
       "    <tr>\n",
       "      <th>1</th>\n",
       "      <td>The John Hopkins Hospital</td>\n",
       "      <td>19</td>\n",
       "      <td>43</td>\n",
       "      <td>CLINICAL_DEPT</td>\n",
       "    </tr>\n",
       "    <tr>\n",
       "      <th>2</th>\n",
       "      <td>2 days ago</td>\n",
       "      <td>45</td>\n",
       "      <td>54</td>\n",
       "      <td>DATE</td>\n",
       "    </tr>\n",
       "    <tr>\n",
       "      <th>3</th>\n",
       "      <td>gestational diabetes mellitus</td>\n",
       "      <td>74</td>\n",
       "      <td>102</td>\n",
       "      <td>PROBLEM</td>\n",
       "    </tr>\n",
       "    <tr>\n",
       "      <th>4</th>\n",
       "      <td>denied</td>\n",
       "      <td>119</td>\n",
       "      <td>124</td>\n",
       "      <td>EVIDENTIAL</td>\n",
       "    </tr>\n",
       "    <tr>\n",
       "      <th>5</th>\n",
       "      <td>pain</td>\n",
       "      <td>126</td>\n",
       "      <td>129</td>\n",
       "      <td>PROBLEM</td>\n",
       "    </tr>\n",
       "    <tr>\n",
       "      <th>6</th>\n",
       "      <td>any headache</td>\n",
       "      <td>135</td>\n",
       "      <td>146</td>\n",
       "      <td>PROBLEM</td>\n",
       "    </tr>\n",
       "    <tr>\n",
       "      <th>7</th>\n",
       "      <td>the endocrinology service</td>\n",
       "      <td>165</td>\n",
       "      <td>189</td>\n",
       "      <td>CLINICAL_DEPT</td>\n",
       "    </tr>\n",
       "    <tr>\n",
       "      <th>8</th>\n",
       "      <td>discharged</td>\n",
       "      <td>203</td>\n",
       "      <td>212</td>\n",
       "      <td>OCCURRENCE</td>\n",
       "    </tr>\n",
       "    <tr>\n",
       "      <th>9</th>\n",
       "      <td>03/02/2018</td>\n",
       "      <td>217</td>\n",
       "      <td>226</td>\n",
       "      <td>DATE</td>\n",
       "    </tr>\n",
       "    <tr>\n",
       "      <th>10</th>\n",
       "      <td>insulin glargine</td>\n",
       "      <td>243</td>\n",
       "      <td>258</td>\n",
       "      <td>TREATMENT</td>\n",
       "    </tr>\n",
       "    <tr>\n",
       "      <th>11</th>\n",
       "      <td>insulin lispro</td>\n",
       "      <td>274</td>\n",
       "      <td>287</td>\n",
       "      <td>TREATMENT</td>\n",
       "    </tr>\n",
       "    <tr>\n",
       "      <th>12</th>\n",
       "      <td>metformin</td>\n",
       "      <td>294</td>\n",
       "      <td>302</td>\n",
       "      <td>TREATMENT</td>\n",
       "    </tr>\n",
       "    <tr>\n",
       "      <th>13</th>\n",
       "      <td>two times a day</td>\n",
       "      <td>312</td>\n",
       "      <td>326</td>\n",
       "      <td>FREQUENCY</td>\n",
       "    </tr>\n",
       "    <tr>\n",
       "      <th>14</th>\n",
       "      <td>follow-up with endocrinology post discharge</td>\n",
       "      <td>343</td>\n",
       "      <td>385</td>\n",
       "      <td>OCCURRENCE</td>\n",
       "    </tr>\n",
       "  </tbody>\n",
       "</table>\n",
       "</div>"
      ],
      "text/plain": [
       "                                         chunks  begin  end       entities\n",
       "0                                      admitted      7   14     OCCURRENCE\n",
       "1                     The John Hopkins Hospital     19   43  CLINICAL_DEPT\n",
       "2                                    2 days ago     45   54           DATE\n",
       "3                 gestational diabetes mellitus     74  102        PROBLEM\n",
       "4                                        denied    119  124     EVIDENTIAL\n",
       "5                                          pain    126  129        PROBLEM\n",
       "6                                  any headache    135  146        PROBLEM\n",
       "7                     the endocrinology service    165  189  CLINICAL_DEPT\n",
       "8                                    discharged    203  212     OCCURRENCE\n",
       "9                                    03/02/2018    217  226           DATE\n",
       "10                             insulin glargine    243  258      TREATMENT\n",
       "11                               insulin lispro    274  287      TREATMENT\n",
       "12                                    metformin    294  302      TREATMENT\n",
       "13                              two times a day    312  326      FREQUENCY\n",
       "14  follow-up with endocrinology post discharge    343  385     OCCURRENCE"
      ]
     },
     "execution_count": 16,
     "metadata": {
      "tags": []
     },
     "output_type": "execute_result"
    }
   ],
   "source": [
    "import pandas as pd\n",
    "\n",
    "chunks=[]\n",
    "entities=[]\n",
    "begins=[]\n",
    "ends=[]\n",
    "\n",
    "for n in result['clinical_ner_chunks']:\n",
    "    \n",
    "    chunks.append(n.result)\n",
    "    begins.append(n.begin)\n",
    "    ends.append(n.end)\n",
    "    entities.append(n.metadata['entity']) \n",
    "        \n",
    "df = pd.DataFrame({'chunks':chunks, 'begin':begins, 'end':ends, 'entities':entities})\n",
    "\n",
    "df"
   ]
  },
  {
   "cell_type": "code",
   "execution_count": null,
   "metadata": {
    "colab": {
     "base_uri": "https://localhost:8080/",
     "height": 502
    },
    "id": "2pKbjUxEv9z3",
    "outputId": "89752e30-c4b6-4620-971b-00a9392df3f1"
   },
   "outputs": [
    {
     "data": {
      "text/html": [
       "<div>\n",
       "<style scoped>\n",
       "    .dataframe tbody tr th:only-of-type {\n",
       "        vertical-align: middle;\n",
       "    }\n",
       "\n",
       "    .dataframe tbody tr th {\n",
       "        vertical-align: top;\n",
       "    }\n",
       "\n",
       "    .dataframe thead th {\n",
       "        text-align: right;\n",
       "    }\n",
       "</style>\n",
       "<table border=\"1\" class=\"dataframe\">\n",
       "  <thead>\n",
       "    <tr style=\"text-align: right;\">\n",
       "      <th></th>\n",
       "      <th>chunks</th>\n",
       "      <th>entities</th>\n",
       "      <th>assertion</th>\n",
       "    </tr>\n",
       "  </thead>\n",
       "  <tbody>\n",
       "    <tr>\n",
       "      <th>0</th>\n",
       "      <td>admitted</td>\n",
       "      <td>OCCURRENCE</td>\n",
       "      <td>present</td>\n",
       "    </tr>\n",
       "    <tr>\n",
       "      <th>1</th>\n",
       "      <td>The John Hopkins Hospital</td>\n",
       "      <td>CLINICAL_DEPT</td>\n",
       "      <td>present</td>\n",
       "    </tr>\n",
       "    <tr>\n",
       "      <th>2</th>\n",
       "      <td>2 days ago</td>\n",
       "      <td>DATE</td>\n",
       "      <td>present</td>\n",
       "    </tr>\n",
       "    <tr>\n",
       "      <th>3</th>\n",
       "      <td>gestational diabetes mellitus</td>\n",
       "      <td>PROBLEM</td>\n",
       "      <td>present</td>\n",
       "    </tr>\n",
       "    <tr>\n",
       "      <th>4</th>\n",
       "      <td>denied</td>\n",
       "      <td>EVIDENTIAL</td>\n",
       "      <td>absent</td>\n",
       "    </tr>\n",
       "    <tr>\n",
       "      <th>5</th>\n",
       "      <td>pain</td>\n",
       "      <td>PROBLEM</td>\n",
       "      <td>absent</td>\n",
       "    </tr>\n",
       "    <tr>\n",
       "      <th>6</th>\n",
       "      <td>any headache</td>\n",
       "      <td>PROBLEM</td>\n",
       "      <td>absent</td>\n",
       "    </tr>\n",
       "    <tr>\n",
       "      <th>7</th>\n",
       "      <td>the endocrinology service</td>\n",
       "      <td>CLINICAL_DEPT</td>\n",
       "      <td>present</td>\n",
       "    </tr>\n",
       "    <tr>\n",
       "      <th>8</th>\n",
       "      <td>discharged</td>\n",
       "      <td>OCCURRENCE</td>\n",
       "      <td>present</td>\n",
       "    </tr>\n",
       "    <tr>\n",
       "      <th>9</th>\n",
       "      <td>03/02/2018</td>\n",
       "      <td>DATE</td>\n",
       "      <td>present</td>\n",
       "    </tr>\n",
       "    <tr>\n",
       "      <th>10</th>\n",
       "      <td>insulin glargine</td>\n",
       "      <td>TREATMENT</td>\n",
       "      <td>present</td>\n",
       "    </tr>\n",
       "    <tr>\n",
       "      <th>11</th>\n",
       "      <td>insulin lispro</td>\n",
       "      <td>TREATMENT</td>\n",
       "      <td>present</td>\n",
       "    </tr>\n",
       "    <tr>\n",
       "      <th>12</th>\n",
       "      <td>metformin</td>\n",
       "      <td>TREATMENT</td>\n",
       "      <td>present</td>\n",
       "    </tr>\n",
       "    <tr>\n",
       "      <th>13</th>\n",
       "      <td>two times a day</td>\n",
       "      <td>FREQUENCY</td>\n",
       "      <td>present</td>\n",
       "    </tr>\n",
       "    <tr>\n",
       "      <th>14</th>\n",
       "      <td>follow-up with endocrinology post discharge</td>\n",
       "      <td>OCCURRENCE</td>\n",
       "      <td>present</td>\n",
       "    </tr>\n",
       "  </tbody>\n",
       "</table>\n",
       "</div>"
      ],
      "text/plain": [
       "                                         chunks       entities assertion\n",
       "0                                      admitted     OCCURRENCE   present\n",
       "1                     The John Hopkins Hospital  CLINICAL_DEPT   present\n",
       "2                                    2 days ago           DATE   present\n",
       "3                 gestational diabetes mellitus        PROBLEM   present\n",
       "4                                        denied     EVIDENTIAL    absent\n",
       "5                                          pain        PROBLEM    absent\n",
       "6                                  any headache        PROBLEM    absent\n",
       "7                     the endocrinology service  CLINICAL_DEPT   present\n",
       "8                                    discharged     OCCURRENCE   present\n",
       "9                                    03/02/2018           DATE   present\n",
       "10                             insulin glargine      TREATMENT   present\n",
       "11                               insulin lispro      TREATMENT   present\n",
       "12                                    metformin      TREATMENT   present\n",
       "13                              two times a day      FREQUENCY   present\n",
       "14  follow-up with endocrinology post discharge     OCCURRENCE   present"
      ]
     },
     "execution_count": 17,
     "metadata": {
      "tags": []
     },
     "output_type": "execute_result"
    }
   ],
   "source": [
    "chunks=[]\n",
    "entities=[]\n",
    "status=[]\n",
    "\n",
    "for n,m in zip(result['clinical_ner_chunks'],result['assertion']):\n",
    "    \n",
    "    chunks.append(n.result)\n",
    "    entities.append(n.metadata['entity']) \n",
    "    status.append(m.result)\n",
    "        \n",
    "df = pd.DataFrame({'chunks':chunks, 'entities':entities, 'assertion':status})\n",
    "\n",
    "df"
   ]
  },
  {
   "cell_type": "code",
   "execution_count": null,
   "metadata": {
    "id": "2OUKeMndIoK3"
   },
   "outputs": [],
   "source": [
    "import pandas as pd\n",
    "\n",
    "def get_relations_df (results, col='relations'):\n",
    "  rel_pairs=[]\n",
    "  for rel in results[0][col]:\n",
    "      rel_pairs.append((\n",
    "          rel.result, \n",
    "          rel.metadata['entity1'], \n",
    "          rel.metadata['entity1_begin'],\n",
    "          rel.metadata['entity1_end'],\n",
    "          rel.metadata['chunk1'], \n",
    "          rel.metadata['entity2'],\n",
    "          rel.metadata['entity2_begin'],\n",
    "          rel.metadata['entity2_end'],\n",
    "          rel.metadata['chunk2'], \n",
    "          rel.metadata['confidence']\n",
    "      ))\n",
    "\n",
    "  rel_df = pd.DataFrame(rel_pairs, columns=['relation','entity1','entity1_begin','entity1_end','chunk1','entity2','entity2_begin','entity2_end','chunk2', 'confidence'])\n",
    "\n",
    "  rel_df.confidence = rel_df.confidence.astype(float)\n",
    "  \n",
    "  return rel_df"
   ]
  },
  {
   "cell_type": "code",
   "execution_count": null,
   "metadata": {
    "colab": {
     "base_uri": "https://localhost:8080/",
     "height": 955
    },
    "id": "VuNbl1nKIpao",
    "outputId": "49cbf682-7b3e-4ff6-e352-466709f53061"
   },
   "outputs": [
    {
     "data": {
      "text/html": [
       "<div>\n",
       "<style scoped>\n",
       "    .dataframe tbody tr th:only-of-type {\n",
       "        vertical-align: middle;\n",
       "    }\n",
       "\n",
       "    .dataframe tbody tr th {\n",
       "        vertical-align: top;\n",
       "    }\n",
       "\n",
       "    .dataframe thead th {\n",
       "        text-align: right;\n",
       "    }\n",
       "</style>\n",
       "<table border=\"1\" class=\"dataframe\">\n",
       "  <thead>\n",
       "    <tr style=\"text-align: right;\">\n",
       "      <th></th>\n",
       "      <th>relation</th>\n",
       "      <th>entity1</th>\n",
       "      <th>entity1_begin</th>\n",
       "      <th>entity1_end</th>\n",
       "      <th>chunk1</th>\n",
       "      <th>entity2</th>\n",
       "      <th>entity2_begin</th>\n",
       "      <th>entity2_end</th>\n",
       "      <th>chunk2</th>\n",
       "      <th>confidence</th>\n",
       "    </tr>\n",
       "  </thead>\n",
       "  <tbody>\n",
       "    <tr>\n",
       "      <th>0</th>\n",
       "      <td>AFTER</td>\n",
       "      <td>OCCURRENCE</td>\n",
       "      <td>7</td>\n",
       "      <td>14</td>\n",
       "      <td>admitted</td>\n",
       "      <td>CLINICAL_DEPT</td>\n",
       "      <td>19</td>\n",
       "      <td>43</td>\n",
       "      <td>The John Hopkins Hospital</td>\n",
       "      <td>0.963836</td>\n",
       "    </tr>\n",
       "    <tr>\n",
       "      <th>1</th>\n",
       "      <td>BEFORE</td>\n",
       "      <td>OCCURRENCE</td>\n",
       "      <td>7</td>\n",
       "      <td>14</td>\n",
       "      <td>admitted</td>\n",
       "      <td>DATE</td>\n",
       "      <td>45</td>\n",
       "      <td>54</td>\n",
       "      <td>2 days ago</td>\n",
       "      <td>0.587098</td>\n",
       "    </tr>\n",
       "    <tr>\n",
       "      <th>2</th>\n",
       "      <td>BEFORE</td>\n",
       "      <td>OCCURRENCE</td>\n",
       "      <td>7</td>\n",
       "      <td>14</td>\n",
       "      <td>admitted</td>\n",
       "      <td>PROBLEM</td>\n",
       "      <td>74</td>\n",
       "      <td>102</td>\n",
       "      <td>gestational diabetes mellitus</td>\n",
       "      <td>0.999991</td>\n",
       "    </tr>\n",
       "    <tr>\n",
       "      <th>3</th>\n",
       "      <td>OVERLAP</td>\n",
       "      <td>CLINICAL_DEPT</td>\n",
       "      <td>19</td>\n",
       "      <td>43</td>\n",
       "      <td>The John Hopkins Hospital</td>\n",
       "      <td>DATE</td>\n",
       "      <td>45</td>\n",
       "      <td>54</td>\n",
       "      <td>2 days ago</td>\n",
       "      <td>0.996056</td>\n",
       "    </tr>\n",
       "    <tr>\n",
       "      <th>4</th>\n",
       "      <td>BEFORE</td>\n",
       "      <td>CLINICAL_DEPT</td>\n",
       "      <td>19</td>\n",
       "      <td>43</td>\n",
       "      <td>The John Hopkins Hospital</td>\n",
       "      <td>PROBLEM</td>\n",
       "      <td>74</td>\n",
       "      <td>102</td>\n",
       "      <td>gestational diabetes mellitus</td>\n",
       "      <td>0.995216</td>\n",
       "    </tr>\n",
       "    <tr>\n",
       "      <th>5</th>\n",
       "      <td>OVERLAP</td>\n",
       "      <td>DATE</td>\n",
       "      <td>45</td>\n",
       "      <td>54</td>\n",
       "      <td>2 days ago</td>\n",
       "      <td>PROBLEM</td>\n",
       "      <td>74</td>\n",
       "      <td>102</td>\n",
       "      <td>gestational diabetes mellitus</td>\n",
       "      <td>0.996954</td>\n",
       "    </tr>\n",
       "    <tr>\n",
       "      <th>6</th>\n",
       "      <td>BEFORE</td>\n",
       "      <td>EVIDENTIAL</td>\n",
       "      <td>119</td>\n",
       "      <td>124</td>\n",
       "      <td>denied</td>\n",
       "      <td>PROBLEM</td>\n",
       "      <td>126</td>\n",
       "      <td>129</td>\n",
       "      <td>pain</td>\n",
       "      <td>1.000000</td>\n",
       "    </tr>\n",
       "    <tr>\n",
       "      <th>7</th>\n",
       "      <td>BEFORE</td>\n",
       "      <td>EVIDENTIAL</td>\n",
       "      <td>119</td>\n",
       "      <td>124</td>\n",
       "      <td>denied</td>\n",
       "      <td>PROBLEM</td>\n",
       "      <td>135</td>\n",
       "      <td>146</td>\n",
       "      <td>any headache</td>\n",
       "      <td>1.000000</td>\n",
       "    </tr>\n",
       "    <tr>\n",
       "      <th>8</th>\n",
       "      <td>OVERLAP</td>\n",
       "      <td>PROBLEM</td>\n",
       "      <td>126</td>\n",
       "      <td>129</td>\n",
       "      <td>pain</td>\n",
       "      <td>PROBLEM</td>\n",
       "      <td>135</td>\n",
       "      <td>146</td>\n",
       "      <td>any headache</td>\n",
       "      <td>1.000000</td>\n",
       "    </tr>\n",
       "    <tr>\n",
       "      <th>9</th>\n",
       "      <td>BEFORE</td>\n",
       "      <td>CLINICAL_DEPT</td>\n",
       "      <td>165</td>\n",
       "      <td>189</td>\n",
       "      <td>the endocrinology service</td>\n",
       "      <td>OCCURRENCE</td>\n",
       "      <td>203</td>\n",
       "      <td>212</td>\n",
       "      <td>discharged</td>\n",
       "      <td>0.825623</td>\n",
       "    </tr>\n",
       "    <tr>\n",
       "      <th>10</th>\n",
       "      <td>OVERLAP</td>\n",
       "      <td>CLINICAL_DEPT</td>\n",
       "      <td>165</td>\n",
       "      <td>189</td>\n",
       "      <td>the endocrinology service</td>\n",
       "      <td>DATE</td>\n",
       "      <td>217</td>\n",
       "      <td>226</td>\n",
       "      <td>03/02/2018</td>\n",
       "      <td>0.999987</td>\n",
       "    </tr>\n",
       "    <tr>\n",
       "      <th>11</th>\n",
       "      <td>OVERLAP</td>\n",
       "      <td>CLINICAL_DEPT</td>\n",
       "      <td>165</td>\n",
       "      <td>189</td>\n",
       "      <td>the endocrinology service</td>\n",
       "      <td>TREATMENT</td>\n",
       "      <td>243</td>\n",
       "      <td>258</td>\n",
       "      <td>insulin glargine</td>\n",
       "      <td>0.999228</td>\n",
       "    </tr>\n",
       "    <tr>\n",
       "      <th>12</th>\n",
       "      <td>OVERLAP</td>\n",
       "      <td>CLINICAL_DEPT</td>\n",
       "      <td>165</td>\n",
       "      <td>189</td>\n",
       "      <td>the endocrinology service</td>\n",
       "      <td>TREATMENT</td>\n",
       "      <td>274</td>\n",
       "      <td>287</td>\n",
       "      <td>insulin lispro</td>\n",
       "      <td>0.999915</td>\n",
       "    </tr>\n",
       "    <tr>\n",
       "      <th>13</th>\n",
       "      <td>OVERLAP</td>\n",
       "      <td>CLINICAL_DEPT</td>\n",
       "      <td>165</td>\n",
       "      <td>189</td>\n",
       "      <td>the endocrinology service</td>\n",
       "      <td>TREATMENT</td>\n",
       "      <td>294</td>\n",
       "      <td>302</td>\n",
       "      <td>metformin</td>\n",
       "      <td>0.999801</td>\n",
       "    </tr>\n",
       "    <tr>\n",
       "      <th>14</th>\n",
       "      <td>OVERLAP</td>\n",
       "      <td>CLINICAL_DEPT</td>\n",
       "      <td>165</td>\n",
       "      <td>189</td>\n",
       "      <td>the endocrinology service</td>\n",
       "      <td>FREQUENCY</td>\n",
       "      <td>312</td>\n",
       "      <td>326</td>\n",
       "      <td>two times a day</td>\n",
       "      <td>0.994823</td>\n",
       "    </tr>\n",
       "    <tr>\n",
       "      <th>15</th>\n",
       "      <td>OVERLAP</td>\n",
       "      <td>OCCURRENCE</td>\n",
       "      <td>203</td>\n",
       "      <td>212</td>\n",
       "      <td>discharged</td>\n",
       "      <td>DATE</td>\n",
       "      <td>217</td>\n",
       "      <td>226</td>\n",
       "      <td>03/02/2018</td>\n",
       "      <td>1.000000</td>\n",
       "    </tr>\n",
       "    <tr>\n",
       "      <th>16</th>\n",
       "      <td>AFTER</td>\n",
       "      <td>OCCURRENCE</td>\n",
       "      <td>203</td>\n",
       "      <td>212</td>\n",
       "      <td>discharged</td>\n",
       "      <td>TREATMENT</td>\n",
       "      <td>243</td>\n",
       "      <td>258</td>\n",
       "      <td>insulin glargine</td>\n",
       "      <td>0.997138</td>\n",
       "    </tr>\n",
       "    <tr>\n",
       "      <th>17</th>\n",
       "      <td>AFTER</td>\n",
       "      <td>OCCURRENCE</td>\n",
       "      <td>203</td>\n",
       "      <td>212</td>\n",
       "      <td>discharged</td>\n",
       "      <td>TREATMENT</td>\n",
       "      <td>274</td>\n",
       "      <td>287</td>\n",
       "      <td>insulin lispro</td>\n",
       "      <td>0.983671</td>\n",
       "    </tr>\n",
       "    <tr>\n",
       "      <th>18</th>\n",
       "      <td>AFTER</td>\n",
       "      <td>OCCURRENCE</td>\n",
       "      <td>203</td>\n",
       "      <td>212</td>\n",
       "      <td>discharged</td>\n",
       "      <td>TREATMENT</td>\n",
       "      <td>294</td>\n",
       "      <td>302</td>\n",
       "      <td>metformin</td>\n",
       "      <td>0.995039</td>\n",
       "    </tr>\n",
       "    <tr>\n",
       "      <th>19</th>\n",
       "      <td>OVERLAP</td>\n",
       "      <td>OCCURRENCE</td>\n",
       "      <td>203</td>\n",
       "      <td>212</td>\n",
       "      <td>discharged</td>\n",
       "      <td>FREQUENCY</td>\n",
       "      <td>312</td>\n",
       "      <td>326</td>\n",
       "      <td>two times a day</td>\n",
       "      <td>0.663280</td>\n",
       "    </tr>\n",
       "    <tr>\n",
       "      <th>20</th>\n",
       "      <td>OVERLAP</td>\n",
       "      <td>DATE</td>\n",
       "      <td>217</td>\n",
       "      <td>226</td>\n",
       "      <td>03/02/2018</td>\n",
       "      <td>TREATMENT</td>\n",
       "      <td>243</td>\n",
       "      <td>258</td>\n",
       "      <td>insulin glargine</td>\n",
       "      <td>0.999998</td>\n",
       "    </tr>\n",
       "    <tr>\n",
       "      <th>21</th>\n",
       "      <td>OVERLAP</td>\n",
       "      <td>DATE</td>\n",
       "      <td>217</td>\n",
       "      <td>226</td>\n",
       "      <td>03/02/2018</td>\n",
       "      <td>TREATMENT</td>\n",
       "      <td>274</td>\n",
       "      <td>287</td>\n",
       "      <td>insulin lispro</td>\n",
       "      <td>0.999912</td>\n",
       "    </tr>\n",
       "    <tr>\n",
       "      <th>22</th>\n",
       "      <td>OVERLAP</td>\n",
       "      <td>DATE</td>\n",
       "      <td>217</td>\n",
       "      <td>226</td>\n",
       "      <td>03/02/2018</td>\n",
       "      <td>TREATMENT</td>\n",
       "      <td>294</td>\n",
       "      <td>302</td>\n",
       "      <td>metformin</td>\n",
       "      <td>0.999882</td>\n",
       "    </tr>\n",
       "    <tr>\n",
       "      <th>23</th>\n",
       "      <td>OVERLAP</td>\n",
       "      <td>DATE</td>\n",
       "      <td>217</td>\n",
       "      <td>226</td>\n",
       "      <td>03/02/2018</td>\n",
       "      <td>FREQUENCY</td>\n",
       "      <td>312</td>\n",
       "      <td>326</td>\n",
       "      <td>two times a day</td>\n",
       "      <td>0.953523</td>\n",
       "    </tr>\n",
       "    <tr>\n",
       "      <th>24</th>\n",
       "      <td>OVERLAP</td>\n",
       "      <td>TREATMENT</td>\n",
       "      <td>243</td>\n",
       "      <td>258</td>\n",
       "      <td>insulin glargine</td>\n",
       "      <td>TREATMENT</td>\n",
       "      <td>274</td>\n",
       "      <td>287</td>\n",
       "      <td>insulin lispro</td>\n",
       "      <td>1.000000</td>\n",
       "    </tr>\n",
       "    <tr>\n",
       "      <th>25</th>\n",
       "      <td>OVERLAP</td>\n",
       "      <td>TREATMENT</td>\n",
       "      <td>243</td>\n",
       "      <td>258</td>\n",
       "      <td>insulin glargine</td>\n",
       "      <td>TREATMENT</td>\n",
       "      <td>294</td>\n",
       "      <td>302</td>\n",
       "      <td>metformin</td>\n",
       "      <td>1.000000</td>\n",
       "    </tr>\n",
       "    <tr>\n",
       "      <th>26</th>\n",
       "      <td>OVERLAP</td>\n",
       "      <td>TREATMENT</td>\n",
       "      <td>243</td>\n",
       "      <td>258</td>\n",
       "      <td>insulin glargine</td>\n",
       "      <td>FREQUENCY</td>\n",
       "      <td>312</td>\n",
       "      <td>326</td>\n",
       "      <td>two times a day</td>\n",
       "      <td>0.980345</td>\n",
       "    </tr>\n",
       "    <tr>\n",
       "      <th>27</th>\n",
       "      <td>OVERLAP</td>\n",
       "      <td>TREATMENT</td>\n",
       "      <td>274</td>\n",
       "      <td>287</td>\n",
       "      <td>insulin lispro</td>\n",
       "      <td>TREATMENT</td>\n",
       "      <td>294</td>\n",
       "      <td>302</td>\n",
       "      <td>metformin</td>\n",
       "      <td>1.000000</td>\n",
       "    </tr>\n",
       "    <tr>\n",
       "      <th>28</th>\n",
       "      <td>OVERLAP</td>\n",
       "      <td>TREATMENT</td>\n",
       "      <td>274</td>\n",
       "      <td>287</td>\n",
       "      <td>insulin lispro</td>\n",
       "      <td>FREQUENCY</td>\n",
       "      <td>312</td>\n",
       "      <td>326</td>\n",
       "      <td>two times a day</td>\n",
       "      <td>1.000000</td>\n",
       "    </tr>\n",
       "    <tr>\n",
       "      <th>29</th>\n",
       "      <td>OVERLAP</td>\n",
       "      <td>TREATMENT</td>\n",
       "      <td>294</td>\n",
       "      <td>302</td>\n",
       "      <td>metformin</td>\n",
       "      <td>FREQUENCY</td>\n",
       "      <td>312</td>\n",
       "      <td>326</td>\n",
       "      <td>two times a day</td>\n",
       "      <td>1.000000</td>\n",
       "    </tr>\n",
       "  </tbody>\n",
       "</table>\n",
       "</div>"
      ],
      "text/plain": [
       "   relation        entity1  ...                         chunk2 confidence\n",
       "0     AFTER     OCCURRENCE  ...      The John Hopkins Hospital   0.963836\n",
       "1    BEFORE     OCCURRENCE  ...                     2 days ago   0.587098\n",
       "2    BEFORE     OCCURRENCE  ...  gestational diabetes mellitus   0.999991\n",
       "3   OVERLAP  CLINICAL_DEPT  ...                     2 days ago   0.996056\n",
       "4    BEFORE  CLINICAL_DEPT  ...  gestational diabetes mellitus   0.995216\n",
       "5   OVERLAP           DATE  ...  gestational diabetes mellitus   0.996954\n",
       "6    BEFORE     EVIDENTIAL  ...                           pain   1.000000\n",
       "7    BEFORE     EVIDENTIAL  ...                   any headache   1.000000\n",
       "8   OVERLAP        PROBLEM  ...                   any headache   1.000000\n",
       "9    BEFORE  CLINICAL_DEPT  ...                     discharged   0.825623\n",
       "10  OVERLAP  CLINICAL_DEPT  ...                     03/02/2018   0.999987\n",
       "11  OVERLAP  CLINICAL_DEPT  ...               insulin glargine   0.999228\n",
       "12  OVERLAP  CLINICAL_DEPT  ...                 insulin lispro   0.999915\n",
       "13  OVERLAP  CLINICAL_DEPT  ...                      metformin   0.999801\n",
       "14  OVERLAP  CLINICAL_DEPT  ...                two times a day   0.994823\n",
       "15  OVERLAP     OCCURRENCE  ...                     03/02/2018   1.000000\n",
       "16    AFTER     OCCURRENCE  ...               insulin glargine   0.997138\n",
       "17    AFTER     OCCURRENCE  ...                 insulin lispro   0.983671\n",
       "18    AFTER     OCCURRENCE  ...                      metformin   0.995039\n",
       "19  OVERLAP     OCCURRENCE  ...                two times a day   0.663280\n",
       "20  OVERLAP           DATE  ...               insulin glargine   0.999998\n",
       "21  OVERLAP           DATE  ...                 insulin lispro   0.999912\n",
       "22  OVERLAP           DATE  ...                      metformin   0.999882\n",
       "23  OVERLAP           DATE  ...                two times a day   0.953523\n",
       "24  OVERLAP      TREATMENT  ...                 insulin lispro   1.000000\n",
       "25  OVERLAP      TREATMENT  ...                      metformin   1.000000\n",
       "26  OVERLAP      TREATMENT  ...                two times a day   0.980345\n",
       "27  OVERLAP      TREATMENT  ...                      metformin   1.000000\n",
       "28  OVERLAP      TREATMENT  ...                two times a day   1.000000\n",
       "29  OVERLAP      TREATMENT  ...                two times a day   1.000000\n",
       "\n",
       "[30 rows x 10 columns]"
      ]
     },
     "execution_count": 19,
     "metadata": {
      "tags": []
     },
     "output_type": "execute_result"
    }
   ],
   "source": [
    "annotations = era_pipeline.fullAnnotate(text)\n",
    "\n",
    "rel_df = get_relations_df (annotations, 'clinical_relations')\n",
    "\n",
    "rel_df"
   ]
  },
  {
   "cell_type": "code",
   "execution_count": null,
   "metadata": {
    "colab": {
     "base_uri": "https://localhost:8080/"
    },
    "id": "BloDyf6ZIxY0",
    "outputId": "911f7aa0-fe5e-4a18-baa3-b919477697ad"
   },
   "outputs": [
    {
     "data": {
      "text/plain": [
       "[Annotation(category, 7, 43, AFTER, {'chunk2': 'The John Hopkins Hospital', 'confidence': '0.9638356', 'entity2_end': '43', 'chunk1': 'admitted', 'entity2_begin': '19', 'entity1': 'OCCURRENCE', 'entity1_begin': '7', 'entity1_end': '14', 'entity2': 'CLINICAL_DEPT'}),\n",
       " Annotation(category, 7, 54, BEFORE, {'chunk2': '2 days ago', 'confidence': '0.5870984', 'entity2_end': '54', 'chunk1': 'admitted', 'entity2_begin': '45', 'entity1': 'OCCURRENCE', 'entity1_begin': '7', 'entity1_end': '14', 'entity2': 'DATE'}),\n",
       " Annotation(category, 7, 102, BEFORE, {'chunk2': 'gestational diabetes mellitus', 'confidence': '0.9999908', 'entity2_end': '102', 'chunk1': 'admitted', 'entity2_begin': '74', 'entity1': 'OCCURRENCE', 'entity1_begin': '7', 'entity1_end': '14', 'entity2': 'PROBLEM'}),\n",
       " Annotation(category, 19, 54, OVERLAP, {'chunk2': '2 days ago', 'confidence': '0.9960561', 'entity2_end': '54', 'chunk1': 'The John Hopkins Hospital', 'entity2_begin': '45', 'entity1': 'CLINICAL_DEPT', 'entity1_begin': '19', 'entity1_end': '43', 'entity2': 'DATE'}),\n",
       " Annotation(category, 19, 102, BEFORE, {'chunk2': 'gestational diabetes mellitus', 'confidence': '0.9952165', 'entity2_end': '102', 'chunk1': 'The John Hopkins Hospital', 'entity2_begin': '74', 'entity1': 'CLINICAL_DEPT', 'entity1_begin': '19', 'entity1_end': '43', 'entity2': 'PROBLEM'}),\n",
       " Annotation(category, 45, 102, OVERLAP, {'chunk2': 'gestational diabetes mellitus', 'confidence': '0.9969537', 'entity2_end': '102', 'chunk1': '2 days ago', 'entity2_begin': '74', 'entity1': 'DATE', 'entity1_begin': '45', 'entity1_end': '54', 'entity2': 'PROBLEM'}),\n",
       " Annotation(category, 119, 129, BEFORE, {'chunk2': 'pain', 'confidence': '1.0', 'entity2_end': '129', 'chunk1': 'denied', 'entity2_begin': '126', 'entity1': 'EVIDENTIAL', 'entity1_begin': '119', 'entity1_end': '124', 'entity2': 'PROBLEM'}),\n",
       " Annotation(category, 119, 146, BEFORE, {'chunk2': 'any headache', 'confidence': '1.0', 'entity2_end': '146', 'chunk1': 'denied', 'entity2_begin': '135', 'entity1': 'EVIDENTIAL', 'entity1_begin': '119', 'entity1_end': '124', 'entity2': 'PROBLEM'}),\n",
       " Annotation(category, 126, 146, OVERLAP, {'chunk2': 'any headache', 'confidence': '1.0', 'entity2_end': '146', 'chunk1': 'pain', 'entity2_begin': '135', 'entity1': 'PROBLEM', 'entity1_begin': '126', 'entity1_end': '129', 'entity2': 'PROBLEM'}),\n",
       " Annotation(category, 165, 212, BEFORE, {'chunk2': 'discharged', 'confidence': '0.8256234', 'entity2_end': '212', 'chunk1': 'the endocrinology service', 'entity2_begin': '203', 'entity1': 'CLINICAL_DEPT', 'entity1_begin': '165', 'entity1_end': '189', 'entity2': 'OCCURRENCE'}),\n",
       " Annotation(category, 165, 226, OVERLAP, {'chunk2': '03/02/2018', 'confidence': '0.99998677', 'entity2_end': '226', 'chunk1': 'the endocrinology service', 'entity2_begin': '217', 'entity1': 'CLINICAL_DEPT', 'entity1_begin': '165', 'entity1_end': '189', 'entity2': 'DATE'}),\n",
       " Annotation(category, 165, 258, OVERLAP, {'chunk2': 'insulin glargine', 'confidence': '0.99922824', 'entity2_end': '258', 'chunk1': 'the endocrinology service', 'entity2_begin': '243', 'entity1': 'CLINICAL_DEPT', 'entity1_begin': '165', 'entity1_end': '189', 'entity2': 'TREATMENT'}),\n",
       " Annotation(category, 165, 287, OVERLAP, {'chunk2': 'insulin lispro', 'confidence': '0.99991524', 'entity2_end': '287', 'chunk1': 'the endocrinology service', 'entity2_begin': '274', 'entity1': 'CLINICAL_DEPT', 'entity1_begin': '165', 'entity1_end': '189', 'entity2': 'TREATMENT'}),\n",
       " Annotation(category, 165, 302, OVERLAP, {'chunk2': 'metformin', 'confidence': '0.99980134', 'entity2_end': '302', 'chunk1': 'the endocrinology service', 'entity2_begin': '294', 'entity1': 'CLINICAL_DEPT', 'entity1_begin': '165', 'entity1_end': '189', 'entity2': 'TREATMENT'}),\n",
       " Annotation(category, 165, 326, OVERLAP, {'chunk2': 'two times a day', 'confidence': '0.9948226', 'entity2_end': '326', 'chunk1': 'the endocrinology service', 'entity2_begin': '312', 'entity1': 'CLINICAL_DEPT', 'entity1_begin': '165', 'entity1_end': '189', 'entity2': 'FREQUENCY'}),\n",
       " Annotation(category, 203, 226, OVERLAP, {'chunk2': '03/02/2018', 'confidence': '1.0', 'entity2_end': '226', 'chunk1': 'discharged', 'entity2_begin': '217', 'entity1': 'OCCURRENCE', 'entity1_begin': '203', 'entity1_end': '212', 'entity2': 'DATE'}),\n",
       " Annotation(category, 203, 258, AFTER, {'chunk2': 'insulin glargine', 'confidence': '0.9971378', 'entity2_end': '258', 'chunk1': 'discharged', 'entity2_begin': '243', 'entity1': 'OCCURRENCE', 'entity1_begin': '203', 'entity1_end': '212', 'entity2': 'TREATMENT'}),\n",
       " Annotation(category, 203, 287, AFTER, {'chunk2': 'insulin lispro', 'confidence': '0.9836707', 'entity2_end': '287', 'chunk1': 'discharged', 'entity2_begin': '274', 'entity1': 'OCCURRENCE', 'entity1_begin': '203', 'entity1_end': '212', 'entity2': 'TREATMENT'}),\n",
       " Annotation(category, 203, 302, AFTER, {'chunk2': 'metformin', 'confidence': '0.9950393', 'entity2_end': '302', 'chunk1': 'discharged', 'entity2_begin': '294', 'entity1': 'OCCURRENCE', 'entity1_begin': '203', 'entity1_end': '212', 'entity2': 'TREATMENT'}),\n",
       " Annotation(category, 203, 326, OVERLAP, {'chunk2': 'two times a day', 'confidence': '0.66327995', 'entity2_end': '326', 'chunk1': 'discharged', 'entity2_begin': '312', 'entity1': 'OCCURRENCE', 'entity1_begin': '203', 'entity1_end': '212', 'entity2': 'FREQUENCY'}),\n",
       " Annotation(category, 217, 258, OVERLAP, {'chunk2': 'insulin glargine', 'confidence': '0.9999982', 'entity2_end': '258', 'chunk1': '03/02/2018', 'entity2_begin': '243', 'entity1': 'DATE', 'entity1_begin': '217', 'entity1_end': '226', 'entity2': 'TREATMENT'}),\n",
       " Annotation(category, 217, 287, OVERLAP, {'chunk2': 'insulin lispro', 'confidence': '0.99991214', 'entity2_end': '287', 'chunk1': '03/02/2018', 'entity2_begin': '274', 'entity1': 'DATE', 'entity1_begin': '217', 'entity1_end': '226', 'entity2': 'TREATMENT'}),\n",
       " Annotation(category, 217, 302, OVERLAP, {'chunk2': 'metformin', 'confidence': '0.9998821', 'entity2_end': '302', 'chunk1': '03/02/2018', 'entity2_begin': '294', 'entity1': 'DATE', 'entity1_begin': '217', 'entity1_end': '226', 'entity2': 'TREATMENT'}),\n",
       " Annotation(category, 217, 326, OVERLAP, {'chunk2': 'two times a day', 'confidence': '0.9535232', 'entity2_end': '326', 'chunk1': '03/02/2018', 'entity2_begin': '312', 'entity1': 'DATE', 'entity1_begin': '217', 'entity1_end': '226', 'entity2': 'FREQUENCY'}),\n",
       " Annotation(category, 243, 287, OVERLAP, {'chunk2': 'insulin lispro', 'confidence': '1.0', 'entity2_end': '287', 'chunk1': 'insulin glargine', 'entity2_begin': '274', 'entity1': 'TREATMENT', 'entity1_begin': '243', 'entity1_end': '258', 'entity2': 'TREATMENT'}),\n",
       " Annotation(category, 243, 302, OVERLAP, {'chunk2': 'metformin', 'confidence': '1.0', 'entity2_end': '302', 'chunk1': 'insulin glargine', 'entity2_begin': '294', 'entity1': 'TREATMENT', 'entity1_begin': '243', 'entity1_end': '258', 'entity2': 'TREATMENT'}),\n",
       " Annotation(category, 243, 326, OVERLAP, {'chunk2': 'two times a day', 'confidence': '0.98034453', 'entity2_end': '326', 'chunk1': 'insulin glargine', 'entity2_begin': '312', 'entity1': 'TREATMENT', 'entity1_begin': '243', 'entity1_end': '258', 'entity2': 'FREQUENCY'}),\n",
       " Annotation(category, 274, 302, OVERLAP, {'chunk2': 'metformin', 'confidence': '1.0', 'entity2_end': '302', 'chunk1': 'insulin lispro', 'entity2_begin': '294', 'entity1': 'TREATMENT', 'entity1_begin': '274', 'entity1_end': '287', 'entity2': 'TREATMENT'}),\n",
       " Annotation(category, 274, 326, OVERLAP, {'chunk2': 'two times a day', 'confidence': '1.0', 'entity2_end': '326', 'chunk1': 'insulin lispro', 'entity2_begin': '312', 'entity1': 'TREATMENT', 'entity1_begin': '274', 'entity1_end': '287', 'entity2': 'FREQUENCY'}),\n",
       " Annotation(category, 294, 326, OVERLAP, {'chunk2': 'two times a day', 'confidence': '1.0', 'entity2_end': '326', 'chunk1': 'metformin', 'entity2_begin': '312', 'entity1': 'TREATMENT', 'entity1_begin': '294', 'entity1_end': '302', 'entity2': 'FREQUENCY'})]"
      ]
     },
     "execution_count": 20,
     "metadata": {
      "tags": []
     },
     "output_type": "execute_result"
    }
   ],
   "source": [
    "annotations[0]['clinical_relations']"
   ]
  },
  {
   "cell_type": "markdown",
   "metadata": {
    "id": "TFBWJmXlMue8"
   },
   "source": [
    "## 3.explain_clinical_doc_ade \n",
    "\n",
    "A pipeline for `Adverse Drug Events (ADE)` with `ner_ade_healthcare`, and `classifierdl_ade_biobert`. It will extract `ADE` and `DRUG` clinical entities, and then assign ADE status to a text(`True` means ADE, `False` means not related to ADE). Also extracts relations between `DRUG` and `ADE` entities (`1` means the adverse event and drug entities are related, `0` is not related)."
   ]
  },
  {
   "cell_type": "code",
   "execution_count": null,
   "metadata": {
    "colab": {
     "base_uri": "https://localhost:8080/"
    },
    "id": "oYaFInzXM0Gw",
    "outputId": "50dc6dfe-9d08-4e1e-da02-f5f383358057"
   },
   "outputs": [
    {
     "name": "stdout",
     "output_type": "stream",
     "text": [
      "explain_clinical_doc_ade download started this may take some time.\n",
      "Approx size to download 462.3 MB\n",
      "[OK!]\n"
     ]
    }
   ],
   "source": [
    "ade_pipeline = PretrainedPipeline('explain_clinical_doc_ade', 'en', 'clinical/models')"
   ]
  },
  {
   "cell_type": "code",
   "execution_count": null,
   "metadata": {
    "colab": {
     "base_uri": "https://localhost:8080/"
    },
    "id": "D4MaO6YIsbS5",
    "outputId": "334d1bdf-6a9d-48e4-d5e9-837b02784630"
   },
   "outputs": [
    {
     "data": {
      "text/plain": [
       "dict_keys(['bert_sentence_embeddings', 'bert_embeddings', 'document', 'ner_chunks_ade_assertion', 'ner_tags_ade', 'relations_ade_drug', 'ner_chunks_ade', 'assertion_ade', 'tokens', 'class', 'pos_tags', 'dependencies'])"
      ]
     },
     "execution_count": 30,
     "metadata": {
      "tags": []
     },
     "output_type": "execute_result"
    }
   ],
   "source": [
    "result = ade_pipeline.fullAnnotate(\"The main adverse effects of Leflunomide consist of diarrhea, nausea, liver enzyme elevation, hypertension, alopecia, and allergic skin reactions.\")\n",
    "\n",
    "result[0].keys()"
   ]
  },
  {
   "cell_type": "code",
   "execution_count": null,
   "metadata": {
    "colab": {
     "base_uri": "https://localhost:8080/"
    },
    "id": "ACvoR5uZfV1x",
    "outputId": "f5442186-c660-4c9f-f951-4412fb94eeda"
   },
   "outputs": [
    {
     "data": {
      "text/plain": [
       "{'sentence': '0', 'False': '0.0033159005', 'True': '0.99668413'}"
      ]
     },
     "execution_count": 31,
     "metadata": {
      "tags": []
     },
     "output_type": "execute_result"
    }
   ],
   "source": [
    "result[0]['class'][0].metadata"
   ]
  },
  {
   "cell_type": "code",
   "execution_count": null,
   "metadata": {
    "colab": {
     "base_uri": "https://localhost:8080/",
     "height": 292
    },
    "id": "uiZWyLFuum9g",
    "outputId": "db2723fd-af36-4af8-b56d-840c48ea0934"
   },
   "outputs": [
    {
     "name": "stdout",
     "output_type": "stream",
     "text": [
      "sentence: Jaw,neck, low back and hip pains. Numbness in legs and arms. Took about a month for the same symptoms to begin with Vytorin. The pravachol started the pains again in about 3 months. I stopped taking all statin drungs. Still hurting after 2 months of stopping. Be careful taking this drug.\n",
      "\n",
      "ADE status: True\n",
      "prediction probability>> True :  0.99863094 False:  0.0013689825\n"
     ]
    },
    {
     "data": {
      "text/html": [
       "<div>\n",
       "<style scoped>\n",
       "    .dataframe tbody tr th:only-of-type {\n",
       "        vertical-align: middle;\n",
       "    }\n",
       "\n",
       "    .dataframe tbody tr th {\n",
       "        vertical-align: top;\n",
       "    }\n",
       "\n",
       "    .dataframe thead th {\n",
       "        text-align: right;\n",
       "    }\n",
       "</style>\n",
       "<table border=\"1\" class=\"dataframe\">\n",
       "  <thead>\n",
       "    <tr style=\"text-align: right;\">\n",
       "      <th></th>\n",
       "      <th>chunks</th>\n",
       "      <th>entities</th>\n",
       "      <th>begin</th>\n",
       "      <th>end</th>\n",
       "    </tr>\n",
       "  </thead>\n",
       "  <tbody>\n",
       "    <tr>\n",
       "      <th>0</th>\n",
       "      <td>Jaw,neck, low back and hip pains</td>\n",
       "      <td>ADE</td>\n",
       "      <td>0</td>\n",
       "      <td>31</td>\n",
       "    </tr>\n",
       "    <tr>\n",
       "      <th>1</th>\n",
       "      <td>Numbness</td>\n",
       "      <td>ADE</td>\n",
       "      <td>34</td>\n",
       "      <td>41</td>\n",
       "    </tr>\n",
       "    <tr>\n",
       "      <th>2</th>\n",
       "      <td>Vytorin</td>\n",
       "      <td>DRUG</td>\n",
       "      <td>116</td>\n",
       "      <td>122</td>\n",
       "    </tr>\n",
       "    <tr>\n",
       "      <th>3</th>\n",
       "      <td>pravachol</td>\n",
       "      <td>DRUG</td>\n",
       "      <td>129</td>\n",
       "      <td>137</td>\n",
       "    </tr>\n",
       "    <tr>\n",
       "      <th>4</th>\n",
       "      <td>pains</td>\n",
       "      <td>ADE</td>\n",
       "      <td>151</td>\n",
       "      <td>155</td>\n",
       "    </tr>\n",
       "  </tbody>\n",
       "</table>\n",
       "</div>"
      ],
      "text/plain": [
       "                             chunks entities  begin  end\n",
       "0  Jaw,neck, low back and hip pains      ADE      0   31\n",
       "1                          Numbness      ADE     34   41\n",
       "2                           Vytorin     DRUG    116  122\n",
       "3                         pravachol     DRUG    129  137\n",
       "4                             pains      ADE    151  155"
      ]
     },
     "execution_count": 23,
     "metadata": {
      "tags": []
     },
     "output_type": "execute_result"
    }
   ],
   "source": [
    "text = \"Jaw,neck, low back and hip pains. Numbness in legs and arms. Took about a month for the same symptoms to begin with Vytorin. The pravachol started the pains again in about 3 months. I stopped taking all statin drungs. Still hurting after 2 months of stopping. Be careful taking this drug.\"\n",
    "\n",
    "import pandas as pd\n",
    "\n",
    "chunks = []\n",
    "entities = []\n",
    "begin =[]\n",
    "end = []\n",
    "\n",
    "print ('sentence:', text)\n",
    "print()\n",
    "\n",
    "result = ade_pipeline.fullAnnotate(text)\n",
    "\n",
    "print ('ADE status:', result[0]['class'][0].result)\n",
    "\n",
    "print ('prediction probability>> True : ', result[0]['class'][0].metadata['True'], \\\n",
    "        'False: ', result[0]['class'][0].metadata['False'])\n",
    "\n",
    "for n in result[0]['ner_chunks_ade']:\n",
    "\n",
    "    begin.append(n.begin)\n",
    "    end.append(n.end)\n",
    "    chunks.append(n.result)\n",
    "    entities.append(n.metadata['entity']) \n",
    "\n",
    "df = pd.DataFrame({'chunks':chunks, 'entities':entities,\n",
    "                'begin': begin, 'end': end})\n",
    "\n",
    "df\n"
   ]
  },
  {
   "cell_type": "markdown",
   "metadata": {
    "id": "u3ZaUbUkiF77"
   },
   "source": [
    "#### with AssertionDL"
   ]
  },
  {
   "cell_type": "code",
   "execution_count": null,
   "metadata": {
    "colab": {
     "base_uri": "https://localhost:8080/",
     "height": 224
    },
    "id": "P9UcxSIBg9C-",
    "outputId": "e59be60b-64f2-4a1d-9d6d-77b22955707a"
   },
   "outputs": [
    {
     "name": "stdout",
     "output_type": "stream",
     "text": [
      "I have an allergic reaction to vancomycin. \n",
      "My skin has be itchy, sore throat/burning/itchy, and numbness in tongue and gums. \n",
      "I would not recommend this drug to anyone, especially since I have never had such an adverse reaction to any other medication.\n"
     ]
    },
    {
     "data": {
      "text/html": [
       "<div>\n",
       "<style scoped>\n",
       "    .dataframe tbody tr th:only-of-type {\n",
       "        vertical-align: middle;\n",
       "    }\n",
       "\n",
       "    .dataframe tbody tr th {\n",
       "        vertical-align: top;\n",
       "    }\n",
       "\n",
       "    .dataframe thead th {\n",
       "        text-align: right;\n",
       "    }\n",
       "</style>\n",
       "<table border=\"1\" class=\"dataframe\">\n",
       "  <thead>\n",
       "    <tr style=\"text-align: right;\">\n",
       "      <th></th>\n",
       "      <th>chunks</th>\n",
       "      <th>entities</th>\n",
       "      <th>assertion</th>\n",
       "    </tr>\n",
       "  </thead>\n",
       "  <tbody>\n",
       "    <tr>\n",
       "      <th>0</th>\n",
       "      <td>allergic reaction</td>\n",
       "      <td>ADE</td>\n",
       "      <td>present</td>\n",
       "    </tr>\n",
       "    <tr>\n",
       "      <th>1</th>\n",
       "      <td>itchy</td>\n",
       "      <td>ADE</td>\n",
       "      <td>present</td>\n",
       "    </tr>\n",
       "    <tr>\n",
       "      <th>2</th>\n",
       "      <td>sore throat/burning/itchy</td>\n",
       "      <td>ADE</td>\n",
       "      <td>present</td>\n",
       "    </tr>\n",
       "    <tr>\n",
       "      <th>3</th>\n",
       "      <td>numbness in tongue and gums</td>\n",
       "      <td>ADE</td>\n",
       "      <td>present</td>\n",
       "    </tr>\n",
       "  </tbody>\n",
       "</table>\n",
       "</div>"
      ],
      "text/plain": [
       "                        chunks entities assertion\n",
       "0            allergic reaction      ADE   present\n",
       "1                        itchy      ADE   present\n",
       "2    sore throat/burning/itchy      ADE   present\n",
       "3  numbness in tongue and gums      ADE   present"
      ]
     },
     "execution_count": 84,
     "metadata": {
      "tags": []
     },
     "output_type": "execute_result"
    }
   ],
   "source": [
    "import pandas as pd\n",
    "\n",
    "text = \"\"\"I have an allergic reaction to vancomycin. \n",
    "My skin has be itchy, sore throat/burning/itchy, and numbness in tongue and gums. \n",
    "I would not recommend this drug to anyone, especially since I have never had such an adverse reaction to any other medication.\"\"\"\n",
    "\n",
    "print (text)\n",
    "\n",
    "light_result = ade_pipeline.fullAnnotate(text)[0]\n",
    "\n",
    "chunks=[]\n",
    "entities=[]\n",
    "status=[]\n",
    "\n",
    "for n,m in zip(light_result['ner_chunks_ade_assertion'],light_result['assertion_ade']):\n",
    "    \n",
    "    chunks.append(n.result)\n",
    "    entities.append(n.metadata['entity']) \n",
    "    status.append(m.result)\n",
    "        \n",
    "df = pd.DataFrame({'chunks':chunks, 'entities':entities, 'assertion':status})\n",
    "\n",
    "df"
   ]
  },
  {
   "cell_type": "markdown",
   "metadata": {
    "id": "GhzptcbPvtbw"
   },
   "source": [
    "#### with Relation Extraction"
   ]
  },
  {
   "cell_type": "code",
   "execution_count": null,
   "metadata": {
    "colab": {
     "base_uri": "https://localhost:8080/",
     "height": 278
    },
    "id": "FFb1mhTmwEJB",
    "outputId": "4b54a51d-83ad-4f48-952f-7e513bad74a0"
   },
   "outputs": [
    {
     "name": "stdout",
     "output_type": "stream",
     "text": [
      "I have Rhuematoid Arthritis for 35 yrs and have been on many arthritis meds. \n",
      "I currently am on Relefen for inflamation, Prednisone 5mg, every other day and Enbrel injections once a week. \n",
      "I have no problems from these drugs. Eight months ago, another doctor put me on Lipitor 10mg daily because my chol was 240. \n",
      "Over a period of 6 months, it went down to 159, which was great, BUT I started having terrible aching pain in my arms about that time which was radiating down my arms from my shoulder to my hands.\n",
      "\n"
     ]
    },
    {
     "data": {
      "text/html": [
       "<div>\n",
       "<style scoped>\n",
       "    .dataframe tbody tr th:only-of-type {\n",
       "        vertical-align: middle;\n",
       "    }\n",
       "\n",
       "    .dataframe tbody tr th {\n",
       "        vertical-align: top;\n",
       "    }\n",
       "\n",
       "    .dataframe thead th {\n",
       "        text-align: right;\n",
       "    }\n",
       "</style>\n",
       "<table border=\"1\" class=\"dataframe\">\n",
       "  <thead>\n",
       "    <tr style=\"text-align: right;\">\n",
       "      <th></th>\n",
       "      <th>relation</th>\n",
       "      <th>entity1</th>\n",
       "      <th>entity1_begin</th>\n",
       "      <th>entity1_end</th>\n",
       "      <th>chunk1</th>\n",
       "      <th>entity2</th>\n",
       "      <th>entity2_begin</th>\n",
       "      <th>entity2_end</th>\n",
       "      <th>chunk2</th>\n",
       "      <th>confidence</th>\n",
       "    </tr>\n",
       "  </thead>\n",
       "  <tbody>\n",
       "    <tr>\n",
       "      <th>0</th>\n",
       "      <td>0</td>\n",
       "      <td>DRUG</td>\n",
       "      <td>96</td>\n",
       "      <td>102</td>\n",
       "      <td>Relefen</td>\n",
       "      <td>ADE</td>\n",
       "      <td>409</td>\n",
       "      <td>430</td>\n",
       "      <td>aching pain in my arms</td>\n",
       "      <td>1.0</td>\n",
       "    </tr>\n",
       "    <tr>\n",
       "      <th>1</th>\n",
       "      <td>0</td>\n",
       "      <td>DRUG</td>\n",
       "      <td>121</td>\n",
       "      <td>130</td>\n",
       "      <td>Prednisone</td>\n",
       "      <td>ADE</td>\n",
       "      <td>409</td>\n",
       "      <td>430</td>\n",
       "      <td>aching pain in my arms</td>\n",
       "      <td>0.9999989</td>\n",
       "    </tr>\n",
       "    <tr>\n",
       "      <th>2</th>\n",
       "      <td>0</td>\n",
       "      <td>DRUG</td>\n",
       "      <td>157</td>\n",
       "      <td>173</td>\n",
       "      <td>Enbrel injections</td>\n",
       "      <td>ADE</td>\n",
       "      <td>409</td>\n",
       "      <td>430</td>\n",
       "      <td>aching pain in my arms</td>\n",
       "      <td>0.9999994</td>\n",
       "    </tr>\n",
       "    <tr>\n",
       "      <th>3</th>\n",
       "      <td>1</td>\n",
       "      <td>DRUG</td>\n",
       "      <td>269</td>\n",
       "      <td>275</td>\n",
       "      <td>Lipitor</td>\n",
       "      <td>ADE</td>\n",
       "      <td>409</td>\n",
       "      <td>430</td>\n",
       "      <td>aching pain in my arms</td>\n",
       "      <td>0.9999975</td>\n",
       "    </tr>\n",
       "  </tbody>\n",
       "</table>\n",
       "</div>"
      ],
      "text/plain": [
       "  relation entity1 entity1_begin  ... entity2_end                  chunk2 confidence\n",
       "0        0    DRUG            96  ...         430  aching pain in my arms        1.0\n",
       "1        0    DRUG           121  ...         430  aching pain in my arms  0.9999989\n",
       "2        0    DRUG           157  ...         430  aching pain in my arms  0.9999994\n",
       "3        1    DRUG           269  ...         430  aching pain in my arms  0.9999975\n",
       "\n",
       "[4 rows x 10 columns]"
      ]
     },
     "execution_count": 72,
     "metadata": {
      "tags": []
     },
     "output_type": "execute_result"
    }
   ],
   "source": [
    "import pandas as pd\n",
    "\n",
    "text = \"\"\"I have Rhuematoid Arthritis for 35 yrs and have been on many arthritis meds. \n",
    "I currently am on Relefen for inflamation, Prednisone 5mg, every other day and Enbrel injections once a week. \n",
    "I have no problems from these drugs. Eight months ago, another doctor put me on Lipitor 10mg daily because my chol was 240. \n",
    "Over a period of 6 months, it went down to 159, which was great, BUT I started having terrible aching pain in my arms about that time which was radiating down my arms from my shoulder to my hands.\n",
    "\"\"\"\n",
    " \n",
    "print (text)\n",
    "\n",
    "results = ade_pipeline.fullAnnotate(text)\n",
    "\n",
    "rel_pairs=[]\n",
    "\n",
    "for rel in results[0][\"relations_ade_drug\"]:\n",
    "    rel_pairs.append((\n",
    "        rel.result, \n",
    "        rel.metadata['entity1'], \n",
    "        rel.metadata['entity1_begin'],\n",
    "        rel.metadata['entity1_end'],\n",
    "        rel.metadata['chunk1'], \n",
    "        rel.metadata['entity2'],\n",
    "        rel.metadata['entity2_begin'],\n",
    "        rel.metadata['entity2_end'],\n",
    "        rel.metadata['chunk2'], \n",
    "        rel.metadata['confidence']\n",
    "    ))\n",
    "\n",
    "rel_df = pd.DataFrame(rel_pairs, columns=['relation','entity1','entity1_begin','entity1_end','chunk1','entity2','entity2_begin','entity2_end','chunk2', 'confidence'])\n",
    "rel_df"
   ]
  },
  {
   "cell_type": "markdown",
   "metadata": {
    "id": "dbws3XaBhGnJ"
   },
   "source": [
    "## 4.Clinical Deidentification\n",
    "\n",
    "This pipeline can be used to deidentify PHI information from medical texts. The PHI information will be masked and obfuscated in the resulting text. The pipeline can mask and obfuscate `AGE`, `CONTACT`, `DATE`, `ID`, `LOCATION`, `NAME`, `PROFESSION`, `CITY`, `COUNTRY`, `DOCTOR`, `HOSPITAL`, `IDNUM`, `MEDICALRECORD`, `ORGANIZATION`, `PATIENT`, `PHONE`, `PROFESSION`, `STREET`, `USERNAME`, `ZIP`, `ACCOUNT`, `LICENSE`, `VIN`, `SSN`, `DLN`, `PLATE`, `IPADDR` entities."
   ]
  },
  {
   "cell_type": "code",
   "execution_count": null,
   "metadata": {
    "colab": {
     "base_uri": "https://localhost:8080/"
    },
    "id": "8TS6khzVh3RK",
    "outputId": "ab606cab-4427-4f64-fb8c-bdebb23f97c7"
   },
   "outputs": [
    {
     "name": "stdout",
     "output_type": "stream",
     "text": [
      "clinical_deidentification download started this may take some time.\n",
      "Approx size to download 1.6 GB\n",
      "[OK!]\n"
     ]
    }
   ],
   "source": [
    "deid_pipeline = PretrainedPipeline(\"clinical_deidentification\", \"en\", \"clinical/models\")"
   ]
  },
  {
   "cell_type": "code",
   "execution_count": null,
   "metadata": {
    "id": "YRH9Jz-nh6X1"
   },
   "outputs": [],
   "source": [
    "deid_res = deid_pipeline.annotate(\"Record date : 2093-01-13, David Hale, M.D. IP: 203.120.223.13. The driver's license no:A334455B. the SSN:324598674 and e-mail: hale@gmail.com. Name : Hendrickson, Ora MR. 25 years-old # 719435 Date : 01/13/93. Signed by Oliveira Sander, . Record date : 2079-11-09, Patient's VIN : 1HGBH41JXMN109286.\")"
   ]
  },
  {
   "cell_type": "code",
   "execution_count": null,
   "metadata": {
    "colab": {
     "base_uri": "https://localhost:8080/"
    },
    "id": "UbKdDN71xUfm",
    "outputId": "fb309fee-5a79-4449-a1c4-80b2cd16d7e9"
   },
   "outputs": [
    {
     "data": {
      "text/plain": [
       "dict_keys(['masked', 'obfuscated', 'ner_chunk', 'sentence'])"
      ]
     },
     "execution_count": 14,
     "metadata": {
      "tags": []
     },
     "output_type": "execute_result"
    }
   ],
   "source": [
    "deid_res.keys()"
   ]
  },
  {
   "cell_type": "code",
   "execution_count": null,
   "metadata": {
    "colab": {
     "base_uri": "https://localhost:8080/",
     "height": 260
    },
    "id": "aE04m2HKlpAS",
    "outputId": "2b8a6894-98f8-430d-dd1a-bcc592272d7a"
   },
   "outputs": [
    {
     "data": {
      "text/html": [
       "<div>\n",
       "<style scoped>\n",
       "    .dataframe tbody tr th:only-of-type {\n",
       "        vertical-align: middle;\n",
       "    }\n",
       "\n",
       "    .dataframe tbody tr th {\n",
       "        vertical-align: top;\n",
       "    }\n",
       "\n",
       "    .dataframe thead th {\n",
       "        text-align: right;\n",
       "    }\n",
       "</style>\n",
       "<table border=\"1\" class=\"dataframe\">\n",
       "  <thead>\n",
       "    <tr style=\"text-align: right;\">\n",
       "      <th></th>\n",
       "      <th>Sentence</th>\n",
       "      <th>Masked</th>\n",
       "      <th>Obfuscated</th>\n",
       "    </tr>\n",
       "  </thead>\n",
       "  <tbody>\n",
       "    <tr>\n",
       "      <th>0</th>\n",
       "      <td>Record date : 2093-01-13, David Hale, M.D.</td>\n",
       "      <td>Record date : &lt;DATE&gt;, &lt;DOCTOR&gt;, M.D.</td>\n",
       "      <td>Record date : 2093-01-17, Dr Armin Gums, M.D.</td>\n",
       "    </tr>\n",
       "    <tr>\n",
       "      <th>1</th>\n",
       "      <td>IP: 203.120.223.13.</td>\n",
       "      <td>IP: &lt;IPADDR&gt;.</td>\n",
       "      <td>IP: 003.003.003.003.</td>\n",
       "    </tr>\n",
       "    <tr>\n",
       "      <th>2</th>\n",
       "      <td>The driver's license no:A334455B.</td>\n",
       "      <td>The driver's license &lt;DLN&gt;.</td>\n",
       "      <td>The driver's license S99921801.</td>\n",
       "    </tr>\n",
       "    <tr>\n",
       "      <th>3</th>\n",
       "      <td>the SSN:324598674 and e-mail: hale@gmail.com.</td>\n",
       "      <td>the &lt;SSN&gt; and e-mail: &lt;EMAIL&gt;.</td>\n",
       "      <td>the 999-36-5441 and e-mail: Coy@google.com.</td>\n",
       "    </tr>\n",
       "    <tr>\n",
       "      <th>4</th>\n",
       "      <td>Name : Hendrickson, Ora MR. 25 years-old # 719435 Date : 01/13/93.</td>\n",
       "      <td>Name : &lt;PATIENT&gt; MR. &lt;AGE&gt; years-old # &lt;MEDICALRECORD&gt; Date : &lt;DATE&gt;.</td>\n",
       "      <td>Name : Katheran Furry MR. 5 years-old # Y8290315 Date : 03-18-1986.</td>\n",
       "    </tr>\n",
       "    <tr>\n",
       "      <th>5</th>\n",
       "      <td>Signed by Oliveira Sander, .</td>\n",
       "      <td>Signed by &lt;DOCTOR&gt;, .</td>\n",
       "      <td>Signed by Dr Pansy Perking, .</td>\n",
       "    </tr>\n",
       "    <tr>\n",
       "      <th>6</th>\n",
       "      <td>Record date : 2079-11-09, Patient's VIN : 1HGBH41JXMN109286.</td>\n",
       "      <td>Record date : &lt;DATE&gt;, Patient's VIN : &lt;VIN&gt;.</td>\n",
       "      <td>Record date : 2079-12-22, Patient's VIN : 5eeee44ffff555666.</td>\n",
       "    </tr>\n",
       "  </tbody>\n",
       "</table>\n",
       "</div>"
      ],
      "text/plain": [
       "                                                             Sentence  ...                                                           Obfuscated\n",
       "0                          Record date : 2093-01-13, David Hale, M.D.  ...                        Record date : 2093-01-17, Dr Armin Gums, M.D.\n",
       "1                                                 IP: 203.120.223.13.  ...                                                 IP: 003.003.003.003.\n",
       "2                                   The driver's license no:A334455B.  ...                                      The driver's license S99921801.\n",
       "3                       the SSN:324598674 and e-mail: hale@gmail.com.  ...                          the 999-36-5441 and e-mail: Coy@google.com.\n",
       "4  Name : Hendrickson, Ora MR. 25 years-old # 719435 Date : 01/13/93.  ...  Name : Katheran Furry MR. 5 years-old # Y8290315 Date : 03-18-1986.\n",
       "5                                        Signed by Oliveira Sander, .  ...                                        Signed by Dr Pansy Perking, .\n",
       "6        Record date : 2079-11-09, Patient's VIN : 1HGBH41JXMN109286.  ...         Record date : 2079-12-22, Patient's VIN : 5eeee44ffff555666.\n",
       "\n",
       "[7 rows x 3 columns]"
      ]
     },
     "execution_count": 15,
     "metadata": {
      "tags": []
     },
     "output_type": "execute_result"
    }
   ],
   "source": [
    "pd.set_option(\"display.max_colwidth\", 100)\n",
    "\n",
    "df = pd.DataFrame(list(zip(deid_res['sentence'], deid_res['masked'], deid_res['obfuscated'])),\n",
    "                  columns = ['Sentence','Masked', 'Obfuscated'])\n",
    "df"
   ]
  },
  {
   "cell_type": "markdown",
   "metadata": {
    "id": "WJUJhRsDN0P4"
   },
   "source": [
    "## 5.ICD10CM to Snomed Code\n",
    "\n",
    "This pretrained pipeline maps ICD10CM codes to SNOMED codes without using any text data. You’ll just feed a comma or white space delimited ICD10CM codes and it will return the corresponding SNOMED codes as a list. For the time being, it supports 132K Snomed codes and will be augmented & enriched in the next releases."
   ]
  },
  {
   "cell_type": "code",
   "execution_count": null,
   "metadata": {
    "colab": {
     "base_uri": "https://localhost:8080/"
    },
    "id": "URlYyaQnPA1E",
    "outputId": "7f8ad858-255a-4f2d-d23a-f3dede1aacee"
   },
   "outputs": [
    {
     "name": "stdout",
     "output_type": "stream",
     "text": [
      "icd10cm_snomed_mapping download started this may take some time.\n",
      "Approx size to download 514.5 KB\n",
      "[OK!]\n"
     ]
    }
   ],
   "source": [
    "icd_snomed_pipeline = PretrainedPipeline(\"icd10cm_snomed_mapping\", \"en\", \"clinical/models\")"
   ]
  },
  {
   "cell_type": "code",
   "execution_count": null,
   "metadata": {
    "colab": {
     "base_uri": "https://localhost:8080/"
    },
    "id": "jhqXGDTSTaEW",
    "outputId": "ed3e8fc6-15cb-466f-e9da-fbaba1903704"
   },
   "outputs": [
    {
     "data": {
      "text/plain": [
       "[DocumentAssembler_effe917bc86b,\n",
       " REGEX_TOKENIZER_a2e7a20a20d4,\n",
       " LEMMATIZER_0ca0f7005a90,\n",
       " Finisher_07470acb09e3]"
      ]
     },
     "execution_count": 41,
     "metadata": {
      "tags": []
     },
     "output_type": "execute_result"
    }
   ],
   "source": [
    "icd_snomed_pipeline.model.stages"
   ]
  },
  {
   "cell_type": "code",
   "execution_count": null,
   "metadata": {
    "colab": {
     "base_uri": "https://localhost:8080/"
    },
    "id": "pExgipi5O7vY",
    "outputId": "0fb4b574-6ce5-4f2e-9c18-710ad3a82cb1"
   },
   "outputs": [
    {
     "data": {
      "text/plain": [
       "{'icd10cm': ['M89.50', 'I288', 'H16269'],\n",
       " 'snomed': ['733187009', '449433008', '51264003']}"
      ]
     },
     "execution_count": 42,
     "metadata": {
      "tags": []
     },
     "output_type": "execute_result"
    }
   ],
   "source": [
    "icd_snomed_pipeline.annotate('M89.50 I288 H16269')"
   ]
  },
  {
   "cell_type": "markdown",
   "metadata": {
    "id": "hrgvx5lTXwEt"
   },
   "source": [
    "|**ICD10CM** | **Details** | \n",
    "| ---------- | -----------:|\n",
    "| M89.50 |  Osteolysis, unspecified site |\n",
    "| I288 | Other diseases of pulmonary vessels |\n",
    "| H16269 | Vernal keratoconjunctivitis, with limbar and corneal involvement, unspecified eye |\n",
    "\n",
    "| **SNOMED** | **Details** |\n",
    "| ---------- | -----------:|\n",
    "| 733187009 | Osteolysis following surgical procedure on skeletal system |\n",
    "| 449433008 | Diffuse stenosis of left pulmonary artery |\n",
    "| 51264003 | Limbal AND/OR corneal involvement in vernal conjunctivitis |"
   ]
  },
  {
   "cell_type": "markdown",
   "metadata": {
    "id": "kG1whe5KPVH5"
   },
   "source": [
    "## 6.Snomed to ICD10CM Code\n",
    "This pretrained pipeline maps SNOMED codes to ICD10CM codes without using any text data. You'll just feed a comma or white space delimited SNOMED codes and it will return the corresponding candidate ICD10CM codes as a list (multiple ICD10 codes for each Snomed code). For the time being, it supports 132K Snomed codes and 30K ICD10 codes and will be augmented & enriched in the next releases."
   ]
  },
  {
   "cell_type": "code",
   "execution_count": null,
   "metadata": {
    "colab": {
     "base_uri": "https://localhost:8080/"
    },
    "id": "Gk5fU0J0Rzw0",
    "outputId": "9a7f8bfe-7c78-4e07-b07a-8df8dd802b4f"
   },
   "outputs": [
    {
     "name": "stdout",
     "output_type": "stream",
     "text": [
      "snomed_icd10cm_mapping download started this may take some time.\n",
      "Approx size to download 1.8 MB\n",
      "[OK!]\n"
     ]
    }
   ],
   "source": [
    "snomed_icd_pipeline = PretrainedPipeline(\"snomed_icd10cm_mapping\",\"en\",\"clinical/models\")"
   ]
  },
  {
   "cell_type": "code",
   "execution_count": null,
   "metadata": {
    "colab": {
     "base_uri": "https://localhost:8080/"
    },
    "id": "m85pQn8lSJ8l",
    "outputId": "33187dc8-70c0-4b40-bb6e-253a8e37aea7"
   },
   "outputs": [
    {
     "data": {
      "text/plain": [
       "[DocumentAssembler_136f968cb1ef,\n",
       " REGEX_TOKENIZER_ecc8d3a8dbc9,\n",
       " LEMMATIZER_e9ae88d69d05,\n",
       " Finisher_790dd28aacd1]"
      ]
     },
     "execution_count": 44,
     "metadata": {
      "tags": []
     },
     "output_type": "execute_result"
    }
   ],
   "source": [
    "snomed_icd_pipeline.model.stages"
   ]
  },
  {
   "cell_type": "code",
   "execution_count": null,
   "metadata": {
    "colab": {
     "base_uri": "https://localhost:8080/"
    },
    "id": "AivemfSaRdjD",
    "outputId": "2728d874-0f11-4171-94a3-9f46037b75eb"
   },
   "outputs": [
    {
     "data": {
      "text/plain": [
       "{'icd10cm': ['M89.59, M89.50, M96.89',\n",
       "  'Q25.6, I28.8',\n",
       "  'H10.45, H10.1, H16.269'],\n",
       " 'snomed': ['733187009', '449433008', '51264003']}"
      ]
     },
     "execution_count": 45,
     "metadata": {
      "tags": []
     },
     "output_type": "execute_result"
    }
   ],
   "source": [
    "snomed_icd_pipeline.annotate('733187009 449433008 51264003')"
   ]
  },
  {
   "cell_type": "markdown",
   "metadata": {
    "id": "W618yxZYbs5U"
   },
   "source": [
    "| **SNOMED** | **Details** |\n",
    "| ------ | ------:|\n",
    "| 733187009| Osteolysis following surgical procedure on skeletal system |\n",
    "| 449433008 | Diffuse stenosis of left pulmonary artery |\n",
    "| 51264003 | Limbal AND/OR corneal involvement in vernal conjunctivitis|\n",
    "\n",
    "| **ICDM10CM** | **Details** |  \n",
    "| ---------- | ---------:|\n",
    "| M89.59 | Osteolysis, multiple sites |  \n",
    "| M89.50 | Osteolysis, unspecified site |\n",
    "| M96.89 | Other intraoperative and postprocedural complications and disorders of the musculoskeletal system | \n",
    "| Q25.6 | Stenosis of pulmonary artery |    \n",
    "| I28.8 | Other diseases of pulmonary vessels |\n",
    "| H10.45 | Other chronic allergic conjunctivitis |\n",
    "| H10.1 | Acute atopic conjunctivitis | \n",
    "| H16.269 | Vernal keratoconjunctivitis, with limbar and corneal involvement, unspecified eye |"
   ]
  },
  {
   "cell_type": "markdown",
   "metadata": {
    "id": "ubrDs3qa7gab"
   },
   "source": [
    "Also you can find these healthcare code mapping pretrained pipelines here: [Healthcare_Codes_Mapping](https://colab.research.google.com/github/JohnSnowLabs/spark-nlp-workshop/blob/master/tutorials/Certification_Trainings/Healthcare/11.1.Healthcare_Code_Mapping.ipynb)\n",
    "\n",
    "- ICD10CM to UMLS  \n",
    "- Snomed to UMLS \n",
    "- RxNorm to UMLS\n",
    "- RxNorm to MeSH\n",
    "- MeSH to UMLS"
   ]
  }
 ],
 "metadata": {
  "colab": {
   "collapsed_sections": [],
   "name": "11.Pretrained_Clinical_Pipelines.ipynb",
   "provenance": [],
   "toc_visible": true
  },
  "kernelspec": {
   "display_name": "Python 3 (ipykernel)",
   "language": "python",
   "name": "python3"
  },
  "language_info": {
   "codemirror_mode": {
    "name": "ipython",
    "version": 3
   },
   "file_extension": ".py",
   "mimetype": "text/x-python",
   "name": "python",
   "nbconvert_exporter": "python",
   "pygments_lexer": "ipython3",
   "version": "3.7.6"
  }
 },
 "nbformat": 4,
 "nbformat_minor": 1
}

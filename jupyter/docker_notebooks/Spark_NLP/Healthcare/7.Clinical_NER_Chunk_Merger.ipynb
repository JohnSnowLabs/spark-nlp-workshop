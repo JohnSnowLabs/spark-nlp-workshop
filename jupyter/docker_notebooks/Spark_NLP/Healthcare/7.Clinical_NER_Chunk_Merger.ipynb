{
 "cells": [
  {
   "cell_type": "markdown",
   "metadata": {
    "id": "PXzooPBq7ICh"
   },
   "source": [
    "![JohnSnowLabs](https://nlp.johnsnowlabs.com/assets/images/logo.png)"
   ]
  },
  {
   "cell_type": "markdown",
   "metadata": {
    "id": "sQFJ6aT4nfhw"
   },
   "source": [
    "[![Open In Colab](https://colab.research.google.com/assets/colab-badge.svg)](https://colab.research.google.com/github/JohnSnowLabs/spark-nlp-workshop/blob/master/tutorials/Certification_Trainings/Healthcare/7.Clinical_NER_Chunk_Merger.ipynb)"
   ]
  },
  {
   "cell_type": "markdown",
   "metadata": {
    "id": "8zIZE0c_7ICk"
   },
   "source": [
    "# 7. Clinical NER Chunk Merger"
   ]
  },
  {
   "cell_type": "code",
   "execution_count": null,
   "metadata": {
    "id": "RQAa_8kUXEvh"
   },
   "outputs": [],
   "source": [
    "import os\n",
    "\n",
    "jsl_secret = os.getenv('SECRET')\n",
    "\n",
    "import sparknlp\n",
    "sparknlp_version = sparknlp.version()\n",
    "import sparknlp_jsl\n",
    "jsl_version = sparknlp_jsl.version()\n",
    "\n",
    "print (jsl_secret)"
   ]
  },
  {
   "cell_type": "code",
   "execution_count": null,
   "metadata": {
    "colab": {
     "base_uri": "https://localhost:8080/"
    },
    "executionInfo": {
     "elapsed": 142132,
     "status": "ok",
     "timestamp": 1618465267412,
     "user": {
      "displayName": "muhammet şantaş",
      "photoUrl": "",
      "userId": "01037434825541536598"
     },
     "user_tz": -180
    },
    "id": "TTVtJh6oW1EY",
    "outputId": "6f94b27f-b64b-434a-cff4-22ee5675db6d"
   },
   "outputs": [
    {
     "name": "stdout",
     "output_type": "stream",
     "text": [
      "3.0.1\n",
      "3.0.0\n"
     ]
    }
   ],
   "source": [
    "import json\n",
    "import os\n",
    "from pyspark.ml import Pipeline,PipelineModel\n",
    "from pyspark.sql import SparkSession\n",
    "\n",
    "from sparknlp.annotator import *\n",
    "from sparknlp_jsl.annotator import *\n",
    "from sparknlp.base import *\n",
    "import sparknlp_jsl\n",
    "import sparknlp\n",
    "\n",
    "params = {\"spark.driver.memory\":\"16G\",\n",
    "\"spark.kryoserializer.buffer.max\":\"2000M\",\n",
    "\"spark.driver.maxResultSize\":\"2000M\"}\n",
    "\n",
    "spark = sparknlp_jsl.start(jsl_secret, params=params)\n",
    "\n",
    "print (sparknlp.version())\n",
    "print (sparknlp_jsl.version())"
   ]
  },
  {
   "cell_type": "code",
   "execution_count": null,
   "metadata": {
    "id": "hx2jxxCaVlOV"
   },
   "outputs": [],
   "source": [
    " # if you want to start the session with custom params as in start function above\n",
    "\n",
    "def start(secret):\n",
    "    builder = SparkSession.builder \\\n",
    "        .appName(\"Spark NLP Licensed\") \\\n",
    "        .master(\"local[*]\") \\\n",
    "        .config(\"spark.driver.memory\", \"16G\") \\\n",
    "        .config(\"spark.serializer\", \"org.apache.spark.serializer.KryoSerializer\") \\\n",
    "        .config(\"spark.kryoserializer.buffer.max\", \"2000M\") \\\n",
    "        .config(\"spark.jars.packages\", \"com.johnsnowlabs.nlp:spark-nlp_2.11:\"+version) \\\n",
    "        .config(\"spark.jars\", \"https://pypi.johnsnowlabs.com/\"+secret+\"/spark-nlp-jsl-\"+jsl_version+\".jar\")\n",
    "      \n",
    "    return builder.getOrCreate()\n",
    "\n",
    "\n",
    "#spark = start(secret)"
   ]
  },
  {
   "cell_type": "code",
   "execution_count": null,
   "metadata": {
    "colab": {
     "base_uri": "https://localhost:8080/",
     "height": 216
    },
    "executionInfo": {
     "elapsed": 142130,
     "status": "ok",
     "timestamp": 1618465267427,
     "user": {
      "displayName": "muhammet şantaş",
      "photoUrl": "",
      "userId": "01037434825541536598"
     },
     "user_tz": -180
    },
    "id": "7zP-9FcXVzx7",
    "outputId": "ff0ba345-c125-4c38-c4be-a1ed698f3dde"
   },
   "outputs": [
    {
     "data": {
      "text/html": [
       "\n",
       "            <div>\n",
       "                <p><b>SparkSession - in-memory</b></p>\n",
       "                \n",
       "        <div>\n",
       "            <p><b>SparkContext</b></p>\n",
       "\n",
       "            <p><a href=\"http://a3381dfa7562:4040\">Spark UI</a></p>\n",
       "\n",
       "            <dl>\n",
       "              <dt>Version</dt>\n",
       "                <dd><code>v3.1.1</code></dd>\n",
       "              <dt>Master</dt>\n",
       "                <dd><code>local[*]</code></dd>\n",
       "              <dt>AppName</dt>\n",
       "                <dd><code>Spark NLP Licensed</code></dd>\n",
       "            </dl>\n",
       "        </div>\n",
       "        \n",
       "            </div>\n",
       "        "
      ],
      "text/plain": [
       "<pyspark.sql.session.SparkSession at 0x7fadbeca6f90>"
      ]
     },
     "execution_count": 5,
     "metadata": {
      "tags": []
     },
     "output_type": "execute_result"
    }
   ],
   "source": [
    "spark"
   ]
  },
  {
   "cell_type": "code",
   "execution_count": null,
   "metadata": {
    "colab": {
     "base_uri": "https://localhost:8080/"
    },
    "executionInfo": {
     "elapsed": 1624,
     "status": "ok",
     "timestamp": 1618466149409,
     "user": {
      "displayName": "muhammet şantaş",
      "photoUrl": "",
      "userId": "01037434825541536598"
     },
     "user_tz": -180
    },
    "id": "1zgsiTxjaiMd",
    "outputId": "2fad95f4-aa4a-41cd-aab6-b17447c95522"
   },
   "outputs": [
    {
     "name": "stdout",
     "output_type": "stream",
     "text": [
      "+---+--------------------------------------------------+\n",
      "| id|                                              text|\n",
      "+---+--------------------------------------------------+\n",
      "|  1|A 63 years old man presents to the hospital wit...|\n",
      "+---+--------------------------------------------------+\n",
      "\n"
     ]
    }
   ],
   "source": [
    "# Sample data\n",
    "data_chunk_merge = spark.createDataFrame([\n",
    "  (1,\"\"\"A 63 years old man presents to the hospital with a history of recurrent infections that include cellulitis, pneumonias, and upper respiratory tract infections. He reports subjective fevers at home along with unintentional weight loss and occasional night sweats. The patient has a remote history of arthritis, which was diagnosed approximately 20 years ago and treated intermittently with methotrexate (MTX) and prednisone. On physical exam, he is found to be febrile at 102°F, rather cachectic, pale, and have hepatosplenomegaly. Several swollen joints that are tender to palpation and have decreased range of motion are also present. His laboratory values show pancytopenia with the most severe deficiency in neutrophils.\n",
    "\"\"\")]).toDF(\"id\",\"text\")\n",
    "\n",
    "data_chunk_merge.show(truncate=50)"
   ]
  },
  {
   "cell_type": "code",
   "execution_count": null,
   "metadata": {
    "colab": {
     "base_uri": "https://localhost:8080/"
    },
    "executionInfo": {
     "elapsed": 13138,
     "status": "ok",
     "timestamp": 1618466081423,
     "user": {
      "displayName": "muhammet şantaş",
      "photoUrl": "",
      "userId": "01037434825541536598"
     },
     "user_tz": -180
    },
    "id": "r2Yr96wrWPUH",
    "outputId": "a57e6a4c-f663-4210-e637-f684cf828c2e"
   },
   "outputs": [
    {
     "name": "stdout",
     "output_type": "stream",
     "text": [
      "embeddings_clinical download started this may take some time.\n",
      "Approximate size to download 1.6 GB\n",
      "[OK!]\n",
      "ner_deid_large download started this may take some time.\n",
      "Approximate size to download 14.1 MB\n",
      "[OK!]\n",
      "ner_bionlp download started this may take some time.\n",
      "Approximate size to download 13.9 MB\n",
      "[OK!]\n",
      "ner_jsl download started this may take some time.\n",
      "Approximate size to download 14 MB\n",
      "[OK!]\n"
     ]
    }
   ],
   "source": [
    "# Annotator that transforms a text column from dataframe into an Annotation ready for NLP\n",
    "\n",
    "documentAssembler = DocumentAssembler()\\\n",
    "  .setInputCol(\"text\")\\\n",
    "  .setOutputCol(\"document\")\n",
    "\n",
    "# Sentence Detector annotator, processes various sentences per line\n",
    "sentenceDetector = SentenceDetector()\\\n",
    "  .setInputCols([\"document\"])\\\n",
    "  .setOutputCol(\"sentence\")\n",
    "\n",
    "# Tokenizer splits words in a relevant format for NLP\n",
    "tokenizer = Tokenizer()\\\n",
    "  .setInputCols([\"sentence\"])\\\n",
    "  .setOutputCol(\"token\")\n",
    "\n",
    "# Clinical word embeddings trained on PubMED dataset\n",
    "word_embeddings = WordEmbeddingsModel.pretrained(\"embeddings_clinical\", \"en\", \"clinical/models\")\\\n",
    "  .setInputCols([\"sentence\", \"token\"])\\\n",
    "  .setOutputCol(\"embeddings\")\n",
    "\n",
    "# NER model trained on i2b2 (sampled from MIMIC) dataset\n",
    "clinical_ner = MedicalNerModel.pretrained(\"ner_deid_large\", \"en\", \"clinical/models\") \\\n",
    "  .setInputCols([\"sentence\", \"token\", \"embeddings\"]) \\\n",
    "  .setOutputCol(\"clinical_ner\")\n",
    "\n",
    "clinical_ner_converter = NerConverter() \\\n",
    "  .setInputCols([\"sentence\", \"token\", \"clinical_ner\"]) \\\n",
    "  .setOutputCol(\"clinical_ner_chunk\")\n",
    "\n",
    "# Cancer Genetics NER\n",
    "bionlp_ner = MedicalNerModel.pretrained(\"ner_bionlp\", \"en\", \"clinical/models\") \\\n",
    "  .setInputCols([\"sentence\", \"token\", \"embeddings\"]) \\\n",
    "  .setOutputCol(\"bionlp_ner\")\n",
    "\n",
    "bionlp_ner_converter = NerConverter() \\\n",
    "  .setInputCols([\"sentence\", \"token\", \"bionlp_ner\"]) \\\n",
    "  .setOutputCol(\"bionlp_ner_chunk\")\n",
    "\n",
    "# merge ner_chunks by prioritizing the overlapping indices (chunks with longer lengths and highest information will be kept from each ner model)\n",
    "chunk_merger_1 = ChunkMergeApproach()\\\n",
    "  .setInputCols('clinical_ner_chunk', \"bionlp_ner_chunk\")\\\n",
    "  .setOutputCol('clinical_bionlp_ner_chunk')\n",
    "\n",
    "# internal clinical NER (general terms)\n",
    "jsl_ner = MedicalNerModel.pretrained(\"ner_jsl\", \"en\", \"clinical/models\") \\\n",
    "  .setInputCols([\"sentence\", \"token\", \"embeddings\"]) \\\n",
    "  .setOutputCol(\"jsl_ner\")\n",
    "\n",
    "jsl_ner_converter = NerConverter() \\\n",
    "  .setInputCols([\"sentence\", \"token\", \"jsl_ner\"]) \\\n",
    "  .setOutputCol(\"jsl_ner_chunk\")\n",
    "\n",
    "# merge ner_chunks by prioritizing the overlapping indices (chunks with longer lengths and highest information will be kept from each ner model)\n",
    "chunk_merger_2 = ChunkMergeApproach()\\\n",
    "  .setInputCols('clinical_bionlp_ner_chunk', \"jsl_ner_chunk\")\\\n",
    "  .setOutputCol('final_ner_chunk')\n",
    "\n",
    "# merge ner_chunks regardess of overlapping indices \n",
    "# only works with 2.7 and later \n",
    "chunk_merger_NonOverlapped = ChunkMergeApproach()\\\n",
    "  .setInputCols('clinical_bionlp_ner_chunk', \"jsl_ner_chunk\")\\\n",
    "  .setOutputCol('nonOverlapped_ner_chunk')\\\n",
    "  .setMergeOverlapping(False)\n",
    "\n",
    "\n",
    "nlpPipeline = Pipeline(stages=[\n",
    "    documentAssembler, \n",
    "    sentenceDetector,\n",
    "    tokenizer,\n",
    "    word_embeddings,\n",
    "    clinical_ner,\n",
    "    clinical_ner_converter,\n",
    "    bionlp_ner,\n",
    "    bionlp_ner_converter,\n",
    "    chunk_merger_1,\n",
    "    jsl_ner,\n",
    "    jsl_ner_converter,\n",
    "    chunk_merger_2,\n",
    "    chunk_merger_NonOverlapped])\n",
    "\n",
    "empty_data = spark.createDataFrame([[\"\"]]).toDF(\"text\")\n",
    "\n",
    "model = nlpPipeline.fit(empty_data)\n"
   ]
  },
  {
   "cell_type": "code",
   "execution_count": null,
   "metadata": {
    "id": "JMI6QDcunfjI"
   },
   "outputs": [],
   "source": [
    "merged_data = model.transform(data_chunk_merge).cache()"
   ]
  },
  {
   "cell_type": "code",
   "execution_count": null,
   "metadata": {
    "colab": {
     "base_uri": "https://localhost:8080/"
    },
    "executionInfo": {
     "elapsed": 3396,
     "status": "ok",
     "timestamp": 1618466159443,
     "user": {
      "displayName": "muhammet şantaş",
      "photoUrl": "",
      "userId": "01037434825541536598"
     },
     "user_tz": -180
    },
    "id": "h3zcTo_GgHoO",
    "outputId": "1d48f030-c4c2-416f-e893-03bcbe63a590"
   },
   "outputs": [
    {
     "name": "stdout",
     "output_type": "stream",
     "text": [
      "+---+-----+---+----------------------------------+----------------------+\n",
      "| id|begin|end|                             chunk|                entity|\n",
      "+---+-----+---+----------------------------------+----------------------+\n",
      "|  1|    2|  3|                                63|                   AGE|\n",
      "|  1|   15| 17|                               man|              Organism|\n",
      "|  1|   62| 70|                         recurrent|              Modifier|\n",
      "|  1|   96|105|                        cellulitis|             Diagnosis|\n",
      "|  1|  108|117|                        pneumonias|             Diagnosis|\n",
      "|  1|  124|157|upper respiratory tract infections|             Diagnosis|\n",
      "|  1|  160|161|                                He|                Gender|\n",
      "|  1|  171|180|                        subjective|              Modifier|\n",
      "|  1|  182|187|                            fevers|          Symptom_Name|\n",
      "|  1|  238|247|                        occasional|              Modifier|\n",
      "|  1|  249|260|                      night sweats|          Symptom_Name|\n",
      "|  1|  267|273|                           patient|              Organism|\n",
      "|  1|  299|307|                         arthritis|             Diagnosis|\n",
      "|  1|  344|345|                                20|                   Age|\n",
      "|  1|  389|400|                      methotrexate|       Simple_chemical|\n",
      "|  1|  403|406|                              MTX)|             Drug_Name|\n",
      "|  1|  412|421|                        prednisone|       Simple_chemical|\n",
      "|  1|  442|443|                                he|                Gender|\n",
      "|  1|  460|466|                           febrile|          Symptom_Name|\n",
      "|  1|  511|528|                hepatosplenomegaly|          Symptom_Name|\n",
      "|  1|  531|537|                           Several|              Modifier|\n",
      "|  1|  539|552|                    swollen joints|Multi-tissue_structure|\n",
      "|  1|  636|638|                               His|                Gender|\n",
      "|  1|  663|674|                      pancytopenia|          Symptom_Name|\n",
      "|  1|  711|721|                       neutrophils|                  Cell|\n",
      "+---+-----+---+----------------------------------+----------------------+\n",
      "\n"
     ]
    }
   ],
   "source": [
    "from pyspark.sql import functions as F\n",
    "\n",
    "result_df = merged_data.select('id',F.explode('final_ner_chunk').alias(\"cols\")) \\\n",
    ".select('id',F.expr(\"cols.begin\").alias(\"begin\"),\n",
    "        F.expr(\"cols.end\").alias(\"end\"),\n",
    "        F.expr(\"cols.result\").alias(\"chunk\"),\n",
    "        F.expr(\"cols.metadata.entity\").alias(\"entity\"))\n",
    "\n",
    "result_df.show(50, truncate=100)\n"
   ]
  },
  {
   "cell_type": "markdown",
   "metadata": {
    "id": "6YwHxwQnIqgF"
   },
   "source": [
    "## NonOverlapped Chunk\n",
    "\n",
    "all the entities form each ner model will be returned one by one"
   ]
  },
  {
   "cell_type": "code",
   "execution_count": null,
   "metadata": {
    "colab": {
     "base_uri": "https://localhost:8080/"
    },
    "executionInfo": {
     "elapsed": 1163,
     "status": "ok",
     "timestamp": 1618466166374,
     "user": {
      "displayName": "muhammet şantaş",
      "photoUrl": "",
      "userId": "01037434825541536598"
     },
     "user_tz": -180
    },
    "id": "-GLlnbuUIuY4",
    "outputId": "bbb2860a-9efb-4aee-dfdb-bcf5e946c511"
   },
   "outputs": [
    {
     "name": "stdout",
     "output_type": "stream",
     "text": [
      "+---+-----+---+----------------------------------+----------------------+\n",
      "| id|begin|end|                             chunk|                entity|\n",
      "+---+-----+---+----------------------------------+----------------------+\n",
      "|  1|    2|  3|                                63|                   AGE|\n",
      "|  1|    2|  3|                                63|                   Age|\n",
      "|  1|   15| 17|                               man|              Organism|\n",
      "|  1|   15| 17|                               man|                Gender|\n",
      "|  1|   62| 70|                         recurrent|              Modifier|\n",
      "|  1|   96|105|                        cellulitis|             Diagnosis|\n",
      "|  1|  108|117|                        pneumonias|             Diagnosis|\n",
      "|  1|  124|157|upper respiratory tract infections|             Diagnosis|\n",
      "|  1|  124|128|                             upper|  Organism_subdivision|\n",
      "|  1|  142|146|                             tract|  Organism_subdivision|\n",
      "|  1|  160|161|                                He|                Gender|\n",
      "|  1|  171|180|                        subjective|              Modifier|\n",
      "|  1|  182|187|                            fevers|          Symptom_Name|\n",
      "|  1|  238|247|                        occasional|              Modifier|\n",
      "|  1|  249|260|                      night sweats|          Symptom_Name|\n",
      "|  1|  267|273|                           patient|              Organism|\n",
      "|  1|  299|307|                         arthritis|             Diagnosis|\n",
      "|  1|  344|345|                                20|                   Age|\n",
      "|  1|  389|400|                      methotrexate|       Simple_chemical|\n",
      "|  1|  389|400|                      methotrexate|             Drug_Name|\n",
      "|  1|  403|406|                              MTX)|             Drug_Name|\n",
      "|  1|  403|405|                               MTX|       Simple_chemical|\n",
      "|  1|  412|421|                        prednisone|       Simple_chemical|\n",
      "|  1|  412|421|                        prednisone|             Drug_Name|\n",
      "|  1|  442|443|                                he|                Gender|\n",
      "|  1|  460|466|                           febrile|          Symptom_Name|\n",
      "|  1|  511|528|                hepatosplenomegaly|          Symptom_Name|\n",
      "|  1|  531|537|                           Several|              Modifier|\n",
      "|  1|  539|552|                    swollen joints|Multi-tissue_structure|\n",
      "|  1|  539|552|                    swollen joints|          Symptom_Name|\n",
      "|  1|  636|638|                               His|                Gender|\n",
      "|  1|  663|674|                      pancytopenia|          Symptom_Name|\n",
      "|  1|  711|721|                       neutrophils|                  Cell|\n",
      "|  1|  711|721|                       neutrophils|              Lab_Name|\n",
      "+---+-----+---+----------------------------------+----------------------+\n",
      "\n"
     ]
    }
   ],
   "source": [
    "from pyspark.sql import functions as F\n",
    "\n",
    "result_df2 = merged_data.select('id',F.explode('nonOverlapped_ner_chunk').alias(\"cols\")) \\\n",
    ".select('id',F.expr(\"cols.begin\").alias(\"begin\"),\n",
    "        F.expr(\"cols.end\").alias(\"end\"),\n",
    "        F.expr(\"cols.result\").alias(\"chunk\"),\n",
    "        F.expr(\"cols.metadata.entity\").alias(\"entity\"))\n",
    "\n",
    "result_df2.show(50, truncate=100)\n"
   ]
  }
 ],
 "metadata": {
  "colab": {
   "collapsed_sections": [],
   "name": "7.Clinical_NER_Chunk_Merger.ipynb",
   "provenance": [
    {
     "file_id": "https://github.com/JohnSnowLabs/spark-nlp-workshop/blob/master/tutorials/Certification_Trainings/Healthcare/7.Clinical_NER_Chunk_Merger.ipynb",
     "timestamp": 1617782598074
    }
   ]
  },
  "kernelspec": {
   "display_name": "Python 3 (ipykernel)",
   "language": "python",
   "name": "python3"
  },
  "language_info": {
   "codemirror_mode": {
    "name": "ipython",
    "version": 3
   },
   "file_extension": ".py",
   "mimetype": "text/x-python",
   "name": "python",
   "nbconvert_exporter": "python",
   "pygments_lexer": "ipython3",
   "version": "3.7.6"
  }
 },
 "nbformat": 4,
 "nbformat_minor": 1
}

{
 "cells": [
  {
   "cell_type": "markdown",
   "metadata": {
    "id": "sXatvRX899i0"
   },
   "source": [
    "![JohnSnowLabs](https://nlp.johnsnowlabs.com/assets/images/logo.png)"
   ]
  },
  {
   "cell_type": "markdown",
   "metadata": {
    "id": "C3UywhO6ykrV"
   },
   "source": [
    "\n",
    "\n",
    "[![Open In Colab](https://colab.research.google.com/assets/colab-badge.svg)](https://colab.research.google.com/github/JohnSnowLabs/spark-nlp-workshop/blob/master/tutorials/Certification_Trainings/Public/5.1_Text_classification_examples_in_SparkML_SparkNLP.ipynb)"
   ]
  },
  {
   "cell_type": "markdown",
   "metadata": {
    "id": "034_KMGM9mc_"
   },
   "source": [
    "# Text Classification with Spark NLP"
   ]
  },
  {
   "cell_type": "markdown",
   "metadata": {
    "id": "KcM93SYSwT4g"
   },
   "source": [
    "\n",
    "<b>  if you want to work with Spark 2.3 </b>\n",
    "```\n",
    "! pip install --upgrade pyspark==2.4.4\n",
    "\n",
    "! pip install --ignore-installed -q spark-nlp==2.7.5\n",
    "\n",
    "import sparknlp\n",
    "\n",
    "spark = sparknlp.start(spark23=True)\n",
    "```"
   ]
  },
  {
   "cell_type": "code",
   "execution_count": null,
   "metadata": {
    "id": "Pihatz2EIPPM"
   },
   "outputs": [],
   "source": [
    "\n",
    "import sys\n",
    "\n",
    "from pyspark.sql import SparkSession\n",
    "from pyspark.ml import Pipeline\n",
    "\n",
    "from sparknlp.annotator import *\n",
    "from sparknlp.common import *\n",
    "from sparknlp.base import *\n",
    "\n",
    "import pandas as pd\n"
   ]
  },
  {
   "cell_type": "code",
   "execution_count": null,
   "metadata": {
    "colab": {
     "base_uri": "https://localhost:8080/"
    },
    "executionInfo": {
     "elapsed": 27282,
     "status": "ok",
     "timestamp": 1624867991159,
     "user": {
      "displayName": "muhammet şantaş",
      "photoUrl": "",
      "userId": "01037434825541536598"
     },
     "user_tz": -180
    },
    "id": "SDasO3DbKu2Z",
    "outputId": "bbd9b28c-5c1d-4239-d058-8849298b473c"
   },
   "outputs": [
    {
     "name": "stdout",
     "output_type": "stream",
     "text": [
      "Spark NLP version:  3.1.0\n",
      "Apache Spark version:  3.0.2\n"
     ]
    }
   ],
   "source": [
    "import sparknlp\n",
    "spark = sparknlp.start()\n",
    "\n",
    "print(\"Spark NLP version: \", sparknlp.version())\n",
    "print(\"Apache Spark version: \", spark.version)"
   ]
  },
  {
   "cell_type": "code",
   "execution_count": null,
   "metadata": {
    "id": "IawvXkLGIPPS"
   },
   "outputs": [],
   "source": [
    "! wget https://raw.githubusercontent.com/JohnSnowLabs/spark-nlp-workshop/master/tutorials/Certification_Trainings/Public/data/news_category_train.csv\n",
    "! wget https://raw.githubusercontent.com/JohnSnowLabs/spark-nlp-workshop/master/tutorials/Certification_Trainings/Public/data/news_category_test.csv"
   ]
  },
  {
   "cell_type": "code",
   "execution_count": null,
   "metadata": {
    "colab": {
     "base_uri": "https://localhost:8080/"
    },
    "id": "1GkCjlO9IPPh",
    "outputId": "eed447ef-c6dc-459d-9bd7-a611ed2ea8e5"
   },
   "outputs": [
    {
     "name": "stdout",
     "output_type": "stream",
     "text": [
      "+--------+--------------------------------------------------+\n",
      "|category|                                       description|\n",
      "+--------+--------------------------------------------------+\n",
      "|Business| Short sellers, Wall Street's dwindling band of...|\n",
      "|Business| Private investment firm Carlyle Group, which h...|\n",
      "|Business| Soaring crude prices plus worries about the ec...|\n",
      "|Business| Authorities have halted oil export flows from ...|\n",
      "|Business| Tearaway world oil prices, toppling records an...|\n",
      "|Business| Stocks ended slightly higher on Friday but sta...|\n",
      "|Business| Assets of the nation's retail money market mut...|\n",
      "|Business| Retail sales bounced back a bit in July, and n...|\n",
      "|Business|\" After earning a PH.D. in Sociology, Danny Baz...|\n",
      "|Business| Short sellers, Wall Street's dwindling  band o...|\n",
      "|Business| Soaring crude prices plus worries  about the e...|\n",
      "|Business| OPEC can do nothing to douse scorching  oil pr...|\n",
      "|Business| Non OPEC oil exporters should consider  increa...|\n",
      "|Business| WASHINGTON/NEW YORK (Reuters) - The auction fo...|\n",
      "|Business| The dollar tumbled broadly on Friday  after da...|\n",
      "|Business|If you think you may need to help your elderly ...|\n",
      "|Business|The purchasing power of kids is a big part of w...|\n",
      "|Business|There is little cause for celebration in the st...|\n",
      "|Business|The US trade deficit has exploded 19 to a recor...|\n",
      "|Business|Oil giant Shell could be bracing itself for a t...|\n",
      "+--------+--------------------------------------------------+\n",
      "only showing top 20 rows\n",
      "\n"
     ]
    }
   ],
   "source": [
    "# newsDF = spark.read.parquet(\"data/news_category.parquet\") >> if it is a parquet\n",
    "\n",
    "newsDF = spark.read \\\n",
    "      .option(\"header\", True) \\\n",
    "      .csv(\"news_category_train.csv\")\n",
    "\n",
    "newsDF.show(truncate=50)"
   ]
  },
  {
   "cell_type": "code",
   "execution_count": null,
   "metadata": {
    "colab": {
     "base_uri": "https://localhost:8080/"
    },
    "id": "hjkkY5FTIPPp",
    "outputId": "976fbc79-7fd7-4f52-9d51-f7a22484c666"
   },
   "outputs": [
    {
     "data": {
      "text/plain": [
       "[Row(category='Business', description=\" Short sellers, Wall Street's dwindling band of ultra cynics, are seeing green again.\"),\n",
       " Row(category='Business', description=' Private investment firm Carlyle Group, which has a reputation for making well timed and occasionally controversial plays in the defense industry, has quietly placed its bets on another part of the market.')]"
      ]
     },
     "execution_count": 6,
     "metadata": {
      "tags": []
     },
     "output_type": "execute_result"
    }
   ],
   "source": [
    "newsDF.take(2)"
   ]
  },
  {
   "cell_type": "code",
   "execution_count": null,
   "metadata": {
    "colab": {
     "base_uri": "https://localhost:8080/"
    },
    "id": "Xsifu6-cIPPs",
    "outputId": "c4b39d05-9f86-43f5-cecc-ecedfe81f8cb"
   },
   "outputs": [
    {
     "name": "stdout",
     "output_type": "stream",
     "text": [
      "+--------+-----+\n",
      "|category|count|\n",
      "+--------+-----+\n",
      "|Sci/Tech|30000|\n",
      "|   World|30000|\n",
      "|  Sports|30000|\n",
      "|Business|30000|\n",
      "+--------+-----+\n",
      "\n"
     ]
    }
   ],
   "source": [
    "from pyspark.sql.functions import col\n",
    "\n",
    "newsDF.groupBy(\"category\") \\\n",
    "    .count() \\\n",
    "    .orderBy(col(\"count\").desc()) \\\n",
    "    .show()"
   ]
  },
  {
   "cell_type": "markdown",
   "metadata": {
    "id": "iHn5crTvIPPv"
   },
   "source": [
    "## Building Classification Pipeline"
   ]
  },
  {
   "cell_type": "markdown",
   "metadata": {
    "id": "G8zK3RByIPPw"
   },
   "source": [
    "### LogReg with CountVectorizer"
   ]
  },
  {
   "cell_type": "markdown",
   "metadata": {
    "id": "AM7esk5yIPPx"
   },
   "source": [
    "Tokenizer: Tokenization \n",
    "\n",
    "stopwordsRemover: Remove Stop Words\n",
    "\n",
    "countVectors: Count vectors (“document-term vectors”)"
   ]
  },
  {
   "cell_type": "code",
   "execution_count": null,
   "metadata": {
    "id": "qbrPTtZpIPPx"
   },
   "outputs": [],
   "source": [
    "from pyspark.ml.feature import CountVectorizer, HashingTF, IDF, OneHotEncoder, StringIndexer, VectorAssembler, SQLTransformer\n"
   ]
  },
  {
   "cell_type": "code",
   "execution_count": null,
   "metadata": {
    "colab": {
     "base_uri": "https://localhost:8080/"
    },
    "id": "dL-SK95DIPP1",
    "outputId": "065b9df1-8c63-4444-bec0-15af637058bd"
   },
   "outputs": [
    {
     "name": "stdout",
     "output_type": "stream",
     "text": [
      "CPU times: user 596 ms, sys: 85.5 ms, total: 682 ms\n",
      "Wall time: 1min 35s\n"
     ]
    }
   ],
   "source": [
    "%%time\n",
    "\n",
    "document_assembler = DocumentAssembler() \\\n",
    "      .setInputCol(\"description\") \\\n",
    "      .setOutputCol(\"document\")\n",
    "    \n",
    "tokenizer = Tokenizer() \\\n",
    "      .setInputCols([\"document\"]) \\\n",
    "      .setOutputCol(\"token\")\n",
    "      \n",
    "normalizer = Normalizer() \\\n",
    "      .setInputCols([\"token\"]) \\\n",
    "      .setOutputCol(\"normalized\")\n",
    "\n",
    "stopwords_cleaner = StopWordsCleaner()\\\n",
    "      .setInputCols(\"normalized\")\\\n",
    "      .setOutputCol(\"cleanTokens\")\\\n",
    "      .setCaseSensitive(False)\n",
    "\n",
    "stemmer = Stemmer() \\\n",
    "      .setInputCols([\"cleanTokens\"]) \\\n",
    "      .setOutputCol(\"stem\")\n",
    "\n",
    "finisher = Finisher() \\\n",
    "      .setInputCols([\"stem\"]) \\\n",
    "      .setOutputCols([\"token_features\"]) \\\n",
    "      .setOutputAsArray(True) \\\n",
    "      .setCleanAnnotations(False)\n",
    "\n",
    "countVectors = CountVectorizer(inputCol=\"token_features\", outputCol=\"features\", vocabSize=10000, minDF=5)\n",
    "\n",
    "label_stringIdx = StringIndexer(inputCol = \"category\", outputCol = \"label\")\n",
    "\n",
    "nlp_pipeline = Pipeline(\n",
    "    stages=[document_assembler, \n",
    "            tokenizer,\n",
    "            normalizer,\n",
    "            stopwords_cleaner, \n",
    "            stemmer, \n",
    "            finisher,\n",
    "            countVectors,\n",
    "            label_stringIdx])\n",
    "\n",
    "nlp_model = nlp_pipeline.fit(newsDF)\n",
    "\n",
    "processed = nlp_model.transform(newsDF)\n",
    "\n",
    "processed.count()"
   ]
  },
  {
   "cell_type": "code",
   "execution_count": null,
   "metadata": {
    "colab": {
     "base_uri": "https://localhost:8080/"
    },
    "id": "YEtzQbNwIPP4",
    "outputId": "70c224bd-6c4e-4169-d2b3-86be3987dba1"
   },
   "outputs": [
    {
     "name": "stdout",
     "output_type": "stream",
     "text": [
      "+--------------------------------------------------+--------------------------------------------------+\n",
      "|                                       description|                                    token_features|\n",
      "+--------------------------------------------------+--------------------------------------------------+\n",
      "| Short sellers, Wall Street's dwindling band of...|[short, seller, wall, street, dwindl, band, ult...|\n",
      "| Private investment firm Carlyle Group, which h...|[privat, invest, firm, carlyl, group, reput, ma...|\n",
      "| Soaring crude prices plus worries about the ec...|[soar, crude, price, plu, worri, economi, outlo...|\n",
      "| Authorities have halted oil export flows from ...|[author, halt, oil, export, flow, main, pipelin...|\n",
      "| Tearaway world oil prices, toppling records an...|[tearawai, world, oil, price, toppl, record, st...|\n",
      "| Stocks ended slightly higher on Friday but sta...|[stock, end, slightli, higher, fridai, staye, n...|\n",
      "| Assets of the nation's retail money market mut...|[asset, nation, retail, monei, market, mutual, ...|\n",
      "| Retail sales bounced back a bit in July, and n...|[retail, sale, bounc, back, bit, juli, new, cla...|\n",
      "|\" After earning a PH.D. in Sociology, Danny Baz...|[earn, phd, sociologi, danni, bazil, rilei, sta...|\n",
      "| Short sellers, Wall Street's dwindling  band o...|[short, seller, wall, street, dwindl, band, ult...|\n",
      "| Soaring crude prices plus worries  about the e...|[soar, crude, price, plu, worri, economi, outlo...|\n",
      "| OPEC can do nothing to douse scorching  oil pr...|[opec, noth, dous, scorch, oil, price, market, ...|\n",
      "| Non OPEC oil exporters should consider  increa...|[non, opec, oil, export, consid, increas, outpu...|\n",
      "| WASHINGTON/NEW YORK (Reuters) - The auction fo...|[washingtonnew, york, reuter, auction, googl, i...|\n",
      "| The dollar tumbled broadly on Friday  after da...|[dollar, tumbl, broadli, fridai, data, showe, r...|\n",
      "|If you think you may need to help your elderly ...|[think, mai, ne, help, elderli, rel, financ, do...|\n",
      "|The purchasing power of kids is a big part of w...|[purchas, power, kid, big, part, backtoschool, ...|\n",
      "|There is little cause for celebration in the st...|[littl, caus, celebr, stock, market, dai, inves...|\n",
      "|The US trade deficit has exploded 19 to a recor...|[u, trade, deficit, explod, record, bn, oil, co...|\n",
      "|Oil giant Shell could be bracing itself for a t...|[oil, giant, shell, brace, takeov, attempt, pos...|\n",
      "+--------------------------------------------------+--------------------------------------------------+\n",
      "only showing top 20 rows\n",
      "\n"
     ]
    }
   ],
   "source": [
    "processed.select('description','token_features').show(truncate=50)"
   ]
  },
  {
   "cell_type": "code",
   "execution_count": null,
   "metadata": {
    "colab": {
     "base_uri": "https://localhost:8080/"
    },
    "id": "Mq7tQ_vsIPP7",
    "outputId": "10c32afc-8587-4692-e690-01230489f584"
   },
   "outputs": [
    {
     "data": {
      "text/plain": [
       "[Row(token_features=['short', 'seller', 'wall', 'street', 'dwindl', 'band', 'ultra', 'cynic', 'see', 'green']),\n",
       " Row(token_features=['privat', 'invest', 'firm', 'carlyl', 'group', 'reput', 'make', 'well', 'time', 'occasion', 'controversi', 'plai', 'defens', 'industri', 'quietli', 'place', 'bet', 'anoth', 'part', 'market'])]"
      ]
     },
     "execution_count": 12,
     "metadata": {
      "tags": []
     },
     "output_type": "execute_result"
    }
   ],
   "source": [
    "processed.select('token_features').take(2)"
   ]
  },
  {
   "cell_type": "code",
   "execution_count": null,
   "metadata": {
    "colab": {
     "base_uri": "https://localhost:8080/"
    },
    "id": "5R98lqSgIPP_",
    "outputId": "db0ce53a-d705-4838-bdbb-00cd6e7030d1"
   },
   "outputs": [
    {
     "data": {
      "text/plain": [
       "[Row(features=SparseVector(10000, {241: 1.0, 384: 1.0, 467: 1.0, 744: 1.0, 838: 1.0, 2228: 1.0, 3675: 1.0, 6139: 1.0, 6239: 1.0})),\n",
       " Row(features=SparseVector(10000, {26: 1.0, 38: 1.0, 46: 1.0, 68: 1.0, 117: 1.0, 155: 1.0, 182: 1.0, 197: 1.0, 246: 1.0, 303: 1.0, 320: 1.0, 407: 1.0, 427: 1.0, 621: 1.0, 867: 1.0, 2359: 1.0, 2824: 1.0, 2867: 1.0, 6814: 1.0}))]"
      ]
     },
     "execution_count": 13,
     "metadata": {
      "tags": []
     },
     "output_type": "execute_result"
    }
   ],
   "source": [
    "processed.select('features').take(2)"
   ]
  },
  {
   "cell_type": "code",
   "execution_count": null,
   "metadata": {
    "colab": {
     "base_uri": "https://localhost:8080/"
    },
    "id": "xfnlWafuIPQC",
    "outputId": "96326838-98ff-484f-d00c-9691d03c0f20"
   },
   "outputs": [
    {
     "name": "stdout",
     "output_type": "stream",
     "text": [
      "+--------------------+--------------------+-----+\n",
      "|         description|            features|label|\n",
      "+--------------------+--------------------+-----+\n",
      "| Short sellers, W...|(10000,[241,384,4...|  1.0|\n",
      "| Private investme...|(10000,[26,38,46,...|  1.0|\n",
      "| Soaring crude pr...|(10000,[15,28,46,...|  1.0|\n",
      "| Authorities have...|(10000,[0,32,35,4...|  1.0|\n",
      "| Tearaway world o...|(10000,[1,2,11,28...|  1.0|\n",
      "| Stocks ended sli...|(10000,[3,13,14,2...|  1.0|\n",
      "| Assets of the na...|(10000,[0,4,10,15...|  1.0|\n",
      "| Retail sales bou...|(10000,[0,1,10,15...|  1.0|\n",
      "|\" After earning a...|(10000,[98,99,125...|  1.0|\n",
      "| Short sellers, W...|(10000,[241,384,4...|  1.0|\n",
      "| Soaring crude pr...|(10000,[15,28,46,...|  1.0|\n",
      "| OPEC can do noth...|(10000,[0,24,28,2...|  1.0|\n",
      "| Non OPEC oil exp...|(10000,[0,21,28,3...|  1.0|\n",
      "| WASHINGTON/NEW Y...|(10000,[2,4,13,14...|  1.0|\n",
      "| The dollar tumbl...|(10000,[2,14,72,1...|  1.0|\n",
      "|If you think you ...|(10000,[74,76,143...|  1.0|\n",
      "|The purchasing po...|(10000,[46,54,167...|  1.0|\n",
      "|There is little c...|(10000,[29,46,75,...|  1.0|\n",
      "|The US trade defi...|(10000,[2,32,72,1...|  1.0|\n",
      "|Oil giant Shell c...|(10000,[16,32,103...|  1.0|\n",
      "+--------------------+--------------------+-----+\n",
      "only showing top 20 rows\n",
      "\n"
     ]
    }
   ],
   "source": [
    "processed.select('description','features','label').show()"
   ]
  },
  {
   "cell_type": "code",
   "execution_count": null,
   "metadata": {
    "colab": {
     "base_uri": "https://localhost:8080/"
    },
    "id": "LQwMyjUdIPQF",
    "outputId": "d8cab318-6daf-48f8-83e7-af3eff7cbcf9"
   },
   "outputs": [
    {
     "name": "stdout",
     "output_type": "stream",
     "text": [
      "Training Dataset Count: 84038\n",
      "Test Dataset Count: 35962\n"
     ]
    }
   ],
   "source": [
    "# set seed for reproducibility\n",
    "(trainingData, testData) = processed.randomSplit([0.7, 0.3], seed = 100)\n",
    "print(\"Training Dataset Count: \" + str(trainingData.count()))\n",
    "print(\"Test Dataset Count: \" + str(testData.count()))"
   ]
  },
  {
   "cell_type": "code",
   "execution_count": null,
   "metadata": {
    "colab": {
     "base_uri": "https://localhost:8080/"
    },
    "id": "cq30cb17IPQH",
    "outputId": "47a9629d-c54b-4d4e-aeef-40d663c2ab07"
   },
   "outputs": [
    {
     "name": "stdout",
     "output_type": "stream",
     "text": [
      "root\n",
      " |-- category: string (nullable = true)\n",
      " |-- description: string (nullable = true)\n",
      " |-- document: array (nullable = true)\n",
      " |    |-- element: struct (containsNull = true)\n",
      " |    |    |-- annotatorType: string (nullable = true)\n",
      " |    |    |-- begin: integer (nullable = false)\n",
      " |    |    |-- end: integer (nullable = false)\n",
      " |    |    |-- result: string (nullable = true)\n",
      " |    |    |-- metadata: map (nullable = true)\n",
      " |    |    |    |-- key: string\n",
      " |    |    |    |-- value: string (valueContainsNull = true)\n",
      " |    |    |-- embeddings: array (nullable = true)\n",
      " |    |    |    |-- element: float (containsNull = false)\n",
      " |-- token: array (nullable = true)\n",
      " |    |-- element: struct (containsNull = true)\n",
      " |    |    |-- annotatorType: string (nullable = true)\n",
      " |    |    |-- begin: integer (nullable = false)\n",
      " |    |    |-- end: integer (nullable = false)\n",
      " |    |    |-- result: string (nullable = true)\n",
      " |    |    |-- metadata: map (nullable = true)\n",
      " |    |    |    |-- key: string\n",
      " |    |    |    |-- value: string (valueContainsNull = true)\n",
      " |    |    |-- embeddings: array (nullable = true)\n",
      " |    |    |    |-- element: float (containsNull = false)\n",
      " |-- normalized: array (nullable = true)\n",
      " |    |-- element: struct (containsNull = true)\n",
      " |    |    |-- annotatorType: string (nullable = true)\n",
      " |    |    |-- begin: integer (nullable = false)\n",
      " |    |    |-- end: integer (nullable = false)\n",
      " |    |    |-- result: string (nullable = true)\n",
      " |    |    |-- metadata: map (nullable = true)\n",
      " |    |    |    |-- key: string\n",
      " |    |    |    |-- value: string (valueContainsNull = true)\n",
      " |    |    |-- embeddings: array (nullable = true)\n",
      " |    |    |    |-- element: float (containsNull = false)\n",
      " |-- cleanTokens: array (nullable = true)\n",
      " |    |-- element: struct (containsNull = true)\n",
      " |    |    |-- annotatorType: string (nullable = true)\n",
      " |    |    |-- begin: integer (nullable = false)\n",
      " |    |    |-- end: integer (nullable = false)\n",
      " |    |    |-- result: string (nullable = true)\n",
      " |    |    |-- metadata: map (nullable = true)\n",
      " |    |    |    |-- key: string\n",
      " |    |    |    |-- value: string (valueContainsNull = true)\n",
      " |    |    |-- embeddings: array (nullable = true)\n",
      " |    |    |    |-- element: float (containsNull = false)\n",
      " |-- stem: array (nullable = true)\n",
      " |    |-- element: struct (containsNull = true)\n",
      " |    |    |-- annotatorType: string (nullable = true)\n",
      " |    |    |-- begin: integer (nullable = false)\n",
      " |    |    |-- end: integer (nullable = false)\n",
      " |    |    |-- result: string (nullable = true)\n",
      " |    |    |-- metadata: map (nullable = true)\n",
      " |    |    |    |-- key: string\n",
      " |    |    |    |-- value: string (valueContainsNull = true)\n",
      " |    |    |-- embeddings: array (nullable = true)\n",
      " |    |    |    |-- element: float (containsNull = false)\n",
      " |-- token_features: array (nullable = true)\n",
      " |    |-- element: string (containsNull = true)\n",
      " |-- features: vector (nullable = true)\n",
      " |-- label: double (nullable = false)\n",
      "\n"
     ]
    }
   ],
   "source": [
    "trainingData.printSchema()"
   ]
  },
  {
   "cell_type": "code",
   "execution_count": null,
   "metadata": {
    "colab": {
     "base_uri": "https://localhost:8080/"
    },
    "id": "L1LRyPzWIPQK",
    "outputId": "1909fbb0-16cd-4d73-9826-3d57ca5a8196"
   },
   "outputs": [
    {
     "name": "stdout",
     "output_type": "stream",
     "text": [
      "+------------------------------+--------+------------------------------+-----+----------+\n",
      "|                   description|category|                   probability|label|prediction|\n",
      "+------------------------------+--------+------------------------------+-----+----------+\n",
      "|Novell brings updated kerne...|Business|[0.9999995988391355,2.43405...|  1.0|       0.0|\n",
      "| Cray taps Linux for more a...|Sci/Tech|[0.999989295731228,5.279009...|  0.0|       0.0|\n",
      "|F5 bolsters firewall family...|Sci/Tech|[0.9999765208304277,2.07099...|  0.0|       0.0|\n",
      "| You Software Inc. announce...|Sci/Tech|[0.9999616282388853,1.09273...|  0.0|       0.0|\n",
      "|Awarding the iMac G5 five s...|Sci/Tech|[0.9997536740123691,1.61162...|  0.0|       0.0|\n",
      "|\\\\I've blogged before  abou...|Sci/Tech|[0.9995861395030622,3.26631...|  0.0|       0.0|\n",
      "| At a special music event o...|Sci/Tech|[0.9995683585016614,3.19690...|  0.0|       0.0|\n",
      "| Not long ago most corporat...|Sci/Tech|[0.9995509842232488,2.62018...|  0.0|       0.0|\n",
      "|IBM Corp. next week will be...|Sci/Tech|[0.9995336379353376,2.35788...|  0.0|       0.0|\n",
      "|By ALLISON LINN    SEATTLE ...|Sci/Tech|[0.9992283672720339,5.08938...|  0.0|       0.0|\n",
      "+------------------------------+--------+------------------------------+-----+----------+\n",
      "only showing top 10 rows\n",
      "\n"
     ]
    }
   ],
   "source": [
    "from pyspark.ml.classification import LogisticRegression\n",
    "\n",
    "lr = LogisticRegression(maxIter=10, regParam=0.3, elasticNetParam=0)\n",
    "\n",
    "lrModel = lr.fit(trainingData)\n",
    "\n",
    "predictions = lrModel.transform(testData)\n",
    "\n",
    "predictions.filter(predictions['prediction'] == 0) \\\n",
    "    .select(\"description\",\"category\",\"probability\",\"label\",\"prediction\") \\\n",
    "    .orderBy(\"probability\", ascending=False) \\\n",
    "    .show(n = 10, truncate = 30)\n"
   ]
  },
  {
   "cell_type": "code",
   "execution_count": null,
   "metadata": {
    "colab": {
     "base_uri": "https://localhost:8080/"
    },
    "id": "gPRKc6_1IPQO",
    "outputId": "8b02a132-cd97-4df4-e162-6cef0f4915e9"
   },
   "outputs": [
    {
     "data": {
      "text/plain": [
       "0.8989802998146215"
      ]
     },
     "execution_count": 18,
     "metadata": {
      "tags": []
     },
     "output_type": "execute_result"
    }
   ],
   "source": [
    "from pyspark.ml.evaluation import MulticlassClassificationEvaluator\n",
    "\n",
    "evaluator = MulticlassClassificationEvaluator(predictionCol=\"prediction\")\n",
    "\n",
    "evaluator.evaluate(predictions)"
   ]
  },
  {
   "cell_type": "code",
   "execution_count": null,
   "metadata": {
    "id": "7rOj1_VXIPQQ"
   },
   "outputs": [],
   "source": [
    "from sklearn.metrics import confusion_matrix, classification_report, accuracy_score\n",
    "y_true = predictions.select(\"label\")\n",
    "y_true = y_true.toPandas()\n",
    "\n",
    "y_pred = predictions.select(\"prediction\")\n",
    "y_pred = y_pred.toPandas()"
   ]
  },
  {
   "cell_type": "code",
   "execution_count": null,
   "metadata": {
    "colab": {
     "base_uri": "https://localhost:8080/"
    },
    "id": "XEgXvy9KIPQT",
    "outputId": "34638e77-1321-42b9-a152-fc038ae3951d"
   },
   "outputs": [
    {
     "data": {
      "text/plain": [
       "3.0    9384\n",
       "0.0    9044\n",
       "1.0    8868\n",
       "2.0    8666\n",
       "Name: prediction, dtype: int64"
      ]
     },
     "execution_count": 22,
     "metadata": {
      "tags": []
     },
     "output_type": "execute_result"
    }
   ],
   "source": [
    "y_pred.prediction.value_counts()"
   ]
  },
  {
   "cell_type": "code",
   "execution_count": null,
   "metadata": {
    "colab": {
     "base_uri": "https://localhost:8080/"
    },
    "id": "0AHRzWCZIPQW",
    "outputId": "84b45c8f-f992-49ae-a6fa-e11e48f5806b"
   },
   "outputs": [
    {
     "data": {
      "text/plain": [
       "array([[7792,  732,  312,  114],\n",
       "       [ 881, 7658,  284,   85],\n",
       "       [ 308,  426, 7993,  291],\n",
       "       [  63,   52,   77, 8894]])"
      ]
     },
     "execution_count": 23,
     "metadata": {
      "tags": []
     },
     "output_type": "execute_result"
    }
   ],
   "source": [
    "cnf_matrix = confusion_matrix(list(y_true.label.astype(int)), list(y_pred.prediction.astype(int)))\n",
    "cnf_matrix"
   ]
  },
  {
   "cell_type": "code",
   "execution_count": null,
   "metadata": {
    "colab": {
     "base_uri": "https://localhost:8080/"
    },
    "id": "cTNup21PIPQZ",
    "outputId": "0be996d5-eb7e-48d2-e883-c34319803ed0"
   },
   "outputs": [
    {
     "name": "stdout",
     "output_type": "stream",
     "text": [
      "              precision    recall  f1-score   support\n",
      "\n",
      "         0.0       0.86      0.87      0.87      8950\n",
      "         1.0       0.86      0.86      0.86      8908\n",
      "         2.0       0.92      0.89      0.90      9018\n",
      "         3.0       0.95      0.98      0.96      9086\n",
      "\n",
      "    accuracy                           0.90     35962\n",
      "   macro avg       0.90      0.90      0.90     35962\n",
      "weighted avg       0.90      0.90      0.90     35962\n",
      "\n",
      "0.8991991546632556\n"
     ]
    }
   ],
   "source": [
    "print(classification_report(y_true.label, y_pred.prediction))\n",
    "print(accuracy_score(y_true.label, y_pred.prediction))"
   ]
  },
  {
   "cell_type": "markdown",
   "metadata": {
    "id": "PSSB-ZHJIPQb"
   },
   "source": [
    "### LogReg with TFIDF"
   ]
  },
  {
   "cell_type": "code",
   "execution_count": null,
   "metadata": {
    "colab": {
     "base_uri": "https://localhost:8080/"
    },
    "id": "mmWR-GnOIPQc",
    "outputId": "30c9d20f-a768-412a-e9cd-7ea152a046df"
   },
   "outputs": [
    {
     "data": {
      "text/plain": [
       "120000"
      ]
     },
     "execution_count": 25,
     "metadata": {
      "tags": []
     },
     "output_type": "execute_result"
    }
   ],
   "source": [
    "from pyspark.ml.feature import HashingTF, IDF\n",
    "\n",
    "hashingTF = HashingTF(inputCol=\"token_features\", outputCol=\"rawFeatures\", numFeatures=10000)\n",
    "\n",
    "idf = IDF(inputCol=\"rawFeatures\", outputCol=\"features\", minDocFreq=5) #minDocFreq: remove sparse terms\n",
    "\n",
    "nlp_pipeline_tf = Pipeline(\n",
    "    stages=[document_assembler, \n",
    "            tokenizer,\n",
    "            normalizer,\n",
    "            stopwords_cleaner, \n",
    "            stemmer, \n",
    "            finisher,\n",
    "            hashingTF,\n",
    "            idf,\n",
    "            label_stringIdx])\n",
    "\n",
    "nlp_model_tf = nlp_pipeline_tf.fit(newsDF)\n",
    "\n",
    "processed_tf = nlp_model_tf.transform(newsDF)\n",
    "\n",
    "processed_tf.count()\n"
   ]
  },
  {
   "cell_type": "code",
   "execution_count": null,
   "metadata": {
    "colab": {
     "base_uri": "https://localhost:8080/"
    },
    "id": "4RHs0RjOIPQe",
    "outputId": "29935a6c-9574-4663-a753-add84669e52b"
   },
   "outputs": [
    {
     "name": "stdout",
     "output_type": "stream",
     "text": [
      "+--------------------+--------------------+-----+\n",
      "|         description|            features|label|\n",
      "+--------------------+--------------------+-----+\n",
      "| Short sellers, W...|(10000,[25,625,66...|  1.0|\n",
      "| Private investme...|(10000,[82,111,15...|  1.0|\n",
      "| Soaring crude pr...|(10000,[410,1097,...|  1.0|\n",
      "| Authorities have...|(10000,[1611,1637...|  1.0|\n",
      "| Tearaway world o...|(10000,[1150,1427...|  1.0|\n",
      "| Stocks ended sli...|(10000,[332,410,6...|  1.0|\n",
      "| Assets of the na...|(10000,[1442,1788...|  1.0|\n",
      "| Retail sales bou...|(10000,[25,117,97...|  1.0|\n",
      "|\" After earning a...|(10000,[114,643,7...|  1.0|\n",
      "| Short sellers, W...|(10000,[25,625,66...|  1.0|\n",
      "| Soaring crude pr...|(10000,[410,1097,...|  1.0|\n",
      "| OPEC can do noth...|(10000,[616,904,1...|  1.0|\n",
      "| Non OPEC oil exp...|(10000,[616,2224,...|  1.0|\n",
      "| WASHINGTON/NEW Y...|(10000,[351,360,3...|  1.0|\n",
      "| The dollar tumbl...|(10000,[359,456,9...|  1.0|\n",
      "|If you think you ...|(10000,[1041,1564...|  1.0|\n",
      "|The purchasing po...|(10000,[2198,4091...|  1.0|\n",
      "|There is little c...|(10000,[410,432,5...|  1.0|\n",
      "|The US trade defi...|(10000,[332,2286,...|  1.0|\n",
      "|Oil giant Shell c...|(10000,[463,868,2...|  1.0|\n",
      "+--------------------+--------------------+-----+\n",
      "only showing top 20 rows\n",
      "\n"
     ]
    }
   ],
   "source": [
    "# set seed for reproducibility\n",
    "processed_tf.select('description','features','label').show()"
   ]
  },
  {
   "cell_type": "code",
   "execution_count": null,
   "metadata": {
    "colab": {
     "base_uri": "https://localhost:8080/"
    },
    "id": "UHewYwjbIPQg",
    "outputId": "228db454-7d10-46ec-c124-f6f555f5386d"
   },
   "outputs": [
    {
     "name": "stdout",
     "output_type": "stream",
     "text": [
      "Training Dataset Count: 84038\n",
      "Test Dataset Count: 35962\n"
     ]
    }
   ],
   "source": [
    "(trainingData, testData) = processed_tf.randomSplit([0.7, 0.3], seed = 100)\n",
    "print(\"Training Dataset Count: \" + str(trainingData.count()))\n",
    "print(\"Test Dataset Count: \" + str(testData.count()))"
   ]
  },
  {
   "cell_type": "code",
   "execution_count": null,
   "metadata": {
    "colab": {
     "base_uri": "https://localhost:8080/"
    },
    "id": "HcCnp1PrIPQj",
    "outputId": "31620f04-62e9-4ba0-c26f-95d17f71c1ff"
   },
   "outputs": [
    {
     "name": "stdout",
     "output_type": "stream",
     "text": [
      "+------------------------------+--------+------------------------------+-----+----------+\n",
      "|                   description|category|                   probability|label|prediction|\n",
      "+------------------------------+--------+------------------------------+-----+----------+\n",
      "|Novell brings updated kerne...|Business|[0.9999995229578786,2.86181...|  1.0|       0.0|\n",
      "|F5 bolsters firewall family...|Sci/Tech|[0.9999631964683853,2.87934...|  0.0|       0.0|\n",
      "|\\\\Sam blogs about his wiki ...|Sci/Tech|[0.9999591803496525,3.00816...|  0.0|       0.0|\n",
      "| Cray taps Linux for more a...|Sci/Tech|[0.99988175049369,1.0958016...|  0.0|       0.0|\n",
      "| At a special music event o...|Sci/Tech|[0.9997199938921201,2.03591...|  0.0|       0.0|\n",
      "| You Software Inc. announce...|Sci/Tech|[0.9996235826906964,5.33405...|  0.0|       0.0|\n",
      "|MOFFETT FIELD, CALIFORNIA -...|Sci/Tech|[0.9995490457561748,2.09063...|  0.0|       0.0|\n",
      "|Sun Microsystems will integ...|Sci/Tech|[0.9990914778205654,2.87415...|  0.0|       0.0|\n",
      "| Microsoft (Nasdaq: MSFT) l...|Sci/Tech|[0.9987708507466153,8.71434...|  0.0|       0.0|\n",
      "|\\\\I've blogged before  abou...|Sci/Tech|[0.9987626784524191,7.79098...|  0.0|       0.0|\n",
      "+------------------------------+--------+------------------------------+-----+----------+\n",
      "only showing top 10 rows\n",
      "\n"
     ]
    }
   ],
   "source": [
    "lrModel_tf = lr.fit(trainingData)\n",
    "\n",
    "predictions_tf = lrModel_tf.transform(testData)\n",
    "\n",
    "predictions_tf.select(\"description\",\"category\",\"probability\",\"label\",\"prediction\") \\\n",
    "    .orderBy(\"probability\", ascending=False) \\\n",
    "    .show(n = 10, truncate = 30)\n"
   ]
  },
  {
   "cell_type": "code",
   "execution_count": null,
   "metadata": {
    "colab": {
     "base_uri": "https://localhost:8080/"
    },
    "id": "j8EH6P4-IPQm",
    "outputId": "8ad62a69-ca1a-4a21-d198-51fc54934519"
   },
   "outputs": [
    {
     "name": "stdout",
     "output_type": "stream",
     "text": [
      "              precision    recall  f1-score   support\n",
      "\n",
      "         0.0       0.85      0.85      0.85      8950\n",
      "         1.0       0.85      0.85      0.85      8908\n",
      "         2.0       0.91      0.88      0.90      9018\n",
      "         3.0       0.94      0.96      0.95      9086\n",
      "\n",
      "    accuracy                           0.89     35962\n",
      "   macro avg       0.89      0.89      0.89     35962\n",
      "weighted avg       0.89      0.89      0.89     35962\n",
      "\n",
      "0.8877148100773038\n"
     ]
    }
   ],
   "source": [
    "y_true = predictions_tf.select(\"label\")\n",
    "y_true = y_true.toPandas()\n",
    "\n",
    "y_pred = predictions_tf.select(\"prediction\")\n",
    "y_pred = y_pred.toPandas()\n",
    "\n",
    "print(classification_report(y_true.label, y_pred.prediction))\n",
    "print(accuracy_score(y_true.label, y_pred.prediction))"
   ]
  },
  {
   "cell_type": "markdown",
   "metadata": {
    "id": "6bdwtu_9IPQp"
   },
   "source": [
    "### Random Forest with TFIDF"
   ]
  },
  {
   "cell_type": "code",
   "execution_count": null,
   "metadata": {
    "id": "ILNZ4-vPIPQp"
   },
   "outputs": [],
   "source": [
    "from pyspark.ml.classification import RandomForestClassifier\n",
    "\n",
    "rf = RandomForestClassifier(labelCol=\"label\", \\\n",
    "                            featuresCol=\"features\", \\\n",
    "                            numTrees = 100, \\\n",
    "                            maxDepth = 4, \\\n",
    "                            maxBins = 32)\n",
    "\n",
    "# Train model with Training Data\n",
    "rfModel = rf.fit(trainingData)\n",
    "predictions_rf = rfModel.transform(testData)\n"
   ]
  },
  {
   "cell_type": "code",
   "execution_count": null,
   "metadata": {
    "colab": {
     "base_uri": "https://localhost:8080/"
    },
    "id": "pY9EQY1tIPQr",
    "outputId": "4531c997-5a36-459c-f43f-4ea75cd2931c"
   },
   "outputs": [
    {
     "name": "stdout",
     "output_type": "stream",
     "text": [
      "+------------------------------+--------+------------------------------+-----+----------+\n",
      "|                   description|category|                   probability|label|prediction|\n",
      "+------------------------------+--------+------------------------------+-----+----------+\n",
      "|Google Inc., the world #39;...|Business|[0.3817798792801465,0.24244...|  1.0|       0.0|\n",
      "| Microsoft (Nasdaq: MSFT) l...|Sci/Tech|[0.3812741133118802,0.22181...|  0.0|       0.0|\n",
      "|NOVEMBER 15, 2004 (IDG NEWS...|Sci/Tech|[0.3802678197628161,0.26350...|  0.0|       0.0|\n",
      "|In response to the growing ...|Sci/Tech|[0.37445493519549894,0.2517...|  0.0|       0.0|\n",
      "|Web services are becoming i...|Sci/Tech|[0.36954934339567,0.2339840...|  0.0|       0.0|\n",
      "| Microsoft Corp. introduced...|Sci/Tech|[0.36868311701599515,0.2482...|  0.0|       0.0|\n",
      "|The same week Microsoft rel...|Sci/Tech|[0.36621667041915645,0.2232...|  0.0|       0.0|\n",
      "|Microsoft plans to launch a...|Business|[0.36604196140734435,0.2225...|  1.0|       0.0|\n",
      "|A critical flaw in Microsof...|Sci/Tech|[0.3651271972808865,0.26568...|  0.0|       0.0|\n",
      "|IBM, Sun Microsystems, and ...|Sci/Tech|[0.36366526988765585,0.2297...|  0.0|       0.0|\n",
      "+------------------------------+--------+------------------------------+-----+----------+\n",
      "only showing top 10 rows\n",
      "\n"
     ]
    }
   ],
   "source": [
    "predictions_rf.select(\"description\",\"category\",\"probability\",\"label\",\"prediction\") \\\n",
    "    .orderBy(\"probability\", ascending=False) \\\n",
    "    .show(n = 10, truncate = 30)"
   ]
  },
  {
   "cell_type": "code",
   "execution_count": null,
   "metadata": {
    "colab": {
     "base_uri": "https://localhost:8080/"
    },
    "id": "7_vXMkvuIPQu",
    "outputId": "883fd9d4-e90c-4608-ae03-36d5a7730d65"
   },
   "outputs": [
    {
     "name": "stdout",
     "output_type": "stream",
     "text": [
      "              precision    recall  f1-score   support\n",
      "\n",
      "         0.0       0.76      0.64      0.70      8950\n",
      "         1.0       0.74      0.70      0.72      8908\n",
      "         2.0       0.78      0.76      0.77      9018\n",
      "         3.0       0.72      0.89      0.79      9086\n",
      "\n",
      "    accuracy                           0.75     35962\n",
      "   macro avg       0.75      0.75      0.75     35962\n",
      "weighted avg       0.75      0.75      0.75     35962\n",
      "\n",
      "0.7478171403147768\n"
     ]
    }
   ],
   "source": [
    "y_true = predictions_rf.select(\"label\")\n",
    "y_true = y_true.toPandas()\n",
    "\n",
    "y_pred = predictions_rf.select(\"prediction\")\n",
    "y_pred = y_pred.toPandas()\n",
    "\n",
    "print(classification_report(y_true.label, y_pred.prediction))\n",
    "print(accuracy_score(y_true.label, y_pred.prediction))"
   ]
  },
  {
   "cell_type": "markdown",
   "metadata": {
    "id": "z3tdY1_oIPQ0"
   },
   "source": [
    "## LogReg with Spark NLP Glove Word Embeddings"
   ]
  },
  {
   "cell_type": "code",
   "execution_count": null,
   "metadata": {
    "colab": {
     "base_uri": "https://localhost:8080/"
    },
    "id": "4GVKps1mIPQ0",
    "outputId": "ca196e1a-5773-4b63-91e2-c7256b108083"
   },
   "outputs": [
    {
     "name": "stdout",
     "output_type": "stream",
     "text": [
      "glove_100d download started this may take some time.\n",
      "Approximate size to download 145.3 MB\n",
      "[OK!]\n"
     ]
    },
    {
     "data": {
      "text/plain": [
       "120000"
      ]
     },
     "execution_count": 33,
     "metadata": {
      "tags": []
     },
     "output_type": "execute_result"
    }
   ],
   "source": [
    "document_assembler = DocumentAssembler() \\\n",
    "      .setInputCol(\"description\") \\\n",
    "      .setOutputCol(\"document\")\n",
    "    \n",
    "tokenizer = Tokenizer() \\\n",
    "      .setInputCols([\"document\"]) \\\n",
    "      .setOutputCol(\"token\")\n",
    "    \n",
    "normalizer = Normalizer() \\\n",
    "      .setInputCols([\"token\"]) \\\n",
    "      .setOutputCol(\"normalized\")\n",
    "\n",
    "stopwords_cleaner = StopWordsCleaner()\\\n",
    "      .setInputCols(\"normalized\")\\\n",
    "      .setOutputCol(\"cleanTokens\")\\\n",
    "      .setCaseSensitive(False)\n",
    "\n",
    "glove_embeddings = WordEmbeddingsModel().pretrained() \\\n",
    "      .setInputCols([\"document\",'cleanTokens'])\\\n",
    "      .setOutputCol(\"embeddings\")\\\n",
    "      .setCaseSensitive(False)\n",
    "\n",
    "embeddingsSentence = SentenceEmbeddings() \\\n",
    "      .setInputCols([\"document\", \"embeddings\"]) \\\n",
    "      .setOutputCol(\"sentence_embeddings\") \\\n",
    "      .setPoolingStrategy(\"AVERAGE\")\n",
    "    \n",
    "embeddings_finisher = EmbeddingsFinisher() \\\n",
    "      .setInputCols([\"sentence_embeddings\"]) \\\n",
    "      .setOutputCols([\"finished_sentence_embeddings\"]) \\\n",
    "      .setOutputAsVector(True)\\\n",
    "      .setCleanAnnotations(False)\n",
    "\n",
    "explodeVectors = SQLTransformer(statement=\n",
    "      \"SELECT EXPLODE(finished_sentence_embeddings) AS features, * FROM __THIS__\")\n",
    "\n",
    "label_stringIdx = StringIndexer(inputCol = \"category\", outputCol = \"label\")\n",
    "\n",
    "\n",
    "nlp_pipeline_w2v = Pipeline(\n",
    "    stages=[document_assembler, \n",
    "            tokenizer,\n",
    "            normalizer,\n",
    "            stopwords_cleaner, \n",
    "            glove_embeddings,\n",
    "            embeddingsSentence,\n",
    "            embeddings_finisher,\n",
    "            explodeVectors,\n",
    "            label_stringIdx])\n",
    "\n",
    "nlp_model_w2v = nlp_pipeline_w2v.fit(newsDF)\n",
    "\n",
    "processed_w2v = nlp_model_w2v.transform(newsDF)\n",
    "\n",
    "processed_w2v.count()\n"
   ]
  },
  {
   "cell_type": "code",
   "execution_count": null,
   "metadata": {
    "colab": {
     "base_uri": "https://localhost:8080/"
    },
    "id": "K8kfQldjVdUt",
    "outputId": "45f8bd83-7ee7-49b9-b8ad-fc339c698c39"
   },
   "outputs": [
    {
     "data": {
      "text/plain": [
       "['features',\n",
       " 'category',\n",
       " 'description',\n",
       " 'document',\n",
       " 'token',\n",
       " 'normalized',\n",
       " 'cleanTokens',\n",
       " 'embeddings',\n",
       " 'sentence_embeddings',\n",
       " 'finished_sentence_embeddings',\n",
       " 'label']"
      ]
     },
     "execution_count": 35,
     "metadata": {
      "tags": []
     },
     "output_type": "execute_result"
    }
   ],
   "source": [
    "processed_w2v.columns"
   ]
  },
  {
   "cell_type": "code",
   "execution_count": null,
   "metadata": {
    "colab": {
     "base_uri": "https://localhost:8080/"
    },
    "id": "3iRIsxANVfFM",
    "outputId": "29c756c2-4bb2-4966-e09f-d8948e284cdf"
   },
   "outputs": [
    {
     "name": "stdout",
     "output_type": "stream",
     "text": [
      "+--------------------+--------+--------------------+--------------------+--------------------+--------------------+--------------------+--------------------+--------------------+----------------------------+-----+\n",
      "|            features|category|         description|            document|               token|          normalized|         cleanTokens|          embeddings| sentence_embeddings|finished_sentence_embeddings|label|\n",
      "+--------------------+--------+--------------------+--------------------+--------------------+--------------------+--------------------+--------------------+--------------------+----------------------------+-----+\n",
      "|[-0.1556767076253...|Business| Short sellers, W...|[[document, 0, 84...|[[token, 1, 5, Sh...|[[token, 1, 5, Sh...|[[token, 1, 5, Sh...|[[word_embeddings...|[[sentence_embedd...|        [[-0.155676707625...|  1.0|\n",
      "|[-0.0144653050228...|Business| Private investme...|[[document, 0, 20...|[[token, 1, 7, Pr...|[[token, 1, 7, Pr...|[[token, 1, 7, Pr...|[[word_embeddings...|[[sentence_embedd...|        [[-0.014465305022...|  1.0|\n",
      "|[0.10348732769489...|Business| Soaring crude pr...|[[document, 0, 17...|[[token, 1, 7, So...|[[token, 1, 7, So...|[[token, 1, 7, So...|[[word_embeddings...|[[sentence_embedd...|        [[0.1034873276948...|  1.0|\n",
      "|[-0.0355810523033...|Business| Authorities have...|[[document, 0, 18...|[[token, 1, 11, A...|[[token, 1, 11, A...|[[token, 1, 11, A...|[[word_embeddings...|[[sentence_embedd...|        [[-0.035581052303...|  1.0|\n",
      "|[0.00647281948477...|Business| Tearaway world o...|[[document, 0, 15...|[[token, 1, 8, Te...|[[token, 1, 8, Te...|[[token, 1, 8, Te...|[[word_embeddings...|[[sentence_embedd...|        [[0.0064728194847...|  1.0|\n",
      "+--------------------+--------+--------------------+--------------------+--------------------+--------------------+--------------------+--------------------+--------------------+----------------------------+-----+\n",
      "only showing top 5 rows\n",
      "\n"
     ]
    }
   ],
   "source": [
    "processed_w2v.show(5)"
   ]
  },
  {
   "cell_type": "code",
   "execution_count": null,
   "metadata": {
    "colab": {
     "base_uri": "https://localhost:8080/"
    },
    "id": "RLVVHJEHIPQ3",
    "outputId": "9718dc0a-4700-4bea-ca26-4b746a7d94b9"
   },
   "outputs": [
    {
     "data": {
      "text/plain": [
       "[Row(finished_sentence_embeddings=[DenseVector([-0.1557, 0.196, 0.1099, -0.3089, 0.16, 0.1672, -0.4649, -0.1101, -0.053, -0.1551, 0.0327, 0.0772, 0.1494, -0.1865, 0.1155, -0.0597, 0.0234, -0.0451, 0.2361, -0.0089, 0.3358, 0.0444, 0.0088, -0.1453, 0.2289, 0.0914, -0.1665, -0.3726, 0.1892, 0.121, 0.1993, -0.0239, -0.1346, 0.1159, 0.2086, 0.1285, 0.068, 0.1372, 0.3153, -0.1934, 0.0257, -0.226, -0.0984, 0.1139, 0.1413, -0.3743, 0.072, 0.1403, 0.251, -0.3106, 0.1709, -0.0697, -0.0554, 0.5123, -0.1873, -1.7784, 0.0295, 0.1014, 0.9268, 0.2129, -0.1354, 0.5739, -0.0679, 0.461, 0.4216, 0.0225, 0.4456, -0.2462, 0.1411, -0.3258, 0.0025, 0.0114, -0.3895, -0.1106, -0.261, 0.0147, 0.0781, 0.1268, -0.2042, -0.2278, 0.5096, 0.1539, -0.3515, -0.0102, -0.7003, -0.3872, -0.1668, -0.2405, -0.0766, 0.1396, -0.0592, -0.1568, -0.1606, -0.1371, -0.684, -0.2549, -0.1541, 0.1536, 0.2715, 0.3342])])]"
      ]
     },
     "execution_count": 37,
     "metadata": {
      "tags": []
     },
     "output_type": "execute_result"
    }
   ],
   "source": [
    "processed_w2v.select('finished_sentence_embeddings').take(1)"
   ]
  },
  {
   "cell_type": "code",
   "execution_count": null,
   "metadata": {
    "id": "0JRYsk0mIPQ_"
   },
   "outputs": [],
   "source": [
    "# IF SQLTransformer IS NOT USED INSIDE THE PIPELINE, WE CAN EXPLODE OUTSIDE\n",
    "from pyspark.sql.functions import explode\n",
    "\n",
    "# processed_w2v= processed_w2v.withColumn(\"features\", explode(processed_w2v.finished_sentence_embeddings))"
   ]
  },
  {
   "cell_type": "code",
   "execution_count": null,
   "metadata": {
    "colab": {
     "base_uri": "https://localhost:8080/"
    },
    "id": "ZWp3CA_kIPRB",
    "outputId": "cd3bc046-a17f-4229-8bb0-19a22270ac19"
   },
   "outputs": [
    {
     "data": {
      "text/plain": [
       "[Row(features=DenseVector([-0.1557, 0.196, 0.1099, -0.3089, 0.16, 0.1672, -0.4649, -0.1101, -0.053, -0.1551, 0.0327, 0.0772, 0.1494, -0.1865, 0.1155, -0.0597, 0.0234, -0.0451, 0.2361, -0.0089, 0.3358, 0.0444, 0.0088, -0.1453, 0.2289, 0.0914, -0.1665, -0.3726, 0.1892, 0.121, 0.1993, -0.0239, -0.1346, 0.1159, 0.2086, 0.1285, 0.068, 0.1372, 0.3153, -0.1934, 0.0257, -0.226, -0.0984, 0.1139, 0.1413, -0.3743, 0.072, 0.1403, 0.251, -0.3106, 0.1709, -0.0697, -0.0554, 0.5123, -0.1873, -1.7784, 0.0295, 0.1014, 0.9268, 0.2129, -0.1354, 0.5739, -0.0679, 0.461, 0.4216, 0.0225, 0.4456, -0.2462, 0.1411, -0.3258, 0.0025, 0.0114, -0.3895, -0.1106, -0.261, 0.0147, 0.0781, 0.1268, -0.2042, -0.2278, 0.5096, 0.1539, -0.3515, -0.0102, -0.7003, -0.3872, -0.1668, -0.2405, -0.0766, 0.1396, -0.0592, -0.1568, -0.1606, -0.1371, -0.684, -0.2549, -0.1541, 0.1536, 0.2715, 0.3342]))]"
      ]
     },
     "execution_count": 39,
     "metadata": {
      "tags": []
     },
     "output_type": "execute_result"
    }
   ],
   "source": [
    "processed_w2v.select(\"features\").take(1)"
   ]
  },
  {
   "cell_type": "code",
   "execution_count": null,
   "metadata": {
    "colab": {
     "base_uri": "https://localhost:8080/"
    },
    "id": "yMN2OwXlIPRF",
    "outputId": "273bb198-93cd-4fab-a27a-fb1b36ebef59"
   },
   "outputs": [
    {
     "data": {
      "text/plain": [
       "[Row(features=DenseVector([-0.1557, 0.196, 0.1099, -0.3089, 0.16, 0.1672, -0.4649, -0.1101, -0.053, -0.1551, 0.0327, 0.0772, 0.1494, -0.1865, 0.1155, -0.0597, 0.0234, -0.0451, 0.2361, -0.0089, 0.3358, 0.0444, 0.0088, -0.1453, 0.2289, 0.0914, -0.1665, -0.3726, 0.1892, 0.121, 0.1993, -0.0239, -0.1346, 0.1159, 0.2086, 0.1285, 0.068, 0.1372, 0.3153, -0.1934, 0.0257, -0.226, -0.0984, 0.1139, 0.1413, -0.3743, 0.072, 0.1403, 0.251, -0.3106, 0.1709, -0.0697, -0.0554, 0.5123, -0.1873, -1.7784, 0.0295, 0.1014, 0.9268, 0.2129, -0.1354, 0.5739, -0.0679, 0.461, 0.4216, 0.0225, 0.4456, -0.2462, 0.1411, -0.3258, 0.0025, 0.0114, -0.3895, -0.1106, -0.261, 0.0147, 0.0781, 0.1268, -0.2042, -0.2278, 0.5096, 0.1539, -0.3515, -0.0102, -0.7003, -0.3872, -0.1668, -0.2405, -0.0766, 0.1396, -0.0592, -0.1568, -0.1606, -0.1371, -0.684, -0.2549, -0.1541, 0.1536, 0.2715, 0.3342]))]"
      ]
     },
     "execution_count": 40,
     "metadata": {
      "tags": []
     },
     "output_type": "execute_result"
    }
   ],
   "source": [
    "processed_w2v.select(\"features\").take(1)"
   ]
  },
  {
   "cell_type": "code",
   "execution_count": null,
   "metadata": {
    "colab": {
     "base_uri": "https://localhost:8080/"
    },
    "id": "ViXxQrhSIPRH",
    "outputId": "eefa47d7-7ec2-4f13-82b0-b8fed02f82b9"
   },
   "outputs": [
    {
     "name": "stdout",
     "output_type": "stream",
     "text": [
      "+--------------------+--------------------+-----+\n",
      "|         description|            features|label|\n",
      "+--------------------+--------------------+-----+\n",
      "| Short sellers, W...|[-0.1556767076253...|  1.0|\n",
      "| Private investme...|[-0.0144653050228...|  1.0|\n",
      "| Soaring crude pr...|[0.10348732769489...|  1.0|\n",
      "| Authorities have...|[-0.0355810523033...|  1.0|\n",
      "| Tearaway world o...|[0.00647281948477...|  1.0|\n",
      "| Stocks ended sli...|[0.20069395005702...|  1.0|\n",
      "| Assets of the na...|[0.38012433052062...|  1.0|\n",
      "| Retail sales bou...|[0.20352847874164...|  1.0|\n",
      "|\" After earning a...|[0.13536226749420...|  1.0|\n",
      "| Short sellers, W...|[-0.1556767076253...|  1.0|\n",
      "| Soaring crude pr...|[0.10348732769489...|  1.0|\n",
      "| OPEC can do noth...|[0.20307321846485...|  1.0|\n",
      "| Non OPEC oil exp...|[0.09010648727416...|  1.0|\n",
      "| WASHINGTON/NEW Y...|[0.10887209326028...|  1.0|\n",
      "| The dollar tumbl...|[0.05723679438233...|  1.0|\n",
      "|If you think you ...|[0.11463439464569...|  1.0|\n",
      "|The purchasing po...|[0.05890964344143...|  1.0|\n",
      "|There is little c...|[0.11162020266056...|  1.0|\n",
      "|The US trade defi...|[0.09235177189111...|  1.0|\n",
      "|Oil giant Shell c...|[0.01885983347892...|  1.0|\n",
      "+--------------------+--------------------+-----+\n",
      "only showing top 20 rows\n",
      "\n"
     ]
    }
   ],
   "source": [
    "processed_w2v.select('description','features','label').show()\n"
   ]
  },
  {
   "cell_type": "code",
   "execution_count": null,
   "metadata": {
    "colab": {
     "base_uri": "https://localhost:8080/"
    },
    "id": "Vx__5MOLIPRK",
    "outputId": "083a8484-be49-43fa-c516-94a10c2f6910"
   },
   "outputs": [
    {
     "name": "stdout",
     "output_type": "stream",
     "text": [
      "Training Dataset Count: 84038\n",
      "Test Dataset Count: 35962\n"
     ]
    }
   ],
   "source": [
    "# set seed for reproducibility\n",
    "(trainingData, testData) = processed_w2v.randomSplit([0.7, 0.3], seed = 100)\n",
    "print(\"Training Dataset Count: \" + str(trainingData.count()))\n",
    "print(\"Test Dataset Count: \" + str(testData.count()))"
   ]
  },
  {
   "cell_type": "code",
   "execution_count": null,
   "metadata": {
    "id": "FK6x3ljGIPRO"
   },
   "outputs": [],
   "source": [
    "from pyspark.sql.functions import udf\n",
    "\n",
    "@udf(\"long\")\n",
    "def num_nonzeros(v):\n",
    "    return v.numNonzeros()\n",
    "\n",
    "testData = testData.where(num_nonzeros(\"features\") != 0)"
   ]
  },
  {
   "cell_type": "code",
   "execution_count": null,
   "metadata": {
    "id": "jdbLwEsnIPRR"
   },
   "outputs": [],
   "source": [
    "lrModel_w2v = lr.fit(trainingData)"
   ]
  },
  {
   "cell_type": "code",
   "execution_count": null,
   "metadata": {
    "colab": {
     "base_uri": "https://localhost:8080/"
    },
    "id": "FoSYCqDjIPRT",
    "outputId": "bb2aac8e-6b8a-4b36-aadd-29a7b181c8b9"
   },
   "outputs": [
    {
     "name": "stdout",
     "output_type": "stream",
     "text": [
      "+------------------------------+--------+------------------------------+-----+----------+\n",
      "|                   description|category|                   probability|label|prediction|\n",
      "+------------------------------+--------+------------------------------+-----+----------+\n",
      "|The KDE Project has release...|Sci/Tech|[0.9993026934526253,5.26811...|  0.0|       0.0|\n",
      "| Users can now access searc...|Sci/Tech|[0.9984190388827833,0.00112...|  0.0|       0.0|\n",
      "|\" The Xbox version of \"\"Doom 3|Sci/Tech|[0.9978700979929389,8.61016...|  0.0|       0.0|\n",
      "|\" The Xbox version of \"\"Doom 3|Sci/Tech|[0.9978700979929389,8.61016...|  0.0|       0.0|\n",
      "|\" The Xbox version of \"\"Doom 3|Sci/Tech|[0.9978700979929389,8.61016...|  0.0|       0.0|\n",
      "|With Google Desktop Search,...|Sci/Tech|[0.9966360633091306,0.00214...|  0.0|       0.0|\n",
      "|Google has finally announce...|Business|[0.996501742592862,0.002382...|  1.0|       0.0|\n",
      "|But users of the popular co...|Sci/Tech|[0.9963135491275907,0.00278...|  0.0|       0.0|\n",
      "|\" Users of Internet \"\"peer ...|Sci/Tech|[0.9960517044794686,0.00345...|  0.0|       0.0|\n",
      "|The new patches apply to a ...|Sci/Tech|[0.9959615644629484,0.00344...|  0.0|       0.0|\n",
      "+------------------------------+--------+------------------------------+-----+----------+\n",
      "only showing top 10 rows\n",
      "\n"
     ]
    }
   ],
   "source": [
    "predictions_w2v = lrModel_w2v.transform(testData)\n",
    "\n",
    "predictions_w2v.select(\"description\",\"category\",\"probability\",\"label\",\"prediction\") \\\n",
    "    .orderBy(\"probability\", ascending=False) \\\n",
    "    .show(n = 10, truncate = 30)\n"
   ]
  },
  {
   "cell_type": "code",
   "execution_count": null,
   "metadata": {
    "colab": {
     "base_uri": "https://localhost:8080/"
    },
    "id": "P2WQ3rZmIPRX",
    "outputId": "32c52fbd-f701-46d4-fba2-7d21dd558014"
   },
   "outputs": [
    {
     "name": "stdout",
     "output_type": "stream",
     "text": [
      "              precision    recall  f1-score   support\n",
      "\n",
      "         0.0       0.82      0.81      0.81      8902\n",
      "         1.0       0.82      0.83      0.82      9072\n",
      "         2.0       0.88      0.87      0.87      9006\n",
      "         3.0       0.93      0.95      0.94      8982\n",
      "\n",
      "    accuracy                           0.86     35962\n",
      "   macro avg       0.86      0.86      0.86     35962\n",
      "weighted avg       0.86      0.86      0.86     35962\n",
      "\n",
      "0.8633835715477448\n"
     ]
    }
   ],
   "source": [
    "y_true = predictions_w2v.select(\"label\")\n",
    "y_true = y_true.toPandas()\n",
    "\n",
    "y_pred = predictions_w2v.select(\"prediction\")\n",
    "y_pred = y_pred.toPandas()\n",
    "\n",
    "print(classification_report(y_true.label, y_pred.prediction))\n",
    "print(accuracy_score(y_true.label, y_pred.prediction))"
   ]
  },
  {
   "cell_type": "code",
   "execution_count": null,
   "metadata": {
    "colab": {
     "base_uri": "https://localhost:8080/"
    },
    "id": "idNRXJJiIPRa",
    "outputId": "5c14ad46-3e16-40e8-8f69-0e02873ec73d"
   },
   "outputs": [
    {
     "name": "stdout",
     "output_type": "stream",
     "text": [
      "+--------------------------------------------------+--------------------------------------------------+\n",
      "|                                       description|                                            result|\n",
      "+--------------------------------------------------+--------------------------------------------------+\n",
      "| Short sellers, Wall Street's dwindling band of...|[Short, sellers, Wall, Streets, dwindling, band...|\n",
      "| Private investment firm Carlyle Group, which h...|[Private, investment, firm, Carlyle, Group, rep...|\n",
      "| Soaring crude prices plus worries about the ec...|[Soaring, crude, prices, plus, worries, economy...|\n",
      "| Authorities have halted oil export flows from ...|[Authorities, halted, oil, export, flows, main,...|\n",
      "| Tearaway world oil prices, toppling records an...|[Tearaway, world, oil, prices, toppling, record...|\n",
      "| Stocks ended slightly higher on Friday but sta...|[Stocks, ended, slightly, higher, Friday, staye...|\n",
      "| Assets of the nation's retail money market mut...|[Assets, nations, retail, money, market, mutual...|\n",
      "| Retail sales bounced back a bit in July, and n...|[Retail, sales, bounced, back, bit, July, new, ...|\n",
      "|\" After earning a PH.D. in Sociology, Danny Baz...|[earning, PHD, Sociology, Danny, Bazil, Riley, ...|\n",
      "| Short sellers, Wall Street's dwindling  band o...|[Short, sellers, Wall, Streets, dwindling, band...|\n",
      "| Soaring crude prices plus worries  about the e...|[Soaring, crude, prices, plus, worries, economy...|\n",
      "| OPEC can do nothing to douse scorching  oil pr...|[OPEC, nothing, douse, scorching, oil, prices, ...|\n",
      "| Non OPEC oil exporters should consider  increa...|[Non, OPEC, oil, exporters, consider, increasin...|\n",
      "| WASHINGTON/NEW YORK (Reuters) - The auction fo...|[WASHINGTONNEW, YORK, Reuters, auction, Google,...|\n",
      "| The dollar tumbled broadly on Friday  after da...|[dollar, tumbled, broadly, Friday, data, showin...|\n",
      "|If you think you may need to help your elderly ...|[think, may, need, help, elderly, relatives, fi...|\n",
      "|The purchasing power of kids is a big part of w...|[purchasing, power, kids, big, part, backtoscho...|\n",
      "|There is little cause for celebration in the st...|[little, cause, celebration, stock, market, day...|\n",
      "|The US trade deficit has exploded 19 to a recor...|[US, trade, deficit, exploded, record, bn, oil,...|\n",
      "|Oil giant Shell could be bracing itself for a t...|[Oil, giant, Shell, bracing, takeover, attempt,...|\n",
      "+--------------------------------------------------+--------------------------------------------------+\n",
      "only showing top 20 rows\n",
      "\n"
     ]
    }
   ],
   "source": [
    "processed_w2v.select('description','cleanTokens.result').show(truncate=50)"
   ]
  },
  {
   "cell_type": "markdown",
   "metadata": {
    "id": "-6X5ppwOIPRf"
   },
   "source": [
    "## LogReg with Spark NLP Bert Embeddings"
   ]
  },
  {
   "cell_type": "code",
   "execution_count": null,
   "metadata": {
    "id": "xdF5eFJcIPRf",
    "outputId": "ad321d72-565e-43ab-b8ff-a3ebeda7e5cc"
   },
   "outputs": [
    {
     "name": "stdout",
     "output_type": "stream",
     "text": [
      "bert_base_cased download started this may take some time.\n",
      "Approximate size to download 389.2 MB\n",
      "[OK!]\n"
     ]
    },
    {
     "data": {
      "text/plain": [
       "120000"
      ]
     },
     "execution_count": 11,
     "metadata": {
      "tags": []
     },
     "output_type": "execute_result"
    }
   ],
   "source": [
    "document_assembler = DocumentAssembler() \\\n",
    "      .setInputCol(\"description\") \\\n",
    "      .setOutputCol(\"document\")\n",
    "    \n",
    "tokenizer = Tokenizer() \\\n",
    "      .setInputCols([\"document\"]) \\\n",
    "      .setOutputCol(\"token\")\n",
    "    \n",
    "normalizer = Normalizer() \\\n",
    "      .setInputCols([\"token\"]) \\\n",
    "      .setOutputCol(\"normalized\")\n",
    "\n",
    "stopwords_cleaner = StopWordsCleaner()\\\n",
    "      .setInputCols(\"normalized\")\\\n",
    "      .setOutputCol(\"cleanTokens\")\\\n",
    "      .setCaseSensitive(False)\n",
    "\n",
    "bert_embeddings = BertEmbeddings\\\n",
    "      .pretrained('bert_base_cased', 'en') \\\n",
    "      .setInputCols([\"document\",'cleanTokens'])\\\n",
    "      .setOutputCol(\"bert\")\\\n",
    "      .setCaseSensitive(False)\\\n",
    "\n",
    "embeddingsSentence = SentenceEmbeddings() \\\n",
    "      .setInputCols([\"document\", \"bert\"]) \\\n",
    "      .setOutputCol(\"sentence_embeddings\") \\\n",
    "      .setPoolingStrategy(\"AVERAGE\")\n",
    "    \n",
    "embeddings_finisher = EmbeddingsFinisher() \\\n",
    "      .setInputCols([\"sentence_embeddings\"]) \\\n",
    "      .setOutputCols([\"finished_sentence_embeddings\"]) \\\n",
    "      .setOutputAsVector(True)\\\n",
    "      .setCleanAnnotations(False)\n",
    "\n",
    "label_stringIdx = StringIndexer(inputCol = \"category\", outputCol = \"label\")\n",
    "\n",
    "\n",
    "nlp_pipeline_bert = Pipeline(\n",
    "    stages=[document_assembler, \n",
    "            tokenizer,\n",
    "            normalizer,\n",
    "            stopwords_cleaner, \n",
    "            bert_embeddings,\n",
    "            embeddingsSentence,\n",
    "            embeddings_finisher,\n",
    "            label_stringIdx])\n",
    "\n",
    "nlp_model_bert = nlp_pipeline_bert.fit(newsDF)\n",
    "\n",
    "processed_bert = nlp_model_bert.transform(newsDF)\n",
    "\n",
    "processed_bert.count()\n"
   ]
  },
  {
   "cell_type": "code",
   "execution_count": null,
   "metadata": {
    "id": "7g2Yk5vdIPRh",
    "outputId": "d4dd71db-0b10-4851-bf15-da13553578c7"
   },
   "outputs": [
    {
     "name": "stdout",
     "output_type": "stream",
     "text": [
      "+--------------------+--------------------+-----+\n",
      "|         description|            features|label|\n",
      "+--------------------+--------------------+-----+\n",
      "|Srinagar, Nov 6 (...|[-0.0763546451926...|  2.0|\n",
      "|France's presiden...|[0.01601043716073...|  2.0|\n",
      "|President  Bush s...|[0.11258428543806...|  2.0|\n",
      "|Established Shiit...|[0.09958435595035...|  2.0|\n",
      "|While Democrats p...|[-0.3666543066501...|  2.0|\n",
      "|Rural and deprive...|[0.08482994884252...|  1.0|\n",
      "| Terrell Owens is...|[-0.1571628898382...|  3.0|\n",
      "|\" Gov. Ed Rendell...|[-0.0437468327581...|  3.0|\n",
      "| A month after a ...|[-0.1684152632951...|  3.0|\n",
      "| No Diana Taurasi...|[-0.0047841807827...|  3.0|\n",
      "| An upbeat Presid...|[0.15349867939949...|  2.0|\n",
      "| Gay and lesbian ...|[0.17594610154628...|  2.0|\n",
      "| Twenty three peo...|[-0.0070635229349...|  2.0|\n",
      "|  Connecticut Att...|[0.13604542613029...|  0.0|\n",
      "|A new report on g...|[0.07444920390844...|  1.0|\n",
      "|That Michael Siew...|[0.23243072628974...|  1.0|\n",
      "|Vice chairman of ...|[-0.2215369194746...|  1.0|\n",
      "|It #39;s good to ...|[-0.0571924299001...|  1.0|\n",
      "|Jacques Santini #...|[-0.1171142607927...|  3.0|\n",
      "|Chelsea have gone...|[-0.0265568681061...|  3.0|\n",
      "+--------------------+--------------------+-----+\n",
      "only showing top 20 rows\n",
      "\n"
     ]
    }
   ],
   "source": [
    "from pyspark.sql.functions import explode\n",
    "\n",
    "processed_bert= processed_bert.withColumn(\"features\", explode(processed_bert.finished_sentence_embeddings))\n",
    "\n",
    "processed_bert.select('description','features','label').show()\n"
   ]
  },
  {
   "cell_type": "code",
   "execution_count": null,
   "metadata": {
    "id": "sqDwRWZbIPRk",
    "outputId": "fbc3c603-d182-4362-8cd0-9d15e627ab08"
   },
   "outputs": [
    {
     "name": "stdout",
     "output_type": "stream",
     "text": [
      "Training Dataset Count: 84045\n",
      "Test Dataset Count: 35955\n"
     ]
    }
   ],
   "source": [
    "# set seed for reproducibility\n",
    "(trainingData, testData) = processed_bert.randomSplit([0.7, 0.3], seed = 100)\n",
    "print(\"Training Dataset Count: \" + str(trainingData.count()))\n",
    "print(\"Test Dataset Count: \" + str(testData.count()))"
   ]
  },
  {
   "cell_type": "code",
   "execution_count": null,
   "metadata": {
    "id": "kSe7wzqfIPRm"
   },
   "outputs": [],
   "source": [
    "from pyspark.ml.classification import LogisticRegression\n",
    "\n",
    "lr = LogisticRegression(maxIter=20, regParam=0.3, elasticNetParam=0)\n",
    "\n",
    "lrModel = lr.fit(trainingData)\n"
   ]
  },
  {
   "cell_type": "code",
   "execution_count": null,
   "metadata": {
    "id": "gTRXE2TrIPRo"
   },
   "outputs": [],
   "source": [
    "from pyspark.sql.functions import udf\n",
    "\n",
    "@udf(\"long\")\n",
    "def num_nonzeros(v):\n",
    "    return v.numNonzeros()\n",
    "\n",
    "testData = testData.where(num_nonzeros(\"features\") != 0)"
   ]
  },
  {
   "cell_type": "code",
   "execution_count": null,
   "metadata": {
    "id": "_c43W5PjIPRq",
    "outputId": "7405ad27-d24a-4dfd-d52b-f44850ad8bab"
   },
   "outputs": [
    {
     "name": "stdout",
     "output_type": "stream",
     "text": [
      "+------------------------------+--------+------------------------------+-----+----------+\n",
      "|                   description|category|                   probability|label|prediction|\n",
      "+------------------------------+--------+------------------------------+-----+----------+\n",
      "|The Securities and Exchange...|Business|[0.9967407593636138,0.00300...|  0.0|       0.0|\n",
      "|Stocks opened higher today,...|Business|[0.9928207319563264,0.00469...|  0.0|       0.0|\n",
      "| Retailer Payless ShoeSourc...|Business|[0.9926546087578139,0.00674...|  0.0|       0.0|\n",
      "|The insurance brokerage rep...|Business|[0.9917833732987117,0.00754...|  0.0|       0.0|\n",
      "|Shell outlined a profit str...|Business|[0.9916303454148256,0.00808...|  0.0|       0.0|\n",
      "| Countrywide Financial Corp...|Business|[0.9916172364634749,0.00514...|  0.0|       0.0|\n",
      "|PITTSBURGH Mellon Financial...|Business|[0.9915578428166462,0.00799...|  0.0|       0.0|\n",
      "|  Grocery wholesaler Flemin...|Business|[0.9915445608575104,0.00766...|  0.0|       0.0|\n",
      "|Mark Headley, who manages t...|Business|[0.9913036366415715,0.00795...|  0.0|       0.0|\n",
      "|Stocks fell for the second ...|Business|[0.9911328913959282,0.00419...|  0.0|       0.0|\n",
      "+------------------------------+--------+------------------------------+-----+----------+\n",
      "only showing top 10 rows\n",
      "\n"
     ]
    }
   ],
   "source": [
    "predictions = lrModel.transform(testData)\n",
    "\n",
    "predictions.select(\"description\",\"category\",\"probability\",\"label\",\"prediction\") \\\n",
    "    .orderBy(\"probability\", ascending=False) \\\n",
    "    .show(n = 10, truncate = 30)\n"
   ]
  },
  {
   "cell_type": "code",
   "execution_count": null,
   "metadata": {
    "id": "buAz91hDIPRs",
    "outputId": "51a6dc2a-9fdb-4ed4-c254-38a4b18b843f"
   },
   "outputs": [
    {
     "name": "stdout",
     "output_type": "stream",
     "text": [
      "              precision    recall  f1-score   support\n",
      "\n",
      "         0.0       0.82      0.79      0.80      8911\n",
      "         1.0       0.81      0.80      0.81      8972\n",
      "         2.0       0.84      0.86      0.85      9008\n",
      "         3.0       0.90      0.94      0.92      9063\n",
      "\n",
      "    accuracy                           0.85     35954\n",
      "   macro avg       0.84      0.85      0.84     35954\n",
      "weighted avg       0.84      0.85      0.85     35954\n",
      "\n",
      "0.8459142237303221\n"
     ]
    }
   ],
   "source": [
    "from sklearn.metrics import confusion_matrix, classification_report, accuracy_score\n",
    "import pandas as pd\n",
    "\n",
    "df = predictions.select('description','category','label','prediction').toPandas()\n",
    "\n",
    "print(classification_report(df.label, df.prediction))\n",
    "print(accuracy_score(df.label, df.prediction))"
   ]
  },
  {
   "cell_type": "markdown",
   "metadata": {
    "id": "tSCxUSkmIPRu"
   },
   "source": [
    "## LogReg with ELMO Embeddings"
   ]
  },
  {
   "cell_type": "code",
   "execution_count": null,
   "metadata": {
    "colab": {
     "base_uri": "https://localhost:8080/"
    },
    "id": "L_pCzKheIPRv",
    "outputId": "2117bba6-dbdf-4465-c758-5bce74a6b96f"
   },
   "outputs": [
    {
     "name": "stdout",
     "output_type": "stream",
     "text": [
      "elmo download started this may take some time.\n",
      "Approximate size to download 334.1 MB\n",
      "[OK!]\n"
     ]
    },
    {
     "data": {
      "text/plain": [
       "120000"
      ]
     },
     "execution_count": 48,
     "metadata": {
      "tags": []
     },
     "output_type": "execute_result"
    }
   ],
   "source": [
    "document_assembler = DocumentAssembler() \\\n",
    "      .setInputCol(\"description\") \\\n",
    "      .setOutputCol(\"document\")\n",
    "    \n",
    "tokenizer = Tokenizer() \\\n",
    "      .setInputCols([\"document\"]) \\\n",
    "      .setOutputCol(\"token\")\n",
    "    \n",
    "normalizer = Normalizer() \\\n",
    "      .setInputCols([\"token\"]) \\\n",
    "      .setOutputCol(\"normalized\")\n",
    "\n",
    "stopwords_cleaner = StopWordsCleaner()\\\n",
    "      .setInputCols(\"normalized\")\\\n",
    "      .setOutputCol(\"cleanTokens\")\\\n",
    "      .setCaseSensitive(False)\n",
    "\n",
    "elmo_embeddings = ElmoEmbeddings.pretrained()\\\n",
    "      .setPoolingLayer(\"word_emb\")\\\n",
    "      .setInputCols([\"document\",'cleanTokens'])\\\n",
    "      .setOutputCol(\"elmo\")\n",
    "\n",
    "embeddingsSentence = SentenceEmbeddings() \\\n",
    "      .setInputCols([\"document\", \"elmo\"]) \\\n",
    "      .setOutputCol(\"sentence_embeddings\") \\\n",
    "      .setPoolingStrategy(\"AVERAGE\")\n",
    "    \n",
    "embeddings_finisher = EmbeddingsFinisher() \\\n",
    "      .setInputCols([\"sentence_embeddings\"]) \\\n",
    "      .setOutputCols([\"finished_sentence_embeddings\"]) \\\n",
    "      .setOutputAsVector(True)\\\n",
    "      .setCleanAnnotations(False)\n",
    "\n",
    "label_stringIdx = StringIndexer(inputCol = \"category\", outputCol = \"label\")\n",
    "\n",
    "\n",
    "nlp_pipeline_elmo = Pipeline(\n",
    "    stages=[document_assembler, \n",
    "            tokenizer,\n",
    "            normalizer,\n",
    "            stopwords_cleaner, \n",
    "            elmo_embeddings,\n",
    "            embeddingsSentence,\n",
    "            embeddings_finisher,\n",
    "            label_stringIdx])\n",
    "\n",
    "nlp_model_elmo = nlp_pipeline_elmo.fit(newsDF)\n",
    "\n",
    "processed_elmo = nlp_model_elmo.transform(newsDF)\n",
    "\n",
    "processed_elmo.count()\n"
   ]
  },
  {
   "cell_type": "code",
   "execution_count": null,
   "metadata": {
    "id": "3vk7XGN5IPRx"
   },
   "outputs": [],
   "source": [
    "(trainingData, testData) = newsDF.randomSplit([0.7, 0.3], seed = 100)"
   ]
  },
  {
   "cell_type": "code",
   "execution_count": null,
   "metadata": {
    "colab": {
     "base_uri": "https://localhost:8080/"
    },
    "id": "q-VCL5iOIPRz",
    "outputId": "799e31b9-5fd6-4394-fe07-d145d8c88d6a"
   },
   "outputs": [
    {
     "data": {
      "text/plain": [
       "84038"
      ]
     },
     "execution_count": 51,
     "metadata": {
      "tags": []
     },
     "output_type": "execute_result"
    }
   ],
   "source": [
    "processed_trainingData = nlp_model_elmo.transform(trainingData)\n",
    "\n",
    "processed_trainingData.count()"
   ]
  },
  {
   "cell_type": "code",
   "execution_count": null,
   "metadata": {
    "colab": {
     "base_uri": "https://localhost:8080/"
    },
    "id": "QLxq_udOIPR1",
    "outputId": "c75ff5b0-3fa1-45ce-c38c-9faffe9e5fc3"
   },
   "outputs": [
    {
     "data": {
      "text/plain": [
       "35962"
      ]
     },
     "execution_count": 52,
     "metadata": {
      "tags": []
     },
     "output_type": "execute_result"
    }
   ],
   "source": [
    "processed_testData = nlp_model_elmo.transform(testData)\n",
    "\n",
    "processed_testData.count()"
   ]
  },
  {
   "cell_type": "code",
   "execution_count": null,
   "metadata": {
    "colab": {
     "base_uri": "https://localhost:8080/"
    },
    "id": "hWqgBJmKIPR2",
    "outputId": "651a76a0-41a0-4954-84e0-783422d2b295"
   },
   "outputs": [
    {
     "data": {
      "text/plain": [
       "['category',\n",
       " 'description',\n",
       " 'document',\n",
       " 'token',\n",
       " 'normalized',\n",
       " 'cleanTokens',\n",
       " 'elmo',\n",
       " 'sentence_embeddings',\n",
       " 'finished_sentence_embeddings',\n",
       " 'label']"
      ]
     },
     "execution_count": 53,
     "metadata": {
      "tags": []
     },
     "output_type": "execute_result"
    }
   ],
   "source": [
    "processed_trainingData.columns"
   ]
  },
  {
   "cell_type": "code",
   "execution_count": null,
   "metadata": {
    "id": "V3W9kceqIPR4"
   },
   "outputs": [],
   "source": [
    "processed_testData= processed_testData.withColumn(\"features\", explode(processed_testData.finished_sentence_embeddings))\n",
    "\n",
    "processed_trainingData= processed_trainingData.withColumn(\"features\", explode(processed_trainingData.finished_sentence_embeddings))\n"
   ]
  },
  {
   "cell_type": "code",
   "execution_count": null,
   "metadata": {
    "id": "hY8z7srJIPR6"
   },
   "outputs": [],
   "source": [
    "from pyspark.sql.functions import udf\n",
    "\n",
    "@udf(\"long\")\n",
    "def num_nonzeros(v):\n",
    "    return v.numNonzeros()\n",
    "\n",
    "processed_testData = processed_testData.where(num_nonzeros(\"features\") != 0)"
   ]
  },
  {
   "cell_type": "code",
   "execution_count": null,
   "metadata": {
    "colab": {
     "base_uri": "https://localhost:8080/"
    },
    "id": "lyqIOMbsIPR8",
    "outputId": "461acf9f-6a9b-4390-c022-9b0c84fd9298"
   },
   "outputs": [
    {
     "name": "stdout",
     "output_type": "stream",
     "text": [
      "CPU times: user 14.5 s, sys: 1.12 s, total: 15.6 s\n",
      "Wall time: 51min 41s\n"
     ]
    }
   ],
   "source": [
    "%%time\n",
    "\n",
    "from pyspark.ml.classification import LogisticRegression\n",
    "\n",
    "lr = LogisticRegression(maxIter=20, regParam=0.3, elasticNetParam=0)\n",
    "\n",
    "lrModel = lr.fit(processed_trainingData)\n"
   ]
  },
  {
   "cell_type": "code",
   "execution_count": null,
   "metadata": {
    "colab": {
     "base_uri": "https://localhost:8080/"
    },
    "id": "D04iWWPMIPR9",
    "outputId": "10b91752-dd01-4f56-e066-f5d4c5bd4dec"
   },
   "outputs": [
    {
     "data": {
      "text/plain": [
       "['category',\n",
       " 'description',\n",
       " 'document',\n",
       " 'token',\n",
       " 'normalized',\n",
       " 'cleanTokens',\n",
       " 'elmo',\n",
       " 'sentence_embeddings',\n",
       " 'finished_sentence_embeddings',\n",
       " 'label',\n",
       " 'features']"
      ]
     },
     "execution_count": 57,
     "metadata": {
      "tags": []
     },
     "output_type": "execute_result"
    }
   ],
   "source": [
    "processed_trainingData.columns"
   ]
  },
  {
   "cell_type": "code",
   "execution_count": null,
   "metadata": {
    "colab": {
     "base_uri": "https://localhost:8080/"
    },
    "id": "vS2_xs3ZIPSA",
    "outputId": "6579cea0-97c2-4ce3-d6fb-2d3698570bfd"
   },
   "outputs": [
    {
     "name": "stdout",
     "output_type": "stream",
     "text": [
      "+------------------------------+--------+------------------------------+-----+----------+\n",
      "|                   description|category|                   probability|label|prediction|\n",
      "+------------------------------+--------+------------------------------+-----+----------+\n",
      "|A forthcoming version of Wi...|Sci/Tech|[0.9993039099892396,4.50871...|  0.0|       0.0|\n",
      "|The KDE Project has release...|Sci/Tech|[0.999246791111875,6.973488...|  0.0|       0.0|\n",
      "|What do Internet Explorer, ...|Sci/Tech|[0.9992460656674004,6.07912...|  0.0|       0.0|\n",
      "|Server: requires Microsoft ...|Sci/Tech|[0.9987961954234382,0.00112...|  0.0|       0.0|\n",
      "|Plan promises downloads of ...|Sci/Tech|[0.9985562812084444,0.00117...|  0.0|       0.0|\n",
      "|Mozilla Foundation, creator...|Sci/Tech|[0.9985218038953471,0.00135...|  0.0|       0.0|\n",
      "|Microsoft introduced a beta...|Sci/Tech|[0.998473641569325,0.001387...|  0.0|       0.0|\n",
      "| A software patch to protec...|Sci/Tech|[0.9983135752364677,0.00131...|  0.0|       0.0|\n",
      "| Device uses NCQ technology...|Sci/Tech|[0.9982707197229772,0.00154...|  0.0|       0.0|\n",
      "|ezberry writes  quot;After ...|Sci/Tech|[0.9980578918129821,0.00147...|  0.0|       0.0|\n",
      "+------------------------------+--------+------------------------------+-----+----------+\n",
      "only showing top 10 rows\n",
      "\n"
     ]
    }
   ],
   "source": [
    "predictions = lrModel.transform(processed_testData)\n",
    "\n",
    "predictions.select(\"description\",\"category\",\"probability\",\"label\",\"prediction\") \\\n",
    "    .orderBy(\"probability\", ascending=False) \\\n",
    "    .show(n = 10, truncate = 30)\n"
   ]
  },
  {
   "cell_type": "code",
   "execution_count": null,
   "metadata": {
    "id": "P3lz8IFhIPSC"
   },
   "outputs": [],
   "source": [
    "df = predictions.select('description','category','label','prediction').toPandas()"
   ]
  },
  {
   "cell_type": "code",
   "execution_count": null,
   "metadata": {
    "colab": {
     "base_uri": "https://localhost:8080/"
    },
    "id": "lrJtqnTcIPSD",
    "outputId": "d0da2941-a6ae-48bf-9e03-341a236f27db"
   },
   "outputs": [
    {
     "data": {
      "text/plain": [
       "(35962, 4)"
      ]
     },
     "execution_count": 60,
     "metadata": {
      "tags": []
     },
     "output_type": "execute_result"
    }
   ],
   "source": [
    "df.shape"
   ]
  },
  {
   "cell_type": "code",
   "execution_count": null,
   "metadata": {
    "colab": {
     "base_uri": "https://localhost:8080/",
     "height": 198
    },
    "id": "7eEgmPDWIPSF",
    "outputId": "c01e74ce-6fee-4fa8-9408-de242053c1f1"
   },
   "outputs": [
    {
     "data": {
      "text/html": [
       "<div>\n",
       "<style scoped>\n",
       "    .dataframe tbody tr th:only-of-type {\n",
       "        vertical-align: middle;\n",
       "    }\n",
       "\n",
       "    .dataframe tbody tr th {\n",
       "        vertical-align: top;\n",
       "    }\n",
       "\n",
       "    .dataframe thead th {\n",
       "        text-align: right;\n",
       "    }\n",
       "</style>\n",
       "<table border=\"1\" class=\"dataframe\">\n",
       "  <thead>\n",
       "    <tr style=\"text-align: right;\">\n",
       "      <th></th>\n",
       "      <th>description</th>\n",
       "      <th>category</th>\n",
       "      <th>label</th>\n",
       "      <th>prediction</th>\n",
       "    </tr>\n",
       "  </thead>\n",
       "  <tbody>\n",
       "    <tr>\n",
       "      <th>0</th>\n",
       "      <td>A  $120 million fine levied on Royal Dutch/S...</td>\n",
       "      <td>Business</td>\n",
       "      <td>1.0</td>\n",
       "      <td>1.0</td>\n",
       "    </tr>\n",
       "    <tr>\n",
       "      <th>1</th>\n",
       "      <td>A Missouri woman is suing the maker of arthr...</td>\n",
       "      <td>Business</td>\n",
       "      <td>1.0</td>\n",
       "      <td>2.0</td>\n",
       "    </tr>\n",
       "    <tr>\n",
       "      <th>2</th>\n",
       "      <td>A Pennsylvania brewery is betting beer drink...</td>\n",
       "      <td>Business</td>\n",
       "      <td>1.0</td>\n",
       "      <td>1.0</td>\n",
       "    </tr>\n",
       "    <tr>\n",
       "      <th>3</th>\n",
       "      <td>A Secret Service ink expert was acquitted ye...</td>\n",
       "      <td>Business</td>\n",
       "      <td>1.0</td>\n",
       "      <td>2.0</td>\n",
       "    </tr>\n",
       "    <tr>\n",
       "      <th>4</th>\n",
       "      <td>A federal bankruptcy judge ruled against Uni...</td>\n",
       "      <td>Business</td>\n",
       "      <td>1.0</td>\n",
       "      <td>1.0</td>\n",
       "    </tr>\n",
       "  </tbody>\n",
       "</table>\n",
       "</div>"
      ],
      "text/plain": [
       "                                         description  ... prediction\n",
       "0    A  $120 million fine levied on Royal Dutch/S...  ...        1.0\n",
       "1    A Missouri woman is suing the maker of arthr...  ...        2.0\n",
       "2    A Pennsylvania brewery is betting beer drink...  ...        1.0\n",
       "3    A Secret Service ink expert was acquitted ye...  ...        2.0\n",
       "4    A federal bankruptcy judge ruled against Uni...  ...        1.0\n",
       "\n",
       "[5 rows x 4 columns]"
      ]
     },
     "execution_count": 61,
     "metadata": {
      "tags": []
     },
     "output_type": "execute_result"
    }
   ],
   "source": [
    "df.head()"
   ]
  },
  {
   "cell_type": "code",
   "execution_count": null,
   "metadata": {
    "colab": {
     "base_uri": "https://localhost:8080/"
    },
    "id": "6JS3R3knIPSI",
    "outputId": "b986456c-d96e-4ab6-ad0a-96b8294d3867"
   },
   "outputs": [
    {
     "name": "stdout",
     "output_type": "stream",
     "text": [
      "              precision    recall  f1-score   support\n",
      "\n",
      "         0.0       0.83      0.82      0.82      8950\n",
      "         1.0       0.83      0.82      0.82      8908\n",
      "         2.0       0.88      0.87      0.88      9018\n",
      "         3.0       0.94      0.96      0.95      9086\n",
      "\n",
      "    accuracy                           0.87     35962\n",
      "   macro avg       0.87      0.87      0.87     35962\n",
      "weighted avg       0.87      0.87      0.87     35962\n",
      "\n",
      "0.8685000834213893\n"
     ]
    }
   ],
   "source": [
    "from sklearn.metrics import classification_report, accuracy_score\n",
    "\n",
    "print(classification_report(df.label, df.prediction))\n",
    "print(accuracy_score(df.label, df.prediction))"
   ]
  },
  {
   "cell_type": "markdown",
   "metadata": {
    "id": "8YpFN8zBIPSJ"
   },
   "source": [
    "## LogReg with Universal Sentence Encoder"
   ]
  },
  {
   "cell_type": "code",
   "execution_count": null,
   "metadata": {
    "id": "Tcbxx22GHnel"
   },
   "outputs": [],
   "source": [
    "useEmbeddings = UniversalSentenceEncoder.pretrained()\\\n",
    "      .setInputCols(\"document\")\\\n",
    "      .setOutputCol(\"use_embeddings\")"
   ]
  },
  {
   "cell_type": "code",
   "execution_count": null,
   "metadata": {
    "id": "a4YxWiKdIPSK"
   },
   "outputs": [],
   "source": [
    "document_assembler = DocumentAssembler() \\\n",
    "      .setInputCol(\"description\") \\\n",
    "      .setOutputCol(\"document\")\n",
    "\n",
    "loaded_useEmbeddings = UniversalSentenceEncoder.load('/root/cache_pretrained/tfhub_use_en_2.4.0_2.4_1587136330099')\\\n",
    "      .setInputCols(\"document\")\\\n",
    "      .setOutputCol(\"use_embeddings\")\n",
    "\n",
    "embeddings_finisher = EmbeddingsFinisher() \\\n",
    "      .setInputCols([\"use_embeddings\"]) \\\n",
    "      .setOutputCols([\"finished_use_embeddings\"]) \\\n",
    "      .setOutputAsVector(True)\\\n",
    "      .setCleanAnnotations(False)\n",
    "\n",
    "label_stringIdx = StringIndexer(inputCol = \"category\", outputCol = \"label\")\n",
    "\n",
    "use_pipeline = Pipeline(\n",
    "      stages=[\n",
    "        document_assembler,\n",
    "        loaded_useEmbeddings,\n",
    "        embeddings_finisher,\n",
    "        label_stringIdx]\n",
    "      )\n",
    "\n",
    "use_df = use_pipeline.fit(newsDF).transform(newsDF)"
   ]
  },
  {
   "cell_type": "code",
   "execution_count": null,
   "metadata": {
    "colab": {
     "base_uri": "https://localhost:8080/"
    },
    "id": "kbiA3moMIPSR",
    "outputId": "da141fdc-b6b8-40fb-88b9-06cd15db25e9"
   },
   "outputs": [
    {
     "name": "stdout",
     "output_type": "stream",
     "text": [
      "+-----------------------+\n",
      "|finished_use_embeddings|\n",
      "+-----------------------+\n",
      "|   [[0.0441501587629...|\n",
      "|   [[0.0844451636075...|\n",
      "|   [[0.0426647365093...|\n",
      "+-----------------------+\n",
      "only showing top 3 rows\n",
      "\n"
     ]
    }
   ],
   "source": [
    "use_df.select('finished_use_embeddings').show(3)"
   ]
  },
  {
   "cell_type": "code",
   "execution_count": null,
   "metadata": {
    "id": "9nI3EXthIPST"
   },
   "outputs": [],
   "source": [
    "from pyspark.sql.functions import explode\n",
    "\n",
    "use_df= use_df.withColumn(\"features\", explode(use_df.finished_use_embeddings))"
   ]
  },
  {
   "cell_type": "code",
   "execution_count": null,
   "metadata": {
    "colab": {
     "base_uri": "https://localhost:8080/"
    },
    "id": "PD9vNF2KIPSV",
    "outputId": "0031f30a-1879-4330-e606-1f4f9f127b63"
   },
   "outputs": [
    {
     "name": "stdout",
     "output_type": "stream",
     "text": [
      "+--------+--------------------+--------------------+--------------------+-----------------------+-----+--------------------+\n",
      "|category|         description|            document|      use_embeddings|finished_use_embeddings|label|            features|\n",
      "+--------+--------------------+--------------------+--------------------+-----------------------+-----+--------------------+\n",
      "|Business| Short sellers, W...|[[document, 0, 84...|[[sentence_embedd...|   [[0.0441501587629...|  1.0|[0.04415015876293...|\n",
      "|Business| Private investme...|[[document, 0, 20...|[[sentence_embedd...|   [[0.0844451636075...|  1.0|[0.08444516360759...|\n",
      "+--------+--------------------+--------------------+--------------------+-----------------------+-----+--------------------+\n",
      "only showing top 2 rows\n",
      "\n"
     ]
    }
   ],
   "source": [
    "use_df.show(2)"
   ]
  },
  {
   "cell_type": "code",
   "execution_count": null,
   "metadata": {
    "colab": {
     "base_uri": "https://localhost:8080/"
    },
    "id": "2_VHl1FFIPSX",
    "outputId": "e3ebb432-4a28-409a-a5db-1516dcf83b94"
   },
   "outputs": [
    {
     "name": "stdout",
     "output_type": "stream",
     "text": [
      "Training Dataset Count: 84038\n",
      "Test Dataset Count: 35962\n"
     ]
    }
   ],
   "source": [
    "# set seed for reproducibility\n",
    "(trainingData, testData) = use_df.randomSplit([0.7, 0.3], seed = 100)\n",
    "print(\"Training Dataset Count: \" + str(trainingData.count()))\n",
    "print(\"Test Dataset Count: \" + str(testData.count()))"
   ]
  },
  {
   "cell_type": "code",
   "execution_count": null,
   "metadata": {
    "colab": {
     "base_uri": "https://localhost:8080/"
    },
    "id": "vIpDQAScIPSY",
    "outputId": "8bd350c5-ee38-4b8b-aa34-5b53949eee75"
   },
   "outputs": [
    {
     "name": "stdout",
     "output_type": "stream",
     "text": [
      "+------------------------------+--------+------------------------------+-----+----------+\n",
      "|                   description|category|                   probability|label|prediction|\n",
      "+------------------------------+--------+------------------------------+-----+----------+\n",
      "|Desktop Search from AOL, Go...|Sci/Tech|[0.9960102774312224,0.00273...|  0.0|       0.0|\n",
      "|Humans will upgrade their n...|Sci/Tech|[0.9958870851755632,0.00153...|  0.0|       0.0|\n",
      "| Downloading games, ring to...|Sci/Tech|[0.9953640108788133,0.00126...|  0.0|       0.0|\n",
      "|Google brought the simplici...|Sci/Tech|[0.9947117246322481,0.00283...|  0.0|       0.0|\n",
      "|The Mountain View company u...|Business|[0.9946224759216548,0.00335...|  1.0|       0.0|\n",
      "|Free application creates to...|Sci/Tech|[0.9944398317988099,0.00138...|  0.0|       0.0|\n",
      "|Users using Symbian operati...|Sci/Tech|[0.9942926689881441,0.00258...|  0.0|       0.0|\n",
      "|Internet portal Lycos has d...|Sci/Tech|[0.9940289940853572,0.00450...|  0.0|       0.0|\n",
      "|OQO, a tiny 14-ounce Window...|Sci/Tech|[0.9939563073467073,0.00261...|  0.0|       0.0|\n",
      "|Few people get excited when...|Sci/Tech|[0.9931760705859141,0.00247...|  0.0|       0.0|\n",
      "+------------------------------+--------+------------------------------+-----+----------+\n",
      "only showing top 10 rows\n",
      "\n"
     ]
    }
   ],
   "source": [
    "from sklearn.metrics import confusion_matrix, classification_report, accuracy_score\n",
    "import pandas as pd\n",
    "\n",
    "from pyspark.ml.classification import LogisticRegression\n",
    "\n",
    "lr = LogisticRegression(maxIter=20, regParam=0.3, elasticNetParam=0)\n",
    "\n",
    "lrModel = lr.fit(trainingData)\n",
    "\n",
    "predictions = lrModel.transform(testData)\n",
    "\n",
    "predictions.filter(predictions['prediction'] == 0) \\\n",
    "    .select(\"description\",\"category\",\"probability\",\"label\",\"prediction\") \\\n",
    "    .orderBy(\"probability\", ascending=False) \\\n",
    "    .show(n = 10, truncate = 30)\n"
   ]
  },
  {
   "cell_type": "code",
   "execution_count": null,
   "metadata": {
    "id": "4NiPwWRmIPSa"
   },
   "outputs": [],
   "source": [
    "df = predictions.select('description','category','label','prediction').toPandas()\n",
    "#df['result'] = df['result'].apply(lambda x: x[0])\n"
   ]
  },
  {
   "cell_type": "code",
   "execution_count": null,
   "metadata": {
    "colab": {
     "base_uri": "https://localhost:8080/",
     "height": 198
    },
    "id": "u4Q1XnpZIPSc",
    "outputId": "d62534ea-0241-4ce7-afae-b7d71d201b88"
   },
   "outputs": [
    {
     "data": {
      "text/html": [
       "<div>\n",
       "<style scoped>\n",
       "    .dataframe tbody tr th:only-of-type {\n",
       "        vertical-align: middle;\n",
       "    }\n",
       "\n",
       "    .dataframe tbody tr th {\n",
       "        vertical-align: top;\n",
       "    }\n",
       "\n",
       "    .dataframe thead th {\n",
       "        text-align: right;\n",
       "    }\n",
       "</style>\n",
       "<table border=\"1\" class=\"dataframe\">\n",
       "  <thead>\n",
       "    <tr style=\"text-align: right;\">\n",
       "      <th></th>\n",
       "      <th>description</th>\n",
       "      <th>category</th>\n",
       "      <th>label</th>\n",
       "      <th>prediction</th>\n",
       "    </tr>\n",
       "  </thead>\n",
       "  <tbody>\n",
       "    <tr>\n",
       "      <th>0</th>\n",
       "      <td>A  $120 million fine levied on Royal Dutch/S...</td>\n",
       "      <td>Business</td>\n",
       "      <td>1.0</td>\n",
       "      <td>1.0</td>\n",
       "    </tr>\n",
       "    <tr>\n",
       "      <th>1</th>\n",
       "      <td>A Missouri woman is suing the maker of arthr...</td>\n",
       "      <td>Business</td>\n",
       "      <td>1.0</td>\n",
       "      <td>1.0</td>\n",
       "    </tr>\n",
       "    <tr>\n",
       "      <th>2</th>\n",
       "      <td>A Pennsylvania brewery is betting beer drink...</td>\n",
       "      <td>Business</td>\n",
       "      <td>1.0</td>\n",
       "      <td>1.0</td>\n",
       "    </tr>\n",
       "    <tr>\n",
       "      <th>3</th>\n",
       "      <td>A Secret Service ink expert was acquitted ye...</td>\n",
       "      <td>Business</td>\n",
       "      <td>1.0</td>\n",
       "      <td>2.0</td>\n",
       "    </tr>\n",
       "    <tr>\n",
       "      <th>4</th>\n",
       "      <td>A federal bankruptcy judge ruled against Uni...</td>\n",
       "      <td>Business</td>\n",
       "      <td>1.0</td>\n",
       "      <td>1.0</td>\n",
       "    </tr>\n",
       "  </tbody>\n",
       "</table>\n",
       "</div>"
      ],
      "text/plain": [
       "                                         description  ... prediction\n",
       "0    A  $120 million fine levied on Royal Dutch/S...  ...        1.0\n",
       "1    A Missouri woman is suing the maker of arthr...  ...        1.0\n",
       "2    A Pennsylvania brewery is betting beer drink...  ...        1.0\n",
       "3    A Secret Service ink expert was acquitted ye...  ...        2.0\n",
       "4    A federal bankruptcy judge ruled against Uni...  ...        1.0\n",
       "\n",
       "[5 rows x 4 columns]"
      ]
     },
     "execution_count": 13,
     "metadata": {
      "tags": []
     },
     "output_type": "execute_result"
    }
   ],
   "source": [
    "df.head()"
   ]
  },
  {
   "cell_type": "code",
   "execution_count": null,
   "metadata": {
    "colab": {
     "base_uri": "https://localhost:8080/"
    },
    "id": "aEg_wD3oIPSe",
    "outputId": "a4ff9cbe-58e5-4d7e-fd54-6f51e21bfcfb"
   },
   "outputs": [
    {
     "name": "stdout",
     "output_type": "stream",
     "text": [
      "              precision    recall  f1-score   support\n",
      "\n",
      "         0.0       0.84      0.84      0.84      8950\n",
      "         1.0       0.83      0.83      0.83      8908\n",
      "         2.0       0.90      0.88      0.89      9018\n",
      "         3.0       0.95      0.97      0.96      9086\n",
      "\n",
      "    accuracy                           0.88     35962\n",
      "   macro avg       0.88      0.88      0.88     35962\n",
      "weighted avg       0.88      0.88      0.88     35962\n",
      "\n",
      "0.8825704910739114\n"
     ]
    }
   ],
   "source": [
    "\n",
    "print(classification_report(df.label, df.prediction))\n",
    "print(accuracy_score(df.label, df.prediction))"
   ]
  },
  {
   "cell_type": "markdown",
   "metadata": {
    "id": "bdODPjyzIPSf"
   },
   "source": [
    "### train on entire dataset"
   ]
  },
  {
   "cell_type": "code",
   "execution_count": null,
   "metadata": {
    "id": "LJu8ekkaIPSg"
   },
   "outputs": [],
   "source": [
    "lr = LogisticRegression(maxIter=20, regParam=0.3, elasticNetParam=0)\n",
    "\n",
    "lrModel = lr.fit(use_df)"
   ]
  },
  {
   "cell_type": "code",
   "execution_count": null,
   "metadata": {
    "id": "yo8sNiL4IPSh"
   },
   "outputs": [],
   "source": [
    "test_df = spark.read.parquet(\"data/news_category_test.parquet\")"
   ]
  },
  {
   "cell_type": "code",
   "execution_count": null,
   "metadata": {
    "id": "22hPNZ9jIPSi"
   },
   "outputs": [],
   "source": [
    "test_df = use_pipeline.fit(test_df).transform(test_df)"
   ]
  },
  {
   "cell_type": "code",
   "execution_count": null,
   "metadata": {
    "id": "uSJt_s4qIPSj"
   },
   "outputs": [],
   "source": [
    "test_df= test_df.withColumn(\"features\", explode(test_df.finished_use_embeddings))"
   ]
  },
  {
   "cell_type": "code",
   "execution_count": null,
   "metadata": {
    "id": "g67zaIZWIPSl",
    "outputId": "78939058-e308-459b-84a9-e38d118870ea"
   },
   "outputs": [
    {
     "name": "stdout",
     "output_type": "stream",
     "text": [
      "+--------+--------------------+--------------------+--------------------+-----------------------+-----+--------------------+\n",
      "|category|         description|            document|      use_embeddings|finished_use_embeddings|label|            features|\n",
      "+--------+--------------------+--------------------+--------------------+-----------------------+-----+--------------------+\n",
      "|Business|Unions representi...|[[document, 0, 12...|[[sentence_embedd...|   [[0.0129975397139...|  1.0|[0.01299753971397...|\n",
      "|Sci/Tech| TORONTO, Canada ...|[[document, 0, 22...|[[sentence_embedd...|   [[0.0019999044016...|  0.0|[0.00199990440160...|\n",
      "+--------+--------------------+--------------------+--------------------+-----------------------+-----+--------------------+\n",
      "only showing top 2 rows\n",
      "\n"
     ]
    }
   ],
   "source": [
    "test_df.show(2)"
   ]
  },
  {
   "cell_type": "code",
   "execution_count": null,
   "metadata": {
    "id": "cG0FjtySIPSm"
   },
   "outputs": [],
   "source": [
    "predictions = lrModel.transform(test_df)"
   ]
  },
  {
   "cell_type": "code",
   "execution_count": null,
   "metadata": {
    "id": "EnnF27fuIPSn"
   },
   "outputs": [],
   "source": [
    "df = predictions.select('description','category','label','prediction').toPandas()"
   ]
  },
  {
   "cell_type": "code",
   "execution_count": null,
   "metadata": {
    "id": "daLNQqgAIPSp"
   },
   "outputs": [],
   "source": [
    "df['label'] = df.category.replace({'World':2.0,\n",
    "                    'Sports':3.0,\n",
    "                    'Business':0.0,\n",
    "                    'Sci/Tech':1.0})"
   ]
  },
  {
   "cell_type": "code",
   "execution_count": null,
   "metadata": {
    "id": "T4AORiLrIPSq",
    "outputId": "aae870ce-f6be-41b1-b89f-e99e39fd4900"
   },
   "outputs": [
    {
     "data": {
      "text/html": [
       "<div>\n",
       "<style scoped>\n",
       "    .dataframe tbody tr th:only-of-type {\n",
       "        vertical-align: middle;\n",
       "    }\n",
       "\n",
       "    .dataframe tbody tr th {\n",
       "        vertical-align: top;\n",
       "    }\n",
       "\n",
       "    .dataframe thead th {\n",
       "        text-align: right;\n",
       "    }\n",
       "</style>\n",
       "<table border=\"1\" class=\"dataframe\">\n",
       "  <thead>\n",
       "    <tr style=\"text-align: right;\">\n",
       "      <th></th>\n",
       "      <th>description</th>\n",
       "      <th>category</th>\n",
       "      <th>label</th>\n",
       "      <th>prediction</th>\n",
       "    </tr>\n",
       "  </thead>\n",
       "  <tbody>\n",
       "    <tr>\n",
       "      <td>0</td>\n",
       "      <td>Unions representing workers at Turner   Newall...</td>\n",
       "      <td>Business</td>\n",
       "      <td>0.0</td>\n",
       "      <td>0.0</td>\n",
       "    </tr>\n",
       "    <tr>\n",
       "      <td>1</td>\n",
       "      <td>TORONTO, Canada    A second team of rocketeer...</td>\n",
       "      <td>Sci/Tech</td>\n",
       "      <td>1.0</td>\n",
       "      <td>1.0</td>\n",
       "    </tr>\n",
       "    <tr>\n",
       "      <td>2</td>\n",
       "      <td>A company founded by a chemistry researcher a...</td>\n",
       "      <td>Sci/Tech</td>\n",
       "      <td>1.0</td>\n",
       "      <td>1.0</td>\n",
       "    </tr>\n",
       "    <tr>\n",
       "      <td>3</td>\n",
       "      <td>It's barely dawn when Mike Fitzpatrick starts...</td>\n",
       "      <td>Sci/Tech</td>\n",
       "      <td>1.0</td>\n",
       "      <td>1.0</td>\n",
       "    </tr>\n",
       "    <tr>\n",
       "      <td>4</td>\n",
       "      <td>Southern California's smog fighting agency we...</td>\n",
       "      <td>Sci/Tech</td>\n",
       "      <td>1.0</td>\n",
       "      <td>0.0</td>\n",
       "    </tr>\n",
       "  </tbody>\n",
       "</table>\n",
       "</div>"
      ],
      "text/plain": [
       "                                         description  category  label  \\\n",
       "0  Unions representing workers at Turner   Newall...  Business    0.0   \n",
       "1   TORONTO, Canada    A second team of rocketeer...  Sci/Tech    1.0   \n",
       "2   A company founded by a chemistry researcher a...  Sci/Tech    1.0   \n",
       "3   It's barely dawn when Mike Fitzpatrick starts...  Sci/Tech    1.0   \n",
       "4   Southern California's smog fighting agency we...  Sci/Tech    1.0   \n",
       "\n",
       "   prediction  \n",
       "0         0.0  \n",
       "1         1.0  \n",
       "2         1.0  \n",
       "3         1.0  \n",
       "4         0.0  "
      ]
     },
     "execution_count": 61,
     "metadata": {
      "tags": []
     },
     "output_type": "execute_result"
    }
   ],
   "source": [
    "df.head()"
   ]
  },
  {
   "cell_type": "code",
   "execution_count": null,
   "metadata": {
    "id": "IZR2Hx1JIPSt",
    "outputId": "a3c2f8e4-4fd9-415d-aaec-ce4472ad5f31"
   },
   "outputs": [
    {
     "name": "stdout",
     "output_type": "stream",
     "text": [
      "              precision    recall  f1-score   support\n",
      "\n",
      "         0.0       0.83      0.83      0.83      1900\n",
      "         1.0       0.84      0.85      0.85      1900\n",
      "         2.0       0.90      0.87      0.89      1900\n",
      "         3.0       0.95      0.97      0.96      1900\n",
      "\n",
      "    accuracy                           0.88      7600\n",
      "   macro avg       0.88      0.88      0.88      7600\n",
      "weighted avg       0.88      0.88      0.88      7600\n",
      "\n",
      "0.8798684210526316\n"
     ]
    }
   ],
   "source": [
    "print(classification_report(df.label, df.prediction))\n",
    "print(accuracy_score(df.label, df.prediction))"
   ]
  },
  {
   "cell_type": "markdown",
   "metadata": {
    "id": "IY19YW8pIPSu"
   },
   "source": [
    "## Spark NLP Licensed DocClassifier"
   ]
  },
  {
   "cell_type": "code",
   "execution_count": null,
   "metadata": {
    "id": "66YJQISEIPSv"
   },
   "outputs": [],
   "source": [
    "from sparknlp_jsl.annotator import *"
   ]
  },
  {
   "cell_type": "code",
   "execution_count": null,
   "metadata": {
    "id": "AncnnRvWIPSw",
    "outputId": "e78543ca-8c0b-48ed-e531-4b27eab495de"
   },
   "outputs": [
    {
     "name": "stdout",
     "output_type": "stream",
     "text": [
      "Training Dataset Count: 84076\n",
      "Test Dataset Count: 35924\n"
     ]
    }
   ],
   "source": [
    "# set seed for reproducibility\n",
    "(trainingData, testData) = newsDF.randomSplit([0.7, 0.3], seed = 100)\n",
    "print(\"Training Dataset Count: \" + str(trainingData.count()))\n",
    "print(\"Test Dataset Count: \" + str(testData.count()))"
   ]
  },
  {
   "cell_type": "code",
   "execution_count": null,
   "metadata": {
    "id": "oEmAIit1IPSy",
    "outputId": "2affa89b-128f-4102-d1e2-8ac5ee57810b"
   },
   "outputs": [
    {
     "data": {
      "text/plain": [
       "35923"
      ]
     },
     "execution_count": 28,
     "metadata": {
      "tags": []
     },
     "output_type": "execute_result"
    }
   ],
   "source": [
    "document_assembler = DocumentAssembler() \\\n",
    "      .setInputCol(\"description\") \\\n",
    "      .setOutputCol(\"document\")\n",
    "    \n",
    "tokenizer = Tokenizer() \\\n",
    "      .setInputCols([\"document\"]) \\\n",
    "      .setOutputCol(\"token\")\n",
    "    \n",
    "normalizer = Normalizer() \\\n",
    "      .setInputCols([\"token\"]) \\\n",
    "      .setOutputCol(\"normalized\")\n",
    "\n",
    "stopwords_cleaner = StopWordsCleaner()\\\n",
    "      .setInputCols(\"normalized\")\\\n",
    "      .setOutputCol(\"cleanTokens\")\\\n",
    "      .setCaseSensitive(False)\n",
    "\n",
    "stemmer = Stemmer() \\\n",
    "      .setInputCols([\"cleanTokens\"]) \\\n",
    "      .setOutputCol(\"stem\")\n",
    "\n",
    "logreg = DocumentLogRegClassifierApproach()\\\n",
    "      .setInputCols([\"stem\"])\\\n",
    "      .setLabelCol(\"category\")\\\n",
    "      .setOutputCol(\"prediction\")\n",
    "\n",
    "nlp_pipeline = Pipeline(\n",
    "    stages=[document_assembler, \n",
    "            tokenizer,\n",
    "            normalizer,\n",
    "            stopwords_cleaner, \n",
    "            stemmer, \n",
    "            logreg])\n",
    "\n",
    "nlp_model = nlp_pipeline.fit(trainingData)\n",
    "\n",
    "processed = nlp_model.transform(testData)\n",
    "\n",
    "processed.count()"
   ]
  },
  {
   "cell_type": "code",
   "execution_count": null,
   "metadata": {
    "id": "2fHB9meKIPS0",
    "outputId": "1a70ea96-b440-4922-c742-34763f7aa965"
   },
   "outputs": [
    {
     "name": "stdout",
     "output_type": "stream",
     "text": [
      "+--------------------------------------------------+--------+----------+\n",
      "|                                       description|category|    result|\n",
      "+--------------------------------------------------+--------+----------+\n",
      "|  In a city where terror attacks and a massive ...|Business|[Business]|\n",
      "|  It sure isn #39;t the Goldilocks Economy of y...|Business|[Business]|\n",
      "|, 8/30/2004. With 90 nanometer chips now on the...|Business|[Sci/Tech]|\n",
      "|National Grid Transco, the Britain-based delive...|Business|[Business]|\n",
      "| quot;A person who has been cheated is left in ...|Sci/Tech|[Sci/Tech]|\n",
      "|\" In its ongoing war with SCO over Linux and Un...|Sci/Tech|[Sci/Tech]|\n",
      "|A bacteria-eating virus is the star of a new vi...|Sci/Tech|[Sci/Tech]|\n",
      "|Birdman of Belair Mathew Tekulsky waxes on the ...|Sci/Tech|[Sci/Tech]|\n",
      "|Computer maker sees to recover \\$8.6 million in...|Sci/Tech|[Sci/Tech]|\n",
      "|Hurricane Frances spared NASA #39;s depleted sh...|Sci/Tech|[Sci/Tech]|\n",
      "|In a study, the now-public search engine out-ra...|Sci/Tech|[Sci/Tech]|\n",
      "|New York, August 31: US technology executives a...|Sci/Tech|[Sci/Tech]|\n",
      "|Ordinary mice can be turned into marathon racer...|Sci/Tech|[Sci/Tech]|\n",
      "|Plagued by delays and cost overruns, a \\$5.1 bi...|Sci/Tech|  [Sports]|\n",
      "|Worldwide server revenue surpassed 11.5 billion...|Sci/Tech|[Sci/Tech]|\n",
      "| Aramis Ramirez hit a three run homer  as the C...|  Sports|  [Sports]|\n",
      "|After spending most of the spring and fall pres...|  Sports|  [Sports]|\n",
      "|Fani Halkia #39;s victory in the Olympics women...|  Sports|  [Sports]|\n",
      "| A military judge hearing evidence about the al...|   World|   [World]|\n",
      "| Israel plans to build more than 530  new settl...|   World|   [World]|\n",
      "+--------------------------------------------------+--------+----------+\n",
      "only showing top 20 rows\n",
      "\n"
     ]
    }
   ],
   "source": [
    "processed.select('description','category','prediction.result').show(truncate=50)"
   ]
  },
  {
   "cell_type": "code",
   "execution_count": null,
   "metadata": {
    "id": "iX5PnC-SIPS1",
    "outputId": "8607c6f1-c02c-488d-b9a5-62795f1985d8"
   },
   "outputs": [
    {
     "name": "stdout",
     "output_type": "stream",
     "text": [
      "+--------------------------------------------------+----------+\n",
      "|                                       description|    result|\n",
      "+--------------------------------------------------+----------+\n",
      "|  In a city where terror attacks and a massive ...|[Business]|\n",
      "|  It sure isn #39;t the Goldilocks Economy of y...|[Business]|\n",
      "|, 8/30/2004. With 90 nanometer chips now on the...|[Sci/Tech]|\n",
      "|National Grid Transco, the Britain-based delive...|[Business]|\n",
      "| quot;A person who has been cheated is left in ...|[Sci/Tech]|\n",
      "|\" In its ongoing war with SCO over Linux and Un...|[Sci/Tech]|\n",
      "|A bacteria-eating virus is the star of a new vi...|[Sci/Tech]|\n",
      "|Birdman of Belair Mathew Tekulsky waxes on the ...|[Sci/Tech]|\n",
      "|Computer maker sees to recover \\$8.6 million in...|[Sci/Tech]|\n",
      "|Hurricane Frances spared NASA #39;s depleted sh...|[Sci/Tech]|\n",
      "|In a study, the now-public search engine out-ra...|[Sci/Tech]|\n",
      "|New York, August 31: US technology executives a...|[Sci/Tech]|\n",
      "|Ordinary mice can be turned into marathon racer...|[Sci/Tech]|\n",
      "|Plagued by delays and cost overruns, a \\$5.1 bi...|  [Sports]|\n",
      "|Worldwide server revenue surpassed 11.5 billion...|[Sci/Tech]|\n",
      "| Aramis Ramirez hit a three run homer  as the C...|  [Sports]|\n",
      "|After spending most of the spring and fall pres...|  [Sports]|\n",
      "|Fani Halkia #39;s victory in the Olympics women...|  [Sports]|\n",
      "| A military judge hearing evidence about the al...|   [World]|\n",
      "| Israel plans to build more than 530  new settl...|   [World]|\n",
      "+--------------------------------------------------+----------+\n",
      "only showing top 20 rows\n",
      "\n"
     ]
    }
   ],
   "source": [
    "processed.select('description','prediction.result').show(truncate=50)"
   ]
  },
  {
   "cell_type": "code",
   "execution_count": null,
   "metadata": {
    "id": "kqyiWbFzIPS2"
   },
   "outputs": [],
   "source": [
    "from sklearn.metrics import confusion_matrix, classification_report, accuracy_score\n",
    "import pandas as pd"
   ]
  },
  {
   "cell_type": "code",
   "execution_count": null,
   "metadata": {
    "id": "iWVkVKcfIPS4"
   },
   "outputs": [],
   "source": [
    "df = processed.select('description','category','prediction.result').toPandas()"
   ]
  },
  {
   "cell_type": "code",
   "execution_count": null,
   "metadata": {
    "id": "9jLQjD5uIPS5",
    "outputId": "e9d533c7-bdb6-407e-f797-127f86019d81"
   },
   "outputs": [
    {
     "data": {
      "text/html": [
       "<div>\n",
       "<style scoped>\n",
       "    .dataframe tbody tr th:only-of-type {\n",
       "        vertical-align: middle;\n",
       "    }\n",
       "\n",
       "    .dataframe tbody tr th {\n",
       "        vertical-align: top;\n",
       "    }\n",
       "\n",
       "    .dataframe thead th {\n",
       "        text-align: right;\n",
       "    }\n",
       "</style>\n",
       "<table border=\"1\" class=\"dataframe\">\n",
       "  <thead>\n",
       "    <tr style=\"text-align: right;\">\n",
       "      <th></th>\n",
       "      <th>description</th>\n",
       "      <th>category</th>\n",
       "      <th>result</th>\n",
       "    </tr>\n",
       "  </thead>\n",
       "  <tbody>\n",
       "    <tr>\n",
       "      <td>0</td>\n",
       "      <td>In a city where terror attacks and a massive...</td>\n",
       "      <td>Business</td>\n",
       "      <td>[Business]</td>\n",
       "    </tr>\n",
       "    <tr>\n",
       "      <td>1</td>\n",
       "      <td>It sure isn #39;t the Goldilocks Economy of ...</td>\n",
       "      <td>Business</td>\n",
       "      <td>[Business]</td>\n",
       "    </tr>\n",
       "    <tr>\n",
       "      <td>2</td>\n",
       "      <td>, 8/30/2004. With 90 nanometer chips now on th...</td>\n",
       "      <td>Business</td>\n",
       "      <td>[Sci/Tech]</td>\n",
       "    </tr>\n",
       "    <tr>\n",
       "      <td>3</td>\n",
       "      <td>National Grid Transco, the Britain-based deliv...</td>\n",
       "      <td>Business</td>\n",
       "      <td>[Business]</td>\n",
       "    </tr>\n",
       "    <tr>\n",
       "      <td>4</td>\n",
       "      <td>quot;A person who has been cheated is left in...</td>\n",
       "      <td>Sci/Tech</td>\n",
       "      <td>[Sci/Tech]</td>\n",
       "    </tr>\n",
       "  </tbody>\n",
       "</table>\n",
       "</div>"
      ],
      "text/plain": [
       "                                         description  category      result\n",
       "0    In a city where terror attacks and a massive...  Business  [Business]\n",
       "1    It sure isn #39;t the Goldilocks Economy of ...  Business  [Business]\n",
       "2  , 8/30/2004. With 90 nanometer chips now on th...  Business  [Sci/Tech]\n",
       "3  National Grid Transco, the Britain-based deliv...  Business  [Business]\n",
       "4   quot;A person who has been cheated is left in...  Sci/Tech  [Sci/Tech]"
      ]
     },
     "execution_count": 40,
     "metadata": {
      "tags": []
     },
     "output_type": "execute_result"
    }
   ],
   "source": [
    "df.head()"
   ]
  },
  {
   "cell_type": "code",
   "execution_count": null,
   "metadata": {
    "id": "6PY-TpDKIPS6",
    "outputId": "f178b286-70d7-44b6-b4a5-e251538afc29"
   },
   "outputs": [
    {
     "data": {
      "text/plain": [
       "'Business'"
      ]
     },
     "execution_count": 42,
     "metadata": {
      "tags": []
     },
     "output_type": "execute_result"
    }
   ],
   "source": [
    "df.result[0][0]"
   ]
  },
  {
   "cell_type": "code",
   "execution_count": null,
   "metadata": {
    "id": "N48rE1hAIPS8"
   },
   "outputs": [],
   "source": [
    "df = processed.select('description','category','prediction.result').toPandas()\n",
    "df['result'] = df['result'].apply(lambda x: x[0])"
   ]
  },
  {
   "cell_type": "code",
   "execution_count": null,
   "metadata": {
    "id": "PpPlewPVIPS9",
    "outputId": "824d5af8-36fa-4129-ea71-1cfb5ddaf06e"
   },
   "outputs": [
    {
     "data": {
      "text/html": [
       "<div>\n",
       "<style scoped>\n",
       "    .dataframe tbody tr th:only-of-type {\n",
       "        vertical-align: middle;\n",
       "    }\n",
       "\n",
       "    .dataframe tbody tr th {\n",
       "        vertical-align: top;\n",
       "    }\n",
       "\n",
       "    .dataframe thead th {\n",
       "        text-align: right;\n",
       "    }\n",
       "</style>\n",
       "<table border=\"1\" class=\"dataframe\">\n",
       "  <thead>\n",
       "    <tr style=\"text-align: right;\">\n",
       "      <th></th>\n",
       "      <th>description</th>\n",
       "      <th>category</th>\n",
       "      <th>result</th>\n",
       "    </tr>\n",
       "  </thead>\n",
       "  <tbody>\n",
       "    <tr>\n",
       "      <td>0</td>\n",
       "      <td>In a city where terror attacks and a massive...</td>\n",
       "      <td>Business</td>\n",
       "      <td>Business</td>\n",
       "    </tr>\n",
       "    <tr>\n",
       "      <td>1</td>\n",
       "      <td>It sure isn #39;t the Goldilocks Economy of ...</td>\n",
       "      <td>Business</td>\n",
       "      <td>Business</td>\n",
       "    </tr>\n",
       "    <tr>\n",
       "      <td>2</td>\n",
       "      <td>, 8/30/2004. With 90 nanometer chips now on th...</td>\n",
       "      <td>Business</td>\n",
       "      <td>Sci/Tech</td>\n",
       "    </tr>\n",
       "    <tr>\n",
       "      <td>3</td>\n",
       "      <td>National Grid Transco, the Britain-based deliv...</td>\n",
       "      <td>Business</td>\n",
       "      <td>Business</td>\n",
       "    </tr>\n",
       "    <tr>\n",
       "      <td>4</td>\n",
       "      <td>quot;A person who has been cheated is left in...</td>\n",
       "      <td>Sci/Tech</td>\n",
       "      <td>Sci/Tech</td>\n",
       "    </tr>\n",
       "  </tbody>\n",
       "</table>\n",
       "</div>"
      ],
      "text/plain": [
       "                                         description  category    result\n",
       "0    In a city where terror attacks and a massive...  Business  Business\n",
       "1    It sure isn #39;t the Goldilocks Economy of ...  Business  Business\n",
       "2  , 8/30/2004. With 90 nanometer chips now on th...  Business  Sci/Tech\n",
       "3  National Grid Transco, the Britain-based deliv...  Business  Business\n",
       "4   quot;A person who has been cheated is left in...  Sci/Tech  Sci/Tech"
      ]
     },
     "execution_count": 44,
     "metadata": {
      "tags": []
     },
     "output_type": "execute_result"
    }
   ],
   "source": [
    "df.head()"
   ]
  },
  {
   "cell_type": "code",
   "execution_count": null,
   "metadata": {
    "id": "EbFttFExIPTA",
    "outputId": "b6932aa0-3389-466e-ceb9-c983f23ad3ba"
   },
   "outputs": [
    {
     "name": "stdout",
     "output_type": "stream",
     "text": [
      "              precision    recall  f1-score   support\n",
      "\n",
      "    Business       0.82      0.82      0.82      8915\n",
      "    Sci/Tech       0.83      0.83      0.83      9018\n",
      "      Sports       0.94      0.93      0.93      9002\n",
      "       World       0.86      0.86      0.86      8988\n",
      "\n",
      "    accuracy                           0.86     35923\n",
      "   macro avg       0.86      0.86      0.86     35923\n",
      "weighted avg       0.86      0.86      0.86     35923\n",
      "\n",
      "0.8612588035520419\n"
     ]
    }
   ],
   "source": [
    "\n",
    "df = processed.select('description','category','prediction.result').toPandas()\n",
    "df['result'] = df['result'].apply(lambda x: x[0])\n",
    "\n",
    "print(classification_report(df.category, df.result))\n",
    "print(accuracy_score(df.category, df.result))"
   ]
  },
  {
   "cell_type": "markdown",
   "metadata": {
    "id": "regAngWEIPTB"
   },
   "source": [
    "# ClassifierDL"
   ]
  },
  {
   "cell_type": "code",
   "execution_count": null,
   "metadata": {
    "id": "8RfV7lB_IPTB"
   },
   "outputs": [],
   "source": [
    "# actual content is inside description column\n",
    "document = DocumentAssembler()\\\n",
    "    .setInputCol(\"description\")\\\n",
    "    .setOutputCol(\"document\")\n",
    "\n",
    "use = UniversalSentenceEncoder.load('/root/cache_pretrained/tfhub_use_en_2.4.4_2.4_1583158595769')\\\n",
    "    .setInputCols([\"document\"])\\\n",
    "    .setOutputCol(\"sentence_embeddings\")\n",
    "\n",
    "# the classes/labels/categories are in category column\n",
    "classsifierdl = ClassifierDLApproach()\\\n",
    "    .setInputCols([\"sentence_embeddings\"])\\\n",
    "    .setOutputCol(\"class\")\\\n",
    "    .setLabelColumn(\"category\")\\\n",
    "    .setMaxEpochs(5)\\\n",
    "    .setEnableOutputLogs(True)\n",
    "\n",
    "pipeline = Pipeline(\n",
    "    stages = [\n",
    "        document,\n",
    "        use,\n",
    "        classsifierdl\n",
    "    ])"
   ]
  },
  {
   "cell_type": "code",
   "execution_count": null,
   "metadata": {
    "id": "4A_zgocgIPTD",
    "outputId": "019483c4-92fb-4cb3-a6eb-c84c847aba68"
   },
   "outputs": [
    {
     "name": "stdout",
     "output_type": "stream",
     "text": [
      "Training Dataset Count: 84045\n",
      "Test Dataset Count: 35955\n"
     ]
    }
   ],
   "source": [
    "# set seed for reproducibility\n",
    "(trainingData, testData) = newsDF.randomSplit([0.7, 0.3], seed = 100)\n",
    "print(\"Training Dataset Count: \" + str(trainingData.count()))\n",
    "print(\"Test Dataset Count: \" + str(testData.count()))"
   ]
  },
  {
   "cell_type": "code",
   "execution_count": null,
   "metadata": {
    "id": "H47jOwwCIPTG"
   },
   "outputs": [],
   "source": [
    "pipelineModel = pipeline.fit(trainingData)"
   ]
  },
  {
   "cell_type": "code",
   "execution_count": null,
   "metadata": {
    "id": "NGI1c50EIPTH",
    "outputId": "3f83bf7a-7051-4f5a-a559-252cdbadbfd5"
   },
   "outputs": [
    {
     "name": "stdout",
     "output_type": "stream",
     "text": [
      "              precision    recall  f1-score   support\n",
      "\n",
      "    Business       0.85      0.84      0.85      8911\n",
      "    Sci/Tech       0.85      0.87      0.86      8973\n",
      "      Sports       0.95      0.98      0.97      9063\n",
      "       World       0.92      0.88      0.90      9008\n",
      "\n",
      "    accuracy                           0.89     35955\n",
      "   macro avg       0.89      0.89      0.89     35955\n",
      "weighted avg       0.89      0.89      0.89     35955\n",
      "\n",
      "0.8930329578639966\n"
     ]
    }
   ],
   "source": [
    "from sklearn.metrics import classification_report, accuracy_score\n",
    "\n",
    "df = pipelineModel.transform(testDataset).select('category','description',\"class.result\").toPandas()\n",
    "\n",
    "df['result'] = df['result'].apply(lambda x: x[0])\n",
    "\n",
    "print(classification_report(df.category, df.result))\n",
    "print(accuracy_score(df.category, df.result))"
   ]
  },
  {
   "cell_type": "markdown",
   "metadata": {
    "id": "GkeFxX8tIPTJ"
   },
   "source": [
    "## Loading the trained classifier from disk"
   ]
  },
  {
   "cell_type": "code",
   "execution_count": null,
   "metadata": {
    "id": "1VOg7XsKIPTJ"
   },
   "outputs": [],
   "source": [
    "classsifierdlmodel = ClassifierDLModel.load('classifierDL_model_20200317_5e')\n",
    " "
   ]
  },
  {
   "cell_type": "code",
   "execution_count": null,
   "metadata": {
    "id": "ACf2NVAkIPTK"
   },
   "outputs": [],
   "source": [
    "import sparknlp\n",
    "sparknlp.__path__"
   ]
  },
  {
   "cell_type": "code",
   "execution_count": null,
   "metadata": {
    "id": "Q81gbD7tIPTL"
   },
   "outputs": [],
   "source": [
    ".setInputCols([\"sentence_embeddings\"])\\\n",
    ".setOutputCol(\"class\")\\\n",
    ".setLabelColumn(\"category\")\\\n",
    ".setMaxEpochs(5)\\\n",
    ".setEnableOutputLogs(True)"
   ]
  },
  {
   "cell_type": "code",
   "execution_count": null,
   "metadata": {
    "id": "vS0TSHm9IPTM"
   },
   "outputs": [],
   "source": [
    "trainDataset = spark.read \\\n",
    "      .option(\"header\", True) \\\n",
    "      .csv(\"data/news_category_train.csv\")"
   ]
  },
  {
   "cell_type": "code",
   "execution_count": null,
   "metadata": {
    "id": "8_mc12vtIPTO",
    "outputId": "1024eb2f-ce99-44f7-b7bd-0735cb75e05b"
   },
   "outputs": [
    {
     "data": {
      "text/plain": [
       "120000"
      ]
     },
     "execution_count": 20,
     "metadata": {
      "tags": []
     },
     "output_type": "execute_result"
    }
   ],
   "source": [
    "trainDataset.count()"
   ]
  },
  {
   "cell_type": "code",
   "execution_count": null,
   "metadata": {
    "id": "cGFoCY9WIPTP",
    "outputId": "7d1d03d9-984d-4376-984d-784c4cb11560"
   },
   "outputs": [
    {
     "data": {
      "text/plain": [
       "84045"
      ]
     },
     "execution_count": 21,
     "metadata": {
      "tags": []
     },
     "output_type": "execute_result"
    }
   ],
   "source": [
    "trainingData.count()"
   ]
  },
  {
   "cell_type": "code",
   "execution_count": null,
   "metadata": {
    "id": "ZkStUCiJIPTR"
   },
   "outputs": [],
   "source": [
    "document = DocumentAssembler()\\\n",
    "    .setInputCol(\"description\")\\\n",
    "    .setOutputCol(\"document\")\n",
    "\n",
    "\n",
    "sentence = SentenceDetector()\\\n",
    "    .setInputCols(['document'])\\\n",
    "    .setOutputCol('sentence')\n",
    "\n",
    "use = UniversalSentenceEncoder.load('/root/cache_pretrained/tfhub_use_en_2.4.4_2.4_1583158595769')\\\n",
    "    .setInputCols([\"sentence\"])\\\n",
    "    .setOutputCol(\"sentence_embeddings\")\n",
    "\n",
    "classsifierdlmodel = ClassifierDLModel.load('classifierDL_model_20200317_5e')\n",
    "\n",
    "pipeline = Pipeline(\n",
    "    stages = [\n",
    "        document,\n",
    "        sentence,\n",
    "        use,\n",
    "        classsifierdlmodel\n",
    "    ])"
   ]
  },
  {
   "cell_type": "code",
   "execution_count": null,
   "metadata": {
    "id": "LRk7zctqIPTS",
    "outputId": "711093f5-bd17-433d-abab-fbf06f596aa8"
   },
   "outputs": [
    {
     "name": "stdout",
     "output_type": "stream",
     "text": [
      "+--------+--------------------------------------------------+----------+\n",
      "|category|                                       description|    result|\n",
      "+--------+--------------------------------------------------+----------+\n",
      "|Business|  A federal judge on Monday stayed his own ruli...|[Business]|\n",
      "|Business|  A half dozen executives of Yukos, the embattl...|[Business]|\n",
      "|Business|  A labor dispute may sideline professional hoc...|[Business]|\n",
      "|Business|  A ruling from the World Trade Organization co...|[Business]|\n",
      "|Business|  American Airlines has unveiled a new simplifi...|[Business]|\n",
      "|Business|  Anglo Aussie miner BHP Billiton (BHP) (UK:BLT...|[Business]|\n",
      "|Business|  Another group of investors hit beleaguered mo...|[Business]|\n",
      "|Business|  At a sponsors' meeting of MIT Sloan School's ...|[Business]|\n",
      "|Business|  Blockbuster Inc. wants to acquire rival Holly...|[Business]|\n",
      "|Business|  Bolstered by investors, Oracle Corp. appears ...|[Business]|\n",
      "+--------+--------------------------------------------------+----------+\n",
      "\n"
     ]
    }
   ],
   "source": [
    "pipeline.fit(testData.limit(1)).transform(testData.limit(10)).select('category','description',\"class.result\").show(10, truncate=50)"
   ]
  },
  {
   "cell_type": "code",
   "execution_count": null,
   "metadata": {
    "id": "04z0AN66IPTT",
    "outputId": "dad45cc5-8dd4-4d02-c683-cab45e307d87"
   },
   "outputs": [
    {
     "data": {
      "text/plain": [
       "{'document': ['In its first two years, the UK dedicated card companies have surge'],\n",
       " 'sentence_embeddings': ['In its first two years, the UK dedicated card companies have surge'],\n",
       " 'class': ['Sci/Tech']}"
      ]
     },
     "execution_count": 12,
     "metadata": {
      "tags": []
     },
     "output_type": "execute_result"
    }
   ],
   "source": [
    "lm = LightPipeline(pipeline.fit(testDataset.limit(1)))\n",
    "lm.annotate('In its first two years, the UK dedicated card companies have surge')"
   ]
  },
  {
   "cell_type": "code",
   "execution_count": null,
   "metadata": {
    "id": "pzdks_VjIPTV"
   },
   "outputs": [],
   "source": [
    "text='''\n",
    "Fearing the fate of Italy, the centre-right government has threatened to be merciless with those who flout tough restrictions. As of Wednesday it will also include all shops being closed across Greece, with the exception of supermarkets. Banks, pharmacies, pet-stores, mobile phone stores, opticians, bakers, mini-markets, couriers and food delivery outlets are among the few that will also be allowed to remain open.\n",
    "'''"
   ]
  },
  {
   "cell_type": "code",
   "execution_count": null,
   "metadata": {
    "id": "eltINENfIPTW",
    "outputId": "a2c7a310-9040-41d4-93e5-2385cc9b451d"
   },
   "outputs": [
    {
     "data": {
      "text/plain": [
       "{'document': ['\\nFearing the fate of Italy, the centre-right government has threatened to be merciless with those who flout tough restrictions. As of Wednesday it will also include all shops being closed across Greece, with the exception of supermarkets. Banks, pharmacies, pet-stores, mobile phone stores, opticians, bakers, mini-markets, couriers and food delivery outlets are among the few that will also be allowed to remain open.\\n'],\n",
       " 'sentence': ['Fearing the fate of Italy, the centre-right government has threatened to be merciless with those who flout tough restrictions.',\n",
       "  'As of Wednesday it will also include all shops being closed across Greece, with the exception of supermarkets.',\n",
       "  'Banks, pharmacies, pet-stores, mobile phone stores, opticians, bakers, mini-markets, couriers and food delivery outlets are among the few that will also be allowed to remain open.'],\n",
       " 'sentence_embeddings': ['Fearing the fate of Italy, the centre-right government has threatened to be merciless with those who flout tough restrictions.',\n",
       "  'As of Wednesday it will also include all shops being closed across Greece, with the exception of supermarkets.',\n",
       "  'Banks, pharmacies, pet-stores, mobile phone stores, opticians, bakers, mini-markets, couriers and food delivery outlets are among the few that will also be allowed to remain open.'],\n",
       " 'class': ['World', 'World', 'World']}"
      ]
     },
     "execution_count": 17,
     "metadata": {
      "tags": []
     },
     "output_type": "execute_result"
    }
   ],
   "source": [
    "lm = LightPipeline(pipeline.fit(testDataset.limit(1)))\n",
    "\n",
    "lm.annotate(text)"
   ]
  },
  {
   "cell_type": "markdown",
   "metadata": {
    "id": "UXXfKtIrIPTY"
   },
   "source": [
    "# Classifier DL + Glove + Basic text processing"
   ]
  },
  {
   "cell_type": "code",
   "execution_count": null,
   "metadata": {
    "id": "boEt-9goIPTZ",
    "outputId": "d10500a8-379b-4a5f-8a30-7340d2a778a5"
   },
   "outputs": [
    {
     "name": "stdout",
     "output_type": "stream",
     "text": [
      "lemma_antbnc download started this may take some time.\n",
      "Approximate size to download 907.6 KB\n",
      "[OK!]\n"
     ]
    }
   ],
   "source": [
    "tokenizer = Tokenizer() \\\n",
    "      .setInputCols([\"document\"]) \\\n",
    "      .setOutputCol(\"token\")\n",
    "\n",
    "lemma = LemmatizerModel.pretrained('lemma_antbnc') \\\n",
    "      .setInputCols([\"token\"]) \\\n",
    "      .setOutputCol(\"lemma\")\n",
    "\n",
    "lemma_pipeline = Pipeline(\n",
    "    stages=[document_assembler, \n",
    "            tokenizer,\n",
    "            lemma,\n",
    "            glove_embeddings])"
   ]
  },
  {
   "cell_type": "code",
   "execution_count": null,
   "metadata": {
    "id": "_yAmuyKPIPTc",
    "outputId": "7f59d7f0-50da-4284-a581-904764cb7774"
   },
   "outputs": [
    {
     "name": "stdout",
     "output_type": "stream",
     "text": [
      "+--------+------------------------------+------------------------------+------------------------------+------------------------------+------------------------------+\n",
      "|category|                   description|                      document|                         token|                         lemma|                    embeddings|\n",
      "+--------+------------------------------+------------------------------+------------------------------+------------------------------+------------------------------+\n",
      "|Business|  #39;Tis the season to buy...|[[document, 0, 141,   #39;T...|[[token, 2, 8, #39;Tis, [se...|[[token, 2, 8, #39;Tis, [se...|[[word_embeddings, 2, 8, #3...|\n",
      "|Business|  A Delaware judge rejected...|[[document, 0, 161,   A Del...|[[token, 2, 2, A, [sentence...|[[token, 2, 2, A, [sentence...|[[word_embeddings, 2, 2, A,...|\n",
      "|Business|  A Food and Drug Administr...|[[document, 0, 140,   A Foo...|[[token, 2, 2, A, [sentence...|[[token, 2, 2, A, [sentence...|[[word_embeddings, 2, 2, A,...|\n",
      "|Business|  A House Senate conference...|[[document, 0, 243,   A Hou...|[[token, 2, 2, A, [sentence...|[[token, 2, 2, A, [sentence...|[[word_embeddings, 2, 2, A,...|\n",
      "|Business|  A flight from Paris bound...|[[document, 0, 162,   A fli...|[[token, 2, 2, A, [sentence...|[[token, 2, 2, A, [sentence...|[[word_embeddings, 2, 2, A,...|\n",
      "|Business|  A former chief financial ...|[[document, 0, 200,   A for...|[[token, 2, 2, A, [sentence...|[[token, 2, 2, A, [sentence...|[[word_embeddings, 2, 2, A,...|\n",
      "|Business|  A veteran Food and Drug A...|[[document, 0, 272,   A vet...|[[token, 2, 2, A, [sentence...|[[token, 2, 2, A, [sentence...|[[word_embeddings, 2, 2, A,...|\n",
      "|Business|  About 3,000 shoppers were...|[[document, 0, 157,   About...|[[token, 2, 6, About, [sent...|[[token, 2, 6, About, [sent...|[[word_embeddings, 2, 6, Ab...|\n",
      "|Business|  After investing roughly  ...|[[document, 0, 207,   After...|[[token, 2, 6, After, [sent...|[[token, 2, 6, After, [sent...|[[word_embeddings, 2, 6, Af...|\n",
      "|Business|  Agilent Technologies Inc....|[[document, 0, 207,   Agile...|[[token, 2, 8, Agilent, [se...|[[token, 2, 8, Agilent, [se...|[[word_embeddings, 2, 8, Ag...|\n",
      "|Business|  America's trade deficit i...|[[document, 0, 253,   Ameri...|[[token, 2, 10, America's, ...|[[token, 2, 10, America's, ...|[[word_embeddings, 2, 10, A...|\n",
      "|Business|  American International Gr...|[[document, 0, 203,   Ameri...|[[token, 2, 9, American, [s...|[[token, 2, 9, American, [s...|[[word_embeddings, 2, 9, Am...|\n",
      "|Business|  An airline #39;s on time ...|[[document, 0, 191,   An ai...|[[token, 2, 3, An, [sentenc...|[[token, 2, 3, An, [sentenc...|[[word_embeddings, 2, 3, An...|\n",
      "|Business|  As the deadline for what ...|[[document, 0, 234,   As th...|[[token, 2, 3, As, [sentenc...|[[token, 2, 3, As, [sentenc...|[[word_embeddings, 2, 3, As...|\n",
      "|Business|  Australia #39;s jobless r...|[[document, 0, 122,   Austr...|[[token, 2, 10, Australia, ...|[[token, 2, 10, Australia, ...|[[word_embeddings, 2, 10, A...|\n",
      "|Business|  Bacardi Ltd. Monday said ...|[[document, 0, 154,   Bacar...|[[token, 2, 8, Bacardi, [se...|[[token, 2, 8, Bacardi, [se...|[[word_embeddings, 2, 8, Ba...|\n",
      "|Business|  Blockbuster Inc. , facing...|[[document, 0, 219,   Block...|[[token, 2, 12, Blockbuster...|[[token, 2, 12, Blockbuster...|[[word_embeddings, 2, 12, B...|\n",
      "|Business|  Bombardier Inc. shares fe...|[[document, 0, 222,   Bomba...|[[token, 2, 11, Bombardier,...|[[token, 2, 11, Bombardier,...|[[word_embeddings, 2, 11, B...|\n",
      "|Business|  Britain #39;s largest fix...|[[document, 0, 133,   Brita...|[[token, 2, 8, Britain, [se...|[[token, 2, 8, Britain, [se...|[[word_embeddings, 2, 8, Br...|\n",
      "|Business|  British bank HSBC may mak...|[[document, 0, 176,   Briti...|[[token, 2, 8, British, [se...|[[token, 2, 8, British, [se...|[[word_embeddings, 2, 8, Br...|\n",
      "+--------+------------------------------+------------------------------+------------------------------+------------------------------+------------------------------+\n",
      "only showing top 20 rows\n",
      "\n"
     ]
    }
   ],
   "source": [
    "lemma_pipeline.fit(trainingData.limit(1000)).transform(trainingData.limit(1000)).show(truncate=30)"
   ]
  },
  {
   "cell_type": "code",
   "execution_count": null,
   "metadata": {
    "id": "Y22Ln3U1IPTe",
    "outputId": "fefbf07d-1cee-497b-a195-e3fad7e89100"
   },
   "outputs": [
    {
     "name": "stdout",
     "output_type": "stream",
     "text": [
      "lemma_antbnc download started this may take some time.\n",
      "Approximate size to download 907.6 KB\n",
      "[OK!]\n",
      "glove_100d download started this may take some time.\n",
      "Approximate size to download 145.3 MB\n",
      "[OK!]\n"
     ]
    }
   ],
   "source": [
    "document_assembler = DocumentAssembler() \\\n",
    "      .setInputCol(\"description\") \\\n",
    "      .setOutputCol(\"document\")\n",
    "    \n",
    "tokenizer = Tokenizer() \\\n",
    "      .setInputCols([\"document\"]) \\\n",
    "      .setOutputCol(\"token\")\n",
    "    \n",
    "normalizer = Normalizer() \\\n",
    "      .setInputCols([\"token\"]) \\\n",
    "      .setOutputCol(\"normalized\")\n",
    "\n",
    "stopwords_cleaner = StopWordsCleaner()\\\n",
    "      .setInputCols(\"normalized\")\\\n",
    "      .setOutputCol(\"cleanTokens\")\\\n",
    "      .setCaseSensitive(False)\n",
    "\n",
    "lemma = LemmatizerModel.pretrained('lemma_antbnc') \\\n",
    "      .setInputCols([\"cleanTokens\"]) \\\n",
    "      .setOutputCol(\"lemma\")\n",
    "\n",
    "glove_embeddings = WordEmbeddingsModel().pretrained() \\\n",
    "      .setInputCols([\"document\",'lemma'])\\\n",
    "      .setOutputCol(\"embeddings\")\\\n",
    "      .setCaseSensitive(False)\n",
    "\n",
    "embeddingsSentence = SentenceEmbeddings() \\\n",
    "      .setInputCols([\"document\", \"embeddings\"]) \\\n",
    "      .setOutputCol(\"sentence_embeddings\") \\\n",
    "      .setPoolingStrategy(\"AVERAGE\")\n",
    "\n",
    "classsifierdl = ClassifierDLApproach()\\\n",
    "      .setInputCols([\"sentence_embeddings\"])\\\n",
    "      .setOutputCol(\"class\")\\\n",
    "      .setLabelColumn(\"category\")\\\n",
    "      .setMaxEpochs(10)\\\n",
    "      .setEnableOutputLogs(True)\n",
    "\n",
    "clf_pipeline = Pipeline(\n",
    "    stages=[document_assembler, \n",
    "            tokenizer,\n",
    "            normalizer,\n",
    "            stopwords_cleaner, \n",
    "            lemma, \n",
    "            glove_embeddings,\n",
    "            embeddingsSentence,\n",
    "            classsifierdl])"
   ]
  },
  {
   "cell_type": "code",
   "execution_count": null,
   "metadata": {
    "id": "Nkk_c53gIPTf"
   },
   "outputs": [],
   "source": [
    "!rm -rf classifier_dl_pipeline_glove"
   ]
  },
  {
   "cell_type": "code",
   "execution_count": null,
   "metadata": {
    "id": "81fkjlNaIPTh"
   },
   "outputs": [],
   "source": [
    "clf_pipelineModel.save('classifier_dl_pipeline_glove')"
   ]
  },
  {
   "cell_type": "code",
   "execution_count": null,
   "metadata": {
    "id": "BJdGzsWcIPTk"
   },
   "outputs": [],
   "source": [
    "clf_pipelineModel = clf_pipeline.fit(trainingData)"
   ]
  },
  {
   "cell_type": "code",
   "execution_count": null,
   "metadata": {
    "id": "HX7wxbU0IPTl",
    "outputId": "58dc14e3-6711-456c-8fc0-91402f31ae7d"
   },
   "outputs": [
    {
     "name": "stdout",
     "output_type": "stream",
     "text": [
      "              precision    recall  f1-score   support\n",
      "\n",
      "    Business       0.85      0.82      0.83      8911\n",
      "    Sci/Tech       0.81      0.89      0.85      8973\n",
      "      Sports       0.95      0.97      0.96      9063\n",
      "       World       0.92      0.86      0.89      9008\n",
      "\n",
      "    accuracy                           0.88     35955\n",
      "   macro avg       0.88      0.88      0.88     35955\n",
      "weighted avg       0.88      0.88      0.88     35955\n",
      "\n",
      "0.8809066889167014\n"
     ]
    }
   ],
   "source": [
    "df = clf_pipelineModel.transform(testDataset).select('category','description',\"class.result\").toPandas()\n",
    "\n",
    "df['result'] = df['result'].apply(lambda x: x[0])\n",
    "\n",
    "print(classification_report(df.category, df.result))\n",
    "\n",
    "print(accuracy_score(df.category, df.result))"
   ]
  },
  {
   "cell_type": "code",
   "execution_count": null,
   "metadata": {
    "id": "81Yor2ybIPTm"
   },
   "outputs": [],
   "source": [
    "!cd data && ls -l"
   ]
  },
  {
   "cell_type": "code",
   "execution_count": null,
   "metadata": {
    "id": "q4I6cK4BIPTn"
   },
   "outputs": [],
   "source": [
    "import pandas as pd\n",
    "import"
   ]
  },
  {
   "cell_type": "code",
   "execution_count": null,
   "metadata": {
    "id": "CaINbN4RIPTp"
   },
   "outputs": [],
   "source": [
    "news_df = newsDF.toPandas()"
   ]
  },
  {
   "cell_type": "code",
   "execution_count": null,
   "metadata": {
    "id": "ULAoM_6rIPTr",
    "outputId": "e29106c9-a246-44ce-ddaf-cd71d856de21"
   },
   "outputs": [
    {
     "data": {
      "text/html": [
       "<div>\n",
       "<style scoped>\n",
       "    .dataframe tbody tr th:only-of-type {\n",
       "        vertical-align: middle;\n",
       "    }\n",
       "\n",
       "    .dataframe tbody tr th {\n",
       "        vertical-align: top;\n",
       "    }\n",
       "\n",
       "    .dataframe thead th {\n",
       "        text-align: right;\n",
       "    }\n",
       "</style>\n",
       "<table border=\"1\" class=\"dataframe\">\n",
       "  <thead>\n",
       "    <tr style=\"text-align: right;\">\n",
       "      <th></th>\n",
       "      <th>category</th>\n",
       "      <th>description</th>\n",
       "    </tr>\n",
       "  </thead>\n",
       "  <tbody>\n",
       "    <tr>\n",
       "      <td>0</td>\n",
       "      <td>World</td>\n",
       "      <td>Srinagar, Nov 6 (UNI) Two militants and a Bord...</td>\n",
       "    </tr>\n",
       "    <tr>\n",
       "      <td>1</td>\n",
       "      <td>World</td>\n",
       "      <td>France's president orders his forces to destro...</td>\n",
       "    </tr>\n",
       "    <tr>\n",
       "      <td>2</td>\n",
       "      <td>World</td>\n",
       "      <td>President  Bush says he will reach out to alli...</td>\n",
       "    </tr>\n",
       "    <tr>\n",
       "      <td>3</td>\n",
       "      <td>World</td>\n",
       "      <td>Established Shiite parties and powerful upstar...</td>\n",
       "    </tr>\n",
       "    <tr>\n",
       "      <td>4</td>\n",
       "      <td>World</td>\n",
       "      <td>While Democrats placed their emphasis on the s...</td>\n",
       "    </tr>\n",
       "  </tbody>\n",
       "</table>\n",
       "</div>"
      ],
      "text/plain": [
       "  category                                        description\n",
       "0    World  Srinagar, Nov 6 (UNI) Two militants and a Bord...\n",
       "1    World  France's president orders his forces to destro...\n",
       "2    World  President  Bush says he will reach out to alli...\n",
       "3    World  Established Shiite parties and powerful upstar...\n",
       "4    World  While Democrats placed their emphasis on the s..."
      ]
     },
     "execution_count": 52,
     "metadata": {
      "tags": []
     },
     "output_type": "execute_result"
    }
   ],
   "source": [
    "news_df.head()"
   ]
  },
  {
   "cell_type": "code",
   "execution_count": null,
   "metadata": {
    "id": "Hp6nDSBCIPTu"
   },
   "outputs": [],
   "source": [
    "news_df.to_csv('data/news_dataset.csv', index=False)"
   ]
  },
  {
   "cell_type": "code",
   "execution_count": null,
   "metadata": {
    "id": "733xg3xwIPTv",
    "outputId": "c5595759-130e-48a5-ef7a-54b24ca7d034"
   },
   "outputs": [
    {
     "name": "stdout",
     "output_type": "stream",
     "text": [
      "lemma_antbnc download started this may take some time.\n",
      "Approximate size to download 907.6 KB\n",
      "[OK!]\n",
      "glove_100d download started this may take some time.\n",
      "Approximate size to download 145.3 MB\n",
      "[OK!]\n"
     ]
    }
   ],
   "source": [
    "document_assembler = DocumentAssembler() \\\n",
    "      .setInputCol(\"description\") \\\n",
    "      .setOutputCol(\"document\")\n",
    "      \n",
    "tokenizer = Tokenizer() \\\n",
    "      .setInputCols([\"document\"]) \\\n",
    "      .setOutputCol(\"token\")\n",
    "      \n",
    "normalizer = Normalizer() \\\n",
    "      .setInputCols([\"token\"]) \\\n",
    "      .setOutputCol(\"normalized\")\n",
    "\n",
    "stopwords_cleaner = StopWordsCleaner()\\\n",
    "      .setInputCols(\"normalized\")\\\n",
    "      .setOutputCol(\"cleanTokens\")\\\n",
    "      .setCaseSensitive(False)\n",
    "\n",
    "lemma = LemmatizerModel.pretrained('lemma_antbnc') \\\n",
    "      .setInputCols([\"cleanTokens\"]) \\\n",
    "      .setOutputCol(\"lemma\")\n",
    "\n",
    "glove_embeddings = WordEmbeddingsModel().pretrained() \\\n",
    "      .setInputCols([\"document\",'lemma'])\\\n",
    "      .setOutputCol(\"embeddings\")\\\n",
    "      .setCaseSensitive(False)\n",
    "\n",
    "txt_pipeline = Pipeline(\n",
    "    stages=[document_assembler, \n",
    "            tokenizer,\n",
    "            normalizer,\n",
    "            stopwords_cleaner, \n",
    "            lemma, \n",
    "            glove_embeddings,\n",
    "            embeddingsSentence])"
   ]
  },
  {
   "cell_type": "code",
   "execution_count": null,
   "metadata": {
    "id": "nJHq4FdNIPTx"
   },
   "outputs": [],
   "source": [
    "txt_pipelineModel = txt_pipeline.fit(testData.limit(1))"
   ]
  },
  {
   "cell_type": "code",
   "execution_count": null,
   "metadata": {
    "id": "mixFG3jjIPTy"
   },
   "outputs": [],
   "source": [
    "txt_pipelineModel.save('text_prep_pipeline_glove')"
   ]
  },
  {
   "cell_type": "code",
   "execution_count": null,
   "metadata": {
    "id": "HJQiXr4BIPTz",
    "outputId": "ef0addc8-a9b7-4286-96e1-0bb5101cf9f9"
   },
   "outputs": [
    {
     "data": {
      "text/html": [
       "<div>\n",
       "<style scoped>\n",
       "    .dataframe tbody tr th:only-of-type {\n",
       "        vertical-align: middle;\n",
       "    }\n",
       "\n",
       "    .dataframe tbody tr th {\n",
       "        vertical-align: top;\n",
       "    }\n",
       "\n",
       "    .dataframe thead th {\n",
       "        text-align: right;\n",
       "    }\n",
       "</style>\n",
       "<table border=\"1\" class=\"dataframe\">\n",
       "  <thead>\n",
       "    <tr style=\"text-align: right;\">\n",
       "      <th></th>\n",
       "      <th>category</th>\n",
       "      <th>description</th>\n",
       "      <th>result</th>\n",
       "    </tr>\n",
       "  </thead>\n",
       "  <tbody>\n",
       "    <tr>\n",
       "      <td>0</td>\n",
       "      <td>Business</td>\n",
       "      <td>A federal judge on Monday stayed his own rul...</td>\n",
       "      <td>Business</td>\n",
       "    </tr>\n",
       "    <tr>\n",
       "      <td>1</td>\n",
       "      <td>Business</td>\n",
       "      <td>A half dozen executives of Yukos, the embatt...</td>\n",
       "      <td>Business</td>\n",
       "    </tr>\n",
       "    <tr>\n",
       "      <td>2</td>\n",
       "      <td>Business</td>\n",
       "      <td>A labor dispute may sideline professional ho...</td>\n",
       "      <td>Sports</td>\n",
       "    </tr>\n",
       "    <tr>\n",
       "      <td>3</td>\n",
       "      <td>Business</td>\n",
       "      <td>A ruling from the World Trade Organization c...</td>\n",
       "      <td>Sci/Tech</td>\n",
       "    </tr>\n",
       "    <tr>\n",
       "      <td>4</td>\n",
       "      <td>Business</td>\n",
       "      <td>American Airlines has unveiled a new simplif...</td>\n",
       "      <td>Business</td>\n",
       "    </tr>\n",
       "  </tbody>\n",
       "</table>\n",
       "</div>"
      ],
      "text/plain": [
       "   category                                        description    result\n",
       "0  Business    A federal judge on Monday stayed his own rul...  Business\n",
       "1  Business    A half dozen executives of Yukos, the embatt...  Business\n",
       "2  Business    A labor dispute may sideline professional ho...    Sports\n",
       "3  Business    A ruling from the World Trade Organization c...  Sci/Tech\n",
       "4  Business    American Airlines has unveiled a new simplif...  Business"
      ]
     },
     "execution_count": 126,
     "metadata": {
      "tags": []
     },
     "output_type": "execute_result"
    }
   ],
   "source": [
    "df.head()"
   ]
  }
 ],
 "metadata": {
  "colab": {
   "collapsed_sections": [],
   "name": "5.1_Text_classification_examples_in_SparkML_SparkNLP.ipynb",
   "provenance": []
  },
  "kernelspec": {
   "display_name": "Python 3 (ipykernel)",
   "language": "python",
   "name": "python3"
  },
  "language_info": {
   "codemirror_mode": {
    "name": "ipython",
    "version": 3
   },
   "file_extension": ".py",
   "mimetype": "text/x-python",
   "name": "python",
   "nbconvert_exporter": "python",
   "pygments_lexer": "ipython3",
   "version": "3.7.6"
  }
 },
 "nbformat": 4,
 "nbformat_minor": 1
}

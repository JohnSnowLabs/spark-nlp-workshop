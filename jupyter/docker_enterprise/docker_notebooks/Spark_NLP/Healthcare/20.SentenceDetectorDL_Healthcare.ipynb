{
 "cells": [
  {
   "cell_type": "markdown",
   "metadata": {
    "application/vnd.databricks.v1+cell": {
     "inputWidgets": {},
     "nuid": "ca48dee6-4eec-4600-9d0f-b37babbff76b",
     "showTitle": false,
     "title": ""
    },
    "id": "qBqkI7slDc7D"
   },
   "source": [
    "![JohnSnowLabs](https://nlp.johnsnowlabs.com/assets/images/logo.png)"
   ]
  },
  {
   "cell_type": "markdown",
   "metadata": {
    "id": "DJTiFDX8iSvN"
   },
   "source": [
    "[![Open In Colab](https://colab.research.google.com/assets/colab-badge.svg)](https://colab.research.google.com/github/JohnSnowLabs/spark-nlp-workshop/blob/master/tutorials/Certification_Trainings/Healthcare/20.SentenceDetectorDL_Healthcare.ipynb)"
   ]
  },
  {
   "cell_type": "markdown",
   "metadata": {
    "application/vnd.databricks.v1+cell": {
     "inputWidgets": {},
     "nuid": "90dfbf3d-c220-4962-a4c5-1129f24ec086",
     "showTitle": false,
     "title": ""
    },
    "id": "Da6fmC09Dc7F"
   },
   "source": [
    "# 20. SentenceDetectorDL for Healthcare"
   ]
  },
  {
   "cell_type": "markdown",
   "metadata": {
    "application/vnd.databricks.v1+cell": {
     "inputWidgets": {},
     "nuid": "6894bf5e-d81b-4c16-bd41-e4866701c893",
     "showTitle": false,
     "title": ""
    },
    "id": "GKfjBdJuDc7G"
   },
   "source": [
    "`SentenceDetectorDL` (SDDL) is based on a general-purpose neural network model for sentence boundary detection.  The task of sentence boundary detection is to identify sentences within a text. Many natural language processing tasks take a sentence as an input unit, such as part-of-speech tagging, dependency parsing, named entity recognition or machine translation.\n",
    "\n",
    "In this model, we treated the sentence boundary detection task as a classification problem using a DL CNN architecture. We also modified the original implemenation a little bit to cover broken sentences and some impossible end of line chars."
   ]
  },
  {
   "cell_type": "code",
   "execution_count": 2,
   "metadata": {
    "id": "2zJd_XqCrzTw"
   },
   "outputs": [],
   "source": [
    "import os\n",
    "\n",
    "jsl_secret = os.getenv('SECRET')\n",
    "\n",
    "import sparknlp\n",
    "sparknlp_version = sparknlp.version()\n",
    "import sparknlp_jsl\n",
    "jsl_version = sparknlp_jsl.version()\n",
    "\n",
    "print (jsl_secret)"
   ]
  },
  {
   "cell_type": "code",
   "execution_count": 3,
   "metadata": {
    "colab": {
     "base_uri": "https://localhost:8080/"
    },
    "id": "0I_C8p8lrj02",
    "outputId": "6ebe9cf0-67ad-4fb2-b276-0212e5493f45"
   },
   "outputs": [
    {
     "name": "stdout",
     "output_type": "stream",
     "text": [
      "3.1.2\n",
      "3.1.2\n"
     ]
    }
   ],
   "source": [
    "import json\n",
    "import os\n",
    "from pyspark.ml import Pipeline,PipelineModel\n",
    "from pyspark.sql import SparkSession\n",
    "\n",
    "from sparknlp.annotator import *\n",
    "from sparknlp_jsl.annotator import *\n",
    "from sparknlp.base import *\n",
    "import sparknlp_jsl\n",
    "import sparknlp\n",
    "\n",
    "params = {\"spark.driver.memory\":\"16G\",\n",
    "\"spark.kryoserializer.buffer.max\":\"2000M\",\n",
    "\"spark.driver.maxResultSize\":\"2000M\"}\n",
    "\n",
    "spark = sparknlp_jsl.start(jsl_secret,params=params)\n",
    "\n",
    "print (sparknlp.version())\n",
    "print (sparknlp_jsl.version())"
   ]
  },
  {
   "cell_type": "code",
   "execution_count": 4,
   "metadata": {
    "application/vnd.databricks.v1+cell": {
     "inputWidgets": {},
     "nuid": "4e3b6ac8-7f41-4b31-a94b-c712cfafcf0f",
     "showTitle": false,
     "title": ""
    },
    "colab": {
     "base_uri": "https://localhost:8080/"
    },
    "id": "kyaAR1-RDc7O",
    "outputId": "b5a29097-a1bd-488f-f0a5-694ae6189829"
   },
   "outputs": [
    {
     "name": "stdout",
     "output_type": "stream",
     "text": [
      "sentence_detector_dl_healthcare download started this may take some time.\n",
      "Approximate size to download 363.9 KB\n",
      "[OK!]\n"
     ]
    }
   ],
   "source": [
    "documenter = DocumentAssembler()\\\n",
    "    .setInputCol(\"text\")\\\n",
    "    .setOutputCol(\"document\")\n",
    "    \n",
    "sentencerDL_hc = SentenceDetectorDLModel.pretrained(\"sentence_detector_dl_healthcare\",\"en\",\"clinical/models\") \\\n",
    "\t.setInputCols([\"document\"]) \\\n",
    "\t.setOutputCol(\"sentences\")\n",
    "\n",
    "sd_pipeline = PipelineModel(stages=[documenter, sentencerDL_hc])\n",
    "sd_model = LightPipeline(sd_pipeline)"
   ]
  },
  {
   "cell_type": "markdown",
   "metadata": {
    "application/vnd.databricks.v1+cell": {
     "inputWidgets": {},
     "nuid": "3793b90d-4ac9-460d-86ef-532490aaae2c",
     "showTitle": false,
     "title": ""
    },
    "id": "q2W6c8HHDc7X"
   },
   "source": [
    "# **SetenceDetectorDL_HC** Performance and Comparison with **Spacy Sentence Splitter** on different **Clinical Texts**"
   ]
  },
  {
   "cell_type": "code",
   "execution_count": 5,
   "metadata": {
    "id": "dS_1RttbRu5Y"
   },
   "outputs": [],
   "source": [
    "def get_sentences_sddl(text):\n",
    "\n",
    "    print ('with Spark NLP SentenceDetectorDL_HC')\n",
    "    print ('=======================================') \n",
    "    \n",
    "    for anno in sd_model.fullAnnotate(text)[0][\"sentences\"]:\n",
    "      \n",
    "        print(\"{}\\t{}\\t{}\\t{}\".format(\n",
    "            anno.metadata[\"sentence\"], anno.begin, anno.end, anno.result.replace('\\n','')))\n",
    "    return"
   ]
  },
  {
   "cell_type": "code",
   "execution_count": null,
   "metadata": {
    "id": "aTQuWUNegYpb"
   },
   "outputs": [],
   "source": [
    "%%capture\n",
    "\n",
    "!pip install spacy\n",
    "!python3 -m spacy download en_core_web_sm\n",
    "\n",
    "import spacy\n",
    "import en_core_web_sm\n",
    "\n",
    "nlp = en_core_web_sm.load()"
   ]
  },
  {
   "cell_type": "code",
   "execution_count": 7,
   "metadata": {
    "id": "64TXep7bR0dw"
   },
   "outputs": [],
   "source": [
    "def get_sentences_spacy(text):\n",
    "\n",
    "    print()\n",
    "    print ('with Spacy Sentence Detection')\n",
    "    print ('===================================')\n",
    "    for i,sent in enumerate(nlp(text).sents):\n",
    "        print(i, '\\t',str(sent).replace('\\n',''))# removing \\n to beutify printing\n",
    "\n",
    "    return"
   ]
  },
  {
   "cell_type": "markdown",
   "metadata": {
    "id": "PBJMqUTxSt1r"
   },
   "source": [
    "### Text 1"
   ]
  },
  {
   "cell_type": "code",
   "execution_count": 8,
   "metadata": {
    "id": "rxtFJ715SrKh"
   },
   "outputs": [],
   "source": [
    "text_1 = '''He was given boluses of MS04 with some effect, he has since been placed on a PCA - he take 80mg of oxycontin at home, his PCA dose is ~ 2 the morphine dose of the oxycontin, he has also received ativan for anxiety.Repleted with 20 meq kcl po, 30 mmol K-phos iv and 2 gms mag so4 iv. LASIX CHANGED TO 40 PO BID WHICH IS SAME AS HE TAKES AT HOME - RECEIVED 40 PO IN AM - 700CC U/O TOTAL FOR FLUID NEGATIVE ~ 600 THUS FAR TODAY, ~ 600 NEG LOS. pt initially hypertensive 160s-180s gave prn doses if IV hydralazine without effect, labetalol increased from 100 mg to 200 mg PO TID which kept SBP > 160 for rest of night.Transferred to the EW found to be hypertensive BP 253/167 HR 132 ST treated with IV NTG gtt 20-120mcg/ and captopril 12.5mg sl x3. During the day pt's resp status has been very tenuous, responded to lasix in the am but then became hypotensive around 1800 tx with 500cc NS bolus and a unit of RBC did improve her BP to 90-100/60 but also became increasingly more tachypneic, RR 30-40's crackles went from bases bilaterally to [**2-14**] way up bilaterally.Lasix given 10mg x 2 during the evening without much change in her respiratory status.10units iv insulin given, 1 amps of 50%dextrose, 1amp of sodium bicard, 2gm calc gluconate.LOPRESSOR 7MG IV Q6H, ENALAPRIL 0.625MG IV Q6H TOLERATED.\n",
    "ID: Continues to receive flagyl, linazolid, pipercillin, ambisome, gent, and acyclovir, the acyclovir was changed from PO to IV-to be given after dialysis.Meds- Lipitor, procardia, synthroid, lisinopril, pepcid, actonel, calcium, MVI Social- Denies tobacco and drugs.'''"
   ]
  },
  {
   "cell_type": "code",
   "execution_count": 9,
   "metadata": {
    "application/vnd.databricks.v1+cell": {
     "inputWidgets": {},
     "nuid": "782248b2-2bf0-4a50-9506-8fc59af53e7f",
     "showTitle": false,
     "title": ""
    },
    "colab": {
     "base_uri": "https://localhost:8080/"
    },
    "id": "sF4-yEydDc7v",
    "outputId": "d835a0e2-e030-42de-d548-eaf3ae292539"
   },
   "outputs": [
    {
     "name": "stdout",
     "output_type": "stream",
     "text": [
      "with Spark NLP SentenceDetectorDL_HC\n",
      "=======================================\n",
      "0\t0\t213\tHe was given boluses of MS04 with some effect, he has since been placed on a PCA - he take 80mg of oxycontin at home, his PCA dose is ~ 2 the morphine dose of the oxycontin, he has also received ativan for anxiety.\n",
      "1\t214\t281\tRepleted with 20 meq kcl po, 30 mmol K-phos iv and 2 gms mag so4 iv.\n",
      "2\t283\t613\tLASIX CHANGED TO 40 PO BID WHICH IS SAME AS HE TAKES AT HOME - RECEIVED 40 PO IN AM - 700CC U/O TOTAL FOR FLUID NEGATIVE ~ 600 THUS FAR TODAY, ~ 600 NEG LOS. pt initially hypertensive 160s-180s gave prn doses if IV hydralazine without effect, labetalol increased from 100 mg to 200 mg PO TID which kept SBP > 160 for rest of night.\n",
      "3\t614\t743\tTransferred to the EW found to be hypertensive BP 253/167 HR 132 ST treated with IV NTG gtt 20-120mcg/ and captopril 12.5mg sl x3.\n",
      "4\t745\t1068\tDuring the day pt's resp status has been very tenuous, responded to lasix in the am but then became hypotensive around 1800 tx with 500cc NS bolus and a unit of RBC did improve her BP to 90-100/60 but also became increasingly more tachypneic, RR 30-40's crackles went from bases bilaterally to [**2-14**] way up bilaterally.\n",
      "5\t1069\t1154\tLasix given 10mg x 2 during the evening without much change in her respiratory status.\n",
      "6\t1155\t1245\t10units iv insulin given, 1 amps of 50%dextrose, 1amp of sodium bicard, 2gm calc gluconate.\n",
      "7\t1246\t1302\tLOPRESSOR 7MG IV Q6H, ENALAPRIL 0.625MG IV Q6H TOLERATED.\n",
      "8\t1304\t1458\tID: Continues to receive flagyl, linazolid, pipercillin, ambisome, gent, and acyclovir, the acyclovir was changed from PO to IV-to be given after dialysis.\n",
      "9\t1459\t1570\tMeds- Lipitor, procardia, synthroid, lisinopril, pepcid, actonel, calcium, MVI Social- Denies tobacco and drugs.\n",
      "\n",
      "with Spacy Sentence Detection\n",
      "===================================\n",
      "0 \t He was given boluses of MS04 with some effect, he has since been placed on a PCA\n",
      "1 \t - he take 80mg of oxycontin at home, his PCA dose is ~ 2 the morphine dose of the oxycontin, he has also received ativan for anxiety.\n",
      "2 \t Repleted with 20 meq kcl po, 30 mmol K-phos iv and 2 gms mag so4 iv.\n",
      "3 \t LASIX CHANGED TO 40 PO BID WHICH IS SAME AS\n",
      "4 \t HE TAKES\n",
      "5 \t AT HOME - RECEIVED 40 PO\n",
      "6 \t IN AM - 700CC U/\n",
      "7 \t O TOTAL FOR FLUID NEGATIVE ~\n",
      "8 \t 600 THUS FAR TODAY, ~ 600 NEG LOS.\n",
      "9 \t pt initially hypertensive 160s-180s gave prn doses\n",
      "10 \t if IV hydralazine without effect, labetalol increased from 100 mg to 200 mg PO TID which kept SBP > 160 for rest of night.\n",
      "11 \t Transferred to the EW found to be hypertensive BP 253/167 HR\n",
      "12 \t 132 ST treated with IV NTG gtt 20-120mcg/ and captopril 12.5mg sl x3.\n",
      "13 \t During the day pt's resp status has been very tenuous, responded to lasix in the am but then became hypotensive around 1800 tx with 500cc NS bolus and a unit of RBC did improve her BP to 90-100/60 but also became increasingly more tachypneic, RR 30-40's crackles went from bases bilaterally to [*\n",
      "14 \t *2-14\n",
      "15 \t **] way up bilaterally.\n",
      "16 \t Lasix given 10mg x 2 during the evening without much change in her respiratory status.10units iv insulin given, 1 amps of 50%dextrose, 1amp of sodium bicard, 2gm calc gluconate.\n",
      "17 \t LOPRESSOR 7MG IV Q6H, ENALAPRIL 0.625MG IV Q6H TOLERATED.\n",
      "18 \t ID:\n",
      "19 \t Continues to receive flagyl, linazolid, pipercillin, ambisome, gent, and acyclovir, the acyclovir was changed from PO to IV-to be given after dialysis.\n",
      "20 \t Meds-\n",
      "21 \t Lipitor, procardia, synthroid, lisinopril, pepcid, actonel, calcium, MVI Social- Denies tobacco and drugs.\n"
     ]
    }
   ],
   "source": [
    "get_sentences_sddl(text_1)\n",
    "get_sentences_spacy(text_1)   "
   ]
  },
  {
   "cell_type": "markdown",
   "metadata": {
    "id": "-9w2subwSy4w"
   },
   "source": [
    "### Text 2"
   ]
  },
  {
   "cell_type": "code",
   "execution_count": 10,
   "metadata": {
    "id": "MKxsLbCXS2Wy"
   },
   "outputs": [],
   "source": [
    "text_2 = '''ST 109-120 ST. Pt had two 10 beat runs and one 9 beat run of SVT s/p PICC line placement. Stable BP, VT nonsustained. Pt denies CP/SOB. EKG and echo obtained. Cyclying enzymes first CK 69. Cardiology consulted, awaiting echo report. Pt to be started on beta blocker for treatment of NSVT. ? secondary to severe illness.K+ 3.4 IV. IVF with 20meq KCL at 200cc/hr. S/p NSVT pt rec'd 40meq po and 40 meq IV KCL. K+ 3.9 repeat K+ at 8pm. Mg and Ca repleted. Please follow electrolyte SS.\n",
    "'''"
   ]
  },
  {
   "cell_type": "code",
   "execution_count": 11,
   "metadata": {
    "application/vnd.databricks.v1+cell": {
     "inputWidgets": {},
     "nuid": "faf1c618-7deb-4737-ac9c-b56c692c5122",
     "showTitle": false,
     "title": ""
    },
    "colab": {
     "base_uri": "https://localhost:8080/"
    },
    "id": "-Vtgn6DVDc7z",
    "outputId": "fd10a686-21f7-47e3-88e7-13294a58664c"
   },
   "outputs": [
    {
     "name": "stdout",
     "output_type": "stream",
     "text": [
      "with Spark NLP SentenceDetectorDL_HC\n",
      "=======================================\n",
      "0\t0\t13\tST 109-120 ST.\n",
      "1\t15\t88\tPt had two 10 beat runs and one 9 beat run of SVT s/p PICC line placement.\n",
      "2\t90\t116\tStable BP, VT nonsustained.\n",
      "3\t118\t134\tPt denies CP/SOB.\n",
      "4\t136\t157\tEKG and echo obtained.\n",
      "5\t159\t231\tCyclying enzymes first CK 69. Cardiology consulted, awaiting echo report.\n",
      "6\t233\t287\tPt to be started on beta blocker for treatment of NSVT.\n",
      "7\t289\t318\t? secondary to severe illness.\n",
      "8\t319\t328\tK+ 3.4 IV.\n",
      "9\t330\t360\tIVF with 20meq KCL at 200cc/hr.\n",
      "10\t362\t406\tS/p NSVT pt rec'd 40meq po and 40 meq IV KCL.\n",
      "11\t408\t451\tK+ 3.9 repeat K+ at 8pm. Mg and Ca repleted.\n",
      "12\t453\t481\tPlease follow electrolyte SS.\n",
      "\n",
      "with Spacy Sentence Detection\n",
      "===================================\n",
      "0 \t ST 109-120 ST.\n",
      "1 \t Pt had two 10 beat runs and one 9 beat run of SVT s/p PICC line placement.\n",
      "2 \t Stable BP, VT nonsustained.\n",
      "3 \t Pt denies CP/SOB.\n",
      "4 \t EKG and echo obtained.\n",
      "5 \t Cyclying enzymes first CK 69.\n",
      "6 \t Cardiology consulted, awaiting echo report.\n",
      "7 \t Pt to be started on beta blocker for treatment of NSVT. ?\n",
      "8 \t secondary to severe illness.\n",
      "9 \t K+ 3.4 IV.\n",
      "10 \t IVF with 20meq KCL at 200cc/hr.\n",
      "11 \t S/p NSVT pt rec'd 40meq po and 40 meq IV KCL.\n",
      "12 \t K+\n",
      "13 \t 3.9 repeat K+ at 8pm.\n",
      "14 \t Mg and Ca repleted.\n",
      "15 \t Please follow electrolyte SS.\n"
     ]
    }
   ],
   "source": [
    "get_sentences_sddl(text_2)\n",
    "get_sentences_spacy(text_2) "
   ]
  },
  {
   "cell_type": "markdown",
   "metadata": {
    "id": "LbGLfbOnTG7a"
   },
   "source": [
    "### Text 3"
   ]
  },
  {
   "cell_type": "code",
   "execution_count": 12,
   "metadata": {
    "id": "icTdjY-6TKJo"
   },
   "outputs": [],
   "source": [
    "text_3 = '''PT. IS A 56 Y/O FEMALE S/P CRANIOTOMY ON 7/16 FOR REMOVAL OF BENIGN CYSTIC LESION. SURGERY PERFORMED AT BIDMC.STARTED ON DILANTIN POST-OP FOR SEIZURE PROPHYLAXIS. 2 DAYS PRIOR TO ADMISSION PT DEVELOPED BILAT. EYE DISCHARGE-- SEEN BY EYE MD AND TREATED WITH SULFATE OPTHALMIC DROPS.ALSO DEVELOPED ORAL SORES AND RASH ON CHEST AND RAPIDLY SPREAD TO TRUNK, ARMS, THIGHS, BUTTOCKS, AND FACE WITHIN 24 HRS.UNABLE TO EAT DUE TO MOUTH PAIN. + FEVER, + DIARRHEA, WEAKNESS. PRESENTED TO EW ON 8/4 WITH TEMP 104 SBP 90'S.GIVEN NS FLUID BOLUS, TYLENOL FOR TEMP. SHE PUSTULAR RED RASH ON FACE, RED RASH NOTED ON TRUNK, UPPER EXTREMITIES AND THIGHS. ALSO BOTH EYES DRAINING GREENISH-YELLOW DRAINAGE. ADMITTED TO CCU ( MICU BORDER) FOR CLOSE OBSERVATION.\n",
    "'''"
   ]
  },
  {
   "cell_type": "code",
   "execution_count": 13,
   "metadata": {
    "application/vnd.databricks.v1+cell": {
     "inputWidgets": {},
     "nuid": "2ff8c8d8-531c-4020-923f-0cca6a3c0f65",
     "showTitle": false,
     "title": ""
    },
    "colab": {
     "base_uri": "https://localhost:8080/"
    },
    "id": "tmGNCXOdDc73",
    "outputId": "aa7220ee-e21e-46f3-c16d-88c95e8dcbc5"
   },
   "outputs": [
    {
     "name": "stdout",
     "output_type": "stream",
     "text": [
      "with Spark NLP SentenceDetectorDL_HC\n",
      "=======================================\n",
      "0\t0\t81\tPT. IS A 56 Y/O FEMALE S/P CRANIOTOMY ON 7/16 FOR REMOVAL OF BENIGN CYSTIC LESION.\n",
      "1\t83\t109\tSURGERY PERFORMED AT BIDMC.\n",
      "2\t110\t207\tSTARTED ON DILANTIN POST-OP FOR SEIZURE PROPHYLAXIS. 2 DAYS PRIOR TO ADMISSION PT DEVELOPED BILAT.\n",
      "3\t209\t280\tEYE DISCHARGE-- SEEN BY EYE MD AND TREATED WITH SULFATE OPTHALMIC DROPS.\n",
      "4\t281\t400\tALSO DEVELOPED ORAL SORES AND RASH ON CHEST AND RAPIDLY SPREAD TO TRUNK, ARMS, THIGHS, BUTTOCKS, AND FACE WITHIN 24 HRS.\n",
      "5\t401\t463\tUNABLE TO EAT DUE TO MOUTH PAIN. + FEVER, + DIARRHEA, WEAKNESS.\n",
      "6\t465\t510\tPRESENTED TO EW ON 8/4 WITH TEMP 104 SBP 90'S.\n",
      "7\t511\t549\tGIVEN NS FLUID BOLUS, TYLENOL FOR TEMP.\n",
      "8\t551\t635\tSHE PUSTULAR RED RASH ON FACE, RED RASH NOTED ON TRUNK, UPPER EXTREMITIES AND THIGHS.\n",
      "9\t637\t685\tALSO BOTH EYES DRAINING GREENISH-YELLOW DRAINAGE.\n",
      "10\t687\t739\tADMITTED TO CCU ( MICU BORDER) FOR CLOSE OBSERVATION.\n",
      "\n",
      "with Spacy Sentence Detection\n",
      "===================================\n",
      "0 \t PT.\n",
      "1 \t IS A 56 Y/O FEMALE S/P CRANIOTOMY ON 7/16 FOR REMOVAL OF BENIGN CYSTIC LESION.\n",
      "2 \t SURGERY PERFORMED\n",
      "3 \t AT BIDMC.STARTED\n",
      "4 \t ON DILANTIN POST-OP FOR SEIZURE PROPHYLAXIS.\n",
      "5 \t 2 DAYS PRIOR TO ADMISSION PT DEVELOPED BILAT.\n",
      "6 \t EYE DISCHARGE-- SEEN BY EYE MD AND TREATED WITH SULFATE OPTHALMIC DROPS.ALSO DEVELOPED ORAL SORES AND RASH ON CHEST AND RAPIDLY SPREAD TO TRUNK, ARMS, THIGHS, BUTTOCKS, AND FACE WITHIN 24\n",
      "7 \t HRS.UNABLE TO EAT DUE TO MOUTH PAIN.\n",
      "8 \t + FEVER, + DIARRHEA, WEAKNESS.\n",
      "9 \t PRESENTED TO EW\n",
      "10 \t ON 8/4\n",
      "11 \t WITH TEMP 104 SBP 90'S.GIVEN NS FLUID BOLUS, TYLENOL FOR TEMP.\n",
      "12 \t SHE PUSTULAR RED RASH ON FACE, RED RASH NOTED ON TRUNK, UPPER EXTREMITIES AND THIGHS.\n",
      "13 \t ALSO BOTH EYES\n",
      "14 \t DRAINING GREENISH-YELLOW DRAINAGE.\n",
      "15 \t ADMITTED TO CCU ( MICU BORDER) FOR CLOSE OBSERVATION.\n"
     ]
    }
   ],
   "source": [
    "get_sentences_sddl(text_3)\n",
    "get_sentences_spacy(text_3) "
   ]
  },
  {
   "cell_type": "markdown",
   "metadata": {
    "id": "BMkXHd65Tmvl"
   },
   "source": [
    "### Text 4"
   ]
  },
  {
   "cell_type": "code",
   "execution_count": 14,
   "metadata": {
    "id": "AiBbk6YkTo_a"
   },
   "outputs": [],
   "source": [
    "text_4 = '''Tylenol 650mg po q6h CVS: Aspirin 121.5mg po daily for graft patency, npn 7p-7a: ccu nsg progress note: s/o: does understand and speak some eng, family visiting this eve and states that pt is oriented and appropriate for them resp--ls w/crackles approx 1/2 up, rr 20's, appeared sl sob, on 4l sat when sitting straight up 95-99%, when lying flat or turning s-s sat does drop to 88-93%, pt does not c/o feeling sob, sat does come back up when sitting up, did rec 40mg iv lasix cardiac hr 90's sr w/occ pvc's, bp 95-106/50's, did not c/o any cp during the noc, conts on hep at 600u/hr, ptt during noc 79, am labs pnd, remains off pressors, at this time no further plans to swan pt or for her to go to cath lab, gi--abd soft, non tender to palpation, (+)bs, passing sm amt of brown soft stool, tol po's w/out diff renal--u/o cont'd low during the eve, team decided to give lasix 40mg in setting of crackles, decreased u/o and sob, did diuresis well to lasix, pt approx 700cc neg today access--pt has 3 peripheral iv's in place, all working, unable to draw bloods from pt d/t poor veins, pt is going to need access to draw bloods, central line or picc line social--son & dtr in visiting w/their famlies tonight, pt awake and conversing w/them a/p: cont to monitor/asses cvs follow resp status, additional lasix f/u w/team re: plan of care for her will need iv access for blood draws keep family & pt updated w/plan, Neuro:On propofol gtt dose increased from 20 to 40mcg/kg/min,moves all extrimities to pain,awaken to stimuly easily,purposeful movements.PERL,had an episode of seizure at 1815 <1min when neuro team in for exam ,responded to 2mg ativan on keprra Iv BID.2 grams mag sulfate given, IVF bolus 250 cc started, approx 50 cc in then dc'd d/t PAD's,2.5 mg IV lopressor given x 2 without effect. CCU NURSING 4P-7P S DENIES CP/SOB O. SEE CAREVUE FLOWSHEET FOR COMPLETE VS 1600 O2 SAT 91% ON 5L N/C, 1 U PRBC'S INFUSING, LUNGS CRACKLES BILATERALLY, LASIX 40MG IV ORDERED, 1200 CC U/O W/IMPROVED O2 SATS ON 4L N/C, IABP AT 1:1 BP 81-107/90-117/48-57, HR 70'S SR, GROIN SITES D+I, HEPARIN REMAINS AT 950 U/HR INTEGRELIN AT 2 MCGS/KG A: IMPROVED U/O AFTER LASIX, AWAITING CARDIAC SURGERY P: CONT SUPPORTIVE CARE, REPEAT HCT POST- TRANSFUSION, CHECK LYTES POST-DIURESIS AND REPLACE AS NEEDED, AWAITING CABG-DATE.Given 50mg IV benadryl and 2mg morphine as well as one aspirin PO and inch of NT paste. When pt remained tachycardic w/ frequent ectopy s/p KCL and tylenol for temp - Orders given by Dr. [**Last Name (STitle) 2025**] to increase diltiazem to 120mg PO QID and NS 250ml given X1 w/ moderate effect.Per team, the pts IV sedation was weaned over the course of the day and now infusing @ 110mcg/hr IV Fentanyl & 9mg/hr IV Verced c pt able to open eyes to verbal stimuli and nod head appropriately to simple commands (are you in pain?).  A/P: 73 y/o male remains intubated, IVF boluses x2 for CVP <12, pt continues in NSR on PO amio 400 TID, dopamine gtt weaned down for MAPs>65 but the team felt he is overall receiving about the same amt fentanyl now as he has been in past few days, as the fentanyl patch 100 mcg was added a 48 hrs ago to replace the decrease in the IV fentanyl gtt today (fent patch takes at least 24 hrs to kick in).Started valium 10mg po q6hrs at 1300 with prn IV valium as needed.'''"
   ]
  },
  {
   "cell_type": "code",
   "execution_count": 15,
   "metadata": {
    "colab": {
     "base_uri": "https://localhost:8080/"
    },
    "id": "xvoXITitTqSG",
    "outputId": "5733cae8-fe15-4d0e-ea54-427035e65f8c"
   },
   "outputs": [
    {
     "name": "stdout",
     "output_type": "stream",
     "text": [
      "with Spark NLP SentenceDetectorDL_HC\n",
      "=======================================\n",
      "0\t0\t1417\tTylenol 650mg po q6h CVS: Aspirin 121.5mg po daily for graft patency, npn 7p-7a: ccu nsg progress note: s/o: does understand and speak some eng, family visiting this eve and states that pt is oriented and appropriate for them resp--ls w/crackles approx 1/2 up, rr 20's, appeared sl sob, on 4l sat when sitting straight up 95-99%, when lying flat or turning s-s sat does drop to 88-93%, pt does not c/o feeling sob, sat does come back up when sitting up, did rec 40mg iv lasix cardiac hr 90's sr w/occ pvc's, bp 95-106/50's, did not c/o any cp during the noc, conts on hep at 600u/hr, ptt during noc 79, am labs pnd, remains off pressors, at this time no further plans to swan pt or for her to go to cath lab, gi--abd soft, non tender to palpation, (+)bs, passing sm amt of brown soft stool, tol po's w/out diff renal--u/o cont'd low during the eve, team decided to give lasix 40mg in setting of crackles, decreased u/o and sob, did diuresis well to lasix, pt approx 700cc neg today access--pt has 3 peripheral iv's in place, all working, unable to draw bloods from pt d/t poor veins, pt is going to need access to draw bloods, central line or picc line social--son & dtr in visiting w/their famlies tonight, pt awake and conversing w/them a/p: cont to monitor/asses cvs follow resp status, additional lasix f/u w/team re: plan of care for her will need iv access for blood draws keep family & pt updated w/plan, Neuro:\n",
      "1\t1418\t1548\tOn propofol gtt dose increased from 20 to 40mcg/kg/min,moves all extrimities to pain,awaken to stimuly easily,purposeful movements.\n",
      "2\t1549\t1797\tPERL,had an episode of seizure at 1815 <1min when neuro team in for exam ,responded to 2mg ativan on keprra Iv BID.2 grams mag sulfate given, IVF bolus 250 cc started, approx 50 cc in then dc'd d/t PAD's,2.5 mg IV lopressor given x 2 without effect.\n",
      "3\t1799\t2308\tCCU NURSING 4P-7P S DENIES CP/SOB O. SEE CAREVUE FLOWSHEET FOR COMPLETE VS 1600 O2 SAT 91% ON 5L N/C, 1 U PRBC'S INFUSING, LUNGS CRACKLES BILATERALLY, LASIX 40MG IV ORDERED, 1200 CC U/O W/IMPROVED O2 SATS ON 4L N/C, IABP AT 1:1 BP 81-107/90-117/48-57, HR 70'S SR, GROIN SITES D+I, HEPARIN REMAINS AT 950 U/HR INTEGRELIN AT 2 MCGS/KG A: IMPROVED U/O AFTER LASIX, AWAITING CARDIAC SURGERY P: CONT SUPPORTIVE CARE, REPEAT HCT POST- TRANSFUSION, CHECK LYTES POST-DIURESIS AND REPLACE AS NEEDED, AWAITING CABG-DATE.\n",
      "4\t2309\t2395\tGiven 50mg IV benadryl and 2mg morphine as well as one aspirin PO and inch of NT paste.\n",
      "5\t2397\t2604\tWhen pt remained tachycardic w/ frequent ectopy s/p KCL and tylenol for temp - Orders given by Dr. [**Last Name (STitle) 2025**] to increase diltiazem to 120mg PO QID and NS 250ml given X1 w/ moderate effect.\n",
      "6\t2605\t2838\tPer team, the pts IV sedation was weaned over the course of the day and now infusing @ 110mcg/hr IV Fentanyl & 9mg/hr IV Verced c pt able to open eyes to verbal stimuli and nod head appropriately to simple commands (are you in pain?).\n",
      "7\t2841\t3240\tA/P: 73 y/o male remains intubated, IVF boluses x2 for CVP <12, pt continues in NSR on PO amio 400 TID, dopamine gtt weaned down for MAPs>65 but the team felt he is overall receiving about the same amt fentanyl now as he has been in past few days, as the fentanyl patch 100 mcg was added a 48 hrs ago to replace the decrease in the IV fentanyl gtt today (fent patch takes at least 24 hrs to kick in).\n",
      "8\t3241\t3306\tStarted valium 10mg po q6hrs at 1300 with prn IV valium as needed.\n"
     ]
    }
   ],
   "source": [
    "get_sentences_sddl(text_4)\n"
   ]
  },
  {
   "cell_type": "code",
   "execution_count": 16,
   "metadata": {
    "colab": {
     "base_uri": "https://localhost:8080/"
    },
    "id": "oN1tK6qyT0q4",
    "outputId": "96c707e8-b7e6-44d7-ad78-90d9a2d789b1"
   },
   "outputs": [
    {
     "name": "stdout",
     "output_type": "stream",
     "text": [
      "\n",
      "with Spacy Sentence Detection\n",
      "===================================\n",
      "0 \t Tylenol 650mg\n",
      "1 \t po q6h CVS:\n",
      "2 \t Aspirin 121.5mg po daily for graft patency, npn 7p-7a:\n",
      "3 \t ccu nsg progress note:\n",
      "4 \t s\n",
      "5 \t /o: does understand and speak some eng, family visiting this eve and states that pt is oriented and appropriate for them resp--\n",
      "6 \t ls w/crackles approx 1/2 up, rr 20's, appeared sl sob, on 4l sat when sitting straight up 95-99%, when lying flat or turning\n",
      "7 \t s-s sat does drop to 88-93%, pt does not c/o feeling sob, sat does come back up when sitting up, did rec 40mg\n",
      "8 \t iv lasix cardiac hr\n",
      "9 \t 90's sr w/occ pvc's, bp 95-106/50's,\n",
      "10 \t did not c/o\n",
      "11 \t any cp during the noc\n",
      "12 \t , conts on hep at 600u/hr, ptt during noc 79, am labs pnd, remains off pressors, at this time no further plans to swan pt or for her to go to cath lab, gi--abd soft, non tender to palpation, (+)\n",
      "13 \t bs, passing sm amt of brown soft stool, tol po's\n",
      "14 \t w/out diff renal--\n",
      "15 \t u/o cont'd low during the eve\n",
      "16 \t , team decided to give lasix 40mg in setting of crackles, decreased u/o and sob, did diuresis well to lasix,\n",
      "17 \t pt approx 700cc neg today access--pt has 3 peripheral\n",
      "18 \t iv's in place, all working, unable to draw bloods from pt d/\n",
      "19 \t t poor veins, pt is going to need access to draw bloods, central line or picc line social--\n",
      "20 \t son & dtr in visiting w/their famlies tonight, pt awake and conversing\n",
      "21 \t w\n",
      "22 \t /them\n",
      "23 \t a/p: cont to monitor/asses\n",
      "24 \t cvs follow resp status, additional lasix f/u w/team\n",
      "25 \t re:\n",
      "26 \t plan of care for her will need iv access for blood draws keep family & pt updated w/plan, Neuro:\n",
      "27 \t On propofol gtt dose increased from 20 to 40mcg/kg/min,moves all extrimities to pain,awaken to stimuly easily,purposeful movements.\n",
      "28 \t PERL,had an episode of seizure at 1815 <1min when neuro team in for exam ,responded to 2mg ativan on keprra\n",
      "29 \t Iv BID.2 grams mag\n",
      "30 \t sulfate given\n",
      "31 \t , IVF bolus 250 cc started, approx 50 cc in then\n",
      "32 \t dc'd d/t PAD's,2.5 mg IV lopressor given x 2 without effect.\n",
      "33 \t CCU NURSING 4P-7P\n",
      "34 \t S DENIES\n",
      "35 \t CP/SOB O. SEE CAREVUE FLOWSHEET FOR COMPLETE VS\n",
      "36 \t 1600\n",
      "37 \t O2 SAT 91% ON 5L N/C, 1\n",
      "38 \t U PRBC'S\n",
      "39 \t INFUSING, LUNGS CRACKLES BILATERALLY, LASIX 40MG\n",
      "40 \t IV ORDERED, 1200 CC U/O W/IMPROVED\n",
      "41 \t O2 SATS ON 4L N/C,\n",
      "42 \t IABP AT 1:1 BP 81-107/90-117/48-57,\n",
      "43 \t HR 70'S SR, GROIN SITES D+I\n",
      "44 \t , HEPARIN REMAINS\n",
      "45 \t AT 950 U/HR\n",
      "46 \t INTEGRELIN\n",
      "47 \t AT 2 MCGS/KG A:\n",
      "48 \t IMPROVED\n",
      "49 \t U/O\n",
      "50 \t AFTER LASIX\n",
      "51 \t , AWAITING CARDIAC SURGERY P: CONT SUPPORTIVE CARE, REPEAT HCT POST- TRANSFUSION, CHECK LYTES POST-DIURESIS AND REPLACE AS NEEDED, AWAITING CABG-DATE.Given\n",
      "52 \t 50mg IV benadryl and 2mg morphine as well as one aspirin PO and inch of NT paste.\n",
      "53 \t When pt remained tachycardic\n",
      "54 \t w/ frequent ectopy s/p KCL and tylenol for temp - Orders given by Dr.\n",
      "55 \t [\n",
      "56 \t *\n",
      "57 \t *\n",
      "58 \t Last Name (STitle)\n",
      "59 \t 2025\n",
      "60 \t **] to increase diltiazem to 120mg PO QID and NS 250ml given X1 w/ moderate effect.\n",
      "61 \t Per team, the pts IV sedation was weaned over the course of the day and now infusing @ 110mcg/hr IV Fentanyl & 9mg/hr IV Verced c pt able to open eyes to verbal stimuli and nod head appropriately to simple commands (are you in pain?).  \n",
      "62 \t A/P: 73 y/\n",
      "63 \t o male remains intubated, IVF boluses x2 for CVP <12, pt continues in NSR on PO amio 400 TID, dopamine gtt weaned down for MAPs>65\n",
      "64 \t but the team felt he is overall receiving about the same amt fentanyl now as he has been in past few days, as the fentanyl patch 100 mcg was added a 48 hrs ago to replace the decrease in the IV fentanyl gtt today\n",
      "65 \t (fent patch takes at least 24 hrs to kick in).Started valium 10mg po q6hrs at 1300 with prn IV valium as needed.\n"
     ]
    }
   ],
   "source": [
    "get_sentences_spacy(text_4) "
   ]
  },
  {
   "cell_type": "markdown",
   "metadata": {
    "application/vnd.databricks.v1+cell": {
     "inputWidgets": {},
     "nuid": "422ed5a6-5c3f-4895-8690-4ee6343ed985",
     "showTitle": false,
     "title": ""
    },
    "id": "Dv8vCG7ADc8-"
   },
   "source": [
    "# **SetenceDetectorDL_HC** Performance and Comparison with **Spacy Sentence Splitter** on **Broken Clinical  Sentences**"
   ]
  },
  {
   "cell_type": "markdown",
   "metadata": {
    "id": "sUJUwvzgUT31"
   },
   "source": [
    "### Broken Text 1"
   ]
  },
  {
   "cell_type": "code",
   "execution_count": 17,
   "metadata": {
    "application/vnd.databricks.v1+cell": {
     "inputWidgets": {},
     "nuid": "c63196f2-8abb-46aa-a23b-caf023226c94",
     "showTitle": false,
     "title": ""
    },
    "id": "qTyzTHKPDc8_"
   },
   "outputs": [],
   "source": [
    "random_broken_text_1 = '''He was given boluses of MS04 with some effect, he has since been placed on a PCA \n",
    "- he take 80mg of oxycontin at home, his PCA dose is ~ 2 the morphine dose of the oxycontin, he has also received ativan for anxiety.Repleted with 20 meq kcl po, 30 m\n",
    "mol K-phos iv and 2 gms mag so4 iv. LASIX CHANGED TO 40 PO BID WHICH IS SAME AS HE TAKES AT HOME - RECEIVED 40 PO IN AM - 700CC U/O TOTAL FOR FLUID NEGATIVE ~ 600 THUS FAR TODAY, ~ 600 NEG LOS pt initially hypertensive 160s-180s gave prn doses if IV hydralazine without effect, labetalol increased from 100 mg to 200 mg PO TID which kept SBP > 160 for rest of night.Transferred to the EW found to be hypertensive BP 253/167 HR 132 ST treated with IV NTG gtt 20-120mcg/ and captopril 12.5mg sl x3. During the day pt's resp status has been very tenuous, responded to lasix in the am but then became hypotensive around 1800 tx with 500cc NS bolus and a unit of RBC did improve her BP to 90-100/60 but also became increasingly more tachypneic, RR 30-40's crackles went from bases bilaterally to [**2-14**] way up bilaterally.Lasix given 10\n",
    "mg x 2 during the evening without much change in her respiratory status.10units iv insulin given, 1 amps of 50%dextrose, 1amp of sodium bicard, 2gm calc gluconate.LOPRESSOR 7MG IV Q6H, ENALAPRIL 0.625MG IV Q6H TOLERATED.\n",
    "ID: Continues to receive flagyl, linazolid, pipercillin, ambisome, gent, and acyclovir, the acyclovir was changed from PO to IV-to be given after dialysis.Meds- Lipitor, procardia, synthroid, lisinopril, pepcid, actonel, calcium, MVI Social- Denies tobacco and drugs.'''"
   ]
  },
  {
   "cell_type": "code",
   "execution_count": 18,
   "metadata": {
    "colab": {
     "base_uri": "https://localhost:8080/"
    },
    "id": "c3U4rWhHUSOE",
    "outputId": "5d2f2e7b-34e4-4634-a172-91bfcd79fef1"
   },
   "outputs": [
    {
     "name": "stdout",
     "output_type": "stream",
     "text": [
      "with Spark NLP SentenceDetectorDL_HC\n",
      "=======================================\n",
      "0\t0\t81\tHe was given boluses of MS04 with some effect, he has since been placed on a PCA \n",
      "1\t82\t214\t- he take 80mg of oxycontin at home, his PCA dose is ~ 2 the morphine dose of the oxycontin, he has also received ativan for anxiety.\n",
      "2\t215\t283\tRepleted with 20 meq kcl po, 30 mmol K-phos iv and 2 gms mag so4 iv.\n",
      "3\t285\t614\tLASIX CHANGED TO 40 PO BID WHICH IS SAME AS HE TAKES AT HOME - RECEIVED 40 PO IN AM - 700CC U/O TOTAL FOR FLUID NEGATIVE ~ 600 THUS FAR TODAY, ~ 600 NEG LOS pt initially hypertensive 160s-180s gave prn doses if IV hydralazine without effect, labetalol increased from 100 mg to 200 mg PO TID which kept SBP > 160 for rest of night.\n",
      "4\t615\t744\tTransferred to the EW found to be hypertensive BP 253/167 HR 132 ST treated with IV NTG gtt 20-120mcg/ and captopril 12.5mg sl x3.\n",
      "5\t746\t1069\tDuring the day pt's resp status has been very tenuous, responded to lasix in the am but then became hypotensive around 1800 tx with 500cc NS bolus and a unit of RBC did improve her BP to 90-100/60 but also became increasingly more tachypneic, RR 30-40's crackles went from bases bilaterally to [**2-14**] way up bilaterally.\n",
      "6\t1070\t1156\tLasix given 10mg x 2 during the evening without much change in her respiratory status.\n",
      "7\t1157\t1247\t10units iv insulin given, 1 amps of 50%dextrose, 1amp of sodium bicard, 2gm calc gluconate.\n",
      "8\t1248\t1304\tLOPRESSOR 7MG IV Q6H, ENALAPRIL 0.625MG IV Q6H TOLERATED.\n",
      "9\t1306\t1460\tID: Continues to receive flagyl, linazolid, pipercillin, ambisome, gent, and acyclovir, the acyclovir was changed from PO to IV-to be given after dialysis.\n",
      "10\t1461\t1572\tMeds- Lipitor, procardia, synthroid, lisinopril, pepcid, actonel, calcium, MVI Social- Denies tobacco and drugs.\n"
     ]
    }
   ],
   "source": [
    "get_sentences_sddl(random_broken_text_1)"
   ]
  },
  {
   "cell_type": "code",
   "execution_count": 19,
   "metadata": {
    "colab": {
     "base_uri": "https://localhost:8080/"
    },
    "id": "Do5n5_UsUhI6",
    "outputId": "0336d494-a76d-43e3-c515-59b61bda4d3b"
   },
   "outputs": [
    {
     "name": "stdout",
     "output_type": "stream",
     "text": [
      "\n",
      "with Spacy Sentence Detection\n",
      "===================================\n",
      "0 \t He was given boluses of MS04 with some effect, he has since been placed on a PCA - he take 80mg of oxycontin at home, his PCA dose is ~ 2 the morphine dose of the oxycontin, he has also received ativan for anxiety.\n",
      "1 \t Repleted with 20 meq kcl po, 30 m\n",
      "2 \t mol K-phos iv and 2 gms\n",
      "3 \t mag\n",
      "4 \t so4 iv.\n",
      "5 \t LASIX CHANGED TO 40 PO BID WHICH IS SAME AS\n",
      "6 \t HE TAKES\n",
      "7 \t AT HOME - RECEIVED 40 PO\n",
      "8 \t IN AM - 700CC U/\n",
      "9 \t O TOTAL FOR FLUID NEGATIVE ~\n",
      "10 \t 600 THUS FAR TODAY, ~ 600 NEG LOS pt initially hypertensive 160s-180s gave prn doses\n",
      "11 \t if IV hydralazine without effect, labetalol increased from 100 mg to 200 mg PO TID which kept SBP > 160 for rest of night.\n",
      "12 \t Transferred to the EW found to be hypertensive BP 253/167 HR\n",
      "13 \t 132 ST treated with IV NTG gtt 20-120mcg/ and captopril 12.5mg sl x3.\n",
      "14 \t During the day pt's resp status has been very tenuous, responded to lasix in the am but then became hypotensive around 1800 tx with 500cc NS bolus and a unit of RBC did improve her BP to 90-100/60 but also became increasingly more tachypneic, RR 30-40's crackles went from bases bilaterally to [*\n",
      "15 \t *2-14\n",
      "16 \t **] way up bilaterally.\n",
      "17 \t Lasix given 10mg x 2 during the evening without much change in her respiratory status.10units iv insulin given, 1 amps of 50%dextrose, 1amp of sodium bicard, 2gm calc gluconate.\n",
      "18 \t LOPRESSOR 7MG IV Q6H, ENALAPRIL 0.625MG IV Q6H TOLERATED.\n",
      "19 \t ID:\n",
      "20 \t Continues to receive flagyl, linazolid, pipercillin, ambisome, gent, and acyclovir, the acyclovir was changed from PO to IV-to be given after dialysis.\n",
      "21 \t Meds-\n",
      "22 \t Lipitor, procardia, synthroid, lisinopril, pepcid, actonel, calcium, MVI Social- Denies tobacco and drugs.\n"
     ]
    }
   ],
   "source": [
    "get_sentences_spacy(random_broken_text_1)"
   ]
  },
  {
   "cell_type": "markdown",
   "metadata": {
    "id": "xAEZCTRXUk70"
   },
   "source": [
    "### Broken Text 2"
   ]
  },
  {
   "cell_type": "code",
   "execution_count": 20,
   "metadata": {
    "application/vnd.databricks.v1+cell": {
     "inputWidgets": {},
     "nuid": "5ef7ffac-5380-4a6d-88ec-dca8ffbebc35",
     "showTitle": false,
     "title": ""
    },
    "id": "Cu6tHQMjDc9C"
   },
   "outputs": [],
   "source": [
    "random_broken_text_2 = '''A 28-year-\n",
    "old female with a history of gestational diabetes mellitus diagnosed eight years prior to presentation and subsequent type two diabetes mellitus ( \n",
    "T2DM ), \n",
    "one prior episode of HTG-induced pancreatitis three years prior to presentation,  associated with an acute hepatitis , and obesity with a body mass index ( BMI ) of 33.5 \n",
    "kg/m2 , presented with a one-\n",
    "week history of polyuria , polydipsia , poor appetite , and vomiting.Two weeks prior to presentation , she was treated with a five-day course of \n",
    "amoxicillin for a respiratory tract infection.She was on metformin , glipizide , and dapagliflozin for T2DM and atorvastatin and gemfibrozil for HTG . She had been on dapagliflozin for six months at the time of \n",
    "presentation. Physical examination on presentation was significant for dry oral mucosa ; significantly , her abdominal examination was benign with no tenderness , guarding , or rigidity . \n",
    "Pertinent laboratory findings on admission were : serum glucose 111 mg\n",
    "/dl , bicarbonate 18 mmol/l , \n",
    "anion gap 20 , creatinine 0.4 mg/dL , triglycerides 508 mg\n",
    "/dL , total cholesterol 122 \n",
    "mg/dL , glycated hemoglobin ( HbA1c \n",
    ") 10% , and venous pH 7.27 .Serum lipase was normal at 43U/L .Serum acetone levels could not be assessed as blood samples kept hemolyzing due to significant lipemia.The patient was initially admitted for starvation ketosis , as she reported poor oral intake for three days prior to admission.However , serum chemistry obtained six hours after presentation revealed her glucose was\n",
    " 186 mg/dL , the anion gap was still elevated at 21 , serum bicarbonate was 16 mmol/L , triglyceride level peaked at 2050 \n",
    " mg/dL , and lipase was 52 U/L.The β-hydroxybutyrate level was obtained and found to be elevated at 5.\n",
    " 29 \n",
    " mmol/L - \n",
    " the original sample was centrifuged and the chylomicron layer removed prior to analysis due to interference from turbidity caused by lipemia again.The patient was treated with an insulin drip for euDKA \n",
    " and HTG with a reduction in the anion gap to 13 and triglycerides to 1400 mg/\n",
    " dL , within 24 hours.Her euDKA was thought to be precipitated by her respiratory tract infection in the setting of SGLT2 inhibitor use . \n",
    " The patient was seen by the endocrinology service and she was discharged on 40\n",
    "  units of insulin glargine at night , \n",
    "12 units of insulin lispro with meals , and metformin 1000 mg two times a day.It was determined that all SGLT2 inhibitors should be discontinued indefinitely .'''"
   ]
  },
  {
   "cell_type": "code",
   "execution_count": 21,
   "metadata": {
    "colab": {
     "base_uri": "https://localhost:8080/"
    },
    "id": "kOUtFBOuUoCm",
    "outputId": "f106ae6b-d6aa-43cb-acb1-a1770e9e8f49"
   },
   "outputs": [
    {
     "name": "stdout",
     "output_type": "stream",
     "text": [
      "with Spark NLP SentenceDetectorDL_HC\n",
      "=======================================\n",
      "0\t0\t437\tA 28-year-old female with a history of gestational diabetes mellitus diagnosed eight years prior to presentation and subsequent type two diabetes mellitus ( T2DM ), one prior episode of HTG-induced pancreatitis three years prior to presentation,  associated with an acute hepatitis , and obesity with a body mass index ( BMI ) of 33.5 kg/m2 , presented with a one-week history of polyuria , polydipsia , poor appetite , and vomiting.\n",
      "1\t438\t560\tTwo weeks prior to presentation , she was treated with a five-day course of amoxicillin for a respiratory tract infection.\n",
      "2\t561\t664\tShe was on metformin , glipizide , and dapagliflozin for T2DM and atorvastatin and gemfibrozil for HTG .\n",
      "3\t666\t739\tShe had been on dapagliflozin for six months at the time of presentation.\n",
      "4\t741\t913\tPhysical examination on presentation was significant for dry oral mucosa ; significantly , her abdominal examination was benign with no tenderness , guarding , or rigidity .\n",
      "5\t916\t1170\tPertinent laboratory findings on admission were : serum glucose 111 mg/dl , bicarbonate 18 mmol/l , anion gap 20 , creatinine 0.4 mg/dL , triglycerides 508 mg/dL , total cholesterol 122 mg/dL , glycated hemoglobin ( HbA1c ) 10% , and venous pH 7.27 .\n",
      "6\t1171\t1204\tSerum lipase was normal at 43U/L .\n",
      "7\t1205\t1307\tSerum acetone levels could not be assessed as blood samples kept hemolyzing due to significant lipemia.\n",
      "8\t1308\t1434\tThe patient was initially admitted for starvation ketosis , as she reported poor oral intake for three days prior to admission.\n",
      "9\t1435\t1523\tHowever , serum chemistry obtained six hours after presentation revealed her glucose was\n",
      "10\t1525\t1677\t186 mg/dL , the anion gap was still elevated at 21 , serum bicarbonate was 16 mmol/L , triglyceride level peaked at 2050  mg/dL , and lipase was 52 U/L.\n",
      "11\t1678\t1913\tThe β-hydroxybutyrate level was obtained and found to be elevated at 5. 29  mmol/L -  the original sample was centrifuged and the chylomicron layer removed prior to analysis due to interference from turbidity caused by lipemia again.\n",
      "12\t1914\t2070\tThe patient was treated with an insulin drip for euDKA  and HTG with a reduction in the anion gap to 13 and triglycerides to 1400 mg/ dL , within 24 hours.\n",
      "13\t2071\t2185\tHer euDKA was thought to be precipitated by her respiratory tract infection in the setting of SGLT2 inhibitor use .\n",
      "14\t2189\t2385\tThe patient was seen by the endocrinology service and she was discharged on 40  units of insulin glargine at night , 12 units of insulin lispro with meals , and metformin 1000 mg two times a day.\n",
      "15\t2386\t2466\tIt was determined that all SGLT2 inhibitors should be discontinued indefinitely .\n",
      "\n",
      "with Spacy Sentence Detection\n",
      "===================================\n",
      "0 \t A 28-year-old female with a history of gestational diabetes mellitus diagnosed eight years prior to presentation and subsequent type\n",
      "1 \t two diabetes mellitus ( T2DM ), \n",
      "2 \t one prior episode of HTG-induced pancreatitis three years prior to presentation,  associated with an acute hepatitis , and obesity with a body mass index ( BMI ) of 33.5 kg/m2 , presented with a one-week history of polyuria , polydipsia , poor appetite , and vomiting.\n",
      "3 \t Two weeks prior to presentation , she was treated with a five-day course of amoxicillin for a respiratory tract infection.\n",
      "4 \t She was on metformin , glipizide , and dapagliflozin for T2DM and atorvastatin and gemfibrozil for HTG .\n",
      "5 \t She had been on dapagliflozin for six months at the time of presentation.\n",
      "6 \t Physical examination on presentation was significant for dry oral mucosa ; significantly , her abdominal examination was benign with no tenderness , guarding , or rigidity . \n",
      "7 \t Pertinent laboratory findings on admission were :\n",
      "8 \t serum glucose 111 mg\n",
      "9 \t /dl , bicarbonate 18 mmol/l , anion gap 20 , creatinine 0.4 mg/dL , triglycerides 508 mg/dL , total cholesterol 122 mg/dL ,\n",
      "10 \t glycated hemoglobin (\n",
      "11 \t HbA1c )\n",
      "12 \t 10% , and\n",
      "13 \t venous pH 7.27 .Serum lipase was normal at 43U/L .Serum acetone levels could not be assessed as blood samples kept hemolyzing due to significant lipemia.\n",
      "14 \t The patient was initially admitted for starvation ketosis , as she reported poor oral intake for three days prior to admission.\n",
      "15 \t However , serum chemistry obtained six hours after presentation revealed her glucose was \n",
      "16 \t 186 mg/dL , the anion gap was still elevated at 21 , serum bicarbonate was 16 mmol/L , triglyceride level peaked at 2050  mg/dL , and lipase was 52 U/\n",
      "17 \t L.The β-hydroxybutyrate level was obtained and found to be elevated at 5. \n",
      "18 \t 29  mmol/\n",
      "19 \t L\n",
      "20 \t -  \n",
      "21 \t the original sample was centrifuged and the chylomicron layer removed prior to analysis due to interference from turbidity caused by lipemia again.\n",
      "22 \t The patient was treated with an insulin drip for euDKA  and HTG with a reduction in the anion gap to 13 and triglycerides to 1400\n",
      "23 \t mg/ dL , within 24 hours.\n",
      "24 \t Her euDKA was thought to be precipitated by her respiratory tract infection in the setting of SGLT2 inhibitor use .  \n",
      "25 \t The patient was seen by the endocrinology service and she was discharged on 40  units of insulin glargine at night , \n",
      "26 \t 12 units of insulin lispro with meals , and metformin 1000 mg two times a day.\n",
      "27 \t It was determined that all SGLT2 inhibitors should be discontinued indefinitely .\n"
     ]
    }
   ],
   "source": [
    "get_sentences_sddl(random_broken_text_2)\n",
    "get_sentences_spacy(random_broken_text_2)"
   ]
  },
  {
   "cell_type": "markdown",
   "metadata": {
    "id": "Y7fnE_BEU4Tb"
   },
   "source": [
    "### Broken Text 3"
   ]
  },
  {
   "cell_type": "code",
   "execution_count": 22,
   "metadata": {
    "application/vnd.databricks.v1+cell": {
     "inputWidgets": {},
     "nuid": "2b1d0950-474e-4984-8bee-07d78616d2a4",
     "showTitle": false,
     "title": ""
    },
    "id": "5zgiUgoBDc9M"
   },
   "outputs": [],
   "source": [
    "random_broken_text_3 = ''' Tylenol 650mg po q6h CVS: Aspirin 121.5mg po daily for graft patency.npn 7p-7a: ccu nsg progress note: s/o: does understand and speak some eng, family visiting this eve and states that pt is oriented and appropriate for them resp--ls w/crackles approx 1/2 up, rr 20's, appeared sl sob, on 4l sat when sitting straight up 95-99%, when lying flat or turning s-s sat does drop to 88-93%, pt does not c/o feeling sob, \n",
    "sat does come back up when sitting up, did rec 40\n",
    "mg iv lasix cardiac--hr 90's sr w/occ pvc's, bp 95-\n",
    "106/50's, did not c/o any cp during the noc, conts on hep at 600u/\n",
    "hr, ptt during noc 79, am labs pnd, remains off pressors, at this time no further plans to swan pt or for her to go to cath lab, gi--abd soft, non tender to palpation, (+)bs, passing sm amt of brown soft stool, tol po's w/out diff renal--u/o cont'd low during the eve,\n",
    " team decided to give lasix 40mg in setting of crackles, decreased u/o \n",
    "and sob, did diuresis well to lasix, pt approx 700cc neg today access--pt has 3 peripheral iv's in place, all working, unable to draw bloods from pt d/t poor veins, pt is going to need access to draw bloods, ?central line or picc line social--son & dtr in visiting w/their famlies tonight, pt awake and conversing w/them a/p: cont to monitor/asses cvs follow resp status, additional\n",
    " lasix f/u w/team re: plan of care for her will need iv access for blood draws keep family & pt updated w/plan, Neuro:On propofol gtt dose increased from 20 to 40mcg/kg/min,moves all extrimities to pain,awaken to stimuly easily,purposeful movements.PERL,had an episode of seizure at 1815 <1min when neuro team in for exam ,responded to 2mg ativan on keprra Iv BID.2 grams mag sulfate given, IVF bolus 250 cc started, approx 50 cc in then dc'd d/t PAD's, \n",
    " 2.5 mg IV lopressor given x 2 without effect. CCU NURSING 4P-7P S DENIES CP/SOB O. SEE CAREVUE FLOWSHEET FOR COMPLETE VS 1600 O2 SAT 91% ON 5L N/C, 1 U PRBC'S INFUSING, LUNGS CRACKLES BILATERALLY, LASIX 40MG IV ORDERED, 1200 CC U/O W/IMPROVED O2 SATS ON 4L N/C, IABP AT 1:1 BP 81-107/90-117/48-57, HR 70'S SR, GROIN SITES D+I, HEPARIN REMAINS AT 950 U/HR INTEGRELIN AT 2 MCGS/KG A: IMPROVED U/O AFTER LASIX, AWAITING CARDIAC SURGERY P: CONT SUPPORTIVE CARE, \n",
    " REPEAT HCT POST-TRANSFUSION, CHECK LYTES POST-DIURESIS AND REPLACE AS NEEDED, AWAITING CABG -DATE.Given 50mg IV benadryl and 2mg morphine as well as one aspirin PO and inch of NT paste. When pt remained tachycardic w/ frequent ectopy s/p KCL and tylenol for temp - Orders given by Dr. [**Last Name (STitle) 2025**] to increase diltiazem to 120mg PO QID and NS 250ml given X1 w/ moderate effect.Per team, the pts IV sedation was weaned over the course of the \n",
    " day and now infusing @ 110mcg/hr IV Fentanyl & 9mg/hr IV Verced c pt able to open eyes to verbal stimuli and nod head appropriately to simple commands (are you in pain?) .  A/P: 73 y/o male remains intubated, IVF boluses x2 for CVP <12, pt continues in NSR on PO amio 400 TID, dopamine gtt weaned down for MAPs>65 but the team felt he is overall receiving about the same amt fentanyl now as he has been in past few days, as the fentanyl patch 100\n",
    "mcg was added a 48 hrs ago to replace the decrease in the IV fentanyl gtt today (fent patch takes at least 24 hrs to kick in).Started valium 10mg po q6hrs at 1300 with prn IV valium as needed.'''"
   ]
  },
  {
   "cell_type": "code",
   "execution_count": 23,
   "metadata": {
    "colab": {
     "base_uri": "https://localhost:8080/"
    },
    "id": "LC2mfM9TU22R",
    "outputId": "1abb1614-edf9-43ca-9eb6-7cff35a5f5ba"
   },
   "outputs": [
    {
     "name": "stdout",
     "output_type": "stream",
     "text": [
      "with Spark NLP SentenceDetectorDL_HC\n",
      "=======================================\n",
      "0\t1\t1426\tTylenol 650mg po q6h CVS: Aspirin 121.5mg po daily for graft patency.npn 7p-7a: ccu nsg progress note: s/o: does understand and speak some eng, family visiting this eve and states that pt is oriented and appropriate for them resp--ls w/crackles approx 1/2 up, rr 20's, appeared sl sob, on 4l sat when sitting straight up 95-99%, when lying flat or turning s-s sat does drop to 88-93%, pt does not c/o feeling sob, sat does come back up when sitting up, did rec 40mg iv lasix cardiac--hr 90's sr w/occ pvc's, bp 95-106/50's, did not c/o any cp during the noc, conts on hep at 600u/hr, ptt during noc 79, am labs pnd, remains off pressors, at this time no further plans to swan pt or for her to go to cath lab, gi--abd soft, non tender to palpation, (+)bs, passing sm amt of brown soft stool, tol po's w/out diff renal--u/o cont'd low during the eve, team decided to give lasix 40mg in setting of crackles, decreased u/o and sob, did diuresis well to lasix, pt approx 700cc neg today access--pt has 3 peripheral iv's in place, all working, unable to draw bloods from pt d/t poor veins, pt is going to need access to draw bloods, ?central line or picc line social--son & dtr in visiting w/their famlies tonight, pt awake and conversing w/them a/p: cont to monitor/asses cvs follow resp status, additional lasix f/u w/team re: plan of care for her will need iv access for blood draws keep family & pt updated w/plan, Neuro:\n",
      "1\t1427\t1557\tOn propofol gtt dose increased from 20 to 40mcg/kg/min,moves all extrimities to pain,awaken to stimuly easily,purposeful movements.\n",
      "2\t1558\t1763\tPERL,had an episode of seizure at 1815 <1min when neuro team in for exam ,responded to 2mg ativan on keprra Iv BID.2 grams mag sulfate given, IVF bolus 250 cc started, approx 50 cc in then dc'd d/t PAD's, \n",
      "3\t1765\t1809\t2.5 mg IV lopressor given x 2 without effect.\n",
      "4\t1811\t2223\tCCU NURSING 4P-7P S DENIES CP/SOB O. SEE CAREVUE FLOWSHEET FOR COMPLETE VS 1600 O2 SAT 91% ON 5L N/C, 1 U PRBC'S INFUSING, LUNGS CRACKLES BILATERALLY, LASIX 40MG IV ORDERED, 1200 CC U/O W/IMPROVED O2 SATS ON 4L N/C, IABP AT 1:1 BP 81-107/90-117/48-57, HR 70'S SR, GROIN SITES D+I, HEPARIN REMAINS AT 950 U/HR INTEGRELIN AT 2 MCGS/KG A: IMPROVED U/O AFTER LASIX, AWAITING CARDIAC SURGERY P: CONT SUPPORTIVE CARE, \n",
      "5\t2225\t2322\tREPEAT HCT POST-TRANSFUSION, CHECK LYTES POST-DIURESIS AND REPLACE AS NEEDED, AWAITING CABG -DATE.\n",
      "6\t2323\t2409\tGiven 50mg IV benadryl and 2mg morphine as well as one aspirin PO and inch of NT paste.\n",
      "7\t2411\t2618\tWhen pt remained tachycardic w/ frequent ectopy s/p KCL and tylenol for temp - Orders given by Dr. [**Last Name (STitle) 2025**] to increase diltiazem to 120mg PO QID and NS 250ml given X1 w/ moderate effect.\n",
      "8\t2619\t2855\tPer team, the pts IV sedation was weaned over the course of the  day and now infusing @ 110mcg/hr IV Fentanyl & 9mg/hr IV Verced c pt able to open eyes to verbal stimuli and nod head appropriately to simple commands (are you in pain?) .\n",
      "9\t2858\t3257\tA/P: 73 y/o male remains intubated, IVF boluses x2 for CVP <12, pt continues in NSR on PO amio 400 TID, dopamine gtt weaned down for MAPs>65 but the team felt he is overall receiving about the same amt fentanyl now as he has been in past few days, as the fentanyl patch 100mcg was added a 48 hrs ago to replace the decrease in the IV fentanyl gtt today (fent patch takes at least 24 hrs to kick in).\n",
      "10\t3258\t3323\tStarted valium 10mg po q6hrs at 1300 with prn IV valium as needed.\n",
      "\n",
      "with Spacy Sentence Detection\n",
      "===================================\n",
      "0 \t  Tylenol 650\n",
      "1 \t mg po q6h CVS:\n",
      "2 \t Aspirin 121.5mg po daily for graft patency.npn 7p-7a:\n",
      "3 \t ccu nsg progress note:\n",
      "4 \t s\n",
      "5 \t /o: does understand and speak some eng, family visiting this eve and states that pt is oriented and appropriate for them resp--\n",
      "6 \t ls w/crackles approx 1/2 up, rr 20's, appeared sl sob, on 4l sat when sitting straight up 95-99%, when lying flat or turning\n",
      "7 \t s-s sat does drop to 88-93%,\n",
      "8 \t pt does not c/o feeling sob, sat does come back up when sitting up, did rec 40\n",
      "9 \t mg iv lasix cardiac--hr\n",
      "10 \t 90's sr w/occ pvc's, bp 95-\n",
      "11 \t 106/50's, did not c\n",
      "12 \t /o any cp during the noc, conts on hep at 600u/\n",
      "13 \t hr, ptt during noc 79, am labs pnd, remains off pressors, at this time no further plans to swan pt or for her to go to cath lab, gi--abd soft, non tender to palpation, (+)\n",
      "14 \t bs, passing sm amt of brown soft stool, tol po's\n",
      "15 \t w/out diff renal--\n",
      "16 \t u/o cont'd low during the eve\n",
      "17 \t , team decided to give lasix 40mg in setting of crackles, decreased u/o and sob, did diuresis well to lasix,\n",
      "18 \t pt approx 700cc neg today access--pt has 3 peripheral\n",
      "19 \t iv's in place, all working, unable to draw bloods from pt d/\n",
      "20 \t t poor veins, pt is going to need access to draw bloods, ?\n",
      "21 \t central line or picc line social--son & dtr in visiting w/their famlies tonight,\n",
      "22 \t pt awake and conversing\n",
      "23 \t w\n",
      "24 \t /them\n",
      "25 \t a/p: cont to monitor/asses\n",
      "26 \t cvs follow resp status, additional lasix f/u w/team\n",
      "27 \t re:\n",
      "28 \t plan of care for her will need iv access for blood draws keep family & pt updated w/plan, Neuro:\n",
      "29 \t On propofol gtt dose increased from 20 to 40mcg/kg/min,moves all extrimities to pain,awaken to stimuly easily,purposeful movements.\n",
      "30 \t PERL,had an episode of seizure at 1815 <1min when neuro team in for exam ,responded to 2mg ativan on keprra\n",
      "31 \t Iv BID.2 grams mag\n",
      "32 \t sulfate given\n",
      "33 \t , IVF bolus 250 cc started, approx 50 cc in then\n",
      "34 \t dc'd d/t PAD's,  2.5 mg IV lopressor given x 2 without effect.\n",
      "35 \t CCU NURSING 4P-7P\n",
      "36 \t S DENIES\n",
      "37 \t CP/SOB O. SEE CAREVUE FLOWSHEET FOR COMPLETE VS\n",
      "38 \t 1600\n",
      "39 \t O2 SAT 91% ON 5L N/C, 1\n",
      "40 \t U PRBC'S\n",
      "41 \t INFUSING, LUNGS CRACKLES BILATERALLY, LASIX 40MG\n",
      "42 \t IV ORDERED, 1200 CC U/O W/IMPROVED\n",
      "43 \t O2 SATS ON 4L N/C,\n",
      "44 \t IABP AT 1:1 BP 81-107/90-117/48-57,\n",
      "45 \t HR 70'S SR, GROIN SITES D+I\n",
      "46 \t , HEPARIN REMAINS\n",
      "47 \t AT 950 U/HR\n",
      "48 \t INTEGRELIN\n",
      "49 \t AT 2 MCGS/KG A:\n",
      "50 \t IMPROVED\n",
      "51 \t U/O\n",
      "52 \t AFTER LASIX\n",
      "53 \t , AWAITING CARDIAC SURGERY P: CONT SUPPORTIVE CARE,  REPEAT HCT POST-TRANSFUSION, CHECK LYTES POST-DIURESIS AND REPLACE AS NEEDED, AWAITING CABG\n",
      "54 \t -DATE.Given 50mg IV benadryl and 2mg morphine as well as one aspirin PO and inch of NT paste.\n",
      "55 \t When pt remained tachycardic\n",
      "56 \t w/ frequent ectopy s/p KCL and tylenol for temp - Orders given by Dr.\n",
      "57 \t [\n",
      "58 \t *\n",
      "59 \t *\n",
      "60 \t Last Name (STitle)\n",
      "61 \t 2025\n",
      "62 \t **] to increase diltiazem to 120mg PO QID and NS 250ml given X1 w/ moderate effect.\n",
      "63 \t Per team, the pts IV sedation was weaned over the course of the  day and now infusing @ 110mcg/hr IV Fentanyl & 9mg/hr IV Verced c pt able to open eyes to verbal stimuli and nod head appropriately to simple commands (are you in pain?) .  \n",
      "64 \t A/P: 73 y/\n",
      "65 \t o male remains intubated, IVF boluses x2 for CVP <12, pt continues in NSR on PO amio 400 TID, dopamine gtt weaned down for MAPs>65\n",
      "66 \t but the team felt he is overall receiving about the same amt fentanyl now as he has been in past few days, as the fentanyl patch 100\n",
      "67 \t mcg was added a 48 hrs ago to replace the decrease in the IV fentanyl gtt today\n",
      "68 \t (fent patch takes at least 24 hrs to kick in).Started valium 10mg po q6hrs at 1300 with prn IV valium as needed.\n"
     ]
    }
   ],
   "source": [
    "get_sentences_sddl(random_broken_text_3)\n",
    "get_sentences_spacy(random_broken_text_3)"
   ]
  }
 ],
 "metadata": {
  "application/vnd.databricks.v1+notebook": {
   "dashboards": [],
   "language": "python",
   "notebookName": "20.SentenceDetectorDL_HC_v2.7.0",
   "notebookOrigID": 353255996790638,
   "widgets": {}
  },
  "colab": {
   "collapsed_sections": [],
   "name": "20.SentenceDetectorDL_Healthcare.ipynb",
   "provenance": []
  },
  "kernelspec": {
   "display_name": "Python 3 (ipykernel)",
   "language": "python",
   "name": "python3"
  },
  "language_info": {
   "codemirror_mode": {
    "name": "ipython",
    "version": 3
   },
   "file_extension": ".py",
   "mimetype": "text/x-python",
   "name": "python",
   "nbconvert_exporter": "python",
   "pygments_lexer": "ipython3",
   "version": "3.7.6"
  }
 },
 "nbformat": 4,
 "nbformat_minor": 1
}

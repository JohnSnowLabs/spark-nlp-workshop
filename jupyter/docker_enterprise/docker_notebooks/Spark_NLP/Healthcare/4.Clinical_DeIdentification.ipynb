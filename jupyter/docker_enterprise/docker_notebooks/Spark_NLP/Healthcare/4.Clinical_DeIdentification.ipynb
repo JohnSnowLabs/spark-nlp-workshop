{
 "cells": [
  {
   "cell_type": "markdown",
   "metadata": {
    "id": "I08sFJYCxR0Z"
   },
   "source": [
    "![JohnSnowLabs](https://nlp.johnsnowlabs.com/assets/images/logo.png)"
   ]
  },
  {
   "cell_type": "markdown",
   "metadata": {
    "id": "LKI5K1wQrSe9"
   },
   "source": [
    "[![Open In Colab](https://colab.research.google.com/assets/colab-badge.svg)](https://colab.research.google.com/github/JohnSnowLabs/spark-nlp-workshop/blob/master/tutorials/Certification_Trainings/Healthcare/4.Clinical_DeIdentification.ipynb)\n"
   ]
  },
  {
   "cell_type": "markdown",
   "metadata": {
    "id": "Niy3mZAjoayg"
   },
   "source": [
    "# Clinical Deidentification"
   ]
  },
  {
   "cell_type": "code",
   "execution_count": 49,
   "metadata": {
    "id": "Uq0mPLNNLuSy"
   },
   "outputs": [],
   "source": [
    "import os\n",
    "\n",
    "jsl_secret = os.getenv('SECRET')\n",
    "\n",
    "import sparknlp\n",
    "sparknlp_version = sparknlp.version()\n",
    "import sparknlp_jsl\n",
    "jsl_version = sparknlp_jsl.version()\n",
    "\n",
    "print (jsl_secret)"
   ]
  },
  {
   "cell_type": "code",
   "execution_count": 50,
   "metadata": {
    "colab": {
     "base_uri": "https://localhost:8080/"
    },
    "id": "iUNHVaSdL0tO",
    "outputId": "36fe84bc-91c5-4466-b046-c8919b63c391"
   },
   "outputs": [
    {
     "name": "stdout",
     "output_type": "stream",
     "text": [
      "Spark NLP Version : 3.1.1\n",
      "Spark NLP_JSL Version : 3.1.3\n"
     ]
    }
   ],
   "source": [
    "import json\n",
    "import os\n",
    "from pyspark.ml import Pipeline, PipelineModel\n",
    "from pyspark.sql import SparkSession\n",
    "\n",
    "from sparknlp.annotator import *\n",
    "from sparknlp_jsl.annotator import *\n",
    "from sparknlp.base import *\n",
    "import sparknlp_jsl\n",
    "import sparknlp\n",
    "\n",
    "from sparknlp.util import *\n",
    "from sparknlp.pretrained import ResourceDownloader\n",
    "from pyspark.sql import functions as F\n",
    "\n",
    "import pandas as pd\n",
    "\n",
    "pd.set_option('display.max_columns', None)  \n",
    "pd.set_option('display.expand_frame_repr', False)\n",
    "pd.set_option('max_colwidth', None)\n",
    "\n",
    "import string\n",
    "import numpy as np\n",
    "\n",
    "params = {\"spark.driver.memory\":\"16G\",\n",
    "\"spark.kryoserializer.buffer.max\":\"2000M\",\n",
    "\"spark.driver.maxResultSize\":\"2000M\"}\n",
    "\n",
    "spark = sparknlp_jsl.start(jsl_secret, params=params)\n",
    "\n",
    "print (\"Spark NLP Version :\", sparknlp.version())\n",
    "print (\"Spark NLP_JSL Version :\", sparknlp_jsl.version())"
   ]
  },
  {
   "cell_type": "code",
   "execution_count": 4,
   "metadata": {
    "id": "VtLIEJtPf88T"
   },
   "outputs": [],
   "source": [
    "# if you want to start the session with custom params as in start function above\n",
    "def start(secret):\n",
    "    builder = SparkSession.builder \\\n",
    "        .appName(\"Spark NLP Licensed\") \\\n",
    "        .master(\"local[*]\") \\\n",
    "        .config(\"spark.driver.memory\", \"16G\") \\\n",
    "        .config(\"spark.serializer\", \"org.apache.spark.serializer.KryoSerializer\") \\\n",
    "        .config(\"spark.kryoserializer.buffer.max\", \"2000M\") \\\n",
    "        .config(\"spark.jars.packages\", \"com.johnsnowlabs.nlp:spark-nlp_2.11:\"+version) \\\n",
    "        .config(\"spark.jars\", \"https://pypi.johnsnowlabs.com/\"+secret+\"/spark-nlp-jsl-\"+jsl_version+\".jar\")\n",
    "      \n",
    "    return builder.getOrCreate()\n",
    "\n",
    "#spark = start(secret)"
   ]
  },
  {
   "cell_type": "code",
   "execution_count": 51,
   "metadata": {
    "colab": {
     "base_uri": "https://localhost:8080/",
     "height": 219
    },
    "id": "V1wrGrq0GClP",
    "outputId": "d82a1198-4ae8-4a2c-835a-ec7c5704047c"
   },
   "outputs": [
    {
     "data": {
      "text/html": [
       "\n",
       "            <div>\n",
       "                <p><b>SparkSession - in-memory</b></p>\n",
       "                \n",
       "        <div>\n",
       "            <p><b>SparkContext</b></p>\n",
       "\n",
       "            <p><a href=\"http://a0b165bdf221:4040\">Spark UI</a></p>\n",
       "\n",
       "            <dl>\n",
       "              <dt>Version</dt>\n",
       "                <dd><code>v3.1.1</code></dd>\n",
       "              <dt>Master</dt>\n",
       "                <dd><code>local[*]</code></dd>\n",
       "              <dt>AppName</dt>\n",
       "                <dd><code>Spark NLP Licensed</code></dd>\n",
       "            </dl>\n",
       "        </div>\n",
       "        \n",
       "            </div>\n",
       "        "
      ],
      "text/plain": [
       "<pyspark.sql.session.SparkSession at 0x7f135ef56950>"
      ]
     },
     "execution_count": 51,
     "metadata": {
      "tags": []
     },
     "output_type": "execute_result"
    }
   ],
   "source": [
    "spark"
   ]
  },
  {
   "cell_type": "markdown",
   "metadata": {
    "id": "rFQifkFYihOc"
   },
   "source": [
    "# Deidentification Model"
   ]
  },
  {
   "cell_type": "markdown",
   "metadata": {
    "id": "2eY0jM7kf88f"
   },
   "source": [
    "Protected Health Information: \n",
    "- individual’s past, present, or future physical or mental health or condition\n",
    "- provision of health care to the individual\n",
    "- past, present, or future payment for the health care \n",
    "\n",
    "Protected health information includes many common identifiers (e.g., name, address, birth date, Social Security Number) when they can be associated with the health information."
   ]
  },
  {
   "cell_type": "markdown",
   "metadata": {
    "id": "ZKln9C7Ef88f"
   },
   "source": [
    "Load NER pipeline to identify protected entities:"
   ]
  },
  {
   "cell_type": "code",
   "execution_count": 52,
   "metadata": {
    "colab": {
     "base_uri": "https://localhost:8080/"
    },
    "id": "qHzG7Wvhgcex",
    "outputId": "d809e297-d345-455c-8c77-e06ecb64be63"
   },
   "outputs": [
    {
     "name": "stdout",
     "output_type": "stream",
     "text": [
      "embeddings_clinical download started this may take some time.\n",
      "Approximate size to download 1.6 GB\n",
      "[OK!]\n",
      "ner_deid_generic_augmented download started this may take some time.\n",
      "Approximate size to download 13.8 MB\n",
      "[OK!]\n"
     ]
    }
   ],
   "source": [
    "documentAssembler = DocumentAssembler()\\\n",
    "      .setInputCol(\"text\")\\\n",
    "      .setOutputCol(\"document\")\n",
    "\n",
    "# Sentence Detector annotator, processes various sentences per line\n",
    "\n",
    "sentenceDetector = SentenceDetector()\\\n",
    "      .setInputCols([\"document\"])\\\n",
    "      .setOutputCol(\"sentence\")\n",
    "\n",
    "# Tokenizer splits words in a relevant format for NLP\n",
    "\n",
    "tokenizer = Tokenizer()\\\n",
    "      .setInputCols([\"sentence\"])\\\n",
    "      .setOutputCol(\"token\")\n",
    "\n",
    "# Clinical word embeddings trained on PubMED dataset\n",
    "\n",
    "word_embeddings = WordEmbeddingsModel.pretrained(\"embeddings_clinical\", \"en\", \"clinical/models\")\\\n",
    "      .setInputCols([\"sentence\", \"token\"])\\\n",
    "      .setOutputCol(\"embeddings\")\n",
    "\n",
    "# NER model trained on n2c2 (de-identification and Heart Disease Risk Factors Challenge) datasets)\n",
    "\n",
    "clinical_ner = MedicalNerModel.pretrained(\"ner_deid_generic_augmented\", \"en\", \"clinical/models\") \\\n",
    "      .setInputCols([\"sentence\", \"token\", \"embeddings\"]) \\\n",
    "      .setOutputCol(\"ner\")\n",
    "\n",
    "ner_converter = NerConverterInternal()\\\n",
    "      .setInputCols([\"sentence\", \"token\", \"ner\"])\\\n",
    "      .setOutputCol(\"ner_chunk\")\n",
    "\n",
    "nlpPipeline = Pipeline(stages=[\n",
    "      documentAssembler, \n",
    "      sentenceDetector,\n",
    "      tokenizer,\n",
    "      word_embeddings,\n",
    "      clinical_ner,\n",
    "      ner_converter])\n",
    "\n",
    "empty_data = spark.createDataFrame([[\"\"]]).toDF(\"text\")\n",
    "\n",
    "model = nlpPipeline.fit(empty_data)"
   ]
  },
  {
   "cell_type": "markdown",
   "metadata": {
    "id": "woAJhVv6f88m"
   },
   "source": [
    "### Pretrained NER models extracts:\n",
    "\n",
    "- Name\n",
    "- Profession\n",
    "- Age\n",
    "- Date\n",
    "- Contact(Telephone numbers, FAX numbers, Email addresses)\n",
    "- Location (Address, City, Postal code, Hospital Name, Employment information)\n",
    "- Id (Social Security numbers, Medical record numbers, Internet protocol addresses)"
   ]
  },
  {
   "cell_type": "code",
   "execution_count": 53,
   "metadata": {
    "id": "Fxdh4CBBf88n"
   },
   "outputs": [],
   "source": [
    "text ='''\n",
    "A . Record date : 2093-01-13 , David Hale , M.D . , Name : Hendrickson , Ora MR . # 7194334 Date : 01/13/93 PCP : Oliveira , 25 years-old , Record date : 2079-11-09 . Cocke County Baptist Hospital . 0295 Keats Street\n",
    "'''"
   ]
  },
  {
   "cell_type": "code",
   "execution_count": 54,
   "metadata": {
    "id": "AE7cILT6f88q"
   },
   "outputs": [],
   "source": [
    "result = model.transform(spark.createDataFrame([[text]]).toDF(\"text\"))"
   ]
  },
  {
   "cell_type": "code",
   "execution_count": 55,
   "metadata": {
    "id": "5cxcMyvLf88u"
   },
   "outputs": [],
   "source": [
    "result_df = result.select(F.explode(F.arrays_zip('token.result', 'ner.result')).alias(\"cols\")) \\\n",
    ".select(F.expr(\"cols['0']\").alias(\"token\"),\n",
    "        F.expr(\"cols['1']\").alias(\"ner_label\"))"
   ]
  },
  {
   "cell_type": "code",
   "execution_count": 56,
   "metadata": {
    "colab": {
     "base_uri": "https://localhost:8080/"
    },
    "id": "Nunb_ZZpar4q",
    "outputId": "e2d3ebd7-518d-4e07-d09e-a653b45bbbeb"
   },
   "outputs": [
    {
     "name": "stdout",
     "output_type": "stream",
     "text": [
      "+----------+-----+\n",
      "|ner_label |count|\n",
      "+----------+-----+\n",
      "|O         |27   |\n",
      "|I-LOCATION|5    |\n",
      "|I-NAME    |3    |\n",
      "|B-NAME    |3    |\n",
      "|B-DATE    |3    |\n",
      "|B-LOCATION|2    |\n",
      "|B-ID      |1    |\n",
      "|B-AGE     |1    |\n",
      "+----------+-----+\n",
      "\n"
     ]
    }
   ],
   "source": [
    "result_df.select(\"token\", \"ner_label\").groupBy('ner_label').count().orderBy('count', ascending=False).show(truncate=False)"
   ]
  },
  {
   "cell_type": "markdown",
   "metadata": {
    "id": "DJvt31qlf880"
   },
   "source": [
    "### Check extracted sensetive entities"
   ]
  },
  {
   "cell_type": "code",
   "execution_count": 57,
   "metadata": {
    "colab": {
     "base_uri": "https://localhost:8080/"
    },
    "id": "fLuOc_dQa9as",
    "outputId": "6fd100d9-653f-4916-87d7-806fcd30444b"
   },
   "outputs": [
    {
     "name": "stdout",
     "output_type": "stream",
     "text": [
      "+-----------------------------+---------+\n",
      "|chunk                        |ner_label|\n",
      "+-----------------------------+---------+\n",
      "|2093-01-13                   |DATE     |\n",
      "|David Hale                   |NAME     |\n",
      "|Hendrickson , Ora            |NAME     |\n",
      "|7194334                      |ID       |\n",
      "|01/13/93                     |DATE     |\n",
      "|Oliveira                     |NAME     |\n",
      "|25                           |AGE      |\n",
      "|2079-11-09                   |DATE     |\n",
      "|Cocke County Baptist Hospital|LOCATION |\n",
      "|0295 Keats Street            |LOCATION |\n",
      "+-----------------------------+---------+\n",
      "\n"
     ]
    }
   ],
   "source": [
    "result.select(F.explode(F.arrays_zip('ner_chunk.result', 'ner_chunk.metadata')).alias(\"cols\")) \\\n",
    ".select(F.expr(\"cols['0']\").alias(\"chunk\"),\n",
    "        F.expr(\"cols['1']['entity']\").alias(\"ner_label\")).show(truncate=False)"
   ]
  },
  {
   "cell_type": "markdown",
   "metadata": {
    "id": "EkD3zogqf89Q"
   },
   "source": [
    "### Excluding entities from deidentification"
   ]
  },
  {
   "cell_type": "markdown",
   "metadata": {
    "id": "my04HL3rf89Q"
   },
   "source": [
    "Sometimes we need to leave some entities in the text, for example, if we want to analyze the frequency of the disease by the hospital. In this case, we need to use parameter **setWhiteList()** to modify NerChunk output. This parameter having using a list of entities type to deidentify as an input. So, if we want to leave the location in the list we need to remove this tag from the list:"
   ]
  },
  {
   "cell_type": "code",
   "execution_count": 58,
   "metadata": {
    "id": "3Bj066u9f89R"
   },
   "outputs": [],
   "source": [
    "ner_converter = NerConverterInternal()\\\n",
    "    .setInputCols([\"sentence\", \"token\", \"ner\"])\\\n",
    "    .setOutputCol(\"ner_chunk\") \\\n",
    "    .setWhiteList(['NAME', 'PROFESSION', 'ID', 'AGE', 'DATE'])\n",
    "\n",
    "nlpPipeline = Pipeline(stages=[\n",
    "    documentAssembler, \n",
    "    sentenceDetector,\n",
    "    tokenizer,\n",
    "    word_embeddings,\n",
    "    clinical_ner,\n",
    "    ner_converter])\n",
    "\n",
    "empty_data = spark.createDataFrame([[\"\"]]).toDF(\"text\")\n",
    "\n",
    "model_with_white_list = nlpPipeline.fit(empty_data)"
   ]
  },
  {
   "cell_type": "code",
   "execution_count": 59,
   "metadata": {
    "id": "oWNZR2trf89U"
   },
   "outputs": [],
   "source": [
    "text ='''\n",
    "A . Record date : 2093-01-13 , David Hale , M.D . , Name : Hendrickson , Ora MR . # 7194334 Date : 01/13/93 PCP : Oliveira , 25 years-old , Record date : 2079-11-09 . Cocke County Baptist Hospital . 0295 Keats Street. Phone +1 (302) 786-5227.\n",
    "'''\n",
    "\n",
    "result_with_white_list = model_with_white_list.transform(spark.createDataFrame([[text]]).toDF(\"text\"))"
   ]
  },
  {
   "cell_type": "code",
   "execution_count": 60,
   "metadata": {
    "colab": {
     "base_uri": "https://localhost:8080/"
    },
    "id": "u37rm6C3bePi",
    "outputId": "98742f22-756b-430b-d5e0-0cc47c6ace96"
   },
   "outputs": [
    {
     "name": "stdout",
     "output_type": "stream",
     "text": [
      "+-----------------+---------+\n",
      "|chunk            |ner_label|\n",
      "+-----------------+---------+\n",
      "|2093-01-13       |DATE     |\n",
      "|David Hale       |NAME     |\n",
      "|Hendrickson , Ora|NAME     |\n",
      "|7194334          |ID       |\n",
      "|01/13/93         |DATE     |\n",
      "|Oliveira         |NAME     |\n",
      "|25               |AGE      |\n",
      "|2079-11-09       |DATE     |\n",
      "+-----------------+---------+\n",
      "\n"
     ]
    }
   ],
   "source": [
    "result_df = result.select(F.explode(F.arrays_zip('token.result', 'ner.result')).alias(\"cols\")) \\\n",
    ".select(F.expr(\"cols['0']\").alias(\"token\"),\n",
    "        F.expr(\"cols['1']\").alias(\"ner_label\"))\n",
    "\n",
    "result_with_white_list.select(F.explode(F.arrays_zip('ner_chunk.result', 'ner_chunk.metadata')).alias(\"cols\")) \\\n",
    ".select(F.expr(\"cols['0']\").alias(\"chunk\"),\n",
    "        F.expr(\"cols['1']['entity']\").alias(\"ner_label\")).show(truncate=False)"
   ]
  },
  {
   "cell_type": "markdown",
   "metadata": {
    "id": "rckvYUKVf89b"
   },
   "source": [
    "## Masking and Obfuscation"
   ]
  },
  {
   "cell_type": "markdown",
   "metadata": {
    "id": "HLt9SFX5f89b"
   },
   "source": [
    "### Replace this enitites with Tags"
   ]
  },
  {
   "cell_type": "code",
   "execution_count": 61,
   "metadata": {
    "id": "WaFe5bZzhEXT"
   },
   "outputs": [],
   "source": [
    "ner_converter = NerConverterInternal()\\\n",
    "      .setInputCols([\"sentence\", \"token\", \"ner\"])\\\n",
    "      .setOutputCol(\"ner_chunk\") \n",
    "\n",
    "deidentification = DeIdentification() \\\n",
    "      .setInputCols([\"sentence\", \"token\", \"ner_chunk\"]) \\\n",
    "      .setOutputCol(\"deidentified\") \\\n",
    "      .setMode(\"mask\")\\\n",
    "      .setReturnEntityMappings(True) #  return a new column to save the mappings between the mask/obfuscated entities and original entities.\n",
    "      #.setMappingsColumn(\"MappingCol\") # change the name of the column, 'aux' is default\n",
    "\n",
    "deidPipeline = Pipeline(stages=[\n",
    "      documentAssembler, \n",
    "      sentenceDetector,\n",
    "      tokenizer,\n",
    "      word_embeddings,\n",
    "      clinical_ner,\n",
    "      ner_converter,\n",
    "      deidentification])\n",
    "\n",
    "empty_data = spark.createDataFrame([[\"\"]]).toDF(\"text\")\n",
    "\n",
    "model_deid = deidPipeline.fit(empty_data)"
   ]
  },
  {
   "cell_type": "code",
   "execution_count": 62,
   "metadata": {
    "id": "CZ3QgzH2AD-h"
   },
   "outputs": [],
   "source": [
    "text ='''\n",
    "A . Record date : 2093-01-13 , David Hale , M.D . , Name : Hendrickson , Ora MR . # 7194334 Date : 01/13/93 PCP : Oliveira , 25 years-old , Record date : 2079-11-09 . Cocke County Baptist Hospital . 0295 Keats Street. Phone (302) 786-5227.\n",
    "'''\n",
    "result = model_deid.transform(spark.createDataFrame([[text]]).toDF(\"text\"))"
   ]
  },
  {
   "cell_type": "code",
   "execution_count": 63,
   "metadata": {
    "colab": {
     "base_uri": "https://localhost:8080/"
    },
    "id": "JR12_5hPdkg5",
    "outputId": "63b60666-7b0e-46ed-876c-8fac218cb498"
   },
   "outputs": [
    {
     "name": "stdout",
     "output_type": "stream",
     "text": [
      "+--------------------+--------------------+--------------------+--------------------+--------------------+--------------------+--------------------+--------------------+--------------------+\n",
      "|                text|            document|            sentence|               token|          embeddings|                 ner|           ner_chunk|        deidentified|                 aux|\n",
      "+--------------------+--------------------+--------------------+--------------------+--------------------+--------------------+--------------------+--------------------+--------------------+\n",
      "|\n",
      "A . Record date ...|[{document, 0, 24...|[{document, 1, 3,...|[{token, 1, 1, A,...|[{word_embeddings...|[{named_entity, 1...|[{chunk, 19, 28, ...|[{document, 0, 2,...|[{chunk, 17, 22, ...|\n",
      "+--------------------+--------------------+--------------------+--------------------+--------------------+--------------------+--------------------+--------------------+--------------------+\n",
      "\n"
     ]
    }
   ],
   "source": [
    "result.show()"
   ]
  },
  {
   "cell_type": "code",
   "execution_count": 64,
   "metadata": {
    "colab": {
     "base_uri": "https://localhost:8080/"
    },
    "id": "CTWYcnMbbrkD",
    "outputId": "241cae1f-afff-4f48-8c09-fc4d51213ae4"
   },
   "outputs": [
    {
     "name": "stdout",
     "output_type": "stream",
     "text": [
      "+-----------------------------+---------+\n",
      "|chunk                        |ner_label|\n",
      "+-----------------------------+---------+\n",
      "|2093-01-13                   |DATE     |\n",
      "|David Hale                   |NAME     |\n",
      "|Hendrickson , Ora            |NAME     |\n",
      "|7194334                      |ID       |\n",
      "|01/13/93                     |DATE     |\n",
      "|Oliveira                     |NAME     |\n",
      "|25                           |AGE      |\n",
      "|2079-11-09                   |DATE     |\n",
      "|Cocke County Baptist Hospital|LOCATION |\n",
      "|0295 Keats Street            |LOCATION |\n",
      "|(302) 786-5227               |CONTACT  |\n",
      "+-----------------------------+---------+\n",
      "\n"
     ]
    }
   ],
   "source": [
    "result.select(F.explode(F.arrays_zip('ner_chunk.result', 'ner_chunk.metadata')).alias(\"cols\")) \\\n",
    "      .select(F.expr(\"cols['0']\").alias(\"chunk\"),\n",
    "              F.expr(\"cols['1']['entity']\").alias(\"ner_label\")).show(truncate=False)"
   ]
  },
  {
   "cell_type": "code",
   "execution_count": 65,
   "metadata": {
    "colab": {
     "base_uri": "https://localhost:8080/",
     "height": 263
    },
    "id": "sI1C9hJzbyl3",
    "outputId": "2a577360-2fdb-4ea6-b80a-d8750b29c9ca"
   },
   "outputs": [
    {
     "data": {
      "text/html": [
       "<div>\n",
       "<style scoped>\n",
       "    .dataframe tbody tr th:only-of-type {\n",
       "        vertical-align: middle;\n",
       "    }\n",
       "\n",
       "    .dataframe tbody tr th {\n",
       "        vertical-align: top;\n",
       "    }\n",
       "\n",
       "    .dataframe thead th {\n",
       "        text-align: right;\n",
       "    }\n",
       "</style>\n",
       "<table border=\"1\" class=\"dataframe\">\n",
       "  <thead>\n",
       "    <tr style=\"text-align: right;\">\n",
       "      <th></th>\n",
       "      <th>sentence</th>\n",
       "      <th>deidentified</th>\n",
       "    </tr>\n",
       "  </thead>\n",
       "  <tbody>\n",
       "    <tr>\n",
       "      <th>0</th>\n",
       "      <td>A .</td>\n",
       "      <td>A .</td>\n",
       "    </tr>\n",
       "    <tr>\n",
       "      <th>1</th>\n",
       "      <td>Record date : 2093-01-13 , David Hale , M.D .</td>\n",
       "      <td>Record date : &lt;DATE&gt; , &lt;NAME&gt; , M.D .</td>\n",
       "    </tr>\n",
       "    <tr>\n",
       "      <th>2</th>\n",
       "      <td>, Name : Hendrickson , Ora MR .</td>\n",
       "      <td>, Name : &lt;NAME&gt; MR .</td>\n",
       "    </tr>\n",
       "    <tr>\n",
       "      <th>3</th>\n",
       "      <td># 7194334 Date : 01/13/93 PCP : Oliveira , 25 years-old , Record date : 2079-11-09 .</td>\n",
       "      <td># &lt;ID&gt; Date : &lt;DATE&gt; PCP : &lt;NAME&gt; , &lt;AGE&gt; years-old , Record date : &lt;DATE&gt; .</td>\n",
       "    </tr>\n",
       "    <tr>\n",
       "      <th>4</th>\n",
       "      <td>Cocke County Baptist Hospital .</td>\n",
       "      <td>&lt;LOCATION&gt; .</td>\n",
       "    </tr>\n",
       "    <tr>\n",
       "      <th>5</th>\n",
       "      <td>0295 Keats Street.</td>\n",
       "      <td>&lt;LOCATION&gt;.</td>\n",
       "    </tr>\n",
       "    <tr>\n",
       "      <th>6</th>\n",
       "      <td>Phone (302) 786-5227.</td>\n",
       "      <td>Phone &lt;CONTACT&gt;.</td>\n",
       "    </tr>\n",
       "  </tbody>\n",
       "</table>\n",
       "</div>"
      ],
      "text/plain": [
       "                                                                               sentence                                                                  deidentified\n",
       "0                                                                                   A .                                                                           A .\n",
       "1                                         Record date : 2093-01-13 , David Hale , M.D .                                         Record date : <DATE> , <NAME> , M.D .\n",
       "2                                                       , Name : Hendrickson , Ora MR .                                                          , Name : <NAME> MR .\n",
       "3  # 7194334 Date : 01/13/93 PCP : Oliveira , 25 years-old , Record date : 2079-11-09 .  # <ID> Date : <DATE> PCP : <NAME> , <AGE> years-old , Record date : <DATE> .\n",
       "4                                                       Cocke County Baptist Hospital .                                                                  <LOCATION> .\n",
       "5                                                                    0295 Keats Street.                                                                   <LOCATION>.\n",
       "6                                                                 Phone (302) 786-5227.                                                              Phone <CONTACT>."
      ]
     },
     "execution_count": 65,
     "metadata": {
      "tags": []
     },
     "output_type": "execute_result"
    }
   ],
   "source": [
    "result.select(F.explode(F.arrays_zip('sentence.result', 'deidentified.result')).alias(\"cols\")) \\\n",
    "      .select(F.expr(\"cols['0']\").alias(\"sentence\"), F.expr(\"cols['1']\").alias(\"deidentified\")).toPandas()"
   ]
  },
  {
   "cell_type": "markdown",
   "metadata": {
    "id": "yxv9bu4Ifweb"
   },
   "source": [
    "### Mapping Column"
   ]
  },
  {
   "cell_type": "code",
   "execution_count": 66,
   "metadata": {
    "colab": {
     "base_uri": "https://localhost:8080/"
    },
    "id": "zcaXaxRFd-n6",
    "outputId": "38ac5204-c862-4bd8-c24a-01208ad65654"
   },
   "outputs": [
    {
     "name": "stdout",
     "output_type": "stream",
     "text": [
      "+-------------------------------------------------------------------------------------------------------------------------------------------------------------------------------------------------------------------------------------------------------------------------------------------------------------------------------------------------------------------------------------------------------------------------------------------------------------------------------------------------------------------------------------------------------------------------------------------------------------------------------------------------------------------------------------------------------------------------------------------------------------------------------------------------------------------------------------------------------------------------------------------------------------------------------------------------------------------------------------------------------------------------------------------------------------------------------------------------------------------------------------------------------------------------------------------------------------------------------------------------------------------------------------------------------------------------------------------------------------------------------------------------------------------------------------------------------------------------------------------------------------------------------------------------------------------------------------------------------------------------------------------------------------------------------------------------------------------------------------------------------------------------------------------------------------------------------------------------------------------------------------------------------------------------------------------------------------------------------------------------------------------------------------------------------------+\n",
      "|aux                                                                                                                                                                                                                                                                                                                                                                                                                                                                                                                                                                                                                                                                                                                                                                                                                                                                                                                                                                                                                                                                                                                                                                                                                                                                                                                                                                                                                                                                                                                                                                                                                                                                                                                                                                                                                                                                                                                                                                                                                                                          |\n",
      "+-------------------------------------------------------------------------------------------------------------------------------------------------------------------------------------------------------------------------------------------------------------------------------------------------------------------------------------------------------------------------------------------------------------------------------------------------------------------------------------------------------------------------------------------------------------------------------------------------------------------------------------------------------------------------------------------------------------------------------------------------------------------------------------------------------------------------------------------------------------------------------------------------------------------------------------------------------------------------------------------------------------------------------------------------------------------------------------------------------------------------------------------------------------------------------------------------------------------------------------------------------------------------------------------------------------------------------------------------------------------------------------------------------------------------------------------------------------------------------------------------------------------------------------------------------------------------------------------------------------------------------------------------------------------------------------------------------------------------------------------------------------------------------------------------------------------------------------------------------------------------------------------------------------------------------------------------------------------------------------------------------------------------------------------------------------+\n",
      "|[{chunk, 17, 22, <DATE>, {originalChunk -> 2093-01-13, chunk -> 0, beginOriginalChunk -> 19, confidence -> 1.0, entity -> DATE, endOriginalChunk -> 28, sentence -> 1}, []}, {chunk, 26, 31, <NAME>, {originalChunk -> David Hale, chunk -> 1, beginOriginalChunk -> 32, confidence -> 0.99665, entity -> NAME, endOriginalChunk -> 41, sentence -> 1}, []}, {chunk, 49, 54, <NAME>, {originalChunk -> Hendrickson , Ora, chunk -> 2, beginOriginalChunk -> 60, confidence -> 0.9405, entity -> NAME, endOriginalChunk -> 76, sentence -> 2}, []}, {chunk, 62, 65, <ID>, {originalChunk -> 7194334, chunk -> 3, beginOriginalChunk -> 85, confidence -> 1.0, entity -> ID, endOriginalChunk -> 91, sentence -> 3}, []}, {chunk, 74, 79, <DATE>, {originalChunk -> 01/13/93, chunk -> 4, beginOriginalChunk -> 100, confidence -> 1.0, entity -> DATE, endOriginalChunk -> 107, sentence -> 3}, []}, {chunk, 87, 92, <NAME>, {originalChunk -> Oliveira, chunk -> 5, beginOriginalChunk -> 115, confidence -> 0.9994, entity -> NAME, endOriginalChunk -> 122, sentence -> 3}, []}, {chunk, 96, 100, <AGE>, {originalChunk -> 25, chunk -> 6, beginOriginalChunk -> 126, confidence -> 0.7536, entity -> AGE, endOriginalChunk -> 127, sentence -> 3}, []}, {chunk, 128, 133, <DATE>, {originalChunk -> 2079-11-09, chunk -> 7, beginOriginalChunk -> 155, confidence -> 1.0, entity -> DATE, endOriginalChunk -> 164, sentence -> 3}, []}, {chunk, 136, 145, <LOCATION>, {originalChunk -> Cocke County Baptist Hospital, chunk -> 8, beginOriginalChunk -> 168, confidence -> 0.93737495, entity -> LOCATION, endOriginalChunk -> 196, sentence -> 4}, []}, {chunk, 148, 157, <LOCATION>, {originalChunk -> 0295 Keats Street, chunk -> 9, beginOriginalChunk -> 200, confidence -> 0.9839, entity -> LOCATION, endOriginalChunk -> 216, sentence -> 5}, []}, {chunk, 165, 173, <CONTACT>, {originalChunk -> (302) 786-5227, chunk -> 10, beginOriginalChunk -> 225, confidence -> 0.92385, entity -> CONTACT, endOriginalChunk -> 238, sentence -> 6}, []}]|\n",
      "+-------------------------------------------------------------------------------------------------------------------------------------------------------------------------------------------------------------------------------------------------------------------------------------------------------------------------------------------------------------------------------------------------------------------------------------------------------------------------------------------------------------------------------------------------------------------------------------------------------------------------------------------------------------------------------------------------------------------------------------------------------------------------------------------------------------------------------------------------------------------------------------------------------------------------------------------------------------------------------------------------------------------------------------------------------------------------------------------------------------------------------------------------------------------------------------------------------------------------------------------------------------------------------------------------------------------------------------------------------------------------------------------------------------------------------------------------------------------------------------------------------------------------------------------------------------------------------------------------------------------------------------------------------------------------------------------------------------------------------------------------------------------------------------------------------------------------------------------------------------------------------------------------------------------------------------------------------------------------------------------------------------------------------------------------------------+\n",
      "\n"
     ]
    }
   ],
   "source": [
    "result.select(\"aux\").show(truncate=False)"
   ]
  },
  {
   "cell_type": "code",
   "execution_count": 67,
   "metadata": {
    "colab": {
     "base_uri": "https://localhost:8080/"
    },
    "id": "rF1YR12bb7U3",
    "outputId": "27c52541-7eb4-4c34-ffe8-ddf9115c2e9a"
   },
   "outputs": [
    {
     "name": "stdout",
     "output_type": "stream",
     "text": [
      "+-----------------------------+----------+--------+----------+----------+--------+\n",
      "|chunk                        |beginChunk|endChunk|label     |beginLabel|endLabel|\n",
      "+-----------------------------+----------+--------+----------+----------+--------+\n",
      "|2093-01-13                   |19        |28      |<DATE>    |17        |22      |\n",
      "|David Hale                   |32        |41      |<NAME>    |26        |31      |\n",
      "|Hendrickson , Ora            |60        |76      |<NAME>    |49        |54      |\n",
      "|7194334                      |85        |91      |<ID>      |62        |65      |\n",
      "|01/13/93                     |100       |107     |<DATE>    |74        |79      |\n",
      "|Oliveira                     |115       |122     |<NAME>    |87        |92      |\n",
      "|25                           |126       |127     |<AGE>     |96        |100     |\n",
      "|2079-11-09                   |155       |164     |<DATE>    |128       |133     |\n",
      "|Cocke County Baptist Hospital|168       |196     |<LOCATION>|136       |145     |\n",
      "|0295 Keats Street            |200       |216     |<LOCATION>|148       |157     |\n",
      "|(302) 786-5227               |225       |238     |<CONTACT> |165       |173     |\n",
      "+-----------------------------+----------+--------+----------+----------+--------+\n",
      "\n"
     ]
    }
   ],
   "source": [
    "result.select(F.explode(F.arrays_zip('aux.metadata', 'aux.result', 'aux.begin', 'aux.end')).alias(\"cols\")) \\\n",
    "      .select(F.expr(\"cols['0']['originalChunk']\").alias(\"chunk\"),\n",
    "              F.expr(\"cols['0']['beginOriginalChunk']\").alias(\"beginChunk\"),\n",
    "              F.expr(\"cols['0']['endOriginalChunk']\").alias(\"endChunk\"),\n",
    "              F.expr(\"cols['1']\").alias(\"label\"),\n",
    "              F.expr(\"cols['2']\").alias(\"beginLabel\"),\n",
    "              F.expr(\"cols['3']\").alias(\"endLabel\"),\n",
    "              ).show(truncate=False)"
   ]
  },
  {
   "cell_type": "markdown",
   "metadata": {
    "id": "Kz7YLxOlpJPQ"
   },
   "source": [
    "## Reidentification\n",
    "\n",
    "We can use `ReIdentification` model to go back to the original sentence."
   ]
  },
  {
   "cell_type": "code",
   "execution_count": 68,
   "metadata": {
    "id": "7HMTqWaApIw3"
   },
   "outputs": [],
   "source": [
    "reIdentification = ReIdentification()\\\n",
    "     .setInputCols([\"aux\",\"deidentified\"])\\\n",
    "     .setOutputCol(\"original\")"
   ]
  },
  {
   "cell_type": "code",
   "execution_count": 69,
   "metadata": {
    "id": "Etn6kW6hqJGx"
   },
   "outputs": [],
   "source": [
    "reid_result = reIdentification.transform(result)"
   ]
  },
  {
   "cell_type": "code",
   "execution_count": 70,
   "metadata": {
    "colab": {
     "base_uri": "https://localhost:8080/"
    },
    "id": "vGLfKOGGqSwy",
    "outputId": "580395ac-82f5-4551-a4dc-5502a816554d"
   },
   "outputs": [
    {
     "name": "stdout",
     "output_type": "stream",
     "text": [
      "+--------------------+--------------------+--------------------+--------------------+--------------------+--------------------+--------------------+--------------------+--------------------+--------------------+\n",
      "|                text|            document|            sentence|               token|          embeddings|                 ner|           ner_chunk|        deidentified|                 aux|            original|\n",
      "+--------------------+--------------------+--------------------+--------------------+--------------------+--------------------+--------------------+--------------------+--------------------+--------------------+\n",
      "|\n",
      "A . Record date ...|[{document, 0, 24...|[{document, 1, 3,...|[{token, 1, 1, A,...|[{word_embeddings...|[{named_entity, 1...|[{chunk, 19, 28, ...|[{document, 0, 2,...|[{chunk, 17, 22, ...|[{document, 1, 3,...|\n",
      "+--------------------+--------------------+--------------------+--------------------+--------------------+--------------------+--------------------+--------------------+--------------------+--------------------+\n",
      "\n"
     ]
    }
   ],
   "source": [
    "reid_result.show()"
   ]
  },
  {
   "cell_type": "code",
   "execution_count": 71,
   "metadata": {
    "colab": {
     "base_uri": "https://localhost:8080/"
    },
    "id": "cfhFb1aOcFgI",
    "outputId": "9a3b08d6-c909-4037-892a-d8db69853fff"
   },
   "outputs": [
    {
     "name": "stdout",
     "output_type": "stream",
     "text": [
      "\n",
      "A . Record date : 2093-01-13 , David Hale , M.D . , Name : Hendrickson , Ora MR . # 7194334 Date : 01/13/93 PCP : Oliveira , 25 years-old , Record date : 2079-11-09 . Cocke County Baptist Hospital . 0295 Keats Street. Phone (302) 786-5227.\n",
      "\n",
      "+-------------------------------------------------------------------------------------------------------------------------------------------------------------------------------------------------------------------------------------------------------+\n",
      "|result                                                                                                                                                                                                                                                 |\n",
      "+-------------------------------------------------------------------------------------------------------------------------------------------------------------------------------------------------------------------------------------------------------+\n",
      "|[A ., Record date : 2093-01-13 , David Hale , M.D ., , Name : Hendrickson , Ora MR ., # 7194334 Date : 01/13/93 PCP : Oliveira , 25 years-old , Record date : 2079-11-09 ., Cocke County Baptist Hospital ., 0295 Keats Street., Phone (302) 786-5227.]|\n",
      "+-------------------------------------------------------------------------------------------------------------------------------------------------------------------------------------------------------------------------------------------------------+\n",
      "\n"
     ]
    }
   ],
   "source": [
    "print(text)\n",
    "\n",
    "reid_result.select('original.result').show(truncate=False)"
   ]
  },
  {
   "cell_type": "markdown",
   "metadata": {
    "id": "OSKDCxV0NEJc"
   },
   "source": [
    "## Using multiple NER in the same pipeline"
   ]
  },
  {
   "cell_type": "code",
   "execution_count": 72,
   "metadata": {
    "colab": {
     "base_uri": "https://localhost:8080/"
    },
    "id": "7lF9lrIWNJMi",
    "outputId": "a03b60d1-36ec-4ca8-fca7-fc34998b9cda"
   },
   "outputs": [
    {
     "name": "stdout",
     "output_type": "stream",
     "text": [
      "embeddings_clinical download started this may take some time.\n",
      "Approximate size to download 1.6 GB\n",
      "[OK!]\n",
      "ner_deid_generic_augmented download started this may take some time.\n",
      "Approximate size to download 13.8 MB\n",
      "[OK!]\n",
      "ner_deid_subentity_augmented download started this may take some time.\n",
      "Approximate size to download 14 MB\n",
      "[OK!]\n"
     ]
    }
   ],
   "source": [
    "from sparknlp_jsl.annotator import *\n",
    "\n",
    "documentAssembler = DocumentAssembler()\\\n",
    "      .setInputCol(\"text\")\\\n",
    "      .setOutputCol(\"document\")\n",
    "\n",
    "# Sentence Detector annotator, processes various sentences per line\n",
    "\n",
    "sentenceDetector = SentenceDetector()\\\n",
    "      .setInputCols([\"document\"])\\\n",
    "      .setOutputCol(\"sentence\")\n",
    "\n",
    "# Tokenizer splits words in a relevant format for NLP\n",
    "\n",
    "tokenizer = Tokenizer()\\\n",
    "      .setInputCols([\"sentence\"])\\\n",
    "      .setOutputCol(\"token\")\n",
    "\n",
    "# Clinical word embeddings trained on PubMED dataset\n",
    "\n",
    "word_embeddings = WordEmbeddingsModel.pretrained(\"embeddings_clinical\", \"en\", \"clinical/models\")\\\n",
    "      .setInputCols([\"sentence\", \"token\"])\\\n",
    "      .setOutputCol(\"embeddings\")\n",
    "\n",
    "# NER model trained on n2c2 (de-identification and Heart Disease Risk Factors Challenge) datasets)\n",
    "\n",
    "deid_ner = MedicalNerModel.pretrained(\"ner_deid_generic_augmented\", \"en\", \"clinical/models\") \\\n",
    "      .setInputCols([\"sentence\", \"token\", \"embeddings\"]) \\\n",
    "      .setOutputCol(\"ner\")\n",
    "\n",
    "ner_converter = NerConverter()\\\n",
    "      .setInputCols([\"sentence\", \"token\", \"ner\"])\\\n",
    "      .setOutputCol(\"ner_chunk\")\\\n",
    "      .setWhiteList(['ID', 'DATE', 'AGE', 'NAME', 'PROFESSION'])# CONTACT and LOCATION is removed\n",
    "\n",
    "deid_ner_enriched = MedicalNerModel.pretrained(\"ner_deid_subentity_augmented\", \"en\", \"clinical/models\") \\\n",
    "      .setInputCols([\"sentence\", \"token\", \"embeddings\"]) \\\n",
    "      .setOutputCol(\"ner_enriched\")\n",
    "\n",
    "ner_converter_enriched = NerConverter() \\\n",
    "      .setInputCols([\"sentence\", \"token\", \"ner_enriched\"]) \\\n",
    "      .setOutputCol(\"ner_chunk_enriched\")\\\n",
    "      .setWhiteList(['COUNTRY', 'CITY', 'HOSPITAL', 'STATE', 'STREET', 'ZIP'])\n",
    "      # we can also add PATIENT and DOCTOR entities and remove NAME entity from the other NER model\n",
    "\n",
    "chunk_merge = ChunkMergeApproach()\\\n",
    "      .setInputCols(\"ner_chunk_enriched\",\"ner_chunk\")\\\n",
    "      .setOutputCol(\"deid_merged_chunk\")\n",
    "\n",
    "# deidentification = DeIdentificationModel.pretrained(\"deidentify_large\", \"en\", \"clinical/models\") \\\n",
    "#       .setInputCols([\"sentence\", \"token\", \"deid_merged_chunk\"]) \\\n",
    "#       .setOutputCol(\"deidentified\") \\\n",
    "#       .setMode(\"mask\")\n",
    "\n",
    "deidentification = DeIdentification() \\\n",
    "      .setInputCols([\"sentence\", \"token\", \"deid_merged_chunk\"]) \\\n",
    "      .setOutputCol(\"deidentified\") \\\n",
    "      .setMode(\"mask\")\\\n",
    "      .setReturnEntityMappings(True)\n",
    "\n",
    "nlpPipeline = Pipeline(stages=[\n",
    "      documentAssembler, \n",
    "      sentenceDetector,\n",
    "      tokenizer,\n",
    "      word_embeddings,\n",
    "      deid_ner,\n",
    "      ner_converter,\n",
    "      deid_ner_enriched,\n",
    "      ner_converter_enriched,\n",
    "      chunk_merge,\n",
    "      deidentification])\n",
    "\n",
    "empty_data = spark.createDataFrame([[\"\"]]).toDF(\"text\")\n",
    "\n",
    "model = nlpPipeline.fit(empty_data)"
   ]
  },
  {
   "cell_type": "code",
   "execution_count": 73,
   "metadata": {
    "id": "b2rR2tTgP5N5"
   },
   "outputs": [],
   "source": [
    "text ='''\n",
    "A . Record date : 2093-01-13 , David Hale , M.D . , Name : Hendrickson , Ora MR . # 719435 Date : 01/13/93 PCP : Oliveira , 25 years-old , Record date : 2079-11-09 . Cocke County Baptist Hospital . 0295 Keats Street. Phone (302) 786-5227.\n",
    "'''"
   ]
  },
  {
   "cell_type": "code",
   "execution_count": 74,
   "metadata": {
    "colab": {
     "base_uri": "https://localhost:8080/"
    },
    "id": "ByIjftyJd8iP",
    "outputId": "953c7a5f-4a0f-4534-a140-4caaf5aa0a09"
   },
   "outputs": [
    {
     "name": "stdout",
     "output_type": "stream",
     "text": [
      "+-----------------------------+---------+\n",
      "|chunk                        |ner_label|\n",
      "+-----------------------------+---------+\n",
      "|2093-01-13                   |DATE     |\n",
      "|David Hale                   |NAME     |\n",
      "|Hendrickson , Ora            |NAME     |\n",
      "|719435                       |ID       |\n",
      "|01/13/93                     |DATE     |\n",
      "|Oliveira                     |NAME     |\n",
      "|25                           |AGE      |\n",
      "|2079-11-09                   |DATE     |\n",
      "|Cocke County Baptist Hospital|HOSPITAL |\n",
      "|0295 Keats Street.           |STREET   |\n",
      "+-----------------------------+---------+\n",
      "\n"
     ]
    }
   ],
   "source": [
    "result = model.transform(spark.createDataFrame([[text]]).toDF(\"text\"))\n",
    "\n",
    "result.select(F.explode(F.arrays_zip('deid_merged_chunk.result', 'deid_merged_chunk.metadata')).alias(\"cols\")) \\\n",
    ".select(F.expr(\"cols['0']\").alias(\"chunk\"),\n",
    "        F.expr(\"cols['1']['entity']\").alias(\"ner_label\")).show(truncate=False)"
   ]
  },
  {
   "cell_type": "code",
   "execution_count": 75,
   "metadata": {
    "colab": {
     "base_uri": "https://localhost:8080/"
    },
    "id": "FSs5d4ULeQFq",
    "outputId": "828ac4b5-3fde-448b-8707-9d39552e0057"
   },
   "outputs": [
    {
     "name": "stdout",
     "output_type": "stream",
     "text": [
      "+-----------------+---------+\n",
      "|chunk            |ner_label|\n",
      "+-----------------+---------+\n",
      "|2093-01-13       |DATE     |\n",
      "|David Hale       |NAME     |\n",
      "|Hendrickson , Ora|NAME     |\n",
      "|719435           |ID       |\n",
      "|01/13/93         |DATE     |\n",
      "|Oliveira         |NAME     |\n",
      "|25               |AGE      |\n",
      "|2079-11-09       |DATE     |\n",
      "+-----------------+---------+\n",
      "\n"
     ]
    }
   ],
   "source": [
    "result.select(F.explode(F.arrays_zip('ner_chunk.result', 'ner_chunk.metadata')).alias(\"cols\")) \\\n",
    ".select(F.expr(\"cols['0']\").alias(\"chunk\"),\n",
    "        F.expr(\"cols['1']['entity']\").alias(\"ner_label\")).show(truncate=False)"
   ]
  },
  {
   "cell_type": "code",
   "execution_count": 76,
   "metadata": {
    "colab": {
     "base_uri": "https://localhost:8080/"
    },
    "id": "aKn2yotweUTS",
    "outputId": "48e4213c-164c-4d92-c4b8-81e87af3a797"
   },
   "outputs": [
    {
     "name": "stdout",
     "output_type": "stream",
     "text": [
      "+-----------------------------+---------+\n",
      "|chunk                        |ner_label|\n",
      "+-----------------------------+---------+\n",
      "|Cocke County Baptist Hospital|HOSPITAL |\n",
      "|0295 Keats Street.           |STREET   |\n",
      "+-----------------------------+---------+\n",
      "\n"
     ]
    }
   ],
   "source": [
    "result.select(F.explode(F.arrays_zip('ner_chunk_enriched.result', 'ner_chunk_enriched.metadata')).alias(\"cols\")) \\\n",
    ".select(F.expr(\"cols['0']\").alias(\"chunk\"),\n",
    "        F.expr(\"cols['1']['entity']\").alias(\"ner_label\")).show(truncate=False)"
   ]
  },
  {
   "cell_type": "code",
   "execution_count": 77,
   "metadata": {
    "colab": {
     "base_uri": "https://localhost:8080/",
     "height": 263
    },
    "id": "6dheTxaJeYg9",
    "outputId": "8bc94f34-5a25-4381-f0ba-9180553bdbc5"
   },
   "outputs": [
    {
     "data": {
      "text/html": [
       "<div>\n",
       "<style scoped>\n",
       "    .dataframe tbody tr th:only-of-type {\n",
       "        vertical-align: middle;\n",
       "    }\n",
       "\n",
       "    .dataframe tbody tr th {\n",
       "        vertical-align: top;\n",
       "    }\n",
       "\n",
       "    .dataframe thead th {\n",
       "        text-align: right;\n",
       "    }\n",
       "</style>\n",
       "<table border=\"1\" class=\"dataframe\">\n",
       "  <thead>\n",
       "    <tr style=\"text-align: right;\">\n",
       "      <th></th>\n",
       "      <th>sentence</th>\n",
       "      <th>deidentified</th>\n",
       "    </tr>\n",
       "  </thead>\n",
       "  <tbody>\n",
       "    <tr>\n",
       "      <th>0</th>\n",
       "      <td>A .</td>\n",
       "      <td>A .</td>\n",
       "    </tr>\n",
       "    <tr>\n",
       "      <th>1</th>\n",
       "      <td>Record date : 2093-01-13 , David Hale , M.D .</td>\n",
       "      <td>Record date : &lt;DATE&gt; , &lt;NAME&gt; , M.D .</td>\n",
       "    </tr>\n",
       "    <tr>\n",
       "      <th>2</th>\n",
       "      <td>, Name : Hendrickson , Ora MR .</td>\n",
       "      <td>, Name : &lt;NAME&gt; MR .</td>\n",
       "    </tr>\n",
       "    <tr>\n",
       "      <th>3</th>\n",
       "      <td># 719435 Date : 01/13/93 PCP : Oliveira , 25 years-old , Record date : 2079-11-09 .</td>\n",
       "      <td># &lt;ID&gt; Date : &lt;DATE&gt; PCP : &lt;NAME&gt; , &lt;AGE&gt; years-old , Record date : &lt;DATE&gt; .</td>\n",
       "    </tr>\n",
       "    <tr>\n",
       "      <th>4</th>\n",
       "      <td>Cocke County Baptist Hospital .</td>\n",
       "      <td>&lt;HOSPITAL&gt; .</td>\n",
       "    </tr>\n",
       "    <tr>\n",
       "      <th>5</th>\n",
       "      <td>0295 Keats Street.</td>\n",
       "      <td>&lt;STREET&gt;</td>\n",
       "    </tr>\n",
       "    <tr>\n",
       "      <th>6</th>\n",
       "      <td>Phone (302) 786-5227.</td>\n",
       "      <td>Phone (302) &lt;PHONE&gt;.</td>\n",
       "    </tr>\n",
       "  </tbody>\n",
       "</table>\n",
       "</div>"
      ],
      "text/plain": [
       "                                                                              sentence                                                                  deidentified\n",
       "0                                                                                  A .                                                                           A .\n",
       "1                                        Record date : 2093-01-13 , David Hale , M.D .                                         Record date : <DATE> , <NAME> , M.D .\n",
       "2                                                      , Name : Hendrickson , Ora MR .                                                          , Name : <NAME> MR .\n",
       "3  # 719435 Date : 01/13/93 PCP : Oliveira , 25 years-old , Record date : 2079-11-09 .  # <ID> Date : <DATE> PCP : <NAME> , <AGE> years-old , Record date : <DATE> .\n",
       "4                                                      Cocke County Baptist Hospital .                                                                  <HOSPITAL> .\n",
       "5                                                                   0295 Keats Street.                                                                      <STREET>\n",
       "6                                                                Phone (302) 786-5227.                                                          Phone (302) <PHONE>."
      ]
     },
     "execution_count": 77,
     "metadata": {
      "tags": []
     },
     "output_type": "execute_result"
    }
   ],
   "source": [
    "result.select(F.explode(F.arrays_zip('sentence.result', 'deidentified.result')).alias(\"cols\")) \\\n",
    ".select(F.expr(\"cols['0']\").alias(\"sentence\"), F.expr(\"cols['1']\").alias(\"deidentified\")).toPandas()"
   ]
  },
  {
   "cell_type": "markdown",
   "metadata": {
    "id": "1MvCZkTyN0rQ"
   },
   "source": [
    "### Enriching with Regex and Override NER\n",
    "\n",
    "\n"
   ]
  },
  {
   "cell_type": "code",
   "execution_count": 78,
   "metadata": {
    "id": "v3ws_gQRQ5FS"
   },
   "outputs": [],
   "source": [
    "deidentification = DeIdentification()\\\n",
    "    .setInputCols([\"sentence\", \"token\", \"deid_merged_chunk\"])\\\n",
    "    .setOutputCol(\"deidentified\")\\\n",
    "    .setMode(\"mask\") \\\n",
    "    .setRegexOverride(True)\n",
    "\n",
    "pipeline = Pipeline(stages=[\n",
    "    nlpPipeline, \n",
    "    deidentification\n",
    "])\n",
    "\n",
    "model_default_rgx = pipeline.fit(empty_data)"
   ]
  },
  {
   "cell_type": "code",
   "execution_count": 79,
   "metadata": {
    "colab": {
     "base_uri": "https://localhost:8080/",
     "height": 263
    },
    "id": "tTKB14F7hX6a",
    "outputId": "1232c322-3be8-4f50-cfe5-eea2df196b1e"
   },
   "outputs": [
    {
     "data": {
      "text/html": [
       "<div>\n",
       "<style scoped>\n",
       "    .dataframe tbody tr th:only-of-type {\n",
       "        vertical-align: middle;\n",
       "    }\n",
       "\n",
       "    .dataframe tbody tr th {\n",
       "        vertical-align: top;\n",
       "    }\n",
       "\n",
       "    .dataframe thead th {\n",
       "        text-align: right;\n",
       "    }\n",
       "</style>\n",
       "<table border=\"1\" class=\"dataframe\">\n",
       "  <thead>\n",
       "    <tr style=\"text-align: right;\">\n",
       "      <th></th>\n",
       "      <th>sentence</th>\n",
       "      <th>deidentified</th>\n",
       "    </tr>\n",
       "  </thead>\n",
       "  <tbody>\n",
       "    <tr>\n",
       "      <th>0</th>\n",
       "      <td>A .</td>\n",
       "      <td>A .</td>\n",
       "    </tr>\n",
       "    <tr>\n",
       "      <th>1</th>\n",
       "      <td>Record date : 2093-01-13 , David Hale , M.D .</td>\n",
       "      <td>Record date : &lt;DATE&gt; , &lt;NAME&gt; , M.D .</td>\n",
       "    </tr>\n",
       "    <tr>\n",
       "      <th>2</th>\n",
       "      <td>, Name : Hendrickson , Ora MR .</td>\n",
       "      <td>, Name : &lt;NAME&gt; MR .</td>\n",
       "    </tr>\n",
       "    <tr>\n",
       "      <th>3</th>\n",
       "      <td># 719435 Date : 01/13/93 PCP : Oliveira , 25 years-old , Record date : 2079-11-09 .</td>\n",
       "      <td># &lt;ID&gt; Date : &lt;DATE&gt; PCP : &lt;NAME&gt; , &lt;AGE&gt; years-old , Record date : &lt;DATE&gt; .</td>\n",
       "    </tr>\n",
       "    <tr>\n",
       "      <th>4</th>\n",
       "      <td>Cocke County Baptist Hospital .</td>\n",
       "      <td>&lt;HOSPITAL&gt; .</td>\n",
       "    </tr>\n",
       "    <tr>\n",
       "      <th>5</th>\n",
       "      <td>0295 Keats Street.</td>\n",
       "      <td>&lt;STREET&gt;</td>\n",
       "    </tr>\n",
       "    <tr>\n",
       "      <th>6</th>\n",
       "      <td>Phone (302) 786-5227.</td>\n",
       "      <td>Phone (302) &lt;PHONE&gt;.</td>\n",
       "    </tr>\n",
       "  </tbody>\n",
       "</table>\n",
       "</div>"
      ],
      "text/plain": [
       "                                                                              sentence                                                                  deidentified\n",
       "0                                                                                  A .                                                                           A .\n",
       "1                                        Record date : 2093-01-13 , David Hale , M.D .                                         Record date : <DATE> , <NAME> , M.D .\n",
       "2                                                      , Name : Hendrickson , Ora MR .                                                          , Name : <NAME> MR .\n",
       "3  # 719435 Date : 01/13/93 PCP : Oliveira , 25 years-old , Record date : 2079-11-09 .  # <ID> Date : <DATE> PCP : <NAME> , <AGE> years-old , Record date : <DATE> .\n",
       "4                                                      Cocke County Baptist Hospital .                                                                  <HOSPITAL> .\n",
       "5                                                                   0295 Keats Street.                                                                      <STREET>\n",
       "6                                                                Phone (302) 786-5227.                                                          Phone (302) <PHONE>."
      ]
     },
     "execution_count": 79,
     "metadata": {
      "tags": []
     },
     "output_type": "execute_result"
    }
   ],
   "source": [
    "result = model_default_rgx.transform(spark.createDataFrame([[text]]).toDF(\"text\"))\n",
    "\n",
    "result.select(F.explode(F.arrays_zip('sentence.result', 'deidentified.result')).alias(\"cols\")) \\\n",
    ".select(F.expr(\"cols['0']\").alias(\"sentence\"), F.expr(\"cols['1']\").alias(\"deidentified\")).toPandas()"
   ]
  },
  {
   "cell_type": "code",
   "execution_count": 93,
   "metadata": {
    "colab": {
     "base_uri": "https://localhost:8080/"
    },
    "id": "CK0s144yN7Tp",
    "outputId": "b98e4ccd-6a41-4f47-f7f2-a898c19e6862"
   },
   "outputs": [
    {
     "name": "stdout",
     "output_type": "stream",
     "text": [
      "NUMBER ([0-9]{2})\n",
      "NUMBER (\\d{7})\n"
     ]
    }
   ],
   "source": [
    "rgx = '''NUMBER ([0-9]{2})\n",
    "NUMBER (\\d{7})''' \n",
    "\n",
    "with open(\"./custom_regex.txt\", \"w\") as f:\n",
    "  f.write(rgx)\n",
    "\n",
    "f = open(\"./custom_regex.txt\", \"r\")\n",
    "\n",
    "print(f.read())"
   ]
  },
  {
   "cell_type": "markdown",
   "metadata": {
    "id": "Z771fExYOgiW"
   },
   "source": [
    "We see that two entities  have conflict between the regex and the NER. NER has the priroty as a default. We can change this `setRegexOverride` param "
   ]
  },
  {
   "cell_type": "code",
   "execution_count": 94,
   "metadata": {
    "id": "J8fl19b2OY1-"
   },
   "outputs": [],
   "source": [
    "deidentification_rgx = DeIdentification()\\\n",
    "    .setInputCols([\"sentence\", \"token\", \"deid_merged_chunk\"])\\\n",
    "    .setOutputCol(\"deidentified\")\\\n",
    "    .setMode(\"mask\") \\\n",
    "    .setRegexPatternsDictionary(\"./custom_regex.txt\")\\\n",
    "    .setRegexOverride(True)\n",
    "\n",
    "\n",
    "nlpPipeline_rgx = Pipeline(stages=[\n",
    "    documentAssembler, \n",
    "    sentenceDetector,\n",
    "    tokenizer,\n",
    "    word_embeddings,\n",
    "    deid_ner,\n",
    "    ner_converter,\n",
    "    deid_ner_enriched,\n",
    "    ner_converter_enriched,\n",
    "    chunk_merge,\n",
    "    deidentification_rgx])\n",
    "\n",
    "empty_data = spark.createDataFrame([[\"\"]]).toDF(\"text\")\n",
    "\n",
    "model_rgx = nlpPipeline_rgx.fit(empty_data)"
   ]
  },
  {
   "cell_type": "code",
   "execution_count": 95,
   "metadata": {
    "colab": {
     "base_uri": "https://localhost:8080/",
     "height": 233
    },
    "id": "tifAsxnFiiWg",
    "outputId": "bb94b87c-f0e2-4571-f832-bd158e42f922"
   },
   "outputs": [
    {
     "data": {
      "text/html": [
       "<div>\n",
       "<style scoped>\n",
       "    .dataframe tbody tr th:only-of-type {\n",
       "        vertical-align: middle;\n",
       "    }\n",
       "\n",
       "    .dataframe tbody tr th {\n",
       "        vertical-align: top;\n",
       "    }\n",
       "\n",
       "    .dataframe thead th {\n",
       "        text-align: right;\n",
       "    }\n",
       "</style>\n",
       "<table border=\"1\" class=\"dataframe\">\n",
       "  <thead>\n",
       "    <tr style=\"text-align: right;\">\n",
       "      <th></th>\n",
       "      <th>sentence</th>\n",
       "      <th>deidentified</th>\n",
       "    </tr>\n",
       "  </thead>\n",
       "  <tbody>\n",
       "    <tr>\n",
       "      <th>0</th>\n",
       "      <td>A .</td>\n",
       "      <td>A .</td>\n",
       "    </tr>\n",
       "    <tr>\n",
       "      <th>1</th>\n",
       "      <td>Record date : 2093-01-13 , David Hale , M.D .</td>\n",
       "      <td>Record date : &lt;DATE&gt; , &lt;NAME&gt; , M.D .</td>\n",
       "    </tr>\n",
       "    <tr>\n",
       "      <th>2</th>\n",
       "      <td>, Name : Hendrickson , Ora MR .</td>\n",
       "      <td>, Name : &lt;NAME&gt; MR .</td>\n",
       "    </tr>\n",
       "    <tr>\n",
       "      <th>3</th>\n",
       "      <td># 7194334 Date : 01/13/93 PCP : Oliveira , 25 years-old , Record date : 2079-11-09 .</td>\n",
       "      <td># &lt;NUMBER&gt; Date : &lt;DATE&gt; PCP : &lt;NAME&gt; , &lt;NUMBER&gt; years-old , Record date : &lt;DATE&gt; .</td>\n",
       "    </tr>\n",
       "    <tr>\n",
       "      <th>4</th>\n",
       "      <td>Cocke County Baptist Hospital .</td>\n",
       "      <td>&lt;HOSPITAL&gt; .</td>\n",
       "    </tr>\n",
       "    <tr>\n",
       "      <th>5</th>\n",
       "      <td>0295 Keats Street.</td>\n",
       "      <td>&lt;STREET&gt;</td>\n",
       "    </tr>\n",
       "  </tbody>\n",
       "</table>\n",
       "</div>"
      ],
      "text/plain": [
       "                                                                               sentence                                                                         deidentified\n",
       "0                                                                                   A .                                                                                  A .\n",
       "1                                         Record date : 2093-01-13 , David Hale , M.D .                                                Record date : <DATE> , <NAME> , M.D .\n",
       "2                                                       , Name : Hendrickson , Ora MR .                                                                 , Name : <NAME> MR .\n",
       "3  # 7194334 Date : 01/13/93 PCP : Oliveira , 25 years-old , Record date : 2079-11-09 .  # <NUMBER> Date : <DATE> PCP : <NAME> , <NUMBER> years-old , Record date : <DATE> .\n",
       "4                                                       Cocke County Baptist Hospital .                                                                         <HOSPITAL> .\n",
       "5                                                                    0295 Keats Street.                                                                             <STREET>"
      ]
     },
     "execution_count": 95,
     "metadata": {
      "tags": []
     },
     "output_type": "execute_result"
    }
   ],
   "source": [
    "text ='''\n",
    "A . Record date : 2093-01-13 , David Hale , M.D . , Name : Hendrickson , Ora MR . # 7194334 Date : 01/13/93 PCP : Oliveira , 25 years-old , Record date : 2079-11-09 . Cocke County Baptist Hospital . 0295 Keats Street.\n",
    "'''\n",
    "result = model_rgx.transform(spark.createDataFrame([[text]]).toDF(\"text\"))\n",
    "result.select(F.explode(F.arrays_zip('sentence.result', 'deidentified.result')).alias(\"cols\")) \\\n",
    ".select(F.expr(\"cols['0']\").alias(\"sentence\"), F.expr(\"cols['1']\").alias(\"deidentified\")).toPandas()"
   ]
  },
  {
   "cell_type": "markdown",
   "metadata": {
    "id": "HJokGuGxf89k"
   },
   "source": [
    "## Obfuscation mode"
   ]
  },
  {
   "cell_type": "markdown",
   "metadata": {
    "id": "KG0Bvua7f89l"
   },
   "source": [
    "In the obfuscation mode **DeIdentificationModel** will replace sensetive entities with random values of the same type. \n"
   ]
  },
  {
   "cell_type": "code",
   "execution_count": 96,
   "metadata": {
    "id": "TOYTW3ryTVOI"
   },
   "outputs": [],
   "source": [
    "obs_lines = \"\"\"Marvin MARSHALL#PATIENT\n",
    "Hubert GROGAN#PATIENT\n",
    "ALTHEA COLBURN#PATIENT\n",
    "Kalil AMIN#PATIENT\n",
    "Inci FOUNTAIN#PATIENT\n",
    "Ekaterina Rosa#DOCTOR\n",
    "Rudiger Chao#DOCTOR\n",
    "COLLETTE KOHLER#DOCTOR\n",
    "Mufi HIGGS#DOCTOR\"\"\"\n",
    "\n",
    "\n",
    "with open ('obfuscation.txt', 'w') as f:\n",
    "  f.write(obs_lines)"
   ]
  },
  {
   "cell_type": "code",
   "execution_count": 97,
   "metadata": {
    "colab": {
     "base_uri": "https://localhost:8080/"
    },
    "id": "s6OKIrTUSz0O",
    "outputId": "513bf16c-3ff2-4f00-ac26-800504450816"
   },
   "outputs": [
    {
     "name": "stdout",
     "output_type": "stream",
     "text": [
      "ner_deid_subentity_augmented download started this may take some time.\n",
      "Approximate size to download 14 MB\n",
      "[OK!]\n"
     ]
    }
   ],
   "source": [
    "deid_ner = MedicalNerModel.pretrained(\"ner_deid_subentity_augmented\", \"en\", \"clinical/models\") \\\n",
    "      .setInputCols([\"sentence\", \"token\", \"embeddings\"]) \\\n",
    "      .setOutputCol(\"ner\")\n",
    "\n",
    "ner_converter = NerConverterInternal()\\\n",
    "      .setInputCols([\"sentence\", \"token\", \"ner\"])\\\n",
    "      .setOutputCol(\"ner_chunk\")\n",
    "\n",
    "obfuscation = DeIdentification()\\\n",
    "      .setInputCols([\"sentence\", \"token\", \"ner_chunk\"]) \\\n",
    "      .setOutputCol(\"deidentified\") \\\n",
    "      .setMode(\"obfuscate\")\\\n",
    "      .setObfuscateDate(True)\\\n",
    "      .setObfuscateRefFile('obfuscation.txt')\\\n",
    "      #.setObfuscateRefSource(\"both\") # >> default\n",
    "\n",
    "pipeline = Pipeline(stages=[\n",
    "      documentAssembler, \n",
    "      sentenceDetector,\n",
    "      tokenizer,\n",
    "      word_embeddings,\n",
    "      deid_ner,\n",
    "      ner_converter,\n",
    "      obfuscation\n",
    "])\n",
    "\n",
    "obfuscation_model = pipeline.fit(empty_data)"
   ]
  },
  {
   "cell_type": "code",
   "execution_count": 98,
   "metadata": {
    "colab": {
     "base_uri": "https://localhost:8080/",
     "height": 233
    },
    "id": "7nbKj0MbivrC",
    "outputId": "446b9faa-a89a-4f17-d959-ee22f9799d25"
   },
   "outputs": [
    {
     "data": {
      "text/html": [
       "<div>\n",
       "<style scoped>\n",
       "    .dataframe tbody tr th:only-of-type {\n",
       "        vertical-align: middle;\n",
       "    }\n",
       "\n",
       "    .dataframe tbody tr th {\n",
       "        vertical-align: top;\n",
       "    }\n",
       "\n",
       "    .dataframe thead th {\n",
       "        text-align: right;\n",
       "    }\n",
       "</style>\n",
       "<table border=\"1\" class=\"dataframe\">\n",
       "  <thead>\n",
       "    <tr style=\"text-align: right;\">\n",
       "      <th></th>\n",
       "      <th>sentence</th>\n",
       "      <th>deidentified</th>\n",
       "    </tr>\n",
       "  </thead>\n",
       "  <tbody>\n",
       "    <tr>\n",
       "      <th>0</th>\n",
       "      <td>A .</td>\n",
       "      <td>A .</td>\n",
       "    </tr>\n",
       "    <tr>\n",
       "      <th>1</th>\n",
       "      <td>Record date : 2093-01-13 , David Hale , M.D .</td>\n",
       "      <td>Record date : 2093-03-08 , Dr Cherrie Capers , M.D .</td>\n",
       "    </tr>\n",
       "    <tr>\n",
       "      <th>2</th>\n",
       "      <td>, Name : Hendrickson , Ora MR # 7194334 Date : 01/13/93 .</td>\n",
       "      <td>, Name : Cleveland Gandy MR # Y8931421 Date : 01-24-1992 .</td>\n",
       "    </tr>\n",
       "    <tr>\n",
       "      <th>3</th>\n",
       "      <td>Patient : Oliveira, 25 years-old , Record date : 2079-11-09 .</td>\n",
       "      <td>Patient : Monita Gibbons, 90 years-old , Record date : 2079-12-07 .</td>\n",
       "    </tr>\n",
       "    <tr>\n",
       "      <th>4</th>\n",
       "      <td>Cocke County Baptist Hospital .</td>\n",
       "      <td>LAWNWOOD PAVILION - PSYCHIATRIC HOSPITAL .</td>\n",
       "    </tr>\n",
       "    <tr>\n",
       "      <th>5</th>\n",
       "      <td>0295 Keats Street</td>\n",
       "      <td>Hartford</td>\n",
       "    </tr>\n",
       "  </tbody>\n",
       "</table>\n",
       "</div>"
      ],
      "text/plain": [
       "                                                        sentence                                                         deidentified\n",
       "0                                                            A .                                                                  A .\n",
       "1                  Record date : 2093-01-13 , David Hale , M.D .                 Record date : 2093-03-08 , Dr Cherrie Capers , M.D .\n",
       "2      , Name : Hendrickson , Ora MR # 7194334 Date : 01/13/93 .           , Name : Cleveland Gandy MR # Y8931421 Date : 01-24-1992 .\n",
       "3  Patient : Oliveira, 25 years-old , Record date : 2079-11-09 .  Patient : Monita Gibbons, 90 years-old , Record date : 2079-12-07 .\n",
       "4                                Cocke County Baptist Hospital .                           LAWNWOOD PAVILION - PSYCHIATRIC HOSPITAL .\n",
       "5                                              0295 Keats Street                                                             Hartford"
      ]
     },
     "execution_count": 98,
     "metadata": {
      "tags": []
     },
     "output_type": "execute_result"
    }
   ],
   "source": [
    "text ='''\n",
    "A . Record date : 2093-01-13 , David Hale , M.D . , Name : Hendrickson , Ora MR # 7194334 Date : 01/13/93 . Patient : Oliveira, 25 years-old , Record date : 2079-11-09 . Cocke County Baptist Hospital . 0295 Keats Street\n",
    "'''\n",
    "\n",
    "result = obfuscation_model.transform(spark.createDataFrame([[text]]).toDF(\"text\"))\n",
    "\n",
    "result.select(F.explode(F.arrays_zip('sentence.result', 'deidentified.result')).alias(\"cols\")) \\\n",
    ".select(F.expr(\"cols['0']\").alias(\"sentence\"), F.expr(\"cols['1']\").alias(\"deidentified\")).toPandas()"
   ]
  },
  {
   "cell_type": "code",
   "execution_count": 99,
   "metadata": {
    "colab": {
     "base_uri": "https://localhost:8080/"
    },
    "id": "lkQ4ojPftJh0",
    "outputId": "1dc9a89a-6296-434a-c7fb-9d705734c019"
   },
   "outputs": [
    {
     "data": {
      "text/plain": [
       "[Row(ner_chunk=[Row(annotatorType='chunk', begin=19, end=28, result='2093-01-13', metadata={'sentence': '1', 'chunk': '0', 'entity': 'DATE', 'confidence': '1.0'}, embeddings=[]), Row(annotatorType='chunk', begin=32, end=41, result='David Hale', metadata={'sentence': '1', 'chunk': '1', 'entity': 'DOCTOR', 'confidence': '0.9972'}, embeddings=[]), Row(annotatorType='chunk', begin=60, end=76, result='Hendrickson , Ora', metadata={'sentence': '2', 'chunk': '2', 'entity': 'PATIENT', 'confidence': '0.88743335'}, embeddings=[]), Row(annotatorType='chunk', begin=83, end=89, result='7194334', metadata={'sentence': '2', 'chunk': '3', 'entity': 'MEDICALRECORD', 'confidence': '0.9997'}, embeddings=[]), Row(annotatorType='chunk', begin=98, end=105, result='01/13/93', metadata={'sentence': '2', 'chunk': '4', 'entity': 'DATE', 'confidence': '1.0'}, embeddings=[]), Row(annotatorType='chunk', begin=119, end=126, result='Oliveira', metadata={'sentence': '3', 'chunk': '5', 'entity': 'PATIENT', 'confidence': '0.9998'}, embeddings=[]), Row(annotatorType='chunk', begin=129, end=130, result='25', metadata={'sentence': '3', 'chunk': '6', 'entity': 'AGE', 'confidence': '0.9947'}, embeddings=[]), Row(annotatorType='chunk', begin=158, end=167, result='2079-11-09', metadata={'sentence': '3', 'chunk': '7', 'entity': 'DATE', 'confidence': '1.0'}, embeddings=[]), Row(annotatorType='chunk', begin=171, end=199, result='Cocke County Baptist Hospital', metadata={'sentence': '4', 'chunk': '8', 'entity': 'HOSPITAL', 'confidence': '0.781075'}, embeddings=[]), Row(annotatorType='chunk', begin=203, end=219, result='0295 Keats Street', metadata={'sentence': '5', 'chunk': '9', 'entity': 'STREET', 'confidence': '0.9871333'}, embeddings=[])])]"
      ]
     },
     "execution_count": 99,
     "metadata": {
      "tags": []
     },
     "output_type": "execute_result"
    }
   ],
   "source": [
    "result.select(\"ner_chunk\").collect()"
   ]
  },
  {
   "cell_type": "code",
   "execution_count": 100,
   "metadata": {
    "colab": {
     "base_uri": "https://localhost:8080/",
     "height": 233
    },
    "id": "bv42DZOxi-lP",
    "outputId": "8620f1e5-546e-4581-aa0b-8d73e07f41e4"
   },
   "outputs": [
    {
     "data": {
      "text/html": [
       "<div>\n",
       "<style scoped>\n",
       "    .dataframe tbody tr th:only-of-type {\n",
       "        vertical-align: middle;\n",
       "    }\n",
       "\n",
       "    .dataframe tbody tr th {\n",
       "        vertical-align: top;\n",
       "    }\n",
       "\n",
       "    .dataframe thead th {\n",
       "        text-align: right;\n",
       "    }\n",
       "</style>\n",
       "<table border=\"1\" class=\"dataframe\">\n",
       "  <thead>\n",
       "    <tr style=\"text-align: right;\">\n",
       "      <th></th>\n",
       "      <th>sentence</th>\n",
       "      <th>deidentified</th>\n",
       "    </tr>\n",
       "  </thead>\n",
       "  <tbody>\n",
       "    <tr>\n",
       "      <th>0</th>\n",
       "      <td>A .</td>\n",
       "      <td>A .</td>\n",
       "    </tr>\n",
       "    <tr>\n",
       "      <th>1</th>\n",
       "      <td>Record date : 2093-01-13 , David Hale , M.D .</td>\n",
       "      <td>Record date : 2093-01-27 , COLLETTE KOHLER , M.D .</td>\n",
       "    </tr>\n",
       "    <tr>\n",
       "      <th>2</th>\n",
       "      <td>, Name : Hendrickson , Ora MR # 7194334 Date : 01/13/93 .</td>\n",
       "      <td>, Name : Kalil AMIN MR # &lt;MEDICALRECORD&gt; Date : 09-16-1973 .</td>\n",
       "    </tr>\n",
       "    <tr>\n",
       "      <th>3</th>\n",
       "      <td>Patient : Oliveira, 25 years-old , Record date : 2079-11-09 .</td>\n",
       "      <td>Patient : Hubert GROGAN, &lt;AGE&gt; years-old , Record date : 2079-11-21 .</td>\n",
       "    </tr>\n",
       "    <tr>\n",
       "      <th>4</th>\n",
       "      <td>Cocke County Baptist Hospital .</td>\n",
       "      <td>&lt;HOSPITAL&gt; .</td>\n",
       "    </tr>\n",
       "    <tr>\n",
       "      <th>5</th>\n",
       "      <td>0295 Keats Street</td>\n",
       "      <td>&lt;STREET&gt;</td>\n",
       "    </tr>\n",
       "  </tbody>\n",
       "</table>\n",
       "</div>"
      ],
      "text/plain": [
       "                                                        sentence                                                           deidentified\n",
       "0                                                            A .                                                                    A .\n",
       "1                  Record date : 2093-01-13 , David Hale , M.D .                     Record date : 2093-01-27 , COLLETTE KOHLER , M.D .\n",
       "2      , Name : Hendrickson , Ora MR # 7194334 Date : 01/13/93 .           , Name : Kalil AMIN MR # <MEDICALRECORD> Date : 09-16-1973 .\n",
       "3  Patient : Oliveira, 25 years-old , Record date : 2079-11-09 .  Patient : Hubert GROGAN, <AGE> years-old , Record date : 2079-11-21 .\n",
       "4                                Cocke County Baptist Hospital .                                                           <HOSPITAL> .\n",
       "5                                              0295 Keats Street                                                               <STREET>"
      ]
     },
     "execution_count": 100,
     "metadata": {
      "tags": []
     },
     "output_type": "execute_result"
    }
   ],
   "source": [
    "obfuscation = DeIdentification()\\\n",
    "      .setInputCols([\"sentence\", \"token\", \"ner_chunk\"]) \\\n",
    "      .setOutputCol(\"deidentified\") \\\n",
    "      .setMode(\"obfuscate\")\\\n",
    "      .setObfuscateDate(True)\\\n",
    "      .setObfuscateRefFile('obfuscation.txt')\\\n",
    "      .setObfuscateRefSource(\"file\")\n",
    "\n",
    "pipeline = Pipeline(stages=[\n",
    "      documentAssembler, \n",
    "      sentenceDetector,\n",
    "      tokenizer,\n",
    "      word_embeddings,\n",
    "      deid_ner,\n",
    "      ner_converter,\n",
    "      obfuscation\n",
    "])\n",
    "\n",
    "obfuscation_model = pipeline.fit(empty_data)      \n",
    "      \n",
    "      \n",
    "result = obfuscation_model.transform(spark.createDataFrame([[text]]).toDF(\"text\"))\n",
    "\n",
    "result.select(F.explode(F.arrays_zip('sentence.result', 'deidentified.result')).alias(\"cols\")) \\\n",
    ".select(F.expr(\"cols['0']\").alias(\"sentence\"), F.expr(\"cols['1']\").alias(\"deidentified\")).toPandas()"
   ]
  },
  {
   "cell_type": "markdown",
   "metadata": {
    "id": "9vL7_bDHWZw8"
   },
   "source": [
    "## Faker mode"
   ]
  },
  {
   "cell_type": "markdown",
   "metadata": {
    "id": "sE0P0vXWuJAS"
   },
   "source": [
    "The faker module allow to the user to use a set of fake entities that are in the memory of the spark-nlp-internal. You can setting up this module using the the following property setObfuscateRefSource('faker').\n",
    "\n",
    "If we select the setObfuscateRefSource('both') then we choose randomly the entities using the faker and the fakes entities from the obfuscateRefFile.\n",
    "\n",
    "\n",
    "The entities that are allowed right now are the followings:\n",
    "\n",
    "* Location\n",
    "* Location-other\n",
    "* Hospital\n",
    "* City\n",
    "* State\n",
    "* Zip\n",
    "* Country\n",
    "* Contact\n",
    "* Username\n",
    "* Phone\n",
    "* Fax\n",
    "* Url\n",
    "* Email\n",
    "* Profession\n",
    "* Name\n",
    "* Doctor\n",
    "* Patient\n",
    "* Id\n",
    "* Idnum\n",
    "* Bioid\n",
    "* Age\n",
    "* Organization\n",
    "* Healthplan\n",
    "* Medicalrecord\n",
    "* Ssn\n",
    "* Passport\n",
    "* DLN\n",
    "* NPI\n",
    "* C_card\n",
    "* IBAN\n",
    "* DEA\n",
    "* Device\n",
    "\n",
    "\n"
   ]
  },
  {
   "cell_type": "code",
   "execution_count": 101,
   "metadata": {
    "id": "w5P97F6jVkNB"
   },
   "outputs": [],
   "source": [
    "obfuscation = DeIdentification()\\\n",
    "      .setInputCols([\"sentence\", \"token\", \"ner_chunk\"]) \\\n",
    "      .setOutputCol(\"deidentified\") \\\n",
    "      .setMode(\"obfuscate\")\\\n",
    "      .setObfuscateDate(True)\\\n",
    "      .setObfuscateRefSource(\"faker\") \\\n",
    "\n",
    "pipeline = Pipeline(stages=[\n",
    "      documentAssembler, \n",
    "      sentenceDetector,\n",
    "      tokenizer,\n",
    "      word_embeddings,\n",
    "      deid_ner,\n",
    "      ner_converter,\n",
    "      obfuscation\n",
    "])\n",
    "\n",
    "obfuscation_model = pipeline.fit(empty_data)"
   ]
  },
  {
   "cell_type": "code",
   "execution_count": 102,
   "metadata": {
    "colab": {
     "base_uri": "https://localhost:8080/",
     "height": 233
    },
    "id": "lf6OBIjvjWFd",
    "outputId": "3dd673f6-ef18-4f76-f34d-b9716de94345"
   },
   "outputs": [
    {
     "data": {
      "text/html": [
       "<div>\n",
       "<style scoped>\n",
       "    .dataframe tbody tr th:only-of-type {\n",
       "        vertical-align: middle;\n",
       "    }\n",
       "\n",
       "    .dataframe tbody tr th {\n",
       "        vertical-align: top;\n",
       "    }\n",
       "\n",
       "    .dataframe thead th {\n",
       "        text-align: right;\n",
       "    }\n",
       "</style>\n",
       "<table border=\"1\" class=\"dataframe\">\n",
       "  <thead>\n",
       "    <tr style=\"text-align: right;\">\n",
       "      <th></th>\n",
       "      <th>sentence</th>\n",
       "      <th>deidentified</th>\n",
       "    </tr>\n",
       "  </thead>\n",
       "  <tbody>\n",
       "    <tr>\n",
       "      <th>0</th>\n",
       "      <td>A .</td>\n",
       "      <td>A .</td>\n",
       "    </tr>\n",
       "    <tr>\n",
       "      <th>1</th>\n",
       "      <td>Record date : 2093-01-13 , David Hale , M.D .</td>\n",
       "      <td>Record date : 2093-01-20 , Dr Armin Boeck , M.D .</td>\n",
       "    </tr>\n",
       "    <tr>\n",
       "      <th>2</th>\n",
       "      <td>, Name : Hendrickson , Ora MR # 7194334 Date : 01/13/93 .</td>\n",
       "      <td>, Name : Aaron Grumbling MR # K6060804 Date : 03-20-1992 .</td>\n",
       "    </tr>\n",
       "    <tr>\n",
       "      <th>3</th>\n",
       "      <td>Patient : Oliveira, 25 years-old , Record date : 2079-11-09 .</td>\n",
       "      <td>Patient : Adrienne Proctor, 70 years-old , Record date : 2079-12-03 .</td>\n",
       "    </tr>\n",
       "    <tr>\n",
       "      <th>4</th>\n",
       "      <td>Cocke County Baptist Hospital .</td>\n",
       "      <td>PARKVIEW WABASH HOSPITAL .</td>\n",
       "    </tr>\n",
       "    <tr>\n",
       "      <th>5</th>\n",
       "      <td>0295 Keats Street</td>\n",
       "      <td>Benton</td>\n",
       "    </tr>\n",
       "  </tbody>\n",
       "</table>\n",
       "</div>"
      ],
      "text/plain": [
       "                                                        sentence                                                           deidentified\n",
       "0                                                            A .                                                                    A .\n",
       "1                  Record date : 2093-01-13 , David Hale , M.D .                      Record date : 2093-01-20 , Dr Armin Boeck , M.D .\n",
       "2      , Name : Hendrickson , Ora MR # 7194334 Date : 01/13/93 .             , Name : Aaron Grumbling MR # K6060804 Date : 03-20-1992 .\n",
       "3  Patient : Oliveira, 25 years-old , Record date : 2079-11-09 .  Patient : Adrienne Proctor, 70 years-old , Record date : 2079-12-03 .\n",
       "4                                Cocke County Baptist Hospital .                                             PARKVIEW WABASH HOSPITAL .\n",
       "5                                              0295 Keats Street                                                                 Benton"
      ]
     },
     "execution_count": 102,
     "metadata": {
      "tags": []
     },
     "output_type": "execute_result"
    }
   ],
   "source": [
    "text ='''\n",
    "A . Record date : 2093-01-13 , David Hale , M.D . , Name : Hendrickson , Ora MR # 7194334 Date : 01/13/93 . Patient : Oliveira, 25 years-old , Record date : 2079-11-09 . Cocke County Baptist Hospital . 0295 Keats Street\n",
    "'''\n",
    "\n",
    "result = obfuscation_model.transform(spark.createDataFrame([[text]]).toDF(\"text\"))\n",
    "\n",
    "result.select(F.explode(F.arrays_zip('sentence.result', 'deidentified.result')).alias(\"cols\")) \\\n",
    ".select(F.expr(\"cols['0']\").alias(\"sentence\"), F.expr(\"cols['1']\").alias(\"deidentified\")).toPandas()"
   ]
  },
  {
   "cell_type": "markdown",
   "metadata": {
    "id": "9jAMC21Hf89v"
   },
   "source": [
    "## Use full pipeline in the Light model"
   ]
  },
  {
   "cell_type": "code",
   "execution_count": 103,
   "metadata": {
    "id": "HWZViBMJpdTT"
   },
   "outputs": [],
   "source": [
    "text ='''\n",
    "A . Record date : 2093-01-13 , David Hale , M.D . , Name : Hendrickson , Ora MR # 7194334 Date : 01/13/93 . Patient : Oliveira, 25 years-old , Record date : 2079-11-09 . Cocke County Baptist Hospital . 0295 Keats Street\n",
    "'''"
   ]
  },
  {
   "cell_type": "code",
   "execution_count": 104,
   "metadata": {
    "colab": {
     "base_uri": "https://localhost:8080/"
    },
    "id": "q4mg2R-yW4nz",
    "outputId": "20719407-80fe-4041-9c31-57105875205b"
   },
   "outputs": [
    {
     "data": {
      "text/plain": [
       "['A .',\n",
       " 'Record date : <DATE> , <NAME> , M.D .',\n",
       " '<DATE>',\n",
       " '<NAME>',\n",
       " ', Name : <NAME> MR # <ID> Date : <DATE> .',\n",
       " '<NAME>',\n",
       " '<ID>',\n",
       " '<DATE>',\n",
       " 'Patient : <NAME>, <AGE> years-old , Record date : <DATE> .',\n",
       " '<NAME>',\n",
       " '<AGE>',\n",
       " '<DATE>',\n",
       " '<HOSPITAL> .',\n",
       " '<HOSPITAL>',\n",
       " '<STREET>',\n",
       " '<STREET>']"
      ]
     },
     "execution_count": 104,
     "metadata": {
      "tags": []
     },
     "output_type": "execute_result"
    }
   ],
   "source": [
    "light_model = LightPipeline(model)\n",
    "annotated_text = light_model.annotate(text)\n",
    "annotated_text['deidentified']"
   ]
  },
  {
   "cell_type": "code",
   "execution_count": 105,
   "metadata": {
    "colab": {
     "base_uri": "https://localhost:8080/"
    },
    "id": "rGALkSGQjf4h",
    "outputId": "f782b66d-206d-486b-8317-1fab2921d69d"
   },
   "outputs": [
    {
     "data": {
      "text/plain": [
       "['A .',\n",
       " 'Record date : 2093-02-19 , Dr Armin Boeck , M.D .',\n",
       " ', Name : Aaron Grumbling MR # K6060804 Date : 03-20-1992 .',\n",
       " 'Patient : Adrienne Proctor, 70 years-old , Record date : 2079-12-29 .',\n",
       " 'PARKVIEW WABASH HOSPITAL .',\n",
       " 'Benton']"
      ]
     },
     "execution_count": 105,
     "metadata": {
      "tags": []
     },
     "output_type": "execute_result"
    }
   ],
   "source": [
    "obf_light_model = LightPipeline(obfuscation_model)\n",
    "annotated_text = obf_light_model.annotate(text)\n",
    "annotated_text['deidentified']"
   ]
  },
  {
   "cell_type": "markdown",
   "metadata": {
    "id": "zwM9GsKnXPOg"
   },
   "source": [
    "# Structured Deidentification"
   ]
  },
  {
   "cell_type": "code",
   "execution_count": 106,
   "metadata": {
    "colab": {
     "base_uri": "https://localhost:8080/"
    },
    "id": "JLY-pfeYXQAY",
    "outputId": "f26b0ba2-15a0-42de-ec2d-c06f8640818c"
   },
   "outputs": [
    {
     "name": "stdout",
     "output_type": "stream",
     "text": [
      "+---------------+----------+---+----------------------------------------------------+-------+--------------+---+---+\n",
      "|NAME           |DOB       |AGE|ADDRESS                                             |ZIPCODE|TEL           |SBP|DBP|\n",
      "+---------------+----------+---+----------------------------------------------------+-------+--------------+---+---+\n",
      "|Cecilia Chapman|04/02/1935|83 |711-2880 Nulla St. Mankato Mississippi              |69200  |(257) 563-7401|101|42 |\n",
      "|Iris Watson    |03/10/2009|9  |P.O. Box 283 8562 Fusce Rd. Frederick Nebraska      |20620  |(372) 587-2335|159|122|\n",
      "|Bryar Pitts    |11/01/1921|98 |5543 Aliquet St. Fort Dodge GA                      |20783  |(717) 450-4729|149|52 |\n",
      "|Theodore Lowe  |13/02/2002|16 |Ap #867-859 Sit Rd. Azusa New York                  |39531  |(793) 151-6230|134|115|\n",
      "|Calista Wise   |20/08/1942|76 |7292 Dictum Av. San Antonio MI                      |47096  |(492) 709-6392|139|78 |\n",
      "|Kyla Olsen     |12/05/1973|45 |Ap #651-8679 Sodales Av. Tamuning PA                |10855  |(654) 393-5734|120|112|\n",
      "|Forrest Ray    |11/01/1991|27 |191-103 Integer Rd. Corona New Mexico               |8219   |(404) 960-3807|143|126|\n",
      "|Hiroko Potter  |18/11/1937|81 |P.O. Box 887 2508 Dolor. Av. Muskegon KY            |12482  |(314) 244-6306|147|75 |\n",
      "|Celeste Slater |12/05/1980|38 |606-3727 Ullamcorper. Street Roseville NH           |11523  |(786) 713-8616|147|123|\n",
      "|Nyssa Vazquez  |24/09/1956|62 |511-5762 At Rd. Chelsea MI                          |67708  |(947) 278-5929|129|50 |\n",
      "|Lawrence Moreno|26/12/1906|112|935-9940 Tortor. Street Santa Rosa MN               |98804  |(684) 579-1879|133|102|\n",
      "|Ina Moran      |26/10/1983|35 |P.O. Box 929 4189 Nunc Road Lebanon KY              |69409  |(389) 737-2852|101|67 |\n",
      "|Aaron Hawkins  |26/09/2009|9  |5587 Nunc. Avenue Erie Rhode Island                 |24975  |(660) 663-4518|87 |81 |\n",
      "|Hedy Greene    |03/10/1920|98 |Ap #696-3279 Viverra. Avenue Latrobe DE             |38100  |(608) 265-2215|128|123|\n",
      "|Melvin Porter  |14/08/1911|107|P.O. Box 132 1599 Curabitur Rd. Bandera South Dakota|45149  |(959) 119-8364|83 |43 |\n",
      "|Keefe Sellers  |16/05/1937|81 |347-7666 Iaculis St. Woodruff SC                    |49854  |(468) 353-2641|148|109|\n",
      "|Joan Romero    |08/12/2004|14 |666-4366 Lacinia Avenue Idaho Falls Ohio            |19253  |(248) 675-4007|75 |53 |\n",
      "|Davis Patrick  |09/01/1956|63 |P.O. Box 147 2546 Sociosqu Rd. Bethlehem Utah       |2913   |(939) 353-1107|142|62 |\n",
      "|Leilani Boyer  |18/10/1934|84 |557-6308 Lacinia Road San Bernardino ND             |9289   |(570) 873-7090|137|48 |\n",
      "|Colby Bernard  |02/10/1905|113|Ap #285-7193 Ullamcorper Avenue Amesbury HI         |93373  |(302) 259-2375|84 |41 |\n",
      "+---------------+----------+---+----------------------------------------------------+-------+--------------+---+---+\n",
      "only showing top 20 rows\n",
      "\n"
     ]
    }
   ],
   "source": [
    "!wget -q https://raw.githubusercontent.com/JohnSnowLabs/spark-nlp-workshop/master/tutorials/Certification_Trainings/Healthcare/data/hipaa-table-001.txt\n",
    "\n",
    "df = spark.read.format(\"csv\") \\\n",
    "    .option(\"sep\", \"\\t\") \\\n",
    "    .option(\"inferSchema\", \"true\") \\\n",
    "    .option(\"header\", \"true\") \\\n",
    "    .load(\"hipaa-table-001.txt\")\n",
    "\n",
    "df = df.withColumnRenamed(\"PATIENT\",\"NAME\")\n",
    "df.show(truncate=False)"
   ]
  },
  {
   "cell_type": "code",
   "execution_count": 107,
   "metadata": {
    "id": "F9bl5oo0ZhD_"
   },
   "outputs": [],
   "source": [
    "from sparknlp_jsl.structured_deidentification import StructuredDeidentification"
   ]
  },
  {
   "cell_type": "code",
   "execution_count": 108,
   "metadata": {
    "colab": {
     "base_uri": "https://localhost:8080/"
    },
    "id": "PQ84IQTGcFAd",
    "outputId": "41205de9-c271-4006-932d-d5ef9b66ad97"
   },
   "outputs": [
    {
     "name": "stdout",
     "output_type": "stream",
     "text": [
      "+-------------------+----------+----+----------------------------------------------------+-------+--------------+---+---+\n",
      "|NAME               |DOB       |AGE |ADDRESS                                             |ZIPCODE|TEL           |SBP|DBP|\n",
      "+-------------------+----------+----+----------------------------------------------------+-------+--------------+---+---+\n",
      "|[Lynnann Barrios]  |04/02/1935|[55]|711-2880 Nulla St. Mankato Mississippi              |69200  |(257) 563-7401|101|42 |\n",
      "|[Rhea Juba]        |03/10/2009|[34]|P.O. Box 283 8562 Fusce Rd. Frederick Nebraska      |20620  |(372) 587-2335|159|122|\n",
      "|[Daphney Lah]      |11/01/1921|[59]|5543 Aliquet St. Fort Dodge GA                      |20783  |(717) 450-4729|149|52 |\n",
      "|[Viona Persia]     |13/02/2002|[78]|Ap #867-859 Sit Rd. Azusa New York                  |39531  |(793) 151-6230|134|115|\n",
      "|[Adelle Manna]     |20/08/1942|[82]|7292 Dictum Av. San Antonio MI                      |47096  |(492) 709-6392|139|78 |\n",
      "|[Council Profit]   |12/05/1973|[85]|Ap #651-8679 Sodales Av. Tamuning PA                |10855  |(654) 393-5734|120|112|\n",
      "|[Loralie Prime]    |11/01/1991|[49]|191-103 Integer Rd. Corona New Mexico               |8219   |(404) 960-3807|143|126|\n",
      "|[Ernesta Broody]   |18/11/1937|[31]|P.O. Box 887 2508 Dolor. Av. Muskegon KY            |12482  |(314) 244-6306|147|75 |\n",
      "|[Kathey Bobo]      |12/05/1980|[74]|606-3727 Ullamcorper. Street Roseville NH           |11523  |(786) 713-8616|147|123|\n",
      "|[Karlton Nimrod]   |24/09/1956|[77]|511-5762 At Rd. Chelsea MI                          |67708  |(947) 278-5929|129|50 |\n",
      "|[Searcy Debar]     |26/12/1906|[60]|935-9940 Tortor. Street Santa Rosa MN               |98804  |(684) 579-1879|133|102|\n",
      "|[Lynann Beagle]    |26/10/1983|[47]|P.O. Box 929 4189 Nunc Road Lebanon KY              |69409  |(389) 737-2852|101|67 |\n",
      "|[Lenore Southern]  |26/09/2009|[34]|5587 Nunc. Avenue Erie Rhode Island                 |24975  |(660) 663-4518|87 |81 |\n",
      "|[Marcellina Carney]|03/10/1920|[59]|Ap #696-3279 Viverra. Avenue Latrobe DE             |38100  |(608) 265-2215|128|123|\n",
      "|[Adrain Mason]     |14/08/1911|[44]|P.O. Box 132 1599 Curabitur Rd. Bandera South Dakota|45149  |(959) 119-8364|83 |43 |\n",
      "|[Earvin Lye]       |16/05/1937|[31]|347-7666 Iaculis St. Woodruff SC                    |49854  |(468) 353-2641|148|109|\n",
      "|[Dalphine Kussmaul]|08/12/2004|[67]|666-4366 Lacinia Avenue Idaho Falls Ohio            |19253  |(248) 675-4007|75 |53 |\n",
      "|[Abbott Shorten]   |09/01/1956|[65]|P.O. Box 147 2546 Sociosqu Rd. Bethlehem Utah       |2913   |(939) 353-1107|142|62 |\n",
      "|[Lionel Boot]      |18/10/1934|[67]|557-6308 Lacinia Road San Bernardino ND             |9289   |(570) 873-7090|137|48 |\n",
      "|[Phylliss Anderson]|02/10/1905|[87]|Ap #285-7193 Ullamcorper Avenue Amesbury HI         |93373  |(302) 259-2375|84 |41 |\n",
      "+-------------------+----------+----+----------------------------------------------------+-------+--------------+---+---+\n",
      "only showing top 20 rows\n",
      "\n"
     ]
    }
   ],
   "source": [
    "obfuscator = StructuredDeidentification(spark,{\"NAME\":\"PATIENT\",\"AGE\":\"AGE\"}, obfuscateRefSource = \"faker\")\n",
    "obfuscator_df = obfuscator.obfuscateColumns(df)\n",
    "obfuscator_df.show(truncate=False)"
   ]
  },
  {
   "cell_type": "code",
   "execution_count": 109,
   "metadata": {
    "colab": {
     "base_uri": "https://localhost:8080/"
    },
    "id": "yyXkmHrpcL7q",
    "outputId": "3079a6c2-736d-4fa2-b5b0-a43cd8bee8ab"
   },
   "outputs": [
    {
     "name": "stdout",
     "output_type": "stream",
     "text": [
      "+-------------------+----+\n",
      "|NAME               |AGE |\n",
      "+-------------------+----+\n",
      "|[Beecher Ransom]   |[3] |\n",
      "|[Willard Lash]     |[61]|\n",
      "|[RudolM Basques]   |[93]|\n",
      "|[Stacy Iba]        |[69]|\n",
      "|[Anton Hope]       |[21]|\n",
      "|[Claudius Pizza]   |[33]|\n",
      "|[Lenis Galt]       |[53]|\n",
      "|[Garnet Fruit]     |[83]|\n",
      "|[Aldona Lobo]      |[39]|\n",
      "|[Annamarie Caller] |[72]|\n",
      "|[Lawayne Bells]    |[68]|\n",
      "|[Jack Sand]        |[50]|\n",
      "|[Toni Battles]     |[61]|\n",
      "|[Abigail Reeve]    |[93]|\n",
      "|[Brock Dais]       |[30]|\n",
      "|[Scharlene Charity]|[83]|\n",
      "|[Iola Copa]        |[82]|\n",
      "|[Louie Amass]      |[45]|\n",
      "|[Emilio Host]      |[4] |\n",
      "|[Terral Eck]       |[30]|\n",
      "+-------------------+----+\n",
      "only showing top 20 rows\n",
      "\n"
     ]
    }
   ],
   "source": [
    "obfuscator_unique_ref_test = '''Will Perry#PATIENT\n",
    "John Smith#PATIENT\n",
    "Marvin MARSHALL#PATIENT\n",
    "Hubert GROGAN#PATIENT\n",
    "ALTHEA COLBURN#PATIENT\n",
    "Kalil AMIN#PATIENT\n",
    "Inci FOUNTAIN#PATIENT\n",
    "Aberdeen#CITY\n",
    "Louisburg St#STREET\n",
    "France#LOC\n",
    "Nick Riviera#DOCTOR\n",
    "5552312#PHONE\n",
    "St James Hospital#HOSPITAL\n",
    "Calle del Libertador#ADDRESS\n",
    "111#ID\n",
    "Will#DOCTOR'''\n",
    "\n",
    "with open('obfuscator_unique_ref_test.txt', 'w') as f:\n",
    "  f.write(obfuscator_unique_ref_test)\n",
    "\n",
    "obfuscator = StructuredDeidentification(spark,{\"NAME\":\"PATIENT\",\"AGE\":\"AGE\"}, \"/content/obfuscator_unique_ref_test.txt\")\n",
    "obfuscator_df = obfuscator.obfuscateColumns(df)\n",
    "obfuscator_df.select(\"NAME\",\"AGE\").show(truncate=False)"
   ]
  },
  {
   "cell_type": "markdown",
   "metadata": {
    "id": "vI2Lkwf5zuUm"
   },
   "source": [
    "# Pretrained Deidentification Pipeline\n",
    "\n",
    "This pipeline can be used to deidentify PHI information from medical texts. The PHI information will be masked and obfuscated in the resulting text. The pipeline can mask and obfuscate `AGE`, `CONTACT`, `DATE`, `ID`, `LOCATION`, `NAME`, `PROFESSION`, `CITY`, `COUNTRY`, `DOCTOR`, `HOSPITAL`, `IDNUM`, `MEDICALRECORD`, `ORGANIZATION`, `PATIENT`, `PHONE`, `PROFESSION`, `STREET`, `USERNAME`, `ZIP`, `ACCOUNT`, `LICENSE`, `VIN`, `SSN`, `DLN`, `PLATE`, `IPADDR` entities."
   ]
  },
  {
   "cell_type": "code",
   "execution_count": 110,
   "metadata": {
    "colab": {
     "base_uri": "https://localhost:8080/"
    },
    "id": "hQu0sQ6Tz1Fd",
    "outputId": "ae79f9e9-6371-48ff-b681-d88f074988f2"
   },
   "outputs": [
    {
     "name": "stdout",
     "output_type": "stream",
     "text": [
      "clinical_deidentification download started this may take some time.\n",
      "Approx size to download 1.6 GB\n",
      "[OK!]\n"
     ]
    }
   ],
   "source": [
    "from sparknlp.pretrained import PretrainedPipeline\n",
    "\n",
    "deid_pipeline = PretrainedPipeline(\"clinical_deidentification\", \"en\", \"clinical/models\")"
   ]
  },
  {
   "cell_type": "code",
   "execution_count": 111,
   "metadata": {
    "id": "0N8Mb4HA0YYM"
   },
   "outputs": [],
   "source": [
    "deid_res = deid_pipeline.annotate(\"Record date : 2093-01-13, David Hale, M.D. IP: 203.120.223.13. The driver's license no:A334455B. the SSN:324598674 and e-mail: hale@gmail.com. Name : Hendrickson, Ora MR. 25 years-old # 719435 Date : 01/13/93. Signed by Oliveira Sander, . Record date : 2079-11-09, Patient's VIN : 1HGBH41JXMN109286.\")"
   ]
  },
  {
   "cell_type": "code",
   "execution_count": 112,
   "metadata": {
    "colab": {
     "base_uri": "https://localhost:8080/"
    },
    "id": "3fYhKkfv0bZ0",
    "outputId": "8da248a2-5128-4a99-934f-fdeec18cc856"
   },
   "outputs": [
    {
     "data": {
      "text/plain": [
       "dict_keys(['masked', 'obfuscated', 'ner_chunk', 'sentence'])"
      ]
     },
     "execution_count": 112,
     "metadata": {
      "tags": []
     },
     "output_type": "execute_result"
    }
   ],
   "source": [
    "deid_res.keys()"
   ]
  },
  {
   "cell_type": "code",
   "execution_count": 113,
   "metadata": {
    "colab": {
     "base_uri": "https://localhost:8080/",
     "height": 298
    },
    "id": "23A7T6Hx0dBX",
    "outputId": "384c6bbd-83d2-4e3c-fd57-c69c38ae763c"
   },
   "outputs": [
    {
     "data": {
      "text/html": [
       "<div>\n",
       "<style scoped>\n",
       "    .dataframe tbody tr th:only-of-type {\n",
       "        vertical-align: middle;\n",
       "    }\n",
       "\n",
       "    .dataframe tbody tr th {\n",
       "        vertical-align: top;\n",
       "    }\n",
       "\n",
       "    .dataframe thead th {\n",
       "        text-align: right;\n",
       "    }\n",
       "</style>\n",
       "<table border=\"1\" class=\"dataframe\">\n",
       "  <thead>\n",
       "    <tr style=\"text-align: right;\">\n",
       "      <th></th>\n",
       "      <th>Sentence</th>\n",
       "      <th>Masked</th>\n",
       "      <th>Obfuscated</th>\n",
       "    </tr>\n",
       "  </thead>\n",
       "  <tbody>\n",
       "    <tr>\n",
       "      <th>0</th>\n",
       "      <td>Record date : 2093-01-13, David Hale, M.D.</td>\n",
       "      <td>Record date : &lt;DATE&gt;, &lt;DOCTOR&gt;, M.D.</td>\n",
       "      <td>Record date : 2093-02-08, Dr Armin Gums, M.D.</td>\n",
       "    </tr>\n",
       "    <tr>\n",
       "      <th>1</th>\n",
       "      <td>IP: 203.120.223.13.</td>\n",
       "      <td>IP: &lt;IPADDR&gt;.</td>\n",
       "      <td>IP: 003.003.003.003.</td>\n",
       "    </tr>\n",
       "    <tr>\n",
       "      <th>2</th>\n",
       "      <td>The driver's license no:A334455B.</td>\n",
       "      <td>The driver's license &lt;DLN&gt;.</td>\n",
       "      <td>The driver's license S99921801.</td>\n",
       "    </tr>\n",
       "    <tr>\n",
       "      <th>3</th>\n",
       "      <td>the SSN:324598674 and e-mail: hale@gmail.com.</td>\n",
       "      <td>the &lt;SSN&gt; and e-mail: &lt;EMAIL&gt;.</td>\n",
       "      <td>the 999-36-5441 and e-mail: Coy@google.com.</td>\n",
       "    </tr>\n",
       "    <tr>\n",
       "      <th>4</th>\n",
       "      <td>Name : Hendrickson, Ora MR. 25 years-old # 719435 Date : 01/13/93.</td>\n",
       "      <td>Name : &lt;PATIENT&gt; MR. &lt;AGE&gt; years-old # &lt;MEDICALRECORD&gt; Date : &lt;DATE&gt;.</td>\n",
       "      <td>Name : Katheran Furry MR. 5 years-old # Y8290315 Date : 03-18-1986.</td>\n",
       "    </tr>\n",
       "    <tr>\n",
       "      <th>5</th>\n",
       "      <td>Signed by Oliveira Sander, .</td>\n",
       "      <td>Signed by &lt;DOCTOR&gt;, .</td>\n",
       "      <td>Signed by Dr Pansy Perking, .</td>\n",
       "    </tr>\n",
       "    <tr>\n",
       "      <th>6</th>\n",
       "      <td>Record date : 2079-11-09, Patient's VIN : 1HGBH41JXMN109286.</td>\n",
       "      <td>Record date : &lt;DATE&gt;, Patient's VIN : &lt;VIN&gt;.</td>\n",
       "      <td>Record date : 2080-01-07, Patient's VIN : 5eeee44ffff555666.</td>\n",
       "    </tr>\n",
       "  </tbody>\n",
       "</table>\n",
       "</div>"
      ],
      "text/plain": [
       "                                                             Sentence                                                                 Masked                                                           Obfuscated\n",
       "0                          Record date : 2093-01-13, David Hale, M.D.                                   Record date : <DATE>, <DOCTOR>, M.D.                        Record date : 2093-02-08, Dr Armin Gums, M.D.\n",
       "1                                                 IP: 203.120.223.13.                                                          IP: <IPADDR>.                                                 IP: 003.003.003.003.\n",
       "2                                   The driver's license no:A334455B.                                            The driver's license <DLN>.                                      The driver's license S99921801.\n",
       "3                       the SSN:324598674 and e-mail: hale@gmail.com.                                         the <SSN> and e-mail: <EMAIL>.                          the 999-36-5441 and e-mail: Coy@google.com.\n",
       "4  Name : Hendrickson, Ora MR. 25 years-old # 719435 Date : 01/13/93.  Name : <PATIENT> MR. <AGE> years-old # <MEDICALRECORD> Date : <DATE>.  Name : Katheran Furry MR. 5 years-old # Y8290315 Date : 03-18-1986.\n",
       "5                                        Signed by Oliveira Sander, .                                                  Signed by <DOCTOR>, .                                        Signed by Dr Pansy Perking, .\n",
       "6        Record date : 2079-11-09, Patient's VIN : 1HGBH41JXMN109286.                           Record date : <DATE>, Patient's VIN : <VIN>.         Record date : 2080-01-07, Patient's VIN : 5eeee44ffff555666."
      ]
     },
     "execution_count": 113,
     "metadata": {
      "tags": []
     },
     "output_type": "execute_result"
    }
   ],
   "source": [
    "pd.set_option(\"display.max_colwidth\", 100)\n",
    "\n",
    "df = pd.DataFrame(list(zip(deid_res['sentence'], deid_res['masked'], deid_res['obfuscated'])),\n",
    "                  columns = ['Sentence','Masked', 'Obfuscated'])\n",
    "df"
   ]
  }
 ],
 "metadata": {
  "accelerator": "GPU",
  "colab": {
   "collapsed_sections": [],
   "name": "4.Clinical_DeIdentification.ipynb",
   "provenance": []
  },
  "kernelspec": {
   "display_name": "Python 3 (ipykernel)",
   "language": "python",
   "name": "python3"
  },
  "language_info": {
   "codemirror_mode": {
    "name": "ipython",
    "version": 3
   },
   "file_extension": ".py",
   "mimetype": "text/x-python",
   "name": "python",
   "nbconvert_exporter": "python",
   "pygments_lexer": "ipython3",
   "version": "3.7.6"
  }
 },
 "nbformat": 4,
 "nbformat_minor": 1
}

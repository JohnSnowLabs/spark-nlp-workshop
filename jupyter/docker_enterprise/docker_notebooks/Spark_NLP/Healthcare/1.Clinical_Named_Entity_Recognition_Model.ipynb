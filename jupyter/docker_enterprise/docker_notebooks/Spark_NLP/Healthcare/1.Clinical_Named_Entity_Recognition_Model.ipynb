{
 "cells": [
  {
   "cell_type": "markdown",
   "metadata": {
    "id": "I08sFJYCxR0Z"
   },
   "source": [
    "![JohnSnowLabs](https://nlp.johnsnowlabs.com/assets/images/logo.png)"
   ]
  },
  {
   "cell_type": "markdown",
   "metadata": {
    "id": "FwJ-P56kq6FU"
   },
   "source": [
    "[![Open In Colab](https://colab.research.google.com/assets/colab-badge.svg)](https://colab.research.google.com/github/JohnSnowLabs/spark-nlp-workshop/blob/master/tutorials/Certification_Trainings/Healthcare/1.Clinical_Named_Entity_Recognition_Model.ipynb)"
   ]
  },
  {
   "cell_type": "markdown",
   "metadata": {
    "id": "Niy3mZAjoayg"
   },
   "source": [
    "# 1. Clinical Named Entity Recognition (NER)"
   ]
  },
  {
   "cell_type": "markdown",
   "metadata": {
    "id": "huGcLHSP6oVb"
   },
   "source": [
    "## Blogposts and videos:\n",
    "\n",
    "https://towardsdatascience.com/named-entity-recognition-ner-with-bert-in-spark-nlp-874df20d1d77\n",
    "\n",
    "https://www.youtube.com/watch?v=YM-e4eOiQ34\n",
    "\n",
    "https://medium.com/spark-nlp/named-entity-recognition-for-healthcare-with-sparknlp-nerdl-and-nercrf-a7751b6ad571\n",
    "\n",
    "https://medium.com/atlas-research/ner-for-clinical-text-7c73caddd180"
   ]
  },
  {
   "cell_type": "code",
   "execution_count": 2,
   "metadata": {
    "id": "vjvIQUkLBzxz"
   },
   "outputs": [],
   "source": [
    "import os\n",
    "\n",
    "jsl_secret = os.getenv('SECRET')\n",
    "\n",
    "import sparknlp\n",
    "sparknlp_version = sparknlp.version()\n",
    "import sparknlp_jsl\n",
    "jsl_version = sparknlp_jsl.version()\n",
    "\n",
    "print (jsl_secret)"
   ]
  },
  {
   "cell_type": "code",
   "execution_count": null,
   "metadata": {
    "id": "sNs3kOKMVK2Z"
   },
   "outputs": [],
   "source": [
    "# if you want to start the session with custom params as in start function above\n",
    "def start(secret):\n",
    "    builder = SparkSession.builder \\\n",
    "        .appName(\"Spark NLP Licensed\") \\\n",
    "        .master(\"local[*]\") \\\n",
    "        .config(\"spark.driver.memory\", \"16G\") \\\n",
    "        .config(\"spark.serializer\", \"org.apache.spark.serializer.KryoSerializer\") \\\n",
    "        .config(\"spark.kryoserializer.buffer.max\", \"2000M\") \\\n",
    "        .config(\"spark.jars.packages\", \"com.johnsnowlabs.nlp:spark-nlp_2.12:\"+sparknlp_version) \\\n",
    "        .config(\"spark.jars\", \"https://pypi.johnsnowlabs.com/\"+jsl_secret+\"/spark-nlp-jsl-\"+jsl_version+\".jar\")\n",
    "      \n",
    "    return builder.getOrCreate()\n",
    "\n",
    "#spark = start(secret)"
   ]
  },
  {
   "cell_type": "code",
   "execution_count": 3,
   "metadata": {
    "colab": {
     "base_uri": "https://localhost:8080/"
    },
    "id": "ziwjuhAV7DYH",
    "outputId": "df2626cc-c922-495f-f00a-7c5098879484"
   },
   "outputs": [
    {
     "name": "stdout",
     "output_type": "stream",
     "text": [
      "Spark NLP Version : 3.1.2\n",
      "Spark NLP_JSL Version : 3.1.2\n"
     ]
    }
   ],
   "source": [
    "import json\n",
    "import os\n",
    "from pyspark.ml import Pipeline,PipelineModel\n",
    "from pyspark.sql import SparkSession\n",
    "\n",
    "from sparknlp.annotator import *\n",
    "from sparknlp_jsl.annotator import *\n",
    "from sparknlp.base import *\n",
    "import sparknlp_jsl\n",
    "import sparknlp\n",
    "\n",
    "params = {\"spark.driver.memory\":\"16G\",\n",
    "\"spark.kryoserializer.buffer.max\":\"2000M\",\n",
    "\"spark.driver.maxResultSize\":\"2000M\"}\n",
    "\n",
    "spark = sparknlp_jsl.start(jsl_secret,params=params)\n",
    "\n",
    "print (\"Spark NLP Version :\", sparknlp.version())\n",
    "print (\"Spark NLP_JSL Version :\", sparknlp_jsl.version())"
   ]
  },
  {
   "cell_type": "markdown",
   "metadata": {
    "id": "AMU4sAJQ0Rhs"
   },
   "source": [
    "# Clinical NER Pipeline (with pretrained models)"
   ]
  },
  {
   "cell_type": "code",
   "execution_count": null,
   "metadata": {
    "colab": {
     "base_uri": "https://localhost:8080/"
    },
    "id": "DEa5SITBxmY0",
    "outputId": "f7118dc5-502e-4375-b9be-92e812a44651"
   },
   "outputs": [
    {
     "name": "stdout",
     "output_type": "stream",
     "text": [
      "sentence_detector_dl_healthcare download started this may take some time.\n",
      "Approximate size to download 363.9 KB\n",
      "[OK!]\n",
      "embeddings_clinical download started this may take some time.\n",
      "Approximate size to download 1.6 GB\n",
      "[OK!]\n",
      "ner_clinical_large download started this may take some time.\n",
      "Approximate size to download 13.9 MB\n",
      "[OK!]\n"
     ]
    }
   ],
   "source": [
    "# Annotator that transforms a text column from dataframe into an Annotation ready for NLP\n",
    "documentAssembler = DocumentAssembler()\\\n",
    "        .setInputCol(\"text\")\\\n",
    "        .setOutputCol(\"document\")\n",
    "\n",
    "# Sentence Detector annotator, processes various sentences per line\n",
    "\n",
    "#sentenceDetector = SentenceDetector()\\\n",
    "        #.setInputCols([\"document\"])\\\n",
    "        #.setOutputCol(\"sentence\")\n",
    "sentenceDetector = SentenceDetectorDLModel.pretrained(\"sentence_detector_dl_healthcare\",\"en\",\"clinical/models\")\\\n",
    "        .setInputCols([\"document\"])\\\n",
    "        .setOutputCol(\"sentence\")\n",
    " \n",
    "# Tokenizer splits words in a relevant format for NLP\n",
    "tokenizer = Tokenizer()\\\n",
    "        .setInputCols([\"sentence\"])\\\n",
    "        .setOutputCol(\"token\")\n",
    "\n",
    "# Clinical word embeddings trained on PubMED dataset\n",
    "word_embeddings = WordEmbeddingsModel.pretrained(\"embeddings_clinical\",\"en\",\"clinical/models\")\\\n",
    "        .setInputCols([\"sentence\",\"token\"])\\\n",
    "        .setOutputCol(\"embeddings\")\n",
    "\n",
    "# NER model trained on i2b2 (sampled from MIMIC) dataset\n",
    "clinical_ner = MedicalNerModel.pretrained(\"ner_clinical_large\",\"en\",\"clinical/models\")\\\n",
    "        .setInputCols([\"sentence\",\"token\",\"embeddings\"])\\\n",
    "        .setOutputCol(\"ner\")\n",
    "\n",
    "ner_converter = NerConverter()\\\n",
    "        .setInputCols([\"sentence\",\"token\",\"ner\"])\\\n",
    "        .setOutputCol(\"ner_chunk\")\n",
    "\n",
    "nlpPipeline = Pipeline(stages=[\n",
    "        documentAssembler,\n",
    "        sentenceDetector,\n",
    "        tokenizer,\n",
    "        word_embeddings,\n",
    "        clinical_ner,\n",
    "        ner_converter])\n",
    "\n",
    "\n",
    "empty_data = spark.createDataFrame([[\"\"]]).toDF(\"text\")\n",
    "\n",
    "model = nlpPipeline.fit(empty_data)\n"
   ]
  },
  {
   "cell_type": "code",
   "execution_count": null,
   "metadata": {
    "colab": {
     "base_uri": "https://localhost:8080/"
    },
    "id": "eCPdErQTt9WS",
    "outputId": "fc77cb0f-6a89-42eb-ac80-643feb78cf6d"
   },
   "outputs": [
    {
     "data": {
      "text/plain": [
       "[DocumentAssembler_195a25bf805b,\n",
       " SentenceDetectorDLModel_d2546f0acfe2,\n",
       " REGEX_TOKENIZER_6cecd897e7c0,\n",
       " WORD_EMBEDDINGS_MODEL_9004b1d00302,\n",
       " MedicalNerModel_1a8637089929,\n",
       " NerConverter_9b33377c5232]"
      ]
     },
     "execution_count": 5,
     "metadata": {
      "tags": []
     },
     "output_type": "execute_result"
    }
   ],
   "source": [
    "model.stages"
   ]
  },
  {
   "cell_type": "code",
   "execution_count": null,
   "metadata": {
    "colab": {
     "base_uri": "https://localhost:8080/"
    },
    "id": "m2hXcbMzvUzf",
    "outputId": "a2a2f267-4801-438a-e83c-340d2baa85f7"
   },
   "outputs": [
    {
     "data": {
      "text/plain": [
       "['O',\n",
       " 'B-TREATMENT',\n",
       " 'I-TREATMENT',\n",
       " 'B-PROBLEM',\n",
       " 'I-PROBLEM',\n",
       " 'B-TEST',\n",
       " 'I-TEST']"
      ]
     },
     "execution_count": 6,
     "metadata": {
      "tags": []
     },
     "output_type": "execute_result"
    }
   ],
   "source": [
    "clinical_ner.getClasses()"
   ]
  },
  {
   "cell_type": "code",
   "execution_count": null,
   "metadata": {
    "colab": {
     "base_uri": "https://localhost:8080/"
    },
    "id": "rPO8wgprvai_",
    "outputId": "dcb7b078-7e9d-4c42-8016-590598fe19c5"
   },
   "outputs": [
    {
     "data": {
      "text/plain": [
       "{Param(parent='MedicalNerModel_1a8637089929', name='batchSize', doc='Size of every batch'): 64,\n",
       " Param(parent='MedicalNerModel_1a8637089929', name='classes', doc='get the tags used to trained this MedicalNerModel'): ['O',\n",
       "  'B-TREATMENT',\n",
       "  'I-TREATMENT',\n",
       "  'B-PROBLEM',\n",
       "  'I-PROBLEM',\n",
       "  'B-TEST',\n",
       "  'I-TEST'],\n",
       " Param(parent='MedicalNerModel_1a8637089929', name='includeAllConfidenceScores', doc='whether to include all confidence scores in annotation metadata or just the score of the predicted tag'): False,\n",
       " Param(parent='MedicalNerModel_1a8637089929', name='includeConfidence', doc='whether to include confidence scores in annotation metadata'): True,\n",
       " Param(parent='MedicalNerModel_1a8637089929', name='inferenceBatchSize', doc='number of sentences to process in a single batch during inference'): 1,\n",
       " Param(parent='MedicalNerModel_1a8637089929', name='inputCols', doc='previous annotations columns, if renamed'): ['sentence',\n",
       "  'token',\n",
       "  'embeddings'],\n",
       " Param(parent='MedicalNerModel_1a8637089929', name='lazyAnnotator', doc='Whether this AnnotatorModel acts as lazy in RecursivePipelines'): False,\n",
       " Param(parent='MedicalNerModel_1a8637089929', name='outputCol', doc='output annotation column. can be left default.'): 'ner',\n",
       " Param(parent='MedicalNerModel_1a8637089929', name='storageRef', doc='unique reference name for identification'): 'clinical'}"
      ]
     },
     "execution_count": 7,
     "metadata": {
      "tags": []
     },
     "output_type": "execute_result"
    }
   ],
   "source": [
    "clinical_ner.extractParamMap()"
   ]
  },
  {
   "cell_type": "code",
   "execution_count": null,
   "metadata": {
    "colab": {
     "base_uri": "https://localhost:8080/",
     "height": 35
    },
    "id": "gGjoRR5Bvj-U",
    "outputId": "e24c2d3a-6dc3-452e-ca4f-421a9fcb3cc2"
   },
   "outputs": [
    {
     "data": {
      "application/vnd.google.colaboratory.intrinsic+json": {
       "type": "string"
      },
      "text/plain": [
       "'clinical'"
      ]
     },
     "execution_count": 8,
     "metadata": {
      "tags": []
     },
     "output_type": "execute_result"
    }
   ],
   "source": [
    "clinical_ner.getStorageRef()"
   ]
  },
  {
   "cell_type": "code",
   "execution_count": null,
   "metadata": {
    "id": "OP0I7ELJ0his"
   },
   "outputs": [],
   "source": [
    "! wget -q https://s3.amazonaws.com/auxdata.johnsnowlabs.com/public/resources/en/pubmed/pubmed_sample_text_small.csv"
   ]
  },
  {
   "cell_type": "code",
   "execution_count": null,
   "metadata": {
    "colab": {
     "base_uri": "https://localhost:8080/"
    },
    "id": "Z9UyX1Tx-vA0",
    "outputId": "150bd2bc-320a-4000-de66-1bd775b0505a"
   },
   "outputs": [
    {
     "name": "stdout",
     "output_type": "stream",
     "text": [
      "+----------------------------------------------------------------------+\n",
      "|                                                                  text|\n",
      "+----------------------------------------------------------------------+\n",
      "|The human KCNJ9 (Kir 3.3, GIRK3) is a member of the G-protein-activ...|\n",
      "|BACKGROUND: At present, it is one of the most important issues for ...|\n",
      "|OBJECTIVE: To investigate the relationship between preoperative atr...|\n",
      "|Combined EEG/fMRI recording has been used to localize the generator...|\n",
      "|Kohlschutter syndrome is a rare neurodegenerative disorder presenti...|\n",
      "|Statistical analysis of neuroimages is commonly approached with int...|\n",
      "|The synthetic DOX-LNA conjugate was characterized by proton nuclear...|\n",
      "|Our objective was to compare three different methods of blood press...|\n",
      "|We conducted a phase II study to assess the efficacy and tolerabili...|\n",
      "|\"\"\"Monomeric sarcosine oxidase (MSOX) is a flavoenzyme that catalyz...|\n",
      "|We presented the tachinid fly Exorista japonica with moving host mo...|\n",
      "|The literature dealing with the water conducting properties of sapw...|\n",
      "|A novel approach to synthesize chitosan-O-isopropyl-5'-O-d4T monoph...|\n",
      "|An HPLC-ESI-MS-MS method has been developed for the quantitative de...|\n",
      "|The localizing and lateralizing values of eye and head ictal deviat...|\n",
      "|OBJECTIVE: To evaluate the effectiveness and acceptability of expec...|\n",
      "|For the construction of new combinatorial libraries, a lead compoun...|\n",
      "|We report the results of a screen for genetic association with urin...|\n",
      "|Intraparenchymal pericatheter cyst is rarely reported. Obstruction ...|\n",
      "|It is known that patients with Klinefelter's syndrome are inclined ...|\n",
      "+----------------------------------------------------------------------+\n",
      "only showing top 20 rows\n",
      "\n"
     ]
    }
   ],
   "source": [
    "import pyspark.sql.functions as F\n",
    "\n",
    "pubMedDF = spark.read\\\n",
    "                .option(\"header\", \"true\")\\\n",
    "                .csv(\"pubmed_sample_text_small.csv\")\\\n",
    "                \n",
    "pubMedDF.show(truncate=70)"
   ]
  },
  {
   "cell_type": "code",
   "execution_count": null,
   "metadata": {
    "colab": {
     "base_uri": "https://localhost:8080/"
    },
    "id": "Kt_9Qfmw30rA",
    "outputId": "9e2cf269-872b-49d1-c6dd-d516e8de5261"
   },
   "outputs": [
    {
     "name": "stdout",
     "output_type": "stream",
     "text": [
      "root\n",
      " |-- text: string (nullable = true)\n",
      "\n"
     ]
    }
   ],
   "source": [
    "pubMedDF.printSchema()"
   ]
  },
  {
   "cell_type": "code",
   "execution_count": null,
   "metadata": {
    "id": "7HdysGLU-xfP"
   },
   "outputs": [],
   "source": [
    "result = model.transform(pubMedDF.limit(100))"
   ]
  },
  {
   "cell_type": "code",
   "execution_count": null,
   "metadata": {
    "colab": {
     "base_uri": "https://localhost:8080/"
    },
    "id": "DHC3kvfIF2tm",
    "outputId": "62ebab5a-2f1a-4a1b-dcf3-4722bc9bb01e"
   },
   "outputs": [
    {
     "name": "stdout",
     "output_type": "stream",
     "text": [
      "+--------------------+--------------------+--------------------+--------------------+--------------------+--------------------+--------------------+\n",
      "|                text|            document|            sentence|               token|          embeddings|                 ner|           ner_chunk|\n",
      "+--------------------+--------------------+--------------------+--------------------+--------------------+--------------------+--------------------+\n",
      "|The human KCNJ9 (...|[{document, 0, 95...|[{document, 0, 12...|[{token, 0, 2, Th...|[{word_embeddings...|[{named_entity, 0...|[{chunk, 48, 106,...|\n",
      "|BACKGROUND: At pr...|[{document, 0, 14...|[{document, 0, 19...|[{token, 0, 9, BA...|[{word_embeddings...|[{named_entity, 0...|[{chunk, 67, 79, ...|\n",
      "|OBJECTIVE: To inv...|[{document, 0, 15...|[{document, 0, 14...|[{token, 0, 8, OB...|[{word_embeddings...|[{named_entity, 0...|[{chunk, 130, 144...|\n",
      "|Combined EEG/fMRI...|[{document, 0, 16...|[{document, 0, 29...|[{token, 0, 7, Co...|[{word_embeddings...|[{named_entity, 0...|[{chunk, 0, 26, C...|\n",
      "|Kohlschutter synd...|[{document, 0, 25...|[{document, 0, 20...|[{token, 0, 11, K...|[{word_embeddings...|[{named_entity, 0...|[{chunk, 0, 20, K...|\n",
      "|Statistical analy...|[{document, 0, 10...|[{document, 0, 22...|[{token, 0, 10, S...|[{word_embeddings...|[{named_entity, 0...|[{chunk, 0, 34, S...|\n",
      "|The synthetic DOX...|[{document, 0, 57...|[{document, 0, 10...|[{token, 0, 2, Th...|[{word_embeddings...|[{named_entity, 0...|[{chunk, 0, 30, T...|\n",
      "|Our objective was...|[{document, 0, 24...|[{document, 0, 19...|[{token, 0, 2, Ou...|[{word_embeddings...|[{named_entity, 0...|[{chunk, 56, 80, ...|\n",
      "|We conducted a ph...|[{document, 0, 14...|[{document, 0, 24...|[{token, 0, 1, We...|[{word_embeddings...|[{named_entity, 0...|[{chunk, 13, 28, ...|\n",
      "|\"\"\"Monomeric sarc...|[{document, 0, 14...|[{document, 0, 14...|[{token, 0, 2, \"\"...|[{word_embeddings...|[{named_entity, 0...|[{chunk, 3, 36, M...|\n",
      "|We presented the ...|[{document, 0, 12...|[{document, 0, 34...|[{token, 0, 1, We...|[{word_embeddings...|[{named_entity, 0...|[{chunk, 13, 46, ...|\n",
      "|The literature de...|[{document, 0, 16...|[{document, 0, 13...|[{token, 0, 2, Th...|[{word_embeddings...|[{named_entity, 0...|[{chunk, 154, 166...|\n",
      "|A novel approach ...|[{document, 0, 64...|[{document, 0, 97...|[{token, 0, 0, A,...|[{word_embeddings...|[{named_entity, 0...|[{chunk, 99, 124,...|\n",
      "|An HPLC-ESI-MS-MS...|[{document, 0, 90...|[{document, 0, 24...|[{token, 0, 1, An...|[{word_embeddings...|[{named_entity, 0...|[{chunk, 0, 23, A...|\n",
      "|The localizing an...|[{document, 0, 72...|[{document, 0, 12...|[{token, 0, 2, Th...|[{word_embeddings...|[{named_entity, 0...|[{chunk, 50, 70, ...|\n",
      "|OBJECTIVE: To eva...|[{document, 0, 13...|[{document, 0, 14...|[{token, 0, 8, OB...|[{word_embeddings...|[{named_entity, 0...|[{chunk, 97, 143,...|\n",
      "|For the construct...|[{document, 0, 32...|[{document, 0, 20...|[{token, 0, 2, Fo...|[{word_embeddings...|[{named_entity, 0...|[{chunk, 24, 50, ...|\n",
      "|We report the res...|[{document, 0, 13...|[{document, 0, 31...|[{token, 0, 1, We...|[{word_embeddings...|[{named_entity, 0...|[{chunk, 25, 32, ...|\n",
      "|Intraparenchymal ...|[{document, 0, 10...|[{document, 0, 53...|[{token, 0, 15, I...|[{word_embeddings...|[{named_entity, 0...|[{chunk, 0, 33, I...|\n",
      "|It is known that ...|[{document, 0, 34...|[{document, 0, 14...|[{token, 0, 1, It...|[{word_embeddings...|[{named_entity, 0...|[{chunk, 31, 52, ...|\n",
      "+--------------------+--------------------+--------------------+--------------------+--------------------+--------------------+--------------------+\n",
      "only showing top 20 rows\n",
      "\n"
     ]
    }
   ],
   "source": [
    "result.show()"
   ]
  },
  {
   "cell_type": "code",
   "execution_count": null,
   "metadata": {
    "colab": {
     "base_uri": "https://localhost:8080/"
    },
    "id": "OGBHfjMVUoCu",
    "outputId": "4dd28c0a-9ea6-489c-c335-0386a33790d0"
   },
   "outputs": [
    {
     "name": "stdout",
     "output_type": "stream",
     "text": [
      "+----------------------------------------------------------------------------------------------------+----------------------------------------------------------------------------------------------------+\n",
      "|                                                                                              result|                                                                                              result|\n",
      "+----------------------------------------------------------------------------------------------------+----------------------------------------------------------------------------------------------------+\n",
      "|[The, human, KCNJ9, (, Kir, 3.3, ,, GIRK3, ), is, a, member, of, the, G-protein-activated, inward...|[O, O, O, O, O, O, O, O, O, O, O, O, O, B-TREATMENT, I-TREATMENT, I-TREATMENT, I-TREATMENT, I-TRE...|\n",
      "|[BACKGROUND, :, At, present, ,, it, is, one, of, the, most, important, issues, for, the, treatmen...|[O, O, O, O, O, O, O, O, O, O, O, O, O, O, B-TREATMENT, I-TREATMENT, O, B-PROBLEM, I-PROBLEM, O, ...|\n",
      "|[OBJECTIVE, :, To, investigate, the, relationship, between, preoperative, atrialfibrillation, and...|[O, O, O, O, O, O, O, O, O, O, O, O, O, O, O, O, B-TREATMENT, I-TREATMENT, O, O, O, O, O, O, O, B...|\n",
      "|[Combined, EEG/fMRI, recording, has, been, used, to, localize, the, generators, of, EEGevents, an...|[B-TEST, I-TEST, I-TEST, O, O, O, O, O, O, O, O, O, O, O, O, O, O, O, B-TEST, I-TEST, O, O, O, O,...|\n",
      "|[Kohlschutter, syndrome, is, a, rare, neurodegenerative, disorder, presenting, withintractable, s...|[B-PROBLEM, I-PROBLEM, O, B-PROBLEM, I-PROBLEM, I-PROBLEM, I-PROBLEM, O, B-PROBLEM, I-PROBLEM, O,...|\n",
      "|[Statistical, analysis, of, neuroimages, is, commonly, approached, with, intergroupcomparisons, m...|[B-TEST, I-TEST, I-TEST, I-TEST, O, O, O, O, B-TREATMENT, O, O, O, O, O, O, O, O, O, O, O, O, O, ...|\n",
      "|[The, synthetic, DOX-LNA, conjugate, was, characterized, by, proton, nuclear, magneticresonance, ...|[B-PROBLEM, I-PROBLEM, I-PROBLEM, I-PROBLEM, O, O, O, B-PROBLEM, I-PROBLEM, I-PROBLEM, O, B-PROBL...|\n",
      "|[Our, objective, was, to, compare, three, different, methods, of, blood, pressuremeasurement, thr...|[O, O, O, O, O, O, O, O, O, B-TREATMENT, I-TREATMENT, O, O, O, O, B-TEST, I-TEST, I-TEST, O, O, O...|\n",
      "|[We, conducted, a, phase, II, study, to, assess, the, efficacy, and, tolerability, ofirinotecan, ...|[O, O, B-TEST, I-TEST, I-TEST, I-TEST, O, O, B-TREATMENT, I-TREATMENT, O, B-TREATMENT, I-TREATMEN...|\n",
      "|[\"\"\", Monomeric, sarcosine, oxidase, (, MSOX, ), is, a, flavoenzyme, that, catalyzes, the, oxidat...|[O, B-TREATMENT, I-TREATMENT, I-TREATMENT, I-TREATMENT, I-TREATMENT, I-TREATMENT, O, B-TREATMENT,...|\n",
      "|[We, presented, the, tachinid, fly, Exorista, japonica, with, moving, host, models, :, afreeze-dr...|[O, O, B-PROBLEM, I-PROBLEM, I-PROBLEM, I-PROBLEM, I-PROBLEM, O, O, O, O, O, O, O, O, B-PROBLEM, ...|\n",
      "|[The, literature, dealing, with, the, water, conducting, properties, of, sapwood, xylem, intrees,...|[O, O, O, O, O, O, O, O, O, O, O, O, O, O, O, O, O, O, O, O, O, O, O, O, B-PROBLEM, O, O, O, O, O...|\n",
      "|[A, novel, approach, to, synthesize, chitosan-O-isopropyl-5'-O-d4T, monophosphateconjugate, was, ...|[O, O, O, O, O, O, O, O, O, O, B-TREATMENT, I-TREATMENT, O, O, B-PROBLEM, I-PROBLEM, O, O, O, O, ...|\n",
      "|[An, HPLC-ESI-MS-MS, method, has, been, developed, for, the, quantitative, determination, offour,...|[B-TEST, I-TEST, I-TEST, O, O, O, O, O, O, O, B-PROBLEM, I-PROBLEM, O, B-TREATMENT, I-TREATMENT, ...|\n",
      "|[The, localizing, and, lateralizing, values, of, eye, and, head, ictal, deviations, duringfrontal...|[O, O, O, O, O, O, O, O, B-PROBLEM, I-PROBLEM, I-PROBLEM, B-PROBLEM, I-PROBLEM, I-PROBLEM, O, O, ...|\n",
      "|[OBJECTIVE, :, To, evaluate, the, effectiveness, and, acceptability, of, expectantmanagement, of,...|[O, O, O, O, O, O, O, O, O, O, O, O, O, B-PROBLEM, I-PROBLEM, I-PROBLEM, I-PROBLEM, I-PROBLEM, O,...|\n",
      "|[For, the, construction, of, new, combinatorial, libraries, ,, a, lead, compound, was, created, b...|[O, O, O, O, B-PROBLEM, I-PROBLEM, I-PROBLEM, O, B-PROBLEM, I-PROBLEM, I-PROBLEM, O, O, O, O, O, ...|\n",
      "|[We, report, the, results, of, a, screen, for, genetic, association, with, urinary, arsenicmetabo...|[O, O, O, O, O, B-TEST, I-TEST, O, O, O, O, B-PROBLEM, I-PROBLEM, I-PROBLEM, O, O, O, O, O, O, O,...|\n",
      "|[Intraparenchymal, pericatheter, cyst, is, rarely, reported, ., Obstruction, in, theventriculoper...|[B-PROBLEM, I-PROBLEM, I-PROBLEM, O, O, O, O, B-PROBLEM, I-PROBLEM, I-PROBLEM, I-PROBLEM, O, O, O...|\n",
      "|[It, is, known, that, patients, with, Klinefelter's, syndrome, are, inclined, to, developconcomit...|[O, O, O, O, O, O, B-PROBLEM, I-PROBLEM, O, O, O, B-PROBLEM, I-PROBLEM, I-PROBLEM, O, O, O, O, B-...|\n",
      "+----------------------------------------------------------------------------------------------------+----------------------------------------------------------------------------------------------------+\n",
      "only showing top 20 rows\n",
      "\n"
     ]
    }
   ],
   "source": [
    "result.select('token.result','ner.result').show(truncate=100)"
   ]
  },
  {
   "cell_type": "code",
   "execution_count": null,
   "metadata": {
    "colab": {
     "base_uri": "https://localhost:8080/"
    },
    "id": "5uBnSe0--_Tn",
    "outputId": "896f4db2-8bf8-488d-b43b-715d969021f3"
   },
   "outputs": [
    {
     "name": "stdout",
     "output_type": "stream",
     "text": [
      "+-------------------+-----------+\n",
      "|              token|  ner_label|\n",
      "+-------------------+-----------+\n",
      "|                The|          O|\n",
      "|              human|          O|\n",
      "|              KCNJ9|          O|\n",
      "|                  (|          O|\n",
      "|                Kir|          O|\n",
      "|                3.3|          O|\n",
      "|                  ,|          O|\n",
      "|              GIRK3|          O|\n",
      "|                  )|          O|\n",
      "|                 is|          O|\n",
      "|                  a|          O|\n",
      "|             member|          O|\n",
      "|                 of|          O|\n",
      "|                the|B-TREATMENT|\n",
      "|G-protein-activated|I-TREATMENT|\n",
      "|           inwardly|I-TREATMENT|\n",
      "|         rectifying|I-TREATMENT|\n",
      "|          potassium|I-TREATMENT|\n",
      "|                  (|I-TREATMENT|\n",
      "|               GIRK|I-TREATMENT|\n",
      "|                  )|          O|\n",
      "|            channel|          O|\n",
      "|             family|          O|\n",
      "|                  .|          O|\n",
      "|               Here|          O|\n",
      "|                 we|          O|\n",
      "|           describe|          O|\n",
      "|                the|B-TREATMENT|\n",
      "|genomicorganization|I-TREATMENT|\n",
      "|                 of|          O|\n",
      "|                the|          O|\n",
      "|              KCNJ9|          O|\n",
      "|              locus|          O|\n",
      "|                 on|          O|\n",
      "|         chromosome|          O|\n",
      "|            1q21-23|          O|\n",
      "|                 as|          O|\n",
      "|                  a|  B-PROBLEM|\n",
      "|          candidate|  I-PROBLEM|\n",
      "|               gene|  I-PROBLEM|\n",
      "|            forType|  I-PROBLEM|\n",
      "|                 II|  I-PROBLEM|\n",
      "|           diabetes|  I-PROBLEM|\n",
      "|           mellitus|  I-PROBLEM|\n",
      "|                 in|          O|\n",
      "|                the|          O|\n",
      "|               Pima|          O|\n",
      "|             Indian|          O|\n",
      "|         population|          O|\n",
      "|                  .|          O|\n",
      "+-------------------+-----------+\n",
      "only showing top 50 rows\n",
      "\n"
     ]
    }
   ],
   "source": [
    "result_df = result.select(F.explode(F.arrays_zip(\"token.result\",\"ner.result\")).alias(\"cols\"))\\\n",
    ".select(F.expr(\"cols['0']\").alias(\"token\"),\n",
    "        F.expr(\"cols['1']\").alias(\"ner_label\"))\n",
    "\n",
    "result_df.show(50, truncate=100)\n"
   ]
  },
  {
   "cell_type": "code",
   "execution_count": null,
   "metadata": {
    "colab": {
     "base_uri": "https://localhost:8080/"
    },
    "id": "Y4eM-zZcErru",
    "outputId": "d8da843c-bde6-4c45-94b2-1cc288e3bbcc"
   },
   "outputs": [
    {
     "name": "stdout",
     "output_type": "stream",
     "text": [
      "+-----------+-----+\n",
      "|ner_label  |count|\n",
      "+-----------+-----+\n",
      "|O          |13874|\n",
      "|I-PROBLEM  |1594 |\n",
      "|B-PROBLEM  |915  |\n",
      "|I-TREATMENT|737  |\n",
      "|I-TEST     |634  |\n",
      "|B-TREATMENT|623  |\n",
      "|B-TEST     |534  |\n",
      "+-----------+-----+\n",
      "\n"
     ]
    }
   ],
   "source": [
    "result_df.select(\"token\", \"ner_label\").groupBy('ner_label').count().orderBy('count', ascending=False).show(truncate=False)"
   ]
  },
  {
   "cell_type": "code",
   "execution_count": null,
   "metadata": {
    "colab": {
     "base_uri": "https://localhost:8080/"
    },
    "id": "uzkwbP21ydAK",
    "outputId": "d7de9244-97be-49e1-ccce-5832dbca01a5"
   },
   "outputs": [
    {
     "data": {
      "text/plain": [
       "[Row(ner_chunk=[Row(annotatorType='chunk', begin=48, end=106, result='the G-protein-activated inwardly rectifying potassium (GIRK', metadata={'sentence': '0', 'chunk': '0', 'entity': 'TREATMENT'}, embeddings=[]), Row(annotatorType='chunk', begin=142, end=164, result='the genomicorganization', metadata={'sentence': '1', 'chunk': '1', 'entity': 'TREATMENT'}, embeddings=[]), Row(annotatorType='chunk', begin=210, end=254, result='a candidate gene forType II diabetes mellitus', metadata={'sentence': '1', 'chunk': '2', 'entity': 'PROBLEM'}, embeddings=[]), Row(annotatorType='chunk', begin=380, end=394, result='byapproximately', metadata={'sentence': '2', 'chunk': '3', 'entity': 'TREATMENT'}, embeddings=[]), Row(annotatorType='chunk', begin=464, end=494, result='single nucleotide polymorphisms', metadata={'sentence': '3', 'chunk': '4', 'entity': 'TREATMENT'}, embeddings=[]), Row(annotatorType='chunk', begin=532, end=554, result='aVal366Ala substitution', metadata={'sentence': '3', 'chunk': '5', 'entity': 'PROBLEM'}, embeddings=[]), Row(annotatorType='chunk', begin=561, end=574, result='an 8 base-pair', metadata={'sentence': '3', 'chunk': '6', 'entity': 'PROBLEM'}, embeddings=[]), Row(annotatorType='chunk', begin=581, end=598, result='insertion/deletion', metadata={'sentence': '3', 'chunk': '7', 'entity': 'PROBLEM'}, embeddings=[]), Row(annotatorType='chunk', begin=601, end=621, result='Ourexpression studies', metadata={'sentence': '4', 'chunk': '8', 'entity': 'TEST'}, embeddings=[]), Row(annotatorType='chunk', begin=648, end=685, result='the transcript in various humantissues', metadata={'sentence': '4', 'chunk': '9', 'entity': 'PROBLEM'}, embeddings=[]), Row(annotatorType='chunk', begin=749, end=770, result='fat andskeletal muscle', metadata={'sentence': '4', 'chunk': '10', 'entity': 'PROBLEM'}, embeddings=[]), Row(annotatorType='chunk', begin=830, end=843, result='furtherstudies', metadata={'sentence': '5', 'chunk': '11', 'entity': 'PROBLEM'}, embeddings=[]), Row(annotatorType='chunk', begin=864, end=880, result='the KCNJ9 protein', metadata={'sentence': '5', 'chunk': '12', 'entity': 'TREATMENT'}, embeddings=[]), Row(annotatorType='chunk', begin=892, end=901, result='evaluation', metadata={'sentence': '5', 'chunk': '13', 'entity': 'TEST'}, embeddings=[]), Row(annotatorType='chunk', begin=940, end=955, result='Type II diabetes', metadata={'sentence': '5', 'chunk': '14', 'entity': 'PROBLEM'}, embeddings=[])])]"
      ]
     },
     "execution_count": 17,
     "metadata": {
      "tags": []
     },
     "output_type": "execute_result"
    }
   ],
   "source": [
    "result.select('ner_chunk').take(1)"
   ]
  },
  {
   "cell_type": "code",
   "execution_count": null,
   "metadata": {
    "colab": {
     "base_uri": "https://localhost:8080/"
    },
    "id": "iICfEeNoAklD",
    "outputId": "6312c98c-ec1c-48cf-f383-e09179bfd09a"
   },
   "outputs": [
    {
     "name": "stdout",
     "output_type": "stream",
     "text": [
      "+-----------------------------------------------------------+---------+\n",
      "|chunk                                                      |ner_label|\n",
      "+-----------------------------------------------------------+---------+\n",
      "|the G-protein-activated inwardly rectifying potassium (GIRK|TREATMENT|\n",
      "|the genomicorganization                                    |TREATMENT|\n",
      "|a candidate gene forType II diabetes mellitus              |PROBLEM  |\n",
      "|byapproximately                                            |TREATMENT|\n",
      "|single nucleotide polymorphisms                            |TREATMENT|\n",
      "|aVal366Ala substitution                                    |PROBLEM  |\n",
      "|an 8 base-pair                                             |PROBLEM  |\n",
      "|insertion/deletion                                         |PROBLEM  |\n",
      "|Ourexpression studies                                      |TEST     |\n",
      "|the transcript in various humantissues                     |PROBLEM  |\n",
      "|fat andskeletal muscle                                     |PROBLEM  |\n",
      "|furtherstudies                                             |PROBLEM  |\n",
      "|the KCNJ9 protein                                          |TREATMENT|\n",
      "|evaluation                                                 |TEST     |\n",
      "|Type II diabetes                                           |PROBLEM  |\n",
      "|the treatment                                              |TREATMENT|\n",
      "|breast cancer                                              |PROBLEM  |\n",
      "|the standard therapy                                       |TREATMENT|\n",
      "|anthracyclines                                             |TREATMENT|\n",
      "|taxanes                                                    |TREATMENT|\n",
      "+-----------------------------------------------------------+---------+\n",
      "only showing top 20 rows\n",
      "\n"
     ]
    }
   ],
   "source": [
    "result.select(F.explode(F.arrays_zip('ner_chunk.result', 'ner_chunk.metadata')).alias(\"cols\")) \\\n",
    ".select(F.expr(\"cols['0']\").alias(\"chunk\"),\n",
    "        F.expr(\"cols['1']['entity']\").alias(\"ner_label\")).show(truncate=False)"
   ]
  },
  {
   "cell_type": "code",
   "execution_count": null,
   "metadata": {
    "colab": {
     "base_uri": "https://localhost:8080/",
     "height": 735
    },
    "id": "Z5q0BojoAsu3",
    "outputId": "6274601e-24dc-4525-c917-eeef8eb8fee2"
   },
   "outputs": [
    {
     "name": "stdout",
     "output_type": "stream",
     "text": [
      "\n",
      "A 28-year-old female with a history of gestational diabetes mellitus diagnosed eight years prior to presentation and subsequent type two diabetes mellitus ( T2DM ), one prior episode of HTG-induced pancreatitis three years prior to presentation , associated with an acute hepatitis , and obesity with a body mass index ( BMI ) of 33.5 kg/m2 , presented with a one-week history of polyuria , polydipsia , poor appetite , and vomiting . Two weeks prior to presentation , she was treated with a five-day course of amoxicillin for a respiratory tract infection . She was on metformin , glipizide , and dapagliflozin for T2DM and atorvastatin and gemfibrozil for HTG . She had been on dapagliflozin for six months at the time of presentation . Physical examination on presentation was significant for dry oral mucosa ; significantly , her abdominal examination was benign with no tenderness , guarding , or rigidity . Pertinent laboratory findings on admission were : serum glucose 111 mg/dl , bicarbonate 18 mmol/l , anion gap 20 , creatinine 0.4 mg/dL , triglycerides 508 mg/dL , total cholesterol 122 mg/dL , glycated hemoglobin ( HbA1c ) 10% , and venous pH 7.27 . Serum lipase was normal at 43 U/L . Serum acetone levels could not be assessed as blood samples kept hemolyzing due to significant lipemia . The patient was initially admitted for starvation ketosis , as she reported poor oral intake for three days prior to admission . However , serum chemistry obtained six hours after presentation revealed her glucose was 186 mg/dL , the anion gap was still elevated at 21 , serum bicarbonate was 16 mmol/L , triglyceride level peaked at 2050 mg/dL , and lipase was 52 U/L . The β-hydroxybutyrate level was obtained and found to be elevated at 5.29 mmol/L - the original sample was centrifuged and the chylomicron layer removed prior to analysis due to interference from turbidity caused by lipemia again . The patient was treated with an insulin drip for euDKA and HTG with a reduction in the anion gap to 13 and triglycerides to 1400 mg/dL , within 24 hours . Her euDKA was thought to be precipitated by her respiratory tract infection in the setting of SGLT2 inhibitor use . The patient was seen by the endocrinology service and she was discharged on 40 units of insulin glargine at night , 12 units of insulin lispro with meals , and metformin 1000 mg two times a day . It was determined that all SGLT2 inhibitors should be discontinued indefinitely . She had close follow-up with endocrinology post discharge .\n",
      "\n"
     ]
    },
    {
     "data": {
      "text/html": [
       "<div>\n",
       "<style scoped>\n",
       "    .dataframe tbody tr th:only-of-type {\n",
       "        vertical-align: middle;\n",
       "    }\n",
       "\n",
       "    .dataframe tbody tr th {\n",
       "        vertical-align: top;\n",
       "    }\n",
       "\n",
       "    .dataframe thead th {\n",
       "        text-align: right;\n",
       "    }\n",
       "</style>\n",
       "<table border=\"1\" class=\"dataframe\">\n",
       "  <thead>\n",
       "    <tr style=\"text-align: right;\">\n",
       "      <th></th>\n",
       "      <th>chunks</th>\n",
       "      <th>begin</th>\n",
       "      <th>end</th>\n",
       "      <th>sentence_id</th>\n",
       "      <th>entities</th>\n",
       "    </tr>\n",
       "  </thead>\n",
       "  <tbody>\n",
       "    <tr>\n",
       "      <th>0</th>\n",
       "      <td>gestational diabetes mellitus</td>\n",
       "      <td>40</td>\n",
       "      <td>68</td>\n",
       "      <td>0</td>\n",
       "      <td>PROBLEM</td>\n",
       "    </tr>\n",
       "    <tr>\n",
       "      <th>1</th>\n",
       "      <td>subsequent type two diabetes mellitus</td>\n",
       "      <td>118</td>\n",
       "      <td>154</td>\n",
       "      <td>0</td>\n",
       "      <td>PROBLEM</td>\n",
       "    </tr>\n",
       "    <tr>\n",
       "      <th>2</th>\n",
       "      <td>T2DM</td>\n",
       "      <td>158</td>\n",
       "      <td>161</td>\n",
       "      <td>0</td>\n",
       "      <td>PROBLEM</td>\n",
       "    </tr>\n",
       "    <tr>\n",
       "      <th>3</th>\n",
       "      <td>HTG-induced pancreatitis</td>\n",
       "      <td>187</td>\n",
       "      <td>210</td>\n",
       "      <td>0</td>\n",
       "      <td>PROBLEM</td>\n",
       "    </tr>\n",
       "    <tr>\n",
       "      <th>4</th>\n",
       "      <td>an acute hepatitis</td>\n",
       "      <td>264</td>\n",
       "      <td>281</td>\n",
       "      <td>0</td>\n",
       "      <td>PROBLEM</td>\n",
       "    </tr>\n",
       "    <tr>\n",
       "      <th>5</th>\n",
       "      <td>obesity</td>\n",
       "      <td>289</td>\n",
       "      <td>295</td>\n",
       "      <td>0</td>\n",
       "      <td>PROBLEM</td>\n",
       "    </tr>\n",
       "    <tr>\n",
       "      <th>6</th>\n",
       "      <td>a body mass index</td>\n",
       "      <td>302</td>\n",
       "      <td>318</td>\n",
       "      <td>0</td>\n",
       "      <td>PROBLEM</td>\n",
       "    </tr>\n",
       "    <tr>\n",
       "      <th>7</th>\n",
       "      <td>BMI</td>\n",
       "      <td>322</td>\n",
       "      <td>324</td>\n",
       "      <td>0</td>\n",
       "      <td>TEST</td>\n",
       "    </tr>\n",
       "    <tr>\n",
       "      <th>8</th>\n",
       "      <td>polyuria</td>\n",
       "      <td>381</td>\n",
       "      <td>388</td>\n",
       "      <td>0</td>\n",
       "      <td>PROBLEM</td>\n",
       "    </tr>\n",
       "    <tr>\n",
       "      <th>9</th>\n",
       "      <td>polydipsia</td>\n",
       "      <td>392</td>\n",
       "      <td>401</td>\n",
       "      <td>0</td>\n",
       "      <td>PROBLEM</td>\n",
       "    </tr>\n",
       "    <tr>\n",
       "      <th>10</th>\n",
       "      <td>poor appetite</td>\n",
       "      <td>405</td>\n",
       "      <td>417</td>\n",
       "      <td>0</td>\n",
       "      <td>PROBLEM</td>\n",
       "    </tr>\n",
       "    <tr>\n",
       "      <th>11</th>\n",
       "      <td>vomiting</td>\n",
       "      <td>425</td>\n",
       "      <td>432</td>\n",
       "      <td>0</td>\n",
       "      <td>PROBLEM</td>\n",
       "    </tr>\n",
       "    <tr>\n",
       "      <th>12</th>\n",
       "      <td>amoxicillin</td>\n",
       "      <td>512</td>\n",
       "      <td>522</td>\n",
       "      <td>1</td>\n",
       "      <td>TREATMENT</td>\n",
       "    </tr>\n",
       "    <tr>\n",
       "      <th>13</th>\n",
       "      <td>a respiratory tract infection</td>\n",
       "      <td>528</td>\n",
       "      <td>556</td>\n",
       "      <td>1</td>\n",
       "      <td>PROBLEM</td>\n",
       "    </tr>\n",
       "    <tr>\n",
       "      <th>14</th>\n",
       "      <td>metformin</td>\n",
       "      <td>571</td>\n",
       "      <td>579</td>\n",
       "      <td>2</td>\n",
       "      <td>TREATMENT</td>\n",
       "    </tr>\n",
       "    <tr>\n",
       "      <th>15</th>\n",
       "      <td>glipizide</td>\n",
       "      <td>583</td>\n",
       "      <td>591</td>\n",
       "      <td>2</td>\n",
       "      <td>TREATMENT</td>\n",
       "    </tr>\n",
       "    <tr>\n",
       "      <th>16</th>\n",
       "      <td>dapagliflozin</td>\n",
       "      <td>599</td>\n",
       "      <td>611</td>\n",
       "      <td>2</td>\n",
       "      <td>TREATMENT</td>\n",
       "    </tr>\n",
       "    <tr>\n",
       "      <th>17</th>\n",
       "      <td>T2DM</td>\n",
       "      <td>617</td>\n",
       "      <td>620</td>\n",
       "      <td>2</td>\n",
       "      <td>PROBLEM</td>\n",
       "    </tr>\n",
       "    <tr>\n",
       "      <th>18</th>\n",
       "      <td>atorvastatin</td>\n",
       "      <td>626</td>\n",
       "      <td>637</td>\n",
       "      <td>2</td>\n",
       "      <td>TREATMENT</td>\n",
       "    </tr>\n",
       "    <tr>\n",
       "      <th>19</th>\n",
       "      <td>gemfibrozil</td>\n",
       "      <td>643</td>\n",
       "      <td>653</td>\n",
       "      <td>2</td>\n",
       "      <td>TREATMENT</td>\n",
       "    </tr>\n",
       "  </tbody>\n",
       "</table>\n",
       "</div>"
      ],
      "text/plain": [
       "                                   chunks  begin  end sentence_id   entities\n",
       "0           gestational diabetes mellitus     40   68           0    PROBLEM\n",
       "1   subsequent type two diabetes mellitus    118  154           0    PROBLEM\n",
       "2                                    T2DM    158  161           0    PROBLEM\n",
       "3                HTG-induced pancreatitis    187  210           0    PROBLEM\n",
       "4                      an acute hepatitis    264  281           0    PROBLEM\n",
       "5                                 obesity    289  295           0    PROBLEM\n",
       "6                       a body mass index    302  318           0    PROBLEM\n",
       "7                                     BMI    322  324           0       TEST\n",
       "8                                polyuria    381  388           0    PROBLEM\n",
       "9                              polydipsia    392  401           0    PROBLEM\n",
       "10                          poor appetite    405  417           0    PROBLEM\n",
       "11                               vomiting    425  432           0    PROBLEM\n",
       "12                            amoxicillin    512  522           1  TREATMENT\n",
       "13          a respiratory tract infection    528  556           1    PROBLEM\n",
       "14                              metformin    571  579           2  TREATMENT\n",
       "15                              glipizide    583  591           2  TREATMENT\n",
       "16                          dapagliflozin    599  611           2  TREATMENT\n",
       "17                                   T2DM    617  620           2    PROBLEM\n",
       "18                           atorvastatin    626  637           2  TREATMENT\n",
       "19                            gemfibrozil    643  653           2  TREATMENT"
      ]
     },
     "execution_count": 19,
     "metadata": {
      "tags": []
     },
     "output_type": "execute_result"
    }
   ],
   "source": [
    "# fullAnnotate in LightPipeline\n",
    "\n",
    "text = '''\n",
    "A 28-year-old female with a history of gestational diabetes mellitus diagnosed eight years prior to presentation and subsequent type two diabetes mellitus ( T2DM ), one prior episode of HTG-induced pancreatitis three years prior to presentation , associated with an acute hepatitis , and obesity with a body mass index ( BMI ) of 33.5 kg/m2 , presented with a one-week history of polyuria , polydipsia , poor appetite , and vomiting . Two weeks prior to presentation , she was treated with a five-day course of amoxicillin for a respiratory tract infection . She was on metformin , glipizide , and dapagliflozin for T2DM and atorvastatin and gemfibrozil for HTG . She had been on dapagliflozin for six months at the time of presentation . Physical examination on presentation was significant for dry oral mucosa ; significantly , her abdominal examination was benign with no tenderness , guarding , or rigidity . Pertinent laboratory findings on admission were : serum glucose 111 mg/dl , bicarbonate 18 mmol/l , anion gap 20 , creatinine 0.4 mg/dL , triglycerides 508 mg/dL , total cholesterol 122 mg/dL , glycated hemoglobin ( HbA1c ) 10% , and venous pH 7.27 . Serum lipase was normal at 43 U/L . Serum acetone levels could not be assessed as blood samples kept hemolyzing due to significant lipemia . The patient was initially admitted for starvation ketosis , as she reported poor oral intake for three days prior to admission . However , serum chemistry obtained six hours after presentation revealed her glucose was 186 mg/dL , the anion gap was still elevated at 21 , serum bicarbonate was 16 mmol/L , triglyceride level peaked at 2050 mg/dL , and lipase was 52 U/L . The β-hydroxybutyrate level was obtained and found to be elevated at 5.29 mmol/L - the original sample was centrifuged and the chylomicron layer removed prior to analysis due to interference from turbidity caused by lipemia again . The patient was treated with an insulin drip for euDKA and HTG with a reduction in the anion gap to 13 and triglycerides to 1400 mg/dL , within 24 hours . Her euDKA was thought to be precipitated by her respiratory tract infection in the setting of SGLT2 inhibitor use . The patient was seen by the endocrinology service and she was discharged on 40 units of insulin glargine at night , 12 units of insulin lispro with meals , and metformin 1000 mg two times a day . It was determined that all SGLT2 inhibitors should be discontinued indefinitely . She had close follow-up with endocrinology post discharge .\n",
    "'''\n",
    "\n",
    "print (text)\n",
    "\n",
    "light_model = LightPipeline(model)\n",
    "\n",
    "light_result = light_model.fullAnnotate(text)\n",
    "\n",
    "\n",
    "chunks = []\n",
    "entities = []\n",
    "sentence= []\n",
    "begin = []\n",
    "end = []\n",
    "\n",
    "for n in light_result[0]['ner_chunk']:\n",
    "        \n",
    "    begin.append(n.begin)\n",
    "    end.append(n.end)\n",
    "    chunks.append(n.result)\n",
    "    entities.append(n.metadata['entity']) \n",
    "    sentence.append(n.metadata['sentence'])\n",
    "    \n",
    "    \n",
    "import pandas as pd\n",
    "\n",
    "df = pd.DataFrame({'chunks':chunks, 'begin': begin, 'end':end, \n",
    "                   'sentence_id':sentence, 'entities':entities})\n",
    "\n",
    "df.head(20)"
   ]
  },
  {
   "cell_type": "code",
   "execution_count": null,
   "metadata": {
    "colab": {
     "base_uri": "https://localhost:8080/",
     "height": 1000
    },
    "id": "Jh1zoknFybBO",
    "outputId": "20f2a568-ad04-47f5-dae5-6d6e6702a4c4"
   },
   "outputs": [
    {
     "data": {
      "text/html": [
       "\n",
       "<style>\n",
       "    @import url('https://fonts.googleapis.com/css2?family=Montserrat:wght@300;400;500;600;700&display=swap');\n",
       "    @import url('https://fonts.googleapis.com/css2?family=Vistol Regular:wght@300;400;500;600;700&display=swap');\n",
       "    \n",
       "    .spark-nlp-display-scroll-entities {\n",
       "        border: 1px solid #E7EDF0;\n",
       "        border-radius: 3px;\n",
       "        text-align: justify;\n",
       "        \n",
       "    }\n",
       "    .spark-nlp-display-scroll-entities span {  \n",
       "        font-size: 14px;\n",
       "        line-height: 24px;\n",
       "        color: #536B76;\n",
       "        font-family: 'Montserrat', sans-serif !important;\n",
       "    }\n",
       "    \n",
       "    .spark-nlp-display-entity-wrapper{\n",
       "    \n",
       "        display: inline-grid;\n",
       "        text-align: center;\n",
       "        border-radius: 4px;\n",
       "        margin: 0 2px 5px 2px;\n",
       "        padding: 1px\n",
       "    }\n",
       "    .spark-nlp-display-entity-name{\n",
       "        font-size: 14px;\n",
       "        line-height: 24px;\n",
       "        font-family: 'Montserrat', sans-serif !important;\n",
       "        \n",
       "        background: #f1f2f3;\n",
       "        border-width: medium;\n",
       "        text-align: center;\n",
       "        \n",
       "        font-weight: 400;\n",
       "        \n",
       "        border-radius: 5px;\n",
       "        padding: 2px 5px;\n",
       "        display: block;\n",
       "        margin: 3px 2px;\n",
       "    \n",
       "    }\n",
       "    .spark-nlp-display-entity-type{\n",
       "        font-size: 14px;\n",
       "        line-height: 24px;\n",
       "        color: #ffffff;\n",
       "        font-family: 'Montserrat', sans-serif !important;\n",
       "        \n",
       "        text-transform: uppercase;\n",
       "        \n",
       "        font-weight: 500;\n",
       "\n",
       "        display: block;\n",
       "        padding: 3px 5px;\n",
       "    }\n",
       "    \n",
       "    .spark-nlp-display-entity-resolution{\n",
       "        font-size: 14px;\n",
       "        line-height: 24px;\n",
       "        color: #ffffff;\n",
       "        font-family: 'Vistol Regular', sans-serif !important;\n",
       "        \n",
       "        text-transform: uppercase;\n",
       "        \n",
       "        font-weight: 500;\n",
       "\n",
       "        display: block;\n",
       "        padding: 3px 5px;\n",
       "    }\n",
       "    \n",
       "    .spark-nlp-display-others{\n",
       "        font-size: 14px;\n",
       "        line-height: 24px;\n",
       "        font-family: 'Montserrat', sans-serif !important;\n",
       "        \n",
       "        font-weight: 400;\n",
       "    }\n",
       "\n",
       "</style>\n",
       " <span class=\"spark-nlp-display-others\" style=\"background-color: white\"><br>A 28-year-old female with a history of </span><span class=\"spark-nlp-display-entity-wrapper\" style=\"background-color: #800080\"><span class=\"spark-nlp-display-entity-name\">gestational diabetes mellitus </span><span class=\"spark-nlp-display-entity-type\">PROBLEM</span></span><span class=\"spark-nlp-display-others\" style=\"background-color: white\"> diagnosed eight years prior to presentation and </span><span class=\"spark-nlp-display-entity-wrapper\" style=\"background-color: #800080\"><span class=\"spark-nlp-display-entity-name\">subsequent type two diabetes mellitus </span><span class=\"spark-nlp-display-entity-type\">PROBLEM</span></span><span class=\"spark-nlp-display-others\" style=\"background-color: white\"> ( </span><span class=\"spark-nlp-display-entity-wrapper\" style=\"background-color: #800080\"><span class=\"spark-nlp-display-entity-name\">T2DM </span><span class=\"spark-nlp-display-entity-type\">PROBLEM</span></span><span class=\"spark-nlp-display-others\" style=\"background-color: white\"> ), one prior episode of </span><span class=\"spark-nlp-display-entity-wrapper\" style=\"background-color: #800080\"><span class=\"spark-nlp-display-entity-name\">HTG-induced pancreatitis </span><span class=\"spark-nlp-display-entity-type\">PROBLEM</span></span><span class=\"spark-nlp-display-others\" style=\"background-color: white\"> three years prior to presentation , associated with </span><span class=\"spark-nlp-display-entity-wrapper\" style=\"background-color: #800080\"><span class=\"spark-nlp-display-entity-name\">an acute hepatitis </span><span class=\"spark-nlp-display-entity-type\">PROBLEM</span></span><span class=\"spark-nlp-display-others\" style=\"background-color: white\"> , and </span><span class=\"spark-nlp-display-entity-wrapper\" style=\"background-color: #800080\"><span class=\"spark-nlp-display-entity-name\">obesity </span><span class=\"spark-nlp-display-entity-type\">PROBLEM</span></span><span class=\"spark-nlp-display-others\" style=\"background-color: white\"> with </span><span class=\"spark-nlp-display-entity-wrapper\" style=\"background-color: #800080\"><span class=\"spark-nlp-display-entity-name\">a body mass index </span><span class=\"spark-nlp-display-entity-type\">PROBLEM</span></span><span class=\"spark-nlp-display-others\" style=\"background-color: white\"> ( </span><span class=\"spark-nlp-display-entity-wrapper\" style=\"background-color: #77b5fe\"><span class=\"spark-nlp-display-entity-name\">BMI </span><span class=\"spark-nlp-display-entity-type\">TEST</span></span><span class=\"spark-nlp-display-others\" style=\"background-color: white\"> ) of 33.5 kg/m2 , presented with a one-week history of </span><span class=\"spark-nlp-display-entity-wrapper\" style=\"background-color: #800080\"><span class=\"spark-nlp-display-entity-name\">polyuria </span><span class=\"spark-nlp-display-entity-type\">PROBLEM</span></span><span class=\"spark-nlp-display-others\" style=\"background-color: white\"> , </span><span class=\"spark-nlp-display-entity-wrapper\" style=\"background-color: #800080\"><span class=\"spark-nlp-display-entity-name\">polydipsia </span><span class=\"spark-nlp-display-entity-type\">PROBLEM</span></span><span class=\"spark-nlp-display-others\" style=\"background-color: white\"> , </span><span class=\"spark-nlp-display-entity-wrapper\" style=\"background-color: #800080\"><span class=\"spark-nlp-display-entity-name\">poor appetite </span><span class=\"spark-nlp-display-entity-type\">PROBLEM</span></span><span class=\"spark-nlp-display-others\" style=\"background-color: white\"> , and </span><span class=\"spark-nlp-display-entity-wrapper\" style=\"background-color: #800080\"><span class=\"spark-nlp-display-entity-name\">vomiting </span><span class=\"spark-nlp-display-entity-type\">PROBLEM</span></span><span class=\"spark-nlp-display-others\" style=\"background-color: white\"> . Two weeks prior to presentation , she was treated with a five-day course of </span><span class=\"spark-nlp-display-entity-wrapper\" style=\"background-color: #8b6673\"><span class=\"spark-nlp-display-entity-name\">amoxicillin </span><span class=\"spark-nlp-display-entity-type\">TREATMENT</span></span><span class=\"spark-nlp-display-others\" style=\"background-color: white\"> for </span><span class=\"spark-nlp-display-entity-wrapper\" style=\"background-color: #800080\"><span class=\"spark-nlp-display-entity-name\">a respiratory tract infection </span><span class=\"spark-nlp-display-entity-type\">PROBLEM</span></span><span class=\"spark-nlp-display-others\" style=\"background-color: white\"> . She was on </span><span class=\"spark-nlp-display-entity-wrapper\" style=\"background-color: #8b6673\"><span class=\"spark-nlp-display-entity-name\">metformin </span><span class=\"spark-nlp-display-entity-type\">TREATMENT</span></span><span class=\"spark-nlp-display-others\" style=\"background-color: white\"> , </span><span class=\"spark-nlp-display-entity-wrapper\" style=\"background-color: #8b6673\"><span class=\"spark-nlp-display-entity-name\">glipizide </span><span class=\"spark-nlp-display-entity-type\">TREATMENT</span></span><span class=\"spark-nlp-display-others\" style=\"background-color: white\"> , and </span><span class=\"spark-nlp-display-entity-wrapper\" style=\"background-color: #8b6673\"><span class=\"spark-nlp-display-entity-name\">dapagliflozin </span><span class=\"spark-nlp-display-entity-type\">TREATMENT</span></span><span class=\"spark-nlp-display-others\" style=\"background-color: white\"> for </span><span class=\"spark-nlp-display-entity-wrapper\" style=\"background-color: #800080\"><span class=\"spark-nlp-display-entity-name\">T2DM </span><span class=\"spark-nlp-display-entity-type\">PROBLEM</span></span><span class=\"spark-nlp-display-others\" style=\"background-color: white\"> and </span><span class=\"spark-nlp-display-entity-wrapper\" style=\"background-color: #8b6673\"><span class=\"spark-nlp-display-entity-name\">atorvastatin </span><span class=\"spark-nlp-display-entity-type\">TREATMENT</span></span><span class=\"spark-nlp-display-others\" style=\"background-color: white\"> and </span><span class=\"spark-nlp-display-entity-wrapper\" style=\"background-color: #8b6673\"><span class=\"spark-nlp-display-entity-name\">gemfibrozil </span><span class=\"spark-nlp-display-entity-type\">TREATMENT</span></span><span class=\"spark-nlp-display-others\" style=\"background-color: white\"> for </span><span class=\"spark-nlp-display-entity-wrapper\" style=\"background-color: #800080\"><span class=\"spark-nlp-display-entity-name\">HTG </span><span class=\"spark-nlp-display-entity-type\">PROBLEM</span></span><span class=\"spark-nlp-display-others\" style=\"background-color: white\"> . She had been on </span><span class=\"spark-nlp-display-entity-wrapper\" style=\"background-color: #8b6673\"><span class=\"spark-nlp-display-entity-name\">dapagliflozin </span><span class=\"spark-nlp-display-entity-type\">TREATMENT</span></span><span class=\"spark-nlp-display-others\" style=\"background-color: white\"> for six months at the time of presentation . </span><span class=\"spark-nlp-display-entity-wrapper\" style=\"background-color: #77b5fe\"><span class=\"spark-nlp-display-entity-name\">Physical examination </span><span class=\"spark-nlp-display-entity-type\">TEST</span></span><span class=\"spark-nlp-display-others\" style=\"background-color: white\"> on presentation was significant for </span><span class=\"spark-nlp-display-entity-wrapper\" style=\"background-color: #800080\"><span class=\"spark-nlp-display-entity-name\">dry oral mucosa </span><span class=\"spark-nlp-display-entity-type\">PROBLEM</span></span><span class=\"spark-nlp-display-others\" style=\"background-color: white\"> ; significantly , </span><span class=\"spark-nlp-display-entity-wrapper\" style=\"background-color: #77b5fe\"><span class=\"spark-nlp-display-entity-name\">her abdominal examination </span><span class=\"spark-nlp-display-entity-type\">TEST</span></span><span class=\"spark-nlp-display-others\" style=\"background-color: white\"> was benign with no </span><span class=\"spark-nlp-display-entity-wrapper\" style=\"background-color: #800080\"><span class=\"spark-nlp-display-entity-name\">tenderness </span><span class=\"spark-nlp-display-entity-type\">PROBLEM</span></span><span class=\"spark-nlp-display-others\" style=\"background-color: white\"> , </span><span class=\"spark-nlp-display-entity-wrapper\" style=\"background-color: #800080\"><span class=\"spark-nlp-display-entity-name\">guarding </span><span class=\"spark-nlp-display-entity-type\">PROBLEM</span></span><span class=\"spark-nlp-display-others\" style=\"background-color: white\"> , or </span><span class=\"spark-nlp-display-entity-wrapper\" style=\"background-color: #800080\"><span class=\"spark-nlp-display-entity-name\">rigidity </span><span class=\"spark-nlp-display-entity-type\">PROBLEM</span></span><span class=\"spark-nlp-display-others\" style=\"background-color: white\"> . Pertinent laboratory findings on admission were : </span><span class=\"spark-nlp-display-entity-wrapper\" style=\"background-color: #77b5fe\"><span class=\"spark-nlp-display-entity-name\">serum glucose </span><span class=\"spark-nlp-display-entity-type\">TEST</span></span><span class=\"spark-nlp-display-others\" style=\"background-color: white\"> 111 mg/dl , </span><span class=\"spark-nlp-display-entity-wrapper\" style=\"background-color: #77b5fe\"><span class=\"spark-nlp-display-entity-name\">bicarbonate </span><span class=\"spark-nlp-display-entity-type\">TEST</span></span><span class=\"spark-nlp-display-others\" style=\"background-color: white\"> 18 mmol/l , </span><span class=\"spark-nlp-display-entity-wrapper\" style=\"background-color: #77b5fe\"><span class=\"spark-nlp-display-entity-name\">anion gap </span><span class=\"spark-nlp-display-entity-type\">TEST</span></span><span class=\"spark-nlp-display-others\" style=\"background-color: white\"> 20 , </span><span class=\"spark-nlp-display-entity-wrapper\" style=\"background-color: #77b5fe\"><span class=\"spark-nlp-display-entity-name\">creatinine </span><span class=\"spark-nlp-display-entity-type\">TEST</span></span><span class=\"spark-nlp-display-others\" style=\"background-color: white\"> 0.4 mg/dL , </span><span class=\"spark-nlp-display-entity-wrapper\" style=\"background-color: #77b5fe\"><span class=\"spark-nlp-display-entity-name\">triglycerides </span><span class=\"spark-nlp-display-entity-type\">TEST</span></span><span class=\"spark-nlp-display-others\" style=\"background-color: white\"> 508 mg/dL , </span><span class=\"spark-nlp-display-entity-wrapper\" style=\"background-color: #77b5fe\"><span class=\"spark-nlp-display-entity-name\">total cholesterol </span><span class=\"spark-nlp-display-entity-type\">TEST</span></span><span class=\"spark-nlp-display-others\" style=\"background-color: white\"> 122 mg/dL , </span><span class=\"spark-nlp-display-entity-wrapper\" style=\"background-color: #77b5fe\"><span class=\"spark-nlp-display-entity-name\">glycated hemoglobin </span><span class=\"spark-nlp-display-entity-type\">TEST</span></span><span class=\"spark-nlp-display-others\" style=\"background-color: white\"> ( </span><span class=\"spark-nlp-display-entity-wrapper\" style=\"background-color: #77b5fe\"><span class=\"spark-nlp-display-entity-name\">HbA1c </span><span class=\"spark-nlp-display-entity-type\">TEST</span></span><span class=\"spark-nlp-display-others\" style=\"background-color: white\"> ) 10% , and </span><span class=\"spark-nlp-display-entity-wrapper\" style=\"background-color: #77b5fe\"><span class=\"spark-nlp-display-entity-name\">venous pH </span><span class=\"spark-nlp-display-entity-type\">TEST</span></span><span class=\"spark-nlp-display-others\" style=\"background-color: white\"> 7.27 . </span><span class=\"spark-nlp-display-entity-wrapper\" style=\"background-color: #77b5fe\"><span class=\"spark-nlp-display-entity-name\">Serum lipase </span><span class=\"spark-nlp-display-entity-type\">TEST</span></span><span class=\"spark-nlp-display-others\" style=\"background-color: white\"> was normal at 43 </span><span class=\"spark-nlp-display-entity-wrapper\" style=\"background-color: #77b5fe\"><span class=\"spark-nlp-display-entity-name\">U/L </span><span class=\"spark-nlp-display-entity-type\">TEST</span></span><span class=\"spark-nlp-display-others\" style=\"background-color: white\"> . </span><span class=\"spark-nlp-display-entity-wrapper\" style=\"background-color: #77b5fe\"><span class=\"spark-nlp-display-entity-name\">Serum acetone levels </span><span class=\"spark-nlp-display-entity-type\">TEST</span></span><span class=\"spark-nlp-display-others\" style=\"background-color: white\"> could not be assessed as </span><span class=\"spark-nlp-display-entity-wrapper\" style=\"background-color: #77b5fe\"><span class=\"spark-nlp-display-entity-name\">blood samples </span><span class=\"spark-nlp-display-entity-type\">TEST</span></span><span class=\"spark-nlp-display-others\" style=\"background-color: white\"> kept </span><span class=\"spark-nlp-display-entity-wrapper\" style=\"background-color: #800080\"><span class=\"spark-nlp-display-entity-name\">hemolyzing </span><span class=\"spark-nlp-display-entity-type\">PROBLEM</span></span><span class=\"spark-nlp-display-others\" style=\"background-color: white\"> due to </span><span class=\"spark-nlp-display-entity-wrapper\" style=\"background-color: #800080\"><span class=\"spark-nlp-display-entity-name\">significant lipemia </span><span class=\"spark-nlp-display-entity-type\">PROBLEM</span></span><span class=\"spark-nlp-display-others\" style=\"background-color: white\"> . The patient was initially admitted for </span><span class=\"spark-nlp-display-entity-wrapper\" style=\"background-color: #800080\"><span class=\"spark-nlp-display-entity-name\">starvation ketosis </span><span class=\"spark-nlp-display-entity-type\">PROBLEM</span></span><span class=\"spark-nlp-display-others\" style=\"background-color: white\"> , as she reported </span><span class=\"spark-nlp-display-entity-wrapper\" style=\"background-color: #800080\"><span class=\"spark-nlp-display-entity-name\">poor oral intake </span><span class=\"spark-nlp-display-entity-type\">PROBLEM</span></span><span class=\"spark-nlp-display-others\" style=\"background-color: white\"> for three days prior to admission . However , </span><span class=\"spark-nlp-display-entity-wrapper\" style=\"background-color: #77b5fe\"><span class=\"spark-nlp-display-entity-name\">serum chemistry </span><span class=\"spark-nlp-display-entity-type\">TEST</span></span><span class=\"spark-nlp-display-others\" style=\"background-color: white\"> obtained six hours after presentation revealed </span><span class=\"spark-nlp-display-entity-wrapper\" style=\"background-color: #77b5fe\"><span class=\"spark-nlp-display-entity-name\">her glucose </span><span class=\"spark-nlp-display-entity-type\">TEST</span></span><span class=\"spark-nlp-display-others\" style=\"background-color: white\"> was 186 mg/dL , </span><span class=\"spark-nlp-display-entity-wrapper\" style=\"background-color: #77b5fe\"><span class=\"spark-nlp-display-entity-name\">the anion gap </span><span class=\"spark-nlp-display-entity-type\">TEST</span></span><span class=\"spark-nlp-display-others\" style=\"background-color: white\"> was </span><span class=\"spark-nlp-display-entity-wrapper\" style=\"background-color: #800080\"><span class=\"spark-nlp-display-entity-name\">still elevated </span><span class=\"spark-nlp-display-entity-type\">PROBLEM</span></span><span class=\"spark-nlp-display-others\" style=\"background-color: white\"> at 21 , </span><span class=\"spark-nlp-display-entity-wrapper\" style=\"background-color: #77b5fe\"><span class=\"spark-nlp-display-entity-name\">serum bicarbonate </span><span class=\"spark-nlp-display-entity-type\">TEST</span></span><span class=\"spark-nlp-display-others\" style=\"background-color: white\"> was 16 mmol/L , </span><span class=\"spark-nlp-display-entity-wrapper\" style=\"background-color: #77b5fe\"><span class=\"spark-nlp-display-entity-name\">triglyceride level </span><span class=\"spark-nlp-display-entity-type\">TEST</span></span><span class=\"spark-nlp-display-others\" style=\"background-color: white\"> peaked at 2050 mg/dL , and </span><span class=\"spark-nlp-display-entity-wrapper\" style=\"background-color: #77b5fe\"><span class=\"spark-nlp-display-entity-name\">lipase </span><span class=\"spark-nlp-display-entity-type\">TEST</span></span><span class=\"spark-nlp-display-others\" style=\"background-color: white\"> was 52 </span><span class=\"spark-nlp-display-entity-wrapper\" style=\"background-color: #77b5fe\"><span class=\"spark-nlp-display-entity-name\">U/L </span><span class=\"spark-nlp-display-entity-type\">TEST</span></span><span class=\"spark-nlp-display-others\" style=\"background-color: white\"> . </span><span class=\"spark-nlp-display-entity-wrapper\" style=\"background-color: #77b5fe\"><span class=\"spark-nlp-display-entity-name\">The β-hydroxybutyrate level </span><span class=\"spark-nlp-display-entity-type\">TEST</span></span><span class=\"spark-nlp-display-others\" style=\"background-color: white\"> was obtained and found to be </span><span class=\"spark-nlp-display-entity-wrapper\" style=\"background-color: #800080\"><span class=\"spark-nlp-display-entity-name\">elevated </span><span class=\"spark-nlp-display-entity-type\">PROBLEM</span></span><span class=\"spark-nlp-display-others\" style=\"background-color: white\"> at 5.29 mmol/L - the original sample was centrifuged and the chylomicron layer removed prior to </span><span class=\"spark-nlp-display-entity-wrapper\" style=\"background-color: #77b5fe\"><span class=\"spark-nlp-display-entity-name\">analysis </span><span class=\"spark-nlp-display-entity-type\">TEST</span></span><span class=\"spark-nlp-display-others\" style=\"background-color: white\"> due to </span><span class=\"spark-nlp-display-entity-wrapper\" style=\"background-color: #800080\"><span class=\"spark-nlp-display-entity-name\">interference from turbidity </span><span class=\"spark-nlp-display-entity-type\">PROBLEM</span></span><span class=\"spark-nlp-display-others\" style=\"background-color: white\"> caused by </span><span class=\"spark-nlp-display-entity-wrapper\" style=\"background-color: #800080\"><span class=\"spark-nlp-display-entity-name\">lipemia </span><span class=\"spark-nlp-display-entity-type\">PROBLEM</span></span><span class=\"spark-nlp-display-others\" style=\"background-color: white\"> again . The patient was treated with </span><span class=\"spark-nlp-display-entity-wrapper\" style=\"background-color: #8b6673\"><span class=\"spark-nlp-display-entity-name\">an insulin drip </span><span class=\"spark-nlp-display-entity-type\">TREATMENT</span></span><span class=\"spark-nlp-display-others\" style=\"background-color: white\"> for </span><span class=\"spark-nlp-display-entity-wrapper\" style=\"background-color: #800080\"><span class=\"spark-nlp-display-entity-name\">euDKA </span><span class=\"spark-nlp-display-entity-type\">PROBLEM</span></span><span class=\"spark-nlp-display-others\" style=\"background-color: white\"> and </span><span class=\"spark-nlp-display-entity-wrapper\" style=\"background-color: #800080\"><span class=\"spark-nlp-display-entity-name\">HTG </span><span class=\"spark-nlp-display-entity-type\">PROBLEM</span></span><span class=\"spark-nlp-display-others\" style=\"background-color: white\"> with </span><span class=\"spark-nlp-display-entity-wrapper\" style=\"background-color: #8b6673\"><span class=\"spark-nlp-display-entity-name\">a reduction </span><span class=\"spark-nlp-display-entity-type\">TREATMENT</span></span><span class=\"spark-nlp-display-others\" style=\"background-color: white\"> in </span><span class=\"spark-nlp-display-entity-wrapper\" style=\"background-color: #77b5fe\"><span class=\"spark-nlp-display-entity-name\">the anion gap </span><span class=\"spark-nlp-display-entity-type\">TEST</span></span><span class=\"spark-nlp-display-others\" style=\"background-color: white\"> to 13 and </span><span class=\"spark-nlp-display-entity-wrapper\" style=\"background-color: #77b5fe\"><span class=\"spark-nlp-display-entity-name\">triglycerides </span><span class=\"spark-nlp-display-entity-type\">TEST</span></span><span class=\"spark-nlp-display-others\" style=\"background-color: white\"> to 1400 mg/dL , within 24 hours . Her euDKA was thought to be precipitated by </span><span class=\"spark-nlp-display-entity-wrapper\" style=\"background-color: #800080\"><span class=\"spark-nlp-display-entity-name\">her respiratory tract infection </span><span class=\"spark-nlp-display-entity-type\">PROBLEM</span></span><span class=\"spark-nlp-display-others\" style=\"background-color: white\"> in the setting of </span><span class=\"spark-nlp-display-entity-wrapper\" style=\"background-color: #8b6673\"><span class=\"spark-nlp-display-entity-name\">SGLT2 inhibitor </span><span class=\"spark-nlp-display-entity-type\">TREATMENT</span></span><span class=\"spark-nlp-display-others\" style=\"background-color: white\"> use . The patient was seen by the endocrinology service and she was discharged on 40 units of </span><span class=\"spark-nlp-display-entity-wrapper\" style=\"background-color: #8b6673\"><span class=\"spark-nlp-display-entity-name\">insulin glargine </span><span class=\"spark-nlp-display-entity-type\">TREATMENT</span></span><span class=\"spark-nlp-display-others\" style=\"background-color: white\"> at night , 12 units of </span><span class=\"spark-nlp-display-entity-wrapper\" style=\"background-color: #8b6673\"><span class=\"spark-nlp-display-entity-name\">insulin lispro </span><span class=\"spark-nlp-display-entity-type\">TREATMENT</span></span><span class=\"spark-nlp-display-others\" style=\"background-color: white\"> with meals , and </span><span class=\"spark-nlp-display-entity-wrapper\" style=\"background-color: #8b6673\"><span class=\"spark-nlp-display-entity-name\">metformin </span><span class=\"spark-nlp-display-entity-type\">TREATMENT</span></span><span class=\"spark-nlp-display-others\" style=\"background-color: white\"> 1000 mg two times a day . It was determined that </span><span class=\"spark-nlp-display-entity-wrapper\" style=\"background-color: #8b6673\"><span class=\"spark-nlp-display-entity-name\">all SGLT2 inhibitors </span><span class=\"spark-nlp-display-entity-type\">TREATMENT</span></span><span class=\"spark-nlp-display-others\" style=\"background-color: white\"> should be discontinued indefinitely . She had close follow-up with endocrinology post discharge .<br></span></div>"
      ],
      "text/plain": [
       "<IPython.core.display.HTML object>"
      ]
     },
     "metadata": {
      "tags": []
     },
     "output_type": "display_data"
    }
   ],
   "source": [
    "from sparknlp_display import NerVisualizer\n",
    "\n",
    "visualiser = NerVisualizer()\n",
    "\n",
    "visualiser.display(light_result[0], label_col='ner_chunk', document_col='document')\n",
    "\n",
    "# Change color of an entity label\n",
    "\n",
    "#visualiser.set_label_colors({'PROBLEM':'#008080', 'TEST':'#800080', 'TREATMENT':'#808080'})\n",
    "#visualiser.display(light_result[0], label_col='ner_chunk')\n",
    "\n",
    "# Set label filter\n",
    "\n",
    "# visualiser.display(light_result, label_col='ner_chunk', document_col='document',\n",
    "                   #labels=['PROBLEM','TEST'])"
   ]
  },
  {
   "cell_type": "markdown",
   "metadata": {
    "id": "FhraruYkEQQk"
   },
   "source": [
    "![image.png](data:image/png;base64,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)"
   ]
  },
  {
   "cell_type": "markdown",
   "metadata": {
    "id": "zOXLMXIWRs_l"
   },
   "source": [
    "## NER JSL\n",
    "Let's show an example of `ner_jsl` model that has about 80 clinical entity labels by changing just only the model name."
   ]
  },
  {
   "cell_type": "code",
   "execution_count": 4,
   "metadata": {
    "colab": {
     "base_uri": "https://localhost:8080/"
    },
    "id": "xzfAWMGjR3ov",
    "outputId": "7877a0f2-eb24-4324-8a17-8d21de76bf14"
   },
   "outputs": [
    {
     "name": "stdout",
     "output_type": "stream",
     "text": [
      "sentence_detector_dl_healthcare download started this may take some time.\n",
      "Approximate size to download 363.9 KB\n",
      "[OK!]\n",
      "embeddings_clinical download started this may take some time.\n",
      "Approximate size to download 1.6 GB\n",
      "[OK!]\n",
      "ner_jsl download started this may take some time.\n",
      "Approximate size to download 14.5 MB\n",
      "[OK!]\n"
     ]
    }
   ],
   "source": [
    "documentAssembler = DocumentAssembler()\\\n",
    "  .setInputCol(\"text\")\\\n",
    "  .setOutputCol(\"document\")\n",
    "\n",
    "sentenceDetector = SentenceDetectorDLModel.pretrained(\"sentence_detector_dl_healthcare\",\"en\",\"clinical/models\") \\\n",
    "  .setInputCols([\"document\"]) \\\n",
    "  .setOutputCol(\"sentence\") \n",
    "\n",
    "tokenizer = Tokenizer()\\\n",
    "  .setInputCols([\"sentence\"])\\\n",
    "  .setOutputCol(\"token\")\n",
    "\n",
    "word_embeddings = WordEmbeddingsModel.pretrained(\"embeddings_clinical\", \"en\", \"clinical/models\")\\\n",
    "  .setInputCols([\"sentence\", \"token\"])\\\n",
    "  .setOutputCol(\"embeddings\")\n",
    "\n",
    "jsl_ner = MedicalNerModel.pretrained(\"ner_jsl\", \"en\", \"clinical/models\") \\\n",
    "  .setInputCols([\"sentence\", \"token\", \"embeddings\"]) \\\n",
    "  .setOutputCol(\"jsl_ner\")\n",
    "\n",
    "jsl_ner_converter = NerConverter() \\\n",
    "  .setInputCols([\"sentence\", \"token\", \"jsl_ner\"]) \\\n",
    "  .setOutputCol(\"jsl_ner_chunk\")\n",
    "\n",
    "jsl_ner_pipeline = Pipeline(stages=[\n",
    "    documentAssembler, \n",
    "    sentenceDetector,\n",
    "    tokenizer,\n",
    "    word_embeddings,\n",
    "    jsl_ner,\n",
    "    jsl_ner_converter])\n",
    "\n",
    "empty_data = spark.createDataFrame([[\"\"]]).toDF(\"text\")\n",
    "\n",
    "jsl_ner_model = jsl_ner_pipeline.fit(empty_data)"
   ]
  },
  {
   "cell_type": "code",
   "execution_count": 7,
   "metadata": {
    "colab": {
     "base_uri": "https://localhost:8080/",
     "height": 722
    },
    "id": "DAqpsTfXS6nR",
    "outputId": "6910f802-3e9c-41ce-aff8-67be350c30a9"
   },
   "outputs": [
    {
     "name": "stdout",
     "output_type": "stream",
     "text": [
      "\n",
      "A 28-year-old female with a history of gestational diabetes mellitus diagnosed eight years prior to presentation and subsequent type two diabetes mellitus ( T2DM ), one prior episode of HTG-induced pancreatitis three years prior to presentation , associated with an acute hepatitis , and obesity with a body mass index ( BMI ) of 33.5 kg/m2 , presented with a one-week history of polyuria , polydipsia , poor appetite , and vomiting . Two weeks prior to presentation , she was treated with a five-day course of amoxicillin for a respiratory tract infection . She was on metformin , glipizide , and dapagliflozin for T2DM and atorvastatin and gemfibrozil for HTG . She had been on dapagliflozin for six months at the time of presentation . Physical examination on presentation was significant for dry oral mucosa ; significantly , her abdominal examination was benign with no tenderness , guarding , or rigidity . Pertinent laboratory findings on admission were : serum glucose 111 mg/dl , bicarbonate 18 mmol/l , anion gap 20 , creatinine 0.4 mg/dL , triglycerides 508 mg/dL , total cholesterol 122 mg/dL , glycated hemoglobin ( HbA1c ) 10% , and venous pH 7.27 . Serum lipase was normal at 43 U/L . Serum acetone levels could not be assessed as blood samples kept hemolyzing due to significant lipemia . The patient was initially admitted for starvation ketosis , as she reported poor oral intake for three days prior to admission . However , serum chemistry obtained six hours after presentation revealed her glucose was 186 mg/dL , the anion gap was still elevated at 21 , serum bicarbonate was 16 mmol/L , triglyceride level peaked at 2050 mg/dL , and lipase was 52 U/L . The β-hydroxybutyrate level was obtained and found to be elevated at 5.29 mmol/L - the original sample was centrifuged and the chylomicron layer removed prior to analysis due to interference from turbidity caused by lipemia again . The patient was treated with an insulin drip for euDKA and HTG with a reduction in the anion gap to 13 and triglycerides to 1400 mg/dL , within 24 hours . Her euDKA was thought to be precipitated by her respiratory tract infection in the setting of SGLT2 inhibitor use . The patient was seen by the endocrinology service and she was discharged on 40 units of insulin glargine at night , 12 units of insulin lispro with meals , and metformin 1000 mg two times a day . It was determined that all SGLT2 inhibitors should be discontinued indefinitely . She had close follow-up with endocrinology post discharge .\n",
      "\n"
     ]
    },
    {
     "data": {
      "text/html": [
       "<div>\n",
       "<style scoped>\n",
       "    .dataframe tbody tr th:only-of-type {\n",
       "        vertical-align: middle;\n",
       "    }\n",
       "\n",
       "    .dataframe tbody tr th {\n",
       "        vertical-align: top;\n",
       "    }\n",
       "\n",
       "    .dataframe thead th {\n",
       "        text-align: right;\n",
       "    }\n",
       "</style>\n",
       "<table border=\"1\" class=\"dataframe\">\n",
       "  <thead>\n",
       "    <tr style=\"text-align: right;\">\n",
       "      <th></th>\n",
       "      <th>chunks</th>\n",
       "      <th>begin</th>\n",
       "      <th>end</th>\n",
       "      <th>sentence_id</th>\n",
       "      <th>entities</th>\n",
       "    </tr>\n",
       "  </thead>\n",
       "  <tbody>\n",
       "    <tr>\n",
       "      <th>0</th>\n",
       "      <td>28-year-old</td>\n",
       "      <td>3</td>\n",
       "      <td>13</td>\n",
       "      <td>0</td>\n",
       "      <td>Age</td>\n",
       "    </tr>\n",
       "    <tr>\n",
       "      <th>1</th>\n",
       "      <td>female</td>\n",
       "      <td>15</td>\n",
       "      <td>20</td>\n",
       "      <td>0</td>\n",
       "      <td>Gender</td>\n",
       "    </tr>\n",
       "    <tr>\n",
       "      <th>2</th>\n",
       "      <td>gestational diabetes mellitus</td>\n",
       "      <td>40</td>\n",
       "      <td>68</td>\n",
       "      <td>0</td>\n",
       "      <td>Diabetes</td>\n",
       "    </tr>\n",
       "    <tr>\n",
       "      <th>3</th>\n",
       "      <td>eight years prior</td>\n",
       "      <td>80</td>\n",
       "      <td>96</td>\n",
       "      <td>0</td>\n",
       "      <td>RelativeDate</td>\n",
       "    </tr>\n",
       "    <tr>\n",
       "      <th>4</th>\n",
       "      <td>subsequent</td>\n",
       "      <td>118</td>\n",
       "      <td>127</td>\n",
       "      <td>0</td>\n",
       "      <td>Modifier</td>\n",
       "    </tr>\n",
       "    <tr>\n",
       "      <th>5</th>\n",
       "      <td>type two diabetes mellitus</td>\n",
       "      <td>129</td>\n",
       "      <td>154</td>\n",
       "      <td>0</td>\n",
       "      <td>Diabetes</td>\n",
       "    </tr>\n",
       "    <tr>\n",
       "      <th>6</th>\n",
       "      <td>T2DM</td>\n",
       "      <td>158</td>\n",
       "      <td>161</td>\n",
       "      <td>0</td>\n",
       "      <td>Diabetes</td>\n",
       "    </tr>\n",
       "    <tr>\n",
       "      <th>7</th>\n",
       "      <td>HTG-induced pancreatitis</td>\n",
       "      <td>187</td>\n",
       "      <td>210</td>\n",
       "      <td>0</td>\n",
       "      <td>Disease_Syndrome_Disorder</td>\n",
       "    </tr>\n",
       "    <tr>\n",
       "      <th>8</th>\n",
       "      <td>three years prior</td>\n",
       "      <td>212</td>\n",
       "      <td>228</td>\n",
       "      <td>0</td>\n",
       "      <td>RelativeDate</td>\n",
       "    </tr>\n",
       "    <tr>\n",
       "      <th>9</th>\n",
       "      <td>acute</td>\n",
       "      <td>267</td>\n",
       "      <td>271</td>\n",
       "      <td>0</td>\n",
       "      <td>Modifier</td>\n",
       "    </tr>\n",
       "    <tr>\n",
       "      <th>10</th>\n",
       "      <td>hepatitis</td>\n",
       "      <td>273</td>\n",
       "      <td>281</td>\n",
       "      <td>0</td>\n",
       "      <td>Communicable_Disease</td>\n",
       "    </tr>\n",
       "    <tr>\n",
       "      <th>11</th>\n",
       "      <td>obesity</td>\n",
       "      <td>289</td>\n",
       "      <td>295</td>\n",
       "      <td>0</td>\n",
       "      <td>Obesity</td>\n",
       "    </tr>\n",
       "    <tr>\n",
       "      <th>12</th>\n",
       "      <td>body mass index</td>\n",
       "      <td>304</td>\n",
       "      <td>318</td>\n",
       "      <td>0</td>\n",
       "      <td>Symptom</td>\n",
       "    </tr>\n",
       "    <tr>\n",
       "      <th>13</th>\n",
       "      <td>33.5 kg/m2</td>\n",
       "      <td>331</td>\n",
       "      <td>340</td>\n",
       "      <td>0</td>\n",
       "      <td>Weight</td>\n",
       "    </tr>\n",
       "    <tr>\n",
       "      <th>14</th>\n",
       "      <td>one-week</td>\n",
       "      <td>361</td>\n",
       "      <td>368</td>\n",
       "      <td>0</td>\n",
       "      <td>Duration</td>\n",
       "    </tr>\n",
       "    <tr>\n",
       "      <th>15</th>\n",
       "      <td>polyuria</td>\n",
       "      <td>381</td>\n",
       "      <td>388</td>\n",
       "      <td>0</td>\n",
       "      <td>Symptom</td>\n",
       "    </tr>\n",
       "    <tr>\n",
       "      <th>16</th>\n",
       "      <td>polydipsia</td>\n",
       "      <td>392</td>\n",
       "      <td>401</td>\n",
       "      <td>0</td>\n",
       "      <td>Symptom</td>\n",
       "    </tr>\n",
       "    <tr>\n",
       "      <th>17</th>\n",
       "      <td>poor appetite</td>\n",
       "      <td>405</td>\n",
       "      <td>417</td>\n",
       "      <td>0</td>\n",
       "      <td>Symptom</td>\n",
       "    </tr>\n",
       "    <tr>\n",
       "      <th>18</th>\n",
       "      <td>vomiting</td>\n",
       "      <td>425</td>\n",
       "      <td>432</td>\n",
       "      <td>0</td>\n",
       "      <td>Symptom</td>\n",
       "    </tr>\n",
       "    <tr>\n",
       "      <th>19</th>\n",
       "      <td>Two weeks prior</td>\n",
       "      <td>436</td>\n",
       "      <td>450</td>\n",
       "      <td>1</td>\n",
       "      <td>RelativeDate</td>\n",
       "    </tr>\n",
       "  </tbody>\n",
       "</table>\n",
       "</div>"
      ],
      "text/plain": [
       "                           chunks  begin  ...  sentence_id                   entities\n",
       "0                     28-year-old      3  ...            0                        Age\n",
       "1                          female     15  ...            0                     Gender\n",
       "2   gestational diabetes mellitus     40  ...            0                   Diabetes\n",
       "3               eight years prior     80  ...            0               RelativeDate\n",
       "4                      subsequent    118  ...            0                   Modifier\n",
       "5      type two diabetes mellitus    129  ...            0                   Diabetes\n",
       "6                            T2DM    158  ...            0                   Diabetes\n",
       "7        HTG-induced pancreatitis    187  ...            0  Disease_Syndrome_Disorder\n",
       "8               three years prior    212  ...            0               RelativeDate\n",
       "9                           acute    267  ...            0                   Modifier\n",
       "10                      hepatitis    273  ...            0       Communicable_Disease\n",
       "11                        obesity    289  ...            0                    Obesity\n",
       "12                body mass index    304  ...            0                    Symptom\n",
       "13                     33.5 kg/m2    331  ...            0                     Weight\n",
       "14                       one-week    361  ...            0                   Duration\n",
       "15                       polyuria    381  ...            0                    Symptom\n",
       "16                     polydipsia    392  ...            0                    Symptom\n",
       "17                  poor appetite    405  ...            0                    Symptom\n",
       "18                       vomiting    425  ...            0                    Symptom\n",
       "19                Two weeks prior    436  ...            1               RelativeDate\n",
       "\n",
       "[20 rows x 5 columns]"
      ]
     },
     "execution_count": 7,
     "metadata": {
      "tags": []
     },
     "output_type": "execute_result"
    }
   ],
   "source": [
    "print (text)\n",
    "\n",
    "jsl_light_model = LightPipeline(jsl_ner_model)\n",
    "\n",
    "jsl_light_result = jsl_light_model.fullAnnotate(text)\n",
    "\n",
    "\n",
    "chunks = []\n",
    "entities = []\n",
    "sentence= []\n",
    "begin = []\n",
    "end = []\n",
    "\n",
    "for n in jsl_light_result[0]['jsl_ner_chunk']:\n",
    "        \n",
    "    begin.append(n.begin)\n",
    "    end.append(n.end)\n",
    "    chunks.append(n.result)\n",
    "    entities.append(n.metadata['entity']) \n",
    "    sentence.append(n.metadata['sentence'])\n",
    "    \n",
    "    \n",
    "import pandas as pd\n",
    "\n",
    "df = pd.DataFrame({'chunks':chunks, 'begin': begin, 'end':end, \n",
    "                   'sentence_id':sentence, 'entities':entities})\n",
    "\n",
    "df.head(20)"
   ]
  },
  {
   "cell_type": "code",
   "execution_count": 9,
   "metadata": {
    "colab": {
     "base_uri": "https://localhost:8080/",
     "height": 1000
    },
    "id": "Ehc7lrLZTHIe",
    "outputId": "f4211cae-860a-449a-b4df-f8d2e5379219"
   },
   "outputs": [
    {
     "data": {
      "text/html": [
       "\n",
       "<style>\n",
       "    @import url('https://fonts.googleapis.com/css2?family=Montserrat:wght@300;400;500;600;700&display=swap');\n",
       "    @import url('https://fonts.googleapis.com/css2?family=Vistol Regular:wght@300;400;500;600;700&display=swap');\n",
       "    \n",
       "    .spark-nlp-display-scroll-entities {\n",
       "        border: 1px solid #E7EDF0;\n",
       "        border-radius: 3px;\n",
       "        text-align: justify;\n",
       "        \n",
       "    }\n",
       "    .spark-nlp-display-scroll-entities span {  \n",
       "        font-size: 14px;\n",
       "        line-height: 24px;\n",
       "        color: #536B76;\n",
       "        font-family: 'Montserrat', sans-serif !important;\n",
       "    }\n",
       "    \n",
       "    .spark-nlp-display-entity-wrapper{\n",
       "    \n",
       "        display: inline-grid;\n",
       "        text-align: center;\n",
       "        border-radius: 4px;\n",
       "        margin: 0 2px 5px 2px;\n",
       "        padding: 1px\n",
       "    }\n",
       "    .spark-nlp-display-entity-name{\n",
       "        font-size: 14px;\n",
       "        line-height: 24px;\n",
       "        font-family: 'Montserrat', sans-serif !important;\n",
       "        \n",
       "        background: #f1f2f3;\n",
       "        border-width: medium;\n",
       "        text-align: center;\n",
       "        \n",
       "        font-weight: 400;\n",
       "        \n",
       "        border-radius: 5px;\n",
       "        padding: 2px 5px;\n",
       "        display: block;\n",
       "        margin: 3px 2px;\n",
       "    \n",
       "    }\n",
       "    .spark-nlp-display-entity-type{\n",
       "        font-size: 14px;\n",
       "        line-height: 24px;\n",
       "        color: #ffffff;\n",
       "        font-family: 'Montserrat', sans-serif !important;\n",
       "        \n",
       "        text-transform: uppercase;\n",
       "        \n",
       "        font-weight: 500;\n",
       "\n",
       "        display: block;\n",
       "        padding: 3px 5px;\n",
       "    }\n",
       "    \n",
       "    .spark-nlp-display-entity-resolution{\n",
       "        font-size: 14px;\n",
       "        line-height: 24px;\n",
       "        color: #ffffff;\n",
       "        font-family: 'Vistol Regular', sans-serif !important;\n",
       "        \n",
       "        text-transform: uppercase;\n",
       "        \n",
       "        font-weight: 500;\n",
       "\n",
       "        display: block;\n",
       "        padding: 3px 5px;\n",
       "    }\n",
       "    \n",
       "    .spark-nlp-display-others{\n",
       "        font-size: 14px;\n",
       "        line-height: 24px;\n",
       "        font-family: 'Montserrat', sans-serif !important;\n",
       "        \n",
       "        font-weight: 400;\n",
       "    }\n",
       "\n",
       "</style>\n",
       " <span class=\"spark-nlp-display-others\" style=\"background-color: white\"><br>A </span><span class=\"spark-nlp-display-entity-wrapper\" style=\"background-color: #ffe0ac\"><span class=\"spark-nlp-display-entity-name\">28-year-old </span><span class=\"spark-nlp-display-entity-type\">Age</span></span><span class=\"spark-nlp-display-others\" style=\"background-color: white\"> </span><span class=\"spark-nlp-display-entity-wrapper\" style=\"background-color: #ffacb7\"><span class=\"spark-nlp-display-entity-name\">female </span><span class=\"spark-nlp-display-entity-type\">Gender</span></span><span class=\"spark-nlp-display-others\" style=\"background-color: white\"> with a history of </span><span class=\"spark-nlp-display-entity-wrapper\" style=\"background-color: #AF8B07\"><span class=\"spark-nlp-display-entity-name\">gestational diabetes mellitus </span><span class=\"spark-nlp-display-entity-type\">Diabetes</span></span><span class=\"spark-nlp-display-others\" style=\"background-color: white\"> diagnosed </span><span class=\"spark-nlp-display-entity-wrapper\" style=\"background-color: #5734C8\"><span class=\"spark-nlp-display-entity-name\">eight years prior </span><span class=\"spark-nlp-display-entity-type\">RelativeDate</span></span><span class=\"spark-nlp-display-others\" style=\"background-color: white\"> to presentation and </span><span class=\"spark-nlp-display-entity-wrapper\" style=\"background-color: #8B475D\"><span class=\"spark-nlp-display-entity-name\">subsequent </span><span class=\"spark-nlp-display-entity-type\">Modifier</span></span><span class=\"spark-nlp-display-others\" style=\"background-color: white\"> </span><span class=\"spark-nlp-display-entity-wrapper\" style=\"background-color: #AF8B07\"><span class=\"spark-nlp-display-entity-name\">type two diabetes mellitus </span><span class=\"spark-nlp-display-entity-type\">Diabetes</span></span><span class=\"spark-nlp-display-others\" style=\"background-color: white\"> ( </span><span class=\"spark-nlp-display-entity-wrapper\" style=\"background-color: #AF8B07\"><span class=\"spark-nlp-display-entity-name\">T2DM </span><span class=\"spark-nlp-display-entity-type\">Diabetes</span></span><span class=\"spark-nlp-display-others\" style=\"background-color: white\"> ), one prior episode of </span><span class=\"spark-nlp-display-entity-wrapper\" style=\"background-color: #5DABBC\"><span class=\"spark-nlp-display-entity-name\">HTG-induced pancreatitis </span><span class=\"spark-nlp-display-entity-type\">Disease_Syndrome_Disorder</span></span><span class=\"spark-nlp-display-others\" style=\"background-color: white\"> </span><span class=\"spark-nlp-display-entity-wrapper\" style=\"background-color: #5734C8\"><span class=\"spark-nlp-display-entity-name\">three years prior </span><span class=\"spark-nlp-display-entity-type\">RelativeDate</span></span><span class=\"spark-nlp-display-others\" style=\"background-color: white\"> to presentation , associated with an </span><span class=\"spark-nlp-display-entity-wrapper\" style=\"background-color: #8B475D\"><span class=\"spark-nlp-display-entity-name\">acute </span><span class=\"spark-nlp-display-entity-type\">Modifier</span></span><span class=\"spark-nlp-display-others\" style=\"background-color: white\"> </span><span class=\"spark-nlp-display-entity-wrapper\" style=\"background-color: #55AD65\"><span class=\"spark-nlp-display-entity-name\">hepatitis </span><span class=\"spark-nlp-display-entity-type\">Communicable_Disease</span></span><span class=\"spark-nlp-display-others\" style=\"background-color: white\"> , and </span><span class=\"spark-nlp-display-entity-wrapper\" style=\"background-color: #A49652\"><span class=\"spark-nlp-display-entity-name\">obesity </span><span class=\"spark-nlp-display-entity-type\">Obesity</span></span><span class=\"spark-nlp-display-others\" style=\"background-color: white\"> with a </span><span class=\"spark-nlp-display-entity-wrapper\" style=\"background-color: #321F0F\"><span class=\"spark-nlp-display-entity-name\">body mass index </span><span class=\"spark-nlp-display-entity-type\">Symptom</span></span><span class=\"spark-nlp-display-others\" style=\"background-color: white\"> ( BMI ) of </span><span class=\"spark-nlp-display-entity-wrapper\" style=\"background-color: #0C85A2\"><span class=\"spark-nlp-display-entity-name\">33.5 kg/m2 </span><span class=\"spark-nlp-display-entity-type\">Weight</span></span><span class=\"spark-nlp-display-others\" style=\"background-color: white\"> , presented with a </span><span class=\"spark-nlp-display-entity-wrapper\" style=\"background-color: #06AB83\"><span class=\"spark-nlp-display-entity-name\">one-week </span><span class=\"spark-nlp-display-entity-type\">Duration</span></span><span class=\"spark-nlp-display-others\" style=\"background-color: white\"> history of </span><span class=\"spark-nlp-display-entity-wrapper\" style=\"background-color: #321F0F\"><span class=\"spark-nlp-display-entity-name\">polyuria </span><span class=\"spark-nlp-display-entity-type\">Symptom</span></span><span class=\"spark-nlp-display-others\" style=\"background-color: white\"> , </span><span class=\"spark-nlp-display-entity-wrapper\" style=\"background-color: #321F0F\"><span class=\"spark-nlp-display-entity-name\">polydipsia </span><span class=\"spark-nlp-display-entity-type\">Symptom</span></span><span class=\"spark-nlp-display-others\" style=\"background-color: white\"> , </span><span class=\"spark-nlp-display-entity-wrapper\" style=\"background-color: #321F0F\"><span class=\"spark-nlp-display-entity-name\">poor appetite </span><span class=\"spark-nlp-display-entity-type\">Symptom</span></span><span class=\"spark-nlp-display-others\" style=\"background-color: white\"> , and </span><span class=\"spark-nlp-display-entity-wrapper\" style=\"background-color: #321F0F\"><span class=\"spark-nlp-display-entity-name\">vomiting </span><span class=\"spark-nlp-display-entity-type\">Symptom</span></span><span class=\"spark-nlp-display-others\" style=\"background-color: white\"> . </span><span class=\"spark-nlp-display-entity-wrapper\" style=\"background-color: #5734C8\"><span class=\"spark-nlp-display-entity-name\">Two weeks prior </span><span class=\"spark-nlp-display-entity-type\">RelativeDate</span></span><span class=\"spark-nlp-display-others\" style=\"background-color: white\"> to presentation , </span><span class=\"spark-nlp-display-entity-wrapper\" style=\"background-color: #ffacb7\"><span class=\"spark-nlp-display-entity-name\">she </span><span class=\"spark-nlp-display-entity-type\">Gender</span></span><span class=\"spark-nlp-display-others\" style=\"background-color: white\"> was treated with a </span><span class=\"spark-nlp-display-entity-wrapper\" style=\"background-color: #1A1844\"><span class=\"spark-nlp-display-entity-name\">five-day </span><span class=\"spark-nlp-display-entity-type\">Frequency</span></span><span class=\"spark-nlp-display-others\" style=\"background-color: white\"> course of </span><span class=\"spark-nlp-display-entity-wrapper\" style=\"background-color: #8C4F21\"><span class=\"spark-nlp-display-entity-name\">amoxicillin </span><span class=\"spark-nlp-display-entity-type\">Drug_Ingredient</span></span><span class=\"spark-nlp-display-others\" style=\"background-color: white\"> for a </span><span class=\"spark-nlp-display-entity-wrapper\" style=\"background-color: #5DABBC\"><span class=\"spark-nlp-display-entity-name\">respiratory tract infection </span><span class=\"spark-nlp-display-entity-type\">Disease_Syndrome_Disorder</span></span><span class=\"spark-nlp-display-others\" style=\"background-color: white\"> . </span><span class=\"spark-nlp-display-entity-wrapper\" style=\"background-color: #ffacb7\"><span class=\"spark-nlp-display-entity-name\">She </span><span class=\"spark-nlp-display-entity-type\">Gender</span></span><span class=\"spark-nlp-display-others\" style=\"background-color: white\"> was on </span><span class=\"spark-nlp-display-entity-wrapper\" style=\"background-color: #8C4F21\"><span class=\"spark-nlp-display-entity-name\">metformin </span><span class=\"spark-nlp-display-entity-type\">Drug_Ingredient</span></span><span class=\"spark-nlp-display-others\" style=\"background-color: white\"> , </span><span class=\"spark-nlp-display-entity-wrapper\" style=\"background-color: #8C4F21\"><span class=\"spark-nlp-display-entity-name\">glipizide </span><span class=\"spark-nlp-display-entity-type\">Drug_Ingredient</span></span><span class=\"spark-nlp-display-others\" style=\"background-color: white\"> , and </span><span class=\"spark-nlp-display-entity-wrapper\" style=\"background-color: #8C4F21\"><span class=\"spark-nlp-display-entity-name\">dapagliflozin </span><span class=\"spark-nlp-display-entity-type\">Drug_Ingredient</span></span><span class=\"spark-nlp-display-others\" style=\"background-color: white\"> for </span><span class=\"spark-nlp-display-entity-wrapper\" style=\"background-color: #8C4F21\"><span class=\"spark-nlp-display-entity-name\">T2DM </span><span class=\"spark-nlp-display-entity-type\">Drug_Ingredient</span></span><span class=\"spark-nlp-display-others\" style=\"background-color: white\"> and </span><span class=\"spark-nlp-display-entity-wrapper\" style=\"background-color: #8C4F21\"><span class=\"spark-nlp-display-entity-name\">atorvastatin </span><span class=\"spark-nlp-display-entity-type\">Drug_Ingredient</span></span><span class=\"spark-nlp-display-others\" style=\"background-color: white\"> and </span><span class=\"spark-nlp-display-entity-wrapper\" style=\"background-color: #8C4F21\"><span class=\"spark-nlp-display-entity-name\">gemfibrozil </span><span class=\"spark-nlp-display-entity-type\">Drug_Ingredient</span></span><span class=\"spark-nlp-display-others\" style=\"background-color: white\"> for </span><span class=\"spark-nlp-display-entity-wrapper\" style=\"background-color: #AE60A7\"><span class=\"spark-nlp-display-entity-name\">HTG </span><span class=\"spark-nlp-display-entity-type\">Hyperlipidemia</span></span><span class=\"spark-nlp-display-others\" style=\"background-color: white\"> . </span><span class=\"spark-nlp-display-entity-wrapper\" style=\"background-color: #ffacb7\"><span class=\"spark-nlp-display-entity-name\">She </span><span class=\"spark-nlp-display-entity-type\">Gender</span></span><span class=\"spark-nlp-display-others\" style=\"background-color: white\"> had been on </span><span class=\"spark-nlp-display-entity-wrapper\" style=\"background-color: #8C4F21\"><span class=\"spark-nlp-display-entity-name\">dapagliflozin </span><span class=\"spark-nlp-display-entity-type\">Drug_Ingredient</span></span><span class=\"spark-nlp-display-others\" style=\"background-color: white\"> </span><span class=\"spark-nlp-display-entity-wrapper\" style=\"background-color: #06AB83\"><span class=\"spark-nlp-display-entity-name\">for six months </span><span class=\"spark-nlp-display-entity-type\">Duration</span></span><span class=\"spark-nlp-display-others\" style=\"background-color: white\"> at the time of presentation . Physical examination on presentation was significant for </span><span class=\"spark-nlp-display-entity-wrapper\" style=\"background-color: #321F0F\"><span class=\"spark-nlp-display-entity-name\">dry oral mucosa </span><span class=\"spark-nlp-display-entity-type\">Symptom</span></span><span class=\"spark-nlp-display-others\" style=\"background-color: white\"> ; significantly , </span><span class=\"spark-nlp-display-entity-wrapper\" style=\"background-color: #ffacb7\"><span class=\"spark-nlp-display-entity-name\">her </span><span class=\"spark-nlp-display-entity-type\">Gender</span></span><span class=\"spark-nlp-display-others\" style=\"background-color: white\"> </span><span class=\"spark-nlp-display-entity-wrapper\" style=\"background-color: #330EBD\"><span class=\"spark-nlp-display-entity-name\">abdominal </span><span class=\"spark-nlp-display-entity-type\">External_body_part_or_region</span></span><span class=\"spark-nlp-display-others\" style=\"background-color: white\"> examination was benign with no </span><span class=\"spark-nlp-display-entity-wrapper\" style=\"background-color: #321F0F\"><span class=\"spark-nlp-display-entity-name\">tenderness </span><span class=\"spark-nlp-display-entity-type\">Symptom</span></span><span class=\"spark-nlp-display-others\" style=\"background-color: white\"> , </span><span class=\"spark-nlp-display-entity-wrapper\" style=\"background-color: #321F0F\"><span class=\"spark-nlp-display-entity-name\">guarding </span><span class=\"spark-nlp-display-entity-type\">Symptom</span></span><span class=\"spark-nlp-display-others\" style=\"background-color: white\"> , or </span><span class=\"spark-nlp-display-entity-wrapper\" style=\"background-color: #321F0F\"><span class=\"spark-nlp-display-entity-name\">rigidity </span><span class=\"spark-nlp-display-entity-type\">Symptom</span></span><span class=\"spark-nlp-display-others\" style=\"background-color: white\"> . Pertinent laboratory findings on </span><span class=\"spark-nlp-display-entity-wrapper\" style=\"background-color: #971777\"><span class=\"spark-nlp-display-entity-name\">admission </span><span class=\"spark-nlp-display-entity-type\">Admission_Discharge</span></span><span class=\"spark-nlp-display-others\" style=\"background-color: white\"> were : </span><span class=\"spark-nlp-display-entity-wrapper\" style=\"background-color: #77b5fe\"><span class=\"spark-nlp-display-entity-name\">serum glucose </span><span class=\"spark-nlp-display-entity-type\">Test</span></span><span class=\"spark-nlp-display-others\" style=\"background-color: white\"> </span><span class=\"spark-nlp-display-entity-wrapper\" style=\"background-color: #BA8AB0\"><span class=\"spark-nlp-display-entity-name\">111 mg/dl </span><span class=\"spark-nlp-display-entity-type\">Test_Result</span></span><span class=\"spark-nlp-display-others\" style=\"background-color: white\"> , </span><span class=\"spark-nlp-display-entity-wrapper\" style=\"background-color: #77b5fe\"><span class=\"spark-nlp-display-entity-name\">bicarbonate </span><span class=\"spark-nlp-display-entity-type\">Test</span></span><span class=\"spark-nlp-display-others\" style=\"background-color: white\"> </span><span class=\"spark-nlp-display-entity-wrapper\" style=\"background-color: #BA8AB0\"><span class=\"spark-nlp-display-entity-name\">18 mmol/l </span><span class=\"spark-nlp-display-entity-type\">Test_Result</span></span><span class=\"spark-nlp-display-others\" style=\"background-color: white\"> , </span><span class=\"spark-nlp-display-entity-wrapper\" style=\"background-color: #77b5fe\"><span class=\"spark-nlp-display-entity-name\">anion gap </span><span class=\"spark-nlp-display-entity-type\">Test</span></span><span class=\"spark-nlp-display-others\" style=\"background-color: white\"> </span><span class=\"spark-nlp-display-entity-wrapper\" style=\"background-color: #BA8AB0\"><span class=\"spark-nlp-display-entity-name\">20 </span><span class=\"spark-nlp-display-entity-type\">Test_Result</span></span><span class=\"spark-nlp-display-others\" style=\"background-color: white\"> , </span><span class=\"spark-nlp-display-entity-wrapper\" style=\"background-color: #77b5fe\"><span class=\"spark-nlp-display-entity-name\">creatinine </span><span class=\"spark-nlp-display-entity-type\">Test</span></span><span class=\"spark-nlp-display-others\" style=\"background-color: white\"> </span><span class=\"spark-nlp-display-entity-wrapper\" style=\"background-color: #BA8AB0\"><span class=\"spark-nlp-display-entity-name\">0.4 mg/dL </span><span class=\"spark-nlp-display-entity-type\">Test_Result</span></span><span class=\"spark-nlp-display-others\" style=\"background-color: white\"> , </span><span class=\"spark-nlp-display-entity-wrapper\" style=\"background-color: #12351B\"><span class=\"spark-nlp-display-entity-name\">triglycerides 508 mg/dL </span><span class=\"spark-nlp-display-entity-type\">Triglycerides</span></span><span class=\"spark-nlp-display-others\" style=\"background-color: white\"> , </span><span class=\"spark-nlp-display-entity-wrapper\" style=\"background-color: #77b5fe\"><span class=\"spark-nlp-display-entity-name\">total cholesterol </span><span class=\"spark-nlp-display-entity-type\">Test</span></span><span class=\"spark-nlp-display-others\" style=\"background-color: white\"> </span><span class=\"spark-nlp-display-entity-wrapper\" style=\"background-color: #BA8AB0\"><span class=\"spark-nlp-display-entity-name\">122 mg/dL </span><span class=\"spark-nlp-display-entity-type\">Test_Result</span></span><span class=\"spark-nlp-display-others\" style=\"background-color: white\"> , </span><span class=\"spark-nlp-display-entity-wrapper\" style=\"background-color: #77b5fe\"><span class=\"spark-nlp-display-entity-name\">glycated hemoglobin </span><span class=\"spark-nlp-display-entity-type\">Test</span></span><span class=\"spark-nlp-display-others\" style=\"background-color: white\"> ( </span><span class=\"spark-nlp-display-entity-wrapper\" style=\"background-color: #77b5fe\"><span class=\"spark-nlp-display-entity-name\">HbA1c </span><span class=\"spark-nlp-display-entity-type\">Test</span></span><span class=\"spark-nlp-display-others\" style=\"background-color: white\"> ) </span><span class=\"spark-nlp-display-entity-wrapper\" style=\"background-color: #BA8AB0\"><span class=\"spark-nlp-display-entity-name\">10% </span><span class=\"spark-nlp-display-entity-type\">Test_Result</span></span><span class=\"spark-nlp-display-others\" style=\"background-color: white\"> , and </span><span class=\"spark-nlp-display-entity-wrapper\" style=\"background-color: #77b5fe\"><span class=\"spark-nlp-display-entity-name\">venous pH </span><span class=\"spark-nlp-display-entity-type\">Test</span></span><span class=\"spark-nlp-display-others\" style=\"background-color: white\"> </span><span class=\"spark-nlp-display-entity-wrapper\" style=\"background-color: #BA8AB0\"><span class=\"spark-nlp-display-entity-name\">7.27 </span><span class=\"spark-nlp-display-entity-type\">Test_Result</span></span><span class=\"spark-nlp-display-others\" style=\"background-color: white\"> . </span><span class=\"spark-nlp-display-entity-wrapper\" style=\"background-color: #77b5fe\"><span class=\"spark-nlp-display-entity-name\">Serum lipase </span><span class=\"spark-nlp-display-entity-type\">Test</span></span><span class=\"spark-nlp-display-others\" style=\"background-color: white\"> was </span><span class=\"spark-nlp-display-entity-wrapper\" style=\"background-color: #BA8AB0\"><span class=\"spark-nlp-display-entity-name\">normal </span><span class=\"spark-nlp-display-entity-type\">Test_Result</span></span><span class=\"spark-nlp-display-others\" style=\"background-color: white\"> at </span><span class=\"spark-nlp-display-entity-wrapper\" style=\"background-color: #BA8AB0\"><span class=\"spark-nlp-display-entity-name\">43 U/L </span><span class=\"spark-nlp-display-entity-type\">Test_Result</span></span><span class=\"spark-nlp-display-others\" style=\"background-color: white\"> . </span><span class=\"spark-nlp-display-entity-wrapper\" style=\"background-color: #77b5fe\"><span class=\"spark-nlp-display-entity-name\">Serum acetone levels </span><span class=\"spark-nlp-display-entity-type\">Test</span></span><span class=\"spark-nlp-display-others\" style=\"background-color: white\"> could not be assessed as </span><span class=\"spark-nlp-display-entity-wrapper\" style=\"background-color: #77b5fe\"><span class=\"spark-nlp-display-entity-name\">blood samples </span><span class=\"spark-nlp-display-entity-type\">Test</span></span><span class=\"spark-nlp-display-others\" style=\"background-color: white\"> kept </span><span class=\"spark-nlp-display-entity-wrapper\" style=\"background-color: #BA8AB0\"><span class=\"spark-nlp-display-entity-name\">hemolyzing </span><span class=\"spark-nlp-display-entity-type\">Test_Result</span></span><span class=\"spark-nlp-display-others\" style=\"background-color: white\"> due to </span><span class=\"spark-nlp-display-entity-wrapper\" style=\"background-color: #8B475D\"><span class=\"spark-nlp-display-entity-name\">significant </span><span class=\"spark-nlp-display-entity-type\">Modifier</span></span><span class=\"spark-nlp-display-others\" style=\"background-color: white\"> </span><span class=\"spark-nlp-display-entity-wrapper\" style=\"background-color: #321F0F\"><span class=\"spark-nlp-display-entity-name\">lipemia </span><span class=\"spark-nlp-display-entity-type\">Symptom</span></span><span class=\"spark-nlp-display-others\" style=\"background-color: white\"> . The patient was initially </span><span class=\"spark-nlp-display-entity-wrapper\" style=\"background-color: #971777\"><span class=\"spark-nlp-display-entity-name\">admitted </span><span class=\"spark-nlp-display-entity-type\">Admission_Discharge</span></span><span class=\"spark-nlp-display-others\" style=\"background-color: white\"> for </span><span class=\"spark-nlp-display-entity-wrapper\" style=\"background-color: #5DABBC\"><span class=\"spark-nlp-display-entity-name\">starvation ketosis </span><span class=\"spark-nlp-display-entity-type\">Disease_Syndrome_Disorder</span></span><span class=\"spark-nlp-display-others\" style=\"background-color: white\"> , as </span><span class=\"spark-nlp-display-entity-wrapper\" style=\"background-color: #ffacb7\"><span class=\"spark-nlp-display-entity-name\">she </span><span class=\"spark-nlp-display-entity-type\">Gender</span></span><span class=\"spark-nlp-display-others\" style=\"background-color: white\"> reported </span><span class=\"spark-nlp-display-entity-wrapper\" style=\"background-color: #321F0F\"><span class=\"spark-nlp-display-entity-name\">poor oral intake </span><span class=\"spark-nlp-display-entity-type\">Symptom</span></span><span class=\"spark-nlp-display-others\" style=\"background-color: white\"> </span><span class=\"spark-nlp-display-entity-wrapper\" style=\"background-color: #06AB83\"><span class=\"spark-nlp-display-entity-name\">for three days </span><span class=\"spark-nlp-display-entity-type\">Duration</span></span><span class=\"spark-nlp-display-others\" style=\"background-color: white\"> prior to </span><span class=\"spark-nlp-display-entity-wrapper\" style=\"background-color: #971777\"><span class=\"spark-nlp-display-entity-name\">admission </span><span class=\"spark-nlp-display-entity-type\">Admission_Discharge</span></span><span class=\"spark-nlp-display-others\" style=\"background-color: white\"> . However , </span><span class=\"spark-nlp-display-entity-wrapper\" style=\"background-color: #77b5fe\"><span class=\"spark-nlp-display-entity-name\">serum chemistry </span><span class=\"spark-nlp-display-entity-type\">Test</span></span><span class=\"spark-nlp-display-others\" style=\"background-color: white\"> obtained </span><span class=\"spark-nlp-display-entity-wrapper\" style=\"background-color: #A99C07\"><span class=\"spark-nlp-display-entity-name\">six hours </span><span class=\"spark-nlp-display-entity-type\">RelativeTime</span></span><span class=\"spark-nlp-display-others\" style=\"background-color: white\"> after presentation revealed </span><span class=\"spark-nlp-display-entity-wrapper\" style=\"background-color: #ffacb7\"><span class=\"spark-nlp-display-entity-name\">her </span><span class=\"spark-nlp-display-entity-type\">Gender</span></span><span class=\"spark-nlp-display-others\" style=\"background-color: white\"> </span><span class=\"spark-nlp-display-entity-wrapper\" style=\"background-color: #77b5fe\"><span class=\"spark-nlp-display-entity-name\">glucose </span><span class=\"spark-nlp-display-entity-type\">Test</span></span><span class=\"spark-nlp-display-others\" style=\"background-color: white\"> was </span><span class=\"spark-nlp-display-entity-wrapper\" style=\"background-color: #BA8AB0\"><span class=\"spark-nlp-display-entity-name\">186 mg/dL </span><span class=\"spark-nlp-display-entity-type\">Test_Result</span></span><span class=\"spark-nlp-display-others\" style=\"background-color: white\"> , the </span><span class=\"spark-nlp-display-entity-wrapper\" style=\"background-color: #77b5fe\"><span class=\"spark-nlp-display-entity-name\">anion gap </span><span class=\"spark-nlp-display-entity-type\">Test</span></span><span class=\"spark-nlp-display-others\" style=\"background-color: white\"> was still </span><span class=\"spark-nlp-display-entity-wrapper\" style=\"background-color: #BA8AB0\"><span class=\"spark-nlp-display-entity-name\">elevated </span><span class=\"spark-nlp-display-entity-type\">Test_Result</span></span><span class=\"spark-nlp-display-others\" style=\"background-color: white\"> at </span><span class=\"spark-nlp-display-entity-wrapper\" style=\"background-color: #BA8AB0\"><span class=\"spark-nlp-display-entity-name\">21 </span><span class=\"spark-nlp-display-entity-type\">Test_Result</span></span><span class=\"spark-nlp-display-others\" style=\"background-color: white\"> , </span><span class=\"spark-nlp-display-entity-wrapper\" style=\"background-color: #77b5fe\"><span class=\"spark-nlp-display-entity-name\">serum bicarbonate </span><span class=\"spark-nlp-display-entity-type\">Test</span></span><span class=\"spark-nlp-display-others\" style=\"background-color: white\"> was </span><span class=\"spark-nlp-display-entity-wrapper\" style=\"background-color: #BA8AB0\"><span class=\"spark-nlp-display-entity-name\">16 mmol/L </span><span class=\"spark-nlp-display-entity-type\">Test_Result</span></span><span class=\"spark-nlp-display-others\" style=\"background-color: white\"> , </span><span class=\"spark-nlp-display-entity-wrapper\" style=\"background-color: #77b5fe\"><span class=\"spark-nlp-display-entity-name\">triglyceride level </span><span class=\"spark-nlp-display-entity-type\">Test</span></span><span class=\"spark-nlp-display-others\" style=\"background-color: white\"> </span><span class=\"spark-nlp-display-entity-wrapper\" style=\"background-color: #BA8AB0\"><span class=\"spark-nlp-display-entity-name\">peaked at 2050 mg/dL </span><span class=\"spark-nlp-display-entity-type\">Test_Result</span></span><span class=\"spark-nlp-display-others\" style=\"background-color: white\"> , and </span><span class=\"spark-nlp-display-entity-wrapper\" style=\"background-color: #77b5fe\"><span class=\"spark-nlp-display-entity-name\">lipase </span><span class=\"spark-nlp-display-entity-type\">Test</span></span><span class=\"spark-nlp-display-others\" style=\"background-color: white\"> was </span><span class=\"spark-nlp-display-entity-wrapper\" style=\"background-color: #BA8AB0\"><span class=\"spark-nlp-display-entity-name\">52 U/L </span><span class=\"spark-nlp-display-entity-type\">Test_Result</span></span><span class=\"spark-nlp-display-others\" style=\"background-color: white\"> . The </span><span class=\"spark-nlp-display-entity-wrapper\" style=\"background-color: #77b5fe\"><span class=\"spark-nlp-display-entity-name\">β-hydroxybutyrate level </span><span class=\"spark-nlp-display-entity-type\">Test</span></span><span class=\"spark-nlp-display-others\" style=\"background-color: white\"> was obtained and found to be </span><span class=\"spark-nlp-display-entity-wrapper\" style=\"background-color: #BA8AB0\"><span class=\"spark-nlp-display-entity-name\">elevated </span><span class=\"spark-nlp-display-entity-type\">Test_Result</span></span><span class=\"spark-nlp-display-others\" style=\"background-color: white\"> at </span><span class=\"spark-nlp-display-entity-wrapper\" style=\"background-color: #BA8AB0\"><span class=\"spark-nlp-display-entity-name\">5.29 mmol/L </span><span class=\"spark-nlp-display-entity-type\">Test_Result</span></span><span class=\"spark-nlp-display-others\" style=\"background-color: white\"> - the original sample was centrifuged and the </span><span class=\"spark-nlp-display-entity-wrapper\" style=\"background-color: #736C80\"><span class=\"spark-nlp-display-entity-name\">chylomicron layer </span><span class=\"spark-nlp-display-entity-type\">Internal_organ_or_component</span></span><span class=\"spark-nlp-display-others\" style=\"background-color: white\"> removed prior to analysis due to </span><span class=\"spark-nlp-display-entity-wrapper\" style=\"background-color: #321F0F\"><span class=\"spark-nlp-display-entity-name\">interference from turbidity </span><span class=\"spark-nlp-display-entity-type\">Symptom</span></span><span class=\"spark-nlp-display-others\" style=\"background-color: white\"> caused by </span><span class=\"spark-nlp-display-entity-wrapper\" style=\"background-color: #321F0F\"><span class=\"spark-nlp-display-entity-name\">lipemia </span><span class=\"spark-nlp-display-entity-type\">Symptom</span></span><span class=\"spark-nlp-display-others\" style=\"background-color: white\"> again . The patient was treated with an </span><span class=\"spark-nlp-display-entity-wrapper\" style=\"background-color: #8C4F21\"><span class=\"spark-nlp-display-entity-name\">insulin </span><span class=\"spark-nlp-display-entity-type\">Drug_Ingredient</span></span><span class=\"spark-nlp-display-others\" style=\"background-color: white\"> </span><span class=\"spark-nlp-display-entity-wrapper\" style=\"background-color: #48C623\"><span class=\"spark-nlp-display-entity-name\">drip </span><span class=\"spark-nlp-display-entity-type\">Route</span></span><span class=\"spark-nlp-display-others\" style=\"background-color: white\"> for euDKA and </span><span class=\"spark-nlp-display-entity-wrapper\" style=\"background-color: #8C4F21\"><span class=\"spark-nlp-display-entity-name\">HTG </span><span class=\"spark-nlp-display-entity-type\">Drug_Ingredient</span></span><span class=\"spark-nlp-display-others\" style=\"background-color: white\"> with a reduction in the anion gap to </span><span class=\"spark-nlp-display-entity-wrapper\" style=\"background-color: #BA8AB0\"><span class=\"spark-nlp-display-entity-name\">13 </span><span class=\"spark-nlp-display-entity-type\">Test_Result</span></span><span class=\"spark-nlp-display-others\" style=\"background-color: white\"> and </span><span class=\"spark-nlp-display-entity-wrapper\" style=\"background-color: #77b5fe\"><span class=\"spark-nlp-display-entity-name\">triglycerides </span><span class=\"spark-nlp-display-entity-type\">Test</span></span><span class=\"spark-nlp-display-others\" style=\"background-color: white\"> to </span><span class=\"spark-nlp-display-entity-wrapper\" style=\"background-color: #BA8AB0\"><span class=\"spark-nlp-display-entity-name\">1400 mg/dL </span><span class=\"spark-nlp-display-entity-type\">Test_Result</span></span><span class=\"spark-nlp-display-others\" style=\"background-color: white\"> , </span><span class=\"spark-nlp-display-entity-wrapper\" style=\"background-color: #A99C07\"><span class=\"spark-nlp-display-entity-name\">within 24 hours </span><span class=\"spark-nlp-display-entity-type\">RelativeTime</span></span><span class=\"spark-nlp-display-others\" style=\"background-color: white\"> . </span><span class=\"spark-nlp-display-entity-wrapper\" style=\"background-color: #ffacb7\"><span class=\"spark-nlp-display-entity-name\">Her </span><span class=\"spark-nlp-display-entity-type\">Gender</span></span><span class=\"spark-nlp-display-others\" style=\"background-color: white\"> euDKA was thought to be precipitated by </span><span class=\"spark-nlp-display-entity-wrapper\" style=\"background-color: #ffacb7\"><span class=\"spark-nlp-display-entity-name\">her </span><span class=\"spark-nlp-display-entity-type\">Gender</span></span><span class=\"spark-nlp-display-others\" style=\"background-color: white\"> </span><span class=\"spark-nlp-display-entity-wrapper\" style=\"background-color: #5DABBC\"><span class=\"spark-nlp-display-entity-name\">respiratory tract infection </span><span class=\"spark-nlp-display-entity-type\">Disease_Syndrome_Disorder</span></span><span class=\"spark-nlp-display-others\" style=\"background-color: white\"> in the setting of </span><span class=\"spark-nlp-display-entity-wrapper\" style=\"background-color: #8C4F21\"><span class=\"spark-nlp-display-entity-name\">SGLT2 inhibitor </span><span class=\"spark-nlp-display-entity-type\">Drug_Ingredient</span></span><span class=\"spark-nlp-display-others\" style=\"background-color: white\"> use . The patient was seen by the </span><span class=\"spark-nlp-display-entity-wrapper\" style=\"background-color: #924E16\"><span class=\"spark-nlp-display-entity-name\">endocrinology service </span><span class=\"spark-nlp-display-entity-type\">Clinical_Dept</span></span><span class=\"spark-nlp-display-others\" style=\"background-color: white\"> and </span><span class=\"spark-nlp-display-entity-wrapper\" style=\"background-color: #ffacb7\"><span class=\"spark-nlp-display-entity-name\">she </span><span class=\"spark-nlp-display-entity-type\">Gender</span></span><span class=\"spark-nlp-display-others\" style=\"background-color: white\"> was </span><span class=\"spark-nlp-display-entity-wrapper\" style=\"background-color: #971777\"><span class=\"spark-nlp-display-entity-name\">discharged </span><span class=\"spark-nlp-display-entity-type\">Admission_Discharge</span></span><span class=\"spark-nlp-display-others\" style=\"background-color: white\"> on </span><span class=\"spark-nlp-display-entity-wrapper\" style=\"background-color: #ABAD81\"><span class=\"spark-nlp-display-entity-name\">40 units </span><span class=\"spark-nlp-display-entity-type\">Dosage</span></span><span class=\"spark-nlp-display-others\" style=\"background-color: white\"> of </span><span class=\"spark-nlp-display-entity-wrapper\" style=\"background-color: #8C4F21\"><span class=\"spark-nlp-display-entity-name\">insulin glargine </span><span class=\"spark-nlp-display-entity-type\">Drug_Ingredient</span></span><span class=\"spark-nlp-display-others\" style=\"background-color: white\"> </span><span class=\"spark-nlp-display-entity-wrapper\" style=\"background-color: #1A1844\"><span class=\"spark-nlp-display-entity-name\">at night </span><span class=\"spark-nlp-display-entity-type\">Frequency</span></span><span class=\"spark-nlp-display-others\" style=\"background-color: white\"> , </span><span class=\"spark-nlp-display-entity-wrapper\" style=\"background-color: #ABAD81\"><span class=\"spark-nlp-display-entity-name\">12 units </span><span class=\"spark-nlp-display-entity-type\">Dosage</span></span><span class=\"spark-nlp-display-others\" style=\"background-color: white\"> of </span><span class=\"spark-nlp-display-entity-wrapper\" style=\"background-color: #8C4F21\"><span class=\"spark-nlp-display-entity-name\">insulin lispro </span><span class=\"spark-nlp-display-entity-type\">Drug_Ingredient</span></span><span class=\"spark-nlp-display-others\" style=\"background-color: white\"> </span><span class=\"spark-nlp-display-entity-wrapper\" style=\"background-color: #1A1844\"><span class=\"spark-nlp-display-entity-name\">with meals </span><span class=\"spark-nlp-display-entity-type\">Frequency</span></span><span class=\"spark-nlp-display-others\" style=\"background-color: white\"> , and </span><span class=\"spark-nlp-display-entity-wrapper\" style=\"background-color: #8C4F21\"><span class=\"spark-nlp-display-entity-name\">metformin </span><span class=\"spark-nlp-display-entity-type\">Drug_Ingredient</span></span><span class=\"spark-nlp-display-others\" style=\"background-color: white\"> </span><span class=\"spark-nlp-display-entity-wrapper\" style=\"background-color: #4C5A83\"><span class=\"spark-nlp-display-entity-name\">1000 mg </span><span class=\"spark-nlp-display-entity-type\">Strength</span></span><span class=\"spark-nlp-display-others\" style=\"background-color: white\"> </span><span class=\"spark-nlp-display-entity-wrapper\" style=\"background-color: #1A1844\"><span class=\"spark-nlp-display-entity-name\">two times a day </span><span class=\"spark-nlp-display-entity-type\">Frequency</span></span><span class=\"spark-nlp-display-others\" style=\"background-color: white\"> . It was determined that all </span><span class=\"spark-nlp-display-entity-wrapper\" style=\"background-color: #8C4F21\"><span class=\"spark-nlp-display-entity-name\">SGLT2 inhibitors </span><span class=\"spark-nlp-display-entity-type\">Drug_Ingredient</span></span><span class=\"spark-nlp-display-others\" style=\"background-color: white\"> should be discontinued indefinitely . </span><span class=\"spark-nlp-display-entity-wrapper\" style=\"background-color: #ffacb7\"><span class=\"spark-nlp-display-entity-name\">She </span><span class=\"spark-nlp-display-entity-type\">Gender</span></span><span class=\"spark-nlp-display-others\" style=\"background-color: white\"> had close follow-up with </span><span class=\"spark-nlp-display-entity-wrapper\" style=\"background-color: #924E16\"><span class=\"spark-nlp-display-entity-name\">endocrinology </span><span class=\"spark-nlp-display-entity-type\">Clinical_Dept</span></span><span class=\"spark-nlp-display-others\" style=\"background-color: white\"> post </span><span class=\"spark-nlp-display-entity-wrapper\" style=\"background-color: #971777\"><span class=\"spark-nlp-display-entity-name\">discharge </span><span class=\"spark-nlp-display-entity-type\">Admission_Discharge</span></span><span class=\"spark-nlp-display-others\" style=\"background-color: white\"> .<br></span></div>"
      ],
      "text/plain": [
       "<IPython.core.display.HTML object>"
      ]
     },
     "metadata": {
      "tags": []
     },
     "output_type": "display_data"
    }
   ],
   "source": [
    "from sparknlp_display import NerVisualizer\n",
    "\n",
    "visualiser = NerVisualizer()\n",
    "\n",
    "visualiser.display(jsl_light_result[0], label_col='jsl_ner_chunk', document_col='document')"
   ]
  },
  {
   "cell_type": "markdown",
   "metadata": {
    "id": "NZ_3PK8iyPIV"
   },
   "source": [
    "## Posology NER"
   ]
  },
  {
   "cell_type": "code",
   "execution_count": null,
   "metadata": {
    "colab": {
     "base_uri": "https://localhost:8080/"
    },
    "id": "S5ElG8F9CUML",
    "outputId": "cecc6e60-88a8-4eac-e595-1a0cba3832cb"
   },
   "outputs": [
    {
     "name": "stdout",
     "output_type": "stream",
     "text": [
      "ner_posology download started this may take some time.\n",
      "Approximate size to download 13.8 MB\n",
      "[OK!]\n",
      "ner_posology_greedy download started this may take some time.\n",
      "Approximate size to download 13.9 MB\n",
      "[OK!]\n"
     ]
    }
   ],
   "source": [
    "# NER model trained on i2b2 (sampled from MIMIC) dataset\n",
    "posology_ner = MedicalNerModel.pretrained(\"ner_posology\", \"en\", \"clinical/models\") \\\n",
    "    .setInputCols([\"sentence\", \"token\", \"embeddings\"]) \\\n",
    "    .setOutputCol(\"ner\")\n",
    "\n",
    "posology_ner_greedy = MedicalNerModel.pretrained(\"ner_posology_greedy\", \"en\", \"clinical/models\") \\\n",
    "    .setInputCols([\"sentence\", \"token\", \"embeddings\"]) \\\n",
    "    .setOutputCol(\"ner_greedy\")\n",
    "\n",
    "ner_converter_greedy = NerConverter()\\\n",
    "    .setInputCols([\"sentence\",\"token\",\"ner_greedy\"])\\\n",
    "    .setOutputCol(\"ner_chunk_greedy\")\n",
    "\n",
    "nlpPipeline = Pipeline(stages=[\n",
    "    documentAssembler, \n",
    "    sentenceDetector,\n",
    "    tokenizer,\n",
    "    word_embeddings,\n",
    "    posology_ner,\n",
    "    ner_converter,\n",
    "    posology_ner_greedy,\n",
    "    ner_converter_greedy])\n",
    "\n",
    "empty_data = spark.createDataFrame([[\"\"]]).toDF(\"text\")\n",
    "\n",
    "posology_model = nlpPipeline.fit(empty_data)\n"
   ]
  },
  {
   "cell_type": "code",
   "execution_count": null,
   "metadata": {
    "colab": {
     "base_uri": "https://localhost:8080/"
    },
    "id": "tGlKLjiJ1pk3",
    "outputId": "4134b141-3a46-4afb-fb77-31e87dba7342"
   },
   "outputs": [
    {
     "data": {
      "text/plain": [
       "['O',\n",
       " 'B-DOSAGE',\n",
       " 'B-STRENGTH',\n",
       " 'I-STRENGTH',\n",
       " 'B-ROUTE',\n",
       " 'B-FREQUENCY',\n",
       " 'I-FREQUENCY',\n",
       " 'B-DRUG',\n",
       " 'I-DRUG',\n",
       " 'B-FORM',\n",
       " 'I-DOSAGE',\n",
       " 'B-DURATION',\n",
       " 'I-DURATION',\n",
       " 'I-FORM',\n",
       " 'I-ROUTE']"
      ]
     },
     "execution_count": 22,
     "metadata": {
      "tags": []
     },
     "output_type": "execute_result"
    }
   ],
   "source": [
    "posology_ner.getClasses()"
   ]
  },
  {
   "cell_type": "code",
   "execution_count": null,
   "metadata": {
    "id": "dLi2DHEpyepZ"
   },
   "outputs": [],
   "source": [
    "posology_result = posology_model.transform(pubMedDF.limit(100))"
   ]
  },
  {
   "cell_type": "code",
   "execution_count": null,
   "metadata": {
    "colab": {
     "base_uri": "https://localhost:8080/"
    },
    "id": "OjeG2WLly_ym",
    "outputId": "831bbfdd-0193-49b2-f746-07714831ba93"
   },
   "outputs": [
    {
     "name": "stdout",
     "output_type": "stream",
     "text": [
      "+--------------------+--------------------+--------------------+--------------------+--------------------+--------------------+--------------------+--------------------+--------------------+\n",
      "|                text|            document|            sentence|               token|          embeddings|                 ner|           ner_chunk|          ner_greedy|    ner_chunk_greedy|\n",
      "+--------------------+--------------------+--------------------+--------------------+--------------------+--------------------+--------------------+--------------------+--------------------+\n",
      "|The human KCNJ9 (...|[{document, 0, 95...|[{document, 0, 12...|[{token, 0, 2, Th...|[{word_embeddings...|[{named_entity, 0...|                  []|[{named_entity, 0...|[{chunk, 52, 122,...|\n",
      "|BACKGROUND: At pr...|[{document, 0, 14...|[{document, 0, 19...|[{token, 0, 9, BA...|[{word_embeddings...|[{named_entity, 0...|[{chunk, 167, 180...|[{named_entity, 0...|[{chunk, 167, 180...|\n",
      "|OBJECTIVE: To inv...|[{document, 0, 15...|[{document, 0, 14...|[{token, 0, 8, OB...|[{word_embeddings...|[{named_entity, 0...|                  []|[{named_entity, 0...|                  []|\n",
      "|Combined EEG/fMRI...|[{document, 0, 16...|[{document, 0, 29...|[{token, 0, 7, Co...|[{word_embeddings...|[{named_entity, 0...|                  []|[{named_entity, 0...|                  []|\n",
      "|Kohlschutter synd...|[{document, 0, 25...|[{document, 0, 20...|[{token, 0, 11, K...|[{word_embeddings...|[{named_entity, 0...|                  []|[{named_entity, 0...|                  []|\n",
      "|Statistical analy...|[{document, 0, 10...|[{document, 0, 22...|[{token, 0, 10, S...|[{word_embeddings...|[{named_entity, 0...|                  []|[{named_entity, 0...|                  []|\n",
      "|The synthetic DOX...|[{document, 0, 57...|[{document, 0, 10...|[{token, 0, 2, Th...|[{word_embeddings...|[{named_entity, 0...|[{chunk, 432, 446...|[{named_entity, 0...|[{chunk, 432, 446...|\n",
      "|Our objective was...|[{document, 0, 24...|[{document, 0, 19...|[{token, 0, 2, Ou...|[{word_embeddings...|[{named_entity, 0...|[{chunk, 174, 185...|[{named_entity, 0...|[{chunk, 174, 185...|\n",
      "|We conducted a ph...|[{document, 0, 14...|[{document, 0, 24...|[{token, 0, 1, We...|[{word_embeddings...|[{named_entity, 0...|[{chunk, 70, 81, ...|[{named_entity, 0...|[{chunk, 70, 81, ...|\n",
      "|\"\"\"Monomeric sarc...|[{document, 0, 14...|[{document, 0, 14...|[{token, 0, 2, \"\"...|[{word_embeddings...|[{named_entity, 0...|[{chunk, 138, 144...|[{named_entity, 0...|[{chunk, 0, 36, \"...|\n",
      "+--------------------+--------------------+--------------------+--------------------+--------------------+--------------------+--------------------+--------------------+--------------------+\n",
      "only showing top 10 rows\n",
      "\n"
     ]
    }
   ],
   "source": [
    "posology_result.show(10)"
   ]
  },
  {
   "cell_type": "code",
   "execution_count": null,
   "metadata": {
    "colab": {
     "base_uri": "https://localhost:8080/"
    },
    "id": "6ZPY1VIUBeMZ",
    "outputId": "237486b9-2069-4343-c620-0e2df7021ae7"
   },
   "outputs": [
    {
     "name": "stdout",
     "output_type": "stream",
     "text": [
      "root\n",
      " |-- text: string (nullable = true)\n",
      " |-- document: array (nullable = true)\n",
      " |    |-- element: struct (containsNull = true)\n",
      " |    |    |-- annotatorType: string (nullable = true)\n",
      " |    |    |-- begin: integer (nullable = false)\n",
      " |    |    |-- end: integer (nullable = false)\n",
      " |    |    |-- result: string (nullable = true)\n",
      " |    |    |-- metadata: map (nullable = true)\n",
      " |    |    |    |-- key: string\n",
      " |    |    |    |-- value: string (valueContainsNull = true)\n",
      " |    |    |-- embeddings: array (nullable = true)\n",
      " |    |    |    |-- element: float (containsNull = false)\n",
      " |-- sentence: array (nullable = true)\n",
      " |    |-- element: struct (containsNull = true)\n",
      " |    |    |-- annotatorType: string (nullable = true)\n",
      " |    |    |-- begin: integer (nullable = false)\n",
      " |    |    |-- end: integer (nullable = false)\n",
      " |    |    |-- result: string (nullable = true)\n",
      " |    |    |-- metadata: map (nullable = true)\n",
      " |    |    |    |-- key: string\n",
      " |    |    |    |-- value: string (valueContainsNull = true)\n",
      " |    |    |-- embeddings: array (nullable = true)\n",
      " |    |    |    |-- element: float (containsNull = false)\n",
      " |-- token: array (nullable = true)\n",
      " |    |-- element: struct (containsNull = true)\n",
      " |    |    |-- annotatorType: string (nullable = true)\n",
      " |    |    |-- begin: integer (nullable = false)\n",
      " |    |    |-- end: integer (nullable = false)\n",
      " |    |    |-- result: string (nullable = true)\n",
      " |    |    |-- metadata: map (nullable = true)\n",
      " |    |    |    |-- key: string\n",
      " |    |    |    |-- value: string (valueContainsNull = true)\n",
      " |    |    |-- embeddings: array (nullable = true)\n",
      " |    |    |    |-- element: float (containsNull = false)\n",
      " |-- embeddings: array (nullable = true)\n",
      " |    |-- element: struct (containsNull = true)\n",
      " |    |    |-- annotatorType: string (nullable = true)\n",
      " |    |    |-- begin: integer (nullable = false)\n",
      " |    |    |-- end: integer (nullable = false)\n",
      " |    |    |-- result: string (nullable = true)\n",
      " |    |    |-- metadata: map (nullable = true)\n",
      " |    |    |    |-- key: string\n",
      " |    |    |    |-- value: string (valueContainsNull = true)\n",
      " |    |    |-- embeddings: array (nullable = true)\n",
      " |    |    |    |-- element: float (containsNull = false)\n",
      " |-- ner: array (nullable = true)\n",
      " |    |-- element: struct (containsNull = false)\n",
      " |    |    |-- annotatorType: string (nullable = true)\n",
      " |    |    |-- begin: integer (nullable = false)\n",
      " |    |    |-- end: integer (nullable = false)\n",
      " |    |    |-- result: string (nullable = true)\n",
      " |    |    |-- metadata: map (nullable = true)\n",
      " |    |    |    |-- key: string\n",
      " |    |    |    |-- value: string (valueContainsNull = true)\n",
      " |    |    |-- embeddings: array (nullable = true)\n",
      " |    |    |    |-- element: float (containsNull = false)\n",
      " |-- ner_chunk: array (nullable = true)\n",
      " |    |-- element: struct (containsNull = true)\n",
      " |    |    |-- annotatorType: string (nullable = true)\n",
      " |    |    |-- begin: integer (nullable = false)\n",
      " |    |    |-- end: integer (nullable = false)\n",
      " |    |    |-- result: string (nullable = true)\n",
      " |    |    |-- metadata: map (nullable = true)\n",
      " |    |    |    |-- key: string\n",
      " |    |    |    |-- value: string (valueContainsNull = true)\n",
      " |    |    |-- embeddings: array (nullable = true)\n",
      " |    |    |    |-- element: float (containsNull = false)\n",
      " |-- ner_greedy: array (nullable = true)\n",
      " |    |-- element: struct (containsNull = false)\n",
      " |    |    |-- annotatorType: string (nullable = true)\n",
      " |    |    |-- begin: integer (nullable = false)\n",
      " |    |    |-- end: integer (nullable = false)\n",
      " |    |    |-- result: string (nullable = true)\n",
      " |    |    |-- metadata: map (nullable = true)\n",
      " |    |    |    |-- key: string\n",
      " |    |    |    |-- value: string (valueContainsNull = true)\n",
      " |    |    |-- embeddings: array (nullable = true)\n",
      " |    |    |    |-- element: float (containsNull = false)\n",
      " |-- ner_chunk_greedy: array (nullable = true)\n",
      " |    |-- element: struct (containsNull = true)\n",
      " |    |    |-- annotatorType: string (nullable = true)\n",
      " |    |    |-- begin: integer (nullable = false)\n",
      " |    |    |-- end: integer (nullable = false)\n",
      " |    |    |-- result: string (nullable = true)\n",
      " |    |    |-- metadata: map (nullable = true)\n",
      " |    |    |    |-- key: string\n",
      " |    |    |    |-- value: string (valueContainsNull = true)\n",
      " |    |    |-- embeddings: array (nullable = true)\n",
      " |    |    |    |-- element: float (containsNull = false)\n",
      "\n"
     ]
    }
   ],
   "source": [
    "posology_result.printSchema()"
   ]
  },
  {
   "cell_type": "code",
   "execution_count": null,
   "metadata": {
    "colab": {
     "base_uri": "https://localhost:8080/"
    },
    "id": "pL_TMXSv1paw",
    "outputId": "b45efa12-897f-4a69-f55a-1697b6be2c6b"
   },
   "outputs": [
    {
     "name": "stdout",
     "output_type": "stream",
     "text": [
      "+--------------------+--------------------+--------------------+--------------------+--------------------+--------------------+--------------------+--------------------+--------------------+---+\n",
      "|                text|            document|            sentence|               token|          embeddings|                 ner|           ner_chunk|          ner_greedy|    ner_chunk_greedy| id|\n",
      "+--------------------+--------------------+--------------------+--------------------+--------------------+--------------------+--------------------+--------------------+--------------------+---+\n",
      "|The human KCNJ9 (...|[{document, 0, 95...|[{document, 0, 12...|[{token, 0, 2, Th...|[{word_embeddings...|[{named_entity, 0...|                  []|[{named_entity, 0...|[{chunk, 52, 122,...|  0|\n",
      "|BACKGROUND: At pr...|[{document, 0, 14...|[{document, 0, 19...|[{token, 0, 9, BA...|[{word_embeddings...|[{named_entity, 0...|[{chunk, 167, 180...|[{named_entity, 0...|[{chunk, 167, 180...|  1|\n",
      "|OBJECTIVE: To inv...|[{document, 0, 15...|[{document, 0, 14...|[{token, 0, 8, OB...|[{word_embeddings...|[{named_entity, 0...|                  []|[{named_entity, 0...|                  []|  2|\n",
      "+--------------------+--------------------+--------------------+--------------------+--------------------+--------------------+--------------------+--------------------+--------------------+---+\n",
      "only showing top 3 rows\n",
      "\n"
     ]
    }
   ],
   "source": [
    "from pyspark.sql.functions import monotonically_increasing_id\n",
    "\n",
    "# This will return a new DF with all the columns + id\n",
    "posology_result = posology_result.withColumn(\"id\", monotonically_increasing_id())\n",
    "\n",
    "posology_result.show(3)"
   ]
  },
  {
   "cell_type": "code",
   "execution_count": null,
   "metadata": {
    "colab": {
     "base_uri": "https://localhost:8080/"
    },
    "id": "YK0prud8UoDh",
    "outputId": "3ebdd132-4cc4-44cd-d52d-e0fc190b3996"
   },
   "outputs": [
    {
     "name": "stdout",
     "output_type": "stream",
     "text": [
      "+----------------------------------------------------------------------------------------------------+----------------------------------------------------------------------------------------------------+\n",
      "|                                                                                              result|                                                                                              result|\n",
      "+----------------------------------------------------------------------------------------------------+----------------------------------------------------------------------------------------------------+\n",
      "|[The, human, KCNJ9, (, Kir, 3.3, ,, GIRK3, ), is, a, member, of, the, G-protein-activated, inward...|[O, O, O, O, O, O, O, O, O, O, O, O, O, O, O, O, O, O, O, O, O, O, O, O, O, O, O, O, O, O, O, O, ...|\n",
      "|[BACKGROUND, :, At, present, ,, it, is, one, of, the, most, important, issues, for, the, treatmen...|[O, O, O, O, O, O, O, O, O, O, O, O, O, O, O, O, O, O, O, O, O, O, O, O, O, O, O, O, O, B-DRUG, O...|\n",
      "|[OBJECTIVE, :, To, investigate, the, relationship, between, preoperative, atrialfibrillation, and...|[O, O, O, O, O, O, O, O, O, O, O, O, O, O, O, O, O, O, O, O, O, O, O, O, O, O, O, O, O, O, O, O, ...|\n",
      "|[Combined, EEG/fMRI, recording, has, been, used, to, localize, the, generators, of, EEGevents, an...|[O, O, O, O, O, O, O, O, O, O, O, O, O, O, O, O, O, O, O, O, O, O, O, O, O, O, O, O, O, O, O, O, ...|\n",
      "|[Kohlschutter, syndrome, is, a, rare, neurodegenerative, disorder, presenting, withintractable, s...|    [O, O, O, O, O, O, O, O, O, O, O, O, O, O, O, O, O, O, O, O, O, O, O, O, O, O, O, O, O, O, O, O]|\n",
      "|[Statistical, analysis, of, neuroimages, is, commonly, approached, with, intergroupcomparisons, m...|[O, O, O, O, O, O, O, O, O, O, O, O, O, O, O, O, O, O, O, O, O, O, O, O, O, O, O, O, O, O, O, O, ...|\n",
      "|[The, synthetic, DOX-LNA, conjugate, was, characterized, by, proton, nuclear, magneticresonance, ...|[O, O, O, O, O, O, O, O, O, O, O, O, O, O, O, O, O, O, O, O, O, O, O, O, O, O, O, O, O, O, O, O, ...|\n",
      "|[Our, objective, was, to, compare, three, different, methods, of, blood, pressuremeasurement, thr...|[O, O, O, O, O, O, O, O, O, O, O, O, O, O, O, O, O, O, O, O, O, O, O, O, B-DRUG, O, B-DRUG, O, O,...|\n",
      "|[We, conducted, a, phase, II, study, to, assess, the, efficacy, and, tolerability, ofirinotecan, ...|[O, O, O, O, O, O, O, O, O, O, O, O, B-DRUG, O, B-DRUG, O, O, B-DRUG, O, O, O, O, O, O, O, O, O, ...|\n",
      "|[\"\"\", Monomeric, sarcosine, oxidase, (, MSOX, ), is, a, flavoenzyme, that, catalyzes, the, oxidat...|                          [O, O, O, O, O, O, O, O, O, O, O, O, O, O, O, O, O, O, O, O, O, O, B-DRUG]|\n",
      "|[We, presented, the, tachinid, fly, Exorista, japonica, with, moving, host, models, :, afreeze-dr...|[O, O, O, O, O, O, O, O, O, O, O, O, O, O, O, O, O, O, O, O, O, O, O, O, O, O, O, O, O, O, O, O, ...|\n",
      "|[The, literature, dealing, with, the, water, conducting, properties, of, sapwood, xylem, intrees,...|[O, O, O, O, O, O, O, O, O, O, O, O, O, O, O, O, O, O, O, O, O, O, O, O, O, O, O, O, O, O, O, O, ...|\n",
      "|[A, novel, approach, to, synthesize, chitosan-O-isopropyl-5'-O-d4T, monophosphateconjugate, was, ...|[O, O, O, O, O, O, O, O, O, O, B-DRUG, I-DRUG, I-DRUG, O, O, O, O, O, O, O, O, O, O, O, O, O, O, ...|\n",
      "|[An, HPLC-ESI-MS-MS, method, has, been, developed, for, the, quantitative, determination, offour,...|[O, O, O, O, O, O, O, O, O, O, O, O, O, B-DRUG, I-DRUG, I-DRUG, I-DRUG, O, O, O, O, O, O, O, O, O...|\n",
      "|[The, localizing, and, lateralizing, values, of, eye, and, head, ictal, deviations, duringfrontal...|[O, O, O, O, O, O, O, O, O, O, O, O, O, O, O, O, O, O, O, O, O, O, O, O, O, O, O, O, O, O, O, O, ...|\n",
      "|[OBJECTIVE, :, To, evaluate, the, effectiveness, and, acceptability, of, expectantmanagement, of,...|[O, O, O, O, O, O, O, O, O, O, O, O, O, O, O, O, O, O, O, O, O, O, O, O, O, O, O, O, O, O, O, O, ...|\n",
      "|[For, the, construction, of, new, combinatorial, libraries, ,, a, lead, compound, was, created, b...|[O, O, O, O, O, O, O, O, O, O, O, O, O, O, O, O, O, O, O, O, O, O, O, O, O, O, O, O, O, O, O, O, ...|\n",
      "|[We, report, the, results, of, a, screen, for, genetic, association, with, urinary, arsenicmetabo...|[O, O, O, O, O, O, O, O, O, O, O, O, O, O, O, O, O, O, O, O, O, O, O, O, O, O, O, O, O, O, O, O, ...|\n",
      "|[Intraparenchymal, pericatheter, cyst, is, rarely, reported, ., Obstruction, in, theventriculoper...|[O, O, O, O, O, O, O, O, O, O, O, O, O, O, O, O, O, O, O, O, O, O, O, O, O, O, O, O, O, O, O, O, ...|\n",
      "|[It, is, known, that, patients, with, Klinefelter's, syndrome, are, inclined, to, developconcomit...|[O, O, O, O, O, O, O, O, O, O, O, O, O, O, O, O, O, O, O, O, O, O, O, O, O, O, O, O, O, O, O, O, ...|\n",
      "+----------------------------------------------------------------------------------------------------+----------------------------------------------------------------------------------------------------+\n",
      "only showing top 20 rows\n",
      "\n"
     ]
    }
   ],
   "source": [
    "posology_result.select('token.result','ner.result').show(truncate=100)"
   ]
  },
  {
   "cell_type": "code",
   "execution_count": null,
   "metadata": {
    "colab": {
     "base_uri": "https://localhost:8080/"
    },
    "id": "DHV5kfhOClV8",
    "outputId": "f201eb91-ba38-423e-bd93-0626c6c6666f"
   },
   "outputs": [
    {
     "data": {
      "text/plain": [
       "[Row(result=['The', 'human', 'KCNJ9', '(', 'Kir', '3.3', ',', 'GIRK3', ')', 'is', 'a', 'member', 'of', 'the', 'G-protein-activated', 'inwardly', 'rectifying', 'potassium', '(', 'GIRK', ')', 'channel', 'family', '.', 'Here', 'we', 'describe', 'the', 'genomicorganization', 'of', 'the', 'KCNJ9', 'locus', 'on', 'chromosome', '1q21-23', 'as', 'a', 'candidate', 'gene', 'forType', 'II', 'diabetes', 'mellitus', 'in', 'the', 'Pima', 'Indian', 'population', '.', 'The', 'gene', 'spansapproximately', '7.6', 'kb', 'and', 'contains', 'one', 'noncoding', 'and', 'two', 'coding', 'exons', 'separated', 'byapproximately', '2.2', 'and', 'approximately', '2.6', 'kb', 'introns', ',', 'respectively', '.', 'We', 'identified14', 'single', 'nucleotide', 'polymorphisms', '(', 'SNPs', '),', 'including', 'one', 'that', 'predicts', 'aVal366Ala', 'substitution', ',', 'and', 'an', '8', 'base-pair', '(', 'bp', ')', 'insertion/deletion', '.', 'Ourexpression', 'studies', 'revealed', 'the', 'presence', 'of', 'the', 'transcript', 'in', 'various', 'humantissues', 'including', 'pancreas', ',', 'and', 'two', 'major', 'insulin-responsive', 'tissues', ':', 'fat', 'andskeletal', 'muscle', '.', 'The', 'characterization', 'of', 'the', 'KCNJ9', 'gene', 'should', 'facilitate', 'furtherstudies', 'on', 'the', 'function', 'of', 'the', 'KCNJ9', 'protein', 'and', 'allow', 'evaluation', 'of', 'thepotential', 'role', 'of', 'the', 'locus', 'in', 'Type', 'II', 'diabetes', '.'], result=['O', 'O', 'O', 'O', 'O', 'O', 'O', 'O', 'O', 'O', 'O', 'O', 'O', 'O', 'O', 'O', 'O', 'O', 'O', 'O', 'O', 'O', 'O', 'O', 'O', 'O', 'O', 'O', 'O', 'O', 'O', 'O', 'O', 'O', 'O', 'O', 'O', 'O', 'O', 'O', 'O', 'O', 'O', 'O', 'O', 'O', 'O', 'O', 'O', 'O', 'O', 'O', 'O', 'O', 'O', 'O', 'O', 'O', 'O', 'O', 'O', 'O', 'O', 'O', 'O', 'O', 'O', 'O', 'O', 'O', 'O', 'O', 'O', 'O', 'O', 'O', 'O', 'O', 'O', 'O', 'O', 'O', 'O', 'O', 'O', 'O', 'O', 'O', 'O', 'O', 'O', 'O', 'O', 'O', 'O', 'O', 'O', 'O', 'O', 'O', 'O', 'O', 'O', 'O', 'O', 'O', 'O', 'O', 'O', 'O', 'O', 'O', 'O', 'O', 'O', 'O', 'O', 'O', 'O', 'O', 'O', 'O', 'O', 'O', 'O', 'O', 'O', 'O', 'O', 'O', 'O', 'O', 'O', 'O', 'O', 'O', 'O', 'O', 'O', 'O', 'O', 'O', 'O', 'O', 'O', 'O', 'O', 'O', 'O', 'O', 'O', 'O']),\n",
       " Row(result=['BACKGROUND', ':', 'At', 'present', ',', 'it', 'is', 'one', 'of', 'the', 'most', 'important', 'issues', 'for', 'the', 'treatment', 'of', 'breast', 'cancer', 'to', 'develop', 'the', 'standard', 'therapy', 'for', 'patients', 'previously', 'treated', 'with', 'anthracyclines', 'and', 'taxanes', '.', 'With', 'the', 'objective', 'of', 'determining', 'the', 'usefulnessof', 'vinorelbine', 'monotherapy', 'in', 'patients', 'with', 'advanced', 'or', 'recurrent', 'breast', 'cancerafter', 'standard', 'therapy', ',', 'we', 'evaluated', 'the', 'efficacy', 'and', 'safety', 'of', 'vinorelbine', 'inpatients', 'previously', 'treated', 'with', 'anthracyclines', 'and', 'taxanes', '.', 'METHODS', ':', 'Vinorelbinewas', 'administered', 'at', 'a', 'dose', 'level', 'of', '25', 'mg/m(2', ')', 'intravenously', 'on', 'days', '1', 'and', '8', 'of', 'a3', 'week', 'cycle', '.', 'Patients', 'were', 'given', 'three', 'or', 'more', 'cycles', 'in', 'the', 'absence', 'of', 'tumorprogression', '.', 'A', 'maximum', 'of', 'nine', 'cycles', 'were', 'administered', '.', 'RESULTS', ':', 'The', 'responserate', 'in', '50', 'evaluable', 'patients', 'was', '20.0%', '(', '10', 'out', 'of', '50', ';', '95%', 'confidence', 'interval,10', '.', '0-33.7%', ').', 'Responders', 'plus', 'those', 'who', 'had', 'minor', 'response', '(', 'MR', ')', 'or', 'no', 'change', '(', 'NC', ')', 'accounted', 'for', '58.0%', '[10', 'partial', 'responses', '(', 'PRs', ')', '+', 'one', 'MR', '+', '18', 'NCs', 'out', 'of', '50]', '.', 'TheKaplan-Meier', 'estimate', '(', '50%', 'point', ')', 'of', 'time', 'to', 'progression', '(', 'TTP', ')', 'was', '115.0', 'days', '.', 'The', 'response', 'rate', 'in', 'the', 'visceral', 'organs', 'was', '17.3%', '(', 'nine', 'PRs', 'out', 'of', '52', ').', 'Themajor', 'toxicity', 'was', 'myelosuppression', ',', 'which', 'was', 'reversible', 'and', 'did', 'not', 'requirediscontinuation', 'of', 'treatment', '.', 'CONCLUSION', ':', 'The', 'results', 'of', 'this', 'study', 'show', 'thatvinorelbine', 'monotherapy', 'is', 'useful', 'in', 'patients', 'with', 'advanced', 'or', 'recurrent', 'breastcancer', 'previously', 'exposed', 'to', 'both', 'anthracyclines', 'and', 'taxanes', '.'], result=['O', 'O', 'O', 'O', 'O', 'O', 'O', 'O', 'O', 'O', 'O', 'O', 'O', 'O', 'O', 'O', 'O', 'O', 'O', 'O', 'O', 'O', 'O', 'O', 'O', 'O', 'O', 'O', 'O', 'B-DRUG', 'O', 'B-DRUG', 'O', 'O', 'O', 'O', 'O', 'O', 'O', 'O', 'B-DRUG', 'O', 'O', 'O', 'O', 'O', 'O', 'O', 'O', 'O', 'O', 'O', 'O', 'O', 'O', 'O', 'O', 'O', 'O', 'O', 'B-DRUG', 'O', 'O', 'O', 'O', 'B-DRUG', 'O', 'B-DRUG', 'O', 'O', 'O', 'B-DRUG', 'O', 'O', 'O', 'O', 'O', 'O', 'B-STRENGTH', 'I-STRENGTH', 'O', 'B-ROUTE', 'B-FREQUENCY', 'I-FREQUENCY', 'O', 'O', 'O', 'O', 'O', 'O', 'O', 'O', 'O', 'O', 'O', 'O', 'O', 'O', 'O', 'O', 'O', 'O', 'O', 'B-DRUG', 'O', 'O', 'O', 'O', 'O', 'O', 'O', 'O', 'O', 'O', 'O', 'O', 'O', 'O', 'O', 'O', 'O', 'O', 'O', 'O', 'O', 'O', 'O', 'O', 'O', 'O', 'O', 'O', 'O', 'O', 'O', 'O', 'O', 'O', 'O', 'O', 'O', 'O', 'O', 'O', 'O', 'O', 'O', 'O', 'O', 'O', 'O', 'O', 'O', 'O', 'O', 'O', 'O', 'O', 'O', 'O', 'O', 'O', 'O', 'O', 'O', 'O', 'O', 'O', 'O', 'O', 'O', 'O', 'O', 'O', 'O', 'O', 'O', 'O', 'O', 'O', 'O', 'O', 'O', 'O', 'O', 'O', 'O', 'O', 'O', 'O', 'O', 'O', 'O', 'O', 'O', 'O', 'O', 'O', 'O', 'O', 'O', 'O', 'O', 'O', 'O', 'O', 'O', 'O', 'O', 'O', 'O', 'O', 'O', 'O', 'O', 'O', 'O', 'O', 'O', 'O', 'O', 'O', 'O', 'O', 'O', 'O', 'B-DRUG', 'O', 'O', 'O', 'O', 'O', 'O', 'O', 'O', 'O', 'O', 'O', 'O', 'O', 'O', 'B-DRUG', 'O', 'B-DRUG', 'O'])]"
      ]
     },
     "execution_count": 28,
     "metadata": {
      "tags": []
     },
     "output_type": "execute_result"
    }
   ],
   "source": [
    "posology_result.select('token.result','ner.result').take(2)"
   ]
  },
  {
   "cell_type": "code",
   "execution_count": null,
   "metadata": {
    "colab": {
     "base_uri": "https://localhost:8080/"
    },
    "id": "3aEoR8Y5y8kE",
    "outputId": "6a1b1718-2321-4d0f-d1ab-e0381c292c18"
   },
   "outputs": [
    {
     "name": "stdout",
     "output_type": "stream",
     "text": [
      "+----------------+-----------+\n",
      "|           token|  ner_label|\n",
      "+----------------+-----------+\n",
      "|  anthracyclines|     B-DRUG|\n",
      "|         taxanes|     B-DRUG|\n",
      "|     vinorelbine|     B-DRUG|\n",
      "|     vinorelbine|     B-DRUG|\n",
      "|  anthracyclines|     B-DRUG|\n",
      "|         taxanes|     B-DRUG|\n",
      "|  Vinorelbinewas|     B-DRUG|\n",
      "|              25| B-STRENGTH|\n",
      "|          mg/m(2| I-STRENGTH|\n",
      "|   intravenously|    B-ROUTE|\n",
      "|              on|B-FREQUENCY|\n",
      "|            days|I-FREQUENCY|\n",
      "|tumorprogression|     B-DRUG|\n",
      "| thatvinorelbine|     B-DRUG|\n",
      "|  anthracyclines|     B-DRUG|\n",
      "|         taxanes|     B-DRUG|\n",
      "|     tetrazolium|     B-DRUG|\n",
      "|             dye|     I-DRUG|\n",
      "|             DOX|     B-DRUG|\n",
      "|    trandolapril|     B-DRUG|\n",
      "+----------------+-----------+\n",
      "only showing top 20 rows\n",
      "\n"
     ]
    }
   ],
   "source": [
    "from pyspark.sql import functions as F\n",
    "\n",
    "posology_result_df = posology_result.select(F.explode(F.arrays_zip('token.result', 'ner.result')).alias(\"cols\")) \\\n",
    ".select(F.expr(\"cols['0']\").alias(\"token\"),\n",
    "        F.expr(\"cols['1']\").alias(\"ner_label\"))\\\n",
    "        .filter(\"ner_label!='O'\")\n",
    "\n",
    "posology_result_df.show(20, truncate=100)\n"
   ]
  },
  {
   "cell_type": "code",
   "execution_count": null,
   "metadata": {
    "colab": {
     "base_uri": "https://localhost:8080/"
    },
    "id": "T3pH3xulzHfr",
    "outputId": "4effca42-cd3c-4700-d0df-eb3ae219078c"
   },
   "outputs": [
    {
     "name": "stdout",
     "output_type": "stream",
     "text": [
      "+---+-----------+----------------+-----+----+---------+\n",
      "|id |sentence_id|chunk           |begin|end |ner_label|\n",
      "+---+-----------+----------------+-----+----+---------+\n",
      "|1  |0          |anthracyclines  |167  |180 |DRUG     |\n",
      "|1  |0          |taxanes         |186  |192 |DRUG     |\n",
      "|1  |1          |vinorelbine     |246  |256 |DRUG     |\n",
      "|1  |1          |vinorelbine     |386  |396 |DRUG     |\n",
      "|1  |1          |anthracyclines  |433  |446 |DRUG     |\n",
      "|1  |1          |taxanes         |452  |458 |DRUG     |\n",
      "|1  |2          |Vinorelbinewas  |470  |483 |DRUG     |\n",
      "|1  |2          |25 mg/m(2       |517  |525 |STRENGTH |\n",
      "|1  |2          |intravenously   |528  |540 |ROUTE    |\n",
      "|1  |2          |on days         |542  |548 |FREQUENCY|\n",
      "|1  |3          |tumorprogression|635  |650 |DRUG     |\n",
      "|1  |11         |thatvinorelbine |1263 |1277|DRUG     |\n",
      "|1  |11         |anthracyclines  |1380 |1393|DRUG     |\n",
      "|1  |11         |taxanes         |1399 |1405|DRUG     |\n",
      "|6  |2          |tetrazolium dye |432  |446 |DRUG     |\n",
      "|6  |3          |DOX             |576  |578 |DRUG     |\n",
      "|7  |0          |trandolapril    |174  |185 |DRUG     |\n",
      "|7  |0          |losartan        |191  |198 |DRUG     |\n",
      "|7  |2          |3-week          |313  |318 |DURATION |\n",
      "|7  |2          |placebo         |320  |326 |DRUG     |\n",
      "+---+-----------+----------------+-----+----+---------+\n",
      "only showing top 20 rows\n",
      "\n"
     ]
    }
   ],
   "source": [
    "posology_result.select('id',F.explode(F.arrays_zip('ner_chunk.result', 'ner_chunk.begin', 'ner_chunk.end', 'ner_chunk.metadata')).alias(\"cols\")) \\\n",
    ".select('id', F.expr(\"cols['3']['sentence']\").alias(\"sentence_id\"),\n",
    "        F.expr(\"cols['0']\").alias(\"chunk\"),\n",
    "        F.expr(\"cols['1']\").alias(\"begin\"),\n",
    "        F.expr(\"cols['2']\").alias(\"end\"),\n",
    "        F.expr(\"cols['3']['entity']\").alias(\"ner_label\"))\\\n",
    "        .filter(\"ner_label!='O'\")\\\n",
    "        .show(truncate=False)"
   ]
  },
  {
   "cell_type": "code",
   "execution_count": null,
   "metadata": {
    "colab": {
     "base_uri": "https://localhost:8080/"
    },
    "id": "rMtx9HaN61Oy",
    "outputId": "567e3f87-2e4f-4551-e710-c3571d9b414e"
   },
   "outputs": [
    {
     "name": "stdout",
     "output_type": "stream",
     "text": [
      "+---+-----------+-----------------------------------------------------------------------+-----+----+---------+\n",
      "|id |sentence_id|chunk                                                                  |begin|end |ner_label|\n",
      "+---+-----------+-----------------------------------------------------------------------+-----+----+---------+\n",
      "|0  |0          |G-protein-activated inwardly rectifying potassium (GIRK) channel family|52   |122 |DRUG     |\n",
      "|1  |0          |anthracyclines                                                         |167  |180 |DRUG     |\n",
      "|1  |0          |taxanes                                                                |186  |192 |DRUG     |\n",
      "|1  |1          |usefulnessof vinorelbine                                               |233  |256 |DRUG     |\n",
      "|1  |1          |vinorelbine                                                            |386  |396 |DRUG     |\n",
      "|1  |1          |anthracyclines                                                         |433  |446 |DRUG     |\n",
      "|1  |1          |taxanes                                                                |452  |458 |DRUG     |\n",
      "|1  |2          |25 mg/m(2                                                              |517  |525 |STRENGTH |\n",
      "|1  |2          |intravenously                                                          |528  |540 |ROUTE    |\n",
      "|1  |2          |on days 1 and 8 of a3 week                                             |542  |567 |FREQUENCY|\n",
      "|1  |5          |responserate                                                           |710  |721 |DRUG     |\n",
      "|1  |10         |Themajor                                                               |1110 |1117|DRUG     |\n",
      "|1  |11         |thatvinorelbine                                                        |1263 |1277|DRUG     |\n",
      "|1  |11         |anthracyclines                                                         |1380 |1393|DRUG     |\n",
      "|1  |11         |taxanes                                                                |1399 |1405|DRUG     |\n",
      "|6  |2          |tetrazolium dye                                                        |432  |446 |DRUG     |\n",
      "|6  |3          |DOX                                                                    |576  |578 |DRUG     |\n",
      "|7  |0          |trandolapril                                                           |174  |185 |DRUG     |\n",
      "|7  |0          |losartan                                                               |191  |198 |DRUG     |\n",
      "|7  |2          |placebo                                                                |320  |326 |DRUG     |\n",
      "+---+-----------+-----------------------------------------------------------------------+-----+----+---------+\n",
      "only showing top 20 rows\n",
      "\n"
     ]
    }
   ],
   "source": [
    "posology_result.select('id',F.explode(F.arrays_zip('ner_chunk_greedy.result', 'ner_chunk_greedy.begin', 'ner_chunk_greedy.end', 'ner_chunk_greedy.metadata')).alias(\"cols\")) \\\n",
    ".select('id', F.expr(\"cols['3']['sentence']\").alias(\"sentence_id\"),\n",
    "        F.expr(\"cols['0']\").alias(\"chunk\"),\n",
    "        F.expr(\"cols['1']\").alias(\"begin\"),\n",
    "        F.expr(\"cols['2']\").alias(\"end\"),\n",
    "        F.expr(\"cols['3']['entity']\").alias(\"ner_label\"))\\\n",
    "        .filter(\"ner_label!='O'\")\\\n",
    "        .show(truncate=False)"
   ]
  },
  {
   "cell_type": "code",
   "execution_count": null,
   "metadata": {
    "colab": {
     "base_uri": "https://localhost:8080/",
     "height": 35
    },
    "id": "CATF6C96D4Fy",
    "outputId": "86e7154f-2b8c-48d0-9a68-58dd5c895632"
   },
   "outputs": [
    {
     "data": {
      "application/vnd.google.colaboratory.intrinsic+json": {
       "type": "string"
      },
      "text/plain": [
       "'anthracyclines'"
      ]
     },
     "execution_count": 32,
     "metadata": {
      "tags": []
     },
     "output_type": "execute_result"
    }
   ],
   "source": [
    "posology_result.select('ner_chunk').take(2)[1][0][0].result"
   ]
  },
  {
   "cell_type": "code",
   "execution_count": null,
   "metadata": {
    "colab": {
     "base_uri": "https://localhost:8080/"
    },
    "id": "ZX3_nnmKEOam",
    "outputId": "fa4eed9b-661b-4732-f0b1-8833e3f9a43a"
   },
   "outputs": [
    {
     "data": {
      "text/plain": [
       "{'chunk': '0', 'entity': 'DRUG', 'sentence': '0'}"
      ]
     },
     "execution_count": 33,
     "metadata": {
      "tags": []
     },
     "output_type": "execute_result"
    }
   ],
   "source": [
    "posology_result.select('ner_chunk').take(2)[1][0][0].metadata"
   ]
  },
  {
   "cell_type": "markdown",
   "metadata": {
    "id": "nmaY3aPz63-W"
   },
   "source": [
    "### with LightPipelines"
   ]
  },
  {
   "cell_type": "code",
   "execution_count": null,
   "metadata": {
    "colab": {
     "base_uri": "https://localhost:8080/"
    },
    "id": "iZEj6SNg62Im",
    "outputId": "0196fa0a-9f10-4417-b1eb-395732f4f951"
   },
   "outputs": [
    {
     "data": {
      "text/plain": [
       "[('The', 'O'),\n",
       " ('patient', 'O'),\n",
       " ('was', 'O'),\n",
       " ('prescribed', 'O'),\n",
       " ('1', 'B-DOSAGE'),\n",
       " ('capsule', 'B-FORM'),\n",
       " ('of', 'O'),\n",
       " ('Advil', 'B-DRUG'),\n",
       " ('for', 'B-DURATION'),\n",
       " ('5', 'I-DURATION'),\n",
       " ('days', 'I-DURATION'),\n",
       " ('.', 'O'),\n",
       " ('He', 'O'),\n",
       " ('was', 'O'),\n",
       " ('seen', 'O'),\n",
       " ('by', 'O'),\n",
       " ('the', 'O'),\n",
       " ('endocrinology', 'O'),\n",
       " ('service', 'O'),\n",
       " ('and', 'O'),\n",
       " ('she', 'O'),\n",
       " ('was', 'O'),\n",
       " ('discharged', 'O'),\n",
       " ('on', 'O'),\n",
       " ('40', 'B-DOSAGE'),\n",
       " ('units', 'I-DOSAGE'),\n",
       " ('of', 'O'),\n",
       " ('insulin', 'B-DRUG'),\n",
       " ('glargine', 'I-DRUG'),\n",
       " ('at', 'B-FREQUENCY'),\n",
       " ('night', 'I-FREQUENCY'),\n",
       " (',', 'O'),\n",
       " ('12', 'B-DOSAGE'),\n",
       " ('units', 'I-DOSAGE'),\n",
       " ('of', 'O'),\n",
       " ('insulin', 'B-DRUG'),\n",
       " ('lispro', 'I-DRUG'),\n",
       " ('with', 'B-FREQUENCY'),\n",
       " ('meals', 'I-FREQUENCY'),\n",
       " (',', 'O'),\n",
       " ('and', 'O'),\n",
       " ('metformin', 'B-DRUG'),\n",
       " ('1000', 'B-STRENGTH'),\n",
       " ('mg', 'I-STRENGTH'),\n",
       " ('two', 'B-FREQUENCY'),\n",
       " ('times', 'I-FREQUENCY'),\n",
       " ('a', 'I-FREQUENCY'),\n",
       " ('day', 'I-FREQUENCY'),\n",
       " ('.', 'O'),\n",
       " ('It', 'O'),\n",
       " ('was', 'O'),\n",
       " ('determined', 'O'),\n",
       " ('that', 'O'),\n",
       " ('all', 'O'),\n",
       " ('SGLT2', 'B-DRUG'),\n",
       " ('inhibitors', 'I-DRUG'),\n",
       " ('should', 'O'),\n",
       " ('be', 'O'),\n",
       " ('discontinued', 'O'),\n",
       " ('indefinitely', 'O'),\n",
       " ('for', 'B-DURATION'),\n",
       " ('3', 'I-DURATION'),\n",
       " ('months', 'I-DURATION'),\n",
       " ('.', 'O')]"
      ]
     },
     "execution_count": 34,
     "metadata": {
      "tags": []
     },
     "output_type": "execute_result"
    }
   ],
   "source": [
    "light_model = LightPipeline(posology_model)\n",
    "\n",
    "text ='The patient was prescribed 1 capsule of Advil for 5 days . He was seen by the endocrinology service and she was discharged on 40 units of insulin glargine at night , 12 units of insulin lispro with meals , and metformin 1000 mg two times a day . It was determined that all SGLT2 inhibitors should be discontinued indefinitely for 3 months .'\n",
    "\n",
    "light_result = light_model.annotate(text)\n",
    "\n",
    "list(zip(light_result['token'], light_result['ner']))"
   ]
  },
  {
   "cell_type": "code",
   "execution_count": null,
   "metadata": {
    "colab": {
     "base_uri": "https://localhost:8080/"
    },
    "id": "UwGbpOlEYQIQ",
    "outputId": "e1dc7574-0a8e-43d5-d432-5717b48dbf68"
   },
   "outputs": [
    {
     "data": {
      "text/plain": [
       "[('The', 'O'),\n",
       " ('patient', 'O'),\n",
       " ('was', 'O'),\n",
       " ('prescribed', 'O'),\n",
       " ('1', 'B-DRUG'),\n",
       " ('capsule', 'I-DRUG'),\n",
       " ('of', 'I-DRUG'),\n",
       " ('Advil', 'I-DRUG'),\n",
       " ('for', 'B-DURATION'),\n",
       " ('5', 'I-DURATION'),\n",
       " ('days', 'I-DURATION'),\n",
       " ('.', 'O'),\n",
       " ('He', 'O'),\n",
       " ('was', 'O'),\n",
       " ('seen', 'O'),\n",
       " ('by', 'O'),\n",
       " ('the', 'O'),\n",
       " ('endocrinology', 'O'),\n",
       " ('service', 'O'),\n",
       " ('and', 'O'),\n",
       " ('she', 'O'),\n",
       " ('was', 'O'),\n",
       " ('discharged', 'O'),\n",
       " ('on', 'O'),\n",
       " ('40', 'B-DRUG'),\n",
       " ('units', 'I-DRUG'),\n",
       " ('of', 'I-DRUG'),\n",
       " ('insulin', 'I-DRUG'),\n",
       " ('glargine', 'I-DRUG'),\n",
       " ('at', 'B-FREQUENCY'),\n",
       " ('night', 'I-FREQUENCY'),\n",
       " (',', 'O'),\n",
       " ('12', 'B-DRUG'),\n",
       " ('units', 'I-DRUG'),\n",
       " ('of', 'I-DRUG'),\n",
       " ('insulin', 'I-DRUG'),\n",
       " ('lispro', 'I-DRUG'),\n",
       " ('with', 'B-FREQUENCY'),\n",
       " ('meals', 'I-FREQUENCY'),\n",
       " (',', 'O'),\n",
       " ('and', 'O'),\n",
       " ('metformin', 'B-DRUG'),\n",
       " ('1000', 'I-DRUG'),\n",
       " ('mg', 'I-DRUG'),\n",
       " ('two', 'B-FREQUENCY'),\n",
       " ('times', 'I-FREQUENCY'),\n",
       " ('a', 'I-FREQUENCY'),\n",
       " ('day', 'I-FREQUENCY'),\n",
       " ('.', 'O'),\n",
       " ('It', 'O'),\n",
       " ('was', 'O'),\n",
       " ('determined', 'O'),\n",
       " ('that', 'O'),\n",
       " ('all', 'O'),\n",
       " ('SGLT2', 'B-DRUG'),\n",
       " ('inhibitors', 'I-DRUG'),\n",
       " ('should', 'O'),\n",
       " ('be', 'O'),\n",
       " ('discontinued', 'O'),\n",
       " ('indefinitely', 'O'),\n",
       " ('for', 'B-DURATION'),\n",
       " ('3', 'I-DURATION'),\n",
       " ('months', 'I-DURATION'),\n",
       " ('.', 'O')]"
      ]
     },
     "execution_count": 35,
     "metadata": {
      "tags": []
     },
     "output_type": "execute_result"
    }
   ],
   "source": [
    "list(zip(light_result['token'], light_result['ner_greedy']))"
   ]
  },
  {
   "cell_type": "code",
   "execution_count": null,
   "metadata": {
    "colab": {
     "base_uri": "https://localhost:8080/",
     "height": 508
    },
    "id": "x0i4kx5Z7k75",
    "outputId": "7a7d8440-f63f-4ab7-e7c7-d3e085a2eade"
   },
   "outputs": [
    {
     "data": {
      "text/html": [
       "<div>\n",
       "<style scoped>\n",
       "    .dataframe tbody tr th:only-of-type {\n",
       "        vertical-align: middle;\n",
       "    }\n",
       "\n",
       "    .dataframe tbody tr th {\n",
       "        vertical-align: top;\n",
       "    }\n",
       "\n",
       "    .dataframe thead th {\n",
       "        text-align: right;\n",
       "    }\n",
       "</style>\n",
       "<table border=\"1\" class=\"dataframe\">\n",
       "  <thead>\n",
       "    <tr style=\"text-align: right;\">\n",
       "      <th></th>\n",
       "      <th>chunks</th>\n",
       "      <th>entities</th>\n",
       "      <th>begin</th>\n",
       "      <th>end</th>\n",
       "    </tr>\n",
       "  </thead>\n",
       "  <tbody>\n",
       "    <tr>\n",
       "      <th>0</th>\n",
       "      <td>1</td>\n",
       "      <td>DOSAGE</td>\n",
       "      <td>27</td>\n",
       "      <td>27</td>\n",
       "    </tr>\n",
       "    <tr>\n",
       "      <th>1</th>\n",
       "      <td>capsule</td>\n",
       "      <td>FORM</td>\n",
       "      <td>29</td>\n",
       "      <td>35</td>\n",
       "    </tr>\n",
       "    <tr>\n",
       "      <th>2</th>\n",
       "      <td>Advil</td>\n",
       "      <td>DRUG</td>\n",
       "      <td>40</td>\n",
       "      <td>44</td>\n",
       "    </tr>\n",
       "    <tr>\n",
       "      <th>3</th>\n",
       "      <td>for 5 days</td>\n",
       "      <td>DURATION</td>\n",
       "      <td>46</td>\n",
       "      <td>55</td>\n",
       "    </tr>\n",
       "    <tr>\n",
       "      <th>4</th>\n",
       "      <td>40 units</td>\n",
       "      <td>DOSAGE</td>\n",
       "      <td>126</td>\n",
       "      <td>133</td>\n",
       "    </tr>\n",
       "    <tr>\n",
       "      <th>5</th>\n",
       "      <td>insulin glargine</td>\n",
       "      <td>DRUG</td>\n",
       "      <td>138</td>\n",
       "      <td>153</td>\n",
       "    </tr>\n",
       "    <tr>\n",
       "      <th>6</th>\n",
       "      <td>at night</td>\n",
       "      <td>FREQUENCY</td>\n",
       "      <td>155</td>\n",
       "      <td>162</td>\n",
       "    </tr>\n",
       "    <tr>\n",
       "      <th>7</th>\n",
       "      <td>12 units</td>\n",
       "      <td>DOSAGE</td>\n",
       "      <td>166</td>\n",
       "      <td>173</td>\n",
       "    </tr>\n",
       "    <tr>\n",
       "      <th>8</th>\n",
       "      <td>insulin lispro</td>\n",
       "      <td>DRUG</td>\n",
       "      <td>178</td>\n",
       "      <td>191</td>\n",
       "    </tr>\n",
       "    <tr>\n",
       "      <th>9</th>\n",
       "      <td>with meals</td>\n",
       "      <td>FREQUENCY</td>\n",
       "      <td>193</td>\n",
       "      <td>202</td>\n",
       "    </tr>\n",
       "    <tr>\n",
       "      <th>10</th>\n",
       "      <td>metformin</td>\n",
       "      <td>DRUG</td>\n",
       "      <td>210</td>\n",
       "      <td>218</td>\n",
       "    </tr>\n",
       "    <tr>\n",
       "      <th>11</th>\n",
       "      <td>1000 mg</td>\n",
       "      <td>STRENGTH</td>\n",
       "      <td>220</td>\n",
       "      <td>226</td>\n",
       "    </tr>\n",
       "    <tr>\n",
       "      <th>12</th>\n",
       "      <td>two times a day</td>\n",
       "      <td>FREQUENCY</td>\n",
       "      <td>228</td>\n",
       "      <td>242</td>\n",
       "    </tr>\n",
       "    <tr>\n",
       "      <th>13</th>\n",
       "      <td>SGLT2 inhibitors</td>\n",
       "      <td>DRUG</td>\n",
       "      <td>273</td>\n",
       "      <td>288</td>\n",
       "    </tr>\n",
       "    <tr>\n",
       "      <th>14</th>\n",
       "      <td>for 3 months</td>\n",
       "      <td>DURATION</td>\n",
       "      <td>326</td>\n",
       "      <td>337</td>\n",
       "    </tr>\n",
       "  </tbody>\n",
       "</table>\n",
       "</div>"
      ],
      "text/plain": [
       "              chunks   entities  begin  end\n",
       "0                  1     DOSAGE     27   27\n",
       "1            capsule       FORM     29   35\n",
       "2              Advil       DRUG     40   44\n",
       "3         for 5 days   DURATION     46   55\n",
       "4           40 units     DOSAGE    126  133\n",
       "5   insulin glargine       DRUG    138  153\n",
       "6           at night  FREQUENCY    155  162\n",
       "7           12 units     DOSAGE    166  173\n",
       "8     insulin lispro       DRUG    178  191\n",
       "9         with meals  FREQUENCY    193  202\n",
       "10         metformin       DRUG    210  218\n",
       "11           1000 mg   STRENGTH    220  226\n",
       "12   two times a day  FREQUENCY    228  242\n",
       "13  SGLT2 inhibitors       DRUG    273  288\n",
       "14      for 3 months   DURATION    326  337"
      ]
     },
     "execution_count": 36,
     "metadata": {
      "tags": []
     },
     "output_type": "execute_result"
    }
   ],
   "source": [
    "light_result = light_model.fullAnnotate(text)\n",
    "\n",
    "chunks = []\n",
    "entities = []\n",
    "begin =[]\n",
    "end = []\n",
    "\n",
    "for n in light_result[0]['ner_chunk']:\n",
    "        \n",
    "    begin.append(n.begin)\n",
    "    end.append(n.end)\n",
    "    chunks.append(n.result)\n",
    "    entities.append(n.metadata['entity']) \n",
    "    \n",
    "import pandas as pd\n",
    "\n",
    "df = pd.DataFrame({'chunks':chunks, 'entities':entities,\n",
    "                   'begin': begin, 'end': end})\n",
    "\n",
    "df"
   ]
  },
  {
   "cell_type": "markdown",
   "metadata": {
    "id": "hxqp39dc7Qf8"
   },
   "source": [
    "### NER Visualizer"
   ]
  },
  {
   "cell_type": "code",
   "execution_count": null,
   "metadata": {
    "id": "yoB_T6an6zB3"
   },
   "outputs": [],
   "source": [
    "!wget -q https://raw.githubusercontent.com/JohnSnowLabs/spark-nlp-workshop/master/tutorials/Certification_Trainings/Public/utils/ner_highlighter.py"
   ]
  },
  {
   "cell_type": "code",
   "execution_count": null,
   "metadata": {
    "colab": {
     "base_uri": "https://localhost:8080/",
     "height": 225
    },
    "id": "cbV8JKOx5Jmv",
    "outputId": "5ada1697-0ea5-447d-8316-230e9aff8ef7"
   },
   "outputs": [
    {
     "data": {
      "text/html": [
       "\n",
       "<style>\n",
       "    @import url('https://fonts.googleapis.com/css2?family=Montserrat:wght@300;400;500;600;700&display=swap');\n",
       "    @import url('https://fonts.googleapis.com/css2?family=Vistol Regular:wght@300;400;500;600;700&display=swap');\n",
       "    \n",
       "    .spark-nlp-display-scroll-entities {\n",
       "        border: 1px solid #E7EDF0;\n",
       "        border-radius: 3px;\n",
       "        text-align: justify;\n",
       "        \n",
       "    }\n",
       "    .spark-nlp-display-scroll-entities span {  \n",
       "        font-size: 14px;\n",
       "        line-height: 24px;\n",
       "        color: #536B76;\n",
       "        font-family: 'Montserrat', sans-serif !important;\n",
       "    }\n",
       "    \n",
       "    .spark-nlp-display-entity-wrapper{\n",
       "    \n",
       "        display: inline-grid;\n",
       "        text-align: center;\n",
       "        border-radius: 4px;\n",
       "        margin: 0 2px 5px 2px;\n",
       "        padding: 1px\n",
       "    }\n",
       "    .spark-nlp-display-entity-name{\n",
       "        font-size: 14px;\n",
       "        line-height: 24px;\n",
       "        font-family: 'Montserrat', sans-serif !important;\n",
       "        \n",
       "        background: #f1f2f3;\n",
       "        border-width: medium;\n",
       "        text-align: center;\n",
       "        \n",
       "        font-weight: 400;\n",
       "        \n",
       "        border-radius: 5px;\n",
       "        padding: 2px 5px;\n",
       "        display: block;\n",
       "        margin: 3px 2px;\n",
       "    \n",
       "    }\n",
       "    .spark-nlp-display-entity-type{\n",
       "        font-size: 14px;\n",
       "        line-height: 24px;\n",
       "        color: #ffffff;\n",
       "        font-family: 'Montserrat', sans-serif !important;\n",
       "        \n",
       "        text-transform: uppercase;\n",
       "        \n",
       "        font-weight: 500;\n",
       "\n",
       "        display: block;\n",
       "        padding: 3px 5px;\n",
       "    }\n",
       "    \n",
       "    .spark-nlp-display-entity-resolution{\n",
       "        font-size: 14px;\n",
       "        line-height: 24px;\n",
       "        color: #ffffff;\n",
       "        font-family: 'Vistol Regular', sans-serif !important;\n",
       "        \n",
       "        text-transform: uppercase;\n",
       "        \n",
       "        font-weight: 500;\n",
       "\n",
       "        display: block;\n",
       "        padding: 3px 5px;\n",
       "    }\n",
       "    \n",
       "    .spark-nlp-display-others{\n",
       "        font-size: 14px;\n",
       "        line-height: 24px;\n",
       "        font-family: 'Montserrat', sans-serif !important;\n",
       "        \n",
       "        font-weight: 400;\n",
       "    }\n",
       "\n",
       "</style>\n",
       " <span class=\"spark-nlp-display-others\" style=\"background-color: white\">The patient was prescribed </span><span class=\"spark-nlp-display-entity-wrapper\" style=\"background-color: #A7B894\"><span class=\"spark-nlp-display-entity-name\">1 </span><span class=\"spark-nlp-display-entity-type\">DOSAGE</span></span><span class=\"spark-nlp-display-others\" style=\"background-color: white\"> </span><span class=\"spark-nlp-display-entity-wrapper\" style=\"background-color: #9E2036\"><span class=\"spark-nlp-display-entity-name\">capsule </span><span class=\"spark-nlp-display-entity-type\">FORM</span></span><span class=\"spark-nlp-display-others\" style=\"background-color: white\"> of </span><span class=\"spark-nlp-display-entity-wrapper\" style=\"background-color: #8B668B\"><span class=\"spark-nlp-display-entity-name\">Advil </span><span class=\"spark-nlp-display-entity-type\">DRUG</span></span><span class=\"spark-nlp-display-others\" style=\"background-color: white\"> </span><span class=\"spark-nlp-display-entity-wrapper\" style=\"background-color: #AE09B6\"><span class=\"spark-nlp-display-entity-name\">for 5 days </span><span class=\"spark-nlp-display-entity-type\">DURATION</span></span><span class=\"spark-nlp-display-others\" style=\"background-color: white\"> . He was seen by the endocrinology service and she was discharged on </span><span class=\"spark-nlp-display-entity-wrapper\" style=\"background-color: #A7B894\"><span class=\"spark-nlp-display-entity-name\">40 units </span><span class=\"spark-nlp-display-entity-type\">DOSAGE</span></span><span class=\"spark-nlp-display-others\" style=\"background-color: white\"> of </span><span class=\"spark-nlp-display-entity-wrapper\" style=\"background-color: #8B668B\"><span class=\"spark-nlp-display-entity-name\">insulin glargine </span><span class=\"spark-nlp-display-entity-type\">DRUG</span></span><span class=\"spark-nlp-display-others\" style=\"background-color: white\"> </span><span class=\"spark-nlp-display-entity-wrapper\" style=\"background-color: #79186D\"><span class=\"spark-nlp-display-entity-name\">at night </span><span class=\"spark-nlp-display-entity-type\">FREQUENCY</span></span><span class=\"spark-nlp-display-others\" style=\"background-color: white\"> , </span><span class=\"spark-nlp-display-entity-wrapper\" style=\"background-color: #A7B894\"><span class=\"spark-nlp-display-entity-name\">12 units </span><span class=\"spark-nlp-display-entity-type\">DOSAGE</span></span><span class=\"spark-nlp-display-others\" style=\"background-color: white\"> of </span><span class=\"spark-nlp-display-entity-wrapper\" style=\"background-color: #8B668B\"><span class=\"spark-nlp-display-entity-name\">insulin lispro </span><span class=\"spark-nlp-display-entity-type\">DRUG</span></span><span class=\"spark-nlp-display-others\" style=\"background-color: white\"> </span><span class=\"spark-nlp-display-entity-wrapper\" style=\"background-color: #79186D\"><span class=\"spark-nlp-display-entity-name\">with meals </span><span class=\"spark-nlp-display-entity-type\">FREQUENCY</span></span><span class=\"spark-nlp-display-others\" style=\"background-color: white\"> , and </span><span class=\"spark-nlp-display-entity-wrapper\" style=\"background-color: #8B668B\"><span class=\"spark-nlp-display-entity-name\">metformin </span><span class=\"spark-nlp-display-entity-type\">DRUG</span></span><span class=\"spark-nlp-display-others\" style=\"background-color: white\"> </span><span class=\"spark-nlp-display-entity-wrapper\" style=\"background-color: #0B5853\"><span class=\"spark-nlp-display-entity-name\">1000 mg </span><span class=\"spark-nlp-display-entity-type\">STRENGTH</span></span><span class=\"spark-nlp-display-others\" style=\"background-color: white\"> </span><span class=\"spark-nlp-display-entity-wrapper\" style=\"background-color: #79186D\"><span class=\"spark-nlp-display-entity-name\">two times a day </span><span class=\"spark-nlp-display-entity-type\">FREQUENCY</span></span><span class=\"spark-nlp-display-others\" style=\"background-color: white\"> . It was determined that all </span><span class=\"spark-nlp-display-entity-wrapper\" style=\"background-color: #8B668B\"><span class=\"spark-nlp-display-entity-name\">SGLT2 inhibitors </span><span class=\"spark-nlp-display-entity-type\">DRUG</span></span><span class=\"spark-nlp-display-others\" style=\"background-color: white\"> should be discontinued indefinitely </span><span class=\"spark-nlp-display-entity-wrapper\" style=\"background-color: #AE09B6\"><span class=\"spark-nlp-display-entity-name\">for 3 months </span><span class=\"spark-nlp-display-entity-type\">DURATION</span></span><span class=\"spark-nlp-display-others\" style=\"background-color: white\"> .</span></div>"
      ],
      "text/plain": [
       "<IPython.core.display.HTML object>"
      ]
     },
     "metadata": {
      "tags": []
     },
     "output_type": "display_data"
    }
   ],
   "source": [
    "from sparknlp_display import NerVisualizer\n",
    "\n",
    "visualiser = NerVisualizer()\n",
    "\n",
    "visualiser.display(light_result[0], label_col='ner_chunk', document_col='document')\n",
    "\n",
    "# Change color of an entity label\n",
    "\n",
    "#visualiser.set_label_colors({'PROBLEM':'#008080', 'TEST':'#800080', 'TREATMENT':'#808080'})\n",
    "#visualiser.display(light_result[0], label_col='ner_chunk')\n",
    "\n",
    "# Set label filter\n",
    "\n",
    "# visualiser.display(light_result, label_col='ner_chunk', document_col='document',\n",
    "                   #labels=['PROBLEM','TEST','TREATMENT])"
   ]
  },
  {
   "cell_type": "code",
   "execution_count": null,
   "metadata": {
    "colab": {
     "base_uri": "https://localhost:8080/",
     "height": 156
    },
    "id": "DLKHtE-483Z1",
    "outputId": "142096aa-e97f-4423-a155-c0c42417c790"
   },
   "outputs": [
    {
     "data": {
      "text/html": [
       "\n",
       "<style>\n",
       "    @import url('https://fonts.googleapis.com/css2?family=Montserrat:wght@300;400;500;600;700&display=swap');\n",
       "    @import url('https://fonts.googleapis.com/css2?family=Vistol Regular:wght@300;400;500;600;700&display=swap');\n",
       "    \n",
       "    .spark-nlp-display-scroll-entities {\n",
       "        border: 1px solid #E7EDF0;\n",
       "        border-radius: 3px;\n",
       "        text-align: justify;\n",
       "        \n",
       "    }\n",
       "    .spark-nlp-display-scroll-entities span {  \n",
       "        font-size: 14px;\n",
       "        line-height: 24px;\n",
       "        color: #536B76;\n",
       "        font-family: 'Montserrat', sans-serif !important;\n",
       "    }\n",
       "    \n",
       "    .spark-nlp-display-entity-wrapper{\n",
       "    \n",
       "        display: inline-grid;\n",
       "        text-align: center;\n",
       "        border-radius: 4px;\n",
       "        margin: 0 2px 5px 2px;\n",
       "        padding: 1px\n",
       "    }\n",
       "    .spark-nlp-display-entity-name{\n",
       "        font-size: 14px;\n",
       "        line-height: 24px;\n",
       "        font-family: 'Montserrat', sans-serif !important;\n",
       "        \n",
       "        background: #f1f2f3;\n",
       "        border-width: medium;\n",
       "        text-align: center;\n",
       "        \n",
       "        font-weight: 400;\n",
       "        \n",
       "        border-radius: 5px;\n",
       "        padding: 2px 5px;\n",
       "        display: block;\n",
       "        margin: 3px 2px;\n",
       "    \n",
       "    }\n",
       "    .spark-nlp-display-entity-type{\n",
       "        font-size: 14px;\n",
       "        line-height: 24px;\n",
       "        color: #ffffff;\n",
       "        font-family: 'Montserrat', sans-serif !important;\n",
       "        \n",
       "        text-transform: uppercase;\n",
       "        \n",
       "        font-weight: 500;\n",
       "\n",
       "        display: block;\n",
       "        padding: 3px 5px;\n",
       "    }\n",
       "    \n",
       "    .spark-nlp-display-entity-resolution{\n",
       "        font-size: 14px;\n",
       "        line-height: 24px;\n",
       "        color: #ffffff;\n",
       "        font-family: 'Vistol Regular', sans-serif !important;\n",
       "        \n",
       "        text-transform: uppercase;\n",
       "        \n",
       "        font-weight: 500;\n",
       "\n",
       "        display: block;\n",
       "        padding: 3px 5px;\n",
       "    }\n",
       "    \n",
       "    .spark-nlp-display-others{\n",
       "        font-size: 14px;\n",
       "        line-height: 24px;\n",
       "        font-family: 'Montserrat', sans-serif !important;\n",
       "        \n",
       "        font-weight: 400;\n",
       "    }\n",
       "\n",
       "</style>\n",
       " <span class=\"spark-nlp-display-others\" style=\"background-color: white\">The patient was prescribed </span><span class=\"spark-nlp-display-entity-wrapper\" style=\"background-color: #8B668B\"><span class=\"spark-nlp-display-entity-name\">1 capsule of Advil </span><span class=\"spark-nlp-display-entity-type\">DRUG</span></span><span class=\"spark-nlp-display-others\" style=\"background-color: white\"> </span><span class=\"spark-nlp-display-entity-wrapper\" style=\"background-color: #8E8A04\"><span class=\"spark-nlp-display-entity-name\">for 5 days </span><span class=\"spark-nlp-display-entity-type\">DURATION</span></span><span class=\"spark-nlp-display-others\" style=\"background-color: white\"> . He was seen by the endocrinology service and she was discharged on </span><span class=\"spark-nlp-display-entity-wrapper\" style=\"background-color: #8B668B\"><span class=\"spark-nlp-display-entity-name\">40 units of insulin glargine </span><span class=\"spark-nlp-display-entity-type\">DRUG</span></span><span class=\"spark-nlp-display-others\" style=\"background-color: white\"> </span><span class=\"spark-nlp-display-entity-wrapper\" style=\"background-color: #6EBFA3\"><span class=\"spark-nlp-display-entity-name\">at night </span><span class=\"spark-nlp-display-entity-type\">FREQUENCY</span></span><span class=\"spark-nlp-display-others\" style=\"background-color: white\"> , </span><span class=\"spark-nlp-display-entity-wrapper\" style=\"background-color: #8B668B\"><span class=\"spark-nlp-display-entity-name\">12 units of insulin lispro </span><span class=\"spark-nlp-display-entity-type\">DRUG</span></span><span class=\"spark-nlp-display-others\" style=\"background-color: white\"> </span><span class=\"spark-nlp-display-entity-wrapper\" style=\"background-color: #6EBFA3\"><span class=\"spark-nlp-display-entity-name\">with meals </span><span class=\"spark-nlp-display-entity-type\">FREQUENCY</span></span><span class=\"spark-nlp-display-others\" style=\"background-color: white\"> , and </span><span class=\"spark-nlp-display-entity-wrapper\" style=\"background-color: #8B668B\"><span class=\"spark-nlp-display-entity-name\">metformin 1000 mg </span><span class=\"spark-nlp-display-entity-type\">DRUG</span></span><span class=\"spark-nlp-display-others\" style=\"background-color: white\"> </span><span class=\"spark-nlp-display-entity-wrapper\" style=\"background-color: #6EBFA3\"><span class=\"spark-nlp-display-entity-name\">two times a day </span><span class=\"spark-nlp-display-entity-type\">FREQUENCY</span></span><span class=\"spark-nlp-display-others\" style=\"background-color: white\"> . It was determined that all </span><span class=\"spark-nlp-display-entity-wrapper\" style=\"background-color: #8B668B\"><span class=\"spark-nlp-display-entity-name\">SGLT2 inhibitors </span><span class=\"spark-nlp-display-entity-type\">DRUG</span></span><span class=\"spark-nlp-display-others\" style=\"background-color: white\"> should be discontinued indefinitely </span><span class=\"spark-nlp-display-entity-wrapper\" style=\"background-color: #8E8A04\"><span class=\"spark-nlp-display-entity-name\">for 3 months </span><span class=\"spark-nlp-display-entity-type\">DURATION</span></span><span class=\"spark-nlp-display-others\" style=\"background-color: white\"> .</span></div>"
      ],
      "text/plain": [
       "<IPython.core.display.HTML object>"
      ]
     },
     "metadata": {
      "tags": []
     },
     "output_type": "display_data"
    }
   ],
   "source": [
    "# ner_greedy\n",
    "\n",
    "visualiser = NerVisualizer()\n",
    "\n",
    "visualiser.display(light_result[0], label_col='ner_chunk_greedy', document_col='document')"
   ]
  },
  {
   "cell_type": "markdown",
   "metadata": {
    "id": "0vWIDpk50QfG"
   },
   "source": [
    "## Writing a generic NER function"
   ]
  },
  {
   "cell_type": "code",
   "execution_count": null,
   "metadata": {
    "id": "ltGPQYr60F6G"
   },
   "outputs": [],
   "source": [
    "def get_base_pipeline (embeddings = 'embeddings_clinical'):\n",
    "\n",
    "  documentAssembler = DocumentAssembler()\\\n",
    "      .setInputCol(\"text\")\\\n",
    "      .setOutputCol(\"document\")\n",
    "\n",
    "  # Sentence Detector annotator, processes various sentences per line\n",
    "\n",
    "  sentenceDetector = SentenceDetector()\\\n",
    "      .setInputCols([\"document\"])\\\n",
    "      .setOutputCol(\"sentence\")\n",
    "\n",
    "  # Tokenizer splits words in a relevant format for NLP\n",
    "\n",
    "  tokenizer = Tokenizer()\\\n",
    "      .setInputCols([\"sentence\"])\\\n",
    "      .setOutputCol(\"token\")\n",
    "\n",
    "  # Clinical word embeddings trained on PubMED dataset\n",
    "  word_embeddings = WordEmbeddingsModel.pretrained(embeddings, \"en\", \"clinical/models\")\\\n",
    "      .setInputCols([\"sentence\", \"token\"])\\\n",
    "      .setOutputCol(\"embeddings\")\n",
    "\n",
    "  base_pipeline = Pipeline(stages=[\n",
    "                    documentAssembler,\n",
    "                    sentenceDetector,\n",
    "                    tokenizer,\n",
    "                    word_embeddings\n",
    "                  ])\n",
    "\n",
    "  return base_pipeline\n",
    "\n",
    "\n",
    "\n",
    "def get_clinical_entities (embeddings, spark_df, nrows = 100, model_name = 'ner_clinical'):\n",
    "\n",
    "  # NER model trained on i2b2 (sampled from MIMIC) dataset\n",
    "  loaded_ner_model = MedicalNerModel.pretrained(model_name, \"en\", \"clinical/models\") \\\n",
    "      .setInputCols([\"sentence\", \"token\", \"embeddings\"]) \\\n",
    "      .setOutputCol(\"ner\")\n",
    "\n",
    "  ner_converter = NerConverter() \\\n",
    "      .setInputCols([\"sentence\", \"token\", \"ner\"]) \\\n",
    "      .setOutputCol(\"ner_chunk\")\n",
    "\n",
    "  base_pipeline = get_base_pipeline (embeddings)\n",
    "\n",
    "  nlpPipeline = Pipeline(stages=[\n",
    "      base_pipeline,\n",
    "      loaded_ner_model,\n",
    "      ner_converter])\n",
    "\n",
    "  empty_data = spark.createDataFrame([[\"\"]]).toDF(\"text\")\n",
    "\n",
    "  model = nlpPipeline.fit(empty_data)\n",
    "\n",
    "  result = model.transform(spark_df.limit(nrows))\n",
    "\n",
    "  result = result.withColumn(\"id\", monotonically_increasing_id())\n",
    "\n",
    "  result_df = result.select('id',F.explode(F.arrays_zip('ner_chunk.result', 'ner_chunk.begin', 'ner_chunk.end', 'ner_chunk.metadata')).alias(\"cols\")) \\\n",
    "  .select('id', F.expr(\"cols['3']['sentence']\").alias(\"sentence_id\"),\n",
    "          F.expr(\"cols['0']\").alias(\"chunk\"),\n",
    "          F.expr(\"cols['1']\").alias(\"begin\"),\n",
    "          F.expr(\"cols['2']\").alias(\"end\"),\n",
    "          F.expr(\"cols['3']['entity']\").alias(\"ner_label\"))\\\n",
    "          .filter(\"ner_label!='O'\")\n",
    "\n",
    "  return result_df"
   ]
  },
  {
   "cell_type": "code",
   "execution_count": null,
   "metadata": {
    "colab": {
     "base_uri": "https://localhost:8080/"
    },
    "id": "V81zaAe13qLU",
    "outputId": "25aeefa8-34e0-4bfb-a1c6-f78ad4b8ff83"
   },
   "outputs": [
    {
     "name": "stdout",
     "output_type": "stream",
     "text": [
      "ner_clinical download started this may take some time.\n",
      "Approximate size to download 13.9 MB\n",
      "[OK!]\n",
      "embeddings_clinical download started this may take some time.\n",
      "Approximate size to download 1.6 GB\n",
      "[OK!]\n",
      "+---+-----------+--------------------+-----+---+---------+\n",
      "| id|sentence_id|               chunk|begin|end|ner_label|\n",
      "+---+-----------+--------------------+-----+---+---------+\n",
      "|  0|          0|the G-protein-act...|   48|106|TREATMENT|\n",
      "|  0|          1|the genomicorgani...|  142|164|TREATMENT|\n",
      "|  0|          1|a candidate gene ...|  210|254|  PROBLEM|\n",
      "|  0|          2|     byapproximately|  380|394|TREATMENT|\n",
      "|  0|          3|single nucleotide...|  464|494|TREATMENT|\n",
      "|  0|          3|aVal366Ala substi...|  532|554|TREATMENT|\n",
      "|  0|          3|      an 8 base-pair|  561|574|TREATMENT|\n",
      "|  0|          4|  insertion/deletion|  581|598|  PROBLEM|\n",
      "|  0|          5|Ourexpression stu...|  601|621|     TEST|\n",
      "|  0|          5|the transcript in...|  648|685|  PROBLEM|\n",
      "|  0|          5|fat andskeletal m...|  749|770|  PROBLEM|\n",
      "|  0|          6|      furtherstudies|  830|843|  PROBLEM|\n",
      "|  0|          6|   the KCNJ9 protein|  864|880|TREATMENT|\n",
      "|  0|          6|          evaluation|  892|901|     TEST|\n",
      "|  0|          6|    Type II diabetes|  940|955|  PROBLEM|\n",
      "|  1|          0|       the treatment|   67| 79|TREATMENT|\n",
      "|  1|          0|       breast cancer|   84| 96|  PROBLEM|\n",
      "|  1|          0|the standard therapy|  109|128|TREATMENT|\n",
      "|  1|          0|      anthracyclines|  167|180|TREATMENT|\n",
      "|  1|          0|             taxanes|  186|192|TREATMENT|\n",
      "+---+-----------+--------------------+-----+---+---------+\n",
      "only showing top 20 rows\n",
      "\n"
     ]
    }
   ],
   "source": [
    "embeddings = 'embeddings_clinical'\n",
    "\n",
    "model_name = 'ner_clinical'\n",
    "\n",
    "nrows = 100\n",
    "\n",
    "ner_df = get_clinical_entities (embeddings, pubMedDF, nrows, model_name)\n",
    "\n",
    "ner_df.show()"
   ]
  },
  {
   "cell_type": "code",
   "execution_count": null,
   "metadata": {
    "colab": {
     "base_uri": "https://localhost:8080/"
    },
    "id": "LmLPlfCw5hh-",
    "outputId": "7e27915c-c9f7-4660-bb49-562e344f85cd"
   },
   "outputs": [
    {
     "name": "stdout",
     "output_type": "stream",
     "text": [
      "ner_posology download started this may take some time.\n",
      "Approximate size to download 13.8 MB\n",
      "[OK!]\n",
      "embeddings_clinical download started this may take some time.\n",
      "Approximate size to download 1.6 GB\n",
      "[OK!]\n",
      "+---+-----------+----------------+-----+----+---------+\n",
      "| id|sentence_id|           chunk|begin| end|ner_label|\n",
      "+---+-----------+----------------+-----+----+---------+\n",
      "|  1|          0|  anthracyclines|  167| 180|     DRUG|\n",
      "|  1|          0|         taxanes|  186| 192|     DRUG|\n",
      "|  1|          1|     vinorelbine|  246| 256|     DRUG|\n",
      "|  1|          1|     vinorelbine|  386| 396|     DRUG|\n",
      "|  1|          1|  anthracyclines|  433| 446|     DRUG|\n",
      "|  1|          1|         taxanes|  452| 458|     DRUG|\n",
      "|  1|          2|  Vinorelbinewas|  470| 483|     DRUG|\n",
      "|  1|          2|       25 mg/m(2|  517| 525| STRENGTH|\n",
      "|  1|          2|   intravenously|  528| 540|    ROUTE|\n",
      "|  1|          2|         on days|  542| 548|FREQUENCY|\n",
      "|  1|          3|tumorprogression|  635| 650|     DRUG|\n",
      "|  1|         10| thatvinorelbine| 1263|1277|     DRUG|\n",
      "|  1|         10|  anthracyclines| 1380|1393|     DRUG|\n",
      "|  1|         10|         taxanes| 1399|1405|     DRUG|\n",
      "|  6|          2| tetrazolium dye|  432| 446|     DRUG|\n",
      "|  6|          3|             DOX|  576| 578|     DRUG|\n",
      "|  7|          0|    trandolapril|  174| 185|     DRUG|\n",
      "|  7|          0|        losartan|  191| 198|     DRUG|\n",
      "|  7|          2|          3-week|  313| 318| DURATION|\n",
      "|  7|          2|         placebo|  320| 326|     DRUG|\n",
      "+---+-----------+----------------+-----+----+---------+\n",
      "only showing top 20 rows\n",
      "\n"
     ]
    }
   ],
   "source": [
    "embeddings = 'embeddings_clinical'\n",
    "\n",
    "model_name = 'ner_posology'\n",
    "\n",
    "nrows = 100\n",
    "\n",
    "ner_df = get_clinical_entities (embeddings, pubMedDF, nrows, model_name)\n",
    "\n",
    "ner_df.show()"
   ]
  },
  {
   "cell_type": "code",
   "execution_count": null,
   "metadata": {
    "id": "sbllagh66Q8X"
   },
   "outputs": [],
   "source": [
    "import pandas as pd\n",
    "\n",
    "def get_clinical_entities_light (light_model, text):\n",
    "\n",
    "  light_result = light_model.fullAnnotate(text)\n",
    "\n",
    "  chunks = []\n",
    "  entities = []\n",
    "\n",
    "  for n in light_result[0]['ner_chunk']:\n",
    "          \n",
    "      chunks.append(n.result)\n",
    "      entities.append(n.metadata['entity']) \n",
    "      \n",
    "  df = pd.DataFrame({'chunks':chunks, 'entities':entities})\n",
    "\n",
    "  return df"
   ]
  },
  {
   "cell_type": "code",
   "execution_count": null,
   "metadata": {
    "colab": {
     "base_uri": "https://localhost:8080/",
     "height": 477
    },
    "id": "GqKH9Mw98z4x",
    "outputId": "d4a821fc-35da-40f3-bcb6-3a2f332b2365"
   },
   "outputs": [
    {
     "data": {
      "text/html": [
       "<div>\n",
       "<style scoped>\n",
       "    .dataframe tbody tr th:only-of-type {\n",
       "        vertical-align: middle;\n",
       "    }\n",
       "\n",
       "    .dataframe tbody tr th {\n",
       "        vertical-align: top;\n",
       "    }\n",
       "\n",
       "    .dataframe thead th {\n",
       "        text-align: right;\n",
       "    }\n",
       "</style>\n",
       "<table border=\"1\" class=\"dataframe\">\n",
       "  <thead>\n",
       "    <tr style=\"text-align: right;\">\n",
       "      <th></th>\n",
       "      <th>chunks</th>\n",
       "      <th>entities</th>\n",
       "    </tr>\n",
       "  </thead>\n",
       "  <tbody>\n",
       "    <tr>\n",
       "      <th>0</th>\n",
       "      <td>1</td>\n",
       "      <td>DOSAGE</td>\n",
       "    </tr>\n",
       "    <tr>\n",
       "      <th>1</th>\n",
       "      <td>capsule</td>\n",
       "      <td>FORM</td>\n",
       "    </tr>\n",
       "    <tr>\n",
       "      <th>2</th>\n",
       "      <td>Parol</td>\n",
       "      <td>DRUG</td>\n",
       "    </tr>\n",
       "    <tr>\n",
       "      <th>3</th>\n",
       "      <td>with meals</td>\n",
       "      <td>FREQUENCY</td>\n",
       "    </tr>\n",
       "    <tr>\n",
       "      <th>4</th>\n",
       "      <td>40 units</td>\n",
       "      <td>DOSAGE</td>\n",
       "    </tr>\n",
       "    <tr>\n",
       "      <th>5</th>\n",
       "      <td>insulin glargine</td>\n",
       "      <td>DRUG</td>\n",
       "    </tr>\n",
       "    <tr>\n",
       "      <th>6</th>\n",
       "      <td>at night</td>\n",
       "      <td>FREQUENCY</td>\n",
       "    </tr>\n",
       "    <tr>\n",
       "      <th>7</th>\n",
       "      <td>12 units</td>\n",
       "      <td>DOSAGE</td>\n",
       "    </tr>\n",
       "    <tr>\n",
       "      <th>8</th>\n",
       "      <td>insulin lispro</td>\n",
       "      <td>DRUG</td>\n",
       "    </tr>\n",
       "    <tr>\n",
       "      <th>9</th>\n",
       "      <td>with meals</td>\n",
       "      <td>FREQUENCY</td>\n",
       "    </tr>\n",
       "    <tr>\n",
       "      <th>10</th>\n",
       "      <td>metformin</td>\n",
       "      <td>DRUG</td>\n",
       "    </tr>\n",
       "    <tr>\n",
       "      <th>11</th>\n",
       "      <td>1000 mg</td>\n",
       "      <td>STRENGTH</td>\n",
       "    </tr>\n",
       "    <tr>\n",
       "      <th>12</th>\n",
       "      <td>two times a day</td>\n",
       "      <td>FREQUENCY</td>\n",
       "    </tr>\n",
       "    <tr>\n",
       "      <th>13</th>\n",
       "      <td>SGLT2 inhibitors</td>\n",
       "      <td>DRUG</td>\n",
       "    </tr>\n",
       "  </tbody>\n",
       "</table>\n",
       "</div>"
      ],
      "text/plain": [
       "              chunks   entities\n",
       "0                  1     DOSAGE\n",
       "1            capsule       FORM\n",
       "2              Parol       DRUG\n",
       "3         with meals  FREQUENCY\n",
       "4           40 units     DOSAGE\n",
       "5   insulin glargine       DRUG\n",
       "6           at night  FREQUENCY\n",
       "7           12 units     DOSAGE\n",
       "8     insulin lispro       DRUG\n",
       "9         with meals  FREQUENCY\n",
       "10         metformin       DRUG\n",
       "11           1000 mg   STRENGTH\n",
       "12   two times a day  FREQUENCY\n",
       "13  SGLT2 inhibitors       DRUG"
      ]
     },
     "execution_count": 46,
     "metadata": {
      "tags": []
     },
     "output_type": "execute_result"
    }
   ],
   "source": [
    "text ='The patient was prescribed 1 capsule of Parol with meals . He was seen by the endocrinology service and she was discharged on 40 units of insulin glargine at night , 12 units of insulin lispro with meals , and metformin 1000 mg two times a day . It was determined that all SGLT2 inhibitors should be discontinued indefinitely fro 3 months .'\n",
    "\n",
    "light_model = LightPipeline(posology_model)\n",
    "\n",
    "get_clinical_entities_light (light_model, text)\n"
   ]
  },
  {
   "cell_type": "markdown",
   "metadata": {
    "id": "uKNFkzn99FOF"
   },
   "source": [
    "![image.png](data:image/png;base64,iVBORw0KGgoAAAANSUhEUgAABp4AAAHSCAYAAAD13bibAAAgAElEQVR4Aey9+bsVxb32/fw1z/PDec85OUNyTsxgjInGOM/zgBOIKIoiyCCoqIgTKIgIAiqiqDgnMRokajTOcSJGVOI84hQnHPu97t759q71XdW9utfutfZae3/quvbuXt01fqqqu7ruGv5PgoEABCAAAQhAAAIQgAAEIAABCEAAAhCAAAQgAAEIQAACEIBADQT+Tw1+4AUEIAABCEAAAhCAAAQgAAEIQAACEIAABCAAAQhAAAIQgAAEEoQnCgEEIAABCEAAAhCAAAQgAAEIQAACEIAABCAAAQhAAAIQgEAtBBCeasGIJxCAAAQgAAEIQAACEIAABCAAAQhAAAIQgAAEIAABCEAAAghPlAEIQAACEIAABCAAAQhAAAIQgAAEIAABCEAAAhCAAAQgAIFaCCA81YIRTyAAAQhAAAIQgAAEIAABCEAAAhCAAAQgAAEIQAACEIAABBCeKAMQgAAEIAABCEAAAhCAAAQgAAEIQAACEIAABCAAAQhAAAK1EEB4qgUjnkAAAhCAAAQgAAEIQAACEIAABCAAAQhAAAIQgAAEIAABCCA8UQYgAAEIQAACEIAABCAAAQhAAAIQgAAEIAABCEAAAhCAAARqIYDwVAtGPIEABCAAAQhAAAIQgAAEIAABCEAAAhCAAAQgAAEIQAACEEB4ogxAAAIQgAAEIAABCEAAAhCAAAQgAAEIQAACEIAABCAAAQjUQgDhqRaMeAIBCEAAAhCAAAQgAAEIQAACEIAABCAAAQhAAAIQgAAEIIDwRBmAAAQgAAEIQAACEIAABCAAAQhAAAIQgAAEIAABCEAAAhCohQDCUy0Y8QQCEIAABCAAAQhAAAIQgAAEIAABCEAAAhCAAAQgAAEIQADhiTIAAQhAAAIQgAAEIAABCEAAAhCAAAQgAAEIQAACEIAABCBQCwGEp1ow4gkEIAABCEAAAhCAAAQgAAEIQAACEIAABCAAAQhAAAIQgADCE2UAAhCAAAQgAAEIQAACEIAABCAAAQhAAAIQgAAEIAABCECgFgIIT7VgxBMIQAACEIAABCAAAQhAAAIQgAAEIAABCEAAAhCAAAQgAAGEJ8oABCAAAQhAAAIQgAAEIAABCEAAAhCAAAQgAAEIQAACEIBALQQQnmrBiCcQgAAEIAABCEAAAhCAAAQgAAEIQAACEIAABCAAAQhAAAIIT5QBCEAAAhCAAAQgAAEIQAACEIAABCAAAQhAAAIQgAAEIACBWgggPNWCEU8gAAEIQAACEIAABCAAAQhAAAIQgAAEIAABCEAAAhCAAAQQnigDEIAABCAAAQhAAAIQgAAEIAABCEAAAhCAAAQgAAEIQAACtRBAeKoFI55AAAIQgAAEIAABCEAAAhCAAAQgAAEIQAACEIAABCAAAQggPFEGIAABCEAAAhCAAAQgAAEIQAACEIAABCAAAQhAAAIQgAAEaiGA8FQLRjyBAAQgAAEIQAACEIAABCAAAQhAAAIQgAAEIAABCEAAAhBAeKIMQAACEIAABCAAAQhAAAIQgAAEIAABCEAAAhCAAAQgAAEI1EIA4akWjHgCAQhAAAIQgAAEIAABCEAAAhCAAAQgAAEIQAACEIAABCCA8EQZgAAEIAABCEAAAhCAAAQgAAEIQAACEIAABCAAAQhAAAIQqIUAwlMtGPEEAhCAAAQgAAEIQAACEIAABCAAAQhAAAIQgAAEIAABCEAA4YkyAAEIQAACEIAABCAAAQhAAAIQgAAEIAABCEAAAhCAAAQgUAsBhKdaMOIJBCAAAQhAAAIQgAAEIAABCEAAAhCAAAQgAAEIQAACEIAAwhNlAAIQgAAEIAABCEAAAhCAAAQgAAEIQAACEIAABCAAAQhAoBYCCE+1YMQTCEAAAhCAAAQgAAEIQAACEIAABCAAAQhAAAIQgAAEIAABhCfKAAQgAAEIQAACEIAABCAAAQhAAAIQgAAEIAABCEAAAhCAQC0EEJ5qwYgnEIAABCAAAQhAAAIQgAAEIAABCEAAAhCAAAQgAAEIQAACCE+UAQhAAAIQgAAEIAABCEAAAhCAAAQgAAEIQAACEIAABCAAgVoIIDzVghFPIAABCEAAAhCAAAQgAAEIQAACEIAABCAAAQhAAAIQgAAEEJ4oAxCAAAQgAAEIQAACEIAABCAAAQhAAAIQgAAEIAABCEAAArUQQHiqBSOeQAACEIAABCAAAQiUIfDNN98kly1Zlpx3/vz0b+HCy5IvvthSxil2IAABCEAAAhDoAIEb196SvZf1fn7iiSc7EApeQgACEIAABCAwmgggPI2m3CatEIAABCDQMwTOOOOcZPIp09M/nX/+xRc9E7eREpENG55L5s9fmMyZc27y4IMPJd99913HktbNsDqWiC55PGvWnOT//r9/z/6OHjshkRiF6S0CM2aenj2jVIe+/PLL3oogsYFAnxOgjvV5Bo6w6D/yyGPZe1nv6P/4z62SjS+8OMJSSXIgAAEIQAACEOgmAYSnbtImLAhAAAIQgMA/Cfxwq20aPvBfeOEl2NRI4OOPP27gq06UTo3e7WZYNSIaFq8uXby0IV92332/5NNPPx2WuBBoMQF1OoYC4auvvlbsgLsQgEAlAtSxSriwXILAu+++lzz66OPJAw88lLz++hvJN998W8LVoJU77vhdw3NfbdW3335n0AJnEIAABCAAAQhAoAIBhKcKsLAKAQhAoB0CV165Ktlv/0Mb/m6++bZ2vErdnH3OeQ1+aaYFpv8IdEp40iwqX97a/X3W2fP6D+w/Y7zunj82dJ6oA11LunXCdDOsTsS/W36uvenWhjz56dbbJeokw/QmATrFezNfwlhphoJ/vg/luX3LLbc3+Kc6W2Ri7Rsfnyq/v/023kkeS2crfw84cEwyderMZOnSFcndd9/Tk88a6lhR6eJeGQJfffVVctXVq9N668uTDRzYc68DkrlzL0g0SKaMUZ0xtzr+esfdk48//kcZp9iBAAQgAAEIQAACDQQQnhpw8AMCEIBA/QQkFIUfcDrXx+Hmze+3FZj/sNTIRkz/EeiU8KQOAl/e2v09ZszYngCrZQjtT50sZcz9f3qwicPlly9v6dTC0bHTYbWMzAiyoNkyYTnUc+zFFzeNoBSOvKT4dw0znnovj//wh/UN9crqmGY7tGNOOmlqg3+aoVhkYu0bi0M7xzzhKS+dVcNYuXJVTy3rSR0rKl3ca0Xgvvv+lGy3/S4NdbaoTqi8aUZTGTNr9lkN/mpZSAwEIAABCEAAAhCoSgDhqSox7EMAAhCoSCCvY2ba9NkVfRqw7jsqEJ7awjjsjhCeymWBBKCwI+X4iSeXcrhly5ZU4A3dthI6uhlWqUSMIEu+Q1szJTC9TcC/axCeei+/8gQZdUaXFc7DVPl6OtKEJ70Pdt5l756Z/UQdC0sf51UI3HjjzQ1to7Ct0+p89ulntQzq888/T3w7dePGF1q6wwIEIAABCEAAAhAICSA8hTQ4hwAEINABAnnCkz4M//LkU5VD9B0VCE+VEfaEA/9BX9ceT3XOeDp12qxhZ9WuGKSIa2mY2+/4bbJu3frkgw8+bJmWbobVMjIjyMLTTz/b0EG27S92TL788ssRlMKRmRT/rkF46r18zhOe1L5Yumxl5QgPp/CkpTe/++67aJyL0tmqkz12X+nsBUMd64Vc6L84PPzIYw3v1LCMa9/EkydPS06cNCUVWcN74fmDD7aeFallwUM3R4+d0H+wiDEEIAABCEAAAsNKAOFpWPETOAQgMBoIFAlP+kD85ptvKmHwHRUIT5Xw9YzlbglPV6+6NlumTsJKlb+qm1J3Au5QxKCq8elmWFXj1s/2tddK2Hn1+7v+0M/JGTVx9+8ahKfey/pWgsxbb71dKdJDFZ6OO+6kSu+Y8H1U1Bby6VTZDN3Gzt/bvDkd3DPvvIsanj/2LNJyrMNtqGPDnQP9F/4//vFJ02xulWnV3XfeebcpQS+//Eq6/5OVeztK6NWspiKjNqBmCJobHf/854eLnHAPAhCAAAQgAAEINBBAeGrAwQ8IQAAC9RMoEp70EXftdTdUCtR3VCA8VcLXM5a7JTxVLV89A+ifEemmGNTNsHqNc6fic++99zd0Wu23/6G5sxo6FQf8bY+Af9f0q/D09ddfJ0uXrkjGjTs+OejgI7K/1dde3x6YHnLlBZmwg1jnE0+YXCm2QxWeqoZXNnI+nSqbVczjj/+l4TkkNvvsc3AVLzpid6TUsXbhjOS62S6TVu5WrLi6qSwvvqx4LzYJSHr2+efDrbfe0Sq4VGgK3WnAHAYCEIAABCAAAQiUJYDwVJYU9iAAAQi0SaCV8KSOh/ff/6C0776jAuGpNLqesojwVC47NII37PQou8dTOd8bbXUzrMaQR+4vdUSH+ffww4+O3MSOsJT5d02/Ck+xjlqVySlTZvR9jnlBJqxrdl5lhsJIFZ6U0WeeObfhWSQ+33777bCWgZFSx9qFOJLrZrtMitxp3zbfdjzyqGNLleO//e35pvJ/3vnzi4LL7nnR6vnnN2b3OIEABCAAAQhAAAJFBBCeiuhwDwIQgEANBLzwNG367KYPx5kzzygdku+oaEd40ijTN998K3nttdfb2oC8dGSTJN3L5ZVXXk2XAKmydJuW3XnjjTeTt99+p/YZEvJby/Bs2vT39FglXmXSLv/ee++9REucfPzxx1EnvvOgU3s8DdeMJ+3VsXnz+8nLr7w6pP18tEeTdaDq2EnhqZthRQvFP+uLlscSN5WdvD1P8twXXU/r1JtvJRIQPv300yKrtdzbsmVLQ96pzNdV1/QMe+Ofafnss89qiW/oiTr49OxRHf7oo49qzQeFo/3H5LeeE0VLjIVxKnuu5ZP0bB9qPvt3zVCEp07zFBtxfP31N9L3xhdfbMlwHXLoUQ3l0J4nI1F40h5/Wu7O0qjjdtvvUvo9P5KFp7vuWtfARWyqLkWYFaqaTuqqY3pX6Hny4Ycf1RSzer3pZN3UOzJN/yuvpvk5kvcP1CA1zdQL63eVvWI1Wyl0e/gRx5TK6BtuuKnB3ZIlV5RyhyUIQAACEIAABCCA8EQZgAAEINBhAl54OuvsecmNa29p+IjTh+BTTz1TKia+o6Ks8LRhw3PJjJmnN4leCnvbX+yYaNSklh5Sh25Zo5HUEs3sz2YzqMNZewvJ3/AjV+daakvLe4QdgxaeOsO1ZIh3pzSr8/CK5Ve23UmrzmNttr7nXgc0xcnitWrVdem+ERafKkeNnL7lltuTMWPGRv1XJ+eTTz6dednPwpM66yzPdQzFrUceeSwtSz7ftU/AqdNmpYJKBiFyIjFBfqqs+g4W+al9CXQv/FO5iBmNcLd4amSvOr9D082wwnD9+UsvbUoUP1/ujaE6ku/8/d1tiR9PPPFkKtbl+X3M+InJb35zZxMbH8d2fmsPFUuDjnr2lTGrV6/J8k35pzTIaG8LPVfUuR76q3PVp3nzLkwkcrdrJKzMX7Ao7aj3/uu3NlbXZuvtCEWffPJputybnj/+GS6/lT8LLr40FcPbib+WEps1a07Ub4U3derMpMxm8mHYPp5VhadO8rR4PvbYE8nkU6Y37UNiZeKMM87JyorKiJ4f9nfp4oHlqVauXNVQ3h544CHzvvTxzjvvavCjSmdw6UAiFv2MJ9UNPU98+c17RnovR7Lw9NxzzTM+rM3iOXTrd7t1TOKyxIBYe0Z+6roGOaksVDFF78wPPvgwfVdcfvnyZPbpZ6XlvYhfHXUzL+56ButZrOUzfVnXb4mtep5qgFU3jX93rV9/X+XgFy68LHuW6J0ZG1ihgUpqMyj9VYyelSEvPRPLGA0iCt2pfGEgAAEIQAACEIBAGQIIT2UoYQcCEIDAEAjEhCd9NOvDOPyQ00jEMrMBfEdFK+FJYo5miYRhFZ0rXuvWrS+V4muuWdPgr4QFjeT3oypj4clOuBHy008/G+009W4lXEkwqGLUCajORu9X7Ld13FXxX4yPnXBiKf9tpGg/C09+yRbrvJg/f2EpBuowyzOxzsFYPoXXJErGjK8rvuO8m2HF4qdrN954cylmSq/qsepXGaOZH3kzPUJ2dn7AgWMqLflZJg5hp7/CafWsMj/980qCrgSlPPHM0qCj8vy++/5kXpU+3nHH70rng5Yd0myoskZimS+LYZz9eZl9NyxsDRS44IKLS8ddeaKBAWWMj7OvP0V+dJKnwn333fdSwcmzK/qd10m+aNGSBn4aPFDV+Pe50t8NExOeFO6s2Wc1pElcypTZkSw8qbPelw8J+sNp2qljEjO8O5+u8LfqvISDMsb7qzqvARsXX7K4iZ3CCAedmP911k3zMzyq3eiXfgvTG54rPfesvzd03tFzCbxh+FX3EVPbNnSv85jw1G4i5p13UYP/4lPW+EFVZZ4nZf3GHgQgAAEIQAACI5cAwtPIzVtSBgEI9AiBmPCkqOlj2H9grlmztmWsfcdAUWeuOgBiswN8uLHfd999T8u4eOFJo+r9x2nMb7smMUhLpKhDyKfL7MSOEjrKLBWmWUi+IyDmX+xa2c5fLYlWlfGVV65qmnnWT0vtxYQnpSnGMe9a3gj8bopB3QzLVyaVXz/6OI9VeF3iy7PPbvDeNfxWR5VmmIXuypyrPipv6zCqe6G4qvOyM4W88KQZKaFfZdKy7IqVpWaIff7FF+no8jJ+hnb0vLr33vtbotJzJHRX9lwdhK14qZNSQnxZP82eyoaW5Wpl/DO5jPDUaZ6Ks5YTq1oelHYtKxUb3CEWxsaO4aCIVpw0m9jc2VEzUrph8oQnv1+d4iVRqZUZycLTsxv+2pRPNpuyFZdO3a9axzQr28pYlaMG+vgZv7E0+fhoxpRfujEM1wtPdddNH0fNovVxDOOTd67ZsGXS78Or+lvLQ/s4lHluWjialR+6P3nyNLtVy9EPkNL7o6y5/vq1DXEr871S1m/sQQACEIAABCAwcgkgPI3cvCVlEIBAjxDIE54UPd9pqA9qLWdSZPxHd57wpHXvtXxe+BGrc7mXQKTlPLSslDqavJ9mr1XnmxeefFhKnzrXtRxIXkehlgvxMzNCd3kzlTRKvZXRsn0+Tvqt2R3nzD0/kR/qkNDvmL1Wy6RoL4G8dImpRuVqiT0dY4zDMPtZeArToXOJI+qsUt4XzX6LjcLWMn7ev1a/253x1M2wfFn1Zd7SqOXcNLpc9VNLp/mZFGZPonKeiQlaqkcq6xIIly5dkbssm/xvJWzlhRte98t96ZlT1njhydJsRwm9sqO/PD6yq9lkrYyWGjR/w6OVYeVBUf0tWr5u48YXon6rbiy69PJ02UA9g/OePxNPmJwbfQmXec8eCUsqA2KeV//0PNJ+IUXGP7PKdKB2kqfFNVY+tPSTOsE1203PbYmVsRlyee8Nv6ynZqmVNXqHhWVHM3+7ZfKEJ4Ufm6WSN+vL4juShSctKRrmk877aY8nLafp46/fKrtz516QLlOs2U2+XWluLrzwEsvm3KOv87F3ifmnoxeeOlE3LbJq64Zh27neB1p695JLFqd/ec8gifndMP55rqUJyxo/iKlVG7Ssv7KnbwLfnha3skbPf2Ou44mTppR1ij0IQAACEIAABEYxAYSnUZz5JB0CEOgOgSLhSUvAhR9yOldHZ5HxHQN5wpP2qfB+Ky6xmULaO0VCjLffqrM4T3jS+v+xtfXz7Fu42s8ltoze2ptubYqb3Ly3eXMuqvfee6/JjT6683j9/q4/NIlD6tQu2vNKIz4t7nZU/sSWKpRIpSXm8jqLR4LwpA6vGF+NAvadMeKlTrKY0awEzfbQn9/UWp32dm/w+G3Mm6b8jHWcdzMsi6Rmylh5saPEjVjZVxolQpk9O6quxIxGdZsdO6rexzZc15Jrly1Z1mBfnZh1bFCv/d8sfB3zOvxjaYh1XsoPibixPUsk1kukCcPTuep7Uf196KFHmtyo4y/ci83iJ38k2PkwJPIoj2JGy2qG9vVskBgVMxtfeLFJRNMSg3kmViY0mj22/JH46FkexkXn2s+lyPh3Taz+hO47zVNh6Tnt0yGRSJ2q3ijP9Izx9mN5oP0NQ3sS7MoY5b1/pqvsd8sUCU96r/s8VPkuqhMjWXjyaVN+59XdbuWfz5+iOuYFJZW7vL3EVBdjwqtmaBcZH5+wTqjs6BksAUvC7lVXr26YIdupuqn4agZtbD+r69bcGK37zz+/MToTfSh7ABZxC+/5dqHakWWMnzmpvKhzlpbfc1F5q4EoZY2eG2F5UHnEQAACEIAABCAAgVYEEJ5aEeI+BCAAgSESKBKe5HVsRKn2O8ozvmMg1tEvt+pQCTsbJQbFOufCcPxI0VYfzDEhSSNvi4w6CsKPVztX/IrM7353V5M7Xcsz8s/81lGdJuqIKzKbNv29wY3cqUMyZtQh4EePqhM6NosndK+9d3xHpcLpd+FJgkXR8lIqj8qDME9UllsZbSAeupEoUdb4ulLUqSc/uxFWjIPqaWwJsDCdEiFCDjqPLYvnO6/EvFXnqtUtzbYqysMwPq3Ob7vtNw3xFduyJiY8aTR7K6ON3T0jidYxI95+NpCEm1YdfRKIfBg3rr0lFkTin6dFzyt5oGVHbSZc0TJ+sWXUtERTK+PLt9IRE/LMnyr1pxs8FS8NzAj5K8+KjARX/9zxszTkXs/t0F+d633QyniBVc/2VnW5lZ9V7hcJT/IntoecRIM848WZSxcvzbOaXvftm6JZeoUetbjp01nm3RF6efsdv23K37yBD6G7Tp9XqWNPPfVMJiTKXas2wzPPbGhK85135reZlFYfH9UDvdsfe+yJlig6VTcVsL2jwjoaE5DDSGrZTz8jtlPlMwxXM0nDeOo89q4O3ejcz5ysu3x64VLxKhq85eOn32GbV+cYCEAAAhCAAAQg0IoAwlMrQtyHAAQgMEQCvmPmrLPnNfgY60TUyM68zivfMZAnPCkQjRKVEDRt+uxc/8LIaJSo/2DWx3ueiQlPsZkVofsvvtgSFV5iM7FCd+o89yN4NQMhZvwyX0qTlqkpY+bPX9jAQLw1M8SbWIde3uhj71YzojznVp1I3o+8376T1YdT9neR6Oj3eJKfZfbKuOuudU3p/vjjf+QlJb3uO8v7XXiSSBHmgcqXBIdWRqKx7ziSsOGN9z9vGULvTrPSimZCePutfmuPpTCdVWaBeOFJz8OyRvv4hOHqmRET3mJ7L8VmC8XC9TOfJDbEnl9eYI7NaPP+6/kZmy0a2tPzPEyjBLRYGkM3du6XX9UyqHnGv2uKhNtu8FQ8vVhYRtD0HbriFzNiEXLVcoitjM+LCy64uJWTWu97QUbP/9CoHRGbKZK3jO5QhaeQX9XzvDgpPT6d8lvvzKI/vY8lgHsB2OJVVJ5Dhp08r1LHFA+JLaoDEpXKGP8s1fKLRcbHR2Xnk08+LXKS3etU3dQzMRQ8lH+aqVvGxGb5aK+vThsN4rBypmOrZQ71/PbvizJiX9l0+Pex4uS/Rcr45Weu6xsDAwEIQAACEIAABIoIIDwV0eEeBCAAgRoItBKeFIRGIIcfqTrXEmMx4zsGioSnmPuia7FluopGanrhqWwnt++sU4dFGaM1+kNOecsS+o7hKqNc1ckShqHz2Mha36GjmWtlTSyMfheeYuKc56HOFc9WM3SKzEgTnrwwEpt9kcfDd6LpWeCNH9kfE6e8m0789s+9l19+pXQwvm6Vme1knqse+TL24oub7HZ29CJDq5kdmcMkSWdF+U7C2Awl31naqqyHYeSdq6PPp6/KO0AsvPu8jmX/rinqqO8GT3VA+7iXEfv9Uq1enDHWflaFRMuiWcIalOHjo8Eb3TRekImlLTbz5eTJ06LR7CfhybOv8rvKvjtRUDVdrFLH2glSz7WQi5aqLTI+PtoXq4zpZN1UHQ/ToGevwitrNGMrdJ83i72sf2Xs3XHH7xrCVJyLRBrtFRjGsZX9MnEwO7ElEBWWBptUNeEqCvKj1T6BVf3HPgQgAAEIQAACI48AwtPIy1NSBAEI9BgB3wEbG2WomQZ+poo6AD766KOm1PiOgSqdjk2eRS74ztLYfifmzAtPZTdV9/uTlO0c114e4cf5mDFjLSoNRy9sKZ5VjJ9ZpZk63vjRvXlLenl39tt3XPez8KS0lDW+fKnjtMiMNOHJp79I2PVcNCMnLP8690s7xoSX++77k/eq47/9nktV9o3ywlPRXkexhPhnZCz9vo5rT7wqRku8hXmh/U680ebroR0J81U6TL1/+q3ZUKGfOi+alRrzw7vPE8Q8xyLhqRs8Y0JP0bK0lna/TKXiGjMx/4tmlvgOXS212m1TRnhSnPwyaCoDjzzyWFN0R4Pw1A3hoQlszoUqdSzHi8LLXgDRjMci4+NTdsBArO7UVTf9bEq9H6qYWbMbl12OtcGr+FfGrmbA+uds0ax7tZ1D+61mSJWJg+xoecbQXzsX03aMVlAwP3TsttDeTpxxAwEIQAACEIDA8BJAeBpe/oQOAQiMAgJlhCdhePjhRxs+6PRRF9v3yHcM1C08+TXxOyE8+WXqygpPvqMvb3NjvyTZw5EOtqKi55fmiY2ODj++dV5mqbkwzG4JTwpHombVv6IluPxSe1WEp4MOPqKhnLcaUT2ShKdY51yZmWJWbmKzXXy5i80qU/lUh7IEmFZLG1pYQz16YaabwpMvY35WmZb79PW36qbz51+woMEPdW56s3z5VQ12FKaER4lU2iuqaAS898t+P/TQIw1+Vql75odfei2vDvp3TZ7w1C2eir+Pk2b4tTJ++VTVhTzjBy0U7Vnoy3jR3kl54Q31elnh6YMPPmxip3eCX15zqMKT8qfqu8bsF82e8On09bfMb3XuqyO+l4wvz3l1rN04a0+nkE1V4alKfHxa6qqbCy6+tCENixYtqYTjyisbVxTQrONuGF+X8vZsirULqgxIyUuL9hP1eaKyMGfOuXlOWl6fN+/ChrzoxrKFLSOFBRhWFtsAACAASURBVAhAAAIQgAAEepoAwlNPZw+RgwAERgKBssKT0uo/VPWR+OyzjWv5+w/JssKTRmCuX39fsmbN2kQzjjQCWgKL1qIP/8JOCp13QnhqdzkwLWcVxi9PePKM5Eaj3Mv+hWHoXMuLhEad6N5O0f4UoVs775bw5DvdLfyhHIciPPm9D/I6vS1+I0l40pKNvtyULZNmz7sXH2+U595e+Ft+SVjUEnZ6Jkg4qNv4vYS6KTzNnHlGQ/q1x09oYrPCyu6RZP5oKdSQqcQubyTyeSE/dKPnlJaBmjHz9OS6NTcmmzb93XvR9Fv2Qj/KLm8aeqRl1kI/8jpy/XM0rxO6WzyVBr/HSKtZttrjyC+1pf1O8oz2IgvZ6DkdKxuajRza03nVd0BeHKpc94KMRJw8c/31a5vi7Gfq+TZIqyUoffumyrK2efGMXffpFG/tpxX78/Vfdv0zIBbGcFwrW8dicXvuuecTzWhaseLqRIKA8i5sy/l3rTh0UnjqVN30s2eVDnsfljn6tlY7Yn2Mf6tr96y/t6G+Ka+1nLU3fonPojrs3eb91szY2LtHolssDnn++OteeCqz1Kn3g98QgAAEIAABCIwuAghPoyu/SS0EIDAMBHzHTNEyH7GltNRpFu4z4TsqWglPL7/yaqJR296dPt7L/PWb8KSR3WXSVcWOHyGrpam8+/c2b65UunxnSKeW2kN4GizneR3nlnGdFrlinae+HFX9rf3MYia2tFae33o26Ln08ccfx7xq65rElDC89957r7Q/Q11qTzNFw7D90kzr1q1vuC+7VY1fwkoMY0Z7KlV59up5LzEwz5wz9/yGuJedLRr658uGOqxjxsc7r/50k6dfNk95d/fd98Sin167bMmyBl6yX9RZKpHJP5u1/4o3ftauf0d4+5367Z8pRZ3WEuH8bDfxCJfr7BfhKa++GWcvNiqdVcRv86fTx7J1zOIh0UBCRSx9SmOrv04KT52qmyrTrdJV9b7x7ORRs5l9/sb2AvT748Vm2FeJ50svbWp6homPhMihDjJROyFk/dprr1eJGnYhAAEIQAACEBiFBBCeRmGmk2QIQKC7BKoIT4pZbHmmcI8h/yFbJDxpNkn4kdjOeb8JT7E9UNpJd+jGdyr6za5lF+GpXL3yo7BH04wnL1aEZazd8zzhSbkhAaNKp5063OsSQDWbKkyTRueXNXULTypzoYnlQ3i/zHkVP9Sx798DIZvYed4Sb140qkN4yvPDv2vyhKcqLPLYlvVDHad+nzTx06wIlXct/aS/O39/d9PsKNmLLV/r4+SXUdTye9745RzLLCvm/ajjdxXhSeHF9nwJB8OMFOHp/j892PD8Ud5rdlSvmbJ1TPH+5JNP2xac7BnTSeGpU3VTs5os/nUdu1UO/PPaP0s02MOnKe85WybO2pPOlyn5r2f8UPcXVPh+eVEtE4iBAAQgAAEIQAACRQQQnorocA8CEIBADQR8h2PYyRPzXiNa/RIZ+m17MfiPyjzhSRuH+w9a/ZZ7dS4pXkuWXJFo/fvwz/vfb8JTbI8bLYulUfnt/vl9dN54860mtghPsdLcfG00C09esJTQ026ZNHetlmfTLAeFK0FbnU9+Nod/RmhGRGxpseacLL6iJT1Dv7XsUFlTt/Dk99bw+aB4VjV+w/udd9m7pRea9aXZCnoH7L77fg18QlZ2HmO2dNnKBndeVGsZiSRJ/D5GWj4pZvy7IK9DtNs8taG9MapyVAf2559/HktqwzW/lKjCCGcKvPHGm03hf/bZZw1+dOtHVeFJ8YotRaeZ0TIjRXhSWvxej8rHd98tP/MyBdLhf2XrmKIxZszYpnKnNCmdEjjmL1iULrsXtuemTJnR4KaTwpPi2Im6qYE/YT1X29Xef+0eO5ytmfd+71bld/h+9YJ73vLRmYcFJ36ZUGOmMmDfDwXOS93Se878VVowEIAABCAAAQhAoBUBhKdWhLgPAQhAYIgEqgpPCi72AamOXBnfUZEnPPmPdX0s3nbbb1qu7+5Fr34TnsTIz/J4+ulnU3Z1/YuJW+pwqWK8AFDXTBOfdpbaG1x+KK/j3PKt00vtaeaLddrYUcJQt406ydUhduGFlzTFx54TQ42T399i9eo1pb0cqvDkR2VfsfzKhrBjy3GGy401WM75sfiypQ3s1GFf1Xz77bfJK6+8mqy96dbo7BzN7PGmHaHB+6F9oaz86ai9f2LGv2vy6s9w8NTMHf+uCtPkz5U/VfZg8s/RcNax9ogK/fd7AMZYdupaO+Xh/fc/aGpHWPkdScLTAw881JBPyrNWA386lU95/patYzFxV228vDpp4d15510NDDotPCncuuum8iysbxpE0S9GbUXf1tO714zfv2r1tdfbrUrH39/1hwZGxkt7m+k9U5cxf3UsM9iirnDxBwIQgAAEIACB/iWA8NS/eUfMIQCBPiHQjvCkpJ04aUrDh6Q+XtVh7DsqYsKTRtaHH4g6154UZYzvzOtH4cl3XEtQqNv45V/04V/F+M4IhKc4vU6LQWGo3QjL118JD8NptEeDL4t1dM5qyZ/wGaQOsLLG11/tHVLF+LqpZde88fmgjt0qRmJDmL5Fi5ZUcd5kV52DCy6+tMFP+e8FsY0vvNhkp6p46fP74Ucea4qPLnhGRZ3c3m6neap8TT5lehOLME+UTnW056Uvmuh/XpRYGfqlMmnGi1ISOIbLtCM8Ka7XrbmxIX1Kq5iOJOFJ6YzNetKMtV4xvt7k1bEzz5zbkF/p7L0Sy5wNh/BUd9285po1DWkfTqG3nXIz77yLGuJv71ctUxc+Y3Tun/dlwtPAAe+Pfl919eoyzkvb8csCtjPbtnRgWIQABCAAAQhAYMQQQHgaMVlJQiAAgV4l0K7w9NZbbzd9TF66eGlTZ2BMeNIMH/8hWnYpON9p24/C0/z5CxvSbx/6ZcuIRqm2WrteHZoh44ULLyvrfaJNp0O3Okd4iuPrhhhkIXcjLL8pfDiTwuJRdFS5DJfqKbJb9t6Na29pKI+aETNU89FHHzX4WaWTygtPVTZblzjv65Y6Qr3xHdJaOq+K0ZKEYTit9ior47fy1e9f9NhjTzQ41ZJvYbg6r7LB+6efftrk/u2332kIw36U7RSX/W7y1F49IQOVF80ieOmlTYmWmNU7S52kQzGxvQK1TN/GjS80hC1xq+76WCXe7QpPirNf7lH1fqQJT7HZ41pqsFdM2Trml6idM+fcUknw+3x2esZTJ+qm369Lwm9Vo/2xhss8+2zjIAw9MzTQwM8KrvKOtLRouezwWWjnWtK1buNn3eXtQ1h3uPgHAQhAAAIQgEB/E0B46u/8I/YQgEAfEGhXeFLS/JI+9lEZHmPCU2x/pzIbC3/88T+aPmL7UXjynXHi9frrb5QuLeo8UedAuCSKd+w7WNSB9OGHH3lr0d/aMyrMQ50jPEVRJd0QgyzkboTlnwfqRCvbca2ZLerg119RedaSYloKrpV4aul+/PG/NJRHiSp1mIMOPqLBXz1fyhgvPFXpkLv4ksUNYapuxcLVDKywDlbJB82gCd3q3PbI8emToPXQQ4/4y7m//T4u6nT1xgsGfg8rbz/8rZlZYdz1nPvuu+9CK9l52U5xOegWT+1pFsZfMzo6ZfyShPfee3/i+VWZydeJePp3XZVOed+RHHK1cw12KTL+eaalwzphfDpVNsuaAw4c01BmlLaXX36lrPOO2itbx/yztOxAl/MvWNCQ9k4KT52qm9qXy8qjHasIK/fd96fU/apV1+U+6zqZyXq++gFdWo7w1GmzGtJ1+x2/LR0NCVfam894hMcq75vSASZJ4mdudSqcKnHCLgQgAAEIQAACvU8A4an384gYQgACfU7Ad8xUmX3z1VdftdzHIiY8aQR7+CGqc426bGW0D4t314/Ckz7KfefsMeMnlup08J1xeR08sRlps2af1QpxKjL40ctijvAUR9cNMchC7kZYEoV8HVux4mqLQuExXP5LHZbr19/XZF/lV2KCwtDsKu3n0srccMNNDXEKlxVr5bbo/tWrrm3wt+ysIi88KS0Sa1sZiT+e7Tlzz486i+1zs3Llqqjd8GLsmTxr1pzQSnouoV8zKyw+2sepldFzy/LO3P3tb883OYvtXROb1eUdxvhoc/s8U7ZTXO47zdPiKNbGRkfNHu2UUZ6FYend7ZeijeVPp+IT89cLMlWEJ/k3bfrshjSG6dX5SBCe1EHu03Xy5GkxnF2/VraOqW0RpmHcuONbxvUf//ikSfDopPDUybrpRQ89J5W+VkbPpXAWqbiVHZDRyu8q971gLdHI571mo5YxGqjil3pV2RCT555rfl+U8bOVHf9uUty//vrrVs64DwEIQAACEIAABBKEJwoBBCAAgQ4TGIrwpKjFOhnDDoiY8CR3/qNWo7eLPhQ1gjT01877UXhS+mOzEtTpUrTB/N1339PE4NgJJ+aWEM00ME52nDJlRnSGhTzR8k9+lKu5Q3iKY+6GGGQhdyss3wmlMqCOKC2jFjPqaIrt/yNhJzRals3Kkx010rpodL/qgxc7yu4HF4YdO9f+VRYPHct0lsqfmPCk51nRDEQtW+SfeQqzqL7HZpRetmRZInEpZiTc+FkwCkN76nlz+BHHNKRd9i65ZHGh+K37smd/ype82Uh6lpk9HWW3aJ85vUfCDli50cw2dSjmGc8zb/8Zc99JnhaGLxsqU1pOTDMIlNdaUjb8++CDD5Mys33N//AYmwEcMt95l71D68NyPlThSXvK+HwO0zgShCdlTGzW0/PPbxyWPAsD9ezz6tjqa69vqO/Ko9hsSPNbbQ0/S0puOik8dbJuaulWz0rvNg20yDMvvripSXjTc1JLZnbbaBnQsF75cy1xWdb4/V/ll1hUWXK1bFhmz8/SVzsXAwEIQAACEIAABMoQQHgqQwk7EIAABIZAYKjCk4LW8jX+Q9V+5wlPMTfqKJPApA5UzYrasOG5RCPew31n/Me9Oio0ulId4974TZ8lqpQxWlLE4q+jZiOVMVrqKHSnJceKjPwN7etc6dPa9Jp9oVkC6rjQyPaQgbmR3aKO6zfefKvJf7lV54bCkL9aCkphaeaF+Rs7dkp4UlyU7+385e2FoVH+YRoURlnjZ3u12htHnelhWOo8V3kM//LqgC/LeZ16FvduhaV9iMQsTJfONZtCM+y075NGLkto0SwnLxjIrsqrX6JPnex+RoaFodHoGvmvJfpUpuX/0mUrmzrzZL+ozBurskfNwLA46Fhm7x3fgRm6V52X4KYOdz1Hli5dkT4/Qjt23mofFAl9MbaKswQohaFZZarH8sv8DY95+0/FOorlTjMxr73uhkSd3uKsMqkOZF8vZLco/htfeDEaHz2vr7xyVRpviXFaXiqPZ6tZZL6MSoS3ehdb6qqTPK28LV9+VTTdYZ7knasjXqKv9m8qa2KdvOZ/2ZmKZcNqx95QhSeFmVdWlc6qwpOeue28a8xNnhDq06lwqpjYQJSiQSVV/B6K3bJ1TM8LK3fhUe1LtWM0A1tCv94ZftnL0L7Cszocq/9V35lh2jtdN/VcC9Ni50qPnqlaMvbZDX9N35+x9q/sqw05XMbPwrf46xibvZwXT19m5H6o9a7VO99/x1TdmzIvLVyHAAQgAAEIQGDkE0B4Gvl5TAohAIFhJuA/2KostWdRj210bh+teZ3uWhffdyKYm7yj7Od1aKqD1pteF57UGaNR/XnpbXW9TGfAdWturOz/mWfObRIeOiU8tUpj0X3tNxMz3RSeNGq5KI66p5lKMePLfyvhqZthaR82H79W6bT7qosSj2NGZT4mppjbVsc1a9bGvG37moS0MEwJIa2MF0r8PiWhf3nnqvdllhnUjM5YR16ev+F1LdeVN0tNadQ+W6H9KucSEFstJaWZaVX8DO2WWVbQz6oK3V944SXRbOwkTwWo2Xvt1psw/urELmP0DgjdhecavDHcxgsyVZfaU/wlYEv4CdNm51WFJ3PX7rFTwpPSGZsB9PTTzw5rFlapY/MXLIrmURFriaN+mT6zH9tTyNetVu/MEF6n66ZmLmqmjcW/6lGzhofT6Jkbi7OYV5mV2e77Kha2XXvjjTdz0XzyyadNz9yyywLmesoNCEAAAhCAAARGDQGEp1GT1SQUAhAYLgJ1CE+Ku0b220dieMwTnuRGI95Du0Xn+vg1vzQS2NvtR+FJDPRB7/PAp83/1oe9ZoOVNZpJ4jtsvJ/22/YY8J0HCE/5tI877qSm8mg8daxLeFIMuhmWxOHY0m1h2vy5Ok81s6nIaFkiL954f2K/589fWORtW/c0kjoMS/Wk1awnH/dbbrk9WXfPHxv8Cf305+qcLBKEfELEMzbjyPsb/r5x7S3em+hvjQwv+2ww/7Vs0qZNf4/65y9KBM6b5Wb+hUc9x4uWpwr91wyC0G14nic8yX0necp/CcRVmYZxt/N169aHyY2ea9nFWFhaSrEXTB3Ck9Lhl9IyRiNJeFL7xtJlx+HOxyp1TGWxyvtCs/XU/lFbxtIbHusWnlSOulE3/d5rYZryzm+77TfDXl1j+4IqvmX2Bg0j79uOeWmucr1IePKCp9rTGAhAAAIQgAAEIFCWAMJTWVLYgwAEINAmAb+fi2YAtGPUgRDrYGy1ublGZU8+ZXq048E+TNXpunHjC1m0NNJe+xepA9TsaJkQb9qd8eSXzCu7RJ/vHGu11F4YX3XQxfhZ+nRUerWMl/b2qGo0MrioU0idl+rEs+XR/KyUuoSn2KjuMI1VzrVcTcyokyL0Rx0hZY0vi0X7VJif2gxcokhe/uV1IPsOmjKjt7sZltKn8qBl3XxcQ746V77e+fu7s/JjbIqO2rOsaES9hSGhp6zQURRe3r2L3d5F2ii+yMSEJ9nX7ISi8q065ve9KgonvKeZFpoF0yofVMc1K7SKkfim8tvKb92//vq1hXvxxcLV6PPZp5/VUCctb8OjlqRqJfp5/7VEmZh78aVIeJIfneKp54We+5YuMVP88v40k8fH3dzqukbztzKaoWpu7NgLHdmKt19CTnsZtWti+w/qHV9kfPvG+LRzVH7k7Wnm06l8b8fE3tFaMnc4TZU6Jj5aHrnoWaJ7Wkb1m28G929TmyusN8qf2LJzvl1S5p1p7LpZN/UMjuVlWO5UnrTsYCf3PrK0lz3G3l+a/VzFFOV9mP4q5xoEEzO+rSc/y8wkjvnFNQhAAAIQgAAERicBhKfRme+kGgIQGIUEtOG6hBvNHlh06eWJlv1QR3aVjoWRgE0d7NpX6KqrV6ed1OpY08wwCXh5y/xUSbdGtWr/E3ViS2TU0mXqkJGggYFAHgF1EmomivYDW3bFynRvHi2l9sADDw25jkp8VhnUSHHVe5V9ldGnnnqmK51IsaV68pYKFJ884cnYqdNRdVidq1rOTpzUeWeirtlr56hnwLPPbkjzQftraWnA1avXJBLxNm9+vx0vMzeKn5ai03NX/kok094kyhs9lzSjYShmy5YtyZ///HCi2ViKu55BN9xw07A+f+rkqXdX2JmqmbmtliM0nhIXYgLSY489YVZyj36ghOLAUlO5uLjRBQJ6Vmh2kZaCVD1Xm071XvV/qM+RdqI/XHVTz2QNKtI+ZXqmamlB7aup5yxtrnZystHNSSdNbXjm5u1p2OiKXxCAAAQgAAEIQGCQAMLTIAvOIAABCEAAAhCAAAQ6QEAdg140yAumlfCU547rI5fA559/3jBzSbMZ2hEafdkqs+eYOlvDsqtZmxgIQGCAwHDWTfKgcwQ0ECZ87mmmFWJe53jjMwQgAAEIQGCkEkB4Gqk5S7ogAAEIQAACEIBAjxD4+uuvk1/vuHtDR5ZGp8eMFwc0mh4zugn4fWq0F1s7xi8Np9kirYxf4lMz1DAQgMAAgeGsm+RBZwho6T2/7GJsT7DOhI6vEIAABCAAAQiMJAIITyMpN0kLBCAAAQhAAAIQ6FEC2i/C70+hJf+8QXjyRPitJcXC0fft7mU0a9acBn9a7dX03HPPN9hX+S2aaaUOWy3f14m/cB9GSkRnCLz00qaO5J3Kg5bhHYlmuOrmUFlqeeVO1NPHH//LUKM2rO4/++yzRHu6hs/bVnv6DWuECRwCEIAABCAAgZ4mgPDU09lD5CAAAQhAAAIQgMDIIaDOPi2TFnZq+c3VEZ5GTn7XlRLtCRaWGZ2vu+ePlbzXXjDeD83WKDLnX7Cgwc288y4qsp7us+PDqOv3uHHHF4bNzaET0DKKdeWX9ydvhufQYz28PgxX3RxKqjUIwudPnb+HErfhdCtR/eixExrYTJ06M/nuu++GM1qEDQEIQAACEIBAHxNAeOrjzCPqEIAABCAAAQhAoN8IPPzIYw0dWxKiwtkACE/9lqPdia+fLaeO4rlzL0hefHFTolH63mzZsiV5++13knXr1icTT5jcUObkVks/agnI0EjMUvmzPy+Stpp1dOPaW5rCqatDG+EpzKnOnCM8tce1G3WzvZjFXb388isdq6eq7/1qli5b2cBFIpR/RvZr2og3BCAAAQhAAALDQwDhaXi4EyoEIAABCEAAAhAYtQTe27w50ahz+/vyyy8zFghPGQpOAgLXXLOmoVPUCzoSiezP34v9fuKJJwPfB041KyVmV9fKCD9rb7o1132ev2Wvlwm/KUFcqERgypQZHcu/lStb7ydWKbI9ZLkbdbPO5CI8xWl+8cWW7J2sd3P4Xo674CoEIAABCEAAAhAoJoDwVMyHuxCAAAQgAAEIQAACXSSA8NRF2H0WlDrvywo1efZ+uvV2yTPPbIimPE94kqClJcVamc2b309uvfWOjvw9u+GvrYLn/hAJPP/8xo7kncqEZt+NZNPpulknu08++bRj+XzvvffXGVX8ggAEIAABCEAAAn1NAOGpr7OPyEMAAhCAAAQgAIGRReDMM+c2iAu33/HbkZVAUjMkAi+88FKy4OJLEwlIeeKSvy7haNasOYn2E/v2229zw1+//r7MTy0ftvvu+yWzZp+VbNr091w33IAABAYIdLJuwhgCEIAABCAAAQhAoP8IIDz1X54RYwhAAAIQgAAEIAABCIxqAhKQtGTWAw88lNx8823J6tVrkuXLr0o0a+mWW25PNPNAM5tef/0Nlowa1SWFxHebAHWz28QJDwIQgAAEIAABCPQmAYSn3swXYgUBCEAAAhCAAAQgAAEIQAACEIAABCAAAQhAAAIQgAAE+o4AwlPfZRkRhgAEIAABCEAAAhCAAAQgAAEIQAACEIAABCAAAQhAAAK9SQDhqTfzhVhBAAIQgAAEIAABCEAAAhCAAAQgAAEIQAACEIAABCAAgb4jgPDUd1lGhCEAAQhAAAIQgAAEIAABCEAAAhCAAAQgAAEIQAACEIBAbxJAeOrNfCFWEIAABCAAAQhAAAIQgAAEIAABCEAAAhCAAAQgAAEIQKDvCCA89V2WEWEIQAACEIAABCAAAQhAAAIQgAAEIAABCEAAAhCAAAQg0JsEEJ56M1+IFQQgAAEIQAACEIAABCAAAQhAAAIQgAAEIAABCEAAAhDoOwIIT32XZUQYAhCAAAQgAAEIQAACEIAABCAAAQhAAAIQgAAEIAABCPQmAYSn3swXYgUBCEAAAhCAAAQgAAEIQAACEIAABCAAAQhAAAIQgAAE+o4AwlPfZRkRhgAEIAABCEAAAhCAAAQgAAEIQAACEIAABCAAAQhAAAK9SQDhqTfzhVhBAAIQgAAEIAABCEAAAhCAAAQgAAEIQAACEIAABCAAgb4jgPDUd1lGhCEAAQhAAAIQgAAEIAABCEAAAhCAAAQgAAEIQAACEIBAbxJAeOrNfCFWEIAABCAAAQhAAAIQgAAEIAABCEAAAhCAAAQgAAEIQKDvCCA89V2WEWEIQAACEIAABCAAAQhAAAIQgAAEIAABCEAAAhCAAAQg0JsEEJ56M1+IFQQgAAEIQAACEIAABCAAAQhAAAIQgAAEIAABCEAAAhDoOwIIT32XZUQYAhCAAAQgAAEIQAACEIAABCAAAQhAAAIQgAAEIAABCPQmAYSn3swXYgUBCEAAAhCAAAQgAAEIQAACEIAABCAAAQhAAAIQgAAE+o4AwlPfZRkRhgAEIAABCEAAAhCAAAQgAAEIQAACEIAABCAAAQhAAAK9SQDhqTfzhVhBAAIQgAAEIAABCEAAAhCAAAQgAAEIQAACEIAABCAAgb4jgPDUd1lGhCEAAQhAAAIQgAAEIAABCEAAAhCAAAQgAAEIQAACEIBAbxJAeOrNfCFWEIDACCHwxZavkg8++jR5+92Pkrfe+ZA/GFAGKAOUAcoAZYAyQBmgDFAGKAOUAcoAZYAyQBkoUQbUl6I+FfWtYCAAgf4igPDUX/lFbCEAgT4i8OHHn9GQLNGQRJBDkKQMUAYoA5QBygBlgDJAGaAMUAYoA5QBygBloKgMqI8FAwEI9A8BhKf+yStiCgEI9BEBE53efufD5LPPtyTffPttH8WeqEIAAhCAAAQgAAEIQAACEIAABCAAgeEloL4U9amob0WiFOLT8OYHoUOgCgGEpyq0sAsBCECgBAFNAVeDSA2jr77+poQLrEAAAhCAAAQgAAEIQAACEIAABCAAAQjECKhvxcQnlt2LEeIaBHqPAMJT7+UJMYIABPqcgNYflvCkUTkYCEAAAhCAAAQgAAEIQAACEIAABCAAgaERUB+L+lrU54KBAAR6nwDCU+/nETGEAAT6jIA2v1RjiOX1+izjiC4EIAABCEAAAhCAAAQgAAEIQAACPUlAfSzp6jLvftST8SNSEIBAIwGEp0Ye/IIABCAwZAJqCOkPAwEIQAACEIAABCAAAQhAAAIQgAAEIFAPAfpb6uGILxDoBgGEp25QJgwIQGBUEaAhNKqym8RCAAIQgAAEIAABCEAAAhCAAAQg0AUC9Ld0ATJBQKAmAghPNYHEGwhAAAJGgIaQkeAIAQhAAAIQgAAEIAABCEAA7x06fwAAIABJREFUAhCAAATqIUB/Sz0c8QUC3SCA8NQNyoQBAQiMKgI0hEZVdpNYCEAAAhCAAAQgAAEIQAACEIAABLpAgP6WLkAmCAjURADhqSaQeAMBCEDACNAQMhIcIQABCEAAAhCAAAQgAAEIQAACEIBAPQTob6mHI75AoBsEEJ66QZkwIACBUUWAhtCoym4SCwEIQAACEIAABCAAAQhAAAIQgEAXCNDf0gXIBAGBmgggPNUEEm8gAAEIGAEaQkaCIwQgAAEIQAACEIAABCAAAQhAAAIQqIcA/S31cMQXCHSDAMJTNygTBgQgMKoI0BAaVdlNYiEAAQhAAAIQgAAEIAABCEAAAhDoAgH6W7oAmSAgUBMBhKeaQOINBCAAASNAQ8hIcIQABCAAAQhAAAIQgAAEIAABCEAAAvUQoL+lHo74AoFuEEB46gZlwoAABEYVARpCoyq7SSwEIAABCEAAAhCAAAQgAAEIQAACXSBAf0sXIBMEBGoigPBUE0i8gQAEIGAEaAgZCY4QgAAEIAABCEAAAhCAAAQgAAEIQKAeAvS31MMRXyDQDQIIT92gTBgQgMCoIkBDaFRlN4mFAAQgAAEIQAACEIAABCAAAQhAoAsE6G/pAmSCgEBNBBCeagKJNxCAAASMAA0hI8ERAhCAAAQgAAEIQAACEIAABCAAAQjUQ4D+lno44gsEukEA4akblAkDAhAYVQRoCI2q7CaxEIAABCAAAQhAAAIQgAAEIAABCHSBAP0tXYBMEBCoiQDCU00g8QYCEICAEaAhZCQ4QgACEIAABCAAAQhAAAIQgAAEIACBegjQ31IPR3yBQDcIIDx1gzJhQAACo4oADaFRld0kFgIQgAAEIAABCEAAAhCAAAQgAIEuEKC/pQuQCQICNRFAeKoJJN5AAAIQMAI0hIwERwhAAAIQgAAEIAABCEAAAhCAAAQgUA8B+lvq4YgvEOgGAYSnblAmDAhAYFQRoCE0qrKbxEIAAhCAAAQgAAEIQAACEIAABCDQBQL0t3QBMkFAoCYCCE81gcQbCEAAAkaAhpCR4AgBCEAAAhCAAAQgAAEIQAACEIAABOohQH9LPRzxBQLdIIDw1A3KhAEBCIwqAjSERlV2k1gIQAACEIAABCAAAQhAAAIQgAAEukCA/pYuQCYICNREAOGpJpB4AwEIQMAI0BAyEhwhAAEIQAACEIAABCAAAQhAAAIQgEA9BOhvqYcjvkCgGwQQnrpBmTAgAIFRRYCG0KjKbhILAQhAAAIQgAAEIAABCEAAAhCAQBcI0N/SBcgEAYGaCCA81QQSbyAAAQgYARpCRoIjBCAAAQhAAAIQgAAEIAABCEAAAhCohwD9LfVwxBcIdIMAwlM3KBMGBCAwqgjQEBpV2U1iIQABCEAAAhCAAAQgAAEIQAACEOgCAfpbugCZICBQEwGEp5pA4g0EIAABI0BDyEhwhAAEINAZAqeccG1S59+VG69L+Bs+Bp0pJfm+nvXXD5PR/HfbzGUJfyOPQX6J5w4EIAABCEBg5BCgv2Xk5CUpGfkEEJ5Gfh6TQghAoMsEaAh1GTjBQQACo45AnaKT/EJ0Gj7RSey7bUaz6KS0IzqNPNFJeYqBAAQgAAEIjAYC9LeMhlwmjSOFAMLTSMlJ0gEBCPQMARpCPZMVRAQCEBihBBCehlcoqluo63YxRXgamcLLaBfUul2PCA8CEIAABCAwHATobxkO6oQJgfYIIDy1xw1XEIAABHIJ0BDKRcMNCEAAArUQQHhCeBpKQUJ4QngaiSLVUOoEbiEAAQhAAAL9QoD+ln7JKeIJgSRBeKIUQAACEKiZAA2hmoHiHQQgAAFHAOEJ4ckViUo/EZ4QnhCeKlUZLEMAAhCAAAR6hgD9LT2TFUQEAi0JIDy1RIQFCEAAAtUI0BCqxgvbEIAABKoSQHhCeKpaZkL7CE8ITwhPYY3gHAIQgAAEINA/BOhv6Z+8IqYQQHiiDEAAAhComUC/NYReffW15Mknn050xDQT+Oqrr5ING55Lvv766+abXIFADxP4+OOPk40bX2iKYS/W+U8++TR9DulZ9M033zTF2V9AeOqe8HTOHRcmZ99+YbL4sRVJ3Xs7mX8+f9v9ref0pk1/z8rS5198EfWqm8LT9Ps3Jife8mBy8u8eT4Ya7plPv5ucdMcjyZnPvNfg1+lPvJWGoXBkp1U4XnS59pRLkkXHnp0sHD8nWX7i+Ym/Pxp+Xz/10jT9YnDLjMv7kkG0sHMRAsNM4Msvv8yeyWpT97LpxfZRr/D67rvvsnxU+7LXTV4beDjibe0SvrXro99v/S31pRyfINB/BBCe+i/PiDEEINDjBLrZEPrmm2+Tl19+pfLfRx99lFE8ZvzE5P/+v39PZs0+K7vGySCBffY5OOVz/MSTBy9yBoEeJ6APbtVr/V1zzZqG2PZinX/4kcey+H788T8a4hv74YWnk49flYw/6tLsb9JxVybeTtFvE0A4NgtaVo6mXDGrp4Undez8dOvtsnKkeL/44qZY8SkUZk6992/JlHXPpH9nPPl2od1WAo/u7zN7QRqnH+6w95D9+tHO+6d+bTdmYoNfk+54OEv39PtfaLgXi2MoJB2z2xGZWzHb95d7D7voctO0JakAJhGs6O+6KQtri+tF407POKyZuqg2f0PWnT6PFvYKF609uWXLlpau3njjzbTt+d7mzS3tYmF0E3h2w1+zuvX22+/0NIxebB/1CjAN7LD2wPr19/VKtKLxKGoDRx10+CLlqn7A3exvqT/2+AiB0UUA4Wl05TephQAEukCgmw0hCUj2EVDlqAawmdHeGH7//Q/SzpNPP/3UkDQcf7jVNinjPfc6oOH6cP1oFd/hihfh9hYBdSDaM+H8CxY0RK4X6/xQhKdJE65MfvyjXbP0Kt277HQswtPGZhGpHWHNylGvC0/zzrsoLQP/8Z9bJb/ecff075133m0o+/YjJsbo2qxHX2soRwdfsLyliJPnl12vU3j6tx/8LI3fVjvu2xCvdoUnCTeWvz/5/jaJ/o7b8+hhF10WjDsji5fFL3Y86Ff71xbX0S48aaapMb7xxputquQed95l79T+GWeck2uHGxAQgV4Snlq1oXuxfdQrpaifhKeiNvBw8KRc1U+9m/0t9cceHyEwugggPI2u/Ca1EIBAFwh0syHUrvA0btzxGYnR3hg+5NCj0s6T3/3uroxJeHLn7+9OpkyZkTz00CPh5WE7bxXfYYsYAfccgaVLV6QzGV955dWGuPVinW9XeDrh2BXJ//zgV1mHqXWc7rLjeISnUSY82WyndevWN5T32A8ThfzxiMXXN5QlL/B4+2V+1yk8HX3FrckO46Ykx625pxbhadYhk9P0bv0/29Ym4NQxq2fuEdMb8sHqtT8e+usDa4s3wtOg8LRmzdpYtWm4hvDUgIMfBQR6SXhq1YbuxfZRAdqu3uon4Ulg8trAXYX2z8AoV/VT72Z/S/2xx0cIjC4CCE+jK79JLQQg0AUC3W4I6UPA/9249pas0+Yf//ik6X64h8pobwwfdPDAMkN5wlMXikylIPotvpUSh+WuEOjFOt+O8HT8MUuT//qvbbNn3f77zEj+9V9/mP5GeKpntpNmSFlnfy/PeNLeExbPoQhPP9vvyNSf7231i8y/qeuebRB5yohNoZ06hafQ3/C83RlPJ+x9TJrOXhOeTBDb/sc7JDdPvzz379YZSxGeZi7LGAzlBRLOeEJ4GgpJ3HoCvSQ8tWpD92L7yPMcrt/9JjwNF6dYuMNRrj777LPkwQcfSh544KHkgw8+jEWrr691u7+lr2EReQgMMwGEp2HOAIKHAARGHoFeaAjdcsvtWadZ3ubqRn44GsMWdi8ctSSTOiz7RXjqt/j2Qh4Th0YCvVjnqwpPE8YuTv7jP7bOnnOHHDgnneGE8FSf4GTL8pmgM9KFpxkPvpSVpwlr1iX/8r0BEXO/OYsQngJxo44ZTa38mLL/8Wle7P2LPTNRpZWbod5nxhMznhrflPyqi0AvCU+t2tC92D6qKx+G6g/CU/sEu12uPvzwo0TLDlv7bfXqxr1e209J77jshf6W3qFBTCDQ2wQQnno7f4gdBCDQhwR6oSHUrvAkkeruu+9JZs2akxxw4Jj0eO+99xfmgkaa/+EP6xPtIzNmzNhEjetLFy9NnnlmQ6E7f/Pdd99Lliy5Ill2xcrkyy+/TDeFv2L5lcnRYyckWhpQ9/I2ije/Nr7wYrL62uuT4yeenGhU47Tps5Mbbrgp+eqrr8xKetSms/Jv5szBfSROnDQlvabrb775VmZfgpSuPfLIY9m18KRq+vPSefgRx6TsFi1akmgJxdBUiW/oTufKU8Vff2+99ba/nWiUs92P7YfyzTffJpdfvjy14+NVlncY6CeffJqsXLkqOemkqcl++x+aTD5lenL1qmuT55/fGFpreb502co0Tq+99nqyefP7ifakOHnytETLqFxwwcXJn//8cNQPz1+W3njzrdT9rbfe0eTmySefTsuzyrX8Pu/8+cm6e/6YKN/zzOuvv5HMn78wOXbCiWkaZ59+VrL2pluTGF/zQ2w1ylx1T1wUntLx6quvmZXsqDgpzyy+istzzz2fXHX16uSxx57I7IWMsotJkvqtj9FZs89K65qWk9Q+HarzOt5222/SchG68edKo8JT/im+lsZWQvdfnnwqufiSxYnKu+qpPoZV36oKT1v/dK/sg/qIQ+Zly+rVJTxd9viK5IRLpib7nXBY8vPddkx2OmSv5LAZ45IF912WmCATHlf8dXVy1q3nJ2PPmpj8av/dkx0O2CM58OQjktOuPStqX26PmXtCMvbsicmC+y9LLn10eTJp0bRkj3EHJtvtvUsa1uk3npvrVu4V3gEnHZ6GJTeHTh+bnLry9GTZM1c3uVNaFJbchPG289nXz03vT758ZtN967jIFZ6evy6ZfvWZyWHTxyXb77tbyuroOccnc39zUZNfFp4/+vL17LMbksuWLEvrkOqd9m9SOf32228brNqzUXYtnnoO2DMtb5RvOFvIzg+5cGXqh/ZRmrPh/WTXSaenv/97m51aC08bPkiOXn5rstvkOclPdj842WnC9OTIJTcmsx9/I4nNeDrovCsSCVoTb7o/1+8p655J7Rw0b2lm56hlN6fXjr/hj9k1xb/qjCctZafZTjv9dKc0jf/5b/+b/ta1sw+f1iT2XDrh7OSEvcYle/x8j+TXP9kxGbvrmGTOmFOTvBlHZx42NfVv/rjTU79umr4kuXDs7GTSPuOTK0+6qMl/LxppnynlZ51L6VkYl4yfk0zY46hk5613TiRsTT1gYnLVSfOTVsLT1SfPT8449JTkkB0OTLb70a+SfX+5d8rk2lMuaUjP6lMuyViumryg4Z7FQcfFE85J7Sn88PrKSRcm43c/MmWtcA7b8aBk5sEnJatOzvfL3DdUjoo/6p7xVLVtFIvupk1/T+uylszydV/29f5XXVe7MfZO1rtd99XGCI060J944sn0GaN30ZFHHZuceebcpFV7V270jpR9aw/oudTqvReGrfN220HttEcUXlV3Ybu3ne8Cn14vPKkt36p9r3adPcfVbsszGzY8l9or6li390SZNn8oELST9jrKvU9r1fwL237vbd6caBUMtbf0jTZ37gWJ2u5FRu075Y/cqH7o/SrOZYQnfWesWnVdukS52oZq0+o7TKtvFBk9f37zmzuTefMuTOuWwlUb9fHH/9LkbKht4KGWb+XxPevvTdvoYqpvVH276fmQZ8JylWenXXZ6Di64+NK0vaR2/NnnnJdMnTozfYcqD/T3+7v+kH6Xq04pb2PPS4uXvullb/36++xSTx57ob+lJ8EQKQj0IAGEpx7MFKIEAQj0N4FeaAi1JTzNmpNMPGFgvwfrwLPjOXPPj2aKOsvV4DZ7/igBSsJFGRN+mN53359y/cybmaTObB++/d72Fzum4oLFQ3ve2L3YMfx4KPpYaCf9YTrVuI+F/8OttmkQ2arE19JoR31cyD+Fc92aG+1ydtRHncVBH4ve/O1vz2f3Q+GpCm/zU51I4Qg8C9eORR0H5ocdzc31169NbASrXbOjRCJ9zIYm5K+07bnXAVn6ttt+l8yq3OlDzvzyR32Qf/zxPzL7dqLy6e3ab6U99hGt8mZ5ZHbDo0SZ0Fx55ao0DJXrp59+tsGtOs/MmB/6mA9NWKYlzpq98KiP/jC/Q/fqaMvLR+XFSy9tCq2n5yqH6hwMw7Bz7c2jONrvGFfv4cRjliU//N8dk6PHXJSJTqeccG0tS+1JnPmPHwzMdrE4hcczb5rXIKhc8eyqVHAJ7YTnvz5oz0TClBdbzM6JC09NtvrF4JKBdl1HiUkrnmt2K1ErtBee/2ynXyUL/7y0ITzzX2KXj4d+H3Lq2NQ/CVj+vvkdE54k0O148KAIaHbtKAFq5d+ubfLTh2H5q/fFoksvz02byqU60sy0ejbmDVYwsSk8/njXA9Nw9zj13FTUkShk6Tj5t481CD2hu9OfeCvZ7vATMrvmRsefHzA22WfWRem9H+6wd+aH2f/ZPkdk10I/db7byWem7iRk2b1tDx6fXtt54mnZNd2rKjwduP1+0fgqzhJUTMi4ZcbS5Pg9B8pGmC47l3hzzeSLM/vmbvefD8wkPuzXByXTDmxkI8HK7OUdj9z50DR+EmDy7FS9fuvMZanwZXEPj9//3o+SMw6bkjFZM3VRQ7jzjhroxAvd2Pm//sv3k/OPOi2zr6UBdU33T9rn2Oy6j+/evxioN7tts1tmR4Kd+euP8vPiY87M7Hr/9Hsopk7hqZ22USzuL7/8SsbjhRdearISCs56n3ujNo047r77ftmtLVu2pB3wnq/91mAndbB7o3er2fFHtSPefvsd7yT6u512ULvtkXbdZW2ENr4LYokO211l2/fKA2tnqKM8z9h3S7h3rbfb6j0RbfO3kfa6yr3Fv938s/KpgXhqJ9rv8Jj3LaVl2Yx7aF/nGtBl12KihJa5zXOreGhAScyo7kgwMb/9cfFlSxuc1dYGbiOPJWKq/e/jaL81SMYPdlTkszo1+6yGtNiPdtlp0J2FHTuGAw7D77mnnnrGgm44qszZ98iKFVc33Ou1H73Q39JrTIgPBHqVAMJTr+YM8YIABPqWQC80hNoRntRg1QeDOus140Ej5qzxqXu+w1wdyfvsc3DW4L3wwksSfVCq8Rw2yos+GMNMDj9MFZ46sJcvvyqdwaSZH2GDWqPdQmOdC7KjsDW6TqLOWWfPy9xpBpQZjYLXqD/9mb/66NFvjbZ7773B0ZV5Hwvtpt+nU/G69rob0hGCmgVk8dEoOjNV4mtuwqOJC5rV5c38BYuyMNWp642xVceKGbtWlre5M5FH5UrlRTOHJEZoNJ6l+6GHHjHrhUezr6PKrdKhGUAapRd+aMv/0IT8bXN0+SHxQ3ltRvGzMMTtrrvWpeuka2afXVcHVWjef/+D7J78VtlXOVTcwjjpw9WMZjSZf0rHwoWXpenQiEXFSfd0PZyFZx/dumd2dC7hTB1xZszfPOHJ7msUsGZkaVS4yp1d16hub+7/04PZfXXmifnDDz+all/FU251/PTTTxucyp75q/yXuKByr2P4nJGdMsKTRKbY31BnPGlGk8Xz//ve95Mjz5iQTF4yIzn4lKOS//7Rj9N7un7Jg5dnYsouY/bJru9/4phk6vLZ6Z8EJ/PrqDOOy+yb6GL3dJSfh88an4almUk/2HpwGcFjzj2xwa1mUZlbhTHp0mnJlGWnpTOs7Pq2e+zU4KYjwtPz1yXb7PLrLC5jZh6TnHbt2ensp12P2De7Pt7F39IfHq2wqPxbGlQWVUZUdubMOTe7rneDOkdkYs9GzURIn+XnXZQ7ytqEHDueuv6vmf8ScXRds540+0nx2WvG+Q1Cj7nTccdjp2Vut9px3+TAuZcnmj2l2U+WFh1D4WncysH6MP1PLzT5feYz72VL/R22YFV2vy7hSTN3jtrlsHTmjsVRv/V3ViAM2cwj2dHsqFMPOCHR/kuH73RIlraffH+b5JYZlzcIIiY8/fA/f5rZkx+yG4o0MfFE10wYO3nfCam/Erc0E0vCzOXHz2sKL8+f8LrtG6V4aIaXBDWlR0f9Ng46hsLTwmMH69svt9o+Fa/OPXJGcuLe4zOBSaKQZjpZeCacKb12LTzKfwtPadI9ubdr2nNLotU5h09Ljt39yCTkuGZKoygW+mv1qJ2j6pSFP5Q9ntptG+XF2d5xsYEzYRtUM7O9Oe64k9I0qQ1pxq7pPaUZFeqA15/e55Z+zV4IjWZC2T3Z0wySO+74XTpLyq6rDVnGtNMOaqc9ori0687avUqbOJX9LshLf9jukp9l2/dqB5n9mN9qKxj/PCFF7mLviVZt/qppr7vcDyX/jImOanvqe07vUeWj3VO+hm1RhecFOvG/5po1adtQ5VZuzL0XntR2t3sKU99vanuqjRe60yzE0Oi5o7arudWMwptvvi11pzamXQ9nI9bZBq5avkOBbMbM0xN9b+ubM6wz4QAwS6vd1zPHm3bZaaUD46NvSbXj9a2u55e1q/V9Ze0lhau6JzfK25iR8Gh+lhXTY/5041ov9Ld0I52EAYGRQADhaSTkImmAAAR6ikAvNITaFZ40EjM0WhrMGqASL0KjWQ92z4tSsmcfjGrU66OvlQk/TCUe+ZlSb7zxZtaQ9h3+1hmupb+80UeMxTO2XIfdy/tozftYaDf9YTpjHyASvixOsWXW7F5efH369VsdJHKnvNDHcWjsI8T89cthWCeNZv+YaYd32EGgTpvQ6KNIowQ1OrOssfjqA1eCT2i0PIpENEvz559/nt0O+evD7M4772paAk8fxua/lvjxRiKU3ddHmpmwc8rXJY2EFctwZK3cTZkyI/VLnWu+fOq3fbDrI95M+NGtdCoOWrrHG4tjkfDkRVyVj1CM1IwqM8onKy+qF35UuOqohRmWF7kz4U0dCb6zQxsgW2ec3A+n8LTX+IPSNEhkWvTQsgbxRr8lECmO4+dNyu4ddeZx6bXYMnb/+/OB2YY6hkKLzo2VRKbFjy5vuK/l8rRkn+wozGVPDy6fp1lQuq44+tlQ835/cbrUnY97J4QnLetnaYilXWKdxX/xYysa0udZqIypk8P8U/nxzyot32r3Nco3NLJr9zT4oZUJhSOd73/2wIzZ//rpDpnIo+ua/SR/v7fVL1Ihyrubun4wTjsdNyOZ88zmBven3P1UJiCFwtMZT72TXT/4/OUNbhTG+FWDMwBPe+jl7H5dwpOJFVpaT+mT0GHX7Kil5YzpsbsflWjGkN3TcdGxZ2f3Zxw0qeGeCU9yf8TOhyYLx89Jbp6+pMFO6Jc/1ywguZUwFPpl8fnRf2/dcvZP6KeEMRNvtvnfXyRevLnh1MXJtj8cEPoVRig8aek7udWyfF5gC2cozRkzICAp3FCsuvz4c5vSfdrBgyPm1067LL0/78jBWVVXnHBeg5vrpixM9tp2j5ZpblXui+7rOW18NRhBAwqK/uyZrjZWaNptG4V+hOdaqkvx0sCc0IQDPXRfIlRo1Ia092f4nrYZlf5dLLfWAR7OftZ167DXe1qcQqPOX70P/fs7tGPn7bSD2m2PtOtOcbV2r7j6tkzRd4Gl0x/DdleV9r1mZViZ3LjxBe9tKlDY/bLLHZr9vDZ0u2mvu9wPJf8sjWpvhe1fAdQScXZfYlRowqUIY7zD76lQeFJdM5FIA0a++GJL6G2i/YbseaHlmUMjscTi478lVdckqOh+OKOtzjZwlfIdrlIRPlMsPeGgPD/b2sqV/+4bCjutRmLswpngio++h+1emJcaEKfrejb6Z5nc2RJ9sYGIls5eOfZCf0uvsCAeEOh1AghPvZ5DxA8CEOg7Ar3QEGpHeFKneMzYbBmNmgqNzVJRp0DMSMCwRq/vJIzZDz9MdR4z4QeK3y/H/zb3+pCxeKgTxRu71+oj1H8stJv+MJ2xpWG0trrF6cEHB0UNi7fdy4uv2QuPYUdBuAyafdjqA8Rm/2gdcDNhx41nV5V3OLOnTMewxSHvaBz0ARozLwfLKYasQv4+TeaPLbGnzqfYh5nsWf6HH9FhvdP+BK2MBBhLh9zGjJYm8UsMhR/dvlMh9MP8zhOe9CEcM1omxDoJtHeTGX1om5/hDCy7r6MtwShRz4z2RzN3sc4+2VMczc5wCU9LnhhcCvDkJTOiQsnc385PLli3sOneQidSmbCiPZ8sXVqSz66HwtOx55/UcN3szL93cPlQzaKy63tPGJht8uPtf5lds3t5x04IT9r7SmnTPlixcC//y0AHh+xo/6qYHbumMmCzndS5G1uqRnZslqrKZ2iGKjz94Be7pmnRfkyhuBQuYRfbj2nf0wdm4/7L936YzH7s9Qa35o+WxRODUHjSPQlVuq5ZUmbXjr86ekCY2PagYxrudVN4stlOWoYuTzTSDKk0bf/50wahxMSi7X+8Q8P1UAwqOtfeRvLXlqzTUX75mUmtlp6zMLTXlPzTX56boqX2JPxonyrzz44Sjcxf8bLrEulM6NKMJbtuR9tb6+AdDsjuzTpkUIwKZ0+ZmzLHsE5UPde7ztJS5Ri+IxSmvRvrahtqcIjio3ZKKEbbgBrNcLT4hrPVw9kAXpTIa7+ES/dpST4zp06blYahdtJQTDvtoHbbI+26U/qsk7zqd0Eem7DdVaV9r/y2togGxHhjM7Q186SssbIStgtDt+2mve5yP5T8szRKCIkZm0Wo9poZlXdzp5UDYiYcHBIKT+GMHS/kmD9a4cD8D2fSmGClOhYzEnS9yFNXG7hq+bbZTmG7P4yz9qGz9PjnopUr/y05FHYWH+0n640GfBrvUGBU292ue656Tto9rXzS66YX+lt6nRHxg0CvEEB46pWcIB4QgMCIIdALDaGwA9x/cHvQeY1hs6flS9QQ1YdKaKxx6ju1QzsmZmg2SysTfphUXbyqAAAgAElEQVSGHyWhu3AZCD8yLrQXnn/55ZdZQzpcqsHsWDpafYT6jwVzVzX9rdIpscf8jjX87V5efC1d/mgzVbQkhBmdyz+NcLNOX52bCTtu/AhGs+OPebz1QWajjxUXjQ4tEk28v/63cSjib0tNhMvPteKvcPQRJ/99nodxsJGG+sg0o82XLV6qVxJclJ95RqKS2ZdQVtbYR7fvfPfuzW/PqFWdlz826lEdO2ZsNGdRuBIVLVyb2RQKxnlCnvaxGnTXvHeWxcGOsWX2hrrHk0Qli4NEHxNFhnI848bBJeIkxIR+WVixvZPMnu01JQHLrh134eBefJr9FBPCzK4dOyE8lYm/xDHZO3Ta2Cz+FqfwqHy1JVq1Z0eekTBu4YbPpKEIT5PvfCLz85S7nmwQeiQEaRaUwtx10hlN93YYN7Av0M/2O7LpnolIErPk3gtPE9YMzpycsu6ZzL0ELEvjUZevza7Lv24KT5rho3hoL6I80UPL8llcbeaO7JrwpD2e8twWXdcSdfJXQpNmS9lsKx3D2UKa+aQ9lYr80r2ZBw8suSY//awlc3tRIE6FM57sft5Rgpj8Hbvr4Q3xOH6vgZmJEu5unbE0uxfOJFOY5u/iCYOzs8VPYpn22LL7ZY559abM9VB40rta78+iP8t3P+PJrvv3ThiHKm1DDeIwP8NO7ZMnDyxxqWW5rANW52bsfSVhqqwJO4HD2d9ahtbioNlPfjBIWf/baQe12x5p153S0qqNkPddkMehTLsrr32vvWLFXt8g4mcmFEH8PphmJ3a0fMxrQ7ebdvO3rnI/lPxrFRdbESAU7MLBWnkDhDTL3fwOhSctx6frem7kGc3IMbfaK0omfG+rnVjWdLoNnFe+7RtGSwDnGVsWWEJkaPLKVbvs5LeVkXApeQszzE+J96Exsd6LfaoTlkd+uezQfa+c90J/S6+wIB4Q6HUCCE+9nkPEDwIQ6DsCvdAQqlN4so/3UHjSqFJrnKohnvdndtTgbmXKfJiGI/K8KKOlxlavXpNoJJoa1RI39GdLpygudQlPQ0l/mXQat3CUmvGze3kfzWbPHyX+yW04Us8+WvSh/Jcnn0rvKy9NLLG8jy250A5v7dFg8bej8kjLe0jkqmLMfdFHvo1ADT+uy/APy0yrsq14mNFHdLhPl8VR8dBeC+FobLmxkdyyV+Ujr9Mf3YrbJZcMzLYJ6324uXoZLmItY7OgQr/SG8G/XhCepq6YnZXPpU9dVSiUhKKJzi/+05J0P6hdj9gv0UwgCT36s32hlMeXP1ldeLJZRfsef2gWnyV/WZnYEn5WxiRQaWm+4y6anPiZVYpf3cLTooevyFhpKcC8P4vfTofslcXfs9NvGat36tjNM1r60fzc+MKLmbWwA6vMjEoThXTc+7SBZ6P8Pei8K5r+NCNJ9zSryS+l9+NdD0zvafZS6Gd4nic8yS/bQ2rfMy7O3B+x+Posjac/8VZ2XX52U3iSqKN0e0ElFEAWBfsfae8luzdU4Uli0ooTL0g008j8DI/jdj08YxRbyi60q/MJewzMipEI5O/Z7yLhSWKV9pjSDKVdfrZLujShxDETyMRJcTK/dFx+4uAekuEsq8n7DSzNKVEtFJYkqu37y72zdMlP/Wn21zG7HZFon6vQ/9h5ViHaOAmFp3b3eBpK26goyjaLwGbPK656B4mPBAgtiatziddmNJtB12LL5WpZWA22kcit97O1F/WOkhv9hcvXahauPZ/svkQ5tY3UTgpFcAs/71i1HRSGW+a9a+G2607u8zrJzW9rGxa9082ujmXaXXnt+7ADPRRErB2kfLA2axhm3rnlX14bup20d6LcDyX/LI157WOrG+ES6lphwdxpNYSYyROeTGwJB2LF3Jv/JtxoNpNd0x7BZY3lfdEgKPllfnsObeVxIJzFviUt7loWW+GqroYmL8x22clvcbQ0hqK87s2fvzC75we2hYPBwsGpFkctAd4Pphf6W/qBE3GEQC8QQHjqhVwgDhCAwIgi0AsNoU4LT2rgWmNXjeuiUbG659fmj2V4mQ/TcDZNuB+QGtXWCWHxih1jHwtmr8pH6FDSXyadFqc6hSd91Mlf5YeMlrKycLRXQtiRY/v6qFNGdrQmeGiGwlujJMMNwS0OOupjJxzRGobpz82d/6AM7dko6HAGRRn+YmT+tyrbxtPCVRnV6GhbHsb8saNGN5pRJ5pdrzL7q9Mf3YqfzYALP54lWlp8y3DRnjwytt9bUSdBLwhPWg7O0hfuqRQTSsJrmrFk7oqO7cx42naPnVK/JWiFYV766PJEeyjZnlNhuBKh/J5LdQtPF65flKVZcVCYRX+7H31AQ/zDtOhcxuqdOkzyTDirMOyEbFt42vBBun9TyK/ofMK1f2gQgmyJvp2Pn9lwvYzwJDu7nzKwT9J/b7NT5v7nBwzMlNlh7OTsmvnXTeHJlrUbH1kqzkSPcJZOKK4MVXgy//OOl4wf2PdHeaV9lvLs2fUjdz40La9a/s6u+WOe8HTTtCWp0FRULnQvJtD9cqvt03AP3+mQLFztMSX7sSX4tJzflP2Pz5bp82FO3X9i5o+Pv34PxdQhPA2lbVQU9wsuGFjS0jpEtTeh2EgwkglnZ6tto+eBtQm1T1Bo1GbwXGO/wxlPcq+ZV3qXmb+hGz27ys7Cl19V2kH2XFR4Zd67ltZ23cm9dUDnzfruhPCU175XfKzNqMEvZkyMjC3BZ3ZiR8u3Km3+0J9Y2jtR7oeSf5bGvPZxTHi6++57snqRt5RynvBkbUO/z1rITecWL80okgm5ae/YsqbTbeBYHr/88itZ/IviGu6tFAqieXWqXXZi9dZbb2ftJpUXLW8qof3Io47N4mrPzJBtuNecVp+QCZfm80vwhW576bwX+lt6iQdxgUAvE0B46uXcIW4QgEBfEuiFhlCnhadwZGJRA7xKBpYRBMI9cWyZBzXsTWBQx7bio0a1Oh5kQoGlLuFpKOkvk077OKtTeNKMGvNXwtGjjz6e/t5zrwOybLIPIC1tIn724as4mxkqb/NHo4nVcaxZaoqDxe32O35rVgqPZj/vw1qObTmfcAZFGf5Wnoo6wAsj98+b2kdCo0i11J+xVLxfe+311EY4wrTMnlAWZqc/uhXOvHkXpnkSjmA1MapV54LF044rV65K/QpFLLtnx14Qnk6/YW5WDiXseHEk9lszf0z82fHgvZJzfzc/CUWrM9bOy/xsZ8ZTtlTd9Jyl6p6/Lrnoj5cmM1admQpRVi9+sPXWDfE34Wns2YNL9oXpOeTUAbFju713aXAnO+ZnuCSgZlXZ9VlrzmlyE/pd5lzlwDYR93sjWBnRMVwKS6OlzbQrPJ14y4NZOn6656GJ9lSK/Wm2k9K74/hTG8Qg2dX1Xx11UsN1E4p0zJvxpHsn3vbnLPxT7n46mfXoa9nv8avubPKzm8LTDj/5dRqXw3bMXy7vwrGDswRXTV6QiSKdFp5WTBqcTTTtwBOycGNijK5N3ndCmhbtFZVnJ094Onb3wT2EZh50UjrzKFyuz5ba8zOeFM6pB5yQhatZXEsnDj4PdJ4XF11fdfKC5IKjZyUn7DWuYW+rlZMuzHVn9aGdYx3C01DaRkVxtv0F9R6VseXXNJNYJmyvqG1jHdp65yhdZjQzxYSjceOOT2fihIM+tO+jPdfCGU/m3sJSJ7T2rLFBFXJTNLAidB+el2kHtdseaded4pfXSW5xj3XM273YsUy7K9a+N79sZofyTuLHiy9uyvKp6rKHlr91Ck+dKPdDyT9LY177OCY8hUs/h3vBWh7omCc8LVq0JM2PojoQMrKl38I9he66a10YVOF5p9vAsfIdxj+v7CjS1k7WjLXQ5NWpdtmZ3/qeEHfL8/Co5Ui9gG7ubGChVr6Q0SxXudUzNnxmmv1ePPZCf0svciFOEOhFAghPvZgrxAkCEOhrAr3QEOq08KQMsiVJVqy4Oje/qjReww9TrfUeMzbKVY3jjRtfSK2EI+Bjo7TCUZR1CU8KuN30h+nM28vKPhzqFJ4UZ+vYVfnQKFGFs/iypRlq26xbwoLEKd0f6LgZXFd/qLyzwIITfcyaMOP3iwisNZwao3BPh9BC2IkWzo4rw19L/8l/dUzlGflv4maenfC6lgWzONtHa7ingZY6zDPhUhiyU9dHd7iflw/bRkyGs8UkCloaiuq2vxeOpP3ww498UOlvCcbmt4TjVqYTezxpXyeLw9m3X5Arpix75urs3oQLTs7cLH26eXm+hj2ecpbaO/my6Zl/oUiz4rnVmd8TF0yJ2gnt63zixQN7DikdCx9alrn52U6/Sv068OQjsmuhW82ekpuywpPc2jKC48+bFPVTdpSGMJy8c+W3RtcrDkV7sljniOyF9a9d4Wm3yQNhxpbRC8WjXU4cFFhO/8vg8ne7TR6YefM/2+/RJBKZ+z2nn5emy+/xlN7f8EG2h9QBZ1+WaE8npU3xOfOZ95r87KbwpP2ZFJdf/2THXKFj+oED++HJnu3DJNFkqMKT9kS68qSLcsO9aOzpadwUbrhPUp6Qo2XyZFd/ecv3nX/UaZmdcI8ncycBKuZ/kfB07SmXZH7K/wl7HJ3+1qynmF9517SMocWjaIZXq+dm0f3wndnuUnvyv922UVHcwg7qV199LZsB89hjT2TONNpfjNS2saWk1MEemnA2wmeffRbeSs9DYTtPePKOTBRR2Bps0q7Jawe12x5p153in9dJbmmLdczbvdgxbHdVad+bX+FsDLUVbCngcGCM2W11tHpk7TBvv920113uh5J/lsYqwpNWPjB3ecvVqs6YHRv8J34Kx65rsF/MhGJhuLS2tf1jS2KaP51qA1ed0WcCj4TvPGPLbZugY/byytVQ2OmZoYE6Yq92k+qFBtpdf/3aRN9qRUb5Z3mmNrctTV5mT+Yif7t5rxf6W7qZXsKCQD8TQHjq59wj7hCAQE8S6IWGUDeEJ+sk1MdWOGLUMkUfMWqka4mUvA8Rs6tj+GGat8nsiZMGOlUlhmj0mUy450dMWAqFkth9a3hX/QhtN/1hOrstPGnmjdKrdd1tmRKNcjQTfnjaOuWh8DAU3urU0keRRIiYsaVUisSQ0J3lW579cB+F8AOsDP/wQ/Bvf2vee0qzvvRRefTYCenyOxavjz76KNF+UvrA9kadWBZnK99iYp0Vmm0WM1rmUB/m4fr3dQlPqp+xuvn88xuzuKqjzoz2xbA0aKZazGh2k0Z6hsy1bIu502jQmLGllGRvuIQniSQmpuw57sCoYDL+3BPTJeVOu/bs9P74eZOytF32+IomN8ddOLBcpdKVt9TeXuMPbnIngeaEi6dmfp9754LMznl3XZLsO/HQJv/kZvb1g7O2JKSZ0KOl7hQHzXxa+fy12XW7v80uA7NbqghP+584JvVTzMJZXubn4keXJ5p5ddiMccnyv17TFKbZ01FGS75YOYnXu2+yWYz+udSO8BTusbTrpDOaRB4TjnQ8/oY/ZnEbu/y2zO5RywaXyzxuzT3ZdXM7Z8P7yY923j91GxWe0hlR89P72ktqu8MHZsjsOun0Jr/kZzeFpzljTs3SvOS4uU1CiWb9bP0/26Z29v7FXg33hyI8SRja9We7JpqddPXJ8xv8NWEm3Atp9SmXRO2YXR2vOmmAscrXcXseHbU/brcjsvSa8CQBzMpkbCk9zWJSPGUndl9hG4sjdj40W0JPy+mF8dO50q09pGIzoa6femkWj5kHn9Tk1vwKn62aRasBDeFyT+F9f16X8NRu28jHx/8eM2ZgVmY4g1Ydr2bUWa580ExntXF0bnvJmB1r1+hebBCElsnVPf2FMwX0TpQQEF4zP202ltxowE6Raacd1G57pF13in9eJ7mlbSjCk7V/zC87xtr3dk9Hi9NZZ8/LZngov6oay9+qbX4LJy/tdZf7oeSfpVF+xExsxpPeobavlGZbhQM7zA9bslv+h8JT2MbLaxtqUJncqT1r32/yV214XVdbWAMFvdHKCLq/7IqV2VLcdbWBlWcxk5fHts9p3nfv66+/kcZV8Q0HvCkMK78+zKGwu3HtLWl4+hapatT2t9mf9kxVvMO2e1U/u22/F/pbup1mwoNAvxJAeOrXnCPeEIBAzxLohYZQN4QnjexUI1V/+kixD251cqhz30ZP6SOjzCjQUBCQn+qEtA4TfezrY9PCU+eBmbBDX/GQeGJGs6K0B4C504we36lt97Tfjjoi9Bd+cOV9LLSb/jCdQxGe8uJraY8dwxljSrc+OvyeSiYAGZcbbripwat2eWsUnvmpD0gtqyKjjhjrMNL9MiOt5c780nHRpZcnNnpZH1OKs933H2Rl+IuJCXP6wPzznx/OyoRG61oHg8LQcnlmzI243rP+3uzjWsJsuNFvKExpVpvFVXZsk3KVY3242r1QsKnro1t+azN2W89f6daSdyaGKR1eVLYl+ORW8VP+yWhEcjjyO4yv7tvoXblbumxllk51QGjfK0unjr6OGt/wqBlPx41dkow74uKGP/Nn+18e1nBd9k4+flWSN1PKRJDJS2ZkcTn8tPGJlpTTPYkomnVk/h95xoT0+mnXDow21fWDpx6dZLOhnr8umXnN4D40ur/gvssaBBrzS8ejzjwusRlTEmlOXDTY6f/rg/bMRJtFDw2Ix3KjZfgkSK3824CQpGX/frX/wPNOy/+FAtNxFw0KYIdOH5ss3zAgBC35y8rEltmTn0XC0/HzT0lSce3569L4aEaVpUF7UZnQpfhoycGf7zaw/Iv2fgpnXxnr8Ki81XPXnj8SRbVklhktq6eyauHZ+8buy63dyxutbXZ1lIgzYc26zM3EtfdFhZ5MQHr2/eTffvCz1P52YyZmdiVe/ddPd0iv6/4xV/02mfPs++n9mX/elGjvJ4tXnvB0yl0DHWtmT8eJN92fhWFx0LGM8HTSHY+kS/aF7vy5CRUn7D2wVKAEJLtmR81gsj2KtDfSgnFnZHa0rN7ev9gzS9vyEy/I7sm9iS2aNWX+lT1eOmFg3ytx+P73fpSce+SM5ObpS9IZVRKitF+SsQr3Tmrl/yE7HJi5m7TP+GTttMvSuGkPJ+2dZH7qaMKT/Nz2h9ul9yQwLTvhvCw9Erz2+eXemTvFReJROPNL7kMBz8K4ZvLFmT8Wb9v7SeHMPWJGonjp3o2nLk60z5a5jQlT5oeV8XBAjjr0y5i6hKd220at4qh2gzHQ0acrbJuYPS25FxoNPrJ7c+dekNhMCj0/whkAsqOZVXr/6dljbiRqqWPW2qZauu/wIwbqUKw9FYat83baQe22R9p1p3jmtXstPXkd83bfH8N2l1iWbd+H/oQDEyw/xL+qMbd5beh20153uR9K/lkaqwhP4hjOatdgKFsCWvVDM81Uxs3vUHiS23DwkNha21BtWrXRzd1tt/2mIctsdQXd1yoDtoSu6mYYpmb0WL2rqw3sRSCLWF75fm/z5iwdqve2bLbcqYzb8t4S8EJRXPetXGlGlL4zw0Ff7bKzpT6VL1p9REsYanCf/vQNMjDwYHCpUUufHU1Is7yxPfPsfq8fe6G/pdcZET8I9AoBhKdeyQniAQEIjBgCvdAQ6obwpAyz0VbWaLUlE+y3GsOxkeuxzA4/TG20qvwJP3T0W537JjKYPzaSzsJVo99G7unj4NRps7KPBbkPjS0pZm51DDvb7WMh9oHSTvrDdLYjPLWKb5g2f64PwZCnOHtjs6KMh+/glf12eEto0oej+auj8iiMjzqby4gOioP5Y6Ml9TtW/jRSOTRl+Mu+ZoKFcdN5+Fvh+ZG7Ejp9HOxD1OLrZ2ooT6yMmR0Tfuy3OtzVCWGmro9ulSWLr0+bwo7tt6V8NIHN4md+2G/VN3VUhOaNN9/KBC2zF7oL63yZMiAB6d///cdZOTA/i47HHr24pfCkWU87HbJXg782C8r83vWIfTNRRwKO7cNk9/VbYot+S1DSrB+7d+i0wb2a7JpmPNm5ubPfEpA0wykUaaYuH1z2TfZk539/vk3mh675pfkkoPl0hL8tDTHhycQsi5NmVVl8Jl06uISZ7sfjf3Fm39z5o5WV/5+97/C2osi+/m++b63vFyY6o44jIohKzhkeGR48eOQcHhnJOUdBJEoQBZGggIiIiiImFAExKwwj6gRn6lu73ux+p+t239A333tqrbuquyud2tVd1ffsPqfggkfeF7gv5TnagFLIDVGIp6ZVEyxmIIxIFrkEjTynWz3IgL2YmDZo+1Ef9kiHqzzGIKpwHEY8oR646kMe/H59f0MDSynWL+Mw4gnu/1ie8dQ3vwisA/WRqIhHPCHP6sFzfPsLgRT57f/e62sryHonHeIJ7U7rUUfysj9u/Od76htYArEvieInRyyyRJasR/al62O1lmlIl8TTjJ51lodIQxmSRDgGiSXr3DlmhU8mEFwyHdZcQbKuHfJEDLa0KGN517LMrYfPhXQph2comZAp4gltRXk3SiSj3IMGeAS5IqZVFNIxb7gBFhXumoxzzjFQkOM9hHjT7RSsY3gNMTDlOyavuxYObts4j/oeFOV9BO1FLcd3kqD3XtQbppgP6rOV4/J7Hn5yrXffO4Le71mndLcIzN2PipgvUZzoHTqdvmf6vo86frwnUyWeMAfIZ4j3OuuDRT+PXeIJ7238cIR5+FzxHGSxfJflWLmkslsOzyQ8CjBk6h04yv0tPxZDv3APy/sYx7DScgNcCRIHxHAJyhAVO7lPrKxbHgNLfAiGsXUDiCmZFx4WiikUgr6lmPBSWRWBfCKgxFM+0de2FQFFoCQRKIQXoVSIJ7gMw4tn2As499SAMjwowIrG/SOP+vAHJN6+NW5dkhCABQa+5JIv86gTf1j5haosj2v4elW+QOMYRAe+LMOXq/xavk3bzrKoddXn/hGl1QkyJsIn1f6DiKOcYcQT+x2kWMGXzPHk9XUu4IQuNiDDC0ePxeTA17yUL2zMo+INpQ+++HUVNmgPm+CCnEg2UEb8sQZOLlkD67eg+pLBnzLgC1Z8gcm2GKOtsL2lMKboi/vHGWWXLlsVeP/ijzi+VuS4sx3E+KPv3vO0EMKf8XiB9bjKB3lPY7zd5xf1YpP1sIBxnD1nfoy8kB/jG/QHF3XBigvKIsqFGDjBXQ726uD1bBFPgwesSUg8gRCBpRD2LQKhQ5kYdxhSUWfV9FGt5c/SM2tMk25+sgplOw7tYeuauucJQ1d2PSdVeiQM6xyzYYqBpZUkgpAGK6Jlr6z18kuyZsb++QaWUK6MIH5GrpkYWAZyPtK2ma9PKI+2YQWFNh/v3Dqm7JznFtnrlBdWXlKWWc8ujCHfkBd9jrdXlqxD3mv4ypr3KNtEjK9x5Z4usowknoJcqsq8OAaxQ3Ko1ehZoQSNJH1ghUR5+q3f7ysDK6M/NGzhpSPf7+s3tS76Ok6r3ecnHvHUZU7t5uwo13bifF/dUoaGFbXPT7PqyTF5+qzd6yOwply4GZOHdZGwIGkSb88hWPa0friOGCMGIH6WVNZZQbFOxLSGimLxxHpWDJppmtXz369oG+QX3OXRIoj5k4nRFxA/7ANikEcgz9AXXpfEE+rFXlZol+mI0f9lA2dYy6k+zSq89N3jYskwuNBjWZBqYbLCoqtTo/YxBBTKVrXu61lphZXnff7225e89tyPHZjHjVMlnvgBAt7VgkKq70ZBdchrkE+ukUHWLpJwC/qwBvXBZay7rqNe7BGFtRgWzlSgL1y4zBMBcw/WLykDxgVrGN65kw1R34OivI9Apijl+L4c9X+Bi4V8r0z1/V7WJYkP971G5ot3nOgdmmtP1L5n+r6PMn68R8Mw4j5EQc8InjNp2c55i/+/eO4ST8AcVj7zFywJfEZct5fuGMFlZdB/A3w8eO3adV/2dN+B072/8X+V8x/xQAxZ6UHAJ7AxBtZSwJD58a4sQxTscG9wrsJ7u/y5/0HWrNkgm7PHeG9CGcr05ZdfxeQp5AuFoG8pZHxUNkWgkBBQ4qmQRkNlUQQUgZJAoFxfhODmBH/o8KVXlJdXSTyRkMEfIBAFsCRx3RYE3SyQAX9w8ZWgtFoKypvpa+n2P9Py5KK+dPDG14tw64bxotu9VGTmHyX5xxrWWajv7t27qVSVMC9cYsASA/c22qC7j0QFoeCCEuuTT656ruUSlcG9jw3Oa3H5a6LsGUuHsh/Pb5AyL6wRKOmAB1yi4Rl1CbKwcsiH/sENkmsZFVbGvR7mMi/qdUmCyOPlr64z0/Y8YV3awS2dTHOPV57fYImWBceXG1hOuenuOe9hEE9Mg7s6uM9b9/aT3jWmBcVwazf/xWVm+jNzDYilZNqFSz7khzu8oL2ZgtpJ5trai1vM7OcWmZkH5ptlZ9clJT/rdccX55jzMf9DiZ4MGRlUR9g1EjCZjie/dt0MP3jOTDh9JZT0yXSbUeoLIy7iXcd+RmsGzzHLB830WQTFK5OJtKdHLzMgoRb1n2r3fHJd2UVpA1ZIq6pmmw1D58W4xgur75kJa6yrveUDZ5ggV3lh5XAdxBWfd7r4i5cfaVtGLDIL+9fYNpMtI+93fHgBJXiy65Usm8njQn03giIYH0ddufJJ6McSQTgAT6x3eH/Bni54T40aorwHRX0fiVouat8SlUv1/R718UM4PEvJvm8kkiNb6Zm+73M9fhgfeAzAD22nEvBeB7fUb7zxVlKu1mXd+D+Acng26XZPphfSMf5rXLp02b7Pyn2r0pExWezknrx4nw4KyENiCh+YBQWSkLB0K7ZQrvqWYhsnlVcRAAJKPOl9oAgoAopAhhHQF6FogAYRT9Fq0lLlgACVeJJ4Kod+ax9rEYhKMIWVIwGSy5j3sCSectl+IbWV6/s6CllTSmUSkR6avj7UKikKNi3rt7TEE9z5RSmfbJlcP0faniKQSwRoqRZkqZNLObQtRSDfCGAfLbxDwvIqXti1a6/NBwsoN8D6ktZxQR423PyFdnVMU3wAACAASURBVK76lkIbEZVHEQhHQImncGw0RRFQBBSBSAjoi1Ak2OzGrFTE0uIpWk1aqhwQ4L2ixFM5jHZsH8MIpKjX80HC8B5W4il2z6bYEc/slVIikaL0JVkiQ/OlT0DBvR+fdVgwZRPTzD4lWpsiUDgISAsPWIVrUATKGQG4qOa6AqvNoACrQLpm79qtd0yW4yde8uqAhV6xBdW3FNuIqbzljIAST+U8+tp3RUARyAoC+iIUDVa1eIqGW7mW4h8uJZ7K8w6ISjCFlVPiqXa/qnzggDZzHaKQNaVUJpvkh9ZdS1bN6T3BU+phvfrT7+uZ/RPXKfGU64dd2ytqBKRyHM8R9gHKt/vIogZUhS8JBODCm/+DEI8ZM9EsXrLCLF++2kybNttgP2OZDlfaDHPnLfKlhe1nxvyFGqu+pVBHRuVSBGIRUOIpFhO9oggoAopAWgjoi1A0+LAvE1+S1eIpGoblVIr3ihJP5TTqdX0NI5CiXs8H4cJ7WC2elHjKNaml5FD6lkyJMJzVa7z3TvPb/73XLBs4I6ukE+TRoAiUGgIvvnjCe47gLgx7/2hQBBQBY/eQxd5NfJcMimHphL1mZZg1e55XBgQVrAmLMai+pRhHTWUuVwSUeCrXkdd+KwKKQNYQ0BehaNBiI/mvv/7G/vRrxmgYllMp3iuFvsF0OY1JLvsalWAKK5cP4mn5ufUGv/WXtpp8tF9Ibeby3kFbuSZ6Cq29RKSJpqdPTO0dv9psG7nE7ByzwhyYlH59yYxJrp8jbU8RyDYCP//8N/u/4M6dO+bf//53tpvT+hWBokPg2vUbBu4nDx8+avbs3W9A1r7xxlsm7CPOO3f+ap+pH3/8sej6KgVWfYtEQ48VgcJGQImnwh4flU4RUASKEAF9ESrCQVORFQFFoKgQCCOQol4vJBKmHGXJ9c1XaERQruVJhsTQPLkhizKJc66fI21PEVAEFAFFQBHIBwKqb8kH6tqmIhANASWeouGmpRQBRUARCEVAX4RCodEERUARUAQygkBUgimsXDmSPYXU54zcFClUkmuip9DayyTZoXUVDkGVwiOgWRUBRUARUAQUgaJFQPUtRTt0KngZIqDEUxkOunZZEVAEsouAvghlF1+tXRFQBBQBRUARUAQUAUVAEVAEFAFFQBFQBMoPAdW3lN+Ya4+LFwElnop37FRyRUARKFAE9EWoQAdGxVIEFAFFQBFQBBQBRUARUAQUAUVAEVAEFIGiRUD1LUU7dCp4GSKgxFMZDrp2WRFQBLKLgL4IZRdfrV0RUAQUAUVAEVAEFAFFQBFQBBQBRUARUATKDwHVt5TfmGuPixcBJZ6Kd+xUckVAEShQBPRFqEAHRsVSBBQBRUARUAQUAUVAEVAEFAFFQBFQBBSBokVA9S1FO3QqeBkioMRTGQ66dlkRUASyi4C+CGUXX61dEVAEFAFFQBFQBBQBRUARUAQUAUVAEVAEyg8B1beU35hrj4sXASWeinfsVHJFQBEoUAT0RahAB0bFUgQUAUVAEVAEFAFFQBFQBBQBRUARUAQUgaJFQPUtRTt0KngZIqDEUxkOunZZEVAEsouAvghlF1+tXRFQBBQBRSCzCIwe+rTRX+FgkNnRTVzbzPduG/0pBqVyD6x89XOjv9xhkHiGCc6ha07hrDkYi1yHUplvctWPXI9Poben+pZCHyGVTxGoQ0CJpzos9EgRUAQUgYwgoC9CGYFRK1EEFAFFQBHIEQKqAFQFYK6UZ9qOElzZvgeUdMod6QSsowZdd3TdyfZcUEr1R33OSrWc6ltKdWS1X6WIgBJPpTiq2idFQBHIKwL6IpRX+LVxRUARUAQUgRQRUAWgKgBLSUGnfSlvckuJJyWedE1LfU1L8bUh7ew6T6c2T6cNeIlVoPqWEhtQ7U5JI6DEU0kPr3ZOEVAE8oGAvgjlA3VtUxFQBBQBRSAqAqqkS11Jl03Moo5j1HKqAExNAah4FTZeSjwp8ZTN+blU6466fkQtp/NoavNoVJxLtZzqW0p1ZLVfpYiAEk+lOKraJ0VAEcgrAvoilFf4tXFFQBFQBBSBFBEoVUVasfYrxeFLO7sqAFNTACpehY2XEk9KPBXr3J9PudNeSFKsQOfR1ObRFOEt+eyqbyn5IdYOlhACSjyV0GBqVxQBRaAwENAXocIYB5VCEVAEFAFFIDkE8qns0rZjra2SG7XM5VIFYGoKQMWrsPFS4kmJJ11XYteVRJhkbkVJriadR1ObR5NDtXxyqb6lfMZae1r8CCjxVPxjqD1QBBSBAkNAX4SiDcg//vEPc/ny++af//xntArKrNSVK5+YixffMZ9//kXWeo7xQBu3bt3OWhtacSwCP/xw1+IO7H/55Rdfhnw/J3pP+IYj5uTf//63N3Z37tyJSS/UC4kUUuWWPmzQJjOg91KTr35n6j7Benr16qfePfnTzz8HVu0pAC/fMqOOvGWmnL9hvGvvpaYcy2e5CWeumGH7z5oRz1+Ilb8I+jbswFkr/+Rz12LlL7BxwD0y6sibBSlnMRJPy05fNzU7TpnlZ66bTMg/++AbZvK2EwZxJuqLV0fgpJLExXzNr4XabmWfZQZrT77kS2LIksqC/wyXLl226861a9dDy3CtKOS5hDLGi+PN25nsWyiQZZqg+pYyHXjtdlEioMRTUQ6bCq0IKAKFjIC+CEUbnfbtu5n/839/ZYZUj4xWQZmV6tqtt8Vr3vzFWes5xgO/5547krU2tOJYBF47f8HiDuzv3PmrL0O+nxO9J3zDEXMCRT8xOnnyVEx6oV5IpOgaOmiTGdh3pf1V9V+dlGIM+bp2rDEd2o41/XstNiOrn0qqXCJZsp0OxR/HsF3rUXmRORP3CQinB+s18vqCPn388dXAqqlUazdpgc3/X7++z0y/9G1BkgqUNSjuOnedlf93Dz4eI3sx9I33Xd+1e2PkD+pvvq5BmUpZuy/YVHCyxiNJCjWtXuMOFtMmXasyQhQ93qm/ra9t5fiM1BcPt8BJJYmLQXM55l+uNYhHVW9Peg6u7LvcdO88zWDe7t55uhnYd0XSZYNkyeW1Zk0G2vH6f/91T97WyiSGLGGWhQuXeXMD5ogRI8aGlsH8VehzSTJzLOdCd97OdN9CgSzTBNW3lOnAa7eLEgElnopy2FRoRUARKGQE9EUo2ujcd399+2elTdvO0Soos1JKPJXugMcjnvL9nPAPtpKRwfdfKRJPo6qfMr///SN+ZdLgraEKPVgK/epXD/jy875p03J4aLlcKvnitQVlJ+Vt+nj/GHlHDH7SKkarK9fHpMWrN5W04Lsrtatz5y2y/fjNb+83jZu0sr+vv/4msBIq1x7vP8rr+5TXPys4QoFyhsXxiKdi6BvvO1eBGdbffF0fc/ySd5+0GfdEwd0n8UiSZNJWnL1pZu1/PSfWQpTn1/fUs5j++bF2GSGK0iGeUu1/4KSSxEV3TgRR9D//c593b+F56NltTsJ5FmvO/fc185Xjs/TAn1qYQf1WJqzDlSXX5w0e7uLJH2T1NLj/GrvuYD3OlmxJDFncLLdv/8XrA9ec5ctXh5bB/FXoc0kycyzvNXfeznTfQoEs0wTVt5TpwGu3ixIBJZ6KcthUaEVAEShkBPRFKNroHHnhRTNmzERz7tz5aBWUWSklnkp3wOMRT/l+TvgHW4mn4PuvFIknfD3OcWcM8iVI+dWv5yKDL7aZDwTUH+551DvH9RbNBgeWDaovX9daNa82jz7SwwzqtypGVsiPfjzWqFdMWqbkDb67UrtKa6fjx08mLEjlGlzUNa4cYyoWP1lwZAJljBfHI56KoW98blwFZrw+5yut08yVpln1ZDP2xOWCu1dI5kSNJ2x5wT7jf6zXOCMkUDJyDF+2y7TsPcKM23g4I22mQzyl2v+EE0xIBjlfwipWrh18Fnp2mx13nsWHArIciKs//uEx3zWkVw/cELceKUs+jvv3XmIaPtzVtG8zJkZOkE3EY0jlupj0TMkbMkxJXz5w4JCVs1nzdkmV4dxVyHMJZYwXc2yC5u1M9i0pUMsok+pbymiwtatFj4AST0U/hNoBRUARKDQE9EWo0EakNOVR4qk0xxW9ikc85bvX/INdTMTTBx98aF555ZzdbyDb+JUa8QSrHir1HvhTS0/5FUY8/e53DWwelOnTY4GnIMMX3H+6v7lXfkDvJV5appRmuaqnRdMq249CJp6w1xif1VSIp3jKtWJIi0c8FZL8U9/8wlTtOG6qnj5m5H5OHLMgBWa+5A+TNV/yJNNuMkRPvDzjNx2xz08uiad48sRLW37mhpn45Itm7PpD1kqLedMhnlLtf9R1lXN274p53joD4gguWvksJCKeQDIxb7dOU711BWRN8yaDvLRHGnT30thuscRwU8s+FjLxtGbNBitnqsRTMs90Iefh2GR73o76nJVqOdW3lOrIar9KEQElnkpxVLVPioAikFcE9EUor/CXTeNKPJXuUCvxlLmxXbpslaewgcuxbIdSI54eaVC79x5c7VV0melhGUQ8wdqJCpjuXWbEKPlQhm6UGj/WNya9WJSAjz/ax/ZTiafbBWfpUgzE0+TXrhvsoeU9Kws3ezjyWrYVmMkqcePJmmwd+chH8iVqPGLFXjs+xUA8PdS0k3cvyf2h0iGeUu1/1HUVc36PrrM8+WEhC7d4sDTlsxCPeAJhxXyd2k0IXFPuu7eJzYO1p1jWGFfOoQM3ev1U4qnw1h3eg9met6M+Z6VaTvUtpTqy2q9SRECJp1IcVe2TIqAI5BWBfL0I/fDDXbN58za7kWvHThVm1OgJZuu2p82HH34UF4+LF98xK1etM5UDq033ir5m3vzF5viJlwy+mA4K69ZvNviq7bPPbtrkO3fumBeOHjPrN2w2//jHP8yTW7fb9DffvBhU3F67du26zbNlyzYvz+HDR+218+cveNfkwS+//GJgZTF37kIrZ6/elWZKzUzzxhtvyWy+4x9//NHs2bvfTJs223Tu0tNiAvm++OJLX75kTqBQRp9Wr1lv0HafvoPM9OlzzMsvnw4tLvv0088/mxdfPGGmTJlhZUEcrywqhfw7d+414yfU2DIYG5TB2EQhnogh6kP5AQOGmFWr15mzZ88F9oF/poD7t999Z7EcUj3S9OzZ38yZs8B8dOXjwHK8CDmPHTtp5i9YYsvgHsO9dunSZWZJGMNSBffboUOHA/PifkE6sA4KuD+Q7n71/9e//mCxBKa4NwZVDbP3frw+pYpfkDzy2lsX3zYgRnA/Adft23faezMe8STvKVkXjqPOAa+99rqBH37cD8ACLi+BN/rrhnTuiXSfIcjy97//3brjxDz0+edfeOL98su/zLOHnveeL+CJPCCbGjRsYjAnAmc33Lz5uZ2zMF8iT83UmWbvMwcMntd4AeU2bNxixw31Yl64fPl9kw7x9OWXX5lt23ZY/CEL5ojdu58xuFeDAuZu3Ntwb4OA+wYbe2MMR44ab57esTtwDIPqchVdOO9TMd9TdkHBBwUgxz+IeCIhAwVf2IbwTRsPsHXAImrkkG0JFYFop2XzavsbMmBtYP4ObcfZdMgo+9G3xwJ7vVP7ifZ6r+5PGLR/371NTYP6na1Lo7D9Mlq1GGrLVvWvc7XXttUo0+Tx/t6X+fjSnrIBK9n28KrNBvtZPVy/k4HiE/t3tG010mAvEpkv7Ngdo3ffvWzvMcxTWKexfxPcbv7rX//yZcV6jHsC9yPHCvcCruF369ZtX36ekBwYtv+s6Thjhem9apdHhjCt06xVNm3cyffMxLNXTc9l202jntXmofa9TavRs8yoI2/FlGHZmgs3TZcn1pnH+o4wD7ToYrDfUrf5G83Iw2/ElJn65pe2Hcgx4fSVmHTU2WPZUzZP9TOnfenxiKewvk185WNbV+dZq820t78xo49eNJ1nrzYPdexjGnQbaNrXLDGTz1/3tcN+JYqBVbtJC03Diirz51bdTMtRM6wrQ4wNcMCv38YDXt0cszAFJvDos3avaTp4oi0LPDtOX+6zmpIyxfT58i0Dl4Nd520w1XtPee2iTKqyyvtBttl3/T6L55DdL5mpb31p+m961jQbMsn2H/HAbUd87cqy9vjyLTNg8yGDvaNwb2EMOkxbaoYfPBe/3Ht1CmlJOM19/h1TvXi7adN/rAFJ07yi2vScsMgsOPp+jEu7kaueMRVj55l769fuF/Tfv7rX9Jy4yP6qFz0Vk1+2g+N5hy/ZvL0nLzXLTl8zM/aeM72nLDOPtO1lQARVjJtvFh77ILCeYUt32LITNr8QmL745MemT81y06LnMNuPVn1Hmx7jF9rn/P6GLe21rqPmeGUl8bT05atmxIo9pu2AcaZ+sy42Hr3mgJeX/Yjaf84jqcYjhmz15tPf/ra+4RyfLPGE8l06TrHzOayCgubT5v+xUMWzFbR3UlAZkGGY2zt3mBxYJ/ai4tzvlpdrByyGO7YdZ+rX62Cw1xQ+uKjssyywTne9Qr2wDG7ZbIiR1sbYdxBtYz1x28Y6hA8i/vxAK2thjPUK1mNB67VbFucy4B0I70L8/zRixFj7H/P69Rsymz3Gf0asL/hvAJyxFynXHPzvCQt89sPmEnf+wpzSZsI8O5c81m+kqVi0xcy49F3ovID1ofmwGlO/Uz9Tr21P03rcE6bfhgN2XmLbjAdtP2rnLcyvvCbj0S++Y9OxLs28fMuXJ968Hda3KPNkGI7lej1f+pZyxVv7rQikg4AST+mgp2UVAUVAEQhAIB8vQlevfmoVrHz5dWMotN0ApfKSpXWbqLtloLi9c+evbjFPmQXF9LjxU7xzlP/2229N9dDa/UDwByQszJw115aDgpQBpATqAJnkhq+++toqU10ZeQ7yxA0g3Bo9WufaiXkRQxmNP0rJhr/97W/eHypZD4/79a+yCme3Pq9PU2Z4uLAM49lz5rvF7PmNG5/ZzeCZT8br1m1KmXjCn8g2bTv7xkvWibFEP2Vg+vand1nlPc9lHEb4/OUvf7FEhswrj0FAgSxIFEAcohzGLIgM5R9dpAcRJYMHj7DloahlAGGBP8ZSHnkM2dwQBT+3Dp6jHyBqZZs8xr4sIPp47j6D3j3lPCdR5gCMN5QKbMuNQai4mDJPqvdE2s9QzUyzY+cen6xQvCPgXot3b4MgDgooj/uGfZIxNsb+5JOrQcWs276wcq+++ppX38mTpwLLB10EMRpWJ4gzEA9uAHEPmZGOOV7Kz2MQWIlINNTrKqFAyMDKydb/cBebnoh4uvePj9v8jRpWxNTH+kH+ULZkNnzHvhzML133sT7ElBMKOnm9TcvaZ/83v6ln2rUe7dXD+hCDFApSyjFPF6F4pLUW02QMRSDbhlKS7gllHh5DFuYNiznWmCNXrFwbKDvqwzOKjwIYoBRkO0Hxxx8H39NUsMUjblhf90VbzO8erB1rXmMMZRrrYgyFnbTwYV7G3YXFD8pMevWq14eh+1+JqQ95/vhoa5un47RlvvR48oelDT9U98yC8KBcMv7fPzxkCSn2KZkY5Jiswz2ecPojn+yok3mCiKeBT9XuO8Q8Mga+UJy6csk+Dzv4qkE/WK7F8Kle/kzKCqIIbYBkatRrqNce20XcctRMr20pMwi+Bl0rA8ugHAioGe9+H1hW1kMiZfTag6F1gVQas+5ZH/nSsvfI0PwNW/fw5WUbMq7Z8bJXnlZDst84/vU99SwhJcvhWBJFbtqU7SdtObcunmN/KLeMV9+AcaZpt1r3oMzPuGN1ja9c1P5z/kk1xvwHsgRuWGHVw/kwWeKJ+ePF3JMPfR4+eIvXRrwy/IgCBE5Qvu6dp3vj7H5kQWwxz2Pt4bmMQZa59cr1immw4pLl3GPmQwzCyU3nOT6SIKkny7jHHD+sE3gHYnk3PnjwOWa18dixk0LzgrAKC3xmWb8778n5C+sE88kY5D0IbtbFGPObzCeP72/SIeajhpYja8cUJBXrkHHlk8979blzEOt25Uf5sLQo82QYjuV6PR/6lnLFWvutCKSLgBJP6SKo5RUBRUARcBDIx4sQla5QpuOLd5AqUGxD6ciX3nPnzvskRT6mDRs+xhw9etwqVGGdwusgVNzANEnqQGEKn974mhoKVOb5+utv3OKWoKGCddeuvV56mEIdim/ZFhTl+/YdtMq4Vq06em1J66Hvvvveu462YPmF/uPPEuSkfG+/fclrP94ByQvUBWIMZAt+wId1rVixJqYK9gl5UBbWNZABlhiS+HCtttBnKJNZN8g8WLPB+gmEIK8jRp3JBDmusKQ4cuSorQ9jz/pg9SIDryOGPJAb1hVok2noF76ylwHESvv2tS66kA/32qlTZ+y9IeWHxUiiAMs6tnXlyie+7LDwYRpi18oOSlvIhzS0jwCSgtiC5OHzsmfPPt99BisgGaLgJ8vLY27ADLlwH0CxDOsUxPK+QHqyxFOUOQD3AdrAD/cqiB1Y3MDyideBjwy8jjiVeyLdZ4hjxvahFDl95qwVjWQ30jBOGDsQ4/L54/izLyjLujCPYExQDv3nPYP47t27LGJjV7E/a/Y889RTO+0cgzFgWdSdLPGEuYmyoJ8bNz5pyUfcD7K+zx1LTRJPLAtLNXyhDBKK9wPSYP2SKLgKKEnU0LVPIuIJbpLQXvOmg2KUaqy/su9yr6+uhRLzyDgTxBPxwcbtHduNtySU3BfEJazQPstI4glfzuOLdfYTMc7xkxZPrBtEFSysoKRs3WKoJblYb69uc0IxQvsMmJNZBiQ75gncqzNm1BF4eBZIEGMNhjUqfiwHCymcg3wPs56jgk0q+niNMetDDOIJX3LDMgpfkTMNBMiU8zd8ijso+ZAO0gNfqw/Y8pyBdREUhiw3eOcJr0w+iSfI82CbCvslfbcFG62FFmWE9Q2xSBTDqojlUF/P5U8bfH0P6ymSP+i/+7U+y7gKzGEH6uarPzXrZPGr3HrYYON6knqIJ5371CcjxxP1/vr+hp5Mv6/f1FpKoR+ZlpUKVbQJmXB/9F69y94v7DvSXGs1WBGgb8QA9wrINpCBsKzjdVijJcIfJMzkp054Zeo17mBghTRq9T7Ta9ISA9IJ9SFecPQ9j3yBZVSn6qnWKojt4Ry/IQu2evlckofnknhC+YdbdDOVs9aZ/jPWWEsr1hlEYnlEUeV4XzuwdLrngUetvIhhQTVp6zFbJyyd2A9YdlEOxKyP6Z2HzzBDFm4zvScv8ZFY2B+K5aL2n/NVqrGc6+VxJoknkEfAIBVXe5kgntAmiCdYQMHqFtZHuIYfPkxwra+CiKe+PRfa9QWWsyyLdYzrDjGTbnAffKC1tbKCtZYko2Dpy/xhMcbv9u2/eO8deP/AB4p4n4K3CPn/iR/+oAzSscbI/5xch+ARIyzwOWbf3HlPzl/I8/iAMXYuBQnFdQXXYfXJuhDDqpJ1Pty5v7XOhSWTJKNggSrL5It4gpzJzpNhOJbr9XzoW8oVa+23IpAuAko8pYugllcEFAFFwEEg1y9CUEzzBRvWITJAGQVlE6wTZIACk2VgPeMGkFBMh6szGXgdMZS0sAqQliiwbKCyFISPG0AQsQ7p9odKYtfiCYpU5g8iaOhyDspyBlg4oAyU+CChZIB8VMriT5KUXeaTx/zi3CU2kIekGGI3sE+QBRYpMoCUY7/g+k4GuAxj2v79z8okewzSi+nJEk8k6eBSzA10UQY3YTKwDZT96aefZJI5cbLuy14oQmXAH1KWdccM+aCsRzruE3kPyDrkMUkHEG8ywI0f20G8ePFymWw++OBDL50Ews8//80SKxgv996AZR3rA8EpQxT8ZHkeS1IRdbqkHdwr8v6ELMkQT1HmANyP7OvatRspnhcv+8/eSCDnQNYxsEyq90QmniFYSsK9HFx6MkBJQplc60G45eNcBHKKAWPAr3nxjLr3PSziWCeULjJMmjTNS/vooysyyR5LC7JkiCeQo7y3QCzg/pQB/eP97z67kniC4kcG9JH3EcYwUZCKKJA9tNhp3WKYp6yKRzzhq29iBpd0sj55LImkrp1qQvOxjMwf1eIJcrkuk2DRRYIIBBLbY8y+SOKJaQ/+uY3tK5R6vMYYykSWhYslXkeMNqF8TNbiSc5HuA/dtQouS9kWiHMZkJdprptRmY/HVMBR0QdiidcYs777Hm9n4A6P1xHLr8Glm74pr3/myQHXfLIMSJfWY+cYWFDJ6/kknppVT/bJArlaj6mzCh178nJMupSdx7DoIV5wS8jriOHmjmmjjrzpS+N1VwE77qX3LdkHAsYlq2BlxnL91u/31cfxRDpcB1Y9fczA7aGUJ9OySuIJ1m6yrQlnrniyNhk03pcGF1jsRwwp9d5t66YQ6VDSTj53zVdWtoFjEClznn3TEjbY92j5mRseuYI0uLVjW8OW7vSlIR0u7ZCe6h5Pknhq6xBIqLfT0DpLmdkH3/C1S6LILTdyZe1+U5AHx6iHv5odp7x+DJi1zruOdNaHcjP3veZLm3f4Ha8cXPaxPsap9p/zSKqxnB/lcaaIJ7nvYJPH+vnmY9mee5wJ4ukP9zwaY00rLaXoApZtBxFPTJP94IcgTENMUgtrmes+tn/vJabeg21NUDlZB44R5Ps51iAZ8K7Ej9XwXoH/UzLAvR7uNxBUyQQ+tyiDnzvvyfnLdYGHeZDkE0h11oWYH0PgujtfgmjHHAUXq7JMPomnZOfJZDAtpzy51reUE7baV0Ug0wgo8ZRpRLU+RUARKHsEcv0iBJdsfGlPRsGEAaKLPSjfoaAMCvxyzVV2si3XOkbWQeUsFJ9uwH4TqEMSRchDksYlnqiUhSu4oPDNN99aSy2mgWCgjK4ylnmwpxHzuIQQ87hxkPUW8si9NNw/YewTrD2CAggnyAGsZSCZFs9dIZXRyRJPtKRxlfOyXfeYGIFgDAr444k82KdIBt47sKgJCvjqnnW7CtOg/FTmuy47aLFDd3su+Qe50Y506Yj6QVxApyKr7QAAIABJREFUoR8UWJdbJgp+QfVjTyr2PYjIRJlUXe1FmQNASEMO3EdBcwCuwSoO5I0MlD3VewJ1pPMMueNBmWClRJnef/9DXvZiKlEk+QIynWXC9nvDPY08GHcGPN8sBwVLUJBkQTLEk7R2CpuLYMHKdqUiiMQTyDV3rx/IJi3rXELLlV0qoB5p0N22hz035D5M8YinoYJwad9mTKiCTxIzyRAwmSCeQKK57pDQXyj+iOuIwVt9MvN6qsSTVJh27zzNV6fEONExxofWTrh3Jdkqx46WTXiOZcgm8QRLIKmw4zEtatpNXuSlg6ghlrBcYd54cT6Jp5HPX4iREaQP+1C143hMelBf8DU9yjSsqIrJD9KE9UmSDvXwuquARRrc0GEPKrc9uJliufY1i33pUnHrkoWsJ9Oyknh6pMdgnyxsD4QT5IXFF68hpgUcXPTJ6zyecqHO+hmuAXk9KCaBgv2UsNcSzxljzyNihj2deJ1xqsQLy0niadquMzH1ggxju+M2POdLJ1HkEk+QD2VgnbX8zHVfGbRLqyeXQGJ9jbsMjCmDcsiPerHvFeVnnGr/5dyTynHYPCjnUaw7YfniXR9Sud6zTkU/k3E1x/oyQTyFfYBBi9nmTfyWwekQT480qJ1v4HaWfYgSwy0v78+wd3O4dmUe19V2tognkM0zLse62MT8SVmmXfzKmxOaDBxnr8Mla9D8EHQtX8RTKvNkKs9WOeTNtb6lHDDVPioC2UJAiadsIav1KgKKQNkikOsXISgc+VU/vuKHtYlrneIOBjYox8u6S/LIfCAokAfEjwx8yYdyPCzIfU6uXbvuZZOu0dzyJGmkTFJ5BsunZAKUz5RRKmllWWklkYxyWJZ1j6Xi2HVjFNQnWR6WJpBVKsWRTpIjyBKF5UlOJUs8cczRHtw1YT+uRIE4umPFcthfBHkmTprKSzZOVA6Z6LJD7r3kq0ScYHNi1Alc+NU/7nviJMdcbnzMPgftASaq9x1S2eve96wLciSLn6/i/5xIC74gwgfZXhPkVDIWT1HmALrTg3u2VEKisQ27J+K1kc4zJMfedY+INrn3gCQlSUi6ynopo3QZSqu0a2L/nDDSEF8EE6Nk5ha46UN+zOFhQSp6MLcykHgK6wdkpCyw4ooXqKSCVRHLuAq/eMSTJJSSJZ7i5aM8mSCe4O6I9ckY7vHY16r+q315eD1V4gkEF63Ffve7Bilt7C5lw1jRLam01nPHEG6MKKskF+XamcwHKVTEkaiIZ/EURIqgPCxqIEvTqgmesg/KQigNcf0PDVvUbuzuWEuxbcb5JJ4mnL7iyU55sJ8HMYbLOF6PFzesqHXDCzd7br6xx9/16nMtlNhOGMZuXTwneYQv/XkNcbzxZL5My0riKch6DG12mrHC9t+1Ukim79zbC5ZylD8oJoESL67frNbVI1zQuflSJV5YXhJPrus75FnxSt2HYnB7x3KISRS5xBPc9BGbxSeu+Mqgvt/e18Cmtxs00ZcWVh/b7DWx1mUyyvMa41T7785LyZ7LOU8ep0s8Yd8+WrQCu6B5XLbnHmeCeApr84E/1bpHdPdCTId4atuqzgU3rJ8q+yzzrWdu/8LOpZeAj658HDqMeJ8CrrCMlyFbxFPQeoTnHpaRfDbGvfyBNyd0m1/73wppmBNHvfCWlxY0X+BavoinVOZJibUeG5NrfYtirggoAtERUOIpOnZaUhFQBBSBQATy8SKEvVn48s0YJBQsj4KsAPinAXmh8Az6sR7EMvB6GBmBvFCokxRYuWqdV1x+ge+SY0EkDayZ2J67R4tXqXMg3bwF9YvXWC+Ut8kEKG5BSkAJCIse4IsfrX5QH4g1GYL6JNOpAJfEk/ziEC7wwkKqxNPly3VfbbPvUFhDuQmLChI6sj3mCxtr7tsjXQWC0GI5Yh0UMw8wShTg6o35aRXC/lDpTsIDinwESca8dfHtmCawvxesYUAowTKP4wlZ0ZZrrcf2KAfiRPjFNGqMtQ5DWTnmbr5UiSeUjzoHLFiw1G0+7jn7n8o9wQqz8QzJcYY1pQwgjCivJNjoihNpQfcm7wGWfffye7ZaaSnp7rfEdlMlnrhXj0t0sj7GlAWkJ0Mi4kkqkW7e/JzFAmMoouCiB+6B0Fb9eh1iFFfxiCeUp4xQgoUptqor13v5krEIyibxNKB33X6GVRkintBvEGrEgjFIKCga4fYoDBt5HYPEdTrexwXvvFNHYkhFYT6IJ3y5jf66LtQqFj8ZgwdIqKaDJ9r9hVxFYKERT5CP4+haKLmy87xi0RavjOtGqe3EOsITJBTLyHaCiCe4jOq/6VlL7NXv1M+AhAGO+FG+NhGIp0zLmoh4gsUc5JXE08Szn3h9AFEZ9mM/0YbEzT0mgQIXeyNW7DGt+40xjdr1ttZB99ZvZvBjXV2Gz0ybeGF7iYgn5GO77p5RYUTR9D11+3sNemKjT9Yx65716quat9mXFlYfZSWhVWrEE0gnkjvAOmgPPznXBh1nk3h6qF57O2awLJZtp0M84cMPWCjz3kKMPa2AAyyvXIte2a48lh8yuB/SyRcH7m/rfhSRa+IJFqrsMyxTOQ/AxSv2sWMaYuwvh48jMP9I6yiWKTTiKWielGOgx0o86T2gCBQTAko8FdNoqayKgCJQFAjkg3gCMPi6vn37WncL8mUbx1C6QkHLQFIIaThO9GM5xKw7TPHMvHQBJC0N+GfFdd+HMkEkjdyH5vSZs6w6box9rihjon4hPcxlmGwEfWWd8WL3j1pQn2S9QcTT99/f8toKcxWIOlIlnlDmww8/MiSL3H6AaIFlhQzMEzbWrEsST3LMoMBPNAau+zzZvjyGfJCHlm/rN2y25yCPEIgl7jEEKGEpP8gAGei6j+lBcRARkCp+sk0e0/UbCTNel3EU4gnlo8wB7r5YUo6gY2KVyj2BerL1DKHuxUtqv6CHbHDJB7IbOEtS+MqVT7zuYP5hPxLdn0jHXjoItLxD2TAXfakST5QFc3e8QHmlFWSmiSe4vmM7LhED5VQi4gmWRSjfrEmlT6EmFVsDei/12gjbs0nmL0biCfJ37zLD3PvHx72+ElfE2Bw+yPWf7DfuBdx7yB/vGZWEuLTCKyTiCYq9yq2HzZ+adQrEAxvGSzdKpUA8TTj9kVV0Yvyg8IT7uE4zVxoQRrwX0G8qPRkzzSWepr39tSWamB4WR7F4yrSsUYgnkHPsE0gnYBbv91jfETHYEUPEIFeWnvrUc0PHuoPiXFo8RSGeVp69ad3hUXa4zus9ealp0XOYdb+H69iLCu4DSSohLkfiCS5f5bzbqsXQ0LVIzrfucbERT5AfayXkpsUt7xfEIKF6V8xLiIX8/+R+HCjfT/jfBh98yVAoxBPmAKwjLUfN8CxuJR6YW9x95JR4kiNZHMf50rcUBzoqpSJQWAgo8VRY46HSKAKKQAkgkO8XIVjdQAG1fftOb3N5vHBL6xkoZ3EtnkIrbCj48h6meGY5+SU2yAi4DGPZl18+zWxezD8y0tWetP45evS4lzfegXTbFe+PU7w6ZBoseGgBAfdksH6Q9co9ZjJh8SQVhrt27ZWi+I6jEE+sAPuFQGF58OBznjsnjA0s5GTgeIWNdRDxJPfBSZYslG2GHXNfMrhOQ+he0dfeT2xDEl64b3bvfsam476SQe7vA0sCuOaT+xjR1Z5r8STrSBY/WYbHmzdvs3LhngoLUYkn1pfMHMB9uGbOmstiScVR7olsPkMUGu4UKZuMobw/cfJlZrMxxzgR2eMrZIx59926/Wo++eSqm2zPUyWeVqyodaMUj4iUzxT23WLINPHEvSegpIICy/1hg3Ji+1ijXja9c4fJnjLrvnub2PQGD3fxrrkKvR5dZ3l1VPVfFZqP5XzEU8X8wPzY1wJyuV+2x/uCHPVny+KJsiMeXrXZwKUfSD3p+qlzh0mBfWFZjDHn+JqpMznkMbFc72AhzCDXkVy52guzeJKEQM2Fm1bh133hZm9jeIxdnzV7PCJBEk+ucpB10eVax2nLvHJIi+daLixt+KHXvHsyyNUe6uV9n6zFE8qMO/megYsolpXxY/1GGuxZxP4wZh6XeGo3aaFXT89l283Es1cNLKBYjq72olg8ZVrWKMQTiDX2fdD2o16/2L9UYxAv3UY/UVfn3M1m/guXDSygSM7Q1V6hWzxBXpBKj3WoIy2JFeI/P9bOzHjmnNcv9q/ciCfs4QTLUmLToe24uHMs59qgmMTTA39qEVhH987TvXbcjwjYfpirvWxYPLl9GNh3pYGM7AdkCnM5K8vKd8+wPTmxxvA/JD7ikqGQiCdvzrh8y4w5fskM2PKcJaI4Pq77PhJPD7XvHTj/VD75vDfmcL/q1S/WB3feRh6256ZFmScl1nqsFk96DygCxYSAEk/FNFoqqyKgCBQFAvkmniRIUILyq2n5BwEEA16GQaSEBbjLg/LKDXyJDiMjmB9loUxFflin0OIBCnfXAgVlgognXKf869ZtYtUxMYgGBrjAooy0VGCajMP215F5cPzk1u1efT/++KObbKTiLxPEExqA2zf0AftshQVaAMVzwxRW1r0OdxloT1qnIQ9xDBvrIOIJ5WhpsmnTVrcp7zxZ/FmAf4hRN3CmbHLseb+BXOLePq5FG+8zEC9BgaREPOLJLReGn5sP59JqBnuNBQWQaexfMns8BdXBa2FzAPFxv1hlOcQSW16nXKncE9l8hiAXXCmCRMLcgmcG+4atXrPeYn33rt/9JfKDhGc/4t2Hbpq0RgxT5mOOYN3J7PHEeRFlQGgGhY8/vurVKV2nZpp4CvpSmn0Jix99pIenmMNm6ciHekYM2epdl4qtRx+p/egBJJersJP5eAzihm137VQTWCeVjYVIPLEfiEdWP2W/PEd/QNzJNPcY9wE+wkBekOxhYefOvR4+cr0uVOJJKuumX/rWswpqPqzGU+SBnOKY99t4wLsuy9K9XKEST+hbs6FTbD/qte1p2k9ZZPca6bFkmxlx6Hxgn+IpKYkHCCiJA4/TIZ4yLWsUhSr6Add76GeXOWsD+4g8kmxj34NikC/EDAQUyRgZFxPxNHjBVruXEyyb0J9OQ6ebftNXmbHrD9l9o2S/eFxOxBOIFn44gXGHxak7p6Zy3rTxAHv/wH1dULlunaZ695e7jvG+yyfxJGWWrl+HVK4L7A/zY19cyn/hwpthy473MZ77fl2QxNN7t33ziXQtOuFM3Z5+bcbPtX2Hi76gOaX/xoMeNko8hd4aOU0oJH1LTjuujSkCRYiAEk9FOGgqsiKgCBQ2Arl+EYJyFBu8QqEdFOh+j5YiyCOVndgHxA2//PIvu/cN3JZ99933vmT+KQlTPMvMUolP5Tz2VwkKJASkxRPyUUEOwkFaprAOWHdBJpBbcCeIH/fGwP5FQQGKaiip47myY7mNG+v2pwgiCrZuq9vbJBOu9tAuvnBHnyDjrVu3KYoXyz2PkiWeDh8+amBdIV0uskK6KgPJJ0OisQ4jnqgwxZhJ6zDWDQU+SCLsLxSmbGdextLqgwp3lzgF6QCZ4eaR5Jfc9wR10d1jGLGEPZ9Qh+tqLwp+lF3GcNFGXPF8BAXgwjzJEE9R5gC4LGQbQdY7GCNgiOdP3tcsE/b8B90T2XyGcP9wrLkXUxCm8hr2mmI/YBkaFGCZhnkEloEMUOZzbsEXv1LRzzzYi451J0M8yfshTBa6hsTzieeAgc9BmLVUqns8dWw33sA1Udiv/kMdvL61aDbY5qvoMtNTZA3qt9JL79B2rHedSi0ovUhuoTyvJ4pZJoisGSaIqUIgnrBPVvOmgwwUk0H9ohsouNsLSuc1jLHcrzB4nf7FNGvezmLu7rVRKMQTiAKQLtibKEiZR/d7jSv9bufgbg3PUYvhU2PKwVKIz1ihEk+wSoKMD3fuHyN/EA68xn7Jr+PhhpDXXVd6KAfiiHi56WFWXmwPcSZlRX1Riadm1ZNtP0FATX3zyxjcJp371FqQQUE8/Z1vYtJln1acrbtHglzpLT9z3XNTF5Tep2a5lQVED4mcZOJs7PE0c1+tRd5//+reGHd68WTKF/GEdwfsoRn0rsm1izHnOzce1G+Vd8/DxaubLs/791rsrStYK5Jx4SrLBx13aDPWa3/wgLUx7cOdLJ/JQiCe4MIWewhiPXT7I13kYo120+U51g1++Bb2/wlW1+w73E/LUCjE08jDb9g9BIOsSquePubJL/fYw0cB7Bfcj8r5BMdybz4lnuSo5+841/qW/PVUW1YEih8BJZ6Kfwy1B4qAIlBgCOT6RQjEA1+WQb7cuXPHIgJlNL7KZxq+jGbAH0Io1pEGpe2rr77mKVHheozEAdLPnj3HYjZmfWGKZ5lZfqnPcnIfCpk3jHi6dv2G1wcQDXQnBGsMWIaAnEHd+CochBkCXGuxPZA4VJy7ZeDKKEh5LOWCW0DWBUKDViAoB8Uy0xDfuPGZj2gJ6xPr575EGAMZUA/rBUEi/9yBSKGbNORJhniScmJPJViFMYB0IIbufkuUIWysg0gG1AsXHSwLBT3GEAHjA3KA8kORHs+dB2Vk3KdvrUUF696xcw+TbCzd6CEP6nfHd/6CJZ5sIJN4z/z8898MrOpYNxS6IBpBbETFzyecOKHFIdpat36zQdsIIBWeemqnJwPSkyGeoswBsISihRjIFLiRQ8C8AUvBsDEiPqncE9l8hkDMUqZhw8fYPcBAwuN37NhJg692Mae598HcuXWuq7Y/vcv2G/1HfU/v2O3V6ZKD0loK+zORmEf9cj6CTMkQT2hTEo179uzzZMF9sWLlWk8WuMaUIdPEk1RABR1LBRY2cA/Kc9+9dRt6d2w7zirCQMb067nIt/l5Mm72WH+9B2vJFWDapeMUr13UEW8T+Wy72nukQTczdNBG+6OsTR7v741X6xZDDTZ9Rxow6N651tIY/cBX6CwTFGOccU/xwxE8q6+//oY3/FgHoRjkvc85lhlQlmlh1nnMi5hKtnhEBeuTpAjLIQ5ytQcihOU6z1ptppy/YdsCITVg8yEvrWLJVk8G1NWwospL67t+n5l5+ZZNh/s6bBDPOsOIJ+zhMfm162bqW3UERljfsuFqD3uLQEYQQrDg6bd+vyXfQMDBZdPQ/a8EWu+wX90XbLLys9/3N6klfVHf6Bff9rCCW8JHe9d+LIGyLYZP85UL67Mct3Rlde+HqMQTrA/Yf1hwUSkMJS/G6IEWXWw6xlZaKsi+8BiEDFzQoT4QNtIVHVzuNes+xGurfdVks/DF9w32UiKR03dq7b6B9zzwqE1DOsgqpofF2SCeRqyos2rsOmqOqV683YxYscf+Rq56xkx+6oSZd+TdGNnSIZ5S7T/nEumO1n2fZB4Zc+6r7LPcgDzhT1oUgQTidcQD+67w5k7sRch7BjHWB5nXPQahxTbjxf17170nYo2prlxvy2Ee79R+oq/NXBNP6BPWHa4t+KCDGMDtLIg4yjSkcr23RoKU4/WwvmNs5Mcz+M9Dq3H8b8Q7M/8vTJw0VQ6lPS4E4mniK3X7u8IlKyxMSRRNPPuJt35gLpV7C454/oKHI9YYuDPFfIK1Ci5WiTFi1sf5hmnuvI10pmVinowBvMwv5FrfUuZwa/cVgbQQUOIpLfi0sCKgCCgCsQjk+kUIRBP3u+ELLhTJ/HOAa1BauQps/EGUeXAsz1EOVhFuYBthimc3P7/IRjkQLGFfQcYjaUCosV3EIBTkOfoHKyAZxk+o8eVx+wa5XExkeR7Dykr2Ae3inDJAMUwFPtLg5oshXp+QJ4x4Qhr3fpH9ZB9AGpI4TIZ4AuZS0Y46MRbsA9twLUZ4PWysw4gnyC83KUY9blvoS9BX/MQuKOb+SJTr5s3PfdmgqGcaYmnlx4yS1EMeyIHxJLbSEgjpIA+i4sc23RjEH/CXskp85L3r3qNB91TUOQBuItlvYiHPcQ17tclAmVO5J7L5DEE27jdA2YJiELj4CpsBmPEZYn45Brg2bvyUGMIKxFzPnnXkAvJJzKCMYX3JEk8YYxIMLOvKAlLNnTsLkXjC1+FwT8R+BMVdBXkUpgCT1yv7LIupD/tQoW4o03icK4snWIS5/erVbY5VTEIZ+Kf7m/vSgQettlAOe21QaSj7KY95n8K1orwXcK/Jc9TnujtC2UIhnkA0wdWcxAuujGihg+vYa2PK6595ZAqUdaNeeMtXBvlAOCBGWR67xBMIHdkWLKqoHAwjYbJBPFXtOO6TQ8rEY/Shfc1iHwElSTXkw9f5kB/EFcshRtn7Hq8lVnAMUk+mk+AL6zMxQRxVVraXCYUq5aH1FevmOPMcYz/y+QvemLKcG4MYGrbU/xHHr++pZx5o1MbihOPek+ssi1H/omMfeuTNpG2x41cxdp6XnkviCUQZyDNiEBY36VrlI6DSIZ5S7T/nK+lWF3NVooA5zyWPwvrH65jvOVfigwZeTybGPoQsmyhuUL+zr26uM2jnD/c86qW5ZA7lyKSrvRGDt3rtsX5Yz7IPINx4HTHWG3cdxj6DzB8Wc7zkx4eoz11zYBWFvTvdUAjEE+YCfKwg8cC8gXVHXuu+aEvMPIK992QeOf9wvkW6SzyFzduQhfVlYp508S7381zrW8odb+2/IpAOAko8pYOellUEFAFFIACBfLwIQbELAoJuoPiii3jkqPE+CxcpMqxNYEUk8+MYSvF9+w7KrN4xlaxhimcv438OpJutxYuXu8neOV2cua72mAHWLEH9wx41165dZzZfDBLB/cOE/sEtES2nfAVCTuCay8UJOEyZMsMqg2ExRsXxwoXLvFr4RXpYn7g/B/AOCgcOHIqRH1ZaGDeSjckQT6x79+5nPEsWOeaQPcgSjXnCxhpftCIPiJKgcPHiOzGkHfKjPbg7TDVI12G4F4ICiRm0A/yCAiwH6E6EfcR9QqtAWB2RGIIVC0Oq+LFcUAx3NHT7J2WA60ZY6fCaSzyFPSdR5wBYA+GeYnuMgS++fHUD01O9J7L1DMFyiwQMxhAkMH8cQ8qMdElQAzO4Z+Scxnw4x3MFkiko4LpL5KIsngNYRLKeZIkntIF+wBrPlQUywwIrKNA6Dv0NCtLi1CVp3fxhiih5vVf3OuuVMIsn5MfX4Q/+uVbBSywQ42vsqHtv9O4+17eHB+qDYq1fr0WeEhAWRlLedq1r964L21QdX9lTPig/ZVleD1Ie4ityWDsxD+IeXWd55UcO2WZg+eQq/pAPyszB/dd4eWWb8liOD6zq+NzLNjGHhe3DIYknWBwmClTcd5u/0fbL3Xgd6SSLXAUayz7Wd4Qt22TQeJ9Cb9rb39j9jVzFH/oCRd/4lz/w5Wd9Q3a/5O37w36jDhBFVAKCcGF+G1++ZdpNWuARU8jH9LC+gchg/RNO1+35wXKI2Xd8+S6vhx3DIoduBIGl/EllJtrtOGOFV+fwg+dM/U79PHkGbjvipcEVFOWgvNjrCmTbtItfGVguMb3mjc9tOXyBj7xB40nZo8pKGdz7oVHPatsmXOexDRnDug1l4VJPXufxsP1nDSwVWD9j4Im+Ml+8mMTQwDkbY0ibe+s3MyBWlr78qek4pMZLX3zy4zpi6exNA+siEFRsH+esNyyetqvO1erc598JzE8SaciCrb70xp1r3be1rRzvuw5rq5a9axXisMCSv9/e18CTD3I2bN3DKxtWH2UfOGeDLYs6eM2LU+w/55fz5+ueJbxXJAqY82C5SoyTieV8PkBYJiVTFha5cp6Nd4w1Du5d3XobP9bXdO883bvuEk/8yCBo7UB7D9fvZMs+0qC7T5a2rWrHWPZPyte5wyS7hlIety+9K+aZBx9o7fvIAXlBmHVqN8HXlqxXHsvxgnU33j/YHmO4/qXnB5kfx7DgRz581JNM4DPMut25JNH8Nfporat1lB/30vu+uaF67ynr6pRzItvA/Ntr5U5fXsoBF5/Yb5B5GbcaPctaqvJcWkqhbLx5m2XcvkWZJ5PBtJzy5EPfUk74al8VgUwioMRTJtHUuhQBRUARMMbk+0UIitXXzl+we5Pgq/5kAtyJ4ctqkA9w2UP3Y8mUzXUe9OmNN96yxEWy5BHyoQwsepLFJKhf3373nW33ypVPQpXSQeXSvQalMdyf/fDD3XSrsuVhGQTiBz9gAyVlNgPkhuUM7q8vv/wqm00lXTfucZAhkCuMuAyrLJP44Q889hG6evXTjI1DlDkAbv7wfEBxBDLKta4JwyLV65l+hkAQ4Y/9mDETA59J3NsgIPnn//iJl2JERl8x74GQ/OijK6FKFbcgCCi4wcQv2b3K3Drcc8gL/DFfpeKG0q0n1XOpfMrUMRRysFbq23OhGT54S1KKr3htoz64SurZbY6tF26P4uUvhLShgzYZEHZwf5TIyknKGzR+ICdBvsNyzyWkg/Knco2Kt2zHk89fNyCU4P6IVjnx2sSX5WNPXDZVO49bKyi4PYqXvxDSsBcR5xv0M0gm5CExBZIlKE/QNZB4cLUHcoauoILyJXstm7ImK0NYvpoLN82wg6+a6mdOm6A9V8LK4bpHoLz6uVl2+pp1tTd52wkD6yGZVgzHtNICURQk79JTn5r2gyZ599zCYx8E5gsqm6lrcq6hRfDqNevl5cBjOecV6vHwqs2mb48Fpk/FfFM9cEPBrzlYJ+GOD+sOPqhIZZ0MGiS8s+HdHe+omf5vGO8ZzlQa1pBRR9606w7IqWTWEDv37D9r5x7MkZmSJd16gsannK/lW99Szthr3xWBVBFQ4ilVxDS/IqAIKAIJENAXoQQAabIioAgoAhlAAIQRv8hNZF1ES6Ig96EZEKXoqyhUpV+5ypXrGypdhZiWv+0pJ3sse8qSANLaKggfbmaPL/CD0nNxrZhkTQWPTBEq+a5n5r7XPEJp8YkroYTSrP2ve/lwnGu5OV9hz1CQrlhv5V6iTHfjcp3fC7Xf7vhk+zyVZ1rz3s72cBRd/apvKbohU4HLGAGtMPZNAAAgAElEQVQlnsp48LXrioAikB0E9EUoO7hqrYqAIqAISATw9S0JpXgbmcNNJy0QYA2qIRaBQlWElatcsSOU3Suq1KsjjtLFgi79MOdgr6qg+qa+9aXnUu/BNhWBeYLKZfpaMcmaSt9zTbxkq72aHae8tSvM4mnF2ZsG+09xjYMFVLbkCasXs9Pdu3c9d9jJuPdEmXKd3wu139ldZWJrT+WZ1rxKPLl3kOpbXET0XBEoXASUeCrcsVHJFAFFoEgR0BehIh04FVsRUASKDoFx4+s21W7TtrOZNXueWb58tVm8ZIXdF4cWUVDKYW+3bLkQLDrgHIELVRFWrnI5w5P1U1XqZY54gis8kgCIHx8wxu471b5msd0/5P4mHXzpcCeXL/yLSdZUMAojSIrt+vIzN+yeTryfHuvQz3QePsMSTYixpxP3jEKe/jPW5Jx0AqYIcFeLvWGD9oYMm8DKdX4v1H6HjVO2rqfyTGteJZ7c+1D1LS4ieq4IFC4CSjwV7tioZIqAIlCkCOiLUJEOnIqtCCgCRYcA9qaqmTrTp8ilko4xrKJmz5lvsDeXhmAEClURVq5yBY9S9q6qUi9zxBOwxJ5U2LuJc1BQDEsn5Ms39sUka7JYFRvBFE/eJw5dNI3a9Y57L/2xXmMzYObavJBOJJ6izE7lOr8Xar+jjGE6ZZJ9njVf7fqUDtalWFb1LaU4qtqnUkVAiadSHVntlyKgCOQNAX0Ryhv02rAioAiUKQI//fyzuXjxHYO9nvDV9cGDz5nTZ86ay5ffN//85z/LFJXku12oirBylSv5kctMTlXsZZZ4Ip5jj79rBu88Yfqu32d6Lttu+m961m5YP+H0lbwTTpSRcTHJSpnD4nhETrGmzX/hspm45agZsWKPGTR3sxm2dIcZt/GwmfHMubwRTsQy6ixUrvN7ofY76jhGLRf2/Or14PUoKs6lWk71LaU6stqvUkRAiadSHFXtkyKgCOQVAX0Ryiv82rgioAgoAopAiggUqiKsXOVKcfjSzq6KvmBFn+JSnLiQENH485yQUlEnoHKd3wu131HHMWo5nV9Tm1+j4lyq5VTfUqojq/0qRQSUeCrFUdU+KQKKQF4R0BehvMKvjSsCioAioAikiEChKsLKVa4Uhy/t7KoATE0BqHgVNl5KOOWGcCLOUSegcp3fC7XfUccxajmdR1ObR6PiXKrlVN9SqiOr/SpFBJR4KsVR1T4pAopAXhHQF6G8wq+NKwKKgCKgCCgCioAioAgoAoqAIqAIKAKKQAkioPqWEhxU7VLJIqDEU8kOrXZMEVAE8oWAvgjlC3ltVxFQBBQBRUARUAQUAUVAEVAEFAFFQBFQBEoVAdW3lOrIar9KEQElnkpxVLVPioAikFcE9EUor/Br44qAIqAIKAKKgCKgCCgCioAioAgoAoqAIlCCCKi+pQQHVbtUsggo8VSyQ6sdUwQUgXwhoC9C+UJe21UEFAFFQBFQBBQBRUARUAQUAUVAEVAEFIFSRUD1LaU6stqvUkRAiadSHFXtkyKgCOQVAX0Ryiv82rgioAgoAoqAIqAIKAKKgCKgCCgCioAioAiUIAKqbynBQdUulSwCSjyV7NBqxxQBRSBfCOiLUL6Q13YVAUVAEVAEFAFFQBFQBBQBRUARUAQUAUWgVBFQfUupjqz2qxQRUOKpFEdV+6QIKAJ5RSDXL0Iz37tt9BeLwcpXPzf6Uwx4D+R1Ushj4zo3xM4N5YDJhLN/M/orPgw4X2msa1cp3wN5XBK1aUVAEVAEFIESQCDX+pYSgEy7oAjkDQElnvIGvTasCCgCpYpArl+EykGJGqWPpay00b6lrpQs1fkmUb+iPDtapvjJKiWdio90wpjp3J763K6YFR9midYtTVcEFAFFQBFQBOIhkGt9SzxZNE0RUATiI6DEU3x8NFURUAQUgZQRyPWLkCqJg5XEqowqPmVUNscs5Qe5RAro/BA8P5Q6Lko8KfGUzflU69b1NZ17oESWV+2GIqAIKAKKQJ4QyLW+JU/d1GYVgZJAQImnkhhG7YQioAgUEgK5fhEqdQVq1P6loxTRsqWnVCukOSKXskR9frRccRNWSjwp8aTrWOmtY6UyprlcA7UtRUARUAQUgdJDINf6ltJDUHukCOQOASWecoe1tqQIKAJlgkCuX4RUQRysIC4VBY32IzPKwzKZfmK6qfND8PxQ6rgo8aTEk64dmVk7FMfM4xizUOkFRUARUAQUAUUgBQRyrW9JQTTNqggoAg4CSjw5gOipIqAIKALpIpDrF6FSV6BG7Z8qizKvLCpmTNN9rou1fNTnR8sVN2GlxJMST8U8X6vspb1+F+t6qnIrAoqAIqAIFAYCuda3FEavVQpFoDgRUOKpOMdNpVYEFIECRiDXL0JQEE84c8UM23/WjHj+golRGF++ZUYdectMOX8jNu294lauxvRV9CcriquzN830PWfNomMfRtoEvmbHKTN52wmz4Oj7kcpnpU+v5l/BteSlTywuwGbZ6etZwaaAp4yURPvhh7vm4sV37O+XX35JWDbeM1IUaZdvmfEvf2DnN8xxE89eLfp5DP3BL5v4K/GkxFOhrxdYR6fvPpuV+b7Q+54r+eY+97ZdW6ftfqWgcE64cGmGnCGQ6jtFzgQr0IY+/+JLg18xhCtXPrHvip9//kXGxL1167at8/33P8xYnYVW0ddffxPax6tXP7VpN258Vmhil508uda3lB3A2mFFIIMIKPGUQTC1KkVAEVAEgECuX4SgvOw6d535P//3V+Z3Dz4eo8xsN2mBTfuvX99npl/6NiY9m8rPfNadDcVOt1FzLJb//at7zfIzqRMkGCP8hi5+uqCUQNnAKpU6a3a8bHEBNnOffycr2JTK7PTa+QseVnfu/DVht/L5DKbb9rSLX5l6bXt6/cX9UbFka1HPYVVPH/P6MzLoQwFBnqeDXxDxNPrYt6Z63xXvN/7MTyYoX9C1sS/dMQO2XjCdZj1teq06bkYc/jzpsqhv2LPXTMXSw6bznF1m0NNvm3Gn7yZdftSL35g+a182HWduN/02vWrGnLiVdNmgvhTytVTmzWLOC9KJ62H/GWuyMucXMz6Zkr1i3HyL8wON2hQUxgkXroAMd+/eNdeuXQ/9JfMhRkC1ZX8p1XeKcgbslVfOefPWBx8UPvHStVtvK++8+YszNmxbtmyzdTZo2CRjdRZaRfH6WDmw2vZ/Ss3MQhO77OTJtb6l7ADWDisCGURAiacMgqlVKQKKgCIABHL9IgTlZDzi6fH+o7w/SlNe/6yolbapKGIzpbiR9bToOczDctHxj2IUOU8cumhm7X/dLD9zIyYN9VDRpsST38pKiafk585UlUSpPDO5zDvj8vdmzPFLZtzJ90LnpMqth71n5g8NWxj8cC2Xcma6rZ7Ltnt9GrjtSNb64pIrQ5750PzPPQ95bWMu6rvhTEICZ/wrP5mmg2sJd85fjP/YqL0Z/vzNuHVU7bpsfnXvI752Wb59zea4ZUGUPdCyVnHGMowf6THWjDv1Q9zyLgbFcM71JtFawnyFHMfrA9ZJjmWX4TMD18tC7luxyFZKxNORI0e9e4b3joy//e4730L6008/WZLKve7LpCcm1XeKZCGDVRCIwlIiBPfs3e/dgy+/fDpZKPKWLwrxlOi5iUfKZKuj//rXv+y99NlnN7PVhK/eeH1U4skHVV5Pcq1vyWtntXFFoMgRUOKpyAdQxVcEFIHCQyDXL0JQjMYjnuB+r3HlGFOx+MmsKTkzrZzNRH3ZUAxN3XXatOw90lTOXh+jKAPZRCXIvMPBVjtMV+JJiaeoM1eqSqJMPEvZqGPInlort9/Xbxo6LzUZNN4+Uy1HzQzNkw3Zslnn5NeuG/SnzYR5ZupbX2atX5JkgYXR//vVfd78xHmoz/pTcYmb8Wd+NI/2neQrd1/jLr66fvNAYzP04KeB9QzcftGXFwQUyCq2j7j1uJWBZUcd/dqXF/Lf37S7r+xDHaoMLLFkX4v9GOtWMmtJNta3TNaZTB96TVpi2laON7MPXIhZTzMpSznXVUrE0/ETL5nf/PZ++5NzCK99//0t37K6clWtJ4Bp02b7ruuJH4FU3yn8pYPPQDZxjOC2rFTC7dt/MbPnzDcLFy4zP/38c8F3KwrxlOi5iUfKZAuQ119/w95PjR5tnq0mfPXG66MSTz6o8nqSa31LXjurjSsCRY6AEk9FPoAqviKgCBQeArl+EYKSNB7xlE0laiHXnWtlE1zv8Y+2Ek9+YinRWKjFU/LzWKpKokJ9Rofsfsk+L/GIp4fa11q7lBLxlKvxIAHTf8trHvkDiye4u+M8lYh46rH8BS9vo94T6kieV342PZYd8dIe7jI0kPz5ff2WNg9II7jpo0yuJVPVzne9NOaRVlZw70e3gHDR13z4Qq/tDtO3xZRlHYUSjzl52/Rdf9oA75FHv4orL+bKZNaSRHNqvtNLoQ/5xjAT7ZcS8SRXSSigMY/Nmj1PXvYdr1ixxuZR4skHS8xJqu8UMRUEXPjnP//pzdGlRDwFdLWgL0UhnhI9N/FImWyBwXtUiadsIVyc9eZa31KcKKnUikBhIKDEU2GMg0qhCCgCJYRArl+EoMhU4ul2jOVAJpQ2qdSx4Oj73h9tJZ6UeMrWlMY/4FC6FfMeTwM2H7LPixJPsXNXJsgpkC7YF4kkE6yNqvd/bH+8loh4gkUR8sLKCdZPLpED0od1jTzypS8d1k5Mw55QblmQMXT917R6ri997Mt/9ciy5sMW+NJYT/3Otfss3NOwTWA68+U7huWWtDbrOPOpuPJizUlmLUllbcpH3lLoQz5wy3Sb5Uw8gZTCHKTEU/y3kVTfKeLXVpt669Ztb/5X4ikZxLKTJwrxlOi5yQfxdOzYSXs/KfGUnfukWGvNtb6lWHFSuRWBQkBAiadCGAWVQRFQBEoKgVy/CCUinobtP2s6zlhheq/aFUPOoGz1M6dN82E1pn6nfqZe256m9bgnTL8NBwLdQLl1Dd510rSbtMA82KbCYC+p7gs2GbiSClKc9l2/z8oBSwekT3v7GzN45wnTadYqM+7lD3xl4IKq5/KnrVx/btXNPNZ3hOnyxDoz9sRlX76gdrxr+14zPScuMnDns+LszRhXPrMPvmHTe09ealYGpGN/CpTvP321V3bythP22pAFW71r03adMT0nLDKPtO3l/dHGnhUo22/6Ki8fFEpUxMLV3vwXLptBczebJl2rTMPWPUyn6qlm+p6zvvyJlFBSnhWvfGYGz3/SNO5caeo362K6jJhpxq4/5PV92enrZuCcDba9h5p2si4DbT8C+i7bRRs9xi8wj3fqbxq07G46D59hRq56JhAzlpv7/DumevF206b/WIO2mldUW4ygjGQeGSeyeFp84orpO3WFrQf1Ya8tjMu03a8E1ifr5nE6k8xf//qDgT9/bNDcuUtPM6hqmD3+6MrHgdV+8823Zs2aDWb9hs3m73//u/n446tmw8YtplfvSgM3Hfii9C9/+UtgWV586+LbZumyVbbMkOqRZvv2neaLL75MeT8GPA/y2au5cNN0mLbUPu8PdexjOs1caUYcOu89V5PPXTPtaxabhzv3N3j2MDdU7z3lpXvP13t1hMnUN78w2LsIeVEGc0HXeRvM+FMfxpQbsOU5Wz/2a8Lz8F+/vs/OC5ij+qzZY/N3W7DRXvvdg4/bPH9q1snLI2WFLFHmCsw5aI/7S005f8P023jAdJ612kx/5xsrQ7Ywm/jKx7ZttIU5UOIp5Zp49qrFtFHPagPLr1ajZ5lRR97y5Zdl3WNJ3vyuXjMz/LnPLOEB8onzUDziacTzN718nZ/YHUiWjHrxWy+Pa3nUZPBsmwZyidZKLglEyyUQM3K/JmlNhb2p3HI4772mVhGFvgzaeSkwj1uuYslzps2ENabfplfN6OPfm9bjVpkH21WaB9v0N20nrjNwScgysExqNWaFqdd+oLm/WYVpPHCGgfUY04PioQeumpajlxqQYigDqy1YikFGuAnEr8eyw6F1wPIr0VoyMwvrGufIpS9fNVXzNpt2gybaNQTzNubdVFzhpbIe9p68xK6TWIspA+Ksr2tnb5oRK/YarNNYe7G2YY2bsv0lnxxSJrgOxLrdqu9o83CLbuaxDv1Mj/ELzbgNz4WWkeXl8aITH5nRaw7YtRRrNdZsrKuprv9enWdvmuHLd5mOQ2rsuLXuN8ZUL3rKLD75sUlEPCW7VuN9Be80+M07fCm0zzU7Ttk8A2auDc0DudMN8Syetm3bYebOW+S55GvTtrNdj7Emv/nmxbhN79q11+YNy7d//7M2/eLFdwLrOXjwOZt++fL7vvSvvvraHDp02EyaNM107FRhRowYa1avWW9A0ISFH364azZv3mbzosyo0RPM1m1Pmw8//CisSNzr6bxToL9wwYb3l+4Vfe37D1wf/vvf//a1+cEHH9p+4V2H68z8BUssJk9u3e7Ly5Nk62b+des32/q438+dO3fMC0eP2fetf/zjHzbb4cNHbZ7z5y8Y4AjZ+/QdZN+n1q3bZOT4YAyWL19t+vWvsu93ICovXHiTzfli991OJkq5sK8Y9oPCu1vPnv3NnDkLTNj7IusAliBYgBfKAGvIfenSZWYJjH/88Uezc+deM35CjZUf76l4X0V9qRBPyT43LvEE4hKuB/FuPHLUePP0jt1x9/VK5X0a9xjGpnGTVvZ+gltNPMf4PXvo+UA8gi4C++1P77LjAUyA1e7dzxjeL24Zt48yHeOCe3tKzUx5WY/zgECu9S156KI2qQiUDAJKPJXMUGpHFAFFoFAQyPWLEBSO8Sye4qW1GD7V+3PIP4mM72/SwUw4fcWn6JR19Vq5M7Dsr+9vaEY+f8FXDjI26DbQ5m9WPdnuN8V2EIPoouJ09NGLhkppmYfHvVcHE2gsz1huXj5j76sxShAo+FgnlGWeEufVWmud/jNq3bQ80KiNl9Z36kpb5p4HHvWugexhPUGxJLWYPmDWOoM6eC7jYUt3eHW7MrnnUh4oC2U9PG7arcqST826DwlMB/ElZWQbULR1G/1EYBnUjXKLjn8UI+votQdDy/z3r+41Y9Y9G1MmHvEERSvKsT9unEjBxf5EnR8+//wLc9/99UPbh2LADe9efs/Lzy81XblRJwgpN0BZAMLKzY/zB+s1Ms89V+fiLFmLJz57IITue7xdYN0gjWve+NyQ7HHbBxnEZ0vGIw+/YWC15ObHOUglEE0yP/abC8qLayBYkPd///BQaJ6KJVu9+qLOFWy/z9q9psnAcb62Jp79xNafLcyGH3rNa8+dXylX90VbQscBhJjEM+wYxMiAJ8+bB1r29rl3S5Z4ktZSw569FkqW/KlFT9ufRr3G+/LASgr9eazfFN91Sdj023TWwwJyMa3FyCX2Oqy0eM2NQVQRry5z94Tmk+Ue6jjYlnmk51jf/lGsB3HHGdvMmBO3DPauktd57BJsrB/kHPMExcOfu5FQxq7znolbB+bpbKxrmCNn7D1n7q3fLLT9IQu3xczbnFtlHGU9dPc8zOa6tvDYB5Y0ChojXAMBhY84ZJ9AyP35seB5E2Va9Rlllp761FdGlpfHcw69ZX59T71QnNG+zJ/oeMlLnxis8UH9ebR9X9N9zFybJt9jWGcqazVcJ3Id7j1lWaiMlAXEHNsJit11L9XzeMRTvPUaCut4AeQOsBw2fExMtp9//puH8+DBI2LSf/nlXx7ZdfLkKS/91KkzXjl3nKBIP33mrJeXB1evfurV5ZbBOT5ESTak806BvZqWLK197w2SA8SKfA/Zty/8/Q/lIQtDqnWzHOUAkTdu/BQftt9++63NRnIA49mqVUdfHpZ/6qmd5u7du6ZBwyaB6SBi3CDf7UAmysB6QXCE1QlCLCjgQ6QBA4Lf0VEv3jNxf7nhxo3PPFKG7TMGwZYK8ZTscyNJGdyHbE/GIEqD9sBK9X167Fj/HpOyDZBzyQR8wCXLyWOM0+dffBlTjeyjm8h7S4knF5ncn+da35L7HmqLikDpIKDEU+mMpfZEEVAECgSBXL8IQfEoCSFXERmWNnBbnQIb1g2wWIAiVpJRsF6Q9bEuvrjDSqr7ws2m2/yNpsmg8d7LPRTOsIKQZanIdRXbIJkGbT9q88JaCmVRP+J2kxZamWA98cdHW3v1S6JKtiGPoez47X0NbJnK2etjlCD1Gnfw6us1cXFMeuMutUQZLIeoOJEKMV6b/NQJa62Er8OJS8veI+01WDFJUofpiEE84YtvWB3ha2emQbmz6NiHXptsJyimPCyLr7EHL9hqrYEksQUFFPLI9D/Wq1OsjlixJ6a9riNneTKBtBq+fLe1oMJX4mwP9Uq5gAXTgC+syUat3metzqi0Qrzg6Hu+cvGIJyr8oKyDTLC2Qr2wfGJb4zYe9tUnZeJxlOkBygAqEED64KtOfIG5Z88+Q8UXZHjttdd91UvlBNLx5x9fgUKRgS+dKXfQH+cDB2pd0CEPFAErVq61ZRG7igGp8PEJIE7wTPDZQ514rtpOnG9A4MKyibIghgWUTO8wdan3PCLdJUomvXrVK49ymAdgxYi65fM67MBZby7AHAPrHcwtbBvn+NEqE3LhHCQ28mDOYJ4R/yG105kr2K4kzCA/ZIbFVzYxS4Z4Yp9hAQVMYIVKmSEnLLTkXBd0TELEjZMlnrou2Oe1Cesptx6eN6wYbfP9uXVfXx6QRpC51Zjlvussh3jI3g+8NqQ10aN9a5VNsBCS+d1jurCDFZObFnRO4glyoSwIrm4L9lvLJuKLGBZQMr31uJU+d3m0HmMbsLhieRBxIMLQn1ZjV3juBNGXIHeFrANx5bY3klpLMr2uLXzxfY9UwPyMDw5gsQqL3fsb1u7Thf4NX7Yr4TwbZT0MI56IqVy30lrXzt40ct3HegLyZeTKvfZDCrbnEityzWs7YJwZtnSntR6WH3NUjJ2XEBuQXpQfY8j1bNDcTUaux+M3JV7PuK4BG8qNtbJPzXKDjzFg/cTriF3iKcpazTpBULJ9GeNDFLaZ6AMasURFOuT6G7THEywkYGGCNRvyIMY5fmGWTBSC6y8IIUmSIP2VV855/UO9IKJkgLUP+8+1+e236+aG9u272Y9KQEqBFEAbyI/4++9vyaoMrLSQhjWf7x34IAUKfbZx7tx5X5mwE/aJ9aXyToG22R7IuKNHj1scYJXD67AUYkB/gbN8zwF5QPwlpqnWzTbYLu8BnAPDZs3beRZkJAeYtnjxcgNrNNwbLI8Yllkoy3Rgw3FBuksuyXc7N03Wi/dGWEABe1ggMQ11w0JLBmCCe4N5gAvIyuPHT1oLHV6H1bwMIO74foo81UNHWQs5WD+BEGQ5xJAhUUj2uSEpw/rHjJlo9j5zwJKhvG+RBos+GaK8T4NcxL0Dayq2x3sJ2CYKeOdmOWACKyd8DDZzVi0hjzS8n7uBfQS+buC9pcSTi0zuz3Otb8l9D7VFRaB0EFDiqXTGUnuiCCgCBYJArl+EoHQkIQQFrauEDEujMhPK3RmXvvOVg3IXymq4hZL1sS77sj5vgy8N+UAg8SW/y5w1vnSp/G45crqB2z66tWIbLUfVEjBQrrpK7umXvjWP9h5m64fM097+2lc/62AMhQiURJAHpJBUkID4oJyIoYyS6fjimUQJ3NUxjUQPlEe8xhhuelhnoj2eoATCl8osi3jUqjpFr3TlJ/O4x5QH7bqKHpBX7APS3S/W4YaHX17D1ZCsG24G2Re4KpRpOAYJxXSJz5xn37SKNVhDwWJKloN8LAPFnUwLI56kIgtuCWUZ1N952HQD6zF5Pew4yvQAxRK+QoWC47vvvvdVAaUD++PuISGVE0F/TufOXeiVxRerDFKRgK90XQUFXKrIP/ZUbrF8UIznQT57Y4+/63tuhuyp2wcI/Rn94ju+9OEH65RtIID5fCEmSQ0LJZBQMg3PJ6wmUecDLbqYmZdv+dK7zFlr06Lu8ZTOXMFxQwxLrtEvvh0jX7YwS4Z4glXa1De/9OFV+eTz3j1Dgk7i7R5LQkMeJ0s8tZ203mtPlneP4U4OOMKdH9PGv/KTVzbMQgh5R77wpZdPuqCD+zvU+XCXoV6drFvGv69fS4o0qZoVNx/LSOJJWlghvf/muvscbbsu/gZuf8uTtcO0J33tNR1SRwyOOPKFLw15UR9+Vbsv+9Iol4wxfyVaSzK9rpFQwHoB12tyDoWlCwkWkCXJWvYk6gPaIC7xiKdMrmsgztjmxCdf9PUT8kgcpFtYrNcoBxevEhscw6UdxgM4uWnu+dKXP7XWViCZ4LpOpgN3ygbrZZkWdgwXhSwDt7bumjvjmXPeO4BLPEVZqyVZNX13rFtgae0GK7EwuXE93UDSIYh4Yt20IHHXZ6YHxXBnS0xdi2TufcN011KJSm6QQww3b35uyQEovbG+ywDrF9Z15EidJQzWdV6HuzYZUAfcCMKqJpmQzjsFLEEoB4gyN4CEYjpIORngHo5pQXs8pVM360UMzD/55GoMSUhyAHmuXb8hRTOvv1733CAd1mUySNld94Dy3S6MeMK7208//SSrNCdO1r1nuYTJkRde9LB64423fOVwwvsOpJV0zQhXc8QCLiDdIO+vZIgnlk/03JCUQdsghmTA/cZ3VBC+MkR9n0YdmzZttX3Fc59KwDMKOd1xRB2YF4gfXCjKwD4q8SRRKbzjXOtbCg8BlUgRKB4ElHgqnrFSSRUBRaBIEMj1ixAUjiSEUiGe6GIKX/m7Ssuwc7YDYsglq1iGrrRcWajIda2oWA57tfBPQI9lTwXKhH1PmCeRyykoN0BwID8UatLyCF9z4zr2LGJ984686ylKpu467V2XChQSPekST3DjF6SU4ZfscI8TlO5eozzoX9A+Vu0H1bmpcJVSqIuWVlCEybrpYg/Xg8ohLy2OXGUcvupedvqarz7kB47E2v06PIx4koo1fJUuZYICATYAACAASURBVEz1OOr0AR/wt28H78cEiyX0CV9jyiCVE/gK2g1QRhGLs2frFDbYj4DXw77MTsfV3iM9Bgc+V7T8gQUjn0cZ0z1fi+HTvHS45aOssGKS+XlctaNOMeUSWukQT+nOFZQbllWU1Y05X2USM7SRDPEU5taQFmDtJi8KlZv9kGSGPE6WeGpaXftFMCx/ZHn3uNmw+fY+kPlGvfiNd290mvV0aHm5R1THmdu9fPc0rFX0N+g2wrvmtovzPzZqb9tJlI9lSTyFEVogz3BvgPhiGRmzPZfown5OKIe9nWR+HGOvKN5vsCJz091zzGuJSJtMrmtyXoblTdC8CpKEfXCJoKD8yfQBeVhnGPGU6XWNaxaIoiC5sfcSZZJY8AONjtU1geWC6gq7hr0WYWEWlI79ptA+9n0KSnev9Ri3wOYHTtgH0U3HedvKWkt0l3hCWspr9dmbnsVWt1FzYtqj/NhjKkgWec1dE1M9zxbxBDlYN/Z7koHWJVz3Z8x4QibbvR8xfrAckQGWHtjr0Q1wRcb7TZbBxyi8DquXdEI67xR0sQc8XNKMMtECCy7tZJDkTRDxlE7dxEZiJtvGMYmnIJeISOcYY9+noED3fO4Yy3e7MOIJZFhQoAUeXL/JQAynTJkhL3vH2BOJfYa1PQPd6AVZzjMP79lsEE8gwv71r1j3f9LCzrUKjPI+jb5EJZ5QNuj+w3WQfMTV9VqgxBPvoMKOc61vKWw0VDpFoLARUOKpsMdHpVMEFIEiRCDXL0JQNJIQcsmeeGlwi8WXblg/jXoh8cb18dqhwrPXijrLFklOUZGLPZ6YV8bYF4ryjDoSLguV5O2nxFe+QskhFWbYK4iKj+Y9ay2n8IUulDxoF8dM5/5OIKZ4DTGJnnSJJ1fRxjYeadvLypKM4iaRPEiH2x30DYoztiHjylnrbLol5v6ztxXSsdk5ykFpJfPLYyjhkCdIoSXzyWNiDcJLXg8jnkCmQTa0A/c++GLdtRST9cQ7zsZUAsUHZIOSQoZ4ygnkg69+lMMP7l8Y4K6E18MUPdjImXlStXgKe/YadK0d78cHjAl8Nhv1GmrbbNSz2kuHVSTlcK0T+VzDHR7zVG497JVFejrEU7pzBWXqG0KYQb5E81UUzFBvMsRTmFxwhQjZm1ZN8GFJvGXsEho8T5Z4aj6sVqktCSXWIeMg4mn0sW+9ce80a0co2SKJp06z6/KR4GnQfWRoWcjAfHD3J2UKOybx9PiAaYH5H+pQu1eOu18V6wPBBfwf7jrcVx6EE67DzR7zMpZ4Vyx9Piad+RhjDktEPGVyXcP+hnwepu+JtWLhnEpXcMl+FJGoD6iX7brrYbx1FuWirmth7bGPiOlaENa0vM71EOWxZsqPVJgnEzE+yEAbya6pLXvX3o94bwhrv2JcLTGcbJ2sJ2ytxh5UkBEfyciPXaTF1vhNR0LlYf1c86LGJA4ybfEEeWhhMnLUeE88WMWg33B99+qrtfv04Ziu4+T+ThcuvOmVS3RAF2KSGIAyn+7eGjdpZWAR41rQJKqX6em8Uwyqqn1PDrLaZv2z59TeX+47UCLiKZ26MQ744SOcsEDiKUx2WvXATVxQgNs6tAFLNRnivdslkgtu/ZBn4qSpskp7LVF/4EYQeWDtxkDXy2vXbuSlmJjklLy/YjI5F4hNmKVgPFIGVeGjKWKBPZ2SDWHv0yifDvEU1j7IYMr58sunfdni9THRveWrSE+yikCu9S1Z7YxWrgiUOAJKPJX4AGv3FAFFIPcI5PpFCMrGeIRQWNqU1z8zJHH48g2XWVBu4ov7aRe/ilFuhtUlFZ5VO+usHMa9/IFXRyJFbr+NdUr3KRdueuVk3TjGflSQF8pwN02eU8EBhQvy8wtmWPCQzICyBK7kkA73cCzD/Z1cN3PxFGLpKNrcdrFvA6/Fi+PJg3LY2wp9CyOe4NIP6S7xRCUj05Du/pDGn5QR+GLPKJBnjdr1too8kEZy43rsmSHLhBFPsg9sCzHqgmshWKbJeuIdpzMTYN8CKKOgLIEbESiD8KNyCNdkiKecYD72R7pd4SbIrosSlkGcDeKJLizDiCfu3yaJJ+yzxj7AAjLsxzyYO+TzmQ7xlO5cQZnCCB7ImWi+ioIZ6k2HeIL1FWTHeEgsg45JZLixJEL6rD8VSoS0q9nkja9bhzyH9Q9kgpWSvE6MXbd0Mg/c0jFfzxUveuVJAIEokvndY1oowdWdmxZ0noh4AtEFecKIJ+495RJPsOpiP1wXfdhHimnAPkgueQ1zWDJrSabWteHL69zPweInbA7lPoFNu9Wtk2F5k+0DcUmVeIqyroEsYnvuWibPmUe6n63Zccory3R8fIJ3Buw5KK2p42HCNLisg1s/EFrYl4nrI+RA/bjGvPFiWnBhLQzLF494irJWz9r/uofFpK3HvHb5LoJ3DbgqDpOH1+WaFuU4m8QT9mDCOECxz7B1W+0zDiJDKqxp0Sz3d3Ktm/ARyYsvnrCEAyxsQCLwHYL3E/ZMkmHHzj0ezsyDMpMmTTPvvx9rRS3LyuN03imIMdrHu07Qj7IhliER8ZRO3WwzHeIJ+1WhnjDiafyE2g+rMkk8wfoKbaJuhm+/rftIIwhfXmOfQXogSGs5uNwLC/kgnuSzAOt+N6T6Po3y6RBPP/xw1+4/Bau87hV9vWdP3oNKPLmjVBznuda3FAcqKqUiUJgIKPFUmOOiUikCikARI5DrFyEoHeMRQvHSsC8L9kqB0ph/bBiDhKp+5rRPwRmvLio/B+884dU16sibXvlEityey2rd36F9d38T1o2Y9YAgk9fdYyo4uoyYaeXB18G4NnlbrXxQ9uBcutWDGxwokagAgoKI9SCmciVbFk8kvPJNPNG1EMYCx4l+xAj7f/CLcd5HQXGyFk+sd9Tqfb5N4WWdGFf55TXLuHHUKUX6gZftymP3a9+oxBO/tA7yK0/5C4V4ks8r5opEP9d9XDrEk2w7ylzBsVPiKZx46r7oWW8eH3PydihhQisg1z3dbx5obMuDeJHEijzGnkcciwFbL3j5Hh8w1V6/r3EX75osx2NYY6E89qPitXhxtoin4c/dMP9zz0NWFsSQv+3EddZlH/sXRma58mLeSoZ4ytS6hr3zKGM8a1IQMcgXz7pGzrnJ9IHt5oJ4gsUz28P6nmhNc/eFnLb7FcP1mfUwBlHk7tkksZDH2L+J5cLiZK2T+DFHmOtAtBtGPEVdq1En9sSE7HDly76RCA1ywcc8MuZ6FjWm0jgbFk9yjyXuDwTCCH0+dqzW9R0tdjZufNJ24ekdtfte9utf5evS3/72N0s0hY01rwdZpIAAa9++W+D9AsIkyM2Zr3FhvRXlnYIWNZARx4l+su1ExFM6dROzUiCeaEmHPoFkSoTxiBFjLczff3/Luy/cfZbkOBQa8RTlfRr9iUo84fkFrrxnwmIlnuRdUzzHuda3FA8yKqkiUHgIKPFUeGOiEikCikCRI5DrFyEQLvEIoXhpHllz+ZYZc/ySGbDlOUtE8eXcdd2XTF2VT9ZteAurKrZBwijM3deQ3S95fw4mnLnilWN5xtgjCvI1H1YTmgd5qeQYu/6QzQ9FE67RVUzXkbNq85y9aZVQqHPClhcMFVRQTrn7G5UL8UQ3O10D9nEgrkEx94YCllBoQhknMWS9qVg8yXawjwW+sh4wc639Kpz3KTZ4l/mCjqNMK9gwm21AMXT9+g3fXg10DZIpi6fNm7fZ9vBHOSwUCvEkCeZ45A+fWzdOh3hKd67gmCrxFE489d1Q54Ktet+VUGLn3sc62XsW1kCSRLm/ae3+eY/0HOu7LvP0WVu34frQA1e9fK3G1LoIBYkj88tjkGEcx2T2TkLZbBFPqBvyk2yjXIwf6THWjD7+XWhfZL8wdyVD2mRqXYNbNMo57/A7ofMo524QJ0Hzq3stmT6w3VwQTyBa2N6Ydf+fvfPwsqJY+/V/c+9a97vfPdFzTMeIGFFARUkiknMOQ04KguQkGQRBFEwHRFFARBEzEsTIERMqCqIewzHUXb+e7+2p7uneafbs2bP3U2sN1bu76q2qp6p7N/Xbb9U/c2pDvE36rB+nyANq4JwNgceT2czkdWR2rM+URz++mP7Yq5H9EG2pvVw9nq66pWfQprhIZuUpThOeCv2ulk1/id5Fz59w07bWfU9O2/piTmzTvt9yPd+YwpPqYPvuaKk637tE++0oaK8d9aM8KBS0LJ8+a4kuP9heRrq2Zeuj7tRXX0X2S7Kl9uIeT74NeWxo+bKNGzcHHteypb9Mni6WvyHvFFa3efMWmbmc42zCU0NsW/srQXiSMGnt2ff8/pz5aolHyxffi8w3Uk7CU6Hv02pPIcKTlr+0cSbhVXwlKtvymNpvyhgiPPmjpvkcl3q+pfmQoaYQKD8CCE/l1yfUCAIQaOYESv0ipAndTIJQpmvxyWD73GXuuvCF3BeBzJa8GyxtPO5wV+2+N/Ki8q9lE560T4z9J2DQ1ucieX075p0V96Dw0+jYJl/8zdOnP/5a+Gvdcet2hmn0i2GVrV/r9p9V+wtw/brZbFhcLcKTJtHEQxNb1vZ4HAhK+z+JXLf+06RWPL0+2+RlocKTb1MTXhITVWYuk6GFPFZsLXdNQiWFYgtPWo7HGJ45801SkcF/ni1NsfZ4KmTZuDF73w7rOvTxA6n3q7/Pm3+PNkR4auizwvghPKULTxJKjJOW3fPFETseuv3jME2nex6JpGk9cmFwTV5Jo/d+G7lm+a/uMzVI84dzr3BjXvghTNNj5b7Qbt+Nb4TnLZ/iLvO3h2kGP/ZBYho/vY4bS3iq2fe9s7Zc2Lqbk3CmPbI6zNjs+m16M6e6WV31jMtFtCnW95q/N4//neg/a3VsXsDa/zB+LelzLm2w8VUK4Ul11L5EKlN7RCXVWef8H0qkpfHPa+lB2dTytP75pGPzGtMSeUnX8xWetFyfypaXcZI9ndMPbJQm7kWlc/rL97taNmfvPBbkVX6JeNr3K6mMtDrpfENDYwtPixcvC9pUM2aiswlzE5lU988+OxkykDBkHjy29J61zzhLgEoKNjGeSXjy8/3yyy9hWWl78PjpG/JOoWX9VH/t+ZMWtIygTeT7abIJTw2xbUwrQXgSMy2trDZJXEkLSXt+aulF5dM+W2lBP4pSmiSPurQ8Dd3jKW2pvULfp1XPQoSno0frnlO6h+PBXzIT4SlOp3l8LvV8S/OgQi0hUJ4EEJ7Ks1+oFQQg0IwJlPpFSJO5JgjFPZQyXRu+4zV33YBxLmk/pf6bngn+s6L/sIzedSScVLZy4udtQnnyGyfdH89vEeSV0GTnFWcTnu48etr9rcUNQV5/LxnfRs+Vj4b1Uv39a/Fjf9KjRdvbg3w9Ji8O4lpvphPhZM3wJVuD85rA0TJ3ap9+1evb0HG1CE+aCBQD/Wnz+TgH7eGg/Sm074ctMaTl7ixPfCk95ZdQZJOX8etpezxpElCTWtozKl4HfbYlf1p3G5543c+jR4qWpjl06Ejwq+NcHjFaNkdtins0WV5bbqdYS+35k1kStZLC7NkLQs5NKTxNO/p1uEdc2v06+NEXgmU8uy/fWu9ebYjw1NBnhY1ThKd04UlCiJaHEyvtpTRq9+l6Asr1Q+eEYzG+HJ+/l1SHGQ/Wyzv0iU+cLZXXtmZJ5PqY539wEqNUduAx9cKPkes1z33nzKPqghu6Rq6ZgJMUN5bw1HFm7X4sF7frm3Ndkuqnc3pm5SLaKF1Rvtf2fxLuv+fvc+g/O4cs2Bz2s5ac86+lHefSBrsPSyU83dSndjxLgEpaVnD2zrecltHVMobBsrsvfhq0dciCBwLPoaQlXfVjFbXDPKrTeOi87ZOV5tGk71TZiotEaTZVL2NYs3pHvX5Rfe070rfZkO9qq4uJaLcMmBgwUz16Tb23Xh0sfTzWd5s8EvR9/MUXXyZ91WU819jC02uvvRGwlSgwc9bc4FjeQ37QXk1qt+9V5C9/p2Prn6SJf4lItgyYf10iw8KFS4N9ofzy7NiW3xs9erydSo0b8k4hYcfqHxfUVKD6T+9Aek/66quvI3XIJjw1xLbVqVKEJ+0bpjZprP3www8RjvqgZfXksaN3P3npWJg0uTafxtDp02fsdBh/8803Yf/54ytMkHLQWMJToe/TqmYhwpOeLTZW4sKSbPrCVPy6PBeVN2mJShPQ1G+EpiVQ6vmWpm0tpUOgeRNAeGre/UftIQCBMiRQ6hchCS4mCMkTacJLJ5wEIBNi7JovSo174f3whfzvV7Z1w7a97KYd+TrIM27/B077J+mlW95FmmCO29I1iURDHn8xvDZ691F38U1dQ7v+NeXPKjy9dcb1vf+pMH+bkXe5Sa99GthXHXqsfCTci+q6/mPDcq1u8dif6Og2oW6yXnVvddvAyASJlnDTef9PS+75NnScSXiatKlu2aipD+13c54+5ubuim7WbvbjE21Wju0h0dR7PGliyvZs0CRdzeonwg3UtTyQTeCpPTWrtoecNKGmcxKYpj18IDwvcUrMrf3t+k8I+Nim7L7wpGWMjJsEKsujPpz7zDuBTQlSJhbqet8Zq8KyjGU81qPChCLlefe997M+PfQrZCt/x46dwUSLMv34409uxYo14TVNQMlDySYFCt3jSbbtl8Aqd8XKtUFZOq8lWe6/v24CWNebUnjS/eYvq9lq8MRQxNbzp9/GneH9etGNXZzEIv8e7Xj3ioCfnkt6Zulv6uFTkTSXtOsWpGk94s7IedlpyLPC+rQahKcBW9522kvJ/m5fVPeMlUeOnVc88OF3IsJJz9X7wzF+fqsuTrbGvvCjG/7USdd2TK1nq1he1XNiJJ+JKspjrCXOyItqzPP/dvJikphl1/xl9ixvm1G1PxJQmmsHTHcSqnRNgtZlHQeHeTvPfjSxbLPjx40lPF03oFZ8kJAm77AuC55w4qy/O5Y+47R/ldrt1yXtWM+tXL5LlK5Y32sjlz8e8mw/aLKbt+f94Hmq7wGJG/aDgbY9R2V9ztpzN5c2hP0/b1PEbqbvWdnvM31lUN80sWfg7PXBddXb6qNYSwlamfK+vevRV2rb+cLHTt9B8kTSddm1ZQe1v6Dl0ZJ2d287GNrUd5yxybTcndVBnr5mS1z1Aw5dW7D3X+6O8XXfNfoBjN4ffPHLbPixvgcllFmdRyx9JLSp71zz5NZ1X3iSjUK/q638oQsfDNtibZr15JGQjaVLi/WdZhO4yv/OO+/qVMYgDwV9z+rPhCeJL3bOF31kyCbQ5bVkaZK8c5IK9Zfhsva9994HkaTz5tc9o5RGy+3Fg3mcSBz44IPj4WUJNUOGjgoZTpt2d1BH1U8igZW5ctVad/bs2SCfBKldu/aE1zZv3hray3RQ6DuFeOpHNaqLRJEXX3wp9G7SssMmmOj6/v1Rj5IjR+r273v33feCtvnvKw2xbWwqRXiS8Gptkgec7SsmYU/vkrbso7zqfJH2o4/qPI41zvx7SO+3lk+2CxGe0u6bTKKMxmGax1Oh79OyaeKuhCC7lyXcZgryRPS5SsCzoDFpHmNKo32y/PFpbRRzlaflNi3Yc0v7bemavffbdeLSESj1fEvpWkZJEKg8AghPldentAgCEGhiAqV+EdIkrDwL7AVb8QWt2ocTtUnCk/JIyPHzSGT666XXRc7dNnddaEd5zJa8mnxxypa/M3tJ+zjlIjypDOU1O4olpvmfJXhJHFPaTH/+hIc/CSZbmpjyr+vYfj2u62kTWpkmxDR55NdTx/q1sV+OXS934Ul1FjObVFO9dex/1jktS+i3z/9lvK6LowlYOo5PlJqQ5C8bZYzm73k/EJoub127V4yd15JGfj008WZClV+X+LEeC2ZDcS6TNv5/7JVHk0cSmexXytr/wbepzcAVGiI8ffrZyXDpFbNty/jo85ixtcsr6dj/j3LaY0/3SLZ7r5Cl9uzeu7ZfrReB1TX+LJCw7e/1ZvnizyzlbzdpXuSeziQ8yU6hzwqra6ULT0P++WFkfFq70+KkPZVumrAqow2JSyN3fZ0oqgzd/lFEYEoqVyJNkghT89y3EYEpKa8EHwlhSfmTzjWW8OQvDZhUT50TW4lp2QQoPbdy+S5RumJ9r8mW/2MC1VfPa78t517ayuUjLOTSBrMf/z7M9D2ruhYqPCmv9h60cpPaqe8W38tX4lv7wbVLQlo+/RgjzkfClexn+tNSv2ZDscqSyGTfZ7bMr6WR6JXJnq5pqTtLb7HZUywvNp2PC0+FfldbfeLf2fLmsmu5xIV8Hz/55M56bbU2K9b+SX7QDzf86zo+cOBlP0nGYxOulE/CSzyYV5SVofeBeIjXWd/lJuboWMKS5VcskUl/WtbPPy+hzd47dF4T8Ll8/6s+DXmnkIDkl6tj/7PqktRu/TjHr7+O5anlh0Jtm91KEZ7ERPt/WbsU++98+izmSV5ntiSkn9f6R+PMxlo+wlO2+8ZEmSRvILUlTXgq9H1aNt84+GaEj9qbtiqAP8a0HKXPRveRidZ3dOvjJK7ZdbGyEC/PH7v+j86UVwI0oWkIlHq+pWlaSakQqAwCCE+V0Y+0AgIQKCMCpX4RCiZyj552N4+fHYo05119cziB2/me1cGLte/xZJO/2kvpsg69Qs8EewGX2HPHks2hDUtvwpNsaTL50va1m1tbPk06d5q1ql4+5ddyXEqXJEqZfYu7L9sStsVsK75+yKSIN5elT4r9yQ/9MtgmY2QnaQKt59Sldf8B6TEycRJFS8kov8QO374dD5p7fzCRZHXWr6rtmmI7H59oszT61bTS5OrxpP02MtXHJrI0UWZl+HHaL8MtjX71bRuYW90Vy96Ae+5LtNl3xuoIa6XXpOX4DbuCCVXtS2F9Yb+sV3mD5m2MsJu7u9ZbbOG+D4ON2CU4+XXQ8fVdh0R+gW71Tor1iPAnc156+dWcnhqvvPJa5JeRKleTAiZcyQtJk1I6b5tD+//x/vzzLxLLscmBxx7bVu+6fplpy5JYm1Xm+g2b3Kuvvh5yyGXiSfdGtnvv6t61v7xO8yQ0cemqHsMS7+2uizYl3q8t7xjs5F2ZdH/KA+qmcfdE8umzn9aeL21r7o6c99MU8qwwcSyT8NRYzORdan2qvar8tmSrl/grr/rDz5d0LOFFnkRWVi7xny68JlHEkWeU76EkW/Lu0VJ88SX24oLPsCc/c5fcUjv57dfhnBY3ujuW7kosz2xIpJG3k0QbP6+W4btx7LKMec2GH1/WaWhg5+reUxLz2tKCaR5cV/YYH+Rv0WVkJL+8sc67pmNwTQz9v3jds9Xbnl3ZvkuUrljfa36ZcUFF3LWHnoQGS5drnK0N1qfx78PG/l6bsGF35LvG6qEfiuh7Kql9/e5eHXpEWXrFQZ71zyTmSbIzdt1T4dKGZkfMzWtXbdf3q65JVEqyET8nL2F9x5o9xfq+HLPmSXf7mNrlMOPCk2wU+l1t5csDzsqM96GlSYv1ped/xyVNqse/GOMijpVtsZYW88OpU6ciE8tKZ9/Rfrq04w0b6pYylEdSPMgDyb7HZfuTT5L3rnrwwa2RdEorbwtNbkuguWv6rPD6999/HxQj7y6JBTZJbm1ULM8qiUn5hIa8U8jLxhfhrC5673nkkcdTq/HPbU8EP9Sx9PLmiYdCbBvzTMLTwEHDg7GZthzaqFHjguvjxk+OVyn4bD/wkVeLH/zl2eLvdtnqJVtiIdtJ4eDBQxFexk2ih8ZKWtA7ZFyo6tS5W+AdZe+8+QhP2e4bvYeqbmnC0/vv1713xO+JQt6n1W55As6btyjSTn3OFuSpNGPG7KC+xlOxuMhbSWKYjRV/Se2gvPmLw/J8UUoCt40P2cqHbbb6cj0/AqWeb8mvdqSGAAR8AghPPg2OIQABCBSBQKlfhJImHfM9p2X2Rjz5uhv40LOu5tljbtrhrxInNn3hycrQslpDt71UuxdUbDktS1NoPG7/cTfo4X1u5NOHwqUAc7WVNuHB+cy/yk7ioyV/Jj+4z41f/0ywPJEtEZSUVuckFmkZIk3w2R5QaWnzOT/nmbeDybRgOb7/WXYv1/y6tV9//WD4H1AtXZdr0JInn376WbAfxYcfnsg1W4PT6T/Nmug4fvxf4RI3+RrN9X4pRjqJTLpf9TyY+PJHic+QYpSTZKMhz4oke839nC+4FOt4xNNfut73vRwsd5ePp5HK175NAx56y/XZ8FpWsSqpvvLeUtkSspKuN9U5LTtoE1r9Nr2ZWDelMWFKglumuub6PGvMdHpm61mv5WazPesbsx6NbVtL7E7cuCdo68ztb+Yk8siTS+KU/mbtOBwuQZtPXcV0xrY3grJtub988qel1fJ82ltr5hOHcmqL7DTku1pimY39fIVJfY9JuNEPKeKeSvl+xzWH9BKStNSexIV82ytBTT+U0buALbtXaJsb8k6hJcWOHXsneI/ScnB6LypWaEzbxapjqexoiTjtT6T31ZMnP8+5WIk82ltL+cs5NMX7tJjo/pGXXdI+WuXMi7qlEyj1fEt6TbgCAQhkI4DwlI0Q1yEAAQjkSaDUL0KlnCBNEp5KWX4+ZaVNznA+f+GpEpjpNh4xcmwwUTZz5pw87+rmmzyfe4a0mZfvbE58MokbXPspo/iTD58Odz8UPFP+3rJdRpvyGtMkfdJyhn55lfCspQ3V8R1r3tC5emj746L5fqNScwhAAAIQKAcCpZ5vKYc2UwcINFcCCE/NteeoNwQgULYESv0iVMrJUISn6phQ8ieIKuXY9mPShsvZNiUu24dLARUr5fOBsspHuPLFDI6LJzTFWd4ydX3o9TFgy7FE8Wn0s9+4i27uE6S74IauiWnMbqU8b2lHZb8rzN75Vjjua1bvyNnDysZFAV9lZIEABCAAAQiEBEo93xIWzAEEIJA3AYSnvJGRAQIQgEBmAqV+ESrlZC/CU2VPJtmkUCXG2h9C+xFo/fpqCqV8TZ3TQAAAIABJREFUPlAWwpMJKNUSD9z6djgBL48m7RPVesQC12bUYndN32nu3KvaR673uf91hKcX+R5trt+xw5c+HBnP2kuqkOUYq+k7mLZCAAIQgEDxCZR6vqX4LcAiBKqHAMJT9fQ1LYUABEpEoNQvQqWc7EV4YsKsuU6Ylej2L7tiSvl8oCyEp2oRnPx29lj1vNPeTbbfTVIsTyel8/MlHTfX5yv1ro53g2GLt4Tj/I/nXBzsdVVI35fdFyUVggAEIACBZkWg1PMtzQoOlYVAmRFAeCqzDqE6EIBA8ydQ6hehUk72Tn79Mzf2+ffcuP3HXSnLLaSsQiZDyFO5k2fN/8lSWAsKuXfIUz4CUqF9kSRqcK7xltwT20GPvu96rHrBdZm/3XWcucXdvugp12vdS27o9o+zCk7WN3wHVe53UCX07YK9/3Kzdhxyc595xy3Z/0neS+wZg8K+zcgFAQhAAAIQqCVQ6vkWuEMAAoUTQHgqnB05IQABCCQSKPWLUKETk5WezyY4iJnI0xio1lDp9zntSxbJTMggblyxqdh8+b7i+6oaxkC1fh/TbghAAAIQKA6BUs+3FKfWWIFAdRJAeKrOfqfVEIBAIxIo9YsQE6/JE6/VMHlDG3OfpGzEW76sTfN8SH4+VDqXYgsi2CuNgMUzPfdnOqyaL6uy/tKkchCAAAQgUPYESj3fUvZAqCAEypgAwlMZdw5VgwAEmicBXoSaZ79RawhAAAIQgAAEIAABCEAAAhCAAATKlwDzLeXbN9QMAnECCE9xInyGAAQg0EACvAg1ECDZIQABCEAAAhCAAAQgAAEIQAACEIBAjADzLTEgfIRAGRNAeCrjzqFqEIBA8yTAi1Dz7DdqDQEIQAACEIAABCAAAQhAAAIQgED5EmC+pXz7hppBIE4A4SlOhM8QgAAEGkiAF6EGAiQ7BCAAAQhAAAIQgAAEIAABCEAAAhCIEWC+JQaEjxAoYwIIT2XcOVQNAhBongR4EWqe/UatIQABCEAAAhCAAAQgAAEIQAACEChfAsy3lG/fUDMIxAkgPMWJ8BkCEIBAAwnwItRAgGSHAAQgAAEIQAACEIAABCAAAQhAAAIxAsy3xIDwEQJlTADhqYw7h6pBAALNk0CpX4TufOuM4w8G1T4GmufTglpDAAIQgAAEIAABCEAAAhCAQK4ESj3fkmu9SAcBCNQngPBUnwlnIAABCDSIQKlfhKpdcKD9iG4aAwQIQAACEIAABCAAAQhAAAIQqGwCpZ5vqWyatA4CjUsA4alx+WIdAhCoQgKlfhFCeEF4YQwgPFXho5YmQwACEIAABCAAAQhAAAJVRqDU8y1VhpfmQqCoBBCeiooTYxCAAAScK/WLEKIDwhNjAOGJZy8EIAABCEAAAhCAAAQgAIFKJ1Dq+ZZK50n7INCYBBCeGpMutiEAgaokUOoXIUQHhCfGAMJTVT5saTQEIAABCEAAAhCAAAQgUFUESj3fUlVwaSwEikwA4anIQDEHAQhAoNQvQogOCE+MAYQnnrwQgAAEIAABCEAAAhCAAAQqnUCp51sqnSftg0BjEkB4aky62IYABKqSQKlfhBAdGi48TT30pRu27WU39fApVyyeo/ccdUMe3e8U52tzzN63nf7i+Rpic+LLH7kRT75ez2a8jOb6udCHzdGjx9zBg4fc6dPlL1598cWXQV2PHXsn7+b+/vvvQV619ezZsznl/+ijj4M8iss9fPfd92H7fv3110h11d53330vcq7aP2g8vPve+zmPhebK6+TJz4Nx8c477+bchKYYL4XUM9cG6dl2+PDRgMOHH54Is506dcp9eOKj8HMxDpqC3fHj/yrpcyqNZzH4YaNpCDSn77qmIUSpEIAABMqLQKnnW8qr9dQGAs2LAMJT8+ovagsBCDQDAqV+EYoLBWOff8/1f2CXu33h/e6OJZvdiCffcNMOf5WX4DDhwIeu/+Zd7rbZa1z35VvdoIf3uSlvfpHRxoSXTrhRuw47lR+vk32e/PpnQRqly+dv8hsnE22OfPpN13vttqCevddtdyOfPuTuPHo6Ma3VISm+oFV797/+9x9cy66D8s6bZE/nLu/cN7DZatCEvGz23/RMkE/1Gf7Eq5G8hdqU6CR7+lOfptW5OZ8v9NFgXLZvf7JQEyXLt27dhqAPL29xbd5l/vLLL+EY2LPnuZzy9+k7KMgzcdKdOaVvykQvvfxq2L6zZ78Nq6KJcOvj++/fHJ6v9oN58xcHXP705/OdxkalhsWLlwXtbNPm1pya2FTjJd965tQY59ycOQvD8a/7YNiw0UFWiY52X+zduy9XcxnTNRW7Uj6n0nhmBFOii2fOfOP2Pb/fbd681W19+DGnZ+K3335XotKbdzGlHEPNmxS1hwAEIFAeBEo931IeraYWEGieBBCemme/UWsIQKCMCZT6RcjEgpq9b7ure48KJ5NsUsliiRbjD/wro+gwaOtz7i8XXZ1o4//97RLX4a57U4WdW6YsCPIpndUpHkscsvrkE3eauSJiU547F93YJdHWJe26udG7jkTSx+sR/6w6qz7nX3tLXvnidvzPhYpEXRduDNvVd8OTkfoUalMin/G+sebuiE3VefLrJwMhcNz+4/Wu+W0q5+NCHwnGBeGpPsHmNBmXJjzJw8P6+J7Z8+s3skLP/PDDD05tP/XVV4ktHDFybMjFF+oSEzfjk/kKOk01XvKtZy5dIiHCxv4117Zx+lu06N4gqwQKuyahohghG7uvvz4djMnvv/++GMWFNkr1nMrEM6xMExz89NNPbvqMe8L+tH5VLGF5ydIVLu4F2gTVbNIis429Uo2hJoVA4RCAAAQqiECp51sqCB1NgUDJCSA8lRw5BUIAApVOoNQvQhID5NESF4z0Oenc6N31l36bduRrZ8KRP2lx3tU317Nx84S5ieKE5f+vP56XeF31LFR46jhjeWhTIorKsHpKNJJg5J/TcTaRzRdReq56LBDtBmzeHZbjXy/kuFCRSJ5jrUfc6W4cO8vFPb0Ktan6t79ziZP3VVL/W99dP2RS0dpfCLOG5Cn0uWLjCOGpPsHmNBmXJjypVStWrHHy2jpR5GXF6hMrnzOabNbYnjJlemKltFzj6NHj3QObtyRer5SThQg6TTFeCqlntj567LFtwRhodf3N9ZL++ONPbubMOe6u6bOcJuWLFTKxu61Lj6A+O3bsLFZxgZ1SPacy8Sxqg/Iw9vPPP7tOnbuF70O65y+6uGUgONl3m+KZs+bmYbXykmYbe6UaQ5VHlhZBAAIQaBoCpZ5vaZpWUioEKoMAwlNl9COtgAAEyohAqV+ENFkvwcAmGSTS1Dx7LBQQxu3/wHWevTq8LqFmyptfhteVv9vSB8PrEqsGPvRsZHk+LWl3afueYRp55cRFAhMvMglP045+HeyjpL2U/D/z1NKSd/55O5YwZuVJZLK29lrzz/C8lhOUKGbXru03JrxmeUsZN0QkSqtnY9hUWe0mzQ+4ITyV0YMkoSostZcA5X9OZRKe0nNV7hUTMtKEp8ptebRlxiHXpfaiuUv3qTHquWzZquC5niQ8la5ldSWZQNJchady4ymymx54KHznqRkz0dl+fP/5z3/ciy++5FpeeX14vZqE97pRV3uUbewhPMWJ8RkCEIBAeRMo9XxLedOgdhAobwIIT+XdP9QOAhBohgRK/SIk4eBvLW4IJhcyiS191u8IPIOG73gtIsho76Y/nt8iyC8Pp0mvfRq5biKI9mf6+5Vtw0mM+F5OuQhPZiseX9u3JrB74Q0dE8u29FoK0IQl7V9l58P46GknG0qTacm/MP1bZ+rbKNK5xhCJGsOmWLQeMS1ghvBU3g8chKf0/kF4irKRJ4uegwhP+e3xFKVYuk/VIDxpqT+NSYSn4o0rLaE3e/YCJ+EkaTk9f0nFbdt2FK/gZmYp29hDeGpmHUp1IQCBqidQ6vmWqgcOAAg0gADCUwPgkRUCEIBAEoFSvwjJ08fEmE6zVuUtpNw2e02Yf8hj+zPmr9nzlmvRpb8b/sSr9dKVQniSSNZj5SPuqp7DA8+oJAGp3aR5YXu0BGFSmvg52bx12uLA08u/Nu6F94Pz2ttKXmIjdx50Habf6y65tbuTCCRPoQkvn0gswxeJtGSevLNaDRzv/tGmcxDH92+ycuNl2nnFvk3VR0sESiySTcXd7n0w4qnm521/19KgLepDOy9PuLajZ4TLFMqbTBz0N+jhfWE6Sz9237uB95w81CTwqT23L9jgJr76Sb20ypPUljF733a3L7w/8LIzu4pVntogz7qLb+rq2tbcHbQvvtygn8c/tnvxu+++d2vXbnDDho12t7bv4rSXzfoNm9w777xrSSKx3Ttaak/74WzZ+qgbOGi469q1l5sxY7Z79733I+njH3748cdgI3dN8Hfo2DUoV+Wn/bpce+/ol/P6+/zzL+Lmgs9btjwSXH/ttTci13MRnj755FO3avW6oA13dOvj7l220h09esz98ssv4X2xZ89zEbtpH/zJOC3p9ORTTwdChtqp9j7++PbEyU7fnupz3/qNQT+oPyZNvjPgJW6FhDcOvukWLFzq1Db108aNm91nn510mYSnFSvXBjw//viTekXmO17MwEsvvRLsl9O798Cg30eNGuc0sZs0+as8v//+u9u9Z28wSayxpXwSG15//aCZrBf79c51bG7Y8ECwrJb2dtHYvvGmDuF488s6ePBQcF7Lh8VDIeXKhia5Na7TJriPH/9XWBfxSAqql5YJ1NjT8liz7pnndu1+NuCXlF7nZOupnc8Ey8ZpbI4bP9n9c9sTTnsJFSLo+O33y4wz05ibM2dh0P/DR4wJvE/S+r+h9VQbn3lmj9M+ZRo/4iNOhw8f9asYHIuX+kHpNAbOO//SkLs9e/z47NmzERsShnT95ZdfdbpPn356t5s4cVrQTsV79+6LpPc/xNnJtmyNHz8lfP4MGToqrI/u3XjI95nhP6fMlsaDys0mcunZpHTvvvueZa0XZ+IpNhaS2q56rFy11skDyQ8nT37udK/quaHnorg+9NDD7ttvv/OTNfj4008/C7mrvFyD3xZ5UU2bdnewpN+gwSOc9gRT/S28//7x4PtA96ueyxqjKjdTyPd788svTwX9JJb6LlKZ+p5Teep/3efffPNNpMh8xp4/hvId87rn9f4wZuykgJGe7UvvXeH27z8QqQ8fIAABCECgeARKPd9SvJpjCQLVRwDhqfr6nBZDAAKNTKDUL0KafDePpSu7DUkUAPwJ+vixiRkSL+LX8vlcCuEpl/pYPTThJi+tXPIYA+2B5Kcfuu2lcNKm99ra/TJMqLBYnlUSpPx8Og5tDhzvWt4xOLRj+RRrL6d4Pr/Msfvei1wPbQ6a4OTd5tuyY4liSWKYXe+xfGtoU3W38/FY4pNfN7Xf30fLT6/lGYf+86VIeuX12yKx0l8m8a+XXhemv2Ho5NR6KE+cg18vO9ZtrYltm3D362fHEiniIby26UF3eYtrE+uRNnmpyS/7JbXZ8WMJM/Hw1Vdfh2VIREkKWhpLdjR55YdswtMLLxxIbb+WXbK6FSI8aVLN8vuxJv7iE35WZwlVaf0hbh98cNySZo018a5JR79sO9aeJpr4s89nz34bsWfn4/t4FTJefvrpp2CS1WzGY/GIiw+aAJVIFk9rn7X/SnxiWg2w6xvzGJsSGSxfPNYEu4VMY8ny5VOu7N5518yg7O49+lkxkVjCm9n+9dffItfEbP6CJeF1S2ex+MX7VQYk5Goy3NL5cc9e/d3ChUuDa/kstWc24uPFZ6ZniaXzY4kISaJqQ+qp+0uT2X45/rEEKJ+n9u7yr2c7fvPNw5G+CCfhJ05LZTt9xj2RPPbByjJ2EuDtXFLsi6GyUcgzI6zvpDutGoGoo/L0/NE9mxT0owKrU5KAZ3ky8dQPHCyYLQmvWvbOPis+deqUJXO7du1JfS7qO+jIkfpiYpg5zwM9660e+Qghlkcif9IzXOf0/fX22++E9i2PYl2P961VvZDvzSNH3wrLkQDrl2XHevbJtoV8xl44hvIc87rXJe5bHeKxxkHa+LN6EkMAAhCAQP4ESj3fkn8NyQEBCBgBhCcjQQwBCECgSARK/SKkifere9VNvEnMmHDgw3BS3ybm02IJAPrPckOXWTPBJ9MeT2l1yHWpvbT8/nnbiyqfpfZ8Qce35QsnYnTRjV1cl7nrAq+fq3oMCycbLmnXrR5vs6l8YiIPHnkkyfPIF3zinkV+mXHBxbcpu9cNGOe6LtrkOt+z2qkOOqc/MfDboWO75gtP8g5rM/KuULiUgKnP+vPrNWDz7jC/RKaOM5Y52bll8oKIGCVvJr9cvy3+Mo0qR21RWnl+Wd0u69DLaf+w7su3Ol+MykUU1e1rE0CagJIngn6pLrFCk8FWxoEDL0fudDuvWJN++qW3vEDkaWHXNIkm8cAPZ858E07I6bomzTXhqF/Qm3Ck/JpI9UNjCU/xSTYttXb//ZsDby9xUR2tPfkKT5ZPXgtbH34ssGneFLqWJDT4Szxp0l9M5SWkX91bXRTLKyWXoPxWD/Xv4iXLAw8TxXGxJS5QWD6bDLfyChkv8kwwe5qsfGDzlqBNvjCgsecHeeFYHnnjPProPwPvBpvs1LWpU2f4WYJjy6M417G5aNG9gaeexDjlUyzPPf35E8G+iBIvuJByZaMhwpOYWbnyiNm5c5eTkCrvCTsvISkefEFU/blmzfrAC86WGrS8xRSezKa8VXQ/SISysaRr8jKMh0LrKcG1XbvOIQNxeu655wPxwhcz5f1hQc8h9bf/3LMxYLE/jtOEJ7VF96iehRLR9Wz077W4R6bKNzZ2r50+fSYcf3ZN94PqMXPmnIggU+gzw+6jiZ7wJKHHypNQkRTmzV8cpNE+SJlCJp7yaLJg5fn7Komfvg/EQUHfP5ZO9/Tq1fcFormeY/Zc1PVPEzzBrJxc4w9PfBT+mEJ1iAvimexYHRWrPbqv9Az2x43qr2v+dXnCWt7aMqMCc6Hfm77wJPvas0n7W+n7ROKflanvJQv5jD0bQ7KTz5j3n09i8+STOwOPMD3DrE56JhMgAAEIQKC4BEo931Lc2mMNAtVFAOGpuvqb1kIAAiUgUOoXIU3ea0mzuDeKliuTGDTgwT3BMnG+IGDH047UeV8Uskyf2VFcDsKTvG7sP/ttR02PiCB+XePHJuhk8niKX5MNlWHljd5zNFKe2dT1kU8filzT/liWL74vly/WZBKehjwaWxbx6Gl38/jZod0hj78YKdPK84Un43B5pz5BviTxUWNEe38pv8StKQc/j9id8NIJJzFK1yWAmk3FflsktvVc+aiL7w0mQU55JUZp2Ug//7AnXg0EKo1v/3zSscQGa6OWy/ODJtzkVSIPjniwPJqYlleCH3wPDU26+cEmtjVJFV8yT8va2cSTJv79Xzw3lvDkL2WVtGyUPyFYiPCkZcb8oAlxm7gVw0OHjoSXxds8wTShJx5+8Jd/kmCXLcieJjlVjvopLgL++9//jkz85yI8FTJe5CFl42X58tX1qm3eNepz8wLzf50vISUeNHFqNv1f6yudnc93bCqvCWHq96SQi/CUb7mFCk+aZLe2rlixpl51JULZdZ+hlgCz8xr/8Yl1edTZZL7akmswmyaeWD5jpusSI/ygsk18Uv/7oSH1lHBt9UkSevznkIkbVrY83JRXAkA8+MJMJuFJY94PX3zxZVgfiWnxYHWNs1M6u5bkQdqQZ4aJBr7wpPIkVKpMecTFw2+//RaIsrqedC/H0+tzJp66bu1TrPta40/PSQvyStM41HUJJD/+GPXEkihjzzktEZtvEFd5oomDPC+tPur/pGVGM9m3vMEzILYsqjzs7Lpsx783JVLZdS3z6gd/vObzvekLT/F+ln2JmFam7rd4sGtJY09pbQwpXT5j3vozqb+03KfEqPj3X7xufIYABCAAgfwJlHq+Jf8akgMCEDACCE9GghgCEIBAkQiU+kXIJuElUmj/JfsPth9LlLqx5m43KbYXj/JYOnnymC0/lkeK9jWK//V/YFckfVMLT+P2fxB67qhNcdHGb1P82ESiuLjkCydJ+1rVPHss5BfnYTavuH1AhJOVbUvlaa8kO6fYLzPeBrOp2M9jx1MPfRmKQK0GT4yksX7OV3jyvZ3iApqV23vd9pCDX2e/LRJALb0fm7ebPKL88/ke+5O7Wsoo12BcNFGYFDSJrDRacsiCltexfNqPKSloTx5L4092NYbwJGHLyvKXU/PrpUk+S5Ov8KRJuaSg5eFsolR7N1mQOGBlJe3honTiqTTyoMgWtNeM2fO9dvx8mui2NLkIT4WMF4mXKkNtjoscqovO6Rfv2oPEgnk7JU1MKo0mwG3y0meoa9aefMamlVsM4SnfcgsVnmyJPXlOJHFVm8x7x+coLxExkrikvbqSgiaplUaMcw3GPS6emPCk8tRv8eB75fmiQkPqae3WBHZS0J5AVt/4syiTUJKL8DRgwLCkIoO9bFSm6hYPVpc4O6Wza/7z0PI35JlhokFckJA4aGXGnwkS8eya9pTKJWTi6bcvzcPF93aKixtWvrx0rV5xYcbSpMXywLO8FusHAGllpdnRecuf9Azwx448iuPBH5O+R1hDvjd94UnL+8WD+tDqnLSkoF1LGnuyZWMo3zFvHoBpS0/G68lnCEAAAhAoDoFSz7cUp9ZYgUB1EkB4qs5+p9UQgEAjEij1i1B8gr5m79uu08wVwXJr9p9ti+WZIoHG8ozbfzz8z3qXefeF5+26Ylu6zmxY3HrEtEj6phSeJr9xMrJ/UJK44rcpfmyCTibhyRdULL/vMaZl9Oy84jSblqb9tNplfuTpY+cU+2JNvMxsNpX/mj61S7zEl/+zfktik8nj6bbZa4IxkmkJRX8c9d9cJ0hmaou1WcsEWt3k/TTiqTciPCxdtlgTwebdoMk2eQrEf4mddNtb2UkTpUpvvxzXEmkW/H0ttE9IWtBEuuzLE8ZCYwhPWlLJ2pEmzOhX15YmX+EpPqFrbVFs+5/4SxxpslJlSaBJCxIHrT5xD6Z4Hi1nZmnThImXPHEqPslsef0+LmS8mJijCd5cg41JLQuVFqZNq/X6i0/kJ9Xbt5E0Nu261bUhHk8+L7OrOK3cQoWnfv2HBP2baZxpYlc8fAHJJtpVn7SwePGyevnS0tr5NO4mPKWNa917lldefRYaUk+zl9YXKkNeJ0onYdQPmYQSXzxI83hK6w95CKm8uGeXys5UX7uWNPnfkGeGiQbx+soT0srU8pZ+MA9QLdmWa8jEUzasrLS+0tKnSqNnQlrwf7CgffnyCfKw0RjQfah7yp49KjNpv8FMtjO1RV5cdl3P5qRgZfv7Kjbke9MXnpIEOXmTWZ2S2mrXksae6p82hqxtaWPenl2yr2e87isCBCAAAQg0PoFSz7c0fosoAQKVSwDhqXL7lpZBAAJNRKDUL0KZJuSnHj7lJARccmv38D/l2psozHP0dHheHk3h+bfOhMfax0deO/ZnS/qVi/A0+fWTkfbdOmVhWPek9iSdSxN0chFObEKj29L8hKfOs2sn74otPLWbWOuVEbdr9cxXeLph6JRgjGi5vSR2ds7s+55zufCb+MrHzvYZMxtalk9jVoziS/tZefFYt7v22zEbFkuE0jJcx47V/5W08li6tMlC/QJaafxlpfQrbsunX3enhaSlnhpDeNIvvK0+aXuDNJbw5C8vZxy0X5HVRxOQSX92XbEmFTMF845Kmui2fPkKT8qX73gxIXH27AVWbMbYn0Teu3dfalrt8yIO4uQHY5TP2LT8jSk8Jd0TKrdQ4cm4GoNs48XaaN5Aur/TQimFJ39i3feiKbSevjiUxMTO2TjR5LkfMgklvu18hScTiZLuR6tL0pi1a0mT/w15ZmQSDUwY98VJeSSKneqTJpz4HO04E0+lsfYltV3XTWD2xVOz7cdmJ5NY7adPO9Z3k5YZNHvvvfdBWtJ65y1PWluy8TNPYYltFhryvZlNeFIZVuf4srj+taSxp+uZxpCup415LSVo5VosYVr7r8l7zV9qUXYIEIAABCBQHAKlnm8pTq2xAoHqJIDwVJ39TqshAIFGJFDqF6H4BHzaZ9unR/859vfSsfPxvYbS7FzQqn3wH+1yEJ4mvHzCWX3UrvZ3Lc0ojqS1qaKEp0nzgv6JeyjZpEi+wpP2bVJecU7jp/NmX55cli4X4Ulpx7943Gk8mahpthRLhBr08L7QptmOx3ZLy5unXbvOYX18W/I8iC+RZdfTJtiSJtm1h5Tly+RVZZNZ/qRnYwhPTz+9O6xP2tJ2jSU8aVkpsdBEpAUth2Z8tBRRtr/Dh49a1sTY9gVJ8zRRpkKEJ+XLZ7zYskrz5i1KrGf85Icfngg57Ht+f/xy+Pm+9RvDdPrlvgVjmM/YtLzNSXgyrmpvtrGi6xZsH7G0ZeiUrhyEp0LrqSXSbAzo/srGZtiw0YYmiDMJJeUmPDXkmWHP2bjHkyD4S/hpfyoF3fPGNe4dGSRI+ScTT2Uxm2n3q7VR30+ZgtnJde+pTLa0BKXZ03M012B50tpSiPDUkO/NchWexPOdd9519p5g3CzWvm/6AQIBAhCAAASKS6DU8y3FrT3WIFBdBBCeqqu/aS0EIFACAqV+EYpPwKd9vm3O2nACYvSuI+FEfss7Bgfnc91jR8v16T/VTS08aRm6v7W4IWzT7QvvD9uUxiDtfCUJT21HTQ+YxD2UbCIkX+Gp3aT5gT31exq/KW/W7R/Uc+WjYbpchafQ7tHTbtSuw057Rml8WZ0zlW1547e2Jty09JWW+tHkj9nSckR+sPNpE2w2oeR7PPkih01m+jbt2Pb38Zc784WntGXxbOmspfeuMFNBnLbU15EjR8P2aUP7pNBYwpNt6u7/it/EqGwTrEn1TDq3du2GoH2+uBVP5/dJfDI5Wx/LVi7jxTxX5NmQbwhpAAAgAElEQVSTS/D33kr7pb3sGC95/vghW72Txqblb0rhyV920eqjePeeveE49QU2u09yFfTMprUxLrjYdcXlIDwVWk9//GQSLv32+seZhJJyE57sHijkmZFJeNLSnCZsymtFQeNF99aQoaN8XFmPM/FU5mz3q43FTAK63+faL64YwZ5bt3XpkbO5bG0pRHjyn9H5fm+Ws/BkULXnoTygtNSfPJ6MYSaPTMtLDAEIQAAC+REo9XxLfrUjNQQg4BNAePJpcAwBCECgCARK/SKkifdxL7zvBj/6Qjjhb5PxfizBwf4jLE8hu+af7712W3jervvxxJfr9pJpSuFJ4oSWkrP29Fm/I2O9/TYkHTc34Un7OCW1Q+dsTy4Jin4aY5Wv8OSPj6mHvozYNPsjd9btbTLsiVfDNHkLT94Sj7KtZfus3mOffy+0a+X6caZbV6KLTT76IpDymP18hCftMWH5Xn319dSibXLOJjyV0P8Fur/xum/EPCRyFZ6+/rpuyUztnZQU/P1O8t3jSctVpYXuPfoFLLSkkwWJe8YnbU8mpc10zWwp9j26zpz5xr8UHmti3sosRHgKDTnn0sZL0rJdfj4d//Djj5FTmmRWvZYsjYqIfiKbCNd+IX6w9uQzNi2/iR3x8W7X00RMXS+0XC1BqLxxAc3K3LlzV2jbF540Mat8qnNa0FiJL1tlnnASatPCnDkLA9u+MJqW1s6ntT8TM+VNW2qvIfW0JcvWrFlv1asXp91HmYSSchOeGvLMyCQ8CZb2PVKfStTyn7+5PgcNeCaeSpM2biy/7mNLI5EiKbz/ft2+m2nLw8bzffTRx/FTkc/2faJnda7B6pn27LHvtrSlCm3c+kvtNeR7szkIT3G2tsxh2vMwnp7PEIAABCCQO4FSz7fkXjNSQgACcQIIT3EifIYABCDQQAKlfhEa/sSrwXJkmijosfKRxMn5aUe/DvdBiu/9M+3I107eTsqva6N3H020oUl+LcdnExJNJTwN2/ZyuCSblmbLJrj54kTacXMTnuQBlCQCDd/xWtg/nWativSj9Vu+wtOY594JbcprLonh9UMmBWm0LJ68nyxNLsKT6nzdgHFu4qufhPksf/9NdXsp+V56dt2PNfmq/YYkUiQFTTqKQVxEMS5pE2xJXiWaALfJPP2yOSno1+pmW0vx+MEm7bSvSTxoXw7Ll6vwpPrYPjnyHolP0KuM5557PrSb64SrTehKPEmaKFW7rK5aLs7Cp59+Fp73N5e364rlxaQ66xfi2YKWD7Ry5BmRFEz0ULpchKdCxosmWa0eSZ5lEgA14aoxZnt/2d41Op+0LKP2AjKbGzc9GGmanc9nbJqBphCeHnyw7scNJ09+blUJY3k0WZt84cmfkJd4Ew9KK1FOe6bJY9CCvMjM3oEDL9vpMNaymnbfN6Xw1JB6avk4tTFt/GjM6f7U+I/fo5mEknITnhryzLDnVNJSexoM/j48vvdknFc4cFIOMvFUFhuLafer/xxLey5KKJYd/VBC3k+Zgp4nWj5W6dNEKl8M1V55uYZsbbHvsHyEp4Z8b5ar8KR7W55s8SV8xXne/MVhX+bCXc+5Q4eOuEzeYLnYIQ0EIACBaiBQ6vmWamBKGyHQWAQQnhqLLHYhAIGqJVDqFyEJL/7eOG1r7nYDH3rWTX7jpLvz6GmnCfuregwLJ0VumbKg3gS/PIZsokFx59mr3cinDwV7QU1580s35PEXXYsu/SNpMglPI5583aX9jdt/vF751/atCWxfeEPHetd8caFm79uROkhoSytH50fvSRfRfLvNTXhSH7XsOshJFFI7JCyqz80LTONh8usnIyytfzMJT+qHCS+dCP40dozRjWNmhty1pKHtETbl4Ofulsm1Xg6y3+3eB8M8yptNeJKnntVL4qdERQmhyjtu/wehWKr2qI1Wn6R41j21e1vJ3spVa93Zs2eDZ5AEBnkBWTmbN2+NPJvsfNpkYZLwJAO+kDNjxmz3/fffB3Y1AaXJKJuYGzd+cqQ8fdAkupWrtCYUffzxJ077Qdm1NOFJk5Ly/PG9a3yPAe0lYhP0si1vIKuPbOcrPCmPBDbbP0pt1LJJ9qt22Y6LKrYEn/JKUDGvjNOnz7hNDzwUtjFNSIpDM68Y2Vuxcq378cfaSVlNzupX9Tpvf7kIT4WMF3lCmQeTRDMtcaigtmmfKlvSSv1jk4fa38Pqpb5VH1vQZKotqyh7su8Hy5fv2JQNE55qxkwMxorGi40zXc/kvVNouZr8trxqq+1tIj6PPbYtvKY0vvCk8SRhSOc1pl588aWwridOfORMfNH1/fsPhIhk1/pDzLWUn9nV+NfeT1afphSeGlJPjSNrg0TlD098FLRf7dT4SRpzBiiTUNKUwtOWLY8kjslCnxkmPMlzUOM8SVAyYd5Y5rpcprFUnImnrpvttPtVaXyBXBw0NhT0PFu8ZHloQ8u1ZQt6lthzXbGEXxO89d2g7z17Rqtu7777XjaT4fVsbbFy8xGeZLzQ781iCU9pY8/GUJp4Ka9lMRFPC/oeNU4ae59+dtIuOf0wwRjpWi7B6iCb8R+r5JKfNBCAAASqiUCp51uqiS1thUCxCSA8FZso9iAAgaonUOoXIU3Ca6kzEx3sP8JJ8UU3dglFg/jkffdlW8L/RCfl1bnLO/UJBag04Sktr51vN2lePQEhV+Fp6OMHstbRylGcTcgyBs1NeNJyevIuUht90dHarr60tlls15KEp/Z3La3HdcDm3aGNia987C5o1T6Sxso3u1d2G1JPHMomPKluEg/NhmK156+XXhc5d9vcdWFdrD3xWEKT9rDwbWmy0SZ/dF6T1LmIEv5DLE14Uhp/Qlz2Nfntly+vKE3wxsN7730QSefnVX3NTlx4euPgm5F8/n4omsDU3jp++X7bJYDZtXyFJy3RZHXybZq9+L5Zaq/6w8QES2c27LNEEV8MiXPyP2tSz59ElQ3fnvbgMru59HGh40WeNT4DHfufVQf9at0PcdElnkefk/b7svakTWRnGpsS5yy/xb5XUGMIT2rz8BF1XrEq1+8jfzyYQGScJOL5HOOMZCtpkttfYtHaaXYU214rTSk8qY0NqeeWrY9G+tJnqjarnUmeYpmEkqYQnmxZTusnxb5gXegzY8WKNRE+8jSJh3iaN988HE+S9XMmnsps7Uq7X5VGzybzwrP08f7U3lNJHjRJFdQPAGy8m72k+KGHHk7KnnrObKS1xcpMuidl1J7V/lJ7Vlgh35sNFZ6yjT0TffIRntRHvlgqZmp3vD9V91yCMVcc/4FMLvlJAwEIQKCaCJR6vqWa2NJWCBSbAMJTsYliDwIQqHoCpX4Rsgl4eY/4S+H5/4mVSNBl3n2popPZGPn0m+6yDr0SxYzr+o91k1//zElgkO22o2dExAB5Uvllph3fOnVRJJ/KzlV40rKCaXaTzv+jTed6ZVlb/di8uVoNmhBJ75c3dl/yHkMm/HRbGvX2SbNp5XaZvz5oS3zpQ3n9WFviZfo2lc6WSLT0WoJvwIN7Im2w8ixNkvAk7yLrA0vXb+POiJ2ph0+5G2vurjc2grGVIgzlwk/1G7T1ucRxJ9t3LNkcqYe1Jx7rwfPzzz87ebLEf92uNmlC3P9Fsj2orL1pE2y2/46EjaQg0SU+0SSbWjLJ90iK533Z8xiyOqjemqSyCXp5bvlBIo0mVa28+GS6xKf4RJhsq+6qi5WTq/BknlmajNNyVeadY3Yk5L300it+FSPH6o/pM+6pNzGqSUv1k/3aP5IpwwctK6bl1qx8xWKxfsMmp7227HwuwpOKKWS8KJ+8cDp17haWZ+Wq//SL/qTg96ulVyzPIPMki+ezyd1CxqaEBQl7flkSPyyIma6pD+OhIeVKSLDlwvyy5RUojyQ7lzSxLu8e89SydIo1mfvII4/Hqxl+1ti0pS8tn/pCk/ISb3Uufq+EmRMOzEacu3nWJTGTGX9/Hi2hGA8NqefBg4fq3X+qp0QMCdJJwcTHpLZnEp5MrEubhNekuMpWv8RDGjulkyAbFwDMc9HsFPLMkGedLzzr2RIP/pKWGhu5Ct6+nUw8lS7bfWO25Nl4z+z5YXpjpmeZvEHzDdrjyfafM1sW68cY8sbMN2Rri30HpXlmmfAkL6ykkO/3pr9koPaKSgpWZwn98ZBt7PnfdfG8+pxpzEvUM89D465Y92bSDwqS7Ouc/92WJCSn5eM8BCAAgWokUOr5lmpkTJshUCwCCE/FIokdCEAAAv9DoNQvQvEJeC2xJwFJAsSQR/e7CQc+zGniPmJHS/TtPur6b97lJB5MSth/J5L+rTP5l0GeojAb/+LxYClEiUcl6ZP/GRuDHt7nxj6fLMYVWg8ts6clErVsYM2zx7IKpX458QfQN998E0w8a7JXv6Rv7KDJT00yHT/+r3C5r2xlyutDIoaWFpMXVL5CTJp92dFSPfpLWnYqLV8u57WEmSbxkjy50vJLZNASYa+88lqw3FMmQS7Nhn9e+dWvYl3IBLJvy44LGS9a5k+CkkRE9WOSmGL2LdaSjJoIVv2z7eFieZpj/N133zuJJbonJBjmEzRmtWyf8mrcxL2j0mxpmTWxTZuYTstX6vMNqae46v4Tm6R9tErdlsYqr9jPDD0nTJi4d9nKxqp2XnZVJz03XnvtjXBpzrwMxBJL9NX3iJaj1LJ6DX3Oxsw3ysdCvjcbpSJFMCoRVSKw/r788lTe30363tYPKGyJ0iJUCRMQgAAEKpZAqedbKhYkDYNACQggPJUAMkVAAALVRaDUL0L+5DvHCGDVOgaq6ylDayEAAQhAIFcCEiTNG8XfZy3X/KSDAAQgAAEIQKB8CJR6vqV8Wk5NIND8CCA8Nb8+o8YQgECZEyj1i1C1Cg20G5HNHwNl/ligehCAAAQg0EQEtNSjhKcOHbs2UQ0oFgIQgAAEIACBYhEo9XxLseqNHQhUIwGEp2rsddoMAQg0KoFSvwj5k+8cI8ZU6xho1Jsa4xCAAAQg0OwI2H555u0U37er2TWICkMAAhCAAAQg4Eo93wJyCECgcAIIT4WzIycEIACBRAKlfhGqVqGBdiOy+WMg8WbkJAQgAAEIVC2Ba65tEy6xN3HitJz3C6taYDQcAhCAAAQg0AwIlHq+pRkgoYoQKFsCCE9l2zVUDAIQaK4ESv0i5E++c4wYU61joLk+L6g3BCAAAQg0DoGvvvraffnlKffzzz83TgFYhQAEIAABCECg5ARKPd9S8gZSIAQqiADCUwV1Jk2BAATKg0CpX4SqVWig3Yhs/hgoj7ufWkAAAhCAAAQgAAEIQAACEIBAYxEo9XxLY7UDuxCoBgIIT9XQy7QRAhAoKYFSvwj5k+8cI8ZU6xgo6U1OYRCAAAQgAAEIQAACEIAABCBQcgKlnm8peQMpEAIVRADhqYI6k6ZAAALlQYAXofLoB2oBAQhAAAIQgAAEIAABCEAAAhCAQOUQYL6lcvqSllQ+AYSnyu9jWggBCJSYAC9CJQZOcRCAAAQgAAEIQAACEIAABCAAAQhUPAHmWyq+i2lgBRFAeKqgzqQpEIBAeRDgRag8+oFaQAACEIAABCAAAQhAAAIQgAAEIFA5BJhvqZy+pCWVTwDhqfL7mBZCAAIlJsCLUImBUxwEIAABCEAAAhCAAAQgAAEIQAACFU+A+ZaK72IaWEEEEJ4qqDNpCgQgUB4EeBEqj36gFhCAAAQgAAEIQAACEIAABCAAAQhUDgHmWyqnL2lJ5RNAeKr8PqaFEIBAiQnwIlRi4BQHAQhAAAIQgAAEIAABCEAAAhCAQMUTYL6l4ruYBlYQAYSnCupMmgIBCJQHAV6EyqMfqAUEIAABCEAAAhCAAAQgAAEIQAAClUOA+ZbK6UtaUvkEEJ4qv49pIQQgUGICvAiVGDjFQQACEIAABCAAAQhAAAIQgAAEIFDxBJhvqfgupoEVRADhqYI6k6ZAAALlQYAXofLoB2oBAQhAAAIQgAAEIAABCEAAAhCAQOUQYL6lcvqSllQ+AYSnyu9jWggBCJSYAC9CJQZOcRCAAAQgAAEIQAACEIAABCAAAQhUPAHmWyq+i2lgBRFAeKqgzqQpEIBAeRDgRag8+oFaQAACEIAABCAAAQhAAAIQgAAEIFA5BJhvqZy+pCWVTwDhqfL7mBZCAAIlJsCLUImBUxwEIAABCEAAAhCAAAQgAAEIQAACFU+A+ZaK72IaWEEEEJ4qqDNpCgQgUB4EeBEqj36gFhCAAAQgAAEIQAACEIAABCAAAQhUDgHmWyqnL2lJ5RNAeKr8PqaFEIBAiQnwIlRi4BQHAQhAAAIQgAAEIAABCEAAAhCAQMUTYL6l4ruYBlYQAYSnCupMmgIBCJQHAV6EyqMfqAUEIAABCEAAAhCAAAQgAAEIQAAClUOA+ZbK6UtaUvkEEJ4qv49pIQQgUGICvAiVGDjFQQACEIAABCAAAQhAAAIQgAAEIFDxBJhvqfgupoEVRADhqYI6k6ZAAALlQYAXofLoB2oBAQhAAAIQgAAEIAABCEAAAhCAQOUQYL6lcvqSllQ+AYSnyu9jWggBCJSYAC9CJQZOcRCAAAQgAAEIQAACEIAABCAAAQhUPAHmWyq+i2lgBRFAeKqgzqQpEIBAeRDgRag8+oFaQAACEIAABCAAAQhAAAIQgAAEIFA5BJhvqZy+pCWVTwDhqfL7mBZCAAIlJsCLUImBUxwEIAABCEAAAhCAAAQgAAEIQAACFU+A+ZaK72IaWEEEEJ4qqDNpCgQgUB4EeBEqj36gFhCAAAQgAAEIQAACEIAABCAAAQhUDgHmWyqnL2lJ5RNAeKr8PqaFEIBAiQnwIlRi4BQHAQhAAAIQgAAEIAABCEAAAhCAQMUTYL6l4ruYBlYQAYSnCupMmgIBCJQHAV6EyqMfqAUEIAABCEAAAhCAAAQgAAEIQAAClUOA+ZbK6UtaUvkEEJ4qv49pIQQgUGICvAiVGDjFQQACEIAABCAAAQhAAAIQgAAEIFDxBJhvqfgupoEVRADhqYI6k6ZAAALlQeDzL79xehn69bffyqNC1AICEIAABCAAAQhAAAIQgAAEIAABCDRjAppj0VyL5lwIEIBA+RNAeCr/PqKGEIBAMyNw+pvvg5ehf//wUzOrOdWFAAQgAAEIQAACEIAABCAAAQhAAALlR0BzLBKeNOdCgAAEyp8AwlP59xE1hAAEmhmBH3/6T+2vcL444/7zy6/NrPZUFwIQgAAEIAABCEAAAhCAAAQgAAEIlA8Bza18/sWZYK5Fcy4ECECg/AkgPJV/H1FDCECgGRI4c/bfofikX+Ww7F4z7ESqDAEIQAACEIAABCAAAQhAAAIQgECTEdBciuZUTHTSXAsBAhBoHgQQnppHP1FLCECgGRIw8ck2vySu/XUSHODAGGAMMAYYA4wBxgBjgDHAGGAMMAYYA4wBxkA+YwDRqRlOjFHlqiaA8FTV3U/jIQCBxiYgF3CtP6zNL/N5oSItL+CMAcYAY4AxwBhgDDAGGAOMAcYAY4AxwBhgDFTzGNBciuZUWF6vsWevsA+B4hNAeCo+UyxCAAIQgAAEIAABCEAAAhCAAAQgAAEIQAACEIAABCAAgaokgPBUld1OoyEAAQhAAAIQgAAEIAABCEAAAhCAAAQgAAEIQAACEIBA8QkgPBWfKRYhAAEIQAACEIAABCAAAQhAAAIQgAAEIAABCEAAAhCAQFUSQHiqym6n0RCAAAQgAAEIQAACEIAABCAAAQhAAAIQgAAEIAABCECg+AQQnorPFIsQgAAEIAABCEAAAhCAAAQgAAEIQAACEIAABCAAAQhAoCoJIDxVZbfTaAhAAAIQgAAEIAABCEAAAhCAAAQgAAEIQAACEIAABCBQfAIIT8VnikUIQAACEIAABCAAAQhAAAIQgAAEIAABCEAAAhCAAAQgUJUEEJ6qsttpNAQgAAEIQAACEIAABCAAAQhAAAIQgAAEIAABCEAAAhAoPgGEp+IzxSIEIAABCEAAAhCAAAQgAAEIQAACEIAABCAAAQhAAAIQqEoCCE9V2e00GgIQgAAEIAABCEAAAhCAAAQgAAEIQAACEIAABCAAAQgUnwDCU/GZYhECEIAABCAAAQhAAAIQgAAEIAABCEAAAhCAAAQgAAEIVCUBhKeq7HYaDQEIQAACEIAABCAAAQhAAAIQgAAEIAABCEAAAhCAAASKTwDhqfhMsQgBCEAAAhCAAAQgAAEIQAACEIAABCAAAQhAAAIQgAAEqpIAwlNVdjuNhgAEIAABCEAAAhCAAAQgAAEIQAACEIAABCAAAQhAAALFJ4DwVHymWIQABCAAAQhAAAIQgAAEIAABCEAAAhCAAAQgAAEIQAACVUkA4akqu51GQwACEIAABCAAAQhAAAIQgAAEIAABCEAAAhCAAAQgAIHiE0B4Kj5TLEIAAhCAAAQgAAEIQAACEIAABCAAAQhAAAIQgAAEIACBqiSA8FSV3U6jIQABCEAAAhCAAAQgAAEIQAACEIAABCAAAQhAAAIQgEDxCSA8FZ8pFiEAAQhAAAIQgAAEIAABCEAAAhCAAAQgAAEIQAACEIBAVRJAeKrKbqfREIAABCAAAQhAAAIQgAAEIAABCEAAAhCAAAQgAAEIQKD4BBCeis8UixCAAAQgAAEIQAACEIAABCAAAQhAAAIQgAAEIAABCECgKgkgPFVlt9NoCEAAAhCAAAQgAAEIQAACEIAABCAAAQhAAAIQgAAEIFB8AghPxWeKRQhAAAIQgAAEIAABCEAAAhCAAAQgAAEIQAACEIAABCBQlQQQnqqy22k0BCAAAQhAAAIQgAAEIAABCEAAAhCAAAQgAAEIQAACECg+AYSn4jPFIgQgAAEIQAACEIAABCAAAQhAAAIQgAAEIAABCEAAAhCoSgIIT1XZ7TQaAhCAAAQgAAEIQAACEIAABCAAAQhAAAIQgAAEIAABCBSfAMJT8ZliEQIQgAAEIAABCEAAAhCAAAQgAAEIQAACEIAABCAAAQhUJQGEp6rsdhoNAQhAAAIQgAAEIAABCEAAAhCAAAQgAAEIQAACEIAABIpPAOGp+EyxCAEIQAACEIAABCAAAQhAAAIQgAAEIAABCEAAAhCAAASqkgDCU1V2O42GAAQgAAEIQAACEIAABCAAAQhAAAIQgAAEIAABCEAAAsUngPBUfKZYhAAEIAABCEAAAhCAAAQgAAEIQAACEIAABCAAAQhAAAJVSQDhqSq7nUZDAAIQgAAEIAABCEAAAhCAAAQgAAEIQAACEIAABCAAgeITQHgqPlMsQgACEIAABCAAAQhAAAIQgAAEIAABCEAAAhCAAAQgAIGqJIDwVJXdTqMhAAEIQAACEIAABCAAAQhAAAIQgAAEIAABCEAAAhCAQPEJIDwVnykWIQABCEAAAhCAAAQgAAEIQAACEIAABCAAAQhAAAIQgEBVEkB4qspup9EQgAAEIAABCEAAAhCAAAQgAAEIQAACEIAABCAAAQhAoPgEEJ6KzxSLEIAABCAAAQhAAAIQgAAEIAABCEAAAhCAAAQgAAEIQKAqCSA8VWW302gIQAACEIAABCAAAQhAAAIQgAAEIAABCEAAAhCAAAQgUHwCCE/FZ4pFCEAAAhCAAAQgAAEIQAACEIAABCAAAQhAAAIQgAAEIFCVBBCeqrLbaTQEIAABCEAAAhCAAAQgAAEIQAACEIAABCAAAQhAAAIQKD4BhKfiM8UiBCAAAQhAAAIQgAAEIAABCEAAAhCAAAQgAAEIQAACEKhKAghPVdntNBoCEIAABCAAAQhAAAIQgAAEIAABCEAAAhCAAAQgAAEIFJ8AwlPxmWIRAhCAAAQgAAEIQAACEIAABCAAAQhAAAIQgAAEIAABCFQlAYSnqux2Gg0BCEAAAhCAAAQgAAEIQAACEIAABCAAAQhAAAIQgAAEik8A4an4TLEIAQhAAAIQgAAEIAABCEAAAhCAAAQgAAEIQAACEIAABKqSAMJTVXY7jYYABCAAAQhAAAIQgAAEIAABCEAAAhCAAAQgAAEIQAACxSeA8FR8pliEAAQgAAEIQAACEIAABCAAAQhAAAIQgAAEIAABCEAAAlVJAOGpKrudRkMAAhCAAAQgAAEIQAACEIAABCAAAQhAAAIQgAAEIACB4hNAeCo+UyxCAAIQgAAEIAABCEAAAhCAAAQgAAEIQAACEIAABCAAgaokgPBUld1OoyEAAQhAAAIQgAAEIAABCEAAAhCAAAQgAAEIQAACEIBA8QkgPBWfKRYhAAEIQAACEIAABCAAAQhAAAIQgAAEIAABCEAAAhCAQFUSQHiqym6n0RCAAAQgAAEIQAACEIAABCAAAQhAAAIQgAAEIAABCECg+AQQnorPFIsQgAAEIAABCEAAAhCAAAQgAAEIQAACEIAABCAAAQhAoCoJIDxVZbfTaAhAAAIQgAAEIAABCEAAAhCAAAQgAAEIQAACEIAABCBQfAIIT8VnikUIQAACEIAABCAAAQhAAAIQgAAEIAABCEAAAhCAAAQgUJUEEJ6qsttpNAQgAAEIQAACEIAABCAAAQhAAAIQgAAEIAABCEAAAhAoPgGEp+IzxSIEIAABCEAAAhCAAAQgAAEIQAACEIAABCAAAQhAAAIQqEoCCE9V2e00GgIQgAAEIAABCEAAAhCAAAQgAAEIQAACEIAABCAAAQgUnwDCU/GZYhECEIAABCAAAQhAAAIQgAAEIAABCEAAAhCAAAQgAAEIVCUBhKeq7HYaDQEIQAACEIAABCAAAQhAAAIQgAAEIAABCEAAAhCAAASKTwDhqfhMsQgBCEAAAhCAAAQgAAEIQAACEIAABCAAAQhAAAIQgAAEqpIAwlNVdjuNhgAEIAABCEAAAhCAAAQgAAEIQAACEIAABCAAAQhAAALFJ4DwVHymWIQABCAAAQhAAAIQgAAEIAABCEAAAhCAAAQgAAEIQAACVUkA4akqu+jX0e0AACAASURBVJ1GQwACEIAABCAAAQhAAAIQgAAEIAABCEAAAhCAAAQgAIHiE0B4Kj5TLEIAAhCAAAQgAAEIQAACEIAABCAAAQhAAAIQgAAEIACBqiSA8FSV3U6jIQABCEAAAhCAAAQgAAEIQAACEIAABCAAAQhAAAIQgEDxCSA8FZ8pFiEAAQhAAAIFE1jy4qeOPxjkOwYKHXAjB29y/DU9g0L77/HxKx1/1ceg0PFy51tnHH91DPLluO7dBxx/9Rnky9HSj93/k+OvehnYOCCGAAQgAAEIQKByCSA8VW7f0jIIQAACEGiGBPIVHEiPSKUxUGhAdGp60Ul9UGhAdKo+0Ul9XmhAdKoTncQi34DoVF90EpNCA6JT9YpO6nsCBCAAAQhAAAKVTwDhqfL7mBZCAAIQgEAzIoCQhJBUyBgodIgjPCE8IV41P/Gq0Psd4QnhqTHEs0LHI8ITwlOhY4d8EIAABCAAAQg0DwIIT82jn6glBCAAAQhUCYFCRAfyIFYVensgPCE8ITwhPFWrIJXvc7MxRJtKsJkvR0uP8ITwZGOBGAIQgAAEIACByiSA8FSZ/UqrIAABCECgmRJAREJEKmQMFDrcEZ4QnhCeEJ4QnnJ7glaCSNQYbciNXv1UCE8IT/VHBWcgAAEIQAACEKgkAghPldSbtAUCEIAABJo9gUJEB/IgVhU68BGeEJ4QnhCeEJ5ye4I2hmhTCTZzo1c/FcITwlP9UcEZCEAAAhCAAAQqiQDCUyX1Jm2BAAQg4Jz74osv3cGDh9yxY+/AI4HA77//HvARo7NnzyakaNpTiEiISIWMgUJHLcITwhPCE8ITwlNuT9BKEIkaow250aufCuEJ4an+qOAMBCAAAQhAAAKVRADhqZJ6k7ZAAAJlTeC3335zH354wu3YsdNt3PSg271nr/voo4+LXud16za4//W//+Aub3Ft0W1XgsFffvkl4CNGe/Y8V3ZNkugw5+lj7q5HX8npb+6ud50JFQv2Hs+YZ9aTR8K0licez9z+ZkYbfr0WPPevjPbm7Xnfjd+wy/WdscoNWfCAm/bwAbfo+Y8y5lF97t5+MKjD7J3HMqZduO/DsK5L9n8SSZsXw2feSc07/9kPItfivIz59Mdfy5hO+VTfSQ885/rPWuv6zVzjRq/c5uY883a9fLN3vhW2a8HezIxlV5z0bNGfhNV8gglPfXsscUl/A/uscJYm33j4wA2ud7f5rn27ce7Wm8e4nl3numED7svLXp8ei9xtHae5m9uOdJ3bT3YDei3LK//QAevCdg3ovTyvvGrviEH3uz7dF7oOt4x37W4c5bp0vNP167k0q50klknn+vVcEtjKp8/8tCYarR5yj0v62zB8vrM02eL7hs0LbGwauTBjnofHLgvLemx8VLR5YNSi8FpSfTaPXpzRdlIdN45cGNqU/XiaR8etCK8nlZl2zmzdP2JBav61Q+fUK88v/7FxK9yaIbPdXXeMcTUdBrt5vSe7zaOyt9HntKVmacYyto65N6jfmqGzw3T+GMjnWALT5DdOulG7Dif+TXz5I5eLCJXJhmyP2/9BZjtHT4fly1amMie+8nGQdsxz72RMJxvTDn/lRjz5huu+bIvrMned67vhSTd6z9HUfPmwU1pftFm4f4Wb++ySnP5Wv3V/JK9vZ8Wb97m7/jnbDV442o1ePcnN2b3YrTm2MTW95c1U/ry9S92qIxsy2rj3tTVh3RcdWJkxrZW58vD6MM/CF5aHefLlaOl94alm3/eu76Y3XZcFO9yt0za47iufcyOe/tL5aex4yD8/dIMeeS+vv6HbPwptjdj5Rca8I585Faa1MuNxzuU/+n7E1uhnvwnLHr7z88i1eBljX/gxTDtq9+nMaff/5GS7z4bXXIcZm13HmVtcj5X7nNoatzvm+R9Cuzm345H3Iv1hDIc+8Uk9+/HyRu05E5Q3+LEPImltHBBDAAIQgAAEIFC5BBCeKrdvaRkEIFBGBO5bvzEUOyR4+H99+g5yH574qGi1RXjKjLI5CE+3j5kdGSP+eIkf952xOhQuxq57Kmu+//uHc90NXYe4WTsOh/l8MeXy1rdltWF18Mv2bUx/7FV3yXXtU+10HHanW/T8icTyZefP510e5O00YkZqGqWb8tALYRkSuPw65MPw+i6DUvO27jYscs0vQ8dj1uwI65Am7EmcatNjZJjO+Fncrv8E5wtcQxc9FKbtNPyujOVLyPv7xdcE6f/05/Pz9uIzccXqkhT/n/86x114QWt3y42jswousiex54rLO4dtiNu8+KKb3KC+qzLa6tZlljvv3OsSbfz3f5/nrrmqRyAKZRPDWl3bN7ShdgwfdH/Gcs2eBLKrWt4R5o234aIL2waClKX3Y4lV8fSZPktcKzRIBHl03PKM5f33f53jWl3cyo3tOMTFhSJfRDnnjxcEdvq26R4KHP51O1428O6wvIV9p0XSDrypV3gtrc1//n/nugE39nIPj1kWyWv24/EV518Z2mx7Wdt6eSTipJWV6Xyby9oEtrpemz5WL/jrxfXKU/3Ecfgt/VPL/cc5l7ql/acn5lV+n1OHK29NTae0c3tNDsuRSKZzhQaJMwO37A3tJfH54/kt3BW3D3ADH3o2VbDJZkN2/+uP57mre41w4154v56dmmePhXXot3Fnveu+EHXbnLVhWv+8fyzx6vohk8J08XZd1qGXG/HUG/XKyZejCTCKW958fWp58fIlJvl5dSxx6LLW16bauH1cb7fmrXQBKpfyz73s0kDMipetzz2nDQzL/r9/PMctf2NdvTrG83UYVvdMvOS6q8L0+XK09CZQdJr1sPvDuVeE9fH5/enCawIRxdIqPqfFjYlp/XxJx2ajbc3SrPn/+5xLXJvRi93ovd9GxBLZGPP8v7Pm98sfuPXt0EavtQfCvGpbkn2rZ81z34Vpu8zfHtqw6xYP2XbC/aNtjzCtX7aOr+49xflimgS9eJpcPl9y64CwDsZQnKweafEdS58Jyxu249MwvY0DYghAAAIQgAAEKpcAwlPl9i0tgwAEyoDADz/+6EaMHBv+h0v/sTvv/Etdmza3Ok0S23/0dPz228VZGg/hKXPHV5rwNHD2+lCYyEV4sjEnAeqep46GeU1QyUd46jN9Zb38Qxc96GTbylF87qWt3B/PuThyTsKUPJusXD/OVXia+tD+0Ob49c9EbOUjPLW6bWDGvOPuezpy3a9rRHjacaheuhnb3nAXtoxOkp1z4ZUBE5/Rxdfc4uaa59X+T9ylrTqGbbt7WzIn1UPeZGbn/vs3Zx78CVclmOQjlEg0Gtx3dap407vbAvfnP18a1kl1+9OfLq53TuJRty4zE+3IM8raZPFf/3qFk3BknxVf9I8bM3pQjRi00f3hDxdG8tze6a7EMn3hSELQX/5SK35aebLzt3PqBBCdVxsG9K7vgZUPT9mRR1WhQSJENuHJ2qBYYkuaR1OuwtNyT3ha0GdqRDTxBRW/3KTjq/9xjZPHkNqQ9icvn3jeuEdRocJT60tbB+X2vuEOJ3HOL0ef9dfygqvq1U3li2M8/cV/j44ZXR/dYVC9/GprnFOco8/DF57Mg63Q8SKxJhfRyNp28/g5gReRL/Lka0MC1PgXj0dEn5o9b4X8sgpPc9eFaeP10OeRT7/p/tbihjCN6i7x7Lyrb46c+39/u8TFvaby5egLMbkIP8Zx/r57Q5FGNmrWTnYSe+y64vNbXO7+9LfzIuckTC3cX+dZVGj53af0j5QvO77wpPKT0vjlSSjz61ss4emWqbVe+r7tv7dsFylL19rWLAkFi1IIT1afC27o6sa88ENYtsSVfIWnAVuOhfl94Ull3Dh2WXgtLtzkIjxJ1Pk/f4iOm79e2trpz9qgWMKU7KmMgoWnW/qHdTXhSWXH6x3/7AtPvodUvvcf6SEAAQhAAAIQaH4EEJ6aX59RYwhAoBkRWLiw7j/qnTp3iyyt9/PPP7uNGzeH/zFseeX1TucaGhCeMhNsTsKTBBx5BmX680UQX3ia8uDzkXwL950Ilr1r1298OObkhePn17EJT9d17h/Jn1SHxbHl7e585KXQtuouUcxfjk9eVq27DQ/TSHyKl6/PxRSecmEYX/4vLlqd36J16hKB2YQn3/Pr1oGT6sSl/1ki76beNSEPvz8mbarzSpCHWhInLWVoIt8117Zxv/76a+bBn3A1LjxpSTt5BdnfwN7LncQaefjYJJYEGIk6vlijYy2t5ws9113dyw3ptyZMJ0+oG1sPDe1ISBrcr76IZcKVrndqP8kN9mxoabqWLbqENi67tH1oP16f7rfXiRZWrxaXdUpNH7Rh0P2BUGZtlWeVX0e1UcsG2nUJVH4bZcMXnuI8jasfK0+hQQKFLzxpubdHxi4P/9YPn+fu6THB3XBJ3cT8pee2SBR8iik8SbTx66FjLSl3d/dx7vpL6jxFJt42IlGYMeFlyM21HmvykjLmEzoPr5cnXpY+j+80LMzz4Ogl9eojblaOYnkTWRlaOs+/5h+3b3lLmE5c/SXwVK7a6Nd3ds+J9WzFhSeJVvH6WJmNKTwNf+JVN/XwqeBvyptfupFPH3I9Vj7i/nppnbdh21HTI6JRXHjybQS2Dn3pBj/6grthaJ2n1rX9xkRsFEt4Unl/uejqsD/ajLzLTXjpRFiW2tR10abwugQqLd1nAla+950vxJjwdEO3WwPPJHknJf7Fls2bs2dxWB+JTyOWjYssi7f4wEp3U986LzyJT365dpyp/KWvrHbDlo5x8niyMa1lAS2v4rjwpHRLXl4VSeOnb9OzQ2hLaYshPA3d/nFo87xrOrqeq/eHHkDB0nsbD7pzr6rznm4//YFA5JDwo+v+38CH3wltdbt3d+SapTNBxBdN7JrFWhbujqW73EU39wntdZr9SERc8YWnW+/cmFiW2VOsJfOs7LjwJJZaOtCu+3E24WnQo++HdZQdLa+n5fbMhpbyazV4VpimZbexYV38+tmx8suO/kbu+qpeu9Rus+0ztHNpMcJTvk8a0kMAAhCAAAQqhwDCU+X0JS2BAATKjMDZs9+GXk09e/V3EjySwuIldcskPbXzmaQkeZ1DeMqMq7kJT0mCQ9o5X3iatvVAolihvZBsaTaJFnFbJjzFl5+Lp0v6LLHKJi203F5SGp3rPrFuaayRyx6rl67YwlNaPdLOx4UntanXtGX16qn8mYSnsWvrlj7sOm5uYv7FL3zsWrS9PeQ2y/OaatN9RHh+0gN76+W/bdTM8Pr+/QcyD/yUq3GhRPsY6VzSX+vrB4Xldbp1Yr00Elms/zvdOqnedbPZwxOEJE7ZecVags9saG8o/5p/fP11/d2lF98SEYX86zq++sruga0LL7jB3dSmjmWmfaa0nKCV3+GWCanlq26WTuX4ZfvCUyaefp6U7sl6WuKELzxpOT0TLPxYS8MN9iZSp3UdXS9dsYUnv3z/WGKYsWvfsl29evhptWSd0g6+qbe76fJa8fO6i67LmMfyT7ytTuTWPkl2Pi3ORXjylxns1qpL6tKF8ioznpef17JeurjwpDaOaj8wsY6NKTyN3HkwFGFMjFGspetadKl7nsc9hXyvqTQbdx49HQpY8nry7RdLeLp9fp23TPflWyNl+OV1W/pgOOZaD58apst6g8US+EKMCT8SZPzz2Y4lVNn4lxdRWvq+M+tE+gmb7qyXLpfytWeUlTVkcU3EhglPEr/M+6rzyB6RNFa3u3fU3bN/vaDWi7QYwtPti+q+Iwc/djwUNXwBQ0LQpR0GuTajFgWeRv41/1j7B1lbtT+Ufy1+nIto4otiV9w+OmLPF55MDIuXkfY5SXi6rOPgiH3Lm014atGl7jtXezVZvnh8ZY+6HxzdvvDJ1HSd7nkkZOgLWHF7+pwLQ8uH8BR7kPARAhCAAAQgUEUEEJ6qqLNpKgQgUFoCy5evDv8D9+6776UWLi+FMWMnuT17nktMc/Lk527DhgfcqFHj3K3tu7iJE6e5hx562H377XeJ6XMRnrQE4NaHH3NTpkx3HTp2dcOGjXZr125wJzLsNbVi5Vq3bNkq9/HHnwTlnj171kkoW7lqrfvPf/6TWJf4yePH/+VWr74vKE9tGTR4hFuzZr2TSJcWjhw56u5dttL16z/E3dalh5s5a6578qmn3W+//ZaWJTj/ySefulWr17mBg4a7O7r1CWwcPXosEABtciKNufJqXy4tk6h6Tpp8Z8BL3NKC8sybtyiop5/niy++TMyyffuTbvTo8U6xHyRmmPCRJAyliSU6n5Pw9OKnrkvNPeHYDJd3e/HTQNgoVHia9MBzoc0ek5fUE0n8esvDSF5E6gfF/jUdl4vwpCXx5KWkeqovkpYmzCQ8XXFT7X4YWmbQ9/yKt1eeYFrub+qW/REWEqFsrKpf/Hwzn6i7dk2HPv4QyutY4keuQom8nP7+t6uCOskrSflMPJGYo6XnVF8tx2fn02IThZR+YJ8VYXrt7WRt7nXHvPB8mp2086qbLc136001QRlmV15USfmGDVgftkEeXklp/HPXX9fPtblhcODp5Z/PlaefJ69O8xJLRMlFeFI6LWsnEUQctHdR3MPGhJJsezzlstSePJ7SBB6d1zJ7qoe8r9LS+SLP6iH3uGld67wDN4yYn5rP7DWG8KQ9plRveTQ9VLMkYx3kNWVjbka3sZG0Jjyd9+eLXPdWtR58YmZ7OFkbFDeF8CTRRnszWf2vGzAuFGt0LSfh6a0zrt2k+aGNiS9/FNoohvA05eDnTsvnqY7aw8kXmpKO202c69rftdRNPfRlmNa7lXI6NCFGcS7Cj59ex3c/Wcej3z3DEkUey7Pm2EZ34ZW1+x4ptvMW51L+ysPrQ/5dxvSK2DDh6W8XX+x63Vn3o4L4soAq76r2tUtLyvtK4pSYF0N40jJzNsZMpCg0LrbwpHpomT3VT0v/+fUqlvDUblLd/mXdl++NlKHyMglP/TcfCdndPGFVvbx+fWue+9ZJpOq6eGfGdAhPOT0GSAQBCEAAAhCAQB4EEJ7ygEVSCEAAAvkQkEii/7Bqib1Cw65de0KvKfvPucWXt7jWSZSJh2zC0/vvH3dalsvsxOPHH98eNxl8tnTbtu1wNWMmRvKfOnUqMY9/8sEHt0bymD3F2vcqbuPXX39zvjeYn17HEpNOffWVX0R4/MILB1K5vfhi3XJwScKTRC1//y2/XHH74IPjYTl2sGPHztS2ydZrr71hSYNYYpRv9+uvT4fXJS40tvDUbULdklJxMaVQ4Ulik7Upk8hi4smA2XUTYrN3vhURVcpJeBIfa5eWCbT6W5wmPElcs3y318yul8/yZ4tvHzMntDPi3kdCO1qWz+zLu6zQIPEjH6FEoo2Vq2XvTDzpeUfdvkx33HZ3eN6ux+N+PeuWIe3cfnKYvn+vuvO5egvFbetz187Tw3raUn3yfFLdL7m4XVienzfShs4zEtP46dOO8+FpNgrtPwkTuQpPSnunJ96sHjI7IoaUUniy5fbk0eSLLP5xvza136EmTslrycZemneQn7/YwpO8xqz8ATf2Sq23Xwdbck/ikn/eF542jlwY2u145a2RdMrTVMKTxJsbhk4J6iaBxxdzchWeOtxV12f+Pk/FEJ6Gbqv7Lh+weXekfn5dMx3ne9+Z6KM4F+HHT69jiU02hlYd2RARguJp9Xn4sjrPSi2f56fJpfy1b9ctM9hpZPdIfl94Wn5wXej1dFPfTpF0k7fcHdZ58kMziio8aQk74+Hvg+SLJrkeN4bwZMvtab8kvx7FEp60xJ6WGBSDP114jZNA5JeTSXhqN7lu77PRz56N5PNt5HOM8JTvE4H0EIAABCAAAQhkI4DwlI0Q1yEAAQgUSEDCkP4zKa+iQsKBAy+H/yGXLXkKyTtGYowvjHz62cmI+UzC05kz34R5ZWP+giVOQpK8e1pdX7cRt8SXeLDJAe1FZceyoXynT5+JJ498VhmWR+nVFnlcyYvL2iLPK385wkWL6iasunbt5TY98JB77LFtbtq0ukmQpH1t5LVlZSm+a/osd//9m936DZvcjTd1CMvTtbjwtO/5/WHeNm1uDcp76aVXAo8zq6fi77//PmyfRCMrT22Tl9Uzz+xx8+YvdjYGdF0eYhY+/PBEmEfX5C1lQUJEYwtP/r5DWnrPFz8KFZ5s7ygt4+fbSzuecP/ukMHEjXsiecpJeKrtjzrxZ/z6ZyJ1TROe7t5+MGzfkAUPRPKkMUk6v2Dv8dADTGwlaGn/LhtznUbMCGzb+Mk3lvCRj1DSp3vdMokSd0w40dJ6Viffg8mux2N5T1n6tjcMCe3ovHlO6brEp2ED14fX43bSPl9x+W2Bfd/7yt+bKb4vk+zk24a0svPhaTby7TdLL2EiH+FpxaC65Rnjew+VSnjSfkvW960vbV1PaFGbJPJYfUbcOiBM0+HK2mXKrjj/yvCcL+j4x8UWnvyl+JKWKvTLtmPbW0uxnVPsC0/6POim3iGTBX2mRtI2pfDUZX7dDwS0/J6JOLkKTxfeUDuprv7W0nuWvxjCU89Vj4XMxj7/Xmjbysgltvso1zhf4cdPr+OOw7sFddbeS/FrSZ+nb6v77pm+fW4kTy7Ck4Qiu9f6zYp6WPnCk8rWdUs7a+fC2rLeeSDwbNL5K29pHZwrpsfTwK1vh2VKeNESeWNe+KEgEaXYwpP2ODIel9zSP1KnYglPQ7d/5HqtqxNQbxy3PFJOJuHpmn53BvX7y8WtInnyEZriaRGecn0SkA4CEIAABCAAgVwJIDzlSop0EIAABPIgIG8d+w+rhIh8g/JL+JANiS4//vhTxIQEJBM1tBycHzIJTxJhZFPiyeeff+FnC0SfIUNHBdcvuril++mnaJnWHsVa+k+eP7///nvERtIHLcNnde3Td5D7+eefI8m0N43ZfvXV14NrqpudkzgWL+fw4TovlC1bHonYGz++9hfayp+0xKGEQLPtC09a8tA8wVRPXwRTAZ9++lmYT3WysHfvvvC8lhL0wzfffOMGDBjmXn/9oH86OFY9xEVLB/qhVuiYHdqUsJH2N/3x1yKCRral9ubtfs/1n1W3tMv1XYdE8qtsE57+cdXNqeWqPlpazxdKWt5cO6GmZd/882nHs3ceC9sYF2aKKTypr9P41Z5/0mmfJb+eJvxpqT2dn//sB6H4o6UBJf5Yetmw8eTvzySBys5LZLP0hcSD5tWJNH1nrHL+En7z9rwf2PbHUD7HEj7yEUq0HJ2165abRoeCUNsbBofnTUzJFv/lL5cHea5qeUdoR3l8byUrS/s5aZ+mXJbfUx1tmb2O3j5N8nwye+1vHhspU+UW0oakNvo8W7bo4uQBlvYnDy/ZKDRItMhHePK9hsZ1GhoROEzoacyl9rS/ky0tp76I18HEmYV9p4V9pTx2fmb3ur1K1sQ8tiyNxcUWnhZ5dVraf3pYJysvKe7Rqnb/Ni1t6F+PC09bapaGQtvFf788sgxiUwpP/TfvCvth5NOHQnEnm/A06dVPXNdFdd42V/UcHuaVIFQM4cn3pspFZEpKk+9954tDJvxoybkpW2em/i17fW0oGF3doXapxla33xye823Gj5e+WvfM0n5N/nUrP22PqVk7FwRikT3z5uxeHMkfF57kgWX7N13b+aYgbc3/b+88vKQo0z38/9y99667a0KRIElykjDkYYAZYAhDkigiIEiQvDCIgICgIMG0oq45ra5ZUTHnvSu6q66rezy7p+75dft+9VV1VU9329POtE+f0+erqfriUzUD08+877d/hbv/ShOo8cspniQ+BnkRf5rr/1zQJbiifnkgCTL7zvcLlirlFE8SQv1mhNJu1NqjkXn44klznbL3qdR3fO8qf48njSMGl48J9/NSFJQJoXziyaKxuoyc4epbu1LLUsST7lm+9eua7QelunP+8Imbb7Hff9SHAAQgAAEIQKD9EUA8tb97xowhAIF2QMBPpaZInWJffrRTXGZYXw8+9Ij7QMCXSGniSfsT2QcQcVljfSp1ndVR+jj/ZecViVTMS3LH2n700ceJTSVv/Kgpi3aSAEvbP2rt2qyckbyxl2SZjaX9qJJevtTyxZPS81nbz2JRZNbP1m3ZNGBKDWivU6fucu2++OJLO11yKTFh4sPmk1ZqXyBfZPjiSdKkY8+hkbffj/YsWn3ymUh79WXiya+bdBzff0rjqV6/sY05ffpztGNJMOt34rItkTblFk82TloZ52D8TTxpznO2H3PzbVi92803TTxJptl48b2bjEHB5VOfBJ37jHD9Wb8zNx508yj1gZP08EVJS+nt/Eil/n2nOnnTq0f2A3YJnyQZk3TO9ovqeOmgnDaTJmwMzj8/u7+JrddK7S+leWouSf2OrQnl85wZN0fqKAJK/SSN2dIaFCWl6Kykt/a4srn4PG3OaWW3rqMy7Uq9f5IZxYgn7fNkc4kLpnKKJ42hFHn+W2n1bGy7fmJxc0TImJwxOaW9oOycypNLmgPthaT2TcOmRq759XRcbvF07YTsH2Zo7N0z1+Ud2+bSMDC7z5vanFp6o2sTF0+qf93EcA+rhaNmubo/p3iadSL8w4rph+938sgXT7/r1Dvo0HtY5K312vtX53UIfGlVLvHUf9bVmTHUf5JU0p5So9bsSnxb9Fax33dJ4sfWmVbO3rrQCR/tp6R6A+tGunN+n/FjpcCzfhvWzI60MfGk65369Iq8TSBZW0VaxfuOiyddv2pPlqnaSaYpMkvHfvq9counJU9+Hyjl3n/9OrtHoM3Zyo6D6oLJex53siJNqpQinjSG9m/y30qrZ2Pb9YWPRlPg+eLJr5t03GPCwsjck8STZJO1lYSyNeYTT4oQU5tuY+e6+tZOZePRM4H2foq/R6+7PbG+2pQqnmzuhZSIp2J/6lAfAhCAAAQg0L4JIJ7a9/1j9hCAQBsl4MuNW2+7vehZKjWcfoFTZFLay5dE2rfIXmniu+MimgAAIABJREFU6c03z7pfbN96+x2rnlNaKr1t23ZGrtkvlEr3V8xr//5DmXF9WdNS+5mz5mXazJo9P7XqffeHESUWEfaBl2YvKcpInSmSydbiiydFcem8L7Lig2vPLWtrqfPOnAkjdxQp9eyzzwWKWCv1JRlh4kNjnXdB59T3lQ2LnHhQO1882TyTSkUnrTrxp0hbkyC+eMo39sVd+0faKw2cxorLMOs3XvriqW75tkhf5RZP+daha9ed+nNkfOPviyfN3yKNJN1sb6w08TR7c/jX/quOPx3pP86ikK+vPhSmJhRniagdXprEUp83yRJflBQjngb0a3SypXfPbMRbKeKp02VDXT8mb6zUvkv9+04LLr6ot/ves2da7ZLkU9cuWUl3edeanH4VAWXtZ07dE7ne0homTwgjEa0PK2dNu8n15fMUD6UOTHtbtFep90/ColTxNGPoFCc31E+5xZOxSSrH9R4dKOWeCRq/1HpMLi0Z3ZRTZ0KfMZl7mG9/KPVXbvHk74+llIX+nNOOffEk6Wf1ksSTrvXv3D+zNq1fez/pXFsRT/4+Sr54Srq/dq5rzZRgwQMv54ihckQ82f5TaeKp6VSYOtfmY+WyP72fmVOx33e+vPHFz28u7BCkvec3L3XSx0TOoMk17pzfZ/zYF0/T1s+JtPHHt3XFy/8+74Jg6vVNwc1nb4201ThJ4mn/2SMZgRXvZ9uTu137sounp/6VESGSLJN2Pxr0nroyUPq4+BwkUHyxEj8uVTzFx/G/VjTTgge/zBnXF08SZorSSnv3mbYq0j5JPGktSrNnYyvloM7lE0/GqNu4eZH+jcuVV9/k+rN+Vcb3q7L6KksVT2lrt/O+VEQ8FftTh/oQgAAEIACB9k0A8dS+7x+zhwAE2igBpW2zX/T27TtY9CxtHyOl28v3sjH8qKo08eSLmm+++Udqt1PqGzNzj0sfG6tY8WSp7bS/UqEvk1/rN2xObfLKK685xibS/LR98b2vrKM08bRyZZhWRcIv6W0MVL525vVMl0oDOHfuQjcXqzOyZnxwww3bgnPnztnQBZWSECY+4lFFLQkKXzzVr2oOFjTf4d4SRZqbpM72Jz5MFSEmngaMn5VaJ2kevYZPzvSvMul6/Nz60+H9KzXV3rXHnnTclx16MDJuqQw1T2sbF0+KjLL7O3jygsx4aeLJT7W3/PAjkbnFWRT69cDaJje+RJTfrqCHK6FSseJJEUTGwE9XN3RQuD9IkgwykeSXilxSX717TXLSxr8eP25q3B+MGnF18JvfZKMG1HbE0DDdn+qrjs3vso6DgysHz4u8B/af4a4PGzI/Mq7qWtukNUybvCPo0nm4e3e4OLuPn9qkiaeWRJ6tMeHWFHRKYqIY8XRsUTZqU3O+euw8J0LUT6HiqXlmuM+eUuKprb1NqKh/pcWz96raMJqnpudwV9/a+aX2nrL70DCoLlgwckbkXdMzjP5rnrE2ta9yiyel17N57Zi+OnVcfy0T+2X3GotLMuPU4bedIv3cNDubDlfjjLmiJnPt5xRPinKyNS986IwTSL54GrtxbzDt0Gn3vrD7wEyb8y7pHqx89Zxr40clLXok/IMNP5LKr2PH424Iv6ftnMox68MP1le99mXOOIqy6jFhhnv7+02VUzylpbqLSyR93W9cNuKyz5ihTuQk1bNzO54J17j4wLWRNiaeug7oE1x9ZLV71183y92zph2LIm2sX5VJ4knnV54I94HTvZ+wpCHSR2uJJ1+A6Ljp7g8z0Tq+tGg8diZRsqh+qeKpbtdDgb3Hbw1T58Yjlfz5+eKpZs2tqXPy29hxmnha9Ng3gUUxSSpJOuUTT0qxp/vTefi0xPEnbL8vuHz0bPc2UVVu8aT7Y2tLKyfuDP9QDPFU0D/tVIIABCAAAQhUDQHEU9XcShYCAQi0NQJKE6dfCiU0in1p3ya1HT58bN6mqqP37t17Xb008XT78VOZuqr/3XffufrxA0XtqM7EuqmRSzZWseKp0LX4gyk6SuNt3rzdPx059iONLLrpgQfCqJC0dHlp4snmqXE1fktv7TNlL+1bdfDQEbeXlbGyUhFshb588fFTxNOq49GIJj9V3LS1eyPSwhcYpYqn4dOze69IbPn9pR0vvTn8QFOSxq+nFIFiN2z60sh5v46Olx54wD3TaenyimWoftPEk66NmR8KymuPPpHZP8rus7/H0/V3v+TmNmfb0bzriK8r7evp68L9PuLysNDnK15P4sOP0GlJlNTXbXHrqhu3zombcaNWuvMz6pvdeRMr8XLerFtcfe3dFL+e72tJHmPe8dKBkbY1w5e6a1YnrVQUlT/OuNHhvkKN9bsi1/x6duzvRdVexNMub9+SzQ0rItJDafHEqrbv2Mh5X6ToeOvU8F5LlPjXTagoYsc/r+O6/uPdvckXMSThknbP4uenD56UM46NW27xdOtV2928VoxfkDquja+yz2VZOTnk8iGR+sYpLp7URikQbZ3NM9b+rBFPkko2l5WvfO7kji+eFtz/kjsvIVS/907XZsKWQ5FrJo6WP/eJqzN5z8nEOlZ35Mos9/+9sEuk3tSDoSSQyLL6aWXjkfDD759LPI1dOCWzbqXC8yVQ2vGqUxscp3X3bY20MfEUF1+KWrqke3b/PI2z98wtkXY2Vpp40nXt8aT7rogpf48qXauUeDKJ4UuLoUuaUyVHKeIpSZr0nREK5hm3v5E4XmuIJ61XEV/2/TZy1aG84ql/U/bZ+PXFPRLnaPysHDR/a/bZ6zootX4pEU9JDG1MK/17iHiK/y+MryEAAQhAAALVTQDxVN33l9VBAAI/I4Fx47MRILW19S3O4ttvv43U2bGjOfMLYr60b/5+RqdPh/sxpYmnZ559zv1Cqz2o0l6jRtdm6ilSyX/ZL8PFiifbF6lP38F+d3mPx4zNpu26ZsXq1Hr+Pliff56NKnrttTNuje+++15i2zTxZPtKtST7Ejv1ToqtIq92Ne/JyCvj9vHHn3i10g998VGsNPEjnuLiSWnZLume3btA6eW2Pvp+ogwpVTxNXrHDsd/0x7OJfftCRfskGZt197wcqX/FiOyHc71r6iPn/fY69vdRUuo+/7rJo2IZqg9rG4940rUtD7+TSX2ouStlYVrEk8SQra926abI3Px52vHmh99psU5bEE+KcrJ1+XKmwRNSEjgmZ9LKhrrsh2Dqq5D68X66ds5GvSiFnX9NUU7qU+eVii/pbXtLqd70KTtd+6mTtrm1SaT5/SYdjx4ZRua0F/Hky5j9c26IyJBBP+5tMvjywZHzvkjR8coJYYRnPF2eCZUk8XRw3mbHd1j3oYljHF+8y6XZ63xRt0BzSnpbdJZKP4WdP1d/rerXv5Z0fMuPH8zqubhu4uLE+pYCsH7gxMTrfr9+ysD6gbWR+sYpSTwpKu23/3txhtWALgN+VvHUd1o2Uk3RS77QySeeVp35Mrio15DM/CWLrn3p/yJtrR9x1nvMuhsTr1u9AU3XZOpd0ndEpN780y9mzquPhpvviVyztn4pwWVj/lziaebmBW4OcaFjQsgv89VPE09qr+goW6v68Pu043ziaeODWdnXuHFeTttKiydJHot66lm3JFWalEs8zbnnY8fO32/JJIrK1hJP6ltRSrp3WvO8+/7i5jJ+yz2RtddcF6bznf/A55Fr/lztWCkM1S8RT+n//+YKBCAAAQhAAALlJ4B4Kj9TeoQABCCQIaAoJPvF/6233k6lIoHUf8CwTITRRx99nKknuWNtf/jhh8S277zznqvzxhtnXZ008eTvO/Xccy+4+vEDpZjT2NrzyH/ZfIoVTydPhn/9rBSESS+t0b+2/JrVmTlI3qW9brvtuFu/0t3p9eWXf3PntB9T0uuf//ynq+Pv8XTX3X9w5/25xPvIdy1eVykAjdu994ZyMF7P/9oXH8VKk3ziSf3O3XG7m8+UlTsTRUep4un6e8IIn1FzViX2bZJl66PvZVL+iU33IRNy6mrvKl2TINv2eHpawJEzsx9Iqq71baXJo2IZqr21TRJPuq4IJruvo+dkn1V97Uc8qZ7tCZURfY8liz7V0x5Taq/15BNQP7d4mjvzoEtzpzRzvoxR1JSlzpPYSUpV59e3fZi0B1LT9H2RvqbUbgpaiprq1WNChtn55/dwbf1IqGFDFrjz/rg6njn1Rnf/Bg+Y5er5a7jwgl4trqFv73rXT3sQTycWNwcSHXrWel56RUSESJiM7zM6c03S4+SS5pzrJlUmeZFLds5KEypJ4kl1/LZKXWftrFxTF4rN3TOvz7lu9VbVhvIrnu7P6rSGeBrbe5S754fmb0mdn+awaFT2A2TxVpSYzUulcUoST7rupyb094k6NC87pv9vRjHHEjH5pJEvahTJpLnrPWzZxojYaamP+n13ubZKief3a8e/65Tdt61n7azE61bPJFb38Y2Reqte/SI4v2u/zDgdeg8LktLtWR8qhywMo1V/LvG05bFdjsv4JfU5UsekkMo9rx4MFLEk/r1GDMqpm088KeqpY68embbae0p9+X3rOJ940vXpG+YmRkuVWzwpzd3CR77OK04sBV2/WetS65VLPEnU9PMiQ6cfeTlnzNYUT013feCekQFzbnDHcfE0+8733bV+M6/PmaMJJysv6jk8Ux/xVMxPTOpCAAIQgAAEIPBTCSCefipB2kMAAhBIIaB9lEziKG3dd99/n1jzujXhng7Hjp3I1FGaOPvA5/Dh5DRttneSUsJJXtkrTTxJzijqSP3OnDXPqkdKRU7ZuGfPvhW5ZueLFU8ffBBGftx++8lIn/ri3//+T6D0ftoD6r333s9cP31fmELtzTdDqWaNJX8k6zQnfy8qrdH2h1Lklgkpa6fysceecGv0xdOnn37mzqcx37//UKZ/pfmz11dffRUsXbYikAiMv/7xj29dn8dP3BG5rOdBAjCe9tAXH8VKk5bEkx/1pL4VvaPx/Hep4kl9DJlylVvv4n2nI/3aGNuf+CiTQs+ep0U33ZNTb9bmw66fGRsO5FxXXxvvD/cI6TumMaeOyaNiGapva5smnlRHwszWYGVcPPmpAMddtS5njupHYu2yK7LPsvqJR6qpjr0LFU8SsC+//Grwn//8J/LMJX0hEVNIqr25Mw4EPbpl96vRPP00eyZ2xngRQIM8oWPXrRw1IpuWUf0MGdjkxI+uaw8nnVfEkqKirI1fzp6+N3Nd9TQnu6Y0gTqn98ype9x5u+6Xl3TI7nn2u991i9QbW7PC9TGgX2OqfPKjozReOcVTMfdPkqKQPZ4U8eOnsIun2VM/144PozHi+z/put5HFoRRYUlRSyZU0sSTxIndo4FdBkZkjPof1j2b4uvS8zvnXLM5qLzd26tKKfz8a3bcGuLpwNxNbv5Kn5cWSSVpZtFRSes0TmniSWvo1ykrVYyXyiTxpH83P/jwo6Rv75xzEjAtSSPVWfzY2UARRhrzV+d1CJY/+1FE+rTUhx/1pPYrXvgs0l5j9J8Z/hxY+OBrOddVx0+PN27jvpw6flq/4ddsDjSu2sXf8+8Lo6O0prh4KvR7zpc3+cSPXy9+PGruRPcMaT+l+HV9ve+Nw4Ffb83dN+TUa2n8JQfDlJjTrm/Kad+SeEqal87lE0/6f83zz7+Y+v9d/4HUv08meC4dWBss+OO5RHlSf3O4t+KYjScT60iulFM8KR2cfd8l7aHUmuJJa1FKQRvfyrh4Uj0/LaDS9JlkipfiZv20NfGk50B7tp774gv/8eAYAhCAAAQgAIEqIYB4qpIbyTIgAIG2SWDnrvAv6yVKlO5OQkpCRKnXfOkk8SIJY6+NG8NUVBI2Fmnz/ff/Cnb8PkxTdued91iTTGniSULq73//KvIBgC9d1q7dGFiKP/3ip4gcE2USKfGX/dJarHhSP4uXZCNT1L/a2zr1YZlFN6l/pajTS3yU8k7nlG7wz39+3k1HafUkzmw+8Q/c/Mgl7dv0xRdfuj4ff+Ipt0a198WTKq1bF/516eEjRx3zv/3t78GRW4+5MZWWz16DB4/MnNfaHnr4UScBJZS0R5XN0xdTEoXGWvdJ6f/sJclg4qNYadKSeFLf834fRoolpYAz8aQ0ciuPPZX3fcMf33RSRH0rckdztjWPnrs6015p5zY9+FYgGdW5T/bDTNVJinZSP5IxihKyfiYt3x5k0vE99Umw6aG3AskqSSG7vvzww5F5xBm2tA5Fa6mNvY1/PvG06sSf3Pg2j7h4Un/GU3X6j5sZrDj6eLDt8Q8CMVl++JFMuj5rXzN7pZuDzcUvCxFPfrrJuXMX2mOVWkrG+OKpX5+GjPCR9NG7duzaYOiguS6aSXPt3OnKiKwxoaMoJ0UK2XqU5m7yhI2BpJWipeonbo7IK8klXbP2KhWpZO0VDXXl4HmZdpqj3nXj1wd+qjxfgCkKS20vvWRApE+/fzv2JVVccPn9aw8pjTH7x6gsCSbtSaW52zxVpomnAX2nR3gaV78UG3sVe/8kKHzxNHVQXSDpYe8b6q8J5o+cEUjk2HzTUukpyslSvKnu3BHTA6XHu2PZnkAp9TZOWe4ipnR9x/TVOcLHhEqaeNJ8J/cPpa0fCaQxbI6zrmzI6duEkpUjemSFrcYSAztvZaHiSRJL+zdp3ykbf+mYOZlzt121I6ffyQPC+YvruknLgsMLtgWnlt4Y7G3aEMwZPs31o/6SIruMUz7xtGd2+EcpNq+4eNLegnbt6NHj9hillhIyvjSactMdwfzTL2Te8+59PpOyTgJHssj6TUqF5/cR3+PJpE/D/rtdHyNX7cgrgzSe6l/97IeZekufejeo3Rb+AUJGXr34l5w+Vp/5mxNkmm+X4XXBzGOPuH6WPf1eoH2qlPLP1qPSF0/FfM/5MqYl8ePX9Y+3/2lPZC4TljYEGx7YFux7/XDQ/OL+QDKq64A+rk7/CcNypJH6a2l8P+pJezXtfvHmSD/lFk/a69L/f439nzXtYdT17p7svqD70ECCZNapdzICZeEjXwXjNt0V/M8F2XunUqnn4lLFvi6neFKfiiKyZ6bhwLORcX3xNGjBtqDx2Jm874WPfuPa1+8P/+8w556P3Hlbh0rVtygvm0OSeJp776dujqrXt/G6YNqRlwOxW/zEdxmW/WM/R9qaeJre2OTWoCwBvCAAAQhAAAIQqC4CiKfqup+sBgIQaGMEJBR8mWG/QMZLSSnbp8iW8PXX3zj5YvUlKexYZdOcq3KiGl586eVInfieRb7oUR/xPhUVde5cds8km4tKG7cU8aQ0fxaJZP3Ex42n9lP6QL+OPtDwv1Y/8Taapz7M0L5aNo5K+zBEx5Jqdi0unr7++uvARJLViY+5aPHySCSV0ijG61g0lvXhR2VpjoqYsmsq3377XYdaosHER2uIp98/9UnQsefQzPjqP74fky9K/DkmHU9dsydHlEjy/LZDdmPzpDZ2rku/miC+L5MvWZq23hZhZO3ipdLy+e3s2BjG6yd9LSFk7VRa23ziSfUk1vz+ksTThvvOJEZH+e10PLC2KSOj/HnEjwsRTwcOhh/W6rlv6SUR44un+LziX0tMzZt5KFXsSMB0vDS7l1i8rf+15I6/v5IJIZV+1JHfJn4sqWPttN+UXR9x5UJ33q7HS83T6vfvOy1Sv9A1SEBZH2niya7nKxU9Za9i758kiy+e8o2jaw2D6vKm0fNT2OXrS2n5TPD4pQmVfOJJKeqs796X9XH9XDMu5HnT7PXuvN+/f7xm4mLXj6SYf03HhYqn2r7ZP3KwOfllUuSVBJ32ePLrJR2LQdK8NDfjlE88qZ7ul993XDwpWtiuFyKa4+LJ2qaVk3Yfz5U9MXmVJp4khZQCT31LHMWjpjSXQfOjP0PT5lG382jiPNSH5FKXkZMch7Q+JKDsmi+eivme8wVSS+LHrxs/vv7ezcGFnUMZbPOKl1dOGxPc+MqBiDCyvgoZf+mhMOpp8rUzIv2UWzy9duZ1x1fr8P/Yxn6+xcvFT34X+Onk4uv3v84X0SNZU27xNNeLelJEli+GfPHkzzHteMbtb7j2hYgnjVXX/HCEZ5J4Uj2lAoxLqvg8fn1xj2DQj3vYtTXx5M9VKbR5QQACEIAABCBQXQQQT9V1P1kNBCDQRgk88MBDOUJDv2zpg2FFzygKKuklcbVh45aIOFE7iQ5F4CS9FC20ecsOJ0MkUuIvRQXFZYn6Vfq+tJSAJm9KEU8aX3srWeST/4um+t2790B8ipmvFa3k/zWktZMcy7dPleRTkvDT+Fqf9RMXTxpUf7W7Zu2GHOaa5/oNm10UlD9hibV58xcnMt26bWcOUz/iSf22RsTT6pPPRGSKLzHm7wzTrkxctiVS76eKJ42z/t5XgxEzlicKKMmchtW7A6Xc8+eUdCyJ5aehs/umUv3M2X40tQ+TR36btONSxZNSFfqRWUniSeva8eTHGZmlOcfncFHnPkHj+v2B0iAmMfDPFSKenn32OTfGmLF1/mOaeCwho0il+Lzsa0UdKS1dnysmB3Xj10UETVzm2NfqTyn0lMbO+rFS+0D17zs1r7xSP5Nrbwg6dRyS0179KKqqduyayFyGDQmlhS+BbE5JpQkyzSl+XWvQ/k+2b5XNX6XWNX706sBPt+ePWYzIU3++eCr2/klOKNLGn59/LPkhuaMonS0N1+bIGbWPvxUt1a1Dz8Q+JUpW1y7KaWN9mFBR5JSdSyqnDKh1/dseTUrdp7l3vqhb3rbWn9Lc2Volj+y8leUQT/nmokgn7ZVlc7BSa6/pOTy4Zf7WnDnZ3IxTS+Lp2KKdkSi0uHjyo6p37GhO/B73T0rUzDrxeM6cbe6KDOo2ZmowfPmmYOHDZ1JlTyTi6YFXUutNPRDunViz+veJ9bQf1HmXdE+cU8eBo4N5f3gusZ3WYm/t76T+bc8nW4/KC7sPDKYdOh346fZ88VTM95xJH5WFiB+/fvxYEUg1TbVuHyd/zp369ArmNy+NiKJ4ext/aMPo9Hpnbw3Ul/Xt7/VUqngatyj7hz3dhvRz4+oZ89NLa7y0/0v6z6PJnLEbTwWKeLJ5+mXXUbOCmSfOOnFjbeJlKeJJUVTxfvyv/WihhoPPubqVEE+ah9ZuLCZsv8+N789Rx0pTeEX9chcdZm1Udhpan+FXc92tmb6011O8vX09ZkP4f0NFTdn5pHLIj+lO/+vXHfLWU1vt42VzUhpD60/PgvZytWvKCsELAhCAAAQgAIHqIoB4qq77yWogAIE2TkBSQ3sWPfPMn4MPP/wo+OGHHwqasWSS6it3/l//+nlBbQqppJzqL7zwUmZvJUt/V0i7n1JH42hPiqeffiYT6ePvT5XWr8SMuGnfGkWCFfqSgNJeVXoXytr6VvpBpfFTmj9FNRXyIYraaq8ore3dd98LlBYx7aUPafRLdrxfXzRUw/GC5jvchwpLb76/RbmStOYtj7wbXH3LQ8HCPXdnUvdtffS9kvpJ6rvS5xTltezQg8Gyg38M1v3hlYKEUyFz9J8zi/jb1bzHP514HBcu5f5aqfSm1G4KJk3YGMxpvDlH8LQ0XtP0fUFD3ZaMaFIZT83XUvtyXNe8Nf9J4zcEjfU7i15DIXPwb04x989ERmuUSkG3ffrqTNSOZFTafkatMXZ76lMRZ0rTt6lhRV7ZVM412fOif2PsQ1v9/6Cll4matlhKBkloNd72YLDwoTPBqle/cGKpmPle8/ynwexTT2YE26KHXw8UeZXW3ngV+j0Xlz/l+nrX8/uCVac2BOvv3xrsff0WJ3TK1X9r92Mc9W+OnkfxLORlAsJKSYlph18MJt/0RDDr5NvBosf+4SSF1aH8V14mc09/FkzZ+1SGo47bMi89I/odxH6GFfL7QCHPFXUgAAEIQAACEGg7BBBPbedeMBMIQAACEIBAuxUqaXJk1fFwPwPtAZVWj/PhHlOlsLBvHQlPfYijSLpPP/uLnU4tC5Ei1DnSKrLJ52o3qNj7V06ZQV+50V9tlYk9L9r/Ud/v2T0i/22nU8s0AfNLPS9QxXzPtbbAaa/9i6P+iEZ7cup51H6XhbzashRhbvkFVzn46BnRXqx6ZpSlgBcEIAABCEAAAtVHAPFUffeUFUEAAhCAQDsmUIp0aMttFOGjDxX0Vlo67f/Utf9oBNTTP000xe+5Hvlvv/3W7aX26KOPF/Rd4MsPjltfMKUxLvX+tVUxwrxaV2LpeVEkr36uSjJ/VoBkVptfqmBKW3exPzPbqxhq7Xnr2brqqqWZ51HpoQt9lUNe0EfrC6LWYnz8RDYifmTN+EjK6UKfH+pBAAIQgAAEIND2CSCe2v49YoYQgAAEIPALIhAXCtXw9fhFG5x8MgFVDetqS2vQt4hSQ548eWfw2GNPFPwdkyZCOF9ZCVXq/UPwtK7gaat89bwotZ6+399442zB3+9pAuaXer7Yn5mtLXDaa//aw1PP4h133J24D2baA9paQoN+24eMOn36/sxzc+7cubRHhPMQgAAEIAABCLRzAoindn4DmT4EIAABCFQXgbYkM8o5l80PvxNce+zJzJuUe+WNdtJ9KvWFYKqsYErjXer9a6tihHm1rhAr9Xn5pQqmtHUXy7G9iqHWnnexHK0+gqh9CKLWuk/2HFBCAAIQgAAEIFC9BBBP1XtvWRkEIAABCLRDAuWUPfRVfsHTVpmW+qiniRDOV1ZIlXr/EDytK3jaKt9Sn5c0AfNLPV8sx9YWOO21/2I5Wv3WEhr02z6Elj0HlBCAAAQgAAEIVC8BxFP13ltWBgEIQAAC7ZBAWxUbzKttS6xSH3UEU2UFUxrvUu9fWxUjzKt1hVipz8svVTClrbtYju1VDLX2vIvlaPURRO1DELXWfbLngBICEIAABCAAgeolgHiq3nvLyiAAAQhAoB0SQPC0bcHTVu9PqY96mgjhfGWFVKn3D8HTuoKnrfIt9XlJEzC/1PPFcmxtgdNe+y+Wo9VvLaFBv+2A1f21AAAHq0lEQVRDaNlzQAkBCEAAAhCAQPUSQDxV771lZRCAAAQgAAEIQAACEIAABCAAAQhAAAIQgAAEIAABCECgogQQTxXFzWAQgAAEIAABCEAAAhCAAAQgAAEIQAACEIAABCAAAQhAoHoJIJ6q996yMghAAAIQgAAEIAABCEAAAhCAAAQgAAEIQAACEIAABCBQUQKIp4riZjAIQAACEIAABCAAAQhAAAIQgAAEIAABCEAAAhCAAAQgUL0EEE/Ve29ZGQQgAAEIQAACEIAABCAAAQhAAAIQgAAEIAABCEAAAhCoKAHEU0VxMxgEIAABCEAAAhCAAAQgAAEIQAACEIAABCAAAQhAAAIQqF4CiKfqvbesDAIQgAAEIAABCEAAAhCAAAQgAAEIQAACEIAABCAAAQhUlADiqaK4GQwCEIAABCAAAQhAAAIQgAAEIAABCEAAAhCAAAQgAAEIVC8BxFP13ltWBgEIQAACEIAABCAAAQhAAAIQgAAEIAABCEAAAhCAAAQqSgDxVFHcDAYBCEAAAhCAAAQgAAEIQAACEIAABCAAAQhAAAIQgAAEqpcA4ql67y0rgwAEIAABCEAAAhCAAAQgAAEIQAACEIAABCAAAQhAAAIVJYB4qihuBoMABCAAAQhAAAIQgAAEIAABCEAAAhCAAAQgAAEIQAAC1UsA8VS995aVQQACEIAABCAAAQhAAAIQgAAEIAABCEAAAhCAAAQgAIGKEkA8VRQ3g0EAAhCAAAQgAAEIQAACEIAABCAAAQhAAAIQgAAEIACB6iWAeKree8vKIAABCEAAAhCAAAQgAAEIQAACEIAABCAAAQhAAAIQgEBFCSCeKoqbwSAAAQhAAAIQgAAEIAABCEAAAhCAAAQgAAEIQAACEIBA9RJAPFXvvWVlEIAABCAAAQhAAAIQgAAEIAABCEAAAhCAAAQgAAEIQKCiBBBPFcXNYBCAAAQgAAEIQAACEIAABCAAAQhAAAIQgAAEIAABCECgegkgnqr33rIyCEAAAhCAAAQgAAEIQAACEIAABCAAAQhAAAIQgAAEIFBRAoiniuJmMAhAAAIQgAAEIAABCEAAAhCAAAQgAAEIQAACEIAABCBQvQQQT9V7b1kZBCAAAQhAAAIQgAAEIAABCEAAAhCAAAQgAAEIQAACEKgoAcRTRXEzGAQgAAEIQAACEIAABCAAAQhAAAIQgAAEIAABCEAAAhCoXgKIp+q9t6wMAhCAAAQgAAEIQAACEIAABCAAAQhAAAIQgAAEIAABCFSUAOKporgZDAIQgAAEIAABCEAAAhCAAAQgAAEIQAACEIAABCAAAQhULwHEU/XeW1YGAQhAAAIQgAAEIAABCEAAAhCAAAQgAAEIQAACEIAABCpKAPFUUdwMBgEIQAACEIAABCAAAQhAAAIQgAAEIAABCEAAAhCAAASqlwDiqXrvLSuDAAQgAAEIQAACEIAABCAAAQhAAAIQgAAEIAABCEAAAhUlgHiqKG4GgwAEIAABCEAAAhCAAAQgAAEIQAACEIAABCAAAQhAAALVSwDxVL33lpVBAAIQgAAEIAABCEAAAhCAAAQgAAEIQAACEIAABCAAgYoSQDxVFDeDQQACEIAABCAAAQhAAAIQgAAEIAABCEAAAhCAAAQgAIHqJYB4qt57y8ogAAEIQAACEIAABCAAAQhAAAIQgAAEIAABCEAAAhCAQEUJIJ4qipvBIAABCEAAAhCAAAQgAAEIQAACEIAABCAAAQhAAAIQgED1EkA8Ve+9ZWUQgAAEIAABCEAAAhCAAAQgAAEIQAACEIAABCAAAQhAoKIEEE8Vxc1gEIAABCAAAQhAAAIQgAAEIAABCEAAAhCAAAQgAAEIQKB6CSCeqvfesjIIQAACEIAABCAAAQhAAAIQgAAEIAABCEAAAhCAAAQgUFECiKeK4mYwCEAAAhCAAAQgAAEIQAACEIAABCAAAQhAAAIQgAAEIFC9BBBP1XtvWRkEIAABCEAAAhCAAAQgAAEIQAACEIAABCAAAQhAAAIQqCgBxFNFcTMYBCAAAQhAAAIQgAAEIAABCEAAAhCAAAQgAAEIQAACEKheAoin6r23rAwCEIAABCAAAQhAAAIQgAAEIAABCEAAAhCAAAQgAAEIVJQA4qmiuBkMAhCAAAQgAAEIQAACEIAABCAAAQhAAAIQgAAEIAABCFQvAcRT9d5bVgYBCEAAAhCAAAQgAAEIQAACEIAABCAAAQhAAAIQgAAEKkoA8VRR3AwGAQhAAAIQgAAEIAABCEAAAhCAAAQgAAEIQAACEIAABKqXAOKpeu8tK4MABCAAAQhAAAIQgAAEIAABCEAAAhCAAAQgAAEIQAACFSWAeKoobgaDAAQgAAEIQAACEIAABCAAAQhAAAIQgAAEIAABCEAAAtVLAPFUvfeWlUEAAhCAAAQgAAEIQAACEIAABCAAAQhAAAIQgAAEIACBihJAPFUUN4NBAAIQgAAEIAABCEAAAhCAAAQgAAEIQAACEIAABCAAgeolgHiq3nvLyiAAAQhAAAIQgAAEIAABCEAAAhCAAAQgAAEIQAACEIBARQkgniqKm8EgAAEIQAACEIAABCAAAQhAAAIQgAAEIAABCEAAAhCAQPUS+H+iuq0k3rVBKQAAAABJRU5ErkJggg==)"
   ]
  },
  {
   "cell_type": "markdown",
   "metadata": {
    "id": "gQZP4CvL_qha"
   },
   "source": [
    "## PHI NER"
   ]
  },
  {
   "cell_type": "code",
   "execution_count": null,
   "metadata": {
    "colab": {
     "base_uri": "https://localhost:8080/"
    },
    "id": "P3K4USO289Ik",
    "outputId": "857ac546-2c96-4e7b-e4a6-d76f8fbc044f"
   },
   "outputs": [
    {
     "name": "stdout",
     "output_type": "stream",
     "text": [
      "ner_deid_large download started this may take some time.\n",
      "Approximate size to download 14.1 MB\n",
      "[OK!]\n",
      "embeddings_clinical download started this may take some time.\n",
      "Approximate size to download 1.6 GB\n",
      "[OK!]\n"
     ]
    }
   ],
   "source": [
    "embeddings = 'embeddings_clinical'\n",
    "\n",
    "model_name = 'ner_deid_large'\n",
    "\n",
    "# deidentify_dl\n",
    "# ner_deid_large\n",
    "\n",
    "nrows = 100\n",
    "\n",
    "ner_df = get_clinical_entities (embeddings, pubMedDF, nrows, model_name)\n",
    "\n",
    "pd_ner_df = ner_df.toPandas()\n"
   ]
  },
  {
   "cell_type": "code",
   "execution_count": null,
   "metadata": {
    "colab": {
     "base_uri": "https://localhost:8080/",
     "height": 662
    },
    "id": "lZmkC0LdYXg9",
    "outputId": "af5258d4-7a72-4508-bcb4-5c89ba9162f1"
   },
   "outputs": [
    {
     "data": {
      "text/html": [
       "<div>\n",
       "<style scoped>\n",
       "    .dataframe tbody tr th:only-of-type {\n",
       "        vertical-align: middle;\n",
       "    }\n",
       "\n",
       "    .dataframe tbody tr th {\n",
       "        vertical-align: top;\n",
       "    }\n",
       "\n",
       "    .dataframe thead th {\n",
       "        text-align: right;\n",
       "    }\n",
       "</style>\n",
       "<table border=\"1\" class=\"dataframe\">\n",
       "  <thead>\n",
       "    <tr style=\"text-align: right;\">\n",
       "      <th></th>\n",
       "      <th>id</th>\n",
       "      <th>sentence_id</th>\n",
       "      <th>chunk</th>\n",
       "      <th>begin</th>\n",
       "      <th>end</th>\n",
       "      <th>ner_label</th>\n",
       "    </tr>\n",
       "  </thead>\n",
       "  <tbody>\n",
       "    <tr>\n",
       "      <th>4</th>\n",
       "      <td>17</td>\n",
       "      <td>0</td>\n",
       "      <td>Yaqui Valley</td>\n",
       "      <td>203</td>\n",
       "      <td>214</td>\n",
       "      <td>LOCATION</td>\n",
       "    </tr>\n",
       "    <tr>\n",
       "      <th>15</th>\n",
       "      <td>24</td>\n",
       "      <td>7</td>\n",
       "      <td>dental students weredifferent</td>\n",
       "      <td>1230</td>\n",
       "      <td>1258</td>\n",
       "      <td>PROFESSION</td>\n",
       "    </tr>\n",
       "    <tr>\n",
       "      <th>78</th>\n",
       "      <td>95</td>\n",
       "      <td>2</td>\n",
       "      <td>Beloin, S. Ayora, R</td>\n",
       "      <td>281</td>\n",
       "      <td>299</td>\n",
       "      <td>NAME</td>\n",
       "    </tr>\n",
       "    <tr>\n",
       "      <th>64</th>\n",
       "      <td>72</td>\n",
       "      <td>2</td>\n",
       "      <td>Hurricane Katrina</td>\n",
       "      <td>409</td>\n",
       "      <td>425</td>\n",
       "      <td>NAME</td>\n",
       "    </tr>\n",
       "    <tr>\n",
       "      <th>12</th>\n",
       "      <td>24</td>\n",
       "      <td>0</td>\n",
       "      <td>Sweden</td>\n",
       "      <td>295</td>\n",
       "      <td>300</td>\n",
       "      <td>LOCATION</td>\n",
       "    </tr>\n",
       "    <tr>\n",
       "      <th>81</th>\n",
       "      <td>96</td>\n",
       "      <td>0</td>\n",
       "      <td>British</td>\n",
       "      <td>110</td>\n",
       "      <td>116</td>\n",
       "      <td>LOCATION</td>\n",
       "    </tr>\n",
       "    <tr>\n",
       "      <th>11</th>\n",
       "      <td>24</td>\n",
       "      <td>0</td>\n",
       "      <td>Karolinska Institutet</td>\n",
       "      <td>272</td>\n",
       "      <td>292</td>\n",
       "      <td>LOCATION</td>\n",
       "    </tr>\n",
       "    <tr>\n",
       "      <th>58</th>\n",
       "      <td>59</td>\n",
       "      <td>1</td>\n",
       "      <td>series of blended</td>\n",
       "      <td>214</td>\n",
       "      <td>230</td>\n",
       "      <td>PROFESSION</td>\n",
       "    </tr>\n",
       "    <tr>\n",
       "      <th>65</th>\n",
       "      <td>72</td>\n",
       "      <td>2</td>\n",
       "      <td>Baton Rouge Area Foundation</td>\n",
       "      <td>475</td>\n",
       "      <td>501</td>\n",
       "      <td>LOCATION</td>\n",
       "    </tr>\n",
       "    <tr>\n",
       "      <th>57</th>\n",
       "      <td>58</td>\n",
       "      <td>2</td>\n",
       "      <td>Europe</td>\n",
       "      <td>475</td>\n",
       "      <td>480</td>\n",
       "      <td>LOCATION</td>\n",
       "    </tr>\n",
       "    <tr>\n",
       "      <th>22</th>\n",
       "      <td>27</td>\n",
       "      <td>0</td>\n",
       "      <td>Malaysia</td>\n",
       "      <td>172</td>\n",
       "      <td>179</td>\n",
       "      <td>LOCATION</td>\n",
       "    </tr>\n",
       "    <tr>\n",
       "      <th>31</th>\n",
       "      <td>37</td>\n",
       "      <td>10</td>\n",
       "      <td>(2005</td>\n",
       "      <td>1829</td>\n",
       "      <td>1833</td>\n",
       "      <td>DATE</td>\n",
       "    </tr>\n",
       "    <tr>\n",
       "      <th>36</th>\n",
       "      <td>44</td>\n",
       "      <td>2</td>\n",
       "      <td>Italy</td>\n",
       "      <td>363</td>\n",
       "      <td>367</td>\n",
       "      <td>LOCATION</td>\n",
       "    </tr>\n",
       "    <tr>\n",
       "      <th>71</th>\n",
       "      <td>77</td>\n",
       "      <td>2</td>\n",
       "      <td>Florida</td>\n",
       "      <td>409</td>\n",
       "      <td>415</td>\n",
       "      <td>LOCATION</td>\n",
       "    </tr>\n",
       "    <tr>\n",
       "      <th>33</th>\n",
       "      <td>44</td>\n",
       "      <td>2</td>\n",
       "      <td>1,002</td>\n",
       "      <td>302</td>\n",
       "      <td>306</td>\n",
       "      <td>DATE</td>\n",
       "    </tr>\n",
       "    <tr>\n",
       "      <th>0</th>\n",
       "      <td>0</td>\n",
       "      <td>1</td>\n",
       "      <td>Pima Indian</td>\n",
       "      <td>263</td>\n",
       "      <td>273</td>\n",
       "      <td>LOCATION</td>\n",
       "    </tr>\n",
       "    <tr>\n",
       "      <th>14</th>\n",
       "      <td>24</td>\n",
       "      <td>6</td>\n",
       "      <td>Swedish students</td>\n",
       "      <td>1076</td>\n",
       "      <td>1091</td>\n",
       "      <td>LOCATION</td>\n",
       "    </tr>\n",
       "    <tr>\n",
       "      <th>1</th>\n",
       "      <td>2</td>\n",
       "      <td>0</td>\n",
       "      <td>2005</td>\n",
       "      <td>280</td>\n",
       "      <td>283</td>\n",
       "      <td>DATE</td>\n",
       "    </tr>\n",
       "    <tr>\n",
       "      <th>16</th>\n",
       "      <td>24</td>\n",
       "      <td>7</td>\n",
       "      <td>Japan</td>\n",
       "      <td>1263</td>\n",
       "      <td>1267</td>\n",
       "      <td>LOCATION</td>\n",
       "    </tr>\n",
       "    <tr>\n",
       "      <th>30</th>\n",
       "      <td>37</td>\n",
       "      <td>10</td>\n",
       "      <td>Birkenmeier, Colin</td>\n",
       "      <td>1798</td>\n",
       "      <td>1815</td>\n",
       "      <td>NAME</td>\n",
       "    </tr>\n",
       "  </tbody>\n",
       "</table>\n",
       "</div>"
      ],
      "text/plain": [
       "    id sentence_id                          chunk  begin   end   ner_label\n",
       "4   17           0                   Yaqui Valley    203   214    LOCATION\n",
       "15  24           7  dental students weredifferent   1230  1258  PROFESSION\n",
       "78  95           2            Beloin, S. Ayora, R    281   299        NAME\n",
       "64  72           2              Hurricane Katrina    409   425        NAME\n",
       "12  24           0                         Sweden    295   300    LOCATION\n",
       "81  96           0                        British    110   116    LOCATION\n",
       "11  24           0          Karolinska Institutet    272   292    LOCATION\n",
       "58  59           1              series of blended    214   230  PROFESSION\n",
       "65  72           2    Baton Rouge Area Foundation    475   501    LOCATION\n",
       "57  58           2                         Europe    475   480    LOCATION\n",
       "22  27           0                       Malaysia    172   179    LOCATION\n",
       "31  37          10                          (2005   1829  1833        DATE\n",
       "36  44           2                          Italy    363   367    LOCATION\n",
       "71  77           2                        Florida    409   415    LOCATION\n",
       "33  44           2                          1,002    302   306        DATE\n",
       "0    0           1                    Pima Indian    263   273    LOCATION\n",
       "14  24           6               Swedish students   1076  1091    LOCATION\n",
       "1    2           0                           2005    280   283        DATE\n",
       "16  24           7                          Japan   1263  1267    LOCATION\n",
       "30  37          10             Birkenmeier, Colin   1798  1815        NAME"
      ]
     },
     "execution_count": 71,
     "metadata": {
      "tags": []
     },
     "output_type": "execute_result"
    }
   ],
   "source": [
    "pd_ner_df.sample(20)"
   ]
  },
  {
   "cell_type": "code",
   "execution_count": null,
   "metadata": {
    "colab": {
     "base_uri": "https://localhost:8080/"
    },
    "id": "1GmZYUIkIS1B",
    "outputId": "f748a97f-30e9-48a5-f31c-7ec91384ea40"
   },
   "outputs": [
    {
     "data": {
      "text/plain": [
       "LOCATION      54\n",
       "DATE          15\n",
       "NAME           7\n",
       "PROFESSION     4\n",
       "AGE            3\n",
       "Name: ner_label, dtype: int64"
      ]
     },
     "execution_count": 72,
     "metadata": {
      "tags": []
     },
     "output_type": "execute_result"
    }
   ],
   "source": [
    "pd_ner_df.ner_label.value_counts()"
   ]
  },
  {
   "cell_type": "markdown",
   "metadata": {
    "id": "qVeR4zew_urR"
   },
   "source": [
    "## BioNLP (Cancer Genetics) NER"
   ]
  },
  {
   "cell_type": "code",
   "execution_count": null,
   "metadata": {
    "colab": {
     "base_uri": "https://localhost:8080/"
    },
    "id": "y1Ffv9qT_AYV",
    "outputId": "7d1ace40-7f87-4c63-987f-af1f58a4c1d2"
   },
   "outputs": [
    {
     "name": "stdout",
     "output_type": "stream",
     "text": [
      "ner_bionlp download started this may take some time.\n",
      "Approximate size to download 13.9 MB\n",
      "[OK!]\n",
      "embeddings_clinical download started this may take some time.\n",
      "Approximate size to download 1.6 GB\n",
      "[OK!]\n",
      "+---+-----------+----------------------+-----+---+--------------------+\n",
      "|id |sentence_id|chunk                 |begin|end|ner_label           |\n",
      "+---+-----------+----------------------+-----+---+--------------------+\n",
      "|0  |0          |human                 |4    |8  |Organism            |\n",
      "|0  |0          |Kir 3.3               |17   |23 |Gene_or_gene_product|\n",
      "|0  |0          |GIRK3                 |26   |30 |Gene_or_gene_product|\n",
      "|0  |0          |potassium             |92   |100|Simple_chemical     |\n",
      "|0  |0          |GIRK                  |103  |106|Gene_or_gene_product|\n",
      "|0  |1          |chromosome 1q21-23    |188  |205|Cellular_component  |\n",
      "|0  |5          |pancreas              |697  |704|Organ               |\n",
      "|0  |5          |tissues               |740  |746|Tissue              |\n",
      "|0  |5          |fat andskeletal muscle|749  |770|Tissue              |\n",
      "|0  |6          |KCNJ9                 |801  |805|Gene_or_gene_product|\n",
      "|0  |6          |Type II               |940  |946|Gene_or_gene_product|\n",
      "|1  |0          |breast cancer         |84   |96 |Cancer              |\n",
      "|1  |0          |patients              |134  |141|Organism            |\n",
      "|1  |0          |anthracyclines        |167  |180|Simple_chemical     |\n",
      "|1  |0          |taxanes               |186  |192|Simple_chemical     |\n",
      "|1  |1          |vinorelbine           |246  |256|Simple_chemical     |\n",
      "|1  |1          |patients              |273  |280|Organism            |\n",
      "|1  |1          |breast                |309  |314|Cancer              |\n",
      "|1  |1          |vinorelbine inpatients|386  |407|Simple_chemical     |\n",
      "|1  |1          |anthracyclines        |433  |446|Simple_chemical     |\n",
      "+---+-----------+----------------------+-----+---+--------------------+\n",
      "only showing top 20 rows\n",
      "\n"
     ]
    }
   ],
   "source": [
    "embeddings = 'embeddings_clinical'\n",
    "\n",
    "model_name = 'ner_bionlp'\n",
    "\n",
    "nrows = 100\n",
    "\n",
    "ner_df = get_clinical_entities (embeddings, pubMedDF, nrows, model_name)\n",
    "\n",
    "ner_df.show(truncate = False)"
   ]
  },
  {
   "cell_type": "markdown",
   "metadata": {
    "id": "a8W07CdCZJmO"
   },
   "source": [
    "# NER Chunker\n",
    "We can extract phrases that fits into a known pattern using the NER tags. NerChunker would be quite handy to extract entity groups with neighboring tokens when there is no pretrained NER model to address certain issues. Lets say we want to extract clinical findings and body parts together as a single chunk even if there are some unwanted tokens between."
   ]
  },
  {
   "cell_type": "code",
   "execution_count": null,
   "metadata": {
    "colab": {
     "base_uri": "https://localhost:8080/"
    },
    "id": "WdK6LdDxvVSt",
    "outputId": "cc6302e2-77b6-4c7e-8237-362b4346d1a4"
   },
   "outputs": [
    {
     "name": "stdout",
     "output_type": "stream",
     "text": [
      "ner_posology download started this may take some time.\n",
      "Approximate size to download 13.8 MB\n",
      "[OK!]\n"
     ]
    }
   ],
   "source": [
    "posology_ner = MedicalNerModel.pretrained(\"ner_posology\", \"en\", \"clinical/models\") \\\n",
    "    .setInputCols([\"sentence\", \"token\", \"embeddings\"]) \\\n",
    "    .setOutputCol(\"ner\")\n",
    "\n",
    "ner_chunker = NerChunker()\\\n",
    "    .setInputCols([\"sentence\",\"ner\"])\\\n",
    "    .setOutputCol(\"ner_chunk\")\\\n",
    "    .setRegexParsers([\"<DRUG>.*<FREQUENCY>\"])\n",
    "\n",
    "nlpPipeline = Pipeline(stages=[\n",
    "    documentAssembler, \n",
    "    sentenceDetector,\n",
    "    tokenizer,\n",
    "    word_embeddings,\n",
    "    posology_ner,\n",
    "    ner_chunker])\n",
    "\n",
    "empty_data = spark.createDataFrame([[\"\"]]).toDF(\"text\")\n",
    "\n",
    "ner_chunker_model = nlpPipeline.fit(empty_data)"
   ]
  },
  {
   "cell_type": "code",
   "execution_count": null,
   "metadata": {
    "colab": {
     "base_uri": "https://localhost:8080/"
    },
    "id": "wseg1Ko2vgKQ",
    "outputId": "936f60e1-59ee-42d0-e361-6f6aeb6c77e9"
   },
   "outputs": [
    {
     "data": {
      "text/plain": [
       "['O',\n",
       " 'B-DOSAGE',\n",
       " 'B-STRENGTH',\n",
       " 'I-STRENGTH',\n",
       " 'B-ROUTE',\n",
       " 'B-FREQUENCY',\n",
       " 'I-FREQUENCY',\n",
       " 'B-DRUG',\n",
       " 'I-DRUG',\n",
       " 'B-FORM',\n",
       " 'I-DOSAGE',\n",
       " 'B-DURATION',\n",
       " 'I-DURATION',\n",
       " 'I-FORM',\n",
       " 'I-ROUTE']"
      ]
     },
     "execution_count": 75,
     "metadata": {
      "tags": []
     },
     "output_type": "execute_result"
    }
   ],
   "source": [
    "posology_ner.getClasses()"
   ]
  },
  {
   "cell_type": "code",
   "execution_count": null,
   "metadata": {
    "colab": {
     "base_uri": "https://localhost:8080/"
    },
    "id": "d1IvoqP7wC9b",
    "outputId": "8b2d5900-8836-4659-b2ec-17233ca3f6b5"
   },
   "outputs": [
    {
     "data": {
      "text/plain": [
       "[('The', 'O'),\n",
       " ('patient', 'O'),\n",
       " ('was', 'O'),\n",
       " ('prescribed', 'O'),\n",
       " ('1', 'B-DOSAGE'),\n",
       " ('capsule', 'B-FORM'),\n",
       " ('of', 'O'),\n",
       " ('Advil', 'B-DRUG'),\n",
       " ('for', 'B-DURATION'),\n",
       " ('5', 'I-DURATION'),\n",
       " ('days', 'I-DURATION'),\n",
       " ('.', 'O'),\n",
       " ('He', 'O'),\n",
       " ('was', 'O'),\n",
       " ('seen', 'O'),\n",
       " ('by', 'O'),\n",
       " ('the', 'O'),\n",
       " ('endocrinology', 'O'),\n",
       " ('service', 'O'),\n",
       " ('and', 'O'),\n",
       " ('she', 'O'),\n",
       " ('was', 'O'),\n",
       " ('discharged', 'O'),\n",
       " ('on', 'O'),\n",
       " ('40', 'B-DOSAGE'),\n",
       " ('units', 'I-DOSAGE'),\n",
       " ('of', 'O'),\n",
       " ('insulin', 'B-DRUG'),\n",
       " ('glargine', 'I-DRUG'),\n",
       " ('at', 'B-FREQUENCY'),\n",
       " ('night', 'I-FREQUENCY'),\n",
       " (',', 'O'),\n",
       " ('12', 'B-DOSAGE'),\n",
       " ('units', 'I-DOSAGE'),\n",
       " ('of', 'O'),\n",
       " ('insulin', 'B-DRUG'),\n",
       " ('lispro', 'I-DRUG'),\n",
       " ('with', 'B-FREQUENCY'),\n",
       " ('meals', 'I-FREQUENCY'),\n",
       " (',', 'O'),\n",
       " ('metformin', 'B-DRUG'),\n",
       " ('1000', 'B-STRENGTH'),\n",
       " ('mg', 'I-STRENGTH'),\n",
       " ('two', 'B-FREQUENCY'),\n",
       " ('times', 'I-FREQUENCY'),\n",
       " ('a', 'I-FREQUENCY'),\n",
       " ('day', 'I-FREQUENCY'),\n",
       " ('.', 'O'),\n",
       " ('It', 'O'),\n",
       " ('was', 'O'),\n",
       " ('determined', 'O'),\n",
       " ('that', 'O'),\n",
       " ('all', 'O'),\n",
       " ('SGLT2', 'B-DRUG'),\n",
       " ('inhibitors', 'I-DRUG'),\n",
       " ('should', 'O'),\n",
       " ('be', 'O'),\n",
       " ('discontinued', 'O'),\n",
       " ('indefinitely', 'O'),\n",
       " ('fro', 'O'),\n",
       " ('3', 'O'),\n",
       " ('months', 'O'),\n",
       " ('.', 'O')]"
      ]
     },
     "execution_count": 76,
     "metadata": {
      "tags": []
     },
     "output_type": "execute_result"
    }
   ],
   "source": [
    "light_model = LightPipeline(ner_chunker_model)\n",
    "\n",
    "text ='The patient was prescribed 1 capsule of Advil for 5 days . He was seen by the endocrinology service and she was discharged on 40 units of insulin glargine at night , 12 units of insulin lispro with meals , metformin 1000 mg two times a day . It was determined that all SGLT2 inhibitors should be discontinued indefinitely fro 3 months .'\n",
    "\n",
    "light_result = light_model.annotate(text)\n",
    "\n",
    "list(zip(light_result['token'], light_result['ner']))"
   ]
  },
  {
   "cell_type": "code",
   "execution_count": null,
   "metadata": {
    "colab": {
     "base_uri": "https://localhost:8080/"
    },
    "id": "80CsVpUswooZ",
    "outputId": "db470cdc-1ab7-4b7f-8e75-a606fa058f5f"
   },
   "outputs": [
    {
     "data": {
      "text/plain": [
       "['insulin glargine at night , 12 units of insulin lispro with meals , metformin 1000 mg two times a day']"
      ]
     },
     "execution_count": 77,
     "metadata": {
      "tags": []
     },
     "output_type": "execute_result"
    }
   ],
   "source": [
    "light_result[\"ner_chunk\"]"
   ]
  },
  {
   "cell_type": "markdown",
   "metadata": {
    "id": "YgSZ4ghNlDbV"
   },
   "source": [
    "# Chunk Filterer\n",
    "ChunkFilterer will allow you to filter out named entities by some conditions or predefined look-up lists, so that you can feed these entities to other annotators like Assertion Status or Entity Resolvers. It can be used with two criteria: isin and regex."
   ]
  },
  {
   "cell_type": "code",
   "execution_count": null,
   "metadata": {
    "colab": {
     "base_uri": "https://localhost:8080/"
    },
    "id": "mK5A8IozCk-5",
    "outputId": "cf9167da-864f-4e22-cfa3-86284c652cc3"
   },
   "outputs": [
    {
     "name": "stdout",
     "output_type": "stream",
     "text": [
      "ner_posology download started this may take some time.\n",
      "Approximate size to download 13.8 MB\n",
      "[OK!]\n"
     ]
    }
   ],
   "source": [
    "posology_ner = MedicalNerModel.pretrained(\"ner_posology\", \"en\", \"clinical/models\") \\\n",
    "      .setInputCols([\"sentence\", \"token\", \"embeddings\"]) \\\n",
    "      .setOutputCol(\"ner\")\n",
    "\n",
    "ner_converter = NerConverter()\\\n",
    "      .setInputCols([\"sentence\",\"token\",\"ner\"])\\\n",
    "      .setOutputCol(\"ner_chunk\")\n",
    "      \n",
    "chunk_filterer = ChunkFilterer()\\\n",
    "      .setInputCols(\"sentence\",\"ner_chunk\")\\\n",
    "      .setOutputCol(\"chunk_filtered\")\\\n",
    "      .setCriteria(\"isin\")\\\n",
    "      .setWhiteList(['Advil','metformin', 'insulin lispro'])\n",
    "\n",
    "nlpPipeline = Pipeline(stages=[\n",
    "    documentAssembler, \n",
    "    sentenceDetector,\n",
    "    tokenizer,\n",
    "    word_embeddings,\n",
    "    posology_ner,\n",
    "    ner_converter,\n",
    "    chunk_filterer])\n",
    "\n",
    "empty_data = spark.createDataFrame([[\"\"]]).toDF(\"text\")\n",
    "\n",
    "chunk_filter_model = nlpPipeline.fit(empty_data)"
   ]
  },
  {
   "cell_type": "code",
   "execution_count": null,
   "metadata": {
    "colab": {
     "base_uri": "https://localhost:8080/"
    },
    "id": "NnerfAA4C9Oe",
    "outputId": "abc0ef34-3a2d-4040-9f0e-fbb64082bda4"
   },
   "outputs": [
    {
     "data": {
      "text/plain": [
       "dict_keys(['document', 'ner_chunk', 'chunk_filtered', 'token', 'ner', 'embeddings', 'sentence'])"
      ]
     },
     "execution_count": 79,
     "metadata": {
      "tags": []
     },
     "output_type": "execute_result"
    }
   ],
   "source": [
    "light_model = LightPipeline(chunk_filter_model)\n",
    "\n",
    "text ='The patient was prescribed 1 capsule of Advil for 5 days . He was seen by the endocrinology service and she was discharged on 40 units of insulin glargine at night , 12 units of insulin lispro with meals , metformin 1000 mg two times a day . It was determined that all SGLT2 inhibitors should be discontinued indefinitely fro 3 months .'\n",
    "\n",
    "light_result = light_model.annotate(text)\n",
    "\n",
    "light_result.keys()"
   ]
  },
  {
   "cell_type": "code",
   "execution_count": null,
   "metadata": {
    "colab": {
     "base_uri": "https://localhost:8080/"
    },
    "id": "uXGq4DBJDCu7",
    "outputId": "c64d6579-0983-46b1-903d-f2e1fa9d1c4f"
   },
   "outputs": [
    {
     "data": {
      "text/plain": [
       "['1',\n",
       " 'capsule',\n",
       " 'Advil',\n",
       " 'for 5 days',\n",
       " '40 units',\n",
       " 'insulin glargine',\n",
       " 'at night',\n",
       " '12 units',\n",
       " 'insulin lispro',\n",
       " 'with meals',\n",
       " 'metformin',\n",
       " '1000 mg',\n",
       " 'two times a day',\n",
       " 'SGLT2 inhibitors']"
      ]
     },
     "execution_count": 80,
     "metadata": {
      "tags": []
     },
     "output_type": "execute_result"
    }
   ],
   "source": [
    "light_result['ner_chunk'] "
   ]
  },
  {
   "cell_type": "code",
   "execution_count": null,
   "metadata": {
    "colab": {
     "base_uri": "https://localhost:8080/"
    },
    "id": "Tt-rCxecDeqY",
    "outputId": "234b2ccb-ca86-4edf-878c-f65981995edc"
   },
   "outputs": [
    {
     "data": {
      "text/plain": [
       "['Advil', 'insulin lispro', 'metformin']"
      ]
     },
     "execution_count": 81,
     "metadata": {
      "tags": []
     },
     "output_type": "execute_result"
    }
   ],
   "source": [
    "light_result['chunk_filtered']"
   ]
  },
  {
   "cell_type": "code",
   "execution_count": null,
   "metadata": {
    "colab": {
     "base_uri": "https://localhost:8080/"
    },
    "id": "3hmPFLKrlZoh",
    "outputId": "90f304d8-5e8a-4636-c391-f05a93c4fc9b"
   },
   "outputs": [
    {
     "name": "stdout",
     "output_type": "stream",
     "text": [
      "ner_clinical download started this may take some time.\n",
      "Approximate size to download 13.9 MB\n",
      "[OK!]\n"
     ]
    }
   ],
   "source": [
    "ner_model = MedicalNerModel.pretrained(\"ner_clinical\", \"en\", \"clinical/models\")\\\n",
    "      .setInputCols(\"sentence\",\"token\",\"embeddings\")\\\n",
    "      .setOutputCol(\"ner\")\n",
    "\n",
    "ner_converter = NerConverter()\\\n",
    "      .setInputCols([\"sentence\",\"token\",\"ner\"])\\\n",
    "      .setOutputCol(\"ner_chunk\")\n",
    "      \n",
    "chunk_filterer = ChunkFilterer()\\\n",
    "      .setInputCols(\"sentence\",\"ner_chunk\")\\\n",
    "      .setOutputCol(\"chunk_filtered\")\\\n",
    "      .setCriteria(\"isin\")\\\n",
    "      .setWhiteList(['severe fever','sore throat'])\n",
    "\n",
    "nlpPipeline = Pipeline(stages=[\n",
    "    documentAssembler, \n",
    "    sentenceDetector,\n",
    "    tokenizer,\n",
    "    word_embeddings,\n",
    "    ner_model,\n",
    "    ner_converter,\n",
    "    chunk_filterer])\n",
    "\n",
    "empty_data = spark.createDataFrame([[\"\"]]).toDF(\"text\")\n",
    "\n",
    "chunk_filter_model = nlpPipeline.fit(empty_data)"
   ]
  },
  {
   "cell_type": "code",
   "execution_count": null,
   "metadata": {
    "id": "xYkwr0Iwp5KU"
   },
   "outputs": [],
   "source": [
    "text = 'Patient with severe fever, severe cough, sore throat, stomach pain, and a headache.'\n",
    "\n",
    "filter_df = spark.createDataFrame([[text]]).toDF(\"text\")\n",
    "\n",
    "chunk_filter_result = chunk_filter_model.transform(filter_df)"
   ]
  },
  {
   "cell_type": "code",
   "execution_count": null,
   "metadata": {
    "colab": {
     "base_uri": "https://localhost:8080/"
    },
    "id": "ewmgWwdLqtSu",
    "outputId": "81fcf346-7bbb-4d14-882f-f71a3c76635d"
   },
   "outputs": [
    {
     "name": "stdout",
     "output_type": "stream",
     "text": [
      "+-------------------------------------------------------------------+---------------------------+\n",
      "|result                                                             |result                     |\n",
      "+-------------------------------------------------------------------+---------------------------+\n",
      "|[severe fever, severe cough, sore throat, stomach pain, a headache]|[severe fever, sore throat]|\n",
      "+-------------------------------------------------------------------+---------------------------+\n",
      "\n"
     ]
    }
   ],
   "source": [
    "chunk_filter_result.select('ner_chunk.result','chunk_filtered.result').show(truncate=False)"
   ]
  },
  {
   "cell_type": "markdown",
   "metadata": {
    "id": "FcOwTCgB-VnC"
   },
   "source": [
    "# Training a Clinical NER (NCBI Disease Dataset)"
   ]
  },
  {
   "cell_type": "code",
   "execution_count": null,
   "metadata": {
    "id": "vxPi21kH-Zbj"
   },
   "outputs": [],
   "source": [
    "!wget -q https://raw.githubusercontent.com/JohnSnowLabs/spark-nlp-workshop/master/tutorials/Certification_Trainings/Healthcare/data/NER_NCBIconlltrain.txt\n",
    "!wget -q https://raw.githubusercontent.com/JohnSnowLabs/spark-nlp-workshop/master/tutorials/Certification_Trainings/Healthcare/data/NER_NCBIconlltest.txt"
   ]
  },
  {
   "cell_type": "code",
   "execution_count": null,
   "metadata": {
    "colab": {
     "base_uri": "https://localhost:8080/"
    },
    "id": "thHY_1pi-cLu",
    "outputId": "1ece4603-ab19-409f-d80b-a015e00084fd"
   },
   "outputs": [
    {
     "name": "stdout",
     "output_type": "stream",
     "text": [
      "+--------------------+--------------------+--------------------+--------------------+--------------------+--------------------+\n",
      "|                text|            document|            sentence|               token|                 pos|               label|\n",
      "+--------------------+--------------------+--------------------+--------------------+--------------------+--------------------+\n",
      "|Identification of...|[{document, 0, 89...|[{document, 0, 89...|[{token, 0, 13, I...|[{pos, 0, 13, NN,...|[{named_entity, 0...|\n",
      "|The adenomatous p...|[{document, 0, 21...|[{document, 0, 21...|[{token, 0, 2, Th...|[{pos, 0, 2, NN, ...|[{named_entity, 0...|\n",
      "|Complex formation...|[{document, 0, 63...|[{document, 0, 63...|[{token, 0, 6, Co...|[{pos, 0, 6, NN, ...|[{named_entity, 0...|\n",
      "+--------------------+--------------------+--------------------+--------------------+--------------------+--------------------+\n",
      "only showing top 3 rows\n",
      "\n"
     ]
    }
   ],
   "source": [
    "from sparknlp.training import CoNLL\n",
    "\n",
    "conll_data = CoNLL().readDataset(spark, 'NER_NCBIconlltrain.txt')\n",
    "\n",
    "conll_data.show(3)"
   ]
  },
  {
   "cell_type": "code",
   "execution_count": null,
   "metadata": {
    "colab": {
     "base_uri": "https://localhost:8080/"
    },
    "id": "83cbUZVM-9L1",
    "outputId": "0b07c94f-adc6-4b0f-9ebe-5dcf5c515d57"
   },
   "outputs": [
    {
     "data": {
      "text/plain": [
       "3266"
      ]
     },
     "execution_count": 87,
     "metadata": {
      "tags": []
     },
     "output_type": "execute_result"
    }
   ],
   "source": [
    "conll_data.count()"
   ]
  },
  {
   "cell_type": "code",
   "execution_count": null,
   "metadata": {
    "colab": {
     "base_uri": "https://localhost:8080/"
    },
    "id": "nh5enx4p-spM",
    "outputId": "62bcddb2-0c28-41b4-992c-788d51fdc936"
   },
   "outputs": [
    {
     "name": "stdout",
     "output_type": "stream",
     "text": [
      "+------------+-----+\n",
      "|ground_truth|count|\n",
      "+------------+-----+\n",
      "|O           |75093|\n",
      "|I-Disease   |3547 |\n",
      "|B-Disease   |3093 |\n",
      "+------------+-----+\n",
      "\n"
     ]
    }
   ],
   "source": [
    "from pyspark.sql import functions as F\n",
    "\n",
    "conll_data.select(F.explode(F.arrays_zip('token.result','label.result')).alias(\"cols\")) \\\n",
    ".select(F.expr(\"cols['0']\").alias(\"token\"),\n",
    "        F.expr(\"cols['1']\").alias(\"ground_truth\")).groupBy('ground_truth').count().orderBy('count', ascending=False).show(100,truncate=False)\n"
   ]
  },
  {
   "cell_type": "code",
   "execution_count": null,
   "metadata": {
    "colab": {
     "base_uri": "https://localhost:8080/"
    },
    "id": "48XUc9WX_fjs",
    "outputId": "ddee69bc-5f74-4de0-f642-da9230681d4c"
   },
   "outputs": [
    {
     "data": {
      "text/plain": [
       "1537"
      ]
     },
     "execution_count": 89,
     "metadata": {
      "tags": []
     },
     "output_type": "execute_result"
    }
   ],
   "source": [
    "conll_data.select(\"label.result\").distinct().count()"
   ]
  },
  {
   "cell_type": "code",
   "execution_count": null,
   "metadata": {
    "colab": {
     "base_uri": "https://localhost:8080/"
    },
    "id": "Rkg9IcR--_PF",
    "outputId": "a474fd47-c09d-478f-81ab-90f856271050"
   },
   "outputs": [
    {
     "name": "stdout",
     "output_type": "stream",
     "text": [
      "+------------+-----+\n",
      "|ground_truth|count|\n",
      "+------------+-----+\n",
      "|O           |39427|\n",
      "|I-Disease   |3547 |\n",
      "|B-Disease   |3093 |\n",
      "+------------+-----+\n",
      "\n"
     ]
    }
   ],
   "source": [
    "import pyspark.sql.functions as F\n",
    "\n",
    "#conll_data.select(F.countDistinct(\"label.result\")).show()\n",
    "#conll_data.groupBy(\"label.result\").count().show(truncate=False)\n",
    "\n",
    "conll_data = conll_data.withColumn('unique', F.array_distinct(\"label.result\"))\\\n",
    ".withColumn('c', F.size('unique'))\\\n",
    ".filter(F.col('c')>1)\n",
    "\n",
    "conll_data.select(F.explode(F.arrays_zip('token.result','label.result')).alias(\"cols\")) \\\n",
    ".select(F.expr(\"cols['0']\").alias(\"token\"),\n",
    "        F.expr(\"cols['1']\").alias(\"ground_truth\")).groupBy('ground_truth').count().orderBy('count', ascending=False).show(100,truncate=False)\n",
    "\n"
   ]
  },
  {
   "cell_type": "code",
   "execution_count": null,
   "metadata": {
    "colab": {
     "base_uri": "https://localhost:8080/"
    },
    "id": "mTopTnOJAV51",
    "outputId": "fbd4a2eb-d29a-49eb-eb34-e39a00f4ea04"
   },
   "outputs": [
    {
     "name": "stdout",
     "output_type": "stream",
     "text": [
      "embeddings_clinical download started this may take some time.\n",
      "Approximate size to download 1.6 GB\n",
      "[OK!]\n"
     ]
    }
   ],
   "source": [
    "# Clinical word embeddings trained on PubMED dataset\n",
    "clinical_embeddings = WordEmbeddingsModel.pretrained('embeddings_clinical', \"en\", \"clinical/models\")\\\n",
    "    .setInputCols([\"sentence\", \"token\"])\\\n",
    "    .setOutputCol(\"embeddings\")\n"
   ]
  },
  {
   "cell_type": "code",
   "execution_count": null,
   "metadata": {
    "id": "lRNBxjqkQO1U"
   },
   "outputs": [],
   "source": [
    "test_data = CoNLL().readDataset(spark, 'NER_NCBIconlltest.txt')\n",
    "\n",
    "test_data = clinical_embeddings.transform(test_data)\n",
    "\n",
    "#test_data.write.parquet('NER_NCBIconlltest.parquet')"
   ]
  },
  {
   "cell_type": "markdown",
   "metadata": {
    "id": "dPNI5AQ4W4oE"
   },
   "source": [
    "### NERDL Graph\n",
    "TensorFlow graph file (`.pb` extension) should be produced for NER training."
   ]
  },
  {
   "cell_type": "code",
   "execution_count": null,
   "metadata": {
    "id": "eRgsc6QVb7zt"
   },
   "outputs": [],
   "source": [
    "from sparknlp_jsl.training import tf_graph\n",
    "%tensorflow_version 1.x\n",
    "tf_graph.print_model_params(\"ner_dl\")\n",
    "\n",
    "tf_graph.build(\"ner_dl\", build_params={\"embeddings_dim\": 200, \"nchars\": 83, \"ntags\": 12, \"is_medical\": 1}, model_location=\"./medical_ner_graphs\", model_filename=\"auto\")"
   ]
  },
  {
   "cell_type": "code",
   "execution_count": null,
   "metadata": {
    "id": "W22OJ97lZvxt"
   },
   "outputs": [],
   "source": [
    "# for open source users\n",
    "'''\n",
    "!wget -q https://raw.githubusercontent.com/JohnSnowLabs/spark-nlp-workshop/master/jupyter/training/english/dl-ner/nerdl-graph/create_graph.py\n",
    "!wget -q https://raw.githubusercontent.com/JohnSnowLabs/spark-nlp-workshop/master/jupyter/training/english/dl-ner/nerdl-graph/dataset_encoder.py\n",
    "!wget -q https://raw.githubusercontent.com/JohnSnowLabs/spark-nlp-workshop/master/jupyter/training/english/dl-ner/nerdl-graph/ner_model.py\n",
    "!wget -q https://raw.githubusercontent.com/JohnSnowLabs/spark-nlp-workshop/master/jupyter/training/english/dl-ner/nerdl-graph/ner_model_saver.py\n",
    "!wget -q https://raw.githubusercontent.com/JohnSnowLabs/spark-nlp-workshop/master/jupyter/training/english/dl-ner/nerdl-graph/sentence_grouper.py\n",
    "\n",
    "!pip -q install tensorflow==1.15.0\n",
    "\n",
    "import create_graph\n",
    "\n",
    "ntags = 3 # number of labels\n",
    "embeddings_dim = 200\n",
    "nchars =83\n",
    "\n",
    "create_graph.create_graph(ntags, embeddings_dim, nchars)\n",
    "'''"
   ]
  },
  {
   "cell_type": "code",
   "execution_count": null,
   "metadata": {
    "id": "PewyPNMCBOCw"
   },
   "outputs": [],
   "source": [
    "nerTagger = MedicalNerApproach()\\\n",
    "      .setInputCols([\"sentence\", \"token\", \"embeddings\"])\\\n",
    "      .setLabelColumn(\"label\")\\\n",
    "      .setOutputCol(\"ner\")\\\n",
    "      .setMaxEpochs(2)\\\n",
    "      .setBatchSize(64)\\\n",
    "      .setRandomSeed(0)\\\n",
    "      .setVerbose(1)\\\n",
    "      .setValidationSplit(0.2)\\\n",
    "      .setEvaluationLogExtended(True) \\\n",
    "      .setEnableOutputLogs(True)\\\n",
    "      .setIncludeConfidence(True)\\\n",
    "      .setOutputLogsPath('ner_logs')\\\n",
    "      .setGraphFolder('medical_ner_graphs')\\\n",
    "      .setEnableMemoryOptimizer(True) #>> if you have a limited memory and a large conll file, you can set this True to train batch by batch \n",
    "      #.setTestDataset(\"NER_NCBIconlltest.parquet\")\\\n",
    "ner_pipeline = Pipeline(stages=[\n",
    "          clinical_embeddings,\n",
    "          nerTagger\n",
    " ])"
   ]
  },
  {
   "cell_type": "code",
   "execution_count": null,
   "metadata": {
    "colab": {
     "base_uri": "https://localhost:8080/"
    },
    "id": "aiXOjTzpBdrQ",
    "outputId": "25ec56b3-ec5e-41e8-98d0-a68798233b24"
   },
   "outputs": [
    {
     "name": "stdout",
     "output_type": "stream",
     "text": [
      "CPU times: user 607 ms, sys: 97.5 ms, total: 704 ms\n",
      "Wall time: 1min 58s\n"
     ]
    }
   ],
   "source": [
    "%%time\n",
    "# 2 epochs around 2 min\n",
    "ner_model = ner_pipeline.fit(conll_data)\n",
    "\n",
    "# if you get an error for incompatible TF graph, use 4.1 NerDL-Graph.ipynb notebook in public folder to create a graph\n",
    "# licensed users can also use 17.Graph_builder_for_DL_models.ipynb to create tf graphs easily."
   ]
  },
  {
   "cell_type": "code",
   "execution_count": null,
   "metadata": {
    "colab": {
     "base_uri": "https://localhost:8080/"
    },
    "id": "-nANqtITcHot",
    "outputId": "91581015-a199-41bf-908d-bc01f77005c9"
   },
   "outputs": [
    {
     "name": "stdout",
     "output_type": "stream",
     "text": [
      "total 4\n",
      "-rw-r--r-- 1 root root 1224 Jun 24 08:50 MedicalNerApproach_1e3c3bc34978.log\n"
     ]
    }
   ],
   "source": [
    "!cd ner_logs && ls -lt"
   ]
  },
  {
   "cell_type": "code",
   "execution_count": null,
   "metadata": {
    "colab": {
     "base_uri": "https://localhost:8080/"
    },
    "id": "_xLYHMGAE0uC",
    "outputId": "656957c4-a1db-4156-999d-5c1cdd729925"
   },
   "outputs": [
    {
     "name": "stdout",
     "output_type": "stream",
     "text": [
      "Name of the selected graph: /content/medical_ner_graphs/blstm_12_200_128_83.pb\n",
      "Training started - total epochs: 2 - lr: 0.001 - batch size: 64 - labels: 3 - chars: 82 - training examples: 1381\n",
      "\n",
      "\n",
      "Epoch 1/2 started, lr: 0.001, dataset size: 1381\n",
      "\n",
      "\n",
      "Epoch 1/2 - 50.15s - loss: 378.17838 - batches: 22\n",
      "Quality on validation dataset (20.0%), validation examples = 276\n",
      "time to finish evaluation: 7.48s\n",
      "label\t tp\t fp\t fn\t prec\t rec\t f1\n",
      "I-Disease\t 52\t 8\t 642\t 0.8666667\t 0.074927956\t 0.13793103\n",
      "B-Disease\t 80\t 113\t 517\t 0.41450778\t 0.13400336\t 0.20253165\n",
      "tp: 132 fp: 121 fn: 1159 labels: 2\n",
      "Macro-average\t prec: 0.6405872, rec: 0.104465656, f1: 0.17963655\n",
      "Micro-average\t prec: 0.5217391, rec: 0.10224632, f1: 0.17098445\n",
      "\n",
      "\n",
      "Epoch 2/2 started, lr: 9.950249E-4, dataset size: 1381\n",
      "\n",
      "\n",
      "Epoch 2/2 - 45.08s - loss: 186.8442 - batches: 22\n",
      "Quality on validation dataset (20.0%), validation examples = 276\n",
      "time to finish evaluation: 6.77s\n",
      "label\t tp\t fp\t fn\t prec\t rec\t f1\n",
      "I-Disease\t 444\t 333\t 250\t 0.5714286\t 0.63976943\t 0.60367095\n",
      "B-Disease\t 252\t 116\t 345\t 0.6847826\t 0.42211056\t 0.5222798\n",
      "tp: 696 fp: 449 fn: 595 labels: 2\n",
      "Macro-average\t prec: 0.62810564, rec: 0.53094, f1: 0.57545\n",
      "Micro-average\t prec: 0.60786027, rec: 0.539117, f1: 0.5714286\n"
     ]
    }
   ],
   "source": [
    "! cat ner_logs/MedicalNerApproach_1e3c3bc34978.log"
   ]
  },
  {
   "cell_type": "markdown",
   "metadata": {
    "id": "rUehS3qTdHUh"
   },
   "source": [
    "### Evaluate your model"
   ]
  },
  {
   "cell_type": "code",
   "execution_count": null,
   "metadata": {
    "id": "5GV4YaeHcsHB"
   },
   "outputs": [],
   "source": [
    "pred_df = ner_model.stages[1].transform(test_data)"
   ]
  },
  {
   "cell_type": "code",
   "execution_count": null,
   "metadata": {
    "colab": {
     "base_uri": "https://localhost:8080/"
    },
    "id": "tICjE0Yqc2Ri",
    "outputId": "9f729502-8401-4eeb-9680-215f8eb914ee"
   },
   "outputs": [
    {
     "data": {
      "text/plain": [
       "['text', 'document', 'sentence', 'token', 'pos', 'label', 'embeddings', 'ner']"
      ]
     },
     "execution_count": 99,
     "metadata": {
      "tags": []
     },
     "output_type": "execute_result"
    }
   ],
   "source": [
    "pred_df.columns"
   ]
  },
  {
   "cell_type": "code",
   "execution_count": null,
   "metadata": {
    "colab": {
     "base_uri": "https://localhost:8080/"
    },
    "id": "B9Qc_oukcj94",
    "outputId": "e9327d9a-ba02-46c2-b4e0-7b8822e3c0a2"
   },
   "outputs": [
    {
     "name": "stdout",
     "output_type": "stream",
     "text": [
      "+-------+-----+-----+-----+-----+---------+------+-----+\n",
      "| entity|   tp|   fp|   fn|total|precision|recall|   f1|\n",
      "+-------+-----+-----+-----+-----+---------+------+-----+\n",
      "|Disease|360.0|379.0|344.0|704.0|   0.4871|0.5114|0.499|\n",
      "+-------+-----+-----+-----+-----+---------+------+-----+\n",
      "\n",
      "+-----------------+\n",
      "|            macro|\n",
      "+-----------------+\n",
      "|0.498960498960499|\n",
      "+-----------------+\n",
      "\n",
      "None\n",
      "+-----------------+\n",
      "|            micro|\n",
      "+-----------------+\n",
      "|0.498960498960499|\n",
      "+-----------------+\n",
      "\n",
      "None\n"
     ]
    }
   ],
   "source": [
    "from sparknlp_jsl.eval import NerDLMetrics\n",
    "import pyspark.sql.functions as F\n",
    "\n",
    "evaler = NerDLMetrics(mode=\"full_chunk\", dropO=True)\n",
    "\n",
    "eval_result = evaler.computeMetricsFromDF(pred_df.select(\"label\",\"ner\"), prediction_col=\"ner\", label_col=\"label\").cache()\n",
    "\n",
    "eval_result.withColumn(\"precision\", F.round(eval_result[\"precision\"],4))\\\n",
    "    .withColumn(\"recall\", F.round(eval_result[\"recall\"],4))\\\n",
    "    .withColumn(\"f1\", F.round(eval_result[\"f1\"],4)).show(100)\n",
    "\n",
    "print(eval_result.selectExpr(\"avg(f1) as macro\").show())\n",
    "print (eval_result.selectExpr(\"sum(f1*total) as sumprod\",\"sum(total) as sumtotal\").selectExpr(\"sumprod/sumtotal as micro\").show())"
   ]
  },
  {
   "cell_type": "code",
   "execution_count": null,
   "metadata": {
    "colab": {
     "base_uri": "https://localhost:8080/"
    },
    "id": "nh1LY2cwdApE",
    "outputId": "8b32f8e6-76da-4fb1-8646-f075fee5b66d"
   },
   "outputs": [
    {
     "name": "stdout",
     "output_type": "stream",
     "text": [
      "+-------+------+-----+-----+------+---------+------+------+\n",
      "| entity|    tp|   fp|   fn| total|precision|recall|    f1|\n",
      "+-------+------+-----+-----+------+---------+------+------+\n",
      "|Disease|1050.0|297.0|447.0|1497.0|   0.7795|0.7014|0.7384|\n",
      "+-------+------+-----+-----+------+---------+------+------+\n",
      "\n",
      "+------------------+\n",
      "|             macro|\n",
      "+------------------+\n",
      "|0.7383966244725738|\n",
      "+------------------+\n",
      "\n",
      "None\n",
      "+------------------+\n",
      "|             micro|\n",
      "+------------------+\n",
      "|0.7383966244725738|\n",
      "+------------------+\n",
      "\n",
      "None\n"
     ]
    }
   ],
   "source": [
    "evaler = NerDLMetrics(mode=\"partial_chunk_per_token\", dropO=True)\n",
    "\n",
    "eval_result = evaler.computeMetricsFromDF(pred_df.select(\"label\",\"ner\"), prediction_col=\"ner\", label_col=\"label\").cache()\n",
    "\n",
    "eval_result.withColumn(\"precision\", F.round(eval_result[\"precision\"],4))\\\n",
    "    .withColumn(\"recall\", F.round(eval_result[\"recall\"],4))\\\n",
    "    .withColumn(\"f1\", F.round(eval_result[\"f1\"],4)).show(100)\n",
    "\n",
    "print(eval_result.selectExpr(\"avg(f1) as macro\").show())\n",
    "print (eval_result.selectExpr(\"sum(f1*total) as sumprod\",\"sum(total) as sumtotal\").selectExpr(\"sumprod/sumtotal as micro\").show())"
   ]
  },
  {
   "cell_type": "code",
   "execution_count": null,
   "metadata": {
    "id": "SdlTQl4eJmvl"
   },
   "outputs": [],
   "source": [
    "ner_model.stages[1].write().overwrite().save('models/custom_NER_2epoch')"
   ]
  },
  {
   "cell_type": "code",
   "execution_count": null,
   "metadata": {
    "id": "ZEzG0T1vEZvV"
   },
   "outputs": [],
   "source": [
    "document = DocumentAssembler()\\\n",
    "    .setInputCol(\"text\")\\\n",
    "    .setOutputCol(\"document\")\n",
    "\n",
    "sentence = SentenceDetector()\\\n",
    "    .setInputCols(['document'])\\\n",
    "    .setOutputCol('sentence')\n",
    "\n",
    "token = Tokenizer()\\\n",
    "    .setInputCols(['sentence'])\\\n",
    "    .setOutputCol('token')\n",
    "\n",
    "loaded_ner_model = MedicalNerModel.load(\"models/custom_NER_2epoch\")\\\n",
    "    .setInputCols([\"sentence\", \"token\", \"embeddings\"])\\\n",
    "    .setOutputCol(\"ner\")\n",
    "\n",
    "converter = NerConverter()\\\n",
    "    .setInputCols([\"document\", \"token\", \"ner\"])\\\n",
    "    .setOutputCol(\"ner_span\")\n",
    "\n",
    "ner_prediction_pipeline = Pipeline(\n",
    "    stages = [\n",
    "        document,\n",
    "        sentence,\n",
    "        token,\n",
    "        clinical_embeddings,\n",
    "        loaded_ner_model,\n",
    "        converter])\n",
    "\n",
    "empty_data = spark.createDataFrame([['']]).toDF(\"text\")\n",
    "\n",
    "prediction_model = ner_prediction_pipeline.fit(empty_data)\n",
    "\n",
    "from sparknlp.base import LightPipeline\n",
    "\n",
    "light_model = LightPipeline(prediction_model)"
   ]
  },
  {
   "cell_type": "code",
   "execution_count": null,
   "metadata": {
    "colab": {
     "base_uri": "https://localhost:8080/"
    },
    "id": "kR4172tKJxX3",
    "outputId": "3fb49082-e54e-4afe-bc71-6ba25fc90547"
   },
   "outputs": [
    {
     "data": {
      "text/plain": [
       "[('metastatic', 'Disease'), ('breast cancer', 'Disease')]"
      ]
     },
     "execution_count": 104,
     "metadata": {
      "tags": []
     },
     "output_type": "execute_result"
    }
   ],
   "source": [
    "text = \"She has a metastatic breast cancer to her lungs\"\n",
    "\n",
    "def get_preds(text, light_model):\n",
    "\n",
    "    result = light_model.fullAnnotate(text)[0]\n",
    "\n",
    "    return [(i.result, i.metadata['entity']) for i in result['ner_span']]\n",
    "\n",
    "get_preds(text, light_model)"
   ]
  }
 ],
 "metadata": {
  "accelerator": "GPU",
  "colab": {
   "collapsed_sections": [],
   "name": "1.Clinical_Named_Entity_Recognition_Model.ipynb",
   "provenance": [],
   "toc_visible": true
  },
  "kernelspec": {
   "display_name": "Python 3 (ipykernel)",
   "language": "python",
   "name": "python3"
  },
  "language_info": {
   "codemirror_mode": {
    "name": "ipython",
    "version": 3
   },
   "file_extension": ".py",
   "mimetype": "text/x-python",
   "name": "python",
   "nbconvert_exporter": "python",
   "pygments_lexer": "ipython3",
   "version": "3.7.6"
  }
 },
 "nbformat": 4,
 "nbformat_minor": 1
}

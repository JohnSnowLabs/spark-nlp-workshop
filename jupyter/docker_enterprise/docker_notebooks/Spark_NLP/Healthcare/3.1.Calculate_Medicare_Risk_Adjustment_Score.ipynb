{
 "cells": [
  {
   "cell_type": "markdown",
   "metadata": {
    "id": "xSLNKU_Iulqo"
   },
   "source": [
    "## Medicare Risk Adjustment:\n",
    "In the United States, the Centers for Medicare & Medicaid Services sets reimbursement for private Medicare plan sponsors based on the assessed risk of their beneficiaries. Information found in unstructured medical records may be more indicative of member risk than existing structured data, creating more accurate risk pools."
   ]
  },
  {
   "cell_type": "code",
   "execution_count": 2,
   "metadata": {
    "id": "sennWdeRn9F9"
   },
   "outputs": [],
   "source": [
    "import os\n",
    "\n",
    "jsl_secret = os.getenv('SECRET')\n",
    "\n",
    "import sparknlp\n",
    "sparknlp_version = sparknlp.version()\n",
    "import sparknlp_jsl\n",
    "jsl_version = sparknlp_jsl.version()\n",
    "\n",
    "print (jsl_secret)"
   ]
  },
  {
   "cell_type": "code",
   "execution_count": 4,
   "metadata": {
    "id": "YTiik_JEoj_B"
   },
   "outputs": [],
   "source": [
    "import os\n",
    "import json\n",
    "import string\n",
    "import numpy as np\n",
    "import pandas as pd\n",
    "\n",
    "import sparknlp\n",
    "import sparknlp_jsl\n",
    "from sparknlp.base import *\n",
    "from sparknlp.util import *\n",
    "from sparknlp.annotator import *\n",
    "from sparknlp_jsl.base import *\n",
    "from sparknlp_jsl.annotator import *\n",
    "\n",
    "from pyspark.sql import functions as F\n",
    "from pyspark.ml import Pipeline, PipelineModel\n",
    "from sparknlp.training import CoNLL"
   ]
  },
  {
   "cell_type": "code",
   "execution_count": 5,
   "metadata": {
    "colab": {
     "base_uri": "https://localhost:8080/"
    },
    "id": "xNt-jmTmlK-5",
    "outputId": "92570c19-4c0e-4892-864c-b60b7aa63085"
   },
   "outputs": [
    {
     "name": "stdout",
     "output_type": "stream",
     "text": [
      "Spark NLP Version : 3.2.1\n",
      "Spark NLP_JSL Version : 3.2.0rc3\n"
     ]
    }
   ],
   "source": [
    "params = {\"spark.driver.memory\":\"16G\",\n",
    "\"spark.kryoserializer.buffer.max\":\"2000M\",\n",
    "\"spark.driver.maxResultSize\":\"2000M\"}\n",
    "\n",
    "spark = sparknlp_jsl.start(jsl_secret,params=params)\n",
    "\n",
    "print (\"Spark NLP Version :\", sparknlp.version())\n",
    "print (\"Spark NLP_JSL Version :\", sparknlp_jsl.version())"
   ]
  },
  {
   "cell_type": "code",
   "execution_count": 6,
   "metadata": {
    "colab": {
     "base_uri": "https://localhost:8080/",
     "height": 216
    },
    "id": "AUW-mJjAo61U",
    "outputId": "74ed524b-771c-4d32-9463-af382fe55c48"
   },
   "outputs": [
    {
     "data": {
      "text/html": [
       "\n",
       "            <div>\n",
       "                <p><b>SparkSession - in-memory</b></p>\n",
       "                \n",
       "        <div>\n",
       "            <p><b>SparkContext</b></p>\n",
       "\n",
       "            <p><a href=\"http://24a3985fca4e:4040\">Spark UI</a></p>\n",
       "\n",
       "            <dl>\n",
       "              <dt>Version</dt>\n",
       "                <dd><code>v3.1.1</code></dd>\n",
       "              <dt>Master</dt>\n",
       "                <dd><code>local[*]</code></dd>\n",
       "              <dt>AppName</dt>\n",
       "                <dd><code>Spark NLP Licensed</code></dd>\n",
       "            </dl>\n",
       "        </div>\n",
       "        \n",
       "            </div>\n",
       "        "
      ],
      "text/plain": [
       "<pyspark.sql.session.SparkSession at 0x7fb6e7757c90>"
      ]
     },
     "execution_count": 6,
     "metadata": {
      "tags": []
     },
     "output_type": "execute_result"
    }
   ],
   "source": [
    "spark"
   ]
  },
  {
   "cell_type": "markdown",
   "metadata": {
    "id": "5JEhvf8nUN-s"
   },
   "source": [
    "## Downloading oncology notes\n",
    "In this notebook we will use the clinical notes extracted from www.mtsamples.com. "
   ]
  },
  {
   "cell_type": "code",
   "execution_count": 7,
   "metadata": {
    "id": "DSMHr7rHR5vp"
   },
   "outputs": [],
   "source": [
    "!wget -q https://raw.githubusercontent.com/JohnSnowLabs/spark-nlp-workshop/master/tutorials/Certification_Trainings/Healthcare/data/mt_oncology_10.zip\n",
    "!unzip -q mt_oncology_10.zip "
   ]
  },
  {
   "cell_type": "code",
   "execution_count": 8,
   "metadata": {
    "colab": {
     "base_uri": "https://localhost:8080/"
    },
    "id": "s8MqTaAcUqFc",
    "outputId": "fe8a3fb7-dc6b-4619-d4b7-bcf241c6552e"
   },
   "outputs": [
    {
     "name": "stdout",
     "output_type": "stream",
     "text": [
      "+-------------------------------------------+--------------------------------------------------+\n",
      "|                                       path|                                              text|\n",
      "+-------------------------------------------+--------------------------------------------------+\n",
      "|file:/content/mt_oncology_10/mt_note_01.txt|\n",
      "Medical Specialty:Hematology - Oncology\n",
      "Sample...|\n",
      "|file:/content/mt_oncology_10/mt_note_02.txt|Medical Specialty:Hematology - Oncology\n",
      "Sample ...|\n",
      "|file:/content/mt_oncology_10/mt_note_03.txt|Medical Specialty:Hematology - Oncology\n",
      "Sample ...|\n",
      "|file:/content/mt_oncology_10/mt_note_04.txt|Medical Specialty:Hematology - Oncology\n",
      "Sample ...|\n",
      "|file:/content/mt_oncology_10/mt_note_05.txt|Medical Specialty:Hematology - Oncology\n",
      "Sample ...|\n",
      "|file:/content/mt_oncology_10/mt_note_06.txt|Medical Specialty:Hematology - Oncology\n",
      "Sample ...|\n",
      "|file:/content/mt_oncology_10/mt_note_07.txt|Medical Specialty:Hematology - Oncology\n",
      "Sample ...|\n",
      "|file:/content/mt_oncology_10/mt_note_08.txt|Medical Specialty:Hematology - Oncology\n",
      "Sample ...|\n",
      "|file:/content/mt_oncology_10/mt_note_09.txt|Medical Specialty:Hematology - Oncology\n",
      "Sample ...|\n",
      "|file:/content/mt_oncology_10/mt_note_10.txt|Medical Specialty:Hematology - Oncology\n",
      "Sample ...|\n",
      "+-------------------------------------------+--------------------------------------------------+\n",
      "\n"
     ]
    }
   ],
   "source": [
    "df = spark.sparkContext.wholeTextFiles('mt_oncology_10/mt_note_*.txt').toDF().withColumnRenamed('_1','path').withColumnRenamed('_2','text')\n",
    "df.show(truncate=50)"
   ]
  },
  {
   "cell_type": "code",
   "execution_count": 9,
   "metadata": {
    "colab": {
     "base_uri": "https://localhost:8080/"
    },
    "id": "h01xDjxDkFnr",
    "outputId": "1da8184e-eef0-48d2-e3b2-652c8516d62c"
   },
   "outputs": [
    {
     "name": "stdout",
     "output_type": "stream",
     "text": [
      "Medical Specialty:Hematology - Oncology\n",
      "Sample Name: Mullerian Adenosarcoma\n",
      "Description: Discharge summary of a patient presenting with a large mass aborted through the cervix.\n",
      "(Medical Transcription Sample Report)\n",
      "PRINCIPAL DIAGNOSIS:  Mullerian adenosarcoma.\n",
      "HISTORY OF PRESENT ILLNESS:  The patient is a 56-year-old presenting with a large mass aborted through the cervix.\n",
      "PHYSICAL EXAM:CHEST: Clear. There is no heart murmur. ABDOMEN: Nontender.\n",
      "PELVIC: There is a large mass in the vagina.\n",
      "HOSPITAL COURSE:  The patient went to surgery on the day of admission. The postoperative course was marked by fever and ileus. The patient regained bowel function. She was discharged on the morning of the seventh postoperative day.\n",
      "OPERATIONS:  July 25, 2006: Total abdominal hysterectomy, bilateral salpingo-oophorectomy.\n",
      "DISCHARGE CONDITION:  Stable.\n",
      "PLAN:  The patient will remain at rest initially with progressive ambulation thereafter. She will avoid lifting, driving, stairs, or intercourse. She will call me for fevers, drainage, bleeding, or pain. Family history, social history, and psychosocial needs per the social worker. The patient will follow up in my office in one week.\n",
      "PATHOLOGY: Mullerian adenosarcoma.\n",
      "MEDICATIONS: Percocet 5, #40, one q.3 h. p.r.n. pain.\n",
      "\n"
     ]
    }
   ],
   "source": [
    "sample_text = df.limit(2).select(\"text\").collect()[1][0]\n",
    "print(sample_text)"
   ]
  },
  {
   "cell_type": "markdown",
   "metadata": {
    "id": "ciRfY4rPWJAW"
   },
   "source": [
    "## ICD-10 code extraction\n",
    "Now, we will create a pipeline to extract ICD10 codes. This pipeline will find diseases and problems and then map their ICD10 codes. We will also check if this problem is still present or not."
   ]
  },
  {
   "cell_type": "code",
   "execution_count": 10,
   "metadata": {
    "colab": {
     "base_uri": "https://localhost:8080/"
    },
    "id": "afLEPJk0WK5w",
    "outputId": "2f8411b8-60bf-4d09-9ea2-6d9164f8727e"
   },
   "outputs": [
    {
     "name": "stdout",
     "output_type": "stream",
     "text": [
      "sentence_detector_dl download started this may take some time.\n",
      "Approximate size to download 354.6 KB\n",
      "[OK!]\n",
      "embeddings_clinical download started this may take some time.\n",
      "Approximate size to download 1.6 GB\n",
      "[OK!]\n",
      "ner_jsl download started this may take some time.\n",
      "Approximate size to download 14.5 MB\n",
      "[OK!]\n",
      "sbiobert_base_cased_mli download started this may take some time.\n",
      "Approximate size to download 384.3 MB\n",
      "[OK!]\n",
      "sbiobertresolve_icd10cm_augmented_billable_hcc download started this may take some time.\n",
      "Approximate size to download 1.4 GB\n",
      "[OK!]\n",
      "jsl_assertion_wip download started this may take some time.\n",
      "Approximate size to download 1.4 MB\n",
      "[OK!]\n"
     ]
    }
   ],
   "source": [
    "documentAssembler = DocumentAssembler()\\\n",
    "      .setInputCol(\"text\")\\\n",
    "      .setOutputCol(\"document\")\n",
    " \n",
    "sentenceDetector = SentenceDetectorDLModel.pretrained()\\\n",
    "      .setInputCols([\"document\"])\\\n",
    "      .setOutputCol(\"sentence\")\n",
    " \n",
    "tokenizer = Tokenizer()\\\n",
    "      .setInputCols([\"sentence\"])\\\n",
    "      .setOutputCol(\"token\")\\\n",
    " \n",
    "word_embeddings = WordEmbeddingsModel.pretrained(\"embeddings_clinical\", \"en\", \"clinical/models\")\\\n",
    "      .setInputCols([\"sentence\", \"token\"])\\\n",
    "      .setOutputCol(\"embeddings\")\n",
    " \n",
    "c2doc = Chunk2Doc()\\\n",
    "      .setInputCols(\"ner_chunk\")\\\n",
    "      .setOutputCol(\"ner_chunk_doc\") \n",
    " \n",
    "clinical_ner = MedicalNerModel.pretrained(\"ner_jsl\", \"en\", \"clinical/models\") \\\n",
    "      .setInputCols([\"sentence\", \"token\", \"embeddings\"]) \\\n",
    "      .setOutputCol(\"ner\")\n",
    " \n",
    "ner_converter = NerConverter() \\\n",
    "      .setInputCols([\"sentence\", \"token\", \"ner\"]) \\\n",
    "      .setOutputCol(\"ner_chunk\")\\\n",
    "      .setWhiteList([\"Oncological\", \"Disease_Syndrome_Disorder\", \"Heart_Disease\"])\n",
    " \n",
    "sbert_embedder = BertSentenceEmbeddings\\\n",
    "      .pretrained(\"sbiobert_base_cased_mli\",'en','clinical/models')\\\n",
    "      .setInputCols([\"ner_chunk_doc\"])\\\n",
    "      .setOutputCol(\"sbert_embeddings\")\n",
    " \n",
    "icd10_resolver = SentenceEntityResolverModel.pretrained(\"sbiobertresolve_icd10cm_augmented_billable_hcc\",\"en\", \"clinical/models\")\\\n",
    "    .setInputCols([\"ner_chunk\", \"sbert_embeddings\"])\\\n",
    "    .setOutputCol(\"icd10cm_code\")\\\n",
    "    .setDistanceFunction(\"EUCLIDEAN\")\\\n",
    "    .setReturnCosineDistances(True)\n",
    " \n",
    "clinical_assertion = AssertionDLModel.pretrained(\"jsl_assertion_wip\", \"en\", \"clinical/models\") \\\n",
    "    .setInputCols([\"sentence\", \"ner_chunk\", \"embeddings\"]) \\\n",
    "    .setOutputCol(\"assertion\")\n",
    " \n",
    "resolver_pipeline = Pipeline(\n",
    "    stages = [\n",
    "        documentAssembler,\n",
    "        sentenceDetector,\n",
    "        tokenizer,\n",
    "        word_embeddings,\n",
    "        clinical_ner,\n",
    "        ner_converter,\n",
    "        c2doc,\n",
    "        sbert_embedder,\n",
    "        icd10_resolver,\n",
    "        clinical_assertion\n",
    "    ])\n",
    " \n",
    "data_ner = spark.createDataFrame([[\"\"]]).toDF(\"text\")\n",
    " \n",
    "icd_model = resolver_pipeline.fit(data_ner)"
   ]
  },
  {
   "cell_type": "markdown",
   "metadata": {
    "id": "A7jqBrypWSVB"
   },
   "source": [
    "We can transform the data. In path column, we have long path. Instead we will use filename column. Every file name refers to different patient.\n"
   ]
  },
  {
   "cell_type": "code",
   "execution_count": 11,
   "metadata": {
    "id": "Irk4IZ-3WRIn"
   },
   "outputs": [],
   "source": [
    "path_array = F.split(df['path'], '/')\n",
    "df = df.withColumn('filename', path_array.getItem(F.size(path_array)- 1)).select(['filename', 'text'])\n",
    " \n",
    "icd10_sdf = icd_model.transform(df)"
   ]
  },
  {
   "cell_type": "markdown",
   "metadata": {
    "id": "BWPSPlA5WYGA"
   },
   "source": [
    "Let's see how our model extracted ICD Codes on a sample."
   ]
  },
  {
   "cell_type": "code",
   "execution_count": 12,
   "metadata": {
    "colab": {
     "base_uri": "https://localhost:8080/",
     "height": 615
    },
    "id": "GfMjuAvpWXrf",
    "outputId": "8d7c8e5c-7136-4879-ecf4-807d5a4df927"
   },
   "outputs": [
    {
     "data": {
      "text/html": [
       "\n",
       "<style>\n",
       "    @import url('https://fonts.googleapis.com/css2?family=Montserrat:wght@300;400;500;600;700&display=swap');\n",
       "    @import url('https://fonts.googleapis.com/css2?family=Vistol Regular:wght@300;400;500;600;700&display=swap');\n",
       "    \n",
       "    .spark-nlp-display-scroll-entities {\n",
       "        border: 1px solid #E7EDF0;\n",
       "        border-radius: 3px;\n",
       "        text-align: justify;\n",
       "        \n",
       "    }\n",
       "    .spark-nlp-display-scroll-entities span {  \n",
       "        font-size: 14px;\n",
       "        line-height: 24px;\n",
       "        color: #536B76;\n",
       "        font-family: 'Montserrat', sans-serif !important;\n",
       "    }\n",
       "    \n",
       "    .spark-nlp-display-entity-wrapper{\n",
       "    \n",
       "        display: inline-grid;\n",
       "        text-align: center;\n",
       "        border-radius: 4px;\n",
       "        margin: 0 2px 5px 2px;\n",
       "        padding: 1px\n",
       "    }\n",
       "    .spark-nlp-display-entity-name{\n",
       "        font-size: 14px;\n",
       "        line-height: 24px;\n",
       "        font-family: 'Montserrat', sans-serif !important;\n",
       "        \n",
       "        background: #f1f2f3;\n",
       "        border-width: medium;\n",
       "        text-align: center;\n",
       "        \n",
       "        font-weight: 400;\n",
       "        \n",
       "        border-radius: 5px;\n",
       "        padding: 2px 5px;\n",
       "        display: block;\n",
       "        margin: 3px 2px;\n",
       "    \n",
       "    }\n",
       "    .spark-nlp-display-entity-type{\n",
       "        font-size: 14px;\n",
       "        line-height: 24px;\n",
       "        color: #ffffff;\n",
       "        font-family: 'Montserrat', sans-serif !important;\n",
       "        \n",
       "        text-transform: uppercase;\n",
       "        \n",
       "        font-weight: 500;\n",
       "\n",
       "        display: block;\n",
       "        padding: 3px 5px;\n",
       "    }\n",
       "    \n",
       "    .spark-nlp-display-entity-resolution{\n",
       "        font-size: 14px;\n",
       "        line-height: 24px;\n",
       "        color: #ffffff;\n",
       "        font-family: 'Vistol Regular', sans-serif !important;\n",
       "        \n",
       "        text-transform: uppercase;\n",
       "        \n",
       "        font-weight: 500;\n",
       "\n",
       "        display: block;\n",
       "        padding: 3px 5px;\n",
       "    }\n",
       "    \n",
       "    .spark-nlp-display-others{\n",
       "        font-size: 14px;\n",
       "        line-height: 24px;\n",
       "        font-family: 'Montserrat', sans-serif !important;\n",
       "        \n",
       "        font-weight: 400;\n",
       "    }\n",
       "\n",
       "</style>\n",
       " <span class=\"spark-nlp-display-others\" style=\"background-color: white\">Medical Specialty:Hematology - Oncology<br>Sample Name: Mullerian Adenosarcoma<br>Description: Discharge summary of a patient presenting with a large mass aborted through the cervix.<br>(Medical Transcription Sample Report)<br>PRINCIPAL DIAGNOSIS:  </span><span class=\"spark-nlp-display-entity-wrapper\" style=\"background-color: #C7B216B3\"><span class=\"spark-nlp-display-entity-name\">Mullerian adenosarcoma </span><span class=\"spark-nlp-display-entity-type\">Oncological</span><span class=\"spark-nlp-display-entity-resolution\" style=\"background-color: #C7B216FF\">N40 </span><span class=\"spark-nlp-display-entity-resolution\" style=\"background-color: #C7B216CC\">fibroadenoma of prostate</span></span><span class=\"spark-nlp-display-others\" style=\"background-color: white\">.<br>HISTORY OF PRESENT ILLNESS:  The patient is a 56-year-old presenting with a large mass aborted through the cervix.<br>PHYSICAL EXAM:CHEST: Clear. There is no heart murmur. ABDOMEN: Nontender.<br>PELVIC: There is a large mass in the vagina.<br>HOSPITAL COURSE:  The patient went to surgery on the day of admission. The postoperative course was marked by fever and ileus. The patient regained bowel function. She was discharged on the morning of the seventh postoperative day.<br>OPERATIONS:  July 25, 2006: Total abdominal hysterectomy, bilateral salpingo-oophorectomy.<br>DISCHARGE CONDITION:  Stable.<br>PLAN:  The patient will remain at rest initially with progressive ambulation thereafter. She will avoid lifting, driving, stairs, or intercourse. She will call me for fevers, drainage, bleeding, or pain. Family history, social history, and psychosocial needs per the social worker. The patient will follow up in my office in one week.<br>PATHOLOGY: </span><span class=\"spark-nlp-display-entity-wrapper\" style=\"background-color: #C7B216B3\"><span class=\"spark-nlp-display-entity-name\">Mullerian adenosarcoma </span><span class=\"spark-nlp-display-entity-type\">Oncological</span><span class=\"spark-nlp-display-entity-resolution\" style=\"background-color: #C7B216FF\">N40 </span><span class=\"spark-nlp-display-entity-resolution\" style=\"background-color: #C7B216CC\">fibroadenoma of prostate</span></span><span class=\"spark-nlp-display-others\" style=\"background-color: white\">.<br>MEDICATIONS: Percocet 5, #40, one q.3 h. p.r.n. pain.<br></span></div>"
      ],
      "text/plain": [
       "<IPython.core.display.HTML object>"
      ]
     },
     "metadata": {
      "tags": []
     },
     "output_type": "display_data"
    }
   ],
   "source": [
    "light_model = LightPipeline(icd_model)\n",
    " \n",
    "light_result = light_model.fullAnnotate(sample_text)\n",
    " \n",
    "from sparknlp_display import EntityResolverVisualizer\n",
    " \n",
    "vis = EntityResolverVisualizer()\n",
    " \n",
    "# Change color of an entity label\n",
    "vis.set_label_colors({'PROBLEM':'#008080'})\n",
    " \n",
    "vis.display(light_result[0], 'ner_chunk', 'icd10cm_code')"
   ]
  },
  {
   "cell_type": "markdown",
   "metadata": {
    "id": "GG0xfG4FWct0"
   },
   "source": [
    "ICD resolver can also tell us HCC status. HCC status is 1 if the Medicare Risk Adjusment model contains ICD code.\n",
    "\n"
   ]
  },
  {
   "cell_type": "code",
   "execution_count": 13,
   "metadata": {
    "colab": {
     "base_uri": "https://localhost:8080/",
     "height": 204
    },
    "id": "d4WsG58TWcUM",
    "outputId": "f94b9e58-0fc5-4daf-fc6e-c05923a2ef86"
   },
   "outputs": [
    {
     "data": {
      "text/html": [
       "<div>\n",
       "<style scoped>\n",
       "    .dataframe tbody tr th:only-of-type {\n",
       "        vertical-align: middle;\n",
       "    }\n",
       "\n",
       "    .dataframe tbody tr th {\n",
       "        vertical-align: top;\n",
       "    }\n",
       "\n",
       "    .dataframe thead th {\n",
       "        text-align: right;\n",
       "    }\n",
       "</style>\n",
       "<table border=\"1\" class=\"dataframe\">\n",
       "  <thead>\n",
       "    <tr style=\"text-align: right;\">\n",
       "      <th></th>\n",
       "      <th>filename</th>\n",
       "      <th>chunk</th>\n",
       "      <th>icd10_code</th>\n",
       "      <th>hcc_list</th>\n",
       "      <th>assertion</th>\n",
       "    </tr>\n",
       "  </thead>\n",
       "  <tbody>\n",
       "    <tr>\n",
       "      <th>0</th>\n",
       "      <td>mt_note_01.txt</td>\n",
       "      <td>breast cancer</td>\n",
       "      <td>C5092</td>\n",
       "      <td>0||1||12:::0||1||12:::1||0||0:::0||0||0:::1||0...</td>\n",
       "      <td>Family</td>\n",
       "    </tr>\n",
       "    <tr>\n",
       "      <th>1</th>\n",
       "      <td>mt_note_01.txt</td>\n",
       "      <td>breast cancer</td>\n",
       "      <td>C5092</td>\n",
       "      <td>0||1||12:::0||1||12:::1||0||0:::0||0||0:::1||0...</td>\n",
       "      <td>Family</td>\n",
       "    </tr>\n",
       "    <tr>\n",
       "      <th>2</th>\n",
       "      <td>mt_note_01.txt</td>\n",
       "      <td>dysplasia</td>\n",
       "      <td>P614</td>\n",
       "      <td>1||0||0:::1||0||0:::1||0||0:::1||0||0:::1||0||...</td>\n",
       "      <td>Absent</td>\n",
       "    </tr>\n",
       "    <tr>\n",
       "      <th>3</th>\n",
       "      <td>mt_note_01.txt</td>\n",
       "      <td>cancer</td>\n",
       "      <td>C801</td>\n",
       "      <td>1||1||12:::1||1||10:::1||0||0:::1||0||0:::1||1...</td>\n",
       "      <td>Absent</td>\n",
       "    </tr>\n",
       "    <tr>\n",
       "      <th>4</th>\n",
       "      <td>mt_note_02.txt</td>\n",
       "      <td>Mullerian adenosarcoma</td>\n",
       "      <td>N40</td>\n",
       "      <td>0||0||0:::0||0||0:::1||1||12:::0||0||0:::1||0|...</td>\n",
       "      <td>Present</td>\n",
       "    </tr>\n",
       "  </tbody>\n",
       "</table>\n",
       "</div>"
      ],
      "text/plain": [
       "         filename  ... assertion\n",
       "0  mt_note_01.txt  ...    Family\n",
       "1  mt_note_01.txt  ...    Family\n",
       "2  mt_note_01.txt  ...    Absent\n",
       "3  mt_note_01.txt  ...    Absent\n",
       "4  mt_note_02.txt  ...   Present\n",
       "\n",
       "[5 rows x 5 columns]"
      ]
     },
     "execution_count": 13,
     "metadata": {
      "tags": []
     },
     "output_type": "execute_result"
    }
   ],
   "source": [
    "icd10_hcc_df = icd10_sdf.select(\"filename\", F.explode(F.arrays_zip('ner_chunk.result', \n",
    "                                                                   'icd10cm_code.result',\n",
    "                                                                   'icd10cm_code.metadata',\n",
    "                                                                   \"assertion.result\"\n",
    "                                                                  )).alias(\"cols\")) \\\n",
    "                            .select(\"filename\", F.expr(\"cols['0']\").alias(\"chunk\"),\n",
    "                                    F.expr(\"cols['1']\").alias(\"icd10_code\"),\n",
    "                                    F.expr(\"cols['2']['all_k_aux_labels']\").alias(\"hcc_list\"),\n",
    "                                    F.expr(\"cols['3']\").alias(\"assertion\")\n",
    "                                   ).toPandas()\n",
    "\n",
    "icd10_hcc_df.head()"
   ]
  },
  {
   "cell_type": "code",
   "execution_count": 14,
   "metadata": {
    "colab": {
     "base_uri": "https://localhost:8080/",
     "height": 204
    },
    "id": "qi-dpZQkWWV8",
    "outputId": "e85d4405-2ce1-4319-a044-6a45cd32fea2"
   },
   "outputs": [
    {
     "data": {
      "text/html": [
       "<div>\n",
       "<style scoped>\n",
       "    .dataframe tbody tr th:only-of-type {\n",
       "        vertical-align: middle;\n",
       "    }\n",
       "\n",
       "    .dataframe tbody tr th {\n",
       "        vertical-align: top;\n",
       "    }\n",
       "\n",
       "    .dataframe thead th {\n",
       "        text-align: right;\n",
       "    }\n",
       "</style>\n",
       "<table border=\"1\" class=\"dataframe\">\n",
       "  <thead>\n",
       "    <tr style=\"text-align: right;\">\n",
       "      <th></th>\n",
       "      <th>filename</th>\n",
       "      <th>chunk</th>\n",
       "      <th>icd10_code</th>\n",
       "      <th>assertion</th>\n",
       "      <th>hcc_status</th>\n",
       "    </tr>\n",
       "  </thead>\n",
       "  <tbody>\n",
       "    <tr>\n",
       "      <th>0</th>\n",
       "      <td>mt_note_01.txt</td>\n",
       "      <td>breast cancer</td>\n",
       "      <td>C5092</td>\n",
       "      <td>Family</td>\n",
       "      <td>1</td>\n",
       "    </tr>\n",
       "    <tr>\n",
       "      <th>1</th>\n",
       "      <td>mt_note_01.txt</td>\n",
       "      <td>breast cancer</td>\n",
       "      <td>C5092</td>\n",
       "      <td>Family</td>\n",
       "      <td>1</td>\n",
       "    </tr>\n",
       "    <tr>\n",
       "      <th>2</th>\n",
       "      <td>mt_note_01.txt</td>\n",
       "      <td>dysplasia</td>\n",
       "      <td>P614</td>\n",
       "      <td>Absent</td>\n",
       "      <td>0</td>\n",
       "    </tr>\n",
       "    <tr>\n",
       "      <th>3</th>\n",
       "      <td>mt_note_01.txt</td>\n",
       "      <td>cancer</td>\n",
       "      <td>C801</td>\n",
       "      <td>Absent</td>\n",
       "      <td>1</td>\n",
       "    </tr>\n",
       "    <tr>\n",
       "      <th>4</th>\n",
       "      <td>mt_note_02.txt</td>\n",
       "      <td>Mullerian adenosarcoma</td>\n",
       "      <td>N40</td>\n",
       "      <td>Present</td>\n",
       "      <td>0</td>\n",
       "    </tr>\n",
       "  </tbody>\n",
       "</table>\n",
       "</div>"
      ],
      "text/plain": [
       "         filename                   chunk icd10_code assertion hcc_status\n",
       "0  mt_note_01.txt           breast cancer      C5092    Family          1\n",
       "1  mt_note_01.txt           breast cancer      C5092    Family          1\n",
       "2  mt_note_01.txt               dysplasia       P614    Absent          0\n",
       "3  mt_note_01.txt                  cancer       C801    Absent          1\n",
       "4  mt_note_02.txt  Mullerian adenosarcoma        N40   Present          0"
      ]
     },
     "execution_count": 14,
     "metadata": {
      "tags": []
     },
     "output_type": "execute_result"
    }
   ],
   "source": [
    "icd10_hcc_df[\"hcc_status\"] = icd10_hcc_df[\"hcc_list\"].apply(lambda x: x.split(\"||\")[1])\n",
    "icd10_df = icd10_hcc_df.drop(\"hcc_list\", axis = 1)\n",
    "icd10_df.head()"
   ]
  },
  {
   "cell_type": "code",
   "execution_count": 15,
   "metadata": {
    "id": "AuuVn8M4WWTO"
   },
   "outputs": [],
   "source": [
    "icd10_df = icd10_df[icd10_df.hcc_status==\"1\"]\n",
    "icd10_df = icd10_df[~icd10_df.assertion.isin([\"Family\", \"Past\"])][['filename','chunk','icd10_code']].drop_duplicates()"
   ]
  },
  {
   "cell_type": "markdown",
   "metadata": {
    "id": "x7ccMU1eWoG0"
   },
   "source": [
    "We filtered the ICD codes based on HCC status. Now, we will create an ICD_code list column"
   ]
  },
  {
   "cell_type": "code",
   "execution_count": 16,
   "metadata": {
    "colab": {
     "base_uri": "https://localhost:8080/",
     "height": 359
    },
    "id": "JWfrTe0hWWQe",
    "outputId": "f3da640d-df09-4fc2-d8e1-456b739660ea"
   },
   "outputs": [
    {
     "data": {
      "text/html": [
       "<div>\n",
       "<style scoped>\n",
       "    .dataframe tbody tr th:only-of-type {\n",
       "        vertical-align: middle;\n",
       "    }\n",
       "\n",
       "    .dataframe tbody tr th {\n",
       "        vertical-align: top;\n",
       "    }\n",
       "\n",
       "    .dataframe thead th {\n",
       "        text-align: right;\n",
       "    }\n",
       "</style>\n",
       "<table border=\"1\" class=\"dataframe\">\n",
       "  <thead>\n",
       "    <tr style=\"text-align: right;\">\n",
       "      <th></th>\n",
       "      <th>filename</th>\n",
       "      <th>chunk</th>\n",
       "      <th>icd10_code</th>\n",
       "      <th>Extracted_Entities_vs_ICD_Codes</th>\n",
       "    </tr>\n",
       "  </thead>\n",
       "  <tbody>\n",
       "    <tr>\n",
       "      <th>3</th>\n",
       "      <td>mt_note_01.txt</td>\n",
       "      <td>cancer</td>\n",
       "      <td>C801</td>\n",
       "      <td>(cancer, C801)</td>\n",
       "    </tr>\n",
       "    <tr>\n",
       "      <th>6</th>\n",
       "      <td>mt_note_03.txt</td>\n",
       "      <td>leiomyosarcoma</td>\n",
       "      <td>C499</td>\n",
       "      <td>(leiomyosarcoma, C499)</td>\n",
       "    </tr>\n",
       "    <tr>\n",
       "      <th>10</th>\n",
       "      <td>mt_note_03.txt</td>\n",
       "      <td>Leiomyosarcoma</td>\n",
       "      <td>C499</td>\n",
       "      <td>(Leiomyosarcoma, C499)</td>\n",
       "    </tr>\n",
       "    <tr>\n",
       "      <th>12</th>\n",
       "      <td>mt_note_03.txt</td>\n",
       "      <td>Pancytopenia</td>\n",
       "      <td>D6181</td>\n",
       "      <td>(Pancytopenia, D6181)</td>\n",
       "    </tr>\n",
       "    <tr>\n",
       "      <th>15</th>\n",
       "      <td>mt_note_03.txt</td>\n",
       "      <td>rheumatoid arthritis</td>\n",
       "      <td>M069</td>\n",
       "      <td>(rheumatoid arthritis, M069)</td>\n",
       "    </tr>\n",
       "    <tr>\n",
       "      <th>47</th>\n",
       "      <td>mt_note_05.txt</td>\n",
       "      <td>Breast Cancer</td>\n",
       "      <td>C5092</td>\n",
       "      <td>(Breast Cancer, C5092)</td>\n",
       "    </tr>\n",
       "    <tr>\n",
       "      <th>48</th>\n",
       "      <td>mt_note_05.txt</td>\n",
       "      <td>ductal carcinoma of the left breast</td>\n",
       "      <td>C5091</td>\n",
       "      <td>(ductal carcinoma of the left breast, C5091)</td>\n",
       "    </tr>\n",
       "    <tr>\n",
       "      <th>50</th>\n",
       "      <td>mt_note_05.txt</td>\n",
       "      <td>breast cancer</td>\n",
       "      <td>C5092</td>\n",
       "      <td>(breast cancer, C5092)</td>\n",
       "    </tr>\n",
       "    <tr>\n",
       "      <th>55</th>\n",
       "      <td>mt_note_05.txt</td>\n",
       "      <td>metastatic disease</td>\n",
       "      <td>C800</td>\n",
       "      <td>(metastatic disease, C800)</td>\n",
       "    </tr>\n",
       "    <tr>\n",
       "      <th>56</th>\n",
       "      <td>mt_note_05.txt</td>\n",
       "      <td>ALLERGIES</td>\n",
       "      <td>G20</td>\n",
       "      <td>(ALLERGIES, G20)</td>\n",
       "    </tr>\n",
       "  </tbody>\n",
       "</table>\n",
       "</div>"
      ],
      "text/plain": [
       "          filename  ...               Extracted_Entities_vs_ICD_Codes\n",
       "3   mt_note_01.txt  ...                                (cancer, C801)\n",
       "6   mt_note_03.txt  ...                        (leiomyosarcoma, C499)\n",
       "10  mt_note_03.txt  ...                        (Leiomyosarcoma, C499)\n",
       "12  mt_note_03.txt  ...                         (Pancytopenia, D6181)\n",
       "15  mt_note_03.txt  ...                  (rheumatoid arthritis, M069)\n",
       "47  mt_note_05.txt  ...                        (Breast Cancer, C5092)\n",
       "48  mt_note_05.txt  ...  (ductal carcinoma of the left breast, C5091)\n",
       "50  mt_note_05.txt  ...                        (breast cancer, C5092)\n",
       "55  mt_note_05.txt  ...                    (metastatic disease, C800)\n",
       "56  mt_note_05.txt  ...                              (ALLERGIES, G20)\n",
       "\n",
       "[10 rows x 4 columns]"
      ]
     },
     "execution_count": 16,
     "metadata": {
      "tags": []
     },
     "output_type": "execute_result"
    }
   ],
   "source": [
    "icd10_df['Extracted_Entities_vs_ICD_Codes'] = list(zip(icd10_df.chunk, icd10_df.icd10_code))\n",
    "icd10_df.head(10)"
   ]
  },
  {
   "cell_type": "code",
   "execution_count": 17,
   "metadata": {
    "colab": {
     "base_uri": "https://localhost:8080/",
     "height": 266
    },
    "id": "wCCAKRAhWWNz",
    "outputId": "16da6983-8e65-4aa1-c188-1b46dadac57b"
   },
   "outputs": [
    {
     "data": {
      "text/html": [
       "<div>\n",
       "<style scoped>\n",
       "    .dataframe tbody tr th:only-of-type {\n",
       "        vertical-align: middle;\n",
       "    }\n",
       "\n",
       "    .dataframe tbody tr th {\n",
       "        vertical-align: top;\n",
       "    }\n",
       "\n",
       "    .dataframe thead th {\n",
       "        text-align: right;\n",
       "    }\n",
       "</style>\n",
       "<table border=\"1\" class=\"dataframe\">\n",
       "  <thead>\n",
       "    <tr style=\"text-align: right;\">\n",
       "      <th></th>\n",
       "      <th>filename</th>\n",
       "      <th>icd10_code</th>\n",
       "      <th>Extracted_Entities_vs_ICD_Codes</th>\n",
       "    </tr>\n",
       "  </thead>\n",
       "  <tbody>\n",
       "    <tr>\n",
       "      <th>0</th>\n",
       "      <td>mt_note_01.txt</td>\n",
       "      <td>[C801]</td>\n",
       "      <td>[(cancer, C801)]</td>\n",
       "    </tr>\n",
       "    <tr>\n",
       "      <th>1</th>\n",
       "      <td>mt_note_03.txt</td>\n",
       "      <td>[C499, C499, D6181, M069]</td>\n",
       "      <td>[(leiomyosarcoma, C499), (Leiomyosarcoma, C499...</td>\n",
       "    </tr>\n",
       "    <tr>\n",
       "      <th>2</th>\n",
       "      <td>mt_note_05.txt</td>\n",
       "      <td>[C5092, C5091, C5092, C800, G20, C5092]</td>\n",
       "      <td>[(Breast Cancer, C5092), (ductal carcinoma of ...</td>\n",
       "    </tr>\n",
       "    <tr>\n",
       "      <th>3</th>\n",
       "      <td>mt_note_06.txt</td>\n",
       "      <td>[F319]</td>\n",
       "      <td>[(Type 1 bipolar disease, F319)]</td>\n",
       "    </tr>\n",
       "    <tr>\n",
       "      <th>4</th>\n",
       "      <td>mt_note_08.txt</td>\n",
       "      <td>[C459, C800]</td>\n",
       "      <td>[(malignant mesothelioma, C459), (metastatic d...</td>\n",
       "    </tr>\n",
       "    <tr>\n",
       "      <th>5</th>\n",
       "      <td>mt_note_09.txt</td>\n",
       "      <td>[D5702, K5505]</td>\n",
       "      <td>[(Sickle cell crisis, D5702), (Veno-occlusive ...</td>\n",
       "    </tr>\n",
       "    <tr>\n",
       "      <th>6</th>\n",
       "      <td>mt_note_10.txt</td>\n",
       "      <td>[C6960, C6960]</td>\n",
       "      <td>[(Rhabdomyosarcoma of the left orbit, C6960), ...</td>\n",
       "    </tr>\n",
       "  </tbody>\n",
       "</table>\n",
       "</div>"
      ],
      "text/plain": [
       "         filename  ...                    Extracted_Entities_vs_ICD_Codes\n",
       "0  mt_note_01.txt  ...                                   [(cancer, C801)]\n",
       "1  mt_note_03.txt  ...  [(leiomyosarcoma, C499), (Leiomyosarcoma, C499...\n",
       "2  mt_note_05.txt  ...  [(Breast Cancer, C5092), (ductal carcinoma of ...\n",
       "3  mt_note_06.txt  ...                   [(Type 1 bipolar disease, F319)]\n",
       "4  mt_note_08.txt  ...  [(malignant mesothelioma, C459), (metastatic d...\n",
       "5  mt_note_09.txt  ...  [(Sickle cell crisis, D5702), (Veno-occlusive ...\n",
       "6  mt_note_10.txt  ...  [(Rhabdomyosarcoma of the left orbit, C6960), ...\n",
       "\n",
       "[7 rows x 3 columns]"
      ]
     },
     "execution_count": 17,
     "metadata": {
      "tags": []
     },
     "output_type": "execute_result"
    }
   ],
   "source": [
    "icd10_codes= icd10_df.groupby(\"filename\").icd10_code.apply(lambda x: list(x)).reset_index()\n",
    "icd10_vs_entities = icd10_df.groupby(\"filename\").Extracted_Entities_vs_ICD_Codes.apply(lambda x: list(x)).reset_index()\n",
    " \n",
    "icd10_df_all = icd10_codes.merge(icd10_vs_entities)\n",
    " \n",
    "icd10_df_all"
   ]
  },
  {
   "cell_type": "markdown",
   "metadata": {
    "id": "t57HOf9KW_uZ"
   },
   "source": [
    "## Gender Classification\n",
    "\n",
    "In Spark NLP, we have a pretrained model to detect gender of patient. Let's use it by `ClassifierDLModel`"
   ]
  },
  {
   "cell_type": "code",
   "execution_count": 18,
   "metadata": {
    "colab": {
     "base_uri": "https://localhost:8080/"
    },
    "id": "CNFKbURXWWK_",
    "outputId": "89487abf-b02e-4f02-a45c-1904087792d8"
   },
   "outputs": [
    {
     "name": "stdout",
     "output_type": "stream",
     "text": [
      "biobert_pubmed_base_cased download started this may take some time.\n",
      "Approximate size to download 386.4 MB\n",
      "[OK!]\n",
      "classifierdl_gender_biobert download started this may take some time.\n",
      "Approximate size to download 21 MB\n",
      "[OK!]\n"
     ]
    }
   ],
   "source": [
    "documentAssembler = DocumentAssembler()\\\n",
    "      .setInputCol(\"text\")\\\n",
    "      .setOutputCol(\"document\")\n",
    " \n",
    "tokenizer = Tokenizer()\\\n",
    "      .setInputCols([\"document\"])\\\n",
    "      .setOutputCol(\"token\")\\\n",
    " \n",
    "biobert_embeddings = BertEmbeddings().pretrained('biobert_pubmed_base_cased') \\\n",
    "        .setInputCols([\"document\",'token'])\\\n",
    "        .setOutputCol(\"bert_embeddings\")\n",
    " \n",
    "sentence_embeddings = SentenceEmbeddings() \\\n",
    "     .setInputCols([\"document\", \"bert_embeddings\"]) \\\n",
    "     .setOutputCol(\"sentence_bert_embeddings\") \\\n",
    "     .setPoolingStrategy(\"AVERAGE\")\n",
    " \n",
    "genderClassifier = ClassifierDLModel.pretrained('classifierdl_gender_biobert', 'en', 'clinical/models') \\\n",
    "       .setInputCols([\"document\", \"sentence_bert_embeddings\"]) \\\n",
    "       .setOutputCol(\"gender\")\n",
    " \n",
    "gender_pipeline = Pipeline(stages=[documentAssembler,\n",
    "                                   #sentenceDetector,\n",
    "                                   tokenizer, \n",
    "                                   biobert_embeddings, \n",
    "                                   sentence_embeddings, \n",
    "                                   genderClassifier])"
   ]
  },
  {
   "cell_type": "code",
   "execution_count": 19,
   "metadata": {
    "id": "ou3PXnLxWWIA"
   },
   "outputs": [],
   "source": [
    "data_ner = spark.createDataFrame([[\"\"]]).toDF(\"text\")\n",
    " \n",
    "gender_model = gender_pipeline.fit(data_ner)\n",
    " \n",
    "gender_df = gender_model.transform(df)"
   ]
  },
  {
   "cell_type": "code",
   "execution_count": 20,
   "metadata": {
    "id": "e2f64hGWWV-3"
   },
   "outputs": [],
   "source": [
    "gender_pd_df = gender_df.select(\"filename\", F.explode(F.arrays_zip('gender.result', 'gender.metadata')).alias(\"cols\")) \\\n",
    "                       .select(\"filename\",\n",
    "                               F.expr(\"cols['0']\").alias(\"Gender\"),\n",
    "                               F.expr(\"cols['1']['Female']\").alias(\"Female\"),\n",
    "                               F.expr(\"cols['1']['Male']\").alias(\"Male\")).toPandas()\n",
    " \n",
    "gender_pd_df['Gender'] = gender_pd_df.apply(lambda x : \"F\" if float(x['Female']) >= float(x['Male']) else \"M\", axis=1)\n",
    " \n",
    "gender_pd_df = gender_pd_df[['filename', 'Gender']]"
   ]
  },
  {
   "cell_type": "markdown",
   "metadata": {
    "id": "QOMshADmXohQ"
   },
   "source": [
    "All patients' gender is ready in a dataframe."
   ]
  },
  {
   "cell_type": "code",
   "execution_count": 21,
   "metadata": {
    "colab": {
     "base_uri": "https://localhost:8080/",
     "height": 359
    },
    "id": "IFawSiubXgaT",
    "outputId": "3629fd9f-3631-434f-f4ec-10a3e27588c8"
   },
   "outputs": [
    {
     "data": {
      "text/html": [
       "<div>\n",
       "<style scoped>\n",
       "    .dataframe tbody tr th:only-of-type {\n",
       "        vertical-align: middle;\n",
       "    }\n",
       "\n",
       "    .dataframe tbody tr th {\n",
       "        vertical-align: top;\n",
       "    }\n",
       "\n",
       "    .dataframe thead th {\n",
       "        text-align: right;\n",
       "    }\n",
       "</style>\n",
       "<table border=\"1\" class=\"dataframe\">\n",
       "  <thead>\n",
       "    <tr style=\"text-align: right;\">\n",
       "      <th></th>\n",
       "      <th>filename</th>\n",
       "      <th>Gender</th>\n",
       "    </tr>\n",
       "  </thead>\n",
       "  <tbody>\n",
       "    <tr>\n",
       "      <th>0</th>\n",
       "      <td>mt_note_01.txt</td>\n",
       "      <td>F</td>\n",
       "    </tr>\n",
       "    <tr>\n",
       "      <th>1</th>\n",
       "      <td>mt_note_02.txt</td>\n",
       "      <td>F</td>\n",
       "    </tr>\n",
       "    <tr>\n",
       "      <th>2</th>\n",
       "      <td>mt_note_03.txt</td>\n",
       "      <td>F</td>\n",
       "    </tr>\n",
       "    <tr>\n",
       "      <th>3</th>\n",
       "      <td>mt_note_04.txt</td>\n",
       "      <td>F</td>\n",
       "    </tr>\n",
       "    <tr>\n",
       "      <th>4</th>\n",
       "      <td>mt_note_05.txt</td>\n",
       "      <td>F</td>\n",
       "    </tr>\n",
       "    <tr>\n",
       "      <th>5</th>\n",
       "      <td>mt_note_06.txt</td>\n",
       "      <td>F</td>\n",
       "    </tr>\n",
       "    <tr>\n",
       "      <th>6</th>\n",
       "      <td>mt_note_07.txt</td>\n",
       "      <td>M</td>\n",
       "    </tr>\n",
       "    <tr>\n",
       "      <th>7</th>\n",
       "      <td>mt_note_08.txt</td>\n",
       "      <td>F</td>\n",
       "    </tr>\n",
       "    <tr>\n",
       "      <th>8</th>\n",
       "      <td>mt_note_09.txt</td>\n",
       "      <td>M</td>\n",
       "    </tr>\n",
       "    <tr>\n",
       "      <th>9</th>\n",
       "      <td>mt_note_10.txt</td>\n",
       "      <td>M</td>\n",
       "    </tr>\n",
       "  </tbody>\n",
       "</table>\n",
       "</div>"
      ],
      "text/plain": [
       "         filename Gender\n",
       "0  mt_note_01.txt      F\n",
       "1  mt_note_02.txt      F\n",
       "2  mt_note_03.txt      F\n",
       "3  mt_note_04.txt      F\n",
       "4  mt_note_05.txt      F\n",
       "5  mt_note_06.txt      F\n",
       "6  mt_note_07.txt      M\n",
       "7  mt_note_08.txt      F\n",
       "8  mt_note_09.txt      M\n",
       "9  mt_note_10.txt      M"
      ]
     },
     "execution_count": 21,
     "metadata": {
      "tags": []
     },
     "output_type": "execute_result"
    }
   ],
   "source": [
    "gender_pd_df"
   ]
  },
  {
   "cell_type": "markdown",
   "metadata": {
    "id": "CrGP9pJKYAaQ"
   },
   "source": [
    "## Age\n",
    "We can get patient's age forom the notes by another pipeline. We are creating an age pipeline to get AGE labelled entities. In a note, more than one age entity can be extracted. We will get the first age entity as patient's age."
   ]
  },
  {
   "cell_type": "code",
   "execution_count": 22,
   "metadata": {
    "id": "CK1MnIMAYLoT"
   },
   "outputs": [],
   "source": [
    "date_ner_converter = NerConverter() \\\n",
    "      .setInputCols([\"sentence\", \"token\", \"ner\"]) \\\n",
    "      .setOutputCol(\"ner_chunk\")\\\n",
    "      .setWhiteList([\"Age\"])\n",
    " \n",
    "age_pipeline = Pipeline(\n",
    "    stages = [\n",
    "        documentAssembler,\n",
    "        sentenceDetector,\n",
    "        tokenizer,\n",
    "        word_embeddings,\n",
    "        clinical_ner,\n",
    "        date_ner_converter\n",
    "    ])\n",
    " \n",
    "data_ner = spark.createDataFrame([[\"\"]]).toDF(\"text\")\n",
    " \n",
    "age_model = age_pipeline.fit(data_ner)"
   ]
  },
  {
   "cell_type": "code",
   "execution_count": 24,
   "metadata": {
    "colab": {
     "base_uri": "https://localhost:8080/",
     "height": 448
    },
    "id": "Hpkline3YPIU",
    "outputId": "3c335d31-04b1-40da-8c1e-04b60149c858"
   },
   "outputs": [
    {
     "data": {
      "text/html": [
       "\n",
       "<style>\n",
       "    @import url('https://fonts.googleapis.com/css2?family=Montserrat:wght@300;400;500;600;700&display=swap');\n",
       "    @import url('https://fonts.googleapis.com/css2?family=Vistol Regular:wght@300;400;500;600;700&display=swap');\n",
       "    \n",
       "    .spark-nlp-display-scroll-entities {\n",
       "        border: 1px solid #E7EDF0;\n",
       "        border-radius: 3px;\n",
       "        text-align: justify;\n",
       "        \n",
       "    }\n",
       "    .spark-nlp-display-scroll-entities span {  \n",
       "        font-size: 14px;\n",
       "        line-height: 24px;\n",
       "        color: #536B76;\n",
       "        font-family: 'Montserrat', sans-serif !important;\n",
       "    }\n",
       "    \n",
       "    .spark-nlp-display-entity-wrapper{\n",
       "    \n",
       "        display: inline-grid;\n",
       "        text-align: center;\n",
       "        border-radius: 4px;\n",
       "        margin: 0 2px 5px 2px;\n",
       "        padding: 1px\n",
       "    }\n",
       "    .spark-nlp-display-entity-name{\n",
       "        font-size: 14px;\n",
       "        line-height: 24px;\n",
       "        font-family: 'Montserrat', sans-serif !important;\n",
       "        \n",
       "        background: #f1f2f3;\n",
       "        border-width: medium;\n",
       "        text-align: center;\n",
       "        \n",
       "        font-weight: 400;\n",
       "        \n",
       "        border-radius: 5px;\n",
       "        padding: 2px 5px;\n",
       "        display: block;\n",
       "        margin: 3px 2px;\n",
       "    \n",
       "    }\n",
       "    .spark-nlp-display-entity-type{\n",
       "        font-size: 14px;\n",
       "        line-height: 24px;\n",
       "        color: #ffffff;\n",
       "        font-family: 'Montserrat', sans-serif !important;\n",
       "        \n",
       "        text-transform: uppercase;\n",
       "        \n",
       "        font-weight: 500;\n",
       "\n",
       "        display: block;\n",
       "        padding: 3px 5px;\n",
       "    }\n",
       "    \n",
       "    .spark-nlp-display-entity-resolution{\n",
       "        font-size: 14px;\n",
       "        line-height: 24px;\n",
       "        color: #ffffff;\n",
       "        font-family: 'Vistol Regular', sans-serif !important;\n",
       "        \n",
       "        text-transform: uppercase;\n",
       "        \n",
       "        font-weight: 500;\n",
       "\n",
       "        display: block;\n",
       "        padding: 3px 5px;\n",
       "    }\n",
       "    \n",
       "    .spark-nlp-display-others{\n",
       "        font-size: 14px;\n",
       "        line-height: 24px;\n",
       "        font-family: 'Montserrat', sans-serif !important;\n",
       "        \n",
       "        font-weight: 400;\n",
       "    }\n",
       "\n",
       "</style>\n",
       " <span class=\"spark-nlp-display-others\" style=\"background-color: white\">Medical Specialty:Hematology - Oncology<br>Sample Name: Mullerian Adenosarcoma<br>Description: Discharge summary of a patient presenting with a large mass aborted through the cervix.<br>(Medical Transcription Sample Report)<br>PRINCIPAL DIAGNOSIS:  Mullerian adenosarcoma.<br>HISTORY OF PRESENT ILLNESS:  The patient is a </span><span class=\"spark-nlp-display-entity-wrapper\" style=\"background-color: #ffe0ac\"><span class=\"spark-nlp-display-entity-name\">56-year-old </span><span class=\"spark-nlp-display-entity-type\">Age</span></span><span class=\"spark-nlp-display-others\" style=\"background-color: white\"> presenting with a large mass aborted through the cervix.<br>PHYSICAL EXAM:CHEST: Clear. There is no heart murmur. ABDOMEN: Nontender.<br>PELVIC: There is a large mass in the vagina.<br>HOSPITAL COURSE:  The patient went to surgery on the day of admission. The postoperative course was marked by fever and ileus. The patient regained bowel function. She was discharged on the morning of the seventh postoperative day.<br>OPERATIONS:  July 25, 2006: Total abdominal hysterectomy, bilateral salpingo-oophorectomy.<br>DISCHARGE CONDITION:  Stable.<br>PLAN:  The patient will remain at rest initially with progressive ambulation thereafter. She will avoid lifting, driving, stairs, or intercourse. She will call me for fevers, drainage, bleeding, or pain. Family history, social history, and psychosocial needs per the social worker. The patient will follow up in my office in one week.<br>PATHOLOGY: Mullerian adenosarcoma.<br>MEDICATIONS: Percocet 5, #40, one q.3 h. p.r.n. pain.<br></span></div>"
      ],
      "text/plain": [
       "<IPython.core.display.HTML object>"
      ]
     },
     "metadata": {
      "tags": []
     },
     "output_type": "display_data"
    }
   ],
   "source": [
    "light_model = LightPipeline(age_model)\n",
    " \n",
    "light_result = light_model.fullAnnotate(sample_text)\n",
    " \n",
    "from sparknlp_display import NerVisualizer\n",
    " \n",
    "visualiser = NerVisualizer()\n",
    " \n",
    "ner_vis = visualiser.display(light_result[0], label_col='ner_chunk', document_col='document')"
   ]
  },
  {
   "cell_type": "code",
   "execution_count": 25,
   "metadata": {
    "id": "XFiSM6JdYTFl"
   },
   "outputs": [],
   "source": [
    "age_result = age_model.transform(df)\n",
    " \n",
    "age_df = age_result.select(\"filename\",F.explode(F.arrays_zip('ner_chunk.result', 'ner_chunk.metadata')).alias(\"cols\")) \\\n",
    "                   .select(\"filename\", \n",
    "                           F.expr(\"cols['0']\").alias(\"Age\"),\n",
    "                           F.expr(\"cols['1']['entity']\").alias(\"ner_label\")).toPandas().groupby('filename').first().reset_index()"
   ]
  },
  {
   "cell_type": "code",
   "execution_count": 26,
   "metadata": {
    "colab": {
     "base_uri": "https://localhost:8080/",
     "height": 204
    },
    "id": "WV34O4LKYXg2",
    "outputId": "8f783936-5eb0-4d7e-fa39-9112c3348911"
   },
   "outputs": [
    {
     "data": {
      "text/html": [
       "<div>\n",
       "<style scoped>\n",
       "    .dataframe tbody tr th:only-of-type {\n",
       "        vertical-align: middle;\n",
       "    }\n",
       "\n",
       "    .dataframe tbody tr th {\n",
       "        vertical-align: top;\n",
       "    }\n",
       "\n",
       "    .dataframe thead th {\n",
       "        text-align: right;\n",
       "    }\n",
       "</style>\n",
       "<table border=\"1\" class=\"dataframe\">\n",
       "  <thead>\n",
       "    <tr style=\"text-align: right;\">\n",
       "      <th></th>\n",
       "      <th>filename</th>\n",
       "      <th>Age</th>\n",
       "    </tr>\n",
       "  </thead>\n",
       "  <tbody>\n",
       "    <tr>\n",
       "      <th>0</th>\n",
       "      <td>mt_note_01.txt</td>\n",
       "      <td>59</td>\n",
       "    </tr>\n",
       "    <tr>\n",
       "      <th>1</th>\n",
       "      <td>mt_note_02.txt</td>\n",
       "      <td>56</td>\n",
       "    </tr>\n",
       "    <tr>\n",
       "      <th>2</th>\n",
       "      <td>mt_note_03.txt</td>\n",
       "      <td>66</td>\n",
       "    </tr>\n",
       "    <tr>\n",
       "      <th>3</th>\n",
       "      <td>mt_note_04.txt</td>\n",
       "      <td>61</td>\n",
       "    </tr>\n",
       "    <tr>\n",
       "      <th>4</th>\n",
       "      <td>mt_note_05.txt</td>\n",
       "      <td>57</td>\n",
       "    </tr>\n",
       "  </tbody>\n",
       "</table>\n",
       "</div>"
      ],
      "text/plain": [
       "         filename  Age\n",
       "0  mt_note_01.txt   59\n",
       "1  mt_note_02.txt   56\n",
       "2  mt_note_03.txt   66\n",
       "3  mt_note_04.txt   61\n",
       "4  mt_note_05.txt   57"
      ]
     },
     "execution_count": 26,
     "metadata": {
      "tags": []
     },
     "output_type": "execute_result"
    }
   ],
   "source": [
    "age_df.Age = age_df.Age.replace(r\"\\D\", \"\", regex = True).astype(int)\n",
    "age_df.drop('ner_label', axis=1, inplace=True)\n",
    "age_df.head()"
   ]
  },
  {
   "cell_type": "markdown",
   "metadata": {
    "id": "z1REw4sNYlYc"
   },
   "source": [
    "# Calculating Medicare Risk Adjusment Score\n",
    "Now, we have all data which can be extracted from clinical notes. Now we can calculate Medicare Risk Adjusment Score."
   ]
  },
  {
   "cell_type": "code",
   "execution_count": 74,
   "metadata": {
    "id": "GjoSNJLEYkAb"
   },
   "outputs": [],
   "source": [
    "patient_df = age_df.merge(icd10_df_all, on='filename', how = \"left\")\\\n",
    "                   .merge(gender_pd_df, on='filename', how = \"left\")\n",
    " \n",
    "patient_df = patient_df.dropna()"
   ]
  },
  {
   "cell_type": "code",
   "execution_count": 76,
   "metadata": {
    "colab": {
     "base_uri": "https://localhost:8080/"
    },
    "id": "x1lVc24v1mF1",
    "outputId": "d85887d1-241c-419b-cf56-79809e277f50"
   },
   "outputs": [
    {
     "name": "stdout",
     "output_type": "stream",
     "text": [
      "<class 'pandas.core.frame.DataFrame'>\n",
      "Int64Index: 7 entries, 0 to 9\n",
      "Data columns (total 5 columns):\n",
      " #   Column                           Non-Null Count  Dtype \n",
      "---  ------                           --------------  ----- \n",
      " 0   filename                         7 non-null      object\n",
      " 1   Age                              7 non-null      int64 \n",
      " 2   icd10_code                       7 non-null      object\n",
      " 3   Extracted_Entities_vs_ICD_Codes  7 non-null      object\n",
      " 4   Gender                           7 non-null      object\n",
      "dtypes: int64(1), object(4)\n",
      "memory usage: 336.0+ bytes\n"
     ]
    }
   ],
   "source": [
    "patient_df.info()"
   ]
  },
  {
   "cell_type": "code",
   "execution_count": 77,
   "metadata": {
    "colab": {
     "base_uri": "https://localhost:8080/"
    },
    "id": "JG4YhPeMu_SO",
    "outputId": "8330a8e1-3214-4438-c32b-cf4c81862056"
   },
   "outputs": [
    {
     "name": "stdout",
     "output_type": "stream",
     "text": [
      "+--------------+---+---------------------------------------+---------------------------------------------------------------------------------------------------------------------------------------------------------------------+------+\n",
      "|filename      |Age|icd10_code                             |Extracted_Entities_vs_ICD_Codes                                                                                                                                      |Gender|\n",
      "+--------------+---+---------------------------------------+---------------------------------------------------------------------------------------------------------------------------------------------------------------------+------+\n",
      "|mt_note_01.txt|59 |[C801]                                 |[{cancer, C801}]                                                                                                                                                     |F     |\n",
      "|mt_note_03.txt|66 |[C499, C499, D6181, M069]              |[{leiomyosarcoma, C499}, {Leiomyosarcoma, C499}, {Pancytopenia, D6181}, {rheumatoid arthritis, M069}]                                                                |F     |\n",
      "|mt_note_05.txt|57 |[C5092, C5091, C5092, C800, G20, C5092]|[{Breast Cancer, C5092}, {ductal carcinoma of the left breast, C5091}, {breast cancer, C5092}, {metastatic disease, C800}, {ALLERGIES, G20}, {breast cancers, C5092}]|F     |\n",
      "|mt_note_06.txt|63 |[F319]                                 |[{Type 1 bipolar disease, F319}]                                                                                                                                     |F     |\n",
      "|mt_note_08.txt|66 |[C459, C800]                           |[{malignant mesothelioma, C459}, {metastatic disease, C800}]                                                                                                         |F     |\n",
      "|mt_note_09.txt|19 |[D5702, K5505]                         |[{Sickle cell crisis, D5702}, {Veno-occlusive crisis, K5505}]                                                                                                        |M     |\n",
      "|mt_note_10.txt|16 |[C6960, C6960]                         |[{Rhabdomyosarcoma of the left orbit, C6960}, {rhabdomyosarcoma of the left orbit, C6960}]                                                                           |M     |\n",
      "+--------------+---+---------------------------------------+---------------------------------------------------------------------------------------------------------------------------------------------------------------------+------+\n",
      "\n"
     ]
    }
   ],
   "source": [
    "df = spark.createDataFrame(patient_df)\n",
    "df.show(truncate=False)"
   ]
  },
  {
   "cell_type": "code",
   "execution_count": 78,
   "metadata": {
    "id": "AghLJ-udtfjW"
   },
   "outputs": [],
   "source": [
    "from pyspark.sql.types import MapType, IntegerType, DoubleType, StringType, StructType, StructField, FloatType\n",
    "import pyspark.sql.functions as f\n",
    "\n",
    "schema = StructType([\n",
    "            StructField('risk_score', FloatType()),\n",
    "            StructField('hcc_lst', StringType()),\n",
    "            StructField('parameters', StringType()),\n",
    "            StructField('details', StringType())])"
   ]
  },
  {
   "cell_type": "code",
   "execution_count": 82,
   "metadata": {
    "colab": {
     "base_uri": "https://localhost:8080/"
    },
    "id": "Sx0lbp0Xsj9Q",
    "outputId": "6b15233d-a6d0-4638-ad55-fe194167a566"
   },
   "outputs": [
    {
     "name": "stdout",
     "output_type": "stream",
     "text": [
      "+----------+---------------------------------------+---+------+\n",
      "|risk_score|icd10_code                             |Age|Gender|\n",
      "+----------+---------------------------------------+---+------+\n",
      "|0.15      |[C801]                                 |59 |F     |\n",
      "|1.419     |[C499, C499, D6181, M069]              |66 |F     |\n",
      "|3.265     |[C5092, C5091, C5092, C800, G20, C5092]|57 |F     |\n",
      "|0.309     |[F319]                                 |63 |F     |\n",
      "|2.982     |[C459, C800]                           |66 |F     |\n",
      "|1.372     |[D5702, K5505]                         |19 |M     |\n",
      "|0.15      |[C6960, C6960]                         |16 |M     |\n",
      "+----------+---------------------------------------+---+------+\n",
      "\n",
      "-RECORD 0-------------------------------------------------------------------------------------------------------------------------------\n",
      " filename                        | mt_note_01.txt                                                                                       \n",
      " Age                             | 59                                                                                                   \n",
      " icd10_code                      | [C801]                                                                                               \n",
      " Extracted_Entities_vs_ICD_Codes | [{cancer, C801}]                                                                                     \n",
      " Gender                          | F                                                                                                    \n",
      " hcc_profile                     | {0.15, [\"D1\",\"HCC12\"], {\"elig\":\"CNA\",\"age\":59,\"sex\":\"F\",\"origds\":false,\"disabled\":false,\"medicaid... \n",
      " risk_score                      | 0.15                                                                                                 \n",
      " hcc_lst                         | [\"D1\",\"HCC12\"]                                                                                       \n",
      " parameters                      | {\"elig\":\"CNA\",\"age\":59,\"sex\":\"F\",\"origds\":false,\"disabled\":false,\"medicaid\":false}                   \n",
      " details                         | {\"CNA_D1\":0.0,\"CNA_HCC12\":0.15}                                                                      \n",
      "-RECORD 1-------------------------------------------------------------------------------------------------------------------------------\n",
      " filename                        | mt_note_03.txt                                                                                       \n",
      " Age                             | 66                                                                                                   \n",
      " icd10_code                      | [C499, C499, D6181, M069]                                                                            \n",
      " Extracted_Entities_vs_ICD_Codes | [{leiomyosarcoma, C499}, {Leiomyosarcoma, C499}, {Pancytopenia, D6181}, {rheumatoid arthritis, M0... \n",
      " Gender                          | F                                                                                                    \n",
      " hcc_profile                     | {1.419, [\"D2\",\"HCC10\",\"HCC40\"], {\"elig\":\"CNA\",\"age\":66,\"sex\":\"F\",\"origds\":false,\"disabled\":false,... \n",
      " risk_score                      | 1.419                                                                                                \n",
      " hcc_lst                         | [\"D2\",\"HCC10\",\"HCC40\"]                                                                               \n",
      " parameters                      | {\"elig\":\"CNA\",\"age\":66,\"sex\":\"F\",\"origds\":false,\"disabled\":false,\"medicaid\":false}                   \n",
      " details                         | {\"CNA_F65_69\":0.323,\"CNA_D2\":0.0,\"CNA_HCC10\":0.675,\"CNA_HCC40\":0.421}                                \n",
      "-RECORD 2-------------------------------------------------------------------------------------------------------------------------------\n",
      " filename                        | mt_note_05.txt                                                                                       \n",
      " Age                             | 57                                                                                                   \n",
      " icd10_code                      | [C5092, C5091, C5092, C800, G20, C5092]                                                              \n",
      " Extracted_Entities_vs_ICD_Codes | [{Breast Cancer, C5092}, {ductal carcinoma of the left breast, C5091}, {breast cancer, C5092}, {m... \n",
      " Gender                          | F                                                                                                    \n",
      " hcc_profile                     | {3.265, [\"HCC78\",\"D2\",\"HCC8\"], {\"elig\":\"CNA\",\"age\":57,\"sex\":\"F\",\"origds\":false,\"disabled\":false,\"... \n",
      " risk_score                      | 3.265                                                                                                \n",
      " hcc_lst                         | [\"HCC78\",\"D2\",\"HCC8\"]                                                                                \n",
      " parameters                      | {\"elig\":\"CNA\",\"age\":57,\"sex\":\"F\",\"origds\":false,\"disabled\":false,\"medicaid\":false}                   \n",
      " details                         | {\"CNA_HCC78\":0.606,\"CNA_D2\":0.0,\"CNA_HCC8\":2.659}                                                    \n",
      "-RECORD 3-------------------------------------------------------------------------------------------------------------------------------\n",
      " filename                        | mt_note_06.txt                                                                                       \n",
      " Age                             | 63                                                                                                   \n",
      " icd10_code                      | [F319]                                                                                               \n",
      " Extracted_Entities_vs_ICD_Codes | [{Type 1 bipolar disease, F319}]                                                                     \n",
      " Gender                          | F                                                                                                    \n",
      " hcc_profile                     | {0.309, [\"D1\",\"HCC59\"], {\"elig\":\"CNA\",\"age\":63,\"sex\":\"F\",\"origds\":false,\"disabled\":false,\"medicai... \n",
      " risk_score                      | 0.309                                                                                                \n",
      " hcc_lst                         | [\"D1\",\"HCC59\"]                                                                                       \n",
      " parameters                      | {\"elig\":\"CNA\",\"age\":63,\"sex\":\"F\",\"origds\":false,\"disabled\":false,\"medicaid\":false}                   \n",
      " details                         | {\"CNA_D1\":0.0,\"CNA_HCC59\":0.309}                                                                     \n",
      "-RECORD 4-------------------------------------------------------------------------------------------------------------------------------\n",
      " filename                        | mt_note_08.txt                                                                                       \n",
      " Age                             | 66                                                                                                   \n",
      " icd10_code                      | [C459, C800]                                                                                         \n",
      " Extracted_Entities_vs_ICD_Codes | [{malignant mesothelioma, C459}, {metastatic disease, C800}]                                         \n",
      " Gender                          | F                                                                                                    \n",
      " hcc_profile                     | {2.982, [\"HCC8\",\"D1\"], {\"elig\":\"CNA\",\"age\":66,\"sex\":\"F\",\"origds\":false,\"disabled\":false,\"medicaid... \n",
      " risk_score                      | 2.982                                                                                                \n",
      " hcc_lst                         | [\"HCC8\",\"D1\"]                                                                                        \n",
      " parameters                      | {\"elig\":\"CNA\",\"age\":66,\"sex\":\"F\",\"origds\":false,\"disabled\":false,\"medicaid\":false}                   \n",
      " details                         | {\"CNA_F65_69\":0.323,\"CNA_HCC8\":2.659,\"CNA_D1\":0.0}                                                   \n",
      "-RECORD 5-------------------------------------------------------------------------------------------------------------------------------\n",
      " filename                        | mt_note_09.txt                                                                                       \n",
      " Age                             | 19                                                                                                   \n",
      " icd10_code                      | [D5702, K5505]                                                                                       \n",
      " Extracted_Entities_vs_ICD_Codes | [{Sickle cell crisis, D5702}, {Veno-occlusive crisis, K5505}]                                        \n",
      " Gender                          | M                                                                                                    \n",
      " hcc_profile                     | {1.372, [\"D1\",\"HCC46\"], {\"elig\":\"CNA\",\"age\":19,\"sex\":\"M\",\"origds\":false,\"disabled\":false,\"medicai... \n",
      " risk_score                      | 1.372                                                                                                \n",
      " hcc_lst                         | [\"D1\",\"HCC46\"]                                                                                       \n",
      " parameters                      | {\"elig\":\"CNA\",\"age\":19,\"sex\":\"M\",\"origds\":false,\"disabled\":false,\"medicaid\":false}                   \n",
      " details                         | {\"CNA_D1\":0.0,\"CNA_HCC46\":1.372}                                                                     \n",
      "-RECORD 6-------------------------------------------------------------------------------------------------------------------------------\n",
      " filename                        | mt_note_10.txt                                                                                       \n",
      " Age                             | 16                                                                                                   \n",
      " icd10_code                      | [C6960, C6960]                                                                                       \n",
      " Extracted_Entities_vs_ICD_Codes | [{Rhabdomyosarcoma of the left orbit, C6960}, {rhabdomyosarcoma of the left orbit, C6960}]           \n",
      " Gender                          | M                                                                                                    \n",
      " hcc_profile                     | {0.15, [\"D1\",\"HCC12\"], {\"elig\":\"CNA\",\"age\":16,\"sex\":\"M\",\"origds\":false,\"disabled\":false,\"medicaid... \n",
      " risk_score                      | 0.15                                                                                                 \n",
      " hcc_lst                         | [\"D1\",\"HCC12\"]                                                                                       \n",
      " parameters                      | {\"elig\":\"CNA\",\"age\":16,\"sex\":\"M\",\"origds\":false,\"disabled\":false,\"medicaid\":false}                   \n",
      " details                         | {\"CNA_D1\":0.0,\"CNA_HCC12\":0.15}                                                                      \n",
      "\n"
     ]
    }
   ],
   "source": [
    "df = df.withColumn(\"hcc_profile\", profile(df.icd10_code, df.Age, df.Gender))\n",
    "                                          \n",
    "df = df.withColumn(\"hcc_profile\", F.from_json(F.col(\"hcc_profile\"), schema))\n",
    "df= df.withColumn(\"risk_score\", df.hcc_profile.getItem(\"risk_score\"))\\\n",
    "      .withColumn(\"hcc_lst\", df.hcc_profile.getItem(\"hcc_lst\"))\\\n",
    "      .withColumn(\"parameters\", df.hcc_profile.getItem(\"parameters\"))\\\n",
    "      .withColumn(\"details\", df.hcc_profile.getItem(\"details\"))\\\n",
    "\n",
    "df.select('risk_score','icd10_code', 'Age', 'Gender').show(truncate=False )\n",
    "\n",
    "df.show(truncate=100, vertical=True)"
   ]
  }
 ],
 "metadata": {
  "colab": {
   "collapsed_sections": [],
   "name": "3.1.Medicare_Risk Adjusment_Score.ipynb",
   "provenance": []
  },
  "kernelspec": {
   "display_name": "Python 3 (ipykernel)",
   "language": "python",
   "name": "python3"
  },
  "language_info": {
   "codemirror_mode": {
    "name": "ipython",
    "version": 3
   },
   "file_extension": ".py",
   "mimetype": "text/x-python",
   "name": "python",
   "nbconvert_exporter": "python",
   "pygments_lexer": "ipython3",
   "version": "3.7.6"
  }
 },
 "nbformat": 4,
 "nbformat_minor": 1
}

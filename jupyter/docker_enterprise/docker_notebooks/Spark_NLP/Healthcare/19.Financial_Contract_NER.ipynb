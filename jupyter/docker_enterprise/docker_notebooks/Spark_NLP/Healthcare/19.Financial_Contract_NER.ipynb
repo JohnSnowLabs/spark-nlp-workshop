{
 "cells": [
  {
   "cell_type": "markdown",
   "metadata": {
    "id": "omUjYAIxqFDl"
   },
   "source": [
    "![JohnSnowLabs](https://nlp.johnsnowlabs.com/assets/images/logo.png)"
   ]
  },
  {
   "cell_type": "markdown",
   "metadata": {
    "id": "vAtN914yqHec"
   },
   "source": [
    "[![Open In Colab](https://colab.research.google.com/assets/colab-badge.svg)](https://colab.research.google.com/github/JohnSnowLabs/spark-nlp-workshop/blob/master/tutorials/Certification_Trainings/Healthcare/19.Financial_Contract_NER.ipynb)"
   ]
  },
  {
   "cell_type": "markdown",
   "metadata": {
    "id": "jpvVHX2N-LAm"
   },
   "source": [
    "## 19.Finance Contract NER with Chunk Merger"
   ]
  },
  {
   "cell_type": "code",
   "execution_count": 2,
   "metadata": {
    "id": "dAnJjU4frAQf"
   },
   "outputs": [],
   "source": [
    "import os\n",
    "\n",
    "jsl_secret = os.getenv('SECRET')\n",
    "\n",
    "import sparknlp\n",
    "sparknlp_version = sparknlp.version()\n",
    "import sparknlp_jsl\n",
    "jsl_version = sparknlp_jsl.version()\n",
    "\n",
    "print (jsl_secret)"
   ]
  },
  {
   "cell_type": "code",
   "execution_count": 3,
   "metadata": {
    "colab": {
     "base_uri": "https://localhost:8080/"
    },
    "id": "1Dd_0KMLr5y4",
    "outputId": "d8496f33-906b-49c1-f639-e4739b38a50a"
   },
   "outputs": [
    {
     "name": "stdout",
     "output_type": "stream",
     "text": [
      "3.1.2\n",
      "3.1.2\n"
     ]
    }
   ],
   "source": [
    "import json\n",
    "import os\n",
    "from pyspark.ml import Pipeline,PipelineModel\n",
    "from pyspark.sql import SparkSession\n",
    "\n",
    "from sparknlp.annotator import *\n",
    "from sparknlp_jsl.annotator import *\n",
    "from sparknlp.base import *\n",
    "from sparknlp.util import *\n",
    "import sparknlp_jsl\n",
    "import sparknlp\n",
    "from pyspark.sql import functions as F\n",
    "\n",
    "params = {\"spark.driver.memory\":\"16G\",\n",
    "\"spark.kryoserializer.buffer.max\":\"2000M\",\n",
    "\"spark.driver.maxResultSize\":\"2000M\"}\n",
    "\n",
    "spark = sparknlp_jsl.start(jsl_secret,params=params)\n",
    "\n",
    "print (sparknlp.version())\n",
    "print (sparknlp_jsl.version())"
   ]
  },
  {
   "cell_type": "markdown",
   "metadata": {
    "id": "2Br9gAaDo1eT"
   },
   "source": [
    "## Prediction Pipeline"
   ]
  },
  {
   "cell_type": "code",
   "execution_count": 4,
   "metadata": {
    "colab": {
     "base_uri": "https://localhost:8080/"
    },
    "id": "5Ftc3ww_3fUZ",
    "outputId": "532d24ee-b33d-48b0-9db7-a6a480fc89c0"
   },
   "outputs": [
    {
     "name": "stdout",
     "output_type": "stream",
     "text": [
      "glove_6B_300 download started this may take some time.\n",
      "Approximate size to download 426.2 MB\n",
      "[OK!]\n",
      "ner_financial_contract download started this may take some time.\n",
      "Approximate size to download 14.2 MB\n",
      "[OK!]\n",
      "glove_100d download started this may take some time.\n",
      "Approximate size to download 145.3 MB\n",
      "[OK!]\n",
      "onto_100 download started this may take some time.\n",
      "Approximate size to download 13.5 MB\n",
      "[OK!]\n"
     ]
    }
   ],
   "source": [
    "documentAssembler = DocumentAssembler()\\\n",
    "    .setInputCol(\"text\")\\\n",
    "    .setOutputCol(\"document\")\n",
    "\n",
    "# Sentence Detector annotator, processes various sentences per line\n",
    "\n",
    "sentenceDetector = SentenceDetector()\\\n",
    "    .setInputCols([\"document\"])\\\n",
    "    .setOutputCol(\"sentence\")\\\n",
    "\n",
    "# Tokenizer splits words in a relevant format for NLP\n",
    "\n",
    "tokenizer = Tokenizer()\\\n",
    "    .setInputCols([\"sentence\"])\\\n",
    "    .setOutputCol(\"token\")\n",
    "\n",
    "word_embeddings = WordEmbeddingsModel.pretrained(\"glove_6B_300\",'xx')\\\n",
    "    .setInputCols([\"sentence\", 'token'])\\\n",
    "    .setOutputCol(\"word_embeddings\")\\\n",
    "    .setCaseSensitive(False)\n",
    "\n",
    "financial_ner_model =MedicalNerModel.pretrained('ner_financial_contract', 'en', 'clinical/models')\\\n",
    "    .setInputCols([\"sentence\", \"token\", \"word_embeddings\"])\\\n",
    "    .setOutputCol(\"ner\")\n",
    "\n",
    "ner_converter_1 = NerConverter() \\\n",
    "    .setInputCols([\"sentence\", \"token\", \"ner\"]) \\\n",
    "    .setOutputCol(\"ner_chunk_fin\")\n",
    "\n",
    "onto_embeddings = WordEmbeddingsModel.pretrained(\"glove_100d\",'en')\\\n",
    "    .setInputCols([\"sentence\", 'token'])\\\n",
    "    .setOutputCol(\"onto_embeddings\")\\\n",
    "    .setCaseSensitive(False)\n",
    "\n",
    "ner_onto = NerDLModel.pretrained(name='onto_100', lang='en')\\\n",
    "    .setInputCols([\"sentence\", \"token\", \"onto_embeddings\"])\\\n",
    "    .setOutputCol(\"ner_onto\")  \n",
    "\n",
    "ner_converter_2 = NerConverter() \\\n",
    "    .setInputCols([\"sentence\", \"token\", \"ner_onto\"]) \\\n",
    "    .setOutputCol(\"ner_chunk_onto\")\n",
    "\n",
    "\n",
    "chunk_merger = ChunkMergeApproach()\\\n",
    "    .setInputCols('ner_chunk_onto', \"ner_chunk_fin\")\\\n",
    "    .setOutputCol('ner_chunk')\n",
    "\n",
    "text_pipeline = Pipeline(stages = [\n",
    "    documentAssembler,\n",
    "    sentenceDetector,\n",
    "    tokenizer,\n",
    "    word_embeddings,\n",
    "    onto_embeddings,\n",
    "    financial_ner_model,\n",
    "    ner_onto,\n",
    "    ner_converter_1,ner_converter_2,\n",
    "    chunk_merger    \n",
    "    ])\n",
    "\n",
    "empty_df = spark.createDataFrame([['']]).toDF(\"text\")\n",
    "\n",
    "model_for_text = text_pipeline.fit(empty_df)"
   ]
  },
  {
   "cell_type": "code",
   "execution_count": 5,
   "metadata": {
    "colab": {
     "base_uri": "https://localhost:8080/",
     "height": 35
    },
    "id": "e_EZuZaTpqxO",
    "outputId": "49846ee1-2712-4649-abf1-b1ce007d7e9e"
   },
   "outputs": [
    {
     "data": {
      "application/vnd.google.colaboratory.intrinsic+json": {
       "type": "string"
      },
      "text/plain": [
       "'glove_100d'"
      ]
     },
     "execution_count": 5,
     "metadata": {
      "tags": []
     },
     "output_type": "execute_result"
    }
   ],
   "source": [
    "ner_onto.getStorageRef()"
   ]
  },
  {
   "cell_type": "code",
   "execution_count": 6,
   "metadata": {
    "colab": {
     "base_uri": "https://localhost:8080/",
     "height": 35
    },
    "id": "YGOE59F7p2vY",
    "outputId": "876fc2d8-77b5-4df4-c8f9-51fa639da593"
   },
   "outputs": [
    {
     "data": {
      "application/vnd.google.colaboratory.intrinsic+json": {
       "type": "string"
      },
      "text/plain": [
       "'glove_6B_300'"
      ]
     },
     "execution_count": 6,
     "metadata": {
      "tags": []
     },
     "output_type": "execute_result"
    }
   ],
   "source": [
    "financial_ner_model.getStorageRef()"
   ]
  },
  {
   "cell_type": "code",
   "execution_count": 7,
   "metadata": {
    "colab": {
     "base_uri": "https://localhost:8080/"
    },
    "id": "8DwQNVitp69Q",
    "outputId": "afd5ad46-240f-4067-f109-ab50e95cb602"
   },
   "outputs": [
    {
     "data": {
      "text/plain": [
       "['O', 'I-ORG', 'I-MISC', 'I-PER', 'I-LOC']"
      ]
     },
     "execution_count": 7,
     "metadata": {
      "tags": []
     },
     "output_type": "execute_result"
    }
   ],
   "source": [
    "financial_ner_model.getClasses()"
   ]
  },
  {
   "cell_type": "code",
   "execution_count": 8,
   "metadata": {
    "id": "1Kabq_dN4CUn"
   },
   "outputs": [],
   "source": [
    "text = '''6 AFFIRMATIVE COVENANTS                                                                                                                                                                                                                                                                                                                                                                                                                                                                                                                                                                                                                                                                                                                                                                                                                                                                                                                                                                                                                                                                                                                                                                                                                                                                                                                                                                                                                                                                                                                                                                                                                                                                                                                                                                                              |\n",
    "Borrower has good title to the Collateral , free from liens  on 29 November 2018 in Michogan.                                                                                                                                                                                                                                                                                                                                                                                                                                                                                                                                                                                                                                                                                                                                                                                                                                                                                                                                                                                                                                                                                                                                                                                                                                                                                                                                                                                                                                                                                                                                                                                                                                                                                                                                                        |\n",
    "6 . 6 FURTHER ASSURANCES .                                                                                                                                                                                                                                                                                                                                                                                                                                                                                                                                                                                                                                                                                                                                                                                                                                                                                                                                                                                                                                                                                                                                                                                                                                                                                                                                                                                                                                                                                                                                                                                                                                                                                                                                                                                           |\n",
    "During the additional time , the failure to cure the default is not an Event of Default ( but no Credit Extensions will be made during the cure period );                                                                                                                                                                                                                                                                                                                                                                                                                                                                                                                                                                                                                                                                                                                                                                                                                                                                                                                                                                                                                                                                                                                                                                                                                                                                                                                                                                                                                                                                                                                                                                                                                                                            |\n",
    "( d ) Apply to the Obligations any ( i ) balances and deposits of Borrower it holds , or ( ii ) any amount held by Bank owing to or for the credit or the account of Borrower ;                                                                                                                                                                                                                                                                                                                                                                                                                                                                                                                                                                                                                                                                                                                                                                                                                                                                                                                                                                                                                                                                                                                                                                                                                                                                                                                                                                                                                                                                                                                                                                                                                                      |\n",
    "Bank ' s appointment as Borrower ' s attorney in fact , and all of Bank of Michigan ' s rights and powers , coupled                                                                                                                                                                                                                                                                                                                                                                                                                                                                                                                                                                                                                                                                                                                                                                                                                                                                                                                                                                                                                                                                                                                                                                                                                                                                                                                                                                                                                                                                                                                                                                                                                                                                                                              |\n",
    "If Bank complies with reasonable banking practices it is not liable for ( a ) the safekeeping of the Collateral ; ( b ) any loss or damage to the Collateral ; ( c ) any diminution in the value of the Collateral ; or ( d ) any act or default of any carrier , warehouseman , bailee , or other person .                                                                                                                                                                                                                                                                                                                                                                                                                                                                                                                                                                                                                                                                                                                                                                                                                                                                                                                                                                                                                                                                                                                                                                                                                                                                                                                                                                                                                                                                                                          |\n",
    "If there is a default in any agreement between Borrower and a third party that gives the third party the right to accelerate any Indebtedness exceeding $ 100,000 or that could cause a Material Adverse Change ;                                                                                                                                                                                                                                                                                                                                                                                                                                                                                                                                                                                                                                                                                                                                                                                                                                                                                                                                                                                                                                                                                                                                                                                                                                                                                                                                                                                                                                                                                                                                                                                                  |\n",
    "13 CONTRACT CLAIMS , TORT CLAIMS , BREACH OF DUTY CLAIMS , AND ALL OTHER COMMON LAW OR STATUTORY CLAIMS .                                                                                                                                                                                                                                                                                                                                                                                                                                                                                                                                                                                                                                                                                                                                                                                                                                                                                                                                                                                                                                                                                                                                                                                                                                                                                                                                                                                                                                                                                                                                                                                                                                                                                                |\n",
    "Borrower waives demand, notice of default or dishonor, notice of payment and nonpayment, notice of any default, nonpayment at maturity, release, compromise, settlement, extension, or renewal of accounts, documents, instruments, chattel paper, and guarantees held by Bank on , which Borrower is liable .'''"
   ]
  },
  {
   "cell_type": "code",
   "execution_count": 9,
   "metadata": {
    "id": "XW7xHs7M4JV3"
   },
   "outputs": [],
   "source": [
    "light_model = LightPipeline(model_for_text)\n",
    "\n",
    "ann_text = light_model.fullAnnotate(text)\n"
   ]
  },
  {
   "cell_type": "code",
   "execution_count": 10,
   "metadata": {
    "colab": {
     "base_uri": "https://localhost:8080/"
    },
    "id": "2L8U7hNR-9Kb",
    "outputId": "cbe06c34-f25f-4fed-ffc3-72f5f9f66b53"
   },
   "outputs": [
    {
     "data": {
      "text/plain": [
       "[('6', 'O'),\n",
       " ('AFFIRMATIVE', 'O'),\n",
       " ('COVENANTS', 'O'),\n",
       " ('|', 'O'),\n",
       " ('Borrower', 'I-PER'),\n",
       " ('has', 'O'),\n",
       " ('good', 'O'),\n",
       " ('title', 'O'),\n",
       " ('to', 'O'),\n",
       " ('the', 'O'),\n",
       " ('Collateral', 'O'),\n",
       " (',', 'O'),\n",
       " ('free', 'O'),\n",
       " ('from', 'O'),\n",
       " ('liens', 'O'),\n",
       " ('on', 'O'),\n",
       " ('29', 'O'),\n",
       " ('November', 'O'),\n",
       " ('2018', 'O'),\n",
       " ('in', 'O'),\n",
       " ('Michogan', 'O'),\n",
       " ('.', 'O'),\n",
       " ('|', 'O'),\n",
       " ('6', 'O'),\n",
       " ('.', 'O'),\n",
       " ('6', 'O'),\n",
       " ('FURTHER', 'O'),\n",
       " ('ASSURANCES', 'O'),\n",
       " ('.', 'O'),\n",
       " ('|', 'O'),\n",
       " ('During', 'O'),\n",
       " ('the', 'O'),\n",
       " ('additional', 'O'),\n",
       " ('time', 'O'),\n",
       " (',', 'O'),\n",
       " ('the', 'O'),\n",
       " ('failure', 'O'),\n",
       " ('to', 'O'),\n",
       " ('cure', 'O'),\n",
       " ('the', 'O'),\n",
       " ('default', 'O'),\n",
       " ('is', 'O'),\n",
       " ('not', 'O'),\n",
       " ('an', 'O'),\n",
       " ('Event', 'O'),\n",
       " ('of', 'O'),\n",
       " ('Default', 'O'),\n",
       " ('(', 'O'),\n",
       " ('but', 'O'),\n",
       " ('no', 'O'),\n",
       " ('Credit', 'O'),\n",
       " ('Extensions', 'O'),\n",
       " ('will', 'O'),\n",
       " ('be', 'O'),\n",
       " ('made', 'O'),\n",
       " ('during', 'O'),\n",
       " ('the', 'O'),\n",
       " ('cure', 'O'),\n",
       " ('period', 'O'),\n",
       " (');', 'O'),\n",
       " ('|', 'O'),\n",
       " ('(', 'O'),\n",
       " ('d', 'O'),\n",
       " (')', 'O'),\n",
       " ('Apply', 'O'),\n",
       " ('to', 'O'),\n",
       " ('the', 'O'),\n",
       " ('Obligations', 'O'),\n",
       " ('any', 'O'),\n",
       " ('(', 'O'),\n",
       " ('i', 'O'),\n",
       " (')', 'O'),\n",
       " ('balances', 'O'),\n",
       " ('and', 'O'),\n",
       " ('deposits', 'O'),\n",
       " ('of', 'O'),\n",
       " ('Borrower', 'I-PER'),\n",
       " ('it', 'O'),\n",
       " ('holds', 'O'),\n",
       " (',', 'O'),\n",
       " ('or', 'O'),\n",
       " ('(', 'O'),\n",
       " ('ii', 'O'),\n",
       " (')', 'O'),\n",
       " ('any', 'O'),\n",
       " ('amount', 'O'),\n",
       " ('held', 'O'),\n",
       " ('by', 'O'),\n",
       " ('Bank', 'I-ORG'),\n",
       " ('owing', 'O'),\n",
       " ('to', 'O'),\n",
       " ('or', 'O'),\n",
       " ('for', 'O'),\n",
       " ('the', 'O'),\n",
       " ('credit', 'O'),\n",
       " ('or', 'O'),\n",
       " ('the', 'O'),\n",
       " ('account', 'O'),\n",
       " ('of', 'O'),\n",
       " ('Borrower', 'I-PER'),\n",
       " (';', 'O'),\n",
       " ('|', 'O'),\n",
       " ('Bank', 'I-ORG'),\n",
       " (\"'\", 'O'),\n",
       " ('s', 'O'),\n",
       " ('appointment', 'O'),\n",
       " ('as', 'O'),\n",
       " ('Borrower', 'I-PER'),\n",
       " (\"'\", 'O'),\n",
       " ('s', 'O'),\n",
       " ('attorney', 'O'),\n",
       " ('in', 'O'),\n",
       " ('fact', 'O'),\n",
       " (',', 'O'),\n",
       " ('and', 'O'),\n",
       " ('all', 'O'),\n",
       " ('of', 'O'),\n",
       " ('Bank', 'I-ORG'),\n",
       " ('of', 'O'),\n",
       " ('Michigan', 'O'),\n",
       " (\"'\", 'O'),\n",
       " ('s', 'O'),\n",
       " ('rights', 'O'),\n",
       " ('and', 'O'),\n",
       " ('powers', 'O'),\n",
       " (',', 'O'),\n",
       " ('coupled', 'O'),\n",
       " ('|', 'O'),\n",
       " ('If', 'O'),\n",
       " ('Bank', 'I-ORG'),\n",
       " ('complies', 'O'),\n",
       " ('with', 'O'),\n",
       " ('reasonable', 'O'),\n",
       " ('banking', 'O'),\n",
       " ('practices', 'O'),\n",
       " ('it', 'O'),\n",
       " ('is', 'O'),\n",
       " ('not', 'O'),\n",
       " ('liable', 'O'),\n",
       " ('for', 'O'),\n",
       " ('(', 'O'),\n",
       " ('a', 'O'),\n",
       " (')', 'O'),\n",
       " ('the', 'O'),\n",
       " ('safekeeping', 'O'),\n",
       " ('of', 'O'),\n",
       " ('the', 'O'),\n",
       " ('Collateral', 'O'),\n",
       " (';', 'O'),\n",
       " ('(', 'O'),\n",
       " ('b', 'O'),\n",
       " (')', 'O'),\n",
       " ('any', 'O'),\n",
       " ('loss', 'O'),\n",
       " ('or', 'O'),\n",
       " ('damage', 'O'),\n",
       " ('to', 'O'),\n",
       " ('the', 'O'),\n",
       " ('Collateral', 'O'),\n",
       " (';', 'O'),\n",
       " ('(', 'O'),\n",
       " ('c', 'O'),\n",
       " (')', 'O'),\n",
       " ('any', 'O'),\n",
       " ('diminution', 'O'),\n",
       " ('in', 'O'),\n",
       " ('the', 'O'),\n",
       " ('value', 'O'),\n",
       " ('of', 'O'),\n",
       " ('the', 'O'),\n",
       " ('Collateral', 'O'),\n",
       " (';', 'O'),\n",
       " ('or', 'O'),\n",
       " ('(', 'O'),\n",
       " ('d', 'O'),\n",
       " (')', 'O'),\n",
       " ('any', 'O'),\n",
       " ('act', 'O'),\n",
       " ('or', 'O'),\n",
       " ('default', 'O'),\n",
       " ('of', 'O'),\n",
       " ('any', 'O'),\n",
       " ('carrier', 'O'),\n",
       " (',', 'O'),\n",
       " ('warehouseman', 'O'),\n",
       " (',', 'O'),\n",
       " ('bailee', 'O'),\n",
       " (',', 'O'),\n",
       " ('or', 'O'),\n",
       " ('other', 'O'),\n",
       " ('person', 'O'),\n",
       " ('.', 'O'),\n",
       " ('|', 'O'),\n",
       " ('If', 'O'),\n",
       " ('there', 'O'),\n",
       " ('is', 'O'),\n",
       " ('a', 'O'),\n",
       " ('default', 'O'),\n",
       " ('in', 'O'),\n",
       " ('any', 'O'),\n",
       " ('agreement', 'O'),\n",
       " ('between', 'O'),\n",
       " ('Borrower', 'I-PER'),\n",
       " ('and', 'O'),\n",
       " ('a', 'O'),\n",
       " ('third', 'O'),\n",
       " ('party', 'O'),\n",
       " ('that', 'O'),\n",
       " ('gives', 'O'),\n",
       " ('the', 'O'),\n",
       " ('third', 'O'),\n",
       " ('party', 'O'),\n",
       " ('the', 'O'),\n",
       " ('right', 'O'),\n",
       " ('to', 'O'),\n",
       " ('accelerate', 'O'),\n",
       " ('any', 'O'),\n",
       " ('Indebtedness', 'O'),\n",
       " ('exceeding', 'O'),\n",
       " ('$', 'O'),\n",
       " ('100,000', 'O'),\n",
       " ('or', 'O'),\n",
       " ('that', 'O'),\n",
       " ('could', 'O'),\n",
       " ('cause', 'O'),\n",
       " ('a', 'O'),\n",
       " ('Material', 'O'),\n",
       " ('Adverse', 'O'),\n",
       " ('Change', 'O'),\n",
       " (';', 'O'),\n",
       " ('|', 'O'),\n",
       " ('13', 'O'),\n",
       " ('CONTRACT', 'O'),\n",
       " ('CLAIMS', 'O'),\n",
       " (',', 'O'),\n",
       " ('TORT', 'O'),\n",
       " ('CLAIMS', 'O'),\n",
       " (',', 'O'),\n",
       " ('BREACH', 'O'),\n",
       " ('OF', 'O'),\n",
       " ('DUTY', 'O'),\n",
       " ('CLAIMS', 'O'),\n",
       " (',', 'O'),\n",
       " ('AND', 'O'),\n",
       " ('ALL', 'O'),\n",
       " ('OTHER', 'O'),\n",
       " ('COMMON', 'O'),\n",
       " ('LAW', 'O'),\n",
       " ('OR', 'O'),\n",
       " ('STATUTORY', 'O'),\n",
       " ('CLAIMS', 'O'),\n",
       " ('.', 'O'),\n",
       " ('|', 'O'),\n",
       " ('Borrower', 'I-PER'),\n",
       " ('waives', 'O'),\n",
       " ('demand', 'O'),\n",
       " (',', 'O'),\n",
       " ('notice', 'O'),\n",
       " ('of', 'O'),\n",
       " ('default', 'O'),\n",
       " ('or', 'O'),\n",
       " ('dishonor', 'O'),\n",
       " (',', 'O'),\n",
       " ('notice', 'O'),\n",
       " ('of', 'O'),\n",
       " ('payment', 'O'),\n",
       " ('and', 'O'),\n",
       " ('nonpayment', 'O'),\n",
       " (',', 'O'),\n",
       " ('notice', 'O'),\n",
       " ('of', 'O'),\n",
       " ('any', 'O'),\n",
       " ('default', 'O'),\n",
       " (',', 'O'),\n",
       " ('nonpayment', 'O'),\n",
       " ('at', 'O'),\n",
       " ('maturity', 'O'),\n",
       " (',', 'O'),\n",
       " ('release', 'O'),\n",
       " (',', 'O'),\n",
       " ('compromise', 'O'),\n",
       " (',', 'O'),\n",
       " ('settlement', 'O'),\n",
       " (',', 'O'),\n",
       " ('extension', 'O'),\n",
       " (',', 'O'),\n",
       " ('or', 'O'),\n",
       " ('renewal', 'O'),\n",
       " ('of', 'O'),\n",
       " ('accounts', 'O'),\n",
       " (',', 'O'),\n",
       " ('documents', 'O'),\n",
       " (',', 'O'),\n",
       " ('instruments', 'O'),\n",
       " (',', 'O'),\n",
       " ('chattel', 'O'),\n",
       " ('paper', 'O'),\n",
       " (',', 'O'),\n",
       " ('and', 'O'),\n",
       " ('guarantees', 'O'),\n",
       " ('held', 'O'),\n",
       " ('by', 'O'),\n",
       " ('Bank', 'I-ORG'),\n",
       " ('on', 'O'),\n",
       " (',', 'O'),\n",
       " ('which', 'O'),\n",
       " ('Borrower', 'I-PER'),\n",
       " ('is', 'O'),\n",
       " ('liable', 'O'),\n",
       " ('.', 'O')]"
      ]
     },
     "execution_count": 10,
     "metadata": {
      "tags": []
     },
     "output_type": "execute_result"
    }
   ],
   "source": [
    "result = light_model.annotate(text)\n",
    "\n",
    "list(zip(result['token'], result['ner']))"
   ]
  },
  {
   "cell_type": "code",
   "execution_count": 11,
   "metadata": {
    "colab": {
     "base_uri": "https://localhost:8080/",
     "height": 425
    },
    "id": "B340QGW6_FcZ",
    "outputId": "4d9d2696-076b-404f-acbf-a1f4016f3625"
   },
   "outputs": [
    {
     "name": "stdout",
     "output_type": "stream",
     "text": [
      "Number of Detected NERs in the given Text is : 12\n"
     ]
    },
    {
     "data": {
      "text/html": [
       "<div>\n",
       "<style scoped>\n",
       "    .dataframe tbody tr th:only-of-type {\n",
       "        vertical-align: middle;\n",
       "    }\n",
       "\n",
       "    .dataframe tbody tr th {\n",
       "        vertical-align: top;\n",
       "    }\n",
       "\n",
       "    .dataframe thead th {\n",
       "        text-align: right;\n",
       "    }\n",
       "</style>\n",
       "<table border=\"1\" class=\"dataframe\">\n",
       "  <thead>\n",
       "    <tr style=\"text-align: right;\">\n",
       "      <th></th>\n",
       "      <th>sent_id</th>\n",
       "      <th>token</th>\n",
       "      <th>start</th>\n",
       "      <th>end</th>\n",
       "      <th>ner</th>\n",
       "    </tr>\n",
       "  </thead>\n",
       "  <tbody>\n",
       "    <tr>\n",
       "      <th>0</th>\n",
       "      <td>0</td>\n",
       "      <td>6</td>\n",
       "      <td>0</td>\n",
       "      <td>0</td>\n",
       "      <td>O</td>\n",
       "    </tr>\n",
       "    <tr>\n",
       "      <th>1</th>\n",
       "      <td>0</td>\n",
       "      <td>AFFIRMATIVE</td>\n",
       "      <td>2</td>\n",
       "      <td>12</td>\n",
       "      <td>O</td>\n",
       "    </tr>\n",
       "    <tr>\n",
       "      <th>2</th>\n",
       "      <td>0</td>\n",
       "      <td>COVENANTS</td>\n",
       "      <td>14</td>\n",
       "      <td>22</td>\n",
       "      <td>O</td>\n",
       "    </tr>\n",
       "    <tr>\n",
       "      <th>3</th>\n",
       "      <td>0</td>\n",
       "      <td>|</td>\n",
       "      <td>1749</td>\n",
       "      <td>1749</td>\n",
       "      <td>O</td>\n",
       "    </tr>\n",
       "    <tr>\n",
       "      <th>4</th>\n",
       "      <td>0</td>\n",
       "      <td>Borrower</td>\n",
       "      <td>1751</td>\n",
       "      <td>1758</td>\n",
       "      <td>I-PER</td>\n",
       "    </tr>\n",
       "    <tr>\n",
       "      <th>...</th>\n",
       "      <td>...</td>\n",
       "      <td>...</td>\n",
       "      <td>...</td>\n",
       "      <td>...</td>\n",
       "      <td>...</td>\n",
       "    </tr>\n",
       "    <tr>\n",
       "      <th>305</th>\n",
       "      <td>11</td>\n",
       "      <td>which</td>\n",
       "      <td>16065</td>\n",
       "      <td>16069</td>\n",
       "      <td>O</td>\n",
       "    </tr>\n",
       "    <tr>\n",
       "      <th>306</th>\n",
       "      <td>11</td>\n",
       "      <td>Borrower</td>\n",
       "      <td>16071</td>\n",
       "      <td>16078</td>\n",
       "      <td>I-PER</td>\n",
       "    </tr>\n",
       "    <tr>\n",
       "      <th>307</th>\n",
       "      <td>11</td>\n",
       "      <td>is</td>\n",
       "      <td>16080</td>\n",
       "      <td>16081</td>\n",
       "      <td>O</td>\n",
       "    </tr>\n",
       "    <tr>\n",
       "      <th>308</th>\n",
       "      <td>11</td>\n",
       "      <td>liable</td>\n",
       "      <td>16083</td>\n",
       "      <td>16088</td>\n",
       "      <td>O</td>\n",
       "    </tr>\n",
       "    <tr>\n",
       "      <th>309</th>\n",
       "      <td>11</td>\n",
       "      <td>.</td>\n",
       "      <td>16090</td>\n",
       "      <td>16090</td>\n",
       "      <td>O</td>\n",
       "    </tr>\n",
       "  </tbody>\n",
       "</table>\n",
       "<p>310 rows × 5 columns</p>\n",
       "</div>"
      ],
      "text/plain": [
       "     sent_id        token  start    end    ner\n",
       "0          0            6      0      0      O\n",
       "1          0  AFFIRMATIVE      2     12      O\n",
       "2          0    COVENANTS     14     22      O\n",
       "3          0            |   1749   1749      O\n",
       "4          0     Borrower   1751   1758  I-PER\n",
       "..       ...          ...    ...    ...    ...\n",
       "305       11        which  16065  16069      O\n",
       "306       11     Borrower  16071  16078  I-PER\n",
       "307       11           is  16080  16081      O\n",
       "308       11       liable  16083  16088      O\n",
       "309       11            .  16090  16090      O\n",
       "\n",
       "[310 rows x 5 columns]"
      ]
     },
     "execution_count": 11,
     "metadata": {
      "tags": []
     },
     "output_type": "execute_result"
    }
   ],
   "source": [
    "import pandas as pd\n",
    "\n",
    "result = light_model.fullAnnotate(text)\n",
    "\n",
    "ner_df= pd.DataFrame([(int(x.metadata['sentence']), x.result, x.begin, x.end, y.result) for x,y in zip(result[0][\"token\"], result[0][\"ner\"])], \n",
    "                      columns=['sent_id','token','start','end','ner'])\n",
    "\n",
    "print('Number of Detected NERs in the given Text is :', ner_df.ner[ner_df.ner!='O'].count())\n",
    "\n",
    "\n",
    "ner_df"
   ]
  },
  {
   "cell_type": "code",
   "execution_count": 12,
   "metadata": {
    "colab": {
     "base_uri": "https://localhost:8080/",
     "height": 502
    },
    "id": "6Jzl4qxz_KwR",
    "outputId": "b11cc875-3c55-4b82-e1e5-af16642384d7"
   },
   "outputs": [
    {
     "data": {
      "text/html": [
       "<div>\n",
       "<style scoped>\n",
       "    .dataframe tbody tr th:only-of-type {\n",
       "        vertical-align: middle;\n",
       "    }\n",
       "\n",
       "    .dataframe tbody tr th {\n",
       "        vertical-align: top;\n",
       "    }\n",
       "\n",
       "    .dataframe thead th {\n",
       "        text-align: right;\n",
       "    }\n",
       "</style>\n",
       "<table border=\"1\" class=\"dataframe\">\n",
       "  <thead>\n",
       "    <tr style=\"text-align: right;\">\n",
       "      <th></th>\n",
       "      <th>ner_chunk</th>\n",
       "      <th>entities</th>\n",
       "    </tr>\n",
       "  </thead>\n",
       "  <tbody>\n",
       "    <tr>\n",
       "      <th>17</th>\n",
       "      <td>13</td>\n",
       "      <td>CARDINAL</td>\n",
       "    </tr>\n",
       "    <tr>\n",
       "      <th>15</th>\n",
       "      <td>third</td>\n",
       "      <td>ORDINAL</td>\n",
       "    </tr>\n",
       "    <tr>\n",
       "      <th>16</th>\n",
       "      <td>100,000</td>\n",
       "      <td>MONEY</td>\n",
       "    </tr>\n",
       "    <tr>\n",
       "      <th>18</th>\n",
       "      <td>Borrower</td>\n",
       "      <td>PER</td>\n",
       "    </tr>\n",
       "    <tr>\n",
       "      <th>5</th>\n",
       "      <td>6</td>\n",
       "      <td>CARDINAL</td>\n",
       "    </tr>\n",
       "    <tr>\n",
       "      <th>7</th>\n",
       "      <td>Bank</td>\n",
       "      <td>ORG</td>\n",
       "    </tr>\n",
       "    <tr>\n",
       "      <th>4</th>\n",
       "      <td>6</td>\n",
       "      <td>CARDINAL</td>\n",
       "    </tr>\n",
       "    <tr>\n",
       "      <th>10</th>\n",
       "      <td>Borrower</td>\n",
       "      <td>PER</td>\n",
       "    </tr>\n",
       "    <tr>\n",
       "      <th>9</th>\n",
       "      <td>Bank</td>\n",
       "      <td>ORG</td>\n",
       "    </tr>\n",
       "    <tr>\n",
       "      <th>1</th>\n",
       "      <td>Borrower</td>\n",
       "      <td>PER</td>\n",
       "    </tr>\n",
       "    <tr>\n",
       "      <th>11</th>\n",
       "      <td>Bank of Michigan '</td>\n",
       "      <td>ORG</td>\n",
       "    </tr>\n",
       "    <tr>\n",
       "      <th>8</th>\n",
       "      <td>Borrower</td>\n",
       "      <td>PER</td>\n",
       "    </tr>\n",
       "    <tr>\n",
       "      <th>12</th>\n",
       "      <td>Bank</td>\n",
       "      <td>ORG</td>\n",
       "    </tr>\n",
       "    <tr>\n",
       "      <th>0</th>\n",
       "      <td>6</td>\n",
       "      <td>CARDINAL</td>\n",
       "    </tr>\n",
       "    <tr>\n",
       "      <th>19</th>\n",
       "      <td>Bank</td>\n",
       "      <td>ORG</td>\n",
       "    </tr>\n",
       "  </tbody>\n",
       "</table>\n",
       "</div>"
      ],
      "text/plain": [
       "             ner_chunk  entities\n",
       "17                  13  CARDINAL\n",
       "15               third   ORDINAL\n",
       "16             100,000     MONEY\n",
       "18            Borrower       PER\n",
       "5                    6  CARDINAL\n",
       "7                 Bank       ORG\n",
       "4                    6  CARDINAL\n",
       "10            Borrower       PER\n",
       "9                 Bank       ORG\n",
       "1             Borrower       PER\n",
       "11  Bank of Michigan '       ORG\n",
       "8             Borrower       PER\n",
       "12                Bank       ORG\n",
       "0                    6  CARDINAL\n",
       "19                Bank       ORG"
      ]
     },
     "execution_count": 12,
     "metadata": {
      "tags": []
     },
     "output_type": "execute_result"
    }
   ],
   "source": [
    "chunks = []\n",
    "entities = []\n",
    "\n",
    "for n in result[0]['ner_chunk']:    \n",
    "    chunks.append(n.result)\n",
    "    entities.append(n.metadata['entity']) \n",
    "\n",
    "df = pd.DataFrame({'ner_chunk':chunks, 'entities':entities})\n",
    "\n",
    "df.sample(15)"
   ]
  },
  {
   "cell_type": "markdown",
   "metadata": {
    "id": "QImVcr-mpCz1"
   },
   "source": [
    "## Highlighting NERs in the Text"
   ]
  },
  {
   "cell_type": "code",
   "execution_count": 13,
   "metadata": {
    "colab": {
     "base_uri": "https://localhost:8080/",
     "height": 768
    },
    "id": "9lNFMvfCpVOr",
    "outputId": "de0aed12-850f-40b5-a75c-9643462ce97d"
   },
   "outputs": [
    {
     "data": {
      "text/html": [
       "\n",
       "<style>\n",
       "    @import url('https://fonts.googleapis.com/css2?family=Montserrat:wght@300;400;500;600;700&display=swap');\n",
       "    @import url('https://fonts.googleapis.com/css2?family=Vistol Regular:wght@300;400;500;600;700&display=swap');\n",
       "    \n",
       "    .spark-nlp-display-scroll-entities {\n",
       "        border: 1px solid #E7EDF0;\n",
       "        border-radius: 3px;\n",
       "        text-align: justify;\n",
       "        \n",
       "    }\n",
       "    .spark-nlp-display-scroll-entities span {  \n",
       "        font-size: 14px;\n",
       "        line-height: 24px;\n",
       "        color: #536B76;\n",
       "        font-family: 'Montserrat', sans-serif !important;\n",
       "    }\n",
       "    \n",
       "    .spark-nlp-display-entity-wrapper{\n",
       "    \n",
       "        display: inline-grid;\n",
       "        text-align: center;\n",
       "        border-radius: 4px;\n",
       "        margin: 0 2px 5px 2px;\n",
       "        padding: 1px\n",
       "    }\n",
       "    .spark-nlp-display-entity-name{\n",
       "        font-size: 14px;\n",
       "        line-height: 24px;\n",
       "        font-family: 'Montserrat', sans-serif !important;\n",
       "        \n",
       "        background: #f1f2f3;\n",
       "        border-width: medium;\n",
       "        text-align: center;\n",
       "        \n",
       "        font-weight: 400;\n",
       "        \n",
       "        border-radius: 5px;\n",
       "        padding: 2px 5px;\n",
       "        display: block;\n",
       "        margin: 3px 2px;\n",
       "    \n",
       "    }\n",
       "    .spark-nlp-display-entity-type{\n",
       "        font-size: 14px;\n",
       "        line-height: 24px;\n",
       "        color: #ffffff;\n",
       "        font-family: 'Montserrat', sans-serif !important;\n",
       "        \n",
       "        text-transform: uppercase;\n",
       "        \n",
       "        font-weight: 500;\n",
       "\n",
       "        display: block;\n",
       "        padding: 3px 5px;\n",
       "    }\n",
       "    \n",
       "    .spark-nlp-display-entity-resolution{\n",
       "        font-size: 14px;\n",
       "        line-height: 24px;\n",
       "        color: #ffffff;\n",
       "        font-family: 'Vistol Regular', sans-serif !important;\n",
       "        \n",
       "        text-transform: uppercase;\n",
       "        \n",
       "        font-weight: 500;\n",
       "\n",
       "        display: block;\n",
       "        padding: 3px 5px;\n",
       "    }\n",
       "    \n",
       "    .spark-nlp-display-others{\n",
       "        font-size: 14px;\n",
       "        line-height: 24px;\n",
       "        font-family: 'Montserrat', sans-serif !important;\n",
       "        \n",
       "        font-weight: 400;\n",
       "    }\n",
       "\n",
       "</style>\n",
       " <span class=\"spark-nlp-display-entity-wrapper\" style=\"background-color: #A90752\"><span class=\"spark-nlp-display-entity-name\">6 </span><span class=\"spark-nlp-display-entity-type\">CARDINAL</span></span><span class=\"spark-nlp-display-others\" style=\"background-color: white\"> AFFIRMATIVE COVENANTS                                                                                                                                                                                                                                                                                                                                                                                                                                                                                                                                                                                                                                                                                                                                                                                                                                                                                                                                                                                                                                                                                                                                                                                                                                                                                                                                                                                                                                                                                                                                                                                                                                                                                                                                                                                              |<br></span><span class=\"spark-nlp-display-entity-wrapper\" style=\"background-color: #C89871\"><span class=\"spark-nlp-display-entity-name\">Borrower </span><span class=\"spark-nlp-display-entity-type\">PER</span></span><span class=\"spark-nlp-display-others\" style=\"background-color: white\"> has good title to the Collateral , free from liens  on </span><span class=\"spark-nlp-display-entity-wrapper\" style=\"background-color: #a6b1e1\"><span class=\"spark-nlp-display-entity-name\">29 November 2018 </span><span class=\"spark-nlp-display-entity-type\">DATE</span></span><span class=\"spark-nlp-display-others\" style=\"background-color: white\"> in </span><span class=\"spark-nlp-display-entity-wrapper\" style=\"background-color: #51B5BE\"><span class=\"spark-nlp-display-entity-name\">Michogan </span><span class=\"spark-nlp-display-entity-type\">GPE</span></span><span class=\"spark-nlp-display-others\" style=\"background-color: white\">.                                                                                                                                                                                                                                                                                                                                                                                                                                                                                                                                                                                                                                                                                                                                                                                                                                                                                                                                                                                                                                                                                                                                                                                                                                                                                                                                                                                                                                                                                                                                                                                                                                                                                                                                                        |<br></span><span class=\"spark-nlp-display-entity-wrapper\" style=\"background-color: #A90752\"><span class=\"spark-nlp-display-entity-name\">6 </span><span class=\"spark-nlp-display-entity-type\">CARDINAL</span></span><span class=\"spark-nlp-display-others\" style=\"background-color: white\"> . </span><span class=\"spark-nlp-display-entity-wrapper\" style=\"background-color: #A90752\"><span class=\"spark-nlp-display-entity-name\">6 </span><span class=\"spark-nlp-display-entity-type\">CARDINAL</span></span><span class=\"spark-nlp-display-others\" style=\"background-color: white\"> FURTHER ASSURANCES .                                                                                                                                                                                                                                                                                                                                                                                                                                                                                                                                                                                                                                                                                                                                                                                                                                                                                                                                                                                                                                                                                                                                                                                                                                                                                                                                                                                                                                                                                                                                                                                                                                                                                                                                                                                           |<br>During the additional time , the failure to cure the default is not an Event of Default ( but no Credit Extensions will be made during the cure period );                                                                                                                                                                                                                                                                                                                                                                                                                                                                                                                                                                                                                                                                                                                                                                                                                                                                                                                                                                                                                                                                                                                                                                                                                                                                                                                                                                                                                                                                                                                                                                                                                                                            |<br>( d ) Apply to the Obligations any ( i ) balances and deposits of </span><span class=\"spark-nlp-display-entity-wrapper\" style=\"background-color: #C89871\"><span class=\"spark-nlp-display-entity-name\">Borrower </span><span class=\"spark-nlp-display-entity-type\">PER</span></span><span class=\"spark-nlp-display-others\" style=\"background-color: white\"> it holds , or ( ii ) any amount held by </span><span class=\"spark-nlp-display-entity-wrapper\" style=\"background-color: #294A15\"><span class=\"spark-nlp-display-entity-name\">Bank </span><span class=\"spark-nlp-display-entity-type\">ORG</span></span><span class=\"spark-nlp-display-others\" style=\"background-color: white\"> owing to or for the credit or the account of </span><span class=\"spark-nlp-display-entity-wrapper\" style=\"background-color: #C89871\"><span class=\"spark-nlp-display-entity-name\">Borrower </span><span class=\"spark-nlp-display-entity-type\">PER</span></span><span class=\"spark-nlp-display-others\" style=\"background-color: white\"> ;                                                                                                                                                                                                                                                                                                                                                                                                                                                                                                                                                                                                                                                                                                                                                                                                                                                                                                                                                                                                                                                                                                                                                                                                                                                                                                                                                                                                                                                                                                                                                                                                                                      |<br></span><span class=\"spark-nlp-display-entity-wrapper\" style=\"background-color: #294A15\"><span class=\"spark-nlp-display-entity-name\">Bank </span><span class=\"spark-nlp-display-entity-type\">ORG</span></span><span class=\"spark-nlp-display-others\" style=\"background-color: white\"> ' s appointment as </span><span class=\"spark-nlp-display-entity-wrapper\" style=\"background-color: #C89871\"><span class=\"spark-nlp-display-entity-name\">Borrower </span><span class=\"spark-nlp-display-entity-type\">PER</span></span><span class=\"spark-nlp-display-others\" style=\"background-color: white\"> ' s attorney in fact , and all of </span><span class=\"spark-nlp-display-entity-wrapper\" style=\"background-color: #294A15\"><span class=\"spark-nlp-display-entity-name\">Bank of Michigan ' </span><span class=\"spark-nlp-display-entity-type\">ORG</span></span><span class=\"spark-nlp-display-others\" style=\"background-color: white\"> s rights and powers , coupled                                                                                                                                                                                                                                                                                                                                                                                                                                                                                                                                                                                                                                                                                                                                                                                                                                                                                                                                                                                                                                                                                                                                                                                                                                                                                                                                                                                                                                                                                                                                                                                                                                                                                                              |<br>If </span><span class=\"spark-nlp-display-entity-wrapper\" style=\"background-color: #294A15\"><span class=\"spark-nlp-display-entity-name\">Bank </span><span class=\"spark-nlp-display-entity-type\">ORG</span></span><span class=\"spark-nlp-display-others\" style=\"background-color: white\"> complies with reasonable banking practices it is not liable for ( a ) the safekeeping of the Collateral ; ( b ) any loss or damage to the Collateral ; ( c ) any diminution in the value of the Collateral ; or ( d ) any act or default of any carrier , warehouseman , bailee , or other person .                                                                                                                                                                                                                                                                                                                                                                                                                                                                                                                                                                                                                                                                                                                                                                                                                                                                                                                                                                                                                                                                                                                                                                                                                                                                                                                                                                                                                                                                                                          |<br>If there is a default in any agreement between </span><span class=\"spark-nlp-display-entity-wrapper\" style=\"background-color: #C89871\"><span class=\"spark-nlp-display-entity-name\">Borrower </span><span class=\"spark-nlp-display-entity-type\">PER</span></span><span class=\"spark-nlp-display-others\" style=\"background-color: white\"> and a </span><span class=\"spark-nlp-display-entity-wrapper\" style=\"background-color: #BF79A7\"><span class=\"spark-nlp-display-entity-name\">third </span><span class=\"spark-nlp-display-entity-type\">ORDINAL</span></span><span class=\"spark-nlp-display-others\" style=\"background-color: white\"> party that gives the </span><span class=\"spark-nlp-display-entity-wrapper\" style=\"background-color: #BF79A7\"><span class=\"spark-nlp-display-entity-name\">third </span><span class=\"spark-nlp-display-entity-type\">ORDINAL</span></span><span class=\"spark-nlp-display-others\" style=\"background-color: white\"> party the right to accelerate any Indebtedness exceeding $ </span><span class=\"spark-nlp-display-entity-wrapper\" style=\"background-color: #6EBA46\"><span class=\"spark-nlp-display-entity-name\">100,000 </span><span class=\"spark-nlp-display-entity-type\">MONEY</span></span><span class=\"spark-nlp-display-others\" style=\"background-color: white\"> or that could cause a Material Adverse Change ;                                                                                                                                                                                                                                                                                                                                                                                                                                                                                                                                                                                                                                                                                                                                                                                                                                                                                                                                                                                                                                                                                                                                                                                                                                                                                                                                                                                                                                                                                                                                                                                                  |<br></span><span class=\"spark-nlp-display-entity-wrapper\" style=\"background-color: #A90752\"><span class=\"spark-nlp-display-entity-name\">13 </span><span class=\"spark-nlp-display-entity-type\">CARDINAL</span></span><span class=\"spark-nlp-display-others\" style=\"background-color: white\"> CONTRACT CLAIMS , TORT CLAIMS , BREACH OF DUTY CLAIMS , AND ALL OTHER COMMON LAW OR STATUTORY CLAIMS .                                                                                                                                                                                                                                                                                                                                                                                                                                                                                                                                                                                                                                                                                                                                                                                                                                                                                                                                                                                                                                                                                                                                                                                                                                                                                                                                                                                                                                                                                                                                                                                                                                                                                                |<br></span><span class=\"spark-nlp-display-entity-wrapper\" style=\"background-color: #C89871\"><span class=\"spark-nlp-display-entity-name\">Borrower </span><span class=\"spark-nlp-display-entity-type\">PER</span></span><span class=\"spark-nlp-display-others\" style=\"background-color: white\"> waives demand, notice of default or dishonor, notice of payment and nonpayment, notice of any default, nonpayment at maturity, release, compromise, settlement, extension, or renewal of accounts, documents, instruments, chattel paper, and guarantees held by </span><span class=\"spark-nlp-display-entity-wrapper\" style=\"background-color: #294A15\"><span class=\"spark-nlp-display-entity-name\">Bank </span><span class=\"spark-nlp-display-entity-type\">ORG</span></span><span class=\"spark-nlp-display-others\" style=\"background-color: white\"> on , which </span><span class=\"spark-nlp-display-entity-wrapper\" style=\"background-color: #C89871\"><span class=\"spark-nlp-display-entity-name\">Borrower </span><span class=\"spark-nlp-display-entity-type\">PER</span></span><span class=\"spark-nlp-display-others\" style=\"background-color: white\"> is liable .</span></div>"
      ],
      "text/plain": [
       "<IPython.core.display.HTML object>"
      ]
     },
     "metadata": {
      "tags": []
     },
     "output_type": "display_data"
    }
   ],
   "source": [
    "from sparknlp_display import NerVisualizer\n",
    "\n",
    "visualiser = NerVisualizer()\n",
    "\n",
    "visualiser.display(result[0], label_col='ner_chunk', document_col='document')"
   ]
  }
 ],
 "metadata": {
  "colab": {
   "collapsed_sections": [],
   "name": "19.Financial_Contract_NER.ipynb",
   "provenance": []
  },
  "kernelspec": {
   "display_name": "Python 3 (ipykernel)",
   "language": "python",
   "name": "python3"
  },
  "language_info": {
   "codemirror_mode": {
    "name": "ipython",
    "version": 3
   },
   "file_extension": ".py",
   "mimetype": "text/x-python",
   "name": "python",
   "nbconvert_exporter": "python",
   "pygments_lexer": "ipython3",
   "version": "3.7.6"
  }
 },
 "nbformat": 4,
 "nbformat_minor": 1
}

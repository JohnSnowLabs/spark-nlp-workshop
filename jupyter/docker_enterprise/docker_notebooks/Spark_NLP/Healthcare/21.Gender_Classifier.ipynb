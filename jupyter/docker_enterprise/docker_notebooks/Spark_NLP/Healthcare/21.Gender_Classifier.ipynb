{
 "cells": [
  {
   "cell_type": "markdown",
   "metadata": {
    "id": "I08sFJYCxR0Z"
   },
   "source": [
    "![JohnSnowLabs](https://nlp.johnsnowlabs.com/assets/images/logo.png)"
   ]
  },
  {
   "cell_type": "markdown",
   "metadata": {
    "id": "FwJ-P56kq6FU"
   },
   "source": [
    "[![Open In Colab](https://colab.research.google.com/assets/colab-badge.svg)](https://colab.research.google.com/github/JohnSnowLabs/spark-nlp-workshop/blob/master/tutorials/Certification_Trainings/Healthcare/21.Gender_Classifier.ipynb)"
   ]
  },
  {
   "cell_type": "markdown",
   "metadata": {
    "id": "Niy3mZAjoayg"
   },
   "source": [
    "# 21. Gender Classifier "
   ]
  },
  {
   "cell_type": "markdown",
   "metadata": {
    "id": "rTVcwSuUjnrP"
   },
   "source": [
    "**Gender Classifier** detects the gender of the patient in the clinical document. \n",
    "It can  classify the documents into `Female`, `Male` and `Unknown`.\n",
    "\n",
    "\n",
    "-'**Classifierdl_gender_sbert**' (works with licensed `sbiobert_base_cased_mli`)\n",
    "\n",
    "It has been trained on more than four thousands clinical documents (radiology reports, pathology reports, clinical visits etc.) which were annotated internally."
   ]
  },
  {
   "cell_type": "code",
   "execution_count": 2,
   "metadata": {
    "id": "hIn5f_zDVS6g"
   },
   "outputs": [],
   "source": [
    "import os\n",
    "\n",
    "jsl_secret = os.getenv('SECRET')\n",
    "\n",
    "import sparknlp\n",
    "sparknlp_version = sparknlp.version()\n",
    "import sparknlp_jsl\n",
    "jsl_version = sparknlp_jsl.version()\n",
    "\n",
    "print (jsl_secret)"
   ]
  },
  {
   "cell_type": "code",
   "execution_count": 3,
   "metadata": {
    "colab": {
     "base_uri": "https://localhost:8080/"
    },
    "id": "XB09n5ncsDAk",
    "outputId": "53be198d-7698-4819-924e-9c02ac850682"
   },
   "outputs": [
    {
     "name": "stdout",
     "output_type": "stream",
     "text": [
      "3.1.2\n",
      "3.1.2\n"
     ]
    }
   ],
   "source": [
    "import json\n",
    "import os\n",
    "from pyspark.ml import Pipeline,PipelineModel\n",
    "from pyspark.sql import SparkSession\n",
    "\n",
    "from sparknlp.annotator import *\n",
    "from sparknlp_jsl.annotator import *\n",
    "from sparknlp.base import *\n",
    "import sparknlp_jsl\n",
    "import sparknlp\n",
    "\n",
    "params = {\"spark.driver.memory\":\"16G\",\n",
    "\"spark.kryoserializer.buffer.max\":\"2000M\",\n",
    "\"spark.driver.maxResultSize\":\"2000M\"}\n",
    "\n",
    "spark = sparknlp_jsl.start(jsl_secret,params=params)\n",
    "\n",
    "print (sparknlp.version())\n",
    "print (sparknlp_jsl.version())"
   ]
  },
  {
   "cell_type": "code",
   "execution_count": 4,
   "metadata": {
    "colab": {
     "base_uri": "https://localhost:8080/",
     "height": 208
    },
    "id": "mzV1fdf-Vs1f",
    "outputId": "090422eb-6dbe-4713-d20e-272a002a1013"
   },
   "outputs": [
    {
     "data": {
      "text/html": [
       "\n",
       "            <div>\n",
       "                <p><b>SparkSession - in-memory</b></p>\n",
       "                \n",
       "        <div>\n",
       "            <p><b>SparkContext</b></p>\n",
       "\n",
       "            <p><a href=\"http://3e198e39e1b7:4040\">Spark UI</a></p>\n",
       "\n",
       "            <dl>\n",
       "              <dt>Version</dt>\n",
       "                <dd><code>v3.1.1</code></dd>\n",
       "              <dt>Master</dt>\n",
       "                <dd><code>local[*]</code></dd>\n",
       "              <dt>AppName</dt>\n",
       "                <dd><code>Spark NLP Licensed</code></dd>\n",
       "            </dl>\n",
       "        </div>\n",
       "        \n",
       "            </div>\n",
       "        "
      ],
      "text/plain": [
       "<pyspark.sql.session.SparkSession at 0x7f7dc0ab3490>"
      ]
     },
     "execution_count": 4,
     "metadata": {
      "tags": []
     },
     "output_type": "execute_result"
    }
   ],
   "source": [
    "spark"
   ]
  },
  {
   "cell_type": "code",
   "execution_count": 5,
   "metadata": {
    "id": "sNs3kOKMVK2Z"
   },
   "outputs": [],
   "source": [
    "# if you want to start the session with custom params as in start function above\n",
    "def start(secret):\n",
    "    builder = SparkSession.builder \\\n",
    "        .appName(\"Spark NLP Licensed\") \\\n",
    "        .master(\"local[*]\") \\\n",
    "        .config(\"spark.driver.memory\", \"16G\") \\\n",
    "        .config(\"spark.serializer\", \"org.apache.spark.serializer.KryoSerializer\") \\\n",
    "        .config(\"spark.kryoserializer.buffer.max\", \"2000M\") \\\n",
    "        .config(\"spark.jars.packages\", \"com.johnsnowlabs.nlp:spark-nlp_2.11:\"+version) \\\n",
    "        .config(\"spark.jars\", \"https://pypi.johnsnowlabs.com/\"+secret+\"/spark-nlp-jsl-\"+jsl_version+\".jar\")\n",
    "      \n",
    "    return builder.getOrCreate()\n",
    "\n",
    "#spark = start(secret)"
   ]
  },
  {
   "cell_type": "markdown",
   "metadata": {
    "id": "AMU4sAJQ0Rhs"
   },
   "source": [
    "\n",
    "\n",
    "# Gender Classifier Pipeline with **sbert**"
   ]
  },
  {
   "cell_type": "code",
   "execution_count": 6,
   "metadata": {
    "colab": {
     "base_uri": "https://localhost:8080/"
    },
    "id": "DEa5SITBxmY0",
    "outputId": "884525d0-21b9-4972-f7e5-fa1aeb7b8c39"
   },
   "outputs": [
    {
     "name": "stdout",
     "output_type": "stream",
     "text": [
      "sbiobert_base_cased_mli download started this may take some time.\n",
      "Approximate size to download 384.3 MB\n",
      "[OK!]\n",
      "classifierdl_gender_sbert download started this may take some time.\n",
      "Approximate size to download 22.2 MB\n",
      "[OK!]\n"
     ]
    }
   ],
   "source": [
    "document = DocumentAssembler()\\\n",
    "      .setInputCol(\"text\")\\\n",
    "      .setOutputCol(\"document\")\n",
    "\n",
    "sbert_embedder = BertSentenceEmbeddings().pretrained(\"sbiobert_base_cased_mli\", 'en', 'clinical/models')\\\n",
    "      .setInputCols([\"document\"])\\\n",
    "      .setOutputCol(\"sentence_embeddings\")\\\n",
    "      .setMaxSentenceLength(512)\n",
    "\n",
    "gender_classifier = ClassifierDLModel.pretrained( 'classifierdl_gender_sbert', 'en', 'clinical/models') \\\n",
    "      .setInputCols([\"document\", \"sentence_embeddings\"]) \\\n",
    "      .setOutputCol(\"class\")    \n",
    "\n",
    "gender_pred_pipeline_sbert = Pipeline(stages = [ \n",
    "      document, \n",
    "      sbert_embedder, \n",
    "      gender_classifier   \n",
    "      ])\n",
    "\n",
    "empty_data = spark.createDataFrame([[\"\"]]).toDF(\"text\")\n",
    "\n",
    "model_sbert = gender_pred_pipeline_sbert.fit(empty_data)\n"
   ]
  },
  {
   "cell_type": "code",
   "execution_count": 7,
   "metadata": {
    "colab": {
     "base_uri": "https://localhost:8080/",
     "height": 35
    },
    "id": "XgxuAU8ZsXVJ",
    "outputId": "f4d39438-bcbc-423b-d1e0-4c4a1632a8de"
   },
   "outputs": [
    {
     "data": {
      "application/vnd.google.colaboratory.intrinsic+json": {
       "type": "string"
      },
      "text/plain": [
       "'Female'"
      ]
     },
     "execution_count": 7,
     "metadata": {
      "tags": []
     },
     "output_type": "execute_result"
    }
   ],
   "source": [
    "text =\"\"\"social history: shows that  does not smoke cigarettes or drink alcohol,lives in a nursing home.family history: shows a family history of breast cancer.\"\"\"\n",
    "\n",
    "gender_pipeline_sbert = LightPipeline(model_sbert)\n",
    "\n",
    "result = gender_pipeline_sbert.annotate(text)\n",
    "\n",
    "result['class'][0]\n"
   ]
  },
  {
   "cell_type": "markdown",
   "metadata": {
    "id": "IUThl3_J9dqn"
   },
   "source": [
    "### Sample Clinical Notes"
   ]
  },
  {
   "cell_type": "code",
   "execution_count": 8,
   "metadata": {
    "colab": {
     "base_uri": "https://localhost:8080/",
     "height": 35
    },
    "id": "vJCI7fZf9-2g",
    "outputId": "939afe57-46ec-4d51-8641-8a2ac3ac3bdb"
   },
   "outputs": [
    {
     "data": {
      "application/vnd.google.colaboratory.intrinsic+json": {
       "type": "string"
      },
      "text/plain": [
       "'Female'"
      ]
     },
     "execution_count": 8,
     "metadata": {
      "tags": []
     },
     "output_type": "execute_result"
    }
   ],
   "source": [
    "text1 = '''social history: shows that  does not smoke cigarettes or drink alcohol,lives in a nursing home.\n",
    "family history: shows a family history of breast cancer.'''\n",
    "\n",
    "result = gender_pipeline_sbert.annotate(text1)\n",
    "\n",
    "result['class'][0]"
   ]
  },
  {
   "cell_type": "code",
   "execution_count": 9,
   "metadata": {
    "colab": {
     "base_uri": "https://localhost:8080/",
     "height": 35
    },
    "id": "hNbN8ZfPDwbm",
    "outputId": "0aa03910-a69b-4c6c-ab15-6334f460cec1"
   },
   "outputs": [
    {
     "data": {
      "application/vnd.google.colaboratory.intrinsic+json": {
       "type": "string"
      },
      "text/plain": [
       "'Unknown'"
      ]
     },
     "execution_count": 9,
     "metadata": {
      "tags": []
     },
     "output_type": "execute_result"
    }
   ],
   "source": [
    "text2 = '''The patient is a 48- year-old, with severe mitral stenosis diagnosed by echocardiography, moderate\n",
    " aortic insufficiency and moderate to severe pulmonary hypertension who is being evaluated as a part of a preoperative \n",
    " workup for mitral and possible aortic valve repair or replacement.'''\n",
    "\n",
    "result = gender_pipeline_sbert.annotate(text2)\n",
    "\n",
    "result['class'][0]"
   ]
  },
  {
   "cell_type": "code",
   "execution_count": 10,
   "metadata": {
    "colab": {
     "base_uri": "https://localhost:8080/",
     "height": 35
    },
    "id": "Y7AOPrQHDy6D",
    "outputId": "8055682c-a524-44d6-83a5-12f537a1eefc"
   },
   "outputs": [
    {
     "data": {
      "application/vnd.google.colaboratory.intrinsic+json": {
       "type": "string"
      },
      "text/plain": [
       "'Female'"
      ]
     },
     "execution_count": 10,
     "metadata": {
      "tags": []
     },
     "output_type": "execute_result"
    }
   ],
   "source": [
    "text3 = '''HISTORY: The patient is a 57-year-old XX, who I initially saw in the office on 12/27/07, as a referral from the Tomball Breast Center.\n",
    "On 12/21/07, the patient underwent image-guided needle core biopsy of a 1.5 cm lesion at the 7 o'clock position of the left breast (inferomedial). \n",
    "The biopsy returned showing infiltrating ductal carcinoma high histologic grade.\n",
    "The patient stated that xx had recently felt and her physician had felt a palpable mass in that area prior to her breast imaging.'''\n",
    "\n",
    "result = gender_pipeline_sbert.annotate(text3)\n",
    "\n",
    "result['class'][0]"
   ]
  },
  {
   "cell_type": "code",
   "execution_count": 11,
   "metadata": {
    "colab": {
     "base_uri": "https://localhost:8080/",
     "height": 35
    },
    "id": "woMCJpo2Dywt",
    "outputId": "aa12343b-75c7-4783-8677-62ed65ef8416"
   },
   "outputs": [
    {
     "data": {
      "application/vnd.google.colaboratory.intrinsic+json": {
       "type": "string"
      },
      "text/plain": [
       "'Unknown'"
      ]
     },
     "execution_count": 11,
     "metadata": {
      "tags": []
     },
     "output_type": "execute_result"
    }
   ],
   "source": [
    "text4 = '''The patient states that xx has been overweight for approximately 35 years and has tried multiple weight loss modalities in \n",
    "the past including Weight Watchers, NutriSystem, Jenny Craig, TOPS, cabbage diet, grape fruit diet, Slim-Fast, Richard Simmons,\n",
    "as well as over-the-counter  measures without any long-term sustainable weight loss.\n",
    "At the time of presentation to the practice, xx is 5 feet 6 inches tall with a weight of 285.4 pounds and a body mass index of 46.\n",
    "xx has obesity-related comorbidities, which includes hypertension and hypercholesterolemia.'''\n",
    "\n",
    "result = gender_pipeline_sbert.annotate(text4)\n",
    "\n",
    "result['class'][0]"
   ]
  },
  {
   "cell_type": "code",
   "execution_count": 12,
   "metadata": {
    "colab": {
     "base_uri": "https://localhost:8080/",
     "height": 35
    },
    "id": "lPVx1V9gsW72",
    "outputId": "ac84d798-2d77-4391-c449-28baeb13aa65"
   },
   "outputs": [
    {
     "data": {
      "application/vnd.google.colaboratory.intrinsic+json": {
       "type": "string"
      },
      "text/plain": [
       "'Male'"
      ]
     },
     "execution_count": 12,
     "metadata": {
      "tags": []
     },
     "output_type": "execute_result"
    }
   ],
   "source": [
    "text5 = '''Prostate gland showing moderately differentiated infiltrating adenocarcinoma, \n",
    "Gleason 3 + 2 extending to the apex involving both lobes of the prostate, mainly right.'''\n",
    "\n",
    "result = gender_pipeline_sbert.annotate(text5)\n",
    "\n",
    "result['class'][0]"
   ]
  },
  {
   "cell_type": "code",
   "execution_count": 13,
   "metadata": {
    "colab": {
     "base_uri": "https://localhost:8080/",
     "height": 35
    },
    "id": "llLVssxnEpmI",
    "outputId": "39db7519-3cf5-4d8d-b52c-5fa367600eba"
   },
   "outputs": [
    {
     "data": {
      "application/vnd.google.colaboratory.intrinsic+json": {
       "type": "string"
      },
      "text/plain": [
       "'Male'"
      ]
     },
     "execution_count": 13,
     "metadata": {
      "tags": []
     },
     "output_type": "execute_result"
    }
   ],
   "source": [
    "text6 = '''SKIN: The patient has significant subcutaneous emphysema of the upper chest and \n",
    "anterior neck area although he states that the subcutaneous emphysema has improved significantly since yesterday.'''\n",
    "\n",
    "result = gender_pipeline_sbert.annotate(text6)\n",
    "\n",
    "result['class'][0]"
   ]
  },
  {
   "cell_type": "code",
   "execution_count": 14,
   "metadata": {
    "colab": {
     "base_uri": "https://localhost:8080/",
     "height": 35
    },
    "id": "6yjmisN2Er-H",
    "outputId": "cf516e56-59a3-49ff-b36a-880e7e7f34b5"
   },
   "outputs": [
    {
     "data": {
      "application/vnd.google.colaboratory.intrinsic+json": {
       "type": "string"
      },
      "text/plain": [
       "'Male'"
      ]
     },
     "execution_count": 14,
     "metadata": {
      "tags": []
     },
     "output_type": "execute_result"
    }
   ],
   "source": [
    "text7 = '''INDICATION: The patient is a 42-year-old XX who is five days out from transanal excision of a benign anterior base lesion.\n",
    "xx presents today with diarrhea and bleeding. Digital exam reveals bright red blood on the finger.\n",
    "xx is for exam under anesthesia and control of hemorrhage at this time.\n",
    "'''\n",
    "result = gender_pipeline_sbert.annotate(text7)\n",
    "\n",
    "result['class'][0]"
   ]
  },
  {
   "cell_type": "code",
   "execution_count": 15,
   "metadata": {
    "colab": {
     "base_uri": "https://localhost:8080/",
     "height": 35
    },
    "id": "YkCM22qgEr1n",
    "outputId": "5c9e304a-e162-4798-e043-e4e4f4601fbf"
   },
   "outputs": [
    {
     "data": {
      "application/vnd.google.colaboratory.intrinsic+json": {
       "type": "string"
      },
      "text/plain": [
       "'Male'"
      ]
     },
     "execution_count": 15,
     "metadata": {
      "tags": []
     },
     "output_type": "execute_result"
    }
   ],
   "source": [
    "text8 = '''INDICATION: ___ year old patient with complicated medical history of paraplegia\n",
    "and chronic indwelling foley, recurrent MDR UTIs, hx Gallbladder fossa\n",
    "abscess,type 2 DM, HTN, CAD, DVT s/p left AKA complicated complicated by\n",
    "respiratory failure requiring tracheostomy and PEG placement, right ischium\n",
    "osteomyelitis due to chronic pressure ulcers with acute shortness of breath...'''\n",
    "\n",
    "result = gender_pipeline_sbert.annotate(text8)\n",
    "\n",
    "result['class'][0]\n"
   ]
  }
 ],
 "metadata": {
  "colab": {
   "collapsed_sections": [],
   "name": "21.Gender_Classifier.ipynb",
   "provenance": []
  },
  "kernelspec": {
   "display_name": "Python 3 (ipykernel)",
   "language": "python",
   "name": "python3"
  },
  "language_info": {
   "codemirror_mode": {
    "name": "ipython",
    "version": 3
   },
   "file_extension": ".py",
   "mimetype": "text/x-python",
   "name": "python",
   "nbconvert_exporter": "python",
   "pygments_lexer": "ipython3",
   "version": "3.7.6"
  }
 },
 "nbformat": 4,
 "nbformat_minor": 1
}

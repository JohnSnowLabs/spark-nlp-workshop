{
 "cells": [
  {
   "cell_type": "markdown",
   "metadata": {
    "id": "Hwsv9vDmvbr1"
   },
   "source": [
    "![JohnSnowLabs](https://nlp.johnsnowlabs.com/assets/images/logo.png)"
   ]
  },
  {
   "cell_type": "markdown",
   "metadata": {
    "id": "jIs4dsyfvhEi"
   },
   "source": [
    " [![Open In Colab](https://colab.research.google.com/assets/colab-badge.svg)](https://colab.research.google.com/github/JohnSnowLabs/spark-nlp-workshop/blob/master/tutorials/Certification_Trainings/Healthcare/13.1.Finetuning_Sentence_Entity_Resolver_Model.ipynb)"
   ]
  },
  {
   "cell_type": "markdown",
   "metadata": {
    "id": "N6w49Yx5Bjw5"
   },
   "source": [
    "# 13. Finetuning Sentence Entity Resolver Model"
   ]
  },
  {
   "cell_type": "code",
   "execution_count": 2,
   "metadata": {
    "id": "gJzmNJjph6wo"
   },
   "outputs": [],
   "source": [
    "import os\n",
    "\n",
    "jsl_secret = os.getenv('SECRET')\n",
    "\n",
    "import sparknlp\n",
    "sparknlp_version = sparknlp.version()\n",
    "import sparknlp_jsl\n",
    "jsl_version = sparknlp_jsl.version()\n",
    "\n",
    "print (jsl_secret)"
   ]
  },
  {
   "cell_type": "code",
   "execution_count": null,
   "metadata": {
    "id": "QzezXHbGhx6r"
   },
   "outputs": [],
   "source": [
    "import json\n",
    "import os\n",
    "import sparknlp_jsl\n",
    "import sparknlp\n",
    "from pyspark.ml import Pipeline, PipelineModel\n",
    "from pyspark.sql import SparkSession\n",
    "import sys, time\n",
    "from sparknlp.base import *\n",
    "from sparknlp.annotator import *\n",
    "from sparknlp.util import *\n",
    "from sparknlp_jsl.annotator import *\n",
    "\n",
    "from sparknlp.pretrained import ResourceDownloader\n",
    "from pyspark.sql import functions as F\n",
    "from pyspark.sql.types import StructType, StructField, StringType\n",
    "\n",
    "params = {\"spark.driver.memory\":\"16G\",\n",
    "\"spark.kryoserializer.buffer.max\":\"2000M\",\n",
    "\"spark.driver.maxResultSize\":\"2000M\"}\n",
    "\n",
    "spark = sparknlp_jsl.start(jsl_secret,params=params)\n",
    "\n",
    "print (sparknlp.version())\n",
    "print (sparknlp_jsl.version())"
   ]
  },
  {
   "cell_type": "markdown",
   "metadata": {
    "id": "zRigNZ3XBrMV"
   },
   "source": [
    "## Load Dataset"
   ]
  },
  {
   "cell_type": "code",
   "execution_count": 4,
   "metadata": {
    "id": "neOur2ZHxm2w"
   },
   "outputs": [],
   "source": [
    "!wget -q https://raw.githubusercontent.com/JohnSnowLabs/spark-nlp-workshop/master/tutorials/Certification_Trainings/Healthcare/data/AskAPatient.fold-0.train.txt"
   ]
  },
  {
   "cell_type": "markdown",
   "metadata": {
    "id": "LglXkThG-mXi"
   },
   "source": [
    "Now we will create a pandas dataframe using downloaded dataset, and then convert it to a spark dataframe.\n",
    "\n"
   ]
  },
  {
   "cell_type": "code",
   "execution_count": 5,
   "metadata": {
    "id": "QK1EGRYPwHX1"
   },
   "outputs": [],
   "source": [
    "import pandas as pd\n",
    "\n",
    "cols = [\"conceptId\",\"_term\",\"term\"]\n",
    "\n",
    "aap_tr = pd.read_csv(\"AskAPatient.fold-0.train.txt\",sep=\"\\t\", encoding=\"ISO-8859-1\",header=None)\n",
    "aap_tr.columns = cols\n",
    "aap_tr[\"conceptId\"] = aap_tr.conceptId.apply(str)"
   ]
  },
  {
   "cell_type": "code",
   "execution_count": 7,
   "metadata": {
    "colab": {
     "base_uri": "https://localhost:8080/",
     "height": 205
    },
    "id": "iB_Q2LFkyO1p",
    "outputId": "db347760-ab7f-4b85-fb6a-d7fa71c251e8"
   },
   "outputs": [
    {
     "data": {
      "text/html": [
       "<div>\n",
       "<style scoped>\n",
       "    .dataframe tbody tr th:only-of-type {\n",
       "        vertical-align: middle;\n",
       "    }\n",
       "\n",
       "    .dataframe tbody tr th {\n",
       "        vertical-align: top;\n",
       "    }\n",
       "\n",
       "    .dataframe thead th {\n",
       "        text-align: right;\n",
       "    }\n",
       "</style>\n",
       "<table border=\"1\" class=\"dataframe\">\n",
       "  <thead>\n",
       "    <tr style=\"text-align: right;\">\n",
       "      <th></th>\n",
       "      <th>conceptId</th>\n",
       "      <th>_term</th>\n",
       "      <th>term</th>\n",
       "    </tr>\n",
       "  </thead>\n",
       "  <tbody>\n",
       "    <tr>\n",
       "      <th>0</th>\n",
       "      <td>108367008</td>\n",
       "      <td>Dislocation of joint</td>\n",
       "      <td>Dislocation of joint</td>\n",
       "    </tr>\n",
       "    <tr>\n",
       "      <th>1</th>\n",
       "      <td>3384011000036100</td>\n",
       "      <td>Arthrotec</td>\n",
       "      <td>Arthrotec</td>\n",
       "    </tr>\n",
       "    <tr>\n",
       "      <th>2</th>\n",
       "      <td>166717003</td>\n",
       "      <td>Serum creatinine raised</td>\n",
       "      <td>Serum creatinine raised</td>\n",
       "    </tr>\n",
       "    <tr>\n",
       "      <th>3</th>\n",
       "      <td>3877011000036101</td>\n",
       "      <td>Lipitor</td>\n",
       "      <td>Lipitor</td>\n",
       "    </tr>\n",
       "    <tr>\n",
       "      <th>4</th>\n",
       "      <td>402234004</td>\n",
       "      <td>Foot eczema</td>\n",
       "      <td>Foot eczema</td>\n",
       "    </tr>\n",
       "  </tbody>\n",
       "</table>\n",
       "</div>"
      ],
      "text/plain": [
       "          conceptId                    _term                     term\n",
       "0         108367008     Dislocation of joint     Dislocation of joint\n",
       "1  3384011000036100                Arthrotec                Arthrotec\n",
       "2         166717003  Serum creatinine raised  Serum creatinine raised\n",
       "3  3877011000036101                  Lipitor                  Lipitor\n",
       "4         402234004              Foot eczema              Foot eczema"
      ]
     },
     "execution_count": 7,
     "metadata": {
      "tags": []
     },
     "output_type": "execute_result"
    }
   ],
   "source": [
    "aap_tr.head()"
   ]
  },
  {
   "cell_type": "code",
   "execution_count": 66,
   "metadata": {
    "colab": {
     "base_uri": "https://localhost:8080/"
    },
    "id": "DjwivJ1Tv31e",
    "outputId": "bdbf8acc-ebd6-4584-d7be-1819895450ae"
   },
   "outputs": [
    {
     "name": "stdout",
     "output_type": "stream",
     "text": [
      "+----------------+--------------------+--------------------+\n",
      "|       conceptId|               _term|                term|\n",
      "+----------------+--------------------+--------------------+\n",
      "|       XXXX67008|Dislocation New Term|Dislocation New Term|\n",
      "|XXXXXXXX00036100|           Arthrotec|           Arthrotec|\n",
      "|       XXXXX7003|Raised serum crea...|Raised serum crea...|\n",
      "|XXXXXXXX00036101|            New Drug|            New Drug|\n",
      "|       XXXXX4004|      athlete's foot|      athlete's foot|\n",
      "|       404640003|           Dizziness|           Dizziness|\n",
      "|       271681002|        Stomach ache|        Stomach ache|\n",
      "|        76948002|         Severe pain|         Severe pain|\n",
      "|        36031001|        Burning feet|        Burning feet|\n",
      "|        76948002|         Severe pain|         Severe pain|\n",
      "|        42399005|       Renal failure|       Renal failure|\n",
      "|       288227007|Myalgia/myositis ...|Myalgia/myositis ...|\n",
      "|       419723007|       Mentally dull|       Mentally dull|\n",
      "|       248490000|    Bloating symptom|    Bloating symptom|\n",
      "|        22253000|                Pain|                Pain|\n",
      "|       162076009|Excessive upper g...|Excessive upper g...|\n",
      "|       247592009|Poor short-term m...|Poor short-term m...|\n",
      "|        62507009|    Pins and needles|    Pins and needles|\n",
      "|3877011000036101|             Lipitor|             Lipitor|\n",
      "|        62507009|    Pins and needles|    Pins and needles|\n",
      "+----------------+--------------------+--------------------+\n",
      "only showing top 20 rows\n",
      "\n"
     ]
    }
   ],
   "source": [
    "aap_train_sdf = spark.createDataFrame(aap_tr)\n",
    "aap_train_sdf.show()"
   ]
  },
  {
   "cell_type": "code",
   "execution_count": 10,
   "metadata": {
    "colab": {
     "base_uri": "https://localhost:8080/"
    },
    "id": "BywAIMq2ZjmJ",
    "outputId": "6ff134d8-0005-4a23-aa47-7a86380c029c"
   },
   "outputs": [
    {
     "name": "stdout",
     "output_type": "stream",
     "text": [
      "root\n",
      " |-- conceptId: string (nullable = true)\n",
      " |-- _term: string (nullable = true)\n",
      " |-- term: string (nullable = true)\n",
      "\n"
     ]
    }
   ],
   "source": [
    "aap_train_sdf.printSchema()"
   ]
  },
  {
   "cell_type": "code",
   "execution_count": 67,
   "metadata": {
    "colab": {
     "base_uri": "https://localhost:8080/"
    },
    "id": "foNXBB6v_OD3",
    "outputId": "567bb4f6-e298-4305-8226-cff20d7bbb1a"
   },
   "outputs": [
    {
     "data": {
      "text/plain": [
       "15612"
      ]
     },
     "execution_count": 67,
     "metadata": {
      "tags": []
     },
     "output_type": "execute_result"
    }
   ],
   "source": [
    "aap_train_sdf.count()"
   ]
  },
  {
   "cell_type": "markdown",
   "metadata": {
    "id": "i_5rBg-r_KnK"
   },
   "source": [
    "We will limit our dataframe for a faster training."
   ]
  },
  {
   "cell_type": "code",
   "execution_count": 16,
   "metadata": {
    "id": "r6mQmjKWwSzR"
   },
   "outputs": [],
   "source": [
    "aap_train_sdf = aap_train_sdf.limit(1000)"
   ]
  },
  {
   "cell_type": "markdown",
   "metadata": {
    "id": "Vfk4gzCs_fAq"
   },
   "source": [
    "Here, we will create a pipeline for adding an embeddings column to our spark dataframe."
   ]
  },
  {
   "cell_type": "code",
   "execution_count": 17,
   "metadata": {
    "colab": {
     "base_uri": "https://localhost:8080/"
    },
    "id": "77HxAFzLX4zm",
    "outputId": "0fa712a8-5355-47ae-cb60-4157ce277ce5"
   },
   "outputs": [
    {
     "name": "stdout",
     "output_type": "stream",
     "text": [
      "sbiobert_base_cased_mli download started this may take some time.\n",
      "Approximate size to download 384.3 MB\n",
      "[OK!]\n"
     ]
    }
   ],
   "source": [
    "documentAssembler = DocumentAssembler()\\\n",
    "    .setInputCol(\"_term\")\\\n",
    "    .setOutputCol(\"sentence\")\n",
    "\n",
    "bert_embeddings = BertSentenceEmbeddings.pretrained(\"sbiobert_base_cased_mli\", \"en\", \"clinical/models\")\\\n",
    "    .setInputCols([\"sentence\"])\\\n",
    "    .setOutputCol(\"bert_embeddings\")\n",
    "\n",
    "snomed_emb_pipeline = Pipeline(stages = [\n",
    "    documentAssembler,\n",
    "    bert_embeddings])\n",
    "\n",
    "\n",
    "snomed_emb_model = snomed_emb_pipeline.fit(aap_train_sdf)\n",
    "\n",
    "snomed_data = snomed_emb_model.transform(aap_train_sdf)"
   ]
  },
  {
   "cell_type": "markdown",
   "metadata": {
    "id": "JZpJKOi6ADmV"
   },
   "source": [
    "Here is the new training dataframe."
   ]
  },
  {
   "cell_type": "code",
   "execution_count": 19,
   "metadata": {
    "colab": {
     "base_uri": "https://localhost:8080/"
    },
    "id": "l0AbU5muw0Sz",
    "outputId": "5b4dad72-91a9-497f-b8c8-8f1e778314f2"
   },
   "outputs": [
    {
     "name": "stdout",
     "output_type": "stream",
     "text": [
      "+----------------+--------------------+--------------------+--------------------+--------------------+\n",
      "|       conceptId|               _term|                term|            sentence|     bert_embeddings|\n",
      "+----------------+--------------------+--------------------+--------------------+--------------------+\n",
      "|       108367008|Dislocation of joint|Dislocation of joint|[{document, 0, 19...|[{sentence_embedd...|\n",
      "|3384011000036100|           Arthrotec|           Arthrotec|[{document, 0, 8,...|[{sentence_embedd...|\n",
      "|       166717003|Serum creatinine ...|Serum creatinine ...|[{document, 0, 22...|[{sentence_embedd...|\n",
      "|3877011000036101|             Lipitor|             Lipitor|[{document, 0, 6,...|[{sentence_embedd...|\n",
      "|       402234004|         Foot eczema|         Foot eczema|[{document, 0, 10...|[{sentence_embedd...|\n",
      "|       404640003|           Dizziness|           Dizziness|[{document, 0, 8,...|[{sentence_embedd...|\n",
      "|       271681002|        Stomach ache|        Stomach ache|[{document, 0, 11...|[{sentence_embedd...|\n",
      "|        76948002|         Severe pain|         Severe pain|[{document, 0, 10...|[{sentence_embedd...|\n",
      "|        36031001|        Burning feet|        Burning feet|[{document, 0, 11...|[{sentence_embedd...|\n",
      "|        76948002|         Severe pain|         Severe pain|[{document, 0, 10...|[{sentence_embedd...|\n",
      "|        42399005|       Renal failure|       Renal failure|[{document, 0, 12...|[{sentence_embedd...|\n",
      "|       288227007|Myalgia/myositis ...|Myalgia/myositis ...|[{document, 0, 27...|[{sentence_embedd...|\n",
      "|       419723007|       Mentally dull|       Mentally dull|[{document, 0, 12...|[{sentence_embedd...|\n",
      "|       248490000|    Bloating symptom|    Bloating symptom|[{document, 0, 15...|[{sentence_embedd...|\n",
      "|        22253000|                Pain|                Pain|[{document, 0, 3,...|[{sentence_embedd...|\n",
      "|       162076009|Excessive upper g...|Excessive upper g...|[{document, 0, 35...|[{sentence_embedd...|\n",
      "|       247592009|Poor short-term m...|Poor short-term m...|[{document, 0, 21...|[{sentence_embedd...|\n",
      "|        62507009|    Pins and needles|    Pins and needles|[{document, 0, 15...|[{sentence_embedd...|\n",
      "|3877011000036101|             Lipitor|             Lipitor|[{document, 0, 6,...|[{sentence_embedd...|\n",
      "|        62507009|    Pins and needles|    Pins and needles|[{document, 0, 15...|[{sentence_embedd...|\n",
      "+----------------+--------------------+--------------------+--------------------+--------------------+\n",
      "only showing top 20 rows\n",
      "\n"
     ]
    }
   ],
   "source": [
    "snomed_data.show()"
   ]
  },
  {
   "cell_type": "markdown",
   "metadata": {
    "id": "ZbcnPuoGAKtD"
   },
   "source": [
    "Now we can train our SNOMED Sentence Entity Resolver Model by using `SentenceEntityResolverApproach` ."
   ]
  },
  {
   "cell_type": "code",
   "execution_count": 20,
   "metadata": {
    "colab": {
     "base_uri": "https://localhost:8080/"
    },
    "id": "eTF2AmJFYpcZ",
    "outputId": "d9bc722e-a87b-4ef6-e5b4-7164ac25c820"
   },
   "outputs": [
    {
     "name": "stdout",
     "output_type": "stream",
     "text": [
      "CPU times: user 601 ms, sys: 55.2 ms, total: 656 ms\n",
      "Wall time: 1min 53s\n"
     ]
    }
   ],
   "source": [
    "bertExtractor = SentenceEntityResolverApproach()\\\n",
    "  .setNeighbours(25)\\\n",
    "  .setThreshold(1000)\\\n",
    "  .setInputCols(\"bert_embeddings\")\\\n",
    "  .setNormalizedCol(\"_term\")\\\n",
    "  .setLabelCol(\"conceptId\")\\\n",
    "  .setOutputCol('snomed_code')\\\n",
    "  .setDistanceFunction(\"EUCLIDIAN\")\\\n",
    "  .setCaseSensitive(False)\n",
    "\n",
    "%time snomed_model = bertExtractor.fit(snomed_data)"
   ]
  },
  {
   "cell_type": "code",
   "execution_count": 21,
   "metadata": {
    "id": "v6d-ZuYk4mVs"
   },
   "outputs": [],
   "source": [
    "# save if you will need that later\n",
    "snomed_model.write().overwrite().save(\"sbiobertresolve_snomed_model\")"
   ]
  },
  {
   "cell_type": "markdown",
   "metadata": {
    "id": "LN3r_VJWAcwK"
   },
   "source": [
    "Lets create a new dataset and re-train our model by using this new dataset.\n",
    "\n"
   ]
  },
  {
   "cell_type": "code",
   "execution_count": 26,
   "metadata": {
    "colab": {
     "base_uri": "https://localhost:8080/",
     "height": 205
    },
    "id": "VGw-4Vwny58a",
    "outputId": "b7b41a27-e025-4621-cf7a-458b34b1662f"
   },
   "outputs": [
    {
     "data": {
      "text/html": [
       "<div>\n",
       "<style scoped>\n",
       "    .dataframe tbody tr th:only-of-type {\n",
       "        vertical-align: middle;\n",
       "    }\n",
       "\n",
       "    .dataframe tbody tr th {\n",
       "        vertical-align: top;\n",
       "    }\n",
       "\n",
       "    .dataframe thead th {\n",
       "        text-align: right;\n",
       "    }\n",
       "</style>\n",
       "<table border=\"1\" class=\"dataframe\">\n",
       "  <thead>\n",
       "    <tr style=\"text-align: right;\">\n",
       "      <th></th>\n",
       "      <th>conceptId</th>\n",
       "      <th>_term</th>\n",
       "      <th>term</th>\n",
       "    </tr>\n",
       "  </thead>\n",
       "  <tbody>\n",
       "    <tr>\n",
       "      <th>0</th>\n",
       "      <td>108367008</td>\n",
       "      <td>Dislocation of joint</td>\n",
       "      <td>Dislocation of joint</td>\n",
       "    </tr>\n",
       "    <tr>\n",
       "      <th>1</th>\n",
       "      <td>3384011000036100</td>\n",
       "      <td>Arthrotec</td>\n",
       "      <td>Arthrotec</td>\n",
       "    </tr>\n",
       "    <tr>\n",
       "      <th>2</th>\n",
       "      <td>166717003</td>\n",
       "      <td>Serum creatinine raised</td>\n",
       "      <td>Serum creatinine raised</td>\n",
       "    </tr>\n",
       "    <tr>\n",
       "      <th>3</th>\n",
       "      <td>3877011000036101</td>\n",
       "      <td>Lipitor</td>\n",
       "      <td>Lipitor</td>\n",
       "    </tr>\n",
       "    <tr>\n",
       "      <th>4</th>\n",
       "      <td>402234004</td>\n",
       "      <td>Foot eczema</td>\n",
       "      <td>Foot eczema</td>\n",
       "    </tr>\n",
       "  </tbody>\n",
       "</table>\n",
       "</div>"
      ],
      "text/plain": [
       "          conceptId                    _term                     term\n",
       "0         108367008     Dislocation of joint     Dislocation of joint\n",
       "1  3384011000036100                Arthrotec                Arthrotec\n",
       "2         166717003  Serum creatinine raised  Serum creatinine raised\n",
       "3  3877011000036101                  Lipitor                  Lipitor\n",
       "4         402234004              Foot eczema              Foot eczema"
      ]
     },
     "execution_count": 26,
     "metadata": {
      "tags": []
     },
     "output_type": "execute_result"
    }
   ],
   "source": [
    "aap_tr.head()"
   ]
  },
  {
   "cell_type": "markdown",
   "metadata": {
    "id": "DYpt-MvyAws6"
   },
   "source": [
    "We need the same columns for training."
   ]
  },
  {
   "cell_type": "code",
   "execution_count": 37,
   "metadata": {
    "colab": {
     "base_uri": "https://localhost:8080/",
     "height": 49
    },
    "id": "iI73l6bx0-fA",
    "outputId": "cac6f934-8975-465a-d44f-f1eba9baf97a"
   },
   "outputs": [
    {
     "data": {
      "text/html": [
       "<div>\n",
       "<style scoped>\n",
       "    .dataframe tbody tr th:only-of-type {\n",
       "        vertical-align: middle;\n",
       "    }\n",
       "\n",
       "    .dataframe tbody tr th {\n",
       "        vertical-align: top;\n",
       "    }\n",
       "\n",
       "    .dataframe thead th {\n",
       "        text-align: right;\n",
       "    }\n",
       "</style>\n",
       "<table border=\"1\" class=\"dataframe\">\n",
       "  <thead>\n",
       "    <tr style=\"text-align: right;\">\n",
       "      <th></th>\n",
       "      <th>conceptId</th>\n",
       "      <th>_term</th>\n",
       "      <th>term</th>\n",
       "    </tr>\n",
       "  </thead>\n",
       "  <tbody>\n",
       "  </tbody>\n",
       "</table>\n",
       "</div>"
      ],
      "text/plain": [
       "Empty DataFrame\n",
       "Columns: [conceptId, _term, term]\n",
       "Index: []"
      ]
     },
     "execution_count": 37,
     "metadata": {
      "tags": []
     },
     "output_type": "execute_result"
    }
   ],
   "source": [
    "new_dataset = pd.DataFrame(columns=aap_tr.columns)\n",
    "new_dataset"
   ]
  },
  {
   "cell_type": "markdown",
   "metadata": {
    "id": "C46TZdiKA7yx"
   },
   "source": [
    "## Use Cases\n",
    "\n",
    "Now we can add our concept_codes and terms to this new dataframe. In this example we wanted to show you some cases that you can see the success of re-training feature and used `XXXX` in the codes to get easily;\n",
    "\n",
    "- Added new lines that they are close to version of them in the main dataset (`Dislocation of joint -> Dislocation New Term`).\n",
    "\n",
    "- Changed the code of the terms in the main dataset (`Arthrotec`)\n",
    "\n",
    "- Changed the positions of the words in the terms (`Serum creatinine raised -> Raised serum creatinine`)\n",
    "\n",
    "- Added new terms to the dataset (`New Drug`, `athlete's foot`)"
   ]
  },
  {
   "cell_type": "code",
   "execution_count": 38,
   "metadata": {
    "colab": {
     "base_uri": "https://localhost:8080/",
     "height": 205
    },
    "id": "GQkQSBg6zKm7",
    "outputId": "e17d336b-d70d-4aac-a085-b82e9dd8f3da"
   },
   "outputs": [
    {
     "data": {
      "text/html": [
       "<div>\n",
       "<style scoped>\n",
       "    .dataframe tbody tr th:only-of-type {\n",
       "        vertical-align: middle;\n",
       "    }\n",
       "\n",
       "    .dataframe tbody tr th {\n",
       "        vertical-align: top;\n",
       "    }\n",
       "\n",
       "    .dataframe thead th {\n",
       "        text-align: right;\n",
       "    }\n",
       "</style>\n",
       "<table border=\"1\" class=\"dataframe\">\n",
       "  <thead>\n",
       "    <tr style=\"text-align: right;\">\n",
       "      <th></th>\n",
       "      <th>conceptId</th>\n",
       "      <th>_term</th>\n",
       "      <th>term</th>\n",
       "    </tr>\n",
       "  </thead>\n",
       "  <tbody>\n",
       "    <tr>\n",
       "      <th>0</th>\n",
       "      <td>XXXX67008</td>\n",
       "      <td>Dislocation New Term</td>\n",
       "      <td>Dislocation New Term</td>\n",
       "    </tr>\n",
       "    <tr>\n",
       "      <th>1</th>\n",
       "      <td>XXXXXXXX00036100</td>\n",
       "      <td>Arthrotec</td>\n",
       "      <td>Arthrotec</td>\n",
       "    </tr>\n",
       "    <tr>\n",
       "      <th>2</th>\n",
       "      <td>XXXXX7003</td>\n",
       "      <td>Raised serum creatinine</td>\n",
       "      <td>Raised serum creatinine</td>\n",
       "    </tr>\n",
       "    <tr>\n",
       "      <th>3</th>\n",
       "      <td>XXXXXXXX00036101</td>\n",
       "      <td>New Drug</td>\n",
       "      <td>New Drug</td>\n",
       "    </tr>\n",
       "    <tr>\n",
       "      <th>4</th>\n",
       "      <td>XXXXX4004</td>\n",
       "      <td>athlete's foot</td>\n",
       "      <td>athlete's foot</td>\n",
       "    </tr>\n",
       "  </tbody>\n",
       "</table>\n",
       "</div>"
      ],
      "text/plain": [
       "          conceptId                    _term                     term\n",
       "0         XXXX67008     Dislocation New Term     Dislocation New Term\n",
       "1  XXXXXXXX00036100                Arthrotec                Arthrotec\n",
       "2         XXXXX7003  Raised serum creatinine  Raised serum creatinine\n",
       "3  XXXXXXXX00036101                 New Drug                 New Drug\n",
       "4         XXXXX4004           athlete's foot           athlete's foot"
      ]
     },
     "execution_count": 38,
     "metadata": {
      "tags": []
     },
     "output_type": "execute_result"
    }
   ],
   "source": [
    "new_dataset.conceptId = [\"XXXX67008\", \"XXXXXXXX00036100\", \"XXXXX7003\", \"XXXXXXXX00036101\", \"XXXXX4004\"]\n",
    "new_dataset._term = [\"Dislocation New Term\", \"Arthrotec\", \"Raised serum creatinine\", \"New Drug\", \"athlete's foot\"]\n",
    "new_dataset.term = [\"Dislocation New Term\", \"Arthrotec\", \"Raised serum creatinine\", \"New Drug\", \"athlete's foot\"]\n",
    "new_dataset"
   ]
  },
  {
   "cell_type": "markdown",
   "metadata": {
    "id": "-infZFZFDY8y"
   },
   "source": [
    "We transformed our new dataframe by using `snomed_emb_model` and added new columns that we need for re-training."
   ]
  },
  {
   "cell_type": "code",
   "execution_count": 40,
   "metadata": {
    "colab": {
     "base_uri": "https://localhost:8080/"
    },
    "id": "QtCeGXR5zMPa",
    "outputId": "d7cad203-3328-4926-d106-9691ee0dbad0"
   },
   "outputs": [
    {
     "name": "stdout",
     "output_type": "stream",
     "text": [
      "+----------------+--------------------+--------------------+--------------------+--------------------+\n",
      "|       conceptId|               _term|                term|            sentence|     bert_embeddings|\n",
      "+----------------+--------------------+--------------------+--------------------+--------------------+\n",
      "|       XXXX67008|Dislocation New Term|Dislocation New Term|[{document, 0, 19...|[{sentence_embedd...|\n",
      "|XXXXXXXX00036100|           Arthrotec|           Arthrotec|[{document, 0, 8,...|[{sentence_embedd...|\n",
      "|       XXXXX7003|Raised serum crea...|Raised serum crea...|[{document, 0, 22...|[{sentence_embedd...|\n",
      "|XXXXXXXX00036101|            New Drug|            New Drug|[{document, 0, 7,...|[{sentence_embedd...|\n",
      "|       XXXXX4004|      athlete's foot|      athlete's foot|[{document, 0, 13...|[{sentence_embedd...|\n",
      "+----------------+--------------------+--------------------+--------------------+--------------------+\n",
      "\n"
     ]
    }
   ],
   "source": [
    "new_snomed_data = snomed_emb_model.transform(spark.createDataFrame(new_dataset))\n",
    "new_snomed_data.show()"
   ]
  },
  {
   "cell_type": "markdown",
   "metadata": {
    "id": "7m9ut2gWD1sh"
   },
   "source": [
    "Now we will re-train our main model with new dataset by using `.setPretrainedModelPath()` parameter. "
   ]
  },
  {
   "cell_type": "code",
   "execution_count": 43,
   "metadata": {
    "id": "umuTgrpV1mKO"
   },
   "outputs": [],
   "source": [
    "new_snomed_model = bertExtractor.setPretrainedModelPath(\"sbiobertresolve_snomed_model\").fit(new_snomed_data)"
   ]
  },
  {
   "cell_type": "code",
   "execution_count": 44,
   "metadata": {
    "id": "8jrm9I8V29gh"
   },
   "outputs": [],
   "source": [
    "# save if you need later\n",
    "\n",
    "new_snomed_model.write().overwrite().save(\"new_sbiobertresolve_snomed_model\")"
   ]
  },
  {
   "cell_type": "markdown",
   "metadata": {
    "id": "d2fahfJSEKmN"
   },
   "source": [
    "Write a function to show the results more clearly."
   ]
  },
  {
   "cell_type": "code",
   "execution_count": 46,
   "metadata": {
    "id": "MUMHLxEQ3aXi"
   },
   "outputs": [],
   "source": [
    "import pandas as pd\n",
    "\n",
    "pd.set_option('display.max_colwidth', 0)\n",
    "\n",
    "\n",
    "def get_codes (lp, text, vocab='snomed_code'):\n",
    "    \n",
    "    full_light_result = lp.fullAnnotate(text)\n",
    "\n",
    "    chunks = []\n",
    "    codes = []\n",
    "    begin = []\n",
    "    end = []\n",
    "    resolutions=[]\n",
    "    all_distances =[]\n",
    "    all_codes=[]\n",
    "    all_cosines = []\n",
    "\n",
    "    for chunk, code in zip(full_light_result[0]['ner_chunk'], full_light_result[0][vocab]):\n",
    "            \n",
    "        begin.append(chunk.begin)\n",
    "        end.append(chunk.end)\n",
    "        chunks.append(chunk.result)\n",
    "        codes.append(code.result) \n",
    "        all_codes.append(code.metadata['all_k_results'].split(':::'))\n",
    "        resolutions.append(code.metadata['all_k_resolutions'].split(':::'))\n",
    "        all_distances.append(code.metadata['all_k_distances'].split(':::'))\n",
    "        all_cosines.append(code.metadata['all_k_cosine_distances'].split(':::'))\n",
    "        \n",
    "    df = pd.DataFrame({'chunks':chunks, 'begin': begin, 'end':end, 'code':codes,'all_codes':all_codes, \n",
    "                       'resolutions':resolutions, 'all_distances':all_cosines})\n",
    "        \n",
    "    return df\n",
    "\n"
   ]
  },
  {
   "cell_type": "markdown",
   "metadata": {
    "id": "FK3zXP0yEg3C"
   },
   "source": [
    "## Test the New Model\n",
    "We will create a pipeline that contains both of the models and check the results by using `LightPipeline`."
   ]
  },
  {
   "cell_type": "code",
   "execution_count": 45,
   "metadata": {
    "colab": {
     "base_uri": "https://localhost:8080/"
    },
    "id": "hhTYUBaU2PSB",
    "outputId": "5ddbfd37-498a-4fd9-e78f-7ecaf28da7c0"
   },
   "outputs": [
    {
     "name": "stdout",
     "output_type": "stream",
     "text": [
      "sbiobert_base_cased_mli download started this may take some time.\n",
      "Approximate size to download 384.3 MB\n",
      "[OK!]\n"
     ]
    }
   ],
   "source": [
    "documentAssembler = DocumentAssembler()\\\n",
    "      .setInputCol(\"text\")\\\n",
    "      .setOutputCol(\"ner_chunk\")\n",
    "\n",
    "sbert_embedder = BertSentenceEmbeddings.pretrained('sbiobert_base_cased_mli', 'en','clinical/models')\\\n",
    "      .setInputCols([\"ner_chunk\"])\\\n",
    "      .setOutputCol(\"sbert_embeddings\")\n",
    "\n",
    "first_model = SentenceEntityResolverModel.load(\"sbiobertresolve_snomed_model\") \\\n",
    "      .setInputCols([\"ner_chunk\", \"sbert_embeddings\"]) \\\n",
    "      .setOutputCol(\"first_code\")\n",
    "\n",
    "second_model = SentenceEntityResolverModel.load(\"new_sbiobertresolve_snomed_model\") \\\n",
    "      .setInputCols([\"ner_chunk\", \"sbert_embeddings\"]) \\\n",
    "      .setOutputCol(\"second_code\")\n",
    "\n",
    "\n",
    "pipelineModel = PipelineModel(\n",
    "    stages = [\n",
    "        documentAssembler,\n",
    "        sbert_embedder,\n",
    "        first_model,\n",
    "        second_model])\n",
    "\n",
    "snomed_lp = LightPipeline(pipelineModel)\n"
   ]
  },
  {
   "cell_type": "markdown",
   "metadata": {
    "id": "ytvUyGO1FGzg"
   },
   "source": [
    "Lets test our models with the terms that we added into the new dataset and the ones that comes from the main model (`Stomach ache` and `Pins and needles`)."
   ]
  },
  {
   "cell_type": "code",
   "execution_count": 63,
   "metadata": {
    "colab": {
     "base_uri": "https://localhost:8080/"
    },
    "id": "pghuCa8d4Lnw",
    "outputId": "845c249f-9bf5-442a-c456-e695f3a811c8"
   },
   "outputs": [
    {
     "data": {
      "text/plain": [
       "['Dislocation New Term',\n",
       " 'Arthrotec',\n",
       " 'Raised serum creatinine',\n",
       " 'New Drug',\n",
       " \"athlete's foot\",\n",
       " 'Stomach ache',\n",
       " 'Pins and needles']"
      ]
     },
     "execution_count": 63,
     "metadata": {
      "tags": []
     },
     "output_type": "execute_result"
    }
   ],
   "source": [
    "chunk_list = [\"Dislocation New Term\", \"Arthrotec\", \"Raised serum creatinine\", \"New Drug\", \"athlete's foot\", \"Stomach ache\", \"Pins and needles\"]\n",
    "chunk_list"
   ]
  },
  {
   "cell_type": "code",
   "execution_count": 64,
   "metadata": {
    "colab": {
     "base_uri": "https://localhost:8080/",
     "height": 1000
    },
    "id": "WHL8noEW4U3U",
    "outputId": "8e14c028-0f32-480f-aba3-352f04e326d3"
   },
   "outputs": [
    {
     "name": "stdout",
     "output_type": "stream",
     "text": [
      "\n",
      " >> ////////////////////////////// Dislocation New Term ////////////////////////////// \n",
      "\n",
      "First Model Result:\n"
     ]
    },
    {
     "data": {
      "text/html": [
       "<div>\n",
       "<style scoped>\n",
       "    .dataframe tbody tr th:only-of-type {\n",
       "        vertical-align: middle;\n",
       "    }\n",
       "\n",
       "    .dataframe tbody tr th {\n",
       "        vertical-align: top;\n",
       "    }\n",
       "\n",
       "    .dataframe thead th {\n",
       "        text-align: right;\n",
       "    }\n",
       "</style>\n",
       "<table border=\"1\" class=\"dataframe\">\n",
       "  <thead>\n",
       "    <tr style=\"text-align: right;\">\n",
       "      <th></th>\n",
       "      <th>chunks</th>\n",
       "      <th>begin</th>\n",
       "      <th>end</th>\n",
       "      <th>code</th>\n",
       "      <th>all_codes</th>\n",
       "      <th>resolutions</th>\n",
       "      <th>all_distances</th>\n",
       "    </tr>\n",
       "  </thead>\n",
       "  <tbody>\n",
       "    <tr>\n",
       "      <th>0</th>\n",
       "      <td>Dislocation New Term</td>\n",
       "      <td>0</td>\n",
       "      <td>19</td>\n",
       "      <td>108367008</td>\n",
       "      <td>[108367008, 414469009, 40806005, 2764000, 84480002, 77424011000036100, 3298011000036103, 21288011000036105, 53523011000036100, 3559011000036109, 15611000168108, 314983004, 5662003, 429513001, 161891005]</td>\n",
       "      <td>[Dislocation of joint, Impending shock, Derealisation, Joint crepitus, Retching, ubidecarenone, Lipex, diclofenac, Diovan, Zoloft, Naprosyn, Deteriorating renal function, Contusion of hand, Rupture of Achilles tendon, Backache]</td>\n",
       "      <td>[0.2829, 0.3046, 0.2938, 0.3153, 0.3190, 0.3524, 0.3483, 0.3700, 0.3433, 0.3566, 0.3654, 0.3523, 0.3593, 0.3552, 0.3629]</td>\n",
       "    </tr>\n",
       "  </tbody>\n",
       "</table>\n",
       "</div>"
      ],
      "text/plain": [
       "                 chunks  ...                                                                                                             all_distances\n",
       "0  Dislocation New Term  ...  [0.2829, 0.3046, 0.2938, 0.3153, 0.3190, 0.3524, 0.3483, 0.3700, 0.3433, 0.3566, 0.3654, 0.3523, 0.3593, 0.3552, 0.3629]\n",
       "\n",
       "[1 rows x 7 columns]"
      ]
     },
     "metadata": {
      "tags": []
     },
     "output_type": "display_data"
    },
    {
     "name": "stdout",
     "output_type": "stream",
     "text": [
      "\n",
      " Second Model Result:\n"
     ]
    },
    {
     "data": {
      "text/html": [
       "<div>\n",
       "<style scoped>\n",
       "    .dataframe tbody tr th:only-of-type {\n",
       "        vertical-align: middle;\n",
       "    }\n",
       "\n",
       "    .dataframe tbody tr th {\n",
       "        vertical-align: top;\n",
       "    }\n",
       "\n",
       "    .dataframe thead th {\n",
       "        text-align: right;\n",
       "    }\n",
       "</style>\n",
       "<table border=\"1\" class=\"dataframe\">\n",
       "  <thead>\n",
       "    <tr style=\"text-align: right;\">\n",
       "      <th></th>\n",
       "      <th>chunks</th>\n",
       "      <th>begin</th>\n",
       "      <th>end</th>\n",
       "      <th>code</th>\n",
       "      <th>all_codes</th>\n",
       "      <th>resolutions</th>\n",
       "      <th>all_distances</th>\n",
       "    </tr>\n",
       "  </thead>\n",
       "  <tbody>\n",
       "    <tr>\n",
       "      <th>0</th>\n",
       "      <td>Dislocation New Term</td>\n",
       "      <td>0</td>\n",
       "      <td>19</td>\n",
       "      <td>XXXX67008</td>\n",
       "      <td>[XXXX67008, XXXXXXXX00036101, 108367008, 414469009, 40806005, 2764000, 84480002, 77424011000036100, 3298011000036103, 21288011000036105, 53523011000036100, 3559011000036109, 15611000168108, 314983004, 5662003, 429513001, 161891005]</td>\n",
       "      <td>[Dislocation New Term, New Drug, Dislocation of joint, Impending shock, Derealisation, Joint crepitus, Retching, ubidecarenone, Lipex, diclofenac, Diovan, Zoloft, Naprosyn, Deteriorating renal function, Contusion of hand, Rupture of Achilles tendon, Backache]</td>\n",
       "      <td>[0.0000, 0.2396, 0.2829, 0.3046, 0.2938, 0.3153, 0.3190, 0.3524, 0.3483, 0.3700, 0.3433, 0.3566, 0.3654, 0.3523, 0.3593, 0.3552, 0.3629]</td>\n",
       "    </tr>\n",
       "  </tbody>\n",
       "</table>\n",
       "</div>"
      ],
      "text/plain": [
       "                 chunks  ...                                                                                                                             all_distances\n",
       "0  Dislocation New Term  ...  [0.0000, 0.2396, 0.2829, 0.3046, 0.2938, 0.3153, 0.3190, 0.3524, 0.3483, 0.3700, 0.3433, 0.3566, 0.3654, 0.3523, 0.3593, 0.3552, 0.3629]\n",
       "\n",
       "[1 rows x 7 columns]"
      ]
     },
     "metadata": {
      "tags": []
     },
     "output_type": "display_data"
    },
    {
     "name": "stdout",
     "output_type": "stream",
     "text": [
      "\n",
      " >> ////////////////////////////// Arthrotec ////////////////////////////// \n",
      "\n",
      "First Model Result:\n"
     ]
    },
    {
     "data": {
      "text/html": [
       "<div>\n",
       "<style scoped>\n",
       "    .dataframe tbody tr th:only-of-type {\n",
       "        vertical-align: middle;\n",
       "    }\n",
       "\n",
       "    .dataframe tbody tr th {\n",
       "        vertical-align: top;\n",
       "    }\n",
       "\n",
       "    .dataframe thead th {\n",
       "        text-align: right;\n",
       "    }\n",
       "</style>\n",
       "<table border=\"1\" class=\"dataframe\">\n",
       "  <thead>\n",
       "    <tr style=\"text-align: right;\">\n",
       "      <th></th>\n",
       "      <th>chunks</th>\n",
       "      <th>begin</th>\n",
       "      <th>end</th>\n",
       "      <th>code</th>\n",
       "      <th>all_codes</th>\n",
       "      <th>resolutions</th>\n",
       "      <th>all_distances</th>\n",
       "    </tr>\n",
       "  </thead>\n",
       "  <tbody>\n",
       "    <tr>\n",
       "      <th>0</th>\n",
       "      <td>Arthrotec</td>\n",
       "      <td>0</td>\n",
       "      <td>8</td>\n",
       "      <td>3384011000036100</td>\n",
       "      <td>[3384011000036100, 3736011000036100, 87715008, 271807003, 37787011000036104, 4171011000036100, 3723001, 4031011000036106, 247472004]</td>\n",
       "      <td>[Arthrotec, Avandia, Aptyalism, Rash, vitamin A, Celebrex, Arthritis, Crestor, Hives]</td>\n",
       "      <td>[0.0000, 0.2204, 0.2272, 0.2310, 0.2365, 0.2597, 0.2509, 0.2623, 0.2607]</td>\n",
       "    </tr>\n",
       "  </tbody>\n",
       "</table>\n",
       "</div>"
      ],
      "text/plain": [
       "      chunks  ...                                                             all_distances\n",
       "0  Arthrotec  ...  [0.0000, 0.2204, 0.2272, 0.2310, 0.2365, 0.2597, 0.2509, 0.2623, 0.2607]\n",
       "\n",
       "[1 rows x 7 columns]"
      ]
     },
     "metadata": {
      "tags": []
     },
     "output_type": "display_data"
    },
    {
     "name": "stdout",
     "output_type": "stream",
     "text": [
      "\n",
      " Second Model Result:\n"
     ]
    },
    {
     "data": {
      "text/html": [
       "<div>\n",
       "<style scoped>\n",
       "    .dataframe tbody tr th:only-of-type {\n",
       "        vertical-align: middle;\n",
       "    }\n",
       "\n",
       "    .dataframe tbody tr th {\n",
       "        vertical-align: top;\n",
       "    }\n",
       "\n",
       "    .dataframe thead th {\n",
       "        text-align: right;\n",
       "    }\n",
       "</style>\n",
       "<table border=\"1\" class=\"dataframe\">\n",
       "  <thead>\n",
       "    <tr style=\"text-align: right;\">\n",
       "      <th></th>\n",
       "      <th>chunks</th>\n",
       "      <th>begin</th>\n",
       "      <th>end</th>\n",
       "      <th>code</th>\n",
       "      <th>all_codes</th>\n",
       "      <th>resolutions</th>\n",
       "      <th>all_distances</th>\n",
       "    </tr>\n",
       "  </thead>\n",
       "  <tbody>\n",
       "    <tr>\n",
       "      <th>0</th>\n",
       "      <td>Arthrotec</td>\n",
       "      <td>0</td>\n",
       "      <td>8</td>\n",
       "      <td>XXXXXXXX00036100</td>\n",
       "      <td>[XXXXXXXX00036100, 3384011000036100, 3736011000036100, 87715008, 271807003, 37787011000036104, 4171011000036100, 3723001, 4031011000036106]</td>\n",
       "      <td>[Arthrotec, Arthrotec, Avandia, Aptyalism, Rash, vitamin A, Celebrex, Arthritis, Crestor]</td>\n",
       "      <td>[0.0000, 0.0000, 0.2204, 0.2272, 0.2310, 0.2365, 0.2597, 0.2509, 0.2623]</td>\n",
       "    </tr>\n",
       "  </tbody>\n",
       "</table>\n",
       "</div>"
      ],
      "text/plain": [
       "      chunks  ...                                                             all_distances\n",
       "0  Arthrotec  ...  [0.0000, 0.0000, 0.2204, 0.2272, 0.2310, 0.2365, 0.2597, 0.2509, 0.2623]\n",
       "\n",
       "[1 rows x 7 columns]"
      ]
     },
     "metadata": {
      "tags": []
     },
     "output_type": "display_data"
    },
    {
     "name": "stdout",
     "output_type": "stream",
     "text": [
      "\n",
      " >> ////////////////////////////// Raised serum creatinine ////////////////////////////// \n",
      "\n",
      "First Model Result:\n"
     ]
    },
    {
     "data": {
      "text/html": [
       "<div>\n",
       "<style scoped>\n",
       "    .dataframe tbody tr th:only-of-type {\n",
       "        vertical-align: middle;\n",
       "    }\n",
       "\n",
       "    .dataframe tbody tr th {\n",
       "        vertical-align: top;\n",
       "    }\n",
       "\n",
       "    .dataframe thead th {\n",
       "        text-align: right;\n",
       "    }\n",
       "</style>\n",
       "<table border=\"1\" class=\"dataframe\">\n",
       "  <thead>\n",
       "    <tr style=\"text-align: right;\">\n",
       "      <th></th>\n",
       "      <th>chunks</th>\n",
       "      <th>begin</th>\n",
       "      <th>end</th>\n",
       "      <th>code</th>\n",
       "      <th>all_codes</th>\n",
       "      <th>resolutions</th>\n",
       "      <th>all_distances</th>\n",
       "    </tr>\n",
       "  </thead>\n",
       "  <tbody>\n",
       "    <tr>\n",
       "      <th>0</th>\n",
       "      <td>Raised serum creatinine</td>\n",
       "      <td>0</td>\n",
       "      <td>22</td>\n",
       "      <td>166717003</td>\n",
       "      <td>[166717003, 69791001, 314983004, 24184005, 166830008, 40095003, 414469009, 42399005, 278528006, 34436003]</td>\n",
       "      <td>[Serum creatinine raised, Increased venous pressure, Deteriorating renal function, Finding of increased blood pressure, Serum cholesterol raised, Renal injury, Impending shock, Renal failure, Facial swelling, Haematuria]</td>\n",
       "      <td>[0.0141, 0.1653, 0.1787, 0.1859, 0.1853, 0.2075, 0.2184, 0.2066, 0.2235, 0.2338]</td>\n",
       "    </tr>\n",
       "  </tbody>\n",
       "</table>\n",
       "</div>"
      ],
      "text/plain": [
       "                    chunks  ...                                                                     all_distances\n",
       "0  Raised serum creatinine  ...  [0.0141, 0.1653, 0.1787, 0.1859, 0.1853, 0.2075, 0.2184, 0.2066, 0.2235, 0.2338]\n",
       "\n",
       "[1 rows x 7 columns]"
      ]
     },
     "metadata": {
      "tags": []
     },
     "output_type": "display_data"
    },
    {
     "name": "stdout",
     "output_type": "stream",
     "text": [
      "\n",
      " Second Model Result:\n"
     ]
    },
    {
     "data": {
      "text/html": [
       "<div>\n",
       "<style scoped>\n",
       "    .dataframe tbody tr th:only-of-type {\n",
       "        vertical-align: middle;\n",
       "    }\n",
       "\n",
       "    .dataframe tbody tr th {\n",
       "        vertical-align: top;\n",
       "    }\n",
       "\n",
       "    .dataframe thead th {\n",
       "        text-align: right;\n",
       "    }\n",
       "</style>\n",
       "<table border=\"1\" class=\"dataframe\">\n",
       "  <thead>\n",
       "    <tr style=\"text-align: right;\">\n",
       "      <th></th>\n",
       "      <th>chunks</th>\n",
       "      <th>begin</th>\n",
       "      <th>end</th>\n",
       "      <th>code</th>\n",
       "      <th>all_codes</th>\n",
       "      <th>resolutions</th>\n",
       "      <th>all_distances</th>\n",
       "    </tr>\n",
       "  </thead>\n",
       "  <tbody>\n",
       "    <tr>\n",
       "      <th>0</th>\n",
       "      <td>Raised serum creatinine</td>\n",
       "      <td>0</td>\n",
       "      <td>22</td>\n",
       "      <td>XXXXX7003</td>\n",
       "      <td>[XXXXX7003, 166717003, 69791001, 314983004, 24184005, 166830008, 40095003, 414469009, 42399005, 278528006, 34436003]</td>\n",
       "      <td>[Raised serum creatinine, Serum creatinine raised, Increased venous pressure, Deteriorating renal function, Finding of increased blood pressure, Serum cholesterol raised, Renal injury, Impending shock, Renal failure, Facial swelling, Haematuria]</td>\n",
       "      <td>[0.0000, 0.0141, 0.1653, 0.1787, 0.1859, 0.1853, 0.2075, 0.2184, 0.2066, 0.2235, 0.2338]</td>\n",
       "    </tr>\n",
       "  </tbody>\n",
       "</table>\n",
       "</div>"
      ],
      "text/plain": [
       "                    chunks  ...                                                                             all_distances\n",
       "0  Raised serum creatinine  ...  [0.0000, 0.0141, 0.1653, 0.1787, 0.1859, 0.1853, 0.2075, 0.2184, 0.2066, 0.2235, 0.2338]\n",
       "\n",
       "[1 rows x 7 columns]"
      ]
     },
     "metadata": {
      "tags": []
     },
     "output_type": "display_data"
    },
    {
     "name": "stdout",
     "output_type": "stream",
     "text": [
      "\n",
      " >> ////////////////////////////// New Drug ////////////////////////////// \n",
      "\n",
      "First Model Result:\n"
     ]
    },
    {
     "data": {
      "text/html": [
       "<div>\n",
       "<style scoped>\n",
       "    .dataframe tbody tr th:only-of-type {\n",
       "        vertical-align: middle;\n",
       "    }\n",
       "\n",
       "    .dataframe tbody tr th {\n",
       "        vertical-align: top;\n",
       "    }\n",
       "\n",
       "    .dataframe thead th {\n",
       "        text-align: right;\n",
       "    }\n",
       "</style>\n",
       "<table border=\"1\" class=\"dataframe\">\n",
       "  <thead>\n",
       "    <tr style=\"text-align: right;\">\n",
       "      <th></th>\n",
       "      <th>chunks</th>\n",
       "      <th>begin</th>\n",
       "      <th>end</th>\n",
       "      <th>code</th>\n",
       "      <th>all_codes</th>\n",
       "      <th>resolutions</th>\n",
       "      <th>all_distances</th>\n",
       "    </tr>\n",
       "  </thead>\n",
       "  <tbody>\n",
       "    <tr>\n",
       "      <th>0</th>\n",
       "      <td>New Drug</td>\n",
       "      <td>0</td>\n",
       "      <td>7</td>\n",
       "      <td>40806005</td>\n",
       "      <td>[40806005, 15611000168108, 3298011000036103, 3877011000036101]</td>\n",
       "      <td>[Derealisation, Naprosyn, Lipex, Lipitor]</td>\n",
       "      <td>[0.3170, 0.3397, 0.3536, 0.3497]</td>\n",
       "    </tr>\n",
       "  </tbody>\n",
       "</table>\n",
       "</div>"
      ],
      "text/plain": [
       "     chunks  ...                     all_distances\n",
       "0  New Drug  ...  [0.3170, 0.3397, 0.3536, 0.3497]\n",
       "\n",
       "[1 rows x 7 columns]"
      ]
     },
     "metadata": {
      "tags": []
     },
     "output_type": "display_data"
    },
    {
     "name": "stdout",
     "output_type": "stream",
     "text": [
      "\n",
      " Second Model Result:\n"
     ]
    },
    {
     "data": {
      "text/html": [
       "<div>\n",
       "<style scoped>\n",
       "    .dataframe tbody tr th:only-of-type {\n",
       "        vertical-align: middle;\n",
       "    }\n",
       "\n",
       "    .dataframe tbody tr th {\n",
       "        vertical-align: top;\n",
       "    }\n",
       "\n",
       "    .dataframe thead th {\n",
       "        text-align: right;\n",
       "    }\n",
       "</style>\n",
       "<table border=\"1\" class=\"dataframe\">\n",
       "  <thead>\n",
       "    <tr style=\"text-align: right;\">\n",
       "      <th></th>\n",
       "      <th>chunks</th>\n",
       "      <th>begin</th>\n",
       "      <th>end</th>\n",
       "      <th>code</th>\n",
       "      <th>all_codes</th>\n",
       "      <th>resolutions</th>\n",
       "      <th>all_distances</th>\n",
       "    </tr>\n",
       "  </thead>\n",
       "  <tbody>\n",
       "    <tr>\n",
       "      <th>0</th>\n",
       "      <td>New Drug</td>\n",
       "      <td>0</td>\n",
       "      <td>7</td>\n",
       "      <td>XXXXXXXX00036101</td>\n",
       "      <td>[XXXXXXXX00036101, XXXX67008, 40806005, 15611000168108, 3298011000036103, 3877011000036101]</td>\n",
       "      <td>[New Drug, Dislocation New Term, Derealisation, Naprosyn, Lipex, Lipitor]</td>\n",
       "      <td>[0.0000, 0.2396, 0.3170, 0.3397, 0.3536, 0.3497]</td>\n",
       "    </tr>\n",
       "  </tbody>\n",
       "</table>\n",
       "</div>"
      ],
      "text/plain": [
       "     chunks  ...                                     all_distances\n",
       "0  New Drug  ...  [0.0000, 0.2396, 0.3170, 0.3397, 0.3536, 0.3497]\n",
       "\n",
       "[1 rows x 7 columns]"
      ]
     },
     "metadata": {
      "tags": []
     },
     "output_type": "display_data"
    },
    {
     "name": "stdout",
     "output_type": "stream",
     "text": [
      "\n",
      " >> ////////////////////////////// athlete's foot ////////////////////////////// \n",
      "\n",
      "First Model Result:\n"
     ]
    },
    {
     "data": {
      "text/html": [
       "<div>\n",
       "<style scoped>\n",
       "    .dataframe tbody tr th:only-of-type {\n",
       "        vertical-align: middle;\n",
       "    }\n",
       "\n",
       "    .dataframe tbody tr th {\n",
       "        vertical-align: top;\n",
       "    }\n",
       "\n",
       "    .dataframe thead th {\n",
       "        text-align: right;\n",
       "    }\n",
       "</style>\n",
       "<table border=\"1\" class=\"dataframe\">\n",
       "  <thead>\n",
       "    <tr style=\"text-align: right;\">\n",
       "      <th></th>\n",
       "      <th>chunks</th>\n",
       "      <th>begin</th>\n",
       "      <th>end</th>\n",
       "      <th>code</th>\n",
       "      <th>all_codes</th>\n",
       "      <th>resolutions</th>\n",
       "      <th>all_distances</th>\n",
       "    </tr>\n",
       "  </thead>\n",
       "  <tbody>\n",
       "    <tr>\n",
       "      <th>0</th>\n",
       "      <td>athlete's foot</td>\n",
       "      <td>0</td>\n",
       "      <td>13</td>\n",
       "      <td>102551008</td>\n",
       "      <td>[102551008, 699368004, 68172002, 297142003, 40806005, 108367008, 309537005, 285395009, 82971005, 271807003, 84480002, 387603000, 267052005, 3877011000036101]</td>\n",
       "      <td>[Cramp in foot, Symptom of ankle, Disorder of tendon, Foot swelling, Derealisation, Dislocation of joint, Numbness of lower limb, Strain of calf muscle, Impaired mobility, Rash, Retching, Impairment of balance, Flatulence/wind, Lipitor]</td>\n",
       "      <td>[0.1984, 0.1969, 0.2218, 0.2347, 0.2373, 0.2575, 0.2578, 0.2631, 0.2564, 0.2714, 0.2732, 0.2631, 0.2797, 0.2807]</td>\n",
       "    </tr>\n",
       "  </tbody>\n",
       "</table>\n",
       "</div>"
      ],
      "text/plain": [
       "           chunks  ...                                                                                                     all_distances\n",
       "0  athlete's foot  ...  [0.1984, 0.1969, 0.2218, 0.2347, 0.2373, 0.2575, 0.2578, 0.2631, 0.2564, 0.2714, 0.2732, 0.2631, 0.2797, 0.2807]\n",
       "\n",
       "[1 rows x 7 columns]"
      ]
     },
     "metadata": {
      "tags": []
     },
     "output_type": "display_data"
    },
    {
     "name": "stdout",
     "output_type": "stream",
     "text": [
      "\n",
      " Second Model Result:\n"
     ]
    },
    {
     "data": {
      "text/html": [
       "<div>\n",
       "<style scoped>\n",
       "    .dataframe tbody tr th:only-of-type {\n",
       "        vertical-align: middle;\n",
       "    }\n",
       "\n",
       "    .dataframe tbody tr th {\n",
       "        vertical-align: top;\n",
       "    }\n",
       "\n",
       "    .dataframe thead th {\n",
       "        text-align: right;\n",
       "    }\n",
       "</style>\n",
       "<table border=\"1\" class=\"dataframe\">\n",
       "  <thead>\n",
       "    <tr style=\"text-align: right;\">\n",
       "      <th></th>\n",
       "      <th>chunks</th>\n",
       "      <th>begin</th>\n",
       "      <th>end</th>\n",
       "      <th>code</th>\n",
       "      <th>all_codes</th>\n",
       "      <th>resolutions</th>\n",
       "      <th>all_distances</th>\n",
       "    </tr>\n",
       "  </thead>\n",
       "  <tbody>\n",
       "    <tr>\n",
       "      <th>0</th>\n",
       "      <td>athlete's foot</td>\n",
       "      <td>0</td>\n",
       "      <td>13</td>\n",
       "      <td>XXXXX4004</td>\n",
       "      <td>[XXXXX4004, 102551008, 699368004, 68172002, 297142003, 40806005, 108367008, 309537005, 285395009, 82971005, 271807003, 84480002, 387603000, 267052005, 3877011000036101]</td>\n",
       "      <td>[athlete's foot, Cramp in foot, Symptom of ankle, Disorder of tendon, Foot swelling, Derealisation, Dislocation of joint, Numbness of lower limb, Strain of calf muscle, Impaired mobility, Rash, Retching, Impairment of balance, Flatulence/wind, Lipitor]</td>\n",
       "      <td>[0.0000, 0.1984, 0.1969, 0.2218, 0.2347, 0.2373, 0.2575, 0.2578, 0.2631, 0.2564, 0.2714, 0.2732, 0.2631, 0.2797, 0.2807]</td>\n",
       "    </tr>\n",
       "  </tbody>\n",
       "</table>\n",
       "</div>"
      ],
      "text/plain": [
       "           chunks  ...                                                                                                             all_distances\n",
       "0  athlete's foot  ...  [0.0000, 0.1984, 0.1969, 0.2218, 0.2347, 0.2373, 0.2575, 0.2578, 0.2631, 0.2564, 0.2714, 0.2732, 0.2631, 0.2797, 0.2807]\n",
       "\n",
       "[1 rows x 7 columns]"
      ]
     },
     "metadata": {
      "tags": []
     },
     "output_type": "display_data"
    },
    {
     "name": "stdout",
     "output_type": "stream",
     "text": [
      "\n",
      " >> ////////////////////////////// Stomach ache ////////////////////////////// \n",
      "\n",
      "First Model Result:\n"
     ]
    },
    {
     "data": {
      "text/html": [
       "<div>\n",
       "<style scoped>\n",
       "    .dataframe tbody tr th:only-of-type {\n",
       "        vertical-align: middle;\n",
       "    }\n",
       "\n",
       "    .dataframe tbody tr th {\n",
       "        vertical-align: top;\n",
       "    }\n",
       "\n",
       "    .dataframe thead th {\n",
       "        text-align: right;\n",
       "    }\n",
       "</style>\n",
       "<table border=\"1\" class=\"dataframe\">\n",
       "  <thead>\n",
       "    <tr style=\"text-align: right;\">\n",
       "      <th></th>\n",
       "      <th>chunks</th>\n",
       "      <th>begin</th>\n",
       "      <th>end</th>\n",
       "      <th>code</th>\n",
       "      <th>all_codes</th>\n",
       "      <th>resolutions</th>\n",
       "      <th>all_distances</th>\n",
       "    </tr>\n",
       "  </thead>\n",
       "  <tbody>\n",
       "    <tr>\n",
       "      <th>0</th>\n",
       "      <td>Stomach ache</td>\n",
       "      <td>0</td>\n",
       "      <td>11</td>\n",
       "      <td>271681002</td>\n",
       "      <td>[271681002, 51197009, 82991003, 55145008, 119416008, 36349006, 53057004, 29857009]</td>\n",
       "      <td>[Stomach ache, Stomach cramps, Generalised aches and pains, Stabbing pain, Epigastric discomfort, Burning pain, Hand pain, Chest pain]</td>\n",
       "      <td>[0.0000, 0.1166, 0.1145, 0.1424, 0.1392, 0.1407, 0.1461, 0.1451]</td>\n",
       "    </tr>\n",
       "  </tbody>\n",
       "</table>\n",
       "</div>"
      ],
      "text/plain": [
       "         chunks  ...                                                     all_distances\n",
       "0  Stomach ache  ...  [0.0000, 0.1166, 0.1145, 0.1424, 0.1392, 0.1407, 0.1461, 0.1451]\n",
       "\n",
       "[1 rows x 7 columns]"
      ]
     },
     "metadata": {
      "tags": []
     },
     "output_type": "display_data"
    },
    {
     "name": "stdout",
     "output_type": "stream",
     "text": [
      "\n",
      " Second Model Result:\n"
     ]
    },
    {
     "data": {
      "text/html": [
       "<div>\n",
       "<style scoped>\n",
       "    .dataframe tbody tr th:only-of-type {\n",
       "        vertical-align: middle;\n",
       "    }\n",
       "\n",
       "    .dataframe tbody tr th {\n",
       "        vertical-align: top;\n",
       "    }\n",
       "\n",
       "    .dataframe thead th {\n",
       "        text-align: right;\n",
       "    }\n",
       "</style>\n",
       "<table border=\"1\" class=\"dataframe\">\n",
       "  <thead>\n",
       "    <tr style=\"text-align: right;\">\n",
       "      <th></th>\n",
       "      <th>chunks</th>\n",
       "      <th>begin</th>\n",
       "      <th>end</th>\n",
       "      <th>code</th>\n",
       "      <th>all_codes</th>\n",
       "      <th>resolutions</th>\n",
       "      <th>all_distances</th>\n",
       "    </tr>\n",
       "  </thead>\n",
       "  <tbody>\n",
       "    <tr>\n",
       "      <th>0</th>\n",
       "      <td>Stomach ache</td>\n",
       "      <td>0</td>\n",
       "      <td>11</td>\n",
       "      <td>271681002</td>\n",
       "      <td>[271681002, 51197009, 82991003, 55145008, 119416008, 36349006, 53057004, 29857009]</td>\n",
       "      <td>[Stomach ache, Stomach cramps, Generalised aches and pains, Stabbing pain, Epigastric discomfort, Burning pain, Hand pain, Chest pain]</td>\n",
       "      <td>[0.0000, 0.1166, 0.1145, 0.1424, 0.1392, 0.1407, 0.1461, 0.1451]</td>\n",
       "    </tr>\n",
       "  </tbody>\n",
       "</table>\n",
       "</div>"
      ],
      "text/plain": [
       "         chunks  ...                                                     all_distances\n",
       "0  Stomach ache  ...  [0.0000, 0.1166, 0.1145, 0.1424, 0.1392, 0.1407, 0.1461, 0.1451]\n",
       "\n",
       "[1 rows x 7 columns]"
      ]
     },
     "metadata": {
      "tags": []
     },
     "output_type": "display_data"
    },
    {
     "name": "stdout",
     "output_type": "stream",
     "text": [
      "\n",
      " >> ////////////////////////////// Pins and needles ////////////////////////////// \n",
      "\n",
      "First Model Result:\n"
     ]
    },
    {
     "data": {
      "text/html": [
       "<div>\n",
       "<style scoped>\n",
       "    .dataframe tbody tr th:only-of-type {\n",
       "        vertical-align: middle;\n",
       "    }\n",
       "\n",
       "    .dataframe tbody tr th {\n",
       "        vertical-align: top;\n",
       "    }\n",
       "\n",
       "    .dataframe thead th {\n",
       "        text-align: right;\n",
       "    }\n",
       "</style>\n",
       "<table border=\"1\" class=\"dataframe\">\n",
       "  <thead>\n",
       "    <tr style=\"text-align: right;\">\n",
       "      <th></th>\n",
       "      <th>chunks</th>\n",
       "      <th>begin</th>\n",
       "      <th>end</th>\n",
       "      <th>code</th>\n",
       "      <th>all_codes</th>\n",
       "      <th>resolutions</th>\n",
       "      <th>all_distances</th>\n",
       "    </tr>\n",
       "  </thead>\n",
       "  <tbody>\n",
       "    <tr>\n",
       "      <th>0</th>\n",
       "      <td>Pins and needles</td>\n",
       "      <td>0</td>\n",
       "      <td>15</td>\n",
       "      <td>62507009</td>\n",
       "      <td>[62507009, 274676007, 84480002, 3191011000036109, 271782001, 247472004, 415690000, 238810007, 3848011000036104, 80313002]</td>\n",
       "      <td>[Pins and needles, Tingling of skin, Retching, Prinivil, Drowsy, Hives, Sweating, Flushing, Pravachol, Palpitations]</td>\n",
       "      <td>[0.0000, 0.2330, 0.2453, 0.2661, 0.2651, 0.2716, 0.2638, 0.2805, 0.2894, 0.2914]</td>\n",
       "    </tr>\n",
       "  </tbody>\n",
       "</table>\n",
       "</div>"
      ],
      "text/plain": [
       "             chunks  ...                                                                     all_distances\n",
       "0  Pins and needles  ...  [0.0000, 0.2330, 0.2453, 0.2661, 0.2651, 0.2716, 0.2638, 0.2805, 0.2894, 0.2914]\n",
       "\n",
       "[1 rows x 7 columns]"
      ]
     },
     "metadata": {
      "tags": []
     },
     "output_type": "display_data"
    },
    {
     "name": "stdout",
     "output_type": "stream",
     "text": [
      "\n",
      " Second Model Result:\n"
     ]
    },
    {
     "data": {
      "text/html": [
       "<div>\n",
       "<style scoped>\n",
       "    .dataframe tbody tr th:only-of-type {\n",
       "        vertical-align: middle;\n",
       "    }\n",
       "\n",
       "    .dataframe tbody tr th {\n",
       "        vertical-align: top;\n",
       "    }\n",
       "\n",
       "    .dataframe thead th {\n",
       "        text-align: right;\n",
       "    }\n",
       "</style>\n",
       "<table border=\"1\" class=\"dataframe\">\n",
       "  <thead>\n",
       "    <tr style=\"text-align: right;\">\n",
       "      <th></th>\n",
       "      <th>chunks</th>\n",
       "      <th>begin</th>\n",
       "      <th>end</th>\n",
       "      <th>code</th>\n",
       "      <th>all_codes</th>\n",
       "      <th>resolutions</th>\n",
       "      <th>all_distances</th>\n",
       "    </tr>\n",
       "  </thead>\n",
       "  <tbody>\n",
       "    <tr>\n",
       "      <th>0</th>\n",
       "      <td>Pins and needles</td>\n",
       "      <td>0</td>\n",
       "      <td>15</td>\n",
       "      <td>62507009</td>\n",
       "      <td>[62507009, 274676007, 84480002, 3191011000036109, 271782001, 247472004, 415690000, 238810007, 3848011000036104, 80313002]</td>\n",
       "      <td>[Pins and needles, Tingling of skin, Retching, Prinivil, Drowsy, Hives, Sweating, Flushing, Pravachol, Palpitations]</td>\n",
       "      <td>[0.0000, 0.2330, 0.2453, 0.2661, 0.2651, 0.2716, 0.2638, 0.2805, 0.2894, 0.2914]</td>\n",
       "    </tr>\n",
       "  </tbody>\n",
       "</table>\n",
       "</div>"
      ],
      "text/plain": [
       "             chunks  ...                                                                     all_distances\n",
       "0  Pins and needles  ...  [0.0000, 0.2330, 0.2453, 0.2661, 0.2651, 0.2716, 0.2638, 0.2805, 0.2894, 0.2914]\n",
       "\n",
       "[1 rows x 7 columns]"
      ]
     },
     "metadata": {
      "tags": []
     },
     "output_type": "display_data"
    }
   ],
   "source": [
    "from IPython.display import display\n",
    "\n",
    "for chunk in chunk_list:\n",
    "\n",
    "    print ('\\n >>','/'*30, chunk, '/'*30, '\\n')\n",
    "    \n",
    "    print('First Model Result:')\n",
    "    display(get_codes (snomed_lp, chunk, vocab='first_code'))\n",
    "    \n",
    "    print('\\n Second Model Result:')\n",
    "    display(get_codes (snomed_lp, chunk, vocab='second_code'))"
   ]
  },
  {
   "cell_type": "markdown",
   "metadata": {
    "id": "aqb00qRaFrJ_"
   },
   "source": [
    "## Conclusion\n",
    "As you can see in the results;\n",
    "\n",
    "- The resolutions of the new added terms are at the top of the results.\n",
    "\n",
    "- The terms that we changed the concept_codes, are at the top of the resuls.\n",
    "\n",
    "- The close terms results are resolved successfully.\n",
    "\n",
    "- The terms that comes from the main dataset are resolved with the same result."
   ]
  }
 ],
 "metadata": {
  "colab": {
   "collapsed_sections": [],
   "name": "13.1.Finetuning Sentence Entity Resolver Model.ipynb",
   "provenance": []
  },
  "kernelspec": {
   "display_name": "Python 3 (ipykernel)",
   "language": "python",
   "name": "python3"
  },
  "language_info": {
   "codemirror_mode": {
    "name": "ipython",
    "version": 3
   },
   "file_extension": ".py",
   "mimetype": "text/x-python",
   "name": "python",
   "nbconvert_exporter": "python",
   "pygments_lexer": "ipython3",
   "version": "3.7.6"
  }
 },
 "nbformat": 4,
 "nbformat_minor": 1
}

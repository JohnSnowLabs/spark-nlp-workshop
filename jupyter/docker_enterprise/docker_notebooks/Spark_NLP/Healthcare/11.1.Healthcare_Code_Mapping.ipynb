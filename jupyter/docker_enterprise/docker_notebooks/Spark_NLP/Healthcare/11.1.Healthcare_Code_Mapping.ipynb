{
 "cells": [
  {
   "cell_type": "markdown",
   "metadata": {
    "id": "glAlwoLd9II2"
   },
   "source": [
    "![JohnSnowLabs](https://nlp.johnsnowlabs.com/assets/images/logo.png)\n",
    "\n",
    "[![Open In Colab](https://colab.research.google.com/assets/colab-badge.svg)](https://colab.research.google.com/github/JohnSnowLabs/spark-nlp-workshop/blob/master/tutorials/Certification_Trainings/Healthcare/11.1.Healthcare_Code_Mapping.ipynb)"
   ]
  },
  {
   "cell_type": "code",
   "execution_count": null,
   "metadata": {
    "id": "10nvJUXOJkl_"
   },
   "outputs": [],
   "source": [
    "import os\n",
    "\n",
    "jsl_secret = os.getenv('SECRET')\n",
    "\n",
    "import sparknlp\n",
    "sparknlp_version = sparknlp.version()\n",
    "import sparknlp_jsl\n",
    "jsl_version = sparknlp_jsl.version()\n",
    "\n",
    "print (jsl_secret)"
   ]
  },
  {
   "cell_type": "code",
   "execution_count": null,
   "metadata": {
    "colab": {
     "base_uri": "https://localhost:8080/"
    },
    "id": "D1HmpcpoJo3E",
    "outputId": "c3353528-1b3c-4648-9fd4-45137197b6c6"
   },
   "outputs": [
    {
     "name": "stdout",
     "output_type": "stream",
     "text": [
      "3.1.0\n",
      "3.1.1\n"
     ]
    }
   ],
   "source": [
    "import json\n",
    "import os\n",
    "import sparknlp_jsl\n",
    "import sparknlp\n",
    "from pyspark.ml import Pipeline, PipelineModel\n",
    "from sparknlp.pretrained import PretrainedPipeline\n",
    "from pyspark.sql import SparkSession\n",
    "from sparknlp.base import *\n",
    "from sparknlp.annotator import *\n",
    "from sparknlp.util import *\n",
    "from sparknlp_jsl.annotator import *\n",
    "\n",
    "params = {\"spark.driver.memory\":\"16G\",\n",
    "\"spark.kryoserializer.buffer.max\":\"2000M\",\n",
    "\"spark.driver.maxResultSize\":\"2000M\"}\n",
    "\n",
    "spark = sparknlp_jsl.start(jsl_secret,params=params)\n",
    "\n",
    "print (sparknlp.version())\n",
    "print (sparknlp_jsl.version())"
   ]
  },
  {
   "cell_type": "markdown",
   "metadata": {
    "id": "Fl-qaRiCFB5p"
   },
   "source": [
    "# HEALTHCARE CODES MAPPING BY USING PRETRAINED PIPELINES"
   ]
  },
  {
   "cell_type": "code",
   "execution_count": null,
   "metadata": {
    "id": "tNtGenvc2iIT"
   },
   "outputs": [],
   "source": [
    "from sparknlp.pretrained import PretrainedPipeline"
   ]
  },
  {
   "cell_type": "markdown",
   "metadata": {
    "id": "DT_zgN35kCy2"
   },
   "source": [
    "## 1. ICD10CM to SNOMED Code Mapping\n",
    "\n",
    "This pretrained pipeline maps ICD10CM codes to SNOMED codes without using any text data. You’ll just feed a comma or white space delimited ICD10CM codes and it will return the corresponding SNOMED codes as a list. For the time being, it supports 132K Snomed codes and will be augmented & enriched in the next releases."
   ]
  },
  {
   "cell_type": "code",
   "execution_count": null,
   "metadata": {
    "colab": {
     "base_uri": "https://localhost:8080/"
    },
    "id": "AU090GkuF5G_",
    "outputId": "58a3671f-09ff-402e-a55c-2527f1e78b85"
   },
   "outputs": [
    {
     "name": "stdout",
     "output_type": "stream",
     "text": [
      "icd10cm_snomed_mapping download started this may take some time.\n",
      "Approx size to download 514.5 KB\n",
      "[OK!]\n"
     ]
    }
   ],
   "source": [
    "icd10_snomed_pipeline = PretrainedPipeline(\"icd10cm_snomed_mapping\", \"en\", \"clinical/models\")"
   ]
  },
  {
   "cell_type": "code",
   "execution_count": null,
   "metadata": {
    "colab": {
     "base_uri": "https://localhost:8080/"
    },
    "id": "N5ei7EUX1D79",
    "outputId": "1c3a8fc6-7b40-40b6-e78f-230fee36a69e"
   },
   "outputs": [
    {
     "data": {
      "text/plain": [
       "[DocumentAssembler_effe917bc86b,\n",
       " REGEX_TOKENIZER_a2e7a20a20d4,\n",
       " LEMMATIZER_0ca0f7005a90,\n",
       " Finisher_07470acb09e3]"
      ]
     },
     "execution_count": 6,
     "metadata": {
      "tags": []
     },
     "output_type": "execute_result"
    }
   ],
   "source": [
    "icd10_snomed_pipeline.model.stages"
   ]
  },
  {
   "cell_type": "code",
   "execution_count": null,
   "metadata": {
    "colab": {
     "base_uri": "https://localhost:8080/"
    },
    "id": "tgF3D4Eu1GvT",
    "outputId": "e575274a-bbf5-44c7-f6c0-c5b452560aae"
   },
   "outputs": [
    {
     "data": {
      "text/plain": [
       "{'icd10cm': ['M89.50', 'I288', 'H16269'],\n",
       " 'snomed': ['733187009', '449433008', '51264003']}"
      ]
     },
     "execution_count": 7,
     "metadata": {
      "tags": []
     },
     "output_type": "execute_result"
    }
   ],
   "source": [
    "icd10_snomed_pipeline.annotate('M89.50 I288 H16269')"
   ]
  },
  {
   "cell_type": "markdown",
   "metadata": {
    "id": "WJ96Cz0g1JBq"
   },
   "source": [
    "|**ICD10CM** | **Details** | \n",
    "| ---------- | -----------:|\n",
    "| M89.50 |  Osteolysis, unspecified site |\n",
    "| I288 | Other diseases of pulmonary vessels |\n",
    "| H16269 | Vernal keratoconjunctivitis, with limbar and corneal involvement, unspecified eye |\n",
    "\n",
    "| **SNOMED** | **Details** |\n",
    "| ---------- | -----------:|\n",
    "| 733187009 | Osteolysis following surgical procedure on skeletal system |\n",
    "| 449433008 | Diffuse stenosis of left pulmonary artery |\n",
    "| 51264003 | Limbal AND/OR corneal involvement in vernal conjunctivitis |"
   ]
  },
  {
   "cell_type": "markdown",
   "metadata": {
    "id": "pexEzXUR1QVA"
   },
   "source": [
    "## 2. SNOMED to ICD10CM Code Mapping\n",
    "\n",
    "This pretrained pipeline maps SNOMED codes to ICD10CM codes without using any text data. You'll just feed a comma or white space delimited SNOMED codes and it will return the corresponding candidate ICD10CM codes as a list (multiple ICD10 codes for each Snomed code). For the time being, it supports 132K Snomed codes and 30K ICD10 codes and will be augmented & enriched in the next releases."
   ]
  },
  {
   "cell_type": "code",
   "execution_count": null,
   "metadata": {
    "colab": {
     "base_uri": "https://localhost:8080/"
    },
    "id": "PzmLZkEIf_io",
    "outputId": "a572bafd-fb8a-40d1-cb9b-0606d9a1b259"
   },
   "outputs": [
    {
     "name": "stdout",
     "output_type": "stream",
     "text": [
      "snomed_icd10cm_mapping download started this may take some time.\n",
      "Approx size to download 1.8 MB\n",
      "[OK!]\n"
     ]
    }
   ],
   "source": [
    "snomed_icd10_pipeline = PretrainedPipeline(\"snomed_icd10cm_mapping\",\"en\",\"clinical/models\")"
   ]
  },
  {
   "cell_type": "code",
   "execution_count": null,
   "metadata": {
    "colab": {
     "base_uri": "https://localhost:8080/"
    },
    "id": "3NwM9_KegkN4",
    "outputId": "f823a585-6f70-4b30-cbd0-42553b1f1104"
   },
   "outputs": [
    {
     "data": {
      "text/plain": [
       "[DocumentAssembler_136f968cb1ef,\n",
       " REGEX_TOKENIZER_ecc8d3a8dbc9,\n",
       " LEMMATIZER_e9ae88d69d05,\n",
       " Finisher_790dd28aacd1]"
      ]
     },
     "execution_count": 9,
     "metadata": {
      "tags": []
     },
     "output_type": "execute_result"
    }
   ],
   "source": [
    "snomed_icd10_pipeline.model.stages"
   ]
  },
  {
   "cell_type": "code",
   "execution_count": null,
   "metadata": {
    "colab": {
     "base_uri": "https://localhost:8080/"
    },
    "id": "8eIIYB56kCVI",
    "outputId": "d36b4602-05b3-4eaf-c2db-4f86f69d925c"
   },
   "outputs": [
    {
     "data": {
      "text/plain": [
       "{'icd10cm': ['M89.59, M89.50, M96.89',\n",
       "  'Q25.6, I28.8',\n",
       "  'H10.45, H10.1, H16.269'],\n",
       " 'snomed': ['733187009', '449433008', '51264003']}"
      ]
     },
     "execution_count": 10,
     "metadata": {
      "tags": []
     },
     "output_type": "execute_result"
    }
   ],
   "source": [
    "snomed_icd10_pipeline.annotate('733187009 449433008 51264003')"
   ]
  },
  {
   "cell_type": "markdown",
   "metadata": {
    "id": "NRCHks681oDa"
   },
   "source": [
    "| **SNOMED** | **Details** |\n",
    "| ------ | ------:|\n",
    "| 733187009| Osteolysis following surgical procedure on skeletal system |\n",
    "| 449433008 | Diffuse stenosis of left pulmonary artery |\n",
    "| 51264003 | Limbal AND/OR corneal involvement in vernal conjunctivitis|\n",
    "\n",
    "| **ICDM10CM** | **Details** |  \n",
    "| ---------- | ---------:|\n",
    "| M89.59 | Osteolysis, multiple sites |  \n",
    "| M89.50 | Osteolysis, unspecified site |\n",
    "| M96.89 | Other intraoperative and postprocedural complications and disorders of the musculoskeletal system | \n",
    "| Q25.6 | Stenosis of pulmonary artery |    \n",
    "| I28.8 | Other diseases of pulmonary vessels |\n",
    "| H10.45 | Other chronic allergic conjunctivitis |\n",
    "| H10.1 | Acute atopic conjunctivitis | \n",
    "| H16.269 | Vernal keratoconjunctivitis, with limbar and corneal involvement, unspecified eye |"
   ]
  },
  {
   "cell_type": "markdown",
   "metadata": {
    "id": "v7ObC0PY2Lyl"
   },
   "source": [
    "## 3. ICD10CM to UMLS Code Mapping\n",
    "\n",
    "This pretrained pipeline maps ICD10CM codes to UMLS codes without using any text data. You’ll just feed white space delimited ICD10CM codes and it will return the corresponding UMLS codes as a list. If there is no mapping, the original code is returned with no mapping."
   ]
  },
  {
   "cell_type": "code",
   "execution_count": null,
   "metadata": {
    "colab": {
     "base_uri": "https://localhost:8080/"
    },
    "id": "59P47ew52dJb",
    "outputId": "278fa77a-639b-4497-99fe-eedb67920d27"
   },
   "outputs": [
    {
     "name": "stdout",
     "output_type": "stream",
     "text": [
      "icd10cm_umls_mapping download started this may take some time.\n",
      "Approx size to download 897.8 KB\n",
      "[OK!]\n"
     ]
    }
   ],
   "source": [
    "icd10_umls_pipeline = PretrainedPipeline( \"icd10cm_umls_mapping\",\"en\",\"clinical/models\")"
   ]
  },
  {
   "cell_type": "code",
   "execution_count": null,
   "metadata": {
    "colab": {
     "base_uri": "https://localhost:8080/"
    },
    "id": "lsTRf6L84lS9",
    "outputId": "5874ded2-3188-4760-ae1d-39fcc04e27c9"
   },
   "outputs": [
    {
     "data": {
      "text/plain": [
       "[DocumentAssembler_321db079dcc3,\n",
       " REGEX_TOKENIZER_cfa82a0b8d92,\n",
       " LEMMATIZER_da9a62c0c58e,\n",
       " Finisher_cd27b2ac8b2c]"
      ]
     },
     "execution_count": 12,
     "metadata": {
      "tags": []
     },
     "output_type": "execute_result"
    }
   ],
   "source": [
    "icd10_umls_pipeline.model.stages"
   ]
  },
  {
   "cell_type": "code",
   "execution_count": null,
   "metadata": {
    "colab": {
     "base_uri": "https://localhost:8080/"
    },
    "id": "7zewPsIh159o",
    "outputId": "3f5ed95c-357b-4dea-806e-e48f67119271"
   },
   "outputs": [
    {
     "data": {
      "text/plain": [
       "{'icd10cm': ['M89.50', 'R82.2', 'R09.01'],\n",
       " 'umls': ['C4721411', 'C0159076', 'C0004044']}"
      ]
     },
     "execution_count": 13,
     "metadata": {
      "tags": []
     },
     "output_type": "execute_result"
    }
   ],
   "source": [
    "icd10_umls_pipeline.annotate(\"M89.50 R82.2 R09.01\")"
   ]
  },
  {
   "cell_type": "markdown",
   "metadata": {
    "id": "1vWoupDw_4sV"
   },
   "source": [
    "|**ICD10CM** | **Details** | \n",
    "| ---------- | -----------:|\n",
    "| M89.50 |  Osteolysis, unspecified site |\n",
    "| R82.2 | Biliuria |\n",
    "| R09.01 | Asphyxia |\n",
    "\n",
    "| **UMLS** | **Details** |\n",
    "| ---------- | -----------:|\n",
    "| C4721411 | osteolysis |\n",
    "| C0159076 | Biliuria |\n",
    "| C0004044 | Asphyxia |"
   ]
  },
  {
   "cell_type": "markdown",
   "metadata": {
    "id": "peoHROwU3s4h"
   },
   "source": [
    "## 4. SNOMED to UMLS Code Mapping\n",
    "\n",
    "This pretrained pipeline maps SNOMED codes to UMLS codes without using any text data. You’ll just feed white space delimited SNOMED codes and it will return the corresponding UMLS codes as a list. If there is no mapping, the original code is returned with no mapping."
   ]
  },
  {
   "cell_type": "code",
   "execution_count": null,
   "metadata": {
    "colab": {
     "base_uri": "https://localhost:8080/"
    },
    "id": "52QHba1LhNKT",
    "outputId": "78980a2c-6850-4d05-8784-3c3bc0ae12c7"
   },
   "outputs": [
    {
     "name": "stdout",
     "output_type": "stream",
     "text": [
      "snomed_umls_mapping download started this may take some time.\n",
      "Approx size to download 4.6 MB\n",
      "[OK!]\n"
     ]
    }
   ],
   "source": [
    "snomed_umls_pipeline = PretrainedPipeline( \"snomed_umls_mapping\",\"en\",\"clinical/models\")"
   ]
  },
  {
   "cell_type": "code",
   "execution_count": null,
   "metadata": {
    "colab": {
     "base_uri": "https://localhost:8080/"
    },
    "id": "B0mO9gfE4qG4",
    "outputId": "6e68ecff-3cc7-48b1-f913-a67f73d2e600"
   },
   "outputs": [
    {
     "data": {
      "text/plain": [
       "[DocumentAssembler_b2ae33f2655e,\n",
       " REGEX_TOKENIZER_d517b2cf8024,\n",
       " LEMMATIZER_42d9736d37e4,\n",
       " Finisher_a8f2c3917be5]"
      ]
     },
     "execution_count": 15,
     "metadata": {
      "tags": []
     },
     "output_type": "execute_result"
    }
   ],
   "source": [
    "snomed_umls_pipeline.model.stages"
   ]
  },
  {
   "cell_type": "code",
   "execution_count": null,
   "metadata": {
    "colab": {
     "base_uri": "https://localhost:8080/"
    },
    "id": "_ZSNj4-6hUb9",
    "outputId": "d3786679-2f15-4060-89bc-7e4432d3b2f7"
   },
   "outputs": [
    {
     "data": {
      "text/plain": [
       "{'snomed': ['733187009', '449433008', '51264003'],\n",
       " 'umls': ['C4546029', 'C3164619', 'C0271267']}"
      ]
     },
     "execution_count": 16,
     "metadata": {
      "tags": []
     },
     "output_type": "execute_result"
    }
   ],
   "source": [
    "snomed_umls_pipeline.annotate('733187009 449433008 51264003')"
   ]
  },
  {
   "cell_type": "markdown",
   "metadata": {
    "id": "e5qYdIEv4JPL"
   },
   "source": [
    "|**SNOMED** | **Details** | \n",
    "| ---------- | -----------:|\n",
    "| 733187009 | osteolysis following surgical procedure on skeletal system |\n",
    "| 449433008 | Diffuse stenosis of left pulmonary artery |\n",
    "| 51264003 | Limbal AND/OR corneal involvement in vernal conjunctivitis |\n",
    "\n",
    "| **UMLS** | **Details** |\n",
    "| ---------- | -----------:|\n",
    "| C4546029 | osteolysis following surgical procedure on skeletal system |\n",
    "| C3164619 | diffuse stenosis of left pulmonary artery |\n",
    "| C0271267 | limbal and/or corneal involvement in vernal conjunctivitis |"
   ]
  },
  {
   "cell_type": "markdown",
   "metadata": {
    "id": "7HN0u38B4OkU"
   },
   "source": [
    "## 5. RXNORM to UMLS Code Mapping\n",
    "\n",
    "This pretrained pipeline maps RxNorm codes to UMLS codes without using any text data. You’ll just feed white space-delimited RxNorm codes and it will return the corresponding UMLS codes as a list. If there is no mapping, the original code is returned with no mapping."
   ]
  },
  {
   "cell_type": "code",
   "execution_count": null,
   "metadata": {
    "colab": {
     "base_uri": "https://localhost:8080/"
    },
    "id": "m2qkwxXijweG",
    "outputId": "76a302bd-bd2d-496f-c2bb-d57cbb3ac7cc"
   },
   "outputs": [
    {
     "name": "stdout",
     "output_type": "stream",
     "text": [
      "rxnorm_umls_mapping download started this may take some time.\n",
      "Approx size to download 1.8 MB\n",
      "[OK!]\n"
     ]
    }
   ],
   "source": [
    "rxnorm_umls_pipeline = PretrainedPipeline( \"rxnorm_umls_mapping\",\"en\",\"clinical/models\")"
   ]
  },
  {
   "cell_type": "code",
   "execution_count": null,
   "metadata": {
    "colab": {
     "base_uri": "https://localhost:8080/"
    },
    "id": "ExcCU2id4vK1",
    "outputId": "7d1c79e9-538a-4a13-8e63-90e1ffea2da0"
   },
   "outputs": [
    {
     "data": {
      "text/plain": [
       "[DocumentAssembler_8a4aba7aa2d6,\n",
       " REGEX_TOKENIZER_be27abc336fd,\n",
       " LEMMATIZER_93482244f96b,\n",
       " Finisher_9440fd80a5d9]"
      ]
     },
     "execution_count": 18,
     "metadata": {
      "tags": []
     },
     "output_type": "execute_result"
    }
   ],
   "source": [
    "rxnorm_umls_pipeline.model.stages"
   ]
  },
  {
   "cell_type": "code",
   "execution_count": null,
   "metadata": {
    "colab": {
     "base_uri": "https://localhost:8080/"
    },
    "id": "4VHq1Wijj4kC",
    "outputId": "57ba6b13-12bc-4b02-824d-23373c6011f0"
   },
   "outputs": [
    {
     "data": {
      "text/plain": [
       "{'rxnorm': ['1161611', '315677', '343663'],\n",
       " 'umls': ['C3215948', 'C0984912', 'C1146501']}"
      ]
     },
     "execution_count": 19,
     "metadata": {
      "tags": []
     },
     "output_type": "execute_result"
    }
   ],
   "source": [
    "rxnorm_umls_pipeline.annotate(\"1161611 315677 343663\")"
   ]
  },
  {
   "cell_type": "markdown",
   "metadata": {
    "id": "3dr-PkwU5XT7"
   },
   "source": [
    "|**RxNorm** | **Details** | \n",
    "| ---------- | -----------:|\n",
    "| 1161611 |  metformin Pill |\n",
    "| 315677 | cimetidine 100 mg |\n",
    "| 343663 | insulin lispro 50 UNT/ML |\n",
    "\n",
    "| **UMLS** | **Details** |\n",
    "| ---------- | -----------:|\n",
    "| C3215948 | metformin pill |\n",
    "| C0984912 | cimetidine 100 mg |\n",
    "| C1146501 | insulin lispro 50 unt/ml |"
   ]
  },
  {
   "cell_type": "markdown",
   "metadata": {
    "id": "FCfxbiR04iER"
   },
   "source": [
    "## 6. MESH to UMLS Code Mapping\n",
    "\n",
    "This pretrained pipeline maps MeSH codes to UMLS codes without using any text data. You’ll just feed white space delimited MeSH codes and it will return the corresponding UMLS codes as a list. If there is no mapping, the original code is returned with no mapping."
   ]
  },
  {
   "cell_type": "code",
   "execution_count": null,
   "metadata": {
    "colab": {
     "base_uri": "https://localhost:8080/"
    },
    "id": "PQT8VgD9mQ04",
    "outputId": "4f7eefa9-bef7-4bda-9e56-4bac9ffa350f"
   },
   "outputs": [
    {
     "name": "stdout",
     "output_type": "stream",
     "text": [
      "mesh_umls_mapping download started this may take some time.\n",
      "Approx size to download 2.6 MB\n",
      "[OK!]\n"
     ]
    }
   ],
   "source": [
    "mesh_umls_pipeline = PretrainedPipeline( \"mesh_umls_mapping\",\"en\",\"clinical/models\")"
   ]
  },
  {
   "cell_type": "code",
   "execution_count": null,
   "metadata": {
    "colab": {
     "base_uri": "https://localhost:8080/"
    },
    "id": "BM2nR5_G5pYp",
    "outputId": "5cf5adaa-6107-4571-964a-3256717f9d95"
   },
   "outputs": [
    {
     "data": {
      "text/plain": [
       "[DocumentAssembler_0ebc1b554d55,\n",
       " REGEX_TOKENIZER_912f3f1caa74,\n",
       " LEMMATIZER_971946054af9,\n",
       " Finisher_0119071594da]"
      ]
     },
     "execution_count": 21,
     "metadata": {
      "tags": []
     },
     "output_type": "execute_result"
    }
   ],
   "source": [
    "mesh_umls_pipeline.model.stages"
   ]
  },
  {
   "cell_type": "code",
   "execution_count": null,
   "metadata": {
    "colab": {
     "base_uri": "https://localhost:8080/"
    },
    "id": "lAgVLp0AmZb1",
    "outputId": "711e586c-cf73-4abf-98ac-c6eabf49cc91"
   },
   "outputs": [
    {
     "data": {
      "text/plain": [
       "{'mesh': ['C028491', 'D019326', 'C579867'],\n",
       " 'umls': ['C0970275', 'C0886627', 'C3696376']}"
      ]
     },
     "execution_count": 22,
     "metadata": {
      "tags": []
     },
     "output_type": "execute_result"
    }
   ],
   "source": [
    "mesh_umls_pipeline.annotate(\"C028491 D019326 C579867\")"
   ]
  },
  {
   "cell_type": "markdown",
   "metadata": {
    "id": "lcoTDMcI5wmz"
   },
   "source": [
    "|**MeSH** | **Details** | \n",
    "| ---------- | -----------:|\n",
    "| C028491 |  1,3-butylene glycol |\n",
    "| D019326 | 17-alpha-Hydroxyprogesterone |\n",
    "| C579867 | 3-Methylglutaconic Aciduria |\n",
    "\n",
    "| **UMLS** | **Details** |\n",
    "| ---------- | -----------:|\n",
    "| C0970275 | 1,3-butylene glycol |\n",
    "| C0886627 | 17-hydroxyprogesterone |\n",
    "| C3696376 | 3-methylglutaconic aciduria |"
   ]
  },
  {
   "cell_type": "markdown",
   "metadata": {
    "id": "POZtAyb650FP"
   },
   "source": [
    "## 7. RXNORM to MESH Code Mapping\n",
    "\n",
    "This pretrained pipeline maps RxNorm codes to MeSH codes without using any text data. You’ll just feed white space-delimited RxNorm codes and it will return the corresponding MeSH codes as a list. If there is no mapping, the original code is returned with no mapping."
   ]
  },
  {
   "cell_type": "code",
   "execution_count": null,
   "metadata": {
    "colab": {
     "base_uri": "https://localhost:8080/"
    },
    "id": "iN5cwIg-wj4q",
    "outputId": "f9a67d83-cd89-4946-db3e-511186f4c390"
   },
   "outputs": [
    {
     "name": "stdout",
     "output_type": "stream",
     "text": [
      "rxnorm_mesh_mapping download started this may take some time.\n",
      "Approx size to download 101.2 KB\n",
      "[OK!]\n"
     ]
    }
   ],
   "source": [
    "rxnorm_mesh_pipeline = PretrainedPipeline( \"rxnorm_mesh_mapping\",\"en\",\"clinical/models\")"
   ]
  },
  {
   "cell_type": "code",
   "execution_count": null,
   "metadata": {
    "colab": {
     "base_uri": "https://localhost:8080/"
    },
    "id": "E1q_o0ql6J82",
    "outputId": "e39d087f-8506-4752-a6de-129427adbc63"
   },
   "outputs": [
    {
     "data": {
      "text/plain": [
       "[DocumentAssembler_d554433bf767,\n",
       " REGEX_TOKENIZER_91752b58618c,\n",
       " LEMMATIZER_568c2c2ed9f2,\n",
       " Finisher_9aef0b33bc5c]"
      ]
     },
     "execution_count": 24,
     "metadata": {
      "tags": []
     },
     "output_type": "execute_result"
    }
   ],
   "source": [
    "rxnorm_mesh_pipeline.model.stages"
   ]
  },
  {
   "cell_type": "code",
   "execution_count": null,
   "metadata": {
    "colab": {
     "base_uri": "https://localhost:8080/"
    },
    "id": "XQQyZ_NUwjLo",
    "outputId": "f712c026-0a00-4d9d-fd00-e143d8965b91"
   },
   "outputs": [
    {
     "data": {
      "text/plain": [
       "{'mesh': ['D001241', 'D008687', 'D019355'],\n",
       " 'rxnorm': ['1191', '6809', '47613']}"
      ]
     },
     "execution_count": 25,
     "metadata": {
      "tags": []
     },
     "output_type": "execute_result"
    }
   ],
   "source": [
    "rxnorm_mesh_pipeline.annotate(\"1191 6809 47613\")"
   ]
  },
  {
   "cell_type": "markdown",
   "metadata": {
    "id": "Ub7QLdr46OkO"
   },
   "source": [
    "|**RxNorm** | **Details** | \n",
    "| ---------- | -----------:|\n",
    "| 1191 |  aspirin |\n",
    "| 6809 | metformin |\n",
    "| 47613 | calcium citrate |\n",
    "\n",
    "| **MeSH** | **Details** |\n",
    "| ---------- | -----------:|\n",
    "| D001241 | Aspirin |\n",
    "| D008687 | Metformin |\n",
    "| D019355 | Calcium Citrate |"
   ]
  }
 ],
 "metadata": {
  "colab": {
   "collapsed_sections": [],
   "name": "11.1.Healthcare_Code_Mapping.ipynb",
   "provenance": []
  },
  "kernelspec": {
   "display_name": "Python 3 (ipykernel)",
   "language": "python",
   "name": "python3"
  },
  "language_info": {
   "codemirror_mode": {
    "name": "ipython",
    "version": 3
   },
   "file_extension": ".py",
   "mimetype": "text/x-python",
   "name": "python",
   "nbconvert_exporter": "python",
   "pygments_lexer": "ipython3",
   "version": "3.7.6"
  }
 },
 "nbformat": 4,
 "nbformat_minor": 1
}

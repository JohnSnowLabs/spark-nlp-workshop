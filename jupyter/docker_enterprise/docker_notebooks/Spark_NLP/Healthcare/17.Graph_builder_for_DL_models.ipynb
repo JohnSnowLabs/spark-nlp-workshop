{
 "cells": [
  {
   "cell_type": "markdown",
   "metadata": {
    "id": "5bHs35r8vp4O"
   },
   "source": [
    "![JohnSnowLabs](https://nlp.johnsnowlabs.com/assets/images/logo.png)"
   ]
  },
  {
   "cell_type": "markdown",
   "metadata": {
    "id": "bpXE1HYWvwIP"
   },
   "source": [
    "[![Open In Colab](https://colab.research.google.com/assets/colab-badge.svg)](https://colab.research.google.com/github/JohnSnowLabs/spark-nlp-workshop/blob/master/tutorials/Certification_Trainings/Healthcare/17.Graph_builder_for_DL_models.ipynb)"
   ]
  },
  {
   "cell_type": "code",
   "execution_count": null,
   "metadata": {
    "id": "Mqav-nsJOPkO"
   },
   "outputs": [],
   "source": [
    "import os\n",
    "\n",
    "jsl_secret = os.getenv('SECRET')\n",
    "\n",
    "import sparknlp\n",
    "sparknlp_version = sparknlp.version()\n",
    "import sparknlp_jsl\n",
    "jsl_version = sparknlp_jsl.version()\n",
    "\n",
    "print (jsl_secret)"
   ]
  },
  {
   "cell_type": "code",
   "execution_count": null,
   "metadata": {
    "id": "WEreWOOOtANE"
   },
   "outputs": [],
   "source": [
    "from sparknlp_jsl.training import tf_graph\n",
    "\n",
    "\n",
    "# before sparknlp_jsl 3.2.1 version run the code below\n",
    "# %tensorflow_version 1.x"
   ]
  },
  {
   "cell_type": "code",
   "execution_count": null,
   "metadata": {
    "colab": {
     "base_uri": "https://localhost:8080/"
    },
    "id": "JN0iIGRAtI_w",
    "outputId": "1477759c-e2e5-47d5-9000-eeb5f446175a"
   },
   "outputs": [
    {
     "data": {
      "text/plain": [
       "['ner_dl', 'generic_classifier', 'assertion_dl', 'relation_extraction']"
      ]
     },
     "execution_count": 4,
     "metadata": {
      "tags": []
     },
     "output_type": "execute_result"
    }
   ],
   "source": [
    "tf_graph.get_models()\n"
   ]
  },
  {
   "cell_type": "markdown",
   "metadata": {
    "id": "PmLZFHewvapj"
   },
   "source": [
    "## NER_DL"
   ]
  },
  {
   "cell_type": "code",
   "execution_count": null,
   "metadata": {
    "colab": {
     "base_uri": "https://localhost:8080/"
    },
    "id": "FNW8EJ-ht7-4",
    "outputId": "90859d9e-919c-4b6e-88f1-55a04f07ef18"
   },
   "outputs": [
    {
     "name": "stdout",
     "output_type": "stream",
     "text": [
      "ner_dl parameters.\n",
      "Parameter            Required   Default value        Description\n",
      "ntags                yes        -                    Number of tags.\n",
      "embeddings_dim       no         200                  Embeddings dimension.\n",
      "nchars               no         100                  Number of chars.\n",
      "lstm_size            no         128                  Number of LSTM units.\n",
      "gpu_device           no         0                    Device for training.\n",
      "is_medical           no         0                    Build a Medical Ner graph.\n"
     ]
    }
   ],
   "source": [
    "tf_graph.print_model_params(\"ner_dl\")\n"
   ]
  },
  {
   "cell_type": "code",
   "execution_count": null,
   "metadata": {
    "id": "jPOjkADCt9U8"
   },
   "outputs": [],
   "source": [
    "tf_graph.build(\"ner_dl\",build_params={\"embeddings_dim\": 200, \"nchars\": 80, \"ntags\": 12, \"is_medical\": 1}, model_location=\"./medical_ner_graphs\", model_filename=\"auto\")"
   ]
  },
  {
   "cell_type": "markdown",
   "metadata": {
    "id": "peKE7_zLvdwg"
   },
   "source": [
    "## AssertionDL"
   ]
  },
  {
   "cell_type": "code",
   "execution_count": null,
   "metadata": {
    "colab": {
     "base_uri": "https://localhost:8080/"
    },
    "id": "92En8saVuGRk",
    "outputId": "dbc735e0-8c0d-491f-eede-ff644396086f"
   },
   "outputs": [
    {
     "name": "stdout",
     "output_type": "stream",
     "text": [
      "assertion_dl parameters.\n",
      "Parameter            Required   Default value        Description\n",
      "max_seq_len          no         250                  Maximum sequence length.\n",
      "feat_size            no         200                  Feature size.\n",
      "n_classes            yes        -                    Number of classes.\n",
      "device               no         /cpu:0               Device for training.\n",
      "n_hidden             no         34                   Number of hidden units.\n"
     ]
    }
   ],
   "source": [
    "tf_graph.print_model_params(\"assertion_dl\")\n"
   ]
  },
  {
   "cell_type": "code",
   "execution_count": null,
   "metadata": {
    "id": "FZ0aQhKnuxxC"
   },
   "outputs": [],
   "source": [
    "tf_graph.build(\"assertion_dl\",build_params={\"n_classes\": 10}, model_location=\"/tmp\", model_filename=\"auto\")"
   ]
  },
  {
   "cell_type": "markdown",
   "metadata": {
    "id": "DUb9viOAvgcj"
   },
   "source": [
    "## GenericClassifier"
   ]
  },
  {
   "cell_type": "code",
   "execution_count": null,
   "metadata": {
    "colab": {
     "base_uri": "https://localhost:8080/"
    },
    "id": "u9pi5wt9uzDM",
    "outputId": "f43e4a21-e383-48b5-a85c-dc41ade5192d"
   },
   "outputs": [
    {
     "name": "stdout",
     "output_type": "stream",
     "text": [
      "generic_classifier parameters.\n",
      "Parameter            Required   Default value        Description\n",
      "hidden_layers        no         [200]                List of integers indicating the size of each hidden layer. For example: [100, 200, 300].\n",
      "input_dim            yes        -                    Input dimension.\n",
      "output_dim           yes        -                    Output dimension.\n",
      "hidden_act           no         relu                 Activation function of hidden layers: relu, sigmoid, tanh or linear.\n",
      "hidden_act_l2        no         0                    L2 regularization of hidden layer activations. Boolean (0 or 1).\n",
      "hidden_weights_l2    no         0                    L2 regularization of hidden layer weights. Boolean (0 or 1).\n",
      "batch_norm           no         0                    Batch normalization. Boolean (0 or 1).\n"
     ]
    }
   ],
   "source": [
    "tf_graph.print_model_params(\"generic_classifier\")\n"
   ]
  },
  {
   "cell_type": "code",
   "execution_count": null,
   "metadata": {
    "colab": {
     "base_uri": "https://localhost:8080/"
    },
    "id": "ZGJTbbjvvO-P",
    "outputId": "8d8432c7-ae2b-4818-87a4-b8e69dbc52b4"
   },
   "outputs": [
    {
     "name": "stdout",
     "output_type": "stream",
     "text": [
      "generic_classifier graph exported to /tmp/gcl.100.10.pb\n"
     ]
    }
   ],
   "source": [
    "tf_graph.build(\"generic_classifier\",build_params={\"input_dim\": 100, \"output_dim\": 10, \"hidden_layers\": [300, 200, 100], \"hidden_act\": \"tanh\"}, model_location=\"/tmp\", model_filename=\"auto\")"
   ]
  },
  {
   "cell_type": "markdown",
   "metadata": {
    "id": "hVJ4-hNHvjVU"
   },
   "source": [
    "## RelationExtraction"
   ]
  },
  {
   "cell_type": "code",
   "execution_count": null,
   "metadata": {
    "colab": {
     "base_uri": "https://localhost:8080/"
    },
    "id": "ib9kczwzvQkQ",
    "outputId": "3b97a6f8-a156-468a-fe43-349f7708dfb6"
   },
   "outputs": [
    {
     "name": "stdout",
     "output_type": "stream",
     "text": [
      "relation_extraction parameters.\n",
      "Parameter            Required   Default value        Description\n",
      "hidden_layers        no         [200]                List of integers indicating the size of each hidden layer. For example: [100, 200, 300].\n",
      "input_dim            yes        -                    Input dimension.\n",
      "output_dim           yes        -                    Output dimension.\n",
      "hidden_act           no         relu                 Activation function of hidden layers: relu, sigmoid, tanh or linear.\n",
      "hidden_act_l2        no         0                    L2 regularization of hidden layer activations. Boolean (0 or 1).\n",
      "hidden_weights_l2    no         0                    L2 regularization of hidden layer weights. Boolean (0 or 1).\n",
      "batch_norm           no         0                    Batch normalization. Boolean (0 or 1).\n"
     ]
    }
   ],
   "source": [
    "tf_graph.print_model_params(\"relation_extraction\")\n"
   ]
  },
  {
   "cell_type": "code",
   "execution_count": null,
   "metadata": {
    "colab": {
     "base_uri": "https://localhost:8080/"
    },
    "id": "uoa_et-YvTmc",
    "outputId": "97c415c0-ffaf-4700-b0b7-ddadd5fca8ed"
   },
   "outputs": [
    {
     "name": "stdout",
     "output_type": "stream",
     "text": [
      "relation_extraction graph exported to ./re_with_BN\n"
     ]
    }
   ],
   "source": [
    "tf_graph.build(\"relation_extraction\",build_params={\"input_dim\": 6000, \"output_dim\": 3, 'batch_norm':1, \"hidden_layers\": [300, 200], \"hidden_act\": \"relu\", 'hidden_act_l2':1}, model_location=\".\", model_filename=\"re_with_BN\")"
   ]
  }
 ],
 "metadata": {
  "colab": {
   "collapsed_sections": [],
   "name": "17.Graph_builder_for_DL_models.ipynb",
   "provenance": []
  },
  "kernelspec": {
   "display_name": "Python 3 (ipykernel)",
   "language": "python",
   "name": "python3"
  },
  "language_info": {
   "codemirror_mode": {
    "name": "ipython",
    "version": 3
   },
   "file_extension": ".py",
   "mimetype": "text/x-python",
   "name": "python",
   "nbconvert_exporter": "python",
   "pygments_lexer": "ipython3",
   "version": "3.7.6"
  }
 },
 "nbformat": 4,
 "nbformat_minor": 1
}
